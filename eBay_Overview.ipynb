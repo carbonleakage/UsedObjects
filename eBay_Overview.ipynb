{
 "cells": [
  {
   "cell_type": "code",
   "execution_count": 1,
   "id": "reverse-picking",
   "metadata": {
    "execution": {
     "iopub.execute_input": "2021-11-03T12:00:08.374711Z",
     "iopub.status.busy": "2021-11-03T12:00:08.372420Z",
     "iopub.status.idle": "2021-11-03T12:00:09.328148Z",
     "shell.execute_reply": "2021-11-03T12:00:09.329771Z"
    },
    "papermill": {
     "duration": 1.005068,
     "end_time": "2021-11-03T12:00:09.330499",
     "exception": false,
     "start_time": "2021-11-03T12:00:08.325431",
     "status": "completed"
    },
    "tags": []
   },
   "outputs": [],
   "source": [
    "import pandas as pd\n",
    "import sqlite3"
   ]
  },
  {
   "cell_type": "code",
   "execution_count": 2,
   "id": "innovative-syndrome",
   "metadata": {
    "execution": {
     "iopub.execute_input": "2021-11-03T12:00:09.391933Z",
     "iopub.status.busy": "2021-11-03T12:00:09.389594Z",
     "iopub.status.idle": "2021-11-03T12:00:10.097729Z",
     "shell.execute_reply": "2021-11-03T12:00:10.099391Z"
    },
    "papermill": {
     "duration": 0.742017,
     "end_time": "2021-11-03T12:00:10.099907",
     "exception": false,
     "start_time": "2021-11-03T12:00:09.357890",
     "status": "completed"
    },
    "tags": []
   },
   "outputs": [],
   "source": [
    "timestamps = pd.read_sql(\"select distinct record_time from EBAY_TOP_BERLIN order by record_time desc limit 2\", sqlite3.connect(\"UsedObjects.db\"))"
   ]
  },
  {
   "cell_type": "code",
   "execution_count": 3,
   "id": "periodic-identification",
   "metadata": {
    "execution": {
     "iopub.execute_input": "2021-11-03T12:00:10.175858Z",
     "iopub.status.busy": "2021-11-03T12:00:10.169321Z",
     "iopub.status.idle": "2021-11-03T12:00:10.193145Z",
     "shell.execute_reply": "2021-11-03T12:00:10.195192Z"
    },
    "papermill": {
     "duration": 0.075801,
     "end_time": "2021-11-03T12:00:10.195709",
     "exception": false,
     "start_time": "2021-11-03T12:00:10.119908",
     "status": "completed"
    },
    "tags": []
   },
   "outputs": [
    {
     "data": {
      "text/html": [
       "<div>\n",
       "<style scoped>\n",
       "    .dataframe tbody tr th:only-of-type {\n",
       "        vertical-align: middle;\n",
       "    }\n",
       "\n",
       "    .dataframe tbody tr th {\n",
       "        vertical-align: top;\n",
       "    }\n",
       "\n",
       "    .dataframe thead th {\n",
       "        text-align: right;\n",
       "    }\n",
       "</style>\n",
       "<table border=\"1\" class=\"dataframe\">\n",
       "  <thead>\n",
       "    <tr style=\"text-align: right;\">\n",
       "      <th></th>\n",
       "      <th>RECORD_TIME</th>\n",
       "    </tr>\n",
       "  </thead>\n",
       "  <tbody>\n",
       "    <tr>\n",
       "      <th>0</th>\n",
       "      <td>2021-11-03 13:00</td>\n",
       "    </tr>\n",
       "    <tr>\n",
       "      <th>1</th>\n",
       "      <td>2021-11-03 12:30</td>\n",
       "    </tr>\n",
       "  </tbody>\n",
       "</table>\n",
       "</div>"
      ],
      "text/plain": [
       "        RECORD_TIME\n",
       "0  2021-11-03 13:00\n",
       "1  2021-11-03 12:30"
      ]
     },
     "execution_count": 3,
     "metadata": {},
     "output_type": "execute_result"
    }
   ],
   "source": [
    "timestamps"
   ]
  },
  {
   "cell_type": "code",
   "execution_count": 4,
   "id": "alternate-victory",
   "metadata": {
    "execution": {
     "iopub.execute_input": "2021-11-03T12:00:10.253362Z",
     "iopub.status.busy": "2021-11-03T12:00:10.250958Z",
     "iopub.status.idle": "2021-11-03T12:00:11.285426Z",
     "shell.execute_reply": "2021-11-03T12:00:11.286880Z"
    },
    "papermill": {
     "duration": 1.067286,
     "end_time": "2021-11-03T12:00:11.287350",
     "exception": false,
     "start_time": "2021-11-03T12:00:10.220064",
     "status": "completed"
    },
    "tags": []
   },
   "outputs": [],
   "source": [
    "df = pd.read_sql(\"select * from EBAY_TOP_BERLIN where record_time in (select distinct record_time from EBAY_TOP_BERLIN order by record_time desc limit 2)\", sqlite3.connect(\"UsedObjects.db\"))"
   ]
  },
  {
   "cell_type": "code",
   "execution_count": 5,
   "id": "popular-active",
   "metadata": {
    "execution": {
     "iopub.execute_input": "2021-11-03T12:00:11.363727Z",
     "iopub.status.busy": "2021-11-03T12:00:11.348785Z",
     "iopub.status.idle": "2021-11-03T12:00:11.394983Z",
     "shell.execute_reply": "2021-11-03T12:00:11.397760Z"
    },
    "papermill": {
     "duration": 0.090934,
     "end_time": "2021-11-03T12:00:11.398701",
     "exception": false,
     "start_time": "2021-11-03T12:00:11.307767",
     "status": "completed"
    },
    "tags": []
   },
   "outputs": [],
   "source": [
    "df_pivot = df.pivot_table(index=\"PRODUCT\", columns = \"RECORD_TIME\", values = \"LISTING_COUNT\")"
   ]
  },
  {
   "cell_type": "code",
   "execution_count": 6,
   "id": "union-huntington",
   "metadata": {
    "execution": {
     "iopub.execute_input": "2021-11-03T12:00:11.477227Z",
     "iopub.status.busy": "2021-11-03T12:00:11.475052Z",
     "iopub.status.idle": "2021-11-03T12:00:11.481201Z",
     "shell.execute_reply": "2021-11-03T12:00:11.482626Z"
    },
    "papermill": {
     "duration": 0.053152,
     "end_time": "2021-11-03T12:00:11.483125",
     "exception": false,
     "start_time": "2021-11-03T12:00:11.429973",
     "status": "completed"
    },
    "tags": []
   },
   "outputs": [],
   "source": [
    "df_pivot.columns = [\"stamp_1\", \"stamp_2\"]\n",
    "df_pivot_diff = df_pivot.diff(axis=1)"
   ]
  },
  {
   "cell_type": "code",
   "execution_count": 7,
   "id": "fifth-motion",
   "metadata": {
    "execution": {
     "iopub.execute_input": "2021-11-03T12:00:11.542973Z",
     "iopub.status.busy": "2021-11-03T12:00:11.540663Z",
     "iopub.status.idle": "2021-11-03T12:00:13.444641Z",
     "shell.execute_reply": "2021-11-03T12:00:13.446346Z"
    },
    "papermill": {
     "duration": 1.942208,
     "end_time": "2021-11-03T12:00:13.446931",
     "exception": false,
     "start_time": "2021-11-03T12:00:11.504723",
     "status": "completed"
    },
    "tags": []
   },
   "outputs": [
    {
     "data": {
      "text/plain": [
       "<AxesSubplot:ylabel='PRODUCT'>"
      ]
     },
     "execution_count": 7,
     "metadata": {},
     "output_type": "execute_result"
    },
    {
     "data": {
      "image/png": "[encoded data removed]",
      "text/plain": [
       "<Figure size 432x288 with 1 Axes>"
      ]
     },
     "metadata": {
      "needs_background": "light"
     },
     "output_type": "display_data"
    }
   ],
   "source": [
    "df_pivot_diff.sort_values(\"stamp_2\", ascending = False)[\"stamp_2\"].head(10).plot.barh()"
   ]
  },
  {
   "cell_type": "code",
   "execution_count": null,
   "id": "extra-executive",
   "metadata": {
    "papermill": {
     "duration": 0.033509,
     "end_time": "2021-11-03T12:00:13.516959",
     "exception": false,
     "start_time": "2021-11-03T12:00:13.483450",
     "status": "completed"
    },
    "tags": []
   },
   "outputs": [],
   "source": []
  }
 ],
 "metadata": {
  "kernelspec": {
   "display_name": "Python 3",
   "language": "python",
   "name": "python3"
  },
  "language_info": {
   "codemirror_mode": {
    "name": "ipython",
    "version": 3
   },
   "file_extension": ".py",
   "mimetype": "text/x-python",
   "name": "python",
   "nbconvert_exporter": "python",
   "pygments_lexer": "ipython3",
   "version": "3.9.5"
  },
  "papermill": {
   "default_parameters": {},
   "duration": 8.770643,
   "end_time": "2021-11-03T12:00:14.393072",
   "environment_variables": {},
   "exception": null,
   "input_path": "eBay_Overview.ipynb",
   "output_path": "eBay_Overview.ipynb",
   "parameters": {},
   "start_time": "2021-11-03T12:00:05.622429",
   "version": "2.3.3"
  }
 },
 "nbformat": 4,
 "nbformat_minor": 5
}