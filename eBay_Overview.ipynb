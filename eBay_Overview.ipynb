{
 "cells": [
  {
   "cell_type": "code",
   "execution_count": 1,
   "id": "reverse-picking",
   "metadata": {
    "execution": {
     "iopub.execute_input": "2021-08-29T23:00:07.326354Z",
     "iopub.status.busy": "2021-08-29T23:00:07.324412Z",
     "iopub.status.idle": "2021-08-29T23:00:08.127835Z",
     "shell.execute_reply": "2021-08-29T23:00:08.129389Z"
    },
    "papermill": {
     "duration": 0.85671,
     "end_time": "2021-08-29T23:00:08.130055",
     "exception": false,
     "start_time": "2021-08-29T23:00:07.273345",
     "status": "completed"
    },
    "tags": []
   },
   "outputs": [],
   "source": [
    "import pandas as pd\n",
    "import sqlite3"
   ]
  },
  {
   "cell_type": "code",
   "execution_count": 2,
   "id": "innovative-syndrome",
   "metadata": {
    "execution": {
     "iopub.execute_input": "2021-08-29T23:00:08.180913Z",
     "iopub.status.busy": "2021-08-29T23:00:08.178875Z",
     "iopub.status.idle": "2021-08-29T23:00:08.337745Z",
     "shell.execute_reply": "2021-08-29T23:00:08.339000Z"
    },
    "papermill": {
     "duration": 0.188951,
     "end_time": "2021-08-29T23:00:08.339414",
     "exception": false,
     "start_time": "2021-08-29T23:00:08.150463",
     "status": "completed"
    },
    "tags": []
   },
   "outputs": [],
   "source": [
    "timestamps = pd.read_sql(\"select distinct record_time from EBAY_TOP_BERLIN order by record_time desc limit 2\", sqlite3.connect(\"UsedObjects.db\"))"
   ]
  },
  {
   "cell_type": "code",
   "execution_count": 3,
   "id": "periodic-identification",
   "metadata": {
    "execution": {
     "iopub.execute_input": "2021-08-29T23:00:08.409080Z",
     "iopub.status.busy": "2021-08-29T23:00:08.403850Z",
     "iopub.status.idle": "2021-08-29T23:00:08.423799Z",
     "shell.execute_reply": "2021-08-29T23:00:08.425287Z"
    },
    "papermill": {
     "duration": 0.066925,
     "end_time": "2021-08-29T23:00:08.425740",
     "exception": false,
     "start_time": "2021-08-29T23:00:08.358815",
     "status": "completed"
    },
    "tags": []
   },
   "outputs": [
    {
     "data": {
      "text/html": [
       "<div>\n",
       "<style scoped>\n",
       "    .dataframe tbody tr th:only-of-type {\n",
       "        vertical-align: middle;\n",
       "    }\n",
       "\n",
       "    .dataframe tbody tr th {\n",
       "        vertical-align: top;\n",
       "    }\n",
       "\n",
       "    .dataframe thead th {\n",
       "        text-align: right;\n",
       "    }\n",
       "</style>\n",
       "<table border=\"1\" class=\"dataframe\">\n",
       "  <thead>\n",
       "    <tr style=\"text-align: right;\">\n",
       "      <th></th>\n",
       "      <th>RECORD_TIME</th>\n",
       "    </tr>\n",
       "  </thead>\n",
       "  <tbody>\n",
       "    <tr>\n",
       "      <th>0</th>\n",
       "      <td>2021-08-30 01:00</td>\n",
       "    </tr>\n",
       "    <tr>\n",
       "      <th>1</th>\n",
       "      <td>2021-08-30 00:30</td>\n",
       "    </tr>\n",
       "  </tbody>\n",
       "</table>\n",
       "</div>"
      ],
      "text/plain": [
       "        RECORD_TIME\n",
       "0  2021-08-30 01:00\n",
       "1  2021-08-30 00:30"
      ]
     },
     "execution_count": 3,
     "metadata": {},
     "output_type": "execute_result"
    }
   ],
   "source": [
    "timestamps"
   ]
  },
  {
   "cell_type": "code",
   "execution_count": 4,
   "id": "alternate-victory",
   "metadata": {
    "execution": {
     "iopub.execute_input": "2021-08-29T23:00:08.477435Z",
     "iopub.status.busy": "2021-08-29T23:00:08.475490Z",
     "iopub.status.idle": "2021-08-29T23:00:08.721732Z",
     "shell.execute_reply": "2021-08-29T23:00:08.722944Z"
    },
    "papermill": {
     "duration": 0.276175,
     "end_time": "2021-08-29T23:00:08.723338",
     "exception": false,
     "start_time": "2021-08-29T23:00:08.447163",
     "status": "completed"
    },
    "tags": []
   },
   "outputs": [],
   "source": [
    "df = pd.read_sql(\"select * from EBAY_TOP_BERLIN where record_time in (select distinct record_time from EBAY_TOP_BERLIN order by record_time desc limit 2)\", sqlite3.connect(\"UsedObjects.db\"))"
   ]
  },
  {
   "cell_type": "code",
   "execution_count": 5,
   "id": "popular-active",
   "metadata": {
    "execution": {
     "iopub.execute_input": "2021-08-29T23:00:08.799340Z",
     "iopub.status.busy": "2021-08-29T23:00:08.791476Z",
     "iopub.status.idle": "2021-08-29T23:00:08.819582Z",
     "shell.execute_reply": "2021-08-29T23:00:08.821059Z"
    },
    "papermill": {
     "duration": 0.076064,
     "end_time": "2021-08-29T23:00:08.821476",
     "exception": false,
     "start_time": "2021-08-29T23:00:08.745412",
     "status": "completed"
    },
    "tags": []
   },
   "outputs": [],
   "source": [
    "df_pivot = df.pivot_table(index=\"PRODUCT\", columns = \"RECORD_TIME\", values = \"LISTING_COUNT\")"
   ]
  },
  {
   "cell_type": "code",
   "execution_count": 6,
   "id": "union-huntington",
   "metadata": {
    "execution": {
     "iopub.execute_input": "2021-08-29T23:00:08.879931Z",
     "iopub.status.busy": "2021-08-29T23:00:08.877522Z",
     "iopub.status.idle": "2021-08-29T23:00:08.883100Z",
     "shell.execute_reply": "2021-08-29T23:00:08.884371Z"
    },
    "papermill": {
     "duration": 0.042025,
     "end_time": "2021-08-29T23:00:08.884806",
     "exception": false,
     "start_time": "2021-08-29T23:00:08.842781",
     "status": "completed"
    },
    "tags": []
   },
   "outputs": [],
   "source": [
    "df_pivot.columns = [\"stamp_1\", \"stamp_2\"]\n",
    "df_pivot_diff = df_pivot.diff(axis=1)"
   ]
  },
  {
   "cell_type": "code",
   "execution_count": 7,
   "id": "fifth-motion",
   "metadata": {
    "execution": {
     "iopub.execute_input": "2021-08-29T23:00:08.939220Z",
     "iopub.status.busy": "2021-08-29T23:00:08.936968Z",
     "iopub.status.idle": "2021-08-29T23:00:10.427820Z",
     "shell.execute_reply": "2021-08-29T23:00:10.429317Z"
    },
    "papermill": {
     "duration": 1.524351,
     "end_time": "2021-08-29T23:00:10.429768",
     "exception": false,
     "start_time": "2021-08-29T23:00:08.905417",
     "status": "completed"
    },
    "tags": []
   },
   "outputs": [
    {
     "data": {
      "text/plain": [
       "<AxesSubplot:ylabel='PRODUCT'>"
      ]
     },
     "execution_count": 7,
     "metadata": {},
     "output_type": "execute_result"
    },
    {
     "data": {
      "image/png": "[encoded data removed]",
      "text/plain": [
       "<Figure size 432x288 with 1 Axes>"
      ]
     },
     "metadata": {
      "needs_background": "light"
     },
     "output_type": "display_data"
    }
   ],
   "source": [
    "df_pivot_diff.sort_values(\"stamp_2\", ascending = False)[\"stamp_2\"].head(10).plot.barh()"
   ]
  },
  {
   "cell_type": "code",
   "execution_count": null,
   "id": "extra-executive",
   "metadata": {
    "papermill": {
     "duration": 0.022335,
     "end_time": "2021-08-29T23:00:10.475969",
     "exception": false,
     "start_time": "2021-08-29T23:00:10.453634",
     "status": "completed"
    },
    "tags": []
   },
   "outputs": [],
   "source": []
  }
 ],
 "metadata": {
  "kernelspec": {
   "display_name": "Python 3",
   "language": "python",
   "name": "python3"
  },
  "language_info": {
   "codemirror_mode": {
    "name": "ipython",
    "version": 3
   },
   "file_extension": ".py",
   "mimetype": "text/x-python",
   "name": "python",
   "nbconvert_exporter": "python",
   "pygments_lexer": "ipython3",
   "version": "3.9.5"
  },
  "papermill": {
   "default_parameters": {},
   "duration": 6.820731,
   "end_time": "2021-08-29T23:00:11.692805",
   "environment_variables": {},
   "exception": null,
   "input_path": "eBay_Overview.ipynb",
   "output_path": "eBay_Overview.ipynb",
   "parameters": {},
   "start_time": "2021-08-29T23:00:04.872074",
   "version": "2.3.3"
  }
 },
 "nbformat": 4,
 "nbformat_minor": 5
}