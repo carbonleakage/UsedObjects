{
 "cells": [
  {
   "cell_type": "code",
   "execution_count": 1,
   "id": "reverse-picking",
   "metadata": {
    "execution": {
     "iopub.execute_input": "2021-10-23T14:30:06.702711Z",
     "iopub.status.busy": "2021-10-23T14:30:06.700601Z",
     "iopub.status.idle": "2021-10-23T14:30:07.503636Z",
     "shell.execute_reply": "2021-10-23T14:30:07.504968Z"
    },
    "papermill": {
     "duration": 0.853884,
     "end_time": "2021-10-23T14:30:07.505602",
     "exception": false,
     "start_time": "2021-10-23T14:30:06.651718",
     "status": "completed"
    },
    "tags": []
   },
   "outputs": [],
   "source": [
    "import pandas as pd\n",
    "import sqlite3"
   ]
  },
  {
   "cell_type": "code",
   "execution_count": 2,
   "id": "innovative-syndrome",
   "metadata": {
    "execution": {
     "iopub.execute_input": "2021-10-23T14:30:07.556381Z",
     "iopub.status.busy": "2021-10-23T14:30:07.554506Z",
     "iopub.status.idle": "2021-10-23T14:30:08.184144Z",
     "shell.execute_reply": "2021-10-23T14:30:08.185598Z"
    },
    "papermill": {
     "duration": 0.659394,
     "end_time": "2021-10-23T14:30:08.186050",
     "exception": false,
     "start_time": "2021-10-23T14:30:07.526656",
     "status": "completed"
    },
    "tags": []
   },
   "outputs": [],
   "source": [
    "timestamps = pd.read_sql(\"select distinct record_time from EBAY_TOP_BERLIN order by record_time desc limit 2\", sqlite3.connect(\"UsedObjects.db\"))"
   ]
  },
  {
   "cell_type": "code",
   "execution_count": 3,
   "id": "periodic-identification",
   "metadata": {
    "execution": {
     "iopub.execute_input": "2021-10-23T14:30:08.261985Z",
     "iopub.status.busy": "2021-10-23T14:30:08.259886Z",
     "iopub.status.idle": "2021-10-23T14:30:08.280671Z",
     "shell.execute_reply": "2021-10-23T14:30:08.282039Z"
    },
    "papermill": {
     "duration": 0.071207,
     "end_time": "2021-10-23T14:30:08.282452",
     "exception": false,
     "start_time": "2021-10-23T14:30:08.211245",
     "status": "completed"
    },
    "tags": []
   },
   "outputs": [
    {
     "data": {
      "text/html": [
       "<div>\n",
       "<style scoped>\n",
       "    .dataframe tbody tr th:only-of-type {\n",
       "        vertical-align: middle;\n",
       "    }\n",
       "\n",
       "    .dataframe tbody tr th {\n",
       "        vertical-align: top;\n",
       "    }\n",
       "\n",
       "    .dataframe thead th {\n",
       "        text-align: right;\n",
       "    }\n",
       "</style>\n",
       "<table border=\"1\" class=\"dataframe\">\n",
       "  <thead>\n",
       "    <tr style=\"text-align: right;\">\n",
       "      <th></th>\n",
       "      <th>RECORD_TIME</th>\n",
       "    </tr>\n",
       "  </thead>\n",
       "  <tbody>\n",
       "    <tr>\n",
       "      <th>0</th>\n",
       "      <td>2021-10-23 16:30</td>\n",
       "    </tr>\n",
       "    <tr>\n",
       "      <th>1</th>\n",
       "      <td>2021-10-23 16:00</td>\n",
       "    </tr>\n",
       "  </tbody>\n",
       "</table>\n",
       "</div>"
      ],
      "text/plain": [
       "        RECORD_TIME\n",
       "0  2021-10-23 16:30\n",
       "1  2021-10-23 16:00"
      ]
     },
     "execution_count": 3,
     "metadata": {},
     "output_type": "execute_result"
    }
   ],
   "source": [
    "timestamps"
   ]
  },
  {
   "cell_type": "code",
   "execution_count": 4,
   "id": "alternate-victory",
   "metadata": {
    "execution": {
     "iopub.execute_input": "2021-10-23T14:30:08.334115Z",
     "iopub.status.busy": "2021-10-23T14:30:08.332146Z",
     "iopub.status.idle": "2021-10-23T14:30:09.238485Z",
     "shell.execute_reply": "2021-10-23T14:30:09.239687Z"
    },
    "papermill": {
     "duration": 0.936436,
     "end_time": "2021-10-23T14:30:09.240077",
     "exception": false,
     "start_time": "2021-10-23T14:30:08.303641",
     "status": "completed"
    },
    "tags": []
   },
   "outputs": [],
   "source": [
    "df = pd.read_sql(\"select * from EBAY_TOP_BERLIN where record_time in (select distinct record_time from EBAY_TOP_BERLIN order by record_time desc limit 2)\", sqlite3.connect(\"UsedObjects.db\"))"
   ]
  },
  {
   "cell_type": "code",
   "execution_count": 5,
   "id": "popular-active",
   "metadata": {
    "execution": {
     "iopub.execute_input": "2021-10-23T14:30:09.310524Z",
     "iopub.status.busy": "2021-10-23T14:30:09.298006Z",
     "iopub.status.idle": "2021-10-23T14:30:09.327697Z",
     "shell.execute_reply": "2021-10-23T14:30:09.329120Z"
    },
    "papermill": {
     "duration": 0.068581,
     "end_time": "2021-10-23T14:30:09.329545",
     "exception": false,
     "start_time": "2021-10-23T14:30:09.260964",
     "status": "completed"
    },
    "tags": []
   },
   "outputs": [],
   "source": [
    "df_pivot = df.pivot_table(index=\"PRODUCT\", columns = \"RECORD_TIME\", values = \"LISTING_COUNT\")"
   ]
  },
  {
   "cell_type": "code",
   "execution_count": 6,
   "id": "union-huntington",
   "metadata": {
    "execution": {
     "iopub.execute_input": "2021-10-23T14:30:09.386287Z",
     "iopub.status.busy": "2021-10-23T14:30:09.384145Z",
     "iopub.status.idle": "2021-10-23T14:30:09.389438Z",
     "shell.execute_reply": "2021-10-23T14:30:09.390738Z"
    },
    "papermill": {
     "duration": 0.041134,
     "end_time": "2021-10-23T14:30:09.391147",
     "exception": false,
     "start_time": "2021-10-23T14:30:09.350013",
     "status": "completed"
    },
    "tags": []
   },
   "outputs": [],
   "source": [
    "df_pivot.columns = [\"stamp_1\", \"stamp_2\"]\n",
    "df_pivot_diff = df_pivot.diff(axis=1)"
   ]
  },
  {
   "cell_type": "code",
   "execution_count": 7,
   "id": "fifth-motion",
   "metadata": {
    "execution": {
     "iopub.execute_input": "2021-10-23T14:30:09.447572Z",
     "iopub.status.busy": "2021-10-23T14:30:09.444940Z",
     "iopub.status.idle": "2021-10-23T14:30:10.933809Z",
     "shell.execute_reply": "2021-10-23T14:30:10.935105Z"
    },
    "papermill": {
     "duration": 1.522752,
     "end_time": "2021-10-23T14:30:10.935515",
     "exception": false,
     "start_time": "2021-10-23T14:30:09.412763",
     "status": "completed"
    },
    "tags": []
   },
   "outputs": [
    {
     "data": {
      "text/plain": [
       "<AxesSubplot:ylabel='PRODUCT'>"
      ]
     },
     "execution_count": 7,
     "metadata": {},
     "output_type": "execute_result"
    },
    {
     "data": {
      "image/png": "[encoded data removed]",
      "text/plain": [
       "<Figure size 432x288 with 1 Axes>"
      ]
     },
     "metadata": {
      "needs_background": "light"
     },
     "output_type": "display_data"
    }
   ],
   "source": [
    "df_pivot_diff.sort_values(\"stamp_2\", ascending = False)[\"stamp_2\"].head(10).plot.barh()"
   ]
  },
  {
   "cell_type": "code",
   "execution_count": null,
   "id": "extra-executive",
   "metadata": {
    "papermill": {
     "duration": 0.022394,
     "end_time": "2021-10-23T14:30:10.983742",
     "exception": false,
     "start_time": "2021-10-23T14:30:10.961348",
     "status": "completed"
    },
    "tags": []
   },
   "outputs": [],
   "source": []
  }
 ],
 "metadata": {
  "kernelspec": {
   "display_name": "Python 3",
   "language": "python",
   "name": "python3"
  },
  "language_info": {
   "codemirror_mode": {
    "name": "ipython",
    "version": 3
   },
   "file_extension": ".py",
   "mimetype": "text/x-python",
   "name": "python",
   "nbconvert_exporter": "python",
   "pygments_lexer": "ipython3",
   "version": "3.9.5"
  },
  "papermill": {
   "default_parameters": {},
   "duration": 7.38185,
   "end_time": "2021-10-23T14:30:11.627277",
   "environment_variables": {},
   "exception": null,
   "input_path": "eBay_Overview.ipynb",
   "output_path": "eBay_Overview.ipynb",
   "parameters": {},
   "start_time": "2021-10-23T14:30:04.245427",
   "version": "2.3.3"
  }
 },
 "nbformat": 4,
 "nbformat_minor": 5
}