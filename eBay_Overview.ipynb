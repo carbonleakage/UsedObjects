{
 "cells": [
  {
   "cell_type": "code",
   "execution_count": 1,
   "id": "reverse-picking",
   "metadata": {
    "execution": {
     "iopub.execute_input": "2021-12-15T07:30:07.666133Z",
     "iopub.status.busy": "2021-12-15T07:30:07.663817Z",
     "iopub.status.idle": "2021-12-15T07:30:08.615765Z",
     "shell.execute_reply": "2021-12-15T07:30:08.617437Z"
    },
    "papermill": {
     "duration": 1.001719,
     "end_time": "2021-12-15T07:30:08.618288",
     "exception": false,
     "start_time": "2021-12-15T07:30:07.616569",
     "status": "completed"
    },
    "tags": []
   },
   "outputs": [],
   "source": [
    "import pandas as pd\n",
    "import sqlite3"
   ]
  },
  {
   "cell_type": "code",
   "execution_count": 2,
   "id": "innovative-syndrome",
   "metadata": {
    "execution": {
     "iopub.execute_input": "2021-12-15T07:30:08.680619Z",
     "iopub.status.busy": "2021-12-15T07:30:08.678317Z",
     "iopub.status.idle": "2021-12-15T07:30:09.740189Z",
     "shell.execute_reply": "2021-12-15T07:30:09.741682Z"
    },
    "papermill": {
     "duration": 1.095666,
     "end_time": "2021-12-15T07:30:09.742139",
     "exception": false,
     "start_time": "2021-12-15T07:30:08.646473",
     "status": "completed"
    },
    "tags": []
   },
   "outputs": [],
   "source": [
    "timestamps = pd.read_sql(\"select distinct record_time from EBAY_TOP_BERLIN order by record_time desc limit 2\", sqlite3.connect(\"UsedObjects.db\"))"
   ]
  },
  {
   "cell_type": "code",
   "execution_count": 3,
   "id": "periodic-identification",
   "metadata": {
    "execution": {
     "iopub.execute_input": "2021-12-15T07:30:09.807624Z",
     "iopub.status.busy": "2021-12-15T07:30:09.805529Z",
     "iopub.status.idle": "2021-12-15T07:30:09.826150Z",
     "shell.execute_reply": "2021-12-15T07:30:09.827379Z"
    },
    "papermill": {
     "duration": 0.066023,
     "end_time": "2021-12-15T07:30:09.827778",
     "exception": false,
     "start_time": "2021-12-15T07:30:09.761755",
     "status": "completed"
    },
    "tags": []
   },
   "outputs": [
    {
     "data": {
      "text/html": [
       "<div>\n",
       "<style scoped>\n",
       "    .dataframe tbody tr th:only-of-type {\n",
       "        vertical-align: middle;\n",
       "    }\n",
       "\n",
       "    .dataframe tbody tr th {\n",
       "        vertical-align: top;\n",
       "    }\n",
       "\n",
       "    .dataframe thead th {\n",
       "        text-align: right;\n",
       "    }\n",
       "</style>\n",
       "<table border=\"1\" class=\"dataframe\">\n",
       "  <thead>\n",
       "    <tr style=\"text-align: right;\">\n",
       "      <th></th>\n",
       "      <th>RECORD_TIME</th>\n",
       "    </tr>\n",
       "  </thead>\n",
       "  <tbody>\n",
       "    <tr>\n",
       "      <th>0</th>\n",
       "      <td>2021-12-15 08:30</td>\n",
       "    </tr>\n",
       "    <tr>\n",
       "      <th>1</th>\n",
       "      <td>2021-12-15 08:00</td>\n",
       "    </tr>\n",
       "  </tbody>\n",
       "</table>\n",
       "</div>"
      ],
      "text/plain": [
       "        RECORD_TIME\n",
       "0  2021-12-15 08:30\n",
       "1  2021-12-15 08:00"
      ]
     },
     "execution_count": 3,
     "metadata": {},
     "output_type": "execute_result"
    }
   ],
   "source": [
    "timestamps"
   ]
  },
  {
   "cell_type": "code",
   "execution_count": 4,
   "id": "alternate-victory",
   "metadata": {
    "execution": {
     "iopub.execute_input": "2021-12-15T07:30:09.883138Z",
     "iopub.status.busy": "2021-12-15T07:30:09.880982Z",
     "iopub.status.idle": "2021-12-15T07:30:11.453765Z",
     "shell.execute_reply": "2021-12-15T07:30:11.455350Z"
    },
    "papermill": {
     "duration": 1.605715,
     "end_time": "2021-12-15T07:30:11.455844",
     "exception": false,
     "start_time": "2021-12-15T07:30:09.850129",
     "status": "completed"
    },
    "tags": []
   },
   "outputs": [],
   "source": [
    "df = pd.read_sql(\"select * from EBAY_TOP_BERLIN where record_time in (select distinct record_time from EBAY_TOP_BERLIN order by record_time desc limit 2)\", sqlite3.connect(\"UsedObjects.db\"))"
   ]
  },
  {
   "cell_type": "code",
   "execution_count": 5,
   "id": "popular-active",
   "metadata": {
    "execution": {
     "iopub.execute_input": "2021-12-15T07:30:11.535519Z",
     "iopub.status.busy": "2021-12-15T07:30:11.522348Z",
     "iopub.status.idle": "2021-12-15T07:30:11.553536Z",
     "shell.execute_reply": "2021-12-15T07:30:11.555070Z"
    },
    "papermill": {
     "duration": 0.075496,
     "end_time": "2021-12-15T07:30:11.555547",
     "exception": false,
     "start_time": "2021-12-15T07:30:11.480051",
     "status": "completed"
    },
    "tags": []
   },
   "outputs": [],
   "source": [
    "df_pivot = df.pivot_table(index=\"PRODUCT\", columns = \"RECORD_TIME\", values = \"LISTING_COUNT\")"
   ]
  },
  {
   "cell_type": "code",
   "execution_count": 6,
   "id": "union-huntington",
   "metadata": {
    "execution": {
     "iopub.execute_input": "2021-12-15T07:30:11.613770Z",
     "iopub.status.busy": "2021-12-15T07:30:11.611519Z",
     "iopub.status.idle": "2021-12-15T07:30:11.620407Z",
     "shell.execute_reply": "2021-12-15T07:30:11.622224Z"
    },
    "papermill": {
     "duration": 0.047179,
     "end_time": "2021-12-15T07:30:11.622773",
     "exception": false,
     "start_time": "2021-12-15T07:30:11.575594",
     "status": "completed"
    },
    "tags": []
   },
   "outputs": [],
   "source": [
    "df_pivot.columns = [\"stamp_1\", \"stamp_2\"]\n",
    "df_pivot_diff = df_pivot.diff(axis=1)"
   ]
  },
  {
   "cell_type": "code",
   "execution_count": 7,
   "id": "fifth-motion",
   "metadata": {
    "execution": {
     "iopub.execute_input": "2021-12-15T07:30:11.692465Z",
     "iopub.status.busy": "2021-12-15T07:30:11.680125Z",
     "iopub.status.idle": "2021-12-15T07:30:13.701444Z",
     "shell.execute_reply": "2021-12-15T07:30:13.702825Z"
    },
    "papermill": {
     "duration": 2.056505,
     "end_time": "2021-12-15T07:30:13.703245",
     "exception": false,
     "start_time": "2021-12-15T07:30:11.646740",
     "status": "completed"
    },
    "tags": []
   },
   "outputs": [
    {
     "data": {
      "text/plain": [
       "<AxesSubplot:ylabel='PRODUCT'>"
      ]
     },
     "execution_count": 7,
     "metadata": {},
     "output_type": "execute_result"
    },
    {
     "data": {
      "image/png": "[encoded data removed]",
      "text/plain": [
       "<Figure size 432x288 with 1 Axes>"
      ]
     },
     "metadata": {
      "needs_background": "light"
     },
     "output_type": "display_data"
    }
   ],
   "source": [
    "df_pivot_diff.sort_values(\"stamp_2\", ascending = False)[\"stamp_2\"].head(10).plot.barh()"
   ]
  },
  {
   "cell_type": "code",
   "execution_count": null,
   "id": "extra-executive",
   "metadata": {
    "papermill": {
     "duration": 0.021991,
     "end_time": "2021-12-15T07:30:13.815280",
     "exception": false,
     "start_time": "2021-12-15T07:30:13.793289",
     "status": "completed"
    },
    "tags": []
   },
   "outputs": [],
   "source": []
  }
 ],
 "metadata": {
  "kernelspec": {
   "display_name": "Python 3",
   "language": "python",
   "name": "python3"
  },
  "language_info": {
   "codemirror_mode": {
    "name": "ipython",
    "version": 3
   },
   "file_extension": ".py",
   "mimetype": "text/x-python",
   "name": "python",
   "nbconvert_exporter": "python",
   "pygments_lexer": "ipython3",
   "version": "3.9.5"
  },
  "papermill": {
   "default_parameters": {},
   "duration": 9.57105,
   "end_time": "2021-12-15T07:30:14.474918",
   "environment_variables": {},
   "exception": null,
   "input_path": "eBay_Overview.ipynb",
   "output_path": "eBay_Overview.ipynb",
   "parameters": {},
   "start_time": "2021-12-15T07:30:04.903868",
   "version": "2.3.3"
  }
 },
 "nbformat": 4,
 "nbformat_minor": 5
}