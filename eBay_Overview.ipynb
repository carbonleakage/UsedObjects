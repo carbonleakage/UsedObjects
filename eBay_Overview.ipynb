{
 "cells": [
  {
   "cell_type": "code",
   "execution_count": 1,
   "id": "reverse-picking",
   "metadata": {
    "execution": {
     "iopub.execute_input": "2021-08-11T10:00:03.978325Z",
     "iopub.status.busy": "2021-08-11T10:00:03.977562Z",
     "iopub.status.idle": "2021-08-11T10:00:04.586129Z",
     "shell.execute_reply": "2021-08-11T10:00:04.586729Z"
    },
    "papermill": {
     "duration": 0.628751,
     "end_time": "2021-08-11T10:00:04.587027",
     "exception": false,
     "start_time": "2021-08-11T10:00:03.958276",
     "status": "completed"
    },
    "tags": []
   },
   "outputs": [],
   "source": [
    "import pandas as pd\n",
    "import sqlite3"
   ]
  },
  {
   "cell_type": "code",
   "execution_count": 2,
   "id": "innovative-syndrome",
   "metadata": {
    "execution": {
     "iopub.execute_input": "2021-08-11T10:00:04.613073Z",
     "iopub.status.busy": "2021-08-11T10:00:04.612307Z",
     "iopub.status.idle": "2021-08-11T10:00:04.816093Z",
     "shell.execute_reply": "2021-08-11T10:00:04.816621Z"
    },
    "papermill": {
     "duration": 0.219455,
     "end_time": "2021-08-11T10:00:04.816802",
     "exception": false,
     "start_time": "2021-08-11T10:00:04.597347",
     "status": "completed"
    },
    "tags": []
   },
   "outputs": [],
   "source": [
    "timestamps = pd.read_sql(\"select distinct record_time from EBAY_TOP_BERLIN order by record_time desc limit 2\", sqlite3.connect(\"UsedObjects.db\"))"
   ]
  },
  {
   "cell_type": "code",
   "execution_count": 3,
   "id": "periodic-identification",
   "metadata": {
    "execution": {
     "iopub.execute_input": "2021-08-11T10:00:04.850034Z",
     "iopub.status.busy": "2021-08-11T10:00:04.849022Z",
     "iopub.status.idle": "2021-08-11T10:00:04.863969Z",
     "shell.execute_reply": "2021-08-11T10:00:04.864542Z"
    },
    "papermill": {
     "duration": 0.039716,
     "end_time": "2021-08-11T10:00:04.864738",
     "exception": false,
     "start_time": "2021-08-11T10:00:04.825022",
     "status": "completed"
    },
    "tags": []
   },
   "outputs": [
    {
     "data": {
      "text/html": [
       "<div>\n",
       "<style scoped>\n",
       "    .dataframe tbody tr th:only-of-type {\n",
       "        vertical-align: middle;\n",
       "    }\n",
       "\n",
       "    .dataframe tbody tr th {\n",
       "        vertical-align: top;\n",
       "    }\n",
       "\n",
       "    .dataframe thead th {\n",
       "        text-align: right;\n",
       "    }\n",
       "</style>\n",
       "<table border=\"1\" class=\"dataframe\">\n",
       "  <thead>\n",
       "    <tr style=\"text-align: right;\">\n",
       "      <th></th>\n",
       "      <th>RECORD_TIME</th>\n",
       "    </tr>\n",
       "  </thead>\n",
       "  <tbody>\n",
       "    <tr>\n",
       "      <th>0</th>\n",
       "      <td>2021-08-11 12:00</td>\n",
       "    </tr>\n",
       "    <tr>\n",
       "      <th>1</th>\n",
       "      <td>2021-08-11 11:30</td>\n",
       "    </tr>\n",
       "  </tbody>\n",
       "</table>\n",
       "</div>"
      ],
      "text/plain": [
       "        RECORD_TIME\n",
       "0  2021-08-11 12:00\n",
       "1  2021-08-11 11:30"
      ]
     },
     "execution_count": 3,
     "metadata": {},
     "output_type": "execute_result"
    }
   ],
   "source": [
    "timestamps"
   ]
  },
  {
   "cell_type": "code",
   "execution_count": 4,
   "id": "alternate-victory",
   "metadata": {
    "execution": {
     "iopub.execute_input": "2021-08-11T10:00:04.890707Z",
     "iopub.status.busy": "2021-08-11T10:00:04.889953Z",
     "iopub.status.idle": "2021-08-11T10:00:04.914823Z",
     "shell.execute_reply": "2021-08-11T10:00:04.914174Z"
    },
    "papermill": {
     "duration": 0.04042,
     "end_time": "2021-08-11T10:00:04.914984",
     "exception": false,
     "start_time": "2021-08-11T10:00:04.874564",
     "status": "completed"
    },
    "tags": []
   },
   "outputs": [],
   "source": [
    "df = pd.read_sql(\"select * from EBAY_TOP_BERLIN where record_time in (select distinct record_time from EBAY_TOP_BERLIN order by record_time desc limit 2)\", sqlite3.connect(\"UsedObjects.db\"))"
   ]
  },
  {
   "cell_type": "code",
   "execution_count": 5,
   "id": "popular-active",
   "metadata": {
    "execution": {
     "iopub.execute_input": "2021-08-11T10:00:04.947438Z",
     "iopub.status.busy": "2021-08-11T10:00:04.946651Z",
     "iopub.status.idle": "2021-08-11T10:00:04.964750Z",
     "shell.execute_reply": "2021-08-11T10:00:04.964000Z"
    },
    "papermill": {
     "duration": 0.041687,
     "end_time": "2021-08-11T10:00:04.964908",
     "exception": false,
     "start_time": "2021-08-11T10:00:04.923221",
     "status": "completed"
    },
    "tags": []
   },
   "outputs": [],
   "source": [
    "df_pivot = df.pivot_table(index=\"PRODUCT\", columns = \"RECORD_TIME\", values = \"LISTING_COUNT\")"
   ]
  },
  {
   "cell_type": "code",
   "execution_count": 6,
   "id": "union-huntington",
   "metadata": {
    "execution": {
     "iopub.execute_input": "2021-08-11T10:00:04.990728Z",
     "iopub.status.busy": "2021-08-11T10:00:04.989989Z",
     "iopub.status.idle": "2021-08-11T10:00:04.992692Z",
     "shell.execute_reply": "2021-08-11T10:00:04.993230Z"
    },
    "papermill": {
     "duration": 0.019741,
     "end_time": "2021-08-11T10:00:04.993408",
     "exception": false,
     "start_time": "2021-08-11T10:00:04.973667",
     "status": "completed"
    },
    "tags": []
   },
   "outputs": [],
   "source": [
    "df_pivot.columns = [\"stamp_1\", \"stamp_2\"]\n",
    "df_pivot_diff = df_pivot.diff(axis=1)"
   ]
  },
  {
   "cell_type": "code",
   "execution_count": 7,
   "id": "fifth-motion",
   "metadata": {
    "execution": {
     "iopub.execute_input": "2021-08-11T10:00:05.022003Z",
     "iopub.status.busy": "2021-08-11T10:00:05.021243Z",
     "iopub.status.idle": "2021-08-11T10:00:05.653547Z",
     "shell.execute_reply": "2021-08-11T10:00:05.654089Z"
    },
    "papermill": {
     "duration": 0.649583,
     "end_time": "2021-08-11T10:00:05.654274",
     "exception": false,
     "start_time": "2021-08-11T10:00:05.004691",
     "status": "completed"
    },
    "tags": []
   },
   "outputs": [
    {
     "data": {
      "text/plain": [
       "<AxesSubplot:ylabel='PRODUCT'>"
      ]
     },
     "execution_count": 7,
     "metadata": {},
     "output_type": "execute_result"
    },
    {
     "data": {
      "image/png": "[encoded data removed]",
      "text/plain": [
       "<Figure size 432x288 with 1 Axes>"
      ]
     },
     "metadata": {
      "needs_background": "light"
     },
     "output_type": "display_data"
    }
   ],
   "source": [
    "df_pivot_diff.sort_values(\"stamp_2\", ascending = False)[\"stamp_2\"].head(10).plot.barh()"
   ]
  },
  {
   "cell_type": "code",
   "execution_count": null,
   "id": "extra-executive",
   "metadata": {
    "papermill": {
     "duration": 0.012464,
     "end_time": "2021-08-11T10:00:05.679230",
     "exception": false,
     "start_time": "2021-08-11T10:00:05.666766",
     "status": "completed"
    },
    "tags": []
   },
   "outputs": [],
   "source": []
  }
 ],
 "metadata": {
  "kernelspec": {
   "display_name": "Python 3",
   "language": "python",
   "name": "python3"
  },
  "language_info": {
   "codemirror_mode": {
    "name": "ipython",
    "version": 3
   },
   "file_extension": ".py",
   "mimetype": "text/x-python",
   "name": "python",
   "nbconvert_exporter": "python",
   "pygments_lexer": "ipython3",
   "version": "3.8.8"
  },
  "papermill": {
   "default_parameters": {},
   "duration": 4.944042,
   "end_time": "2021-08-11T10:00:07.243635",
   "environment_variables": {},
   "exception": null,
   "input_path": "/Users/saravananshanmugam/Carbonleakage_Git/UsedObjects/eBay_Overview.ipynb",
   "output_path": "/Users/saravananshanmugam/Carbonleakage_Git/UsedObjects/eBay_Overview.ipynb",
   "parameters": {},
   "start_time": "2021-08-11T10:00:02.299593",
   "version": "2.3.3"
  }
 },
 "nbformat": 4,
 "nbformat_minor": 5
}