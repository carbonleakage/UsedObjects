{
 "cells": [
  {
   "cell_type": "code",
   "execution_count": 1,
   "id": "reverse-picking",
   "metadata": {
    "execution": {
     "iopub.execute_input": "2021-08-20T00:30:06.497316Z",
     "iopub.status.busy": "2021-08-20T00:30:06.495398Z",
     "iopub.status.idle": "2021-08-20T00:30:07.300019Z",
     "shell.execute_reply": "2021-08-20T00:30:07.298445Z"
    },
    "papermill": {
     "duration": 0.853637,
     "end_time": "2021-08-20T00:30:07.300422",
     "exception": false,
     "start_time": "2021-08-20T00:30:06.446785",
     "status": "completed"
    },
    "tags": []
   },
   "outputs": [],
   "source": [
    "import pandas as pd\n",
    "import sqlite3"
   ]
  },
  {
   "cell_type": "code",
   "execution_count": 2,
   "id": "innovative-syndrome",
   "metadata": {
    "execution": {
     "iopub.execute_input": "2021-08-20T00:30:07.352056Z",
     "iopub.status.busy": "2021-08-20T00:30:07.350110Z",
     "iopub.status.idle": "2021-08-20T00:30:07.439964Z",
     "shell.execute_reply": "2021-08-20T00:30:07.441238Z"
    },
    "papermill": {
     "duration": 0.119397,
     "end_time": "2021-08-20T00:30:07.441661",
     "exception": false,
     "start_time": "2021-08-20T00:30:07.322264",
     "status": "completed"
    },
    "tags": []
   },
   "outputs": [],
   "source": [
    "timestamps = pd.read_sql(\"select distinct record_time from EBAY_TOP_BERLIN order by record_time desc limit 2\", sqlite3.connect(\"UsedObjects.db\"))"
   ]
  },
  {
   "cell_type": "code",
   "execution_count": 3,
   "id": "periodic-identification",
   "metadata": {
    "execution": {
     "iopub.execute_input": "2021-08-20T00:30:07.508573Z",
     "iopub.status.busy": "2021-08-20T00:30:07.506574Z",
     "iopub.status.idle": "2021-08-20T00:30:07.526513Z",
     "shell.execute_reply": "2021-08-20T00:30:07.527923Z"
    },
    "papermill": {
     "duration": 0.06695,
     "end_time": "2021-08-20T00:30:07.528351",
     "exception": false,
     "start_time": "2021-08-20T00:30:07.461401",
     "status": "completed"
    },
    "tags": []
   },
   "outputs": [
    {
     "data": {
      "text/html": [
       "<div>\n",
       "<style scoped>\n",
       "    .dataframe tbody tr th:only-of-type {\n",
       "        vertical-align: middle;\n",
       "    }\n",
       "\n",
       "    .dataframe tbody tr th {\n",
       "        vertical-align: top;\n",
       "    }\n",
       "\n",
       "    .dataframe thead th {\n",
       "        text-align: right;\n",
       "    }\n",
       "</style>\n",
       "<table border=\"1\" class=\"dataframe\">\n",
       "  <thead>\n",
       "    <tr style=\"text-align: right;\">\n",
       "      <th></th>\n",
       "      <th>RECORD_TIME</th>\n",
       "    </tr>\n",
       "  </thead>\n",
       "  <tbody>\n",
       "    <tr>\n",
       "      <th>0</th>\n",
       "      <td>2021-08-20 02:30</td>\n",
       "    </tr>\n",
       "    <tr>\n",
       "      <th>1</th>\n",
       "      <td>2021-08-20 02:00</td>\n",
       "    </tr>\n",
       "  </tbody>\n",
       "</table>\n",
       "</div>"
      ],
      "text/plain": [
       "        RECORD_TIME\n",
       "0  2021-08-20 02:30\n",
       "1  2021-08-20 02:00"
      ]
     },
     "execution_count": 3,
     "metadata": {},
     "output_type": "execute_result"
    }
   ],
   "source": [
    "timestamps"
   ]
  },
  {
   "cell_type": "code",
   "execution_count": 4,
   "id": "alternate-victory",
   "metadata": {
    "execution": {
     "iopub.execute_input": "2021-08-20T00:30:07.581169Z",
     "iopub.status.busy": "2021-08-20T00:30:07.578891Z",
     "iopub.status.idle": "2021-08-20T00:30:07.713387Z",
     "shell.execute_reply": "2021-08-20T00:30:07.714885Z"
    },
    "papermill": {
     "duration": 0.165561,
     "end_time": "2021-08-20T00:30:07.715339",
     "exception": false,
     "start_time": "2021-08-20T00:30:07.549778",
     "status": "completed"
    },
    "tags": []
   },
   "outputs": [],
   "source": [
    "df = pd.read_sql(\"select * from EBAY_TOP_BERLIN where record_time in (select distinct record_time from EBAY_TOP_BERLIN order by record_time desc limit 2)\", sqlite3.connect(\"UsedObjects.db\"))"
   ]
  },
  {
   "cell_type": "code",
   "execution_count": 5,
   "id": "popular-active",
   "metadata": {
    "execution": {
     "iopub.execute_input": "2021-08-20T00:30:07.785228Z",
     "iopub.status.busy": "2021-08-20T00:30:07.773224Z",
     "iopub.status.idle": "2021-08-20T00:30:07.802442Z",
     "shell.execute_reply": "2021-08-20T00:30:07.803855Z"
    },
    "papermill": {
     "duration": 0.068046,
     "end_time": "2021-08-20T00:30:07.804295",
     "exception": false,
     "start_time": "2021-08-20T00:30:07.736249",
     "status": "completed"
    },
    "tags": []
   },
   "outputs": [],
   "source": [
    "df_pivot = df.pivot_table(index=\"PRODUCT\", columns = \"RECORD_TIME\", values = \"LISTING_COUNT\")"
   ]
  },
  {
   "cell_type": "code",
   "execution_count": 6,
   "id": "union-huntington",
   "metadata": {
    "execution": {
     "iopub.execute_input": "2021-08-20T00:30:07.861805Z",
     "iopub.status.busy": "2021-08-20T00:30:07.859466Z",
     "iopub.status.idle": "2021-08-20T00:30:07.865410Z",
     "shell.execute_reply": "2021-08-20T00:30:07.866890Z"
    },
    "papermill": {
     "duration": 0.042473,
     "end_time": "2021-08-20T00:30:07.867349",
     "exception": false,
     "start_time": "2021-08-20T00:30:07.824876",
     "status": "completed"
    },
    "tags": []
   },
   "outputs": [],
   "source": [
    "df_pivot.columns = [\"stamp_1\", \"stamp_2\"]\n",
    "df_pivot_diff = df_pivot.diff(axis=1)"
   ]
  },
  {
   "cell_type": "code",
   "execution_count": 7,
   "id": "fifth-motion",
   "metadata": {
    "execution": {
     "iopub.execute_input": "2021-08-20T00:30:07.922413Z",
     "iopub.status.busy": "2021-08-20T00:30:07.920027Z",
     "iopub.status.idle": "2021-08-20T00:30:09.416545Z",
     "shell.execute_reply": "2021-08-20T00:30:09.417979Z"
    },
    "papermill": {
     "duration": 1.529493,
     "end_time": "2021-08-20T00:30:09.418433",
     "exception": false,
     "start_time": "2021-08-20T00:30:07.888940",
     "status": "completed"
    },
    "tags": []
   },
   "outputs": [
    {
     "data": {
      "text/plain": [
       "<AxesSubplot:ylabel='PRODUCT'>"
      ]
     },
     "execution_count": 7,
     "metadata": {},
     "output_type": "execute_result"
    },
    {
     "data": {
      "image/png": "[encoded data removed]",
      "text/plain": [
       "<Figure size 432x288 with 1 Axes>"
      ]
     },
     "metadata": {
      "needs_background": "light"
     },
     "output_type": "display_data"
    }
   ],
   "source": [
    "df_pivot_diff.sort_values(\"stamp_2\", ascending = False)[\"stamp_2\"].head(10).plot.barh()"
   ]
  },
  {
   "cell_type": "code",
   "execution_count": null,
   "id": "extra-executive",
   "metadata": {
    "papermill": {
     "duration": 0.022602,
     "end_time": "2021-08-20T00:30:09.465178",
     "exception": false,
     "start_time": "2021-08-20T00:30:09.442576",
     "status": "completed"
    },
    "tags": []
   },
   "outputs": [],
   "source": []
  }
 ],
 "metadata": {
  "kernelspec": {
   "display_name": "Python 3",
   "language": "python",
   "name": "python3"
  },
  "language_info": {
   "codemirror_mode": {
    "name": "ipython",
    "version": 3
   },
   "file_extension": ".py",
   "mimetype": "text/x-python",
   "name": "python",
   "nbconvert_exporter": "python",
   "pygments_lexer": "ipython3",
   "version": "3.9.5"
  },
  "papermill": {
   "default_parameters": {},
   "duration": 6.827654,
   "end_time": "2021-08-20T00:30:10.866891",
   "environment_variables": {},
   "exception": null,
   "input_path": "eBay_Overview.ipynb",
   "output_path": "eBay_Overview.ipynb",
   "parameters": {},
   "start_time": "2021-08-20T00:30:04.039237",
   "version": "2.3.3"
  }
 },
 "nbformat": 4,
 "nbformat_minor": 5
}