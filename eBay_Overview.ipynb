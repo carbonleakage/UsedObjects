{
 "cells": [
  {
   "cell_type": "code",
   "execution_count": 1,
   "id": "reverse-picking",
   "metadata": {
    "execution": {
     "iopub.execute_input": "2021-12-05T10:00:08.120493Z",
     "iopub.status.busy": "2021-12-05T10:00:08.118241Z",
     "iopub.status.idle": "2021-12-05T10:00:09.053559Z",
     "shell.execute_reply": "2021-12-05T10:00:09.055115Z"
    },
    "papermill": {
     "duration": 0.98602,
     "end_time": "2021-12-05T10:00:09.055830",
     "exception": false,
     "start_time": "2021-12-05T10:00:08.069810",
     "status": "completed"
    },
    "tags": []
   },
   "outputs": [],
   "source": [
    "import pandas as pd\n",
    "import sqlite3"
   ]
  },
  {
   "cell_type": "code",
   "execution_count": 2,
   "id": "innovative-syndrome",
   "metadata": {
    "execution": {
     "iopub.execute_input": "2021-12-05T10:00:09.178817Z",
     "iopub.status.busy": "2021-12-05T10:00:09.176381Z",
     "iopub.status.idle": "2021-12-05T10:00:10.183145Z",
     "shell.execute_reply": "2021-12-05T10:00:10.180940Z"
    },
    "papermill": {
     "duration": 1.041558,
     "end_time": "2021-12-05T10:00:10.183559",
     "exception": false,
     "start_time": "2021-12-05T10:00:09.142001",
     "status": "completed"
    },
    "tags": []
   },
   "outputs": [],
   "source": [
    "timestamps = pd.read_sql(\"select distinct record_time from EBAY_TOP_BERLIN order by record_time desc limit 2\", sqlite3.connect(\"UsedObjects.db\"))"
   ]
  },
  {
   "cell_type": "code",
   "execution_count": 3,
   "id": "periodic-identification",
   "metadata": {
    "execution": {
     "iopub.execute_input": "2021-12-05T10:00:10.261918Z",
     "iopub.status.busy": "2021-12-05T10:00:10.255041Z",
     "iopub.status.idle": "2021-12-05T10:00:10.281213Z",
     "shell.execute_reply": "2021-12-05T10:00:10.279553Z"
    },
    "papermill": {
     "duration": 0.077995,
     "end_time": "2021-12-05T10:00:10.281629",
     "exception": false,
     "start_time": "2021-12-05T10:00:10.203634",
     "status": "completed"
    },
    "tags": []
   },
   "outputs": [
    {
     "data": {
      "text/html": [
       "<div>\n",
       "<style scoped>\n",
       "    .dataframe tbody tr th:only-of-type {\n",
       "        vertical-align: middle;\n",
       "    }\n",
       "\n",
       "    .dataframe tbody tr th {\n",
       "        vertical-align: top;\n",
       "    }\n",
       "\n",
       "    .dataframe thead th {\n",
       "        text-align: right;\n",
       "    }\n",
       "</style>\n",
       "<table border=\"1\" class=\"dataframe\">\n",
       "  <thead>\n",
       "    <tr style=\"text-align: right;\">\n",
       "      <th></th>\n",
       "      <th>RECORD_TIME</th>\n",
       "    </tr>\n",
       "  </thead>\n",
       "  <tbody>\n",
       "    <tr>\n",
       "      <th>0</th>\n",
       "      <td>2021-12-05 11:00</td>\n",
       "    </tr>\n",
       "    <tr>\n",
       "      <th>1</th>\n",
       "      <td>2021-12-05 10:30</td>\n",
       "    </tr>\n",
       "  </tbody>\n",
       "</table>\n",
       "</div>"
      ],
      "text/plain": [
       "        RECORD_TIME\n",
       "0  2021-12-05 11:00\n",
       "1  2021-12-05 10:30"
      ]
     },
     "execution_count": 3,
     "metadata": {},
     "output_type": "execute_result"
    }
   ],
   "source": [
    "timestamps"
   ]
  },
  {
   "cell_type": "code",
   "execution_count": 4,
   "id": "alternate-victory",
   "metadata": {
    "execution": {
     "iopub.execute_input": "2021-12-05T10:00:10.334220Z",
     "iopub.status.busy": "2021-12-05T10:00:10.332224Z",
     "iopub.status.idle": "2021-12-05T10:00:11.737583Z",
     "shell.execute_reply": "2021-12-05T10:00:11.739015Z"
    },
    "papermill": {
     "duration": 1.435613,
     "end_time": "2021-12-05T10:00:11.739495",
     "exception": false,
     "start_time": "2021-12-05T10:00:10.303882",
     "status": "completed"
    },
    "tags": []
   },
   "outputs": [],
   "source": [
    "df = pd.read_sql(\"select * from EBAY_TOP_BERLIN where record_time in (select distinct record_time from EBAY_TOP_BERLIN order by record_time desc limit 2)\", sqlite3.connect(\"UsedObjects.db\"))"
   ]
  },
  {
   "cell_type": "code",
   "execution_count": 5,
   "id": "popular-active",
   "metadata": {
    "execution": {
     "iopub.execute_input": "2021-12-05T10:00:11.818174Z",
     "iopub.status.busy": "2021-12-05T10:00:11.801506Z",
     "iopub.status.idle": "2021-12-05T10:00:11.838752Z",
     "shell.execute_reply": "2021-12-05T10:00:11.840362Z"
    },
    "papermill": {
     "duration": 0.080339,
     "end_time": "2021-12-05T10:00:11.840898",
     "exception": false,
     "start_time": "2021-12-05T10:00:11.760559",
     "status": "completed"
    },
    "tags": []
   },
   "outputs": [],
   "source": [
    "df_pivot = df.pivot_table(index=\"PRODUCT\", columns = \"RECORD_TIME\", values = \"LISTING_COUNT\")"
   ]
  },
  {
   "cell_type": "code",
   "execution_count": 6,
   "id": "union-huntington",
   "metadata": {
    "execution": {
     "iopub.execute_input": "2021-12-05T10:00:11.902391Z",
     "iopub.status.busy": "2021-12-05T10:00:11.899910Z",
     "iopub.status.idle": "2021-12-05T10:00:11.911690Z",
     "shell.execute_reply": "2021-12-05T10:00:11.913289Z"
    },
    "papermill": {
     "duration": 0.051149,
     "end_time": "2021-12-05T10:00:11.913790",
     "exception": false,
     "start_time": "2021-12-05T10:00:11.862641",
     "status": "completed"
    },
    "tags": []
   },
   "outputs": [],
   "source": [
    "df_pivot.columns = [\"stamp_1\", \"stamp_2\"]\n",
    "df_pivot_diff = df_pivot.diff(axis=1)"
   ]
  },
  {
   "cell_type": "code",
   "execution_count": 7,
   "id": "fifth-motion",
   "metadata": {
    "execution": {
     "iopub.execute_input": "2021-12-05T10:00:11.973530Z",
     "iopub.status.busy": "2021-12-05T10:00:11.970946Z",
     "iopub.status.idle": "2021-12-05T10:00:13.983771Z",
     "shell.execute_reply": "2021-12-05T10:00:13.981105Z"
    },
    "papermill": {
     "duration": 2.048465,
     "end_time": "2021-12-05T10:00:13.984361",
     "exception": false,
     "start_time": "2021-12-05T10:00:11.935896",
     "status": "completed"
    },
    "tags": []
   },
   "outputs": [
    {
     "data": {
      "text/plain": [
       "<AxesSubplot:ylabel='PRODUCT'>"
      ]
     },
     "execution_count": 7,
     "metadata": {},
     "output_type": "execute_result"
    },
    {
     "data": {
      "image/png": "[encoded data removed]",
      "text/plain": [
       "<Figure size 432x288 with 1 Axes>"
      ]
     },
     "metadata": {
      "needs_background": "light"
     },
     "output_type": "display_data"
    }
   ],
   "source": [
    "df_pivot_diff.sort_values(\"stamp_2\", ascending = False)[\"stamp_2\"].head(10).plot.barh()"
   ]
  },
  {
   "cell_type": "code",
   "execution_count": null,
   "id": "extra-executive",
   "metadata": {
    "papermill": {
     "duration": 0.031715,
     "end_time": "2021-12-05T10:00:14.052134",
     "exception": false,
     "start_time": "2021-12-05T10:00:14.020419",
     "status": "completed"
    },
    "tags": []
   },
   "outputs": [],
   "source": []
  }
 ],
 "metadata": {
  "kernelspec": {
   "display_name": "Python 3",
   "language": "python",
   "name": "python3"
  },
  "language_info": {
   "codemirror_mode": {
    "name": "ipython",
    "version": 3
   },
   "file_extension": ".py",
   "mimetype": "text/x-python",
   "name": "python",
   "nbconvert_exporter": "python",
   "pygments_lexer": "ipython3",
   "version": "3.9.5"
  },
  "papermill": {
   "default_parameters": {},
   "duration": 9.936852,
   "end_time": "2021-12-05T10:00:15.282040",
   "environment_variables": {},
   "exception": null,
   "input_path": "eBay_Overview.ipynb",
   "output_path": "eBay_Overview.ipynb",
   "parameters": {},
   "start_time": "2021-12-05T10:00:05.345188",
   "version": "2.3.3"
  }
 },
 "nbformat": 4,
 "nbformat_minor": 5
}