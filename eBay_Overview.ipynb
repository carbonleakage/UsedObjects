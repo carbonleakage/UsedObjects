{
 "cells": [
  {
   "cell_type": "code",
   "execution_count": 1,
   "id": "reverse-picking",
   "metadata": {
    "execution": {
     "iopub.execute_input": "2021-09-19T02:30:07.080217Z",
     "iopub.status.busy": "2021-09-19T02:30:07.078247Z",
     "iopub.status.idle": "2021-09-19T02:30:07.880483Z",
     "shell.execute_reply": "2021-09-19T02:30:07.881709Z"
    },
    "papermill": {
     "duration": 0.852433,
     "end_time": "2021-09-19T02:30:07.882318",
     "exception": false,
     "start_time": "2021-09-19T02:30:07.029885",
     "status": "completed"
    },
    "tags": []
   },
   "outputs": [],
   "source": [
    "import pandas as pd\n",
    "import sqlite3"
   ]
  },
  {
   "cell_type": "code",
   "execution_count": 2,
   "id": "innovative-syndrome",
   "metadata": {
    "execution": {
     "iopub.execute_input": "2021-09-19T02:30:07.933310Z",
     "iopub.status.busy": "2021-09-19T02:30:07.931489Z",
     "iopub.status.idle": "2021-09-19T02:30:08.246013Z",
     "shell.execute_reply": "2021-09-19T02:30:08.247401Z"
    },
    "papermill": {
     "duration": 0.344112,
     "end_time": "2021-09-19T02:30:08.247816",
     "exception": false,
     "start_time": "2021-09-19T02:30:07.903704",
     "status": "completed"
    },
    "tags": []
   },
   "outputs": [],
   "source": [
    "timestamps = pd.read_sql(\"select distinct record_time from EBAY_TOP_BERLIN order by record_time desc limit 2\", sqlite3.connect(\"UsedObjects.db\"))"
   ]
  },
  {
   "cell_type": "code",
   "execution_count": 3,
   "id": "periodic-identification",
   "metadata": {
    "execution": {
     "iopub.execute_input": "2021-09-19T02:30:08.314452Z",
     "iopub.status.busy": "2021-09-19T02:30:08.312468Z",
     "iopub.status.idle": "2021-09-19T02:30:08.331935Z",
     "shell.execute_reply": "2021-09-19T02:30:08.333241Z"
    },
    "papermill": {
     "duration": 0.065117,
     "end_time": "2021-09-19T02:30:08.333650",
     "exception": false,
     "start_time": "2021-09-19T02:30:08.268533",
     "status": "completed"
    },
    "tags": []
   },
   "outputs": [
    {
     "data": {
      "text/html": [
       "<div>\n",
       "<style scoped>\n",
       "    .dataframe tbody tr th:only-of-type {\n",
       "        vertical-align: middle;\n",
       "    }\n",
       "\n",
       "    .dataframe tbody tr th {\n",
       "        vertical-align: top;\n",
       "    }\n",
       "\n",
       "    .dataframe thead th {\n",
       "        text-align: right;\n",
       "    }\n",
       "</style>\n",
       "<table border=\"1\" class=\"dataframe\">\n",
       "  <thead>\n",
       "    <tr style=\"text-align: right;\">\n",
       "      <th></th>\n",
       "      <th>RECORD_TIME</th>\n",
       "    </tr>\n",
       "  </thead>\n",
       "  <tbody>\n",
       "    <tr>\n",
       "      <th>0</th>\n",
       "      <td>2021-09-19 04:30</td>\n",
       "    </tr>\n",
       "    <tr>\n",
       "      <th>1</th>\n",
       "      <td>2021-09-19 04:00</td>\n",
       "    </tr>\n",
       "  </tbody>\n",
       "</table>\n",
       "</div>"
      ],
      "text/plain": [
       "        RECORD_TIME\n",
       "0  2021-09-19 04:30\n",
       "1  2021-09-19 04:00"
      ]
     },
     "execution_count": 3,
     "metadata": {},
     "output_type": "execute_result"
    }
   ],
   "source": [
    "timestamps"
   ]
  },
  {
   "cell_type": "code",
   "execution_count": 4,
   "id": "alternate-victory",
   "metadata": {
    "execution": {
     "iopub.execute_input": "2021-09-19T02:30:08.384615Z",
     "iopub.status.busy": "2021-09-19T02:30:08.382279Z",
     "iopub.status.idle": "2021-09-19T02:30:08.855901Z",
     "shell.execute_reply": "2021-09-19T02:30:08.857109Z"
    },
    "papermill": {
     "duration": 0.503846,
     "end_time": "2021-09-19T02:30:08.857506",
     "exception": false,
     "start_time": "2021-09-19T02:30:08.353660",
     "status": "completed"
    },
    "tags": []
   },
   "outputs": [],
   "source": [
    "df = pd.read_sql(\"select * from EBAY_TOP_BERLIN where record_time in (select distinct record_time from EBAY_TOP_BERLIN order by record_time desc limit 2)\", sqlite3.connect(\"UsedObjects.db\"))"
   ]
  },
  {
   "cell_type": "code",
   "execution_count": 5,
   "id": "popular-active",
   "metadata": {
    "execution": {
     "iopub.execute_input": "2021-09-19T02:30:08.931306Z",
     "iopub.status.busy": "2021-09-19T02:30:08.920385Z",
     "iopub.status.idle": "2021-09-19T02:30:08.946863Z",
     "shell.execute_reply": "2021-09-19T02:30:08.948100Z"
    },
    "papermill": {
     "duration": 0.067795,
     "end_time": "2021-09-19T02:30:08.948494",
     "exception": false,
     "start_time": "2021-09-19T02:30:08.880699",
     "status": "completed"
    },
    "tags": []
   },
   "outputs": [],
   "source": [
    "df_pivot = df.pivot_table(index=\"PRODUCT\", columns = \"RECORD_TIME\", values = \"LISTING_COUNT\")"
   ]
  },
  {
   "cell_type": "code",
   "execution_count": 6,
   "id": "union-huntington",
   "metadata": {
    "execution": {
     "iopub.execute_input": "2021-09-19T02:30:09.005295Z",
     "iopub.status.busy": "2021-09-19T02:30:09.003160Z",
     "iopub.status.idle": "2021-09-19T02:30:09.008450Z",
     "shell.execute_reply": "2021-09-19T02:30:09.009686Z"
    },
    "papermill": {
     "duration": 0.04029,
     "end_time": "2021-09-19T02:30:09.010136",
     "exception": false,
     "start_time": "2021-09-19T02:30:08.969846",
     "status": "completed"
    },
    "tags": []
   },
   "outputs": [],
   "source": [
    "df_pivot.columns = [\"stamp_1\", \"stamp_2\"]\n",
    "df_pivot_diff = df_pivot.diff(axis=1)"
   ]
  },
  {
   "cell_type": "code",
   "execution_count": 7,
   "id": "fifth-motion",
   "metadata": {
    "execution": {
     "iopub.execute_input": "2021-09-19T02:30:09.065338Z",
     "iopub.status.busy": "2021-09-19T02:30:09.062633Z",
     "iopub.status.idle": "2021-09-19T02:30:10.582940Z",
     "shell.execute_reply": "2021-09-19T02:30:10.584312Z"
    },
    "papermill": {
     "duration": 1.553543,
     "end_time": "2021-09-19T02:30:10.584752",
     "exception": false,
     "start_time": "2021-09-19T02:30:09.031209",
     "status": "completed"
    },
    "tags": []
   },
   "outputs": [
    {
     "data": {
      "text/plain": [
       "<AxesSubplot:ylabel='PRODUCT'>"
      ]
     },
     "execution_count": 7,
     "metadata": {},
     "output_type": "execute_result"
    },
    {
     "data": {
      "image/png": "[encoded data removed]",
      "text/plain": [
       "<Figure size 432x288 with 1 Axes>"
      ]
     },
     "metadata": {
      "needs_background": "light"
     },
     "output_type": "display_data"
    }
   ],
   "source": [
    "df_pivot_diff.sort_values(\"stamp_2\", ascending = False)[\"stamp_2\"].head(10).plot.barh()"
   ]
  },
  {
   "cell_type": "code",
   "execution_count": null,
   "id": "extra-executive",
   "metadata": {
    "papermill": {
     "duration": 0.02207,
     "end_time": "2021-09-19T02:30:10.631140",
     "exception": false,
     "start_time": "2021-09-19T02:30:10.609070",
     "status": "completed"
    },
    "tags": []
   },
   "outputs": [],
   "source": []
  }
 ],
 "metadata": {
  "kernelspec": {
   "display_name": "Python 3",
   "language": "python",
   "name": "python3"
  },
  "language_info": {
   "codemirror_mode": {
    "name": "ipython",
    "version": 3
   },
   "file_extension": ".py",
   "mimetype": "text/x-python",
   "name": "python",
   "nbconvert_exporter": "python",
   "pygments_lexer": "ipython3",
   "version": "3.9.5"
  },
  "papermill": {
   "default_parameters": {},
   "duration": 6.631645,
   "end_time": "2021-09-19T02:30:11.272404",
   "environment_variables": {},
   "exception": null,
   "input_path": "eBay_Overview.ipynb",
   "output_path": "eBay_Overview.ipynb",
   "parameters": {},
   "start_time": "2021-09-19T02:30:04.640759",
   "version": "2.3.3"
  }
 },
 "nbformat": 4,
 "nbformat_minor": 5
}