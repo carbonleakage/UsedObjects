{
 "cells": [
  {
   "cell_type": "code",
   "execution_count": 1,
   "id": "reverse-picking",
   "metadata": {
    "execution": {
     "iopub.execute_input": "2021-11-22T13:00:07.795336Z",
     "iopub.status.busy": "2021-11-22T13:00:07.792996Z",
     "iopub.status.idle": "2021-11-22T13:00:08.752406Z",
     "shell.execute_reply": "2021-11-22T13:00:08.754567Z"
    },
    "papermill": {
     "duration": 1.010211,
     "end_time": "2021-11-22T13:00:08.755257",
     "exception": false,
     "start_time": "2021-11-22T13:00:07.745046",
     "status": "completed"
    },
    "tags": []
   },
   "outputs": [],
   "source": [
    "import pandas as pd\n",
    "import sqlite3"
   ]
  },
  {
   "cell_type": "code",
   "execution_count": 2,
   "id": "innovative-syndrome",
   "metadata": {
    "execution": {
     "iopub.execute_input": "2021-11-22T13:00:08.820535Z",
     "iopub.status.busy": "2021-11-22T13:00:08.818097Z",
     "iopub.status.idle": "2021-11-22T13:00:09.699687Z",
     "shell.execute_reply": "2021-11-22T13:00:09.701848Z"
    },
    "papermill": {
     "duration": 0.917157,
     "end_time": "2021-11-22T13:00:09.702333",
     "exception": false,
     "start_time": "2021-11-22T13:00:08.785176",
     "status": "completed"
    },
    "tags": []
   },
   "outputs": [],
   "source": [
    "timestamps = pd.read_sql(\"select distinct record_time from EBAY_TOP_BERLIN order by record_time desc limit 2\", sqlite3.connect(\"UsedObjects.db\"))"
   ]
  },
  {
   "cell_type": "code",
   "execution_count": 3,
   "id": "periodic-identification",
   "metadata": {
    "execution": {
     "iopub.execute_input": "2021-11-22T13:00:09.771678Z",
     "iopub.status.busy": "2021-11-22T13:00:09.769518Z",
     "iopub.status.idle": "2021-11-22T13:00:09.791129Z",
     "shell.execute_reply": "2021-11-22T13:00:09.792485Z"
    },
    "papermill": {
     "duration": 0.070545,
     "end_time": "2021-11-22T13:00:09.793014",
     "exception": false,
     "start_time": "2021-11-22T13:00:09.722469",
     "status": "completed"
    },
    "tags": []
   },
   "outputs": [
    {
     "data": {
      "text/html": [
       "<div>\n",
       "<style scoped>\n",
       "    .dataframe tbody tr th:only-of-type {\n",
       "        vertical-align: middle;\n",
       "    }\n",
       "\n",
       "    .dataframe tbody tr th {\n",
       "        vertical-align: top;\n",
       "    }\n",
       "\n",
       "    .dataframe thead th {\n",
       "        text-align: right;\n",
       "    }\n",
       "</style>\n",
       "<table border=\"1\" class=\"dataframe\">\n",
       "  <thead>\n",
       "    <tr style=\"text-align: right;\">\n",
       "      <th></th>\n",
       "      <th>RECORD_TIME</th>\n",
       "    </tr>\n",
       "  </thead>\n",
       "  <tbody>\n",
       "    <tr>\n",
       "      <th>0</th>\n",
       "      <td>2021-11-22 14:00</td>\n",
       "    </tr>\n",
       "    <tr>\n",
       "      <th>1</th>\n",
       "      <td>2021-11-22 13:30</td>\n",
       "    </tr>\n",
       "  </tbody>\n",
       "</table>\n",
       "</div>"
      ],
      "text/plain": [
       "        RECORD_TIME\n",
       "0  2021-11-22 14:00\n",
       "1  2021-11-22 13:30"
      ]
     },
     "execution_count": 3,
     "metadata": {},
     "output_type": "execute_result"
    }
   ],
   "source": [
    "timestamps"
   ]
  },
  {
   "cell_type": "code",
   "execution_count": 4,
   "id": "alternate-victory",
   "metadata": {
    "execution": {
     "iopub.execute_input": "2021-11-22T13:00:09.847618Z",
     "iopub.status.busy": "2021-11-22T13:00:09.845422Z",
     "iopub.status.idle": "2021-11-22T13:00:11.184899Z",
     "shell.execute_reply": "2021-11-22T13:00:11.186934Z"
    },
    "papermill": {
     "duration": 1.373335,
     "end_time": "2021-11-22T13:00:11.187395",
     "exception": false,
     "start_time": "2021-11-22T13:00:09.814060",
     "status": "completed"
    },
    "tags": []
   },
   "outputs": [],
   "source": [
    "df = pd.read_sql(\"select * from EBAY_TOP_BERLIN where record_time in (select distinct record_time from EBAY_TOP_BERLIN order by record_time desc limit 2)\", sqlite3.connect(\"UsedObjects.db\"))"
   ]
  },
  {
   "cell_type": "code",
   "execution_count": 5,
   "id": "popular-active",
   "metadata": {
    "execution": {
     "iopub.execute_input": "2021-11-22T13:00:11.262104Z",
     "iopub.status.busy": "2021-11-22T13:00:11.248818Z",
     "iopub.status.idle": "2021-11-22T13:00:11.281092Z",
     "shell.execute_reply": "2021-11-22T13:00:11.282650Z"
    },
    "papermill": {
     "duration": 0.074671,
     "end_time": "2021-11-22T13:00:11.283160",
     "exception": false,
     "start_time": "2021-11-22T13:00:11.208489",
     "status": "completed"
    },
    "tags": []
   },
   "outputs": [],
   "source": [
    "df_pivot = df.pivot_table(index=\"PRODUCT\", columns = \"RECORD_TIME\", values = \"LISTING_COUNT\")"
   ]
  },
  {
   "cell_type": "code",
   "execution_count": 6,
   "id": "union-huntington",
   "metadata": {
    "execution": {
     "iopub.execute_input": "2021-11-22T13:00:11.363065Z",
     "iopub.status.busy": "2021-11-22T13:00:11.359471Z",
     "iopub.status.idle": "2021-11-22T13:00:11.367862Z",
     "shell.execute_reply": "2021-11-22T13:00:11.371201Z"
    },
    "papermill": {
     "duration": 0.066574,
     "end_time": "2021-11-22T13:00:11.372035",
     "exception": false,
     "start_time": "2021-11-22T13:00:11.305461",
     "status": "completed"
    },
    "tags": []
   },
   "outputs": [],
   "source": [
    "df_pivot.columns = [\"stamp_1\", \"stamp_2\"]\n",
    "df_pivot_diff = df_pivot.diff(axis=1)"
   ]
  },
  {
   "cell_type": "code",
   "execution_count": 7,
   "id": "fifth-motion",
   "metadata": {
    "execution": {
     "iopub.execute_input": "2021-11-22T13:00:11.448829Z",
     "iopub.status.busy": "2021-11-22T13:00:11.438343Z",
     "iopub.status.idle": "2021-11-22T13:00:13.209012Z",
     "shell.execute_reply": "2021-11-22T13:00:13.211968Z"
    },
    "papermill": {
     "duration": 1.811167,
     "end_time": "2021-11-22T13:00:13.212960",
     "exception": false,
     "start_time": "2021-11-22T13:00:11.401793",
     "status": "completed"
    },
    "tags": []
   },
   "outputs": [
    {
     "data": {
      "text/plain": [
       "<AxesSubplot:ylabel='PRODUCT'>"
      ]
     },
     "execution_count": 7,
     "metadata": {},
     "output_type": "execute_result"
    },
    {
     "data": {
      "image/png": "[encoded data removed]",
      "text/plain": [
       "<Figure size 432x288 with 1 Axes>"
      ]
     },
     "metadata": {
      "needs_background": "light"
     },
     "output_type": "display_data"
    }
   ],
   "source": [
    "df_pivot_diff.sort_values(\"stamp_2\", ascending = False)[\"stamp_2\"].head(10).plot.barh()"
   ]
  },
  {
   "cell_type": "code",
   "execution_count": null,
   "id": "extra-executive",
   "metadata": {
    "papermill": {
     "duration": 0.029663,
     "end_time": "2021-11-22T13:00:13.278711",
     "exception": false,
     "start_time": "2021-11-22T13:00:13.249048",
     "status": "completed"
    },
    "tags": []
   },
   "outputs": [],
   "source": []
  }
 ],
 "metadata": {
  "kernelspec": {
   "display_name": "Python 3",
   "language": "python",
   "name": "python3"
  },
  "language_info": {
   "codemirror_mode": {
    "name": "ipython",
    "version": 3
   },
   "file_extension": ".py",
   "mimetype": "text/x-python",
   "name": "python",
   "nbconvert_exporter": "python",
   "pygments_lexer": "ipython3",
   "version": "3.9.5"
  },
  "papermill": {
   "default_parameters": {},
   "duration": 10.007468,
   "end_time": "2021-11-22T13:00:14.938070",
   "environment_variables": {},
   "exception": null,
   "input_path": "eBay_Overview.ipynb",
   "output_path": "eBay_Overview.ipynb",
   "parameters": {},
   "start_time": "2021-11-22T13:00:04.930602",
   "version": "2.3.3"
  }
 },
 "nbformat": 4,
 "nbformat_minor": 5
}