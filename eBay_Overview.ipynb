{
 "cells": [
  {
   "cell_type": "code",
   "execution_count": 1,
   "id": "reverse-picking",
   "metadata": {
    "execution": {
     "iopub.execute_input": "2021-09-18T13:00:07.734700Z",
     "iopub.status.busy": "2021-09-18T13:00:07.732789Z",
     "iopub.status.idle": "2021-09-18T13:00:08.536842Z",
     "shell.execute_reply": "2021-09-18T13:00:08.538089Z"
    },
    "papermill": {
     "duration": 0.854205,
     "end_time": "2021-09-18T13:00:08.538703",
     "exception": false,
     "start_time": "2021-09-18T13:00:07.684498",
     "status": "completed"
    },
    "tags": []
   },
   "outputs": [],
   "source": [
    "import pandas as pd\n",
    "import sqlite3"
   ]
  },
  {
   "cell_type": "code",
   "execution_count": 2,
   "id": "innovative-syndrome",
   "metadata": {
    "execution": {
     "iopub.execute_input": "2021-09-18T13:00:08.589416Z",
     "iopub.status.busy": "2021-09-18T13:00:08.587583Z",
     "iopub.status.idle": "2021-09-18T13:00:08.911885Z",
     "shell.execute_reply": "2021-09-18T13:00:08.913095Z"
    },
    "papermill": {
     "duration": 0.353888,
     "end_time": "2021-09-18T13:00:08.913485",
     "exception": false,
     "start_time": "2021-09-18T13:00:08.559597",
     "status": "completed"
    },
    "tags": []
   },
   "outputs": [],
   "source": [
    "timestamps = pd.read_sql(\"select distinct record_time from EBAY_TOP_BERLIN order by record_time desc limit 2\", sqlite3.connect(\"UsedObjects.db\"))"
   ]
  },
  {
   "cell_type": "code",
   "execution_count": 3,
   "id": "periodic-identification",
   "metadata": {
    "execution": {
     "iopub.execute_input": "2021-09-18T13:00:08.981885Z",
     "iopub.status.busy": "2021-09-18T13:00:08.979879Z",
     "iopub.status.idle": "2021-09-18T13:00:08.999773Z",
     "shell.execute_reply": "2021-09-18T13:00:09.001067Z"
    },
    "papermill": {
     "duration": 0.065704,
     "end_time": "2021-09-18T13:00:09.001474",
     "exception": false,
     "start_time": "2021-09-18T13:00:08.935770",
     "status": "completed"
    },
    "tags": []
   },
   "outputs": [
    {
     "data": {
      "text/html": [
       "<div>\n",
       "<style scoped>\n",
       "    .dataframe tbody tr th:only-of-type {\n",
       "        vertical-align: middle;\n",
       "    }\n",
       "\n",
       "    .dataframe tbody tr th {\n",
       "        vertical-align: top;\n",
       "    }\n",
       "\n",
       "    .dataframe thead th {\n",
       "        text-align: right;\n",
       "    }\n",
       "</style>\n",
       "<table border=\"1\" class=\"dataframe\">\n",
       "  <thead>\n",
       "    <tr style=\"text-align: right;\">\n",
       "      <th></th>\n",
       "      <th>RECORD_TIME</th>\n",
       "    </tr>\n",
       "  </thead>\n",
       "  <tbody>\n",
       "    <tr>\n",
       "      <th>0</th>\n",
       "      <td>2021-09-18 15:00</td>\n",
       "    </tr>\n",
       "    <tr>\n",
       "      <th>1</th>\n",
       "      <td>2021-09-18 14:30</td>\n",
       "    </tr>\n",
       "  </tbody>\n",
       "</table>\n",
       "</div>"
      ],
      "text/plain": [
       "        RECORD_TIME\n",
       "0  2021-09-18 15:00\n",
       "1  2021-09-18 14:30"
      ]
     },
     "execution_count": 3,
     "metadata": {},
     "output_type": "execute_result"
    }
   ],
   "source": [
    "timestamps"
   ]
  },
  {
   "cell_type": "code",
   "execution_count": 4,
   "id": "alternate-victory",
   "metadata": {
    "execution": {
     "iopub.execute_input": "2021-09-18T13:00:09.051780Z",
     "iopub.status.busy": "2021-09-18T13:00:09.049874Z",
     "iopub.status.idle": "2021-09-18T13:00:09.516670Z",
     "shell.execute_reply": "2021-09-18T13:00:09.517869Z"
    },
    "papermill": {
     "duration": 0.496459,
     "end_time": "2021-09-18T13:00:09.518260",
     "exception": false,
     "start_time": "2021-09-18T13:00:09.021801",
     "status": "completed"
    },
    "tags": []
   },
   "outputs": [],
   "source": [
    "df = pd.read_sql(\"select * from EBAY_TOP_BERLIN where record_time in (select distinct record_time from EBAY_TOP_BERLIN order by record_time desc limit 2)\", sqlite3.connect(\"UsedObjects.db\"))"
   ]
  },
  {
   "cell_type": "code",
   "execution_count": 5,
   "id": "popular-active",
   "metadata": {
    "execution": {
     "iopub.execute_input": "2021-09-18T13:00:09.598705Z",
     "iopub.status.busy": "2021-09-18T13:00:09.586705Z",
     "iopub.status.idle": "2021-09-18T13:00:09.614980Z",
     "shell.execute_reply": "2021-09-18T13:00:09.616287Z"
    },
    "papermill": {
     "duration": 0.070465,
     "end_time": "2021-09-18T13:00:09.616695",
     "exception": false,
     "start_time": "2021-09-18T13:00:09.546230",
     "status": "completed"
    },
    "tags": []
   },
   "outputs": [],
   "source": [
    "df_pivot = df.pivot_table(index=\"PRODUCT\", columns = \"RECORD_TIME\", values = \"LISTING_COUNT\")"
   ]
  },
  {
   "cell_type": "code",
   "execution_count": 6,
   "id": "union-huntington",
   "metadata": {
    "execution": {
     "iopub.execute_input": "2021-09-18T13:00:09.672674Z",
     "iopub.status.busy": "2021-09-18T13:00:09.670583Z",
     "iopub.status.idle": "2021-09-18T13:00:09.675736Z",
     "shell.execute_reply": "2021-09-18T13:00:09.676941Z"
    },
    "papermill": {
     "duration": 0.040193,
     "end_time": "2021-09-18T13:00:09.677363",
     "exception": false,
     "start_time": "2021-09-18T13:00:09.637170",
     "status": "completed"
    },
    "tags": []
   },
   "outputs": [],
   "source": [
    "df_pivot.columns = [\"stamp_1\", \"stamp_2\"]\n",
    "df_pivot_diff = df_pivot.diff(axis=1)"
   ]
  },
  {
   "cell_type": "code",
   "execution_count": 7,
   "id": "fifth-motion",
   "metadata": {
    "execution": {
     "iopub.execute_input": "2021-09-18T13:00:09.730937Z",
     "iopub.status.busy": "2021-09-18T13:00:09.728553Z",
     "iopub.status.idle": "2021-09-18T13:00:11.198144Z",
     "shell.execute_reply": "2021-09-18T13:00:11.199615Z"
    },
    "papermill": {
     "duration": 1.502364,
     "end_time": "2021-09-18T13:00:11.200053",
     "exception": false,
     "start_time": "2021-09-18T13:00:09.697689",
     "status": "completed"
    },
    "tags": []
   },
   "outputs": [
    {
     "data": {
      "text/plain": [
       "<AxesSubplot:ylabel='PRODUCT'>"
      ]
     },
     "execution_count": 7,
     "metadata": {},
     "output_type": "execute_result"
    },
    {
     "data": {
      "image/png": "[encoded data removed]",
      "text/plain": [
       "<Figure size 432x288 with 1 Axes>"
      ]
     },
     "metadata": {
      "needs_background": "light"
     },
     "output_type": "display_data"
    }
   ],
   "source": [
    "df_pivot_diff.sort_values(\"stamp_2\", ascending = False)[\"stamp_2\"].head(10).plot.barh()"
   ]
  },
  {
   "cell_type": "code",
   "execution_count": null,
   "id": "extra-executive",
   "metadata": {
    "papermill": {
     "duration": 0.022173,
     "end_time": "2021-09-18T13:00:11.246830",
     "exception": false,
     "start_time": "2021-09-18T13:00:11.224657",
     "status": "completed"
    },
    "tags": []
   },
   "outputs": [],
   "source": []
  }
 ],
 "metadata": {
  "kernelspec": {
   "display_name": "Python 3",
   "language": "python",
   "name": "python3"
  },
  "language_info": {
   "codemirror_mode": {
    "name": "ipython",
    "version": 3
   },
   "file_extension": ".py",
   "mimetype": "text/x-python",
   "name": "python",
   "nbconvert_exporter": "python",
   "pygments_lexer": "ipython3",
   "version": "3.9.5"
  },
  "papermill": {
   "default_parameters": {},
   "duration": 6.602157,
   "end_time": "2021-09-18T13:00:11.887370",
   "environment_variables": {},
   "exception": null,
   "input_path": "eBay_Overview.ipynb",
   "output_path": "eBay_Overview.ipynb",
   "parameters": {},
   "start_time": "2021-09-18T13:00:05.285213",
   "version": "2.3.3"
  }
 },
 "nbformat": 4,
 "nbformat_minor": 5
}