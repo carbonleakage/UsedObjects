{
 "cells": [
  {
   "cell_type": "code",
   "execution_count": 1,
   "id": "reverse-picking",
   "metadata": {
    "execution": {
     "iopub.execute_input": "2021-11-23T08:30:07.395406Z",
     "iopub.status.busy": "2021-11-23T08:30:07.393120Z",
     "iopub.status.idle": "2021-11-23T08:30:08.356116Z",
     "shell.execute_reply": "2021-11-23T08:30:08.357720Z"
    },
    "papermill": {
     "duration": 1.014374,
     "end_time": "2021-11-23T08:30:08.358458",
     "exception": false,
     "start_time": "2021-11-23T08:30:07.344084",
     "status": "completed"
    },
    "tags": []
   },
   "outputs": [],
   "source": [
    "import pandas as pd\n",
    "import sqlite3"
   ]
  },
  {
   "cell_type": "code",
   "execution_count": 2,
   "id": "innovative-syndrome",
   "metadata": {
    "execution": {
     "iopub.execute_input": "2021-11-23T08:30:08.422115Z",
     "iopub.status.busy": "2021-11-23T08:30:08.419258Z",
     "iopub.status.idle": "2021-11-23T08:30:09.295865Z",
     "shell.execute_reply": "2021-11-23T08:30:09.297471Z"
    },
    "papermill": {
     "duration": 0.910703,
     "end_time": "2021-11-23T08:30:09.297965",
     "exception": false,
     "start_time": "2021-11-23T08:30:08.387262",
     "status": "completed"
    },
    "tags": []
   },
   "outputs": [],
   "source": [
    "timestamps = pd.read_sql(\"select distinct record_time from EBAY_TOP_BERLIN order by record_time desc limit 2\", sqlite3.connect(\"UsedObjects.db\"))"
   ]
  },
  {
   "cell_type": "code",
   "execution_count": 3,
   "id": "periodic-identification",
   "metadata": {
    "execution": {
     "iopub.execute_input": "2021-11-23T08:30:09.373397Z",
     "iopub.status.busy": "2021-11-23T08:30:09.370922Z",
     "iopub.status.idle": "2021-11-23T08:30:09.393608Z",
     "shell.execute_reply": "2021-11-23T08:30:09.395144Z"
    },
    "papermill": {
     "duration": 0.076945,
     "end_time": "2021-11-23T08:30:09.395652",
     "exception": false,
     "start_time": "2021-11-23T08:30:09.318707",
     "status": "completed"
    },
    "tags": []
   },
   "outputs": [
    {
     "data": {
      "text/html": [
       "<div>\n",
       "<style scoped>\n",
       "    .dataframe tbody tr th:only-of-type {\n",
       "        vertical-align: middle;\n",
       "    }\n",
       "\n",
       "    .dataframe tbody tr th {\n",
       "        vertical-align: top;\n",
       "    }\n",
       "\n",
       "    .dataframe thead th {\n",
       "        text-align: right;\n",
       "    }\n",
       "</style>\n",
       "<table border=\"1\" class=\"dataframe\">\n",
       "  <thead>\n",
       "    <tr style=\"text-align: right;\">\n",
       "      <th></th>\n",
       "      <th>RECORD_TIME</th>\n",
       "    </tr>\n",
       "  </thead>\n",
       "  <tbody>\n",
       "    <tr>\n",
       "      <th>0</th>\n",
       "      <td>2021-11-23 09:30</td>\n",
       "    </tr>\n",
       "    <tr>\n",
       "      <th>1</th>\n",
       "      <td>2021-11-23 09:00</td>\n",
       "    </tr>\n",
       "  </tbody>\n",
       "</table>\n",
       "</div>"
      ],
      "text/plain": [
       "        RECORD_TIME\n",
       "0  2021-11-23 09:30\n",
       "1  2021-11-23 09:00"
      ]
     },
     "execution_count": 3,
     "metadata": {},
     "output_type": "execute_result"
    }
   ],
   "source": [
    "timestamps"
   ]
  },
  {
   "cell_type": "code",
   "execution_count": 4,
   "id": "alternate-victory",
   "metadata": {
    "execution": {
     "iopub.execute_input": "2021-11-23T08:30:09.452884Z",
     "iopub.status.busy": "2021-11-23T08:30:09.450768Z",
     "iopub.status.idle": "2021-11-23T08:30:10.773361Z",
     "shell.execute_reply": "2021-11-23T08:30:10.775808Z"
    },
    "papermill": {
     "duration": 1.358363,
     "end_time": "2021-11-23T08:30:10.776538",
     "exception": false,
     "start_time": "2021-11-23T08:30:09.418175",
     "status": "completed"
    },
    "tags": []
   },
   "outputs": [],
   "source": [
    "df = pd.read_sql(\"select * from EBAY_TOP_BERLIN where record_time in (select distinct record_time from EBAY_TOP_BERLIN order by record_time desc limit 2)\", sqlite3.connect(\"UsedObjects.db\"))"
   ]
  },
  {
   "cell_type": "code",
   "execution_count": 5,
   "id": "popular-active",
   "metadata": {
    "execution": {
     "iopub.execute_input": "2021-11-23T08:30:10.850086Z",
     "iopub.status.busy": "2021-11-23T08:30:10.847566Z",
     "iopub.status.idle": "2021-11-23T08:30:10.883609Z",
     "shell.execute_reply": "2021-11-23T08:30:10.882138Z"
    },
    "papermill": {
     "duration": 0.078859,
     "end_time": "2021-11-23T08:30:10.884041",
     "exception": false,
     "start_time": "2021-11-23T08:30:10.805182",
     "status": "completed"
    },
    "tags": []
   },
   "outputs": [],
   "source": [
    "df_pivot = df.pivot_table(index=\"PRODUCT\", columns = \"RECORD_TIME\", values = \"LISTING_COUNT\")"
   ]
  },
  {
   "cell_type": "code",
   "execution_count": 6,
   "id": "union-huntington",
   "metadata": {
    "execution": {
     "iopub.execute_input": "2021-11-23T08:30:10.943893Z",
     "iopub.status.busy": "2021-11-23T08:30:10.941797Z",
     "iopub.status.idle": "2021-11-23T08:30:10.947515Z",
     "shell.execute_reply": "2021-11-23T08:30:10.948998Z"
    },
    "papermill": {
     "duration": 0.045017,
     "end_time": "2021-11-23T08:30:10.949465",
     "exception": false,
     "start_time": "2021-11-23T08:30:10.904448",
     "status": "completed"
    },
    "tags": []
   },
   "outputs": [],
   "source": [
    "df_pivot.columns = [\"stamp_1\", \"stamp_2\"]\n",
    "df_pivot_diff = df_pivot.diff(axis=1)"
   ]
  },
  {
   "cell_type": "code",
   "execution_count": 7,
   "id": "fifth-motion",
   "metadata": {
    "execution": {
     "iopub.execute_input": "2021-11-23T08:30:11.008529Z",
     "iopub.status.busy": "2021-11-23T08:30:11.005950Z",
     "iopub.status.idle": "2021-11-23T08:30:12.907556Z",
     "shell.execute_reply": "2021-11-23T08:30:12.909431Z"
    },
    "papermill": {
     "duration": 1.939144,
     "end_time": "2021-11-23T08:30:12.910059",
     "exception": false,
     "start_time": "2021-11-23T08:30:10.970915",
     "status": "completed"
    },
    "tags": []
   },
   "outputs": [
    {
     "data": {
      "text/plain": [
       "<AxesSubplot:ylabel='PRODUCT'>"
      ]
     },
     "execution_count": 7,
     "metadata": {},
     "output_type": "execute_result"
    },
    {
     "data": {
      "image/png": "[encoded data removed]",
      "text/plain": [
       "<Figure size 432x288 with 1 Axes>"
      ]
     },
     "metadata": {
      "needs_background": "light"
     },
     "output_type": "display_data"
    }
   ],
   "source": [
    "df_pivot_diff.sort_values(\"stamp_2\", ascending = False)[\"stamp_2\"].head(10).plot.barh()"
   ]
  },
  {
   "cell_type": "code",
   "execution_count": null,
   "id": "extra-executive",
   "metadata": {
    "papermill": {
     "duration": 0.0241,
     "end_time": "2021-11-23T08:30:12.958184",
     "exception": false,
     "start_time": "2021-11-23T08:30:12.934084",
     "status": "completed"
    },
    "tags": []
   },
   "outputs": [],
   "source": []
  }
 ],
 "metadata": {
  "kernelspec": {
   "display_name": "Python 3",
   "language": "python",
   "name": "python3"
  },
  "language_info": {
   "codemirror_mode": {
    "name": "ipython",
    "version": 3
   },
   "file_extension": ".py",
   "mimetype": "text/x-python",
   "name": "python",
   "nbconvert_exporter": "python",
   "pygments_lexer": "ipython3",
   "version": "3.9.5"
  },
  "papermill": {
   "default_parameters": {},
   "duration": 9.929226,
   "end_time": "2021-11-23T08:30:14.556575",
   "environment_variables": {},
   "exception": null,
   "input_path": "eBay_Overview.ipynb",
   "output_path": "eBay_Overview.ipynb",
   "parameters": {},
   "start_time": "2021-11-23T08:30:04.627349",
   "version": "2.3.3"
  }
 },
 "nbformat": 4,
 "nbformat_minor": 5
}