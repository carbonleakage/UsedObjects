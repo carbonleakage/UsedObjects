{
 "cells": [
  {
   "cell_type": "code",
   "execution_count": 1,
   "id": "reverse-picking",
   "metadata": {
    "execution": {
     "iopub.execute_input": "2021-09-08T02:30:07.472947Z",
     "iopub.status.busy": "2021-09-08T02:30:07.471016Z",
     "iopub.status.idle": "2021-09-08T02:30:08.282505Z",
     "shell.execute_reply": "2021-09-08T02:30:08.284002Z"
    },
    "papermill": {
     "duration": 0.865136,
     "end_time": "2021-09-08T02:30:08.284771",
     "exception": false,
     "start_time": "2021-09-08T02:30:07.419635",
     "status": "completed"
    },
    "tags": []
   },
   "outputs": [],
   "source": [
    "import pandas as pd\n",
    "import sqlite3"
   ]
  },
  {
   "cell_type": "code",
   "execution_count": 2,
   "id": "innovative-syndrome",
   "metadata": {
    "execution": {
     "iopub.execute_input": "2021-09-08T02:30:08.336767Z",
     "iopub.status.busy": "2021-09-08T02:30:08.334347Z",
     "iopub.status.idle": "2021-09-08T02:30:08.570420Z",
     "shell.execute_reply": "2021-09-08T02:30:08.571851Z"
    },
    "papermill": {
     "duration": 0.266633,
     "end_time": "2021-09-08T02:30:08.572274",
     "exception": false,
     "start_time": "2021-09-08T02:30:08.305641",
     "status": "completed"
    },
    "tags": []
   },
   "outputs": [],
   "source": [
    "timestamps = pd.read_sql(\"select distinct record_time from EBAY_TOP_BERLIN order by record_time desc limit 2\", sqlite3.connect(\"UsedObjects.db\"))"
   ]
  },
  {
   "cell_type": "code",
   "execution_count": 3,
   "id": "periodic-identification",
   "metadata": {
    "execution": {
     "iopub.execute_input": "2021-09-08T02:30:08.643077Z",
     "iopub.status.busy": "2021-09-08T02:30:08.637526Z",
     "iopub.status.idle": "2021-09-08T02:30:08.658035Z",
     "shell.execute_reply": "2021-09-08T02:30:08.659392Z"
    },
    "papermill": {
     "duration": 0.067401,
     "end_time": "2021-09-08T02:30:08.659822",
     "exception": false,
     "start_time": "2021-09-08T02:30:08.592421",
     "status": "completed"
    },
    "tags": []
   },
   "outputs": [
    {
     "data": {
      "text/html": [
       "<div>\n",
       "<style scoped>\n",
       "    .dataframe tbody tr th:only-of-type {\n",
       "        vertical-align: middle;\n",
       "    }\n",
       "\n",
       "    .dataframe tbody tr th {\n",
       "        vertical-align: top;\n",
       "    }\n",
       "\n",
       "    .dataframe thead th {\n",
       "        text-align: right;\n",
       "    }\n",
       "</style>\n",
       "<table border=\"1\" class=\"dataframe\">\n",
       "  <thead>\n",
       "    <tr style=\"text-align: right;\">\n",
       "      <th></th>\n",
       "      <th>RECORD_TIME</th>\n",
       "    </tr>\n",
       "  </thead>\n",
       "  <tbody>\n",
       "    <tr>\n",
       "      <th>0</th>\n",
       "      <td>2021-09-08 04:30</td>\n",
       "    </tr>\n",
       "    <tr>\n",
       "      <th>1</th>\n",
       "      <td>2021-09-08 04:00</td>\n",
       "    </tr>\n",
       "  </tbody>\n",
       "</table>\n",
       "</div>"
      ],
      "text/plain": [
       "        RECORD_TIME\n",
       "0  2021-09-08 04:30\n",
       "1  2021-09-08 04:00"
      ]
     },
     "execution_count": 3,
     "metadata": {},
     "output_type": "execute_result"
    }
   ],
   "source": [
    "timestamps"
   ]
  },
  {
   "cell_type": "code",
   "execution_count": 4,
   "id": "alternate-victory",
   "metadata": {
    "execution": {
     "iopub.execute_input": "2021-09-08T02:30:08.711639Z",
     "iopub.status.busy": "2021-09-08T02:30:08.709711Z",
     "iopub.status.idle": "2021-09-08T02:30:09.051089Z",
     "shell.execute_reply": "2021-09-08T02:30:09.052378Z"
    },
    "papermill": {
     "duration": 0.371469,
     "end_time": "2021-09-08T02:30:09.052780",
     "exception": false,
     "start_time": "2021-09-08T02:30:08.681311",
     "status": "completed"
    },
    "tags": []
   },
   "outputs": [],
   "source": [
    "df = pd.read_sql(\"select * from EBAY_TOP_BERLIN where record_time in (select distinct record_time from EBAY_TOP_BERLIN order by record_time desc limit 2)\", sqlite3.connect(\"UsedObjects.db\"))"
   ]
  },
  {
   "cell_type": "code",
   "execution_count": 5,
   "id": "popular-active",
   "metadata": {
    "execution": {
     "iopub.execute_input": "2021-09-08T02:30:09.134263Z",
     "iopub.status.busy": "2021-09-08T02:30:09.122288Z",
     "iopub.status.idle": "2021-09-08T02:30:09.151871Z",
     "shell.execute_reply": "2021-09-08T02:30:09.153294Z"
    },
    "papermill": {
     "duration": 0.073656,
     "end_time": "2021-09-08T02:30:09.153732",
     "exception": false,
     "start_time": "2021-09-08T02:30:09.080076",
     "status": "completed"
    },
    "tags": []
   },
   "outputs": [],
   "source": [
    "df_pivot = df.pivot_table(index=\"PRODUCT\", columns = \"RECORD_TIME\", values = \"LISTING_COUNT\")"
   ]
  },
  {
   "cell_type": "code",
   "execution_count": 6,
   "id": "union-huntington",
   "metadata": {
    "execution": {
     "iopub.execute_input": "2021-09-08T02:30:09.210800Z",
     "iopub.status.busy": "2021-09-08T02:30:09.208724Z",
     "iopub.status.idle": "2021-09-08T02:30:09.214299Z",
     "shell.execute_reply": "2021-09-08T02:30:09.215634Z"
    },
    "papermill": {
     "duration": 0.041898,
     "end_time": "2021-09-08T02:30:09.216061",
     "exception": false,
     "start_time": "2021-09-08T02:30:09.174163",
     "status": "completed"
    },
    "tags": []
   },
   "outputs": [],
   "source": [
    "df_pivot.columns = [\"stamp_1\", \"stamp_2\"]\n",
    "df_pivot_diff = df_pivot.diff(axis=1)"
   ]
  },
  {
   "cell_type": "code",
   "execution_count": 7,
   "id": "fifth-motion",
   "metadata": {
    "execution": {
     "iopub.execute_input": "2021-09-08T02:30:09.271387Z",
     "iopub.status.busy": "2021-09-08T02:30:09.268934Z",
     "iopub.status.idle": "2021-09-08T02:30:10.776626Z",
     "shell.execute_reply": "2021-09-08T02:30:10.777983Z"
    },
    "papermill": {
     "duration": 1.540846,
     "end_time": "2021-09-08T02:30:10.778425",
     "exception": false,
     "start_time": "2021-09-08T02:30:09.237579",
     "status": "completed"
    },
    "tags": []
   },
   "outputs": [
    {
     "data": {
      "text/plain": [
       "<AxesSubplot:ylabel='PRODUCT'>"
      ]
     },
     "execution_count": 7,
     "metadata": {},
     "output_type": "execute_result"
    },
    {
     "data": {
      "image/png": "[encoded data removed]",
      "text/plain": [
       "<Figure size 432x288 with 1 Axes>"
      ]
     },
     "metadata": {
      "needs_background": "light"
     },
     "output_type": "display_data"
    }
   ],
   "source": [
    "df_pivot_diff.sort_values(\"stamp_2\", ascending = False)[\"stamp_2\"].head(10).plot.barh()"
   ]
  },
  {
   "cell_type": "code",
   "execution_count": null,
   "id": "extra-executive",
   "metadata": {
    "papermill": {
     "duration": 0.022264,
     "end_time": "2021-09-08T02:30:10.824991",
     "exception": false,
     "start_time": "2021-09-08T02:30:10.802727",
     "status": "completed"
    },
    "tags": []
   },
   "outputs": [],
   "source": []
  }
 ],
 "metadata": {
  "kernelspec": {
   "display_name": "Python 3",
   "language": "python",
   "name": "python3"
  },
  "language_info": {
   "codemirror_mode": {
    "name": "ipython",
    "version": 3
   },
   "file_extension": ".py",
   "mimetype": "text/x-python",
   "name": "python",
   "nbconvert_exporter": "python",
   "pygments_lexer": "ipython3",
   "version": "3.9.5"
  },
  "papermill": {
   "default_parameters": {},
   "duration": 6.465263,
   "end_time": "2021-09-08T02:30:11.466420",
   "environment_variables": {},
   "exception": null,
   "input_path": "eBay_Overview.ipynb",
   "output_path": "eBay_Overview.ipynb",
   "parameters": {},
   "start_time": "2021-09-08T02:30:05.001157",
   "version": "2.3.3"
  }
 },
 "nbformat": 4,
 "nbformat_minor": 5
}