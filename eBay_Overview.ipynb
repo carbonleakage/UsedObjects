{
 "cells": [
  {
   "cell_type": "code",
   "execution_count": 1,
   "id": "reverse-picking",
   "metadata": {
    "execution": {
     "iopub.execute_input": "2021-09-16T06:30:07.226986Z",
     "iopub.status.busy": "2021-09-16T06:30:07.225012Z",
     "iopub.status.idle": "2021-09-16T06:30:08.027416Z",
     "shell.execute_reply": "2021-09-16T06:30:08.028678Z"
    },
    "papermill": {
     "duration": 0.85282,
     "end_time": "2021-09-16T06:30:08.029298",
     "exception": false,
     "start_time": "2021-09-16T06:30:07.176478",
     "status": "completed"
    },
    "tags": []
   },
   "outputs": [],
   "source": [
    "import pandas as pd\n",
    "import sqlite3"
   ]
  },
  {
   "cell_type": "code",
   "execution_count": 2,
   "id": "innovative-syndrome",
   "metadata": {
    "execution": {
     "iopub.execute_input": "2021-09-16T06:30:08.079534Z",
     "iopub.status.busy": "2021-09-16T06:30:08.077593Z",
     "iopub.status.idle": "2021-09-16T06:30:08.370074Z",
     "shell.execute_reply": "2021-09-16T06:30:08.371511Z"
    },
    "papermill": {
     "duration": 0.322099,
     "end_time": "2021-09-16T06:30:08.371965",
     "exception": false,
     "start_time": "2021-09-16T06:30:08.049866",
     "status": "completed"
    },
    "tags": []
   },
   "outputs": [],
   "source": [
    "timestamps = pd.read_sql(\"select distinct record_time from EBAY_TOP_BERLIN order by record_time desc limit 2\", sqlite3.connect(\"UsedObjects.db\"))"
   ]
  },
  {
   "cell_type": "code",
   "execution_count": 3,
   "id": "periodic-identification",
   "metadata": {
    "execution": {
     "iopub.execute_input": "2021-09-16T06:30:08.440793Z",
     "iopub.status.busy": "2021-09-16T06:30:08.434658Z",
     "iopub.status.idle": "2021-09-16T06:30:08.455792Z",
     "shell.execute_reply": "2021-09-16T06:30:08.456933Z"
    },
    "papermill": {
     "duration": 0.065704,
     "end_time": "2021-09-16T06:30:08.457336",
     "exception": false,
     "start_time": "2021-09-16T06:30:08.391632",
     "status": "completed"
    },
    "tags": []
   },
   "outputs": [
    {
     "data": {
      "text/html": [
       "<div>\n",
       "<style scoped>\n",
       "    .dataframe tbody tr th:only-of-type {\n",
       "        vertical-align: middle;\n",
       "    }\n",
       "\n",
       "    .dataframe tbody tr th {\n",
       "        vertical-align: top;\n",
       "    }\n",
       "\n",
       "    .dataframe thead th {\n",
       "        text-align: right;\n",
       "    }\n",
       "</style>\n",
       "<table border=\"1\" class=\"dataframe\">\n",
       "  <thead>\n",
       "    <tr style=\"text-align: right;\">\n",
       "      <th></th>\n",
       "      <th>RECORD_TIME</th>\n",
       "    </tr>\n",
       "  </thead>\n",
       "  <tbody>\n",
       "    <tr>\n",
       "      <th>0</th>\n",
       "      <td>2021-09-16 08:30</td>\n",
       "    </tr>\n",
       "    <tr>\n",
       "      <th>1</th>\n",
       "      <td>2021-09-16 08:00</td>\n",
       "    </tr>\n",
       "  </tbody>\n",
       "</table>\n",
       "</div>"
      ],
      "text/plain": [
       "        RECORD_TIME\n",
       "0  2021-09-16 08:30\n",
       "1  2021-09-16 08:00"
      ]
     },
     "execution_count": 3,
     "metadata": {},
     "output_type": "execute_result"
    }
   ],
   "source": [
    "timestamps"
   ]
  },
  {
   "cell_type": "code",
   "execution_count": 4,
   "id": "alternate-victory",
   "metadata": {
    "execution": {
     "iopub.execute_input": "2021-09-16T06:30:08.511863Z",
     "iopub.status.busy": "2021-09-16T06:30:08.509525Z",
     "iopub.status.idle": "2021-09-16T06:30:08.945050Z",
     "shell.execute_reply": "2021-09-16T06:30:08.946255Z"
    },
    "papermill": {
     "duration": 0.466031,
     "end_time": "2021-09-16T06:30:08.946650",
     "exception": false,
     "start_time": "2021-09-16T06:30:08.480619",
     "status": "completed"
    },
    "tags": []
   },
   "outputs": [],
   "source": [
    "df = pd.read_sql(\"select * from EBAY_TOP_BERLIN where record_time in (select distinct record_time from EBAY_TOP_BERLIN order by record_time desc limit 2)\", sqlite3.connect(\"UsedObjects.db\"))"
   ]
  },
  {
   "cell_type": "code",
   "execution_count": 5,
   "id": "popular-active",
   "metadata": {
    "execution": {
     "iopub.execute_input": "2021-09-16T06:30:09.030581Z",
     "iopub.status.busy": "2021-09-16T06:30:09.016119Z",
     "iopub.status.idle": "2021-09-16T06:30:09.046940Z",
     "shell.execute_reply": "2021-09-16T06:30:09.048233Z"
    },
    "papermill": {
     "duration": 0.074278,
     "end_time": "2021-09-16T06:30:09.048644",
     "exception": false,
     "start_time": "2021-09-16T06:30:08.974366",
     "status": "completed"
    },
    "tags": []
   },
   "outputs": [],
   "source": [
    "df_pivot = df.pivot_table(index=\"PRODUCT\", columns = \"RECORD_TIME\", values = \"LISTING_COUNT\")"
   ]
  },
  {
   "cell_type": "code",
   "execution_count": 6,
   "id": "union-huntington",
   "metadata": {
    "execution": {
     "iopub.execute_input": "2021-09-16T06:30:09.104433Z",
     "iopub.status.busy": "2021-09-16T06:30:09.102346Z",
     "iopub.status.idle": "2021-09-16T06:30:09.107729Z",
     "shell.execute_reply": "2021-09-16T06:30:09.109030Z"
    },
    "papermill": {
     "duration": 0.040496,
     "end_time": "2021-09-16T06:30:09.109446",
     "exception": false,
     "start_time": "2021-09-16T06:30:09.068950",
     "status": "completed"
    },
    "tags": []
   },
   "outputs": [],
   "source": [
    "df_pivot.columns = [\"stamp_1\", \"stamp_2\"]\n",
    "df_pivot_diff = df_pivot.diff(axis=1)"
   ]
  },
  {
   "cell_type": "code",
   "execution_count": 7,
   "id": "fifth-motion",
   "metadata": {
    "execution": {
     "iopub.execute_input": "2021-09-16T06:30:09.164075Z",
     "iopub.status.busy": "2021-09-16T06:30:09.161518Z",
     "iopub.status.idle": "2021-09-16T06:30:10.612964Z",
     "shell.execute_reply": "2021-09-16T06:30:10.614230Z"
    },
    "papermill": {
     "duration": 1.484702,
     "end_time": "2021-09-16T06:30:10.614644",
     "exception": false,
     "start_time": "2021-09-16T06:30:09.129942",
     "status": "completed"
    },
    "tags": []
   },
   "outputs": [
    {
     "data": {
      "text/plain": [
       "<AxesSubplot:ylabel='PRODUCT'>"
      ]
     },
     "execution_count": 7,
     "metadata": {},
     "output_type": "execute_result"
    },
    {
     "data": {
      "image/png": "[encoded data removed]",
      "text/plain": [
       "<Figure size 432x288 with 1 Axes>"
      ]
     },
     "metadata": {
      "needs_background": "light"
     },
     "output_type": "display_data"
    }
   ],
   "source": [
    "df_pivot_diff.sort_values(\"stamp_2\", ascending = False)[\"stamp_2\"].head(10).plot.barh()"
   ]
  },
  {
   "cell_type": "code",
   "execution_count": null,
   "id": "extra-executive",
   "metadata": {
    "papermill": {
     "duration": 0.022277,
     "end_time": "2021-09-16T06:30:10.661765",
     "exception": false,
     "start_time": "2021-09-16T06:30:10.639488",
     "status": "completed"
    },
    "tags": []
   },
   "outputs": [],
   "source": []
  }
 ],
 "metadata": {
  "kernelspec": {
   "display_name": "Python 3",
   "language": "python",
   "name": "python3"
  },
  "language_info": {
   "codemirror_mode": {
    "name": "ipython",
    "version": 3
   },
   "file_extension": ".py",
   "mimetype": "text/x-python",
   "name": "python",
   "nbconvert_exporter": "python",
   "pygments_lexer": "ipython3",
   "version": "3.9.5"
  },
  "papermill": {
   "default_parameters": {},
   "duration": 6.520194,
   "end_time": "2021-09-16T06:30:11.304764",
   "environment_variables": {},
   "exception": null,
   "input_path": "eBay_Overview.ipynb",
   "output_path": "eBay_Overview.ipynb",
   "parameters": {},
   "start_time": "2021-09-16T06:30:04.784570",
   "version": "2.3.3"
  }
 },
 "nbformat": 4,
 "nbformat_minor": 5
}