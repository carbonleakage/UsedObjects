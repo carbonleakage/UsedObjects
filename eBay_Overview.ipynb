{
 "cells": [
  {
   "cell_type": "code",
   "execution_count": 1,
   "id": "reverse-picking",
   "metadata": {
    "execution": {
     "iopub.execute_input": "2021-09-05T19:00:07.331528Z",
     "iopub.status.busy": "2021-09-05T19:00:07.329468Z",
     "iopub.status.idle": "2021-09-05T19:00:08.133946Z",
     "shell.execute_reply": "2021-09-05T19:00:08.135277Z"
    },
    "papermill": {
     "duration": 0.855128,
     "end_time": "2021-09-05T19:00:08.135916",
     "exception": false,
     "start_time": "2021-09-05T19:00:07.280788",
     "status": "completed"
    },
    "tags": []
   },
   "outputs": [],
   "source": [
    "import pandas as pd\n",
    "import sqlite3"
   ]
  },
  {
   "cell_type": "code",
   "execution_count": 2,
   "id": "innovative-syndrome",
   "metadata": {
    "execution": {
     "iopub.execute_input": "2021-09-05T19:00:08.186846Z",
     "iopub.status.busy": "2021-09-05T19:00:08.185001Z",
     "iopub.status.idle": "2021-09-05T19:00:08.400773Z",
     "shell.execute_reply": "2021-09-05T19:00:08.401964Z"
    },
    "papermill": {
     "duration": 0.245548,
     "end_time": "2021-09-05T19:00:08.402358",
     "exception": false,
     "start_time": "2021-09-05T19:00:08.156810",
     "status": "completed"
    },
    "tags": []
   },
   "outputs": [],
   "source": [
    "timestamps = pd.read_sql(\"select distinct record_time from EBAY_TOP_BERLIN order by record_time desc limit 2\", sqlite3.connect(\"UsedObjects.db\"))"
   ]
  },
  {
   "cell_type": "code",
   "execution_count": 3,
   "id": "periodic-identification",
   "metadata": {
    "execution": {
     "iopub.execute_input": "2021-09-05T19:00:08.467706Z",
     "iopub.status.busy": "2021-09-05T19:00:08.465616Z",
     "iopub.status.idle": "2021-09-05T19:00:08.487847Z",
     "shell.execute_reply": "2021-09-05T19:00:08.489282Z"
    },
    "papermill": {
     "duration": 0.067882,
     "end_time": "2021-09-05T19:00:08.489723",
     "exception": false,
     "start_time": "2021-09-05T19:00:08.421841",
     "status": "completed"
    },
    "tags": []
   },
   "outputs": [
    {
     "data": {
      "text/html": [
       "<div>\n",
       "<style scoped>\n",
       "    .dataframe tbody tr th:only-of-type {\n",
       "        vertical-align: middle;\n",
       "    }\n",
       "\n",
       "    .dataframe tbody tr th {\n",
       "        vertical-align: top;\n",
       "    }\n",
       "\n",
       "    .dataframe thead th {\n",
       "        text-align: right;\n",
       "    }\n",
       "</style>\n",
       "<table border=\"1\" class=\"dataframe\">\n",
       "  <thead>\n",
       "    <tr style=\"text-align: right;\">\n",
       "      <th></th>\n",
       "      <th>RECORD_TIME</th>\n",
       "    </tr>\n",
       "  </thead>\n",
       "  <tbody>\n",
       "    <tr>\n",
       "      <th>0</th>\n",
       "      <td>2021-09-05 21:00</td>\n",
       "    </tr>\n",
       "    <tr>\n",
       "      <th>1</th>\n",
       "      <td>2021-09-05 20:30</td>\n",
       "    </tr>\n",
       "  </tbody>\n",
       "</table>\n",
       "</div>"
      ],
      "text/plain": [
       "        RECORD_TIME\n",
       "0  2021-09-05 21:00\n",
       "1  2021-09-05 20:30"
      ]
     },
     "execution_count": 3,
     "metadata": {},
     "output_type": "execute_result"
    }
   ],
   "source": [
    "timestamps"
   ]
  },
  {
   "cell_type": "code",
   "execution_count": 4,
   "id": "alternate-victory",
   "metadata": {
    "execution": {
     "iopub.execute_input": "2021-09-05T19:00:08.541299Z",
     "iopub.status.busy": "2021-09-05T19:00:08.539464Z",
     "iopub.status.idle": "2021-09-05T19:00:08.859971Z",
     "shell.execute_reply": "2021-09-05T19:00:08.861248Z"
    },
    "papermill": {
     "duration": 0.35067,
     "end_time": "2021-09-05T19:00:08.861645",
     "exception": false,
     "start_time": "2021-09-05T19:00:08.510975",
     "status": "completed"
    },
    "tags": []
   },
   "outputs": [],
   "source": [
    "df = pd.read_sql(\"select * from EBAY_TOP_BERLIN where record_time in (select distinct record_time from EBAY_TOP_BERLIN order by record_time desc limit 2)\", sqlite3.connect(\"UsedObjects.db\"))"
   ]
  },
  {
   "cell_type": "code",
   "execution_count": 5,
   "id": "popular-active",
   "metadata": {
    "execution": {
     "iopub.execute_input": "2021-09-05T19:00:08.941341Z",
     "iopub.status.busy": "2021-09-05T19:00:08.929529Z",
     "iopub.status.idle": "2021-09-05T19:00:08.959229Z",
     "shell.execute_reply": "2021-09-05T19:00:08.960530Z"
    },
    "papermill": {
     "duration": 0.073312,
     "end_time": "2021-09-05T19:00:08.960982",
     "exception": false,
     "start_time": "2021-09-05T19:00:08.887670",
     "status": "completed"
    },
    "tags": []
   },
   "outputs": [],
   "source": [
    "df_pivot = df.pivot_table(index=\"PRODUCT\", columns = \"RECORD_TIME\", values = \"LISTING_COUNT\")"
   ]
  },
  {
   "cell_type": "code",
   "execution_count": 6,
   "id": "union-huntington",
   "metadata": {
    "execution": {
     "iopub.execute_input": "2021-09-05T19:00:09.018835Z",
     "iopub.status.busy": "2021-09-05T19:00:09.016408Z",
     "iopub.status.idle": "2021-09-05T19:00:09.022285Z",
     "shell.execute_reply": "2021-09-05T19:00:09.023558Z"
    },
    "papermill": {
     "duration": 0.042433,
     "end_time": "2021-09-05T19:00:09.024000",
     "exception": false,
     "start_time": "2021-09-05T19:00:08.981567",
     "status": "completed"
    },
    "tags": []
   },
   "outputs": [],
   "source": [
    "df_pivot.columns = [\"stamp_1\", \"stamp_2\"]\n",
    "df_pivot_diff = df_pivot.diff(axis=1)"
   ]
  },
  {
   "cell_type": "code",
   "execution_count": 7,
   "id": "fifth-motion",
   "metadata": {
    "execution": {
     "iopub.execute_input": "2021-09-05T19:00:09.078742Z",
     "iopub.status.busy": "2021-09-05T19:00:09.076493Z",
     "iopub.status.idle": "2021-09-05T19:00:10.579904Z",
     "shell.execute_reply": "2021-09-05T19:00:10.581180Z"
    },
    "papermill": {
     "duration": 1.536866,
     "end_time": "2021-09-05T19:00:10.581633",
     "exception": false,
     "start_time": "2021-09-05T19:00:09.044767",
     "status": "completed"
    },
    "tags": []
   },
   "outputs": [
    {
     "data": {
      "text/plain": [
       "<AxesSubplot:ylabel='PRODUCT'>"
      ]
     },
     "execution_count": 7,
     "metadata": {},
     "output_type": "execute_result"
    },
    {
     "data": {
      "image/png": "[encoded data removed]",
      "text/plain": [
       "<Figure size 432x288 with 1 Axes>"
      ]
     },
     "metadata": {
      "needs_background": "light"
     },
     "output_type": "display_data"
    }
   ],
   "source": [
    "df_pivot_diff.sort_values(\"stamp_2\", ascending = False)[\"stamp_2\"].head(10).plot.barh()"
   ]
  },
  {
   "cell_type": "code",
   "execution_count": null,
   "id": "extra-executive",
   "metadata": {
    "papermill": {
     "duration": 0.022366,
     "end_time": "2021-09-05T19:00:10.628622",
     "exception": false,
     "start_time": "2021-09-05T19:00:10.606256",
     "status": "completed"
    },
    "tags": []
   },
   "outputs": [],
   "source": []
  }
 ],
 "metadata": {
  "kernelspec": {
   "display_name": "Python 3",
   "language": "python",
   "name": "python3"
  },
  "language_info": {
   "codemirror_mode": {
    "name": "ipython",
    "version": 3
   },
   "file_extension": ".py",
   "mimetype": "text/x-python",
   "name": "python",
   "nbconvert_exporter": "python",
   "pygments_lexer": "ipython3",
   "version": "3.9.5"
  },
  "papermill": {
   "default_parameters": {},
   "duration": 6.388912,
   "end_time": "2021-09-05T19:00:11.269591",
   "environment_variables": {},
   "exception": null,
   "input_path": "eBay_Overview.ipynb",
   "output_path": "eBay_Overview.ipynb",
   "parameters": {},
   "start_time": "2021-09-05T19:00:04.880679",
   "version": "2.3.3"
  }
 },
 "nbformat": 4,
 "nbformat_minor": 5
}