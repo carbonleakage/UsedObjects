{
 "cells": [
  {
   "cell_type": "code",
   "execution_count": 1,
   "id": "reverse-picking",
   "metadata": {
    "execution": {
     "iopub.execute_input": "2021-12-07T09:00:07.790445Z",
     "iopub.status.busy": "2021-12-07T09:00:07.788165Z",
     "iopub.status.idle": "2021-12-07T09:00:08.710012Z",
     "shell.execute_reply": "2021-12-07T09:00:08.711328Z"
    },
    "papermill": {
     "duration": 0.970749,
     "end_time": "2021-12-07T09:00:08.711975",
     "exception": false,
     "start_time": "2021-12-07T09:00:07.741226",
     "status": "completed"
    },
    "tags": []
   },
   "outputs": [],
   "source": [
    "import pandas as pd\n",
    "import sqlite3"
   ]
  },
  {
   "cell_type": "code",
   "execution_count": 2,
   "id": "innovative-syndrome",
   "metadata": {
    "execution": {
     "iopub.execute_input": "2021-12-07T09:00:08.766143Z",
     "iopub.status.busy": "2021-12-07T09:00:08.764008Z",
     "iopub.status.idle": "2021-12-07T09:00:09.781508Z",
     "shell.execute_reply": "2021-12-07T09:00:09.783656Z"
    },
    "papermill": {
     "duration": 1.050791,
     "end_time": "2021-12-07T09:00:09.784117",
     "exception": false,
     "start_time": "2021-12-07T09:00:08.733326",
     "status": "completed"
    },
    "tags": []
   },
   "outputs": [],
   "source": [
    "timestamps = pd.read_sql(\"select distinct record_time from EBAY_TOP_BERLIN order by record_time desc limit 2\", sqlite3.connect(\"UsedObjects.db\"))"
   ]
  },
  {
   "cell_type": "code",
   "execution_count": 3,
   "id": "periodic-identification",
   "metadata": {
    "execution": {
     "iopub.execute_input": "2021-12-07T09:00:09.856895Z",
     "iopub.status.busy": "2021-12-07T09:00:09.854413Z",
     "iopub.status.idle": "2021-12-07T09:00:09.876864Z",
     "shell.execute_reply": "2021-12-07T09:00:09.878410Z"
    },
    "papermill": {
     "duration": 0.074051,
     "end_time": "2021-12-07T09:00:09.878887",
     "exception": false,
     "start_time": "2021-12-07T09:00:09.804836",
     "status": "completed"
    },
    "tags": []
   },
   "outputs": [
    {
     "data": {
      "text/html": [
       "<div>\n",
       "<style scoped>\n",
       "    .dataframe tbody tr th:only-of-type {\n",
       "        vertical-align: middle;\n",
       "    }\n",
       "\n",
       "    .dataframe tbody tr th {\n",
       "        vertical-align: top;\n",
       "    }\n",
       "\n",
       "    .dataframe thead th {\n",
       "        text-align: right;\n",
       "    }\n",
       "</style>\n",
       "<table border=\"1\" class=\"dataframe\">\n",
       "  <thead>\n",
       "    <tr style=\"text-align: right;\">\n",
       "      <th></th>\n",
       "      <th>RECORD_TIME</th>\n",
       "    </tr>\n",
       "  </thead>\n",
       "  <tbody>\n",
       "    <tr>\n",
       "      <th>0</th>\n",
       "      <td>2021-12-07 10:00</td>\n",
       "    </tr>\n",
       "    <tr>\n",
       "      <th>1</th>\n",
       "      <td>2021-12-07 09:30</td>\n",
       "    </tr>\n",
       "  </tbody>\n",
       "</table>\n",
       "</div>"
      ],
      "text/plain": [
       "        RECORD_TIME\n",
       "0  2021-12-07 10:00\n",
       "1  2021-12-07 09:30"
      ]
     },
     "execution_count": 3,
     "metadata": {},
     "output_type": "execute_result"
    }
   ],
   "source": [
    "timestamps"
   ]
  },
  {
   "cell_type": "code",
   "execution_count": 4,
   "id": "alternate-victory",
   "metadata": {
    "execution": {
     "iopub.execute_input": "2021-12-07T09:00:09.935503Z",
     "iopub.status.busy": "2021-12-07T09:00:09.933403Z",
     "iopub.status.idle": "2021-12-07T09:00:11.434965Z",
     "shell.execute_reply": "2021-12-07T09:00:11.438645Z"
    },
    "papermill": {
     "duration": 1.538468,
     "end_time": "2021-12-07T09:00:11.439428",
     "exception": false,
     "start_time": "2021-12-07T09:00:09.900960",
     "status": "completed"
    },
    "tags": []
   },
   "outputs": [],
   "source": [
    "df = pd.read_sql(\"select * from EBAY_TOP_BERLIN where record_time in (select distinct record_time from EBAY_TOP_BERLIN order by record_time desc limit 2)\", sqlite3.connect(\"UsedObjects.db\"))"
   ]
  },
  {
   "cell_type": "code",
   "execution_count": 5,
   "id": "popular-active",
   "metadata": {
    "execution": {
     "iopub.execute_input": "2021-12-07T09:00:11.545552Z",
     "iopub.status.busy": "2021-12-07T09:00:11.530093Z",
     "iopub.status.idle": "2021-12-07T09:00:11.572063Z",
     "shell.execute_reply": "2021-12-07T09:00:11.573966Z"
    },
    "papermill": {
     "duration": 0.104532,
     "end_time": "2021-12-07T09:00:11.574593",
     "exception": false,
     "start_time": "2021-12-07T09:00:11.470061",
     "status": "completed"
    },
    "tags": []
   },
   "outputs": [],
   "source": [
    "df_pivot = df.pivot_table(index=\"PRODUCT\", columns = \"RECORD_TIME\", values = \"LISTING_COUNT\")"
   ]
  },
  {
   "cell_type": "code",
   "execution_count": 6,
   "id": "union-huntington",
   "metadata": {
    "execution": {
     "iopub.execute_input": "2021-12-07T09:00:11.632402Z",
     "iopub.status.busy": "2021-12-07T09:00:11.630384Z",
     "iopub.status.idle": "2021-12-07T09:00:11.638285Z",
     "shell.execute_reply": "2021-12-07T09:00:11.636137Z"
    },
    "papermill": {
     "duration": 0.04233,
     "end_time": "2021-12-07T09:00:11.638777",
     "exception": false,
     "start_time": "2021-12-07T09:00:11.596447",
     "status": "completed"
    },
    "tags": []
   },
   "outputs": [],
   "source": [
    "df_pivot.columns = [\"stamp_1\", \"stamp_2\"]\n",
    "df_pivot_diff = df_pivot.diff(axis=1)"
   ]
  },
  {
   "cell_type": "code",
   "execution_count": 7,
   "id": "fifth-motion",
   "metadata": {
    "execution": {
     "iopub.execute_input": "2021-12-07T09:00:11.697272Z",
     "iopub.status.busy": "2021-12-07T09:00:11.694760Z",
     "iopub.status.idle": "2021-12-07T09:00:13.379108Z",
     "shell.execute_reply": "2021-12-07T09:00:13.380560Z"
    },
    "papermill": {
     "duration": 1.719979,
     "end_time": "2021-12-07T09:00:13.381118",
     "exception": false,
     "start_time": "2021-12-07T09:00:11.661139",
     "status": "completed"
    },
    "tags": []
   },
   "outputs": [
    {
     "data": {
      "text/plain": [
       "<AxesSubplot:ylabel='PRODUCT'>"
      ]
     },
     "execution_count": 7,
     "metadata": {},
     "output_type": "execute_result"
    },
    {
     "data": {
      "image/png": "[encoded data removed]",
      "text/plain": [
       "<Figure size 432x288 with 1 Axes>"
      ]
     },
     "metadata": {
      "needs_background": "light"
     },
     "output_type": "display_data"
    }
   ],
   "source": [
    "df_pivot_diff.sort_values(\"stamp_2\", ascending = False)[\"stamp_2\"].head(10).plot.barh()"
   ]
  },
  {
   "cell_type": "code",
   "execution_count": null,
   "id": "extra-executive",
   "metadata": {
    "papermill": {
     "duration": 0.022362,
     "end_time": "2021-12-07T09:00:13.429610",
     "exception": false,
     "start_time": "2021-12-07T09:00:13.407248",
     "status": "completed"
    },
    "tags": []
   },
   "outputs": [],
   "source": []
  }
 ],
 "metadata": {
  "kernelspec": {
   "display_name": "Python 3",
   "language": "python",
   "name": "python3"
  },
  "language_info": {
   "codemirror_mode": {
    "name": "ipython",
    "version": 3
   },
   "file_extension": ".py",
   "mimetype": "text/x-python",
   "name": "python",
   "nbconvert_exporter": "python",
   "pygments_lexer": "ipython3",
   "version": "3.9.5"
  },
  "papermill": {
   "default_parameters": {},
   "duration": 9.941849,
   "end_time": "2021-12-07T09:00:14.956172",
   "environment_variables": {},
   "exception": null,
   "input_path": "eBay_Overview.ipynb",
   "output_path": "eBay_Overview.ipynb",
   "parameters": {},
   "start_time": "2021-12-07T09:00:05.014323",
   "version": "2.3.3"
  }
 },
 "nbformat": 4,
 "nbformat_minor": 5
}