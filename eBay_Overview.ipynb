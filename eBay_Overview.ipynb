{
 "cells": [
  {
   "cell_type": "code",
   "execution_count": 1,
   "id": "reverse-picking",
   "metadata": {
    "execution": {
     "iopub.execute_input": "2021-09-14T15:30:06.884032Z",
     "iopub.status.busy": "2021-09-14T15:30:06.881884Z",
     "iopub.status.idle": "2021-09-14T15:30:07.687453Z",
     "shell.execute_reply": "2021-09-14T15:30:07.688881Z"
    },
    "papermill": {
     "duration": 0.856969,
     "end_time": "2021-09-14T15:30:07.689556",
     "exception": false,
     "start_time": "2021-09-14T15:30:06.832587",
     "status": "completed"
    },
    "tags": []
   },
   "outputs": [],
   "source": [
    "import pandas as pd\n",
    "import sqlite3"
   ]
  },
  {
   "cell_type": "code",
   "execution_count": 2,
   "id": "innovative-syndrome",
   "metadata": {
    "execution": {
     "iopub.execute_input": "2021-09-14T15:30:07.740592Z",
     "iopub.status.busy": "2021-09-14T15:30:07.738164Z",
     "iopub.status.idle": "2021-09-14T15:30:08.030154Z",
     "shell.execute_reply": "2021-09-14T15:30:08.031419Z"
    },
    "papermill": {
     "duration": 0.32201,
     "end_time": "2021-09-14T15:30:08.031818",
     "exception": false,
     "start_time": "2021-09-14T15:30:07.709808",
     "status": "completed"
    },
    "tags": []
   },
   "outputs": [],
   "source": [
    "timestamps = pd.read_sql(\"select distinct record_time from EBAY_TOP_BERLIN order by record_time desc limit 2\", sqlite3.connect(\"UsedObjects.db\"))"
   ]
  },
  {
   "cell_type": "code",
   "execution_count": 3,
   "id": "periodic-identification",
   "metadata": {
    "execution": {
     "iopub.execute_input": "2021-09-14T15:30:08.097898Z",
     "iopub.status.busy": "2021-09-14T15:30:08.092966Z",
     "iopub.status.idle": "2021-09-14T15:30:08.113612Z",
     "shell.execute_reply": "2021-09-14T15:30:08.115164Z"
    },
    "papermill": {
     "duration": 0.064342,
     "end_time": "2021-09-14T15:30:08.115620",
     "exception": false,
     "start_time": "2021-09-14T15:30:08.051278",
     "status": "completed"
    },
    "tags": []
   },
   "outputs": [
    {
     "data": {
      "text/html": [
       "<div>\n",
       "<style scoped>\n",
       "    .dataframe tbody tr th:only-of-type {\n",
       "        vertical-align: middle;\n",
       "    }\n",
       "\n",
       "    .dataframe tbody tr th {\n",
       "        vertical-align: top;\n",
       "    }\n",
       "\n",
       "    .dataframe thead th {\n",
       "        text-align: right;\n",
       "    }\n",
       "</style>\n",
       "<table border=\"1\" class=\"dataframe\">\n",
       "  <thead>\n",
       "    <tr style=\"text-align: right;\">\n",
       "      <th></th>\n",
       "      <th>RECORD_TIME</th>\n",
       "    </tr>\n",
       "  </thead>\n",
       "  <tbody>\n",
       "    <tr>\n",
       "      <th>0</th>\n",
       "      <td>2021-09-14 17:30</td>\n",
       "    </tr>\n",
       "    <tr>\n",
       "      <th>1</th>\n",
       "      <td>2021-09-14 17:00</td>\n",
       "    </tr>\n",
       "  </tbody>\n",
       "</table>\n",
       "</div>"
      ],
      "text/plain": [
       "        RECORD_TIME\n",
       "0  2021-09-14 17:30\n",
       "1  2021-09-14 17:00"
      ]
     },
     "execution_count": 3,
     "metadata": {},
     "output_type": "execute_result"
    }
   ],
   "source": [
    "timestamps"
   ]
  },
  {
   "cell_type": "code",
   "execution_count": 4,
   "id": "alternate-victory",
   "metadata": {
    "execution": {
     "iopub.execute_input": "2021-09-14T15:30:08.168289Z",
     "iopub.status.busy": "2021-09-14T15:30:08.165944Z",
     "iopub.status.idle": "2021-09-14T15:30:08.600130Z",
     "shell.execute_reply": "2021-09-14T15:30:08.601327Z"
    },
    "papermill": {
     "duration": 0.464451,
     "end_time": "2021-09-14T15:30:08.601715",
     "exception": false,
     "start_time": "2021-09-14T15:30:08.137264",
     "status": "completed"
    },
    "tags": []
   },
   "outputs": [],
   "source": [
    "df = pd.read_sql(\"select * from EBAY_TOP_BERLIN where record_time in (select distinct record_time from EBAY_TOP_BERLIN order by record_time desc limit 2)\", sqlite3.connect(\"UsedObjects.db\"))"
   ]
  },
  {
   "cell_type": "code",
   "execution_count": 5,
   "id": "popular-active",
   "metadata": {
    "execution": {
     "iopub.execute_input": "2021-09-14T15:30:08.682512Z",
     "iopub.status.busy": "2021-09-14T15:30:08.670711Z",
     "iopub.status.idle": "2021-09-14T15:30:08.698129Z",
     "shell.execute_reply": "2021-09-14T15:30:08.699586Z"
    },
    "papermill": {
     "duration": 0.071135,
     "end_time": "2021-09-14T15:30:08.699997",
     "exception": false,
     "start_time": "2021-09-14T15:30:08.628862",
     "status": "completed"
    },
    "tags": []
   },
   "outputs": [],
   "source": [
    "df_pivot = df.pivot_table(index=\"PRODUCT\", columns = \"RECORD_TIME\", values = \"LISTING_COUNT\")"
   ]
  },
  {
   "cell_type": "code",
   "execution_count": 6,
   "id": "union-huntington",
   "metadata": {
    "execution": {
     "iopub.execute_input": "2021-09-14T15:30:08.758152Z",
     "iopub.status.busy": "2021-09-14T15:30:08.755722Z",
     "iopub.status.idle": "2021-09-14T15:30:08.761312Z",
     "shell.execute_reply": "2021-09-14T15:30:08.762504Z"
    },
    "papermill": {
     "duration": 0.041796,
     "end_time": "2021-09-14T15:30:08.762945",
     "exception": false,
     "start_time": "2021-09-14T15:30:08.721149",
     "status": "completed"
    },
    "tags": []
   },
   "outputs": [],
   "source": [
    "df_pivot.columns = [\"stamp_1\", \"stamp_2\"]\n",
    "df_pivot_diff = df_pivot.diff(axis=1)"
   ]
  },
  {
   "cell_type": "code",
   "execution_count": 7,
   "id": "fifth-motion",
   "metadata": {
    "execution": {
     "iopub.execute_input": "2021-09-14T15:30:08.817267Z",
     "iopub.status.busy": "2021-09-14T15:30:08.814733Z",
     "iopub.status.idle": "2021-09-14T15:30:10.331172Z",
     "shell.execute_reply": "2021-09-14T15:30:10.332443Z"
    },
    "papermill": {
     "duration": 1.549909,
     "end_time": "2021-09-14T15:30:10.332857",
     "exception": false,
     "start_time": "2021-09-14T15:30:08.782948",
     "status": "completed"
    },
    "tags": []
   },
   "outputs": [
    {
     "data": {
      "text/plain": [
       "<AxesSubplot:ylabel='PRODUCT'>"
      ]
     },
     "execution_count": 7,
     "metadata": {},
     "output_type": "execute_result"
    },
    {
     "data": {
      "image/png": "[encoded data removed]",
      "text/plain": [
       "<Figure size 432x288 with 1 Axes>"
      ]
     },
     "metadata": {
      "needs_background": "light"
     },
     "output_type": "display_data"
    }
   ],
   "source": [
    "df_pivot_diff.sort_values(\"stamp_2\", ascending = False)[\"stamp_2\"].head(10).plot.barh()"
   ]
  },
  {
   "cell_type": "code",
   "execution_count": null,
   "id": "extra-executive",
   "metadata": {
    "papermill": {
     "duration": 0.022222,
     "end_time": "2021-09-14T15:30:10.379704",
     "exception": false,
     "start_time": "2021-09-14T15:30:10.357482",
     "status": "completed"
    },
    "tags": []
   },
   "outputs": [],
   "source": []
  }
 ],
 "metadata": {
  "kernelspec": {
   "display_name": "Python 3",
   "language": "python",
   "name": "python3"
  },
  "language_info": {
   "codemirror_mode": {
    "name": "ipython",
    "version": 3
   },
   "file_extension": ".py",
   "mimetype": "text/x-python",
   "name": "python",
   "nbconvert_exporter": "python",
   "pygments_lexer": "ipython3",
   "version": "3.9.5"
  },
  "papermill": {
   "default_parameters": {},
   "duration": 6.594102,
   "end_time": "2021-09-14T15:30:11.023734",
   "environment_variables": {},
   "exception": null,
   "input_path": "eBay_Overview.ipynb",
   "output_path": "eBay_Overview.ipynb",
   "parameters": {},
   "start_time": "2021-09-14T15:30:04.429632",
   "version": "2.3.3"
  }
 },
 "nbformat": 4,
 "nbformat_minor": 5
}