{
 "cells": [
  {
   "cell_type": "code",
   "execution_count": 1,
   "id": "reverse-picking",
   "metadata": {
    "execution": {
     "iopub.execute_input": "2021-08-22T02:30:07.245501Z",
     "iopub.status.busy": "2021-08-22T02:30:07.243546Z",
     "iopub.status.idle": "2021-08-22T02:30:08.052399Z",
     "shell.execute_reply": "2021-08-22T02:30:08.053661Z"
    },
    "papermill": {
     "duration": 0.861089,
     "end_time": "2021-08-22T02:30:08.054401",
     "exception": false,
     "start_time": "2021-08-22T02:30:07.193312",
     "status": "completed"
    },
    "tags": []
   },
   "outputs": [],
   "source": [
    "import pandas as pd\n",
    "import sqlite3"
   ]
  },
  {
   "cell_type": "code",
   "execution_count": 2,
   "id": "innovative-syndrome",
   "metadata": {
    "execution": {
     "iopub.execute_input": "2021-08-22T02:30:08.103973Z",
     "iopub.status.busy": "2021-08-22T02:30:08.102071Z",
     "iopub.status.idle": "2021-08-22T02:30:08.202730Z",
     "shell.execute_reply": "2021-08-22T02:30:08.204127Z"
    },
    "papermill": {
     "duration": 0.130171,
     "end_time": "2021-08-22T02:30:08.204575",
     "exception": false,
     "start_time": "2021-08-22T02:30:08.074404",
     "status": "completed"
    },
    "tags": []
   },
   "outputs": [],
   "source": [
    "timestamps = pd.read_sql(\"select distinct record_time from EBAY_TOP_BERLIN order by record_time desc limit 2\", sqlite3.connect(\"UsedObjects.db\"))"
   ]
  },
  {
   "cell_type": "code",
   "execution_count": 3,
   "id": "periodic-identification",
   "metadata": {
    "execution": {
     "iopub.execute_input": "2021-08-22T02:30:08.268959Z",
     "iopub.status.busy": "2021-08-22T02:30:08.266942Z",
     "iopub.status.idle": "2021-08-22T02:30:08.288202Z",
     "shell.execute_reply": "2021-08-22T02:30:08.286754Z"
    },
    "papermill": {
     "duration": 0.064229,
     "end_time": "2021-08-22T02:30:08.288558",
     "exception": false,
     "start_time": "2021-08-22T02:30:08.224329",
     "status": "completed"
    },
    "tags": []
   },
   "outputs": [
    {
     "data": {
      "text/html": [
       "<div>\n",
       "<style scoped>\n",
       "    .dataframe tbody tr th:only-of-type {\n",
       "        vertical-align: middle;\n",
       "    }\n",
       "\n",
       "    .dataframe tbody tr th {\n",
       "        vertical-align: top;\n",
       "    }\n",
       "\n",
       "    .dataframe thead th {\n",
       "        text-align: right;\n",
       "    }\n",
       "</style>\n",
       "<table border=\"1\" class=\"dataframe\">\n",
       "  <thead>\n",
       "    <tr style=\"text-align: right;\">\n",
       "      <th></th>\n",
       "      <th>RECORD_TIME</th>\n",
       "    </tr>\n",
       "  </thead>\n",
       "  <tbody>\n",
       "    <tr>\n",
       "      <th>0</th>\n",
       "      <td>2021-08-22 04:30</td>\n",
       "    </tr>\n",
       "    <tr>\n",
       "      <th>1</th>\n",
       "      <td>2021-08-22 04:00</td>\n",
       "    </tr>\n",
       "  </tbody>\n",
       "</table>\n",
       "</div>"
      ],
      "text/plain": [
       "        RECORD_TIME\n",
       "0  2021-08-22 04:30\n",
       "1  2021-08-22 04:00"
      ]
     },
     "execution_count": 3,
     "metadata": {},
     "output_type": "execute_result"
    }
   ],
   "source": [
    "timestamps"
   ]
  },
  {
   "cell_type": "code",
   "execution_count": 4,
   "id": "alternate-victory",
   "metadata": {
    "execution": {
     "iopub.execute_input": "2021-08-22T02:30:08.339400Z",
     "iopub.status.busy": "2021-08-22T02:30:08.337397Z",
     "iopub.status.idle": "2021-08-22T02:30:08.488550Z",
     "shell.execute_reply": "2021-08-22T02:30:08.489772Z"
    },
    "papermill": {
     "duration": 0.180988,
     "end_time": "2021-08-22T02:30:08.490237",
     "exception": false,
     "start_time": "2021-08-22T02:30:08.309249",
     "status": "completed"
    },
    "tags": []
   },
   "outputs": [],
   "source": [
    "df = pd.read_sql(\"select * from EBAY_TOP_BERLIN where record_time in (select distinct record_time from EBAY_TOP_BERLIN order by record_time desc limit 2)\", sqlite3.connect(\"UsedObjects.db\"))"
   ]
  },
  {
   "cell_type": "code",
   "execution_count": 5,
   "id": "popular-active",
   "metadata": {
    "execution": {
     "iopub.execute_input": "2021-08-22T02:30:08.559451Z",
     "iopub.status.busy": "2021-08-22T02:30:08.547467Z",
     "iopub.status.idle": "2021-08-22T02:30:08.575847Z",
     "shell.execute_reply": "2021-08-22T02:30:08.577211Z"
    },
    "papermill": {
     "duration": 0.067192,
     "end_time": "2021-08-22T02:30:08.577661",
     "exception": false,
     "start_time": "2021-08-22T02:30:08.510469",
     "status": "completed"
    },
    "tags": []
   },
   "outputs": [],
   "source": [
    "df_pivot = df.pivot_table(index=\"PRODUCT\", columns = \"RECORD_TIME\", values = \"LISTING_COUNT\")"
   ]
  },
  {
   "cell_type": "code",
   "execution_count": 6,
   "id": "union-huntington",
   "metadata": {
    "execution": {
     "iopub.execute_input": "2021-08-22T02:30:08.634421Z",
     "iopub.status.busy": "2021-08-22T02:30:08.632279Z",
     "iopub.status.idle": "2021-08-22T02:30:08.639083Z",
     "shell.execute_reply": "2021-08-22T02:30:08.637604Z"
    },
    "papermill": {
     "duration": 0.041825,
     "end_time": "2021-08-22T02:30:08.639447",
     "exception": false,
     "start_time": "2021-08-22T02:30:08.597622",
     "status": "completed"
    },
    "tags": []
   },
   "outputs": [],
   "source": [
    "df_pivot.columns = [\"stamp_1\", \"stamp_2\"]\n",
    "df_pivot_diff = df_pivot.diff(axis=1)"
   ]
  },
  {
   "cell_type": "code",
   "execution_count": 7,
   "id": "fifth-motion",
   "metadata": {
    "execution": {
     "iopub.execute_input": "2021-08-22T02:30:08.700923Z",
     "iopub.status.busy": "2021-08-22T02:30:08.698537Z",
     "iopub.status.idle": "2021-08-22T02:30:10.187295Z",
     "shell.execute_reply": "2021-08-22T02:30:10.188592Z"
    },
    "papermill": {
     "duration": 1.524906,
     "end_time": "2021-08-22T02:30:10.189022",
     "exception": false,
     "start_time": "2021-08-22T02:30:08.664116",
     "status": "completed"
    },
    "tags": []
   },
   "outputs": [
    {
     "data": {
      "text/plain": [
       "<AxesSubplot:ylabel='PRODUCT'>"
      ]
     },
     "execution_count": 7,
     "metadata": {},
     "output_type": "execute_result"
    },
    {
     "data": {
      "image/png": "[encoded data removed]",
      "text/plain": [
       "<Figure size 432x288 with 1 Axes>"
      ]
     },
     "metadata": {
      "needs_background": "light"
     },
     "output_type": "display_data"
    }
   ],
   "source": [
    "df_pivot_diff.sort_values(\"stamp_2\", ascending = False)[\"stamp_2\"].head(10).plot.barh()"
   ]
  },
  {
   "cell_type": "code",
   "execution_count": null,
   "id": "extra-executive",
   "metadata": {
    "papermill": {
     "duration": 0.021908,
     "end_time": "2021-08-22T02:30:10.236143",
     "exception": false,
     "start_time": "2021-08-22T02:30:10.214235",
     "status": "completed"
    },
    "tags": []
   },
   "outputs": [],
   "source": []
  }
 ],
 "metadata": {
  "kernelspec": {
   "display_name": "Python 3",
   "language": "python",
   "name": "python3"
  },
  "language_info": {
   "codemirror_mode": {
    "name": "ipython",
    "version": 3
   },
   "file_extension": ".py",
   "mimetype": "text/x-python",
   "name": "python",
   "nbconvert_exporter": "python",
   "pygments_lexer": "ipython3",
   "version": "3.9.5"
  },
  "papermill": {
   "default_parameters": {},
   "duration": 6.837702,
   "end_time": "2021-08-22T02:30:11.616254",
   "environment_variables": {},
   "exception": null,
   "input_path": "eBay_Overview.ipynb",
   "output_path": "eBay_Overview.ipynb",
   "parameters": {},
   "start_time": "2021-08-22T02:30:04.778552",
   "version": "2.3.3"
  }
 },
 "nbformat": 4,
 "nbformat_minor": 5
}