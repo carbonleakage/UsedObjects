{
 "cells": [
  {
   "cell_type": "code",
   "execution_count": 1,
   "id": "reverse-picking",
   "metadata": {
    "execution": {
     "iopub.execute_input": "2021-10-29T06:00:07.295101Z",
     "iopub.status.busy": "2021-10-29T06:00:07.293199Z",
     "iopub.status.idle": "2021-10-29T06:00:08.097146Z",
     "shell.execute_reply": "2021-10-29T06:00:08.098477Z"
    },
    "papermill": {
     "duration": 0.857583,
     "end_time": "2021-10-29T06:00:08.099131",
     "exception": false,
     "start_time": "2021-10-29T06:00:07.241548",
     "status": "completed"
    },
    "tags": []
   },
   "outputs": [],
   "source": [
    "import pandas as pd\n",
    "import sqlite3"
   ]
  },
  {
   "cell_type": "code",
   "execution_count": 2,
   "id": "innovative-syndrome",
   "metadata": {
    "execution": {
     "iopub.execute_input": "2021-10-29T06:00:08.149696Z",
     "iopub.status.busy": "2021-10-29T06:00:08.147679Z",
     "iopub.status.idle": "2021-10-29T06:00:08.813101Z",
     "shell.execute_reply": "2021-10-29T06:00:08.814332Z"
    },
    "papermill": {
     "duration": 0.695378,
     "end_time": "2021-10-29T06:00:08.814720",
     "exception": false,
     "start_time": "2021-10-29T06:00:08.119342",
     "status": "completed"
    },
    "tags": []
   },
   "outputs": [],
   "source": [
    "timestamps = pd.read_sql(\"select distinct record_time from EBAY_TOP_BERLIN order by record_time desc limit 2\", sqlite3.connect(\"UsedObjects.db\"))"
   ]
  },
  {
   "cell_type": "code",
   "execution_count": 3,
   "id": "periodic-identification",
   "metadata": {
    "execution": {
     "iopub.execute_input": "2021-10-29T06:00:08.889773Z",
     "iopub.status.busy": "2021-10-29T06:00:08.887545Z",
     "iopub.status.idle": "2021-10-29T06:00:08.907617Z",
     "shell.execute_reply": "2021-10-29T06:00:08.908927Z"
    },
    "papermill": {
     "duration": 0.070112,
     "end_time": "2021-10-29T06:00:08.909399",
     "exception": false,
     "start_time": "2021-10-29T06:00:08.839287",
     "status": "completed"
    },
    "tags": []
   },
   "outputs": [
    {
     "data": {
      "text/html": [
       "<div>\n",
       "<style scoped>\n",
       "    .dataframe tbody tr th:only-of-type {\n",
       "        vertical-align: middle;\n",
       "    }\n",
       "\n",
       "    .dataframe tbody tr th {\n",
       "        vertical-align: top;\n",
       "    }\n",
       "\n",
       "    .dataframe thead th {\n",
       "        text-align: right;\n",
       "    }\n",
       "</style>\n",
       "<table border=\"1\" class=\"dataframe\">\n",
       "  <thead>\n",
       "    <tr style=\"text-align: right;\">\n",
       "      <th></th>\n",
       "      <th>RECORD_TIME</th>\n",
       "    </tr>\n",
       "  </thead>\n",
       "  <tbody>\n",
       "    <tr>\n",
       "      <th>0</th>\n",
       "      <td>2021-10-29 08:00</td>\n",
       "    </tr>\n",
       "    <tr>\n",
       "      <th>1</th>\n",
       "      <td>2021-10-29 07:30</td>\n",
       "    </tr>\n",
       "  </tbody>\n",
       "</table>\n",
       "</div>"
      ],
      "text/plain": [
       "        RECORD_TIME\n",
       "0  2021-10-29 08:00\n",
       "1  2021-10-29 07:30"
      ]
     },
     "execution_count": 3,
     "metadata": {},
     "output_type": "execute_result"
    }
   ],
   "source": [
    "timestamps"
   ]
  },
  {
   "cell_type": "code",
   "execution_count": 4,
   "id": "alternate-victory",
   "metadata": {
    "execution": {
     "iopub.execute_input": "2021-10-29T06:00:08.960759Z",
     "iopub.status.busy": "2021-10-29T06:00:08.958869Z",
     "iopub.status.idle": "2021-10-29T06:00:09.934412Z",
     "shell.execute_reply": "2021-10-29T06:00:09.935769Z"
    },
    "papermill": {
     "duration": 1.005588,
     "end_time": "2021-10-29T06:00:09.936197",
     "exception": false,
     "start_time": "2021-10-29T06:00:08.930609",
     "status": "completed"
    },
    "tags": []
   },
   "outputs": [],
   "source": [
    "df = pd.read_sql(\"select * from EBAY_TOP_BERLIN where record_time in (select distinct record_time from EBAY_TOP_BERLIN order by record_time desc limit 2)\", sqlite3.connect(\"UsedObjects.db\"))"
   ]
  },
  {
   "cell_type": "code",
   "execution_count": 5,
   "id": "popular-active",
   "metadata": {
    "execution": {
     "iopub.execute_input": "2021-10-29T06:00:10.007125Z",
     "iopub.status.busy": "2021-10-29T06:00:09.994664Z",
     "iopub.status.idle": "2021-10-29T06:00:10.023051Z",
     "shell.execute_reply": "2021-10-29T06:00:10.024283Z"
    },
    "papermill": {
     "duration": 0.067636,
     "end_time": "2021-10-29T06:00:10.024675",
     "exception": false,
     "start_time": "2021-10-29T06:00:09.957039",
     "status": "completed"
    },
    "tags": []
   },
   "outputs": [],
   "source": [
    "df_pivot = df.pivot_table(index=\"PRODUCT\", columns = \"RECORD_TIME\", values = \"LISTING_COUNT\")"
   ]
  },
  {
   "cell_type": "code",
   "execution_count": 6,
   "id": "union-huntington",
   "metadata": {
    "execution": {
     "iopub.execute_input": "2021-10-29T06:00:10.084161Z",
     "iopub.status.busy": "2021-10-29T06:00:10.081732Z",
     "iopub.status.idle": "2021-10-29T06:00:10.087432Z",
     "shell.execute_reply": "2021-10-29T06:00:10.088762Z"
    },
    "papermill": {
     "duration": 0.042119,
     "end_time": "2021-10-29T06:00:10.089182",
     "exception": false,
     "start_time": "2021-10-29T06:00:10.047063",
     "status": "completed"
    },
    "tags": []
   },
   "outputs": [],
   "source": [
    "df_pivot.columns = [\"stamp_1\", \"stamp_2\"]\n",
    "df_pivot_diff = df_pivot.diff(axis=1)"
   ]
  },
  {
   "cell_type": "code",
   "execution_count": 7,
   "id": "fifth-motion",
   "metadata": {
    "execution": {
     "iopub.execute_input": "2021-10-29T06:00:10.143176Z",
     "iopub.status.busy": "2021-10-29T06:00:10.140803Z",
     "iopub.status.idle": "2021-10-29T06:00:11.638271Z",
     "shell.execute_reply": "2021-10-29T06:00:11.639572Z"
    },
    "papermill": {
     "duration": 1.530241,
     "end_time": "2021-10-29T06:00:11.639985",
     "exception": false,
     "start_time": "2021-10-29T06:00:10.109744",
     "status": "completed"
    },
    "tags": []
   },
   "outputs": [
    {
     "data": {
      "text/plain": [
       "<AxesSubplot:ylabel='PRODUCT'>"
      ]
     },
     "execution_count": 7,
     "metadata": {},
     "output_type": "execute_result"
    },
    {
     "data": {
      "image/png": "[encoded data removed]",
      "text/plain": [
       "<Figure size 432x288 with 1 Axes>"
      ]
     },
     "metadata": {
      "needs_background": "light"
     },
     "output_type": "display_data"
    }
   ],
   "source": [
    "df_pivot_diff.sort_values(\"stamp_2\", ascending = False)[\"stamp_2\"].head(10).plot.barh()"
   ]
  },
  {
   "cell_type": "code",
   "execution_count": null,
   "id": "extra-executive",
   "metadata": {
    "papermill": {
     "duration": 0.021967,
     "end_time": "2021-10-29T06:00:11.686109",
     "exception": false,
     "start_time": "2021-10-29T06:00:11.664142",
     "status": "completed"
    },
    "tags": []
   },
   "outputs": [],
   "source": []
  }
 ],
 "metadata": {
  "kernelspec": {
   "display_name": "Python 3",
   "language": "python",
   "name": "python3"
  },
  "language_info": {
   "codemirror_mode": {
    "name": "ipython",
    "version": 3
   },
   "file_extension": ".py",
   "mimetype": "text/x-python",
   "name": "python",
   "nbconvert_exporter": "python",
   "pygments_lexer": "ipython3",
   "version": "3.9.5"
  },
  "papermill": {
   "default_parameters": {},
   "duration": 7.485392,
   "end_time": "2021-10-29T06:00:12.329873",
   "environment_variables": {},
   "exception": null,
   "input_path": "eBay_Overview.ipynb",
   "output_path": "eBay_Overview.ipynb",
   "parameters": {},
   "start_time": "2021-10-29T06:00:04.844481",
   "version": "2.3.3"
  }
 },
 "nbformat": 4,
 "nbformat_minor": 5
}