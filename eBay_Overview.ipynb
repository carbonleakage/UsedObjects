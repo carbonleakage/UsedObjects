{
 "cells": [
  {
   "cell_type": "code",
   "execution_count": 1,
   "id": "reverse-picking",
   "metadata": {
    "execution": {
     "iopub.execute_input": "2021-09-06T19:30:07.053060Z",
     "iopub.status.busy": "2021-09-06T19:30:07.051099Z",
     "iopub.status.idle": "2021-09-06T19:30:07.861178Z",
     "shell.execute_reply": "2021-09-06T19:30:07.862424Z"
    },
    "papermill": {
     "duration": 0.862239,
     "end_time": "2021-09-06T19:30:07.863226",
     "exception": false,
     "start_time": "2021-09-06T19:30:07.000987",
     "status": "completed"
    },
    "tags": []
   },
   "outputs": [],
   "source": [
    "import pandas as pd\n",
    "import sqlite3"
   ]
  },
  {
   "cell_type": "code",
   "execution_count": 2,
   "id": "innovative-syndrome",
   "metadata": {
    "execution": {
     "iopub.execute_input": "2021-09-06T19:30:07.916324Z",
     "iopub.status.busy": "2021-09-06T19:30:07.913953Z",
     "iopub.status.idle": "2021-09-06T19:30:08.136466Z",
     "shell.execute_reply": "2021-09-06T19:30:08.137659Z"
    },
    "papermill": {
     "duration": 0.252441,
     "end_time": "2021-09-06T19:30:08.138053",
     "exception": false,
     "start_time": "2021-09-06T19:30:07.885612",
     "status": "completed"
    },
    "tags": []
   },
   "outputs": [],
   "source": [
    "timestamps = pd.read_sql(\"select distinct record_time from EBAY_TOP_BERLIN order by record_time desc limit 2\", sqlite3.connect(\"UsedObjects.db\"))"
   ]
  },
  {
   "cell_type": "code",
   "execution_count": 3,
   "id": "periodic-identification",
   "metadata": {
    "execution": {
     "iopub.execute_input": "2021-09-06T19:30:08.205668Z",
     "iopub.status.busy": "2021-09-06T19:30:08.203667Z",
     "iopub.status.idle": "2021-09-06T19:30:08.224379Z",
     "shell.execute_reply": "2021-09-06T19:30:08.226094Z"
    },
    "papermill": {
     "duration": 0.066959,
     "end_time": "2021-09-06T19:30:08.226616",
     "exception": false,
     "start_time": "2021-09-06T19:30:08.159657",
     "status": "completed"
    },
    "tags": []
   },
   "outputs": [
    {
     "data": {
      "text/html": [
       "<div>\n",
       "<style scoped>\n",
       "    .dataframe tbody tr th:only-of-type {\n",
       "        vertical-align: middle;\n",
       "    }\n",
       "\n",
       "    .dataframe tbody tr th {\n",
       "        vertical-align: top;\n",
       "    }\n",
       "\n",
       "    .dataframe thead th {\n",
       "        text-align: right;\n",
       "    }\n",
       "</style>\n",
       "<table border=\"1\" class=\"dataframe\">\n",
       "  <thead>\n",
       "    <tr style=\"text-align: right;\">\n",
       "      <th></th>\n",
       "      <th>RECORD_TIME</th>\n",
       "    </tr>\n",
       "  </thead>\n",
       "  <tbody>\n",
       "    <tr>\n",
       "      <th>0</th>\n",
       "      <td>2021-09-06 21:30</td>\n",
       "    </tr>\n",
       "    <tr>\n",
       "      <th>1</th>\n",
       "      <td>2021-09-06 21:00</td>\n",
       "    </tr>\n",
       "  </tbody>\n",
       "</table>\n",
       "</div>"
      ],
      "text/plain": [
       "        RECORD_TIME\n",
       "0  2021-09-06 21:30\n",
       "1  2021-09-06 21:00"
      ]
     },
     "execution_count": 3,
     "metadata": {},
     "output_type": "execute_result"
    }
   ],
   "source": [
    "timestamps"
   ]
  },
  {
   "cell_type": "code",
   "execution_count": 4,
   "id": "alternate-victory",
   "metadata": {
    "execution": {
     "iopub.execute_input": "2021-09-06T19:30:08.279340Z",
     "iopub.status.busy": "2021-09-06T19:30:08.277423Z",
     "iopub.status.idle": "2021-09-06T19:30:08.609672Z",
     "shell.execute_reply": "2021-09-06T19:30:08.610931Z"
    },
    "papermill": {
     "duration": 0.362236,
     "end_time": "2021-09-06T19:30:08.611343",
     "exception": false,
     "start_time": "2021-09-06T19:30:08.249107",
     "status": "completed"
    },
    "tags": []
   },
   "outputs": [],
   "source": [
    "df = pd.read_sql(\"select * from EBAY_TOP_BERLIN where record_time in (select distinct record_time from EBAY_TOP_BERLIN order by record_time desc limit 2)\", sqlite3.connect(\"UsedObjects.db\"))"
   ]
  },
  {
   "cell_type": "code",
   "execution_count": 5,
   "id": "popular-active",
   "metadata": {
    "execution": {
     "iopub.execute_input": "2021-09-06T19:30:08.696792Z",
     "iopub.status.busy": "2021-09-06T19:30:08.685288Z",
     "iopub.status.idle": "2021-09-06T19:30:08.713313Z",
     "shell.execute_reply": "2021-09-06T19:30:08.714513Z"
    },
    "papermill": {
     "duration": 0.072794,
     "end_time": "2021-09-06T19:30:08.714965",
     "exception": false,
     "start_time": "2021-09-06T19:30:08.642171",
     "status": "completed"
    },
    "tags": []
   },
   "outputs": [],
   "source": [
    "df_pivot = df.pivot_table(index=\"PRODUCT\", columns = \"RECORD_TIME\", values = \"LISTING_COUNT\")"
   ]
  },
  {
   "cell_type": "code",
   "execution_count": 6,
   "id": "union-huntington",
   "metadata": {
    "execution": {
     "iopub.execute_input": "2021-09-06T19:30:08.773127Z",
     "iopub.status.busy": "2021-09-06T19:30:08.770990Z",
     "iopub.status.idle": "2021-09-06T19:30:08.776552Z",
     "shell.execute_reply": "2021-09-06T19:30:08.778022Z"
    },
    "papermill": {
     "duration": 0.041328,
     "end_time": "2021-09-06T19:30:08.778522",
     "exception": false,
     "start_time": "2021-09-06T19:30:08.737194",
     "status": "completed"
    },
    "tags": []
   },
   "outputs": [],
   "source": [
    "df_pivot.columns = [\"stamp_1\", \"stamp_2\"]\n",
    "df_pivot_diff = df_pivot.diff(axis=1)"
   ]
  },
  {
   "cell_type": "code",
   "execution_count": 7,
   "id": "fifth-motion",
   "metadata": {
    "execution": {
     "iopub.execute_input": "2021-09-06T19:30:08.834034Z",
     "iopub.status.busy": "2021-09-06T19:30:08.831784Z",
     "iopub.status.idle": "2021-09-06T19:30:10.307519Z",
     "shell.execute_reply": "2021-09-06T19:30:10.308814Z"
    },
    "papermill": {
     "duration": 1.508801,
     "end_time": "2021-09-06T19:30:10.309226",
     "exception": false,
     "start_time": "2021-09-06T19:30:08.800425",
     "status": "completed"
    },
    "tags": []
   },
   "outputs": [
    {
     "data": {
      "text/plain": [
       "<AxesSubplot:ylabel='PRODUCT'>"
      ]
     },
     "execution_count": 7,
     "metadata": {},
     "output_type": "execute_result"
    },
    {
     "data": {
      "image/png": "[encoded data removed]",
      "text/plain": [
       "<Figure size 432x288 with 1 Axes>"
      ]
     },
     "metadata": {
      "needs_background": "light"
     },
     "output_type": "display_data"
    }
   ],
   "source": [
    "df_pivot_diff.sort_values(\"stamp_2\", ascending = False)[\"stamp_2\"].head(10).plot.barh()"
   ]
  },
  {
   "cell_type": "code",
   "execution_count": null,
   "id": "extra-executive",
   "metadata": {
    "papermill": {
     "duration": 0.02231,
     "end_time": "2021-09-06T19:30:10.354750",
     "exception": false,
     "start_time": "2021-09-06T19:30:10.332440",
     "status": "completed"
    },
    "tags": []
   },
   "outputs": [],
   "source": []
  }
 ],
 "metadata": {
  "kernelspec": {
   "display_name": "Python 3",
   "language": "python",
   "name": "python3"
  },
  "language_info": {
   "codemirror_mode": {
    "name": "ipython",
    "version": 3
   },
   "file_extension": ".py",
   "mimetype": "text/x-python",
   "name": "python",
   "nbconvert_exporter": "python",
   "pygments_lexer": "ipython3",
   "version": "3.9.5"
  },
  "papermill": {
   "default_parameters": {},
   "duration": 6.407237,
   "end_time": "2021-09-06T19:30:10.995218",
   "environment_variables": {},
   "exception": null,
   "input_path": "eBay_Overview.ipynb",
   "output_path": "eBay_Overview.ipynb",
   "parameters": {},
   "start_time": "2021-09-06T19:30:04.587981",
   "version": "2.3.3"
  }
 },
 "nbformat": 4,
 "nbformat_minor": 5
}