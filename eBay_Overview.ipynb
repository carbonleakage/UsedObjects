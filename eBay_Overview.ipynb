{
 "cells": [
  {
   "cell_type": "code",
   "execution_count": 1,
   "id": "reverse-picking",
   "metadata": {
    "execution": {
     "iopub.execute_input": "2021-11-22T06:00:08.252297Z",
     "iopub.status.busy": "2021-11-22T06:00:08.249975Z",
     "iopub.status.idle": "2021-11-22T06:00:09.189563Z",
     "shell.execute_reply": "2021-11-22T06:00:09.191128Z"
    },
    "papermill": {
     "duration": 0.991382,
     "end_time": "2021-11-22T06:00:09.191867",
     "exception": false,
     "start_time": "2021-11-22T06:00:08.200485",
     "status": "completed"
    },
    "tags": []
   },
   "outputs": [],
   "source": [
    "import pandas as pd\n",
    "import sqlite3"
   ]
  },
  {
   "cell_type": "code",
   "execution_count": 2,
   "id": "innovative-syndrome",
   "metadata": {
    "execution": {
     "iopub.execute_input": "2021-11-22T06:00:09.309562Z",
     "iopub.status.busy": "2021-11-22T06:00:09.307275Z",
     "iopub.status.idle": "2021-11-22T06:00:10.221368Z",
     "shell.execute_reply": "2021-11-22T06:00:10.223068Z"
    },
    "papermill": {
     "duration": 0.947997,
     "end_time": "2021-11-22T06:00:10.223558",
     "exception": false,
     "start_time": "2021-11-22T06:00:09.275561",
     "status": "completed"
    },
    "tags": []
   },
   "outputs": [],
   "source": [
    "timestamps = pd.read_sql(\"select distinct record_time from EBAY_TOP_BERLIN order by record_time desc limit 2\", sqlite3.connect(\"UsedObjects.db\"))"
   ]
  },
  {
   "cell_type": "code",
   "execution_count": 3,
   "id": "periodic-identification",
   "metadata": {
    "execution": {
     "iopub.execute_input": "2021-11-22T06:00:10.300213Z",
     "iopub.status.busy": "2021-11-22T06:00:10.293973Z",
     "iopub.status.idle": "2021-11-22T06:00:10.318665Z",
     "shell.execute_reply": "2021-11-22T06:00:10.320378Z"
    },
    "papermill": {
     "duration": 0.077046,
     "end_time": "2021-11-22T06:00:10.320915",
     "exception": false,
     "start_time": "2021-11-22T06:00:10.243869",
     "status": "completed"
    },
    "tags": []
   },
   "outputs": [
    {
     "data": {
      "text/html": [
       "<div>\n",
       "<style scoped>\n",
       "    .dataframe tbody tr th:only-of-type {\n",
       "        vertical-align: middle;\n",
       "    }\n",
       "\n",
       "    .dataframe tbody tr th {\n",
       "        vertical-align: top;\n",
       "    }\n",
       "\n",
       "    .dataframe thead th {\n",
       "        text-align: right;\n",
       "    }\n",
       "</style>\n",
       "<table border=\"1\" class=\"dataframe\">\n",
       "  <thead>\n",
       "    <tr style=\"text-align: right;\">\n",
       "      <th></th>\n",
       "      <th>RECORD_TIME</th>\n",
       "    </tr>\n",
       "  </thead>\n",
       "  <tbody>\n",
       "    <tr>\n",
       "      <th>0</th>\n",
       "      <td>2021-11-22 07:00</td>\n",
       "    </tr>\n",
       "    <tr>\n",
       "      <th>1</th>\n",
       "      <td>2021-11-22 06:30</td>\n",
       "    </tr>\n",
       "  </tbody>\n",
       "</table>\n",
       "</div>"
      ],
      "text/plain": [
       "        RECORD_TIME\n",
       "0  2021-11-22 07:00\n",
       "1  2021-11-22 06:30"
      ]
     },
     "execution_count": 3,
     "metadata": {},
     "output_type": "execute_result"
    }
   ],
   "source": [
    "timestamps"
   ]
  },
  {
   "cell_type": "code",
   "execution_count": 4,
   "id": "alternate-victory",
   "metadata": {
    "execution": {
     "iopub.execute_input": "2021-11-22T06:00:10.375425Z",
     "iopub.status.busy": "2021-11-22T06:00:10.373222Z",
     "iopub.status.idle": "2021-11-22T06:00:11.667349Z",
     "shell.execute_reply": "2021-11-22T06:00:11.668907Z"
    },
    "papermill": {
     "duration": 1.3281,
     "end_time": "2021-11-22T06:00:11.669702",
     "exception": false,
     "start_time": "2021-11-22T06:00:10.341602",
     "status": "completed"
    },
    "tags": []
   },
   "outputs": [],
   "source": [
    "df = pd.read_sql(\"select * from EBAY_TOP_BERLIN where record_time in (select distinct record_time from EBAY_TOP_BERLIN order by record_time desc limit 2)\", sqlite3.connect(\"UsedObjects.db\"))"
   ]
  },
  {
   "cell_type": "code",
   "execution_count": 5,
   "id": "popular-active",
   "metadata": {
    "execution": {
     "iopub.execute_input": "2021-11-22T06:00:11.734060Z",
     "iopub.status.busy": "2021-11-22T06:00:11.731765Z",
     "iopub.status.idle": "2021-11-22T06:00:11.763002Z",
     "shell.execute_reply": "2021-11-22T06:00:11.764377Z"
    },
    "papermill": {
     "duration": 0.073787,
     "end_time": "2021-11-22T06:00:11.764894",
     "exception": false,
     "start_time": "2021-11-22T06:00:11.691107",
     "status": "completed"
    },
    "tags": []
   },
   "outputs": [],
   "source": [
    "df_pivot = df.pivot_table(index=\"PRODUCT\", columns = \"RECORD_TIME\", values = \"LISTING_COUNT\")"
   ]
  },
  {
   "cell_type": "code",
   "execution_count": 6,
   "id": "union-huntington",
   "metadata": {
    "execution": {
     "iopub.execute_input": "2021-11-22T06:00:11.827568Z",
     "iopub.status.busy": "2021-11-22T06:00:11.825235Z",
     "iopub.status.idle": "2021-11-22T06:00:11.831340Z",
     "shell.execute_reply": "2021-11-22T06:00:11.832924Z"
    },
    "papermill": {
     "duration": 0.047154,
     "end_time": "2021-11-22T06:00:11.833422",
     "exception": false,
     "start_time": "2021-11-22T06:00:11.786268",
     "status": "completed"
    },
    "tags": []
   },
   "outputs": [],
   "source": [
    "df_pivot.columns = [\"stamp_1\", \"stamp_2\"]\n",
    "df_pivot_diff = df_pivot.diff(axis=1)"
   ]
  },
  {
   "cell_type": "code",
   "execution_count": 7,
   "id": "fifth-motion",
   "metadata": {
    "execution": {
     "iopub.execute_input": "2021-11-22T06:00:11.893864Z",
     "iopub.status.busy": "2021-11-22T06:00:11.891171Z",
     "iopub.status.idle": "2021-11-22T06:00:13.829351Z",
     "shell.execute_reply": "2021-11-22T06:00:13.830739Z"
    },
    "papermill": {
     "duration": 1.976182,
     "end_time": "2021-11-22T06:00:13.831218",
     "exception": false,
     "start_time": "2021-11-22T06:00:11.855036",
     "status": "completed"
    },
    "tags": []
   },
   "outputs": [
    {
     "data": {
      "text/plain": [
       "<AxesSubplot:ylabel='PRODUCT'>"
      ]
     },
     "execution_count": 7,
     "metadata": {},
     "output_type": "execute_result"
    },
    {
     "data": {
      "image/png": "[encoded data removed]",
      "text/plain": [
       "<Figure size 432x288 with 1 Axes>"
      ]
     },
     "metadata": {
      "needs_background": "light"
     },
     "output_type": "display_data"
    }
   ],
   "source": [
    "df_pivot_diff.sort_values(\"stamp_2\", ascending = False)[\"stamp_2\"].head(10).plot.barh()"
   ]
  },
  {
   "cell_type": "code",
   "execution_count": null,
   "id": "extra-executive",
   "metadata": {
    "papermill": {
     "duration": 0.02332,
     "end_time": "2021-11-22T06:00:13.878068",
     "exception": false,
     "start_time": "2021-11-22T06:00:13.854748",
     "status": "completed"
    },
    "tags": []
   },
   "outputs": [],
   "source": []
  }
 ],
 "metadata": {
  "kernelspec": {
   "display_name": "Python 3",
   "language": "python",
   "name": "python3"
  },
  "language_info": {
   "codemirror_mode": {
    "name": "ipython",
    "version": 3
   },
   "file_extension": ".py",
   "mimetype": "text/x-python",
   "name": "python",
   "nbconvert_exporter": "python",
   "pygments_lexer": "ipython3",
   "version": "3.9.5"
  },
  "papermill": {
   "default_parameters": {},
   "duration": 9.92379,
   "end_time": "2021-11-22T06:00:15.391961",
   "environment_variables": {},
   "exception": null,
   "input_path": "eBay_Overview.ipynb",
   "output_path": "eBay_Overview.ipynb",
   "parameters": {},
   "start_time": "2021-11-22T06:00:05.468171",
   "version": "2.3.3"
  }
 },
 "nbformat": 4,
 "nbformat_minor": 5
}