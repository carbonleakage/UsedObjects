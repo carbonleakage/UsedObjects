{
 "cells": [
  {
   "cell_type": "code",
   "execution_count": 1,
   "id": "reverse-picking",
   "metadata": {
    "execution": {
     "iopub.execute_input": "2021-08-28T10:30:06.770556Z",
     "iopub.status.busy": "2021-08-28T10:30:06.768651Z",
     "iopub.status.idle": "2021-08-28T10:30:07.573453Z",
     "shell.execute_reply": "2021-08-28T10:30:07.574707Z"
    },
    "papermill": {
     "duration": 0.857274,
     "end_time": "2021-08-28T10:30:07.575331",
     "exception": false,
     "start_time": "2021-08-28T10:30:06.718057",
     "status": "completed"
    },
    "tags": []
   },
   "outputs": [],
   "source": [
    "import pandas as pd\n",
    "import sqlite3"
   ]
  },
  {
   "cell_type": "code",
   "execution_count": 2,
   "id": "innovative-syndrome",
   "metadata": {
    "execution": {
     "iopub.execute_input": "2021-08-28T10:30:07.626345Z",
     "iopub.status.busy": "2021-08-28T10:30:07.624487Z",
     "iopub.status.idle": "2021-08-28T10:30:07.773394Z",
     "shell.execute_reply": "2021-08-28T10:30:07.774811Z"
    },
    "papermill": {
     "duration": 0.178766,
     "end_time": "2021-08-28T10:30:07.775252",
     "exception": false,
     "start_time": "2021-08-28T10:30:07.596486",
     "status": "completed"
    },
    "tags": []
   },
   "outputs": [],
   "source": [
    "timestamps = pd.read_sql(\"select distinct record_time from EBAY_TOP_BERLIN order by record_time desc limit 2\", sqlite3.connect(\"UsedObjects.db\"))"
   ]
  },
  {
   "cell_type": "code",
   "execution_count": 3,
   "id": "periodic-identification",
   "metadata": {
    "execution": {
     "iopub.execute_input": "2021-08-28T10:30:07.842899Z",
     "iopub.status.busy": "2021-08-28T10:30:07.840907Z",
     "iopub.status.idle": "2021-08-28T10:30:07.860745Z",
     "shell.execute_reply": "2021-08-28T10:30:07.862043Z"
    },
    "papermill": {
     "duration": 0.067126,
     "end_time": "2021-08-28T10:30:07.862455",
     "exception": false,
     "start_time": "2021-08-28T10:30:07.795329",
     "status": "completed"
    },
    "tags": []
   },
   "outputs": [
    {
     "data": {
      "text/html": [
       "<div>\n",
       "<style scoped>\n",
       "    .dataframe tbody tr th:only-of-type {\n",
       "        vertical-align: middle;\n",
       "    }\n",
       "\n",
       "    .dataframe tbody tr th {\n",
       "        vertical-align: top;\n",
       "    }\n",
       "\n",
       "    .dataframe thead th {\n",
       "        text-align: right;\n",
       "    }\n",
       "</style>\n",
       "<table border=\"1\" class=\"dataframe\">\n",
       "  <thead>\n",
       "    <tr style=\"text-align: right;\">\n",
       "      <th></th>\n",
       "      <th>RECORD_TIME</th>\n",
       "    </tr>\n",
       "  </thead>\n",
       "  <tbody>\n",
       "    <tr>\n",
       "      <th>0</th>\n",
       "      <td>2021-08-28 12:30</td>\n",
       "    </tr>\n",
       "    <tr>\n",
       "      <th>1</th>\n",
       "      <td>2021-08-28 12:00</td>\n",
       "    </tr>\n",
       "  </tbody>\n",
       "</table>\n",
       "</div>"
      ],
      "text/plain": [
       "        RECORD_TIME\n",
       "0  2021-08-28 12:30\n",
       "1  2021-08-28 12:00"
      ]
     },
     "execution_count": 3,
     "metadata": {},
     "output_type": "execute_result"
    }
   ],
   "source": [
    "timestamps"
   ]
  },
  {
   "cell_type": "code",
   "execution_count": 4,
   "id": "alternate-victory",
   "metadata": {
    "execution": {
     "iopub.execute_input": "2021-08-28T10:30:07.914920Z",
     "iopub.status.busy": "2021-08-28T10:30:07.912643Z",
     "iopub.status.idle": "2021-08-28T10:30:08.139496Z",
     "shell.execute_reply": "2021-08-28T10:30:08.141052Z"
    },
    "papermill": {
     "duration": 0.25761,
     "end_time": "2021-08-28T10:30:08.141489",
     "exception": false,
     "start_time": "2021-08-28T10:30:07.883879",
     "status": "completed"
    },
    "tags": []
   },
   "outputs": [],
   "source": [
    "df = pd.read_sql(\"select * from EBAY_TOP_BERLIN where record_time in (select distinct record_time from EBAY_TOP_BERLIN order by record_time desc limit 2)\", sqlite3.connect(\"UsedObjects.db\"))"
   ]
  },
  {
   "cell_type": "code",
   "execution_count": 5,
   "id": "popular-active",
   "metadata": {
    "execution": {
     "iopub.execute_input": "2021-08-28T10:30:08.209138Z",
     "iopub.status.busy": "2021-08-28T10:30:08.201822Z",
     "iopub.status.idle": "2021-08-28T10:30:08.229608Z",
     "shell.execute_reply": "2021-08-28T10:30:08.230828Z"
    },
    "papermill": {
     "duration": 0.06774,
     "end_time": "2021-08-28T10:30:08.231229",
     "exception": false,
     "start_time": "2021-08-28T10:30:08.163489",
     "status": "completed"
    },
    "tags": []
   },
   "outputs": [],
   "source": [
    "df_pivot = df.pivot_table(index=\"PRODUCT\", columns = \"RECORD_TIME\", values = \"LISTING_COUNT\")"
   ]
  },
  {
   "cell_type": "code",
   "execution_count": 6,
   "id": "union-huntington",
   "metadata": {
    "execution": {
     "iopub.execute_input": "2021-08-28T10:30:08.297846Z",
     "iopub.status.busy": "2021-08-28T10:30:08.295460Z",
     "iopub.status.idle": "2021-08-28T10:30:08.301397Z",
     "shell.execute_reply": "2021-08-28T10:30:08.303108Z"
    },
    "papermill": {
     "duration": 0.044701,
     "end_time": "2021-08-28T10:30:08.303616",
     "exception": false,
     "start_time": "2021-08-28T10:30:08.258915",
     "status": "completed"
    },
    "tags": []
   },
   "outputs": [],
   "source": [
    "df_pivot.columns = [\"stamp_1\", \"stamp_2\"]\n",
    "df_pivot_diff = df_pivot.diff(axis=1)"
   ]
  },
  {
   "cell_type": "code",
   "execution_count": 7,
   "id": "fifth-motion",
   "metadata": {
    "execution": {
     "iopub.execute_input": "2021-08-28T10:30:08.359778Z",
     "iopub.status.busy": "2021-08-28T10:30:08.357542Z",
     "iopub.status.idle": "2021-08-28T10:30:09.847681Z",
     "shell.execute_reply": "2021-08-28T10:30:09.849303Z"
    },
    "papermill": {
     "duration": 1.523881,
     "end_time": "2021-08-28T10:30:09.849766",
     "exception": false,
     "start_time": "2021-08-28T10:30:08.325885",
     "status": "completed"
    },
    "tags": []
   },
   "outputs": [
    {
     "data": {
      "text/plain": [
       "<AxesSubplot:ylabel='PRODUCT'>"
      ]
     },
     "execution_count": 7,
     "metadata": {},
     "output_type": "execute_result"
    },
    {
     "data": {
      "image/png": "[encoded data removed]",
      "text/plain": [
       "<Figure size 432x288 with 1 Axes>"
      ]
     },
     "metadata": {
      "needs_background": "light"
     },
     "output_type": "display_data"
    }
   ],
   "source": [
    "df_pivot_diff.sort_values(\"stamp_2\", ascending = False)[\"stamp_2\"].head(10).plot.barh()"
   ]
  },
  {
   "cell_type": "code",
   "execution_count": null,
   "id": "extra-executive",
   "metadata": {
    "papermill": {
     "duration": 0.022684,
     "end_time": "2021-08-28T10:30:09.897075",
     "exception": false,
     "start_time": "2021-08-28T10:30:09.874391",
     "status": "completed"
    },
    "tags": []
   },
   "outputs": [],
   "source": []
  }
 ],
 "metadata": {
  "kernelspec": {
   "display_name": "Python 3",
   "language": "python",
   "name": "python3"
  },
  "language_info": {
   "codemirror_mode": {
    "name": "ipython",
    "version": 3
   },
   "file_extension": ".py",
   "mimetype": "text/x-python",
   "name": "python",
   "nbconvert_exporter": "python",
   "pygments_lexer": "ipython3",
   "version": "3.9.5"
  },
  "papermill": {
   "default_parameters": {},
   "duration": 6.819212,
   "end_time": "2021-08-28T10:30:11.139051",
   "environment_variables": {},
   "exception": null,
   "input_path": "eBay_Overview.ipynb",
   "output_path": "eBay_Overview.ipynb",
   "parameters": {},
   "start_time": "2021-08-28T10:30:04.319839",
   "version": "2.3.3"
  }
 },
 "nbformat": 4,
 "nbformat_minor": 5
}