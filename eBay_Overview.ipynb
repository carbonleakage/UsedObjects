{
 "cells": [
  {
   "cell_type": "code",
   "execution_count": 1,
   "id": "reverse-picking",
   "metadata": {
    "execution": {
     "iopub.execute_input": "2021-08-29T17:30:07.547185Z",
     "iopub.status.busy": "2021-08-29T17:30:07.544968Z",
     "iopub.status.idle": "2021-08-29T17:30:08.350564Z",
     "shell.execute_reply": "2021-08-29T17:30:08.351827Z"
    },
    "papermill": {
     "duration": 0.858383,
     "end_time": "2021-08-29T17:30:08.352516",
     "exception": false,
     "start_time": "2021-08-29T17:30:07.494133",
     "status": "completed"
    },
    "tags": []
   },
   "outputs": [],
   "source": [
    "import pandas as pd\n",
    "import sqlite3"
   ]
  },
  {
   "cell_type": "code",
   "execution_count": 2,
   "id": "innovative-syndrome",
   "metadata": {
    "execution": {
     "iopub.execute_input": "2021-08-29T17:30:08.402878Z",
     "iopub.status.busy": "2021-08-29T17:30:08.400998Z",
     "iopub.status.idle": "2021-08-29T17:30:08.565986Z",
     "shell.execute_reply": "2021-08-29T17:30:08.567207Z"
    },
    "papermill": {
     "duration": 0.194432,
     "end_time": "2021-08-29T17:30:08.567614",
     "exception": false,
     "start_time": "2021-08-29T17:30:08.373182",
     "status": "completed"
    },
    "tags": []
   },
   "outputs": [],
   "source": [
    "timestamps = pd.read_sql(\"select distinct record_time from EBAY_TOP_BERLIN order by record_time desc limit 2\", sqlite3.connect(\"UsedObjects.db\"))"
   ]
  },
  {
   "cell_type": "code",
   "execution_count": 3,
   "id": "periodic-identification",
   "metadata": {
    "execution": {
     "iopub.execute_input": "2021-08-29T17:30:08.631479Z",
     "iopub.status.busy": "2021-08-29T17:30:08.629447Z",
     "iopub.status.idle": "2021-08-29T17:30:08.649154Z",
     "shell.execute_reply": "2021-08-29T17:30:08.650376Z"
    },
    "papermill": {
     "duration": 0.064073,
     "end_time": "2021-08-29T17:30:08.650813",
     "exception": false,
     "start_time": "2021-08-29T17:30:08.586740",
     "status": "completed"
    },
    "tags": []
   },
   "outputs": [
    {
     "data": {
      "text/html": [
       "<div>\n",
       "<style scoped>\n",
       "    .dataframe tbody tr th:only-of-type {\n",
       "        vertical-align: middle;\n",
       "    }\n",
       "\n",
       "    .dataframe tbody tr th {\n",
       "        vertical-align: top;\n",
       "    }\n",
       "\n",
       "    .dataframe thead th {\n",
       "        text-align: right;\n",
       "    }\n",
       "</style>\n",
       "<table border=\"1\" class=\"dataframe\">\n",
       "  <thead>\n",
       "    <tr style=\"text-align: right;\">\n",
       "      <th></th>\n",
       "      <th>RECORD_TIME</th>\n",
       "    </tr>\n",
       "  </thead>\n",
       "  <tbody>\n",
       "    <tr>\n",
       "      <th>0</th>\n",
       "      <td>2021-08-29 19:30</td>\n",
       "    </tr>\n",
       "    <tr>\n",
       "      <th>1</th>\n",
       "      <td>2021-08-29 19:00</td>\n",
       "    </tr>\n",
       "  </tbody>\n",
       "</table>\n",
       "</div>"
      ],
      "text/plain": [
       "        RECORD_TIME\n",
       "0  2021-08-29 19:30\n",
       "1  2021-08-29 19:00"
      ]
     },
     "execution_count": 3,
     "metadata": {},
     "output_type": "execute_result"
    }
   ],
   "source": [
    "timestamps"
   ]
  },
  {
   "cell_type": "code",
   "execution_count": 4,
   "id": "alternate-victory",
   "metadata": {
    "execution": {
     "iopub.execute_input": "2021-08-29T17:30:08.700900Z",
     "iopub.status.busy": "2021-08-29T17:30:08.698915Z",
     "iopub.status.idle": "2021-08-29T17:30:08.940521Z",
     "shell.execute_reply": "2021-08-29T17:30:08.942041Z"
    },
    "papermill": {
     "duration": 0.271668,
     "end_time": "2021-08-29T17:30:08.942492",
     "exception": false,
     "start_time": "2021-08-29T17:30:08.670824",
     "status": "completed"
    },
    "tags": []
   },
   "outputs": [],
   "source": [
    "df = pd.read_sql(\"select * from EBAY_TOP_BERLIN where record_time in (select distinct record_time from EBAY_TOP_BERLIN order by record_time desc limit 2)\", sqlite3.connect(\"UsedObjects.db\"))"
   ]
  },
  {
   "cell_type": "code",
   "execution_count": 5,
   "id": "popular-active",
   "metadata": {
    "execution": {
     "iopub.execute_input": "2021-08-29T17:30:09.019979Z",
     "iopub.status.busy": "2021-08-29T17:30:09.007299Z",
     "iopub.status.idle": "2021-08-29T17:30:09.036594Z",
     "shell.execute_reply": "2021-08-29T17:30:09.037846Z"
    },
    "papermill": {
     "duration": 0.075097,
     "end_time": "2021-08-29T17:30:09.038258",
     "exception": false,
     "start_time": "2021-08-29T17:30:08.963161",
     "status": "completed"
    },
    "tags": []
   },
   "outputs": [],
   "source": [
    "df_pivot = df.pivot_table(index=\"PRODUCT\", columns = \"RECORD_TIME\", values = \"LISTING_COUNT\")"
   ]
  },
  {
   "cell_type": "code",
   "execution_count": 6,
   "id": "union-huntington",
   "metadata": {
    "execution": {
     "iopub.execute_input": "2021-08-29T17:30:09.095702Z",
     "iopub.status.busy": "2021-08-29T17:30:09.093404Z",
     "iopub.status.idle": "2021-08-29T17:30:09.098949Z",
     "shell.execute_reply": "2021-08-29T17:30:09.100326Z"
    },
    "papermill": {
     "duration": 0.041202,
     "end_time": "2021-08-29T17:30:09.100763",
     "exception": false,
     "start_time": "2021-08-29T17:30:09.059561",
     "status": "completed"
    },
    "tags": []
   },
   "outputs": [],
   "source": [
    "df_pivot.columns = [\"stamp_1\", \"stamp_2\"]\n",
    "df_pivot_diff = df_pivot.diff(axis=1)"
   ]
  },
  {
   "cell_type": "code",
   "execution_count": 7,
   "id": "fifth-motion",
   "metadata": {
    "execution": {
     "iopub.execute_input": "2021-08-29T17:30:09.154420Z",
     "iopub.status.busy": "2021-08-29T17:30:09.151909Z",
     "iopub.status.idle": "2021-08-29T17:30:10.635265Z",
     "shell.execute_reply": "2021-08-29T17:30:10.636656Z"
    },
    "papermill": {
     "duration": 1.516601,
     "end_time": "2021-08-29T17:30:10.637096",
     "exception": false,
     "start_time": "2021-08-29T17:30:09.120495",
     "status": "completed"
    },
    "tags": []
   },
   "outputs": [
    {
     "data": {
      "text/plain": [
       "<AxesSubplot:ylabel='PRODUCT'>"
      ]
     },
     "execution_count": 7,
     "metadata": {},
     "output_type": "execute_result"
    },
    {
     "data": {
      "image/png": "[encoded data removed]",
      "text/plain": [
       "<Figure size 432x288 with 1 Axes>"
      ]
     },
     "metadata": {
      "needs_background": "light"
     },
     "output_type": "display_data"
    }
   ],
   "source": [
    "df_pivot_diff.sort_values(\"stamp_2\", ascending = False)[\"stamp_2\"].head(10).plot.barh()"
   ]
  },
  {
   "cell_type": "code",
   "execution_count": null,
   "id": "extra-executive",
   "metadata": {
    "papermill": {
     "duration": 0.02201,
     "end_time": "2021-08-29T17:30:10.683653",
     "exception": false,
     "start_time": "2021-08-29T17:30:10.661643",
     "status": "completed"
    },
    "tags": []
   },
   "outputs": [],
   "source": []
  }
 ],
 "metadata": {
  "kernelspec": {
   "display_name": "Python 3",
   "language": "python",
   "name": "python3"
  },
  "language_info": {
   "codemirror_mode": {
    "name": "ipython",
    "version": 3
   },
   "file_extension": ".py",
   "mimetype": "text/x-python",
   "name": "python",
   "nbconvert_exporter": "python",
   "pygments_lexer": "ipython3",
   "version": "3.9.5"
  },
  "papermill": {
   "default_parameters": {},
   "duration": 6.819957,
   "end_time": "2021-08-29T17:30:11.912766",
   "environment_variables": {},
   "exception": null,
   "input_path": "eBay_Overview.ipynb",
   "output_path": "eBay_Overview.ipynb",
   "parameters": {},
   "start_time": "2021-08-29T17:30:05.092809",
   "version": "2.3.3"
  }
 },
 "nbformat": 4,
 "nbformat_minor": 5
}