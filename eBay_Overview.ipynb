{
 "cells": [
  {
   "cell_type": "code",
   "execution_count": 1,
   "id": "reverse-picking",
   "metadata": {
    "execution": {
     "iopub.execute_input": "2021-11-14T14:30:07.734638Z",
     "iopub.status.busy": "2021-11-14T14:30:07.732246Z",
     "iopub.status.idle": "2021-11-14T14:30:08.702201Z",
     "shell.execute_reply": "2021-11-14T14:30:08.704352Z"
    },
    "papermill": {
     "duration": 1.019288,
     "end_time": "2021-11-14T14:30:08.705200",
     "exception": false,
     "start_time": "2021-11-14T14:30:07.685912",
     "status": "completed"
    },
    "tags": []
   },
   "outputs": [],
   "source": [
    "import pandas as pd\n",
    "import sqlite3"
   ]
  },
  {
   "cell_type": "code",
   "execution_count": 2,
   "id": "innovative-syndrome",
   "metadata": {
    "execution": {
     "iopub.execute_input": "2021-11-14T14:30:08.767681Z",
     "iopub.status.busy": "2021-11-14T14:30:08.765402Z",
     "iopub.status.idle": "2021-11-14T14:30:09.582135Z",
     "shell.execute_reply": "2021-11-14T14:30:09.583351Z"
    },
    "papermill": {
     "duration": 0.850663,
     "end_time": "2021-11-14T14:30:09.583756",
     "exception": false,
     "start_time": "2021-11-14T14:30:08.733093",
     "status": "completed"
    },
    "tags": []
   },
   "outputs": [],
   "source": [
    "timestamps = pd.read_sql(\"select distinct record_time from EBAY_TOP_BERLIN order by record_time desc limit 2\", sqlite3.connect(\"UsedObjects.db\"))"
   ]
  },
  {
   "cell_type": "code",
   "execution_count": 3,
   "id": "periodic-identification",
   "metadata": {
    "execution": {
     "iopub.execute_input": "2021-11-14T14:30:09.651090Z",
     "iopub.status.busy": "2021-11-14T14:30:09.649065Z",
     "iopub.status.idle": "2021-11-14T14:30:09.669783Z",
     "shell.execute_reply": "2021-11-14T14:30:09.671203Z"
    },
    "papermill": {
     "duration": 0.066613,
     "end_time": "2021-11-14T14:30:09.671650",
     "exception": false,
     "start_time": "2021-11-14T14:30:09.605037",
     "status": "completed"
    },
    "tags": []
   },
   "outputs": [
    {
     "data": {
      "text/html": [
       "<div>\n",
       "<style scoped>\n",
       "    .dataframe tbody tr th:only-of-type {\n",
       "        vertical-align: middle;\n",
       "    }\n",
       "\n",
       "    .dataframe tbody tr th {\n",
       "        vertical-align: top;\n",
       "    }\n",
       "\n",
       "    .dataframe thead th {\n",
       "        text-align: right;\n",
       "    }\n",
       "</style>\n",
       "<table border=\"1\" class=\"dataframe\">\n",
       "  <thead>\n",
       "    <tr style=\"text-align: right;\">\n",
       "      <th></th>\n",
       "      <th>RECORD_TIME</th>\n",
       "    </tr>\n",
       "  </thead>\n",
       "  <tbody>\n",
       "    <tr>\n",
       "      <th>0</th>\n",
       "      <td>2021-11-14 15:30</td>\n",
       "    </tr>\n",
       "    <tr>\n",
       "      <th>1</th>\n",
       "      <td>2021-11-14 15:00</td>\n",
       "    </tr>\n",
       "  </tbody>\n",
       "</table>\n",
       "</div>"
      ],
      "text/plain": [
       "        RECORD_TIME\n",
       "0  2021-11-14 15:30\n",
       "1  2021-11-14 15:00"
      ]
     },
     "execution_count": 3,
     "metadata": {},
     "output_type": "execute_result"
    }
   ],
   "source": [
    "timestamps"
   ]
  },
  {
   "cell_type": "code",
   "execution_count": 4,
   "id": "alternate-victory",
   "metadata": {
    "execution": {
     "iopub.execute_input": "2021-11-14T14:30:09.723398Z",
     "iopub.status.busy": "2021-11-14T14:30:09.721557Z",
     "iopub.status.idle": "2021-11-14T14:30:10.906833Z",
     "shell.execute_reply": "2021-11-14T14:30:10.908263Z"
    },
    "papermill": {
     "duration": 1.215863,
     "end_time": "2021-11-14T14:30:10.908874",
     "exception": false,
     "start_time": "2021-11-14T14:30:09.693011",
     "status": "completed"
    },
    "tags": []
   },
   "outputs": [],
   "source": [
    "df = pd.read_sql(\"select * from EBAY_TOP_BERLIN where record_time in (select distinct record_time from EBAY_TOP_BERLIN order by record_time desc limit 2)\", sqlite3.connect(\"UsedObjects.db\"))"
   ]
  },
  {
   "cell_type": "code",
   "execution_count": 5,
   "id": "popular-active",
   "metadata": {
    "execution": {
     "iopub.execute_input": "2021-11-14T14:30:10.980940Z",
     "iopub.status.busy": "2021-11-14T14:30:10.973711Z",
     "iopub.status.idle": "2021-11-14T14:30:11.008936Z",
     "shell.execute_reply": "2021-11-14T14:30:11.007126Z"
    },
    "papermill": {
     "duration": 0.078887,
     "end_time": "2021-11-14T14:30:11.009433",
     "exception": false,
     "start_time": "2021-11-14T14:30:10.930546",
     "status": "completed"
    },
    "tags": []
   },
   "outputs": [],
   "source": [
    "df_pivot = df.pivot_table(index=\"PRODUCT\", columns = \"RECORD_TIME\", values = \"LISTING_COUNT\")"
   ]
  },
  {
   "cell_type": "code",
   "execution_count": 6,
   "id": "union-huntington",
   "metadata": {
    "execution": {
     "iopub.execute_input": "2021-11-14T14:30:11.069746Z",
     "iopub.status.busy": "2021-11-14T14:30:11.067492Z",
     "iopub.status.idle": "2021-11-14T14:30:11.075096Z",
     "shell.execute_reply": "2021-11-14T14:30:11.073609Z"
    },
    "papermill": {
     "duration": 0.044568,
     "end_time": "2021-11-14T14:30:11.075512",
     "exception": false,
     "start_time": "2021-11-14T14:30:11.030944",
     "status": "completed"
    },
    "tags": []
   },
   "outputs": [],
   "source": [
    "df_pivot.columns = [\"stamp_1\", \"stamp_2\"]\n",
    "df_pivot_diff = df_pivot.diff(axis=1)"
   ]
  },
  {
   "cell_type": "code",
   "execution_count": 7,
   "id": "fifth-motion",
   "metadata": {
    "execution": {
     "iopub.execute_input": "2021-11-14T14:30:11.133982Z",
     "iopub.status.busy": "2021-11-14T14:30:11.131301Z",
     "iopub.status.idle": "2021-11-14T14:30:13.149810Z",
     "shell.execute_reply": "2021-11-14T14:30:13.152407Z"
    },
    "papermill": {
     "duration": 2.057615,
     "end_time": "2021-11-14T14:30:13.153174",
     "exception": false,
     "start_time": "2021-11-14T14:30:11.095559",
     "status": "completed"
    },
    "tags": []
   },
   "outputs": [
    {
     "data": {
      "text/plain": [
       "<AxesSubplot:ylabel='PRODUCT'>"
      ]
     },
     "execution_count": 7,
     "metadata": {},
     "output_type": "execute_result"
    },
    {
     "data": {
      "image/png": "[encoded data removed]",
      "text/plain": [
       "<Figure size 432x288 with 1 Axes>"
      ]
     },
     "metadata": {
      "needs_background": "light"
     },
     "output_type": "display_data"
    }
   ],
   "source": [
    "df_pivot_diff.sort_values(\"stamp_2\", ascending = False)[\"stamp_2\"].head(10).plot.barh()"
   ]
  },
  {
   "cell_type": "code",
   "execution_count": null,
   "id": "extra-executive",
   "metadata": {
    "papermill": {
     "duration": 0.028184,
     "end_time": "2021-11-14T14:30:13.210511",
     "exception": false,
     "start_time": "2021-11-14T14:30:13.182327",
     "status": "completed"
    },
    "tags": []
   },
   "outputs": [],
   "source": []
  }
 ],
 "metadata": {
  "kernelspec": {
   "display_name": "Python 3",
   "language": "python",
   "name": "python3"
  },
  "language_info": {
   "codemirror_mode": {
    "name": "ipython",
    "version": 3
   },
   "file_extension": ".py",
   "mimetype": "text/x-python",
   "name": "python",
   "nbconvert_exporter": "python",
   "pygments_lexer": "ipython3",
   "version": "3.9.5"
  },
  "papermill": {
   "default_parameters": {},
   "duration": 9.934802,
   "end_time": "2021-11-14T14:30:14.887782",
   "environment_variables": {},
   "exception": null,
   "input_path": "eBay_Overview.ipynb",
   "output_path": "eBay_Overview.ipynb",
   "parameters": {},
   "start_time": "2021-11-14T14:30:04.952980",
   "version": "2.3.3"
  }
 },
 "nbformat": 4,
 "nbformat_minor": 5
}