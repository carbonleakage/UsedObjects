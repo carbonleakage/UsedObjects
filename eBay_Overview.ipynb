{
 "cells": [
  {
   "cell_type": "code",
   "execution_count": 1,
   "id": "reverse-picking",
   "metadata": {
    "execution": {
     "iopub.execute_input": "2021-12-18T01:30:07.386553Z",
     "iopub.status.busy": "2021-12-18T01:30:07.384114Z",
     "iopub.status.idle": "2021-12-18T01:30:08.347885Z",
     "shell.execute_reply": "2021-12-18T01:30:08.349705Z"
    },
    "papermill": {
     "duration": 1.014905,
     "end_time": "2021-12-18T01:30:08.350453",
     "exception": false,
     "start_time": "2021-12-18T01:30:07.335548",
     "status": "completed"
    },
    "tags": []
   },
   "outputs": [],
   "source": [
    "import pandas as pd\n",
    "import sqlite3"
   ]
  },
  {
   "cell_type": "code",
   "execution_count": 2,
   "id": "innovative-syndrome",
   "metadata": {
    "execution": {
     "iopub.execute_input": "2021-12-18T01:30:08.430786Z",
     "iopub.status.busy": "2021-12-18T01:30:08.427297Z",
     "iopub.status.idle": "2021-12-18T01:30:09.569747Z",
     "shell.execute_reply": "2021-12-18T01:30:09.571459Z"
    },
    "papermill": {
     "duration": 1.188927,
     "end_time": "2021-12-18T01:30:09.572006",
     "exception": false,
     "start_time": "2021-12-18T01:30:08.383079",
     "status": "completed"
    },
    "tags": []
   },
   "outputs": [],
   "source": [
    "timestamps = pd.read_sql(\"select distinct record_time from EBAY_TOP_BERLIN order by record_time desc limit 2\", sqlite3.connect(\"UsedObjects.db\"))"
   ]
  },
  {
   "cell_type": "code",
   "execution_count": 3,
   "id": "periodic-identification",
   "metadata": {
    "execution": {
     "iopub.execute_input": "2021-12-18T01:30:09.631923Z",
     "iopub.status.busy": "2021-12-18T01:30:09.629836Z",
     "iopub.status.idle": "2021-12-18T01:30:09.668435Z",
     "shell.execute_reply": "2021-12-18T01:30:09.670891Z"
    },
    "papermill": {
     "duration": 0.079078,
     "end_time": "2021-12-18T01:30:09.671314",
     "exception": false,
     "start_time": "2021-12-18T01:30:09.592236",
     "status": "completed"
    },
    "tags": []
   },
   "outputs": [
    {
     "data": {
      "text/html": [
       "<div>\n",
       "<style scoped>\n",
       "    .dataframe tbody tr th:only-of-type {\n",
       "        vertical-align: middle;\n",
       "    }\n",
       "\n",
       "    .dataframe tbody tr th {\n",
       "        vertical-align: top;\n",
       "    }\n",
       "\n",
       "    .dataframe thead th {\n",
       "        text-align: right;\n",
       "    }\n",
       "</style>\n",
       "<table border=\"1\" class=\"dataframe\">\n",
       "  <thead>\n",
       "    <tr style=\"text-align: right;\">\n",
       "      <th></th>\n",
       "      <th>RECORD_TIME</th>\n",
       "    </tr>\n",
       "  </thead>\n",
       "  <tbody>\n",
       "    <tr>\n",
       "      <th>0</th>\n",
       "      <td>2021-12-18 02:30</td>\n",
       "    </tr>\n",
       "    <tr>\n",
       "      <th>1</th>\n",
       "      <td>2021-12-18 02:00</td>\n",
       "    </tr>\n",
       "  </tbody>\n",
       "</table>\n",
       "</div>"
      ],
      "text/plain": [
       "        RECORD_TIME\n",
       "0  2021-12-18 02:30\n",
       "1  2021-12-18 02:00"
      ]
     },
     "execution_count": 3,
     "metadata": {},
     "output_type": "execute_result"
    }
   ],
   "source": [
    "timestamps"
   ]
  },
  {
   "cell_type": "code",
   "execution_count": 4,
   "id": "alternate-victory",
   "metadata": {
    "execution": {
     "iopub.execute_input": "2021-12-18T01:30:09.740148Z",
     "iopub.status.busy": "2021-12-18T01:30:09.737856Z",
     "iopub.status.idle": "2021-12-18T01:30:11.343740Z",
     "shell.execute_reply": "2021-12-18T01:30:11.345212Z"
    },
    "papermill": {
     "duration": 1.64143,
     "end_time": "2021-12-18T01:30:11.345704",
     "exception": false,
     "start_time": "2021-12-18T01:30:09.704274",
     "status": "completed"
    },
    "tags": []
   },
   "outputs": [],
   "source": [
    "df = pd.read_sql(\"select * from EBAY_TOP_BERLIN where record_time in (select distinct record_time from EBAY_TOP_BERLIN order by record_time desc limit 2)\", sqlite3.connect(\"UsedObjects.db\"))"
   ]
  },
  {
   "cell_type": "code",
   "execution_count": 5,
   "id": "popular-active",
   "metadata": {
    "execution": {
     "iopub.execute_input": "2021-12-18T01:30:11.421830Z",
     "iopub.status.busy": "2021-12-18T01:30:11.407898Z",
     "iopub.status.idle": "2021-12-18T01:30:11.440982Z",
     "shell.execute_reply": "2021-12-18T01:30:11.442530Z"
    },
    "papermill": {
     "duration": 0.076189,
     "end_time": "2021-12-18T01:30:11.443004",
     "exception": false,
     "start_time": "2021-12-18T01:30:11.366815",
     "status": "completed"
    },
    "tags": []
   },
   "outputs": [],
   "source": [
    "df_pivot = df.pivot_table(index=\"PRODUCT\", columns = \"RECORD_TIME\", values = \"LISTING_COUNT\")"
   ]
  },
  {
   "cell_type": "code",
   "execution_count": 6,
   "id": "union-huntington",
   "metadata": {
    "execution": {
     "iopub.execute_input": "2021-12-18T01:30:11.505463Z",
     "iopub.status.busy": "2021-12-18T01:30:11.503140Z",
     "iopub.status.idle": "2021-12-18T01:30:11.509426Z",
     "shell.execute_reply": "2021-12-18T01:30:11.510793Z"
    },
    "papermill": {
     "duration": 0.045714,
     "end_time": "2021-12-18T01:30:11.511272",
     "exception": false,
     "start_time": "2021-12-18T01:30:11.465558",
     "status": "completed"
    },
    "tags": []
   },
   "outputs": [],
   "source": [
    "df_pivot.columns = [\"stamp_1\", \"stamp_2\"]\n",
    "df_pivot_diff = df_pivot.diff(axis=1)"
   ]
  },
  {
   "cell_type": "code",
   "execution_count": 7,
   "id": "fifth-motion",
   "metadata": {
    "execution": {
     "iopub.execute_input": "2021-12-18T01:30:11.569332Z",
     "iopub.status.busy": "2021-12-18T01:30:11.566733Z",
     "iopub.status.idle": "2021-12-18T01:30:13.535987Z",
     "shell.execute_reply": "2021-12-18T01:30:13.537553Z"
    },
    "papermill": {
     "duration": 2.005437,
     "end_time": "2021-12-18T01:30:13.538002",
     "exception": false,
     "start_time": "2021-12-18T01:30:11.532565",
     "status": "completed"
    },
    "tags": []
   },
   "outputs": [
    {
     "data": {
      "text/plain": [
       "<AxesSubplot:ylabel='PRODUCT'>"
      ]
     },
     "execution_count": 7,
     "metadata": {},
     "output_type": "execute_result"
    },
    {
     "data": {
      "image/png": "[encoded data removed]",
      "text/plain": [
       "<Figure size 432x288 with 1 Axes>"
      ]
     },
     "metadata": {
      "needs_background": "light"
     },
     "output_type": "display_data"
    }
   ],
   "source": [
    "df_pivot_diff.sort_values(\"stamp_2\", ascending = False)[\"stamp_2\"].head(10).plot.barh()"
   ]
  },
  {
   "cell_type": "code",
   "execution_count": null,
   "id": "extra-executive",
   "metadata": {
    "papermill": {
     "duration": 0.02877,
     "end_time": "2021-12-18T01:30:13.598815",
     "exception": false,
     "start_time": "2021-12-18T01:30:13.570045",
     "status": "completed"
    },
    "tags": []
   },
   "outputs": [],
   "source": []
  }
 ],
 "metadata": {
  "kernelspec": {
   "display_name": "Python 3",
   "language": "python",
   "name": "python3"
  },
  "language_info": {
   "codemirror_mode": {
    "name": "ipython",
    "version": 3
   },
   "file_extension": ".py",
   "mimetype": "text/x-python",
   "name": "python",
   "nbconvert_exporter": "python",
   "pygments_lexer": "ipython3",
   "version": "3.9.5"
  },
  "papermill": {
   "default_parameters": {},
   "duration": 9.675503,
   "end_time": "2021-12-18T01:30:14.244671",
   "environment_variables": {},
   "exception": null,
   "input_path": "eBay_Overview.ipynb",
   "output_path": "eBay_Overview.ipynb",
   "parameters": {},
   "start_time": "2021-12-18T01:30:04.569168",
   "version": "2.3.3"
  }
 },
 "nbformat": 4,
 "nbformat_minor": 5
}