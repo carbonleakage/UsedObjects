{
 "cells": [
  {
   "cell_type": "code",
   "execution_count": 1,
   "id": "reverse-picking",
   "metadata": {
    "execution": {
     "iopub.execute_input": "2021-11-25T17:30:07.386975Z",
     "iopub.status.busy": "2021-11-25T17:30:07.384069Z",
     "iopub.status.idle": "2021-11-25T17:30:08.337586Z",
     "shell.execute_reply": "2021-11-25T17:30:08.339782Z"
    },
    "papermill": {
     "duration": 1.00586,
     "end_time": "2021-11-25T17:30:08.340579",
     "exception": false,
     "start_time": "2021-11-25T17:30:07.334719",
     "status": "completed"
    },
    "tags": []
   },
   "outputs": [],
   "source": [
    "import pandas as pd\n",
    "import sqlite3"
   ]
  },
  {
   "cell_type": "code",
   "execution_count": 2,
   "id": "innovative-syndrome",
   "metadata": {
    "execution": {
     "iopub.execute_input": "2021-11-25T17:30:08.400359Z",
     "iopub.status.busy": "2021-11-25T17:30:08.397996Z",
     "iopub.status.idle": "2021-11-25T17:30:09.298472Z",
     "shell.execute_reply": "2021-11-25T17:30:09.300193Z"
    },
    "papermill": {
     "duration": 0.934513,
     "end_time": "2021-11-25T17:30:09.300986",
     "exception": false,
     "start_time": "2021-11-25T17:30:08.366473",
     "status": "completed"
    },
    "tags": []
   },
   "outputs": [],
   "source": [
    "timestamps = pd.read_sql(\"select distinct record_time from EBAY_TOP_BERLIN order by record_time desc limit 2\", sqlite3.connect(\"UsedObjects.db\"))"
   ]
  },
  {
   "cell_type": "code",
   "execution_count": 3,
   "id": "periodic-identification",
   "metadata": {
    "execution": {
     "iopub.execute_input": "2021-11-25T17:30:09.372737Z",
     "iopub.status.busy": "2021-11-25T17:30:09.370159Z",
     "iopub.status.idle": "2021-11-25T17:30:09.393206Z",
     "shell.execute_reply": "2021-11-25T17:30:09.394536Z"
    },
    "papermill": {
     "duration": 0.071695,
     "end_time": "2021-11-25T17:30:09.395010",
     "exception": false,
     "start_time": "2021-11-25T17:30:09.323315",
     "status": "completed"
    },
    "tags": []
   },
   "outputs": [
    {
     "data": {
      "text/html": [
       "<div>\n",
       "<style scoped>\n",
       "    .dataframe tbody tr th:only-of-type {\n",
       "        vertical-align: middle;\n",
       "    }\n",
       "\n",
       "    .dataframe tbody tr th {\n",
       "        vertical-align: top;\n",
       "    }\n",
       "\n",
       "    .dataframe thead th {\n",
       "        text-align: right;\n",
       "    }\n",
       "</style>\n",
       "<table border=\"1\" class=\"dataframe\">\n",
       "  <thead>\n",
       "    <tr style=\"text-align: right;\">\n",
       "      <th></th>\n",
       "      <th>RECORD_TIME</th>\n",
       "    </tr>\n",
       "  </thead>\n",
       "  <tbody>\n",
       "    <tr>\n",
       "      <th>0</th>\n",
       "      <td>2021-11-25 18:30</td>\n",
       "    </tr>\n",
       "    <tr>\n",
       "      <th>1</th>\n",
       "      <td>2021-11-25 18:00</td>\n",
       "    </tr>\n",
       "  </tbody>\n",
       "</table>\n",
       "</div>"
      ],
      "text/plain": [
       "        RECORD_TIME\n",
       "0  2021-11-25 18:30\n",
       "1  2021-11-25 18:00"
      ]
     },
     "execution_count": 3,
     "metadata": {},
     "output_type": "execute_result"
    }
   ],
   "source": [
    "timestamps"
   ]
  },
  {
   "cell_type": "code",
   "execution_count": 4,
   "id": "alternate-victory",
   "metadata": {
    "execution": {
     "iopub.execute_input": "2021-11-25T17:30:09.447387Z",
     "iopub.status.busy": "2021-11-25T17:30:09.444905Z",
     "iopub.status.idle": "2021-11-25T17:30:10.754533Z",
     "shell.execute_reply": "2021-11-25T17:30:10.756049Z"
    },
    "papermill": {
     "duration": 1.340994,
     "end_time": "2021-11-25T17:30:10.756563",
     "exception": false,
     "start_time": "2021-11-25T17:30:09.415569",
     "status": "completed"
    },
    "tags": []
   },
   "outputs": [],
   "source": [
    "df = pd.read_sql(\"select * from EBAY_TOP_BERLIN where record_time in (select distinct record_time from EBAY_TOP_BERLIN order by record_time desc limit 2)\", sqlite3.connect(\"UsedObjects.db\"))"
   ]
  },
  {
   "cell_type": "code",
   "execution_count": 5,
   "id": "popular-active",
   "metadata": {
    "execution": {
     "iopub.execute_input": "2021-11-25T17:30:10.834806Z",
     "iopub.status.busy": "2021-11-25T17:30:10.820973Z",
     "iopub.status.idle": "2021-11-25T17:30:10.854599Z",
     "shell.execute_reply": "2021-11-25T17:30:10.856108Z"
    },
    "papermill": {
     "duration": 0.0771,
     "end_time": "2021-11-25T17:30:10.856581",
     "exception": false,
     "start_time": "2021-11-25T17:30:10.779481",
     "status": "completed"
    },
    "tags": []
   },
   "outputs": [],
   "source": [
    "df_pivot = df.pivot_table(index=\"PRODUCT\", columns = \"RECORD_TIME\", values = \"LISTING_COUNT\")"
   ]
  },
  {
   "cell_type": "code",
   "execution_count": 6,
   "id": "union-huntington",
   "metadata": {
    "execution": {
     "iopub.execute_input": "2021-11-25T17:30:10.915540Z",
     "iopub.status.busy": "2021-11-25T17:30:10.913318Z",
     "iopub.status.idle": "2021-11-25T17:30:10.918929Z",
     "shell.execute_reply": "2021-11-25T17:30:10.920393Z"
    },
    "papermill": {
     "duration": 0.042922,
     "end_time": "2021-11-25T17:30:10.920921",
     "exception": false,
     "start_time": "2021-11-25T17:30:10.877999",
     "status": "completed"
    },
    "tags": []
   },
   "outputs": [],
   "source": [
    "df_pivot.columns = [\"stamp_1\", \"stamp_2\"]\n",
    "df_pivot_diff = df_pivot.diff(axis=1)"
   ]
  },
  {
   "cell_type": "code",
   "execution_count": 7,
   "id": "fifth-motion",
   "metadata": {
    "execution": {
     "iopub.execute_input": "2021-11-25T17:30:10.979033Z",
     "iopub.status.busy": "2021-11-25T17:30:10.976473Z",
     "iopub.status.idle": "2021-11-25T17:30:12.879772Z",
     "shell.execute_reply": "2021-11-25T17:30:12.882505Z"
    },
    "papermill": {
     "duration": 1.939761,
     "end_time": "2021-11-25T17:30:12.883319",
     "exception": false,
     "start_time": "2021-11-25T17:30:10.943558",
     "status": "completed"
    },
    "tags": []
   },
   "outputs": [
    {
     "data": {
      "text/plain": [
       "<AxesSubplot:ylabel='PRODUCT'>"
      ]
     },
     "execution_count": 7,
     "metadata": {},
     "output_type": "execute_result"
    },
    {
     "data": {
      "image/png": "[encoded data removed]",
      "text/plain": [
       "<Figure size 432x288 with 1 Axes>"
      ]
     },
     "metadata": {
      "needs_background": "light"
     },
     "output_type": "display_data"
    }
   ],
   "source": [
    "df_pivot_diff.sort_values(\"stamp_2\", ascending = False)[\"stamp_2\"].head(10).plot.barh()"
   ]
  },
  {
   "cell_type": "code",
   "execution_count": null,
   "id": "extra-executive",
   "metadata": {
    "papermill": {
     "duration": 0.03213,
     "end_time": "2021-11-25T17:30:12.951700",
     "exception": false,
     "start_time": "2021-11-25T17:30:12.919570",
     "status": "completed"
    },
    "tags": []
   },
   "outputs": [],
   "source": []
  }
 ],
 "metadata": {
  "kernelspec": {
   "display_name": "Python 3",
   "language": "python",
   "name": "python3"
  },
  "language_info": {
   "codemirror_mode": {
    "name": "ipython",
    "version": 3
   },
   "file_extension": ".py",
   "mimetype": "text/x-python",
   "name": "python",
   "nbconvert_exporter": "python",
   "pygments_lexer": "ipython3",
   "version": "3.9.5"
  },
  "papermill": {
   "default_parameters": {},
   "duration": 9.92475,
   "end_time": "2021-11-25T17:30:14.561568",
   "environment_variables": {},
   "exception": null,
   "input_path": "eBay_Overview.ipynb",
   "output_path": "eBay_Overview.ipynb",
   "parameters": {},
   "start_time": "2021-11-25T17:30:04.636818",
   "version": "2.3.3"
  }
 },
 "nbformat": 4,
 "nbformat_minor": 5
}