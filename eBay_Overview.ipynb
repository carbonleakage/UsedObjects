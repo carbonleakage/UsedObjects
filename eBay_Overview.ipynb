{
 "cells": [
  {
   "cell_type": "code",
   "execution_count": 1,
   "id": "reverse-picking",
   "metadata": {
    "execution": {
     "iopub.execute_input": "2021-11-09T23:30:07.301850Z",
     "iopub.status.busy": "2021-11-09T23:30:07.299574Z",
     "iopub.status.idle": "2021-11-09T23:30:08.265401Z",
     "shell.execute_reply": "2021-11-09T23:30:08.266885Z"
    },
    "papermill": {
     "duration": 1.01479,
     "end_time": "2021-11-09T23:30:08.267584",
     "exception": false,
     "start_time": "2021-11-09T23:30:07.252794",
     "status": "completed"
    },
    "tags": []
   },
   "outputs": [],
   "source": [
    "import pandas as pd\n",
    "import sqlite3"
   ]
  },
  {
   "cell_type": "code",
   "execution_count": 2,
   "id": "innovative-syndrome",
   "metadata": {
    "execution": {
     "iopub.execute_input": "2021-11-09T23:30:08.336083Z",
     "iopub.status.busy": "2021-11-09T23:30:08.333807Z",
     "iopub.status.idle": "2021-11-09T23:30:09.113262Z",
     "shell.execute_reply": "2021-11-09T23:30:09.114718Z"
    },
    "papermill": {
     "duration": 0.813762,
     "end_time": "2021-11-09T23:30:09.115168",
     "exception": false,
     "start_time": "2021-11-09T23:30:08.301406",
     "status": "completed"
    },
    "tags": []
   },
   "outputs": [],
   "source": [
    "timestamps = pd.read_sql(\"select distinct record_time from EBAY_TOP_BERLIN order by record_time desc limit 2\", sqlite3.connect(\"UsedObjects.db\"))"
   ]
  },
  {
   "cell_type": "code",
   "execution_count": 3,
   "id": "periodic-identification",
   "metadata": {
    "execution": {
     "iopub.execute_input": "2021-11-09T23:30:09.184148Z",
     "iopub.status.busy": "2021-11-09T23:30:09.181945Z",
     "iopub.status.idle": "2021-11-09T23:30:09.205880Z",
     "shell.execute_reply": "2021-11-09T23:30:09.207423Z"
    },
    "papermill": {
     "duration": 0.073776,
     "end_time": "2021-11-09T23:30:09.207897",
     "exception": false,
     "start_time": "2021-11-09T23:30:09.134121",
     "status": "completed"
    },
    "tags": []
   },
   "outputs": [
    {
     "data": {
      "text/html": [
       "<div>\n",
       "<style scoped>\n",
       "    .dataframe tbody tr th:only-of-type {\n",
       "        vertical-align: middle;\n",
       "    }\n",
       "\n",
       "    .dataframe tbody tr th {\n",
       "        vertical-align: top;\n",
       "    }\n",
       "\n",
       "    .dataframe thead th {\n",
       "        text-align: right;\n",
       "    }\n",
       "</style>\n",
       "<table border=\"1\" class=\"dataframe\">\n",
       "  <thead>\n",
       "    <tr style=\"text-align: right;\">\n",
       "      <th></th>\n",
       "      <th>RECORD_TIME</th>\n",
       "    </tr>\n",
       "  </thead>\n",
       "  <tbody>\n",
       "    <tr>\n",
       "      <th>0</th>\n",
       "      <td>2021-11-10 00:30</td>\n",
       "    </tr>\n",
       "    <tr>\n",
       "      <th>1</th>\n",
       "      <td>2021-11-10 00:00</td>\n",
       "    </tr>\n",
       "  </tbody>\n",
       "</table>\n",
       "</div>"
      ],
      "text/plain": [
       "        RECORD_TIME\n",
       "0  2021-11-10 00:30\n",
       "1  2021-11-10 00:00"
      ]
     },
     "execution_count": 3,
     "metadata": {},
     "output_type": "execute_result"
    }
   ],
   "source": [
    "timestamps"
   ]
  },
  {
   "cell_type": "code",
   "execution_count": 4,
   "id": "alternate-victory",
   "metadata": {
    "execution": {
     "iopub.execute_input": "2021-11-09T23:30:09.264393Z",
     "iopub.status.busy": "2021-11-09T23:30:09.262257Z",
     "iopub.status.idle": "2021-11-09T23:30:10.399462Z",
     "shell.execute_reply": "2021-11-09T23:30:10.401033Z"
    },
    "papermill": {
     "duration": 1.172339,
     "end_time": "2021-11-09T23:30:10.401498",
     "exception": false,
     "start_time": "2021-11-09T23:30:09.229159",
     "status": "completed"
    },
    "tags": []
   },
   "outputs": [],
   "source": [
    "df = pd.read_sql(\"select * from EBAY_TOP_BERLIN where record_time in (select distinct record_time from EBAY_TOP_BERLIN order by record_time desc limit 2)\", sqlite3.connect(\"UsedObjects.db\"))"
   ]
  },
  {
   "cell_type": "code",
   "execution_count": 5,
   "id": "popular-active",
   "metadata": {
    "execution": {
     "iopub.execute_input": "2021-11-09T23:30:10.468937Z",
     "iopub.status.busy": "2021-11-09T23:30:10.466676Z",
     "iopub.status.idle": "2021-11-09T23:30:10.497000Z",
     "shell.execute_reply": "2021-11-09T23:30:10.498319Z"
    },
    "papermill": {
     "duration": 0.075266,
     "end_time": "2021-11-09T23:30:10.498774",
     "exception": false,
     "start_time": "2021-11-09T23:30:10.423508",
     "status": "completed"
    },
    "tags": []
   },
   "outputs": [],
   "source": [
    "df_pivot = df.pivot_table(index=\"PRODUCT\", columns = \"RECORD_TIME\", values = \"LISTING_COUNT\")"
   ]
  },
  {
   "cell_type": "code",
   "execution_count": 6,
   "id": "union-huntington",
   "metadata": {
    "execution": {
     "iopub.execute_input": "2021-11-09T23:30:10.555600Z",
     "iopub.status.busy": "2021-11-09T23:30:10.553560Z",
     "iopub.status.idle": "2021-11-09T23:30:10.560069Z",
     "shell.execute_reply": "2021-11-09T23:30:10.561695Z"
    },
    "papermill": {
     "duration": 0.04354,
     "end_time": "2021-11-09T23:30:10.562196",
     "exception": false,
     "start_time": "2021-11-09T23:30:10.518656",
     "status": "completed"
    },
    "tags": []
   },
   "outputs": [],
   "source": [
    "df_pivot.columns = [\"stamp_1\", \"stamp_2\"]\n",
    "df_pivot_diff = df_pivot.diff(axis=1)"
   ]
  },
  {
   "cell_type": "code",
   "execution_count": 7,
   "id": "fifth-motion",
   "metadata": {
    "execution": {
     "iopub.execute_input": "2021-11-09T23:30:10.632059Z",
     "iopub.status.busy": "2021-11-09T23:30:10.627797Z",
     "iopub.status.idle": "2021-11-09T23:30:12.357617Z",
     "shell.execute_reply": "2021-11-09T23:30:12.359449Z"
    },
    "papermill": {
     "duration": 1.776532,
     "end_time": "2021-11-09T23:30:12.359995",
     "exception": false,
     "start_time": "2021-11-09T23:30:10.583463",
     "status": "completed"
    },
    "tags": []
   },
   "outputs": [
    {
     "data": {
      "text/plain": [
       "<AxesSubplot:ylabel='PRODUCT'>"
      ]
     },
     "execution_count": 7,
     "metadata": {},
     "output_type": "execute_result"
    },
    {
     "data": {
      "image/png": "[encoded data removed]",
      "text/plain": [
       "<Figure size 432x288 with 1 Axes>"
      ]
     },
     "metadata": {
      "needs_background": "light"
     },
     "output_type": "display_data"
    }
   ],
   "source": [
    "df_pivot_diff.sort_values(\"stamp_2\", ascending = False)[\"stamp_2\"].head(10).plot.barh()"
   ]
  },
  {
   "cell_type": "code",
   "execution_count": null,
   "id": "extra-executive",
   "metadata": {
    "papermill": {
     "duration": 0.034939,
     "end_time": "2021-11-09T23:30:12.430700",
     "exception": false,
     "start_time": "2021-11-09T23:30:12.395761",
     "status": "completed"
    },
    "tags": []
   },
   "outputs": [],
   "source": []
  }
 ],
 "metadata": {
  "kernelspec": {
   "display_name": "Python 3",
   "language": "python",
   "name": "python3"
  },
  "language_info": {
   "codemirror_mode": {
    "name": "ipython",
    "version": 3
   },
   "file_extension": ".py",
   "mimetype": "text/x-python",
   "name": "python",
   "nbconvert_exporter": "python",
   "pygments_lexer": "ipython3",
   "version": "3.9.5"
  },
  "papermill": {
   "default_parameters": {},
   "duration": 8.779472,
   "end_time": "2021-11-09T23:30:13.307411",
   "environment_variables": {},
   "exception": null,
   "input_path": "eBay_Overview.ipynb",
   "output_path": "eBay_Overview.ipynb",
   "parameters": {},
   "start_time": "2021-11-09T23:30:04.527939",
   "version": "2.3.3"
  }
 },
 "nbformat": 4,
 "nbformat_minor": 5
}