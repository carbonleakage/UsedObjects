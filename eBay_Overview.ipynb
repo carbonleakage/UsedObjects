{
 "cells": [
  {
   "cell_type": "code",
   "execution_count": 1,
   "id": "reverse-picking",
   "metadata": {
    "execution": {
     "iopub.execute_input": "2021-10-19T09:00:07.079422Z",
     "iopub.status.busy": "2021-10-19T09:00:07.077475Z",
     "iopub.status.idle": "2021-10-19T09:00:07.882567Z",
     "shell.execute_reply": "2021-10-19T09:00:07.883814Z"
    },
    "papermill": {
     "duration": 0.855321,
     "end_time": "2021-10-19T09:00:07.884420",
     "exception": false,
     "start_time": "2021-10-19T09:00:07.029099",
     "status": "completed"
    },
    "tags": []
   },
   "outputs": [],
   "source": [
    "import pandas as pd\n",
    "import sqlite3"
   ]
  },
  {
   "cell_type": "code",
   "execution_count": 2,
   "id": "innovative-syndrome",
   "metadata": {
    "execution": {
     "iopub.execute_input": "2021-10-19T09:00:07.934731Z",
     "iopub.status.busy": "2021-10-19T09:00:07.932792Z",
     "iopub.status.idle": "2021-10-19T09:00:08.516338Z",
     "shell.execute_reply": "2021-10-19T09:00:08.517767Z"
    },
    "papermill": {
     "duration": 0.613068,
     "end_time": "2021-10-19T09:00:08.518206",
     "exception": false,
     "start_time": "2021-10-19T09:00:07.905138",
     "status": "completed"
    },
    "tags": []
   },
   "outputs": [],
   "source": [
    "timestamps = pd.read_sql(\"select distinct record_time from EBAY_TOP_BERLIN order by record_time desc limit 2\", sqlite3.connect(\"UsedObjects.db\"))"
   ]
  },
  {
   "cell_type": "code",
   "execution_count": 3,
   "id": "periodic-identification",
   "metadata": {
    "execution": {
     "iopub.execute_input": "2021-10-19T09:00:08.591486Z",
     "iopub.status.busy": "2021-10-19T09:00:08.589468Z",
     "iopub.status.idle": "2021-10-19T09:00:08.609311Z",
     "shell.execute_reply": "2021-10-19T09:00:08.610663Z"
    },
    "papermill": {
     "duration": 0.067997,
     "end_time": "2021-10-19T09:00:08.611080",
     "exception": false,
     "start_time": "2021-10-19T09:00:08.543083",
     "status": "completed"
    },
    "tags": []
   },
   "outputs": [
    {
     "data": {
      "text/html": [
       "<div>\n",
       "<style scoped>\n",
       "    .dataframe tbody tr th:only-of-type {\n",
       "        vertical-align: middle;\n",
       "    }\n",
       "\n",
       "    .dataframe tbody tr th {\n",
       "        vertical-align: top;\n",
       "    }\n",
       "\n",
       "    .dataframe thead th {\n",
       "        text-align: right;\n",
       "    }\n",
       "</style>\n",
       "<table border=\"1\" class=\"dataframe\">\n",
       "  <thead>\n",
       "    <tr style=\"text-align: right;\">\n",
       "      <th></th>\n",
       "      <th>RECORD_TIME</th>\n",
       "    </tr>\n",
       "  </thead>\n",
       "  <tbody>\n",
       "    <tr>\n",
       "      <th>0</th>\n",
       "      <td>2021-10-19 11:00</td>\n",
       "    </tr>\n",
       "    <tr>\n",
       "      <th>1</th>\n",
       "      <td>2021-10-19 10:30</td>\n",
       "    </tr>\n",
       "  </tbody>\n",
       "</table>\n",
       "</div>"
      ],
      "text/plain": [
       "        RECORD_TIME\n",
       "0  2021-10-19 11:00\n",
       "1  2021-10-19 10:30"
      ]
     },
     "execution_count": 3,
     "metadata": {},
     "output_type": "execute_result"
    }
   ],
   "source": [
    "timestamps"
   ]
  },
  {
   "cell_type": "code",
   "execution_count": 4,
   "id": "alternate-victory",
   "metadata": {
    "execution": {
     "iopub.execute_input": "2021-10-19T09:00:08.661857Z",
     "iopub.status.busy": "2021-10-19T09:00:08.659925Z",
     "iopub.status.idle": "2021-10-19T09:00:09.538837Z",
     "shell.execute_reply": "2021-10-19T09:00:09.540139Z"
    },
    "papermill": {
     "duration": 0.908453,
     "end_time": "2021-10-19T09:00:09.540553",
     "exception": false,
     "start_time": "2021-10-19T09:00:08.632100",
     "status": "completed"
    },
    "tags": []
   },
   "outputs": [],
   "source": [
    "df = pd.read_sql(\"select * from EBAY_TOP_BERLIN where record_time in (select distinct record_time from EBAY_TOP_BERLIN order by record_time desc limit 2)\", sqlite3.connect(\"UsedObjects.db\"))"
   ]
  },
  {
   "cell_type": "code",
   "execution_count": 5,
   "id": "popular-active",
   "metadata": {
    "execution": {
     "iopub.execute_input": "2021-10-19T09:00:09.606362Z",
     "iopub.status.busy": "2021-10-19T09:00:09.599057Z",
     "iopub.status.idle": "2021-10-19T09:00:09.626781Z",
     "shell.execute_reply": "2021-10-19T09:00:09.627983Z"
    },
    "papermill": {
     "duration": 0.067052,
     "end_time": "2021-10-19T09:00:09.628377",
     "exception": false,
     "start_time": "2021-10-19T09:00:09.561325",
     "status": "completed"
    },
    "tags": []
   },
   "outputs": [],
   "source": [
    "df_pivot = df.pivot_table(index=\"PRODUCT\", columns = \"RECORD_TIME\", values = \"LISTING_COUNT\")"
   ]
  },
  {
   "cell_type": "code",
   "execution_count": 6,
   "id": "union-huntington",
   "metadata": {
    "execution": {
     "iopub.execute_input": "2021-10-19T09:00:09.684936Z",
     "iopub.status.busy": "2021-10-19T09:00:09.682619Z",
     "iopub.status.idle": "2021-10-19T09:00:09.688291Z",
     "shell.execute_reply": "2021-10-19T09:00:09.689558Z"
    },
    "papermill": {
     "duration": 0.041201,
     "end_time": "2021-10-19T09:00:09.689985",
     "exception": false,
     "start_time": "2021-10-19T09:00:09.648784",
     "status": "completed"
    },
    "tags": []
   },
   "outputs": [],
   "source": [
    "df_pivot.columns = [\"stamp_1\", \"stamp_2\"]\n",
    "df_pivot_diff = df_pivot.diff(axis=1)"
   ]
  },
  {
   "cell_type": "code",
   "execution_count": 7,
   "id": "fifth-motion",
   "metadata": {
    "execution": {
     "iopub.execute_input": "2021-10-19T09:00:09.743947Z",
     "iopub.status.busy": "2021-10-19T09:00:09.741655Z",
     "iopub.status.idle": "2021-10-19T09:00:11.215776Z",
     "shell.execute_reply": "2021-10-19T09:00:11.217874Z"
    },
    "papermill": {
     "duration": 1.50788,
     "end_time": "2021-10-19T09:00:11.218338",
     "exception": false,
     "start_time": "2021-10-19T09:00:09.710458",
     "status": "completed"
    },
    "tags": []
   },
   "outputs": [
    {
     "data": {
      "text/plain": [
       "<AxesSubplot:ylabel='PRODUCT'>"
      ]
     },
     "execution_count": 7,
     "metadata": {},
     "output_type": "execute_result"
    },
    {
     "data": {
      "image/png": "[encoded data removed]",
      "text/plain": [
       "<Figure size 432x288 with 1 Axes>"
      ]
     },
     "metadata": {
      "needs_background": "light"
     },
     "output_type": "display_data"
    }
   ],
   "source": [
    "df_pivot_diff.sort_values(\"stamp_2\", ascending = False)[\"stamp_2\"].head(10).plot.barh()"
   ]
  },
  {
   "cell_type": "code",
   "execution_count": null,
   "id": "extra-executive",
   "metadata": {
    "papermill": {
     "duration": 0.022019,
     "end_time": "2021-10-19T09:00:11.264610",
     "exception": false,
     "start_time": "2021-10-19T09:00:11.242591",
     "status": "completed"
    },
    "tags": []
   },
   "outputs": [],
   "source": []
  }
 ],
 "metadata": {
  "kernelspec": {
   "display_name": "Python 3",
   "language": "python",
   "name": "python3"
  },
  "language_info": {
   "codemirror_mode": {
    "name": "ipython",
    "version": 3
   },
   "file_extension": ".py",
   "mimetype": "text/x-python",
   "name": "python",
   "nbconvert_exporter": "python",
   "pygments_lexer": "ipython3",
   "version": "3.9.5"
  },
  "papermill": {
   "default_parameters": {},
   "duration": 7.821418,
   "end_time": "2021-10-19T09:00:12.449962",
   "environment_variables": {},
   "exception": null,
   "input_path": "eBay_Overview.ipynb",
   "output_path": "eBay_Overview.ipynb",
   "parameters": {},
   "start_time": "2021-10-19T09:00:04.628544",
   "version": "2.3.3"
  }
 },
 "nbformat": 4,
 "nbformat_minor": 5
}