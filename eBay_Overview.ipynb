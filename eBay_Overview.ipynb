{
 "cells": [
  {
   "cell_type": "code",
   "execution_count": 1,
   "id": "reverse-picking",
   "metadata": {
    "execution": {
     "iopub.execute_input": "2021-11-05T05:00:07.484564Z",
     "iopub.status.busy": "2021-11-05T05:00:07.482392Z",
     "iopub.status.idle": "2021-11-05T05:00:08.438604Z",
     "shell.execute_reply": "2021-11-05T05:00:08.440137Z"
    },
    "papermill": {
     "duration": 1.003698,
     "end_time": "2021-11-05T05:00:08.441483",
     "exception": false,
     "start_time": "2021-11-05T05:00:07.437785",
     "status": "completed"
    },
    "tags": []
   },
   "outputs": [],
   "source": [
    "import pandas as pd\n",
    "import sqlite3"
   ]
  },
  {
   "cell_type": "code",
   "execution_count": 2,
   "id": "innovative-syndrome",
   "metadata": {
    "execution": {
     "iopub.execute_input": "2021-11-05T05:00:08.507030Z",
     "iopub.status.busy": "2021-11-05T05:00:08.504840Z",
     "iopub.status.idle": "2021-11-05T05:00:09.270043Z",
     "shell.execute_reply": "2021-11-05T05:00:09.271439Z"
    },
    "papermill": {
     "duration": 0.799822,
     "end_time": "2021-11-05T05:00:09.271932",
     "exception": false,
     "start_time": "2021-11-05T05:00:08.472110",
     "status": "completed"
    },
    "tags": []
   },
   "outputs": [],
   "source": [
    "timestamps = pd.read_sql(\"select distinct record_time from EBAY_TOP_BERLIN order by record_time desc limit 2\", sqlite3.connect(\"UsedObjects.db\"))"
   ]
  },
  {
   "cell_type": "code",
   "execution_count": 3,
   "id": "periodic-identification",
   "metadata": {
    "execution": {
     "iopub.execute_input": "2021-11-05T05:00:09.340132Z",
     "iopub.status.busy": "2021-11-05T05:00:09.337955Z",
     "iopub.status.idle": "2021-11-05T05:00:09.360544Z",
     "shell.execute_reply": "2021-11-05T05:00:09.362097Z"
    },
    "papermill": {
     "duration": 0.070917,
     "end_time": "2021-11-05T05:00:09.362590",
     "exception": false,
     "start_time": "2021-11-05T05:00:09.291673",
     "status": "completed"
    },
    "tags": []
   },
   "outputs": [
    {
     "data": {
      "text/html": [
       "<div>\n",
       "<style scoped>\n",
       "    .dataframe tbody tr th:only-of-type {\n",
       "        vertical-align: middle;\n",
       "    }\n",
       "\n",
       "    .dataframe tbody tr th {\n",
       "        vertical-align: top;\n",
       "    }\n",
       "\n",
       "    .dataframe thead th {\n",
       "        text-align: right;\n",
       "    }\n",
       "</style>\n",
       "<table border=\"1\" class=\"dataframe\">\n",
       "  <thead>\n",
       "    <tr style=\"text-align: right;\">\n",
       "      <th></th>\n",
       "      <th>RECORD_TIME</th>\n",
       "    </tr>\n",
       "  </thead>\n",
       "  <tbody>\n",
       "    <tr>\n",
       "      <th>0</th>\n",
       "      <td>2021-11-05 06:00</td>\n",
       "    </tr>\n",
       "    <tr>\n",
       "      <th>1</th>\n",
       "      <td>2021-11-05 05:30</td>\n",
       "    </tr>\n",
       "  </tbody>\n",
       "</table>\n",
       "</div>"
      ],
      "text/plain": [
       "        RECORD_TIME\n",
       "0  2021-11-05 06:00\n",
       "1  2021-11-05 05:30"
      ]
     },
     "execution_count": 3,
     "metadata": {},
     "output_type": "execute_result"
    }
   ],
   "source": [
    "timestamps"
   ]
  },
  {
   "cell_type": "code",
   "execution_count": 4,
   "id": "alternate-victory",
   "metadata": {
    "execution": {
     "iopub.execute_input": "2021-11-05T05:00:09.416833Z",
     "iopub.status.busy": "2021-11-05T05:00:09.414648Z",
     "iopub.status.idle": "2021-11-05T05:00:10.527886Z",
     "shell.execute_reply": "2021-11-05T05:00:10.530216Z"
    },
    "papermill": {
     "duration": 1.147658,
     "end_time": "2021-11-05T05:00:10.530951",
     "exception": false,
     "start_time": "2021-11-05T05:00:09.383293",
     "status": "completed"
    },
    "tags": []
   },
   "outputs": [],
   "source": [
    "df = pd.read_sql(\"select * from EBAY_TOP_BERLIN where record_time in (select distinct record_time from EBAY_TOP_BERLIN order by record_time desc limit 2)\", sqlite3.connect(\"UsedObjects.db\"))"
   ]
  },
  {
   "cell_type": "code",
   "execution_count": 5,
   "id": "popular-active",
   "metadata": {
    "execution": {
     "iopub.execute_input": "2021-11-05T05:00:10.611738Z",
     "iopub.status.busy": "2021-11-05T05:00:10.597543Z",
     "iopub.status.idle": "2021-11-05T05:00:10.631224Z",
     "shell.execute_reply": "2021-11-05T05:00:10.632975Z"
    },
    "papermill": {
     "duration": 0.080375,
     "end_time": "2021-11-05T05:00:10.633484",
     "exception": false,
     "start_time": "2021-11-05T05:00:10.553109",
     "status": "completed"
    },
    "tags": []
   },
   "outputs": [],
   "source": [
    "df_pivot = df.pivot_table(index=\"PRODUCT\", columns = \"RECORD_TIME\", values = \"LISTING_COUNT\")"
   ]
  },
  {
   "cell_type": "code",
   "execution_count": 6,
   "id": "union-huntington",
   "metadata": {
    "execution": {
     "iopub.execute_input": "2021-11-05T05:00:10.696416Z",
     "iopub.status.busy": "2021-11-05T05:00:10.694157Z",
     "iopub.status.idle": "2021-11-05T05:00:10.699778Z",
     "shell.execute_reply": "2021-11-05T05:00:10.701426Z"
    },
    "papermill": {
     "duration": 0.045181,
     "end_time": "2021-11-05T05:00:10.701965",
     "exception": false,
     "start_time": "2021-11-05T05:00:10.656784",
     "status": "completed"
    },
    "tags": []
   },
   "outputs": [],
   "source": [
    "df_pivot.columns = [\"stamp_1\", \"stamp_2\"]\n",
    "df_pivot_diff = df_pivot.diff(axis=1)"
   ]
  },
  {
   "cell_type": "code",
   "execution_count": 7,
   "id": "fifth-motion",
   "metadata": {
    "execution": {
     "iopub.execute_input": "2021-11-05T05:00:10.761772Z",
     "iopub.status.busy": "2021-11-05T05:00:10.759355Z",
     "iopub.status.idle": "2021-11-05T05:00:12.553692Z",
     "shell.execute_reply": "2021-11-05T05:00:12.555098Z"
    },
    "papermill": {
     "duration": 1.831938,
     "end_time": "2021-11-05T05:00:12.555582",
     "exception": false,
     "start_time": "2021-11-05T05:00:10.723644",
     "status": "completed"
    },
    "tags": []
   },
   "outputs": [
    {
     "data": {
      "text/plain": [
       "<AxesSubplot:ylabel='PRODUCT'>"
      ]
     },
     "execution_count": 7,
     "metadata": {},
     "output_type": "execute_result"
    },
    {
     "data": {
      "image/png": "[encoded data removed]",
      "text/plain": [
       "<Figure size 432x288 with 1 Axes>"
      ]
     },
     "metadata": {
      "needs_background": "light"
     },
     "output_type": "display_data"
    }
   ],
   "source": [
    "df_pivot_diff.sort_values(\"stamp_2\", ascending = False)[\"stamp_2\"].head(10).plot.barh()"
   ]
  },
  {
   "cell_type": "code",
   "execution_count": null,
   "id": "extra-executive",
   "metadata": {
    "papermill": {
     "duration": 0.031244,
     "end_time": "2021-11-05T05:00:12.618905",
     "exception": false,
     "start_time": "2021-11-05T05:00:12.587661",
     "status": "completed"
    },
    "tags": []
   },
   "outputs": [],
   "source": []
  }
 ],
 "metadata": {
  "kernelspec": {
   "display_name": "Python 3",
   "language": "python",
   "name": "python3"
  },
  "language_info": {
   "codemirror_mode": {
    "name": "ipython",
    "version": 3
   },
   "file_extension": ".py",
   "mimetype": "text/x-python",
   "name": "python",
   "nbconvert_exporter": "python",
   "pygments_lexer": "ipython3",
   "version": "3.9.5"
  },
  "papermill": {
   "default_parameters": {},
   "duration": 8.808324,
   "end_time": "2021-11-05T05:00:13.501597",
   "environment_variables": {},
   "exception": null,
   "input_path": "eBay_Overview.ipynb",
   "output_path": "eBay_Overview.ipynb",
   "parameters": {},
   "start_time": "2021-11-05T05:00:04.693273",
   "version": "2.3.3"
  }
 },
 "nbformat": 4,
 "nbformat_minor": 5
}