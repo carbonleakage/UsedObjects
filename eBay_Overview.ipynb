{
 "cells": [
  {
   "cell_type": "code",
   "execution_count": 1,
   "id": "reverse-picking",
   "metadata": {
    "execution": {
     "iopub.execute_input": "2021-11-28T11:30:07.128652Z",
     "iopub.status.busy": "2021-11-28T11:30:07.125904Z",
     "iopub.status.idle": "2021-11-28T11:30:08.079743Z",
     "shell.execute_reply": "2021-11-28T11:30:08.081381Z"
    },
    "papermill": {
     "duration": 1.00506,
     "end_time": "2021-11-28T11:30:08.082109",
     "exception": false,
     "start_time": "2021-11-28T11:30:07.077049",
     "status": "completed"
    },
    "tags": []
   },
   "outputs": [],
   "source": [
    "import pandas as pd\n",
    "import sqlite3"
   ]
  },
  {
   "cell_type": "code",
   "execution_count": 2,
   "id": "innovative-syndrome",
   "metadata": {
    "execution": {
     "iopub.execute_input": "2021-11-28T11:30:08.143912Z",
     "iopub.status.busy": "2021-11-28T11:30:08.141771Z",
     "iopub.status.idle": "2021-11-28T11:30:09.067636Z",
     "shell.execute_reply": "2021-11-28T11:30:09.069264Z"
    },
    "papermill": {
     "duration": 0.959445,
     "end_time": "2021-11-28T11:30:09.069762",
     "exception": false,
     "start_time": "2021-11-28T11:30:08.110317",
     "status": "completed"
    },
    "tags": []
   },
   "outputs": [],
   "source": [
    "timestamps = pd.read_sql(\"select distinct record_time from EBAY_TOP_BERLIN order by record_time desc limit 2\", sqlite3.connect(\"UsedObjects.db\"))"
   ]
  },
  {
   "cell_type": "code",
   "execution_count": 3,
   "id": "periodic-identification",
   "metadata": {
    "execution": {
     "iopub.execute_input": "2021-11-28T11:30:09.139131Z",
     "iopub.status.busy": "2021-11-28T11:30:09.136814Z",
     "iopub.status.idle": "2021-11-28T11:30:09.161293Z",
     "shell.execute_reply": "2021-11-28T11:30:09.162751Z"
    },
    "papermill": {
     "duration": 0.073406,
     "end_time": "2021-11-28T11:30:09.163296",
     "exception": false,
     "start_time": "2021-11-28T11:30:09.089890",
     "status": "completed"
    },
    "tags": []
   },
   "outputs": [
    {
     "data": {
      "text/html": [
       "<div>\n",
       "<style scoped>\n",
       "    .dataframe tbody tr th:only-of-type {\n",
       "        vertical-align: middle;\n",
       "    }\n",
       "\n",
       "    .dataframe tbody tr th {\n",
       "        vertical-align: top;\n",
       "    }\n",
       "\n",
       "    .dataframe thead th {\n",
       "        text-align: right;\n",
       "    }\n",
       "</style>\n",
       "<table border=\"1\" class=\"dataframe\">\n",
       "  <thead>\n",
       "    <tr style=\"text-align: right;\">\n",
       "      <th></th>\n",
       "      <th>RECORD_TIME</th>\n",
       "    </tr>\n",
       "  </thead>\n",
       "  <tbody>\n",
       "    <tr>\n",
       "      <th>0</th>\n",
       "      <td>2021-11-28 12:30</td>\n",
       "    </tr>\n",
       "    <tr>\n",
       "      <th>1</th>\n",
       "      <td>2021-11-28 12:00</td>\n",
       "    </tr>\n",
       "  </tbody>\n",
       "</table>\n",
       "</div>"
      ],
      "text/plain": [
       "        RECORD_TIME\n",
       "0  2021-11-28 12:30\n",
       "1  2021-11-28 12:00"
      ]
     },
     "execution_count": 3,
     "metadata": {},
     "output_type": "execute_result"
    }
   ],
   "source": [
    "timestamps"
   ]
  },
  {
   "cell_type": "code",
   "execution_count": 4,
   "id": "alternate-victory",
   "metadata": {
    "execution": {
     "iopub.execute_input": "2021-11-28T11:30:09.218485Z",
     "iopub.status.busy": "2021-11-28T11:30:09.216509Z",
     "iopub.status.idle": "2021-11-28T11:30:10.615596Z",
     "shell.execute_reply": "2021-11-28T11:30:10.617228Z"
    },
    "papermill": {
     "duration": 1.429968,
     "end_time": "2021-11-28T11:30:10.617760",
     "exception": false,
     "start_time": "2021-11-28T11:30:09.187792",
     "status": "completed"
    },
    "tags": []
   },
   "outputs": [],
   "source": [
    "df = pd.read_sql(\"select * from EBAY_TOP_BERLIN where record_time in (select distinct record_time from EBAY_TOP_BERLIN order by record_time desc limit 2)\", sqlite3.connect(\"UsedObjects.db\"))"
   ]
  },
  {
   "cell_type": "code",
   "execution_count": 5,
   "id": "popular-active",
   "metadata": {
    "execution": {
     "iopub.execute_input": "2021-11-28T11:30:10.693859Z",
     "iopub.status.busy": "2021-11-28T11:30:10.679964Z",
     "iopub.status.idle": "2021-11-28T11:30:10.711599Z",
     "shell.execute_reply": "2021-11-28T11:30:10.713009Z"
    },
    "papermill": {
     "duration": 0.073648,
     "end_time": "2021-11-28T11:30:10.713489",
     "exception": false,
     "start_time": "2021-11-28T11:30:10.639841",
     "status": "completed"
    },
    "tags": []
   },
   "outputs": [],
   "source": [
    "df_pivot = df.pivot_table(index=\"PRODUCT\", columns = \"RECORD_TIME\", values = \"LISTING_COUNT\")"
   ]
  },
  {
   "cell_type": "code",
   "execution_count": 6,
   "id": "union-huntington",
   "metadata": {
    "execution": {
     "iopub.execute_input": "2021-11-28T11:30:10.775724Z",
     "iopub.status.busy": "2021-11-28T11:30:10.773450Z",
     "iopub.status.idle": "2021-11-28T11:30:10.779622Z",
     "shell.execute_reply": "2021-11-28T11:30:10.781468Z"
    },
    "papermill": {
     "duration": 0.048283,
     "end_time": "2021-11-28T11:30:10.781962",
     "exception": false,
     "start_time": "2021-11-28T11:30:10.733679",
     "status": "completed"
    },
    "tags": []
   },
   "outputs": [],
   "source": [
    "df_pivot.columns = [\"stamp_1\", \"stamp_2\"]\n",
    "df_pivot_diff = df_pivot.diff(axis=1)"
   ]
  },
  {
   "cell_type": "code",
   "execution_count": 7,
   "id": "fifth-motion",
   "metadata": {
    "execution": {
     "iopub.execute_input": "2021-11-28T11:30:10.847726Z",
     "iopub.status.busy": "2021-11-28T11:30:10.845088Z",
     "iopub.status.idle": "2021-11-28T11:30:12.792927Z",
     "shell.execute_reply": "2021-11-28T11:30:12.795746Z"
    },
    "papermill": {
     "duration": 1.992955,
     "end_time": "2021-11-28T11:30:12.796519",
     "exception": false,
     "start_time": "2021-11-28T11:30:10.803564",
     "status": "completed"
    },
    "tags": []
   },
   "outputs": [
    {
     "data": {
      "text/plain": [
       "<AxesSubplot:ylabel='PRODUCT'>"
      ]
     },
     "execution_count": 7,
     "metadata": {},
     "output_type": "execute_result"
    },
    {
     "data": {
      "image/png": "[encoded data removed]",
      "text/plain": [
       "<Figure size 432x288 with 1 Axes>"
      ]
     },
     "metadata": {
      "needs_background": "light"
     },
     "output_type": "display_data"
    }
   ],
   "source": [
    "df_pivot_diff.sort_values(\"stamp_2\", ascending = False)[\"stamp_2\"].head(10).plot.barh()"
   ]
  },
  {
   "cell_type": "code",
   "execution_count": null,
   "id": "extra-executive",
   "metadata": {
    "papermill": {
     "duration": 0.028279,
     "end_time": "2021-11-28T11:30:12.853468",
     "exception": false,
     "start_time": "2021-11-28T11:30:12.825189",
     "status": "completed"
    },
    "tags": []
   },
   "outputs": [],
   "source": []
  }
 ],
 "metadata": {
  "kernelspec": {
   "display_name": "Python 3",
   "language": "python",
   "name": "python3"
  },
  "language_info": {
   "codemirror_mode": {
    "name": "ipython",
    "version": 3
   },
   "file_extension": ".py",
   "mimetype": "text/x-python",
   "name": "python",
   "nbconvert_exporter": "python",
   "pygments_lexer": "ipython3",
   "version": "3.9.5"
  },
  "papermill": {
   "default_parameters": {},
   "duration": 9.937844,
   "end_time": "2021-11-28T11:30:14.291519",
   "environment_variables": {},
   "exception": null,
   "input_path": "eBay_Overview.ipynb",
   "output_path": "eBay_Overview.ipynb",
   "parameters": {},
   "start_time": "2021-11-28T11:30:04.353675",
   "version": "2.3.3"
  }
 },
 "nbformat": 4,
 "nbformat_minor": 5
}