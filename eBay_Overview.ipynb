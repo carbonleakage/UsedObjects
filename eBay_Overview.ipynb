{
 "cells": [
  {
   "cell_type": "code",
   "execution_count": 1,
   "id": "reverse-picking",
   "metadata": {
    "execution": {
     "iopub.execute_input": "2021-09-23T12:00:07.488270Z",
     "iopub.status.busy": "2021-09-23T12:00:07.486231Z",
     "iopub.status.idle": "2021-09-23T12:00:08.292067Z",
     "shell.execute_reply": "2021-09-23T12:00:08.293333Z"
    },
    "papermill": {
     "duration": 0.856129,
     "end_time": "2021-09-23T12:00:08.293953",
     "exception": false,
     "start_time": "2021-09-23T12:00:07.437824",
     "status": "completed"
    },
    "tags": []
   },
   "outputs": [],
   "source": [
    "import pandas as pd\n",
    "import sqlite3"
   ]
  },
  {
   "cell_type": "code",
   "execution_count": 2,
   "id": "innovative-syndrome",
   "metadata": {
    "execution": {
     "iopub.execute_input": "2021-09-23T12:00:08.347550Z",
     "iopub.status.busy": "2021-09-23T12:00:08.345151Z",
     "iopub.status.idle": "2021-09-23T12:00:08.704406Z",
     "shell.execute_reply": "2021-09-23T12:00:08.705806Z"
    },
    "papermill": {
     "duration": 0.389641,
     "end_time": "2021-09-23T12:00:08.706243",
     "exception": false,
     "start_time": "2021-09-23T12:00:08.316602",
     "status": "completed"
    },
    "tags": []
   },
   "outputs": [],
   "source": [
    "timestamps = pd.read_sql(\"select distinct record_time from EBAY_TOP_BERLIN order by record_time desc limit 2\", sqlite3.connect(\"UsedObjects.db\"))"
   ]
  },
  {
   "cell_type": "code",
   "execution_count": 3,
   "id": "periodic-identification",
   "metadata": {
    "execution": {
     "iopub.execute_input": "2021-09-23T12:00:08.773727Z",
     "iopub.status.busy": "2021-09-23T12:00:08.771696Z",
     "iopub.status.idle": "2021-09-23T12:00:08.791412Z",
     "shell.execute_reply": "2021-09-23T12:00:08.792733Z"
    },
    "papermill": {
     "duration": 0.066931,
     "end_time": "2021-09-23T12:00:08.793146",
     "exception": false,
     "start_time": "2021-09-23T12:00:08.726215",
     "status": "completed"
    },
    "tags": []
   },
   "outputs": [
    {
     "data": {
      "text/html": [
       "<div>\n",
       "<style scoped>\n",
       "    .dataframe tbody tr th:only-of-type {\n",
       "        vertical-align: middle;\n",
       "    }\n",
       "\n",
       "    .dataframe tbody tr th {\n",
       "        vertical-align: top;\n",
       "    }\n",
       "\n",
       "    .dataframe thead th {\n",
       "        text-align: right;\n",
       "    }\n",
       "</style>\n",
       "<table border=\"1\" class=\"dataframe\">\n",
       "  <thead>\n",
       "    <tr style=\"text-align: right;\">\n",
       "      <th></th>\n",
       "      <th>RECORD_TIME</th>\n",
       "    </tr>\n",
       "  </thead>\n",
       "  <tbody>\n",
       "    <tr>\n",
       "      <th>0</th>\n",
       "      <td>2021-09-23 14:00</td>\n",
       "    </tr>\n",
       "    <tr>\n",
       "      <th>1</th>\n",
       "      <td>2021-09-23 13:30</td>\n",
       "    </tr>\n",
       "  </tbody>\n",
       "</table>\n",
       "</div>"
      ],
      "text/plain": [
       "        RECORD_TIME\n",
       "0  2021-09-23 14:00\n",
       "1  2021-09-23 13:30"
      ]
     },
     "execution_count": 3,
     "metadata": {},
     "output_type": "execute_result"
    }
   ],
   "source": [
    "timestamps"
   ]
  },
  {
   "cell_type": "code",
   "execution_count": 4,
   "id": "alternate-victory",
   "metadata": {
    "execution": {
     "iopub.execute_input": "2021-09-23T12:00:08.845625Z",
     "iopub.status.busy": "2021-09-23T12:00:08.843324Z",
     "iopub.status.idle": "2021-09-23T12:00:09.374112Z",
     "shell.execute_reply": "2021-09-23T12:00:09.375410Z"
    },
    "papermill": {
     "duration": 0.56124,
     "end_time": "2021-09-23T12:00:09.375814",
     "exception": false,
     "start_time": "2021-09-23T12:00:08.814574",
     "status": "completed"
    },
    "tags": []
   },
   "outputs": [],
   "source": [
    "df = pd.read_sql(\"select * from EBAY_TOP_BERLIN where record_time in (select distinct record_time from EBAY_TOP_BERLIN order by record_time desc limit 2)\", sqlite3.connect(\"UsedObjects.db\"))"
   ]
  },
  {
   "cell_type": "code",
   "execution_count": 5,
   "id": "popular-active",
   "metadata": {
    "execution": {
     "iopub.execute_input": "2021-09-23T12:00:09.450891Z",
     "iopub.status.busy": "2021-09-23T12:00:09.444520Z",
     "iopub.status.idle": "2021-09-23T12:00:09.472436Z",
     "shell.execute_reply": "2021-09-23T12:00:09.473732Z"
    },
    "papermill": {
     "duration": 0.072151,
     "end_time": "2021-09-23T12:00:09.474147",
     "exception": false,
     "start_time": "2021-09-23T12:00:09.401996",
     "status": "completed"
    },
    "tags": []
   },
   "outputs": [],
   "source": [
    "df_pivot = df.pivot_table(index=\"PRODUCT\", columns = \"RECORD_TIME\", values = \"LISTING_COUNT\")"
   ]
  },
  {
   "cell_type": "code",
   "execution_count": 6,
   "id": "union-huntington",
   "metadata": {
    "execution": {
     "iopub.execute_input": "2021-09-23T12:00:09.530694Z",
     "iopub.status.busy": "2021-09-23T12:00:09.528400Z",
     "iopub.status.idle": "2021-09-23T12:00:09.534214Z",
     "shell.execute_reply": "2021-09-23T12:00:09.535563Z"
    },
    "papermill": {
     "duration": 0.042142,
     "end_time": "2021-09-23T12:00:09.536020",
     "exception": false,
     "start_time": "2021-09-23T12:00:09.493878",
     "status": "completed"
    },
    "tags": []
   },
   "outputs": [],
   "source": [
    "df_pivot.columns = [\"stamp_1\", \"stamp_2\"]\n",
    "df_pivot_diff = df_pivot.diff(axis=1)"
   ]
  },
  {
   "cell_type": "code",
   "execution_count": 7,
   "id": "fifth-motion",
   "metadata": {
    "execution": {
     "iopub.execute_input": "2021-09-23T12:00:09.590933Z",
     "iopub.status.busy": "2021-09-23T12:00:09.588543Z",
     "iopub.status.idle": "2021-09-23T12:00:11.062959Z",
     "shell.execute_reply": "2021-09-23T12:00:11.064358Z"
    },
    "papermill": {
     "duration": 1.507239,
     "end_time": "2021-09-23T12:00:11.064799",
     "exception": false,
     "start_time": "2021-09-23T12:00:09.557560",
     "status": "completed"
    },
    "tags": []
   },
   "outputs": [
    {
     "data": {
      "text/plain": [
       "<AxesSubplot:ylabel='PRODUCT'>"
      ]
     },
     "execution_count": 7,
     "metadata": {},
     "output_type": "execute_result"
    },
    {
     "data": {
      "image/png": "[encoded data removed]",
      "text/plain": [
       "<Figure size 432x288 with 1 Axes>"
      ]
     },
     "metadata": {
      "needs_background": "light"
     },
     "output_type": "display_data"
    }
   ],
   "source": [
    "df_pivot_diff.sort_values(\"stamp_2\", ascending = False)[\"stamp_2\"].head(10).plot.barh()"
   ]
  },
  {
   "cell_type": "code",
   "execution_count": null,
   "id": "extra-executive",
   "metadata": {
    "papermill": {
     "duration": 0.022402,
     "end_time": "2021-09-23T12:00:11.111999",
     "exception": false,
     "start_time": "2021-09-23T12:00:11.089597",
     "status": "completed"
    },
    "tags": []
   },
   "outputs": [],
   "source": []
  }
 ],
 "metadata": {
  "kernelspec": {
   "display_name": "Python 3",
   "language": "python",
   "name": "python3"
  },
  "language_info": {
   "codemirror_mode": {
    "name": "ipython",
    "version": 3
   },
   "file_extension": ".py",
   "mimetype": "text/x-python",
   "name": "python",
   "nbconvert_exporter": "python",
   "pygments_lexer": "ipython3",
   "version": "3.9.5"
  },
  "papermill": {
   "default_parameters": {},
   "duration": 6.7191,
   "end_time": "2021-09-23T12:00:11.756150",
   "environment_variables": {},
   "exception": null,
   "input_path": "eBay_Overview.ipynb",
   "output_path": "eBay_Overview.ipynb",
   "parameters": {},
   "start_time": "2021-09-23T12:00:05.037050",
   "version": "2.3.3"
  }
 },
 "nbformat": 4,
 "nbformat_minor": 5
}