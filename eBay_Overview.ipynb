{
 "cells": [
  {
   "cell_type": "code",
   "execution_count": 1,
   "id": "reverse-picking",
   "metadata": {
    "execution": {
     "iopub.execute_input": "2021-11-30T06:00:07.732959Z",
     "iopub.status.busy": "2021-11-30T06:00:07.730448Z",
     "iopub.status.idle": "2021-11-30T06:00:08.685411Z",
     "shell.execute_reply": "2021-11-30T06:00:08.687018Z"
    },
    "papermill": {
     "duration": 1.005161,
     "end_time": "2021-11-30T06:00:08.687746",
     "exception": false,
     "start_time": "2021-11-30T06:00:07.682585",
     "status": "completed"
    },
    "tags": []
   },
   "outputs": [],
   "source": [
    "import pandas as pd\n",
    "import sqlite3"
   ]
  },
  {
   "cell_type": "code",
   "execution_count": 2,
   "id": "innovative-syndrome",
   "metadata": {
    "execution": {
     "iopub.execute_input": "2021-11-30T06:00:08.804454Z",
     "iopub.status.busy": "2021-11-30T06:00:08.802105Z",
     "iopub.status.idle": "2021-11-30T06:00:09.760331Z",
     "shell.execute_reply": "2021-11-30T06:00:09.762016Z"
    },
    "papermill": {
     "duration": 0.993915,
     "end_time": "2021-11-30T06:00:09.762514",
     "exception": false,
     "start_time": "2021-11-30T06:00:08.768599",
     "status": "completed"
    },
    "tags": []
   },
   "outputs": [],
   "source": [
    "timestamps = pd.read_sql(\"select distinct record_time from EBAY_TOP_BERLIN order by record_time desc limit 2\", sqlite3.connect(\"UsedObjects.db\"))"
   ]
  },
  {
   "cell_type": "code",
   "execution_count": 3,
   "id": "periodic-identification",
   "metadata": {
    "execution": {
     "iopub.execute_input": "2021-11-30T06:00:09.835736Z",
     "iopub.status.busy": "2021-11-30T06:00:09.833590Z",
     "iopub.status.idle": "2021-11-30T06:00:09.855718Z",
     "shell.execute_reply": "2021-11-30T06:00:09.854356Z"
    },
    "papermill": {
     "duration": 0.066308,
     "end_time": "2021-11-30T06:00:09.856065",
     "exception": false,
     "start_time": "2021-11-30T06:00:09.789757",
     "status": "completed"
    },
    "tags": []
   },
   "outputs": [
    {
     "data": {
      "text/html": [
       "<div>\n",
       "<style scoped>\n",
       "    .dataframe tbody tr th:only-of-type {\n",
       "        vertical-align: middle;\n",
       "    }\n",
       "\n",
       "    .dataframe tbody tr th {\n",
       "        vertical-align: top;\n",
       "    }\n",
       "\n",
       "    .dataframe thead th {\n",
       "        text-align: right;\n",
       "    }\n",
       "</style>\n",
       "<table border=\"1\" class=\"dataframe\">\n",
       "  <thead>\n",
       "    <tr style=\"text-align: right;\">\n",
       "      <th></th>\n",
       "      <th>RECORD_TIME</th>\n",
       "    </tr>\n",
       "  </thead>\n",
       "  <tbody>\n",
       "    <tr>\n",
       "      <th>0</th>\n",
       "      <td>2021-11-30 07:00</td>\n",
       "    </tr>\n",
       "    <tr>\n",
       "      <th>1</th>\n",
       "      <td>2021-11-30 06:30</td>\n",
       "    </tr>\n",
       "  </tbody>\n",
       "</table>\n",
       "</div>"
      ],
      "text/plain": [
       "        RECORD_TIME\n",
       "0  2021-11-30 07:00\n",
       "1  2021-11-30 06:30"
      ]
     },
     "execution_count": 3,
     "metadata": {},
     "output_type": "execute_result"
    }
   ],
   "source": [
    "timestamps"
   ]
  },
  {
   "cell_type": "code",
   "execution_count": 4,
   "id": "alternate-victory",
   "metadata": {
    "execution": {
     "iopub.execute_input": "2021-11-30T06:00:09.909454Z",
     "iopub.status.busy": "2021-11-30T06:00:09.907049Z",
     "iopub.status.idle": "2021-11-30T06:00:11.298757Z",
     "shell.execute_reply": "2021-11-30T06:00:11.301221Z"
    },
    "papermill": {
     "duration": 1.42369,
     "end_time": "2021-11-30T06:00:11.301730",
     "exception": false,
     "start_time": "2021-11-30T06:00:09.878040",
     "status": "completed"
    },
    "tags": []
   },
   "outputs": [],
   "source": [
    "df = pd.read_sql(\"select * from EBAY_TOP_BERLIN where record_time in (select distinct record_time from EBAY_TOP_BERLIN order by record_time desc limit 2)\", sqlite3.connect(\"UsedObjects.db\"))"
   ]
  },
  {
   "cell_type": "code",
   "execution_count": 5,
   "id": "popular-active",
   "metadata": {
    "execution": {
     "iopub.execute_input": "2021-11-30T06:00:11.381780Z",
     "iopub.status.busy": "2021-11-30T06:00:11.367822Z",
     "iopub.status.idle": "2021-11-30T06:00:11.409196Z",
     "shell.execute_reply": "2021-11-30T06:00:11.410778Z"
    },
    "papermill": {
     "duration": 0.085732,
     "end_time": "2021-11-30T06:00:11.411305",
     "exception": false,
     "start_time": "2021-11-30T06:00:11.325573",
     "status": "completed"
    },
    "tags": []
   },
   "outputs": [],
   "source": [
    "df_pivot = df.pivot_table(index=\"PRODUCT\", columns = \"RECORD_TIME\", values = \"LISTING_COUNT\")"
   ]
  },
  {
   "cell_type": "code",
   "execution_count": 6,
   "id": "union-huntington",
   "metadata": {
    "execution": {
     "iopub.execute_input": "2021-11-30T06:00:11.474123Z",
     "iopub.status.busy": "2021-11-30T06:00:11.471833Z",
     "iopub.status.idle": "2021-11-30T06:00:11.479193Z",
     "shell.execute_reply": "2021-11-30T06:00:11.477620Z"
    },
    "papermill": {
     "duration": 0.044822,
     "end_time": "2021-11-30T06:00:11.479596",
     "exception": false,
     "start_time": "2021-11-30T06:00:11.434774",
     "status": "completed"
    },
    "tags": []
   },
   "outputs": [],
   "source": [
    "df_pivot.columns = [\"stamp_1\", \"stamp_2\"]\n",
    "df_pivot_diff = df_pivot.diff(axis=1)"
   ]
  },
  {
   "cell_type": "code",
   "execution_count": 7,
   "id": "fifth-motion",
   "metadata": {
    "execution": {
     "iopub.execute_input": "2021-11-30T06:00:11.536274Z",
     "iopub.status.busy": "2021-11-30T06:00:11.533792Z",
     "iopub.status.idle": "2021-11-30T06:00:13.558992Z",
     "shell.execute_reply": "2021-11-30T06:00:13.560938Z"
    },
    "papermill": {
     "duration": 2.061764,
     "end_time": "2021-11-30T06:00:13.561596",
     "exception": false,
     "start_time": "2021-11-30T06:00:11.499832",
     "status": "completed"
    },
    "tags": []
   },
   "outputs": [
    {
     "data": {
      "text/plain": [
       "<AxesSubplot:ylabel='PRODUCT'>"
      ]
     },
     "execution_count": 7,
     "metadata": {},
     "output_type": "execute_result"
    },
    {
     "data": {
      "image/png": "[encoded data removed]",
      "text/plain": [
       "<Figure size 432x288 with 1 Axes>"
      ]
     },
     "metadata": {
      "needs_background": "light"
     },
     "output_type": "display_data"
    }
   ],
   "source": [
    "df_pivot_diff.sort_values(\"stamp_2\", ascending = False)[\"stamp_2\"].head(10).plot.barh()"
   ]
  },
  {
   "cell_type": "code",
   "execution_count": null,
   "id": "extra-executive",
   "metadata": {
    "papermill": {
     "duration": 0.061687,
     "end_time": "2021-11-30T06:00:13.652890",
     "exception": false,
     "start_time": "2021-11-30T06:00:13.591203",
     "status": "completed"
    },
    "tags": []
   },
   "outputs": [],
   "source": []
  }
 ],
 "metadata": {
  "kernelspec": {
   "display_name": "Python 3",
   "language": "python",
   "name": "python3"
  },
  "language_info": {
   "codemirror_mode": {
    "name": "ipython",
    "version": 3
   },
   "file_extension": ".py",
   "mimetype": "text/x-python",
   "name": "python",
   "nbconvert_exporter": "python",
   "pygments_lexer": "ipython3",
   "version": "3.9.5"
  },
  "papermill": {
   "default_parameters": {},
   "duration": 9.959181,
   "end_time": "2021-11-30T06:00:14.901544",
   "environment_variables": {},
   "exception": null,
   "input_path": "eBay_Overview.ipynb",
   "output_path": "eBay_Overview.ipynb",
   "parameters": {},
   "start_time": "2021-11-30T06:00:04.942363",
   "version": "2.3.3"
  }
 },
 "nbformat": 4,
 "nbformat_minor": 5
}