{
 "cells": [
  {
   "cell_type": "code",
   "execution_count": 1,
   "id": "reverse-picking",
   "metadata": {
    "execution": {
     "iopub.execute_input": "2021-08-25T10:00:08.325983Z",
     "iopub.status.busy": "2021-08-25T10:00:08.324023Z",
     "iopub.status.idle": "2021-08-25T10:00:10.349584Z",
     "shell.execute_reply": "2021-08-25T10:00:10.351116Z"
    },
    "papermill": {
     "duration": 2.078339,
     "end_time": "2021-08-25T10:00:10.351856",
     "exception": false,
     "start_time": "2021-08-25T10:00:08.273517",
     "status": "completed"
    },
    "tags": []
   },
   "outputs": [],
   "source": [
    "import pandas as pd\n",
    "import sqlite3"
   ]
  },
  {
   "cell_type": "code",
   "execution_count": 2,
   "id": "innovative-syndrome",
   "metadata": {
    "execution": {
     "iopub.execute_input": "2021-08-25T10:00:10.402471Z",
     "iopub.status.busy": "2021-08-25T10:00:10.400561Z",
     "iopub.status.idle": "2021-08-25T10:00:10.576507Z",
     "shell.execute_reply": "2021-08-25T10:00:10.578419Z"
    },
    "papermill": {
     "duration": 0.206135,
     "end_time": "2021-08-25T10:00:10.579000",
     "exception": false,
     "start_time": "2021-08-25T10:00:10.372865",
     "status": "completed"
    },
    "tags": []
   },
   "outputs": [],
   "source": [
    "timestamps = pd.read_sql(\"select distinct record_time from EBAY_TOP_BERLIN order by record_time desc limit 2\", sqlite3.connect(\"UsedObjects.db\"))"
   ]
  },
  {
   "cell_type": "code",
   "execution_count": 3,
   "id": "periodic-identification",
   "metadata": {
    "execution": {
     "iopub.execute_input": "2021-08-25T10:00:10.646484Z",
     "iopub.status.busy": "2021-08-25T10:00:10.644410Z",
     "iopub.status.idle": "2021-08-25T10:00:10.666547Z",
     "shell.execute_reply": "2021-08-25T10:00:10.667843Z"
    },
    "papermill": {
     "duration": 0.066946,
     "end_time": "2021-08-25T10:00:10.668444",
     "exception": false,
     "start_time": "2021-08-25T10:00:10.601498",
     "status": "completed"
    },
    "tags": []
   },
   "outputs": [
    {
     "data": {
      "text/html": [
       "<div>\n",
       "<style scoped>\n",
       "    .dataframe tbody tr th:only-of-type {\n",
       "        vertical-align: middle;\n",
       "    }\n",
       "\n",
       "    .dataframe tbody tr th {\n",
       "        vertical-align: top;\n",
       "    }\n",
       "\n",
       "    .dataframe thead th {\n",
       "        text-align: right;\n",
       "    }\n",
       "</style>\n",
       "<table border=\"1\" class=\"dataframe\">\n",
       "  <thead>\n",
       "    <tr style=\"text-align: right;\">\n",
       "      <th></th>\n",
       "      <th>RECORD_TIME</th>\n",
       "    </tr>\n",
       "  </thead>\n",
       "  <tbody>\n",
       "    <tr>\n",
       "      <th>0</th>\n",
       "      <td>2021-08-25 12:00</td>\n",
       "    </tr>\n",
       "    <tr>\n",
       "      <th>1</th>\n",
       "      <td>2021-08-25 11:30</td>\n",
       "    </tr>\n",
       "  </tbody>\n",
       "</table>\n",
       "</div>"
      ],
      "text/plain": [
       "        RECORD_TIME\n",
       "0  2021-08-25 12:00\n",
       "1  2021-08-25 11:30"
      ]
     },
     "execution_count": 3,
     "metadata": {},
     "output_type": "execute_result"
    }
   ],
   "source": [
    "timestamps"
   ]
  },
  {
   "cell_type": "code",
   "execution_count": 4,
   "id": "alternate-victory",
   "metadata": {
    "execution": {
     "iopub.execute_input": "2021-08-25T10:00:10.720633Z",
     "iopub.status.busy": "2021-08-25T10:00:10.718275Z",
     "iopub.status.idle": "2021-08-25T10:00:10.917401Z",
     "shell.execute_reply": "2021-08-25T10:00:10.915995Z"
    },
    "papermill": {
     "duration": 0.2279,
     "end_time": "2021-08-25T10:00:10.917745",
     "exception": false,
     "start_time": "2021-08-25T10:00:10.689845",
     "status": "completed"
    },
    "tags": []
   },
   "outputs": [],
   "source": [
    "df = pd.read_sql(\"select * from EBAY_TOP_BERLIN where record_time in (select distinct record_time from EBAY_TOP_BERLIN order by record_time desc limit 2)\", sqlite3.connect(\"UsedObjects.db\"))"
   ]
  },
  {
   "cell_type": "code",
   "execution_count": 5,
   "id": "popular-active",
   "metadata": {
    "execution": {
     "iopub.execute_input": "2021-08-25T10:00:11.014569Z",
     "iopub.status.busy": "2021-08-25T10:00:10.990211Z",
     "iopub.status.idle": "2021-08-25T10:00:11.055650Z",
     "shell.execute_reply": "2021-08-25T10:00:11.057377Z"
    },
    "papermill": {
     "duration": 0.118648,
     "end_time": "2021-08-25T10:00:11.057858",
     "exception": false,
     "start_time": "2021-08-25T10:00:10.939210",
     "status": "completed"
    },
    "tags": []
   },
   "outputs": [],
   "source": [
    "df_pivot = df.pivot_table(index=\"PRODUCT\", columns = \"RECORD_TIME\", values = \"LISTING_COUNT\")"
   ]
  },
  {
   "cell_type": "code",
   "execution_count": 6,
   "id": "union-huntington",
   "metadata": {
    "execution": {
     "iopub.execute_input": "2021-08-25T10:00:11.115151Z",
     "iopub.status.busy": "2021-08-25T10:00:11.112699Z",
     "iopub.status.idle": "2021-08-25T10:00:11.118776Z",
     "shell.execute_reply": "2021-08-25T10:00:11.120139Z"
    },
    "papermill": {
     "duration": 0.042192,
     "end_time": "2021-08-25T10:00:11.120680",
     "exception": false,
     "start_time": "2021-08-25T10:00:11.078488",
     "status": "completed"
    },
    "tags": []
   },
   "outputs": [],
   "source": [
    "df_pivot.columns = [\"stamp_1\", \"stamp_2\"]\n",
    "df_pivot_diff = df_pivot.diff(axis=1)"
   ]
  },
  {
   "cell_type": "code",
   "execution_count": 7,
   "id": "fifth-motion",
   "metadata": {
    "execution": {
     "iopub.execute_input": "2021-08-25T10:00:11.175422Z",
     "iopub.status.busy": "2021-08-25T10:00:11.173670Z",
     "iopub.status.idle": "2021-08-25T10:00:13.150893Z",
     "shell.execute_reply": "2021-08-25T10:00:13.152188Z"
    },
    "papermill": {
     "duration": 2.010807,
     "end_time": "2021-08-25T10:00:13.152830",
     "exception": false,
     "start_time": "2021-08-25T10:00:11.142023",
     "status": "completed"
    },
    "tags": []
   },
   "outputs": [
    {
     "data": {
      "text/plain": [
       "<AxesSubplot:ylabel='PRODUCT'>"
      ]
     },
     "execution_count": 7,
     "metadata": {},
     "output_type": "execute_result"
    },
    {
     "data": {
      "image/png": "[encoded data removed]",
      "text/plain": [
       "<Figure size 432x288 with 1 Axes>"
      ]
     },
     "metadata": {
      "needs_background": "light"
     },
     "output_type": "display_data"
    }
   ],
   "source": [
    "df_pivot_diff.sort_values(\"stamp_2\", ascending = False)[\"stamp_2\"].head(10).plot.barh()"
   ]
  },
  {
   "cell_type": "code",
   "execution_count": null,
   "id": "extra-executive",
   "metadata": {
    "papermill": {
     "duration": 0.02192,
     "end_time": "2021-08-25T10:00:13.199706",
     "exception": false,
     "start_time": "2021-08-25T10:00:13.177786",
     "status": "completed"
    },
    "tags": []
   },
   "outputs": [],
   "source": []
  }
 ],
 "metadata": {
  "kernelspec": {
   "display_name": "Python 3",
   "language": "python",
   "name": "python3"
  },
  "language_info": {
   "codemirror_mode": {
    "name": "ipython",
    "version": 3
   },
   "file_extension": ".py",
   "mimetype": "text/x-python",
   "name": "python",
   "nbconvert_exporter": "python",
   "pygments_lexer": "ipython3",
   "version": "3.9.5"
  },
  "papermill": {
   "default_parameters": {},
   "duration": 9.282059,
   "end_time": "2021-08-25T10:00:14.637853",
   "environment_variables": {},
   "exception": null,
   "input_path": "eBay_Overview.ipynb",
   "output_path": "eBay_Overview.ipynb",
   "parameters": {},
   "start_time": "2021-08-25T10:00:05.355794",
   "version": "2.3.3"
  }
 },
 "nbformat": 4,
 "nbformat_minor": 5
}