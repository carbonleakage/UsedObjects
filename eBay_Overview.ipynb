{
 "cells": [
  {
   "cell_type": "code",
   "execution_count": 1,
   "id": "reverse-picking",
   "metadata": {
    "execution": {
     "iopub.execute_input": "2021-11-28T02:30:07.454020Z",
     "iopub.status.busy": "2021-11-28T02:30:07.451481Z",
     "iopub.status.idle": "2021-11-28T02:30:08.395351Z",
     "shell.execute_reply": "2021-11-28T02:30:08.396971Z"
    },
    "papermill": {
     "duration": 0.994738,
     "end_time": "2021-11-28T02:30:08.397726",
     "exception": false,
     "start_time": "2021-11-28T02:30:07.402988",
     "status": "completed"
    },
    "tags": []
   },
   "outputs": [],
   "source": [
    "import pandas as pd\n",
    "import sqlite3"
   ]
  },
  {
   "cell_type": "code",
   "execution_count": 2,
   "id": "innovative-syndrome",
   "metadata": {
    "execution": {
     "iopub.execute_input": "2021-11-28T02:30:08.460716Z",
     "iopub.status.busy": "2021-11-28T02:30:08.458384Z",
     "iopub.status.idle": "2021-11-28T02:30:09.392847Z",
     "shell.execute_reply": "2021-11-28T02:30:09.394257Z"
    },
    "papermill": {
     "duration": 0.969543,
     "end_time": "2021-11-28T02:30:09.394734",
     "exception": false,
     "start_time": "2021-11-28T02:30:08.425191",
     "status": "completed"
    },
    "tags": []
   },
   "outputs": [],
   "source": [
    "timestamps = pd.read_sql(\"select distinct record_time from EBAY_TOP_BERLIN order by record_time desc limit 2\", sqlite3.connect(\"UsedObjects.db\"))"
   ]
  },
  {
   "cell_type": "code",
   "execution_count": 3,
   "id": "periodic-identification",
   "metadata": {
    "execution": {
     "iopub.execute_input": "2021-11-28T02:30:09.465913Z",
     "iopub.status.busy": "2021-11-28T02:30:09.463567Z",
     "iopub.status.idle": "2021-11-28T02:30:09.486942Z",
     "shell.execute_reply": "2021-11-28T02:30:09.488445Z"
    },
    "papermill": {
     "duration": 0.073283,
     "end_time": "2021-11-28T02:30:09.489035",
     "exception": false,
     "start_time": "2021-11-28T02:30:09.415752",
     "status": "completed"
    },
    "tags": []
   },
   "outputs": [
    {
     "data": {
      "text/html": [
       "<div>\n",
       "<style scoped>\n",
       "    .dataframe tbody tr th:only-of-type {\n",
       "        vertical-align: middle;\n",
       "    }\n",
       "\n",
       "    .dataframe tbody tr th {\n",
       "        vertical-align: top;\n",
       "    }\n",
       "\n",
       "    .dataframe thead th {\n",
       "        text-align: right;\n",
       "    }\n",
       "</style>\n",
       "<table border=\"1\" class=\"dataframe\">\n",
       "  <thead>\n",
       "    <tr style=\"text-align: right;\">\n",
       "      <th></th>\n",
       "      <th>RECORD_TIME</th>\n",
       "    </tr>\n",
       "  </thead>\n",
       "  <tbody>\n",
       "    <tr>\n",
       "      <th>0</th>\n",
       "      <td>2021-11-28 03:30</td>\n",
       "    </tr>\n",
       "    <tr>\n",
       "      <th>1</th>\n",
       "      <td>2021-11-28 03:00</td>\n",
       "    </tr>\n",
       "  </tbody>\n",
       "</table>\n",
       "</div>"
      ],
      "text/plain": [
       "        RECORD_TIME\n",
       "0  2021-11-28 03:30\n",
       "1  2021-11-28 03:00"
      ]
     },
     "execution_count": 3,
     "metadata": {},
     "output_type": "execute_result"
    }
   ],
   "source": [
    "timestamps"
   ]
  },
  {
   "cell_type": "code",
   "execution_count": 4,
   "id": "alternate-victory",
   "metadata": {
    "execution": {
     "iopub.execute_input": "2021-11-28T02:30:09.547677Z",
     "iopub.status.busy": "2021-11-28T02:30:09.545560Z",
     "iopub.status.idle": "2021-11-28T02:30:10.897901Z",
     "shell.execute_reply": "2021-11-28T02:30:10.900123Z"
    },
    "papermill": {
     "duration": 1.389123,
     "end_time": "2021-11-28T02:30:10.900605",
     "exception": false,
     "start_time": "2021-11-28T02:30:09.511482",
     "status": "completed"
    },
    "tags": []
   },
   "outputs": [],
   "source": [
    "df = pd.read_sql(\"select * from EBAY_TOP_BERLIN where record_time in (select distinct record_time from EBAY_TOP_BERLIN order by record_time desc limit 2)\", sqlite3.connect(\"UsedObjects.db\"))"
   ]
  },
  {
   "cell_type": "code",
   "execution_count": 5,
   "id": "popular-active",
   "metadata": {
    "execution": {
     "iopub.execute_input": "2021-11-28T02:30:10.970559Z",
     "iopub.status.busy": "2021-11-28T02:30:10.962569Z",
     "iopub.status.idle": "2021-11-28T02:30:10.996476Z",
     "shell.execute_reply": "2021-11-28T02:30:10.998848Z"
    },
    "papermill": {
     "duration": 0.077897,
     "end_time": "2021-11-28T02:30:10.999356",
     "exception": false,
     "start_time": "2021-11-28T02:30:10.921459",
     "status": "completed"
    },
    "tags": []
   },
   "outputs": [],
   "source": [
    "df_pivot = df.pivot_table(index=\"PRODUCT\", columns = \"RECORD_TIME\", values = \"LISTING_COUNT\")"
   ]
  },
  {
   "cell_type": "code",
   "execution_count": 6,
   "id": "union-huntington",
   "metadata": {
    "execution": {
     "iopub.execute_input": "2021-11-28T02:30:11.060427Z",
     "iopub.status.busy": "2021-11-28T02:30:11.057874Z",
     "iopub.status.idle": "2021-11-28T02:30:11.065833Z",
     "shell.execute_reply": "2021-11-28T02:30:11.063956Z"
    },
    "papermill": {
     "duration": 0.04579,
     "end_time": "2021-11-28T02:30:11.066322",
     "exception": false,
     "start_time": "2021-11-28T02:30:11.020532",
     "status": "completed"
    },
    "tags": []
   },
   "outputs": [],
   "source": [
    "df_pivot.columns = [\"stamp_1\", \"stamp_2\"]\n",
    "df_pivot_diff = df_pivot.diff(axis=1)"
   ]
  },
  {
   "cell_type": "code",
   "execution_count": 7,
   "id": "fifth-motion",
   "metadata": {
    "execution": {
     "iopub.execute_input": "2021-11-28T02:30:11.125362Z",
     "iopub.status.busy": "2021-11-28T02:30:11.122791Z",
     "iopub.status.idle": "2021-11-28T02:30:13.010453Z",
     "shell.execute_reply": "2021-11-28T02:30:13.011805Z"
    },
    "papermill": {
     "duration": 1.924359,
     "end_time": "2021-11-28T02:30:13.012285",
     "exception": false,
     "start_time": "2021-11-28T02:30:11.087926",
     "status": "completed"
    },
    "tags": []
   },
   "outputs": [
    {
     "data": {
      "text/plain": [
       "<AxesSubplot:ylabel='PRODUCT'>"
      ]
     },
     "execution_count": 7,
     "metadata": {},
     "output_type": "execute_result"
    },
    {
     "data": {
      "image/png": "[encoded data removed]",
      "text/plain": [
       "<Figure size 432x288 with 1 Axes>"
      ]
     },
     "metadata": {
      "needs_background": "light"
     },
     "output_type": "display_data"
    }
   ],
   "source": [
    "df_pivot_diff.sort_values(\"stamp_2\", ascending = False)[\"stamp_2\"].head(10).plot.barh()"
   ]
  },
  {
   "cell_type": "code",
   "execution_count": null,
   "id": "extra-executive",
   "metadata": {
    "papermill": {
     "duration": 0.023533,
     "end_time": "2021-11-28T02:30:13.059233",
     "exception": false,
     "start_time": "2021-11-28T02:30:13.035700",
     "status": "completed"
    },
    "tags": []
   },
   "outputs": [],
   "source": []
  }
 ],
 "metadata": {
  "kernelspec": {
   "display_name": "Python 3",
   "language": "python",
   "name": "python3"
  },
  "language_info": {
   "codemirror_mode": {
    "name": "ipython",
    "version": 3
   },
   "file_extension": ".py",
   "mimetype": "text/x-python",
   "name": "python",
   "nbconvert_exporter": "python",
   "pygments_lexer": "ipython3",
   "version": "3.9.5"
  },
  "papermill": {
   "default_parameters": {},
   "duration": 9.930266,
   "end_time": "2021-11-28T02:30:14.601154",
   "environment_variables": {},
   "exception": null,
   "input_path": "eBay_Overview.ipynb",
   "output_path": "eBay_Overview.ipynb",
   "parameters": {},
   "start_time": "2021-11-28T02:30:04.670888",
   "version": "2.3.3"
  }
 },
 "nbformat": 4,
 "nbformat_minor": 5
}