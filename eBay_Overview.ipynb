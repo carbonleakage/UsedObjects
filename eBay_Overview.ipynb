{
 "cells": [
  {
   "cell_type": "code",
   "execution_count": 1,
   "id": "reverse-picking",
   "metadata": {
    "execution": {
     "iopub.execute_input": "2021-09-27T09:00:06.817383Z",
     "iopub.status.busy": "2021-09-27T09:00:06.814936Z",
     "iopub.status.idle": "2021-09-27T09:00:07.624804Z",
     "shell.execute_reply": "2021-09-27T09:00:07.626057Z"
    },
    "papermill": {
     "duration": 0.862526,
     "end_time": "2021-09-27T09:00:07.626670",
     "exception": false,
     "start_time": "2021-09-27T09:00:06.764144",
     "status": "completed"
    },
    "tags": []
   },
   "outputs": [],
   "source": [
    "import pandas as pd\n",
    "import sqlite3"
   ]
  },
  {
   "cell_type": "code",
   "execution_count": 2,
   "id": "innovative-syndrome",
   "metadata": {
    "execution": {
     "iopub.execute_input": "2021-09-27T09:00:07.679902Z",
     "iopub.status.busy": "2021-09-27T09:00:07.677468Z",
     "iopub.status.idle": "2021-09-27T09:00:08.068150Z",
     "shell.execute_reply": "2021-09-27T09:00:08.069349Z"
    },
    "papermill": {
     "duration": 0.420545,
     "end_time": "2021-09-27T09:00:08.069735",
     "exception": false,
     "start_time": "2021-09-27T09:00:07.649190",
     "status": "completed"
    },
    "tags": []
   },
   "outputs": [],
   "source": [
    "timestamps = pd.read_sql(\"select distinct record_time from EBAY_TOP_BERLIN order by record_time desc limit 2\", sqlite3.connect(\"UsedObjects.db\"))"
   ]
  },
  {
   "cell_type": "code",
   "execution_count": 3,
   "id": "periodic-identification",
   "metadata": {
    "execution": {
     "iopub.execute_input": "2021-09-27T09:00:08.141673Z",
     "iopub.status.busy": "2021-09-27T09:00:08.136490Z",
     "iopub.status.idle": "2021-09-27T09:00:08.156723Z",
     "shell.execute_reply": "2021-09-27T09:00:08.157921Z"
    },
    "papermill": {
     "duration": 0.065969,
     "end_time": "2021-09-27T09:00:08.158350",
     "exception": false,
     "start_time": "2021-09-27T09:00:08.092381",
     "status": "completed"
    },
    "tags": []
   },
   "outputs": [
    {
     "data": {
      "text/html": [
       "<div>\n",
       "<style scoped>\n",
       "    .dataframe tbody tr th:only-of-type {\n",
       "        vertical-align: middle;\n",
       "    }\n",
       "\n",
       "    .dataframe tbody tr th {\n",
       "        vertical-align: top;\n",
       "    }\n",
       "\n",
       "    .dataframe thead th {\n",
       "        text-align: right;\n",
       "    }\n",
       "</style>\n",
       "<table border=\"1\" class=\"dataframe\">\n",
       "  <thead>\n",
       "    <tr style=\"text-align: right;\">\n",
       "      <th></th>\n",
       "      <th>RECORD_TIME</th>\n",
       "    </tr>\n",
       "  </thead>\n",
       "  <tbody>\n",
       "    <tr>\n",
       "      <th>0</th>\n",
       "      <td>2021-09-27 11:00</td>\n",
       "    </tr>\n",
       "    <tr>\n",
       "      <th>1</th>\n",
       "      <td>2021-09-27 10:30</td>\n",
       "    </tr>\n",
       "  </tbody>\n",
       "</table>\n",
       "</div>"
      ],
      "text/plain": [
       "        RECORD_TIME\n",
       "0  2021-09-27 11:00\n",
       "1  2021-09-27 10:30"
      ]
     },
     "execution_count": 3,
     "metadata": {},
     "output_type": "execute_result"
    }
   ],
   "source": [
    "timestamps"
   ]
  },
  {
   "cell_type": "code",
   "execution_count": 4,
   "id": "alternate-victory",
   "metadata": {
    "execution": {
     "iopub.execute_input": "2021-09-27T09:00:08.209357Z",
     "iopub.status.busy": "2021-09-27T09:00:08.207504Z",
     "iopub.status.idle": "2021-09-27T09:00:08.785064Z",
     "shell.execute_reply": "2021-09-27T09:00:08.786274Z"
    },
    "papermill": {
     "duration": 0.607468,
     "end_time": "2021-09-27T09:00:08.786661",
     "exception": false,
     "start_time": "2021-09-27T09:00:08.179193",
     "status": "completed"
    },
    "tags": []
   },
   "outputs": [],
   "source": [
    "df = pd.read_sql(\"select * from EBAY_TOP_BERLIN where record_time in (select distinct record_time from EBAY_TOP_BERLIN order by record_time desc limit 2)\", sqlite3.connect(\"UsedObjects.db\"))"
   ]
  },
  {
   "cell_type": "code",
   "execution_count": 5,
   "id": "popular-active",
   "metadata": {
    "execution": {
     "iopub.execute_input": "2021-09-27T09:00:08.860541Z",
     "iopub.status.busy": "2021-09-27T09:00:08.848589Z",
     "iopub.status.idle": "2021-09-27T09:00:08.875989Z",
     "shell.execute_reply": "2021-09-27T09:00:08.877206Z"
    },
    "papermill": {
     "duration": 0.06804,
     "end_time": "2021-09-27T09:00:08.877596",
     "exception": false,
     "start_time": "2021-09-27T09:00:08.809556",
     "status": "completed"
    },
    "tags": []
   },
   "outputs": [],
   "source": [
    "df_pivot = df.pivot_table(index=\"PRODUCT\", columns = \"RECORD_TIME\", values = \"LISTING_COUNT\")"
   ]
  },
  {
   "cell_type": "code",
   "execution_count": 6,
   "id": "union-huntington",
   "metadata": {
    "execution": {
     "iopub.execute_input": "2021-09-27T09:00:08.935604Z",
     "iopub.status.busy": "2021-09-27T09:00:08.933505Z",
     "iopub.status.idle": "2021-09-27T09:00:08.938689Z",
     "shell.execute_reply": "2021-09-27T09:00:08.940053Z"
    },
    "papermill": {
     "duration": 0.04057,
     "end_time": "2021-09-27T09:00:08.940465",
     "exception": false,
     "start_time": "2021-09-27T09:00:08.899895",
     "status": "completed"
    },
    "tags": []
   },
   "outputs": [],
   "source": [
    "df_pivot.columns = [\"stamp_1\", \"stamp_2\"]\n",
    "df_pivot_diff = df_pivot.diff(axis=1)"
   ]
  },
  {
   "cell_type": "code",
   "execution_count": 7,
   "id": "fifth-motion",
   "metadata": {
    "execution": {
     "iopub.execute_input": "2021-09-27T09:00:08.994145Z",
     "iopub.status.busy": "2021-09-27T09:00:08.991767Z",
     "iopub.status.idle": "2021-09-27T09:00:10.485618Z",
     "shell.execute_reply": "2021-09-27T09:00:10.487001Z"
    },
    "papermill": {
     "duration": 1.526663,
     "end_time": "2021-09-27T09:00:10.487447",
     "exception": false,
     "start_time": "2021-09-27T09:00:08.960784",
     "status": "completed"
    },
    "tags": []
   },
   "outputs": [
    {
     "data": {
      "text/plain": [
       "<AxesSubplot:ylabel='PRODUCT'>"
      ]
     },
     "execution_count": 7,
     "metadata": {},
     "output_type": "execute_result"
    },
    {
     "data": {
      "image/png": "[encoded data removed]",
      "text/plain": [
       "<Figure size 432x288 with 1 Axes>"
      ]
     },
     "metadata": {
      "needs_background": "light"
     },
     "output_type": "display_data"
    }
   ],
   "source": [
    "df_pivot_diff.sort_values(\"stamp_2\", ascending = False)[\"stamp_2\"].head(10).plot.barh()"
   ]
  },
  {
   "cell_type": "code",
   "execution_count": null,
   "id": "extra-executive",
   "metadata": {
    "papermill": {
     "duration": 0.022133,
     "end_time": "2021-09-27T09:00:10.534243",
     "exception": false,
     "start_time": "2021-09-27T09:00:10.512110",
     "status": "completed"
    },
    "tags": []
   },
   "outputs": [],
   "source": []
  }
 ],
 "metadata": {
  "kernelspec": {
   "display_name": "Python 3",
   "language": "python",
   "name": "python3"
  },
  "language_info": {
   "codemirror_mode": {
    "name": "ipython",
    "version": 3
   },
   "file_extension": ".py",
   "mimetype": "text/x-python",
   "name": "python",
   "nbconvert_exporter": "python",
   "pygments_lexer": "ipython3",
   "version": "3.9.5"
  },
  "papermill": {
   "default_parameters": {},
   "duration": 6.819529,
   "end_time": "2021-09-27T09:00:11.177306",
   "environment_variables": {},
   "exception": null,
   "input_path": "eBay_Overview.ipynb",
   "output_path": "eBay_Overview.ipynb",
   "parameters": {},
   "start_time": "2021-09-27T09:00:04.357777",
   "version": "2.3.3"
  }
 },
 "nbformat": 4,
 "nbformat_minor": 5
}