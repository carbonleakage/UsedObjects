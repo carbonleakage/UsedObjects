{
 "cells": [
  {
   "cell_type": "code",
   "execution_count": 1,
   "id": "reverse-picking",
   "metadata": {
    "execution": {
     "iopub.execute_input": "2021-08-16T05:30:07.791799Z",
     "iopub.status.busy": "2021-08-16T05:30:07.789785Z",
     "iopub.status.idle": "2021-08-16T05:30:08.595579Z",
     "shell.execute_reply": "2021-08-16T05:30:08.596812Z"
    },
    "papermill": {
     "duration": 0.857717,
     "end_time": "2021-08-16T05:30:08.597435",
     "exception": false,
     "start_time": "2021-08-16T05:30:07.739718",
     "status": "completed"
    },
    "tags": []
   },
   "outputs": [],
   "source": [
    "import pandas as pd\n",
    "import sqlite3"
   ]
  },
  {
   "cell_type": "code",
   "execution_count": 2,
   "id": "innovative-syndrome",
   "metadata": {
    "execution": {
     "iopub.execute_input": "2021-08-16T05:30:08.647620Z",
     "iopub.status.busy": "2021-08-16T05:30:08.645661Z",
     "iopub.status.idle": "2021-08-16T05:30:08.705339Z",
     "shell.execute_reply": "2021-08-16T05:30:08.706708Z"
    },
    "papermill": {
     "duration": 0.08897,
     "end_time": "2021-08-16T05:30:08.707145",
     "exception": false,
     "start_time": "2021-08-16T05:30:08.618175",
     "status": "completed"
    },
    "tags": []
   },
   "outputs": [],
   "source": [
    "timestamps = pd.read_sql(\"select distinct record_time from EBAY_TOP_BERLIN order by record_time desc limit 2\", sqlite3.connect(\"UsedObjects.db\"))"
   ]
  },
  {
   "cell_type": "code",
   "execution_count": 3,
   "id": "periodic-identification",
   "metadata": {
    "execution": {
     "iopub.execute_input": "2021-08-16T05:30:08.769692Z",
     "iopub.status.busy": "2021-08-16T05:30:08.767692Z",
     "iopub.status.idle": "2021-08-16T05:30:08.787457Z",
     "shell.execute_reply": "2021-08-16T05:30:08.788721Z"
    },
    "papermill": {
     "duration": 0.062747,
     "end_time": "2021-08-16T05:30:08.789133",
     "exception": false,
     "start_time": "2021-08-16T05:30:08.726386",
     "status": "completed"
    },
    "tags": []
   },
   "outputs": [
    {
     "data": {
      "text/html": [
       "<div>\n",
       "<style scoped>\n",
       "    .dataframe tbody tr th:only-of-type {\n",
       "        vertical-align: middle;\n",
       "    }\n",
       "\n",
       "    .dataframe tbody tr th {\n",
       "        vertical-align: top;\n",
       "    }\n",
       "\n",
       "    .dataframe thead th {\n",
       "        text-align: right;\n",
       "    }\n",
       "</style>\n",
       "<table border=\"1\" class=\"dataframe\">\n",
       "  <thead>\n",
       "    <tr style=\"text-align: right;\">\n",
       "      <th></th>\n",
       "      <th>RECORD_TIME</th>\n",
       "    </tr>\n",
       "  </thead>\n",
       "  <tbody>\n",
       "    <tr>\n",
       "      <th>0</th>\n",
       "      <td>2021-08-16 07:30</td>\n",
       "    </tr>\n",
       "    <tr>\n",
       "      <th>1</th>\n",
       "      <td>2021-08-16 07:00</td>\n",
       "    </tr>\n",
       "  </tbody>\n",
       "</table>\n",
       "</div>"
      ],
      "text/plain": [
       "        RECORD_TIME\n",
       "0  2021-08-16 07:30\n",
       "1  2021-08-16 07:00"
      ]
     },
     "execution_count": 3,
     "metadata": {},
     "output_type": "execute_result"
    }
   ],
   "source": [
    "timestamps"
   ]
  },
  {
   "cell_type": "code",
   "execution_count": 4,
   "id": "alternate-victory",
   "metadata": {
    "execution": {
     "iopub.execute_input": "2021-08-16T05:30:08.838983Z",
     "iopub.status.busy": "2021-08-16T05:30:08.837061Z",
     "iopub.status.idle": "2021-08-16T05:30:08.923918Z",
     "shell.execute_reply": "2021-08-16T05:30:08.925192Z"
    },
    "papermill": {
     "duration": 0.116382,
     "end_time": "2021-08-16T05:30:08.925610",
     "exception": false,
     "start_time": "2021-08-16T05:30:08.809228",
     "status": "completed"
    },
    "tags": []
   },
   "outputs": [],
   "source": [
    "df = pd.read_sql(\"select * from EBAY_TOP_BERLIN where record_time in (select distinct record_time from EBAY_TOP_BERLIN order by record_time desc limit 2)\", sqlite3.connect(\"UsedObjects.db\"))"
   ]
  },
  {
   "cell_type": "code",
   "execution_count": 5,
   "id": "popular-active",
   "metadata": {
    "execution": {
     "iopub.execute_input": "2021-08-16T05:30:08.994559Z",
     "iopub.status.busy": "2021-08-16T05:30:08.983681Z",
     "iopub.status.idle": "2021-08-16T05:30:09.011267Z",
     "shell.execute_reply": "2021-08-16T05:30:09.012474Z"
    },
    "papermill": {
     "duration": 0.067614,
     "end_time": "2021-08-16T05:30:09.012875",
     "exception": false,
     "start_time": "2021-08-16T05:30:08.945261",
     "status": "completed"
    },
    "tags": []
   },
   "outputs": [],
   "source": [
    "df_pivot = df.pivot_table(index=\"PRODUCT\", columns = \"RECORD_TIME\", values = \"LISTING_COUNT\")"
   ]
  },
  {
   "cell_type": "code",
   "execution_count": 6,
   "id": "union-huntington",
   "metadata": {
    "execution": {
     "iopub.execute_input": "2021-08-16T05:30:09.072764Z",
     "iopub.status.busy": "2021-08-16T05:30:09.070324Z",
     "iopub.status.idle": "2021-08-16T05:30:09.077451Z",
     "shell.execute_reply": "2021-08-16T05:30:09.076069Z"
    },
    "papermill": {
     "duration": 0.042059,
     "end_time": "2021-08-16T05:30:09.077804",
     "exception": false,
     "start_time": "2021-08-16T05:30:09.035745",
     "status": "completed"
    },
    "tags": []
   },
   "outputs": [],
   "source": [
    "df_pivot.columns = [\"stamp_1\", \"stamp_2\"]\n",
    "df_pivot_diff = df_pivot.diff(axis=1)"
   ]
  },
  {
   "cell_type": "code",
   "execution_count": 7,
   "id": "fifth-motion",
   "metadata": {
    "execution": {
     "iopub.execute_input": "2021-08-16T05:30:09.132184Z",
     "iopub.status.busy": "2021-08-16T05:30:09.129740Z",
     "iopub.status.idle": "2021-08-16T05:30:10.653471Z",
     "shell.execute_reply": "2021-08-16T05:30:10.655163Z"
    },
    "papermill": {
     "duration": 1.557606,
     "end_time": "2021-08-16T05:30:10.655720",
     "exception": false,
     "start_time": "2021-08-16T05:30:09.098114",
     "status": "completed"
    },
    "tags": []
   },
   "outputs": [
    {
     "data": {
      "text/plain": [
       "<AxesSubplot:ylabel='PRODUCT'>"
      ]
     },
     "execution_count": 7,
     "metadata": {},
     "output_type": "execute_result"
    },
    {
     "data": {
      "image/png": "[encoded data removed]",
      "text/plain": [
       "<Figure size 432x288 with 1 Axes>"
      ]
     },
     "metadata": {
      "needs_background": "light"
     },
     "output_type": "display_data"
    }
   ],
   "source": [
    "df_pivot_diff.sort_values(\"stamp_2\", ascending = False)[\"stamp_2\"].head(10).plot.barh()"
   ]
  },
  {
   "cell_type": "code",
   "execution_count": null,
   "id": "extra-executive",
   "metadata": {
    "papermill": {
     "duration": 0.022251,
     "end_time": "2021-08-16T05:30:10.703062",
     "exception": false,
     "start_time": "2021-08-16T05:30:10.680811",
     "status": "completed"
    },
    "tags": []
   },
   "outputs": [],
   "source": []
  }
 ],
 "metadata": {
  "kernelspec": {
   "display_name": "Python 3",
   "language": "python",
   "name": "python3"
  },
  "language_info": {
   "codemirror_mode": {
    "name": "ipython",
    "version": 3
   },
   "file_extension": ".py",
   "mimetype": "text/x-python",
   "name": "python",
   "nbconvert_exporter": "python",
   "pygments_lexer": "ipython3",
   "version": "3.9.5"
  },
  "papermill": {
   "default_parameters": {},
   "duration": 6.831158,
   "end_time": "2021-08-16T05:30:12.146323",
   "environment_variables": {},
   "exception": null,
   "input_path": "eBay_Overview.ipynb",
   "output_path": "eBay_Overview.ipynb",
   "parameters": {},
   "start_time": "2021-08-16T05:30:05.315165",
   "version": "2.3.3"
  }
 },
 "nbformat": 4,
 "nbformat_minor": 5
}