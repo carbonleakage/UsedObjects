{
 "cells": [
  {
   "cell_type": "code",
   "execution_count": 1,
   "id": "reverse-picking",
   "metadata": {
    "execution": {
     "iopub.execute_input": "2021-09-20T02:00:07.300892Z",
     "iopub.status.busy": "2021-09-20T02:00:07.298917Z",
     "iopub.status.idle": "2021-09-20T02:00:08.098373Z",
     "shell.execute_reply": "2021-09-20T02:00:08.099868Z"
    },
    "papermill": {
     "duration": 0.85196,
     "end_time": "2021-09-20T02:00:08.100627",
     "exception": false,
     "start_time": "2021-09-20T02:00:07.248667",
     "status": "completed"
    },
    "tags": []
   },
   "outputs": [],
   "source": [
    "import pandas as pd\n",
    "import sqlite3"
   ]
  },
  {
   "cell_type": "code",
   "execution_count": 2,
   "id": "innovative-syndrome",
   "metadata": {
    "execution": {
     "iopub.execute_input": "2021-09-20T02:00:08.152862Z",
     "iopub.status.busy": "2021-09-20T02:00:08.150413Z",
     "iopub.status.idle": "2021-09-20T02:00:08.479719Z",
     "shell.execute_reply": "2021-09-20T02:00:08.478343Z"
    },
    "papermill": {
     "duration": 0.357805,
     "end_time": "2021-09-20T02:00:08.480055",
     "exception": false,
     "start_time": "2021-09-20T02:00:08.122250",
     "status": "completed"
    },
    "tags": []
   },
   "outputs": [],
   "source": [
    "timestamps = pd.read_sql(\"select distinct record_time from EBAY_TOP_BERLIN order by record_time desc limit 2\", sqlite3.connect(\"UsedObjects.db\"))"
   ]
  },
  {
   "cell_type": "code",
   "execution_count": 3,
   "id": "periodic-identification",
   "metadata": {
    "execution": {
     "iopub.execute_input": "2021-09-20T02:00:08.544599Z",
     "iopub.status.busy": "2021-09-20T02:00:08.542511Z",
     "iopub.status.idle": "2021-09-20T02:00:08.564677Z",
     "shell.execute_reply": "2021-09-20T02:00:08.566259Z"
    },
    "papermill": {
     "duration": 0.066916,
     "end_time": "2021-09-20T02:00:08.566756",
     "exception": false,
     "start_time": "2021-09-20T02:00:08.499840",
     "status": "completed"
    },
    "tags": []
   },
   "outputs": [
    {
     "data": {
      "text/html": [
       "<div>\n",
       "<style scoped>\n",
       "    .dataframe tbody tr th:only-of-type {\n",
       "        vertical-align: middle;\n",
       "    }\n",
       "\n",
       "    .dataframe tbody tr th {\n",
       "        vertical-align: top;\n",
       "    }\n",
       "\n",
       "    .dataframe thead th {\n",
       "        text-align: right;\n",
       "    }\n",
       "</style>\n",
       "<table border=\"1\" class=\"dataframe\">\n",
       "  <thead>\n",
       "    <tr style=\"text-align: right;\">\n",
       "      <th></th>\n",
       "      <th>RECORD_TIME</th>\n",
       "    </tr>\n",
       "  </thead>\n",
       "  <tbody>\n",
       "    <tr>\n",
       "      <th>0</th>\n",
       "      <td>2021-09-20 04:00</td>\n",
       "    </tr>\n",
       "    <tr>\n",
       "      <th>1</th>\n",
       "      <td>2021-09-20 03:30</td>\n",
       "    </tr>\n",
       "  </tbody>\n",
       "</table>\n",
       "</div>"
      ],
      "text/plain": [
       "        RECORD_TIME\n",
       "0  2021-09-20 04:00\n",
       "1  2021-09-20 03:30"
      ]
     },
     "execution_count": 3,
     "metadata": {},
     "output_type": "execute_result"
    }
   ],
   "source": [
    "timestamps"
   ]
  },
  {
   "cell_type": "code",
   "execution_count": 4,
   "id": "alternate-victory",
   "metadata": {
    "execution": {
     "iopub.execute_input": "2021-09-20T02:00:08.619007Z",
     "iopub.status.busy": "2021-09-20T02:00:08.617119Z",
     "iopub.status.idle": "2021-09-20T02:00:09.095684Z",
     "shell.execute_reply": "2021-09-20T02:00:09.096902Z"
    },
    "papermill": {
     "duration": 0.508619,
     "end_time": "2021-09-20T02:00:09.097298",
     "exception": false,
     "start_time": "2021-09-20T02:00:08.588679",
     "status": "completed"
    },
    "tags": []
   },
   "outputs": [],
   "source": [
    "df = pd.read_sql(\"select * from EBAY_TOP_BERLIN where record_time in (select distinct record_time from EBAY_TOP_BERLIN order by record_time desc limit 2)\", sqlite3.connect(\"UsedObjects.db\"))"
   ]
  },
  {
   "cell_type": "code",
   "execution_count": 5,
   "id": "popular-active",
   "metadata": {
    "execution": {
     "iopub.execute_input": "2021-09-20T02:00:09.179364Z",
     "iopub.status.busy": "2021-09-20T02:00:09.167836Z",
     "iopub.status.idle": "2021-09-20T02:00:09.195302Z",
     "shell.execute_reply": "2021-09-20T02:00:09.196688Z"
    },
    "papermill": {
     "duration": 0.072288,
     "end_time": "2021-09-20T02:00:09.197128",
     "exception": false,
     "start_time": "2021-09-20T02:00:09.124840",
     "status": "completed"
    },
    "tags": []
   },
   "outputs": [],
   "source": [
    "df_pivot = df.pivot_table(index=\"PRODUCT\", columns = \"RECORD_TIME\", values = \"LISTING_COUNT\")"
   ]
  },
  {
   "cell_type": "code",
   "execution_count": 6,
   "id": "union-huntington",
   "metadata": {
    "execution": {
     "iopub.execute_input": "2021-09-20T02:00:09.255255Z",
     "iopub.status.busy": "2021-09-20T02:00:09.252786Z",
     "iopub.status.idle": "2021-09-20T02:00:09.258578Z",
     "shell.execute_reply": "2021-09-20T02:00:09.259965Z"
    },
    "papermill": {
     "duration": 0.042656,
     "end_time": "2021-09-20T02:00:09.260394",
     "exception": false,
     "start_time": "2021-09-20T02:00:09.217738",
     "status": "completed"
    },
    "tags": []
   },
   "outputs": [],
   "source": [
    "df_pivot.columns = [\"stamp_1\", \"stamp_2\"]\n",
    "df_pivot_diff = df_pivot.diff(axis=1)"
   ]
  },
  {
   "cell_type": "code",
   "execution_count": 7,
   "id": "fifth-motion",
   "metadata": {
    "execution": {
     "iopub.execute_input": "2021-09-20T02:00:09.314545Z",
     "iopub.status.busy": "2021-09-20T02:00:09.312376Z",
     "iopub.status.idle": "2021-09-20T02:00:10.821030Z",
     "shell.execute_reply": "2021-09-20T02:00:10.819606Z"
    },
    "papermill": {
     "duration": 1.54006,
     "end_time": "2021-09-20T02:00:10.821383",
     "exception": false,
     "start_time": "2021-09-20T02:00:09.281323",
     "status": "completed"
    },
    "tags": []
   },
   "outputs": [
    {
     "data": {
      "text/plain": [
       "<AxesSubplot:ylabel='PRODUCT'>"
      ]
     },
     "execution_count": 7,
     "metadata": {},
     "output_type": "execute_result"
    },
    {
     "data": {
      "image/png": "[encoded data removed]",
      "text/plain": [
       "<Figure size 432x288 with 1 Axes>"
      ]
     },
     "metadata": {
      "needs_background": "light"
     },
     "output_type": "display_data"
    }
   ],
   "source": [
    "df_pivot_diff.sort_values(\"stamp_2\", ascending = False)[\"stamp_2\"].head(10).plot.barh()"
   ]
  },
  {
   "cell_type": "code",
   "execution_count": null,
   "id": "extra-executive",
   "metadata": {
    "papermill": {
     "duration": 0.022349,
     "end_time": "2021-09-20T02:00:10.869381",
     "exception": false,
     "start_time": "2021-09-20T02:00:10.847032",
     "status": "completed"
    },
    "tags": []
   },
   "outputs": [],
   "source": []
  }
 ],
 "metadata": {
  "kernelspec": {
   "display_name": "Python 3",
   "language": "python",
   "name": "python3"
  },
  "language_info": {
   "codemirror_mode": {
    "name": "ipython",
    "version": 3
   },
   "file_extension": ".py",
   "mimetype": "text/x-python",
   "name": "python",
   "nbconvert_exporter": "python",
   "pygments_lexer": "ipython3",
   "version": "3.9.5"
  },
  "papermill": {
   "default_parameters": {},
   "duration": 6.653927,
   "end_time": "2021-09-20T02:00:11.510369",
   "environment_variables": {},
   "exception": null,
   "input_path": "eBay_Overview.ipynb",
   "output_path": "eBay_Overview.ipynb",
   "parameters": {},
   "start_time": "2021-09-20T02:00:04.856442",
   "version": "2.3.3"
  }
 },
 "nbformat": 4,
 "nbformat_minor": 5
}