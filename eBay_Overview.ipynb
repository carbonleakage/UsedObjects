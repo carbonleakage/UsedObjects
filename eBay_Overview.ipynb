{
 "cells": [
  {
   "cell_type": "code",
   "execution_count": 1,
   "id": "reverse-picking",
   "metadata": {
    "execution": {
     "iopub.execute_input": "2021-08-31T01:00:07.032848Z",
     "iopub.status.busy": "2021-08-31T01:00:07.030854Z",
     "iopub.status.idle": "2021-08-31T01:00:07.834617Z",
     "shell.execute_reply": "2021-08-31T01:00:07.835776Z"
    },
    "papermill": {
     "duration": 0.85443,
     "end_time": "2021-08-31T01:00:07.836467",
     "exception": false,
     "start_time": "2021-08-31T01:00:06.982037",
     "status": "completed"
    },
    "tags": []
   },
   "outputs": [],
   "source": [
    "import pandas as pd\n",
    "import sqlite3"
   ]
  },
  {
   "cell_type": "code",
   "execution_count": 2,
   "id": "innovative-syndrome",
   "metadata": {
    "execution": {
     "iopub.execute_input": "2021-08-31T01:00:07.888300Z",
     "iopub.status.busy": "2021-08-31T01:00:07.886404Z",
     "iopub.status.idle": "2021-08-31T01:00:08.059781Z",
     "shell.execute_reply": "2021-08-31T01:00:08.061097Z"
    },
    "papermill": {
     "duration": 0.203153,
     "end_time": "2021-08-31T01:00:08.061512",
     "exception": false,
     "start_time": "2021-08-31T01:00:07.858359",
     "status": "completed"
    },
    "tags": []
   },
   "outputs": [],
   "source": [
    "timestamps = pd.read_sql(\"select distinct record_time from EBAY_TOP_BERLIN order by record_time desc limit 2\", sqlite3.connect(\"UsedObjects.db\"))"
   ]
  },
  {
   "cell_type": "code",
   "execution_count": 3,
   "id": "periodic-identification",
   "metadata": {
    "execution": {
     "iopub.execute_input": "2021-08-31T01:00:08.127331Z",
     "iopub.status.busy": "2021-08-31T01:00:08.125252Z",
     "iopub.status.idle": "2021-08-31T01:00:08.145905Z",
     "shell.execute_reply": "2021-08-31T01:00:08.147019Z"
    },
    "papermill": {
     "duration": 0.066027,
     "end_time": "2021-08-31T01:00:08.147416",
     "exception": false,
     "start_time": "2021-08-31T01:00:08.081389",
     "status": "completed"
    },
    "tags": []
   },
   "outputs": [
    {
     "data": {
      "text/html": [
       "<div>\n",
       "<style scoped>\n",
       "    .dataframe tbody tr th:only-of-type {\n",
       "        vertical-align: middle;\n",
       "    }\n",
       "\n",
       "    .dataframe tbody tr th {\n",
       "        vertical-align: top;\n",
       "    }\n",
       "\n",
       "    .dataframe thead th {\n",
       "        text-align: right;\n",
       "    }\n",
       "</style>\n",
       "<table border=\"1\" class=\"dataframe\">\n",
       "  <thead>\n",
       "    <tr style=\"text-align: right;\">\n",
       "      <th></th>\n",
       "      <th>RECORD_TIME</th>\n",
       "    </tr>\n",
       "  </thead>\n",
       "  <tbody>\n",
       "    <tr>\n",
       "      <th>0</th>\n",
       "      <td>2021-08-31 03:00</td>\n",
       "    </tr>\n",
       "    <tr>\n",
       "      <th>1</th>\n",
       "      <td>2021-08-31 02:30</td>\n",
       "    </tr>\n",
       "  </tbody>\n",
       "</table>\n",
       "</div>"
      ],
      "text/plain": [
       "        RECORD_TIME\n",
       "0  2021-08-31 03:00\n",
       "1  2021-08-31 02:30"
      ]
     },
     "execution_count": 3,
     "metadata": {},
     "output_type": "execute_result"
    }
   ],
   "source": [
    "timestamps"
   ]
  },
  {
   "cell_type": "code",
   "execution_count": 4,
   "id": "alternate-victory",
   "metadata": {
    "execution": {
     "iopub.execute_input": "2021-08-31T01:00:08.202291Z",
     "iopub.status.busy": "2021-08-31T01:00:08.199981Z",
     "iopub.status.idle": "2021-08-31T01:00:08.453974Z",
     "shell.execute_reply": "2021-08-31T01:00:08.455172Z"
    },
    "papermill": {
     "duration": 0.284525,
     "end_time": "2021-08-31T01:00:08.455561",
     "exception": false,
     "start_time": "2021-08-31T01:00:08.171036",
     "status": "completed"
    },
    "tags": []
   },
   "outputs": [],
   "source": [
    "df = pd.read_sql(\"select * from EBAY_TOP_BERLIN where record_time in (select distinct record_time from EBAY_TOP_BERLIN order by record_time desc limit 2)\", sqlite3.connect(\"UsedObjects.db\"))"
   ]
  },
  {
   "cell_type": "code",
   "execution_count": 5,
   "id": "popular-active",
   "metadata": {
    "execution": {
     "iopub.execute_input": "2021-08-31T01:00:08.530305Z",
     "iopub.status.busy": "2021-08-31T01:00:08.523163Z",
     "iopub.status.idle": "2021-08-31T01:00:08.550268Z",
     "shell.execute_reply": "2021-08-31T01:00:08.551462Z"
    },
    "papermill": {
     "duration": 0.069646,
     "end_time": "2021-08-31T01:00:08.551853",
     "exception": false,
     "start_time": "2021-08-31T01:00:08.482207",
     "status": "completed"
    },
    "tags": []
   },
   "outputs": [],
   "source": [
    "df_pivot = df.pivot_table(index=\"PRODUCT\", columns = \"RECORD_TIME\", values = \"LISTING_COUNT\")"
   ]
  },
  {
   "cell_type": "code",
   "execution_count": 6,
   "id": "union-huntington",
   "metadata": {
    "execution": {
     "iopub.execute_input": "2021-08-31T01:00:08.612025Z",
     "iopub.status.busy": "2021-08-31T01:00:08.609608Z",
     "iopub.status.idle": "2021-08-31T01:00:08.615720Z",
     "shell.execute_reply": "2021-08-31T01:00:08.617072Z"
    },
    "papermill": {
     "duration": 0.042997,
     "end_time": "2021-08-31T01:00:08.617532",
     "exception": false,
     "start_time": "2021-08-31T01:00:08.574535",
     "status": "completed"
    },
    "tags": []
   },
   "outputs": [],
   "source": [
    "df_pivot.columns = [\"stamp_1\", \"stamp_2\"]\n",
    "df_pivot_diff = df_pivot.diff(axis=1)"
   ]
  },
  {
   "cell_type": "code",
   "execution_count": 7,
   "id": "fifth-motion",
   "metadata": {
    "execution": {
     "iopub.execute_input": "2021-08-31T01:00:08.673915Z",
     "iopub.status.busy": "2021-08-31T01:00:08.671407Z",
     "iopub.status.idle": "2021-08-31T01:00:10.147215Z",
     "shell.execute_reply": "2021-08-31T01:00:10.148468Z"
    },
    "papermill": {
     "duration": 1.50903,
     "end_time": "2021-08-31T01:00:10.148897",
     "exception": false,
     "start_time": "2021-08-31T01:00:08.639867",
     "status": "completed"
    },
    "tags": []
   },
   "outputs": [
    {
     "data": {
      "text/plain": [
       "<AxesSubplot:ylabel='PRODUCT'>"
      ]
     },
     "execution_count": 7,
     "metadata": {},
     "output_type": "execute_result"
    },
    {
     "data": {
      "image/png": "[encoded data removed]",
      "text/plain": [
       "<Figure size 432x288 with 1 Axes>"
      ]
     },
     "metadata": {
      "needs_background": "light"
     },
     "output_type": "display_data"
    }
   ],
   "source": [
    "df_pivot_diff.sort_values(\"stamp_2\", ascending = False)[\"stamp_2\"].head(10).plot.barh()"
   ]
  },
  {
   "cell_type": "code",
   "execution_count": null,
   "id": "extra-executive",
   "metadata": {
    "papermill": {
     "duration": 0.022665,
     "end_time": "2021-08-31T01:00:10.195630",
     "exception": false,
     "start_time": "2021-08-31T01:00:10.172965",
     "status": "completed"
    },
    "tags": []
   },
   "outputs": [],
   "source": []
  }
 ],
 "metadata": {
  "kernelspec": {
   "display_name": "Python 3",
   "language": "python",
   "name": "python3"
  },
  "language_info": {
   "codemirror_mode": {
    "name": "ipython",
    "version": 3
   },
   "file_extension": ".py",
   "mimetype": "text/x-python",
   "name": "python",
   "nbconvert_exporter": "python",
   "pygments_lexer": "ipython3",
   "version": "3.9.5"
  },
  "papermill": {
   "default_parameters": {},
   "duration": 6.825285,
   "end_time": "2021-08-31T01:00:11.401220",
   "environment_variables": {},
   "exception": null,
   "input_path": "eBay_Overview.ipynb",
   "output_path": "eBay_Overview.ipynb",
   "parameters": {},
   "start_time": "2021-08-31T01:00:04.575935",
   "version": "2.3.3"
  }
 },
 "nbformat": 4,
 "nbformat_minor": 5
}