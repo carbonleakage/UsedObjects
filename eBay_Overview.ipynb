{
 "cells": [
  {
   "cell_type": "code",
   "execution_count": 1,
   "id": "reverse-picking",
   "metadata": {
    "execution": {
     "iopub.execute_input": "2021-11-17T07:00:07.823457Z",
     "iopub.status.busy": "2021-11-17T07:00:07.813029Z",
     "iopub.status.idle": "2021-11-17T07:00:08.782219Z",
     "shell.execute_reply": "2021-11-17T07:00:08.783910Z"
    },
    "papermill": {
     "duration": 1.017205,
     "end_time": "2021-11-17T07:00:08.784637",
     "exception": false,
     "start_time": "2021-11-17T07:00:07.767432",
     "status": "completed"
    },
    "tags": []
   },
   "outputs": [],
   "source": [
    "import pandas as pd\n",
    "import sqlite3"
   ]
  },
  {
   "cell_type": "code",
   "execution_count": 2,
   "id": "innovative-syndrome",
   "metadata": {
    "execution": {
     "iopub.execute_input": "2021-11-17T07:00:08.845900Z",
     "iopub.status.busy": "2021-11-17T07:00:08.843629Z",
     "iopub.status.idle": "2021-11-17T07:00:09.682541Z",
     "shell.execute_reply": "2021-11-17T07:00:09.684414Z"
    },
    "papermill": {
     "duration": 0.873401,
     "end_time": "2021-11-17T07:00:09.684901",
     "exception": false,
     "start_time": "2021-11-17T07:00:08.811500",
     "status": "completed"
    },
    "tags": []
   },
   "outputs": [],
   "source": [
    "timestamps = pd.read_sql(\"select distinct record_time from EBAY_TOP_BERLIN order by record_time desc limit 2\", sqlite3.connect(\"UsedObjects.db\"))"
   ]
  },
  {
   "cell_type": "code",
   "execution_count": 3,
   "id": "periodic-identification",
   "metadata": {
    "execution": {
     "iopub.execute_input": "2021-11-17T07:00:09.750715Z",
     "iopub.status.busy": "2021-11-17T07:00:09.748314Z",
     "iopub.status.idle": "2021-11-17T07:00:09.768898Z",
     "shell.execute_reply": "2021-11-17T07:00:09.770140Z"
    },
    "papermill": {
     "duration": 0.065163,
     "end_time": "2021-11-17T07:00:09.770536",
     "exception": false,
     "start_time": "2021-11-17T07:00:09.705373",
     "status": "completed"
    },
    "tags": []
   },
   "outputs": [
    {
     "data": {
      "text/html": [
       "<div>\n",
       "<style scoped>\n",
       "    .dataframe tbody tr th:only-of-type {\n",
       "        vertical-align: middle;\n",
       "    }\n",
       "\n",
       "    .dataframe tbody tr th {\n",
       "        vertical-align: top;\n",
       "    }\n",
       "\n",
       "    .dataframe thead th {\n",
       "        text-align: right;\n",
       "    }\n",
       "</style>\n",
       "<table border=\"1\" class=\"dataframe\">\n",
       "  <thead>\n",
       "    <tr style=\"text-align: right;\">\n",
       "      <th></th>\n",
       "      <th>RECORD_TIME</th>\n",
       "    </tr>\n",
       "  </thead>\n",
       "  <tbody>\n",
       "    <tr>\n",
       "      <th>0</th>\n",
       "      <td>2021-11-17 08:00</td>\n",
       "    </tr>\n",
       "    <tr>\n",
       "      <th>1</th>\n",
       "      <td>2021-11-17 07:30</td>\n",
       "    </tr>\n",
       "  </tbody>\n",
       "</table>\n",
       "</div>"
      ],
      "text/plain": [
       "        RECORD_TIME\n",
       "0  2021-11-17 08:00\n",
       "1  2021-11-17 07:30"
      ]
     },
     "execution_count": 3,
     "metadata": {},
     "output_type": "execute_result"
    }
   ],
   "source": [
    "timestamps"
   ]
  },
  {
   "cell_type": "code",
   "execution_count": 4,
   "id": "alternate-victory",
   "metadata": {
    "execution": {
     "iopub.execute_input": "2021-11-17T07:00:09.823486Z",
     "iopub.status.busy": "2021-11-17T07:00:09.821110Z",
     "iopub.status.idle": "2021-11-17T07:00:11.039930Z",
     "shell.execute_reply": "2021-11-17T07:00:11.041481Z"
    },
    "papermill": {
     "duration": 1.249838,
     "end_time": "2021-11-17T07:00:11.041955",
     "exception": false,
     "start_time": "2021-11-17T07:00:09.792117",
     "status": "completed"
    },
    "tags": []
   },
   "outputs": [],
   "source": [
    "df = pd.read_sql(\"select * from EBAY_TOP_BERLIN where record_time in (select distinct record_time from EBAY_TOP_BERLIN order by record_time desc limit 2)\", sqlite3.connect(\"UsedObjects.db\"))"
   ]
  },
  {
   "cell_type": "code",
   "execution_count": 5,
   "id": "popular-active",
   "metadata": {
    "execution": {
     "iopub.execute_input": "2021-11-17T07:00:11.107424Z",
     "iopub.status.busy": "2021-11-17T07:00:11.105223Z",
     "iopub.status.idle": "2021-11-17T07:00:11.134105Z",
     "shell.execute_reply": "2021-11-17T07:00:11.135438Z"
    },
    "papermill": {
     "duration": 0.071728,
     "end_time": "2021-11-17T07:00:11.135910",
     "exception": false,
     "start_time": "2021-11-17T07:00:11.064182",
     "status": "completed"
    },
    "tags": []
   },
   "outputs": [],
   "source": [
    "df_pivot = df.pivot_table(index=\"PRODUCT\", columns = \"RECORD_TIME\", values = \"LISTING_COUNT\")"
   ]
  },
  {
   "cell_type": "code",
   "execution_count": 6,
   "id": "union-huntington",
   "metadata": {
    "execution": {
     "iopub.execute_input": "2021-11-17T07:00:11.198274Z",
     "iopub.status.busy": "2021-11-17T07:00:11.195818Z",
     "iopub.status.idle": "2021-11-17T07:00:11.201572Z",
     "shell.execute_reply": "2021-11-17T07:00:11.203199Z"
    },
    "papermill": {
     "duration": 0.048091,
     "end_time": "2021-11-17T07:00:11.203693",
     "exception": false,
     "start_time": "2021-11-17T07:00:11.155602",
     "status": "completed"
    },
    "tags": []
   },
   "outputs": [],
   "source": [
    "df_pivot.columns = [\"stamp_1\", \"stamp_2\"]\n",
    "df_pivot_diff = df_pivot.diff(axis=1)"
   ]
  },
  {
   "cell_type": "code",
   "execution_count": 7,
   "id": "fifth-motion",
   "metadata": {
    "execution": {
     "iopub.execute_input": "2021-11-17T07:00:11.268002Z",
     "iopub.status.busy": "2021-11-17T07:00:11.265481Z",
     "iopub.status.idle": "2021-11-17T07:00:13.196339Z",
     "shell.execute_reply": "2021-11-17T07:00:13.198272Z"
    },
    "papermill": {
     "duration": 1.973677,
     "end_time": "2021-11-17T07:00:13.198821",
     "exception": false,
     "start_time": "2021-11-17T07:00:11.225144",
     "status": "completed"
    },
    "tags": []
   },
   "outputs": [
    {
     "data": {
      "text/plain": [
       "<AxesSubplot:ylabel='PRODUCT'>"
      ]
     },
     "execution_count": 7,
     "metadata": {},
     "output_type": "execute_result"
    },
    {
     "data": {
      "image/png": "[encoded data removed]",
      "text/plain": [
       "<Figure size 432x288 with 1 Axes>"
      ]
     },
     "metadata": {
      "needs_background": "light"
     },
     "output_type": "display_data"
    }
   ],
   "source": [
    "df_pivot_diff.sort_values(\"stamp_2\", ascending = False)[\"stamp_2\"].head(10).plot.barh()"
   ]
  },
  {
   "cell_type": "code",
   "execution_count": null,
   "id": "extra-executive",
   "metadata": {
    "papermill": {
     "duration": 0.027379,
     "end_time": "2021-11-17T07:00:13.253369",
     "exception": false,
     "start_time": "2021-11-17T07:00:13.225990",
     "status": "completed"
    },
    "tags": []
   },
   "outputs": [],
   "source": []
  }
 ],
 "metadata": {
  "kernelspec": {
   "display_name": "Python 3",
   "language": "python",
   "name": "python3"
  },
  "language_info": {
   "codemirror_mode": {
    "name": "ipython",
    "version": 3
   },
   "file_extension": ".py",
   "mimetype": "text/x-python",
   "name": "python",
   "nbconvert_exporter": "python",
   "pygments_lexer": "ipython3",
   "version": "3.9.5"
  },
  "papermill": {
   "default_parameters": {},
   "duration": 9.95177,
   "end_time": "2021-11-17T07:00:14.976498",
   "environment_variables": {},
   "exception": null,
   "input_path": "eBay_Overview.ipynb",
   "output_path": "eBay_Overview.ipynb",
   "parameters": {},
   "start_time": "2021-11-17T07:00:05.024728",
   "version": "2.3.3"
  }
 },
 "nbformat": 4,
 "nbformat_minor": 5
}