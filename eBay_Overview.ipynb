{
 "cells": [
  {
   "cell_type": "code",
   "execution_count": 1,
   "id": "reverse-picking",
   "metadata": {
    "execution": {
     "iopub.execute_input": "2021-10-02T11:00:07.035711Z",
     "iopub.status.busy": "2021-10-02T11:00:07.033732Z",
     "iopub.status.idle": "2021-10-02T11:00:07.840351Z",
     "shell.execute_reply": "2021-10-02T11:00:07.841584Z"
    },
    "papermill": {
     "duration": 0.858029,
     "end_time": "2021-10-02T11:00:07.842197",
     "exception": false,
     "start_time": "2021-10-02T11:00:06.984168",
     "status": "completed"
    },
    "tags": []
   },
   "outputs": [],
   "source": [
    "import pandas as pd\n",
    "import sqlite3"
   ]
  },
  {
   "cell_type": "code",
   "execution_count": 2,
   "id": "innovative-syndrome",
   "metadata": {
    "execution": {
     "iopub.execute_input": "2021-10-02T11:00:07.892175Z",
     "iopub.status.busy": "2021-10-02T11:00:07.890236Z",
     "iopub.status.idle": "2021-10-02T11:00:08.324278Z",
     "shell.execute_reply": "2021-10-02T11:00:08.325528Z"
    },
    "papermill": {
     "duration": 0.463586,
     "end_time": "2021-10-02T11:00:08.325940",
     "exception": false,
     "start_time": "2021-10-02T11:00:07.862354",
     "status": "completed"
    },
    "tags": []
   },
   "outputs": [],
   "source": [
    "timestamps = pd.read_sql(\"select distinct record_time from EBAY_TOP_BERLIN order by record_time desc limit 2\", sqlite3.connect(\"UsedObjects.db\"))"
   ]
  },
  {
   "cell_type": "code",
   "execution_count": 3,
   "id": "periodic-identification",
   "metadata": {
    "execution": {
     "iopub.execute_input": "2021-10-02T11:00:08.391919Z",
     "iopub.status.busy": "2021-10-02T11:00:08.390074Z",
     "iopub.status.idle": "2021-10-02T11:00:08.412560Z",
     "shell.execute_reply": "2021-10-02T11:00:08.413823Z"
    },
    "papermill": {
     "duration": 0.068971,
     "end_time": "2021-10-02T11:00:08.414234",
     "exception": false,
     "start_time": "2021-10-02T11:00:08.345263",
     "status": "completed"
    },
    "tags": []
   },
   "outputs": [
    {
     "data": {
      "text/html": [
       "<div>\n",
       "<style scoped>\n",
       "    .dataframe tbody tr th:only-of-type {\n",
       "        vertical-align: middle;\n",
       "    }\n",
       "\n",
       "    .dataframe tbody tr th {\n",
       "        vertical-align: top;\n",
       "    }\n",
       "\n",
       "    .dataframe thead th {\n",
       "        text-align: right;\n",
       "    }\n",
       "</style>\n",
       "<table border=\"1\" class=\"dataframe\">\n",
       "  <thead>\n",
       "    <tr style=\"text-align: right;\">\n",
       "      <th></th>\n",
       "      <th>RECORD_TIME</th>\n",
       "    </tr>\n",
       "  </thead>\n",
       "  <tbody>\n",
       "    <tr>\n",
       "      <th>0</th>\n",
       "      <td>2021-10-02 13:00</td>\n",
       "    </tr>\n",
       "    <tr>\n",
       "      <th>1</th>\n",
       "      <td>2021-10-02 12:30</td>\n",
       "    </tr>\n",
       "  </tbody>\n",
       "</table>\n",
       "</div>"
      ],
      "text/plain": [
       "        RECORD_TIME\n",
       "0  2021-10-02 13:00\n",
       "1  2021-10-02 12:30"
      ]
     },
     "execution_count": 3,
     "metadata": {},
     "output_type": "execute_result"
    }
   ],
   "source": [
    "timestamps"
   ]
  },
  {
   "cell_type": "code",
   "execution_count": 4,
   "id": "alternate-victory",
   "metadata": {
    "execution": {
     "iopub.execute_input": "2021-10-02T11:00:08.466507Z",
     "iopub.status.busy": "2021-10-02T11:00:08.464254Z",
     "iopub.status.idle": "2021-10-02T11:00:09.117075Z",
     "shell.execute_reply": "2021-10-02T11:00:09.118263Z"
    },
    "papermill": {
     "duration": 0.683264,
     "end_time": "2021-10-02T11:00:09.118655",
     "exception": false,
     "start_time": "2021-10-02T11:00:08.435391",
     "status": "completed"
    },
    "tags": []
   },
   "outputs": [],
   "source": [
    "df = pd.read_sql(\"select * from EBAY_TOP_BERLIN where record_time in (select distinct record_time from EBAY_TOP_BERLIN order by record_time desc limit 2)\", sqlite3.connect(\"UsedObjects.db\"))"
   ]
  },
  {
   "cell_type": "code",
   "execution_count": 5,
   "id": "popular-active",
   "metadata": {
    "execution": {
     "iopub.execute_input": "2021-10-02T11:00:09.190483Z",
     "iopub.status.busy": "2021-10-02T11:00:09.178164Z",
     "iopub.status.idle": "2021-10-02T11:00:09.206171Z",
     "shell.execute_reply": "2021-10-02T11:00:09.207521Z"
    },
    "papermill": {
     "duration": 0.067322,
     "end_time": "2021-10-02T11:00:09.207940",
     "exception": false,
     "start_time": "2021-10-02T11:00:09.140618",
     "status": "completed"
    },
    "tags": []
   },
   "outputs": [],
   "source": [
    "df_pivot = df.pivot_table(index=\"PRODUCT\", columns = \"RECORD_TIME\", values = \"LISTING_COUNT\")"
   ]
  },
  {
   "cell_type": "code",
   "execution_count": 6,
   "id": "union-huntington",
   "metadata": {
    "execution": {
     "iopub.execute_input": "2021-10-02T11:00:09.263977Z",
     "iopub.status.busy": "2021-10-02T11:00:09.261921Z",
     "iopub.status.idle": "2021-10-02T11:00:09.267339Z",
     "shell.execute_reply": "2021-10-02T11:00:09.268704Z"
    },
    "papermill": {
     "duration": 0.041012,
     "end_time": "2021-10-02T11:00:09.269122",
     "exception": false,
     "start_time": "2021-10-02T11:00:09.228110",
     "status": "completed"
    },
    "tags": []
   },
   "outputs": [],
   "source": [
    "df_pivot.columns = [\"stamp_1\", \"stamp_2\"]\n",
    "df_pivot_diff = df_pivot.diff(axis=1)"
   ]
  },
  {
   "cell_type": "code",
   "execution_count": 7,
   "id": "fifth-motion",
   "metadata": {
    "execution": {
     "iopub.execute_input": "2021-10-02T11:00:09.324405Z",
     "iopub.status.busy": "2021-10-02T11:00:09.321854Z",
     "iopub.status.idle": "2021-10-02T11:00:10.801055Z",
     "shell.execute_reply": "2021-10-02T11:00:10.802331Z"
    },
    "papermill": {
     "duration": 1.512317,
     "end_time": "2021-10-02T11:00:10.802744",
     "exception": false,
     "start_time": "2021-10-02T11:00:09.290427",
     "status": "completed"
    },
    "tags": []
   },
   "outputs": [
    {
     "data": {
      "text/plain": [
       "<AxesSubplot:ylabel='PRODUCT'>"
      ]
     },
     "execution_count": 7,
     "metadata": {},
     "output_type": "execute_result"
    },
    {
     "data": {
      "image/png": "[encoded data removed]",
      "text/plain": [
       "<Figure size 432x288 with 1 Axes>"
      ]
     },
     "metadata": {
      "needs_background": "light"
     },
     "output_type": "display_data"
    }
   ],
   "source": [
    "df_pivot_diff.sort_values(\"stamp_2\", ascending = False)[\"stamp_2\"].head(10).plot.barh()"
   ]
  },
  {
   "cell_type": "code",
   "execution_count": null,
   "id": "extra-executive",
   "metadata": {
    "papermill": {
     "duration": 0.022378,
     "end_time": "2021-10-02T11:00:10.849769",
     "exception": false,
     "start_time": "2021-10-02T11:00:10.827391",
     "status": "completed"
    },
    "tags": []
   },
   "outputs": [],
   "source": []
  }
 ],
 "metadata": {
  "kernelspec": {
   "display_name": "Python 3",
   "language": "python",
   "name": "python3"
  },
  "language_info": {
   "codemirror_mode": {
    "name": "ipython",
    "version": 3
   },
   "file_extension": ".py",
   "mimetype": "text/x-python",
   "name": "python",
   "nbconvert_exporter": "python",
   "pygments_lexer": "ipython3",
   "version": "3.9.5"
  },
  "papermill": {
   "default_parameters": {},
   "duration": 7.821136,
   "end_time": "2021-10-02T11:00:12.398577",
   "environment_variables": {},
   "exception": null,
   "input_path": "eBay_Overview.ipynb",
   "output_path": "eBay_Overview.ipynb",
   "parameters": {},
   "start_time": "2021-10-02T11:00:04.577441",
   "version": "2.3.3"
  }
 },
 "nbformat": 4,
 "nbformat_minor": 5
}