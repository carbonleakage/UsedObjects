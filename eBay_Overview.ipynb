{
 "cells": [
  {
   "cell_type": "code",
   "execution_count": 1,
   "id": "reverse-picking",
   "metadata": {
    "execution": {
     "iopub.execute_input": "2021-08-30T04:30:07.029849Z",
     "iopub.status.busy": "2021-08-30T04:30:07.027877Z",
     "iopub.status.idle": "2021-08-30T04:30:07.832485Z",
     "shell.execute_reply": "2021-08-30T04:30:07.830860Z"
    },
    "papermill": {
     "duration": 0.853842,
     "end_time": "2021-08-30T04:30:07.832885",
     "exception": false,
     "start_time": "2021-08-30T04:30:06.979043",
     "status": "completed"
    },
    "tags": []
   },
   "outputs": [],
   "source": [
    "import pandas as pd\n",
    "import sqlite3"
   ]
  },
  {
   "cell_type": "code",
   "execution_count": 2,
   "id": "innovative-syndrome",
   "metadata": {
    "execution": {
     "iopub.execute_input": "2021-08-30T04:30:07.883231Z",
     "iopub.status.busy": "2021-08-30T04:30:07.881358Z",
     "iopub.status.idle": "2021-08-30T04:30:08.046587Z",
     "shell.execute_reply": "2021-08-30T04:30:08.047713Z"
    },
    "papermill": {
     "duration": 0.194404,
     "end_time": "2021-08-30T04:30:08.048122",
     "exception": false,
     "start_time": "2021-08-30T04:30:07.853718",
     "status": "completed"
    },
    "tags": []
   },
   "outputs": [],
   "source": [
    "timestamps = pd.read_sql(\"select distinct record_time from EBAY_TOP_BERLIN order by record_time desc limit 2\", sqlite3.connect(\"UsedObjects.db\"))"
   ]
  },
  {
   "cell_type": "code",
   "execution_count": 3,
   "id": "periodic-identification",
   "metadata": {
    "execution": {
     "iopub.execute_input": "2021-08-30T04:30:08.113699Z",
     "iopub.status.busy": "2021-08-30T04:30:08.111492Z",
     "iopub.status.idle": "2021-08-30T04:30:08.131286Z",
     "shell.execute_reply": "2021-08-30T04:30:08.132618Z"
    },
    "papermill": {
     "duration": 0.064066,
     "end_time": "2021-08-30T04:30:08.133069",
     "exception": false,
     "start_time": "2021-08-30T04:30:08.069003",
     "status": "completed"
    },
    "tags": []
   },
   "outputs": [
    {
     "data": {
      "text/html": [
       "<div>\n",
       "<style scoped>\n",
       "    .dataframe tbody tr th:only-of-type {\n",
       "        vertical-align: middle;\n",
       "    }\n",
       "\n",
       "    .dataframe tbody tr th {\n",
       "        vertical-align: top;\n",
       "    }\n",
       "\n",
       "    .dataframe thead th {\n",
       "        text-align: right;\n",
       "    }\n",
       "</style>\n",
       "<table border=\"1\" class=\"dataframe\">\n",
       "  <thead>\n",
       "    <tr style=\"text-align: right;\">\n",
       "      <th></th>\n",
       "      <th>RECORD_TIME</th>\n",
       "    </tr>\n",
       "  </thead>\n",
       "  <tbody>\n",
       "    <tr>\n",
       "      <th>0</th>\n",
       "      <td>2021-08-30 06:30</td>\n",
       "    </tr>\n",
       "    <tr>\n",
       "      <th>1</th>\n",
       "      <td>2021-08-30 06:00</td>\n",
       "    </tr>\n",
       "  </tbody>\n",
       "</table>\n",
       "</div>"
      ],
      "text/plain": [
       "        RECORD_TIME\n",
       "0  2021-08-30 06:30\n",
       "1  2021-08-30 06:00"
      ]
     },
     "execution_count": 3,
     "metadata": {},
     "output_type": "execute_result"
    }
   ],
   "source": [
    "timestamps"
   ]
  },
  {
   "cell_type": "code",
   "execution_count": 4,
   "id": "alternate-victory",
   "metadata": {
    "execution": {
     "iopub.execute_input": "2021-08-30T04:30:08.186310Z",
     "iopub.status.busy": "2021-08-30T04:30:08.184076Z",
     "iopub.status.idle": "2021-08-30T04:30:08.425219Z",
     "shell.execute_reply": "2021-08-30T04:30:08.426507Z"
    },
    "papermill": {
     "duration": 0.271331,
     "end_time": "2021-08-30T04:30:08.426908",
     "exception": false,
     "start_time": "2021-08-30T04:30:08.155577",
     "status": "completed"
    },
    "tags": []
   },
   "outputs": [],
   "source": [
    "df = pd.read_sql(\"select * from EBAY_TOP_BERLIN where record_time in (select distinct record_time from EBAY_TOP_BERLIN order by record_time desc limit 2)\", sqlite3.connect(\"UsedObjects.db\"))"
   ]
  },
  {
   "cell_type": "code",
   "execution_count": 5,
   "id": "popular-active",
   "metadata": {
    "execution": {
     "iopub.execute_input": "2021-08-30T04:30:08.505312Z",
     "iopub.status.busy": "2021-08-30T04:30:08.493056Z",
     "iopub.status.idle": "2021-08-30T04:30:08.520779Z",
     "shell.execute_reply": "2021-08-30T04:30:08.522004Z"
    },
    "papermill": {
     "duration": 0.075071,
     "end_time": "2021-08-30T04:30:08.522402",
     "exception": false,
     "start_time": "2021-08-30T04:30:08.447331",
     "status": "completed"
    },
    "tags": []
   },
   "outputs": [],
   "source": [
    "df_pivot = df.pivot_table(index=\"PRODUCT\", columns = \"RECORD_TIME\", values = \"LISTING_COUNT\")"
   ]
  },
  {
   "cell_type": "code",
   "execution_count": 6,
   "id": "union-huntington",
   "metadata": {
    "execution": {
     "iopub.execute_input": "2021-08-30T04:30:08.582419Z",
     "iopub.status.busy": "2021-08-30T04:30:08.579973Z",
     "iopub.status.idle": "2021-08-30T04:30:08.585862Z",
     "shell.execute_reply": "2021-08-30T04:30:08.587308Z"
    },
    "papermill": {
     "duration": 0.042227,
     "end_time": "2021-08-30T04:30:08.587767",
     "exception": false,
     "start_time": "2021-08-30T04:30:08.545540",
     "status": "completed"
    },
    "tags": []
   },
   "outputs": [],
   "source": [
    "df_pivot.columns = [\"stamp_1\", \"stamp_2\"]\n",
    "df_pivot_diff = df_pivot.diff(axis=1)"
   ]
  },
  {
   "cell_type": "code",
   "execution_count": 7,
   "id": "fifth-motion",
   "metadata": {
    "execution": {
     "iopub.execute_input": "2021-08-30T04:30:08.643565Z",
     "iopub.status.busy": "2021-08-30T04:30:08.641323Z",
     "iopub.status.idle": "2021-08-30T04:30:10.107059Z",
     "shell.execute_reply": "2021-08-30T04:30:10.108576Z"
    },
    "papermill": {
     "duration": 1.499012,
     "end_time": "2021-08-30T04:30:10.109033",
     "exception": false,
     "start_time": "2021-08-30T04:30:08.610021",
     "status": "completed"
    },
    "tags": []
   },
   "outputs": [
    {
     "data": {
      "text/plain": [
       "<AxesSubplot:ylabel='PRODUCT'>"
      ]
     },
     "execution_count": 7,
     "metadata": {},
     "output_type": "execute_result"
    },
    {
     "data": {
      "image/png": "[encoded data removed]",
      "text/plain": [
       "<Figure size 432x288 with 1 Axes>"
      ]
     },
     "metadata": {
      "needs_background": "light"
     },
     "output_type": "display_data"
    }
   ],
   "source": [
    "df_pivot_diff.sort_values(\"stamp_2\", ascending = False)[\"stamp_2\"].head(10).plot.barh()"
   ]
  },
  {
   "cell_type": "code",
   "execution_count": null,
   "id": "extra-executive",
   "metadata": {
    "papermill": {
     "duration": 0.022081,
     "end_time": "2021-08-30T04:30:10.156904",
     "exception": false,
     "start_time": "2021-08-30T04:30:10.134823",
     "status": "completed"
    },
    "tags": []
   },
   "outputs": [],
   "source": []
  }
 ],
 "metadata": {
  "kernelspec": {
   "display_name": "Python 3",
   "language": "python",
   "name": "python3"
  },
  "language_info": {
   "codemirror_mode": {
    "name": "ipython",
    "version": 3
   },
   "file_extension": ".py",
   "mimetype": "text/x-python",
   "name": "python",
   "nbconvert_exporter": "python",
   "pygments_lexer": "ipython3",
   "version": "3.9.5"
  },
  "papermill": {
   "default_parameters": {},
   "duration": 6.818219,
   "end_time": "2021-08-30T04:30:11.399215",
   "environment_variables": {},
   "exception": null,
   "input_path": "eBay_Overview.ipynb",
   "output_path": "eBay_Overview.ipynb",
   "parameters": {},
   "start_time": "2021-08-30T04:30:04.580996",
   "version": "2.3.3"
  }
 },
 "nbformat": 4,
 "nbformat_minor": 5
}