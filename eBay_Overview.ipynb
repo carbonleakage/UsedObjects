{
 "cells": [
  {
   "cell_type": "code",
   "execution_count": 1,
   "id": "reverse-picking",
   "metadata": {
    "execution": {
     "iopub.execute_input": "2021-09-18T09:00:06.973034Z",
     "iopub.status.busy": "2021-09-18T09:00:06.971126Z",
     "iopub.status.idle": "2021-09-18T09:00:07.773784Z",
     "shell.execute_reply": "2021-09-18T09:00:07.775186Z"
    },
    "papermill": {
     "duration": 0.856782,
     "end_time": "2021-09-18T09:00:07.775850",
     "exception": false,
     "start_time": "2021-09-18T09:00:06.919068",
     "status": "completed"
    },
    "tags": []
   },
   "outputs": [],
   "source": [
    "import pandas as pd\n",
    "import sqlite3"
   ]
  },
  {
   "cell_type": "code",
   "execution_count": 2,
   "id": "innovative-syndrome",
   "metadata": {
    "execution": {
     "iopub.execute_input": "2021-09-18T09:00:07.827059Z",
     "iopub.status.busy": "2021-09-18T09:00:07.824944Z",
     "iopub.status.idle": "2021-09-18T09:00:08.135796Z",
     "shell.execute_reply": "2021-09-18T09:00:08.136912Z"
    },
    "papermill": {
     "duration": 0.341173,
     "end_time": "2021-09-18T09:00:08.137315",
     "exception": false,
     "start_time": "2021-09-18T09:00:07.796142",
     "status": "completed"
    },
    "tags": []
   },
   "outputs": [],
   "source": [
    "timestamps = pd.read_sql(\"select distinct record_time from EBAY_TOP_BERLIN order by record_time desc limit 2\", sqlite3.connect(\"UsedObjects.db\"))"
   ]
  },
  {
   "cell_type": "code",
   "execution_count": 3,
   "id": "periodic-identification",
   "metadata": {
    "execution": {
     "iopub.execute_input": "2021-09-18T09:00:08.202148Z",
     "iopub.status.busy": "2021-09-18T09:00:08.200160Z",
     "iopub.status.idle": "2021-09-18T09:00:08.220048Z",
     "shell.execute_reply": "2021-09-18T09:00:08.221370Z"
    },
    "papermill": {
     "duration": 0.063414,
     "end_time": "2021-09-18T09:00:08.221785",
     "exception": false,
     "start_time": "2021-09-18T09:00:08.158371",
     "status": "completed"
    },
    "tags": []
   },
   "outputs": [
    {
     "data": {
      "text/html": [
       "<div>\n",
       "<style scoped>\n",
       "    .dataframe tbody tr th:only-of-type {\n",
       "        vertical-align: middle;\n",
       "    }\n",
       "\n",
       "    .dataframe tbody tr th {\n",
       "        vertical-align: top;\n",
       "    }\n",
       "\n",
       "    .dataframe thead th {\n",
       "        text-align: right;\n",
       "    }\n",
       "</style>\n",
       "<table border=\"1\" class=\"dataframe\">\n",
       "  <thead>\n",
       "    <tr style=\"text-align: right;\">\n",
       "      <th></th>\n",
       "      <th>RECORD_TIME</th>\n",
       "    </tr>\n",
       "  </thead>\n",
       "  <tbody>\n",
       "    <tr>\n",
       "      <th>0</th>\n",
       "      <td>2021-09-18 11:00</td>\n",
       "    </tr>\n",
       "    <tr>\n",
       "      <th>1</th>\n",
       "      <td>2021-09-18 10:30</td>\n",
       "    </tr>\n",
       "  </tbody>\n",
       "</table>\n",
       "</div>"
      ],
      "text/plain": [
       "        RECORD_TIME\n",
       "0  2021-09-18 11:00\n",
       "1  2021-09-18 10:30"
      ]
     },
     "execution_count": 3,
     "metadata": {},
     "output_type": "execute_result"
    }
   ],
   "source": [
    "timestamps"
   ]
  },
  {
   "cell_type": "code",
   "execution_count": 4,
   "id": "alternate-victory",
   "metadata": {
    "execution": {
     "iopub.execute_input": "2021-09-18T09:00:08.273899Z",
     "iopub.status.busy": "2021-09-18T09:00:08.271644Z",
     "iopub.status.idle": "2021-09-18T09:00:08.732871Z",
     "shell.execute_reply": "2021-09-18T09:00:08.734086Z"
    },
    "papermill": {
     "duration": 0.491363,
     "end_time": "2021-09-18T09:00:08.734483",
     "exception": false,
     "start_time": "2021-09-18T09:00:08.243120",
     "status": "completed"
    },
    "tags": []
   },
   "outputs": [],
   "source": [
    "df = pd.read_sql(\"select * from EBAY_TOP_BERLIN where record_time in (select distinct record_time from EBAY_TOP_BERLIN order by record_time desc limit 2)\", sqlite3.connect(\"UsedObjects.db\"))"
   ]
  },
  {
   "cell_type": "code",
   "execution_count": 5,
   "id": "popular-active",
   "metadata": {
    "execution": {
     "iopub.execute_input": "2021-09-18T09:00:08.803498Z",
     "iopub.status.busy": "2021-09-18T09:00:08.792306Z",
     "iopub.status.idle": "2021-09-18T09:00:08.820673Z",
     "shell.execute_reply": "2021-09-18T09:00:08.821945Z"
    },
    "papermill": {
     "duration": 0.067233,
     "end_time": "2021-09-18T09:00:08.822358",
     "exception": false,
     "start_time": "2021-09-18T09:00:08.755125",
     "status": "completed"
    },
    "tags": []
   },
   "outputs": [],
   "source": [
    "df_pivot = df.pivot_table(index=\"PRODUCT\", columns = \"RECORD_TIME\", values = \"LISTING_COUNT\")"
   ]
  },
  {
   "cell_type": "code",
   "execution_count": 6,
   "id": "union-huntington",
   "metadata": {
    "execution": {
     "iopub.execute_input": "2021-09-18T09:00:08.878829Z",
     "iopub.status.busy": "2021-09-18T09:00:08.876734Z",
     "iopub.status.idle": "2021-09-18T09:00:08.882057Z",
     "shell.execute_reply": "2021-09-18T09:00:08.883424Z"
    },
    "papermill": {
     "duration": 0.041294,
     "end_time": "2021-09-18T09:00:08.883845",
     "exception": false,
     "start_time": "2021-09-18T09:00:08.842551",
     "status": "completed"
    },
    "tags": []
   },
   "outputs": [],
   "source": [
    "df_pivot.columns = [\"stamp_1\", \"stamp_2\"]\n",
    "df_pivot_diff = df_pivot.diff(axis=1)"
   ]
  },
  {
   "cell_type": "code",
   "execution_count": 7,
   "id": "fifth-motion",
   "metadata": {
    "execution": {
     "iopub.execute_input": "2021-09-18T09:00:08.938266Z",
     "iopub.status.busy": "2021-09-18T09:00:08.935798Z",
     "iopub.status.idle": "2021-09-18T09:00:10.399541Z",
     "shell.execute_reply": "2021-09-18T09:00:10.400836Z"
    },
    "papermill": {
     "duration": 1.496905,
     "end_time": "2021-09-18T09:00:10.401249",
     "exception": false,
     "start_time": "2021-09-18T09:00:08.904344",
     "status": "completed"
    },
    "tags": []
   },
   "outputs": [
    {
     "data": {
      "text/plain": [
       "<AxesSubplot:ylabel='PRODUCT'>"
      ]
     },
     "execution_count": 7,
     "metadata": {},
     "output_type": "execute_result"
    },
    {
     "data": {
      "image/png": "[encoded data removed]",
      "text/plain": [
       "<Figure size 432x288 with 1 Axes>"
      ]
     },
     "metadata": {
      "needs_background": "light"
     },
     "output_type": "display_data"
    }
   ],
   "source": [
    "df_pivot_diff.sort_values(\"stamp_2\", ascending = False)[\"stamp_2\"].head(10).plot.barh()"
   ]
  },
  {
   "cell_type": "code",
   "execution_count": null,
   "id": "extra-executive",
   "metadata": {
    "papermill": {
     "duration": 0.022157,
     "end_time": "2021-09-18T09:00:10.449046",
     "exception": false,
     "start_time": "2021-09-18T09:00:10.426889",
     "status": "completed"
    },
    "tags": []
   },
   "outputs": [],
   "source": []
  }
 ],
 "metadata": {
  "kernelspec": {
   "display_name": "Python 3",
   "language": "python",
   "name": "python3"
  },
  "language_info": {
   "codemirror_mode": {
    "name": "ipython",
    "version": 3
   },
   "file_extension": ".py",
   "mimetype": "text/x-python",
   "name": "python",
   "nbconvert_exporter": "python",
   "pygments_lexer": "ipython3",
   "version": "3.9.5"
  },
  "papermill": {
   "default_parameters": {},
   "duration": 6.572249,
   "end_time": "2021-09-18T09:00:11.090037",
   "environment_variables": {},
   "exception": null,
   "input_path": "eBay_Overview.ipynb",
   "output_path": "eBay_Overview.ipynb",
   "parameters": {},
   "start_time": "2021-09-18T09:00:04.517788",
   "version": "2.3.3"
  }
 },
 "nbformat": 4,
 "nbformat_minor": 5
}