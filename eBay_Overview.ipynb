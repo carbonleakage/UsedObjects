{
 "cells": [
  {
   "cell_type": "code",
   "execution_count": 1,
   "id": "reverse-picking",
   "metadata": {
    "execution": {
     "iopub.execute_input": "2021-08-09T11:30:04.522151Z",
     "iopub.status.busy": "2021-08-09T11:30:04.521384Z",
     "iopub.status.idle": "2021-08-09T11:30:05.155364Z",
     "shell.execute_reply": "2021-08-09T11:30:05.156064Z"
    },
    "papermill": {
     "duration": 0.653381,
     "end_time": "2021-08-09T11:30:05.156346",
     "exception": false,
     "start_time": "2021-08-09T11:30:04.502965",
     "status": "completed"
    },
    "tags": []
   },
   "outputs": [],
   "source": [
    "import pandas as pd\n",
    "import sqlite3"
   ]
  },
  {
   "cell_type": "code",
   "execution_count": 2,
   "id": "innovative-syndrome",
   "metadata": {
    "execution": {
     "iopub.execute_input": "2021-08-09T11:30:05.178651Z",
     "iopub.status.busy": "2021-08-09T11:30:05.177871Z",
     "iopub.status.idle": "2021-08-09T11:30:05.421474Z",
     "shell.execute_reply": "2021-08-09T11:30:05.422082Z"
    },
    "papermill": {
     "duration": 0.257602,
     "end_time": "2021-08-09T11:30:05.422283",
     "exception": false,
     "start_time": "2021-08-09T11:30:05.164681",
     "status": "completed"
    },
    "tags": []
   },
   "outputs": [],
   "source": [
    "timestamps = pd.read_sql(\"select distinct record_time from EBAY_TOP_BERLIN order by record_time desc limit 2\", sqlite3.connect(\"UsedObjects.db\"))"
   ]
  },
  {
   "cell_type": "code",
   "execution_count": 3,
   "id": "periodic-identification",
   "metadata": {
    "execution": {
     "iopub.execute_input": "2021-08-09T11:30:05.453039Z",
     "iopub.status.busy": "2021-08-09T11:30:05.449701Z",
     "iopub.status.idle": "2021-08-09T11:30:05.464088Z",
     "shell.execute_reply": "2021-08-09T11:30:05.464622Z"
    },
    "papermill": {
     "duration": 0.034257,
     "end_time": "2021-08-09T11:30:05.464820",
     "exception": false,
     "start_time": "2021-08-09T11:30:05.430563",
     "status": "completed"
    },
    "tags": []
   },
   "outputs": [
    {
     "data": {
      "text/html": [
       "<div>\n",
       "<style scoped>\n",
       "    .dataframe tbody tr th:only-of-type {\n",
       "        vertical-align: middle;\n",
       "    }\n",
       "\n",
       "    .dataframe tbody tr th {\n",
       "        vertical-align: top;\n",
       "    }\n",
       "\n",
       "    .dataframe thead th {\n",
       "        text-align: right;\n",
       "    }\n",
       "</style>\n",
       "<table border=\"1\" class=\"dataframe\">\n",
       "  <thead>\n",
       "    <tr style=\"text-align: right;\">\n",
       "      <th></th>\n",
       "      <th>RECORD_TIME</th>\n",
       "    </tr>\n",
       "  </thead>\n",
       "  <tbody>\n",
       "    <tr>\n",
       "      <th>0</th>\n",
       "      <td>2021-08-09 13:30</td>\n",
       "    </tr>\n",
       "    <tr>\n",
       "      <th>1</th>\n",
       "      <td>2021-08-09 13:00</td>\n",
       "    </tr>\n",
       "  </tbody>\n",
       "</table>\n",
       "</div>"
      ],
      "text/plain": [
       "        RECORD_TIME\n",
       "0  2021-08-09 13:30\n",
       "1  2021-08-09 13:00"
      ]
     },
     "execution_count": 3,
     "metadata": {},
     "output_type": "execute_result"
    }
   ],
   "source": [
    "timestamps"
   ]
  },
  {
   "cell_type": "code",
   "execution_count": 4,
   "id": "alternate-victory",
   "metadata": {
    "execution": {
     "iopub.execute_input": "2021-08-09T11:30:05.488828Z",
     "iopub.status.busy": "2021-08-09T11:30:05.487608Z",
     "iopub.status.idle": "2021-08-09T11:30:05.498809Z",
     "shell.execute_reply": "2021-08-09T11:30:05.498188Z"
    },
    "papermill": {
     "duration": 0.025755,
     "end_time": "2021-08-09T11:30:05.498974",
     "exception": false,
     "start_time": "2021-08-09T11:30:05.473219",
     "status": "completed"
    },
    "tags": []
   },
   "outputs": [],
   "source": [
    "df = pd.read_sql(\"select * from EBAY_TOP_BERLIN where record_time in (select distinct record_time from EBAY_TOP_BERLIN order by record_time desc limit 2)\", sqlite3.connect(\"UsedObjects.db\"))"
   ]
  },
  {
   "cell_type": "code",
   "execution_count": 5,
   "id": "popular-active",
   "metadata": {
    "execution": {
     "iopub.execute_input": "2021-08-09T11:30:05.534107Z",
     "iopub.status.busy": "2021-08-09T11:30:05.533316Z",
     "iopub.status.idle": "2021-08-09T11:30:05.579462Z",
     "shell.execute_reply": "2021-08-09T11:30:05.579993Z"
    },
    "papermill": {
     "duration": 0.070025,
     "end_time": "2021-08-09T11:30:05.580179",
     "exception": false,
     "start_time": "2021-08-09T11:30:05.510154",
     "status": "completed"
    },
    "tags": []
   },
   "outputs": [],
   "source": [
    "df_pivot = df.pivot_table(index=\"PRODUCT\", columns = \"RECORD_TIME\", values = \"LISTING_COUNT\")"
   ]
  },
  {
   "cell_type": "code",
   "execution_count": 6,
   "id": "union-huntington",
   "metadata": {
    "execution": {
     "iopub.execute_input": "2021-08-09T11:30:05.606403Z",
     "iopub.status.busy": "2021-08-09T11:30:05.605472Z",
     "iopub.status.idle": "2021-08-09T11:30:05.609396Z",
     "shell.execute_reply": "2021-08-09T11:30:05.610699Z"
    },
    "papermill": {
     "duration": 0.022257,
     "end_time": "2021-08-09T11:30:05.611036",
     "exception": false,
     "start_time": "2021-08-09T11:30:05.588779",
     "status": "completed"
    },
    "tags": []
   },
   "outputs": [],
   "source": [
    "df_pivot.columns = [\"stamp_1\", \"stamp_2\"]\n",
    "df_pivot_diff = df_pivot.diff(axis=1)"
   ]
  },
  {
   "cell_type": "code",
   "execution_count": 7,
   "id": "fifth-motion",
   "metadata": {
    "execution": {
     "iopub.execute_input": "2021-08-09T11:30:05.639436Z",
     "iopub.status.busy": "2021-08-09T11:30:05.638544Z",
     "iopub.status.idle": "2021-08-09T11:30:06.390592Z",
     "shell.execute_reply": "2021-08-09T11:30:06.391123Z"
    },
    "papermill": {
     "duration": 0.768862,
     "end_time": "2021-08-09T11:30:06.391322",
     "exception": false,
     "start_time": "2021-08-09T11:30:05.622460",
     "status": "completed"
    },
    "tags": []
   },
   "outputs": [
    {
     "data": {
      "text/plain": [
       "<AxesSubplot:ylabel='PRODUCT'>"
      ]
     },
     "execution_count": 7,
     "metadata": {},
     "output_type": "execute_result"
    },
    {
     "data": {
      "image/png": "[encoded data removed]",
      "text/plain": [
       "<Figure size 432x288 with 1 Axes>"
      ]
     },
     "metadata": {
      "needs_background": "light"
     },
     "output_type": "display_data"
    }
   ],
   "source": [
    "df_pivot_diff.sort_values(\"stamp_2\", ascending = False)[\"stamp_2\"].head(10).plot.barh()"
   ]
  },
  {
   "cell_type": "code",
   "execution_count": null,
   "id": "extra-executive",
   "metadata": {
    "papermill": {
     "duration": 0.014689,
     "end_time": "2021-08-09T11:30:06.416412",
     "exception": false,
     "start_time": "2021-08-09T11:30:06.401723",
     "status": "completed"
    },
    "tags": []
   },
   "outputs": [],
   "source": []
  }
 ],
 "metadata": {
  "kernelspec": {
   "display_name": "Python 3",
   "language": "python",
   "name": "python3"
  },
  "language_info": {
   "codemirror_mode": {
    "name": "ipython",
    "version": 3
   },
   "file_extension": ".py",
   "mimetype": "text/x-python",
   "name": "python",
   "nbconvert_exporter": "python",
   "pygments_lexer": "ipython3",
   "version": "3.8.8"
  },
  "papermill": {
   "default_parameters": {},
   "duration": 5.044143,
   "end_time": "2021-08-09T11:30:07.859270",
   "environment_variables": {},
   "exception": null,
   "input_path": "/Users/saravananshanmugam/Carbonleakage_Git/UsedObjects/eBay_Overview.ipynb",
   "output_path": "/Users/saravananshanmugam/Carbonleakage_Git/UsedObjects/eBay_Overview.ipynb",
   "parameters": {},
   "start_time": "2021-08-09T11:30:02.815127",
   "version": "2.3.3"
  }
 },
 "nbformat": 4,
 "nbformat_minor": 5
}