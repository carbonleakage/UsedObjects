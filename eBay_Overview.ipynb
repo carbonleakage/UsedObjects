{
 "cells": [
  {
   "cell_type": "code",
   "execution_count": 1,
   "id": "reverse-picking",
   "metadata": {
    "execution": {
     "iopub.execute_input": "2021-10-02T07:30:06.812103Z",
     "iopub.status.busy": "2021-10-02T07:30:06.810039Z",
     "iopub.status.idle": "2021-10-02T07:30:07.616141Z",
     "shell.execute_reply": "2021-10-02T07:30:07.617386Z"
    },
    "papermill": {
     "duration": 0.856426,
     "end_time": "2021-10-02T07:30:07.617995",
     "exception": false,
     "start_time": "2021-10-02T07:30:06.761569",
     "status": "completed"
    },
    "tags": []
   },
   "outputs": [],
   "source": [
    "import pandas as pd\n",
    "import sqlite3"
   ]
  },
  {
   "cell_type": "code",
   "execution_count": 2,
   "id": "innovative-syndrome",
   "metadata": {
    "execution": {
     "iopub.execute_input": "2021-10-02T07:30:07.671372Z",
     "iopub.status.busy": "2021-10-02T07:30:07.669013Z",
     "iopub.status.idle": "2021-10-02T07:30:08.096448Z",
     "shell.execute_reply": "2021-10-02T07:30:08.097625Z"
    },
    "papermill": {
     "duration": 0.457132,
     "end_time": "2021-10-02T07:30:08.098015",
     "exception": false,
     "start_time": "2021-10-02T07:30:07.640883",
     "status": "completed"
    },
    "tags": []
   },
   "outputs": [],
   "source": [
    "timestamps = pd.read_sql(\"select distinct record_time from EBAY_TOP_BERLIN order by record_time desc limit 2\", sqlite3.connect(\"UsedObjects.db\"))"
   ]
  },
  {
   "cell_type": "code",
   "execution_count": 3,
   "id": "periodic-identification",
   "metadata": {
    "execution": {
     "iopub.execute_input": "2021-10-02T07:30:08.164954Z",
     "iopub.status.busy": "2021-10-02T07:30:08.162954Z",
     "iopub.status.idle": "2021-10-02T07:30:08.182967Z",
     "shell.execute_reply": "2021-10-02T07:30:08.184287Z"
    },
    "papermill": {
     "duration": 0.065315,
     "end_time": "2021-10-02T07:30:08.184698",
     "exception": false,
     "start_time": "2021-10-02T07:30:08.119383",
     "status": "completed"
    },
    "tags": []
   },
   "outputs": [
    {
     "data": {
      "text/html": [
       "<div>\n",
       "<style scoped>\n",
       "    .dataframe tbody tr th:only-of-type {\n",
       "        vertical-align: middle;\n",
       "    }\n",
       "\n",
       "    .dataframe tbody tr th {\n",
       "        vertical-align: top;\n",
       "    }\n",
       "\n",
       "    .dataframe thead th {\n",
       "        text-align: right;\n",
       "    }\n",
       "</style>\n",
       "<table border=\"1\" class=\"dataframe\">\n",
       "  <thead>\n",
       "    <tr style=\"text-align: right;\">\n",
       "      <th></th>\n",
       "      <th>RECORD_TIME</th>\n",
       "    </tr>\n",
       "  </thead>\n",
       "  <tbody>\n",
       "    <tr>\n",
       "      <th>0</th>\n",
       "      <td>2021-10-02 09:30</td>\n",
       "    </tr>\n",
       "    <tr>\n",
       "      <th>1</th>\n",
       "      <td>2021-10-02 09:00</td>\n",
       "    </tr>\n",
       "  </tbody>\n",
       "</table>\n",
       "</div>"
      ],
      "text/plain": [
       "        RECORD_TIME\n",
       "0  2021-10-02 09:30\n",
       "1  2021-10-02 09:00"
      ]
     },
     "execution_count": 3,
     "metadata": {},
     "output_type": "execute_result"
    }
   ],
   "source": [
    "timestamps"
   ]
  },
  {
   "cell_type": "code",
   "execution_count": 4,
   "id": "alternate-victory",
   "metadata": {
    "execution": {
     "iopub.execute_input": "2021-10-02T07:30:08.234957Z",
     "iopub.status.busy": "2021-10-02T07:30:08.232982Z",
     "iopub.status.idle": "2021-10-02T07:30:08.864175Z",
     "shell.execute_reply": "2021-10-02T07:30:08.865474Z"
    },
    "papermill": {
     "duration": 0.661203,
     "end_time": "2021-10-02T07:30:08.865921",
     "exception": false,
     "start_time": "2021-10-02T07:30:08.204718",
     "status": "completed"
    },
    "tags": []
   },
   "outputs": [],
   "source": [
    "df = pd.read_sql(\"select * from EBAY_TOP_BERLIN where record_time in (select distinct record_time from EBAY_TOP_BERLIN order by record_time desc limit 2)\", sqlite3.connect(\"UsedObjects.db\"))"
   ]
  },
  {
   "cell_type": "code",
   "execution_count": 5,
   "id": "popular-active",
   "metadata": {
    "execution": {
     "iopub.execute_input": "2021-10-02T07:30:08.937386Z",
     "iopub.status.busy": "2021-10-02T07:30:08.925586Z",
     "iopub.status.idle": "2021-10-02T07:30:08.955041Z",
     "shell.execute_reply": "2021-10-02T07:30:08.956427Z"
    },
    "papermill": {
     "duration": 0.070618,
     "end_time": "2021-10-02T07:30:08.956858",
     "exception": false,
     "start_time": "2021-10-02T07:30:08.886240",
     "status": "completed"
    },
    "tags": []
   },
   "outputs": [],
   "source": [
    "df_pivot = df.pivot_table(index=\"PRODUCT\", columns = \"RECORD_TIME\", values = \"LISTING_COUNT\")"
   ]
  },
  {
   "cell_type": "code",
   "execution_count": 6,
   "id": "union-huntington",
   "metadata": {
    "execution": {
     "iopub.execute_input": "2021-10-02T07:30:09.013349Z",
     "iopub.status.busy": "2021-10-02T07:30:09.010884Z",
     "iopub.status.idle": "2021-10-02T07:30:09.016282Z",
     "shell.execute_reply": "2021-10-02T07:30:09.017458Z"
    },
    "papermill": {
     "duration": 0.041072,
     "end_time": "2021-10-02T07:30:09.017882",
     "exception": false,
     "start_time": "2021-10-02T07:30:08.976810",
     "status": "completed"
    },
    "tags": []
   },
   "outputs": [],
   "source": [
    "df_pivot.columns = [\"stamp_1\", \"stamp_2\"]\n",
    "df_pivot_diff = df_pivot.diff(axis=1)"
   ]
  },
  {
   "cell_type": "code",
   "execution_count": 7,
   "id": "fifth-motion",
   "metadata": {
    "execution": {
     "iopub.execute_input": "2021-10-02T07:30:09.069887Z",
     "iopub.status.busy": "2021-10-02T07:30:09.067730Z",
     "iopub.status.idle": "2021-10-02T07:30:10.542629Z",
     "shell.execute_reply": "2021-10-02T07:30:10.544067Z"
    },
    "papermill": {
     "duration": 1.507134,
     "end_time": "2021-10-02T07:30:10.544503",
     "exception": false,
     "start_time": "2021-10-02T07:30:09.037369",
     "status": "completed"
    },
    "tags": []
   },
   "outputs": [
    {
     "data": {
      "text/plain": [
       "<AxesSubplot:ylabel='PRODUCT'>"
      ]
     },
     "execution_count": 7,
     "metadata": {},
     "output_type": "execute_result"
    },
    {
     "data": {
      "image/png": "[encoded data removed]",
      "text/plain": [
       "<Figure size 432x288 with 1 Axes>"
      ]
     },
     "metadata": {
      "needs_background": "light"
     },
     "output_type": "display_data"
    }
   ],
   "source": [
    "df_pivot_diff.sort_values(\"stamp_2\", ascending = False)[\"stamp_2\"].head(10).plot.barh()"
   ]
  },
  {
   "cell_type": "code",
   "execution_count": null,
   "id": "extra-executive",
   "metadata": {
    "papermill": {
     "duration": 0.021708,
     "end_time": "2021-10-02T07:30:10.589678",
     "exception": false,
     "start_time": "2021-10-02T07:30:10.567970",
     "status": "completed"
    },
    "tags": []
   },
   "outputs": [],
   "source": []
  }
 ],
 "metadata": {
  "kernelspec": {
   "display_name": "Python 3",
   "language": "python",
   "name": "python3"
  },
  "language_info": {
   "codemirror_mode": {
    "name": "ipython",
    "version": 3
   },
   "file_extension": ".py",
   "mimetype": "text/x-python",
   "name": "python",
   "nbconvert_exporter": "python",
   "pygments_lexer": "ipython3",
   "version": "3.9.5"
  },
  "papermill": {
   "default_parameters": {},
   "duration": 7.815418,
   "end_time": "2021-10-02T07:30:12.177813",
   "environment_variables": {},
   "exception": null,
   "input_path": "eBay_Overview.ipynb",
   "output_path": "eBay_Overview.ipynb",
   "parameters": {},
   "start_time": "2021-10-02T07:30:04.362395",
   "version": "2.3.3"
  }
 },
 "nbformat": 4,
 "nbformat_minor": 5
}