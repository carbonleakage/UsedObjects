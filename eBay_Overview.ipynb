{
 "cells": [
  {
   "cell_type": "code",
   "execution_count": 1,
   "id": "reverse-picking",
   "metadata": {
    "execution": {
     "iopub.execute_input": "2021-10-19T11:30:07.123058Z",
     "iopub.status.busy": "2021-10-19T11:30:07.121112Z",
     "iopub.status.idle": "2021-10-19T11:30:07.927527Z",
     "shell.execute_reply": "2021-10-19T11:30:07.928962Z"
    },
    "papermill": {
     "duration": 0.858454,
     "end_time": "2021-10-19T11:30:07.929675",
     "exception": false,
     "start_time": "2021-10-19T11:30:07.071221",
     "status": "completed"
    },
    "tags": []
   },
   "outputs": [],
   "source": [
    "import pandas as pd\n",
    "import sqlite3"
   ]
  },
  {
   "cell_type": "code",
   "execution_count": 2,
   "id": "innovative-syndrome",
   "metadata": {
    "execution": {
     "iopub.execute_input": "2021-10-19T11:30:07.979393Z",
     "iopub.status.busy": "2021-10-19T11:30:07.977546Z",
     "iopub.status.idle": "2021-10-19T11:30:08.555199Z",
     "shell.execute_reply": "2021-10-19T11:30:08.556392Z"
    },
    "papermill": {
     "duration": 0.607439,
     "end_time": "2021-10-19T11:30:08.556845",
     "exception": false,
     "start_time": "2021-10-19T11:30:07.949406",
     "status": "completed"
    },
    "tags": []
   },
   "outputs": [],
   "source": [
    "timestamps = pd.read_sql(\"select distinct record_time from EBAY_TOP_BERLIN order by record_time desc limit 2\", sqlite3.connect(\"UsedObjects.db\"))"
   ]
  },
  {
   "cell_type": "code",
   "execution_count": 3,
   "id": "periodic-identification",
   "metadata": {
    "execution": {
     "iopub.execute_input": "2021-10-19T11:30:08.632547Z",
     "iopub.status.busy": "2021-10-19T11:30:08.627516Z",
     "iopub.status.idle": "2021-10-19T11:30:08.648164Z",
     "shell.execute_reply": "2021-10-19T11:30:08.649684Z"
    },
    "papermill": {
     "duration": 0.068288,
     "end_time": "2021-10-19T11:30:08.650129",
     "exception": false,
     "start_time": "2021-10-19T11:30:08.581841",
     "status": "completed"
    },
    "tags": []
   },
   "outputs": [
    {
     "data": {
      "text/html": [
       "<div>\n",
       "<style scoped>\n",
       "    .dataframe tbody tr th:only-of-type {\n",
       "        vertical-align: middle;\n",
       "    }\n",
       "\n",
       "    .dataframe tbody tr th {\n",
       "        vertical-align: top;\n",
       "    }\n",
       "\n",
       "    .dataframe thead th {\n",
       "        text-align: right;\n",
       "    }\n",
       "</style>\n",
       "<table border=\"1\" class=\"dataframe\">\n",
       "  <thead>\n",
       "    <tr style=\"text-align: right;\">\n",
       "      <th></th>\n",
       "      <th>RECORD_TIME</th>\n",
       "    </tr>\n",
       "  </thead>\n",
       "  <tbody>\n",
       "    <tr>\n",
       "      <th>0</th>\n",
       "      <td>2021-10-19 13:30</td>\n",
       "    </tr>\n",
       "    <tr>\n",
       "      <th>1</th>\n",
       "      <td>2021-10-19 13:00</td>\n",
       "    </tr>\n",
       "  </tbody>\n",
       "</table>\n",
       "</div>"
      ],
      "text/plain": [
       "        RECORD_TIME\n",
       "0  2021-10-19 13:30\n",
       "1  2021-10-19 13:00"
      ]
     },
     "execution_count": 3,
     "metadata": {},
     "output_type": "execute_result"
    }
   ],
   "source": [
    "timestamps"
   ]
  },
  {
   "cell_type": "code",
   "execution_count": 4,
   "id": "alternate-victory",
   "metadata": {
    "execution": {
     "iopub.execute_input": "2021-10-19T11:30:08.702197Z",
     "iopub.status.busy": "2021-10-19T11:30:08.699838Z",
     "iopub.status.idle": "2021-10-19T11:30:09.538295Z",
     "shell.execute_reply": "2021-10-19T11:30:09.539597Z"
    },
    "papermill": {
     "duration": 0.868978,
     "end_time": "2021-10-19T11:30:09.540008",
     "exception": false,
     "start_time": "2021-10-19T11:30:08.671030",
     "status": "completed"
    },
    "tags": []
   },
   "outputs": [],
   "source": [
    "df = pd.read_sql(\"select * from EBAY_TOP_BERLIN where record_time in (select distinct record_time from EBAY_TOP_BERLIN order by record_time desc limit 2)\", sqlite3.connect(\"UsedObjects.db\"))"
   ]
  },
  {
   "cell_type": "code",
   "execution_count": 5,
   "id": "popular-active",
   "metadata": {
    "execution": {
     "iopub.execute_input": "2021-10-19T11:30:09.609779Z",
     "iopub.status.busy": "2021-10-19T11:30:09.597648Z",
     "iopub.status.idle": "2021-10-19T11:30:09.625153Z",
     "shell.execute_reply": "2021-10-19T11:30:09.626359Z"
    },
    "papermill": {
     "duration": 0.066565,
     "end_time": "2021-10-19T11:30:09.626747",
     "exception": false,
     "start_time": "2021-10-19T11:30:09.560182",
     "status": "completed"
    },
    "tags": []
   },
   "outputs": [],
   "source": [
    "df_pivot = df.pivot_table(index=\"PRODUCT\", columns = \"RECORD_TIME\", values = \"LISTING_COUNT\")"
   ]
  },
  {
   "cell_type": "code",
   "execution_count": 6,
   "id": "union-huntington",
   "metadata": {
    "execution": {
     "iopub.execute_input": "2021-10-19T11:30:09.685045Z",
     "iopub.status.busy": "2021-10-19T11:30:09.682718Z",
     "iopub.status.idle": "2021-10-19T11:30:09.688311Z",
     "shell.execute_reply": "2021-10-19T11:30:09.689648Z"
    },
    "papermill": {
     "duration": 0.04169,
     "end_time": "2021-10-19T11:30:09.690068",
     "exception": false,
     "start_time": "2021-10-19T11:30:09.648378",
     "status": "completed"
    },
    "tags": []
   },
   "outputs": [],
   "source": [
    "df_pivot.columns = [\"stamp_1\", \"stamp_2\"]\n",
    "df_pivot_diff = df_pivot.diff(axis=1)"
   ]
  },
  {
   "cell_type": "code",
   "execution_count": 7,
   "id": "fifth-motion",
   "metadata": {
    "execution": {
     "iopub.execute_input": "2021-10-19T11:30:09.743959Z",
     "iopub.status.busy": "2021-10-19T11:30:09.741669Z",
     "iopub.status.idle": "2021-10-19T11:30:11.233563Z",
     "shell.execute_reply": "2021-10-19T11:30:11.234835Z"
    },
    "papermill": {
     "duration": 1.525145,
     "end_time": "2021-10-19T11:30:11.235295",
     "exception": false,
     "start_time": "2021-10-19T11:30:09.710150",
     "status": "completed"
    },
    "tags": []
   },
   "outputs": [
    {
     "data": {
      "text/plain": [
       "<AxesSubplot:ylabel='PRODUCT'>"
      ]
     },
     "execution_count": 7,
     "metadata": {},
     "output_type": "execute_result"
    },
    {
     "data": {
      "image/png": "[encoded data removed]",
      "text/plain": [
       "<Figure size 432x288 with 1 Axes>"
      ]
     },
     "metadata": {
      "needs_background": "light"
     },
     "output_type": "display_data"
    }
   ],
   "source": [
    "df_pivot_diff.sort_values(\"stamp_2\", ascending = False)[\"stamp_2\"].head(10).plot.barh()"
   ]
  },
  {
   "cell_type": "code",
   "execution_count": null,
   "id": "extra-executive",
   "metadata": {
    "papermill": {
     "duration": 0.022356,
     "end_time": "2021-10-19T11:30:11.282421",
     "exception": false,
     "start_time": "2021-10-19T11:30:11.260065",
     "status": "completed"
    },
    "tags": []
   },
   "outputs": [],
   "source": []
  }
 ],
 "metadata": {
  "kernelspec": {
   "display_name": "Python 3",
   "language": "python",
   "name": "python3"
  },
  "language_info": {
   "codemirror_mode": {
    "name": "ipython",
    "version": 3
   },
   "file_extension": ".py",
   "mimetype": "text/x-python",
   "name": "python",
   "nbconvert_exporter": "python",
   "pygments_lexer": "ipython3",
   "version": "3.9.5"
  },
  "papermill": {
   "default_parameters": {},
   "duration": 7.820242,
   "end_time": "2021-10-19T11:30:12.485957",
   "environment_variables": {},
   "exception": null,
   "input_path": "eBay_Overview.ipynb",
   "output_path": "eBay_Overview.ipynb",
   "parameters": {},
   "start_time": "2021-10-19T11:30:04.665715",
   "version": "2.3.3"
  }
 },
 "nbformat": 4,
 "nbformat_minor": 5
}