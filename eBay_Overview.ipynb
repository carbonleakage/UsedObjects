{
 "cells": [
  {
   "cell_type": "code",
   "execution_count": 1,
   "id": "reverse-picking",
   "metadata": {
    "execution": {
     "iopub.execute_input": "2021-11-13T18:00:07.305319Z",
     "iopub.status.busy": "2021-11-13T18:00:07.302795Z",
     "iopub.status.idle": "2021-11-13T18:00:08.244613Z",
     "shell.execute_reply": "2021-11-13T18:00:08.246254Z"
    },
    "papermill": {
     "duration": 0.990557,
     "end_time": "2021-11-13T18:00:08.246986",
     "exception": false,
     "start_time": "2021-11-13T18:00:07.256429",
     "status": "completed"
    },
    "tags": []
   },
   "outputs": [],
   "source": [
    "import pandas as pd\n",
    "import sqlite3"
   ]
  },
  {
   "cell_type": "code",
   "execution_count": 2,
   "id": "innovative-syndrome",
   "metadata": {
    "execution": {
     "iopub.execute_input": "2021-11-13T18:00:08.313223Z",
     "iopub.status.busy": "2021-11-13T18:00:08.309044Z",
     "iopub.status.idle": "2021-11-13T18:00:09.138589Z",
     "shell.execute_reply": "2021-11-13T18:00:09.139791Z"
    },
    "papermill": {
     "duration": 0.865962,
     "end_time": "2021-11-13T18:00:09.140190",
     "exception": false,
     "start_time": "2021-11-13T18:00:08.274228",
     "status": "completed"
    },
    "tags": []
   },
   "outputs": [],
   "source": [
    "timestamps = pd.read_sql(\"select distinct record_time from EBAY_TOP_BERLIN order by record_time desc limit 2\", sqlite3.connect(\"UsedObjects.db\"))"
   ]
  },
  {
   "cell_type": "code",
   "execution_count": 3,
   "id": "periodic-identification",
   "metadata": {
    "execution": {
     "iopub.execute_input": "2021-11-13T18:00:09.213320Z",
     "iopub.status.busy": "2021-11-13T18:00:09.211281Z",
     "iopub.status.idle": "2021-11-13T18:00:09.234929Z",
     "shell.execute_reply": "2021-11-13T18:00:09.236290Z"
    },
    "papermill": {
     "duration": 0.076541,
     "end_time": "2021-11-13T18:00:09.236799",
     "exception": false,
     "start_time": "2021-11-13T18:00:09.160258",
     "status": "completed"
    },
    "tags": []
   },
   "outputs": [
    {
     "data": {
      "text/html": [
       "<div>\n",
       "<style scoped>\n",
       "    .dataframe tbody tr th:only-of-type {\n",
       "        vertical-align: middle;\n",
       "    }\n",
       "\n",
       "    .dataframe tbody tr th {\n",
       "        vertical-align: top;\n",
       "    }\n",
       "\n",
       "    .dataframe thead th {\n",
       "        text-align: right;\n",
       "    }\n",
       "</style>\n",
       "<table border=\"1\" class=\"dataframe\">\n",
       "  <thead>\n",
       "    <tr style=\"text-align: right;\">\n",
       "      <th></th>\n",
       "      <th>RECORD_TIME</th>\n",
       "    </tr>\n",
       "  </thead>\n",
       "  <tbody>\n",
       "    <tr>\n",
       "      <th>0</th>\n",
       "      <td>2021-11-13 19:00</td>\n",
       "    </tr>\n",
       "    <tr>\n",
       "      <th>1</th>\n",
       "      <td>2021-11-13 18:30</td>\n",
       "    </tr>\n",
       "  </tbody>\n",
       "</table>\n",
       "</div>"
      ],
      "text/plain": [
       "        RECORD_TIME\n",
       "0  2021-11-13 19:00\n",
       "1  2021-11-13 18:30"
      ]
     },
     "execution_count": 3,
     "metadata": {},
     "output_type": "execute_result"
    }
   ],
   "source": [
    "timestamps"
   ]
  },
  {
   "cell_type": "code",
   "execution_count": 4,
   "id": "alternate-victory",
   "metadata": {
    "execution": {
     "iopub.execute_input": "2021-11-13T18:00:09.288203Z",
     "iopub.status.busy": "2021-11-13T18:00:09.286196Z",
     "iopub.status.idle": "2021-11-13T18:00:10.455057Z",
     "shell.execute_reply": "2021-11-13T18:00:10.456349Z"
    },
    "papermill": {
     "duration": 1.199435,
     "end_time": "2021-11-13T18:00:10.456827",
     "exception": false,
     "start_time": "2021-11-13T18:00:09.257392",
     "status": "completed"
    },
    "tags": []
   },
   "outputs": [],
   "source": [
    "df = pd.read_sql(\"select * from EBAY_TOP_BERLIN where record_time in (select distinct record_time from EBAY_TOP_BERLIN order by record_time desc limit 2)\", sqlite3.connect(\"UsedObjects.db\"))"
   ]
  },
  {
   "cell_type": "code",
   "execution_count": 5,
   "id": "popular-active",
   "metadata": {
    "execution": {
     "iopub.execute_input": "2021-11-13T18:00:10.530369Z",
     "iopub.status.busy": "2021-11-13T18:00:10.521315Z",
     "iopub.status.idle": "2021-11-13T18:00:10.555482Z",
     "shell.execute_reply": "2021-11-13T18:00:10.557182Z"
    },
    "papermill": {
     "duration": 0.078488,
     "end_time": "2021-11-13T18:00:10.557693",
     "exception": false,
     "start_time": "2021-11-13T18:00:10.479205",
     "status": "completed"
    },
    "tags": []
   },
   "outputs": [],
   "source": [
    "df_pivot = df.pivot_table(index=\"PRODUCT\", columns = \"RECORD_TIME\", values = \"LISTING_COUNT\")"
   ]
  },
  {
   "cell_type": "code",
   "execution_count": 6,
   "id": "union-huntington",
   "metadata": {
    "execution": {
     "iopub.execute_input": "2021-11-13T18:00:10.619144Z",
     "iopub.status.busy": "2021-11-13T18:00:10.616896Z",
     "iopub.status.idle": "2021-11-13T18:00:10.622960Z",
     "shell.execute_reply": "2021-11-13T18:00:10.624385Z"
    },
    "papermill": {
     "duration": 0.046354,
     "end_time": "2021-11-13T18:00:10.625026",
     "exception": false,
     "start_time": "2021-11-13T18:00:10.578672",
     "status": "completed"
    },
    "tags": []
   },
   "outputs": [],
   "source": [
    "df_pivot.columns = [\"stamp_1\", \"stamp_2\"]\n",
    "df_pivot_diff = df_pivot.diff(axis=1)"
   ]
  },
  {
   "cell_type": "code",
   "execution_count": 7,
   "id": "fifth-motion",
   "metadata": {
    "execution": {
     "iopub.execute_input": "2021-11-13T18:00:10.683357Z",
     "iopub.status.busy": "2021-11-13T18:00:10.679064Z",
     "iopub.status.idle": "2021-11-13T18:00:12.602958Z",
     "shell.execute_reply": "2021-11-13T18:00:12.605691Z"
    },
    "papermill": {
     "duration": 1.960571,
     "end_time": "2021-11-13T18:00:12.606475",
     "exception": false,
     "start_time": "2021-11-13T18:00:10.645904",
     "status": "completed"
    },
    "tags": []
   },
   "outputs": [
    {
     "data": {
      "text/plain": [
       "<AxesSubplot:ylabel='PRODUCT'>"
      ]
     },
     "execution_count": 7,
     "metadata": {},
     "output_type": "execute_result"
    },
    {
     "data": {
      "image/png": "[encoded data removed]",
      "text/plain": [
       "<Figure size 432x288 with 1 Axes>"
      ]
     },
     "metadata": {
      "needs_background": "light"
     },
     "output_type": "display_data"
    }
   ],
   "source": [
    "df_pivot_diff.sort_values(\"stamp_2\", ascending = False)[\"stamp_2\"].head(10).plot.barh()"
   ]
  },
  {
   "cell_type": "code",
   "execution_count": null,
   "id": "extra-executive",
   "metadata": {
    "papermill": {
     "duration": 0.037408,
     "end_time": "2021-11-13T18:00:12.678734",
     "exception": false,
     "start_time": "2021-11-13T18:00:12.641326",
     "status": "completed"
    },
    "tags": []
   },
   "outputs": [],
   "source": []
  }
 ],
 "metadata": {
  "kernelspec": {
   "display_name": "Python 3",
   "language": "python",
   "name": "python3"
  },
  "language_info": {
   "codemirror_mode": {
    "name": "ipython",
    "version": 3
   },
   "file_extension": ".py",
   "mimetype": "text/x-python",
   "name": "python",
   "nbconvert_exporter": "python",
   "pygments_lexer": "ipython3",
   "version": "3.9.5"
  },
  "papermill": {
   "default_parameters": {},
   "duration": 8.900272,
   "end_time": "2021-11-13T18:00:13.446016",
   "environment_variables": {},
   "exception": null,
   "input_path": "eBay_Overview.ipynb",
   "output_path": "eBay_Overview.ipynb",
   "parameters": {},
   "start_time": "2021-11-13T18:00:04.545744",
   "version": "2.3.3"
  }
 },
 "nbformat": 4,
 "nbformat_minor": 5
}