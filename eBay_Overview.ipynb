{
 "cells": [
  {
   "cell_type": "code",
   "execution_count": 1,
   "id": "reverse-picking",
   "metadata": {
    "execution": {
     "iopub.execute_input": "2021-10-29T13:00:07.279105Z",
     "iopub.status.busy": "2021-10-29T13:00:07.277175Z",
     "iopub.status.idle": "2021-10-29T13:00:08.083737Z",
     "shell.execute_reply": "2021-10-29T13:00:08.085059Z"
    },
    "papermill": {
     "duration": 0.860037,
     "end_time": "2021-10-29T13:00:08.085689",
     "exception": false,
     "start_time": "2021-10-29T13:00:07.225652",
     "status": "completed"
    },
    "tags": []
   },
   "outputs": [],
   "source": [
    "import pandas as pd\n",
    "import sqlite3"
   ]
  },
  {
   "cell_type": "code",
   "execution_count": 2,
   "id": "innovative-syndrome",
   "metadata": {
    "execution": {
     "iopub.execute_input": "2021-10-29T13:00:08.138002Z",
     "iopub.status.busy": "2021-10-29T13:00:08.135987Z",
     "iopub.status.idle": "2021-10-29T13:00:08.800569Z",
     "shell.execute_reply": "2021-10-29T13:00:08.801920Z"
    },
    "papermill": {
     "duration": 0.694272,
     "end_time": "2021-10-29T13:00:08.802339",
     "exception": false,
     "start_time": "2021-10-29T13:00:08.108067",
     "status": "completed"
    },
    "tags": []
   },
   "outputs": [],
   "source": [
    "timestamps = pd.read_sql(\"select distinct record_time from EBAY_TOP_BERLIN order by record_time desc limit 2\", sqlite3.connect(\"UsedObjects.db\"))"
   ]
  },
  {
   "cell_type": "code",
   "execution_count": 3,
   "id": "periodic-identification",
   "metadata": {
    "execution": {
     "iopub.execute_input": "2021-10-29T13:00:08.935660Z",
     "iopub.status.busy": "2021-10-29T13:00:08.933623Z",
     "iopub.status.idle": "2021-10-29T13:00:08.953785Z",
     "shell.execute_reply": "2021-10-29T13:00:08.955122Z"
    },
    "papermill": {
     "duration": 0.073342,
     "end_time": "2021-10-29T13:00:08.955532",
     "exception": false,
     "start_time": "2021-10-29T13:00:08.882190",
     "status": "completed"
    },
    "tags": []
   },
   "outputs": [
    {
     "data": {
      "text/html": [
       "<div>\n",
       "<style scoped>\n",
       "    .dataframe tbody tr th:only-of-type {\n",
       "        vertical-align: middle;\n",
       "    }\n",
       "\n",
       "    .dataframe tbody tr th {\n",
       "        vertical-align: top;\n",
       "    }\n",
       "\n",
       "    .dataframe thead th {\n",
       "        text-align: right;\n",
       "    }\n",
       "</style>\n",
       "<table border=\"1\" class=\"dataframe\">\n",
       "  <thead>\n",
       "    <tr style=\"text-align: right;\">\n",
       "      <th></th>\n",
       "      <th>RECORD_TIME</th>\n",
       "    </tr>\n",
       "  </thead>\n",
       "  <tbody>\n",
       "    <tr>\n",
       "      <th>0</th>\n",
       "      <td>2021-10-29 15:00</td>\n",
       "    </tr>\n",
       "    <tr>\n",
       "      <th>1</th>\n",
       "      <td>2021-10-29 14:30</td>\n",
       "    </tr>\n",
       "  </tbody>\n",
       "</table>\n",
       "</div>"
      ],
      "text/plain": [
       "        RECORD_TIME\n",
       "0  2021-10-29 15:00\n",
       "1  2021-10-29 14:30"
      ]
     },
     "execution_count": 3,
     "metadata": {},
     "output_type": "execute_result"
    }
   ],
   "source": [
    "timestamps"
   ]
  },
  {
   "cell_type": "code",
   "execution_count": 4,
   "id": "alternate-victory",
   "metadata": {
    "execution": {
     "iopub.execute_input": "2021-10-29T13:00:09.006271Z",
     "iopub.status.busy": "2021-10-29T13:00:09.004338Z",
     "iopub.status.idle": "2021-10-29T13:00:09.950298Z",
     "shell.execute_reply": "2021-10-29T13:00:09.951521Z"
    },
    "papermill": {
     "duration": 0.975811,
     "end_time": "2021-10-29T13:00:09.951918",
     "exception": false,
     "start_time": "2021-10-29T13:00:08.976107",
     "status": "completed"
    },
    "tags": []
   },
   "outputs": [],
   "source": [
    "df = pd.read_sql(\"select * from EBAY_TOP_BERLIN where record_time in (select distinct record_time from EBAY_TOP_BERLIN order by record_time desc limit 2)\", sqlite3.connect(\"UsedObjects.db\"))"
   ]
  },
  {
   "cell_type": "code",
   "execution_count": 5,
   "id": "popular-active",
   "metadata": {
    "execution": {
     "iopub.execute_input": "2021-10-29T13:00:10.023417Z",
     "iopub.status.busy": "2021-10-29T13:00:10.011775Z",
     "iopub.status.idle": "2021-10-29T13:00:10.038820Z",
     "shell.execute_reply": "2021-10-29T13:00:10.040036Z"
    },
    "papermill": {
     "duration": 0.067823,
     "end_time": "2021-10-29T13:00:10.040434",
     "exception": false,
     "start_time": "2021-10-29T13:00:09.972611",
     "status": "completed"
    },
    "tags": []
   },
   "outputs": [],
   "source": [
    "df_pivot = df.pivot_table(index=\"PRODUCT\", columns = \"RECORD_TIME\", values = \"LISTING_COUNT\")"
   ]
  },
  {
   "cell_type": "code",
   "execution_count": 6,
   "id": "union-huntington",
   "metadata": {
    "execution": {
     "iopub.execute_input": "2021-10-29T13:00:10.097186Z",
     "iopub.status.busy": "2021-10-29T13:00:10.094976Z",
     "iopub.status.idle": "2021-10-29T13:00:10.100603Z",
     "shell.execute_reply": "2021-10-29T13:00:10.102227Z"
    },
    "papermill": {
     "duration": 0.041449,
     "end_time": "2021-10-29T13:00:10.102792",
     "exception": false,
     "start_time": "2021-10-29T13:00:10.061343",
     "status": "completed"
    },
    "tags": []
   },
   "outputs": [],
   "source": [
    "df_pivot.columns = [\"stamp_1\", \"stamp_2\"]\n",
    "df_pivot_diff = df_pivot.diff(axis=1)"
   ]
  },
  {
   "cell_type": "code",
   "execution_count": 7,
   "id": "fifth-motion",
   "metadata": {
    "execution": {
     "iopub.execute_input": "2021-10-29T13:00:10.158589Z",
     "iopub.status.busy": "2021-10-29T13:00:10.156157Z",
     "iopub.status.idle": "2021-10-29T13:00:11.643622Z",
     "shell.execute_reply": "2021-10-29T13:00:11.645125Z"
    },
    "papermill": {
     "duration": 1.521077,
     "end_time": "2021-10-29T13:00:11.645568",
     "exception": false,
     "start_time": "2021-10-29T13:00:10.124491",
     "status": "completed"
    },
    "tags": []
   },
   "outputs": [
    {
     "data": {
      "text/plain": [
       "<AxesSubplot:ylabel='PRODUCT'>"
      ]
     },
     "execution_count": 7,
     "metadata": {},
     "output_type": "execute_result"
    },
    {
     "data": {
      "image/png": "[encoded data removed]",
      "text/plain": [
       "<Figure size 432x288 with 1 Axes>"
      ]
     },
     "metadata": {
      "needs_background": "light"
     },
     "output_type": "display_data"
    }
   ],
   "source": [
    "df_pivot_diff.sort_values(\"stamp_2\", ascending = False)[\"stamp_2\"].head(10).plot.barh()"
   ]
  },
  {
   "cell_type": "code",
   "execution_count": null,
   "id": "extra-executive",
   "metadata": {
    "papermill": {
     "duration": 0.022348,
     "end_time": "2021-10-29T13:00:11.691469",
     "exception": false,
     "start_time": "2021-10-29T13:00:11.669121",
     "status": "completed"
    },
    "tags": []
   },
   "outputs": [],
   "source": []
  }
 ],
 "metadata": {
  "kernelspec": {
   "display_name": "Python 3",
   "language": "python",
   "name": "python3"
  },
  "language_info": {
   "codemirror_mode": {
    "name": "ipython",
    "version": 3
   },
   "file_extension": ".py",
   "mimetype": "text/x-python",
   "name": "python",
   "nbconvert_exporter": "python",
   "pygments_lexer": "ipython3",
   "version": "3.9.5"
  },
  "papermill": {
   "default_parameters": {},
   "duration": 7.515692,
   "end_time": "2021-10-29T13:00:12.335566",
   "environment_variables": {},
   "exception": null,
   "input_path": "eBay_Overview.ipynb",
   "output_path": "eBay_Overview.ipynb",
   "parameters": {},
   "start_time": "2021-10-29T13:00:04.819874",
   "version": "2.3.3"
  }
 },
 "nbformat": 4,
 "nbformat_minor": 5
}