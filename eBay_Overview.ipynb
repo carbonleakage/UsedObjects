{
 "cells": [
  {
   "cell_type": "code",
   "execution_count": 1,
   "id": "reverse-picking",
   "metadata": {
    "execution": {
     "iopub.execute_input": "2021-10-16T01:30:07.187080Z",
     "iopub.status.busy": "2021-10-16T01:30:07.185095Z",
     "iopub.status.idle": "2021-10-16T01:30:07.992545Z",
     "shell.execute_reply": "2021-10-16T01:30:07.993922Z"
    },
    "papermill": {
     "duration": 0.859039,
     "end_time": "2021-10-16T01:30:07.994555",
     "exception": false,
     "start_time": "2021-10-16T01:30:07.135516",
     "status": "completed"
    },
    "tags": []
   },
   "outputs": [],
   "source": [
    "import pandas as pd\n",
    "import sqlite3"
   ]
  },
  {
   "cell_type": "code",
   "execution_count": 2,
   "id": "innovative-syndrome",
   "metadata": {
    "execution": {
     "iopub.execute_input": "2021-10-16T01:30:08.046045Z",
     "iopub.status.busy": "2021-10-16T01:30:08.044058Z",
     "iopub.status.idle": "2021-10-16T01:30:08.605689Z",
     "shell.execute_reply": "2021-10-16T01:30:08.606979Z"
    },
    "papermill": {
     "duration": 0.59118,
     "end_time": "2021-10-16T01:30:08.607375",
     "exception": false,
     "start_time": "2021-10-16T01:30:08.016195",
     "status": "completed"
    },
    "tags": []
   },
   "outputs": [],
   "source": [
    "timestamps = pd.read_sql(\"select distinct record_time from EBAY_TOP_BERLIN order by record_time desc limit 2\", sqlite3.connect(\"UsedObjects.db\"))"
   ]
  },
  {
   "cell_type": "code",
   "execution_count": 3,
   "id": "periodic-identification",
   "metadata": {
    "execution": {
     "iopub.execute_input": "2021-10-16T01:30:08.689193Z",
     "iopub.status.busy": "2021-10-16T01:30:08.686464Z",
     "iopub.status.idle": "2021-10-16T01:30:08.707765Z",
     "shell.execute_reply": "2021-10-16T01:30:08.709127Z"
    },
    "papermill": {
     "duration": 0.0735,
     "end_time": "2021-10-16T01:30:08.709552",
     "exception": false,
     "start_time": "2021-10-16T01:30:08.636052",
     "status": "completed"
    },
    "tags": []
   },
   "outputs": [
    {
     "data": {
      "text/html": [
       "<div>\n",
       "<style scoped>\n",
       "    .dataframe tbody tr th:only-of-type {\n",
       "        vertical-align: middle;\n",
       "    }\n",
       "\n",
       "    .dataframe tbody tr th {\n",
       "        vertical-align: top;\n",
       "    }\n",
       "\n",
       "    .dataframe thead th {\n",
       "        text-align: right;\n",
       "    }\n",
       "</style>\n",
       "<table border=\"1\" class=\"dataframe\">\n",
       "  <thead>\n",
       "    <tr style=\"text-align: right;\">\n",
       "      <th></th>\n",
       "      <th>RECORD_TIME</th>\n",
       "    </tr>\n",
       "  </thead>\n",
       "  <tbody>\n",
       "    <tr>\n",
       "      <th>0</th>\n",
       "      <td>2021-10-16 03:30</td>\n",
       "    </tr>\n",
       "    <tr>\n",
       "      <th>1</th>\n",
       "      <td>2021-10-16 03:00</td>\n",
       "    </tr>\n",
       "  </tbody>\n",
       "</table>\n",
       "</div>"
      ],
      "text/plain": [
       "        RECORD_TIME\n",
       "0  2021-10-16 03:30\n",
       "1  2021-10-16 03:00"
      ]
     },
     "execution_count": 3,
     "metadata": {},
     "output_type": "execute_result"
    }
   ],
   "source": [
    "timestamps"
   ]
  },
  {
   "cell_type": "code",
   "execution_count": 4,
   "id": "alternate-victory",
   "metadata": {
    "execution": {
     "iopub.execute_input": "2021-10-16T01:30:08.760914Z",
     "iopub.status.busy": "2021-10-16T01:30:08.758907Z",
     "iopub.status.idle": "2021-10-16T01:30:09.568530Z",
     "shell.execute_reply": "2021-10-16T01:30:09.569812Z"
    },
    "papermill": {
     "duration": 0.83944,
     "end_time": "2021-10-16T01:30:09.570202",
     "exception": false,
     "start_time": "2021-10-16T01:30:08.730762",
     "status": "completed"
    },
    "tags": []
   },
   "outputs": [],
   "source": [
    "df = pd.read_sql(\"select * from EBAY_TOP_BERLIN where record_time in (select distinct record_time from EBAY_TOP_BERLIN order by record_time desc limit 2)\", sqlite3.connect(\"UsedObjects.db\"))"
   ]
  },
  {
   "cell_type": "code",
   "execution_count": 5,
   "id": "popular-active",
   "metadata": {
    "execution": {
     "iopub.execute_input": "2021-10-16T01:30:09.640444Z",
     "iopub.status.busy": "2021-10-16T01:30:09.629438Z",
     "iopub.status.idle": "2021-10-16T01:30:09.655893Z",
     "shell.execute_reply": "2021-10-16T01:30:09.657188Z"
    },
    "papermill": {
     "duration": 0.066977,
     "end_time": "2021-10-16T01:30:09.657590",
     "exception": false,
     "start_time": "2021-10-16T01:30:09.590613",
     "status": "completed"
    },
    "tags": []
   },
   "outputs": [],
   "source": [
    "df_pivot = df.pivot_table(index=\"PRODUCT\", columns = \"RECORD_TIME\", values = \"LISTING_COUNT\")"
   ]
  },
  {
   "cell_type": "code",
   "execution_count": 6,
   "id": "union-huntington",
   "metadata": {
    "execution": {
     "iopub.execute_input": "2021-10-16T01:30:09.716308Z",
     "iopub.status.busy": "2021-10-16T01:30:09.714048Z",
     "iopub.status.idle": "2021-10-16T01:30:09.719918Z",
     "shell.execute_reply": "2021-10-16T01:30:09.721450Z"
    },
    "papermill": {
     "duration": 0.042058,
     "end_time": "2021-10-16T01:30:09.721914",
     "exception": false,
     "start_time": "2021-10-16T01:30:09.679856",
     "status": "completed"
    },
    "tags": []
   },
   "outputs": [],
   "source": [
    "df_pivot.columns = [\"stamp_1\", \"stamp_2\"]\n",
    "df_pivot_diff = df_pivot.diff(axis=1)"
   ]
  },
  {
   "cell_type": "code",
   "execution_count": 7,
   "id": "fifth-motion",
   "metadata": {
    "execution": {
     "iopub.execute_input": "2021-10-16T01:30:09.776934Z",
     "iopub.status.busy": "2021-10-16T01:30:09.774576Z",
     "iopub.status.idle": "2021-10-16T01:30:11.261911Z",
     "shell.execute_reply": "2021-10-16T01:30:11.263127Z"
    },
    "papermill": {
     "duration": 1.5198,
     "end_time": "2021-10-16T01:30:11.263556",
     "exception": false,
     "start_time": "2021-10-16T01:30:09.743756",
     "status": "completed"
    },
    "tags": []
   },
   "outputs": [
    {
     "data": {
      "text/plain": [
       "<AxesSubplot:ylabel='PRODUCT'>"
      ]
     },
     "execution_count": 7,
     "metadata": {},
     "output_type": "execute_result"
    },
    {
     "data": {
      "image/png": "[encoded data removed]",
      "text/plain": [
       "<Figure size 432x288 with 1 Axes>"
      ]
     },
     "metadata": {
      "needs_background": "light"
     },
     "output_type": "display_data"
    }
   ],
   "source": [
    "df_pivot_diff.sort_values(\"stamp_2\", ascending = False)[\"stamp_2\"].head(10).plot.barh()"
   ]
  },
  {
   "cell_type": "code",
   "execution_count": null,
   "id": "extra-executive",
   "metadata": {
    "papermill": {
     "duration": 0.022006,
     "end_time": "2021-10-16T01:30:11.312451",
     "exception": false,
     "start_time": "2021-10-16T01:30:11.290445",
     "status": "completed"
    },
    "tags": []
   },
   "outputs": [],
   "source": []
  }
 ],
 "metadata": {
  "kernelspec": {
   "display_name": "Python 3",
   "language": "python",
   "name": "python3"
  },
  "language_info": {
   "codemirror_mode": {
    "name": "ipython",
    "version": 3
   },
   "file_extension": ".py",
   "mimetype": "text/x-python",
   "name": "python",
   "nbconvert_exporter": "python",
   "pygments_lexer": "ipython3",
   "version": "3.9.5"
  },
  "papermill": {
   "default_parameters": {},
   "duration": 7.822155,
   "end_time": "2021-10-16T01:30:12.549244",
   "environment_variables": {},
   "exception": null,
   "input_path": "eBay_Overview.ipynb",
   "output_path": "eBay_Overview.ipynb",
   "parameters": {},
   "start_time": "2021-10-16T01:30:04.727089",
   "version": "2.3.3"
  }
 },
 "nbformat": 4,
 "nbformat_minor": 5
}