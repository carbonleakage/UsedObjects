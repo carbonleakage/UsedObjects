{
 "cells": [
  {
   "cell_type": "code",
   "execution_count": 1,
   "id": "reverse-picking",
   "metadata": {
    "execution": {
     "iopub.execute_input": "2021-10-11T01:00:06.939049Z",
     "iopub.status.busy": "2021-10-11T01:00:06.937082Z",
     "iopub.status.idle": "2021-10-11T01:00:07.746840Z",
     "shell.execute_reply": "2021-10-11T01:00:07.748322Z"
    },
    "papermill": {
     "duration": 0.860544,
     "end_time": "2021-10-11T01:00:07.749010",
     "exception": false,
     "start_time": "2021-10-11T01:00:06.888466",
     "status": "completed"
    },
    "tags": []
   },
   "outputs": [],
   "source": [
    "import pandas as pd\n",
    "import sqlite3"
   ]
  },
  {
   "cell_type": "code",
   "execution_count": 2,
   "id": "innovative-syndrome",
   "metadata": {
    "execution": {
     "iopub.execute_input": "2021-10-11T01:00:07.800084Z",
     "iopub.status.busy": "2021-10-11T01:00:07.797728Z",
     "iopub.status.idle": "2021-10-11T01:00:08.343980Z",
     "shell.execute_reply": "2021-10-11T01:00:08.345175Z"
    },
    "papermill": {
     "duration": 0.576037,
     "end_time": "2021-10-11T01:00:08.345572",
     "exception": false,
     "start_time": "2021-10-11T01:00:07.769535",
     "status": "completed"
    },
    "tags": []
   },
   "outputs": [],
   "source": [
    "timestamps = pd.read_sql(\"select distinct record_time from EBAY_TOP_BERLIN order by record_time desc limit 2\", sqlite3.connect(\"UsedObjects.db\"))"
   ]
  },
  {
   "cell_type": "code",
   "execution_count": 3,
   "id": "periodic-identification",
   "metadata": {
    "execution": {
     "iopub.execute_input": "2021-10-11T01:00:08.428070Z",
     "iopub.status.busy": "2021-10-11T01:00:08.425979Z",
     "iopub.status.idle": "2021-10-11T01:00:08.446000Z",
     "shell.execute_reply": "2021-10-11T01:00:08.447339Z"
    },
    "papermill": {
     "duration": 0.070902,
     "end_time": "2021-10-11T01:00:08.447768",
     "exception": false,
     "start_time": "2021-10-11T01:00:08.376866",
     "status": "completed"
    },
    "tags": []
   },
   "outputs": [
    {
     "data": {
      "text/html": [
       "<div>\n",
       "<style scoped>\n",
       "    .dataframe tbody tr th:only-of-type {\n",
       "        vertical-align: middle;\n",
       "    }\n",
       "\n",
       "    .dataframe tbody tr th {\n",
       "        vertical-align: top;\n",
       "    }\n",
       "\n",
       "    .dataframe thead th {\n",
       "        text-align: right;\n",
       "    }\n",
       "</style>\n",
       "<table border=\"1\" class=\"dataframe\">\n",
       "  <thead>\n",
       "    <tr style=\"text-align: right;\">\n",
       "      <th></th>\n",
       "      <th>RECORD_TIME</th>\n",
       "    </tr>\n",
       "  </thead>\n",
       "  <tbody>\n",
       "    <tr>\n",
       "      <th>0</th>\n",
       "      <td>2021-10-11 03:00</td>\n",
       "    </tr>\n",
       "    <tr>\n",
       "      <th>1</th>\n",
       "      <td>2021-10-11 02:30</td>\n",
       "    </tr>\n",
       "  </tbody>\n",
       "</table>\n",
       "</div>"
      ],
      "text/plain": [
       "        RECORD_TIME\n",
       "0  2021-10-11 03:00\n",
       "1  2021-10-11 02:30"
      ]
     },
     "execution_count": 3,
     "metadata": {},
     "output_type": "execute_result"
    }
   ],
   "source": [
    "timestamps"
   ]
  },
  {
   "cell_type": "code",
   "execution_count": 4,
   "id": "alternate-victory",
   "metadata": {
    "execution": {
     "iopub.execute_input": "2021-10-11T01:00:08.499409Z",
     "iopub.status.busy": "2021-10-11T01:00:08.497448Z",
     "iopub.status.idle": "2021-10-11T01:00:09.253281Z",
     "shell.execute_reply": "2021-10-11T01:00:09.254486Z"
    },
    "papermill": {
     "duration": 0.785898,
     "end_time": "2021-10-11T01:00:09.255076",
     "exception": false,
     "start_time": "2021-10-11T01:00:08.469178",
     "status": "completed"
    },
    "tags": []
   },
   "outputs": [],
   "source": [
    "df = pd.read_sql(\"select * from EBAY_TOP_BERLIN where record_time in (select distinct record_time from EBAY_TOP_BERLIN order by record_time desc limit 2)\", sqlite3.connect(\"UsedObjects.db\"))"
   ]
  },
  {
   "cell_type": "code",
   "execution_count": 5,
   "id": "popular-active",
   "metadata": {
    "execution": {
     "iopub.execute_input": "2021-10-11T01:00:09.328015Z",
     "iopub.status.busy": "2021-10-11T01:00:09.316139Z",
     "iopub.status.idle": "2021-10-11T01:00:09.344493Z",
     "shell.execute_reply": "2021-10-11T01:00:09.345859Z"
    },
    "papermill": {
     "duration": 0.068431,
     "end_time": "2021-10-11T01:00:09.346301",
     "exception": false,
     "start_time": "2021-10-11T01:00:09.277870",
     "status": "completed"
    },
    "tags": []
   },
   "outputs": [],
   "source": [
    "df_pivot = df.pivot_table(index=\"PRODUCT\", columns = \"RECORD_TIME\", values = \"LISTING_COUNT\")"
   ]
  },
  {
   "cell_type": "code",
   "execution_count": 6,
   "id": "union-huntington",
   "metadata": {
    "execution": {
     "iopub.execute_input": "2021-10-11T01:00:09.406248Z",
     "iopub.status.busy": "2021-10-11T01:00:09.403827Z",
     "iopub.status.idle": "2021-10-11T01:00:09.409570Z",
     "shell.execute_reply": "2021-10-11T01:00:09.410959Z"
    },
    "papermill": {
     "duration": 0.042577,
     "end_time": "2021-10-11T01:00:09.411436",
     "exception": false,
     "start_time": "2021-10-11T01:00:09.368859",
     "status": "completed"
    },
    "tags": []
   },
   "outputs": [],
   "source": [
    "df_pivot.columns = [\"stamp_1\", \"stamp_2\"]\n",
    "df_pivot_diff = df_pivot.diff(axis=1)"
   ]
  },
  {
   "cell_type": "code",
   "execution_count": 7,
   "id": "fifth-motion",
   "metadata": {
    "execution": {
     "iopub.execute_input": "2021-10-11T01:00:09.466231Z",
     "iopub.status.busy": "2021-10-11T01:00:09.463961Z",
     "iopub.status.idle": "2021-10-11T01:00:10.948980Z",
     "shell.execute_reply": "2021-10-11T01:00:10.950245Z"
    },
    "papermill": {
     "duration": 1.518485,
     "end_time": "2021-10-11T01:00:10.950663",
     "exception": false,
     "start_time": "2021-10-11T01:00:09.432178",
     "status": "completed"
    },
    "tags": []
   },
   "outputs": [
    {
     "data": {
      "text/plain": [
       "<AxesSubplot:ylabel='PRODUCT'>"
      ]
     },
     "execution_count": 7,
     "metadata": {},
     "output_type": "execute_result"
    },
    {
     "data": {
      "image/png": "[encoded data removed]",
      "text/plain": [
       "<Figure size 432x288 with 1 Axes>"
      ]
     },
     "metadata": {
      "needs_background": "light"
     },
     "output_type": "display_data"
    }
   ],
   "source": [
    "df_pivot_diff.sort_values(\"stamp_2\", ascending = False)[\"stamp_2\"].head(10).plot.barh()"
   ]
  },
  {
   "cell_type": "code",
   "execution_count": null,
   "id": "extra-executive",
   "metadata": {
    "papermill": {
     "duration": 0.02243,
     "end_time": "2021-10-11T01:00:10.997890",
     "exception": false,
     "start_time": "2021-10-11T01:00:10.975460",
     "status": "completed"
    },
    "tags": []
   },
   "outputs": [],
   "source": []
  }
 ],
 "metadata": {
  "kernelspec": {
   "display_name": "Python 3",
   "language": "python",
   "name": "python3"
  },
  "language_info": {
   "codemirror_mode": {
    "name": "ipython",
    "version": 3
   },
   "file_extension": ".py",
   "mimetype": "text/x-python",
   "name": "python",
   "nbconvert_exporter": "python",
   "pygments_lexer": "ipython3",
   "version": "3.9.5"
  },
  "papermill": {
   "default_parameters": {},
   "duration": 7.82274,
   "end_time": "2021-10-11T01:00:12.305655",
   "environment_variables": {},
   "exception": null,
   "input_path": "eBay_Overview.ipynb",
   "output_path": "eBay_Overview.ipynb",
   "parameters": {},
   "start_time": "2021-10-11T01:00:04.482915",
   "version": "2.3.3"
  }
 },
 "nbformat": 4,
 "nbformat_minor": 5
}