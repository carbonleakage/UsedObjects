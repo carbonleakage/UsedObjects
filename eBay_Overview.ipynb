{
 "cells": [
  {
   "cell_type": "code",
   "execution_count": 1,
   "id": "reverse-picking",
   "metadata": {
    "execution": {
     "iopub.execute_input": "2021-10-13T02:00:07.086491Z",
     "iopub.status.busy": "2021-10-13T02:00:07.084520Z",
     "iopub.status.idle": "2021-10-13T02:00:07.885291Z",
     "shell.execute_reply": "2021-10-13T02:00:07.886713Z"
    },
    "papermill": {
     "duration": 0.853527,
     "end_time": "2021-10-13T02:00:07.887407",
     "exception": false,
     "start_time": "2021-10-13T02:00:07.033880",
     "status": "completed"
    },
    "tags": []
   },
   "outputs": [],
   "source": [
    "import pandas as pd\n",
    "import sqlite3"
   ]
  },
  {
   "cell_type": "code",
   "execution_count": 2,
   "id": "innovative-syndrome",
   "metadata": {
    "execution": {
     "iopub.execute_input": "2021-10-13T02:00:07.938917Z",
     "iopub.status.busy": "2021-10-13T02:00:07.936519Z",
     "iopub.status.idle": "2021-10-13T02:00:08.451405Z",
     "shell.execute_reply": "2021-10-13T02:00:08.452675Z"
    },
    "papermill": {
     "duration": 0.545207,
     "end_time": "2021-10-13T02:00:08.453192",
     "exception": false,
     "start_time": "2021-10-13T02:00:07.907985",
     "status": "completed"
    },
    "tags": []
   },
   "outputs": [],
   "source": [
    "timestamps = pd.read_sql(\"select distinct record_time from EBAY_TOP_BERLIN order by record_time desc limit 2\", sqlite3.connect(\"UsedObjects.db\"))"
   ]
  },
  {
   "cell_type": "code",
   "execution_count": 3,
   "id": "periodic-identification",
   "metadata": {
    "execution": {
     "iopub.execute_input": "2021-10-13T02:00:08.522398Z",
     "iopub.status.busy": "2021-10-13T02:00:08.517181Z",
     "iopub.status.idle": "2021-10-13T02:00:08.536910Z",
     "shell.execute_reply": "2021-10-13T02:00:08.538530Z"
    },
    "papermill": {
     "duration": 0.064806,
     "end_time": "2021-10-13T02:00:08.539013",
     "exception": false,
     "start_time": "2021-10-13T02:00:08.474207",
     "status": "completed"
    },
    "tags": []
   },
   "outputs": [
    {
     "data": {
      "text/html": [
       "<div>\n",
       "<style scoped>\n",
       "    .dataframe tbody tr th:only-of-type {\n",
       "        vertical-align: middle;\n",
       "    }\n",
       "\n",
       "    .dataframe tbody tr th {\n",
       "        vertical-align: top;\n",
       "    }\n",
       "\n",
       "    .dataframe thead th {\n",
       "        text-align: right;\n",
       "    }\n",
       "</style>\n",
       "<table border=\"1\" class=\"dataframe\">\n",
       "  <thead>\n",
       "    <tr style=\"text-align: right;\">\n",
       "      <th></th>\n",
       "      <th>RECORD_TIME</th>\n",
       "    </tr>\n",
       "  </thead>\n",
       "  <tbody>\n",
       "    <tr>\n",
       "      <th>0</th>\n",
       "      <td>2021-10-13 04:00</td>\n",
       "    </tr>\n",
       "    <tr>\n",
       "      <th>1</th>\n",
       "      <td>2021-10-13 03:30</td>\n",
       "    </tr>\n",
       "  </tbody>\n",
       "</table>\n",
       "</div>"
      ],
      "text/plain": [
       "        RECORD_TIME\n",
       "0  2021-10-13 04:00\n",
       "1  2021-10-13 03:30"
      ]
     },
     "execution_count": 3,
     "metadata": {},
     "output_type": "execute_result"
    }
   ],
   "source": [
    "timestamps"
   ]
  },
  {
   "cell_type": "code",
   "execution_count": 4,
   "id": "alternate-victory",
   "metadata": {
    "execution": {
     "iopub.execute_input": "2021-10-13T02:00:08.605823Z",
     "iopub.status.busy": "2021-10-13T02:00:08.603777Z",
     "iopub.status.idle": "2021-10-13T02:00:09.375228Z",
     "shell.execute_reply": "2021-10-13T02:00:09.376529Z"
    },
    "papermill": {
     "duration": 0.80795,
     "end_time": "2021-10-13T02:00:09.377011",
     "exception": false,
     "start_time": "2021-10-13T02:00:08.569061",
     "status": "completed"
    },
    "tags": []
   },
   "outputs": [],
   "source": [
    "df = pd.read_sql(\"select * from EBAY_TOP_BERLIN where record_time in (select distinct record_time from EBAY_TOP_BERLIN order by record_time desc limit 2)\", sqlite3.connect(\"UsedObjects.db\"))"
   ]
  },
  {
   "cell_type": "code",
   "execution_count": 5,
   "id": "popular-active",
   "metadata": {
    "execution": {
     "iopub.execute_input": "2021-10-13T02:00:09.446238Z",
     "iopub.status.busy": "2021-10-13T02:00:09.434456Z",
     "iopub.status.idle": "2021-10-13T02:00:09.461634Z",
     "shell.execute_reply": "2021-10-13T02:00:09.462861Z"
    },
    "papermill": {
     "duration": 0.066234,
     "end_time": "2021-10-13T02:00:09.463262",
     "exception": false,
     "start_time": "2021-10-13T02:00:09.397028",
     "status": "completed"
    },
    "tags": []
   },
   "outputs": [],
   "source": [
    "df_pivot = df.pivot_table(index=\"PRODUCT\", columns = \"RECORD_TIME\", values = \"LISTING_COUNT\")"
   ]
  },
  {
   "cell_type": "code",
   "execution_count": 6,
   "id": "union-huntington",
   "metadata": {
    "execution": {
     "iopub.execute_input": "2021-10-13T02:00:09.521454Z",
     "iopub.status.busy": "2021-10-13T02:00:09.519362Z",
     "iopub.status.idle": "2021-10-13T02:00:09.524830Z",
     "shell.execute_reply": "2021-10-13T02:00:09.526047Z"
    },
    "papermill": {
     "duration": 0.040821,
     "end_time": "2021-10-13T02:00:09.526483",
     "exception": false,
     "start_time": "2021-10-13T02:00:09.485662",
     "status": "completed"
    },
    "tags": []
   },
   "outputs": [],
   "source": [
    "df_pivot.columns = [\"stamp_1\", \"stamp_2\"]\n",
    "df_pivot_diff = df_pivot.diff(axis=1)"
   ]
  },
  {
   "cell_type": "code",
   "execution_count": 7,
   "id": "fifth-motion",
   "metadata": {
    "execution": {
     "iopub.execute_input": "2021-10-13T02:00:09.580280Z",
     "iopub.status.busy": "2021-10-13T02:00:09.577914Z",
     "iopub.status.idle": "2021-10-13T02:00:11.040632Z",
     "shell.execute_reply": "2021-10-13T02:00:11.042167Z"
    },
    "papermill": {
     "duration": 1.495715,
     "end_time": "2021-10-13T02:00:11.042628",
     "exception": false,
     "start_time": "2021-10-13T02:00:09.546913",
     "status": "completed"
    },
    "tags": []
   },
   "outputs": [
    {
     "data": {
      "text/plain": [
       "<AxesSubplot:ylabel='PRODUCT'>"
      ]
     },
     "execution_count": 7,
     "metadata": {},
     "output_type": "execute_result"
    },
    {
     "data": {
      "image/png": "[encoded data removed]",
      "text/plain": [
       "<Figure size 432x288 with 1 Axes>"
      ]
     },
     "metadata": {
      "needs_background": "light"
     },
     "output_type": "display_data"
    }
   ],
   "source": [
    "df_pivot_diff.sort_values(\"stamp_2\", ascending = False)[\"stamp_2\"].head(10).plot.barh()"
   ]
  },
  {
   "cell_type": "code",
   "execution_count": null,
   "id": "extra-executive",
   "metadata": {
    "papermill": {
     "duration": 0.022571,
     "end_time": "2021-10-13T02:00:11.089861",
     "exception": false,
     "start_time": "2021-10-13T02:00:11.067290",
     "status": "completed"
    },
    "tags": []
   },
   "outputs": [],
   "source": []
  }
 ],
 "metadata": {
  "kernelspec": {
   "display_name": "Python 3",
   "language": "python",
   "name": "python3"
  },
  "language_info": {
   "codemirror_mode": {
    "name": "ipython",
    "version": 3
   },
   "file_extension": ".py",
   "mimetype": "text/x-python",
   "name": "python",
   "nbconvert_exporter": "python",
   "pygments_lexer": "ipython3",
   "version": "3.9.5"
  },
  "papermill": {
   "default_parameters": {},
   "duration": 7.840725,
   "end_time": "2021-10-13T02:00:12.479400",
   "environment_variables": {},
   "exception": null,
   "input_path": "eBay_Overview.ipynb",
   "output_path": "eBay_Overview.ipynb",
   "parameters": {},
   "start_time": "2021-10-13T02:00:04.638675",
   "version": "2.3.3"
  }
 },
 "nbformat": 4,
 "nbformat_minor": 5
}