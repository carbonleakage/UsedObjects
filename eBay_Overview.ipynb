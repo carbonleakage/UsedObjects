{
 "cells": [
  {
   "cell_type": "code",
   "execution_count": 1,
   "id": "reverse-picking",
   "metadata": {
    "execution": {
     "iopub.execute_input": "2021-10-19T19:30:07.265948Z",
     "iopub.status.busy": "2021-10-19T19:30:07.263007Z",
     "iopub.status.idle": "2021-10-19T19:30:08.073867Z",
     "shell.execute_reply": "2021-10-19T19:30:08.075327Z"
    },
    "papermill": {
     "duration": 0.860983,
     "end_time": "2021-10-19T19:30:08.076007",
     "exception": false,
     "start_time": "2021-10-19T19:30:07.215024",
     "status": "completed"
    },
    "tags": []
   },
   "outputs": [],
   "source": [
    "import pandas as pd\n",
    "import sqlite3"
   ]
  },
  {
   "cell_type": "code",
   "execution_count": 2,
   "id": "innovative-syndrome",
   "metadata": {
    "execution": {
     "iopub.execute_input": "2021-10-19T19:30:08.126903Z",
     "iopub.status.busy": "2021-10-19T19:30:08.124468Z",
     "iopub.status.idle": "2021-10-19T19:30:08.706900Z",
     "shell.execute_reply": "2021-10-19T19:30:08.708026Z"
    },
    "papermill": {
     "duration": 0.612132,
     "end_time": "2021-10-19T19:30:08.708432",
     "exception": false,
     "start_time": "2021-10-19T19:30:08.096300",
     "status": "completed"
    },
    "tags": []
   },
   "outputs": [],
   "source": [
    "timestamps = pd.read_sql(\"select distinct record_time from EBAY_TOP_BERLIN order by record_time desc limit 2\", sqlite3.connect(\"UsedObjects.db\"))"
   ]
  },
  {
   "cell_type": "code",
   "execution_count": 3,
   "id": "periodic-identification",
   "metadata": {
    "execution": {
     "iopub.execute_input": "2021-10-19T19:30:08.783792Z",
     "iopub.status.busy": "2021-10-19T19:30:08.781772Z",
     "iopub.status.idle": "2021-10-19T19:30:08.801327Z",
     "shell.execute_reply": "2021-10-19T19:30:08.802892Z"
    },
    "papermill": {
     "duration": 0.067404,
     "end_time": "2021-10-19T19:30:08.803354",
     "exception": false,
     "start_time": "2021-10-19T19:30:08.735950",
     "status": "completed"
    },
    "tags": []
   },
   "outputs": [
    {
     "data": {
      "text/html": [
       "<div>\n",
       "<style scoped>\n",
       "    .dataframe tbody tr th:only-of-type {\n",
       "        vertical-align: middle;\n",
       "    }\n",
       "\n",
       "    .dataframe tbody tr th {\n",
       "        vertical-align: top;\n",
       "    }\n",
       "\n",
       "    .dataframe thead th {\n",
       "        text-align: right;\n",
       "    }\n",
       "</style>\n",
       "<table border=\"1\" class=\"dataframe\">\n",
       "  <thead>\n",
       "    <tr style=\"text-align: right;\">\n",
       "      <th></th>\n",
       "      <th>RECORD_TIME</th>\n",
       "    </tr>\n",
       "  </thead>\n",
       "  <tbody>\n",
       "    <tr>\n",
       "      <th>0</th>\n",
       "      <td>2021-10-19 21:30</td>\n",
       "    </tr>\n",
       "    <tr>\n",
       "      <th>1</th>\n",
       "      <td>2021-10-19 21:00</td>\n",
       "    </tr>\n",
       "  </tbody>\n",
       "</table>\n",
       "</div>"
      ],
      "text/plain": [
       "        RECORD_TIME\n",
       "0  2021-10-19 21:30\n",
       "1  2021-10-19 21:00"
      ]
     },
     "execution_count": 3,
     "metadata": {},
     "output_type": "execute_result"
    }
   ],
   "source": [
    "timestamps"
   ]
  },
  {
   "cell_type": "code",
   "execution_count": 4,
   "id": "alternate-victory",
   "metadata": {
    "execution": {
     "iopub.execute_input": "2021-10-19T19:30:08.855439Z",
     "iopub.status.busy": "2021-10-19T19:30:08.853415Z",
     "iopub.status.idle": "2021-10-19T19:30:09.699429Z",
     "shell.execute_reply": "2021-10-19T19:30:09.700645Z"
    },
    "papermill": {
     "duration": 0.876646,
     "end_time": "2021-10-19T19:30:09.701270",
     "exception": false,
     "start_time": "2021-10-19T19:30:08.824624",
     "status": "completed"
    },
    "tags": []
   },
   "outputs": [],
   "source": [
    "df = pd.read_sql(\"select * from EBAY_TOP_BERLIN where record_time in (select distinct record_time from EBAY_TOP_BERLIN order by record_time desc limit 2)\", sqlite3.connect(\"UsedObjects.db\"))"
   ]
  },
  {
   "cell_type": "code",
   "execution_count": 5,
   "id": "popular-active",
   "metadata": {
    "execution": {
     "iopub.execute_input": "2021-10-19T19:30:09.762058Z",
     "iopub.status.busy": "2021-10-19T19:30:09.758321Z",
     "iopub.status.idle": "2021-10-19T19:30:09.787787Z",
     "shell.execute_reply": "2021-10-19T19:30:09.789149Z"
    },
    "papermill": {
     "duration": 0.067803,
     "end_time": "2021-10-19T19:30:09.789568",
     "exception": false,
     "start_time": "2021-10-19T19:30:09.721765",
     "status": "completed"
    },
    "tags": []
   },
   "outputs": [],
   "source": [
    "df_pivot = df.pivot_table(index=\"PRODUCT\", columns = \"RECORD_TIME\", values = \"LISTING_COUNT\")"
   ]
  },
  {
   "cell_type": "code",
   "execution_count": 6,
   "id": "union-huntington",
   "metadata": {
    "execution": {
     "iopub.execute_input": "2021-10-19T19:30:09.845460Z",
     "iopub.status.busy": "2021-10-19T19:30:09.843355Z",
     "iopub.status.idle": "2021-10-19T19:30:09.848666Z",
     "shell.execute_reply": "2021-10-19T19:30:09.849943Z"
    },
    "papermill": {
     "duration": 0.040692,
     "end_time": "2021-10-19T19:30:09.850372",
     "exception": false,
     "start_time": "2021-10-19T19:30:09.809680",
     "status": "completed"
    },
    "tags": []
   },
   "outputs": [],
   "source": [
    "df_pivot.columns = [\"stamp_1\", \"stamp_2\"]\n",
    "df_pivot_diff = df_pivot.diff(axis=1)"
   ]
  },
  {
   "cell_type": "code",
   "execution_count": 7,
   "id": "fifth-motion",
   "metadata": {
    "execution": {
     "iopub.execute_input": "2021-10-19T19:30:09.904231Z",
     "iopub.status.busy": "2021-10-19T19:30:09.901860Z",
     "iopub.status.idle": "2021-10-19T19:30:11.413468Z",
     "shell.execute_reply": "2021-10-19T19:30:11.414772Z"
    },
    "papermill": {
     "duration": 1.54443,
     "end_time": "2021-10-19T19:30:11.415180",
     "exception": false,
     "start_time": "2021-10-19T19:30:09.870750",
     "status": "completed"
    },
    "tags": []
   },
   "outputs": [
    {
     "data": {
      "text/plain": [
       "<AxesSubplot:ylabel='PRODUCT'>"
      ]
     },
     "execution_count": 7,
     "metadata": {},
     "output_type": "execute_result"
    },
    {
     "data": {
      "image/png": "[encoded data removed]",
      "text/plain": [
       "<Figure size 432x288 with 1 Axes>"
      ]
     },
     "metadata": {
      "needs_background": "light"
     },
     "output_type": "display_data"
    }
   ],
   "source": [
    "df_pivot_diff.sort_values(\"stamp_2\", ascending = False)[\"stamp_2\"].head(10).plot.barh()"
   ]
  },
  {
   "cell_type": "code",
   "execution_count": null,
   "id": "extra-executive",
   "metadata": {
    "papermill": {
     "duration": 0.022038,
     "end_time": "2021-10-19T19:30:11.461817",
     "exception": false,
     "start_time": "2021-10-19T19:30:11.439779",
     "status": "completed"
    },
    "tags": []
   },
   "outputs": [],
   "source": []
  }
 ],
 "metadata": {
  "kernelspec": {
   "display_name": "Python 3",
   "language": "python",
   "name": "python3"
  },
  "language_info": {
   "codemirror_mode": {
    "name": "ipython",
    "version": 3
   },
   "file_extension": ".py",
   "mimetype": "text/x-python",
   "name": "python",
   "nbconvert_exporter": "python",
   "pygments_lexer": "ipython3",
   "version": "3.9.5"
  },
  "papermill": {
   "default_parameters": {},
   "duration": 7.818539,
   "end_time": "2021-10-19T19:30:12.631774",
   "environment_variables": {},
   "exception": null,
   "input_path": "eBay_Overview.ipynb",
   "output_path": "eBay_Overview.ipynb",
   "parameters": {},
   "start_time": "2021-10-19T19:30:04.813235",
   "version": "2.3.3"
  }
 },
 "nbformat": 4,
 "nbformat_minor": 5
}