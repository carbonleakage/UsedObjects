{
 "cells": [
  {
   "cell_type": "code",
   "execution_count": 1,
   "id": "reverse-picking",
   "metadata": {
    "execution": {
     "iopub.execute_input": "2021-10-02T04:00:07.280802Z",
     "iopub.status.busy": "2021-10-02T04:00:07.278896Z",
     "iopub.status.idle": "2021-10-02T04:00:08.084296Z",
     "shell.execute_reply": "2021-10-02T04:00:08.085549Z"
    },
    "papermill": {
     "duration": 0.857613,
     "end_time": "2021-10-02T04:00:08.086165",
     "exception": false,
     "start_time": "2021-10-02T04:00:07.228552",
     "status": "completed"
    },
    "tags": []
   },
   "outputs": [],
   "source": [
    "import pandas as pd\n",
    "import sqlite3"
   ]
  },
  {
   "cell_type": "code",
   "execution_count": 2,
   "id": "innovative-syndrome",
   "metadata": {
    "execution": {
     "iopub.execute_input": "2021-10-02T04:00:08.136677Z",
     "iopub.status.busy": "2021-10-02T04:00:08.134713Z",
     "iopub.status.idle": "2021-10-02T04:00:08.557827Z",
     "shell.execute_reply": "2021-10-02T04:00:08.559297Z"
    },
    "papermill": {
     "duration": 0.452699,
     "end_time": "2021-10-02T04:00:08.559746",
     "exception": false,
     "start_time": "2021-10-02T04:00:08.107047",
     "status": "completed"
    },
    "tags": []
   },
   "outputs": [],
   "source": [
    "timestamps = pd.read_sql(\"select distinct record_time from EBAY_TOP_BERLIN order by record_time desc limit 2\", sqlite3.connect(\"UsedObjects.db\"))"
   ]
  },
  {
   "cell_type": "code",
   "execution_count": 3,
   "id": "periodic-identification",
   "metadata": {
    "execution": {
     "iopub.execute_input": "2021-10-02T04:00:08.625002Z",
     "iopub.status.busy": "2021-10-02T04:00:08.623003Z",
     "iopub.status.idle": "2021-10-02T04:00:08.643235Z",
     "shell.execute_reply": "2021-10-02T04:00:08.644619Z"
    },
    "papermill": {
     "duration": 0.065784,
     "end_time": "2021-10-02T04:00:08.645059",
     "exception": false,
     "start_time": "2021-10-02T04:00:08.579275",
     "status": "completed"
    },
    "tags": []
   },
   "outputs": [
    {
     "data": {
      "text/html": [
       "<div>\n",
       "<style scoped>\n",
       "    .dataframe tbody tr th:only-of-type {\n",
       "        vertical-align: middle;\n",
       "    }\n",
       "\n",
       "    .dataframe tbody tr th {\n",
       "        vertical-align: top;\n",
       "    }\n",
       "\n",
       "    .dataframe thead th {\n",
       "        text-align: right;\n",
       "    }\n",
       "</style>\n",
       "<table border=\"1\" class=\"dataframe\">\n",
       "  <thead>\n",
       "    <tr style=\"text-align: right;\">\n",
       "      <th></th>\n",
       "      <th>RECORD_TIME</th>\n",
       "    </tr>\n",
       "  </thead>\n",
       "  <tbody>\n",
       "    <tr>\n",
       "      <th>0</th>\n",
       "      <td>2021-10-02 06:00</td>\n",
       "    </tr>\n",
       "    <tr>\n",
       "      <th>1</th>\n",
       "      <td>2021-10-02 05:30</td>\n",
       "    </tr>\n",
       "  </tbody>\n",
       "</table>\n",
       "</div>"
      ],
      "text/plain": [
       "        RECORD_TIME\n",
       "0  2021-10-02 06:00\n",
       "1  2021-10-02 05:30"
      ]
     },
     "execution_count": 3,
     "metadata": {},
     "output_type": "execute_result"
    }
   ],
   "source": [
    "timestamps"
   ]
  },
  {
   "cell_type": "code",
   "execution_count": 4,
   "id": "alternate-victory",
   "metadata": {
    "execution": {
     "iopub.execute_input": "2021-10-02T04:00:08.696774Z",
     "iopub.status.busy": "2021-10-02T04:00:08.694933Z",
     "iopub.status.idle": "2021-10-02T04:00:09.328301Z",
     "shell.execute_reply": "2021-10-02T04:00:09.326952Z"
    },
    "papermill": {
     "duration": 0.661894,
     "end_time": "2021-10-02T04:00:09.328635",
     "exception": false,
     "start_time": "2021-10-02T04:00:08.666741",
     "status": "completed"
    },
    "tags": []
   },
   "outputs": [],
   "source": [
    "df = pd.read_sql(\"select * from EBAY_TOP_BERLIN where record_time in (select distinct record_time from EBAY_TOP_BERLIN order by record_time desc limit 2)\", sqlite3.connect(\"UsedObjects.db\"))"
   ]
  },
  {
   "cell_type": "code",
   "execution_count": 5,
   "id": "popular-active",
   "metadata": {
    "execution": {
     "iopub.execute_input": "2021-10-02T04:00:09.408363Z",
     "iopub.status.busy": "2021-10-02T04:00:09.399912Z",
     "iopub.status.idle": "2021-10-02T04:00:09.430157Z",
     "shell.execute_reply": "2021-10-02T04:00:09.431514Z"
    },
    "papermill": {
     "duration": 0.073649,
     "end_time": "2021-10-02T04:00:09.431946",
     "exception": false,
     "start_time": "2021-10-02T04:00:09.358297",
     "status": "completed"
    },
    "tags": []
   },
   "outputs": [],
   "source": [
    "df_pivot = df.pivot_table(index=\"PRODUCT\", columns = \"RECORD_TIME\", values = \"LISTING_COUNT\")"
   ]
  },
  {
   "cell_type": "code",
   "execution_count": 6,
   "id": "union-huntington",
   "metadata": {
    "execution": {
     "iopub.execute_input": "2021-10-02T04:00:09.487780Z",
     "iopub.status.busy": "2021-10-02T04:00:09.485703Z",
     "iopub.status.idle": "2021-10-02T04:00:09.491047Z",
     "shell.execute_reply": "2021-10-02T04:00:09.492480Z"
    },
    "papermill": {
     "duration": 0.040827,
     "end_time": "2021-10-02T04:00:09.492914",
     "exception": false,
     "start_time": "2021-10-02T04:00:09.452087",
     "status": "completed"
    },
    "tags": []
   },
   "outputs": [],
   "source": [
    "df_pivot.columns = [\"stamp_1\", \"stamp_2\"]\n",
    "df_pivot_diff = df_pivot.diff(axis=1)"
   ]
  },
  {
   "cell_type": "code",
   "execution_count": 7,
   "id": "fifth-motion",
   "metadata": {
    "execution": {
     "iopub.execute_input": "2021-10-02T04:00:09.548185Z",
     "iopub.status.busy": "2021-10-02T04:00:09.545612Z",
     "iopub.status.idle": "2021-10-02T04:00:11.060622Z",
     "shell.execute_reply": "2021-10-02T04:00:11.061911Z"
    },
    "papermill": {
     "duration": 1.548118,
     "end_time": "2021-10-02T04:00:11.062334",
     "exception": false,
     "start_time": "2021-10-02T04:00:09.514216",
     "status": "completed"
    },
    "tags": []
   },
   "outputs": [
    {
     "data": {
      "text/plain": [
       "<AxesSubplot:ylabel='PRODUCT'>"
      ]
     },
     "execution_count": 7,
     "metadata": {},
     "output_type": "execute_result"
    },
    {
     "data": {
      "image/png": "[encoded data removed]",
      "text/plain": [
       "<Figure size 432x288 with 1 Axes>"
      ]
     },
     "metadata": {
      "needs_background": "light"
     },
     "output_type": "display_data"
    }
   ],
   "source": [
    "df_pivot_diff.sort_values(\"stamp_2\", ascending = False)[\"stamp_2\"].head(10).plot.barh()"
   ]
  },
  {
   "cell_type": "code",
   "execution_count": null,
   "id": "extra-executive",
   "metadata": {
    "papermill": {
     "duration": 0.022514,
     "end_time": "2021-10-02T04:00:11.110358",
     "exception": false,
     "start_time": "2021-10-02T04:00:11.087844",
     "status": "completed"
    },
    "tags": []
   },
   "outputs": [],
   "source": []
  }
 ],
 "metadata": {
  "kernelspec": {
   "display_name": "Python 3",
   "language": "python",
   "name": "python3"
  },
  "language_info": {
   "codemirror_mode": {
    "name": "ipython",
    "version": 3
   },
   "file_extension": ".py",
   "mimetype": "text/x-python",
   "name": "python",
   "nbconvert_exporter": "python",
   "pygments_lexer": "ipython3",
   "version": "3.9.5"
  },
  "papermill": {
   "default_parameters": {},
   "duration": 7.833878,
   "end_time": "2021-10-02T04:00:12.661098",
   "environment_variables": {},
   "exception": null,
   "input_path": "eBay_Overview.ipynb",
   "output_path": "eBay_Overview.ipynb",
   "parameters": {},
   "start_time": "2021-10-02T04:00:04.827220",
   "version": "2.3.3"
  }
 },
 "nbformat": 4,
 "nbformat_minor": 5
}