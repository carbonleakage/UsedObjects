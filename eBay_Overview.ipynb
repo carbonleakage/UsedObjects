{
 "cells": [
  {
   "cell_type": "code",
   "execution_count": 1,
   "id": "reverse-picking",
   "metadata": {
    "execution": {
     "iopub.execute_input": "2021-09-06T21:00:06.684905Z",
     "iopub.status.busy": "2021-09-06T21:00:06.682827Z",
     "iopub.status.idle": "2021-09-06T21:00:07.493867Z",
     "shell.execute_reply": "2021-09-06T21:00:07.492304Z"
    },
    "papermill": {
     "duration": 0.862135,
     "end_time": "2021-09-06T21:00:07.494258",
     "exception": false,
     "start_time": "2021-09-06T21:00:06.632123",
     "status": "completed"
    },
    "tags": []
   },
   "outputs": [],
   "source": [
    "import pandas as pd\n",
    "import sqlite3"
   ]
  },
  {
   "cell_type": "code",
   "execution_count": 2,
   "id": "innovative-syndrome",
   "metadata": {
    "execution": {
     "iopub.execute_input": "2021-09-06T21:00:07.548424Z",
     "iopub.status.busy": "2021-09-06T21:00:07.545995Z",
     "iopub.status.idle": "2021-09-06T21:00:07.768003Z",
     "shell.execute_reply": "2021-09-06T21:00:07.769152Z"
    },
    "papermill": {
     "duration": 0.252121,
     "end_time": "2021-09-06T21:00:07.769565",
     "exception": false,
     "start_time": "2021-09-06T21:00:07.517444",
     "status": "completed"
    },
    "tags": []
   },
   "outputs": [],
   "source": [
    "timestamps = pd.read_sql(\"select distinct record_time from EBAY_TOP_BERLIN order by record_time desc limit 2\", sqlite3.connect(\"UsedObjects.db\"))"
   ]
  },
  {
   "cell_type": "code",
   "execution_count": 3,
   "id": "periodic-identification",
   "metadata": {
    "execution": {
     "iopub.execute_input": "2021-09-06T21:00:07.838071Z",
     "iopub.status.busy": "2021-09-06T21:00:07.836008Z",
     "iopub.status.idle": "2021-09-06T21:00:07.856257Z",
     "shell.execute_reply": "2021-09-06T21:00:07.857480Z"
    },
    "papermill": {
     "duration": 0.066009,
     "end_time": "2021-09-06T21:00:07.857918",
     "exception": false,
     "start_time": "2021-09-06T21:00:07.791909",
     "status": "completed"
    },
    "tags": []
   },
   "outputs": [
    {
     "data": {
      "text/html": [
       "<div>\n",
       "<style scoped>\n",
       "    .dataframe tbody tr th:only-of-type {\n",
       "        vertical-align: middle;\n",
       "    }\n",
       "\n",
       "    .dataframe tbody tr th {\n",
       "        vertical-align: top;\n",
       "    }\n",
       "\n",
       "    .dataframe thead th {\n",
       "        text-align: right;\n",
       "    }\n",
       "</style>\n",
       "<table border=\"1\" class=\"dataframe\">\n",
       "  <thead>\n",
       "    <tr style=\"text-align: right;\">\n",
       "      <th></th>\n",
       "      <th>RECORD_TIME</th>\n",
       "    </tr>\n",
       "  </thead>\n",
       "  <tbody>\n",
       "    <tr>\n",
       "      <th>0</th>\n",
       "      <td>2021-09-06 23:00</td>\n",
       "    </tr>\n",
       "    <tr>\n",
       "      <th>1</th>\n",
       "      <td>2021-09-06 22:30</td>\n",
       "    </tr>\n",
       "  </tbody>\n",
       "</table>\n",
       "</div>"
      ],
      "text/plain": [
       "        RECORD_TIME\n",
       "0  2021-09-06 23:00\n",
       "1  2021-09-06 22:30"
      ]
     },
     "execution_count": 3,
     "metadata": {},
     "output_type": "execute_result"
    }
   ],
   "source": [
    "timestamps"
   ]
  },
  {
   "cell_type": "code",
   "execution_count": 4,
   "id": "alternate-victory",
   "metadata": {
    "execution": {
     "iopub.execute_input": "2021-09-06T21:00:07.910082Z",
     "iopub.status.busy": "2021-09-06T21:00:07.908211Z",
     "iopub.status.idle": "2021-09-06T21:00:08.247991Z",
     "shell.execute_reply": "2021-09-06T21:00:08.249459Z"
    },
    "papermill": {
     "duration": 0.370003,
     "end_time": "2021-09-06T21:00:08.249906",
     "exception": false,
     "start_time": "2021-09-06T21:00:07.879903",
     "status": "completed"
    },
    "tags": []
   },
   "outputs": [],
   "source": [
    "df = pd.read_sql(\"select * from EBAY_TOP_BERLIN where record_time in (select distinct record_time from EBAY_TOP_BERLIN order by record_time desc limit 2)\", sqlite3.connect(\"UsedObjects.db\"))"
   ]
  },
  {
   "cell_type": "code",
   "execution_count": 5,
   "id": "popular-active",
   "metadata": {
    "execution": {
     "iopub.execute_input": "2021-09-06T21:00:08.339873Z",
     "iopub.status.busy": "2021-09-06T21:00:08.327893Z",
     "iopub.status.idle": "2021-09-06T21:00:08.356403Z",
     "shell.execute_reply": "2021-09-06T21:00:08.357647Z"
    },
    "papermill": {
     "duration": 0.075886,
     "end_time": "2021-09-06T21:00:08.358045",
     "exception": false,
     "start_time": "2021-09-06T21:00:08.282159",
     "status": "completed"
    },
    "tags": []
   },
   "outputs": [],
   "source": [
    "df_pivot = df.pivot_table(index=\"PRODUCT\", columns = \"RECORD_TIME\", values = \"LISTING_COUNT\")"
   ]
  },
  {
   "cell_type": "code",
   "execution_count": 6,
   "id": "union-huntington",
   "metadata": {
    "execution": {
     "iopub.execute_input": "2021-09-06T21:00:08.414210Z",
     "iopub.status.busy": "2021-09-06T21:00:08.412142Z",
     "iopub.status.idle": "2021-09-06T21:00:08.418795Z",
     "shell.execute_reply": "2021-09-06T21:00:08.417388Z"
    },
    "papermill": {
     "duration": 0.040548,
     "end_time": "2021-09-06T21:00:08.419268",
     "exception": false,
     "start_time": "2021-09-06T21:00:08.378720",
     "status": "completed"
    },
    "tags": []
   },
   "outputs": [],
   "source": [
    "df_pivot.columns = [\"stamp_1\", \"stamp_2\"]\n",
    "df_pivot_diff = df_pivot.diff(axis=1)"
   ]
  },
  {
   "cell_type": "code",
   "execution_count": 7,
   "id": "fifth-motion",
   "metadata": {
    "execution": {
     "iopub.execute_input": "2021-09-06T21:00:08.474229Z",
     "iopub.status.busy": "2021-09-06T21:00:08.471558Z",
     "iopub.status.idle": "2021-09-06T21:00:09.964888Z",
     "shell.execute_reply": "2021-09-06T21:00:09.966546Z"
    },
    "papermill": {
     "duration": 1.527586,
     "end_time": "2021-09-06T21:00:09.967101",
     "exception": false,
     "start_time": "2021-09-06T21:00:08.439515",
     "status": "completed"
    },
    "tags": []
   },
   "outputs": [
    {
     "data": {
      "text/plain": [
       "<AxesSubplot:ylabel='PRODUCT'>"
      ]
     },
     "execution_count": 7,
     "metadata": {},
     "output_type": "execute_result"
    },
    {
     "data": {
      "image/png": "[encoded data removed]",
      "text/plain": [
       "<Figure size 432x288 with 1 Axes>"
      ]
     },
     "metadata": {
      "needs_background": "light"
     },
     "output_type": "display_data"
    }
   ],
   "source": [
    "df_pivot_diff.sort_values(\"stamp_2\", ascending = False)[\"stamp_2\"].head(10).plot.barh()"
   ]
  },
  {
   "cell_type": "code",
   "execution_count": null,
   "id": "extra-executive",
   "metadata": {
    "papermill": {
     "duration": 0.022192,
     "end_time": "2021-09-06T21:00:10.014231",
     "exception": false,
     "start_time": "2021-09-06T21:00:09.992039",
     "status": "completed"
    },
    "tags": []
   },
   "outputs": [],
   "source": []
  }
 ],
 "metadata": {
  "kernelspec": {
   "display_name": "Python 3",
   "language": "python",
   "name": "python3"
  },
  "language_info": {
   "codemirror_mode": {
    "name": "ipython",
    "version": 3
   },
   "file_extension": ".py",
   "mimetype": "text/x-python",
   "name": "python",
   "nbconvert_exporter": "python",
   "pygments_lexer": "ipython3",
   "version": "3.9.5"
  },
  "papermill": {
   "default_parameters": {},
   "duration": 6.437791,
   "end_time": "2021-09-06T21:00:10.655560",
   "environment_variables": {},
   "exception": null,
   "input_path": "eBay_Overview.ipynb",
   "output_path": "eBay_Overview.ipynb",
   "parameters": {},
   "start_time": "2021-09-06T21:00:04.217769",
   "version": "2.3.3"
  }
 },
 "nbformat": 4,
 "nbformat_minor": 5
}