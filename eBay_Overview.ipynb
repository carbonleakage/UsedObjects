{
 "cells": [
  {
   "cell_type": "code",
   "execution_count": 1,
   "id": "reverse-picking",
   "metadata": {
    "execution": {
     "iopub.execute_input": "2021-10-04T20:30:07.075871Z",
     "iopub.status.busy": "2021-10-04T20:30:07.073834Z",
     "iopub.status.idle": "2021-10-04T20:30:07.884164Z",
     "shell.execute_reply": "2021-10-04T20:30:07.885401Z"
    },
    "papermill": {
     "duration": 0.861987,
     "end_time": "2021-10-04T20:30:07.886008",
     "exception": false,
     "start_time": "2021-10-04T20:30:07.024021",
     "status": "completed"
    },
    "tags": []
   },
   "outputs": [],
   "source": [
    "import pandas as pd\n",
    "import sqlite3"
   ]
  },
  {
   "cell_type": "code",
   "execution_count": 2,
   "id": "innovative-syndrome",
   "metadata": {
    "execution": {
     "iopub.execute_input": "2021-10-04T20:30:07.940165Z",
     "iopub.status.busy": "2021-10-04T20:30:07.937781Z",
     "iopub.status.idle": "2021-10-04T20:30:08.393408Z",
     "shell.execute_reply": "2021-10-04T20:30:08.394667Z"
    },
    "papermill": {
     "duration": 0.485777,
     "end_time": "2021-10-04T20:30:08.395142",
     "exception": false,
     "start_time": "2021-10-04T20:30:07.909365",
     "status": "completed"
    },
    "tags": []
   },
   "outputs": [],
   "source": [
    "timestamps = pd.read_sql(\"select distinct record_time from EBAY_TOP_BERLIN order by record_time desc limit 2\", sqlite3.connect(\"UsedObjects.db\"))"
   ]
  },
  {
   "cell_type": "code",
   "execution_count": 3,
   "id": "periodic-identification",
   "metadata": {
    "execution": {
     "iopub.execute_input": "2021-10-04T20:30:08.461801Z",
     "iopub.status.busy": "2021-10-04T20:30:08.459811Z",
     "iopub.status.idle": "2021-10-04T20:30:08.479726Z",
     "shell.execute_reply": "2021-10-04T20:30:08.480864Z"
    },
    "papermill": {
     "duration": 0.06549,
     "end_time": "2021-10-04T20:30:08.481272",
     "exception": false,
     "start_time": "2021-10-04T20:30:08.415782",
     "status": "completed"
    },
    "tags": []
   },
   "outputs": [
    {
     "data": {
      "text/html": [
       "<div>\n",
       "<style scoped>\n",
       "    .dataframe tbody tr th:only-of-type {\n",
       "        vertical-align: middle;\n",
       "    }\n",
       "\n",
       "    .dataframe tbody tr th {\n",
       "        vertical-align: top;\n",
       "    }\n",
       "\n",
       "    .dataframe thead th {\n",
       "        text-align: right;\n",
       "    }\n",
       "</style>\n",
       "<table border=\"1\" class=\"dataframe\">\n",
       "  <thead>\n",
       "    <tr style=\"text-align: right;\">\n",
       "      <th></th>\n",
       "      <th>RECORD_TIME</th>\n",
       "    </tr>\n",
       "  </thead>\n",
       "  <tbody>\n",
       "    <tr>\n",
       "      <th>0</th>\n",
       "      <td>2021-10-04 22:30</td>\n",
       "    </tr>\n",
       "    <tr>\n",
       "      <th>1</th>\n",
       "      <td>2021-10-04 22:00</td>\n",
       "    </tr>\n",
       "  </tbody>\n",
       "</table>\n",
       "</div>"
      ],
      "text/plain": [
       "        RECORD_TIME\n",
       "0  2021-10-04 22:30\n",
       "1  2021-10-04 22:00"
      ]
     },
     "execution_count": 3,
     "metadata": {},
     "output_type": "execute_result"
    }
   ],
   "source": [
    "timestamps"
   ]
  },
  {
   "cell_type": "code",
   "execution_count": 4,
   "id": "alternate-victory",
   "metadata": {
    "execution": {
     "iopub.execute_input": "2021-10-04T20:30:08.544352Z",
     "iopub.status.busy": "2021-10-04T20:30:08.542272Z",
     "iopub.status.idle": "2021-10-04T20:30:09.216526Z",
     "shell.execute_reply": "2021-10-04T20:30:09.217790Z"
    },
    "papermill": {
     "duration": 0.707489,
     "end_time": "2021-10-04T20:30:09.218202",
     "exception": false,
     "start_time": "2021-10-04T20:30:08.510713",
     "status": "completed"
    },
    "tags": []
   },
   "outputs": [],
   "source": [
    "df = pd.read_sql(\"select * from EBAY_TOP_BERLIN where record_time in (select distinct record_time from EBAY_TOP_BERLIN order by record_time desc limit 2)\", sqlite3.connect(\"UsedObjects.db\"))"
   ]
  },
  {
   "cell_type": "code",
   "execution_count": 5,
   "id": "popular-active",
   "metadata": {
    "execution": {
     "iopub.execute_input": "2021-10-04T20:30:09.283953Z",
     "iopub.status.busy": "2021-10-04T20:30:09.276587Z",
     "iopub.status.idle": "2021-10-04T20:30:09.304655Z",
     "shell.execute_reply": "2021-10-04T20:30:09.305862Z"
    },
    "papermill": {
     "duration": 0.067333,
     "end_time": "2021-10-04T20:30:09.306255",
     "exception": false,
     "start_time": "2021-10-04T20:30:09.238922",
     "status": "completed"
    },
    "tags": []
   },
   "outputs": [],
   "source": [
    "df_pivot = df.pivot_table(index=\"PRODUCT\", columns = \"RECORD_TIME\", values = \"LISTING_COUNT\")"
   ]
  },
  {
   "cell_type": "code",
   "execution_count": 6,
   "id": "union-huntington",
   "metadata": {
    "execution": {
     "iopub.execute_input": "2021-10-04T20:30:09.365837Z",
     "iopub.status.busy": "2021-10-04T20:30:09.363413Z",
     "iopub.status.idle": "2021-10-04T20:30:09.369671Z",
     "shell.execute_reply": "2021-10-04T20:30:09.371204Z"
    },
    "papermill": {
     "duration": 0.043076,
     "end_time": "2021-10-04T20:30:09.371687",
     "exception": false,
     "start_time": "2021-10-04T20:30:09.328611",
     "status": "completed"
    },
    "tags": []
   },
   "outputs": [],
   "source": [
    "df_pivot.columns = [\"stamp_1\", \"stamp_2\"]\n",
    "df_pivot_diff = df_pivot.diff(axis=1)"
   ]
  },
  {
   "cell_type": "code",
   "execution_count": 7,
   "id": "fifth-motion",
   "metadata": {
    "execution": {
     "iopub.execute_input": "2021-10-04T20:30:09.426927Z",
     "iopub.status.busy": "2021-10-04T20:30:09.424608Z",
     "iopub.status.idle": "2021-10-04T20:30:10.900829Z",
     "shell.execute_reply": "2021-10-04T20:30:10.902113Z"
    },
    "papermill": {
     "duration": 1.508809,
     "end_time": "2021-10-04T20:30:10.902527",
     "exception": false,
     "start_time": "2021-10-04T20:30:09.393718",
     "status": "completed"
    },
    "tags": []
   },
   "outputs": [
    {
     "data": {
      "text/plain": [
       "<AxesSubplot:ylabel='PRODUCT'>"
      ]
     },
     "execution_count": 7,
     "metadata": {},
     "output_type": "execute_result"
    },
    {
     "data": {
      "image/png": "[encoded data removed]",
      "text/plain": [
       "<Figure size 432x288 with 1 Axes>"
      ]
     },
     "metadata": {
      "needs_background": "light"
     },
     "output_type": "display_data"
    }
   ],
   "source": [
    "df_pivot_diff.sort_values(\"stamp_2\", ascending = False)[\"stamp_2\"].head(10).plot.barh()"
   ]
  },
  {
   "cell_type": "code",
   "execution_count": null,
   "id": "extra-executive",
   "metadata": {
    "papermill": {
     "duration": 0.022212,
     "end_time": "2021-10-04T20:30:10.949661",
     "exception": false,
     "start_time": "2021-10-04T20:30:10.927449",
     "status": "completed"
    },
    "tags": []
   },
   "outputs": [],
   "source": []
  }
 ],
 "metadata": {
  "kernelspec": {
   "display_name": "Python 3",
   "language": "python",
   "name": "python3"
  },
  "language_info": {
   "codemirror_mode": {
    "name": "ipython",
    "version": 3
   },
   "file_extension": ".py",
   "mimetype": "text/x-python",
   "name": "python",
   "nbconvert_exporter": "python",
   "pygments_lexer": "ipython3",
   "version": "3.9.5"
  },
  "papermill": {
   "default_parameters": {},
   "duration": 7.819688,
   "end_time": "2021-10-04T20:30:12.437668",
   "environment_variables": {},
   "exception": null,
   "input_path": "eBay_Overview.ipynb",
   "output_path": "eBay_Overview.ipynb",
   "parameters": {},
   "start_time": "2021-10-04T20:30:04.617980",
   "version": "2.3.3"
  }
 },
 "nbformat": 4,
 "nbformat_minor": 5
}