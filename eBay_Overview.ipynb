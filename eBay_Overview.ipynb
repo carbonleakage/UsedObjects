{
 "cells": [
  {
   "cell_type": "code",
   "execution_count": 1,
   "id": "reverse-picking",
   "metadata": {
    "execution": {
     "iopub.execute_input": "2021-09-14T18:30:06.653067Z",
     "iopub.status.busy": "2021-09-14T18:30:06.651141Z",
     "iopub.status.idle": "2021-09-14T18:30:07.452652Z",
     "shell.execute_reply": "2021-09-14T18:30:07.453986Z"
    },
    "papermill": {
     "duration": 0.855168,
     "end_time": "2021-09-14T18:30:07.454629",
     "exception": false,
     "start_time": "2021-09-14T18:30:06.599461",
     "status": "completed"
    },
    "tags": []
   },
   "outputs": [],
   "source": [
    "import pandas as pd\n",
    "import sqlite3"
   ]
  },
  {
   "cell_type": "code",
   "execution_count": 2,
   "id": "innovative-syndrome",
   "metadata": {
    "execution": {
     "iopub.execute_input": "2021-09-14T18:30:07.505368Z",
     "iopub.status.busy": "2021-09-14T18:30:07.503005Z",
     "iopub.status.idle": "2021-09-14T18:30:07.804335Z",
     "shell.execute_reply": "2021-09-14T18:30:07.805548Z"
    },
    "papermill": {
     "duration": 0.33113,
     "end_time": "2021-09-14T18:30:07.805940",
     "exception": false,
     "start_time": "2021-09-14T18:30:07.474810",
     "status": "completed"
    },
    "tags": []
   },
   "outputs": [],
   "source": [
    "timestamps = pd.read_sql(\"select distinct record_time from EBAY_TOP_BERLIN order by record_time desc limit 2\", sqlite3.connect(\"UsedObjects.db\"))"
   ]
  },
  {
   "cell_type": "code",
   "execution_count": 3,
   "id": "periodic-identification",
   "metadata": {
    "execution": {
     "iopub.execute_input": "2021-09-14T18:30:07.870413Z",
     "iopub.status.busy": "2021-09-14T18:30:07.868396Z",
     "iopub.status.idle": "2021-09-14T18:30:07.888199Z",
     "shell.execute_reply": "2021-09-14T18:30:07.889505Z"
    },
    "papermill": {
     "duration": 0.062948,
     "end_time": "2021-09-14T18:30:07.889917",
     "exception": false,
     "start_time": "2021-09-14T18:30:07.826969",
     "status": "completed"
    },
    "tags": []
   },
   "outputs": [
    {
     "data": {
      "text/html": [
       "<div>\n",
       "<style scoped>\n",
       "    .dataframe tbody tr th:only-of-type {\n",
       "        vertical-align: middle;\n",
       "    }\n",
       "\n",
       "    .dataframe tbody tr th {\n",
       "        vertical-align: top;\n",
       "    }\n",
       "\n",
       "    .dataframe thead th {\n",
       "        text-align: right;\n",
       "    }\n",
       "</style>\n",
       "<table border=\"1\" class=\"dataframe\">\n",
       "  <thead>\n",
       "    <tr style=\"text-align: right;\">\n",
       "      <th></th>\n",
       "      <th>RECORD_TIME</th>\n",
       "    </tr>\n",
       "  </thead>\n",
       "  <tbody>\n",
       "    <tr>\n",
       "      <th>0</th>\n",
       "      <td>2021-09-14 20:30</td>\n",
       "    </tr>\n",
       "    <tr>\n",
       "      <th>1</th>\n",
       "      <td>2021-09-14 20:00</td>\n",
       "    </tr>\n",
       "  </tbody>\n",
       "</table>\n",
       "</div>"
      ],
      "text/plain": [
       "        RECORD_TIME\n",
       "0  2021-09-14 20:30\n",
       "1  2021-09-14 20:00"
      ]
     },
     "execution_count": 3,
     "metadata": {},
     "output_type": "execute_result"
    }
   ],
   "source": [
    "timestamps"
   ]
  },
  {
   "cell_type": "code",
   "execution_count": 4,
   "id": "alternate-victory",
   "metadata": {
    "execution": {
     "iopub.execute_input": "2021-09-14T18:30:07.940511Z",
     "iopub.status.busy": "2021-09-14T18:30:07.938555Z",
     "iopub.status.idle": "2021-09-14T18:30:08.364881Z",
     "shell.execute_reply": "2021-09-14T18:30:08.366182Z"
    },
    "papermill": {
     "duration": 0.456195,
     "end_time": "2021-09-14T18:30:08.366594",
     "exception": false,
     "start_time": "2021-09-14T18:30:07.910399",
     "status": "completed"
    },
    "tags": []
   },
   "outputs": [],
   "source": [
    "df = pd.read_sql(\"select * from EBAY_TOP_BERLIN where record_time in (select distinct record_time from EBAY_TOP_BERLIN order by record_time desc limit 2)\", sqlite3.connect(\"UsedObjects.db\"))"
   ]
  },
  {
   "cell_type": "code",
   "execution_count": 5,
   "id": "popular-active",
   "metadata": {
    "execution": {
     "iopub.execute_input": "2021-09-14T18:30:08.446081Z",
     "iopub.status.busy": "2021-09-14T18:30:08.434149Z",
     "iopub.status.idle": "2021-09-14T18:30:08.461812Z",
     "shell.execute_reply": "2021-09-14T18:30:08.463182Z"
    },
    "papermill": {
     "duration": 0.071403,
     "end_time": "2021-09-14T18:30:08.463595",
     "exception": false,
     "start_time": "2021-09-14T18:30:08.392192",
     "status": "completed"
    },
    "tags": []
   },
   "outputs": [],
   "source": [
    "df_pivot = df.pivot_table(index=\"PRODUCT\", columns = \"RECORD_TIME\", values = \"LISTING_COUNT\")"
   ]
  },
  {
   "cell_type": "code",
   "execution_count": 6,
   "id": "union-huntington",
   "metadata": {
    "execution": {
     "iopub.execute_input": "2021-09-14T18:30:08.520182Z",
     "iopub.status.busy": "2021-09-14T18:30:08.518000Z",
     "iopub.status.idle": "2021-09-14T18:30:08.523597Z",
     "shell.execute_reply": "2021-09-14T18:30:08.524996Z"
    },
    "papermill": {
     "duration": 0.040786,
     "end_time": "2021-09-14T18:30:08.525424",
     "exception": false,
     "start_time": "2021-09-14T18:30:08.484638",
     "status": "completed"
    },
    "tags": []
   },
   "outputs": [],
   "source": [
    "df_pivot.columns = [\"stamp_1\", \"stamp_2\"]\n",
    "df_pivot_diff = df_pivot.diff(axis=1)"
   ]
  },
  {
   "cell_type": "code",
   "execution_count": 7,
   "id": "fifth-motion",
   "metadata": {
    "execution": {
     "iopub.execute_input": "2021-09-14T18:30:08.582507Z",
     "iopub.status.busy": "2021-09-14T18:30:08.579865Z",
     "iopub.status.idle": "2021-09-14T18:30:10.052596Z",
     "shell.execute_reply": "2021-09-14T18:30:10.053886Z"
    },
    "papermill": {
     "duration": 1.50654,
     "end_time": "2021-09-14T18:30:10.054295",
     "exception": false,
     "start_time": "2021-09-14T18:30:08.547755",
     "status": "completed"
    },
    "tags": []
   },
   "outputs": [
    {
     "data": {
      "text/plain": [
       "<AxesSubplot:ylabel='PRODUCT'>"
      ]
     },
     "execution_count": 7,
     "metadata": {},
     "output_type": "execute_result"
    },
    {
     "data": {
      "image/png": "[encoded data removed]",
      "text/plain": [
       "<Figure size 432x288 with 1 Axes>"
      ]
     },
     "metadata": {
      "needs_background": "light"
     },
     "output_type": "display_data"
    }
   ],
   "source": [
    "df_pivot_diff.sort_values(\"stamp_2\", ascending = False)[\"stamp_2\"].head(10).plot.barh()"
   ]
  },
  {
   "cell_type": "code",
   "execution_count": null,
   "id": "extra-executive",
   "metadata": {
    "papermill": {
     "duration": 0.02231,
     "end_time": "2021-09-14T18:30:10.100554",
     "exception": false,
     "start_time": "2021-09-14T18:30:10.078244",
     "status": "completed"
    },
    "tags": []
   },
   "outputs": [],
   "source": []
  }
 ],
 "metadata": {
  "kernelspec": {
   "display_name": "Python 3",
   "language": "python",
   "name": "python3"
  },
  "language_info": {
   "codemirror_mode": {
    "name": "ipython",
    "version": 3
   },
   "file_extension": ".py",
   "mimetype": "text/x-python",
   "name": "python",
   "nbconvert_exporter": "python",
   "pygments_lexer": "ipython3",
   "version": "3.9.5"
  },
  "papermill": {
   "default_parameters": {},
   "duration": 6.545631,
   "end_time": "2021-09-14T18:30:10.744171",
   "environment_variables": {},
   "exception": null,
   "input_path": "eBay_Overview.ipynb",
   "output_path": "eBay_Overview.ipynb",
   "parameters": {},
   "start_time": "2021-09-14T18:30:04.198540",
   "version": "2.3.3"
  }
 },
 "nbformat": 4,
 "nbformat_minor": 5
}