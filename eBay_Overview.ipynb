{
 "cells": [
  {
   "cell_type": "code",
   "execution_count": 1,
   "id": "reverse-picking",
   "metadata": {
    "execution": {
     "iopub.execute_input": "2021-10-04T10:30:07.268674Z",
     "iopub.status.busy": "2021-10-04T10:30:07.266713Z",
     "iopub.status.idle": "2021-10-04T10:30:08.072508Z",
     "shell.execute_reply": "2021-10-04T10:30:08.073738Z"
    },
    "papermill": {
     "duration": 0.857162,
     "end_time": "2021-10-04T10:30:08.074359",
     "exception": false,
     "start_time": "2021-10-04T10:30:07.217197",
     "status": "completed"
    },
    "tags": []
   },
   "outputs": [],
   "source": [
    "import pandas as pd\n",
    "import sqlite3"
   ]
  },
  {
   "cell_type": "code",
   "execution_count": 2,
   "id": "innovative-syndrome",
   "metadata": {
    "execution": {
     "iopub.execute_input": "2021-10-04T10:30:08.124517Z",
     "iopub.status.busy": "2021-10-04T10:30:08.122587Z",
     "iopub.status.idle": "2021-10-04T10:30:08.567113Z",
     "shell.execute_reply": "2021-10-04T10:30:08.568326Z"
    },
    "papermill": {
     "duration": 0.473688,
     "end_time": "2021-10-04T10:30:08.568716",
     "exception": false,
     "start_time": "2021-10-04T10:30:08.095028",
     "status": "completed"
    },
    "tags": []
   },
   "outputs": [],
   "source": [
    "timestamps = pd.read_sql(\"select distinct record_time from EBAY_TOP_BERLIN order by record_time desc limit 2\", sqlite3.connect(\"UsedObjects.db\"))"
   ]
  },
  {
   "cell_type": "code",
   "execution_count": 3,
   "id": "periodic-identification",
   "metadata": {
    "execution": {
     "iopub.execute_input": "2021-10-04T10:30:08.636642Z",
     "iopub.status.busy": "2021-10-04T10:30:08.634567Z",
     "iopub.status.idle": "2021-10-04T10:30:08.655143Z",
     "shell.execute_reply": "2021-10-04T10:30:08.656501Z"
    },
    "papermill": {
     "duration": 0.065857,
     "end_time": "2021-10-04T10:30:08.656974",
     "exception": false,
     "start_time": "2021-10-04T10:30:08.591117",
     "status": "completed"
    },
    "tags": []
   },
   "outputs": [
    {
     "data": {
      "text/html": [
       "<div>\n",
       "<style scoped>\n",
       "    .dataframe tbody tr th:only-of-type {\n",
       "        vertical-align: middle;\n",
       "    }\n",
       "\n",
       "    .dataframe tbody tr th {\n",
       "        vertical-align: top;\n",
       "    }\n",
       "\n",
       "    .dataframe thead th {\n",
       "        text-align: right;\n",
       "    }\n",
       "</style>\n",
       "<table border=\"1\" class=\"dataframe\">\n",
       "  <thead>\n",
       "    <tr style=\"text-align: right;\">\n",
       "      <th></th>\n",
       "      <th>RECORD_TIME</th>\n",
       "    </tr>\n",
       "  </thead>\n",
       "  <tbody>\n",
       "    <tr>\n",
       "      <th>0</th>\n",
       "      <td>2021-10-04 12:30</td>\n",
       "    </tr>\n",
       "    <tr>\n",
       "      <th>1</th>\n",
       "      <td>2021-10-04 12:00</td>\n",
       "    </tr>\n",
       "  </tbody>\n",
       "</table>\n",
       "</div>"
      ],
      "text/plain": [
       "        RECORD_TIME\n",
       "0  2021-10-04 12:30\n",
       "1  2021-10-04 12:00"
      ]
     },
     "execution_count": 3,
     "metadata": {},
     "output_type": "execute_result"
    }
   ],
   "source": [
    "timestamps"
   ]
  },
  {
   "cell_type": "code",
   "execution_count": 4,
   "id": "alternate-victory",
   "metadata": {
    "execution": {
     "iopub.execute_input": "2021-10-04T10:30:08.717914Z",
     "iopub.status.busy": "2021-10-04T10:30:08.715267Z",
     "iopub.status.idle": "2021-10-04T10:30:09.371801Z",
     "shell.execute_reply": "2021-10-04T10:30:09.373063Z"
    },
    "papermill": {
     "duration": 0.694237,
     "end_time": "2021-10-04T10:30:09.373456",
     "exception": false,
     "start_time": "2021-10-04T10:30:08.679219",
     "status": "completed"
    },
    "tags": []
   },
   "outputs": [],
   "source": [
    "df = pd.read_sql(\"select * from EBAY_TOP_BERLIN where record_time in (select distinct record_time from EBAY_TOP_BERLIN order by record_time desc limit 2)\", sqlite3.connect(\"UsedObjects.db\"))"
   ]
  },
  {
   "cell_type": "code",
   "execution_count": 5,
   "id": "popular-active",
   "metadata": {
    "execution": {
     "iopub.execute_input": "2021-10-04T10:30:09.442198Z",
     "iopub.status.busy": "2021-10-04T10:30:09.430271Z",
     "iopub.status.idle": "2021-10-04T10:30:09.459494Z",
     "shell.execute_reply": "2021-10-04T10:30:09.460942Z"
    },
    "papermill": {
     "duration": 0.067779,
     "end_time": "2021-10-04T10:30:09.461385",
     "exception": false,
     "start_time": "2021-10-04T10:30:09.393606",
     "status": "completed"
    },
    "tags": []
   },
   "outputs": [],
   "source": [
    "df_pivot = df.pivot_table(index=\"PRODUCT\", columns = \"RECORD_TIME\", values = \"LISTING_COUNT\")"
   ]
  },
  {
   "cell_type": "code",
   "execution_count": 6,
   "id": "union-huntington",
   "metadata": {
    "execution": {
     "iopub.execute_input": "2021-10-04T10:30:09.518665Z",
     "iopub.status.busy": "2021-10-04T10:30:09.516266Z",
     "iopub.status.idle": "2021-10-04T10:30:09.522273Z",
     "shell.execute_reply": "2021-10-04T10:30:09.523710Z"
    },
    "papermill": {
     "duration": 0.042496,
     "end_time": "2021-10-04T10:30:09.524152",
     "exception": false,
     "start_time": "2021-10-04T10:30:09.481656",
     "status": "completed"
    },
    "tags": []
   },
   "outputs": [],
   "source": [
    "df_pivot.columns = [\"stamp_1\", \"stamp_2\"]\n",
    "df_pivot_diff = df_pivot.diff(axis=1)"
   ]
  },
  {
   "cell_type": "code",
   "execution_count": 7,
   "id": "fifth-motion",
   "metadata": {
    "execution": {
     "iopub.execute_input": "2021-10-04T10:30:09.577991Z",
     "iopub.status.busy": "2021-10-04T10:30:09.575811Z",
     "iopub.status.idle": "2021-10-04T10:30:11.077077Z",
     "shell.execute_reply": "2021-10-04T10:30:11.078455Z"
    },
    "papermill": {
     "duration": 1.53368,
     "end_time": "2021-10-04T10:30:11.078941",
     "exception": false,
     "start_time": "2021-10-04T10:30:09.545261",
     "status": "completed"
    },
    "tags": []
   },
   "outputs": [
    {
     "data": {
      "text/plain": [
       "<AxesSubplot:ylabel='PRODUCT'>"
      ]
     },
     "execution_count": 7,
     "metadata": {},
     "output_type": "execute_result"
    },
    {
     "data": {
      "image/png": "[encoded data removed]",
      "text/plain": [
       "<Figure size 432x288 with 1 Axes>"
      ]
     },
     "metadata": {
      "needs_background": "light"
     },
     "output_type": "display_data"
    }
   ],
   "source": [
    "df_pivot_diff.sort_values(\"stamp_2\", ascending = False)[\"stamp_2\"].head(10).plot.barh()"
   ]
  },
  {
   "cell_type": "code",
   "execution_count": null,
   "id": "extra-executive",
   "metadata": {
    "papermill": {
     "duration": 0.022231,
     "end_time": "2021-10-04T10:30:11.124935",
     "exception": false,
     "start_time": "2021-10-04T10:30:11.102704",
     "status": "completed"
    },
    "tags": []
   },
   "outputs": [],
   "source": []
  }
 ],
 "metadata": {
  "kernelspec": {
   "display_name": "Python 3",
   "language": "python",
   "name": "python3"
  },
  "language_info": {
   "codemirror_mode": {
    "name": "ipython",
    "version": 3
   },
   "file_extension": ".py",
   "mimetype": "text/x-python",
   "name": "python",
   "nbconvert_exporter": "python",
   "pygments_lexer": "ipython3",
   "version": "3.9.5"
  },
  "papermill": {
   "default_parameters": {},
   "duration": 7.823977,
   "end_time": "2021-10-04T10:30:12.632768",
   "environment_variables": {},
   "exception": null,
   "input_path": "eBay_Overview.ipynb",
   "output_path": "eBay_Overview.ipynb",
   "parameters": {},
   "start_time": "2021-10-04T10:30:04.808791",
   "version": "2.3.3"
  }
 },
 "nbformat": 4,
 "nbformat_minor": 5
}