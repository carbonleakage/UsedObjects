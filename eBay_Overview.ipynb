{
 "cells": [
  {
   "cell_type": "code",
   "execution_count": 1,
   "id": "reverse-picking",
   "metadata": {
    "execution": {
     "iopub.execute_input": "2021-10-10T12:30:08.871489Z",
     "iopub.status.busy": "2021-10-10T12:30:08.869486Z",
     "iopub.status.idle": "2021-10-10T12:30:09.674848Z",
     "shell.execute_reply": "2021-10-10T12:30:09.676274Z"
    },
    "papermill": {
     "duration": 0.8577,
     "end_time": "2021-10-10T12:30:09.676929",
     "exception": false,
     "start_time": "2021-10-10T12:30:08.819229",
     "status": "completed"
    },
    "tags": []
   },
   "outputs": [],
   "source": [
    "import pandas as pd\n",
    "import sqlite3"
   ]
  },
  {
   "cell_type": "code",
   "execution_count": 2,
   "id": "innovative-syndrome",
   "metadata": {
    "execution": {
     "iopub.execute_input": "2021-10-10T12:30:09.727332Z",
     "iopub.status.busy": "2021-10-10T12:30:09.725262Z",
     "iopub.status.idle": "2021-10-10T12:30:10.220724Z",
     "shell.execute_reply": "2021-10-10T12:30:10.221929Z"
    },
    "papermill": {
     "duration": 0.525199,
     "end_time": "2021-10-10T12:30:10.222328",
     "exception": false,
     "start_time": "2021-10-10T12:30:09.697129",
     "status": "completed"
    },
    "tags": []
   },
   "outputs": [],
   "source": [
    "timestamps = pd.read_sql(\"select distinct record_time from EBAY_TOP_BERLIN order by record_time desc limit 2\", sqlite3.connect(\"UsedObjects.db\"))"
   ]
  },
  {
   "cell_type": "code",
   "execution_count": 3,
   "id": "periodic-identification",
   "metadata": {
    "execution": {
     "iopub.execute_input": "2021-10-10T12:30:10.288471Z",
     "iopub.status.busy": "2021-10-10T12:30:10.286376Z",
     "iopub.status.idle": "2021-10-10T12:30:10.306985Z",
     "shell.execute_reply": "2021-10-10T12:30:10.308296Z"
    },
    "papermill": {
     "duration": 0.066485,
     "end_time": "2021-10-10T12:30:10.308749",
     "exception": false,
     "start_time": "2021-10-10T12:30:10.242264",
     "status": "completed"
    },
    "tags": []
   },
   "outputs": [
    {
     "data": {
      "text/html": [
       "<div>\n",
       "<style scoped>\n",
       "    .dataframe tbody tr th:only-of-type {\n",
       "        vertical-align: middle;\n",
       "    }\n",
       "\n",
       "    .dataframe tbody tr th {\n",
       "        vertical-align: top;\n",
       "    }\n",
       "\n",
       "    .dataframe thead th {\n",
       "        text-align: right;\n",
       "    }\n",
       "</style>\n",
       "<table border=\"1\" class=\"dataframe\">\n",
       "  <thead>\n",
       "    <tr style=\"text-align: right;\">\n",
       "      <th></th>\n",
       "      <th>RECORD_TIME</th>\n",
       "    </tr>\n",
       "  </thead>\n",
       "  <tbody>\n",
       "    <tr>\n",
       "      <th>0</th>\n",
       "      <td>2021-10-10 14:30</td>\n",
       "    </tr>\n",
       "    <tr>\n",
       "      <th>1</th>\n",
       "      <td>2021-10-10 14:00</td>\n",
       "    </tr>\n",
       "  </tbody>\n",
       "</table>\n",
       "</div>"
      ],
      "text/plain": [
       "        RECORD_TIME\n",
       "0  2021-10-10 14:30\n",
       "1  2021-10-10 14:00"
      ]
     },
     "execution_count": 3,
     "metadata": {},
     "output_type": "execute_result"
    }
   ],
   "source": [
    "timestamps"
   ]
  },
  {
   "cell_type": "code",
   "execution_count": 4,
   "id": "alternate-victory",
   "metadata": {
    "execution": {
     "iopub.execute_input": "2021-10-10T12:30:10.370882Z",
     "iopub.status.busy": "2021-10-10T12:30:10.368692Z",
     "iopub.status.idle": "2021-10-10T12:30:11.121923Z",
     "shell.execute_reply": "2021-10-10T12:30:11.123199Z"
    },
    "papermill": {
     "duration": 0.788079,
     "end_time": "2021-10-10T12:30:11.123643",
     "exception": false,
     "start_time": "2021-10-10T12:30:10.335564",
     "status": "completed"
    },
    "tags": []
   },
   "outputs": [],
   "source": [
    "df = pd.read_sql(\"select * from EBAY_TOP_BERLIN where record_time in (select distinct record_time from EBAY_TOP_BERLIN order by record_time desc limit 2)\", sqlite3.connect(\"UsedObjects.db\"))"
   ]
  },
  {
   "cell_type": "code",
   "execution_count": 5,
   "id": "popular-active",
   "metadata": {
    "execution": {
     "iopub.execute_input": "2021-10-10T12:30:11.193712Z",
     "iopub.status.busy": "2021-10-10T12:30:11.181586Z",
     "iopub.status.idle": "2021-10-10T12:30:11.211495Z",
     "shell.execute_reply": "2021-10-10T12:30:11.212883Z"
    },
    "papermill": {
     "duration": 0.069329,
     "end_time": "2021-10-10T12:30:11.213323",
     "exception": false,
     "start_time": "2021-10-10T12:30:11.143994",
     "status": "completed"
    },
    "tags": []
   },
   "outputs": [],
   "source": [
    "df_pivot = df.pivot_table(index=\"PRODUCT\", columns = \"RECORD_TIME\", values = \"LISTING_COUNT\")"
   ]
  },
  {
   "cell_type": "code",
   "execution_count": 6,
   "id": "union-huntington",
   "metadata": {
    "execution": {
     "iopub.execute_input": "2021-10-10T12:30:11.270375Z",
     "iopub.status.busy": "2021-10-10T12:30:11.268314Z",
     "iopub.status.idle": "2021-10-10T12:30:11.273476Z",
     "shell.execute_reply": "2021-10-10T12:30:11.274756Z"
    },
    "papermill": {
     "duration": 0.041747,
     "end_time": "2021-10-10T12:30:11.275235",
     "exception": false,
     "start_time": "2021-10-10T12:30:11.233488",
     "status": "completed"
    },
    "tags": []
   },
   "outputs": [],
   "source": [
    "df_pivot.columns = [\"stamp_1\", \"stamp_2\"]\n",
    "df_pivot_diff = df_pivot.diff(axis=1)"
   ]
  },
  {
   "cell_type": "code",
   "execution_count": 7,
   "id": "fifth-motion",
   "metadata": {
    "execution": {
     "iopub.execute_input": "2021-10-10T12:30:11.329966Z",
     "iopub.status.busy": "2021-10-10T12:30:11.327618Z",
     "iopub.status.idle": "2021-10-10T12:30:12.789853Z",
     "shell.execute_reply": "2021-10-10T12:30:12.791262Z"
    },
    "papermill": {
     "duration": 1.495165,
     "end_time": "2021-10-10T12:30:12.791725",
     "exception": false,
     "start_time": "2021-10-10T12:30:11.296560",
     "status": "completed"
    },
    "tags": []
   },
   "outputs": [
    {
     "data": {
      "text/plain": [
       "<AxesSubplot:ylabel='PRODUCT'>"
      ]
     },
     "execution_count": 7,
     "metadata": {},
     "output_type": "execute_result"
    },
    {
     "data": {
      "image/png": "[encoded data removed]",
      "text/plain": [
       "<Figure size 432x288 with 1 Axes>"
      ]
     },
     "metadata": {
      "needs_background": "light"
     },
     "output_type": "display_data"
    }
   ],
   "source": [
    "df_pivot_diff.sort_values(\"stamp_2\", ascending = False)[\"stamp_2\"].head(10).plot.barh()"
   ]
  },
  {
   "cell_type": "code",
   "execution_count": null,
   "id": "extra-executive",
   "metadata": {
    "papermill": {
     "duration": 0.021925,
     "end_time": "2021-10-10T12:30:12.838206",
     "exception": false,
     "start_time": "2021-10-10T12:30:12.816281",
     "status": "completed"
    },
    "tags": []
   },
   "outputs": [],
   "source": []
  }
 ],
 "metadata": {
  "kernelspec": {
   "display_name": "Python 3",
   "language": "python",
   "name": "python3"
  },
  "language_info": {
   "codemirror_mode": {
    "name": "ipython",
    "version": 3
   },
   "file_extension": ".py",
   "mimetype": "text/x-python",
   "name": "python",
   "nbconvert_exporter": "python",
   "pygments_lexer": "ipython3",
   "version": "3.9.5"
  },
  "papermill": {
   "default_parameters": {},
   "duration": 7.842052,
   "end_time": "2021-10-10T12:30:14.255627",
   "environment_variables": {},
   "exception": null,
   "input_path": "eBay_Overview.ipynb",
   "output_path": "eBay_Overview.ipynb",
   "parameters": {},
   "start_time": "2021-10-10T12:30:06.413575",
   "version": "2.3.3"
  }
 },
 "nbformat": 4,
 "nbformat_minor": 5
}