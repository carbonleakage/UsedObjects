{
 "cells": [
  {
   "cell_type": "code",
   "execution_count": 1,
   "id": "reverse-picking",
   "metadata": {
    "execution": {
     "iopub.execute_input": "2021-08-17T18:00:07.374003Z",
     "iopub.status.busy": "2021-08-17T18:00:07.371974Z",
     "iopub.status.idle": "2021-08-17T18:00:08.178951Z",
     "shell.execute_reply": "2021-08-17T18:00:08.177082Z"
    },
    "papermill": {
     "duration": 0.858261,
     "end_time": "2021-08-17T18:00:08.179403",
     "exception": false,
     "start_time": "2021-08-17T18:00:07.321142",
     "status": "completed"
    },
    "tags": []
   },
   "outputs": [],
   "source": [
    "import pandas as pd\n",
    "import sqlite3"
   ]
  },
  {
   "cell_type": "code",
   "execution_count": 2,
   "id": "innovative-syndrome",
   "metadata": {
    "execution": {
     "iopub.execute_input": "2021-08-17T18:00:08.229696Z",
     "iopub.status.busy": "2021-08-17T18:00:08.227713Z",
     "iopub.status.idle": "2021-08-17T18:00:08.298322Z",
     "shell.execute_reply": "2021-08-17T18:00:08.299669Z"
    },
    "papermill": {
     "duration": 0.100838,
     "end_time": "2021-08-17T18:00:08.300075",
     "exception": false,
     "start_time": "2021-08-17T18:00:08.199237",
     "status": "completed"
    },
    "tags": []
   },
   "outputs": [],
   "source": [
    "timestamps = pd.read_sql(\"select distinct record_time from EBAY_TOP_BERLIN order by record_time desc limit 2\", sqlite3.connect(\"UsedObjects.db\"))"
   ]
  },
  {
   "cell_type": "code",
   "execution_count": 3,
   "id": "periodic-identification",
   "metadata": {
    "execution": {
     "iopub.execute_input": "2021-08-17T18:00:08.365588Z",
     "iopub.status.busy": "2021-08-17T18:00:08.363559Z",
     "iopub.status.idle": "2021-08-17T18:00:08.383607Z",
     "shell.execute_reply": "2021-08-17T18:00:08.384911Z"
    },
    "papermill": {
     "duration": 0.065555,
     "end_time": "2021-08-17T18:00:08.385323",
     "exception": false,
     "start_time": "2021-08-17T18:00:08.319768",
     "status": "completed"
    },
    "tags": []
   },
   "outputs": [
    {
     "data": {
      "text/html": [
       "<div>\n",
       "<style scoped>\n",
       "    .dataframe tbody tr th:only-of-type {\n",
       "        vertical-align: middle;\n",
       "    }\n",
       "\n",
       "    .dataframe tbody tr th {\n",
       "        vertical-align: top;\n",
       "    }\n",
       "\n",
       "    .dataframe thead th {\n",
       "        text-align: right;\n",
       "    }\n",
       "</style>\n",
       "<table border=\"1\" class=\"dataframe\">\n",
       "  <thead>\n",
       "    <tr style=\"text-align: right;\">\n",
       "      <th></th>\n",
       "      <th>RECORD_TIME</th>\n",
       "    </tr>\n",
       "  </thead>\n",
       "  <tbody>\n",
       "    <tr>\n",
       "      <th>0</th>\n",
       "      <td>2021-08-17 20:00</td>\n",
       "    </tr>\n",
       "    <tr>\n",
       "      <th>1</th>\n",
       "      <td>2021-08-17 19:30</td>\n",
       "    </tr>\n",
       "  </tbody>\n",
       "</table>\n",
       "</div>"
      ],
      "text/plain": [
       "        RECORD_TIME\n",
       "0  2021-08-17 20:00\n",
       "1  2021-08-17 19:30"
      ]
     },
     "execution_count": 3,
     "metadata": {},
     "output_type": "execute_result"
    }
   ],
   "source": [
    "timestamps"
   ]
  },
  {
   "cell_type": "code",
   "execution_count": 4,
   "id": "alternate-victory",
   "metadata": {
    "execution": {
     "iopub.execute_input": "2021-08-17T18:00:08.436281Z",
     "iopub.status.busy": "2021-08-17T18:00:08.434415Z",
     "iopub.status.idle": "2021-08-17T18:00:08.536910Z",
     "shell.execute_reply": "2021-08-17T18:00:08.538309Z"
    },
    "papermill": {
     "duration": 0.132762,
     "end_time": "2021-08-17T18:00:08.538746",
     "exception": false,
     "start_time": "2021-08-17T18:00:08.405984",
     "status": "completed"
    },
    "tags": []
   },
   "outputs": [],
   "source": [
    "df = pd.read_sql(\"select * from EBAY_TOP_BERLIN where record_time in (select distinct record_time from EBAY_TOP_BERLIN order by record_time desc limit 2)\", sqlite3.connect(\"UsedObjects.db\"))"
   ]
  },
  {
   "cell_type": "code",
   "execution_count": 5,
   "id": "popular-active",
   "metadata": {
    "execution": {
     "iopub.execute_input": "2021-08-17T18:00:08.603687Z",
     "iopub.status.busy": "2021-08-17T18:00:08.596520Z",
     "iopub.status.idle": "2021-08-17T18:00:08.623685Z",
     "shell.execute_reply": "2021-08-17T18:00:08.624904Z"
    },
    "papermill": {
     "duration": 0.065954,
     "end_time": "2021-08-17T18:00:08.625301",
     "exception": false,
     "start_time": "2021-08-17T18:00:08.559347",
     "status": "completed"
    },
    "tags": []
   },
   "outputs": [],
   "source": [
    "df_pivot = df.pivot_table(index=\"PRODUCT\", columns = \"RECORD_TIME\", values = \"LISTING_COUNT\")"
   ]
  },
  {
   "cell_type": "code",
   "execution_count": 6,
   "id": "union-huntington",
   "metadata": {
    "execution": {
     "iopub.execute_input": "2021-08-17T18:00:08.685101Z",
     "iopub.status.busy": "2021-08-17T18:00:08.682641Z",
     "iopub.status.idle": "2021-08-17T18:00:08.690742Z",
     "shell.execute_reply": "2021-08-17T18:00:08.688368Z"
    },
    "papermill": {
     "duration": 0.043473,
     "end_time": "2021-08-17T18:00:08.691118",
     "exception": false,
     "start_time": "2021-08-17T18:00:08.647645",
     "status": "completed"
    },
    "tags": []
   },
   "outputs": [],
   "source": [
    "df_pivot.columns = [\"stamp_1\", \"stamp_2\"]\n",
    "df_pivot_diff = df_pivot.diff(axis=1)"
   ]
  },
  {
   "cell_type": "code",
   "execution_count": 7,
   "id": "fifth-motion",
   "metadata": {
    "execution": {
     "iopub.execute_input": "2021-08-17T18:00:08.745904Z",
     "iopub.status.busy": "2021-08-17T18:00:08.743632Z",
     "iopub.status.idle": "2021-08-17T18:00:10.217703Z",
     "shell.execute_reply": "2021-08-17T18:00:10.219100Z"
    },
    "papermill": {
     "duration": 1.507576,
     "end_time": "2021-08-17T18:00:10.219530",
     "exception": false,
     "start_time": "2021-08-17T18:00:08.711954",
     "status": "completed"
    },
    "tags": []
   },
   "outputs": [
    {
     "data": {
      "text/plain": [
       "<AxesSubplot:ylabel='PRODUCT'>"
      ]
     },
     "execution_count": 7,
     "metadata": {},
     "output_type": "execute_result"
    },
    {
     "data": {
      "image/png": "[encoded data removed]",
      "text/plain": [
       "<Figure size 432x288 with 1 Axes>"
      ]
     },
     "metadata": {
      "needs_background": "light"
     },
     "output_type": "display_data"
    }
   ],
   "source": [
    "df_pivot_diff.sort_values(\"stamp_2\", ascending = False)[\"stamp_2\"].head(10).plot.barh()"
   ]
  },
  {
   "cell_type": "code",
   "execution_count": null,
   "id": "extra-executive",
   "metadata": {
    "papermill": {
     "duration": 0.022319,
     "end_time": "2021-08-17T18:00:10.266683",
     "exception": false,
     "start_time": "2021-08-17T18:00:10.244364",
     "status": "completed"
    },
    "tags": []
   },
   "outputs": [],
   "source": []
  }
 ],
 "metadata": {
  "kernelspec": {
   "display_name": "Python 3",
   "language": "python",
   "name": "python3"
  },
  "language_info": {
   "codemirror_mode": {
    "name": "ipython",
    "version": 3
   },
   "file_extension": ".py",
   "mimetype": "text/x-python",
   "name": "python",
   "nbconvert_exporter": "python",
   "pygments_lexer": "ipython3",
   "version": "3.9.5"
  },
  "papermill": {
   "default_parameters": {},
   "duration": 6.82542,
   "end_time": "2021-08-17T18:00:11.735963",
   "environment_variables": {},
   "exception": null,
   "input_path": "eBay_Overview.ipynb",
   "output_path": "eBay_Overview.ipynb",
   "parameters": {},
   "start_time": "2021-08-17T18:00:04.910543",
   "version": "2.3.3"
  }
 },
 "nbformat": 4,
 "nbformat_minor": 5
}