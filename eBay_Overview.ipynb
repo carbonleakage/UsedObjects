{
 "cells": [
  {
   "cell_type": "code",
   "execution_count": 1,
   "id": "reverse-picking",
   "metadata": {
    "execution": {
     "iopub.execute_input": "2021-12-05T11:30:07.950172Z",
     "iopub.status.busy": "2021-12-05T11:30:07.947750Z",
     "iopub.status.idle": "2021-12-05T11:30:08.906665Z",
     "shell.execute_reply": "2021-12-05T11:30:08.908352Z"
    },
    "papermill": {
     "duration": 1.012186,
     "end_time": "2021-12-05T11:30:08.909267",
     "exception": false,
     "start_time": "2021-12-05T11:30:07.897081",
     "status": "completed"
    },
    "tags": []
   },
   "outputs": [],
   "source": [
    "import pandas as pd\n",
    "import sqlite3"
   ]
  },
  {
   "cell_type": "code",
   "execution_count": 2,
   "id": "innovative-syndrome",
   "metadata": {
    "execution": {
     "iopub.execute_input": "2021-12-05T11:30:09.034485Z",
     "iopub.status.busy": "2021-12-05T11:30:09.032164Z",
     "iopub.status.idle": "2021-12-05T11:30:10.019414Z",
     "shell.execute_reply": "2021-12-05T11:30:10.021380Z"
    },
    "papermill": {
     "duration": 1.023663,
     "end_time": "2021-12-05T11:30:10.021975",
     "exception": false,
     "start_time": "2021-12-05T11:30:08.998312",
     "status": "completed"
    },
    "tags": []
   },
   "outputs": [],
   "source": [
    "timestamps = pd.read_sql(\"select distinct record_time from EBAY_TOP_BERLIN order by record_time desc limit 2\", sqlite3.connect(\"UsedObjects.db\"))"
   ]
  },
  {
   "cell_type": "code",
   "execution_count": 3,
   "id": "periodic-identification",
   "metadata": {
    "execution": {
     "iopub.execute_input": "2021-12-05T11:30:10.090883Z",
     "iopub.status.busy": "2021-12-05T11:30:10.088824Z",
     "iopub.status.idle": "2021-12-05T11:30:10.110868Z",
     "shell.execute_reply": "2021-12-05T11:30:10.112062Z"
    },
    "papermill": {
     "duration": 0.067292,
     "end_time": "2021-12-05T11:30:10.112466",
     "exception": false,
     "start_time": "2021-12-05T11:30:10.045174",
     "status": "completed"
    },
    "tags": []
   },
   "outputs": [
    {
     "data": {
      "text/html": [
       "<div>\n",
       "<style scoped>\n",
       "    .dataframe tbody tr th:only-of-type {\n",
       "        vertical-align: middle;\n",
       "    }\n",
       "\n",
       "    .dataframe tbody tr th {\n",
       "        vertical-align: top;\n",
       "    }\n",
       "\n",
       "    .dataframe thead th {\n",
       "        text-align: right;\n",
       "    }\n",
       "</style>\n",
       "<table border=\"1\" class=\"dataframe\">\n",
       "  <thead>\n",
       "    <tr style=\"text-align: right;\">\n",
       "      <th></th>\n",
       "      <th>RECORD_TIME</th>\n",
       "    </tr>\n",
       "  </thead>\n",
       "  <tbody>\n",
       "    <tr>\n",
       "      <th>0</th>\n",
       "      <td>2021-12-05 12:30</td>\n",
       "    </tr>\n",
       "    <tr>\n",
       "      <th>1</th>\n",
       "      <td>2021-12-05 12:00</td>\n",
       "    </tr>\n",
       "  </tbody>\n",
       "</table>\n",
       "</div>"
      ],
      "text/plain": [
       "        RECORD_TIME\n",
       "0  2021-12-05 12:30\n",
       "1  2021-12-05 12:00"
      ]
     },
     "execution_count": 3,
     "metadata": {},
     "output_type": "execute_result"
    }
   ],
   "source": [
    "timestamps"
   ]
  },
  {
   "cell_type": "code",
   "execution_count": 4,
   "id": "alternate-victory",
   "metadata": {
    "execution": {
     "iopub.execute_input": "2021-12-05T11:30:10.166803Z",
     "iopub.status.busy": "2021-12-05T11:30:10.164421Z",
     "iopub.status.idle": "2021-12-05T11:30:11.576904Z",
     "shell.execute_reply": "2021-12-05T11:30:11.578613Z"
    },
    "papermill": {
     "duration": 1.443785,
     "end_time": "2021-12-05T11:30:11.579168",
     "exception": false,
     "start_time": "2021-12-05T11:30:10.135383",
     "status": "completed"
    },
    "tags": []
   },
   "outputs": [],
   "source": [
    "df = pd.read_sql(\"select * from EBAY_TOP_BERLIN where record_time in (select distinct record_time from EBAY_TOP_BERLIN order by record_time desc limit 2)\", sqlite3.connect(\"UsedObjects.db\"))"
   ]
  },
  {
   "cell_type": "code",
   "execution_count": 5,
   "id": "popular-active",
   "metadata": {
    "execution": {
     "iopub.execute_input": "2021-12-05T11:30:11.650181Z",
     "iopub.status.busy": "2021-12-05T11:30:11.646665Z",
     "iopub.status.idle": "2021-12-05T11:30:11.688618Z",
     "shell.execute_reply": "2021-12-05T11:30:11.690942Z"
    },
    "papermill": {
     "duration": 0.088167,
     "end_time": "2021-12-05T11:30:11.691537",
     "exception": false,
     "start_time": "2021-12-05T11:30:11.603370",
     "status": "completed"
    },
    "tags": []
   },
   "outputs": [],
   "source": [
    "df_pivot = df.pivot_table(index=\"PRODUCT\", columns = \"RECORD_TIME\", values = \"LISTING_COUNT\")"
   ]
  },
  {
   "cell_type": "code",
   "execution_count": 6,
   "id": "union-huntington",
   "metadata": {
    "execution": {
     "iopub.execute_input": "2021-12-05T11:30:11.753387Z",
     "iopub.status.busy": "2021-12-05T11:30:11.751109Z",
     "iopub.status.idle": "2021-12-05T11:30:11.756753Z",
     "shell.execute_reply": "2021-12-05T11:30:11.758118Z"
    },
    "papermill": {
     "duration": 0.044873,
     "end_time": "2021-12-05T11:30:11.758610",
     "exception": false,
     "start_time": "2021-12-05T11:30:11.713737",
     "status": "completed"
    },
    "tags": []
   },
   "outputs": [],
   "source": [
    "df_pivot.columns = [\"stamp_1\", \"stamp_2\"]\n",
    "df_pivot_diff = df_pivot.diff(axis=1)"
   ]
  },
  {
   "cell_type": "code",
   "execution_count": 7,
   "id": "fifth-motion",
   "metadata": {
    "execution": {
     "iopub.execute_input": "2021-12-05T11:30:11.814347Z",
     "iopub.status.busy": "2021-12-05T11:30:11.811875Z",
     "iopub.status.idle": "2021-12-05T11:30:13.887091Z",
     "shell.execute_reply": "2021-12-05T11:30:13.888623Z"
    },
    "papermill": {
     "duration": 2.110695,
     "end_time": "2021-12-05T11:30:13.889183",
     "exception": false,
     "start_time": "2021-12-05T11:30:11.778488",
     "status": "completed"
    },
    "tags": []
   },
   "outputs": [
    {
     "data": {
      "text/plain": [
       "<AxesSubplot:ylabel='PRODUCT'>"
      ]
     },
     "execution_count": 7,
     "metadata": {},
     "output_type": "execute_result"
    },
    {
     "data": {
      "image/png": "[encoded data removed]",
      "text/plain": [
       "<Figure size 432x288 with 1 Axes>"
      ]
     },
     "metadata": {
      "needs_background": "light"
     },
     "output_type": "display_data"
    }
   ],
   "source": [
    "df_pivot_diff.sort_values(\"stamp_2\", ascending = False)[\"stamp_2\"].head(10).plot.barh()"
   ]
  },
  {
   "cell_type": "code",
   "execution_count": null,
   "id": "extra-executive",
   "metadata": {
    "papermill": {
     "duration": 0.029828,
     "end_time": "2021-12-05T11:30:13.944748",
     "exception": false,
     "start_time": "2021-12-05T11:30:13.914920",
     "status": "completed"
    },
    "tags": []
   },
   "outputs": [],
   "source": []
  }
 ],
 "metadata": {
  "kernelspec": {
   "display_name": "Python 3",
   "language": "python",
   "name": "python3"
  },
  "language_info": {
   "codemirror_mode": {
    "name": "ipython",
    "version": 3
   },
   "file_extension": ".py",
   "mimetype": "text/x-python",
   "name": "python",
   "nbconvert_exporter": "python",
   "pygments_lexer": "ipython3",
   "version": "3.9.5"
  },
  "papermill": {
   "default_parameters": {},
   "duration": 9.449094,
   "end_time": "2021-12-05T11:30:14.620091",
   "environment_variables": {},
   "exception": null,
   "input_path": "eBay_Overview.ipynb",
   "output_path": "eBay_Overview.ipynb",
   "parameters": {},
   "start_time": "2021-12-05T11:30:05.170997",
   "version": "2.3.3"
  }
 },
 "nbformat": 4,
 "nbformat_minor": 5
}