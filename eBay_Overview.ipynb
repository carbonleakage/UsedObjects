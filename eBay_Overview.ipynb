{
 "cells": [
  {
   "cell_type": "code",
   "execution_count": 1,
   "id": "reverse-picking",
   "metadata": {
    "execution": {
     "iopub.execute_input": "2021-10-10T06:30:06.969054Z",
     "iopub.status.busy": "2021-10-10T06:30:06.967081Z",
     "iopub.status.idle": "2021-10-10T06:30:07.777902Z",
     "shell.execute_reply": "2021-10-10T06:30:07.776326Z"
    },
    "papermill": {
     "duration": 0.861836,
     "end_time": "2021-10-10T06:30:07.778289",
     "exception": false,
     "start_time": "2021-10-10T06:30:06.916453",
     "status": "completed"
    },
    "tags": []
   },
   "outputs": [],
   "source": [
    "import pandas as pd\n",
    "import sqlite3"
   ]
  },
  {
   "cell_type": "code",
   "execution_count": 2,
   "id": "innovative-syndrome",
   "metadata": {
    "execution": {
     "iopub.execute_input": "2021-10-10T06:30:07.828925Z",
     "iopub.status.busy": "2021-10-10T06:30:07.826632Z",
     "iopub.status.idle": "2021-10-10T06:30:08.333277Z",
     "shell.execute_reply": "2021-10-10T06:30:08.334626Z"
    },
    "papermill": {
     "duration": 0.536615,
     "end_time": "2021-10-10T06:30:08.335119",
     "exception": false,
     "start_time": "2021-10-10T06:30:07.798504",
     "status": "completed"
    },
    "tags": []
   },
   "outputs": [],
   "source": [
    "timestamps = pd.read_sql(\"select distinct record_time from EBAY_TOP_BERLIN order by record_time desc limit 2\", sqlite3.connect(\"UsedObjects.db\"))"
   ]
  },
  {
   "cell_type": "code",
   "execution_count": 3,
   "id": "periodic-identification",
   "metadata": {
    "execution": {
     "iopub.execute_input": "2021-10-10T06:30:08.410507Z",
     "iopub.status.busy": "2021-10-10T06:30:08.408412Z",
     "iopub.status.idle": "2021-10-10T06:30:08.428728Z",
     "shell.execute_reply": "2021-10-10T06:30:08.430004Z"
    },
    "papermill": {
     "duration": 0.074757,
     "end_time": "2021-10-10T06:30:08.430408",
     "exception": false,
     "start_time": "2021-10-10T06:30:08.355651",
     "status": "completed"
    },
    "tags": []
   },
   "outputs": [
    {
     "data": {
      "text/html": [
       "<div>\n",
       "<style scoped>\n",
       "    .dataframe tbody tr th:only-of-type {\n",
       "        vertical-align: middle;\n",
       "    }\n",
       "\n",
       "    .dataframe tbody tr th {\n",
       "        vertical-align: top;\n",
       "    }\n",
       "\n",
       "    .dataframe thead th {\n",
       "        text-align: right;\n",
       "    }\n",
       "</style>\n",
       "<table border=\"1\" class=\"dataframe\">\n",
       "  <thead>\n",
       "    <tr style=\"text-align: right;\">\n",
       "      <th></th>\n",
       "      <th>RECORD_TIME</th>\n",
       "    </tr>\n",
       "  </thead>\n",
       "  <tbody>\n",
       "    <tr>\n",
       "      <th>0</th>\n",
       "      <td>2021-10-10 08:30</td>\n",
       "    </tr>\n",
       "    <tr>\n",
       "      <th>1</th>\n",
       "      <td>2021-10-10 08:00</td>\n",
       "    </tr>\n",
       "  </tbody>\n",
       "</table>\n",
       "</div>"
      ],
      "text/plain": [
       "        RECORD_TIME\n",
       "0  2021-10-10 08:30\n",
       "1  2021-10-10 08:00"
      ]
     },
     "execution_count": 3,
     "metadata": {},
     "output_type": "execute_result"
    }
   ],
   "source": [
    "timestamps"
   ]
  },
  {
   "cell_type": "code",
   "execution_count": 4,
   "id": "alternate-victory",
   "metadata": {
    "execution": {
     "iopub.execute_input": "2021-10-10T06:30:08.481945Z",
     "iopub.status.busy": "2021-10-10T06:30:08.480110Z",
     "iopub.status.idle": "2021-10-10T06:30:09.223105Z",
     "shell.execute_reply": "2021-10-10T06:30:09.224346Z"
    },
    "papermill": {
     "duration": 0.772961,
     "end_time": "2021-10-10T06:30:09.224741",
     "exception": false,
     "start_time": "2021-10-10T06:30:08.451780",
     "status": "completed"
    },
    "tags": []
   },
   "outputs": [],
   "source": [
    "df = pd.read_sql(\"select * from EBAY_TOP_BERLIN where record_time in (select distinct record_time from EBAY_TOP_BERLIN order by record_time desc limit 2)\", sqlite3.connect(\"UsedObjects.db\"))"
   ]
  },
  {
   "cell_type": "code",
   "execution_count": 5,
   "id": "popular-active",
   "metadata": {
    "execution": {
     "iopub.execute_input": "2021-10-10T06:30:09.299807Z",
     "iopub.status.busy": "2021-10-10T06:30:09.287281Z",
     "iopub.status.idle": "2021-10-10T06:30:09.315368Z",
     "shell.execute_reply": "2021-10-10T06:30:09.316595Z"
    },
    "papermill": {
     "duration": 0.068653,
     "end_time": "2021-10-10T06:30:09.316989",
     "exception": false,
     "start_time": "2021-10-10T06:30:09.248336",
     "status": "completed"
    },
    "tags": []
   },
   "outputs": [],
   "source": [
    "df_pivot = df.pivot_table(index=\"PRODUCT\", columns = \"RECORD_TIME\", values = \"LISTING_COUNT\")"
   ]
  },
  {
   "cell_type": "code",
   "execution_count": 6,
   "id": "union-huntington",
   "metadata": {
    "execution": {
     "iopub.execute_input": "2021-10-10T06:30:09.376400Z",
     "iopub.status.busy": "2021-10-10T06:30:09.373924Z",
     "iopub.status.idle": "2021-10-10T06:30:09.380195Z",
     "shell.execute_reply": "2021-10-10T06:30:09.381562Z"
    },
    "papermill": {
     "duration": 0.042708,
     "end_time": "2021-10-10T06:30:09.382042",
     "exception": false,
     "start_time": "2021-10-10T06:30:09.339334",
     "status": "completed"
    },
    "tags": []
   },
   "outputs": [],
   "source": [
    "df_pivot.columns = [\"stamp_1\", \"stamp_2\"]\n",
    "df_pivot_diff = df_pivot.diff(axis=1)"
   ]
  },
  {
   "cell_type": "code",
   "execution_count": 7,
   "id": "fifth-motion",
   "metadata": {
    "execution": {
     "iopub.execute_input": "2021-10-10T06:30:09.437686Z",
     "iopub.status.busy": "2021-10-10T06:30:09.435264Z",
     "iopub.status.idle": "2021-10-10T06:30:10.888471Z",
     "shell.execute_reply": "2021-10-10T06:30:10.889758Z"
    },
    "papermill": {
     "duration": 1.48636,
     "end_time": "2021-10-10T06:30:10.890170",
     "exception": false,
     "start_time": "2021-10-10T06:30:09.403810",
     "status": "completed"
    },
    "tags": []
   },
   "outputs": [
    {
     "data": {
      "text/plain": [
       "<AxesSubplot:ylabel='PRODUCT'>"
      ]
     },
     "execution_count": 7,
     "metadata": {},
     "output_type": "execute_result"
    },
    {
     "data": {
      "image/png": "[encoded data removed]",
      "text/plain": [
       "<Figure size 432x288 with 1 Axes>"
      ]
     },
     "metadata": {
      "needs_background": "light"
     },
     "output_type": "display_data"
    }
   ],
   "source": [
    "df_pivot_diff.sort_values(\"stamp_2\", ascending = False)[\"stamp_2\"].head(10).plot.barh()"
   ]
  },
  {
   "cell_type": "code",
   "execution_count": null,
   "id": "extra-executive",
   "metadata": {
    "papermill": {
     "duration": 0.022193,
     "end_time": "2021-10-10T06:30:10.937089",
     "exception": false,
     "start_time": "2021-10-10T06:30:10.914896",
     "status": "completed"
    },
    "tags": []
   },
   "outputs": [],
   "source": []
  }
 ],
 "metadata": {
  "kernelspec": {
   "display_name": "Python 3",
   "language": "python",
   "name": "python3"
  },
  "language_info": {
   "codemirror_mode": {
    "name": "ipython",
    "version": 3
   },
   "file_extension": ".py",
   "mimetype": "text/x-python",
   "name": "python",
   "nbconvert_exporter": "python",
   "pygments_lexer": "ipython3",
   "version": "3.9.5"
  },
  "papermill": {
   "default_parameters": {},
   "duration": 7.838963,
   "end_time": "2021-10-10T06:30:12.342066",
   "environment_variables": {},
   "exception": null,
   "input_path": "eBay_Overview.ipynb",
   "output_path": "eBay_Overview.ipynb",
   "parameters": {},
   "start_time": "2021-10-10T06:30:04.503103",
   "version": "2.3.3"
  }
 },
 "nbformat": 4,
 "nbformat_minor": 5
}