{
 "cells": [
  {
   "cell_type": "code",
   "execution_count": 1,
   "id": "reverse-picking",
   "metadata": {
    "execution": {
     "iopub.execute_input": "2021-11-09T01:30:07.741081Z",
     "iopub.status.busy": "2021-11-09T01:30:07.738635Z",
     "iopub.status.idle": "2021-11-09T01:30:08.686916Z",
     "shell.execute_reply": "2021-11-09T01:30:08.689402Z"
    },
    "papermill": {
     "duration": 0.997085,
     "end_time": "2021-11-09T01:30:08.690149",
     "exception": false,
     "start_time": "2021-11-09T01:30:07.693064",
     "status": "completed"
    },
    "tags": []
   },
   "outputs": [],
   "source": [
    "import pandas as pd\n",
    "import sqlite3"
   ]
  },
  {
   "cell_type": "code",
   "execution_count": 2,
   "id": "innovative-syndrome",
   "metadata": {
    "execution": {
     "iopub.execute_input": "2021-11-09T01:30:08.757681Z",
     "iopub.status.busy": "2021-11-09T01:30:08.755440Z",
     "iopub.status.idle": "2021-11-09T01:30:09.511466Z",
     "shell.execute_reply": "2021-11-09T01:30:09.513149Z"
    },
    "papermill": {
     "duration": 0.790618,
     "end_time": "2021-11-09T01:30:09.513643",
     "exception": false,
     "start_time": "2021-11-09T01:30:08.723025",
     "status": "completed"
    },
    "tags": []
   },
   "outputs": [],
   "source": [
    "timestamps = pd.read_sql(\"select distinct record_time from EBAY_TOP_BERLIN order by record_time desc limit 2\", sqlite3.connect(\"UsedObjects.db\"))"
   ]
  },
  {
   "cell_type": "code",
   "execution_count": 3,
   "id": "periodic-identification",
   "metadata": {
    "execution": {
     "iopub.execute_input": "2021-11-09T01:30:09.590684Z",
     "iopub.status.busy": "2021-11-09T01:30:09.584470Z",
     "iopub.status.idle": "2021-11-09T01:30:09.607712Z",
     "shell.execute_reply": "2021-11-09T01:30:09.609272Z"
    },
    "papermill": {
     "duration": 0.075496,
     "end_time": "2021-11-09T01:30:09.609762",
     "exception": false,
     "start_time": "2021-11-09T01:30:09.534266",
     "status": "completed"
    },
    "tags": []
   },
   "outputs": [
    {
     "data": {
      "text/html": [
       "<div>\n",
       "<style scoped>\n",
       "    .dataframe tbody tr th:only-of-type {\n",
       "        vertical-align: middle;\n",
       "    }\n",
       "\n",
       "    .dataframe tbody tr th {\n",
       "        vertical-align: top;\n",
       "    }\n",
       "\n",
       "    .dataframe thead th {\n",
       "        text-align: right;\n",
       "    }\n",
       "</style>\n",
       "<table border=\"1\" class=\"dataframe\">\n",
       "  <thead>\n",
       "    <tr style=\"text-align: right;\">\n",
       "      <th></th>\n",
       "      <th>RECORD_TIME</th>\n",
       "    </tr>\n",
       "  </thead>\n",
       "  <tbody>\n",
       "    <tr>\n",
       "      <th>0</th>\n",
       "      <td>2021-11-09 02:30</td>\n",
       "    </tr>\n",
       "    <tr>\n",
       "      <th>1</th>\n",
       "      <td>2021-11-09 02:00</td>\n",
       "    </tr>\n",
       "  </tbody>\n",
       "</table>\n",
       "</div>"
      ],
      "text/plain": [
       "        RECORD_TIME\n",
       "0  2021-11-09 02:30\n",
       "1  2021-11-09 02:00"
      ]
     },
     "execution_count": 3,
     "metadata": {},
     "output_type": "execute_result"
    }
   ],
   "source": [
    "timestamps"
   ]
  },
  {
   "cell_type": "code",
   "execution_count": 4,
   "id": "alternate-victory",
   "metadata": {
    "execution": {
     "iopub.execute_input": "2021-11-09T01:30:09.664847Z",
     "iopub.status.busy": "2021-11-09T01:30:09.662666Z",
     "iopub.status.idle": "2021-11-09T01:30:10.743361Z",
     "shell.execute_reply": "2021-11-09T01:30:10.745304Z"
    },
    "papermill": {
     "duration": 1.114218,
     "end_time": "2021-11-09T01:30:10.745778",
     "exception": false,
     "start_time": "2021-11-09T01:30:09.631560",
     "status": "completed"
    },
    "tags": []
   },
   "outputs": [],
   "source": [
    "df = pd.read_sql(\"select * from EBAY_TOP_BERLIN where record_time in (select distinct record_time from EBAY_TOP_BERLIN order by record_time desc limit 2)\", sqlite3.connect(\"UsedObjects.db\"))"
   ]
  },
  {
   "cell_type": "code",
   "execution_count": 5,
   "id": "popular-active",
   "metadata": {
    "execution": {
     "iopub.execute_input": "2021-11-09T01:30:10.826263Z",
     "iopub.status.busy": "2021-11-09T01:30:10.811609Z",
     "iopub.status.idle": "2021-11-09T01:30:10.846461Z",
     "shell.execute_reply": "2021-11-09T01:30:10.844900Z"
    },
    "papermill": {
     "duration": 0.077811,
     "end_time": "2021-11-09T01:30:10.846890",
     "exception": false,
     "start_time": "2021-11-09T01:30:10.769079",
     "status": "completed"
    },
    "tags": []
   },
   "outputs": [],
   "source": [
    "df_pivot = df.pivot_table(index=\"PRODUCT\", columns = \"RECORD_TIME\", values = \"LISTING_COUNT\")"
   ]
  },
  {
   "cell_type": "code",
   "execution_count": 6,
   "id": "union-huntington",
   "metadata": {
    "execution": {
     "iopub.execute_input": "2021-11-09T01:30:10.901752Z",
     "iopub.status.busy": "2021-11-09T01:30:10.899330Z",
     "iopub.status.idle": "2021-11-09T01:30:10.916774Z",
     "shell.execute_reply": "2021-11-09T01:30:10.914965Z"
    },
    "papermill": {
     "duration": 0.047076,
     "end_time": "2021-11-09T01:30:10.917266",
     "exception": false,
     "start_time": "2021-11-09T01:30:10.870190",
     "status": "completed"
    },
    "tags": []
   },
   "outputs": [],
   "source": [
    "df_pivot.columns = [\"stamp_1\", \"stamp_2\"]\n",
    "df_pivot_diff = df_pivot.diff(axis=1)"
   ]
  },
  {
   "cell_type": "code",
   "execution_count": 7,
   "id": "fifth-motion",
   "metadata": {
    "execution": {
     "iopub.execute_input": "2021-11-09T01:30:10.977176Z",
     "iopub.status.busy": "2021-11-09T01:30:10.974624Z",
     "iopub.status.idle": "2021-11-09T01:30:12.717517Z",
     "shell.execute_reply": "2021-11-09T01:30:12.718896Z"
    },
    "papermill": {
     "duration": 1.78037,
     "end_time": "2021-11-09T01:30:12.719365",
     "exception": false,
     "start_time": "2021-11-09T01:30:10.938995",
     "status": "completed"
    },
    "tags": []
   },
   "outputs": [
    {
     "data": {
      "text/plain": [
       "<AxesSubplot:ylabel='PRODUCT'>"
      ]
     },
     "execution_count": 7,
     "metadata": {},
     "output_type": "execute_result"
    },
    {
     "data": {
      "image/png": "[encoded data removed]",
      "text/plain": [
       "<Figure size 432x288 with 1 Axes>"
      ]
     },
     "metadata": {
      "needs_background": "light"
     },
     "output_type": "display_data"
    }
   ],
   "source": [
    "df_pivot_diff.sort_values(\"stamp_2\", ascending = False)[\"stamp_2\"].head(10).plot.barh()"
   ]
  },
  {
   "cell_type": "code",
   "execution_count": null,
   "id": "extra-executive",
   "metadata": {
    "papermill": {
     "duration": 0.023652,
     "end_time": "2021-11-09T01:30:12.767038",
     "exception": false,
     "start_time": "2021-11-09T01:30:12.743386",
     "status": "completed"
    },
    "tags": []
   },
   "outputs": [],
   "source": []
  }
 ],
 "metadata": {
  "kernelspec": {
   "display_name": "Python 3",
   "language": "python",
   "name": "python3"
  },
  "language_info": {
   "codemirror_mode": {
    "name": "ipython",
    "version": 3
   },
   "file_extension": ".py",
   "mimetype": "text/x-python",
   "name": "python",
   "nbconvert_exporter": "python",
   "pygments_lexer": "ipython3",
   "version": "3.9.5"
  },
  "papermill": {
   "default_parameters": {},
   "duration": 8.715417,
   "end_time": "2021-11-09T01:30:13.616797",
   "environment_variables": {},
   "exception": null,
   "input_path": "eBay_Overview.ipynb",
   "output_path": "eBay_Overview.ipynb",
   "parameters": {},
   "start_time": "2021-11-09T01:30:04.901380",
   "version": "2.3.3"
  }
 },
 "nbformat": 4,
 "nbformat_minor": 5
}