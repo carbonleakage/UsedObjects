{
 "cells": [
  {
   "cell_type": "code",
   "execution_count": 1,
   "id": "reverse-picking",
   "metadata": {
    "execution": {
     "iopub.execute_input": "2021-09-12T11:00:06.728171Z",
     "iopub.status.busy": "2021-09-12T11:00:06.726142Z",
     "iopub.status.idle": "2021-09-12T11:00:07.533159Z",
     "shell.execute_reply": "2021-09-12T11:00:07.534408Z"
    },
    "papermill": {
     "duration": 0.856464,
     "end_time": "2021-09-12T11:00:07.535244",
     "exception": false,
     "start_time": "2021-09-12T11:00:06.678780",
     "status": "completed"
    },
    "tags": []
   },
   "outputs": [],
   "source": [
    "import pandas as pd\n",
    "import sqlite3"
   ]
  },
  {
   "cell_type": "code",
   "execution_count": 2,
   "id": "innovative-syndrome",
   "metadata": {
    "execution": {
     "iopub.execute_input": "2021-09-12T11:00:07.588088Z",
     "iopub.status.busy": "2021-09-12T11:00:07.585698Z",
     "iopub.status.idle": "2021-09-12T11:00:07.861482Z",
     "shell.execute_reply": "2021-09-12T11:00:07.862826Z"
    },
    "papermill": {
     "duration": 0.30593,
     "end_time": "2021-09-12T11:00:07.863347",
     "exception": false,
     "start_time": "2021-09-12T11:00:07.557417",
     "status": "completed"
    },
    "tags": []
   },
   "outputs": [],
   "source": [
    "timestamps = pd.read_sql(\"select distinct record_time from EBAY_TOP_BERLIN order by record_time desc limit 2\", sqlite3.connect(\"UsedObjects.db\"))"
   ]
  },
  {
   "cell_type": "code",
   "execution_count": 3,
   "id": "periodic-identification",
   "metadata": {
    "execution": {
     "iopub.execute_input": "2021-09-12T11:00:07.929152Z",
     "iopub.status.busy": "2021-09-12T11:00:07.927143Z",
     "iopub.status.idle": "2021-09-12T11:00:07.946664Z",
     "shell.execute_reply": "2021-09-12T11:00:07.948083Z"
    },
    "papermill": {
     "duration": 0.064895,
     "end_time": "2021-09-12T11:00:07.948517",
     "exception": false,
     "start_time": "2021-09-12T11:00:07.883622",
     "status": "completed"
    },
    "tags": []
   },
   "outputs": [
    {
     "data": {
      "text/html": [
       "<div>\n",
       "<style scoped>\n",
       "    .dataframe tbody tr th:only-of-type {\n",
       "        vertical-align: middle;\n",
       "    }\n",
       "\n",
       "    .dataframe tbody tr th {\n",
       "        vertical-align: top;\n",
       "    }\n",
       "\n",
       "    .dataframe thead th {\n",
       "        text-align: right;\n",
       "    }\n",
       "</style>\n",
       "<table border=\"1\" class=\"dataframe\">\n",
       "  <thead>\n",
       "    <tr style=\"text-align: right;\">\n",
       "      <th></th>\n",
       "      <th>RECORD_TIME</th>\n",
       "    </tr>\n",
       "  </thead>\n",
       "  <tbody>\n",
       "    <tr>\n",
       "      <th>0</th>\n",
       "      <td>2021-09-12 13:00</td>\n",
       "    </tr>\n",
       "    <tr>\n",
       "      <th>1</th>\n",
       "      <td>2021-09-12 12:30</td>\n",
       "    </tr>\n",
       "  </tbody>\n",
       "</table>\n",
       "</div>"
      ],
      "text/plain": [
       "        RECORD_TIME\n",
       "0  2021-09-12 13:00\n",
       "1  2021-09-12 12:30"
      ]
     },
     "execution_count": 3,
     "metadata": {},
     "output_type": "execute_result"
    }
   ],
   "source": [
    "timestamps"
   ]
  },
  {
   "cell_type": "code",
   "execution_count": 4,
   "id": "alternate-victory",
   "metadata": {
    "execution": {
     "iopub.execute_input": "2021-09-12T11:00:08.000703Z",
     "iopub.status.busy": "2021-09-12T11:00:07.998498Z",
     "iopub.status.idle": "2021-09-12T11:00:08.395968Z",
     "shell.execute_reply": "2021-09-12T11:00:08.397250Z"
    },
    "papermill": {
     "duration": 0.427526,
     "end_time": "2021-09-12T11:00:08.397709",
     "exception": false,
     "start_time": "2021-09-12T11:00:07.970183",
     "status": "completed"
    },
    "tags": []
   },
   "outputs": [],
   "source": [
    "df = pd.read_sql(\"select * from EBAY_TOP_BERLIN where record_time in (select distinct record_time from EBAY_TOP_BERLIN order by record_time desc limit 2)\", sqlite3.connect(\"UsedObjects.db\"))"
   ]
  },
  {
   "cell_type": "code",
   "execution_count": 5,
   "id": "popular-active",
   "metadata": {
    "execution": {
     "iopub.execute_input": "2021-09-12T11:00:08.478387Z",
     "iopub.status.busy": "2021-09-12T11:00:08.466652Z",
     "iopub.status.idle": "2021-09-12T11:00:08.493946Z",
     "shell.execute_reply": "2021-09-12T11:00:08.495350Z"
    },
    "papermill": {
     "duration": 0.072034,
     "end_time": "2021-09-12T11:00:08.495814",
     "exception": false,
     "start_time": "2021-09-12T11:00:08.423780",
     "status": "completed"
    },
    "tags": []
   },
   "outputs": [],
   "source": [
    "df_pivot = df.pivot_table(index=\"PRODUCT\", columns = \"RECORD_TIME\", values = \"LISTING_COUNT\")"
   ]
  },
  {
   "cell_type": "code",
   "execution_count": 6,
   "id": "union-huntington",
   "metadata": {
    "execution": {
     "iopub.execute_input": "2021-09-12T11:00:08.551529Z",
     "iopub.status.busy": "2021-09-12T11:00:08.549332Z",
     "iopub.status.idle": "2021-09-12T11:00:08.555165Z",
     "shell.execute_reply": "2021-09-12T11:00:08.556472Z"
    },
    "papermill": {
     "duration": 0.041377,
     "end_time": "2021-09-12T11:00:08.557073",
     "exception": false,
     "start_time": "2021-09-12T11:00:08.515696",
     "status": "completed"
    },
    "tags": []
   },
   "outputs": [],
   "source": [
    "df_pivot.columns = [\"stamp_1\", \"stamp_2\"]\n",
    "df_pivot_diff = df_pivot.diff(axis=1)"
   ]
  },
  {
   "cell_type": "code",
   "execution_count": 7,
   "id": "fifth-motion",
   "metadata": {
    "execution": {
     "iopub.execute_input": "2021-09-12T11:00:08.612507Z",
     "iopub.status.busy": "2021-09-12T11:00:08.610079Z",
     "iopub.status.idle": "2021-09-12T11:00:10.099864Z",
     "shell.execute_reply": "2021-09-12T11:00:10.101293Z"
    },
    "papermill": {
     "duration": 1.523313,
     "end_time": "2021-09-12T11:00:10.101741",
     "exception": false,
     "start_time": "2021-09-12T11:00:08.578428",
     "status": "completed"
    },
    "tags": []
   },
   "outputs": [
    {
     "data": {
      "text/plain": [
       "<AxesSubplot:ylabel='PRODUCT'>"
      ]
     },
     "execution_count": 7,
     "metadata": {},
     "output_type": "execute_result"
    },
    {
     "data": {
      "image/png": "[encoded data removed]",
      "text/plain": [
       "<Figure size 432x288 with 1 Axes>"
      ]
     },
     "metadata": {
      "needs_background": "light"
     },
     "output_type": "display_data"
    }
   ],
   "source": [
    "df_pivot_diff.sort_values(\"stamp_2\", ascending = False)[\"stamp_2\"].head(10).plot.barh()"
   ]
  },
  {
   "cell_type": "code",
   "execution_count": null,
   "id": "extra-executive",
   "metadata": {
    "papermill": {
     "duration": 0.022131,
     "end_time": "2021-09-12T11:00:10.147308",
     "exception": false,
     "start_time": "2021-09-12T11:00:10.125177",
     "status": "completed"
    },
    "tags": []
   },
   "outputs": [],
   "source": []
  }
 ],
 "metadata": {
  "kernelspec": {
   "display_name": "Python 3",
   "language": "python",
   "name": "python3"
  },
  "language_info": {
   "codemirror_mode": {
    "name": "ipython",
    "version": 3
   },
   "file_extension": ".py",
   "mimetype": "text/x-python",
   "name": "python",
   "nbconvert_exporter": "python",
   "pygments_lexer": "ipython3",
   "version": "3.9.5"
  },
  "papermill": {
   "default_parameters": {},
   "duration": 6.518143,
   "end_time": "2021-09-12T11:00:10.788164",
   "environment_variables": {},
   "exception": null,
   "input_path": "eBay_Overview.ipynb",
   "output_path": "eBay_Overview.ipynb",
   "parameters": {},
   "start_time": "2021-09-12T11:00:04.270021",
   "version": "2.3.3"
  }
 },
 "nbformat": 4,
 "nbformat_minor": 5
}