{
 "cells": [
  {
   "cell_type": "code",
   "execution_count": 1,
   "id": "reverse-picking",
   "metadata": {
    "execution": {
     "iopub.execute_input": "2021-09-03T09:00:07.333165Z",
     "iopub.status.busy": "2021-09-03T09:00:07.331250Z",
     "iopub.status.idle": "2021-09-03T09:00:08.133452Z",
     "shell.execute_reply": "2021-09-03T09:00:08.134759Z"
    },
    "papermill": {
     "duration": 0.856185,
     "end_time": "2021-09-03T09:00:08.135473",
     "exception": false,
     "start_time": "2021-09-03T09:00:07.279288",
     "status": "completed"
    },
    "tags": []
   },
   "outputs": [],
   "source": [
    "import pandas as pd\n",
    "import sqlite3"
   ]
  },
  {
   "cell_type": "code",
   "execution_count": 2,
   "id": "innovative-syndrome",
   "metadata": {
    "execution": {
     "iopub.execute_input": "2021-09-03T09:00:08.186665Z",
     "iopub.status.busy": "2021-09-03T09:00:08.184666Z",
     "iopub.status.idle": "2021-09-03T09:00:08.378749Z",
     "shell.execute_reply": "2021-09-03T09:00:08.380009Z"
    },
    "papermill": {
     "duration": 0.224496,
     "end_time": "2021-09-03T09:00:08.380405",
     "exception": false,
     "start_time": "2021-09-03T09:00:08.155909",
     "status": "completed"
    },
    "tags": []
   },
   "outputs": [],
   "source": [
    "timestamps = pd.read_sql(\"select distinct record_time from EBAY_TOP_BERLIN order by record_time desc limit 2\", sqlite3.connect(\"UsedObjects.db\"))"
   ]
  },
  {
   "cell_type": "code",
   "execution_count": 3,
   "id": "periodic-identification",
   "metadata": {
    "execution": {
     "iopub.execute_input": "2021-09-03T09:00:08.444499Z",
     "iopub.status.busy": "2021-09-03T09:00:08.442190Z",
     "iopub.status.idle": "2021-09-03T09:00:08.462278Z",
     "shell.execute_reply": "2021-09-03T09:00:08.463561Z"
    },
    "papermill": {
     "duration": 0.064367,
     "end_time": "2021-09-03T09:00:08.463966",
     "exception": false,
     "start_time": "2021-09-03T09:00:08.399599",
     "status": "completed"
    },
    "tags": []
   },
   "outputs": [
    {
     "data": {
      "text/html": [
       "<div>\n",
       "<style scoped>\n",
       "    .dataframe tbody tr th:only-of-type {\n",
       "        vertical-align: middle;\n",
       "    }\n",
       "\n",
       "    .dataframe tbody tr th {\n",
       "        vertical-align: top;\n",
       "    }\n",
       "\n",
       "    .dataframe thead th {\n",
       "        text-align: right;\n",
       "    }\n",
       "</style>\n",
       "<table border=\"1\" class=\"dataframe\">\n",
       "  <thead>\n",
       "    <tr style=\"text-align: right;\">\n",
       "      <th></th>\n",
       "      <th>RECORD_TIME</th>\n",
       "    </tr>\n",
       "  </thead>\n",
       "  <tbody>\n",
       "    <tr>\n",
       "      <th>0</th>\n",
       "      <td>2021-09-03 11:00</td>\n",
       "    </tr>\n",
       "    <tr>\n",
       "      <th>1</th>\n",
       "      <td>2021-09-03 10:30</td>\n",
       "    </tr>\n",
       "  </tbody>\n",
       "</table>\n",
       "</div>"
      ],
      "text/plain": [
       "        RECORD_TIME\n",
       "0  2021-09-03 11:00\n",
       "1  2021-09-03 10:30"
      ]
     },
     "execution_count": 3,
     "metadata": {},
     "output_type": "execute_result"
    }
   ],
   "source": [
    "timestamps"
   ]
  },
  {
   "cell_type": "code",
   "execution_count": 4,
   "id": "alternate-victory",
   "metadata": {
    "execution": {
     "iopub.execute_input": "2021-09-03T09:00:08.515785Z",
     "iopub.status.busy": "2021-09-03T09:00:08.513817Z",
     "iopub.status.idle": "2021-09-03T09:00:08.805668Z",
     "shell.execute_reply": "2021-09-03T09:00:08.806982Z"
    },
    "papermill": {
     "duration": 0.321839,
     "end_time": "2021-09-03T09:00:08.807414",
     "exception": false,
     "start_time": "2021-09-03T09:00:08.485575",
     "status": "completed"
    },
    "tags": []
   },
   "outputs": [],
   "source": [
    "df = pd.read_sql(\"select * from EBAY_TOP_BERLIN where record_time in (select distinct record_time from EBAY_TOP_BERLIN order by record_time desc limit 2)\", sqlite3.connect(\"UsedObjects.db\"))"
   ]
  },
  {
   "cell_type": "code",
   "execution_count": 5,
   "id": "popular-active",
   "metadata": {
    "execution": {
     "iopub.execute_input": "2021-09-03T09:00:08.888803Z",
     "iopub.status.busy": "2021-09-03T09:00:08.876240Z",
     "iopub.status.idle": "2021-09-03T09:00:08.905809Z",
     "shell.execute_reply": "2021-09-03T09:00:08.907492Z"
    },
    "papermill": {
     "duration": 0.074567,
     "end_time": "2021-09-03T09:00:08.907975",
     "exception": false,
     "start_time": "2021-09-03T09:00:08.833408",
     "status": "completed"
    },
    "tags": []
   },
   "outputs": [],
   "source": [
    "df_pivot = df.pivot_table(index=\"PRODUCT\", columns = \"RECORD_TIME\", values = \"LISTING_COUNT\")"
   ]
  },
  {
   "cell_type": "code",
   "execution_count": 6,
   "id": "union-huntington",
   "metadata": {
    "execution": {
     "iopub.execute_input": "2021-09-03T09:00:08.966795Z",
     "iopub.status.busy": "2021-09-03T09:00:08.964551Z",
     "iopub.status.idle": "2021-09-03T09:00:08.970173Z",
     "shell.execute_reply": "2021-09-03T09:00:08.971502Z"
    },
    "papermill": {
     "duration": 0.041721,
     "end_time": "2021-09-03T09:00:08.971922",
     "exception": false,
     "start_time": "2021-09-03T09:00:08.930201",
     "status": "completed"
    },
    "tags": []
   },
   "outputs": [],
   "source": [
    "df_pivot.columns = [\"stamp_1\", \"stamp_2\"]\n",
    "df_pivot_diff = df_pivot.diff(axis=1)"
   ]
  },
  {
   "cell_type": "code",
   "execution_count": 7,
   "id": "fifth-motion",
   "metadata": {
    "execution": {
     "iopub.execute_input": "2021-09-03T09:00:09.025930Z",
     "iopub.status.busy": "2021-09-03T09:00:09.023673Z",
     "iopub.status.idle": "2021-09-03T09:00:10.501006Z",
     "shell.execute_reply": "2021-09-03T09:00:10.502275Z"
    },
    "papermill": {
     "duration": 1.51034,
     "end_time": "2021-09-03T09:00:10.502695",
     "exception": false,
     "start_time": "2021-09-03T09:00:08.992355",
     "status": "completed"
    },
    "tags": []
   },
   "outputs": [
    {
     "data": {
      "text/plain": [
       "<AxesSubplot:ylabel='PRODUCT'>"
      ]
     },
     "execution_count": 7,
     "metadata": {},
     "output_type": "execute_result"
    },
    {
     "data": {
      "image/png": "[encoded data removed]",
      "text/plain": [
       "<Figure size 432x288 with 1 Axes>"
      ]
     },
     "metadata": {
      "needs_background": "light"
     },
     "output_type": "display_data"
    }
   ],
   "source": [
    "df_pivot_diff.sort_values(\"stamp_2\", ascending = False)[\"stamp_2\"].head(10).plot.barh()"
   ]
  },
  {
   "cell_type": "code",
   "execution_count": null,
   "id": "extra-executive",
   "metadata": {
    "papermill": {
     "duration": 0.022297,
     "end_time": "2021-09-03T09:00:10.549777",
     "exception": false,
     "start_time": "2021-09-03T09:00:10.527480",
     "status": "completed"
    },
    "tags": []
   },
   "outputs": [],
   "source": []
  }
 ],
 "metadata": {
  "kernelspec": {
   "display_name": "Python 3",
   "language": "python",
   "name": "python3"
  },
  "language_info": {
   "codemirror_mode": {
    "name": "ipython",
    "version": 3
   },
   "file_extension": ".py",
   "mimetype": "text/x-python",
   "name": "python",
   "nbconvert_exporter": "python",
   "pygments_lexer": "ipython3",
   "version": "3.9.5"
  },
  "papermill": {
   "default_parameters": {},
   "duration": 6.821168,
   "end_time": "2021-09-03T09:00:11.701010",
   "environment_variables": {},
   "exception": null,
   "input_path": "eBay_Overview.ipynb",
   "output_path": "eBay_Overview.ipynb",
   "parameters": {},
   "start_time": "2021-09-03T09:00:04.879842",
   "version": "2.3.3"
  }
 },
 "nbformat": 4,
 "nbformat_minor": 5
}