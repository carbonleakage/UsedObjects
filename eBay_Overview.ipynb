{
 "cells": [
  {
   "cell_type": "code",
   "execution_count": 1,
   "id": "reverse-picking",
   "metadata": {
    "execution": {
     "iopub.execute_input": "2021-10-25T18:00:06.610629Z",
     "iopub.status.busy": "2021-10-25T18:00:06.608617Z",
     "iopub.status.idle": "2021-10-25T18:00:07.421035Z",
     "shell.execute_reply": "2021-10-25T18:00:07.419270Z"
    },
    "papermill": {
     "duration": 0.863237,
     "end_time": "2021-10-25T18:00:07.421467",
     "exception": false,
     "start_time": "2021-10-25T18:00:06.558230",
     "status": "completed"
    },
    "tags": []
   },
   "outputs": [],
   "source": [
    "import pandas as pd\n",
    "import sqlite3"
   ]
  },
  {
   "cell_type": "code",
   "execution_count": 2,
   "id": "innovative-syndrome",
   "metadata": {
    "execution": {
     "iopub.execute_input": "2021-10-25T18:00:07.474106Z",
     "iopub.status.busy": "2021-10-25T18:00:07.471724Z",
     "iopub.status.idle": "2021-10-25T18:00:08.114541Z",
     "shell.execute_reply": "2021-10-25T18:00:08.115741Z"
    },
    "papermill": {
     "duration": 0.672654,
     "end_time": "2021-10-25T18:00:08.116146",
     "exception": false,
     "start_time": "2021-10-25T18:00:07.443492",
     "status": "completed"
    },
    "tags": []
   },
   "outputs": [],
   "source": [
    "timestamps = pd.read_sql(\"select distinct record_time from EBAY_TOP_BERLIN order by record_time desc limit 2\", sqlite3.connect(\"UsedObjects.db\"))"
   ]
  },
  {
   "cell_type": "code",
   "execution_count": 3,
   "id": "periodic-identification",
   "metadata": {
    "execution": {
     "iopub.execute_input": "2021-10-25T18:00:08.188592Z",
     "iopub.status.busy": "2021-10-25T18:00:08.186553Z",
     "iopub.status.idle": "2021-10-25T18:00:08.207431Z",
     "shell.execute_reply": "2021-10-25T18:00:08.208905Z"
    },
    "papermill": {
     "duration": 0.068331,
     "end_time": "2021-10-25T18:00:08.209369",
     "exception": false,
     "start_time": "2021-10-25T18:00:08.141038",
     "status": "completed"
    },
    "tags": []
   },
   "outputs": [
    {
     "data": {
      "text/html": [
       "<div>\n",
       "<style scoped>\n",
       "    .dataframe tbody tr th:only-of-type {\n",
       "        vertical-align: middle;\n",
       "    }\n",
       "\n",
       "    .dataframe tbody tr th {\n",
       "        vertical-align: top;\n",
       "    }\n",
       "\n",
       "    .dataframe thead th {\n",
       "        text-align: right;\n",
       "    }\n",
       "</style>\n",
       "<table border=\"1\" class=\"dataframe\">\n",
       "  <thead>\n",
       "    <tr style=\"text-align: right;\">\n",
       "      <th></th>\n",
       "      <th>RECORD_TIME</th>\n",
       "    </tr>\n",
       "  </thead>\n",
       "  <tbody>\n",
       "    <tr>\n",
       "      <th>0</th>\n",
       "      <td>2021-10-25 20:00</td>\n",
       "    </tr>\n",
       "    <tr>\n",
       "      <th>1</th>\n",
       "      <td>2021-10-25 19:30</td>\n",
       "    </tr>\n",
       "  </tbody>\n",
       "</table>\n",
       "</div>"
      ],
      "text/plain": [
       "        RECORD_TIME\n",
       "0  2021-10-25 20:00\n",
       "1  2021-10-25 19:30"
      ]
     },
     "execution_count": 3,
     "metadata": {},
     "output_type": "execute_result"
    }
   ],
   "source": [
    "timestamps"
   ]
  },
  {
   "cell_type": "code",
   "execution_count": 4,
   "id": "alternate-victory",
   "metadata": {
    "execution": {
     "iopub.execute_input": "2021-10-25T18:00:08.261677Z",
     "iopub.status.busy": "2021-10-25T18:00:08.259309Z",
     "iopub.status.idle": "2021-10-25T18:00:09.187972Z",
     "shell.execute_reply": "2021-10-25T18:00:09.189361Z"
    },
    "papermill": {
     "duration": 0.958954,
     "end_time": "2021-10-25T18:00:09.189806",
     "exception": false,
     "start_time": "2021-10-25T18:00:08.230852",
     "status": "completed"
    },
    "tags": []
   },
   "outputs": [],
   "source": [
    "df = pd.read_sql(\"select * from EBAY_TOP_BERLIN where record_time in (select distinct record_time from EBAY_TOP_BERLIN order by record_time desc limit 2)\", sqlite3.connect(\"UsedObjects.db\"))"
   ]
  },
  {
   "cell_type": "code",
   "execution_count": 5,
   "id": "popular-active",
   "metadata": {
    "execution": {
     "iopub.execute_input": "2021-10-25T18:00:09.260225Z",
     "iopub.status.busy": "2021-10-25T18:00:09.247035Z",
     "iopub.status.idle": "2021-10-25T18:00:09.278891Z",
     "shell.execute_reply": "2021-10-25T18:00:09.280258Z"
    },
    "papermill": {
     "duration": 0.0704,
     "end_time": "2021-10-25T18:00:09.280755",
     "exception": false,
     "start_time": "2021-10-25T18:00:09.210355",
     "status": "completed"
    },
    "tags": []
   },
   "outputs": [],
   "source": [
    "df_pivot = df.pivot_table(index=\"PRODUCT\", columns = \"RECORD_TIME\", values = \"LISTING_COUNT\")"
   ]
  },
  {
   "cell_type": "code",
   "execution_count": 6,
   "id": "union-huntington",
   "metadata": {
    "execution": {
     "iopub.execute_input": "2021-10-25T18:00:09.337656Z",
     "iopub.status.busy": "2021-10-25T18:00:09.335562Z",
     "iopub.status.idle": "2021-10-25T18:00:09.341024Z",
     "shell.execute_reply": "2021-10-25T18:00:09.342342Z"
    },
    "papermill": {
     "duration": 0.04109,
     "end_time": "2021-10-25T18:00:09.342764",
     "exception": false,
     "start_time": "2021-10-25T18:00:09.301674",
     "status": "completed"
    },
    "tags": []
   },
   "outputs": [],
   "source": [
    "df_pivot.columns = [\"stamp_1\", \"stamp_2\"]\n",
    "df_pivot_diff = df_pivot.diff(axis=1)"
   ]
  },
  {
   "cell_type": "code",
   "execution_count": 7,
   "id": "fifth-motion",
   "metadata": {
    "execution": {
     "iopub.execute_input": "2021-10-25T18:00:09.398012Z",
     "iopub.status.busy": "2021-10-25T18:00:09.395452Z",
     "iopub.status.idle": "2021-10-25T18:00:10.919975Z",
     "shell.execute_reply": "2021-10-25T18:00:10.921325Z"
    },
    "papermill": {
     "duration": 1.557598,
     "end_time": "2021-10-25T18:00:10.921750",
     "exception": false,
     "start_time": "2021-10-25T18:00:09.364152",
     "status": "completed"
    },
    "tags": []
   },
   "outputs": [
    {
     "data": {
      "text/plain": [
       "<AxesSubplot:ylabel='PRODUCT'>"
      ]
     },
     "execution_count": 7,
     "metadata": {},
     "output_type": "execute_result"
    },
    {
     "data": {
      "image/png": "[encoded data removed]",
      "text/plain": [
       "<Figure size 432x288 with 1 Axes>"
      ]
     },
     "metadata": {
      "needs_background": "light"
     },
     "output_type": "display_data"
    }
   ],
   "source": [
    "df_pivot_diff.sort_values(\"stamp_2\", ascending = False)[\"stamp_2\"].head(10).plot.barh()"
   ]
  },
  {
   "cell_type": "code",
   "execution_count": null,
   "id": "extra-executive",
   "metadata": {
    "papermill": {
     "duration": 0.022273,
     "end_time": "2021-10-25T18:00:10.967783",
     "exception": false,
     "start_time": "2021-10-25T18:00:10.945510",
     "status": "completed"
    },
    "tags": []
   },
   "outputs": [],
   "source": []
  }
 ],
 "metadata": {
  "kernelspec": {
   "display_name": "Python 3",
   "language": "python",
   "name": "python3"
  },
  "language_info": {
   "codemirror_mode": {
    "name": "ipython",
    "version": 3
   },
   "file_extension": ".py",
   "mimetype": "text/x-python",
   "name": "python",
   "nbconvert_exporter": "python",
   "pygments_lexer": "ipython3",
   "version": "3.9.5"
  },
  "papermill": {
   "default_parameters": {},
   "duration": 7.467152,
   "end_time": "2021-10-25T18:00:11.612328",
   "environment_variables": {},
   "exception": null,
   "input_path": "eBay_Overview.ipynb",
   "output_path": "eBay_Overview.ipynb",
   "parameters": {},
   "start_time": "2021-10-25T18:00:04.145176",
   "version": "2.3.3"
  }
 },
 "nbformat": 4,
 "nbformat_minor": 5
}