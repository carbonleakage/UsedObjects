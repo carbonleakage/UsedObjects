{
 "cells": [
  {
   "cell_type": "code",
   "execution_count": 1,
   "id": "reverse-picking",
   "metadata": {
    "execution": {
     "iopub.execute_input": "2021-10-26T06:30:07.037493Z",
     "iopub.status.busy": "2021-10-26T06:30:07.035445Z",
     "iopub.status.idle": "2021-10-26T06:30:07.841404Z",
     "shell.execute_reply": "2021-10-26T06:30:07.842697Z"
    },
    "papermill": {
     "duration": 0.856314,
     "end_time": "2021-10-26T06:30:07.843331",
     "exception": false,
     "start_time": "2021-10-26T06:30:06.987017",
     "status": "completed"
    },
    "tags": []
   },
   "outputs": [],
   "source": [
    "import pandas as pd\n",
    "import sqlite3"
   ]
  },
  {
   "cell_type": "code",
   "execution_count": 2,
   "id": "innovative-syndrome",
   "metadata": {
    "execution": {
     "iopub.execute_input": "2021-10-26T06:30:07.895216Z",
     "iopub.status.busy": "2021-10-26T06:30:07.892992Z",
     "iopub.status.idle": "2021-10-26T06:30:08.533649Z",
     "shell.execute_reply": "2021-10-26T06:30:08.534905Z"
    },
    "papermill": {
     "duration": 0.670286,
     "end_time": "2021-10-26T06:30:08.535310",
     "exception": false,
     "start_time": "2021-10-26T06:30:07.865024",
     "status": "completed"
    },
    "tags": []
   },
   "outputs": [],
   "source": [
    "timestamps = pd.read_sql(\"select distinct record_time from EBAY_TOP_BERLIN order by record_time desc limit 2\", sqlite3.connect(\"UsedObjects.db\"))"
   ]
  },
  {
   "cell_type": "code",
   "execution_count": 3,
   "id": "periodic-identification",
   "metadata": {
    "execution": {
     "iopub.execute_input": "2021-10-26T06:30:08.609991Z",
     "iopub.status.busy": "2021-10-26T06:30:08.607876Z",
     "iopub.status.idle": "2021-10-26T06:30:08.627830Z",
     "shell.execute_reply": "2021-10-26T06:30:08.629284Z"
    },
    "papermill": {
     "duration": 0.069481,
     "end_time": "2021-10-26T06:30:08.629713",
     "exception": false,
     "start_time": "2021-10-26T06:30:08.560232",
     "status": "completed"
    },
    "tags": []
   },
   "outputs": [
    {
     "data": {
      "text/html": [
       "<div>\n",
       "<style scoped>\n",
       "    .dataframe tbody tr th:only-of-type {\n",
       "        vertical-align: middle;\n",
       "    }\n",
       "\n",
       "    .dataframe tbody tr th {\n",
       "        vertical-align: top;\n",
       "    }\n",
       "\n",
       "    .dataframe thead th {\n",
       "        text-align: right;\n",
       "    }\n",
       "</style>\n",
       "<table border=\"1\" class=\"dataframe\">\n",
       "  <thead>\n",
       "    <tr style=\"text-align: right;\">\n",
       "      <th></th>\n",
       "      <th>RECORD_TIME</th>\n",
       "    </tr>\n",
       "  </thead>\n",
       "  <tbody>\n",
       "    <tr>\n",
       "      <th>0</th>\n",
       "      <td>2021-10-26 08:30</td>\n",
       "    </tr>\n",
       "    <tr>\n",
       "      <th>1</th>\n",
       "      <td>2021-10-26 08:00</td>\n",
       "    </tr>\n",
       "  </tbody>\n",
       "</table>\n",
       "</div>"
      ],
      "text/plain": [
       "        RECORD_TIME\n",
       "0  2021-10-26 08:30\n",
       "1  2021-10-26 08:00"
      ]
     },
     "execution_count": 3,
     "metadata": {},
     "output_type": "execute_result"
    }
   ],
   "source": [
    "timestamps"
   ]
  },
  {
   "cell_type": "code",
   "execution_count": 4,
   "id": "alternate-victory",
   "metadata": {
    "execution": {
     "iopub.execute_input": "2021-10-26T06:30:08.681913Z",
     "iopub.status.busy": "2021-10-26T06:30:08.679545Z",
     "iopub.status.idle": "2021-10-26T06:30:09.631366Z",
     "shell.execute_reply": "2021-10-26T06:30:09.632567Z"
    },
    "papermill": {
     "duration": 0.982349,
     "end_time": "2021-10-26T06:30:09.633033",
     "exception": false,
     "start_time": "2021-10-26T06:30:08.650684",
     "status": "completed"
    },
    "tags": []
   },
   "outputs": [],
   "source": [
    "df = pd.read_sql(\"select * from EBAY_TOP_BERLIN where record_time in (select distinct record_time from EBAY_TOP_BERLIN order by record_time desc limit 2)\", sqlite3.connect(\"UsedObjects.db\"))"
   ]
  },
  {
   "cell_type": "code",
   "execution_count": 5,
   "id": "popular-active",
   "metadata": {
    "execution": {
     "iopub.execute_input": "2021-10-26T06:30:09.707073Z",
     "iopub.status.busy": "2021-10-26T06:30:09.694189Z",
     "iopub.status.idle": "2021-10-26T06:30:09.722968Z",
     "shell.execute_reply": "2021-10-26T06:30:09.724263Z"
    },
    "papermill": {
     "duration": 0.068738,
     "end_time": "2021-10-26T06:30:09.724763",
     "exception": false,
     "start_time": "2021-10-26T06:30:09.656025",
     "status": "completed"
    },
    "tags": []
   },
   "outputs": [],
   "source": [
    "df_pivot = df.pivot_table(index=\"PRODUCT\", columns = \"RECORD_TIME\", values = \"LISTING_COUNT\")"
   ]
  },
  {
   "cell_type": "code",
   "execution_count": 6,
   "id": "union-huntington",
   "metadata": {
    "execution": {
     "iopub.execute_input": "2021-10-26T06:30:09.780446Z",
     "iopub.status.busy": "2021-10-26T06:30:09.777711Z",
     "iopub.status.idle": "2021-10-26T06:30:09.785526Z",
     "shell.execute_reply": "2021-10-26T06:30:09.786929Z"
    },
    "papermill": {
     "duration": 0.041422,
     "end_time": "2021-10-26T06:30:09.787379",
     "exception": false,
     "start_time": "2021-10-26T06:30:09.745957",
     "status": "completed"
    },
    "tags": []
   },
   "outputs": [],
   "source": [
    "df_pivot.columns = [\"stamp_1\", \"stamp_2\"]\n",
    "df_pivot_diff = df_pivot.diff(axis=1)"
   ]
  },
  {
   "cell_type": "code",
   "execution_count": 7,
   "id": "fifth-motion",
   "metadata": {
    "execution": {
     "iopub.execute_input": "2021-10-26T06:30:09.844206Z",
     "iopub.status.busy": "2021-10-26T06:30:09.841595Z",
     "iopub.status.idle": "2021-10-26T06:30:11.377291Z",
     "shell.execute_reply": "2021-10-26T06:30:11.378593Z"
    },
    "papermill": {
     "duration": 1.569497,
     "end_time": "2021-10-26T06:30:11.379025",
     "exception": false,
     "start_time": "2021-10-26T06:30:09.809528",
     "status": "completed"
    },
    "tags": []
   },
   "outputs": [
    {
     "data": {
      "text/plain": [
       "<AxesSubplot:ylabel='PRODUCT'>"
      ]
     },
     "execution_count": 7,
     "metadata": {},
     "output_type": "execute_result"
    },
    {
     "data": {
      "image/png": "[encoded data removed]",
      "text/plain": [
       "<Figure size 432x288 with 1 Axes>"
      ]
     },
     "metadata": {
      "needs_background": "light"
     },
     "output_type": "display_data"
    }
   ],
   "source": [
    "df_pivot_diff.sort_values(\"stamp_2\", ascending = False)[\"stamp_2\"].head(10).plot.barh()"
   ]
  },
  {
   "cell_type": "code",
   "execution_count": null,
   "id": "extra-executive",
   "metadata": {
    "papermill": {
     "duration": 0.022461,
     "end_time": "2021-10-26T06:30:11.426976",
     "exception": false,
     "start_time": "2021-10-26T06:30:11.404515",
     "status": "completed"
    },
    "tags": []
   },
   "outputs": [],
   "source": []
  }
 ],
 "metadata": {
  "kernelspec": {
   "display_name": "Python 3",
   "language": "python",
   "name": "python3"
  },
  "language_info": {
   "codemirror_mode": {
    "name": "ipython",
    "version": 3
   },
   "file_extension": ".py",
   "mimetype": "text/x-python",
   "name": "python",
   "nbconvert_exporter": "python",
   "pygments_lexer": "ipython3",
   "version": "3.9.5"
  },
  "papermill": {
   "default_parameters": {},
   "duration": 7.493901,
   "end_time": "2021-10-26T06:30:12.071070",
   "environment_variables": {},
   "exception": null,
   "input_path": "eBay_Overview.ipynb",
   "output_path": "eBay_Overview.ipynb",
   "parameters": {},
   "start_time": "2021-10-26T06:30:04.577169",
   "version": "2.3.3"
  }
 },
 "nbformat": 4,
 "nbformat_minor": 5
}