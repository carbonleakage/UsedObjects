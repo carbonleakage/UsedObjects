{
 "cells": [
  {
   "cell_type": "code",
   "execution_count": 1,
   "id": "reverse-picking",
   "metadata": {
    "execution": {
     "iopub.execute_input": "2021-10-04T08:00:06.571195Z",
     "iopub.status.busy": "2021-10-04T08:00:06.569187Z",
     "iopub.status.idle": "2021-10-04T08:00:07.373679Z",
     "shell.execute_reply": "2021-10-04T08:00:07.374994Z"
    },
    "papermill": {
     "duration": 0.85427,
     "end_time": "2021-10-04T08:00:07.375620",
     "exception": false,
     "start_time": "2021-10-04T08:00:06.521350",
     "status": "completed"
    },
    "tags": []
   },
   "outputs": [],
   "source": [
    "import pandas as pd\n",
    "import sqlite3"
   ]
  },
  {
   "cell_type": "code",
   "execution_count": 2,
   "id": "innovative-syndrome",
   "metadata": {
    "execution": {
     "iopub.execute_input": "2021-10-04T08:00:07.426301Z",
     "iopub.status.busy": "2021-10-04T08:00:07.424445Z",
     "iopub.status.idle": "2021-10-04T08:00:07.893753Z",
     "shell.execute_reply": "2021-10-04T08:00:07.895203Z"
    },
    "papermill": {
     "duration": 0.499102,
     "end_time": "2021-10-04T08:00:07.895634",
     "exception": false,
     "start_time": "2021-10-04T08:00:07.396532",
     "status": "completed"
    },
    "tags": []
   },
   "outputs": [],
   "source": [
    "timestamps = pd.read_sql(\"select distinct record_time from EBAY_TOP_BERLIN order by record_time desc limit 2\", sqlite3.connect(\"UsedObjects.db\"))"
   ]
  },
  {
   "cell_type": "code",
   "execution_count": 3,
   "id": "periodic-identification",
   "metadata": {
    "execution": {
     "iopub.execute_input": "2021-10-04T08:00:07.963216Z",
     "iopub.status.busy": "2021-10-04T08:00:07.961117Z",
     "iopub.status.idle": "2021-10-04T08:00:07.981545Z",
     "shell.execute_reply": "2021-10-04T08:00:07.982983Z"
    },
    "papermill": {
     "duration": 0.066947,
     "end_time": "2021-10-04T08:00:07.983435",
     "exception": false,
     "start_time": "2021-10-04T08:00:07.916488",
     "status": "completed"
    },
    "tags": []
   },
   "outputs": [
    {
     "data": {
      "text/html": [
       "<div>\n",
       "<style scoped>\n",
       "    .dataframe tbody tr th:only-of-type {\n",
       "        vertical-align: middle;\n",
       "    }\n",
       "\n",
       "    .dataframe tbody tr th {\n",
       "        vertical-align: top;\n",
       "    }\n",
       "\n",
       "    .dataframe thead th {\n",
       "        text-align: right;\n",
       "    }\n",
       "</style>\n",
       "<table border=\"1\" class=\"dataframe\">\n",
       "  <thead>\n",
       "    <tr style=\"text-align: right;\">\n",
       "      <th></th>\n",
       "      <th>RECORD_TIME</th>\n",
       "    </tr>\n",
       "  </thead>\n",
       "  <tbody>\n",
       "    <tr>\n",
       "      <th>0</th>\n",
       "      <td>2021-10-04 10:00</td>\n",
       "    </tr>\n",
       "    <tr>\n",
       "      <th>1</th>\n",
       "      <td>2021-10-04 09:30</td>\n",
       "    </tr>\n",
       "  </tbody>\n",
       "</table>\n",
       "</div>"
      ],
      "text/plain": [
       "        RECORD_TIME\n",
       "0  2021-10-04 10:00\n",
       "1  2021-10-04 09:30"
      ]
     },
     "execution_count": 3,
     "metadata": {},
     "output_type": "execute_result"
    }
   ],
   "source": [
    "timestamps"
   ]
  },
  {
   "cell_type": "code",
   "execution_count": 4,
   "id": "alternate-victory",
   "metadata": {
    "execution": {
     "iopub.execute_input": "2021-10-04T08:00:08.043054Z",
     "iopub.status.busy": "2021-10-04T08:00:08.040912Z",
     "iopub.status.idle": "2021-10-04T08:00:08.696757Z",
     "shell.execute_reply": "2021-10-04T08:00:08.697985Z"
    },
    "papermill": {
     "duration": 0.689474,
     "end_time": "2021-10-04T08:00:08.698380",
     "exception": false,
     "start_time": "2021-10-04T08:00:08.008906",
     "status": "completed"
    },
    "tags": []
   },
   "outputs": [],
   "source": [
    "df = pd.read_sql(\"select * from EBAY_TOP_BERLIN where record_time in (select distinct record_time from EBAY_TOP_BERLIN order by record_time desc limit 2)\", sqlite3.connect(\"UsedObjects.db\"))"
   ]
  },
  {
   "cell_type": "code",
   "execution_count": 5,
   "id": "popular-active",
   "metadata": {
    "execution": {
     "iopub.execute_input": "2021-10-04T08:00:08.768074Z",
     "iopub.status.busy": "2021-10-04T08:00:08.756068Z",
     "iopub.status.idle": "2021-10-04T08:00:08.785875Z",
     "shell.execute_reply": "2021-10-04T08:00:08.784472Z"
    },
    "papermill": {
     "duration": 0.067271,
     "end_time": "2021-10-04T08:00:08.786231",
     "exception": false,
     "start_time": "2021-10-04T08:00:08.718960",
     "status": "completed"
    },
    "tags": []
   },
   "outputs": [],
   "source": [
    "df_pivot = df.pivot_table(index=\"PRODUCT\", columns = \"RECORD_TIME\", values = \"LISTING_COUNT\")"
   ]
  },
  {
   "cell_type": "code",
   "execution_count": 6,
   "id": "union-huntington",
   "metadata": {
    "execution": {
     "iopub.execute_input": "2021-10-04T08:00:08.842873Z",
     "iopub.status.busy": "2021-10-04T08:00:08.840556Z",
     "iopub.status.idle": "2021-10-04T08:00:08.846277Z",
     "shell.execute_reply": "2021-10-04T08:00:08.847647Z"
    },
    "papermill": {
     "duration": 0.042197,
     "end_time": "2021-10-04T08:00:08.848071",
     "exception": false,
     "start_time": "2021-10-04T08:00:08.805874",
     "status": "completed"
    },
    "tags": []
   },
   "outputs": [],
   "source": [
    "df_pivot.columns = [\"stamp_1\", \"stamp_2\"]\n",
    "df_pivot_diff = df_pivot.diff(axis=1)"
   ]
  },
  {
   "cell_type": "code",
   "execution_count": 7,
   "id": "fifth-motion",
   "metadata": {
    "execution": {
     "iopub.execute_input": "2021-10-04T08:00:08.901820Z",
     "iopub.status.busy": "2021-10-04T08:00:08.899624Z",
     "iopub.status.idle": "2021-10-04T08:00:10.384981Z",
     "shell.execute_reply": "2021-10-04T08:00:10.386282Z"
    },
    "papermill": {
     "duration": 1.517933,
     "end_time": "2021-10-04T08:00:10.386704",
     "exception": false,
     "start_time": "2021-10-04T08:00:08.868771",
     "status": "completed"
    },
    "tags": []
   },
   "outputs": [
    {
     "data": {
      "text/plain": [
       "<AxesSubplot:ylabel='PRODUCT'>"
      ]
     },
     "execution_count": 7,
     "metadata": {},
     "output_type": "execute_result"
    },
    {
     "data": {
      "image/png": "[encoded data removed]",
      "text/plain": [
       "<Figure size 432x288 with 1 Axes>"
      ]
     },
     "metadata": {
      "needs_background": "light"
     },
     "output_type": "display_data"
    }
   ],
   "source": [
    "df_pivot_diff.sort_values(\"stamp_2\", ascending = False)[\"stamp_2\"].head(10).plot.barh()"
   ]
  },
  {
   "cell_type": "code",
   "execution_count": null,
   "id": "extra-executive",
   "metadata": {
    "papermill": {
     "duration": 0.022405,
     "end_time": "2021-10-04T08:00:10.435390",
     "exception": false,
     "start_time": "2021-10-04T08:00:10.412985",
     "status": "completed"
    },
    "tags": []
   },
   "outputs": [],
   "source": []
  }
 ],
 "metadata": {
  "kernelspec": {
   "display_name": "Python 3",
   "language": "python",
   "name": "python3"
  },
  "language_info": {
   "codemirror_mode": {
    "name": "ipython",
    "version": 3
   },
   "file_extension": ".py",
   "mimetype": "text/x-python",
   "name": "python",
   "nbconvert_exporter": "python",
   "pygments_lexer": "ipython3",
   "version": "3.9.5"
  },
  "papermill": {
   "default_parameters": {},
   "duration": 7.822368,
   "end_time": "2021-10-04T08:00:11.938517",
   "environment_variables": {},
   "exception": null,
   "input_path": "eBay_Overview.ipynb",
   "output_path": "eBay_Overview.ipynb",
   "parameters": {},
   "start_time": "2021-10-04T08:00:04.116149",
   "version": "2.3.3"
  }
 },
 "nbformat": 4,
 "nbformat_minor": 5
}