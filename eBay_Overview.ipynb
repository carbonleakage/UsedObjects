{
 "cells": [
  {
   "cell_type": "code",
   "execution_count": 1,
   "id": "reverse-picking",
   "metadata": {
    "execution": {
     "iopub.execute_input": "2021-09-24T02:00:06.532522Z",
     "iopub.status.busy": "2021-09-24T02:00:06.530507Z",
     "iopub.status.idle": "2021-09-24T02:00:07.334668Z",
     "shell.execute_reply": "2021-09-24T02:00:07.336072Z"
    },
    "papermill": {
     "duration": 0.856883,
     "end_time": "2021-09-24T02:00:07.336713",
     "exception": false,
     "start_time": "2021-09-24T02:00:06.479830",
     "status": "completed"
    },
    "tags": []
   },
   "outputs": [],
   "source": [
    "import pandas as pd\n",
    "import sqlite3"
   ]
  },
  {
   "cell_type": "code",
   "execution_count": 2,
   "id": "innovative-syndrome",
   "metadata": {
    "execution": {
     "iopub.execute_input": "2021-09-24T02:00:07.387877Z",
     "iopub.status.busy": "2021-09-24T02:00:07.385913Z",
     "iopub.status.idle": "2021-09-24T02:00:07.747738Z",
     "shell.execute_reply": "2021-09-24T02:00:07.749039Z"
    },
    "papermill": {
     "duration": 0.391426,
     "end_time": "2021-09-24T02:00:07.749497",
     "exception": false,
     "start_time": "2021-09-24T02:00:07.358071",
     "status": "completed"
    },
    "tags": []
   },
   "outputs": [],
   "source": [
    "timestamps = pd.read_sql(\"select distinct record_time from EBAY_TOP_BERLIN order by record_time desc limit 2\", sqlite3.connect(\"UsedObjects.db\"))"
   ]
  },
  {
   "cell_type": "code",
   "execution_count": 3,
   "id": "periodic-identification",
   "metadata": {
    "execution": {
     "iopub.execute_input": "2021-09-24T02:00:07.816634Z",
     "iopub.status.busy": "2021-09-24T02:00:07.814524Z",
     "iopub.status.idle": "2021-09-24T02:00:07.834667Z",
     "shell.execute_reply": "2021-09-24T02:00:07.836167Z"
    },
    "papermill": {
     "duration": 0.067297,
     "end_time": "2021-09-24T02:00:07.836611",
     "exception": false,
     "start_time": "2021-09-24T02:00:07.769314",
     "status": "completed"
    },
    "tags": []
   },
   "outputs": [
    {
     "data": {
      "text/html": [
       "<div>\n",
       "<style scoped>\n",
       "    .dataframe tbody tr th:only-of-type {\n",
       "        vertical-align: middle;\n",
       "    }\n",
       "\n",
       "    .dataframe tbody tr th {\n",
       "        vertical-align: top;\n",
       "    }\n",
       "\n",
       "    .dataframe thead th {\n",
       "        text-align: right;\n",
       "    }\n",
       "</style>\n",
       "<table border=\"1\" class=\"dataframe\">\n",
       "  <thead>\n",
       "    <tr style=\"text-align: right;\">\n",
       "      <th></th>\n",
       "      <th>RECORD_TIME</th>\n",
       "    </tr>\n",
       "  </thead>\n",
       "  <tbody>\n",
       "    <tr>\n",
       "      <th>0</th>\n",
       "      <td>2021-09-24 04:00</td>\n",
       "    </tr>\n",
       "    <tr>\n",
       "      <th>1</th>\n",
       "      <td>2021-09-24 03:30</td>\n",
       "    </tr>\n",
       "  </tbody>\n",
       "</table>\n",
       "</div>"
      ],
      "text/plain": [
       "        RECORD_TIME\n",
       "0  2021-09-24 04:00\n",
       "1  2021-09-24 03:30"
      ]
     },
     "execution_count": 3,
     "metadata": {},
     "output_type": "execute_result"
    }
   ],
   "source": [
    "timestamps"
   ]
  },
  {
   "cell_type": "code",
   "execution_count": 4,
   "id": "alternate-victory",
   "metadata": {
    "execution": {
     "iopub.execute_input": "2021-09-24T02:00:07.887929Z",
     "iopub.status.busy": "2021-09-24T02:00:07.885980Z",
     "iopub.status.idle": "2021-09-24T02:00:08.426340Z",
     "shell.execute_reply": "2021-09-24T02:00:08.428392Z"
    },
    "papermill": {
     "duration": 0.571153,
     "end_time": "2021-09-24T02:00:08.428943",
     "exception": false,
     "start_time": "2021-09-24T02:00:07.857790",
     "status": "completed"
    },
    "tags": []
   },
   "outputs": [],
   "source": [
    "df = pd.read_sql(\"select * from EBAY_TOP_BERLIN where record_time in (select distinct record_time from EBAY_TOP_BERLIN order by record_time desc limit 2)\", sqlite3.connect(\"UsedObjects.db\"))"
   ]
  },
  {
   "cell_type": "code",
   "execution_count": 5,
   "id": "popular-active",
   "metadata": {
    "execution": {
     "iopub.execute_input": "2021-09-24T02:00:08.508539Z",
     "iopub.status.busy": "2021-09-24T02:00:08.495717Z",
     "iopub.status.idle": "2021-09-24T02:00:08.524345Z",
     "shell.execute_reply": "2021-09-24T02:00:08.525650Z"
    },
    "papermill": {
     "duration": 0.071601,
     "end_time": "2021-09-24T02:00:08.526069",
     "exception": false,
     "start_time": "2021-09-24T02:00:08.454468",
     "status": "completed"
    },
    "tags": []
   },
   "outputs": [],
   "source": [
    "df_pivot = df.pivot_table(index=\"PRODUCT\", columns = \"RECORD_TIME\", values = \"LISTING_COUNT\")"
   ]
  },
  {
   "cell_type": "code",
   "execution_count": 6,
   "id": "union-huntington",
   "metadata": {
    "execution": {
     "iopub.execute_input": "2021-09-24T02:00:08.582669Z",
     "iopub.status.busy": "2021-09-24T02:00:08.580597Z",
     "iopub.status.idle": "2021-09-24T02:00:08.585710Z",
     "shell.execute_reply": "2021-09-24T02:00:08.587111Z"
    },
    "papermill": {
     "duration": 0.040351,
     "end_time": "2021-09-24T02:00:08.587581",
     "exception": false,
     "start_time": "2021-09-24T02:00:08.547230",
     "status": "completed"
    },
    "tags": []
   },
   "outputs": [],
   "source": [
    "df_pivot.columns = [\"stamp_1\", \"stamp_2\"]\n",
    "df_pivot_diff = df_pivot.diff(axis=1)"
   ]
  },
  {
   "cell_type": "code",
   "execution_count": 7,
   "id": "fifth-motion",
   "metadata": {
    "execution": {
     "iopub.execute_input": "2021-09-24T02:00:08.642852Z",
     "iopub.status.busy": "2021-09-24T02:00:08.640425Z",
     "iopub.status.idle": "2021-09-24T02:00:10.153463Z",
     "shell.execute_reply": "2021-09-24T02:00:10.154762Z"
    },
    "papermill": {
     "duration": 1.546174,
     "end_time": "2021-09-24T02:00:10.155278",
     "exception": false,
     "start_time": "2021-09-24T02:00:08.609104",
     "status": "completed"
    },
    "tags": []
   },
   "outputs": [
    {
     "data": {
      "text/plain": [
       "<AxesSubplot:ylabel='PRODUCT'>"
      ]
     },
     "execution_count": 7,
     "metadata": {},
     "output_type": "execute_result"
    },
    {
     "data": {
      "image/png": "[encoded data removed]",
      "text/plain": [
       "<Figure size 432x288 with 1 Axes>"
      ]
     },
     "metadata": {
      "needs_background": "light"
     },
     "output_type": "display_data"
    }
   ],
   "source": [
    "df_pivot_diff.sort_values(\"stamp_2\", ascending = False)[\"stamp_2\"].head(10).plot.barh()"
   ]
  },
  {
   "cell_type": "code",
   "execution_count": null,
   "id": "extra-executive",
   "metadata": {
    "papermill": {
     "duration": 0.022092,
     "end_time": "2021-09-24T02:00:10.201265",
     "exception": false,
     "start_time": "2021-09-24T02:00:10.179173",
     "status": "completed"
    },
    "tags": []
   },
   "outputs": [],
   "source": []
  }
 ],
 "metadata": {
  "kernelspec": {
   "display_name": "Python 3",
   "language": "python",
   "name": "python3"
  },
  "language_info": {
   "codemirror_mode": {
    "name": "ipython",
    "version": 3
   },
   "file_extension": ".py",
   "mimetype": "text/x-python",
   "name": "python",
   "nbconvert_exporter": "python",
   "pygments_lexer": "ipython3",
   "version": "3.9.5"
  },
  "papermill": {
   "default_parameters": {},
   "duration": 6.765245,
   "end_time": "2021-09-24T02:00:10.843936",
   "environment_variables": {},
   "exception": null,
   "input_path": "eBay_Overview.ipynb",
   "output_path": "eBay_Overview.ipynb",
   "parameters": {},
   "start_time": "2021-09-24T02:00:04.078691",
   "version": "2.3.3"
  }
 },
 "nbformat": 4,
 "nbformat_minor": 5
}