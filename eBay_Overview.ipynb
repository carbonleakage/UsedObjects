{
 "cells": [
  {
   "cell_type": "code",
   "execution_count": 1,
   "id": "reverse-picking",
   "metadata": {
    "execution": {
     "iopub.execute_input": "2021-09-23T15:00:07.637349Z",
     "iopub.status.busy": "2021-09-23T15:00:07.635408Z",
     "iopub.status.idle": "2021-09-23T15:00:08.440015Z",
     "shell.execute_reply": "2021-09-23T15:00:08.441313Z"
    },
    "papermill": {
     "duration": 0.855084,
     "end_time": "2021-09-23T15:00:08.441946",
     "exception": false,
     "start_time": "2021-09-23T15:00:07.586862",
     "status": "completed"
    },
    "tags": []
   },
   "outputs": [],
   "source": [
    "import pandas as pd\n",
    "import sqlite3"
   ]
  },
  {
   "cell_type": "code",
   "execution_count": 2,
   "id": "innovative-syndrome",
   "metadata": {
    "execution": {
     "iopub.execute_input": "2021-09-23T15:00:08.491572Z",
     "iopub.status.busy": "2021-09-23T15:00:08.489483Z",
     "iopub.status.idle": "2021-09-23T15:00:08.854893Z",
     "shell.execute_reply": "2021-09-23T15:00:08.856169Z"
    },
    "papermill": {
     "duration": 0.394782,
     "end_time": "2021-09-23T15:00:08.856589",
     "exception": false,
     "start_time": "2021-09-23T15:00:08.461807",
     "status": "completed"
    },
    "tags": []
   },
   "outputs": [],
   "source": [
    "timestamps = pd.read_sql(\"select distinct record_time from EBAY_TOP_BERLIN order by record_time desc limit 2\", sqlite3.connect(\"UsedObjects.db\"))"
   ]
  },
  {
   "cell_type": "code",
   "execution_count": 3,
   "id": "periodic-identification",
   "metadata": {
    "execution": {
     "iopub.execute_input": "2021-09-23T15:00:08.920224Z",
     "iopub.status.busy": "2021-09-23T15:00:08.918059Z",
     "iopub.status.idle": "2021-09-23T15:00:08.940481Z",
     "shell.execute_reply": "2021-09-23T15:00:08.941672Z"
    },
    "papermill": {
     "duration": 0.06615,
     "end_time": "2021-09-23T15:00:08.942070",
     "exception": false,
     "start_time": "2021-09-23T15:00:08.875920",
     "status": "completed"
    },
    "tags": []
   },
   "outputs": [
    {
     "data": {
      "text/html": [
       "<div>\n",
       "<style scoped>\n",
       "    .dataframe tbody tr th:only-of-type {\n",
       "        vertical-align: middle;\n",
       "    }\n",
       "\n",
       "    .dataframe tbody tr th {\n",
       "        vertical-align: top;\n",
       "    }\n",
       "\n",
       "    .dataframe thead th {\n",
       "        text-align: right;\n",
       "    }\n",
       "</style>\n",
       "<table border=\"1\" class=\"dataframe\">\n",
       "  <thead>\n",
       "    <tr style=\"text-align: right;\">\n",
       "      <th></th>\n",
       "      <th>RECORD_TIME</th>\n",
       "    </tr>\n",
       "  </thead>\n",
       "  <tbody>\n",
       "    <tr>\n",
       "      <th>0</th>\n",
       "      <td>2021-09-23 17:00</td>\n",
       "    </tr>\n",
       "    <tr>\n",
       "      <th>1</th>\n",
       "      <td>2021-09-23 16:30</td>\n",
       "    </tr>\n",
       "  </tbody>\n",
       "</table>\n",
       "</div>"
      ],
      "text/plain": [
       "        RECORD_TIME\n",
       "0  2021-09-23 17:00\n",
       "1  2021-09-23 16:30"
      ]
     },
     "execution_count": 3,
     "metadata": {},
     "output_type": "execute_result"
    }
   ],
   "source": [
    "timestamps"
   ]
  },
  {
   "cell_type": "code",
   "execution_count": 4,
   "id": "alternate-victory",
   "metadata": {
    "execution": {
     "iopub.execute_input": "2021-09-23T15:00:08.994017Z",
     "iopub.status.busy": "2021-09-23T15:00:08.991758Z",
     "iopub.status.idle": "2021-09-23T15:00:09.521467Z",
     "shell.execute_reply": "2021-09-23T15:00:09.522662Z"
    },
    "papermill": {
     "duration": 0.559628,
     "end_time": "2021-09-23T15:00:09.523145",
     "exception": false,
     "start_time": "2021-09-23T15:00:08.963517",
     "status": "completed"
    },
    "tags": []
   },
   "outputs": [],
   "source": [
    "df = pd.read_sql(\"select * from EBAY_TOP_BERLIN where record_time in (select distinct record_time from EBAY_TOP_BERLIN order by record_time desc limit 2)\", sqlite3.connect(\"UsedObjects.db\"))"
   ]
  },
  {
   "cell_type": "code",
   "execution_count": 5,
   "id": "popular-active",
   "metadata": {
    "execution": {
     "iopub.execute_input": "2021-09-23T15:00:09.602475Z",
     "iopub.status.busy": "2021-09-23T15:00:09.595732Z",
     "iopub.status.idle": "2021-09-23T15:00:09.617730Z",
     "shell.execute_reply": "2021-09-23T15:00:09.619129Z"
    },
    "papermill": {
     "duration": 0.070772,
     "end_time": "2021-09-23T15:00:09.619548",
     "exception": false,
     "start_time": "2021-09-23T15:00:09.548776",
     "status": "completed"
    },
    "tags": []
   },
   "outputs": [],
   "source": [
    "df_pivot = df.pivot_table(index=\"PRODUCT\", columns = \"RECORD_TIME\", values = \"LISTING_COUNT\")"
   ]
  },
  {
   "cell_type": "code",
   "execution_count": 6,
   "id": "union-huntington",
   "metadata": {
    "execution": {
     "iopub.execute_input": "2021-09-23T15:00:09.677584Z",
     "iopub.status.busy": "2021-09-23T15:00:09.675199Z",
     "iopub.status.idle": "2021-09-23T15:00:09.681252Z",
     "shell.execute_reply": "2021-09-23T15:00:09.682511Z"
    },
    "papermill": {
     "duration": 0.042324,
     "end_time": "2021-09-23T15:00:09.682974",
     "exception": false,
     "start_time": "2021-09-23T15:00:09.640650",
     "status": "completed"
    },
    "tags": []
   },
   "outputs": [],
   "source": [
    "df_pivot.columns = [\"stamp_1\", \"stamp_2\"]\n",
    "df_pivot_diff = df_pivot.diff(axis=1)"
   ]
  },
  {
   "cell_type": "code",
   "execution_count": 7,
   "id": "fifth-motion",
   "metadata": {
    "execution": {
     "iopub.execute_input": "2021-09-23T15:00:09.737092Z",
     "iopub.status.busy": "2021-09-23T15:00:09.734664Z",
     "iopub.status.idle": "2021-09-23T15:00:11.246433Z",
     "shell.execute_reply": "2021-09-23T15:00:11.248087Z"
    },
    "papermill": {
     "duration": 1.545403,
     "end_time": "2021-09-23T15:00:11.248595",
     "exception": false,
     "start_time": "2021-09-23T15:00:09.703192",
     "status": "completed"
    },
    "tags": []
   },
   "outputs": [
    {
     "data": {
      "text/plain": [
       "<AxesSubplot:ylabel='PRODUCT'>"
      ]
     },
     "execution_count": 7,
     "metadata": {},
     "output_type": "execute_result"
    },
    {
     "data": {
      "image/png": "[encoded data removed]",
      "text/plain": [
       "<Figure size 432x288 with 1 Axes>"
      ]
     },
     "metadata": {
      "needs_background": "light"
     },
     "output_type": "display_data"
    }
   ],
   "source": [
    "df_pivot_diff.sort_values(\"stamp_2\", ascending = False)[\"stamp_2\"].head(10).plot.barh()"
   ]
  },
  {
   "cell_type": "code",
   "execution_count": null,
   "id": "extra-executive",
   "metadata": {
    "papermill": {
     "duration": 0.021955,
     "end_time": "2021-09-23T15:00:11.294873",
     "exception": false,
     "start_time": "2021-09-23T15:00:11.272918",
     "status": "completed"
    },
    "tags": []
   },
   "outputs": [],
   "source": []
  }
 ],
 "metadata": {
  "kernelspec": {
   "display_name": "Python 3",
   "language": "python",
   "name": "python3"
  },
  "language_info": {
   "codemirror_mode": {
    "name": "ipython",
    "version": 3
   },
   "file_extension": ".py",
   "mimetype": "text/x-python",
   "name": "python",
   "nbconvert_exporter": "python",
   "pygments_lexer": "ipython3",
   "version": "3.9.5"
  },
  "papermill": {
   "default_parameters": {},
   "duration": 6.75479,
   "end_time": "2021-09-23T15:00:11.937371",
   "environment_variables": {},
   "exception": null,
   "input_path": "eBay_Overview.ipynb",
   "output_path": "eBay_Overview.ipynb",
   "parameters": {},
   "start_time": "2021-09-23T15:00:05.182581",
   "version": "2.3.3"
  }
 },
 "nbformat": 4,
 "nbformat_minor": 5
}