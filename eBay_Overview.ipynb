{
 "cells": [
  {
   "cell_type": "code",
   "execution_count": 1,
   "id": "reverse-picking",
   "metadata": {
    "execution": {
     "iopub.execute_input": "2021-08-11T08:30:04.212303Z",
     "iopub.status.busy": "2021-08-11T08:30:04.211540Z",
     "iopub.status.idle": "2021-08-11T08:30:04.813480Z",
     "shell.execute_reply": "2021-08-11T08:30:04.814056Z"
    },
    "papermill": {
     "duration": 0.621516,
     "end_time": "2021-08-11T08:30:04.814356",
     "exception": false,
     "start_time": "2021-08-11T08:30:04.192840",
     "status": "completed"
    },
    "tags": []
   },
   "outputs": [],
   "source": [
    "import pandas as pd\n",
    "import sqlite3"
   ]
  },
  {
   "cell_type": "code",
   "execution_count": 2,
   "id": "innovative-syndrome",
   "metadata": {
    "execution": {
     "iopub.execute_input": "2021-08-11T08:30:04.839070Z",
     "iopub.status.busy": "2021-08-11T08:30:04.838298Z",
     "iopub.status.idle": "2021-08-11T08:30:05.048650Z",
     "shell.execute_reply": "2021-08-11T08:30:05.048036Z"
    },
    "papermill": {
     "duration": 0.224737,
     "end_time": "2021-08-11T08:30:05.048813",
     "exception": false,
     "start_time": "2021-08-11T08:30:04.824076",
     "status": "completed"
    },
    "tags": []
   },
   "outputs": [],
   "source": [
    "timestamps = pd.read_sql(\"select distinct record_time from EBAY_TOP_BERLIN order by record_time desc limit 2\", sqlite3.connect(\"UsedObjects.db\"))"
   ]
  },
  {
   "cell_type": "code",
   "execution_count": 3,
   "id": "periodic-identification",
   "metadata": {
    "execution": {
     "iopub.execute_input": "2021-08-11T08:30:05.083006Z",
     "iopub.status.busy": "2021-08-11T08:30:05.082241Z",
     "iopub.status.idle": "2021-08-11T08:30:05.094802Z",
     "shell.execute_reply": "2021-08-11T08:30:05.094219Z"
    },
    "papermill": {
     "duration": 0.034697,
     "end_time": "2021-08-11T08:30:05.094955",
     "exception": false,
     "start_time": "2021-08-11T08:30:05.060258",
     "status": "completed"
    },
    "tags": []
   },
   "outputs": [
    {
     "data": {
      "text/html": [
       "<div>\n",
       "<style scoped>\n",
       "    .dataframe tbody tr th:only-of-type {\n",
       "        vertical-align: middle;\n",
       "    }\n",
       "\n",
       "    .dataframe tbody tr th {\n",
       "        vertical-align: top;\n",
       "    }\n",
       "\n",
       "    .dataframe thead th {\n",
       "        text-align: right;\n",
       "    }\n",
       "</style>\n",
       "<table border=\"1\" class=\"dataframe\">\n",
       "  <thead>\n",
       "    <tr style=\"text-align: right;\">\n",
       "      <th></th>\n",
       "      <th>RECORD_TIME</th>\n",
       "    </tr>\n",
       "  </thead>\n",
       "  <tbody>\n",
       "    <tr>\n",
       "      <th>0</th>\n",
       "      <td>2021-08-11 10:30</td>\n",
       "    </tr>\n",
       "    <tr>\n",
       "      <th>1</th>\n",
       "      <td>2021-08-11 10:00</td>\n",
       "    </tr>\n",
       "  </tbody>\n",
       "</table>\n",
       "</div>"
      ],
      "text/plain": [
       "        RECORD_TIME\n",
       "0  2021-08-11 10:30\n",
       "1  2021-08-11 10:00"
      ]
     },
     "execution_count": 3,
     "metadata": {},
     "output_type": "execute_result"
    }
   ],
   "source": [
    "timestamps"
   ]
  },
  {
   "cell_type": "code",
   "execution_count": 4,
   "id": "alternate-victory",
   "metadata": {
    "execution": {
     "iopub.execute_input": "2021-08-11T08:30:05.122723Z",
     "iopub.status.busy": "2021-08-11T08:30:05.121948Z",
     "iopub.status.idle": "2021-08-11T08:30:05.149894Z",
     "shell.execute_reply": "2021-08-11T08:30:05.150468Z"
    },
    "papermill": {
     "duration": 0.043541,
     "end_time": "2021-08-11T08:30:05.150660",
     "exception": false,
     "start_time": "2021-08-11T08:30:05.107119",
     "status": "completed"
    },
    "tags": []
   },
   "outputs": [],
   "source": [
    "df = pd.read_sql(\"select * from EBAY_TOP_BERLIN where record_time in (select distinct record_time from EBAY_TOP_BERLIN order by record_time desc limit 2)\", sqlite3.connect(\"UsedObjects.db\"))"
   ]
  },
  {
   "cell_type": "code",
   "execution_count": 5,
   "id": "popular-active",
   "metadata": {
    "execution": {
     "iopub.execute_input": "2021-08-11T08:30:05.182184Z",
     "iopub.status.busy": "2021-08-11T08:30:05.178244Z",
     "iopub.status.idle": "2021-08-11T08:30:05.199720Z",
     "shell.execute_reply": "2021-08-11T08:30:05.198859Z"
    },
    "papermill": {
     "duration": 0.040243,
     "end_time": "2021-08-11T08:30:05.199940",
     "exception": false,
     "start_time": "2021-08-11T08:30:05.159697",
     "status": "completed"
    },
    "tags": []
   },
   "outputs": [],
   "source": [
    "df_pivot = df.pivot_table(index=\"PRODUCT\", columns = \"RECORD_TIME\", values = \"LISTING_COUNT\")"
   ]
  },
  {
   "cell_type": "code",
   "execution_count": 6,
   "id": "union-huntington",
   "metadata": {
    "execution": {
     "iopub.execute_input": "2021-08-11T08:30:05.225323Z",
     "iopub.status.busy": "2021-08-11T08:30:05.224628Z",
     "iopub.status.idle": "2021-08-11T08:30:05.232762Z",
     "shell.execute_reply": "2021-08-11T08:30:05.232077Z"
    },
    "papermill": {
     "duration": 0.023689,
     "end_time": "2021-08-11T08:30:05.232933",
     "exception": false,
     "start_time": "2021-08-11T08:30:05.209244",
     "status": "completed"
    },
    "tags": []
   },
   "outputs": [],
   "source": [
    "df_pivot.columns = [\"stamp_1\", \"stamp_2\"]\n",
    "df_pivot_diff = df_pivot.diff(axis=1)"
   ]
  },
  {
   "cell_type": "code",
   "execution_count": 7,
   "id": "fifth-motion",
   "metadata": {
    "execution": {
     "iopub.execute_input": "2021-08-11T08:30:05.266948Z",
     "iopub.status.busy": "2021-08-11T08:30:05.266058Z",
     "iopub.status.idle": "2021-08-11T08:30:06.067586Z",
     "shell.execute_reply": "2021-08-11T08:30:06.068615Z"
    },
    "papermill": {
     "duration": 0.822765,
     "end_time": "2021-08-11T08:30:06.068941",
     "exception": false,
     "start_time": "2021-08-11T08:30:05.246176",
     "status": "completed"
    },
    "tags": []
   },
   "outputs": [
    {
     "data": {
      "text/plain": [
       "<AxesSubplot:ylabel='PRODUCT'>"
      ]
     },
     "execution_count": 7,
     "metadata": {},
     "output_type": "execute_result"
    },
    {
     "data": {
      "image/png": "[encoded data removed]",
      "text/plain": [
       "<Figure size 432x288 with 1 Axes>"
      ]
     },
     "metadata": {
      "needs_background": "light"
     },
     "output_type": "display_data"
    }
   ],
   "source": [
    "df_pivot_diff.sort_values(\"stamp_2\", ascending = False)[\"stamp_2\"].head(10).plot.barh()"
   ]
  },
  {
   "cell_type": "code",
   "execution_count": null,
   "id": "extra-executive",
   "metadata": {
    "papermill": {
     "duration": 0.010519,
     "end_time": "2021-08-11T08:30:06.095869",
     "exception": false,
     "start_time": "2021-08-11T08:30:06.085350",
     "status": "completed"
    },
    "tags": []
   },
   "outputs": [],
   "source": []
  }
 ],
 "metadata": {
  "kernelspec": {
   "display_name": "Python 3",
   "language": "python",
   "name": "python3"
  },
  "language_info": {
   "codemirror_mode": {
    "name": "ipython",
    "version": 3
   },
   "file_extension": ".py",
   "mimetype": "text/x-python",
   "name": "python",
   "nbconvert_exporter": "python",
   "pygments_lexer": "ipython3",
   "version": "3.8.8"
  },
  "papermill": {
   "default_parameters": {},
   "duration": 4.259804,
   "end_time": "2021-08-11T08:30:06.800499",
   "environment_variables": {},
   "exception": null,
   "input_path": "/Users/saravananshanmugam/Carbonleakage_Git/UsedObjects/eBay_Overview.ipynb",
   "output_path": "/Users/saravananshanmugam/Carbonleakage_Git/UsedObjects/eBay_Overview.ipynb",
   "parameters": {},
   "start_time": "2021-08-11T08:30:02.540695",
   "version": "2.3.3"
  }
 },
 "nbformat": 4,
 "nbformat_minor": 5
}