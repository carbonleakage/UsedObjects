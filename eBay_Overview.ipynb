{
 "cells": [
  {
   "cell_type": "code",
   "execution_count": 1,
   "id": "reverse-picking",
   "metadata": {
    "execution": {
     "iopub.execute_input": "2021-11-12T11:30:08.040563Z",
     "iopub.status.busy": "2021-11-12T11:30:08.037946Z",
     "iopub.status.idle": "2021-11-12T11:30:08.990318Z",
     "shell.execute_reply": "2021-11-12T11:30:08.991816Z"
    },
    "papermill": {
     "duration": 1.002617,
     "end_time": "2021-11-12T11:30:08.992559",
     "exception": false,
     "start_time": "2021-11-12T11:30:07.989942",
     "status": "completed"
    },
    "tags": []
   },
   "outputs": [],
   "source": [
    "import pandas as pd\n",
    "import sqlite3"
   ]
  },
  {
   "cell_type": "code",
   "execution_count": 2,
   "id": "innovative-syndrome",
   "metadata": {
    "execution": {
     "iopub.execute_input": "2021-11-12T11:30:09.056499Z",
     "iopub.status.busy": "2021-11-12T11:30:09.054205Z",
     "iopub.status.idle": "2021-11-12T11:30:09.875262Z",
     "shell.execute_reply": "2021-11-12T11:30:09.877126Z"
    },
    "papermill": {
     "duration": 0.857795,
     "end_time": "2021-11-12T11:30:09.877630",
     "exception": false,
     "start_time": "2021-11-12T11:30:09.019835",
     "status": "completed"
    },
    "tags": []
   },
   "outputs": [],
   "source": [
    "timestamps = pd.read_sql(\"select distinct record_time from EBAY_TOP_BERLIN order by record_time desc limit 2\", sqlite3.connect(\"UsedObjects.db\"))"
   ]
  },
  {
   "cell_type": "code",
   "execution_count": 3,
   "id": "periodic-identification",
   "metadata": {
    "execution": {
     "iopub.execute_input": "2021-11-12T11:30:09.953507Z",
     "iopub.status.busy": "2021-11-12T11:30:09.947313Z",
     "iopub.status.idle": "2021-11-12T11:30:09.972992Z",
     "shell.execute_reply": "2021-11-12T11:30:09.974462Z"
    },
    "papermill": {
     "duration": 0.076595,
     "end_time": "2021-11-12T11:30:09.974960",
     "exception": false,
     "start_time": "2021-11-12T11:30:09.898365",
     "status": "completed"
    },
    "tags": []
   },
   "outputs": [
    {
     "data": {
      "text/html": [
       "<div>\n",
       "<style scoped>\n",
       "    .dataframe tbody tr th:only-of-type {\n",
       "        vertical-align: middle;\n",
       "    }\n",
       "\n",
       "    .dataframe tbody tr th {\n",
       "        vertical-align: top;\n",
       "    }\n",
       "\n",
       "    .dataframe thead th {\n",
       "        text-align: right;\n",
       "    }\n",
       "</style>\n",
       "<table border=\"1\" class=\"dataframe\">\n",
       "  <thead>\n",
       "    <tr style=\"text-align: right;\">\n",
       "      <th></th>\n",
       "      <th>RECORD_TIME</th>\n",
       "    </tr>\n",
       "  </thead>\n",
       "  <tbody>\n",
       "    <tr>\n",
       "      <th>0</th>\n",
       "      <td>2021-11-12 12:30</td>\n",
       "    </tr>\n",
       "    <tr>\n",
       "      <th>1</th>\n",
       "      <td>2021-11-12 12:00</td>\n",
       "    </tr>\n",
       "  </tbody>\n",
       "</table>\n",
       "</div>"
      ],
      "text/plain": [
       "        RECORD_TIME\n",
       "0  2021-11-12 12:30\n",
       "1  2021-11-12 12:00"
      ]
     },
     "execution_count": 3,
     "metadata": {},
     "output_type": "execute_result"
    }
   ],
   "source": [
    "timestamps"
   ]
  },
  {
   "cell_type": "code",
   "execution_count": 4,
   "id": "alternate-victory",
   "metadata": {
    "execution": {
     "iopub.execute_input": "2021-11-12T11:30:10.034234Z",
     "iopub.status.busy": "2021-11-12T11:30:10.030870Z",
     "iopub.status.idle": "2021-11-12T11:30:11.180966Z",
     "shell.execute_reply": "2021-11-12T11:30:11.182461Z"
    },
    "papermill": {
     "duration": 1.185441,
     "end_time": "2021-11-12T11:30:11.182912",
     "exception": false,
     "start_time": "2021-11-12T11:30:09.997471",
     "status": "completed"
    },
    "tags": []
   },
   "outputs": [],
   "source": [
    "df = pd.read_sql(\"select * from EBAY_TOP_BERLIN where record_time in (select distinct record_time from EBAY_TOP_BERLIN order by record_time desc limit 2)\", sqlite3.connect(\"UsedObjects.db\"))"
   ]
  },
  {
   "cell_type": "code",
   "execution_count": 5,
   "id": "popular-active",
   "metadata": {
    "execution": {
     "iopub.execute_input": "2021-11-12T11:30:11.294012Z",
     "iopub.status.busy": "2021-11-12T11:30:11.285351Z",
     "iopub.status.idle": "2021-11-12T11:30:11.315599Z",
     "shell.execute_reply": "2021-11-12T11:30:11.314031Z"
    },
    "papermill": {
     "duration": 0.10781,
     "end_time": "2021-11-12T11:30:11.316038",
     "exception": false,
     "start_time": "2021-11-12T11:30:11.208228",
     "status": "completed"
    },
    "tags": []
   },
   "outputs": [],
   "source": [
    "df_pivot = df.pivot_table(index=\"PRODUCT\", columns = \"RECORD_TIME\", values = \"LISTING_COUNT\")"
   ]
  },
  {
   "cell_type": "code",
   "execution_count": 6,
   "id": "union-huntington",
   "metadata": {
    "execution": {
     "iopub.execute_input": "2021-11-12T11:30:11.379539Z",
     "iopub.status.busy": "2021-11-12T11:30:11.377451Z",
     "iopub.status.idle": "2021-11-12T11:30:11.382077Z",
     "shell.execute_reply": "2021-11-12T11:30:11.383807Z"
    },
    "papermill": {
     "duration": 0.046156,
     "end_time": "2021-11-12T11:30:11.384257",
     "exception": false,
     "start_time": "2021-11-12T11:30:11.338101",
     "status": "completed"
    },
    "tags": []
   },
   "outputs": [],
   "source": [
    "df_pivot.columns = [\"stamp_1\", \"stamp_2\"]\n",
    "df_pivot_diff = df_pivot.diff(axis=1)"
   ]
  },
  {
   "cell_type": "code",
   "execution_count": 7,
   "id": "fifth-motion",
   "metadata": {
    "execution": {
     "iopub.execute_input": "2021-11-12T11:30:11.440855Z",
     "iopub.status.busy": "2021-11-12T11:30:11.438501Z",
     "iopub.status.idle": "2021-11-12T11:30:13.343110Z",
     "shell.execute_reply": "2021-11-12T11:30:13.345232Z"
    },
    "papermill": {
     "duration": 1.940685,
     "end_time": "2021-11-12T11:30:13.345900",
     "exception": false,
     "start_time": "2021-11-12T11:30:11.405215",
     "status": "completed"
    },
    "tags": []
   },
   "outputs": [
    {
     "data": {
      "text/plain": [
       "<AxesSubplot:ylabel='PRODUCT'>"
      ]
     },
     "execution_count": 7,
     "metadata": {},
     "output_type": "execute_result"
    },
    {
     "data": {
      "image/png": "[encoded data removed]",
      "text/plain": [
       "<Figure size 432x288 with 1 Axes>"
      ]
     },
     "metadata": {
      "needs_background": "light"
     },
     "output_type": "display_data"
    }
   ],
   "source": [
    "df_pivot_diff.sort_values(\"stamp_2\", ascending = False)[\"stamp_2\"].head(10).plot.barh()"
   ]
  },
  {
   "cell_type": "code",
   "execution_count": null,
   "id": "extra-executive",
   "metadata": {
    "papermill": {
     "duration": 0.029209,
     "end_time": "2021-11-12T11:30:13.403653",
     "exception": false,
     "start_time": "2021-11-12T11:30:13.374444",
     "status": "completed"
    },
    "tags": []
   },
   "outputs": [],
   "source": []
  }
 ],
 "metadata": {
  "kernelspec": {
   "display_name": "Python 3",
   "language": "python",
   "name": "python3"
  },
  "language_info": {
   "codemirror_mode": {
    "name": "ipython",
    "version": 3
   },
   "file_extension": ".py",
   "mimetype": "text/x-python",
   "name": "python",
   "nbconvert_exporter": "python",
   "pygments_lexer": "ipython3",
   "version": "3.9.5"
  },
  "papermill": {
   "default_parameters": {},
   "duration": 9.942416,
   "end_time": "2021-11-12T11:30:15.218533",
   "environment_variables": {},
   "exception": null,
   "input_path": "eBay_Overview.ipynb",
   "output_path": "eBay_Overview.ipynb",
   "parameters": {},
   "start_time": "2021-11-12T11:30:05.276117",
   "version": "2.3.3"
  }
 },
 "nbformat": 4,
 "nbformat_minor": 5
}