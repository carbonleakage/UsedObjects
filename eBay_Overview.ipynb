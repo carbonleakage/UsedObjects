{
 "cells": [
  {
   "cell_type": "code",
   "execution_count": 1,
   "id": "reverse-picking",
   "metadata": {
    "execution": {
     "iopub.execute_input": "2021-12-14T04:30:07.539094Z",
     "iopub.status.busy": "2021-12-14T04:30:07.537050Z",
     "iopub.status.idle": "2021-12-14T04:30:08.503709Z",
     "shell.execute_reply": "2021-12-14T04:30:08.505846Z"
    },
    "papermill": {
     "duration": 1.018148,
     "end_time": "2021-12-14T04:30:08.506584",
     "exception": false,
     "start_time": "2021-12-14T04:30:07.488436",
     "status": "completed"
    },
    "tags": []
   },
   "outputs": [],
   "source": [
    "import pandas as pd\n",
    "import sqlite3"
   ]
  },
  {
   "cell_type": "code",
   "execution_count": 2,
   "id": "innovative-syndrome",
   "metadata": {
    "execution": {
     "iopub.execute_input": "2021-12-14T04:30:08.571662Z",
     "iopub.status.busy": "2021-12-14T04:30:08.569411Z",
     "iopub.status.idle": "2021-12-14T04:30:09.641334Z",
     "shell.execute_reply": "2021-12-14T04:30:09.642882Z"
    },
    "papermill": {
     "duration": 1.106258,
     "end_time": "2021-12-14T04:30:09.643379",
     "exception": false,
     "start_time": "2021-12-14T04:30:08.537121",
     "status": "completed"
    },
    "tags": []
   },
   "outputs": [],
   "source": [
    "timestamps = pd.read_sql(\"select distinct record_time from EBAY_TOP_BERLIN order by record_time desc limit 2\", sqlite3.connect(\"UsedObjects.db\"))"
   ]
  },
  {
   "cell_type": "code",
   "execution_count": 3,
   "id": "periodic-identification",
   "metadata": {
    "execution": {
     "iopub.execute_input": "2021-12-14T04:30:09.720006Z",
     "iopub.status.busy": "2021-12-14T04:30:09.713896Z",
     "iopub.status.idle": "2021-12-14T04:30:09.737961Z",
     "shell.execute_reply": "2021-12-14T04:30:09.739342Z"
    },
    "papermill": {
     "duration": 0.07537,
     "end_time": "2021-12-14T04:30:09.739804",
     "exception": false,
     "start_time": "2021-12-14T04:30:09.664434",
     "status": "completed"
    },
    "tags": []
   },
   "outputs": [
    {
     "data": {
      "text/html": [
       "<div>\n",
       "<style scoped>\n",
       "    .dataframe tbody tr th:only-of-type {\n",
       "        vertical-align: middle;\n",
       "    }\n",
       "\n",
       "    .dataframe tbody tr th {\n",
       "        vertical-align: top;\n",
       "    }\n",
       "\n",
       "    .dataframe thead th {\n",
       "        text-align: right;\n",
       "    }\n",
       "</style>\n",
       "<table border=\"1\" class=\"dataframe\">\n",
       "  <thead>\n",
       "    <tr style=\"text-align: right;\">\n",
       "      <th></th>\n",
       "      <th>RECORD_TIME</th>\n",
       "    </tr>\n",
       "  </thead>\n",
       "  <tbody>\n",
       "    <tr>\n",
       "      <th>0</th>\n",
       "      <td>2021-12-14 05:30</td>\n",
       "    </tr>\n",
       "    <tr>\n",
       "      <th>1</th>\n",
       "      <td>2021-12-14 05:00</td>\n",
       "    </tr>\n",
       "  </tbody>\n",
       "</table>\n",
       "</div>"
      ],
      "text/plain": [
       "        RECORD_TIME\n",
       "0  2021-12-14 05:30\n",
       "1  2021-12-14 05:00"
      ]
     },
     "execution_count": 3,
     "metadata": {},
     "output_type": "execute_result"
    }
   ],
   "source": [
    "timestamps"
   ]
  },
  {
   "cell_type": "code",
   "execution_count": 4,
   "id": "alternate-victory",
   "metadata": {
    "execution": {
     "iopub.execute_input": "2021-12-14T04:30:09.794394Z",
     "iopub.status.busy": "2021-12-14T04:30:09.792058Z",
     "iopub.status.idle": "2021-12-14T04:30:11.320052Z",
     "shell.execute_reply": "2021-12-14T04:30:11.321740Z"
    },
    "papermill": {
     "duration": 1.561912,
     "end_time": "2021-12-14T04:30:11.322215",
     "exception": false,
     "start_time": "2021-12-14T04:30:09.760303",
     "status": "completed"
    },
    "tags": []
   },
   "outputs": [],
   "source": [
    "df = pd.read_sql(\"select * from EBAY_TOP_BERLIN where record_time in (select distinct record_time from EBAY_TOP_BERLIN order by record_time desc limit 2)\", sqlite3.connect(\"UsedObjects.db\"))"
   ]
  },
  {
   "cell_type": "code",
   "execution_count": 5,
   "id": "popular-active",
   "metadata": {
    "execution": {
     "iopub.execute_input": "2021-12-14T04:30:11.390101Z",
     "iopub.status.busy": "2021-12-14T04:30:11.387550Z",
     "iopub.status.idle": "2021-12-14T04:30:11.420287Z",
     "shell.execute_reply": "2021-12-14T04:30:11.421785Z"
    },
    "papermill": {
     "duration": 0.079488,
     "end_time": "2021-12-14T04:30:11.422237",
     "exception": false,
     "start_time": "2021-12-14T04:30:11.342749",
     "status": "completed"
    },
    "tags": []
   },
   "outputs": [],
   "source": [
    "df_pivot = df.pivot_table(index=\"PRODUCT\", columns = \"RECORD_TIME\", values = \"LISTING_COUNT\")"
   ]
  },
  {
   "cell_type": "code",
   "execution_count": 6,
   "id": "union-huntington",
   "metadata": {
    "execution": {
     "iopub.execute_input": "2021-12-14T04:30:11.497393Z",
     "iopub.status.busy": "2021-12-14T04:30:11.490284Z",
     "iopub.status.idle": "2021-12-14T04:30:11.499722Z",
     "shell.execute_reply": "2021-12-14T04:30:11.501278Z"
    },
    "papermill": {
     "duration": 0.054407,
     "end_time": "2021-12-14T04:30:11.501756",
     "exception": false,
     "start_time": "2021-12-14T04:30:11.447349",
     "status": "completed"
    },
    "tags": []
   },
   "outputs": [],
   "source": [
    "df_pivot.columns = [\"stamp_1\", \"stamp_2\"]\n",
    "df_pivot_diff = df_pivot.diff(axis=1)"
   ]
  },
  {
   "cell_type": "code",
   "execution_count": 7,
   "id": "fifth-motion",
   "metadata": {
    "execution": {
     "iopub.execute_input": "2021-12-14T04:30:11.559466Z",
     "iopub.status.busy": "2021-12-14T04:30:11.556987Z",
     "iopub.status.idle": "2021-12-14T04:30:13.589716Z",
     "shell.execute_reply": "2021-12-14T04:30:13.592046Z"
    },
    "papermill": {
     "duration": 2.069242,
     "end_time": "2021-12-14T04:30:13.592756",
     "exception": false,
     "start_time": "2021-12-14T04:30:11.523514",
     "status": "completed"
    },
    "tags": []
   },
   "outputs": [
    {
     "data": {
      "text/plain": [
       "<AxesSubplot:ylabel='PRODUCT'>"
      ]
     },
     "execution_count": 7,
     "metadata": {},
     "output_type": "execute_result"
    },
    {
     "data": {
      "image/png": "[encoded data removed]",
      "text/plain": [
       "<Figure size 432x288 with 1 Axes>"
      ]
     },
     "metadata": {
      "needs_background": "light"
     },
     "output_type": "display_data"
    }
   ],
   "source": [
    "df_pivot_diff.sort_values(\"stamp_2\", ascending = False)[\"stamp_2\"].head(10).plot.barh()"
   ]
  },
  {
   "cell_type": "code",
   "execution_count": null,
   "id": "extra-executive",
   "metadata": {
    "papermill": {
     "duration": 0.028105,
     "end_time": "2021-12-14T04:30:13.655887",
     "exception": false,
     "start_time": "2021-12-14T04:30:13.627782",
     "status": "completed"
    },
    "tags": []
   },
   "outputs": [],
   "source": []
  }
 ],
 "metadata": {
  "kernelspec": {
   "display_name": "Python 3",
   "language": "python",
   "name": "python3"
  },
  "language_info": {
   "codemirror_mode": {
    "name": "ipython",
    "version": 3
   },
   "file_extension": ".py",
   "mimetype": "text/x-python",
   "name": "python",
   "nbconvert_exporter": "python",
   "pygments_lexer": "ipython3",
   "version": "3.9.5"
  },
  "papermill": {
   "default_parameters": {},
   "duration": 9.556949,
   "end_time": "2021-12-14T04:30:14.306963",
   "environment_variables": {},
   "exception": null,
   "input_path": "eBay_Overview.ipynb",
   "output_path": "eBay_Overview.ipynb",
   "parameters": {},
   "start_time": "2021-12-14T04:30:04.750014",
   "version": "2.3.3"
  }
 },
 "nbformat": 4,
 "nbformat_minor": 5
}