{
 "cells": [
  {
   "cell_type": "code",
   "execution_count": 1,
   "id": "reverse-picking",
   "metadata": {
    "execution": {
     "iopub.execute_input": "2021-10-19T05:00:07.672132Z",
     "iopub.status.busy": "2021-10-19T05:00:07.670188Z",
     "iopub.status.idle": "2021-10-19T05:00:08.474973Z",
     "shell.execute_reply": "2021-10-19T05:00:08.473398Z"
    },
    "papermill": {
     "duration": 0.853847,
     "end_time": "2021-10-19T05:00:08.475356",
     "exception": false,
     "start_time": "2021-10-19T05:00:07.621509",
     "status": "completed"
    },
    "tags": []
   },
   "outputs": [],
   "source": [
    "import pandas as pd\n",
    "import sqlite3"
   ]
  },
  {
   "cell_type": "code",
   "execution_count": 2,
   "id": "innovative-syndrome",
   "metadata": {
    "execution": {
     "iopub.execute_input": "2021-10-19T05:00:08.528581Z",
     "iopub.status.busy": "2021-10-19T05:00:08.526580Z",
     "iopub.status.idle": "2021-10-19T05:00:09.107219Z",
     "shell.execute_reply": "2021-10-19T05:00:09.108430Z"
    },
    "papermill": {
     "duration": 0.61196,
     "end_time": "2021-10-19T05:00:09.108877",
     "exception": false,
     "start_time": "2021-10-19T05:00:08.496917",
     "status": "completed"
    },
    "tags": []
   },
   "outputs": [],
   "source": [
    "timestamps = pd.read_sql(\"select distinct record_time from EBAY_TOP_BERLIN order by record_time desc limit 2\", sqlite3.connect(\"UsedObjects.db\"))"
   ]
  },
  {
   "cell_type": "code",
   "execution_count": 3,
   "id": "periodic-identification",
   "metadata": {
    "execution": {
     "iopub.execute_input": "2021-10-19T05:00:09.184667Z",
     "iopub.status.busy": "2021-10-19T05:00:09.182679Z",
     "iopub.status.idle": "2021-10-19T05:00:09.202262Z",
     "shell.execute_reply": "2021-10-19T05:00:09.203457Z"
    },
    "papermill": {
     "duration": 0.069498,
     "end_time": "2021-10-19T05:00:09.203842",
     "exception": false,
     "start_time": "2021-10-19T05:00:09.134344",
     "status": "completed"
    },
    "tags": []
   },
   "outputs": [
    {
     "data": {
      "text/html": [
       "<div>\n",
       "<style scoped>\n",
       "    .dataframe tbody tr th:only-of-type {\n",
       "        vertical-align: middle;\n",
       "    }\n",
       "\n",
       "    .dataframe tbody tr th {\n",
       "        vertical-align: top;\n",
       "    }\n",
       "\n",
       "    .dataframe thead th {\n",
       "        text-align: right;\n",
       "    }\n",
       "</style>\n",
       "<table border=\"1\" class=\"dataframe\">\n",
       "  <thead>\n",
       "    <tr style=\"text-align: right;\">\n",
       "      <th></th>\n",
       "      <th>RECORD_TIME</th>\n",
       "    </tr>\n",
       "  </thead>\n",
       "  <tbody>\n",
       "    <tr>\n",
       "      <th>0</th>\n",
       "      <td>2021-10-19 07:00</td>\n",
       "    </tr>\n",
       "    <tr>\n",
       "      <th>1</th>\n",
       "      <td>2021-10-19 06:30</td>\n",
       "    </tr>\n",
       "  </tbody>\n",
       "</table>\n",
       "</div>"
      ],
      "text/plain": [
       "        RECORD_TIME\n",
       "0  2021-10-19 07:00\n",
       "1  2021-10-19 06:30"
      ]
     },
     "execution_count": 3,
     "metadata": {},
     "output_type": "execute_result"
    }
   ],
   "source": [
    "timestamps"
   ]
  },
  {
   "cell_type": "code",
   "execution_count": 4,
   "id": "alternate-victory",
   "metadata": {
    "execution": {
     "iopub.execute_input": "2021-10-19T05:00:09.257356Z",
     "iopub.status.busy": "2021-10-19T05:00:09.255018Z",
     "iopub.status.idle": "2021-10-19T05:00:10.087348Z",
     "shell.execute_reply": "2021-10-19T05:00:10.088465Z"
    },
    "papermill": {
     "duration": 0.863113,
     "end_time": "2021-10-19T05:00:10.088919",
     "exception": false,
     "start_time": "2021-10-19T05:00:09.225806",
     "status": "completed"
    },
    "tags": []
   },
   "outputs": [],
   "source": [
    "df = pd.read_sql(\"select * from EBAY_TOP_BERLIN where record_time in (select distinct record_time from EBAY_TOP_BERLIN order by record_time desc limit 2)\", sqlite3.connect(\"UsedObjects.db\"))"
   ]
  },
  {
   "cell_type": "code",
   "execution_count": 5,
   "id": "popular-active",
   "metadata": {
    "execution": {
     "iopub.execute_input": "2021-10-19T05:00:10.161773Z",
     "iopub.status.busy": "2021-10-19T05:00:10.149193Z",
     "iopub.status.idle": "2021-10-19T05:00:10.177236Z",
     "shell.execute_reply": "2021-10-19T05:00:10.178463Z"
    },
    "papermill": {
     "duration": 0.067515,
     "end_time": "2021-10-19T05:00:10.178854",
     "exception": false,
     "start_time": "2021-10-19T05:00:10.111339",
     "status": "completed"
    },
    "tags": []
   },
   "outputs": [],
   "source": [
    "df_pivot = df.pivot_table(index=\"PRODUCT\", columns = \"RECORD_TIME\", values = \"LISTING_COUNT\")"
   ]
  },
  {
   "cell_type": "code",
   "execution_count": 6,
   "id": "union-huntington",
   "metadata": {
    "execution": {
     "iopub.execute_input": "2021-10-19T05:00:10.235525Z",
     "iopub.status.busy": "2021-10-19T05:00:10.233473Z",
     "iopub.status.idle": "2021-10-19T05:00:10.238516Z",
     "shell.execute_reply": "2021-10-19T05:00:10.239684Z"
    },
    "papermill": {
     "duration": 0.040233,
     "end_time": "2021-10-19T05:00:10.240103",
     "exception": false,
     "start_time": "2021-10-19T05:00:10.199870",
     "status": "completed"
    },
    "tags": []
   },
   "outputs": [],
   "source": [
    "df_pivot.columns = [\"stamp_1\", \"stamp_2\"]\n",
    "df_pivot_diff = df_pivot.diff(axis=1)"
   ]
  },
  {
   "cell_type": "code",
   "execution_count": 7,
   "id": "fifth-motion",
   "metadata": {
    "execution": {
     "iopub.execute_input": "2021-10-19T05:00:10.295641Z",
     "iopub.status.busy": "2021-10-19T05:00:10.293039Z",
     "iopub.status.idle": "2021-10-19T05:00:11.800093Z",
     "shell.execute_reply": "2021-10-19T05:00:11.801655Z"
    },
    "papermill": {
     "duration": 1.541297,
     "end_time": "2021-10-19T05:00:11.802122",
     "exception": false,
     "start_time": "2021-10-19T05:00:10.260825",
     "status": "completed"
    },
    "tags": []
   },
   "outputs": [
    {
     "data": {
      "text/plain": [
       "<AxesSubplot:ylabel='PRODUCT'>"
      ]
     },
     "execution_count": 7,
     "metadata": {},
     "output_type": "execute_result"
    },
    {
     "data": {
      "image/png": "[encoded data removed]",
      "text/plain": [
       "<Figure size 432x288 with 1 Axes>"
      ]
     },
     "metadata": {
      "needs_background": "light"
     },
     "output_type": "display_data"
    }
   ],
   "source": [
    "df_pivot_diff.sort_values(\"stamp_2\", ascending = False)[\"stamp_2\"].head(10).plot.barh()"
   ]
  },
  {
   "cell_type": "code",
   "execution_count": null,
   "id": "extra-executive",
   "metadata": {
    "papermill": {
     "duration": 0.022519,
     "end_time": "2021-10-19T05:00:11.849759",
     "exception": false,
     "start_time": "2021-10-19T05:00:11.827240",
     "status": "completed"
    },
    "tags": []
   },
   "outputs": [],
   "source": []
  }
 ],
 "metadata": {
  "kernelspec": {
   "display_name": "Python 3",
   "language": "python",
   "name": "python3"
  },
  "language_info": {
   "codemirror_mode": {
    "name": "ipython",
    "version": 3
   },
   "file_extension": ".py",
   "mimetype": "text/x-python",
   "name": "python",
   "nbconvert_exporter": "python",
   "pygments_lexer": "ipython3",
   "version": "3.9.5"
  },
  "papermill": {
   "default_parameters": {},
   "duration": 7.819759,
   "end_time": "2021-10-19T05:00:13.041341",
   "environment_variables": {},
   "exception": null,
   "input_path": "eBay_Overview.ipynb",
   "output_path": "eBay_Overview.ipynb",
   "parameters": {},
   "start_time": "2021-10-19T05:00:05.221582",
   "version": "2.3.3"
  }
 },
 "nbformat": 4,
 "nbformat_minor": 5
}