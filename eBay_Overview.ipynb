{
 "cells": [
  {
   "cell_type": "code",
   "execution_count": 1,
   "id": "reverse-picking",
   "metadata": {
    "execution": {
     "iopub.execute_input": "2021-11-10T15:30:07.832336Z",
     "iopub.status.busy": "2021-11-10T15:30:07.830072Z",
     "iopub.status.idle": "2021-11-10T15:30:08.792610Z",
     "shell.execute_reply": "2021-11-10T15:30:08.794388Z"
    },
    "papermill": {
     "duration": 1.010332,
     "end_time": "2021-11-10T15:30:08.795132",
     "exception": false,
     "start_time": "2021-11-10T15:30:07.784800",
     "status": "completed"
    },
    "tags": []
   },
   "outputs": [],
   "source": [
    "import pandas as pd\n",
    "import sqlite3"
   ]
  },
  {
   "cell_type": "code",
   "execution_count": 2,
   "id": "innovative-syndrome",
   "metadata": {
    "execution": {
     "iopub.execute_input": "2021-11-10T15:30:08.857519Z",
     "iopub.status.busy": "2021-11-10T15:30:08.855111Z",
     "iopub.status.idle": "2021-11-10T15:30:09.637264Z",
     "shell.execute_reply": "2021-11-10T15:30:09.638743Z"
    },
    "papermill": {
     "duration": 0.816788,
     "end_time": "2021-11-10T15:30:09.639205",
     "exception": false,
     "start_time": "2021-11-10T15:30:08.822417",
     "status": "completed"
    },
    "tags": []
   },
   "outputs": [],
   "source": [
    "timestamps = pd.read_sql(\"select distinct record_time from EBAY_TOP_BERLIN order by record_time desc limit 2\", sqlite3.connect(\"UsedObjects.db\"))"
   ]
  },
  {
   "cell_type": "code",
   "execution_count": 3,
   "id": "periodic-identification",
   "metadata": {
    "execution": {
     "iopub.execute_input": "2021-11-10T15:30:09.712293Z",
     "iopub.status.busy": "2021-11-10T15:30:09.706327Z",
     "iopub.status.idle": "2021-11-10T15:30:09.729003Z",
     "shell.execute_reply": "2021-11-10T15:30:09.730479Z"
    },
    "papermill": {
     "duration": 0.072084,
     "end_time": "2021-11-10T15:30:09.731011",
     "exception": false,
     "start_time": "2021-11-10T15:30:09.658927",
     "status": "completed"
    },
    "tags": []
   },
   "outputs": [
    {
     "data": {
      "text/html": [
       "<div>\n",
       "<style scoped>\n",
       "    .dataframe tbody tr th:only-of-type {\n",
       "        vertical-align: middle;\n",
       "    }\n",
       "\n",
       "    .dataframe tbody tr th {\n",
       "        vertical-align: top;\n",
       "    }\n",
       "\n",
       "    .dataframe thead th {\n",
       "        text-align: right;\n",
       "    }\n",
       "</style>\n",
       "<table border=\"1\" class=\"dataframe\">\n",
       "  <thead>\n",
       "    <tr style=\"text-align: right;\">\n",
       "      <th></th>\n",
       "      <th>RECORD_TIME</th>\n",
       "    </tr>\n",
       "  </thead>\n",
       "  <tbody>\n",
       "    <tr>\n",
       "      <th>0</th>\n",
       "      <td>2021-11-10 16:30</td>\n",
       "    </tr>\n",
       "    <tr>\n",
       "      <th>1</th>\n",
       "      <td>2021-11-10 16:00</td>\n",
       "    </tr>\n",
       "  </tbody>\n",
       "</table>\n",
       "</div>"
      ],
      "text/plain": [
       "        RECORD_TIME\n",
       "0  2021-11-10 16:30\n",
       "1  2021-11-10 16:00"
      ]
     },
     "execution_count": 3,
     "metadata": {},
     "output_type": "execute_result"
    }
   ],
   "source": [
    "timestamps"
   ]
  },
  {
   "cell_type": "code",
   "execution_count": 4,
   "id": "alternate-victory",
   "metadata": {
    "execution": {
     "iopub.execute_input": "2021-11-10T15:30:09.786957Z",
     "iopub.status.busy": "2021-11-10T15:30:09.784648Z",
     "iopub.status.idle": "2021-11-10T15:30:10.910048Z",
     "shell.execute_reply": "2021-11-10T15:30:10.911642Z"
    },
    "papermill": {
     "duration": 1.159638,
     "end_time": "2021-11-10T15:30:10.912141",
     "exception": false,
     "start_time": "2021-11-10T15:30:09.752503",
     "status": "completed"
    },
    "tags": []
   },
   "outputs": [],
   "source": [
    "df = pd.read_sql(\"select * from EBAY_TOP_BERLIN where record_time in (select distinct record_time from EBAY_TOP_BERLIN order by record_time desc limit 2)\", sqlite3.connect(\"UsedObjects.db\"))"
   ]
  },
  {
   "cell_type": "code",
   "execution_count": 5,
   "id": "popular-active",
   "metadata": {
    "execution": {
     "iopub.execute_input": "2021-11-10T15:30:10.980444Z",
     "iopub.status.busy": "2021-11-10T15:30:10.978032Z",
     "iopub.status.idle": "2021-11-10T15:30:11.012901Z",
     "shell.execute_reply": "2021-11-10T15:30:11.010943Z"
    },
    "papermill": {
     "duration": 0.078997,
     "end_time": "2021-11-10T15:30:11.013388",
     "exception": false,
     "start_time": "2021-11-10T15:30:10.934391",
     "status": "completed"
    },
    "tags": []
   },
   "outputs": [],
   "source": [
    "df_pivot = df.pivot_table(index=\"PRODUCT\", columns = \"RECORD_TIME\", values = \"LISTING_COUNT\")"
   ]
  },
  {
   "cell_type": "code",
   "execution_count": 6,
   "id": "union-huntington",
   "metadata": {
    "execution": {
     "iopub.execute_input": "2021-11-10T15:30:11.075305Z",
     "iopub.status.busy": "2021-11-10T15:30:11.073049Z",
     "iopub.status.idle": "2021-11-10T15:30:11.078760Z",
     "shell.execute_reply": "2021-11-10T15:30:11.080187Z"
    },
    "papermill": {
     "duration": 0.044821,
     "end_time": "2021-11-10T15:30:11.080648",
     "exception": false,
     "start_time": "2021-11-10T15:30:11.035827",
     "status": "completed"
    },
    "tags": []
   },
   "outputs": [],
   "source": [
    "df_pivot.columns = [\"stamp_1\", \"stamp_2\"]\n",
    "df_pivot_diff = df_pivot.diff(axis=1)"
   ]
  },
  {
   "cell_type": "code",
   "execution_count": 7,
   "id": "fifth-motion",
   "metadata": {
    "execution": {
     "iopub.execute_input": "2021-11-10T15:30:11.137015Z",
     "iopub.status.busy": "2021-11-10T15:30:11.134527Z",
     "iopub.status.idle": "2021-11-10T15:30:12.852741Z",
     "shell.execute_reply": "2021-11-10T15:30:12.854244Z"
    },
    "papermill": {
     "duration": 1.753578,
     "end_time": "2021-11-10T15:30:12.854705",
     "exception": false,
     "start_time": "2021-11-10T15:30:11.101127",
     "status": "completed"
    },
    "tags": []
   },
   "outputs": [
    {
     "data": {
      "text/plain": [
       "<AxesSubplot:ylabel='PRODUCT'>"
      ]
     },
     "execution_count": 7,
     "metadata": {},
     "output_type": "execute_result"
    },
    {
     "data": {
      "image/png": "[encoded data removed]",
      "text/plain": [
       "<Figure size 432x288 with 1 Axes>"
      ]
     },
     "metadata": {
      "needs_background": "light"
     },
     "output_type": "display_data"
    }
   ],
   "source": [
    "df_pivot_diff.sort_values(\"stamp_2\", ascending = False)[\"stamp_2\"].head(10).plot.barh()"
   ]
  },
  {
   "cell_type": "code",
   "execution_count": null,
   "id": "extra-executive",
   "metadata": {
    "papermill": {
     "duration": 0.037995,
     "end_time": "2021-11-10T15:30:12.926785",
     "exception": false,
     "start_time": "2021-11-10T15:30:12.888790",
     "status": "completed"
    },
    "tags": []
   },
   "outputs": [],
   "source": []
  }
 ],
 "metadata": {
  "kernelspec": {
   "display_name": "Python 3",
   "language": "python",
   "name": "python3"
  },
  "language_info": {
   "codemirror_mode": {
    "name": "ipython",
    "version": 3
   },
   "file_extension": ".py",
   "mimetype": "text/x-python",
   "name": "python",
   "nbconvert_exporter": "python",
   "pygments_lexer": "ipython3",
   "version": "3.9.5"
  },
  "papermill": {
   "default_parameters": {},
   "duration": 8.862044,
   "end_time": "2021-11-10T15:30:13.896917",
   "environment_variables": {},
   "exception": null,
   "input_path": "eBay_Overview.ipynb",
   "output_path": "eBay_Overview.ipynb",
   "parameters": {},
   "start_time": "2021-11-10T15:30:05.034873",
   "version": "2.3.3"
  }
 },
 "nbformat": 4,
 "nbformat_minor": 5
}