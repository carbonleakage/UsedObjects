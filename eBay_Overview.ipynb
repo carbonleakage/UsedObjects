{
 "cells": [
  {
   "cell_type": "code",
   "execution_count": 1,
   "id": "reverse-picking",
   "metadata": {
    "execution": {
     "iopub.execute_input": "2021-12-01T05:30:08.444369Z",
     "iopub.status.busy": "2021-12-01T05:30:08.442117Z",
     "iopub.status.idle": "2021-12-01T05:30:09.546036Z",
     "shell.execute_reply": "2021-12-01T05:30:09.547591Z"
    },
    "papermill": {
     "duration": 1.153598,
     "end_time": "2021-12-01T05:30:09.548303",
     "exception": false,
     "start_time": "2021-12-01T05:30:08.394705",
     "status": "completed"
    },
    "tags": []
   },
   "outputs": [],
   "source": [
    "import pandas as pd\n",
    "import sqlite3"
   ]
  },
  {
   "cell_type": "code",
   "execution_count": 2,
   "id": "innovative-syndrome",
   "metadata": {
    "execution": {
     "iopub.execute_input": "2021-12-01T05:30:09.604187Z",
     "iopub.status.busy": "2021-12-01T05:30:09.601476Z",
     "iopub.status.idle": "2021-12-01T05:30:10.546578Z",
     "shell.execute_reply": "2021-12-01T05:30:10.547798Z"
    },
    "papermill": {
     "duration": 0.978907,
     "end_time": "2021-12-01T05:30:10.548202",
     "exception": false,
     "start_time": "2021-12-01T05:30:09.569295",
     "status": "completed"
    },
    "tags": []
   },
   "outputs": [],
   "source": [
    "timestamps = pd.read_sql(\"select distinct record_time from EBAY_TOP_BERLIN order by record_time desc limit 2\", sqlite3.connect(\"UsedObjects.db\"))"
   ]
  },
  {
   "cell_type": "code",
   "execution_count": 3,
   "id": "periodic-identification",
   "metadata": {
    "execution": {
     "iopub.execute_input": "2021-12-01T05:30:10.616093Z",
     "iopub.status.busy": "2021-12-01T05:30:10.613839Z",
     "iopub.status.idle": "2021-12-01T05:30:10.635642Z",
     "shell.execute_reply": "2021-12-01T05:30:10.637084Z"
    },
    "papermill": {
     "duration": 0.069993,
     "end_time": "2021-12-01T05:30:10.637554",
     "exception": false,
     "start_time": "2021-12-01T05:30:10.567561",
     "status": "completed"
    },
    "tags": []
   },
   "outputs": [
    {
     "data": {
      "text/html": [
       "<div>\n",
       "<style scoped>\n",
       "    .dataframe tbody tr th:only-of-type {\n",
       "        vertical-align: middle;\n",
       "    }\n",
       "\n",
       "    .dataframe tbody tr th {\n",
       "        vertical-align: top;\n",
       "    }\n",
       "\n",
       "    .dataframe thead th {\n",
       "        text-align: right;\n",
       "    }\n",
       "</style>\n",
       "<table border=\"1\" class=\"dataframe\">\n",
       "  <thead>\n",
       "    <tr style=\"text-align: right;\">\n",
       "      <th></th>\n",
       "      <th>RECORD_TIME</th>\n",
       "    </tr>\n",
       "  </thead>\n",
       "  <tbody>\n",
       "    <tr>\n",
       "      <th>0</th>\n",
       "      <td>2021-12-01 06:30</td>\n",
       "    </tr>\n",
       "    <tr>\n",
       "      <th>1</th>\n",
       "      <td>2021-12-01 06:00</td>\n",
       "    </tr>\n",
       "  </tbody>\n",
       "</table>\n",
       "</div>"
      ],
      "text/plain": [
       "        RECORD_TIME\n",
       "0  2021-12-01 06:30\n",
       "1  2021-12-01 06:00"
      ]
     },
     "execution_count": 3,
     "metadata": {},
     "output_type": "execute_result"
    }
   ],
   "source": [
    "timestamps"
   ]
  },
  {
   "cell_type": "code",
   "execution_count": 4,
   "id": "alternate-victory",
   "metadata": {
    "execution": {
     "iopub.execute_input": "2021-12-01T05:30:10.693140Z",
     "iopub.status.busy": "2021-12-01T05:30:10.690715Z",
     "iopub.status.idle": "2021-12-01T05:30:12.056932Z",
     "shell.execute_reply": "2021-12-01T05:30:12.054882Z"
    },
    "papermill": {
     "duration": 1.398624,
     "end_time": "2021-12-01T05:30:12.057360",
     "exception": false,
     "start_time": "2021-12-01T05:30:10.658736",
     "status": "completed"
    },
    "tags": []
   },
   "outputs": [],
   "source": [
    "df = pd.read_sql(\"select * from EBAY_TOP_BERLIN where record_time in (select distinct record_time from EBAY_TOP_BERLIN order by record_time desc limit 2)\", sqlite3.connect(\"UsedObjects.db\"))"
   ]
  },
  {
   "cell_type": "code",
   "execution_count": 5,
   "id": "popular-active",
   "metadata": {
    "execution": {
     "iopub.execute_input": "2021-12-01T05:30:12.120828Z",
     "iopub.status.busy": "2021-12-01T05:30:12.118511Z",
     "iopub.status.idle": "2021-12-01T05:30:12.147774Z",
     "shell.execute_reply": "2021-12-01T05:30:12.149213Z"
    },
    "papermill": {
     "duration": 0.0718,
     "end_time": "2021-12-01T05:30:12.149683",
     "exception": false,
     "start_time": "2021-12-01T05:30:12.077883",
     "status": "completed"
    },
    "tags": []
   },
   "outputs": [],
   "source": [
    "df_pivot = df.pivot_table(index=\"PRODUCT\", columns = \"RECORD_TIME\", values = \"LISTING_COUNT\")"
   ]
  },
  {
   "cell_type": "code",
   "execution_count": 6,
   "id": "union-huntington",
   "metadata": {
    "execution": {
     "iopub.execute_input": "2021-12-01T05:30:12.210966Z",
     "iopub.status.busy": "2021-12-01T05:30:12.208671Z",
     "iopub.status.idle": "2021-12-01T05:30:12.214873Z",
     "shell.execute_reply": "2021-12-01T05:30:12.216255Z"
    },
    "papermill": {
     "duration": 0.04641,
     "end_time": "2021-12-01T05:30:12.216787",
     "exception": false,
     "start_time": "2021-12-01T05:30:12.170377",
     "status": "completed"
    },
    "tags": []
   },
   "outputs": [],
   "source": [
    "df_pivot.columns = [\"stamp_1\", \"stamp_2\"]\n",
    "df_pivot_diff = df_pivot.diff(axis=1)"
   ]
  },
  {
   "cell_type": "code",
   "execution_count": 7,
   "id": "fifth-motion",
   "metadata": {
    "execution": {
     "iopub.execute_input": "2021-12-01T05:30:12.272138Z",
     "iopub.status.busy": "2021-12-01T05:30:12.269786Z",
     "iopub.status.idle": "2021-12-01T05:30:14.339859Z",
     "shell.execute_reply": "2021-12-01T05:30:14.341323Z"
    },
    "papermill": {
     "duration": 2.104846,
     "end_time": "2021-12-01T05:30:14.341779",
     "exception": false,
     "start_time": "2021-12-01T05:30:12.236933",
     "status": "completed"
    },
    "tags": []
   },
   "outputs": [
    {
     "data": {
      "text/plain": [
       "<AxesSubplot:ylabel='PRODUCT'>"
      ]
     },
     "execution_count": 7,
     "metadata": {},
     "output_type": "execute_result"
    },
    {
     "data": {
      "image/png": "[encoded data removed]",
      "text/plain": [
       "<Figure size 432x288 with 1 Axes>"
      ]
     },
     "metadata": {
      "needs_background": "light"
     },
     "output_type": "display_data"
    }
   ],
   "source": [
    "df_pivot_diff.sort_values(\"stamp_2\", ascending = False)[\"stamp_2\"].head(10).plot.barh()"
   ]
  },
  {
   "cell_type": "code",
   "execution_count": null,
   "id": "extra-executive",
   "metadata": {
    "papermill": {
     "duration": 0.022079,
     "end_time": "2021-12-01T05:30:14.388546",
     "exception": false,
     "start_time": "2021-12-01T05:30:14.366467",
     "status": "completed"
    },
    "tags": []
   },
   "outputs": [],
   "source": []
  }
 ],
 "metadata": {
  "kernelspec": {
   "display_name": "Python 3",
   "language": "python",
   "name": "python3"
  },
  "language_info": {
   "codemirror_mode": {
    "name": "ipython",
    "version": 3
   },
   "file_extension": ".py",
   "mimetype": "text/x-python",
   "name": "python",
   "nbconvert_exporter": "python",
   "pygments_lexer": "ipython3",
   "version": "3.9.5"
  },
  "papermill": {
   "default_parameters": {},
   "duration": 9.945078,
   "end_time": "2021-12-01T05:30:15.603684",
   "environment_variables": {},
   "exception": null,
   "input_path": "eBay_Overview.ipynb",
   "output_path": "eBay_Overview.ipynb",
   "parameters": {},
   "start_time": "2021-12-01T05:30:05.658606",
   "version": "2.3.3"
  }
 },
 "nbformat": 4,
 "nbformat_minor": 5
}