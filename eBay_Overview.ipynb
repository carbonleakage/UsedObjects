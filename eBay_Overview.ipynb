{
 "cells": [
  {
   "cell_type": "code",
   "execution_count": 1,
   "id": "reverse-picking",
   "metadata": {
    "execution": {
     "iopub.execute_input": "2021-08-09T00:30:04.218067Z",
     "iopub.status.busy": "2021-08-09T00:30:04.217308Z",
     "iopub.status.idle": "2021-08-09T00:30:04.847154Z",
     "shell.execute_reply": "2021-08-09T00:30:04.847988Z"
    },
    "papermill": {
     "duration": 0.649537,
     "end_time": "2021-08-09T00:30:04.848390",
     "exception": false,
     "start_time": "2021-08-09T00:30:04.198853",
     "status": "completed"
    },
    "tags": []
   },
   "outputs": [],
   "source": [
    "import pandas as pd\n",
    "import sqlite3"
   ]
  },
  {
   "cell_type": "code",
   "execution_count": 2,
   "id": "innovative-syndrome",
   "metadata": {
    "execution": {
     "iopub.execute_input": "2021-08-09T00:30:04.878797Z",
     "iopub.status.busy": "2021-08-09T00:30:04.878036Z",
     "iopub.status.idle": "2021-08-09T00:30:05.076765Z",
     "shell.execute_reply": "2021-08-09T00:30:05.076150Z"
    },
    "papermill": {
     "duration": 0.215031,
     "end_time": "2021-08-09T00:30:05.076927",
     "exception": false,
     "start_time": "2021-08-09T00:30:04.861896",
     "status": "completed"
    },
    "tags": []
   },
   "outputs": [],
   "source": [
    "timestamps = pd.read_sql(\"select distinct record_time from EBAY_TOP_BERLIN order by record_time desc limit 2\", sqlite3.connect(\"UsedObjects.db\"))"
   ]
  },
  {
   "cell_type": "code",
   "execution_count": 3,
   "id": "periodic-identification",
   "metadata": {
    "execution": {
     "iopub.execute_input": "2021-08-09T00:30:05.105720Z",
     "iopub.status.busy": "2021-08-09T00:30:05.104540Z",
     "iopub.status.idle": "2021-08-09T00:30:05.119582Z",
     "shell.execute_reply": "2021-08-09T00:30:05.118267Z"
    },
    "papermill": {
     "duration": 0.034254,
     "end_time": "2021-08-09T00:30:05.119800",
     "exception": false,
     "start_time": "2021-08-09T00:30:05.085546",
     "status": "completed"
    },
    "tags": []
   },
   "outputs": [
    {
     "data": {
      "text/html": [
       "<div>\n",
       "<style scoped>\n",
       "    .dataframe tbody tr th:only-of-type {\n",
       "        vertical-align: middle;\n",
       "    }\n",
       "\n",
       "    .dataframe tbody tr th {\n",
       "        vertical-align: top;\n",
       "    }\n",
       "\n",
       "    .dataframe thead th {\n",
       "        text-align: right;\n",
       "    }\n",
       "</style>\n",
       "<table border=\"1\" class=\"dataframe\">\n",
       "  <thead>\n",
       "    <tr style=\"text-align: right;\">\n",
       "      <th></th>\n",
       "      <th>RECORD_TIME</th>\n",
       "    </tr>\n",
       "  </thead>\n",
       "  <tbody>\n",
       "    <tr>\n",
       "      <th>0</th>\n",
       "      <td>2021-08-09 02:30</td>\n",
       "    </tr>\n",
       "    <tr>\n",
       "      <th>1</th>\n",
       "      <td>2021-08-09 02:00</td>\n",
       "    </tr>\n",
       "  </tbody>\n",
       "</table>\n",
       "</div>"
      ],
      "text/plain": [
       "        RECORD_TIME\n",
       "0  2021-08-09 02:30\n",
       "1  2021-08-09 02:00"
      ]
     },
     "execution_count": 3,
     "metadata": {},
     "output_type": "execute_result"
    }
   ],
   "source": [
    "timestamps"
   ]
  },
  {
   "cell_type": "code",
   "execution_count": 4,
   "id": "alternate-victory",
   "metadata": {
    "execution": {
     "iopub.execute_input": "2021-08-09T00:30:05.145612Z",
     "iopub.status.busy": "2021-08-09T00:30:05.144286Z",
     "iopub.status.idle": "2021-08-09T00:30:05.153262Z",
     "shell.execute_reply": "2021-08-09T00:30:05.153949Z"
    },
    "papermill": {
     "duration": 0.024422,
     "end_time": "2021-08-09T00:30:05.154164",
     "exception": false,
     "start_time": "2021-08-09T00:30:05.129742",
     "status": "completed"
    },
    "tags": []
   },
   "outputs": [],
   "source": [
    "df = pd.read_sql(\"select * from EBAY_TOP_BERLIN where record_time in (select distinct record_time from EBAY_TOP_BERLIN order by record_time desc limit 2)\", sqlite3.connect(\"UsedObjects.db\"))"
   ]
  },
  {
   "cell_type": "code",
   "execution_count": 5,
   "id": "popular-active",
   "metadata": {
    "execution": {
     "iopub.execute_input": "2021-08-09T00:30:05.188931Z",
     "iopub.status.busy": "2021-08-09T00:30:05.188164Z",
     "iopub.status.idle": "2021-08-09T00:30:05.204210Z",
     "shell.execute_reply": "2021-08-09T00:30:05.204743Z"
    },
    "papermill": {
     "duration": 0.037669,
     "end_time": "2021-08-09T00:30:05.204926",
     "exception": false,
     "start_time": "2021-08-09T00:30:05.167257",
     "status": "completed"
    },
    "tags": []
   },
   "outputs": [],
   "source": [
    "df_pivot = df.pivot_table(index=\"PRODUCT\", columns = \"RECORD_TIME\", values = \"LISTING_COUNT\")"
   ]
  },
  {
   "cell_type": "code",
   "execution_count": 6,
   "id": "union-huntington",
   "metadata": {
    "execution": {
     "iopub.execute_input": "2021-08-09T00:30:05.229665Z",
     "iopub.status.busy": "2021-08-09T00:30:05.228968Z",
     "iopub.status.idle": "2021-08-09T00:30:05.234030Z",
     "shell.execute_reply": "2021-08-09T00:30:05.233417Z"
    },
    "papermill": {
     "duration": 0.020621,
     "end_time": "2021-08-09T00:30:05.234194",
     "exception": false,
     "start_time": "2021-08-09T00:30:05.213573",
     "status": "completed"
    },
    "tags": []
   },
   "outputs": [],
   "source": [
    "df_pivot.columns = [\"stamp_1\", \"stamp_2\"]\n",
    "df_pivot_diff = df_pivot.diff(axis=1)"
   ]
  },
  {
   "cell_type": "code",
   "execution_count": 7,
   "id": "fifth-motion",
   "metadata": {
    "execution": {
     "iopub.execute_input": "2021-08-09T00:30:05.261248Z",
     "iopub.status.busy": "2021-08-09T00:30:05.260176Z",
     "iopub.status.idle": "2021-08-09T00:30:05.921295Z",
     "shell.execute_reply": "2021-08-09T00:30:05.920448Z"
    },
    "papermill": {
     "duration": 0.678438,
     "end_time": "2021-08-09T00:30:05.921514",
     "exception": false,
     "start_time": "2021-08-09T00:30:05.243076",
     "status": "completed"
    },
    "tags": []
   },
   "outputs": [
    {
     "data": {
      "text/plain": [
       "<AxesSubplot:ylabel='PRODUCT'>"
      ]
     },
     "execution_count": 7,
     "metadata": {},
     "output_type": "execute_result"
    },
    {
     "data": {
      "image/png": "[encoded data removed]",
      "text/plain": [
       "<Figure size 432x288 with 1 Axes>"
      ]
     },
     "metadata": {
      "needs_background": "light"
     },
     "output_type": "display_data"
    }
   ],
   "source": [
    "df_pivot_diff.sort_values(\"stamp_2\", ascending = False)[\"stamp_2\"].head(10).plot.barh()"
   ]
  },
  {
   "cell_type": "code",
   "execution_count": null,
   "id": "extra-executive",
   "metadata": {
    "papermill": {
     "duration": 0.009517,
     "end_time": "2021-08-09T00:30:05.941590",
     "exception": false,
     "start_time": "2021-08-09T00:30:05.932073",
     "status": "completed"
    },
    "tags": []
   },
   "outputs": [],
   "source": []
  }
 ],
 "metadata": {
  "kernelspec": {
   "display_name": "Python 3",
   "language": "python",
   "name": "python3"
  },
  "language_info": {
   "codemirror_mode": {
    "name": "ipython",
    "version": 3
   },
   "file_extension": ".py",
   "mimetype": "text/x-python",
   "name": "python",
   "nbconvert_exporter": "python",
   "pygments_lexer": "ipython3",
   "version": "3.8.8"
  },
  "papermill": {
   "default_parameters": {},
   "duration": 4.968759,
   "end_time": "2021-08-09T00:30:07.457334",
   "environment_variables": {},
   "exception": null,
   "input_path": "/Users/saravananshanmugam/Carbonleakage_Git/UsedObjects/eBay_Overview.ipynb",
   "output_path": "/Users/saravananshanmugam/Carbonleakage_Git/UsedObjects/eBay_Overview.ipynb",
   "parameters": {},
   "start_time": "2021-08-09T00:30:02.488575",
   "version": "2.3.3"
  }
 },
 "nbformat": 4,
 "nbformat_minor": 5
}