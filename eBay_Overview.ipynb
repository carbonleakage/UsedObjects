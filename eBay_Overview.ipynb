{
 "cells": [
  {
   "cell_type": "code",
   "execution_count": 1,
   "id": "reverse-picking",
   "metadata": {
    "execution": {
     "iopub.execute_input": "2021-12-07T07:30:07.766183Z",
     "iopub.status.busy": "2021-12-07T07:30:07.763635Z",
     "iopub.status.idle": "2021-12-07T07:30:08.650403Z",
     "shell.execute_reply": "2021-12-07T07:30:08.651879Z"
    },
    "papermill": {
     "duration": 0.937091,
     "end_time": "2021-12-07T07:30:08.652638",
     "exception": false,
     "start_time": "2021-12-07T07:30:07.715547",
     "status": "completed"
    },
    "tags": []
   },
   "outputs": [],
   "source": [
    "import pandas as pd\n",
    "import sqlite3"
   ]
  },
  {
   "cell_type": "code",
   "execution_count": 2,
   "id": "innovative-syndrome",
   "metadata": {
    "execution": {
     "iopub.execute_input": "2021-12-07T07:30:08.715915Z",
     "iopub.status.busy": "2021-12-07T07:30:08.713715Z",
     "iopub.status.idle": "2021-12-07T07:30:09.744322Z",
     "shell.execute_reply": "2021-12-07T07:30:09.747671Z"
    },
    "papermill": {
     "duration": 1.07347,
     "end_time": "2021-12-07T07:30:09.748204",
     "exception": false,
     "start_time": "2021-12-07T07:30:08.674734",
     "status": "completed"
    },
    "tags": []
   },
   "outputs": [],
   "source": [
    "timestamps = pd.read_sql(\"select distinct record_time from EBAY_TOP_BERLIN order by record_time desc limit 2\", sqlite3.connect(\"UsedObjects.db\"))"
   ]
  },
  {
   "cell_type": "code",
   "execution_count": 3,
   "id": "periodic-identification",
   "metadata": {
    "execution": {
     "iopub.execute_input": "2021-12-07T07:30:09.821370Z",
     "iopub.status.busy": "2021-12-07T07:30:09.819002Z",
     "iopub.status.idle": "2021-12-07T07:30:09.841368Z",
     "shell.execute_reply": "2021-12-07T07:30:09.842750Z"
    },
    "papermill": {
     "duration": 0.073415,
     "end_time": "2021-12-07T07:30:09.843237",
     "exception": false,
     "start_time": "2021-12-07T07:30:09.769822",
     "status": "completed"
    },
    "tags": []
   },
   "outputs": [
    {
     "data": {
      "text/html": [
       "<div>\n",
       "<style scoped>\n",
       "    .dataframe tbody tr th:only-of-type {\n",
       "        vertical-align: middle;\n",
       "    }\n",
       "\n",
       "    .dataframe tbody tr th {\n",
       "        vertical-align: top;\n",
       "    }\n",
       "\n",
       "    .dataframe thead th {\n",
       "        text-align: right;\n",
       "    }\n",
       "</style>\n",
       "<table border=\"1\" class=\"dataframe\">\n",
       "  <thead>\n",
       "    <tr style=\"text-align: right;\">\n",
       "      <th></th>\n",
       "      <th>RECORD_TIME</th>\n",
       "    </tr>\n",
       "  </thead>\n",
       "  <tbody>\n",
       "    <tr>\n",
       "      <th>0</th>\n",
       "      <td>2021-12-07 08:30</td>\n",
       "    </tr>\n",
       "    <tr>\n",
       "      <th>1</th>\n",
       "      <td>2021-12-07 08:00</td>\n",
       "    </tr>\n",
       "  </tbody>\n",
       "</table>\n",
       "</div>"
      ],
      "text/plain": [
       "        RECORD_TIME\n",
       "0  2021-12-07 08:30\n",
       "1  2021-12-07 08:00"
      ]
     },
     "execution_count": 3,
     "metadata": {},
     "output_type": "execute_result"
    }
   ],
   "source": [
    "timestamps"
   ]
  },
  {
   "cell_type": "code",
   "execution_count": 4,
   "id": "alternate-victory",
   "metadata": {
    "execution": {
     "iopub.execute_input": "2021-12-07T07:30:09.895792Z",
     "iopub.status.busy": "2021-12-07T07:30:09.893716Z",
     "iopub.status.idle": "2021-12-07T07:30:11.400438Z",
     "shell.execute_reply": "2021-12-07T07:30:11.403607Z"
    },
    "papermill": {
     "duration": 1.541124,
     "end_time": "2021-12-07T07:30:11.404443",
     "exception": false,
     "start_time": "2021-12-07T07:30:09.863319",
     "status": "completed"
    },
    "tags": []
   },
   "outputs": [],
   "source": [
    "df = pd.read_sql(\"select * from EBAY_TOP_BERLIN where record_time in (select distinct record_time from EBAY_TOP_BERLIN order by record_time desc limit 2)\", sqlite3.connect(\"UsedObjects.db\"))"
   ]
  },
  {
   "cell_type": "code",
   "execution_count": 5,
   "id": "popular-active",
   "metadata": {
    "execution": {
     "iopub.execute_input": "2021-12-07T07:30:11.528103Z",
     "iopub.status.busy": "2021-12-07T07:30:11.514775Z",
     "iopub.status.idle": "2021-12-07T07:30:11.561518Z",
     "shell.execute_reply": "2021-12-07T07:30:11.563636Z"
    },
    "papermill": {
     "duration": 0.125799,
     "end_time": "2021-12-07T07:30:11.564254",
     "exception": false,
     "start_time": "2021-12-07T07:30:11.438455",
     "status": "completed"
    },
    "tags": []
   },
   "outputs": [],
   "source": [
    "df_pivot = df.pivot_table(index=\"PRODUCT\", columns = \"RECORD_TIME\", values = \"LISTING_COUNT\")"
   ]
  },
  {
   "cell_type": "code",
   "execution_count": 6,
   "id": "union-huntington",
   "metadata": {
    "execution": {
     "iopub.execute_input": "2021-12-07T07:30:11.639042Z",
     "iopub.status.busy": "2021-12-07T07:30:11.635426Z",
     "iopub.status.idle": "2021-12-07T07:30:11.648966Z",
     "shell.execute_reply": "2021-12-07T07:30:11.645665Z"
    },
    "papermill": {
     "duration": 0.0578,
     "end_time": "2021-12-07T07:30:11.649766",
     "exception": false,
     "start_time": "2021-12-07T07:30:11.591966",
     "status": "completed"
    },
    "tags": []
   },
   "outputs": [],
   "source": [
    "df_pivot.columns = [\"stamp_1\", \"stamp_2\"]\n",
    "df_pivot_diff = df_pivot.diff(axis=1)"
   ]
  },
  {
   "cell_type": "code",
   "execution_count": 7,
   "id": "fifth-motion",
   "metadata": {
    "execution": {
     "iopub.execute_input": "2021-12-07T07:30:11.735615Z",
     "iopub.status.busy": "2021-12-07T07:30:11.732018Z",
     "iopub.status.idle": "2021-12-07T07:30:13.272602Z",
     "shell.execute_reply": "2021-12-07T07:30:13.274144Z"
    },
    "papermill": {
     "duration": 1.593491,
     "end_time": "2021-12-07T07:30:13.274603",
     "exception": false,
     "start_time": "2021-12-07T07:30:11.681112",
     "status": "completed"
    },
    "tags": []
   },
   "outputs": [
    {
     "data": {
      "text/plain": [
       "<AxesSubplot:ylabel='PRODUCT'>"
      ]
     },
     "execution_count": 7,
     "metadata": {},
     "output_type": "execute_result"
    },
    {
     "data": {
      "image/png": "[encoded data removed]",
      "text/plain": [
       "<Figure size 432x288 with 1 Axes>"
      ]
     },
     "metadata": {
      "needs_background": "light"
     },
     "output_type": "display_data"
    }
   ],
   "source": [
    "df_pivot_diff.sort_values(\"stamp_2\", ascending = False)[\"stamp_2\"].head(10).plot.barh()"
   ]
  },
  {
   "cell_type": "code",
   "execution_count": null,
   "id": "extra-executive",
   "metadata": {
    "papermill": {
     "duration": 0.022122,
     "end_time": "2021-12-07T07:30:13.320007",
     "exception": false,
     "start_time": "2021-12-07T07:30:13.297885",
     "status": "completed"
    },
    "tags": []
   },
   "outputs": [],
   "source": []
  }
 ],
 "metadata": {
  "kernelspec": {
   "display_name": "Python 3",
   "language": "python",
   "name": "python3"
  },
  "language_info": {
   "codemirror_mode": {
    "name": "ipython",
    "version": 3
   },
   "file_extension": ".py",
   "mimetype": "text/x-python",
   "name": "python",
   "nbconvert_exporter": "python",
   "pygments_lexer": "ipython3",
   "version": "3.9.5"
  },
  "papermill": {
   "default_parameters": {},
   "duration": 9.923904,
   "end_time": "2021-12-07T07:30:14.907849",
   "environment_variables": {},
   "exception": null,
   "input_path": "eBay_Overview.ipynb",
   "output_path": "eBay_Overview.ipynb",
   "parameters": {},
   "start_time": "2021-12-07T07:30:04.983945",
   "version": "2.3.3"
  }
 },
 "nbformat": 4,
 "nbformat_minor": 5
}