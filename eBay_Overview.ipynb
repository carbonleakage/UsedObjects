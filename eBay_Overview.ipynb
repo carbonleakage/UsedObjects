{
 "cells": [
  {
   "cell_type": "code",
   "execution_count": 1,
   "id": "reverse-picking",
   "metadata": {
    "execution": {
     "iopub.execute_input": "2021-08-22T13:30:06.597746Z",
     "iopub.status.busy": "2021-08-22T13:30:06.595832Z",
     "iopub.status.idle": "2021-08-22T13:30:07.402391Z",
     "shell.execute_reply": "2021-08-22T13:30:07.403840Z"
    },
    "papermill": {
     "duration": 0.858638,
     "end_time": "2021-08-22T13:30:07.404494",
     "exception": false,
     "start_time": "2021-08-22T13:30:06.545856",
     "status": "completed"
    },
    "tags": []
   },
   "outputs": [],
   "source": [
    "import pandas as pd\n",
    "import sqlite3"
   ]
  },
  {
   "cell_type": "code",
   "execution_count": 2,
   "id": "innovative-syndrome",
   "metadata": {
    "execution": {
     "iopub.execute_input": "2021-08-22T13:30:07.454814Z",
     "iopub.status.busy": "2021-08-22T13:30:07.452830Z",
     "iopub.status.idle": "2021-08-22T13:30:07.557582Z",
     "shell.execute_reply": "2021-08-22T13:30:07.558734Z"
    },
    "papermill": {
     "duration": 0.134418,
     "end_time": "2021-08-22T13:30:07.559144",
     "exception": false,
     "start_time": "2021-08-22T13:30:07.424726",
     "status": "completed"
    },
    "tags": []
   },
   "outputs": [],
   "source": [
    "timestamps = pd.read_sql(\"select distinct record_time from EBAY_TOP_BERLIN order by record_time desc limit 2\", sqlite3.connect(\"UsedObjects.db\"))"
   ]
  },
  {
   "cell_type": "code",
   "execution_count": 3,
   "id": "periodic-identification",
   "metadata": {
    "execution": {
     "iopub.execute_input": "2021-08-22T13:30:07.624243Z",
     "iopub.status.busy": "2021-08-22T13:30:07.622260Z",
     "iopub.status.idle": "2021-08-22T13:30:07.642099Z",
     "shell.execute_reply": "2021-08-22T13:30:07.643452Z"
    },
    "papermill": {
     "duration": 0.064151,
     "end_time": "2021-08-22T13:30:07.643865",
     "exception": false,
     "start_time": "2021-08-22T13:30:07.579714",
     "status": "completed"
    },
    "tags": []
   },
   "outputs": [
    {
     "data": {
      "text/html": [
       "<div>\n",
       "<style scoped>\n",
       "    .dataframe tbody tr th:only-of-type {\n",
       "        vertical-align: middle;\n",
       "    }\n",
       "\n",
       "    .dataframe tbody tr th {\n",
       "        vertical-align: top;\n",
       "    }\n",
       "\n",
       "    .dataframe thead th {\n",
       "        text-align: right;\n",
       "    }\n",
       "</style>\n",
       "<table border=\"1\" class=\"dataframe\">\n",
       "  <thead>\n",
       "    <tr style=\"text-align: right;\">\n",
       "      <th></th>\n",
       "      <th>RECORD_TIME</th>\n",
       "    </tr>\n",
       "  </thead>\n",
       "  <tbody>\n",
       "    <tr>\n",
       "      <th>0</th>\n",
       "      <td>2021-08-22 15:30</td>\n",
       "    </tr>\n",
       "    <tr>\n",
       "      <th>1</th>\n",
       "      <td>2021-08-22 15:00</td>\n",
       "    </tr>\n",
       "  </tbody>\n",
       "</table>\n",
       "</div>"
      ],
      "text/plain": [
       "        RECORD_TIME\n",
       "0  2021-08-22 15:30\n",
       "1  2021-08-22 15:00"
      ]
     },
     "execution_count": 3,
     "metadata": {},
     "output_type": "execute_result"
    }
   ],
   "source": [
    "timestamps"
   ]
  },
  {
   "cell_type": "code",
   "execution_count": 4,
   "id": "alternate-victory",
   "metadata": {
    "execution": {
     "iopub.execute_input": "2021-08-22T13:30:07.695254Z",
     "iopub.status.busy": "2021-08-22T13:30:07.693342Z",
     "iopub.status.idle": "2021-08-22T13:30:07.848107Z",
     "shell.execute_reply": "2021-08-22T13:30:07.849309Z"
    },
    "papermill": {
     "duration": 0.184253,
     "end_time": "2021-08-22T13:30:07.849696",
     "exception": false,
     "start_time": "2021-08-22T13:30:07.665443",
     "status": "completed"
    },
    "tags": []
   },
   "outputs": [],
   "source": [
    "df = pd.read_sql(\"select * from EBAY_TOP_BERLIN where record_time in (select distinct record_time from EBAY_TOP_BERLIN order by record_time desc limit 2)\", sqlite3.connect(\"UsedObjects.db\"))"
   ]
  },
  {
   "cell_type": "code",
   "execution_count": 5,
   "id": "popular-active",
   "metadata": {
    "execution": {
     "iopub.execute_input": "2021-08-22T13:30:07.920672Z",
     "iopub.status.busy": "2021-08-22T13:30:07.907993Z",
     "iopub.status.idle": "2021-08-22T13:30:07.936227Z",
     "shell.execute_reply": "2021-08-22T13:30:07.937418Z"
    },
    "papermill": {
     "duration": 0.067943,
     "end_time": "2021-08-22T13:30:07.937807",
     "exception": false,
     "start_time": "2021-08-22T13:30:07.869864",
     "status": "completed"
    },
    "tags": []
   },
   "outputs": [],
   "source": [
    "df_pivot = df.pivot_table(index=\"PRODUCT\", columns = \"RECORD_TIME\", values = \"LISTING_COUNT\")"
   ]
  },
  {
   "cell_type": "code",
   "execution_count": 6,
   "id": "union-huntington",
   "metadata": {
    "execution": {
     "iopub.execute_input": "2021-08-22T13:30:07.993723Z",
     "iopub.status.busy": "2021-08-22T13:30:07.991703Z",
     "iopub.status.idle": "2021-08-22T13:30:07.996922Z",
     "shell.execute_reply": "2021-08-22T13:30:07.998382Z"
    },
    "papermill": {
     "duration": 0.040151,
     "end_time": "2021-08-22T13:30:07.998817",
     "exception": false,
     "start_time": "2021-08-22T13:30:07.958666",
     "status": "completed"
    },
    "tags": []
   },
   "outputs": [],
   "source": [
    "df_pivot.columns = [\"stamp_1\", \"stamp_2\"]\n",
    "df_pivot_diff = df_pivot.diff(axis=1)"
   ]
  },
  {
   "cell_type": "code",
   "execution_count": 7,
   "id": "fifth-motion",
   "metadata": {
    "execution": {
     "iopub.execute_input": "2021-08-22T13:30:08.058457Z",
     "iopub.status.busy": "2021-08-22T13:30:08.055900Z",
     "iopub.status.idle": "2021-08-22T13:30:09.532686Z",
     "shell.execute_reply": "2021-08-22T13:30:09.534009Z"
    },
    "papermill": {
     "duration": 1.511388,
     "end_time": "2021-08-22T13:30:09.534459",
     "exception": false,
     "start_time": "2021-08-22T13:30:08.023071",
     "status": "completed"
    },
    "tags": []
   },
   "outputs": [
    {
     "data": {
      "text/plain": [
       "<AxesSubplot:ylabel='PRODUCT'>"
      ]
     },
     "execution_count": 7,
     "metadata": {},
     "output_type": "execute_result"
    },
    {
     "data": {
      "image/png": "[encoded data removed]",
      "text/plain": [
       "<Figure size 432x288 with 1 Axes>"
      ]
     },
     "metadata": {
      "needs_background": "light"
     },
     "output_type": "display_data"
    }
   ],
   "source": [
    "df_pivot_diff.sort_values(\"stamp_2\", ascending = False)[\"stamp_2\"].head(10).plot.barh()"
   ]
  },
  {
   "cell_type": "code",
   "execution_count": null,
   "id": "extra-executive",
   "metadata": {
    "papermill": {
     "duration": 0.021852,
     "end_time": "2021-08-22T13:30:09.580937",
     "exception": false,
     "start_time": "2021-08-22T13:30:09.559085",
     "status": "completed"
    },
    "tags": []
   },
   "outputs": [],
   "source": []
  }
 ],
 "metadata": {
  "kernelspec": {
   "display_name": "Python 3",
   "language": "python",
   "name": "python3"
  },
  "language_info": {
   "codemirror_mode": {
    "name": "ipython",
    "version": 3
   },
   "file_extension": ".py",
   "mimetype": "text/x-python",
   "name": "python",
   "nbconvert_exporter": "python",
   "pygments_lexer": "ipython3",
   "version": "3.9.5"
  },
  "papermill": {
   "default_parameters": {},
   "duration": 6.825314,
   "end_time": "2021-08-22T13:30:10.962299",
   "environment_variables": {},
   "exception": null,
   "input_path": "eBay_Overview.ipynb",
   "output_path": "eBay_Overview.ipynb",
   "parameters": {},
   "start_time": "2021-08-22T13:30:04.136985",
   "version": "2.3.3"
  }
 },
 "nbformat": 4,
 "nbformat_minor": 5
}