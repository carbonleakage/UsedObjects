{
 "cells": [
  {
   "cell_type": "code",
   "execution_count": 1,
   "id": "reverse-picking",
   "metadata": {
    "execution": {
     "iopub.execute_input": "2021-11-14T23:30:07.196290Z",
     "iopub.status.busy": "2021-11-14T23:30:07.193475Z",
     "iopub.status.idle": "2021-11-14T23:30:08.116806Z",
     "shell.execute_reply": "2021-11-14T23:30:08.114740Z"
    },
    "papermill": {
     "duration": 0.971284,
     "end_time": "2021-11-14T23:30:08.117306",
     "exception": false,
     "start_time": "2021-11-14T23:30:07.146022",
     "status": "completed"
    },
    "tags": []
   },
   "outputs": [],
   "source": [
    "import pandas as pd\n",
    "import sqlite3"
   ]
  },
  {
   "cell_type": "code",
   "execution_count": 2,
   "id": "innovative-syndrome",
   "metadata": {
    "execution": {
     "iopub.execute_input": "2021-11-14T23:30:08.187742Z",
     "iopub.status.busy": "2021-11-14T23:30:08.185568Z",
     "iopub.status.idle": "2021-11-14T23:30:08.990990Z",
     "shell.execute_reply": "2021-11-14T23:30:08.992525Z"
    },
    "papermill": {
     "duration": 0.838715,
     "end_time": "2021-11-14T23:30:08.993088",
     "exception": false,
     "start_time": "2021-11-14T23:30:08.154373",
     "status": "completed"
    },
    "tags": []
   },
   "outputs": [],
   "source": [
    "timestamps = pd.read_sql(\"select distinct record_time from EBAY_TOP_BERLIN order by record_time desc limit 2\", sqlite3.connect(\"UsedObjects.db\"))"
   ]
  },
  {
   "cell_type": "code",
   "execution_count": 3,
   "id": "periodic-identification",
   "metadata": {
    "execution": {
     "iopub.execute_input": "2021-11-14T23:30:09.068255Z",
     "iopub.status.busy": "2021-11-14T23:30:09.065792Z",
     "iopub.status.idle": "2021-11-14T23:30:09.087827Z",
     "shell.execute_reply": "2021-11-14T23:30:09.089404Z"
    },
    "papermill": {
     "duration": 0.075824,
     "end_time": "2021-11-14T23:30:09.089923",
     "exception": false,
     "start_time": "2021-11-14T23:30:09.014099",
     "status": "completed"
    },
    "tags": []
   },
   "outputs": [
    {
     "data": {
      "text/html": [
       "<div>\n",
       "<style scoped>\n",
       "    .dataframe tbody tr th:only-of-type {\n",
       "        vertical-align: middle;\n",
       "    }\n",
       "\n",
       "    .dataframe tbody tr th {\n",
       "        vertical-align: top;\n",
       "    }\n",
       "\n",
       "    .dataframe thead th {\n",
       "        text-align: right;\n",
       "    }\n",
       "</style>\n",
       "<table border=\"1\" class=\"dataframe\">\n",
       "  <thead>\n",
       "    <tr style=\"text-align: right;\">\n",
       "      <th></th>\n",
       "      <th>RECORD_TIME</th>\n",
       "    </tr>\n",
       "  </thead>\n",
       "  <tbody>\n",
       "    <tr>\n",
       "      <th>0</th>\n",
       "      <td>2021-11-15 00:30</td>\n",
       "    </tr>\n",
       "    <tr>\n",
       "      <th>1</th>\n",
       "      <td>2021-11-15 00:00</td>\n",
       "    </tr>\n",
       "  </tbody>\n",
       "</table>\n",
       "</div>"
      ],
      "text/plain": [
       "        RECORD_TIME\n",
       "0  2021-11-15 00:30\n",
       "1  2021-11-15 00:00"
      ]
     },
     "execution_count": 3,
     "metadata": {},
     "output_type": "execute_result"
    }
   ],
   "source": [
    "timestamps"
   ]
  },
  {
   "cell_type": "code",
   "execution_count": 4,
   "id": "alternate-victory",
   "metadata": {
    "execution": {
     "iopub.execute_input": "2021-11-14T23:30:09.146769Z",
     "iopub.status.busy": "2021-11-14T23:30:09.144605Z",
     "iopub.status.idle": "2021-11-14T23:30:10.320276Z",
     "shell.execute_reply": "2021-11-14T23:30:10.321727Z"
    },
    "papermill": {
     "duration": 1.209919,
     "end_time": "2021-11-14T23:30:10.322197",
     "exception": false,
     "start_time": "2021-11-14T23:30:09.112278",
     "status": "completed"
    },
    "tags": []
   },
   "outputs": [],
   "source": [
    "df = pd.read_sql(\"select * from EBAY_TOP_BERLIN where record_time in (select distinct record_time from EBAY_TOP_BERLIN order by record_time desc limit 2)\", sqlite3.connect(\"UsedObjects.db\"))"
   ]
  },
  {
   "cell_type": "code",
   "execution_count": 5,
   "id": "popular-active",
   "metadata": {
    "execution": {
     "iopub.execute_input": "2021-11-14T23:30:10.406661Z",
     "iopub.status.busy": "2021-11-14T23:30:10.387874Z",
     "iopub.status.idle": "2021-11-14T23:30:10.442308Z",
     "shell.execute_reply": "2021-11-14T23:30:10.444904Z"
    },
    "papermill": {
     "duration": 0.102449,
     "end_time": "2021-11-14T23:30:10.445691",
     "exception": false,
     "start_time": "2021-11-14T23:30:10.343242",
     "status": "completed"
    },
    "tags": []
   },
   "outputs": [],
   "source": [
    "df_pivot = df.pivot_table(index=\"PRODUCT\", columns = \"RECORD_TIME\", values = \"LISTING_COUNT\")"
   ]
  },
  {
   "cell_type": "code",
   "execution_count": 6,
   "id": "union-huntington",
   "metadata": {
    "execution": {
     "iopub.execute_input": "2021-11-14T23:30:10.518663Z",
     "iopub.status.busy": "2021-11-14T23:30:10.516302Z",
     "iopub.status.idle": "2021-11-14T23:30:10.521518Z",
     "shell.execute_reply": "2021-11-14T23:30:10.523477Z"
    },
    "papermill": {
     "duration": 0.046714,
     "end_time": "2021-11-14T23:30:10.523967",
     "exception": false,
     "start_time": "2021-11-14T23:30:10.477253",
     "status": "completed"
    },
    "tags": []
   },
   "outputs": [],
   "source": [
    "df_pivot.columns = [\"stamp_1\", \"stamp_2\"]\n",
    "df_pivot_diff = df_pivot.diff(axis=1)"
   ]
  },
  {
   "cell_type": "code",
   "execution_count": 7,
   "id": "fifth-motion",
   "metadata": {
    "execution": {
     "iopub.execute_input": "2021-11-14T23:30:10.583617Z",
     "iopub.status.busy": "2021-11-14T23:30:10.581136Z",
     "iopub.status.idle": "2021-11-14T23:30:12.432248Z",
     "shell.execute_reply": "2021-11-14T23:30:12.434904Z"
    },
    "papermill": {
     "duration": 1.890076,
     "end_time": "2021-11-14T23:30:12.435656",
     "exception": false,
     "start_time": "2021-11-14T23:30:10.545580",
     "status": "completed"
    },
    "tags": []
   },
   "outputs": [
    {
     "data": {
      "text/plain": [
       "<AxesSubplot:ylabel='PRODUCT'>"
      ]
     },
     "execution_count": 7,
     "metadata": {},
     "output_type": "execute_result"
    },
    {
     "data": {
      "image/png": "[encoded data removed]",
      "text/plain": [
       "<Figure size 432x288 with 1 Axes>"
      ]
     },
     "metadata": {
      "needs_background": "light"
     },
     "output_type": "display_data"
    }
   ],
   "source": [
    "df_pivot_diff.sort_values(\"stamp_2\", ascending = False)[\"stamp_2\"].head(10).plot.barh()"
   ]
  },
  {
   "cell_type": "code",
   "execution_count": null,
   "id": "extra-executive",
   "metadata": {
    "papermill": {
     "duration": 0.036201,
     "end_time": "2021-11-14T23:30:12.508482",
     "exception": false,
     "start_time": "2021-11-14T23:30:12.472281",
     "status": "completed"
    },
    "tags": []
   },
   "outputs": [],
   "source": []
  }
 ],
 "metadata": {
  "kernelspec": {
   "display_name": "Python 3",
   "language": "python",
   "name": "python3"
  },
  "language_info": {
   "codemirror_mode": {
    "name": "ipython",
    "version": 3
   },
   "file_extension": ".py",
   "mimetype": "text/x-python",
   "name": "python",
   "nbconvert_exporter": "python",
   "pygments_lexer": "ipython3",
   "version": "3.9.5"
  },
  "papermill": {
   "default_parameters": {},
   "duration": 9.939715,
   "end_time": "2021-11-14T23:30:14.368458",
   "environment_variables": {},
   "exception": null,
   "input_path": "eBay_Overview.ipynb",
   "output_path": "eBay_Overview.ipynb",
   "parameters": {},
   "start_time": "2021-11-14T23:30:04.428743",
   "version": "2.3.3"
  }
 },
 "nbformat": 4,
 "nbformat_minor": 5
}