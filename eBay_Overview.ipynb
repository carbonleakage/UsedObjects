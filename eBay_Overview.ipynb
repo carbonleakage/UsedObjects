{
 "cells": [
  {
   "cell_type": "code",
   "execution_count": 1,
   "id": "reverse-picking",
   "metadata": {
    "execution": {
     "iopub.execute_input": "2021-08-21T18:30:06.631607Z",
     "iopub.status.busy": "2021-08-21T18:30:06.629623Z",
     "iopub.status.idle": "2021-08-21T18:30:07.444701Z",
     "shell.execute_reply": "2021-08-21T18:30:07.446086Z"
    },
    "papermill": {
     "duration": 0.867546,
     "end_time": "2021-08-21T18:30:07.446765",
     "exception": false,
     "start_time": "2021-08-21T18:30:06.579219",
     "status": "completed"
    },
    "tags": []
   },
   "outputs": [],
   "source": [
    "import pandas as pd\n",
    "import sqlite3"
   ]
  },
  {
   "cell_type": "code",
   "execution_count": 2,
   "id": "innovative-syndrome",
   "metadata": {
    "execution": {
     "iopub.execute_input": "2021-08-21T18:30:07.498248Z",
     "iopub.status.busy": "2021-08-21T18:30:07.496099Z",
     "iopub.status.idle": "2021-08-21T18:30:07.594570Z",
     "shell.execute_reply": "2021-08-21T18:30:07.595727Z"
    },
    "papermill": {
     "duration": 0.128964,
     "end_time": "2021-08-21T18:30:07.596134",
     "exception": false,
     "start_time": "2021-08-21T18:30:07.467170",
     "status": "completed"
    },
    "tags": []
   },
   "outputs": [],
   "source": [
    "timestamps = pd.read_sql(\"select distinct record_time from EBAY_TOP_BERLIN order by record_time desc limit 2\", sqlite3.connect(\"UsedObjects.db\"))"
   ]
  },
  {
   "cell_type": "code",
   "execution_count": 3,
   "id": "periodic-identification",
   "metadata": {
    "execution": {
     "iopub.execute_input": "2021-08-21T18:30:07.667753Z",
     "iopub.status.busy": "2021-08-21T18:30:07.662714Z",
     "iopub.status.idle": "2021-08-21T18:30:07.682596Z",
     "shell.execute_reply": "2021-08-21T18:30:07.684099Z"
    },
    "papermill": {
     "duration": 0.066011,
     "end_time": "2021-08-21T18:30:07.684560",
     "exception": false,
     "start_time": "2021-08-21T18:30:07.618549",
     "status": "completed"
    },
    "tags": []
   },
   "outputs": [
    {
     "data": {
      "text/html": [
       "<div>\n",
       "<style scoped>\n",
       "    .dataframe tbody tr th:only-of-type {\n",
       "        vertical-align: middle;\n",
       "    }\n",
       "\n",
       "    .dataframe tbody tr th {\n",
       "        vertical-align: top;\n",
       "    }\n",
       "\n",
       "    .dataframe thead th {\n",
       "        text-align: right;\n",
       "    }\n",
       "</style>\n",
       "<table border=\"1\" class=\"dataframe\">\n",
       "  <thead>\n",
       "    <tr style=\"text-align: right;\">\n",
       "      <th></th>\n",
       "      <th>RECORD_TIME</th>\n",
       "    </tr>\n",
       "  </thead>\n",
       "  <tbody>\n",
       "    <tr>\n",
       "      <th>0</th>\n",
       "      <td>2021-08-21 20:30</td>\n",
       "    </tr>\n",
       "    <tr>\n",
       "      <th>1</th>\n",
       "      <td>2021-08-21 20:00</td>\n",
       "    </tr>\n",
       "  </tbody>\n",
       "</table>\n",
       "</div>"
      ],
      "text/plain": [
       "        RECORD_TIME\n",
       "0  2021-08-21 20:30\n",
       "1  2021-08-21 20:00"
      ]
     },
     "execution_count": 3,
     "metadata": {},
     "output_type": "execute_result"
    }
   ],
   "source": [
    "timestamps"
   ]
  },
  {
   "cell_type": "code",
   "execution_count": 4,
   "id": "alternate-victory",
   "metadata": {
    "execution": {
     "iopub.execute_input": "2021-08-21T18:30:07.736244Z",
     "iopub.status.busy": "2021-08-21T18:30:07.734393Z",
     "iopub.status.idle": "2021-08-21T18:30:07.884972Z",
     "shell.execute_reply": "2021-08-21T18:30:07.886414Z"
    },
    "papermill": {
     "duration": 0.180757,
     "end_time": "2021-08-21T18:30:07.886876",
     "exception": false,
     "start_time": "2021-08-21T18:30:07.706119",
     "status": "completed"
    },
    "tags": []
   },
   "outputs": [],
   "source": [
    "df = pd.read_sql(\"select * from EBAY_TOP_BERLIN where record_time in (select distinct record_time from EBAY_TOP_BERLIN order by record_time desc limit 2)\", sqlite3.connect(\"UsedObjects.db\"))"
   ]
  },
  {
   "cell_type": "code",
   "execution_count": 5,
   "id": "popular-active",
   "metadata": {
    "execution": {
     "iopub.execute_input": "2021-08-21T18:30:07.955801Z",
     "iopub.status.busy": "2021-08-21T18:30:07.944294Z",
     "iopub.status.idle": "2021-08-21T18:30:07.971488Z",
     "shell.execute_reply": "2021-08-21T18:30:07.972714Z"
    },
    "papermill": {
     "duration": 0.066228,
     "end_time": "2021-08-21T18:30:07.973105",
     "exception": false,
     "start_time": "2021-08-21T18:30:07.906877",
     "status": "completed"
    },
    "tags": []
   },
   "outputs": [],
   "source": [
    "df_pivot = df.pivot_table(index=\"PRODUCT\", columns = \"RECORD_TIME\", values = \"LISTING_COUNT\")"
   ]
  },
  {
   "cell_type": "code",
   "execution_count": 6,
   "id": "union-huntington",
   "metadata": {
    "execution": {
     "iopub.execute_input": "2021-08-21T18:30:08.032456Z",
     "iopub.status.busy": "2021-08-21T18:30:08.029980Z",
     "iopub.status.idle": "2021-08-21T18:30:08.035957Z",
     "shell.execute_reply": "2021-08-21T18:30:08.037424Z"
    },
    "papermill": {
     "duration": 0.042431,
     "end_time": "2021-08-21T18:30:08.037886",
     "exception": false,
     "start_time": "2021-08-21T18:30:07.995455",
     "status": "completed"
    },
    "tags": []
   },
   "outputs": [],
   "source": [
    "df_pivot.columns = [\"stamp_1\", \"stamp_2\"]\n",
    "df_pivot_diff = df_pivot.diff(axis=1)"
   ]
  },
  {
   "cell_type": "code",
   "execution_count": 7,
   "id": "fifth-motion",
   "metadata": {
    "execution": {
     "iopub.execute_input": "2021-08-21T18:30:08.100309Z",
     "iopub.status.busy": "2021-08-21T18:30:08.097622Z",
     "iopub.status.idle": "2021-08-21T18:30:09.606969Z",
     "shell.execute_reply": "2021-08-21T18:30:09.608323Z"
    },
    "papermill": {
     "duration": 1.545297,
     "end_time": "2021-08-21T18:30:09.608740",
     "exception": false,
     "start_time": "2021-08-21T18:30:08.063443",
     "status": "completed"
    },
    "tags": []
   },
   "outputs": [
    {
     "data": {
      "text/plain": [
       "<AxesSubplot:ylabel='PRODUCT'>"
      ]
     },
     "execution_count": 7,
     "metadata": {},
     "output_type": "execute_result"
    },
    {
     "data": {
      "image/png": "[encoded data removed]",
      "text/plain": [
       "<Figure size 432x288 with 1 Axes>"
      ]
     },
     "metadata": {
      "needs_background": "light"
     },
     "output_type": "display_data"
    }
   ],
   "source": [
    "df_pivot_diff.sort_values(\"stamp_2\", ascending = False)[\"stamp_2\"].head(10).plot.barh()"
   ]
  },
  {
   "cell_type": "code",
   "execution_count": null,
   "id": "extra-executive",
   "metadata": {
    "papermill": {
     "duration": 0.022352,
     "end_time": "2021-08-21T18:30:09.655043",
     "exception": false,
     "start_time": "2021-08-21T18:30:09.632691",
     "status": "completed"
    },
    "tags": []
   },
   "outputs": [],
   "source": []
  }
 ],
 "metadata": {
  "kernelspec": {
   "display_name": "Python 3",
   "language": "python",
   "name": "python3"
  },
  "language_info": {
   "codemirror_mode": {
    "name": "ipython",
    "version": 3
   },
   "file_extension": ".py",
   "mimetype": "text/x-python",
   "name": "python",
   "nbconvert_exporter": "python",
   "pygments_lexer": "ipython3",
   "version": "3.9.5"
  },
  "papermill": {
   "default_parameters": {},
   "duration": 6.835109,
   "end_time": "2021-08-21T18:30:10.999068",
   "environment_variables": {},
   "exception": null,
   "input_path": "eBay_Overview.ipynb",
   "output_path": "eBay_Overview.ipynb",
   "parameters": {},
   "start_time": "2021-08-21T18:30:04.163959",
   "version": "2.3.3"
  }
 },
 "nbformat": 4,
 "nbformat_minor": 5
}