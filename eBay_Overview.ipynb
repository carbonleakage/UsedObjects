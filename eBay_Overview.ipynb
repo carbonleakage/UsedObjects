{
 "cells": [
  {
   "cell_type": "code",
   "execution_count": 1,
   "id": "reverse-picking",
   "metadata": {
    "execution": {
     "iopub.execute_input": "2021-09-12T01:00:07.453423Z",
     "iopub.status.busy": "2021-09-12T01:00:07.450517Z",
     "iopub.status.idle": "2021-09-12T01:00:08.268850Z",
     "shell.execute_reply": "2021-09-12T01:00:08.267247Z"
    },
    "papermill": {
     "duration": 0.8692,
     "end_time": "2021-09-12T01:00:08.269246",
     "exception": false,
     "start_time": "2021-09-12T01:00:07.400046",
     "status": "completed"
    },
    "tags": []
   },
   "outputs": [],
   "source": [
    "import pandas as pd\n",
    "import sqlite3"
   ]
  },
  {
   "cell_type": "code",
   "execution_count": 2,
   "id": "innovative-syndrome",
   "metadata": {
    "execution": {
     "iopub.execute_input": "2021-09-12T01:00:08.319888Z",
     "iopub.status.busy": "2021-09-12T01:00:08.317823Z",
     "iopub.status.idle": "2021-09-12T01:00:08.579158Z",
     "shell.execute_reply": "2021-09-12T01:00:08.580509Z"
    },
    "papermill": {
     "duration": 0.291338,
     "end_time": "2021-09-12T01:00:08.580928",
     "exception": false,
     "start_time": "2021-09-12T01:00:08.289590",
     "status": "completed"
    },
    "tags": []
   },
   "outputs": [],
   "source": [
    "timestamps = pd.read_sql(\"select distinct record_time from EBAY_TOP_BERLIN order by record_time desc limit 2\", sqlite3.connect(\"UsedObjects.db\"))"
   ]
  },
  {
   "cell_type": "code",
   "execution_count": 3,
   "id": "periodic-identification",
   "metadata": {
    "execution": {
     "iopub.execute_input": "2021-09-12T01:00:08.648034Z",
     "iopub.status.busy": "2021-09-12T01:00:08.642600Z",
     "iopub.status.idle": "2021-09-12T01:00:08.663753Z",
     "shell.execute_reply": "2021-09-12T01:00:08.665197Z"
    },
    "papermill": {
     "duration": 0.065563,
     "end_time": "2021-09-12T01:00:08.665637",
     "exception": false,
     "start_time": "2021-09-12T01:00:08.600074",
     "status": "completed"
    },
    "tags": []
   },
   "outputs": [
    {
     "data": {
      "text/html": [
       "<div>\n",
       "<style scoped>\n",
       "    .dataframe tbody tr th:only-of-type {\n",
       "        vertical-align: middle;\n",
       "    }\n",
       "\n",
       "    .dataframe tbody tr th {\n",
       "        vertical-align: top;\n",
       "    }\n",
       "\n",
       "    .dataframe thead th {\n",
       "        text-align: right;\n",
       "    }\n",
       "</style>\n",
       "<table border=\"1\" class=\"dataframe\">\n",
       "  <thead>\n",
       "    <tr style=\"text-align: right;\">\n",
       "      <th></th>\n",
       "      <th>RECORD_TIME</th>\n",
       "    </tr>\n",
       "  </thead>\n",
       "  <tbody>\n",
       "    <tr>\n",
       "      <th>0</th>\n",
       "      <td>2021-09-12 03:00</td>\n",
       "    </tr>\n",
       "    <tr>\n",
       "      <th>1</th>\n",
       "      <td>2021-09-12 02:30</td>\n",
       "    </tr>\n",
       "  </tbody>\n",
       "</table>\n",
       "</div>"
      ],
      "text/plain": [
       "        RECORD_TIME\n",
       "0  2021-09-12 03:00\n",
       "1  2021-09-12 02:30"
      ]
     },
     "execution_count": 3,
     "metadata": {},
     "output_type": "execute_result"
    }
   ],
   "source": [
    "timestamps"
   ]
  },
  {
   "cell_type": "code",
   "execution_count": 4,
   "id": "alternate-victory",
   "metadata": {
    "execution": {
     "iopub.execute_input": "2021-09-12T01:00:08.717297Z",
     "iopub.status.busy": "2021-09-12T01:00:08.715125Z",
     "iopub.status.idle": "2021-09-12T01:00:09.113257Z",
     "shell.execute_reply": "2021-09-12T01:00:09.114382Z"
    },
    "papermill": {
     "duration": 0.428201,
     "end_time": "2021-09-12T01:00:09.114796",
     "exception": false,
     "start_time": "2021-09-12T01:00:08.686595",
     "status": "completed"
    },
    "tags": []
   },
   "outputs": [],
   "source": [
    "df = pd.read_sql(\"select * from EBAY_TOP_BERLIN where record_time in (select distinct record_time from EBAY_TOP_BERLIN order by record_time desc limit 2)\", sqlite3.connect(\"UsedObjects.db\"))"
   ]
  },
  {
   "cell_type": "code",
   "execution_count": 5,
   "id": "popular-active",
   "metadata": {
    "execution": {
     "iopub.execute_input": "2021-09-12T01:00:09.186746Z",
     "iopub.status.busy": "2021-09-12T01:00:09.184551Z",
     "iopub.status.idle": "2021-09-12T01:00:09.212582Z",
     "shell.execute_reply": "2021-09-12T01:00:09.213779Z"
    },
    "papermill": {
     "duration": 0.071848,
     "end_time": "2021-09-12T01:00:09.214209",
     "exception": false,
     "start_time": "2021-09-12T01:00:09.142361",
     "status": "completed"
    },
    "tags": []
   },
   "outputs": [],
   "source": [
    "df_pivot = df.pivot_table(index=\"PRODUCT\", columns = \"RECORD_TIME\", values = \"LISTING_COUNT\")"
   ]
  },
  {
   "cell_type": "code",
   "execution_count": 6,
   "id": "union-huntington",
   "metadata": {
    "execution": {
     "iopub.execute_input": "2021-09-12T01:00:09.270485Z",
     "iopub.status.busy": "2021-09-12T01:00:09.268026Z",
     "iopub.status.idle": "2021-09-12T01:00:09.273846Z",
     "shell.execute_reply": "2021-09-12T01:00:09.275212Z"
    },
    "papermill": {
     "duration": 0.041988,
     "end_time": "2021-09-12T01:00:09.275647",
     "exception": false,
     "start_time": "2021-09-12T01:00:09.233659",
     "status": "completed"
    },
    "tags": []
   },
   "outputs": [],
   "source": [
    "df_pivot.columns = [\"stamp_1\", \"stamp_2\"]\n",
    "df_pivot_diff = df_pivot.diff(axis=1)"
   ]
  },
  {
   "cell_type": "code",
   "execution_count": 7,
   "id": "fifth-motion",
   "metadata": {
    "execution": {
     "iopub.execute_input": "2021-09-12T01:00:09.329983Z",
     "iopub.status.busy": "2021-09-12T01:00:09.327642Z",
     "iopub.status.idle": "2021-09-12T01:00:10.823600Z",
     "shell.execute_reply": "2021-09-12T01:00:10.824901Z"
    },
    "papermill": {
     "duration": 1.529271,
     "end_time": "2021-09-12T01:00:10.825332",
     "exception": false,
     "start_time": "2021-09-12T01:00:09.296061",
     "status": "completed"
    },
    "tags": []
   },
   "outputs": [
    {
     "data": {
      "text/plain": [
       "<AxesSubplot:ylabel='PRODUCT'>"
      ]
     },
     "execution_count": 7,
     "metadata": {},
     "output_type": "execute_result"
    },
    {
     "data": {
      "image/png": "[encoded data removed]",
      "text/plain": [
       "<Figure size 432x288 with 1 Axes>"
      ]
     },
     "metadata": {
      "needs_background": "light"
     },
     "output_type": "display_data"
    }
   ],
   "source": [
    "df_pivot_diff.sort_values(\"stamp_2\", ascending = False)[\"stamp_2\"].head(10).plot.barh()"
   ]
  },
  {
   "cell_type": "code",
   "execution_count": null,
   "id": "extra-executive",
   "metadata": {
    "papermill": {
     "duration": 0.021833,
     "end_time": "2021-09-12T01:00:10.871493",
     "exception": false,
     "start_time": "2021-09-12T01:00:10.849660",
     "status": "completed"
    },
    "tags": []
   },
   "outputs": [],
   "source": []
  }
 ],
 "metadata": {
  "kernelspec": {
   "display_name": "Python 3",
   "language": "python",
   "name": "python3"
  },
  "language_info": {
   "codemirror_mode": {
    "name": "ipython",
    "version": 3
   },
   "file_extension": ".py",
   "mimetype": "text/x-python",
   "name": "python",
   "nbconvert_exporter": "python",
   "pygments_lexer": "ipython3",
   "version": "3.9.5"
  },
  "papermill": {
   "default_parameters": {},
   "duration": 6.527209,
   "end_time": "2021-09-12T01:00:11.512145",
   "environment_variables": {},
   "exception": null,
   "input_path": "eBay_Overview.ipynb",
   "output_path": "eBay_Overview.ipynb",
   "parameters": {},
   "start_time": "2021-09-12T01:00:04.984936",
   "version": "2.3.3"
  }
 },
 "nbformat": 4,
 "nbformat_minor": 5
}