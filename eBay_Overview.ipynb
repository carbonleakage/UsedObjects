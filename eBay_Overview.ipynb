{
 "cells": [
  {
   "cell_type": "code",
   "execution_count": 1,
   "id": "reverse-picking",
   "metadata": {
    "execution": {
     "iopub.execute_input": "2021-10-20T23:00:07.082569Z",
     "iopub.status.busy": "2021-10-20T23:00:07.080496Z",
     "iopub.status.idle": "2021-10-20T23:00:07.893160Z",
     "shell.execute_reply": "2021-10-20T23:00:07.891433Z"
    },
    "papermill": {
     "duration": 0.861832,
     "end_time": "2021-10-20T23:00:07.893598",
     "exception": false,
     "start_time": "2021-10-20T23:00:07.031766",
     "status": "completed"
    },
    "tags": []
   },
   "outputs": [],
   "source": [
    "import pandas as pd\n",
    "import sqlite3"
   ]
  },
  {
   "cell_type": "code",
   "execution_count": 2,
   "id": "innovative-syndrome",
   "metadata": {
    "execution": {
     "iopub.execute_input": "2021-10-20T23:00:07.945092Z",
     "iopub.status.busy": "2021-10-20T23:00:07.943107Z",
     "iopub.status.idle": "2021-10-20T23:00:08.541492Z",
     "shell.execute_reply": "2021-10-20T23:00:08.542784Z"
    },
    "papermill": {
     "duration": 0.628957,
     "end_time": "2021-10-20T23:00:08.543181",
     "exception": false,
     "start_time": "2021-10-20T23:00:07.914224",
     "status": "completed"
    },
    "tags": []
   },
   "outputs": [],
   "source": [
    "timestamps = pd.read_sql(\"select distinct record_time from EBAY_TOP_BERLIN order by record_time desc limit 2\", sqlite3.connect(\"UsedObjects.db\"))"
   ]
  },
  {
   "cell_type": "code",
   "execution_count": 3,
   "id": "periodic-identification",
   "metadata": {
    "execution": {
     "iopub.execute_input": "2021-10-20T23:00:08.632514Z",
     "iopub.status.busy": "2021-10-20T23:00:08.630262Z",
     "iopub.status.idle": "2021-10-20T23:00:08.651583Z",
     "shell.execute_reply": "2021-10-20T23:00:08.652961Z"
    },
    "papermill": {
     "duration": 0.075349,
     "end_time": "2021-10-20T23:00:08.653386",
     "exception": false,
     "start_time": "2021-10-20T23:00:08.578037",
     "status": "completed"
    },
    "tags": []
   },
   "outputs": [
    {
     "data": {
      "text/html": [
       "<div>\n",
       "<style scoped>\n",
       "    .dataframe tbody tr th:only-of-type {\n",
       "        vertical-align: middle;\n",
       "    }\n",
       "\n",
       "    .dataframe tbody tr th {\n",
       "        vertical-align: top;\n",
       "    }\n",
       "\n",
       "    .dataframe thead th {\n",
       "        text-align: right;\n",
       "    }\n",
       "</style>\n",
       "<table border=\"1\" class=\"dataframe\">\n",
       "  <thead>\n",
       "    <tr style=\"text-align: right;\">\n",
       "      <th></th>\n",
       "      <th>RECORD_TIME</th>\n",
       "    </tr>\n",
       "  </thead>\n",
       "  <tbody>\n",
       "    <tr>\n",
       "      <th>0</th>\n",
       "      <td>2021-10-21 01:00</td>\n",
       "    </tr>\n",
       "    <tr>\n",
       "      <th>1</th>\n",
       "      <td>2021-10-21 00:30</td>\n",
       "    </tr>\n",
       "  </tbody>\n",
       "</table>\n",
       "</div>"
      ],
      "text/plain": [
       "        RECORD_TIME\n",
       "0  2021-10-21 01:00\n",
       "1  2021-10-21 00:30"
      ]
     },
     "execution_count": 3,
     "metadata": {},
     "output_type": "execute_result"
    }
   ],
   "source": [
    "timestamps"
   ]
  },
  {
   "cell_type": "code",
   "execution_count": 4,
   "id": "alternate-victory",
   "metadata": {
    "execution": {
     "iopub.execute_input": "2021-10-20T23:00:08.705085Z",
     "iopub.status.busy": "2021-10-20T23:00:08.703034Z",
     "iopub.status.idle": "2021-10-20T23:00:09.576938Z",
     "shell.execute_reply": "2021-10-20T23:00:09.578171Z"
    },
    "papermill": {
     "duration": 0.903874,
     "end_time": "2021-10-20T23:00:09.578565",
     "exception": false,
     "start_time": "2021-10-20T23:00:08.674691",
     "status": "completed"
    },
    "tags": []
   },
   "outputs": [],
   "source": [
    "df = pd.read_sql(\"select * from EBAY_TOP_BERLIN where record_time in (select distinct record_time from EBAY_TOP_BERLIN order by record_time desc limit 2)\", sqlite3.connect(\"UsedObjects.db\"))"
   ]
  },
  {
   "cell_type": "code",
   "execution_count": 5,
   "id": "popular-active",
   "metadata": {
    "execution": {
     "iopub.execute_input": "2021-10-20T23:00:09.644463Z",
     "iopub.status.busy": "2021-10-20T23:00:09.636823Z",
     "iopub.status.idle": "2021-10-20T23:00:09.665539Z",
     "shell.execute_reply": "2021-10-20T23:00:09.666768Z"
    },
    "papermill": {
     "duration": 0.067927,
     "end_time": "2021-10-20T23:00:09.667169",
     "exception": false,
     "start_time": "2021-10-20T23:00:09.599242",
     "status": "completed"
    },
    "tags": []
   },
   "outputs": [],
   "source": [
    "df_pivot = df.pivot_table(index=\"PRODUCT\", columns = \"RECORD_TIME\", values = \"LISTING_COUNT\")"
   ]
  },
  {
   "cell_type": "code",
   "execution_count": 6,
   "id": "union-huntington",
   "metadata": {
    "execution": {
     "iopub.execute_input": "2021-10-20T23:00:09.724838Z",
     "iopub.status.busy": "2021-10-20T23:00:09.722606Z",
     "iopub.status.idle": "2021-10-20T23:00:09.727876Z",
     "shell.execute_reply": "2021-10-20T23:00:09.729397Z"
    },
    "papermill": {
     "duration": 0.04101,
     "end_time": "2021-10-20T23:00:09.729854",
     "exception": false,
     "start_time": "2021-10-20T23:00:09.688844",
     "status": "completed"
    },
    "tags": []
   },
   "outputs": [],
   "source": [
    "df_pivot.columns = [\"stamp_1\", \"stamp_2\"]\n",
    "df_pivot_diff = df_pivot.diff(axis=1)"
   ]
  },
  {
   "cell_type": "code",
   "execution_count": 7,
   "id": "fifth-motion",
   "metadata": {
    "execution": {
     "iopub.execute_input": "2021-10-20T23:00:09.785329Z",
     "iopub.status.busy": "2021-10-20T23:00:09.782590Z",
     "iopub.status.idle": "2021-10-20T23:00:11.271923Z",
     "shell.execute_reply": "2021-10-20T23:00:11.274078Z"
    },
    "papermill": {
     "duration": 1.523838,
     "end_time": "2021-10-20T23:00:11.274651",
     "exception": false,
     "start_time": "2021-10-20T23:00:09.750813",
     "status": "completed"
    },
    "tags": []
   },
   "outputs": [
    {
     "data": {
      "text/plain": [
       "<AxesSubplot:ylabel='PRODUCT'>"
      ]
     },
     "execution_count": 7,
     "metadata": {},
     "output_type": "execute_result"
    },
    {
     "data": {
      "image/png": "[encoded data removed]",
      "text/plain": [
       "<Figure size 432x288 with 1 Axes>"
      ]
     },
     "metadata": {
      "needs_background": "light"
     },
     "output_type": "display_data"
    }
   ],
   "source": [
    "df_pivot_diff.sort_values(\"stamp_2\", ascending = False)[\"stamp_2\"].head(10).plot.barh()"
   ]
  },
  {
   "cell_type": "code",
   "execution_count": null,
   "id": "extra-executive",
   "metadata": {
    "papermill": {
     "duration": 0.022279,
     "end_time": "2021-10-20T23:00:11.321213",
     "exception": false,
     "start_time": "2021-10-20T23:00:11.298934",
     "status": "completed"
    },
    "tags": []
   },
   "outputs": [],
   "source": []
  }
 ],
 "metadata": {
  "kernelspec": {
   "display_name": "Python 3",
   "language": "python",
   "name": "python3"
  },
  "language_info": {
   "codemirror_mode": {
    "name": "ipython",
    "version": 3
   },
   "file_extension": ".py",
   "mimetype": "text/x-python",
   "name": "python",
   "nbconvert_exporter": "python",
   "pygments_lexer": "ipython3",
   "version": "3.9.5"
  },
  "papermill": {
   "default_parameters": {},
   "duration": 7.349704,
   "end_time": "2021-10-20T23:00:11.961528",
   "environment_variables": {},
   "exception": null,
   "input_path": "eBay_Overview.ipynb",
   "output_path": "eBay_Overview.ipynb",
   "parameters": {},
   "start_time": "2021-10-20T23:00:04.611824",
   "version": "2.3.3"
  }
 },
 "nbformat": 4,
 "nbformat_minor": 5
}