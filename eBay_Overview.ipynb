{
 "cells": [
  {
   "cell_type": "code",
   "execution_count": 1,
   "id": "reverse-picking",
   "metadata": {
    "execution": {
     "iopub.execute_input": "2021-10-10T21:00:07.379539Z",
     "iopub.status.busy": "2021-10-10T21:00:07.377530Z",
     "iopub.status.idle": "2021-10-10T21:00:08.183383Z",
     "shell.execute_reply": "2021-10-10T21:00:08.184666Z"
    },
    "papermill": {
     "duration": 0.857304,
     "end_time": "2021-10-10T21:00:08.185286",
     "exception": false,
     "start_time": "2021-10-10T21:00:07.327982",
     "status": "completed"
    },
    "tags": []
   },
   "outputs": [],
   "source": [
    "import pandas as pd\n",
    "import sqlite3"
   ]
  },
  {
   "cell_type": "code",
   "execution_count": 2,
   "id": "innovative-syndrome",
   "metadata": {
    "execution": {
     "iopub.execute_input": "2021-10-10T21:00:08.235703Z",
     "iopub.status.busy": "2021-10-10T21:00:08.233714Z",
     "iopub.status.idle": "2021-10-10T21:00:08.730778Z",
     "shell.execute_reply": "2021-10-10T21:00:08.732224Z"
    },
    "papermill": {
     "duration": 0.526685,
     "end_time": "2021-10-10T21:00:08.732642",
     "exception": false,
     "start_time": "2021-10-10T21:00:08.205957",
     "status": "completed"
    },
    "tags": []
   },
   "outputs": [],
   "source": [
    "timestamps = pd.read_sql(\"select distinct record_time from EBAY_TOP_BERLIN order by record_time desc limit 2\", sqlite3.connect(\"UsedObjects.db\"))"
   ]
  },
  {
   "cell_type": "code",
   "execution_count": 3,
   "id": "periodic-identification",
   "metadata": {
    "execution": {
     "iopub.execute_input": "2021-10-10T21:00:08.797043Z",
     "iopub.status.busy": "2021-10-10T21:00:08.795008Z",
     "iopub.status.idle": "2021-10-10T21:00:08.814883Z",
     "shell.execute_reply": "2021-10-10T21:00:08.816087Z"
    },
    "papermill": {
     "duration": 0.064053,
     "end_time": "2021-10-10T21:00:08.816504",
     "exception": false,
     "start_time": "2021-10-10T21:00:08.752451",
     "status": "completed"
    },
    "tags": []
   },
   "outputs": [
    {
     "data": {
      "text/html": [
       "<div>\n",
       "<style scoped>\n",
       "    .dataframe tbody tr th:only-of-type {\n",
       "        vertical-align: middle;\n",
       "    }\n",
       "\n",
       "    .dataframe tbody tr th {\n",
       "        vertical-align: top;\n",
       "    }\n",
       "\n",
       "    .dataframe thead th {\n",
       "        text-align: right;\n",
       "    }\n",
       "</style>\n",
       "<table border=\"1\" class=\"dataframe\">\n",
       "  <thead>\n",
       "    <tr style=\"text-align: right;\">\n",
       "      <th></th>\n",
       "      <th>RECORD_TIME</th>\n",
       "    </tr>\n",
       "  </thead>\n",
       "  <tbody>\n",
       "    <tr>\n",
       "      <th>0</th>\n",
       "      <td>2021-10-10 23:00</td>\n",
       "    </tr>\n",
       "    <tr>\n",
       "      <th>1</th>\n",
       "      <td>2021-10-10 22:30</td>\n",
       "    </tr>\n",
       "  </tbody>\n",
       "</table>\n",
       "</div>"
      ],
      "text/plain": [
       "        RECORD_TIME\n",
       "0  2021-10-10 23:00\n",
       "1  2021-10-10 22:30"
      ]
     },
     "execution_count": 3,
     "metadata": {},
     "output_type": "execute_result"
    }
   ],
   "source": [
    "timestamps"
   ]
  },
  {
   "cell_type": "code",
   "execution_count": 4,
   "id": "alternate-victory",
   "metadata": {
    "execution": {
     "iopub.execute_input": "2021-10-10T21:00:08.883055Z",
     "iopub.status.busy": "2021-10-10T21:00:08.880606Z",
     "iopub.status.idle": "2021-10-10T21:00:09.624208Z",
     "shell.execute_reply": "2021-10-10T21:00:09.625609Z"
    },
    "papermill": {
     "duration": 0.778378,
     "end_time": "2021-10-10T21:00:09.626046",
     "exception": false,
     "start_time": "2021-10-10T21:00:08.847668",
     "status": "completed"
    },
    "tags": []
   },
   "outputs": [],
   "source": [
    "df = pd.read_sql(\"select * from EBAY_TOP_BERLIN where record_time in (select distinct record_time from EBAY_TOP_BERLIN order by record_time desc limit 2)\", sqlite3.connect(\"UsedObjects.db\"))"
   ]
  },
  {
   "cell_type": "code",
   "execution_count": 5,
   "id": "popular-active",
   "metadata": {
    "execution": {
     "iopub.execute_input": "2021-10-10T21:00:09.697896Z",
     "iopub.status.busy": "2021-10-10T21:00:09.690448Z",
     "iopub.status.idle": "2021-10-10T21:00:09.713799Z",
     "shell.execute_reply": "2021-10-10T21:00:09.715263Z"
    },
    "papermill": {
     "duration": 0.068933,
     "end_time": "2021-10-10T21:00:09.715684",
     "exception": false,
     "start_time": "2021-10-10T21:00:09.646751",
     "status": "completed"
    },
    "tags": []
   },
   "outputs": [],
   "source": [
    "df_pivot = df.pivot_table(index=\"PRODUCT\", columns = \"RECORD_TIME\", values = \"LISTING_COUNT\")"
   ]
  },
  {
   "cell_type": "code",
   "execution_count": 6,
   "id": "union-huntington",
   "metadata": {
    "execution": {
     "iopub.execute_input": "2021-10-10T21:00:09.773051Z",
     "iopub.status.busy": "2021-10-10T21:00:09.771015Z",
     "iopub.status.idle": "2021-10-10T21:00:09.776267Z",
     "shell.execute_reply": "2021-10-10T21:00:09.777454Z"
    },
    "papermill": {
     "duration": 0.040708,
     "end_time": "2021-10-10T21:00:09.777881",
     "exception": false,
     "start_time": "2021-10-10T21:00:09.737173",
     "status": "completed"
    },
    "tags": []
   },
   "outputs": [],
   "source": [
    "df_pivot.columns = [\"stamp_1\", \"stamp_2\"]\n",
    "df_pivot_diff = df_pivot.diff(axis=1)"
   ]
  },
  {
   "cell_type": "code",
   "execution_count": 7,
   "id": "fifth-motion",
   "metadata": {
    "execution": {
     "iopub.execute_input": "2021-10-10T21:00:09.832309Z",
     "iopub.status.busy": "2021-10-10T21:00:09.829744Z",
     "iopub.status.idle": "2021-10-10T21:00:11.309188Z",
     "shell.execute_reply": "2021-10-10T21:00:11.310380Z"
    },
    "papermill": {
     "duration": 1.512639,
     "end_time": "2021-10-10T21:00:11.310916",
     "exception": false,
     "start_time": "2021-10-10T21:00:09.798277",
     "status": "completed"
    },
    "tags": []
   },
   "outputs": [
    {
     "data": {
      "text/plain": [
       "<AxesSubplot:ylabel='PRODUCT'>"
      ]
     },
     "execution_count": 7,
     "metadata": {},
     "output_type": "execute_result"
    },
    {
     "data": {
      "image/png": "[encoded data removed]",
      "text/plain": [
       "<Figure size 432x288 with 1 Axes>"
      ]
     },
     "metadata": {
      "needs_background": "light"
     },
     "output_type": "display_data"
    }
   ],
   "source": [
    "df_pivot_diff.sort_values(\"stamp_2\", ascending = False)[\"stamp_2\"].head(10).plot.barh()"
   ]
  },
  {
   "cell_type": "code",
   "execution_count": null,
   "id": "extra-executive",
   "metadata": {
    "papermill": {
     "duration": 0.022277,
     "end_time": "2021-10-10T21:00:11.356822",
     "exception": false,
     "start_time": "2021-10-10T21:00:11.334545",
     "status": "completed"
    },
    "tags": []
   },
   "outputs": [],
   "source": []
  }
 ],
 "metadata": {
  "kernelspec": {
   "display_name": "Python 3",
   "language": "python",
   "name": "python3"
  },
  "language_info": {
   "codemirror_mode": {
    "name": "ipython",
    "version": 3
   },
   "file_extension": ".py",
   "mimetype": "text/x-python",
   "name": "python",
   "nbconvert_exporter": "python",
   "pygments_lexer": "ipython3",
   "version": "3.9.5"
  },
  "papermill": {
   "default_parameters": {},
   "duration": 7.843927,
   "end_time": "2021-10-10T21:00:12.760054",
   "environment_variables": {},
   "exception": null,
   "input_path": "eBay_Overview.ipynb",
   "output_path": "eBay_Overview.ipynb",
   "parameters": {},
   "start_time": "2021-10-10T21:00:04.916127",
   "version": "2.3.3"
  }
 },
 "nbformat": 4,
 "nbformat_minor": 5
}