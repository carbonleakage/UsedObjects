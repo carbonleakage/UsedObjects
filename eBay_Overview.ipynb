{
 "cells": [
  {
   "cell_type": "code",
   "execution_count": 1,
   "id": "reverse-picking",
   "metadata": {
    "execution": {
     "iopub.execute_input": "2021-12-08T16:00:08.087525Z",
     "iopub.status.busy": "2021-12-08T16:00:08.085222Z",
     "iopub.status.idle": "2021-12-08T16:00:09.045582Z",
     "shell.execute_reply": "2021-12-08T16:00:09.047050Z"
    },
    "papermill": {
     "duration": 1.010794,
     "end_time": "2021-12-08T16:00:09.047767",
     "exception": false,
     "start_time": "2021-12-08T16:00:08.036973",
     "status": "completed"
    },
    "tags": []
   },
   "outputs": [],
   "source": [
    "import pandas as pd\n",
    "import sqlite3"
   ]
  },
  {
   "cell_type": "code",
   "execution_count": 2,
   "id": "innovative-syndrome",
   "metadata": {
    "execution": {
     "iopub.execute_input": "2021-12-08T16:00:09.107865Z",
     "iopub.status.busy": "2021-12-08T16:00:09.105749Z",
     "iopub.status.idle": "2021-12-08T16:00:10.116504Z",
     "shell.execute_reply": "2021-12-08T16:00:10.118062Z"
    },
    "papermill": {
     "duration": 1.04368,
     "end_time": "2021-12-08T16:00:10.118542",
     "exception": false,
     "start_time": "2021-12-08T16:00:09.074862",
     "status": "completed"
    },
    "tags": []
   },
   "outputs": [],
   "source": [
    "timestamps = pd.read_sql(\"select distinct record_time from EBAY_TOP_BERLIN order by record_time desc limit 2\", sqlite3.connect(\"UsedObjects.db\"))"
   ]
  },
  {
   "cell_type": "code",
   "execution_count": 3,
   "id": "periodic-identification",
   "metadata": {
    "execution": {
     "iopub.execute_input": "2021-12-08T16:00:10.191688Z",
     "iopub.status.busy": "2021-12-08T16:00:10.189326Z",
     "iopub.status.idle": "2021-12-08T16:00:10.213034Z",
     "shell.execute_reply": "2021-12-08T16:00:10.214507Z"
    },
    "papermill": {
     "duration": 0.074353,
     "end_time": "2021-12-08T16:00:10.215330",
     "exception": false,
     "start_time": "2021-12-08T16:00:10.140977",
     "status": "completed"
    },
    "tags": []
   },
   "outputs": [
    {
     "data": {
      "text/html": [
       "<div>\n",
       "<style scoped>\n",
       "    .dataframe tbody tr th:only-of-type {\n",
       "        vertical-align: middle;\n",
       "    }\n",
       "\n",
       "    .dataframe tbody tr th {\n",
       "        vertical-align: top;\n",
       "    }\n",
       "\n",
       "    .dataframe thead th {\n",
       "        text-align: right;\n",
       "    }\n",
       "</style>\n",
       "<table border=\"1\" class=\"dataframe\">\n",
       "  <thead>\n",
       "    <tr style=\"text-align: right;\">\n",
       "      <th></th>\n",
       "      <th>RECORD_TIME</th>\n",
       "    </tr>\n",
       "  </thead>\n",
       "  <tbody>\n",
       "    <tr>\n",
       "      <th>0</th>\n",
       "      <td>2021-12-08 17:00</td>\n",
       "    </tr>\n",
       "    <tr>\n",
       "      <th>1</th>\n",
       "      <td>2021-12-08 16:30</td>\n",
       "    </tr>\n",
       "  </tbody>\n",
       "</table>\n",
       "</div>"
      ],
      "text/plain": [
       "        RECORD_TIME\n",
       "0  2021-12-08 17:00\n",
       "1  2021-12-08 16:30"
      ]
     },
     "execution_count": 3,
     "metadata": {},
     "output_type": "execute_result"
    }
   ],
   "source": [
    "timestamps"
   ]
  },
  {
   "cell_type": "code",
   "execution_count": 4,
   "id": "alternate-victory",
   "metadata": {
    "execution": {
     "iopub.execute_input": "2021-12-08T16:00:10.271586Z",
     "iopub.status.busy": "2021-12-08T16:00:10.269556Z",
     "iopub.status.idle": "2021-12-08T16:00:11.767468Z",
     "shell.execute_reply": "2021-12-08T16:00:11.769696Z"
    },
    "papermill": {
     "duration": 1.532398,
     "end_time": "2021-12-08T16:00:11.770173",
     "exception": false,
     "start_time": "2021-12-08T16:00:10.237775",
     "status": "completed"
    },
    "tags": []
   },
   "outputs": [],
   "source": [
    "df = pd.read_sql(\"select * from EBAY_TOP_BERLIN where record_time in (select distinct record_time from EBAY_TOP_BERLIN order by record_time desc limit 2)\", sqlite3.connect(\"UsedObjects.db\"))"
   ]
  },
  {
   "cell_type": "code",
   "execution_count": 5,
   "id": "popular-active",
   "metadata": {
    "execution": {
     "iopub.execute_input": "2021-12-08T16:00:11.845564Z",
     "iopub.status.busy": "2021-12-08T16:00:11.837399Z",
     "iopub.status.idle": "2021-12-08T16:00:11.863185Z",
     "shell.execute_reply": "2021-12-08T16:00:11.864530Z"
    },
    "papermill": {
     "duration": 0.074349,
     "end_time": "2021-12-08T16:00:11.865040",
     "exception": false,
     "start_time": "2021-12-08T16:00:11.790691",
     "status": "completed"
    },
    "tags": []
   },
   "outputs": [],
   "source": [
    "df_pivot = df.pivot_table(index=\"PRODUCT\", columns = \"RECORD_TIME\", values = \"LISTING_COUNT\")"
   ]
  },
  {
   "cell_type": "code",
   "execution_count": 6,
   "id": "union-huntington",
   "metadata": {
    "execution": {
     "iopub.execute_input": "2021-12-08T16:00:11.941406Z",
     "iopub.status.busy": "2021-12-08T16:00:11.937708Z",
     "iopub.status.idle": "2021-12-08T16:00:11.947960Z",
     "shell.execute_reply": "2021-12-08T16:00:11.950475Z"
    },
    "papermill": {
     "duration": 0.065637,
     "end_time": "2021-12-08T16:00:11.951297",
     "exception": false,
     "start_time": "2021-12-08T16:00:11.885660",
     "status": "completed"
    },
    "tags": []
   },
   "outputs": [],
   "source": [
    "df_pivot.columns = [\"stamp_1\", \"stamp_2\"]\n",
    "df_pivot_diff = df_pivot.diff(axis=1)"
   ]
  },
  {
   "cell_type": "code",
   "execution_count": 7,
   "id": "fifth-motion",
   "metadata": {
    "execution": {
     "iopub.execute_input": "2021-12-08T16:00:12.037279Z",
     "iopub.status.busy": "2021-12-08T16:00:12.033062Z",
     "iopub.status.idle": "2021-12-08T16:00:13.891998Z",
     "shell.execute_reply": "2021-12-08T16:00:13.893560Z"
    },
    "papermill": {
     "duration": 1.911332,
     "end_time": "2021-12-08T16:00:13.894032",
     "exception": false,
     "start_time": "2021-12-08T16:00:11.982700",
     "status": "completed"
    },
    "tags": []
   },
   "outputs": [
    {
     "data": {
      "text/plain": [
       "<AxesSubplot:ylabel='PRODUCT'>"
      ]
     },
     "execution_count": 7,
     "metadata": {},
     "output_type": "execute_result"
    },
    {
     "data": {
      "image/png": "[encoded data removed]",
      "text/plain": [
       "<Figure size 432x288 with 1 Axes>"
      ]
     },
     "metadata": {
      "needs_background": "light"
     },
     "output_type": "display_data"
    }
   ],
   "source": [
    "df_pivot_diff.sort_values(\"stamp_2\", ascending = False)[\"stamp_2\"].head(10).plot.barh()"
   ]
  },
  {
   "cell_type": "code",
   "execution_count": null,
   "id": "extra-executive",
   "metadata": {
    "papermill": {
     "duration": 0.022252,
     "end_time": "2021-12-08T16:00:13.940963",
     "exception": false,
     "start_time": "2021-12-08T16:00:13.918711",
     "status": "completed"
    },
    "tags": []
   },
   "outputs": [],
   "source": []
  }
 ],
 "metadata": {
  "kernelspec": {
   "display_name": "Python 3",
   "language": "python",
   "name": "python3"
  },
  "language_info": {
   "codemirror_mode": {
    "name": "ipython",
    "version": 3
   },
   "file_extension": ".py",
   "mimetype": "text/x-python",
   "name": "python",
   "nbconvert_exporter": "python",
   "pygments_lexer": "ipython3",
   "version": "3.9.5"
  },
  "papermill": {
   "default_parameters": {},
   "duration": 9.946222,
   "end_time": "2021-12-08T16:00:15.261121",
   "environment_variables": {},
   "exception": null,
   "input_path": "eBay_Overview.ipynb",
   "output_path": "eBay_Overview.ipynb",
   "parameters": {},
   "start_time": "2021-12-08T16:00:05.314899",
   "version": "2.3.3"
  }
 },
 "nbformat": 4,
 "nbformat_minor": 5
}