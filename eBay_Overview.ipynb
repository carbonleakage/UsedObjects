{
 "cells": [
  {
   "cell_type": "code",
   "execution_count": 1,
   "id": "reverse-picking",
   "metadata": {
    "execution": {
     "iopub.execute_input": "2021-08-30T15:30:07.474830Z",
     "iopub.status.busy": "2021-08-30T15:30:07.472782Z",
     "iopub.status.idle": "2021-08-30T15:30:08.278180Z",
     "shell.execute_reply": "2021-08-30T15:30:08.276565Z"
    },
    "papermill": {
     "duration": 0.854919,
     "end_time": "2021-08-30T15:30:08.278576",
     "exception": false,
     "start_time": "2021-08-30T15:30:07.423657",
     "status": "completed"
    },
    "tags": []
   },
   "outputs": [],
   "source": [
    "import pandas as pd\n",
    "import sqlite3"
   ]
  },
  {
   "cell_type": "code",
   "execution_count": 2,
   "id": "innovative-syndrome",
   "metadata": {
    "execution": {
     "iopub.execute_input": "2021-08-30T15:30:08.330686Z",
     "iopub.status.busy": "2021-08-30T15:30:08.328515Z",
     "iopub.status.idle": "2021-08-30T15:30:08.494095Z",
     "shell.execute_reply": "2021-08-30T15:30:08.495299Z"
    },
    "papermill": {
     "duration": 0.19559,
     "end_time": "2021-08-30T15:30:08.495698",
     "exception": false,
     "start_time": "2021-08-30T15:30:08.300108",
     "status": "completed"
    },
    "tags": []
   },
   "outputs": [],
   "source": [
    "timestamps = pd.read_sql(\"select distinct record_time from EBAY_TOP_BERLIN order by record_time desc limit 2\", sqlite3.connect(\"UsedObjects.db\"))"
   ]
  },
  {
   "cell_type": "code",
   "execution_count": 3,
   "id": "periodic-identification",
   "metadata": {
    "execution": {
     "iopub.execute_input": "2021-08-30T15:30:08.561331Z",
     "iopub.status.busy": "2021-08-30T15:30:08.559266Z",
     "iopub.status.idle": "2021-08-30T15:30:08.582555Z",
     "shell.execute_reply": "2021-08-30T15:30:08.583843Z"
    },
    "papermill": {
     "duration": 0.068365,
     "end_time": "2021-08-30T15:30:08.584317",
     "exception": false,
     "start_time": "2021-08-30T15:30:08.515952",
     "status": "completed"
    },
    "tags": []
   },
   "outputs": [
    {
     "data": {
      "text/html": [
       "<div>\n",
       "<style scoped>\n",
       "    .dataframe tbody tr th:only-of-type {\n",
       "        vertical-align: middle;\n",
       "    }\n",
       "\n",
       "    .dataframe tbody tr th {\n",
       "        vertical-align: top;\n",
       "    }\n",
       "\n",
       "    .dataframe thead th {\n",
       "        text-align: right;\n",
       "    }\n",
       "</style>\n",
       "<table border=\"1\" class=\"dataframe\">\n",
       "  <thead>\n",
       "    <tr style=\"text-align: right;\">\n",
       "      <th></th>\n",
       "      <th>RECORD_TIME</th>\n",
       "    </tr>\n",
       "  </thead>\n",
       "  <tbody>\n",
       "    <tr>\n",
       "      <th>0</th>\n",
       "      <td>2021-08-30 17:30</td>\n",
       "    </tr>\n",
       "    <tr>\n",
       "      <th>1</th>\n",
       "      <td>2021-08-30 17:00</td>\n",
       "    </tr>\n",
       "  </tbody>\n",
       "</table>\n",
       "</div>"
      ],
      "text/plain": [
       "        RECORD_TIME\n",
       "0  2021-08-30 17:30\n",
       "1  2021-08-30 17:00"
      ]
     },
     "execution_count": 3,
     "metadata": {},
     "output_type": "execute_result"
    }
   ],
   "source": [
    "timestamps"
   ]
  },
  {
   "cell_type": "code",
   "execution_count": 4,
   "id": "alternate-victory",
   "metadata": {
    "execution": {
     "iopub.execute_input": "2021-08-30T15:30:08.636132Z",
     "iopub.status.busy": "2021-08-30T15:30:08.634296Z",
     "iopub.status.idle": "2021-08-30T15:30:08.878163Z",
     "shell.execute_reply": "2021-08-30T15:30:08.879344Z"
    },
    "papermill": {
     "duration": 0.274046,
     "end_time": "2021-08-30T15:30:08.879775",
     "exception": false,
     "start_time": "2021-08-30T15:30:08.605729",
     "status": "completed"
    },
    "tags": []
   },
   "outputs": [],
   "source": [
    "df = pd.read_sql(\"select * from EBAY_TOP_BERLIN where record_time in (select distinct record_time from EBAY_TOP_BERLIN order by record_time desc limit 2)\", sqlite3.connect(\"UsedObjects.db\"))"
   ]
  },
  {
   "cell_type": "code",
   "execution_count": 5,
   "id": "popular-active",
   "metadata": {
    "execution": {
     "iopub.execute_input": "2021-08-30T15:30:08.960846Z",
     "iopub.status.busy": "2021-08-30T15:30:08.948305Z",
     "iopub.status.idle": "2021-08-30T15:30:08.976348Z",
     "shell.execute_reply": "2021-08-30T15:30:08.977585Z"
    },
    "papermill": {
     "duration": 0.072203,
     "end_time": "2021-08-30T15:30:08.977987",
     "exception": false,
     "start_time": "2021-08-30T15:30:08.905784",
     "status": "completed"
    },
    "tags": []
   },
   "outputs": [],
   "source": [
    "df_pivot = df.pivot_table(index=\"PRODUCT\", columns = \"RECORD_TIME\", values = \"LISTING_COUNT\")"
   ]
  },
  {
   "cell_type": "code",
   "execution_count": 6,
   "id": "union-huntington",
   "metadata": {
    "execution": {
     "iopub.execute_input": "2021-08-30T15:30:09.035792Z",
     "iopub.status.busy": "2021-08-30T15:30:09.033527Z",
     "iopub.status.idle": "2021-08-30T15:30:09.039380Z",
     "shell.execute_reply": "2021-08-30T15:30:09.040647Z"
    },
    "papermill": {
     "duration": 0.041563,
     "end_time": "2021-08-30T15:30:09.041094",
     "exception": false,
     "start_time": "2021-08-30T15:30:08.999531",
     "status": "completed"
    },
    "tags": []
   },
   "outputs": [],
   "source": [
    "df_pivot.columns = [\"stamp_1\", \"stamp_2\"]\n",
    "df_pivot_diff = df_pivot.diff(axis=1)"
   ]
  },
  {
   "cell_type": "code",
   "execution_count": 7,
   "id": "fifth-motion",
   "metadata": {
    "execution": {
     "iopub.execute_input": "2021-08-30T15:30:09.095079Z",
     "iopub.status.busy": "2021-08-30T15:30:09.092832Z",
     "iopub.status.idle": "2021-08-30T15:30:10.611939Z",
     "shell.execute_reply": "2021-08-30T15:30:10.613304Z"
    },
    "papermill": {
     "duration": 1.552475,
     "end_time": "2021-08-30T15:30:10.613730",
     "exception": false,
     "start_time": "2021-08-30T15:30:09.061255",
     "status": "completed"
    },
    "tags": []
   },
   "outputs": [
    {
     "data": {
      "text/plain": [
       "<AxesSubplot:ylabel='PRODUCT'>"
      ]
     },
     "execution_count": 7,
     "metadata": {},
     "output_type": "execute_result"
    },
    {
     "data": {
      "image/png": "[encoded data removed]",
      "text/plain": [
       "<Figure size 432x288 with 1 Axes>"
      ]
     },
     "metadata": {
      "needs_background": "light"
     },
     "output_type": "display_data"
    }
   ],
   "source": [
    "df_pivot_diff.sort_values(\"stamp_2\", ascending = False)[\"stamp_2\"].head(10).plot.barh()"
   ]
  },
  {
   "cell_type": "code",
   "execution_count": null,
   "id": "extra-executive",
   "metadata": {
    "papermill": {
     "duration": 0.022468,
     "end_time": "2021-08-30T15:30:10.659780",
     "exception": false,
     "start_time": "2021-08-30T15:30:10.637312",
     "status": "completed"
    },
    "tags": []
   },
   "outputs": [],
   "source": []
  }
 ],
 "metadata": {
  "kernelspec": {
   "display_name": "Python 3",
   "language": "python",
   "name": "python3"
  },
  "language_info": {
   "codemirror_mode": {
    "name": "ipython",
    "version": 3
   },
   "file_extension": ".py",
   "mimetype": "text/x-python",
   "name": "python",
   "nbconvert_exporter": "python",
   "pygments_lexer": "ipython3",
   "version": "3.9.5"
  },
  "papermill": {
   "default_parameters": {},
   "duration": 6.820564,
   "end_time": "2021-08-30T15:30:11.842535",
   "environment_variables": {},
   "exception": null,
   "input_path": "eBay_Overview.ipynb",
   "output_path": "eBay_Overview.ipynb",
   "parameters": {},
   "start_time": "2021-08-30T15:30:05.021971",
   "version": "2.3.3"
  }
 },
 "nbformat": 4,
 "nbformat_minor": 5
}