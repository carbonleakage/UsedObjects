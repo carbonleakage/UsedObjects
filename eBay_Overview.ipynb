{
 "cells": [
  {
   "cell_type": "code",
   "execution_count": 1,
   "id": "reverse-picking",
   "metadata": {
    "execution": {
     "iopub.execute_input": "2021-10-05T11:00:07.538852Z",
     "iopub.status.busy": "2021-10-05T11:00:07.536875Z",
     "iopub.status.idle": "2021-10-05T11:00:08.343933Z",
     "shell.execute_reply": "2021-10-05T11:00:08.345190Z"
    },
    "papermill": {
     "duration": 0.857754,
     "end_time": "2021-10-05T11:00:08.345799",
     "exception": false,
     "start_time": "2021-10-05T11:00:07.488045",
     "status": "completed"
    },
    "tags": []
   },
   "outputs": [],
   "source": [
    "import pandas as pd\n",
    "import sqlite3"
   ]
  },
  {
   "cell_type": "code",
   "execution_count": 2,
   "id": "innovative-syndrome",
   "metadata": {
    "execution": {
     "iopub.execute_input": "2021-10-05T11:00:08.399663Z",
     "iopub.status.busy": "2021-10-05T11:00:08.397252Z",
     "iopub.status.idle": "2021-10-05T11:00:08.865158Z",
     "shell.execute_reply": "2021-10-05T11:00:08.866475Z"
    },
    "papermill": {
     "duration": 0.498072,
     "end_time": "2021-10-05T11:00:08.866968",
     "exception": false,
     "start_time": "2021-10-05T11:00:08.368896",
     "status": "completed"
    },
    "tags": []
   },
   "outputs": [],
   "source": [
    "timestamps = pd.read_sql(\"select distinct record_time from EBAY_TOP_BERLIN order by record_time desc limit 2\", sqlite3.connect(\"UsedObjects.db\"))"
   ]
  },
  {
   "cell_type": "code",
   "execution_count": 3,
   "id": "periodic-identification",
   "metadata": {
    "execution": {
     "iopub.execute_input": "2021-10-05T11:00:08.933079Z",
     "iopub.status.busy": "2021-10-05T11:00:08.931066Z",
     "iopub.status.idle": "2021-10-05T11:00:08.951035Z",
     "shell.execute_reply": "2021-10-05T11:00:08.952264Z"
    },
    "papermill": {
     "duration": 0.066736,
     "end_time": "2021-10-05T11:00:08.952692",
     "exception": false,
     "start_time": "2021-10-05T11:00:08.885956",
     "status": "completed"
    },
    "tags": []
   },
   "outputs": [
    {
     "data": {
      "text/html": [
       "<div>\n",
       "<style scoped>\n",
       "    .dataframe tbody tr th:only-of-type {\n",
       "        vertical-align: middle;\n",
       "    }\n",
       "\n",
       "    .dataframe tbody tr th {\n",
       "        vertical-align: top;\n",
       "    }\n",
       "\n",
       "    .dataframe thead th {\n",
       "        text-align: right;\n",
       "    }\n",
       "</style>\n",
       "<table border=\"1\" class=\"dataframe\">\n",
       "  <thead>\n",
       "    <tr style=\"text-align: right;\">\n",
       "      <th></th>\n",
       "      <th>RECORD_TIME</th>\n",
       "    </tr>\n",
       "  </thead>\n",
       "  <tbody>\n",
       "    <tr>\n",
       "      <th>0</th>\n",
       "      <td>2021-10-05 13:00</td>\n",
       "    </tr>\n",
       "    <tr>\n",
       "      <th>1</th>\n",
       "      <td>2021-10-05 12:30</td>\n",
       "    </tr>\n",
       "  </tbody>\n",
       "</table>\n",
       "</div>"
      ],
      "text/plain": [
       "        RECORD_TIME\n",
       "0  2021-10-05 13:00\n",
       "1  2021-10-05 12:30"
      ]
     },
     "execution_count": 3,
     "metadata": {},
     "output_type": "execute_result"
    }
   ],
   "source": [
    "timestamps"
   ]
  },
  {
   "cell_type": "code",
   "execution_count": 4,
   "id": "alternate-victory",
   "metadata": {
    "execution": {
     "iopub.execute_input": "2021-10-05T11:00:09.012684Z",
     "iopub.status.busy": "2021-10-05T11:00:09.010767Z",
     "iopub.status.idle": "2021-10-05T11:00:09.701958Z",
     "shell.execute_reply": "2021-10-05T11:00:09.703379Z"
    },
    "papermill": {
     "duration": 0.723894,
     "end_time": "2021-10-05T11:00:09.703813",
     "exception": false,
     "start_time": "2021-10-05T11:00:08.979919",
     "status": "completed"
    },
    "tags": []
   },
   "outputs": [],
   "source": [
    "df = pd.read_sql(\"select * from EBAY_TOP_BERLIN where record_time in (select distinct record_time from EBAY_TOP_BERLIN order by record_time desc limit 2)\", sqlite3.connect(\"UsedObjects.db\"))"
   ]
  },
  {
   "cell_type": "code",
   "execution_count": 5,
   "id": "popular-active",
   "metadata": {
    "execution": {
     "iopub.execute_input": "2021-10-05T11:00:09.774360Z",
     "iopub.status.busy": "2021-10-05T11:00:09.762765Z",
     "iopub.status.idle": "2021-10-05T11:00:09.790333Z",
     "shell.execute_reply": "2021-10-05T11:00:09.791788Z"
    },
    "papermill": {
     "duration": 0.067996,
     "end_time": "2021-10-05T11:00:09.792242",
     "exception": false,
     "start_time": "2021-10-05T11:00:09.724246",
     "status": "completed"
    },
    "tags": []
   },
   "outputs": [],
   "source": [
    "df_pivot = df.pivot_table(index=\"PRODUCT\", columns = \"RECORD_TIME\", values = \"LISTING_COUNT\")"
   ]
  },
  {
   "cell_type": "code",
   "execution_count": 6,
   "id": "union-huntington",
   "metadata": {
    "execution": {
     "iopub.execute_input": "2021-10-05T11:00:09.849326Z",
     "iopub.status.busy": "2021-10-05T11:00:09.846930Z",
     "iopub.status.idle": "2021-10-05T11:00:09.853002Z",
     "shell.execute_reply": "2021-10-05T11:00:09.854450Z"
    },
    "papermill": {
     "duration": 0.042281,
     "end_time": "2021-10-05T11:00:09.854957",
     "exception": false,
     "start_time": "2021-10-05T11:00:09.812676",
     "status": "completed"
    },
    "tags": []
   },
   "outputs": [],
   "source": [
    "df_pivot.columns = [\"stamp_1\", \"stamp_2\"]\n",
    "df_pivot_diff = df_pivot.diff(axis=1)"
   ]
  },
  {
   "cell_type": "code",
   "execution_count": 7,
   "id": "fifth-motion",
   "metadata": {
    "execution": {
     "iopub.execute_input": "2021-10-05T11:00:09.909877Z",
     "iopub.status.busy": "2021-10-05T11:00:09.907616Z",
     "iopub.status.idle": "2021-10-05T11:00:11.388580Z",
     "shell.execute_reply": "2021-10-05T11:00:11.389861Z"
    },
    "papermill": {
     "duration": 1.514196,
     "end_time": "2021-10-05T11:00:11.390280",
     "exception": false,
     "start_time": "2021-10-05T11:00:09.876084",
     "status": "completed"
    },
    "tags": []
   },
   "outputs": [
    {
     "data": {
      "text/plain": [
       "<AxesSubplot:ylabel='PRODUCT'>"
      ]
     },
     "execution_count": 7,
     "metadata": {},
     "output_type": "execute_result"
    },
    {
     "data": {
      "image/png": "[encoded data removed]",
      "text/plain": [
       "<Figure size 432x288 with 1 Axes>"
      ]
     },
     "metadata": {
      "needs_background": "light"
     },
     "output_type": "display_data"
    }
   ],
   "source": [
    "df_pivot_diff.sort_values(\"stamp_2\", ascending = False)[\"stamp_2\"].head(10).plot.barh()"
   ]
  },
  {
   "cell_type": "code",
   "execution_count": null,
   "id": "extra-executive",
   "metadata": {
    "papermill": {
     "duration": 0.02215,
     "end_time": "2021-10-05T11:00:11.436030",
     "exception": false,
     "start_time": "2021-10-05T11:00:11.413880",
     "status": "completed"
    },
    "tags": []
   },
   "outputs": [],
   "source": []
  }
 ],
 "metadata": {
  "kernelspec": {
   "display_name": "Python 3",
   "language": "python",
   "name": "python3"
  },
  "language_info": {
   "codemirror_mode": {
    "name": "ipython",
    "version": 3
   },
   "file_extension": ".py",
   "mimetype": "text/x-python",
   "name": "python",
   "nbconvert_exporter": "python",
   "pygments_lexer": "ipython3",
   "version": "3.9.5"
  },
  "papermill": {
   "default_parameters": {},
   "duration": 7.825077,
   "end_time": "2021-10-05T11:00:12.907425",
   "environment_variables": {},
   "exception": null,
   "input_path": "eBay_Overview.ipynb",
   "output_path": "eBay_Overview.ipynb",
   "parameters": {},
   "start_time": "2021-10-05T11:00:05.082348",
   "version": "2.3.3"
  }
 },
 "nbformat": 4,
 "nbformat_minor": 5
}