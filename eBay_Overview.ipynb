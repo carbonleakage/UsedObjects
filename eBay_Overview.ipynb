{
 "cells": [
  {
   "cell_type": "code",
   "execution_count": 1,
   "id": "reverse-picking",
   "metadata": {
    "execution": {
     "iopub.execute_input": "2021-09-26T05:00:07.311220Z",
     "iopub.status.busy": "2021-09-26T05:00:07.309233Z",
     "iopub.status.idle": "2021-09-26T05:00:08.116770Z",
     "shell.execute_reply": "2021-09-26T05:00:08.118002Z"
    },
    "papermill": {
     "duration": 0.85746,
     "end_time": "2021-09-26T05:00:08.118616",
     "exception": false,
     "start_time": "2021-09-26T05:00:07.261156",
     "status": "completed"
    },
    "tags": []
   },
   "outputs": [],
   "source": [
    "import pandas as pd\n",
    "import sqlite3"
   ]
  },
  {
   "cell_type": "code",
   "execution_count": 2,
   "id": "innovative-syndrome",
   "metadata": {
    "execution": {
     "iopub.execute_input": "2021-09-26T05:00:08.171640Z",
     "iopub.status.busy": "2021-09-26T05:00:08.169259Z",
     "iopub.status.idle": "2021-09-26T05:00:08.557345Z",
     "shell.execute_reply": "2021-09-26T05:00:08.558456Z"
    },
    "papermill": {
     "duration": 0.417941,
     "end_time": "2021-09-26T05:00:08.558930",
     "exception": false,
     "start_time": "2021-09-26T05:00:08.140989",
     "status": "completed"
    },
    "tags": []
   },
   "outputs": [],
   "source": [
    "timestamps = pd.read_sql(\"select distinct record_time from EBAY_TOP_BERLIN order by record_time desc limit 2\", sqlite3.connect(\"UsedObjects.db\"))"
   ]
  },
  {
   "cell_type": "code",
   "execution_count": 3,
   "id": "periodic-identification",
   "metadata": {
    "execution": {
     "iopub.execute_input": "2021-09-26T05:00:08.624343Z",
     "iopub.status.busy": "2021-09-26T05:00:08.622126Z",
     "iopub.status.idle": "2021-09-26T05:00:08.642613Z",
     "shell.execute_reply": "2021-09-26T05:00:08.643947Z"
    },
    "papermill": {
     "duration": 0.064569,
     "end_time": "2021-09-26T05:00:08.644356",
     "exception": false,
     "start_time": "2021-09-26T05:00:08.579787",
     "status": "completed"
    },
    "tags": []
   },
   "outputs": [
    {
     "data": {
      "text/html": [
       "<div>\n",
       "<style scoped>\n",
       "    .dataframe tbody tr th:only-of-type {\n",
       "        vertical-align: middle;\n",
       "    }\n",
       "\n",
       "    .dataframe tbody tr th {\n",
       "        vertical-align: top;\n",
       "    }\n",
       "\n",
       "    .dataframe thead th {\n",
       "        text-align: right;\n",
       "    }\n",
       "</style>\n",
       "<table border=\"1\" class=\"dataframe\">\n",
       "  <thead>\n",
       "    <tr style=\"text-align: right;\">\n",
       "      <th></th>\n",
       "      <th>RECORD_TIME</th>\n",
       "    </tr>\n",
       "  </thead>\n",
       "  <tbody>\n",
       "    <tr>\n",
       "      <th>0</th>\n",
       "      <td>2021-09-26 07:00</td>\n",
       "    </tr>\n",
       "    <tr>\n",
       "      <th>1</th>\n",
       "      <td>2021-09-26 06:30</td>\n",
       "    </tr>\n",
       "  </tbody>\n",
       "</table>\n",
       "</div>"
      ],
      "text/plain": [
       "        RECORD_TIME\n",
       "0  2021-09-26 07:00\n",
       "1  2021-09-26 06:30"
      ]
     },
     "execution_count": 3,
     "metadata": {},
     "output_type": "execute_result"
    }
   ],
   "source": [
    "timestamps"
   ]
  },
  {
   "cell_type": "code",
   "execution_count": 4,
   "id": "alternate-victory",
   "metadata": {
    "execution": {
     "iopub.execute_input": "2021-09-26T05:00:08.695782Z",
     "iopub.status.busy": "2021-09-26T05:00:08.693748Z",
     "iopub.status.idle": "2021-09-26T05:00:09.286526Z",
     "shell.execute_reply": "2021-09-26T05:00:09.287714Z"
    },
    "papermill": {
     "duration": 0.622831,
     "end_time": "2021-09-26T05:00:09.288129",
     "exception": false,
     "start_time": "2021-09-26T05:00:08.665298",
     "status": "completed"
    },
    "tags": []
   },
   "outputs": [],
   "source": [
    "df = pd.read_sql(\"select * from EBAY_TOP_BERLIN where record_time in (select distinct record_time from EBAY_TOP_BERLIN order by record_time desc limit 2)\", sqlite3.connect(\"UsedObjects.db\"))"
   ]
  },
  {
   "cell_type": "code",
   "execution_count": 5,
   "id": "popular-active",
   "metadata": {
    "execution": {
     "iopub.execute_input": "2021-09-26T05:00:09.364425Z",
     "iopub.status.busy": "2021-09-26T05:00:09.357235Z",
     "iopub.status.idle": "2021-09-26T05:00:09.385131Z",
     "shell.execute_reply": "2021-09-26T05:00:09.386328Z"
    },
    "papermill": {
     "duration": 0.071754,
     "end_time": "2021-09-26T05:00:09.386725",
     "exception": false,
     "start_time": "2021-09-26T05:00:09.314971",
     "status": "completed"
    },
    "tags": []
   },
   "outputs": [],
   "source": [
    "df_pivot = df.pivot_table(index=\"PRODUCT\", columns = \"RECORD_TIME\", values = \"LISTING_COUNT\")"
   ]
  },
  {
   "cell_type": "code",
   "execution_count": 6,
   "id": "union-huntington",
   "metadata": {
    "execution": {
     "iopub.execute_input": "2021-09-26T05:00:09.446077Z",
     "iopub.status.busy": "2021-09-26T05:00:09.443643Z",
     "iopub.status.idle": "2021-09-26T05:00:09.449557Z",
     "shell.execute_reply": "2021-09-26T05:00:09.450873Z"
    },
    "papermill": {
     "duration": 0.042373,
     "end_time": "2021-09-26T05:00:09.451290",
     "exception": false,
     "start_time": "2021-09-26T05:00:09.408917",
     "status": "completed"
    },
    "tags": []
   },
   "outputs": [],
   "source": [
    "df_pivot.columns = [\"stamp_1\", \"stamp_2\"]\n",
    "df_pivot_diff = df_pivot.diff(axis=1)"
   ]
  },
  {
   "cell_type": "code",
   "execution_count": 7,
   "id": "fifth-motion",
   "metadata": {
    "execution": {
     "iopub.execute_input": "2021-09-26T05:00:09.505298Z",
     "iopub.status.busy": "2021-09-26T05:00:09.503041Z",
     "iopub.status.idle": "2021-09-26T05:00:10.990239Z",
     "shell.execute_reply": "2021-09-26T05:00:10.991598Z"
    },
    "papermill": {
     "duration": 1.520335,
     "end_time": "2021-09-26T05:00:10.992023",
     "exception": false,
     "start_time": "2021-09-26T05:00:09.471688",
     "status": "completed"
    },
    "tags": []
   },
   "outputs": [
    {
     "data": {
      "text/plain": [
       "<AxesSubplot:ylabel='PRODUCT'>"
      ]
     },
     "execution_count": 7,
     "metadata": {},
     "output_type": "execute_result"
    },
    {
     "data": {
      "image/png": "[encoded data removed]",
      "text/plain": [
       "<Figure size 432x288 with 1 Axes>"
      ]
     },
     "metadata": {
      "needs_background": "light"
     },
     "output_type": "display_data"
    }
   ],
   "source": [
    "df_pivot_diff.sort_values(\"stamp_2\", ascending = False)[\"stamp_2\"].head(10).plot.barh()"
   ]
  },
  {
   "cell_type": "code",
   "execution_count": null,
   "id": "extra-executive",
   "metadata": {
    "papermill": {
     "duration": 0.022131,
     "end_time": "2021-09-26T05:00:11.038090",
     "exception": false,
     "start_time": "2021-09-26T05:00:11.015959",
     "status": "completed"
    },
    "tags": []
   },
   "outputs": [],
   "source": []
  }
 ],
 "metadata": {
  "kernelspec": {
   "display_name": "Python 3",
   "language": "python",
   "name": "python3"
  },
  "language_info": {
   "codemirror_mode": {
    "name": "ipython",
    "version": 3
   },
   "file_extension": ".py",
   "mimetype": "text/x-python",
   "name": "python",
   "nbconvert_exporter": "python",
   "pygments_lexer": "ipython3",
   "version": "3.9.5"
  },
  "papermill": {
   "default_parameters": {},
   "duration": 6.822389,
   "end_time": "2021-09-26T05:00:11.680675",
   "environment_variables": {},
   "exception": null,
   "input_path": "eBay_Overview.ipynb",
   "output_path": "eBay_Overview.ipynb",
   "parameters": {},
   "start_time": "2021-09-26T05:00:04.858286",
   "version": "2.3.3"
  }
 },
 "nbformat": 4,
 "nbformat_minor": 5
}