{
 "cells": [
  {
   "cell_type": "code",
   "execution_count": 1,
   "id": "reverse-picking",
   "metadata": {
    "execution": {
     "iopub.execute_input": "2021-10-27T04:30:07.444759Z",
     "iopub.status.busy": "2021-10-27T04:30:07.442724Z",
     "iopub.status.idle": "2021-10-27T04:30:08.246997Z",
     "shell.execute_reply": "2021-10-27T04:30:08.248243Z"
    },
    "papermill": {
     "duration": 0.854828,
     "end_time": "2021-10-27T04:30:08.248919",
     "exception": false,
     "start_time": "2021-10-27T04:30:07.394091",
     "status": "completed"
    },
    "tags": []
   },
   "outputs": [],
   "source": [
    "import pandas as pd\n",
    "import sqlite3"
   ]
  },
  {
   "cell_type": "code",
   "execution_count": 2,
   "id": "innovative-syndrome",
   "metadata": {
    "execution": {
     "iopub.execute_input": "2021-10-27T04:30:08.300920Z",
     "iopub.status.busy": "2021-10-27T04:30:08.298979Z",
     "iopub.status.idle": "2021-10-27T04:30:08.948060Z",
     "shell.execute_reply": "2021-10-27T04:30:08.950064Z"
    },
    "papermill": {
     "duration": 0.67941,
     "end_time": "2021-10-27T04:30:08.950615",
     "exception": false,
     "start_time": "2021-10-27T04:30:08.271205",
     "status": "completed"
    },
    "tags": []
   },
   "outputs": [],
   "source": [
    "timestamps = pd.read_sql(\"select distinct record_time from EBAY_TOP_BERLIN order by record_time desc limit 2\", sqlite3.connect(\"UsedObjects.db\"))"
   ]
  },
  {
   "cell_type": "code",
   "execution_count": 3,
   "id": "periodic-identification",
   "metadata": {
    "execution": {
     "iopub.execute_input": "2021-10-27T04:30:09.027223Z",
     "iopub.status.busy": "2021-10-27T04:30:09.025174Z",
     "iopub.status.idle": "2021-10-27T04:30:09.047262Z",
     "shell.execute_reply": "2021-10-27T04:30:09.048551Z"
    },
    "papermill": {
     "duration": 0.071045,
     "end_time": "2021-10-27T04:30:09.049164",
     "exception": false,
     "start_time": "2021-10-27T04:30:08.978119",
     "status": "completed"
    },
    "tags": []
   },
   "outputs": [
    {
     "data": {
      "text/html": [
       "<div>\n",
       "<style scoped>\n",
       "    .dataframe tbody tr th:only-of-type {\n",
       "        vertical-align: middle;\n",
       "    }\n",
       "\n",
       "    .dataframe tbody tr th {\n",
       "        vertical-align: top;\n",
       "    }\n",
       "\n",
       "    .dataframe thead th {\n",
       "        text-align: right;\n",
       "    }\n",
       "</style>\n",
       "<table border=\"1\" class=\"dataframe\">\n",
       "  <thead>\n",
       "    <tr style=\"text-align: right;\">\n",
       "      <th></th>\n",
       "      <th>RECORD_TIME</th>\n",
       "    </tr>\n",
       "  </thead>\n",
       "  <tbody>\n",
       "    <tr>\n",
       "      <th>0</th>\n",
       "      <td>2021-10-27 06:30</td>\n",
       "    </tr>\n",
       "    <tr>\n",
       "      <th>1</th>\n",
       "      <td>2021-10-27 06:00</td>\n",
       "    </tr>\n",
       "  </tbody>\n",
       "</table>\n",
       "</div>"
      ],
      "text/plain": [
       "        RECORD_TIME\n",
       "0  2021-10-27 06:30\n",
       "1  2021-10-27 06:00"
      ]
     },
     "execution_count": 3,
     "metadata": {},
     "output_type": "execute_result"
    }
   ],
   "source": [
    "timestamps"
   ]
  },
  {
   "cell_type": "code",
   "execution_count": 4,
   "id": "alternate-victory",
   "metadata": {
    "execution": {
     "iopub.execute_input": "2021-10-27T04:30:09.102164Z",
     "iopub.status.busy": "2021-10-27T04:30:09.099764Z",
     "iopub.status.idle": "2021-10-27T04:30:10.047092Z",
     "shell.execute_reply": "2021-10-27T04:30:10.048386Z"
    },
    "papermill": {
     "duration": 0.977266,
     "end_time": "2021-10-27T04:30:10.048880",
     "exception": false,
     "start_time": "2021-10-27T04:30:09.071614",
     "status": "completed"
    },
    "tags": []
   },
   "outputs": [],
   "source": [
    "df = pd.read_sql(\"select * from EBAY_TOP_BERLIN where record_time in (select distinct record_time from EBAY_TOP_BERLIN order by record_time desc limit 2)\", sqlite3.connect(\"UsedObjects.db\"))"
   ]
  },
  {
   "cell_type": "code",
   "execution_count": 5,
   "id": "popular-active",
   "metadata": {
    "execution": {
     "iopub.execute_input": "2021-10-27T04:30:10.118173Z",
     "iopub.status.busy": "2021-10-27T04:30:10.106641Z",
     "iopub.status.idle": "2021-10-27T04:30:10.135707Z",
     "shell.execute_reply": "2021-10-27T04:30:10.137198Z"
    },
    "papermill": {
     "duration": 0.068506,
     "end_time": "2021-10-27T04:30:10.137656",
     "exception": false,
     "start_time": "2021-10-27T04:30:10.069150",
     "status": "completed"
    },
    "tags": []
   },
   "outputs": [],
   "source": [
    "df_pivot = df.pivot_table(index=\"PRODUCT\", columns = \"RECORD_TIME\", values = \"LISTING_COUNT\")"
   ]
  },
  {
   "cell_type": "code",
   "execution_count": 6,
   "id": "union-huntington",
   "metadata": {
    "execution": {
     "iopub.execute_input": "2021-10-27T04:30:10.194454Z",
     "iopub.status.busy": "2021-10-27T04:30:10.191923Z",
     "iopub.status.idle": "2021-10-27T04:30:10.197819Z",
     "shell.execute_reply": "2021-10-27T04:30:10.199147Z"
    },
    "papermill": {
     "duration": 0.042097,
     "end_time": "2021-10-27T04:30:10.199577",
     "exception": false,
     "start_time": "2021-10-27T04:30:10.157480",
     "status": "completed"
    },
    "tags": []
   },
   "outputs": [],
   "source": [
    "df_pivot.columns = [\"stamp_1\", \"stamp_2\"]\n",
    "df_pivot_diff = df_pivot.diff(axis=1)"
   ]
  },
  {
   "cell_type": "code",
   "execution_count": 7,
   "id": "fifth-motion",
   "metadata": {
    "execution": {
     "iopub.execute_input": "2021-10-27T04:30:10.253037Z",
     "iopub.status.busy": "2021-10-27T04:30:10.250677Z",
     "iopub.status.idle": "2021-10-27T04:30:11.734179Z",
     "shell.execute_reply": "2021-10-27T04:30:11.735548Z"
    },
    "papermill": {
     "duration": 1.515982,
     "end_time": "2021-10-27T04:30:11.735992",
     "exception": false,
     "start_time": "2021-10-27T04:30:10.220010",
     "status": "completed"
    },
    "tags": []
   },
   "outputs": [
    {
     "data": {
      "text/plain": [
       "<AxesSubplot:ylabel='PRODUCT'>"
      ]
     },
     "execution_count": 7,
     "metadata": {},
     "output_type": "execute_result"
    },
    {
     "data": {
      "image/png": "[encoded data removed]",
      "text/plain": [
       "<Figure size 432x288 with 1 Axes>"
      ]
     },
     "metadata": {
      "needs_background": "light"
     },
     "output_type": "display_data"
    }
   ],
   "source": [
    "df_pivot_diff.sort_values(\"stamp_2\", ascending = False)[\"stamp_2\"].head(10).plot.barh()"
   ]
  },
  {
   "cell_type": "code",
   "execution_count": null,
   "id": "extra-executive",
   "metadata": {
    "papermill": {
     "duration": 0.055492,
     "end_time": "2021-10-27T04:30:11.819527",
     "exception": false,
     "start_time": "2021-10-27T04:30:11.764035",
     "status": "completed"
    },
    "tags": []
   },
   "outputs": [],
   "source": []
  }
 ],
 "metadata": {
  "kernelspec": {
   "display_name": "Python 3",
   "language": "python",
   "name": "python3"
  },
  "language_info": {
   "codemirror_mode": {
    "name": "ipython",
    "version": 3
   },
   "file_extension": ".py",
   "mimetype": "text/x-python",
   "name": "python",
   "nbconvert_exporter": "python",
   "pygments_lexer": "ipython3",
   "version": "3.9.5"
  },
  "papermill": {
   "default_parameters": {},
   "duration": 7.484645,
   "end_time": "2021-10-27T04:30:12.475642",
   "environment_variables": {},
   "exception": null,
   "input_path": "eBay_Overview.ipynb",
   "output_path": "eBay_Overview.ipynb",
   "parameters": {},
   "start_time": "2021-10-27T04:30:04.990997",
   "version": "2.3.3"
  }
 },
 "nbformat": 4,
 "nbformat_minor": 5
}