{
 "cells": [
  {
   "cell_type": "code",
   "execution_count": 1,
   "id": "reverse-picking",
   "metadata": {
    "execution": {
     "iopub.execute_input": "2021-11-25T12:30:07.302100Z",
     "iopub.status.busy": "2021-11-25T12:30:07.299654Z",
     "iopub.status.idle": "2021-11-25T12:30:08.231422Z",
     "shell.execute_reply": "2021-11-25T12:30:08.233147Z"
    },
    "papermill": {
     "duration": 0.98257,
     "end_time": "2021-11-25T12:30:08.233911",
     "exception": false,
     "start_time": "2021-11-25T12:30:07.251341",
     "status": "completed"
    },
    "tags": []
   },
   "outputs": [],
   "source": [
    "import pandas as pd\n",
    "import sqlite3"
   ]
  },
  {
   "cell_type": "code",
   "execution_count": 2,
   "id": "innovative-syndrome",
   "metadata": {
    "execution": {
     "iopub.execute_input": "2021-11-25T12:30:08.295990Z",
     "iopub.status.busy": "2021-11-25T12:30:08.293657Z",
     "iopub.status.idle": "2021-11-25T12:30:09.212492Z",
     "shell.execute_reply": "2021-11-25T12:30:09.214874Z"
    },
    "papermill": {
     "duration": 0.953346,
     "end_time": "2021-11-25T12:30:09.215360",
     "exception": false,
     "start_time": "2021-11-25T12:30:08.262014",
     "status": "completed"
    },
    "tags": []
   },
   "outputs": [],
   "source": [
    "timestamps = pd.read_sql(\"select distinct record_time from EBAY_TOP_BERLIN order by record_time desc limit 2\", sqlite3.connect(\"UsedObjects.db\"))"
   ]
  },
  {
   "cell_type": "code",
   "execution_count": 3,
   "id": "periodic-identification",
   "metadata": {
    "execution": {
     "iopub.execute_input": "2021-11-25T12:30:09.294264Z",
     "iopub.status.busy": "2021-11-25T12:30:09.287656Z",
     "iopub.status.idle": "2021-11-25T12:30:09.310889Z",
     "shell.execute_reply": "2021-11-25T12:30:09.312254Z"
    },
    "papermill": {
     "duration": 0.076294,
     "end_time": "2021-11-25T12:30:09.312777",
     "exception": false,
     "start_time": "2021-11-25T12:30:09.236483",
     "status": "completed"
    },
    "tags": []
   },
   "outputs": [
    {
     "data": {
      "text/html": [
       "<div>\n",
       "<style scoped>\n",
       "    .dataframe tbody tr th:only-of-type {\n",
       "        vertical-align: middle;\n",
       "    }\n",
       "\n",
       "    .dataframe tbody tr th {\n",
       "        vertical-align: top;\n",
       "    }\n",
       "\n",
       "    .dataframe thead th {\n",
       "        text-align: right;\n",
       "    }\n",
       "</style>\n",
       "<table border=\"1\" class=\"dataframe\">\n",
       "  <thead>\n",
       "    <tr style=\"text-align: right;\">\n",
       "      <th></th>\n",
       "      <th>RECORD_TIME</th>\n",
       "    </tr>\n",
       "  </thead>\n",
       "  <tbody>\n",
       "    <tr>\n",
       "      <th>0</th>\n",
       "      <td>2021-11-25 13:30</td>\n",
       "    </tr>\n",
       "    <tr>\n",
       "      <th>1</th>\n",
       "      <td>2021-11-25 13:00</td>\n",
       "    </tr>\n",
       "  </tbody>\n",
       "</table>\n",
       "</div>"
      ],
      "text/plain": [
       "        RECORD_TIME\n",
       "0  2021-11-25 13:30\n",
       "1  2021-11-25 13:00"
      ]
     },
     "execution_count": 3,
     "metadata": {},
     "output_type": "execute_result"
    }
   ],
   "source": [
    "timestamps"
   ]
  },
  {
   "cell_type": "code",
   "execution_count": 4,
   "id": "alternate-victory",
   "metadata": {
    "execution": {
     "iopub.execute_input": "2021-11-25T12:30:09.369731Z",
     "iopub.status.busy": "2021-11-25T12:30:09.367199Z",
     "iopub.status.idle": "2021-11-25T12:30:10.688790Z",
     "shell.execute_reply": "2021-11-25T12:30:10.690293Z"
    },
    "papermill": {
     "duration": 1.356472,
     "end_time": "2021-11-25T12:30:10.690774",
     "exception": false,
     "start_time": "2021-11-25T12:30:09.334302",
     "status": "completed"
    },
    "tags": []
   },
   "outputs": [],
   "source": [
    "df = pd.read_sql(\"select * from EBAY_TOP_BERLIN where record_time in (select distinct record_time from EBAY_TOP_BERLIN order by record_time desc limit 2)\", sqlite3.connect(\"UsedObjects.db\"))"
   ]
  },
  {
   "cell_type": "code",
   "execution_count": 5,
   "id": "popular-active",
   "metadata": {
    "execution": {
     "iopub.execute_input": "2021-11-25T12:30:10.765996Z",
     "iopub.status.busy": "2021-11-25T12:30:10.753954Z",
     "iopub.status.idle": "2021-11-25T12:30:10.784294Z",
     "shell.execute_reply": "2021-11-25T12:30:10.786002Z"
    },
    "papermill": {
     "duration": 0.07277,
     "end_time": "2021-11-25T12:30:10.786516",
     "exception": false,
     "start_time": "2021-11-25T12:30:10.713746",
     "status": "completed"
    },
    "tags": []
   },
   "outputs": [],
   "source": [
    "df_pivot = df.pivot_table(index=\"PRODUCT\", columns = \"RECORD_TIME\", values = \"LISTING_COUNT\")"
   ]
  },
  {
   "cell_type": "code",
   "execution_count": 6,
   "id": "union-huntington",
   "metadata": {
    "execution": {
     "iopub.execute_input": "2021-11-25T12:30:10.849699Z",
     "iopub.status.busy": "2021-11-25T12:30:10.847323Z",
     "iopub.status.idle": "2021-11-25T12:30:10.852515Z",
     "shell.execute_reply": "2021-11-25T12:30:10.854186Z"
    },
    "papermill": {
     "duration": 0.047324,
     "end_time": "2021-11-25T12:30:10.854669",
     "exception": false,
     "start_time": "2021-11-25T12:30:10.807345",
     "status": "completed"
    },
    "tags": []
   },
   "outputs": [],
   "source": [
    "df_pivot.columns = [\"stamp_1\", \"stamp_2\"]\n",
    "df_pivot_diff = df_pivot.diff(axis=1)"
   ]
  },
  {
   "cell_type": "code",
   "execution_count": 7,
   "id": "fifth-motion",
   "metadata": {
    "execution": {
     "iopub.execute_input": "2021-11-25T12:30:10.914540Z",
     "iopub.status.busy": "2021-11-25T12:30:10.911637Z",
     "iopub.status.idle": "2021-11-25T12:30:12.785249Z",
     "shell.execute_reply": "2021-11-25T12:30:12.786621Z"
    },
    "papermill": {
     "duration": 1.911028,
     "end_time": "2021-11-25T12:30:12.787103",
     "exception": false,
     "start_time": "2021-11-25T12:30:10.876075",
     "status": "completed"
    },
    "tags": []
   },
   "outputs": [
    {
     "data": {
      "text/plain": [
       "<AxesSubplot:ylabel='PRODUCT'>"
      ]
     },
     "execution_count": 7,
     "metadata": {},
     "output_type": "execute_result"
    },
    {
     "data": {
      "image/png": "[encoded data removed]",
      "text/plain": [
       "<Figure size 432x288 with 1 Axes>"
      ]
     },
     "metadata": {
      "needs_background": "light"
     },
     "output_type": "display_data"
    }
   ],
   "source": [
    "df_pivot_diff.sort_values(\"stamp_2\", ascending = False)[\"stamp_2\"].head(10).plot.barh()"
   ]
  },
  {
   "cell_type": "code",
   "execution_count": null,
   "id": "extra-executive",
   "metadata": {
    "papermill": {
     "duration": 0.023727,
     "end_time": "2021-11-25T12:30:12.834677",
     "exception": false,
     "start_time": "2021-11-25T12:30:12.810950",
     "status": "completed"
    },
    "tags": []
   },
   "outputs": [],
   "source": []
  }
 ],
 "metadata": {
  "kernelspec": {
   "display_name": "Python 3",
   "language": "python",
   "name": "python3"
  },
  "language_info": {
   "codemirror_mode": {
    "name": "ipython",
    "version": 3
   },
   "file_extension": ".py",
   "mimetype": "text/x-python",
   "name": "python",
   "nbconvert_exporter": "python",
   "pygments_lexer": "ipython3",
   "version": "3.9.5"
  },
  "papermill": {
   "default_parameters": {},
   "duration": 9.926809,
   "end_time": "2021-11-25T12:30:14.460038",
   "environment_variables": {},
   "exception": null,
   "input_path": "eBay_Overview.ipynb",
   "output_path": "eBay_Overview.ipynb",
   "parameters": {},
   "start_time": "2021-11-25T12:30:04.533229",
   "version": "2.3.3"
  }
 },
 "nbformat": 4,
 "nbformat_minor": 5
}