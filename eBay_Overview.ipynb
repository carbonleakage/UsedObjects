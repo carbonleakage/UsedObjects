{
 "cells": [
  {
   "cell_type": "code",
   "execution_count": 1,
   "id": "reverse-picking",
   "metadata": {
    "execution": {
     "iopub.execute_input": "2021-09-10T22:30:07.433166Z",
     "iopub.status.busy": "2021-09-10T22:30:07.431213Z",
     "iopub.status.idle": "2021-09-10T22:30:08.243936Z",
     "shell.execute_reply": "2021-09-10T22:30:08.242136Z"
    },
    "papermill": {
     "duration": 0.863206,
     "end_time": "2021-09-10T22:30:08.244349",
     "exception": false,
     "start_time": "2021-09-10T22:30:07.381143",
     "status": "completed"
    },
    "tags": []
   },
   "outputs": [],
   "source": [
    "import pandas as pd\n",
    "import sqlite3"
   ]
  },
  {
   "cell_type": "code",
   "execution_count": 2,
   "id": "innovative-syndrome",
   "metadata": {
    "execution": {
     "iopub.execute_input": "2021-09-10T22:30:08.296359Z",
     "iopub.status.busy": "2021-09-10T22:30:08.293959Z",
     "iopub.status.idle": "2021-09-10T22:30:08.550671Z",
     "shell.execute_reply": "2021-09-10T22:30:08.551966Z"
    },
    "papermill": {
     "duration": 0.286557,
     "end_time": "2021-09-10T22:30:08.552367",
     "exception": false,
     "start_time": "2021-09-10T22:30:08.265810",
     "status": "completed"
    },
    "tags": []
   },
   "outputs": [],
   "source": [
    "timestamps = pd.read_sql(\"select distinct record_time from EBAY_TOP_BERLIN order by record_time desc limit 2\", sqlite3.connect(\"UsedObjects.db\"))"
   ]
  },
  {
   "cell_type": "code",
   "execution_count": 3,
   "id": "periodic-identification",
   "metadata": {
    "execution": {
     "iopub.execute_input": "2021-09-10T22:30:08.618694Z",
     "iopub.status.busy": "2021-09-10T22:30:08.616640Z",
     "iopub.status.idle": "2021-09-10T22:30:08.636380Z",
     "shell.execute_reply": "2021-09-10T22:30:08.637506Z"
    },
    "papermill": {
     "duration": 0.064124,
     "end_time": "2021-09-10T22:30:08.637908",
     "exception": false,
     "start_time": "2021-09-10T22:30:08.573784",
     "status": "completed"
    },
    "tags": []
   },
   "outputs": [
    {
     "data": {
      "text/html": [
       "<div>\n",
       "<style scoped>\n",
       "    .dataframe tbody tr th:only-of-type {\n",
       "        vertical-align: middle;\n",
       "    }\n",
       "\n",
       "    .dataframe tbody tr th {\n",
       "        vertical-align: top;\n",
       "    }\n",
       "\n",
       "    .dataframe thead th {\n",
       "        text-align: right;\n",
       "    }\n",
       "</style>\n",
       "<table border=\"1\" class=\"dataframe\">\n",
       "  <thead>\n",
       "    <tr style=\"text-align: right;\">\n",
       "      <th></th>\n",
       "      <th>RECORD_TIME</th>\n",
       "    </tr>\n",
       "  </thead>\n",
       "  <tbody>\n",
       "    <tr>\n",
       "      <th>0</th>\n",
       "      <td>2021-09-11 00:30</td>\n",
       "    </tr>\n",
       "    <tr>\n",
       "      <th>1</th>\n",
       "      <td>2021-09-11 00:00</td>\n",
       "    </tr>\n",
       "  </tbody>\n",
       "</table>\n",
       "</div>"
      ],
      "text/plain": [
       "        RECORD_TIME\n",
       "0  2021-09-11 00:30\n",
       "1  2021-09-11 00:00"
      ]
     },
     "execution_count": 3,
     "metadata": {},
     "output_type": "execute_result"
    }
   ],
   "source": [
    "timestamps"
   ]
  },
  {
   "cell_type": "code",
   "execution_count": 4,
   "id": "alternate-victory",
   "metadata": {
    "execution": {
     "iopub.execute_input": "2021-09-10T22:30:08.692444Z",
     "iopub.status.busy": "2021-09-10T22:30:08.690077Z",
     "iopub.status.idle": "2021-09-10T22:30:09.069465Z",
     "shell.execute_reply": "2021-09-10T22:30:09.070682Z"
    },
    "papermill": {
     "duration": 0.410214,
     "end_time": "2021-09-10T22:30:09.071278",
     "exception": false,
     "start_time": "2021-09-10T22:30:08.661064",
     "status": "completed"
    },
    "tags": []
   },
   "outputs": [],
   "source": [
    "df = pd.read_sql(\"select * from EBAY_TOP_BERLIN where record_time in (select distinct record_time from EBAY_TOP_BERLIN order by record_time desc limit 2)\", sqlite3.connect(\"UsedObjects.db\"))"
   ]
  },
  {
   "cell_type": "code",
   "execution_count": 5,
   "id": "popular-active",
   "metadata": {
    "execution": {
     "iopub.execute_input": "2021-09-10T22:30:09.170215Z",
     "iopub.status.busy": "2021-09-10T22:30:09.157128Z",
     "iopub.status.idle": "2021-09-10T22:30:09.186953Z",
     "shell.execute_reply": "2021-09-10T22:30:09.188354Z"
    },
    "papermill": {
     "duration": 0.076912,
     "end_time": "2021-09-10T22:30:09.188794",
     "exception": false,
     "start_time": "2021-09-10T22:30:09.111882",
     "status": "completed"
    },
    "tags": []
   },
   "outputs": [],
   "source": [
    "df_pivot = df.pivot_table(index=\"PRODUCT\", columns = \"RECORD_TIME\", values = \"LISTING_COUNT\")"
   ]
  },
  {
   "cell_type": "code",
   "execution_count": 6,
   "id": "union-huntington",
   "metadata": {
    "execution": {
     "iopub.execute_input": "2021-09-10T22:30:09.247198Z",
     "iopub.status.busy": "2021-09-10T22:30:09.244871Z",
     "iopub.status.idle": "2021-09-10T22:30:09.250600Z",
     "shell.execute_reply": "2021-09-10T22:30:09.251987Z"
    },
    "papermill": {
     "duration": 0.041762,
     "end_time": "2021-09-10T22:30:09.252404",
     "exception": false,
     "start_time": "2021-09-10T22:30:09.210642",
     "status": "completed"
    },
    "tags": []
   },
   "outputs": [],
   "source": [
    "df_pivot.columns = [\"stamp_1\", \"stamp_2\"]\n",
    "df_pivot_diff = df_pivot.diff(axis=1)"
   ]
  },
  {
   "cell_type": "code",
   "execution_count": 7,
   "id": "fifth-motion",
   "metadata": {
    "execution": {
     "iopub.execute_input": "2021-09-10T22:30:09.306072Z",
     "iopub.status.busy": "2021-09-10T22:30:09.303766Z",
     "iopub.status.idle": "2021-09-10T22:30:10.767379Z",
     "shell.execute_reply": "2021-09-10T22:30:10.768656Z"
    },
    "papermill": {
     "duration": 1.496831,
     "end_time": "2021-09-10T22:30:10.769105",
     "exception": false,
     "start_time": "2021-09-10T22:30:09.272274",
     "status": "completed"
    },
    "tags": []
   },
   "outputs": [
    {
     "data": {
      "text/plain": [
       "<AxesSubplot:ylabel='PRODUCT'>"
      ]
     },
     "execution_count": 7,
     "metadata": {},
     "output_type": "execute_result"
    },
    {
     "data": {
      "image/png": "[encoded data removed]",
      "text/plain": [
       "<Figure size 432x288 with 1 Axes>"
      ]
     },
     "metadata": {
      "needs_background": "light"
     },
     "output_type": "display_data"
    }
   ],
   "source": [
    "df_pivot_diff.sort_values(\"stamp_2\", ascending = False)[\"stamp_2\"].head(10).plot.barh()"
   ]
  },
  {
   "cell_type": "code",
   "execution_count": null,
   "id": "extra-executive",
   "metadata": {
    "papermill": {
     "duration": 0.022091,
     "end_time": "2021-09-10T22:30:10.816079",
     "exception": false,
     "start_time": "2021-09-10T22:30:10.793988",
     "status": "completed"
    },
    "tags": []
   },
   "outputs": [],
   "source": []
  }
 ],
 "metadata": {
  "kernelspec": {
   "display_name": "Python 3",
   "language": "python",
   "name": "python3"
  },
  "language_info": {
   "codemirror_mode": {
    "name": "ipython",
    "version": 3
   },
   "file_extension": ".py",
   "mimetype": "text/x-python",
   "name": "python",
   "nbconvert_exporter": "python",
   "pygments_lexer": "ipython3",
   "version": "3.9.5"
  },
  "papermill": {
   "default_parameters": {},
   "duration": 6.502367,
   "end_time": "2021-09-10T22:30:11.458214",
   "environment_variables": {},
   "exception": null,
   "input_path": "eBay_Overview.ipynb",
   "output_path": "eBay_Overview.ipynb",
   "parameters": {},
   "start_time": "2021-09-10T22:30:04.955847",
   "version": "2.3.3"
  }
 },
 "nbformat": 4,
 "nbformat_minor": 5
}