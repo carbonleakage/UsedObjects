{
 "cells": [
  {
   "cell_type": "code",
   "execution_count": 1,
   "id": "reverse-picking",
   "metadata": {
    "execution": {
     "iopub.execute_input": "2021-10-03T13:30:06.955456Z",
     "iopub.status.busy": "2021-10-03T13:30:06.952828Z",
     "iopub.status.idle": "2021-10-03T13:30:07.759671Z",
     "shell.execute_reply": "2021-10-03T13:30:07.760860Z"
    },
    "papermill": {
     "duration": 0.858423,
     "end_time": "2021-10-03T13:30:07.761491",
     "exception": false,
     "start_time": "2021-10-03T13:30:06.903068",
     "status": "completed"
    },
    "tags": []
   },
   "outputs": [],
   "source": [
    "import pandas as pd\n",
    "import sqlite3"
   ]
  },
  {
   "cell_type": "code",
   "execution_count": 2,
   "id": "innovative-syndrome",
   "metadata": {
    "execution": {
     "iopub.execute_input": "2021-10-03T13:30:07.811802Z",
     "iopub.status.busy": "2021-10-03T13:30:07.809856Z",
     "iopub.status.idle": "2021-10-03T13:30:08.245133Z",
     "shell.execute_reply": "2021-10-03T13:30:08.246419Z"
    },
    "papermill": {
     "duration": 0.464936,
     "end_time": "2021-10-03T13:30:08.246882",
     "exception": false,
     "start_time": "2021-10-03T13:30:07.781946",
     "status": "completed"
    },
    "tags": []
   },
   "outputs": [],
   "source": [
    "timestamps = pd.read_sql(\"select distinct record_time from EBAY_TOP_BERLIN order by record_time desc limit 2\", sqlite3.connect(\"UsedObjects.db\"))"
   ]
  },
  {
   "cell_type": "code",
   "execution_count": 3,
   "id": "periodic-identification",
   "metadata": {
    "execution": {
     "iopub.execute_input": "2021-10-03T13:30:08.313310Z",
     "iopub.status.busy": "2021-10-03T13:30:08.311282Z",
     "iopub.status.idle": "2021-10-03T13:30:08.332084Z",
     "shell.execute_reply": "2021-10-03T13:30:08.333401Z"
    },
    "papermill": {
     "duration": 0.067554,
     "end_time": "2021-10-03T13:30:08.333813",
     "exception": false,
     "start_time": "2021-10-03T13:30:08.266259",
     "status": "completed"
    },
    "tags": []
   },
   "outputs": [
    {
     "data": {
      "text/html": [
       "<div>\n",
       "<style scoped>\n",
       "    .dataframe tbody tr th:only-of-type {\n",
       "        vertical-align: middle;\n",
       "    }\n",
       "\n",
       "    .dataframe tbody tr th {\n",
       "        vertical-align: top;\n",
       "    }\n",
       "\n",
       "    .dataframe thead th {\n",
       "        text-align: right;\n",
       "    }\n",
       "</style>\n",
       "<table border=\"1\" class=\"dataframe\">\n",
       "  <thead>\n",
       "    <tr style=\"text-align: right;\">\n",
       "      <th></th>\n",
       "      <th>RECORD_TIME</th>\n",
       "    </tr>\n",
       "  </thead>\n",
       "  <tbody>\n",
       "    <tr>\n",
       "      <th>0</th>\n",
       "      <td>2021-10-03 15:30</td>\n",
       "    </tr>\n",
       "    <tr>\n",
       "      <th>1</th>\n",
       "      <td>2021-10-03 15:00</td>\n",
       "    </tr>\n",
       "  </tbody>\n",
       "</table>\n",
       "</div>"
      ],
      "text/plain": [
       "        RECORD_TIME\n",
       "0  2021-10-03 15:30\n",
       "1  2021-10-03 15:00"
      ]
     },
     "execution_count": 3,
     "metadata": {},
     "output_type": "execute_result"
    }
   ],
   "source": [
    "timestamps"
   ]
  },
  {
   "cell_type": "code",
   "execution_count": 4,
   "id": "alternate-victory",
   "metadata": {
    "execution": {
     "iopub.execute_input": "2021-10-03T13:30:08.386151Z",
     "iopub.status.busy": "2021-10-03T13:30:08.383879Z",
     "iopub.status.idle": "2021-10-03T13:30:09.034363Z",
     "shell.execute_reply": "2021-10-03T13:30:09.035728Z"
    },
    "papermill": {
     "duration": 0.681326,
     "end_time": "2021-10-03T13:30:09.036150",
     "exception": false,
     "start_time": "2021-10-03T13:30:08.354824",
     "status": "completed"
    },
    "tags": []
   },
   "outputs": [],
   "source": [
    "df = pd.read_sql(\"select * from EBAY_TOP_BERLIN where record_time in (select distinct record_time from EBAY_TOP_BERLIN order by record_time desc limit 2)\", sqlite3.connect(\"UsedObjects.db\"))"
   ]
  },
  {
   "cell_type": "code",
   "execution_count": 5,
   "id": "popular-active",
   "metadata": {
    "execution": {
     "iopub.execute_input": "2021-10-03T13:30:09.106485Z",
     "iopub.status.busy": "2021-10-03T13:30:09.099584Z",
     "iopub.status.idle": "2021-10-03T13:30:09.125107Z",
     "shell.execute_reply": "2021-10-03T13:30:09.123596Z"
    },
    "papermill": {
     "duration": 0.067992,
     "end_time": "2021-10-03T13:30:09.125479",
     "exception": false,
     "start_time": "2021-10-03T13:30:09.057487",
     "status": "completed"
    },
    "tags": []
   },
   "outputs": [],
   "source": [
    "df_pivot = df.pivot_table(index=\"PRODUCT\", columns = \"RECORD_TIME\", values = \"LISTING_COUNT\")"
   ]
  },
  {
   "cell_type": "code",
   "execution_count": 6,
   "id": "union-huntington",
   "metadata": {
    "execution": {
     "iopub.execute_input": "2021-10-03T13:30:09.182696Z",
     "iopub.status.busy": "2021-10-03T13:30:09.180275Z",
     "iopub.status.idle": "2021-10-03T13:30:09.186122Z",
     "shell.execute_reply": "2021-10-03T13:30:09.187487Z"
    },
    "papermill": {
     "duration": 0.042259,
     "end_time": "2021-10-03T13:30:09.187911",
     "exception": false,
     "start_time": "2021-10-03T13:30:09.145652",
     "status": "completed"
    },
    "tags": []
   },
   "outputs": [],
   "source": [
    "df_pivot.columns = [\"stamp_1\", \"stamp_2\"]\n",
    "df_pivot_diff = df_pivot.diff(axis=1)"
   ]
  },
  {
   "cell_type": "code",
   "execution_count": 7,
   "id": "fifth-motion",
   "metadata": {
    "execution": {
     "iopub.execute_input": "2021-10-03T13:30:09.241876Z",
     "iopub.status.busy": "2021-10-03T13:30:09.239625Z",
     "iopub.status.idle": "2021-10-03T13:30:10.707826Z",
     "shell.execute_reply": "2021-10-03T13:30:10.709129Z"
    },
    "papermill": {
     "duration": 1.501191,
     "end_time": "2021-10-03T13:30:10.709545",
     "exception": false,
     "start_time": "2021-10-03T13:30:09.208354",
     "status": "completed"
    },
    "tags": []
   },
   "outputs": [
    {
     "data": {
      "text/plain": [
       "<AxesSubplot:ylabel='PRODUCT'>"
      ]
     },
     "execution_count": 7,
     "metadata": {},
     "output_type": "execute_result"
    },
    {
     "data": {
      "image/png": "[encoded data removed]",
      "text/plain": [
       "<Figure size 432x288 with 1 Axes>"
      ]
     },
     "metadata": {
      "needs_background": "light"
     },
     "output_type": "display_data"
    }
   ],
   "source": [
    "df_pivot_diff.sort_values(\"stamp_2\", ascending = False)[\"stamp_2\"].head(10).plot.barh()"
   ]
  },
  {
   "cell_type": "code",
   "execution_count": null,
   "id": "extra-executive",
   "metadata": {
    "papermill": {
     "duration": 0.022316,
     "end_time": "2021-10-03T13:30:10.756329",
     "exception": false,
     "start_time": "2021-10-03T13:30:10.734013",
     "status": "completed"
    },
    "tags": []
   },
   "outputs": [],
   "source": []
  }
 ],
 "metadata": {
  "kernelspec": {
   "display_name": "Python 3",
   "language": "python",
   "name": "python3"
  },
  "language_info": {
   "codemirror_mode": {
    "name": "ipython",
    "version": 3
   },
   "file_extension": ".py",
   "mimetype": "text/x-python",
   "name": "python",
   "nbconvert_exporter": "python",
   "pygments_lexer": "ipython3",
   "version": "3.9.5"
  },
  "papermill": {
   "default_parameters": {},
   "duration": 7.820904,
   "end_time": "2021-10-03T13:30:12.319270",
   "environment_variables": {},
   "exception": null,
   "input_path": "eBay_Overview.ipynb",
   "output_path": "eBay_Overview.ipynb",
   "parameters": {},
   "start_time": "2021-10-03T13:30:04.498366",
   "version": "2.3.3"
  }
 },
 "nbformat": 4,
 "nbformat_minor": 5
}