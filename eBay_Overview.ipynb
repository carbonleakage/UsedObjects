{
 "cells": [
  {
   "cell_type": "code",
   "execution_count": 1,
   "id": "reverse-picking",
   "metadata": {
    "execution": {
     "iopub.execute_input": "2021-10-17T23:00:06.640302Z",
     "iopub.status.busy": "2021-10-17T23:00:06.638331Z",
     "iopub.status.idle": "2021-10-17T23:00:07.443343Z",
     "shell.execute_reply": "2021-10-17T23:00:07.444670Z"
    },
    "papermill": {
     "duration": 0.857056,
     "end_time": "2021-10-17T23:00:07.445447",
     "exception": false,
     "start_time": "2021-10-17T23:00:06.588391",
     "status": "completed"
    },
    "tags": []
   },
   "outputs": [],
   "source": [
    "import pandas as pd\n",
    "import sqlite3"
   ]
  },
  {
   "cell_type": "code",
   "execution_count": 2,
   "id": "innovative-syndrome",
   "metadata": {
    "execution": {
     "iopub.execute_input": "2021-10-17T23:00:07.495488Z",
     "iopub.status.busy": "2021-10-17T23:00:07.493274Z",
     "iopub.status.idle": "2021-10-17T23:00:08.052341Z",
     "shell.execute_reply": "2021-10-17T23:00:08.054329Z"
    },
    "papermill": {
     "duration": 0.589771,
     "end_time": "2021-10-17T23:00:08.054874",
     "exception": false,
     "start_time": "2021-10-17T23:00:07.465103",
     "status": "completed"
    },
    "tags": []
   },
   "outputs": [],
   "source": [
    "timestamps = pd.read_sql(\"select distinct record_time from EBAY_TOP_BERLIN order by record_time desc limit 2\", sqlite3.connect(\"UsedObjects.db\"))"
   ]
  },
  {
   "cell_type": "code",
   "execution_count": 3,
   "id": "periodic-identification",
   "metadata": {
    "execution": {
     "iopub.execute_input": "2021-10-17T23:00:08.142585Z",
     "iopub.status.busy": "2021-10-17T23:00:08.140487Z",
     "iopub.status.idle": "2021-10-17T23:00:08.162070Z",
     "shell.execute_reply": "2021-10-17T23:00:08.163362Z"
    },
    "papermill": {
     "duration": 0.074261,
     "end_time": "2021-10-17T23:00:08.163771",
     "exception": false,
     "start_time": "2021-10-17T23:00:08.089510",
     "status": "completed"
    },
    "tags": []
   },
   "outputs": [
    {
     "data": {
      "text/html": [
       "<div>\n",
       "<style scoped>\n",
       "    .dataframe tbody tr th:only-of-type {\n",
       "        vertical-align: middle;\n",
       "    }\n",
       "\n",
       "    .dataframe tbody tr th {\n",
       "        vertical-align: top;\n",
       "    }\n",
       "\n",
       "    .dataframe thead th {\n",
       "        text-align: right;\n",
       "    }\n",
       "</style>\n",
       "<table border=\"1\" class=\"dataframe\">\n",
       "  <thead>\n",
       "    <tr style=\"text-align: right;\">\n",
       "      <th></th>\n",
       "      <th>RECORD_TIME</th>\n",
       "    </tr>\n",
       "  </thead>\n",
       "  <tbody>\n",
       "    <tr>\n",
       "      <th>0</th>\n",
       "      <td>2021-10-18 01:00</td>\n",
       "    </tr>\n",
       "    <tr>\n",
       "      <th>1</th>\n",
       "      <td>2021-10-18 00:30</td>\n",
       "    </tr>\n",
       "  </tbody>\n",
       "</table>\n",
       "</div>"
      ],
      "text/plain": [
       "        RECORD_TIME\n",
       "0  2021-10-18 01:00\n",
       "1  2021-10-18 00:30"
      ]
     },
     "execution_count": 3,
     "metadata": {},
     "output_type": "execute_result"
    }
   ],
   "source": [
    "timestamps"
   ]
  },
  {
   "cell_type": "code",
   "execution_count": 4,
   "id": "alternate-victory",
   "metadata": {
    "execution": {
     "iopub.execute_input": "2021-10-17T23:00:08.214110Z",
     "iopub.status.busy": "2021-10-17T23:00:08.212156Z",
     "iopub.status.idle": "2021-10-17T23:00:09.026154Z",
     "shell.execute_reply": "2021-10-17T23:00:09.027360Z"
    },
    "papermill": {
     "duration": 0.843723,
     "end_time": "2021-10-17T23:00:09.027749",
     "exception": false,
     "start_time": "2021-10-17T23:00:08.184026",
     "status": "completed"
    },
    "tags": []
   },
   "outputs": [],
   "source": [
    "df = pd.read_sql(\"select * from EBAY_TOP_BERLIN where record_time in (select distinct record_time from EBAY_TOP_BERLIN order by record_time desc limit 2)\", sqlite3.connect(\"UsedObjects.db\"))"
   ]
  },
  {
   "cell_type": "code",
   "execution_count": 5,
   "id": "popular-active",
   "metadata": {
    "execution": {
     "iopub.execute_input": "2021-10-17T23:00:09.101083Z",
     "iopub.status.busy": "2021-10-17T23:00:09.089909Z",
     "iopub.status.idle": "2021-10-17T23:00:09.116523Z",
     "shell.execute_reply": "2021-10-17T23:00:09.117822Z"
    },
    "papermill": {
     "duration": 0.067849,
     "end_time": "2021-10-17T23:00:09.118218",
     "exception": false,
     "start_time": "2021-10-17T23:00:09.050369",
     "status": "completed"
    },
    "tags": []
   },
   "outputs": [],
   "source": [
    "df_pivot = df.pivot_table(index=\"PRODUCT\", columns = \"RECORD_TIME\", values = \"LISTING_COUNT\")"
   ]
  },
  {
   "cell_type": "code",
   "execution_count": 6,
   "id": "union-huntington",
   "metadata": {
    "execution": {
     "iopub.execute_input": "2021-10-17T23:00:09.175431Z",
     "iopub.status.busy": "2021-10-17T23:00:09.173263Z",
     "iopub.status.idle": "2021-10-17T23:00:09.178834Z",
     "shell.execute_reply": "2021-10-17T23:00:09.180095Z"
    },
    "papermill": {
     "duration": 0.04094,
     "end_time": "2021-10-17T23:00:09.180542",
     "exception": false,
     "start_time": "2021-10-17T23:00:09.139602",
     "status": "completed"
    },
    "tags": []
   },
   "outputs": [],
   "source": [
    "df_pivot.columns = [\"stamp_1\", \"stamp_2\"]\n",
    "df_pivot_diff = df_pivot.diff(axis=1)"
   ]
  },
  {
   "cell_type": "code",
   "execution_count": 7,
   "id": "fifth-motion",
   "metadata": {
    "execution": {
     "iopub.execute_input": "2021-10-17T23:00:09.238055Z",
     "iopub.status.busy": "2021-10-17T23:00:09.235316Z",
     "iopub.status.idle": "2021-10-17T23:00:10.736532Z",
     "shell.execute_reply": "2021-10-17T23:00:10.738030Z"
    },
    "papermill": {
     "duration": 1.535062,
     "end_time": "2021-10-17T23:00:10.738490",
     "exception": false,
     "start_time": "2021-10-17T23:00:09.203428",
     "status": "completed"
    },
    "tags": []
   },
   "outputs": [
    {
     "data": {
      "text/plain": [
       "<AxesSubplot:ylabel='PRODUCT'>"
      ]
     },
     "execution_count": 7,
     "metadata": {},
     "output_type": "execute_result"
    },
    {
     "data": {
      "image/png": "[encoded data removed]",
      "text/plain": [
       "<Figure size 432x288 with 1 Axes>"
      ]
     },
     "metadata": {
      "needs_background": "light"
     },
     "output_type": "display_data"
    }
   ],
   "source": [
    "df_pivot_diff.sort_values(\"stamp_2\", ascending = False)[\"stamp_2\"].head(10).plot.barh()"
   ]
  },
  {
   "cell_type": "code",
   "execution_count": null,
   "id": "extra-executive",
   "metadata": {
    "papermill": {
     "duration": 0.022074,
     "end_time": "2021-10-17T23:00:10.785429",
     "exception": false,
     "start_time": "2021-10-17T23:00:10.763355",
     "status": "completed"
    },
    "tags": []
   },
   "outputs": [],
   "source": []
  }
 ],
 "metadata": {
  "kernelspec": {
   "display_name": "Python 3",
   "language": "python",
   "name": "python3"
  },
  "language_info": {
   "codemirror_mode": {
    "name": "ipython",
    "version": 3
   },
   "file_extension": ".py",
   "mimetype": "text/x-python",
   "name": "python",
   "nbconvert_exporter": "python",
   "pygments_lexer": "ipython3",
   "version": "3.9.5"
  },
  "papermill": {
   "default_parameters": {},
   "duration": 7.817489,
   "end_time": "2021-10-17T23:00:12.000967",
   "environment_variables": {},
   "exception": null,
   "input_path": "eBay_Overview.ipynb",
   "output_path": "eBay_Overview.ipynb",
   "parameters": {},
   "start_time": "2021-10-17T23:00:04.183478",
   "version": "2.3.3"
  }
 },
 "nbformat": 4,
 "nbformat_minor": 5
}