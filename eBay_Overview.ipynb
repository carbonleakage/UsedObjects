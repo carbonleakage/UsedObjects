{
 "cells": [
  {
   "cell_type": "code",
   "execution_count": 1,
   "id": "reverse-picking",
   "metadata": {
    "execution": {
     "iopub.execute_input": "2021-10-02T00:00:06.992522Z",
     "iopub.status.busy": "2021-10-02T00:00:06.990515Z",
     "iopub.status.idle": "2021-10-02T00:00:07.796385Z",
     "shell.execute_reply": "2021-10-02T00:00:07.794667Z"
    },
    "papermill": {
     "duration": 0.856389,
     "end_time": "2021-10-02T00:00:07.796790",
     "exception": false,
     "start_time": "2021-10-02T00:00:06.940401",
     "status": "completed"
    },
    "tags": []
   },
   "outputs": [],
   "source": [
    "import pandas as pd\n",
    "import sqlite3"
   ]
  },
  {
   "cell_type": "code",
   "execution_count": 2,
   "id": "innovative-syndrome",
   "metadata": {
    "execution": {
     "iopub.execute_input": "2021-10-02T00:00:07.847256Z",
     "iopub.status.busy": "2021-10-02T00:00:07.845218Z",
     "iopub.status.idle": "2021-10-02T00:00:08.268707Z",
     "shell.execute_reply": "2021-10-02T00:00:08.269899Z"
    },
    "papermill": {
     "duration": 0.453281,
     "end_time": "2021-10-02T00:00:08.270290",
     "exception": false,
     "start_time": "2021-10-02T00:00:07.817009",
     "status": "completed"
    },
    "tags": []
   },
   "outputs": [],
   "source": [
    "timestamps = pd.read_sql(\"select distinct record_time from EBAY_TOP_BERLIN order by record_time desc limit 2\", sqlite3.connect(\"UsedObjects.db\"))"
   ]
  },
  {
   "cell_type": "code",
   "execution_count": 3,
   "id": "periodic-identification",
   "metadata": {
    "execution": {
     "iopub.execute_input": "2021-10-02T00:00:08.334414Z",
     "iopub.status.busy": "2021-10-02T00:00:08.332438Z",
     "iopub.status.idle": "2021-10-02T00:00:08.353554Z",
     "shell.execute_reply": "2021-10-02T00:00:08.351890Z"
    },
    "papermill": {
     "duration": 0.064271,
     "end_time": "2021-10-02T00:00:08.353894",
     "exception": false,
     "start_time": "2021-10-02T00:00:08.289623",
     "status": "completed"
    },
    "tags": []
   },
   "outputs": [
    {
     "data": {
      "text/html": [
       "<div>\n",
       "<style scoped>\n",
       "    .dataframe tbody tr th:only-of-type {\n",
       "        vertical-align: middle;\n",
       "    }\n",
       "\n",
       "    .dataframe tbody tr th {\n",
       "        vertical-align: top;\n",
       "    }\n",
       "\n",
       "    .dataframe thead th {\n",
       "        text-align: right;\n",
       "    }\n",
       "</style>\n",
       "<table border=\"1\" class=\"dataframe\">\n",
       "  <thead>\n",
       "    <tr style=\"text-align: right;\">\n",
       "      <th></th>\n",
       "      <th>RECORD_TIME</th>\n",
       "    </tr>\n",
       "  </thead>\n",
       "  <tbody>\n",
       "    <tr>\n",
       "      <th>0</th>\n",
       "      <td>2021-10-02 02:00</td>\n",
       "    </tr>\n",
       "    <tr>\n",
       "      <th>1</th>\n",
       "      <td>2021-10-02 01:30</td>\n",
       "    </tr>\n",
       "  </tbody>\n",
       "</table>\n",
       "</div>"
      ],
      "text/plain": [
       "        RECORD_TIME\n",
       "0  2021-10-02 02:00\n",
       "1  2021-10-02 01:30"
      ]
     },
     "execution_count": 3,
     "metadata": {},
     "output_type": "execute_result"
    }
   ],
   "source": [
    "timestamps"
   ]
  },
  {
   "cell_type": "code",
   "execution_count": 4,
   "id": "alternate-victory",
   "metadata": {
    "execution": {
     "iopub.execute_input": "2021-10-02T00:00:08.406310Z",
     "iopub.status.busy": "2021-10-02T00:00:08.404089Z",
     "iopub.status.idle": "2021-10-02T00:00:09.024744Z",
     "shell.execute_reply": "2021-10-02T00:00:09.025933Z"
    },
    "papermill": {
     "duration": 0.650744,
     "end_time": "2021-10-02T00:00:09.026324",
     "exception": false,
     "start_time": "2021-10-02T00:00:08.375580",
     "status": "completed"
    },
    "tags": []
   },
   "outputs": [],
   "source": [
    "df = pd.read_sql(\"select * from EBAY_TOP_BERLIN where record_time in (select distinct record_time from EBAY_TOP_BERLIN order by record_time desc limit 2)\", sqlite3.connect(\"UsedObjects.db\"))"
   ]
  },
  {
   "cell_type": "code",
   "execution_count": 5,
   "id": "popular-active",
   "metadata": {
    "execution": {
     "iopub.execute_input": "2021-10-02T00:00:09.091730Z",
     "iopub.status.busy": "2021-10-02T00:00:09.085302Z",
     "iopub.status.idle": "2021-10-02T00:00:09.112968Z",
     "shell.execute_reply": "2021-10-02T00:00:09.114164Z"
    },
    "papermill": {
     "duration": 0.067644,
     "end_time": "2021-10-02T00:00:09.114553",
     "exception": false,
     "start_time": "2021-10-02T00:00:09.046909",
     "status": "completed"
    },
    "tags": []
   },
   "outputs": [],
   "source": [
    "df_pivot = df.pivot_table(index=\"PRODUCT\", columns = \"RECORD_TIME\", values = \"LISTING_COUNT\")"
   ]
  },
  {
   "cell_type": "code",
   "execution_count": 6,
   "id": "union-huntington",
   "metadata": {
    "execution": {
     "iopub.execute_input": "2021-10-02T00:00:09.171398Z",
     "iopub.status.busy": "2021-10-02T00:00:09.169281Z",
     "iopub.status.idle": "2021-10-02T00:00:09.174714Z",
     "shell.execute_reply": "2021-10-02T00:00:09.176136Z"
    },
    "papermill": {
     "duration": 0.040769,
     "end_time": "2021-10-02T00:00:09.176716",
     "exception": false,
     "start_time": "2021-10-02T00:00:09.135947",
     "status": "completed"
    },
    "tags": []
   },
   "outputs": [],
   "source": [
    "df_pivot.columns = [\"stamp_1\", \"stamp_2\"]\n",
    "df_pivot_diff = df_pivot.diff(axis=1)"
   ]
  },
  {
   "cell_type": "code",
   "execution_count": 7,
   "id": "fifth-motion",
   "metadata": {
    "execution": {
     "iopub.execute_input": "2021-10-02T00:00:09.233125Z",
     "iopub.status.busy": "2021-10-02T00:00:09.230677Z",
     "iopub.status.idle": "2021-10-02T00:00:10.702707Z",
     "shell.execute_reply": "2021-10-02T00:00:10.704196Z"
    },
    "papermill": {
     "duration": 1.505537,
     "end_time": "2021-10-02T00:00:10.704639",
     "exception": false,
     "start_time": "2021-10-02T00:00:09.199102",
     "status": "completed"
    },
    "tags": []
   },
   "outputs": [
    {
     "data": {
      "text/plain": [
       "<AxesSubplot:ylabel='PRODUCT'>"
      ]
     },
     "execution_count": 7,
     "metadata": {},
     "output_type": "execute_result"
    },
    {
     "data": {
      "image/png": "[encoded data removed]",
      "text/plain": [
       "<Figure size 432x288 with 1 Axes>"
      ]
     },
     "metadata": {
      "needs_background": "light"
     },
     "output_type": "display_data"
    }
   ],
   "source": [
    "df_pivot_diff.sort_values(\"stamp_2\", ascending = False)[\"stamp_2\"].head(10).plot.barh()"
   ]
  },
  {
   "cell_type": "code",
   "execution_count": null,
   "id": "extra-executive",
   "metadata": {
    "papermill": {
     "duration": 0.02221,
     "end_time": "2021-10-02T00:00:10.751469",
     "exception": false,
     "start_time": "2021-10-02T00:00:10.729259",
     "status": "completed"
    },
    "tags": []
   },
   "outputs": [],
   "source": []
  }
 ],
 "metadata": {
  "kernelspec": {
   "display_name": "Python 3",
   "language": "python",
   "name": "python3"
  },
  "language_info": {
   "codemirror_mode": {
    "name": "ipython",
    "version": 3
   },
   "file_extension": ".py",
   "mimetype": "text/x-python",
   "name": "python",
   "nbconvert_exporter": "python",
   "pygments_lexer": "ipython3",
   "version": "3.9.5"
  },
  "papermill": {
   "default_parameters": {},
   "duration": 7.822187,
   "end_time": "2021-10-02T00:00:12.354128",
   "environment_variables": {},
   "exception": null,
   "input_path": "eBay_Overview.ipynb",
   "output_path": "eBay_Overview.ipynb",
   "parameters": {},
   "start_time": "2021-10-02T00:00:04.531941",
   "version": "2.3.3"
  }
 },
 "nbformat": 4,
 "nbformat_minor": 5
}