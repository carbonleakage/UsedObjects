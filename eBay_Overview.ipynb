{
 "cells": [
  {
   "cell_type": "code",
   "execution_count": 1,
   "id": "reverse-picking",
   "metadata": {
    "execution": {
     "iopub.execute_input": "2021-11-21T11:00:07.319615Z",
     "iopub.status.busy": "2021-11-21T11:00:07.309838Z",
     "iopub.status.idle": "2021-11-21T11:00:08.260375Z",
     "shell.execute_reply": "2021-11-21T11:00:08.262125Z"
    },
    "papermill": {
     "duration": 0.998513,
     "end_time": "2021-11-21T11:00:08.262851",
     "exception": false,
     "start_time": "2021-11-21T11:00:07.264338",
     "status": "completed"
    },
    "tags": []
   },
   "outputs": [],
   "source": [
    "import pandas as pd\n",
    "import sqlite3"
   ]
  },
  {
   "cell_type": "code",
   "execution_count": 2,
   "id": "innovative-syndrome",
   "metadata": {
    "execution": {
     "iopub.execute_input": "2021-11-21T11:00:08.325965Z",
     "iopub.status.busy": "2021-11-21T11:00:08.323580Z",
     "iopub.status.idle": "2021-11-21T11:00:09.222043Z",
     "shell.execute_reply": "2021-11-21T11:00:09.223431Z"
    },
    "papermill": {
     "duration": 0.932714,
     "end_time": "2021-11-21T11:00:09.223904",
     "exception": false,
     "start_time": "2021-11-21T11:00:08.291190",
     "status": "completed"
    },
    "tags": []
   },
   "outputs": [],
   "source": [
    "timestamps = pd.read_sql(\"select distinct record_time from EBAY_TOP_BERLIN order by record_time desc limit 2\", sqlite3.connect(\"UsedObjects.db\"))"
   ]
  },
  {
   "cell_type": "code",
   "execution_count": 3,
   "id": "periodic-identification",
   "metadata": {
    "execution": {
     "iopub.execute_input": "2021-11-21T11:00:09.293147Z",
     "iopub.status.busy": "2021-11-21T11:00:09.290923Z",
     "iopub.status.idle": "2021-11-21T11:00:09.314278Z",
     "shell.execute_reply": "2021-11-21T11:00:09.312580Z"
    },
    "papermill": {
     "duration": 0.070312,
     "end_time": "2021-11-21T11:00:09.314699",
     "exception": false,
     "start_time": "2021-11-21T11:00:09.244387",
     "status": "completed"
    },
    "tags": []
   },
   "outputs": [
    {
     "data": {
      "text/html": [
       "<div>\n",
       "<style scoped>\n",
       "    .dataframe tbody tr th:only-of-type {\n",
       "        vertical-align: middle;\n",
       "    }\n",
       "\n",
       "    .dataframe tbody tr th {\n",
       "        vertical-align: top;\n",
       "    }\n",
       "\n",
       "    .dataframe thead th {\n",
       "        text-align: right;\n",
       "    }\n",
       "</style>\n",
       "<table border=\"1\" class=\"dataframe\">\n",
       "  <thead>\n",
       "    <tr style=\"text-align: right;\">\n",
       "      <th></th>\n",
       "      <th>RECORD_TIME</th>\n",
       "    </tr>\n",
       "  </thead>\n",
       "  <tbody>\n",
       "    <tr>\n",
       "      <th>0</th>\n",
       "      <td>2021-11-21 12:00</td>\n",
       "    </tr>\n",
       "    <tr>\n",
       "      <th>1</th>\n",
       "      <td>2021-11-21 11:30</td>\n",
       "    </tr>\n",
       "  </tbody>\n",
       "</table>\n",
       "</div>"
      ],
      "text/plain": [
       "        RECORD_TIME\n",
       "0  2021-11-21 12:00\n",
       "1  2021-11-21 11:30"
      ]
     },
     "execution_count": 3,
     "metadata": {},
     "output_type": "execute_result"
    }
   ],
   "source": [
    "timestamps"
   ]
  },
  {
   "cell_type": "code",
   "execution_count": 4,
   "id": "alternate-victory",
   "metadata": {
    "execution": {
     "iopub.execute_input": "2021-11-21T11:00:09.369301Z",
     "iopub.status.busy": "2021-11-21T11:00:09.367225Z",
     "iopub.status.idle": "2021-11-21T11:00:10.685364Z",
     "shell.execute_reply": "2021-11-21T11:00:10.686770Z"
    },
    "papermill": {
     "duration": 1.351951,
     "end_time": "2021-11-21T11:00:10.687284",
     "exception": false,
     "start_time": "2021-11-21T11:00:09.335333",
     "status": "completed"
    },
    "tags": []
   },
   "outputs": [],
   "source": [
    "df = pd.read_sql(\"select * from EBAY_TOP_BERLIN where record_time in (select distinct record_time from EBAY_TOP_BERLIN order by record_time desc limit 2)\", sqlite3.connect(\"UsedObjects.db\"))"
   ]
  },
  {
   "cell_type": "code",
   "execution_count": 5,
   "id": "popular-active",
   "metadata": {
    "execution": {
     "iopub.execute_input": "2021-11-21T11:00:10.761231Z",
     "iopub.status.busy": "2021-11-21T11:00:10.749037Z",
     "iopub.status.idle": "2021-11-21T11:00:10.781831Z",
     "shell.execute_reply": "2021-11-21T11:00:10.780217Z"
    },
    "papermill": {
     "duration": 0.073081,
     "end_time": "2021-11-21T11:00:10.782232",
     "exception": false,
     "start_time": "2021-11-21T11:00:10.709151",
     "status": "completed"
    },
    "tags": []
   },
   "outputs": [],
   "source": [
    "df_pivot = df.pivot_table(index=\"PRODUCT\", columns = \"RECORD_TIME\", values = \"LISTING_COUNT\")"
   ]
  },
  {
   "cell_type": "code",
   "execution_count": 6,
   "id": "union-huntington",
   "metadata": {
    "execution": {
     "iopub.execute_input": "2021-11-21T11:00:10.846184Z",
     "iopub.status.busy": "2021-11-21T11:00:10.843346Z",
     "iopub.status.idle": "2021-11-21T11:00:10.852183Z",
     "shell.execute_reply": "2021-11-21T11:00:10.850182Z"
    },
    "papermill": {
     "duration": 0.049878,
     "end_time": "2021-11-21T11:00:10.852889",
     "exception": false,
     "start_time": "2021-11-21T11:00:10.803011",
     "status": "completed"
    },
    "tags": []
   },
   "outputs": [],
   "source": [
    "df_pivot.columns = [\"stamp_1\", \"stamp_2\"]\n",
    "df_pivot_diff = df_pivot.diff(axis=1)"
   ]
  },
  {
   "cell_type": "code",
   "execution_count": 7,
   "id": "fifth-motion",
   "metadata": {
    "execution": {
     "iopub.execute_input": "2021-11-21T11:00:10.936036Z",
     "iopub.status.busy": "2021-11-21T11:00:10.933439Z",
     "iopub.status.idle": "2021-11-21T11:00:12.788678Z",
     "shell.execute_reply": "2021-11-21T11:00:12.790951Z"
    },
    "papermill": {
     "duration": 1.905105,
     "end_time": "2021-11-21T11:00:12.791597",
     "exception": false,
     "start_time": "2021-11-21T11:00:10.886492",
     "status": "completed"
    },
    "tags": []
   },
   "outputs": [
    {
     "data": {
      "text/plain": [
       "<AxesSubplot:ylabel='PRODUCT'>"
      ]
     },
     "execution_count": 7,
     "metadata": {},
     "output_type": "execute_result"
    },
    {
     "data": {
      "image/png": "[encoded data removed]",
      "text/plain": [
       "<Figure size 432x288 with 1 Axes>"
      ]
     },
     "metadata": {
      "needs_background": "light"
     },
     "output_type": "display_data"
    }
   ],
   "source": [
    "df_pivot_diff.sort_values(\"stamp_2\", ascending = False)[\"stamp_2\"].head(10).plot.barh()"
   ]
  },
  {
   "cell_type": "code",
   "execution_count": null,
   "id": "extra-executive",
   "metadata": {
    "papermill": {
     "duration": 0.039545,
     "end_time": "2021-11-21T11:00:12.861278",
     "exception": false,
     "start_time": "2021-11-21T11:00:12.821733",
     "status": "completed"
    },
    "tags": []
   },
   "outputs": [],
   "source": []
  }
 ],
 "metadata": {
  "kernelspec": {
   "display_name": "Python 3",
   "language": "python",
   "name": "python3"
  },
  "language_info": {
   "codemirror_mode": {
    "name": "ipython",
    "version": 3
   },
   "file_extension": ".py",
   "mimetype": "text/x-python",
   "name": "python",
   "nbconvert_exporter": "python",
   "pygments_lexer": "ipython3",
   "version": "3.9.5"
  },
  "papermill": {
   "default_parameters": {},
   "duration": 9.998558,
   "end_time": "2021-11-21T11:00:14.467312",
   "environment_variables": {},
   "exception": null,
   "input_path": "eBay_Overview.ipynb",
   "output_path": "eBay_Overview.ipynb",
   "parameters": {},
   "start_time": "2021-11-21T11:00:04.468754",
   "version": "2.3.3"
  }
 },
 "nbformat": 4,
 "nbformat_minor": 5
}