{
 "cells": [
  {
   "cell_type": "code",
   "execution_count": 1,
   "id": "reverse-picking",
   "metadata": {
    "execution": {
     "iopub.execute_input": "2021-09-04T18:00:07.310533Z",
     "iopub.status.busy": "2021-09-04T18:00:07.308603Z",
     "iopub.status.idle": "2021-09-04T18:00:08.115993Z",
     "shell.execute_reply": "2021-09-04T18:00:08.117235Z"
    },
    "papermill": {
     "duration": 0.859306,
     "end_time": "2021-09-04T18:00:08.117852",
     "exception": false,
     "start_time": "2021-09-04T18:00:07.258546",
     "status": "completed"
    },
    "tags": []
   },
   "outputs": [],
   "source": [
    "import pandas as pd\n",
    "import sqlite3"
   ]
  },
  {
   "cell_type": "code",
   "execution_count": 2,
   "id": "innovative-syndrome",
   "metadata": {
    "execution": {
     "iopub.execute_input": "2021-09-04T18:00:08.168878Z",
     "iopub.status.busy": "2021-09-04T18:00:08.167009Z",
     "iopub.status.idle": "2021-09-04T18:00:08.385469Z",
     "shell.execute_reply": "2021-09-04T18:00:08.386656Z"
    },
    "papermill": {
     "duration": 0.247818,
     "end_time": "2021-09-04T18:00:08.387215",
     "exception": false,
     "start_time": "2021-09-04T18:00:08.139397",
     "status": "completed"
    },
    "tags": []
   },
   "outputs": [],
   "source": [
    "timestamps = pd.read_sql(\"select distinct record_time from EBAY_TOP_BERLIN order by record_time desc limit 2\", sqlite3.connect(\"UsedObjects.db\"))"
   ]
  },
  {
   "cell_type": "code",
   "execution_count": 3,
   "id": "periodic-identification",
   "metadata": {
    "execution": {
     "iopub.execute_input": "2021-09-04T18:00:08.456047Z",
     "iopub.status.busy": "2021-09-04T18:00:08.453979Z",
     "iopub.status.idle": "2021-09-04T18:00:08.474196Z",
     "shell.execute_reply": "2021-09-04T18:00:08.475725Z"
    },
    "papermill": {
     "duration": 0.067208,
     "end_time": "2021-09-04T18:00:08.476196",
     "exception": false,
     "start_time": "2021-09-04T18:00:08.408988",
     "status": "completed"
    },
    "tags": []
   },
   "outputs": [
    {
     "data": {
      "text/html": [
       "<div>\n",
       "<style scoped>\n",
       "    .dataframe tbody tr th:only-of-type {\n",
       "        vertical-align: middle;\n",
       "    }\n",
       "\n",
       "    .dataframe tbody tr th {\n",
       "        vertical-align: top;\n",
       "    }\n",
       "\n",
       "    .dataframe thead th {\n",
       "        text-align: right;\n",
       "    }\n",
       "</style>\n",
       "<table border=\"1\" class=\"dataframe\">\n",
       "  <thead>\n",
       "    <tr style=\"text-align: right;\">\n",
       "      <th></th>\n",
       "      <th>RECORD_TIME</th>\n",
       "    </tr>\n",
       "  </thead>\n",
       "  <tbody>\n",
       "    <tr>\n",
       "      <th>0</th>\n",
       "      <td>2021-09-04 20:00</td>\n",
       "    </tr>\n",
       "    <tr>\n",
       "      <th>1</th>\n",
       "      <td>2021-09-04 19:30</td>\n",
       "    </tr>\n",
       "  </tbody>\n",
       "</table>\n",
       "</div>"
      ],
      "text/plain": [
       "        RECORD_TIME\n",
       "0  2021-09-04 20:00\n",
       "1  2021-09-04 19:30"
      ]
     },
     "execution_count": 3,
     "metadata": {},
     "output_type": "execute_result"
    }
   ],
   "source": [
    "timestamps"
   ]
  },
  {
   "cell_type": "code",
   "execution_count": 4,
   "id": "alternate-victory",
   "metadata": {
    "execution": {
     "iopub.execute_input": "2021-09-04T18:00:08.527996Z",
     "iopub.status.busy": "2021-09-04T18:00:08.526092Z",
     "iopub.status.idle": "2021-09-04T18:00:08.855392Z",
     "shell.execute_reply": "2021-09-04T18:00:08.853889Z"
    },
    "papermill": {
     "duration": 0.357975,
     "end_time": "2021-09-04T18:00:08.855767",
     "exception": false,
     "start_time": "2021-09-04T18:00:08.497792",
     "status": "completed"
    },
    "tags": []
   },
   "outputs": [],
   "source": [
    "df = pd.read_sql(\"select * from EBAY_TOP_BERLIN where record_time in (select distinct record_time from EBAY_TOP_BERLIN order by record_time desc limit 2)\", sqlite3.connect(\"UsedObjects.db\"))"
   ]
  },
  {
   "cell_type": "code",
   "execution_count": 5,
   "id": "popular-active",
   "metadata": {
    "execution": {
     "iopub.execute_input": "2021-09-04T18:00:08.932372Z",
     "iopub.status.busy": "2021-09-04T18:00:08.920647Z",
     "iopub.status.idle": "2021-09-04T18:00:08.947975Z",
     "shell.execute_reply": "2021-09-04T18:00:08.949194Z"
    },
    "papermill": {
     "duration": 0.069901,
     "end_time": "2021-09-04T18:00:08.949586",
     "exception": false,
     "start_time": "2021-09-04T18:00:08.879685",
     "status": "completed"
    },
    "tags": []
   },
   "outputs": [],
   "source": [
    "df_pivot = df.pivot_table(index=\"PRODUCT\", columns = \"RECORD_TIME\", values = \"LISTING_COUNT\")"
   ]
  },
  {
   "cell_type": "code",
   "execution_count": 6,
   "id": "union-huntington",
   "metadata": {
    "execution": {
     "iopub.execute_input": "2021-09-04T18:00:09.005387Z",
     "iopub.status.busy": "2021-09-04T18:00:09.003333Z",
     "iopub.status.idle": "2021-09-04T18:00:09.008124Z",
     "shell.execute_reply": "2021-09-04T18:00:09.009411Z"
    },
    "papermill": {
     "duration": 0.039646,
     "end_time": "2021-09-04T18:00:09.009820",
     "exception": false,
     "start_time": "2021-09-04T18:00:08.970174",
     "status": "completed"
    },
    "tags": []
   },
   "outputs": [],
   "source": [
    "df_pivot.columns = [\"stamp_1\", \"stamp_2\"]\n",
    "df_pivot_diff = df_pivot.diff(axis=1)"
   ]
  },
  {
   "cell_type": "code",
   "execution_count": 7,
   "id": "fifth-motion",
   "metadata": {
    "execution": {
     "iopub.execute_input": "2021-09-04T18:00:09.065580Z",
     "iopub.status.busy": "2021-09-04T18:00:09.062946Z",
     "iopub.status.idle": "2021-09-04T18:00:10.580920Z",
     "shell.execute_reply": "2021-09-04T18:00:10.582200Z"
    },
    "papermill": {
     "duration": 1.551595,
     "end_time": "2021-09-04T18:00:10.582609",
     "exception": false,
     "start_time": "2021-09-04T18:00:09.031014",
     "status": "completed"
    },
    "tags": []
   },
   "outputs": [
    {
     "data": {
      "text/plain": [
       "<AxesSubplot:ylabel='PRODUCT'>"
      ]
     },
     "execution_count": 7,
     "metadata": {},
     "output_type": "execute_result"
    },
    {
     "data": {
      "image/png": "[encoded data removed]",
      "text/plain": [
       "<Figure size 432x288 with 1 Axes>"
      ]
     },
     "metadata": {
      "needs_background": "light"
     },
     "output_type": "display_data"
    }
   ],
   "source": [
    "df_pivot_diff.sort_values(\"stamp_2\", ascending = False)[\"stamp_2\"].head(10).plot.barh()"
   ]
  },
  {
   "cell_type": "code",
   "execution_count": null,
   "id": "extra-executive",
   "metadata": {
    "papermill": {
     "duration": 0.022119,
     "end_time": "2021-09-04T18:00:10.629407",
     "exception": false,
     "start_time": "2021-09-04T18:00:10.607288",
     "status": "completed"
    },
    "tags": []
   },
   "outputs": [],
   "source": []
  }
 ],
 "metadata": {
  "kernelspec": {
   "display_name": "Python 3",
   "language": "python",
   "name": "python3"
  },
  "language_info": {
   "codemirror_mode": {
    "name": "ipython",
    "version": 3
   },
   "file_extension": ".py",
   "mimetype": "text/x-python",
   "name": "python",
   "nbconvert_exporter": "python",
   "pygments_lexer": "ipython3",
   "version": "3.9.5"
  },
  "papermill": {
   "default_parameters": {},
   "duration": 6.413385,
   "end_time": "2021-09-04T18:00:11.271211",
   "environment_variables": {},
   "exception": null,
   "input_path": "eBay_Overview.ipynb",
   "output_path": "eBay_Overview.ipynb",
   "parameters": {},
   "start_time": "2021-09-04T18:00:04.857826",
   "version": "2.3.3"
  }
 },
 "nbformat": 4,
 "nbformat_minor": 5
}