{
 "cells": [
  {
   "cell_type": "code",
   "execution_count": 1,
   "id": "reverse-picking",
   "metadata": {
    "execution": {
     "iopub.execute_input": "2021-08-19T04:00:07.072382Z",
     "iopub.status.busy": "2021-08-19T04:00:07.070437Z",
     "iopub.status.idle": "2021-08-19T04:00:07.879086Z",
     "shell.execute_reply": "2021-08-19T04:00:07.880384Z"
    },
    "papermill": {
     "duration": 0.861199,
     "end_time": "2021-08-19T04:00:07.880995",
     "exception": false,
     "start_time": "2021-08-19T04:00:07.019796",
     "status": "completed"
    },
    "tags": []
   },
   "outputs": [],
   "source": [
    "import pandas as pd\n",
    "import sqlite3"
   ]
  },
  {
   "cell_type": "code",
   "execution_count": 2,
   "id": "innovative-syndrome",
   "metadata": {
    "execution": {
     "iopub.execute_input": "2021-08-19T04:00:07.931949Z",
     "iopub.status.busy": "2021-08-19T04:00:07.929668Z",
     "iopub.status.idle": "2021-08-19T04:00:08.010974Z",
     "shell.execute_reply": "2021-08-19T04:00:08.012172Z"
    },
    "papermill": {
     "duration": 0.111157,
     "end_time": "2021-08-19T04:00:08.012567",
     "exception": false,
     "start_time": "2021-08-19T04:00:07.901410",
     "status": "completed"
    },
    "tags": []
   },
   "outputs": [],
   "source": [
    "timestamps = pd.read_sql(\"select distinct record_time from EBAY_TOP_BERLIN order by record_time desc limit 2\", sqlite3.connect(\"UsedObjects.db\"))"
   ]
  },
  {
   "cell_type": "code",
   "execution_count": 3,
   "id": "periodic-identification",
   "metadata": {
    "execution": {
     "iopub.execute_input": "2021-08-19T04:00:08.077568Z",
     "iopub.status.busy": "2021-08-19T04:00:08.075545Z",
     "iopub.status.idle": "2021-08-19T04:00:08.095255Z",
     "shell.execute_reply": "2021-08-19T04:00:08.096452Z"
    },
    "papermill": {
     "duration": 0.064438,
     "end_time": "2021-08-19T04:00:08.096844",
     "exception": false,
     "start_time": "2021-08-19T04:00:08.032406",
     "status": "completed"
    },
    "tags": []
   },
   "outputs": [
    {
     "data": {
      "text/html": [
       "<div>\n",
       "<style scoped>\n",
       "    .dataframe tbody tr th:only-of-type {\n",
       "        vertical-align: middle;\n",
       "    }\n",
       "\n",
       "    .dataframe tbody tr th {\n",
       "        vertical-align: top;\n",
       "    }\n",
       "\n",
       "    .dataframe thead th {\n",
       "        text-align: right;\n",
       "    }\n",
       "</style>\n",
       "<table border=\"1\" class=\"dataframe\">\n",
       "  <thead>\n",
       "    <tr style=\"text-align: right;\">\n",
       "      <th></th>\n",
       "      <th>RECORD_TIME</th>\n",
       "    </tr>\n",
       "  </thead>\n",
       "  <tbody>\n",
       "    <tr>\n",
       "      <th>0</th>\n",
       "      <td>2021-08-19 06:00</td>\n",
       "    </tr>\n",
       "    <tr>\n",
       "      <th>1</th>\n",
       "      <td>2021-08-19 05:30</td>\n",
       "    </tr>\n",
       "  </tbody>\n",
       "</table>\n",
       "</div>"
      ],
      "text/plain": [
       "        RECORD_TIME\n",
       "0  2021-08-19 06:00\n",
       "1  2021-08-19 05:30"
      ]
     },
     "execution_count": 3,
     "metadata": {},
     "output_type": "execute_result"
    }
   ],
   "source": [
    "timestamps"
   ]
  },
  {
   "cell_type": "code",
   "execution_count": 4,
   "id": "alternate-victory",
   "metadata": {
    "execution": {
     "iopub.execute_input": "2021-08-19T04:00:08.150561Z",
     "iopub.status.busy": "2021-08-19T04:00:08.148214Z",
     "iopub.status.idle": "2021-08-19T04:00:08.269162Z",
     "shell.execute_reply": "2021-08-19T04:00:08.270421Z"
    },
    "papermill": {
     "duration": 0.15181,
     "end_time": "2021-08-19T04:00:08.270865",
     "exception": false,
     "start_time": "2021-08-19T04:00:08.119055",
     "status": "completed"
    },
    "tags": []
   },
   "outputs": [],
   "source": [
    "df = pd.read_sql(\"select * from EBAY_TOP_BERLIN where record_time in (select distinct record_time from EBAY_TOP_BERLIN order by record_time desc limit 2)\", sqlite3.connect(\"UsedObjects.db\"))"
   ]
  },
  {
   "cell_type": "code",
   "execution_count": 5,
   "id": "popular-active",
   "metadata": {
    "execution": {
     "iopub.execute_input": "2021-08-19T04:00:08.340803Z",
     "iopub.status.busy": "2021-08-19T04:00:08.330106Z",
     "iopub.status.idle": "2021-08-19T04:00:08.356656Z",
     "shell.execute_reply": "2021-08-19T04:00:08.357852Z"
    },
    "papermill": {
     "duration": 0.066545,
     "end_time": "2021-08-19T04:00:08.358457",
     "exception": false,
     "start_time": "2021-08-19T04:00:08.291912",
     "status": "completed"
    },
    "tags": []
   },
   "outputs": [],
   "source": [
    "df_pivot = df.pivot_table(index=\"PRODUCT\", columns = \"RECORD_TIME\", values = \"LISTING_COUNT\")"
   ]
  },
  {
   "cell_type": "code",
   "execution_count": 6,
   "id": "union-huntington",
   "metadata": {
    "execution": {
     "iopub.execute_input": "2021-08-19T04:00:08.417260Z",
     "iopub.status.busy": "2021-08-19T04:00:08.415104Z",
     "iopub.status.idle": "2021-08-19T04:00:08.420694Z",
     "shell.execute_reply": "2021-08-19T04:00:08.422105Z"
    },
    "papermill": {
     "duration": 0.041629,
     "end_time": "2021-08-19T04:00:08.422558",
     "exception": false,
     "start_time": "2021-08-19T04:00:08.380929",
     "status": "completed"
    },
    "tags": []
   },
   "outputs": [],
   "source": [
    "df_pivot.columns = [\"stamp_1\", \"stamp_2\"]\n",
    "df_pivot_diff = df_pivot.diff(axis=1)"
   ]
  },
  {
   "cell_type": "code",
   "execution_count": 7,
   "id": "fifth-motion",
   "metadata": {
    "execution": {
     "iopub.execute_input": "2021-08-19T04:00:08.480096Z",
     "iopub.status.busy": "2021-08-19T04:00:08.477364Z",
     "iopub.status.idle": "2021-08-19T04:00:09.962017Z",
     "shell.execute_reply": "2021-08-19T04:00:09.963316Z"
    },
    "papermill": {
     "duration": 1.518749,
     "end_time": "2021-08-19T04:00:09.963731",
     "exception": false,
     "start_time": "2021-08-19T04:00:08.444982",
     "status": "completed"
    },
    "tags": []
   },
   "outputs": [
    {
     "data": {
      "text/plain": [
       "<AxesSubplot:ylabel='PRODUCT'>"
      ]
     },
     "execution_count": 7,
     "metadata": {},
     "output_type": "execute_result"
    },
    {
     "data": {
      "image/png": "[encoded data removed]",
      "text/plain": [
       "<Figure size 432x288 with 1 Axes>"
      ]
     },
     "metadata": {
      "needs_background": "light"
     },
     "output_type": "display_data"
    }
   ],
   "source": [
    "df_pivot_diff.sort_values(\"stamp_2\", ascending = False)[\"stamp_2\"].head(10).plot.barh()"
   ]
  },
  {
   "cell_type": "code",
   "execution_count": null,
   "id": "extra-executive",
   "metadata": {
    "papermill": {
     "duration": 0.022723,
     "end_time": "2021-08-19T04:00:10.011849",
     "exception": false,
     "start_time": "2021-08-19T04:00:09.989126",
     "status": "completed"
    },
    "tags": []
   },
   "outputs": [],
   "source": []
  }
 ],
 "metadata": {
  "kernelspec": {
   "display_name": "Python 3",
   "language": "python",
   "name": "python3"
  },
  "language_info": {
   "codemirror_mode": {
    "name": "ipython",
    "version": 3
   },
   "file_extension": ".py",
   "mimetype": "text/x-python",
   "name": "python",
   "nbconvert_exporter": "python",
   "pygments_lexer": "ipython3",
   "version": "3.9.5"
  },
  "papermill": {
   "default_parameters": {},
   "duration": 6.833267,
   "end_time": "2021-08-19T04:00:11.441050",
   "environment_variables": {},
   "exception": null,
   "input_path": "eBay_Overview.ipynb",
   "output_path": "eBay_Overview.ipynb",
   "parameters": {},
   "start_time": "2021-08-19T04:00:04.607783",
   "version": "2.3.3"
  }
 },
 "nbformat": 4,
 "nbformat_minor": 5
}