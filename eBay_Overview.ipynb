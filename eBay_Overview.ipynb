{
 "cells": [
  {
   "cell_type": "code",
   "execution_count": 1,
   "id": "reverse-picking",
   "metadata": {
    "execution": {
     "iopub.execute_input": "2021-10-12T18:00:07.121171Z",
     "iopub.status.busy": "2021-10-12T18:00:07.119148Z",
     "iopub.status.idle": "2021-10-12T18:00:07.917634Z",
     "shell.execute_reply": "2021-10-12T18:00:07.918913Z"
    },
    "papermill": {
     "duration": 0.850244,
     "end_time": "2021-10-12T18:00:07.919528",
     "exception": false,
     "start_time": "2021-10-12T18:00:07.069284",
     "status": "completed"
    },
    "tags": []
   },
   "outputs": [],
   "source": [
    "import pandas as pd\n",
    "import sqlite3"
   ]
  },
  {
   "cell_type": "code",
   "execution_count": 2,
   "id": "innovative-syndrome",
   "metadata": {
    "execution": {
     "iopub.execute_input": "2021-10-12T18:00:07.973443Z",
     "iopub.status.busy": "2021-10-12T18:00:07.971299Z",
     "iopub.status.idle": "2021-10-12T18:00:08.499688Z",
     "shell.execute_reply": "2021-10-12T18:00:08.498324Z"
    },
    "papermill": {
     "duration": 0.55756,
     "end_time": "2021-10-12T18:00:08.500039",
     "exception": false,
     "start_time": "2021-10-12T18:00:07.942479",
     "status": "completed"
    },
    "tags": []
   },
   "outputs": [],
   "source": [
    "timestamps = pd.read_sql(\"select distinct record_time from EBAY_TOP_BERLIN order by record_time desc limit 2\", sqlite3.connect(\"UsedObjects.db\"))"
   ]
  },
  {
   "cell_type": "code",
   "execution_count": 3,
   "id": "periodic-identification",
   "metadata": {
    "execution": {
     "iopub.execute_input": "2021-10-12T18:00:08.565875Z",
     "iopub.status.busy": "2021-10-12T18:00:08.563794Z",
     "iopub.status.idle": "2021-10-12T18:00:08.585295Z",
     "shell.execute_reply": "2021-10-12T18:00:08.586668Z"
    },
    "papermill": {
     "duration": 0.067975,
     "end_time": "2021-10-12T18:00:08.587109",
     "exception": false,
     "start_time": "2021-10-12T18:00:08.519134",
     "status": "completed"
    },
    "tags": []
   },
   "outputs": [
    {
     "data": {
      "text/html": [
       "<div>\n",
       "<style scoped>\n",
       "    .dataframe tbody tr th:only-of-type {\n",
       "        vertical-align: middle;\n",
       "    }\n",
       "\n",
       "    .dataframe tbody tr th {\n",
       "        vertical-align: top;\n",
       "    }\n",
       "\n",
       "    .dataframe thead th {\n",
       "        text-align: right;\n",
       "    }\n",
       "</style>\n",
       "<table border=\"1\" class=\"dataframe\">\n",
       "  <thead>\n",
       "    <tr style=\"text-align: right;\">\n",
       "      <th></th>\n",
       "      <th>RECORD_TIME</th>\n",
       "    </tr>\n",
       "  </thead>\n",
       "  <tbody>\n",
       "    <tr>\n",
       "      <th>0</th>\n",
       "      <td>2021-10-12 20:00</td>\n",
       "    </tr>\n",
       "    <tr>\n",
       "      <th>1</th>\n",
       "      <td>2021-10-12 19:30</td>\n",
       "    </tr>\n",
       "  </tbody>\n",
       "</table>\n",
       "</div>"
      ],
      "text/plain": [
       "        RECORD_TIME\n",
       "0  2021-10-12 20:00\n",
       "1  2021-10-12 19:30"
      ]
     },
     "execution_count": 3,
     "metadata": {},
     "output_type": "execute_result"
    }
   ],
   "source": [
    "timestamps"
   ]
  },
  {
   "cell_type": "code",
   "execution_count": 4,
   "id": "alternate-victory",
   "metadata": {
    "execution": {
     "iopub.execute_input": "2021-10-12T18:00:08.648559Z",
     "iopub.status.busy": "2021-10-12T18:00:08.646655Z",
     "iopub.status.idle": "2021-10-12T18:00:09.425025Z",
     "shell.execute_reply": "2021-10-12T18:00:09.426386Z"
    },
    "papermill": {
     "duration": 0.813143,
     "end_time": "2021-10-12T18:00:09.426790",
     "exception": false,
     "start_time": "2021-10-12T18:00:08.613647",
     "status": "completed"
    },
    "tags": []
   },
   "outputs": [],
   "source": [
    "df = pd.read_sql(\"select * from EBAY_TOP_BERLIN where record_time in (select distinct record_time from EBAY_TOP_BERLIN order by record_time desc limit 2)\", sqlite3.connect(\"UsedObjects.db\"))"
   ]
  },
  {
   "cell_type": "code",
   "execution_count": 5,
   "id": "popular-active",
   "metadata": {
    "execution": {
     "iopub.execute_input": "2021-10-12T18:00:09.497025Z",
     "iopub.status.busy": "2021-10-12T18:00:09.484738Z",
     "iopub.status.idle": "2021-10-12T18:00:09.512789Z",
     "shell.execute_reply": "2021-10-12T18:00:09.514022Z"
    },
    "papermill": {
     "duration": 0.067296,
     "end_time": "2021-10-12T18:00:09.514415",
     "exception": false,
     "start_time": "2021-10-12T18:00:09.447119",
     "status": "completed"
    },
    "tags": []
   },
   "outputs": [],
   "source": [
    "df_pivot = df.pivot_table(index=\"PRODUCT\", columns = \"RECORD_TIME\", values = \"LISTING_COUNT\")"
   ]
  },
  {
   "cell_type": "code",
   "execution_count": 6,
   "id": "union-huntington",
   "metadata": {
    "execution": {
     "iopub.execute_input": "2021-10-12T18:00:09.570924Z",
     "iopub.status.busy": "2021-10-12T18:00:09.568766Z",
     "iopub.status.idle": "2021-10-12T18:00:09.574151Z",
     "shell.execute_reply": "2021-10-12T18:00:09.575509Z"
    },
    "papermill": {
     "duration": 0.040958,
     "end_time": "2021-10-12T18:00:09.575942",
     "exception": false,
     "start_time": "2021-10-12T18:00:09.534984",
     "status": "completed"
    },
    "tags": []
   },
   "outputs": [],
   "source": [
    "df_pivot.columns = [\"stamp_1\", \"stamp_2\"]\n",
    "df_pivot_diff = df_pivot.diff(axis=1)"
   ]
  },
  {
   "cell_type": "code",
   "execution_count": 7,
   "id": "fifth-motion",
   "metadata": {
    "execution": {
     "iopub.execute_input": "2021-10-12T18:00:09.633237Z",
     "iopub.status.busy": "2021-10-12T18:00:09.630559Z",
     "iopub.status.idle": "2021-10-12T18:00:11.096112Z",
     "shell.execute_reply": "2021-10-12T18:00:11.094740Z"
    },
    "papermill": {
     "duration": 1.497579,
     "end_time": "2021-10-12T18:00:11.096468",
     "exception": false,
     "start_time": "2021-10-12T18:00:09.598889",
     "status": "completed"
    },
    "tags": []
   },
   "outputs": [
    {
     "data": {
      "text/plain": [
       "<AxesSubplot:ylabel='PRODUCT'>"
      ]
     },
     "execution_count": 7,
     "metadata": {},
     "output_type": "execute_result"
    },
    {
     "data": {
      "image/png": "[encoded data removed]",
      "text/plain": [
       "<Figure size 432x288 with 1 Axes>"
      ]
     },
     "metadata": {
      "needs_background": "light"
     },
     "output_type": "display_data"
    }
   ],
   "source": [
    "df_pivot_diff.sort_values(\"stamp_2\", ascending = False)[\"stamp_2\"].head(10).plot.barh()"
   ]
  },
  {
   "cell_type": "code",
   "execution_count": null,
   "id": "extra-executive",
   "metadata": {
    "papermill": {
     "duration": 0.022198,
     "end_time": "2021-10-12T18:00:11.144987",
     "exception": false,
     "start_time": "2021-10-12T18:00:11.122789",
     "status": "completed"
    },
    "tags": []
   },
   "outputs": [],
   "source": []
  }
 ],
 "metadata": {
  "kernelspec": {
   "display_name": "Python 3",
   "language": "python",
   "name": "python3"
  },
  "language_info": {
   "codemirror_mode": {
    "name": "ipython",
    "version": 3
   },
   "file_extension": ".py",
   "mimetype": "text/x-python",
   "name": "python",
   "nbconvert_exporter": "python",
   "pygments_lexer": "ipython3",
   "version": "3.9.5"
  },
  "papermill": {
   "default_parameters": {},
   "duration": 7.823836,
   "end_time": "2021-10-12T18:00:12.501968",
   "environment_variables": {},
   "exception": null,
   "input_path": "eBay_Overview.ipynb",
   "output_path": "eBay_Overview.ipynb",
   "parameters": {},
   "start_time": "2021-10-12T18:00:04.678132",
   "version": "2.3.3"
  }
 },
 "nbformat": 4,
 "nbformat_minor": 5
}