{
 "cells": [
  {
   "cell_type": "code",
   "execution_count": 1,
   "id": "reverse-picking",
   "metadata": {
    "execution": {
     "iopub.execute_input": "2021-11-09T11:00:07.680299Z",
     "iopub.status.busy": "2021-11-09T11:00:07.678143Z",
     "iopub.status.idle": "2021-11-09T11:00:08.632151Z",
     "shell.execute_reply": "2021-11-09T11:00:08.630226Z"
    },
    "papermill": {
     "duration": 1.003135,
     "end_time": "2021-11-09T11:00:08.632744",
     "exception": false,
     "start_time": "2021-11-09T11:00:07.629609",
     "status": "completed"
    },
    "tags": []
   },
   "outputs": [],
   "source": [
    "import pandas as pd\n",
    "import sqlite3"
   ]
  },
  {
   "cell_type": "code",
   "execution_count": 2,
   "id": "innovative-syndrome",
   "metadata": {
    "execution": {
     "iopub.execute_input": "2021-11-09T11:00:08.690097Z",
     "iopub.status.busy": "2021-11-09T11:00:08.687524Z",
     "iopub.status.idle": "2021-11-09T11:00:09.455812Z",
     "shell.execute_reply": "2021-11-09T11:00:09.457460Z"
    },
    "papermill": {
     "duration": 0.802123,
     "end_time": "2021-11-09T11:00:09.457973",
     "exception": false,
     "start_time": "2021-11-09T11:00:08.655850",
     "status": "completed"
    },
    "tags": []
   },
   "outputs": [],
   "source": [
    "timestamps = pd.read_sql(\"select distinct record_time from EBAY_TOP_BERLIN order by record_time desc limit 2\", sqlite3.connect(\"UsedObjects.db\"))"
   ]
  },
  {
   "cell_type": "code",
   "execution_count": 3,
   "id": "periodic-identification",
   "metadata": {
    "execution": {
     "iopub.execute_input": "2021-11-09T11:00:09.529362Z",
     "iopub.status.busy": "2021-11-09T11:00:09.526967Z",
     "iopub.status.idle": "2021-11-09T11:00:09.550183Z",
     "shell.execute_reply": "2021-11-09T11:00:09.551634Z"
    },
    "papermill": {
     "duration": 0.073727,
     "end_time": "2021-11-09T11:00:09.552128",
     "exception": false,
     "start_time": "2021-11-09T11:00:09.478401",
     "status": "completed"
    },
    "tags": []
   },
   "outputs": [
    {
     "data": {
      "text/html": [
       "<div>\n",
       "<style scoped>\n",
       "    .dataframe tbody tr th:only-of-type {\n",
       "        vertical-align: middle;\n",
       "    }\n",
       "\n",
       "    .dataframe tbody tr th {\n",
       "        vertical-align: top;\n",
       "    }\n",
       "\n",
       "    .dataframe thead th {\n",
       "        text-align: right;\n",
       "    }\n",
       "</style>\n",
       "<table border=\"1\" class=\"dataframe\">\n",
       "  <thead>\n",
       "    <tr style=\"text-align: right;\">\n",
       "      <th></th>\n",
       "      <th>RECORD_TIME</th>\n",
       "    </tr>\n",
       "  </thead>\n",
       "  <tbody>\n",
       "    <tr>\n",
       "      <th>0</th>\n",
       "      <td>2021-11-09 12:00</td>\n",
       "    </tr>\n",
       "    <tr>\n",
       "      <th>1</th>\n",
       "      <td>2021-11-09 11:30</td>\n",
       "    </tr>\n",
       "  </tbody>\n",
       "</table>\n",
       "</div>"
      ],
      "text/plain": [
       "        RECORD_TIME\n",
       "0  2021-11-09 12:00\n",
       "1  2021-11-09 11:30"
      ]
     },
     "execution_count": 3,
     "metadata": {},
     "output_type": "execute_result"
    }
   ],
   "source": [
    "timestamps"
   ]
  },
  {
   "cell_type": "code",
   "execution_count": 4,
   "id": "alternate-victory",
   "metadata": {
    "execution": {
     "iopub.execute_input": "2021-11-09T11:00:09.610297Z",
     "iopub.status.busy": "2021-11-09T11:00:09.606623Z",
     "iopub.status.idle": "2021-11-09T11:00:10.718413Z",
     "shell.execute_reply": "2021-11-09T11:00:10.719944Z"
    },
    "papermill": {
     "duration": 1.145867,
     "end_time": "2021-11-09T11:00:10.720410",
     "exception": false,
     "start_time": "2021-11-09T11:00:09.574543",
     "status": "completed"
    },
    "tags": []
   },
   "outputs": [],
   "source": [
    "df = pd.read_sql(\"select * from EBAY_TOP_BERLIN where record_time in (select distinct record_time from EBAY_TOP_BERLIN order by record_time desc limit 2)\", sqlite3.connect(\"UsedObjects.db\"))"
   ]
  },
  {
   "cell_type": "code",
   "execution_count": 5,
   "id": "popular-active",
   "metadata": {
    "execution": {
     "iopub.execute_input": "2021-11-09T11:00:10.798495Z",
     "iopub.status.busy": "2021-11-09T11:00:10.785313Z",
     "iopub.status.idle": "2021-11-09T11:00:10.820911Z",
     "shell.execute_reply": "2021-11-09T11:00:10.819131Z"
    },
    "papermill": {
     "duration": 0.078934,
     "end_time": "2021-11-09T11:00:10.821342",
     "exception": false,
     "start_time": "2021-11-09T11:00:10.742408",
     "status": "completed"
    },
    "tags": []
   },
   "outputs": [],
   "source": [
    "df_pivot = df.pivot_table(index=\"PRODUCT\", columns = \"RECORD_TIME\", values = \"LISTING_COUNT\")"
   ]
  },
  {
   "cell_type": "code",
   "execution_count": 6,
   "id": "union-huntington",
   "metadata": {
    "execution": {
     "iopub.execute_input": "2021-11-09T11:00:10.883388Z",
     "iopub.status.busy": "2021-11-09T11:00:10.881264Z",
     "iopub.status.idle": "2021-11-09T11:00:10.886799Z",
     "shell.execute_reply": "2021-11-09T11:00:10.888134Z"
    },
    "papermill": {
     "duration": 0.044697,
     "end_time": "2021-11-09T11:00:10.888590",
     "exception": false,
     "start_time": "2021-11-09T11:00:10.843893",
     "status": "completed"
    },
    "tags": []
   },
   "outputs": [],
   "source": [
    "df_pivot.columns = [\"stamp_1\", \"stamp_2\"]\n",
    "df_pivot_diff = df_pivot.diff(axis=1)"
   ]
  },
  {
   "cell_type": "code",
   "execution_count": 7,
   "id": "fifth-motion",
   "metadata": {
    "execution": {
     "iopub.execute_input": "2021-11-09T11:00:10.943946Z",
     "iopub.status.busy": "2021-11-09T11:00:10.941583Z",
     "iopub.status.idle": "2021-11-09T11:00:12.685186Z",
     "shell.execute_reply": "2021-11-09T11:00:12.686706Z"
    },
    "papermill": {
     "duration": 1.778964,
     "end_time": "2021-11-09T11:00:12.687195",
     "exception": false,
     "start_time": "2021-11-09T11:00:10.908231",
     "status": "completed"
    },
    "tags": []
   },
   "outputs": [
    {
     "data": {
      "text/plain": [
       "<AxesSubplot:ylabel='PRODUCT'>"
      ]
     },
     "execution_count": 7,
     "metadata": {},
     "output_type": "execute_result"
    },
    {
     "data": {
      "image/png": "[encoded data removed]",
      "text/plain": [
       "<Figure size 432x288 with 1 Axes>"
      ]
     },
     "metadata": {
      "needs_background": "light"
     },
     "output_type": "display_data"
    }
   ],
   "source": [
    "df_pivot_diff.sort_values(\"stamp_2\", ascending = False)[\"stamp_2\"].head(10).plot.barh()"
   ]
  },
  {
   "cell_type": "code",
   "execution_count": null,
   "id": "extra-executive",
   "metadata": {
    "papermill": {
     "duration": 0.036464,
     "end_time": "2021-11-09T11:00:12.756637",
     "exception": false,
     "start_time": "2021-11-09T11:00:12.720173",
     "status": "completed"
    },
    "tags": []
   },
   "outputs": [],
   "source": []
  }
 ],
 "metadata": {
  "kernelspec": {
   "display_name": "Python 3",
   "language": "python",
   "name": "python3"
  },
  "language_info": {
   "codemirror_mode": {
    "name": "ipython",
    "version": 3
   },
   "file_extension": ".py",
   "mimetype": "text/x-python",
   "name": "python",
   "nbconvert_exporter": "python",
   "pygments_lexer": "ipython3",
   "version": "3.9.5"
  },
  "papermill": {
   "default_parameters": {},
   "duration": 8.699916,
   "end_time": "2021-11-09T11:00:13.625082",
   "environment_variables": {},
   "exception": null,
   "input_path": "eBay_Overview.ipynb",
   "output_path": "eBay_Overview.ipynb",
   "parameters": {},
   "start_time": "2021-11-09T11:00:04.925166",
   "version": "2.3.3"
  }
 },
 "nbformat": 4,
 "nbformat_minor": 5
}