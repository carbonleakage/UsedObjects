{
 "cells": [
  {
   "cell_type": "code",
   "execution_count": 1,
   "id": "reverse-picking",
   "metadata": {
    "execution": {
     "iopub.execute_input": "2021-08-26T01:30:06.578588Z",
     "iopub.status.busy": "2021-08-26T01:30:06.576674Z",
     "iopub.status.idle": "2021-08-26T01:30:07.377478Z",
     "shell.execute_reply": "2021-08-26T01:30:07.378923Z"
    },
    "papermill": {
     "duration": 0.853132,
     "end_time": "2021-08-26T01:30:07.379600",
     "exception": false,
     "start_time": "2021-08-26T01:30:06.526468",
     "status": "completed"
    },
    "tags": []
   },
   "outputs": [],
   "source": [
    "import pandas as pd\n",
    "import sqlite3"
   ]
  },
  {
   "cell_type": "code",
   "execution_count": 2,
   "id": "innovative-syndrome",
   "metadata": {
    "execution": {
     "iopub.execute_input": "2021-08-26T01:30:07.430296Z",
     "iopub.status.busy": "2021-08-26T01:30:07.427894Z",
     "iopub.status.idle": "2021-08-26T01:30:07.560868Z",
     "shell.execute_reply": "2021-08-26T01:30:07.562153Z"
    },
    "papermill": {
     "duration": 0.162612,
     "end_time": "2021-08-26T01:30:07.562554",
     "exception": false,
     "start_time": "2021-08-26T01:30:07.399942",
     "status": "completed"
    },
    "tags": []
   },
   "outputs": [],
   "source": [
    "timestamps = pd.read_sql(\"select distinct record_time from EBAY_TOP_BERLIN order by record_time desc limit 2\", sqlite3.connect(\"UsedObjects.db\"))"
   ]
  },
  {
   "cell_type": "code",
   "execution_count": 3,
   "id": "periodic-identification",
   "metadata": {
    "execution": {
     "iopub.execute_input": "2021-08-26T01:30:07.626779Z",
     "iopub.status.busy": "2021-08-26T01:30:07.624791Z",
     "iopub.status.idle": "2021-08-26T01:30:07.644522Z",
     "shell.execute_reply": "2021-08-26T01:30:07.645691Z"
    },
    "papermill": {
     "duration": 0.0644,
     "end_time": "2021-08-26T01:30:07.646110",
     "exception": false,
     "start_time": "2021-08-26T01:30:07.581710",
     "status": "completed"
    },
    "tags": []
   },
   "outputs": [
    {
     "data": {
      "text/html": [
       "<div>\n",
       "<style scoped>\n",
       "    .dataframe tbody tr th:only-of-type {\n",
       "        vertical-align: middle;\n",
       "    }\n",
       "\n",
       "    .dataframe tbody tr th {\n",
       "        vertical-align: top;\n",
       "    }\n",
       "\n",
       "    .dataframe thead th {\n",
       "        text-align: right;\n",
       "    }\n",
       "</style>\n",
       "<table border=\"1\" class=\"dataframe\">\n",
       "  <thead>\n",
       "    <tr style=\"text-align: right;\">\n",
       "      <th></th>\n",
       "      <th>RECORD_TIME</th>\n",
       "    </tr>\n",
       "  </thead>\n",
       "  <tbody>\n",
       "    <tr>\n",
       "      <th>0</th>\n",
       "      <td>2021-08-26 03:30</td>\n",
       "    </tr>\n",
       "    <tr>\n",
       "      <th>1</th>\n",
       "      <td>2021-08-26 03:00</td>\n",
       "    </tr>\n",
       "  </tbody>\n",
       "</table>\n",
       "</div>"
      ],
      "text/plain": [
       "        RECORD_TIME\n",
       "0  2021-08-26 03:30\n",
       "1  2021-08-26 03:00"
      ]
     },
     "execution_count": 3,
     "metadata": {},
     "output_type": "execute_result"
    }
   ],
   "source": [
    "timestamps"
   ]
  },
  {
   "cell_type": "code",
   "execution_count": 4,
   "id": "alternate-victory",
   "metadata": {
    "execution": {
     "iopub.execute_input": "2021-08-26T01:30:07.699257Z",
     "iopub.status.busy": "2021-08-26T01:30:07.696981Z",
     "iopub.status.idle": "2021-08-26T01:30:07.902188Z",
     "shell.execute_reply": "2021-08-26T01:30:07.903460Z"
    },
    "papermill": {
     "duration": 0.235153,
     "end_time": "2021-08-26T01:30:07.903881",
     "exception": false,
     "start_time": "2021-08-26T01:30:07.668728",
     "status": "completed"
    },
    "tags": []
   },
   "outputs": [],
   "source": [
    "df = pd.read_sql(\"select * from EBAY_TOP_BERLIN where record_time in (select distinct record_time from EBAY_TOP_BERLIN order by record_time desc limit 2)\", sqlite3.connect(\"UsedObjects.db\"))"
   ]
  },
  {
   "cell_type": "code",
   "execution_count": 5,
   "id": "popular-active",
   "metadata": {
    "execution": {
     "iopub.execute_input": "2021-08-26T01:30:07.975121Z",
     "iopub.status.busy": "2021-08-26T01:30:07.962852Z",
     "iopub.status.idle": "2021-08-26T01:30:07.991644Z",
     "shell.execute_reply": "2021-08-26T01:30:07.993099Z"
    },
    "papermill": {
     "duration": 0.069584,
     "end_time": "2021-08-26T01:30:07.993519",
     "exception": false,
     "start_time": "2021-08-26T01:30:07.923935",
     "status": "completed"
    },
    "tags": []
   },
   "outputs": [],
   "source": [
    "df_pivot = df.pivot_table(index=\"PRODUCT\", columns = \"RECORD_TIME\", values = \"LISTING_COUNT\")"
   ]
  },
  {
   "cell_type": "code",
   "execution_count": 6,
   "id": "union-huntington",
   "metadata": {
    "execution": {
     "iopub.execute_input": "2021-08-26T01:30:08.059740Z",
     "iopub.status.busy": "2021-08-26T01:30:08.057456Z",
     "iopub.status.idle": "2021-08-26T01:30:08.063356Z",
     "shell.execute_reply": "2021-08-26T01:30:08.064704Z"
    },
    "papermill": {
     "duration": 0.044825,
     "end_time": "2021-08-26T01:30:08.065139",
     "exception": false,
     "start_time": "2021-08-26T01:30:08.020314",
     "status": "completed"
    },
    "tags": []
   },
   "outputs": [],
   "source": [
    "df_pivot.columns = [\"stamp_1\", \"stamp_2\"]\n",
    "df_pivot_diff = df_pivot.diff(axis=1)"
   ]
  },
  {
   "cell_type": "code",
   "execution_count": 7,
   "id": "fifth-motion",
   "metadata": {
    "execution": {
     "iopub.execute_input": "2021-08-26T01:30:08.118529Z",
     "iopub.status.busy": "2021-08-26T01:30:08.116211Z",
     "iopub.status.idle": "2021-08-26T01:30:09.592903Z",
     "shell.execute_reply": "2021-08-26T01:30:09.594276Z"
    },
    "papermill": {
     "duration": 1.509636,
     "end_time": "2021-08-26T01:30:09.594720",
     "exception": false,
     "start_time": "2021-08-26T01:30:08.085084",
     "status": "completed"
    },
    "tags": []
   },
   "outputs": [
    {
     "data": {
      "text/plain": [
       "<AxesSubplot:ylabel='PRODUCT'>"
      ]
     },
     "execution_count": 7,
     "metadata": {},
     "output_type": "execute_result"
    },
    {
     "data": {
      "image/png": "[encoded data removed]",
      "text/plain": [
       "<Figure size 432x288 with 1 Axes>"
      ]
     },
     "metadata": {
      "needs_background": "light"
     },
     "output_type": "display_data"
    }
   ],
   "source": [
    "df_pivot_diff.sort_values(\"stamp_2\", ascending = False)[\"stamp_2\"].head(10).plot.barh()"
   ]
  },
  {
   "cell_type": "code",
   "execution_count": null,
   "id": "extra-executive",
   "metadata": {
    "papermill": {
     "duration": 0.021986,
     "end_time": "2021-08-26T01:30:09.640824",
     "exception": false,
     "start_time": "2021-08-26T01:30:09.618838",
     "status": "completed"
    },
    "tags": []
   },
   "outputs": [],
   "source": []
  }
 ],
 "metadata": {
  "kernelspec": {
   "display_name": "Python 3",
   "language": "python",
   "name": "python3"
  },
  "language_info": {
   "codemirror_mode": {
    "name": "ipython",
    "version": 3
   },
   "file_extension": ".py",
   "mimetype": "text/x-python",
   "name": "python",
   "nbconvert_exporter": "python",
   "pygments_lexer": "ipython3",
   "version": "3.9.5"
  },
  "papermill": {
   "default_parameters": {},
   "duration": 6.822394,
   "end_time": "2021-08-26T01:30:10.947965",
   "environment_variables": {},
   "exception": null,
   "input_path": "eBay_Overview.ipynb",
   "output_path": "eBay_Overview.ipynb",
   "parameters": {},
   "start_time": "2021-08-26T01:30:04.125571",
   "version": "2.3.3"
  }
 },
 "nbformat": 4,
 "nbformat_minor": 5
}