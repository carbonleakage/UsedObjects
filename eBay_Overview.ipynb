{
 "cells": [
  {
   "cell_type": "code",
   "execution_count": 1,
   "id": "reverse-picking",
   "metadata": {
    "execution": {
     "iopub.execute_input": "2021-08-19T21:30:07.362199Z",
     "iopub.status.busy": "2021-08-19T21:30:07.360215Z",
     "iopub.status.idle": "2021-08-19T21:30:08.168854Z",
     "shell.execute_reply": "2021-08-19T21:30:08.170356Z"
    },
    "papermill": {
     "duration": 0.859028,
     "end_time": "2021-08-19T21:30:08.171016",
     "exception": false,
     "start_time": "2021-08-19T21:30:07.311988",
     "status": "completed"
    },
    "tags": []
   },
   "outputs": [],
   "source": [
    "import pandas as pd\n",
    "import sqlite3"
   ]
  },
  {
   "cell_type": "code",
   "execution_count": 2,
   "id": "innovative-syndrome",
   "metadata": {
    "execution": {
     "iopub.execute_input": "2021-08-19T21:30:08.222945Z",
     "iopub.status.busy": "2021-08-19T21:30:08.220598Z",
     "iopub.status.idle": "2021-08-19T21:30:08.306796Z",
     "shell.execute_reply": "2021-08-19T21:30:08.308006Z"
    },
    "papermill": {
     "duration": 0.115969,
     "end_time": "2021-08-19T21:30:08.308399",
     "exception": false,
     "start_time": "2021-08-19T21:30:08.192430",
     "status": "completed"
    },
    "tags": []
   },
   "outputs": [],
   "source": [
    "timestamps = pd.read_sql(\"select distinct record_time from EBAY_TOP_BERLIN order by record_time desc limit 2\", sqlite3.connect(\"UsedObjects.db\"))"
   ]
  },
  {
   "cell_type": "code",
   "execution_count": 3,
   "id": "periodic-identification",
   "metadata": {
    "execution": {
     "iopub.execute_input": "2021-08-19T21:30:08.372320Z",
     "iopub.status.busy": "2021-08-19T21:30:08.370250Z",
     "iopub.status.idle": "2021-08-19T21:30:08.390996Z",
     "shell.execute_reply": "2021-08-19T21:30:08.392121Z"
    },
    "papermill": {
     "duration": 0.064859,
     "end_time": "2021-08-19T21:30:08.392528",
     "exception": false,
     "start_time": "2021-08-19T21:30:08.327669",
     "status": "completed"
    },
    "tags": []
   },
   "outputs": [
    {
     "data": {
      "text/html": [
       "<div>\n",
       "<style scoped>\n",
       "    .dataframe tbody tr th:only-of-type {\n",
       "        vertical-align: middle;\n",
       "    }\n",
       "\n",
       "    .dataframe tbody tr th {\n",
       "        vertical-align: top;\n",
       "    }\n",
       "\n",
       "    .dataframe thead th {\n",
       "        text-align: right;\n",
       "    }\n",
       "</style>\n",
       "<table border=\"1\" class=\"dataframe\">\n",
       "  <thead>\n",
       "    <tr style=\"text-align: right;\">\n",
       "      <th></th>\n",
       "      <th>RECORD_TIME</th>\n",
       "    </tr>\n",
       "  </thead>\n",
       "  <tbody>\n",
       "    <tr>\n",
       "      <th>0</th>\n",
       "      <td>2021-08-19 23:30</td>\n",
       "    </tr>\n",
       "    <tr>\n",
       "      <th>1</th>\n",
       "      <td>2021-08-19 23:00</td>\n",
       "    </tr>\n",
       "  </tbody>\n",
       "</table>\n",
       "</div>"
      ],
      "text/plain": [
       "        RECORD_TIME\n",
       "0  2021-08-19 23:30\n",
       "1  2021-08-19 23:00"
      ]
     },
     "execution_count": 3,
     "metadata": {},
     "output_type": "execute_result"
    }
   ],
   "source": [
    "timestamps"
   ]
  },
  {
   "cell_type": "code",
   "execution_count": 4,
   "id": "alternate-victory",
   "metadata": {
    "execution": {
     "iopub.execute_input": "2021-08-19T21:30:08.446166Z",
     "iopub.status.busy": "2021-08-19T21:30:08.443864Z",
     "iopub.status.idle": "2021-08-19T21:30:08.572348Z",
     "shell.execute_reply": "2021-08-19T21:30:08.571031Z"
    },
    "papermill": {
     "duration": 0.157602,
     "end_time": "2021-08-19T21:30:08.572674",
     "exception": false,
     "start_time": "2021-08-19T21:30:08.415072",
     "status": "completed"
    },
    "tags": []
   },
   "outputs": [],
   "source": [
    "df = pd.read_sql(\"select * from EBAY_TOP_BERLIN where record_time in (select distinct record_time from EBAY_TOP_BERLIN order by record_time desc limit 2)\", sqlite3.connect(\"UsedObjects.db\"))"
   ]
  },
  {
   "cell_type": "code",
   "execution_count": 5,
   "id": "popular-active",
   "metadata": {
    "execution": {
     "iopub.execute_input": "2021-08-19T21:30:08.645297Z",
     "iopub.status.busy": "2021-08-19T21:30:08.633701Z",
     "iopub.status.idle": "2021-08-19T21:30:08.660986Z",
     "shell.execute_reply": "2021-08-19T21:30:08.662270Z"
    },
    "papermill": {
     "duration": 0.067516,
     "end_time": "2021-08-19T21:30:08.662667",
     "exception": false,
     "start_time": "2021-08-19T21:30:08.595151",
     "status": "completed"
    },
    "tags": []
   },
   "outputs": [],
   "source": [
    "df_pivot = df.pivot_table(index=\"PRODUCT\", columns = \"RECORD_TIME\", values = \"LISTING_COUNT\")"
   ]
  },
  {
   "cell_type": "code",
   "execution_count": 6,
   "id": "union-huntington",
   "metadata": {
    "execution": {
     "iopub.execute_input": "2021-08-19T21:30:08.718596Z",
     "iopub.status.busy": "2021-08-19T21:30:08.716384Z",
     "iopub.status.idle": "2021-08-19T21:30:08.722180Z",
     "shell.execute_reply": "2021-08-19T21:30:08.723615Z"
    },
    "papermill": {
     "duration": 0.040945,
     "end_time": "2021-08-19T21:30:08.724210",
     "exception": false,
     "start_time": "2021-08-19T21:30:08.683265",
     "status": "completed"
    },
    "tags": []
   },
   "outputs": [],
   "source": [
    "df_pivot.columns = [\"stamp_1\", \"stamp_2\"]\n",
    "df_pivot_diff = df_pivot.diff(axis=1)"
   ]
  },
  {
   "cell_type": "code",
   "execution_count": 7,
   "id": "fifth-motion",
   "metadata": {
    "execution": {
     "iopub.execute_input": "2021-08-19T21:30:08.779760Z",
     "iopub.status.busy": "2021-08-19T21:30:08.777291Z",
     "iopub.status.idle": "2021-08-19T21:30:10.261501Z",
     "shell.execute_reply": "2021-08-19T21:30:10.262950Z"
    },
    "papermill": {
     "duration": 1.516941,
     "end_time": "2021-08-19T21:30:10.263389",
     "exception": false,
     "start_time": "2021-08-19T21:30:08.746448",
     "status": "completed"
    },
    "tags": []
   },
   "outputs": [
    {
     "data": {
      "text/plain": [
       "<AxesSubplot:ylabel='PRODUCT'>"
      ]
     },
     "execution_count": 7,
     "metadata": {},
     "output_type": "execute_result"
    },
    {
     "data": {
      "image/png": "[encoded data removed]",
      "text/plain": [
       "<Figure size 432x288 with 1 Axes>"
      ]
     },
     "metadata": {
      "needs_background": "light"
     },
     "output_type": "display_data"
    }
   ],
   "source": [
    "df_pivot_diff.sort_values(\"stamp_2\", ascending = False)[\"stamp_2\"].head(10).plot.barh()"
   ]
  },
  {
   "cell_type": "code",
   "execution_count": null,
   "id": "extra-executive",
   "metadata": {
    "papermill": {
     "duration": 0.022358,
     "end_time": "2021-08-19T21:30:10.310365",
     "exception": false,
     "start_time": "2021-08-19T21:30:10.288007",
     "status": "completed"
    },
    "tags": []
   },
   "outputs": [],
   "source": []
  }
 ],
 "metadata": {
  "kernelspec": {
   "display_name": "Python 3",
   "language": "python",
   "name": "python3"
  },
  "language_info": {
   "codemirror_mode": {
    "name": "ipython",
    "version": 3
   },
   "file_extension": ".py",
   "mimetype": "text/x-python",
   "name": "python",
   "nbconvert_exporter": "python",
   "pygments_lexer": "ipython3",
   "version": "3.9.5"
  },
  "papermill": {
   "default_parameters": {},
   "duration": 6.837977,
   "end_time": "2021-08-19T21:30:11.741717",
   "environment_variables": {},
   "exception": null,
   "input_path": "eBay_Overview.ipynb",
   "output_path": "eBay_Overview.ipynb",
   "parameters": {},
   "start_time": "2021-08-19T21:30:04.903740",
   "version": "2.3.3"
  }
 },
 "nbformat": 4,
 "nbformat_minor": 5
}