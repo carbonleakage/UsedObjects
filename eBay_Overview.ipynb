{
 "cells": [
  {
   "cell_type": "code",
   "execution_count": 1,
   "id": "reverse-picking",
   "metadata": {
    "execution": {
     "iopub.execute_input": "2021-08-20T07:00:06.811628Z",
     "iopub.status.busy": "2021-08-20T07:00:06.809558Z",
     "iopub.status.idle": "2021-08-20T07:00:07.616609Z",
     "shell.execute_reply": "2021-08-20T07:00:07.617869Z"
    },
    "papermill": {
     "duration": 0.858851,
     "end_time": "2021-08-20T07:00:07.618603",
     "exception": false,
     "start_time": "2021-08-20T07:00:06.759752",
     "status": "completed"
    },
    "tags": []
   },
   "outputs": [],
   "source": [
    "import pandas as pd\n",
    "import sqlite3"
   ]
  },
  {
   "cell_type": "code",
   "execution_count": 2,
   "id": "innovative-syndrome",
   "metadata": {
    "execution": {
     "iopub.execute_input": "2021-08-20T07:00:07.668296Z",
     "iopub.status.busy": "2021-08-20T07:00:07.666441Z",
     "iopub.status.idle": "2021-08-20T07:00:07.755238Z",
     "shell.execute_reply": "2021-08-20T07:00:07.756614Z"
    },
    "papermill": {
     "duration": 0.118463,
     "end_time": "2021-08-20T07:00:07.757059",
     "exception": false,
     "start_time": "2021-08-20T07:00:07.638596",
     "status": "completed"
    },
    "tags": []
   },
   "outputs": [],
   "source": [
    "timestamps = pd.read_sql(\"select distinct record_time from EBAY_TOP_BERLIN order by record_time desc limit 2\", sqlite3.connect(\"UsedObjects.db\"))"
   ]
  },
  {
   "cell_type": "code",
   "execution_count": 3,
   "id": "periodic-identification",
   "metadata": {
    "execution": {
     "iopub.execute_input": "2021-08-20T07:00:07.827516Z",
     "iopub.status.busy": "2021-08-20T07:00:07.822414Z",
     "iopub.status.idle": "2021-08-20T07:00:07.842616Z",
     "shell.execute_reply": "2021-08-20T07:00:07.843954Z"
    },
    "papermill": {
     "duration": 0.067072,
     "end_time": "2021-08-20T07:00:07.844374",
     "exception": false,
     "start_time": "2021-08-20T07:00:07.777302",
     "status": "completed"
    },
    "tags": []
   },
   "outputs": [
    {
     "data": {
      "text/html": [
       "<div>\n",
       "<style scoped>\n",
       "    .dataframe tbody tr th:only-of-type {\n",
       "        vertical-align: middle;\n",
       "    }\n",
       "\n",
       "    .dataframe tbody tr th {\n",
       "        vertical-align: top;\n",
       "    }\n",
       "\n",
       "    .dataframe thead th {\n",
       "        text-align: right;\n",
       "    }\n",
       "</style>\n",
       "<table border=\"1\" class=\"dataframe\">\n",
       "  <thead>\n",
       "    <tr style=\"text-align: right;\">\n",
       "      <th></th>\n",
       "      <th>RECORD_TIME</th>\n",
       "    </tr>\n",
       "  </thead>\n",
       "  <tbody>\n",
       "    <tr>\n",
       "      <th>0</th>\n",
       "      <td>2021-08-20 09:00</td>\n",
       "    </tr>\n",
       "    <tr>\n",
       "      <th>1</th>\n",
       "      <td>2021-08-20 08:30</td>\n",
       "    </tr>\n",
       "  </tbody>\n",
       "</table>\n",
       "</div>"
      ],
      "text/plain": [
       "        RECORD_TIME\n",
       "0  2021-08-20 09:00\n",
       "1  2021-08-20 08:30"
      ]
     },
     "execution_count": 3,
     "metadata": {},
     "output_type": "execute_result"
    }
   ],
   "source": [
    "timestamps"
   ]
  },
  {
   "cell_type": "code",
   "execution_count": 4,
   "id": "alternate-victory",
   "metadata": {
    "execution": {
     "iopub.execute_input": "2021-08-20T07:00:07.895453Z",
     "iopub.status.busy": "2021-08-20T07:00:07.893484Z",
     "iopub.status.idle": "2021-08-20T07:00:08.025990Z",
     "shell.execute_reply": "2021-08-20T07:00:08.027563Z"
    },
    "papermill": {
     "duration": 0.162604,
     "end_time": "2021-08-20T07:00:08.028029",
     "exception": false,
     "start_time": "2021-08-20T07:00:07.865425",
     "status": "completed"
    },
    "tags": []
   },
   "outputs": [],
   "source": [
    "df = pd.read_sql(\"select * from EBAY_TOP_BERLIN where record_time in (select distinct record_time from EBAY_TOP_BERLIN order by record_time desc limit 2)\", sqlite3.connect(\"UsedObjects.db\"))"
   ]
  },
  {
   "cell_type": "code",
   "execution_count": 5,
   "id": "popular-active",
   "metadata": {
    "execution": {
     "iopub.execute_input": "2021-08-20T07:00:08.099901Z",
     "iopub.status.busy": "2021-08-20T07:00:08.088705Z",
     "iopub.status.idle": "2021-08-20T07:00:08.116911Z",
     "shell.execute_reply": "2021-08-20T07:00:08.118610Z"
    },
    "papermill": {
     "duration": 0.070192,
     "end_time": "2021-08-20T07:00:08.119098",
     "exception": false,
     "start_time": "2021-08-20T07:00:08.048906",
     "status": "completed"
    },
    "tags": []
   },
   "outputs": [],
   "source": [
    "df_pivot = df.pivot_table(index=\"PRODUCT\", columns = \"RECORD_TIME\", values = \"LISTING_COUNT\")"
   ]
  },
  {
   "cell_type": "code",
   "execution_count": 6,
   "id": "union-huntington",
   "metadata": {
    "execution": {
     "iopub.execute_input": "2021-08-20T07:00:08.178120Z",
     "iopub.status.busy": "2021-08-20T07:00:08.175804Z",
     "iopub.status.idle": "2021-08-20T07:00:08.181596Z",
     "shell.execute_reply": "2021-08-20T07:00:08.182955Z"
    },
    "papermill": {
     "duration": 0.042251,
     "end_time": "2021-08-20T07:00:08.183382",
     "exception": false,
     "start_time": "2021-08-20T07:00:08.141131",
     "status": "completed"
    },
    "tags": []
   },
   "outputs": [],
   "source": [
    "df_pivot.columns = [\"stamp_1\", \"stamp_2\"]\n",
    "df_pivot_diff = df_pivot.diff(axis=1)"
   ]
  },
  {
   "cell_type": "code",
   "execution_count": 7,
   "id": "fifth-motion",
   "metadata": {
    "execution": {
     "iopub.execute_input": "2021-08-20T07:00:08.242358Z",
     "iopub.status.busy": "2021-08-20T07:00:08.239887Z",
     "iopub.status.idle": "2021-08-20T07:00:09.757356Z",
     "shell.execute_reply": "2021-08-20T07:00:09.755741Z"
    },
    "papermill": {
     "duration": 1.553882,
     "end_time": "2021-08-20T07:00:09.757738",
     "exception": false,
     "start_time": "2021-08-20T07:00:08.203856",
     "status": "completed"
    },
    "tags": []
   },
   "outputs": [
    {
     "data": {
      "text/plain": [
       "<AxesSubplot:ylabel='PRODUCT'>"
      ]
     },
     "execution_count": 7,
     "metadata": {},
     "output_type": "execute_result"
    },
    {
     "data": {
      "image/png": "[encoded data removed]",
      "text/plain": [
       "<Figure size 432x288 with 1 Axes>"
      ]
     },
     "metadata": {
      "needs_background": "light"
     },
     "output_type": "display_data"
    }
   ],
   "source": [
    "df_pivot_diff.sort_values(\"stamp_2\", ascending = False)[\"stamp_2\"].head(10).plot.barh()"
   ]
  },
  {
   "cell_type": "code",
   "execution_count": null,
   "id": "extra-executive",
   "metadata": {
    "papermill": {
     "duration": 0.022012,
     "end_time": "2021-08-20T07:00:09.803863",
     "exception": false,
     "start_time": "2021-08-20T07:00:09.781851",
     "status": "completed"
    },
    "tags": []
   },
   "outputs": [],
   "source": []
  }
 ],
 "metadata": {
  "kernelspec": {
   "display_name": "Python 3",
   "language": "python",
   "name": "python3"
  },
  "language_info": {
   "codemirror_mode": {
    "name": "ipython",
    "version": 3
   },
   "file_extension": ".py",
   "mimetype": "text/x-python",
   "name": "python",
   "nbconvert_exporter": "python",
   "pygments_lexer": "ipython3",
   "version": "3.9.5"
  },
  "papermill": {
   "default_parameters": {},
   "duration": 6.828976,
   "end_time": "2021-08-20T07:00:11.172310",
   "environment_variables": {},
   "exception": null,
   "input_path": "eBay_Overview.ipynb",
   "output_path": "eBay_Overview.ipynb",
   "parameters": {},
   "start_time": "2021-08-20T07:00:04.343334",
   "version": "2.3.3"
  }
 },
 "nbformat": 4,
 "nbformat_minor": 5
}