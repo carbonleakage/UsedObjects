{
 "cells": [
  {
   "cell_type": "code",
   "execution_count": 1,
   "id": "reverse-picking",
   "metadata": {
    "execution": {
     "iopub.execute_input": "2021-12-10T07:00:08.264888Z",
     "iopub.status.busy": "2021-12-10T07:00:08.262592Z",
     "iopub.status.idle": "2021-12-10T07:00:09.178208Z",
     "shell.execute_reply": "2021-12-10T07:00:09.176321Z"
    },
    "papermill": {
     "duration": 0.962984,
     "end_time": "2021-12-10T07:00:09.178656",
     "exception": false,
     "start_time": "2021-12-10T07:00:08.215672",
     "status": "completed"
    },
    "tags": []
   },
   "outputs": [],
   "source": [
    "import pandas as pd\n",
    "import sqlite3"
   ]
  },
  {
   "cell_type": "code",
   "execution_count": 2,
   "id": "innovative-syndrome",
   "metadata": {
    "execution": {
     "iopub.execute_input": "2021-12-10T07:00:09.230452Z",
     "iopub.status.busy": "2021-12-10T07:00:09.228032Z",
     "iopub.status.idle": "2021-12-10T07:00:10.302001Z",
     "shell.execute_reply": "2021-12-10T07:00:10.303614Z"
    },
    "papermill": {
     "duration": 1.10469,
     "end_time": "2021-12-10T07:00:10.304104",
     "exception": false,
     "start_time": "2021-12-10T07:00:09.199414",
     "status": "completed"
    },
    "tags": []
   },
   "outputs": [],
   "source": [
    "timestamps = pd.read_sql(\"select distinct record_time from EBAY_TOP_BERLIN order by record_time desc limit 2\", sqlite3.connect(\"UsedObjects.db\"))"
   ]
  },
  {
   "cell_type": "code",
   "execution_count": 3,
   "id": "periodic-identification",
   "metadata": {
    "execution": {
     "iopub.execute_input": "2021-12-10T07:00:10.377412Z",
     "iopub.status.busy": "2021-12-10T07:00:10.374996Z",
     "iopub.status.idle": "2021-12-10T07:00:10.398056Z",
     "shell.execute_reply": "2021-12-10T07:00:10.399714Z"
    },
    "papermill": {
     "duration": 0.074248,
     "end_time": "2021-12-10T07:00:10.400272",
     "exception": false,
     "start_time": "2021-12-10T07:00:10.326024",
     "status": "completed"
    },
    "tags": []
   },
   "outputs": [
    {
     "data": {
      "text/html": [
       "<div>\n",
       "<style scoped>\n",
       "    .dataframe tbody tr th:only-of-type {\n",
       "        vertical-align: middle;\n",
       "    }\n",
       "\n",
       "    .dataframe tbody tr th {\n",
       "        vertical-align: top;\n",
       "    }\n",
       "\n",
       "    .dataframe thead th {\n",
       "        text-align: right;\n",
       "    }\n",
       "</style>\n",
       "<table border=\"1\" class=\"dataframe\">\n",
       "  <thead>\n",
       "    <tr style=\"text-align: right;\">\n",
       "      <th></th>\n",
       "      <th>RECORD_TIME</th>\n",
       "    </tr>\n",
       "  </thead>\n",
       "  <tbody>\n",
       "    <tr>\n",
       "      <th>0</th>\n",
       "      <td>2021-12-10 08:00</td>\n",
       "    </tr>\n",
       "    <tr>\n",
       "      <th>1</th>\n",
       "      <td>2021-12-10 07:30</td>\n",
       "    </tr>\n",
       "  </tbody>\n",
       "</table>\n",
       "</div>"
      ],
      "text/plain": [
       "        RECORD_TIME\n",
       "0  2021-12-10 08:00\n",
       "1  2021-12-10 07:30"
      ]
     },
     "execution_count": 3,
     "metadata": {},
     "output_type": "execute_result"
    }
   ],
   "source": [
    "timestamps"
   ]
  },
  {
   "cell_type": "code",
   "execution_count": 4,
   "id": "alternate-victory",
   "metadata": {
    "execution": {
     "iopub.execute_input": "2021-12-10T07:00:10.456105Z",
     "iopub.status.busy": "2021-12-10T07:00:10.454026Z",
     "iopub.status.idle": "2021-12-10T07:00:11.980994Z",
     "shell.execute_reply": "2021-12-10T07:00:11.985203Z"
    },
    "papermill": {
     "duration": 1.564328,
     "end_time": "2021-12-10T07:00:11.986053",
     "exception": false,
     "start_time": "2021-12-10T07:00:10.421725",
     "status": "completed"
    },
    "tags": []
   },
   "outputs": [],
   "source": [
    "df = pd.read_sql(\"select * from EBAY_TOP_BERLIN where record_time in (select distinct record_time from EBAY_TOP_BERLIN order by record_time desc limit 2)\", sqlite3.connect(\"UsedObjects.db\"))"
   ]
  },
  {
   "cell_type": "code",
   "execution_count": 5,
   "id": "popular-active",
   "metadata": {
    "execution": {
     "iopub.execute_input": "2021-12-10T07:00:12.078833Z",
     "iopub.status.busy": "2021-12-10T07:00:12.064154Z",
     "iopub.status.idle": "2021-12-10T07:00:12.096905Z",
     "shell.execute_reply": "2021-12-10T07:00:12.098356Z"
    },
    "papermill": {
     "duration": 0.084729,
     "end_time": "2021-12-10T07:00:12.098805",
     "exception": false,
     "start_time": "2021-12-10T07:00:12.014076",
     "status": "completed"
    },
    "tags": []
   },
   "outputs": [],
   "source": [
    "df_pivot = df.pivot_table(index=\"PRODUCT\", columns = \"RECORD_TIME\", values = \"LISTING_COUNT\")"
   ]
  },
  {
   "cell_type": "code",
   "execution_count": 6,
   "id": "union-huntington",
   "metadata": {
    "execution": {
     "iopub.execute_input": "2021-12-10T07:00:12.157215Z",
     "iopub.status.busy": "2021-12-10T07:00:12.154963Z",
     "iopub.status.idle": "2021-12-10T07:00:12.160457Z",
     "shell.execute_reply": "2021-12-10T07:00:12.161943Z"
    },
    "papermill": {
     "duration": 0.043108,
     "end_time": "2021-12-10T07:00:12.162423",
     "exception": false,
     "start_time": "2021-12-10T07:00:12.119315",
     "status": "completed"
    },
    "tags": []
   },
   "outputs": [],
   "source": [
    "df_pivot.columns = [\"stamp_1\", \"stamp_2\"]\n",
    "df_pivot_diff = df_pivot.diff(axis=1)"
   ]
  },
  {
   "cell_type": "code",
   "execution_count": 7,
   "id": "fifth-motion",
   "metadata": {
    "execution": {
     "iopub.execute_input": "2021-12-10T07:00:12.218230Z",
     "iopub.status.busy": "2021-12-10T07:00:12.215751Z",
     "iopub.status.idle": "2021-12-10T07:00:13.885283Z",
     "shell.execute_reply": "2021-12-10T07:00:13.886662Z"
    },
    "papermill": {
     "duration": 1.704613,
     "end_time": "2021-12-10T07:00:13.887078",
     "exception": false,
     "start_time": "2021-12-10T07:00:12.182465",
     "status": "completed"
    },
    "tags": []
   },
   "outputs": [
    {
     "data": {
      "text/plain": [
       "<AxesSubplot:ylabel='PRODUCT'>"
      ]
     },
     "execution_count": 7,
     "metadata": {},
     "output_type": "execute_result"
    },
    {
     "data": {
      "image/png": "[encoded data removed]",
      "text/plain": [
       "<Figure size 432x288 with 1 Axes>"
      ]
     },
     "metadata": {
      "needs_background": "light"
     },
     "output_type": "display_data"
    }
   ],
   "source": [
    "df_pivot_diff.sort_values(\"stamp_2\", ascending = False)[\"stamp_2\"].head(10).plot.barh()"
   ]
  },
  {
   "cell_type": "code",
   "execution_count": null,
   "id": "extra-executive",
   "metadata": {
    "papermill": {
     "duration": 0.022158,
     "end_time": "2021-12-10T07:00:13.934055",
     "exception": false,
     "start_time": "2021-12-10T07:00:13.911897",
     "status": "completed"
    },
    "tags": []
   },
   "outputs": [],
   "source": []
  }
 ],
 "metadata": {
  "kernelspec": {
   "display_name": "Python 3",
   "language": "python",
   "name": "python3"
  },
  "language_info": {
   "codemirror_mode": {
    "name": "ipython",
    "version": 3
   },
   "file_extension": ".py",
   "mimetype": "text/x-python",
   "name": "python",
   "nbconvert_exporter": "python",
   "pygments_lexer": "ipython3",
   "version": "3.9.5"
  },
  "papermill": {
   "default_parameters": {},
   "duration": 9.951921,
   "end_time": "2021-12-10T07:00:15.438169",
   "environment_variables": {},
   "exception": null,
   "input_path": "eBay_Overview.ipynb",
   "output_path": "eBay_Overview.ipynb",
   "parameters": {},
   "start_time": "2021-12-10T07:00:05.486248",
   "version": "2.3.3"
  }
 },
 "nbformat": 4,
 "nbformat_minor": 5
}