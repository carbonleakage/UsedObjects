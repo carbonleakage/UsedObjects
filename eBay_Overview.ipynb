{
 "cells": [
  {
   "cell_type": "code",
   "execution_count": 1,
   "id": "reverse-picking",
   "metadata": {
    "execution": {
     "iopub.execute_input": "2021-10-07T13:00:07.033264Z",
     "iopub.status.busy": "2021-10-07T13:00:07.031283Z",
     "iopub.status.idle": "2021-10-07T13:00:07.843618Z",
     "shell.execute_reply": "2021-10-07T13:00:07.841830Z"
    },
    "papermill": {
     "duration": 0.863414,
     "end_time": "2021-10-07T13:00:07.844038",
     "exception": false,
     "start_time": "2021-10-07T13:00:06.980624",
     "status": "completed"
    },
    "tags": []
   },
   "outputs": [],
   "source": [
    "import pandas as pd\n",
    "import sqlite3"
   ]
  },
  {
   "cell_type": "code",
   "execution_count": 2,
   "id": "innovative-syndrome",
   "metadata": {
    "execution": {
     "iopub.execute_input": "2021-10-07T13:00:07.896849Z",
     "iopub.status.busy": "2021-10-07T13:00:07.894417Z",
     "iopub.status.idle": "2021-10-07T13:00:08.378743Z",
     "shell.execute_reply": "2021-10-07T13:00:08.380213Z"
    },
    "papermill": {
     "duration": 0.51494,
     "end_time": "2021-10-07T13:00:08.380701",
     "exception": false,
     "start_time": "2021-10-07T13:00:07.865761",
     "status": "completed"
    },
    "tags": []
   },
   "outputs": [],
   "source": [
    "timestamps = pd.read_sql(\"select distinct record_time from EBAY_TOP_BERLIN order by record_time desc limit 2\", sqlite3.connect(\"UsedObjects.db\"))"
   ]
  },
  {
   "cell_type": "code",
   "execution_count": 3,
   "id": "periodic-identification",
   "metadata": {
    "execution": {
     "iopub.execute_input": "2021-10-07T13:00:08.446256Z",
     "iopub.status.busy": "2021-10-07T13:00:08.444243Z",
     "iopub.status.idle": "2021-10-07T13:00:08.464829Z",
     "shell.execute_reply": "2021-10-07T13:00:08.466053Z"
    },
    "papermill": {
     "duration": 0.065391,
     "end_time": "2021-10-07T13:00:08.466452",
     "exception": false,
     "start_time": "2021-10-07T13:00:08.401061",
     "status": "completed"
    },
    "tags": []
   },
   "outputs": [
    {
     "data": {
      "text/html": [
       "<div>\n",
       "<style scoped>\n",
       "    .dataframe tbody tr th:only-of-type {\n",
       "        vertical-align: middle;\n",
       "    }\n",
       "\n",
       "    .dataframe tbody tr th {\n",
       "        vertical-align: top;\n",
       "    }\n",
       "\n",
       "    .dataframe thead th {\n",
       "        text-align: right;\n",
       "    }\n",
       "</style>\n",
       "<table border=\"1\" class=\"dataframe\">\n",
       "  <thead>\n",
       "    <tr style=\"text-align: right;\">\n",
       "      <th></th>\n",
       "      <th>RECORD_TIME</th>\n",
       "    </tr>\n",
       "  </thead>\n",
       "  <tbody>\n",
       "    <tr>\n",
       "      <th>0</th>\n",
       "      <td>2021-10-07 15:00</td>\n",
       "    </tr>\n",
       "    <tr>\n",
       "      <th>1</th>\n",
       "      <td>2021-10-07 14:30</td>\n",
       "    </tr>\n",
       "  </tbody>\n",
       "</table>\n",
       "</div>"
      ],
      "text/plain": [
       "        RECORD_TIME\n",
       "0  2021-10-07 15:00\n",
       "1  2021-10-07 14:30"
      ]
     },
     "execution_count": 3,
     "metadata": {},
     "output_type": "execute_result"
    }
   ],
   "source": [
    "timestamps"
   ]
  },
  {
   "cell_type": "code",
   "execution_count": 4,
   "id": "alternate-victory",
   "metadata": {
    "execution": {
     "iopub.execute_input": "2021-10-07T13:00:08.530603Z",
     "iopub.status.busy": "2021-10-07T13:00:08.528586Z",
     "iopub.status.idle": "2021-10-07T13:00:09.223531Z",
     "shell.execute_reply": "2021-10-07T13:00:09.224772Z"
    },
    "papermill": {
     "duration": 0.730223,
     "end_time": "2021-10-07T13:00:09.225172",
     "exception": false,
     "start_time": "2021-10-07T13:00:08.494949",
     "status": "completed"
    },
    "tags": []
   },
   "outputs": [],
   "source": [
    "df = pd.read_sql(\"select * from EBAY_TOP_BERLIN where record_time in (select distinct record_time from EBAY_TOP_BERLIN order by record_time desc limit 2)\", sqlite3.connect(\"UsedObjects.db\"))"
   ]
  },
  {
   "cell_type": "code",
   "execution_count": 5,
   "id": "popular-active",
   "metadata": {
    "execution": {
     "iopub.execute_input": "2021-10-07T13:00:09.288876Z",
     "iopub.status.busy": "2021-10-07T13:00:09.282860Z",
     "iopub.status.idle": "2021-10-07T13:00:09.310492Z",
     "shell.execute_reply": "2021-10-07T13:00:09.311972Z"
    },
    "papermill": {
     "duration": 0.066708,
     "end_time": "2021-10-07T13:00:09.312423",
     "exception": false,
     "start_time": "2021-10-07T13:00:09.245715",
     "status": "completed"
    },
    "tags": []
   },
   "outputs": [],
   "source": [
    "df_pivot = df.pivot_table(index=\"PRODUCT\", columns = \"RECORD_TIME\", values = \"LISTING_COUNT\")"
   ]
  },
  {
   "cell_type": "code",
   "execution_count": 6,
   "id": "union-huntington",
   "metadata": {
    "execution": {
     "iopub.execute_input": "2021-10-07T13:00:09.370515Z",
     "iopub.status.busy": "2021-10-07T13:00:09.368074Z",
     "iopub.status.idle": "2021-10-07T13:00:09.374157Z",
     "shell.execute_reply": "2021-10-07T13:00:09.375502Z"
    },
    "papermill": {
     "duration": 0.042785,
     "end_time": "2021-10-07T13:00:09.375959",
     "exception": false,
     "start_time": "2021-10-07T13:00:09.333174",
     "status": "completed"
    },
    "tags": []
   },
   "outputs": [],
   "source": [
    "df_pivot.columns = [\"stamp_1\", \"stamp_2\"]\n",
    "df_pivot_diff = df_pivot.diff(axis=1)"
   ]
  },
  {
   "cell_type": "code",
   "execution_count": 7,
   "id": "fifth-motion",
   "metadata": {
    "execution": {
     "iopub.execute_input": "2021-10-07T13:00:09.431363Z",
     "iopub.status.busy": "2021-10-07T13:00:09.428976Z",
     "iopub.status.idle": "2021-10-07T13:00:10.926005Z",
     "shell.execute_reply": "2021-10-07T13:00:10.927555Z"
    },
    "papermill": {
     "duration": 1.530064,
     "end_time": "2021-10-07T13:00:10.928036",
     "exception": false,
     "start_time": "2021-10-07T13:00:09.397972",
     "status": "completed"
    },
    "tags": []
   },
   "outputs": [
    {
     "data": {
      "text/plain": [
       "<AxesSubplot:ylabel='PRODUCT'>"
      ]
     },
     "execution_count": 7,
     "metadata": {},
     "output_type": "execute_result"
    },
    {
     "data": {
      "image/png": "[encoded data removed]",
      "text/plain": [
       "<Figure size 432x288 with 1 Axes>"
      ]
     },
     "metadata": {
      "needs_background": "light"
     },
     "output_type": "display_data"
    }
   ],
   "source": [
    "df_pivot_diff.sort_values(\"stamp_2\", ascending = False)[\"stamp_2\"].head(10).plot.barh()"
   ]
  },
  {
   "cell_type": "code",
   "execution_count": null,
   "id": "extra-executive",
   "metadata": {
    "papermill": {
     "duration": 0.022502,
     "end_time": "2021-10-07T13:00:10.975536",
     "exception": false,
     "start_time": "2021-10-07T13:00:10.953034",
     "status": "completed"
    },
    "tags": []
   },
   "outputs": [],
   "source": []
  }
 ],
 "metadata": {
  "kernelspec": {
   "display_name": "Python 3",
   "language": "python",
   "name": "python3"
  },
  "language_info": {
   "codemirror_mode": {
    "name": "ipython",
    "version": 3
   },
   "file_extension": ".py",
   "mimetype": "text/x-python",
   "name": "python",
   "nbconvert_exporter": "python",
   "pygments_lexer": "ipython3",
   "version": "3.9.5"
  },
  "papermill": {
   "default_parameters": {},
   "duration": 7.842415,
   "end_time": "2021-10-07T13:00:12.401150",
   "environment_variables": {},
   "exception": null,
   "input_path": "eBay_Overview.ipynb",
   "output_path": "eBay_Overview.ipynb",
   "parameters": {},
   "start_time": "2021-10-07T13:00:04.558735",
   "version": "2.3.3"
  }
 },
 "nbformat": 4,
 "nbformat_minor": 5
}