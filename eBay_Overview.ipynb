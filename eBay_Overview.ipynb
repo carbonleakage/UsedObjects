{
 "cells": [
  {
   "cell_type": "code",
   "execution_count": 1,
   "id": "reverse-picking",
   "metadata": {
    "execution": {
     "iopub.execute_input": "2021-12-10T04:30:07.783974Z",
     "iopub.status.busy": "2021-12-10T04:30:07.780552Z",
     "iopub.status.idle": "2021-12-10T04:30:08.748226Z",
     "shell.execute_reply": "2021-12-10T04:30:08.745658Z"
    },
    "papermill": {
     "duration": 1.015666,
     "end_time": "2021-12-10T04:30:08.748891",
     "exception": false,
     "start_time": "2021-12-10T04:30:07.733225",
     "status": "completed"
    },
    "tags": []
   },
   "outputs": [],
   "source": [
    "import pandas as pd\n",
    "import sqlite3"
   ]
  },
  {
   "cell_type": "code",
   "execution_count": 2,
   "id": "innovative-syndrome",
   "metadata": {
    "execution": {
     "iopub.execute_input": "2021-12-10T04:30:08.815949Z",
     "iopub.status.busy": "2021-12-10T04:30:08.814075Z",
     "iopub.status.idle": "2021-12-10T04:30:09.872563Z",
     "shell.execute_reply": "2021-12-10T04:30:09.874203Z"
    },
    "papermill": {
     "duration": 1.092784,
     "end_time": "2021-12-10T04:30:09.874722",
     "exception": false,
     "start_time": "2021-12-10T04:30:08.781938",
     "status": "completed"
    },
    "tags": []
   },
   "outputs": [],
   "source": [
    "timestamps = pd.read_sql(\"select distinct record_time from EBAY_TOP_BERLIN order by record_time desc limit 2\", sqlite3.connect(\"UsedObjects.db\"))"
   ]
  },
  {
   "cell_type": "code",
   "execution_count": 3,
   "id": "periodic-identification",
   "metadata": {
    "execution": {
     "iopub.execute_input": "2021-12-10T04:30:09.948722Z",
     "iopub.status.busy": "2021-12-10T04:30:09.946434Z",
     "iopub.status.idle": "2021-12-10T04:30:09.968284Z",
     "shell.execute_reply": "2021-12-10T04:30:09.969684Z"
    },
    "papermill": {
     "duration": 0.07426,
     "end_time": "2021-12-10T04:30:09.970160",
     "exception": false,
     "start_time": "2021-12-10T04:30:09.895900",
     "status": "completed"
    },
    "tags": []
   },
   "outputs": [
    {
     "data": {
      "text/html": [
       "<div>\n",
       "<style scoped>\n",
       "    .dataframe tbody tr th:only-of-type {\n",
       "        vertical-align: middle;\n",
       "    }\n",
       "\n",
       "    .dataframe tbody tr th {\n",
       "        vertical-align: top;\n",
       "    }\n",
       "\n",
       "    .dataframe thead th {\n",
       "        text-align: right;\n",
       "    }\n",
       "</style>\n",
       "<table border=\"1\" class=\"dataframe\">\n",
       "  <thead>\n",
       "    <tr style=\"text-align: right;\">\n",
       "      <th></th>\n",
       "      <th>RECORD_TIME</th>\n",
       "    </tr>\n",
       "  </thead>\n",
       "  <tbody>\n",
       "    <tr>\n",
       "      <th>0</th>\n",
       "      <td>2021-12-10 05:30</td>\n",
       "    </tr>\n",
       "    <tr>\n",
       "      <th>1</th>\n",
       "      <td>2021-12-10 05:00</td>\n",
       "    </tr>\n",
       "  </tbody>\n",
       "</table>\n",
       "</div>"
      ],
      "text/plain": [
       "        RECORD_TIME\n",
       "0  2021-12-10 05:30\n",
       "1  2021-12-10 05:00"
      ]
     },
     "execution_count": 3,
     "metadata": {},
     "output_type": "execute_result"
    }
   ],
   "source": [
    "timestamps"
   ]
  },
  {
   "cell_type": "code",
   "execution_count": 4,
   "id": "alternate-victory",
   "metadata": {
    "execution": {
     "iopub.execute_input": "2021-12-10T04:30:10.023877Z",
     "iopub.status.busy": "2021-12-10T04:30:10.021924Z",
     "iopub.status.idle": "2021-12-10T04:30:11.546139Z",
     "shell.execute_reply": "2021-12-10T04:30:11.548937Z"
    },
    "papermill": {
     "duration": 1.558195,
     "end_time": "2021-12-10T04:30:11.549698",
     "exception": false,
     "start_time": "2021-12-10T04:30:09.991503",
     "status": "completed"
    },
    "tags": []
   },
   "outputs": [],
   "source": [
    "df = pd.read_sql(\"select * from EBAY_TOP_BERLIN where record_time in (select distinct record_time from EBAY_TOP_BERLIN order by record_time desc limit 2)\", sqlite3.connect(\"UsedObjects.db\"))"
   ]
  },
  {
   "cell_type": "code",
   "execution_count": 5,
   "id": "popular-active",
   "metadata": {
    "execution": {
     "iopub.execute_input": "2021-12-10T04:30:11.653413Z",
     "iopub.status.busy": "2021-12-10T04:30:11.643646Z",
     "iopub.status.idle": "2021-12-10T04:30:11.696521Z",
     "shell.execute_reply": "2021-12-10T04:30:11.699730Z"
    },
    "papermill": {
     "duration": 0.116478,
     "end_time": "2021-12-10T04:30:11.700600",
     "exception": false,
     "start_time": "2021-12-10T04:30:11.584122",
     "status": "completed"
    },
    "tags": []
   },
   "outputs": [],
   "source": [
    "df_pivot = df.pivot_table(index=\"PRODUCT\", columns = \"RECORD_TIME\", values = \"LISTING_COUNT\")"
   ]
  },
  {
   "cell_type": "code",
   "execution_count": 6,
   "id": "union-huntington",
   "metadata": {
    "execution": {
     "iopub.execute_input": "2021-12-10T04:30:11.794940Z",
     "iopub.status.busy": "2021-12-10T04:30:11.791544Z",
     "iopub.status.idle": "2021-12-10T04:30:11.800339Z",
     "shell.execute_reply": "2021-12-10T04:30:11.802414Z"
    },
    "papermill": {
     "duration": 0.06973,
     "end_time": "2021-12-10T04:30:11.803058",
     "exception": false,
     "start_time": "2021-12-10T04:30:11.733328",
     "status": "completed"
    },
    "tags": []
   },
   "outputs": [],
   "source": [
    "df_pivot.columns = [\"stamp_1\", \"stamp_2\"]\n",
    "df_pivot_diff = df_pivot.diff(axis=1)"
   ]
  },
  {
   "cell_type": "code",
   "execution_count": 7,
   "id": "fifth-motion",
   "metadata": {
    "execution": {
     "iopub.execute_input": "2021-12-10T04:30:11.871754Z",
     "iopub.status.busy": "2021-12-10T04:30:11.868854Z",
     "iopub.status.idle": "2021-12-10T04:30:13.622640Z",
     "shell.execute_reply": "2021-12-10T04:30:13.624008Z"
    },
    "papermill": {
     "duration": 1.796843,
     "end_time": "2021-12-10T04:30:13.624457",
     "exception": false,
     "start_time": "2021-12-10T04:30:11.827614",
     "status": "completed"
    },
    "tags": []
   },
   "outputs": [
    {
     "data": {
      "text/plain": [
       "<AxesSubplot:ylabel='PRODUCT'>"
      ]
     },
     "execution_count": 7,
     "metadata": {},
     "output_type": "execute_result"
    },
    {
     "data": {
      "image/png": "[encoded data removed]",
      "text/plain": [
       "<Figure size 432x288 with 1 Axes>"
      ]
     },
     "metadata": {
      "needs_background": "light"
     },
     "output_type": "display_data"
    }
   ],
   "source": [
    "df_pivot_diff.sort_values(\"stamp_2\", ascending = False)[\"stamp_2\"].head(10).plot.barh()"
   ]
  },
  {
   "cell_type": "code",
   "execution_count": null,
   "id": "extra-executive",
   "metadata": {
    "papermill": {
     "duration": 0.022178,
     "end_time": "2021-12-10T04:30:13.670983",
     "exception": false,
     "start_time": "2021-12-10T04:30:13.648805",
     "status": "completed"
    },
    "tags": []
   },
   "outputs": [],
   "source": []
  }
 ],
 "metadata": {
  "kernelspec": {
   "display_name": "Python 3",
   "language": "python",
   "name": "python3"
  },
  "language_info": {
   "codemirror_mode": {
    "name": "ipython",
    "version": 3
   },
   "file_extension": ".py",
   "mimetype": "text/x-python",
   "name": "python",
   "nbconvert_exporter": "python",
   "pygments_lexer": "ipython3",
   "version": "3.9.5"
  },
  "papermill": {
   "default_parameters": {},
   "duration": 9.947793,
   "end_time": "2021-12-10T04:30:14.932180",
   "environment_variables": {},
   "exception": null,
   "input_path": "eBay_Overview.ipynb",
   "output_path": "eBay_Overview.ipynb",
   "parameters": {},
   "start_time": "2021-12-10T04:30:04.984387",
   "version": "2.3.3"
  }
 },
 "nbformat": 4,
 "nbformat_minor": 5
}