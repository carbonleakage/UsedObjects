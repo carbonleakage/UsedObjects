{
 "cells": [
  {
   "cell_type": "code",
   "execution_count": 1,
   "id": "reverse-picking",
   "metadata": {
    "execution": {
     "iopub.execute_input": "2021-11-10T22:00:07.461300Z",
     "iopub.status.busy": "2021-11-10T22:00:07.443199Z",
     "iopub.status.idle": "2021-11-10T22:00:08.417920Z",
     "shell.execute_reply": "2021-11-10T22:00:08.419485Z"
    },
    "papermill": {
     "duration": 1.006941,
     "end_time": "2021-11-10T22:00:08.420219",
     "exception": false,
     "start_time": "2021-11-10T22:00:07.413278",
     "status": "completed"
    },
    "tags": []
   },
   "outputs": [],
   "source": [
    "import pandas as pd\n",
    "import sqlite3"
   ]
  },
  {
   "cell_type": "code",
   "execution_count": 2,
   "id": "innovative-syndrome",
   "metadata": {
    "execution": {
     "iopub.execute_input": "2021-11-10T22:00:08.481605Z",
     "iopub.status.busy": "2021-11-10T22:00:08.479346Z",
     "iopub.status.idle": "2021-11-10T22:00:09.271654Z",
     "shell.execute_reply": "2021-11-10T22:00:09.273312Z"
    },
    "papermill": {
     "duration": 0.825933,
     "end_time": "2021-11-10T22:00:09.273821",
     "exception": false,
     "start_time": "2021-11-10T22:00:08.447888",
     "status": "completed"
    },
    "tags": []
   },
   "outputs": [],
   "source": [
    "timestamps = pd.read_sql(\"select distinct record_time from EBAY_TOP_BERLIN order by record_time desc limit 2\", sqlite3.connect(\"UsedObjects.db\"))"
   ]
  },
  {
   "cell_type": "code",
   "execution_count": 3,
   "id": "periodic-identification",
   "metadata": {
    "execution": {
     "iopub.execute_input": "2021-11-10T22:00:09.347977Z",
     "iopub.status.busy": "2021-11-10T22:00:09.345630Z",
     "iopub.status.idle": "2021-11-10T22:00:09.370322Z",
     "shell.execute_reply": "2021-11-10T22:00:09.371915Z"
    },
    "papermill": {
     "duration": 0.077843,
     "end_time": "2021-11-10T22:00:09.372490",
     "exception": false,
     "start_time": "2021-11-10T22:00:09.294647",
     "status": "completed"
    },
    "tags": []
   },
   "outputs": [
    {
     "data": {
      "text/html": [
       "<div>\n",
       "<style scoped>\n",
       "    .dataframe tbody tr th:only-of-type {\n",
       "        vertical-align: middle;\n",
       "    }\n",
       "\n",
       "    .dataframe tbody tr th {\n",
       "        vertical-align: top;\n",
       "    }\n",
       "\n",
       "    .dataframe thead th {\n",
       "        text-align: right;\n",
       "    }\n",
       "</style>\n",
       "<table border=\"1\" class=\"dataframe\">\n",
       "  <thead>\n",
       "    <tr style=\"text-align: right;\">\n",
       "      <th></th>\n",
       "      <th>RECORD_TIME</th>\n",
       "    </tr>\n",
       "  </thead>\n",
       "  <tbody>\n",
       "    <tr>\n",
       "      <th>0</th>\n",
       "      <td>2021-11-10 23:00</td>\n",
       "    </tr>\n",
       "    <tr>\n",
       "      <th>1</th>\n",
       "      <td>2021-11-10 22:30</td>\n",
       "    </tr>\n",
       "  </tbody>\n",
       "</table>\n",
       "</div>"
      ],
      "text/plain": [
       "        RECORD_TIME\n",
       "0  2021-11-10 23:00\n",
       "1  2021-11-10 22:30"
      ]
     },
     "execution_count": 3,
     "metadata": {},
     "output_type": "execute_result"
    }
   ],
   "source": [
    "timestamps"
   ]
  },
  {
   "cell_type": "code",
   "execution_count": 4,
   "id": "alternate-victory",
   "metadata": {
    "execution": {
     "iopub.execute_input": "2021-11-10T22:00:09.428875Z",
     "iopub.status.busy": "2021-11-10T22:00:09.426592Z",
     "iopub.status.idle": "2021-11-10T22:00:10.556388Z",
     "shell.execute_reply": "2021-11-10T22:00:10.557912Z"
    },
    "papermill": {
     "duration": 1.16345,
     "end_time": "2021-11-10T22:00:10.558396",
     "exception": false,
     "start_time": "2021-11-10T22:00:09.394946",
     "status": "completed"
    },
    "tags": []
   },
   "outputs": [],
   "source": [
    "df = pd.read_sql(\"select * from EBAY_TOP_BERLIN where record_time in (select distinct record_time from EBAY_TOP_BERLIN order by record_time desc limit 2)\", sqlite3.connect(\"UsedObjects.db\"))"
   ]
  },
  {
   "cell_type": "code",
   "execution_count": 5,
   "id": "popular-active",
   "metadata": {
    "execution": {
     "iopub.execute_input": "2021-11-10T22:00:10.621478Z",
     "iopub.status.busy": "2021-11-10T22:00:10.618872Z",
     "iopub.status.idle": "2021-11-10T22:00:10.651952Z",
     "shell.execute_reply": "2021-11-10T22:00:10.653413Z"
    },
    "papermill": {
     "duration": 0.074763,
     "end_time": "2021-11-10T22:00:10.653931",
     "exception": false,
     "start_time": "2021-11-10T22:00:10.579168",
     "status": "completed"
    },
    "tags": []
   },
   "outputs": [],
   "source": [
    "df_pivot = df.pivot_table(index=\"PRODUCT\", columns = \"RECORD_TIME\", values = \"LISTING_COUNT\")"
   ]
  },
  {
   "cell_type": "code",
   "execution_count": 6,
   "id": "union-huntington",
   "metadata": {
    "execution": {
     "iopub.execute_input": "2021-11-10T22:00:10.739928Z",
     "iopub.status.busy": "2021-11-10T22:00:10.736295Z",
     "iopub.status.idle": "2021-11-10T22:00:10.749519Z",
     "shell.execute_reply": "2021-11-10T22:00:10.746840Z"
    },
    "papermill": {
     "duration": 0.072665,
     "end_time": "2021-11-10T22:00:10.750075",
     "exception": false,
     "start_time": "2021-11-10T22:00:10.677410",
     "status": "completed"
    },
    "tags": []
   },
   "outputs": [],
   "source": [
    "df_pivot.columns = [\"stamp_1\", \"stamp_2\"]\n",
    "df_pivot_diff = df_pivot.diff(axis=1)"
   ]
  },
  {
   "cell_type": "code",
   "execution_count": 7,
   "id": "fifth-motion",
   "metadata": {
    "execution": {
     "iopub.execute_input": "2021-11-10T22:00:10.811387Z",
     "iopub.status.busy": "2021-11-10T22:00:10.808613Z",
     "iopub.status.idle": "2021-11-10T22:00:12.668001Z",
     "shell.execute_reply": "2021-11-10T22:00:12.669935Z"
    },
    "papermill": {
     "duration": 1.897536,
     "end_time": "2021-11-10T22:00:12.670530",
     "exception": false,
     "start_time": "2021-11-10T22:00:10.772994",
     "status": "completed"
    },
    "tags": []
   },
   "outputs": [
    {
     "data": {
      "text/plain": [
       "<AxesSubplot:ylabel='PRODUCT'>"
      ]
     },
     "execution_count": 7,
     "metadata": {},
     "output_type": "execute_result"
    },
    {
     "data": {
      "image/png": "[encoded data removed]",
      "text/plain": [
       "<Figure size 432x288 with 1 Axes>"
      ]
     },
     "metadata": {
      "needs_background": "light"
     },
     "output_type": "display_data"
    }
   ],
   "source": [
    "df_pivot_diff.sort_values(\"stamp_2\", ascending = False)[\"stamp_2\"].head(10).plot.barh()"
   ]
  },
  {
   "cell_type": "code",
   "execution_count": null,
   "id": "extra-executive",
   "metadata": {
    "papermill": {
     "duration": 0.036726,
     "end_time": "2021-11-10T22:00:12.740804",
     "exception": false,
     "start_time": "2021-11-10T22:00:12.704078",
     "status": "completed"
    },
    "tags": []
   },
   "outputs": [],
   "source": []
  }
 ],
 "metadata": {
  "kernelspec": {
   "display_name": "Python 3",
   "language": "python",
   "name": "python3"
  },
  "language_info": {
   "codemirror_mode": {
    "name": "ipython",
    "version": 3
   },
   "file_extension": ".py",
   "mimetype": "text/x-python",
   "name": "python",
   "nbconvert_exporter": "python",
   "pygments_lexer": "ipython3",
   "version": "3.9.5"
  },
  "papermill": {
   "default_parameters": {},
   "duration": 8.924524,
   "end_time": "2021-11-10T22:00:13.615627",
   "environment_variables": {},
   "exception": null,
   "input_path": "eBay_Overview.ipynb",
   "output_path": "eBay_Overview.ipynb",
   "parameters": {},
   "start_time": "2021-11-10T22:00:04.691103",
   "version": "2.3.3"
  }
 },
 "nbformat": 4,
 "nbformat_minor": 5
}