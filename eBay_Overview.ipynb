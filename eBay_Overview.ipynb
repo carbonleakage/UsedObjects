{
 "cells": [
  {
   "cell_type": "code",
   "execution_count": 1,
   "id": "reverse-picking",
   "metadata": {
    "execution": {
     "iopub.execute_input": "2021-12-18T00:00:08.139454Z",
     "iopub.status.busy": "2021-12-18T00:00:08.131331Z",
     "iopub.status.idle": "2021-12-18T00:00:09.093858Z",
     "shell.execute_reply": "2021-12-18T00:00:09.095615Z"
    },
    "papermill": {
     "duration": 1.00742,
     "end_time": "2021-12-18T00:00:09.096365",
     "exception": false,
     "start_time": "2021-12-18T00:00:08.088945",
     "status": "completed"
    },
    "tags": []
   },
   "outputs": [],
   "source": [
    "import pandas as pd\n",
    "import sqlite3"
   ]
  },
  {
   "cell_type": "code",
   "execution_count": 2,
   "id": "innovative-syndrome",
   "metadata": {
    "execution": {
     "iopub.execute_input": "2021-12-18T00:00:09.221786Z",
     "iopub.status.busy": "2021-12-18T00:00:09.219426Z",
     "iopub.status.idle": "2021-12-18T00:00:10.330492Z",
     "shell.execute_reply": "2021-12-18T00:00:10.331682Z"
    },
    "papermill": {
     "duration": 1.145214,
     "end_time": "2021-12-18T00:00:10.332076",
     "exception": false,
     "start_time": "2021-12-18T00:00:09.186862",
     "status": "completed"
    },
    "tags": []
   },
   "outputs": [],
   "source": [
    "timestamps = pd.read_sql(\"select distinct record_time from EBAY_TOP_BERLIN order by record_time desc limit 2\", sqlite3.connect(\"UsedObjects.db\"))"
   ]
  },
  {
   "cell_type": "code",
   "execution_count": 3,
   "id": "periodic-identification",
   "metadata": {
    "execution": {
     "iopub.execute_input": "2021-12-18T00:00:10.399634Z",
     "iopub.status.busy": "2021-12-18T00:00:10.394121Z",
     "iopub.status.idle": "2021-12-18T00:00:10.418038Z",
     "shell.execute_reply": "2021-12-18T00:00:10.419467Z"
    },
    "papermill": {
     "duration": 0.068009,
     "end_time": "2021-12-18T00:00:10.419919",
     "exception": false,
     "start_time": "2021-12-18T00:00:10.351910",
     "status": "completed"
    },
    "tags": []
   },
   "outputs": [
    {
     "data": {
      "text/html": [
       "<div>\n",
       "<style scoped>\n",
       "    .dataframe tbody tr th:only-of-type {\n",
       "        vertical-align: middle;\n",
       "    }\n",
       "\n",
       "    .dataframe tbody tr th {\n",
       "        vertical-align: top;\n",
       "    }\n",
       "\n",
       "    .dataframe thead th {\n",
       "        text-align: right;\n",
       "    }\n",
       "</style>\n",
       "<table border=\"1\" class=\"dataframe\">\n",
       "  <thead>\n",
       "    <tr style=\"text-align: right;\">\n",
       "      <th></th>\n",
       "      <th>RECORD_TIME</th>\n",
       "    </tr>\n",
       "  </thead>\n",
       "  <tbody>\n",
       "    <tr>\n",
       "      <th>0</th>\n",
       "      <td>2021-12-18 01:00</td>\n",
       "    </tr>\n",
       "    <tr>\n",
       "      <th>1</th>\n",
       "      <td>2021-12-18 00:30</td>\n",
       "    </tr>\n",
       "  </tbody>\n",
       "</table>\n",
       "</div>"
      ],
      "text/plain": [
       "        RECORD_TIME\n",
       "0  2021-12-18 01:00\n",
       "1  2021-12-18 00:30"
      ]
     },
     "execution_count": 3,
     "metadata": {},
     "output_type": "execute_result"
    }
   ],
   "source": [
    "timestamps"
   ]
  },
  {
   "cell_type": "code",
   "execution_count": 4,
   "id": "alternate-victory",
   "metadata": {
    "execution": {
     "iopub.execute_input": "2021-12-18T00:00:10.474568Z",
     "iopub.status.busy": "2021-12-18T00:00:10.467394Z",
     "iopub.status.idle": "2021-12-18T00:00:12.118637Z",
     "shell.execute_reply": "2021-12-18T00:00:12.120092Z"
    },
    "papermill": {
     "duration": 1.680372,
     "end_time": "2021-12-18T00:00:12.120557",
     "exception": false,
     "start_time": "2021-12-18T00:00:10.440185",
     "status": "completed"
    },
    "tags": []
   },
   "outputs": [],
   "source": [
    "df = pd.read_sql(\"select * from EBAY_TOP_BERLIN where record_time in (select distinct record_time from EBAY_TOP_BERLIN order by record_time desc limit 2)\", sqlite3.connect(\"UsedObjects.db\"))"
   ]
  },
  {
   "cell_type": "code",
   "execution_count": 5,
   "id": "popular-active",
   "metadata": {
    "execution": {
     "iopub.execute_input": "2021-12-18T00:00:12.185559Z",
     "iopub.status.busy": "2021-12-18T00:00:12.183291Z",
     "iopub.status.idle": "2021-12-18T00:00:12.215911Z",
     "shell.execute_reply": "2021-12-18T00:00:12.217342Z"
    },
    "papermill": {
     "duration": 0.076079,
     "end_time": "2021-12-18T00:00:12.217818",
     "exception": false,
     "start_time": "2021-12-18T00:00:12.141739",
     "status": "completed"
    },
    "tags": []
   },
   "outputs": [],
   "source": [
    "df_pivot = df.pivot_table(index=\"PRODUCT\", columns = \"RECORD_TIME\", values = \"LISTING_COUNT\")"
   ]
  },
  {
   "cell_type": "code",
   "execution_count": 6,
   "id": "union-huntington",
   "metadata": {
    "execution": {
     "iopub.execute_input": "2021-12-18T00:00:12.277067Z",
     "iopub.status.busy": "2021-12-18T00:00:12.274780Z",
     "iopub.status.idle": "2021-12-18T00:00:12.280012Z",
     "shell.execute_reply": "2021-12-18T00:00:12.281428Z"
    },
    "papermill": {
     "duration": 0.044055,
     "end_time": "2021-12-18T00:00:12.281908",
     "exception": false,
     "start_time": "2021-12-18T00:00:12.237853",
     "status": "completed"
    },
    "tags": []
   },
   "outputs": [],
   "source": [
    "df_pivot.columns = [\"stamp_1\", \"stamp_2\"]\n",
    "df_pivot_diff = df_pivot.diff(axis=1)"
   ]
  },
  {
   "cell_type": "code",
   "execution_count": 7,
   "id": "fifth-motion",
   "metadata": {
    "execution": {
     "iopub.execute_input": "2021-12-18T00:00:12.341863Z",
     "iopub.status.busy": "2021-12-18T00:00:12.339197Z",
     "iopub.status.idle": "2021-12-18T00:00:14.333262Z",
     "shell.execute_reply": "2021-12-18T00:00:14.334569Z"
    },
    "papermill": {
     "duration": 2.031669,
     "end_time": "2021-12-18T00:00:14.334988",
     "exception": false,
     "start_time": "2021-12-18T00:00:12.303319",
     "status": "completed"
    },
    "tags": []
   },
   "outputs": [
    {
     "data": {
      "text/plain": [
       "<AxesSubplot:ylabel='PRODUCT'>"
      ]
     },
     "execution_count": 7,
     "metadata": {},
     "output_type": "execute_result"
    },
    {
     "data": {
      "image/png": "[encoded data removed]",
      "text/plain": [
       "<Figure size 432x288 with 1 Axes>"
      ]
     },
     "metadata": {
      "needs_background": "light"
     },
     "output_type": "display_data"
    }
   ],
   "source": [
    "df_pivot_diff.sort_values(\"stamp_2\", ascending = False)[\"stamp_2\"].head(10).plot.barh()"
   ]
  },
  {
   "cell_type": "code",
   "execution_count": null,
   "id": "extra-executive",
   "metadata": {
    "papermill": {
     "duration": 0.022408,
     "end_time": "2021-12-18T00:00:14.445437",
     "exception": false,
     "start_time": "2021-12-18T00:00:14.423029",
     "status": "completed"
    },
    "tags": []
   },
   "outputs": [],
   "source": []
  }
 ],
 "metadata": {
  "kernelspec": {
   "display_name": "Python 3",
   "language": "python",
   "name": "python3"
  },
  "language_info": {
   "codemirror_mode": {
    "name": "ipython",
    "version": 3
   },
   "file_extension": ".py",
   "mimetype": "text/x-python",
   "name": "python",
   "nbconvert_exporter": "python",
   "pygments_lexer": "ipython3",
   "version": "3.9.5"
  },
  "papermill": {
   "default_parameters": {},
   "duration": 9.752089,
   "end_time": "2021-12-18T00:00:15.102796",
   "environment_variables": {},
   "exception": null,
   "input_path": "eBay_Overview.ipynb",
   "output_path": "eBay_Overview.ipynb",
   "parameters": {},
   "start_time": "2021-12-18T00:00:05.350707",
   "version": "2.3.3"
  }
 },
 "nbformat": 4,
 "nbformat_minor": 5
}