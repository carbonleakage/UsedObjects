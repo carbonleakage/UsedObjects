{
 "cells": [
  {
   "cell_type": "code",
   "execution_count": 1,
   "id": "reverse-picking",
   "metadata": {
    "execution": {
     "iopub.execute_input": "2021-10-21T08:30:07.450680Z",
     "iopub.status.busy": "2021-10-21T08:30:07.448634Z",
     "iopub.status.idle": "2021-10-21T08:30:08.258824Z",
     "shell.execute_reply": "2021-10-21T08:30:08.260094Z"
    },
    "papermill": {
     "duration": 0.863146,
     "end_time": "2021-10-21T08:30:08.260896",
     "exception": false,
     "start_time": "2021-10-21T08:30:07.397750",
     "status": "completed"
    },
    "tags": []
   },
   "outputs": [],
   "source": [
    "import pandas as pd\n",
    "import sqlite3"
   ]
  },
  {
   "cell_type": "code",
   "execution_count": 2,
   "id": "innovative-syndrome",
   "metadata": {
    "execution": {
     "iopub.execute_input": "2021-10-21T08:30:08.314133Z",
     "iopub.status.busy": "2021-10-21T08:30:08.311734Z",
     "iopub.status.idle": "2021-10-21T08:30:08.912405Z",
     "shell.execute_reply": "2021-10-21T08:30:08.913928Z"
    },
    "papermill": {
     "duration": 0.631104,
     "end_time": "2021-10-21T08:30:08.914373",
     "exception": false,
     "start_time": "2021-10-21T08:30:08.283269",
     "status": "completed"
    },
    "tags": []
   },
   "outputs": [],
   "source": [
    "timestamps = pd.read_sql(\"select distinct record_time from EBAY_TOP_BERLIN order by record_time desc limit 2\", sqlite3.connect(\"UsedObjects.db\"))"
   ]
  },
  {
   "cell_type": "code",
   "execution_count": 3,
   "id": "periodic-identification",
   "metadata": {
    "execution": {
     "iopub.execute_input": "2021-10-21T08:30:08.997288Z",
     "iopub.status.busy": "2021-10-21T08:30:08.991929Z",
     "iopub.status.idle": "2021-10-21T08:30:09.012235Z",
     "shell.execute_reply": "2021-10-21T08:30:09.013695Z"
    },
    "papermill": {
     "duration": 0.071936,
     "end_time": "2021-10-21T08:30:09.014141",
     "exception": false,
     "start_time": "2021-10-21T08:30:08.942205",
     "status": "completed"
    },
    "tags": []
   },
   "outputs": [
    {
     "data": {
      "text/html": [
       "<div>\n",
       "<style scoped>\n",
       "    .dataframe tbody tr th:only-of-type {\n",
       "        vertical-align: middle;\n",
       "    }\n",
       "\n",
       "    .dataframe tbody tr th {\n",
       "        vertical-align: top;\n",
       "    }\n",
       "\n",
       "    .dataframe thead th {\n",
       "        text-align: right;\n",
       "    }\n",
       "</style>\n",
       "<table border=\"1\" class=\"dataframe\">\n",
       "  <thead>\n",
       "    <tr style=\"text-align: right;\">\n",
       "      <th></th>\n",
       "      <th>RECORD_TIME</th>\n",
       "    </tr>\n",
       "  </thead>\n",
       "  <tbody>\n",
       "    <tr>\n",
       "      <th>0</th>\n",
       "      <td>2021-10-21 10:30</td>\n",
       "    </tr>\n",
       "    <tr>\n",
       "      <th>1</th>\n",
       "      <td>2021-10-21 10:00</td>\n",
       "    </tr>\n",
       "  </tbody>\n",
       "</table>\n",
       "</div>"
      ],
      "text/plain": [
       "        RECORD_TIME\n",
       "0  2021-10-21 10:30\n",
       "1  2021-10-21 10:00"
      ]
     },
     "execution_count": 3,
     "metadata": {},
     "output_type": "execute_result"
    }
   ],
   "source": [
    "timestamps"
   ]
  },
  {
   "cell_type": "code",
   "execution_count": 4,
   "id": "alternate-victory",
   "metadata": {
    "execution": {
     "iopub.execute_input": "2021-10-21T08:30:09.066040Z",
     "iopub.status.busy": "2021-10-21T08:30:09.064052Z",
     "iopub.status.idle": "2021-10-21T08:30:09.942971Z",
     "shell.execute_reply": "2021-10-21T08:30:09.944283Z"
    },
    "papermill": {
     "duration": 0.909182,
     "end_time": "2021-10-21T08:30:09.944755",
     "exception": false,
     "start_time": "2021-10-21T08:30:09.035573",
     "status": "completed"
    },
    "tags": []
   },
   "outputs": [],
   "source": [
    "df = pd.read_sql(\"select * from EBAY_TOP_BERLIN where record_time in (select distinct record_time from EBAY_TOP_BERLIN order by record_time desc limit 2)\", sqlite3.connect(\"UsedObjects.db\"))"
   ]
  },
  {
   "cell_type": "code",
   "execution_count": 5,
   "id": "popular-active",
   "metadata": {
    "execution": {
     "iopub.execute_input": "2021-10-21T08:30:10.010684Z",
     "iopub.status.busy": "2021-10-21T08:30:10.003086Z",
     "iopub.status.idle": "2021-10-21T08:30:10.032250Z",
     "shell.execute_reply": "2021-10-21T08:30:10.033838Z"
    },
    "papermill": {
     "duration": 0.069008,
     "end_time": "2021-10-21T08:30:10.034269",
     "exception": false,
     "start_time": "2021-10-21T08:30:09.965261",
     "status": "completed"
    },
    "tags": []
   },
   "outputs": [],
   "source": [
    "df_pivot = df.pivot_table(index=\"PRODUCT\", columns = \"RECORD_TIME\", values = \"LISTING_COUNT\")"
   ]
  },
  {
   "cell_type": "code",
   "execution_count": 6,
   "id": "union-huntington",
   "metadata": {
    "execution": {
     "iopub.execute_input": "2021-10-21T08:30:10.091456Z",
     "iopub.status.busy": "2021-10-21T08:30:10.088965Z",
     "iopub.status.idle": "2021-10-21T08:30:10.094783Z",
     "shell.execute_reply": "2021-10-21T08:30:10.096086Z"
    },
    "papermill": {
     "duration": 0.042306,
     "end_time": "2021-10-21T08:30:10.096498",
     "exception": false,
     "start_time": "2021-10-21T08:30:10.054192",
     "status": "completed"
    },
    "tags": []
   },
   "outputs": [],
   "source": [
    "df_pivot.columns = [\"stamp_1\", \"stamp_2\"]\n",
    "df_pivot_diff = df_pivot.diff(axis=1)"
   ]
  },
  {
   "cell_type": "code",
   "execution_count": 7,
   "id": "fifth-motion",
   "metadata": {
    "execution": {
     "iopub.execute_input": "2021-10-21T08:30:10.150420Z",
     "iopub.status.busy": "2021-10-21T08:30:10.147917Z",
     "iopub.status.idle": "2021-10-21T08:30:11.642721Z",
     "shell.execute_reply": "2021-10-21T08:30:11.644040Z"
    },
    "papermill": {
     "duration": 1.527915,
     "end_time": "2021-10-21T08:30:11.644455",
     "exception": false,
     "start_time": "2021-10-21T08:30:10.116540",
     "status": "completed"
    },
    "tags": []
   },
   "outputs": [
    {
     "data": {
      "text/plain": [
       "<AxesSubplot:ylabel='PRODUCT'>"
      ]
     },
     "execution_count": 7,
     "metadata": {},
     "output_type": "execute_result"
    },
    {
     "data": {
      "image/png": "[encoded data removed]",
      "text/plain": [
       "<Figure size 432x288 with 1 Axes>"
      ]
     },
     "metadata": {
      "needs_background": "light"
     },
     "output_type": "display_data"
    }
   ],
   "source": [
    "df_pivot_diff.sort_values(\"stamp_2\", ascending = False)[\"stamp_2\"].head(10).plot.barh()"
   ]
  },
  {
   "cell_type": "code",
   "execution_count": null,
   "id": "extra-executive",
   "metadata": {
    "papermill": {
     "duration": 0.022362,
     "end_time": "2021-10-21T08:30:11.691791",
     "exception": false,
     "start_time": "2021-10-21T08:30:11.669429",
     "status": "completed"
    },
    "tags": []
   },
   "outputs": [],
   "source": []
  }
 ],
 "metadata": {
  "kernelspec": {
   "display_name": "Python 3",
   "language": "python",
   "name": "python3"
  },
  "language_info": {
   "codemirror_mode": {
    "name": "ipython",
    "version": 3
   },
   "file_extension": ".py",
   "mimetype": "text/x-python",
   "name": "python",
   "nbconvert_exporter": "python",
   "pygments_lexer": "ipython3",
   "version": "3.9.5"
  },
  "papermill": {
   "default_parameters": {},
   "duration": 7.345821,
   "end_time": "2021-10-21T08:30:12.333492",
   "environment_variables": {},
   "exception": null,
   "input_path": "eBay_Overview.ipynb",
   "output_path": "eBay_Overview.ipynb",
   "parameters": {},
   "start_time": "2021-10-21T08:30:04.987671",
   "version": "2.3.3"
  }
 },
 "nbformat": 4,
 "nbformat_minor": 5
}