{
 "cells": [
  {
   "cell_type": "code",
   "execution_count": 1,
   "id": "reverse-picking",
   "metadata": {
    "execution": {
     "iopub.execute_input": "2021-10-12T14:00:07.311210Z",
     "iopub.status.busy": "2021-10-12T14:00:07.309125Z",
     "iopub.status.idle": "2021-10-12T14:00:08.109351Z",
     "shell.execute_reply": "2021-10-12T14:00:08.110721Z"
    },
    "papermill": {
     "duration": 0.850999,
     "end_time": "2021-10-12T14:00:08.111356",
     "exception": false,
     "start_time": "2021-10-12T14:00:07.260357",
     "status": "completed"
    },
    "tags": []
   },
   "outputs": [],
   "source": [
    "import pandas as pd\n",
    "import sqlite3"
   ]
  },
  {
   "cell_type": "code",
   "execution_count": 2,
   "id": "innovative-syndrome",
   "metadata": {
    "execution": {
     "iopub.execute_input": "2021-10-12T14:00:08.162523Z",
     "iopub.status.busy": "2021-10-12T14:00:08.160521Z",
     "iopub.status.idle": "2021-10-12T14:00:08.678564Z",
     "shell.execute_reply": "2021-10-12T14:00:08.679774Z"
    },
    "papermill": {
     "duration": 0.547524,
     "end_time": "2021-10-12T14:00:08.680165",
     "exception": false,
     "start_time": "2021-10-12T14:00:08.132641",
     "status": "completed"
    },
    "tags": []
   },
   "outputs": [],
   "source": [
    "timestamps = pd.read_sql(\"select distinct record_time from EBAY_TOP_BERLIN order by record_time desc limit 2\", sqlite3.connect(\"UsedObjects.db\"))"
   ]
  },
  {
   "cell_type": "code",
   "execution_count": 3,
   "id": "periodic-identification",
   "metadata": {
    "execution": {
     "iopub.execute_input": "2021-10-12T14:00:08.745733Z",
     "iopub.status.busy": "2021-10-12T14:00:08.743648Z",
     "iopub.status.idle": "2021-10-12T14:00:08.763791Z",
     "shell.execute_reply": "2021-10-12T14:00:08.765236Z"
    },
    "papermill": {
     "duration": 0.065169,
     "end_time": "2021-10-12T14:00:08.765672",
     "exception": false,
     "start_time": "2021-10-12T14:00:08.700503",
     "status": "completed"
    },
    "tags": []
   },
   "outputs": [
    {
     "data": {
      "text/html": [
       "<div>\n",
       "<style scoped>\n",
       "    .dataframe tbody tr th:only-of-type {\n",
       "        vertical-align: middle;\n",
       "    }\n",
       "\n",
       "    .dataframe tbody tr th {\n",
       "        vertical-align: top;\n",
       "    }\n",
       "\n",
       "    .dataframe thead th {\n",
       "        text-align: right;\n",
       "    }\n",
       "</style>\n",
       "<table border=\"1\" class=\"dataframe\">\n",
       "  <thead>\n",
       "    <tr style=\"text-align: right;\">\n",
       "      <th></th>\n",
       "      <th>RECORD_TIME</th>\n",
       "    </tr>\n",
       "  </thead>\n",
       "  <tbody>\n",
       "    <tr>\n",
       "      <th>0</th>\n",
       "      <td>2021-10-12 16:00</td>\n",
       "    </tr>\n",
       "    <tr>\n",
       "      <th>1</th>\n",
       "      <td>2021-10-12 15:30</td>\n",
       "    </tr>\n",
       "  </tbody>\n",
       "</table>\n",
       "</div>"
      ],
      "text/plain": [
       "        RECORD_TIME\n",
       "0  2021-10-12 16:00\n",
       "1  2021-10-12 15:30"
      ]
     },
     "execution_count": 3,
     "metadata": {},
     "output_type": "execute_result"
    }
   ],
   "source": [
    "timestamps"
   ]
  },
  {
   "cell_type": "code",
   "execution_count": 4,
   "id": "alternate-victory",
   "metadata": {
    "execution": {
     "iopub.execute_input": "2021-10-12T14:00:08.827131Z",
     "iopub.status.busy": "2021-10-12T14:00:08.825029Z",
     "iopub.status.idle": "2021-10-12T14:00:09.592331Z",
     "shell.execute_reply": "2021-10-12T14:00:09.593852Z"
    },
    "papermill": {
     "duration": 0.801779,
     "end_time": "2021-10-12T14:00:09.594299",
     "exception": false,
     "start_time": "2021-10-12T14:00:08.792520",
     "status": "completed"
    },
    "tags": []
   },
   "outputs": [],
   "source": [
    "df = pd.read_sql(\"select * from EBAY_TOP_BERLIN where record_time in (select distinct record_time from EBAY_TOP_BERLIN order by record_time desc limit 2)\", sqlite3.connect(\"UsedObjects.db\"))"
   ]
  },
  {
   "cell_type": "code",
   "execution_count": 5,
   "id": "popular-active",
   "metadata": {
    "execution": {
     "iopub.execute_input": "2021-10-12T14:00:09.662563Z",
     "iopub.status.busy": "2021-10-12T14:00:09.651426Z",
     "iopub.status.idle": "2021-10-12T14:00:09.679778Z",
     "shell.execute_reply": "2021-10-12T14:00:09.681140Z"
    },
    "papermill": {
     "duration": 0.067022,
     "end_time": "2021-10-12T14:00:09.681564",
     "exception": false,
     "start_time": "2021-10-12T14:00:09.614542",
     "status": "completed"
    },
    "tags": []
   },
   "outputs": [],
   "source": [
    "df_pivot = df.pivot_table(index=\"PRODUCT\", columns = \"RECORD_TIME\", values = \"LISTING_COUNT\")"
   ]
  },
  {
   "cell_type": "code",
   "execution_count": 6,
   "id": "union-huntington",
   "metadata": {
    "execution": {
     "iopub.execute_input": "2021-10-12T14:00:09.740990Z",
     "iopub.status.busy": "2021-10-12T14:00:09.738873Z",
     "iopub.status.idle": "2021-10-12T14:00:09.744285Z",
     "shell.execute_reply": "2021-10-12T14:00:09.745672Z"
    },
    "papermill": {
     "duration": 0.041557,
     "end_time": "2021-10-12T14:00:09.746088",
     "exception": false,
     "start_time": "2021-10-12T14:00:09.704531",
     "status": "completed"
    },
    "tags": []
   },
   "outputs": [],
   "source": [
    "df_pivot.columns = [\"stamp_1\", \"stamp_2\"]\n",
    "df_pivot_diff = df_pivot.diff(axis=1)"
   ]
  },
  {
   "cell_type": "code",
   "execution_count": 7,
   "id": "fifth-motion",
   "metadata": {
    "execution": {
     "iopub.execute_input": "2021-10-12T14:00:09.801976Z",
     "iopub.status.busy": "2021-10-12T14:00:09.799398Z",
     "iopub.status.idle": "2021-10-12T14:00:11.286868Z",
     "shell.execute_reply": "2021-10-12T14:00:11.288151Z"
    },
    "papermill": {
     "duration": 1.520822,
     "end_time": "2021-10-12T14:00:11.288558",
     "exception": false,
     "start_time": "2021-10-12T14:00:09.767736",
     "status": "completed"
    },
    "tags": []
   },
   "outputs": [
    {
     "data": {
      "text/plain": [
       "<AxesSubplot:ylabel='PRODUCT'>"
      ]
     },
     "execution_count": 7,
     "metadata": {},
     "output_type": "execute_result"
    },
    {
     "data": {
      "image/png": "[encoded data removed]",
      "text/plain": [
       "<Figure size 432x288 with 1 Axes>"
      ]
     },
     "metadata": {
      "needs_background": "light"
     },
     "output_type": "display_data"
    }
   ],
   "source": [
    "df_pivot_diff.sort_values(\"stamp_2\", ascending = False)[\"stamp_2\"].head(10).plot.barh()"
   ]
  },
  {
   "cell_type": "code",
   "execution_count": null,
   "id": "extra-executive",
   "metadata": {
    "papermill": {
     "duration": 0.022333,
     "end_time": "2021-10-12T14:00:11.336455",
     "exception": false,
     "start_time": "2021-10-12T14:00:11.314122",
     "status": "completed"
    },
    "tags": []
   },
   "outputs": [],
   "source": []
  }
 ],
 "metadata": {
  "kernelspec": {
   "display_name": "Python 3",
   "language": "python",
   "name": "python3"
  },
  "language_info": {
   "codemirror_mode": {
    "name": "ipython",
    "version": 3
   },
   "file_extension": ".py",
   "mimetype": "text/x-python",
   "name": "python",
   "nbconvert_exporter": "python",
   "pygments_lexer": "ipython3",
   "version": "3.9.5"
  },
  "papermill": {
   "default_parameters": {},
   "duration": 7.819915,
   "end_time": "2021-10-12T14:00:12.678475",
   "environment_variables": {},
   "exception": null,
   "input_path": "eBay_Overview.ipynb",
   "output_path": "eBay_Overview.ipynb",
   "parameters": {},
   "start_time": "2021-10-12T14:00:04.858560",
   "version": "2.3.3"
  }
 },
 "nbformat": 4,
 "nbformat_minor": 5
}