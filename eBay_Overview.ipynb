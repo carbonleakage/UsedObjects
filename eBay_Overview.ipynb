{
 "cells": [
  {
   "cell_type": "code",
   "execution_count": 1,
   "id": "reverse-picking",
   "metadata": {
    "execution": {
     "iopub.execute_input": "2021-11-20T12:30:07.877472Z",
     "iopub.status.busy": "2021-11-20T12:30:07.874958Z",
     "iopub.status.idle": "2021-11-20T12:30:08.828206Z",
     "shell.execute_reply": "2021-11-20T12:30:08.829798Z"
    },
    "papermill": {
     "duration": 1.003149,
     "end_time": "2021-11-20T12:30:08.830522",
     "exception": false,
     "start_time": "2021-11-20T12:30:07.827373",
     "status": "completed"
    },
    "tags": []
   },
   "outputs": [],
   "source": [
    "import pandas as pd\n",
    "import sqlite3"
   ]
  },
  {
   "cell_type": "code",
   "execution_count": 2,
   "id": "innovative-syndrome",
   "metadata": {
    "execution": {
     "iopub.execute_input": "2021-11-20T12:30:08.894232Z",
     "iopub.status.busy": "2021-11-20T12:30:08.890656Z",
     "iopub.status.idle": "2021-11-20T12:30:09.770080Z",
     "shell.execute_reply": "2021-11-20T12:30:09.771515Z"
    },
    "papermill": {
     "duration": 0.913688,
     "end_time": "2021-11-20T12:30:09.771999",
     "exception": false,
     "start_time": "2021-11-20T12:30:08.858311",
     "status": "completed"
    },
    "tags": []
   },
   "outputs": [],
   "source": [
    "timestamps = pd.read_sql(\"select distinct record_time from EBAY_TOP_BERLIN order by record_time desc limit 2\", sqlite3.connect(\"UsedObjects.db\"))"
   ]
  },
  {
   "cell_type": "code",
   "execution_count": 3,
   "id": "periodic-identification",
   "metadata": {
    "execution": {
     "iopub.execute_input": "2021-11-20T12:30:09.843303Z",
     "iopub.status.busy": "2021-11-20T12:30:09.841135Z",
     "iopub.status.idle": "2021-11-20T12:30:09.864228Z",
     "shell.execute_reply": "2021-11-20T12:30:09.865706Z"
    },
    "papermill": {
     "duration": 0.073512,
     "end_time": "2021-11-20T12:30:09.866179",
     "exception": false,
     "start_time": "2021-11-20T12:30:09.792667",
     "status": "completed"
    },
    "tags": []
   },
   "outputs": [
    {
     "data": {
      "text/html": [
       "<div>\n",
       "<style scoped>\n",
       "    .dataframe tbody tr th:only-of-type {\n",
       "        vertical-align: middle;\n",
       "    }\n",
       "\n",
       "    .dataframe tbody tr th {\n",
       "        vertical-align: top;\n",
       "    }\n",
       "\n",
       "    .dataframe thead th {\n",
       "        text-align: right;\n",
       "    }\n",
       "</style>\n",
       "<table border=\"1\" class=\"dataframe\">\n",
       "  <thead>\n",
       "    <tr style=\"text-align: right;\">\n",
       "      <th></th>\n",
       "      <th>RECORD_TIME</th>\n",
       "    </tr>\n",
       "  </thead>\n",
       "  <tbody>\n",
       "    <tr>\n",
       "      <th>0</th>\n",
       "      <td>2021-11-20 13:30</td>\n",
       "    </tr>\n",
       "    <tr>\n",
       "      <th>1</th>\n",
       "      <td>2021-11-20 13:00</td>\n",
       "    </tr>\n",
       "  </tbody>\n",
       "</table>\n",
       "</div>"
      ],
      "text/plain": [
       "        RECORD_TIME\n",
       "0  2021-11-20 13:30\n",
       "1  2021-11-20 13:00"
      ]
     },
     "execution_count": 3,
     "metadata": {},
     "output_type": "execute_result"
    }
   ],
   "source": [
    "timestamps"
   ]
  },
  {
   "cell_type": "code",
   "execution_count": 4,
   "id": "alternate-victory",
   "metadata": {
    "execution": {
     "iopub.execute_input": "2021-11-20T12:30:09.919882Z",
     "iopub.status.busy": "2021-11-20T12:30:09.917818Z",
     "iopub.status.idle": "2021-11-20T12:30:11.212062Z",
     "shell.execute_reply": "2021-11-20T12:30:11.214114Z"
    },
    "papermill": {
     "duration": 1.32739,
     "end_time": "2021-11-20T12:30:11.214649",
     "exception": false,
     "start_time": "2021-11-20T12:30:09.887259",
     "status": "completed"
    },
    "tags": []
   },
   "outputs": [],
   "source": [
    "df = pd.read_sql(\"select * from EBAY_TOP_BERLIN where record_time in (select distinct record_time from EBAY_TOP_BERLIN order by record_time desc limit 2)\", sqlite3.connect(\"UsedObjects.db\"))"
   ]
  },
  {
   "cell_type": "code",
   "execution_count": 5,
   "id": "popular-active",
   "metadata": {
    "execution": {
     "iopub.execute_input": "2021-11-20T12:30:11.281232Z",
     "iopub.status.busy": "2021-11-20T12:30:11.278676Z",
     "iopub.status.idle": "2021-11-20T12:30:11.313250Z",
     "shell.execute_reply": "2021-11-20T12:30:11.314616Z"
    },
    "papermill": {
     "duration": 0.078144,
     "end_time": "2021-11-20T12:30:11.315041",
     "exception": false,
     "start_time": "2021-11-20T12:30:11.236897",
     "status": "completed"
    },
    "tags": []
   },
   "outputs": [],
   "source": [
    "df_pivot = df.pivot_table(index=\"PRODUCT\", columns = \"RECORD_TIME\", values = \"LISTING_COUNT\")"
   ]
  },
  {
   "cell_type": "code",
   "execution_count": 6,
   "id": "union-huntington",
   "metadata": {
    "execution": {
     "iopub.execute_input": "2021-11-20T12:30:11.376288Z",
     "iopub.status.busy": "2021-11-20T12:30:11.374018Z",
     "iopub.status.idle": "2021-11-20T12:30:11.381329Z",
     "shell.execute_reply": "2021-11-20T12:30:11.383072Z"
    },
    "papermill": {
     "duration": 0.047543,
     "end_time": "2021-11-20T12:30:11.383580",
     "exception": false,
     "start_time": "2021-11-20T12:30:11.336037",
     "status": "completed"
    },
    "tags": []
   },
   "outputs": [],
   "source": [
    "df_pivot.columns = [\"stamp_1\", \"stamp_2\"]\n",
    "df_pivot_diff = df_pivot.diff(axis=1)"
   ]
  },
  {
   "cell_type": "code",
   "execution_count": 7,
   "id": "fifth-motion",
   "metadata": {
    "execution": {
     "iopub.execute_input": "2021-11-20T12:30:11.441524Z",
     "iopub.status.busy": "2021-11-20T12:30:11.438998Z",
     "iopub.status.idle": "2021-11-20T12:30:13.205866Z",
     "shell.execute_reply": "2021-11-20T12:30:13.208460Z"
    },
    "papermill": {
     "duration": 1.804348,
     "end_time": "2021-11-20T12:30:13.209304",
     "exception": false,
     "start_time": "2021-11-20T12:30:11.404956",
     "status": "completed"
    },
    "tags": []
   },
   "outputs": [
    {
     "data": {
      "text/plain": [
       "<AxesSubplot:ylabel='PRODUCT'>"
      ]
     },
     "execution_count": 7,
     "metadata": {},
     "output_type": "execute_result"
    },
    {
     "data": {
      "image/png": "[encoded data removed]",
      "text/plain": [
       "<Figure size 432x288 with 1 Axes>"
      ]
     },
     "metadata": {
      "needs_background": "light"
     },
     "output_type": "display_data"
    }
   ],
   "source": [
    "df_pivot_diff.sort_values(\"stamp_2\", ascending = False)[\"stamp_2\"].head(10).plot.barh()"
   ]
  },
  {
   "cell_type": "code",
   "execution_count": null,
   "id": "extra-executive",
   "metadata": {
    "papermill": {
     "duration": 0.03301,
     "end_time": "2021-11-20T12:30:13.278832",
     "exception": false,
     "start_time": "2021-11-20T12:30:13.245822",
     "status": "completed"
    },
    "tags": []
   },
   "outputs": [],
   "source": []
  }
 ],
 "metadata": {
  "kernelspec": {
   "display_name": "Python 3",
   "language": "python",
   "name": "python3"
  },
  "language_info": {
   "codemirror_mode": {
    "name": "ipython",
    "version": 3
   },
   "file_extension": ".py",
   "mimetype": "text/x-python",
   "name": "python",
   "nbconvert_exporter": "python",
   "pygments_lexer": "ipython3",
   "version": "3.9.5"
  },
  "papermill": {
   "default_parameters": {},
   "duration": 10.010857,
   "end_time": "2021-11-20T12:30:15.018628",
   "environment_variables": {},
   "exception": null,
   "input_path": "eBay_Overview.ipynb",
   "output_path": "eBay_Overview.ipynb",
   "parameters": {},
   "start_time": "2021-11-20T12:30:05.007771",
   "version": "2.3.3"
  }
 },
 "nbformat": 4,
 "nbformat_minor": 5
}