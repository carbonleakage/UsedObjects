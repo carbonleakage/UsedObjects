{
 "cells": [
  {
   "cell_type": "code",
   "execution_count": 1,
   "id": "reverse-picking",
   "metadata": {
    "execution": {
     "iopub.execute_input": "2021-09-09T18:00:07.389405Z",
     "iopub.status.busy": "2021-09-09T18:00:07.387445Z",
     "iopub.status.idle": "2021-09-09T18:00:08.199044Z",
     "shell.execute_reply": "2021-09-09T18:00:08.200611Z"
    },
    "papermill": {
     "duration": 0.864065,
     "end_time": "2021-09-09T18:00:08.201311",
     "exception": false,
     "start_time": "2021-09-09T18:00:07.337246",
     "status": "completed"
    },
    "tags": []
   },
   "outputs": [],
   "source": [
    "import pandas as pd\n",
    "import sqlite3"
   ]
  },
  {
   "cell_type": "code",
   "execution_count": 2,
   "id": "innovative-syndrome",
   "metadata": {
    "execution": {
     "iopub.execute_input": "2021-09-09T18:00:08.252455Z",
     "iopub.status.busy": "2021-09-09T18:00:08.249935Z",
     "iopub.status.idle": "2021-09-09T18:00:08.498845Z",
     "shell.execute_reply": "2021-09-09T18:00:08.500314Z"
    },
    "papermill": {
     "duration": 0.278745,
     "end_time": "2021-09-09T18:00:08.500755",
     "exception": false,
     "start_time": "2021-09-09T18:00:08.222010",
     "status": "completed"
    },
    "tags": []
   },
   "outputs": [],
   "source": [
    "timestamps = pd.read_sql(\"select distinct record_time from EBAY_TOP_BERLIN order by record_time desc limit 2\", sqlite3.connect(\"UsedObjects.db\"))"
   ]
  },
  {
   "cell_type": "code",
   "execution_count": 3,
   "id": "periodic-identification",
   "metadata": {
    "execution": {
     "iopub.execute_input": "2021-09-09T18:00:08.567897Z",
     "iopub.status.busy": "2021-09-09T18:00:08.565759Z",
     "iopub.status.idle": "2021-09-09T18:00:08.585944Z",
     "shell.execute_reply": "2021-09-09T18:00:08.587376Z"
    },
    "papermill": {
     "duration": 0.067095,
     "end_time": "2021-09-09T18:00:08.587836",
     "exception": false,
     "start_time": "2021-09-09T18:00:08.520741",
     "status": "completed"
    },
    "tags": []
   },
   "outputs": [
    {
     "data": {
      "text/html": [
       "<div>\n",
       "<style scoped>\n",
       "    .dataframe tbody tr th:only-of-type {\n",
       "        vertical-align: middle;\n",
       "    }\n",
       "\n",
       "    .dataframe tbody tr th {\n",
       "        vertical-align: top;\n",
       "    }\n",
       "\n",
       "    .dataframe thead th {\n",
       "        text-align: right;\n",
       "    }\n",
       "</style>\n",
       "<table border=\"1\" class=\"dataframe\">\n",
       "  <thead>\n",
       "    <tr style=\"text-align: right;\">\n",
       "      <th></th>\n",
       "      <th>RECORD_TIME</th>\n",
       "    </tr>\n",
       "  </thead>\n",
       "  <tbody>\n",
       "    <tr>\n",
       "      <th>0</th>\n",
       "      <td>2021-09-09 20:00</td>\n",
       "    </tr>\n",
       "    <tr>\n",
       "      <th>1</th>\n",
       "      <td>2021-09-09 19:30</td>\n",
       "    </tr>\n",
       "  </tbody>\n",
       "</table>\n",
       "</div>"
      ],
      "text/plain": [
       "        RECORD_TIME\n",
       "0  2021-09-09 20:00\n",
       "1  2021-09-09 19:30"
      ]
     },
     "execution_count": 3,
     "metadata": {},
     "output_type": "execute_result"
    }
   ],
   "source": [
    "timestamps"
   ]
  },
  {
   "cell_type": "code",
   "execution_count": 4,
   "id": "alternate-victory",
   "metadata": {
    "execution": {
     "iopub.execute_input": "2021-09-09T18:00:08.639411Z",
     "iopub.status.busy": "2021-09-09T18:00:08.637430Z",
     "iopub.status.idle": "2021-09-09T18:00:09.016536Z",
     "shell.execute_reply": "2021-09-09T18:00:09.017748Z"
    },
    "papermill": {
     "duration": 0.409114,
     "end_time": "2021-09-09T18:00:09.018144",
     "exception": false,
     "start_time": "2021-09-09T18:00:08.609030",
     "status": "completed"
    },
    "tags": []
   },
   "outputs": [],
   "source": [
    "df = pd.read_sql(\"select * from EBAY_TOP_BERLIN where record_time in (select distinct record_time from EBAY_TOP_BERLIN order by record_time desc limit 2)\", sqlite3.connect(\"UsedObjects.db\"))"
   ]
  },
  {
   "cell_type": "code",
   "execution_count": 5,
   "id": "popular-active",
   "metadata": {
    "execution": {
     "iopub.execute_input": "2021-09-09T18:00:09.099472Z",
     "iopub.status.busy": "2021-09-09T18:00:09.087463Z",
     "iopub.status.idle": "2021-09-09T18:00:09.117106Z",
     "shell.execute_reply": "2021-09-09T18:00:09.115607Z"
    },
    "papermill": {
     "duration": 0.071996,
     "end_time": "2021-09-09T18:00:09.117484",
     "exception": false,
     "start_time": "2021-09-09T18:00:09.045488",
     "status": "completed"
    },
    "tags": []
   },
   "outputs": [],
   "source": [
    "df_pivot = df.pivot_table(index=\"PRODUCT\", columns = \"RECORD_TIME\", values = \"LISTING_COUNT\")"
   ]
  },
  {
   "cell_type": "code",
   "execution_count": 6,
   "id": "union-huntington",
   "metadata": {
    "execution": {
     "iopub.execute_input": "2021-09-09T18:00:09.175229Z",
     "iopub.status.busy": "2021-09-09T18:00:09.172737Z",
     "iopub.status.idle": "2021-09-09T18:00:09.178830Z",
     "shell.execute_reply": "2021-09-09T18:00:09.180423Z"
    },
    "papermill": {
     "duration": 0.04306,
     "end_time": "2021-09-09T18:00:09.180885",
     "exception": false,
     "start_time": "2021-09-09T18:00:09.137825",
     "status": "completed"
    },
    "tags": []
   },
   "outputs": [],
   "source": [
    "df_pivot.columns = [\"stamp_1\", \"stamp_2\"]\n",
    "df_pivot_diff = df_pivot.diff(axis=1)"
   ]
  },
  {
   "cell_type": "code",
   "execution_count": 7,
   "id": "fifth-motion",
   "metadata": {
    "execution": {
     "iopub.execute_input": "2021-09-09T18:00:09.235548Z",
     "iopub.status.busy": "2021-09-09T18:00:09.233142Z",
     "iopub.status.idle": "2021-09-09T18:00:10.723909Z",
     "shell.execute_reply": "2021-09-09T18:00:10.725211Z"
    },
    "papermill": {
     "duration": 1.523476,
     "end_time": "2021-09-09T18:00:10.725626",
     "exception": false,
     "start_time": "2021-09-09T18:00:09.202150",
     "status": "completed"
    },
    "tags": []
   },
   "outputs": [
    {
     "data": {
      "text/plain": [
       "<AxesSubplot:ylabel='PRODUCT'>"
      ]
     },
     "execution_count": 7,
     "metadata": {},
     "output_type": "execute_result"
    },
    {
     "data": {
      "image/png": "[encoded data removed]",
      "text/plain": [
       "<Figure size 432x288 with 1 Axes>"
      ]
     },
     "metadata": {
      "needs_background": "light"
     },
     "output_type": "display_data"
    }
   ],
   "source": [
    "df_pivot_diff.sort_values(\"stamp_2\", ascending = False)[\"stamp_2\"].head(10).plot.barh()"
   ]
  },
  {
   "cell_type": "code",
   "execution_count": null,
   "id": "extra-executive",
   "metadata": {
    "papermill": {
     "duration": 0.02232,
     "end_time": "2021-09-09T18:00:10.772137",
     "exception": false,
     "start_time": "2021-09-09T18:00:10.749817",
     "status": "completed"
    },
    "tags": []
   },
   "outputs": [],
   "source": []
  }
 ],
 "metadata": {
  "kernelspec": {
   "display_name": "Python 3",
   "language": "python",
   "name": "python3"
  },
  "language_info": {
   "codemirror_mode": {
    "name": "ipython",
    "version": 3
   },
   "file_extension": ".py",
   "mimetype": "text/x-python",
   "name": "python",
   "nbconvert_exporter": "python",
   "pygments_lexer": "ipython3",
   "version": "3.9.5"
  },
  "papermill": {
   "default_parameters": {},
   "duration": 6.493104,
   "end_time": "2021-09-09T18:00:11.412573",
   "environment_variables": {},
   "exception": null,
   "input_path": "eBay_Overview.ipynb",
   "output_path": "eBay_Overview.ipynb",
   "parameters": {},
   "start_time": "2021-09-09T18:00:04.919469",
   "version": "2.3.3"
  }
 },
 "nbformat": 4,
 "nbformat_minor": 5
}