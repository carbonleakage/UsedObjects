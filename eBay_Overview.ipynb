{
 "cells": [
  {
   "cell_type": "code",
   "execution_count": 1,
   "id": "reverse-picking",
   "metadata": {
    "execution": {
     "iopub.execute_input": "2021-11-23T05:00:08.021262Z",
     "iopub.status.busy": "2021-11-23T05:00:08.018387Z",
     "iopub.status.idle": "2021-11-23T05:00:08.956150Z",
     "shell.execute_reply": "2021-11-23T05:00:08.957888Z"
    },
    "papermill": {
     "duration": 0.975405,
     "end_time": "2021-11-23T05:00:08.958693",
     "exception": false,
     "start_time": "2021-11-23T05:00:07.983288",
     "status": "completed"
    },
    "tags": []
   },
   "outputs": [],
   "source": [
    "import pandas as pd\n",
    "import sqlite3"
   ]
  },
  {
   "cell_type": "code",
   "execution_count": 2,
   "id": "innovative-syndrome",
   "metadata": {
    "execution": {
     "iopub.execute_input": "2021-11-23T05:00:09.025100Z",
     "iopub.status.busy": "2021-11-23T05:00:09.022655Z",
     "iopub.status.idle": "2021-11-23T05:00:09.916308Z",
     "shell.execute_reply": "2021-11-23T05:00:09.918572Z"
    },
    "papermill": {
     "duration": 0.928583,
     "end_time": "2021-11-23T05:00:09.919061",
     "exception": false,
     "start_time": "2021-11-23T05:00:08.990478",
     "status": "completed"
    },
    "tags": []
   },
   "outputs": [],
   "source": [
    "timestamps = pd.read_sql(\"select distinct record_time from EBAY_TOP_BERLIN order by record_time desc limit 2\", sqlite3.connect(\"UsedObjects.db\"))"
   ]
  },
  {
   "cell_type": "code",
   "execution_count": 3,
   "id": "periodic-identification",
   "metadata": {
    "execution": {
     "iopub.execute_input": "2021-11-23T05:00:09.995520Z",
     "iopub.status.busy": "2021-11-23T05:00:09.989294Z",
     "iopub.status.idle": "2021-11-23T05:00:10.012993Z",
     "shell.execute_reply": "2021-11-23T05:00:10.014753Z"
    },
    "papermill": {
     "duration": 0.075474,
     "end_time": "2021-11-23T05:00:10.015739",
     "exception": false,
     "start_time": "2021-11-23T05:00:09.940265",
     "status": "completed"
    },
    "tags": []
   },
   "outputs": [
    {
     "data": {
      "text/html": [
       "<div>\n",
       "<style scoped>\n",
       "    .dataframe tbody tr th:only-of-type {\n",
       "        vertical-align: middle;\n",
       "    }\n",
       "\n",
       "    .dataframe tbody tr th {\n",
       "        vertical-align: top;\n",
       "    }\n",
       "\n",
       "    .dataframe thead th {\n",
       "        text-align: right;\n",
       "    }\n",
       "</style>\n",
       "<table border=\"1\" class=\"dataframe\">\n",
       "  <thead>\n",
       "    <tr style=\"text-align: right;\">\n",
       "      <th></th>\n",
       "      <th>RECORD_TIME</th>\n",
       "    </tr>\n",
       "  </thead>\n",
       "  <tbody>\n",
       "    <tr>\n",
       "      <th>0</th>\n",
       "      <td>2021-11-23 06:00</td>\n",
       "    </tr>\n",
       "    <tr>\n",
       "      <th>1</th>\n",
       "      <td>2021-11-23 05:30</td>\n",
       "    </tr>\n",
       "  </tbody>\n",
       "</table>\n",
       "</div>"
      ],
      "text/plain": [
       "        RECORD_TIME\n",
       "0  2021-11-23 06:00\n",
       "1  2021-11-23 05:30"
      ]
     },
     "execution_count": 3,
     "metadata": {},
     "output_type": "execute_result"
    }
   ],
   "source": [
    "timestamps"
   ]
  },
  {
   "cell_type": "code",
   "execution_count": 4,
   "id": "alternate-victory",
   "metadata": {
    "execution": {
     "iopub.execute_input": "2021-11-23T05:00:10.073104Z",
     "iopub.status.busy": "2021-11-23T05:00:10.070561Z",
     "iopub.status.idle": "2021-11-23T05:00:11.406082Z",
     "shell.execute_reply": "2021-11-23T05:00:11.407649Z"
    },
    "papermill": {
     "duration": 1.371587,
     "end_time": "2021-11-23T05:00:11.408123",
     "exception": false,
     "start_time": "2021-11-23T05:00:10.036536",
     "status": "completed"
    },
    "tags": []
   },
   "outputs": [],
   "source": [
    "df = pd.read_sql(\"select * from EBAY_TOP_BERLIN where record_time in (select distinct record_time from EBAY_TOP_BERLIN order by record_time desc limit 2)\", sqlite3.connect(\"UsedObjects.db\"))"
   ]
  },
  {
   "cell_type": "code",
   "execution_count": 5,
   "id": "popular-active",
   "metadata": {
    "execution": {
     "iopub.execute_input": "2021-11-23T05:00:11.488131Z",
     "iopub.status.busy": "2021-11-23T05:00:11.474290Z",
     "iopub.status.idle": "2021-11-23T05:00:11.510978Z",
     "shell.execute_reply": "2021-11-23T05:00:11.506882Z"
    },
    "papermill": {
     "duration": 0.081252,
     "end_time": "2021-11-23T05:00:11.511451",
     "exception": false,
     "start_time": "2021-11-23T05:00:11.430199",
     "status": "completed"
    },
    "tags": []
   },
   "outputs": [],
   "source": [
    "df_pivot = df.pivot_table(index=\"PRODUCT\", columns = \"RECORD_TIME\", values = \"LISTING_COUNT\")"
   ]
  },
  {
   "cell_type": "code",
   "execution_count": 6,
   "id": "union-huntington",
   "metadata": {
    "execution": {
     "iopub.execute_input": "2021-11-23T05:00:11.572865Z",
     "iopub.status.busy": "2021-11-23T05:00:11.570601Z",
     "iopub.status.idle": "2021-11-23T05:00:11.576268Z",
     "shell.execute_reply": "2021-11-23T05:00:11.577754Z"
    },
    "papermill": {
     "duration": 0.043806,
     "end_time": "2021-11-23T05:00:11.578236",
     "exception": false,
     "start_time": "2021-11-23T05:00:11.534430",
     "status": "completed"
    },
    "tags": []
   },
   "outputs": [],
   "source": [
    "df_pivot.columns = [\"stamp_1\", \"stamp_2\"]\n",
    "df_pivot_diff = df_pivot.diff(axis=1)"
   ]
  },
  {
   "cell_type": "code",
   "execution_count": 7,
   "id": "fifth-motion",
   "metadata": {
    "execution": {
     "iopub.execute_input": "2021-11-23T05:00:11.637490Z",
     "iopub.status.busy": "2021-11-23T05:00:11.634571Z",
     "iopub.status.idle": "2021-11-23T05:00:13.610110Z",
     "shell.execute_reply": "2021-11-23T05:00:13.613125Z"
    },
    "papermill": {
     "duration": 2.015684,
     "end_time": "2021-11-23T05:00:13.613957",
     "exception": false,
     "start_time": "2021-11-23T05:00:11.598273",
     "status": "completed"
    },
    "tags": []
   },
   "outputs": [
    {
     "data": {
      "text/plain": [
       "<AxesSubplot:ylabel='PRODUCT'>"
      ]
     },
     "execution_count": 7,
     "metadata": {},
     "output_type": "execute_result"
    },
    {
     "data": {
      "image/png": "[encoded data removed]",
      "text/plain": [
       "<Figure size 432x288 with 1 Axes>"
      ]
     },
     "metadata": {
      "needs_background": "light"
     },
     "output_type": "display_data"
    }
   ],
   "source": [
    "df_pivot_diff.sort_values(\"stamp_2\", ascending = False)[\"stamp_2\"].head(10).plot.barh()"
   ]
  },
  {
   "cell_type": "code",
   "execution_count": null,
   "id": "extra-executive",
   "metadata": {
    "papermill": {
     "duration": 0.029861,
     "end_time": "2021-11-23T05:00:13.679370",
     "exception": false,
     "start_time": "2021-11-23T05:00:13.649509",
     "status": "completed"
    },
    "tags": []
   },
   "outputs": [],
   "source": []
  }
 ],
 "metadata": {
  "kernelspec": {
   "display_name": "Python 3",
   "language": "python",
   "name": "python3"
  },
  "language_info": {
   "codemirror_mode": {
    "name": "ipython",
    "version": 3
   },
   "file_extension": ".py",
   "mimetype": "text/x-python",
   "name": "python",
   "nbconvert_exporter": "python",
   "pygments_lexer": "ipython3",
   "version": "3.9.5"
  },
  "papermill": {
   "default_parameters": {},
   "duration": 9.940758,
   "end_time": "2021-11-23T05:00:15.191810",
   "environment_variables": {},
   "exception": null,
   "input_path": "eBay_Overview.ipynb",
   "output_path": "eBay_Overview.ipynb",
   "parameters": {},
   "start_time": "2021-11-23T05:00:05.251052",
   "version": "2.3.3"
  }
 },
 "nbformat": 4,
 "nbformat_minor": 5
}