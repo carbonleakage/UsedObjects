{
 "cells": [
  {
   "cell_type": "code",
   "execution_count": 1,
   "id": "reverse-picking",
   "metadata": {
    "execution": {
     "iopub.execute_input": "2021-09-03T20:00:06.796986Z",
     "iopub.status.busy": "2021-09-03T20:00:06.795059Z",
     "iopub.status.idle": "2021-09-03T20:00:07.598576Z",
     "shell.execute_reply": "2021-09-03T20:00:07.600103Z"
    },
    "papermill": {
     "duration": 0.857222,
     "end_time": "2021-09-03T20:00:07.600774",
     "exception": false,
     "start_time": "2021-09-03T20:00:06.743552",
     "status": "completed"
    },
    "tags": []
   },
   "outputs": [],
   "source": [
    "import pandas as pd\n",
    "import sqlite3"
   ]
  },
  {
   "cell_type": "code",
   "execution_count": 2,
   "id": "innovative-syndrome",
   "metadata": {
    "execution": {
     "iopub.execute_input": "2021-09-03T20:00:07.651198Z",
     "iopub.status.busy": "2021-09-03T20:00:07.649177Z",
     "iopub.status.idle": "2021-09-03T20:00:07.847619Z",
     "shell.execute_reply": "2021-09-03T20:00:07.848910Z"
    },
    "papermill": {
     "duration": 0.228355,
     "end_time": "2021-09-03T20:00:07.849360",
     "exception": false,
     "start_time": "2021-09-03T20:00:07.621005",
     "status": "completed"
    },
    "tags": []
   },
   "outputs": [],
   "source": [
    "timestamps = pd.read_sql(\"select distinct record_time from EBAY_TOP_BERLIN order by record_time desc limit 2\", sqlite3.connect(\"UsedObjects.db\"))"
   ]
  },
  {
   "cell_type": "code",
   "execution_count": 3,
   "id": "periodic-identification",
   "metadata": {
    "execution": {
     "iopub.execute_input": "2021-09-03T20:00:07.915750Z",
     "iopub.status.busy": "2021-09-03T20:00:07.913659Z",
     "iopub.status.idle": "2021-09-03T20:00:07.935484Z",
     "shell.execute_reply": "2021-09-03T20:00:07.936765Z"
    },
    "papermill": {
     "duration": 0.068091,
     "end_time": "2021-09-03T20:00:07.937217",
     "exception": false,
     "start_time": "2021-09-03T20:00:07.869126",
     "status": "completed"
    },
    "tags": []
   },
   "outputs": [
    {
     "data": {
      "text/html": [
       "<div>\n",
       "<style scoped>\n",
       "    .dataframe tbody tr th:only-of-type {\n",
       "        vertical-align: middle;\n",
       "    }\n",
       "\n",
       "    .dataframe tbody tr th {\n",
       "        vertical-align: top;\n",
       "    }\n",
       "\n",
       "    .dataframe thead th {\n",
       "        text-align: right;\n",
       "    }\n",
       "</style>\n",
       "<table border=\"1\" class=\"dataframe\">\n",
       "  <thead>\n",
       "    <tr style=\"text-align: right;\">\n",
       "      <th></th>\n",
       "      <th>RECORD_TIME</th>\n",
       "    </tr>\n",
       "  </thead>\n",
       "  <tbody>\n",
       "    <tr>\n",
       "      <th>0</th>\n",
       "      <td>2021-09-03 22:00</td>\n",
       "    </tr>\n",
       "    <tr>\n",
       "      <th>1</th>\n",
       "      <td>2021-09-03 21:30</td>\n",
       "    </tr>\n",
       "  </tbody>\n",
       "</table>\n",
       "</div>"
      ],
      "text/plain": [
       "        RECORD_TIME\n",
       "0  2021-09-03 22:00\n",
       "1  2021-09-03 21:30"
      ]
     },
     "execution_count": 3,
     "metadata": {},
     "output_type": "execute_result"
    }
   ],
   "source": [
    "timestamps"
   ]
  },
  {
   "cell_type": "code",
   "execution_count": 4,
   "id": "alternate-victory",
   "metadata": {
    "execution": {
     "iopub.execute_input": "2021-09-03T20:00:07.988964Z",
     "iopub.status.busy": "2021-09-03T20:00:07.987133Z",
     "iopub.status.idle": "2021-09-03T20:00:08.290468Z",
     "shell.execute_reply": "2021-09-03T20:00:08.291920Z"
    },
    "papermill": {
     "duration": 0.333457,
     "end_time": "2021-09-03T20:00:08.292362",
     "exception": false,
     "start_time": "2021-09-03T20:00:07.958905",
     "status": "completed"
    },
    "tags": []
   },
   "outputs": [],
   "source": [
    "df = pd.read_sql(\"select * from EBAY_TOP_BERLIN where record_time in (select distinct record_time from EBAY_TOP_BERLIN order by record_time desc limit 2)\", sqlite3.connect(\"UsedObjects.db\"))"
   ]
  },
  {
   "cell_type": "code",
   "execution_count": 5,
   "id": "popular-active",
   "metadata": {
    "execution": {
     "iopub.execute_input": "2021-09-03T20:00:08.376663Z",
     "iopub.status.busy": "2021-09-03T20:00:08.365124Z",
     "iopub.status.idle": "2021-09-03T20:00:08.392358Z",
     "shell.execute_reply": "2021-09-03T20:00:08.393567Z"
    },
    "papermill": {
     "duration": 0.072409,
     "end_time": "2021-09-03T20:00:08.393958",
     "exception": false,
     "start_time": "2021-09-03T20:00:08.321549",
     "status": "completed"
    },
    "tags": []
   },
   "outputs": [],
   "source": [
    "df_pivot = df.pivot_table(index=\"PRODUCT\", columns = \"RECORD_TIME\", values = \"LISTING_COUNT\")"
   ]
  },
  {
   "cell_type": "code",
   "execution_count": 6,
   "id": "union-huntington",
   "metadata": {
    "execution": {
     "iopub.execute_input": "2021-09-03T20:00:08.451630Z",
     "iopub.status.busy": "2021-09-03T20:00:08.449529Z",
     "iopub.status.idle": "2021-09-03T20:00:08.454946Z",
     "shell.execute_reply": "2021-09-03T20:00:08.456242Z"
    },
    "papermill": {
     "duration": 0.040604,
     "end_time": "2021-09-03T20:00:08.456654",
     "exception": false,
     "start_time": "2021-09-03T20:00:08.416050",
     "status": "completed"
    },
    "tags": []
   },
   "outputs": [],
   "source": [
    "df_pivot.columns = [\"stamp_1\", \"stamp_2\"]\n",
    "df_pivot_diff = df_pivot.diff(axis=1)"
   ]
  },
  {
   "cell_type": "code",
   "execution_count": 7,
   "id": "fifth-motion",
   "metadata": {
    "execution": {
     "iopub.execute_input": "2021-09-03T20:00:08.510904Z",
     "iopub.status.busy": "2021-09-03T20:00:08.508503Z",
     "iopub.status.idle": "2021-09-03T20:00:09.974614Z",
     "shell.execute_reply": "2021-09-03T20:00:09.975947Z"
    },
    "papermill": {
     "duration": 1.498554,
     "end_time": "2021-09-03T20:00:09.976361",
     "exception": false,
     "start_time": "2021-09-03T20:00:08.477807",
     "status": "completed"
    },
    "tags": []
   },
   "outputs": [
    {
     "data": {
      "text/plain": [
       "<AxesSubplot:ylabel='PRODUCT'>"
      ]
     },
     "execution_count": 7,
     "metadata": {},
     "output_type": "execute_result"
    },
    {
     "data": {
      "image/png": "[encoded data removed]",
      "text/plain": [
       "<Figure size 432x288 with 1 Axes>"
      ]
     },
     "metadata": {
      "needs_background": "light"
     },
     "output_type": "display_data"
    }
   ],
   "source": [
    "df_pivot_diff.sort_values(\"stamp_2\", ascending = False)[\"stamp_2\"].head(10).plot.barh()"
   ]
  },
  {
   "cell_type": "code",
   "execution_count": null,
   "id": "extra-executive",
   "metadata": {
    "papermill": {
     "duration": 0.02169,
     "end_time": "2021-09-03T20:00:10.022402",
     "exception": false,
     "start_time": "2021-09-03T20:00:10.000712",
     "status": "completed"
    },
    "tags": []
   },
   "outputs": [],
   "source": []
  }
 ],
 "metadata": {
  "kernelspec": {
   "display_name": "Python 3",
   "language": "python",
   "name": "python3"
  },
  "language_info": {
   "codemirror_mode": {
    "name": "ipython",
    "version": 3
   },
   "file_extension": ".py",
   "mimetype": "text/x-python",
   "name": "python",
   "nbconvert_exporter": "python",
   "pygments_lexer": "ipython3",
   "version": "3.9.5"
  },
  "papermill": {
   "default_parameters": {},
   "duration": 6.328216,
   "end_time": "2021-09-03T20:00:10.663026",
   "environment_variables": {},
   "exception": null,
   "input_path": "eBay_Overview.ipynb",
   "output_path": "eBay_Overview.ipynb",
   "parameters": {},
   "start_time": "2021-09-03T20:00:04.334810",
   "version": "2.3.3"
  }
 },
 "nbformat": 4,
 "nbformat_minor": 5
}