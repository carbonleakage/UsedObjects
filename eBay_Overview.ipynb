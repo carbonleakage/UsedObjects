{
 "cells": [
  {
   "cell_type": "code",
   "execution_count": 1,
   "id": "reverse-picking",
   "metadata": {
    "execution": {
     "iopub.execute_input": "2021-09-12T15:00:06.849310Z",
     "iopub.status.busy": "2021-09-12T15:00:06.847360Z",
     "iopub.status.idle": "2021-09-12T15:00:07.656583Z",
     "shell.execute_reply": "2021-09-12T15:00:07.657824Z"
    },
    "papermill": {
     "duration": 0.861548,
     "end_time": "2021-09-12T15:00:07.658448",
     "exception": false,
     "start_time": "2021-09-12T15:00:06.796900",
     "status": "completed"
    },
    "tags": []
   },
   "outputs": [],
   "source": [
    "import pandas as pd\n",
    "import sqlite3"
   ]
  },
  {
   "cell_type": "code",
   "execution_count": 2,
   "id": "innovative-syndrome",
   "metadata": {
    "execution": {
     "iopub.execute_input": "2021-09-12T15:00:07.711552Z",
     "iopub.status.busy": "2021-09-12T15:00:07.709136Z",
     "iopub.status.idle": "2021-09-12T15:00:07.977032Z",
     "shell.execute_reply": "2021-09-12T15:00:07.978228Z"
    },
    "papermill": {
     "duration": 0.29784,
     "end_time": "2021-09-12T15:00:07.978628",
     "exception": false,
     "start_time": "2021-09-12T15:00:07.680788",
     "status": "completed"
    },
    "tags": []
   },
   "outputs": [],
   "source": [
    "timestamps = pd.read_sql(\"select distinct record_time from EBAY_TOP_BERLIN order by record_time desc limit 2\", sqlite3.connect(\"UsedObjects.db\"))"
   ]
  },
  {
   "cell_type": "code",
   "execution_count": 3,
   "id": "periodic-identification",
   "metadata": {
    "execution": {
     "iopub.execute_input": "2021-09-12T15:00:08.041745Z",
     "iopub.status.busy": "2021-09-12T15:00:08.039711Z",
     "iopub.status.idle": "2021-09-12T15:00:08.060072Z",
     "shell.execute_reply": "2021-09-12T15:00:08.061406Z"
    },
    "papermill": {
     "duration": 0.063823,
     "end_time": "2021-09-12T15:00:08.061825",
     "exception": false,
     "start_time": "2021-09-12T15:00:07.998002",
     "status": "completed"
    },
    "tags": []
   },
   "outputs": [
    {
     "data": {
      "text/html": [
       "<div>\n",
       "<style scoped>\n",
       "    .dataframe tbody tr th:only-of-type {\n",
       "        vertical-align: middle;\n",
       "    }\n",
       "\n",
       "    .dataframe tbody tr th {\n",
       "        vertical-align: top;\n",
       "    }\n",
       "\n",
       "    .dataframe thead th {\n",
       "        text-align: right;\n",
       "    }\n",
       "</style>\n",
       "<table border=\"1\" class=\"dataframe\">\n",
       "  <thead>\n",
       "    <tr style=\"text-align: right;\">\n",
       "      <th></th>\n",
       "      <th>RECORD_TIME</th>\n",
       "    </tr>\n",
       "  </thead>\n",
       "  <tbody>\n",
       "    <tr>\n",
       "      <th>0</th>\n",
       "      <td>2021-09-12 17:00</td>\n",
       "    </tr>\n",
       "    <tr>\n",
       "      <th>1</th>\n",
       "      <td>2021-09-12 16:30</td>\n",
       "    </tr>\n",
       "  </tbody>\n",
       "</table>\n",
       "</div>"
      ],
      "text/plain": [
       "        RECORD_TIME\n",
       "0  2021-09-12 17:00\n",
       "1  2021-09-12 16:30"
      ]
     },
     "execution_count": 3,
     "metadata": {},
     "output_type": "execute_result"
    }
   ],
   "source": [
    "timestamps"
   ]
  },
  {
   "cell_type": "code",
   "execution_count": 4,
   "id": "alternate-victory",
   "metadata": {
    "execution": {
     "iopub.execute_input": "2021-09-12T15:00:08.114182Z",
     "iopub.status.busy": "2021-09-12T15:00:08.111907Z",
     "iopub.status.idle": "2021-09-12T15:00:08.508580Z",
     "shell.execute_reply": "2021-09-12T15:00:08.509867Z"
    },
    "papermill": {
     "duration": 0.427334,
     "end_time": "2021-09-12T15:00:08.510291",
     "exception": false,
     "start_time": "2021-09-12T15:00:08.082957",
     "status": "completed"
    },
    "tags": []
   },
   "outputs": [],
   "source": [
    "df = pd.read_sql(\"select * from EBAY_TOP_BERLIN where record_time in (select distinct record_time from EBAY_TOP_BERLIN order by record_time desc limit 2)\", sqlite3.connect(\"UsedObjects.db\"))"
   ]
  },
  {
   "cell_type": "code",
   "execution_count": 5,
   "id": "popular-active",
   "metadata": {
    "execution": {
     "iopub.execute_input": "2021-09-12T15:00:08.590665Z",
     "iopub.status.busy": "2021-09-12T15:00:08.578085Z",
     "iopub.status.idle": "2021-09-12T15:00:08.607094Z",
     "shell.execute_reply": "2021-09-12T15:00:08.608483Z"
    },
    "papermill": {
     "duration": 0.072954,
     "end_time": "2021-09-12T15:00:08.608924",
     "exception": false,
     "start_time": "2021-09-12T15:00:08.535970",
     "status": "completed"
    },
    "tags": []
   },
   "outputs": [],
   "source": [
    "df_pivot = df.pivot_table(index=\"PRODUCT\", columns = \"RECORD_TIME\", values = \"LISTING_COUNT\")"
   ]
  },
  {
   "cell_type": "code",
   "execution_count": 6,
   "id": "union-huntington",
   "metadata": {
    "execution": {
     "iopub.execute_input": "2021-09-12T15:00:08.667594Z",
     "iopub.status.busy": "2021-09-12T15:00:08.665231Z",
     "iopub.status.idle": "2021-09-12T15:00:08.671143Z",
     "shell.execute_reply": "2021-09-12T15:00:08.672365Z"
    },
    "papermill": {
     "duration": 0.041997,
     "end_time": "2021-09-12T15:00:08.672804",
     "exception": false,
     "start_time": "2021-09-12T15:00:08.630807",
     "status": "completed"
    },
    "tags": []
   },
   "outputs": [],
   "source": [
    "df_pivot.columns = [\"stamp_1\", \"stamp_2\"]\n",
    "df_pivot_diff = df_pivot.diff(axis=1)"
   ]
  },
  {
   "cell_type": "code",
   "execution_count": 7,
   "id": "fifth-motion",
   "metadata": {
    "execution": {
     "iopub.execute_input": "2021-09-12T15:00:08.726476Z",
     "iopub.status.busy": "2021-09-12T15:00:08.724188Z",
     "iopub.status.idle": "2021-09-12T15:00:10.210504Z",
     "shell.execute_reply": "2021-09-12T15:00:10.212180Z"
    },
    "papermill": {
     "duration": 1.519997,
     "end_time": "2021-09-12T15:00:10.212694",
     "exception": false,
     "start_time": "2021-09-12T15:00:08.692697",
     "status": "completed"
    },
    "tags": []
   },
   "outputs": [
    {
     "data": {
      "text/plain": [
       "<AxesSubplot:ylabel='PRODUCT'>"
      ]
     },
     "execution_count": 7,
     "metadata": {},
     "output_type": "execute_result"
    },
    {
     "data": {
      "image/png": "[encoded data removed]",
      "text/plain": [
       "<Figure size 432x288 with 1 Axes>"
      ]
     },
     "metadata": {
      "needs_background": "light"
     },
     "output_type": "display_data"
    }
   ],
   "source": [
    "df_pivot_diff.sort_values(\"stamp_2\", ascending = False)[\"stamp_2\"].head(10).plot.barh()"
   ]
  },
  {
   "cell_type": "code",
   "execution_count": null,
   "id": "extra-executive",
   "metadata": {
    "papermill": {
     "duration": 0.022411,
     "end_time": "2021-09-12T15:00:10.259675",
     "exception": false,
     "start_time": "2021-09-12T15:00:10.237264",
     "status": "completed"
    },
    "tags": []
   },
   "outputs": [],
   "source": []
  }
 ],
 "metadata": {
  "kernelspec": {
   "display_name": "Python 3",
   "language": "python",
   "name": "python3"
  },
  "language_info": {
   "codemirror_mode": {
    "name": "ipython",
    "version": 3
   },
   "file_extension": ".py",
   "mimetype": "text/x-python",
   "name": "python",
   "nbconvert_exporter": "python",
   "pygments_lexer": "ipython3",
   "version": "3.9.5"
  },
  "papermill": {
   "default_parameters": {},
   "duration": 6.52201,
   "end_time": "2021-09-12T15:00:10.900147",
   "environment_variables": {},
   "exception": null,
   "input_path": "eBay_Overview.ipynb",
   "output_path": "eBay_Overview.ipynb",
   "parameters": {},
   "start_time": "2021-09-12T15:00:04.378137",
   "version": "2.3.3"
  }
 },
 "nbformat": 4,
 "nbformat_minor": 5
}