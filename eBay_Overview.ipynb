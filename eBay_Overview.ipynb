{
 "cells": [
  {
   "cell_type": "code",
   "execution_count": 1,
   "id": "reverse-picking",
   "metadata": {
    "execution": {
     "iopub.execute_input": "2021-11-12T06:30:07.722855Z",
     "iopub.status.busy": "2021-11-12T06:30:07.719674Z",
     "iopub.status.idle": "2021-11-12T06:30:08.666943Z",
     "shell.execute_reply": "2021-11-12T06:30:08.670504Z"
    },
    "papermill": {
     "duration": 0.999993,
     "end_time": "2021-11-12T06:30:08.671638",
     "exception": false,
     "start_time": "2021-11-12T06:30:07.671645",
     "status": "completed"
    },
    "tags": []
   },
   "outputs": [],
   "source": [
    "import pandas as pd\n",
    "import sqlite3"
   ]
  },
  {
   "cell_type": "code",
   "execution_count": 2,
   "id": "innovative-syndrome",
   "metadata": {
    "execution": {
     "iopub.execute_input": "2021-11-12T06:30:08.733311Z",
     "iopub.status.busy": "2021-11-12T06:30:08.730917Z",
     "iopub.status.idle": "2021-11-12T06:30:09.543554Z",
     "shell.execute_reply": "2021-11-12T06:30:09.546299Z"
    },
    "papermill": {
     "duration": 0.8484,
     "end_time": "2021-11-12T06:30:09.547140",
     "exception": false,
     "start_time": "2021-11-12T06:30:08.698740",
     "status": "completed"
    },
    "tags": []
   },
   "outputs": [],
   "source": [
    "timestamps = pd.read_sql(\"select distinct record_time from EBAY_TOP_BERLIN order by record_time desc limit 2\", sqlite3.connect(\"UsedObjects.db\"))"
   ]
  },
  {
   "cell_type": "code",
   "execution_count": 3,
   "id": "periodic-identification",
   "metadata": {
    "execution": {
     "iopub.execute_input": "2021-11-12T06:30:09.629856Z",
     "iopub.status.busy": "2021-11-12T06:30:09.623919Z",
     "iopub.status.idle": "2021-11-12T06:30:09.646883Z",
     "shell.execute_reply": "2021-11-12T06:30:09.648424Z"
    },
    "papermill": {
     "duration": 0.073077,
     "end_time": "2021-11-12T06:30:09.648961",
     "exception": false,
     "start_time": "2021-11-12T06:30:09.575884",
     "status": "completed"
    },
    "tags": []
   },
   "outputs": [
    {
     "data": {
      "text/html": [
       "<div>\n",
       "<style scoped>\n",
       "    .dataframe tbody tr th:only-of-type {\n",
       "        vertical-align: middle;\n",
       "    }\n",
       "\n",
       "    .dataframe tbody tr th {\n",
       "        vertical-align: top;\n",
       "    }\n",
       "\n",
       "    .dataframe thead th {\n",
       "        text-align: right;\n",
       "    }\n",
       "</style>\n",
       "<table border=\"1\" class=\"dataframe\">\n",
       "  <thead>\n",
       "    <tr style=\"text-align: right;\">\n",
       "      <th></th>\n",
       "      <th>RECORD_TIME</th>\n",
       "    </tr>\n",
       "  </thead>\n",
       "  <tbody>\n",
       "    <tr>\n",
       "      <th>0</th>\n",
       "      <td>2021-11-12 07:30</td>\n",
       "    </tr>\n",
       "    <tr>\n",
       "      <th>1</th>\n",
       "      <td>2021-11-12 07:00</td>\n",
       "    </tr>\n",
       "  </tbody>\n",
       "</table>\n",
       "</div>"
      ],
      "text/plain": [
       "        RECORD_TIME\n",
       "0  2021-11-12 07:30\n",
       "1  2021-11-12 07:00"
      ]
     },
     "execution_count": 3,
     "metadata": {},
     "output_type": "execute_result"
    }
   ],
   "source": [
    "timestamps"
   ]
  },
  {
   "cell_type": "code",
   "execution_count": 4,
   "id": "alternate-victory",
   "metadata": {
    "execution": {
     "iopub.execute_input": "2021-11-12T06:30:09.706416Z",
     "iopub.status.busy": "2021-11-12T06:30:09.704044Z",
     "iopub.status.idle": "2021-11-12T06:30:10.832525Z",
     "shell.execute_reply": "2021-11-12T06:30:10.834171Z"
    },
    "papermill": {
     "duration": 1.164036,
     "end_time": "2021-11-12T06:30:10.834674",
     "exception": false,
     "start_time": "2021-11-12T06:30:09.670638",
     "status": "completed"
    },
    "tags": []
   },
   "outputs": [],
   "source": [
    "df = pd.read_sql(\"select * from EBAY_TOP_BERLIN where record_time in (select distinct record_time from EBAY_TOP_BERLIN order by record_time desc limit 2)\", sqlite3.connect(\"UsedObjects.db\"))"
   ]
  },
  {
   "cell_type": "code",
   "execution_count": 5,
   "id": "popular-active",
   "metadata": {
    "execution": {
     "iopub.execute_input": "2021-11-12T06:30:10.914036Z",
     "iopub.status.busy": "2021-11-12T06:30:10.899676Z",
     "iopub.status.idle": "2021-11-12T06:30:10.935050Z",
     "shell.execute_reply": "2021-11-12T06:30:10.933360Z"
    },
    "papermill": {
     "duration": 0.078496,
     "end_time": "2021-11-12T06:30:10.935490",
     "exception": false,
     "start_time": "2021-11-12T06:30:10.856994",
     "status": "completed"
    },
    "tags": []
   },
   "outputs": [],
   "source": [
    "df_pivot = df.pivot_table(index=\"PRODUCT\", columns = \"RECORD_TIME\", values = \"LISTING_COUNT\")"
   ]
  },
  {
   "cell_type": "code",
   "execution_count": 6,
   "id": "union-huntington",
   "metadata": {
    "execution": {
     "iopub.execute_input": "2021-11-12T06:30:10.997951Z",
     "iopub.status.busy": "2021-11-12T06:30:10.995526Z",
     "iopub.status.idle": "2021-11-12T06:30:11.001517Z",
     "shell.execute_reply": "2021-11-12T06:30:11.002966Z"
    },
    "papermill": {
     "duration": 0.046057,
     "end_time": "2021-11-12T06:30:11.003447",
     "exception": false,
     "start_time": "2021-11-12T06:30:10.957390",
     "status": "completed"
    },
    "tags": []
   },
   "outputs": [],
   "source": [
    "df_pivot.columns = [\"stamp_1\", \"stamp_2\"]\n",
    "df_pivot_diff = df_pivot.diff(axis=1)"
   ]
  },
  {
   "cell_type": "code",
   "execution_count": 7,
   "id": "fifth-motion",
   "metadata": {
    "execution": {
     "iopub.execute_input": "2021-11-12T06:30:11.071632Z",
     "iopub.status.busy": "2021-11-12T06:30:11.061350Z",
     "iopub.status.idle": "2021-11-12T06:30:12.801531Z",
     "shell.execute_reply": "2021-11-12T06:30:12.802880Z"
    },
    "papermill": {
     "duration": 1.77717,
     "end_time": "2021-11-12T06:30:12.803351",
     "exception": false,
     "start_time": "2021-11-12T06:30:11.026181",
     "status": "completed"
    },
    "tags": []
   },
   "outputs": [
    {
     "data": {
      "text/plain": [
       "<AxesSubplot:ylabel='PRODUCT'>"
      ]
     },
     "execution_count": 7,
     "metadata": {},
     "output_type": "execute_result"
    },
    {
     "data": {
      "image/png": "[encoded data removed]",
      "text/plain": [
       "<Figure size 432x288 with 1 Axes>"
      ]
     },
     "metadata": {
      "needs_background": "light"
     },
     "output_type": "display_data"
    }
   ],
   "source": [
    "df_pivot_diff.sort_values(\"stamp_2\", ascending = False)[\"stamp_2\"].head(10).plot.barh()"
   ]
  },
  {
   "cell_type": "code",
   "execution_count": null,
   "id": "extra-executive",
   "metadata": {
    "papermill": {
     "duration": 0.025321,
     "end_time": "2021-11-12T06:30:12.852729",
     "exception": false,
     "start_time": "2021-11-12T06:30:12.827408",
     "status": "completed"
    },
    "tags": []
   },
   "outputs": [],
   "source": []
  }
 ],
 "metadata": {
  "kernelspec": {
   "display_name": "Python 3",
   "language": "python",
   "name": "python3"
  },
  "language_info": {
   "codemirror_mode": {
    "name": "ipython",
    "version": 3
   },
   "file_extension": ".py",
   "mimetype": "text/x-python",
   "name": "python",
   "nbconvert_exporter": "python",
   "pygments_lexer": "ipython3",
   "version": "3.9.5"
  },
  "papermill": {
   "default_parameters": {},
   "duration": 8.853965,
   "end_time": "2021-11-12T06:30:13.708891",
   "environment_variables": {},
   "exception": null,
   "input_path": "eBay_Overview.ipynb",
   "output_path": "eBay_Overview.ipynb",
   "parameters": {},
   "start_time": "2021-11-12T06:30:04.854926",
   "version": "2.3.3"
  }
 },
 "nbformat": 4,
 "nbformat_minor": 5
}