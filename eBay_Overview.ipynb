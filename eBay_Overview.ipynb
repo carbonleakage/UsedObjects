{
 "cells": [
  {
   "cell_type": "code",
   "execution_count": 1,
   "id": "reverse-picking",
   "metadata": {
    "execution": {
     "iopub.execute_input": "2021-09-05T12:30:07.456990Z",
     "iopub.status.busy": "2021-09-05T12:30:07.455052Z",
     "iopub.status.idle": "2021-09-05T12:30:08.263898Z",
     "shell.execute_reply": "2021-09-05T12:30:08.265163Z"
    },
    "papermill": {
     "duration": 0.862677,
     "end_time": "2021-09-05T12:30:08.265772",
     "exception": false,
     "start_time": "2021-09-05T12:30:07.403095",
     "status": "completed"
    },
    "tags": []
   },
   "outputs": [],
   "source": [
    "import pandas as pd\n",
    "import sqlite3"
   ]
  },
  {
   "cell_type": "code",
   "execution_count": 2,
   "id": "innovative-syndrome",
   "metadata": {
    "execution": {
     "iopub.execute_input": "2021-09-05T12:30:08.318966Z",
     "iopub.status.busy": "2021-09-05T12:30:08.316622Z",
     "iopub.status.idle": "2021-09-05T12:30:08.534393Z",
     "shell.execute_reply": "2021-09-05T12:30:08.535726Z"
    },
    "papermill": {
     "duration": 0.247731,
     "end_time": "2021-09-05T12:30:08.536146",
     "exception": false,
     "start_time": "2021-09-05T12:30:08.288415",
     "status": "completed"
    },
    "tags": []
   },
   "outputs": [],
   "source": [
    "timestamps = pd.read_sql(\"select distinct record_time from EBAY_TOP_BERLIN order by record_time desc limit 2\", sqlite3.connect(\"UsedObjects.db\"))"
   ]
  },
  {
   "cell_type": "code",
   "execution_count": 3,
   "id": "periodic-identification",
   "metadata": {
    "execution": {
     "iopub.execute_input": "2021-09-05T12:30:08.600930Z",
     "iopub.status.busy": "2021-09-05T12:30:08.598824Z",
     "iopub.status.idle": "2021-09-05T12:30:08.618674Z",
     "shell.execute_reply": "2021-09-05T12:30:08.620086Z"
    },
    "papermill": {
     "duration": 0.064883,
     "end_time": "2021-09-05T12:30:08.620515",
     "exception": false,
     "start_time": "2021-09-05T12:30:08.555632",
     "status": "completed"
    },
    "tags": []
   },
   "outputs": [
    {
     "data": {
      "text/html": [
       "<div>\n",
       "<style scoped>\n",
       "    .dataframe tbody tr th:only-of-type {\n",
       "        vertical-align: middle;\n",
       "    }\n",
       "\n",
       "    .dataframe tbody tr th {\n",
       "        vertical-align: top;\n",
       "    }\n",
       "\n",
       "    .dataframe thead th {\n",
       "        text-align: right;\n",
       "    }\n",
       "</style>\n",
       "<table border=\"1\" class=\"dataframe\">\n",
       "  <thead>\n",
       "    <tr style=\"text-align: right;\">\n",
       "      <th></th>\n",
       "      <th>RECORD_TIME</th>\n",
       "    </tr>\n",
       "  </thead>\n",
       "  <tbody>\n",
       "    <tr>\n",
       "      <th>0</th>\n",
       "      <td>2021-09-05 14:30</td>\n",
       "    </tr>\n",
       "    <tr>\n",
       "      <th>1</th>\n",
       "      <td>2021-09-05 14:00</td>\n",
       "    </tr>\n",
       "  </tbody>\n",
       "</table>\n",
       "</div>"
      ],
      "text/plain": [
       "        RECORD_TIME\n",
       "0  2021-09-05 14:30\n",
       "1  2021-09-05 14:00"
      ]
     },
     "execution_count": 3,
     "metadata": {},
     "output_type": "execute_result"
    }
   ],
   "source": [
    "timestamps"
   ]
  },
  {
   "cell_type": "code",
   "execution_count": 4,
   "id": "alternate-victory",
   "metadata": {
    "execution": {
     "iopub.execute_input": "2021-09-05T12:30:08.671660Z",
     "iopub.status.busy": "2021-09-05T12:30:08.669562Z",
     "iopub.status.idle": "2021-09-05T12:30:08.984096Z",
     "shell.execute_reply": "2021-09-05T12:30:08.985389Z"
    },
    "papermill": {
     "duration": 0.344416,
     "end_time": "2021-09-05T12:30:08.985806",
     "exception": false,
     "start_time": "2021-09-05T12:30:08.641390",
     "status": "completed"
    },
    "tags": []
   },
   "outputs": [],
   "source": [
    "df = pd.read_sql(\"select * from EBAY_TOP_BERLIN where record_time in (select distinct record_time from EBAY_TOP_BERLIN order by record_time desc limit 2)\", sqlite3.connect(\"UsedObjects.db\"))"
   ]
  },
  {
   "cell_type": "code",
   "execution_count": 5,
   "id": "popular-active",
   "metadata": {
    "execution": {
     "iopub.execute_input": "2021-09-05T12:30:09.064873Z",
     "iopub.status.busy": "2021-09-05T12:30:09.052228Z",
     "iopub.status.idle": "2021-09-05T12:30:09.080536Z",
     "shell.execute_reply": "2021-09-05T12:30:09.081753Z"
    },
    "papermill": {
     "duration": 0.070825,
     "end_time": "2021-09-05T12:30:09.082149",
     "exception": false,
     "start_time": "2021-09-05T12:30:09.011324",
     "status": "completed"
    },
    "tags": []
   },
   "outputs": [],
   "source": [
    "df_pivot = df.pivot_table(index=\"PRODUCT\", columns = \"RECORD_TIME\", values = \"LISTING_COUNT\")"
   ]
  },
  {
   "cell_type": "code",
   "execution_count": 6,
   "id": "union-huntington",
   "metadata": {
    "execution": {
     "iopub.execute_input": "2021-09-05T12:30:09.138107Z",
     "iopub.status.busy": "2021-09-05T12:30:09.136073Z",
     "iopub.status.idle": "2021-09-05T12:30:09.141381Z",
     "shell.execute_reply": "2021-09-05T12:30:09.142652Z"
    },
    "papermill": {
     "duration": 0.040555,
     "end_time": "2021-09-05T12:30:09.143256",
     "exception": false,
     "start_time": "2021-09-05T12:30:09.102701",
     "status": "completed"
    },
    "tags": []
   },
   "outputs": [],
   "source": [
    "df_pivot.columns = [\"stamp_1\", \"stamp_2\"]\n",
    "df_pivot_diff = df_pivot.diff(axis=1)"
   ]
  },
  {
   "cell_type": "code",
   "execution_count": 7,
   "id": "fifth-motion",
   "metadata": {
    "execution": {
     "iopub.execute_input": "2021-09-05T12:30:09.199429Z",
     "iopub.status.busy": "2021-09-05T12:30:09.196734Z",
     "iopub.status.idle": "2021-09-05T12:30:10.710338Z",
     "shell.execute_reply": "2021-09-05T12:30:10.711845Z"
    },
    "papermill": {
     "duration": 1.547321,
     "end_time": "2021-09-05T12:30:10.712312",
     "exception": false,
     "start_time": "2021-09-05T12:30:09.164991",
     "status": "completed"
    },
    "tags": []
   },
   "outputs": [
    {
     "data": {
      "text/plain": [
       "<AxesSubplot:ylabel='PRODUCT'>"
      ]
     },
     "execution_count": 7,
     "metadata": {},
     "output_type": "execute_result"
    },
    {
     "data": {
      "image/png": "[encoded data removed]",
      "text/plain": [
       "<Figure size 432x288 with 1 Axes>"
      ]
     },
     "metadata": {
      "needs_background": "light"
     },
     "output_type": "display_data"
    }
   ],
   "source": [
    "df_pivot_diff.sort_values(\"stamp_2\", ascending = False)[\"stamp_2\"].head(10).plot.barh()"
   ]
  },
  {
   "cell_type": "code",
   "execution_count": null,
   "id": "extra-executive",
   "metadata": {
    "papermill": {
     "duration": 0.022238,
     "end_time": "2021-09-05T12:30:10.759121",
     "exception": false,
     "start_time": "2021-09-05T12:30:10.736883",
     "status": "completed"
    },
    "tags": []
   },
   "outputs": [],
   "source": []
  }
 ],
 "metadata": {
  "kernelspec": {
   "display_name": "Python 3",
   "language": "python",
   "name": "python3"
  },
  "language_info": {
   "codemirror_mode": {
    "name": "ipython",
    "version": 3
   },
   "file_extension": ".py",
   "mimetype": "text/x-python",
   "name": "python",
   "nbconvert_exporter": "python",
   "pygments_lexer": "ipython3",
   "version": "3.9.5"
  },
  "papermill": {
   "default_parameters": {},
   "duration": 6.403645,
   "end_time": "2021-09-05T12:30:11.400313",
   "environment_variables": {},
   "exception": null,
   "input_path": "eBay_Overview.ipynb",
   "output_path": "eBay_Overview.ipynb",
   "parameters": {},
   "start_time": "2021-09-05T12:30:04.996668",
   "version": "2.3.3"
  }
 },
 "nbformat": 4,
 "nbformat_minor": 5
}