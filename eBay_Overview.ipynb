{
 "cells": [
  {
   "cell_type": "code",
   "execution_count": 1,
   "id": "reverse-picking",
   "metadata": {
    "execution": {
     "iopub.execute_input": "2021-11-17T00:30:08.105648Z",
     "iopub.status.busy": "2021-11-17T00:30:08.103263Z",
     "iopub.status.idle": "2021-11-17T00:30:09.049891Z",
     "shell.execute_reply": "2021-11-17T00:30:09.051412Z"
    },
    "papermill": {
     "duration": 0.995713,
     "end_time": "2021-11-17T00:30:09.052137",
     "exception": false,
     "start_time": "2021-11-17T00:30:08.056424",
     "status": "completed"
    },
    "tags": []
   },
   "outputs": [],
   "source": [
    "import pandas as pd\n",
    "import sqlite3"
   ]
  },
  {
   "cell_type": "code",
   "execution_count": 2,
   "id": "innovative-syndrome",
   "metadata": {
    "execution": {
     "iopub.execute_input": "2021-11-17T00:30:09.127736Z",
     "iopub.status.busy": "2021-11-17T00:30:09.123703Z",
     "iopub.status.idle": "2021-11-17T00:30:09.969103Z",
     "shell.execute_reply": "2021-11-17T00:30:09.970698Z"
    },
    "papermill": {
     "duration": 0.883002,
     "end_time": "2021-11-17T00:30:09.971245",
     "exception": false,
     "start_time": "2021-11-17T00:30:09.088243",
     "status": "completed"
    },
    "tags": []
   },
   "outputs": [],
   "source": [
    "timestamps = pd.read_sql(\"select distinct record_time from EBAY_TOP_BERLIN order by record_time desc limit 2\", sqlite3.connect(\"UsedObjects.db\"))"
   ]
  },
  {
   "cell_type": "code",
   "execution_count": 3,
   "id": "periodic-identification",
   "metadata": {
    "execution": {
     "iopub.execute_input": "2021-11-17T00:30:10.028262Z",
     "iopub.status.busy": "2021-11-17T00:30:10.026246Z",
     "iopub.status.idle": "2021-11-17T00:30:10.060987Z",
     "shell.execute_reply": "2021-11-17T00:30:10.062339Z"
    },
    "papermill": {
     "duration": 0.071477,
     "end_time": "2021-11-17T00:30:10.062743",
     "exception": false,
     "start_time": "2021-11-17T00:30:09.991266",
     "status": "completed"
    },
    "tags": []
   },
   "outputs": [
    {
     "data": {
      "text/html": [
       "<div>\n",
       "<style scoped>\n",
       "    .dataframe tbody tr th:only-of-type {\n",
       "        vertical-align: middle;\n",
       "    }\n",
       "\n",
       "    .dataframe tbody tr th {\n",
       "        vertical-align: top;\n",
       "    }\n",
       "\n",
       "    .dataframe thead th {\n",
       "        text-align: right;\n",
       "    }\n",
       "</style>\n",
       "<table border=\"1\" class=\"dataframe\">\n",
       "  <thead>\n",
       "    <tr style=\"text-align: right;\">\n",
       "      <th></th>\n",
       "      <th>RECORD_TIME</th>\n",
       "    </tr>\n",
       "  </thead>\n",
       "  <tbody>\n",
       "    <tr>\n",
       "      <th>0</th>\n",
       "      <td>2021-11-17 01:30</td>\n",
       "    </tr>\n",
       "    <tr>\n",
       "      <th>1</th>\n",
       "      <td>2021-11-17 01:00</td>\n",
       "    </tr>\n",
       "  </tbody>\n",
       "</table>\n",
       "</div>"
      ],
      "text/plain": [
       "        RECORD_TIME\n",
       "0  2021-11-17 01:30\n",
       "1  2021-11-17 01:00"
      ]
     },
     "execution_count": 3,
     "metadata": {},
     "output_type": "execute_result"
    }
   ],
   "source": [
    "timestamps"
   ]
  },
  {
   "cell_type": "code",
   "execution_count": 4,
   "id": "alternate-victory",
   "metadata": {
    "execution": {
     "iopub.execute_input": "2021-11-17T00:30:10.113717Z",
     "iopub.status.busy": "2021-11-17T00:30:10.111763Z",
     "iopub.status.idle": "2021-11-17T00:30:11.327398Z",
     "shell.execute_reply": "2021-11-17T00:30:11.329151Z"
    },
    "papermill": {
     "duration": 1.245852,
     "end_time": "2021-11-17T00:30:11.329633",
     "exception": false,
     "start_time": "2021-11-17T00:30:10.083781",
     "status": "completed"
    },
    "tags": []
   },
   "outputs": [],
   "source": [
    "df = pd.read_sql(\"select * from EBAY_TOP_BERLIN where record_time in (select distinct record_time from EBAY_TOP_BERLIN order by record_time desc limit 2)\", sqlite3.connect(\"UsedObjects.db\"))"
   ]
  },
  {
   "cell_type": "code",
   "execution_count": 5,
   "id": "popular-active",
   "metadata": {
    "execution": {
     "iopub.execute_input": "2021-11-17T00:30:11.408300Z",
     "iopub.status.busy": "2021-11-17T00:30:11.393738Z",
     "iopub.status.idle": "2021-11-17T00:30:11.427935Z",
     "shell.execute_reply": "2021-11-17T00:30:11.429595Z"
    },
    "papermill": {
     "duration": 0.077708,
     "end_time": "2021-11-17T00:30:11.430097",
     "exception": false,
     "start_time": "2021-11-17T00:30:11.352389",
     "status": "completed"
    },
    "tags": []
   },
   "outputs": [],
   "source": [
    "df_pivot = df.pivot_table(index=\"PRODUCT\", columns = \"RECORD_TIME\", values = \"LISTING_COUNT\")"
   ]
  },
  {
   "cell_type": "code",
   "execution_count": 6,
   "id": "union-huntington",
   "metadata": {
    "execution": {
     "iopub.execute_input": "2021-11-17T00:30:11.489489Z",
     "iopub.status.busy": "2021-11-17T00:30:11.487228Z",
     "iopub.status.idle": "2021-11-17T00:30:11.492968Z",
     "shell.execute_reply": "2021-11-17T00:30:11.494352Z"
    },
    "papermill": {
     "duration": 0.043072,
     "end_time": "2021-11-17T00:30:11.494821",
     "exception": false,
     "start_time": "2021-11-17T00:30:11.451749",
     "status": "completed"
    },
    "tags": []
   },
   "outputs": [],
   "source": [
    "df_pivot.columns = [\"stamp_1\", \"stamp_2\"]\n",
    "df_pivot_diff = df_pivot.diff(axis=1)"
   ]
  },
  {
   "cell_type": "code",
   "execution_count": 7,
   "id": "fifth-motion",
   "metadata": {
    "execution": {
     "iopub.execute_input": "2021-11-17T00:30:11.550656Z",
     "iopub.status.busy": "2021-11-17T00:30:11.548118Z",
     "iopub.status.idle": "2021-11-17T00:30:13.486858Z",
     "shell.execute_reply": "2021-11-17T00:30:13.489501Z"
    },
    "papermill": {
     "duration": 1.975014,
     "end_time": "2021-11-17T00:30:13.490335",
     "exception": false,
     "start_time": "2021-11-17T00:30:11.515321",
     "status": "completed"
    },
    "tags": []
   },
   "outputs": [
    {
     "data": {
      "text/plain": [
       "<AxesSubplot:ylabel='PRODUCT'>"
      ]
     },
     "execution_count": 7,
     "metadata": {},
     "output_type": "execute_result"
    },
    {
     "data": {
      "image/png": "[encoded data removed]",
      "text/plain": [
       "<Figure size 432x288 with 1 Axes>"
      ]
     },
     "metadata": {
      "needs_background": "light"
     },
     "output_type": "display_data"
    }
   ],
   "source": [
    "df_pivot_diff.sort_values(\"stamp_2\", ascending = False)[\"stamp_2\"].head(10).plot.barh()"
   ]
  },
  {
   "cell_type": "code",
   "execution_count": null,
   "id": "extra-executive",
   "metadata": {
    "papermill": {
     "duration": 0.035571,
     "end_time": "2021-11-17T00:30:13.563613",
     "exception": false,
     "start_time": "2021-11-17T00:30:13.528042",
     "status": "completed"
    },
    "tags": []
   },
   "outputs": [],
   "source": []
  }
 ],
 "metadata": {
  "kernelspec": {
   "display_name": "Python 3",
   "language": "python",
   "name": "python3"
  },
  "language_info": {
   "codemirror_mode": {
    "name": "ipython",
    "version": 3
   },
   "file_extension": ".py",
   "mimetype": "text/x-python",
   "name": "python",
   "nbconvert_exporter": "python",
   "pygments_lexer": "ipython3",
   "version": "3.9.5"
  },
  "papermill": {
   "default_parameters": {},
   "duration": 9.934448,
   "end_time": "2021-11-17T00:30:15.270402",
   "environment_variables": {},
   "exception": null,
   "input_path": "eBay_Overview.ipynb",
   "output_path": "eBay_Overview.ipynb",
   "parameters": {},
   "start_time": "2021-11-17T00:30:05.335954",
   "version": "2.3.3"
  }
 },
 "nbformat": 4,
 "nbformat_minor": 5
}