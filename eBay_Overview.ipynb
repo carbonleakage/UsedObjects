{
 "cells": [
  {
   "cell_type": "code",
   "execution_count": 1,
   "id": "reverse-picking",
   "metadata": {
    "execution": {
     "iopub.execute_input": "2021-10-17T05:30:07.009989Z",
     "iopub.status.busy": "2021-10-17T05:30:07.007908Z",
     "iopub.status.idle": "2021-10-17T05:30:07.816313Z",
     "shell.execute_reply": "2021-10-17T05:30:07.817853Z"
    },
    "papermill": {
     "duration": 0.85823,
     "end_time": "2021-10-17T05:30:07.818549",
     "exception": false,
     "start_time": "2021-10-17T05:30:06.960319",
     "status": "completed"
    },
    "tags": []
   },
   "outputs": [],
   "source": [
    "import pandas as pd\n",
    "import sqlite3"
   ]
  },
  {
   "cell_type": "code",
   "execution_count": 2,
   "id": "innovative-syndrome",
   "metadata": {
    "execution": {
     "iopub.execute_input": "2021-10-17T05:30:07.870309Z",
     "iopub.status.busy": "2021-10-17T05:30:07.867907Z",
     "iopub.status.idle": "2021-10-17T05:30:08.431322Z",
     "shell.execute_reply": "2021-10-17T05:30:08.432608Z"
    },
    "papermill": {
     "duration": 0.593866,
     "end_time": "2021-10-17T05:30:08.433114",
     "exception": false,
     "start_time": "2021-10-17T05:30:07.839248",
     "status": "completed"
    },
    "tags": []
   },
   "outputs": [],
   "source": [
    "timestamps = pd.read_sql(\"select distinct record_time from EBAY_TOP_BERLIN order by record_time desc limit 2\", sqlite3.connect(\"UsedObjects.db\"))"
   ]
  },
  {
   "cell_type": "code",
   "execution_count": 3,
   "id": "periodic-identification",
   "metadata": {
    "execution": {
     "iopub.execute_input": "2021-10-17T05:30:08.511338Z",
     "iopub.status.busy": "2021-10-17T05:30:08.509310Z",
     "iopub.status.idle": "2021-10-17T05:30:08.531733Z",
     "shell.execute_reply": "2021-10-17T05:30:08.530292Z"
    },
    "papermill": {
     "duration": 0.072928,
     "end_time": "2021-10-17T05:30:08.532086",
     "exception": false,
     "start_time": "2021-10-17T05:30:08.459158",
     "status": "completed"
    },
    "tags": []
   },
   "outputs": [
    {
     "data": {
      "text/html": [
       "<div>\n",
       "<style scoped>\n",
       "    .dataframe tbody tr th:only-of-type {\n",
       "        vertical-align: middle;\n",
       "    }\n",
       "\n",
       "    .dataframe tbody tr th {\n",
       "        vertical-align: top;\n",
       "    }\n",
       "\n",
       "    .dataframe thead th {\n",
       "        text-align: right;\n",
       "    }\n",
       "</style>\n",
       "<table border=\"1\" class=\"dataframe\">\n",
       "  <thead>\n",
       "    <tr style=\"text-align: right;\">\n",
       "      <th></th>\n",
       "      <th>RECORD_TIME</th>\n",
       "    </tr>\n",
       "  </thead>\n",
       "  <tbody>\n",
       "    <tr>\n",
       "      <th>0</th>\n",
       "      <td>2021-10-17 07:30</td>\n",
       "    </tr>\n",
       "    <tr>\n",
       "      <th>1</th>\n",
       "      <td>2021-10-17 07:00</td>\n",
       "    </tr>\n",
       "  </tbody>\n",
       "</table>\n",
       "</div>"
      ],
      "text/plain": [
       "        RECORD_TIME\n",
       "0  2021-10-17 07:30\n",
       "1  2021-10-17 07:00"
      ]
     },
     "execution_count": 3,
     "metadata": {},
     "output_type": "execute_result"
    }
   ],
   "source": [
    "timestamps"
   ]
  },
  {
   "cell_type": "code",
   "execution_count": 4,
   "id": "alternate-victory",
   "metadata": {
    "execution": {
     "iopub.execute_input": "2021-10-17T05:30:08.584564Z",
     "iopub.status.busy": "2021-10-17T05:30:08.582273Z",
     "iopub.status.idle": "2021-10-17T05:30:09.387614Z",
     "shell.execute_reply": "2021-10-17T05:30:09.388803Z"
    },
    "papermill": {
     "duration": 0.836042,
     "end_time": "2021-10-17T05:30:09.389235",
     "exception": false,
     "start_time": "2021-10-17T05:30:08.553193",
     "status": "completed"
    },
    "tags": []
   },
   "outputs": [],
   "source": [
    "df = pd.read_sql(\"select * from EBAY_TOP_BERLIN where record_time in (select distinct record_time from EBAY_TOP_BERLIN order by record_time desc limit 2)\", sqlite3.connect(\"UsedObjects.db\"))"
   ]
  },
  {
   "cell_type": "code",
   "execution_count": 5,
   "id": "popular-active",
   "metadata": {
    "execution": {
     "iopub.execute_input": "2021-10-17T05:30:09.463550Z",
     "iopub.status.busy": "2021-10-17T05:30:09.451456Z",
     "iopub.status.idle": "2021-10-17T05:30:09.479287Z",
     "shell.execute_reply": "2021-10-17T05:30:09.480572Z"
    },
    "papermill": {
     "duration": 0.068855,
     "end_time": "2021-10-17T05:30:09.481045",
     "exception": false,
     "start_time": "2021-10-17T05:30:09.412190",
     "status": "completed"
    },
    "tags": []
   },
   "outputs": [],
   "source": [
    "df_pivot = df.pivot_table(index=\"PRODUCT\", columns = \"RECORD_TIME\", values = \"LISTING_COUNT\")"
   ]
  },
  {
   "cell_type": "code",
   "execution_count": 6,
   "id": "union-huntington",
   "metadata": {
    "execution": {
     "iopub.execute_input": "2021-10-17T05:30:09.537465Z",
     "iopub.status.busy": "2021-10-17T05:30:09.535327Z",
     "iopub.status.idle": "2021-10-17T05:30:09.542262Z",
     "shell.execute_reply": "2021-10-17T05:30:09.540839Z"
    },
    "papermill": {
     "duration": 0.040438,
     "end_time": "2021-10-17T05:30:09.542611",
     "exception": false,
     "start_time": "2021-10-17T05:30:09.502173",
     "status": "completed"
    },
    "tags": []
   },
   "outputs": [],
   "source": [
    "df_pivot.columns = [\"stamp_1\", \"stamp_2\"]\n",
    "df_pivot_diff = df_pivot.diff(axis=1)"
   ]
  },
  {
   "cell_type": "code",
   "execution_count": 7,
   "id": "fifth-motion",
   "metadata": {
    "execution": {
     "iopub.execute_input": "2021-10-17T05:30:09.596527Z",
     "iopub.status.busy": "2021-10-17T05:30:09.594109Z",
     "iopub.status.idle": "2021-10-17T05:30:11.086102Z",
     "shell.execute_reply": "2021-10-17T05:30:11.087389Z"
    },
    "papermill": {
     "duration": 1.524848,
     "end_time": "2021-10-17T05:30:11.087802",
     "exception": false,
     "start_time": "2021-10-17T05:30:09.562954",
     "status": "completed"
    },
    "tags": []
   },
   "outputs": [
    {
     "data": {
      "text/plain": [
       "<AxesSubplot:ylabel='PRODUCT'>"
      ]
     },
     "execution_count": 7,
     "metadata": {},
     "output_type": "execute_result"
    },
    {
     "data": {
      "image/png": "[encoded data removed]",
      "text/plain": [
       "<Figure size 432x288 with 1 Axes>"
      ]
     },
     "metadata": {
      "needs_background": "light"
     },
     "output_type": "display_data"
    }
   ],
   "source": [
    "df_pivot_diff.sort_values(\"stamp_2\", ascending = False)[\"stamp_2\"].head(10).plot.barh()"
   ]
  },
  {
   "cell_type": "code",
   "execution_count": null,
   "id": "extra-executive",
   "metadata": {
    "papermill": {
     "duration": 0.022175,
     "end_time": "2021-10-17T05:30:11.134600",
     "exception": false,
     "start_time": "2021-10-17T05:30:11.112425",
     "status": "completed"
    },
    "tags": []
   },
   "outputs": [],
   "source": []
  }
 ],
 "metadata": {
  "kernelspec": {
   "display_name": "Python 3",
   "language": "python",
   "name": "python3"
  },
  "language_info": {
   "codemirror_mode": {
    "name": "ipython",
    "version": 3
   },
   "file_extension": ".py",
   "mimetype": "text/x-python",
   "name": "python",
   "nbconvert_exporter": "python",
   "pygments_lexer": "ipython3",
   "version": "3.9.5"
  },
  "papermill": {
   "default_parameters": {},
   "duration": 7.825054,
   "end_time": "2021-10-17T05:30:12.372912",
   "environment_variables": {},
   "exception": null,
   "input_path": "eBay_Overview.ipynb",
   "output_path": "eBay_Overview.ipynb",
   "parameters": {},
   "start_time": "2021-10-17T05:30:04.547858",
   "version": "2.3.3"
  }
 },
 "nbformat": 4,
 "nbformat_minor": 5
}