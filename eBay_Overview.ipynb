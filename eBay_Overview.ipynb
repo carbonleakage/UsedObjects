{
 "cells": [
  {
   "cell_type": "code",
   "execution_count": 1,
   "id": "reverse-picking",
   "metadata": {
    "execution": {
     "iopub.execute_input": "2021-12-16T23:00:08.191864Z",
     "iopub.status.busy": "2021-12-16T23:00:08.189609Z",
     "iopub.status.idle": "2021-12-16T23:00:09.162208Z",
     "shell.execute_reply": "2021-12-16T23:00:09.163601Z"
    },
    "papermill": {
     "duration": 1.022035,
     "end_time": "2021-12-16T23:00:09.164281",
     "exception": false,
     "start_time": "2021-12-16T23:00:08.142246",
     "status": "completed"
    },
    "tags": []
   },
   "outputs": [],
   "source": [
    "import pandas as pd\n",
    "import sqlite3"
   ]
  },
  {
   "cell_type": "code",
   "execution_count": 2,
   "id": "innovative-syndrome",
   "metadata": {
    "execution": {
     "iopub.execute_input": "2021-12-16T23:00:09.232880Z",
     "iopub.status.busy": "2021-12-16T23:00:09.230355Z",
     "iopub.status.idle": "2021-12-16T23:00:10.330235Z",
     "shell.execute_reply": "2021-12-16T23:00:10.331629Z"
    },
    "papermill": {
     "duration": 1.133397,
     "end_time": "2021-12-16T23:00:10.332108",
     "exception": false,
     "start_time": "2021-12-16T23:00:09.198711",
     "status": "completed"
    },
    "tags": []
   },
   "outputs": [],
   "source": [
    "timestamps = pd.read_sql(\"select distinct record_time from EBAY_TOP_BERLIN order by record_time desc limit 2\", sqlite3.connect(\"UsedObjects.db\"))"
   ]
  },
  {
   "cell_type": "code",
   "execution_count": 3,
   "id": "periodic-identification",
   "metadata": {
    "execution": {
     "iopub.execute_input": "2021-12-16T23:00:10.407613Z",
     "iopub.status.busy": "2021-12-16T23:00:10.401430Z",
     "iopub.status.idle": "2021-12-16T23:00:10.424218Z",
     "shell.execute_reply": "2021-12-16T23:00:10.425828Z"
    },
    "papermill": {
     "duration": 0.073752,
     "end_time": "2021-12-16T23:00:10.426372",
     "exception": false,
     "start_time": "2021-12-16T23:00:10.352620",
     "status": "completed"
    },
    "tags": []
   },
   "outputs": [
    {
     "data": {
      "text/html": [
       "<div>\n",
       "<style scoped>\n",
       "    .dataframe tbody tr th:only-of-type {\n",
       "        vertical-align: middle;\n",
       "    }\n",
       "\n",
       "    .dataframe tbody tr th {\n",
       "        vertical-align: top;\n",
       "    }\n",
       "\n",
       "    .dataframe thead th {\n",
       "        text-align: right;\n",
       "    }\n",
       "</style>\n",
       "<table border=\"1\" class=\"dataframe\">\n",
       "  <thead>\n",
       "    <tr style=\"text-align: right;\">\n",
       "      <th></th>\n",
       "      <th>RECORD_TIME</th>\n",
       "    </tr>\n",
       "  </thead>\n",
       "  <tbody>\n",
       "    <tr>\n",
       "      <th>0</th>\n",
       "      <td>2021-12-17 00:00</td>\n",
       "    </tr>\n",
       "    <tr>\n",
       "      <th>1</th>\n",
       "      <td>2021-12-16 23:30</td>\n",
       "    </tr>\n",
       "  </tbody>\n",
       "</table>\n",
       "</div>"
      ],
      "text/plain": [
       "        RECORD_TIME\n",
       "0  2021-12-17 00:00\n",
       "1  2021-12-16 23:30"
      ]
     },
     "execution_count": 3,
     "metadata": {},
     "output_type": "execute_result"
    }
   ],
   "source": [
    "timestamps"
   ]
  },
  {
   "cell_type": "code",
   "execution_count": 4,
   "id": "alternate-victory",
   "metadata": {
    "execution": {
     "iopub.execute_input": "2021-12-16T23:00:10.482804Z",
     "iopub.status.busy": "2021-12-16T23:00:10.480283Z",
     "iopub.status.idle": "2021-12-16T23:00:12.047943Z",
     "shell.execute_reply": "2021-12-16T23:00:12.049683Z"
    },
    "papermill": {
     "duration": 1.602522,
     "end_time": "2021-12-16T23:00:12.050192",
     "exception": false,
     "start_time": "2021-12-16T23:00:10.447670",
     "status": "completed"
    },
    "tags": []
   },
   "outputs": [],
   "source": [
    "df = pd.read_sql(\"select * from EBAY_TOP_BERLIN where record_time in (select distinct record_time from EBAY_TOP_BERLIN order by record_time desc limit 2)\", sqlite3.connect(\"UsedObjects.db\"))"
   ]
  },
  {
   "cell_type": "code",
   "execution_count": 5,
   "id": "popular-active",
   "metadata": {
    "execution": {
     "iopub.execute_input": "2021-12-16T23:00:12.122820Z",
     "iopub.status.busy": "2021-12-16T23:00:12.114527Z",
     "iopub.status.idle": "2021-12-16T23:00:12.146291Z",
     "shell.execute_reply": "2021-12-16T23:00:12.147646Z"
    },
    "papermill": {
     "duration": 0.076588,
     "end_time": "2021-12-16T23:00:12.148128",
     "exception": false,
     "start_time": "2021-12-16T23:00:12.071540",
     "status": "completed"
    },
    "tags": []
   },
   "outputs": [],
   "source": [
    "df_pivot = df.pivot_table(index=\"PRODUCT\", columns = \"RECORD_TIME\", values = \"LISTING_COUNT\")"
   ]
  },
  {
   "cell_type": "code",
   "execution_count": 6,
   "id": "union-huntington",
   "metadata": {
    "execution": {
     "iopub.execute_input": "2021-12-16T23:00:12.205753Z",
     "iopub.status.busy": "2021-12-16T23:00:12.203495Z",
     "iopub.status.idle": "2021-12-16T23:00:12.209391Z",
     "shell.execute_reply": "2021-12-16T23:00:12.210863Z"
    },
    "papermill": {
     "duration": 0.043445,
     "end_time": "2021-12-16T23:00:12.211331",
     "exception": false,
     "start_time": "2021-12-16T23:00:12.167886",
     "status": "completed"
    },
    "tags": []
   },
   "outputs": [],
   "source": [
    "df_pivot.columns = [\"stamp_1\", \"stamp_2\"]\n",
    "df_pivot_diff = df_pivot.diff(axis=1)"
   ]
  },
  {
   "cell_type": "code",
   "execution_count": 7,
   "id": "fifth-motion",
   "metadata": {
    "execution": {
     "iopub.execute_input": "2021-12-16T23:00:12.273064Z",
     "iopub.status.busy": "2021-12-16T23:00:12.269586Z",
     "iopub.status.idle": "2021-12-16T23:00:14.291615Z",
     "shell.execute_reply": "2021-12-16T23:00:14.293013Z"
    },
    "papermill": {
     "duration": 2.060307,
     "end_time": "2021-12-16T23:00:14.293483",
     "exception": false,
     "start_time": "2021-12-16T23:00:12.233176",
     "status": "completed"
    },
    "tags": []
   },
   "outputs": [
    {
     "data": {
      "text/plain": [
       "<AxesSubplot:ylabel='PRODUCT'>"
      ]
     },
     "execution_count": 7,
     "metadata": {},
     "output_type": "execute_result"
    },
    {
     "data": {
      "image/png": "[encoded data removed]",
      "text/plain": [
       "<Figure size 432x288 with 1 Axes>"
      ]
     },
     "metadata": {
      "needs_background": "light"
     },
     "output_type": "display_data"
    }
   ],
   "source": [
    "df_pivot_diff.sort_values(\"stamp_2\", ascending = False)[\"stamp_2\"].head(10).plot.barh()"
   ]
  },
  {
   "cell_type": "code",
   "execution_count": null,
   "id": "extra-executive",
   "metadata": {
    "papermill": {
     "duration": 0.072737,
     "end_time": "2021-12-16T23:00:14.390965",
     "exception": false,
     "start_time": "2021-12-16T23:00:14.318228",
     "status": "completed"
    },
    "tags": []
   },
   "outputs": [],
   "source": []
  }
 ],
 "metadata": {
  "kernelspec": {
   "display_name": "Python 3",
   "language": "python",
   "name": "python3"
  },
  "language_info": {
   "codemirror_mode": {
    "name": "ipython",
    "version": 3
   },
   "file_extension": ".py",
   "mimetype": "text/x-python",
   "name": "python",
   "nbconvert_exporter": "python",
   "pygments_lexer": "ipython3",
   "version": "3.9.5"
  },
  "papermill": {
   "default_parameters": {},
   "duration": 9.648711,
   "end_time": "2021-12-16T23:00:15.040113",
   "environment_variables": {},
   "exception": null,
   "input_path": "eBay_Overview.ipynb",
   "output_path": "eBay_Overview.ipynb",
   "parameters": {},
   "start_time": "2021-12-16T23:00:05.391402",
   "version": "2.3.3"
  }
 },
 "nbformat": 4,
 "nbformat_minor": 5
}