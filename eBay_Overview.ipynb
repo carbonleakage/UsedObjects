{
 "cells": [
  {
   "cell_type": "code",
   "execution_count": 1,
   "id": "reverse-picking",
   "metadata": {
    "execution": {
     "iopub.execute_input": "2021-08-29T18:00:07.174344Z",
     "iopub.status.busy": "2021-08-29T18:00:07.172333Z",
     "iopub.status.idle": "2021-08-29T18:00:07.978237Z",
     "shell.execute_reply": "2021-08-29T18:00:07.979479Z"
    },
    "papermill": {
     "duration": 0.856123,
     "end_time": "2021-08-29T18:00:07.980103",
     "exception": false,
     "start_time": "2021-08-29T18:00:07.123980",
     "status": "completed"
    },
    "tags": []
   },
   "outputs": [],
   "source": [
    "import pandas as pd\n",
    "import sqlite3"
   ]
  },
  {
   "cell_type": "code",
   "execution_count": 2,
   "id": "innovative-syndrome",
   "metadata": {
    "execution": {
     "iopub.execute_input": "2021-08-29T18:00:08.032856Z",
     "iopub.status.busy": "2021-08-29T18:00:08.030469Z",
     "iopub.status.idle": "2021-08-29T18:00:08.190952Z",
     "shell.execute_reply": "2021-08-29T18:00:08.192143Z"
    },
    "papermill": {
     "duration": 0.190327,
     "end_time": "2021-08-29T18:00:08.192624",
     "exception": false,
     "start_time": "2021-08-29T18:00:08.002297",
     "status": "completed"
    },
    "tags": []
   },
   "outputs": [],
   "source": [
    "timestamps = pd.read_sql(\"select distinct record_time from EBAY_TOP_BERLIN order by record_time desc limit 2\", sqlite3.connect(\"UsedObjects.db\"))"
   ]
  },
  {
   "cell_type": "code",
   "execution_count": 3,
   "id": "periodic-identification",
   "metadata": {
    "execution": {
     "iopub.execute_input": "2021-08-29T18:00:08.255710Z",
     "iopub.status.busy": "2021-08-29T18:00:08.253685Z",
     "iopub.status.idle": "2021-08-29T18:00:08.273589Z",
     "shell.execute_reply": "2021-08-29T18:00:08.274786Z"
    },
    "papermill": {
     "duration": 0.063257,
     "end_time": "2021-08-29T18:00:08.275219",
     "exception": false,
     "start_time": "2021-08-29T18:00:08.211962",
     "status": "completed"
    },
    "tags": []
   },
   "outputs": [
    {
     "data": {
      "text/html": [
       "<div>\n",
       "<style scoped>\n",
       "    .dataframe tbody tr th:only-of-type {\n",
       "        vertical-align: middle;\n",
       "    }\n",
       "\n",
       "    .dataframe tbody tr th {\n",
       "        vertical-align: top;\n",
       "    }\n",
       "\n",
       "    .dataframe thead th {\n",
       "        text-align: right;\n",
       "    }\n",
       "</style>\n",
       "<table border=\"1\" class=\"dataframe\">\n",
       "  <thead>\n",
       "    <tr style=\"text-align: right;\">\n",
       "      <th></th>\n",
       "      <th>RECORD_TIME</th>\n",
       "    </tr>\n",
       "  </thead>\n",
       "  <tbody>\n",
       "    <tr>\n",
       "      <th>0</th>\n",
       "      <td>2021-08-29 20:00</td>\n",
       "    </tr>\n",
       "    <tr>\n",
       "      <th>1</th>\n",
       "      <td>2021-08-29 19:30</td>\n",
       "    </tr>\n",
       "  </tbody>\n",
       "</table>\n",
       "</div>"
      ],
      "text/plain": [
       "        RECORD_TIME\n",
       "0  2021-08-29 20:00\n",
       "1  2021-08-29 19:30"
      ]
     },
     "execution_count": 3,
     "metadata": {},
     "output_type": "execute_result"
    }
   ],
   "source": [
    "timestamps"
   ]
  },
  {
   "cell_type": "code",
   "execution_count": 4,
   "id": "alternate-victory",
   "metadata": {
    "execution": {
     "iopub.execute_input": "2021-08-29T18:00:08.328400Z",
     "iopub.status.busy": "2021-08-29T18:00:08.326054Z",
     "iopub.status.idle": "2021-08-29T18:00:08.566018Z",
     "shell.execute_reply": "2021-08-29T18:00:08.567497Z"
    },
    "papermill": {
     "duration": 0.270391,
     "end_time": "2021-08-29T18:00:08.567959",
     "exception": false,
     "start_time": "2021-08-29T18:00:08.297568",
     "status": "completed"
    },
    "tags": []
   },
   "outputs": [],
   "source": [
    "df = pd.read_sql(\"select * from EBAY_TOP_BERLIN where record_time in (select distinct record_time from EBAY_TOP_BERLIN order by record_time desc limit 2)\", sqlite3.connect(\"UsedObjects.db\"))"
   ]
  },
  {
   "cell_type": "code",
   "execution_count": 5,
   "id": "popular-active",
   "metadata": {
    "execution": {
     "iopub.execute_input": "2021-08-29T18:00:08.642038Z",
     "iopub.status.busy": "2021-08-29T18:00:08.634370Z",
     "iopub.status.idle": "2021-08-29T18:00:08.662313Z",
     "shell.execute_reply": "2021-08-29T18:00:08.663526Z"
    },
    "papermill": {
     "duration": 0.074759,
     "end_time": "2021-08-29T18:00:08.663930",
     "exception": false,
     "start_time": "2021-08-29T18:00:08.589171",
     "status": "completed"
    },
    "tags": []
   },
   "outputs": [],
   "source": [
    "df_pivot = df.pivot_table(index=\"PRODUCT\", columns = \"RECORD_TIME\", values = \"LISTING_COUNT\")"
   ]
  },
  {
   "cell_type": "code",
   "execution_count": 6,
   "id": "union-huntington",
   "metadata": {
    "execution": {
     "iopub.execute_input": "2021-08-29T18:00:08.720497Z",
     "iopub.status.busy": "2021-08-29T18:00:08.718428Z",
     "iopub.status.idle": "2021-08-29T18:00:08.723683Z",
     "shell.execute_reply": "2021-08-29T18:00:08.724947Z"
    },
    "papermill": {
     "duration": 0.040126,
     "end_time": "2021-08-29T18:00:08.725383",
     "exception": false,
     "start_time": "2021-08-29T18:00:08.685257",
     "status": "completed"
    },
    "tags": []
   },
   "outputs": [],
   "source": [
    "df_pivot.columns = [\"stamp_1\", \"stamp_2\"]\n",
    "df_pivot_diff = df_pivot.diff(axis=1)"
   ]
  },
  {
   "cell_type": "code",
   "execution_count": 7,
   "id": "fifth-motion",
   "metadata": {
    "execution": {
     "iopub.execute_input": "2021-08-29T18:00:08.778928Z",
     "iopub.status.busy": "2021-08-29T18:00:08.776561Z",
     "iopub.status.idle": "2021-08-29T18:00:10.267420Z",
     "shell.execute_reply": "2021-08-29T18:00:10.268941Z"
    },
    "papermill": {
     "duration": 1.523771,
     "end_time": "2021-08-29T18:00:10.269384",
     "exception": false,
     "start_time": "2021-08-29T18:00:08.745613",
     "status": "completed"
    },
    "tags": []
   },
   "outputs": [
    {
     "data": {
      "text/plain": [
       "<AxesSubplot:ylabel='PRODUCT'>"
      ]
     },
     "execution_count": 7,
     "metadata": {},
     "output_type": "execute_result"
    },
    {
     "data": {
      "image/png": "[encoded data removed]",
      "text/plain": [
       "<Figure size 432x288 with 1 Axes>"
      ]
     },
     "metadata": {
      "needs_background": "light"
     },
     "output_type": "display_data"
    }
   ],
   "source": [
    "df_pivot_diff.sort_values(\"stamp_2\", ascending = False)[\"stamp_2\"].head(10).plot.barh()"
   ]
  },
  {
   "cell_type": "code",
   "execution_count": null,
   "id": "extra-executive",
   "metadata": {
    "papermill": {
     "duration": 0.021819,
     "end_time": "2021-08-29T18:00:10.315265",
     "exception": false,
     "start_time": "2021-08-29T18:00:10.293446",
     "status": "completed"
    },
    "tags": []
   },
   "outputs": [],
   "source": []
  }
 ],
 "metadata": {
  "kernelspec": {
   "display_name": "Python 3",
   "language": "python",
   "name": "python3"
  },
  "language_info": {
   "codemirror_mode": {
    "name": "ipython",
    "version": 3
   },
   "file_extension": ".py",
   "mimetype": "text/x-python",
   "name": "python",
   "nbconvert_exporter": "python",
   "pygments_lexer": "ipython3",
   "version": "3.9.5"
  },
  "papermill": {
   "default_parameters": {},
   "duration": 6.818538,
   "end_time": "2021-08-29T18:00:11.539239",
   "environment_variables": {},
   "exception": null,
   "input_path": "eBay_Overview.ipynb",
   "output_path": "eBay_Overview.ipynb",
   "parameters": {},
   "start_time": "2021-08-29T18:00:04.720701",
   "version": "2.3.3"
  }
 },
 "nbformat": 4,
 "nbformat_minor": 5
}