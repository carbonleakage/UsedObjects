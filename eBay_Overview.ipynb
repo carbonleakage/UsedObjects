{
 "cells": [
  {
   "cell_type": "code",
   "execution_count": 1,
   "id": "reverse-picking",
   "metadata": {
    "execution": {
     "iopub.execute_input": "2021-12-10T01:30:08.928780Z",
     "iopub.status.busy": "2021-12-10T01:30:08.919088Z",
     "iopub.status.idle": "2021-12-10T01:30:09.819648Z",
     "shell.execute_reply": "2021-12-10T01:30:09.821483Z"
    },
    "papermill": {
     "duration": 0.940871,
     "end_time": "2021-12-10T01:30:09.822261",
     "exception": false,
     "start_time": "2021-12-10T01:30:08.881390",
     "status": "completed"
    },
    "tags": []
   },
   "outputs": [],
   "source": [
    "import pandas as pd\n",
    "import sqlite3"
   ]
  },
  {
   "cell_type": "code",
   "execution_count": 2,
   "id": "innovative-syndrome",
   "metadata": {
    "execution": {
     "iopub.execute_input": "2021-12-10T01:30:09.886970Z",
     "iopub.status.busy": "2021-12-10T01:30:09.884883Z",
     "iopub.status.idle": "2021-12-10T01:30:10.929260Z",
     "shell.execute_reply": "2021-12-10T01:30:10.931350Z"
    },
    "papermill": {
     "duration": 1.077212,
     "end_time": "2021-12-10T01:30:10.931828",
     "exception": false,
     "start_time": "2021-12-10T01:30:09.854616",
     "status": "completed"
    },
    "tags": []
   },
   "outputs": [],
   "source": [
    "timestamps = pd.read_sql(\"select distinct record_time from EBAY_TOP_BERLIN order by record_time desc limit 2\", sqlite3.connect(\"UsedObjects.db\"))"
   ]
  },
  {
   "cell_type": "code",
   "execution_count": 3,
   "id": "periodic-identification",
   "metadata": {
    "execution": {
     "iopub.execute_input": "2021-12-10T01:30:11.003565Z",
     "iopub.status.busy": "2021-12-10T01:30:10.997646Z",
     "iopub.status.idle": "2021-12-10T01:30:11.020823Z",
     "shell.execute_reply": "2021-12-10T01:30:11.022465Z"
    },
    "papermill": {
     "duration": 0.071515,
     "end_time": "2021-12-10T01:30:11.022972",
     "exception": false,
     "start_time": "2021-12-10T01:30:10.951457",
     "status": "completed"
    },
    "tags": []
   },
   "outputs": [
    {
     "data": {
      "text/html": [
       "<div>\n",
       "<style scoped>\n",
       "    .dataframe tbody tr th:only-of-type {\n",
       "        vertical-align: middle;\n",
       "    }\n",
       "\n",
       "    .dataframe tbody tr th {\n",
       "        vertical-align: top;\n",
       "    }\n",
       "\n",
       "    .dataframe thead th {\n",
       "        text-align: right;\n",
       "    }\n",
       "</style>\n",
       "<table border=\"1\" class=\"dataframe\">\n",
       "  <thead>\n",
       "    <tr style=\"text-align: right;\">\n",
       "      <th></th>\n",
       "      <th>RECORD_TIME</th>\n",
       "    </tr>\n",
       "  </thead>\n",
       "  <tbody>\n",
       "    <tr>\n",
       "      <th>0</th>\n",
       "      <td>2021-12-10 02:30</td>\n",
       "    </tr>\n",
       "    <tr>\n",
       "      <th>1</th>\n",
       "      <td>2021-12-10 02:00</td>\n",
       "    </tr>\n",
       "  </tbody>\n",
       "</table>\n",
       "</div>"
      ],
      "text/plain": [
       "        RECORD_TIME\n",
       "0  2021-12-10 02:30\n",
       "1  2021-12-10 02:00"
      ]
     },
     "execution_count": 3,
     "metadata": {},
     "output_type": "execute_result"
    }
   ],
   "source": [
    "timestamps"
   ]
  },
  {
   "cell_type": "code",
   "execution_count": 4,
   "id": "alternate-victory",
   "metadata": {
    "execution": {
     "iopub.execute_input": "2021-12-10T01:30:11.081569Z",
     "iopub.status.busy": "2021-12-10T01:30:11.079231Z",
     "iopub.status.idle": "2021-12-10T01:30:12.600137Z",
     "shell.execute_reply": "2021-12-10T01:30:12.602146Z"
    },
    "papermill": {
     "duration": 1.557392,
     "end_time": "2021-12-10T01:30:12.602764",
     "exception": false,
     "start_time": "2021-12-10T01:30:11.045372",
     "status": "completed"
    },
    "tags": []
   },
   "outputs": [],
   "source": [
    "df = pd.read_sql(\"select * from EBAY_TOP_BERLIN where record_time in (select distinct record_time from EBAY_TOP_BERLIN order by record_time desc limit 2)\", sqlite3.connect(\"UsedObjects.db\"))"
   ]
  },
  {
   "cell_type": "code",
   "execution_count": 5,
   "id": "popular-active",
   "metadata": {
    "execution": {
     "iopub.execute_input": "2021-12-10T01:30:12.687747Z",
     "iopub.status.busy": "2021-12-10T01:30:12.674240Z",
     "iopub.status.idle": "2021-12-10T01:30:12.706332Z",
     "shell.execute_reply": "2021-12-10T01:30:12.707878Z"
    },
    "papermill": {
     "duration": 0.081114,
     "end_time": "2021-12-10T01:30:12.708394",
     "exception": false,
     "start_time": "2021-12-10T01:30:12.627280",
     "status": "completed"
    },
    "tags": []
   },
   "outputs": [],
   "source": [
    "df_pivot = df.pivot_table(index=\"PRODUCT\", columns = \"RECORD_TIME\", values = \"LISTING_COUNT\")"
   ]
  },
  {
   "cell_type": "code",
   "execution_count": 6,
   "id": "union-huntington",
   "metadata": {
    "execution": {
     "iopub.execute_input": "2021-12-10T01:30:12.769677Z",
     "iopub.status.busy": "2021-12-10T01:30:12.767596Z",
     "iopub.status.idle": "2021-12-10T01:30:12.773349Z",
     "shell.execute_reply": "2021-12-10T01:30:12.774679Z"
    },
    "papermill": {
     "duration": 0.041849,
     "end_time": "2021-12-10T01:30:12.775103",
     "exception": false,
     "start_time": "2021-12-10T01:30:12.733254",
     "status": "completed"
    },
    "tags": []
   },
   "outputs": [],
   "source": [
    "df_pivot.columns = [\"stamp_1\", \"stamp_2\"]\n",
    "df_pivot_diff = df_pivot.diff(axis=1)"
   ]
  },
  {
   "cell_type": "code",
   "execution_count": 7,
   "id": "fifth-motion",
   "metadata": {
    "execution": {
     "iopub.execute_input": "2021-12-10T01:30:12.829690Z",
     "iopub.status.busy": "2021-12-10T01:30:12.827150Z",
     "iopub.status.idle": "2021-12-10T01:30:14.308026Z",
     "shell.execute_reply": "2021-12-10T01:30:14.309864Z"
    },
    "papermill": {
     "duration": 1.514524,
     "end_time": "2021-12-10T01:30:14.310415",
     "exception": false,
     "start_time": "2021-12-10T01:30:12.795891",
     "status": "completed"
    },
    "tags": []
   },
   "outputs": [
    {
     "data": {
      "text/plain": [
       "<AxesSubplot:ylabel='PRODUCT'>"
      ]
     },
     "execution_count": 7,
     "metadata": {},
     "output_type": "execute_result"
    },
    {
     "data": {
      "image/png": "[encoded data removed]",
      "text/plain": [
       "<Figure size 432x288 with 1 Axes>"
      ]
     },
     "metadata": {
      "needs_background": "light"
     },
     "output_type": "display_data"
    }
   ],
   "source": [
    "df_pivot_diff.sort_values(\"stamp_2\", ascending = False)[\"stamp_2\"].head(10).plot.barh()"
   ]
  },
  {
   "cell_type": "code",
   "execution_count": null,
   "id": "extra-executive",
   "metadata": {
    "papermill": {
     "duration": 0.022015,
     "end_time": "2021-12-10T01:30:14.357522",
     "exception": false,
     "start_time": "2021-12-10T01:30:14.335507",
     "status": "completed"
    },
    "tags": []
   },
   "outputs": [],
   "source": []
  }
 ],
 "metadata": {
  "kernelspec": {
   "display_name": "Python 3",
   "language": "python",
   "name": "python3"
  },
  "language_info": {
   "codemirror_mode": {
    "name": "ipython",
    "version": 3
   },
   "file_extension": ".py",
   "mimetype": "text/x-python",
   "name": "python",
   "nbconvert_exporter": "python",
   "pygments_lexer": "ipython3",
   "version": "3.9.5"
  },
  "papermill": {
   "default_parameters": {},
   "duration": 8.880644,
   "end_time": "2021-12-10T01:30:15.008846",
   "environment_variables": {},
   "exception": null,
   "input_path": "eBay_Overview.ipynb",
   "output_path": "eBay_Overview.ipynb",
   "parameters": {},
   "start_time": "2021-12-10T01:30:06.128202",
   "version": "2.3.3"
  }
 },
 "nbformat": 4,
 "nbformat_minor": 5
}