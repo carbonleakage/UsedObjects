{
 "cells": [
  {
   "cell_type": "code",
   "execution_count": 1,
   "id": "reverse-picking",
   "metadata": {
    "execution": {
     "iopub.execute_input": "2021-10-12T05:00:06.811025Z",
     "iopub.status.busy": "2021-10-12T05:00:06.809110Z",
     "iopub.status.idle": "2021-10-12T05:00:07.609776Z",
     "shell.execute_reply": "2021-10-12T05:00:07.611210Z"
    },
    "papermill": {
     "duration": 0.854153,
     "end_time": "2021-10-12T05:00:07.611895",
     "exception": false,
     "start_time": "2021-10-12T05:00:06.757742",
     "status": "completed"
    },
    "tags": []
   },
   "outputs": [],
   "source": [
    "import pandas as pd\n",
    "import sqlite3"
   ]
  },
  {
   "cell_type": "code",
   "execution_count": 2,
   "id": "innovative-syndrome",
   "metadata": {
    "execution": {
     "iopub.execute_input": "2021-10-12T05:00:07.662670Z",
     "iopub.status.busy": "2021-10-12T05:00:07.660246Z",
     "iopub.status.idle": "2021-10-12T05:00:08.175015Z",
     "shell.execute_reply": "2021-10-12T05:00:08.176259Z"
    },
    "papermill": {
     "duration": 0.544566,
     "end_time": "2021-10-12T05:00:08.176819",
     "exception": false,
     "start_time": "2021-10-12T05:00:07.632253",
     "status": "completed"
    },
    "tags": []
   },
   "outputs": [],
   "source": [
    "timestamps = pd.read_sql(\"select distinct record_time from EBAY_TOP_BERLIN order by record_time desc limit 2\", sqlite3.connect(\"UsedObjects.db\"))"
   ]
  },
  {
   "cell_type": "code",
   "execution_count": 3,
   "id": "periodic-identification",
   "metadata": {
    "execution": {
     "iopub.execute_input": "2021-10-12T05:00:08.244790Z",
     "iopub.status.busy": "2021-10-12T05:00:08.239621Z",
     "iopub.status.idle": "2021-10-12T05:00:08.260151Z",
     "shell.execute_reply": "2021-10-12T05:00:08.261687Z"
    },
    "papermill": {
     "duration": 0.0652,
     "end_time": "2021-10-12T05:00:08.262138",
     "exception": false,
     "start_time": "2021-10-12T05:00:08.196938",
     "status": "completed"
    },
    "tags": []
   },
   "outputs": [
    {
     "data": {
      "text/html": [
       "<div>\n",
       "<style scoped>\n",
       "    .dataframe tbody tr th:only-of-type {\n",
       "        vertical-align: middle;\n",
       "    }\n",
       "\n",
       "    .dataframe tbody tr th {\n",
       "        vertical-align: top;\n",
       "    }\n",
       "\n",
       "    .dataframe thead th {\n",
       "        text-align: right;\n",
       "    }\n",
       "</style>\n",
       "<table border=\"1\" class=\"dataframe\">\n",
       "  <thead>\n",
       "    <tr style=\"text-align: right;\">\n",
       "      <th></th>\n",
       "      <th>RECORD_TIME</th>\n",
       "    </tr>\n",
       "  </thead>\n",
       "  <tbody>\n",
       "    <tr>\n",
       "      <th>0</th>\n",
       "      <td>2021-10-12 07:00</td>\n",
       "    </tr>\n",
       "    <tr>\n",
       "      <th>1</th>\n",
       "      <td>2021-10-12 06:30</td>\n",
       "    </tr>\n",
       "  </tbody>\n",
       "</table>\n",
       "</div>"
      ],
      "text/plain": [
       "        RECORD_TIME\n",
       "0  2021-10-12 07:00\n",
       "1  2021-10-12 06:30"
      ]
     },
     "execution_count": 3,
     "metadata": {},
     "output_type": "execute_result"
    }
   ],
   "source": [
    "timestamps"
   ]
  },
  {
   "cell_type": "code",
   "execution_count": 4,
   "id": "alternate-victory",
   "metadata": {
    "execution": {
     "iopub.execute_input": "2021-10-12T05:00:08.313588Z",
     "iopub.status.busy": "2021-10-12T05:00:08.311235Z",
     "iopub.status.idle": "2021-10-12T05:00:09.069612Z",
     "shell.execute_reply": "2021-10-12T05:00:09.068239Z"
    },
    "papermill": {
     "duration": 0.787139,
     "end_time": "2021-10-12T05:00:09.069984",
     "exception": false,
     "start_time": "2021-10-12T05:00:08.282845",
     "status": "completed"
    },
    "tags": []
   },
   "outputs": [],
   "source": [
    "df = pd.read_sql(\"select * from EBAY_TOP_BERLIN where record_time in (select distinct record_time from EBAY_TOP_BERLIN order by record_time desc limit 2)\", sqlite3.connect(\"UsedObjects.db\"))"
   ]
  },
  {
   "cell_type": "code",
   "execution_count": 5,
   "id": "popular-active",
   "metadata": {
    "execution": {
     "iopub.execute_input": "2021-10-12T05:00:09.138596Z",
     "iopub.status.busy": "2021-10-12T05:00:09.126678Z",
     "iopub.status.idle": "2021-10-12T05:00:09.154332Z",
     "shell.execute_reply": "2021-10-12T05:00:09.155789Z"
    },
    "papermill": {
     "duration": 0.065774,
     "end_time": "2021-10-12T05:00:09.156232",
     "exception": false,
     "start_time": "2021-10-12T05:00:09.090458",
     "status": "completed"
    },
    "tags": []
   },
   "outputs": [],
   "source": [
    "df_pivot = df.pivot_table(index=\"PRODUCT\", columns = \"RECORD_TIME\", values = \"LISTING_COUNT\")"
   ]
  },
  {
   "cell_type": "code",
   "execution_count": 6,
   "id": "union-huntington",
   "metadata": {
    "execution": {
     "iopub.execute_input": "2021-10-12T05:00:09.215793Z",
     "iopub.status.busy": "2021-10-12T05:00:09.213333Z",
     "iopub.status.idle": "2021-10-12T05:00:09.219153Z",
     "shell.execute_reply": "2021-10-12T05:00:09.220440Z"
    },
    "papermill": {
     "duration": 0.042358,
     "end_time": "2021-10-12T05:00:09.220933",
     "exception": false,
     "start_time": "2021-10-12T05:00:09.178575",
     "status": "completed"
    },
    "tags": []
   },
   "outputs": [],
   "source": [
    "df_pivot.columns = [\"stamp_1\", \"stamp_2\"]\n",
    "df_pivot_diff = df_pivot.diff(axis=1)"
   ]
  },
  {
   "cell_type": "code",
   "execution_count": 7,
   "id": "fifth-motion",
   "metadata": {
    "execution": {
     "iopub.execute_input": "2021-10-12T05:00:09.274551Z",
     "iopub.status.busy": "2021-10-12T05:00:09.272219Z",
     "iopub.status.idle": "2021-10-12T05:00:10.794330Z",
     "shell.execute_reply": "2021-10-12T05:00:10.795628Z"
    },
    "papermill": {
     "duration": 1.555068,
     "end_time": "2021-10-12T05:00:10.796040",
     "exception": false,
     "start_time": "2021-10-12T05:00:09.240972",
     "status": "completed"
    },
    "tags": []
   },
   "outputs": [
    {
     "data": {
      "text/plain": [
       "<AxesSubplot:ylabel='PRODUCT'>"
      ]
     },
     "execution_count": 7,
     "metadata": {},
     "output_type": "execute_result"
    },
    {
     "data": {
      "image/png": "[encoded data removed]",
      "text/plain": [
       "<Figure size 432x288 with 1 Axes>"
      ]
     },
     "metadata": {
      "needs_background": "light"
     },
     "output_type": "display_data"
    }
   ],
   "source": [
    "df_pivot_diff.sort_values(\"stamp_2\", ascending = False)[\"stamp_2\"].head(10).plot.barh()"
   ]
  },
  {
   "cell_type": "code",
   "execution_count": null,
   "id": "extra-executive",
   "metadata": {
    "papermill": {
     "duration": 0.022212,
     "end_time": "2021-10-12T05:00:10.842871",
     "exception": false,
     "start_time": "2021-10-12T05:00:10.820659",
     "status": "completed"
    },
    "tags": []
   },
   "outputs": [],
   "source": []
  }
 ],
 "metadata": {
  "kernelspec": {
   "display_name": "Python 3",
   "language": "python",
   "name": "python3"
  },
  "language_info": {
   "codemirror_mode": {
    "name": "ipython",
    "version": 3
   },
   "file_extension": ".py",
   "mimetype": "text/x-python",
   "name": "python",
   "nbconvert_exporter": "python",
   "pygments_lexer": "ipython3",
   "version": "3.9.5"
  },
  "papermill": {
   "default_parameters": {},
   "duration": 7.837458,
   "end_time": "2021-10-12T05:00:12.201205",
   "environment_variables": {},
   "exception": null,
   "input_path": "eBay_Overview.ipynb",
   "output_path": "eBay_Overview.ipynb",
   "parameters": {},
   "start_time": "2021-10-12T05:00:04.363747",
   "version": "2.3.3"
  }
 },
 "nbformat": 4,
 "nbformat_minor": 5
}