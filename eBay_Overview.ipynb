{
 "cells": [
  {
   "cell_type": "code",
   "execution_count": 1,
   "id": "reverse-picking",
   "metadata": {
    "execution": {
     "iopub.execute_input": "2021-10-06T10:00:07.145624Z",
     "iopub.status.busy": "2021-10-06T10:00:07.143329Z",
     "iopub.status.idle": "2021-10-06T10:00:07.950078Z",
     "shell.execute_reply": "2021-10-06T10:00:07.951394Z"
    },
    "papermill": {
     "duration": 0.859891,
     "end_time": "2021-10-06T10:00:07.952041",
     "exception": false,
     "start_time": "2021-10-06T10:00:07.092150",
     "status": "completed"
    },
    "tags": []
   },
   "outputs": [],
   "source": [
    "import pandas as pd\n",
    "import sqlite3"
   ]
  },
  {
   "cell_type": "code",
   "execution_count": 2,
   "id": "innovative-syndrome",
   "metadata": {
    "execution": {
     "iopub.execute_input": "2021-10-06T10:00:08.002292Z",
     "iopub.status.busy": "2021-10-06T10:00:08.000394Z",
     "iopub.status.idle": "2021-10-06T10:00:08.470456Z",
     "shell.execute_reply": "2021-10-06T10:00:08.471943Z"
    },
    "papermill": {
     "duration": 0.499695,
     "end_time": "2021-10-06T10:00:08.472384",
     "exception": false,
     "start_time": "2021-10-06T10:00:07.972689",
     "status": "completed"
    },
    "tags": []
   },
   "outputs": [],
   "source": [
    "timestamps = pd.read_sql(\"select distinct record_time from EBAY_TOP_BERLIN order by record_time desc limit 2\", sqlite3.connect(\"UsedObjects.db\"))"
   ]
  },
  {
   "cell_type": "code",
   "execution_count": 3,
   "id": "periodic-identification",
   "metadata": {
    "execution": {
     "iopub.execute_input": "2021-10-06T10:00:08.538631Z",
     "iopub.status.busy": "2021-10-06T10:00:08.536624Z",
     "iopub.status.idle": "2021-10-06T10:00:08.557281Z",
     "shell.execute_reply": "2021-10-06T10:00:08.558461Z"
    },
    "papermill": {
     "duration": 0.066502,
     "end_time": "2021-10-06T10:00:08.558942",
     "exception": false,
     "start_time": "2021-10-06T10:00:08.492440",
     "status": "completed"
    },
    "tags": []
   },
   "outputs": [
    {
     "data": {
      "text/html": [
       "<div>\n",
       "<style scoped>\n",
       "    .dataframe tbody tr th:only-of-type {\n",
       "        vertical-align: middle;\n",
       "    }\n",
       "\n",
       "    .dataframe tbody tr th {\n",
       "        vertical-align: top;\n",
       "    }\n",
       "\n",
       "    .dataframe thead th {\n",
       "        text-align: right;\n",
       "    }\n",
       "</style>\n",
       "<table border=\"1\" class=\"dataframe\">\n",
       "  <thead>\n",
       "    <tr style=\"text-align: right;\">\n",
       "      <th></th>\n",
       "      <th>RECORD_TIME</th>\n",
       "    </tr>\n",
       "  </thead>\n",
       "  <tbody>\n",
       "    <tr>\n",
       "      <th>0</th>\n",
       "      <td>2021-10-06 12:00</td>\n",
       "    </tr>\n",
       "    <tr>\n",
       "      <th>1</th>\n",
       "      <td>2021-10-06 11:30</td>\n",
       "    </tr>\n",
       "  </tbody>\n",
       "</table>\n",
       "</div>"
      ],
      "text/plain": [
       "        RECORD_TIME\n",
       "0  2021-10-06 12:00\n",
       "1  2021-10-06 11:30"
      ]
     },
     "execution_count": 3,
     "metadata": {},
     "output_type": "execute_result"
    }
   ],
   "source": [
    "timestamps"
   ]
  },
  {
   "cell_type": "code",
   "execution_count": 4,
   "id": "alternate-victory",
   "metadata": {
    "execution": {
     "iopub.execute_input": "2021-10-06T10:00:08.619496Z",
     "iopub.status.busy": "2021-10-06T10:00:08.617543Z",
     "iopub.status.idle": "2021-10-06T10:00:09.308296Z",
     "shell.execute_reply": "2021-10-06T10:00:09.309495Z"
    },
    "papermill": {
     "duration": 0.724701,
     "end_time": "2021-10-06T10:00:09.309883",
     "exception": false,
     "start_time": "2021-10-06T10:00:08.585182",
     "status": "completed"
    },
    "tags": []
   },
   "outputs": [],
   "source": [
    "df = pd.read_sql(\"select * from EBAY_TOP_BERLIN where record_time in (select distinct record_time from EBAY_TOP_BERLIN order by record_time desc limit 2)\", sqlite3.connect(\"UsedObjects.db\"))"
   ]
  },
  {
   "cell_type": "code",
   "execution_count": 5,
   "id": "popular-active",
   "metadata": {
    "execution": {
     "iopub.execute_input": "2021-10-06T10:00:09.381352Z",
     "iopub.status.busy": "2021-10-06T10:00:09.368867Z",
     "iopub.status.idle": "2021-10-06T10:00:09.397325Z",
     "shell.execute_reply": "2021-10-06T10:00:09.398604Z"
    },
    "papermill": {
     "duration": 0.067199,
     "end_time": "2021-10-06T10:00:09.399070",
     "exception": false,
     "start_time": "2021-10-06T10:00:09.331871",
     "status": "completed"
    },
    "tags": []
   },
   "outputs": [],
   "source": [
    "df_pivot = df.pivot_table(index=\"PRODUCT\", columns = \"RECORD_TIME\", values = \"LISTING_COUNT\")"
   ]
  },
  {
   "cell_type": "code",
   "execution_count": 6,
   "id": "union-huntington",
   "metadata": {
    "execution": {
     "iopub.execute_input": "2021-10-06T10:00:09.455352Z",
     "iopub.status.busy": "2021-10-06T10:00:09.453247Z",
     "iopub.status.idle": "2021-10-06T10:00:09.458694Z",
     "shell.execute_reply": "2021-10-06T10:00:09.459952Z"
    },
    "papermill": {
     "duration": 0.041141,
     "end_time": "2021-10-06T10:00:09.460375",
     "exception": false,
     "start_time": "2021-10-06T10:00:09.419234",
     "status": "completed"
    },
    "tags": []
   },
   "outputs": [],
   "source": [
    "df_pivot.columns = [\"stamp_1\", \"stamp_2\"]\n",
    "df_pivot_diff = df_pivot.diff(axis=1)"
   ]
  },
  {
   "cell_type": "code",
   "execution_count": 7,
   "id": "fifth-motion",
   "metadata": {
    "execution": {
     "iopub.execute_input": "2021-10-06T10:00:09.514433Z",
     "iopub.status.busy": "2021-10-06T10:00:09.512028Z",
     "iopub.status.idle": "2021-10-06T10:00:10.989312Z",
     "shell.execute_reply": "2021-10-06T10:00:10.990579Z"
    },
    "papermill": {
     "duration": 1.51026,
     "end_time": "2021-10-06T10:00:10.991050",
     "exception": false,
     "start_time": "2021-10-06T10:00:09.480790",
     "status": "completed"
    },
    "tags": []
   },
   "outputs": [
    {
     "data": {
      "text/plain": [
       "<AxesSubplot:ylabel='PRODUCT'>"
      ]
     },
     "execution_count": 7,
     "metadata": {},
     "output_type": "execute_result"
    },
    {
     "data": {
      "image/png": "[encoded data removed]",
      "text/plain": [
       "<Figure size 432x288 with 1 Axes>"
      ]
     },
     "metadata": {
      "needs_background": "light"
     },
     "output_type": "display_data"
    }
   ],
   "source": [
    "df_pivot_diff.sort_values(\"stamp_2\", ascending = False)[\"stamp_2\"].head(10).plot.barh()"
   ]
  },
  {
   "cell_type": "code",
   "execution_count": null,
   "id": "extra-executive",
   "metadata": {
    "papermill": {
     "duration": 0.022056,
     "end_time": "2021-10-06T10:00:11.037860",
     "exception": false,
     "start_time": "2021-10-06T10:00:11.015804",
     "status": "completed"
    },
    "tags": []
   },
   "outputs": [],
   "source": []
  }
 ],
 "metadata": {
  "kernelspec": {
   "display_name": "Python 3",
   "language": "python",
   "name": "python3"
  },
  "language_info": {
   "codemirror_mode": {
    "name": "ipython",
    "version": 3
   },
   "file_extension": ".py",
   "mimetype": "text/x-python",
   "name": "python",
   "nbconvert_exporter": "python",
   "pygments_lexer": "ipython3",
   "version": "3.9.5"
  },
  "papermill": {
   "default_parameters": {},
   "duration": 7.831856,
   "end_time": "2021-10-06T10:00:12.513209",
   "environment_variables": {},
   "exception": null,
   "input_path": "eBay_Overview.ipynb",
   "output_path": "eBay_Overview.ipynb",
   "parameters": {},
   "start_time": "2021-10-06T10:00:04.681353",
   "version": "2.3.3"
  }
 },
 "nbformat": 4,
 "nbformat_minor": 5
}