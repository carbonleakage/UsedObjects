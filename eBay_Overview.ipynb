{
 "cells": [
  {
   "cell_type": "code",
   "execution_count": 1,
   "id": "reverse-picking",
   "metadata": {
    "execution": {
     "iopub.execute_input": "2021-10-08T11:30:07.020399Z",
     "iopub.status.busy": "2021-10-08T11:30:07.018720Z",
     "iopub.status.idle": "2021-10-08T11:30:08.013851Z",
     "shell.execute_reply": "2021-10-08T11:30:08.012212Z"
    },
    "papermill": {
     "duration": 1.045509,
     "end_time": "2021-10-08T11:30:08.014269",
     "exception": false,
     "start_time": "2021-10-08T11:30:06.968760",
     "status": "completed"
    },
    "tags": []
   },
   "outputs": [],
   "source": [
    "import pandas as pd\n",
    "import sqlite3"
   ]
  },
  {
   "cell_type": "code",
   "execution_count": 2,
   "id": "innovative-syndrome",
   "metadata": {
    "execution": {
     "iopub.execute_input": "2021-10-08T11:30:08.067037Z",
     "iopub.status.busy": "2021-10-08T11:30:08.064621Z",
     "iopub.status.idle": "2021-10-08T11:30:08.545697Z",
     "shell.execute_reply": "2021-10-08T11:30:08.547047Z"
    },
    "papermill": {
     "duration": 0.511157,
     "end_time": "2021-10-08T11:30:08.547480",
     "exception": false,
     "start_time": "2021-10-08T11:30:08.036323",
     "status": "completed"
    },
    "tags": []
   },
   "outputs": [],
   "source": [
    "timestamps = pd.read_sql(\"select distinct record_time from EBAY_TOP_BERLIN order by record_time desc limit 2\", sqlite3.connect(\"UsedObjects.db\"))"
   ]
  },
  {
   "cell_type": "code",
   "execution_count": 3,
   "id": "periodic-identification",
   "metadata": {
    "execution": {
     "iopub.execute_input": "2021-10-08T11:30:08.621959Z",
     "iopub.status.busy": "2021-10-08T11:30:08.619938Z",
     "iopub.status.idle": "2021-10-08T11:30:08.639554Z",
     "shell.execute_reply": "2021-10-08T11:30:08.640863Z"
    },
    "papermill": {
     "duration": 0.068936,
     "end_time": "2021-10-08T11:30:08.641273",
     "exception": false,
     "start_time": "2021-10-08T11:30:08.572337",
     "status": "completed"
    },
    "tags": []
   },
   "outputs": [
    {
     "data": {
      "text/html": [
       "<div>\n",
       "<style scoped>\n",
       "    .dataframe tbody tr th:only-of-type {\n",
       "        vertical-align: middle;\n",
       "    }\n",
       "\n",
       "    .dataframe tbody tr th {\n",
       "        vertical-align: top;\n",
       "    }\n",
       "\n",
       "    .dataframe thead th {\n",
       "        text-align: right;\n",
       "    }\n",
       "</style>\n",
       "<table border=\"1\" class=\"dataframe\">\n",
       "  <thead>\n",
       "    <tr style=\"text-align: right;\">\n",
       "      <th></th>\n",
       "      <th>RECORD_TIME</th>\n",
       "    </tr>\n",
       "  </thead>\n",
       "  <tbody>\n",
       "    <tr>\n",
       "      <th>0</th>\n",
       "      <td>2021-10-08 13:30</td>\n",
       "    </tr>\n",
       "    <tr>\n",
       "      <th>1</th>\n",
       "      <td>2021-10-08 13:00</td>\n",
       "    </tr>\n",
       "  </tbody>\n",
       "</table>\n",
       "</div>"
      ],
      "text/plain": [
       "        RECORD_TIME\n",
       "0  2021-10-08 13:30\n",
       "1  2021-10-08 13:00"
      ]
     },
     "execution_count": 3,
     "metadata": {},
     "output_type": "execute_result"
    }
   ],
   "source": [
    "timestamps"
   ]
  },
  {
   "cell_type": "code",
   "execution_count": 4,
   "id": "alternate-victory",
   "metadata": {
    "execution": {
     "iopub.execute_input": "2021-10-08T11:30:08.692915Z",
     "iopub.status.busy": "2021-10-08T11:30:08.690676Z",
     "iopub.status.idle": "2021-10-08T11:30:09.395971Z",
     "shell.execute_reply": "2021-10-08T11:30:09.397176Z"
    },
    "papermill": {
     "duration": 0.734923,
     "end_time": "2021-10-08T11:30:09.397564",
     "exception": false,
     "start_time": "2021-10-08T11:30:08.662641",
     "status": "completed"
    },
    "tags": []
   },
   "outputs": [],
   "source": [
    "df = pd.read_sql(\"select * from EBAY_TOP_BERLIN where record_time in (select distinct record_time from EBAY_TOP_BERLIN order by record_time desc limit 2)\", sqlite3.connect(\"UsedObjects.db\"))"
   ]
  },
  {
   "cell_type": "code",
   "execution_count": 5,
   "id": "popular-active",
   "metadata": {
    "execution": {
     "iopub.execute_input": "2021-10-08T11:30:09.471236Z",
     "iopub.status.busy": "2021-10-08T11:30:09.459628Z",
     "iopub.status.idle": "2021-10-08T11:30:09.487033Z",
     "shell.execute_reply": "2021-10-08T11:30:09.488260Z"
    },
    "papermill": {
     "duration": 0.067582,
     "end_time": "2021-10-08T11:30:09.488652",
     "exception": false,
     "start_time": "2021-10-08T11:30:09.421070",
     "status": "completed"
    },
    "tags": []
   },
   "outputs": [],
   "source": [
    "df_pivot = df.pivot_table(index=\"PRODUCT\", columns = \"RECORD_TIME\", values = \"LISTING_COUNT\")"
   ]
  },
  {
   "cell_type": "code",
   "execution_count": 6,
   "id": "union-huntington",
   "metadata": {
    "execution": {
     "iopub.execute_input": "2021-10-08T11:30:09.548421Z",
     "iopub.status.busy": "2021-10-08T11:30:09.545955Z",
     "iopub.status.idle": "2021-10-08T11:30:09.551960Z",
     "shell.execute_reply": "2021-10-08T11:30:09.553343Z"
    },
    "papermill": {
     "duration": 0.042142,
     "end_time": "2021-10-08T11:30:09.553781",
     "exception": false,
     "start_time": "2021-10-08T11:30:09.511639",
     "status": "completed"
    },
    "tags": []
   },
   "outputs": [],
   "source": [
    "df_pivot.columns = [\"stamp_1\", \"stamp_2\"]\n",
    "df_pivot_diff = df_pivot.diff(axis=1)"
   ]
  },
  {
   "cell_type": "code",
   "execution_count": 7,
   "id": "fifth-motion",
   "metadata": {
    "execution": {
     "iopub.execute_input": "2021-10-08T11:30:09.608051Z",
     "iopub.status.busy": "2021-10-08T11:30:09.605613Z",
     "iopub.status.idle": "2021-10-08T11:30:11.160560Z",
     "shell.execute_reply": "2021-10-08T11:30:11.161825Z"
    },
    "papermill": {
     "duration": 1.587489,
     "end_time": "2021-10-08T11:30:11.162240",
     "exception": false,
     "start_time": "2021-10-08T11:30:09.574751",
     "status": "completed"
    },
    "tags": []
   },
   "outputs": [
    {
     "data": {
      "text/plain": [
       "<AxesSubplot:ylabel='PRODUCT'>"
      ]
     },
     "execution_count": 7,
     "metadata": {},
     "output_type": "execute_result"
    },
    {
     "data": {
      "image/png": "[encoded data removed]",
      "text/plain": [
       "<Figure size 432x288 with 1 Axes>"
      ]
     },
     "metadata": {
      "needs_background": "light"
     },
     "output_type": "display_data"
    }
   ],
   "source": [
    "df_pivot_diff.sort_values(\"stamp_2\", ascending = False)[\"stamp_2\"].head(10).plot.barh()"
   ]
  },
  {
   "cell_type": "code",
   "execution_count": null,
   "id": "extra-executive",
   "metadata": {
    "papermill": {
     "duration": 0.021902,
     "end_time": "2021-10-08T11:30:11.208595",
     "exception": false,
     "start_time": "2021-10-08T11:30:11.186693",
     "status": "completed"
    },
    "tags": []
   },
   "outputs": [],
   "source": []
  }
 ],
 "metadata": {
  "kernelspec": {
   "display_name": "Python 3",
   "language": "python",
   "name": "python3"
  },
  "language_info": {
   "codemirror_mode": {
    "name": "ipython",
    "version": 3
   },
   "file_extension": ".py",
   "mimetype": "text/x-python",
   "name": "python",
   "nbconvert_exporter": "python",
   "pygments_lexer": "ipython3",
   "version": "3.9.5"
  },
  "papermill": {
   "default_parameters": {},
   "duration": 7.836342,
   "end_time": "2021-10-08T11:30:12.376856",
   "environment_variables": {},
   "exception": null,
   "input_path": "eBay_Overview.ipynb",
   "output_path": "eBay_Overview.ipynb",
   "parameters": {},
   "start_time": "2021-10-08T11:30:04.540514",
   "version": "2.3.3"
  }
 },
 "nbformat": 4,
 "nbformat_minor": 5
}