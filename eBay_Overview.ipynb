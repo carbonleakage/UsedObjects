{
 "cells": [
  {
   "cell_type": "code",
   "execution_count": 1,
   "id": "reverse-picking",
   "metadata": {
    "execution": {
     "iopub.execute_input": "2021-08-10T11:00:04.053929Z",
     "iopub.status.busy": "2021-08-10T11:00:04.053165Z",
     "iopub.status.idle": "2021-08-10T11:00:04.686635Z",
     "shell.execute_reply": "2021-08-10T11:00:04.685934Z"
    },
    "papermill": {
     "duration": 0.652104,
     "end_time": "2021-08-10T11:00:04.686827",
     "exception": false,
     "start_time": "2021-08-10T11:00:04.034723",
     "status": "completed"
    },
    "tags": []
   },
   "outputs": [],
   "source": [
    "import pandas as pd\n",
    "import sqlite3"
   ]
  },
  {
   "cell_type": "code",
   "execution_count": 2,
   "id": "innovative-syndrome",
   "metadata": {
    "execution": {
     "iopub.execute_input": "2021-08-10T11:00:04.713463Z",
     "iopub.status.busy": "2021-08-10T11:00:04.712702Z",
     "iopub.status.idle": "2021-08-10T11:00:04.953834Z",
     "shell.execute_reply": "2021-08-10T11:00:04.954406Z"
    },
    "papermill": {
     "duration": 0.258903,
     "end_time": "2021-08-10T11:00:04.954587",
     "exception": false,
     "start_time": "2021-08-10T11:00:04.695684",
     "status": "completed"
    },
    "tags": []
   },
   "outputs": [],
   "source": [
    "timestamps = pd.read_sql(\"select distinct record_time from EBAY_TOP_BERLIN order by record_time desc limit 2\", sqlite3.connect(\"UsedObjects.db\"))"
   ]
  },
  {
   "cell_type": "code",
   "execution_count": 3,
   "id": "periodic-identification",
   "metadata": {
    "execution": {
     "iopub.execute_input": "2021-08-10T11:00:04.987605Z",
     "iopub.status.busy": "2021-08-10T11:00:04.986831Z",
     "iopub.status.idle": "2021-08-10T11:00:04.999911Z",
     "shell.execute_reply": "2021-08-10T11:00:04.999345Z"
    },
    "papermill": {
     "duration": 0.036366,
     "end_time": "2021-08-10T11:00:05.000061",
     "exception": false,
     "start_time": "2021-08-10T11:00:04.963695",
     "status": "completed"
    },
    "tags": []
   },
   "outputs": [
    {
     "data": {
      "text/html": [
       "<div>\n",
       "<style scoped>\n",
       "    .dataframe tbody tr th:only-of-type {\n",
       "        vertical-align: middle;\n",
       "    }\n",
       "\n",
       "    .dataframe tbody tr th {\n",
       "        vertical-align: top;\n",
       "    }\n",
       "\n",
       "    .dataframe thead th {\n",
       "        text-align: right;\n",
       "    }\n",
       "</style>\n",
       "<table border=\"1\" class=\"dataframe\">\n",
       "  <thead>\n",
       "    <tr style=\"text-align: right;\">\n",
       "      <th></th>\n",
       "      <th>RECORD_TIME</th>\n",
       "    </tr>\n",
       "  </thead>\n",
       "  <tbody>\n",
       "    <tr>\n",
       "      <th>0</th>\n",
       "      <td>2021-08-10 13:00</td>\n",
       "    </tr>\n",
       "    <tr>\n",
       "      <th>1</th>\n",
       "      <td>2021-08-10 12:30</td>\n",
       "    </tr>\n",
       "  </tbody>\n",
       "</table>\n",
       "</div>"
      ],
      "text/plain": [
       "        RECORD_TIME\n",
       "0  2021-08-10 13:00\n",
       "1  2021-08-10 12:30"
      ]
     },
     "execution_count": 3,
     "metadata": {},
     "output_type": "execute_result"
    }
   ],
   "source": [
    "timestamps"
   ]
  },
  {
   "cell_type": "code",
   "execution_count": 4,
   "id": "alternate-victory",
   "metadata": {
    "execution": {
     "iopub.execute_input": "2021-08-10T11:00:05.029990Z",
     "iopub.status.busy": "2021-08-10T11:00:05.029240Z",
     "iopub.status.idle": "2021-08-10T11:00:05.042762Z",
     "shell.execute_reply": "2021-08-10T11:00:05.043341Z"
    },
    "papermill": {
     "duration": 0.028688,
     "end_time": "2021-08-10T11:00:05.043523",
     "exception": false,
     "start_time": "2021-08-10T11:00:05.014835",
     "status": "completed"
    },
    "tags": []
   },
   "outputs": [],
   "source": [
    "df = pd.read_sql(\"select * from EBAY_TOP_BERLIN where record_time in (select distinct record_time from EBAY_TOP_BERLIN order by record_time desc limit 2)\", sqlite3.connect(\"UsedObjects.db\"))"
   ]
  },
  {
   "cell_type": "code",
   "execution_count": 5,
   "id": "popular-active",
   "metadata": {
    "execution": {
     "iopub.execute_input": "2021-08-10T11:00:05.066727Z",
     "iopub.status.busy": "2021-08-10T11:00:05.065887Z",
     "iopub.status.idle": "2021-08-10T11:00:05.084119Z",
     "shell.execute_reply": "2021-08-10T11:00:05.083507Z"
    },
    "papermill": {
     "duration": 0.032546,
     "end_time": "2021-08-10T11:00:05.084281",
     "exception": false,
     "start_time": "2021-08-10T11:00:05.051735",
     "status": "completed"
    },
    "tags": []
   },
   "outputs": [],
   "source": [
    "df_pivot = df.pivot_table(index=\"PRODUCT\", columns = \"RECORD_TIME\", values = \"LISTING_COUNT\")"
   ]
  },
  {
   "cell_type": "code",
   "execution_count": 6,
   "id": "union-huntington",
   "metadata": {
    "execution": {
     "iopub.execute_input": "2021-08-10T11:00:05.109330Z",
     "iopub.status.busy": "2021-08-10T11:00:05.108287Z",
     "iopub.status.idle": "2021-08-10T11:00:05.116111Z",
     "shell.execute_reply": "2021-08-10T11:00:05.116643Z"
    },
    "papermill": {
     "duration": 0.022239,
     "end_time": "2021-08-10T11:00:05.116825",
     "exception": false,
     "start_time": "2021-08-10T11:00:05.094586",
     "status": "completed"
    },
    "tags": []
   },
   "outputs": [],
   "source": [
    "df_pivot.columns = [\"stamp_1\", \"stamp_2\"]\n",
    "df_pivot_diff = df_pivot.diff(axis=1)"
   ]
  },
  {
   "cell_type": "code",
   "execution_count": 7,
   "id": "fifth-motion",
   "metadata": {
    "execution": {
     "iopub.execute_input": "2021-08-10T11:00:05.148324Z",
     "iopub.status.busy": "2021-08-10T11:00:05.147501Z",
     "iopub.status.idle": "2021-08-10T11:00:05.904869Z",
     "shell.execute_reply": "2021-08-10T11:00:05.905400Z"
    },
    "papermill": {
     "duration": 0.779476,
     "end_time": "2021-08-10T11:00:05.905581",
     "exception": false,
     "start_time": "2021-08-10T11:00:05.126105",
     "status": "completed"
    },
    "tags": []
   },
   "outputs": [
    {
     "data": {
      "text/plain": [
       "<AxesSubplot:ylabel='PRODUCT'>"
      ]
     },
     "execution_count": 7,
     "metadata": {},
     "output_type": "execute_result"
    },
    {
     "data": {
      "image/png": "[encoded data removed]",
      "text/plain": [
       "<Figure size 432x288 with 1 Axes>"
      ]
     },
     "metadata": {
      "needs_background": "light"
     },
     "output_type": "display_data"
    }
   ],
   "source": [
    "df_pivot_diff.sort_values(\"stamp_2\", ascending = False)[\"stamp_2\"].head(10).plot.barh()"
   ]
  },
  {
   "cell_type": "code",
   "execution_count": null,
   "id": "extra-executive",
   "metadata": {
    "papermill": {
     "duration": 0.009254,
     "end_time": "2021-08-10T11:00:05.924599",
     "exception": false,
     "start_time": "2021-08-10T11:00:05.915345",
     "status": "completed"
    },
    "tags": []
   },
   "outputs": [],
   "source": []
  }
 ],
 "metadata": {
  "kernelspec": {
   "display_name": "Python 3",
   "language": "python",
   "name": "python3"
  },
  "language_info": {
   "codemirror_mode": {
    "name": "ipython",
    "version": 3
   },
   "file_extension": ".py",
   "mimetype": "text/x-python",
   "name": "python",
   "nbconvert_exporter": "python",
   "pygments_lexer": "ipython3",
   "version": "3.8.8"
  },
  "papermill": {
   "default_parameters": {},
   "duration": 5.081969,
   "end_time": "2021-08-10T11:00:07.425895",
   "environment_variables": {},
   "exception": null,
   "input_path": "/Users/saravananshanmugam/Carbonleakage_Git/UsedObjects/eBay_Overview.ipynb",
   "output_path": "/Users/saravananshanmugam/Carbonleakage_Git/UsedObjects/eBay_Overview.ipynb",
   "parameters": {},
   "start_time": "2021-08-10T11:00:02.343926",
   "version": "2.3.3"
  }
 },
 "nbformat": 4,
 "nbformat_minor": 5
}