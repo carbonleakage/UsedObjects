{
 "cells": [
  {
   "cell_type": "code",
   "execution_count": 1,
   "id": "reverse-picking",
   "metadata": {
    "execution": {
     "iopub.execute_input": "2021-08-20T16:30:07.177306Z",
     "iopub.status.busy": "2021-08-20T16:30:07.175347Z",
     "iopub.status.idle": "2021-08-20T16:30:07.981049Z",
     "shell.execute_reply": "2021-08-20T16:30:07.982442Z"
    },
    "papermill": {
     "duration": 0.856183,
     "end_time": "2021-08-20T16:30:07.983083",
     "exception": false,
     "start_time": "2021-08-20T16:30:07.126900",
     "status": "completed"
    },
    "tags": []
   },
   "outputs": [],
   "source": [
    "import pandas as pd\n",
    "import sqlite3"
   ]
  },
  {
   "cell_type": "code",
   "execution_count": 2,
   "id": "innovative-syndrome",
   "metadata": {
    "execution": {
     "iopub.execute_input": "2021-08-20T16:30:08.035521Z",
     "iopub.status.busy": "2021-08-20T16:30:08.033281Z",
     "iopub.status.idle": "2021-08-20T16:30:08.127225Z",
     "shell.execute_reply": "2021-08-20T16:30:08.128336Z"
    },
    "papermill": {
     "duration": 0.12317,
     "end_time": "2021-08-20T16:30:08.128738",
     "exception": false,
     "start_time": "2021-08-20T16:30:08.005568",
     "status": "completed"
    },
    "tags": []
   },
   "outputs": [],
   "source": [
    "timestamps = pd.read_sql(\"select distinct record_time from EBAY_TOP_BERLIN order by record_time desc limit 2\", sqlite3.connect(\"UsedObjects.db\"))"
   ]
  },
  {
   "cell_type": "code",
   "execution_count": 3,
   "id": "periodic-identification",
   "metadata": {
    "execution": {
     "iopub.execute_input": "2021-08-20T16:30:08.196814Z",
     "iopub.status.busy": "2021-08-20T16:30:08.194794Z",
     "iopub.status.idle": "2021-08-20T16:30:08.217109Z",
     "shell.execute_reply": "2021-08-20T16:30:08.218455Z"
    },
    "papermill": {
     "duration": 0.067759,
     "end_time": "2021-08-20T16:30:08.218868",
     "exception": false,
     "start_time": "2021-08-20T16:30:08.151109",
     "status": "completed"
    },
    "tags": []
   },
   "outputs": [
    {
     "data": {
      "text/html": [
       "<div>\n",
       "<style scoped>\n",
       "    .dataframe tbody tr th:only-of-type {\n",
       "        vertical-align: middle;\n",
       "    }\n",
       "\n",
       "    .dataframe tbody tr th {\n",
       "        vertical-align: top;\n",
       "    }\n",
       "\n",
       "    .dataframe thead th {\n",
       "        text-align: right;\n",
       "    }\n",
       "</style>\n",
       "<table border=\"1\" class=\"dataframe\">\n",
       "  <thead>\n",
       "    <tr style=\"text-align: right;\">\n",
       "      <th></th>\n",
       "      <th>RECORD_TIME</th>\n",
       "    </tr>\n",
       "  </thead>\n",
       "  <tbody>\n",
       "    <tr>\n",
       "      <th>0</th>\n",
       "      <td>2021-08-20 18:30</td>\n",
       "    </tr>\n",
       "    <tr>\n",
       "      <th>1</th>\n",
       "      <td>2021-08-20 18:00</td>\n",
       "    </tr>\n",
       "  </tbody>\n",
       "</table>\n",
       "</div>"
      ],
      "text/plain": [
       "        RECORD_TIME\n",
       "0  2021-08-20 18:30\n",
       "1  2021-08-20 18:00"
      ]
     },
     "execution_count": 3,
     "metadata": {},
     "output_type": "execute_result"
    }
   ],
   "source": [
    "timestamps"
   ]
  },
  {
   "cell_type": "code",
   "execution_count": 4,
   "id": "alternate-victory",
   "metadata": {
    "execution": {
     "iopub.execute_input": "2021-08-20T16:30:08.269778Z",
     "iopub.status.busy": "2021-08-20T16:30:08.267943Z",
     "iopub.status.idle": "2021-08-20T16:30:08.401908Z",
     "shell.execute_reply": "2021-08-20T16:30:08.403382Z"
    },
    "papermill": {
     "duration": 0.164267,
     "end_time": "2021-08-20T16:30:08.403816",
     "exception": false,
     "start_time": "2021-08-20T16:30:08.239549",
     "status": "completed"
    },
    "tags": []
   },
   "outputs": [],
   "source": [
    "df = pd.read_sql(\"select * from EBAY_TOP_BERLIN where record_time in (select distinct record_time from EBAY_TOP_BERLIN order by record_time desc limit 2)\", sqlite3.connect(\"UsedObjects.db\"))"
   ]
  },
  {
   "cell_type": "code",
   "execution_count": 5,
   "id": "popular-active",
   "metadata": {
    "execution": {
     "iopub.execute_input": "2021-08-20T16:30:08.475667Z",
     "iopub.status.busy": "2021-08-20T16:30:08.463751Z",
     "iopub.status.idle": "2021-08-20T16:30:08.491149Z",
     "shell.execute_reply": "2021-08-20T16:30:08.492362Z"
    },
    "papermill": {
     "duration": 0.067946,
     "end_time": "2021-08-20T16:30:08.492749",
     "exception": false,
     "start_time": "2021-08-20T16:30:08.424803",
     "status": "completed"
    },
    "tags": []
   },
   "outputs": [],
   "source": [
    "df_pivot = df.pivot_table(index=\"PRODUCT\", columns = \"RECORD_TIME\", values = \"LISTING_COUNT\")"
   ]
  },
  {
   "cell_type": "code",
   "execution_count": 6,
   "id": "union-huntington",
   "metadata": {
    "execution": {
     "iopub.execute_input": "2021-08-20T16:30:08.552352Z",
     "iopub.status.busy": "2021-08-20T16:30:08.549874Z",
     "iopub.status.idle": "2021-08-20T16:30:08.555855Z",
     "shell.execute_reply": "2021-08-20T16:30:08.557132Z"
    },
    "papermill": {
     "duration": 0.042413,
     "end_time": "2021-08-20T16:30:08.557535",
     "exception": false,
     "start_time": "2021-08-20T16:30:08.515122",
     "status": "completed"
    },
    "tags": []
   },
   "outputs": [],
   "source": [
    "df_pivot.columns = [\"stamp_1\", \"stamp_2\"]\n",
    "df_pivot_diff = df_pivot.diff(axis=1)"
   ]
  },
  {
   "cell_type": "code",
   "execution_count": 7,
   "id": "fifth-motion",
   "metadata": {
    "execution": {
     "iopub.execute_input": "2021-08-20T16:30:08.610189Z",
     "iopub.status.busy": "2021-08-20T16:30:08.607936Z",
     "iopub.status.idle": "2021-08-20T16:30:10.104654Z",
     "shell.execute_reply": "2021-08-20T16:30:10.106120Z"
    },
    "papermill": {
     "duration": 1.529348,
     "end_time": "2021-08-20T16:30:10.106590",
     "exception": false,
     "start_time": "2021-08-20T16:30:08.577242",
     "status": "completed"
    },
    "tags": []
   },
   "outputs": [
    {
     "data": {
      "text/plain": [
       "<AxesSubplot:ylabel='PRODUCT'>"
      ]
     },
     "execution_count": 7,
     "metadata": {},
     "output_type": "execute_result"
    },
    {
     "data": {
      "image/png": "[encoded data removed]",
      "text/plain": [
       "<Figure size 432x288 with 1 Axes>"
      ]
     },
     "metadata": {
      "needs_background": "light"
     },
     "output_type": "display_data"
    }
   ],
   "source": [
    "df_pivot_diff.sort_values(\"stamp_2\", ascending = False)[\"stamp_2\"].head(10).plot.barh()"
   ]
  },
  {
   "cell_type": "code",
   "execution_count": null,
   "id": "extra-executive",
   "metadata": {
    "papermill": {
     "duration": 0.022124,
     "end_time": "2021-08-20T16:30:10.153996",
     "exception": false,
     "start_time": "2021-08-20T16:30:10.131872",
     "status": "completed"
    },
    "tags": []
   },
   "outputs": [],
   "source": []
  }
 ],
 "metadata": {
  "kernelspec": {
   "display_name": "Python 3",
   "language": "python",
   "name": "python3"
  },
  "language_info": {
   "codemirror_mode": {
    "name": "ipython",
    "version": 3
   },
   "file_extension": ".py",
   "mimetype": "text/x-python",
   "name": "python",
   "nbconvert_exporter": "python",
   "pygments_lexer": "ipython3",
   "version": "3.9.5"
  },
  "papermill": {
   "default_parameters": {},
   "duration": 6.824406,
   "end_time": "2021-08-20T16:30:11.544207",
   "environment_variables": {},
   "exception": null,
   "input_path": "eBay_Overview.ipynb",
   "output_path": "eBay_Overview.ipynb",
   "parameters": {},
   "start_time": "2021-08-20T16:30:04.719801",
   "version": "2.3.3"
  }
 },
 "nbformat": 4,
 "nbformat_minor": 5
}