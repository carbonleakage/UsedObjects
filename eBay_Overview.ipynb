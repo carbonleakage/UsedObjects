{
 "cells": [
  {
   "cell_type": "code",
   "execution_count": 1,
   "id": "reverse-picking",
   "metadata": {
    "execution": {
     "iopub.execute_input": "2021-08-11T17:00:04.364171Z",
     "iopub.status.busy": "2021-08-11T17:00:04.363410Z",
     "iopub.status.idle": "2021-08-11T17:00:04.962837Z",
     "shell.execute_reply": "2021-08-11T17:00:04.963496Z"
    },
    "papermill": {
     "duration": 0.615027,
     "end_time": "2021-08-11T17:00:04.963797",
     "exception": false,
     "start_time": "2021-08-11T17:00:04.348770",
     "status": "completed"
    },
    "tags": []
   },
   "outputs": [],
   "source": [
    "import pandas as pd\n",
    "import sqlite3"
   ]
  },
  {
   "cell_type": "code",
   "execution_count": 2,
   "id": "innovative-syndrome",
   "metadata": {
    "execution": {
     "iopub.execute_input": "2021-08-11T17:00:04.984683Z",
     "iopub.status.busy": "2021-08-11T17:00:04.983911Z",
     "iopub.status.idle": "2021-08-11T17:00:05.189725Z",
     "shell.execute_reply": "2021-08-11T17:00:05.190257Z"
    },
    "papermill": {
     "duration": 0.218321,
     "end_time": "2021-08-11T17:00:05.190440",
     "exception": false,
     "start_time": "2021-08-11T17:00:04.972119",
     "status": "completed"
    },
    "tags": []
   },
   "outputs": [],
   "source": [
    "timestamps = pd.read_sql(\"select distinct record_time from EBAY_TOP_BERLIN order by record_time desc limit 2\", sqlite3.connect(\"UsedObjects.db\"))"
   ]
  },
  {
   "cell_type": "code",
   "execution_count": 3,
   "id": "periodic-identification",
   "metadata": {
    "execution": {
     "iopub.execute_input": "2021-08-11T17:00:05.218251Z",
     "iopub.status.busy": "2021-08-11T17:00:05.217491Z",
     "iopub.status.idle": "2021-08-11T17:00:05.229789Z",
     "shell.execute_reply": "2021-08-11T17:00:05.229059Z"
    },
    "papermill": {
     "duration": 0.030938,
     "end_time": "2021-08-11T17:00:05.229950",
     "exception": false,
     "start_time": "2021-08-11T17:00:05.199012",
     "status": "completed"
    },
    "tags": []
   },
   "outputs": [
    {
     "data": {
      "text/html": [
       "<div>\n",
       "<style scoped>\n",
       "    .dataframe tbody tr th:only-of-type {\n",
       "        vertical-align: middle;\n",
       "    }\n",
       "\n",
       "    .dataframe tbody tr th {\n",
       "        vertical-align: top;\n",
       "    }\n",
       "\n",
       "    .dataframe thead th {\n",
       "        text-align: right;\n",
       "    }\n",
       "</style>\n",
       "<table border=\"1\" class=\"dataframe\">\n",
       "  <thead>\n",
       "    <tr style=\"text-align: right;\">\n",
       "      <th></th>\n",
       "      <th>RECORD_TIME</th>\n",
       "    </tr>\n",
       "  </thead>\n",
       "  <tbody>\n",
       "    <tr>\n",
       "      <th>0</th>\n",
       "      <td>2021-08-11 19:00</td>\n",
       "    </tr>\n",
       "    <tr>\n",
       "      <th>1</th>\n",
       "      <td>2021-08-11 18:30</td>\n",
       "    </tr>\n",
       "  </tbody>\n",
       "</table>\n",
       "</div>"
      ],
      "text/plain": [
       "        RECORD_TIME\n",
       "0  2021-08-11 19:00\n",
       "1  2021-08-11 18:30"
      ]
     },
     "execution_count": 3,
     "metadata": {},
     "output_type": "execute_result"
    }
   ],
   "source": [
    "timestamps"
   ]
  },
  {
   "cell_type": "code",
   "execution_count": 4,
   "id": "alternate-victory",
   "metadata": {
    "execution": {
     "iopub.execute_input": "2021-08-11T17:00:05.251664Z",
     "iopub.status.busy": "2021-08-11T17:00:05.250913Z",
     "iopub.status.idle": "2021-08-11T17:00:05.270733Z",
     "shell.execute_reply": "2021-08-11T17:00:05.271643Z"
    },
    "papermill": {
     "duration": 0.033255,
     "end_time": "2021-08-11T17:00:05.271912",
     "exception": false,
     "start_time": "2021-08-11T17:00:05.238657",
     "status": "completed"
    },
    "tags": []
   },
   "outputs": [],
   "source": [
    "df = pd.read_sql(\"select * from EBAY_TOP_BERLIN where record_time in (select distinct record_time from EBAY_TOP_BERLIN order by record_time desc limit 2)\", sqlite3.connect(\"UsedObjects.db\"))"
   ]
  },
  {
   "cell_type": "code",
   "execution_count": 5,
   "id": "popular-active",
   "metadata": {
    "execution": {
     "iopub.execute_input": "2021-08-11T17:00:05.306875Z",
     "iopub.status.busy": "2021-08-11T17:00:05.306098Z",
     "iopub.status.idle": "2021-08-11T17:00:05.329798Z",
     "shell.execute_reply": "2021-08-11T17:00:05.330465Z"
    },
    "papermill": {
     "duration": 0.046893,
     "end_time": "2021-08-11T17:00:05.330689",
     "exception": false,
     "start_time": "2021-08-11T17:00:05.283796",
     "status": "completed"
    },
    "tags": []
   },
   "outputs": [],
   "source": [
    "df_pivot = df.pivot_table(index=\"PRODUCT\", columns = \"RECORD_TIME\", values = \"LISTING_COUNT\")"
   ]
  },
  {
   "cell_type": "code",
   "execution_count": 6,
   "id": "union-huntington",
   "metadata": {
    "execution": {
     "iopub.execute_input": "2021-08-11T17:00:05.362848Z",
     "iopub.status.busy": "2021-08-11T17:00:05.362111Z",
     "iopub.status.idle": "2021-08-11T17:00:05.367818Z",
     "shell.execute_reply": "2021-08-11T17:00:05.368352Z"
    },
    "papermill": {
     "duration": 0.028902,
     "end_time": "2021-08-11T17:00:05.368538",
     "exception": false,
     "start_time": "2021-08-11T17:00:05.339636",
     "status": "completed"
    },
    "tags": []
   },
   "outputs": [],
   "source": [
    "df_pivot.columns = [\"stamp_1\", \"stamp_2\"]\n",
    "df_pivot_diff = df_pivot.diff(axis=1)"
   ]
  },
  {
   "cell_type": "code",
   "execution_count": 7,
   "id": "fifth-motion",
   "metadata": {
    "execution": {
     "iopub.execute_input": "2021-08-11T17:00:05.399693Z",
     "iopub.status.busy": "2021-08-11T17:00:05.398935Z",
     "iopub.status.idle": "2021-08-11T17:00:06.038677Z",
     "shell.execute_reply": "2021-08-11T17:00:06.039247Z"
    },
    "papermill": {
     "duration": 0.657488,
     "end_time": "2021-08-11T17:00:06.039440",
     "exception": false,
     "start_time": "2021-08-11T17:00:05.381952",
     "status": "completed"
    },
    "tags": []
   },
   "outputs": [
    {
     "data": {
      "text/plain": [
       "<AxesSubplot:ylabel='PRODUCT'>"
      ]
     },
     "execution_count": 7,
     "metadata": {},
     "output_type": "execute_result"
    },
    {
     "data": {
      "image/png": "[encoded data removed]",
      "text/plain": [
       "<Figure size 432x288 with 1 Axes>"
      ]
     },
     "metadata": {
      "needs_background": "light"
     },
     "output_type": "display_data"
    }
   ],
   "source": [
    "df_pivot_diff.sort_values(\"stamp_2\", ascending = False)[\"stamp_2\"].head(10).plot.barh()"
   ]
  },
  {
   "cell_type": "code",
   "execution_count": null,
   "id": "extra-executive",
   "metadata": {
    "papermill": {
     "duration": 0.012416,
     "end_time": "2021-08-11T17:00:06.061587",
     "exception": false,
     "start_time": "2021-08-11T17:00:06.049171",
     "status": "completed"
    },
    "tags": []
   },
   "outputs": [],
   "source": []
  }
 ],
 "metadata": {
  "kernelspec": {
   "display_name": "Python 3",
   "language": "python",
   "name": "python3"
  },
  "language_info": {
   "codemirror_mode": {
    "name": "ipython",
    "version": 3
   },
   "file_extension": ".py",
   "mimetype": "text/x-python",
   "name": "python",
   "nbconvert_exporter": "python",
   "pygments_lexer": "ipython3",
   "version": "3.8.8"
  },
  "papermill": {
   "default_parameters": {},
   "duration": 4.956194,
   "end_time": "2021-08-11T17:00:07.601590",
   "environment_variables": {},
   "exception": null,
   "input_path": "/Users/saravananshanmugam/Carbonleakage_Git/UsedObjects/eBay_Overview.ipynb",
   "output_path": "/Users/saravananshanmugam/Carbonleakage_Git/UsedObjects/eBay_Overview.ipynb",
   "parameters": {},
   "start_time": "2021-08-11T17:00:02.645396",
   "version": "2.3.3"
  }
 },
 "nbformat": 4,
 "nbformat_minor": 5
}