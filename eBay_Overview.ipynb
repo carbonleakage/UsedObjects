{
 "cells": [
  {
   "cell_type": "code",
   "execution_count": 1,
   "id": "reverse-picking",
   "metadata": {
    "execution": {
     "iopub.execute_input": "2021-10-15T22:00:07.314650Z",
     "iopub.status.busy": "2021-10-15T22:00:07.312613Z",
     "iopub.status.idle": "2021-10-15T22:00:08.117823Z",
     "shell.execute_reply": "2021-10-15T22:00:08.119093Z"
    },
    "papermill": {
     "duration": 0.856792,
     "end_time": "2021-10-15T22:00:08.119710",
     "exception": false,
     "start_time": "2021-10-15T22:00:07.262918",
     "status": "completed"
    },
    "tags": []
   },
   "outputs": [],
   "source": [
    "import pandas as pd\n",
    "import sqlite3"
   ]
  },
  {
   "cell_type": "code",
   "execution_count": 2,
   "id": "innovative-syndrome",
   "metadata": {
    "execution": {
     "iopub.execute_input": "2021-10-15T22:00:08.170460Z",
     "iopub.status.busy": "2021-10-15T22:00:08.168475Z",
     "iopub.status.idle": "2021-10-15T22:00:08.704417Z",
     "shell.execute_reply": "2021-10-15T22:00:08.705757Z"
    },
    "papermill": {
     "duration": 0.565545,
     "end_time": "2021-10-15T22:00:08.706174",
     "exception": false,
     "start_time": "2021-10-15T22:00:08.140629",
     "status": "completed"
    },
    "tags": []
   },
   "outputs": [],
   "source": [
    "timestamps = pd.read_sql(\"select distinct record_time from EBAY_TOP_BERLIN order by record_time desc limit 2\", sqlite3.connect(\"UsedObjects.db\"))"
   ]
  },
  {
   "cell_type": "code",
   "execution_count": 3,
   "id": "periodic-identification",
   "metadata": {
    "execution": {
     "iopub.execute_input": "2021-10-15T22:00:08.783430Z",
     "iopub.status.busy": "2021-10-15T22:00:08.781409Z",
     "iopub.status.idle": "2021-10-15T22:00:08.801443Z",
     "shell.execute_reply": "2021-10-15T22:00:08.802652Z"
    },
    "papermill": {
     "duration": 0.077158,
     "end_time": "2021-10-15T22:00:08.803074",
     "exception": false,
     "start_time": "2021-10-15T22:00:08.725916",
     "status": "completed"
    },
    "tags": []
   },
   "outputs": [
    {
     "data": {
      "text/html": [
       "<div>\n",
       "<style scoped>\n",
       "    .dataframe tbody tr th:only-of-type {\n",
       "        vertical-align: middle;\n",
       "    }\n",
       "\n",
       "    .dataframe tbody tr th {\n",
       "        vertical-align: top;\n",
       "    }\n",
       "\n",
       "    .dataframe thead th {\n",
       "        text-align: right;\n",
       "    }\n",
       "</style>\n",
       "<table border=\"1\" class=\"dataframe\">\n",
       "  <thead>\n",
       "    <tr style=\"text-align: right;\">\n",
       "      <th></th>\n",
       "      <th>RECORD_TIME</th>\n",
       "    </tr>\n",
       "  </thead>\n",
       "  <tbody>\n",
       "    <tr>\n",
       "      <th>0</th>\n",
       "      <td>2021-10-16 00:00</td>\n",
       "    </tr>\n",
       "    <tr>\n",
       "      <th>1</th>\n",
       "      <td>2021-10-15 23:30</td>\n",
       "    </tr>\n",
       "  </tbody>\n",
       "</table>\n",
       "</div>"
      ],
      "text/plain": [
       "        RECORD_TIME\n",
       "0  2021-10-16 00:00\n",
       "1  2021-10-15 23:30"
      ]
     },
     "execution_count": 3,
     "metadata": {},
     "output_type": "execute_result"
    }
   ],
   "source": [
    "timestamps"
   ]
  },
  {
   "cell_type": "code",
   "execution_count": 4,
   "id": "alternate-victory",
   "metadata": {
    "execution": {
     "iopub.execute_input": "2021-10-15T22:00:08.857350Z",
     "iopub.status.busy": "2021-10-15T22:00:08.854994Z",
     "iopub.status.idle": "2021-10-15T22:00:09.637947Z",
     "shell.execute_reply": "2021-10-15T22:00:09.639215Z"
    },
    "papermill": {
     "duration": 0.813418,
     "end_time": "2021-10-15T22:00:09.639610",
     "exception": false,
     "start_time": "2021-10-15T22:00:08.826192",
     "status": "completed"
    },
    "tags": []
   },
   "outputs": [],
   "source": [
    "df = pd.read_sql(\"select * from EBAY_TOP_BERLIN where record_time in (select distinct record_time from EBAY_TOP_BERLIN order by record_time desc limit 2)\", sqlite3.connect(\"UsedObjects.db\"))"
   ]
  },
  {
   "cell_type": "code",
   "execution_count": 5,
   "id": "popular-active",
   "metadata": {
    "execution": {
     "iopub.execute_input": "2021-10-15T22:00:09.709722Z",
     "iopub.status.busy": "2021-10-15T22:00:09.697700Z",
     "iopub.status.idle": "2021-10-15T22:00:09.728395Z",
     "shell.execute_reply": "2021-10-15T22:00:09.727010Z"
    },
    "papermill": {
     "duration": 0.068804,
     "end_time": "2021-10-15T22:00:09.728800",
     "exception": false,
     "start_time": "2021-10-15T22:00:09.659996",
     "status": "completed"
    },
    "tags": []
   },
   "outputs": [],
   "source": [
    "df_pivot = df.pivot_table(index=\"PRODUCT\", columns = \"RECORD_TIME\", values = \"LISTING_COUNT\")"
   ]
  },
  {
   "cell_type": "code",
   "execution_count": 6,
   "id": "union-huntington",
   "metadata": {
    "execution": {
     "iopub.execute_input": "2021-10-15T22:00:09.785014Z",
     "iopub.status.busy": "2021-10-15T22:00:09.782908Z",
     "iopub.status.idle": "2021-10-15T22:00:09.788246Z",
     "shell.execute_reply": "2021-10-15T22:00:09.789597Z"
    },
    "papermill": {
     "duration": 0.041185,
     "end_time": "2021-10-15T22:00:09.790010",
     "exception": false,
     "start_time": "2021-10-15T22:00:09.748825",
     "status": "completed"
    },
    "tags": []
   },
   "outputs": [],
   "source": [
    "df_pivot.columns = [\"stamp_1\", \"stamp_2\"]\n",
    "df_pivot_diff = df_pivot.diff(axis=1)"
   ]
  },
  {
   "cell_type": "code",
   "execution_count": 7,
   "id": "fifth-motion",
   "metadata": {
    "execution": {
     "iopub.execute_input": "2021-10-15T22:00:09.844769Z",
     "iopub.status.busy": "2021-10-15T22:00:09.842349Z",
     "iopub.status.idle": "2021-10-15T22:00:11.306478Z",
     "shell.execute_reply": "2021-10-15T22:00:11.307757Z"
    },
    "papermill": {
     "duration": 1.496895,
     "end_time": "2021-10-15T22:00:11.308181",
     "exception": false,
     "start_time": "2021-10-15T22:00:09.811286",
     "status": "completed"
    },
    "tags": []
   },
   "outputs": [
    {
     "data": {
      "text/plain": [
       "<AxesSubplot:ylabel='PRODUCT'>"
      ]
     },
     "execution_count": 7,
     "metadata": {},
     "output_type": "execute_result"
    },
    {
     "data": {
      "image/png": "[encoded data removed]",
      "text/plain": [
       "<Figure size 432x288 with 1 Axes>"
      ]
     },
     "metadata": {
      "needs_background": "light"
     },
     "output_type": "display_data"
    }
   ],
   "source": [
    "df_pivot_diff.sort_values(\"stamp_2\", ascending = False)[\"stamp_2\"].head(10).plot.barh()"
   ]
  },
  {
   "cell_type": "code",
   "execution_count": null,
   "id": "extra-executive",
   "metadata": {
    "papermill": {
     "duration": 0.022217,
     "end_time": "2021-10-15T22:00:11.354817",
     "exception": false,
     "start_time": "2021-10-15T22:00:11.332600",
     "status": "completed"
    },
    "tags": []
   },
   "outputs": [],
   "source": []
  }
 ],
 "metadata": {
  "kernelspec": {
   "display_name": "Python 3",
   "language": "python",
   "name": "python3"
  },
  "language_info": {
   "codemirror_mode": {
    "name": "ipython",
    "version": 3
   },
   "file_extension": ".py",
   "mimetype": "text/x-python",
   "name": "python",
   "nbconvert_exporter": "python",
   "pygments_lexer": "ipython3",
   "version": "3.9.5"
  },
  "papermill": {
   "default_parameters": {},
   "duration": 7.829916,
   "end_time": "2021-10-15T22:00:12.682985",
   "environment_variables": {},
   "exception": null,
   "input_path": "eBay_Overview.ipynb",
   "output_path": "eBay_Overview.ipynb",
   "parameters": {},
   "start_time": "2021-10-15T22:00:04.853069",
   "version": "2.3.3"
  }
 },
 "nbformat": 4,
 "nbformat_minor": 5
}