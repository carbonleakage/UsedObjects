{
 "cells": [
  {
   "cell_type": "code",
   "execution_count": 1,
   "id": "reverse-picking",
   "metadata": {
    "execution": {
     "iopub.execute_input": "2021-08-18T08:00:06.752359Z",
     "iopub.status.busy": "2021-08-18T08:00:06.750430Z",
     "iopub.status.idle": "2021-08-18T08:00:07.555791Z",
     "shell.execute_reply": "2021-08-18T08:00:07.556947Z"
    },
    "papermill": {
     "duration": 0.857807,
     "end_time": "2021-08-18T08:00:07.557565",
     "exception": false,
     "start_time": "2021-08-18T08:00:06.699758",
     "status": "completed"
    },
    "tags": []
   },
   "outputs": [],
   "source": [
    "import pandas as pd\n",
    "import sqlite3"
   ]
  },
  {
   "cell_type": "code",
   "execution_count": 2,
   "id": "innovative-syndrome",
   "metadata": {
    "execution": {
     "iopub.execute_input": "2021-08-18T08:00:07.609160Z",
     "iopub.status.busy": "2021-08-18T08:00:07.607314Z",
     "iopub.status.idle": "2021-08-18T08:00:07.682836Z",
     "shell.execute_reply": "2021-08-18T08:00:07.684253Z"
    },
    "papermill": {
     "duration": 0.105323,
     "end_time": "2021-08-18T08:00:07.684690",
     "exception": false,
     "start_time": "2021-08-18T08:00:07.579367",
     "status": "completed"
    },
    "tags": []
   },
   "outputs": [],
   "source": [
    "timestamps = pd.read_sql(\"select distinct record_time from EBAY_TOP_BERLIN order by record_time desc limit 2\", sqlite3.connect(\"UsedObjects.db\"))"
   ]
  },
  {
   "cell_type": "code",
   "execution_count": 3,
   "id": "periodic-identification",
   "metadata": {
    "execution": {
     "iopub.execute_input": "2021-08-18T08:00:07.752077Z",
     "iopub.status.busy": "2021-08-18T08:00:07.750075Z",
     "iopub.status.idle": "2021-08-18T08:00:07.769911Z",
     "shell.execute_reply": "2021-08-18T08:00:07.771175Z"
    },
    "papermill": {
     "duration": 0.066933,
     "end_time": "2021-08-18T08:00:07.771608",
     "exception": false,
     "start_time": "2021-08-18T08:00:07.704675",
     "status": "completed"
    },
    "tags": []
   },
   "outputs": [
    {
     "data": {
      "text/html": [
       "<div>\n",
       "<style scoped>\n",
       "    .dataframe tbody tr th:only-of-type {\n",
       "        vertical-align: middle;\n",
       "    }\n",
       "\n",
       "    .dataframe tbody tr th {\n",
       "        vertical-align: top;\n",
       "    }\n",
       "\n",
       "    .dataframe thead th {\n",
       "        text-align: right;\n",
       "    }\n",
       "</style>\n",
       "<table border=\"1\" class=\"dataframe\">\n",
       "  <thead>\n",
       "    <tr style=\"text-align: right;\">\n",
       "      <th></th>\n",
       "      <th>RECORD_TIME</th>\n",
       "    </tr>\n",
       "  </thead>\n",
       "  <tbody>\n",
       "    <tr>\n",
       "      <th>0</th>\n",
       "      <td>2021-08-18 10:00</td>\n",
       "    </tr>\n",
       "    <tr>\n",
       "      <th>1</th>\n",
       "      <td>2021-08-18 09:30</td>\n",
       "    </tr>\n",
       "  </tbody>\n",
       "</table>\n",
       "</div>"
      ],
      "text/plain": [
       "        RECORD_TIME\n",
       "0  2021-08-18 10:00\n",
       "1  2021-08-18 09:30"
      ]
     },
     "execution_count": 3,
     "metadata": {},
     "output_type": "execute_result"
    }
   ],
   "source": [
    "timestamps"
   ]
  },
  {
   "cell_type": "code",
   "execution_count": 4,
   "id": "alternate-victory",
   "metadata": {
    "execution": {
     "iopub.execute_input": "2021-08-18T08:00:07.825700Z",
     "iopub.status.busy": "2021-08-18T08:00:07.823462Z",
     "iopub.status.idle": "2021-08-18T08:00:07.933843Z",
     "shell.execute_reply": "2021-08-18T08:00:07.935199Z"
    },
    "papermill": {
     "duration": 0.140934,
     "end_time": "2021-08-18T08:00:07.935611",
     "exception": false,
     "start_time": "2021-08-18T08:00:07.794677",
     "status": "completed"
    },
    "tags": []
   },
   "outputs": [],
   "source": [
    "df = pd.read_sql(\"select * from EBAY_TOP_BERLIN where record_time in (select distinct record_time from EBAY_TOP_BERLIN order by record_time desc limit 2)\", sqlite3.connect(\"UsedObjects.db\"))"
   ]
  },
  {
   "cell_type": "code",
   "execution_count": 5,
   "id": "popular-active",
   "metadata": {
    "execution": {
     "iopub.execute_input": "2021-08-18T08:00:08.004746Z",
     "iopub.status.busy": "2021-08-18T08:00:07.994114Z",
     "iopub.status.idle": "2021-08-18T08:00:08.020484Z",
     "shell.execute_reply": "2021-08-18T08:00:08.021682Z"
    },
    "papermill": {
     "duration": 0.065925,
     "end_time": "2021-08-18T08:00:08.022272",
     "exception": false,
     "start_time": "2021-08-18T08:00:07.956347",
     "status": "completed"
    },
    "tags": []
   },
   "outputs": [],
   "source": [
    "df_pivot = df.pivot_table(index=\"PRODUCT\", columns = \"RECORD_TIME\", values = \"LISTING_COUNT\")"
   ]
  },
  {
   "cell_type": "code",
   "execution_count": 6,
   "id": "union-huntington",
   "metadata": {
    "execution": {
     "iopub.execute_input": "2021-08-18T08:00:08.081683Z",
     "iopub.status.busy": "2021-08-18T08:00:08.079254Z",
     "iopub.status.idle": "2021-08-18T08:00:08.084890Z",
     "shell.execute_reply": "2021-08-18T08:00:08.086228Z"
    },
    "papermill": {
     "duration": 0.042231,
     "end_time": "2021-08-18T08:00:08.086660",
     "exception": false,
     "start_time": "2021-08-18T08:00:08.044429",
     "status": "completed"
    },
    "tags": []
   },
   "outputs": [],
   "source": [
    "df_pivot.columns = [\"stamp_1\", \"stamp_2\"]\n",
    "df_pivot_diff = df_pivot.diff(axis=1)"
   ]
  },
  {
   "cell_type": "code",
   "execution_count": 7,
   "id": "fifth-motion",
   "metadata": {
    "execution": {
     "iopub.execute_input": "2021-08-18T08:00:08.141586Z",
     "iopub.status.busy": "2021-08-18T08:00:08.139213Z",
     "iopub.status.idle": "2021-08-18T08:00:09.638260Z",
     "shell.execute_reply": "2021-08-18T08:00:09.639627Z"
    },
    "papermill": {
     "duration": 1.532719,
     "end_time": "2021-08-18T08:00:09.640063",
     "exception": false,
     "start_time": "2021-08-18T08:00:08.107344",
     "status": "completed"
    },
    "tags": []
   },
   "outputs": [
    {
     "data": {
      "text/plain": [
       "<AxesSubplot:ylabel='PRODUCT'>"
      ]
     },
     "execution_count": 7,
     "metadata": {},
     "output_type": "execute_result"
    },
    {
     "data": {
      "image/png": "[encoded data removed]",
      "text/plain": [
       "<Figure size 432x288 with 1 Axes>"
      ]
     },
     "metadata": {
      "needs_background": "light"
     },
     "output_type": "display_data"
    }
   ],
   "source": [
    "df_pivot_diff.sort_values(\"stamp_2\", ascending = False)[\"stamp_2\"].head(10).plot.barh()"
   ]
  },
  {
   "cell_type": "code",
   "execution_count": null,
   "id": "extra-executive",
   "metadata": {
    "papermill": {
     "duration": 0.022287,
     "end_time": "2021-08-18T08:00:09.686406",
     "exception": false,
     "start_time": "2021-08-18T08:00:09.664119",
     "status": "completed"
    },
    "tags": []
   },
   "outputs": [],
   "source": []
  }
 ],
 "metadata": {
  "kernelspec": {
   "display_name": "Python 3",
   "language": "python",
   "name": "python3"
  },
  "language_info": {
   "codemirror_mode": {
    "name": "ipython",
    "version": 3
   },
   "file_extension": ".py",
   "mimetype": "text/x-python",
   "name": "python",
   "nbconvert_exporter": "python",
   "pygments_lexer": "ipython3",
   "version": "3.9.5"
  },
  "papermill": {
   "default_parameters": {},
   "duration": 6.830894,
   "end_time": "2021-08-18T08:00:11.117004",
   "environment_variables": {},
   "exception": null,
   "input_path": "eBay_Overview.ipynb",
   "output_path": "eBay_Overview.ipynb",
   "parameters": {},
   "start_time": "2021-08-18T08:00:04.286110",
   "version": "2.3.3"
  }
 },
 "nbformat": 4,
 "nbformat_minor": 5
}