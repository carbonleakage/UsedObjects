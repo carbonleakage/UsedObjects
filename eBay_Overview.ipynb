{
 "cells": [
  {
   "cell_type": "code",
   "execution_count": 1,
   "id": "reverse-picking",
   "metadata": {
    "execution": {
     "iopub.execute_input": "2021-09-20T19:30:06.876614Z",
     "iopub.status.busy": "2021-09-20T19:30:06.874586Z",
     "iopub.status.idle": "2021-09-20T19:30:07.675842Z",
     "shell.execute_reply": "2021-09-20T19:30:07.677289Z"
    },
    "papermill": {
     "duration": 0.854497,
     "end_time": "2021-09-20T19:30:07.677949",
     "exception": false,
     "start_time": "2021-09-20T19:30:06.823452",
     "status": "completed"
    },
    "tags": []
   },
   "outputs": [],
   "source": [
    "import pandas as pd\n",
    "import sqlite3"
   ]
  },
  {
   "cell_type": "code",
   "execution_count": 2,
   "id": "innovative-syndrome",
   "metadata": {
    "execution": {
     "iopub.execute_input": "2021-09-20T19:30:07.729702Z",
     "iopub.status.busy": "2021-09-20T19:30:07.727574Z",
     "iopub.status.idle": "2021-09-20T19:30:08.062858Z",
     "shell.execute_reply": "2021-09-20T19:30:08.064143Z"
    },
    "papermill": {
     "duration": 0.365932,
     "end_time": "2021-09-20T19:30:08.064557",
     "exception": false,
     "start_time": "2021-09-20T19:30:07.698625",
     "status": "completed"
    },
    "tags": []
   },
   "outputs": [],
   "source": [
    "timestamps = pd.read_sql(\"select distinct record_time from EBAY_TOP_BERLIN order by record_time desc limit 2\", sqlite3.connect(\"UsedObjects.db\"))"
   ]
  },
  {
   "cell_type": "code",
   "execution_count": 3,
   "id": "periodic-identification",
   "metadata": {
    "execution": {
     "iopub.execute_input": "2021-09-20T19:30:08.129818Z",
     "iopub.status.busy": "2021-09-20T19:30:08.127809Z",
     "iopub.status.idle": "2021-09-20T19:30:08.147524Z",
     "shell.execute_reply": "2021-09-20T19:30:08.148816Z"
    },
    "papermill": {
     "duration": 0.064523,
     "end_time": "2021-09-20T19:30:08.149228",
     "exception": false,
     "start_time": "2021-09-20T19:30:08.084705",
     "status": "completed"
    },
    "tags": []
   },
   "outputs": [
    {
     "data": {
      "text/html": [
       "<div>\n",
       "<style scoped>\n",
       "    .dataframe tbody tr th:only-of-type {\n",
       "        vertical-align: middle;\n",
       "    }\n",
       "\n",
       "    .dataframe tbody tr th {\n",
       "        vertical-align: top;\n",
       "    }\n",
       "\n",
       "    .dataframe thead th {\n",
       "        text-align: right;\n",
       "    }\n",
       "</style>\n",
       "<table border=\"1\" class=\"dataframe\">\n",
       "  <thead>\n",
       "    <tr style=\"text-align: right;\">\n",
       "      <th></th>\n",
       "      <th>RECORD_TIME</th>\n",
       "    </tr>\n",
       "  </thead>\n",
       "  <tbody>\n",
       "    <tr>\n",
       "      <th>0</th>\n",
       "      <td>2021-09-20 21:30</td>\n",
       "    </tr>\n",
       "    <tr>\n",
       "      <th>1</th>\n",
       "      <td>2021-09-20 21:00</td>\n",
       "    </tr>\n",
       "  </tbody>\n",
       "</table>\n",
       "</div>"
      ],
      "text/plain": [
       "        RECORD_TIME\n",
       "0  2021-09-20 21:30\n",
       "1  2021-09-20 21:00"
      ]
     },
     "execution_count": 3,
     "metadata": {},
     "output_type": "execute_result"
    }
   ],
   "source": [
    "timestamps"
   ]
  },
  {
   "cell_type": "code",
   "execution_count": 4,
   "id": "alternate-victory",
   "metadata": {
    "execution": {
     "iopub.execute_input": "2021-09-20T19:30:08.201708Z",
     "iopub.status.busy": "2021-09-20T19:30:08.199446Z",
     "iopub.status.idle": "2021-09-20T19:30:08.707942Z",
     "shell.execute_reply": "2021-09-20T19:30:08.706519Z"
    },
    "papermill": {
     "duration": 0.537581,
     "end_time": "2021-09-20T19:30:08.708284",
     "exception": false,
     "start_time": "2021-09-20T19:30:08.170703",
     "status": "completed"
    },
    "tags": []
   },
   "outputs": [],
   "source": [
    "df = pd.read_sql(\"select * from EBAY_TOP_BERLIN where record_time in (select distinct record_time from EBAY_TOP_BERLIN order by record_time desc limit 2)\", sqlite3.connect(\"UsedObjects.db\"))"
   ]
  },
  {
   "cell_type": "code",
   "execution_count": 5,
   "id": "popular-active",
   "metadata": {
    "execution": {
     "iopub.execute_input": "2021-09-20T19:30:08.778867Z",
     "iopub.status.busy": "2021-09-20T19:30:08.767177Z",
     "iopub.status.idle": "2021-09-20T19:30:08.796493Z",
     "shell.execute_reply": "2021-09-20T19:30:08.797829Z"
    },
    "papermill": {
     "duration": 0.068925,
     "end_time": "2021-09-20T19:30:08.798261",
     "exception": false,
     "start_time": "2021-09-20T19:30:08.729336",
     "status": "completed"
    },
    "tags": []
   },
   "outputs": [],
   "source": [
    "df_pivot = df.pivot_table(index=\"PRODUCT\", columns = \"RECORD_TIME\", values = \"LISTING_COUNT\")"
   ]
  },
  {
   "cell_type": "code",
   "execution_count": 6,
   "id": "union-huntington",
   "metadata": {
    "execution": {
     "iopub.execute_input": "2021-09-20T19:30:08.855810Z",
     "iopub.status.busy": "2021-09-20T19:30:08.853714Z",
     "iopub.status.idle": "2021-09-20T19:30:08.858926Z",
     "shell.execute_reply": "2021-09-20T19:30:08.860234Z"
    },
    "papermill": {
     "duration": 0.041057,
     "end_time": "2021-09-20T19:30:08.860648",
     "exception": false,
     "start_time": "2021-09-20T19:30:08.819591",
     "status": "completed"
    },
    "tags": []
   },
   "outputs": [],
   "source": [
    "df_pivot.columns = [\"stamp_1\", \"stamp_2\"]\n",
    "df_pivot_diff = df_pivot.diff(axis=1)"
   ]
  },
  {
   "cell_type": "code",
   "execution_count": 7,
   "id": "fifth-motion",
   "metadata": {
    "execution": {
     "iopub.execute_input": "2021-09-20T19:30:08.916641Z",
     "iopub.status.busy": "2021-09-20T19:30:08.914112Z",
     "iopub.status.idle": "2021-09-20T19:30:10.402302Z",
     "shell.execute_reply": "2021-09-20T19:30:10.403566Z"
    },
    "papermill": {
     "duration": 1.521806,
     "end_time": "2021-09-20T19:30:10.404000",
     "exception": false,
     "start_time": "2021-09-20T19:30:08.882194",
     "status": "completed"
    },
    "tags": []
   },
   "outputs": [
    {
     "data": {
      "text/plain": [
       "<AxesSubplot:ylabel='PRODUCT'>"
      ]
     },
     "execution_count": 7,
     "metadata": {},
     "output_type": "execute_result"
    },
    {
     "data": {
      "image/png": "[encoded data removed]",
      "text/plain": [
       "<Figure size 432x288 with 1 Axes>"
      ]
     },
     "metadata": {
      "needs_background": "light"
     },
     "output_type": "display_data"
    }
   ],
   "source": [
    "df_pivot_diff.sort_values(\"stamp_2\", ascending = False)[\"stamp_2\"].head(10).plot.barh()"
   ]
  },
  {
   "cell_type": "code",
   "execution_count": null,
   "id": "extra-executive",
   "metadata": {
    "papermill": {
     "duration": 0.022325,
     "end_time": "2021-09-20T19:30:10.452643",
     "exception": false,
     "start_time": "2021-09-20T19:30:10.430318",
     "status": "completed"
    },
    "tags": []
   },
   "outputs": [],
   "source": []
  }
 ],
 "metadata": {
  "kernelspec": {
   "display_name": "Python 3",
   "language": "python",
   "name": "python3"
  },
  "language_info": {
   "codemirror_mode": {
    "name": "ipython",
    "version": 3
   },
   "file_extension": ".py",
   "mimetype": "text/x-python",
   "name": "python",
   "nbconvert_exporter": "python",
   "pygments_lexer": "ipython3",
   "version": "3.9.5"
  },
  "papermill": {
   "default_parameters": {},
   "duration": 6.660155,
   "end_time": "2021-09-20T19:30:11.093254",
   "environment_variables": {},
   "exception": null,
   "input_path": "eBay_Overview.ipynb",
   "output_path": "eBay_Overview.ipynb",
   "parameters": {},
   "start_time": "2021-09-20T19:30:04.433099",
   "version": "2.3.3"
  }
 },
 "nbformat": 4,
 "nbformat_minor": 5
}