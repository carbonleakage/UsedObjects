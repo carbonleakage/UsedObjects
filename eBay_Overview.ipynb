{
 "cells": [
  {
   "cell_type": "code",
   "execution_count": 1,
   "id": "reverse-picking",
   "metadata": {
    "execution": {
     "iopub.execute_input": "2021-10-18T13:00:08.366821Z",
     "iopub.status.busy": "2021-10-18T13:00:08.364815Z",
     "iopub.status.idle": "2021-10-18T13:00:09.174139Z",
     "shell.execute_reply": "2021-10-18T13:00:09.175564Z"
    },
    "papermill": {
     "duration": 0.860409,
     "end_time": "2021-10-18T13:00:09.176251",
     "exception": false,
     "start_time": "2021-10-18T13:00:08.315842",
     "status": "completed"
    },
    "tags": []
   },
   "outputs": [],
   "source": [
    "import pandas as pd\n",
    "import sqlite3"
   ]
  },
  {
   "cell_type": "code",
   "execution_count": 2,
   "id": "innovative-syndrome",
   "metadata": {
    "execution": {
     "iopub.execute_input": "2021-10-18T13:00:09.227686Z",
     "iopub.status.busy": "2021-10-18T13:00:09.225670Z",
     "iopub.status.idle": "2021-10-18T13:00:09.782890Z",
     "shell.execute_reply": "2021-10-18T13:00:09.783999Z"
    },
    "papermill": {
     "duration": 0.587464,
     "end_time": "2021-10-18T13:00:09.784413",
     "exception": false,
     "start_time": "2021-10-18T13:00:09.196949",
     "status": "completed"
    },
    "tags": []
   },
   "outputs": [],
   "source": [
    "timestamps = pd.read_sql(\"select distinct record_time from EBAY_TOP_BERLIN order by record_time desc limit 2\", sqlite3.connect(\"UsedObjects.db\"))"
   ]
  },
  {
   "cell_type": "code",
   "execution_count": 3,
   "id": "periodic-identification",
   "metadata": {
    "execution": {
     "iopub.execute_input": "2021-10-18T13:00:09.860507Z",
     "iopub.status.busy": "2021-10-18T13:00:09.858523Z",
     "iopub.status.idle": "2021-10-18T13:00:09.878078Z",
     "shell.execute_reply": "2021-10-18T13:00:09.879296Z"
    },
    "papermill": {
     "duration": 0.067604,
     "end_time": "2021-10-18T13:00:09.879689",
     "exception": false,
     "start_time": "2021-10-18T13:00:09.812085",
     "status": "completed"
    },
    "tags": []
   },
   "outputs": [
    {
     "data": {
      "text/html": [
       "<div>\n",
       "<style scoped>\n",
       "    .dataframe tbody tr th:only-of-type {\n",
       "        vertical-align: middle;\n",
       "    }\n",
       "\n",
       "    .dataframe tbody tr th {\n",
       "        vertical-align: top;\n",
       "    }\n",
       "\n",
       "    .dataframe thead th {\n",
       "        text-align: right;\n",
       "    }\n",
       "</style>\n",
       "<table border=\"1\" class=\"dataframe\">\n",
       "  <thead>\n",
       "    <tr style=\"text-align: right;\">\n",
       "      <th></th>\n",
       "      <th>RECORD_TIME</th>\n",
       "    </tr>\n",
       "  </thead>\n",
       "  <tbody>\n",
       "    <tr>\n",
       "      <th>0</th>\n",
       "      <td>2021-10-18 15:00</td>\n",
       "    </tr>\n",
       "    <tr>\n",
       "      <th>1</th>\n",
       "      <td>2021-10-18 14:30</td>\n",
       "    </tr>\n",
       "  </tbody>\n",
       "</table>\n",
       "</div>"
      ],
      "text/plain": [
       "        RECORD_TIME\n",
       "0  2021-10-18 15:00\n",
       "1  2021-10-18 14:30"
      ]
     },
     "execution_count": 3,
     "metadata": {},
     "output_type": "execute_result"
    }
   ],
   "source": [
    "timestamps"
   ]
  },
  {
   "cell_type": "code",
   "execution_count": 4,
   "id": "alternate-victory",
   "metadata": {
    "execution": {
     "iopub.execute_input": "2021-10-18T13:00:09.931975Z",
     "iopub.status.busy": "2021-10-18T13:00:09.929702Z",
     "iopub.status.idle": "2021-10-18T13:00:10.784948Z",
     "shell.execute_reply": "2021-10-18T13:00:10.786327Z"
    },
    "papermill": {
     "duration": 0.885822,
     "end_time": "2021-10-18T13:00:10.786745",
     "exception": false,
     "start_time": "2021-10-18T13:00:09.900923",
     "status": "completed"
    },
    "tags": []
   },
   "outputs": [],
   "source": [
    "df = pd.read_sql(\"select * from EBAY_TOP_BERLIN where record_time in (select distinct record_time from EBAY_TOP_BERLIN order by record_time desc limit 2)\", sqlite3.connect(\"UsedObjects.db\"))"
   ]
  },
  {
   "cell_type": "code",
   "execution_count": 5,
   "id": "popular-active",
   "metadata": {
    "execution": {
     "iopub.execute_input": "2021-10-18T13:00:10.851341Z",
     "iopub.status.busy": "2021-10-18T13:00:10.844252Z",
     "iopub.status.idle": "2021-10-18T13:00:10.871251Z",
     "shell.execute_reply": "2021-10-18T13:00:10.872444Z"
    },
    "papermill": {
     "duration": 0.065617,
     "end_time": "2021-10-18T13:00:10.873042",
     "exception": false,
     "start_time": "2021-10-18T13:00:10.807425",
     "status": "completed"
    },
    "tags": []
   },
   "outputs": [],
   "source": [
    "df_pivot = df.pivot_table(index=\"PRODUCT\", columns = \"RECORD_TIME\", values = \"LISTING_COUNT\")"
   ]
  },
  {
   "cell_type": "code",
   "execution_count": 6,
   "id": "union-huntington",
   "metadata": {
    "execution": {
     "iopub.execute_input": "2021-10-18T13:00:10.933001Z",
     "iopub.status.busy": "2021-10-18T13:00:10.930542Z",
     "iopub.status.idle": "2021-10-18T13:00:10.936473Z",
     "shell.execute_reply": "2021-10-18T13:00:10.937974Z"
    },
    "papermill": {
     "duration": 0.042892,
     "end_time": "2021-10-18T13:00:10.938434",
     "exception": false,
     "start_time": "2021-10-18T13:00:10.895542",
     "status": "completed"
    },
    "tags": []
   },
   "outputs": [],
   "source": [
    "df_pivot.columns = [\"stamp_1\", \"stamp_2\"]\n",
    "df_pivot_diff = df_pivot.diff(axis=1)"
   ]
  },
  {
   "cell_type": "code",
   "execution_count": 7,
   "id": "fifth-motion",
   "metadata": {
    "execution": {
     "iopub.execute_input": "2021-10-18T13:00:10.993298Z",
     "iopub.status.busy": "2021-10-18T13:00:10.990947Z",
     "iopub.status.idle": "2021-10-18T13:00:12.489366Z",
     "shell.execute_reply": "2021-10-18T13:00:12.490646Z"
    },
    "papermill": {
     "duration": 1.531111,
     "end_time": "2021-10-18T13:00:12.491063",
     "exception": false,
     "start_time": "2021-10-18T13:00:10.959952",
     "status": "completed"
    },
    "tags": []
   },
   "outputs": [
    {
     "data": {
      "text/plain": [
       "<AxesSubplot:ylabel='PRODUCT'>"
      ]
     },
     "execution_count": 7,
     "metadata": {},
     "output_type": "execute_result"
    },
    {
     "data": {
      "image/png": "[encoded data removed]",
      "text/plain": [
       "<Figure size 432x288 with 1 Axes>"
      ]
     },
     "metadata": {
      "needs_background": "light"
     },
     "output_type": "display_data"
    }
   ],
   "source": [
    "df_pivot_diff.sort_values(\"stamp_2\", ascending = False)[\"stamp_2\"].head(10).plot.barh()"
   ]
  },
  {
   "cell_type": "code",
   "execution_count": null,
   "id": "extra-executive",
   "metadata": {
    "papermill": {
     "duration": 0.022283,
     "end_time": "2021-10-18T13:00:12.539163",
     "exception": false,
     "start_time": "2021-10-18T13:00:12.516880",
     "status": "completed"
    },
    "tags": []
   },
   "outputs": [],
   "source": []
  }
 ],
 "metadata": {
  "kernelspec": {
   "display_name": "Python 3",
   "language": "python",
   "name": "python3"
  },
  "language_info": {
   "codemirror_mode": {
    "name": "ipython",
    "version": 3
   },
   "file_extension": ".py",
   "mimetype": "text/x-python",
   "name": "python",
   "nbconvert_exporter": "python",
   "pygments_lexer": "ipython3",
   "version": "3.9.5"
  },
  "papermill": {
   "default_parameters": {},
   "duration": 7.81892,
   "end_time": "2021-10-18T13:00:13.737079",
   "environment_variables": {},
   "exception": null,
   "input_path": "eBay_Overview.ipynb",
   "output_path": "eBay_Overview.ipynb",
   "parameters": {},
   "start_time": "2021-10-18T13:00:05.918159",
   "version": "2.3.3"
  }
 },
 "nbformat": 4,
 "nbformat_minor": 5
}