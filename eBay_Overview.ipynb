{
 "cells": [
  {
   "cell_type": "code",
   "execution_count": 1,
   "id": "reverse-picking",
   "metadata": {
    "execution": {
     "iopub.execute_input": "2021-10-15T05:00:06.809190Z",
     "iopub.status.busy": "2021-10-15T05:00:06.807124Z",
     "iopub.status.idle": "2021-10-15T05:00:07.618823Z",
     "shell.execute_reply": "2021-10-15T05:00:07.617229Z"
    },
    "papermill": {
     "duration": 0.862956,
     "end_time": "2021-10-15T05:00:07.619213",
     "exception": false,
     "start_time": "2021-10-15T05:00:06.756257",
     "status": "completed"
    },
    "tags": []
   },
   "outputs": [],
   "source": [
    "import pandas as pd\n",
    "import sqlite3"
   ]
  },
  {
   "cell_type": "code",
   "execution_count": 2,
   "id": "innovative-syndrome",
   "metadata": {
    "execution": {
     "iopub.execute_input": "2021-10-15T05:00:07.673359Z",
     "iopub.status.busy": "2021-10-15T05:00:07.670907Z",
     "iopub.status.idle": "2021-10-15T05:00:08.215646Z",
     "shell.execute_reply": "2021-10-15T05:00:08.216957Z"
    },
    "papermill": {
     "duration": 0.574974,
     "end_time": "2021-10-15T05:00:08.217416",
     "exception": false,
     "start_time": "2021-10-15T05:00:07.642442",
     "status": "completed"
    },
    "tags": []
   },
   "outputs": [],
   "source": [
    "timestamps = pd.read_sql(\"select distinct record_time from EBAY_TOP_BERLIN order by record_time desc limit 2\", sqlite3.connect(\"UsedObjects.db\"))"
   ]
  },
  {
   "cell_type": "code",
   "execution_count": 3,
   "id": "periodic-identification",
   "metadata": {
    "execution": {
     "iopub.execute_input": "2021-10-15T05:00:08.291866Z",
     "iopub.status.busy": "2021-10-15T05:00:08.289830Z",
     "iopub.status.idle": "2021-10-15T05:00:08.309922Z",
     "shell.execute_reply": "2021-10-15T05:00:08.311242Z"
    },
    "papermill": {
     "duration": 0.068842,
     "end_time": "2021-10-15T05:00:08.311660",
     "exception": false,
     "start_time": "2021-10-15T05:00:08.242818",
     "status": "completed"
    },
    "tags": []
   },
   "outputs": [
    {
     "data": {
      "text/html": [
       "<div>\n",
       "<style scoped>\n",
       "    .dataframe tbody tr th:only-of-type {\n",
       "        vertical-align: middle;\n",
       "    }\n",
       "\n",
       "    .dataframe tbody tr th {\n",
       "        vertical-align: top;\n",
       "    }\n",
       "\n",
       "    .dataframe thead th {\n",
       "        text-align: right;\n",
       "    }\n",
       "</style>\n",
       "<table border=\"1\" class=\"dataframe\">\n",
       "  <thead>\n",
       "    <tr style=\"text-align: right;\">\n",
       "      <th></th>\n",
       "      <th>RECORD_TIME</th>\n",
       "    </tr>\n",
       "  </thead>\n",
       "  <tbody>\n",
       "    <tr>\n",
       "      <th>0</th>\n",
       "      <td>2021-10-15 07:00</td>\n",
       "    </tr>\n",
       "    <tr>\n",
       "      <th>1</th>\n",
       "      <td>2021-10-15 06:30</td>\n",
       "    </tr>\n",
       "  </tbody>\n",
       "</table>\n",
       "</div>"
      ],
      "text/plain": [
       "        RECORD_TIME\n",
       "0  2021-10-15 07:00\n",
       "1  2021-10-15 06:30"
      ]
     },
     "execution_count": 3,
     "metadata": {},
     "output_type": "execute_result"
    }
   ],
   "source": [
    "timestamps"
   ]
  },
  {
   "cell_type": "code",
   "execution_count": 4,
   "id": "alternate-victory",
   "metadata": {
    "execution": {
     "iopub.execute_input": "2021-10-15T05:00:08.364805Z",
     "iopub.status.busy": "2021-10-15T05:00:08.362473Z",
     "iopub.status.idle": "2021-10-15T05:00:09.179150Z",
     "shell.execute_reply": "2021-10-15T05:00:09.180433Z"
    },
    "papermill": {
     "duration": 0.847758,
     "end_time": "2021-10-15T05:00:09.180922",
     "exception": false,
     "start_time": "2021-10-15T05:00:08.333164",
     "status": "completed"
    },
    "tags": []
   },
   "outputs": [],
   "source": [
    "df = pd.read_sql(\"select * from EBAY_TOP_BERLIN where record_time in (select distinct record_time from EBAY_TOP_BERLIN order by record_time desc limit 2)\", sqlite3.connect(\"UsedObjects.db\"))"
   ]
  },
  {
   "cell_type": "code",
   "execution_count": 5,
   "id": "popular-active",
   "metadata": {
    "execution": {
     "iopub.execute_input": "2021-10-15T05:00:09.251785Z",
     "iopub.status.busy": "2021-10-15T05:00:09.239275Z",
     "iopub.status.idle": "2021-10-15T05:00:09.267727Z",
     "shell.execute_reply": "2021-10-15T05:00:09.269178Z"
    },
    "papermill": {
     "duration": 0.068062,
     "end_time": "2021-10-15T05:00:09.269598",
     "exception": false,
     "start_time": "2021-10-15T05:00:09.201536",
     "status": "completed"
    },
    "tags": []
   },
   "outputs": [],
   "source": [
    "df_pivot = df.pivot_table(index=\"PRODUCT\", columns = \"RECORD_TIME\", values = \"LISTING_COUNT\")"
   ]
  },
  {
   "cell_type": "code",
   "execution_count": 6,
   "id": "union-huntington",
   "metadata": {
    "execution": {
     "iopub.execute_input": "2021-10-15T05:00:09.328641Z",
     "iopub.status.busy": "2021-10-15T05:00:09.326197Z",
     "iopub.status.idle": "2021-10-15T05:00:09.332133Z",
     "shell.execute_reply": "2021-10-15T05:00:09.333573Z"
    },
    "papermill": {
     "duration": 0.042658,
     "end_time": "2021-10-15T05:00:09.334018",
     "exception": false,
     "start_time": "2021-10-15T05:00:09.291360",
     "status": "completed"
    },
    "tags": []
   },
   "outputs": [],
   "source": [
    "df_pivot.columns = [\"stamp_1\", \"stamp_2\"]\n",
    "df_pivot_diff = df_pivot.diff(axis=1)"
   ]
  },
  {
   "cell_type": "code",
   "execution_count": 7,
   "id": "fifth-motion",
   "metadata": {
    "execution": {
     "iopub.execute_input": "2021-10-15T05:00:09.389218Z",
     "iopub.status.busy": "2021-10-15T05:00:09.386815Z",
     "iopub.status.idle": "2021-10-15T05:00:10.857048Z",
     "shell.execute_reply": "2021-10-15T05:00:10.858355Z"
    },
    "papermill": {
     "duration": 1.503023,
     "end_time": "2021-10-15T05:00:10.858773",
     "exception": false,
     "start_time": "2021-10-15T05:00:09.355750",
     "status": "completed"
    },
    "tags": []
   },
   "outputs": [
    {
     "data": {
      "text/plain": [
       "<AxesSubplot:ylabel='PRODUCT'>"
      ]
     },
     "execution_count": 7,
     "metadata": {},
     "output_type": "execute_result"
    },
    {
     "data": {
      "image/png": "[encoded data removed]",
      "text/plain": [
       "<Figure size 432x288 with 1 Axes>"
      ]
     },
     "metadata": {
      "needs_background": "light"
     },
     "output_type": "display_data"
    }
   ],
   "source": [
    "df_pivot_diff.sort_values(\"stamp_2\", ascending = False)[\"stamp_2\"].head(10).plot.barh()"
   ]
  },
  {
   "cell_type": "code",
   "execution_count": null,
   "id": "extra-executive",
   "metadata": {
    "papermill": {
     "duration": 0.022251,
     "end_time": "2021-10-15T05:00:10.904555",
     "exception": false,
     "start_time": "2021-10-15T05:00:10.882304",
     "status": "completed"
    },
    "tags": []
   },
   "outputs": [],
   "source": []
  }
 ],
 "metadata": {
  "kernelspec": {
   "display_name": "Python 3",
   "language": "python",
   "name": "python3"
  },
  "language_info": {
   "codemirror_mode": {
    "name": "ipython",
    "version": 3
   },
   "file_extension": ".py",
   "mimetype": "text/x-python",
   "name": "python",
   "nbconvert_exporter": "python",
   "pygments_lexer": "ipython3",
   "version": "3.9.5"
  },
  "papermill": {
   "default_parameters": {},
   "duration": 7.819525,
   "end_time": "2021-10-15T05:00:12.169274",
   "environment_variables": {},
   "exception": null,
   "input_path": "eBay_Overview.ipynb",
   "output_path": "eBay_Overview.ipynb",
   "parameters": {},
   "start_time": "2021-10-15T05:00:04.349749",
   "version": "2.3.3"
  }
 },
 "nbformat": 4,
 "nbformat_minor": 5
}