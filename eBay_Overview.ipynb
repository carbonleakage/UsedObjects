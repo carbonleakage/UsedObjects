{
 "cells": [
  {
   "cell_type": "code",
   "execution_count": 1,
   "id": "reverse-picking",
   "metadata": {
    "execution": {
     "iopub.execute_input": "2021-12-13T23:30:07.183139Z",
     "iopub.status.busy": "2021-12-13T23:30:07.181150Z",
     "iopub.status.idle": "2021-12-13T23:30:08.146915Z",
     "shell.execute_reply": "2021-12-13T23:30:08.148437Z"
    },
    "papermill": {
     "duration": 1.014481,
     "end_time": "2021-12-13T23:30:08.149222",
     "exception": false,
     "start_time": "2021-12-13T23:30:07.134741",
     "status": "completed"
    },
    "tags": []
   },
   "outputs": [],
   "source": [
    "import pandas as pd\n",
    "import sqlite3"
   ]
  },
  {
   "cell_type": "code",
   "execution_count": 2,
   "id": "innovative-syndrome",
   "metadata": {
    "execution": {
     "iopub.execute_input": "2021-12-13T23:30:08.214456Z",
     "iopub.status.busy": "2021-12-13T23:30:08.211836Z",
     "iopub.status.idle": "2021-12-13T23:30:09.289604Z",
     "shell.execute_reply": "2021-12-13T23:30:09.291175Z"
    },
    "papermill": {
     "duration": 1.110206,
     "end_time": "2021-12-13T23:30:09.291664",
     "exception": false,
     "start_time": "2021-12-13T23:30:08.181458",
     "status": "completed"
    },
    "tags": []
   },
   "outputs": [],
   "source": [
    "timestamps = pd.read_sql(\"select distinct record_time from EBAY_TOP_BERLIN order by record_time desc limit 2\", sqlite3.connect(\"UsedObjects.db\"))"
   ]
  },
  {
   "cell_type": "code",
   "execution_count": 3,
   "id": "periodic-identification",
   "metadata": {
    "execution": {
     "iopub.execute_input": "2021-12-13T23:30:09.366806Z",
     "iopub.status.busy": "2021-12-13T23:30:09.363949Z",
     "iopub.status.idle": "2021-12-13T23:30:09.388065Z",
     "shell.execute_reply": "2021-12-13T23:30:09.389724Z"
    },
    "papermill": {
     "duration": 0.077152,
     "end_time": "2021-12-13T23:30:09.390272",
     "exception": false,
     "start_time": "2021-12-13T23:30:09.313120",
     "status": "completed"
    },
    "tags": []
   },
   "outputs": [
    {
     "data": {
      "text/html": [
       "<div>\n",
       "<style scoped>\n",
       "    .dataframe tbody tr th:only-of-type {\n",
       "        vertical-align: middle;\n",
       "    }\n",
       "\n",
       "    .dataframe tbody tr th {\n",
       "        vertical-align: top;\n",
       "    }\n",
       "\n",
       "    .dataframe thead th {\n",
       "        text-align: right;\n",
       "    }\n",
       "</style>\n",
       "<table border=\"1\" class=\"dataframe\">\n",
       "  <thead>\n",
       "    <tr style=\"text-align: right;\">\n",
       "      <th></th>\n",
       "      <th>RECORD_TIME</th>\n",
       "    </tr>\n",
       "  </thead>\n",
       "  <tbody>\n",
       "    <tr>\n",
       "      <th>0</th>\n",
       "      <td>2021-12-14 00:30</td>\n",
       "    </tr>\n",
       "    <tr>\n",
       "      <th>1</th>\n",
       "      <td>2021-12-14 00:00</td>\n",
       "    </tr>\n",
       "  </tbody>\n",
       "</table>\n",
       "</div>"
      ],
      "text/plain": [
       "        RECORD_TIME\n",
       "0  2021-12-14 00:30\n",
       "1  2021-12-14 00:00"
      ]
     },
     "execution_count": 3,
     "metadata": {},
     "output_type": "execute_result"
    }
   ],
   "source": [
    "timestamps"
   ]
  },
  {
   "cell_type": "code",
   "execution_count": 4,
   "id": "alternate-victory",
   "metadata": {
    "execution": {
     "iopub.execute_input": "2021-12-13T23:30:09.447001Z",
     "iopub.status.busy": "2021-12-13T23:30:09.444849Z",
     "iopub.status.idle": "2021-12-13T23:30:11.008881Z",
     "shell.execute_reply": "2021-12-13T23:30:11.010382Z"
    },
    "papermill": {
     "duration": 1.599003,
     "end_time": "2021-12-13T23:30:11.010844",
     "exception": false,
     "start_time": "2021-12-13T23:30:09.411841",
     "status": "completed"
    },
    "tags": []
   },
   "outputs": [],
   "source": [
    "df = pd.read_sql(\"select * from EBAY_TOP_BERLIN where record_time in (select distinct record_time from EBAY_TOP_BERLIN order by record_time desc limit 2)\", sqlite3.connect(\"UsedObjects.db\"))"
   ]
  },
  {
   "cell_type": "code",
   "execution_count": 5,
   "id": "popular-active",
   "metadata": {
    "execution": {
     "iopub.execute_input": "2021-12-13T23:30:11.085612Z",
     "iopub.status.busy": "2021-12-13T23:30:11.072509Z",
     "iopub.status.idle": "2021-12-13T23:30:11.104775Z",
     "shell.execute_reply": "2021-12-13T23:30:11.106178Z"
    },
    "papermill": {
     "duration": 0.075219,
     "end_time": "2021-12-13T23:30:11.106649",
     "exception": false,
     "start_time": "2021-12-13T23:30:11.031430",
     "status": "completed"
    },
    "tags": []
   },
   "outputs": [],
   "source": [
    "df_pivot = df.pivot_table(index=\"PRODUCT\", columns = \"RECORD_TIME\", values = \"LISTING_COUNT\")"
   ]
  },
  {
   "cell_type": "code",
   "execution_count": 6,
   "id": "union-huntington",
   "metadata": {
    "execution": {
     "iopub.execute_input": "2021-12-13T23:30:11.165867Z",
     "iopub.status.busy": "2021-12-13T23:30:11.163438Z",
     "iopub.status.idle": "2021-12-13T23:30:11.172457Z",
     "shell.execute_reply": "2021-12-13T23:30:11.174194Z"
    },
    "papermill": {
     "duration": 0.048286,
     "end_time": "2021-12-13T23:30:11.174731",
     "exception": false,
     "start_time": "2021-12-13T23:30:11.126445",
     "status": "completed"
    },
    "tags": []
   },
   "outputs": [],
   "source": [
    "df_pivot.columns = [\"stamp_1\", \"stamp_2\"]\n",
    "df_pivot_diff = df_pivot.diff(axis=1)"
   ]
  },
  {
   "cell_type": "code",
   "execution_count": 7,
   "id": "fifth-motion",
   "metadata": {
    "execution": {
     "iopub.execute_input": "2021-12-13T23:30:11.266275Z",
     "iopub.status.busy": "2021-12-13T23:30:11.262867Z",
     "iopub.status.idle": "2021-12-13T23:30:13.151508Z",
     "shell.execute_reply": "2021-12-13T23:30:13.152861Z"
    },
    "papermill": {
     "duration": 1.944744,
     "end_time": "2021-12-13T23:30:13.153282",
     "exception": false,
     "start_time": "2021-12-13T23:30:11.208538",
     "status": "completed"
    },
    "tags": []
   },
   "outputs": [
    {
     "data": {
      "text/plain": [
       "<AxesSubplot:ylabel='PRODUCT'>"
      ]
     },
     "execution_count": 7,
     "metadata": {},
     "output_type": "execute_result"
    },
    {
     "data": {
      "image/png": "[encoded data removed]",
      "text/plain": [
       "<Figure size 432x288 with 1 Axes>"
      ]
     },
     "metadata": {
      "needs_background": "light"
     },
     "output_type": "display_data"
    }
   ],
   "source": [
    "df_pivot_diff.sort_values(\"stamp_2\", ascending = False)[\"stamp_2\"].head(10).plot.barh()"
   ]
  },
  {
   "cell_type": "code",
   "execution_count": null,
   "id": "extra-executive",
   "metadata": {
    "papermill": {
     "duration": 0.02554,
     "end_time": "2021-12-13T23:30:13.210063",
     "exception": false,
     "start_time": "2021-12-13T23:30:13.184523",
     "status": "completed"
    },
    "tags": []
   },
   "outputs": [],
   "source": []
  }
 ],
 "metadata": {
  "kernelspec": {
   "display_name": "Python 3",
   "language": "python",
   "name": "python3"
  },
  "language_info": {
   "codemirror_mode": {
    "name": "ipython",
    "version": 3
   },
   "file_extension": ".py",
   "mimetype": "text/x-python",
   "name": "python",
   "nbconvert_exporter": "python",
   "pygments_lexer": "ipython3",
   "version": "3.9.5"
  },
  "papermill": {
   "default_parameters": {},
   "duration": 9.481463,
   "end_time": "2021-12-13T23:30:13.870769",
   "environment_variables": {},
   "exception": null,
   "input_path": "eBay_Overview.ipynb",
   "output_path": "eBay_Overview.ipynb",
   "parameters": {},
   "start_time": "2021-12-13T23:30:04.389306",
   "version": "2.3.3"
  }
 },
 "nbformat": 4,
 "nbformat_minor": 5
}