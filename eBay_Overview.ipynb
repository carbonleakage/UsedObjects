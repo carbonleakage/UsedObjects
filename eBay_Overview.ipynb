{
 "cells": [
  {
   "cell_type": "code",
   "execution_count": 1,
   "id": "reverse-picking",
   "metadata": {
    "execution": {
     "iopub.execute_input": "2021-09-09T17:30:07.549286Z",
     "iopub.status.busy": "2021-09-09T17:30:07.547388Z",
     "iopub.status.idle": "2021-09-09T17:30:08.363087Z",
     "shell.execute_reply": "2021-09-09T17:30:08.361397Z"
    },
    "papermill": {
     "duration": 0.866798,
     "end_time": "2021-09-09T17:30:08.363520",
     "exception": false,
     "start_time": "2021-09-09T17:30:07.496722",
     "status": "completed"
    },
    "tags": []
   },
   "outputs": [],
   "source": [
    "import pandas as pd\n",
    "import sqlite3"
   ]
  },
  {
   "cell_type": "code",
   "execution_count": 2,
   "id": "innovative-syndrome",
   "metadata": {
    "execution": {
     "iopub.execute_input": "2021-09-09T17:30:08.413899Z",
     "iopub.status.busy": "2021-09-09T17:30:08.411759Z",
     "iopub.status.idle": "2021-09-09T17:30:08.654159Z",
     "shell.execute_reply": "2021-09-09T17:30:08.655529Z"
    },
    "papermill": {
     "duration": 0.272533,
     "end_time": "2021-09-09T17:30:08.655959",
     "exception": false,
     "start_time": "2021-09-09T17:30:08.383426",
     "status": "completed"
    },
    "tags": []
   },
   "outputs": [],
   "source": [
    "timestamps = pd.read_sql(\"select distinct record_time from EBAY_TOP_BERLIN order by record_time desc limit 2\", sqlite3.connect(\"UsedObjects.db\"))"
   ]
  },
  {
   "cell_type": "code",
   "execution_count": 3,
   "id": "periodic-identification",
   "metadata": {
    "execution": {
     "iopub.execute_input": "2021-09-09T17:30:08.718559Z",
     "iopub.status.busy": "2021-09-09T17:30:08.716552Z",
     "iopub.status.idle": "2021-09-09T17:30:08.736852Z",
     "shell.execute_reply": "2021-09-09T17:30:08.738044Z"
    },
    "papermill": {
     "duration": 0.063394,
     "end_time": "2021-09-09T17:30:08.738475",
     "exception": false,
     "start_time": "2021-09-09T17:30:08.675081",
     "status": "completed"
    },
    "tags": []
   },
   "outputs": [
    {
     "data": {
      "text/html": [
       "<div>\n",
       "<style scoped>\n",
       "    .dataframe tbody tr th:only-of-type {\n",
       "        vertical-align: middle;\n",
       "    }\n",
       "\n",
       "    .dataframe tbody tr th {\n",
       "        vertical-align: top;\n",
       "    }\n",
       "\n",
       "    .dataframe thead th {\n",
       "        text-align: right;\n",
       "    }\n",
       "</style>\n",
       "<table border=\"1\" class=\"dataframe\">\n",
       "  <thead>\n",
       "    <tr style=\"text-align: right;\">\n",
       "      <th></th>\n",
       "      <th>RECORD_TIME</th>\n",
       "    </tr>\n",
       "  </thead>\n",
       "  <tbody>\n",
       "    <tr>\n",
       "      <th>0</th>\n",
       "      <td>2021-09-09 19:30</td>\n",
       "    </tr>\n",
       "    <tr>\n",
       "      <th>1</th>\n",
       "      <td>2021-09-09 19:00</td>\n",
       "    </tr>\n",
       "  </tbody>\n",
       "</table>\n",
       "</div>"
      ],
      "text/plain": [
       "        RECORD_TIME\n",
       "0  2021-09-09 19:30\n",
       "1  2021-09-09 19:00"
      ]
     },
     "execution_count": 3,
     "metadata": {},
     "output_type": "execute_result"
    }
   ],
   "source": [
    "timestamps"
   ]
  },
  {
   "cell_type": "code",
   "execution_count": 4,
   "id": "alternate-victory",
   "metadata": {
    "execution": {
     "iopub.execute_input": "2021-09-09T17:30:08.790738Z",
     "iopub.status.busy": "2021-09-09T17:30:08.788918Z",
     "iopub.status.idle": "2021-09-09T17:30:09.152958Z",
     "shell.execute_reply": "2021-09-09T17:30:09.154234Z"
    },
    "papermill": {
     "duration": 0.39365,
     "end_time": "2021-09-09T17:30:09.154646",
     "exception": false,
     "start_time": "2021-09-09T17:30:08.760996",
     "status": "completed"
    },
    "tags": []
   },
   "outputs": [],
   "source": [
    "df = pd.read_sql(\"select * from EBAY_TOP_BERLIN where record_time in (select distinct record_time from EBAY_TOP_BERLIN order by record_time desc limit 2)\", sqlite3.connect(\"UsedObjects.db\"))"
   ]
  },
  {
   "cell_type": "code",
   "execution_count": 5,
   "id": "popular-active",
   "metadata": {
    "execution": {
     "iopub.execute_input": "2021-09-09T17:30:09.229447Z",
     "iopub.status.busy": "2021-09-09T17:30:09.222017Z",
     "iopub.status.idle": "2021-09-09T17:30:09.250060Z",
     "shell.execute_reply": "2021-09-09T17:30:09.251337Z"
    },
    "papermill": {
     "duration": 0.071511,
     "end_time": "2021-09-09T17:30:09.251740",
     "exception": false,
     "start_time": "2021-09-09T17:30:09.180229",
     "status": "completed"
    },
    "tags": []
   },
   "outputs": [],
   "source": [
    "df_pivot = df.pivot_table(index=\"PRODUCT\", columns = \"RECORD_TIME\", values = \"LISTING_COUNT\")"
   ]
  },
  {
   "cell_type": "code",
   "execution_count": 6,
   "id": "union-huntington",
   "metadata": {
    "execution": {
     "iopub.execute_input": "2021-09-09T17:30:09.306832Z",
     "iopub.status.busy": "2021-09-09T17:30:09.304800Z",
     "iopub.status.idle": "2021-09-09T17:30:09.310111Z",
     "shell.execute_reply": "2021-09-09T17:30:09.311348Z"
    },
    "papermill": {
     "duration": 0.039764,
     "end_time": "2021-09-09T17:30:09.311773",
     "exception": false,
     "start_time": "2021-09-09T17:30:09.272009",
     "status": "completed"
    },
    "tags": []
   },
   "outputs": [],
   "source": [
    "df_pivot.columns = [\"stamp_1\", \"stamp_2\"]\n",
    "df_pivot_diff = df_pivot.diff(axis=1)"
   ]
  },
  {
   "cell_type": "code",
   "execution_count": 7,
   "id": "fifth-motion",
   "metadata": {
    "execution": {
     "iopub.execute_input": "2021-09-09T17:30:09.365036Z",
     "iopub.status.busy": "2021-09-09T17:30:09.362581Z",
     "iopub.status.idle": "2021-09-09T17:30:10.844072Z",
     "shell.execute_reply": "2021-09-09T17:30:10.845443Z"
    },
    "papermill": {
     "duration": 1.514034,
     "end_time": "2021-09-09T17:30:10.845883",
     "exception": false,
     "start_time": "2021-09-09T17:30:09.331849",
     "status": "completed"
    },
    "tags": []
   },
   "outputs": [
    {
     "data": {
      "text/plain": [
       "<AxesSubplot:ylabel='PRODUCT'>"
      ]
     },
     "execution_count": 7,
     "metadata": {},
     "output_type": "execute_result"
    },
    {
     "data": {
      "image/png": "[encoded data removed]",
      "text/plain": [
       "<Figure size 432x288 with 1 Axes>"
      ]
     },
     "metadata": {
      "needs_background": "light"
     },
     "output_type": "display_data"
    }
   ],
   "source": [
    "df_pivot_diff.sort_values(\"stamp_2\", ascending = False)[\"stamp_2\"].head(10).plot.barh()"
   ]
  },
  {
   "cell_type": "code",
   "execution_count": null,
   "id": "extra-executive",
   "metadata": {
    "papermill": {
     "duration": 0.021662,
     "end_time": "2021-09-09T17:30:10.890669",
     "exception": false,
     "start_time": "2021-09-09T17:30:10.869007",
     "status": "completed"
    },
    "tags": []
   },
   "outputs": [],
   "source": []
  }
 ],
 "metadata": {
  "kernelspec": {
   "display_name": "Python 3",
   "language": "python",
   "name": "python3"
  },
  "language_info": {
   "codemirror_mode": {
    "name": "ipython",
    "version": 3
   },
   "file_extension": ".py",
   "mimetype": "text/x-python",
   "name": "python",
   "nbconvert_exporter": "python",
   "pygments_lexer": "ipython3",
   "version": "3.9.5"
  },
  "papermill": {
   "default_parameters": {},
   "duration": 6.458381,
   "end_time": "2021-09-09T17:30:11.532817",
   "environment_variables": {},
   "exception": null,
   "input_path": "eBay_Overview.ipynb",
   "output_path": "eBay_Overview.ipynb",
   "parameters": {},
   "start_time": "2021-09-09T17:30:05.074436",
   "version": "2.3.3"
  }
 },
 "nbformat": 4,
 "nbformat_minor": 5
}