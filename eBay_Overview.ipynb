{
 "cells": [
  {
   "cell_type": "code",
   "execution_count": 1,
   "id": "reverse-picking",
   "metadata": {
    "execution": {
     "iopub.execute_input": "2021-11-23T01:00:08.083663Z",
     "iopub.status.busy": "2021-11-23T01:00:08.081418Z",
     "iopub.status.idle": "2021-11-23T01:00:09.013306Z",
     "shell.execute_reply": "2021-11-23T01:00:09.014828Z"
    },
    "papermill": {
     "duration": 0.983146,
     "end_time": "2021-11-23T01:00:09.015553",
     "exception": false,
     "start_time": "2021-11-23T01:00:08.032407",
     "status": "completed"
    },
    "tags": []
   },
   "outputs": [],
   "source": [
    "import pandas as pd\n",
    "import sqlite3"
   ]
  },
  {
   "cell_type": "code",
   "execution_count": 2,
   "id": "innovative-syndrome",
   "metadata": {
    "execution": {
     "iopub.execute_input": "2021-11-23T01:00:09.140482Z",
     "iopub.status.busy": "2021-11-23T01:00:09.138186Z",
     "iopub.status.idle": "2021-11-23T01:00:10.030856Z",
     "shell.execute_reply": "2021-11-23T01:00:10.032790Z"
    },
    "papermill": {
     "duration": 0.927128,
     "end_time": "2021-11-23T01:00:10.033354",
     "exception": false,
     "start_time": "2021-11-23T01:00:09.106226",
     "status": "completed"
    },
    "tags": []
   },
   "outputs": [],
   "source": [
    "timestamps = pd.read_sql(\"select distinct record_time from EBAY_TOP_BERLIN order by record_time desc limit 2\", sqlite3.connect(\"UsedObjects.db\"))"
   ]
  },
  {
   "cell_type": "code",
   "execution_count": 3,
   "id": "periodic-identification",
   "metadata": {
    "execution": {
     "iopub.execute_input": "2021-11-23T01:00:10.107612Z",
     "iopub.status.busy": "2021-11-23T01:00:10.105209Z",
     "iopub.status.idle": "2021-11-23T01:00:10.127947Z",
     "shell.execute_reply": "2021-11-23T01:00:10.129629Z"
    },
    "papermill": {
     "duration": 0.074123,
     "end_time": "2021-11-23T01:00:10.130136",
     "exception": false,
     "start_time": "2021-11-23T01:00:10.056013",
     "status": "completed"
    },
    "tags": []
   },
   "outputs": [
    {
     "data": {
      "text/html": [
       "<div>\n",
       "<style scoped>\n",
       "    .dataframe tbody tr th:only-of-type {\n",
       "        vertical-align: middle;\n",
       "    }\n",
       "\n",
       "    .dataframe tbody tr th {\n",
       "        vertical-align: top;\n",
       "    }\n",
       "\n",
       "    .dataframe thead th {\n",
       "        text-align: right;\n",
       "    }\n",
       "</style>\n",
       "<table border=\"1\" class=\"dataframe\">\n",
       "  <thead>\n",
       "    <tr style=\"text-align: right;\">\n",
       "      <th></th>\n",
       "      <th>RECORD_TIME</th>\n",
       "    </tr>\n",
       "  </thead>\n",
       "  <tbody>\n",
       "    <tr>\n",
       "      <th>0</th>\n",
       "      <td>2021-11-23 02:00</td>\n",
       "    </tr>\n",
       "    <tr>\n",
       "      <th>1</th>\n",
       "      <td>2021-11-23 01:30</td>\n",
       "    </tr>\n",
       "  </tbody>\n",
       "</table>\n",
       "</div>"
      ],
      "text/plain": [
       "        RECORD_TIME\n",
       "0  2021-11-23 02:00\n",
       "1  2021-11-23 01:30"
      ]
     },
     "execution_count": 3,
     "metadata": {},
     "output_type": "execute_result"
    }
   ],
   "source": [
    "timestamps"
   ]
  },
  {
   "cell_type": "code",
   "execution_count": 4,
   "id": "alternate-victory",
   "metadata": {
    "execution": {
     "iopub.execute_input": "2021-11-23T01:00:10.186671Z",
     "iopub.status.busy": "2021-11-23T01:00:10.184498Z",
     "iopub.status.idle": "2021-11-23T01:00:11.580176Z",
     "shell.execute_reply": "2021-11-23T01:00:11.581850Z"
    },
    "papermill": {
     "duration": 1.429289,
     "end_time": "2021-11-23T01:00:11.582350",
     "exception": false,
     "start_time": "2021-11-23T01:00:10.153061",
     "status": "completed"
    },
    "tags": []
   },
   "outputs": [],
   "source": [
    "df = pd.read_sql(\"select * from EBAY_TOP_BERLIN where record_time in (select distinct record_time from EBAY_TOP_BERLIN order by record_time desc limit 2)\", sqlite3.connect(\"UsedObjects.db\"))"
   ]
  },
  {
   "cell_type": "code",
   "execution_count": 5,
   "id": "popular-active",
   "metadata": {
    "execution": {
     "iopub.execute_input": "2021-11-23T01:00:11.650526Z",
     "iopub.status.busy": "2021-11-23T01:00:11.648098Z",
     "iopub.status.idle": "2021-11-23T01:00:11.680526Z",
     "shell.execute_reply": "2021-11-23T01:00:11.682227Z"
    },
    "papermill": {
     "duration": 0.078523,
     "end_time": "2021-11-23T01:00:11.682712",
     "exception": false,
     "start_time": "2021-11-23T01:00:11.604189",
     "status": "completed"
    },
    "tags": []
   },
   "outputs": [],
   "source": [
    "df_pivot = df.pivot_table(index=\"PRODUCT\", columns = \"RECORD_TIME\", values = \"LISTING_COUNT\")"
   ]
  },
  {
   "cell_type": "code",
   "execution_count": 6,
   "id": "union-huntington",
   "metadata": {
    "execution": {
     "iopub.execute_input": "2021-11-23T01:00:11.745268Z",
     "iopub.status.busy": "2021-11-23T01:00:11.743044Z",
     "iopub.status.idle": "2021-11-23T01:00:11.748187Z",
     "shell.execute_reply": "2021-11-23T01:00:11.750153Z"
    },
    "papermill": {
     "duration": 0.046329,
     "end_time": "2021-11-23T01:00:11.750615",
     "exception": false,
     "start_time": "2021-11-23T01:00:11.704286",
     "status": "completed"
    },
    "tags": []
   },
   "outputs": [],
   "source": [
    "df_pivot.columns = [\"stamp_1\", \"stamp_2\"]\n",
    "df_pivot_diff = df_pivot.diff(axis=1)"
   ]
  },
  {
   "cell_type": "code",
   "execution_count": 7,
   "id": "fifth-motion",
   "metadata": {
    "execution": {
     "iopub.execute_input": "2021-11-23T01:00:11.806999Z",
     "iopub.status.busy": "2021-11-23T01:00:11.804489Z",
     "iopub.status.idle": "2021-11-23T01:00:13.714309Z",
     "shell.execute_reply": "2021-11-23T01:00:13.715886Z"
    },
    "papermill": {
     "duration": 1.945935,
     "end_time": "2021-11-23T01:00:13.716430",
     "exception": false,
     "start_time": "2021-11-23T01:00:11.770495",
     "status": "completed"
    },
    "tags": []
   },
   "outputs": [
    {
     "data": {
      "text/plain": [
       "<AxesSubplot:ylabel='PRODUCT'>"
      ]
     },
     "execution_count": 7,
     "metadata": {},
     "output_type": "execute_result"
    },
    {
     "data": {
      "image/png": "[encoded data removed]",
      "text/plain": [
       "<Figure size 432x288 with 1 Axes>"
      ]
     },
     "metadata": {
      "needs_background": "light"
     },
     "output_type": "display_data"
    }
   ],
   "source": [
    "df_pivot_diff.sort_values(\"stamp_2\", ascending = False)[\"stamp_2\"].head(10).plot.barh()"
   ]
  },
  {
   "cell_type": "code",
   "execution_count": null,
   "id": "extra-executive",
   "metadata": {
    "papermill": {
     "duration": 0.035528,
     "end_time": "2021-11-23T01:00:13.788740",
     "exception": false,
     "start_time": "2021-11-23T01:00:13.753212",
     "status": "completed"
    },
    "tags": []
   },
   "outputs": [],
   "source": []
  }
 ],
 "metadata": {
  "kernelspec": {
   "display_name": "Python 3",
   "language": "python",
   "name": "python3"
  },
  "language_info": {
   "codemirror_mode": {
    "name": "ipython",
    "version": 3
   },
   "file_extension": ".py",
   "mimetype": "text/x-python",
   "name": "python",
   "nbconvert_exporter": "python",
   "pygments_lexer": "ipython3",
   "version": "3.9.5"
  },
  "papermill": {
   "default_parameters": {},
   "duration": 9.929052,
   "end_time": "2021-11-23T01:00:15.220252",
   "environment_variables": {},
   "exception": null,
   "input_path": "eBay_Overview.ipynb",
   "output_path": "eBay_Overview.ipynb",
   "parameters": {},
   "start_time": "2021-11-23T01:00:05.291200",
   "version": "2.3.3"
  }
 },
 "nbformat": 4,
 "nbformat_minor": 5
}