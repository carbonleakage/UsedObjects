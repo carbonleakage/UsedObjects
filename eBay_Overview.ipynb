{
 "cells": [
  {
   "cell_type": "code",
   "execution_count": 1,
   "id": "reverse-picking",
   "metadata": {
    "execution": {
     "iopub.execute_input": "2021-09-13T04:30:06.521423Z",
     "iopub.status.busy": "2021-09-13T04:30:06.519531Z",
     "iopub.status.idle": "2021-09-13T04:30:07.326525Z",
     "shell.execute_reply": "2021-09-13T04:30:07.327855Z"
    },
    "papermill": {
     "duration": 0.85941,
     "end_time": "2021-09-13T04:30:07.328491",
     "exception": false,
     "start_time": "2021-09-13T04:30:06.469081",
     "status": "completed"
    },
    "tags": []
   },
   "outputs": [],
   "source": [
    "import pandas as pd\n",
    "import sqlite3"
   ]
  },
  {
   "cell_type": "code",
   "execution_count": 2,
   "id": "innovative-syndrome",
   "metadata": {
    "execution": {
     "iopub.execute_input": "2021-09-13T04:30:07.380627Z",
     "iopub.status.busy": "2021-09-13T04:30:07.378366Z",
     "iopub.status.idle": "2021-09-13T04:30:07.652377Z",
     "shell.execute_reply": "2021-09-13T04:30:07.653565Z"
    },
    "papermill": {
     "duration": 0.303596,
     "end_time": "2021-09-13T04:30:07.653961",
     "exception": false,
     "start_time": "2021-09-13T04:30:07.350365",
     "status": "completed"
    },
    "tags": []
   },
   "outputs": [],
   "source": [
    "timestamps = pd.read_sql(\"select distinct record_time from EBAY_TOP_BERLIN order by record_time desc limit 2\", sqlite3.connect(\"UsedObjects.db\"))"
   ]
  },
  {
   "cell_type": "code",
   "execution_count": 3,
   "id": "periodic-identification",
   "metadata": {
    "execution": {
     "iopub.execute_input": "2021-09-13T04:30:07.722551Z",
     "iopub.status.busy": "2021-09-13T04:30:07.717547Z",
     "iopub.status.idle": "2021-09-13T04:30:07.737635Z",
     "shell.execute_reply": "2021-09-13T04:30:07.739056Z"
    },
    "papermill": {
     "duration": 0.065742,
     "end_time": "2021-09-13T04:30:07.739504",
     "exception": false,
     "start_time": "2021-09-13T04:30:07.673762",
     "status": "completed"
    },
    "tags": []
   },
   "outputs": [
    {
     "data": {
      "text/html": [
       "<div>\n",
       "<style scoped>\n",
       "    .dataframe tbody tr th:only-of-type {\n",
       "        vertical-align: middle;\n",
       "    }\n",
       "\n",
       "    .dataframe tbody tr th {\n",
       "        vertical-align: top;\n",
       "    }\n",
       "\n",
       "    .dataframe thead th {\n",
       "        text-align: right;\n",
       "    }\n",
       "</style>\n",
       "<table border=\"1\" class=\"dataframe\">\n",
       "  <thead>\n",
       "    <tr style=\"text-align: right;\">\n",
       "      <th></th>\n",
       "      <th>RECORD_TIME</th>\n",
       "    </tr>\n",
       "  </thead>\n",
       "  <tbody>\n",
       "    <tr>\n",
       "      <th>0</th>\n",
       "      <td>2021-09-13 06:30</td>\n",
       "    </tr>\n",
       "    <tr>\n",
       "      <th>1</th>\n",
       "      <td>2021-09-13 06:00</td>\n",
       "    </tr>\n",
       "  </tbody>\n",
       "</table>\n",
       "</div>"
      ],
      "text/plain": [
       "        RECORD_TIME\n",
       "0  2021-09-13 06:30\n",
       "1  2021-09-13 06:00"
      ]
     },
     "execution_count": 3,
     "metadata": {},
     "output_type": "execute_result"
    }
   ],
   "source": [
    "timestamps"
   ]
  },
  {
   "cell_type": "code",
   "execution_count": 4,
   "id": "alternate-victory",
   "metadata": {
    "execution": {
     "iopub.execute_input": "2021-09-13T04:30:07.791499Z",
     "iopub.status.busy": "2021-09-13T04:30:07.789558Z",
     "iopub.status.idle": "2021-09-13T04:30:08.200805Z",
     "shell.execute_reply": "2021-09-13T04:30:08.202071Z"
    },
    "papermill": {
     "duration": 0.441428,
     "end_time": "2021-09-13T04:30:08.202490",
     "exception": false,
     "start_time": "2021-09-13T04:30:07.761062",
     "status": "completed"
    },
    "tags": []
   },
   "outputs": [],
   "source": [
    "df = pd.read_sql(\"select * from EBAY_TOP_BERLIN where record_time in (select distinct record_time from EBAY_TOP_BERLIN order by record_time desc limit 2)\", sqlite3.connect(\"UsedObjects.db\"))"
   ]
  },
  {
   "cell_type": "code",
   "execution_count": 5,
   "id": "popular-active",
   "metadata": {
    "execution": {
     "iopub.execute_input": "2021-09-13T04:30:08.282620Z",
     "iopub.status.busy": "2021-09-13T04:30:08.270448Z",
     "iopub.status.idle": "2021-09-13T04:30:08.298025Z",
     "shell.execute_reply": "2021-09-13T04:30:08.299300Z"
    },
    "papermill": {
     "duration": 0.071478,
     "end_time": "2021-09-13T04:30:08.299709",
     "exception": false,
     "start_time": "2021-09-13T04:30:08.228231",
     "status": "completed"
    },
    "tags": []
   },
   "outputs": [],
   "source": [
    "df_pivot = df.pivot_table(index=\"PRODUCT\", columns = \"RECORD_TIME\", values = \"LISTING_COUNT\")"
   ]
  },
  {
   "cell_type": "code",
   "execution_count": 6,
   "id": "union-huntington",
   "metadata": {
    "execution": {
     "iopub.execute_input": "2021-09-13T04:30:08.356388Z",
     "iopub.status.busy": "2021-09-13T04:30:08.354194Z",
     "iopub.status.idle": "2021-09-13T04:30:08.359702Z",
     "shell.execute_reply": "2021-09-13T04:30:08.361065Z"
    },
    "papermill": {
     "duration": 0.040968,
     "end_time": "2021-09-13T04:30:08.361504",
     "exception": false,
     "start_time": "2021-09-13T04:30:08.320536",
     "status": "completed"
    },
    "tags": []
   },
   "outputs": [],
   "source": [
    "df_pivot.columns = [\"stamp_1\", \"stamp_2\"]\n",
    "df_pivot_diff = df_pivot.diff(axis=1)"
   ]
  },
  {
   "cell_type": "code",
   "execution_count": 7,
   "id": "fifth-motion",
   "metadata": {
    "execution": {
     "iopub.execute_input": "2021-09-13T04:30:08.419126Z",
     "iopub.status.busy": "2021-09-13T04:30:08.416309Z",
     "iopub.status.idle": "2021-09-13T04:30:09.900373Z",
     "shell.execute_reply": "2021-09-13T04:30:09.901625Z"
    },
    "papermill": {
     "duration": 1.517978,
     "end_time": "2021-09-13T04:30:09.902043",
     "exception": false,
     "start_time": "2021-09-13T04:30:08.384065",
     "status": "completed"
    },
    "tags": []
   },
   "outputs": [
    {
     "data": {
      "text/plain": [
       "<AxesSubplot:ylabel='PRODUCT'>"
      ]
     },
     "execution_count": 7,
     "metadata": {},
     "output_type": "execute_result"
    },
    {
     "data": {
      "image/png": "[encoded data removed]",
      "text/plain": [
       "<Figure size 432x288 with 1 Axes>"
      ]
     },
     "metadata": {
      "needs_background": "light"
     },
     "output_type": "display_data"
    }
   ],
   "source": [
    "df_pivot_diff.sort_values(\"stamp_2\", ascending = False)[\"stamp_2\"].head(10).plot.barh()"
   ]
  },
  {
   "cell_type": "code",
   "execution_count": null,
   "id": "extra-executive",
   "metadata": {
    "papermill": {
     "duration": 0.022645,
     "end_time": "2021-09-13T04:30:09.948999",
     "exception": false,
     "start_time": "2021-09-13T04:30:09.926354",
     "status": "completed"
    },
    "tags": []
   },
   "outputs": [],
   "source": []
  }
 ],
 "metadata": {
  "kernelspec": {
   "display_name": "Python 3",
   "language": "python",
   "name": "python3"
  },
  "language_info": {
   "codemirror_mode": {
    "name": "ipython",
    "version": 3
   },
   "file_extension": ".py",
   "mimetype": "text/x-python",
   "name": "python",
   "nbconvert_exporter": "python",
   "pygments_lexer": "ipython3",
   "version": "3.9.5"
  },
  "papermill": {
   "default_parameters": {},
   "duration": 6.535762,
   "end_time": "2021-09-13T04:30:10.592622",
   "environment_variables": {},
   "exception": null,
   "input_path": "eBay_Overview.ipynb",
   "output_path": "eBay_Overview.ipynb",
   "parameters": {},
   "start_time": "2021-09-13T04:30:04.056860",
   "version": "2.3.3"
  }
 },
 "nbformat": 4,
 "nbformat_minor": 5
}