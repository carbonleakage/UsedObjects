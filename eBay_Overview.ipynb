{
 "cells": [
  {
   "cell_type": "code",
   "execution_count": 1,
   "id": "reverse-picking",
   "metadata": {
    "execution": {
     "iopub.execute_input": "2021-10-06T14:30:07.484452Z",
     "iopub.status.busy": "2021-10-06T14:30:07.482432Z",
     "iopub.status.idle": "2021-10-06T14:30:08.288558Z",
     "shell.execute_reply": "2021-10-06T14:30:08.289813Z"
    },
    "papermill": {
     "duration": 0.858486,
     "end_time": "2021-10-06T14:30:08.290434",
     "exception": false,
     "start_time": "2021-10-06T14:30:07.431948",
     "status": "completed"
    },
    "tags": []
   },
   "outputs": [],
   "source": [
    "import pandas as pd\n",
    "import sqlite3"
   ]
  },
  {
   "cell_type": "code",
   "execution_count": 2,
   "id": "innovative-syndrome",
   "metadata": {
    "execution": {
     "iopub.execute_input": "2021-10-06T14:30:08.341448Z",
     "iopub.status.busy": "2021-10-06T14:30:08.339579Z",
     "iopub.status.idle": "2021-10-06T14:30:08.801335Z",
     "shell.execute_reply": "2021-10-06T14:30:08.802608Z"
    },
    "papermill": {
     "duration": 0.491267,
     "end_time": "2021-10-06T14:30:08.803096",
     "exception": false,
     "start_time": "2021-10-06T14:30:08.311829",
     "status": "completed"
    },
    "tags": []
   },
   "outputs": [],
   "source": [
    "timestamps = pd.read_sql(\"select distinct record_time from EBAY_TOP_BERLIN order by record_time desc limit 2\", sqlite3.connect(\"UsedObjects.db\"))"
   ]
  },
  {
   "cell_type": "code",
   "execution_count": 3,
   "id": "periodic-identification",
   "metadata": {
    "execution": {
     "iopub.execute_input": "2021-10-06T14:30:08.869970Z",
     "iopub.status.busy": "2021-10-06T14:30:08.867948Z",
     "iopub.status.idle": "2021-10-06T14:30:08.887847Z",
     "shell.execute_reply": "2021-10-06T14:30:08.889206Z"
    },
    "papermill": {
     "duration": 0.066965,
     "end_time": "2021-10-06T14:30:08.889635",
     "exception": false,
     "start_time": "2021-10-06T14:30:08.822670",
     "status": "completed"
    },
    "tags": []
   },
   "outputs": [
    {
     "data": {
      "text/html": [
       "<div>\n",
       "<style scoped>\n",
       "    .dataframe tbody tr th:only-of-type {\n",
       "        vertical-align: middle;\n",
       "    }\n",
       "\n",
       "    .dataframe tbody tr th {\n",
       "        vertical-align: top;\n",
       "    }\n",
       "\n",
       "    .dataframe thead th {\n",
       "        text-align: right;\n",
       "    }\n",
       "</style>\n",
       "<table border=\"1\" class=\"dataframe\">\n",
       "  <thead>\n",
       "    <tr style=\"text-align: right;\">\n",
       "      <th></th>\n",
       "      <th>RECORD_TIME</th>\n",
       "    </tr>\n",
       "  </thead>\n",
       "  <tbody>\n",
       "    <tr>\n",
       "      <th>0</th>\n",
       "      <td>2021-10-06 16:30</td>\n",
       "    </tr>\n",
       "    <tr>\n",
       "      <th>1</th>\n",
       "      <td>2021-10-06 16:00</td>\n",
       "    </tr>\n",
       "  </tbody>\n",
       "</table>\n",
       "</div>"
      ],
      "text/plain": [
       "        RECORD_TIME\n",
       "0  2021-10-06 16:30\n",
       "1  2021-10-06 16:00"
      ]
     },
     "execution_count": 3,
     "metadata": {},
     "output_type": "execute_result"
    }
   ],
   "source": [
    "timestamps"
   ]
  },
  {
   "cell_type": "code",
   "execution_count": 4,
   "id": "alternate-victory",
   "metadata": {
    "execution": {
     "iopub.execute_input": "2021-10-06T14:30:08.949260Z",
     "iopub.status.busy": "2021-10-06T14:30:08.947296Z",
     "iopub.status.idle": "2021-10-06T14:30:09.630385Z",
     "shell.execute_reply": "2021-10-06T14:30:09.632441Z"
    },
    "papermill": {
     "duration": 0.717431,
     "end_time": "2021-10-06T14:30:09.632998",
     "exception": false,
     "start_time": "2021-10-06T14:30:08.915567",
     "status": "completed"
    },
    "tags": []
   },
   "outputs": [],
   "source": [
    "df = pd.read_sql(\"select * from EBAY_TOP_BERLIN where record_time in (select distinct record_time from EBAY_TOP_BERLIN order by record_time desc limit 2)\", sqlite3.connect(\"UsedObjects.db\"))"
   ]
  },
  {
   "cell_type": "code",
   "execution_count": 5,
   "id": "popular-active",
   "metadata": {
    "execution": {
     "iopub.execute_input": "2021-10-06T14:30:09.703712Z",
     "iopub.status.busy": "2021-10-06T14:30:09.691982Z",
     "iopub.status.idle": "2021-10-06T14:30:09.719943Z",
     "shell.execute_reply": "2021-10-06T14:30:09.721173Z"
    },
    "papermill": {
     "duration": 0.068441,
     "end_time": "2021-10-06T14:30:09.721578",
     "exception": false,
     "start_time": "2021-10-06T14:30:09.653137",
     "status": "completed"
    },
    "tags": []
   },
   "outputs": [],
   "source": [
    "df_pivot = df.pivot_table(index=\"PRODUCT\", columns = \"RECORD_TIME\", values = \"LISTING_COUNT\")"
   ]
  },
  {
   "cell_type": "code",
   "execution_count": 6,
   "id": "union-huntington",
   "metadata": {
    "execution": {
     "iopub.execute_input": "2021-10-06T14:30:09.781431Z",
     "iopub.status.busy": "2021-10-06T14:30:09.778992Z",
     "iopub.status.idle": "2021-10-06T14:30:09.785123Z",
     "shell.execute_reply": "2021-10-06T14:30:09.786592Z"
    },
    "papermill": {
     "duration": 0.042494,
     "end_time": "2021-10-06T14:30:09.787118",
     "exception": false,
     "start_time": "2021-10-06T14:30:09.744624",
     "status": "completed"
    },
    "tags": []
   },
   "outputs": [],
   "source": [
    "df_pivot.columns = [\"stamp_1\", \"stamp_2\"]\n",
    "df_pivot_diff = df_pivot.diff(axis=1)"
   ]
  },
  {
   "cell_type": "code",
   "execution_count": 7,
   "id": "fifth-motion",
   "metadata": {
    "execution": {
     "iopub.execute_input": "2021-10-06T14:30:09.842401Z",
     "iopub.status.busy": "2021-10-06T14:30:09.839951Z",
     "iopub.status.idle": "2021-10-06T14:30:11.298762Z",
     "shell.execute_reply": "2021-10-06T14:30:11.301051Z"
    },
    "papermill": {
     "duration": 1.492417,
     "end_time": "2021-10-06T14:30:11.301538",
     "exception": false,
     "start_time": "2021-10-06T14:30:09.809121",
     "status": "completed"
    },
    "tags": []
   },
   "outputs": [
    {
     "data": {
      "text/plain": [
       "<AxesSubplot:ylabel='PRODUCT'>"
      ]
     },
     "execution_count": 7,
     "metadata": {},
     "output_type": "execute_result"
    },
    {
     "data": {
      "image/png": "[encoded data removed]",
      "text/plain": [
       "<Figure size 432x288 with 1 Axes>"
      ]
     },
     "metadata": {
      "needs_background": "light"
     },
     "output_type": "display_data"
    }
   ],
   "source": [
    "df_pivot_diff.sort_values(\"stamp_2\", ascending = False)[\"stamp_2\"].head(10).plot.barh()"
   ]
  },
  {
   "cell_type": "code",
   "execution_count": null,
   "id": "extra-executive",
   "metadata": {
    "papermill": {
     "duration": 0.021945,
     "end_time": "2021-10-06T14:30:11.347150",
     "exception": false,
     "start_time": "2021-10-06T14:30:11.325205",
     "status": "completed"
    },
    "tags": []
   },
   "outputs": [],
   "source": []
  }
 ],
 "metadata": {
  "kernelspec": {
   "display_name": "Python 3",
   "language": "python",
   "name": "python3"
  },
  "language_info": {
   "codemirror_mode": {
    "name": "ipython",
    "version": 3
   },
   "file_extension": ".py",
   "mimetype": "text/x-python",
   "name": "python",
   "nbconvert_exporter": "python",
   "pygments_lexer": "ipython3",
   "version": "3.9.5"
  },
  "papermill": {
   "default_parameters": {},
   "duration": 7.820103,
   "end_time": "2021-10-06T14:30:12.851952",
   "environment_variables": {},
   "exception": null,
   "input_path": "eBay_Overview.ipynb",
   "output_path": "eBay_Overview.ipynb",
   "parameters": {},
   "start_time": "2021-10-06T14:30:05.031849",
   "version": "2.3.3"
  }
 },
 "nbformat": 4,
 "nbformat_minor": 5
}