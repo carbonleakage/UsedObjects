{
 "cells": [
  {
   "cell_type": "code",
   "execution_count": 1,
   "id": "reverse-picking",
   "metadata": {
    "execution": {
     "iopub.execute_input": "2021-10-08T01:00:06.641079Z",
     "iopub.status.busy": "2021-10-08T01:00:06.639100Z",
     "iopub.status.idle": "2021-10-08T01:00:07.455488Z",
     "shell.execute_reply": "2021-10-08T01:00:07.453757Z"
    },
    "papermill": {
     "duration": 0.868888,
     "end_time": "2021-10-08T01:00:07.455918",
     "exception": false,
     "start_time": "2021-10-08T01:00:06.587030",
     "status": "completed"
    },
    "tags": []
   },
   "outputs": [],
   "source": [
    "import pandas as pd\n",
    "import sqlite3"
   ]
  },
  {
   "cell_type": "code",
   "execution_count": 2,
   "id": "innovative-syndrome",
   "metadata": {
    "execution": {
     "iopub.execute_input": "2021-10-08T01:00:07.507500Z",
     "iopub.status.busy": "2021-10-08T01:00:07.505344Z",
     "iopub.status.idle": "2021-10-08T01:00:07.979464Z",
     "shell.execute_reply": "2021-10-08T01:00:07.980687Z"
    },
    "papermill": {
     "duration": 0.504257,
     "end_time": "2021-10-08T01:00:07.981086",
     "exception": false,
     "start_time": "2021-10-08T01:00:07.476829",
     "status": "completed"
    },
    "tags": []
   },
   "outputs": [],
   "source": [
    "timestamps = pd.read_sql(\"select distinct record_time from EBAY_TOP_BERLIN order by record_time desc limit 2\", sqlite3.connect(\"UsedObjects.db\"))"
   ]
  },
  {
   "cell_type": "code",
   "execution_count": 3,
   "id": "periodic-identification",
   "metadata": {
    "execution": {
     "iopub.execute_input": "2021-10-08T01:00:08.046007Z",
     "iopub.status.busy": "2021-10-08T01:00:08.043966Z",
     "iopub.status.idle": "2021-10-08T01:00:08.064622Z",
     "shell.execute_reply": "2021-10-08T01:00:08.065918Z"
    },
    "papermill": {
     "duration": 0.063972,
     "end_time": "2021-10-08T01:00:08.066335",
     "exception": false,
     "start_time": "2021-10-08T01:00:08.002363",
     "status": "completed"
    },
    "tags": []
   },
   "outputs": [
    {
     "data": {
      "text/html": [
       "<div>\n",
       "<style scoped>\n",
       "    .dataframe tbody tr th:only-of-type {\n",
       "        vertical-align: middle;\n",
       "    }\n",
       "\n",
       "    .dataframe tbody tr th {\n",
       "        vertical-align: top;\n",
       "    }\n",
       "\n",
       "    .dataframe thead th {\n",
       "        text-align: right;\n",
       "    }\n",
       "</style>\n",
       "<table border=\"1\" class=\"dataframe\">\n",
       "  <thead>\n",
       "    <tr style=\"text-align: right;\">\n",
       "      <th></th>\n",
       "      <th>RECORD_TIME</th>\n",
       "    </tr>\n",
       "  </thead>\n",
       "  <tbody>\n",
       "    <tr>\n",
       "      <th>0</th>\n",
       "      <td>2021-10-08 03:00</td>\n",
       "    </tr>\n",
       "    <tr>\n",
       "      <th>1</th>\n",
       "      <td>2021-10-08 02:30</td>\n",
       "    </tr>\n",
       "  </tbody>\n",
       "</table>\n",
       "</div>"
      ],
      "text/plain": [
       "        RECORD_TIME\n",
       "0  2021-10-08 03:00\n",
       "1  2021-10-08 02:30"
      ]
     },
     "execution_count": 3,
     "metadata": {},
     "output_type": "execute_result"
    }
   ],
   "source": [
    "timestamps"
   ]
  },
  {
   "cell_type": "code",
   "execution_count": 4,
   "id": "alternate-victory",
   "metadata": {
    "execution": {
     "iopub.execute_input": "2021-10-08T01:00:08.134467Z",
     "iopub.status.busy": "2021-10-08T01:00:08.132154Z",
     "iopub.status.idle": "2021-10-08T01:00:08.827443Z",
     "shell.execute_reply": "2021-10-08T01:00:08.828686Z"
    },
    "papermill": {
     "duration": 0.73082,
     "end_time": "2021-10-08T01:00:08.829085",
     "exception": false,
     "start_time": "2021-10-08T01:00:08.098265",
     "status": "completed"
    },
    "tags": []
   },
   "outputs": [],
   "source": [
    "df = pd.read_sql(\"select * from EBAY_TOP_BERLIN where record_time in (select distinct record_time from EBAY_TOP_BERLIN order by record_time desc limit 2)\", sqlite3.connect(\"UsedObjects.db\"))"
   ]
  },
  {
   "cell_type": "code",
   "execution_count": 5,
   "id": "popular-active",
   "metadata": {
    "execution": {
     "iopub.execute_input": "2021-10-08T01:00:08.899366Z",
     "iopub.status.busy": "2021-10-08T01:00:08.887743Z",
     "iopub.status.idle": "2021-10-08T01:00:08.916288Z",
     "shell.execute_reply": "2021-10-08T01:00:08.917590Z"
    },
    "papermill": {
     "duration": 0.06742,
     "end_time": "2021-10-08T01:00:08.918006",
     "exception": false,
     "start_time": "2021-10-08T01:00:08.850586",
     "status": "completed"
    },
    "tags": []
   },
   "outputs": [],
   "source": [
    "df_pivot = df.pivot_table(index=\"PRODUCT\", columns = \"RECORD_TIME\", values = \"LISTING_COUNT\")"
   ]
  },
  {
   "cell_type": "code",
   "execution_count": 6,
   "id": "union-huntington",
   "metadata": {
    "execution": {
     "iopub.execute_input": "2021-10-08T01:00:08.975236Z",
     "iopub.status.busy": "2021-10-08T01:00:08.972746Z",
     "iopub.status.idle": "2021-10-08T01:00:08.978711Z",
     "shell.execute_reply": "2021-10-08T01:00:08.980151Z"
    },
    "papermill": {
     "duration": 0.042697,
     "end_time": "2021-10-08T01:00:08.980595",
     "exception": false,
     "start_time": "2021-10-08T01:00:08.937898",
     "status": "completed"
    },
    "tags": []
   },
   "outputs": [],
   "source": [
    "df_pivot.columns = [\"stamp_1\", \"stamp_2\"]\n",
    "df_pivot_diff = df_pivot.diff(axis=1)"
   ]
  },
  {
   "cell_type": "code",
   "execution_count": 7,
   "id": "fifth-motion",
   "metadata": {
    "execution": {
     "iopub.execute_input": "2021-10-08T01:00:09.035373Z",
     "iopub.status.busy": "2021-10-08T01:00:09.032986Z",
     "iopub.status.idle": "2021-10-08T01:00:10.544711Z",
     "shell.execute_reply": "2021-10-08T01:00:10.545920Z"
    },
    "papermill": {
     "duration": 1.544236,
     "end_time": "2021-10-08T01:00:10.546348",
     "exception": false,
     "start_time": "2021-10-08T01:00:09.002112",
     "status": "completed"
    },
    "tags": []
   },
   "outputs": [
    {
     "data": {
      "text/plain": [
       "<AxesSubplot:ylabel='PRODUCT'>"
      ]
     },
     "execution_count": 7,
     "metadata": {},
     "output_type": "execute_result"
    },
    {
     "data": {
      "image/png": "[encoded data removed]",
      "text/plain": [
       "<Figure size 432x288 with 1 Axes>"
      ]
     },
     "metadata": {
      "needs_background": "light"
     },
     "output_type": "display_data"
    }
   ],
   "source": [
    "df_pivot_diff.sort_values(\"stamp_2\", ascending = False)[\"stamp_2\"].head(10).plot.barh()"
   ]
  },
  {
   "cell_type": "code",
   "execution_count": null,
   "id": "extra-executive",
   "metadata": {
    "papermill": {
     "duration": 0.022325,
     "end_time": "2021-10-08T01:00:10.592625",
     "exception": false,
     "start_time": "2021-10-08T01:00:10.570300",
     "status": "completed"
    },
    "tags": []
   },
   "outputs": [],
   "source": []
  }
 ],
 "metadata": {
  "kernelspec": {
   "display_name": "Python 3",
   "language": "python",
   "name": "python3"
  },
  "language_info": {
   "codemirror_mode": {
    "name": "ipython",
    "version": 3
   },
   "file_extension": ".py",
   "mimetype": "text/x-python",
   "name": "python",
   "nbconvert_exporter": "python",
   "pygments_lexer": "ipython3",
   "version": "3.9.5"
  },
  "papermill": {
   "default_parameters": {},
   "duration": 7.841323,
   "end_time": "2021-10-08T01:00:12.005439",
   "environment_variables": {},
   "exception": null,
   "input_path": "eBay_Overview.ipynb",
   "output_path": "eBay_Overview.ipynb",
   "parameters": {},
   "start_time": "2021-10-08T01:00:04.164116",
   "version": "2.3.3"
  }
 },
 "nbformat": 4,
 "nbformat_minor": 5
}