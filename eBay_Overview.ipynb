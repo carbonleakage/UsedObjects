{
 "cells": [
  {
   "cell_type": "code",
   "execution_count": 1,
   "id": "reverse-picking",
   "metadata": {
    "execution": {
     "iopub.execute_input": "2021-10-20T11:00:07.355120Z",
     "iopub.status.busy": "2021-10-20T11:00:07.353149Z",
     "iopub.status.idle": "2021-10-20T11:00:08.164428Z",
     "shell.execute_reply": "2021-10-20T11:00:08.162648Z"
    },
    "papermill": {
     "duration": 0.862476,
     "end_time": "2021-10-20T11:00:08.164965",
     "exception": false,
     "start_time": "2021-10-20T11:00:07.302489",
     "status": "completed"
    },
    "tags": []
   },
   "outputs": [],
   "source": [
    "import pandas as pd\n",
    "import sqlite3"
   ]
  },
  {
   "cell_type": "code",
   "execution_count": 2,
   "id": "innovative-syndrome",
   "metadata": {
    "execution": {
     "iopub.execute_input": "2021-10-20T11:00:08.214619Z",
     "iopub.status.busy": "2021-10-20T11:00:08.212286Z",
     "iopub.status.idle": "2021-10-20T11:00:08.788447Z",
     "shell.execute_reply": "2021-10-20T11:00:08.789840Z"
    },
    "papermill": {
     "duration": 0.606201,
     "end_time": "2021-10-20T11:00:08.790306",
     "exception": false,
     "start_time": "2021-10-20T11:00:08.184105",
     "status": "completed"
    },
    "tags": []
   },
   "outputs": [],
   "source": [
    "timestamps = pd.read_sql(\"select distinct record_time from EBAY_TOP_BERLIN order by record_time desc limit 2\", sqlite3.connect(\"UsedObjects.db\"))"
   ]
  },
  {
   "cell_type": "code",
   "execution_count": 3,
   "id": "periodic-identification",
   "metadata": {
    "execution": {
     "iopub.execute_input": "2021-10-20T11:00:08.864290Z",
     "iopub.status.busy": "2021-10-20T11:00:08.862253Z",
     "iopub.status.idle": "2021-10-20T11:00:08.881908Z",
     "shell.execute_reply": "2021-10-20T11:00:08.883053Z"
    },
    "papermill": {
     "duration": 0.067451,
     "end_time": "2021-10-20T11:00:08.883467",
     "exception": false,
     "start_time": "2021-10-20T11:00:08.816016",
     "status": "completed"
    },
    "tags": []
   },
   "outputs": [
    {
     "data": {
      "text/html": [
       "<div>\n",
       "<style scoped>\n",
       "    .dataframe tbody tr th:only-of-type {\n",
       "        vertical-align: middle;\n",
       "    }\n",
       "\n",
       "    .dataframe tbody tr th {\n",
       "        vertical-align: top;\n",
       "    }\n",
       "\n",
       "    .dataframe thead th {\n",
       "        text-align: right;\n",
       "    }\n",
       "</style>\n",
       "<table border=\"1\" class=\"dataframe\">\n",
       "  <thead>\n",
       "    <tr style=\"text-align: right;\">\n",
       "      <th></th>\n",
       "      <th>RECORD_TIME</th>\n",
       "    </tr>\n",
       "  </thead>\n",
       "  <tbody>\n",
       "    <tr>\n",
       "      <th>0</th>\n",
       "      <td>2021-10-20 13:00</td>\n",
       "    </tr>\n",
       "    <tr>\n",
       "      <th>1</th>\n",
       "      <td>2021-10-20 12:30</td>\n",
       "    </tr>\n",
       "  </tbody>\n",
       "</table>\n",
       "</div>"
      ],
      "text/plain": [
       "        RECORD_TIME\n",
       "0  2021-10-20 13:00\n",
       "1  2021-10-20 12:30"
      ]
     },
     "execution_count": 3,
     "metadata": {},
     "output_type": "execute_result"
    }
   ],
   "source": [
    "timestamps"
   ]
  },
  {
   "cell_type": "code",
   "execution_count": 4,
   "id": "alternate-victory",
   "metadata": {
    "execution": {
     "iopub.execute_input": "2021-10-20T11:00:08.936674Z",
     "iopub.status.busy": "2021-10-20T11:00:08.934406Z",
     "iopub.status.idle": "2021-10-20T11:00:09.794940Z",
     "shell.execute_reply": "2021-10-20T11:00:09.796168Z"
    },
    "papermill": {
     "duration": 0.891182,
     "end_time": "2021-10-20T11:00:09.796565",
     "exception": false,
     "start_time": "2021-10-20T11:00:08.905383",
     "status": "completed"
    },
    "tags": []
   },
   "outputs": [],
   "source": [
    "df = pd.read_sql(\"select * from EBAY_TOP_BERLIN where record_time in (select distinct record_time from EBAY_TOP_BERLIN order by record_time desc limit 2)\", sqlite3.connect(\"UsedObjects.db\"))"
   ]
  },
  {
   "cell_type": "code",
   "execution_count": 5,
   "id": "popular-active",
   "metadata": {
    "execution": {
     "iopub.execute_input": "2021-10-20T11:00:09.868947Z",
     "iopub.status.busy": "2021-10-20T11:00:09.857513Z",
     "iopub.status.idle": "2021-10-20T11:00:09.884415Z",
     "shell.execute_reply": "2021-10-20T11:00:09.885712Z"
    },
    "papermill": {
     "duration": 0.068209,
     "end_time": "2021-10-20T11:00:09.886120",
     "exception": false,
     "start_time": "2021-10-20T11:00:09.817911",
     "status": "completed"
    },
    "tags": []
   },
   "outputs": [],
   "source": [
    "df_pivot = df.pivot_table(index=\"PRODUCT\", columns = \"RECORD_TIME\", values = \"LISTING_COUNT\")"
   ]
  },
  {
   "cell_type": "code",
   "execution_count": 6,
   "id": "union-huntington",
   "metadata": {
    "execution": {
     "iopub.execute_input": "2021-10-20T11:00:09.944198Z",
     "iopub.status.busy": "2021-10-20T11:00:09.941909Z",
     "iopub.status.idle": "2021-10-20T11:00:09.947852Z",
     "shell.execute_reply": "2021-10-20T11:00:09.949208Z"
    },
    "papermill": {
     "duration": 0.041873,
     "end_time": "2021-10-20T11:00:09.949632",
     "exception": false,
     "start_time": "2021-10-20T11:00:09.907759",
     "status": "completed"
    },
    "tags": []
   },
   "outputs": [],
   "source": [
    "df_pivot.columns = [\"stamp_1\", \"stamp_2\"]\n",
    "df_pivot_diff = df_pivot.diff(axis=1)"
   ]
  },
  {
   "cell_type": "code",
   "execution_count": 7,
   "id": "fifth-motion",
   "metadata": {
    "execution": {
     "iopub.execute_input": "2021-10-20T11:00:10.003698Z",
     "iopub.status.busy": "2021-10-20T11:00:10.001356Z",
     "iopub.status.idle": "2021-10-20T11:00:11.485410Z",
     "shell.execute_reply": "2021-10-20T11:00:11.486783Z"
    },
    "papermill": {
     "duration": 1.517461,
     "end_time": "2021-10-20T11:00:11.487207",
     "exception": false,
     "start_time": "2021-10-20T11:00:09.969746",
     "status": "completed"
    },
    "tags": []
   },
   "outputs": [
    {
     "data": {
      "text/plain": [
       "<AxesSubplot:ylabel='PRODUCT'>"
      ]
     },
     "execution_count": 7,
     "metadata": {},
     "output_type": "execute_result"
    },
    {
     "data": {
      "image/png": "[encoded data removed]",
      "text/plain": [
       "<Figure size 432x288 with 1 Axes>"
      ]
     },
     "metadata": {
      "needs_background": "light"
     },
     "output_type": "display_data"
    }
   ],
   "source": [
    "df_pivot_diff.sort_values(\"stamp_2\", ascending = False)[\"stamp_2\"].head(10).plot.barh()"
   ]
  },
  {
   "cell_type": "code",
   "execution_count": null,
   "id": "extra-executive",
   "metadata": {
    "papermill": {
     "duration": 0.022207,
     "end_time": "2021-10-20T11:00:11.534119",
     "exception": false,
     "start_time": "2021-10-20T11:00:11.511912",
     "status": "completed"
    },
    "tags": []
   },
   "outputs": [],
   "source": []
  }
 ],
 "metadata": {
  "kernelspec": {
   "display_name": "Python 3",
   "language": "python",
   "name": "python3"
  },
  "language_info": {
   "codemirror_mode": {
    "name": "ipython",
    "version": 3
   },
   "file_extension": ".py",
   "mimetype": "text/x-python",
   "name": "python",
   "nbconvert_exporter": "python",
   "pygments_lexer": "ipython3",
   "version": "3.9.5"
  },
  "papermill": {
   "default_parameters": {},
   "duration": 7.832954,
   "end_time": "2021-10-20T11:00:12.710751",
   "environment_variables": {},
   "exception": null,
   "input_path": "eBay_Overview.ipynb",
   "output_path": "eBay_Overview.ipynb",
   "parameters": {},
   "start_time": "2021-10-20T11:00:04.877797",
   "version": "2.3.3"
  }
 },
 "nbformat": 4,
 "nbformat_minor": 5
}