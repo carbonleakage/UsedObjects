{
 "cells": [
  {
   "cell_type": "code",
   "execution_count": 1,
   "id": "reverse-picking",
   "metadata": {
    "execution": {
     "iopub.execute_input": "2021-10-12T08:30:06.919684Z",
     "iopub.status.busy": "2021-10-12T08:30:06.917754Z",
     "iopub.status.idle": "2021-10-12T08:30:07.720056Z",
     "shell.execute_reply": "2021-10-12T08:30:07.721451Z"
    },
    "papermill": {
     "duration": 0.853224,
     "end_time": "2021-10-12T08:30:07.722145",
     "exception": false,
     "start_time": "2021-10-12T08:30:06.868921",
     "status": "completed"
    },
    "tags": []
   },
   "outputs": [],
   "source": [
    "import pandas as pd\n",
    "import sqlite3"
   ]
  },
  {
   "cell_type": "code",
   "execution_count": 2,
   "id": "innovative-syndrome",
   "metadata": {
    "execution": {
     "iopub.execute_input": "2021-10-12T08:30:07.772778Z",
     "iopub.status.busy": "2021-10-12T08:30:07.770584Z",
     "iopub.status.idle": "2021-10-12T08:30:08.307843Z",
     "shell.execute_reply": "2021-10-12T08:30:08.309095Z"
    },
    "papermill": {
     "duration": 0.567243,
     "end_time": "2021-10-12T08:30:08.309550",
     "exception": false,
     "start_time": "2021-10-12T08:30:07.742307",
     "status": "completed"
    },
    "tags": []
   },
   "outputs": [],
   "source": [
    "timestamps = pd.read_sql(\"select distinct record_time from EBAY_TOP_BERLIN order by record_time desc limit 2\", sqlite3.connect(\"UsedObjects.db\"))"
   ]
  },
  {
   "cell_type": "code",
   "execution_count": 3,
   "id": "periodic-identification",
   "metadata": {
    "execution": {
     "iopub.execute_input": "2021-10-12T08:30:08.375180Z",
     "iopub.status.busy": "2021-10-12T08:30:08.373159Z",
     "iopub.status.idle": "2021-10-12T08:30:08.392675Z",
     "shell.execute_reply": "2021-10-12T08:30:08.394050Z"
    },
    "papermill": {
     "duration": 0.063719,
     "end_time": "2021-10-12T08:30:08.394456",
     "exception": false,
     "start_time": "2021-10-12T08:30:08.330737",
     "status": "completed"
    },
    "tags": []
   },
   "outputs": [
    {
     "data": {
      "text/html": [
       "<div>\n",
       "<style scoped>\n",
       "    .dataframe tbody tr th:only-of-type {\n",
       "        vertical-align: middle;\n",
       "    }\n",
       "\n",
       "    .dataframe tbody tr th {\n",
       "        vertical-align: top;\n",
       "    }\n",
       "\n",
       "    .dataframe thead th {\n",
       "        text-align: right;\n",
       "    }\n",
       "</style>\n",
       "<table border=\"1\" class=\"dataframe\">\n",
       "  <thead>\n",
       "    <tr style=\"text-align: right;\">\n",
       "      <th></th>\n",
       "      <th>RECORD_TIME</th>\n",
       "    </tr>\n",
       "  </thead>\n",
       "  <tbody>\n",
       "    <tr>\n",
       "      <th>0</th>\n",
       "      <td>2021-10-12 10:30</td>\n",
       "    </tr>\n",
       "    <tr>\n",
       "      <th>1</th>\n",
       "      <td>2021-10-12 10:00</td>\n",
       "    </tr>\n",
       "  </tbody>\n",
       "</table>\n",
       "</div>"
      ],
      "text/plain": [
       "        RECORD_TIME\n",
       "0  2021-10-12 10:30\n",
       "1  2021-10-12 10:00"
      ]
     },
     "execution_count": 3,
     "metadata": {},
     "output_type": "execute_result"
    }
   ],
   "source": [
    "timestamps"
   ]
  },
  {
   "cell_type": "code",
   "execution_count": 4,
   "id": "alternate-victory",
   "metadata": {
    "execution": {
     "iopub.execute_input": "2021-10-12T08:30:08.455210Z",
     "iopub.status.busy": "2021-10-12T08:30:08.453354Z",
     "iopub.status.idle": "2021-10-12T08:30:09.217629Z",
     "shell.execute_reply": "2021-10-12T08:30:09.218907Z"
    },
    "papermill": {
     "duration": 0.797502,
     "end_time": "2021-10-12T08:30:09.219307",
     "exception": false,
     "start_time": "2021-10-12T08:30:08.421805",
     "status": "completed"
    },
    "tags": []
   },
   "outputs": [],
   "source": [
    "df = pd.read_sql(\"select * from EBAY_TOP_BERLIN where record_time in (select distinct record_time from EBAY_TOP_BERLIN order by record_time desc limit 2)\", sqlite3.connect(\"UsedObjects.db\"))"
   ]
  },
  {
   "cell_type": "code",
   "execution_count": 5,
   "id": "popular-active",
   "metadata": {
    "execution": {
     "iopub.execute_input": "2021-10-12T08:30:09.282795Z",
     "iopub.status.busy": "2021-10-12T08:30:09.276492Z",
     "iopub.status.idle": "2021-10-12T08:30:09.303861Z",
     "shell.execute_reply": "2021-10-12T08:30:09.305291Z"
    },
    "papermill": {
     "duration": 0.066175,
     "end_time": "2021-10-12T08:30:09.305712",
     "exception": false,
     "start_time": "2021-10-12T08:30:09.239537",
     "status": "completed"
    },
    "tags": []
   },
   "outputs": [],
   "source": [
    "df_pivot = df.pivot_table(index=\"PRODUCT\", columns = \"RECORD_TIME\", values = \"LISTING_COUNT\")"
   ]
  },
  {
   "cell_type": "code",
   "execution_count": 6,
   "id": "union-huntington",
   "metadata": {
    "execution": {
     "iopub.execute_input": "2021-10-12T08:30:09.363609Z",
     "iopub.status.busy": "2021-10-12T08:30:09.361204Z",
     "iopub.status.idle": "2021-10-12T08:30:09.367125Z",
     "shell.execute_reply": "2021-10-12T08:30:09.368490Z"
    },
    "papermill": {
     "duration": 0.042121,
     "end_time": "2021-10-12T08:30:09.368991",
     "exception": false,
     "start_time": "2021-10-12T08:30:09.326870",
     "status": "completed"
    },
    "tags": []
   },
   "outputs": [],
   "source": [
    "df_pivot.columns = [\"stamp_1\", \"stamp_2\"]\n",
    "df_pivot_diff = df_pivot.diff(axis=1)"
   ]
  },
  {
   "cell_type": "code",
   "execution_count": 7,
   "id": "fifth-motion",
   "metadata": {
    "execution": {
     "iopub.execute_input": "2021-10-12T08:30:09.423100Z",
     "iopub.status.busy": "2021-10-12T08:30:09.420838Z",
     "iopub.status.idle": "2021-10-12T08:30:10.894970Z",
     "shell.execute_reply": "2021-10-12T08:30:10.896160Z"
    },
    "papermill": {
     "duration": 1.50699,
     "end_time": "2021-10-12T08:30:10.896593",
     "exception": false,
     "start_time": "2021-10-12T08:30:09.389603",
     "status": "completed"
    },
    "tags": []
   },
   "outputs": [
    {
     "data": {
      "text/plain": [
       "<AxesSubplot:ylabel='PRODUCT'>"
      ]
     },
     "execution_count": 7,
     "metadata": {},
     "output_type": "execute_result"
    },
    {
     "data": {
      "image/png": "[encoded data removed]",
      "text/plain": [
       "<Figure size 432x288 with 1 Axes>"
      ]
     },
     "metadata": {
      "needs_background": "light"
     },
     "output_type": "display_data"
    }
   ],
   "source": [
    "df_pivot_diff.sort_values(\"stamp_2\", ascending = False)[\"stamp_2\"].head(10).plot.barh()"
   ]
  },
  {
   "cell_type": "code",
   "execution_count": null,
   "id": "extra-executive",
   "metadata": {
    "papermill": {
     "duration": 0.021958,
     "end_time": "2021-10-12T08:30:10.944676",
     "exception": false,
     "start_time": "2021-10-12T08:30:10.922718",
     "status": "completed"
    },
    "tags": []
   },
   "outputs": [],
   "source": []
  }
 ],
 "metadata": {
  "kernelspec": {
   "display_name": "Python 3",
   "language": "python",
   "name": "python3"
  },
  "language_info": {
   "codemirror_mode": {
    "name": "ipython",
    "version": 3
   },
   "file_extension": ".py",
   "mimetype": "text/x-python",
   "name": "python",
   "nbconvert_exporter": "python",
   "pygments_lexer": "ipython3",
   "version": "3.9.5"
  },
  "papermill": {
   "default_parameters": {},
   "duration": 7.815336,
   "end_time": "2021-10-12T08:30:12.287822",
   "environment_variables": {},
   "exception": null,
   "input_path": "eBay_Overview.ipynb",
   "output_path": "eBay_Overview.ipynb",
   "parameters": {},
   "start_time": "2021-10-12T08:30:04.472486",
   "version": "2.3.3"
  }
 },
 "nbformat": 4,
 "nbformat_minor": 5
}