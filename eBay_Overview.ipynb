{
 "cells": [
  {
   "cell_type": "code",
   "execution_count": 1,
   "id": "reverse-picking",
   "metadata": {
    "execution": {
     "iopub.execute_input": "2021-08-31T04:30:07.399312Z",
     "iopub.status.busy": "2021-08-31T04:30:07.397380Z",
     "iopub.status.idle": "2021-08-31T04:30:08.200973Z",
     "shell.execute_reply": "2021-08-31T04:30:08.198724Z"
    },
    "papermill": {
     "duration": 0.852787,
     "end_time": "2021-08-31T04:30:08.201410",
     "exception": false,
     "start_time": "2021-08-31T04:30:07.348623",
     "status": "completed"
    },
    "tags": []
   },
   "outputs": [],
   "source": [
    "import pandas as pd\n",
    "import sqlite3"
   ]
  },
  {
   "cell_type": "code",
   "execution_count": 2,
   "id": "innovative-syndrome",
   "metadata": {
    "execution": {
     "iopub.execute_input": "2021-08-31T04:30:08.253239Z",
     "iopub.status.busy": "2021-08-31T04:30:08.251216Z",
     "iopub.status.idle": "2021-08-31T04:30:08.423106Z",
     "shell.execute_reply": "2021-08-31T04:30:08.424471Z"
    },
    "papermill": {
     "duration": 0.202361,
     "end_time": "2021-08-31T04:30:08.424908",
     "exception": false,
     "start_time": "2021-08-31T04:30:08.222547",
     "status": "completed"
    },
    "tags": []
   },
   "outputs": [],
   "source": [
    "timestamps = pd.read_sql(\"select distinct record_time from EBAY_TOP_BERLIN order by record_time desc limit 2\", sqlite3.connect(\"UsedObjects.db\"))"
   ]
  },
  {
   "cell_type": "code",
   "execution_count": 3,
   "id": "periodic-identification",
   "metadata": {
    "execution": {
     "iopub.execute_input": "2021-08-31T04:30:08.489909Z",
     "iopub.status.busy": "2021-08-31T04:30:08.487822Z",
     "iopub.status.idle": "2021-08-31T04:30:08.507377Z",
     "shell.execute_reply": "2021-08-31T04:30:08.508661Z"
    },
    "papermill": {
     "duration": 0.064416,
     "end_time": "2021-08-31T04:30:08.509064",
     "exception": false,
     "start_time": "2021-08-31T04:30:08.444648",
     "status": "completed"
    },
    "tags": []
   },
   "outputs": [
    {
     "data": {
      "text/html": [
       "<div>\n",
       "<style scoped>\n",
       "    .dataframe tbody tr th:only-of-type {\n",
       "        vertical-align: middle;\n",
       "    }\n",
       "\n",
       "    .dataframe tbody tr th {\n",
       "        vertical-align: top;\n",
       "    }\n",
       "\n",
       "    .dataframe thead th {\n",
       "        text-align: right;\n",
       "    }\n",
       "</style>\n",
       "<table border=\"1\" class=\"dataframe\">\n",
       "  <thead>\n",
       "    <tr style=\"text-align: right;\">\n",
       "      <th></th>\n",
       "      <th>RECORD_TIME</th>\n",
       "    </tr>\n",
       "  </thead>\n",
       "  <tbody>\n",
       "    <tr>\n",
       "      <th>0</th>\n",
       "      <td>2021-08-31 06:30</td>\n",
       "    </tr>\n",
       "    <tr>\n",
       "      <th>1</th>\n",
       "      <td>2021-08-31 06:00</td>\n",
       "    </tr>\n",
       "  </tbody>\n",
       "</table>\n",
       "</div>"
      ],
      "text/plain": [
       "        RECORD_TIME\n",
       "0  2021-08-31 06:30\n",
       "1  2021-08-31 06:00"
      ]
     },
     "execution_count": 3,
     "metadata": {},
     "output_type": "execute_result"
    }
   ],
   "source": [
    "timestamps"
   ]
  },
  {
   "cell_type": "code",
   "execution_count": 4,
   "id": "alternate-victory",
   "metadata": {
    "execution": {
     "iopub.execute_input": "2021-08-31T04:30:08.560319Z",
     "iopub.status.busy": "2021-08-31T04:30:08.558427Z",
     "iopub.status.idle": "2021-08-31T04:30:08.818467Z",
     "shell.execute_reply": "2021-08-31T04:30:08.819665Z"
    },
    "papermill": {
     "duration": 0.289841,
     "end_time": "2021-08-31T04:30:08.820062",
     "exception": false,
     "start_time": "2021-08-31T04:30:08.530221",
     "status": "completed"
    },
    "tags": []
   },
   "outputs": [],
   "source": [
    "df = pd.read_sql(\"select * from EBAY_TOP_BERLIN where record_time in (select distinct record_time from EBAY_TOP_BERLIN order by record_time desc limit 2)\", sqlite3.connect(\"UsedObjects.db\"))"
   ]
  },
  {
   "cell_type": "code",
   "execution_count": 5,
   "id": "popular-active",
   "metadata": {
    "execution": {
     "iopub.execute_input": "2021-08-31T04:30:08.902404Z",
     "iopub.status.busy": "2021-08-31T04:30:08.895375Z",
     "iopub.status.idle": "2021-08-31T04:30:08.917790Z",
     "shell.execute_reply": "2021-08-31T04:30:08.919079Z"
    },
    "papermill": {
     "duration": 0.071958,
     "end_time": "2021-08-31T04:30:08.919496",
     "exception": false,
     "start_time": "2021-08-31T04:30:08.847538",
     "status": "completed"
    },
    "tags": []
   },
   "outputs": [],
   "source": [
    "df_pivot = df.pivot_table(index=\"PRODUCT\", columns = \"RECORD_TIME\", values = \"LISTING_COUNT\")"
   ]
  },
  {
   "cell_type": "code",
   "execution_count": 6,
   "id": "union-huntington",
   "metadata": {
    "execution": {
     "iopub.execute_input": "2021-08-31T04:30:08.974953Z",
     "iopub.status.busy": "2021-08-31T04:30:08.972892Z",
     "iopub.status.idle": "2021-08-31T04:30:08.978140Z",
     "shell.execute_reply": "2021-08-31T04:30:08.979325Z"
    },
    "papermill": {
     "duration": 0.040082,
     "end_time": "2021-08-31T04:30:08.979753",
     "exception": false,
     "start_time": "2021-08-31T04:30:08.939671",
     "status": "completed"
    },
    "tags": []
   },
   "outputs": [],
   "source": [
    "df_pivot.columns = [\"stamp_1\", \"stamp_2\"]\n",
    "df_pivot_diff = df_pivot.diff(axis=1)"
   ]
  },
  {
   "cell_type": "code",
   "execution_count": 7,
   "id": "fifth-motion",
   "metadata": {
    "execution": {
     "iopub.execute_input": "2021-08-31T04:30:09.034019Z",
     "iopub.status.busy": "2021-08-31T04:30:09.031440Z",
     "iopub.status.idle": "2021-08-31T04:30:10.504054Z",
     "shell.execute_reply": "2021-08-31T04:30:10.505398Z"
    },
    "papermill": {
     "duration": 1.505736,
     "end_time": "2021-08-31T04:30:10.505856",
     "exception": false,
     "start_time": "2021-08-31T04:30:09.000120",
     "status": "completed"
    },
    "tags": []
   },
   "outputs": [
    {
     "data": {
      "text/plain": [
       "<AxesSubplot:ylabel='PRODUCT'>"
      ]
     },
     "execution_count": 7,
     "metadata": {},
     "output_type": "execute_result"
    },
    {
     "data": {
      "image/png": "[encoded data removed]",
      "text/plain": [
       "<Figure size 432x288 with 1 Axes>"
      ]
     },
     "metadata": {
      "needs_background": "light"
     },
     "output_type": "display_data"
    }
   ],
   "source": [
    "df_pivot_diff.sort_values(\"stamp_2\", ascending = False)[\"stamp_2\"].head(10).plot.barh()"
   ]
  },
  {
   "cell_type": "code",
   "execution_count": null,
   "id": "extra-executive",
   "metadata": {
    "papermill": {
     "duration": 0.022197,
     "end_time": "2021-08-31T04:30:10.552649",
     "exception": false,
     "start_time": "2021-08-31T04:30:10.530452",
     "status": "completed"
    },
    "tags": []
   },
   "outputs": [],
   "source": []
  }
 ],
 "metadata": {
  "kernelspec": {
   "display_name": "Python 3",
   "language": "python",
   "name": "python3"
  },
  "language_info": {
   "codemirror_mode": {
    "name": "ipython",
    "version": 3
   },
   "file_extension": ".py",
   "mimetype": "text/x-python",
   "name": "python",
   "nbconvert_exporter": "python",
   "pygments_lexer": "ipython3",
   "version": "3.9.5"
  },
  "papermill": {
   "default_parameters": {},
   "duration": 6.821268,
   "end_time": "2021-08-31T04:30:11.768824",
   "environment_variables": {},
   "exception": null,
   "input_path": "eBay_Overview.ipynb",
   "output_path": "eBay_Overview.ipynb",
   "parameters": {},
   "start_time": "2021-08-31T04:30:04.947556",
   "version": "2.3.3"
  }
 },
 "nbformat": 4,
 "nbformat_minor": 5
}