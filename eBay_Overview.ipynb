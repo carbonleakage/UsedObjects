{
 "cells": [
  {
   "cell_type": "code",
   "execution_count": 1,
   "id": "reverse-picking",
   "metadata": {
    "execution": {
     "iopub.execute_input": "2021-11-01T03:30:07.422125Z",
     "iopub.status.busy": "2021-11-01T03:30:07.420102Z",
     "iopub.status.idle": "2021-11-01T03:30:08.227693Z",
     "shell.execute_reply": "2021-11-01T03:30:08.229012Z"
    },
    "papermill": {
     "duration": 0.859522,
     "end_time": "2021-11-01T03:30:08.229642",
     "exception": false,
     "start_time": "2021-11-01T03:30:07.370120",
     "status": "completed"
    },
    "tags": []
   },
   "outputs": [],
   "source": [
    "import pandas as pd\n",
    "import sqlite3"
   ]
  },
  {
   "cell_type": "code",
   "execution_count": 2,
   "id": "innovative-syndrome",
   "metadata": {
    "execution": {
     "iopub.execute_input": "2021-11-01T03:30:08.281644Z",
     "iopub.status.busy": "2021-11-01T03:30:08.279643Z",
     "iopub.status.idle": "2021-11-01T03:30:08.962452Z",
     "shell.execute_reply": "2021-11-01T03:30:08.963652Z"
    },
    "papermill": {
     "duration": 0.712145,
     "end_time": "2021-11-01T03:30:08.964048",
     "exception": false,
     "start_time": "2021-11-01T03:30:08.251903",
     "status": "completed"
    },
    "tags": []
   },
   "outputs": [],
   "source": [
    "timestamps = pd.read_sql(\"select distinct record_time from EBAY_TOP_BERLIN order by record_time desc limit 2\", sqlite3.connect(\"UsedObjects.db\"))"
   ]
  },
  {
   "cell_type": "code",
   "execution_count": 3,
   "id": "periodic-identification",
   "metadata": {
    "execution": {
     "iopub.execute_input": "2021-11-01T03:30:09.049662Z",
     "iopub.status.busy": "2021-11-01T03:30:09.044311Z",
     "iopub.status.idle": "2021-11-01T03:30:09.065300Z",
     "shell.execute_reply": "2021-11-01T03:30:09.066581Z"
    },
    "papermill": {
     "duration": 0.071907,
     "end_time": "2021-11-01T03:30:09.067034",
     "exception": false,
     "start_time": "2021-11-01T03:30:08.995127",
     "status": "completed"
    },
    "tags": []
   },
   "outputs": [
    {
     "data": {
      "text/html": [
       "<div>\n",
       "<style scoped>\n",
       "    .dataframe tbody tr th:only-of-type {\n",
       "        vertical-align: middle;\n",
       "    }\n",
       "\n",
       "    .dataframe tbody tr th {\n",
       "        vertical-align: top;\n",
       "    }\n",
       "\n",
       "    .dataframe thead th {\n",
       "        text-align: right;\n",
       "    }\n",
       "</style>\n",
       "<table border=\"1\" class=\"dataframe\">\n",
       "  <thead>\n",
       "    <tr style=\"text-align: right;\">\n",
       "      <th></th>\n",
       "      <th>RECORD_TIME</th>\n",
       "    </tr>\n",
       "  </thead>\n",
       "  <tbody>\n",
       "    <tr>\n",
       "      <th>0</th>\n",
       "      <td>2021-11-01 04:30</td>\n",
       "    </tr>\n",
       "    <tr>\n",
       "      <th>1</th>\n",
       "      <td>2021-11-01 04:00</td>\n",
       "    </tr>\n",
       "  </tbody>\n",
       "</table>\n",
       "</div>"
      ],
      "text/plain": [
       "        RECORD_TIME\n",
       "0  2021-11-01 04:30\n",
       "1  2021-11-01 04:00"
      ]
     },
     "execution_count": 3,
     "metadata": {},
     "output_type": "execute_result"
    }
   ],
   "source": [
    "timestamps"
   ]
  },
  {
   "cell_type": "code",
   "execution_count": 4,
   "id": "alternate-victory",
   "metadata": {
    "execution": {
     "iopub.execute_input": "2021-11-01T03:30:09.120750Z",
     "iopub.status.busy": "2021-11-01T03:30:09.118411Z",
     "iopub.status.idle": "2021-11-01T03:30:10.141395Z",
     "shell.execute_reply": "2021-11-01T03:30:10.142644Z"
    },
    "papermill": {
     "duration": 1.053246,
     "end_time": "2021-11-01T03:30:10.143036",
     "exception": false,
     "start_time": "2021-11-01T03:30:09.089790",
     "status": "completed"
    },
    "tags": []
   },
   "outputs": [],
   "source": [
    "df = pd.read_sql(\"select * from EBAY_TOP_BERLIN where record_time in (select distinct record_time from EBAY_TOP_BERLIN order by record_time desc limit 2)\", sqlite3.connect(\"UsedObjects.db\"))"
   ]
  },
  {
   "cell_type": "code",
   "execution_count": 5,
   "id": "popular-active",
   "metadata": {
    "execution": {
     "iopub.execute_input": "2021-11-01T03:30:10.211558Z",
     "iopub.status.busy": "2021-11-01T03:30:10.199909Z",
     "iopub.status.idle": "2021-11-01T03:30:10.227329Z",
     "shell.execute_reply": "2021-11-01T03:30:10.228533Z"
    },
    "papermill": {
     "duration": 0.065604,
     "end_time": "2021-11-01T03:30:10.229112",
     "exception": false,
     "start_time": "2021-11-01T03:30:10.163508",
     "status": "completed"
    },
    "tags": []
   },
   "outputs": [],
   "source": [
    "df_pivot = df.pivot_table(index=\"PRODUCT\", columns = \"RECORD_TIME\", values = \"LISTING_COUNT\")"
   ]
  },
  {
   "cell_type": "code",
   "execution_count": 6,
   "id": "union-huntington",
   "metadata": {
    "execution": {
     "iopub.execute_input": "2021-11-01T03:30:10.288033Z",
     "iopub.status.busy": "2021-11-01T03:30:10.285588Z",
     "iopub.status.idle": "2021-11-01T03:30:10.291292Z",
     "shell.execute_reply": "2021-11-01T03:30:10.292472Z"
    },
    "papermill": {
     "duration": 0.041791,
     "end_time": "2021-11-01T03:30:10.292944",
     "exception": false,
     "start_time": "2021-11-01T03:30:10.251153",
     "status": "completed"
    },
    "tags": []
   },
   "outputs": [],
   "source": [
    "df_pivot.columns = [\"stamp_1\", \"stamp_2\"]\n",
    "df_pivot_diff = df_pivot.diff(axis=1)"
   ]
  },
  {
   "cell_type": "code",
   "execution_count": 7,
   "id": "fifth-motion",
   "metadata": {
    "execution": {
     "iopub.execute_input": "2021-11-01T03:30:10.346953Z",
     "iopub.status.busy": "2021-11-01T03:30:10.344462Z",
     "iopub.status.idle": "2021-11-01T03:30:11.833596Z",
     "shell.execute_reply": "2021-11-01T03:30:11.834783Z"
    },
    "papermill": {
     "duration": 1.522262,
     "end_time": "2021-11-01T03:30:11.835207",
     "exception": false,
     "start_time": "2021-11-01T03:30:10.312945",
     "status": "completed"
    },
    "tags": []
   },
   "outputs": [
    {
     "data": {
      "text/plain": [
       "<AxesSubplot:ylabel='PRODUCT'>"
      ]
     },
     "execution_count": 7,
     "metadata": {},
     "output_type": "execute_result"
    },
    {
     "data": {
      "image/png": "[encoded data removed]",
      "text/plain": [
       "<Figure size 432x288 with 1 Axes>"
      ]
     },
     "metadata": {
      "needs_background": "light"
     },
     "output_type": "display_data"
    }
   ],
   "source": [
    "df_pivot_diff.sort_values(\"stamp_2\", ascending = False)[\"stamp_2\"].head(10).plot.barh()"
   ]
  },
  {
   "cell_type": "code",
   "execution_count": null,
   "id": "extra-executive",
   "metadata": {
    "papermill": {
     "duration": 0.021981,
     "end_time": "2021-11-01T03:30:11.881700",
     "exception": false,
     "start_time": "2021-11-01T03:30:11.859719",
     "status": "completed"
    },
    "tags": []
   },
   "outputs": [],
   "source": []
  }
 ],
 "metadata": {
  "kernelspec": {
   "display_name": "Python 3",
   "language": "python",
   "name": "python3"
  },
  "language_info": {
   "codemirror_mode": {
    "name": "ipython",
    "version": 3
   },
   "file_extension": ".py",
   "mimetype": "text/x-python",
   "name": "python",
   "nbconvert_exporter": "python",
   "pygments_lexer": "ipython3",
   "version": "3.9.5"
  },
  "papermill": {
   "default_parameters": {},
   "duration": 7.701714,
   "end_time": "2021-11-01T03:30:12.525150",
   "environment_variables": {},
   "exception": null,
   "input_path": "eBay_Overview.ipynb",
   "output_path": "eBay_Overview.ipynb",
   "parameters": {},
   "start_time": "2021-11-01T03:30:04.823436",
   "version": "2.3.3"
  }
 },
 "nbformat": 4,
 "nbformat_minor": 5
}