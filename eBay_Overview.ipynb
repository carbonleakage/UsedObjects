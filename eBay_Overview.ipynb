{
 "cells": [
  {
   "cell_type": "code",
   "execution_count": 1,
   "id": "reverse-picking",
   "metadata": {
    "execution": {
     "iopub.execute_input": "2021-09-29T08:00:07.178900Z",
     "iopub.status.busy": "2021-09-29T08:00:07.176949Z",
     "iopub.status.idle": "2021-09-29T08:00:07.982722Z",
     "shell.execute_reply": "2021-09-29T08:00:07.984126Z"
    },
    "papermill": {
     "duration": 0.857768,
     "end_time": "2021-09-29T08:00:07.984770",
     "exception": false,
     "start_time": "2021-09-29T08:00:07.127002",
     "status": "completed"
    },
    "tags": []
   },
   "outputs": [],
   "source": [
    "import pandas as pd\n",
    "import sqlite3"
   ]
  },
  {
   "cell_type": "code",
   "execution_count": 2,
   "id": "innovative-syndrome",
   "metadata": {
    "execution": {
     "iopub.execute_input": "2021-09-29T08:00:08.034771Z",
     "iopub.status.busy": "2021-09-29T08:00:08.032822Z",
     "iopub.status.idle": "2021-09-29T08:00:08.451880Z",
     "shell.execute_reply": "2021-09-29T08:00:08.453068Z"
    },
    "papermill": {
     "duration": 0.448633,
     "end_time": "2021-09-29T08:00:08.453464",
     "exception": false,
     "start_time": "2021-09-29T08:00:08.004831",
     "status": "completed"
    },
    "tags": []
   },
   "outputs": [],
   "source": [
    "timestamps = pd.read_sql(\"select distinct record_time from EBAY_TOP_BERLIN order by record_time desc limit 2\", sqlite3.connect(\"UsedObjects.db\"))"
   ]
  },
  {
   "cell_type": "code",
   "execution_count": 3,
   "id": "periodic-identification",
   "metadata": {
    "execution": {
     "iopub.execute_input": "2021-09-29T08:00:08.517881Z",
     "iopub.status.busy": "2021-09-29T08:00:08.515890Z",
     "iopub.status.idle": "2021-09-29T08:00:08.535760Z",
     "shell.execute_reply": "2021-09-29T08:00:08.537075Z"
    },
    "papermill": {
     "duration": 0.06323,
     "end_time": "2021-09-29T08:00:08.537489",
     "exception": false,
     "start_time": "2021-09-29T08:00:08.474259",
     "status": "completed"
    },
    "tags": []
   },
   "outputs": [
    {
     "data": {
      "text/html": [
       "<div>\n",
       "<style scoped>\n",
       "    .dataframe tbody tr th:only-of-type {\n",
       "        vertical-align: middle;\n",
       "    }\n",
       "\n",
       "    .dataframe tbody tr th {\n",
       "        vertical-align: top;\n",
       "    }\n",
       "\n",
       "    .dataframe thead th {\n",
       "        text-align: right;\n",
       "    }\n",
       "</style>\n",
       "<table border=\"1\" class=\"dataframe\">\n",
       "  <thead>\n",
       "    <tr style=\"text-align: right;\">\n",
       "      <th></th>\n",
       "      <th>RECORD_TIME</th>\n",
       "    </tr>\n",
       "  </thead>\n",
       "  <tbody>\n",
       "    <tr>\n",
       "      <th>0</th>\n",
       "      <td>2021-09-29 10:00</td>\n",
       "    </tr>\n",
       "    <tr>\n",
       "      <th>1</th>\n",
       "      <td>2021-09-29 09:30</td>\n",
       "    </tr>\n",
       "  </tbody>\n",
       "</table>\n",
       "</div>"
      ],
      "text/plain": [
       "        RECORD_TIME\n",
       "0  2021-09-29 10:00\n",
       "1  2021-09-29 09:30"
      ]
     },
     "execution_count": 3,
     "metadata": {},
     "output_type": "execute_result"
    }
   ],
   "source": [
    "timestamps"
   ]
  },
  {
   "cell_type": "code",
   "execution_count": 4,
   "id": "alternate-victory",
   "metadata": {
    "execution": {
     "iopub.execute_input": "2021-09-29T08:00:08.590074Z",
     "iopub.status.busy": "2021-09-29T08:00:08.587804Z",
     "iopub.status.idle": "2021-09-29T08:00:09.191850Z",
     "shell.execute_reply": "2021-09-29T08:00:09.190459Z"
    },
    "papermill": {
     "duration": 0.632945,
     "end_time": "2021-09-29T08:00:09.192195",
     "exception": false,
     "start_time": "2021-09-29T08:00:08.559250",
     "status": "completed"
    },
    "tags": []
   },
   "outputs": [],
   "source": [
    "df = pd.read_sql(\"select * from EBAY_TOP_BERLIN where record_time in (select distinct record_time from EBAY_TOP_BERLIN order by record_time desc limit 2)\", sqlite3.connect(\"UsedObjects.db\"))"
   ]
  },
  {
   "cell_type": "code",
   "execution_count": 5,
   "id": "popular-active",
   "metadata": {
    "execution": {
     "iopub.execute_input": "2021-09-29T08:00:09.272004Z",
     "iopub.status.busy": "2021-09-29T08:00:09.260985Z",
     "iopub.status.idle": "2021-09-29T08:00:09.289089Z",
     "shell.execute_reply": "2021-09-29T08:00:09.290283Z"
    },
    "papermill": {
     "duration": 0.072312,
     "end_time": "2021-09-29T08:00:09.290674",
     "exception": false,
     "start_time": "2021-09-29T08:00:09.218362",
     "status": "completed"
    },
    "tags": []
   },
   "outputs": [],
   "source": [
    "df_pivot = df.pivot_table(index=\"PRODUCT\", columns = \"RECORD_TIME\", values = \"LISTING_COUNT\")"
   ]
  },
  {
   "cell_type": "code",
   "execution_count": 6,
   "id": "union-huntington",
   "metadata": {
    "execution": {
     "iopub.execute_input": "2021-09-29T08:00:09.349452Z",
     "iopub.status.busy": "2021-09-29T08:00:09.347022Z",
     "iopub.status.idle": "2021-09-29T08:00:09.352518Z",
     "shell.execute_reply": "2021-09-29T08:00:09.353779Z"
    },
    "papermill": {
     "duration": 0.041344,
     "end_time": "2021-09-29T08:00:09.354191",
     "exception": false,
     "start_time": "2021-09-29T08:00:09.312847",
     "status": "completed"
    },
    "tags": []
   },
   "outputs": [],
   "source": [
    "df_pivot.columns = [\"stamp_1\", \"stamp_2\"]\n",
    "df_pivot_diff = df_pivot.diff(axis=1)"
   ]
  },
  {
   "cell_type": "code",
   "execution_count": 7,
   "id": "fifth-motion",
   "metadata": {
    "execution": {
     "iopub.execute_input": "2021-09-29T08:00:09.408055Z",
     "iopub.status.busy": "2021-09-29T08:00:09.405508Z",
     "iopub.status.idle": "2021-09-29T08:00:10.882609Z",
     "shell.execute_reply": "2021-09-29T08:00:10.883972Z"
    },
    "papermill": {
     "duration": 1.510206,
     "end_time": "2021-09-29T08:00:10.884395",
     "exception": false,
     "start_time": "2021-09-29T08:00:09.374189",
     "status": "completed"
    },
    "tags": []
   },
   "outputs": [
    {
     "data": {
      "text/plain": [
       "<AxesSubplot:ylabel='PRODUCT'>"
      ]
     },
     "execution_count": 7,
     "metadata": {},
     "output_type": "execute_result"
    },
    {
     "data": {
      "image/png": "[encoded data removed]",
      "text/plain": [
       "<Figure size 432x288 with 1 Axes>"
      ]
     },
     "metadata": {
      "needs_background": "light"
     },
     "output_type": "display_data"
    }
   ],
   "source": [
    "df_pivot_diff.sort_values(\"stamp_2\", ascending = False)[\"stamp_2\"].head(10).plot.barh()"
   ]
  },
  {
   "cell_type": "code",
   "execution_count": null,
   "id": "extra-executive",
   "metadata": {
    "papermill": {
     "duration": 0.022099,
     "end_time": "2021-09-29T08:00:10.930339",
     "exception": false,
     "start_time": "2021-09-29T08:00:10.908240",
     "status": "completed"
    },
    "tags": []
   },
   "outputs": [],
   "source": []
  }
 ],
 "metadata": {
  "kernelspec": {
   "display_name": "Python 3",
   "language": "python",
   "name": "python3"
  },
  "language_info": {
   "codemirror_mode": {
    "name": "ipython",
    "version": 3
   },
   "file_extension": ".py",
   "mimetype": "text/x-python",
   "name": "python",
   "nbconvert_exporter": "python",
   "pygments_lexer": "ipython3",
   "version": "3.9.5"
  },
  "papermill": {
   "default_parameters": {},
   "duration": 7.830486,
   "end_time": "2021-09-29T08:00:12.554373",
   "environment_variables": {},
   "exception": null,
   "input_path": "eBay_Overview.ipynb",
   "output_path": "eBay_Overview.ipynb",
   "parameters": {},
   "start_time": "2021-09-29T08:00:04.723887",
   "version": "2.3.3"
  }
 },
 "nbformat": 4,
 "nbformat_minor": 5
}