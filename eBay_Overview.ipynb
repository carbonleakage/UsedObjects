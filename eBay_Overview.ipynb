{
 "cells": [
  {
   "cell_type": "code",
   "execution_count": 1,
   "id": "reverse-picking",
   "metadata": {
    "execution": {
     "iopub.execute_input": "2021-10-26T14:30:07.354941Z",
     "iopub.status.busy": "2021-10-26T14:30:07.352975Z",
     "iopub.status.idle": "2021-10-26T14:30:08.159776Z",
     "shell.execute_reply": "2021-10-26T14:30:08.161110Z"
    },
    "papermill": {
     "duration": 0.85987,
     "end_time": "2021-10-26T14:30:08.161750",
     "exception": false,
     "start_time": "2021-10-26T14:30:07.301880",
     "status": "completed"
    },
    "tags": []
   },
   "outputs": [],
   "source": [
    "import pandas as pd\n",
    "import sqlite3"
   ]
  },
  {
   "cell_type": "code",
   "execution_count": 2,
   "id": "innovative-syndrome",
   "metadata": {
    "execution": {
     "iopub.execute_input": "2021-10-26T14:30:08.212667Z",
     "iopub.status.busy": "2021-10-26T14:30:08.210777Z",
     "iopub.status.idle": "2021-10-26T14:30:08.845587Z",
     "shell.execute_reply": "2021-10-26T14:30:08.846807Z"
    },
    "papermill": {
     "duration": 0.664459,
     "end_time": "2021-10-26T14:30:08.847201",
     "exception": false,
     "start_time": "2021-10-26T14:30:08.182742",
     "status": "completed"
    },
    "tags": []
   },
   "outputs": [],
   "source": [
    "timestamps = pd.read_sql(\"select distinct record_time from EBAY_TOP_BERLIN order by record_time desc limit 2\", sqlite3.connect(\"UsedObjects.db\"))"
   ]
  },
  {
   "cell_type": "code",
   "execution_count": 3,
   "id": "periodic-identification",
   "metadata": {
    "execution": {
     "iopub.execute_input": "2021-10-26T14:30:08.924943Z",
     "iopub.status.busy": "2021-10-26T14:30:08.922848Z",
     "iopub.status.idle": "2021-10-26T14:30:08.944377Z",
     "shell.execute_reply": "2021-10-26T14:30:08.943065Z"
    },
    "papermill": {
     "duration": 0.069145,
     "end_time": "2021-10-26T14:30:08.944792",
     "exception": false,
     "start_time": "2021-10-26T14:30:08.875647",
     "status": "completed"
    },
    "tags": []
   },
   "outputs": [
    {
     "data": {
      "text/html": [
       "<div>\n",
       "<style scoped>\n",
       "    .dataframe tbody tr th:only-of-type {\n",
       "        vertical-align: middle;\n",
       "    }\n",
       "\n",
       "    .dataframe tbody tr th {\n",
       "        vertical-align: top;\n",
       "    }\n",
       "\n",
       "    .dataframe thead th {\n",
       "        text-align: right;\n",
       "    }\n",
       "</style>\n",
       "<table border=\"1\" class=\"dataframe\">\n",
       "  <thead>\n",
       "    <tr style=\"text-align: right;\">\n",
       "      <th></th>\n",
       "      <th>RECORD_TIME</th>\n",
       "    </tr>\n",
       "  </thead>\n",
       "  <tbody>\n",
       "    <tr>\n",
       "      <th>0</th>\n",
       "      <td>2021-10-26 16:30</td>\n",
       "    </tr>\n",
       "    <tr>\n",
       "      <th>1</th>\n",
       "      <td>2021-10-26 16:00</td>\n",
       "    </tr>\n",
       "  </tbody>\n",
       "</table>\n",
       "</div>"
      ],
      "text/plain": [
       "        RECORD_TIME\n",
       "0  2021-10-26 16:30\n",
       "1  2021-10-26 16:00"
      ]
     },
     "execution_count": 3,
     "metadata": {},
     "output_type": "execute_result"
    }
   ],
   "source": [
    "timestamps"
   ]
  },
  {
   "cell_type": "code",
   "execution_count": 4,
   "id": "alternate-victory",
   "metadata": {
    "execution": {
     "iopub.execute_input": "2021-10-26T14:30:08.995874Z",
     "iopub.status.busy": "2021-10-26T14:30:08.994024Z",
     "iopub.status.idle": "2021-10-26T14:30:09.931261Z",
     "shell.execute_reply": "2021-10-26T14:30:09.932474Z"
    },
    "papermill": {
     "duration": 0.967763,
     "end_time": "2021-10-26T14:30:09.933047",
     "exception": false,
     "start_time": "2021-10-26T14:30:08.965284",
     "status": "completed"
    },
    "tags": []
   },
   "outputs": [],
   "source": [
    "df = pd.read_sql(\"select * from EBAY_TOP_BERLIN where record_time in (select distinct record_time from EBAY_TOP_BERLIN order by record_time desc limit 2)\", sqlite3.connect(\"UsedObjects.db\"))"
   ]
  },
  {
   "cell_type": "code",
   "execution_count": 5,
   "id": "popular-active",
   "metadata": {
    "execution": {
     "iopub.execute_input": "2021-10-26T14:30:10.003822Z",
     "iopub.status.busy": "2021-10-26T14:30:09.992497Z",
     "iopub.status.idle": "2021-10-26T14:30:10.020508Z",
     "shell.execute_reply": "2021-10-26T14:30:10.021790Z"
    },
    "papermill": {
     "duration": 0.068474,
     "end_time": "2021-10-26T14:30:10.022188",
     "exception": false,
     "start_time": "2021-10-26T14:30:09.953714",
     "status": "completed"
    },
    "tags": []
   },
   "outputs": [],
   "source": [
    "df_pivot = df.pivot_table(index=\"PRODUCT\", columns = \"RECORD_TIME\", values = \"LISTING_COUNT\")"
   ]
  },
  {
   "cell_type": "code",
   "execution_count": 6,
   "id": "union-huntington",
   "metadata": {
    "execution": {
     "iopub.execute_input": "2021-10-26T14:30:10.080496Z",
     "iopub.status.busy": "2021-10-26T14:30:10.078225Z",
     "iopub.status.idle": "2021-10-26T14:30:10.084233Z",
     "shell.execute_reply": "2021-10-26T14:30:10.085582Z"
    },
    "papermill": {
     "duration": 0.04216,
     "end_time": "2021-10-26T14:30:10.085999",
     "exception": false,
     "start_time": "2021-10-26T14:30:10.043839",
     "status": "completed"
    },
    "tags": []
   },
   "outputs": [],
   "source": [
    "df_pivot.columns = [\"stamp_1\", \"stamp_2\"]\n",
    "df_pivot_diff = df_pivot.diff(axis=1)"
   ]
  },
  {
   "cell_type": "code",
   "execution_count": 7,
   "id": "fifth-motion",
   "metadata": {
    "execution": {
     "iopub.execute_input": "2021-10-26T14:30:10.139727Z",
     "iopub.status.busy": "2021-10-26T14:30:10.137424Z",
     "iopub.status.idle": "2021-10-26T14:30:11.629372Z",
     "shell.execute_reply": "2021-10-26T14:30:11.630666Z"
    },
    "papermill": {
     "duration": 1.524914,
     "end_time": "2021-10-26T14:30:11.631082",
     "exception": false,
     "start_time": "2021-10-26T14:30:10.106168",
     "status": "completed"
    },
    "tags": []
   },
   "outputs": [
    {
     "data": {
      "text/plain": [
       "<AxesSubplot:ylabel='PRODUCT'>"
      ]
     },
     "execution_count": 7,
     "metadata": {},
     "output_type": "execute_result"
    },
    {
     "data": {
      "image/png": "[encoded data removed]",
      "text/plain": [
       "<Figure size 432x288 with 1 Axes>"
      ]
     },
     "metadata": {
      "needs_background": "light"
     },
     "output_type": "display_data"
    }
   ],
   "source": [
    "df_pivot_diff.sort_values(\"stamp_2\", ascending = False)[\"stamp_2\"].head(10).plot.barh()"
   ]
  },
  {
   "cell_type": "code",
   "execution_count": null,
   "id": "extra-executive",
   "metadata": {
    "papermill": {
     "duration": 0.022308,
     "end_time": "2021-10-26T14:30:11.679081",
     "exception": false,
     "start_time": "2021-10-26T14:30:11.656773",
     "status": "completed"
    },
    "tags": []
   },
   "outputs": [],
   "source": []
  }
 ],
 "metadata": {
  "kernelspec": {
   "display_name": "Python 3",
   "language": "python",
   "name": "python3"
  },
  "language_info": {
   "codemirror_mode": {
    "name": "ipython",
    "version": 3
   },
   "file_extension": ".py",
   "mimetype": "text/x-python",
   "name": "python",
   "nbconvert_exporter": "python",
   "pygments_lexer": "ipython3",
   "version": "3.9.5"
  },
  "papermill": {
   "default_parameters": {},
   "duration": 7.42968,
   "end_time": "2021-10-26T14:30:12.321640",
   "environment_variables": {},
   "exception": null,
   "input_path": "eBay_Overview.ipynb",
   "output_path": "eBay_Overview.ipynb",
   "parameters": {},
   "start_time": "2021-10-26T14:30:04.891960",
   "version": "2.3.3"
  }
 },
 "nbformat": 4,
 "nbformat_minor": 5
}