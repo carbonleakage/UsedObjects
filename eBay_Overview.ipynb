{
 "cells": [
  {
   "cell_type": "code",
   "execution_count": 1,
   "id": "reverse-picking",
   "metadata": {
    "execution": {
     "iopub.execute_input": "2021-10-09T16:30:07.088419Z",
     "iopub.status.busy": "2021-10-09T16:30:07.086391Z",
     "iopub.status.idle": "2021-10-09T16:30:07.902241Z",
     "shell.execute_reply": "2021-10-09T16:30:07.903647Z"
    },
    "papermill": {
     "duration": 0.867729,
     "end_time": "2021-10-09T16:30:07.904307",
     "exception": false,
     "start_time": "2021-10-09T16:30:07.036578",
     "status": "completed"
    },
    "tags": []
   },
   "outputs": [],
   "source": [
    "import pandas as pd\n",
    "import sqlite3"
   ]
  },
  {
   "cell_type": "code",
   "execution_count": 2,
   "id": "innovative-syndrome",
   "metadata": {
    "execution": {
     "iopub.execute_input": "2021-10-09T16:30:07.954764Z",
     "iopub.status.busy": "2021-10-09T16:30:07.952730Z",
     "iopub.status.idle": "2021-10-09T16:30:08.447506Z",
     "shell.execute_reply": "2021-10-09T16:30:08.448708Z"
    },
    "papermill": {
     "duration": 0.524841,
     "end_time": "2021-10-09T16:30:08.449104",
     "exception": false,
     "start_time": "2021-10-09T16:30:07.924263",
     "status": "completed"
    },
    "tags": []
   },
   "outputs": [],
   "source": [
    "timestamps = pd.read_sql(\"select distinct record_time from EBAY_TOP_BERLIN order by record_time desc limit 2\", sqlite3.connect(\"UsedObjects.db\"))"
   ]
  },
  {
   "cell_type": "code",
   "execution_count": 3,
   "id": "periodic-identification",
   "metadata": {
    "execution": {
     "iopub.execute_input": "2021-10-09T16:30:08.512947Z",
     "iopub.status.busy": "2021-10-09T16:30:08.510953Z",
     "iopub.status.idle": "2021-10-09T16:30:08.530606Z",
     "shell.execute_reply": "2021-10-09T16:30:08.532173Z"
    },
    "papermill": {
     "duration": 0.064039,
     "end_time": "2021-10-09T16:30:08.532765",
     "exception": false,
     "start_time": "2021-10-09T16:30:08.468726",
     "status": "completed"
    },
    "tags": []
   },
   "outputs": [
    {
     "data": {
      "text/html": [
       "<div>\n",
       "<style scoped>\n",
       "    .dataframe tbody tr th:only-of-type {\n",
       "        vertical-align: middle;\n",
       "    }\n",
       "\n",
       "    .dataframe tbody tr th {\n",
       "        vertical-align: top;\n",
       "    }\n",
       "\n",
       "    .dataframe thead th {\n",
       "        text-align: right;\n",
       "    }\n",
       "</style>\n",
       "<table border=\"1\" class=\"dataframe\">\n",
       "  <thead>\n",
       "    <tr style=\"text-align: right;\">\n",
       "      <th></th>\n",
       "      <th>RECORD_TIME</th>\n",
       "    </tr>\n",
       "  </thead>\n",
       "  <tbody>\n",
       "    <tr>\n",
       "      <th>0</th>\n",
       "      <td>2021-10-09 18:30</td>\n",
       "    </tr>\n",
       "    <tr>\n",
       "      <th>1</th>\n",
       "      <td>2021-10-09 18:00</td>\n",
       "    </tr>\n",
       "  </tbody>\n",
       "</table>\n",
       "</div>"
      ],
      "text/plain": [
       "        RECORD_TIME\n",
       "0  2021-10-09 18:30\n",
       "1  2021-10-09 18:00"
      ]
     },
     "execution_count": 3,
     "metadata": {},
     "output_type": "execute_result"
    }
   ],
   "source": [
    "timestamps"
   ]
  },
  {
   "cell_type": "code",
   "execution_count": 4,
   "id": "alternate-victory",
   "metadata": {
    "execution": {
     "iopub.execute_input": "2021-10-09T16:30:08.593821Z",
     "iopub.status.busy": "2021-10-09T16:30:08.591510Z",
     "iopub.status.idle": "2021-10-09T16:30:09.332085Z",
     "shell.execute_reply": "2021-10-09T16:30:09.333466Z"
    },
    "papermill": {
     "duration": 0.774426,
     "end_time": "2021-10-09T16:30:09.333901",
     "exception": false,
     "start_time": "2021-10-09T16:30:08.559475",
     "status": "completed"
    },
    "tags": []
   },
   "outputs": [],
   "source": [
    "df = pd.read_sql(\"select * from EBAY_TOP_BERLIN where record_time in (select distinct record_time from EBAY_TOP_BERLIN order by record_time desc limit 2)\", sqlite3.connect(\"UsedObjects.db\"))"
   ]
  },
  {
   "cell_type": "code",
   "execution_count": 5,
   "id": "popular-active",
   "metadata": {
    "execution": {
     "iopub.execute_input": "2021-10-09T16:30:09.403726Z",
     "iopub.status.busy": "2021-10-09T16:30:09.392576Z",
     "iopub.status.idle": "2021-10-09T16:30:09.420209Z",
     "shell.execute_reply": "2021-10-09T16:30:09.421423Z"
    },
    "papermill": {
     "duration": 0.067464,
     "end_time": "2021-10-09T16:30:09.421820",
     "exception": false,
     "start_time": "2021-10-09T16:30:09.354356",
     "status": "completed"
    },
    "tags": []
   },
   "outputs": [],
   "source": [
    "df_pivot = df.pivot_table(index=\"PRODUCT\", columns = \"RECORD_TIME\", values = \"LISTING_COUNT\")"
   ]
  },
  {
   "cell_type": "code",
   "execution_count": 6,
   "id": "union-huntington",
   "metadata": {
    "execution": {
     "iopub.execute_input": "2021-10-09T16:30:09.481008Z",
     "iopub.status.busy": "2021-10-09T16:30:09.478480Z",
     "iopub.status.idle": "2021-10-09T16:30:09.484358Z",
     "shell.execute_reply": "2021-10-09T16:30:09.485639Z"
    },
    "papermill": {
     "duration": 0.041973,
     "end_time": "2021-10-09T16:30:09.486053",
     "exception": false,
     "start_time": "2021-10-09T16:30:09.444080",
     "status": "completed"
    },
    "tags": []
   },
   "outputs": [],
   "source": [
    "df_pivot.columns = [\"stamp_1\", \"stamp_2\"]\n",
    "df_pivot_diff = df_pivot.diff(axis=1)"
   ]
  },
  {
   "cell_type": "code",
   "execution_count": 7,
   "id": "fifth-motion",
   "metadata": {
    "execution": {
     "iopub.execute_input": "2021-10-09T16:30:09.539227Z",
     "iopub.status.busy": "2021-10-09T16:30:09.536867Z",
     "iopub.status.idle": "2021-10-09T16:30:11.045164Z",
     "shell.execute_reply": "2021-10-09T16:30:11.046440Z"
    },
    "papermill": {
     "duration": 1.540527,
     "end_time": "2021-10-09T16:30:11.046914",
     "exception": false,
     "start_time": "2021-10-09T16:30:09.506387",
     "status": "completed"
    },
    "tags": []
   },
   "outputs": [
    {
     "data": {
      "text/plain": [
       "<AxesSubplot:ylabel='PRODUCT'>"
      ]
     },
     "execution_count": 7,
     "metadata": {},
     "output_type": "execute_result"
    },
    {
     "data": {
      "image/png": "[encoded data removed]",
      "text/plain": [
       "<Figure size 432x288 with 1 Axes>"
      ]
     },
     "metadata": {
      "needs_background": "light"
     },
     "output_type": "display_data"
    }
   ],
   "source": [
    "df_pivot_diff.sort_values(\"stamp_2\", ascending = False)[\"stamp_2\"].head(10).plot.barh()"
   ]
  },
  {
   "cell_type": "code",
   "execution_count": null,
   "id": "extra-executive",
   "metadata": {
    "papermill": {
     "duration": 0.021747,
     "end_time": "2021-10-09T16:30:11.092390",
     "exception": false,
     "start_time": "2021-10-09T16:30:11.070643",
     "status": "completed"
    },
    "tags": []
   },
   "outputs": [],
   "source": []
  }
 ],
 "metadata": {
  "kernelspec": {
   "display_name": "Python 3",
   "language": "python",
   "name": "python3"
  },
  "language_info": {
   "codemirror_mode": {
    "name": "ipython",
    "version": 3
   },
   "file_extension": ".py",
   "mimetype": "text/x-python",
   "name": "python",
   "nbconvert_exporter": "python",
   "pygments_lexer": "ipython3",
   "version": "3.9.5"
  },
  "papermill": {
   "default_parameters": {},
   "duration": 7.825031,
   "end_time": "2021-10-09T16:30:12.447806",
   "environment_variables": {},
   "exception": null,
   "input_path": "eBay_Overview.ipynb",
   "output_path": "eBay_Overview.ipynb",
   "parameters": {},
   "start_time": "2021-10-09T16:30:04.622775",
   "version": "2.3.3"
  }
 },
 "nbformat": 4,
 "nbformat_minor": 5
}