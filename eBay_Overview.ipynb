{
 "cells": [
  {
   "cell_type": "code",
   "execution_count": 1,
   "id": "reverse-picking",
   "metadata": {
    "execution": {
     "iopub.execute_input": "2021-09-17T10:00:25.816672Z",
     "iopub.status.busy": "2021-09-17T10:00:25.814673Z",
     "iopub.status.idle": "2021-09-17T10:00:26.616709Z",
     "shell.execute_reply": "2021-09-17T10:00:26.618040Z"
    },
    "papermill": {
     "duration": 0.854391,
     "end_time": "2021-09-17T10:00:26.618673",
     "exception": false,
     "start_time": "2021-09-17T10:00:25.764282",
     "status": "completed"
    },
    "tags": []
   },
   "outputs": [],
   "source": [
    "import pandas as pd\n",
    "import sqlite3"
   ]
  },
  {
   "cell_type": "code",
   "execution_count": 2,
   "id": "innovative-syndrome",
   "metadata": {
    "execution": {
     "iopub.execute_input": "2021-09-17T10:00:26.669673Z",
     "iopub.status.busy": "2021-09-17T10:00:26.667596Z",
     "iopub.status.idle": "2021-09-17T10:00:26.973391Z",
     "shell.execute_reply": "2021-09-17T10:00:26.974611Z"
    },
    "papermill": {
     "duration": 0.336103,
     "end_time": "2021-09-17T10:00:26.975200",
     "exception": false,
     "start_time": "2021-09-17T10:00:26.639097",
     "status": "completed"
    },
    "tags": []
   },
   "outputs": [],
   "source": [
    "timestamps = pd.read_sql(\"select distinct record_time from EBAY_TOP_BERLIN order by record_time desc limit 2\", sqlite3.connect(\"UsedObjects.db\"))"
   ]
  },
  {
   "cell_type": "code",
   "execution_count": 3,
   "id": "periodic-identification",
   "metadata": {
    "execution": {
     "iopub.execute_input": "2021-09-17T10:00:27.039979Z",
     "iopub.status.busy": "2021-09-17T10:00:27.037898Z",
     "iopub.status.idle": "2021-09-17T10:00:27.057762Z",
     "shell.execute_reply": "2021-09-17T10:00:27.059277Z"
    },
    "papermill": {
     "duration": 0.06509,
     "end_time": "2021-09-17T10:00:27.059739",
     "exception": false,
     "start_time": "2021-09-17T10:00:26.994649",
     "status": "completed"
    },
    "tags": []
   },
   "outputs": [
    {
     "data": {
      "text/html": [
       "<div>\n",
       "<style scoped>\n",
       "    .dataframe tbody tr th:only-of-type {\n",
       "        vertical-align: middle;\n",
       "    }\n",
       "\n",
       "    .dataframe tbody tr th {\n",
       "        vertical-align: top;\n",
       "    }\n",
       "\n",
       "    .dataframe thead th {\n",
       "        text-align: right;\n",
       "    }\n",
       "</style>\n",
       "<table border=\"1\" class=\"dataframe\">\n",
       "  <thead>\n",
       "    <tr style=\"text-align: right;\">\n",
       "      <th></th>\n",
       "      <th>RECORD_TIME</th>\n",
       "    </tr>\n",
       "  </thead>\n",
       "  <tbody>\n",
       "    <tr>\n",
       "      <th>0</th>\n",
       "      <td>2021-09-17 12:00</td>\n",
       "    </tr>\n",
       "    <tr>\n",
       "      <th>1</th>\n",
       "      <td>2021-09-17 11:30</td>\n",
       "    </tr>\n",
       "  </tbody>\n",
       "</table>\n",
       "</div>"
      ],
      "text/plain": [
       "        RECORD_TIME\n",
       "0  2021-09-17 12:00\n",
       "1  2021-09-17 11:30"
      ]
     },
     "execution_count": 3,
     "metadata": {},
     "output_type": "execute_result"
    }
   ],
   "source": [
    "timestamps"
   ]
  },
  {
   "cell_type": "code",
   "execution_count": 4,
   "id": "alternate-victory",
   "metadata": {
    "execution": {
     "iopub.execute_input": "2021-09-17T10:00:27.111364Z",
     "iopub.status.busy": "2021-09-17T10:00:27.109405Z",
     "iopub.status.idle": "2021-09-17T10:00:27.555500Z",
     "shell.execute_reply": "2021-09-17T10:00:27.556821Z"
    },
    "papermill": {
     "duration": 0.476168,
     "end_time": "2021-09-17T10:00:27.557234",
     "exception": false,
     "start_time": "2021-09-17T10:00:27.081066",
     "status": "completed"
    },
    "tags": []
   },
   "outputs": [],
   "source": [
    "df = pd.read_sql(\"select * from EBAY_TOP_BERLIN where record_time in (select distinct record_time from EBAY_TOP_BERLIN order by record_time desc limit 2)\", sqlite3.connect(\"UsedObjects.db\"))"
   ]
  },
  {
   "cell_type": "code",
   "execution_count": 5,
   "id": "popular-active",
   "metadata": {
    "execution": {
     "iopub.execute_input": "2021-09-17T10:00:27.638307Z",
     "iopub.status.busy": "2021-09-17T10:00:27.625733Z",
     "iopub.status.idle": "2021-09-17T10:00:27.653927Z",
     "shell.execute_reply": "2021-09-17T10:00:27.655380Z"
    },
    "papermill": {
     "duration": 0.072628,
     "end_time": "2021-09-17T10:00:27.655796",
     "exception": false,
     "start_time": "2021-09-17T10:00:27.583168",
     "status": "completed"
    },
    "tags": []
   },
   "outputs": [],
   "source": [
    "df_pivot = df.pivot_table(index=\"PRODUCT\", columns = \"RECORD_TIME\", values = \"LISTING_COUNT\")"
   ]
  },
  {
   "cell_type": "code",
   "execution_count": 6,
   "id": "union-huntington",
   "metadata": {
    "execution": {
     "iopub.execute_input": "2021-09-17T10:00:27.714304Z",
     "iopub.status.busy": "2021-09-17T10:00:27.711868Z",
     "iopub.status.idle": "2021-09-17T10:00:27.717589Z",
     "shell.execute_reply": "2021-09-17T10:00:27.718954Z"
    },
    "papermill": {
     "duration": 0.04221,
     "end_time": "2021-09-17T10:00:27.719372",
     "exception": false,
     "start_time": "2021-09-17T10:00:27.677162",
     "status": "completed"
    },
    "tags": []
   },
   "outputs": [],
   "source": [
    "df_pivot.columns = [\"stamp_1\", \"stamp_2\"]\n",
    "df_pivot_diff = df_pivot.diff(axis=1)"
   ]
  },
  {
   "cell_type": "code",
   "execution_count": 7,
   "id": "fifth-motion",
   "metadata": {
    "execution": {
     "iopub.execute_input": "2021-09-17T10:00:27.773870Z",
     "iopub.status.busy": "2021-09-17T10:00:27.771484Z",
     "iopub.status.idle": "2021-09-17T10:00:29.245107Z",
     "shell.execute_reply": "2021-09-17T10:00:29.246495Z"
    },
    "papermill": {
     "duration": 1.507026,
     "end_time": "2021-09-17T10:00:29.247006",
     "exception": false,
     "start_time": "2021-09-17T10:00:27.739980",
     "status": "completed"
    },
    "tags": []
   },
   "outputs": [
    {
     "data": {
      "text/plain": [
       "<AxesSubplot:ylabel='PRODUCT'>"
      ]
     },
     "execution_count": 7,
     "metadata": {},
     "output_type": "execute_result"
    },
    {
     "data": {
      "image/png": "[encoded data removed]",
      "text/plain": [
       "<Figure size 432x288 with 1 Axes>"
      ]
     },
     "metadata": {
      "needs_background": "light"
     },
     "output_type": "display_data"
    }
   ],
   "source": [
    "df_pivot_diff.sort_values(\"stamp_2\", ascending = False)[\"stamp_2\"].head(10).plot.barh()"
   ]
  },
  {
   "cell_type": "code",
   "execution_count": null,
   "id": "extra-executive",
   "metadata": {
    "papermill": {
     "duration": 0.022162,
     "end_time": "2021-09-17T10:00:29.294311",
     "exception": false,
     "start_time": "2021-09-17T10:00:29.272149",
     "status": "completed"
    },
    "tags": []
   },
   "outputs": [],
   "source": []
  }
 ],
 "metadata": {
  "kernelspec": {
   "display_name": "Python 3",
   "language": "python",
   "name": "python3"
  },
  "language_info": {
   "codemirror_mode": {
    "name": "ipython",
    "version": 3
   },
   "file_extension": ".py",
   "mimetype": "text/x-python",
   "name": "python",
   "nbconvert_exporter": "python",
   "pygments_lexer": "ipython3",
   "version": "3.9.5"
  },
  "papermill": {
   "default_parameters": {},
   "duration": 6.568595,
   "end_time": "2021-09-17T10:00:29.937071",
   "environment_variables": {},
   "exception": null,
   "input_path": "eBay_Overview.ipynb",
   "output_path": "eBay_Overview.ipynb",
   "parameters": {},
   "start_time": "2021-09-17T10:00:23.368476",
   "version": "2.3.3"
  }
 },
 "nbformat": 4,
 "nbformat_minor": 5
}