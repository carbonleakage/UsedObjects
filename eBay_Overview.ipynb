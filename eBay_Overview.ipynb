{
 "cells": [
  {
   "cell_type": "code",
   "execution_count": 1,
   "id": "reverse-picking",
   "metadata": {
    "execution": {
     "iopub.execute_input": "2021-09-09T04:30:06.893159Z",
     "iopub.status.busy": "2021-09-09T04:30:06.891231Z",
     "iopub.status.idle": "2021-09-09T04:30:07.700098Z",
     "shell.execute_reply": "2021-09-09T04:30:07.701361Z"
    },
    "papermill": {
     "duration": 0.862779,
     "end_time": "2021-09-09T04:30:07.701974",
     "exception": false,
     "start_time": "2021-09-09T04:30:06.839195",
     "status": "completed"
    },
    "tags": []
   },
   "outputs": [],
   "source": [
    "import pandas as pd\n",
    "import sqlite3"
   ]
  },
  {
   "cell_type": "code",
   "execution_count": 2,
   "id": "innovative-syndrome",
   "metadata": {
    "execution": {
     "iopub.execute_input": "2021-09-09T04:30:07.755724Z",
     "iopub.status.busy": "2021-09-09T04:30:07.753328Z",
     "iopub.status.idle": "2021-09-09T04:30:07.998792Z",
     "shell.execute_reply": "2021-09-09T04:30:08.000225Z"
    },
    "papermill": {
     "duration": 0.275614,
     "end_time": "2021-09-09T04:30:08.000655",
     "exception": false,
     "start_time": "2021-09-09T04:30:07.725041",
     "status": "completed"
    },
    "tags": []
   },
   "outputs": [],
   "source": [
    "timestamps = pd.read_sql(\"select distinct record_time from EBAY_TOP_BERLIN order by record_time desc limit 2\", sqlite3.connect(\"UsedObjects.db\"))"
   ]
  },
  {
   "cell_type": "code",
   "execution_count": 3,
   "id": "periodic-identification",
   "metadata": {
    "execution": {
     "iopub.execute_input": "2021-09-09T04:30:08.065276Z",
     "iopub.status.busy": "2021-09-09T04:30:08.063283Z",
     "iopub.status.idle": "2021-09-09T04:30:08.082819Z",
     "shell.execute_reply": "2021-09-09T04:30:08.084031Z"
    },
    "papermill": {
     "duration": 0.064331,
     "end_time": "2021-09-09T04:30:08.084441",
     "exception": false,
     "start_time": "2021-09-09T04:30:08.020110",
     "status": "completed"
    },
    "tags": []
   },
   "outputs": [
    {
     "data": {
      "text/html": [
       "<div>\n",
       "<style scoped>\n",
       "    .dataframe tbody tr th:only-of-type {\n",
       "        vertical-align: middle;\n",
       "    }\n",
       "\n",
       "    .dataframe tbody tr th {\n",
       "        vertical-align: top;\n",
       "    }\n",
       "\n",
       "    .dataframe thead th {\n",
       "        text-align: right;\n",
       "    }\n",
       "</style>\n",
       "<table border=\"1\" class=\"dataframe\">\n",
       "  <thead>\n",
       "    <tr style=\"text-align: right;\">\n",
       "      <th></th>\n",
       "      <th>RECORD_TIME</th>\n",
       "    </tr>\n",
       "  </thead>\n",
       "  <tbody>\n",
       "    <tr>\n",
       "      <th>0</th>\n",
       "      <td>2021-09-09 06:30</td>\n",
       "    </tr>\n",
       "    <tr>\n",
       "      <th>1</th>\n",
       "      <td>2021-09-09 06:00</td>\n",
       "    </tr>\n",
       "  </tbody>\n",
       "</table>\n",
       "</div>"
      ],
      "text/plain": [
       "        RECORD_TIME\n",
       "0  2021-09-09 06:30\n",
       "1  2021-09-09 06:00"
      ]
     },
     "execution_count": 3,
     "metadata": {},
     "output_type": "execute_result"
    }
   ],
   "source": [
    "timestamps"
   ]
  },
  {
   "cell_type": "code",
   "execution_count": 4,
   "id": "alternate-victory",
   "metadata": {
    "execution": {
     "iopub.execute_input": "2021-09-09T04:30:08.138801Z",
     "iopub.status.busy": "2021-09-09T04:30:08.136553Z",
     "iopub.status.idle": "2021-09-09T04:30:08.505618Z",
     "shell.execute_reply": "2021-09-09T04:30:08.506833Z"
    },
    "papermill": {
     "duration": 0.399635,
     "end_time": "2021-09-09T04:30:08.507463",
     "exception": false,
     "start_time": "2021-09-09T04:30:08.107828",
     "status": "completed"
    },
    "tags": []
   },
   "outputs": [],
   "source": [
    "df = pd.read_sql(\"select * from EBAY_TOP_BERLIN where record_time in (select distinct record_time from EBAY_TOP_BERLIN order by record_time desc limit 2)\", sqlite3.connect(\"UsedObjects.db\"))"
   ]
  },
  {
   "cell_type": "code",
   "execution_count": 5,
   "id": "popular-active",
   "metadata": {
    "execution": {
     "iopub.execute_input": "2021-09-09T04:30:08.586653Z",
     "iopub.status.busy": "2021-09-09T04:30:08.579792Z",
     "iopub.status.idle": "2021-09-09T04:30:08.602240Z",
     "shell.execute_reply": "2021-09-09T04:30:08.603601Z"
    },
    "papermill": {
     "duration": 0.070741,
     "end_time": "2021-09-09T04:30:08.604028",
     "exception": false,
     "start_time": "2021-09-09T04:30:08.533287",
     "status": "completed"
    },
    "tags": []
   },
   "outputs": [],
   "source": [
    "df_pivot = df.pivot_table(index=\"PRODUCT\", columns = \"RECORD_TIME\", values = \"LISTING_COUNT\")"
   ]
  },
  {
   "cell_type": "code",
   "execution_count": 6,
   "id": "union-huntington",
   "metadata": {
    "execution": {
     "iopub.execute_input": "2021-09-09T04:30:08.659685Z",
     "iopub.status.busy": "2021-09-09T04:30:08.657675Z",
     "iopub.status.idle": "2021-09-09T04:30:08.662687Z",
     "shell.execute_reply": "2021-09-09T04:30:08.664064Z"
    },
    "papermill": {
     "duration": 0.040159,
     "end_time": "2021-09-09T04:30:08.664480",
     "exception": false,
     "start_time": "2021-09-09T04:30:08.624321",
     "status": "completed"
    },
    "tags": []
   },
   "outputs": [],
   "source": [
    "df_pivot.columns = [\"stamp_1\", \"stamp_2\"]\n",
    "df_pivot_diff = df_pivot.diff(axis=1)"
   ]
  },
  {
   "cell_type": "code",
   "execution_count": 7,
   "id": "fifth-motion",
   "metadata": {
    "execution": {
     "iopub.execute_input": "2021-09-09T04:30:08.720872Z",
     "iopub.status.busy": "2021-09-09T04:30:08.718260Z",
     "iopub.status.idle": "2021-09-09T04:30:10.195756Z",
     "shell.execute_reply": "2021-09-09T04:30:10.197043Z"
    },
    "papermill": {
     "duration": 1.511046,
     "end_time": "2021-09-09T04:30:10.197456",
     "exception": false,
     "start_time": "2021-09-09T04:30:08.686410",
     "status": "completed"
    },
    "tags": []
   },
   "outputs": [
    {
     "data": {
      "text/plain": [
       "<AxesSubplot:ylabel='PRODUCT'>"
      ]
     },
     "execution_count": 7,
     "metadata": {},
     "output_type": "execute_result"
    },
    {
     "data": {
      "image/png": "[encoded data removed]",
      "text/plain": [
       "<Figure size 432x288 with 1 Axes>"
      ]
     },
     "metadata": {
      "needs_background": "light"
     },
     "output_type": "display_data"
    }
   ],
   "source": [
    "df_pivot_diff.sort_values(\"stamp_2\", ascending = False)[\"stamp_2\"].head(10).plot.barh()"
   ]
  },
  {
   "cell_type": "code",
   "execution_count": null,
   "id": "extra-executive",
   "metadata": {
    "papermill": {
     "duration": 0.022169,
     "end_time": "2021-09-09T04:30:10.245092",
     "exception": false,
     "start_time": "2021-09-09T04:30:10.222923",
     "status": "completed"
    },
    "tags": []
   },
   "outputs": [],
   "source": []
  }
 ],
 "metadata": {
  "kernelspec": {
   "display_name": "Python 3",
   "language": "python",
   "name": "python3"
  },
  "language_info": {
   "codemirror_mode": {
    "name": "ipython",
    "version": 3
   },
   "file_extension": ".py",
   "mimetype": "text/x-python",
   "name": "python",
   "nbconvert_exporter": "python",
   "pygments_lexer": "ipython3",
   "version": "3.9.5"
  },
  "papermill": {
   "default_parameters": {},
   "duration": 6.456093,
   "end_time": "2021-09-09T04:30:10.887607",
   "environment_variables": {},
   "exception": null,
   "input_path": "eBay_Overview.ipynb",
   "output_path": "eBay_Overview.ipynb",
   "parameters": {},
   "start_time": "2021-09-09T04:30:04.431514",
   "version": "2.3.3"
  }
 },
 "nbformat": 4,
 "nbformat_minor": 5
}