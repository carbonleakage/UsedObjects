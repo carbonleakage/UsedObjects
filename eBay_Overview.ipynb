{
 "cells": [
  {
   "cell_type": "code",
   "execution_count": 1,
   "id": "reverse-picking",
   "metadata": {
    "execution": {
     "iopub.execute_input": "2021-11-14T09:00:07.421403Z",
     "iopub.status.busy": "2021-11-14T09:00:07.418975Z",
     "iopub.status.idle": "2021-11-14T09:00:08.338957Z",
     "shell.execute_reply": "2021-11-14T09:00:08.340412Z"
    },
    "papermill": {
     "duration": 0.970551,
     "end_time": "2021-11-14T09:00:08.341200",
     "exception": false,
     "start_time": "2021-11-14T09:00:07.370649",
     "status": "completed"
    },
    "tags": []
   },
   "outputs": [],
   "source": [
    "import pandas as pd\n",
    "import sqlite3"
   ]
  },
  {
   "cell_type": "code",
   "execution_count": 2,
   "id": "innovative-syndrome",
   "metadata": {
    "execution": {
     "iopub.execute_input": "2021-11-14T09:00:08.407827Z",
     "iopub.status.busy": "2021-11-14T09:00:08.405096Z",
     "iopub.status.idle": "2021-11-14T09:00:09.227565Z",
     "shell.execute_reply": "2021-11-14T09:00:09.229115Z"
    },
    "papermill": {
     "duration": 0.866973,
     "end_time": "2021-11-14T09:00:09.229617",
     "exception": false,
     "start_time": "2021-11-14T09:00:08.362644",
     "status": "completed"
    },
    "tags": []
   },
   "outputs": [],
   "source": [
    "timestamps = pd.read_sql(\"select distinct record_time from EBAY_TOP_BERLIN order by record_time desc limit 2\", sqlite3.connect(\"UsedObjects.db\"))"
   ]
  },
  {
   "cell_type": "code",
   "execution_count": 3,
   "id": "periodic-identification",
   "metadata": {
    "execution": {
     "iopub.execute_input": "2021-11-14T09:00:09.304128Z",
     "iopub.status.busy": "2021-11-14T09:00:09.301836Z",
     "iopub.status.idle": "2021-11-14T09:00:09.325358Z",
     "shell.execute_reply": "2021-11-14T09:00:09.326793Z"
    },
    "papermill": {
     "duration": 0.076525,
     "end_time": "2021-11-14T09:00:09.327285",
     "exception": false,
     "start_time": "2021-11-14T09:00:09.250760",
     "status": "completed"
    },
    "tags": []
   },
   "outputs": [
    {
     "data": {
      "text/html": [
       "<div>\n",
       "<style scoped>\n",
       "    .dataframe tbody tr th:only-of-type {\n",
       "        vertical-align: middle;\n",
       "    }\n",
       "\n",
       "    .dataframe tbody tr th {\n",
       "        vertical-align: top;\n",
       "    }\n",
       "\n",
       "    .dataframe thead th {\n",
       "        text-align: right;\n",
       "    }\n",
       "</style>\n",
       "<table border=\"1\" class=\"dataframe\">\n",
       "  <thead>\n",
       "    <tr style=\"text-align: right;\">\n",
       "      <th></th>\n",
       "      <th>RECORD_TIME</th>\n",
       "    </tr>\n",
       "  </thead>\n",
       "  <tbody>\n",
       "    <tr>\n",
       "      <th>0</th>\n",
       "      <td>2021-11-14 10:00</td>\n",
       "    </tr>\n",
       "    <tr>\n",
       "      <th>1</th>\n",
       "      <td>2021-11-14 09:30</td>\n",
       "    </tr>\n",
       "  </tbody>\n",
       "</table>\n",
       "</div>"
      ],
      "text/plain": [
       "        RECORD_TIME\n",
       "0  2021-11-14 10:00\n",
       "1  2021-11-14 09:30"
      ]
     },
     "execution_count": 3,
     "metadata": {},
     "output_type": "execute_result"
    }
   ],
   "source": [
    "timestamps"
   ]
  },
  {
   "cell_type": "code",
   "execution_count": 4,
   "id": "alternate-victory",
   "metadata": {
    "execution": {
     "iopub.execute_input": "2021-11-14T09:00:09.383532Z",
     "iopub.status.busy": "2021-11-14T09:00:09.381349Z",
     "iopub.status.idle": "2021-11-14T09:00:10.543361Z",
     "shell.execute_reply": "2021-11-14T09:00:10.545707Z"
    },
    "papermill": {
     "duration": 1.197871,
     "end_time": "2021-11-14T09:00:10.546435",
     "exception": false,
     "start_time": "2021-11-14T09:00:09.348564",
     "status": "completed"
    },
    "tags": []
   },
   "outputs": [],
   "source": [
    "df = pd.read_sql(\"select * from EBAY_TOP_BERLIN where record_time in (select distinct record_time from EBAY_TOP_BERLIN order by record_time desc limit 2)\", sqlite3.connect(\"UsedObjects.db\"))"
   ]
  },
  {
   "cell_type": "code",
   "execution_count": 5,
   "id": "popular-active",
   "metadata": {
    "execution": {
     "iopub.execute_input": "2021-11-14T09:00:10.628300Z",
     "iopub.status.busy": "2021-11-14T09:00:10.613176Z",
     "iopub.status.idle": "2021-11-14T09:00:10.647019Z",
     "shell.execute_reply": "2021-11-14T09:00:10.648348Z"
    },
    "papermill": {
     "duration": 0.078895,
     "end_time": "2021-11-14T09:00:10.648900",
     "exception": false,
     "start_time": "2021-11-14T09:00:10.570005",
     "status": "completed"
    },
    "tags": []
   },
   "outputs": [],
   "source": [
    "df_pivot = df.pivot_table(index=\"PRODUCT\", columns = \"RECORD_TIME\", values = \"LISTING_COUNT\")"
   ]
  },
  {
   "cell_type": "code",
   "execution_count": 6,
   "id": "union-huntington",
   "metadata": {
    "execution": {
     "iopub.execute_input": "2021-11-14T09:00:10.707905Z",
     "iopub.status.busy": "2021-11-14T09:00:10.705834Z",
     "iopub.status.idle": "2021-11-14T09:00:10.713074Z",
     "shell.execute_reply": "2021-11-14T09:00:10.711313Z"
    },
    "papermill": {
     "duration": 0.043362,
     "end_time": "2021-11-14T09:00:10.713550",
     "exception": false,
     "start_time": "2021-11-14T09:00:10.670188",
     "status": "completed"
    },
    "tags": []
   },
   "outputs": [],
   "source": [
    "df_pivot.columns = [\"stamp_1\", \"stamp_2\"]\n",
    "df_pivot_diff = df_pivot.diff(axis=1)"
   ]
  },
  {
   "cell_type": "code",
   "execution_count": 7,
   "id": "fifth-motion",
   "metadata": {
    "execution": {
     "iopub.execute_input": "2021-11-14T09:00:10.773484Z",
     "iopub.status.busy": "2021-11-14T09:00:10.770839Z",
     "iopub.status.idle": "2021-11-14T09:00:12.674150Z",
     "shell.execute_reply": "2021-11-14T09:00:12.675894Z"
    },
    "papermill": {
     "duration": 1.942079,
     "end_time": "2021-11-14T09:00:12.676496",
     "exception": false,
     "start_time": "2021-11-14T09:00:10.734417",
     "status": "completed"
    },
    "tags": []
   },
   "outputs": [
    {
     "data": {
      "text/plain": [
       "<AxesSubplot:ylabel='PRODUCT'>"
      ]
     },
     "execution_count": 7,
     "metadata": {},
     "output_type": "execute_result"
    },
    {
     "data": {
      "image/png": "[encoded data removed]",
      "text/plain": [
       "<Figure size 432x288 with 1 Axes>"
      ]
     },
     "metadata": {
      "needs_background": "light"
     },
     "output_type": "display_data"
    }
   ],
   "source": [
    "df_pivot_diff.sort_values(\"stamp_2\", ascending = False)[\"stamp_2\"].head(10).plot.barh()"
   ]
  },
  {
   "cell_type": "code",
   "execution_count": null,
   "id": "extra-executive",
   "metadata": {
    "papermill": {
     "duration": 0.023085,
     "end_time": "2021-11-14T09:00:12.725261",
     "exception": false,
     "start_time": "2021-11-14T09:00:12.702176",
     "status": "completed"
    },
    "tags": []
   },
   "outputs": [],
   "source": []
  }
 ],
 "metadata": {
  "kernelspec": {
   "display_name": "Python 3",
   "language": "python",
   "name": "python3"
  },
  "language_info": {
   "codemirror_mode": {
    "name": "ipython",
    "version": 3
   },
   "file_extension": ".py",
   "mimetype": "text/x-python",
   "name": "python",
   "nbconvert_exporter": "python",
   "pygments_lexer": "ipython3",
   "version": "3.9.5"
  },
  "papermill": {
   "default_parameters": {},
   "duration": 9.953467,
   "end_time": "2021-11-14T09:00:14.573521",
   "environment_variables": {},
   "exception": null,
   "input_path": "eBay_Overview.ipynb",
   "output_path": "eBay_Overview.ipynb",
   "parameters": {},
   "start_time": "2021-11-14T09:00:04.620054",
   "version": "2.3.3"
  }
 },
 "nbformat": 4,
 "nbformat_minor": 5
}