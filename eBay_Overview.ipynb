{
 "cells": [
  {
   "cell_type": "code",
   "execution_count": 1,
   "id": "reverse-picking",
   "metadata": {
    "execution": {
     "iopub.execute_input": "2021-09-18T19:00:06.904974Z",
     "iopub.status.busy": "2021-09-18T19:00:06.903063Z",
     "iopub.status.idle": "2021-09-18T19:00:07.704199Z",
     "shell.execute_reply": "2021-09-18T19:00:07.705506Z"
    },
    "papermill": {
     "duration": 0.854967,
     "end_time": "2021-09-18T19:00:07.706154",
     "exception": false,
     "start_time": "2021-09-18T19:00:06.851187",
     "status": "completed"
    },
    "tags": []
   },
   "outputs": [],
   "source": [
    "import pandas as pd\n",
    "import sqlite3"
   ]
  },
  {
   "cell_type": "code",
   "execution_count": 2,
   "id": "innovative-syndrome",
   "metadata": {
    "execution": {
     "iopub.execute_input": "2021-09-18T19:00:07.757342Z",
     "iopub.status.busy": "2021-09-18T19:00:07.755057Z",
     "iopub.status.idle": "2021-09-18T19:00:08.078219Z",
     "shell.execute_reply": "2021-09-18T19:00:08.079446Z"
    },
    "papermill": {
     "duration": 0.353481,
     "end_time": "2021-09-18T19:00:08.079888",
     "exception": false,
     "start_time": "2021-09-18T19:00:07.726407",
     "status": "completed"
    },
    "tags": []
   },
   "outputs": [],
   "source": [
    "timestamps = pd.read_sql(\"select distinct record_time from EBAY_TOP_BERLIN order by record_time desc limit 2\", sqlite3.connect(\"UsedObjects.db\"))"
   ]
  },
  {
   "cell_type": "code",
   "execution_count": 3,
   "id": "periodic-identification",
   "metadata": {
    "execution": {
     "iopub.execute_input": "2021-09-18T19:00:08.145298Z",
     "iopub.status.busy": "2021-09-18T19:00:08.143296Z",
     "iopub.status.idle": "2021-09-18T19:00:08.162719Z",
     "shell.execute_reply": "2021-09-18T19:00:08.164003Z"
    },
    "papermill": {
     "duration": 0.064791,
     "end_time": "2021-09-18T19:00:08.164403",
     "exception": false,
     "start_time": "2021-09-18T19:00:08.099612",
     "status": "completed"
    },
    "tags": []
   },
   "outputs": [
    {
     "data": {
      "text/html": [
       "<div>\n",
       "<style scoped>\n",
       "    .dataframe tbody tr th:only-of-type {\n",
       "        vertical-align: middle;\n",
       "    }\n",
       "\n",
       "    .dataframe tbody tr th {\n",
       "        vertical-align: top;\n",
       "    }\n",
       "\n",
       "    .dataframe thead th {\n",
       "        text-align: right;\n",
       "    }\n",
       "</style>\n",
       "<table border=\"1\" class=\"dataframe\">\n",
       "  <thead>\n",
       "    <tr style=\"text-align: right;\">\n",
       "      <th></th>\n",
       "      <th>RECORD_TIME</th>\n",
       "    </tr>\n",
       "  </thead>\n",
       "  <tbody>\n",
       "    <tr>\n",
       "      <th>0</th>\n",
       "      <td>2021-09-18 21:00</td>\n",
       "    </tr>\n",
       "    <tr>\n",
       "      <th>1</th>\n",
       "      <td>2021-09-18 20:30</td>\n",
       "    </tr>\n",
       "  </tbody>\n",
       "</table>\n",
       "</div>"
      ],
      "text/plain": [
       "        RECORD_TIME\n",
       "0  2021-09-18 21:00\n",
       "1  2021-09-18 20:30"
      ]
     },
     "execution_count": 3,
     "metadata": {},
     "output_type": "execute_result"
    }
   ],
   "source": [
    "timestamps"
   ]
  },
  {
   "cell_type": "code",
   "execution_count": 4,
   "id": "alternate-victory",
   "metadata": {
    "execution": {
     "iopub.execute_input": "2021-09-18T19:00:08.216528Z",
     "iopub.status.busy": "2021-09-18T19:00:08.214311Z",
     "iopub.status.idle": "2021-09-18T19:00:08.687226Z",
     "shell.execute_reply": "2021-09-18T19:00:08.688381Z"
    },
    "papermill": {
     "duration": 0.502759,
     "end_time": "2021-09-18T19:00:08.688803",
     "exception": false,
     "start_time": "2021-09-18T19:00:08.186044",
     "status": "completed"
    },
    "tags": []
   },
   "outputs": [],
   "source": [
    "df = pd.read_sql(\"select * from EBAY_TOP_BERLIN where record_time in (select distinct record_time from EBAY_TOP_BERLIN order by record_time desc limit 2)\", sqlite3.connect(\"UsedObjects.db\"))"
   ]
  },
  {
   "cell_type": "code",
   "execution_count": 5,
   "id": "popular-active",
   "metadata": {
    "execution": {
     "iopub.execute_input": "2021-09-18T19:00:08.760122Z",
     "iopub.status.busy": "2021-09-18T19:00:08.748216Z",
     "iopub.status.idle": "2021-09-18T19:00:08.777361Z",
     "shell.execute_reply": "2021-09-18T19:00:08.778643Z"
    },
    "papermill": {
     "duration": 0.068219,
     "end_time": "2021-09-18T19:00:08.779118",
     "exception": false,
     "start_time": "2021-09-18T19:00:08.710899",
     "status": "completed"
    },
    "tags": []
   },
   "outputs": [],
   "source": [
    "df_pivot = df.pivot_table(index=\"PRODUCT\", columns = \"RECORD_TIME\", values = \"LISTING_COUNT\")"
   ]
  },
  {
   "cell_type": "code",
   "execution_count": 6,
   "id": "union-huntington",
   "metadata": {
    "execution": {
     "iopub.execute_input": "2021-09-18T19:00:08.835088Z",
     "iopub.status.busy": "2021-09-18T19:00:08.832985Z",
     "iopub.status.idle": "2021-09-18T19:00:08.838391Z",
     "shell.execute_reply": "2021-09-18T19:00:08.839651Z"
    },
    "papermill": {
     "duration": 0.041323,
     "end_time": "2021-09-18T19:00:08.840094",
     "exception": false,
     "start_time": "2021-09-18T19:00:08.798771",
     "status": "completed"
    },
    "tags": []
   },
   "outputs": [],
   "source": [
    "df_pivot.columns = [\"stamp_1\", \"stamp_2\"]\n",
    "df_pivot_diff = df_pivot.diff(axis=1)"
   ]
  },
  {
   "cell_type": "code",
   "execution_count": 7,
   "id": "fifth-motion",
   "metadata": {
    "execution": {
     "iopub.execute_input": "2021-09-18T19:00:08.894143Z",
     "iopub.status.busy": "2021-09-18T19:00:08.891793Z",
     "iopub.status.idle": "2021-09-18T19:00:10.380405Z",
     "shell.execute_reply": "2021-09-18T19:00:10.381700Z"
    },
    "papermill": {
     "duration": 1.521431,
     "end_time": "2021-09-18T19:00:10.382124",
     "exception": false,
     "start_time": "2021-09-18T19:00:08.860693",
     "status": "completed"
    },
    "tags": []
   },
   "outputs": [
    {
     "data": {
      "text/plain": [
       "<AxesSubplot:ylabel='PRODUCT'>"
      ]
     },
     "execution_count": 7,
     "metadata": {},
     "output_type": "execute_result"
    },
    {
     "data": {
      "image/png": "[encoded data removed]",
      "text/plain": [
       "<Figure size 432x288 with 1 Axes>"
      ]
     },
     "metadata": {
      "needs_background": "light"
     },
     "output_type": "display_data"
    }
   ],
   "source": [
    "df_pivot_diff.sort_values(\"stamp_2\", ascending = False)[\"stamp_2\"].head(10).plot.barh()"
   ]
  },
  {
   "cell_type": "code",
   "execution_count": null,
   "id": "extra-executive",
   "metadata": {
    "papermill": {
     "duration": 0.022521,
     "end_time": "2021-09-18T19:00:10.428681",
     "exception": false,
     "start_time": "2021-09-18T19:00:10.406160",
     "status": "completed"
    },
    "tags": []
   },
   "outputs": [],
   "source": []
  }
 ],
 "metadata": {
  "kernelspec": {
   "display_name": "Python 3",
   "language": "python",
   "name": "python3"
  },
  "language_info": {
   "codemirror_mode": {
    "name": "ipython",
    "version": 3
   },
   "file_extension": ".py",
   "mimetype": "text/x-python",
   "name": "python",
   "nbconvert_exporter": "python",
   "pygments_lexer": "ipython3",
   "version": "3.9.5"
  },
  "papermill": {
   "default_parameters": {},
   "duration": 6.616708,
   "end_time": "2021-09-18T19:00:11.071392",
   "environment_variables": {},
   "exception": null,
   "input_path": "eBay_Overview.ipynb",
   "output_path": "eBay_Overview.ipynb",
   "parameters": {},
   "start_time": "2021-09-18T19:00:04.454684",
   "version": "2.3.3"
  }
 },
 "nbformat": 4,
 "nbformat_minor": 5
}