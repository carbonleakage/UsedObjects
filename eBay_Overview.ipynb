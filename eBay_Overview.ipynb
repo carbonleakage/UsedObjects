{
 "cells": [
  {
   "cell_type": "code",
   "execution_count": 1,
   "id": "reverse-picking",
   "metadata": {
    "execution": {
     "iopub.execute_input": "2021-10-16T12:30:06.798541Z",
     "iopub.status.busy": "2021-10-16T12:30:06.796493Z",
     "iopub.status.idle": "2021-10-16T12:30:07.605781Z",
     "shell.execute_reply": "2021-10-16T12:30:07.607061Z"
    },
    "papermill": {
     "duration": 0.861463,
     "end_time": "2021-10-16T12:30:07.607685",
     "exception": false,
     "start_time": "2021-10-16T12:30:06.746222",
     "status": "completed"
    },
    "tags": []
   },
   "outputs": [],
   "source": [
    "import pandas as pd\n",
    "import sqlite3"
   ]
  },
  {
   "cell_type": "code",
   "execution_count": 2,
   "id": "innovative-syndrome",
   "metadata": {
    "execution": {
     "iopub.execute_input": "2021-10-16T12:30:07.661024Z",
     "iopub.status.busy": "2021-10-16T12:30:07.658625Z",
     "iopub.status.idle": "2021-10-16T12:30:08.205409Z",
     "shell.execute_reply": "2021-10-16T12:30:08.206711Z"
    },
    "papermill": {
     "duration": 0.5767,
     "end_time": "2021-10-16T12:30:08.207105",
     "exception": false,
     "start_time": "2021-10-16T12:30:07.630405",
     "status": "completed"
    },
    "tags": []
   },
   "outputs": [],
   "source": [
    "timestamps = pd.read_sql(\"select distinct record_time from EBAY_TOP_BERLIN order by record_time desc limit 2\", sqlite3.connect(\"UsedObjects.db\"))"
   ]
  },
  {
   "cell_type": "code",
   "execution_count": 3,
   "id": "periodic-identification",
   "metadata": {
    "execution": {
     "iopub.execute_input": "2021-10-16T12:30:08.280915Z",
     "iopub.status.busy": "2021-10-16T12:30:08.278805Z",
     "iopub.status.idle": "2021-10-16T12:30:08.298986Z",
     "shell.execute_reply": "2021-10-16T12:30:08.300126Z"
    },
    "papermill": {
     "duration": 0.06874,
     "end_time": "2021-10-16T12:30:08.300535",
     "exception": false,
     "start_time": "2021-10-16T12:30:08.231795",
     "status": "completed"
    },
    "tags": []
   },
   "outputs": [
    {
     "data": {
      "text/html": [
       "<div>\n",
       "<style scoped>\n",
       "    .dataframe tbody tr th:only-of-type {\n",
       "        vertical-align: middle;\n",
       "    }\n",
       "\n",
       "    .dataframe tbody tr th {\n",
       "        vertical-align: top;\n",
       "    }\n",
       "\n",
       "    .dataframe thead th {\n",
       "        text-align: right;\n",
       "    }\n",
       "</style>\n",
       "<table border=\"1\" class=\"dataframe\">\n",
       "  <thead>\n",
       "    <tr style=\"text-align: right;\">\n",
       "      <th></th>\n",
       "      <th>RECORD_TIME</th>\n",
       "    </tr>\n",
       "  </thead>\n",
       "  <tbody>\n",
       "    <tr>\n",
       "      <th>0</th>\n",
       "      <td>2021-10-16 14:30</td>\n",
       "    </tr>\n",
       "    <tr>\n",
       "      <th>1</th>\n",
       "      <td>2021-10-16 14:00</td>\n",
       "    </tr>\n",
       "  </tbody>\n",
       "</table>\n",
       "</div>"
      ],
      "text/plain": [
       "        RECORD_TIME\n",
       "0  2021-10-16 14:30\n",
       "1  2021-10-16 14:00"
      ]
     },
     "execution_count": 3,
     "metadata": {},
     "output_type": "execute_result"
    }
   ],
   "source": [
    "timestamps"
   ]
  },
  {
   "cell_type": "code",
   "execution_count": 4,
   "id": "alternate-victory",
   "metadata": {
    "execution": {
     "iopub.execute_input": "2021-10-16T12:30:08.354458Z",
     "iopub.status.busy": "2021-10-16T12:30:08.352058Z",
     "iopub.status.idle": "2021-10-16T12:30:09.156765Z",
     "shell.execute_reply": "2021-10-16T12:30:09.158114Z"
    },
    "papermill": {
     "duration": 0.834833,
     "end_time": "2021-10-16T12:30:09.158531",
     "exception": false,
     "start_time": "2021-10-16T12:30:08.323698",
     "status": "completed"
    },
    "tags": []
   },
   "outputs": [],
   "source": [
    "df = pd.read_sql(\"select * from EBAY_TOP_BERLIN where record_time in (select distinct record_time from EBAY_TOP_BERLIN order by record_time desc limit 2)\", sqlite3.connect(\"UsedObjects.db\"))"
   ]
  },
  {
   "cell_type": "code",
   "execution_count": 5,
   "id": "popular-active",
   "metadata": {
    "execution": {
     "iopub.execute_input": "2021-10-16T12:30:09.226185Z",
     "iopub.status.busy": "2021-10-16T12:30:09.215298Z",
     "iopub.status.idle": "2021-10-16T12:30:09.242950Z",
     "shell.execute_reply": "2021-10-16T12:30:09.244211Z"
    },
    "papermill": {
     "duration": 0.065591,
     "end_time": "2021-10-16T12:30:09.244607",
     "exception": false,
     "start_time": "2021-10-16T12:30:09.179016",
     "status": "completed"
    },
    "tags": []
   },
   "outputs": [],
   "source": [
    "df_pivot = df.pivot_table(index=\"PRODUCT\", columns = \"RECORD_TIME\", values = \"LISTING_COUNT\")"
   ]
  },
  {
   "cell_type": "code",
   "execution_count": 6,
   "id": "union-huntington",
   "metadata": {
    "execution": {
     "iopub.execute_input": "2021-10-16T12:30:09.303416Z",
     "iopub.status.busy": "2021-10-16T12:30:09.300946Z",
     "iopub.status.idle": "2021-10-16T12:30:09.308202Z",
     "shell.execute_reply": "2021-10-16T12:30:09.306803Z"
    },
    "papermill": {
     "duration": 0.041825,
     "end_time": "2021-10-16T12:30:09.308557",
     "exception": false,
     "start_time": "2021-10-16T12:30:09.266732",
     "status": "completed"
    },
    "tags": []
   },
   "outputs": [],
   "source": [
    "df_pivot.columns = [\"stamp_1\", \"stamp_2\"]\n",
    "df_pivot_diff = df_pivot.diff(axis=1)"
   ]
  },
  {
   "cell_type": "code",
   "execution_count": 7,
   "id": "fifth-motion",
   "metadata": {
    "execution": {
     "iopub.execute_input": "2021-10-16T12:30:09.362925Z",
     "iopub.status.busy": "2021-10-16T12:30:09.360459Z",
     "iopub.status.idle": "2021-10-16T12:30:10.833289Z",
     "shell.execute_reply": "2021-10-16T12:30:10.834697Z"
    },
    "papermill": {
     "duration": 1.5062,
     "end_time": "2021-10-16T12:30:10.835121",
     "exception": false,
     "start_time": "2021-10-16T12:30:09.328921",
     "status": "completed"
    },
    "tags": []
   },
   "outputs": [
    {
     "data": {
      "text/plain": [
       "<AxesSubplot:ylabel='PRODUCT'>"
      ]
     },
     "execution_count": 7,
     "metadata": {},
     "output_type": "execute_result"
    },
    {
     "data": {
      "image/png": "[encoded data removed]",
      "text/plain": [
       "<Figure size 432x288 with 1 Axes>"
      ]
     },
     "metadata": {
      "needs_background": "light"
     },
     "output_type": "display_data"
    }
   ],
   "source": [
    "df_pivot_diff.sort_values(\"stamp_2\", ascending = False)[\"stamp_2\"].head(10).plot.barh()"
   ]
  },
  {
   "cell_type": "code",
   "execution_count": null,
   "id": "extra-executive",
   "metadata": {
    "papermill": {
     "duration": 0.021852,
     "end_time": "2021-10-16T12:30:10.881482",
     "exception": false,
     "start_time": "2021-10-16T12:30:10.859630",
     "status": "completed"
    },
    "tags": []
   },
   "outputs": [],
   "source": []
  }
 ],
 "metadata": {
  "kernelspec": {
   "display_name": "Python 3",
   "language": "python",
   "name": "python3"
  },
  "language_info": {
   "codemirror_mode": {
    "name": "ipython",
    "version": 3
   },
   "file_extension": ".py",
   "mimetype": "text/x-python",
   "name": "python",
   "nbconvert_exporter": "python",
   "pygments_lexer": "ipython3",
   "version": "3.9.5"
  },
  "papermill": {
   "default_parameters": {},
   "duration": 7.820878,
   "end_time": "2021-10-16T12:30:12.156515",
   "environment_variables": {},
   "exception": null,
   "input_path": "eBay_Overview.ipynb",
   "output_path": "eBay_Overview.ipynb",
   "parameters": {},
   "start_time": "2021-10-16T12:30:04.335637",
   "version": "2.3.3"
  }
 },
 "nbformat": 4,
 "nbformat_minor": 5
}