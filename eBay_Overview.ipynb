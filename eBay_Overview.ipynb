{
 "cells": [
  {
   "cell_type": "code",
   "execution_count": 1,
   "id": "reverse-picking",
   "metadata": {
    "execution": {
     "iopub.execute_input": "2021-08-15T09:00:06.955855Z",
     "iopub.status.busy": "2021-08-15T09:00:06.953792Z",
     "iopub.status.idle": "2021-08-15T09:00:07.766861Z",
     "shell.execute_reply": "2021-08-15T09:00:07.768124Z"
    },
    "papermill": {
     "duration": 0.863308,
     "end_time": "2021-08-15T09:00:07.768737",
     "exception": false,
     "start_time": "2021-08-15T09:00:06.905429",
     "status": "completed"
    },
    "tags": []
   },
   "outputs": [],
   "source": [
    "import pandas as pd\n",
    "import sqlite3"
   ]
  },
  {
   "cell_type": "code",
   "execution_count": 2,
   "id": "innovative-syndrome",
   "metadata": {
    "execution": {
     "iopub.execute_input": "2021-08-15T09:00:07.819870Z",
     "iopub.status.busy": "2021-08-15T09:00:07.817586Z",
     "iopub.status.idle": "2021-08-15T09:00:07.873024Z",
     "shell.execute_reply": "2021-08-15T09:00:07.874195Z"
    },
    "papermill": {
     "duration": 0.085024,
     "end_time": "2021-08-15T09:00:07.874610",
     "exception": false,
     "start_time": "2021-08-15T09:00:07.789586",
     "status": "completed"
    },
    "tags": []
   },
   "outputs": [],
   "source": [
    "timestamps = pd.read_sql(\"select distinct record_time from EBAY_TOP_BERLIN order by record_time desc limit 2\", sqlite3.connect(\"UsedObjects.db\"))"
   ]
  },
  {
   "cell_type": "code",
   "execution_count": 3,
   "id": "periodic-identification",
   "metadata": {
    "execution": {
     "iopub.execute_input": "2021-08-15T09:00:07.941397Z",
     "iopub.status.busy": "2021-08-15T09:00:07.939367Z",
     "iopub.status.idle": "2021-08-15T09:00:07.959959Z",
     "shell.execute_reply": "2021-08-15T09:00:07.961171Z"
    },
    "papermill": {
     "duration": 0.065299,
     "end_time": "2021-08-15T09:00:07.961560",
     "exception": false,
     "start_time": "2021-08-15T09:00:07.896261",
     "status": "completed"
    },
    "tags": []
   },
   "outputs": [
    {
     "data": {
      "text/html": [
       "<div>\n",
       "<style scoped>\n",
       "    .dataframe tbody tr th:only-of-type {\n",
       "        vertical-align: middle;\n",
       "    }\n",
       "\n",
       "    .dataframe tbody tr th {\n",
       "        vertical-align: top;\n",
       "    }\n",
       "\n",
       "    .dataframe thead th {\n",
       "        text-align: right;\n",
       "    }\n",
       "</style>\n",
       "<table border=\"1\" class=\"dataframe\">\n",
       "  <thead>\n",
       "    <tr style=\"text-align: right;\">\n",
       "      <th></th>\n",
       "      <th>RECORD_TIME</th>\n",
       "    </tr>\n",
       "  </thead>\n",
       "  <tbody>\n",
       "    <tr>\n",
       "      <th>0</th>\n",
       "      <td>2021-08-15 11:00</td>\n",
       "    </tr>\n",
       "    <tr>\n",
       "      <th>1</th>\n",
       "      <td>2021-08-15 10:30</td>\n",
       "    </tr>\n",
       "  </tbody>\n",
       "</table>\n",
       "</div>"
      ],
      "text/plain": [
       "        RECORD_TIME\n",
       "0  2021-08-15 11:00\n",
       "1  2021-08-15 10:30"
      ]
     },
     "execution_count": 3,
     "metadata": {},
     "output_type": "execute_result"
    }
   ],
   "source": [
    "timestamps"
   ]
  },
  {
   "cell_type": "code",
   "execution_count": 4,
   "id": "alternate-victory",
   "metadata": {
    "execution": {
     "iopub.execute_input": "2021-08-15T09:00:08.015305Z",
     "iopub.status.busy": "2021-08-15T09:00:08.012924Z",
     "iopub.status.idle": "2021-08-15T09:00:08.092770Z",
     "shell.execute_reply": "2021-08-15T09:00:08.094058Z"
    },
    "papermill": {
     "duration": 0.110459,
     "end_time": "2021-08-15T09:00:08.094514",
     "exception": false,
     "start_time": "2021-08-15T09:00:07.984055",
     "status": "completed"
    },
    "tags": []
   },
   "outputs": [],
   "source": [
    "df = pd.read_sql(\"select * from EBAY_TOP_BERLIN where record_time in (select distinct record_time from EBAY_TOP_BERLIN order by record_time desc limit 2)\", sqlite3.connect(\"UsedObjects.db\"))"
   ]
  },
  {
   "cell_type": "code",
   "execution_count": 5,
   "id": "popular-active",
   "metadata": {
    "execution": {
     "iopub.execute_input": "2021-08-15T09:00:08.166069Z",
     "iopub.status.busy": "2021-08-15T09:00:08.153813Z",
     "iopub.status.idle": "2021-08-15T09:00:08.181409Z",
     "shell.execute_reply": "2021-08-15T09:00:08.182700Z"
    },
    "papermill": {
     "duration": 0.068422,
     "end_time": "2021-08-15T09:00:08.183110",
     "exception": false,
     "start_time": "2021-08-15T09:00:08.114688",
     "status": "completed"
    },
    "tags": []
   },
   "outputs": [],
   "source": [
    "df_pivot = df.pivot_table(index=\"PRODUCT\", columns = \"RECORD_TIME\", values = \"LISTING_COUNT\")"
   ]
  },
  {
   "cell_type": "code",
   "execution_count": 6,
   "id": "union-huntington",
   "metadata": {
    "execution": {
     "iopub.execute_input": "2021-08-15T09:00:08.240286Z",
     "iopub.status.busy": "2021-08-15T09:00:08.238121Z",
     "iopub.status.idle": "2021-08-15T09:00:08.243643Z",
     "shell.execute_reply": "2021-08-15T09:00:08.244894Z"
    },
    "papermill": {
     "duration": 0.040884,
     "end_time": "2021-08-15T09:00:08.245336",
     "exception": false,
     "start_time": "2021-08-15T09:00:08.204452",
     "status": "completed"
    },
    "tags": []
   },
   "outputs": [],
   "source": [
    "df_pivot.columns = [\"stamp_1\", \"stamp_2\"]\n",
    "df_pivot_diff = df_pivot.diff(axis=1)"
   ]
  },
  {
   "cell_type": "code",
   "execution_count": 7,
   "id": "fifth-motion",
   "metadata": {
    "execution": {
     "iopub.execute_input": "2021-08-15T09:00:08.303707Z",
     "iopub.status.busy": "2021-08-15T09:00:08.300987Z",
     "iopub.status.idle": "2021-08-15T09:00:09.811685Z",
     "shell.execute_reply": "2021-08-15T09:00:09.812957Z"
    },
    "papermill": {
     "duration": 1.544346,
     "end_time": "2021-08-15T09:00:09.813366",
     "exception": false,
     "start_time": "2021-08-15T09:00:08.269020",
     "status": "completed"
    },
    "tags": []
   },
   "outputs": [
    {
     "data": {
      "text/plain": [
       "<AxesSubplot:ylabel='PRODUCT'>"
      ]
     },
     "execution_count": 7,
     "metadata": {},
     "output_type": "execute_result"
    },
    {
     "data": {
      "image/png": "[encoded data removed]",
      "text/plain": [
       "<Figure size 432x288 with 1 Axes>"
      ]
     },
     "metadata": {
      "needs_background": "light"
     },
     "output_type": "display_data"
    }
   ],
   "source": [
    "df_pivot_diff.sort_values(\"stamp_2\", ascending = False)[\"stamp_2\"].head(10).plot.barh()"
   ]
  },
  {
   "cell_type": "code",
   "execution_count": null,
   "id": "extra-executive",
   "metadata": {
    "papermill": {
     "duration": 0.022152,
     "end_time": "2021-08-15T09:00:09.858549",
     "exception": false,
     "start_time": "2021-08-15T09:00:09.836397",
     "status": "completed"
    },
    "tags": []
   },
   "outputs": [],
   "source": []
  }
 ],
 "metadata": {
  "kernelspec": {
   "display_name": "Python 3",
   "language": "python",
   "name": "python3"
  },
  "language_info": {
   "codemirror_mode": {
    "name": "ipython",
    "version": 3
   },
   "file_extension": ".py",
   "mimetype": "text/x-python",
   "name": "python",
   "nbconvert_exporter": "python",
   "pygments_lexer": "ipython3",
   "version": "3.9.5"
  },
  "papermill": {
   "default_parameters": {},
   "duration": 6.826556,
   "end_time": "2021-08-15T09:00:11.308895",
   "environment_variables": {},
   "exception": null,
   "input_path": "eBay_Overview.ipynb",
   "output_path": "eBay_Overview.ipynb",
   "parameters": {},
   "start_time": "2021-08-15T09:00:04.482339",
   "version": "2.3.3"
  }
 },
 "nbformat": 4,
 "nbformat_minor": 5
}