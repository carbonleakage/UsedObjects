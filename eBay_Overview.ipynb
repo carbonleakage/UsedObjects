{
 "cells": [
  {
   "cell_type": "code",
   "execution_count": 1,
   "id": "reverse-picking",
   "metadata": {
    "execution": {
     "iopub.execute_input": "2021-10-14T01:00:07.046274Z",
     "iopub.status.busy": "2021-10-14T01:00:07.044270Z",
     "iopub.status.idle": "2021-10-14T01:00:07.843862Z",
     "shell.execute_reply": "2021-10-14T01:00:07.845190Z"
    },
    "papermill": {
     "duration": 0.85035,
     "end_time": "2021-10-14T01:00:07.845832",
     "exception": false,
     "start_time": "2021-10-14T01:00:06.995482",
     "status": "completed"
    },
    "tags": []
   },
   "outputs": [],
   "source": [
    "import pandas as pd\n",
    "import sqlite3"
   ]
  },
  {
   "cell_type": "code",
   "execution_count": 2,
   "id": "innovative-syndrome",
   "metadata": {
    "execution": {
     "iopub.execute_input": "2021-10-14T01:00:07.898549Z",
     "iopub.status.busy": "2021-10-14T01:00:07.896301Z",
     "iopub.status.idle": "2021-10-14T01:00:08.432287Z",
     "shell.execute_reply": "2021-10-14T01:00:08.433562Z"
    },
    "papermill": {
     "duration": 0.565686,
     "end_time": "2021-10-14T01:00:08.433980",
     "exception": false,
     "start_time": "2021-10-14T01:00:07.868294",
     "status": "completed"
    },
    "tags": []
   },
   "outputs": [],
   "source": [
    "timestamps = pd.read_sql(\"select distinct record_time from EBAY_TOP_BERLIN order by record_time desc limit 2\", sqlite3.connect(\"UsedObjects.db\"))"
   ]
  },
  {
   "cell_type": "code",
   "execution_count": 3,
   "id": "periodic-identification",
   "metadata": {
    "execution": {
     "iopub.execute_input": "2021-10-14T01:00:08.510484Z",
     "iopub.status.busy": "2021-10-14T01:00:08.508391Z",
     "iopub.status.idle": "2021-10-14T01:00:08.528286Z",
     "shell.execute_reply": "2021-10-14T01:00:08.529719Z"
    },
    "papermill": {
     "duration": 0.068226,
     "end_time": "2021-10-14T01:00:08.530138",
     "exception": false,
     "start_time": "2021-10-14T01:00:08.461912",
     "status": "completed"
    },
    "tags": []
   },
   "outputs": [
    {
     "data": {
      "text/html": [
       "<div>\n",
       "<style scoped>\n",
       "    .dataframe tbody tr th:only-of-type {\n",
       "        vertical-align: middle;\n",
       "    }\n",
       "\n",
       "    .dataframe tbody tr th {\n",
       "        vertical-align: top;\n",
       "    }\n",
       "\n",
       "    .dataframe thead th {\n",
       "        text-align: right;\n",
       "    }\n",
       "</style>\n",
       "<table border=\"1\" class=\"dataframe\">\n",
       "  <thead>\n",
       "    <tr style=\"text-align: right;\">\n",
       "      <th></th>\n",
       "      <th>RECORD_TIME</th>\n",
       "    </tr>\n",
       "  </thead>\n",
       "  <tbody>\n",
       "    <tr>\n",
       "      <th>0</th>\n",
       "      <td>2021-10-14 03:00</td>\n",
       "    </tr>\n",
       "    <tr>\n",
       "      <th>1</th>\n",
       "      <td>2021-10-14 02:30</td>\n",
       "    </tr>\n",
       "  </tbody>\n",
       "</table>\n",
       "</div>"
      ],
      "text/plain": [
       "        RECORD_TIME\n",
       "0  2021-10-14 03:00\n",
       "1  2021-10-14 02:30"
      ]
     },
     "execution_count": 3,
     "metadata": {},
     "output_type": "execute_result"
    }
   ],
   "source": [
    "timestamps"
   ]
  },
  {
   "cell_type": "code",
   "execution_count": 4,
   "id": "alternate-victory",
   "metadata": {
    "execution": {
     "iopub.execute_input": "2021-10-14T01:00:08.600343Z",
     "iopub.status.busy": "2021-10-14T01:00:08.598066Z",
     "iopub.status.idle": "2021-10-14T01:00:09.398022Z",
     "shell.execute_reply": "2021-10-14T01:00:09.399226Z"
    },
    "papermill": {
     "duration": 0.837591,
     "end_time": "2021-10-14T01:00:09.399624",
     "exception": false,
     "start_time": "2021-10-14T01:00:08.562033",
     "status": "completed"
    },
    "tags": []
   },
   "outputs": [],
   "source": [
    "df = pd.read_sql(\"select * from EBAY_TOP_BERLIN where record_time in (select distinct record_time from EBAY_TOP_BERLIN order by record_time desc limit 2)\", sqlite3.connect(\"UsedObjects.db\"))"
   ]
  },
  {
   "cell_type": "code",
   "execution_count": 5,
   "id": "popular-active",
   "metadata": {
    "execution": {
     "iopub.execute_input": "2021-10-14T01:00:09.473491Z",
     "iopub.status.busy": "2021-10-14T01:00:09.462510Z",
     "iopub.status.idle": "2021-10-14T01:00:09.489803Z",
     "shell.execute_reply": "2021-10-14T01:00:09.491006Z"
    },
    "papermill": {
     "duration": 0.06739,
     "end_time": "2021-10-14T01:00:09.491408",
     "exception": false,
     "start_time": "2021-10-14T01:00:09.424018",
     "status": "completed"
    },
    "tags": []
   },
   "outputs": [],
   "source": [
    "df_pivot = df.pivot_table(index=\"PRODUCT\", columns = \"RECORD_TIME\", values = \"LISTING_COUNT\")"
   ]
  },
  {
   "cell_type": "code",
   "execution_count": 6,
   "id": "union-huntington",
   "metadata": {
    "execution": {
     "iopub.execute_input": "2021-10-14T01:00:09.550495Z",
     "iopub.status.busy": "2021-10-14T01:00:09.548016Z",
     "iopub.status.idle": "2021-10-14T01:00:09.554035Z",
     "shell.execute_reply": "2021-10-14T01:00:09.555317Z"
    },
    "papermill": {
     "duration": 0.041932,
     "end_time": "2021-10-14T01:00:09.555736",
     "exception": false,
     "start_time": "2021-10-14T01:00:09.513804",
     "status": "completed"
    },
    "tags": []
   },
   "outputs": [],
   "source": [
    "df_pivot.columns = [\"stamp_1\", \"stamp_2\"]\n",
    "df_pivot_diff = df_pivot.diff(axis=1)"
   ]
  },
  {
   "cell_type": "code",
   "execution_count": 7,
   "id": "fifth-motion",
   "metadata": {
    "execution": {
     "iopub.execute_input": "2021-10-14T01:00:09.610316Z",
     "iopub.status.busy": "2021-10-14T01:00:09.607757Z",
     "iopub.status.idle": "2021-10-14T01:00:11.098330Z",
     "shell.execute_reply": "2021-10-14T01:00:11.099617Z"
    },
    "papermill": {
     "duration": 1.524119,
     "end_time": "2021-10-14T01:00:11.100040",
     "exception": false,
     "start_time": "2021-10-14T01:00:09.575921",
     "status": "completed"
    },
    "tags": []
   },
   "outputs": [
    {
     "data": {
      "text/plain": [
       "<AxesSubplot:ylabel='PRODUCT'>"
      ]
     },
     "execution_count": 7,
     "metadata": {},
     "output_type": "execute_result"
    },
    {
     "data": {
      "image/png": "[encoded data removed]",
      "text/plain": [
       "<Figure size 432x288 with 1 Axes>"
      ]
     },
     "metadata": {
      "needs_background": "light"
     },
     "output_type": "display_data"
    }
   ],
   "source": [
    "df_pivot_diff.sort_values(\"stamp_2\", ascending = False)[\"stamp_2\"].head(10).plot.barh()"
   ]
  },
  {
   "cell_type": "code",
   "execution_count": null,
   "id": "extra-executive",
   "metadata": {
    "papermill": {
     "duration": 0.022561,
     "end_time": "2021-10-14T01:00:11.147680",
     "exception": false,
     "start_time": "2021-10-14T01:00:11.125119",
     "status": "completed"
    },
    "tags": []
   },
   "outputs": [],
   "source": []
  }
 ],
 "metadata": {
  "kernelspec": {
   "display_name": "Python 3",
   "language": "python",
   "name": "python3"
  },
  "language_info": {
   "codemirror_mode": {
    "name": "ipython",
    "version": 3
   },
   "file_extension": ".py",
   "mimetype": "text/x-python",
   "name": "python",
   "nbconvert_exporter": "python",
   "pygments_lexer": "ipython3",
   "version": "3.9.5"
  },
  "papermill": {
   "default_parameters": {},
   "duration": 7.830514,
   "end_time": "2021-10-14T01:00:12.424171",
   "environment_variables": {},
   "exception": null,
   "input_path": "eBay_Overview.ipynb",
   "output_path": "eBay_Overview.ipynb",
   "parameters": {},
   "start_time": "2021-10-14T01:00:04.593657",
   "version": "2.3.3"
  }
 },
 "nbformat": 4,
 "nbformat_minor": 5
}