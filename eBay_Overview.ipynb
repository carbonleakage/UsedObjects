{
 "cells": [
  {
   "cell_type": "code",
   "execution_count": 1,
   "id": "reverse-picking",
   "metadata": {
    "execution": {
     "iopub.execute_input": "2021-12-06T11:00:07.381496Z",
     "iopub.status.busy": "2021-12-06T11:00:07.378920Z",
     "iopub.status.idle": "2021-12-06T11:00:08.338727Z",
     "shell.execute_reply": "2021-12-06T11:00:08.340337Z"
    },
    "papermill": {
     "duration": 1.011234,
     "end_time": "2021-12-06T11:00:08.341131",
     "exception": false,
     "start_time": "2021-12-06T11:00:07.329897",
     "status": "completed"
    },
    "tags": []
   },
   "outputs": [],
   "source": [
    "import pandas as pd\n",
    "import sqlite3"
   ]
  },
  {
   "cell_type": "code",
   "execution_count": 2,
   "id": "innovative-syndrome",
   "metadata": {
    "execution": {
     "iopub.execute_input": "2021-12-06T11:00:08.412670Z",
     "iopub.status.busy": "2021-12-06T11:00:08.410323Z",
     "iopub.status.idle": "2021-12-06T11:00:09.418680Z",
     "shell.execute_reply": "2021-12-06T11:00:09.419909Z"
    },
    "papermill": {
     "duration": 1.055724,
     "end_time": "2021-12-06T11:00:09.420312",
     "exception": false,
     "start_time": "2021-12-06T11:00:08.364588",
     "status": "completed"
    },
    "tags": []
   },
   "outputs": [],
   "source": [
    "timestamps = pd.read_sql(\"select distinct record_time from EBAY_TOP_BERLIN order by record_time desc limit 2\", sqlite3.connect(\"UsedObjects.db\"))"
   ]
  },
  {
   "cell_type": "code",
   "execution_count": 3,
   "id": "periodic-identification",
   "metadata": {
    "execution": {
     "iopub.execute_input": "2021-12-06T11:00:09.484104Z",
     "iopub.status.busy": "2021-12-06T11:00:09.481854Z",
     "iopub.status.idle": "2021-12-06T11:00:09.506291Z",
     "shell.execute_reply": "2021-12-06T11:00:09.507763Z"
    },
    "papermill": {
     "duration": 0.068312,
     "end_time": "2021-12-06T11:00:09.508231",
     "exception": false,
     "start_time": "2021-12-06T11:00:09.439919",
     "status": "completed"
    },
    "tags": []
   },
   "outputs": [
    {
     "data": {
      "text/html": [
       "<div>\n",
       "<style scoped>\n",
       "    .dataframe tbody tr th:only-of-type {\n",
       "        vertical-align: middle;\n",
       "    }\n",
       "\n",
       "    .dataframe tbody tr th {\n",
       "        vertical-align: top;\n",
       "    }\n",
       "\n",
       "    .dataframe thead th {\n",
       "        text-align: right;\n",
       "    }\n",
       "</style>\n",
       "<table border=\"1\" class=\"dataframe\">\n",
       "  <thead>\n",
       "    <tr style=\"text-align: right;\">\n",
       "      <th></th>\n",
       "      <th>RECORD_TIME</th>\n",
       "    </tr>\n",
       "  </thead>\n",
       "  <tbody>\n",
       "    <tr>\n",
       "      <th>0</th>\n",
       "      <td>2021-12-06 12:00</td>\n",
       "    </tr>\n",
       "    <tr>\n",
       "      <th>1</th>\n",
       "      <td>2021-12-06 11:30</td>\n",
       "    </tr>\n",
       "  </tbody>\n",
       "</table>\n",
       "</div>"
      ],
      "text/plain": [
       "        RECORD_TIME\n",
       "0  2021-12-06 12:00\n",
       "1  2021-12-06 11:30"
      ]
     },
     "execution_count": 3,
     "metadata": {},
     "output_type": "execute_result"
    }
   ],
   "source": [
    "timestamps"
   ]
  },
  {
   "cell_type": "code",
   "execution_count": 4,
   "id": "alternate-victory",
   "metadata": {
    "execution": {
     "iopub.execute_input": "2021-12-06T11:00:09.563464Z",
     "iopub.status.busy": "2021-12-06T11:00:09.561258Z",
     "iopub.status.idle": "2021-12-06T11:00:11.030031Z",
     "shell.execute_reply": "2021-12-06T11:00:11.031439Z"
    },
    "papermill": {
     "duration": 1.502526,
     "end_time": "2021-12-06T11:00:11.031924",
     "exception": false,
     "start_time": "2021-12-06T11:00:09.529398",
     "status": "completed"
    },
    "tags": []
   },
   "outputs": [],
   "source": [
    "df = pd.read_sql(\"select * from EBAY_TOP_BERLIN where record_time in (select distinct record_time from EBAY_TOP_BERLIN order by record_time desc limit 2)\", sqlite3.connect(\"UsedObjects.db\"))"
   ]
  },
  {
   "cell_type": "code",
   "execution_count": 5,
   "id": "popular-active",
   "metadata": {
    "execution": {
     "iopub.execute_input": "2021-12-06T11:00:11.106633Z",
     "iopub.status.busy": "2021-12-06T11:00:11.093458Z",
     "iopub.status.idle": "2021-12-06T11:00:11.127624Z",
     "shell.execute_reply": "2021-12-06T11:00:11.129384Z"
    },
    "papermill": {
     "duration": 0.07737,
     "end_time": "2021-12-06T11:00:11.129891",
     "exception": false,
     "start_time": "2021-12-06T11:00:11.052521",
     "status": "completed"
    },
    "tags": []
   },
   "outputs": [],
   "source": [
    "df_pivot = df.pivot_table(index=\"PRODUCT\", columns = \"RECORD_TIME\", values = \"LISTING_COUNT\")"
   ]
  },
  {
   "cell_type": "code",
   "execution_count": 6,
   "id": "union-huntington",
   "metadata": {
    "execution": {
     "iopub.execute_input": "2021-12-06T11:00:11.190644Z",
     "iopub.status.busy": "2021-12-06T11:00:11.188392Z",
     "iopub.status.idle": "2021-12-06T11:00:11.193506Z",
     "shell.execute_reply": "2021-12-06T11:00:11.194895Z"
    },
    "papermill": {
     "duration": 0.043375,
     "end_time": "2021-12-06T11:00:11.195353",
     "exception": false,
     "start_time": "2021-12-06T11:00:11.151978",
     "status": "completed"
    },
    "tags": []
   },
   "outputs": [],
   "source": [
    "df_pivot.columns = [\"stamp_1\", \"stamp_2\"]\n",
    "df_pivot_diff = df_pivot.diff(axis=1)"
   ]
  },
  {
   "cell_type": "code",
   "execution_count": 7,
   "id": "fifth-motion",
   "metadata": {
    "execution": {
     "iopub.execute_input": "2021-12-06T11:00:11.252404Z",
     "iopub.status.busy": "2021-12-06T11:00:11.249780Z",
     "iopub.status.idle": "2021-12-06T11:00:13.242469Z",
     "shell.execute_reply": "2021-12-06T11:00:13.244111Z"
    },
    "papermill": {
     "duration": 2.028494,
     "end_time": "2021-12-06T11:00:13.244617",
     "exception": false,
     "start_time": "2021-12-06T11:00:11.216123",
     "status": "completed"
    },
    "tags": []
   },
   "outputs": [
    {
     "data": {
      "text/plain": [
       "<AxesSubplot:ylabel='PRODUCT'>"
      ]
     },
     "execution_count": 7,
     "metadata": {},
     "output_type": "execute_result"
    },
    {
     "data": {
      "image/png": "[encoded data removed]",
      "text/plain": [
       "<Figure size 432x288 with 1 Axes>"
      ]
     },
     "metadata": {
      "needs_background": "light"
     },
     "output_type": "display_data"
    }
   ],
   "source": [
    "df_pivot_diff.sort_values(\"stamp_2\", ascending = False)[\"stamp_2\"].head(10).plot.barh()"
   ]
  },
  {
   "cell_type": "code",
   "execution_count": null,
   "id": "extra-executive",
   "metadata": {
    "papermill": {
     "duration": 0.028571,
     "end_time": "2021-12-06T11:00:13.364129",
     "exception": false,
     "start_time": "2021-12-06T11:00:13.335558",
     "status": "completed"
    },
    "tags": []
   },
   "outputs": [],
   "source": []
  }
 ],
 "metadata": {
  "kernelspec": {
   "display_name": "Python 3",
   "language": "python",
   "name": "python3"
  },
  "language_info": {
   "codemirror_mode": {
    "name": "ipython",
    "version": 3
   },
   "file_extension": ".py",
   "mimetype": "text/x-python",
   "name": "python",
   "nbconvert_exporter": "python",
   "pygments_lexer": "ipython3",
   "version": "3.9.5"
  },
  "papermill": {
   "default_parameters": {},
   "duration": 9.945205,
   "end_time": "2021-12-06T11:00:14.532088",
   "environment_variables": {},
   "exception": null,
   "input_path": "eBay_Overview.ipynb",
   "output_path": "eBay_Overview.ipynb",
   "parameters": {},
   "start_time": "2021-12-06T11:00:04.586883",
   "version": "2.3.3"
  }
 },
 "nbformat": 4,
 "nbformat_minor": 5
}