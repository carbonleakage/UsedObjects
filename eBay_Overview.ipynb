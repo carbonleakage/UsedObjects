{
 "cells": [
  {
   "cell_type": "code",
   "execution_count": 1,
   "id": "reverse-picking",
   "metadata": {
    "execution": {
     "iopub.execute_input": "2021-09-04T17:30:06.946096Z",
     "iopub.status.busy": "2021-09-04T17:30:06.944105Z",
     "iopub.status.idle": "2021-09-04T17:30:07.745093Z",
     "shell.execute_reply": "2021-09-04T17:30:07.746358Z"
    },
    "papermill": {
     "duration": 0.851273,
     "end_time": "2021-09-04T17:30:07.747037",
     "exception": false,
     "start_time": "2021-09-04T17:30:06.895764",
     "status": "completed"
    },
    "tags": []
   },
   "outputs": [],
   "source": [
    "import pandas as pd\n",
    "import sqlite3"
   ]
  },
  {
   "cell_type": "code",
   "execution_count": 2,
   "id": "innovative-syndrome",
   "metadata": {
    "execution": {
     "iopub.execute_input": "2021-09-04T17:30:07.796656Z",
     "iopub.status.busy": "2021-09-04T17:30:07.794682Z",
     "iopub.status.idle": "2021-09-04T17:30:07.997544Z",
     "shell.execute_reply": "2021-09-04T17:30:07.998764Z"
    },
    "papermill": {
     "duration": 0.23214,
     "end_time": "2021-09-04T17:30:07.999220",
     "exception": false,
     "start_time": "2021-09-04T17:30:07.767080",
     "status": "completed"
    },
    "tags": []
   },
   "outputs": [],
   "source": [
    "timestamps = pd.read_sql(\"select distinct record_time from EBAY_TOP_BERLIN order by record_time desc limit 2\", sqlite3.connect(\"UsedObjects.db\"))"
   ]
  },
  {
   "cell_type": "code",
   "execution_count": 3,
   "id": "periodic-identification",
   "metadata": {
    "execution": {
     "iopub.execute_input": "2021-09-04T17:30:08.064323Z",
     "iopub.status.busy": "2021-09-04T17:30:08.061981Z",
     "iopub.status.idle": "2021-09-04T17:30:08.084688Z",
     "shell.execute_reply": "2021-09-04T17:30:08.083415Z"
    },
    "papermill": {
     "duration": 0.06511,
     "end_time": "2021-09-04T17:30:08.085039",
     "exception": false,
     "start_time": "2021-09-04T17:30:08.019929",
     "status": "completed"
    },
    "tags": []
   },
   "outputs": [
    {
     "data": {
      "text/html": [
       "<div>\n",
       "<style scoped>\n",
       "    .dataframe tbody tr th:only-of-type {\n",
       "        vertical-align: middle;\n",
       "    }\n",
       "\n",
       "    .dataframe tbody tr th {\n",
       "        vertical-align: top;\n",
       "    }\n",
       "\n",
       "    .dataframe thead th {\n",
       "        text-align: right;\n",
       "    }\n",
       "</style>\n",
       "<table border=\"1\" class=\"dataframe\">\n",
       "  <thead>\n",
       "    <tr style=\"text-align: right;\">\n",
       "      <th></th>\n",
       "      <th>RECORD_TIME</th>\n",
       "    </tr>\n",
       "  </thead>\n",
       "  <tbody>\n",
       "    <tr>\n",
       "      <th>0</th>\n",
       "      <td>2021-09-04 19:30</td>\n",
       "    </tr>\n",
       "    <tr>\n",
       "      <th>1</th>\n",
       "      <td>2021-09-04 19:00</td>\n",
       "    </tr>\n",
       "  </tbody>\n",
       "</table>\n",
       "</div>"
      ],
      "text/plain": [
       "        RECORD_TIME\n",
       "0  2021-09-04 19:30\n",
       "1  2021-09-04 19:00"
      ]
     },
     "execution_count": 3,
     "metadata": {},
     "output_type": "execute_result"
    }
   ],
   "source": [
    "timestamps"
   ]
  },
  {
   "cell_type": "code",
   "execution_count": 4,
   "id": "alternate-victory",
   "metadata": {
    "execution": {
     "iopub.execute_input": "2021-09-04T17:30:08.138822Z",
     "iopub.status.busy": "2021-09-04T17:30:08.136547Z",
     "iopub.status.idle": "2021-09-04T17:30:08.447453Z",
     "shell.execute_reply": "2021-09-04T17:30:08.448968Z"
    },
    "papermill": {
     "duration": 0.34134,
     "end_time": "2021-09-04T17:30:08.449414",
     "exception": false,
     "start_time": "2021-09-04T17:30:08.108074",
     "status": "completed"
    },
    "tags": []
   },
   "outputs": [],
   "source": [
    "df = pd.read_sql(\"select * from EBAY_TOP_BERLIN where record_time in (select distinct record_time from EBAY_TOP_BERLIN order by record_time desc limit 2)\", sqlite3.connect(\"UsedObjects.db\"))"
   ]
  },
  {
   "cell_type": "code",
   "execution_count": 5,
   "id": "popular-active",
   "metadata": {
    "execution": {
     "iopub.execute_input": "2021-09-04T17:30:08.529774Z",
     "iopub.status.busy": "2021-09-04T17:30:08.517270Z",
     "iopub.status.idle": "2021-09-04T17:30:08.545720Z",
     "shell.execute_reply": "2021-09-04T17:30:08.547153Z"
    },
    "papermill": {
     "duration": 0.072136,
     "end_time": "2021-09-04T17:30:08.547577",
     "exception": false,
     "start_time": "2021-09-04T17:30:08.475441",
     "status": "completed"
    },
    "tags": []
   },
   "outputs": [],
   "source": [
    "df_pivot = df.pivot_table(index=\"PRODUCT\", columns = \"RECORD_TIME\", values = \"LISTING_COUNT\")"
   ]
  },
  {
   "cell_type": "code",
   "execution_count": 6,
   "id": "union-huntington",
   "metadata": {
    "execution": {
     "iopub.execute_input": "2021-09-04T17:30:08.606250Z",
     "iopub.status.busy": "2021-09-04T17:30:08.603772Z",
     "iopub.status.idle": "2021-09-04T17:30:08.610938Z",
     "shell.execute_reply": "2021-09-04T17:30:08.609599Z"
    },
    "papermill": {
     "duration": 0.041901,
     "end_time": "2021-09-04T17:30:08.611320",
     "exception": false,
     "start_time": "2021-09-04T17:30:08.569419",
     "status": "completed"
    },
    "tags": []
   },
   "outputs": [],
   "source": [
    "df_pivot.columns = [\"stamp_1\", \"stamp_2\"]\n",
    "df_pivot_diff = df_pivot.diff(axis=1)"
   ]
  },
  {
   "cell_type": "code",
   "execution_count": 7,
   "id": "fifth-motion",
   "metadata": {
    "execution": {
     "iopub.execute_input": "2021-09-04T17:30:08.665291Z",
     "iopub.status.busy": "2021-09-04T17:30:08.662826Z",
     "iopub.status.idle": "2021-09-04T17:30:10.149405Z",
     "shell.execute_reply": "2021-09-04T17:30:10.150692Z"
    },
    "papermill": {
     "duration": 1.520024,
     "end_time": "2021-09-04T17:30:10.151328",
     "exception": false,
     "start_time": "2021-09-04T17:30:08.631304",
     "status": "completed"
    },
    "tags": []
   },
   "outputs": [
    {
     "data": {
      "text/plain": [
       "<AxesSubplot:ylabel='PRODUCT'>"
      ]
     },
     "execution_count": 7,
     "metadata": {},
     "output_type": "execute_result"
    },
    {
     "data": {
      "image/png": "[encoded data removed]",
      "text/plain": [
       "<Figure size 432x288 with 1 Axes>"
      ]
     },
     "metadata": {
      "needs_background": "light"
     },
     "output_type": "display_data"
    }
   ],
   "source": [
    "df_pivot_diff.sort_values(\"stamp_2\", ascending = False)[\"stamp_2\"].head(10).plot.barh()"
   ]
  },
  {
   "cell_type": "code",
   "execution_count": null,
   "id": "extra-executive",
   "metadata": {
    "papermill": {
     "duration": 0.022145,
     "end_time": "2021-09-04T17:30:10.199203",
     "exception": false,
     "start_time": "2021-09-04T17:30:10.177058",
     "status": "completed"
    },
    "tags": []
   },
   "outputs": [],
   "source": []
  }
 ],
 "metadata": {
  "kernelspec": {
   "display_name": "Python 3",
   "language": "python",
   "name": "python3"
  },
  "language_info": {
   "codemirror_mode": {
    "name": "ipython",
    "version": 3
   },
   "file_extension": ".py",
   "mimetype": "text/x-python",
   "name": "python",
   "nbconvert_exporter": "python",
   "pygments_lexer": "ipython3",
   "version": "3.9.5"
  },
  "papermill": {
   "default_parameters": {},
   "duration": 6.352233,
   "end_time": "2021-09-04T17:30:10.840109",
   "environment_variables": {},
   "exception": null,
   "input_path": "eBay_Overview.ipynb",
   "output_path": "eBay_Overview.ipynb",
   "parameters": {},
   "start_time": "2021-09-04T17:30:04.487876",
   "version": "2.3.3"
  }
 },
 "nbformat": 4,
 "nbformat_minor": 5
}