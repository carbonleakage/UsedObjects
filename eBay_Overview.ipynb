{
 "cells": [
  {
   "cell_type": "code",
   "execution_count": 1,
   "id": "reverse-picking",
   "metadata": {
    "execution": {
     "iopub.execute_input": "2021-09-20T02:30:07.449436Z",
     "iopub.status.busy": "2021-09-20T02:30:07.447474Z",
     "iopub.status.idle": "2021-09-20T02:30:08.248399Z",
     "shell.execute_reply": "2021-09-20T02:30:08.249715Z"
    },
    "papermill": {
     "duration": 0.851508,
     "end_time": "2021-09-20T02:30:08.250350",
     "exception": false,
     "start_time": "2021-09-20T02:30:07.398842",
     "status": "completed"
    },
    "tags": []
   },
   "outputs": [],
   "source": [
    "import pandas as pd\n",
    "import sqlite3"
   ]
  },
  {
   "cell_type": "code",
   "execution_count": 2,
   "id": "innovative-syndrome",
   "metadata": {
    "execution": {
     "iopub.execute_input": "2021-09-20T02:30:08.300422Z",
     "iopub.status.busy": "2021-09-20T02:30:08.298047Z",
     "iopub.status.idle": "2021-09-20T02:30:08.630041Z",
     "shell.execute_reply": "2021-09-20T02:30:08.631571Z"
    },
    "papermill": {
     "duration": 0.362086,
     "end_time": "2021-09-20T02:30:08.632011",
     "exception": false,
     "start_time": "2021-09-20T02:30:08.269925",
     "status": "completed"
    },
    "tags": []
   },
   "outputs": [],
   "source": [
    "timestamps = pd.read_sql(\"select distinct record_time from EBAY_TOP_BERLIN order by record_time desc limit 2\", sqlite3.connect(\"UsedObjects.db\"))"
   ]
  },
  {
   "cell_type": "code",
   "execution_count": 3,
   "id": "periodic-identification",
   "metadata": {
    "execution": {
     "iopub.execute_input": "2021-09-20T02:30:08.696858Z",
     "iopub.status.busy": "2021-09-20T02:30:08.694729Z",
     "iopub.status.idle": "2021-09-20T02:30:08.717083Z",
     "shell.execute_reply": "2021-09-20T02:30:08.718278Z"
    },
    "papermill": {
     "duration": 0.067494,
     "end_time": "2021-09-20T02:30:08.718701",
     "exception": false,
     "start_time": "2021-09-20T02:30:08.651207",
     "status": "completed"
    },
    "tags": []
   },
   "outputs": [
    {
     "data": {
      "text/html": [
       "<div>\n",
       "<style scoped>\n",
       "    .dataframe tbody tr th:only-of-type {\n",
       "        vertical-align: middle;\n",
       "    }\n",
       "\n",
       "    .dataframe tbody tr th {\n",
       "        vertical-align: top;\n",
       "    }\n",
       "\n",
       "    .dataframe thead th {\n",
       "        text-align: right;\n",
       "    }\n",
       "</style>\n",
       "<table border=\"1\" class=\"dataframe\">\n",
       "  <thead>\n",
       "    <tr style=\"text-align: right;\">\n",
       "      <th></th>\n",
       "      <th>RECORD_TIME</th>\n",
       "    </tr>\n",
       "  </thead>\n",
       "  <tbody>\n",
       "    <tr>\n",
       "      <th>0</th>\n",
       "      <td>2021-09-20 04:30</td>\n",
       "    </tr>\n",
       "    <tr>\n",
       "      <th>1</th>\n",
       "      <td>2021-09-20 04:00</td>\n",
       "    </tr>\n",
       "  </tbody>\n",
       "</table>\n",
       "</div>"
      ],
      "text/plain": [
       "        RECORD_TIME\n",
       "0  2021-09-20 04:30\n",
       "1  2021-09-20 04:00"
      ]
     },
     "execution_count": 3,
     "metadata": {},
     "output_type": "execute_result"
    }
   ],
   "source": [
    "timestamps"
   ]
  },
  {
   "cell_type": "code",
   "execution_count": 4,
   "id": "alternate-victory",
   "metadata": {
    "execution": {
     "iopub.execute_input": "2021-09-20T02:30:08.771569Z",
     "iopub.status.busy": "2021-09-20T02:30:08.769498Z",
     "iopub.status.idle": "2021-09-20T02:30:09.252298Z",
     "shell.execute_reply": "2021-09-20T02:30:09.253680Z"
    },
    "papermill": {
     "duration": 0.512688,
     "end_time": "2021-09-20T02:30:09.254113",
     "exception": false,
     "start_time": "2021-09-20T02:30:08.741425",
     "status": "completed"
    },
    "tags": []
   },
   "outputs": [],
   "source": [
    "df = pd.read_sql(\"select * from EBAY_TOP_BERLIN where record_time in (select distinct record_time from EBAY_TOP_BERLIN order by record_time desc limit 2)\", sqlite3.connect(\"UsedObjects.db\"))"
   ]
  },
  {
   "cell_type": "code",
   "execution_count": 5,
   "id": "popular-active",
   "metadata": {
    "execution": {
     "iopub.execute_input": "2021-09-20T02:30:09.339355Z",
     "iopub.status.busy": "2021-09-20T02:30:09.332380Z",
     "iopub.status.idle": "2021-09-20T02:30:09.354580Z",
     "shell.execute_reply": "2021-09-20T02:30:09.355873Z"
    },
    "papermill": {
     "duration": 0.07269,
     "end_time": "2021-09-20T02:30:09.356269",
     "exception": false,
     "start_time": "2021-09-20T02:30:09.283579",
     "status": "completed"
    },
    "tags": []
   },
   "outputs": [],
   "source": [
    "df_pivot = df.pivot_table(index=\"PRODUCT\", columns = \"RECORD_TIME\", values = \"LISTING_COUNT\")"
   ]
  },
  {
   "cell_type": "code",
   "execution_count": 6,
   "id": "union-huntington",
   "metadata": {
    "execution": {
     "iopub.execute_input": "2021-09-20T02:30:09.412054Z",
     "iopub.status.busy": "2021-09-20T02:30:09.409850Z",
     "iopub.status.idle": "2021-09-20T02:30:09.415500Z",
     "shell.execute_reply": "2021-09-20T02:30:09.416771Z"
    },
    "papermill": {
     "duration": 0.040525,
     "end_time": "2021-09-20T02:30:09.417214",
     "exception": false,
     "start_time": "2021-09-20T02:30:09.376689",
     "status": "completed"
    },
    "tags": []
   },
   "outputs": [],
   "source": [
    "df_pivot.columns = [\"stamp_1\", \"stamp_2\"]\n",
    "df_pivot_diff = df_pivot.diff(axis=1)"
   ]
  },
  {
   "cell_type": "code",
   "execution_count": 7,
   "id": "fifth-motion",
   "metadata": {
    "execution": {
     "iopub.execute_input": "2021-09-20T02:30:09.471635Z",
     "iopub.status.busy": "2021-09-20T02:30:09.469053Z",
     "iopub.status.idle": "2021-09-20T02:30:10.990934Z",
     "shell.execute_reply": "2021-09-20T02:30:10.992151Z"
    },
    "papermill": {
     "duration": 1.554336,
     "end_time": "2021-09-20T02:30:10.992583",
     "exception": false,
     "start_time": "2021-09-20T02:30:09.438247",
     "status": "completed"
    },
    "tags": []
   },
   "outputs": [
    {
     "data": {
      "text/plain": [
       "<AxesSubplot:ylabel='PRODUCT'>"
      ]
     },
     "execution_count": 7,
     "metadata": {},
     "output_type": "execute_result"
    },
    {
     "data": {
      "image/png": "[encoded data removed]",
      "text/plain": [
       "<Figure size 432x288 with 1 Axes>"
      ]
     },
     "metadata": {
      "needs_background": "light"
     },
     "output_type": "display_data"
    }
   ],
   "source": [
    "df_pivot_diff.sort_values(\"stamp_2\", ascending = False)[\"stamp_2\"].head(10).plot.barh()"
   ]
  },
  {
   "cell_type": "code",
   "execution_count": null,
   "id": "extra-executive",
   "metadata": {
    "papermill": {
     "duration": 0.022084,
     "end_time": "2021-09-20T02:30:11.038193",
     "exception": false,
     "start_time": "2021-09-20T02:30:11.016109",
     "status": "completed"
    },
    "tags": []
   },
   "outputs": [],
   "source": []
  }
 ],
 "metadata": {
  "kernelspec": {
   "display_name": "Python 3",
   "language": "python",
   "name": "python3"
  },
  "language_info": {
   "codemirror_mode": {
    "name": "ipython",
    "version": 3
   },
   "file_extension": ".py",
   "mimetype": "text/x-python",
   "name": "python",
   "nbconvert_exporter": "python",
   "pygments_lexer": "ipython3",
   "version": "3.9.5"
  },
  "papermill": {
   "default_parameters": {},
   "duration": 6.670365,
   "end_time": "2021-09-20T02:30:11.678970",
   "environment_variables": {},
   "exception": null,
   "input_path": "eBay_Overview.ipynb",
   "output_path": "eBay_Overview.ipynb",
   "parameters": {},
   "start_time": "2021-09-20T02:30:05.008605",
   "version": "2.3.3"
  }
 },
 "nbformat": 4,
 "nbformat_minor": 5
}