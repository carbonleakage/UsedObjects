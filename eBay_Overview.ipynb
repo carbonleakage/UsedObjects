{
 "cells": [
  {
   "cell_type": "code",
   "execution_count": 1,
   "id": "reverse-picking",
   "metadata": {
    "execution": {
     "iopub.execute_input": "2021-11-22T14:00:07.570467Z",
     "iopub.status.busy": "2021-11-22T14:00:07.568099Z",
     "iopub.status.idle": "2021-11-22T14:00:08.537608Z",
     "shell.execute_reply": "2021-11-22T14:00:08.539171Z"
    },
    "papermill": {
     "duration": 1.019731,
     "end_time": "2021-11-22T14:00:08.539897",
     "exception": false,
     "start_time": "2021-11-22T14:00:07.520166",
     "status": "completed"
    },
    "tags": []
   },
   "outputs": [],
   "source": [
    "import pandas as pd\n",
    "import sqlite3"
   ]
  },
  {
   "cell_type": "code",
   "execution_count": 2,
   "id": "innovative-syndrome",
   "metadata": {
    "execution": {
     "iopub.execute_input": "2021-11-22T14:00:08.626229Z",
     "iopub.status.busy": "2021-11-22T14:00:08.623972Z",
     "iopub.status.idle": "2021-11-22T14:00:09.527219Z",
     "shell.execute_reply": "2021-11-22T14:00:09.528571Z"
    },
    "papermill": {
     "duration": 0.936633,
     "end_time": "2021-11-22T14:00:09.529100",
     "exception": false,
     "start_time": "2021-11-22T14:00:08.592467",
     "status": "completed"
    },
    "tags": []
   },
   "outputs": [],
   "source": [
    "timestamps = pd.read_sql(\"select distinct record_time from EBAY_TOP_BERLIN order by record_time desc limit 2\", sqlite3.connect(\"UsedObjects.db\"))"
   ]
  },
  {
   "cell_type": "code",
   "execution_count": 3,
   "id": "periodic-identification",
   "metadata": {
    "execution": {
     "iopub.execute_input": "2021-11-22T14:00:09.603613Z",
     "iopub.status.busy": "2021-11-22T14:00:09.597358Z",
     "iopub.status.idle": "2021-11-22T14:00:09.624311Z",
     "shell.execute_reply": "2021-11-22T14:00:09.625907Z"
    },
    "papermill": {
     "duration": 0.076447,
     "end_time": "2021-11-22T14:00:09.626431",
     "exception": false,
     "start_time": "2021-11-22T14:00:09.549984",
     "status": "completed"
    },
    "tags": []
   },
   "outputs": [
    {
     "data": {
      "text/html": [
       "<div>\n",
       "<style scoped>\n",
       "    .dataframe tbody tr th:only-of-type {\n",
       "        vertical-align: middle;\n",
       "    }\n",
       "\n",
       "    .dataframe tbody tr th {\n",
       "        vertical-align: top;\n",
       "    }\n",
       "\n",
       "    .dataframe thead th {\n",
       "        text-align: right;\n",
       "    }\n",
       "</style>\n",
       "<table border=\"1\" class=\"dataframe\">\n",
       "  <thead>\n",
       "    <tr style=\"text-align: right;\">\n",
       "      <th></th>\n",
       "      <th>RECORD_TIME</th>\n",
       "    </tr>\n",
       "  </thead>\n",
       "  <tbody>\n",
       "    <tr>\n",
       "      <th>0</th>\n",
       "      <td>2021-11-22 15:00</td>\n",
       "    </tr>\n",
       "    <tr>\n",
       "      <th>1</th>\n",
       "      <td>2021-11-22 14:30</td>\n",
       "    </tr>\n",
       "  </tbody>\n",
       "</table>\n",
       "</div>"
      ],
      "text/plain": [
       "        RECORD_TIME\n",
       "0  2021-11-22 15:00\n",
       "1  2021-11-22 14:30"
      ]
     },
     "execution_count": 3,
     "metadata": {},
     "output_type": "execute_result"
    }
   ],
   "source": [
    "timestamps"
   ]
  },
  {
   "cell_type": "code",
   "execution_count": 4,
   "id": "alternate-victory",
   "metadata": {
    "execution": {
     "iopub.execute_input": "2021-11-22T14:00:09.682389Z",
     "iopub.status.busy": "2021-11-22T14:00:09.680204Z",
     "iopub.status.idle": "2021-11-22T14:00:10.971602Z",
     "shell.execute_reply": "2021-11-22T14:00:10.973252Z"
    },
    "papermill": {
     "duration": 1.326235,
     "end_time": "2021-11-22T14:00:10.973783",
     "exception": false,
     "start_time": "2021-11-22T14:00:09.647548",
     "status": "completed"
    },
    "tags": []
   },
   "outputs": [],
   "source": [
    "df = pd.read_sql(\"select * from EBAY_TOP_BERLIN where record_time in (select distinct record_time from EBAY_TOP_BERLIN order by record_time desc limit 2)\", sqlite3.connect(\"UsedObjects.db\"))"
   ]
  },
  {
   "cell_type": "code",
   "execution_count": 5,
   "id": "popular-active",
   "metadata": {
    "execution": {
     "iopub.execute_input": "2021-11-22T14:00:11.052153Z",
     "iopub.status.busy": "2021-11-22T14:00:11.037205Z",
     "iopub.status.idle": "2021-11-22T14:00:11.070037Z",
     "shell.execute_reply": "2021-11-22T14:00:11.071314Z"
    },
    "papermill": {
     "duration": 0.076122,
     "end_time": "2021-11-22T14:00:11.071762",
     "exception": false,
     "start_time": "2021-11-22T14:00:10.995640",
     "status": "completed"
    },
    "tags": []
   },
   "outputs": [],
   "source": [
    "df_pivot = df.pivot_table(index=\"PRODUCT\", columns = \"RECORD_TIME\", values = \"LISTING_COUNT\")"
   ]
  },
  {
   "cell_type": "code",
   "execution_count": 6,
   "id": "union-huntington",
   "metadata": {
    "execution": {
     "iopub.execute_input": "2021-11-22T14:00:11.131643Z",
     "iopub.status.busy": "2021-11-22T14:00:11.129255Z",
     "iopub.status.idle": "2021-11-22T14:00:11.135169Z",
     "shell.execute_reply": "2021-11-22T14:00:11.136646Z"
    },
    "papermill": {
     "duration": 0.045774,
     "end_time": "2021-11-22T14:00:11.137251",
     "exception": false,
     "start_time": "2021-11-22T14:00:11.091477",
     "status": "completed"
    },
    "tags": []
   },
   "outputs": [],
   "source": [
    "df_pivot.columns = [\"stamp_1\", \"stamp_2\"]\n",
    "df_pivot_diff = df_pivot.diff(axis=1)"
   ]
  },
  {
   "cell_type": "code",
   "execution_count": 7,
   "id": "fifth-motion",
   "metadata": {
    "execution": {
     "iopub.execute_input": "2021-11-22T14:00:11.197232Z",
     "iopub.status.busy": "2021-11-22T14:00:11.194711Z",
     "iopub.status.idle": "2021-11-22T14:00:13.077375Z",
     "shell.execute_reply": "2021-11-22T14:00:13.078586Z"
    },
    "papermill": {
     "duration": 1.919131,
     "end_time": "2021-11-22T14:00:13.079049",
     "exception": false,
     "start_time": "2021-11-22T14:00:11.159918",
     "status": "completed"
    },
    "tags": []
   },
   "outputs": [
    {
     "data": {
      "text/plain": [
       "<AxesSubplot:ylabel='PRODUCT'>"
      ]
     },
     "execution_count": 7,
     "metadata": {},
     "output_type": "execute_result"
    },
    {
     "data": {
      "image/png": "[encoded data removed]",
      "text/plain": [
       "<Figure size 432x288 with 1 Axes>"
      ]
     },
     "metadata": {
      "needs_background": "light"
     },
     "output_type": "display_data"
    }
   ],
   "source": [
    "df_pivot_diff.sort_values(\"stamp_2\", ascending = False)[\"stamp_2\"].head(10).plot.barh()"
   ]
  },
  {
   "cell_type": "code",
   "execution_count": null,
   "id": "extra-executive",
   "metadata": {
    "papermill": {
     "duration": 0.023156,
     "end_time": "2021-11-22T14:00:13.126792",
     "exception": false,
     "start_time": "2021-11-22T14:00:13.103636",
     "status": "completed"
    },
    "tags": []
   },
   "outputs": [],
   "source": []
  }
 ],
 "metadata": {
  "kernelspec": {
   "display_name": "Python 3",
   "language": "python",
   "name": "python3"
  },
  "language_info": {
   "codemirror_mode": {
    "name": "ipython",
    "version": 3
   },
   "file_extension": ".py",
   "mimetype": "text/x-python",
   "name": "python",
   "nbconvert_exporter": "python",
   "pygments_lexer": "ipython3",
   "version": "3.9.5"
  },
  "papermill": {
   "default_parameters": {},
   "duration": 9.92483,
   "end_time": "2021-11-22T14:00:14.716425",
   "environment_variables": {},
   "exception": null,
   "input_path": "eBay_Overview.ipynb",
   "output_path": "eBay_Overview.ipynb",
   "parameters": {},
   "start_time": "2021-11-22T14:00:04.791595",
   "version": "2.3.3"
  }
 },
 "nbformat": 4,
 "nbformat_minor": 5
}