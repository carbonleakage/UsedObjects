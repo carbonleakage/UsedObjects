{
 "cells": [
  {
   "cell_type": "code",
   "execution_count": 1,
   "id": "reverse-picking",
   "metadata": {
    "execution": {
     "iopub.execute_input": "2021-12-18T04:30:08.169360Z",
     "iopub.status.busy": "2021-12-18T04:30:08.166825Z",
     "iopub.status.idle": "2021-12-18T04:30:09.124911Z",
     "shell.execute_reply": "2021-12-18T04:30:09.122896Z"
    },
    "papermill": {
     "duration": 1.005383,
     "end_time": "2021-12-18T04:30:09.125405",
     "exception": false,
     "start_time": "2021-12-18T04:30:08.120022",
     "status": "completed"
    },
    "tags": []
   },
   "outputs": [],
   "source": [
    "import pandas as pd\n",
    "import sqlite3"
   ]
  },
  {
   "cell_type": "code",
   "execution_count": 2,
   "id": "innovative-syndrome",
   "metadata": {
    "execution": {
     "iopub.execute_input": "2021-12-18T04:30:09.193255Z",
     "iopub.status.busy": "2021-12-18T04:30:09.190893Z",
     "iopub.status.idle": "2021-12-18T04:30:10.283755Z",
     "shell.execute_reply": "2021-12-18T04:30:10.285122Z"
    },
    "papermill": {
     "duration": 1.126364,
     "end_time": "2021-12-18T04:30:10.285562",
     "exception": false,
     "start_time": "2021-12-18T04:30:09.159198",
     "status": "completed"
    },
    "tags": []
   },
   "outputs": [],
   "source": [
    "timestamps = pd.read_sql(\"select distinct record_time from EBAY_TOP_BERLIN order by record_time desc limit 2\", sqlite3.connect(\"UsedObjects.db\"))"
   ]
  },
  {
   "cell_type": "code",
   "execution_count": 3,
   "id": "periodic-identification",
   "metadata": {
    "execution": {
     "iopub.execute_input": "2021-12-18T04:30:10.351494Z",
     "iopub.status.busy": "2021-12-18T04:30:10.349479Z",
     "iopub.status.idle": "2021-12-18T04:30:10.371281Z",
     "shell.execute_reply": "2021-12-18T04:30:10.372872Z"
    },
    "papermill": {
     "duration": 0.068555,
     "end_time": "2021-12-18T04:30:10.373398",
     "exception": false,
     "start_time": "2021-12-18T04:30:10.304843",
     "status": "completed"
    },
    "tags": []
   },
   "outputs": [
    {
     "data": {
      "text/html": [
       "<div>\n",
       "<style scoped>\n",
       "    .dataframe tbody tr th:only-of-type {\n",
       "        vertical-align: middle;\n",
       "    }\n",
       "\n",
       "    .dataframe tbody tr th {\n",
       "        vertical-align: top;\n",
       "    }\n",
       "\n",
       "    .dataframe thead th {\n",
       "        text-align: right;\n",
       "    }\n",
       "</style>\n",
       "<table border=\"1\" class=\"dataframe\">\n",
       "  <thead>\n",
       "    <tr style=\"text-align: right;\">\n",
       "      <th></th>\n",
       "      <th>RECORD_TIME</th>\n",
       "    </tr>\n",
       "  </thead>\n",
       "  <tbody>\n",
       "    <tr>\n",
       "      <th>0</th>\n",
       "      <td>2021-12-18 05:30</td>\n",
       "    </tr>\n",
       "    <tr>\n",
       "      <th>1</th>\n",
       "      <td>2021-12-18 05:00</td>\n",
       "    </tr>\n",
       "  </tbody>\n",
       "</table>\n",
       "</div>"
      ],
      "text/plain": [
       "        RECORD_TIME\n",
       "0  2021-12-18 05:30\n",
       "1  2021-12-18 05:00"
      ]
     },
     "execution_count": 3,
     "metadata": {},
     "output_type": "execute_result"
    }
   ],
   "source": [
    "timestamps"
   ]
  },
  {
   "cell_type": "code",
   "execution_count": 4,
   "id": "alternate-victory",
   "metadata": {
    "execution": {
     "iopub.execute_input": "2021-12-18T04:30:10.427404Z",
     "iopub.status.busy": "2021-12-18T04:30:10.425203Z",
     "iopub.status.idle": "2021-12-18T04:30:12.070702Z",
     "shell.execute_reply": "2021-12-18T04:30:12.072159Z"
    },
    "papermill": {
     "duration": 1.679352,
     "end_time": "2021-12-18T04:30:12.072626",
     "exception": false,
     "start_time": "2021-12-18T04:30:10.393274",
     "status": "completed"
    },
    "tags": []
   },
   "outputs": [],
   "source": [
    "df = pd.read_sql(\"select * from EBAY_TOP_BERLIN where record_time in (select distinct record_time from EBAY_TOP_BERLIN order by record_time desc limit 2)\", sqlite3.connect(\"UsedObjects.db\"))"
   ]
  },
  {
   "cell_type": "code",
   "execution_count": 5,
   "id": "popular-active",
   "metadata": {
    "execution": {
     "iopub.execute_input": "2021-12-18T04:30:12.150751Z",
     "iopub.status.busy": "2021-12-18T04:30:12.137085Z",
     "iopub.status.idle": "2021-12-18T04:30:12.170425Z",
     "shell.execute_reply": "2021-12-18T04:30:12.168947Z"
    },
    "papermill": {
     "duration": 0.07794,
     "end_time": "2021-12-18T04:30:12.170830",
     "exception": false,
     "start_time": "2021-12-18T04:30:12.092890",
     "status": "completed"
    },
    "tags": []
   },
   "outputs": [],
   "source": [
    "df_pivot = df.pivot_table(index=\"PRODUCT\", columns = \"RECORD_TIME\", values = \"LISTING_COUNT\")"
   ]
  },
  {
   "cell_type": "code",
   "execution_count": 6,
   "id": "union-huntington",
   "metadata": {
    "execution": {
     "iopub.execute_input": "2021-12-18T04:30:12.228078Z",
     "iopub.status.busy": "2021-12-18T04:30:12.225879Z",
     "iopub.status.idle": "2021-12-18T04:30:12.232068Z",
     "shell.execute_reply": "2021-12-18T04:30:12.233533Z"
    },
    "papermill": {
     "duration": 0.043786,
     "end_time": "2021-12-18T04:30:12.234021",
     "exception": false,
     "start_time": "2021-12-18T04:30:12.190235",
     "status": "completed"
    },
    "tags": []
   },
   "outputs": [],
   "source": [
    "df_pivot.columns = [\"stamp_1\", \"stamp_2\"]\n",
    "df_pivot_diff = df_pivot.diff(axis=1)"
   ]
  },
  {
   "cell_type": "code",
   "execution_count": 7,
   "id": "fifth-motion",
   "metadata": {
    "execution": {
     "iopub.execute_input": "2021-12-18T04:30:12.292209Z",
     "iopub.status.busy": "2021-12-18T04:30:12.289350Z",
     "iopub.status.idle": "2021-12-18T04:30:14.272597Z",
     "shell.execute_reply": "2021-12-18T04:30:14.274149Z"
    },
    "papermill": {
     "duration": 2.020696,
     "end_time": "2021-12-18T04:30:14.274607",
     "exception": false,
     "start_time": "2021-12-18T04:30:12.253911",
     "status": "completed"
    },
    "tags": []
   },
   "outputs": [
    {
     "data": {
      "text/plain": [
       "<AxesSubplot:ylabel='PRODUCT'>"
      ]
     },
     "execution_count": 7,
     "metadata": {},
     "output_type": "execute_result"
    },
    {
     "data": {
      "image/png": "[encoded data removed]",
      "text/plain": [
       "<Figure size 432x288 with 1 Axes>"
      ]
     },
     "metadata": {
      "needs_background": "light"
     },
     "output_type": "display_data"
    }
   ],
   "source": [
    "df_pivot_diff.sort_values(\"stamp_2\", ascending = False)[\"stamp_2\"].head(10).plot.barh()"
   ]
  },
  {
   "cell_type": "code",
   "execution_count": null,
   "id": "extra-executive",
   "metadata": {
    "papermill": {
     "duration": 0.026832,
     "end_time": "2021-12-18T04:30:14.333412",
     "exception": false,
     "start_time": "2021-12-18T04:30:14.306580",
     "status": "completed"
    },
    "tags": []
   },
   "outputs": [],
   "source": []
  }
 ],
 "metadata": {
  "kernelspec": {
   "display_name": "Python 3",
   "language": "python",
   "name": "python3"
  },
  "language_info": {
   "codemirror_mode": {
    "name": "ipython",
    "version": 3
   },
   "file_extension": ".py",
   "mimetype": "text/x-python",
   "name": "python",
   "nbconvert_exporter": "python",
   "pygments_lexer": "ipython3",
   "version": "3.9.5"
  },
  "papermill": {
   "default_parameters": {},
   "duration": 9.600488,
   "end_time": "2021-12-18T04:30:14.986303",
   "environment_variables": {},
   "exception": null,
   "input_path": "eBay_Overview.ipynb",
   "output_path": "eBay_Overview.ipynb",
   "parameters": {},
   "start_time": "2021-12-18T04:30:05.385815",
   "version": "2.3.3"
  }
 },
 "nbformat": 4,
 "nbformat_minor": 5
}