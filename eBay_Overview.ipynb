{
 "cells": [
  {
   "cell_type": "code",
   "execution_count": 1,
   "id": "reverse-picking",
   "metadata": {
    "execution": {
     "iopub.execute_input": "2021-10-30T01:30:07.461284Z",
     "iopub.status.busy": "2021-10-30T01:30:07.459231Z",
     "iopub.status.idle": "2021-10-30T01:30:08.258868Z",
     "shell.execute_reply": "2021-10-30T01:30:08.260120Z"
    },
    "papermill": {
     "duration": 0.851951,
     "end_time": "2021-10-30T01:30:08.260908",
     "exception": false,
     "start_time": "2021-10-30T01:30:07.408957",
     "status": "completed"
    },
    "tags": []
   },
   "outputs": [],
   "source": [
    "import pandas as pd\n",
    "import sqlite3"
   ]
  },
  {
   "cell_type": "code",
   "execution_count": 2,
   "id": "innovative-syndrome",
   "metadata": {
    "execution": {
     "iopub.execute_input": "2021-10-30T01:30:08.314209Z",
     "iopub.status.busy": "2021-10-30T01:30:08.311812Z",
     "iopub.status.idle": "2021-10-30T01:30:09.021015Z",
     "shell.execute_reply": "2021-10-30T01:30:09.022205Z"
    },
    "papermill": {
     "duration": 0.739269,
     "end_time": "2021-10-30T01:30:09.022644",
     "exception": false,
     "start_time": "2021-10-30T01:30:08.283375",
     "status": "completed"
    },
    "tags": []
   },
   "outputs": [],
   "source": [
    "timestamps = pd.read_sql(\"select distinct record_time from EBAY_TOP_BERLIN order by record_time desc limit 2\", sqlite3.connect(\"UsedObjects.db\"))"
   ]
  },
  {
   "cell_type": "code",
   "execution_count": 3,
   "id": "periodic-identification",
   "metadata": {
    "execution": {
     "iopub.execute_input": "2021-10-30T01:30:09.099968Z",
     "iopub.status.busy": "2021-10-30T01:30:09.097964Z",
     "iopub.status.idle": "2021-10-30T01:30:09.122493Z",
     "shell.execute_reply": "2021-10-30T01:30:09.123781Z"
    },
    "papermill": {
     "duration": 0.075376,
     "end_time": "2021-10-30T01:30:09.124194",
     "exception": false,
     "start_time": "2021-10-30T01:30:09.048818",
     "status": "completed"
    },
    "tags": []
   },
   "outputs": [
    {
     "data": {
      "text/html": [
       "<div>\n",
       "<style scoped>\n",
       "    .dataframe tbody tr th:only-of-type {\n",
       "        vertical-align: middle;\n",
       "    }\n",
       "\n",
       "    .dataframe tbody tr th {\n",
       "        vertical-align: top;\n",
       "    }\n",
       "\n",
       "    .dataframe thead th {\n",
       "        text-align: right;\n",
       "    }\n",
       "</style>\n",
       "<table border=\"1\" class=\"dataframe\">\n",
       "  <thead>\n",
       "    <tr style=\"text-align: right;\">\n",
       "      <th></th>\n",
       "      <th>RECORD_TIME</th>\n",
       "    </tr>\n",
       "  </thead>\n",
       "  <tbody>\n",
       "    <tr>\n",
       "      <th>0</th>\n",
       "      <td>2021-10-30 03:30</td>\n",
       "    </tr>\n",
       "    <tr>\n",
       "      <th>1</th>\n",
       "      <td>2021-10-30 03:00</td>\n",
       "    </tr>\n",
       "  </tbody>\n",
       "</table>\n",
       "</div>"
      ],
      "text/plain": [
       "        RECORD_TIME\n",
       "0  2021-10-30 03:30\n",
       "1  2021-10-30 03:00"
      ]
     },
     "execution_count": 3,
     "metadata": {},
     "output_type": "execute_result"
    }
   ],
   "source": [
    "timestamps"
   ]
  },
  {
   "cell_type": "code",
   "execution_count": 4,
   "id": "alternate-victory",
   "metadata": {
    "execution": {
     "iopub.execute_input": "2021-10-30T01:30:09.177469Z",
     "iopub.status.busy": "2021-10-30T01:30:09.175128Z",
     "iopub.status.idle": "2021-10-30T01:30:10.163593Z",
     "shell.execute_reply": "2021-10-30T01:30:10.164882Z"
    },
    "papermill": {
     "duration": 1.018958,
     "end_time": "2021-10-30T01:30:10.165338",
     "exception": false,
     "start_time": "2021-10-30T01:30:09.146380",
     "status": "completed"
    },
    "tags": []
   },
   "outputs": [],
   "source": [
    "df = pd.read_sql(\"select * from EBAY_TOP_BERLIN where record_time in (select distinct record_time from EBAY_TOP_BERLIN order by record_time desc limit 2)\", sqlite3.connect(\"UsedObjects.db\"))"
   ]
  },
  {
   "cell_type": "code",
   "execution_count": 5,
   "id": "popular-active",
   "metadata": {
    "execution": {
     "iopub.execute_input": "2021-10-30T01:30:10.235904Z",
     "iopub.status.busy": "2021-10-30T01:30:10.223291Z",
     "iopub.status.idle": "2021-10-30T01:30:10.253563Z",
     "shell.execute_reply": "2021-10-30T01:30:10.254867Z"
    },
    "papermill": {
     "duration": 0.069133,
     "end_time": "2021-10-30T01:30:10.255329",
     "exception": false,
     "start_time": "2021-10-30T01:30:10.186196",
     "status": "completed"
    },
    "tags": []
   },
   "outputs": [],
   "source": [
    "df_pivot = df.pivot_table(index=\"PRODUCT\", columns = \"RECORD_TIME\", values = \"LISTING_COUNT\")"
   ]
  },
  {
   "cell_type": "code",
   "execution_count": 6,
   "id": "union-huntington",
   "metadata": {
    "execution": {
     "iopub.execute_input": "2021-10-30T01:30:10.312327Z",
     "iopub.status.busy": "2021-10-30T01:30:10.310154Z",
     "iopub.status.idle": "2021-10-30T01:30:10.315362Z",
     "shell.execute_reply": "2021-10-30T01:30:10.316649Z"
    },
    "papermill": {
     "duration": 0.041212,
     "end_time": "2021-10-30T01:30:10.317125",
     "exception": false,
     "start_time": "2021-10-30T01:30:10.275913",
     "status": "completed"
    },
    "tags": []
   },
   "outputs": [],
   "source": [
    "df_pivot.columns = [\"stamp_1\", \"stamp_2\"]\n",
    "df_pivot_diff = df_pivot.diff(axis=1)"
   ]
  },
  {
   "cell_type": "code",
   "execution_count": 7,
   "id": "fifth-motion",
   "metadata": {
    "execution": {
     "iopub.execute_input": "2021-10-30T01:30:10.371539Z",
     "iopub.status.busy": "2021-10-30T01:30:10.369164Z",
     "iopub.status.idle": "2021-10-30T01:30:11.870698Z",
     "shell.execute_reply": "2021-10-30T01:30:11.871986Z"
    },
    "papermill": {
     "duration": 1.534599,
     "end_time": "2021-10-30T01:30:11.872413",
     "exception": false,
     "start_time": "2021-10-30T01:30:10.337814",
     "status": "completed"
    },
    "tags": []
   },
   "outputs": [
    {
     "data": {
      "text/plain": [
       "<AxesSubplot:ylabel='PRODUCT'>"
      ]
     },
     "execution_count": 7,
     "metadata": {},
     "output_type": "execute_result"
    },
    {
     "data": {
      "image/png": "[encoded data removed]",
      "text/plain": [
       "<Figure size 432x288 with 1 Axes>"
      ]
     },
     "metadata": {
      "needs_background": "light"
     },
     "output_type": "display_data"
    }
   ],
   "source": [
    "df_pivot_diff.sort_values(\"stamp_2\", ascending = False)[\"stamp_2\"].head(10).plot.barh()"
   ]
  },
  {
   "cell_type": "code",
   "execution_count": null,
   "id": "extra-executive",
   "metadata": {
    "papermill": {
     "duration": 0.022382,
     "end_time": "2021-10-30T01:30:11.920307",
     "exception": false,
     "start_time": "2021-10-30T01:30:11.897925",
     "status": "completed"
    },
    "tags": []
   },
   "outputs": [],
   "source": []
  }
 ],
 "metadata": {
  "kernelspec": {
   "display_name": "Python 3",
   "language": "python",
   "name": "python3"
  },
  "language_info": {
   "codemirror_mode": {
    "name": "ipython",
    "version": 3
   },
   "file_extension": ".py",
   "mimetype": "text/x-python",
   "name": "python",
   "nbconvert_exporter": "python",
   "pygments_lexer": "ipython3",
   "version": "3.9.5"
  },
  "papermill": {
   "default_parameters": {},
   "duration": 7.586553,
   "end_time": "2021-10-30T01:30:12.601246",
   "environment_variables": {},
   "exception": null,
   "input_path": "eBay_Overview.ipynb",
   "output_path": "eBay_Overview.ipynb",
   "parameters": {},
   "start_time": "2021-10-30T01:30:05.014693",
   "version": "2.3.3"
  }
 },
 "nbformat": 4,
 "nbformat_minor": 5
}