{
 "cells": [
  {
   "cell_type": "code",
   "execution_count": 1,
   "id": "reverse-picking",
   "metadata": {
    "execution": {
     "iopub.execute_input": "2021-12-14T17:00:07.558667Z",
     "iopub.status.busy": "2021-12-14T17:00:07.556417Z",
     "iopub.status.idle": "2021-12-14T17:00:08.514428Z",
     "shell.execute_reply": "2021-12-14T17:00:08.512399Z"
    },
    "papermill": {
     "duration": 1.003581,
     "end_time": "2021-12-14T17:00:08.514900",
     "exception": false,
     "start_time": "2021-12-14T17:00:07.511319",
     "status": "completed"
    },
    "tags": []
   },
   "outputs": [],
   "source": [
    "import pandas as pd\n",
    "import sqlite3"
   ]
  },
  {
   "cell_type": "code",
   "execution_count": 2,
   "id": "innovative-syndrome",
   "metadata": {
    "execution": {
     "iopub.execute_input": "2021-12-14T17:00:08.575739Z",
     "iopub.status.busy": "2021-12-14T17:00:08.572923Z",
     "iopub.status.idle": "2021-12-14T17:00:09.676850Z",
     "shell.execute_reply": "2021-12-14T17:00:09.678917Z"
    },
    "papermill": {
     "duration": 1.137581,
     "end_time": "2021-12-14T17:00:09.679397",
     "exception": false,
     "start_time": "2021-12-14T17:00:08.541816",
     "status": "completed"
    },
    "tags": []
   },
   "outputs": [],
   "source": [
    "timestamps = pd.read_sql(\"select distinct record_time from EBAY_TOP_BERLIN order by record_time desc limit 2\", sqlite3.connect(\"UsedObjects.db\"))"
   ]
  },
  {
   "cell_type": "code",
   "execution_count": 3,
   "id": "periodic-identification",
   "metadata": {
    "execution": {
     "iopub.execute_input": "2021-12-14T17:00:09.751148Z",
     "iopub.status.busy": "2021-12-14T17:00:09.748905Z",
     "iopub.status.idle": "2021-12-14T17:00:09.770432Z",
     "shell.execute_reply": "2021-12-14T17:00:09.771806Z"
    },
    "papermill": {
     "duration": 0.070572,
     "end_time": "2021-12-14T17:00:09.772284",
     "exception": false,
     "start_time": "2021-12-14T17:00:09.701712",
     "status": "completed"
    },
    "tags": []
   },
   "outputs": [
    {
     "data": {
      "text/html": [
       "<div>\n",
       "<style scoped>\n",
       "    .dataframe tbody tr th:only-of-type {\n",
       "        vertical-align: middle;\n",
       "    }\n",
       "\n",
       "    .dataframe tbody tr th {\n",
       "        vertical-align: top;\n",
       "    }\n",
       "\n",
       "    .dataframe thead th {\n",
       "        text-align: right;\n",
       "    }\n",
       "</style>\n",
       "<table border=\"1\" class=\"dataframe\">\n",
       "  <thead>\n",
       "    <tr style=\"text-align: right;\">\n",
       "      <th></th>\n",
       "      <th>RECORD_TIME</th>\n",
       "    </tr>\n",
       "  </thead>\n",
       "  <tbody>\n",
       "    <tr>\n",
       "      <th>0</th>\n",
       "      <td>2021-12-14 18:00</td>\n",
       "    </tr>\n",
       "    <tr>\n",
       "      <th>1</th>\n",
       "      <td>2021-12-14 17:30</td>\n",
       "    </tr>\n",
       "  </tbody>\n",
       "</table>\n",
       "</div>"
      ],
      "text/plain": [
       "        RECORD_TIME\n",
       "0  2021-12-14 18:00\n",
       "1  2021-12-14 17:30"
      ]
     },
     "execution_count": 3,
     "metadata": {},
     "output_type": "execute_result"
    }
   ],
   "source": [
    "timestamps"
   ]
  },
  {
   "cell_type": "code",
   "execution_count": 4,
   "id": "alternate-victory",
   "metadata": {
    "execution": {
     "iopub.execute_input": "2021-12-14T17:00:09.827380Z",
     "iopub.status.busy": "2021-12-14T17:00:09.822145Z",
     "iopub.status.idle": "2021-12-14T17:00:11.407174Z",
     "shell.execute_reply": "2021-12-14T17:00:11.409270Z"
    },
    "papermill": {
     "duration": 1.616375,
     "end_time": "2021-12-14T17:00:11.409777",
     "exception": false,
     "start_time": "2021-12-14T17:00:09.793402",
     "status": "completed"
    },
    "tags": []
   },
   "outputs": [],
   "source": [
    "df = pd.read_sql(\"select * from EBAY_TOP_BERLIN where record_time in (select distinct record_time from EBAY_TOP_BERLIN order by record_time desc limit 2)\", sqlite3.connect(\"UsedObjects.db\"))"
   ]
  },
  {
   "cell_type": "code",
   "execution_count": 5,
   "id": "popular-active",
   "metadata": {
    "execution": {
     "iopub.execute_input": "2021-12-14T17:00:11.491855Z",
     "iopub.status.busy": "2021-12-14T17:00:11.475758Z",
     "iopub.status.idle": "2021-12-14T17:00:11.511760Z",
     "shell.execute_reply": "2021-12-14T17:00:11.513415Z"
    },
    "papermill": {
     "duration": 0.081677,
     "end_time": "2021-12-14T17:00:11.513896",
     "exception": false,
     "start_time": "2021-12-14T17:00:11.432219",
     "status": "completed"
    },
    "tags": []
   },
   "outputs": [],
   "source": [
    "df_pivot = df.pivot_table(index=\"PRODUCT\", columns = \"RECORD_TIME\", values = \"LISTING_COUNT\")"
   ]
  },
  {
   "cell_type": "code",
   "execution_count": 6,
   "id": "union-huntington",
   "metadata": {
    "execution": {
     "iopub.execute_input": "2021-12-14T17:00:11.572628Z",
     "iopub.status.busy": "2021-12-14T17:00:11.570480Z",
     "iopub.status.idle": "2021-12-14T17:00:11.576052Z",
     "shell.execute_reply": "2021-12-14T17:00:11.577460Z"
    },
    "papermill": {
     "duration": 0.042512,
     "end_time": "2021-12-14T17:00:11.577933",
     "exception": false,
     "start_time": "2021-12-14T17:00:11.535421",
     "status": "completed"
    },
    "tags": []
   },
   "outputs": [],
   "source": [
    "df_pivot.columns = [\"stamp_1\", \"stamp_2\"]\n",
    "df_pivot_diff = df_pivot.diff(axis=1)"
   ]
  },
  {
   "cell_type": "code",
   "execution_count": 7,
   "id": "fifth-motion",
   "metadata": {
    "execution": {
     "iopub.execute_input": "2021-12-14T17:00:11.634085Z",
     "iopub.status.busy": "2021-12-14T17:00:11.631415Z",
     "iopub.status.idle": "2021-12-14T17:00:13.605612Z",
     "shell.execute_reply": "2021-12-14T17:00:13.607481Z"
    },
    "papermill": {
     "duration": 2.010724,
     "end_time": "2021-12-14T17:00:13.608101",
     "exception": false,
     "start_time": "2021-12-14T17:00:11.597377",
     "status": "completed"
    },
    "tags": []
   },
   "outputs": [
    {
     "data": {
      "text/plain": [
       "<AxesSubplot:ylabel='PRODUCT'>"
      ]
     },
     "execution_count": 7,
     "metadata": {},
     "output_type": "execute_result"
    },
    {
     "data": {
      "image/png": "[encoded data removed]",
      "text/plain": [
       "<Figure size 432x288 with 1 Axes>"
      ]
     },
     "metadata": {
      "needs_background": "light"
     },
     "output_type": "display_data"
    }
   ],
   "source": [
    "df_pivot_diff.sort_values(\"stamp_2\", ascending = False)[\"stamp_2\"].head(10).plot.barh()"
   ]
  },
  {
   "cell_type": "code",
   "execution_count": null,
   "id": "extra-executive",
   "metadata": {
    "papermill": {
     "duration": 0.026131,
     "end_time": "2021-12-14T17:00:13.667922",
     "exception": false,
     "start_time": "2021-12-14T17:00:13.641791",
     "status": "completed"
    },
    "tags": []
   },
   "outputs": [],
   "source": []
  }
 ],
 "metadata": {
  "kernelspec": {
   "display_name": "Python 3",
   "language": "python",
   "name": "python3"
  },
  "language_info": {
   "codemirror_mode": {
    "name": "ipython",
    "version": 3
   },
   "file_extension": ".py",
   "mimetype": "text/x-python",
   "name": "python",
   "nbconvert_exporter": "python",
   "pygments_lexer": "ipython3",
   "version": "3.9.5"
  },
  "papermill": {
   "default_parameters": {},
   "duration": 9.526125,
   "end_time": "2021-12-14T17:00:14.312446",
   "environment_variables": {},
   "exception": null,
   "input_path": "eBay_Overview.ipynb",
   "output_path": "eBay_Overview.ipynb",
   "parameters": {},
   "start_time": "2021-12-14T17:00:04.786321",
   "version": "2.3.3"
  }
 },
 "nbformat": 4,
 "nbformat_minor": 5
}