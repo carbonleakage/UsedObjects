{
 "cells": [
  {
   "cell_type": "code",
   "execution_count": 1,
   "id": "reverse-picking",
   "metadata": {
    "execution": {
     "iopub.execute_input": "2021-12-15T01:30:07.583087Z",
     "iopub.status.busy": "2021-12-15T01:30:07.581193Z",
     "iopub.status.idle": "2021-12-15T01:30:08.533879Z",
     "shell.execute_reply": "2021-12-15T01:30:08.535415Z"
    },
    "papermill": {
     "duration": 0.998802,
     "end_time": "2021-12-15T01:30:08.536152",
     "exception": false,
     "start_time": "2021-12-15T01:30:07.537350",
     "status": "completed"
    },
    "tags": []
   },
   "outputs": [],
   "source": [
    "import pandas as pd\n",
    "import sqlite3"
   ]
  },
  {
   "cell_type": "code",
   "execution_count": 2,
   "id": "innovative-syndrome",
   "metadata": {
    "execution": {
     "iopub.execute_input": "2021-12-15T01:30:08.601932Z",
     "iopub.status.busy": "2021-12-15T01:30:08.599610Z",
     "iopub.status.idle": "2021-12-15T01:30:09.674711Z",
     "shell.execute_reply": "2021-12-15T01:30:09.677285Z"
    },
    "papermill": {
     "duration": 1.109771,
     "end_time": "2021-12-15T01:30:09.677816",
     "exception": false,
     "start_time": "2021-12-15T01:30:08.568045",
     "status": "completed"
    },
    "tags": []
   },
   "outputs": [],
   "source": [
    "timestamps = pd.read_sql(\"select distinct record_time from EBAY_TOP_BERLIN order by record_time desc limit 2\", sqlite3.connect(\"UsedObjects.db\"))"
   ]
  },
  {
   "cell_type": "code",
   "execution_count": 3,
   "id": "periodic-identification",
   "metadata": {
    "execution": {
     "iopub.execute_input": "2021-12-15T01:30:09.748870Z",
     "iopub.status.busy": "2021-12-15T01:30:09.725626Z",
     "iopub.status.idle": "2021-12-15T01:30:09.770497Z",
     "shell.execute_reply": "2021-12-15T01:30:09.771911Z"
    },
    "papermill": {
     "duration": 0.07401,
     "end_time": "2021-12-15T01:30:09.772398",
     "exception": false,
     "start_time": "2021-12-15T01:30:09.698388",
     "status": "completed"
    },
    "tags": []
   },
   "outputs": [
    {
     "data": {
      "text/html": [
       "<div>\n",
       "<style scoped>\n",
       "    .dataframe tbody tr th:only-of-type {\n",
       "        vertical-align: middle;\n",
       "    }\n",
       "\n",
       "    .dataframe tbody tr th {\n",
       "        vertical-align: top;\n",
       "    }\n",
       "\n",
       "    .dataframe thead th {\n",
       "        text-align: right;\n",
       "    }\n",
       "</style>\n",
       "<table border=\"1\" class=\"dataframe\">\n",
       "  <thead>\n",
       "    <tr style=\"text-align: right;\">\n",
       "      <th></th>\n",
       "      <th>RECORD_TIME</th>\n",
       "    </tr>\n",
       "  </thead>\n",
       "  <tbody>\n",
       "    <tr>\n",
       "      <th>0</th>\n",
       "      <td>2021-12-15 02:30</td>\n",
       "    </tr>\n",
       "    <tr>\n",
       "      <th>1</th>\n",
       "      <td>2021-12-15 02:00</td>\n",
       "    </tr>\n",
       "  </tbody>\n",
       "</table>\n",
       "</div>"
      ],
      "text/plain": [
       "        RECORD_TIME\n",
       "0  2021-12-15 02:30\n",
       "1  2021-12-15 02:00"
      ]
     },
     "execution_count": 3,
     "metadata": {},
     "output_type": "execute_result"
    }
   ],
   "source": [
    "timestamps"
   ]
  },
  {
   "cell_type": "code",
   "execution_count": 4,
   "id": "alternate-victory",
   "metadata": {
    "execution": {
     "iopub.execute_input": "2021-12-15T01:30:09.826822Z",
     "iopub.status.busy": "2021-12-15T01:30:09.824625Z",
     "iopub.status.idle": "2021-12-15T01:30:11.368452Z",
     "shell.execute_reply": "2021-12-15T01:30:11.370591Z"
    },
    "papermill": {
     "duration": 1.577989,
     "end_time": "2021-12-15T01:30:11.371068",
     "exception": false,
     "start_time": "2021-12-15T01:30:09.793079",
     "status": "completed"
    },
    "tags": []
   },
   "outputs": [],
   "source": [
    "df = pd.read_sql(\"select * from EBAY_TOP_BERLIN where record_time in (select distinct record_time from EBAY_TOP_BERLIN order by record_time desc limit 2)\", sqlite3.connect(\"UsedObjects.db\"))"
   ]
  },
  {
   "cell_type": "code",
   "execution_count": 5,
   "id": "popular-active",
   "metadata": {
    "execution": {
     "iopub.execute_input": "2021-12-15T01:30:11.452452Z",
     "iopub.status.busy": "2021-12-15T01:30:11.439574Z",
     "iopub.status.idle": "2021-12-15T01:30:11.476466Z",
     "shell.execute_reply": "2021-12-15T01:30:11.479874Z"
    },
    "papermill": {
     "duration": 0.086217,
     "end_time": "2021-12-15T01:30:11.480404",
     "exception": false,
     "start_time": "2021-12-15T01:30:11.394187",
     "status": "completed"
    },
    "tags": []
   },
   "outputs": [],
   "source": [
    "df_pivot = df.pivot_table(index=\"PRODUCT\", columns = \"RECORD_TIME\", values = \"LISTING_COUNT\")"
   ]
  },
  {
   "cell_type": "code",
   "execution_count": 6,
   "id": "union-huntington",
   "metadata": {
    "execution": {
     "iopub.execute_input": "2021-12-15T01:30:11.545130Z",
     "iopub.status.busy": "2021-12-15T01:30:11.542585Z",
     "iopub.status.idle": "2021-12-15T01:30:11.547960Z",
     "shell.execute_reply": "2021-12-15T01:30:11.549932Z"
    },
    "papermill": {
     "duration": 0.047739,
     "end_time": "2021-12-15T01:30:11.550426",
     "exception": false,
     "start_time": "2021-12-15T01:30:11.502687",
     "status": "completed"
    },
    "tags": []
   },
   "outputs": [],
   "source": [
    "df_pivot.columns = [\"stamp_1\", \"stamp_2\"]\n",
    "df_pivot_diff = df_pivot.diff(axis=1)"
   ]
  },
  {
   "cell_type": "code",
   "execution_count": 7,
   "id": "fifth-motion",
   "metadata": {
    "execution": {
     "iopub.execute_input": "2021-12-15T01:30:11.606420Z",
     "iopub.status.busy": "2021-12-15T01:30:11.603916Z",
     "iopub.status.idle": "2021-12-15T01:30:13.617153Z",
     "shell.execute_reply": "2021-12-15T01:30:13.619033Z"
    },
    "papermill": {
     "duration": 2.048718,
     "end_time": "2021-12-15T01:30:13.619646",
     "exception": false,
     "start_time": "2021-12-15T01:30:11.570928",
     "status": "completed"
    },
    "tags": []
   },
   "outputs": [
    {
     "data": {
      "text/plain": [
       "<AxesSubplot:ylabel='PRODUCT'>"
      ]
     },
     "execution_count": 7,
     "metadata": {},
     "output_type": "execute_result"
    },
    {
     "data": {
      "image/png": "[encoded data removed]",
      "text/plain": [
       "<Figure size 432x288 with 1 Axes>"
      ]
     },
     "metadata": {
      "needs_background": "light"
     },
     "output_type": "display_data"
    }
   ],
   "source": [
    "df_pivot_diff.sort_values(\"stamp_2\", ascending = False)[\"stamp_2\"].head(10).plot.barh()"
   ]
  },
  {
   "cell_type": "code",
   "execution_count": null,
   "id": "extra-executive",
   "metadata": {
    "papermill": {
     "duration": 0.027385,
     "end_time": "2021-12-15T01:30:13.680877",
     "exception": false,
     "start_time": "2021-12-15T01:30:13.653492",
     "status": "completed"
    },
    "tags": []
   },
   "outputs": [],
   "source": []
  }
 ],
 "metadata": {
  "kernelspec": {
   "display_name": "Python 3",
   "language": "python",
   "name": "python3"
  },
  "language_info": {
   "codemirror_mode": {
    "name": "ipython",
    "version": 3
   },
   "file_extension": ".py",
   "mimetype": "text/x-python",
   "name": "python",
   "nbconvert_exporter": "python",
   "pygments_lexer": "ipython3",
   "version": "3.9.5"
  },
  "papermill": {
   "default_parameters": {},
   "duration": 9.532505,
   "end_time": "2021-12-15T01:30:14.327273",
   "environment_variables": {},
   "exception": null,
   "input_path": "eBay_Overview.ipynb",
   "output_path": "eBay_Overview.ipynb",
   "parameters": {},
   "start_time": "2021-12-15T01:30:04.794768",
   "version": "2.3.3"
  }
 },
 "nbformat": 4,
 "nbformat_minor": 5
}