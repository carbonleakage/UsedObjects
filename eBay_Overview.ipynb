{
 "cells": [
  {
   "cell_type": "code",
   "execution_count": 1,
   "id": "reverse-picking",
   "metadata": {
    "execution": {
     "iopub.execute_input": "2021-10-30T21:30:06.755328Z",
     "iopub.status.busy": "2021-10-30T21:30:06.753421Z",
     "iopub.status.idle": "2021-10-30T21:30:07.560229Z",
     "shell.execute_reply": "2021-10-30T21:30:07.561598Z"
    },
    "papermill": {
     "duration": 0.860191,
     "end_time": "2021-10-30T21:30:07.562219",
     "exception": false,
     "start_time": "2021-10-30T21:30:06.702028",
     "status": "completed"
    },
    "tags": []
   },
   "outputs": [],
   "source": [
    "import pandas as pd\n",
    "import sqlite3"
   ]
  },
  {
   "cell_type": "code",
   "execution_count": 2,
   "id": "innovative-syndrome",
   "metadata": {
    "execution": {
     "iopub.execute_input": "2021-10-30T21:30:07.614635Z",
     "iopub.status.busy": "2021-10-30T21:30:07.612325Z",
     "iopub.status.idle": "2021-10-30T21:30:08.289184Z",
     "shell.execute_reply": "2021-10-30T21:30:08.290490Z"
    },
    "papermill": {
     "duration": 0.706341,
     "end_time": "2021-10-30T21:30:08.290890",
     "exception": false,
     "start_time": "2021-10-30T21:30:07.584549",
     "status": "completed"
    },
    "tags": []
   },
   "outputs": [],
   "source": [
    "timestamps = pd.read_sql(\"select distinct record_time from EBAY_TOP_BERLIN order by record_time desc limit 2\", sqlite3.connect(\"UsedObjects.db\"))"
   ]
  },
  {
   "cell_type": "code",
   "execution_count": 3,
   "id": "periodic-identification",
   "metadata": {
    "execution": {
     "iopub.execute_input": "2021-10-30T21:30:08.369041Z",
     "iopub.status.busy": "2021-10-30T21:30:08.363960Z",
     "iopub.status.idle": "2021-10-30T21:30:08.387115Z",
     "shell.execute_reply": "2021-10-30T21:30:08.388573Z"
    },
    "papermill": {
     "duration": 0.072682,
     "end_time": "2021-10-30T21:30:08.389152",
     "exception": false,
     "start_time": "2021-10-30T21:30:08.316470",
     "status": "completed"
    },
    "tags": []
   },
   "outputs": [
    {
     "data": {
      "text/html": [
       "<div>\n",
       "<style scoped>\n",
       "    .dataframe tbody tr th:only-of-type {\n",
       "        vertical-align: middle;\n",
       "    }\n",
       "\n",
       "    .dataframe tbody tr th {\n",
       "        vertical-align: top;\n",
       "    }\n",
       "\n",
       "    .dataframe thead th {\n",
       "        text-align: right;\n",
       "    }\n",
       "</style>\n",
       "<table border=\"1\" class=\"dataframe\">\n",
       "  <thead>\n",
       "    <tr style=\"text-align: right;\">\n",
       "      <th></th>\n",
       "      <th>RECORD_TIME</th>\n",
       "    </tr>\n",
       "  </thead>\n",
       "  <tbody>\n",
       "    <tr>\n",
       "      <th>0</th>\n",
       "      <td>2021-10-30 23:30</td>\n",
       "    </tr>\n",
       "    <tr>\n",
       "      <th>1</th>\n",
       "      <td>2021-10-30 23:00</td>\n",
       "    </tr>\n",
       "  </tbody>\n",
       "</table>\n",
       "</div>"
      ],
      "text/plain": [
       "        RECORD_TIME\n",
       "0  2021-10-30 23:30\n",
       "1  2021-10-30 23:00"
      ]
     },
     "execution_count": 3,
     "metadata": {},
     "output_type": "execute_result"
    }
   ],
   "source": [
    "timestamps"
   ]
  },
  {
   "cell_type": "code",
   "execution_count": 4,
   "id": "alternate-victory",
   "metadata": {
    "execution": {
     "iopub.execute_input": "2021-10-30T21:30:08.440571Z",
     "iopub.status.busy": "2021-10-30T21:30:08.438650Z",
     "iopub.status.idle": "2021-10-30T21:30:09.502290Z",
     "shell.execute_reply": "2021-10-30T21:30:09.503583Z"
    },
    "papermill": {
     "duration": 1.093893,
     "end_time": "2021-10-30T21:30:09.504000",
     "exception": false,
     "start_time": "2021-10-30T21:30:08.410107",
     "status": "completed"
    },
    "tags": []
   },
   "outputs": [],
   "source": [
    "df = pd.read_sql(\"select * from EBAY_TOP_BERLIN where record_time in (select distinct record_time from EBAY_TOP_BERLIN order by record_time desc limit 2)\", sqlite3.connect(\"UsedObjects.db\"))"
   ]
  },
  {
   "cell_type": "code",
   "execution_count": 5,
   "id": "popular-active",
   "metadata": {
    "execution": {
     "iopub.execute_input": "2021-10-30T21:30:09.574530Z",
     "iopub.status.busy": "2021-10-30T21:30:09.562344Z",
     "iopub.status.idle": "2021-10-30T21:30:09.590312Z",
     "shell.execute_reply": "2021-10-30T21:30:09.591512Z"
    },
    "papermill": {
     "duration": 0.067926,
     "end_time": "2021-10-30T21:30:09.591905",
     "exception": false,
     "start_time": "2021-10-30T21:30:09.523979",
     "status": "completed"
    },
    "tags": []
   },
   "outputs": [],
   "source": [
    "df_pivot = df.pivot_table(index=\"PRODUCT\", columns = \"RECORD_TIME\", values = \"LISTING_COUNT\")"
   ]
  },
  {
   "cell_type": "code",
   "execution_count": 6,
   "id": "union-huntington",
   "metadata": {
    "execution": {
     "iopub.execute_input": "2021-10-30T21:30:09.647345Z",
     "iopub.status.busy": "2021-10-30T21:30:09.645290Z",
     "iopub.status.idle": "2021-10-30T21:30:09.650499Z",
     "shell.execute_reply": "2021-10-30T21:30:09.651767Z"
    },
    "papermill": {
     "duration": 0.040217,
     "end_time": "2021-10-30T21:30:09.652182",
     "exception": false,
     "start_time": "2021-10-30T21:30:09.611965",
     "status": "completed"
    },
    "tags": []
   },
   "outputs": [],
   "source": [
    "df_pivot.columns = [\"stamp_1\", \"stamp_2\"]\n",
    "df_pivot_diff = df_pivot.diff(axis=1)"
   ]
  },
  {
   "cell_type": "code",
   "execution_count": 7,
   "id": "fifth-motion",
   "metadata": {
    "execution": {
     "iopub.execute_input": "2021-10-30T21:30:09.708093Z",
     "iopub.status.busy": "2021-10-30T21:30:09.705496Z",
     "iopub.status.idle": "2021-10-30T21:30:11.204474Z",
     "shell.execute_reply": "2021-10-30T21:30:11.205842Z"
    },
    "papermill": {
     "duration": 1.532936,
     "end_time": "2021-10-30T21:30:11.206264",
     "exception": false,
     "start_time": "2021-10-30T21:30:09.673328",
     "status": "completed"
    },
    "tags": []
   },
   "outputs": [
    {
     "data": {
      "text/plain": [
       "<AxesSubplot:ylabel='PRODUCT'>"
      ]
     },
     "execution_count": 7,
     "metadata": {},
     "output_type": "execute_result"
    },
    {
     "data": {
      "image/png": "[encoded data removed]",
      "text/plain": [
       "<Figure size 432x288 with 1 Axes>"
      ]
     },
     "metadata": {
      "needs_background": "light"
     },
     "output_type": "display_data"
    }
   ],
   "source": [
    "df_pivot_diff.sort_values(\"stamp_2\", ascending = False)[\"stamp_2\"].head(10).plot.barh()"
   ]
  },
  {
   "cell_type": "code",
   "execution_count": null,
   "id": "extra-executive",
   "metadata": {
    "papermill": {
     "duration": 0.022385,
     "end_time": "2021-10-30T21:30:11.252651",
     "exception": false,
     "start_time": "2021-10-30T21:30:11.230266",
     "status": "completed"
    },
    "tags": []
   },
   "outputs": [],
   "source": []
  }
 ],
 "metadata": {
  "kernelspec": {
   "display_name": "Python 3",
   "language": "python",
   "name": "python3"
  },
  "language_info": {
   "codemirror_mode": {
    "name": "ipython",
    "version": 3
   },
   "file_extension": ".py",
   "mimetype": "text/x-python",
   "name": "python",
   "nbconvert_exporter": "python",
   "pygments_lexer": "ipython3",
   "version": "3.9.5"
  },
  "papermill": {
   "default_parameters": {},
   "duration": 7.598459,
   "end_time": "2021-10-30T21:30:11.895248",
   "environment_variables": {},
   "exception": null,
   "input_path": "eBay_Overview.ipynb",
   "output_path": "eBay_Overview.ipynb",
   "parameters": {},
   "start_time": "2021-10-30T21:30:04.296789",
   "version": "2.3.3"
  }
 },
 "nbformat": 4,
 "nbformat_minor": 5
}