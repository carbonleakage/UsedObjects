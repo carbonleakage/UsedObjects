{
 "cells": [
  {
   "cell_type": "code",
   "execution_count": 1,
   "id": "reverse-picking",
   "metadata": {
    "execution": {
     "iopub.execute_input": "2021-09-08T15:00:07.073120Z",
     "iopub.status.busy": "2021-09-08T15:00:07.071158Z",
     "iopub.status.idle": "2021-09-08T15:00:07.881628Z",
     "shell.execute_reply": "2021-09-08T15:00:07.880034Z"
    },
    "papermill": {
     "duration": 0.861021,
     "end_time": "2021-09-08T15:00:07.882024",
     "exception": false,
     "start_time": "2021-09-08T15:00:07.021003",
     "status": "completed"
    },
    "tags": []
   },
   "outputs": [],
   "source": [
    "import pandas as pd\n",
    "import sqlite3"
   ]
  },
  {
   "cell_type": "code",
   "execution_count": 2,
   "id": "innovative-syndrome",
   "metadata": {
    "execution": {
     "iopub.execute_input": "2021-09-08T15:00:07.935084Z",
     "iopub.status.busy": "2021-09-08T15:00:07.932701Z",
     "iopub.status.idle": "2021-09-08T15:00:08.175992Z",
     "shell.execute_reply": "2021-09-08T15:00:08.177221Z"
    },
    "papermill": {
     "duration": 0.273208,
     "end_time": "2021-09-08T15:00:08.177621",
     "exception": false,
     "start_time": "2021-09-08T15:00:07.904413",
     "status": "completed"
    },
    "tags": []
   },
   "outputs": [],
   "source": [
    "timestamps = pd.read_sql(\"select distinct record_time from EBAY_TOP_BERLIN order by record_time desc limit 2\", sqlite3.connect(\"UsedObjects.db\"))"
   ]
  },
  {
   "cell_type": "code",
   "execution_count": 3,
   "id": "periodic-identification",
   "metadata": {
    "execution": {
     "iopub.execute_input": "2021-09-08T15:00:08.242234Z",
     "iopub.status.busy": "2021-09-08T15:00:08.240192Z",
     "iopub.status.idle": "2021-09-08T15:00:08.264325Z",
     "shell.execute_reply": "2021-09-08T15:00:08.265789Z"
    },
    "papermill": {
     "duration": 0.067755,
     "end_time": "2021-09-08T15:00:08.266259",
     "exception": false,
     "start_time": "2021-09-08T15:00:08.198504",
     "status": "completed"
    },
    "tags": []
   },
   "outputs": [
    {
     "data": {
      "text/html": [
       "<div>\n",
       "<style scoped>\n",
       "    .dataframe tbody tr th:only-of-type {\n",
       "        vertical-align: middle;\n",
       "    }\n",
       "\n",
       "    .dataframe tbody tr th {\n",
       "        vertical-align: top;\n",
       "    }\n",
       "\n",
       "    .dataframe thead th {\n",
       "        text-align: right;\n",
       "    }\n",
       "</style>\n",
       "<table border=\"1\" class=\"dataframe\">\n",
       "  <thead>\n",
       "    <tr style=\"text-align: right;\">\n",
       "      <th></th>\n",
       "      <th>RECORD_TIME</th>\n",
       "    </tr>\n",
       "  </thead>\n",
       "  <tbody>\n",
       "    <tr>\n",
       "      <th>0</th>\n",
       "      <td>2021-09-08 17:00</td>\n",
       "    </tr>\n",
       "    <tr>\n",
       "      <th>1</th>\n",
       "      <td>2021-09-08 16:30</td>\n",
       "    </tr>\n",
       "  </tbody>\n",
       "</table>\n",
       "</div>"
      ],
      "text/plain": [
       "        RECORD_TIME\n",
       "0  2021-09-08 17:00\n",
       "1  2021-09-08 16:30"
      ]
     },
     "execution_count": 3,
     "metadata": {},
     "output_type": "execute_result"
    }
   ],
   "source": [
    "timestamps"
   ]
  },
  {
   "cell_type": "code",
   "execution_count": 4,
   "id": "alternate-victory",
   "metadata": {
    "execution": {
     "iopub.execute_input": "2021-09-08T15:00:08.318097Z",
     "iopub.status.busy": "2021-09-08T15:00:08.316137Z",
     "iopub.status.idle": "2021-09-08T15:00:08.668962Z",
     "shell.execute_reply": "2021-09-08T15:00:08.670188Z"
    },
    "papermill": {
     "duration": 0.383107,
     "end_time": "2021-09-08T15:00:08.670586",
     "exception": false,
     "start_time": "2021-09-08T15:00:08.287479",
     "status": "completed"
    },
    "tags": []
   },
   "outputs": [],
   "source": [
    "df = pd.read_sql(\"select * from EBAY_TOP_BERLIN where record_time in (select distinct record_time from EBAY_TOP_BERLIN order by record_time desc limit 2)\", sqlite3.connect(\"UsedObjects.db\"))"
   ]
  },
  {
   "cell_type": "code",
   "execution_count": 5,
   "id": "popular-active",
   "metadata": {
    "execution": {
     "iopub.execute_input": "2021-09-08T15:00:08.752849Z",
     "iopub.status.busy": "2021-09-08T15:00:08.740479Z",
     "iopub.status.idle": "2021-09-08T15:00:08.768642Z",
     "shell.execute_reply": "2021-09-08T15:00:08.769882Z"
    },
    "papermill": {
     "duration": 0.071477,
     "end_time": "2021-09-08T15:00:08.770280",
     "exception": false,
     "start_time": "2021-09-08T15:00:08.698803",
     "status": "completed"
    },
    "tags": []
   },
   "outputs": [],
   "source": [
    "df_pivot = df.pivot_table(index=\"PRODUCT\", columns = \"RECORD_TIME\", values = \"LISTING_COUNT\")"
   ]
  },
  {
   "cell_type": "code",
   "execution_count": 6,
   "id": "union-huntington",
   "metadata": {
    "execution": {
     "iopub.execute_input": "2021-09-08T15:00:08.827219Z",
     "iopub.status.busy": "2021-09-08T15:00:08.825115Z",
     "iopub.status.idle": "2021-09-08T15:00:08.830438Z",
     "shell.execute_reply": "2021-09-08T15:00:08.832078Z"
    },
    "papermill": {
     "duration": 0.040896,
     "end_time": "2021-09-08T15:00:08.832647",
     "exception": false,
     "start_time": "2021-09-08T15:00:08.791751",
     "status": "completed"
    },
    "tags": []
   },
   "outputs": [],
   "source": [
    "df_pivot.columns = [\"stamp_1\", \"stamp_2\"]\n",
    "df_pivot_diff = df_pivot.diff(axis=1)"
   ]
  },
  {
   "cell_type": "code",
   "execution_count": 7,
   "id": "fifth-motion",
   "metadata": {
    "execution": {
     "iopub.execute_input": "2021-09-08T15:00:08.888454Z",
     "iopub.status.busy": "2021-09-08T15:00:08.885730Z",
     "iopub.status.idle": "2021-09-08T15:00:10.364226Z",
     "shell.execute_reply": "2021-09-08T15:00:10.365632Z"
    },
    "papermill": {
     "duration": 1.512463,
     "end_time": "2021-09-08T15:00:10.366078",
     "exception": false,
     "start_time": "2021-09-08T15:00:08.853615",
     "status": "completed"
    },
    "tags": []
   },
   "outputs": [
    {
     "data": {
      "text/plain": [
       "<AxesSubplot:ylabel='PRODUCT'>"
      ]
     },
     "execution_count": 7,
     "metadata": {},
     "output_type": "execute_result"
    },
    {
     "data": {
      "image/png": "[encoded data removed]",
      "text/plain": [
       "<Figure size 432x288 with 1 Axes>"
      ]
     },
     "metadata": {
      "needs_background": "light"
     },
     "output_type": "display_data"
    }
   ],
   "source": [
    "df_pivot_diff.sort_values(\"stamp_2\", ascending = False)[\"stamp_2\"].head(10).plot.barh()"
   ]
  },
  {
   "cell_type": "code",
   "execution_count": null,
   "id": "extra-executive",
   "metadata": {
    "papermill": {
     "duration": 0.022037,
     "end_time": "2021-09-08T15:00:10.412411",
     "exception": false,
     "start_time": "2021-09-08T15:00:10.390374",
     "status": "completed"
    },
    "tags": []
   },
   "outputs": [],
   "source": []
  }
 ],
 "metadata": {
  "kernelspec": {
   "display_name": "Python 3",
   "language": "python",
   "name": "python3"
  },
  "language_info": {
   "codemirror_mode": {
    "name": "ipython",
    "version": 3
   },
   "file_extension": ".py",
   "mimetype": "text/x-python",
   "name": "python",
   "nbconvert_exporter": "python",
   "pygments_lexer": "ipython3",
   "version": "3.9.5"
  },
  "papermill": {
   "default_parameters": {},
   "duration": 6.444484,
   "end_time": "2021-09-08T15:00:11.056506",
   "environment_variables": {},
   "exception": null,
   "input_path": "eBay_Overview.ipynb",
   "output_path": "eBay_Overview.ipynb",
   "parameters": {},
   "start_time": "2021-09-08T15:00:04.612022",
   "version": "2.3.3"
  }
 },
 "nbformat": 4,
 "nbformat_minor": 5
}