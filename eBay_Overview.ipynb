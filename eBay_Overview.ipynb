{
 "cells": [
  {
   "cell_type": "code",
   "execution_count": 1,
   "id": "reverse-picking",
   "metadata": {
    "execution": {
     "iopub.execute_input": "2021-08-13T17:00:07.112117Z",
     "iopub.status.busy": "2021-08-13T17:00:07.110146Z",
     "iopub.status.idle": "2021-08-13T17:00:07.922456Z",
     "shell.execute_reply": "2021-08-13T17:00:07.920606Z"
    },
    "papermill": {
     "duration": 0.863287,
     "end_time": "2021-08-13T17:00:07.922906",
     "exception": false,
     "start_time": "2021-08-13T17:00:07.059619",
     "status": "completed"
    },
    "tags": []
   },
   "outputs": [],
   "source": [
    "import pandas as pd\n",
    "import sqlite3"
   ]
  },
  {
   "cell_type": "code",
   "execution_count": 2,
   "id": "innovative-syndrome",
   "metadata": {
    "execution": {
     "iopub.execute_input": "2021-08-13T17:00:07.974767Z",
     "iopub.status.busy": "2021-08-13T17:00:07.972338Z",
     "iopub.status.idle": "2021-08-13T17:00:08.016071Z",
     "shell.execute_reply": "2021-08-13T17:00:08.017192Z"
    },
    "papermill": {
     "duration": 0.07374,
     "end_time": "2021-08-13T17:00:08.017604",
     "exception": false,
     "start_time": "2021-08-13T17:00:07.943864",
     "status": "completed"
    },
    "tags": []
   },
   "outputs": [],
   "source": [
    "timestamps = pd.read_sql(\"select distinct record_time from EBAY_TOP_BERLIN order by record_time desc limit 2\", sqlite3.connect(\"UsedObjects.db\"))"
   ]
  },
  {
   "cell_type": "code",
   "execution_count": 3,
   "id": "periodic-identification",
   "metadata": {
    "execution": {
     "iopub.execute_input": "2021-08-13T17:00:08.085453Z",
     "iopub.status.busy": "2021-08-13T17:00:08.083420Z",
     "iopub.status.idle": "2021-08-13T17:00:08.103078Z",
     "shell.execute_reply": "2021-08-13T17:00:08.104479Z"
    },
    "papermill": {
     "duration": 0.065838,
     "end_time": "2021-08-13T17:00:08.104917",
     "exception": false,
     "start_time": "2021-08-13T17:00:08.039079",
     "status": "completed"
    },
    "tags": []
   },
   "outputs": [
    {
     "data": {
      "text/html": [
       "<div>\n",
       "<style scoped>\n",
       "    .dataframe tbody tr th:only-of-type {\n",
       "        vertical-align: middle;\n",
       "    }\n",
       "\n",
       "    .dataframe tbody tr th {\n",
       "        vertical-align: top;\n",
       "    }\n",
       "\n",
       "    .dataframe thead th {\n",
       "        text-align: right;\n",
       "    }\n",
       "</style>\n",
       "<table border=\"1\" class=\"dataframe\">\n",
       "  <thead>\n",
       "    <tr style=\"text-align: right;\">\n",
       "      <th></th>\n",
       "      <th>RECORD_TIME</th>\n",
       "    </tr>\n",
       "  </thead>\n",
       "  <tbody>\n",
       "    <tr>\n",
       "      <th>0</th>\n",
       "      <td>2021-08-13 19:00</td>\n",
       "    </tr>\n",
       "    <tr>\n",
       "      <th>1</th>\n",
       "      <td>2021-08-13 18:30</td>\n",
       "    </tr>\n",
       "  </tbody>\n",
       "</table>\n",
       "</div>"
      ],
      "text/plain": [
       "        RECORD_TIME\n",
       "0  2021-08-13 19:00\n",
       "1  2021-08-13 18:30"
      ]
     },
     "execution_count": 3,
     "metadata": {},
     "output_type": "execute_result"
    }
   ],
   "source": [
    "timestamps"
   ]
  },
  {
   "cell_type": "code",
   "execution_count": 4,
   "id": "alternate-victory",
   "metadata": {
    "execution": {
     "iopub.execute_input": "2021-08-13T17:00:08.157164Z",
     "iopub.status.busy": "2021-08-13T17:00:08.155090Z",
     "iopub.status.idle": "2021-08-13T17:00:08.216042Z",
     "shell.execute_reply": "2021-08-13T17:00:08.217265Z"
    },
    "papermill": {
     "duration": 0.091738,
     "end_time": "2021-08-13T17:00:08.217661",
     "exception": false,
     "start_time": "2021-08-13T17:00:08.125923",
     "status": "completed"
    },
    "tags": []
   },
   "outputs": [],
   "source": [
    "df = pd.read_sql(\"select * from EBAY_TOP_BERLIN where record_time in (select distinct record_time from EBAY_TOP_BERLIN order by record_time desc limit 2)\", sqlite3.connect(\"UsedObjects.db\"))"
   ]
  },
  {
   "cell_type": "code",
   "execution_count": 5,
   "id": "popular-active",
   "metadata": {
    "execution": {
     "iopub.execute_input": "2021-08-13T17:00:08.288561Z",
     "iopub.status.busy": "2021-08-13T17:00:08.275329Z",
     "iopub.status.idle": "2021-08-13T17:00:08.305387Z",
     "shell.execute_reply": "2021-08-13T17:00:08.306754Z"
    },
    "papermill": {
     "duration": 0.069011,
     "end_time": "2021-08-13T17:00:08.307183",
     "exception": false,
     "start_time": "2021-08-13T17:00:08.238172",
     "status": "completed"
    },
    "tags": []
   },
   "outputs": [],
   "source": [
    "df_pivot = df.pivot_table(index=\"PRODUCT\", columns = \"RECORD_TIME\", values = \"LISTING_COUNT\")"
   ]
  },
  {
   "cell_type": "code",
   "execution_count": 6,
   "id": "union-huntington",
   "metadata": {
    "execution": {
     "iopub.execute_input": "2021-08-13T17:00:08.363531Z",
     "iopub.status.busy": "2021-08-13T17:00:08.361368Z",
     "iopub.status.idle": "2021-08-13T17:00:08.366705Z",
     "shell.execute_reply": "2021-08-13T17:00:08.368009Z"
    },
    "papermill": {
     "duration": 0.041106,
     "end_time": "2021-08-13T17:00:08.368426",
     "exception": false,
     "start_time": "2021-08-13T17:00:08.327320",
     "status": "completed"
    },
    "tags": []
   },
   "outputs": [],
   "source": [
    "df_pivot.columns = [\"stamp_1\", \"stamp_2\"]\n",
    "df_pivot_diff = df_pivot.diff(axis=1)"
   ]
  },
  {
   "cell_type": "code",
   "execution_count": 7,
   "id": "fifth-motion",
   "metadata": {
    "execution": {
     "iopub.execute_input": "2021-08-13T17:00:08.424052Z",
     "iopub.status.busy": "2021-08-13T17:00:08.421429Z",
     "iopub.status.idle": "2021-08-13T17:00:09.936342Z",
     "shell.execute_reply": "2021-08-13T17:00:09.937850Z"
    },
    "papermill": {
     "duration": 1.54875,
     "end_time": "2021-08-13T17:00:09.938352",
     "exception": false,
     "start_time": "2021-08-13T17:00:08.389602",
     "status": "completed"
    },
    "tags": []
   },
   "outputs": [
    {
     "data": {
      "text/plain": [
       "<AxesSubplot:ylabel='PRODUCT'>"
      ]
     },
     "execution_count": 7,
     "metadata": {},
     "output_type": "execute_result"
    },
    {
     "data": {
      "image/png": "[encoded data removed]",
      "text/plain": [
       "<Figure size 432x288 with 1 Axes>"
      ]
     },
     "metadata": {
      "needs_background": "light"
     },
     "output_type": "display_data"
    }
   ],
   "source": [
    "df_pivot_diff.sort_values(\"stamp_2\", ascending = False)[\"stamp_2\"].head(10).plot.barh()"
   ]
  },
  {
   "cell_type": "code",
   "execution_count": null,
   "id": "extra-executive",
   "metadata": {
    "papermill": {
     "duration": 0.02225,
     "end_time": "2021-08-13T17:00:09.984874",
     "exception": false,
     "start_time": "2021-08-13T17:00:09.962624",
     "status": "completed"
    },
    "tags": []
   },
   "outputs": [],
   "source": []
  }
 ],
 "metadata": {
  "kernelspec": {
   "display_name": "Python 3",
   "language": "python",
   "name": "python3"
  },
  "language_info": {
   "codemirror_mode": {
    "name": "ipython",
    "version": 3
   },
   "file_extension": ".py",
   "mimetype": "text/x-python",
   "name": "python",
   "nbconvert_exporter": "python",
   "pygments_lexer": "ipython3",
   "version": "3.9.5"
  },
  "papermill": {
   "default_parameters": {},
   "duration": 6.83688,
   "end_time": "2021-08-13T17:00:11.466654",
   "environment_variables": {},
   "exception": null,
   "input_path": "eBay_Overview.ipynb",
   "output_path": "eBay_Overview.ipynb",
   "parameters": {},
   "start_time": "2021-08-13T17:00:04.629774",
   "version": "2.3.3"
  }
 },
 "nbformat": 4,
 "nbformat_minor": 5
}