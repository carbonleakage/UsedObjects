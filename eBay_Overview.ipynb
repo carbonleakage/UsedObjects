{
 "cells": [
  {
   "cell_type": "code",
   "execution_count": 1,
   "id": "reverse-picking",
   "metadata": {
    "execution": {
     "iopub.execute_input": "2021-08-29T10:30:06.854548Z",
     "iopub.status.busy": "2021-08-29T10:30:06.852633Z",
     "iopub.status.idle": "2021-08-29T10:30:07.659580Z",
     "shell.execute_reply": "2021-08-29T10:30:07.660893Z"
    },
    "papermill": {
     "duration": 0.860942,
     "end_time": "2021-08-29T10:30:07.661532",
     "exception": false,
     "start_time": "2021-08-29T10:30:06.800590",
     "status": "completed"
    },
    "tags": []
   },
   "outputs": [],
   "source": [
    "import pandas as pd\n",
    "import sqlite3"
   ]
  },
  {
   "cell_type": "code",
   "execution_count": 2,
   "id": "innovative-syndrome",
   "metadata": {
    "execution": {
     "iopub.execute_input": "2021-08-29T10:30:07.713195Z",
     "iopub.status.busy": "2021-08-29T10:30:07.711195Z",
     "iopub.status.idle": "2021-08-29T10:30:07.870791Z",
     "shell.execute_reply": "2021-08-29T10:30:07.872050Z"
    },
    "papermill": {
     "duration": 0.188894,
     "end_time": "2021-08-29T10:30:07.872524",
     "exception": false,
     "start_time": "2021-08-29T10:30:07.683630",
     "status": "completed"
    },
    "tags": []
   },
   "outputs": [],
   "source": [
    "timestamps = pd.read_sql(\"select distinct record_time from EBAY_TOP_BERLIN order by record_time desc limit 2\", sqlite3.connect(\"UsedObjects.db\"))"
   ]
  },
  {
   "cell_type": "code",
   "execution_count": 3,
   "id": "periodic-identification",
   "metadata": {
    "execution": {
     "iopub.execute_input": "2021-08-29T10:30:07.939287Z",
     "iopub.status.busy": "2021-08-29T10:30:07.937259Z",
     "iopub.status.idle": "2021-08-29T10:30:07.957103Z",
     "shell.execute_reply": "2021-08-29T10:30:07.958410Z"
    },
    "papermill": {
     "duration": 0.066877,
     "end_time": "2021-08-29T10:30:07.958826",
     "exception": false,
     "start_time": "2021-08-29T10:30:07.891949",
     "status": "completed"
    },
    "tags": []
   },
   "outputs": [
    {
     "data": {
      "text/html": [
       "<div>\n",
       "<style scoped>\n",
       "    .dataframe tbody tr th:only-of-type {\n",
       "        vertical-align: middle;\n",
       "    }\n",
       "\n",
       "    .dataframe tbody tr th {\n",
       "        vertical-align: top;\n",
       "    }\n",
       "\n",
       "    .dataframe thead th {\n",
       "        text-align: right;\n",
       "    }\n",
       "</style>\n",
       "<table border=\"1\" class=\"dataframe\">\n",
       "  <thead>\n",
       "    <tr style=\"text-align: right;\">\n",
       "      <th></th>\n",
       "      <th>RECORD_TIME</th>\n",
       "    </tr>\n",
       "  </thead>\n",
       "  <tbody>\n",
       "    <tr>\n",
       "      <th>0</th>\n",
       "      <td>2021-08-29 12:30</td>\n",
       "    </tr>\n",
       "    <tr>\n",
       "      <th>1</th>\n",
       "      <td>2021-08-29 12:00</td>\n",
       "    </tr>\n",
       "  </tbody>\n",
       "</table>\n",
       "</div>"
      ],
      "text/plain": [
       "        RECORD_TIME\n",
       "0  2021-08-29 12:30\n",
       "1  2021-08-29 12:00"
      ]
     },
     "execution_count": 3,
     "metadata": {},
     "output_type": "execute_result"
    }
   ],
   "source": [
    "timestamps"
   ]
  },
  {
   "cell_type": "code",
   "execution_count": 4,
   "id": "alternate-victory",
   "metadata": {
    "execution": {
     "iopub.execute_input": "2021-08-29T10:30:08.010553Z",
     "iopub.status.busy": "2021-08-29T10:30:08.008384Z",
     "iopub.status.idle": "2021-08-29T10:30:08.246517Z",
     "shell.execute_reply": "2021-08-29T10:30:08.247720Z"
    },
    "papermill": {
     "duration": 0.268182,
     "end_time": "2021-08-29T10:30:08.248113",
     "exception": false,
     "start_time": "2021-08-29T10:30:07.979931",
     "status": "completed"
    },
    "tags": []
   },
   "outputs": [],
   "source": [
    "df = pd.read_sql(\"select * from EBAY_TOP_BERLIN where record_time in (select distinct record_time from EBAY_TOP_BERLIN order by record_time desc limit 2)\", sqlite3.connect(\"UsedObjects.db\"))"
   ]
  },
  {
   "cell_type": "code",
   "execution_count": 5,
   "id": "popular-active",
   "metadata": {
    "execution": {
     "iopub.execute_input": "2021-08-29T10:30:08.330679Z",
     "iopub.status.busy": "2021-08-29T10:30:08.319970Z",
     "iopub.status.idle": "2021-08-29T10:30:08.347398Z",
     "shell.execute_reply": "2021-08-29T10:30:08.348758Z"
    },
    "papermill": {
     "duration": 0.072304,
     "end_time": "2021-08-29T10:30:08.349183",
     "exception": false,
     "start_time": "2021-08-29T10:30:08.276879",
     "status": "completed"
    },
    "tags": []
   },
   "outputs": [],
   "source": [
    "df_pivot = df.pivot_table(index=\"PRODUCT\", columns = \"RECORD_TIME\", values = \"LISTING_COUNT\")"
   ]
  },
  {
   "cell_type": "code",
   "execution_count": 6,
   "id": "union-huntington",
   "metadata": {
    "execution": {
     "iopub.execute_input": "2021-08-29T10:30:08.405333Z",
     "iopub.status.busy": "2021-08-29T10:30:08.403241Z",
     "iopub.status.idle": "2021-08-29T10:30:08.408364Z",
     "shell.execute_reply": "2021-08-29T10:30:08.409684Z"
    },
    "papermill": {
     "duration": 0.040084,
     "end_time": "2021-08-29T10:30:08.410102",
     "exception": false,
     "start_time": "2021-08-29T10:30:08.370018",
     "status": "completed"
    },
    "tags": []
   },
   "outputs": [],
   "source": [
    "df_pivot.columns = [\"stamp_1\", \"stamp_2\"]\n",
    "df_pivot_diff = df_pivot.diff(axis=1)"
   ]
  },
  {
   "cell_type": "code",
   "execution_count": 7,
   "id": "fifth-motion",
   "metadata": {
    "execution": {
     "iopub.execute_input": "2021-08-29T10:30:08.463566Z",
     "iopub.status.busy": "2021-08-29T10:30:08.461226Z",
     "iopub.status.idle": "2021-08-29T10:30:09.931532Z",
     "shell.execute_reply": "2021-08-29T10:30:09.932879Z"
    },
    "papermill": {
     "duration": 1.50294,
     "end_time": "2021-08-29T10:30:09.933306",
     "exception": false,
     "start_time": "2021-08-29T10:30:08.430366",
     "status": "completed"
    },
    "tags": []
   },
   "outputs": [
    {
     "data": {
      "text/plain": [
       "<AxesSubplot:ylabel='PRODUCT'>"
      ]
     },
     "execution_count": 7,
     "metadata": {},
     "output_type": "execute_result"
    },
    {
     "data": {
      "image/png": "[encoded data removed]",
      "text/plain": [
       "<Figure size 432x288 with 1 Axes>"
      ]
     },
     "metadata": {
      "needs_background": "light"
     },
     "output_type": "display_data"
    }
   ],
   "source": [
    "df_pivot_diff.sort_values(\"stamp_2\", ascending = False)[\"stamp_2\"].head(10).plot.barh()"
   ]
  },
  {
   "cell_type": "code",
   "execution_count": null,
   "id": "extra-executive",
   "metadata": {
    "papermill": {
     "duration": 0.022286,
     "end_time": "2021-08-29T10:30:09.980448",
     "exception": false,
     "start_time": "2021-08-29T10:30:09.958162",
     "status": "completed"
    },
    "tags": []
   },
   "outputs": [],
   "source": []
  }
 ],
 "metadata": {
  "kernelspec": {
   "display_name": "Python 3",
   "language": "python",
   "name": "python3"
  },
  "language_info": {
   "codemirror_mode": {
    "name": "ipython",
    "version": 3
   },
   "file_extension": ".py",
   "mimetype": "text/x-python",
   "name": "python",
   "nbconvert_exporter": "python",
   "pygments_lexer": "ipython3",
   "version": "3.9.5"
  },
  "papermill": {
   "default_parameters": {},
   "duration": 6.821366,
   "end_time": "2021-08-29T10:30:11.210241",
   "environment_variables": {},
   "exception": null,
   "input_path": "eBay_Overview.ipynb",
   "output_path": "eBay_Overview.ipynb",
   "parameters": {},
   "start_time": "2021-08-29T10:30:04.388875",
   "version": "2.3.3"
  }
 },
 "nbformat": 4,
 "nbformat_minor": 5
}