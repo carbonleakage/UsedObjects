{
 "cells": [
  {
   "cell_type": "code",
   "execution_count": 1,
   "id": "reverse-picking",
   "metadata": {
    "execution": {
     "iopub.execute_input": "2021-11-22T17:00:07.285369Z",
     "iopub.status.busy": "2021-11-22T17:00:07.280289Z",
     "iopub.status.idle": "2021-11-22T17:00:08.257051Z",
     "shell.execute_reply": "2021-11-22T17:00:08.258780Z"
    },
    "papermill": {
     "duration": 1.01288,
     "end_time": "2021-11-22T17:00:08.259536",
     "exception": false,
     "start_time": "2021-11-22T17:00:07.246656",
     "status": "completed"
    },
    "tags": []
   },
   "outputs": [],
   "source": [
    "import pandas as pd\n",
    "import sqlite3"
   ]
  },
  {
   "cell_type": "code",
   "execution_count": 2,
   "id": "innovative-syndrome",
   "metadata": {
    "execution": {
     "iopub.execute_input": "2021-11-22T17:00:08.323349Z",
     "iopub.status.busy": "2021-11-22T17:00:08.320521Z",
     "iopub.status.idle": "2021-11-22T17:00:09.211744Z",
     "shell.execute_reply": "2021-11-22T17:00:09.213348Z"
    },
    "papermill": {
     "duration": 0.926795,
     "end_time": "2021-11-22T17:00:09.213817",
     "exception": false,
     "start_time": "2021-11-22T17:00:08.287022",
     "status": "completed"
    },
    "tags": []
   },
   "outputs": [],
   "source": [
    "timestamps = pd.read_sql(\"select distinct record_time from EBAY_TOP_BERLIN order by record_time desc limit 2\", sqlite3.connect(\"UsedObjects.db\"))"
   ]
  },
  {
   "cell_type": "code",
   "execution_count": 3,
   "id": "periodic-identification",
   "metadata": {
    "execution": {
     "iopub.execute_input": "2021-11-22T17:00:09.287948Z",
     "iopub.status.busy": "2021-11-22T17:00:09.281782Z",
     "iopub.status.idle": "2021-11-22T17:00:09.307644Z",
     "shell.execute_reply": "2021-11-22T17:00:09.305685Z"
    },
    "papermill": {
     "duration": 0.074258,
     "end_time": "2021-11-22T17:00:09.308061",
     "exception": false,
     "start_time": "2021-11-22T17:00:09.233803",
     "status": "completed"
    },
    "tags": []
   },
   "outputs": [
    {
     "data": {
      "text/html": [
       "<div>\n",
       "<style scoped>\n",
       "    .dataframe tbody tr th:only-of-type {\n",
       "        vertical-align: middle;\n",
       "    }\n",
       "\n",
       "    .dataframe tbody tr th {\n",
       "        vertical-align: top;\n",
       "    }\n",
       "\n",
       "    .dataframe thead th {\n",
       "        text-align: right;\n",
       "    }\n",
       "</style>\n",
       "<table border=\"1\" class=\"dataframe\">\n",
       "  <thead>\n",
       "    <tr style=\"text-align: right;\">\n",
       "      <th></th>\n",
       "      <th>RECORD_TIME</th>\n",
       "    </tr>\n",
       "  </thead>\n",
       "  <tbody>\n",
       "    <tr>\n",
       "      <th>0</th>\n",
       "      <td>2021-11-22 18:00</td>\n",
       "    </tr>\n",
       "    <tr>\n",
       "      <th>1</th>\n",
       "      <td>2021-11-22 17:30</td>\n",
       "    </tr>\n",
       "  </tbody>\n",
       "</table>\n",
       "</div>"
      ],
      "text/plain": [
       "        RECORD_TIME\n",
       "0  2021-11-22 18:00\n",
       "1  2021-11-22 17:30"
      ]
     },
     "execution_count": 3,
     "metadata": {},
     "output_type": "execute_result"
    }
   ],
   "source": [
    "timestamps"
   ]
  },
  {
   "cell_type": "code",
   "execution_count": 4,
   "id": "alternate-victory",
   "metadata": {
    "execution": {
     "iopub.execute_input": "2021-11-22T17:00:09.363770Z",
     "iopub.status.busy": "2021-11-22T17:00:09.361918Z",
     "iopub.status.idle": "2021-11-22T17:00:10.659700Z",
     "shell.execute_reply": "2021-11-22T17:00:10.656935Z"
    },
    "papermill": {
     "duration": 1.329974,
     "end_time": "2021-11-22T17:00:10.660384",
     "exception": false,
     "start_time": "2021-11-22T17:00:09.330410",
     "status": "completed"
    },
    "tags": []
   },
   "outputs": [],
   "source": [
    "df = pd.read_sql(\"select * from EBAY_TOP_BERLIN where record_time in (select distinct record_time from EBAY_TOP_BERLIN order by record_time desc limit 2)\", sqlite3.connect(\"UsedObjects.db\"))"
   ]
  },
  {
   "cell_type": "code",
   "execution_count": 5,
   "id": "popular-active",
   "metadata": {
    "execution": {
     "iopub.execute_input": "2021-11-22T17:00:10.740324Z",
     "iopub.status.busy": "2021-11-22T17:00:10.731417Z",
     "iopub.status.idle": "2021-11-22T17:00:10.759067Z",
     "shell.execute_reply": "2021-11-22T17:00:10.760627Z"
    },
    "papermill": {
     "duration": 0.07856,
     "end_time": "2021-11-22T17:00:10.761143",
     "exception": false,
     "start_time": "2021-11-22T17:00:10.682583",
     "status": "completed"
    },
    "tags": []
   },
   "outputs": [],
   "source": [
    "df_pivot = df.pivot_table(index=\"PRODUCT\", columns = \"RECORD_TIME\", values = \"LISTING_COUNT\")"
   ]
  },
  {
   "cell_type": "code",
   "execution_count": 6,
   "id": "union-huntington",
   "metadata": {
    "execution": {
     "iopub.execute_input": "2021-11-22T17:00:10.821853Z",
     "iopub.status.busy": "2021-11-22T17:00:10.819647Z",
     "iopub.status.idle": "2021-11-22T17:00:10.824418Z",
     "shell.execute_reply": "2021-11-22T17:00:10.826038Z"
    },
    "papermill": {
     "duration": 0.043433,
     "end_time": "2021-11-22T17:00:10.826505",
     "exception": false,
     "start_time": "2021-11-22T17:00:10.783072",
     "status": "completed"
    },
    "tags": []
   },
   "outputs": [],
   "source": [
    "df_pivot.columns = [\"stamp_1\", \"stamp_2\"]\n",
    "df_pivot_diff = df_pivot.diff(axis=1)"
   ]
  },
  {
   "cell_type": "code",
   "execution_count": 7,
   "id": "fifth-motion",
   "metadata": {
    "execution": {
     "iopub.execute_input": "2021-11-22T17:00:10.884174Z",
     "iopub.status.busy": "2021-11-22T17:00:10.880046Z",
     "iopub.status.idle": "2021-11-22T17:00:12.544509Z",
     "shell.execute_reply": "2021-11-22T17:00:12.545881Z"
    },
    "papermill": {
     "duration": 1.699833,
     "end_time": "2021-11-22T17:00:12.546303",
     "exception": false,
     "start_time": "2021-11-22T17:00:10.846470",
     "status": "completed"
    },
    "tags": []
   },
   "outputs": [
    {
     "data": {
      "text/plain": [
       "<AxesSubplot:ylabel='PRODUCT'>"
      ]
     },
     "execution_count": 7,
     "metadata": {},
     "output_type": "execute_result"
    },
    {
     "data": {
      "image/png": "[encoded data removed]",
      "text/plain": [
       "<Figure size 432x288 with 1 Axes>"
      ]
     },
     "metadata": {
      "needs_background": "light"
     },
     "output_type": "display_data"
    }
   ],
   "source": [
    "df_pivot_diff.sort_values(\"stamp_2\", ascending = False)[\"stamp_2\"].head(10).plot.barh()"
   ]
  },
  {
   "cell_type": "code",
   "execution_count": null,
   "id": "extra-executive",
   "metadata": {
    "papermill": {
     "duration": 0.022245,
     "end_time": "2021-11-22T17:00:12.591983",
     "exception": false,
     "start_time": "2021-11-22T17:00:12.569738",
     "status": "completed"
    },
    "tags": []
   },
   "outputs": [],
   "source": []
  }
 ],
 "metadata": {
  "kernelspec": {
   "display_name": "Python 3",
   "language": "python",
   "name": "python3"
  },
  "language_info": {
   "codemirror_mode": {
    "name": "ipython",
    "version": 3
   },
   "file_extension": ".py",
   "mimetype": "text/x-python",
   "name": "python",
   "nbconvert_exporter": "python",
   "pygments_lexer": "ipython3",
   "version": "3.9.5"
  },
  "papermill": {
   "default_parameters": {},
   "duration": 8.709759,
   "end_time": "2021-11-22T17:00:13.232629",
   "environment_variables": {},
   "exception": null,
   "input_path": "eBay_Overview.ipynb",
   "output_path": "eBay_Overview.ipynb",
   "parameters": {},
   "start_time": "2021-11-22T17:00:04.522870",
   "version": "2.3.3"
  }
 },
 "nbformat": 4,
 "nbformat_minor": 5
}