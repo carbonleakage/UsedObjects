{
 "cells": [
  {
   "cell_type": "code",
   "execution_count": 1,
   "id": "reverse-picking",
   "metadata": {
    "execution": {
     "iopub.execute_input": "2021-09-01T07:30:06.880793Z",
     "iopub.status.busy": "2021-09-01T07:30:06.878811Z",
     "iopub.status.idle": "2021-09-01T07:30:07.682825Z",
     "shell.execute_reply": "2021-09-01T07:30:07.684201Z"
    },
    "papermill": {
     "duration": 0.854651,
     "end_time": "2021-09-01T07:30:07.684820",
     "exception": false,
     "start_time": "2021-09-01T07:30:06.830169",
     "status": "completed"
    },
    "tags": []
   },
   "outputs": [],
   "source": [
    "import pandas as pd\n",
    "import sqlite3"
   ]
  },
  {
   "cell_type": "code",
   "execution_count": 2,
   "id": "innovative-syndrome",
   "metadata": {
    "execution": {
     "iopub.execute_input": "2021-09-01T07:30:07.736768Z",
     "iopub.status.busy": "2021-09-01T07:30:07.734498Z",
     "iopub.status.idle": "2021-09-01T07:30:07.914543Z",
     "shell.execute_reply": "2021-09-01T07:30:07.915969Z"
    },
    "papermill": {
     "duration": 0.209982,
     "end_time": "2021-09-01T07:30:07.916380",
     "exception": false,
     "start_time": "2021-09-01T07:30:07.706398",
     "status": "completed"
    },
    "tags": []
   },
   "outputs": [],
   "source": [
    "timestamps = pd.read_sql(\"select distinct record_time from EBAY_TOP_BERLIN order by record_time desc limit 2\", sqlite3.connect(\"UsedObjects.db\"))"
   ]
  },
  {
   "cell_type": "code",
   "execution_count": 3,
   "id": "periodic-identification",
   "metadata": {
    "execution": {
     "iopub.execute_input": "2021-09-01T07:30:07.984359Z",
     "iopub.status.busy": "2021-09-01T07:30:07.982266Z",
     "iopub.status.idle": "2021-09-01T07:30:08.002561Z",
     "shell.execute_reply": "2021-09-01T07:30:08.003837Z"
    },
    "papermill": {
     "duration": 0.067036,
     "end_time": "2021-09-01T07:30:08.004269",
     "exception": false,
     "start_time": "2021-09-01T07:30:07.937233",
     "status": "completed"
    },
    "tags": []
   },
   "outputs": [
    {
     "data": {
      "text/html": [
       "<div>\n",
       "<style scoped>\n",
       "    .dataframe tbody tr th:only-of-type {\n",
       "        vertical-align: middle;\n",
       "    }\n",
       "\n",
       "    .dataframe tbody tr th {\n",
       "        vertical-align: top;\n",
       "    }\n",
       "\n",
       "    .dataframe thead th {\n",
       "        text-align: right;\n",
       "    }\n",
       "</style>\n",
       "<table border=\"1\" class=\"dataframe\">\n",
       "  <thead>\n",
       "    <tr style=\"text-align: right;\">\n",
       "      <th></th>\n",
       "      <th>RECORD_TIME</th>\n",
       "    </tr>\n",
       "  </thead>\n",
       "  <tbody>\n",
       "    <tr>\n",
       "      <th>0</th>\n",
       "      <td>2021-09-01 09:30</td>\n",
       "    </tr>\n",
       "    <tr>\n",
       "      <th>1</th>\n",
       "      <td>2021-09-01 09:00</td>\n",
       "    </tr>\n",
       "  </tbody>\n",
       "</table>\n",
       "</div>"
      ],
      "text/plain": [
       "        RECORD_TIME\n",
       "0  2021-09-01 09:30\n",
       "1  2021-09-01 09:00"
      ]
     },
     "execution_count": 3,
     "metadata": {},
     "output_type": "execute_result"
    }
   ],
   "source": [
    "timestamps"
   ]
  },
  {
   "cell_type": "code",
   "execution_count": 4,
   "id": "alternate-victory",
   "metadata": {
    "execution": {
     "iopub.execute_input": "2021-09-01T07:30:08.058166Z",
     "iopub.status.busy": "2021-09-01T07:30:08.055884Z",
     "iopub.status.idle": "2021-09-01T07:30:08.319374Z",
     "shell.execute_reply": "2021-09-01T07:30:08.320873Z"
    },
    "papermill": {
     "duration": 0.29404,
     "end_time": "2021-09-01T07:30:08.321318",
     "exception": false,
     "start_time": "2021-09-01T07:30:08.027278",
     "status": "completed"
    },
    "tags": []
   },
   "outputs": [],
   "source": [
    "df = pd.read_sql(\"select * from EBAY_TOP_BERLIN where record_time in (select distinct record_time from EBAY_TOP_BERLIN order by record_time desc limit 2)\", sqlite3.connect(\"UsedObjects.db\"))"
   ]
  },
  {
   "cell_type": "code",
   "execution_count": 5,
   "id": "popular-active",
   "metadata": {
    "execution": {
     "iopub.execute_input": "2021-09-01T07:30:08.401980Z",
     "iopub.status.busy": "2021-09-01T07:30:08.389808Z",
     "iopub.status.idle": "2021-09-01T07:30:08.417304Z",
     "shell.execute_reply": "2021-09-01T07:30:08.418522Z"
    },
    "papermill": {
     "duration": 0.071312,
     "end_time": "2021-09-01T07:30:08.418967",
     "exception": false,
     "start_time": "2021-09-01T07:30:08.347655",
     "status": "completed"
    },
    "tags": []
   },
   "outputs": [],
   "source": [
    "df_pivot = df.pivot_table(index=\"PRODUCT\", columns = \"RECORD_TIME\", values = \"LISTING_COUNT\")"
   ]
  },
  {
   "cell_type": "code",
   "execution_count": 6,
   "id": "union-huntington",
   "metadata": {
    "execution": {
     "iopub.execute_input": "2021-09-01T07:30:08.476232Z",
     "iopub.status.busy": "2021-09-01T07:30:08.474022Z",
     "iopub.status.idle": "2021-09-01T07:30:08.479494Z",
     "shell.execute_reply": "2021-09-01T07:30:08.480880Z"
    },
    "papermill": {
     "duration": 0.04077,
     "end_time": "2021-09-01T07:30:08.481313",
     "exception": false,
     "start_time": "2021-09-01T07:30:08.440543",
     "status": "completed"
    },
    "tags": []
   },
   "outputs": [],
   "source": [
    "df_pivot.columns = [\"stamp_1\", \"stamp_2\"]\n",
    "df_pivot_diff = df_pivot.diff(axis=1)"
   ]
  },
  {
   "cell_type": "code",
   "execution_count": 7,
   "id": "fifth-motion",
   "metadata": {
    "execution": {
     "iopub.execute_input": "2021-09-01T07:30:08.538272Z",
     "iopub.status.busy": "2021-09-01T07:30:08.535650Z",
     "iopub.status.idle": "2021-09-01T07:30:10.030904Z",
     "shell.execute_reply": "2021-09-01T07:30:10.032288Z"
    },
    "papermill": {
     "duration": 1.529063,
     "end_time": "2021-09-01T07:30:10.032725",
     "exception": false,
     "start_time": "2021-09-01T07:30:08.503662",
     "status": "completed"
    },
    "tags": []
   },
   "outputs": [
    {
     "data": {
      "text/plain": [
       "<AxesSubplot:ylabel='PRODUCT'>"
      ]
     },
     "execution_count": 7,
     "metadata": {},
     "output_type": "execute_result"
    },
    {
     "data": {
      "image/png": "[encoded data removed]",
      "text/plain": [
       "<Figure size 432x288 with 1 Axes>"
      ]
     },
     "metadata": {
      "needs_background": "light"
     },
     "output_type": "display_data"
    }
   ],
   "source": [
    "df_pivot_diff.sort_values(\"stamp_2\", ascending = False)[\"stamp_2\"].head(10).plot.barh()"
   ]
  },
  {
   "cell_type": "code",
   "execution_count": null,
   "id": "extra-executive",
   "metadata": {
    "papermill": {
     "duration": 0.022414,
     "end_time": "2021-09-01T07:30:10.079876",
     "exception": false,
     "start_time": "2021-09-01T07:30:10.057462",
     "status": "completed"
    },
    "tags": []
   },
   "outputs": [],
   "source": []
  }
 ],
 "metadata": {
  "kernelspec": {
   "display_name": "Python 3",
   "language": "python",
   "name": "python3"
  },
  "language_info": {
   "codemirror_mode": {
    "name": "ipython",
    "version": 3
   },
   "file_extension": ".py",
   "mimetype": "text/x-python",
   "name": "python",
   "nbconvert_exporter": "python",
   "pygments_lexer": "ipython3",
   "version": "3.9.5"
  },
  "papermill": {
   "default_parameters": {},
   "duration": 6.818836,
   "end_time": "2021-09-01T07:30:11.249514",
   "environment_variables": {},
   "exception": null,
   "input_path": "eBay_Overview.ipynb",
   "output_path": "eBay_Overview.ipynb",
   "parameters": {},
   "start_time": "2021-09-01T07:30:04.430678",
   "version": "2.3.3"
  }
 },
 "nbformat": 4,
 "nbformat_minor": 5
}