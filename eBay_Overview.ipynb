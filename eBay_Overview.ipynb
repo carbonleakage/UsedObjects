{
 "cells": [
  {
   "cell_type": "code",
   "execution_count": 1,
   "id": "reverse-picking",
   "metadata": {
    "execution": {
     "iopub.execute_input": "2021-11-27T02:30:07.363460Z",
     "iopub.status.busy": "2021-11-27T02:30:07.361143Z",
     "iopub.status.idle": "2021-11-27T02:30:08.313419Z",
     "shell.execute_reply": "2021-11-27T02:30:08.315383Z"
    },
    "papermill": {
     "duration": 1.00404,
     "end_time": "2021-11-27T02:30:08.316278",
     "exception": false,
     "start_time": "2021-11-27T02:30:07.312238",
     "status": "completed"
    },
    "tags": []
   },
   "outputs": [],
   "source": [
    "import pandas as pd\n",
    "import sqlite3"
   ]
  },
  {
   "cell_type": "code",
   "execution_count": 2,
   "id": "innovative-syndrome",
   "metadata": {
    "execution": {
     "iopub.execute_input": "2021-11-27T02:30:08.390067Z",
     "iopub.status.busy": "2021-11-27T02:30:08.387626Z",
     "iopub.status.idle": "2021-11-27T02:30:09.309976Z",
     "shell.execute_reply": "2021-11-27T02:30:09.311225Z"
    },
    "papermill": {
     "duration": 0.964549,
     "end_time": "2021-11-27T02:30:09.311621",
     "exception": false,
     "start_time": "2021-11-27T02:30:08.347072",
     "status": "completed"
    },
    "tags": []
   },
   "outputs": [],
   "source": [
    "timestamps = pd.read_sql(\"select distinct record_time from EBAY_TOP_BERLIN order by record_time desc limit 2\", sqlite3.connect(\"UsedObjects.db\"))"
   ]
  },
  {
   "cell_type": "code",
   "execution_count": 3,
   "id": "periodic-identification",
   "metadata": {
    "execution": {
     "iopub.execute_input": "2021-11-27T02:30:09.376911Z",
     "iopub.status.busy": "2021-11-27T02:30:09.374814Z",
     "iopub.status.idle": "2021-11-27T02:30:09.394786Z",
     "shell.execute_reply": "2021-11-27T02:30:09.396013Z"
    },
    "papermill": {
     "duration": 0.065258,
     "end_time": "2021-11-27T02:30:09.396414",
     "exception": false,
     "start_time": "2021-11-27T02:30:09.331156",
     "status": "completed"
    },
    "tags": []
   },
   "outputs": [
    {
     "data": {
      "text/html": [
       "<div>\n",
       "<style scoped>\n",
       "    .dataframe tbody tr th:only-of-type {\n",
       "        vertical-align: middle;\n",
       "    }\n",
       "\n",
       "    .dataframe tbody tr th {\n",
       "        vertical-align: top;\n",
       "    }\n",
       "\n",
       "    .dataframe thead th {\n",
       "        text-align: right;\n",
       "    }\n",
       "</style>\n",
       "<table border=\"1\" class=\"dataframe\">\n",
       "  <thead>\n",
       "    <tr style=\"text-align: right;\">\n",
       "      <th></th>\n",
       "      <th>RECORD_TIME</th>\n",
       "    </tr>\n",
       "  </thead>\n",
       "  <tbody>\n",
       "    <tr>\n",
       "      <th>0</th>\n",
       "      <td>2021-11-27 03:30</td>\n",
       "    </tr>\n",
       "    <tr>\n",
       "      <th>1</th>\n",
       "      <td>2021-11-27 03:00</td>\n",
       "    </tr>\n",
       "  </tbody>\n",
       "</table>\n",
       "</div>"
      ],
      "text/plain": [
       "        RECORD_TIME\n",
       "0  2021-11-27 03:30\n",
       "1  2021-11-27 03:00"
      ]
     },
     "execution_count": 3,
     "metadata": {},
     "output_type": "execute_result"
    }
   ],
   "source": [
    "timestamps"
   ]
  },
  {
   "cell_type": "code",
   "execution_count": 4,
   "id": "alternate-victory",
   "metadata": {
    "execution": {
     "iopub.execute_input": "2021-11-27T02:30:09.450675Z",
     "iopub.status.busy": "2021-11-27T02:30:09.448008Z",
     "iopub.status.idle": "2021-11-27T02:30:10.798267Z",
     "shell.execute_reply": "2021-11-27T02:30:10.800267Z"
    },
    "papermill": {
     "duration": 1.381687,
     "end_time": "2021-11-27T02:30:10.800825",
     "exception": false,
     "start_time": "2021-11-27T02:30:09.419138",
     "status": "completed"
    },
    "tags": []
   },
   "outputs": [],
   "source": [
    "df = pd.read_sql(\"select * from EBAY_TOP_BERLIN where record_time in (select distinct record_time from EBAY_TOP_BERLIN order by record_time desc limit 2)\", sqlite3.connect(\"UsedObjects.db\"))"
   ]
  },
  {
   "cell_type": "code",
   "execution_count": 5,
   "id": "popular-active",
   "metadata": {
    "execution": {
     "iopub.execute_input": "2021-11-27T02:30:10.866828Z",
     "iopub.status.busy": "2021-11-27T02:30:10.864116Z",
     "iopub.status.idle": "2021-11-27T02:30:10.903057Z",
     "shell.execute_reply": "2021-11-27T02:30:10.905330Z"
    },
    "papermill": {
     "duration": 0.08324,
     "end_time": "2021-11-27T02:30:10.905865",
     "exception": false,
     "start_time": "2021-11-27T02:30:10.822625",
     "status": "completed"
    },
    "tags": []
   },
   "outputs": [],
   "source": [
    "df_pivot = df.pivot_table(index=\"PRODUCT\", columns = \"RECORD_TIME\", values = \"LISTING_COUNT\")"
   ]
  },
  {
   "cell_type": "code",
   "execution_count": 6,
   "id": "union-huntington",
   "metadata": {
    "execution": {
     "iopub.execute_input": "2021-11-27T02:30:10.966046Z",
     "iopub.status.busy": "2021-11-27T02:30:10.963789Z",
     "iopub.status.idle": "2021-11-27T02:30:10.969718Z",
     "shell.execute_reply": "2021-11-27T02:30:10.971191Z"
    },
    "papermill": {
     "duration": 0.044151,
     "end_time": "2021-11-27T02:30:10.971659",
     "exception": false,
     "start_time": "2021-11-27T02:30:10.927508",
     "status": "completed"
    },
    "tags": []
   },
   "outputs": [],
   "source": [
    "df_pivot.columns = [\"stamp_1\", \"stamp_2\"]\n",
    "df_pivot_diff = df_pivot.diff(axis=1)"
   ]
  },
  {
   "cell_type": "code",
   "execution_count": 7,
   "id": "fifth-motion",
   "metadata": {
    "execution": {
     "iopub.execute_input": "2021-11-27T02:30:11.027314Z",
     "iopub.status.busy": "2021-11-27T02:30:11.024892Z",
     "iopub.status.idle": "2021-11-27T02:30:13.017894Z",
     "shell.execute_reply": "2021-11-27T02:30:13.019672Z"
    },
    "papermill": {
     "duration": 2.028828,
     "end_time": "2021-11-27T02:30:13.020284",
     "exception": false,
     "start_time": "2021-11-27T02:30:10.991456",
     "status": "completed"
    },
    "tags": []
   },
   "outputs": [
    {
     "data": {
      "text/plain": [
       "<AxesSubplot:ylabel='PRODUCT'>"
      ]
     },
     "execution_count": 7,
     "metadata": {},
     "output_type": "execute_result"
    },
    {
     "data": {
      "image/png": "[encoded data removed]",
      "text/plain": [
       "<Figure size 432x288 with 1 Axes>"
      ]
     },
     "metadata": {
      "needs_background": "light"
     },
     "output_type": "display_data"
    }
   ],
   "source": [
    "df_pivot_diff.sort_values(\"stamp_2\", ascending = False)[\"stamp_2\"].head(10).plot.barh()"
   ]
  },
  {
   "cell_type": "code",
   "execution_count": null,
   "id": "extra-executive",
   "metadata": {
    "papermill": {
     "duration": 0.027843,
     "end_time": "2021-11-27T02:30:13.076809",
     "exception": false,
     "start_time": "2021-11-27T02:30:13.048966",
     "status": "completed"
    },
    "tags": []
   },
   "outputs": [],
   "source": []
  }
 ],
 "metadata": {
  "kernelspec": {
   "display_name": "Python 3",
   "language": "python",
   "name": "python3"
  },
  "language_info": {
   "codemirror_mode": {
    "name": "ipython",
    "version": 3
   },
   "file_extension": ".py",
   "mimetype": "text/x-python",
   "name": "python",
   "nbconvert_exporter": "python",
   "pygments_lexer": "ipython3",
   "version": "3.9.5"
  },
  "papermill": {
   "default_parameters": {},
   "duration": 9.939161,
   "end_time": "2021-11-27T02:30:14.505369",
   "environment_variables": {},
   "exception": null,
   "input_path": "eBay_Overview.ipynb",
   "output_path": "eBay_Overview.ipynb",
   "parameters": {},
   "start_time": "2021-11-27T02:30:04.566208",
   "version": "2.3.3"
  }
 },
 "nbformat": 4,
 "nbformat_minor": 5
}