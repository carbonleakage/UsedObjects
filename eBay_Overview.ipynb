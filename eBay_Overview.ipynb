{
 "cells": [
  {
   "cell_type": "code",
   "execution_count": 1,
   "id": "reverse-picking",
   "metadata": {
    "execution": {
     "iopub.execute_input": "2021-11-09T07:00:08.281138Z",
     "iopub.status.busy": "2021-11-09T07:00:08.278203Z",
     "iopub.status.idle": "2021-11-09T07:00:09.232977Z",
     "shell.execute_reply": "2021-11-09T07:00:09.235247Z"
    },
    "papermill": {
     "duration": 1.001919,
     "end_time": "2021-11-09T07:00:09.235959",
     "exception": false,
     "start_time": "2021-11-09T07:00:08.234040",
     "status": "completed"
    },
    "tags": []
   },
   "outputs": [],
   "source": [
    "import pandas as pd\n",
    "import sqlite3"
   ]
  },
  {
   "cell_type": "code",
   "execution_count": 2,
   "id": "innovative-syndrome",
   "metadata": {
    "execution": {
     "iopub.execute_input": "2021-11-09T07:00:09.298962Z",
     "iopub.status.busy": "2021-11-09T07:00:09.296340Z",
     "iopub.status.idle": "2021-11-09T07:00:10.068606Z",
     "shell.execute_reply": "2021-11-09T07:00:10.070329Z"
    },
    "papermill": {
     "duration": 0.806578,
     "end_time": "2021-11-09T07:00:10.070919",
     "exception": false,
     "start_time": "2021-11-09T07:00:09.264341",
     "status": "completed"
    },
    "tags": []
   },
   "outputs": [],
   "source": [
    "timestamps = pd.read_sql(\"select distinct record_time from EBAY_TOP_BERLIN order by record_time desc limit 2\", sqlite3.connect(\"UsedObjects.db\"))"
   ]
  },
  {
   "cell_type": "code",
   "execution_count": 3,
   "id": "periodic-identification",
   "metadata": {
    "execution": {
     "iopub.execute_input": "2021-11-09T07:00:10.143944Z",
     "iopub.status.busy": "2021-11-09T07:00:10.141211Z",
     "iopub.status.idle": "2021-11-09T07:00:10.165310Z",
     "shell.execute_reply": "2021-11-09T07:00:10.167136Z"
    },
    "papermill": {
     "duration": 0.074345,
     "end_time": "2021-11-09T07:00:10.167647",
     "exception": false,
     "start_time": "2021-11-09T07:00:10.093302",
     "status": "completed"
    },
    "tags": []
   },
   "outputs": [
    {
     "data": {
      "text/html": [
       "<div>\n",
       "<style scoped>\n",
       "    .dataframe tbody tr th:only-of-type {\n",
       "        vertical-align: middle;\n",
       "    }\n",
       "\n",
       "    .dataframe tbody tr th {\n",
       "        vertical-align: top;\n",
       "    }\n",
       "\n",
       "    .dataframe thead th {\n",
       "        text-align: right;\n",
       "    }\n",
       "</style>\n",
       "<table border=\"1\" class=\"dataframe\">\n",
       "  <thead>\n",
       "    <tr style=\"text-align: right;\">\n",
       "      <th></th>\n",
       "      <th>RECORD_TIME</th>\n",
       "    </tr>\n",
       "  </thead>\n",
       "  <tbody>\n",
       "    <tr>\n",
       "      <th>0</th>\n",
       "      <td>2021-11-09 08:00</td>\n",
       "    </tr>\n",
       "    <tr>\n",
       "      <th>1</th>\n",
       "      <td>2021-11-09 07:30</td>\n",
       "    </tr>\n",
       "  </tbody>\n",
       "</table>\n",
       "</div>"
      ],
      "text/plain": [
       "        RECORD_TIME\n",
       "0  2021-11-09 08:00\n",
       "1  2021-11-09 07:30"
      ]
     },
     "execution_count": 3,
     "metadata": {},
     "output_type": "execute_result"
    }
   ],
   "source": [
    "timestamps"
   ]
  },
  {
   "cell_type": "code",
   "execution_count": 4,
   "id": "alternate-victory",
   "metadata": {
    "execution": {
     "iopub.execute_input": "2021-11-09T07:00:10.224151Z",
     "iopub.status.busy": "2021-11-09T07:00:10.221998Z",
     "iopub.status.idle": "2021-11-09T07:00:11.339115Z",
     "shell.execute_reply": "2021-11-09T07:00:11.340827Z"
    },
    "papermill": {
     "duration": 1.151995,
     "end_time": "2021-11-09T07:00:11.341361",
     "exception": false,
     "start_time": "2021-11-09T07:00:10.189366",
     "status": "completed"
    },
    "tags": []
   },
   "outputs": [],
   "source": [
    "df = pd.read_sql(\"select * from EBAY_TOP_BERLIN where record_time in (select distinct record_time from EBAY_TOP_BERLIN order by record_time desc limit 2)\", sqlite3.connect(\"UsedObjects.db\"))"
   ]
  },
  {
   "cell_type": "code",
   "execution_count": 5,
   "id": "popular-active",
   "metadata": {
    "execution": {
     "iopub.execute_input": "2021-11-09T07:00:11.447110Z",
     "iopub.status.busy": "2021-11-09T07:00:11.432764Z",
     "iopub.status.idle": "2021-11-09T07:00:11.468823Z",
     "shell.execute_reply": "2021-11-09T07:00:11.470360Z"
    },
    "papermill": {
     "duration": 0.103159,
     "end_time": "2021-11-09T07:00:11.470843",
     "exception": false,
     "start_time": "2021-11-09T07:00:11.367684",
     "status": "completed"
    },
    "tags": []
   },
   "outputs": [],
   "source": [
    "df_pivot = df.pivot_table(index=\"PRODUCT\", columns = \"RECORD_TIME\", values = \"LISTING_COUNT\")"
   ]
  },
  {
   "cell_type": "code",
   "execution_count": 6,
   "id": "union-huntington",
   "metadata": {
    "execution": {
     "iopub.execute_input": "2021-11-09T07:00:11.532785Z",
     "iopub.status.busy": "2021-11-09T07:00:11.530661Z",
     "iopub.status.idle": "2021-11-09T07:00:11.536099Z",
     "shell.execute_reply": "2021-11-09T07:00:11.537425Z"
    },
    "papermill": {
     "duration": 0.045251,
     "end_time": "2021-11-09T07:00:11.537869",
     "exception": false,
     "start_time": "2021-11-09T07:00:11.492618",
     "status": "completed"
    },
    "tags": []
   },
   "outputs": [],
   "source": [
    "df_pivot.columns = [\"stamp_1\", \"stamp_2\"]\n",
    "df_pivot_diff = df_pivot.diff(axis=1)"
   ]
  },
  {
   "cell_type": "code",
   "execution_count": 7,
   "id": "fifth-motion",
   "metadata": {
    "execution": {
     "iopub.execute_input": "2021-11-09T07:00:11.594081Z",
     "iopub.status.busy": "2021-11-09T07:00:11.591716Z",
     "iopub.status.idle": "2021-11-09T07:00:13.409591Z",
     "shell.execute_reply": "2021-11-09T07:00:13.412475Z"
    },
    "papermill": {
     "duration": 1.855233,
     "end_time": "2021-11-09T07:00:13.413580",
     "exception": false,
     "start_time": "2021-11-09T07:00:11.558347",
     "status": "completed"
    },
    "tags": []
   },
   "outputs": [
    {
     "data": {
      "text/plain": [
       "<AxesSubplot:ylabel='PRODUCT'>"
      ]
     },
     "execution_count": 7,
     "metadata": {},
     "output_type": "execute_result"
    },
    {
     "data": {
      "image/png": "[encoded data removed]",
      "text/plain": [
       "<Figure size 432x288 with 1 Axes>"
      ]
     },
     "metadata": {
      "needs_background": "light"
     },
     "output_type": "display_data"
    }
   ],
   "source": [
    "df_pivot_diff.sort_values(\"stamp_2\", ascending = False)[\"stamp_2\"].head(10).plot.barh()"
   ]
  },
  {
   "cell_type": "code",
   "execution_count": null,
   "id": "extra-executive",
   "metadata": {
    "papermill": {
     "duration": 0.034791,
     "end_time": "2021-11-09T07:00:13.485551",
     "exception": false,
     "start_time": "2021-11-09T07:00:13.450760",
     "status": "completed"
    },
    "tags": []
   },
   "outputs": [],
   "source": []
  }
 ],
 "metadata": {
  "kernelspec": {
   "display_name": "Python 3",
   "language": "python",
   "name": "python3"
  },
  "language_info": {
   "codemirror_mode": {
    "name": "ipython",
    "version": 3
   },
   "file_extension": ".py",
   "mimetype": "text/x-python",
   "name": "python",
   "nbconvert_exporter": "python",
   "pygments_lexer": "ipython3",
   "version": "3.9.5"
  },
  "papermill": {
   "default_parameters": {},
   "duration": 8.829197,
   "end_time": "2021-11-09T07:00:14.359911",
   "environment_variables": {},
   "exception": null,
   "input_path": "eBay_Overview.ipynb",
   "output_path": "eBay_Overview.ipynb",
   "parameters": {},
   "start_time": "2021-11-09T07:00:05.530714",
   "version": "2.3.3"
  }
 },
 "nbformat": 4,
 "nbformat_minor": 5
}