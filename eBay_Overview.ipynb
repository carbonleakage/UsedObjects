{
 "cells": [
  {
   "cell_type": "code",
   "execution_count": 1,
   "id": "reverse-picking",
   "metadata": {
    "execution": {
     "iopub.execute_input": "2021-10-07T19:00:07.476442Z",
     "iopub.status.busy": "2021-10-07T19:00:07.474406Z",
     "iopub.status.idle": "2021-10-07T19:00:08.281756Z",
     "shell.execute_reply": "2021-10-07T19:00:08.283084Z"
    },
    "papermill": {
     "duration": 0.860214,
     "end_time": "2021-10-07T19:00:08.283710",
     "exception": false,
     "start_time": "2021-10-07T19:00:07.423496",
     "status": "completed"
    },
    "tags": []
   },
   "outputs": [],
   "source": [
    "import pandas as pd\n",
    "import sqlite3"
   ]
  },
  {
   "cell_type": "code",
   "execution_count": 2,
   "id": "innovative-syndrome",
   "metadata": {
    "execution": {
     "iopub.execute_input": "2021-10-07T19:00:08.336245Z",
     "iopub.status.busy": "2021-10-07T19:00:08.334133Z",
     "iopub.status.idle": "2021-10-07T19:00:08.830615Z",
     "shell.execute_reply": "2021-10-07T19:00:08.831973Z"
    },
    "papermill": {
     "duration": 0.526251,
     "end_time": "2021-10-07T19:00:08.832393",
     "exception": false,
     "start_time": "2021-10-07T19:00:08.306142",
     "status": "completed"
    },
    "tags": []
   },
   "outputs": [],
   "source": [
    "timestamps = pd.read_sql(\"select distinct record_time from EBAY_TOP_BERLIN order by record_time desc limit 2\", sqlite3.connect(\"UsedObjects.db\"))"
   ]
  },
  {
   "cell_type": "code",
   "execution_count": 3,
   "id": "periodic-identification",
   "metadata": {
    "execution": {
     "iopub.execute_input": "2021-10-07T19:00:08.898710Z",
     "iopub.status.busy": "2021-10-07T19:00:08.896693Z",
     "iopub.status.idle": "2021-10-07T19:00:08.916695Z",
     "shell.execute_reply": "2021-10-07T19:00:08.917967Z"
    },
    "papermill": {
     "duration": 0.065315,
     "end_time": "2021-10-07T19:00:08.918373",
     "exception": false,
     "start_time": "2021-10-07T19:00:08.853058",
     "status": "completed"
    },
    "tags": []
   },
   "outputs": [
    {
     "data": {
      "text/html": [
       "<div>\n",
       "<style scoped>\n",
       "    .dataframe tbody tr th:only-of-type {\n",
       "        vertical-align: middle;\n",
       "    }\n",
       "\n",
       "    .dataframe tbody tr th {\n",
       "        vertical-align: top;\n",
       "    }\n",
       "\n",
       "    .dataframe thead th {\n",
       "        text-align: right;\n",
       "    }\n",
       "</style>\n",
       "<table border=\"1\" class=\"dataframe\">\n",
       "  <thead>\n",
       "    <tr style=\"text-align: right;\">\n",
       "      <th></th>\n",
       "      <th>RECORD_TIME</th>\n",
       "    </tr>\n",
       "  </thead>\n",
       "  <tbody>\n",
       "    <tr>\n",
       "      <th>0</th>\n",
       "      <td>2021-10-07 21:00</td>\n",
       "    </tr>\n",
       "    <tr>\n",
       "      <th>1</th>\n",
       "      <td>2021-10-07 20:30</td>\n",
       "    </tr>\n",
       "  </tbody>\n",
       "</table>\n",
       "</div>"
      ],
      "text/plain": [
       "        RECORD_TIME\n",
       "0  2021-10-07 21:00\n",
       "1  2021-10-07 20:30"
      ]
     },
     "execution_count": 3,
     "metadata": {},
     "output_type": "execute_result"
    }
   ],
   "source": [
    "timestamps"
   ]
  },
  {
   "cell_type": "code",
   "execution_count": 4,
   "id": "alternate-victory",
   "metadata": {
    "execution": {
     "iopub.execute_input": "2021-10-07T19:00:08.970761Z",
     "iopub.status.busy": "2021-10-07T19:00:08.968503Z",
     "iopub.status.idle": "2021-10-07T19:00:09.694418Z",
     "shell.execute_reply": "2021-10-07T19:00:09.695694Z"
    },
    "papermill": {
     "duration": 0.756554,
     "end_time": "2021-10-07T19:00:09.696099",
     "exception": false,
     "start_time": "2021-10-07T19:00:08.939545",
     "status": "completed"
    },
    "tags": []
   },
   "outputs": [],
   "source": [
    "df = pd.read_sql(\"select * from EBAY_TOP_BERLIN where record_time in (select distinct record_time from EBAY_TOP_BERLIN order by record_time desc limit 2)\", sqlite3.connect(\"UsedObjects.db\"))"
   ]
  },
  {
   "cell_type": "code",
   "execution_count": 5,
   "id": "popular-active",
   "metadata": {
    "execution": {
     "iopub.execute_input": "2021-10-07T19:00:09.767676Z",
     "iopub.status.busy": "2021-10-07T19:00:09.754725Z",
     "iopub.status.idle": "2021-10-07T19:00:09.783123Z",
     "shell.execute_reply": "2021-10-07T19:00:09.784339Z"
    },
    "papermill": {
     "duration": 0.067834,
     "end_time": "2021-10-07T19:00:09.784734",
     "exception": false,
     "start_time": "2021-10-07T19:00:09.716900",
     "status": "completed"
    },
    "tags": []
   },
   "outputs": [],
   "source": [
    "df_pivot = df.pivot_table(index=\"PRODUCT\", columns = \"RECORD_TIME\", values = \"LISTING_COUNT\")"
   ]
  },
  {
   "cell_type": "code",
   "execution_count": 6,
   "id": "union-huntington",
   "metadata": {
    "execution": {
     "iopub.execute_input": "2021-10-07T19:00:09.842721Z",
     "iopub.status.busy": "2021-10-07T19:00:09.840464Z",
     "iopub.status.idle": "2021-10-07T19:00:09.846293Z",
     "shell.execute_reply": "2021-10-07T19:00:09.847662Z"
    },
    "papermill": {
     "duration": 0.042484,
     "end_time": "2021-10-07T19:00:09.848084",
     "exception": false,
     "start_time": "2021-10-07T19:00:09.805600",
     "status": "completed"
    },
    "tags": []
   },
   "outputs": [],
   "source": [
    "df_pivot.columns = [\"stamp_1\", \"stamp_2\"]\n",
    "df_pivot_diff = df_pivot.diff(axis=1)"
   ]
  },
  {
   "cell_type": "code",
   "execution_count": 7,
   "id": "fifth-motion",
   "metadata": {
    "execution": {
     "iopub.execute_input": "2021-10-07T19:00:09.902166Z",
     "iopub.status.busy": "2021-10-07T19:00:09.899907Z",
     "iopub.status.idle": "2021-10-07T19:00:11.370459Z",
     "shell.execute_reply": "2021-10-07T19:00:11.371949Z"
    },
    "papermill": {
     "duration": 1.504151,
     "end_time": "2021-10-07T19:00:11.372403",
     "exception": false,
     "start_time": "2021-10-07T19:00:09.868252",
     "status": "completed"
    },
    "tags": []
   },
   "outputs": [
    {
     "data": {
      "text/plain": [
       "<AxesSubplot:ylabel='PRODUCT'>"
      ]
     },
     "execution_count": 7,
     "metadata": {},
     "output_type": "execute_result"
    },
    {
     "data": {
      "image/png": "[encoded data removed]",
      "text/plain": [
       "<Figure size 432x288 with 1 Axes>"
      ]
     },
     "metadata": {
      "needs_background": "light"
     },
     "output_type": "display_data"
    }
   ],
   "source": [
    "df_pivot_diff.sort_values(\"stamp_2\", ascending = False)[\"stamp_2\"].head(10).plot.barh()"
   ]
  },
  {
   "cell_type": "code",
   "execution_count": null,
   "id": "extra-executive",
   "metadata": {
    "papermill": {
     "duration": 0.022476,
     "end_time": "2021-10-07T19:00:11.419782",
     "exception": false,
     "start_time": "2021-10-07T19:00:11.397306",
     "status": "completed"
    },
    "tags": []
   },
   "outputs": [],
   "source": []
  }
 ],
 "metadata": {
  "kernelspec": {
   "display_name": "Python 3",
   "language": "python",
   "name": "python3"
  },
  "language_info": {
   "codemirror_mode": {
    "name": "ipython",
    "version": 3
   },
   "file_extension": ".py",
   "mimetype": "text/x-python",
   "name": "python",
   "nbconvert_exporter": "python",
   "pygments_lexer": "ipython3",
   "version": "3.9.5"
  },
  "papermill": {
   "default_parameters": {},
   "duration": 7.831345,
   "end_time": "2021-10-07T19:00:12.833878",
   "environment_variables": {},
   "exception": null,
   "input_path": "eBay_Overview.ipynb",
   "output_path": "eBay_Overview.ipynb",
   "parameters": {},
   "start_time": "2021-10-07T19:00:05.002533",
   "version": "2.3.3"
  }
 },
 "nbformat": 4,
 "nbformat_minor": 5
}