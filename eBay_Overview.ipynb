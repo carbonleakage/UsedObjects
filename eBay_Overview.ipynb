{
 "cells": [
  {
   "cell_type": "code",
   "execution_count": 1,
   "id": "reverse-picking",
   "metadata": {
    "execution": {
     "iopub.execute_input": "2021-08-10T09:00:04.385697Z",
     "iopub.status.busy": "2021-08-10T09:00:04.384943Z",
     "iopub.status.idle": "2021-08-10T09:00:05.015101Z",
     "shell.execute_reply": "2021-08-10T09:00:05.015655Z"
    },
    "papermill": {
     "duration": 0.649155,
     "end_time": "2021-08-10T09:00:05.015943",
     "exception": false,
     "start_time": "2021-08-10T09:00:04.366788",
     "status": "completed"
    },
    "tags": []
   },
   "outputs": [],
   "source": [
    "import pandas as pd\n",
    "import sqlite3"
   ]
  },
  {
   "cell_type": "code",
   "execution_count": 2,
   "id": "innovative-syndrome",
   "metadata": {
    "execution": {
     "iopub.execute_input": "2021-08-10T09:00:05.038366Z",
     "iopub.status.busy": "2021-08-10T09:00:05.037185Z",
     "iopub.status.idle": "2021-08-10T09:00:05.327463Z",
     "shell.execute_reply": "2021-08-10T09:00:05.326393Z"
    },
    "papermill": {
     "duration": 0.303396,
     "end_time": "2021-08-10T09:00:05.327730",
     "exception": false,
     "start_time": "2021-08-10T09:00:05.024334",
     "status": "completed"
    },
    "tags": []
   },
   "outputs": [],
   "source": [
    "timestamps = pd.read_sql(\"select distinct record_time from EBAY_TOP_BERLIN order by record_time desc limit 2\", sqlite3.connect(\"UsedObjects.db\"))"
   ]
  },
  {
   "cell_type": "code",
   "execution_count": 3,
   "id": "periodic-identification",
   "metadata": {
    "execution": {
     "iopub.execute_input": "2021-08-10T09:00:05.367185Z",
     "iopub.status.busy": "2021-08-10T09:00:05.366412Z",
     "iopub.status.idle": "2021-08-10T09:00:05.377451Z",
     "shell.execute_reply": "2021-08-10T09:00:05.377977Z"
    },
    "papermill": {
     "duration": 0.04026,
     "end_time": "2021-08-10T09:00:05.378155",
     "exception": false,
     "start_time": "2021-08-10T09:00:05.337895",
     "status": "completed"
    },
    "tags": []
   },
   "outputs": [
    {
     "data": {
      "text/html": [
       "<div>\n",
       "<style scoped>\n",
       "    .dataframe tbody tr th:only-of-type {\n",
       "        vertical-align: middle;\n",
       "    }\n",
       "\n",
       "    .dataframe tbody tr th {\n",
       "        vertical-align: top;\n",
       "    }\n",
       "\n",
       "    .dataframe thead th {\n",
       "        text-align: right;\n",
       "    }\n",
       "</style>\n",
       "<table border=\"1\" class=\"dataframe\">\n",
       "  <thead>\n",
       "    <tr style=\"text-align: right;\">\n",
       "      <th></th>\n",
       "      <th>RECORD_TIME</th>\n",
       "    </tr>\n",
       "  </thead>\n",
       "  <tbody>\n",
       "    <tr>\n",
       "      <th>0</th>\n",
       "      <td>2021-08-10 11:00</td>\n",
       "    </tr>\n",
       "    <tr>\n",
       "      <th>1</th>\n",
       "      <td>2021-08-10 10:30</td>\n",
       "    </tr>\n",
       "  </tbody>\n",
       "</table>\n",
       "</div>"
      ],
      "text/plain": [
       "        RECORD_TIME\n",
       "0  2021-08-10 11:00\n",
       "1  2021-08-10 10:30"
      ]
     },
     "execution_count": 3,
     "metadata": {},
     "output_type": "execute_result"
    }
   ],
   "source": [
    "timestamps"
   ]
  },
  {
   "cell_type": "code",
   "execution_count": 4,
   "id": "alternate-victory",
   "metadata": {
    "execution": {
     "iopub.execute_input": "2021-08-10T09:00:05.401484Z",
     "iopub.status.busy": "2021-08-10T09:00:05.400735Z",
     "iopub.status.idle": "2021-08-10T09:00:05.415517Z",
     "shell.execute_reply": "2021-08-10T09:00:05.414900Z"
    },
    "papermill": {
     "duration": 0.028501,
     "end_time": "2021-08-10T09:00:05.415676",
     "exception": false,
     "start_time": "2021-08-10T09:00:05.387175",
     "status": "completed"
    },
    "tags": []
   },
   "outputs": [],
   "source": [
    "df = pd.read_sql(\"select * from EBAY_TOP_BERLIN where record_time in (select distinct record_time from EBAY_TOP_BERLIN order by record_time desc limit 2)\", sqlite3.connect(\"UsedObjects.db\"))"
   ]
  },
  {
   "cell_type": "code",
   "execution_count": 5,
   "id": "popular-active",
   "metadata": {
    "execution": {
     "iopub.execute_input": "2021-08-10T09:00:05.450428Z",
     "iopub.status.busy": "2021-08-10T09:00:05.449421Z",
     "iopub.status.idle": "2021-08-10T09:00:05.467612Z",
     "shell.execute_reply": "2021-08-10T09:00:05.468194Z"
    },
    "papermill": {
     "duration": 0.040485,
     "end_time": "2021-08-10T09:00:05.468377",
     "exception": false,
     "start_time": "2021-08-10T09:00:05.427892",
     "status": "completed"
    },
    "tags": []
   },
   "outputs": [],
   "source": [
    "df_pivot = df.pivot_table(index=\"PRODUCT\", columns = \"RECORD_TIME\", values = \"LISTING_COUNT\")"
   ]
  },
  {
   "cell_type": "code",
   "execution_count": 6,
   "id": "union-huntington",
   "metadata": {
    "execution": {
     "iopub.execute_input": "2021-08-10T09:00:05.493952Z",
     "iopub.status.busy": "2021-08-10T09:00:05.493137Z",
     "iopub.status.idle": "2021-08-10T09:00:05.496293Z",
     "shell.execute_reply": "2021-08-10T09:00:05.495719Z"
    },
    "papermill": {
     "duration": 0.019414,
     "end_time": "2021-08-10T09:00:05.496442",
     "exception": false,
     "start_time": "2021-08-10T09:00:05.477028",
     "status": "completed"
    },
    "tags": []
   },
   "outputs": [],
   "source": [
    "df_pivot.columns = [\"stamp_1\", \"stamp_2\"]\n",
    "df_pivot_diff = df_pivot.diff(axis=1)"
   ]
  },
  {
   "cell_type": "code",
   "execution_count": 7,
   "id": "fifth-motion",
   "metadata": {
    "execution": {
     "iopub.execute_input": "2021-08-10T09:00:05.525627Z",
     "iopub.status.busy": "2021-08-10T09:00:05.524802Z",
     "iopub.status.idle": "2021-08-10T09:00:06.220721Z",
     "shell.execute_reply": "2021-08-10T09:00:06.219873Z"
    },
    "papermill": {
     "duration": 0.713999,
     "end_time": "2021-08-10T09:00:06.220936",
     "exception": false,
     "start_time": "2021-08-10T09:00:05.506937",
     "status": "completed"
    },
    "tags": []
   },
   "outputs": [
    {
     "data": {
      "text/plain": [
       "<AxesSubplot:ylabel='PRODUCT'>"
      ]
     },
     "execution_count": 7,
     "metadata": {},
     "output_type": "execute_result"
    },
    {
     "data": {
      "image/png": "[encoded data removed]",
      "text/plain": [
       "<Figure size 432x288 with 1 Axes>"
      ]
     },
     "metadata": {
      "needs_background": "light"
     },
     "output_type": "display_data"
    }
   ],
   "source": [
    "df_pivot_diff.sort_values(\"stamp_2\", ascending = False)[\"stamp_2\"].head(10).plot.barh()"
   ]
  },
  {
   "cell_type": "code",
   "execution_count": null,
   "id": "extra-executive",
   "metadata": {
    "papermill": {
     "duration": 0.00978,
     "end_time": "2021-08-10T09:00:06.241314",
     "exception": false,
     "start_time": "2021-08-10T09:00:06.231534",
     "status": "completed"
    },
    "tags": []
   },
   "outputs": [],
   "source": []
  }
 ],
 "metadata": {
  "kernelspec": {
   "display_name": "Python 3",
   "language": "python",
   "name": "python3"
  },
  "language_info": {
   "codemirror_mode": {
    "name": "ipython",
    "version": 3
   },
   "file_extension": ".py",
   "mimetype": "text/x-python",
   "name": "python",
   "nbconvert_exporter": "python",
   "pygments_lexer": "ipython3",
   "version": "3.8.8"
  },
  "papermill": {
   "default_parameters": {},
   "duration": 5.132395,
   "end_time": "2021-08-10T09:00:07.768918",
   "environment_variables": {},
   "exception": null,
   "input_path": "/Users/saravananshanmugam/Carbonleakage_Git/UsedObjects/eBay_Overview.ipynb",
   "output_path": "/Users/saravananshanmugam/Carbonleakage_Git/UsedObjects/eBay_Overview.ipynb",
   "parameters": {},
   "start_time": "2021-08-10T09:00:02.636523",
   "version": "2.3.3"
  }
 },
 "nbformat": 4,
 "nbformat_minor": 5
}