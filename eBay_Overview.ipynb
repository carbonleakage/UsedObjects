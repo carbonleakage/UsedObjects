{
 "cells": [
  {
   "cell_type": "code",
   "execution_count": 1,
   "id": "reverse-picking",
   "metadata": {
    "execution": {
     "iopub.execute_input": "2021-10-19T16:00:07.117991Z",
     "iopub.status.busy": "2021-10-19T16:00:07.115829Z",
     "iopub.status.idle": "2021-10-19T16:00:07.923669Z",
     "shell.execute_reply": "2021-10-19T16:00:07.922102Z"
    },
    "papermill": {
     "duration": 0.859284,
     "end_time": "2021-10-19T16:00:07.924068",
     "exception": false,
     "start_time": "2021-10-19T16:00:07.064784",
     "status": "completed"
    },
    "tags": []
   },
   "outputs": [],
   "source": [
    "import pandas as pd\n",
    "import sqlite3"
   ]
  },
  {
   "cell_type": "code",
   "execution_count": 2,
   "id": "innovative-syndrome",
   "metadata": {
    "execution": {
     "iopub.execute_input": "2021-10-19T16:00:07.975771Z",
     "iopub.status.busy": "2021-10-19T16:00:07.973918Z",
     "iopub.status.idle": "2021-10-19T16:00:08.547146Z",
     "shell.execute_reply": "2021-10-19T16:00:08.548363Z"
    },
    "papermill": {
     "duration": 0.602845,
     "end_time": "2021-10-19T16:00:08.548818",
     "exception": false,
     "start_time": "2021-10-19T16:00:07.945973",
     "status": "completed"
    },
    "tags": []
   },
   "outputs": [],
   "source": [
    "timestamps = pd.read_sql(\"select distinct record_time from EBAY_TOP_BERLIN order by record_time desc limit 2\", sqlite3.connect(\"UsedObjects.db\"))"
   ]
  },
  {
   "cell_type": "code",
   "execution_count": 3,
   "id": "periodic-identification",
   "metadata": {
    "execution": {
     "iopub.execute_input": "2021-10-19T16:00:08.623951Z",
     "iopub.status.busy": "2021-10-19T16:00:08.621951Z",
     "iopub.status.idle": "2021-10-19T16:00:08.641994Z",
     "shell.execute_reply": "2021-10-19T16:00:08.643189Z"
    },
    "papermill": {
     "duration": 0.069432,
     "end_time": "2021-10-19T16:00:08.643620",
     "exception": false,
     "start_time": "2021-10-19T16:00:08.574188",
     "status": "completed"
    },
    "tags": []
   },
   "outputs": [
    {
     "data": {
      "text/html": [
       "<div>\n",
       "<style scoped>\n",
       "    .dataframe tbody tr th:only-of-type {\n",
       "        vertical-align: middle;\n",
       "    }\n",
       "\n",
       "    .dataframe tbody tr th {\n",
       "        vertical-align: top;\n",
       "    }\n",
       "\n",
       "    .dataframe thead th {\n",
       "        text-align: right;\n",
       "    }\n",
       "</style>\n",
       "<table border=\"1\" class=\"dataframe\">\n",
       "  <thead>\n",
       "    <tr style=\"text-align: right;\">\n",
       "      <th></th>\n",
       "      <th>RECORD_TIME</th>\n",
       "    </tr>\n",
       "  </thead>\n",
       "  <tbody>\n",
       "    <tr>\n",
       "      <th>0</th>\n",
       "      <td>2021-10-19 18:00</td>\n",
       "    </tr>\n",
       "    <tr>\n",
       "      <th>1</th>\n",
       "      <td>2021-10-19 17:30</td>\n",
       "    </tr>\n",
       "  </tbody>\n",
       "</table>\n",
       "</div>"
      ],
      "text/plain": [
       "        RECORD_TIME\n",
       "0  2021-10-19 18:00\n",
       "1  2021-10-19 17:30"
      ]
     },
     "execution_count": 3,
     "metadata": {},
     "output_type": "execute_result"
    }
   ],
   "source": [
    "timestamps"
   ]
  },
  {
   "cell_type": "code",
   "execution_count": 4,
   "id": "alternate-victory",
   "metadata": {
    "execution": {
     "iopub.execute_input": "2021-10-19T16:00:08.697652Z",
     "iopub.status.busy": "2021-10-19T16:00:08.695298Z",
     "iopub.status.idle": "2021-10-19T16:00:09.568415Z",
     "shell.execute_reply": "2021-10-19T16:00:09.569854Z"
    },
    "papermill": {
     "duration": 0.90372,
     "end_time": "2021-10-19T16:00:09.570306",
     "exception": false,
     "start_time": "2021-10-19T16:00:08.666586",
     "status": "completed"
    },
    "tags": []
   },
   "outputs": [],
   "source": [
    "df = pd.read_sql(\"select * from EBAY_TOP_BERLIN where record_time in (select distinct record_time from EBAY_TOP_BERLIN order by record_time desc limit 2)\", sqlite3.connect(\"UsedObjects.db\"))"
   ]
  },
  {
   "cell_type": "code",
   "execution_count": 5,
   "id": "popular-active",
   "metadata": {
    "execution": {
     "iopub.execute_input": "2021-10-19T16:00:09.642360Z",
     "iopub.status.busy": "2021-10-19T16:00:09.630357Z",
     "iopub.status.idle": "2021-10-19T16:00:09.659543Z",
     "shell.execute_reply": "2021-10-19T16:00:09.660957Z"
    },
    "papermill": {
     "duration": 0.069764,
     "end_time": "2021-10-19T16:00:09.661420",
     "exception": false,
     "start_time": "2021-10-19T16:00:09.591656",
     "status": "completed"
    },
    "tags": []
   },
   "outputs": [],
   "source": [
    "df_pivot = df.pivot_table(index=\"PRODUCT\", columns = \"RECORD_TIME\", values = \"LISTING_COUNT\")"
   ]
  },
  {
   "cell_type": "code",
   "execution_count": 6,
   "id": "union-huntington",
   "metadata": {
    "execution": {
     "iopub.execute_input": "2021-10-19T16:00:09.718386Z",
     "iopub.status.busy": "2021-10-19T16:00:09.715896Z",
     "iopub.status.idle": "2021-10-19T16:00:09.721901Z",
     "shell.execute_reply": "2021-10-19T16:00:09.723196Z"
    },
    "papermill": {
     "duration": 0.042132,
     "end_time": "2021-10-19T16:00:09.723615",
     "exception": false,
     "start_time": "2021-10-19T16:00:09.681483",
     "status": "completed"
    },
    "tags": []
   },
   "outputs": [],
   "source": [
    "df_pivot.columns = [\"stamp_1\", \"stamp_2\"]\n",
    "df_pivot_diff = df_pivot.diff(axis=1)"
   ]
  },
  {
   "cell_type": "code",
   "execution_count": 7,
   "id": "fifth-motion",
   "metadata": {
    "execution": {
     "iopub.execute_input": "2021-10-19T16:00:09.777494Z",
     "iopub.status.busy": "2021-10-19T16:00:09.775111Z",
     "iopub.status.idle": "2021-10-19T16:00:11.251122Z",
     "shell.execute_reply": "2021-10-19T16:00:11.252339Z"
    },
    "papermill": {
     "duration": 1.508683,
     "end_time": "2021-10-19T16:00:11.252912",
     "exception": false,
     "start_time": "2021-10-19T16:00:09.744229",
     "status": "completed"
    },
    "tags": []
   },
   "outputs": [
    {
     "data": {
      "text/plain": [
       "<AxesSubplot:ylabel='PRODUCT'>"
      ]
     },
     "execution_count": 7,
     "metadata": {},
     "output_type": "execute_result"
    },
    {
     "data": {
      "image/png": "[encoded data removed]",
      "text/plain": [
       "<Figure size 432x288 with 1 Axes>"
      ]
     },
     "metadata": {
      "needs_background": "light"
     },
     "output_type": "display_data"
    }
   ],
   "source": [
    "df_pivot_diff.sort_values(\"stamp_2\", ascending = False)[\"stamp_2\"].head(10).plot.barh()"
   ]
  },
  {
   "cell_type": "code",
   "execution_count": null,
   "id": "extra-executive",
   "metadata": {
    "papermill": {
     "duration": 0.022184,
     "end_time": "2021-10-19T16:00:11.300406",
     "exception": false,
     "start_time": "2021-10-19T16:00:11.278222",
     "status": "completed"
    },
    "tags": []
   },
   "outputs": [],
   "source": []
  }
 ],
 "metadata": {
  "kernelspec": {
   "display_name": "Python 3",
   "language": "python",
   "name": "python3"
  },
  "language_info": {
   "codemirror_mode": {
    "name": "ipython",
    "version": 3
   },
   "file_extension": ".py",
   "mimetype": "text/x-python",
   "name": "python",
   "nbconvert_exporter": "python",
   "pygments_lexer": "ipython3",
   "version": "3.9.5"
  },
  "papermill": {
   "default_parameters": {},
   "duration": 7.822841,
   "end_time": "2021-10-19T16:00:12.479914",
   "environment_variables": {},
   "exception": null,
   "input_path": "eBay_Overview.ipynb",
   "output_path": "eBay_Overview.ipynb",
   "parameters": {},
   "start_time": "2021-10-19T16:00:04.657073",
   "version": "2.3.3"
  }
 },
 "nbformat": 4,
 "nbformat_minor": 5
}