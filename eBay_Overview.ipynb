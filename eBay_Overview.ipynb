{
 "cells": [
  {
   "cell_type": "code",
   "execution_count": 1,
   "id": "reverse-picking",
   "metadata": {
    "execution": {
     "iopub.execute_input": "2021-10-17T09:30:06.566781Z",
     "iopub.status.busy": "2021-10-17T09:30:06.564776Z",
     "iopub.status.idle": "2021-10-17T09:30:07.375523Z",
     "shell.execute_reply": "2021-10-17T09:30:07.373421Z"
    },
    "papermill": {
     "duration": 0.863191,
     "end_time": "2021-10-17T09:30:07.375977",
     "exception": false,
     "start_time": "2021-10-17T09:30:06.512786",
     "status": "completed"
    },
    "tags": []
   },
   "outputs": [],
   "source": [
    "import pandas as pd\n",
    "import sqlite3"
   ]
  },
  {
   "cell_type": "code",
   "execution_count": 2,
   "id": "innovative-syndrome",
   "metadata": {
    "execution": {
     "iopub.execute_input": "2021-10-17T09:30:07.427033Z",
     "iopub.status.busy": "2021-10-17T09:30:07.424611Z",
     "iopub.status.idle": "2021-10-17T09:30:07.975232Z",
     "shell.execute_reply": "2021-10-17T09:30:07.976515Z"
    },
    "papermill": {
     "duration": 0.580783,
     "end_time": "2021-10-17T09:30:07.976989",
     "exception": false,
     "start_time": "2021-10-17T09:30:07.396206",
     "status": "completed"
    },
    "tags": []
   },
   "outputs": [],
   "source": [
    "timestamps = pd.read_sql(\"select distinct record_time from EBAY_TOP_BERLIN order by record_time desc limit 2\", sqlite3.connect(\"UsedObjects.db\"))"
   ]
  },
  {
   "cell_type": "code",
   "execution_count": 3,
   "id": "periodic-identification",
   "metadata": {
    "execution": {
     "iopub.execute_input": "2021-10-17T09:30:08.054605Z",
     "iopub.status.busy": "2021-10-17T09:30:08.049556Z",
     "iopub.status.idle": "2021-10-17T09:30:08.069485Z",
     "shell.execute_reply": "2021-10-17T09:30:08.070774Z"
    },
    "papermill": {
     "duration": 0.069188,
     "end_time": "2021-10-17T09:30:08.071186",
     "exception": false,
     "start_time": "2021-10-17T09:30:08.001998",
     "status": "completed"
    },
    "tags": []
   },
   "outputs": [
    {
     "data": {
      "text/html": [
       "<div>\n",
       "<style scoped>\n",
       "    .dataframe tbody tr th:only-of-type {\n",
       "        vertical-align: middle;\n",
       "    }\n",
       "\n",
       "    .dataframe tbody tr th {\n",
       "        vertical-align: top;\n",
       "    }\n",
       "\n",
       "    .dataframe thead th {\n",
       "        text-align: right;\n",
       "    }\n",
       "</style>\n",
       "<table border=\"1\" class=\"dataframe\">\n",
       "  <thead>\n",
       "    <tr style=\"text-align: right;\">\n",
       "      <th></th>\n",
       "      <th>RECORD_TIME</th>\n",
       "    </tr>\n",
       "  </thead>\n",
       "  <tbody>\n",
       "    <tr>\n",
       "      <th>0</th>\n",
       "      <td>2021-10-17 11:30</td>\n",
       "    </tr>\n",
       "    <tr>\n",
       "      <th>1</th>\n",
       "      <td>2021-10-17 11:00</td>\n",
       "    </tr>\n",
       "  </tbody>\n",
       "</table>\n",
       "</div>"
      ],
      "text/plain": [
       "        RECORD_TIME\n",
       "0  2021-10-17 11:30\n",
       "1  2021-10-17 11:00"
      ]
     },
     "execution_count": 3,
     "metadata": {},
     "output_type": "execute_result"
    }
   ],
   "source": [
    "timestamps"
   ]
  },
  {
   "cell_type": "code",
   "execution_count": 4,
   "id": "alternate-victory",
   "metadata": {
    "execution": {
     "iopub.execute_input": "2021-10-17T09:30:08.123030Z",
     "iopub.status.busy": "2021-10-17T09:30:08.120858Z",
     "iopub.status.idle": "2021-10-17T09:30:08.928676Z",
     "shell.execute_reply": "2021-10-17T09:30:08.929955Z"
    },
    "papermill": {
     "duration": 0.838037,
     "end_time": "2021-10-17T09:30:08.930349",
     "exception": false,
     "start_time": "2021-10-17T09:30:08.092312",
     "status": "completed"
    },
    "tags": []
   },
   "outputs": [],
   "source": [
    "df = pd.read_sql(\"select * from EBAY_TOP_BERLIN where record_time in (select distinct record_time from EBAY_TOP_BERLIN order by record_time desc limit 2)\", sqlite3.connect(\"UsedObjects.db\"))"
   ]
  },
  {
   "cell_type": "code",
   "execution_count": 5,
   "id": "popular-active",
   "metadata": {
    "execution": {
     "iopub.execute_input": "2021-10-17T09:30:09.001902Z",
     "iopub.status.busy": "2021-10-17T09:30:08.988616Z",
     "iopub.status.idle": "2021-10-17T09:30:09.018873Z",
     "shell.execute_reply": "2021-10-17T09:30:09.020248Z"
    },
    "papermill": {
     "duration": 0.069153,
     "end_time": "2021-10-17T09:30:09.020731",
     "exception": false,
     "start_time": "2021-10-17T09:30:08.951578",
     "status": "completed"
    },
    "tags": []
   },
   "outputs": [],
   "source": [
    "df_pivot = df.pivot_table(index=\"PRODUCT\", columns = \"RECORD_TIME\", values = \"LISTING_COUNT\")"
   ]
  },
  {
   "cell_type": "code",
   "execution_count": 6,
   "id": "union-huntington",
   "metadata": {
    "execution": {
     "iopub.execute_input": "2021-10-17T09:30:09.077655Z",
     "iopub.status.busy": "2021-10-17T09:30:09.075545Z",
     "iopub.status.idle": "2021-10-17T09:30:09.080887Z",
     "shell.execute_reply": "2021-10-17T09:30:09.082341Z"
    },
    "papermill": {
     "duration": 0.041029,
     "end_time": "2021-10-17T09:30:09.082779",
     "exception": false,
     "start_time": "2021-10-17T09:30:09.041750",
     "status": "completed"
    },
    "tags": []
   },
   "outputs": [],
   "source": [
    "df_pivot.columns = [\"stamp_1\", \"stamp_2\"]\n",
    "df_pivot_diff = df_pivot.diff(axis=1)"
   ]
  },
  {
   "cell_type": "code",
   "execution_count": 7,
   "id": "fifth-motion",
   "metadata": {
    "execution": {
     "iopub.execute_input": "2021-10-17T09:30:09.138074Z",
     "iopub.status.busy": "2021-10-17T09:30:09.135485Z",
     "iopub.status.idle": "2021-10-17T09:30:10.633135Z",
     "shell.execute_reply": "2021-10-17T09:30:10.634439Z"
    },
    "papermill": {
     "duration": 1.530743,
     "end_time": "2021-10-17T09:30:10.634891",
     "exception": false,
     "start_time": "2021-10-17T09:30:09.104148",
     "status": "completed"
    },
    "tags": []
   },
   "outputs": [
    {
     "data": {
      "text/plain": [
       "<AxesSubplot:ylabel='PRODUCT'>"
      ]
     },
     "execution_count": 7,
     "metadata": {},
     "output_type": "execute_result"
    },
    {
     "data": {
      "image/png": "[encoded data removed]",
      "text/plain": [
       "<Figure size 432x288 with 1 Axes>"
      ]
     },
     "metadata": {
      "needs_background": "light"
     },
     "output_type": "display_data"
    }
   ],
   "source": [
    "df_pivot_diff.sort_values(\"stamp_2\", ascending = False)[\"stamp_2\"].head(10).plot.barh()"
   ]
  },
  {
   "cell_type": "code",
   "execution_count": null,
   "id": "extra-executive",
   "metadata": {
    "papermill": {
     "duration": 0.02213,
     "end_time": "2021-10-17T09:30:10.681836",
     "exception": false,
     "start_time": "2021-10-17T09:30:10.659706",
     "status": "completed"
    },
    "tags": []
   },
   "outputs": [],
   "source": []
  }
 ],
 "metadata": {
  "kernelspec": {
   "display_name": "Python 3",
   "language": "python",
   "name": "python3"
  },
  "language_info": {
   "codemirror_mode": {
    "name": "ipython",
    "version": 3
   },
   "file_extension": ".py",
   "mimetype": "text/x-python",
   "name": "python",
   "nbconvert_exporter": "python",
   "pygments_lexer": "ipython3",
   "version": "3.9.5"
  },
  "papermill": {
   "default_parameters": {},
   "duration": 7.821632,
   "end_time": "2021-10-17T09:30:11.923835",
   "environment_variables": {},
   "exception": null,
   "input_path": "eBay_Overview.ipynb",
   "output_path": "eBay_Overview.ipynb",
   "parameters": {},
   "start_time": "2021-10-17T09:30:04.102203",
   "version": "2.3.3"
  }
 },
 "nbformat": 4,
 "nbformat_minor": 5
}