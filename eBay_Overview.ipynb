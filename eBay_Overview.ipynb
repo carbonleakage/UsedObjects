{
 "cells": [
  {
   "cell_type": "code",
   "execution_count": 1,
   "id": "reverse-picking",
   "metadata": {
    "execution": {
     "iopub.execute_input": "2021-08-30T23:00:06.974525Z",
     "iopub.status.busy": "2021-08-30T23:00:06.972599Z",
     "iopub.status.idle": "2021-08-30T23:00:07.775492Z",
     "shell.execute_reply": "2021-08-30T23:00:07.776895Z"
    },
    "papermill": {
     "duration": 0.855543,
     "end_time": "2021-08-30T23:00:07.777566",
     "exception": false,
     "start_time": "2021-08-30T23:00:06.922023",
     "status": "completed"
    },
    "tags": []
   },
   "outputs": [],
   "source": [
    "import pandas as pd\n",
    "import sqlite3"
   ]
  },
  {
   "cell_type": "code",
   "execution_count": 2,
   "id": "innovative-syndrome",
   "metadata": {
    "execution": {
     "iopub.execute_input": "2021-08-30T23:00:07.828792Z",
     "iopub.status.busy": "2021-08-30T23:00:07.826635Z",
     "iopub.status.idle": "2021-08-30T23:00:07.994184Z",
     "shell.execute_reply": "2021-08-30T23:00:07.995397Z"
    },
    "papermill": {
     "duration": 0.197973,
     "end_time": "2021-08-30T23:00:07.995797",
     "exception": false,
     "start_time": "2021-08-30T23:00:07.797824",
     "status": "completed"
    },
    "tags": []
   },
   "outputs": [],
   "source": [
    "timestamps = pd.read_sql(\"select distinct record_time from EBAY_TOP_BERLIN order by record_time desc limit 2\", sqlite3.connect(\"UsedObjects.db\"))"
   ]
  },
  {
   "cell_type": "code",
   "execution_count": 3,
   "id": "periodic-identification",
   "metadata": {
    "execution": {
     "iopub.execute_input": "2021-08-30T23:00:08.063854Z",
     "iopub.status.busy": "2021-08-30T23:00:08.058816Z",
     "iopub.status.idle": "2021-08-30T23:00:08.078493Z",
     "shell.execute_reply": "2021-08-30T23:00:08.079727Z"
    },
    "papermill": {
     "duration": 0.06322,
     "end_time": "2021-08-30T23:00:08.080126",
     "exception": false,
     "start_time": "2021-08-30T23:00:08.016906",
     "status": "completed"
    },
    "tags": []
   },
   "outputs": [
    {
     "data": {
      "text/html": [
       "<div>\n",
       "<style scoped>\n",
       "    .dataframe tbody tr th:only-of-type {\n",
       "        vertical-align: middle;\n",
       "    }\n",
       "\n",
       "    .dataframe tbody tr th {\n",
       "        vertical-align: top;\n",
       "    }\n",
       "\n",
       "    .dataframe thead th {\n",
       "        text-align: right;\n",
       "    }\n",
       "</style>\n",
       "<table border=\"1\" class=\"dataframe\">\n",
       "  <thead>\n",
       "    <tr style=\"text-align: right;\">\n",
       "      <th></th>\n",
       "      <th>RECORD_TIME</th>\n",
       "    </tr>\n",
       "  </thead>\n",
       "  <tbody>\n",
       "    <tr>\n",
       "      <th>0</th>\n",
       "      <td>2021-08-31 01:00</td>\n",
       "    </tr>\n",
       "    <tr>\n",
       "      <th>1</th>\n",
       "      <td>2021-08-31 00:30</td>\n",
       "    </tr>\n",
       "  </tbody>\n",
       "</table>\n",
       "</div>"
      ],
      "text/plain": [
       "        RECORD_TIME\n",
       "0  2021-08-31 01:00\n",
       "1  2021-08-31 00:30"
      ]
     },
     "execution_count": 3,
     "metadata": {},
     "output_type": "execute_result"
    }
   ],
   "source": [
    "timestamps"
   ]
  },
  {
   "cell_type": "code",
   "execution_count": 4,
   "id": "alternate-victory",
   "metadata": {
    "execution": {
     "iopub.execute_input": "2021-08-30T23:00:08.134168Z",
     "iopub.status.busy": "2021-08-30T23:00:08.131773Z",
     "iopub.status.idle": "2021-08-30T23:00:08.387691Z",
     "shell.execute_reply": "2021-08-30T23:00:08.386361Z"
    },
    "papermill": {
     "duration": 0.285009,
     "end_time": "2021-08-30T23:00:08.388029",
     "exception": false,
     "start_time": "2021-08-30T23:00:08.103020",
     "status": "completed"
    },
    "tags": []
   },
   "outputs": [],
   "source": [
    "df = pd.read_sql(\"select * from EBAY_TOP_BERLIN where record_time in (select distinct record_time from EBAY_TOP_BERLIN order by record_time desc limit 2)\", sqlite3.connect(\"UsedObjects.db\"))"
   ]
  },
  {
   "cell_type": "code",
   "execution_count": 5,
   "id": "popular-active",
   "metadata": {
    "execution": {
     "iopub.execute_input": "2021-08-30T23:00:08.467852Z",
     "iopub.status.busy": "2021-08-30T23:00:08.461105Z",
     "iopub.status.idle": "2021-08-30T23:00:08.483234Z",
     "shell.execute_reply": "2021-08-30T23:00:08.484675Z"
    },
    "papermill": {
     "duration": 0.07028,
     "end_time": "2021-08-30T23:00:08.485095",
     "exception": false,
     "start_time": "2021-08-30T23:00:08.414815",
     "status": "completed"
    },
    "tags": []
   },
   "outputs": [],
   "source": [
    "df_pivot = df.pivot_table(index=\"PRODUCT\", columns = \"RECORD_TIME\", values = \"LISTING_COUNT\")"
   ]
  },
  {
   "cell_type": "code",
   "execution_count": 6,
   "id": "union-huntington",
   "metadata": {
    "execution": {
     "iopub.execute_input": "2021-08-30T23:00:08.543935Z",
     "iopub.status.busy": "2021-08-30T23:00:08.541492Z",
     "iopub.status.idle": "2021-08-30T23:00:08.547637Z",
     "shell.execute_reply": "2021-08-30T23:00:08.549251Z"
    },
    "papermill": {
     "duration": 0.043161,
     "end_time": "2021-08-30T23:00:08.549750",
     "exception": false,
     "start_time": "2021-08-30T23:00:08.506589",
     "status": "completed"
    },
    "tags": []
   },
   "outputs": [],
   "source": [
    "df_pivot.columns = [\"stamp_1\", \"stamp_2\"]\n",
    "df_pivot_diff = df_pivot.diff(axis=1)"
   ]
  },
  {
   "cell_type": "code",
   "execution_count": 7,
   "id": "fifth-motion",
   "metadata": {
    "execution": {
     "iopub.execute_input": "2021-08-30T23:00:08.605102Z",
     "iopub.status.busy": "2021-08-30T23:00:08.602723Z",
     "iopub.status.idle": "2021-08-30T23:00:10.090130Z",
     "shell.execute_reply": "2021-08-30T23:00:10.091429Z"
    },
    "papermill": {
     "duration": 1.520139,
     "end_time": "2021-08-30T23:00:10.091851",
     "exception": false,
     "start_time": "2021-08-30T23:00:08.571712",
     "status": "completed"
    },
    "tags": []
   },
   "outputs": [
    {
     "data": {
      "text/plain": [
       "<AxesSubplot:ylabel='PRODUCT'>"
      ]
     },
     "execution_count": 7,
     "metadata": {},
     "output_type": "execute_result"
    },
    {
     "data": {
      "image/png": "[encoded data removed]",
      "text/plain": [
       "<Figure size 432x288 with 1 Axes>"
      ]
     },
     "metadata": {
      "needs_background": "light"
     },
     "output_type": "display_data"
    }
   ],
   "source": [
    "df_pivot_diff.sort_values(\"stamp_2\", ascending = False)[\"stamp_2\"].head(10).plot.barh()"
   ]
  },
  {
   "cell_type": "code",
   "execution_count": null,
   "id": "extra-executive",
   "metadata": {
    "papermill": {
     "duration": 0.022314,
     "end_time": "2021-08-30T23:00:10.138745",
     "exception": false,
     "start_time": "2021-08-30T23:00:10.116431",
     "status": "completed"
    },
    "tags": []
   },
   "outputs": [],
   "source": []
  }
 ],
 "metadata": {
  "kernelspec": {
   "display_name": "Python 3",
   "language": "python",
   "name": "python3"
  },
  "language_info": {
   "codemirror_mode": {
    "name": "ipython",
    "version": 3
   },
   "file_extension": ".py",
   "mimetype": "text/x-python",
   "name": "python",
   "nbconvert_exporter": "python",
   "pygments_lexer": "ipython3",
   "version": "3.9.5"
  },
  "papermill": {
   "default_parameters": {},
   "duration": 6.822448,
   "end_time": "2021-08-30T23:00:11.346733",
   "environment_variables": {},
   "exception": null,
   "input_path": "eBay_Overview.ipynb",
   "output_path": "eBay_Overview.ipynb",
   "parameters": {},
   "start_time": "2021-08-30T23:00:04.524285",
   "version": "2.3.3"
  }
 },
 "nbformat": 4,
 "nbformat_minor": 5
}