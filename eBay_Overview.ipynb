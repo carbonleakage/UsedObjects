{
 "cells": [
  {
   "cell_type": "code",
   "execution_count": 1,
   "id": "reverse-picking",
   "metadata": {
    "execution": {
     "iopub.execute_input": "2021-08-23T17:30:06.523307Z",
     "iopub.status.busy": "2021-08-23T17:30:06.521300Z",
     "iopub.status.idle": "2021-08-23T17:30:07.326877Z",
     "shell.execute_reply": "2021-08-23T17:30:07.328156Z"
    },
    "papermill": {
     "duration": 0.856997,
     "end_time": "2021-08-23T17:30:07.328776",
     "exception": false,
     "start_time": "2021-08-23T17:30:06.471779",
     "status": "completed"
    },
    "tags": []
   },
   "outputs": [],
   "source": [
    "import pandas as pd\n",
    "import sqlite3"
   ]
  },
  {
   "cell_type": "code",
   "execution_count": 2,
   "id": "innovative-syndrome",
   "metadata": {
    "execution": {
     "iopub.execute_input": "2021-08-23T17:30:07.381008Z",
     "iopub.status.busy": "2021-08-23T17:30:07.378849Z",
     "iopub.status.idle": "2021-08-23T17:30:07.501707Z",
     "shell.execute_reply": "2021-08-23T17:30:07.503056Z"
    },
    "papermill": {
     "duration": 0.152703,
     "end_time": "2021-08-23T17:30:07.503473",
     "exception": false,
     "start_time": "2021-08-23T17:30:07.350770",
     "status": "completed"
    },
    "tags": []
   },
   "outputs": [],
   "source": [
    "timestamps = pd.read_sql(\"select distinct record_time from EBAY_TOP_BERLIN order by record_time desc limit 2\", sqlite3.connect(\"UsedObjects.db\"))"
   ]
  },
  {
   "cell_type": "code",
   "execution_count": 3,
   "id": "periodic-identification",
   "metadata": {
    "execution": {
     "iopub.execute_input": "2021-08-23T17:30:07.569106Z",
     "iopub.status.busy": "2021-08-23T17:30:07.567079Z",
     "iopub.status.idle": "2021-08-23T17:30:07.587030Z",
     "shell.execute_reply": "2021-08-23T17:30:07.588171Z"
    },
    "papermill": {
     "duration": 0.064292,
     "end_time": "2021-08-23T17:30:07.588581",
     "exception": false,
     "start_time": "2021-08-23T17:30:07.524289",
     "status": "completed"
    },
    "tags": []
   },
   "outputs": [
    {
     "data": {
      "text/html": [
       "<div>\n",
       "<style scoped>\n",
       "    .dataframe tbody tr th:only-of-type {\n",
       "        vertical-align: middle;\n",
       "    }\n",
       "\n",
       "    .dataframe tbody tr th {\n",
       "        vertical-align: top;\n",
       "    }\n",
       "\n",
       "    .dataframe thead th {\n",
       "        text-align: right;\n",
       "    }\n",
       "</style>\n",
       "<table border=\"1\" class=\"dataframe\">\n",
       "  <thead>\n",
       "    <tr style=\"text-align: right;\">\n",
       "      <th></th>\n",
       "      <th>RECORD_TIME</th>\n",
       "    </tr>\n",
       "  </thead>\n",
       "  <tbody>\n",
       "    <tr>\n",
       "      <th>0</th>\n",
       "      <td>2021-08-23 19:30</td>\n",
       "    </tr>\n",
       "    <tr>\n",
       "      <th>1</th>\n",
       "      <td>2021-08-23 19:00</td>\n",
       "    </tr>\n",
       "  </tbody>\n",
       "</table>\n",
       "</div>"
      ],
      "text/plain": [
       "        RECORD_TIME\n",
       "0  2021-08-23 19:30\n",
       "1  2021-08-23 19:00"
      ]
     },
     "execution_count": 3,
     "metadata": {},
     "output_type": "execute_result"
    }
   ],
   "source": [
    "timestamps"
   ]
  },
  {
   "cell_type": "code",
   "execution_count": 4,
   "id": "alternate-victory",
   "metadata": {
    "execution": {
     "iopub.execute_input": "2021-08-23T17:30:07.642970Z",
     "iopub.status.busy": "2021-08-23T17:30:07.640588Z",
     "iopub.status.idle": "2021-08-23T17:30:07.814686Z",
     "shell.execute_reply": "2021-08-23T17:30:07.815982Z"
    },
    "papermill": {
     "duration": 0.204407,
     "end_time": "2021-08-23T17:30:07.816377",
     "exception": false,
     "start_time": "2021-08-23T17:30:07.611970",
     "status": "completed"
    },
    "tags": []
   },
   "outputs": [],
   "source": [
    "df = pd.read_sql(\"select * from EBAY_TOP_BERLIN where record_time in (select distinct record_time from EBAY_TOP_BERLIN order by record_time desc limit 2)\", sqlite3.connect(\"UsedObjects.db\"))"
   ]
  },
  {
   "cell_type": "code",
   "execution_count": 5,
   "id": "popular-active",
   "metadata": {
    "execution": {
     "iopub.execute_input": "2021-08-23T17:30:07.888464Z",
     "iopub.status.busy": "2021-08-23T17:30:07.876199Z",
     "iopub.status.idle": "2021-08-23T17:30:07.904410Z",
     "shell.execute_reply": "2021-08-23T17:30:07.905783Z"
    },
    "papermill": {
     "duration": 0.069443,
     "end_time": "2021-08-23T17:30:07.906276",
     "exception": false,
     "start_time": "2021-08-23T17:30:07.836833",
     "status": "completed"
    },
    "tags": []
   },
   "outputs": [],
   "source": [
    "df_pivot = df.pivot_table(index=\"PRODUCT\", columns = \"RECORD_TIME\", values = \"LISTING_COUNT\")"
   ]
  },
  {
   "cell_type": "code",
   "execution_count": 6,
   "id": "union-huntington",
   "metadata": {
    "execution": {
     "iopub.execute_input": "2021-08-23T17:30:07.972976Z",
     "iopub.status.busy": "2021-08-23T17:30:07.970831Z",
     "iopub.status.idle": "2021-08-23T17:30:07.976355Z",
     "shell.execute_reply": "2021-08-23T17:30:07.977695Z"
    },
    "papermill": {
     "duration": 0.045553,
     "end_time": "2021-08-23T17:30:07.978195",
     "exception": false,
     "start_time": "2021-08-23T17:30:07.932642",
     "status": "completed"
    },
    "tags": []
   },
   "outputs": [],
   "source": [
    "df_pivot.columns = [\"stamp_1\", \"stamp_2\"]\n",
    "df_pivot_diff = df_pivot.diff(axis=1)"
   ]
  },
  {
   "cell_type": "code",
   "execution_count": 7,
   "id": "fifth-motion",
   "metadata": {
    "execution": {
     "iopub.execute_input": "2021-08-23T17:30:08.035930Z",
     "iopub.status.busy": "2021-08-23T17:30:08.033191Z",
     "iopub.status.idle": "2021-08-23T17:30:09.511544Z",
     "shell.execute_reply": "2021-08-23T17:30:09.513055Z"
    },
    "papermill": {
     "duration": 1.512583,
     "end_time": "2021-08-23T17:30:09.513523",
     "exception": false,
     "start_time": "2021-08-23T17:30:08.000940",
     "status": "completed"
    },
    "tags": []
   },
   "outputs": [
    {
     "data": {
      "text/plain": [
       "<AxesSubplot:ylabel='PRODUCT'>"
      ]
     },
     "execution_count": 7,
     "metadata": {},
     "output_type": "execute_result"
    },
    {
     "data": {
      "image/png": "[encoded data removed]",
      "text/plain": [
       "<Figure size 432x288 with 1 Axes>"
      ]
     },
     "metadata": {
      "needs_background": "light"
     },
     "output_type": "display_data"
    }
   ],
   "source": [
    "df_pivot_diff.sort_values(\"stamp_2\", ascending = False)[\"stamp_2\"].head(10).plot.barh()"
   ]
  },
  {
   "cell_type": "code",
   "execution_count": null,
   "id": "extra-executive",
   "metadata": {
    "papermill": {
     "duration": 0.022052,
     "end_time": "2021-08-23T17:30:09.560154",
     "exception": false,
     "start_time": "2021-08-23T17:30:09.538102",
     "status": "completed"
    },
    "tags": []
   },
   "outputs": [],
   "source": []
  }
 ],
 "metadata": {
  "kernelspec": {
   "display_name": "Python 3",
   "language": "python",
   "name": "python3"
  },
  "language_info": {
   "codemirror_mode": {
    "name": "ipython",
    "version": 3
   },
   "file_extension": ".py",
   "mimetype": "text/x-python",
   "name": "python",
   "nbconvert_exporter": "python",
   "pygments_lexer": "ipython3",
   "version": "3.9.5"
  },
  "papermill": {
   "default_parameters": {},
   "duration": 6.831097,
   "end_time": "2021-08-23T17:30:10.885744",
   "environment_variables": {},
   "exception": null,
   "input_path": "eBay_Overview.ipynb",
   "output_path": "eBay_Overview.ipynb",
   "parameters": {},
   "start_time": "2021-08-23T17:30:04.054647",
   "version": "2.3.3"
  }
 },
 "nbformat": 4,
 "nbformat_minor": 5
}