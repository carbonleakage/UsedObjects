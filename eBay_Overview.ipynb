{
 "cells": [
  {
   "cell_type": "code",
   "execution_count": 1,
   "id": "reverse-picking",
   "metadata": {
    "execution": {
     "iopub.execute_input": "2021-09-24T14:00:07.323343Z",
     "iopub.status.busy": "2021-09-24T14:00:07.321305Z",
     "iopub.status.idle": "2021-09-24T14:00:08.122210Z",
     "shell.execute_reply": "2021-09-24T14:00:08.123810Z"
    },
    "papermill": {
     "duration": 0.852782,
     "end_time": "2021-09-24T14:00:08.124480",
     "exception": false,
     "start_time": "2021-09-24T14:00:07.271698",
     "status": "completed"
    },
    "tags": []
   },
   "outputs": [],
   "source": [
    "import pandas as pd\n",
    "import sqlite3"
   ]
  },
  {
   "cell_type": "code",
   "execution_count": 2,
   "id": "innovative-syndrome",
   "metadata": {
    "execution": {
     "iopub.execute_input": "2021-09-24T14:00:08.175444Z",
     "iopub.status.busy": "2021-09-24T14:00:08.173045Z",
     "iopub.status.idle": "2021-09-24T14:00:08.537584Z",
     "shell.execute_reply": "2021-09-24T14:00:08.538832Z"
    },
    "papermill": {
     "duration": 0.394772,
     "end_time": "2021-09-24T14:00:08.539253",
     "exception": false,
     "start_time": "2021-09-24T14:00:08.144481",
     "status": "completed"
    },
    "tags": []
   },
   "outputs": [],
   "source": [
    "timestamps = pd.read_sql(\"select distinct record_time from EBAY_TOP_BERLIN order by record_time desc limit 2\", sqlite3.connect(\"UsedObjects.db\"))"
   ]
  },
  {
   "cell_type": "code",
   "execution_count": 3,
   "id": "periodic-identification",
   "metadata": {
    "execution": {
     "iopub.execute_input": "2021-09-24T14:00:08.602765Z",
     "iopub.status.busy": "2021-09-24T14:00:08.600752Z",
     "iopub.status.idle": "2021-09-24T14:00:08.620572Z",
     "shell.execute_reply": "2021-09-24T14:00:08.621791Z"
    },
    "papermill": {
     "duration": 0.063531,
     "end_time": "2021-09-24T14:00:08.622197",
     "exception": false,
     "start_time": "2021-09-24T14:00:08.558666",
     "status": "completed"
    },
    "tags": []
   },
   "outputs": [
    {
     "data": {
      "text/html": [
       "<div>\n",
       "<style scoped>\n",
       "    .dataframe tbody tr th:only-of-type {\n",
       "        vertical-align: middle;\n",
       "    }\n",
       "\n",
       "    .dataframe tbody tr th {\n",
       "        vertical-align: top;\n",
       "    }\n",
       "\n",
       "    .dataframe thead th {\n",
       "        text-align: right;\n",
       "    }\n",
       "</style>\n",
       "<table border=\"1\" class=\"dataframe\">\n",
       "  <thead>\n",
       "    <tr style=\"text-align: right;\">\n",
       "      <th></th>\n",
       "      <th>RECORD_TIME</th>\n",
       "    </tr>\n",
       "  </thead>\n",
       "  <tbody>\n",
       "    <tr>\n",
       "      <th>0</th>\n",
       "      <td>2021-09-24 16:00</td>\n",
       "    </tr>\n",
       "    <tr>\n",
       "      <th>1</th>\n",
       "      <td>2021-09-24 15:30</td>\n",
       "    </tr>\n",
       "  </tbody>\n",
       "</table>\n",
       "</div>"
      ],
      "text/plain": [
       "        RECORD_TIME\n",
       "0  2021-09-24 16:00\n",
       "1  2021-09-24 15:30"
      ]
     },
     "execution_count": 3,
     "metadata": {},
     "output_type": "execute_result"
    }
   ],
   "source": [
    "timestamps"
   ]
  },
  {
   "cell_type": "code",
   "execution_count": 4,
   "id": "alternate-victory",
   "metadata": {
    "execution": {
     "iopub.execute_input": "2021-09-24T14:00:08.674527Z",
     "iopub.status.busy": "2021-09-24T14:00:08.672247Z",
     "iopub.status.idle": "2021-09-24T14:00:09.209150Z",
     "shell.execute_reply": "2021-09-24T14:00:09.210445Z"
    },
    "papermill": {
     "duration": 0.567495,
     "end_time": "2021-09-24T14:00:09.210938",
     "exception": false,
     "start_time": "2021-09-24T14:00:08.643443",
     "status": "completed"
    },
    "tags": []
   },
   "outputs": [],
   "source": [
    "df = pd.read_sql(\"select * from EBAY_TOP_BERLIN where record_time in (select distinct record_time from EBAY_TOP_BERLIN order by record_time desc limit 2)\", sqlite3.connect(\"UsedObjects.db\"))"
   ]
  },
  {
   "cell_type": "code",
   "execution_count": 5,
   "id": "popular-active",
   "metadata": {
    "execution": {
     "iopub.execute_input": "2021-09-24T14:00:09.291925Z",
     "iopub.status.busy": "2021-09-24T14:00:09.279921Z",
     "iopub.status.idle": "2021-09-24T14:00:09.308207Z",
     "shell.execute_reply": "2021-09-24T14:00:09.309603Z"
    },
    "papermill": {
     "duration": 0.073154,
     "end_time": "2021-09-24T14:00:09.310055",
     "exception": false,
     "start_time": "2021-09-24T14:00:09.236901",
     "status": "completed"
    },
    "tags": []
   },
   "outputs": [],
   "source": [
    "df_pivot = df.pivot_table(index=\"PRODUCT\", columns = \"RECORD_TIME\", values = \"LISTING_COUNT\")"
   ]
  },
  {
   "cell_type": "code",
   "execution_count": 6,
   "id": "union-huntington",
   "metadata": {
    "execution": {
     "iopub.execute_input": "2021-09-24T14:00:09.370004Z",
     "iopub.status.busy": "2021-09-24T14:00:09.367577Z",
     "iopub.status.idle": "2021-09-24T14:00:09.373491Z",
     "shell.execute_reply": "2021-09-24T14:00:09.374777Z"
    },
    "papermill": {
     "duration": 0.042523,
     "end_time": "2021-09-24T14:00:09.375252",
     "exception": false,
     "start_time": "2021-09-24T14:00:09.332729",
     "status": "completed"
    },
    "tags": []
   },
   "outputs": [],
   "source": [
    "df_pivot.columns = [\"stamp_1\", \"stamp_2\"]\n",
    "df_pivot_diff = df_pivot.diff(axis=1)"
   ]
  },
  {
   "cell_type": "code",
   "execution_count": 7,
   "id": "fifth-motion",
   "metadata": {
    "execution": {
     "iopub.execute_input": "2021-09-24T14:00:09.429447Z",
     "iopub.status.busy": "2021-09-24T14:00:09.427060Z",
     "iopub.status.idle": "2021-09-24T14:00:10.896722Z",
     "shell.execute_reply": "2021-09-24T14:00:10.898175Z"
    },
    "papermill": {
     "duration": 1.502775,
     "end_time": "2021-09-24T14:00:10.898651",
     "exception": false,
     "start_time": "2021-09-24T14:00:09.395876",
     "status": "completed"
    },
    "tags": []
   },
   "outputs": [
    {
     "data": {
      "text/plain": [
       "<AxesSubplot:ylabel='PRODUCT'>"
      ]
     },
     "execution_count": 7,
     "metadata": {},
     "output_type": "execute_result"
    },
    {
     "data": {
      "image/png": "[encoded data removed]",
      "text/plain": [
       "<Figure size 432x288 with 1 Axes>"
      ]
     },
     "metadata": {
      "needs_background": "light"
     },
     "output_type": "display_data"
    }
   ],
   "source": [
    "df_pivot_diff.sort_values(\"stamp_2\", ascending = False)[\"stamp_2\"].head(10).plot.barh()"
   ]
  },
  {
   "cell_type": "code",
   "execution_count": null,
   "id": "extra-executive",
   "metadata": {
    "papermill": {
     "duration": 0.022278,
     "end_time": "2021-09-24T14:00:10.946533",
     "exception": false,
     "start_time": "2021-09-24T14:00:10.924255",
     "status": "completed"
    },
    "tags": []
   },
   "outputs": [],
   "source": []
  }
 ],
 "metadata": {
  "kernelspec": {
   "display_name": "Python 3",
   "language": "python",
   "name": "python3"
  },
  "language_info": {
   "codemirror_mode": {
    "name": "ipython",
    "version": 3
   },
   "file_extension": ".py",
   "mimetype": "text/x-python",
   "name": "python",
   "nbconvert_exporter": "python",
   "pygments_lexer": "ipython3",
   "version": "3.9.5"
  },
  "papermill": {
   "default_parameters": {},
   "duration": 6.723304,
   "end_time": "2021-09-24T14:00:11.590015",
   "environment_variables": {},
   "exception": null,
   "input_path": "eBay_Overview.ipynb",
   "output_path": "eBay_Overview.ipynb",
   "parameters": {},
   "start_time": "2021-09-24T14:00:04.866711",
   "version": "2.3.3"
  }
 },
 "nbformat": 4,
 "nbformat_minor": 5
}