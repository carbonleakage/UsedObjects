{
 "cells": [
  {
   "cell_type": "code",
   "execution_count": 1,
   "id": "reverse-picking",
   "metadata": {
    "execution": {
     "iopub.execute_input": "2021-10-05T18:30:07.295845Z",
     "iopub.status.busy": "2021-10-05T18:30:07.293774Z",
     "iopub.status.idle": "2021-10-05T18:30:08.099938Z",
     "shell.execute_reply": "2021-10-05T18:30:08.101221Z"
    },
    "papermill": {
     "duration": 0.857919,
     "end_time": "2021-10-05T18:30:08.101846",
     "exception": false,
     "start_time": "2021-10-05T18:30:07.243927",
     "status": "completed"
    },
    "tags": []
   },
   "outputs": [],
   "source": [
    "import pandas as pd\n",
    "import sqlite3"
   ]
  },
  {
   "cell_type": "code",
   "execution_count": 2,
   "id": "innovative-syndrome",
   "metadata": {
    "execution": {
     "iopub.execute_input": "2021-10-05T18:30:08.153824Z",
     "iopub.status.busy": "2021-10-05T18:30:08.151948Z",
     "iopub.status.idle": "2021-10-05T18:30:08.614757Z",
     "shell.execute_reply": "2021-10-05T18:30:08.616154Z"
    },
    "papermill": {
     "duration": 0.492737,
     "end_time": "2021-10-05T18:30:08.616574",
     "exception": false,
     "start_time": "2021-10-05T18:30:08.123837",
     "status": "completed"
    },
    "tags": []
   },
   "outputs": [],
   "source": [
    "timestamps = pd.read_sql(\"select distinct record_time from EBAY_TOP_BERLIN order by record_time desc limit 2\", sqlite3.connect(\"UsedObjects.db\"))"
   ]
  },
  {
   "cell_type": "code",
   "execution_count": 3,
   "id": "periodic-identification",
   "metadata": {
    "execution": {
     "iopub.execute_input": "2021-10-05T18:30:08.681997Z",
     "iopub.status.busy": "2021-10-05T18:30:08.679940Z",
     "iopub.status.idle": "2021-10-05T18:30:08.700525Z",
     "shell.execute_reply": "2021-10-05T18:30:08.701813Z"
    },
    "papermill": {
     "duration": 0.064735,
     "end_time": "2021-10-05T18:30:08.702229",
     "exception": false,
     "start_time": "2021-10-05T18:30:08.637494",
     "status": "completed"
    },
    "tags": []
   },
   "outputs": [
    {
     "data": {
      "text/html": [
       "<div>\n",
       "<style scoped>\n",
       "    .dataframe tbody tr th:only-of-type {\n",
       "        vertical-align: middle;\n",
       "    }\n",
       "\n",
       "    .dataframe tbody tr th {\n",
       "        vertical-align: top;\n",
       "    }\n",
       "\n",
       "    .dataframe thead th {\n",
       "        text-align: right;\n",
       "    }\n",
       "</style>\n",
       "<table border=\"1\" class=\"dataframe\">\n",
       "  <thead>\n",
       "    <tr style=\"text-align: right;\">\n",
       "      <th></th>\n",
       "      <th>RECORD_TIME</th>\n",
       "    </tr>\n",
       "  </thead>\n",
       "  <tbody>\n",
       "    <tr>\n",
       "      <th>0</th>\n",
       "      <td>2021-10-05 20:30</td>\n",
       "    </tr>\n",
       "    <tr>\n",
       "      <th>1</th>\n",
       "      <td>2021-10-05 20:00</td>\n",
       "    </tr>\n",
       "  </tbody>\n",
       "</table>\n",
       "</div>"
      ],
      "text/plain": [
       "        RECORD_TIME\n",
       "0  2021-10-05 20:30\n",
       "1  2021-10-05 20:00"
      ]
     },
     "execution_count": 3,
     "metadata": {},
     "output_type": "execute_result"
    }
   ],
   "source": [
    "timestamps"
   ]
  },
  {
   "cell_type": "code",
   "execution_count": 4,
   "id": "alternate-victory",
   "metadata": {
    "execution": {
     "iopub.execute_input": "2021-10-05T18:30:08.765239Z",
     "iopub.status.busy": "2021-10-05T18:30:08.763366Z",
     "iopub.status.idle": "2021-10-05T18:30:09.433300Z",
     "shell.execute_reply": "2021-10-05T18:30:09.434507Z"
    },
    "papermill": {
     "duration": 0.705324,
     "end_time": "2021-10-05T18:30:09.434962",
     "exception": false,
     "start_time": "2021-10-05T18:30:08.729638",
     "status": "completed"
    },
    "tags": []
   },
   "outputs": [],
   "source": [
    "df = pd.read_sql(\"select * from EBAY_TOP_BERLIN where record_time in (select distinct record_time from EBAY_TOP_BERLIN order by record_time desc limit 2)\", sqlite3.connect(\"UsedObjects.db\"))"
   ]
  },
  {
   "cell_type": "code",
   "execution_count": 5,
   "id": "popular-active",
   "metadata": {
    "execution": {
     "iopub.execute_input": "2021-10-05T18:30:09.505547Z",
     "iopub.status.busy": "2021-10-05T18:30:09.493303Z",
     "iopub.status.idle": "2021-10-05T18:30:09.522779Z",
     "shell.execute_reply": "2021-10-05T18:30:09.524234Z"
    },
    "papermill": {
     "duration": 0.06885,
     "end_time": "2021-10-05T18:30:09.524679",
     "exception": false,
     "start_time": "2021-10-05T18:30:09.455829",
     "status": "completed"
    },
    "tags": []
   },
   "outputs": [],
   "source": [
    "df_pivot = df.pivot_table(index=\"PRODUCT\", columns = \"RECORD_TIME\", values = \"LISTING_COUNT\")"
   ]
  },
  {
   "cell_type": "code",
   "execution_count": 6,
   "id": "union-huntington",
   "metadata": {
    "execution": {
     "iopub.execute_input": "2021-10-05T18:30:09.582452Z",
     "iopub.status.busy": "2021-10-05T18:30:09.580120Z",
     "iopub.status.idle": "2021-10-05T18:30:09.585986Z",
     "shell.execute_reply": "2021-10-05T18:30:09.587357Z"
    },
    "papermill": {
     "duration": 0.042351,
     "end_time": "2021-10-05T18:30:09.587824",
     "exception": false,
     "start_time": "2021-10-05T18:30:09.545473",
     "status": "completed"
    },
    "tags": []
   },
   "outputs": [],
   "source": [
    "df_pivot.columns = [\"stamp_1\", \"stamp_2\"]\n",
    "df_pivot_diff = df_pivot.diff(axis=1)"
   ]
  },
  {
   "cell_type": "code",
   "execution_count": 7,
   "id": "fifth-motion",
   "metadata": {
    "execution": {
     "iopub.execute_input": "2021-10-05T18:30:09.643261Z",
     "iopub.status.busy": "2021-10-05T18:30:09.640858Z",
     "iopub.status.idle": "2021-10-05T18:30:11.144395Z",
     "shell.execute_reply": "2021-10-05T18:30:11.146152Z"
    },
    "papermill": {
     "duration": 1.53719,
     "end_time": "2021-10-05T18:30:11.146695",
     "exception": false,
     "start_time": "2021-10-05T18:30:09.609505",
     "status": "completed"
    },
    "tags": []
   },
   "outputs": [
    {
     "data": {
      "text/plain": [
       "<AxesSubplot:ylabel='PRODUCT'>"
      ]
     },
     "execution_count": 7,
     "metadata": {},
     "output_type": "execute_result"
    },
    {
     "data": {
      "image/png": "[encoded data removed]",
      "text/plain": [
       "<Figure size 432x288 with 1 Axes>"
      ]
     },
     "metadata": {
      "needs_background": "light"
     },
     "output_type": "display_data"
    }
   ],
   "source": [
    "df_pivot_diff.sort_values(\"stamp_2\", ascending = False)[\"stamp_2\"].head(10).plot.barh()"
   ]
  },
  {
   "cell_type": "code",
   "execution_count": null,
   "id": "extra-executive",
   "metadata": {
    "papermill": {
     "duration": 0.022476,
     "end_time": "2021-10-05T18:30:11.195208",
     "exception": false,
     "start_time": "2021-10-05T18:30:11.172732",
     "status": "completed"
    },
    "tags": []
   },
   "outputs": [],
   "source": []
  }
 ],
 "metadata": {
  "kernelspec": {
   "display_name": "Python 3",
   "language": "python",
   "name": "python3"
  },
  "language_info": {
   "codemirror_mode": {
    "name": "ipython",
    "version": 3
   },
   "file_extension": ".py",
   "mimetype": "text/x-python",
   "name": "python",
   "nbconvert_exporter": "python",
   "pygments_lexer": "ipython3",
   "version": "3.9.5"
  },
  "papermill": {
   "default_parameters": {},
   "duration": 7.821689,
   "end_time": "2021-10-05T18:30:12.659593",
   "environment_variables": {},
   "exception": null,
   "input_path": "eBay_Overview.ipynb",
   "output_path": "eBay_Overview.ipynb",
   "parameters": {},
   "start_time": "2021-10-05T18:30:04.837904",
   "version": "2.3.3"
  }
 },
 "nbformat": 4,
 "nbformat_minor": 5
}