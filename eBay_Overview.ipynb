{
 "cells": [
  {
   "cell_type": "code",
   "execution_count": 1,
   "id": "reverse-picking",
   "metadata": {
    "execution": {
     "iopub.execute_input": "2021-12-20T19:30:08.240522Z",
     "iopub.status.busy": "2021-12-20T19:30:08.238058Z",
     "iopub.status.idle": "2021-12-20T19:30:09.195458Z",
     "shell.execute_reply": "2021-12-20T19:30:09.198193Z"
    },
    "papermill": {
     "duration": 1.009444,
     "end_time": "2021-12-20T19:30:09.198929",
     "exception": false,
     "start_time": "2021-12-20T19:30:08.189485",
     "status": "completed"
    },
    "tags": []
   },
   "outputs": [],
   "source": [
    "import pandas as pd\n",
    "import sqlite3"
   ]
  },
  {
   "cell_type": "code",
   "execution_count": 2,
   "id": "innovative-syndrome",
   "metadata": {
    "execution": {
     "iopub.execute_input": "2021-12-20T19:30:09.263433Z",
     "iopub.status.busy": "2021-12-20T19:30:09.261055Z",
     "iopub.status.idle": "2021-12-20T19:30:10.405908Z",
     "shell.execute_reply": "2021-12-20T19:30:10.407135Z"
    },
    "papermill": {
     "duration": 1.178973,
     "end_time": "2021-12-20T19:30:10.407539",
     "exception": false,
     "start_time": "2021-12-20T19:30:09.228566",
     "status": "completed"
    },
    "tags": []
   },
   "outputs": [],
   "source": [
    "timestamps = pd.read_sql(\"select distinct record_time from EBAY_TOP_BERLIN order by record_time desc limit 2\", sqlite3.connect(\"UsedObjects.db\"))"
   ]
  },
  {
   "cell_type": "code",
   "execution_count": 3,
   "id": "periodic-identification",
   "metadata": {
    "execution": {
     "iopub.execute_input": "2021-12-20T19:30:10.477670Z",
     "iopub.status.busy": "2021-12-20T19:30:10.475218Z",
     "iopub.status.idle": "2021-12-20T19:30:10.501799Z",
     "shell.execute_reply": "2021-12-20T19:30:10.503827Z"
    },
    "papermill": {
     "duration": 0.07604,
     "end_time": "2021-12-20T19:30:10.504356",
     "exception": false,
     "start_time": "2021-12-20T19:30:10.428316",
     "status": "completed"
    },
    "tags": []
   },
   "outputs": [
    {
     "data": {
      "text/html": [
       "<div>\n",
       "<style scoped>\n",
       "    .dataframe tbody tr th:only-of-type {\n",
       "        vertical-align: middle;\n",
       "    }\n",
       "\n",
       "    .dataframe tbody tr th {\n",
       "        vertical-align: top;\n",
       "    }\n",
       "\n",
       "    .dataframe thead th {\n",
       "        text-align: right;\n",
       "    }\n",
       "</style>\n",
       "<table border=\"1\" class=\"dataframe\">\n",
       "  <thead>\n",
       "    <tr style=\"text-align: right;\">\n",
       "      <th></th>\n",
       "      <th>RECORD_TIME</th>\n",
       "    </tr>\n",
       "  </thead>\n",
       "  <tbody>\n",
       "    <tr>\n",
       "      <th>0</th>\n",
       "      <td>2021-12-20 20:30</td>\n",
       "    </tr>\n",
       "    <tr>\n",
       "      <th>1</th>\n",
       "      <td>2021-12-20 20:00</td>\n",
       "    </tr>\n",
       "  </tbody>\n",
       "</table>\n",
       "</div>"
      ],
      "text/plain": [
       "        RECORD_TIME\n",
       "0  2021-12-20 20:30\n",
       "1  2021-12-20 20:00"
      ]
     },
     "execution_count": 3,
     "metadata": {},
     "output_type": "execute_result"
    }
   ],
   "source": [
    "timestamps"
   ]
  },
  {
   "cell_type": "code",
   "execution_count": 4,
   "id": "alternate-victory",
   "metadata": {
    "execution": {
     "iopub.execute_input": "2021-12-20T19:30:10.561348Z",
     "iopub.status.busy": "2021-12-20T19:30:10.559426Z",
     "iopub.status.idle": "2021-12-20T19:30:12.211934Z",
     "shell.execute_reply": "2021-12-20T19:30:12.213515Z"
    },
    "papermill": {
     "duration": 1.687676,
     "end_time": "2021-12-20T19:30:12.213992",
     "exception": false,
     "start_time": "2021-12-20T19:30:10.526316",
     "status": "completed"
    },
    "tags": []
   },
   "outputs": [],
   "source": [
    "df = pd.read_sql(\"select * from EBAY_TOP_BERLIN where record_time in (select distinct record_time from EBAY_TOP_BERLIN order by record_time desc limit 2)\", sqlite3.connect(\"UsedObjects.db\"))"
   ]
  },
  {
   "cell_type": "code",
   "execution_count": 5,
   "id": "popular-active",
   "metadata": {
    "execution": {
     "iopub.execute_input": "2021-12-20T19:30:12.283822Z",
     "iopub.status.busy": "2021-12-20T19:30:12.275473Z",
     "iopub.status.idle": "2021-12-20T19:30:12.306975Z",
     "shell.execute_reply": "2021-12-20T19:30:12.308303Z"
    },
    "papermill": {
     "duration": 0.073885,
     "end_time": "2021-12-20T19:30:12.308871",
     "exception": false,
     "start_time": "2021-12-20T19:30:12.234986",
     "status": "completed"
    },
    "tags": []
   },
   "outputs": [],
   "source": [
    "df_pivot = df.pivot_table(index=\"PRODUCT\", columns = \"RECORD_TIME\", values = \"LISTING_COUNT\")"
   ]
  },
  {
   "cell_type": "code",
   "execution_count": 6,
   "id": "union-huntington",
   "metadata": {
    "execution": {
     "iopub.execute_input": "2021-12-20T19:30:12.373740Z",
     "iopub.status.busy": "2021-12-20T19:30:12.371242Z",
     "iopub.status.idle": "2021-12-20T19:30:12.378446Z",
     "shell.execute_reply": "2021-12-20T19:30:12.380010Z"
    },
    "papermill": {
     "duration": 0.049814,
     "end_time": "2021-12-20T19:30:12.380500",
     "exception": false,
     "start_time": "2021-12-20T19:30:12.330686",
     "status": "completed"
    },
    "tags": []
   },
   "outputs": [],
   "source": [
    "df_pivot.columns = [\"stamp_1\", \"stamp_2\"]\n",
    "df_pivot_diff = df_pivot.diff(axis=1)"
   ]
  },
  {
   "cell_type": "code",
   "execution_count": 7,
   "id": "fifth-motion",
   "metadata": {
    "execution": {
     "iopub.execute_input": "2021-12-20T19:30:12.439469Z",
     "iopub.status.busy": "2021-12-20T19:30:12.436609Z",
     "iopub.status.idle": "2021-12-20T19:30:14.390814Z",
     "shell.execute_reply": "2021-12-20T19:30:14.392122Z"
    },
    "papermill": {
     "duration": 1.989895,
     "end_time": "2021-12-20T19:30:14.392548",
     "exception": false,
     "start_time": "2021-12-20T19:30:12.402653",
     "status": "completed"
    },
    "tags": []
   },
   "outputs": [
    {
     "data": {
      "text/plain": [
       "<AxesSubplot:ylabel='PRODUCT'>"
      ]
     },
     "execution_count": 7,
     "metadata": {},
     "output_type": "execute_result"
    },
    {
     "data": {
      "image/png": "[encoded data removed]",
      "text/plain": [
       "<Figure size 432x288 with 1 Axes>"
      ]
     },
     "metadata": {
      "needs_background": "light"
     },
     "output_type": "display_data"
    }
   ],
   "source": [
    "df_pivot_diff.sort_values(\"stamp_2\", ascending = False)[\"stamp_2\"].head(10).plot.barh()"
   ]
  },
  {
   "cell_type": "code",
   "execution_count": null,
   "id": "extra-executive",
   "metadata": {
    "papermill": {
     "duration": 0.027576,
     "end_time": "2021-12-20T19:30:14.455204",
     "exception": false,
     "start_time": "2021-12-20T19:30:14.427628",
     "status": "completed"
    },
    "tags": []
   },
   "outputs": [],
   "source": []
  }
 ],
 "metadata": {
  "kernelspec": {
   "display_name": "Python 3",
   "language": "python",
   "name": "python3"
  },
  "language_info": {
   "codemirror_mode": {
    "name": "ipython",
    "version": 3
   },
   "file_extension": ".py",
   "mimetype": "text/x-python",
   "name": "python",
   "nbconvert_exporter": "python",
   "pygments_lexer": "ipython3",
   "version": "3.9.5"
  },
  "papermill": {
   "default_parameters": {},
   "duration": 9.664775,
   "end_time": "2021-12-20T19:30:15.101408",
   "environment_variables": {},
   "exception": null,
   "input_path": "eBay_Overview.ipynb",
   "output_path": "eBay_Overview.ipynb",
   "parameters": {},
   "start_time": "2021-12-20T19:30:05.436633",
   "version": "2.3.3"
  }
 },
 "nbformat": 4,
 "nbformat_minor": 5
}