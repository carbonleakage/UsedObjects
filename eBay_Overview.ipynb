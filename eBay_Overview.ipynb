{
 "cells": [
  {
   "cell_type": "code",
   "execution_count": 1,
   "id": "reverse-picking",
   "metadata": {
    "execution": {
     "iopub.execute_input": "2021-09-05T06:30:06.586815Z",
     "iopub.status.busy": "2021-09-05T06:30:06.584898Z",
     "iopub.status.idle": "2021-09-05T06:30:07.389781Z",
     "shell.execute_reply": "2021-09-05T06:30:07.391106Z"
    },
    "papermill": {
     "duration": 0.855242,
     "end_time": "2021-09-05T06:30:07.391765",
     "exception": false,
     "start_time": "2021-09-05T06:30:06.536523",
     "status": "completed"
    },
    "tags": []
   },
   "outputs": [],
   "source": [
    "import pandas as pd\n",
    "import sqlite3"
   ]
  },
  {
   "cell_type": "code",
   "execution_count": 2,
   "id": "innovative-syndrome",
   "metadata": {
    "execution": {
     "iopub.execute_input": "2021-09-05T06:30:07.443767Z",
     "iopub.status.busy": "2021-09-05T06:30:07.441779Z",
     "iopub.status.idle": "2021-09-05T06:30:07.655783Z",
     "shell.execute_reply": "2021-09-05T06:30:07.656994Z"
    },
    "papermill": {
     "duration": 0.243355,
     "end_time": "2021-09-05T06:30:07.657391",
     "exception": false,
     "start_time": "2021-09-05T06:30:07.414036",
     "status": "completed"
    },
    "tags": []
   },
   "outputs": [],
   "source": [
    "timestamps = pd.read_sql(\"select distinct record_time from EBAY_TOP_BERLIN order by record_time desc limit 2\", sqlite3.connect(\"UsedObjects.db\"))"
   ]
  },
  {
   "cell_type": "code",
   "execution_count": 3,
   "id": "periodic-identification",
   "metadata": {
    "execution": {
     "iopub.execute_input": "2021-09-05T06:30:07.725714Z",
     "iopub.status.busy": "2021-09-05T06:30:07.723673Z",
     "iopub.status.idle": "2021-09-05T06:30:07.744931Z",
     "shell.execute_reply": "2021-09-05T06:30:07.746221Z"
    },
    "papermill": {
     "duration": 0.066814,
     "end_time": "2021-09-05T06:30:07.746629",
     "exception": false,
     "start_time": "2021-09-05T06:30:07.679815",
     "status": "completed"
    },
    "tags": []
   },
   "outputs": [
    {
     "data": {
      "text/html": [
       "<div>\n",
       "<style scoped>\n",
       "    .dataframe tbody tr th:only-of-type {\n",
       "        vertical-align: middle;\n",
       "    }\n",
       "\n",
       "    .dataframe tbody tr th {\n",
       "        vertical-align: top;\n",
       "    }\n",
       "\n",
       "    .dataframe thead th {\n",
       "        text-align: right;\n",
       "    }\n",
       "</style>\n",
       "<table border=\"1\" class=\"dataframe\">\n",
       "  <thead>\n",
       "    <tr style=\"text-align: right;\">\n",
       "      <th></th>\n",
       "      <th>RECORD_TIME</th>\n",
       "    </tr>\n",
       "  </thead>\n",
       "  <tbody>\n",
       "    <tr>\n",
       "      <th>0</th>\n",
       "      <td>2021-09-05 08:30</td>\n",
       "    </tr>\n",
       "    <tr>\n",
       "      <th>1</th>\n",
       "      <td>2021-09-05 08:00</td>\n",
       "    </tr>\n",
       "  </tbody>\n",
       "</table>\n",
       "</div>"
      ],
      "text/plain": [
       "        RECORD_TIME\n",
       "0  2021-09-05 08:30\n",
       "1  2021-09-05 08:00"
      ]
     },
     "execution_count": 3,
     "metadata": {},
     "output_type": "execute_result"
    }
   ],
   "source": [
    "timestamps"
   ]
  },
  {
   "cell_type": "code",
   "execution_count": 4,
   "id": "alternate-victory",
   "metadata": {
    "execution": {
     "iopub.execute_input": "2021-09-05T06:30:07.798346Z",
     "iopub.status.busy": "2021-09-05T06:30:07.796057Z",
     "iopub.status.idle": "2021-09-05T06:30:08.110750Z",
     "shell.execute_reply": "2021-09-05T06:30:08.112011Z"
    },
    "papermill": {
     "duration": 0.344907,
     "end_time": "2021-09-05T06:30:08.112447",
     "exception": false,
     "start_time": "2021-09-05T06:30:07.767540",
     "status": "completed"
    },
    "tags": []
   },
   "outputs": [],
   "source": [
    "df = pd.read_sql(\"select * from EBAY_TOP_BERLIN where record_time in (select distinct record_time from EBAY_TOP_BERLIN order by record_time desc limit 2)\", sqlite3.connect(\"UsedObjects.db\"))"
   ]
  },
  {
   "cell_type": "code",
   "execution_count": 5,
   "id": "popular-active",
   "metadata": {
    "execution": {
     "iopub.execute_input": "2021-09-05T06:30:08.187932Z",
     "iopub.status.busy": "2021-09-05T06:30:08.180709Z",
     "iopub.status.idle": "2021-09-05T06:30:08.208474Z",
     "shell.execute_reply": "2021-09-05T06:30:08.209694Z"
    },
    "papermill": {
     "duration": 0.071079,
     "end_time": "2021-09-05T06:30:08.210094",
     "exception": false,
     "start_time": "2021-09-05T06:30:08.139015",
     "status": "completed"
    },
    "tags": []
   },
   "outputs": [],
   "source": [
    "df_pivot = df.pivot_table(index=\"PRODUCT\", columns = \"RECORD_TIME\", values = \"LISTING_COUNT\")"
   ]
  },
  {
   "cell_type": "code",
   "execution_count": 6,
   "id": "union-huntington",
   "metadata": {
    "execution": {
     "iopub.execute_input": "2021-09-05T06:30:08.269013Z",
     "iopub.status.busy": "2021-09-05T06:30:08.266544Z",
     "iopub.status.idle": "2021-09-05T06:30:08.272603Z",
     "shell.execute_reply": "2021-09-05T06:30:08.273879Z"
    },
    "papermill": {
     "duration": 0.042345,
     "end_time": "2021-09-05T06:30:08.274293",
     "exception": false,
     "start_time": "2021-09-05T06:30:08.231948",
     "status": "completed"
    },
    "tags": []
   },
   "outputs": [],
   "source": [
    "df_pivot.columns = [\"stamp_1\", \"stamp_2\"]\n",
    "df_pivot_diff = df_pivot.diff(axis=1)"
   ]
  },
  {
   "cell_type": "code",
   "execution_count": 7,
   "id": "fifth-motion",
   "metadata": {
    "execution": {
     "iopub.execute_input": "2021-09-05T06:30:08.327407Z",
     "iopub.status.busy": "2021-09-05T06:30:08.325134Z",
     "iopub.status.idle": "2021-09-05T06:30:09.809984Z",
     "shell.execute_reply": "2021-09-05T06:30:09.811411Z"
    },
    "papermill": {
     "duration": 1.517266,
     "end_time": "2021-09-05T06:30:09.811868",
     "exception": false,
     "start_time": "2021-09-05T06:30:08.294602",
     "status": "completed"
    },
    "tags": []
   },
   "outputs": [
    {
     "data": {
      "text/plain": [
       "<AxesSubplot:ylabel='PRODUCT'>"
      ]
     },
     "execution_count": 7,
     "metadata": {},
     "output_type": "execute_result"
    },
    {
     "data": {
      "image/png": "[encoded data removed]",
      "text/plain": [
       "<Figure size 432x288 with 1 Axes>"
      ]
     },
     "metadata": {
      "needs_background": "light"
     },
     "output_type": "display_data"
    }
   ],
   "source": [
    "df_pivot_diff.sort_values(\"stamp_2\", ascending = False)[\"stamp_2\"].head(10).plot.barh()"
   ]
  },
  {
   "cell_type": "code",
   "execution_count": null,
   "id": "extra-executive",
   "metadata": {
    "papermill": {
     "duration": 0.02192,
     "end_time": "2021-09-05T06:30:09.858344",
     "exception": false,
     "start_time": "2021-09-05T06:30:09.836424",
     "status": "completed"
    },
    "tags": []
   },
   "outputs": [],
   "source": []
  }
 ],
 "metadata": {
  "kernelspec": {
   "display_name": "Python 3",
   "language": "python",
   "name": "python3"
  },
  "language_info": {
   "codemirror_mode": {
    "name": "ipython",
    "version": 3
   },
   "file_extension": ".py",
   "mimetype": "text/x-python",
   "name": "python",
   "nbconvert_exporter": "python",
   "pygments_lexer": "ipython3",
   "version": "3.9.5"
  },
  "papermill": {
   "default_parameters": {},
   "duration": 6.363191,
   "end_time": "2021-09-05T06:30:10.500121",
   "environment_variables": {},
   "exception": null,
   "input_path": "eBay_Overview.ipynb",
   "output_path": "eBay_Overview.ipynb",
   "parameters": {},
   "start_time": "2021-09-05T06:30:04.136930",
   "version": "2.3.3"
  }
 },
 "nbformat": 4,
 "nbformat_minor": 5
}