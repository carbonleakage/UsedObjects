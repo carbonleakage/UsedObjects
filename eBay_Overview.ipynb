{
 "cells": [
  {
   "cell_type": "code",
   "execution_count": 1,
   "id": "reverse-picking",
   "metadata": {
    "execution": {
     "iopub.execute_input": "2021-09-24T07:30:06.755177Z",
     "iopub.status.busy": "2021-09-24T07:30:06.753075Z",
     "iopub.status.idle": "2021-09-24T07:30:07.555809Z",
     "shell.execute_reply": "2021-09-24T07:30:07.557069Z"
    },
    "papermill": {
     "duration": 0.853162,
     "end_time": "2021-09-24T07:30:07.557700",
     "exception": false,
     "start_time": "2021-09-24T07:30:06.704538",
     "status": "completed"
    },
    "tags": []
   },
   "outputs": [],
   "source": [
    "import pandas as pd\n",
    "import sqlite3"
   ]
  },
  {
   "cell_type": "code",
   "execution_count": 2,
   "id": "innovative-syndrome",
   "metadata": {
    "execution": {
     "iopub.execute_input": "2021-09-24T07:30:07.608777Z",
     "iopub.status.busy": "2021-09-24T07:30:07.606903Z",
     "iopub.status.idle": "2021-09-24T07:30:07.974144Z",
     "shell.execute_reply": "2021-09-24T07:30:07.975476Z"
    },
    "papermill": {
     "duration": 0.397301,
     "end_time": "2021-09-24T07:30:07.975901",
     "exception": false,
     "start_time": "2021-09-24T07:30:07.578600",
     "status": "completed"
    },
    "tags": []
   },
   "outputs": [],
   "source": [
    "timestamps = pd.read_sql(\"select distinct record_time from EBAY_TOP_BERLIN order by record_time desc limit 2\", sqlite3.connect(\"UsedObjects.db\"))"
   ]
  },
  {
   "cell_type": "code",
   "execution_count": 3,
   "id": "periodic-identification",
   "metadata": {
    "execution": {
     "iopub.execute_input": "2021-09-24T07:30:08.040693Z",
     "iopub.status.busy": "2021-09-24T07:30:08.038611Z",
     "iopub.status.idle": "2021-09-24T07:30:08.058491Z",
     "shell.execute_reply": "2021-09-24T07:30:08.059887Z"
    },
    "papermill": {
     "duration": 0.065002,
     "end_time": "2021-09-24T07:30:08.060317",
     "exception": false,
     "start_time": "2021-09-24T07:30:07.995315",
     "status": "completed"
    },
    "tags": []
   },
   "outputs": [
    {
     "data": {
      "text/html": [
       "<div>\n",
       "<style scoped>\n",
       "    .dataframe tbody tr th:only-of-type {\n",
       "        vertical-align: middle;\n",
       "    }\n",
       "\n",
       "    .dataframe tbody tr th {\n",
       "        vertical-align: top;\n",
       "    }\n",
       "\n",
       "    .dataframe thead th {\n",
       "        text-align: right;\n",
       "    }\n",
       "</style>\n",
       "<table border=\"1\" class=\"dataframe\">\n",
       "  <thead>\n",
       "    <tr style=\"text-align: right;\">\n",
       "      <th></th>\n",
       "      <th>RECORD_TIME</th>\n",
       "    </tr>\n",
       "  </thead>\n",
       "  <tbody>\n",
       "    <tr>\n",
       "      <th>0</th>\n",
       "      <td>2021-09-24 09:30</td>\n",
       "    </tr>\n",
       "    <tr>\n",
       "      <th>1</th>\n",
       "      <td>2021-09-24 09:00</td>\n",
       "    </tr>\n",
       "  </tbody>\n",
       "</table>\n",
       "</div>"
      ],
      "text/plain": [
       "        RECORD_TIME\n",
       "0  2021-09-24 09:30\n",
       "1  2021-09-24 09:00"
      ]
     },
     "execution_count": 3,
     "metadata": {},
     "output_type": "execute_result"
    }
   ],
   "source": [
    "timestamps"
   ]
  },
  {
   "cell_type": "code",
   "execution_count": 4,
   "id": "alternate-victory",
   "metadata": {
    "execution": {
     "iopub.execute_input": "2021-09-24T07:30:08.113250Z",
     "iopub.status.busy": "2021-09-24T07:30:08.111084Z",
     "iopub.status.idle": "2021-09-24T07:30:08.642184Z",
     "shell.execute_reply": "2021-09-24T07:30:08.643592Z"
    },
    "papermill": {
     "duration": 0.561646,
     "end_time": "2021-09-24T07:30:08.644033",
     "exception": false,
     "start_time": "2021-09-24T07:30:08.082387",
     "status": "completed"
    },
    "tags": []
   },
   "outputs": [],
   "source": [
    "df = pd.read_sql(\"select * from EBAY_TOP_BERLIN where record_time in (select distinct record_time from EBAY_TOP_BERLIN order by record_time desc limit 2)\", sqlite3.connect(\"UsedObjects.db\"))"
   ]
  },
  {
   "cell_type": "code",
   "execution_count": 5,
   "id": "popular-active",
   "metadata": {
    "execution": {
     "iopub.execute_input": "2021-09-24T07:30:08.716407Z",
     "iopub.status.busy": "2021-09-24T07:30:08.703463Z",
     "iopub.status.idle": "2021-09-24T07:30:08.732798Z",
     "shell.execute_reply": "2021-09-24T07:30:08.733975Z"
    },
    "papermill": {
     "duration": 0.068484,
     "end_time": "2021-09-24T07:30:08.734406",
     "exception": false,
     "start_time": "2021-09-24T07:30:08.665922",
     "status": "completed"
    },
    "tags": []
   },
   "outputs": [],
   "source": [
    "df_pivot = df.pivot_table(index=\"PRODUCT\", columns = \"RECORD_TIME\", values = \"LISTING_COUNT\")"
   ]
  },
  {
   "cell_type": "code",
   "execution_count": 6,
   "id": "union-huntington",
   "metadata": {
    "execution": {
     "iopub.execute_input": "2021-09-24T07:30:08.791714Z",
     "iopub.status.busy": "2021-09-24T07:30:08.789627Z",
     "iopub.status.idle": "2021-09-24T07:30:08.795047Z",
     "shell.execute_reply": "2021-09-24T07:30:08.796464Z"
    },
    "papermill": {
     "duration": 0.042037,
     "end_time": "2021-09-24T07:30:08.796898",
     "exception": false,
     "start_time": "2021-09-24T07:30:08.754861",
     "status": "completed"
    },
    "tags": []
   },
   "outputs": [],
   "source": [
    "df_pivot.columns = [\"stamp_1\", \"stamp_2\"]\n",
    "df_pivot_diff = df_pivot.diff(axis=1)"
   ]
  },
  {
   "cell_type": "code",
   "execution_count": 7,
   "id": "fifth-motion",
   "metadata": {
    "execution": {
     "iopub.execute_input": "2021-09-24T07:30:08.853753Z",
     "iopub.status.busy": "2021-09-24T07:30:08.851114Z",
     "iopub.status.idle": "2021-09-24T07:30:10.310010Z",
     "shell.execute_reply": "2021-09-24T07:30:10.311412Z"
    },
    "papermill": {
     "duration": 1.492948,
     "end_time": "2021-09-24T07:30:10.311861",
     "exception": false,
     "start_time": "2021-09-24T07:30:08.818913",
     "status": "completed"
    },
    "tags": []
   },
   "outputs": [
    {
     "data": {
      "text/plain": [
       "<AxesSubplot:ylabel='PRODUCT'>"
      ]
     },
     "execution_count": 7,
     "metadata": {},
     "output_type": "execute_result"
    },
    {
     "data": {
      "image/png": "[encoded data removed]",
      "text/plain": [
       "<Figure size 432x288 with 1 Axes>"
      ]
     },
     "metadata": {
      "needs_background": "light"
     },
     "output_type": "display_data"
    }
   ],
   "source": [
    "df_pivot_diff.sort_values(\"stamp_2\", ascending = False)[\"stamp_2\"].head(10).plot.barh()"
   ]
  },
  {
   "cell_type": "code",
   "execution_count": null,
   "id": "extra-executive",
   "metadata": {
    "papermill": {
     "duration": 0.022419,
     "end_time": "2021-09-24T07:30:10.358626",
     "exception": false,
     "start_time": "2021-09-24T07:30:10.336207",
     "status": "completed"
    },
    "tags": []
   },
   "outputs": [],
   "source": []
  }
 ],
 "metadata": {
  "kernelspec": {
   "display_name": "Python 3",
   "language": "python",
   "name": "python3"
  },
  "language_info": {
   "codemirror_mode": {
    "name": "ipython",
    "version": 3
   },
   "file_extension": ".py",
   "mimetype": "text/x-python",
   "name": "python",
   "nbconvert_exporter": "python",
   "pygments_lexer": "ipython3",
   "version": "3.9.5"
  },
  "papermill": {
   "default_parameters": {},
   "duration": 6.704917,
   "end_time": "2021-09-24T07:30:11.001586",
   "environment_variables": {},
   "exception": null,
   "input_path": "eBay_Overview.ipynb",
   "output_path": "eBay_Overview.ipynb",
   "parameters": {},
   "start_time": "2021-09-24T07:30:04.296669",
   "version": "2.3.3"
  }
 },
 "nbformat": 4,
 "nbformat_minor": 5
}