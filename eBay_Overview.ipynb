{
 "cells": [
  {
   "cell_type": "code",
   "execution_count": 1,
   "id": "reverse-picking",
   "metadata": {
    "execution": {
     "iopub.execute_input": "2021-08-16T09:30:07.531400Z",
     "iopub.status.busy": "2021-08-16T09:30:07.529322Z",
     "iopub.status.idle": "2021-08-16T09:30:08.338531Z",
     "shell.execute_reply": "2021-08-16T09:30:08.339806Z"
    },
    "papermill": {
     "duration": 0.860471,
     "end_time": "2021-08-16T09:30:08.340430",
     "exception": false,
     "start_time": "2021-08-16T09:30:07.479959",
     "status": "completed"
    },
    "tags": []
   },
   "outputs": [],
   "source": [
    "import pandas as pd\n",
    "import sqlite3"
   ]
  },
  {
   "cell_type": "code",
   "execution_count": 2,
   "id": "innovative-syndrome",
   "metadata": {
    "execution": {
     "iopub.execute_input": "2021-08-16T09:30:08.393961Z",
     "iopub.status.busy": "2021-08-16T09:30:08.391565Z",
     "iopub.status.idle": "2021-08-16T09:30:08.454371Z",
     "shell.execute_reply": "2021-08-16T09:30:08.455510Z"
    },
    "papermill": {
     "duration": 0.092559,
     "end_time": "2021-08-16T09:30:08.455916",
     "exception": false,
     "start_time": "2021-08-16T09:30:08.363357",
     "status": "completed"
    },
    "tags": []
   },
   "outputs": [],
   "source": [
    "timestamps = pd.read_sql(\"select distinct record_time from EBAY_TOP_BERLIN order by record_time desc limit 2\", sqlite3.connect(\"UsedObjects.db\"))"
   ]
  },
  {
   "cell_type": "code",
   "execution_count": 3,
   "id": "periodic-identification",
   "metadata": {
    "execution": {
     "iopub.execute_input": "2021-08-16T09:30:08.522411Z",
     "iopub.status.busy": "2021-08-16T09:30:08.520301Z",
     "iopub.status.idle": "2021-08-16T09:30:08.542691Z",
     "shell.execute_reply": "2021-08-16T09:30:08.544062Z"
    },
    "papermill": {
     "duration": 0.067175,
     "end_time": "2021-08-16T09:30:08.544543",
     "exception": false,
     "start_time": "2021-08-16T09:30:08.477368",
     "status": "completed"
    },
    "tags": []
   },
   "outputs": [
    {
     "data": {
      "text/html": [
       "<div>\n",
       "<style scoped>\n",
       "    .dataframe tbody tr th:only-of-type {\n",
       "        vertical-align: middle;\n",
       "    }\n",
       "\n",
       "    .dataframe tbody tr th {\n",
       "        vertical-align: top;\n",
       "    }\n",
       "\n",
       "    .dataframe thead th {\n",
       "        text-align: right;\n",
       "    }\n",
       "</style>\n",
       "<table border=\"1\" class=\"dataframe\">\n",
       "  <thead>\n",
       "    <tr style=\"text-align: right;\">\n",
       "      <th></th>\n",
       "      <th>RECORD_TIME</th>\n",
       "    </tr>\n",
       "  </thead>\n",
       "  <tbody>\n",
       "    <tr>\n",
       "      <th>0</th>\n",
       "      <td>2021-08-16 11:30</td>\n",
       "    </tr>\n",
       "    <tr>\n",
       "      <th>1</th>\n",
       "      <td>2021-08-16 11:00</td>\n",
       "    </tr>\n",
       "  </tbody>\n",
       "</table>\n",
       "</div>"
      ],
      "text/plain": [
       "        RECORD_TIME\n",
       "0  2021-08-16 11:30\n",
       "1  2021-08-16 11:00"
      ]
     },
     "execution_count": 3,
     "metadata": {},
     "output_type": "execute_result"
    }
   ],
   "source": [
    "timestamps"
   ]
  },
  {
   "cell_type": "code",
   "execution_count": 4,
   "id": "alternate-victory",
   "metadata": {
    "execution": {
     "iopub.execute_input": "2021-08-16T09:30:08.595892Z",
     "iopub.status.busy": "2021-08-16T09:30:08.594001Z",
     "iopub.status.idle": "2021-08-16T09:30:08.684062Z",
     "shell.execute_reply": "2021-08-16T09:30:08.685484Z"
    },
    "papermill": {
     "duration": 0.12022,
     "end_time": "2021-08-16T09:30:08.685971",
     "exception": false,
     "start_time": "2021-08-16T09:30:08.565751",
     "status": "completed"
    },
    "tags": []
   },
   "outputs": [],
   "source": [
    "df = pd.read_sql(\"select * from EBAY_TOP_BERLIN where record_time in (select distinct record_time from EBAY_TOP_BERLIN order by record_time desc limit 2)\", sqlite3.connect(\"UsedObjects.db\"))"
   ]
  },
  {
   "cell_type": "code",
   "execution_count": 5,
   "id": "popular-active",
   "metadata": {
    "execution": {
     "iopub.execute_input": "2021-08-16T09:30:08.751084Z",
     "iopub.status.busy": "2021-08-16T09:30:08.743568Z",
     "iopub.status.idle": "2021-08-16T09:30:08.772828Z",
     "shell.execute_reply": "2021-08-16T09:30:08.774269Z"
    },
    "papermill": {
     "duration": 0.068394,
     "end_time": "2021-08-16T09:30:08.774685",
     "exception": false,
     "start_time": "2021-08-16T09:30:08.706291",
     "status": "completed"
    },
    "tags": []
   },
   "outputs": [],
   "source": [
    "df_pivot = df.pivot_table(index=\"PRODUCT\", columns = \"RECORD_TIME\", values = \"LISTING_COUNT\")"
   ]
  },
  {
   "cell_type": "code",
   "execution_count": 6,
   "id": "union-huntington",
   "metadata": {
    "execution": {
     "iopub.execute_input": "2021-08-16T09:30:08.832768Z",
     "iopub.status.busy": "2021-08-16T09:30:08.830322Z",
     "iopub.status.idle": "2021-08-16T09:30:08.836133Z",
     "shell.execute_reply": "2021-08-16T09:30:08.837408Z"
    },
    "papermill": {
     "duration": 0.042139,
     "end_time": "2021-08-16T09:30:08.837821",
     "exception": false,
     "start_time": "2021-08-16T09:30:08.795682",
     "status": "completed"
    },
    "tags": []
   },
   "outputs": [],
   "source": [
    "df_pivot.columns = [\"stamp_1\", \"stamp_2\"]\n",
    "df_pivot_diff = df_pivot.diff(axis=1)"
   ]
  },
  {
   "cell_type": "code",
   "execution_count": 7,
   "id": "fifth-motion",
   "metadata": {
    "execution": {
     "iopub.execute_input": "2021-08-16T09:30:08.892223Z",
     "iopub.status.busy": "2021-08-16T09:30:08.889370Z",
     "iopub.status.idle": "2021-08-16T09:30:10.364924Z",
     "shell.execute_reply": "2021-08-16T09:30:10.366417Z"
    },
    "papermill": {
     "duration": 1.50869,
     "end_time": "2021-08-16T09:30:10.366892",
     "exception": false,
     "start_time": "2021-08-16T09:30:08.858202",
     "status": "completed"
    },
    "tags": []
   },
   "outputs": [
    {
     "data": {
      "text/plain": [
       "<AxesSubplot:ylabel='PRODUCT'>"
      ]
     },
     "execution_count": 7,
     "metadata": {},
     "output_type": "execute_result"
    },
    {
     "data": {
      "image/png": "[encoded data removed]",
      "text/plain": [
       "<Figure size 432x288 with 1 Axes>"
      ]
     },
     "metadata": {
      "needs_background": "light"
     },
     "output_type": "display_data"
    }
   ],
   "source": [
    "df_pivot_diff.sort_values(\"stamp_2\", ascending = False)[\"stamp_2\"].head(10).plot.barh()"
   ]
  },
  {
   "cell_type": "code",
   "execution_count": null,
   "id": "extra-executive",
   "metadata": {
    "papermill": {
     "duration": 0.021814,
     "end_time": "2021-08-16T09:30:10.413060",
     "exception": false,
     "start_time": "2021-08-16T09:30:10.391246",
     "status": "completed"
    },
    "tags": []
   },
   "outputs": [],
   "source": []
  }
 ],
 "metadata": {
  "kernelspec": {
   "display_name": "Python 3",
   "language": "python",
   "name": "python3"
  },
  "language_info": {
   "codemirror_mode": {
    "name": "ipython",
    "version": 3
   },
   "file_extension": ".py",
   "mimetype": "text/x-python",
   "name": "python",
   "nbconvert_exporter": "python",
   "pygments_lexer": "ipython3",
   "version": "3.9.5"
  },
  "papermill": {
   "default_parameters": {},
   "duration": 6.825307,
   "end_time": "2021-08-16T09:30:11.897294",
   "environment_variables": {},
   "exception": null,
   "input_path": "eBay_Overview.ipynb",
   "output_path": "eBay_Overview.ipynb",
   "parameters": {},
   "start_time": "2021-08-16T09:30:05.071987",
   "version": "2.3.3"
  }
 },
 "nbformat": 4,
 "nbformat_minor": 5
}