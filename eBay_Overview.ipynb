{
 "cells": [
  {
   "cell_type": "code",
   "execution_count": 1,
   "id": "reverse-picking",
   "metadata": {
    "execution": {
     "iopub.execute_input": "2021-11-15T17:00:08.457104Z",
     "iopub.status.busy": "2021-11-15T17:00:08.454481Z",
     "iopub.status.idle": "2021-11-15T17:00:09.422518Z",
     "shell.execute_reply": "2021-11-15T17:00:09.424441Z"
    },
    "papermill": {
     "duration": 1.019276,
     "end_time": "2021-11-15T17:00:09.425225",
     "exception": false,
     "start_time": "2021-11-15T17:00:08.405949",
     "status": "completed"
    },
    "tags": []
   },
   "outputs": [],
   "source": [
    "import pandas as pd\n",
    "import sqlite3"
   ]
  },
  {
   "cell_type": "code",
   "execution_count": 2,
   "id": "innovative-syndrome",
   "metadata": {
    "execution": {
     "iopub.execute_input": "2021-11-15T17:00:09.480515Z",
     "iopub.status.busy": "2021-11-15T17:00:09.478324Z",
     "iopub.status.idle": "2021-11-15T17:00:10.282616Z",
     "shell.execute_reply": "2021-11-15T17:00:10.283839Z"
    },
    "papermill": {
     "duration": 0.837605,
     "end_time": "2021-11-15T17:00:10.284234",
     "exception": false,
     "start_time": "2021-11-15T17:00:09.446629",
     "status": "completed"
    },
    "tags": []
   },
   "outputs": [],
   "source": [
    "timestamps = pd.read_sql(\"select distinct record_time from EBAY_TOP_BERLIN order by record_time desc limit 2\", sqlite3.connect(\"UsedObjects.db\"))"
   ]
  },
  {
   "cell_type": "code",
   "execution_count": 3,
   "id": "periodic-identification",
   "metadata": {
    "execution": {
     "iopub.execute_input": "2021-11-15T17:00:10.349023Z",
     "iopub.status.busy": "2021-11-15T17:00:10.346930Z",
     "iopub.status.idle": "2021-11-15T17:00:10.369136Z",
     "shell.execute_reply": "2021-11-15T17:00:10.367375Z"
    },
    "papermill": {
     "duration": 0.064803,
     "end_time": "2021-11-15T17:00:10.369556",
     "exception": false,
     "start_time": "2021-11-15T17:00:10.304753",
     "status": "completed"
    },
    "tags": []
   },
   "outputs": [
    {
     "data": {
      "text/html": [
       "<div>\n",
       "<style scoped>\n",
       "    .dataframe tbody tr th:only-of-type {\n",
       "        vertical-align: middle;\n",
       "    }\n",
       "\n",
       "    .dataframe tbody tr th {\n",
       "        vertical-align: top;\n",
       "    }\n",
       "\n",
       "    .dataframe thead th {\n",
       "        text-align: right;\n",
       "    }\n",
       "</style>\n",
       "<table border=\"1\" class=\"dataframe\">\n",
       "  <thead>\n",
       "    <tr style=\"text-align: right;\">\n",
       "      <th></th>\n",
       "      <th>RECORD_TIME</th>\n",
       "    </tr>\n",
       "  </thead>\n",
       "  <tbody>\n",
       "    <tr>\n",
       "      <th>0</th>\n",
       "      <td>2021-11-15 18:00</td>\n",
       "    </tr>\n",
       "    <tr>\n",
       "      <th>1</th>\n",
       "      <td>2021-11-15 17:30</td>\n",
       "    </tr>\n",
       "  </tbody>\n",
       "</table>\n",
       "</div>"
      ],
      "text/plain": [
       "        RECORD_TIME\n",
       "0  2021-11-15 18:00\n",
       "1  2021-11-15 17:30"
      ]
     },
     "execution_count": 3,
     "metadata": {},
     "output_type": "execute_result"
    }
   ],
   "source": [
    "timestamps"
   ]
  },
  {
   "cell_type": "code",
   "execution_count": 4,
   "id": "alternate-victory",
   "metadata": {
    "execution": {
     "iopub.execute_input": "2021-11-15T17:00:10.424851Z",
     "iopub.status.busy": "2021-11-15T17:00:10.422651Z",
     "iopub.status.idle": "2021-11-15T17:00:11.616285Z",
     "shell.execute_reply": "2021-11-15T17:00:11.618451Z"
    },
    "papermill": {
     "duration": 1.226918,
     "end_time": "2021-11-15T17:00:11.618923",
     "exception": false,
     "start_time": "2021-11-15T17:00:10.392005",
     "status": "completed"
    },
    "tags": []
   },
   "outputs": [],
   "source": [
    "df = pd.read_sql(\"select * from EBAY_TOP_BERLIN where record_time in (select distinct record_time from EBAY_TOP_BERLIN order by record_time desc limit 2)\", sqlite3.connect(\"UsedObjects.db\"))"
   ]
  },
  {
   "cell_type": "code",
   "execution_count": 5,
   "id": "popular-active",
   "metadata": {
    "execution": {
     "iopub.execute_input": "2021-11-15T17:00:11.694192Z",
     "iopub.status.busy": "2021-11-15T17:00:11.680623Z",
     "iopub.status.idle": "2021-11-15T17:00:11.717984Z",
     "shell.execute_reply": "2021-11-15T17:00:11.716176Z"
    },
    "papermill": {
     "duration": 0.07882,
     "end_time": "2021-11-15T17:00:11.718415",
     "exception": false,
     "start_time": "2021-11-15T17:00:11.639595",
     "status": "completed"
    },
    "tags": []
   },
   "outputs": [],
   "source": [
    "df_pivot = df.pivot_table(index=\"PRODUCT\", columns = \"RECORD_TIME\", values = \"LISTING_COUNT\")"
   ]
  },
  {
   "cell_type": "code",
   "execution_count": 6,
   "id": "union-huntington",
   "metadata": {
    "execution": {
     "iopub.execute_input": "2021-11-15T17:00:11.782867Z",
     "iopub.status.busy": "2021-11-15T17:00:11.780405Z",
     "iopub.status.idle": "2021-11-15T17:00:11.789806Z",
     "shell.execute_reply": "2021-11-15T17:00:11.787101Z"
    },
    "papermill": {
     "duration": 0.049046,
     "end_time": "2021-11-15T17:00:11.790447",
     "exception": false,
     "start_time": "2021-11-15T17:00:11.741401",
     "status": "completed"
    },
    "tags": []
   },
   "outputs": [],
   "source": [
    "df_pivot.columns = [\"stamp_1\", \"stamp_2\"]\n",
    "df_pivot_diff = df_pivot.diff(axis=1)"
   ]
  },
  {
   "cell_type": "code",
   "execution_count": 7,
   "id": "fifth-motion",
   "metadata": {
    "execution": {
     "iopub.execute_input": "2021-11-15T17:00:11.853374Z",
     "iopub.status.busy": "2021-11-15T17:00:11.850473Z",
     "iopub.status.idle": "2021-11-15T17:00:13.513881Z",
     "shell.execute_reply": "2021-11-15T17:00:13.515417Z"
    },
    "papermill": {
     "duration": 1.702095,
     "end_time": "2021-11-15T17:00:13.515873",
     "exception": false,
     "start_time": "2021-11-15T17:00:11.813778",
     "status": "completed"
    },
    "tags": []
   },
   "outputs": [
    {
     "data": {
      "text/plain": [
       "<AxesSubplot:ylabel='PRODUCT'>"
      ]
     },
     "execution_count": 7,
     "metadata": {},
     "output_type": "execute_result"
    },
    {
     "data": {
      "image/png": "[encoded data removed]",
      "text/plain": [
       "<Figure size 432x288 with 1 Axes>"
      ]
     },
     "metadata": {
      "needs_background": "light"
     },
     "output_type": "display_data"
    }
   ],
   "source": [
    "df_pivot_diff.sort_values(\"stamp_2\", ascending = False)[\"stamp_2\"].head(10).plot.barh()"
   ]
  },
  {
   "cell_type": "code",
   "execution_count": null,
   "id": "extra-executive",
   "metadata": {
    "papermill": {
     "duration": 0.022403,
     "end_time": "2021-11-15T17:00:13.562884",
     "exception": false,
     "start_time": "2021-11-15T17:00:13.540481",
     "status": "completed"
    },
    "tags": []
   },
   "outputs": [],
   "source": []
  }
 ],
 "metadata": {
  "kernelspec": {
   "display_name": "Python 3",
   "language": "python",
   "name": "python3"
  },
  "language_info": {
   "codemirror_mode": {
    "name": "ipython",
    "version": 3
   },
   "file_extension": ".py",
   "mimetype": "text/x-python",
   "name": "python",
   "nbconvert_exporter": "python",
   "pygments_lexer": "ipython3",
   "version": "3.9.5"
  },
  "papermill": {
   "default_parameters": {},
   "duration": 8.558493,
   "end_time": "2021-11-15T17:00:14.204304",
   "environment_variables": {},
   "exception": null,
   "input_path": "eBay_Overview.ipynb",
   "output_path": "eBay_Overview.ipynb",
   "parameters": {},
   "start_time": "2021-11-15T17:00:05.645811",
   "version": "2.3.3"
  }
 },
 "nbformat": 4,
 "nbformat_minor": 5
}