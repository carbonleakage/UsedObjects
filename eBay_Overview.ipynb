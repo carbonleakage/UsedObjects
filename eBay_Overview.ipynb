{
 "cells": [
  {
   "cell_type": "code",
   "execution_count": 1,
   "id": "reverse-picking",
   "metadata": {
    "execution": {
     "iopub.execute_input": "2021-10-09T06:00:07.418373Z",
     "iopub.status.busy": "2021-10-09T06:00:07.416460Z",
     "iopub.status.idle": "2021-10-09T06:00:08.228067Z",
     "shell.execute_reply": "2021-10-09T06:00:08.229213Z"
    },
    "papermill": {
     "duration": 0.863567,
     "end_time": "2021-10-09T06:00:08.229847",
     "exception": false,
     "start_time": "2021-10-09T06:00:07.366280",
     "status": "completed"
    },
    "tags": []
   },
   "outputs": [],
   "source": [
    "import pandas as pd\n",
    "import sqlite3"
   ]
  },
  {
   "cell_type": "code",
   "execution_count": 2,
   "id": "innovative-syndrome",
   "metadata": {
    "execution": {
     "iopub.execute_input": "2021-10-09T06:00:08.284041Z",
     "iopub.status.busy": "2021-10-09T06:00:08.281691Z",
     "iopub.status.idle": "2021-10-09T06:00:08.784306Z",
     "shell.execute_reply": "2021-10-09T06:00:08.785689Z"
    },
    "papermill": {
     "duration": 0.532999,
     "end_time": "2021-10-09T06:00:08.786127",
     "exception": false,
     "start_time": "2021-10-09T06:00:08.253128",
     "status": "completed"
    },
    "tags": []
   },
   "outputs": [],
   "source": [
    "timestamps = pd.read_sql(\"select distinct record_time from EBAY_TOP_BERLIN order by record_time desc limit 2\", sqlite3.connect(\"UsedObjects.db\"))"
   ]
  },
  {
   "cell_type": "code",
   "execution_count": 3,
   "id": "periodic-identification",
   "metadata": {
    "execution": {
     "iopub.execute_input": "2021-10-09T06:00:08.853013Z",
     "iopub.status.busy": "2021-10-09T06:00:08.851010Z",
     "iopub.status.idle": "2021-10-09T06:00:08.873468Z",
     "shell.execute_reply": "2021-10-09T06:00:08.872070Z"
    },
    "papermill": {
     "duration": 0.067877,
     "end_time": "2021-10-09T06:00:08.873817",
     "exception": false,
     "start_time": "2021-10-09T06:00:08.805940",
     "status": "completed"
    },
    "tags": []
   },
   "outputs": [
    {
     "data": {
      "text/html": [
       "<div>\n",
       "<style scoped>\n",
       "    .dataframe tbody tr th:only-of-type {\n",
       "        vertical-align: middle;\n",
       "    }\n",
       "\n",
       "    .dataframe tbody tr th {\n",
       "        vertical-align: top;\n",
       "    }\n",
       "\n",
       "    .dataframe thead th {\n",
       "        text-align: right;\n",
       "    }\n",
       "</style>\n",
       "<table border=\"1\" class=\"dataframe\">\n",
       "  <thead>\n",
       "    <tr style=\"text-align: right;\">\n",
       "      <th></th>\n",
       "      <th>RECORD_TIME</th>\n",
       "    </tr>\n",
       "  </thead>\n",
       "  <tbody>\n",
       "    <tr>\n",
       "      <th>0</th>\n",
       "      <td>2021-10-09 08:00</td>\n",
       "    </tr>\n",
       "    <tr>\n",
       "      <th>1</th>\n",
       "      <td>2021-10-09 07:30</td>\n",
       "    </tr>\n",
       "  </tbody>\n",
       "</table>\n",
       "</div>"
      ],
      "text/plain": [
       "        RECORD_TIME\n",
       "0  2021-10-09 08:00\n",
       "1  2021-10-09 07:30"
      ]
     },
     "execution_count": 3,
     "metadata": {},
     "output_type": "execute_result"
    }
   ],
   "source": [
    "timestamps"
   ]
  },
  {
   "cell_type": "code",
   "execution_count": 4,
   "id": "alternate-victory",
   "metadata": {
    "execution": {
     "iopub.execute_input": "2021-10-09T06:00:08.926011Z",
     "iopub.status.busy": "2021-10-09T06:00:08.923992Z",
     "iopub.status.idle": "2021-10-09T06:00:09.638242Z",
     "shell.execute_reply": "2021-10-09T06:00:09.639623Z"
    },
    "papermill": {
     "duration": 0.744967,
     "end_time": "2021-10-09T06:00:09.640047",
     "exception": false,
     "start_time": "2021-10-09T06:00:08.895080",
     "status": "completed"
    },
    "tags": []
   },
   "outputs": [],
   "source": [
    "df = pd.read_sql(\"select * from EBAY_TOP_BERLIN where record_time in (select distinct record_time from EBAY_TOP_BERLIN order by record_time desc limit 2)\", sqlite3.connect(\"UsedObjects.db\"))"
   ]
  },
  {
   "cell_type": "code",
   "execution_count": 5,
   "id": "popular-active",
   "metadata": {
    "execution": {
     "iopub.execute_input": "2021-10-09T06:00:09.714087Z",
     "iopub.status.busy": "2021-10-09T06:00:09.712081Z",
     "iopub.status.idle": "2021-10-09T06:00:09.728076Z",
     "shell.execute_reply": "2021-10-09T06:00:09.729370Z"
    },
    "papermill": {
     "duration": 0.06972,
     "end_time": "2021-10-09T06:00:09.729781",
     "exception": false,
     "start_time": "2021-10-09T06:00:09.660061",
     "status": "completed"
    },
    "tags": []
   },
   "outputs": [],
   "source": [
    "df_pivot = df.pivot_table(index=\"PRODUCT\", columns = \"RECORD_TIME\", values = \"LISTING_COUNT\")"
   ]
  },
  {
   "cell_type": "code",
   "execution_count": 6,
   "id": "union-huntington",
   "metadata": {
    "execution": {
     "iopub.execute_input": "2021-10-09T06:00:09.786909Z",
     "iopub.status.busy": "2021-10-09T06:00:09.784628Z",
     "iopub.status.idle": "2021-10-09T06:00:09.790365Z",
     "shell.execute_reply": "2021-10-09T06:00:09.791716Z"
    },
    "papermill": {
     "duration": 0.042315,
     "end_time": "2021-10-09T06:00:09.792175",
     "exception": false,
     "start_time": "2021-10-09T06:00:09.749860",
     "status": "completed"
    },
    "tags": []
   },
   "outputs": [],
   "source": [
    "df_pivot.columns = [\"stamp_1\", \"stamp_2\"]\n",
    "df_pivot_diff = df_pivot.diff(axis=1)"
   ]
  },
  {
   "cell_type": "code",
   "execution_count": 7,
   "id": "fifth-motion",
   "metadata": {
    "execution": {
     "iopub.execute_input": "2021-10-09T06:00:09.846725Z",
     "iopub.status.busy": "2021-10-09T06:00:09.844377Z",
     "iopub.status.idle": "2021-10-09T06:00:11.322166Z",
     "shell.execute_reply": "2021-10-09T06:00:11.323427Z"
    },
    "papermill": {
     "duration": 1.510829,
     "end_time": "2021-10-09T06:00:11.323865",
     "exception": false,
     "start_time": "2021-10-09T06:00:09.813036",
     "status": "completed"
    },
    "tags": []
   },
   "outputs": [
    {
     "data": {
      "text/plain": [
       "<AxesSubplot:ylabel='PRODUCT'>"
      ]
     },
     "execution_count": 7,
     "metadata": {},
     "output_type": "execute_result"
    },
    {
     "data": {
      "image/png": "[encoded data removed]",
      "text/plain": [
       "<Figure size 432x288 with 1 Axes>"
      ]
     },
     "metadata": {
      "needs_background": "light"
     },
     "output_type": "display_data"
    }
   ],
   "source": [
    "df_pivot_diff.sort_values(\"stamp_2\", ascending = False)[\"stamp_2\"].head(10).plot.barh()"
   ]
  },
  {
   "cell_type": "code",
   "execution_count": null,
   "id": "extra-executive",
   "metadata": {
    "papermill": {
     "duration": 0.022312,
     "end_time": "2021-10-09T06:00:11.372410",
     "exception": false,
     "start_time": "2021-10-09T06:00:11.350098",
     "status": "completed"
    },
    "tags": []
   },
   "outputs": [],
   "source": []
  }
 ],
 "metadata": {
  "kernelspec": {
   "display_name": "Python 3",
   "language": "python",
   "name": "python3"
  },
  "language_info": {
   "codemirror_mode": {
    "name": "ipython",
    "version": 3
   },
   "file_extension": ".py",
   "mimetype": "text/x-python",
   "name": "python",
   "nbconvert_exporter": "python",
   "pygments_lexer": "ipython3",
   "version": "3.9.5"
  },
  "papermill": {
   "default_parameters": {},
   "duration": 7.822555,
   "end_time": "2021-10-09T06:00:12.778499",
   "environment_variables": {},
   "exception": null,
   "input_path": "eBay_Overview.ipynb",
   "output_path": "eBay_Overview.ipynb",
   "parameters": {},
   "start_time": "2021-10-09T06:00:04.955944",
   "version": "2.3.3"
  }
 },
 "nbformat": 4,
 "nbformat_minor": 5
}