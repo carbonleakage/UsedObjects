{
 "cells": [
  {
   "cell_type": "code",
   "execution_count": 1,
   "id": "reverse-picking",
   "metadata": {
    "execution": {
     "iopub.execute_input": "2021-12-16T12:30:08.618650Z",
     "iopub.status.busy": "2021-12-16T12:30:08.616200Z",
     "iopub.status.idle": "2021-12-16T12:30:09.577876Z",
     "shell.execute_reply": "2021-12-16T12:30:09.579320Z"
    },
    "papermill": {
     "duration": 1.011885,
     "end_time": "2021-12-16T12:30:09.580081",
     "exception": false,
     "start_time": "2021-12-16T12:30:08.568196",
     "status": "completed"
    },
    "tags": []
   },
   "outputs": [],
   "source": [
    "import pandas as pd\n",
    "import sqlite3"
   ]
  },
  {
   "cell_type": "code",
   "execution_count": 2,
   "id": "innovative-syndrome",
   "metadata": {
    "execution": {
     "iopub.execute_input": "2021-12-16T12:30:09.699892Z",
     "iopub.status.busy": "2021-12-16T12:30:09.697779Z",
     "iopub.status.idle": "2021-12-16T12:30:10.790136Z",
     "shell.execute_reply": "2021-12-16T12:30:10.792317Z"
    },
    "papermill": {
     "duration": 1.127978,
     "end_time": "2021-12-16T12:30:10.792892",
     "exception": false,
     "start_time": "2021-12-16T12:30:09.664914",
     "status": "completed"
    },
    "tags": []
   },
   "outputs": [],
   "source": [
    "timestamps = pd.read_sql(\"select distinct record_time from EBAY_TOP_BERLIN order by record_time desc limit 2\", sqlite3.connect(\"UsedObjects.db\"))"
   ]
  },
  {
   "cell_type": "code",
   "execution_count": 3,
   "id": "periodic-identification",
   "metadata": {
    "execution": {
     "iopub.execute_input": "2021-12-16T12:30:10.866455Z",
     "iopub.status.busy": "2021-12-16T12:30:10.864141Z",
     "iopub.status.idle": "2021-12-16T12:30:10.886029Z",
     "shell.execute_reply": "2021-12-16T12:30:10.887337Z"
    },
    "papermill": {
     "duration": 0.073896,
     "end_time": "2021-12-16T12:30:10.887801",
     "exception": false,
     "start_time": "2021-12-16T12:30:10.813905",
     "status": "completed"
    },
    "tags": []
   },
   "outputs": [
    {
     "data": {
      "text/html": [
       "<div>\n",
       "<style scoped>\n",
       "    .dataframe tbody tr th:only-of-type {\n",
       "        vertical-align: middle;\n",
       "    }\n",
       "\n",
       "    .dataframe tbody tr th {\n",
       "        vertical-align: top;\n",
       "    }\n",
       "\n",
       "    .dataframe thead th {\n",
       "        text-align: right;\n",
       "    }\n",
       "</style>\n",
       "<table border=\"1\" class=\"dataframe\">\n",
       "  <thead>\n",
       "    <tr style=\"text-align: right;\">\n",
       "      <th></th>\n",
       "      <th>RECORD_TIME</th>\n",
       "    </tr>\n",
       "  </thead>\n",
       "  <tbody>\n",
       "    <tr>\n",
       "      <th>0</th>\n",
       "      <td>2021-12-16 13:30</td>\n",
       "    </tr>\n",
       "    <tr>\n",
       "      <th>1</th>\n",
       "      <td>2021-12-16 13:00</td>\n",
       "    </tr>\n",
       "  </tbody>\n",
       "</table>\n",
       "</div>"
      ],
      "text/plain": [
       "        RECORD_TIME\n",
       "0  2021-12-16 13:30\n",
       "1  2021-12-16 13:00"
      ]
     },
     "execution_count": 3,
     "metadata": {},
     "output_type": "execute_result"
    }
   ],
   "source": [
    "timestamps"
   ]
  },
  {
   "cell_type": "code",
   "execution_count": 4,
   "id": "alternate-victory",
   "metadata": {
    "execution": {
     "iopub.execute_input": "2021-12-16T12:30:10.941362Z",
     "iopub.status.busy": "2021-12-16T12:30:10.939213Z",
     "iopub.status.idle": "2021-12-16T12:30:12.517495Z",
     "shell.execute_reply": "2021-12-16T12:30:12.521333Z"
    },
    "papermill": {
     "duration": 1.613905,
     "end_time": "2021-12-16T12:30:12.522291",
     "exception": false,
     "start_time": "2021-12-16T12:30:10.908386",
     "status": "completed"
    },
    "tags": []
   },
   "outputs": [],
   "source": [
    "df = pd.read_sql(\"select * from EBAY_TOP_BERLIN where record_time in (select distinct record_time from EBAY_TOP_BERLIN order by record_time desc limit 2)\", sqlite3.connect(\"UsedObjects.db\"))"
   ]
  },
  {
   "cell_type": "code",
   "execution_count": 5,
   "id": "popular-active",
   "metadata": {
    "execution": {
     "iopub.execute_input": "2021-12-16T12:30:12.620233Z",
     "iopub.status.busy": "2021-12-16T12:30:12.617318Z",
     "iopub.status.idle": "2021-12-16T12:30:12.678947Z",
     "shell.execute_reply": "2021-12-16T12:30:12.681965Z"
    },
    "papermill": {
     "duration": 0.126252,
     "end_time": "2021-12-16T12:30:12.682852",
     "exception": false,
     "start_time": "2021-12-16T12:30:12.556600",
     "status": "completed"
    },
    "tags": []
   },
   "outputs": [],
   "source": [
    "df_pivot = df.pivot_table(index=\"PRODUCT\", columns = \"RECORD_TIME\", values = \"LISTING_COUNT\")"
   ]
  },
  {
   "cell_type": "code",
   "execution_count": 6,
   "id": "union-huntington",
   "metadata": {
    "execution": {
     "iopub.execute_input": "2021-12-16T12:30:12.781249Z",
     "iopub.status.busy": "2021-12-16T12:30:12.777295Z",
     "iopub.status.idle": "2021-12-16T12:30:12.787245Z",
     "shell.execute_reply": "2021-12-16T12:30:12.789969Z"
    },
    "papermill": {
     "duration": 0.076435,
     "end_time": "2021-12-16T12:30:12.790909",
     "exception": false,
     "start_time": "2021-12-16T12:30:12.714474",
     "status": "completed"
    },
    "tags": []
   },
   "outputs": [],
   "source": [
    "df_pivot.columns = [\"stamp_1\", \"stamp_2\"]\n",
    "df_pivot_diff = df_pivot.diff(axis=1)"
   ]
  },
  {
   "cell_type": "code",
   "execution_count": 7,
   "id": "fifth-motion",
   "metadata": {
    "execution": {
     "iopub.execute_input": "2021-12-16T12:30:12.871219Z",
     "iopub.status.busy": "2021-12-16T12:30:12.868020Z",
     "iopub.status.idle": "2021-12-16T12:30:14.626178Z",
     "shell.execute_reply": "2021-12-16T12:30:14.627466Z"
    },
    "papermill": {
     "duration": 1.804835,
     "end_time": "2021-12-16T12:30:14.627893",
     "exception": false,
     "start_time": "2021-12-16T12:30:12.823058",
     "status": "completed"
    },
    "tags": []
   },
   "outputs": [
    {
     "data": {
      "text/plain": [
       "<AxesSubplot:ylabel='PRODUCT'>"
      ]
     },
     "execution_count": 7,
     "metadata": {},
     "output_type": "execute_result"
    },
    {
     "data": {
      "image/png": "[encoded data removed]",
      "text/plain": [
       "<Figure size 432x288 with 1 Axes>"
      ]
     },
     "metadata": {
      "needs_background": "light"
     },
     "output_type": "display_data"
    }
   ],
   "source": [
    "df_pivot_diff.sort_values(\"stamp_2\", ascending = False)[\"stamp_2\"].head(10).plot.barh()"
   ]
  },
  {
   "cell_type": "code",
   "execution_count": null,
   "id": "extra-executive",
   "metadata": {
    "papermill": {
     "duration": 0.026543,
     "end_time": "2021-12-16T12:30:14.686057",
     "exception": false,
     "start_time": "2021-12-16T12:30:14.659514",
     "status": "completed"
    },
    "tags": []
   },
   "outputs": [],
   "source": []
  }
 ],
 "metadata": {
  "kernelspec": {
   "display_name": "Python 3",
   "language": "python",
   "name": "python3"
  },
  "language_info": {
   "codemirror_mode": {
    "name": "ipython",
    "version": 3
   },
   "file_extension": ".py",
   "mimetype": "text/x-python",
   "name": "python",
   "nbconvert_exporter": "python",
   "pygments_lexer": "ipython3",
   "version": "3.9.5"
  },
  "papermill": {
   "default_parameters": {},
   "duration": 9.511771,
   "end_time": "2021-12-16T12:30:15.336773",
   "environment_variables": {},
   "exception": null,
   "input_path": "eBay_Overview.ipynb",
   "output_path": "eBay_Overview.ipynb",
   "parameters": {},
   "start_time": "2021-12-16T12:30:05.825002",
   "version": "2.3.3"
  }
 },
 "nbformat": 4,
 "nbformat_minor": 5
}