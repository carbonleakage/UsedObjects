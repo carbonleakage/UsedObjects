{
 "cells": [
  {
   "cell_type": "code",
   "execution_count": 1,
   "id": "reverse-picking",
   "metadata": {
    "execution": {
     "iopub.execute_input": "2021-08-19T23:00:06.587043Z",
     "iopub.status.busy": "2021-08-19T23:00:06.584897Z",
     "iopub.status.idle": "2021-08-19T23:00:07.389434Z",
     "shell.execute_reply": "2021-08-19T23:00:07.390914Z"
    },
    "papermill": {
     "duration": 0.855534,
     "end_time": "2021-08-19T23:00:07.391559",
     "exception": false,
     "start_time": "2021-08-19T23:00:06.536025",
     "status": "completed"
    },
    "tags": []
   },
   "outputs": [],
   "source": [
    "import pandas as pd\n",
    "import sqlite3"
   ]
  },
  {
   "cell_type": "code",
   "execution_count": 2,
   "id": "innovative-syndrome",
   "metadata": {
    "execution": {
     "iopub.execute_input": "2021-08-19T23:00:07.443628Z",
     "iopub.status.busy": "2021-08-19T23:00:07.441256Z",
     "iopub.status.idle": "2021-08-19T23:00:07.528106Z",
     "shell.execute_reply": "2021-08-19T23:00:07.529306Z"
    },
    "papermill": {
     "duration": 0.116781,
     "end_time": "2021-08-19T23:00:07.529699",
     "exception": false,
     "start_time": "2021-08-19T23:00:07.412918",
     "status": "completed"
    },
    "tags": []
   },
   "outputs": [],
   "source": [
    "timestamps = pd.read_sql(\"select distinct record_time from EBAY_TOP_BERLIN order by record_time desc limit 2\", sqlite3.connect(\"UsedObjects.db\"))"
   ]
  },
  {
   "cell_type": "code",
   "execution_count": 3,
   "id": "periodic-identification",
   "metadata": {
    "execution": {
     "iopub.execute_input": "2021-08-19T23:00:07.594430Z",
     "iopub.status.busy": "2021-08-19T23:00:07.592327Z",
     "iopub.status.idle": "2021-08-19T23:00:07.611917Z",
     "shell.execute_reply": "2021-08-19T23:00:07.613129Z"
    },
    "papermill": {
     "duration": 0.062895,
     "end_time": "2021-08-19T23:00:07.613526",
     "exception": false,
     "start_time": "2021-08-19T23:00:07.550631",
     "status": "completed"
    },
    "tags": []
   },
   "outputs": [
    {
     "data": {
      "text/html": [
       "<div>\n",
       "<style scoped>\n",
       "    .dataframe tbody tr th:only-of-type {\n",
       "        vertical-align: middle;\n",
       "    }\n",
       "\n",
       "    .dataframe tbody tr th {\n",
       "        vertical-align: top;\n",
       "    }\n",
       "\n",
       "    .dataframe thead th {\n",
       "        text-align: right;\n",
       "    }\n",
       "</style>\n",
       "<table border=\"1\" class=\"dataframe\">\n",
       "  <thead>\n",
       "    <tr style=\"text-align: right;\">\n",
       "      <th></th>\n",
       "      <th>RECORD_TIME</th>\n",
       "    </tr>\n",
       "  </thead>\n",
       "  <tbody>\n",
       "    <tr>\n",
       "      <th>0</th>\n",
       "      <td>2021-08-20 01:00</td>\n",
       "    </tr>\n",
       "    <tr>\n",
       "      <th>1</th>\n",
       "      <td>2021-08-20 00:30</td>\n",
       "    </tr>\n",
       "  </tbody>\n",
       "</table>\n",
       "</div>"
      ],
      "text/plain": [
       "        RECORD_TIME\n",
       "0  2021-08-20 01:00\n",
       "1  2021-08-20 00:30"
      ]
     },
     "execution_count": 3,
     "metadata": {},
     "output_type": "execute_result"
    }
   ],
   "source": [
    "timestamps"
   ]
  },
  {
   "cell_type": "code",
   "execution_count": 4,
   "id": "alternate-victory",
   "metadata": {
    "execution": {
     "iopub.execute_input": "2021-08-19T23:00:07.665538Z",
     "iopub.status.busy": "2021-08-19T23:00:07.663270Z",
     "iopub.status.idle": "2021-08-19T23:00:07.791609Z",
     "shell.execute_reply": "2021-08-19T23:00:07.792817Z"
    },
    "papermill": {
     "duration": 0.158678,
     "end_time": "2021-08-19T23:00:07.793207",
     "exception": false,
     "start_time": "2021-08-19T23:00:07.634529",
     "status": "completed"
    },
    "tags": []
   },
   "outputs": [],
   "source": [
    "df = pd.read_sql(\"select * from EBAY_TOP_BERLIN where record_time in (select distinct record_time from EBAY_TOP_BERLIN order by record_time desc limit 2)\", sqlite3.connect(\"UsedObjects.db\"))"
   ]
  },
  {
   "cell_type": "code",
   "execution_count": 5,
   "id": "popular-active",
   "metadata": {
    "execution": {
     "iopub.execute_input": "2021-08-19T23:00:07.866419Z",
     "iopub.status.busy": "2021-08-19T23:00:07.854654Z",
     "iopub.status.idle": "2021-08-19T23:00:07.882782Z",
     "shell.execute_reply": "2021-08-19T23:00:07.884164Z"
    },
    "papermill": {
     "duration": 0.068864,
     "end_time": "2021-08-19T23:00:07.884599",
     "exception": false,
     "start_time": "2021-08-19T23:00:07.815735",
     "status": "completed"
    },
    "tags": []
   },
   "outputs": [],
   "source": [
    "df_pivot = df.pivot_table(index=\"PRODUCT\", columns = \"RECORD_TIME\", values = \"LISTING_COUNT\")"
   ]
  },
  {
   "cell_type": "code",
   "execution_count": 6,
   "id": "union-huntington",
   "metadata": {
    "execution": {
     "iopub.execute_input": "2021-08-19T23:00:07.944578Z",
     "iopub.status.busy": "2021-08-19T23:00:07.942129Z",
     "iopub.status.idle": "2021-08-19T23:00:07.948036Z",
     "shell.execute_reply": "2021-08-19T23:00:07.949532Z"
    },
    "papermill": {
     "duration": 0.042287,
     "end_time": "2021-08-19T23:00:07.950099",
     "exception": false,
     "start_time": "2021-08-19T23:00:07.907812",
     "status": "completed"
    },
    "tags": []
   },
   "outputs": [],
   "source": [
    "df_pivot.columns = [\"stamp_1\", \"stamp_2\"]\n",
    "df_pivot_diff = df_pivot.diff(axis=1)"
   ]
  },
  {
   "cell_type": "code",
   "execution_count": 7,
   "id": "fifth-motion",
   "metadata": {
    "execution": {
     "iopub.execute_input": "2021-08-19T23:00:08.004462Z",
     "iopub.status.busy": "2021-08-19T23:00:08.002131Z",
     "iopub.status.idle": "2021-08-19T23:00:09.495310Z",
     "shell.execute_reply": "2021-08-19T23:00:09.496598Z"
    },
    "papermill": {
     "duration": 1.525964,
     "end_time": "2021-08-19T23:00:09.497020",
     "exception": false,
     "start_time": "2021-08-19T23:00:07.971056",
     "status": "completed"
    },
    "tags": []
   },
   "outputs": [
    {
     "data": {
      "text/plain": [
       "<AxesSubplot:ylabel='PRODUCT'>"
      ]
     },
     "execution_count": 7,
     "metadata": {},
     "output_type": "execute_result"
    },
    {
     "data": {
      "image/png": "[encoded data removed]",
      "text/plain": [
       "<Figure size 432x288 with 1 Axes>"
      ]
     },
     "metadata": {
      "needs_background": "light"
     },
     "output_type": "display_data"
    }
   ],
   "source": [
    "df_pivot_diff.sort_values(\"stamp_2\", ascending = False)[\"stamp_2\"].head(10).plot.barh()"
   ]
  },
  {
   "cell_type": "code",
   "execution_count": null,
   "id": "extra-executive",
   "metadata": {
    "papermill": {
     "duration": 0.022033,
     "end_time": "2021-08-19T23:00:09.543336",
     "exception": false,
     "start_time": "2021-08-19T23:00:09.521303",
     "status": "completed"
    },
    "tags": []
   },
   "outputs": [],
   "source": []
  }
 ],
 "metadata": {
  "kernelspec": {
   "display_name": "Python 3",
   "language": "python",
   "name": "python3"
  },
  "language_info": {
   "codemirror_mode": {
    "name": "ipython",
    "version": 3
   },
   "file_extension": ".py",
   "mimetype": "text/x-python",
   "name": "python",
   "nbconvert_exporter": "python",
   "pygments_lexer": "ipython3",
   "version": "3.9.5"
  },
  "papermill": {
   "default_parameters": {},
   "duration": 6.832226,
   "end_time": "2021-08-19T23:00:10.959676",
   "environment_variables": {},
   "exception": null,
   "input_path": "eBay_Overview.ipynb",
   "output_path": "eBay_Overview.ipynb",
   "parameters": {},
   "start_time": "2021-08-19T23:00:04.127450",
   "version": "2.3.3"
  }
 },
 "nbformat": 4,
 "nbformat_minor": 5
}