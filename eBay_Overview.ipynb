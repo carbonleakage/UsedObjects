{
 "cells": [
  {
   "cell_type": "code",
   "execution_count": 1,
   "id": "reverse-picking",
   "metadata": {
    "execution": {
     "iopub.execute_input": "2021-11-21T23:30:08.017743Z",
     "iopub.status.busy": "2021-11-21T23:30:08.011653Z",
     "iopub.status.idle": "2021-11-21T23:30:08.983988Z",
     "shell.execute_reply": "2021-11-21T23:30:08.985564Z"
    },
    "papermill": {
     "duration": 1.015838,
     "end_time": "2021-11-21T23:30:08.986303",
     "exception": false,
     "start_time": "2021-11-21T23:30:07.970465",
     "status": "completed"
    },
    "tags": []
   },
   "outputs": [],
   "source": [
    "import pandas as pd\n",
    "import sqlite3"
   ]
  },
  {
   "cell_type": "code",
   "execution_count": 2,
   "id": "innovative-syndrome",
   "metadata": {
    "execution": {
     "iopub.execute_input": "2021-11-21T23:30:09.133877Z",
     "iopub.status.busy": "2021-11-21T23:30:09.131621Z",
     "iopub.status.idle": "2021-11-21T23:30:10.006621Z",
     "shell.execute_reply": "2021-11-21T23:30:10.008185Z"
    },
    "papermill": {
     "duration": 0.907698,
     "end_time": "2021-11-21T23:30:10.008588",
     "exception": false,
     "start_time": "2021-11-21T23:30:09.100890",
     "status": "completed"
    },
    "tags": []
   },
   "outputs": [],
   "source": [
    "timestamps = pd.read_sql(\"select distinct record_time from EBAY_TOP_BERLIN order by record_time desc limit 2\", sqlite3.connect(\"UsedObjects.db\"))"
   ]
  },
  {
   "cell_type": "code",
   "execution_count": 3,
   "id": "periodic-identification",
   "metadata": {
    "execution": {
     "iopub.execute_input": "2021-11-21T23:30:10.107552Z",
     "iopub.status.busy": "2021-11-21T23:30:10.105161Z",
     "iopub.status.idle": "2021-11-21T23:30:10.127937Z",
     "shell.execute_reply": "2021-11-21T23:30:10.129403Z"
    },
    "papermill": {
     "duration": 0.076543,
     "end_time": "2021-11-21T23:30:10.129877",
     "exception": false,
     "start_time": "2021-11-21T23:30:10.053334",
     "status": "completed"
    },
    "tags": []
   },
   "outputs": [
    {
     "data": {
      "text/html": [
       "<div>\n",
       "<style scoped>\n",
       "    .dataframe tbody tr th:only-of-type {\n",
       "        vertical-align: middle;\n",
       "    }\n",
       "\n",
       "    .dataframe tbody tr th {\n",
       "        vertical-align: top;\n",
       "    }\n",
       "\n",
       "    .dataframe thead th {\n",
       "        text-align: right;\n",
       "    }\n",
       "</style>\n",
       "<table border=\"1\" class=\"dataframe\">\n",
       "  <thead>\n",
       "    <tr style=\"text-align: right;\">\n",
       "      <th></th>\n",
       "      <th>RECORD_TIME</th>\n",
       "    </tr>\n",
       "  </thead>\n",
       "  <tbody>\n",
       "    <tr>\n",
       "      <th>0</th>\n",
       "      <td>2021-11-22 00:30</td>\n",
       "    </tr>\n",
       "    <tr>\n",
       "      <th>1</th>\n",
       "      <td>2021-11-22 00:00</td>\n",
       "    </tr>\n",
       "  </tbody>\n",
       "</table>\n",
       "</div>"
      ],
      "text/plain": [
       "        RECORD_TIME\n",
       "0  2021-11-22 00:30\n",
       "1  2021-11-22 00:00"
      ]
     },
     "execution_count": 3,
     "metadata": {},
     "output_type": "execute_result"
    }
   ],
   "source": [
    "timestamps"
   ]
  },
  {
   "cell_type": "code",
   "execution_count": 4,
   "id": "alternate-victory",
   "metadata": {
    "execution": {
     "iopub.execute_input": "2021-11-21T23:30:10.186746Z",
     "iopub.status.busy": "2021-11-21T23:30:10.184418Z",
     "iopub.status.idle": "2021-11-21T23:30:11.451798Z",
     "shell.execute_reply": "2021-11-21T23:30:11.454140Z"
    },
    "papermill": {
     "duration": 1.303566,
     "end_time": "2021-11-21T23:30:11.454666",
     "exception": false,
     "start_time": "2021-11-21T23:30:10.151100",
     "status": "completed"
    },
    "tags": []
   },
   "outputs": [],
   "source": [
    "df = pd.read_sql(\"select * from EBAY_TOP_BERLIN where record_time in (select distinct record_time from EBAY_TOP_BERLIN order by record_time desc limit 2)\", sqlite3.connect(\"UsedObjects.db\"))"
   ]
  },
  {
   "cell_type": "code",
   "execution_count": 5,
   "id": "popular-active",
   "metadata": {
    "execution": {
     "iopub.execute_input": "2021-11-21T23:30:11.532733Z",
     "iopub.status.busy": "2021-11-21T23:30:11.520068Z",
     "iopub.status.idle": "2021-11-21T23:30:11.550624Z",
     "shell.execute_reply": "2021-11-21T23:30:11.552091Z"
    },
    "papermill": {
     "duration": 0.076075,
     "end_time": "2021-11-21T23:30:11.552570",
     "exception": false,
     "start_time": "2021-11-21T23:30:11.476495",
     "status": "completed"
    },
    "tags": []
   },
   "outputs": [],
   "source": [
    "df_pivot = df.pivot_table(index=\"PRODUCT\", columns = \"RECORD_TIME\", values = \"LISTING_COUNT\")"
   ]
  },
  {
   "cell_type": "code",
   "execution_count": 6,
   "id": "union-huntington",
   "metadata": {
    "execution": {
     "iopub.execute_input": "2021-11-21T23:30:11.610821Z",
     "iopub.status.busy": "2021-11-21T23:30:11.608465Z",
     "iopub.status.idle": "2021-11-21T23:30:11.615768Z",
     "shell.execute_reply": "2021-11-21T23:30:11.617566Z"
    },
    "papermill": {
     "duration": 0.045638,
     "end_time": "2021-11-21T23:30:11.618063",
     "exception": false,
     "start_time": "2021-11-21T23:30:11.572425",
     "status": "completed"
    },
    "tags": []
   },
   "outputs": [],
   "source": [
    "df_pivot.columns = [\"stamp_1\", \"stamp_2\"]\n",
    "df_pivot_diff = df_pivot.diff(axis=1)"
   ]
  },
  {
   "cell_type": "code",
   "execution_count": 7,
   "id": "fifth-motion",
   "metadata": {
    "execution": {
     "iopub.execute_input": "2021-11-21T23:30:11.676919Z",
     "iopub.status.busy": "2021-11-21T23:30:11.674456Z",
     "iopub.status.idle": "2021-11-21T23:30:13.716552Z",
     "shell.execute_reply": "2021-11-21T23:30:13.718051Z"
    },
    "papermill": {
     "duration": 2.078113,
     "end_time": "2021-11-21T23:30:13.718498",
     "exception": false,
     "start_time": "2021-11-21T23:30:11.640385",
     "status": "completed"
    },
    "tags": []
   },
   "outputs": [
    {
     "data": {
      "text/plain": [
       "<AxesSubplot:ylabel='PRODUCT'>"
      ]
     },
     "execution_count": 7,
     "metadata": {},
     "output_type": "execute_result"
    },
    {
     "data": {
      "image/png": "[encoded data removed]",
      "text/plain": [
       "<Figure size 432x288 with 1 Axes>"
      ]
     },
     "metadata": {
      "needs_background": "light"
     },
     "output_type": "display_data"
    }
   ],
   "source": [
    "df_pivot_diff.sort_values(\"stamp_2\", ascending = False)[\"stamp_2\"].head(10).plot.barh()"
   ]
  },
  {
   "cell_type": "code",
   "execution_count": null,
   "id": "extra-executive",
   "metadata": {
    "papermill": {
     "duration": 0.022133,
     "end_time": "2021-11-21T23:30:13.765242",
     "exception": false,
     "start_time": "2021-11-21T23:30:13.743109",
     "status": "completed"
    },
    "tags": []
   },
   "outputs": [],
   "source": []
  }
 ],
 "metadata": {
  "kernelspec": {
   "display_name": "Python 3",
   "language": "python",
   "name": "python3"
  },
  "language_info": {
   "codemirror_mode": {
    "name": "ipython",
    "version": 3
   },
   "file_extension": ".py",
   "mimetype": "text/x-python",
   "name": "python",
   "nbconvert_exporter": "python",
   "pygments_lexer": "ipython3",
   "version": "3.9.5"
  },
  "papermill": {
   "default_parameters": {},
   "duration": 9.943886,
   "end_time": "2021-11-21T23:30:15.168240",
   "environment_variables": {},
   "exception": null,
   "input_path": "eBay_Overview.ipynb",
   "output_path": "eBay_Overview.ipynb",
   "parameters": {},
   "start_time": "2021-11-21T23:30:05.224354",
   "version": "2.3.3"
  }
 },
 "nbformat": 4,
 "nbformat_minor": 5
}