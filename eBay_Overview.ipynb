{
 "cells": [
  {
   "cell_type": "code",
   "execution_count": 1,
   "id": "reverse-picking",
   "metadata": {
    "execution": {
     "iopub.execute_input": "2021-09-22T05:00:07.200121Z",
     "iopub.status.busy": "2021-09-22T05:00:07.198115Z",
     "iopub.status.idle": "2021-09-22T05:00:08.002707Z",
     "shell.execute_reply": "2021-09-22T05:00:08.004111Z"
    },
    "papermill": {
     "duration": 0.854106,
     "end_time": "2021-09-22T05:00:08.004735",
     "exception": false,
     "start_time": "2021-09-22T05:00:07.150629",
     "status": "completed"
    },
    "tags": []
   },
   "outputs": [],
   "source": [
    "import pandas as pd\n",
    "import sqlite3"
   ]
  },
  {
   "cell_type": "code",
   "execution_count": 2,
   "id": "innovative-syndrome",
   "metadata": {
    "execution": {
     "iopub.execute_input": "2021-09-22T05:00:08.055990Z",
     "iopub.status.busy": "2021-09-22T05:00:08.054023Z",
     "iopub.status.idle": "2021-09-22T05:00:08.395176Z",
     "shell.execute_reply": "2021-09-22T05:00:08.396539Z"
    },
    "papermill": {
     "duration": 0.370738,
     "end_time": "2021-09-22T05:00:08.396940",
     "exception": false,
     "start_time": "2021-09-22T05:00:08.026202",
     "status": "completed"
    },
    "tags": []
   },
   "outputs": [],
   "source": [
    "timestamps = pd.read_sql(\"select distinct record_time from EBAY_TOP_BERLIN order by record_time desc limit 2\", sqlite3.connect(\"UsedObjects.db\"))"
   ]
  },
  {
   "cell_type": "code",
   "execution_count": 3,
   "id": "periodic-identification",
   "metadata": {
    "execution": {
     "iopub.execute_input": "2021-09-22T05:00:08.461234Z",
     "iopub.status.busy": "2021-09-22T05:00:08.459141Z",
     "iopub.status.idle": "2021-09-22T05:00:08.479886Z",
     "shell.execute_reply": "2021-09-22T05:00:08.481172Z"
    },
    "papermill": {
     "duration": 0.065199,
     "end_time": "2021-09-22T05:00:08.481556",
     "exception": false,
     "start_time": "2021-09-22T05:00:08.416357",
     "status": "completed"
    },
    "tags": []
   },
   "outputs": [
    {
     "data": {
      "text/html": [
       "<div>\n",
       "<style scoped>\n",
       "    .dataframe tbody tr th:only-of-type {\n",
       "        vertical-align: middle;\n",
       "    }\n",
       "\n",
       "    .dataframe tbody tr th {\n",
       "        vertical-align: top;\n",
       "    }\n",
       "\n",
       "    .dataframe thead th {\n",
       "        text-align: right;\n",
       "    }\n",
       "</style>\n",
       "<table border=\"1\" class=\"dataframe\">\n",
       "  <thead>\n",
       "    <tr style=\"text-align: right;\">\n",
       "      <th></th>\n",
       "      <th>RECORD_TIME</th>\n",
       "    </tr>\n",
       "  </thead>\n",
       "  <tbody>\n",
       "    <tr>\n",
       "      <th>0</th>\n",
       "      <td>2021-09-22 07:00</td>\n",
       "    </tr>\n",
       "    <tr>\n",
       "      <th>1</th>\n",
       "      <td>2021-09-22 06:30</td>\n",
       "    </tr>\n",
       "  </tbody>\n",
       "</table>\n",
       "</div>"
      ],
      "text/plain": [
       "        RECORD_TIME\n",
       "0  2021-09-22 07:00\n",
       "1  2021-09-22 06:30"
      ]
     },
     "execution_count": 3,
     "metadata": {},
     "output_type": "execute_result"
    }
   ],
   "source": [
    "timestamps"
   ]
  },
  {
   "cell_type": "code",
   "execution_count": 4,
   "id": "alternate-victory",
   "metadata": {
    "execution": {
     "iopub.execute_input": "2021-09-22T05:00:08.534705Z",
     "iopub.status.busy": "2021-09-22T05:00:08.532414Z",
     "iopub.status.idle": "2021-09-22T05:00:09.039993Z",
     "shell.execute_reply": "2021-09-22T05:00:09.041225Z"
    },
    "papermill": {
     "duration": 0.53817,
     "end_time": "2021-09-22T05:00:09.041620",
     "exception": false,
     "start_time": "2021-09-22T05:00:08.503450",
     "status": "completed"
    },
    "tags": []
   },
   "outputs": [],
   "source": [
    "df = pd.read_sql(\"select * from EBAY_TOP_BERLIN where record_time in (select distinct record_time from EBAY_TOP_BERLIN order by record_time desc limit 2)\", sqlite3.connect(\"UsedObjects.db\"))"
   ]
  },
  {
   "cell_type": "code",
   "execution_count": 5,
   "id": "popular-active",
   "metadata": {
    "execution": {
     "iopub.execute_input": "2021-09-22T05:00:09.129649Z",
     "iopub.status.busy": "2021-09-22T05:00:09.116970Z",
     "iopub.status.idle": "2021-09-22T05:00:09.145219Z",
     "shell.execute_reply": "2021-09-22T05:00:09.146454Z"
    },
    "papermill": {
     "duration": 0.07423,
     "end_time": "2021-09-22T05:00:09.146904",
     "exception": false,
     "start_time": "2021-09-22T05:00:09.072674",
     "status": "completed"
    },
    "tags": []
   },
   "outputs": [],
   "source": [
    "df_pivot = df.pivot_table(index=\"PRODUCT\", columns = \"RECORD_TIME\", values = \"LISTING_COUNT\")"
   ]
  },
  {
   "cell_type": "code",
   "execution_count": 6,
   "id": "union-huntington",
   "metadata": {
    "execution": {
     "iopub.execute_input": "2021-09-22T05:00:09.203287Z",
     "iopub.status.busy": "2021-09-22T05:00:09.201161Z",
     "iopub.status.idle": "2021-09-22T05:00:09.206134Z",
     "shell.execute_reply": "2021-09-22T05:00:09.207493Z"
    },
    "papermill": {
     "duration": 0.04023,
     "end_time": "2021-09-22T05:00:09.207939",
     "exception": false,
     "start_time": "2021-09-22T05:00:09.167709",
     "status": "completed"
    },
    "tags": []
   },
   "outputs": [],
   "source": [
    "df_pivot.columns = [\"stamp_1\", \"stamp_2\"]\n",
    "df_pivot_diff = df_pivot.diff(axis=1)"
   ]
  },
  {
   "cell_type": "code",
   "execution_count": 7,
   "id": "fifth-motion",
   "metadata": {
    "execution": {
     "iopub.execute_input": "2021-09-22T05:00:09.262973Z",
     "iopub.status.busy": "2021-09-22T05:00:09.260253Z",
     "iopub.status.idle": "2021-09-22T05:00:10.721385Z",
     "shell.execute_reply": "2021-09-22T05:00:10.722696Z"
    },
    "papermill": {
     "duration": 1.494945,
     "end_time": "2021-09-22T05:00:10.723183",
     "exception": false,
     "start_time": "2021-09-22T05:00:09.228238",
     "status": "completed"
    },
    "tags": []
   },
   "outputs": [
    {
     "data": {
      "text/plain": [
       "<AxesSubplot:ylabel='PRODUCT'>"
      ]
     },
     "execution_count": 7,
     "metadata": {},
     "output_type": "execute_result"
    },
    {
     "data": {
      "image/png": "[encoded data removed]",
      "text/plain": [
       "<Figure size 432x288 with 1 Axes>"
      ]
     },
     "metadata": {
      "needs_background": "light"
     },
     "output_type": "display_data"
    }
   ],
   "source": [
    "df_pivot_diff.sort_values(\"stamp_2\", ascending = False)[\"stamp_2\"].head(10).plot.barh()"
   ]
  },
  {
   "cell_type": "code",
   "execution_count": null,
   "id": "extra-executive",
   "metadata": {
    "papermill": {
     "duration": 0.022262,
     "end_time": "2021-09-22T05:00:10.770384",
     "exception": false,
     "start_time": "2021-09-22T05:00:10.748122",
     "status": "completed"
    },
    "tags": []
   },
   "outputs": [],
   "source": []
  }
 ],
 "metadata": {
  "kernelspec": {
   "display_name": "Python 3",
   "language": "python",
   "name": "python3"
  },
  "language_info": {
   "codemirror_mode": {
    "name": "ipython",
    "version": 3
   },
   "file_extension": ".py",
   "mimetype": "text/x-python",
   "name": "python",
   "nbconvert_exporter": "python",
   "pygments_lexer": "ipython3",
   "version": "3.9.5"
  },
  "papermill": {
   "default_parameters": {},
   "duration": 6.662221,
   "end_time": "2021-09-22T05:00:11.414913",
   "environment_variables": {},
   "exception": null,
   "input_path": "eBay_Overview.ipynb",
   "output_path": "eBay_Overview.ipynb",
   "parameters": {},
   "start_time": "2021-09-22T05:00:04.752692",
   "version": "2.3.3"
  }
 },
 "nbformat": 4,
 "nbformat_minor": 5
}