{
 "cells": [
  {
   "cell_type": "code",
   "execution_count": 1,
   "id": "reverse-picking",
   "metadata": {
    "execution": {
     "iopub.execute_input": "2021-12-04T09:30:08.670417Z",
     "iopub.status.busy": "2021-12-04T09:30:08.668053Z",
     "iopub.status.idle": "2021-12-04T09:30:09.639297Z",
     "shell.execute_reply": "2021-12-04T09:30:09.640972Z"
    },
    "papermill": {
     "duration": 1.020881,
     "end_time": "2021-12-04T09:30:09.641698",
     "exception": false,
     "start_time": "2021-12-04T09:30:08.620817",
     "status": "completed"
    },
    "tags": []
   },
   "outputs": [],
   "source": [
    "import pandas as pd\n",
    "import sqlite3"
   ]
  },
  {
   "cell_type": "code",
   "execution_count": 2,
   "id": "innovative-syndrome",
   "metadata": {
    "execution": {
     "iopub.execute_input": "2021-12-04T09:30:09.768920Z",
     "iopub.status.busy": "2021-12-04T09:30:09.766287Z",
     "iopub.status.idle": "2021-12-04T09:30:10.728913Z",
     "shell.execute_reply": "2021-12-04T09:30:10.730565Z"
    },
    "papermill": {
     "duration": 0.999529,
     "end_time": "2021-12-04T09:30:10.731098",
     "exception": false,
     "start_time": "2021-12-04T09:30:09.731569",
     "status": "completed"
    },
    "tags": []
   },
   "outputs": [],
   "source": [
    "timestamps = pd.read_sql(\"select distinct record_time from EBAY_TOP_BERLIN order by record_time desc limit 2\", sqlite3.connect(\"UsedObjects.db\"))"
   ]
  },
  {
   "cell_type": "code",
   "execution_count": 3,
   "id": "periodic-identification",
   "metadata": {
    "execution": {
     "iopub.execute_input": "2021-12-04T09:30:10.808835Z",
     "iopub.status.busy": "2021-12-04T09:30:10.802451Z",
     "iopub.status.idle": "2021-12-04T09:30:10.827519Z",
     "shell.execute_reply": "2021-12-04T09:30:10.829120Z"
    },
    "papermill": {
     "duration": 0.076844,
     "end_time": "2021-12-04T09:30:10.829645",
     "exception": false,
     "start_time": "2021-12-04T09:30:10.752801",
     "status": "completed"
    },
    "tags": []
   },
   "outputs": [
    {
     "data": {
      "text/html": [
       "<div>\n",
       "<style scoped>\n",
       "    .dataframe tbody tr th:only-of-type {\n",
       "        vertical-align: middle;\n",
       "    }\n",
       "\n",
       "    .dataframe tbody tr th {\n",
       "        vertical-align: top;\n",
       "    }\n",
       "\n",
       "    .dataframe thead th {\n",
       "        text-align: right;\n",
       "    }\n",
       "</style>\n",
       "<table border=\"1\" class=\"dataframe\">\n",
       "  <thead>\n",
       "    <tr style=\"text-align: right;\">\n",
       "      <th></th>\n",
       "      <th>RECORD_TIME</th>\n",
       "    </tr>\n",
       "  </thead>\n",
       "  <tbody>\n",
       "    <tr>\n",
       "      <th>0</th>\n",
       "      <td>2021-12-04 10:30</td>\n",
       "    </tr>\n",
       "    <tr>\n",
       "      <th>1</th>\n",
       "      <td>2021-12-04 10:00</td>\n",
       "    </tr>\n",
       "  </tbody>\n",
       "</table>\n",
       "</div>"
      ],
      "text/plain": [
       "        RECORD_TIME\n",
       "0  2021-12-04 10:30\n",
       "1  2021-12-04 10:00"
      ]
     },
     "execution_count": 3,
     "metadata": {},
     "output_type": "execute_result"
    }
   ],
   "source": [
    "timestamps"
   ]
  },
  {
   "cell_type": "code",
   "execution_count": 4,
   "id": "alternate-victory",
   "metadata": {
    "execution": {
     "iopub.execute_input": "2021-12-04T09:30:10.887609Z",
     "iopub.status.busy": "2021-12-04T09:30:10.885390Z",
     "iopub.status.idle": "2021-12-04T09:30:12.268530Z",
     "shell.execute_reply": "2021-12-04T09:30:12.271097Z"
    },
    "papermill": {
     "duration": 1.420244,
     "end_time": "2021-12-04T09:30:12.271602",
     "exception": false,
     "start_time": "2021-12-04T09:30:10.851358",
     "status": "completed"
    },
    "tags": []
   },
   "outputs": [],
   "source": [
    "df = pd.read_sql(\"select * from EBAY_TOP_BERLIN where record_time in (select distinct record_time from EBAY_TOP_BERLIN order by record_time desc limit 2)\", sqlite3.connect(\"UsedObjects.db\"))"
   ]
  },
  {
   "cell_type": "code",
   "execution_count": 5,
   "id": "popular-active",
   "metadata": {
    "execution": {
     "iopub.execute_input": "2021-12-04T09:30:12.350275Z",
     "iopub.status.busy": "2021-12-04T09:30:12.342125Z",
     "iopub.status.idle": "2021-12-04T09:30:12.367844Z",
     "shell.execute_reply": "2021-12-04T09:30:12.369348Z"
    },
    "papermill": {
     "duration": 0.075305,
     "end_time": "2021-12-04T09:30:12.369883",
     "exception": false,
     "start_time": "2021-12-04T09:30:12.294578",
     "status": "completed"
    },
    "tags": []
   },
   "outputs": [],
   "source": [
    "df_pivot = df.pivot_table(index=\"PRODUCT\", columns = \"RECORD_TIME\", values = \"LISTING_COUNT\")"
   ]
  },
  {
   "cell_type": "code",
   "execution_count": 6,
   "id": "union-huntington",
   "metadata": {
    "execution": {
     "iopub.execute_input": "2021-12-04T09:30:12.428526Z",
     "iopub.status.busy": "2021-12-04T09:30:12.426339Z",
     "iopub.status.idle": "2021-12-04T09:30:12.432723Z",
     "shell.execute_reply": "2021-12-04T09:30:12.434409Z"
    },
    "papermill": {
     "duration": 0.044728,
     "end_time": "2021-12-04T09:30:12.434887",
     "exception": false,
     "start_time": "2021-12-04T09:30:12.390159",
     "status": "completed"
    },
    "tags": []
   },
   "outputs": [],
   "source": [
    "df_pivot.columns = [\"stamp_1\", \"stamp_2\"]\n",
    "df_pivot_diff = df_pivot.diff(axis=1)"
   ]
  },
  {
   "cell_type": "code",
   "execution_count": 7,
   "id": "fifth-motion",
   "metadata": {
    "execution": {
     "iopub.execute_input": "2021-12-04T09:30:12.495387Z",
     "iopub.status.busy": "2021-12-04T09:30:12.492857Z",
     "iopub.status.idle": "2021-12-04T09:30:14.490217Z",
     "shell.execute_reply": "2021-12-04T09:30:14.491520Z"
    },
    "papermill": {
     "duration": 2.035576,
     "end_time": "2021-12-04T09:30:14.491950",
     "exception": false,
     "start_time": "2021-12-04T09:30:12.456374",
     "status": "completed"
    },
    "tags": []
   },
   "outputs": [
    {
     "data": {
      "text/plain": [
       "<AxesSubplot:ylabel='PRODUCT'>"
      ]
     },
     "execution_count": 7,
     "metadata": {},
     "output_type": "execute_result"
    },
    {
     "data": {
      "image/png": "[encoded data removed]",
      "text/plain": [
       "<Figure size 432x288 with 1 Axes>"
      ]
     },
     "metadata": {
      "needs_background": "light"
     },
     "output_type": "display_data"
    }
   ],
   "source": [
    "df_pivot_diff.sort_values(\"stamp_2\", ascending = False)[\"stamp_2\"].head(10).plot.barh()"
   ]
  },
  {
   "cell_type": "code",
   "execution_count": null,
   "id": "extra-executive",
   "metadata": {
    "papermill": {
     "duration": 0.022338,
     "end_time": "2021-12-04T09:30:14.540094",
     "exception": false,
     "start_time": "2021-12-04T09:30:14.517756",
     "status": "completed"
    },
    "tags": []
   },
   "outputs": [],
   "source": []
  }
 ],
 "metadata": {
  "kernelspec": {
   "display_name": "Python 3",
   "language": "python",
   "name": "python3"
  },
  "language_info": {
   "codemirror_mode": {
    "name": "ipython",
    "version": 3
   },
   "file_extension": ".py",
   "mimetype": "text/x-python",
   "name": "python",
   "nbconvert_exporter": "python",
   "pygments_lexer": "ipython3",
   "version": "3.9.5"
  },
  "papermill": {
   "default_parameters": {},
   "duration": 9.938602,
   "end_time": "2021-12-04T09:30:15.808497",
   "environment_variables": {},
   "exception": null,
   "input_path": "eBay_Overview.ipynb",
   "output_path": "eBay_Overview.ipynb",
   "parameters": {},
   "start_time": "2021-12-04T09:30:05.869895",
   "version": "2.3.3"
  }
 },
 "nbformat": 4,
 "nbformat_minor": 5
}