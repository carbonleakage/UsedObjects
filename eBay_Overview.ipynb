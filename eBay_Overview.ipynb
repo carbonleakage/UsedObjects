{
 "cells": [
  {
   "cell_type": "code",
   "execution_count": 1,
   "id": "reverse-picking",
   "metadata": {
    "execution": {
     "iopub.execute_input": "2021-11-22T20:30:08.096102Z",
     "iopub.status.busy": "2021-11-22T20:30:08.093767Z",
     "iopub.status.idle": "2021-11-22T20:30:09.009120Z",
     "shell.execute_reply": "2021-11-22T20:30:09.010592Z"
    },
    "papermill": {
     "duration": 0.965435,
     "end_time": "2021-11-22T20:30:09.011279",
     "exception": false,
     "start_time": "2021-11-22T20:30:08.045844",
     "status": "completed"
    },
    "tags": []
   },
   "outputs": [],
   "source": [
    "import pandas as pd\n",
    "import sqlite3"
   ]
  },
  {
   "cell_type": "code",
   "execution_count": 2,
   "id": "innovative-syndrome",
   "metadata": {
    "execution": {
     "iopub.execute_input": "2021-11-22T20:30:09.112663Z",
     "iopub.status.busy": "2021-11-22T20:30:09.110422Z",
     "iopub.status.idle": "2021-11-22T20:30:09.993563Z",
     "shell.execute_reply": "2021-11-22T20:30:09.995097Z"
    },
    "papermill": {
     "duration": 0.922587,
     "end_time": "2021-11-22T20:30:09.995602",
     "exception": false,
     "start_time": "2021-11-22T20:30:09.073015",
     "status": "completed"
    },
    "tags": []
   },
   "outputs": [],
   "source": [
    "timestamps = pd.read_sql(\"select distinct record_time from EBAY_TOP_BERLIN order by record_time desc limit 2\", sqlite3.connect(\"UsedObjects.db\"))"
   ]
  },
  {
   "cell_type": "code",
   "execution_count": 3,
   "id": "periodic-identification",
   "metadata": {
    "execution": {
     "iopub.execute_input": "2021-11-22T20:30:10.071604Z",
     "iopub.status.busy": "2021-11-22T20:30:10.069289Z",
     "iopub.status.idle": "2021-11-22T20:30:10.092030Z",
     "shell.execute_reply": "2021-11-22T20:30:10.093628Z"
    },
    "papermill": {
     "duration": 0.074869,
     "end_time": "2021-11-22T20:30:10.094119",
     "exception": false,
     "start_time": "2021-11-22T20:30:10.019250",
     "status": "completed"
    },
    "tags": []
   },
   "outputs": [
    {
     "data": {
      "text/html": [
       "<div>\n",
       "<style scoped>\n",
       "    .dataframe tbody tr th:only-of-type {\n",
       "        vertical-align: middle;\n",
       "    }\n",
       "\n",
       "    .dataframe tbody tr th {\n",
       "        vertical-align: top;\n",
       "    }\n",
       "\n",
       "    .dataframe thead th {\n",
       "        text-align: right;\n",
       "    }\n",
       "</style>\n",
       "<table border=\"1\" class=\"dataframe\">\n",
       "  <thead>\n",
       "    <tr style=\"text-align: right;\">\n",
       "      <th></th>\n",
       "      <th>RECORD_TIME</th>\n",
       "    </tr>\n",
       "  </thead>\n",
       "  <tbody>\n",
       "    <tr>\n",
       "      <th>0</th>\n",
       "      <td>2021-11-22 21:30</td>\n",
       "    </tr>\n",
       "    <tr>\n",
       "      <th>1</th>\n",
       "      <td>2021-11-22 21:00</td>\n",
       "    </tr>\n",
       "  </tbody>\n",
       "</table>\n",
       "</div>"
      ],
      "text/plain": [
       "        RECORD_TIME\n",
       "0  2021-11-22 21:30\n",
       "1  2021-11-22 21:00"
      ]
     },
     "execution_count": 3,
     "metadata": {},
     "output_type": "execute_result"
    }
   ],
   "source": [
    "timestamps"
   ]
  },
  {
   "cell_type": "code",
   "execution_count": 4,
   "id": "alternate-victory",
   "metadata": {
    "execution": {
     "iopub.execute_input": "2021-11-22T20:30:10.149604Z",
     "iopub.status.busy": "2021-11-22T20:30:10.146483Z",
     "iopub.status.idle": "2021-11-22T20:30:11.434555Z",
     "shell.execute_reply": "2021-11-22T20:30:11.436912Z"
    },
    "papermill": {
     "duration": 1.322518,
     "end_time": "2021-11-22T20:30:11.437421",
     "exception": false,
     "start_time": "2021-11-22T20:30:10.114903",
     "status": "completed"
    },
    "tags": []
   },
   "outputs": [],
   "source": [
    "df = pd.read_sql(\"select * from EBAY_TOP_BERLIN where record_time in (select distinct record_time from EBAY_TOP_BERLIN order by record_time desc limit 2)\", sqlite3.connect(\"UsedObjects.db\"))"
   ]
  },
  {
   "cell_type": "code",
   "execution_count": 5,
   "id": "popular-active",
   "metadata": {
    "execution": {
     "iopub.execute_input": "2021-11-22T20:30:11.512404Z",
     "iopub.status.busy": "2021-11-22T20:30:11.503498Z",
     "iopub.status.idle": "2021-11-22T20:30:11.536621Z",
     "shell.execute_reply": "2021-11-22T20:30:11.538333Z"
    },
    "papermill": {
     "duration": 0.079403,
     "end_time": "2021-11-22T20:30:11.538826",
     "exception": false,
     "start_time": "2021-11-22T20:30:11.459423",
     "status": "completed"
    },
    "tags": []
   },
   "outputs": [],
   "source": [
    "df_pivot = df.pivot_table(index=\"PRODUCT\", columns = \"RECORD_TIME\", values = \"LISTING_COUNT\")"
   ]
  },
  {
   "cell_type": "code",
   "execution_count": 6,
   "id": "union-huntington",
   "metadata": {
    "execution": {
     "iopub.execute_input": "2021-11-22T20:30:11.598803Z",
     "iopub.status.busy": "2021-11-22T20:30:11.596479Z",
     "iopub.status.idle": "2021-11-22T20:30:11.604493Z",
     "shell.execute_reply": "2021-11-22T20:30:11.605961Z"
    },
    "papermill": {
     "duration": 0.04567,
     "end_time": "2021-11-22T20:30:11.606438",
     "exception": false,
     "start_time": "2021-11-22T20:30:11.560768",
     "status": "completed"
    },
    "tags": []
   },
   "outputs": [],
   "source": [
    "df_pivot.columns = [\"stamp_1\", \"stamp_2\"]\n",
    "df_pivot_diff = df_pivot.diff(axis=1)"
   ]
  },
  {
   "cell_type": "code",
   "execution_count": 7,
   "id": "fifth-motion",
   "metadata": {
    "execution": {
     "iopub.execute_input": "2021-11-22T20:30:11.662745Z",
     "iopub.status.busy": "2021-11-22T20:30:11.660193Z",
     "iopub.status.idle": "2021-11-22T20:30:13.625689Z",
     "shell.execute_reply": "2021-11-22T20:30:13.627734Z"
    },
    "papermill": {
     "duration": 2.001849,
     "end_time": "2021-11-22T20:30:13.628363",
     "exception": false,
     "start_time": "2021-11-22T20:30:11.626514",
     "status": "completed"
    },
    "tags": []
   },
   "outputs": [
    {
     "data": {
      "text/plain": [
       "<AxesSubplot:ylabel='PRODUCT'>"
      ]
     },
     "execution_count": 7,
     "metadata": {},
     "output_type": "execute_result"
    },
    {
     "data": {
      "image/png": "[encoded data removed]",
      "text/plain": [
       "<Figure size 432x288 with 1 Axes>"
      ]
     },
     "metadata": {
      "needs_background": "light"
     },
     "output_type": "display_data"
    }
   ],
   "source": [
    "df_pivot_diff.sort_values(\"stamp_2\", ascending = False)[\"stamp_2\"].head(10).plot.barh()"
   ]
  },
  {
   "cell_type": "code",
   "execution_count": null,
   "id": "extra-executive",
   "metadata": {
    "papermill": {
     "duration": 0.036695,
     "end_time": "2021-11-22T20:30:13.701297",
     "exception": false,
     "start_time": "2021-11-22T20:30:13.664602",
     "status": "completed"
    },
    "tags": []
   },
   "outputs": [],
   "source": []
  }
 ],
 "metadata": {
  "kernelspec": {
   "display_name": "Python 3",
   "language": "python",
   "name": "python3"
  },
  "language_info": {
   "codemirror_mode": {
    "name": "ipython",
    "version": 3
   },
   "file_extension": ".py",
   "mimetype": "text/x-python",
   "name": "python",
   "nbconvert_exporter": "python",
   "pygments_lexer": "ipython3",
   "version": "3.9.5"
  },
  "papermill": {
   "default_parameters": {},
   "duration": 9.937169,
   "end_time": "2021-11-22T20:30:15.261188",
   "environment_variables": {},
   "exception": null,
   "input_path": "eBay_Overview.ipynb",
   "output_path": "eBay_Overview.ipynb",
   "parameters": {},
   "start_time": "2021-11-22T20:30:05.324019",
   "version": "2.3.3"
  }
 },
 "nbformat": 4,
 "nbformat_minor": 5
}