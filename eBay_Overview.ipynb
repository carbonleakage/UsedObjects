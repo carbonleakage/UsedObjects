{
 "cells": [
  {
   "cell_type": "code",
   "execution_count": 1,
   "id": "reverse-picking",
   "metadata": {
    "execution": {
     "iopub.execute_input": "2021-09-22T13:30:07.117055Z",
     "iopub.status.busy": "2021-09-22T13:30:07.115120Z",
     "iopub.status.idle": "2021-09-22T13:30:07.918319Z",
     "shell.execute_reply": "2021-09-22T13:30:07.919642Z"
    },
    "papermill": {
     "duration": 0.856289,
     "end_time": "2021-09-22T13:30:07.920268",
     "exception": false,
     "start_time": "2021-09-22T13:30:07.063979",
     "status": "completed"
    },
    "tags": []
   },
   "outputs": [],
   "source": [
    "import pandas as pd\n",
    "import sqlite3"
   ]
  },
  {
   "cell_type": "code",
   "execution_count": 2,
   "id": "innovative-syndrome",
   "metadata": {
    "execution": {
     "iopub.execute_input": "2021-09-22T13:30:07.971932Z",
     "iopub.status.busy": "2021-09-22T13:30:07.969985Z",
     "iopub.status.idle": "2021-09-22T13:30:08.322574Z",
     "shell.execute_reply": "2021-09-22T13:30:08.323851Z"
    },
    "papermill": {
     "duration": 0.38189,
     "end_time": "2021-09-22T13:30:08.324246",
     "exception": false,
     "start_time": "2021-09-22T13:30:07.942356",
     "status": "completed"
    },
    "tags": []
   },
   "outputs": [],
   "source": [
    "timestamps = pd.read_sql(\"select distinct record_time from EBAY_TOP_BERLIN order by record_time desc limit 2\", sqlite3.connect(\"UsedObjects.db\"))"
   ]
  },
  {
   "cell_type": "code",
   "execution_count": 3,
   "id": "periodic-identification",
   "metadata": {
    "execution": {
     "iopub.execute_input": "2021-09-22T13:30:08.388524Z",
     "iopub.status.busy": "2021-09-22T13:30:08.386429Z",
     "iopub.status.idle": "2021-09-22T13:30:08.406155Z",
     "shell.execute_reply": "2021-09-22T13:30:08.407551Z"
    },
    "papermill": {
     "duration": 0.064654,
     "end_time": "2021-09-22T13:30:08.407991",
     "exception": false,
     "start_time": "2021-09-22T13:30:08.343337",
     "status": "completed"
    },
    "tags": []
   },
   "outputs": [
    {
     "data": {
      "text/html": [
       "<div>\n",
       "<style scoped>\n",
       "    .dataframe tbody tr th:only-of-type {\n",
       "        vertical-align: middle;\n",
       "    }\n",
       "\n",
       "    .dataframe tbody tr th {\n",
       "        vertical-align: top;\n",
       "    }\n",
       "\n",
       "    .dataframe thead th {\n",
       "        text-align: right;\n",
       "    }\n",
       "</style>\n",
       "<table border=\"1\" class=\"dataframe\">\n",
       "  <thead>\n",
       "    <tr style=\"text-align: right;\">\n",
       "      <th></th>\n",
       "      <th>RECORD_TIME</th>\n",
       "    </tr>\n",
       "  </thead>\n",
       "  <tbody>\n",
       "    <tr>\n",
       "      <th>0</th>\n",
       "      <td>2021-09-22 15:30</td>\n",
       "    </tr>\n",
       "    <tr>\n",
       "      <th>1</th>\n",
       "      <td>2021-09-22 15:00</td>\n",
       "    </tr>\n",
       "  </tbody>\n",
       "</table>\n",
       "</div>"
      ],
      "text/plain": [
       "        RECORD_TIME\n",
       "0  2021-09-22 15:30\n",
       "1  2021-09-22 15:00"
      ]
     },
     "execution_count": 3,
     "metadata": {},
     "output_type": "execute_result"
    }
   ],
   "source": [
    "timestamps"
   ]
  },
  {
   "cell_type": "code",
   "execution_count": 4,
   "id": "alternate-victory",
   "metadata": {
    "execution": {
     "iopub.execute_input": "2021-09-22T13:30:08.460807Z",
     "iopub.status.busy": "2021-09-22T13:30:08.458586Z",
     "iopub.status.idle": "2021-09-22T13:30:08.971034Z",
     "shell.execute_reply": "2021-09-22T13:30:08.972253Z"
    },
    "papermill": {
     "duration": 0.542564,
     "end_time": "2021-09-22T13:30:08.972683",
     "exception": false,
     "start_time": "2021-09-22T13:30:08.430119",
     "status": "completed"
    },
    "tags": []
   },
   "outputs": [],
   "source": [
    "df = pd.read_sql(\"select * from EBAY_TOP_BERLIN where record_time in (select distinct record_time from EBAY_TOP_BERLIN order by record_time desc limit 2)\", sqlite3.connect(\"UsedObjects.db\"))"
   ]
  },
  {
   "cell_type": "code",
   "execution_count": 5,
   "id": "popular-active",
   "metadata": {
    "execution": {
     "iopub.execute_input": "2021-09-22T13:30:09.038981Z",
     "iopub.status.busy": "2021-09-22T13:30:09.031249Z",
     "iopub.status.idle": "2021-09-22T13:30:09.060287Z",
     "shell.execute_reply": "2021-09-22T13:30:09.061585Z"
    },
    "papermill": {
     "duration": 0.067869,
     "end_time": "2021-09-22T13:30:09.061999",
     "exception": false,
     "start_time": "2021-09-22T13:30:08.994130",
     "status": "completed"
    },
    "tags": []
   },
   "outputs": [],
   "source": [
    "df_pivot = df.pivot_table(index=\"PRODUCT\", columns = \"RECORD_TIME\", values = \"LISTING_COUNT\")"
   ]
  },
  {
   "cell_type": "code",
   "execution_count": 6,
   "id": "union-huntington",
   "metadata": {
    "execution": {
     "iopub.execute_input": "2021-09-22T13:30:09.118444Z",
     "iopub.status.busy": "2021-09-22T13:30:09.116037Z",
     "iopub.status.idle": "2021-09-22T13:30:09.121983Z",
     "shell.execute_reply": "2021-09-22T13:30:09.123401Z"
    },
    "papermill": {
     "duration": 0.042392,
     "end_time": "2021-09-22T13:30:09.123839",
     "exception": false,
     "start_time": "2021-09-22T13:30:09.081447",
     "status": "completed"
    },
    "tags": []
   },
   "outputs": [],
   "source": [
    "df_pivot.columns = [\"stamp_1\", \"stamp_2\"]\n",
    "df_pivot_diff = df_pivot.diff(axis=1)"
   ]
  },
  {
   "cell_type": "code",
   "execution_count": 7,
   "id": "fifth-motion",
   "metadata": {
    "execution": {
     "iopub.execute_input": "2021-09-22T13:30:09.177969Z",
     "iopub.status.busy": "2021-09-22T13:30:09.175801Z",
     "iopub.status.idle": "2021-09-22T13:30:10.646462Z",
     "shell.execute_reply": "2021-09-22T13:30:10.647886Z"
    },
    "papermill": {
     "duration": 1.503197,
     "end_time": "2021-09-22T13:30:10.648329",
     "exception": false,
     "start_time": "2021-09-22T13:30:09.145132",
     "status": "completed"
    },
    "tags": []
   },
   "outputs": [
    {
     "data": {
      "text/plain": [
       "<AxesSubplot:ylabel='PRODUCT'>"
      ]
     },
     "execution_count": 7,
     "metadata": {},
     "output_type": "execute_result"
    },
    {
     "data": {
      "image/png": "[encoded data removed]",
      "text/plain": [
       "<Figure size 432x288 with 1 Axes>"
      ]
     },
     "metadata": {
      "needs_background": "light"
     },
     "output_type": "display_data"
    }
   ],
   "source": [
    "df_pivot_diff.sort_values(\"stamp_2\", ascending = False)[\"stamp_2\"].head(10).plot.barh()"
   ]
  },
  {
   "cell_type": "code",
   "execution_count": null,
   "id": "extra-executive",
   "metadata": {
    "papermill": {
     "duration": 0.021989,
     "end_time": "2021-09-22T13:30:10.693936",
     "exception": false,
     "start_time": "2021-09-22T13:30:10.671947",
     "status": "completed"
    },
    "tags": []
   },
   "outputs": [],
   "source": []
  }
 ],
 "metadata": {
  "kernelspec": {
   "display_name": "Python 3",
   "language": "python",
   "name": "python3"
  },
  "language_info": {
   "codemirror_mode": {
    "name": "ipython",
    "version": 3
   },
   "file_extension": ".py",
   "mimetype": "text/x-python",
   "name": "python",
   "nbconvert_exporter": "python",
   "pygments_lexer": "ipython3",
   "version": "3.9.5"
  },
  "papermill": {
   "default_parameters": {},
   "duration": 6.670601,
   "end_time": "2021-09-22T13:30:11.337343",
   "environment_variables": {},
   "exception": null,
   "input_path": "eBay_Overview.ipynb",
   "output_path": "eBay_Overview.ipynb",
   "parameters": {},
   "start_time": "2021-09-22T13:30:04.666742",
   "version": "2.3.3"
  }
 },
 "nbformat": 4,
 "nbformat_minor": 5
}