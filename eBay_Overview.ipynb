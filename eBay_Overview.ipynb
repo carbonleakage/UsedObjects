{
 "cells": [
  {
   "cell_type": "code",
   "execution_count": 1,
   "id": "reverse-picking",
   "metadata": {
    "execution": {
     "iopub.execute_input": "2021-08-31T16:30:06.688654Z",
     "iopub.status.busy": "2021-08-31T16:30:06.686626Z",
     "iopub.status.idle": "2021-08-31T16:30:07.488240Z",
     "shell.execute_reply": "2021-08-31T16:30:07.489488Z"
    },
    "papermill": {
     "duration": 0.852109,
     "end_time": "2021-08-31T16:30:07.490107",
     "exception": false,
     "start_time": "2021-08-31T16:30:06.637998",
     "status": "completed"
    },
    "tags": []
   },
   "outputs": [],
   "source": [
    "import pandas as pd\n",
    "import sqlite3"
   ]
  },
  {
   "cell_type": "code",
   "execution_count": 2,
   "id": "innovative-syndrome",
   "metadata": {
    "execution": {
     "iopub.execute_input": "2021-08-31T16:30:07.540824Z",
     "iopub.status.busy": "2021-08-31T16:30:07.538938Z",
     "iopub.status.idle": "2021-08-31T16:30:07.715844Z",
     "shell.execute_reply": "2021-08-31T16:30:07.717064Z"
    },
    "papermill": {
     "duration": 0.206433,
     "end_time": "2021-08-31T16:30:07.717458",
     "exception": false,
     "start_time": "2021-08-31T16:30:07.511025",
     "status": "completed"
    },
    "tags": []
   },
   "outputs": [],
   "source": [
    "timestamps = pd.read_sql(\"select distinct record_time from EBAY_TOP_BERLIN order by record_time desc limit 2\", sqlite3.connect(\"UsedObjects.db\"))"
   ]
  },
  {
   "cell_type": "code",
   "execution_count": 3,
   "id": "periodic-identification",
   "metadata": {
    "execution": {
     "iopub.execute_input": "2021-08-31T16:30:07.781653Z",
     "iopub.status.busy": "2021-08-31T16:30:07.779655Z",
     "iopub.status.idle": "2021-08-31T16:30:07.799573Z",
     "shell.execute_reply": "2021-08-31T16:30:07.800878Z"
    },
    "papermill": {
     "duration": 0.064453,
     "end_time": "2021-08-31T16:30:07.801291",
     "exception": false,
     "start_time": "2021-08-31T16:30:07.736838",
     "status": "completed"
    },
    "tags": []
   },
   "outputs": [
    {
     "data": {
      "text/html": [
       "<div>\n",
       "<style scoped>\n",
       "    .dataframe tbody tr th:only-of-type {\n",
       "        vertical-align: middle;\n",
       "    }\n",
       "\n",
       "    .dataframe tbody tr th {\n",
       "        vertical-align: top;\n",
       "    }\n",
       "\n",
       "    .dataframe thead th {\n",
       "        text-align: right;\n",
       "    }\n",
       "</style>\n",
       "<table border=\"1\" class=\"dataframe\">\n",
       "  <thead>\n",
       "    <tr style=\"text-align: right;\">\n",
       "      <th></th>\n",
       "      <th>RECORD_TIME</th>\n",
       "    </tr>\n",
       "  </thead>\n",
       "  <tbody>\n",
       "    <tr>\n",
       "      <th>0</th>\n",
       "      <td>2021-08-31 18:30</td>\n",
       "    </tr>\n",
       "    <tr>\n",
       "      <th>1</th>\n",
       "      <td>2021-08-31 18:00</td>\n",
       "    </tr>\n",
       "  </tbody>\n",
       "</table>\n",
       "</div>"
      ],
      "text/plain": [
       "        RECORD_TIME\n",
       "0  2021-08-31 18:30\n",
       "1  2021-08-31 18:00"
      ]
     },
     "execution_count": 3,
     "metadata": {},
     "output_type": "execute_result"
    }
   ],
   "source": [
    "timestamps"
   ]
  },
  {
   "cell_type": "code",
   "execution_count": 4,
   "id": "alternate-victory",
   "metadata": {
    "execution": {
     "iopub.execute_input": "2021-08-31T16:30:07.853100Z",
     "iopub.status.busy": "2021-08-31T16:30:07.850927Z",
     "iopub.status.idle": "2021-08-31T16:30:08.112332Z",
     "shell.execute_reply": "2021-08-31T16:30:08.113532Z"
    },
    "papermill": {
     "duration": 0.291359,
     "end_time": "2021-08-31T16:30:08.113929",
     "exception": false,
     "start_time": "2021-08-31T16:30:07.822570",
     "status": "completed"
    },
    "tags": []
   },
   "outputs": [],
   "source": [
    "df = pd.read_sql(\"select * from EBAY_TOP_BERLIN where record_time in (select distinct record_time from EBAY_TOP_BERLIN order by record_time desc limit 2)\", sqlite3.connect(\"UsedObjects.db\"))"
   ]
  },
  {
   "cell_type": "code",
   "execution_count": 5,
   "id": "popular-active",
   "metadata": {
    "execution": {
     "iopub.execute_input": "2021-08-31T16:30:08.193617Z",
     "iopub.status.busy": "2021-08-31T16:30:08.180638Z",
     "iopub.status.idle": "2021-08-31T16:30:08.209680Z",
     "shell.execute_reply": "2021-08-31T16:30:08.211036Z"
    },
    "papermill": {
     "duration": 0.07165,
     "end_time": "2021-08-31T16:30:08.211464",
     "exception": false,
     "start_time": "2021-08-31T16:30:08.139814",
     "status": "completed"
    },
    "tags": []
   },
   "outputs": [],
   "source": [
    "df_pivot = df.pivot_table(index=\"PRODUCT\", columns = \"RECORD_TIME\", values = \"LISTING_COUNT\")"
   ]
  },
  {
   "cell_type": "code",
   "execution_count": 6,
   "id": "union-huntington",
   "metadata": {
    "execution": {
     "iopub.execute_input": "2021-08-31T16:30:08.267412Z",
     "iopub.status.busy": "2021-08-31T16:30:08.265326Z",
     "iopub.status.idle": "2021-08-31T16:30:08.270664Z",
     "shell.execute_reply": "2021-08-31T16:30:08.271933Z"
    },
    "papermill": {
     "duration": 0.040819,
     "end_time": "2021-08-31T16:30:08.272366",
     "exception": false,
     "start_time": "2021-08-31T16:30:08.231547",
     "status": "completed"
    },
    "tags": []
   },
   "outputs": [],
   "source": [
    "df_pivot.columns = [\"stamp_1\", \"stamp_2\"]\n",
    "df_pivot_diff = df_pivot.diff(axis=1)"
   ]
  },
  {
   "cell_type": "code",
   "execution_count": 7,
   "id": "fifth-motion",
   "metadata": {
    "execution": {
     "iopub.execute_input": "2021-08-31T16:30:08.326008Z",
     "iopub.status.busy": "2021-08-31T16:30:08.323629Z",
     "iopub.status.idle": "2021-08-31T16:30:09.799495Z",
     "shell.execute_reply": "2021-08-31T16:30:09.800956Z"
    },
    "papermill": {
     "duration": 1.508629,
     "end_time": "2021-08-31T16:30:09.801396",
     "exception": false,
     "start_time": "2021-08-31T16:30:08.292767",
     "status": "completed"
    },
    "tags": []
   },
   "outputs": [
    {
     "data": {
      "text/plain": [
       "<AxesSubplot:ylabel='PRODUCT'>"
      ]
     },
     "execution_count": 7,
     "metadata": {},
     "output_type": "execute_result"
    },
    {
     "data": {
      "image/png": "[encoded data removed]",
      "text/plain": [
       "<Figure size 432x288 with 1 Axes>"
      ]
     },
     "metadata": {
      "needs_background": "light"
     },
     "output_type": "display_data"
    }
   ],
   "source": [
    "df_pivot_diff.sort_values(\"stamp_2\", ascending = False)[\"stamp_2\"].head(10).plot.barh()"
   ]
  },
  {
   "cell_type": "code",
   "execution_count": null,
   "id": "extra-executive",
   "metadata": {
    "papermill": {
     "duration": 0.022023,
     "end_time": "2021-08-31T16:30:09.848410",
     "exception": false,
     "start_time": "2021-08-31T16:30:09.826387",
     "status": "completed"
    },
    "tags": []
   },
   "outputs": [],
   "source": []
  }
 ],
 "metadata": {
  "kernelspec": {
   "display_name": "Python 3",
   "language": "python",
   "name": "python3"
  },
  "language_info": {
   "codemirror_mode": {
    "name": "ipython",
    "version": 3
   },
   "file_extension": ".py",
   "mimetype": "text/x-python",
   "name": "python",
   "nbconvert_exporter": "python",
   "pygments_lexer": "ipython3",
   "version": "3.9.5"
  },
  "papermill": {
   "default_parameters": {},
   "duration": 6.820088,
   "end_time": "2021-08-31T16:30:11.058273",
   "environment_variables": {},
   "exception": null,
   "input_path": "eBay_Overview.ipynb",
   "output_path": "eBay_Overview.ipynb",
   "parameters": {},
   "start_time": "2021-08-31T16:30:04.238185",
   "version": "2.3.3"
  }
 },
 "nbformat": 4,
 "nbformat_minor": 5
}