{
 "cells": [
  {
   "cell_type": "code",
   "execution_count": 1,
   "id": "reverse-picking",
   "metadata": {
    "execution": {
     "iopub.execute_input": "2021-09-03T10:00:06.915453Z",
     "iopub.status.busy": "2021-09-03T10:00:06.913398Z",
     "iopub.status.idle": "2021-09-03T10:00:07.716749Z",
     "shell.execute_reply": "2021-09-03T10:00:07.718011Z"
    },
    "papermill": {
     "duration": 0.853789,
     "end_time": "2021-09-03T10:00:07.718626",
     "exception": false,
     "start_time": "2021-09-03T10:00:06.864837",
     "status": "completed"
    },
    "tags": []
   },
   "outputs": [],
   "source": [
    "import pandas as pd\n",
    "import sqlite3"
   ]
  },
  {
   "cell_type": "code",
   "execution_count": 2,
   "id": "innovative-syndrome",
   "metadata": {
    "execution": {
     "iopub.execute_input": "2021-09-03T10:00:07.768960Z",
     "iopub.status.busy": "2021-09-03T10:00:07.767108Z",
     "iopub.status.idle": "2021-09-03T10:00:07.958837Z",
     "shell.execute_reply": "2021-09-03T10:00:07.960126Z"
    },
    "papermill": {
     "duration": 0.221178,
     "end_time": "2021-09-03T10:00:07.960526",
     "exception": false,
     "start_time": "2021-09-03T10:00:07.739348",
     "status": "completed"
    },
    "tags": []
   },
   "outputs": [],
   "source": [
    "timestamps = pd.read_sql(\"select distinct record_time from EBAY_TOP_BERLIN order by record_time desc limit 2\", sqlite3.connect(\"UsedObjects.db\"))"
   ]
  },
  {
   "cell_type": "code",
   "execution_count": 3,
   "id": "periodic-identification",
   "metadata": {
    "execution": {
     "iopub.execute_input": "2021-09-03T10:00:08.027994Z",
     "iopub.status.busy": "2021-09-03T10:00:08.025894Z",
     "iopub.status.idle": "2021-09-03T10:00:08.046740Z",
     "shell.execute_reply": "2021-09-03T10:00:08.048346Z"
    },
    "papermill": {
     "duration": 0.066072,
     "end_time": "2021-09-03T10:00:08.048813",
     "exception": false,
     "start_time": "2021-09-03T10:00:07.982741",
     "status": "completed"
    },
    "tags": []
   },
   "outputs": [
    {
     "data": {
      "text/html": [
       "<div>\n",
       "<style scoped>\n",
       "    .dataframe tbody tr th:only-of-type {\n",
       "        vertical-align: middle;\n",
       "    }\n",
       "\n",
       "    .dataframe tbody tr th {\n",
       "        vertical-align: top;\n",
       "    }\n",
       "\n",
       "    .dataframe thead th {\n",
       "        text-align: right;\n",
       "    }\n",
       "</style>\n",
       "<table border=\"1\" class=\"dataframe\">\n",
       "  <thead>\n",
       "    <tr style=\"text-align: right;\">\n",
       "      <th></th>\n",
       "      <th>RECORD_TIME</th>\n",
       "    </tr>\n",
       "  </thead>\n",
       "  <tbody>\n",
       "    <tr>\n",
       "      <th>0</th>\n",
       "      <td>2021-09-03 12:00</td>\n",
       "    </tr>\n",
       "    <tr>\n",
       "      <th>1</th>\n",
       "      <td>2021-09-03 11:30</td>\n",
       "    </tr>\n",
       "  </tbody>\n",
       "</table>\n",
       "</div>"
      ],
      "text/plain": [
       "        RECORD_TIME\n",
       "0  2021-09-03 12:00\n",
       "1  2021-09-03 11:30"
      ]
     },
     "execution_count": 3,
     "metadata": {},
     "output_type": "execute_result"
    }
   ],
   "source": [
    "timestamps"
   ]
  },
  {
   "cell_type": "code",
   "execution_count": 4,
   "id": "alternate-victory",
   "metadata": {
    "execution": {
     "iopub.execute_input": "2021-09-03T10:00:08.099181Z",
     "iopub.status.busy": "2021-09-03T10:00:08.097257Z",
     "iopub.status.idle": "2021-09-03T10:00:08.385362Z",
     "shell.execute_reply": "2021-09-03T10:00:08.386581Z"
    },
    "papermill": {
     "duration": 0.318035,
     "end_time": "2021-09-03T10:00:08.387157",
     "exception": false,
     "start_time": "2021-09-03T10:00:08.069122",
     "status": "completed"
    },
    "tags": []
   },
   "outputs": [],
   "source": [
    "df = pd.read_sql(\"select * from EBAY_TOP_BERLIN where record_time in (select distinct record_time from EBAY_TOP_BERLIN order by record_time desc limit 2)\", sqlite3.connect(\"UsedObjects.db\"))"
   ]
  },
  {
   "cell_type": "code",
   "execution_count": 5,
   "id": "popular-active",
   "metadata": {
    "execution": {
     "iopub.execute_input": "2021-09-03T10:00:08.468649Z",
     "iopub.status.busy": "2021-09-03T10:00:08.457382Z",
     "iopub.status.idle": "2021-09-03T10:00:08.484201Z",
     "shell.execute_reply": "2021-09-03T10:00:08.485479Z"
    },
    "papermill": {
     "duration": 0.07069,
     "end_time": "2021-09-03T10:00:08.485897",
     "exception": false,
     "start_time": "2021-09-03T10:00:08.415207",
     "status": "completed"
    },
    "tags": []
   },
   "outputs": [],
   "source": [
    "df_pivot = df.pivot_table(index=\"PRODUCT\", columns = \"RECORD_TIME\", values = \"LISTING_COUNT\")"
   ]
  },
  {
   "cell_type": "code",
   "execution_count": 6,
   "id": "union-huntington",
   "metadata": {
    "execution": {
     "iopub.execute_input": "2021-09-03T10:00:08.542925Z",
     "iopub.status.busy": "2021-09-03T10:00:08.540762Z",
     "iopub.status.idle": "2021-09-03T10:00:08.546376Z",
     "shell.execute_reply": "2021-09-03T10:00:08.547872Z"
    },
    "papermill": {
     "duration": 0.040837,
     "end_time": "2021-09-03T10:00:08.548345",
     "exception": false,
     "start_time": "2021-09-03T10:00:08.507508",
     "status": "completed"
    },
    "tags": []
   },
   "outputs": [],
   "source": [
    "df_pivot.columns = [\"stamp_1\", \"stamp_2\"]\n",
    "df_pivot_diff = df_pivot.diff(axis=1)"
   ]
  },
  {
   "cell_type": "code",
   "execution_count": 7,
   "id": "fifth-motion",
   "metadata": {
    "execution": {
     "iopub.execute_input": "2021-09-03T10:00:08.604037Z",
     "iopub.status.busy": "2021-09-03T10:00:08.601323Z",
     "iopub.status.idle": "2021-09-03T10:00:10.103534Z",
     "shell.execute_reply": "2021-09-03T10:00:10.104910Z"
    },
    "papermill": {
     "duration": 1.535484,
     "end_time": "2021-09-03T10:00:10.105350",
     "exception": false,
     "start_time": "2021-09-03T10:00:08.569866",
     "status": "completed"
    },
    "tags": []
   },
   "outputs": [
    {
     "data": {
      "text/plain": [
       "<AxesSubplot:ylabel='PRODUCT'>"
      ]
     },
     "execution_count": 7,
     "metadata": {},
     "output_type": "execute_result"
    },
    {
     "data": {
      "image/png": "[encoded data removed]",
      "text/plain": [
       "<Figure size 432x288 with 1 Axes>"
      ]
     },
     "metadata": {
      "needs_background": "light"
     },
     "output_type": "display_data"
    }
   ],
   "source": [
    "df_pivot_diff.sort_values(\"stamp_2\", ascending = False)[\"stamp_2\"].head(10).plot.barh()"
   ]
  },
  {
   "cell_type": "code",
   "execution_count": null,
   "id": "extra-executive",
   "metadata": {
    "papermill": {
     "duration": 0.022254,
     "end_time": "2021-09-03T10:00:10.151421",
     "exception": false,
     "start_time": "2021-09-03T10:00:10.129167",
     "status": "completed"
    },
    "tags": []
   },
   "outputs": [],
   "source": []
  }
 ],
 "metadata": {
  "kernelspec": {
   "display_name": "Python 3",
   "language": "python",
   "name": "python3"
  },
  "language_info": {
   "codemirror_mode": {
    "name": "ipython",
    "version": 3
   },
   "file_extension": ".py",
   "mimetype": "text/x-python",
   "name": "python",
   "nbconvert_exporter": "python",
   "pygments_lexer": "ipython3",
   "version": "3.9.5"
  },
  "papermill": {
   "default_parameters": {},
   "duration": 6.330475,
   "end_time": "2021-09-03T10:00:10.792382",
   "environment_variables": {},
   "exception": null,
   "input_path": "eBay_Overview.ipynb",
   "output_path": "eBay_Overview.ipynb",
   "parameters": {},
   "start_time": "2021-09-03T10:00:04.461907",
   "version": "2.3.3"
  }
 },
 "nbformat": 4,
 "nbformat_minor": 5
}