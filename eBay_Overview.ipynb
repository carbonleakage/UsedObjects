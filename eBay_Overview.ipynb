{
 "cells": [
  {
   "cell_type": "code",
   "execution_count": 1,
   "id": "reverse-picking",
   "metadata": {
    "execution": {
     "iopub.execute_input": "2021-11-29T10:00:08.068807Z",
     "iopub.status.busy": "2021-11-29T10:00:08.066434Z",
     "iopub.status.idle": "2021-11-29T10:00:09.024913Z",
     "shell.execute_reply": "2021-11-29T10:00:09.026442Z"
    },
    "papermill": {
     "duration": 1.011647,
     "end_time": "2021-11-29T10:00:09.027163",
     "exception": false,
     "start_time": "2021-11-29T10:00:08.015516",
     "status": "completed"
    },
    "tags": []
   },
   "outputs": [],
   "source": [
    "import pandas as pd\n",
    "import sqlite3"
   ]
  },
  {
   "cell_type": "code",
   "execution_count": 2,
   "id": "innovative-syndrome",
   "metadata": {
    "execution": {
     "iopub.execute_input": "2021-11-29T10:00:09.090732Z",
     "iopub.status.busy": "2021-11-29T10:00:09.088218Z",
     "iopub.status.idle": "2021-11-29T10:00:10.036768Z",
     "shell.execute_reply": "2021-11-29T10:00:10.038292Z"
    },
    "papermill": {
     "duration": 0.983938,
     "end_time": "2021-11-29T10:00:10.038790",
     "exception": false,
     "start_time": "2021-11-29T10:00:09.054852",
     "status": "completed"
    },
    "tags": []
   },
   "outputs": [],
   "source": [
    "timestamps = pd.read_sql(\"select distinct record_time from EBAY_TOP_BERLIN order by record_time desc limit 2\", sqlite3.connect(\"UsedObjects.db\"))"
   ]
  },
  {
   "cell_type": "code",
   "execution_count": 3,
   "id": "periodic-identification",
   "metadata": {
    "execution": {
     "iopub.execute_input": "2021-11-29T10:00:10.109756Z",
     "iopub.status.busy": "2021-11-29T10:00:10.104253Z",
     "iopub.status.idle": "2021-11-29T10:00:10.129309Z",
     "shell.execute_reply": "2021-11-29T10:00:10.130642Z"
    },
    "papermill": {
     "duration": 0.071118,
     "end_time": "2021-11-29T10:00:10.131056",
     "exception": false,
     "start_time": "2021-11-29T10:00:10.059938",
     "status": "completed"
    },
    "tags": []
   },
   "outputs": [
    {
     "data": {
      "text/html": [
       "<div>\n",
       "<style scoped>\n",
       "    .dataframe tbody tr th:only-of-type {\n",
       "        vertical-align: middle;\n",
       "    }\n",
       "\n",
       "    .dataframe tbody tr th {\n",
       "        vertical-align: top;\n",
       "    }\n",
       "\n",
       "    .dataframe thead th {\n",
       "        text-align: right;\n",
       "    }\n",
       "</style>\n",
       "<table border=\"1\" class=\"dataframe\">\n",
       "  <thead>\n",
       "    <tr style=\"text-align: right;\">\n",
       "      <th></th>\n",
       "      <th>RECORD_TIME</th>\n",
       "    </tr>\n",
       "  </thead>\n",
       "  <tbody>\n",
       "    <tr>\n",
       "      <th>0</th>\n",
       "      <td>2021-11-29 11:00</td>\n",
       "    </tr>\n",
       "    <tr>\n",
       "      <th>1</th>\n",
       "      <td>2021-11-29 10:30</td>\n",
       "    </tr>\n",
       "  </tbody>\n",
       "</table>\n",
       "</div>"
      ],
      "text/plain": [
       "        RECORD_TIME\n",
       "0  2021-11-29 11:00\n",
       "1  2021-11-29 10:30"
      ]
     },
     "execution_count": 3,
     "metadata": {},
     "output_type": "execute_result"
    }
   ],
   "source": [
    "timestamps"
   ]
  },
  {
   "cell_type": "code",
   "execution_count": 4,
   "id": "alternate-victory",
   "metadata": {
    "execution": {
     "iopub.execute_input": "2021-11-29T10:00:10.182049Z",
     "iopub.status.busy": "2021-11-29T10:00:10.180056Z",
     "iopub.status.idle": "2021-11-29T10:00:11.541622Z",
     "shell.execute_reply": "2021-11-29T10:00:11.543684Z"
    },
    "papermill": {
     "duration": 1.392495,
     "end_time": "2021-11-29T10:00:11.544158",
     "exception": false,
     "start_time": "2021-11-29T10:00:10.151663",
     "status": "completed"
    },
    "tags": []
   },
   "outputs": [],
   "source": [
    "df = pd.read_sql(\"select * from EBAY_TOP_BERLIN where record_time in (select distinct record_time from EBAY_TOP_BERLIN order by record_time desc limit 2)\", sqlite3.connect(\"UsedObjects.db\"))"
   ]
  },
  {
   "cell_type": "code",
   "execution_count": 5,
   "id": "popular-active",
   "metadata": {
    "execution": {
     "iopub.execute_input": "2021-11-29T10:00:11.617321Z",
     "iopub.status.busy": "2021-11-29T10:00:11.604867Z",
     "iopub.status.idle": "2021-11-29T10:00:11.642626Z",
     "shell.execute_reply": "2021-11-29T10:00:11.639306Z"
    },
    "papermill": {
     "duration": 0.078485,
     "end_time": "2021-11-29T10:00:11.643062",
     "exception": false,
     "start_time": "2021-11-29T10:00:11.564577",
     "status": "completed"
    },
    "tags": []
   },
   "outputs": [],
   "source": [
    "df_pivot = df.pivot_table(index=\"PRODUCT\", columns = \"RECORD_TIME\", values = \"LISTING_COUNT\")"
   ]
  },
  {
   "cell_type": "code",
   "execution_count": 6,
   "id": "union-huntington",
   "metadata": {
    "execution": {
     "iopub.execute_input": "2021-11-29T10:00:11.707472Z",
     "iopub.status.busy": "2021-11-29T10:00:11.704871Z",
     "iopub.status.idle": "2021-11-29T10:00:11.713503Z",
     "shell.execute_reply": "2021-11-29T10:00:11.715976Z"
    },
    "papermill": {
     "duration": 0.050427,
     "end_time": "2021-11-29T10:00:11.716619",
     "exception": false,
     "start_time": "2021-11-29T10:00:11.666192",
     "status": "completed"
    },
    "tags": []
   },
   "outputs": [],
   "source": [
    "df_pivot.columns = [\"stamp_1\", \"stamp_2\"]\n",
    "df_pivot_diff = df_pivot.diff(axis=1)"
   ]
  },
  {
   "cell_type": "code",
   "execution_count": 7,
   "id": "fifth-motion",
   "metadata": {
    "execution": {
     "iopub.execute_input": "2021-11-29T10:00:11.784437Z",
     "iopub.status.busy": "2021-11-29T10:00:11.781969Z",
     "iopub.status.idle": "2021-11-29T10:00:13.694488Z",
     "shell.execute_reply": "2021-11-29T10:00:13.697328Z"
    },
    "papermill": {
     "duration": 1.957615,
     "end_time": "2021-11-29T10:00:13.698041",
     "exception": false,
     "start_time": "2021-11-29T10:00:11.740426",
     "status": "completed"
    },
    "tags": []
   },
   "outputs": [
    {
     "data": {
      "text/plain": [
       "<AxesSubplot:ylabel='PRODUCT'>"
      ]
     },
     "execution_count": 7,
     "metadata": {},
     "output_type": "execute_result"
    },
    {
     "data": {
      "image/png": "[encoded data removed]",
      "text/plain": [
       "<Figure size 432x288 with 1 Axes>"
      ]
     },
     "metadata": {
      "needs_background": "light"
     },
     "output_type": "display_data"
    }
   ],
   "source": [
    "df_pivot_diff.sort_values(\"stamp_2\", ascending = False)[\"stamp_2\"].head(10).plot.barh()"
   ]
  },
  {
   "cell_type": "code",
   "execution_count": null,
   "id": "extra-executive",
   "metadata": {
    "papermill": {
     "duration": 0.028385,
     "end_time": "2021-11-29T10:00:13.754702",
     "exception": false,
     "start_time": "2021-11-29T10:00:13.726317",
     "status": "completed"
    },
    "tags": []
   },
   "outputs": [],
   "source": []
  }
 ],
 "metadata": {
  "kernelspec": {
   "display_name": "Python 3",
   "language": "python",
   "name": "python3"
  },
  "language_info": {
   "codemirror_mode": {
    "name": "ipython",
    "version": 3
   },
   "file_extension": ".py",
   "mimetype": "text/x-python",
   "name": "python",
   "nbconvert_exporter": "python",
   "pygments_lexer": "ipython3",
   "version": "3.9.5"
  },
  "papermill": {
   "default_parameters": {},
   "duration": 9.943542,
   "end_time": "2021-11-29T10:00:15.219949",
   "environment_variables": {},
   "exception": null,
   "input_path": "eBay_Overview.ipynb",
   "output_path": "eBay_Overview.ipynb",
   "parameters": {},
   "start_time": "2021-11-29T10:00:05.276407",
   "version": "2.3.3"
  }
 },
 "nbformat": 4,
 "nbformat_minor": 5
}