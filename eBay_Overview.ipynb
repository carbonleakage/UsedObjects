{
 "cells": [
  {
   "cell_type": "code",
   "execution_count": 1,
   "id": "reverse-picking",
   "metadata": {
    "execution": {
     "iopub.execute_input": "2021-09-22T17:00:07.515696Z",
     "iopub.status.busy": "2021-09-22T17:00:07.513587Z",
     "iopub.status.idle": "2021-09-22T17:00:08.319707Z",
     "shell.execute_reply": "2021-09-22T17:00:08.321128Z"
    },
    "papermill": {
     "duration": 0.857159,
     "end_time": "2021-09-22T17:00:08.321802",
     "exception": false,
     "start_time": "2021-09-22T17:00:07.464643",
     "status": "completed"
    },
    "tags": []
   },
   "outputs": [],
   "source": [
    "import pandas as pd\n",
    "import sqlite3"
   ]
  },
  {
   "cell_type": "code",
   "execution_count": 2,
   "id": "innovative-syndrome",
   "metadata": {
    "execution": {
     "iopub.execute_input": "2021-09-22T17:00:08.372606Z",
     "iopub.status.busy": "2021-09-22T17:00:08.370182Z",
     "iopub.status.idle": "2021-09-22T17:00:08.718403Z",
     "shell.execute_reply": "2021-09-22T17:00:08.719677Z"
    },
    "papermill": {
     "duration": 0.377982,
     "end_time": "2021-09-22T17:00:08.720114",
     "exception": false,
     "start_time": "2021-09-22T17:00:08.342132",
     "status": "completed"
    },
    "tags": []
   },
   "outputs": [],
   "source": [
    "timestamps = pd.read_sql(\"select distinct record_time from EBAY_TOP_BERLIN order by record_time desc limit 2\", sqlite3.connect(\"UsedObjects.db\"))"
   ]
  },
  {
   "cell_type": "code",
   "execution_count": 3,
   "id": "periodic-identification",
   "metadata": {
    "execution": {
     "iopub.execute_input": "2021-09-22T17:00:08.785736Z",
     "iopub.status.busy": "2021-09-22T17:00:08.783718Z",
     "iopub.status.idle": "2021-09-22T17:00:08.806369Z",
     "shell.execute_reply": "2021-09-22T17:00:08.805045Z"
    },
    "papermill": {
     "duration": 0.066497,
     "end_time": "2021-09-22T17:00:08.806702",
     "exception": false,
     "start_time": "2021-09-22T17:00:08.740205",
     "status": "completed"
    },
    "tags": []
   },
   "outputs": [
    {
     "data": {
      "text/html": [
       "<div>\n",
       "<style scoped>\n",
       "    .dataframe tbody tr th:only-of-type {\n",
       "        vertical-align: middle;\n",
       "    }\n",
       "\n",
       "    .dataframe tbody tr th {\n",
       "        vertical-align: top;\n",
       "    }\n",
       "\n",
       "    .dataframe thead th {\n",
       "        text-align: right;\n",
       "    }\n",
       "</style>\n",
       "<table border=\"1\" class=\"dataframe\">\n",
       "  <thead>\n",
       "    <tr style=\"text-align: right;\">\n",
       "      <th></th>\n",
       "      <th>RECORD_TIME</th>\n",
       "    </tr>\n",
       "  </thead>\n",
       "  <tbody>\n",
       "    <tr>\n",
       "      <th>0</th>\n",
       "      <td>2021-09-22 19:00</td>\n",
       "    </tr>\n",
       "    <tr>\n",
       "      <th>1</th>\n",
       "      <td>2021-09-22 18:30</td>\n",
       "    </tr>\n",
       "  </tbody>\n",
       "</table>\n",
       "</div>"
      ],
      "text/plain": [
       "        RECORD_TIME\n",
       "0  2021-09-22 19:00\n",
       "1  2021-09-22 18:30"
      ]
     },
     "execution_count": 3,
     "metadata": {},
     "output_type": "execute_result"
    }
   ],
   "source": [
    "timestamps"
   ]
  },
  {
   "cell_type": "code",
   "execution_count": 4,
   "id": "alternate-victory",
   "metadata": {
    "execution": {
     "iopub.execute_input": "2021-09-22T17:00:08.860852Z",
     "iopub.status.busy": "2021-09-22T17:00:08.858630Z",
     "iopub.status.idle": "2021-09-22T17:00:09.376412Z",
     "shell.execute_reply": "2021-09-22T17:00:09.377622Z"
    },
    "papermill": {
     "duration": 0.547978,
     "end_time": "2021-09-22T17:00:09.378019",
     "exception": false,
     "start_time": "2021-09-22T17:00:08.830041",
     "status": "completed"
    },
    "tags": []
   },
   "outputs": [],
   "source": [
    "df = pd.read_sql(\"select * from EBAY_TOP_BERLIN where record_time in (select distinct record_time from EBAY_TOP_BERLIN order by record_time desc limit 2)\", sqlite3.connect(\"UsedObjects.db\"))"
   ]
  },
  {
   "cell_type": "code",
   "execution_count": 5,
   "id": "popular-active",
   "metadata": {
    "execution": {
     "iopub.execute_input": "2021-09-22T17:00:09.453585Z",
     "iopub.status.busy": "2021-09-22T17:00:09.446357Z",
     "iopub.status.idle": "2021-09-22T17:00:09.474438Z",
     "shell.execute_reply": "2021-09-22T17:00:09.475889Z"
    },
    "papermill": {
     "duration": 0.072465,
     "end_time": "2021-09-22T17:00:09.476303",
     "exception": false,
     "start_time": "2021-09-22T17:00:09.403838",
     "status": "completed"
    },
    "tags": []
   },
   "outputs": [],
   "source": [
    "df_pivot = df.pivot_table(index=\"PRODUCT\", columns = \"RECORD_TIME\", values = \"LISTING_COUNT\")"
   ]
  },
  {
   "cell_type": "code",
   "execution_count": 6,
   "id": "union-huntington",
   "metadata": {
    "execution": {
     "iopub.execute_input": "2021-09-22T17:00:09.534310Z",
     "iopub.status.busy": "2021-09-22T17:00:09.531869Z",
     "iopub.status.idle": "2021-09-22T17:00:09.537552Z",
     "shell.execute_reply": "2021-09-22T17:00:09.538884Z"
    },
    "papermill": {
     "duration": 0.041826,
     "end_time": "2021-09-22T17:00:09.539303",
     "exception": false,
     "start_time": "2021-09-22T17:00:09.497477",
     "status": "completed"
    },
    "tags": []
   },
   "outputs": [],
   "source": [
    "df_pivot.columns = [\"stamp_1\", \"stamp_2\"]\n",
    "df_pivot_diff = df_pivot.diff(axis=1)"
   ]
  },
  {
   "cell_type": "code",
   "execution_count": 7,
   "id": "fifth-motion",
   "metadata": {
    "execution": {
     "iopub.execute_input": "2021-09-22T17:00:09.593518Z",
     "iopub.status.busy": "2021-09-22T17:00:09.591244Z",
     "iopub.status.idle": "2021-09-22T17:00:11.082032Z",
     "shell.execute_reply": "2021-09-22T17:00:11.083452Z"
    },
    "papermill": {
     "duration": 1.524108,
     "end_time": "2021-09-22T17:00:11.083902",
     "exception": false,
     "start_time": "2021-09-22T17:00:09.559794",
     "status": "completed"
    },
    "tags": []
   },
   "outputs": [
    {
     "data": {
      "text/plain": [
       "<AxesSubplot:ylabel='PRODUCT'>"
      ]
     },
     "execution_count": 7,
     "metadata": {},
     "output_type": "execute_result"
    },
    {
     "data": {
      "image/png": "[encoded data removed]",
      "text/plain": [
       "<Figure size 432x288 with 1 Axes>"
      ]
     },
     "metadata": {
      "needs_background": "light"
     },
     "output_type": "display_data"
    }
   ],
   "source": [
    "df_pivot_diff.sort_values(\"stamp_2\", ascending = False)[\"stamp_2\"].head(10).plot.barh()"
   ]
  },
  {
   "cell_type": "code",
   "execution_count": null,
   "id": "extra-executive",
   "metadata": {
    "papermill": {
     "duration": 0.02186,
     "end_time": "2021-09-22T17:00:11.129487",
     "exception": false,
     "start_time": "2021-09-22T17:00:11.107627",
     "status": "completed"
    },
    "tags": []
   },
   "outputs": [],
   "source": []
  }
 ],
 "metadata": {
  "kernelspec": {
   "display_name": "Python 3",
   "language": "python",
   "name": "python3"
  },
  "language_info": {
   "codemirror_mode": {
    "name": "ipython",
    "version": 3
   },
   "file_extension": ".py",
   "mimetype": "text/x-python",
   "name": "python",
   "nbconvert_exporter": "python",
   "pygments_lexer": "ipython3",
   "version": "3.9.5"
  },
  "papermill": {
   "default_parameters": {},
   "duration": 6.710606,
   "end_time": "2021-09-22T17:00:11.771109",
   "environment_variables": {},
   "exception": null,
   "input_path": "eBay_Overview.ipynb",
   "output_path": "eBay_Overview.ipynb",
   "parameters": {},
   "start_time": "2021-09-22T17:00:05.060503",
   "version": "2.3.3"
  }
 },
 "nbformat": 4,
 "nbformat_minor": 5
}