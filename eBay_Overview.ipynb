{
 "cells": [
  {
   "cell_type": "code",
   "execution_count": 1,
   "id": "reverse-picking",
   "metadata": {
    "execution": {
     "iopub.execute_input": "2021-09-12T22:00:07.967467Z",
     "iopub.status.busy": "2021-09-12T22:00:07.965349Z",
     "iopub.status.idle": "2021-09-12T22:00:08.771279Z",
     "shell.execute_reply": "2021-09-12T22:00:08.772628Z"
    },
    "papermill": {
     "duration": 0.857154,
     "end_time": "2021-09-12T22:00:08.773272",
     "exception": false,
     "start_time": "2021-09-12T22:00:07.916118",
     "status": "completed"
    },
    "tags": []
   },
   "outputs": [],
   "source": [
    "import pandas as pd\n",
    "import sqlite3"
   ]
  },
  {
   "cell_type": "code",
   "execution_count": 2,
   "id": "innovative-syndrome",
   "metadata": {
    "execution": {
     "iopub.execute_input": "2021-09-12T22:00:08.823644Z",
     "iopub.status.busy": "2021-09-12T22:00:08.821586Z",
     "iopub.status.idle": "2021-09-12T22:00:09.101634Z",
     "shell.execute_reply": "2021-09-12T22:00:09.102992Z"
    },
    "papermill": {
     "duration": 0.310052,
     "end_time": "2021-09-12T22:00:09.103427",
     "exception": false,
     "start_time": "2021-09-12T22:00:08.793375",
     "status": "completed"
    },
    "tags": []
   },
   "outputs": [],
   "source": [
    "timestamps = pd.read_sql(\"select distinct record_time from EBAY_TOP_BERLIN order by record_time desc limit 2\", sqlite3.connect(\"UsedObjects.db\"))"
   ]
  },
  {
   "cell_type": "code",
   "execution_count": 3,
   "id": "periodic-identification",
   "metadata": {
    "execution": {
     "iopub.execute_input": "2021-09-12T22:00:09.169541Z",
     "iopub.status.busy": "2021-09-12T22:00:09.167509Z",
     "iopub.status.idle": "2021-09-12T22:00:09.187386Z",
     "shell.execute_reply": "2021-09-12T22:00:09.188599Z"
    },
    "papermill": {
     "duration": 0.06631,
     "end_time": "2021-09-12T22:00:09.189030",
     "exception": false,
     "start_time": "2021-09-12T22:00:09.122720",
     "status": "completed"
    },
    "tags": []
   },
   "outputs": [
    {
     "data": {
      "text/html": [
       "<div>\n",
       "<style scoped>\n",
       "    .dataframe tbody tr th:only-of-type {\n",
       "        vertical-align: middle;\n",
       "    }\n",
       "\n",
       "    .dataframe tbody tr th {\n",
       "        vertical-align: top;\n",
       "    }\n",
       "\n",
       "    .dataframe thead th {\n",
       "        text-align: right;\n",
       "    }\n",
       "</style>\n",
       "<table border=\"1\" class=\"dataframe\">\n",
       "  <thead>\n",
       "    <tr style=\"text-align: right;\">\n",
       "      <th></th>\n",
       "      <th>RECORD_TIME</th>\n",
       "    </tr>\n",
       "  </thead>\n",
       "  <tbody>\n",
       "    <tr>\n",
       "      <th>0</th>\n",
       "      <td>2021-09-13 00:00</td>\n",
       "    </tr>\n",
       "    <tr>\n",
       "      <th>1</th>\n",
       "      <td>2021-09-12 23:30</td>\n",
       "    </tr>\n",
       "  </tbody>\n",
       "</table>\n",
       "</div>"
      ],
      "text/plain": [
       "        RECORD_TIME\n",
       "0  2021-09-13 00:00\n",
       "1  2021-09-12 23:30"
      ]
     },
     "execution_count": 3,
     "metadata": {},
     "output_type": "execute_result"
    }
   ],
   "source": [
    "timestamps"
   ]
  },
  {
   "cell_type": "code",
   "execution_count": 4,
   "id": "alternate-victory",
   "metadata": {
    "execution": {
     "iopub.execute_input": "2021-09-12T22:00:09.242287Z",
     "iopub.status.busy": "2021-09-12T22:00:09.239986Z",
     "iopub.status.idle": "2021-09-12T22:00:09.645213Z",
     "shell.execute_reply": "2021-09-12T22:00:09.646413Z"
    },
    "papermill": {
     "duration": 0.435316,
     "end_time": "2021-09-12T22:00:09.646815",
     "exception": false,
     "start_time": "2021-09-12T22:00:09.211499",
     "status": "completed"
    },
    "tags": []
   },
   "outputs": [],
   "source": [
    "df = pd.read_sql(\"select * from EBAY_TOP_BERLIN where record_time in (select distinct record_time from EBAY_TOP_BERLIN order by record_time desc limit 2)\", sqlite3.connect(\"UsedObjects.db\"))"
   ]
  },
  {
   "cell_type": "code",
   "execution_count": 5,
   "id": "popular-active",
   "metadata": {
    "execution": {
     "iopub.execute_input": "2021-09-12T22:00:09.744255Z",
     "iopub.status.busy": "2021-09-12T22:00:09.734310Z",
     "iopub.status.idle": "2021-09-12T22:00:09.761195Z",
     "shell.execute_reply": "2021-09-12T22:00:09.762510Z"
    },
    "papermill": {
     "duration": 0.076269,
     "end_time": "2021-09-12T22:00:09.762981",
     "exception": false,
     "start_time": "2021-09-12T22:00:09.686712",
     "status": "completed"
    },
    "tags": []
   },
   "outputs": [],
   "source": [
    "df_pivot = df.pivot_table(index=\"PRODUCT\", columns = \"RECORD_TIME\", values = \"LISTING_COUNT\")"
   ]
  },
  {
   "cell_type": "code",
   "execution_count": 6,
   "id": "union-huntington",
   "metadata": {
    "execution": {
     "iopub.execute_input": "2021-09-12T22:00:09.817995Z",
     "iopub.status.busy": "2021-09-12T22:00:09.815937Z",
     "iopub.status.idle": "2021-09-12T22:00:09.821076Z",
     "shell.execute_reply": "2021-09-12T22:00:09.822364Z"
    },
    "papermill": {
     "duration": 0.0398,
     "end_time": "2021-09-12T22:00:09.822781",
     "exception": false,
     "start_time": "2021-09-12T22:00:09.782981",
     "status": "completed"
    },
    "tags": []
   },
   "outputs": [],
   "source": [
    "df_pivot.columns = [\"stamp_1\", \"stamp_2\"]\n",
    "df_pivot_diff = df_pivot.diff(axis=1)"
   ]
  },
  {
   "cell_type": "code",
   "execution_count": 7,
   "id": "fifth-motion",
   "metadata": {
    "execution": {
     "iopub.execute_input": "2021-09-12T22:00:09.877599Z",
     "iopub.status.busy": "2021-09-12T22:00:09.875206Z",
     "iopub.status.idle": "2021-09-12T22:00:11.346278Z",
     "shell.execute_reply": "2021-09-12T22:00:11.347847Z"
    },
    "papermill": {
     "duration": 1.504097,
     "end_time": "2021-09-12T22:00:11.348326",
     "exception": false,
     "start_time": "2021-09-12T22:00:09.844229",
     "status": "completed"
    },
    "tags": []
   },
   "outputs": [
    {
     "data": {
      "text/plain": [
       "<AxesSubplot:ylabel='PRODUCT'>"
      ]
     },
     "execution_count": 7,
     "metadata": {},
     "output_type": "execute_result"
    },
    {
     "data": {
      "image/png": "[encoded data removed]",
      "text/plain": [
       "<Figure size 432x288 with 1 Axes>"
      ]
     },
     "metadata": {
      "needs_background": "light"
     },
     "output_type": "display_data"
    }
   ],
   "source": [
    "df_pivot_diff.sort_values(\"stamp_2\", ascending = False)[\"stamp_2\"].head(10).plot.barh()"
   ]
  },
  {
   "cell_type": "code",
   "execution_count": null,
   "id": "extra-executive",
   "metadata": {
    "papermill": {
     "duration": 0.021783,
     "end_time": "2021-09-12T22:00:11.394431",
     "exception": false,
     "start_time": "2021-09-12T22:00:11.372648",
     "status": "completed"
    },
    "tags": []
   },
   "outputs": [],
   "source": []
  }
 ],
 "metadata": {
  "kernelspec": {
   "display_name": "Python 3",
   "language": "python",
   "name": "python3"
  },
  "language_info": {
   "codemirror_mode": {
    "name": "ipython",
    "version": 3
   },
   "file_extension": ".py",
   "mimetype": "text/x-python",
   "name": "python",
   "nbconvert_exporter": "python",
   "pygments_lexer": "ipython3",
   "version": "3.9.5"
  },
  "papermill": {
   "default_parameters": {},
   "duration": 6.544918,
   "end_time": "2021-09-12T22:00:12.036617",
   "environment_variables": {},
   "exception": null,
   "input_path": "eBay_Overview.ipynb",
   "output_path": "eBay_Overview.ipynb",
   "parameters": {},
   "start_time": "2021-09-12T22:00:05.491699",
   "version": "2.3.3"
  }
 },
 "nbformat": 4,
 "nbformat_minor": 5
}