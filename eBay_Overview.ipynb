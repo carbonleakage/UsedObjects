{
 "cells": [
  {
   "cell_type": "code",
   "execution_count": 1,
   "id": "reverse-picking",
   "metadata": {
    "execution": {
     "iopub.execute_input": "2021-12-11T19:30:07.315801Z",
     "iopub.status.busy": "2021-12-11T19:30:07.313432Z",
     "iopub.status.idle": "2021-12-11T19:30:08.262742Z",
     "shell.execute_reply": "2021-12-11T19:30:08.264971Z"
    },
    "papermill": {
     "duration": 0.998992,
     "end_time": "2021-12-11T19:30:08.265744",
     "exception": false,
     "start_time": "2021-12-11T19:30:07.266752",
     "status": "completed"
    },
    "tags": []
   },
   "outputs": [],
   "source": [
    "import pandas as pd\n",
    "import sqlite3"
   ]
  },
  {
   "cell_type": "code",
   "execution_count": 2,
   "id": "innovative-syndrome",
   "metadata": {
    "execution": {
     "iopub.execute_input": "2021-12-11T19:30:08.384997Z",
     "iopub.status.busy": "2021-12-11T19:30:08.382488Z",
     "iopub.status.idle": "2021-12-11T19:30:09.452120Z",
     "shell.execute_reply": "2021-12-11T19:30:09.453759Z"
    },
    "papermill": {
     "duration": 1.167319,
     "end_time": "2021-12-11T19:30:09.454236",
     "exception": false,
     "start_time": "2021-12-11T19:30:08.286917",
     "status": "completed"
    },
    "tags": []
   },
   "outputs": [],
   "source": [
    "timestamps = pd.read_sql(\"select distinct record_time from EBAY_TOP_BERLIN order by record_time desc limit 2\", sqlite3.connect(\"UsedObjects.db\"))"
   ]
  },
  {
   "cell_type": "code",
   "execution_count": 3,
   "id": "periodic-identification",
   "metadata": {
    "execution": {
     "iopub.execute_input": "2021-12-11T19:30:09.527001Z",
     "iopub.status.busy": "2021-12-11T19:30:09.521237Z",
     "iopub.status.idle": "2021-12-11T19:30:09.544742Z",
     "shell.execute_reply": "2021-12-11T19:30:09.546098Z"
    },
    "papermill": {
     "duration": 0.07222,
     "end_time": "2021-12-11T19:30:09.546555",
     "exception": false,
     "start_time": "2021-12-11T19:30:09.474335",
     "status": "completed"
    },
    "tags": []
   },
   "outputs": [
    {
     "data": {
      "text/html": [
       "<div>\n",
       "<style scoped>\n",
       "    .dataframe tbody tr th:only-of-type {\n",
       "        vertical-align: middle;\n",
       "    }\n",
       "\n",
       "    .dataframe tbody tr th {\n",
       "        vertical-align: top;\n",
       "    }\n",
       "\n",
       "    .dataframe thead th {\n",
       "        text-align: right;\n",
       "    }\n",
       "</style>\n",
       "<table border=\"1\" class=\"dataframe\">\n",
       "  <thead>\n",
       "    <tr style=\"text-align: right;\">\n",
       "      <th></th>\n",
       "      <th>RECORD_TIME</th>\n",
       "    </tr>\n",
       "  </thead>\n",
       "  <tbody>\n",
       "    <tr>\n",
       "      <th>0</th>\n",
       "      <td>2021-12-11 20:30</td>\n",
       "    </tr>\n",
       "    <tr>\n",
       "      <th>1</th>\n",
       "      <td>2021-12-11 20:00</td>\n",
       "    </tr>\n",
       "  </tbody>\n",
       "</table>\n",
       "</div>"
      ],
      "text/plain": [
       "        RECORD_TIME\n",
       "0  2021-12-11 20:30\n",
       "1  2021-12-11 20:00"
      ]
     },
     "execution_count": 3,
     "metadata": {},
     "output_type": "execute_result"
    }
   ],
   "source": [
    "timestamps"
   ]
  },
  {
   "cell_type": "code",
   "execution_count": 4,
   "id": "alternate-victory",
   "metadata": {
    "execution": {
     "iopub.execute_input": "2021-12-11T19:30:09.600357Z",
     "iopub.status.busy": "2021-12-11T19:30:09.598127Z",
     "iopub.status.idle": "2021-12-11T19:30:11.125717Z",
     "shell.execute_reply": "2021-12-11T19:30:11.127873Z"
    },
    "papermill": {
     "duration": 1.561274,
     "end_time": "2021-12-11T19:30:11.128355",
     "exception": false,
     "start_time": "2021-12-11T19:30:09.567081",
     "status": "completed"
    },
    "tags": []
   },
   "outputs": [],
   "source": [
    "df = pd.read_sql(\"select * from EBAY_TOP_BERLIN where record_time in (select distinct record_time from EBAY_TOP_BERLIN order by record_time desc limit 2)\", sqlite3.connect(\"UsedObjects.db\"))"
   ]
  },
  {
   "cell_type": "code",
   "execution_count": 5,
   "id": "popular-active",
   "metadata": {
    "execution": {
     "iopub.execute_input": "2021-12-11T19:30:11.205892Z",
     "iopub.status.busy": "2021-12-11T19:30:11.193792Z",
     "iopub.status.idle": "2021-12-11T19:30:11.226309Z",
     "shell.execute_reply": "2021-12-11T19:30:11.227750Z"
    },
    "papermill": {
     "duration": 0.077607,
     "end_time": "2021-12-11T19:30:11.228237",
     "exception": false,
     "start_time": "2021-12-11T19:30:11.150630",
     "status": "completed"
    },
    "tags": []
   },
   "outputs": [],
   "source": [
    "df_pivot = df.pivot_table(index=\"PRODUCT\", columns = \"RECORD_TIME\", values = \"LISTING_COUNT\")"
   ]
  },
  {
   "cell_type": "code",
   "execution_count": 6,
   "id": "union-huntington",
   "metadata": {
    "execution": {
     "iopub.execute_input": "2021-12-11T19:30:11.287319Z",
     "iopub.status.busy": "2021-12-11T19:30:11.285029Z",
     "iopub.status.idle": "2021-12-11T19:30:11.290836Z",
     "shell.execute_reply": "2021-12-11T19:30:11.292405Z"
    },
    "papermill": {
     "duration": 0.044257,
     "end_time": "2021-12-11T19:30:11.292968",
     "exception": false,
     "start_time": "2021-12-11T19:30:11.248711",
     "status": "completed"
    },
    "tags": []
   },
   "outputs": [],
   "source": [
    "df_pivot.columns = [\"stamp_1\", \"stamp_2\"]\n",
    "df_pivot_diff = df_pivot.diff(axis=1)"
   ]
  },
  {
   "cell_type": "code",
   "execution_count": 7,
   "id": "fifth-motion",
   "metadata": {
    "execution": {
     "iopub.execute_input": "2021-12-11T19:30:11.354153Z",
     "iopub.status.busy": "2021-12-11T19:30:11.351355Z",
     "iopub.status.idle": "2021-12-11T19:30:13.296003Z",
     "shell.execute_reply": "2021-12-11T19:30:13.297459Z"
    },
    "papermill": {
     "duration": 1.983283,
     "end_time": "2021-12-11T19:30:13.297940",
     "exception": false,
     "start_time": "2021-12-11T19:30:11.314657",
     "status": "completed"
    },
    "tags": []
   },
   "outputs": [
    {
     "data": {
      "text/plain": [
       "<AxesSubplot:ylabel='PRODUCT'>"
      ]
     },
     "execution_count": 7,
     "metadata": {},
     "output_type": "execute_result"
    },
    {
     "data": {
      "image/png": "[encoded data removed]",
      "text/plain": [
       "<Figure size 432x288 with 1 Axes>"
      ]
     },
     "metadata": {
      "needs_background": "light"
     },
     "output_type": "display_data"
    }
   ],
   "source": [
    "df_pivot_diff.sort_values(\"stamp_2\", ascending = False)[\"stamp_2\"].head(10).plot.barh()"
   ]
  },
  {
   "cell_type": "code",
   "execution_count": null,
   "id": "extra-executive",
   "metadata": {
    "papermill": {
     "duration": 0.023777,
     "end_time": "2021-12-11T19:30:13.351594",
     "exception": false,
     "start_time": "2021-12-11T19:30:13.327817",
     "status": "completed"
    },
    "tags": []
   },
   "outputs": [],
   "source": []
  }
 ],
 "metadata": {
  "kernelspec": {
   "display_name": "Python 3",
   "language": "python",
   "name": "python3"
  },
  "language_info": {
   "codemirror_mode": {
    "name": "ipython",
    "version": 3
   },
   "file_extension": ".py",
   "mimetype": "text/x-python",
   "name": "python",
   "nbconvert_exporter": "python",
   "pygments_lexer": "ipython3",
   "version": "3.9.5"
  },
  "papermill": {
   "default_parameters": {},
   "duration": 9.736604,
   "end_time": "2021-12-11T19:30:14.199700",
   "environment_variables": {},
   "exception": null,
   "input_path": "eBay_Overview.ipynb",
   "output_path": "eBay_Overview.ipynb",
   "parameters": {},
   "start_time": "2021-12-11T19:30:04.463096",
   "version": "2.3.3"
  }
 },
 "nbformat": 4,
 "nbformat_minor": 5
}