{
 "cells": [
  {
   "cell_type": "code",
   "execution_count": 1,
   "id": "reverse-picking",
   "metadata": {
    "execution": {
     "iopub.execute_input": "2021-08-11T11:00:04.606244Z",
     "iopub.status.busy": "2021-08-11T11:00:04.605492Z",
     "iopub.status.idle": "2021-08-11T11:00:05.208764Z",
     "shell.execute_reply": "2021-08-11T11:00:05.209331Z"
    },
    "papermill": {
     "duration": 0.622374,
     "end_time": "2021-08-11T11:00:05.209632",
     "exception": false,
     "start_time": "2021-08-11T11:00:04.587258",
     "status": "completed"
    },
    "tags": []
   },
   "outputs": [],
   "source": [
    "import pandas as pd\n",
    "import sqlite3"
   ]
  },
  {
   "cell_type": "code",
   "execution_count": 2,
   "id": "innovative-syndrome",
   "metadata": {
    "execution": {
     "iopub.execute_input": "2021-08-11T11:00:05.232626Z",
     "iopub.status.busy": "2021-08-11T11:00:05.231866Z",
     "iopub.status.idle": "2021-08-11T11:00:05.435094Z",
     "shell.execute_reply": "2021-08-11T11:00:05.434030Z"
    },
    "papermill": {
     "duration": 0.217199,
     "end_time": "2021-08-11T11:00:05.435371",
     "exception": false,
     "start_time": "2021-08-11T11:00:05.218172",
     "status": "completed"
    },
    "tags": []
   },
   "outputs": [],
   "source": [
    "timestamps = pd.read_sql(\"select distinct record_time from EBAY_TOP_BERLIN order by record_time desc limit 2\", sqlite3.connect(\"UsedObjects.db\"))"
   ]
  },
  {
   "cell_type": "code",
   "execution_count": 3,
   "id": "periodic-identification",
   "metadata": {
    "execution": {
     "iopub.execute_input": "2021-08-11T11:00:05.466766Z",
     "iopub.status.busy": "2021-08-11T11:00:05.466006Z",
     "iopub.status.idle": "2021-08-11T11:00:05.480116Z",
     "shell.execute_reply": "2021-08-11T11:00:05.479274Z"
    },
    "papermill": {
     "duration": 0.034891,
     "end_time": "2021-08-11T11:00:05.480287",
     "exception": false,
     "start_time": "2021-08-11T11:00:05.445396",
     "status": "completed"
    },
    "tags": []
   },
   "outputs": [
    {
     "data": {
      "text/html": [
       "<div>\n",
       "<style scoped>\n",
       "    .dataframe tbody tr th:only-of-type {\n",
       "        vertical-align: middle;\n",
       "    }\n",
       "\n",
       "    .dataframe tbody tr th {\n",
       "        vertical-align: top;\n",
       "    }\n",
       "\n",
       "    .dataframe thead th {\n",
       "        text-align: right;\n",
       "    }\n",
       "</style>\n",
       "<table border=\"1\" class=\"dataframe\">\n",
       "  <thead>\n",
       "    <tr style=\"text-align: right;\">\n",
       "      <th></th>\n",
       "      <th>RECORD_TIME</th>\n",
       "    </tr>\n",
       "  </thead>\n",
       "  <tbody>\n",
       "    <tr>\n",
       "      <th>0</th>\n",
       "      <td>2021-08-11 13:00</td>\n",
       "    </tr>\n",
       "    <tr>\n",
       "      <th>1</th>\n",
       "      <td>2021-08-11 12:30</td>\n",
       "    </tr>\n",
       "  </tbody>\n",
       "</table>\n",
       "</div>"
      ],
      "text/plain": [
       "        RECORD_TIME\n",
       "0  2021-08-11 13:00\n",
       "1  2021-08-11 12:30"
      ]
     },
     "execution_count": 3,
     "metadata": {},
     "output_type": "execute_result"
    }
   ],
   "source": [
    "timestamps"
   ]
  },
  {
   "cell_type": "code",
   "execution_count": 4,
   "id": "alternate-victory",
   "metadata": {
    "execution": {
     "iopub.execute_input": "2021-08-11T11:00:05.502976Z",
     "iopub.status.busy": "2021-08-11T11:00:05.502121Z",
     "iopub.status.idle": "2021-08-11T11:00:05.521397Z",
     "shell.execute_reply": "2021-08-11T11:00:05.522373Z"
    },
    "papermill": {
     "duration": 0.03399,
     "end_time": "2021-08-11T11:00:05.522699",
     "exception": false,
     "start_time": "2021-08-11T11:00:05.488709",
     "status": "completed"
    },
    "tags": []
   },
   "outputs": [],
   "source": [
    "df = pd.read_sql(\"select * from EBAY_TOP_BERLIN where record_time in (select distinct record_time from EBAY_TOP_BERLIN order by record_time desc limit 2)\", sqlite3.connect(\"UsedObjects.db\"))"
   ]
  },
  {
   "cell_type": "code",
   "execution_count": 5,
   "id": "popular-active",
   "metadata": {
    "execution": {
     "iopub.execute_input": "2021-08-11T11:00:05.554370Z",
     "iopub.status.busy": "2021-08-11T11:00:05.552800Z",
     "iopub.status.idle": "2021-08-11T11:00:05.571700Z",
     "shell.execute_reply": "2021-08-11T11:00:05.571093Z"
    },
    "papermill": {
     "duration": 0.036359,
     "end_time": "2021-08-11T11:00:05.571865",
     "exception": false,
     "start_time": "2021-08-11T11:00:05.535506",
     "status": "completed"
    },
    "tags": []
   },
   "outputs": [],
   "source": [
    "df_pivot = df.pivot_table(index=\"PRODUCT\", columns = \"RECORD_TIME\", values = \"LISTING_COUNT\")"
   ]
  },
  {
   "cell_type": "code",
   "execution_count": 6,
   "id": "union-huntington",
   "metadata": {
    "execution": {
     "iopub.execute_input": "2021-08-11T11:00:05.601748Z",
     "iopub.status.busy": "2021-08-11T11:00:05.601023Z",
     "iopub.status.idle": "2021-08-11T11:00:05.604300Z",
     "shell.execute_reply": "2021-08-11T11:00:05.603742Z"
    },
    "papermill": {
     "duration": 0.020766,
     "end_time": "2021-08-11T11:00:05.604451",
     "exception": false,
     "start_time": "2021-08-11T11:00:05.583685",
     "status": "completed"
    },
    "tags": []
   },
   "outputs": [],
   "source": [
    "df_pivot.columns = [\"stamp_1\", \"stamp_2\"]\n",
    "df_pivot_diff = df_pivot.diff(axis=1)"
   ]
  },
  {
   "cell_type": "code",
   "execution_count": 7,
   "id": "fifth-motion",
   "metadata": {
    "execution": {
     "iopub.execute_input": "2021-08-11T11:00:05.633827Z",
     "iopub.status.busy": "2021-08-11T11:00:05.630379Z",
     "iopub.status.idle": "2021-08-11T11:00:06.382635Z",
     "shell.execute_reply": "2021-08-11T11:00:06.382035Z"
    },
    "papermill": {
     "duration": 0.770099,
     "end_time": "2021-08-11T11:00:06.382796",
     "exception": false,
     "start_time": "2021-08-11T11:00:05.612697",
     "status": "completed"
    },
    "tags": []
   },
   "outputs": [
    {
     "data": {
      "text/plain": [
       "<AxesSubplot:ylabel='PRODUCT'>"
      ]
     },
     "execution_count": 7,
     "metadata": {},
     "output_type": "execute_result"
    },
    {
     "data": {
      "image/png": "[encoded data removed]",
      "text/plain": [
       "<Figure size 432x288 with 1 Axes>"
      ]
     },
     "metadata": {
      "needs_background": "light"
     },
     "output_type": "display_data"
    }
   ],
   "source": [
    "df_pivot_diff.sort_values(\"stamp_2\", ascending = False)[\"stamp_2\"].head(10).plot.barh()"
   ]
  },
  {
   "cell_type": "code",
   "execution_count": null,
   "id": "extra-executive",
   "metadata": {
    "papermill": {
     "duration": 0.012838,
     "end_time": "2021-08-11T11:00:06.407744",
     "exception": false,
     "start_time": "2021-08-11T11:00:06.394906",
     "status": "completed"
    },
    "tags": []
   },
   "outputs": [],
   "source": []
  }
 ],
 "metadata": {
  "kernelspec": {
   "display_name": "Python 3",
   "language": "python",
   "name": "python3"
  },
  "language_info": {
   "codemirror_mode": {
    "name": "ipython",
    "version": 3
   },
   "file_extension": ".py",
   "mimetype": "text/x-python",
   "name": "python",
   "nbconvert_exporter": "python",
   "pygments_lexer": "ipython3",
   "version": "3.8.8"
  },
  "papermill": {
   "default_parameters": {},
   "duration": 4.237066,
   "end_time": "2021-08-11T11:00:07.144859",
   "environment_variables": {},
   "exception": null,
   "input_path": "/Users/saravananshanmugam/Carbonleakage_Git/UsedObjects/eBay_Overview.ipynb",
   "output_path": "/Users/saravananshanmugam/Carbonleakage_Git/UsedObjects/eBay_Overview.ipynb",
   "parameters": {},
   "start_time": "2021-08-11T11:00:02.907793",
   "version": "2.3.3"
  }
 },
 "nbformat": 4,
 "nbformat_minor": 5
}