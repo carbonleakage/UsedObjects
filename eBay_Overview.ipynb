{
 "cells": [
  {
   "cell_type": "code",
   "execution_count": 1,
   "id": "reverse-picking",
   "metadata": {
    "execution": {
     "iopub.execute_input": "2021-11-17T13:00:07.881772Z",
     "iopub.status.busy": "2021-11-17T13:00:07.879458Z",
     "iopub.status.idle": "2021-11-17T13:00:08.818251Z",
     "shell.execute_reply": "2021-11-17T13:00:08.819911Z"
    },
    "papermill": {
     "duration": 0.985479,
     "end_time": "2021-11-17T13:00:08.820643",
     "exception": false,
     "start_time": "2021-11-17T13:00:07.835164",
     "status": "completed"
    },
    "tags": []
   },
   "outputs": [],
   "source": [
    "import pandas as pd\n",
    "import sqlite3"
   ]
  },
  {
   "cell_type": "code",
   "execution_count": 2,
   "id": "innovative-syndrome",
   "metadata": {
    "execution": {
     "iopub.execute_input": "2021-11-17T13:00:08.874752Z",
     "iopub.status.busy": "2021-11-17T13:00:08.872369Z",
     "iopub.status.idle": "2021-11-17T13:00:09.725184Z",
     "shell.execute_reply": "2021-11-17T13:00:09.726846Z"
    },
    "papermill": {
     "duration": 0.88573,
     "end_time": "2021-11-17T13:00:09.727360",
     "exception": false,
     "start_time": "2021-11-17T13:00:08.841630",
     "status": "completed"
    },
    "tags": []
   },
   "outputs": [],
   "source": [
    "timestamps = pd.read_sql(\"select distinct record_time from EBAY_TOP_BERLIN order by record_time desc limit 2\", sqlite3.connect(\"UsedObjects.db\"))"
   ]
  },
  {
   "cell_type": "code",
   "execution_count": 3,
   "id": "periodic-identification",
   "metadata": {
    "execution": {
     "iopub.execute_input": "2021-11-17T13:00:09.804648Z",
     "iopub.status.busy": "2021-11-17T13:00:09.798640Z",
     "iopub.status.idle": "2021-11-17T13:00:09.821560Z",
     "shell.execute_reply": "2021-11-17T13:00:09.823117Z"
    },
    "papermill": {
     "duration": 0.075084,
     "end_time": "2021-11-17T13:00:09.823632",
     "exception": false,
     "start_time": "2021-11-17T13:00:09.748548",
     "status": "completed"
    },
    "tags": []
   },
   "outputs": [
    {
     "data": {
      "text/html": [
       "<div>\n",
       "<style scoped>\n",
       "    .dataframe tbody tr th:only-of-type {\n",
       "        vertical-align: middle;\n",
       "    }\n",
       "\n",
       "    .dataframe tbody tr th {\n",
       "        vertical-align: top;\n",
       "    }\n",
       "\n",
       "    .dataframe thead th {\n",
       "        text-align: right;\n",
       "    }\n",
       "</style>\n",
       "<table border=\"1\" class=\"dataframe\">\n",
       "  <thead>\n",
       "    <tr style=\"text-align: right;\">\n",
       "      <th></th>\n",
       "      <th>RECORD_TIME</th>\n",
       "    </tr>\n",
       "  </thead>\n",
       "  <tbody>\n",
       "    <tr>\n",
       "      <th>0</th>\n",
       "      <td>2021-11-17 14:00</td>\n",
       "    </tr>\n",
       "    <tr>\n",
       "      <th>1</th>\n",
       "      <td>2021-11-17 13:30</td>\n",
       "    </tr>\n",
       "  </tbody>\n",
       "</table>\n",
       "</div>"
      ],
      "text/plain": [
       "        RECORD_TIME\n",
       "0  2021-11-17 14:00\n",
       "1  2021-11-17 13:30"
      ]
     },
     "execution_count": 3,
     "metadata": {},
     "output_type": "execute_result"
    }
   ],
   "source": [
    "timestamps"
   ]
  },
  {
   "cell_type": "code",
   "execution_count": 4,
   "id": "alternate-victory",
   "metadata": {
    "execution": {
     "iopub.execute_input": "2021-11-17T13:00:09.880409Z",
     "iopub.status.busy": "2021-11-17T13:00:09.876951Z",
     "iopub.status.idle": "2021-11-17T13:00:11.086442Z",
     "shell.execute_reply": "2021-11-17T13:00:11.088004Z"
    },
    "papermill": {
     "duration": 1.24342,
     "end_time": "2021-11-17T13:00:11.088483",
     "exception": false,
     "start_time": "2021-11-17T13:00:09.845063",
     "status": "completed"
    },
    "tags": []
   },
   "outputs": [],
   "source": [
    "df = pd.read_sql(\"select * from EBAY_TOP_BERLIN where record_time in (select distinct record_time from EBAY_TOP_BERLIN order by record_time desc limit 2)\", sqlite3.connect(\"UsedObjects.db\"))"
   ]
  },
  {
   "cell_type": "code",
   "execution_count": 5,
   "id": "popular-active",
   "metadata": {
    "execution": {
     "iopub.execute_input": "2021-11-17T13:00:11.168663Z",
     "iopub.status.busy": "2021-11-17T13:00:11.154144Z",
     "iopub.status.idle": "2021-11-17T13:00:11.188964Z",
     "shell.execute_reply": "2021-11-17T13:00:11.190591Z"
    },
    "papermill": {
     "duration": 0.081125,
     "end_time": "2021-11-17T13:00:11.191143",
     "exception": false,
     "start_time": "2021-11-17T13:00:11.110018",
     "status": "completed"
    },
    "tags": []
   },
   "outputs": [],
   "source": [
    "df_pivot = df.pivot_table(index=\"PRODUCT\", columns = \"RECORD_TIME\", values = \"LISTING_COUNT\")"
   ]
  },
  {
   "cell_type": "code",
   "execution_count": 6,
   "id": "union-huntington",
   "metadata": {
    "execution": {
     "iopub.execute_input": "2021-11-17T13:00:11.252397Z",
     "iopub.status.busy": "2021-11-17T13:00:11.250163Z",
     "iopub.status.idle": "2021-11-17T13:00:11.256366Z",
     "shell.execute_reply": "2021-11-17T13:00:11.257990Z"
    },
    "papermill": {
     "duration": 0.045243,
     "end_time": "2021-11-17T13:00:11.258488",
     "exception": false,
     "start_time": "2021-11-17T13:00:11.213245",
     "status": "completed"
    },
    "tags": []
   },
   "outputs": [],
   "source": [
    "df_pivot.columns = [\"stamp_1\", \"stamp_2\"]\n",
    "df_pivot_diff = df_pivot.diff(axis=1)"
   ]
  },
  {
   "cell_type": "code",
   "execution_count": 7,
   "id": "fifth-motion",
   "metadata": {
    "execution": {
     "iopub.execute_input": "2021-11-17T13:00:11.318074Z",
     "iopub.status.busy": "2021-11-17T13:00:11.315052Z",
     "iopub.status.idle": "2021-11-17T13:00:13.085401Z",
     "shell.execute_reply": "2021-11-17T13:00:13.086782Z"
    },
    "papermill": {
     "duration": 1.807094,
     "end_time": "2021-11-17T13:00:13.087253",
     "exception": false,
     "start_time": "2021-11-17T13:00:11.280159",
     "status": "completed"
    },
    "tags": []
   },
   "outputs": [
    {
     "data": {
      "text/plain": [
       "<AxesSubplot:ylabel='PRODUCT'>"
      ]
     },
     "execution_count": 7,
     "metadata": {},
     "output_type": "execute_result"
    },
    {
     "data": {
      "image/png": "[encoded data removed]",
      "text/plain": [
       "<Figure size 432x288 with 1 Axes>"
      ]
     },
     "metadata": {
      "needs_background": "light"
     },
     "output_type": "display_data"
    }
   ],
   "source": [
    "df_pivot_diff.sort_values(\"stamp_2\", ascending = False)[\"stamp_2\"].head(10).plot.barh()"
   ]
  },
  {
   "cell_type": "code",
   "execution_count": null,
   "id": "extra-executive",
   "metadata": {
    "papermill": {
     "duration": 0.025787,
     "end_time": "2021-11-17T13:00:13.138868",
     "exception": false,
     "start_time": "2021-11-17T13:00:13.113081",
     "status": "completed"
    },
    "tags": []
   },
   "outputs": [],
   "source": []
  }
 ],
 "metadata": {
  "kernelspec": {
   "display_name": "Python 3",
   "language": "python",
   "name": "python3"
  },
  "language_info": {
   "codemirror_mode": {
    "name": "ipython",
    "version": 3
   },
   "file_extension": ".py",
   "mimetype": "text/x-python",
   "name": "python",
   "nbconvert_exporter": "python",
   "pygments_lexer": "ipython3",
   "version": "3.9.5"
  },
  "papermill": {
   "default_parameters": {},
   "duration": 10.855746,
   "end_time": "2021-11-17T13:00:15.978565",
   "environment_variables": {},
   "exception": null,
   "input_path": "eBay_Overview.ipynb",
   "output_path": "eBay_Overview.ipynb",
   "parameters": {},
   "start_time": "2021-11-17T13:00:05.122819",
   "version": "2.3.3"
  }
 },
 "nbformat": 4,
 "nbformat_minor": 5
}