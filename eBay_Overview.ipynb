{
 "cells": [
  {
   "cell_type": "code",
   "execution_count": 1,
   "id": "reverse-picking",
   "metadata": {
    "execution": {
     "iopub.execute_input": "2021-11-22T08:30:08.129396Z",
     "iopub.status.busy": "2021-11-22T08:30:08.126941Z",
     "iopub.status.idle": "2021-11-22T08:30:09.093713Z",
     "shell.execute_reply": "2021-11-22T08:30:09.095251Z"
    },
    "papermill": {
     "duration": 1.014662,
     "end_time": "2021-11-22T08:30:09.096019",
     "exception": false,
     "start_time": "2021-11-22T08:30:08.081357",
     "status": "completed"
    },
    "tags": []
   },
   "outputs": [],
   "source": [
    "import pandas as pd\n",
    "import sqlite3"
   ]
  },
  {
   "cell_type": "code",
   "execution_count": 2,
   "id": "innovative-syndrome",
   "metadata": {
    "execution": {
     "iopub.execute_input": "2021-11-22T08:30:09.214654Z",
     "iopub.status.busy": "2021-11-22T08:30:09.212165Z",
     "iopub.status.idle": "2021-11-22T08:30:10.099804Z",
     "shell.execute_reply": "2021-11-22T08:30:10.101480Z"
    },
    "papermill": {
     "duration": 0.922722,
     "end_time": "2021-11-22T08:30:10.102005",
     "exception": false,
     "start_time": "2021-11-22T08:30:09.179283",
     "status": "completed"
    },
    "tags": []
   },
   "outputs": [],
   "source": [
    "timestamps = pd.read_sql(\"select distinct record_time from EBAY_TOP_BERLIN order by record_time desc limit 2\", sqlite3.connect(\"UsedObjects.db\"))"
   ]
  },
  {
   "cell_type": "code",
   "execution_count": 3,
   "id": "periodic-identification",
   "metadata": {
    "execution": {
     "iopub.execute_input": "2021-11-22T08:30:10.175343Z",
     "iopub.status.busy": "2021-11-22T08:30:10.173018Z",
     "iopub.status.idle": "2021-11-22T08:30:10.195970Z",
     "shell.execute_reply": "2021-11-22T08:30:10.197563Z"
    },
    "papermill": {
     "duration": 0.075226,
     "end_time": "2021-11-22T08:30:10.198039",
     "exception": false,
     "start_time": "2021-11-22T08:30:10.122813",
     "status": "completed"
    },
    "tags": []
   },
   "outputs": [
    {
     "data": {
      "text/html": [
       "<div>\n",
       "<style scoped>\n",
       "    .dataframe tbody tr th:only-of-type {\n",
       "        vertical-align: middle;\n",
       "    }\n",
       "\n",
       "    .dataframe tbody tr th {\n",
       "        vertical-align: top;\n",
       "    }\n",
       "\n",
       "    .dataframe thead th {\n",
       "        text-align: right;\n",
       "    }\n",
       "</style>\n",
       "<table border=\"1\" class=\"dataframe\">\n",
       "  <thead>\n",
       "    <tr style=\"text-align: right;\">\n",
       "      <th></th>\n",
       "      <th>RECORD_TIME</th>\n",
       "    </tr>\n",
       "  </thead>\n",
       "  <tbody>\n",
       "    <tr>\n",
       "      <th>0</th>\n",
       "      <td>2021-11-22 09:30</td>\n",
       "    </tr>\n",
       "    <tr>\n",
       "      <th>1</th>\n",
       "      <td>2021-11-22 09:00</td>\n",
       "    </tr>\n",
       "  </tbody>\n",
       "</table>\n",
       "</div>"
      ],
      "text/plain": [
       "        RECORD_TIME\n",
       "0  2021-11-22 09:30\n",
       "1  2021-11-22 09:00"
      ]
     },
     "execution_count": 3,
     "metadata": {},
     "output_type": "execute_result"
    }
   ],
   "source": [
    "timestamps"
   ]
  },
  {
   "cell_type": "code",
   "execution_count": 4,
   "id": "alternate-victory",
   "metadata": {
    "execution": {
     "iopub.execute_input": "2021-11-22T08:30:10.253924Z",
     "iopub.status.busy": "2021-11-22T08:30:10.251561Z",
     "iopub.status.idle": "2021-11-22T08:30:11.555541Z",
     "shell.execute_reply": "2021-11-22T08:30:11.557376Z"
    },
    "papermill": {
     "duration": 1.339086,
     "end_time": "2021-11-22T08:30:11.557951",
     "exception": false,
     "start_time": "2021-11-22T08:30:10.218865",
     "status": "completed"
    },
    "tags": []
   },
   "outputs": [],
   "source": [
    "df = pd.read_sql(\"select * from EBAY_TOP_BERLIN where record_time in (select distinct record_time from EBAY_TOP_BERLIN order by record_time desc limit 2)\", sqlite3.connect(\"UsedObjects.db\"))"
   ]
  },
  {
   "cell_type": "code",
   "execution_count": 5,
   "id": "popular-active",
   "metadata": {
    "execution": {
     "iopub.execute_input": "2021-11-22T08:30:11.625637Z",
     "iopub.status.busy": "2021-11-22T08:30:11.621029Z",
     "iopub.status.idle": "2021-11-22T08:30:11.654421Z",
     "shell.execute_reply": "2021-11-22T08:30:11.655912Z"
    },
    "papermill": {
     "duration": 0.076425,
     "end_time": "2021-11-22T08:30:11.656451",
     "exception": false,
     "start_time": "2021-11-22T08:30:11.580026",
     "status": "completed"
    },
    "tags": []
   },
   "outputs": [],
   "source": [
    "df_pivot = df.pivot_table(index=\"PRODUCT\", columns = \"RECORD_TIME\", values = \"LISTING_COUNT\")"
   ]
  },
  {
   "cell_type": "code",
   "execution_count": 6,
   "id": "union-huntington",
   "metadata": {
    "execution": {
     "iopub.execute_input": "2021-11-22T08:30:11.715613Z",
     "iopub.status.busy": "2021-11-22T08:30:11.713126Z",
     "iopub.status.idle": "2021-11-22T08:30:11.719221Z",
     "shell.execute_reply": "2021-11-22T08:30:11.720945Z"
    },
    "papermill": {
     "duration": 0.044009,
     "end_time": "2021-11-22T08:30:11.721459",
     "exception": false,
     "start_time": "2021-11-22T08:30:11.677450",
     "status": "completed"
    },
    "tags": []
   },
   "outputs": [],
   "source": [
    "df_pivot.columns = [\"stamp_1\", \"stamp_2\"]\n",
    "df_pivot_diff = df_pivot.diff(axis=1)"
   ]
  },
  {
   "cell_type": "code",
   "execution_count": 7,
   "id": "fifth-motion",
   "metadata": {
    "execution": {
     "iopub.execute_input": "2021-11-22T08:30:11.780924Z",
     "iopub.status.busy": "2021-11-22T08:30:11.778294Z",
     "iopub.status.idle": "2021-11-22T08:30:13.663438Z",
     "shell.execute_reply": "2021-11-22T08:30:13.665221Z"
    },
    "papermill": {
     "duration": 1.923607,
     "end_time": "2021-11-22T08:30:13.665816",
     "exception": false,
     "start_time": "2021-11-22T08:30:11.742209",
     "status": "completed"
    },
    "tags": []
   },
   "outputs": [
    {
     "data": {
      "text/plain": [
       "<AxesSubplot:ylabel='PRODUCT'>"
      ]
     },
     "execution_count": 7,
     "metadata": {},
     "output_type": "execute_result"
    },
    {
     "data": {
      "image/png": "[encoded data removed]",
      "text/plain": [
       "<Figure size 432x288 with 1 Axes>"
      ]
     },
     "metadata": {
      "needs_background": "light"
     },
     "output_type": "display_data"
    }
   ],
   "source": [
    "df_pivot_diff.sort_values(\"stamp_2\", ascending = False)[\"stamp_2\"].head(10).plot.barh()"
   ]
  },
  {
   "cell_type": "code",
   "execution_count": null,
   "id": "extra-executive",
   "metadata": {
    "papermill": {
     "duration": 0.023032,
     "end_time": "2021-11-22T08:30:13.714065",
     "exception": false,
     "start_time": "2021-11-22T08:30:13.691033",
     "status": "completed"
    },
    "tags": []
   },
   "outputs": [],
   "source": []
  }
 ],
 "metadata": {
  "kernelspec": {
   "display_name": "Python 3",
   "language": "python",
   "name": "python3"
  },
  "language_info": {
   "codemirror_mode": {
    "name": "ipython",
    "version": 3
   },
   "file_extension": ".py",
   "mimetype": "text/x-python",
   "name": "python",
   "nbconvert_exporter": "python",
   "pygments_lexer": "ipython3",
   "version": "3.9.5"
  },
  "papermill": {
   "default_parameters": {},
   "duration": 9.92616,
   "end_time": "2021-11-22T08:30:15.283905",
   "environment_variables": {},
   "exception": null,
   "input_path": "eBay_Overview.ipynb",
   "output_path": "eBay_Overview.ipynb",
   "parameters": {},
   "start_time": "2021-11-22T08:30:05.357745",
   "version": "2.3.3"
  }
 },
 "nbformat": 4,
 "nbformat_minor": 5
}