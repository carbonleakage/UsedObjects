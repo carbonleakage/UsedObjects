{
 "cells": [
  {
   "cell_type": "code",
   "execution_count": 1,
   "id": "reverse-picking",
   "metadata": {
    "execution": {
     "iopub.execute_input": "2021-09-27T17:30:07.632519Z",
     "iopub.status.busy": "2021-09-27T17:30:07.630483Z",
     "iopub.status.idle": "2021-09-27T17:30:08.438265Z",
     "shell.execute_reply": "2021-09-27T17:30:08.439580Z"
    },
    "papermill": {
     "duration": 0.860715,
     "end_time": "2021-09-27T17:30:08.440208",
     "exception": false,
     "start_time": "2021-09-27T17:30:07.579493",
     "status": "completed"
    },
    "tags": []
   },
   "outputs": [],
   "source": [
    "import pandas as pd\n",
    "import sqlite3"
   ]
  },
  {
   "cell_type": "code",
   "execution_count": 2,
   "id": "innovative-syndrome",
   "metadata": {
    "execution": {
     "iopub.execute_input": "2021-09-27T17:30:08.490886Z",
     "iopub.status.busy": "2021-09-27T17:30:08.488969Z",
     "iopub.status.idle": "2021-09-27T17:30:08.880958Z",
     "shell.execute_reply": "2021-09-27T17:30:08.882159Z"
    },
    "papermill": {
     "duration": 0.421576,
     "end_time": "2021-09-27T17:30:08.882546",
     "exception": false,
     "start_time": "2021-09-27T17:30:08.460970",
     "status": "completed"
    },
    "tags": []
   },
   "outputs": [],
   "source": [
    "timestamps = pd.read_sql(\"select distinct record_time from EBAY_TOP_BERLIN order by record_time desc limit 2\", sqlite3.connect(\"UsedObjects.db\"))"
   ]
  },
  {
   "cell_type": "code",
   "execution_count": 3,
   "id": "periodic-identification",
   "metadata": {
    "execution": {
     "iopub.execute_input": "2021-09-27T17:30:08.946406Z",
     "iopub.status.busy": "2021-09-27T17:30:08.944393Z",
     "iopub.status.idle": "2021-09-27T17:30:08.964256Z",
     "shell.execute_reply": "2021-09-27T17:30:08.965529Z"
    },
    "papermill": {
     "duration": 0.063044,
     "end_time": "2021-09-27T17:30:08.965942",
     "exception": false,
     "start_time": "2021-09-27T17:30:08.902898",
     "status": "completed"
    },
    "tags": []
   },
   "outputs": [
    {
     "data": {
      "text/html": [
       "<div>\n",
       "<style scoped>\n",
       "    .dataframe tbody tr th:only-of-type {\n",
       "        vertical-align: middle;\n",
       "    }\n",
       "\n",
       "    .dataframe tbody tr th {\n",
       "        vertical-align: top;\n",
       "    }\n",
       "\n",
       "    .dataframe thead th {\n",
       "        text-align: right;\n",
       "    }\n",
       "</style>\n",
       "<table border=\"1\" class=\"dataframe\">\n",
       "  <thead>\n",
       "    <tr style=\"text-align: right;\">\n",
       "      <th></th>\n",
       "      <th>RECORD_TIME</th>\n",
       "    </tr>\n",
       "  </thead>\n",
       "  <tbody>\n",
       "    <tr>\n",
       "      <th>0</th>\n",
       "      <td>2021-09-27 19:30</td>\n",
       "    </tr>\n",
       "    <tr>\n",
       "      <th>1</th>\n",
       "      <td>2021-09-27 19:00</td>\n",
       "    </tr>\n",
       "  </tbody>\n",
       "</table>\n",
       "</div>"
      ],
      "text/plain": [
       "        RECORD_TIME\n",
       "0  2021-09-27 19:30\n",
       "1  2021-09-27 19:00"
      ]
     },
     "execution_count": 3,
     "metadata": {},
     "output_type": "execute_result"
    }
   ],
   "source": [
    "timestamps"
   ]
  },
  {
   "cell_type": "code",
   "execution_count": 4,
   "id": "alternate-victory",
   "metadata": {
    "execution": {
     "iopub.execute_input": "2021-09-27T17:30:09.016942Z",
     "iopub.status.busy": "2021-09-27T17:30:09.015087Z",
     "iopub.status.idle": "2021-09-27T17:30:09.611188Z",
     "shell.execute_reply": "2021-09-27T17:30:09.612562Z"
    },
    "papermill": {
     "duration": 0.626202,
     "end_time": "2021-09-27T17:30:09.612967",
     "exception": false,
     "start_time": "2021-09-27T17:30:08.986765",
     "status": "completed"
    },
    "tags": []
   },
   "outputs": [],
   "source": [
    "df = pd.read_sql(\"select * from EBAY_TOP_BERLIN where record_time in (select distinct record_time from EBAY_TOP_BERLIN order by record_time desc limit 2)\", sqlite3.connect(\"UsedObjects.db\"))"
   ]
  },
  {
   "cell_type": "code",
   "execution_count": 5,
   "id": "popular-active",
   "metadata": {
    "execution": {
     "iopub.execute_input": "2021-09-27T17:30:09.692329Z",
     "iopub.status.busy": "2021-09-27T17:30:09.681308Z",
     "iopub.status.idle": "2021-09-27T17:30:09.709373Z",
     "shell.execute_reply": "2021-09-27T17:30:09.711012Z"
    },
    "papermill": {
     "duration": 0.07274,
     "end_time": "2021-09-27T17:30:09.711496",
     "exception": false,
     "start_time": "2021-09-27T17:30:09.638756",
     "status": "completed"
    },
    "tags": []
   },
   "outputs": [],
   "source": [
    "df_pivot = df.pivot_table(index=\"PRODUCT\", columns = \"RECORD_TIME\", values = \"LISTING_COUNT\")"
   ]
  },
  {
   "cell_type": "code",
   "execution_count": 6,
   "id": "union-huntington",
   "metadata": {
    "execution": {
     "iopub.execute_input": "2021-09-27T17:30:09.769288Z",
     "iopub.status.busy": "2021-09-27T17:30:09.766771Z",
     "iopub.status.idle": "2021-09-27T17:30:09.772807Z",
     "shell.execute_reply": "2021-09-27T17:30:09.774084Z"
    },
    "papermill": {
     "duration": 0.042292,
     "end_time": "2021-09-27T17:30:09.774496",
     "exception": false,
     "start_time": "2021-09-27T17:30:09.732204",
     "status": "completed"
    },
    "tags": []
   },
   "outputs": [],
   "source": [
    "df_pivot.columns = [\"stamp_1\", \"stamp_2\"]\n",
    "df_pivot_diff = df_pivot.diff(axis=1)"
   ]
  },
  {
   "cell_type": "code",
   "execution_count": 7,
   "id": "fifth-motion",
   "metadata": {
    "execution": {
     "iopub.execute_input": "2021-09-27T17:30:09.828814Z",
     "iopub.status.busy": "2021-09-27T17:30:09.826319Z",
     "iopub.status.idle": "2021-09-27T17:30:11.302305Z",
     "shell.execute_reply": "2021-09-27T17:30:11.303928Z"
    },
    "papermill": {
     "duration": 1.509804,
     "end_time": "2021-09-27T17:30:11.304364",
     "exception": false,
     "start_time": "2021-09-27T17:30:09.794560",
     "status": "completed"
    },
    "tags": []
   },
   "outputs": [
    {
     "data": {
      "text/plain": [
       "<AxesSubplot:ylabel='PRODUCT'>"
      ]
     },
     "execution_count": 7,
     "metadata": {},
     "output_type": "execute_result"
    },
    {
     "data": {
      "image/png": "[encoded data removed]",
      "text/plain": [
       "<Figure size 432x288 with 1 Axes>"
      ]
     },
     "metadata": {
      "needs_background": "light"
     },
     "output_type": "display_data"
    }
   ],
   "source": [
    "df_pivot_diff.sort_values(\"stamp_2\", ascending = False)[\"stamp_2\"].head(10).plot.barh()"
   ]
  },
  {
   "cell_type": "code",
   "execution_count": null,
   "id": "extra-executive",
   "metadata": {
    "papermill": {
     "duration": 0.02229,
     "end_time": "2021-09-27T17:30:11.352515",
     "exception": false,
     "start_time": "2021-09-27T17:30:11.330225",
     "status": "completed"
    },
    "tags": []
   },
   "outputs": [],
   "source": []
  }
 ],
 "metadata": {
  "kernelspec": {
   "display_name": "Python 3",
   "language": "python",
   "name": "python3"
  },
  "language_info": {
   "codemirror_mode": {
    "name": "ipython",
    "version": 3
   },
   "file_extension": ".py",
   "mimetype": "text/x-python",
   "name": "python",
   "nbconvert_exporter": "python",
   "pygments_lexer": "ipython3",
   "version": "3.9.5"
  },
  "papermill": {
   "default_parameters": {},
   "duration": 7.825854,
   "end_time": "2021-09-27T17:30:12.990627",
   "environment_variables": {},
   "exception": null,
   "input_path": "eBay_Overview.ipynb",
   "output_path": "eBay_Overview.ipynb",
   "parameters": {},
   "start_time": "2021-09-27T17:30:05.164773",
   "version": "2.3.3"
  }
 },
 "nbformat": 4,
 "nbformat_minor": 5
}