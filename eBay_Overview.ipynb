{
 "cells": [
  {
   "cell_type": "code",
   "execution_count": 1,
   "id": "reverse-picking",
   "metadata": {
    "execution": {
     "iopub.execute_input": "2021-10-28T17:00:07.272999Z",
     "iopub.status.busy": "2021-10-28T17:00:07.270931Z",
     "iopub.status.idle": "2021-10-28T17:00:08.074415Z",
     "shell.execute_reply": "2021-10-28T17:00:08.075834Z"
    },
    "papermill": {
     "duration": 0.855483,
     "end_time": "2021-10-28T17:00:08.076520",
     "exception": false,
     "start_time": "2021-10-28T17:00:07.221037",
     "status": "completed"
    },
    "tags": []
   },
   "outputs": [],
   "source": [
    "import pandas as pd\n",
    "import sqlite3"
   ]
  },
  {
   "cell_type": "code",
   "execution_count": 2,
   "id": "innovative-syndrome",
   "metadata": {
    "execution": {
     "iopub.execute_input": "2021-10-28T17:00:08.127729Z",
     "iopub.status.busy": "2021-10-28T17:00:08.125385Z",
     "iopub.status.idle": "2021-10-28T17:00:08.777121Z",
     "shell.execute_reply": "2021-10-28T17:00:08.778459Z"
    },
    "papermill": {
     "duration": 0.681872,
     "end_time": "2021-10-28T17:00:08.778862",
     "exception": false,
     "start_time": "2021-10-28T17:00:08.096990",
     "status": "completed"
    },
    "tags": []
   },
   "outputs": [],
   "source": [
    "timestamps = pd.read_sql(\"select distinct record_time from EBAY_TOP_BERLIN order by record_time desc limit 2\", sqlite3.connect(\"UsedObjects.db\"))"
   ]
  },
  {
   "cell_type": "code",
   "execution_count": 3,
   "id": "periodic-identification",
   "metadata": {
    "execution": {
     "iopub.execute_input": "2021-10-28T17:00:08.853061Z",
     "iopub.status.busy": "2021-10-28T17:00:08.850948Z",
     "iopub.status.idle": "2021-10-28T17:00:08.870895Z",
     "shell.execute_reply": "2021-10-28T17:00:08.872181Z"
    },
    "papermill": {
     "duration": 0.068641,
     "end_time": "2021-10-28T17:00:08.872596",
     "exception": false,
     "start_time": "2021-10-28T17:00:08.803955",
     "status": "completed"
    },
    "tags": []
   },
   "outputs": [
    {
     "data": {
      "text/html": [
       "<div>\n",
       "<style scoped>\n",
       "    .dataframe tbody tr th:only-of-type {\n",
       "        vertical-align: middle;\n",
       "    }\n",
       "\n",
       "    .dataframe tbody tr th {\n",
       "        vertical-align: top;\n",
       "    }\n",
       "\n",
       "    .dataframe thead th {\n",
       "        text-align: right;\n",
       "    }\n",
       "</style>\n",
       "<table border=\"1\" class=\"dataframe\">\n",
       "  <thead>\n",
       "    <tr style=\"text-align: right;\">\n",
       "      <th></th>\n",
       "      <th>RECORD_TIME</th>\n",
       "    </tr>\n",
       "  </thead>\n",
       "  <tbody>\n",
       "    <tr>\n",
       "      <th>0</th>\n",
       "      <td>2021-10-28 19:00</td>\n",
       "    </tr>\n",
       "    <tr>\n",
       "      <th>1</th>\n",
       "      <td>2021-10-28 18:30</td>\n",
       "    </tr>\n",
       "  </tbody>\n",
       "</table>\n",
       "</div>"
      ],
      "text/plain": [
       "        RECORD_TIME\n",
       "0  2021-10-28 19:00\n",
       "1  2021-10-28 18:30"
      ]
     },
     "execution_count": 3,
     "metadata": {},
     "output_type": "execute_result"
    }
   ],
   "source": [
    "timestamps"
   ]
  },
  {
   "cell_type": "code",
   "execution_count": 4,
   "id": "alternate-victory",
   "metadata": {
    "execution": {
     "iopub.execute_input": "2021-10-28T17:00:08.924095Z",
     "iopub.status.busy": "2021-10-28T17:00:08.922235Z",
     "iopub.status.idle": "2021-10-28T17:00:09.868183Z",
     "shell.execute_reply": "2021-10-28T17:00:09.869463Z"
    },
    "papermill": {
     "duration": 0.975792,
     "end_time": "2021-10-28T17:00:09.869874",
     "exception": false,
     "start_time": "2021-10-28T17:00:08.894082",
     "status": "completed"
    },
    "tags": []
   },
   "outputs": [],
   "source": [
    "df = pd.read_sql(\"select * from EBAY_TOP_BERLIN where record_time in (select distinct record_time from EBAY_TOP_BERLIN order by record_time desc limit 2)\", sqlite3.connect(\"UsedObjects.db\"))"
   ]
  },
  {
   "cell_type": "code",
   "execution_count": 5,
   "id": "popular-active",
   "metadata": {
    "execution": {
     "iopub.execute_input": "2021-10-28T17:00:09.938717Z",
     "iopub.status.busy": "2021-10-28T17:00:09.927469Z",
     "iopub.status.idle": "2021-10-28T17:00:09.955604Z",
     "shell.execute_reply": "2021-10-28T17:00:09.957012Z"
    },
    "papermill": {
     "duration": 0.066951,
     "end_time": "2021-10-28T17:00:09.957430",
     "exception": false,
     "start_time": "2021-10-28T17:00:09.890479",
     "status": "completed"
    },
    "tags": []
   },
   "outputs": [],
   "source": [
    "df_pivot = df.pivot_table(index=\"PRODUCT\", columns = \"RECORD_TIME\", values = \"LISTING_COUNT\")"
   ]
  },
  {
   "cell_type": "code",
   "execution_count": 6,
   "id": "union-huntington",
   "metadata": {
    "execution": {
     "iopub.execute_input": "2021-10-28T17:00:10.016050Z",
     "iopub.status.busy": "2021-10-28T17:00:10.013582Z",
     "iopub.status.idle": "2021-10-28T17:00:10.019367Z",
     "shell.execute_reply": "2021-10-28T17:00:10.020813Z"
    },
    "papermill": {
     "duration": 0.042416,
     "end_time": "2021-10-28T17:00:10.021288",
     "exception": false,
     "start_time": "2021-10-28T17:00:09.978872",
     "status": "completed"
    },
    "tags": []
   },
   "outputs": [],
   "source": [
    "df_pivot.columns = [\"stamp_1\", \"stamp_2\"]\n",
    "df_pivot_diff = df_pivot.diff(axis=1)"
   ]
  },
  {
   "cell_type": "code",
   "execution_count": 7,
   "id": "fifth-motion",
   "metadata": {
    "execution": {
     "iopub.execute_input": "2021-10-28T17:00:10.076011Z",
     "iopub.status.busy": "2021-10-28T17:00:10.073799Z",
     "iopub.status.idle": "2021-10-28T17:00:11.547913Z",
     "shell.execute_reply": "2021-10-28T17:00:11.549464Z"
    },
    "papermill": {
     "duration": 1.507143,
     "end_time": "2021-10-28T17:00:11.549984",
     "exception": false,
     "start_time": "2021-10-28T17:00:10.042841",
     "status": "completed"
    },
    "tags": []
   },
   "outputs": [
    {
     "data": {
      "text/plain": [
       "<AxesSubplot:ylabel='PRODUCT'>"
      ]
     },
     "execution_count": 7,
     "metadata": {},
     "output_type": "execute_result"
    },
    {
     "data": {
      "image/png": "[encoded data removed]",
      "text/plain": [
       "<Figure size 432x288 with 1 Axes>"
      ]
     },
     "metadata": {
      "needs_background": "light"
     },
     "output_type": "display_data"
    }
   ],
   "source": [
    "df_pivot_diff.sort_values(\"stamp_2\", ascending = False)[\"stamp_2\"].head(10).plot.barh()"
   ]
  },
  {
   "cell_type": "code",
   "execution_count": null,
   "id": "extra-executive",
   "metadata": {
    "papermill": {
     "duration": 0.021932,
     "end_time": "2021-10-28T17:00:11.598873",
     "exception": false,
     "start_time": "2021-10-28T17:00:11.576941",
     "status": "completed"
    },
    "tags": []
   },
   "outputs": [],
   "source": []
  }
 ],
 "metadata": {
  "kernelspec": {
   "display_name": "Python 3",
   "language": "python",
   "name": "python3"
  },
  "language_info": {
   "codemirror_mode": {
    "name": "ipython",
    "version": 3
   },
   "file_extension": ".py",
   "mimetype": "text/x-python",
   "name": "python",
   "nbconvert_exporter": "python",
   "pygments_lexer": "ipython3",
   "version": "3.9.5"
  },
  "papermill": {
   "default_parameters": {},
   "duration": 7.427066,
   "end_time": "2021-10-28T17:00:12.241652",
   "environment_variables": {},
   "exception": null,
   "input_path": "eBay_Overview.ipynb",
   "output_path": "eBay_Overview.ipynb",
   "parameters": {},
   "start_time": "2021-10-28T17:00:04.814586",
   "version": "2.3.3"
  }
 },
 "nbformat": 4,
 "nbformat_minor": 5
}