{
 "cells": [
  {
   "cell_type": "code",
   "execution_count": 1,
   "id": "reverse-picking",
   "metadata": {
    "execution": {
     "iopub.execute_input": "2021-09-23T10:00:07.516959Z",
     "iopub.status.busy": "2021-09-23T10:00:07.515032Z",
     "iopub.status.idle": "2021-09-23T10:00:08.321308Z",
     "shell.execute_reply": "2021-09-23T10:00:08.322551Z"
    },
    "papermill": {
     "duration": 0.858239,
     "end_time": "2021-09-23T10:00:08.323216",
     "exception": false,
     "start_time": "2021-09-23T10:00:07.464977",
     "status": "completed"
    },
    "tags": []
   },
   "outputs": [],
   "source": [
    "import pandas as pd\n",
    "import sqlite3"
   ]
  },
  {
   "cell_type": "code",
   "execution_count": 2,
   "id": "innovative-syndrome",
   "metadata": {
    "execution": {
     "iopub.execute_input": "2021-09-23T10:00:08.375715Z",
     "iopub.status.busy": "2021-09-23T10:00:08.373621Z",
     "iopub.status.idle": "2021-09-23T10:00:08.726719Z",
     "shell.execute_reply": "2021-09-23T10:00:08.728019Z"
    },
    "papermill": {
     "duration": 0.382778,
     "end_time": "2021-09-23T10:00:08.728458",
     "exception": false,
     "start_time": "2021-09-23T10:00:08.345680",
     "status": "completed"
    },
    "tags": []
   },
   "outputs": [],
   "source": [
    "timestamps = pd.read_sql(\"select distinct record_time from EBAY_TOP_BERLIN order by record_time desc limit 2\", sqlite3.connect(\"UsedObjects.db\"))"
   ]
  },
  {
   "cell_type": "code",
   "execution_count": 3,
   "id": "periodic-identification",
   "metadata": {
    "execution": {
     "iopub.execute_input": "2021-09-23T10:00:08.793712Z",
     "iopub.status.busy": "2021-09-23T10:00:08.791727Z",
     "iopub.status.idle": "2021-09-23T10:00:08.811685Z",
     "shell.execute_reply": "2021-09-23T10:00:08.813003Z"
    },
    "papermill": {
     "duration": 0.064527,
     "end_time": "2021-09-23T10:00:08.813419",
     "exception": false,
     "start_time": "2021-09-23T10:00:08.748892",
     "status": "completed"
    },
    "tags": []
   },
   "outputs": [
    {
     "data": {
      "text/html": [
       "<div>\n",
       "<style scoped>\n",
       "    .dataframe tbody tr th:only-of-type {\n",
       "        vertical-align: middle;\n",
       "    }\n",
       "\n",
       "    .dataframe tbody tr th {\n",
       "        vertical-align: top;\n",
       "    }\n",
       "\n",
       "    .dataframe thead th {\n",
       "        text-align: right;\n",
       "    }\n",
       "</style>\n",
       "<table border=\"1\" class=\"dataframe\">\n",
       "  <thead>\n",
       "    <tr style=\"text-align: right;\">\n",
       "      <th></th>\n",
       "      <th>RECORD_TIME</th>\n",
       "    </tr>\n",
       "  </thead>\n",
       "  <tbody>\n",
       "    <tr>\n",
       "      <th>0</th>\n",
       "      <td>2021-09-23 12:00</td>\n",
       "    </tr>\n",
       "    <tr>\n",
       "      <th>1</th>\n",
       "      <td>2021-09-23 11:30</td>\n",
       "    </tr>\n",
       "  </tbody>\n",
       "</table>\n",
       "</div>"
      ],
      "text/plain": [
       "        RECORD_TIME\n",
       "0  2021-09-23 12:00\n",
       "1  2021-09-23 11:30"
      ]
     },
     "execution_count": 3,
     "metadata": {},
     "output_type": "execute_result"
    }
   ],
   "source": [
    "timestamps"
   ]
  },
  {
   "cell_type": "code",
   "execution_count": 4,
   "id": "alternate-victory",
   "metadata": {
    "execution": {
     "iopub.execute_input": "2021-09-23T10:00:08.865304Z",
     "iopub.status.busy": "2021-09-23T10:00:08.863173Z",
     "iopub.status.idle": "2021-09-23T10:00:09.385033Z",
     "shell.execute_reply": "2021-09-23T10:00:09.386235Z"
    },
    "papermill": {
     "duration": 0.551944,
     "end_time": "2021-09-23T10:00:09.386635",
     "exception": false,
     "start_time": "2021-09-23T10:00:08.834691",
     "status": "completed"
    },
    "tags": []
   },
   "outputs": [],
   "source": [
    "df = pd.read_sql(\"select * from EBAY_TOP_BERLIN where record_time in (select distinct record_time from EBAY_TOP_BERLIN order by record_time desc limit 2)\", sqlite3.connect(\"UsedObjects.db\"))"
   ]
  },
  {
   "cell_type": "code",
   "execution_count": 5,
   "id": "popular-active",
   "metadata": {
    "execution": {
     "iopub.execute_input": "2021-09-23T10:00:09.466147Z",
     "iopub.status.busy": "2021-09-23T10:00:09.453257Z",
     "iopub.status.idle": "2021-09-23T10:00:09.482518Z",
     "shell.execute_reply": "2021-09-23T10:00:09.483869Z"
    },
    "papermill": {
     "duration": 0.072005,
     "end_time": "2021-09-23T10:00:09.484290",
     "exception": false,
     "start_time": "2021-09-23T10:00:09.412285",
     "status": "completed"
    },
    "tags": []
   },
   "outputs": [],
   "source": [
    "df_pivot = df.pivot_table(index=\"PRODUCT\", columns = \"RECORD_TIME\", values = \"LISTING_COUNT\")"
   ]
  },
  {
   "cell_type": "code",
   "execution_count": 6,
   "id": "union-huntington",
   "metadata": {
    "execution": {
     "iopub.execute_input": "2021-09-23T10:00:09.539868Z",
     "iopub.status.busy": "2021-09-23T10:00:09.537638Z",
     "iopub.status.idle": "2021-09-23T10:00:09.543042Z",
     "shell.execute_reply": "2021-09-23T10:00:09.544235Z"
    },
    "papermill": {
     "duration": 0.040318,
     "end_time": "2021-09-23T10:00:09.544667",
     "exception": false,
     "start_time": "2021-09-23T10:00:09.504349",
     "status": "completed"
    },
    "tags": []
   },
   "outputs": [],
   "source": [
    "df_pivot.columns = [\"stamp_1\", \"stamp_2\"]\n",
    "df_pivot_diff = df_pivot.diff(axis=1)"
   ]
  },
  {
   "cell_type": "code",
   "execution_count": 7,
   "id": "fifth-motion",
   "metadata": {
    "execution": {
     "iopub.execute_input": "2021-09-23T10:00:09.598470Z",
     "iopub.status.busy": "2021-09-23T10:00:09.596103Z",
     "iopub.status.idle": "2021-09-23T10:00:11.068590Z",
     "shell.execute_reply": "2021-09-23T10:00:11.070151Z"
    },
    "papermill": {
     "duration": 1.505509,
     "end_time": "2021-09-23T10:00:11.070652",
     "exception": false,
     "start_time": "2021-09-23T10:00:09.565143",
     "status": "completed"
    },
    "tags": []
   },
   "outputs": [
    {
     "data": {
      "text/plain": [
       "<AxesSubplot:ylabel='PRODUCT'>"
      ]
     },
     "execution_count": 7,
     "metadata": {},
     "output_type": "execute_result"
    },
    {
     "data": {
      "image/png": "[encoded data removed]",
      "text/plain": [
       "<Figure size 432x288 with 1 Axes>"
      ]
     },
     "metadata": {
      "needs_background": "light"
     },
     "output_type": "display_data"
    }
   ],
   "source": [
    "df_pivot_diff.sort_values(\"stamp_2\", ascending = False)[\"stamp_2\"].head(10).plot.barh()"
   ]
  },
  {
   "cell_type": "code",
   "execution_count": null,
   "id": "extra-executive",
   "metadata": {
    "papermill": {
     "duration": 0.022296,
     "end_time": "2021-09-23T10:00:11.117144",
     "exception": false,
     "start_time": "2021-09-23T10:00:11.094848",
     "status": "completed"
    },
    "tags": []
   },
   "outputs": [],
   "source": []
  }
 ],
 "metadata": {
  "kernelspec": {
   "display_name": "Python 3",
   "language": "python",
   "name": "python3"
  },
  "language_info": {
   "codemirror_mode": {
    "name": "ipython",
    "version": 3
   },
   "file_extension": ".py",
   "mimetype": "text/x-python",
   "name": "python",
   "nbconvert_exporter": "python",
   "pygments_lexer": "ipython3",
   "version": "3.9.5"
  },
  "papermill": {
   "default_parameters": {},
   "duration": 6.705267,
   "end_time": "2021-09-23T10:00:11.761129",
   "environment_variables": {},
   "exception": null,
   "input_path": "eBay_Overview.ipynb",
   "output_path": "eBay_Overview.ipynb",
   "parameters": {},
   "start_time": "2021-09-23T10:00:05.055862",
   "version": "2.3.3"
  }
 },
 "nbformat": 4,
 "nbformat_minor": 5
}