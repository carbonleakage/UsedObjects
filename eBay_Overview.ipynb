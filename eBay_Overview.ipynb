{
 "cells": [
  {
   "cell_type": "code",
   "execution_count": 1,
   "id": "reverse-picking",
   "metadata": {
    "execution": {
     "iopub.execute_input": "2021-12-06T12:30:07.857275Z",
     "iopub.status.busy": "2021-12-06T12:30:07.840584Z",
     "iopub.status.idle": "2021-12-06T12:30:08.830367Z",
     "shell.execute_reply": "2021-12-06T12:30:08.831995Z"
    },
    "papermill": {
     "duration": 1.025004,
     "end_time": "2021-12-06T12:30:08.832818",
     "exception": false,
     "start_time": "2021-12-06T12:30:07.807814",
     "status": "completed"
    },
    "tags": []
   },
   "outputs": [],
   "source": [
    "import pandas as pd\n",
    "import sqlite3"
   ]
  },
  {
   "cell_type": "code",
   "execution_count": 2,
   "id": "innovative-syndrome",
   "metadata": {
    "execution": {
     "iopub.execute_input": "2021-12-06T12:30:08.889895Z",
     "iopub.status.busy": "2021-12-06T12:30:08.886342Z",
     "iopub.status.idle": "2021-12-06T12:30:09.877732Z",
     "shell.execute_reply": "2021-12-06T12:30:09.879338Z"
    },
    "papermill": {
     "duration": 1.025372,
     "end_time": "2021-12-06T12:30:09.879821",
     "exception": false,
     "start_time": "2021-12-06T12:30:08.854449",
     "status": "completed"
    },
    "tags": []
   },
   "outputs": [],
   "source": [
    "timestamps = pd.read_sql(\"select distinct record_time from EBAY_TOP_BERLIN order by record_time desc limit 2\", sqlite3.connect(\"UsedObjects.db\"))"
   ]
  },
  {
   "cell_type": "code",
   "execution_count": 3,
   "id": "periodic-identification",
   "metadata": {
    "execution": {
     "iopub.execute_input": "2021-12-06T12:30:09.950654Z",
     "iopub.status.busy": "2021-12-06T12:30:09.948297Z",
     "iopub.status.idle": "2021-12-06T12:30:09.970053Z",
     "shell.execute_reply": "2021-12-06T12:30:09.971394Z"
    },
    "papermill": {
     "duration": 0.070387,
     "end_time": "2021-12-06T12:30:09.971867",
     "exception": false,
     "start_time": "2021-12-06T12:30:09.901480",
     "status": "completed"
    },
    "tags": []
   },
   "outputs": [
    {
     "data": {
      "text/html": [
       "<div>\n",
       "<style scoped>\n",
       "    .dataframe tbody tr th:only-of-type {\n",
       "        vertical-align: middle;\n",
       "    }\n",
       "\n",
       "    .dataframe tbody tr th {\n",
       "        vertical-align: top;\n",
       "    }\n",
       "\n",
       "    .dataframe thead th {\n",
       "        text-align: right;\n",
       "    }\n",
       "</style>\n",
       "<table border=\"1\" class=\"dataframe\">\n",
       "  <thead>\n",
       "    <tr style=\"text-align: right;\">\n",
       "      <th></th>\n",
       "      <th>RECORD_TIME</th>\n",
       "    </tr>\n",
       "  </thead>\n",
       "  <tbody>\n",
       "    <tr>\n",
       "      <th>0</th>\n",
       "      <td>2021-12-06 13:30</td>\n",
       "    </tr>\n",
       "    <tr>\n",
       "      <th>1</th>\n",
       "      <td>2021-12-06 13:00</td>\n",
       "    </tr>\n",
       "  </tbody>\n",
       "</table>\n",
       "</div>"
      ],
      "text/plain": [
       "        RECORD_TIME\n",
       "0  2021-12-06 13:30\n",
       "1  2021-12-06 13:00"
      ]
     },
     "execution_count": 3,
     "metadata": {},
     "output_type": "execute_result"
    }
   ],
   "source": [
    "timestamps"
   ]
  },
  {
   "cell_type": "code",
   "execution_count": 4,
   "id": "alternate-victory",
   "metadata": {
    "execution": {
     "iopub.execute_input": "2021-12-06T12:30:10.026490Z",
     "iopub.status.busy": "2021-12-06T12:30:10.024134Z",
     "iopub.status.idle": "2021-12-06T12:30:11.449567Z",
     "shell.execute_reply": "2021-12-06T12:30:11.450954Z"
    },
    "papermill": {
     "duration": 1.459454,
     "end_time": "2021-12-06T12:30:11.451450",
     "exception": false,
     "start_time": "2021-12-06T12:30:09.991996",
     "status": "completed"
    },
    "tags": []
   },
   "outputs": [],
   "source": [
    "df = pd.read_sql(\"select * from EBAY_TOP_BERLIN where record_time in (select distinct record_time from EBAY_TOP_BERLIN order by record_time desc limit 2)\", sqlite3.connect(\"UsedObjects.db\"))"
   ]
  },
  {
   "cell_type": "code",
   "execution_count": 5,
   "id": "popular-active",
   "metadata": {
    "execution": {
     "iopub.execute_input": "2021-12-06T12:30:11.525021Z",
     "iopub.status.busy": "2021-12-06T12:30:11.513829Z",
     "iopub.status.idle": "2021-12-06T12:30:11.544206Z",
     "shell.execute_reply": "2021-12-06T12:30:11.545691Z"
    },
    "papermill": {
     "duration": 0.074226,
     "end_time": "2021-12-06T12:30:11.546178",
     "exception": false,
     "start_time": "2021-12-06T12:30:11.471952",
     "status": "completed"
    },
    "tags": []
   },
   "outputs": [],
   "source": [
    "df_pivot = df.pivot_table(index=\"PRODUCT\", columns = \"RECORD_TIME\", values = \"LISTING_COUNT\")"
   ]
  },
  {
   "cell_type": "code",
   "execution_count": 6,
   "id": "union-huntington",
   "metadata": {
    "execution": {
     "iopub.execute_input": "2021-12-06T12:30:11.630570Z",
     "iopub.status.busy": "2021-12-06T12:30:11.626754Z",
     "iopub.status.idle": "2021-12-06T12:30:11.636977Z",
     "shell.execute_reply": "2021-12-06T12:30:11.639698Z"
    },
    "papermill": {
     "duration": 0.073688,
     "end_time": "2021-12-06T12:30:11.640531",
     "exception": false,
     "start_time": "2021-12-06T12:30:11.566843",
     "status": "completed"
    },
    "tags": []
   },
   "outputs": [],
   "source": [
    "df_pivot.columns = [\"stamp_1\", \"stamp_2\"]\n",
    "df_pivot_diff = df_pivot.diff(axis=1)"
   ]
  },
  {
   "cell_type": "code",
   "execution_count": 7,
   "id": "fifth-motion",
   "metadata": {
    "execution": {
     "iopub.execute_input": "2021-12-06T12:30:11.726831Z",
     "iopub.status.busy": "2021-12-06T12:30:11.722212Z",
     "iopub.status.idle": "2021-12-06T12:30:13.580287Z",
     "shell.execute_reply": "2021-12-06T12:30:13.581933Z"
    },
    "papermill": {
     "duration": 1.910267,
     "end_time": "2021-12-06T12:30:13.582514",
     "exception": false,
     "start_time": "2021-12-06T12:30:11.672247",
     "status": "completed"
    },
    "tags": []
   },
   "outputs": [
    {
     "data": {
      "text/plain": [
       "<AxesSubplot:ylabel='PRODUCT'>"
      ]
     },
     "execution_count": 7,
     "metadata": {},
     "output_type": "execute_result"
    },
    {
     "data": {
      "image/png": "[encoded data removed]",
      "text/plain": [
       "<Figure size 432x288 with 1 Axes>"
      ]
     },
     "metadata": {
      "needs_background": "light"
     },
     "output_type": "display_data"
    }
   ],
   "source": [
    "df_pivot_diff.sort_values(\"stamp_2\", ascending = False)[\"stamp_2\"].head(10).plot.barh()"
   ]
  },
  {
   "cell_type": "code",
   "execution_count": null,
   "id": "extra-executive",
   "metadata": {
    "papermill": {
     "duration": 0.021905,
     "end_time": "2021-12-06T12:30:13.628444",
     "exception": false,
     "start_time": "2021-12-06T12:30:13.606539",
     "status": "completed"
    },
    "tags": []
   },
   "outputs": [],
   "source": []
  }
 ],
 "metadata": {
  "kernelspec": {
   "display_name": "Python 3",
   "language": "python",
   "name": "python3"
  },
  "language_info": {
   "codemirror_mode": {
    "name": "ipython",
    "version": 3
   },
   "file_extension": ".py",
   "mimetype": "text/x-python",
   "name": "python",
   "nbconvert_exporter": "python",
   "pygments_lexer": "ipython3",
   "version": "3.9.5"
  },
  "papermill": {
   "default_parameters": {},
   "duration": 9.955007,
   "end_time": "2021-12-06T12:30:15.016176",
   "environment_variables": {},
   "exception": null,
   "input_path": "eBay_Overview.ipynb",
   "output_path": "eBay_Overview.ipynb",
   "parameters": {},
   "start_time": "2021-12-06T12:30:05.061169",
   "version": "2.3.3"
  }
 },
 "nbformat": 4,
 "nbformat_minor": 5
}