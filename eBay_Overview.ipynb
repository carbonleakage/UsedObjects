{
 "cells": [
  {
   "cell_type": "code",
   "execution_count": 1,
   "id": "reverse-picking",
   "metadata": {
    "execution": {
     "iopub.execute_input": "2021-08-22T01:30:07.442126Z",
     "iopub.status.busy": "2021-08-22T01:30:07.440156Z",
     "iopub.status.idle": "2021-08-22T01:30:08.245352Z",
     "shell.execute_reply": "2021-08-22T01:30:08.246755Z"
    },
    "papermill": {
     "duration": 0.857677,
     "end_time": "2021-08-22T01:30:08.247434",
     "exception": false,
     "start_time": "2021-08-22T01:30:07.389757",
     "status": "completed"
    },
    "tags": []
   },
   "outputs": [],
   "source": [
    "import pandas as pd\n",
    "import sqlite3"
   ]
  },
  {
   "cell_type": "code",
   "execution_count": 2,
   "id": "innovative-syndrome",
   "metadata": {
    "execution": {
     "iopub.execute_input": "2021-08-22T01:30:08.298383Z",
     "iopub.status.busy": "2021-08-22T01:30:08.296382Z",
     "iopub.status.idle": "2021-08-22T01:30:08.395624Z",
     "shell.execute_reply": "2021-08-22T01:30:08.396805Z"
    },
    "papermill": {
     "duration": 0.129231,
     "end_time": "2021-08-22T01:30:08.397204",
     "exception": false,
     "start_time": "2021-08-22T01:30:08.267973",
     "status": "completed"
    },
    "tags": []
   },
   "outputs": [],
   "source": [
    "timestamps = pd.read_sql(\"select distinct record_time from EBAY_TOP_BERLIN order by record_time desc limit 2\", sqlite3.connect(\"UsedObjects.db\"))"
   ]
  },
  {
   "cell_type": "code",
   "execution_count": 3,
   "id": "periodic-identification",
   "metadata": {
    "execution": {
     "iopub.execute_input": "2021-08-22T01:30:08.465309Z",
     "iopub.status.busy": "2021-08-22T01:30:08.463313Z",
     "iopub.status.idle": "2021-08-22T01:30:08.482861Z",
     "shell.execute_reply": "2021-08-22T01:30:08.484249Z"
    },
    "papermill": {
     "duration": 0.065574,
     "end_time": "2021-08-22T01:30:08.484682",
     "exception": false,
     "start_time": "2021-08-22T01:30:08.419108",
     "status": "completed"
    },
    "tags": []
   },
   "outputs": [
    {
     "data": {
      "text/html": [
       "<div>\n",
       "<style scoped>\n",
       "    .dataframe tbody tr th:only-of-type {\n",
       "        vertical-align: middle;\n",
       "    }\n",
       "\n",
       "    .dataframe tbody tr th {\n",
       "        vertical-align: top;\n",
       "    }\n",
       "\n",
       "    .dataframe thead th {\n",
       "        text-align: right;\n",
       "    }\n",
       "</style>\n",
       "<table border=\"1\" class=\"dataframe\">\n",
       "  <thead>\n",
       "    <tr style=\"text-align: right;\">\n",
       "      <th></th>\n",
       "      <th>RECORD_TIME</th>\n",
       "    </tr>\n",
       "  </thead>\n",
       "  <tbody>\n",
       "    <tr>\n",
       "      <th>0</th>\n",
       "      <td>2021-08-22 03:30</td>\n",
       "    </tr>\n",
       "    <tr>\n",
       "      <th>1</th>\n",
       "      <td>2021-08-22 03:00</td>\n",
       "    </tr>\n",
       "  </tbody>\n",
       "</table>\n",
       "</div>"
      ],
      "text/plain": [
       "        RECORD_TIME\n",
       "0  2021-08-22 03:30\n",
       "1  2021-08-22 03:00"
      ]
     },
     "execution_count": 3,
     "metadata": {},
     "output_type": "execute_result"
    }
   ],
   "source": [
    "timestamps"
   ]
  },
  {
   "cell_type": "code",
   "execution_count": 4,
   "id": "alternate-victory",
   "metadata": {
    "execution": {
     "iopub.execute_input": "2021-08-22T01:30:08.537609Z",
     "iopub.status.busy": "2021-08-22T01:30:08.535631Z",
     "iopub.status.idle": "2021-08-22T01:30:08.689700Z",
     "shell.execute_reply": "2021-08-22T01:30:08.691127Z"
    },
    "papermill": {
     "duration": 0.185196,
     "end_time": "2021-08-22T01:30:08.691561",
     "exception": false,
     "start_time": "2021-08-22T01:30:08.506365",
     "status": "completed"
    },
    "tags": []
   },
   "outputs": [],
   "source": [
    "df = pd.read_sql(\"select * from EBAY_TOP_BERLIN where record_time in (select distinct record_time from EBAY_TOP_BERLIN order by record_time desc limit 2)\", sqlite3.connect(\"UsedObjects.db\"))"
   ]
  },
  {
   "cell_type": "code",
   "execution_count": 5,
   "id": "popular-active",
   "metadata": {
    "execution": {
     "iopub.execute_input": "2021-08-22T01:30:08.760262Z",
     "iopub.status.busy": "2021-08-22T01:30:08.748876Z",
     "iopub.status.idle": "2021-08-22T01:30:08.777147Z",
     "shell.execute_reply": "2021-08-22T01:30:08.775853Z"
    },
    "papermill": {
     "duration": 0.065379,
     "end_time": "2021-08-22T01:30:08.777483",
     "exception": false,
     "start_time": "2021-08-22T01:30:08.712104",
     "status": "completed"
    },
    "tags": []
   },
   "outputs": [],
   "source": [
    "df_pivot = df.pivot_table(index=\"PRODUCT\", columns = \"RECORD_TIME\", values = \"LISTING_COUNT\")"
   ]
  },
  {
   "cell_type": "code",
   "execution_count": 6,
   "id": "union-huntington",
   "metadata": {
    "execution": {
     "iopub.execute_input": "2021-08-22T01:30:08.837392Z",
     "iopub.status.busy": "2021-08-22T01:30:08.834984Z",
     "iopub.status.idle": "2021-08-22T01:30:08.840739Z",
     "shell.execute_reply": "2021-08-22T01:30:08.842072Z"
    },
    "papermill": {
     "duration": 0.042295,
     "end_time": "2021-08-22T01:30:08.842497",
     "exception": false,
     "start_time": "2021-08-22T01:30:08.800202",
     "status": "completed"
    },
    "tags": []
   },
   "outputs": [],
   "source": [
    "df_pivot.columns = [\"stamp_1\", \"stamp_2\"]\n",
    "df_pivot_diff = df_pivot.diff(axis=1)"
   ]
  },
  {
   "cell_type": "code",
   "execution_count": 7,
   "id": "fifth-motion",
   "metadata": {
    "execution": {
     "iopub.execute_input": "2021-08-22T01:30:08.905474Z",
     "iopub.status.busy": "2021-08-22T01:30:08.902639Z",
     "iopub.status.idle": "2021-08-22T01:30:10.369615Z",
     "shell.execute_reply": "2021-08-22T01:30:10.370971Z"
    },
    "papermill": {
     "duration": 1.503688,
     "end_time": "2021-08-22T01:30:10.371394",
     "exception": false,
     "start_time": "2021-08-22T01:30:08.867706",
     "status": "completed"
    },
    "tags": []
   },
   "outputs": [
    {
     "data": {
      "text/plain": [
       "<AxesSubplot:ylabel='PRODUCT'>"
      ]
     },
     "execution_count": 7,
     "metadata": {},
     "output_type": "execute_result"
    },
    {
     "data": {
      "image/png": "[encoded data removed]",
      "text/plain": [
       "<Figure size 432x288 with 1 Axes>"
      ]
     },
     "metadata": {
      "needs_background": "light"
     },
     "output_type": "display_data"
    }
   ],
   "source": [
    "df_pivot_diff.sort_values(\"stamp_2\", ascending = False)[\"stamp_2\"].head(10).plot.barh()"
   ]
  },
  {
   "cell_type": "code",
   "execution_count": null,
   "id": "extra-executive",
   "metadata": {
    "papermill": {
     "duration": 0.022339,
     "end_time": "2021-08-22T01:30:10.418533",
     "exception": false,
     "start_time": "2021-08-22T01:30:10.396194",
     "status": "completed"
    },
    "tags": []
   },
   "outputs": [],
   "source": []
  }
 ],
 "metadata": {
  "kernelspec": {
   "display_name": "Python 3",
   "language": "python",
   "name": "python3"
  },
  "language_info": {
   "codemirror_mode": {
    "name": "ipython",
    "version": 3
   },
   "file_extension": ".py",
   "mimetype": "text/x-python",
   "name": "python",
   "nbconvert_exporter": "python",
   "pygments_lexer": "ipython3",
   "version": "3.9.5"
  },
  "papermill": {
   "default_parameters": {},
   "duration": 6.82215,
   "end_time": "2021-08-22T01:30:11.803922",
   "environment_variables": {},
   "exception": null,
   "input_path": "eBay_Overview.ipynb",
   "output_path": "eBay_Overview.ipynb",
   "parameters": {},
   "start_time": "2021-08-22T01:30:04.981772",
   "version": "2.3.3"
  }
 },
 "nbformat": 4,
 "nbformat_minor": 5
}