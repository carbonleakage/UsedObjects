{
 "cells": [
  {
   "cell_type": "code",
   "execution_count": 1,
   "id": "reverse-picking",
   "metadata": {
    "execution": {
     "iopub.execute_input": "2021-11-06T15:30:08.241577Z",
     "iopub.status.busy": "2021-11-06T15:30:08.239261Z",
     "iopub.status.idle": "2021-11-06T15:30:09.185407Z",
     "shell.execute_reply": "2021-11-06T15:30:09.187078Z"
    },
    "papermill": {
     "duration": 0.996193,
     "end_time": "2021-11-06T15:30:09.187809",
     "exception": false,
     "start_time": "2021-11-06T15:30:08.191616",
     "status": "completed"
    },
    "tags": []
   },
   "outputs": [],
   "source": [
    "import pandas as pd\n",
    "import sqlite3"
   ]
  },
  {
   "cell_type": "code",
   "execution_count": 2,
   "id": "innovative-syndrome",
   "metadata": {
    "execution": {
     "iopub.execute_input": "2021-11-06T15:30:09.249958Z",
     "iopub.status.busy": "2021-11-06T15:30:09.247661Z",
     "iopub.status.idle": "2021-11-06T15:30:09.991138Z",
     "shell.execute_reply": "2021-11-06T15:30:09.992831Z"
    },
    "papermill": {
     "duration": 0.78018,
     "end_time": "2021-11-06T15:30:09.993357",
     "exception": false,
     "start_time": "2021-11-06T15:30:09.213177",
     "status": "completed"
    },
    "tags": []
   },
   "outputs": [],
   "source": [
    "timestamps = pd.read_sql(\"select distinct record_time from EBAY_TOP_BERLIN order by record_time desc limit 2\", sqlite3.connect(\"UsedObjects.db\"))"
   ]
  },
  {
   "cell_type": "code",
   "execution_count": 3,
   "id": "periodic-identification",
   "metadata": {
    "execution": {
     "iopub.execute_input": "2021-11-06T15:30:10.069506Z",
     "iopub.status.busy": "2021-11-06T15:30:10.062155Z",
     "iopub.status.idle": "2021-11-06T15:30:10.086057Z",
     "shell.execute_reply": "2021-11-06T15:30:10.087505Z"
    },
    "papermill": {
     "duration": 0.073968,
     "end_time": "2021-11-06T15:30:10.087985",
     "exception": false,
     "start_time": "2021-11-06T15:30:10.014017",
     "status": "completed"
    },
    "tags": []
   },
   "outputs": [
    {
     "data": {
      "text/html": [
       "<div>\n",
       "<style scoped>\n",
       "    .dataframe tbody tr th:only-of-type {\n",
       "        vertical-align: middle;\n",
       "    }\n",
       "\n",
       "    .dataframe tbody tr th {\n",
       "        vertical-align: top;\n",
       "    }\n",
       "\n",
       "    .dataframe thead th {\n",
       "        text-align: right;\n",
       "    }\n",
       "</style>\n",
       "<table border=\"1\" class=\"dataframe\">\n",
       "  <thead>\n",
       "    <tr style=\"text-align: right;\">\n",
       "      <th></th>\n",
       "      <th>RECORD_TIME</th>\n",
       "    </tr>\n",
       "  </thead>\n",
       "  <tbody>\n",
       "    <tr>\n",
       "      <th>0</th>\n",
       "      <td>2021-11-06 16:30</td>\n",
       "    </tr>\n",
       "    <tr>\n",
       "      <th>1</th>\n",
       "      <td>2021-11-06 16:00</td>\n",
       "    </tr>\n",
       "  </tbody>\n",
       "</table>\n",
       "</div>"
      ],
      "text/plain": [
       "        RECORD_TIME\n",
       "0  2021-11-06 16:30\n",
       "1  2021-11-06 16:00"
      ]
     },
     "execution_count": 3,
     "metadata": {},
     "output_type": "execute_result"
    }
   ],
   "source": [
    "timestamps"
   ]
  },
  {
   "cell_type": "code",
   "execution_count": 4,
   "id": "alternate-victory",
   "metadata": {
    "execution": {
     "iopub.execute_input": "2021-11-06T15:30:10.143832Z",
     "iopub.status.busy": "2021-11-06T15:30:10.141654Z",
     "iopub.status.idle": "2021-11-06T15:30:11.205540Z",
     "shell.execute_reply": "2021-11-06T15:30:11.207736Z"
    },
    "papermill": {
     "duration": 1.098956,
     "end_time": "2021-11-06T15:30:11.208224",
     "exception": false,
     "start_time": "2021-11-06T15:30:10.109268",
     "status": "completed"
    },
    "tags": []
   },
   "outputs": [],
   "source": [
    "df = pd.read_sql(\"select * from EBAY_TOP_BERLIN where record_time in (select distinct record_time from EBAY_TOP_BERLIN order by record_time desc limit 2)\", sqlite3.connect(\"UsedObjects.db\"))"
   ]
  },
  {
   "cell_type": "code",
   "execution_count": 5,
   "id": "popular-active",
   "metadata": {
    "execution": {
     "iopub.execute_input": "2021-11-06T15:30:11.287284Z",
     "iopub.status.busy": "2021-11-06T15:30:11.273924Z",
     "iopub.status.idle": "2021-11-06T15:30:11.307675Z",
     "shell.execute_reply": "2021-11-06T15:30:11.309292Z"
    },
    "papermill": {
     "duration": 0.078683,
     "end_time": "2021-11-06T15:30:11.309804",
     "exception": false,
     "start_time": "2021-11-06T15:30:11.231121",
     "status": "completed"
    },
    "tags": []
   },
   "outputs": [],
   "source": [
    "df_pivot = df.pivot_table(index=\"PRODUCT\", columns = \"RECORD_TIME\", values = \"LISTING_COUNT\")"
   ]
  },
  {
   "cell_type": "code",
   "execution_count": 6,
   "id": "union-huntington",
   "metadata": {
    "execution": {
     "iopub.execute_input": "2021-11-06T15:30:11.372291Z",
     "iopub.status.busy": "2021-11-06T15:30:11.369904Z",
     "iopub.status.idle": "2021-11-06T15:30:11.375715Z",
     "shell.execute_reply": "2021-11-06T15:30:11.377471Z"
    },
    "papermill": {
     "duration": 0.046438,
     "end_time": "2021-11-06T15:30:11.377974",
     "exception": false,
     "start_time": "2021-11-06T15:30:11.331536",
     "status": "completed"
    },
    "tags": []
   },
   "outputs": [],
   "source": [
    "df_pivot.columns = [\"stamp_1\", \"stamp_2\"]\n",
    "df_pivot_diff = df_pivot.diff(axis=1)"
   ]
  },
  {
   "cell_type": "code",
   "execution_count": 7,
   "id": "fifth-motion",
   "metadata": {
    "execution": {
     "iopub.execute_input": "2021-11-06T15:30:11.439132Z",
     "iopub.status.busy": "2021-11-06T15:30:11.436737Z",
     "iopub.status.idle": "2021-11-06T15:30:13.216775Z",
     "shell.execute_reply": "2021-11-06T15:30:13.218112Z"
    },
    "papermill": {
     "duration": 1.816072,
     "end_time": "2021-11-06T15:30:13.218585",
     "exception": false,
     "start_time": "2021-11-06T15:30:11.402513",
     "status": "completed"
    },
    "tags": []
   },
   "outputs": [
    {
     "data": {
      "text/plain": [
       "<AxesSubplot:ylabel='PRODUCT'>"
      ]
     },
     "execution_count": 7,
     "metadata": {},
     "output_type": "execute_result"
    },
    {
     "data": {
      "image/png": "[encoded data removed]",
      "text/plain": [
       "<Figure size 432x288 with 1 Axes>"
      ]
     },
     "metadata": {
      "needs_background": "light"
     },
     "output_type": "display_data"
    }
   ],
   "source": [
    "df_pivot_diff.sort_values(\"stamp_2\", ascending = False)[\"stamp_2\"].head(10).plot.barh()"
   ]
  },
  {
   "cell_type": "code",
   "execution_count": null,
   "id": "extra-executive",
   "metadata": {
    "papermill": {
     "duration": 0.023322,
     "end_time": "2021-11-06T15:30:13.267575",
     "exception": false,
     "start_time": "2021-11-06T15:30:13.244253",
     "status": "completed"
    },
    "tags": []
   },
   "outputs": [],
   "source": []
  }
 ],
 "metadata": {
  "kernelspec": {
   "display_name": "Python 3",
   "language": "python",
   "name": "python3"
  },
  "language_info": {
   "codemirror_mode": {
    "name": "ipython",
    "version": 3
   },
   "file_extension": ".py",
   "mimetype": "text/x-python",
   "name": "python",
   "nbconvert_exporter": "python",
   "pygments_lexer": "ipython3",
   "version": "3.9.5"
  },
  "papermill": {
   "default_parameters": {},
   "duration": 8.823759,
   "end_time": "2021-11-06T15:30:14.178676",
   "environment_variables": {},
   "exception": null,
   "input_path": "eBay_Overview.ipynb",
   "output_path": "eBay_Overview.ipynb",
   "parameters": {},
   "start_time": "2021-11-06T15:30:05.354917",
   "version": "2.3.3"
  }
 },
 "nbformat": 4,
 "nbformat_minor": 5
}