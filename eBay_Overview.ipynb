{
 "cells": [
  {
   "cell_type": "code",
   "execution_count": 1,
   "id": "reverse-picking",
   "metadata": {
    "execution": {
     "iopub.execute_input": "2021-10-11T10:00:07.598550Z",
     "iopub.status.busy": "2021-10-11T10:00:07.596517Z",
     "iopub.status.idle": "2021-10-11T10:00:08.399621Z",
     "shell.execute_reply": "2021-10-11T10:00:08.401007Z"
    },
    "papermill": {
     "duration": 0.849089,
     "end_time": "2021-10-11T10:00:08.401642",
     "exception": false,
     "start_time": "2021-10-11T10:00:07.552553",
     "status": "completed"
    },
    "tags": []
   },
   "outputs": [],
   "source": [
    "import pandas as pd\n",
    "import sqlite3"
   ]
  },
  {
   "cell_type": "code",
   "execution_count": 2,
   "id": "innovative-syndrome",
   "metadata": {
    "execution": {
     "iopub.execute_input": "2021-10-11T10:00:08.451689Z",
     "iopub.status.busy": "2021-10-11T10:00:08.449804Z",
     "iopub.status.idle": "2021-10-11T10:00:08.950986Z",
     "shell.execute_reply": "2021-10-11T10:00:08.952192Z"
    },
    "papermill": {
     "duration": 0.530561,
     "end_time": "2021-10-11T10:00:08.952581",
     "exception": false,
     "start_time": "2021-10-11T10:00:08.422020",
     "status": "completed"
    },
    "tags": []
   },
   "outputs": [],
   "source": [
    "timestamps = pd.read_sql(\"select distinct record_time from EBAY_TOP_BERLIN order by record_time desc limit 2\", sqlite3.connect(\"UsedObjects.db\"))"
   ]
  },
  {
   "cell_type": "code",
   "execution_count": 3,
   "id": "periodic-identification",
   "metadata": {
    "execution": {
     "iopub.execute_input": "2021-10-11T10:00:09.017074Z",
     "iopub.status.busy": "2021-10-11T10:00:09.014958Z",
     "iopub.status.idle": "2021-10-11T10:00:09.034778Z",
     "shell.execute_reply": "2021-10-11T10:00:09.036000Z"
    },
    "papermill": {
     "duration": 0.062967,
     "end_time": "2021-10-11T10:00:09.036385",
     "exception": false,
     "start_time": "2021-10-11T10:00:08.973418",
     "status": "completed"
    },
    "tags": []
   },
   "outputs": [
    {
     "data": {
      "text/html": [
       "<div>\n",
       "<style scoped>\n",
       "    .dataframe tbody tr th:only-of-type {\n",
       "        vertical-align: middle;\n",
       "    }\n",
       "\n",
       "    .dataframe tbody tr th {\n",
       "        vertical-align: top;\n",
       "    }\n",
       "\n",
       "    .dataframe thead th {\n",
       "        text-align: right;\n",
       "    }\n",
       "</style>\n",
       "<table border=\"1\" class=\"dataframe\">\n",
       "  <thead>\n",
       "    <tr style=\"text-align: right;\">\n",
       "      <th></th>\n",
       "      <th>RECORD_TIME</th>\n",
       "    </tr>\n",
       "  </thead>\n",
       "  <tbody>\n",
       "    <tr>\n",
       "      <th>0</th>\n",
       "      <td>2021-10-11 12:00</td>\n",
       "    </tr>\n",
       "    <tr>\n",
       "      <th>1</th>\n",
       "      <td>2021-10-11 11:30</td>\n",
       "    </tr>\n",
       "  </tbody>\n",
       "</table>\n",
       "</div>"
      ],
      "text/plain": [
       "        RECORD_TIME\n",
       "0  2021-10-11 12:00\n",
       "1  2021-10-11 11:30"
      ]
     },
     "execution_count": 3,
     "metadata": {},
     "output_type": "execute_result"
    }
   ],
   "source": [
    "timestamps"
   ]
  },
  {
   "cell_type": "code",
   "execution_count": 4,
   "id": "alternate-victory",
   "metadata": {
    "execution": {
     "iopub.execute_input": "2021-10-11T10:00:09.095834Z",
     "iopub.status.busy": "2021-10-11T10:00:09.094006Z",
     "iopub.status.idle": "2021-10-11T10:00:09.841654Z",
     "shell.execute_reply": "2021-10-11T10:00:09.843049Z"
    },
    "papermill": {
     "duration": 0.77981,
     "end_time": "2021-10-11T10:00:09.843478",
     "exception": false,
     "start_time": "2021-10-11T10:00:09.063668",
     "status": "completed"
    },
    "tags": []
   },
   "outputs": [],
   "source": [
    "df = pd.read_sql(\"select * from EBAY_TOP_BERLIN where record_time in (select distinct record_time from EBAY_TOP_BERLIN order by record_time desc limit 2)\", sqlite3.connect(\"UsedObjects.db\"))"
   ]
  },
  {
   "cell_type": "code",
   "execution_count": 5,
   "id": "popular-active",
   "metadata": {
    "execution": {
     "iopub.execute_input": "2021-10-11T10:00:09.914628Z",
     "iopub.status.busy": "2021-10-11T10:00:09.902597Z",
     "iopub.status.idle": "2021-10-11T10:00:09.931318Z",
     "shell.execute_reply": "2021-10-11T10:00:09.932858Z"
    },
    "papermill": {
     "duration": 0.069402,
     "end_time": "2021-10-11T10:00:09.933317",
     "exception": false,
     "start_time": "2021-10-11T10:00:09.863915",
     "status": "completed"
    },
    "tags": []
   },
   "outputs": [],
   "source": [
    "df_pivot = df.pivot_table(index=\"PRODUCT\", columns = \"RECORD_TIME\", values = \"LISTING_COUNT\")"
   ]
  },
  {
   "cell_type": "code",
   "execution_count": 6,
   "id": "union-huntington",
   "metadata": {
    "execution": {
     "iopub.execute_input": "2021-10-11T10:00:09.992569Z",
     "iopub.status.busy": "2021-10-11T10:00:09.990120Z",
     "iopub.status.idle": "2021-10-11T10:00:09.995983Z",
     "shell.execute_reply": "2021-10-11T10:00:09.997407Z"
    },
    "papermill": {
     "duration": 0.042629,
     "end_time": "2021-10-11T10:00:09.997844",
     "exception": false,
     "start_time": "2021-10-11T10:00:09.955215",
     "status": "completed"
    },
    "tags": []
   },
   "outputs": [],
   "source": [
    "df_pivot.columns = [\"stamp_1\", \"stamp_2\"]\n",
    "df_pivot_diff = df_pivot.diff(axis=1)"
   ]
  },
  {
   "cell_type": "code",
   "execution_count": 7,
   "id": "fifth-motion",
   "metadata": {
    "execution": {
     "iopub.execute_input": "2021-10-11T10:00:10.051704Z",
     "iopub.status.busy": "2021-10-11T10:00:10.049423Z",
     "iopub.status.idle": "2021-10-11T10:00:11.549338Z",
     "shell.execute_reply": "2021-10-11T10:00:11.550646Z"
    },
    "papermill": {
     "duration": 1.532923,
     "end_time": "2021-10-11T10:00:11.551054",
     "exception": false,
     "start_time": "2021-10-11T10:00:10.018131",
     "status": "completed"
    },
    "tags": []
   },
   "outputs": [
    {
     "data": {
      "text/plain": [
       "<AxesSubplot:ylabel='PRODUCT'>"
      ]
     },
     "execution_count": 7,
     "metadata": {},
     "output_type": "execute_result"
    },
    {
     "data": {
      "image/png": "[encoded data removed]",
      "text/plain": [
       "<Figure size 432x288 with 1 Axes>"
      ]
     },
     "metadata": {
      "needs_background": "light"
     },
     "output_type": "display_data"
    }
   ],
   "source": [
    "df_pivot_diff.sort_values(\"stamp_2\", ascending = False)[\"stamp_2\"].head(10).plot.barh()"
   ]
  },
  {
   "cell_type": "code",
   "execution_count": null,
   "id": "extra-executive",
   "metadata": {
    "papermill": {
     "duration": 0.021892,
     "end_time": "2021-10-11T10:00:11.597214",
     "exception": false,
     "start_time": "2021-10-11T10:00:11.575322",
     "status": "completed"
    },
    "tags": []
   },
   "outputs": [],
   "source": []
  }
 ],
 "metadata": {
  "kernelspec": {
   "display_name": "Python 3",
   "language": "python",
   "name": "python3"
  },
  "language_info": {
   "codemirror_mode": {
    "name": "ipython",
    "version": 3
   },
   "file_extension": ".py",
   "mimetype": "text/x-python",
   "name": "python",
   "nbconvert_exporter": "python",
   "pygments_lexer": "ipython3",
   "version": "3.9.5"
  },
  "papermill": {
   "default_parameters": {},
   "duration": 7.829826,
   "end_time": "2021-10-11T10:00:12.977624",
   "environment_variables": {},
   "exception": null,
   "input_path": "eBay_Overview.ipynb",
   "output_path": "eBay_Overview.ipynb",
   "parameters": {},
   "start_time": "2021-10-11T10:00:05.147798",
   "version": "2.3.3"
  }
 },
 "nbformat": 4,
 "nbformat_minor": 5
}