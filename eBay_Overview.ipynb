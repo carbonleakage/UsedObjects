{
 "cells": [
  {
   "cell_type": "code",
   "execution_count": 1,
   "id": "reverse-picking",
   "metadata": {
    "execution": {
     "iopub.execute_input": "2021-12-11T14:00:08.563330Z",
     "iopub.status.busy": "2021-12-11T14:00:08.561034Z",
     "iopub.status.idle": "2021-12-11T14:00:09.516081Z",
     "shell.execute_reply": "2021-12-11T14:00:09.517765Z"
    },
    "papermill": {
     "duration": 1.007697,
     "end_time": "2021-12-11T14:00:09.518534",
     "exception": false,
     "start_time": "2021-12-11T14:00:08.510837",
     "status": "completed"
    },
    "tags": []
   },
   "outputs": [],
   "source": [
    "import pandas as pd\n",
    "import sqlite3"
   ]
  },
  {
   "cell_type": "code",
   "execution_count": 2,
   "id": "innovative-syndrome",
   "metadata": {
    "execution": {
     "iopub.execute_input": "2021-12-11T14:00:09.581534Z",
     "iopub.status.busy": "2021-12-11T14:00:09.579283Z",
     "iopub.status.idle": "2021-12-11T14:00:10.637361Z",
     "shell.execute_reply": "2021-12-11T14:00:10.638525Z"
    },
    "papermill": {
     "duration": 1.092124,
     "end_time": "2021-12-11T14:00:10.638944",
     "exception": false,
     "start_time": "2021-12-11T14:00:09.546820",
     "status": "completed"
    },
    "tags": []
   },
   "outputs": [],
   "source": [
    "timestamps = pd.read_sql(\"select distinct record_time from EBAY_TOP_BERLIN order by record_time desc limit 2\", sqlite3.connect(\"UsedObjects.db\"))"
   ]
  },
  {
   "cell_type": "code",
   "execution_count": 3,
   "id": "periodic-identification",
   "metadata": {
    "execution": {
     "iopub.execute_input": "2021-12-11T14:00:10.703504Z",
     "iopub.status.busy": "2021-12-11T14:00:10.701473Z",
     "iopub.status.idle": "2021-12-11T14:00:10.723242Z",
     "shell.execute_reply": "2021-12-11T14:00:10.721440Z"
    },
    "papermill": {
     "duration": 0.064219,
     "end_time": "2021-12-11T14:00:10.723602",
     "exception": false,
     "start_time": "2021-12-11T14:00:10.659383",
     "status": "completed"
    },
    "tags": []
   },
   "outputs": [
    {
     "data": {
      "text/html": [
       "<div>\n",
       "<style scoped>\n",
       "    .dataframe tbody tr th:only-of-type {\n",
       "        vertical-align: middle;\n",
       "    }\n",
       "\n",
       "    .dataframe tbody tr th {\n",
       "        vertical-align: top;\n",
       "    }\n",
       "\n",
       "    .dataframe thead th {\n",
       "        text-align: right;\n",
       "    }\n",
       "</style>\n",
       "<table border=\"1\" class=\"dataframe\">\n",
       "  <thead>\n",
       "    <tr style=\"text-align: right;\">\n",
       "      <th></th>\n",
       "      <th>RECORD_TIME</th>\n",
       "    </tr>\n",
       "  </thead>\n",
       "  <tbody>\n",
       "    <tr>\n",
       "      <th>0</th>\n",
       "      <td>2021-12-11 15:00</td>\n",
       "    </tr>\n",
       "    <tr>\n",
       "      <th>1</th>\n",
       "      <td>2021-12-11 14:30</td>\n",
       "    </tr>\n",
       "  </tbody>\n",
       "</table>\n",
       "</div>"
      ],
      "text/plain": [
       "        RECORD_TIME\n",
       "0  2021-12-11 15:00\n",
       "1  2021-12-11 14:30"
      ]
     },
     "execution_count": 3,
     "metadata": {},
     "output_type": "execute_result"
    }
   ],
   "source": [
    "timestamps"
   ]
  },
  {
   "cell_type": "code",
   "execution_count": 4,
   "id": "alternate-victory",
   "metadata": {
    "execution": {
     "iopub.execute_input": "2021-12-11T14:00:10.775778Z",
     "iopub.status.busy": "2021-12-11T14:00:10.773480Z",
     "iopub.status.idle": "2021-12-11T14:00:12.314306Z",
     "shell.execute_reply": "2021-12-11T14:00:12.315718Z"
    },
    "papermill": {
     "duration": 1.571246,
     "end_time": "2021-12-11T14:00:12.316204",
     "exception": false,
     "start_time": "2021-12-11T14:00:10.744958",
     "status": "completed"
    },
    "tags": []
   },
   "outputs": [],
   "source": [
    "df = pd.read_sql(\"select * from EBAY_TOP_BERLIN where record_time in (select distinct record_time from EBAY_TOP_BERLIN order by record_time desc limit 2)\", sqlite3.connect(\"UsedObjects.db\"))"
   ]
  },
  {
   "cell_type": "code",
   "execution_count": 5,
   "id": "popular-active",
   "metadata": {
    "execution": {
     "iopub.execute_input": "2021-12-11T14:00:12.392262Z",
     "iopub.status.busy": "2021-12-11T14:00:12.379692Z",
     "iopub.status.idle": "2021-12-11T14:00:12.409735Z",
     "shell.execute_reply": "2021-12-11T14:00:12.411113Z"
    },
    "papermill": {
     "duration": 0.07388,
     "end_time": "2021-12-11T14:00:12.411593",
     "exception": false,
     "start_time": "2021-12-11T14:00:12.337713",
     "status": "completed"
    },
    "tags": []
   },
   "outputs": [],
   "source": [
    "df_pivot = df.pivot_table(index=\"PRODUCT\", columns = \"RECORD_TIME\", values = \"LISTING_COUNT\")"
   ]
  },
  {
   "cell_type": "code",
   "execution_count": 6,
   "id": "union-huntington",
   "metadata": {
    "execution": {
     "iopub.execute_input": "2021-12-11T14:00:12.472317Z",
     "iopub.status.busy": "2021-12-11T14:00:12.469871Z",
     "iopub.status.idle": "2021-12-11T14:00:12.476587Z",
     "shell.execute_reply": "2021-12-11T14:00:12.478627Z"
    },
    "papermill": {
     "duration": 0.047412,
     "end_time": "2021-12-11T14:00:12.479195",
     "exception": false,
     "start_time": "2021-12-11T14:00:12.431783",
     "status": "completed"
    },
    "tags": []
   },
   "outputs": [],
   "source": [
    "df_pivot.columns = [\"stamp_1\", \"stamp_2\"]\n",
    "df_pivot_diff = df_pivot.diff(axis=1)"
   ]
  },
  {
   "cell_type": "code",
   "execution_count": 7,
   "id": "fifth-motion",
   "metadata": {
    "execution": {
     "iopub.execute_input": "2021-12-11T14:00:12.536465Z",
     "iopub.status.busy": "2021-12-11T14:00:12.534016Z",
     "iopub.status.idle": "2021-12-11T14:00:14.556263Z",
     "shell.execute_reply": "2021-12-11T14:00:14.557762Z"
    },
    "papermill": {
     "duration": 2.058177,
     "end_time": "2021-12-11T14:00:14.558232",
     "exception": false,
     "start_time": "2021-12-11T14:00:12.500055",
     "status": "completed"
    },
    "tags": []
   },
   "outputs": [
    {
     "data": {
      "text/plain": [
       "<AxesSubplot:ylabel='PRODUCT'>"
      ]
     },
     "execution_count": 7,
     "metadata": {},
     "output_type": "execute_result"
    },
    {
     "data": {
      "image/png": "[encoded data removed]",
      "text/plain": [
       "<Figure size 432x288 with 1 Axes>"
      ]
     },
     "metadata": {
      "needs_background": "light"
     },
     "output_type": "display_data"
    }
   ],
   "source": [
    "df_pivot_diff.sort_values(\"stamp_2\", ascending = False)[\"stamp_2\"].head(10).plot.barh()"
   ]
  },
  {
   "cell_type": "code",
   "execution_count": null,
   "id": "extra-executive",
   "metadata": {
    "papermill": {
     "duration": 0.026598,
     "end_time": "2021-12-11T14:00:14.617742",
     "exception": false,
     "start_time": "2021-12-11T14:00:14.591144",
     "status": "completed"
    },
    "tags": []
   },
   "outputs": [],
   "source": []
  }
 ],
 "metadata": {
  "kernelspec": {
   "display_name": "Python 3",
   "language": "python",
   "name": "python3"
  },
  "language_info": {
   "codemirror_mode": {
    "name": "ipython",
    "version": 3
   },
   "file_extension": ".py",
   "mimetype": "text/x-python",
   "name": "python",
   "nbconvert_exporter": "python",
   "pygments_lexer": "ipython3",
   "version": "3.9.5"
  },
  "papermill": {
   "default_parameters": {},
   "duration": 9.471865,
   "end_time": "2021-12-11T14:00:15.260365",
   "environment_variables": {},
   "exception": null,
   "input_path": "eBay_Overview.ipynb",
   "output_path": "eBay_Overview.ipynb",
   "parameters": {},
   "start_time": "2021-12-11T14:00:05.788500",
   "version": "2.3.3"
  }
 },
 "nbformat": 4,
 "nbformat_minor": 5
}