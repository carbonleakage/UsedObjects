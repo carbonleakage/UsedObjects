{
 "cells": [
  {
   "cell_type": "code",
   "execution_count": 1,
   "id": "reverse-picking",
   "metadata": {
    "execution": {
     "iopub.execute_input": "2021-08-15T12:00:07.096197Z",
     "iopub.status.busy": "2021-08-15T12:00:07.094260Z",
     "iopub.status.idle": "2021-08-15T12:00:07.902898Z",
     "shell.execute_reply": "2021-08-15T12:00:07.904334Z"
    },
    "papermill": {
     "duration": 0.862409,
     "end_time": "2021-08-15T12:00:07.905017",
     "exception": false,
     "start_time": "2021-08-15T12:00:07.042608",
     "status": "completed"
    },
    "tags": []
   },
   "outputs": [],
   "source": [
    "import pandas as pd\n",
    "import sqlite3"
   ]
  },
  {
   "cell_type": "code",
   "execution_count": 2,
   "id": "innovative-syndrome",
   "metadata": {
    "execution": {
     "iopub.execute_input": "2021-08-15T12:00:07.957022Z",
     "iopub.status.busy": "2021-08-15T12:00:07.954731Z",
     "iopub.status.idle": "2021-08-15T12:00:08.010571Z",
     "shell.execute_reply": "2021-08-15T12:00:08.011931Z"
    },
    "papermill": {
     "duration": 0.086287,
     "end_time": "2021-08-15T12:00:08.012365",
     "exception": false,
     "start_time": "2021-08-15T12:00:07.926078",
     "status": "completed"
    },
    "tags": []
   },
   "outputs": [],
   "source": [
    "timestamps = pd.read_sql(\"select distinct record_time from EBAY_TOP_BERLIN order by record_time desc limit 2\", sqlite3.connect(\"UsedObjects.db\"))"
   ]
  },
  {
   "cell_type": "code",
   "execution_count": 3,
   "id": "periodic-identification",
   "metadata": {
    "execution": {
     "iopub.execute_input": "2021-08-15T12:00:08.082424Z",
     "iopub.status.busy": "2021-08-15T12:00:08.077184Z",
     "iopub.status.idle": "2021-08-15T12:00:08.097246Z",
     "shell.execute_reply": "2021-08-15T12:00:08.098716Z"
    },
    "papermill": {
     "duration": 0.067042,
     "end_time": "2021-08-15T12:00:08.099174",
     "exception": false,
     "start_time": "2021-08-15T12:00:08.032132",
     "status": "completed"
    },
    "tags": []
   },
   "outputs": [
    {
     "data": {
      "text/html": [
       "<div>\n",
       "<style scoped>\n",
       "    .dataframe tbody tr th:only-of-type {\n",
       "        vertical-align: middle;\n",
       "    }\n",
       "\n",
       "    .dataframe tbody tr th {\n",
       "        vertical-align: top;\n",
       "    }\n",
       "\n",
       "    .dataframe thead th {\n",
       "        text-align: right;\n",
       "    }\n",
       "</style>\n",
       "<table border=\"1\" class=\"dataframe\">\n",
       "  <thead>\n",
       "    <tr style=\"text-align: right;\">\n",
       "      <th></th>\n",
       "      <th>RECORD_TIME</th>\n",
       "    </tr>\n",
       "  </thead>\n",
       "  <tbody>\n",
       "    <tr>\n",
       "      <th>0</th>\n",
       "      <td>2021-08-15 14:00</td>\n",
       "    </tr>\n",
       "    <tr>\n",
       "      <th>1</th>\n",
       "      <td>2021-08-15 13:30</td>\n",
       "    </tr>\n",
       "  </tbody>\n",
       "</table>\n",
       "</div>"
      ],
      "text/plain": [
       "        RECORD_TIME\n",
       "0  2021-08-15 14:00\n",
       "1  2021-08-15 13:30"
      ]
     },
     "execution_count": 3,
     "metadata": {},
     "output_type": "execute_result"
    }
   ],
   "source": [
    "timestamps"
   ]
  },
  {
   "cell_type": "code",
   "execution_count": 4,
   "id": "alternate-victory",
   "metadata": {
    "execution": {
     "iopub.execute_input": "2021-08-15T12:00:08.150288Z",
     "iopub.status.busy": "2021-08-15T12:00:08.148288Z",
     "iopub.status.idle": "2021-08-15T12:00:08.229825Z",
     "shell.execute_reply": "2021-08-15T12:00:08.231280Z"
    },
    "papermill": {
     "duration": 0.111643,
     "end_time": "2021-08-15T12:00:08.231713",
     "exception": false,
     "start_time": "2021-08-15T12:00:08.120070",
     "status": "completed"
    },
    "tags": []
   },
   "outputs": [],
   "source": [
    "df = pd.read_sql(\"select * from EBAY_TOP_BERLIN where record_time in (select distinct record_time from EBAY_TOP_BERLIN order by record_time desc limit 2)\", sqlite3.connect(\"UsedObjects.db\"))"
   ]
  },
  {
   "cell_type": "code",
   "execution_count": 5,
   "id": "popular-active",
   "metadata": {
    "execution": {
     "iopub.execute_input": "2021-08-15T12:00:08.302772Z",
     "iopub.status.busy": "2021-08-15T12:00:08.289629Z",
     "iopub.status.idle": "2021-08-15T12:00:08.318243Z",
     "shell.execute_reply": "2021-08-15T12:00:08.319458Z"
    },
    "papermill": {
     "duration": 0.067907,
     "end_time": "2021-08-15T12:00:08.319854",
     "exception": false,
     "start_time": "2021-08-15T12:00:08.251947",
     "status": "completed"
    },
    "tags": []
   },
   "outputs": [],
   "source": [
    "df_pivot = df.pivot_table(index=\"PRODUCT\", columns = \"RECORD_TIME\", values = \"LISTING_COUNT\")"
   ]
  },
  {
   "cell_type": "code",
   "execution_count": 6,
   "id": "union-huntington",
   "metadata": {
    "execution": {
     "iopub.execute_input": "2021-08-15T12:00:08.375277Z",
     "iopub.status.busy": "2021-08-15T12:00:08.373154Z",
     "iopub.status.idle": "2021-08-15T12:00:08.378341Z",
     "shell.execute_reply": "2021-08-15T12:00:08.379620Z"
    },
    "papermill": {
     "duration": 0.039763,
     "end_time": "2021-08-15T12:00:08.380036",
     "exception": false,
     "start_time": "2021-08-15T12:00:08.340273",
     "status": "completed"
    },
    "tags": []
   },
   "outputs": [],
   "source": [
    "df_pivot.columns = [\"stamp_1\", \"stamp_2\"]\n",
    "df_pivot_diff = df_pivot.diff(axis=1)"
   ]
  },
  {
   "cell_type": "code",
   "execution_count": 7,
   "id": "fifth-motion",
   "metadata": {
    "execution": {
     "iopub.execute_input": "2021-08-15T12:00:08.434645Z",
     "iopub.status.busy": "2021-08-15T12:00:08.432039Z",
     "iopub.status.idle": "2021-08-15T12:00:09.953419Z",
     "shell.execute_reply": "2021-08-15T12:00:09.954779Z"
    },
    "papermill": {
     "duration": 1.554134,
     "end_time": "2021-08-15T12:00:09.955206",
     "exception": false,
     "start_time": "2021-08-15T12:00:08.401072",
     "status": "completed"
    },
    "tags": []
   },
   "outputs": [
    {
     "data": {
      "text/plain": [
       "<AxesSubplot:ylabel='PRODUCT'>"
      ]
     },
     "execution_count": 7,
     "metadata": {},
     "output_type": "execute_result"
    },
    {
     "data": {
      "image/png": "[encoded data removed]",
      "text/plain": [
       "<Figure size 432x288 with 1 Axes>"
      ]
     },
     "metadata": {
      "needs_background": "light"
     },
     "output_type": "display_data"
    }
   ],
   "source": [
    "df_pivot_diff.sort_values(\"stamp_2\", ascending = False)[\"stamp_2\"].head(10).plot.barh()"
   ]
  },
  {
   "cell_type": "code",
   "execution_count": null,
   "id": "extra-executive",
   "metadata": {
    "papermill": {
     "duration": 0.021979,
     "end_time": "2021-08-15T12:00:10.001168",
     "exception": false,
     "start_time": "2021-08-15T12:00:09.979189",
     "status": "completed"
    },
    "tags": []
   },
   "outputs": [],
   "source": []
  }
 ],
 "metadata": {
  "kernelspec": {
   "display_name": "Python 3",
   "language": "python",
   "name": "python3"
  },
  "language_info": {
   "codemirror_mode": {
    "name": "ipython",
    "version": 3
   },
   "file_extension": ".py",
   "mimetype": "text/x-python",
   "name": "python",
   "nbconvert_exporter": "python",
   "pygments_lexer": "ipython3",
   "version": "3.9.5"
  },
  "papermill": {
   "default_parameters": {},
   "duration": 6.828392,
   "end_time": "2021-08-15T12:00:11.454750",
   "environment_variables": {},
   "exception": null,
   "input_path": "eBay_Overview.ipynb",
   "output_path": "eBay_Overview.ipynb",
   "parameters": {},
   "start_time": "2021-08-15T12:00:04.626358",
   "version": "2.3.3"
  }
 },
 "nbformat": 4,
 "nbformat_minor": 5
}