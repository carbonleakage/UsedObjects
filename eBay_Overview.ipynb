{
 "cells": [
  {
   "cell_type": "code",
   "execution_count": 1,
   "id": "reverse-picking",
   "metadata": {
    "execution": {
     "iopub.execute_input": "2021-10-21T21:30:07.398802Z",
     "iopub.status.busy": "2021-10-21T21:30:07.396852Z",
     "iopub.status.idle": "2021-10-21T21:30:08.204940Z",
     "shell.execute_reply": "2021-10-21T21:30:08.206244Z"
    },
    "papermill": {
     "duration": 0.86146,
     "end_time": "2021-10-21T21:30:08.206859",
     "exception": false,
     "start_time": "2021-10-21T21:30:07.345399",
     "status": "completed"
    },
    "tags": []
   },
   "outputs": [],
   "source": [
    "import pandas as pd\n",
    "import sqlite3"
   ]
  },
  {
   "cell_type": "code",
   "execution_count": 2,
   "id": "innovative-syndrome",
   "metadata": {
    "execution": {
     "iopub.execute_input": "2021-10-21T21:30:08.258698Z",
     "iopub.status.busy": "2021-10-21T21:30:08.256424Z",
     "iopub.status.idle": "2021-10-21T21:30:08.854323Z",
     "shell.execute_reply": "2021-10-21T21:30:08.855533Z"
    },
    "papermill": {
     "duration": 0.627573,
     "end_time": "2021-10-21T21:30:08.855925",
     "exception": false,
     "start_time": "2021-10-21T21:30:08.228352",
     "status": "completed"
    },
    "tags": []
   },
   "outputs": [],
   "source": [
    "timestamps = pd.read_sql(\"select distinct record_time from EBAY_TOP_BERLIN order by record_time desc limit 2\", sqlite3.connect(\"UsedObjects.db\"))"
   ]
  },
  {
   "cell_type": "code",
   "execution_count": 3,
   "id": "periodic-identification",
   "metadata": {
    "execution": {
     "iopub.execute_input": "2021-10-21T21:30:08.931022Z",
     "iopub.status.busy": "2021-10-21T21:30:08.928990Z",
     "iopub.status.idle": "2021-10-21T21:30:08.948921Z",
     "shell.execute_reply": "2021-10-21T21:30:08.950075Z"
    },
    "papermill": {
     "duration": 0.068884,
     "end_time": "2021-10-21T21:30:08.950487",
     "exception": false,
     "start_time": "2021-10-21T21:30:08.881603",
     "status": "completed"
    },
    "tags": []
   },
   "outputs": [
    {
     "data": {
      "text/html": [
       "<div>\n",
       "<style scoped>\n",
       "    .dataframe tbody tr th:only-of-type {\n",
       "        vertical-align: middle;\n",
       "    }\n",
       "\n",
       "    .dataframe tbody tr th {\n",
       "        vertical-align: top;\n",
       "    }\n",
       "\n",
       "    .dataframe thead th {\n",
       "        text-align: right;\n",
       "    }\n",
       "</style>\n",
       "<table border=\"1\" class=\"dataframe\">\n",
       "  <thead>\n",
       "    <tr style=\"text-align: right;\">\n",
       "      <th></th>\n",
       "      <th>RECORD_TIME</th>\n",
       "    </tr>\n",
       "  </thead>\n",
       "  <tbody>\n",
       "    <tr>\n",
       "      <th>0</th>\n",
       "      <td>2021-10-21 23:30</td>\n",
       "    </tr>\n",
       "    <tr>\n",
       "      <th>1</th>\n",
       "      <td>2021-10-21 23:00</td>\n",
       "    </tr>\n",
       "  </tbody>\n",
       "</table>\n",
       "</div>"
      ],
      "text/plain": [
       "        RECORD_TIME\n",
       "0  2021-10-21 23:30\n",
       "1  2021-10-21 23:00"
      ]
     },
     "execution_count": 3,
     "metadata": {},
     "output_type": "execute_result"
    }
   ],
   "source": [
    "timestamps"
   ]
  },
  {
   "cell_type": "code",
   "execution_count": 4,
   "id": "alternate-victory",
   "metadata": {
    "execution": {
     "iopub.execute_input": "2021-10-21T21:30:09.001705Z",
     "iopub.status.busy": "2021-10-21T21:30:08.999736Z",
     "iopub.status.idle": "2021-10-21T21:30:09.881256Z",
     "shell.execute_reply": "2021-10-21T21:30:09.882590Z"
    },
    "papermill": {
     "duration": 0.911477,
     "end_time": "2021-10-21T21:30:09.882993",
     "exception": false,
     "start_time": "2021-10-21T21:30:08.971516",
     "status": "completed"
    },
    "tags": []
   },
   "outputs": [],
   "source": [
    "df = pd.read_sql(\"select * from EBAY_TOP_BERLIN where record_time in (select distinct record_time from EBAY_TOP_BERLIN order by record_time desc limit 2)\", sqlite3.connect(\"UsedObjects.db\"))"
   ]
  },
  {
   "cell_type": "code",
   "execution_count": 5,
   "id": "popular-active",
   "metadata": {
    "execution": {
     "iopub.execute_input": "2021-10-21T21:30:09.955002Z",
     "iopub.status.busy": "2021-10-21T21:30:09.942191Z",
     "iopub.status.idle": "2021-10-21T21:30:09.970447Z",
     "shell.execute_reply": "2021-10-21T21:30:09.971667Z"
    },
    "papermill": {
     "duration": 0.067934,
     "end_time": "2021-10-21T21:30:09.972062",
     "exception": false,
     "start_time": "2021-10-21T21:30:09.904128",
     "status": "completed"
    },
    "tags": []
   },
   "outputs": [],
   "source": [
    "df_pivot = df.pivot_table(index=\"PRODUCT\", columns = \"RECORD_TIME\", values = \"LISTING_COUNT\")"
   ]
  },
  {
   "cell_type": "code",
   "execution_count": 6,
   "id": "union-huntington",
   "metadata": {
    "execution": {
     "iopub.execute_input": "2021-10-21T21:30:10.027947Z",
     "iopub.status.busy": "2021-10-21T21:30:10.025874Z",
     "iopub.status.idle": "2021-10-21T21:30:10.031208Z",
     "shell.execute_reply": "2021-10-21T21:30:10.032402Z"
    },
    "papermill": {
     "duration": 0.039975,
     "end_time": "2021-10-21T21:30:10.032875",
     "exception": false,
     "start_time": "2021-10-21T21:30:09.992900",
     "status": "completed"
    },
    "tags": []
   },
   "outputs": [],
   "source": [
    "df_pivot.columns = [\"stamp_1\", \"stamp_2\"]\n",
    "df_pivot_diff = df_pivot.diff(axis=1)"
   ]
  },
  {
   "cell_type": "code",
   "execution_count": 7,
   "id": "fifth-motion",
   "metadata": {
    "execution": {
     "iopub.execute_input": "2021-10-21T21:30:10.086513Z",
     "iopub.status.busy": "2021-10-21T21:30:10.084043Z",
     "iopub.status.idle": "2021-10-21T21:30:11.607785Z",
     "shell.execute_reply": "2021-10-21T21:30:11.609232Z"
    },
    "papermill": {
     "duration": 1.556368,
     "end_time": "2021-10-21T21:30:11.609691",
     "exception": false,
     "start_time": "2021-10-21T21:30:10.053323",
     "status": "completed"
    },
    "tags": []
   },
   "outputs": [
    {
     "data": {
      "text/plain": [
       "<AxesSubplot:ylabel='PRODUCT'>"
      ]
     },
     "execution_count": 7,
     "metadata": {},
     "output_type": "execute_result"
    },
    {
     "data": {
      "image/png": "[encoded data removed]",
      "text/plain": [
       "<Figure size 432x288 with 1 Axes>"
      ]
     },
     "metadata": {
      "needs_background": "light"
     },
     "output_type": "display_data"
    }
   ],
   "source": [
    "df_pivot_diff.sort_values(\"stamp_2\", ascending = False)[\"stamp_2\"].head(10).plot.barh()"
   ]
  },
  {
   "cell_type": "code",
   "execution_count": null,
   "id": "extra-executive",
   "metadata": {
    "papermill": {
     "duration": 0.022217,
     "end_time": "2021-10-21T21:30:11.656821",
     "exception": false,
     "start_time": "2021-10-21T21:30:11.634604",
     "status": "completed"
    },
    "tags": []
   },
   "outputs": [],
   "source": []
  }
 ],
 "metadata": {
  "kernelspec": {
   "display_name": "Python 3",
   "language": "python",
   "name": "python3"
  },
  "language_info": {
   "codemirror_mode": {
    "name": "ipython",
    "version": 3
   },
   "file_extension": ".py",
   "mimetype": "text/x-python",
   "name": "python",
   "nbconvert_exporter": "python",
   "pygments_lexer": "ipython3",
   "version": "3.9.5"
  },
  "papermill": {
   "default_parameters": {},
   "duration": 7.367191,
   "end_time": "2021-10-21T21:30:12.299790",
   "environment_variables": {},
   "exception": null,
   "input_path": "eBay_Overview.ipynb",
   "output_path": "eBay_Overview.ipynb",
   "parameters": {},
   "start_time": "2021-10-21T21:30:04.932599",
   "version": "2.3.3"
  }
 },
 "nbformat": 4,
 "nbformat_minor": 5
}