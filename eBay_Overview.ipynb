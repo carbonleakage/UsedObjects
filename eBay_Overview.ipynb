{
 "cells": [
  {
   "cell_type": "code",
   "execution_count": 1,
   "id": "reverse-picking",
   "metadata": {
    "execution": {
     "iopub.execute_input": "2021-11-15T10:30:07.288057Z",
     "iopub.status.busy": "2021-11-15T10:30:07.285846Z",
     "iopub.status.idle": "2021-11-15T10:30:08.246563Z",
     "shell.execute_reply": "2021-11-15T10:30:08.249865Z"
    },
    "papermill": {
     "duration": 1.012842,
     "end_time": "2021-11-15T10:30:08.251266",
     "exception": false,
     "start_time": "2021-11-15T10:30:07.238424",
     "status": "completed"
    },
    "tags": []
   },
   "outputs": [],
   "source": [
    "import pandas as pd\n",
    "import sqlite3"
   ]
  },
  {
   "cell_type": "code",
   "execution_count": 2,
   "id": "innovative-syndrome",
   "metadata": {
    "execution": {
     "iopub.execute_input": "2021-11-15T10:30:08.325222Z",
     "iopub.status.busy": "2021-11-15T10:30:08.323009Z",
     "iopub.status.idle": "2021-11-15T10:30:09.146378Z",
     "shell.execute_reply": "2021-11-15T10:30:09.148675Z"
    },
    "papermill": {
     "duration": 0.859199,
     "end_time": "2021-11-15T10:30:09.149282",
     "exception": false,
     "start_time": "2021-11-15T10:30:08.290083",
     "status": "completed"
    },
    "tags": []
   },
   "outputs": [],
   "source": [
    "timestamps = pd.read_sql(\"select distinct record_time from EBAY_TOP_BERLIN order by record_time desc limit 2\", sqlite3.connect(\"UsedObjects.db\"))"
   ]
  },
  {
   "cell_type": "code",
   "execution_count": 3,
   "id": "periodic-identification",
   "metadata": {
    "execution": {
     "iopub.execute_input": "2021-11-15T10:30:09.219557Z",
     "iopub.status.busy": "2021-11-15T10:30:09.217507Z",
     "iopub.status.idle": "2021-11-15T10:30:09.237576Z",
     "shell.execute_reply": "2021-11-15T10:30:09.238893Z"
    },
    "papermill": {
     "duration": 0.067224,
     "end_time": "2021-11-15T10:30:09.239308",
     "exception": false,
     "start_time": "2021-11-15T10:30:09.172084",
     "status": "completed"
    },
    "tags": []
   },
   "outputs": [
    {
     "data": {
      "text/html": [
       "<div>\n",
       "<style scoped>\n",
       "    .dataframe tbody tr th:only-of-type {\n",
       "        vertical-align: middle;\n",
       "    }\n",
       "\n",
       "    .dataframe tbody tr th {\n",
       "        vertical-align: top;\n",
       "    }\n",
       "\n",
       "    .dataframe thead th {\n",
       "        text-align: right;\n",
       "    }\n",
       "</style>\n",
       "<table border=\"1\" class=\"dataframe\">\n",
       "  <thead>\n",
       "    <tr style=\"text-align: right;\">\n",
       "      <th></th>\n",
       "      <th>RECORD_TIME</th>\n",
       "    </tr>\n",
       "  </thead>\n",
       "  <tbody>\n",
       "    <tr>\n",
       "      <th>0</th>\n",
       "      <td>2021-11-15 11:30</td>\n",
       "    </tr>\n",
       "    <tr>\n",
       "      <th>1</th>\n",
       "      <td>2021-11-15 11:00</td>\n",
       "    </tr>\n",
       "  </tbody>\n",
       "</table>\n",
       "</div>"
      ],
      "text/plain": [
       "        RECORD_TIME\n",
       "0  2021-11-15 11:30\n",
       "1  2021-11-15 11:00"
      ]
     },
     "execution_count": 3,
     "metadata": {},
     "output_type": "execute_result"
    }
   ],
   "source": [
    "timestamps"
   ]
  },
  {
   "cell_type": "code",
   "execution_count": 4,
   "id": "alternate-victory",
   "metadata": {
    "execution": {
     "iopub.execute_input": "2021-11-15T10:30:09.290003Z",
     "iopub.status.busy": "2021-11-15T10:30:09.288032Z",
     "iopub.status.idle": "2021-11-15T10:30:10.489535Z",
     "shell.execute_reply": "2021-11-15T10:30:10.491253Z"
    },
    "papermill": {
     "duration": 1.231921,
     "end_time": "2021-11-15T10:30:10.491748",
     "exception": false,
     "start_time": "2021-11-15T10:30:09.259827",
     "status": "completed"
    },
    "tags": []
   },
   "outputs": [],
   "source": [
    "df = pd.read_sql(\"select * from EBAY_TOP_BERLIN where record_time in (select distinct record_time from EBAY_TOP_BERLIN order by record_time desc limit 2)\", sqlite3.connect(\"UsedObjects.db\"))"
   ]
  },
  {
   "cell_type": "code",
   "execution_count": 5,
   "id": "popular-active",
   "metadata": {
    "execution": {
     "iopub.execute_input": "2021-11-15T10:30:10.571792Z",
     "iopub.status.busy": "2021-11-15T10:30:10.557139Z",
     "iopub.status.idle": "2021-11-15T10:30:10.590642Z",
     "shell.execute_reply": "2021-11-15T10:30:10.592022Z"
    },
    "papermill": {
     "duration": 0.078705,
     "end_time": "2021-11-15T10:30:10.592497",
     "exception": false,
     "start_time": "2021-11-15T10:30:10.513792",
     "status": "completed"
    },
    "tags": []
   },
   "outputs": [],
   "source": [
    "df_pivot = df.pivot_table(index=\"PRODUCT\", columns = \"RECORD_TIME\", values = \"LISTING_COUNT\")"
   ]
  },
  {
   "cell_type": "code",
   "execution_count": 6,
   "id": "union-huntington",
   "metadata": {
    "execution": {
     "iopub.execute_input": "2021-11-15T10:30:10.652495Z",
     "iopub.status.busy": "2021-11-15T10:30:10.650262Z",
     "iopub.status.idle": "2021-11-15T10:30:10.656146Z",
     "shell.execute_reply": "2021-11-15T10:30:10.657592Z"
    },
    "papermill": {
     "duration": 0.044143,
     "end_time": "2021-11-15T10:30:10.658061",
     "exception": false,
     "start_time": "2021-11-15T10:30:10.613918",
     "status": "completed"
    },
    "tags": []
   },
   "outputs": [],
   "source": [
    "df_pivot.columns = [\"stamp_1\", \"stamp_2\"]\n",
    "df_pivot_diff = df_pivot.diff(axis=1)"
   ]
  },
  {
   "cell_type": "code",
   "execution_count": 7,
   "id": "fifth-motion",
   "metadata": {
    "execution": {
     "iopub.execute_input": "2021-11-15T10:30:10.716884Z",
     "iopub.status.busy": "2021-11-15T10:30:10.713992Z",
     "iopub.status.idle": "2021-11-15T10:30:12.735958Z",
     "shell.execute_reply": "2021-11-15T10:30:12.738650Z"
    },
    "papermill": {
     "duration": 2.061095,
     "end_time": "2021-11-15T10:30:12.739357",
     "exception": false,
     "start_time": "2021-11-15T10:30:10.678262",
     "status": "completed"
    },
    "tags": []
   },
   "outputs": [
    {
     "data": {
      "text/plain": [
       "<AxesSubplot:ylabel='PRODUCT'>"
      ]
     },
     "execution_count": 7,
     "metadata": {},
     "output_type": "execute_result"
    },
    {
     "data": {
      "image/png": "[encoded data removed]",
      "text/plain": [
       "<Figure size 432x288 with 1 Axes>"
      ]
     },
     "metadata": {
      "needs_background": "light"
     },
     "output_type": "display_data"
    }
   ],
   "source": [
    "df_pivot_diff.sort_values(\"stamp_2\", ascending = False)[\"stamp_2\"].head(10).plot.barh()"
   ]
  },
  {
   "cell_type": "code",
   "execution_count": null,
   "id": "extra-executive",
   "metadata": {
    "papermill": {
     "duration": 0.02859,
     "end_time": "2021-11-15T10:30:12.797399",
     "exception": false,
     "start_time": "2021-11-15T10:30:12.768809",
     "status": "completed"
    },
    "tags": []
   },
   "outputs": [],
   "source": []
  }
 ],
 "metadata": {
  "kernelspec": {
   "display_name": "Python 3",
   "language": "python",
   "name": "python3"
  },
  "language_info": {
   "codemirror_mode": {
    "name": "ipython",
    "version": 3
   },
   "file_extension": ".py",
   "mimetype": "text/x-python",
   "name": "python",
   "nbconvert_exporter": "python",
   "pygments_lexer": "ipython3",
   "version": "3.9.5"
  },
  "papermill": {
   "default_parameters": {},
   "duration": 9.935512,
   "end_time": "2021-11-15T10:30:14.439909",
   "environment_variables": {},
   "exception": null,
   "input_path": "eBay_Overview.ipynb",
   "output_path": "eBay_Overview.ipynb",
   "parameters": {},
   "start_time": "2021-11-15T10:30:04.504397",
   "version": "2.3.3"
  }
 },
 "nbformat": 4,
 "nbformat_minor": 5
}