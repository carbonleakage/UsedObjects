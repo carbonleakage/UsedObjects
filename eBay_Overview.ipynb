{
 "cells": [
  {
   "cell_type": "code",
   "execution_count": 1,
   "id": "reverse-picking",
   "metadata": {
    "execution": {
     "iopub.execute_input": "2021-09-01T02:30:06.585484Z",
     "iopub.status.busy": "2021-09-01T02:30:06.583548Z",
     "iopub.status.idle": "2021-09-01T02:30:07.386284Z",
     "shell.execute_reply": "2021-09-01T02:30:07.384155Z"
    },
    "papermill": {
     "duration": 0.855428,
     "end_time": "2021-09-01T02:30:07.386719",
     "exception": false,
     "start_time": "2021-09-01T02:30:06.531291",
     "status": "completed"
    },
    "tags": []
   },
   "outputs": [],
   "source": [
    "import pandas as pd\n",
    "import sqlite3"
   ]
  },
  {
   "cell_type": "code",
   "execution_count": 2,
   "id": "innovative-syndrome",
   "metadata": {
    "execution": {
     "iopub.execute_input": "2021-09-01T02:30:07.438122Z",
     "iopub.status.busy": "2021-09-01T02:30:07.436083Z",
     "iopub.status.idle": "2021-09-01T02:30:07.615565Z",
     "shell.execute_reply": "2021-09-01T02:30:07.616855Z"
    },
    "papermill": {
     "duration": 0.210013,
     "end_time": "2021-09-01T02:30:07.617258",
     "exception": false,
     "start_time": "2021-09-01T02:30:07.407245",
     "status": "completed"
    },
    "tags": []
   },
   "outputs": [],
   "source": [
    "timestamps = pd.read_sql(\"select distinct record_time from EBAY_TOP_BERLIN order by record_time desc limit 2\", sqlite3.connect(\"UsedObjects.db\"))"
   ]
  },
  {
   "cell_type": "code",
   "execution_count": 3,
   "id": "periodic-identification",
   "metadata": {
    "execution": {
     "iopub.execute_input": "2021-09-01T02:30:07.681668Z",
     "iopub.status.busy": "2021-09-01T02:30:07.679662Z",
     "iopub.status.idle": "2021-09-01T02:30:07.699771Z",
     "shell.execute_reply": "2021-09-01T02:30:07.701514Z"
    },
    "papermill": {
     "duration": 0.065268,
     "end_time": "2021-09-01T02:30:07.702053",
     "exception": false,
     "start_time": "2021-09-01T02:30:07.636785",
     "status": "completed"
    },
    "tags": []
   },
   "outputs": [
    {
     "data": {
      "text/html": [
       "<div>\n",
       "<style scoped>\n",
       "    .dataframe tbody tr th:only-of-type {\n",
       "        vertical-align: middle;\n",
       "    }\n",
       "\n",
       "    .dataframe tbody tr th {\n",
       "        vertical-align: top;\n",
       "    }\n",
       "\n",
       "    .dataframe thead th {\n",
       "        text-align: right;\n",
       "    }\n",
       "</style>\n",
       "<table border=\"1\" class=\"dataframe\">\n",
       "  <thead>\n",
       "    <tr style=\"text-align: right;\">\n",
       "      <th></th>\n",
       "      <th>RECORD_TIME</th>\n",
       "    </tr>\n",
       "  </thead>\n",
       "  <tbody>\n",
       "    <tr>\n",
       "      <th>0</th>\n",
       "      <td>2021-09-01 04:30</td>\n",
       "    </tr>\n",
       "    <tr>\n",
       "      <th>1</th>\n",
       "      <td>2021-09-01 04:00</td>\n",
       "    </tr>\n",
       "  </tbody>\n",
       "</table>\n",
       "</div>"
      ],
      "text/plain": [
       "        RECORD_TIME\n",
       "0  2021-09-01 04:30\n",
       "1  2021-09-01 04:00"
      ]
     },
     "execution_count": 3,
     "metadata": {},
     "output_type": "execute_result"
    }
   ],
   "source": [
    "timestamps"
   ]
  },
  {
   "cell_type": "code",
   "execution_count": 4,
   "id": "alternate-victory",
   "metadata": {
    "execution": {
     "iopub.execute_input": "2021-09-01T02:30:07.755039Z",
     "iopub.status.busy": "2021-09-01T02:30:07.753156Z",
     "iopub.status.idle": "2021-09-01T02:30:08.018610Z",
     "shell.execute_reply": "2021-09-01T02:30:08.020068Z"
    },
    "papermill": {
     "duration": 0.295772,
     "end_time": "2021-09-01T02:30:08.020491",
     "exception": false,
     "start_time": "2021-09-01T02:30:07.724719",
     "status": "completed"
    },
    "tags": []
   },
   "outputs": [],
   "source": [
    "df = pd.read_sql(\"select * from EBAY_TOP_BERLIN where record_time in (select distinct record_time from EBAY_TOP_BERLIN order by record_time desc limit 2)\", sqlite3.connect(\"UsedObjects.db\"))"
   ]
  },
  {
   "cell_type": "code",
   "execution_count": 5,
   "id": "popular-active",
   "metadata": {
    "execution": {
     "iopub.execute_input": "2021-09-01T02:30:08.102450Z",
     "iopub.status.busy": "2021-09-01T02:30:08.090347Z",
     "iopub.status.idle": "2021-09-01T02:30:08.118186Z",
     "shell.execute_reply": "2021-09-01T02:30:08.119549Z"
    },
    "papermill": {
     "duration": 0.072119,
     "end_time": "2021-09-01T02:30:08.119975",
     "exception": false,
     "start_time": "2021-09-01T02:30:08.047856",
     "status": "completed"
    },
    "tags": []
   },
   "outputs": [],
   "source": [
    "df_pivot = df.pivot_table(index=\"PRODUCT\", columns = \"RECORD_TIME\", values = \"LISTING_COUNT\")"
   ]
  },
  {
   "cell_type": "code",
   "execution_count": 6,
   "id": "union-huntington",
   "metadata": {
    "execution": {
     "iopub.execute_input": "2021-09-01T02:30:08.179132Z",
     "iopub.status.busy": "2021-09-01T02:30:08.176807Z",
     "iopub.status.idle": "2021-09-01T02:30:08.182629Z",
     "shell.execute_reply": "2021-09-01T02:30:08.184266Z"
    },
    "papermill": {
     "duration": 0.042148,
     "end_time": "2021-09-01T02:30:08.184755",
     "exception": false,
     "start_time": "2021-09-01T02:30:08.142607",
     "status": "completed"
    },
    "tags": []
   },
   "outputs": [],
   "source": [
    "df_pivot.columns = [\"stamp_1\", \"stamp_2\"]\n",
    "df_pivot_diff = df_pivot.diff(axis=1)"
   ]
  },
  {
   "cell_type": "code",
   "execution_count": 7,
   "id": "fifth-motion",
   "metadata": {
    "execution": {
     "iopub.execute_input": "2021-09-01T02:30:08.240250Z",
     "iopub.status.busy": "2021-09-01T02:30:08.237760Z",
     "iopub.status.idle": "2021-09-01T02:30:09.744717Z",
     "shell.execute_reply": "2021-09-01T02:30:09.746013Z"
    },
    "papermill": {
     "duration": 1.539785,
     "end_time": "2021-09-01T02:30:09.746431",
     "exception": false,
     "start_time": "2021-09-01T02:30:08.206646",
     "status": "completed"
    },
    "tags": []
   },
   "outputs": [
    {
     "data": {
      "text/plain": [
       "<AxesSubplot:ylabel='PRODUCT'>"
      ]
     },
     "execution_count": 7,
     "metadata": {},
     "output_type": "execute_result"
    },
    {
     "data": {
      "image/png": "[encoded data removed]",
      "text/plain": [
       "<Figure size 432x288 with 1 Axes>"
      ]
     },
     "metadata": {
      "needs_background": "light"
     },
     "output_type": "display_data"
    }
   ],
   "source": [
    "df_pivot_diff.sort_values(\"stamp_2\", ascending = False)[\"stamp_2\"].head(10).plot.barh()"
   ]
  },
  {
   "cell_type": "code",
   "execution_count": null,
   "id": "extra-executive",
   "metadata": {
    "papermill": {
     "duration": 0.022317,
     "end_time": "2021-09-01T02:30:09.792746",
     "exception": false,
     "start_time": "2021-09-01T02:30:09.770429",
     "status": "completed"
    },
    "tags": []
   },
   "outputs": [],
   "source": []
  }
 ],
 "metadata": {
  "kernelspec": {
   "display_name": "Python 3",
   "language": "python",
   "name": "python3"
  },
  "language_info": {
   "codemirror_mode": {
    "name": "ipython",
    "version": 3
   },
   "file_extension": ".py",
   "mimetype": "text/x-python",
   "name": "python",
   "nbconvert_exporter": "python",
   "pygments_lexer": "ipython3",
   "version": "3.9.5"
  },
  "papermill": {
   "default_parameters": {},
   "duration": 6.819648,
   "end_time": "2021-09-01T02:30:10.943567",
   "environment_variables": {},
   "exception": null,
   "input_path": "eBay_Overview.ipynb",
   "output_path": "eBay_Overview.ipynb",
   "parameters": {},
   "start_time": "2021-09-01T02:30:04.123919",
   "version": "2.3.3"
  }
 },
 "nbformat": 4,
 "nbformat_minor": 5
}