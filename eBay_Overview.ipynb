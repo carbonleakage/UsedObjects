{
 "cells": [
  {
   "cell_type": "code",
   "execution_count": 1,
   "id": "reverse-picking",
   "metadata": {
    "execution": {
     "iopub.execute_input": "2021-09-02T06:30:07.109779Z",
     "iopub.status.busy": "2021-09-02T06:30:07.107816Z",
     "iopub.status.idle": "2021-09-02T06:30:07.913016Z",
     "shell.execute_reply": "2021-09-02T06:30:07.914267Z"
    },
    "papermill": {
     "duration": 0.855947,
     "end_time": "2021-09-02T06:30:07.914953",
     "exception": false,
     "start_time": "2021-09-02T06:30:07.059006",
     "status": "completed"
    },
    "tags": []
   },
   "outputs": [],
   "source": [
    "import pandas as pd\n",
    "import sqlite3"
   ]
  },
  {
   "cell_type": "code",
   "execution_count": 2,
   "id": "innovative-syndrome",
   "metadata": {
    "execution": {
     "iopub.execute_input": "2021-09-02T06:30:07.966628Z",
     "iopub.status.busy": "2021-09-02T06:30:07.964788Z",
     "iopub.status.idle": "2021-09-02T06:30:08.151883Z",
     "shell.execute_reply": "2021-09-02T06:30:08.153088Z"
    },
    "papermill": {
     "duration": 0.216454,
     "end_time": "2021-09-02T06:30:08.153476",
     "exception": false,
     "start_time": "2021-09-02T06:30:07.937022",
     "status": "completed"
    },
    "tags": []
   },
   "outputs": [],
   "source": [
    "timestamps = pd.read_sql(\"select distinct record_time from EBAY_TOP_BERLIN order by record_time desc limit 2\", sqlite3.connect(\"UsedObjects.db\"))"
   ]
  },
  {
   "cell_type": "code",
   "execution_count": 3,
   "id": "periodic-identification",
   "metadata": {
    "execution": {
     "iopub.execute_input": "2021-09-02T06:30:08.218116Z",
     "iopub.status.busy": "2021-09-02T06:30:08.216109Z",
     "iopub.status.idle": "2021-09-02T06:30:08.235726Z",
     "shell.execute_reply": "2021-09-02T06:30:08.236965Z"
    },
    "papermill": {
     "duration": 0.063049,
     "end_time": "2021-09-02T06:30:08.237351",
     "exception": false,
     "start_time": "2021-09-02T06:30:08.174302",
     "status": "completed"
    },
    "tags": []
   },
   "outputs": [
    {
     "data": {
      "text/html": [
       "<div>\n",
       "<style scoped>\n",
       "    .dataframe tbody tr th:only-of-type {\n",
       "        vertical-align: middle;\n",
       "    }\n",
       "\n",
       "    .dataframe tbody tr th {\n",
       "        vertical-align: top;\n",
       "    }\n",
       "\n",
       "    .dataframe thead th {\n",
       "        text-align: right;\n",
       "    }\n",
       "</style>\n",
       "<table border=\"1\" class=\"dataframe\">\n",
       "  <thead>\n",
       "    <tr style=\"text-align: right;\">\n",
       "      <th></th>\n",
       "      <th>RECORD_TIME</th>\n",
       "    </tr>\n",
       "  </thead>\n",
       "  <tbody>\n",
       "    <tr>\n",
       "      <th>0</th>\n",
       "      <td>2021-09-02 08:30</td>\n",
       "    </tr>\n",
       "    <tr>\n",
       "      <th>1</th>\n",
       "      <td>2021-09-02 08:00</td>\n",
       "    </tr>\n",
       "  </tbody>\n",
       "</table>\n",
       "</div>"
      ],
      "text/plain": [
       "        RECORD_TIME\n",
       "0  2021-09-02 08:30\n",
       "1  2021-09-02 08:00"
      ]
     },
     "execution_count": 3,
     "metadata": {},
     "output_type": "execute_result"
    }
   ],
   "source": [
    "timestamps"
   ]
  },
  {
   "cell_type": "code",
   "execution_count": 4,
   "id": "alternate-victory",
   "metadata": {
    "execution": {
     "iopub.execute_input": "2021-09-02T06:30:08.289585Z",
     "iopub.status.busy": "2021-09-02T06:30:08.287310Z",
     "iopub.status.idle": "2021-09-02T06:30:08.559814Z",
     "shell.execute_reply": "2021-09-02T06:30:08.561105Z"
    },
    "papermill": {
     "duration": 0.302575,
     "end_time": "2021-09-02T06:30:08.561498",
     "exception": false,
     "start_time": "2021-09-02T06:30:08.258923",
     "status": "completed"
    },
    "tags": []
   },
   "outputs": [],
   "source": [
    "df = pd.read_sql(\"select * from EBAY_TOP_BERLIN where record_time in (select distinct record_time from EBAY_TOP_BERLIN order by record_time desc limit 2)\", sqlite3.connect(\"UsedObjects.db\"))"
   ]
  },
  {
   "cell_type": "code",
   "execution_count": 5,
   "id": "popular-active",
   "metadata": {
    "execution": {
     "iopub.execute_input": "2021-09-02T06:30:08.640687Z",
     "iopub.status.busy": "2021-09-02T06:30:08.628218Z",
     "iopub.status.idle": "2021-09-02T06:30:08.657796Z",
     "shell.execute_reply": "2021-09-02T06:30:08.659292Z"
    },
    "papermill": {
     "duration": 0.072416,
     "end_time": "2021-09-02T06:30:08.659725",
     "exception": false,
     "start_time": "2021-09-02T06:30:08.587309",
     "status": "completed"
    },
    "tags": []
   },
   "outputs": [],
   "source": [
    "df_pivot = df.pivot_table(index=\"PRODUCT\", columns = \"RECORD_TIME\", values = \"LISTING_COUNT\")"
   ]
  },
  {
   "cell_type": "code",
   "execution_count": 6,
   "id": "union-huntington",
   "metadata": {
    "execution": {
     "iopub.execute_input": "2021-09-02T06:30:08.715894Z",
     "iopub.status.busy": "2021-09-02T06:30:08.713824Z",
     "iopub.status.idle": "2021-09-02T06:30:08.719358Z",
     "shell.execute_reply": "2021-09-02T06:30:08.720573Z"
    },
    "papermill": {
     "duration": 0.040094,
     "end_time": "2021-09-02T06:30:08.720991",
     "exception": false,
     "start_time": "2021-09-02T06:30:08.680897",
     "status": "completed"
    },
    "tags": []
   },
   "outputs": [],
   "source": [
    "df_pivot.columns = [\"stamp_1\", \"stamp_2\"]\n",
    "df_pivot_diff = df_pivot.diff(axis=1)"
   ]
  },
  {
   "cell_type": "code",
   "execution_count": 7,
   "id": "fifth-motion",
   "metadata": {
    "execution": {
     "iopub.execute_input": "2021-09-02T06:30:08.775770Z",
     "iopub.status.busy": "2021-09-02T06:30:08.773171Z",
     "iopub.status.idle": "2021-09-02T06:30:10.274989Z",
     "shell.execute_reply": "2021-09-02T06:30:10.276300Z"
    },
    "papermill": {
     "duration": 1.534602,
     "end_time": "2021-09-02T06:30:10.276714",
     "exception": false,
     "start_time": "2021-09-02T06:30:08.742112",
     "status": "completed"
    },
    "tags": []
   },
   "outputs": [
    {
     "data": {
      "text/plain": [
       "<AxesSubplot:ylabel='PRODUCT'>"
      ]
     },
     "execution_count": 7,
     "metadata": {},
     "output_type": "execute_result"
    },
    {
     "data": {
      "image/png": "[encoded data removed]",
      "text/plain": [
       "<Figure size 432x288 with 1 Axes>"
      ]
     },
     "metadata": {
      "needs_background": "light"
     },
     "output_type": "display_data"
    }
   ],
   "source": [
    "df_pivot_diff.sort_values(\"stamp_2\", ascending = False)[\"stamp_2\"].head(10).plot.barh()"
   ]
  },
  {
   "cell_type": "code",
   "execution_count": null,
   "id": "extra-executive",
   "metadata": {
    "papermill": {
     "duration": 0.021871,
     "end_time": "2021-09-02T06:30:10.322142",
     "exception": false,
     "start_time": "2021-09-02T06:30:10.300271",
     "status": "completed"
    },
    "tags": []
   },
   "outputs": [],
   "source": []
  }
 ],
 "metadata": {
  "kernelspec": {
   "display_name": "Python 3",
   "language": "python",
   "name": "python3"
  },
  "language_info": {
   "codemirror_mode": {
    "name": "ipython",
    "version": 3
   },
   "file_extension": ".py",
   "mimetype": "text/x-python",
   "name": "python",
   "nbconvert_exporter": "python",
   "pygments_lexer": "ipython3",
   "version": "3.9.5"
  },
  "papermill": {
   "default_parameters": {},
   "duration": 6.823196,
   "end_time": "2021-09-02T06:30:11.479552",
   "environment_variables": {},
   "exception": null,
   "input_path": "eBay_Overview.ipynb",
   "output_path": "eBay_Overview.ipynb",
   "parameters": {},
   "start_time": "2021-09-02T06:30:04.656356",
   "version": "2.3.3"
  }
 },
 "nbformat": 4,
 "nbformat_minor": 5
}