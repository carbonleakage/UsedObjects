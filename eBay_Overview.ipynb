{
 "cells": [
  {
   "cell_type": "code",
   "execution_count": 1,
   "id": "reverse-picking",
   "metadata": {
    "execution": {
     "iopub.execute_input": "2021-10-16T17:00:06.534858Z",
     "iopub.status.busy": "2021-10-16T17:00:06.532878Z",
     "iopub.status.idle": "2021-10-16T17:00:07.343548Z",
     "shell.execute_reply": "2021-10-16T17:00:07.345118Z"
    },
    "papermill": {
     "duration": 0.863303,
     "end_time": "2021-10-16T17:00:07.345806",
     "exception": false,
     "start_time": "2021-10-16T17:00:06.482503",
     "status": "completed"
    },
    "tags": []
   },
   "outputs": [],
   "source": [
    "import pandas as pd\n",
    "import sqlite3"
   ]
  },
  {
   "cell_type": "code",
   "execution_count": 2,
   "id": "innovative-syndrome",
   "metadata": {
    "execution": {
     "iopub.execute_input": "2021-10-16T17:00:07.399111Z",
     "iopub.status.busy": "2021-10-16T17:00:07.396630Z",
     "iopub.status.idle": "2021-10-16T17:00:07.940551Z",
     "shell.execute_reply": "2021-10-16T17:00:07.941748Z"
    },
    "papermill": {
     "duration": 0.573929,
     "end_time": "2021-10-16T17:00:07.942172",
     "exception": false,
     "start_time": "2021-10-16T17:00:07.368243",
     "status": "completed"
    },
    "tags": []
   },
   "outputs": [],
   "source": [
    "timestamps = pd.read_sql(\"select distinct record_time from EBAY_TOP_BERLIN order by record_time desc limit 2\", sqlite3.connect(\"UsedObjects.db\"))"
   ]
  },
  {
   "cell_type": "code",
   "execution_count": 3,
   "id": "periodic-identification",
   "metadata": {
    "execution": {
     "iopub.execute_input": "2021-10-16T17:00:08.018488Z",
     "iopub.status.busy": "2021-10-16T17:00:08.016360Z",
     "iopub.status.idle": "2021-10-16T17:00:08.036184Z",
     "shell.execute_reply": "2021-10-16T17:00:08.037737Z"
    },
    "papermill": {
     "duration": 0.068749,
     "end_time": "2021-10-16T17:00:08.038192",
     "exception": false,
     "start_time": "2021-10-16T17:00:07.969443",
     "status": "completed"
    },
    "tags": []
   },
   "outputs": [
    {
     "data": {
      "text/html": [
       "<div>\n",
       "<style scoped>\n",
       "    .dataframe tbody tr th:only-of-type {\n",
       "        vertical-align: middle;\n",
       "    }\n",
       "\n",
       "    .dataframe tbody tr th {\n",
       "        vertical-align: top;\n",
       "    }\n",
       "\n",
       "    .dataframe thead th {\n",
       "        text-align: right;\n",
       "    }\n",
       "</style>\n",
       "<table border=\"1\" class=\"dataframe\">\n",
       "  <thead>\n",
       "    <tr style=\"text-align: right;\">\n",
       "      <th></th>\n",
       "      <th>RECORD_TIME</th>\n",
       "    </tr>\n",
       "  </thead>\n",
       "  <tbody>\n",
       "    <tr>\n",
       "      <th>0</th>\n",
       "      <td>2021-10-16 19:00</td>\n",
       "    </tr>\n",
       "    <tr>\n",
       "      <th>1</th>\n",
       "      <td>2021-10-16 18:30</td>\n",
       "    </tr>\n",
       "  </tbody>\n",
       "</table>\n",
       "</div>"
      ],
      "text/plain": [
       "        RECORD_TIME\n",
       "0  2021-10-16 19:00\n",
       "1  2021-10-16 18:30"
      ]
     },
     "execution_count": 3,
     "metadata": {},
     "output_type": "execute_result"
    }
   ],
   "source": [
    "timestamps"
   ]
  },
  {
   "cell_type": "code",
   "execution_count": 4,
   "id": "alternate-victory",
   "metadata": {
    "execution": {
     "iopub.execute_input": "2021-10-16T17:00:08.092336Z",
     "iopub.status.busy": "2021-10-16T17:00:08.090326Z",
     "iopub.status.idle": "2021-10-16T17:00:08.903152Z",
     "shell.execute_reply": "2021-10-16T17:00:08.904449Z"
    },
    "papermill": {
     "duration": 0.843655,
     "end_time": "2021-10-16T17:00:08.904941",
     "exception": false,
     "start_time": "2021-10-16T17:00:08.061286",
     "status": "completed"
    },
    "tags": []
   },
   "outputs": [],
   "source": [
    "df = pd.read_sql(\"select * from EBAY_TOP_BERLIN where record_time in (select distinct record_time from EBAY_TOP_BERLIN order by record_time desc limit 2)\", sqlite3.connect(\"UsedObjects.db\"))"
   ]
  },
  {
   "cell_type": "code",
   "execution_count": 5,
   "id": "popular-active",
   "metadata": {
    "execution": {
     "iopub.execute_input": "2021-10-16T17:00:08.977728Z",
     "iopub.status.busy": "2021-10-16T17:00:08.966238Z",
     "iopub.status.idle": "2021-10-16T17:00:08.993331Z",
     "shell.execute_reply": "2021-10-16T17:00:08.994557Z"
    },
    "papermill": {
     "duration": 0.067371,
     "end_time": "2021-10-16T17:00:08.994963",
     "exception": false,
     "start_time": "2021-10-16T17:00:08.927592",
     "status": "completed"
    },
    "tags": []
   },
   "outputs": [],
   "source": [
    "df_pivot = df.pivot_table(index=\"PRODUCT\", columns = \"RECORD_TIME\", values = \"LISTING_COUNT\")"
   ]
  },
  {
   "cell_type": "code",
   "execution_count": 6,
   "id": "union-huntington",
   "metadata": {
    "execution": {
     "iopub.execute_input": "2021-10-16T17:00:09.051502Z",
     "iopub.status.busy": "2021-10-16T17:00:09.049432Z",
     "iopub.status.idle": "2021-10-16T17:00:09.054659Z",
     "shell.execute_reply": "2021-10-16T17:00:09.055941Z"
    },
    "papermill": {
     "duration": 0.040505,
     "end_time": "2021-10-16T17:00:09.056373",
     "exception": false,
     "start_time": "2021-10-16T17:00:09.015868",
     "status": "completed"
    },
    "tags": []
   },
   "outputs": [],
   "source": [
    "df_pivot.columns = [\"stamp_1\", \"stamp_2\"]\n",
    "df_pivot_diff = df_pivot.diff(axis=1)"
   ]
  },
  {
   "cell_type": "code",
   "execution_count": 7,
   "id": "fifth-motion",
   "metadata": {
    "execution": {
     "iopub.execute_input": "2021-10-16T17:00:09.111819Z",
     "iopub.status.busy": "2021-10-16T17:00:09.109520Z",
     "iopub.status.idle": "2021-10-16T17:00:10.584630Z",
     "shell.execute_reply": "2021-10-16T17:00:10.586235Z"
    },
    "papermill": {
     "duration": 1.508886,
     "end_time": "2021-10-16T17:00:10.586717",
     "exception": false,
     "start_time": "2021-10-16T17:00:09.077831",
     "status": "completed"
    },
    "tags": []
   },
   "outputs": [
    {
     "data": {
      "text/plain": [
       "<AxesSubplot:ylabel='PRODUCT'>"
      ]
     },
     "execution_count": 7,
     "metadata": {},
     "output_type": "execute_result"
    },
    {
     "data": {
      "image/png": "[encoded data removed]",
      "text/plain": [
       "<Figure size 432x288 with 1 Axes>"
      ]
     },
     "metadata": {
      "needs_background": "light"
     },
     "output_type": "display_data"
    }
   ],
   "source": [
    "df_pivot_diff.sort_values(\"stamp_2\", ascending = False)[\"stamp_2\"].head(10).plot.barh()"
   ]
  },
  {
   "cell_type": "code",
   "execution_count": null,
   "id": "extra-executive",
   "metadata": {
    "papermill": {
     "duration": 0.022324,
     "end_time": "2021-10-16T17:00:10.633724",
     "exception": false,
     "start_time": "2021-10-16T17:00:10.611400",
     "status": "completed"
    },
    "tags": []
   },
   "outputs": [],
   "source": []
  }
 ],
 "metadata": {
  "kernelspec": {
   "display_name": "Python 3",
   "language": "python",
   "name": "python3"
  },
  "language_info": {
   "codemirror_mode": {
    "name": "ipython",
    "version": 3
   },
   "file_extension": ".py",
   "mimetype": "text/x-python",
   "name": "python",
   "nbconvert_exporter": "python",
   "pygments_lexer": "ipython3",
   "version": "3.9.5"
  },
  "papermill": {
   "default_parameters": {},
   "duration": 7.821049,
   "end_time": "2021-10-16T17:00:11.892021",
   "environment_variables": {},
   "exception": null,
   "input_path": "eBay_Overview.ipynb",
   "output_path": "eBay_Overview.ipynb",
   "parameters": {},
   "start_time": "2021-10-16T17:00:04.070972",
   "version": "2.3.3"
  }
 },
 "nbformat": 4,
 "nbformat_minor": 5
}