{
 "cells": [
  {
   "cell_type": "code",
   "execution_count": 1,
   "id": "reverse-picking",
   "metadata": {
    "execution": {
     "iopub.execute_input": "2021-09-17T11:00:06.756243Z",
     "iopub.status.busy": "2021-09-17T11:00:06.754115Z",
     "iopub.status.idle": "2021-09-17T11:00:07.555201Z",
     "shell.execute_reply": "2021-09-17T11:00:07.556655Z"
    },
    "papermill": {
     "duration": 0.852538,
     "end_time": "2021-09-17T11:00:07.557318",
     "exception": false,
     "start_time": "2021-09-17T11:00:06.704780",
     "status": "completed"
    },
    "tags": []
   },
   "outputs": [],
   "source": [
    "import pandas as pd\n",
    "import sqlite3"
   ]
  },
  {
   "cell_type": "code",
   "execution_count": 2,
   "id": "innovative-syndrome",
   "metadata": {
    "execution": {
     "iopub.execute_input": "2021-09-17T11:00:07.608016Z",
     "iopub.status.busy": "2021-09-17T11:00:07.605616Z",
     "iopub.status.idle": "2021-09-17T11:00:07.909619Z",
     "shell.execute_reply": "2021-09-17T11:00:07.910876Z"
    },
    "papermill": {
     "duration": 0.333779,
     "end_time": "2021-09-17T11:00:07.911284",
     "exception": false,
     "start_time": "2021-09-17T11:00:07.577505",
     "status": "completed"
    },
    "tags": []
   },
   "outputs": [],
   "source": [
    "timestamps = pd.read_sql(\"select distinct record_time from EBAY_TOP_BERLIN order by record_time desc limit 2\", sqlite3.connect(\"UsedObjects.db\"))"
   ]
  },
  {
   "cell_type": "code",
   "execution_count": 3,
   "id": "periodic-identification",
   "metadata": {
    "execution": {
     "iopub.execute_input": "2021-09-17T11:00:07.973775Z",
     "iopub.status.busy": "2021-09-17T11:00:07.971771Z",
     "iopub.status.idle": "2021-09-17T11:00:07.991912Z",
     "shell.execute_reply": "2021-09-17T11:00:07.993136Z"
    },
    "papermill": {
     "duration": 0.063211,
     "end_time": "2021-09-17T11:00:07.993559",
     "exception": false,
     "start_time": "2021-09-17T11:00:07.930348",
     "status": "completed"
    },
    "tags": []
   },
   "outputs": [
    {
     "data": {
      "text/html": [
       "<div>\n",
       "<style scoped>\n",
       "    .dataframe tbody tr th:only-of-type {\n",
       "        vertical-align: middle;\n",
       "    }\n",
       "\n",
       "    .dataframe tbody tr th {\n",
       "        vertical-align: top;\n",
       "    }\n",
       "\n",
       "    .dataframe thead th {\n",
       "        text-align: right;\n",
       "    }\n",
       "</style>\n",
       "<table border=\"1\" class=\"dataframe\">\n",
       "  <thead>\n",
       "    <tr style=\"text-align: right;\">\n",
       "      <th></th>\n",
       "      <th>RECORD_TIME</th>\n",
       "    </tr>\n",
       "  </thead>\n",
       "  <tbody>\n",
       "    <tr>\n",
       "      <th>0</th>\n",
       "      <td>2021-09-17 13:00</td>\n",
       "    </tr>\n",
       "    <tr>\n",
       "      <th>1</th>\n",
       "      <td>2021-09-17 12:30</td>\n",
       "    </tr>\n",
       "  </tbody>\n",
       "</table>\n",
       "</div>"
      ],
      "text/plain": [
       "        RECORD_TIME\n",
       "0  2021-09-17 13:00\n",
       "1  2021-09-17 12:30"
      ]
     },
     "execution_count": 3,
     "metadata": {},
     "output_type": "execute_result"
    }
   ],
   "source": [
    "timestamps"
   ]
  },
  {
   "cell_type": "code",
   "execution_count": 4,
   "id": "alternate-victory",
   "metadata": {
    "execution": {
     "iopub.execute_input": "2021-09-17T11:00:08.047787Z",
     "iopub.status.busy": "2021-09-17T11:00:08.045431Z",
     "iopub.status.idle": "2021-09-17T11:00:08.501029Z",
     "shell.execute_reply": "2021-09-17T11:00:08.499526Z"
    },
    "papermill": {
     "duration": 0.484599,
     "end_time": "2021-09-17T11:00:08.501400",
     "exception": false,
     "start_time": "2021-09-17T11:00:08.016801",
     "status": "completed"
    },
    "tags": []
   },
   "outputs": [],
   "source": [
    "df = pd.read_sql(\"select * from EBAY_TOP_BERLIN where record_time in (select distinct record_time from EBAY_TOP_BERLIN order by record_time desc limit 2)\", sqlite3.connect(\"UsedObjects.db\"))"
   ]
  },
  {
   "cell_type": "code",
   "execution_count": 5,
   "id": "popular-active",
   "metadata": {
    "execution": {
     "iopub.execute_input": "2021-09-17T11:00:08.581886Z",
     "iopub.status.busy": "2021-09-17T11:00:08.569987Z",
     "iopub.status.idle": "2021-09-17T11:00:08.597935Z",
     "shell.execute_reply": "2021-09-17T11:00:08.599375Z"
    },
    "papermill": {
     "duration": 0.072563,
     "end_time": "2021-09-17T11:00:08.599812",
     "exception": false,
     "start_time": "2021-09-17T11:00:08.527249",
     "status": "completed"
    },
    "tags": []
   },
   "outputs": [],
   "source": [
    "df_pivot = df.pivot_table(index=\"PRODUCT\", columns = \"RECORD_TIME\", values = \"LISTING_COUNT\")"
   ]
  },
  {
   "cell_type": "code",
   "execution_count": 6,
   "id": "union-huntington",
   "metadata": {
    "execution": {
     "iopub.execute_input": "2021-09-17T11:00:08.655504Z",
     "iopub.status.busy": "2021-09-17T11:00:08.653388Z",
     "iopub.status.idle": "2021-09-17T11:00:08.658862Z",
     "shell.execute_reply": "2021-09-17T11:00:08.660089Z"
    },
    "papermill": {
     "duration": 0.039915,
     "end_time": "2021-09-17T11:00:08.660514",
     "exception": false,
     "start_time": "2021-09-17T11:00:08.620599",
     "status": "completed"
    },
    "tags": []
   },
   "outputs": [],
   "source": [
    "df_pivot.columns = [\"stamp_1\", \"stamp_2\"]\n",
    "df_pivot_diff = df_pivot.diff(axis=1)"
   ]
  },
  {
   "cell_type": "code",
   "execution_count": 7,
   "id": "fifth-motion",
   "metadata": {
    "execution": {
     "iopub.execute_input": "2021-09-17T11:00:08.713474Z",
     "iopub.status.busy": "2021-09-17T11:00:08.711095Z",
     "iopub.status.idle": "2021-09-17T11:00:10.163727Z",
     "shell.execute_reply": "2021-09-17T11:00:10.164915Z"
    },
    "papermill": {
     "duration": 1.484856,
     "end_time": "2021-09-17T11:00:10.165338",
     "exception": false,
     "start_time": "2021-09-17T11:00:08.680482",
     "status": "completed"
    },
    "tags": []
   },
   "outputs": [
    {
     "data": {
      "text/plain": [
       "<AxesSubplot:ylabel='PRODUCT'>"
      ]
     },
     "execution_count": 7,
     "metadata": {},
     "output_type": "execute_result"
    },
    {
     "data": {
      "image/png": "[encoded data removed]",
      "text/plain": [
       "<Figure size 432x288 with 1 Axes>"
      ]
     },
     "metadata": {
      "needs_background": "light"
     },
     "output_type": "display_data"
    }
   ],
   "source": [
    "df_pivot_diff.sort_values(\"stamp_2\", ascending = False)[\"stamp_2\"].head(10).plot.barh()"
   ]
  },
  {
   "cell_type": "code",
   "execution_count": null,
   "id": "extra-executive",
   "metadata": {
    "papermill": {
     "duration": 0.021842,
     "end_time": "2021-09-17T11:00:10.211301",
     "exception": false,
     "start_time": "2021-09-17T11:00:10.189459",
     "status": "completed"
    },
    "tags": []
   },
   "outputs": [],
   "source": []
  }
 ],
 "metadata": {
  "kernelspec": {
   "display_name": "Python 3",
   "language": "python",
   "name": "python3"
  },
  "language_info": {
   "codemirror_mode": {
    "name": "ipython",
    "version": 3
   },
   "file_extension": ".py",
   "mimetype": "text/x-python",
   "name": "python",
   "nbconvert_exporter": "python",
   "pygments_lexer": "ipython3",
   "version": "3.9.5"
  },
  "papermill": {
   "default_parameters": {},
   "duration": 6.528063,
   "end_time": "2021-09-17T11:00:10.853531",
   "environment_variables": {},
   "exception": null,
   "input_path": "eBay_Overview.ipynb",
   "output_path": "eBay_Overview.ipynb",
   "parameters": {},
   "start_time": "2021-09-17T11:00:04.325468",
   "version": "2.3.3"
  }
 },
 "nbformat": 4,
 "nbformat_minor": 5
}