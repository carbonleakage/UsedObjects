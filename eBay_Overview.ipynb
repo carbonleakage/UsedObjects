{
 "cells": [
  {
   "cell_type": "code",
   "execution_count": 1,
   "id": "reverse-picking",
   "metadata": {
    "execution": {
     "iopub.execute_input": "2021-08-19T09:00:07.180408Z",
     "iopub.status.busy": "2021-08-19T09:00:07.178369Z",
     "iopub.status.idle": "2021-08-19T09:00:07.987533Z",
     "shell.execute_reply": "2021-08-19T09:00:07.988937Z"
    },
    "papermill": {
     "duration": 0.860689,
     "end_time": "2021-08-19T09:00:07.989612",
     "exception": false,
     "start_time": "2021-08-19T09:00:07.128923",
     "status": "completed"
    },
    "tags": []
   },
   "outputs": [],
   "source": [
    "import pandas as pd\n",
    "import sqlite3"
   ]
  },
  {
   "cell_type": "code",
   "execution_count": 2,
   "id": "innovative-syndrome",
   "metadata": {
    "execution": {
     "iopub.execute_input": "2021-08-19T09:00:08.041545Z",
     "iopub.status.busy": "2021-08-19T09:00:08.039527Z",
     "iopub.status.idle": "2021-08-19T09:00:08.121004Z",
     "shell.execute_reply": "2021-08-19T09:00:08.122328Z"
    },
    "papermill": {
     "duration": 0.111962,
     "end_time": "2021-08-19T09:00:08.122762",
     "exception": false,
     "start_time": "2021-08-19T09:00:08.010800",
     "status": "completed"
    },
    "tags": []
   },
   "outputs": [],
   "source": [
    "timestamps = pd.read_sql(\"select distinct record_time from EBAY_TOP_BERLIN order by record_time desc limit 2\", sqlite3.connect(\"UsedObjects.db\"))"
   ]
  },
  {
   "cell_type": "code",
   "execution_count": 3,
   "id": "periodic-identification",
   "metadata": {
    "execution": {
     "iopub.execute_input": "2021-08-19T09:00:08.191299Z",
     "iopub.status.busy": "2021-08-19T09:00:08.189216Z",
     "iopub.status.idle": "2021-08-19T09:00:08.211879Z",
     "shell.execute_reply": "2021-08-19T09:00:08.213615Z"
    },
    "papermill": {
     "duration": 0.071274,
     "end_time": "2021-08-19T09:00:08.214204",
     "exception": false,
     "start_time": "2021-08-19T09:00:08.142930",
     "status": "completed"
    },
    "tags": []
   },
   "outputs": [
    {
     "data": {
      "text/html": [
       "<div>\n",
       "<style scoped>\n",
       "    .dataframe tbody tr th:only-of-type {\n",
       "        vertical-align: middle;\n",
       "    }\n",
       "\n",
       "    .dataframe tbody tr th {\n",
       "        vertical-align: top;\n",
       "    }\n",
       "\n",
       "    .dataframe thead th {\n",
       "        text-align: right;\n",
       "    }\n",
       "</style>\n",
       "<table border=\"1\" class=\"dataframe\">\n",
       "  <thead>\n",
       "    <tr style=\"text-align: right;\">\n",
       "      <th></th>\n",
       "      <th>RECORD_TIME</th>\n",
       "    </tr>\n",
       "  </thead>\n",
       "  <tbody>\n",
       "    <tr>\n",
       "      <th>0</th>\n",
       "      <td>2021-08-19 11:00</td>\n",
       "    </tr>\n",
       "    <tr>\n",
       "      <th>1</th>\n",
       "      <td>2021-08-19 10:30</td>\n",
       "    </tr>\n",
       "  </tbody>\n",
       "</table>\n",
       "</div>"
      ],
      "text/plain": [
       "        RECORD_TIME\n",
       "0  2021-08-19 11:00\n",
       "1  2021-08-19 10:30"
      ]
     },
     "execution_count": 3,
     "metadata": {},
     "output_type": "execute_result"
    }
   ],
   "source": [
    "timestamps"
   ]
  },
  {
   "cell_type": "code",
   "execution_count": 4,
   "id": "alternate-victory",
   "metadata": {
    "execution": {
     "iopub.execute_input": "2021-08-19T09:00:08.266477Z",
     "iopub.status.busy": "2021-08-19T09:00:08.264551Z",
     "iopub.status.idle": "2021-08-19T09:00:08.382841Z",
     "shell.execute_reply": "2021-08-19T09:00:08.384112Z"
    },
    "papermill": {
     "duration": 0.148137,
     "end_time": "2021-08-19T09:00:08.384508",
     "exception": false,
     "start_time": "2021-08-19T09:00:08.236371",
     "status": "completed"
    },
    "tags": []
   },
   "outputs": [],
   "source": [
    "df = pd.read_sql(\"select * from EBAY_TOP_BERLIN where record_time in (select distinct record_time from EBAY_TOP_BERLIN order by record_time desc limit 2)\", sqlite3.connect(\"UsedObjects.db\"))"
   ]
  },
  {
   "cell_type": "code",
   "execution_count": 5,
   "id": "popular-active",
   "metadata": {
    "execution": {
     "iopub.execute_input": "2021-08-19T09:00:08.456073Z",
     "iopub.status.busy": "2021-08-19T09:00:08.443236Z",
     "iopub.status.idle": "2021-08-19T09:00:08.471723Z",
     "shell.execute_reply": "2021-08-19T09:00:08.473000Z"
    },
    "papermill": {
     "duration": 0.068552,
     "end_time": "2021-08-19T09:00:08.473421",
     "exception": false,
     "start_time": "2021-08-19T09:00:08.404869",
     "status": "completed"
    },
    "tags": []
   },
   "outputs": [],
   "source": [
    "df_pivot = df.pivot_table(index=\"PRODUCT\", columns = \"RECORD_TIME\", values = \"LISTING_COUNT\")"
   ]
  },
  {
   "cell_type": "code",
   "execution_count": 6,
   "id": "union-huntington",
   "metadata": {
    "execution": {
     "iopub.execute_input": "2021-08-19T09:00:08.529718Z",
     "iopub.status.busy": "2021-08-19T09:00:08.527681Z",
     "iopub.status.idle": "2021-08-19T09:00:08.532796Z",
     "shell.execute_reply": "2021-08-19T09:00:08.534277Z"
    },
    "papermill": {
     "duration": 0.040201,
     "end_time": "2021-08-19T09:00:08.534742",
     "exception": false,
     "start_time": "2021-08-19T09:00:08.494541",
     "status": "completed"
    },
    "tags": []
   },
   "outputs": [],
   "source": [
    "df_pivot.columns = [\"stamp_1\", \"stamp_2\"]\n",
    "df_pivot_diff = df_pivot.diff(axis=1)"
   ]
  },
  {
   "cell_type": "code",
   "execution_count": 7,
   "id": "fifth-motion",
   "metadata": {
    "execution": {
     "iopub.execute_input": "2021-08-19T09:00:08.592169Z",
     "iopub.status.busy": "2021-08-19T09:00:08.589754Z",
     "iopub.status.idle": "2021-08-19T09:00:10.062445Z",
     "shell.execute_reply": "2021-08-19T09:00:10.063734Z"
    },
    "papermill": {
     "duration": 1.505929,
     "end_time": "2021-08-19T09:00:10.064155",
     "exception": false,
     "start_time": "2021-08-19T09:00:08.558226",
     "status": "completed"
    },
    "tags": []
   },
   "outputs": [
    {
     "data": {
      "text/plain": [
       "<AxesSubplot:ylabel='PRODUCT'>"
      ]
     },
     "execution_count": 7,
     "metadata": {},
     "output_type": "execute_result"
    },
    {
     "data": {
      "image/png": "[encoded data removed]",
      "text/plain": [
       "<Figure size 432x288 with 1 Axes>"
      ]
     },
     "metadata": {
      "needs_background": "light"
     },
     "output_type": "display_data"
    }
   ],
   "source": [
    "df_pivot_diff.sort_values(\"stamp_2\", ascending = False)[\"stamp_2\"].head(10).plot.barh()"
   ]
  },
  {
   "cell_type": "code",
   "execution_count": null,
   "id": "extra-executive",
   "metadata": {
    "papermill": {
     "duration": 0.02226,
     "end_time": "2021-08-19T09:00:10.110982",
     "exception": false,
     "start_time": "2021-08-19T09:00:10.088722",
     "status": "completed"
    },
    "tags": []
   },
   "outputs": [],
   "source": []
  }
 ],
 "metadata": {
  "kernelspec": {
   "display_name": "Python 3",
   "language": "python",
   "name": "python3"
  },
  "language_info": {
   "codemirror_mode": {
    "name": "ipython",
    "version": 3
   },
   "file_extension": ".py",
   "mimetype": "text/x-python",
   "name": "python",
   "nbconvert_exporter": "python",
   "pygments_lexer": "ipython3",
   "version": "3.9.5"
  },
  "papermill": {
   "default_parameters": {},
   "duration": 6.828069,
   "end_time": "2021-08-19T09:00:11.551539",
   "environment_variables": {},
   "exception": null,
   "input_path": "eBay_Overview.ipynb",
   "output_path": "eBay_Overview.ipynb",
   "parameters": {},
   "start_time": "2021-08-19T09:00:04.723470",
   "version": "2.3.3"
  }
 },
 "nbformat": 4,
 "nbformat_minor": 5
}