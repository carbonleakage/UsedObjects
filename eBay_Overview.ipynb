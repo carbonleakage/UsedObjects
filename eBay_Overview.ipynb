{
 "cells": [
  {
   "cell_type": "code",
   "execution_count": 1,
   "id": "reverse-picking",
   "metadata": {
    "execution": {
     "iopub.execute_input": "2021-08-23T22:30:07.407161Z",
     "iopub.status.busy": "2021-08-23T22:30:07.405159Z",
     "iopub.status.idle": "2021-08-23T22:30:08.220202Z",
     "shell.execute_reply": "2021-08-23T22:30:08.221448Z"
    },
    "papermill": {
     "duration": 0.864456,
     "end_time": "2021-08-23T22:30:08.222125",
     "exception": false,
     "start_time": "2021-08-23T22:30:07.357669",
     "status": "completed"
    },
    "tags": []
   },
   "outputs": [],
   "source": [
    "import pandas as pd\n",
    "import sqlite3"
   ]
  },
  {
   "cell_type": "code",
   "execution_count": 2,
   "id": "innovative-syndrome",
   "metadata": {
    "execution": {
     "iopub.execute_input": "2021-08-23T22:30:08.274005Z",
     "iopub.status.busy": "2021-08-23T22:30:08.272096Z",
     "iopub.status.idle": "2021-08-23T22:30:08.386140Z",
     "shell.execute_reply": "2021-08-23T22:30:08.387412Z"
    },
    "papermill": {
     "duration": 0.143436,
     "end_time": "2021-08-23T22:30:08.387837",
     "exception": false,
     "start_time": "2021-08-23T22:30:08.244401",
     "status": "completed"
    },
    "tags": []
   },
   "outputs": [],
   "source": [
    "timestamps = pd.read_sql(\"select distinct record_time from EBAY_TOP_BERLIN order by record_time desc limit 2\", sqlite3.connect(\"UsedObjects.db\"))"
   ]
  },
  {
   "cell_type": "code",
   "execution_count": 3,
   "id": "periodic-identification",
   "metadata": {
    "execution": {
     "iopub.execute_input": "2021-08-23T22:30:08.451863Z",
     "iopub.status.busy": "2021-08-23T22:30:08.449665Z",
     "iopub.status.idle": "2021-08-23T22:30:08.469673Z",
     "shell.execute_reply": "2021-08-23T22:30:08.471078Z"
    },
    "papermill": {
     "duration": 0.064322,
     "end_time": "2021-08-23T22:30:08.471509",
     "exception": false,
     "start_time": "2021-08-23T22:30:08.407187",
     "status": "completed"
    },
    "tags": []
   },
   "outputs": [
    {
     "data": {
      "text/html": [
       "<div>\n",
       "<style scoped>\n",
       "    .dataframe tbody tr th:only-of-type {\n",
       "        vertical-align: middle;\n",
       "    }\n",
       "\n",
       "    .dataframe tbody tr th {\n",
       "        vertical-align: top;\n",
       "    }\n",
       "\n",
       "    .dataframe thead th {\n",
       "        text-align: right;\n",
       "    }\n",
       "</style>\n",
       "<table border=\"1\" class=\"dataframe\">\n",
       "  <thead>\n",
       "    <tr style=\"text-align: right;\">\n",
       "      <th></th>\n",
       "      <th>RECORD_TIME</th>\n",
       "    </tr>\n",
       "  </thead>\n",
       "  <tbody>\n",
       "    <tr>\n",
       "      <th>0</th>\n",
       "      <td>2021-08-24 00:30</td>\n",
       "    </tr>\n",
       "    <tr>\n",
       "      <th>1</th>\n",
       "      <td>2021-08-24 00:00</td>\n",
       "    </tr>\n",
       "  </tbody>\n",
       "</table>\n",
       "</div>"
      ],
      "text/plain": [
       "        RECORD_TIME\n",
       "0  2021-08-24 00:30\n",
       "1  2021-08-24 00:00"
      ]
     },
     "execution_count": 3,
     "metadata": {},
     "output_type": "execute_result"
    }
   ],
   "source": [
    "timestamps"
   ]
  },
  {
   "cell_type": "code",
   "execution_count": 4,
   "id": "alternate-victory",
   "metadata": {
    "execution": {
     "iopub.execute_input": "2021-08-23T22:30:08.523055Z",
     "iopub.status.busy": "2021-08-23T22:30:08.521124Z",
     "iopub.status.idle": "2021-08-23T22:30:08.692749Z",
     "shell.execute_reply": "2021-08-23T22:30:08.693986Z"
    },
    "papermill": {
     "duration": 0.201409,
     "end_time": "2021-08-23T22:30:08.694445",
     "exception": false,
     "start_time": "2021-08-23T22:30:08.493036",
     "status": "completed"
    },
    "tags": []
   },
   "outputs": [],
   "source": [
    "df = pd.read_sql(\"select * from EBAY_TOP_BERLIN where record_time in (select distinct record_time from EBAY_TOP_BERLIN order by record_time desc limit 2)\", sqlite3.connect(\"UsedObjects.db\"))"
   ]
  },
  {
   "cell_type": "code",
   "execution_count": 5,
   "id": "popular-active",
   "metadata": {
    "execution": {
     "iopub.execute_input": "2021-08-23T22:30:08.764702Z",
     "iopub.status.busy": "2021-08-23T22:30:08.753246Z",
     "iopub.status.idle": "2021-08-23T22:30:08.779988Z",
     "shell.execute_reply": "2021-08-23T22:30:08.781188Z"
    },
    "papermill": {
     "duration": 0.066704,
     "end_time": "2021-08-23T22:30:08.781583",
     "exception": false,
     "start_time": "2021-08-23T22:30:08.714879",
     "status": "completed"
    },
    "tags": []
   },
   "outputs": [],
   "source": [
    "df_pivot = df.pivot_table(index=\"PRODUCT\", columns = \"RECORD_TIME\", values = \"LISTING_COUNT\")"
   ]
  },
  {
   "cell_type": "code",
   "execution_count": 6,
   "id": "union-huntington",
   "metadata": {
    "execution": {
     "iopub.execute_input": "2021-08-23T22:30:08.859222Z",
     "iopub.status.busy": "2021-08-23T22:30:08.857135Z",
     "iopub.status.idle": "2021-08-23T22:30:08.862771Z",
     "shell.execute_reply": "2021-08-23T22:30:08.864415Z"
    },
    "papermill": {
     "duration": 0.061358,
     "end_time": "2021-08-23T22:30:08.864967",
     "exception": false,
     "start_time": "2021-08-23T22:30:08.803609",
     "status": "completed"
    },
    "tags": []
   },
   "outputs": [],
   "source": [
    "df_pivot.columns = [\"stamp_1\", \"stamp_2\"]\n",
    "df_pivot_diff = df_pivot.diff(axis=1)"
   ]
  },
  {
   "cell_type": "code",
   "execution_count": 7,
   "id": "fifth-motion",
   "metadata": {
    "execution": {
     "iopub.execute_input": "2021-08-23T22:30:08.920849Z",
     "iopub.status.busy": "2021-08-23T22:30:08.918580Z",
     "iopub.status.idle": "2021-08-23T22:30:10.416731Z",
     "shell.execute_reply": "2021-08-23T22:30:10.418077Z"
    },
    "papermill": {
     "duration": 1.531077,
     "end_time": "2021-08-23T22:30:10.418545",
     "exception": false,
     "start_time": "2021-08-23T22:30:08.887468",
     "status": "completed"
    },
    "tags": []
   },
   "outputs": [
    {
     "data": {
      "text/plain": [
       "<AxesSubplot:ylabel='PRODUCT'>"
      ]
     },
     "execution_count": 7,
     "metadata": {},
     "output_type": "execute_result"
    },
    {
     "data": {
      "image/png": "[encoded data removed]",
      "text/plain": [
       "<Figure size 432x288 with 1 Axes>"
      ]
     },
     "metadata": {
      "needs_background": "light"
     },
     "output_type": "display_data"
    }
   ],
   "source": [
    "df_pivot_diff.sort_values(\"stamp_2\", ascending = False)[\"stamp_2\"].head(10).plot.barh()"
   ]
  },
  {
   "cell_type": "code",
   "execution_count": null,
   "id": "extra-executive",
   "metadata": {
    "papermill": {
     "duration": 0.021902,
     "end_time": "2021-08-23T22:30:10.465109",
     "exception": false,
     "start_time": "2021-08-23T22:30:10.443207",
     "status": "completed"
    },
    "tags": []
   },
   "outputs": [],
   "source": []
  }
 ],
 "metadata": {
  "kernelspec": {
   "display_name": "Python 3",
   "language": "python",
   "name": "python3"
  },
  "language_info": {
   "codemirror_mode": {
    "name": "ipython",
    "version": 3
   },
   "file_extension": ".py",
   "mimetype": "text/x-python",
   "name": "python",
   "nbconvert_exporter": "python",
   "pygments_lexer": "ipython3",
   "version": "3.9.5"
  },
  "papermill": {
   "default_parameters": {},
   "duration": 6.823303,
   "end_time": "2021-08-23T22:30:11.766941",
   "environment_variables": {},
   "exception": null,
   "input_path": "eBay_Overview.ipynb",
   "output_path": "eBay_Overview.ipynb",
   "parameters": {},
   "start_time": "2021-08-23T22:30:04.943638",
   "version": "2.3.3"
  }
 },
 "nbformat": 4,
 "nbformat_minor": 5
}