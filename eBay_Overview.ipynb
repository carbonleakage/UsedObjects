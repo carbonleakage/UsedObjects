{
 "cells": [
  {
   "cell_type": "code",
   "execution_count": 1,
   "id": "reverse-picking",
   "metadata": {
    "execution": {
     "iopub.execute_input": "2021-10-21T04:00:06.992284Z",
     "iopub.status.busy": "2021-10-21T04:00:06.990337Z",
     "iopub.status.idle": "2021-10-21T04:00:07.802713Z",
     "shell.execute_reply": "2021-10-21T04:00:07.800920Z"
    },
    "papermill": {
     "duration": 0.863012,
     "end_time": "2021-10-21T04:00:07.803145",
     "exception": false,
     "start_time": "2021-10-21T04:00:06.940133",
     "status": "completed"
    },
    "tags": []
   },
   "outputs": [],
   "source": [
    "import pandas as pd\n",
    "import sqlite3"
   ]
  },
  {
   "cell_type": "code",
   "execution_count": 2,
   "id": "innovative-syndrome",
   "metadata": {
    "execution": {
     "iopub.execute_input": "2021-10-21T04:00:07.853195Z",
     "iopub.status.busy": "2021-10-21T04:00:07.851102Z",
     "iopub.status.idle": "2021-10-21T04:00:08.451173Z",
     "shell.execute_reply": "2021-10-21T04:00:08.452379Z"
    },
    "papermill": {
     "duration": 0.629942,
     "end_time": "2021-10-21T04:00:08.452830",
     "exception": false,
     "start_time": "2021-10-21T04:00:07.822888",
     "status": "completed"
    },
    "tags": []
   },
   "outputs": [],
   "source": [
    "timestamps = pd.read_sql(\"select distinct record_time from EBAY_TOP_BERLIN order by record_time desc limit 2\", sqlite3.connect(\"UsedObjects.db\"))"
   ]
  },
  {
   "cell_type": "code",
   "execution_count": 3,
   "id": "periodic-identification",
   "metadata": {
    "execution": {
     "iopub.execute_input": "2021-10-21T04:00:08.528942Z",
     "iopub.status.busy": "2021-10-21T04:00:08.526806Z",
     "iopub.status.idle": "2021-10-21T04:00:08.546956Z",
     "shell.execute_reply": "2021-10-21T04:00:08.548176Z"
    },
    "papermill": {
     "duration": 0.070158,
     "end_time": "2021-10-21T04:00:08.548572",
     "exception": false,
     "start_time": "2021-10-21T04:00:08.478414",
     "status": "completed"
    },
    "tags": []
   },
   "outputs": [
    {
     "data": {
      "text/html": [
       "<div>\n",
       "<style scoped>\n",
       "    .dataframe tbody tr th:only-of-type {\n",
       "        vertical-align: middle;\n",
       "    }\n",
       "\n",
       "    .dataframe tbody tr th {\n",
       "        vertical-align: top;\n",
       "    }\n",
       "\n",
       "    .dataframe thead th {\n",
       "        text-align: right;\n",
       "    }\n",
       "</style>\n",
       "<table border=\"1\" class=\"dataframe\">\n",
       "  <thead>\n",
       "    <tr style=\"text-align: right;\">\n",
       "      <th></th>\n",
       "      <th>RECORD_TIME</th>\n",
       "    </tr>\n",
       "  </thead>\n",
       "  <tbody>\n",
       "    <tr>\n",
       "      <th>0</th>\n",
       "      <td>2021-10-21 06:00</td>\n",
       "    </tr>\n",
       "    <tr>\n",
       "      <th>1</th>\n",
       "      <td>2021-10-21 05:30</td>\n",
       "    </tr>\n",
       "  </tbody>\n",
       "</table>\n",
       "</div>"
      ],
      "text/plain": [
       "        RECORD_TIME\n",
       "0  2021-10-21 06:00\n",
       "1  2021-10-21 05:30"
      ]
     },
     "execution_count": 3,
     "metadata": {},
     "output_type": "execute_result"
    }
   ],
   "source": [
    "timestamps"
   ]
  },
  {
   "cell_type": "code",
   "execution_count": 4,
   "id": "alternate-victory",
   "metadata": {
    "execution": {
     "iopub.execute_input": "2021-10-21T04:00:08.602391Z",
     "iopub.status.busy": "2021-10-21T04:00:08.600019Z",
     "iopub.status.idle": "2021-10-21T04:00:09.485172Z",
     "shell.execute_reply": "2021-10-21T04:00:09.486596Z"
    },
    "papermill": {
     "duration": 0.915843,
     "end_time": "2021-10-21T04:00:09.487039",
     "exception": false,
     "start_time": "2021-10-21T04:00:08.571196",
     "status": "completed"
    },
    "tags": []
   },
   "outputs": [],
   "source": [
    "df = pd.read_sql(\"select * from EBAY_TOP_BERLIN where record_time in (select distinct record_time from EBAY_TOP_BERLIN order by record_time desc limit 2)\", sqlite3.connect(\"UsedObjects.db\"))"
   ]
  },
  {
   "cell_type": "code",
   "execution_count": 5,
   "id": "popular-active",
   "metadata": {
    "execution": {
     "iopub.execute_input": "2021-10-21T04:00:09.557219Z",
     "iopub.status.busy": "2021-10-21T04:00:09.546264Z",
     "iopub.status.idle": "2021-10-21T04:00:09.573843Z",
     "shell.execute_reply": "2021-10-21T04:00:09.575061Z"
    },
    "papermill": {
     "duration": 0.067383,
     "end_time": "2021-10-21T04:00:09.575454",
     "exception": false,
     "start_time": "2021-10-21T04:00:09.508071",
     "status": "completed"
    },
    "tags": []
   },
   "outputs": [],
   "source": [
    "df_pivot = df.pivot_table(index=\"PRODUCT\", columns = \"RECORD_TIME\", values = \"LISTING_COUNT\")"
   ]
  },
  {
   "cell_type": "code",
   "execution_count": 6,
   "id": "union-huntington",
   "metadata": {
    "execution": {
     "iopub.execute_input": "2021-10-21T04:00:09.635575Z",
     "iopub.status.busy": "2021-10-21T04:00:09.633092Z",
     "iopub.status.idle": "2021-10-21T04:00:09.640987Z",
     "shell.execute_reply": "2021-10-21T04:00:09.638999Z"
    },
    "papermill": {
     "duration": 0.042831,
     "end_time": "2021-10-21T04:00:09.641395",
     "exception": false,
     "start_time": "2021-10-21T04:00:09.598564",
     "status": "completed"
    },
    "tags": []
   },
   "outputs": [],
   "source": [
    "df_pivot.columns = [\"stamp_1\", \"stamp_2\"]\n",
    "df_pivot_diff = df_pivot.diff(axis=1)"
   ]
  },
  {
   "cell_type": "code",
   "execution_count": 7,
   "id": "fifth-motion",
   "metadata": {
    "execution": {
     "iopub.execute_input": "2021-10-21T04:00:09.696662Z",
     "iopub.status.busy": "2021-10-21T04:00:09.694416Z",
     "iopub.status.idle": "2021-10-21T04:00:11.189895Z",
     "shell.execute_reply": "2021-10-21T04:00:11.191236Z"
    },
    "papermill": {
     "duration": 1.528261,
     "end_time": "2021-10-21T04:00:11.191656",
     "exception": false,
     "start_time": "2021-10-21T04:00:09.663395",
     "status": "completed"
    },
    "tags": []
   },
   "outputs": [
    {
     "data": {
      "text/plain": [
       "<AxesSubplot:ylabel='PRODUCT'>"
      ]
     },
     "execution_count": 7,
     "metadata": {},
     "output_type": "execute_result"
    },
    {
     "data": {
      "image/png": "[encoded data removed]",
      "text/plain": [
       "<Figure size 432x288 with 1 Axes>"
      ]
     },
     "metadata": {
      "needs_background": "light"
     },
     "output_type": "display_data"
    }
   ],
   "source": [
    "df_pivot_diff.sort_values(\"stamp_2\", ascending = False)[\"stamp_2\"].head(10).plot.barh()"
   ]
  },
  {
   "cell_type": "code",
   "execution_count": null,
   "id": "extra-executive",
   "metadata": {
    "papermill": {
     "duration": 0.022055,
     "end_time": "2021-10-21T04:00:11.239299",
     "exception": false,
     "start_time": "2021-10-21T04:00:11.217244",
     "status": "completed"
    },
    "tags": []
   },
   "outputs": [],
   "source": []
  }
 ],
 "metadata": {
  "kernelspec": {
   "display_name": "Python 3",
   "language": "python",
   "name": "python3"
  },
  "language_info": {
   "codemirror_mode": {
    "name": "ipython",
    "version": 3
   },
   "file_extension": ".py",
   "mimetype": "text/x-python",
   "name": "python",
   "nbconvert_exporter": "python",
   "pygments_lexer": "ipython3",
   "version": "3.9.5"
  },
  "papermill": {
   "default_parameters": {},
   "duration": 7.348852,
   "end_time": "2021-10-21T04:00:11.879646",
   "environment_variables": {},
   "exception": null,
   "input_path": "eBay_Overview.ipynb",
   "output_path": "eBay_Overview.ipynb",
   "parameters": {},
   "start_time": "2021-10-21T04:00:04.530794",
   "version": "2.3.3"
  }
 },
 "nbformat": 4,
 "nbformat_minor": 5
}