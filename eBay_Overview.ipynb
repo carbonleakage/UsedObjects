{
 "cells": [
  {
   "cell_type": "code",
   "execution_count": 1,
   "id": "reverse-picking",
   "metadata": {
    "execution": {
     "iopub.execute_input": "2021-09-22T13:00:07.474032Z",
     "iopub.status.busy": "2021-09-22T13:00:07.472128Z",
     "iopub.status.idle": "2021-09-22T13:00:08.275010Z",
     "shell.execute_reply": "2021-09-22T13:00:08.276470Z"
    },
    "papermill": {
     "duration": 0.855294,
     "end_time": "2021-09-22T13:00:08.277155",
     "exception": false,
     "start_time": "2021-09-22T13:00:07.421861",
     "status": "completed"
    },
    "tags": []
   },
   "outputs": [],
   "source": [
    "import pandas as pd\n",
    "import sqlite3"
   ]
  },
  {
   "cell_type": "code",
   "execution_count": 2,
   "id": "innovative-syndrome",
   "metadata": {
    "execution": {
     "iopub.execute_input": "2021-09-22T13:00:08.327910Z",
     "iopub.status.busy": "2021-09-22T13:00:08.325526Z",
     "iopub.status.idle": "2021-09-22T13:00:08.684730Z",
     "shell.execute_reply": "2021-09-22T13:00:08.686002Z"
    },
    "papermill": {
     "duration": 0.389107,
     "end_time": "2021-09-22T13:00:08.686418",
     "exception": false,
     "start_time": "2021-09-22T13:00:08.297311",
     "status": "completed"
    },
    "tags": []
   },
   "outputs": [],
   "source": [
    "timestamps = pd.read_sql(\"select distinct record_time from EBAY_TOP_BERLIN order by record_time desc limit 2\", sqlite3.connect(\"UsedObjects.db\"))"
   ]
  },
  {
   "cell_type": "code",
   "execution_count": 3,
   "id": "periodic-identification",
   "metadata": {
    "execution": {
     "iopub.execute_input": "2021-09-22T13:00:08.752694Z",
     "iopub.status.busy": "2021-09-22T13:00:08.750603Z",
     "iopub.status.idle": "2021-09-22T13:00:08.770775Z",
     "shell.execute_reply": "2021-09-22T13:00:08.772039Z"
    },
    "papermill": {
     "duration": 0.066636,
     "end_time": "2021-09-22T13:00:08.772469",
     "exception": false,
     "start_time": "2021-09-22T13:00:08.705833",
     "status": "completed"
    },
    "tags": []
   },
   "outputs": [
    {
     "data": {
      "text/html": [
       "<div>\n",
       "<style scoped>\n",
       "    .dataframe tbody tr th:only-of-type {\n",
       "        vertical-align: middle;\n",
       "    }\n",
       "\n",
       "    .dataframe tbody tr th {\n",
       "        vertical-align: top;\n",
       "    }\n",
       "\n",
       "    .dataframe thead th {\n",
       "        text-align: right;\n",
       "    }\n",
       "</style>\n",
       "<table border=\"1\" class=\"dataframe\">\n",
       "  <thead>\n",
       "    <tr style=\"text-align: right;\">\n",
       "      <th></th>\n",
       "      <th>RECORD_TIME</th>\n",
       "    </tr>\n",
       "  </thead>\n",
       "  <tbody>\n",
       "    <tr>\n",
       "      <th>0</th>\n",
       "      <td>2021-09-22 15:00</td>\n",
       "    </tr>\n",
       "    <tr>\n",
       "      <th>1</th>\n",
       "      <td>2021-09-22 14:30</td>\n",
       "    </tr>\n",
       "  </tbody>\n",
       "</table>\n",
       "</div>"
      ],
      "text/plain": [
       "        RECORD_TIME\n",
       "0  2021-09-22 15:00\n",
       "1  2021-09-22 14:30"
      ]
     },
     "execution_count": 3,
     "metadata": {},
     "output_type": "execute_result"
    }
   ],
   "source": [
    "timestamps"
   ]
  },
  {
   "cell_type": "code",
   "execution_count": 4,
   "id": "alternate-victory",
   "metadata": {
    "execution": {
     "iopub.execute_input": "2021-09-22T13:00:08.826225Z",
     "iopub.status.busy": "2021-09-22T13:00:08.823940Z",
     "iopub.status.idle": "2021-09-22T13:00:09.339101Z",
     "shell.execute_reply": "2021-09-22T13:00:09.340519Z"
    },
    "papermill": {
     "duration": 0.545835,
     "end_time": "2021-09-22T13:00:09.340957",
     "exception": false,
     "start_time": "2021-09-22T13:00:08.795122",
     "status": "completed"
    },
    "tags": []
   },
   "outputs": [],
   "source": [
    "df = pd.read_sql(\"select * from EBAY_TOP_BERLIN where record_time in (select distinct record_time from EBAY_TOP_BERLIN order by record_time desc limit 2)\", sqlite3.connect(\"UsedObjects.db\"))"
   ]
  },
  {
   "cell_type": "code",
   "execution_count": 5,
   "id": "popular-active",
   "metadata": {
    "execution": {
     "iopub.execute_input": "2021-09-22T13:00:09.419882Z",
     "iopub.status.busy": "2021-09-22T13:00:09.408288Z",
     "iopub.status.idle": "2021-09-22T13:00:09.435389Z",
     "shell.execute_reply": "2021-09-22T13:00:09.436604Z"
    },
    "papermill": {
     "duration": 0.069975,
     "end_time": "2021-09-22T13:00:09.436998",
     "exception": false,
     "start_time": "2021-09-22T13:00:09.367023",
     "status": "completed"
    },
    "tags": []
   },
   "outputs": [],
   "source": [
    "df_pivot = df.pivot_table(index=\"PRODUCT\", columns = \"RECORD_TIME\", values = \"LISTING_COUNT\")"
   ]
  },
  {
   "cell_type": "code",
   "execution_count": 6,
   "id": "union-huntington",
   "metadata": {
    "execution": {
     "iopub.execute_input": "2021-09-22T13:00:09.493124Z",
     "iopub.status.busy": "2021-09-22T13:00:09.491098Z",
     "iopub.status.idle": "2021-09-22T13:00:09.496242Z",
     "shell.execute_reply": "2021-09-22T13:00:09.497524Z"
    },
    "papermill": {
     "duration": 0.039748,
     "end_time": "2021-09-22T13:00:09.497936",
     "exception": false,
     "start_time": "2021-09-22T13:00:09.458188",
     "status": "completed"
    },
    "tags": []
   },
   "outputs": [],
   "source": [
    "df_pivot.columns = [\"stamp_1\", \"stamp_2\"]\n",
    "df_pivot_diff = df_pivot.diff(axis=1)"
   ]
  },
  {
   "cell_type": "code",
   "execution_count": 7,
   "id": "fifth-motion",
   "metadata": {
    "execution": {
     "iopub.execute_input": "2021-09-22T13:00:09.551896Z",
     "iopub.status.busy": "2021-09-22T13:00:09.549315Z",
     "iopub.status.idle": "2021-09-22T13:00:11.066938Z",
     "shell.execute_reply": "2021-09-22T13:00:11.068580Z"
    },
    "papermill": {
     "duration": 1.551047,
     "end_time": "2021-09-22T13:00:11.069077",
     "exception": false,
     "start_time": "2021-09-22T13:00:09.518030",
     "status": "completed"
    },
    "tags": []
   },
   "outputs": [
    {
     "data": {
      "text/plain": [
       "<AxesSubplot:ylabel='PRODUCT'>"
      ]
     },
     "execution_count": 7,
     "metadata": {},
     "output_type": "execute_result"
    },
    {
     "data": {
      "image/png": "[encoded data removed]",
      "text/plain": [
       "<Figure size 432x288 with 1 Axes>"
      ]
     },
     "metadata": {
      "needs_background": "light"
     },
     "output_type": "display_data"
    }
   ],
   "source": [
    "df_pivot_diff.sort_values(\"stamp_2\", ascending = False)[\"stamp_2\"].head(10).plot.barh()"
   ]
  },
  {
   "cell_type": "code",
   "execution_count": null,
   "id": "extra-executive",
   "metadata": {
    "papermill": {
     "duration": 0.022192,
     "end_time": "2021-09-22T13:00:11.115649",
     "exception": false,
     "start_time": "2021-09-22T13:00:11.093457",
     "status": "completed"
    },
    "tags": []
   },
   "outputs": [],
   "source": []
  }
 ],
 "metadata": {
  "kernelspec": {
   "display_name": "Python 3",
   "language": "python",
   "name": "python3"
  },
  "language_info": {
   "codemirror_mode": {
    "name": "ipython",
    "version": 3
   },
   "file_extension": ".py",
   "mimetype": "text/x-python",
   "name": "python",
   "nbconvert_exporter": "python",
   "pygments_lexer": "ipython3",
   "version": "3.9.5"
  },
  "papermill": {
   "default_parameters": {},
   "duration": 6.736905,
   "end_time": "2021-09-22T13:00:11.758890",
   "environment_variables": {},
   "exception": null,
   "input_path": "eBay_Overview.ipynb",
   "output_path": "eBay_Overview.ipynb",
   "parameters": {},
   "start_time": "2021-09-22T13:00:05.021985",
   "version": "2.3.3"
  }
 },
 "nbformat": 4,
 "nbformat_minor": 5
}