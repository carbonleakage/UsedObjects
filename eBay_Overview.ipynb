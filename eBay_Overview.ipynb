{
 "cells": [
  {
   "cell_type": "code",
   "execution_count": 1,
   "id": "reverse-picking",
   "metadata": {
    "execution": {
     "iopub.execute_input": "2021-11-15T06:00:07.298222Z",
     "iopub.status.busy": "2021-11-15T06:00:07.295807Z",
     "iopub.status.idle": "2021-11-15T06:00:08.254841Z",
     "shell.execute_reply": "2021-11-15T06:00:08.256345Z"
    },
    "papermill": {
     "duration": 1.010166,
     "end_time": "2021-11-15T06:00:08.257157",
     "exception": false,
     "start_time": "2021-11-15T06:00:07.246991",
     "status": "completed"
    },
    "tags": []
   },
   "outputs": [],
   "source": [
    "import pandas as pd\n",
    "import sqlite3"
   ]
  },
  {
   "cell_type": "code",
   "execution_count": 2,
   "id": "innovative-syndrome",
   "metadata": {
    "execution": {
     "iopub.execute_input": "2021-11-15T06:00:08.322845Z",
     "iopub.status.busy": "2021-11-15T06:00:08.320340Z",
     "iopub.status.idle": "2021-11-15T06:00:09.151210Z",
     "shell.execute_reply": "2021-11-15T06:00:09.152948Z"
    },
    "papermill": {
     "duration": 0.86604,
     "end_time": "2021-11-15T06:00:09.153441",
     "exception": false,
     "start_time": "2021-11-15T06:00:08.287401",
     "status": "completed"
    },
    "tags": []
   },
   "outputs": [],
   "source": [
    "timestamps = pd.read_sql(\"select distinct record_time from EBAY_TOP_BERLIN order by record_time desc limit 2\", sqlite3.connect(\"UsedObjects.db\"))"
   ]
  },
  {
   "cell_type": "code",
   "execution_count": 3,
   "id": "periodic-identification",
   "metadata": {
    "execution": {
     "iopub.execute_input": "2021-11-15T06:00:09.227752Z",
     "iopub.status.busy": "2021-11-15T06:00:09.225439Z",
     "iopub.status.idle": "2021-11-15T06:00:09.247336Z",
     "shell.execute_reply": "2021-11-15T06:00:09.248834Z"
    },
    "papermill": {
     "duration": 0.074993,
     "end_time": "2021-11-15T06:00:09.249349",
     "exception": false,
     "start_time": "2021-11-15T06:00:09.174356",
     "status": "completed"
    },
    "tags": []
   },
   "outputs": [
    {
     "data": {
      "text/html": [
       "<div>\n",
       "<style scoped>\n",
       "    .dataframe tbody tr th:only-of-type {\n",
       "        vertical-align: middle;\n",
       "    }\n",
       "\n",
       "    .dataframe tbody tr th {\n",
       "        vertical-align: top;\n",
       "    }\n",
       "\n",
       "    .dataframe thead th {\n",
       "        text-align: right;\n",
       "    }\n",
       "</style>\n",
       "<table border=\"1\" class=\"dataframe\">\n",
       "  <thead>\n",
       "    <tr style=\"text-align: right;\">\n",
       "      <th></th>\n",
       "      <th>RECORD_TIME</th>\n",
       "    </tr>\n",
       "  </thead>\n",
       "  <tbody>\n",
       "    <tr>\n",
       "      <th>0</th>\n",
       "      <td>2021-11-15 07:00</td>\n",
       "    </tr>\n",
       "    <tr>\n",
       "      <th>1</th>\n",
       "      <td>2021-11-15 06:30</td>\n",
       "    </tr>\n",
       "  </tbody>\n",
       "</table>\n",
       "</div>"
      ],
      "text/plain": [
       "        RECORD_TIME\n",
       "0  2021-11-15 07:00\n",
       "1  2021-11-15 06:30"
      ]
     },
     "execution_count": 3,
     "metadata": {},
     "output_type": "execute_result"
    }
   ],
   "source": [
    "timestamps"
   ]
  },
  {
   "cell_type": "code",
   "execution_count": 4,
   "id": "alternate-victory",
   "metadata": {
    "execution": {
     "iopub.execute_input": "2021-11-15T06:00:09.305859Z",
     "iopub.status.busy": "2021-11-15T06:00:09.303601Z",
     "iopub.status.idle": "2021-11-15T06:00:10.495875Z",
     "shell.execute_reply": "2021-11-15T06:00:10.497772Z"
    },
    "papermill": {
     "duration": 1.227803,
     "end_time": "2021-11-15T06:00:10.498385",
     "exception": false,
     "start_time": "2021-11-15T06:00:09.270582",
     "status": "completed"
    },
    "tags": []
   },
   "outputs": [],
   "source": [
    "df = pd.read_sql(\"select * from EBAY_TOP_BERLIN where record_time in (select distinct record_time from EBAY_TOP_BERLIN order by record_time desc limit 2)\", sqlite3.connect(\"UsedObjects.db\"))"
   ]
  },
  {
   "cell_type": "code",
   "execution_count": 5,
   "id": "popular-active",
   "metadata": {
    "execution": {
     "iopub.execute_input": "2021-11-15T06:00:10.587939Z",
     "iopub.status.busy": "2021-11-15T06:00:10.585426Z",
     "iopub.status.idle": "2021-11-15T06:00:10.621765Z",
     "shell.execute_reply": "2021-11-15T06:00:10.620080Z"
    },
    "papermill": {
     "duration": 0.090459,
     "end_time": "2021-11-15T06:00:10.622211",
     "exception": false,
     "start_time": "2021-11-15T06:00:10.531752",
     "status": "completed"
    },
    "tags": []
   },
   "outputs": [],
   "source": [
    "df_pivot = df.pivot_table(index=\"PRODUCT\", columns = \"RECORD_TIME\", values = \"LISTING_COUNT\")"
   ]
  },
  {
   "cell_type": "code",
   "execution_count": 6,
   "id": "union-huntington",
   "metadata": {
    "execution": {
     "iopub.execute_input": "2021-11-15T06:00:10.683429Z",
     "iopub.status.busy": "2021-11-15T06:00:10.680988Z",
     "iopub.status.idle": "2021-11-15T06:00:10.687119Z",
     "shell.execute_reply": "2021-11-15T06:00:10.689000Z"
    },
    "papermill": {
     "duration": 0.045439,
     "end_time": "2021-11-15T06:00:10.689509",
     "exception": false,
     "start_time": "2021-11-15T06:00:10.644070",
     "status": "completed"
    },
    "tags": []
   },
   "outputs": [],
   "source": [
    "df_pivot.columns = [\"stamp_1\", \"stamp_2\"]\n",
    "df_pivot_diff = df_pivot.diff(axis=1)"
   ]
  },
  {
   "cell_type": "code",
   "execution_count": 7,
   "id": "fifth-motion",
   "metadata": {
    "execution": {
     "iopub.execute_input": "2021-11-15T06:00:10.746157Z",
     "iopub.status.busy": "2021-11-15T06:00:10.743409Z",
     "iopub.status.idle": "2021-11-15T06:00:12.439729Z",
     "shell.execute_reply": "2021-11-15T06:00:12.441151Z"
    },
    "papermill": {
     "duration": 1.731608,
     "end_time": "2021-11-15T06:00:12.441612",
     "exception": false,
     "start_time": "2021-11-15T06:00:10.710004",
     "status": "completed"
    },
    "tags": []
   },
   "outputs": [
    {
     "data": {
      "text/plain": [
       "<AxesSubplot:ylabel='PRODUCT'>"
      ]
     },
     "execution_count": 7,
     "metadata": {},
     "output_type": "execute_result"
    },
    {
     "data": {
      "image/png": "[encoded data removed]",
      "text/plain": [
       "<Figure size 432x288 with 1 Axes>"
      ]
     },
     "metadata": {
      "needs_background": "light"
     },
     "output_type": "display_data"
    }
   ],
   "source": [
    "df_pivot_diff.sort_values(\"stamp_2\", ascending = False)[\"stamp_2\"].head(10).plot.barh()"
   ]
  },
  {
   "cell_type": "code",
   "execution_count": null,
   "id": "extra-executive",
   "metadata": {
    "papermill": {
     "duration": 0.024715,
     "end_time": "2021-11-15T06:00:12.492053",
     "exception": false,
     "start_time": "2021-11-15T06:00:12.467338",
     "status": "completed"
    },
    "tags": []
   },
   "outputs": [],
   "source": []
  }
 ],
 "metadata": {
  "kernelspec": {
   "display_name": "Python 3",
   "language": "python",
   "name": "python3"
  },
  "language_info": {
   "codemirror_mode": {
    "name": "ipython",
    "version": 3
   },
   "file_extension": ".py",
   "mimetype": "text/x-python",
   "name": "python",
   "nbconvert_exporter": "python",
   "pygments_lexer": "ipython3",
   "version": "3.9.5"
  },
  "papermill": {
   "default_parameters": {},
   "duration": 8.604197,
   "end_time": "2021-11-15T06:00:13.134797",
   "environment_variables": {},
   "exception": null,
   "input_path": "eBay_Overview.ipynb",
   "output_path": "eBay_Overview.ipynb",
   "parameters": {},
   "start_time": "2021-11-15T06:00:04.530600",
   "version": "2.3.3"
  }
 },
 "nbformat": 4,
 "nbformat_minor": 5
}