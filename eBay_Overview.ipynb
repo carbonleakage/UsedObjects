{
 "cells": [
  {
   "cell_type": "code",
   "execution_count": 1,
   "id": "reverse-picking",
   "metadata": {
    "execution": {
     "iopub.execute_input": "2021-11-06T19:00:07.265226Z",
     "iopub.status.busy": "2021-11-06T19:00:07.262789Z",
     "iopub.status.idle": "2021-11-06T19:00:08.209637Z",
     "shell.execute_reply": "2021-11-06T19:00:08.211187Z"
    },
    "papermill": {
     "duration": 0.99744,
     "end_time": "2021-11-06T19:00:08.211957",
     "exception": false,
     "start_time": "2021-11-06T19:00:07.214517",
     "status": "completed"
    },
    "tags": []
   },
   "outputs": [],
   "source": [
    "import pandas as pd\n",
    "import sqlite3"
   ]
  },
  {
   "cell_type": "code",
   "execution_count": 2,
   "id": "innovative-syndrome",
   "metadata": {
    "execution": {
     "iopub.execute_input": "2021-11-06T19:00:08.277992Z",
     "iopub.status.busy": "2021-11-06T19:00:08.275544Z",
     "iopub.status.idle": "2021-11-06T19:00:09.016972Z",
     "shell.execute_reply": "2021-11-06T19:00:09.018588Z"
    },
    "papermill": {
     "duration": 0.77618,
     "end_time": "2021-11-06T19:00:09.019080",
     "exception": false,
     "start_time": "2021-11-06T19:00:08.242900",
     "status": "completed"
    },
    "tags": []
   },
   "outputs": [],
   "source": [
    "timestamps = pd.read_sql(\"select distinct record_time from EBAY_TOP_BERLIN order by record_time desc limit 2\", sqlite3.connect(\"UsedObjects.db\"))"
   ]
  },
  {
   "cell_type": "code",
   "execution_count": 3,
   "id": "periodic-identification",
   "metadata": {
    "execution": {
     "iopub.execute_input": "2021-11-06T19:00:09.107505Z",
     "iopub.status.busy": "2021-11-06T19:00:09.105082Z",
     "iopub.status.idle": "2021-11-06T19:00:09.128112Z",
     "shell.execute_reply": "2021-11-06T19:00:09.129713Z"
    },
    "papermill": {
     "duration": 0.089935,
     "end_time": "2021-11-06T19:00:09.130236",
     "exception": false,
     "start_time": "2021-11-06T19:00:09.040301",
     "status": "completed"
    },
    "tags": []
   },
   "outputs": [
    {
     "data": {
      "text/html": [
       "<div>\n",
       "<style scoped>\n",
       "    .dataframe tbody tr th:only-of-type {\n",
       "        vertical-align: middle;\n",
       "    }\n",
       "\n",
       "    .dataframe tbody tr th {\n",
       "        vertical-align: top;\n",
       "    }\n",
       "\n",
       "    .dataframe thead th {\n",
       "        text-align: right;\n",
       "    }\n",
       "</style>\n",
       "<table border=\"1\" class=\"dataframe\">\n",
       "  <thead>\n",
       "    <tr style=\"text-align: right;\">\n",
       "      <th></th>\n",
       "      <th>RECORD_TIME</th>\n",
       "    </tr>\n",
       "  </thead>\n",
       "  <tbody>\n",
       "    <tr>\n",
       "      <th>0</th>\n",
       "      <td>2021-11-06 20:00</td>\n",
       "    </tr>\n",
       "    <tr>\n",
       "      <th>1</th>\n",
       "      <td>2021-11-06 19:30</td>\n",
       "    </tr>\n",
       "  </tbody>\n",
       "</table>\n",
       "</div>"
      ],
      "text/plain": [
       "        RECORD_TIME\n",
       "0  2021-11-06 20:00\n",
       "1  2021-11-06 19:30"
      ]
     },
     "execution_count": 3,
     "metadata": {},
     "output_type": "execute_result"
    }
   ],
   "source": [
    "timestamps"
   ]
  },
  {
   "cell_type": "code",
   "execution_count": 4,
   "id": "alternate-victory",
   "metadata": {
    "execution": {
     "iopub.execute_input": "2021-11-06T19:00:09.187063Z",
     "iopub.status.busy": "2021-11-06T19:00:09.184915Z",
     "iopub.status.idle": "2021-11-06T19:00:10.251197Z",
     "shell.execute_reply": "2021-11-06T19:00:10.252715Z"
    },
    "papermill": {
     "duration": 1.101101,
     "end_time": "2021-11-06T19:00:10.253215",
     "exception": false,
     "start_time": "2021-11-06T19:00:09.152114",
     "status": "completed"
    },
    "tags": []
   },
   "outputs": [],
   "source": [
    "df = pd.read_sql(\"select * from EBAY_TOP_BERLIN where record_time in (select distinct record_time from EBAY_TOP_BERLIN order by record_time desc limit 2)\", sqlite3.connect(\"UsedObjects.db\"))"
   ]
  },
  {
   "cell_type": "code",
   "execution_count": 5,
   "id": "popular-active",
   "metadata": {
    "execution": {
     "iopub.execute_input": "2021-11-06T19:00:10.312779Z",
     "iopub.status.busy": "2021-11-06T19:00:10.310699Z",
     "iopub.status.idle": "2021-11-06T19:00:10.366697Z",
     "shell.execute_reply": "2021-11-06T19:00:10.369420Z"
    },
    "papermill": {
     "duration": 0.093999,
     "end_time": "2021-11-06T19:00:10.369921",
     "exception": false,
     "start_time": "2021-11-06T19:00:10.275922",
     "status": "completed"
    },
    "tags": []
   },
   "outputs": [],
   "source": [
    "df_pivot = df.pivot_table(index=\"PRODUCT\", columns = \"RECORD_TIME\", values = \"LISTING_COUNT\")"
   ]
  },
  {
   "cell_type": "code",
   "execution_count": 6,
   "id": "union-huntington",
   "metadata": {
    "execution": {
     "iopub.execute_input": "2021-11-06T19:00:10.432204Z",
     "iopub.status.busy": "2021-11-06T19:00:10.429904Z",
     "iopub.status.idle": "2021-11-06T19:00:10.435856Z",
     "shell.execute_reply": "2021-11-06T19:00:10.437502Z"
    },
    "papermill": {
     "duration": 0.046054,
     "end_time": "2021-11-06T19:00:10.438004",
     "exception": false,
     "start_time": "2021-11-06T19:00:10.391950",
     "status": "completed"
    },
    "tags": []
   },
   "outputs": [],
   "source": [
    "df_pivot.columns = [\"stamp_1\", \"stamp_2\"]\n",
    "df_pivot_diff = df_pivot.diff(axis=1)"
   ]
  },
  {
   "cell_type": "code",
   "execution_count": 7,
   "id": "fifth-motion",
   "metadata": {
    "execution": {
     "iopub.execute_input": "2021-11-06T19:00:10.498147Z",
     "iopub.status.busy": "2021-11-06T19:00:10.495512Z",
     "iopub.status.idle": "2021-11-06T19:00:12.257774Z",
     "shell.execute_reply": "2021-11-06T19:00:12.256209Z"
    },
    "papermill": {
     "duration": 1.798336,
     "end_time": "2021-11-06T19:00:12.258208",
     "exception": false,
     "start_time": "2021-11-06T19:00:10.459872",
     "status": "completed"
    },
    "tags": []
   },
   "outputs": [
    {
     "data": {
      "text/plain": [
       "<AxesSubplot:ylabel='PRODUCT'>"
      ]
     },
     "execution_count": 7,
     "metadata": {},
     "output_type": "execute_result"
    },
    {
     "data": {
      "image/png": "[encoded data removed]",
      "text/plain": [
       "<Figure size 432x288 with 1 Axes>"
      ]
     },
     "metadata": {
      "needs_background": "light"
     },
     "output_type": "display_data"
    }
   ],
   "source": [
    "df_pivot_diff.sort_values(\"stamp_2\", ascending = False)[\"stamp_2\"].head(10).plot.barh()"
   ]
  },
  {
   "cell_type": "code",
   "execution_count": null,
   "id": "extra-executive",
   "metadata": {
    "papermill": {
     "duration": 0.024144,
     "end_time": "2021-11-06T19:00:12.306792",
     "exception": false,
     "start_time": "2021-11-06T19:00:12.282648",
     "status": "completed"
    },
    "tags": []
   },
   "outputs": [],
   "source": []
  }
 ],
 "metadata": {
  "kernelspec": {
   "display_name": "Python 3",
   "language": "python",
   "name": "python3"
  },
  "language_info": {
   "codemirror_mode": {
    "name": "ipython",
    "version": 3
   },
   "file_extension": ".py",
   "mimetype": "text/x-python",
   "name": "python",
   "nbconvert_exporter": "python",
   "pygments_lexer": "ipython3",
   "version": "3.9.5"
  },
  "papermill": {
   "default_parameters": {},
   "duration": 11.025737,
   "end_time": "2021-11-06T19:00:15.421812",
   "environment_variables": {},
   "exception": null,
   "input_path": "eBay_Overview.ipynb",
   "output_path": "eBay_Overview.ipynb",
   "parameters": {},
   "start_time": "2021-11-06T19:00:04.396075",
   "version": "2.3.3"
  }
 },
 "nbformat": 4,
 "nbformat_minor": 5
}