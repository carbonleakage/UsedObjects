{
 "cells": [
  {
   "cell_type": "code",
   "execution_count": 1,
   "id": "reverse-picking",
   "metadata": {
    "execution": {
     "iopub.execute_input": "2021-11-13T19:30:07.584005Z",
     "iopub.status.busy": "2021-11-13T19:30:07.581775Z",
     "iopub.status.idle": "2021-11-13T19:30:08.525434Z",
     "shell.execute_reply": "2021-11-13T19:30:08.526977Z"
    },
    "papermill": {
     "duration": 0.992407,
     "end_time": "2021-11-13T19:30:08.527734",
     "exception": false,
     "start_time": "2021-11-13T19:30:07.535327",
     "status": "completed"
    },
    "tags": []
   },
   "outputs": [],
   "source": [
    "import pandas as pd\n",
    "import sqlite3"
   ]
  },
  {
   "cell_type": "code",
   "execution_count": 2,
   "id": "innovative-syndrome",
   "metadata": {
    "execution": {
     "iopub.execute_input": "2021-11-13T19:30:08.594076Z",
     "iopub.status.busy": "2021-11-13T19:30:08.591737Z",
     "iopub.status.idle": "2021-11-13T19:30:09.403263Z",
     "shell.execute_reply": "2021-11-13T19:30:09.404835Z"
    },
    "papermill": {
     "duration": 0.849048,
     "end_time": "2021-11-13T19:30:09.405347",
     "exception": false,
     "start_time": "2021-11-13T19:30:08.556299",
     "status": "completed"
    },
    "tags": []
   },
   "outputs": [],
   "source": [
    "timestamps = pd.read_sql(\"select distinct record_time from EBAY_TOP_BERLIN order by record_time desc limit 2\", sqlite3.connect(\"UsedObjects.db\"))"
   ]
  },
  {
   "cell_type": "code",
   "execution_count": 3,
   "id": "periodic-identification",
   "metadata": {
    "execution": {
     "iopub.execute_input": "2021-11-13T19:30:09.474901Z",
     "iopub.status.busy": "2021-11-13T19:30:09.472636Z",
     "iopub.status.idle": "2021-11-13T19:30:09.496967Z",
     "shell.execute_reply": "2021-11-13T19:30:09.498813Z"
    },
    "papermill": {
     "duration": 0.07397,
     "end_time": "2021-11-13T19:30:09.499310",
     "exception": false,
     "start_time": "2021-11-13T19:30:09.425340",
     "status": "completed"
    },
    "tags": []
   },
   "outputs": [
    {
     "data": {
      "text/html": [
       "<div>\n",
       "<style scoped>\n",
       "    .dataframe tbody tr th:only-of-type {\n",
       "        vertical-align: middle;\n",
       "    }\n",
       "\n",
       "    .dataframe tbody tr th {\n",
       "        vertical-align: top;\n",
       "    }\n",
       "\n",
       "    .dataframe thead th {\n",
       "        text-align: right;\n",
       "    }\n",
       "</style>\n",
       "<table border=\"1\" class=\"dataframe\">\n",
       "  <thead>\n",
       "    <tr style=\"text-align: right;\">\n",
       "      <th></th>\n",
       "      <th>RECORD_TIME</th>\n",
       "    </tr>\n",
       "  </thead>\n",
       "  <tbody>\n",
       "    <tr>\n",
       "      <th>0</th>\n",
       "      <td>2021-11-13 20:30</td>\n",
       "    </tr>\n",
       "    <tr>\n",
       "      <th>1</th>\n",
       "      <td>2021-11-13 20:00</td>\n",
       "    </tr>\n",
       "  </tbody>\n",
       "</table>\n",
       "</div>"
      ],
      "text/plain": [
       "        RECORD_TIME\n",
       "0  2021-11-13 20:30\n",
       "1  2021-11-13 20:00"
      ]
     },
     "execution_count": 3,
     "metadata": {},
     "output_type": "execute_result"
    }
   ],
   "source": [
    "timestamps"
   ]
  },
  {
   "cell_type": "code",
   "execution_count": 4,
   "id": "alternate-victory",
   "metadata": {
    "execution": {
     "iopub.execute_input": "2021-11-13T19:30:09.556138Z",
     "iopub.status.busy": "2021-11-13T19:30:09.554228Z",
     "iopub.status.idle": "2021-11-13T19:30:10.742967Z",
     "shell.execute_reply": "2021-11-13T19:30:10.744406Z"
    },
    "papermill": {
     "duration": 1.224124,
     "end_time": "2021-11-13T19:30:10.745043",
     "exception": false,
     "start_time": "2021-11-13T19:30:09.520919",
     "status": "completed"
    },
    "tags": []
   },
   "outputs": [],
   "source": [
    "df = pd.read_sql(\"select * from EBAY_TOP_BERLIN where record_time in (select distinct record_time from EBAY_TOP_BERLIN order by record_time desc limit 2)\", sqlite3.connect(\"UsedObjects.db\"))"
   ]
  },
  {
   "cell_type": "code",
   "execution_count": 5,
   "id": "popular-active",
   "metadata": {
    "execution": {
     "iopub.execute_input": "2021-11-13T19:30:10.828136Z",
     "iopub.status.busy": "2021-11-13T19:30:10.819781Z",
     "iopub.status.idle": "2021-11-13T19:30:10.842419Z",
     "shell.execute_reply": "2021-11-13T19:30:10.843713Z"
    },
    "papermill": {
     "duration": 0.07655,
     "end_time": "2021-11-13T19:30:10.844179",
     "exception": false,
     "start_time": "2021-11-13T19:30:10.767629",
     "status": "completed"
    },
    "tags": []
   },
   "outputs": [],
   "source": [
    "df_pivot = df.pivot_table(index=\"PRODUCT\", columns = \"RECORD_TIME\", values = \"LISTING_COUNT\")"
   ]
  },
  {
   "cell_type": "code",
   "execution_count": 6,
   "id": "union-huntington",
   "metadata": {
    "execution": {
     "iopub.execute_input": "2021-11-13T19:30:10.906828Z",
     "iopub.status.busy": "2021-11-13T19:30:10.904532Z",
     "iopub.status.idle": "2021-11-13T19:30:10.909878Z",
     "shell.execute_reply": "2021-11-13T19:30:10.911484Z"
    },
    "papermill": {
     "duration": 0.044972,
     "end_time": "2021-11-13T19:30:10.911971",
     "exception": false,
     "start_time": "2021-11-13T19:30:10.866999",
     "status": "completed"
    },
    "tags": []
   },
   "outputs": [],
   "source": [
    "df_pivot.columns = [\"stamp_1\", \"stamp_2\"]\n",
    "df_pivot_diff = df_pivot.diff(axis=1)"
   ]
  },
  {
   "cell_type": "code",
   "execution_count": 7,
   "id": "fifth-motion",
   "metadata": {
    "execution": {
     "iopub.execute_input": "2021-11-13T19:30:10.971606Z",
     "iopub.status.busy": "2021-11-13T19:30:10.969169Z",
     "iopub.status.idle": "2021-11-13T19:30:12.881393Z",
     "shell.execute_reply": "2021-11-13T19:30:12.882739Z"
    },
    "papermill": {
     "duration": 1.948997,
     "end_time": "2021-11-13T19:30:12.883205",
     "exception": false,
     "start_time": "2021-11-13T19:30:10.934208",
     "status": "completed"
    },
    "tags": []
   },
   "outputs": [
    {
     "data": {
      "text/plain": [
       "<AxesSubplot:ylabel='PRODUCT'>"
      ]
     },
     "execution_count": 7,
     "metadata": {},
     "output_type": "execute_result"
    },
    {
     "data": {
      "image/png": "[encoded data removed]",
      "text/plain": [
       "<Figure size 432x288 with 1 Axes>"
      ]
     },
     "metadata": {
      "needs_background": "light"
     },
     "output_type": "display_data"
    }
   ],
   "source": [
    "df_pivot_diff.sort_values(\"stamp_2\", ascending = False)[\"stamp_2\"].head(10).plot.barh()"
   ]
  },
  {
   "cell_type": "code",
   "execution_count": null,
   "id": "extra-executive",
   "metadata": {
    "papermill": {
     "duration": 0.036436,
     "end_time": "2021-11-13T19:30:12.946067",
     "exception": false,
     "start_time": "2021-11-13T19:30:12.909631",
     "status": "completed"
    },
    "tags": []
   },
   "outputs": [],
   "source": []
  }
 ],
 "metadata": {
  "kernelspec": {
   "display_name": "Python 3",
   "language": "python",
   "name": "python3"
  },
  "language_info": {
   "codemirror_mode": {
    "name": "ipython",
    "version": 3
   },
   "file_extension": ".py",
   "mimetype": "text/x-python",
   "name": "python",
   "nbconvert_exporter": "python",
   "pygments_lexer": "ipython3",
   "version": "3.9.5"
  },
  "papermill": {
   "default_parameters": {},
   "duration": 8.900985,
   "end_time": "2021-11-13T19:30:13.727619",
   "environment_variables": {},
   "exception": null,
   "input_path": "eBay_Overview.ipynb",
   "output_path": "eBay_Overview.ipynb",
   "parameters": {},
   "start_time": "2021-11-13T19:30:04.826634",
   "version": "2.3.3"
  }
 },
 "nbformat": 4,
 "nbformat_minor": 5
}