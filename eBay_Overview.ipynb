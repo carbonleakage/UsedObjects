{
 "cells": [
  {
   "cell_type": "code",
   "execution_count": 1,
   "id": "reverse-picking",
   "metadata": {
    "execution": {
     "iopub.execute_input": "2021-09-10T05:30:07.565007Z",
     "iopub.status.busy": "2021-09-10T05:30:07.563035Z",
     "iopub.status.idle": "2021-09-10T05:30:08.373565Z",
     "shell.execute_reply": "2021-09-10T05:30:08.374972Z"
    },
    "papermill": {
     "duration": 0.861282,
     "end_time": "2021-09-10T05:30:08.375620",
     "exception": false,
     "start_time": "2021-09-10T05:30:07.514338",
     "status": "completed"
    },
    "tags": []
   },
   "outputs": [],
   "source": [
    "import pandas as pd\n",
    "import sqlite3"
   ]
  },
  {
   "cell_type": "code",
   "execution_count": 2,
   "id": "innovative-syndrome",
   "metadata": {
    "execution": {
     "iopub.execute_input": "2021-09-10T05:30:08.426066Z",
     "iopub.status.busy": "2021-09-10T05:30:08.424022Z",
     "iopub.status.idle": "2021-09-10T05:30:08.671790Z",
     "shell.execute_reply": "2021-09-10T05:30:08.673091Z"
    },
    "papermill": {
     "duration": 0.278091,
     "end_time": "2021-09-10T05:30:08.673541",
     "exception": false,
     "start_time": "2021-09-10T05:30:08.395450",
     "status": "completed"
    },
    "tags": []
   },
   "outputs": [],
   "source": [
    "timestamps = pd.read_sql(\"select distinct record_time from EBAY_TOP_BERLIN order by record_time desc limit 2\", sqlite3.connect(\"UsedObjects.db\"))"
   ]
  },
  {
   "cell_type": "code",
   "execution_count": 3,
   "id": "periodic-identification",
   "metadata": {
    "execution": {
     "iopub.execute_input": "2021-09-10T05:30:08.741416Z",
     "iopub.status.busy": "2021-09-10T05:30:08.739311Z",
     "iopub.status.idle": "2021-09-10T05:30:08.759930Z",
     "shell.execute_reply": "2021-09-10T05:30:08.761222Z"
    },
    "papermill": {
     "duration": 0.068211,
     "end_time": "2021-09-10T05:30:08.761631",
     "exception": false,
     "start_time": "2021-09-10T05:30:08.693420",
     "status": "completed"
    },
    "tags": []
   },
   "outputs": [
    {
     "data": {
      "text/html": [
       "<div>\n",
       "<style scoped>\n",
       "    .dataframe tbody tr th:only-of-type {\n",
       "        vertical-align: middle;\n",
       "    }\n",
       "\n",
       "    .dataframe tbody tr th {\n",
       "        vertical-align: top;\n",
       "    }\n",
       "\n",
       "    .dataframe thead th {\n",
       "        text-align: right;\n",
       "    }\n",
       "</style>\n",
       "<table border=\"1\" class=\"dataframe\">\n",
       "  <thead>\n",
       "    <tr style=\"text-align: right;\">\n",
       "      <th></th>\n",
       "      <th>RECORD_TIME</th>\n",
       "    </tr>\n",
       "  </thead>\n",
       "  <tbody>\n",
       "    <tr>\n",
       "      <th>0</th>\n",
       "      <td>2021-09-10 07:30</td>\n",
       "    </tr>\n",
       "    <tr>\n",
       "      <th>1</th>\n",
       "      <td>2021-09-10 07:00</td>\n",
       "    </tr>\n",
       "  </tbody>\n",
       "</table>\n",
       "</div>"
      ],
      "text/plain": [
       "        RECORD_TIME\n",
       "0  2021-09-10 07:30\n",
       "1  2021-09-10 07:00"
      ]
     },
     "execution_count": 3,
     "metadata": {},
     "output_type": "execute_result"
    }
   ],
   "source": [
    "timestamps"
   ]
  },
  {
   "cell_type": "code",
   "execution_count": 4,
   "id": "alternate-victory",
   "metadata": {
    "execution": {
     "iopub.execute_input": "2021-09-10T05:30:08.813787Z",
     "iopub.status.busy": "2021-09-10T05:30:08.811523Z",
     "iopub.status.idle": "2021-09-10T05:30:09.186932Z",
     "shell.execute_reply": "2021-09-10T05:30:09.188241Z"
    },
    "papermill": {
     "duration": 0.40582,
     "end_time": "2021-09-10T05:30:09.188652",
     "exception": false,
     "start_time": "2021-09-10T05:30:08.782832",
     "status": "completed"
    },
    "tags": []
   },
   "outputs": [],
   "source": [
    "df = pd.read_sql(\"select * from EBAY_TOP_BERLIN where record_time in (select distinct record_time from EBAY_TOP_BERLIN order by record_time desc limit 2)\", sqlite3.connect(\"UsedObjects.db\"))"
   ]
  },
  {
   "cell_type": "code",
   "execution_count": 5,
   "id": "popular-active",
   "metadata": {
    "execution": {
     "iopub.execute_input": "2021-09-10T05:30:09.268730Z",
     "iopub.status.busy": "2021-09-10T05:30:09.256545Z",
     "iopub.status.idle": "2021-09-10T05:30:09.284318Z",
     "shell.execute_reply": "2021-09-10T05:30:09.285541Z"
    },
    "papermill": {
     "duration": 0.071248,
     "end_time": "2021-09-10T05:30:09.285932",
     "exception": false,
     "start_time": "2021-09-10T05:30:09.214684",
     "status": "completed"
    },
    "tags": []
   },
   "outputs": [],
   "source": [
    "df_pivot = df.pivot_table(index=\"PRODUCT\", columns = \"RECORD_TIME\", values = \"LISTING_COUNT\")"
   ]
  },
  {
   "cell_type": "code",
   "execution_count": 6,
   "id": "union-huntington",
   "metadata": {
    "execution": {
     "iopub.execute_input": "2021-09-10T05:30:09.345514Z",
     "iopub.status.busy": "2021-09-10T05:30:09.343071Z",
     "iopub.status.idle": "2021-09-10T05:30:09.349250Z",
     "shell.execute_reply": "2021-09-10T05:30:09.350713Z"
    },
    "papermill": {
     "duration": 0.043003,
     "end_time": "2021-09-10T05:30:09.351245",
     "exception": false,
     "start_time": "2021-09-10T05:30:09.308242",
     "status": "completed"
    },
    "tags": []
   },
   "outputs": [],
   "source": [
    "df_pivot.columns = [\"stamp_1\", \"stamp_2\"]\n",
    "df_pivot_diff = df_pivot.diff(axis=1)"
   ]
  },
  {
   "cell_type": "code",
   "execution_count": 7,
   "id": "fifth-motion",
   "metadata": {
    "execution": {
     "iopub.execute_input": "2021-09-10T05:30:09.406045Z",
     "iopub.status.busy": "2021-09-10T05:30:09.403760Z",
     "iopub.status.idle": "2021-09-10T05:30:10.913655Z",
     "shell.execute_reply": "2021-09-10T05:30:10.915086Z"
    },
    "papermill": {
     "duration": 1.542963,
     "end_time": "2021-09-10T05:30:10.915532",
     "exception": false,
     "start_time": "2021-09-10T05:30:09.372569",
     "status": "completed"
    },
    "tags": []
   },
   "outputs": [
    {
     "data": {
      "text/plain": [
       "<AxesSubplot:ylabel='PRODUCT'>"
      ]
     },
     "execution_count": 7,
     "metadata": {},
     "output_type": "execute_result"
    },
    {
     "data": {
      "image/png": "[encoded data removed]",
      "text/plain": [
       "<Figure size 432x288 with 1 Axes>"
      ]
     },
     "metadata": {
      "needs_background": "light"
     },
     "output_type": "display_data"
    }
   ],
   "source": [
    "df_pivot_diff.sort_values(\"stamp_2\", ascending = False)[\"stamp_2\"].head(10).plot.barh()"
   ]
  },
  {
   "cell_type": "code",
   "execution_count": null,
   "id": "extra-executive",
   "metadata": {
    "papermill": {
     "duration": 0.022261,
     "end_time": "2021-09-10T05:30:10.962497",
     "exception": false,
     "start_time": "2021-09-10T05:30:10.940236",
     "status": "completed"
    },
    "tags": []
   },
   "outputs": [],
   "source": []
  }
 ],
 "metadata": {
  "kernelspec": {
   "display_name": "Python 3",
   "language": "python",
   "name": "python3"
  },
  "language_info": {
   "codemirror_mode": {
    "name": "ipython",
    "version": 3
   },
   "file_extension": ".py",
   "mimetype": "text/x-python",
   "name": "python",
   "nbconvert_exporter": "python",
   "pygments_lexer": "ipython3",
   "version": "3.9.5"
  },
  "papermill": {
   "default_parameters": {},
   "duration": 6.510648,
   "end_time": "2021-09-10T05:30:11.602247",
   "environment_variables": {},
   "exception": null,
   "input_path": "eBay_Overview.ipynb",
   "output_path": "eBay_Overview.ipynb",
   "parameters": {},
   "start_time": "2021-09-10T05:30:05.091599",
   "version": "2.3.3"
  }
 },
 "nbformat": 4,
 "nbformat_minor": 5
}