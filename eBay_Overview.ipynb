{
 "cells": [
  {
   "cell_type": "code",
   "execution_count": 1,
   "id": "reverse-picking",
   "metadata": {
    "execution": {
     "iopub.execute_input": "2021-11-03T00:00:07.832658Z",
     "iopub.status.busy": "2021-11-03T00:00:07.830487Z",
     "iopub.status.idle": "2021-11-03T00:00:08.782306Z",
     "shell.execute_reply": "2021-11-03T00:00:08.783897Z"
    },
    "papermill": {
     "duration": 1.000986,
     "end_time": "2021-11-03T00:00:08.784614",
     "exception": false,
     "start_time": "2021-11-03T00:00:07.783628",
     "status": "completed"
    },
    "tags": []
   },
   "outputs": [],
   "source": [
    "import pandas as pd\n",
    "import sqlite3"
   ]
  },
  {
   "cell_type": "code",
   "execution_count": 2,
   "id": "innovative-syndrome",
   "metadata": {
    "execution": {
     "iopub.execute_input": "2021-11-03T00:00:08.841239Z",
     "iopub.status.busy": "2021-11-03T00:00:08.838160Z",
     "iopub.status.idle": "2021-11-03T00:00:09.581526Z",
     "shell.execute_reply": "2021-11-03T00:00:09.583086Z"
    },
    "papermill": {
     "duration": 0.777762,
     "end_time": "2021-11-03T00:00:09.583556",
     "exception": false,
     "start_time": "2021-11-03T00:00:08.805794",
     "status": "completed"
    },
    "tags": []
   },
   "outputs": [],
   "source": [
    "timestamps = pd.read_sql(\"select distinct record_time from EBAY_TOP_BERLIN order by record_time desc limit 2\", sqlite3.connect(\"UsedObjects.db\"))"
   ]
  },
  {
   "cell_type": "code",
   "execution_count": 3,
   "id": "periodic-identification",
   "metadata": {
    "execution": {
     "iopub.execute_input": "2021-11-03T00:00:09.655490Z",
     "iopub.status.busy": "2021-11-03T00:00:09.653125Z",
     "iopub.status.idle": "2021-11-03T00:00:09.675541Z",
     "shell.execute_reply": "2021-11-03T00:00:09.677217Z"
    },
    "papermill": {
     "duration": 0.07388,
     "end_time": "2021-11-03T00:00:09.677755",
     "exception": false,
     "start_time": "2021-11-03T00:00:09.603875",
     "status": "completed"
    },
    "tags": []
   },
   "outputs": [
    {
     "data": {
      "text/html": [
       "<div>\n",
       "<style scoped>\n",
       "    .dataframe tbody tr th:only-of-type {\n",
       "        vertical-align: middle;\n",
       "    }\n",
       "\n",
       "    .dataframe tbody tr th {\n",
       "        vertical-align: top;\n",
       "    }\n",
       "\n",
       "    .dataframe thead th {\n",
       "        text-align: right;\n",
       "    }\n",
       "</style>\n",
       "<table border=\"1\" class=\"dataframe\">\n",
       "  <thead>\n",
       "    <tr style=\"text-align: right;\">\n",
       "      <th></th>\n",
       "      <th>RECORD_TIME</th>\n",
       "    </tr>\n",
       "  </thead>\n",
       "  <tbody>\n",
       "    <tr>\n",
       "      <th>0</th>\n",
       "      <td>2021-11-03 01:00</td>\n",
       "    </tr>\n",
       "    <tr>\n",
       "      <th>1</th>\n",
       "      <td>2021-11-03 00:30</td>\n",
       "    </tr>\n",
       "  </tbody>\n",
       "</table>\n",
       "</div>"
      ],
      "text/plain": [
       "        RECORD_TIME\n",
       "0  2021-11-03 01:00\n",
       "1  2021-11-03 00:30"
      ]
     },
     "execution_count": 3,
     "metadata": {},
     "output_type": "execute_result"
    }
   ],
   "source": [
    "timestamps"
   ]
  },
  {
   "cell_type": "code",
   "execution_count": 4,
   "id": "alternate-victory",
   "metadata": {
    "execution": {
     "iopub.execute_input": "2021-11-03T00:00:09.731943Z",
     "iopub.status.busy": "2021-11-03T00:00:09.729812Z",
     "iopub.status.idle": "2021-11-03T00:00:10.769370Z",
     "shell.execute_reply": "2021-11-03T00:00:10.767637Z"
    },
    "papermill": {
     "duration": 1.070863,
     "end_time": "2021-11-03T00:00:10.769776",
     "exception": false,
     "start_time": "2021-11-03T00:00:09.698913",
     "status": "completed"
    },
    "tags": []
   },
   "outputs": [],
   "source": [
    "df = pd.read_sql(\"select * from EBAY_TOP_BERLIN where record_time in (select distinct record_time from EBAY_TOP_BERLIN order by record_time desc limit 2)\", sqlite3.connect(\"UsedObjects.db\"))"
   ]
  },
  {
   "cell_type": "code",
   "execution_count": 5,
   "id": "popular-active",
   "metadata": {
    "execution": {
     "iopub.execute_input": "2021-11-03T00:00:10.848796Z",
     "iopub.status.busy": "2021-11-03T00:00:10.834021Z",
     "iopub.status.idle": "2021-11-03T00:00:10.867066Z",
     "shell.execute_reply": "2021-11-03T00:00:10.868563Z"
    },
    "papermill": {
     "duration": 0.077549,
     "end_time": "2021-11-03T00:00:10.869125",
     "exception": false,
     "start_time": "2021-11-03T00:00:10.791576",
     "status": "completed"
    },
    "tags": []
   },
   "outputs": [],
   "source": [
    "df_pivot = df.pivot_table(index=\"PRODUCT\", columns = \"RECORD_TIME\", values = \"LISTING_COUNT\")"
   ]
  },
  {
   "cell_type": "code",
   "execution_count": 6,
   "id": "union-huntington",
   "metadata": {
    "execution": {
     "iopub.execute_input": "2021-11-03T00:00:10.931347Z",
     "iopub.status.busy": "2021-11-03T00:00:10.929130Z",
     "iopub.status.idle": "2021-11-03T00:00:10.935501Z",
     "shell.execute_reply": "2021-11-03T00:00:10.936980Z"
    },
    "papermill": {
     "duration": 0.046955,
     "end_time": "2021-11-03T00:00:10.937479",
     "exception": false,
     "start_time": "2021-11-03T00:00:10.890524",
     "status": "completed"
    },
    "tags": []
   },
   "outputs": [],
   "source": [
    "df_pivot.columns = [\"stamp_1\", \"stamp_2\"]\n",
    "df_pivot_diff = df_pivot.diff(axis=1)"
   ]
  },
  {
   "cell_type": "code",
   "execution_count": 7,
   "id": "fifth-motion",
   "metadata": {
    "execution": {
     "iopub.execute_input": "2021-11-03T00:00:10.996985Z",
     "iopub.status.busy": "2021-11-03T00:00:10.994323Z",
     "iopub.status.idle": "2021-11-03T00:00:12.714920Z",
     "shell.execute_reply": "2021-11-03T00:00:12.717738Z"
    },
    "papermill": {
     "duration": 1.759413,
     "end_time": "2021-11-03T00:00:12.718485",
     "exception": false,
     "start_time": "2021-11-03T00:00:10.959072",
     "status": "completed"
    },
    "tags": []
   },
   "outputs": [
    {
     "data": {
      "text/plain": [
       "<AxesSubplot:ylabel='PRODUCT'>"
      ]
     },
     "execution_count": 7,
     "metadata": {},
     "output_type": "execute_result"
    },
    {
     "data": {
      "image/png": "[encoded data removed]",
      "text/plain": [
       "<Figure size 432x288 with 1 Axes>"
      ]
     },
     "metadata": {
      "needs_background": "light"
     },
     "output_type": "display_data"
    }
   ],
   "source": [
    "df_pivot_diff.sort_values(\"stamp_2\", ascending = False)[\"stamp_2\"].head(10).plot.barh()"
   ]
  },
  {
   "cell_type": "code",
   "execution_count": null,
   "id": "extra-executive",
   "metadata": {
    "papermill": {
     "duration": 0.036623,
     "end_time": "2021-11-03T00:00:12.789469",
     "exception": false,
     "start_time": "2021-11-03T00:00:12.752846",
     "status": "completed"
    },
    "tags": []
   },
   "outputs": [],
   "source": []
  }
 ],
 "metadata": {
  "kernelspec": {
   "display_name": "Python 3",
   "language": "python",
   "name": "python3"
  },
  "language_info": {
   "codemirror_mode": {
    "name": "ipython",
    "version": 3
   },
   "file_extension": ".py",
   "mimetype": "text/x-python",
   "name": "python",
   "nbconvert_exporter": "python",
   "pygments_lexer": "ipython3",
   "version": "3.9.5"
  },
  "papermill": {
   "default_parameters": {},
   "duration": 8.660206,
   "end_time": "2021-11-03T00:00:13.654544",
   "environment_variables": {},
   "exception": null,
   "input_path": "eBay_Overview.ipynb",
   "output_path": "eBay_Overview.ipynb",
   "parameters": {},
   "start_time": "2021-11-03T00:00:04.994338",
   "version": "2.3.3"
  }
 },
 "nbformat": 4,
 "nbformat_minor": 5
}