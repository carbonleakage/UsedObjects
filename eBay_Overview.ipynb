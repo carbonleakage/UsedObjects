{
 "cells": [
  {
   "cell_type": "code",
   "execution_count": 1,
   "id": "reverse-picking",
   "metadata": {
    "execution": {
     "iopub.execute_input": "2021-11-15T07:30:07.670959Z",
     "iopub.status.busy": "2021-11-15T07:30:07.668265Z",
     "iopub.status.idle": "2021-11-15T07:30:08.617986Z",
     "shell.execute_reply": "2021-11-15T07:30:08.619528Z"
    },
    "papermill": {
     "duration": 0.999956,
     "end_time": "2021-11-15T07:30:08.620266",
     "exception": false,
     "start_time": "2021-11-15T07:30:07.620310",
     "status": "completed"
    },
    "tags": []
   },
   "outputs": [],
   "source": [
    "import pandas as pd\n",
    "import sqlite3"
   ]
  },
  {
   "cell_type": "code",
   "execution_count": 2,
   "id": "innovative-syndrome",
   "metadata": {
    "execution": {
     "iopub.execute_input": "2021-11-15T07:30:08.697191Z",
     "iopub.status.busy": "2021-11-15T07:30:08.694839Z",
     "iopub.status.idle": "2021-11-15T07:30:09.528759Z",
     "shell.execute_reply": "2021-11-15T07:30:09.530382Z"
    },
    "papermill": {
     "duration": 0.882529,
     "end_time": "2021-11-15T07:30:09.530958",
     "exception": false,
     "start_time": "2021-11-15T07:30:08.648429",
     "status": "completed"
    },
    "tags": []
   },
   "outputs": [],
   "source": [
    "timestamps = pd.read_sql(\"select distinct record_time from EBAY_TOP_BERLIN order by record_time desc limit 2\", sqlite3.connect(\"UsedObjects.db\"))"
   ]
  },
  {
   "cell_type": "code",
   "execution_count": 3,
   "id": "periodic-identification",
   "metadata": {
    "execution": {
     "iopub.execute_input": "2021-11-15T07:30:09.602728Z",
     "iopub.status.busy": "2021-11-15T07:30:09.600606Z",
     "iopub.status.idle": "2021-11-15T07:30:09.620971Z",
     "shell.execute_reply": "2021-11-15T07:30:09.622286Z"
    },
    "papermill": {
     "duration": 0.069501,
     "end_time": "2021-11-15T07:30:09.622705",
     "exception": false,
     "start_time": "2021-11-15T07:30:09.553204",
     "status": "completed"
    },
    "tags": []
   },
   "outputs": [
    {
     "data": {
      "text/html": [
       "<div>\n",
       "<style scoped>\n",
       "    .dataframe tbody tr th:only-of-type {\n",
       "        vertical-align: middle;\n",
       "    }\n",
       "\n",
       "    .dataframe tbody tr th {\n",
       "        vertical-align: top;\n",
       "    }\n",
       "\n",
       "    .dataframe thead th {\n",
       "        text-align: right;\n",
       "    }\n",
       "</style>\n",
       "<table border=\"1\" class=\"dataframe\">\n",
       "  <thead>\n",
       "    <tr style=\"text-align: right;\">\n",
       "      <th></th>\n",
       "      <th>RECORD_TIME</th>\n",
       "    </tr>\n",
       "  </thead>\n",
       "  <tbody>\n",
       "    <tr>\n",
       "      <th>0</th>\n",
       "      <td>2021-11-15 08:30</td>\n",
       "    </tr>\n",
       "    <tr>\n",
       "      <th>1</th>\n",
       "      <td>2021-11-15 08:00</td>\n",
       "    </tr>\n",
       "  </tbody>\n",
       "</table>\n",
       "</div>"
      ],
      "text/plain": [
       "        RECORD_TIME\n",
       "0  2021-11-15 08:30\n",
       "1  2021-11-15 08:00"
      ]
     },
     "execution_count": 3,
     "metadata": {},
     "output_type": "execute_result"
    }
   ],
   "source": [
    "timestamps"
   ]
  },
  {
   "cell_type": "code",
   "execution_count": 4,
   "id": "alternate-victory",
   "metadata": {
    "execution": {
     "iopub.execute_input": "2021-11-15T07:30:09.674420Z",
     "iopub.status.busy": "2021-11-15T07:30:09.672413Z",
     "iopub.status.idle": "2021-11-15T07:30:10.856973Z",
     "shell.execute_reply": "2021-11-15T07:30:10.858579Z"
    },
    "papermill": {
     "duration": 1.215151,
     "end_time": "2021-11-15T07:30:10.859081",
     "exception": false,
     "start_time": "2021-11-15T07:30:09.643930",
     "status": "completed"
    },
    "tags": []
   },
   "outputs": [],
   "source": [
    "df = pd.read_sql(\"select * from EBAY_TOP_BERLIN where record_time in (select distinct record_time from EBAY_TOP_BERLIN order by record_time desc limit 2)\", sqlite3.connect(\"UsedObjects.db\"))"
   ]
  },
  {
   "cell_type": "code",
   "execution_count": 5,
   "id": "popular-active",
   "metadata": {
    "execution": {
     "iopub.execute_input": "2021-11-15T07:30:10.926888Z",
     "iopub.status.busy": "2021-11-15T07:30:10.924407Z",
     "iopub.status.idle": "2021-11-15T07:30:10.957516Z",
     "shell.execute_reply": "2021-11-15T07:30:10.958925Z"
    },
    "papermill": {
     "duration": 0.077409,
     "end_time": "2021-11-15T07:30:10.959440",
     "exception": false,
     "start_time": "2021-11-15T07:30:10.882031",
     "status": "completed"
    },
    "tags": []
   },
   "outputs": [],
   "source": [
    "df_pivot = df.pivot_table(index=\"PRODUCT\", columns = \"RECORD_TIME\", values = \"LISTING_COUNT\")"
   ]
  },
  {
   "cell_type": "code",
   "execution_count": 6,
   "id": "union-huntington",
   "metadata": {
    "execution": {
     "iopub.execute_input": "2021-11-15T07:30:11.019865Z",
     "iopub.status.busy": "2021-11-15T07:30:11.017622Z",
     "iopub.status.idle": "2021-11-15T07:30:11.023097Z",
     "shell.execute_reply": "2021-11-15T07:30:11.024466Z"
    },
    "papermill": {
     "duration": 0.044158,
     "end_time": "2021-11-15T07:30:11.025031",
     "exception": false,
     "start_time": "2021-11-15T07:30:10.980873",
     "status": "completed"
    },
    "tags": []
   },
   "outputs": [],
   "source": [
    "df_pivot.columns = [\"stamp_1\", \"stamp_2\"]\n",
    "df_pivot_diff = df_pivot.diff(axis=1)"
   ]
  },
  {
   "cell_type": "code",
   "execution_count": 7,
   "id": "fifth-motion",
   "metadata": {
    "execution": {
     "iopub.execute_input": "2021-11-15T07:30:11.081782Z",
     "iopub.status.busy": "2021-11-15T07:30:11.079229Z",
     "iopub.status.idle": "2021-11-15T07:30:13.018398Z",
     "shell.execute_reply": "2021-11-15T07:30:13.021202Z"
    },
    "papermill": {
     "duration": 1.976452,
     "end_time": "2021-11-15T07:30:13.022006",
     "exception": false,
     "start_time": "2021-11-15T07:30:11.045554",
     "status": "completed"
    },
    "tags": []
   },
   "outputs": [
    {
     "data": {
      "text/plain": [
       "<AxesSubplot:ylabel='PRODUCT'>"
      ]
     },
     "execution_count": 7,
     "metadata": {},
     "output_type": "execute_result"
    },
    {
     "data": {
      "image/png": "[encoded data removed]",
      "text/plain": [
       "<Figure size 432x288 with 1 Axes>"
      ]
     },
     "metadata": {
      "needs_background": "light"
     },
     "output_type": "display_data"
    }
   ],
   "source": [
    "df_pivot_diff.sort_values(\"stamp_2\", ascending = False)[\"stamp_2\"].head(10).plot.barh()"
   ]
  },
  {
   "cell_type": "code",
   "execution_count": null,
   "id": "extra-executive",
   "metadata": {
    "papermill": {
     "duration": 0.036837,
     "end_time": "2021-11-15T07:30:13.093361",
     "exception": false,
     "start_time": "2021-11-15T07:30:13.056524",
     "status": "completed"
    },
    "tags": []
   },
   "outputs": [],
   "source": []
  }
 ],
 "metadata": {
  "kernelspec": {
   "display_name": "Python 3",
   "language": "python",
   "name": "python3"
  },
  "language_info": {
   "codemirror_mode": {
    "name": "ipython",
    "version": 3
   },
   "file_extension": ".py",
   "mimetype": "text/x-python",
   "name": "python",
   "nbconvert_exporter": "python",
   "pygments_lexer": "ipython3",
   "version": "3.9.5"
  },
  "papermill": {
   "default_parameters": {},
   "duration": 9.935935,
   "end_time": "2021-11-15T07:30:14.818048",
   "environment_variables": {},
   "exception": null,
   "input_path": "eBay_Overview.ipynb",
   "output_path": "eBay_Overview.ipynb",
   "parameters": {},
   "start_time": "2021-11-15T07:30:04.882113",
   "version": "2.3.3"
  }
 },
 "nbformat": 4,
 "nbformat_minor": 5
}