{
 "cells": [
  {
   "cell_type": "code",
   "execution_count": 1,
   "id": "reverse-picking",
   "metadata": {
    "execution": {
     "iopub.execute_input": "2021-11-06T01:00:07.598263Z",
     "iopub.status.busy": "2021-11-06T01:00:07.595492Z",
     "iopub.status.idle": "2021-11-06T01:00:08.563252Z",
     "shell.execute_reply": "2021-11-06T01:00:08.564796Z"
    },
    "papermill": {
     "duration": 1.016544,
     "end_time": "2021-11-06T01:00:08.565532",
     "exception": false,
     "start_time": "2021-11-06T01:00:07.548988",
     "status": "completed"
    },
    "tags": []
   },
   "outputs": [],
   "source": [
    "import pandas as pd\n",
    "import sqlite3"
   ]
  },
  {
   "cell_type": "code",
   "execution_count": 2,
   "id": "innovative-syndrome",
   "metadata": {
    "execution": {
     "iopub.execute_input": "2021-11-06T01:00:08.703212Z",
     "iopub.status.busy": "2021-11-06T01:00:08.700479Z",
     "iopub.status.idle": "2021-11-06T01:00:09.433279Z",
     "shell.execute_reply": "2021-11-06T01:00:09.434657Z"
    },
    "papermill": {
     "duration": 0.768234,
     "end_time": "2021-11-06T01:00:09.435125",
     "exception": false,
     "start_time": "2021-11-06T01:00:08.666891",
     "status": "completed"
    },
    "tags": []
   },
   "outputs": [],
   "source": [
    "timestamps = pd.read_sql(\"select distinct record_time from EBAY_TOP_BERLIN order by record_time desc limit 2\", sqlite3.connect(\"UsedObjects.db\"))"
   ]
  },
  {
   "cell_type": "code",
   "execution_count": 3,
   "id": "periodic-identification",
   "metadata": {
    "execution": {
     "iopub.execute_input": "2021-11-06T01:00:09.507222Z",
     "iopub.status.busy": "2021-11-06T01:00:09.504858Z",
     "iopub.status.idle": "2021-11-06T01:00:09.528767Z",
     "shell.execute_reply": "2021-11-06T01:00:09.530189Z"
    },
    "papermill": {
     "duration": 0.073861,
     "end_time": "2021-11-06T01:00:09.530697",
     "exception": false,
     "start_time": "2021-11-06T01:00:09.456836",
     "status": "completed"
    },
    "tags": []
   },
   "outputs": [
    {
     "data": {
      "text/html": [
       "<div>\n",
       "<style scoped>\n",
       "    .dataframe tbody tr th:only-of-type {\n",
       "        vertical-align: middle;\n",
       "    }\n",
       "\n",
       "    .dataframe tbody tr th {\n",
       "        vertical-align: top;\n",
       "    }\n",
       "\n",
       "    .dataframe thead th {\n",
       "        text-align: right;\n",
       "    }\n",
       "</style>\n",
       "<table border=\"1\" class=\"dataframe\">\n",
       "  <thead>\n",
       "    <tr style=\"text-align: right;\">\n",
       "      <th></th>\n",
       "      <th>RECORD_TIME</th>\n",
       "    </tr>\n",
       "  </thead>\n",
       "  <tbody>\n",
       "    <tr>\n",
       "      <th>0</th>\n",
       "      <td>2021-11-06 02:00</td>\n",
       "    </tr>\n",
       "    <tr>\n",
       "      <th>1</th>\n",
       "      <td>2021-11-06 01:30</td>\n",
       "    </tr>\n",
       "  </tbody>\n",
       "</table>\n",
       "</div>"
      ],
      "text/plain": [
       "        RECORD_TIME\n",
       "0  2021-11-06 02:00\n",
       "1  2021-11-06 01:30"
      ]
     },
     "execution_count": 3,
     "metadata": {},
     "output_type": "execute_result"
    }
   ],
   "source": [
    "timestamps"
   ]
  },
  {
   "cell_type": "code",
   "execution_count": 4,
   "id": "alternate-victory",
   "metadata": {
    "execution": {
     "iopub.execute_input": "2021-11-06T01:00:09.584449Z",
     "iopub.status.busy": "2021-11-06T01:00:09.582524Z",
     "iopub.status.idle": "2021-11-06T01:00:10.675405Z",
     "shell.execute_reply": "2021-11-06T01:00:10.677165Z"
    },
    "papermill": {
     "duration": 1.125986,
     "end_time": "2021-11-06T01:00:10.677666",
     "exception": false,
     "start_time": "2021-11-06T01:00:09.551680",
     "status": "completed"
    },
    "tags": []
   },
   "outputs": [],
   "source": [
    "df = pd.read_sql(\"select * from EBAY_TOP_BERLIN where record_time in (select distinct record_time from EBAY_TOP_BERLIN order by record_time desc limit 2)\", sqlite3.connect(\"UsedObjects.db\"))"
   ]
  },
  {
   "cell_type": "code",
   "execution_count": 5,
   "id": "popular-active",
   "metadata": {
    "execution": {
     "iopub.execute_input": "2021-11-06T01:00:10.751255Z",
     "iopub.status.busy": "2021-11-06T01:00:10.743191Z",
     "iopub.status.idle": "2021-11-06T01:00:10.777343Z",
     "shell.execute_reply": "2021-11-06T01:00:10.778969Z"
    },
    "papermill": {
     "duration": 0.078601,
     "end_time": "2021-11-06T01:00:10.779460",
     "exception": false,
     "start_time": "2021-11-06T01:00:10.700859",
     "status": "completed"
    },
    "tags": []
   },
   "outputs": [],
   "source": [
    "df_pivot = df.pivot_table(index=\"PRODUCT\", columns = \"RECORD_TIME\", values = \"LISTING_COUNT\")"
   ]
  },
  {
   "cell_type": "code",
   "execution_count": 6,
   "id": "union-huntington",
   "metadata": {
    "execution": {
     "iopub.execute_input": "2021-11-06T01:00:10.844216Z",
     "iopub.status.busy": "2021-11-06T01:00:10.841511Z",
     "iopub.status.idle": "2021-11-06T01:00:10.847701Z",
     "shell.execute_reply": "2021-11-06T01:00:10.849393Z"
    },
    "papermill": {
     "duration": 0.048592,
     "end_time": "2021-11-06T01:00:10.849879",
     "exception": false,
     "start_time": "2021-11-06T01:00:10.801287",
     "status": "completed"
    },
    "tags": []
   },
   "outputs": [],
   "source": [
    "df_pivot.columns = [\"stamp_1\", \"stamp_2\"]\n",
    "df_pivot_diff = df_pivot.diff(axis=1)"
   ]
  },
  {
   "cell_type": "code",
   "execution_count": 7,
   "id": "fifth-motion",
   "metadata": {
    "execution": {
     "iopub.execute_input": "2021-11-06T01:00:10.912214Z",
     "iopub.status.busy": "2021-11-06T01:00:10.909601Z",
     "iopub.status.idle": "2021-11-06T01:00:12.758029Z",
     "shell.execute_reply": "2021-11-06T01:00:12.759383Z"
    },
    "papermill": {
     "duration": 1.888271,
     "end_time": "2021-11-06T01:00:12.759857",
     "exception": false,
     "start_time": "2021-11-06T01:00:10.871586",
     "status": "completed"
    },
    "tags": []
   },
   "outputs": [
    {
     "data": {
      "text/plain": [
       "<AxesSubplot:ylabel='PRODUCT'>"
      ]
     },
     "execution_count": 7,
     "metadata": {},
     "output_type": "execute_result"
    },
    {
     "data": {
      "image/png": "[encoded data removed]",
      "text/plain": [
       "<Figure size 432x288 with 1 Axes>"
      ]
     },
     "metadata": {
      "needs_background": "light"
     },
     "output_type": "display_data"
    }
   ],
   "source": [
    "df_pivot_diff.sort_values(\"stamp_2\", ascending = False)[\"stamp_2\"].head(10).plot.barh()"
   ]
  },
  {
   "cell_type": "code",
   "execution_count": null,
   "id": "extra-executive",
   "metadata": {
    "papermill": {
     "duration": 0.024903,
     "end_time": "2021-11-06T01:00:12.808878",
     "exception": false,
     "start_time": "2021-11-06T01:00:12.783975",
     "status": "completed"
    },
    "tags": []
   },
   "outputs": [],
   "source": []
  }
 ],
 "metadata": {
  "kernelspec": {
   "display_name": "Python 3",
   "language": "python",
   "name": "python3"
  },
  "language_info": {
   "codemirror_mode": {
    "name": "ipython",
    "version": 3
   },
   "file_extension": ".py",
   "mimetype": "text/x-python",
   "name": "python",
   "nbconvert_exporter": "python",
   "pygments_lexer": "ipython3",
   "version": "3.9.5"
  },
  "papermill": {
   "default_parameters": {},
   "duration": 10.013017,
   "end_time": "2021-11-06T01:00:14.729490",
   "environment_variables": {},
   "exception": null,
   "input_path": "eBay_Overview.ipynb",
   "output_path": "eBay_Overview.ipynb",
   "parameters": {},
   "start_time": "2021-11-06T01:00:04.716473",
   "version": "2.3.3"
  }
 },
 "nbformat": 4,
 "nbformat_minor": 5
}