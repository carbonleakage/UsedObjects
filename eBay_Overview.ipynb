{
 "cells": [
  {
   "cell_type": "code",
   "execution_count": 1,
   "id": "reverse-picking",
   "metadata": {
    "execution": {
     "iopub.execute_input": "2021-11-18T00:00:07.375117Z",
     "iopub.status.busy": "2021-11-18T00:00:07.372774Z",
     "iopub.status.idle": "2021-11-18T00:00:08.336975Z",
     "shell.execute_reply": "2021-11-18T00:00:08.338413Z"
    },
    "papermill": {
     "duration": 1.013428,
     "end_time": "2021-11-18T00:00:08.339114",
     "exception": false,
     "start_time": "2021-11-18T00:00:07.325686",
     "status": "completed"
    },
    "tags": []
   },
   "outputs": [],
   "source": [
    "import pandas as pd\n",
    "import sqlite3"
   ]
  },
  {
   "cell_type": "code",
   "execution_count": 2,
   "id": "innovative-syndrome",
   "metadata": {
    "execution": {
     "iopub.execute_input": "2021-11-18T00:00:08.390897Z",
     "iopub.status.busy": "2021-11-18T00:00:08.388778Z",
     "iopub.status.idle": "2021-11-18T00:00:09.234495Z",
     "shell.execute_reply": "2021-11-18T00:00:09.235969Z"
    },
    "papermill": {
     "duration": 0.877265,
     "end_time": "2021-11-18T00:00:09.236456",
     "exception": false,
     "start_time": "2021-11-18T00:00:08.359191",
     "status": "completed"
    },
    "tags": []
   },
   "outputs": [],
   "source": [
    "timestamps = pd.read_sql(\"select distinct record_time from EBAY_TOP_BERLIN order by record_time desc limit 2\", sqlite3.connect(\"UsedObjects.db\"))"
   ]
  },
  {
   "cell_type": "code",
   "execution_count": 3,
   "id": "periodic-identification",
   "metadata": {
    "execution": {
     "iopub.execute_input": "2021-11-18T00:00:09.312649Z",
     "iopub.status.busy": "2021-11-18T00:00:09.306136Z",
     "iopub.status.idle": "2021-11-18T00:00:09.329938Z",
     "shell.execute_reply": "2021-11-18T00:00:09.331413Z"
    },
    "papermill": {
     "duration": 0.074816,
     "end_time": "2021-11-18T00:00:09.331903",
     "exception": false,
     "start_time": "2021-11-18T00:00:09.257087",
     "status": "completed"
    },
    "tags": []
   },
   "outputs": [
    {
     "data": {
      "text/html": [
       "<div>\n",
       "<style scoped>\n",
       "    .dataframe tbody tr th:only-of-type {\n",
       "        vertical-align: middle;\n",
       "    }\n",
       "\n",
       "    .dataframe tbody tr th {\n",
       "        vertical-align: top;\n",
       "    }\n",
       "\n",
       "    .dataframe thead th {\n",
       "        text-align: right;\n",
       "    }\n",
       "</style>\n",
       "<table border=\"1\" class=\"dataframe\">\n",
       "  <thead>\n",
       "    <tr style=\"text-align: right;\">\n",
       "      <th></th>\n",
       "      <th>RECORD_TIME</th>\n",
       "    </tr>\n",
       "  </thead>\n",
       "  <tbody>\n",
       "    <tr>\n",
       "      <th>0</th>\n",
       "      <td>2021-11-18 01:00</td>\n",
       "    </tr>\n",
       "    <tr>\n",
       "      <th>1</th>\n",
       "      <td>2021-11-18 00:30</td>\n",
       "    </tr>\n",
       "  </tbody>\n",
       "</table>\n",
       "</div>"
      ],
      "text/plain": [
       "        RECORD_TIME\n",
       "0  2021-11-18 01:00\n",
       "1  2021-11-18 00:30"
      ]
     },
     "execution_count": 3,
     "metadata": {},
     "output_type": "execute_result"
    }
   ],
   "source": [
    "timestamps"
   ]
  },
  {
   "cell_type": "code",
   "execution_count": 4,
   "id": "alternate-victory",
   "metadata": {
    "execution": {
     "iopub.execute_input": "2021-11-18T00:00:09.388792Z",
     "iopub.status.busy": "2021-11-18T00:00:09.386303Z",
     "iopub.status.idle": "2021-11-18T00:00:10.609971Z",
     "shell.execute_reply": "2021-11-18T00:00:10.612065Z"
    },
    "papermill": {
     "duration": 1.258072,
     "end_time": "2021-11-18T00:00:10.612524",
     "exception": false,
     "start_time": "2021-11-18T00:00:09.354452",
     "status": "completed"
    },
    "tags": []
   },
   "outputs": [],
   "source": [
    "df = pd.read_sql(\"select * from EBAY_TOP_BERLIN where record_time in (select distinct record_time from EBAY_TOP_BERLIN order by record_time desc limit 2)\", sqlite3.connect(\"UsedObjects.db\"))"
   ]
  },
  {
   "cell_type": "code",
   "execution_count": 5,
   "id": "popular-active",
   "metadata": {
    "execution": {
     "iopub.execute_input": "2021-11-18T00:00:10.675508Z",
     "iopub.status.busy": "2021-11-18T00:00:10.661447Z",
     "iopub.status.idle": "2021-11-18T00:00:10.706194Z",
     "shell.execute_reply": "2021-11-18T00:00:10.707480Z"
    },
    "papermill": {
     "duration": 0.074682,
     "end_time": "2021-11-18T00:00:10.707899",
     "exception": false,
     "start_time": "2021-11-18T00:00:10.633217",
     "status": "completed"
    },
    "tags": []
   },
   "outputs": [],
   "source": [
    "df_pivot = df.pivot_table(index=\"PRODUCT\", columns = \"RECORD_TIME\", values = \"LISTING_COUNT\")"
   ]
  },
  {
   "cell_type": "code",
   "execution_count": 6,
   "id": "union-huntington",
   "metadata": {
    "execution": {
     "iopub.execute_input": "2021-11-18T00:00:10.764566Z",
     "iopub.status.busy": "2021-11-18T00:00:10.762432Z",
     "iopub.status.idle": "2021-11-18T00:00:10.767971Z",
     "shell.execute_reply": "2021-11-18T00:00:10.769576Z"
    },
    "papermill": {
     "duration": 0.041027,
     "end_time": "2021-11-18T00:00:10.770048",
     "exception": false,
     "start_time": "2021-11-18T00:00:10.729021",
     "status": "completed"
    },
    "tags": []
   },
   "outputs": [],
   "source": [
    "df_pivot.columns = [\"stamp_1\", \"stamp_2\"]\n",
    "df_pivot_diff = df_pivot.diff(axis=1)"
   ]
  },
  {
   "cell_type": "code",
   "execution_count": 7,
   "id": "fifth-motion",
   "metadata": {
    "execution": {
     "iopub.execute_input": "2021-11-18T00:00:10.826201Z",
     "iopub.status.busy": "2021-11-18T00:00:10.823655Z",
     "iopub.status.idle": "2021-11-18T00:00:12.567117Z",
     "shell.execute_reply": "2021-11-18T00:00:12.568652Z"
    },
    "papermill": {
     "duration": 1.777391,
     "end_time": "2021-11-18T00:00:12.569209",
     "exception": false,
     "start_time": "2021-11-18T00:00:10.791818",
     "status": "completed"
    },
    "tags": []
   },
   "outputs": [
    {
     "data": {
      "text/plain": [
       "<AxesSubplot:ylabel='PRODUCT'>"
      ]
     },
     "execution_count": 7,
     "metadata": {},
     "output_type": "execute_result"
    },
    {
     "data": {
      "image/png": "[encoded data removed]",
      "text/plain": [
       "<Figure size 432x288 with 1 Axes>"
      ]
     },
     "metadata": {
      "needs_background": "light"
     },
     "output_type": "display_data"
    }
   ],
   "source": [
    "df_pivot_diff.sort_values(\"stamp_2\", ascending = False)[\"stamp_2\"].head(10).plot.barh()"
   ]
  },
  {
   "cell_type": "code",
   "execution_count": null,
   "id": "extra-executive",
   "metadata": {
    "papermill": {
     "duration": 0.025736,
     "end_time": "2021-11-18T00:00:12.620475",
     "exception": false,
     "start_time": "2021-11-18T00:00:12.594739",
     "status": "completed"
    },
    "tags": []
   },
   "outputs": [],
   "source": []
  }
 ],
 "metadata": {
  "kernelspec": {
   "display_name": "Python 3",
   "language": "python",
   "name": "python3"
  },
  "language_info": {
   "codemirror_mode": {
    "name": "ipython",
    "version": 3
   },
   "file_extension": ".py",
   "mimetype": "text/x-python",
   "name": "python",
   "nbconvert_exporter": "python",
   "pygments_lexer": "ipython3",
   "version": "3.9.5"
  },
  "papermill": {
   "default_parameters": {},
   "duration": 8.773819,
   "end_time": "2021-11-18T00:00:13.365109",
   "environment_variables": {},
   "exception": null,
   "input_path": "eBay_Overview.ipynb",
   "output_path": "eBay_Overview.ipynb",
   "parameters": {},
   "start_time": "2021-11-18T00:00:04.591290",
   "version": "2.3.3"
  }
 },
 "nbformat": 4,
 "nbformat_minor": 5
}