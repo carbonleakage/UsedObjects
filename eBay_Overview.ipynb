{
 "cells": [
  {
   "cell_type": "code",
   "execution_count": 1,
   "id": "reverse-picking",
   "metadata": {
    "execution": {
     "iopub.execute_input": "2021-08-30T06:30:06.841440Z",
     "iopub.status.busy": "2021-08-30T06:30:06.839353Z",
     "iopub.status.idle": "2021-08-30T06:30:07.644953Z",
     "shell.execute_reply": "2021-08-30T06:30:07.643331Z"
    },
    "papermill": {
     "duration": 0.854673,
     "end_time": "2021-08-30T06:30:07.645360",
     "exception": false,
     "start_time": "2021-08-30T06:30:06.790687",
     "status": "completed"
    },
    "tags": []
   },
   "outputs": [],
   "source": [
    "import pandas as pd\n",
    "import sqlite3"
   ]
  },
  {
   "cell_type": "code",
   "execution_count": 2,
   "id": "innovative-syndrome",
   "metadata": {
    "execution": {
     "iopub.execute_input": "2021-08-30T06:30:07.697790Z",
     "iopub.status.busy": "2021-08-30T06:30:07.695605Z",
     "iopub.status.idle": "2021-08-30T06:30:07.860869Z",
     "shell.execute_reply": "2021-08-30T06:30:07.862167Z"
    },
    "papermill": {
     "duration": 0.19478,
     "end_time": "2021-08-30T06:30:07.862568",
     "exception": false,
     "start_time": "2021-08-30T06:30:07.667788",
     "status": "completed"
    },
    "tags": []
   },
   "outputs": [],
   "source": [
    "timestamps = pd.read_sql(\"select distinct record_time from EBAY_TOP_BERLIN order by record_time desc limit 2\", sqlite3.connect(\"UsedObjects.db\"))"
   ]
  },
  {
   "cell_type": "code",
   "execution_count": 3,
   "id": "periodic-identification",
   "metadata": {
    "execution": {
     "iopub.execute_input": "2021-08-30T06:30:07.926731Z",
     "iopub.status.busy": "2021-08-30T06:30:07.924693Z",
     "iopub.status.idle": "2021-08-30T06:30:07.944869Z",
     "shell.execute_reply": "2021-08-30T06:30:07.946516Z"
    },
    "papermill": {
     "duration": 0.065035,
     "end_time": "2021-08-30T06:30:07.947060",
     "exception": false,
     "start_time": "2021-08-30T06:30:07.882025",
     "status": "completed"
    },
    "tags": []
   },
   "outputs": [
    {
     "data": {
      "text/html": [
       "<div>\n",
       "<style scoped>\n",
       "    .dataframe tbody tr th:only-of-type {\n",
       "        vertical-align: middle;\n",
       "    }\n",
       "\n",
       "    .dataframe tbody tr th {\n",
       "        vertical-align: top;\n",
       "    }\n",
       "\n",
       "    .dataframe thead th {\n",
       "        text-align: right;\n",
       "    }\n",
       "</style>\n",
       "<table border=\"1\" class=\"dataframe\">\n",
       "  <thead>\n",
       "    <tr style=\"text-align: right;\">\n",
       "      <th></th>\n",
       "      <th>RECORD_TIME</th>\n",
       "    </tr>\n",
       "  </thead>\n",
       "  <tbody>\n",
       "    <tr>\n",
       "      <th>0</th>\n",
       "      <td>2021-08-30 08:30</td>\n",
       "    </tr>\n",
       "    <tr>\n",
       "      <th>1</th>\n",
       "      <td>2021-08-30 08:00</td>\n",
       "    </tr>\n",
       "  </tbody>\n",
       "</table>\n",
       "</div>"
      ],
      "text/plain": [
       "        RECORD_TIME\n",
       "0  2021-08-30 08:30\n",
       "1  2021-08-30 08:00"
      ]
     },
     "execution_count": 3,
     "metadata": {},
     "output_type": "execute_result"
    }
   ],
   "source": [
    "timestamps"
   ]
  },
  {
   "cell_type": "code",
   "execution_count": 4,
   "id": "alternate-victory",
   "metadata": {
    "execution": {
     "iopub.execute_input": "2021-08-30T06:30:08.000073Z",
     "iopub.status.busy": "2021-08-30T06:30:07.998216Z",
     "iopub.status.idle": "2021-08-30T06:30:08.238965Z",
     "shell.execute_reply": "2021-08-30T06:30:08.240190Z"
    },
    "papermill": {
     "duration": 0.270625,
     "end_time": "2021-08-30T06:30:08.240673",
     "exception": false,
     "start_time": "2021-08-30T06:30:07.970048",
     "status": "completed"
    },
    "tags": []
   },
   "outputs": [],
   "source": [
    "df = pd.read_sql(\"select * from EBAY_TOP_BERLIN where record_time in (select distinct record_time from EBAY_TOP_BERLIN order by record_time desc limit 2)\", sqlite3.connect(\"UsedObjects.db\"))"
   ]
  },
  {
   "cell_type": "code",
   "execution_count": 5,
   "id": "popular-active",
   "metadata": {
    "execution": {
     "iopub.execute_input": "2021-08-30T06:30:08.318853Z",
     "iopub.status.busy": "2021-08-30T06:30:08.306799Z",
     "iopub.status.idle": "2021-08-30T06:30:08.334704Z",
     "shell.execute_reply": "2021-08-30T06:30:08.336008Z"
    },
    "papermill": {
     "duration": 0.075392,
     "end_time": "2021-08-30T06:30:08.336480",
     "exception": false,
     "start_time": "2021-08-30T06:30:08.261088",
     "status": "completed"
    },
    "tags": []
   },
   "outputs": [],
   "source": [
    "df_pivot = df.pivot_table(index=\"PRODUCT\", columns = \"RECORD_TIME\", values = \"LISTING_COUNT\")"
   ]
  },
  {
   "cell_type": "code",
   "execution_count": 6,
   "id": "union-huntington",
   "metadata": {
    "execution": {
     "iopub.execute_input": "2021-08-30T06:30:08.392054Z",
     "iopub.status.busy": "2021-08-30T06:30:08.389999Z",
     "iopub.status.idle": "2021-08-30T06:30:08.395378Z",
     "shell.execute_reply": "2021-08-30T06:30:08.396649Z"
    },
    "papermill": {
     "duration": 0.040861,
     "end_time": "2021-08-30T06:30:08.397076",
     "exception": false,
     "start_time": "2021-08-30T06:30:08.356215",
     "status": "completed"
    },
    "tags": []
   },
   "outputs": [],
   "source": [
    "df_pivot.columns = [\"stamp_1\", \"stamp_2\"]\n",
    "df_pivot_diff = df_pivot.diff(axis=1)"
   ]
  },
  {
   "cell_type": "code",
   "execution_count": 7,
   "id": "fifth-motion",
   "metadata": {
    "execution": {
     "iopub.execute_input": "2021-08-30T06:30:08.453191Z",
     "iopub.status.busy": "2021-08-30T06:30:08.450624Z",
     "iopub.status.idle": "2021-08-30T06:30:09.926663Z",
     "shell.execute_reply": "2021-08-30T06:30:09.927968Z"
    },
    "papermill": {
     "duration": 1.509066,
     "end_time": "2021-08-30T06:30:09.928443",
     "exception": false,
     "start_time": "2021-08-30T06:30:08.419377",
     "status": "completed"
    },
    "tags": []
   },
   "outputs": [
    {
     "data": {
      "text/plain": [
       "<AxesSubplot:ylabel='PRODUCT'>"
      ]
     },
     "execution_count": 7,
     "metadata": {},
     "output_type": "execute_result"
    },
    {
     "data": {
      "image/png": "[encoded data removed]",
      "text/plain": [
       "<Figure size 432x288 with 1 Axes>"
      ]
     },
     "metadata": {
      "needs_background": "light"
     },
     "output_type": "display_data"
    }
   ],
   "source": [
    "df_pivot_diff.sort_values(\"stamp_2\", ascending = False)[\"stamp_2\"].head(10).plot.barh()"
   ]
  },
  {
   "cell_type": "code",
   "execution_count": null,
   "id": "extra-executive",
   "metadata": {
    "papermill": {
     "duration": 0.022494,
     "end_time": "2021-08-30T06:30:09.975971",
     "exception": false,
     "start_time": "2021-08-30T06:30:09.953477",
     "status": "completed"
    },
    "tags": []
   },
   "outputs": [],
   "source": []
  }
 ],
 "metadata": {
  "kernelspec": {
   "display_name": "Python 3",
   "language": "python",
   "name": "python3"
  },
  "language_info": {
   "codemirror_mode": {
    "name": "ipython",
    "version": 3
   },
   "file_extension": ".py",
   "mimetype": "text/x-python",
   "name": "python",
   "nbconvert_exporter": "python",
   "pygments_lexer": "ipython3",
   "version": "3.9.5"
  },
  "papermill": {
   "default_parameters": {},
   "duration": 6.819136,
   "end_time": "2021-08-30T06:30:11.206354",
   "environment_variables": {},
   "exception": null,
   "input_path": "eBay_Overview.ipynb",
   "output_path": "eBay_Overview.ipynb",
   "parameters": {},
   "start_time": "2021-08-30T06:30:04.387218",
   "version": "2.3.3"
  }
 },
 "nbformat": 4,
 "nbformat_minor": 5
}