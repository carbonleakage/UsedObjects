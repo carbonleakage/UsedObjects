{
 "cells": [
  {
   "cell_type": "code",
   "execution_count": 1,
   "id": "reverse-picking",
   "metadata": {
    "execution": {
     "iopub.execute_input": "2021-08-09T17:30:04.428275Z",
     "iopub.status.busy": "2021-08-09T17:30:04.427514Z",
     "iopub.status.idle": "2021-08-09T17:30:05.050315Z",
     "shell.execute_reply": "2021-08-09T17:30:05.050899Z"
    },
    "papermill": {
     "duration": 0.642099,
     "end_time": "2021-08-09T17:30:05.051178",
     "exception": false,
     "start_time": "2021-08-09T17:30:04.409079",
     "status": "completed"
    },
    "tags": []
   },
   "outputs": [],
   "source": [
    "import pandas as pd\n",
    "import sqlite3"
   ]
  },
  {
   "cell_type": "code",
   "execution_count": 2,
   "id": "innovative-syndrome",
   "metadata": {
    "execution": {
     "iopub.execute_input": "2021-08-09T17:30:05.075417Z",
     "iopub.status.busy": "2021-08-09T17:30:05.074645Z",
     "iopub.status.idle": "2021-08-09T17:30:05.385353Z",
     "shell.execute_reply": "2021-08-09T17:30:05.384740Z"
    },
    "papermill": {
     "duration": 0.325745,
     "end_time": "2021-08-09T17:30:05.385512",
     "exception": false,
     "start_time": "2021-08-09T17:30:05.059767",
     "status": "completed"
    },
    "tags": []
   },
   "outputs": [],
   "source": [
    "timestamps = pd.read_sql(\"select distinct record_time from EBAY_TOP_BERLIN order by record_time desc limit 2\", sqlite3.connect(\"UsedObjects.db\"))"
   ]
  },
  {
   "cell_type": "code",
   "execution_count": 3,
   "id": "periodic-identification",
   "metadata": {
    "execution": {
     "iopub.execute_input": "2021-08-09T17:30:05.418520Z",
     "iopub.status.busy": "2021-08-09T17:30:05.417744Z",
     "iopub.status.idle": "2021-08-09T17:30:05.430328Z",
     "shell.execute_reply": "2021-08-09T17:30:05.429761Z"
    },
    "papermill": {
     "duration": 0.03605,
     "end_time": "2021-08-09T17:30:05.430478",
     "exception": false,
     "start_time": "2021-08-09T17:30:05.394428",
     "status": "completed"
    },
    "tags": []
   },
   "outputs": [
    {
     "data": {
      "text/html": [
       "<div>\n",
       "<style scoped>\n",
       "    .dataframe tbody tr th:only-of-type {\n",
       "        vertical-align: middle;\n",
       "    }\n",
       "\n",
       "    .dataframe tbody tr th {\n",
       "        vertical-align: top;\n",
       "    }\n",
       "\n",
       "    .dataframe thead th {\n",
       "        text-align: right;\n",
       "    }\n",
       "</style>\n",
       "<table border=\"1\" class=\"dataframe\">\n",
       "  <thead>\n",
       "    <tr style=\"text-align: right;\">\n",
       "      <th></th>\n",
       "      <th>RECORD_TIME</th>\n",
       "    </tr>\n",
       "  </thead>\n",
       "  <tbody>\n",
       "    <tr>\n",
       "      <th>0</th>\n",
       "      <td>2021-08-09 19:30</td>\n",
       "    </tr>\n",
       "    <tr>\n",
       "      <th>1</th>\n",
       "      <td>2021-08-09 19:00</td>\n",
       "    </tr>\n",
       "  </tbody>\n",
       "</table>\n",
       "</div>"
      ],
      "text/plain": [
       "        RECORD_TIME\n",
       "0  2021-08-09 19:30\n",
       "1  2021-08-09 19:00"
      ]
     },
     "execution_count": 3,
     "metadata": {},
     "output_type": "execute_result"
    }
   ],
   "source": [
    "timestamps"
   ]
  },
  {
   "cell_type": "code",
   "execution_count": 4,
   "id": "alternate-victory",
   "metadata": {
    "execution": {
     "iopub.execute_input": "2021-08-09T17:30:05.453672Z",
     "iopub.status.busy": "2021-08-09T17:30:05.452912Z",
     "iopub.status.idle": "2021-08-09T17:30:05.468183Z",
     "shell.execute_reply": "2021-08-09T17:30:05.467030Z"
    },
    "papermill": {
     "duration": 0.029387,
     "end_time": "2021-08-09T17:30:05.468402",
     "exception": false,
     "start_time": "2021-08-09T17:30:05.439015",
     "status": "completed"
    },
    "tags": []
   },
   "outputs": [],
   "source": [
    "df = pd.read_sql(\"select * from EBAY_TOP_BERLIN where record_time in (select distinct record_time from EBAY_TOP_BERLIN order by record_time desc limit 2)\", sqlite3.connect(\"UsedObjects.db\"))"
   ]
  },
  {
   "cell_type": "code",
   "execution_count": 5,
   "id": "popular-active",
   "metadata": {
    "execution": {
     "iopub.execute_input": "2021-08-09T17:30:05.493371Z",
     "iopub.status.busy": "2021-08-09T17:30:05.492595Z",
     "iopub.status.idle": "2021-08-09T17:30:05.512180Z",
     "shell.execute_reply": "2021-08-09T17:30:05.511565Z"
    },
    "papermill": {
     "duration": 0.034031,
     "end_time": "2021-08-09T17:30:05.512341",
     "exception": false,
     "start_time": "2021-08-09T17:30:05.478310",
     "status": "completed"
    },
    "tags": []
   },
   "outputs": [],
   "source": [
    "df_pivot = df.pivot_table(index=\"PRODUCT\", columns = \"RECORD_TIME\", values = \"LISTING_COUNT\")"
   ]
  },
  {
   "cell_type": "code",
   "execution_count": 6,
   "id": "union-huntington",
   "metadata": {
    "execution": {
     "iopub.execute_input": "2021-08-09T17:30:05.541833Z",
     "iopub.status.busy": "2021-08-09T17:30:05.541108Z",
     "iopub.status.idle": "2021-08-09T17:30:05.546635Z",
     "shell.execute_reply": "2021-08-09T17:30:05.547224Z"
    },
    "papermill": {
     "duration": 0.025327,
     "end_time": "2021-08-09T17:30:05.547413",
     "exception": false,
     "start_time": "2021-08-09T17:30:05.522086",
     "status": "completed"
    },
    "tags": []
   },
   "outputs": [],
   "source": [
    "df_pivot.columns = [\"stamp_1\", \"stamp_2\"]\n",
    "df_pivot_diff = df_pivot.diff(axis=1)"
   ]
  },
  {
   "cell_type": "code",
   "execution_count": 7,
   "id": "fifth-motion",
   "metadata": {
    "execution": {
     "iopub.execute_input": "2021-08-09T17:30:05.578573Z",
     "iopub.status.busy": "2021-08-09T17:30:05.574143Z",
     "iopub.status.idle": "2021-08-09T17:30:06.370635Z",
     "shell.execute_reply": "2021-08-09T17:30:06.371171Z"
    },
    "papermill": {
     "duration": 0.815416,
     "end_time": "2021-08-09T17:30:06.371351",
     "exception": false,
     "start_time": "2021-08-09T17:30:05.555935",
     "status": "completed"
    },
    "tags": []
   },
   "outputs": [
    {
     "data": {
      "text/plain": [
       "<AxesSubplot:ylabel='PRODUCT'>"
      ]
     },
     "execution_count": 7,
     "metadata": {},
     "output_type": "execute_result"
    },
    {
     "data": {
      "image/png": "[encoded data removed]",
      "text/plain": [
       "<Figure size 432x288 with 1 Axes>"
      ]
     },
     "metadata": {
      "needs_background": "light"
     },
     "output_type": "display_data"
    }
   ],
   "source": [
    "df_pivot_diff.sort_values(\"stamp_2\", ascending = False)[\"stamp_2\"].head(10).plot.barh()"
   ]
  },
  {
   "cell_type": "code",
   "execution_count": null,
   "id": "extra-executive",
   "metadata": {
    "papermill": {
     "duration": 0.00964,
     "end_time": "2021-08-09T17:30:06.393158",
     "exception": false,
     "start_time": "2021-08-09T17:30:06.383518",
     "status": "completed"
    },
    "tags": []
   },
   "outputs": [],
   "source": []
  }
 ],
 "metadata": {
  "kernelspec": {
   "display_name": "Python 3",
   "language": "python",
   "name": "python3"
  },
  "language_info": {
   "codemirror_mode": {
    "name": "ipython",
    "version": 3
   },
   "file_extension": ".py",
   "mimetype": "text/x-python",
   "name": "python",
   "nbconvert_exporter": "python",
   "pygments_lexer": "ipython3",
   "version": "3.8.8"
  },
  "papermill": {
   "default_parameters": {},
   "duration": 4.288449,
   "end_time": "2021-08-09T17:30:07.011144",
   "environment_variables": {},
   "exception": null,
   "input_path": "/Users/saravananshanmugam/Carbonleakage_Git/UsedObjects/eBay_Overview.ipynb",
   "output_path": "/Users/saravananshanmugam/Carbonleakage_Git/UsedObjects/eBay_Overview.ipynb",
   "parameters": {},
   "start_time": "2021-08-09T17:30:02.722695",
   "version": "2.3.3"
  }
 },
 "nbformat": 4,
 "nbformat_minor": 5
}