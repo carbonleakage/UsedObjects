{
 "cells": [
  {
   "cell_type": "code",
   "execution_count": 1,
   "id": "reverse-picking",
   "metadata": {
    "execution": {
     "iopub.execute_input": "2021-10-01T11:00:07.048804Z",
     "iopub.status.busy": "2021-10-01T11:00:07.046835Z",
     "iopub.status.idle": "2021-10-01T11:00:07.857841Z",
     "shell.execute_reply": "2021-10-01T11:00:07.859312Z"
    },
    "papermill": {
     "duration": 0.863357,
     "end_time": "2021-10-01T11:00:07.859954",
     "exception": false,
     "start_time": "2021-10-01T11:00:06.996597",
     "status": "completed"
    },
    "tags": []
   },
   "outputs": [],
   "source": [
    "import pandas as pd\n",
    "import sqlite3"
   ]
  },
  {
   "cell_type": "code",
   "execution_count": 2,
   "id": "innovative-syndrome",
   "metadata": {
    "execution": {
     "iopub.execute_input": "2021-10-01T11:00:07.912319Z",
     "iopub.status.busy": "2021-10-01T11:00:07.909860Z",
     "iopub.status.idle": "2021-10-01T11:00:08.337818Z",
     "shell.execute_reply": "2021-10-01T11:00:08.339310Z"
    },
    "papermill": {
     "duration": 0.458241,
     "end_time": "2021-10-01T11:00:08.339743",
     "exception": false,
     "start_time": "2021-10-01T11:00:07.881502",
     "status": "completed"
    },
    "tags": []
   },
   "outputs": [],
   "source": [
    "timestamps = pd.read_sql(\"select distinct record_time from EBAY_TOP_BERLIN order by record_time desc limit 2\", sqlite3.connect(\"UsedObjects.db\"))"
   ]
  },
  {
   "cell_type": "code",
   "execution_count": 3,
   "id": "periodic-identification",
   "metadata": {
    "execution": {
     "iopub.execute_input": "2021-10-01T11:00:08.405293Z",
     "iopub.status.busy": "2021-10-01T11:00:08.403268Z",
     "iopub.status.idle": "2021-10-01T11:00:08.424183Z",
     "shell.execute_reply": "2021-10-01T11:00:08.425519Z"
    },
    "papermill": {
     "duration": 0.066775,
     "end_time": "2021-10-01T11:00:08.425933",
     "exception": false,
     "start_time": "2021-10-01T11:00:08.359158",
     "status": "completed"
    },
    "tags": []
   },
   "outputs": [
    {
     "data": {
      "text/html": [
       "<div>\n",
       "<style scoped>\n",
       "    .dataframe tbody tr th:only-of-type {\n",
       "        vertical-align: middle;\n",
       "    }\n",
       "\n",
       "    .dataframe tbody tr th {\n",
       "        vertical-align: top;\n",
       "    }\n",
       "\n",
       "    .dataframe thead th {\n",
       "        text-align: right;\n",
       "    }\n",
       "</style>\n",
       "<table border=\"1\" class=\"dataframe\">\n",
       "  <thead>\n",
       "    <tr style=\"text-align: right;\">\n",
       "      <th></th>\n",
       "      <th>RECORD_TIME</th>\n",
       "    </tr>\n",
       "  </thead>\n",
       "  <tbody>\n",
       "    <tr>\n",
       "      <th>0</th>\n",
       "      <td>2021-10-01 13:00</td>\n",
       "    </tr>\n",
       "    <tr>\n",
       "      <th>1</th>\n",
       "      <td>2021-10-01 12:30</td>\n",
       "    </tr>\n",
       "  </tbody>\n",
       "</table>\n",
       "</div>"
      ],
      "text/plain": [
       "        RECORD_TIME\n",
       "0  2021-10-01 13:00\n",
       "1  2021-10-01 12:30"
      ]
     },
     "execution_count": 3,
     "metadata": {},
     "output_type": "execute_result"
    }
   ],
   "source": [
    "timestamps"
   ]
  },
  {
   "cell_type": "code",
   "execution_count": 4,
   "id": "alternate-victory",
   "metadata": {
    "execution": {
     "iopub.execute_input": "2021-10-01T11:00:08.484167Z",
     "iopub.status.busy": "2021-10-01T11:00:08.481838Z",
     "iopub.status.idle": "2021-10-01T11:00:09.121988Z",
     "shell.execute_reply": "2021-10-01T11:00:09.123277Z"
    },
    "papermill": {
     "duration": 0.677293,
     "end_time": "2021-10-01T11:00:09.123671",
     "exception": false,
     "start_time": "2021-10-01T11:00:08.446378",
     "status": "completed"
    },
    "tags": []
   },
   "outputs": [],
   "source": [
    "df = pd.read_sql(\"select * from EBAY_TOP_BERLIN where record_time in (select distinct record_time from EBAY_TOP_BERLIN order by record_time desc limit 2)\", sqlite3.connect(\"UsedObjects.db\"))"
   ]
  },
  {
   "cell_type": "code",
   "execution_count": 5,
   "id": "popular-active",
   "metadata": {
    "execution": {
     "iopub.execute_input": "2021-10-01T11:00:09.192579Z",
     "iopub.status.busy": "2021-10-01T11:00:09.181269Z",
     "iopub.status.idle": "2021-10-01T11:00:09.209770Z",
     "shell.execute_reply": "2021-10-01T11:00:09.211200Z"
    },
    "papermill": {
     "duration": 0.067241,
     "end_time": "2021-10-01T11:00:09.211611",
     "exception": false,
     "start_time": "2021-10-01T11:00:09.144370",
     "status": "completed"
    },
    "tags": []
   },
   "outputs": [],
   "source": [
    "df_pivot = df.pivot_table(index=\"PRODUCT\", columns = \"RECORD_TIME\", values = \"LISTING_COUNT\")"
   ]
  },
  {
   "cell_type": "code",
   "execution_count": 6,
   "id": "union-huntington",
   "metadata": {
    "execution": {
     "iopub.execute_input": "2021-10-01T11:00:09.270082Z",
     "iopub.status.busy": "2021-10-01T11:00:09.267644Z",
     "iopub.status.idle": "2021-10-01T11:00:09.273200Z",
     "shell.execute_reply": "2021-10-01T11:00:09.274490Z"
    },
    "papermill": {
     "duration": 0.042054,
     "end_time": "2021-10-01T11:00:09.274970",
     "exception": false,
     "start_time": "2021-10-01T11:00:09.232916",
     "status": "completed"
    },
    "tags": []
   },
   "outputs": [],
   "source": [
    "df_pivot.columns = [\"stamp_1\", \"stamp_2\"]\n",
    "df_pivot_diff = df_pivot.diff(axis=1)"
   ]
  },
  {
   "cell_type": "code",
   "execution_count": 7,
   "id": "fifth-motion",
   "metadata": {
    "execution": {
     "iopub.execute_input": "2021-10-01T11:00:09.329195Z",
     "iopub.status.busy": "2021-10-01T11:00:09.326747Z",
     "iopub.status.idle": "2021-10-01T11:00:10.833991Z",
     "shell.execute_reply": "2021-10-01T11:00:10.835361Z"
    },
    "papermill": {
     "duration": 1.540661,
     "end_time": "2021-10-01T11:00:10.835787",
     "exception": false,
     "start_time": "2021-10-01T11:00:09.295126",
     "status": "completed"
    },
    "tags": []
   },
   "outputs": [
    {
     "data": {
      "text/plain": [
       "<AxesSubplot:ylabel='PRODUCT'>"
      ]
     },
     "execution_count": 7,
     "metadata": {},
     "output_type": "execute_result"
    },
    {
     "data": {
      "image/png": "[encoded data removed]",
      "text/plain": [
       "<Figure size 432x288 with 1 Axes>"
      ]
     },
     "metadata": {
      "needs_background": "light"
     },
     "output_type": "display_data"
    }
   ],
   "source": [
    "df_pivot_diff.sort_values(\"stamp_2\", ascending = False)[\"stamp_2\"].head(10).plot.barh()"
   ]
  },
  {
   "cell_type": "code",
   "execution_count": null,
   "id": "extra-executive",
   "metadata": {
    "papermill": {
     "duration": 0.022275,
     "end_time": "2021-10-01T11:00:10.882944",
     "exception": false,
     "start_time": "2021-10-01T11:00:10.860669",
     "status": "completed"
    },
    "tags": []
   },
   "outputs": [],
   "source": []
  }
 ],
 "metadata": {
  "kernelspec": {
   "display_name": "Python 3",
   "language": "python",
   "name": "python3"
  },
  "language_info": {
   "codemirror_mode": {
    "name": "ipython",
    "version": 3
   },
   "file_extension": ".py",
   "mimetype": "text/x-python",
   "name": "python",
   "nbconvert_exporter": "python",
   "pygments_lexer": "ipython3",
   "version": "3.9.5"
  },
  "papermill": {
   "default_parameters": {},
   "duration": 7.825022,
   "end_time": "2021-10-01T11:00:12.410582",
   "environment_variables": {},
   "exception": null,
   "input_path": "eBay_Overview.ipynb",
   "output_path": "eBay_Overview.ipynb",
   "parameters": {},
   "start_time": "2021-10-01T11:00:04.585560",
   "version": "2.3.3"
  }
 },
 "nbformat": 4,
 "nbformat_minor": 5
}