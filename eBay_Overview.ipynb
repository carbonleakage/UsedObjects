{
 "cells": [
  {
   "cell_type": "code",
   "execution_count": 1,
   "id": "reverse-picking",
   "metadata": {
    "execution": {
     "iopub.execute_input": "2021-09-04T08:00:06.584753Z",
     "iopub.status.busy": "2021-09-04T08:00:06.582601Z",
     "iopub.status.idle": "2021-09-04T08:00:07.384318Z",
     "shell.execute_reply": "2021-09-04T08:00:07.385575Z"
    },
    "papermill": {
     "duration": 0.852581,
     "end_time": "2021-09-04T08:00:07.386200",
     "exception": false,
     "start_time": "2021-09-04T08:00:06.533619",
     "status": "completed"
    },
    "tags": []
   },
   "outputs": [],
   "source": [
    "import pandas as pd\n",
    "import sqlite3"
   ]
  },
  {
   "cell_type": "code",
   "execution_count": 2,
   "id": "innovative-syndrome",
   "metadata": {
    "execution": {
     "iopub.execute_input": "2021-09-04T08:00:07.436704Z",
     "iopub.status.busy": "2021-09-04T08:00:07.434743Z",
     "iopub.status.idle": "2021-09-04T08:00:07.641003Z",
     "shell.execute_reply": "2021-09-04T08:00:07.639725Z"
    },
    "papermill": {
     "duration": 0.234357,
     "end_time": "2021-09-04T08:00:07.641363",
     "exception": false,
     "start_time": "2021-09-04T08:00:07.407006",
     "status": "completed"
    },
    "tags": []
   },
   "outputs": [],
   "source": [
    "timestamps = pd.read_sql(\"select distinct record_time from EBAY_TOP_BERLIN order by record_time desc limit 2\", sqlite3.connect(\"UsedObjects.db\"))"
   ]
  },
  {
   "cell_type": "code",
   "execution_count": 3,
   "id": "periodic-identification",
   "metadata": {
    "execution": {
     "iopub.execute_input": "2021-09-04T08:00:07.709499Z",
     "iopub.status.busy": "2021-09-04T08:00:07.707467Z",
     "iopub.status.idle": "2021-09-04T08:00:07.727183Z",
     "shell.execute_reply": "2021-09-04T08:00:07.728680Z"
    },
    "papermill": {
     "duration": 0.06545,
     "end_time": "2021-09-04T08:00:07.729150",
     "exception": false,
     "start_time": "2021-09-04T08:00:07.663700",
     "status": "completed"
    },
    "tags": []
   },
   "outputs": [
    {
     "data": {
      "text/html": [
       "<div>\n",
       "<style scoped>\n",
       "    .dataframe tbody tr th:only-of-type {\n",
       "        vertical-align: middle;\n",
       "    }\n",
       "\n",
       "    .dataframe tbody tr th {\n",
       "        vertical-align: top;\n",
       "    }\n",
       "\n",
       "    .dataframe thead th {\n",
       "        text-align: right;\n",
       "    }\n",
       "</style>\n",
       "<table border=\"1\" class=\"dataframe\">\n",
       "  <thead>\n",
       "    <tr style=\"text-align: right;\">\n",
       "      <th></th>\n",
       "      <th>RECORD_TIME</th>\n",
       "    </tr>\n",
       "  </thead>\n",
       "  <tbody>\n",
       "    <tr>\n",
       "      <th>0</th>\n",
       "      <td>2021-09-04 10:00</td>\n",
       "    </tr>\n",
       "    <tr>\n",
       "      <th>1</th>\n",
       "      <td>2021-09-04 09:30</td>\n",
       "    </tr>\n",
       "  </tbody>\n",
       "</table>\n",
       "</div>"
      ],
      "text/plain": [
       "        RECORD_TIME\n",
       "0  2021-09-04 10:00\n",
       "1  2021-09-04 09:30"
      ]
     },
     "execution_count": 3,
     "metadata": {},
     "output_type": "execute_result"
    }
   ],
   "source": [
    "timestamps"
   ]
  },
  {
   "cell_type": "code",
   "execution_count": 4,
   "id": "alternate-victory",
   "metadata": {
    "execution": {
     "iopub.execute_input": "2021-09-04T08:00:07.779477Z",
     "iopub.status.busy": "2021-09-04T08:00:07.777520Z",
     "iopub.status.idle": "2021-09-04T08:00:08.078661Z",
     "shell.execute_reply": "2021-09-04T08:00:08.080962Z"
    },
    "papermill": {
     "duration": 0.332059,
     "end_time": "2021-09-04T08:00:08.081509",
     "exception": false,
     "start_time": "2021-09-04T08:00:07.749450",
     "status": "completed"
    },
    "tags": []
   },
   "outputs": [],
   "source": [
    "df = pd.read_sql(\"select * from EBAY_TOP_BERLIN where record_time in (select distinct record_time from EBAY_TOP_BERLIN order by record_time desc limit 2)\", sqlite3.connect(\"UsedObjects.db\"))"
   ]
  },
  {
   "cell_type": "code",
   "execution_count": 5,
   "id": "popular-active",
   "metadata": {
    "execution": {
     "iopub.execute_input": "2021-09-04T08:00:08.162975Z",
     "iopub.status.busy": "2021-09-04T08:00:08.151541Z",
     "iopub.status.idle": "2021-09-04T08:00:08.178611Z",
     "shell.execute_reply": "2021-09-04T08:00:08.179902Z"
    },
    "papermill": {
     "duration": 0.071364,
     "end_time": "2021-09-04T08:00:08.180314",
     "exception": false,
     "start_time": "2021-09-04T08:00:08.108950",
     "status": "completed"
    },
    "tags": []
   },
   "outputs": [],
   "source": [
    "df_pivot = df.pivot_table(index=\"PRODUCT\", columns = \"RECORD_TIME\", values = \"LISTING_COUNT\")"
   ]
  },
  {
   "cell_type": "code",
   "execution_count": 6,
   "id": "union-huntington",
   "metadata": {
    "execution": {
     "iopub.execute_input": "2021-09-04T08:00:08.238451Z",
     "iopub.status.busy": "2021-09-04T08:00:08.236181Z",
     "iopub.status.idle": "2021-09-04T08:00:08.241975Z",
     "shell.execute_reply": "2021-09-04T08:00:08.243343Z"
    },
    "papermill": {
     "duration": 0.041311,
     "end_time": "2021-09-04T08:00:08.243783",
     "exception": false,
     "start_time": "2021-09-04T08:00:08.202472",
     "status": "completed"
    },
    "tags": []
   },
   "outputs": [],
   "source": [
    "df_pivot.columns = [\"stamp_1\", \"stamp_2\"]\n",
    "df_pivot_diff = df_pivot.diff(axis=1)"
   ]
  },
  {
   "cell_type": "code",
   "execution_count": 7,
   "id": "fifth-motion",
   "metadata": {
    "execution": {
     "iopub.execute_input": "2021-09-04T08:00:08.297588Z",
     "iopub.status.busy": "2021-09-04T08:00:08.295224Z",
     "iopub.status.idle": "2021-09-04T08:00:09.805609Z",
     "shell.execute_reply": "2021-09-04T08:00:09.804210Z"
    },
    "papermill": {
     "duration": 1.542355,
     "end_time": "2021-09-04T08:00:09.805971",
     "exception": false,
     "start_time": "2021-09-04T08:00:08.263616",
     "status": "completed"
    },
    "tags": []
   },
   "outputs": [
    {
     "data": {
      "text/plain": [
       "<AxesSubplot:ylabel='PRODUCT'>"
      ]
     },
     "execution_count": 7,
     "metadata": {},
     "output_type": "execute_result"
    },
    {
     "data": {
      "image/png": "[encoded data removed]",
      "text/plain": [
       "<Figure size 432x288 with 1 Axes>"
      ]
     },
     "metadata": {
      "needs_background": "light"
     },
     "output_type": "display_data"
    }
   ],
   "source": [
    "df_pivot_diff.sort_values(\"stamp_2\", ascending = False)[\"stamp_2\"].head(10).plot.barh()"
   ]
  },
  {
   "cell_type": "code",
   "execution_count": null,
   "id": "extra-executive",
   "metadata": {
    "papermill": {
     "duration": 0.022173,
     "end_time": "2021-09-04T08:00:09.853479",
     "exception": false,
     "start_time": "2021-09-04T08:00:09.831306",
     "status": "completed"
    },
    "tags": []
   },
   "outputs": [],
   "source": []
  }
 ],
 "metadata": {
  "kernelspec": {
   "display_name": "Python 3",
   "language": "python",
   "name": "python3"
  },
  "language_info": {
   "codemirror_mode": {
    "name": "ipython",
    "version": 3
   },
   "file_extension": ".py",
   "mimetype": "text/x-python",
   "name": "python",
   "nbconvert_exporter": "python",
   "pygments_lexer": "ipython3",
   "version": "3.9.5"
  },
  "papermill": {
   "default_parameters": {},
   "duration": 6.354446,
   "end_time": "2021-09-04T08:00:10.494358",
   "environment_variables": {},
   "exception": null,
   "input_path": "eBay_Overview.ipynb",
   "output_path": "eBay_Overview.ipynb",
   "parameters": {},
   "start_time": "2021-09-04T08:00:04.139912",
   "version": "2.3.3"
  }
 },
 "nbformat": 4,
 "nbformat_minor": 5
}