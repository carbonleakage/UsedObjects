{
 "cells": [
  {
   "cell_type": "code",
   "execution_count": 1,
   "id": "reverse-picking",
   "metadata": {
    "execution": {
     "iopub.execute_input": "2021-11-27T12:30:07.524579Z",
     "iopub.status.busy": "2021-11-27T12:30:07.522266Z",
     "iopub.status.idle": "2021-11-27T12:30:08.477545Z",
     "shell.execute_reply": "2021-11-27T12:30:08.479101Z"
    },
    "papermill": {
     "duration": 1.006006,
     "end_time": "2021-11-27T12:30:08.479846",
     "exception": false,
     "start_time": "2021-11-27T12:30:07.473840",
     "status": "completed"
    },
    "tags": []
   },
   "outputs": [],
   "source": [
    "import pandas as pd\n",
    "import sqlite3"
   ]
  },
  {
   "cell_type": "code",
   "execution_count": 2,
   "id": "innovative-syndrome",
   "metadata": {
    "execution": {
     "iopub.execute_input": "2021-11-27T12:30:08.554718Z",
     "iopub.status.busy": "2021-11-27T12:30:08.550763Z",
     "iopub.status.idle": "2021-11-27T12:30:09.471721Z",
     "shell.execute_reply": "2021-11-27T12:30:09.473039Z"
    },
    "papermill": {
     "duration": 0.962753,
     "end_time": "2021-11-27T12:30:09.473486",
     "exception": false,
     "start_time": "2021-11-27T12:30:08.510733",
     "status": "completed"
    },
    "tags": []
   },
   "outputs": [],
   "source": [
    "timestamps = pd.read_sql(\"select distinct record_time from EBAY_TOP_BERLIN order by record_time desc limit 2\", sqlite3.connect(\"UsedObjects.db\"))"
   ]
  },
  {
   "cell_type": "code",
   "execution_count": 3,
   "id": "periodic-identification",
   "metadata": {
    "execution": {
     "iopub.execute_input": "2021-11-27T12:30:09.539356Z",
     "iopub.status.busy": "2021-11-27T12:30:09.537322Z",
     "iopub.status.idle": "2021-11-27T12:30:09.557588Z",
     "shell.execute_reply": "2021-11-27T12:30:09.558905Z"
    },
    "papermill": {
     "duration": 0.066514,
     "end_time": "2021-11-27T12:30:09.559325",
     "exception": false,
     "start_time": "2021-11-27T12:30:09.492811",
     "status": "completed"
    },
    "tags": []
   },
   "outputs": [
    {
     "data": {
      "text/html": [
       "<div>\n",
       "<style scoped>\n",
       "    .dataframe tbody tr th:only-of-type {\n",
       "        vertical-align: middle;\n",
       "    }\n",
       "\n",
       "    .dataframe tbody tr th {\n",
       "        vertical-align: top;\n",
       "    }\n",
       "\n",
       "    .dataframe thead th {\n",
       "        text-align: right;\n",
       "    }\n",
       "</style>\n",
       "<table border=\"1\" class=\"dataframe\">\n",
       "  <thead>\n",
       "    <tr style=\"text-align: right;\">\n",
       "      <th></th>\n",
       "      <th>RECORD_TIME</th>\n",
       "    </tr>\n",
       "  </thead>\n",
       "  <tbody>\n",
       "    <tr>\n",
       "      <th>0</th>\n",
       "      <td>2021-11-27 13:30</td>\n",
       "    </tr>\n",
       "    <tr>\n",
       "      <th>1</th>\n",
       "      <td>2021-11-27 13:00</td>\n",
       "    </tr>\n",
       "  </tbody>\n",
       "</table>\n",
       "</div>"
      ],
      "text/plain": [
       "        RECORD_TIME\n",
       "0  2021-11-27 13:30\n",
       "1  2021-11-27 13:00"
      ]
     },
     "execution_count": 3,
     "metadata": {},
     "output_type": "execute_result"
    }
   ],
   "source": [
    "timestamps"
   ]
  },
  {
   "cell_type": "code",
   "execution_count": 4,
   "id": "alternate-victory",
   "metadata": {
    "execution": {
     "iopub.execute_input": "2021-11-27T12:30:09.610870Z",
     "iopub.status.busy": "2021-11-27T12:30:09.608627Z",
     "iopub.status.idle": "2021-11-27T12:30:10.999125Z",
     "shell.execute_reply": "2021-11-27T12:30:11.000578Z"
    },
    "papermill": {
     "duration": 1.420814,
     "end_time": "2021-11-27T12:30:11.001149",
     "exception": false,
     "start_time": "2021-11-27T12:30:09.580335",
     "status": "completed"
    },
    "tags": []
   },
   "outputs": [],
   "source": [
    "df = pd.read_sql(\"select * from EBAY_TOP_BERLIN where record_time in (select distinct record_time from EBAY_TOP_BERLIN order by record_time desc limit 2)\", sqlite3.connect(\"UsedObjects.db\"))"
   ]
  },
  {
   "cell_type": "code",
   "execution_count": 5,
   "id": "popular-active",
   "metadata": {
    "execution": {
     "iopub.execute_input": "2021-11-27T12:30:11.062841Z",
     "iopub.status.busy": "2021-11-27T12:30:11.059030Z",
     "iopub.status.idle": "2021-11-27T12:30:11.106436Z",
     "shell.execute_reply": "2021-11-27T12:30:11.107745Z"
    },
    "papermill": {
     "duration": 0.085456,
     "end_time": "2021-11-27T12:30:11.108215",
     "exception": false,
     "start_time": "2021-11-27T12:30:11.022759",
     "status": "completed"
    },
    "tags": []
   },
   "outputs": [],
   "source": [
    "df_pivot = df.pivot_table(index=\"PRODUCT\", columns = \"RECORD_TIME\", values = \"LISTING_COUNT\")"
   ]
  },
  {
   "cell_type": "code",
   "execution_count": 6,
   "id": "union-huntington",
   "metadata": {
    "execution": {
     "iopub.execute_input": "2021-11-27T12:30:11.168028Z",
     "iopub.status.busy": "2021-11-27T12:30:11.165798Z",
     "iopub.status.idle": "2021-11-27T12:30:11.171423Z",
     "shell.execute_reply": "2021-11-27T12:30:11.172837Z"
    },
    "papermill": {
     "duration": 0.042993,
     "end_time": "2021-11-27T12:30:11.173321",
     "exception": false,
     "start_time": "2021-11-27T12:30:11.130328",
     "status": "completed"
    },
    "tags": []
   },
   "outputs": [],
   "source": [
    "df_pivot.columns = [\"stamp_1\", \"stamp_2\"]\n",
    "df_pivot_diff = df_pivot.diff(axis=1)"
   ]
  },
  {
   "cell_type": "code",
   "execution_count": 7,
   "id": "fifth-motion",
   "metadata": {
    "execution": {
     "iopub.execute_input": "2021-11-27T12:30:11.228637Z",
     "iopub.status.busy": "2021-11-27T12:30:11.226105Z",
     "iopub.status.idle": "2021-11-27T12:30:13.263580Z",
     "shell.execute_reply": "2021-11-27T12:30:13.265579Z"
    },
    "papermill": {
     "duration": 2.072997,
     "end_time": "2021-11-27T12:30:13.266193",
     "exception": false,
     "start_time": "2021-11-27T12:30:11.193196",
     "status": "completed"
    },
    "tags": []
   },
   "outputs": [
    {
     "data": {
      "text/plain": [
       "<AxesSubplot:ylabel='PRODUCT'>"
      ]
     },
     "execution_count": 7,
     "metadata": {},
     "output_type": "execute_result"
    },
    {
     "data": {
      "image/png": "[encoded data removed]",
      "text/plain": [
       "<Figure size 432x288 with 1 Axes>"
      ]
     },
     "metadata": {
      "needs_background": "light"
     },
     "output_type": "display_data"
    }
   ],
   "source": [
    "df_pivot_diff.sort_values(\"stamp_2\", ascending = False)[\"stamp_2\"].head(10).plot.barh()"
   ]
  },
  {
   "cell_type": "code",
   "execution_count": null,
   "id": "extra-executive",
   "metadata": {
    "papermill": {
     "duration": 0.024307,
     "end_time": "2021-11-27T12:30:13.318762",
     "exception": false,
     "start_time": "2021-11-27T12:30:13.294455",
     "status": "completed"
    },
    "tags": []
   },
   "outputs": [],
   "source": []
  }
 ],
 "metadata": {
  "kernelspec": {
   "display_name": "Python 3",
   "language": "python",
   "name": "python3"
  },
  "language_info": {
   "codemirror_mode": {
    "name": "ipython",
    "version": 3
   },
   "file_extension": ".py",
   "mimetype": "text/x-python",
   "name": "python",
   "nbconvert_exporter": "python",
   "pygments_lexer": "ipython3",
   "version": "3.9.5"
  },
  "papermill": {
   "default_parameters": {},
   "duration": 9.942729,
   "end_time": "2021-11-27T12:30:14.662891",
   "environment_variables": {},
   "exception": null,
   "input_path": "eBay_Overview.ipynb",
   "output_path": "eBay_Overview.ipynb",
   "parameters": {},
   "start_time": "2021-11-27T12:30:04.720162",
   "version": "2.3.3"
  }
 },
 "nbformat": 4,
 "nbformat_minor": 5
}