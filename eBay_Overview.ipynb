{
 "cells": [
  {
   "cell_type": "code",
   "execution_count": 1,
   "id": "reverse-picking",
   "metadata": {
    "execution": {
     "iopub.execute_input": "2021-12-20T19:00:08.238963Z",
     "iopub.status.busy": "2021-12-20T19:00:08.236476Z",
     "iopub.status.idle": "2021-12-20T19:00:09.207726Z",
     "shell.execute_reply": "2021-12-20T19:00:09.209263Z"
    },
    "papermill": {
     "duration": 1.020679,
     "end_time": "2021-12-20T19:00:09.210026",
     "exception": false,
     "start_time": "2021-12-20T19:00:08.189347",
     "status": "completed"
    },
    "tags": []
   },
   "outputs": [],
   "source": [
    "import pandas as pd\n",
    "import sqlite3"
   ]
  },
  {
   "cell_type": "code",
   "execution_count": 2,
   "id": "innovative-syndrome",
   "metadata": {
    "execution": {
     "iopub.execute_input": "2021-12-20T19:00:09.274278Z",
     "iopub.status.busy": "2021-12-20T19:00:09.271956Z",
     "iopub.status.idle": "2021-12-20T19:00:10.435291Z",
     "shell.execute_reply": "2021-12-20T19:00:10.436802Z"
    },
    "papermill": {
     "duration": 1.196865,
     "end_time": "2021-12-20T19:00:10.437317",
     "exception": false,
     "start_time": "2021-12-20T19:00:09.240452",
     "status": "completed"
    },
    "tags": []
   },
   "outputs": [],
   "source": [
    "timestamps = pd.read_sql(\"select distinct record_time from EBAY_TOP_BERLIN order by record_time desc limit 2\", sqlite3.connect(\"UsedObjects.db\"))"
   ]
  },
  {
   "cell_type": "code",
   "execution_count": 3,
   "id": "periodic-identification",
   "metadata": {
    "execution": {
     "iopub.execute_input": "2021-12-20T19:00:10.509736Z",
     "iopub.status.busy": "2021-12-20T19:00:10.507323Z",
     "iopub.status.idle": "2021-12-20T19:00:10.530443Z",
     "shell.execute_reply": "2021-12-20T19:00:10.532063Z"
    },
    "papermill": {
     "duration": 0.074516,
     "end_time": "2021-12-20T19:00:10.532601",
     "exception": false,
     "start_time": "2021-12-20T19:00:10.458085",
     "status": "completed"
    },
    "tags": []
   },
   "outputs": [
    {
     "data": {
      "text/html": [
       "<div>\n",
       "<style scoped>\n",
       "    .dataframe tbody tr th:only-of-type {\n",
       "        vertical-align: middle;\n",
       "    }\n",
       "\n",
       "    .dataframe tbody tr th {\n",
       "        vertical-align: top;\n",
       "    }\n",
       "\n",
       "    .dataframe thead th {\n",
       "        text-align: right;\n",
       "    }\n",
       "</style>\n",
       "<table border=\"1\" class=\"dataframe\">\n",
       "  <thead>\n",
       "    <tr style=\"text-align: right;\">\n",
       "      <th></th>\n",
       "      <th>RECORD_TIME</th>\n",
       "    </tr>\n",
       "  </thead>\n",
       "  <tbody>\n",
       "    <tr>\n",
       "      <th>0</th>\n",
       "      <td>2021-12-20 20:00</td>\n",
       "    </tr>\n",
       "    <tr>\n",
       "      <th>1</th>\n",
       "      <td>2021-12-20 19:30</td>\n",
       "    </tr>\n",
       "  </tbody>\n",
       "</table>\n",
       "</div>"
      ],
      "text/plain": [
       "        RECORD_TIME\n",
       "0  2021-12-20 20:00\n",
       "1  2021-12-20 19:30"
      ]
     },
     "execution_count": 3,
     "metadata": {},
     "output_type": "execute_result"
    }
   ],
   "source": [
    "timestamps"
   ]
  },
  {
   "cell_type": "code",
   "execution_count": 4,
   "id": "alternate-victory",
   "metadata": {
    "execution": {
     "iopub.execute_input": "2021-12-20T19:00:10.589634Z",
     "iopub.status.busy": "2021-12-20T19:00:10.587386Z",
     "iopub.status.idle": "2021-12-20T19:00:12.230708Z",
     "shell.execute_reply": "2021-12-20T19:00:12.232077Z"
    },
    "papermill": {
     "duration": 1.677747,
     "end_time": "2021-12-20T19:00:12.232549",
     "exception": false,
     "start_time": "2021-12-20T19:00:10.554802",
     "status": "completed"
    },
    "tags": []
   },
   "outputs": [],
   "source": [
    "df = pd.read_sql(\"select * from EBAY_TOP_BERLIN where record_time in (select distinct record_time from EBAY_TOP_BERLIN order by record_time desc limit 2)\", sqlite3.connect(\"UsedObjects.db\"))"
   ]
  },
  {
   "cell_type": "code",
   "execution_count": 5,
   "id": "popular-active",
   "metadata": {
    "execution": {
     "iopub.execute_input": "2021-12-20T19:00:12.295211Z",
     "iopub.status.busy": "2021-12-20T19:00:12.292663Z",
     "iopub.status.idle": "2021-12-20T19:00:12.327252Z",
     "shell.execute_reply": "2021-12-20T19:00:12.329017Z"
    },
    "papermill": {
     "duration": 0.076781,
     "end_time": "2021-12-20T19:00:12.329530",
     "exception": false,
     "start_time": "2021-12-20T19:00:12.252749",
     "status": "completed"
    },
    "tags": []
   },
   "outputs": [],
   "source": [
    "df_pivot = df.pivot_table(index=\"PRODUCT\", columns = \"RECORD_TIME\", values = \"LISTING_COUNT\")"
   ]
  },
  {
   "cell_type": "code",
   "execution_count": 6,
   "id": "union-huntington",
   "metadata": {
    "execution": {
     "iopub.execute_input": "2021-12-20T19:00:12.391537Z",
     "iopub.status.busy": "2021-12-20T19:00:12.389323Z",
     "iopub.status.idle": "2021-12-20T19:00:12.394289Z",
     "shell.execute_reply": "2021-12-20T19:00:12.396128Z"
    },
    "papermill": {
     "duration": 0.046218,
     "end_time": "2021-12-20T19:00:12.396589",
     "exception": false,
     "start_time": "2021-12-20T19:00:12.350371",
     "status": "completed"
    },
    "tags": []
   },
   "outputs": [],
   "source": [
    "df_pivot.columns = [\"stamp_1\", \"stamp_2\"]\n",
    "df_pivot_diff = df_pivot.diff(axis=1)"
   ]
  },
  {
   "cell_type": "code",
   "execution_count": 7,
   "id": "fifth-motion",
   "metadata": {
    "execution": {
     "iopub.execute_input": "2021-12-20T19:00:12.452414Z",
     "iopub.status.busy": "2021-12-20T19:00:12.450211Z",
     "iopub.status.idle": "2021-12-20T19:00:14.451047Z",
     "shell.execute_reply": "2021-12-20T19:00:14.452445Z"
    },
    "papermill": {
     "duration": 2.036373,
     "end_time": "2021-12-20T19:00:14.452935",
     "exception": false,
     "start_time": "2021-12-20T19:00:12.416562",
     "status": "completed"
    },
    "tags": []
   },
   "outputs": [
    {
     "data": {
      "text/plain": [
       "<AxesSubplot:ylabel='PRODUCT'>"
      ]
     },
     "execution_count": 7,
     "metadata": {},
     "output_type": "execute_result"
    },
    {
     "data": {
      "image/png": "[encoded data removed]",
      "text/plain": [
       "<Figure size 432x288 with 1 Axes>"
      ]
     },
     "metadata": {
      "needs_background": "light"
     },
     "output_type": "display_data"
    }
   ],
   "source": [
    "df_pivot_diff.sort_values(\"stamp_2\", ascending = False)[\"stamp_2\"].head(10).plot.barh()"
   ]
  },
  {
   "cell_type": "code",
   "execution_count": null,
   "id": "extra-executive",
   "metadata": {
    "papermill": {
     "duration": 0.026834,
     "end_time": "2021-12-20T19:00:14.515989",
     "exception": false,
     "start_time": "2021-12-20T19:00:14.489155",
     "status": "completed"
    },
    "tags": []
   },
   "outputs": [],
   "source": []
  }
 ],
 "metadata": {
  "kernelspec": {
   "display_name": "Python 3",
   "language": "python",
   "name": "python3"
  },
  "language_info": {
   "codemirror_mode": {
    "name": "ipython",
    "version": 3
   },
   "file_extension": ".py",
   "mimetype": "text/x-python",
   "name": "python",
   "nbconvert_exporter": "python",
   "pygments_lexer": "ipython3",
   "version": "3.9.5"
  },
  "papermill": {
   "default_parameters": {},
   "duration": 9.738326,
   "end_time": "2021-12-20T19:00:15.166989",
   "environment_variables": {},
   "exception": null,
   "input_path": "eBay_Overview.ipynb",
   "output_path": "eBay_Overview.ipynb",
   "parameters": {},
   "start_time": "2021-12-20T19:00:05.428663",
   "version": "2.3.3"
  }
 },
 "nbformat": 4,
 "nbformat_minor": 5
}