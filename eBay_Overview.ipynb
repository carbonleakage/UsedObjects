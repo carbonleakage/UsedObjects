{
 "cells": [
  {
   "cell_type": "code",
   "execution_count": 1,
   "id": "reverse-picking",
   "metadata": {
    "execution": {
     "iopub.execute_input": "2021-09-10T04:00:07.286427Z",
     "iopub.status.busy": "2021-09-10T04:00:07.284461Z",
     "iopub.status.idle": "2021-09-10T04:00:08.099035Z",
     "shell.execute_reply": "2021-09-10T04:00:08.100443Z"
    },
    "papermill": {
     "duration": 0.864315,
     "end_time": "2021-09-10T04:00:08.101098",
     "exception": false,
     "start_time": "2021-09-10T04:00:07.236783",
     "status": "completed"
    },
    "tags": []
   },
   "outputs": [],
   "source": [
    "import pandas as pd\n",
    "import sqlite3"
   ]
  },
  {
   "cell_type": "code",
   "execution_count": 2,
   "id": "innovative-syndrome",
   "metadata": {
    "execution": {
     "iopub.execute_input": "2021-09-10T04:00:08.151478Z",
     "iopub.status.busy": "2021-09-10T04:00:08.149277Z",
     "iopub.status.idle": "2021-09-10T04:00:08.403653Z",
     "shell.execute_reply": "2021-09-10T04:00:08.405045Z"
    },
    "papermill": {
     "duration": 0.284254,
     "end_time": "2021-09-10T04:00:08.405479",
     "exception": false,
     "start_time": "2021-09-10T04:00:08.121225",
     "status": "completed"
    },
    "tags": []
   },
   "outputs": [],
   "source": [
    "timestamps = pd.read_sql(\"select distinct record_time from EBAY_TOP_BERLIN order by record_time desc limit 2\", sqlite3.connect(\"UsedObjects.db\"))"
   ]
  },
  {
   "cell_type": "code",
   "execution_count": 3,
   "id": "periodic-identification",
   "metadata": {
    "execution": {
     "iopub.execute_input": "2021-09-10T04:00:08.471631Z",
     "iopub.status.busy": "2021-09-10T04:00:08.469516Z",
     "iopub.status.idle": "2021-09-10T04:00:08.489559Z",
     "shell.execute_reply": "2021-09-10T04:00:08.490846Z"
    },
    "papermill": {
     "duration": 0.066246,
     "end_time": "2021-09-10T04:00:08.491321",
     "exception": false,
     "start_time": "2021-09-10T04:00:08.425075",
     "status": "completed"
    },
    "tags": []
   },
   "outputs": [
    {
     "data": {
      "text/html": [
       "<div>\n",
       "<style scoped>\n",
       "    .dataframe tbody tr th:only-of-type {\n",
       "        vertical-align: middle;\n",
       "    }\n",
       "\n",
       "    .dataframe tbody tr th {\n",
       "        vertical-align: top;\n",
       "    }\n",
       "\n",
       "    .dataframe thead th {\n",
       "        text-align: right;\n",
       "    }\n",
       "</style>\n",
       "<table border=\"1\" class=\"dataframe\">\n",
       "  <thead>\n",
       "    <tr style=\"text-align: right;\">\n",
       "      <th></th>\n",
       "      <th>RECORD_TIME</th>\n",
       "    </tr>\n",
       "  </thead>\n",
       "  <tbody>\n",
       "    <tr>\n",
       "      <th>0</th>\n",
       "      <td>2021-09-10 06:00</td>\n",
       "    </tr>\n",
       "    <tr>\n",
       "      <th>1</th>\n",
       "      <td>2021-09-10 05:30</td>\n",
       "    </tr>\n",
       "  </tbody>\n",
       "</table>\n",
       "</div>"
      ],
      "text/plain": [
       "        RECORD_TIME\n",
       "0  2021-09-10 06:00\n",
       "1  2021-09-10 05:30"
      ]
     },
     "execution_count": 3,
     "metadata": {},
     "output_type": "execute_result"
    }
   ],
   "source": [
    "timestamps"
   ]
  },
  {
   "cell_type": "code",
   "execution_count": 4,
   "id": "alternate-victory",
   "metadata": {
    "execution": {
     "iopub.execute_input": "2021-09-10T04:00:08.541769Z",
     "iopub.status.busy": "2021-09-10T04:00:08.539911Z",
     "iopub.status.idle": "2021-09-10T04:00:08.916214Z",
     "shell.execute_reply": "2021-09-10T04:00:08.917568Z"
    },
    "papermill": {
     "duration": 0.406391,
     "end_time": "2021-09-10T04:00:08.917990",
     "exception": false,
     "start_time": "2021-09-10T04:00:08.511599",
     "status": "completed"
    },
    "tags": []
   },
   "outputs": [],
   "source": [
    "df = pd.read_sql(\"select * from EBAY_TOP_BERLIN where record_time in (select distinct record_time from EBAY_TOP_BERLIN order by record_time desc limit 2)\", sqlite3.connect(\"UsedObjects.db\"))"
   ]
  },
  {
   "cell_type": "code",
   "execution_count": 5,
   "id": "popular-active",
   "metadata": {
    "execution": {
     "iopub.execute_input": "2021-09-10T04:00:08.997632Z",
     "iopub.status.busy": "2021-09-10T04:00:08.986520Z",
     "iopub.status.idle": "2021-09-10T04:00:09.013157Z",
     "shell.execute_reply": "2021-09-10T04:00:09.014418Z"
    },
    "papermill": {
     "duration": 0.071392,
     "end_time": "2021-09-10T04:00:09.014812",
     "exception": false,
     "start_time": "2021-09-10T04:00:08.943420",
     "status": "completed"
    },
    "tags": []
   },
   "outputs": [],
   "source": [
    "df_pivot = df.pivot_table(index=\"PRODUCT\", columns = \"RECORD_TIME\", values = \"LISTING_COUNT\")"
   ]
  },
  {
   "cell_type": "code",
   "execution_count": 6,
   "id": "union-huntington",
   "metadata": {
    "execution": {
     "iopub.execute_input": "2021-09-10T04:00:09.070642Z",
     "iopub.status.busy": "2021-09-10T04:00:09.068565Z",
     "iopub.status.idle": "2021-09-10T04:00:09.073747Z",
     "shell.execute_reply": "2021-09-10T04:00:09.075133Z"
    },
    "papermill": {
     "duration": 0.040253,
     "end_time": "2021-09-10T04:00:09.075592",
     "exception": false,
     "start_time": "2021-09-10T04:00:09.035339",
     "status": "completed"
    },
    "tags": []
   },
   "outputs": [],
   "source": [
    "df_pivot.columns = [\"stamp_1\", \"stamp_2\"]\n",
    "df_pivot_diff = df_pivot.diff(axis=1)"
   ]
  },
  {
   "cell_type": "code",
   "execution_count": 7,
   "id": "fifth-motion",
   "metadata": {
    "execution": {
     "iopub.execute_input": "2021-09-10T04:00:09.132617Z",
     "iopub.status.busy": "2021-09-10T04:00:09.129837Z",
     "iopub.status.idle": "2021-09-10T04:00:10.620646Z",
     "shell.execute_reply": "2021-09-10T04:00:10.621957Z"
    },
    "papermill": {
     "duration": 1.524375,
     "end_time": "2021-09-10T04:00:10.622377",
     "exception": false,
     "start_time": "2021-09-10T04:00:09.098002",
     "status": "completed"
    },
    "tags": []
   },
   "outputs": [
    {
     "data": {
      "text/plain": [
       "<AxesSubplot:ylabel='PRODUCT'>"
      ]
     },
     "execution_count": 7,
     "metadata": {},
     "output_type": "execute_result"
    },
    {
     "data": {
      "image/png": "[encoded data removed]",
      "text/plain": [
       "<Figure size 432x288 with 1 Axes>"
      ]
     },
     "metadata": {
      "needs_background": "light"
     },
     "output_type": "display_data"
    }
   ],
   "source": [
    "df_pivot_diff.sort_values(\"stamp_2\", ascending = False)[\"stamp_2\"].head(10).plot.barh()"
   ]
  },
  {
   "cell_type": "code",
   "execution_count": null,
   "id": "extra-executive",
   "metadata": {
    "papermill": {
     "duration": 0.021854,
     "end_time": "2021-09-10T04:00:10.667692",
     "exception": false,
     "start_time": "2021-09-10T04:00:10.645838",
     "status": "completed"
    },
    "tags": []
   },
   "outputs": [],
   "source": []
  }
 ],
 "metadata": {
  "kernelspec": {
   "display_name": "Python 3",
   "language": "python",
   "name": "python3"
  },
  "language_info": {
   "codemirror_mode": {
    "name": "ipython",
    "version": 3
   },
   "file_extension": ".py",
   "mimetype": "text/x-python",
   "name": "python",
   "nbconvert_exporter": "python",
   "pygments_lexer": "ipython3",
   "version": "3.9.5"
  },
  "papermill": {
   "default_parameters": {},
   "duration": 6.497411,
   "end_time": "2021-09-10T04:00:11.308139",
   "environment_variables": {},
   "exception": null,
   "input_path": "eBay_Overview.ipynb",
   "output_path": "eBay_Overview.ipynb",
   "parameters": {},
   "start_time": "2021-09-10T04:00:04.810728",
   "version": "2.3.3"
  }
 },
 "nbformat": 4,
 "nbformat_minor": 5
}