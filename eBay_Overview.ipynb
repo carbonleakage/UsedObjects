{
 "cells": [
  {
   "cell_type": "code",
   "execution_count": 1,
   "id": "reverse-picking",
   "metadata": {
    "execution": {
     "iopub.execute_input": "2021-11-18T11:00:07.588471Z",
     "iopub.status.busy": "2021-11-18T11:00:07.586164Z",
     "iopub.status.idle": "2021-11-18T11:00:08.527733Z",
     "shell.execute_reply": "2021-11-18T11:00:08.529838Z"
    },
    "papermill": {
     "duration": 0.99027,
     "end_time": "2021-11-18T11:00:08.530669",
     "exception": false,
     "start_time": "2021-11-18T11:00:07.540399",
     "status": "completed"
    },
    "tags": []
   },
   "outputs": [],
   "source": [
    "import pandas as pd\n",
    "import sqlite3"
   ]
  },
  {
   "cell_type": "code",
   "execution_count": 2,
   "id": "innovative-syndrome",
   "metadata": {
    "execution": {
     "iopub.execute_input": "2021-11-18T11:00:08.589436Z",
     "iopub.status.busy": "2021-11-18T11:00:08.587220Z",
     "iopub.status.idle": "2021-11-18T11:00:09.435209Z",
     "shell.execute_reply": "2021-11-18T11:00:09.436747Z"
    },
    "papermill": {
     "duration": 0.882877,
     "end_time": "2021-11-18T11:00:09.437244",
     "exception": false,
     "start_time": "2021-11-18T11:00:08.554367",
     "status": "completed"
    },
    "tags": []
   },
   "outputs": [],
   "source": [
    "timestamps = pd.read_sql(\"select distinct record_time from EBAY_TOP_BERLIN order by record_time desc limit 2\", sqlite3.connect(\"UsedObjects.db\"))"
   ]
  },
  {
   "cell_type": "code",
   "execution_count": 3,
   "id": "periodic-identification",
   "metadata": {
    "execution": {
     "iopub.execute_input": "2021-11-18T11:00:09.512378Z",
     "iopub.status.busy": "2021-11-18T11:00:09.506107Z",
     "iopub.status.idle": "2021-11-18T11:00:09.530427Z",
     "shell.execute_reply": "2021-11-18T11:00:09.532007Z"
    },
    "papermill": {
     "duration": 0.074537,
     "end_time": "2021-11-18T11:00:09.532489",
     "exception": false,
     "start_time": "2021-11-18T11:00:09.457952",
     "status": "completed"
    },
    "tags": []
   },
   "outputs": [
    {
     "data": {
      "text/html": [
       "<div>\n",
       "<style scoped>\n",
       "    .dataframe tbody tr th:only-of-type {\n",
       "        vertical-align: middle;\n",
       "    }\n",
       "\n",
       "    .dataframe tbody tr th {\n",
       "        vertical-align: top;\n",
       "    }\n",
       "\n",
       "    .dataframe thead th {\n",
       "        text-align: right;\n",
       "    }\n",
       "</style>\n",
       "<table border=\"1\" class=\"dataframe\">\n",
       "  <thead>\n",
       "    <tr style=\"text-align: right;\">\n",
       "      <th></th>\n",
       "      <th>RECORD_TIME</th>\n",
       "    </tr>\n",
       "  </thead>\n",
       "  <tbody>\n",
       "    <tr>\n",
       "      <th>0</th>\n",
       "      <td>2021-11-18 12:00</td>\n",
       "    </tr>\n",
       "    <tr>\n",
       "      <th>1</th>\n",
       "      <td>2021-11-18 11:30</td>\n",
       "    </tr>\n",
       "  </tbody>\n",
       "</table>\n",
       "</div>"
      ],
      "text/plain": [
       "        RECORD_TIME\n",
       "0  2021-11-18 12:00\n",
       "1  2021-11-18 11:30"
      ]
     },
     "execution_count": 3,
     "metadata": {},
     "output_type": "execute_result"
    }
   ],
   "source": [
    "timestamps"
   ]
  },
  {
   "cell_type": "code",
   "execution_count": 4,
   "id": "alternate-victory",
   "metadata": {
    "execution": {
     "iopub.execute_input": "2021-11-18T11:00:09.588639Z",
     "iopub.status.busy": "2021-11-18T11:00:09.586423Z",
     "iopub.status.idle": "2021-11-18T11:00:10.790776Z",
     "shell.execute_reply": "2021-11-18T11:00:10.792252Z"
    },
    "papermill": {
     "duration": 1.238743,
     "end_time": "2021-11-18T11:00:10.792819",
     "exception": false,
     "start_time": "2021-11-18T11:00:09.554076",
     "status": "completed"
    },
    "tags": []
   },
   "outputs": [],
   "source": [
    "df = pd.read_sql(\"select * from EBAY_TOP_BERLIN where record_time in (select distinct record_time from EBAY_TOP_BERLIN order by record_time desc limit 2)\", sqlite3.connect(\"UsedObjects.db\"))"
   ]
  },
  {
   "cell_type": "code",
   "execution_count": 5,
   "id": "popular-active",
   "metadata": {
    "execution": {
     "iopub.execute_input": "2021-11-18T11:00:10.863750Z",
     "iopub.status.busy": "2021-11-18T11:00:10.856179Z",
     "iopub.status.idle": "2021-11-18T11:00:10.885600Z",
     "shell.execute_reply": "2021-11-18T11:00:10.887342Z"
    },
    "papermill": {
     "duration": 0.074255,
     "end_time": "2021-11-18T11:00:10.887818",
     "exception": false,
     "start_time": "2021-11-18T11:00:10.813563",
     "status": "completed"
    },
    "tags": []
   },
   "outputs": [],
   "source": [
    "df_pivot = df.pivot_table(index=\"PRODUCT\", columns = \"RECORD_TIME\", values = \"LISTING_COUNT\")"
   ]
  },
  {
   "cell_type": "code",
   "execution_count": 6,
   "id": "union-huntington",
   "metadata": {
    "execution": {
     "iopub.execute_input": "2021-11-18T11:00:10.973333Z",
     "iopub.status.busy": "2021-11-18T11:00:10.970991Z",
     "iopub.status.idle": "2021-11-18T11:00:10.976771Z",
     "shell.execute_reply": "2021-11-18T11:00:10.978421Z"
    },
    "papermill": {
     "duration": 0.045556,
     "end_time": "2021-11-18T11:00:10.978922",
     "exception": false,
     "start_time": "2021-11-18T11:00:10.933366",
     "status": "completed"
    },
    "tags": []
   },
   "outputs": [],
   "source": [
    "df_pivot.columns = [\"stamp_1\", \"stamp_2\"]\n",
    "df_pivot_diff = df_pivot.diff(axis=1)"
   ]
  },
  {
   "cell_type": "code",
   "execution_count": 7,
   "id": "fifth-motion",
   "metadata": {
    "execution": {
     "iopub.execute_input": "2021-11-18T11:00:11.037656Z",
     "iopub.status.busy": "2021-11-18T11:00:11.034971Z",
     "iopub.status.idle": "2021-11-18T11:00:12.807516Z",
     "shell.execute_reply": "2021-11-18T11:00:12.808989Z"
    },
    "papermill": {
     "duration": 1.809385,
     "end_time": "2021-11-18T11:00:12.809475",
     "exception": false,
     "start_time": "2021-11-18T11:00:11.000090",
     "status": "completed"
    },
    "tags": []
   },
   "outputs": [
    {
     "data": {
      "text/plain": [
       "<AxesSubplot:ylabel='PRODUCT'>"
      ]
     },
     "execution_count": 7,
     "metadata": {},
     "output_type": "execute_result"
    },
    {
     "data": {
      "image/png": "[encoded data removed]",
      "text/plain": [
       "<Figure size 432x288 with 1 Axes>"
      ]
     },
     "metadata": {
      "needs_background": "light"
     },
     "output_type": "display_data"
    }
   ],
   "source": [
    "df_pivot_diff.sort_values(\"stamp_2\", ascending = False)[\"stamp_2\"].head(10).plot.barh()"
   ]
  },
  {
   "cell_type": "code",
   "execution_count": null,
   "id": "extra-executive",
   "metadata": {
    "papermill": {
     "duration": 0.023603,
     "end_time": "2021-11-18T11:00:12.857087",
     "exception": false,
     "start_time": "2021-11-18T11:00:12.833484",
     "status": "completed"
    },
    "tags": []
   },
   "outputs": [],
   "source": []
  }
 ],
 "metadata": {
  "kernelspec": {
   "display_name": "Python 3",
   "language": "python",
   "name": "python3"
  },
  "language_info": {
   "codemirror_mode": {
    "name": "ipython",
    "version": 3
   },
   "file_extension": ".py",
   "mimetype": "text/x-python",
   "name": "python",
   "nbconvert_exporter": "python",
   "pygments_lexer": "ipython3",
   "version": "3.9.5"
  },
  "papermill": {
   "default_parameters": {},
   "duration": 8.834176,
   "end_time": "2021-11-18T11:00:13.603595",
   "environment_variables": {},
   "exception": null,
   "input_path": "eBay_Overview.ipynb",
   "output_path": "eBay_Overview.ipynb",
   "parameters": {},
   "start_time": "2021-11-18T11:00:04.769419",
   "version": "2.3.3"
  }
 },
 "nbformat": 4,
 "nbformat_minor": 5
}