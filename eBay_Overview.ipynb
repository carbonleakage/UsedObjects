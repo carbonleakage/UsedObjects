{
 "cells": [
  {
   "cell_type": "code",
   "execution_count": 1,
   "id": "reverse-picking",
   "metadata": {
    "execution": {
     "iopub.execute_input": "2021-11-01T12:00:07.102537Z",
     "iopub.status.busy": "2021-11-01T12:00:07.100489Z",
     "iopub.status.idle": "2021-11-01T12:00:07.905249Z",
     "shell.execute_reply": "2021-11-01T12:00:07.906708Z"
    },
    "papermill": {
     "duration": 0.856915,
     "end_time": "2021-11-01T12:00:07.907363",
     "exception": false,
     "start_time": "2021-11-01T12:00:07.050448",
     "status": "completed"
    },
    "tags": []
   },
   "outputs": [],
   "source": [
    "import pandas as pd\n",
    "import sqlite3"
   ]
  },
  {
   "cell_type": "code",
   "execution_count": 2,
   "id": "innovative-syndrome",
   "metadata": {
    "execution": {
     "iopub.execute_input": "2021-11-01T12:00:07.957446Z",
     "iopub.status.busy": "2021-11-01T12:00:07.955456Z",
     "iopub.status.idle": "2021-11-01T12:00:08.650802Z",
     "shell.execute_reply": "2021-11-01T12:00:08.652039Z"
    },
    "papermill": {
     "duration": 0.724757,
     "end_time": "2021-11-01T12:00:08.652443",
     "exception": false,
     "start_time": "2021-11-01T12:00:07.927686",
     "status": "completed"
    },
    "tags": []
   },
   "outputs": [],
   "source": [
    "timestamps = pd.read_sql(\"select distinct record_time from EBAY_TOP_BERLIN order by record_time desc limit 2\", sqlite3.connect(\"UsedObjects.db\"))"
   ]
  },
  {
   "cell_type": "code",
   "execution_count": 3,
   "id": "periodic-identification",
   "metadata": {
    "execution": {
     "iopub.execute_input": "2021-11-01T12:00:08.735451Z",
     "iopub.status.busy": "2021-11-01T12:00:08.733419Z",
     "iopub.status.idle": "2021-11-01T12:00:08.755475Z",
     "shell.execute_reply": "2021-11-01T12:00:08.756882Z"
    },
    "papermill": {
     "duration": 0.074775,
     "end_time": "2021-11-01T12:00:08.757347",
     "exception": false,
     "start_time": "2021-11-01T12:00:08.682572",
     "status": "completed"
    },
    "tags": []
   },
   "outputs": [
    {
     "data": {
      "text/html": [
       "<div>\n",
       "<style scoped>\n",
       "    .dataframe tbody tr th:only-of-type {\n",
       "        vertical-align: middle;\n",
       "    }\n",
       "\n",
       "    .dataframe tbody tr th {\n",
       "        vertical-align: top;\n",
       "    }\n",
       "\n",
       "    .dataframe thead th {\n",
       "        text-align: right;\n",
       "    }\n",
       "</style>\n",
       "<table border=\"1\" class=\"dataframe\">\n",
       "  <thead>\n",
       "    <tr style=\"text-align: right;\">\n",
       "      <th></th>\n",
       "      <th>RECORD_TIME</th>\n",
       "    </tr>\n",
       "  </thead>\n",
       "  <tbody>\n",
       "    <tr>\n",
       "      <th>0</th>\n",
       "      <td>2021-11-01 13:00</td>\n",
       "    </tr>\n",
       "    <tr>\n",
       "      <th>1</th>\n",
       "      <td>2021-11-01 12:30</td>\n",
       "    </tr>\n",
       "  </tbody>\n",
       "</table>\n",
       "</div>"
      ],
      "text/plain": [
       "        RECORD_TIME\n",
       "0  2021-11-01 13:00\n",
       "1  2021-11-01 12:30"
      ]
     },
     "execution_count": 3,
     "metadata": {},
     "output_type": "execute_result"
    }
   ],
   "source": [
    "timestamps"
   ]
  },
  {
   "cell_type": "code",
   "execution_count": 4,
   "id": "alternate-victory",
   "metadata": {
    "execution": {
     "iopub.execute_input": "2021-11-01T12:00:08.810338Z",
     "iopub.status.busy": "2021-11-01T12:00:08.807957Z",
     "iopub.status.idle": "2021-11-01T12:00:09.817929Z",
     "shell.execute_reply": "2021-11-01T12:00:09.819216Z"
    },
    "papermill": {
     "duration": 1.040455,
     "end_time": "2021-11-01T12:00:09.819622",
     "exception": false,
     "start_time": "2021-11-01T12:00:08.779167",
     "status": "completed"
    },
    "tags": []
   },
   "outputs": [],
   "source": [
    "df = pd.read_sql(\"select * from EBAY_TOP_BERLIN where record_time in (select distinct record_time from EBAY_TOP_BERLIN order by record_time desc limit 2)\", sqlite3.connect(\"UsedObjects.db\"))"
   ]
  },
  {
   "cell_type": "code",
   "execution_count": 5,
   "id": "popular-active",
   "metadata": {
    "execution": {
     "iopub.execute_input": "2021-11-01T12:00:09.889549Z",
     "iopub.status.busy": "2021-11-01T12:00:09.876947Z",
     "iopub.status.idle": "2021-11-01T12:00:09.905432Z",
     "shell.execute_reply": "2021-11-01T12:00:09.906855Z"
    },
    "papermill": {
     "duration": 0.067072,
     "end_time": "2021-11-01T12:00:09.907296",
     "exception": false,
     "start_time": "2021-11-01T12:00:09.840224",
     "status": "completed"
    },
    "tags": []
   },
   "outputs": [],
   "source": [
    "df_pivot = df.pivot_table(index=\"PRODUCT\", columns = \"RECORD_TIME\", values = \"LISTING_COUNT\")"
   ]
  },
  {
   "cell_type": "code",
   "execution_count": 6,
   "id": "union-huntington",
   "metadata": {
    "execution": {
     "iopub.execute_input": "2021-11-01T12:00:09.964656Z",
     "iopub.status.busy": "2021-11-01T12:00:09.962345Z",
     "iopub.status.idle": "2021-11-01T12:00:09.968238Z",
     "shell.execute_reply": "2021-11-01T12:00:09.969634Z"
    },
    "papermill": {
     "duration": 0.042204,
     "end_time": "2021-11-01T12:00:09.970071",
     "exception": false,
     "start_time": "2021-11-01T12:00:09.927867",
     "status": "completed"
    },
    "tags": []
   },
   "outputs": [],
   "source": [
    "df_pivot.columns = [\"stamp_1\", \"stamp_2\"]\n",
    "df_pivot_diff = df_pivot.diff(axis=1)"
   ]
  },
  {
   "cell_type": "code",
   "execution_count": 7,
   "id": "fifth-motion",
   "metadata": {
    "execution": {
     "iopub.execute_input": "2021-11-01T12:00:10.024129Z",
     "iopub.status.busy": "2021-11-01T12:00:10.021904Z",
     "iopub.status.idle": "2021-11-01T12:00:11.522503Z",
     "shell.execute_reply": "2021-11-01T12:00:11.523794Z"
    },
    "papermill": {
     "duration": 1.533313,
     "end_time": "2021-11-01T12:00:11.524213",
     "exception": false,
     "start_time": "2021-11-01T12:00:09.990900",
     "status": "completed"
    },
    "tags": []
   },
   "outputs": [
    {
     "data": {
      "text/plain": [
       "<AxesSubplot:ylabel='PRODUCT'>"
      ]
     },
     "execution_count": 7,
     "metadata": {},
     "output_type": "execute_result"
    },
    {
     "data": {
      "image/png": "[encoded data removed]",
      "text/plain": [
       "<Figure size 432x288 with 1 Axes>"
      ]
     },
     "metadata": {
      "needs_background": "light"
     },
     "output_type": "display_data"
    }
   ],
   "source": [
    "df_pivot_diff.sort_values(\"stamp_2\", ascending = False)[\"stamp_2\"].head(10).plot.barh()"
   ]
  },
  {
   "cell_type": "code",
   "execution_count": null,
   "id": "extra-executive",
   "metadata": {
    "papermill": {
     "duration": 0.022372,
     "end_time": "2021-11-01T12:00:11.571498",
     "exception": false,
     "start_time": "2021-11-01T12:00:11.549126",
     "status": "completed"
    },
    "tags": []
   },
   "outputs": [],
   "source": []
  }
 ],
 "metadata": {
  "kernelspec": {
   "display_name": "Python 3",
   "language": "python",
   "name": "python3"
  },
  "language_info": {
   "codemirror_mode": {
    "name": "ipython",
    "version": 3
   },
   "file_extension": ".py",
   "mimetype": "text/x-python",
   "name": "python",
   "nbconvert_exporter": "python",
   "pygments_lexer": "ipython3",
   "version": "3.9.5"
  },
  "papermill": {
   "default_parameters": {},
   "duration": 7.699893,
   "end_time": "2021-11-01T12:00:12.214421",
   "environment_variables": {},
   "exception": null,
   "input_path": "eBay_Overview.ipynb",
   "output_path": "eBay_Overview.ipynb",
   "parameters": {},
   "start_time": "2021-11-01T12:00:04.514528",
   "version": "2.3.3"
  }
 },
 "nbformat": 4,
 "nbformat_minor": 5
}