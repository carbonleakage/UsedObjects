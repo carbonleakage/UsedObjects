{
 "cells": [
  {
   "cell_type": "code",
   "execution_count": 1,
   "id": "reverse-picking",
   "metadata": {
    "execution": {
     "iopub.execute_input": "2021-10-27T01:30:06.659821Z",
     "iopub.status.busy": "2021-10-27T01:30:06.657906Z",
     "iopub.status.idle": "2021-10-27T01:30:07.461774Z",
     "shell.execute_reply": "2021-10-27T01:30:07.463050Z"
    },
    "papermill": {
     "duration": 0.854682,
     "end_time": "2021-10-27T01:30:07.463667",
     "exception": false,
     "start_time": "2021-10-27T01:30:06.608985",
     "status": "completed"
    },
    "tags": []
   },
   "outputs": [],
   "source": [
    "import pandas as pd\n",
    "import sqlite3"
   ]
  },
  {
   "cell_type": "code",
   "execution_count": 2,
   "id": "innovative-syndrome",
   "metadata": {
    "execution": {
     "iopub.execute_input": "2021-10-27T01:30:07.514568Z",
     "iopub.status.busy": "2021-10-27T01:30:07.512609Z",
     "iopub.status.idle": "2021-10-27T01:30:08.163948Z",
     "shell.execute_reply": "2021-10-27T01:30:08.165944Z"
    },
    "papermill": {
     "duration": 0.68187,
     "end_time": "2021-10-27T01:30:08.166494",
     "exception": false,
     "start_time": "2021-10-27T01:30:07.484624",
     "status": "completed"
    },
    "tags": []
   },
   "outputs": [],
   "source": [
    "timestamps = pd.read_sql(\"select distinct record_time from EBAY_TOP_BERLIN order by record_time desc limit 2\", sqlite3.connect(\"UsedObjects.db\"))"
   ]
  },
  {
   "cell_type": "code",
   "execution_count": 3,
   "id": "periodic-identification",
   "metadata": {
    "execution": {
     "iopub.execute_input": "2021-10-27T01:30:08.240270Z",
     "iopub.status.busy": "2021-10-27T01:30:08.238236Z",
     "iopub.status.idle": "2021-10-27T01:30:08.257908Z",
     "shell.execute_reply": "2021-10-27T01:30:08.259133Z"
    },
    "papermill": {
     "duration": 0.067738,
     "end_time": "2021-10-27T01:30:08.259531",
     "exception": false,
     "start_time": "2021-10-27T01:30:08.191793",
     "status": "completed"
    },
    "tags": []
   },
   "outputs": [
    {
     "data": {
      "text/html": [
       "<div>\n",
       "<style scoped>\n",
       "    .dataframe tbody tr th:only-of-type {\n",
       "        vertical-align: middle;\n",
       "    }\n",
       "\n",
       "    .dataframe tbody tr th {\n",
       "        vertical-align: top;\n",
       "    }\n",
       "\n",
       "    .dataframe thead th {\n",
       "        text-align: right;\n",
       "    }\n",
       "</style>\n",
       "<table border=\"1\" class=\"dataframe\">\n",
       "  <thead>\n",
       "    <tr style=\"text-align: right;\">\n",
       "      <th></th>\n",
       "      <th>RECORD_TIME</th>\n",
       "    </tr>\n",
       "  </thead>\n",
       "  <tbody>\n",
       "    <tr>\n",
       "      <th>0</th>\n",
       "      <td>2021-10-27 03:30</td>\n",
       "    </tr>\n",
       "    <tr>\n",
       "      <th>1</th>\n",
       "      <td>2021-10-27 03:00</td>\n",
       "    </tr>\n",
       "  </tbody>\n",
       "</table>\n",
       "</div>"
      ],
      "text/plain": [
       "        RECORD_TIME\n",
       "0  2021-10-27 03:30\n",
       "1  2021-10-27 03:00"
      ]
     },
     "execution_count": 3,
     "metadata": {},
     "output_type": "execute_result"
    }
   ],
   "source": [
    "timestamps"
   ]
  },
  {
   "cell_type": "code",
   "execution_count": 4,
   "id": "alternate-victory",
   "metadata": {
    "execution": {
     "iopub.execute_input": "2021-10-27T01:30:08.312506Z",
     "iopub.status.busy": "2021-10-27T01:30:08.310234Z",
     "iopub.status.idle": "2021-10-27T01:30:09.289674Z",
     "shell.execute_reply": "2021-10-27T01:30:09.291075Z"
    },
    "papermill": {
     "duration": 1.010141,
     "end_time": "2021-10-27T01:30:09.291516",
     "exception": false,
     "start_time": "2021-10-27T01:30:08.281375",
     "status": "completed"
    },
    "tags": []
   },
   "outputs": [],
   "source": [
    "df = pd.read_sql(\"select * from EBAY_TOP_BERLIN where record_time in (select distinct record_time from EBAY_TOP_BERLIN order by record_time desc limit 2)\", sqlite3.connect(\"UsedObjects.db\"))"
   ]
  },
  {
   "cell_type": "code",
   "execution_count": 5,
   "id": "popular-active",
   "metadata": {
    "execution": {
     "iopub.execute_input": "2021-10-27T01:30:09.362841Z",
     "iopub.status.busy": "2021-10-27T01:30:09.350785Z",
     "iopub.status.idle": "2021-10-27T01:30:09.380006Z",
     "shell.execute_reply": "2021-10-27T01:30:09.381715Z"
    },
    "papermill": {
     "duration": 0.06956,
     "end_time": "2021-10-27T01:30:09.382196",
     "exception": false,
     "start_time": "2021-10-27T01:30:09.312636",
     "status": "completed"
    },
    "tags": []
   },
   "outputs": [],
   "source": [
    "df_pivot = df.pivot_table(index=\"PRODUCT\", columns = \"RECORD_TIME\", values = \"LISTING_COUNT\")"
   ]
  },
  {
   "cell_type": "code",
   "execution_count": 6,
   "id": "union-huntington",
   "metadata": {
    "execution": {
     "iopub.execute_input": "2021-10-27T01:30:09.440892Z",
     "iopub.status.busy": "2021-10-27T01:30:09.438779Z",
     "iopub.status.idle": "2021-10-27T01:30:09.444215Z",
     "shell.execute_reply": "2021-10-27T01:30:09.445569Z"
    },
    "papermill": {
     "duration": 0.041452,
     "end_time": "2021-10-27T01:30:09.445991",
     "exception": false,
     "start_time": "2021-10-27T01:30:09.404539",
     "status": "completed"
    },
    "tags": []
   },
   "outputs": [],
   "source": [
    "df_pivot.columns = [\"stamp_1\", \"stamp_2\"]\n",
    "df_pivot_diff = df_pivot.diff(axis=1)"
   ]
  },
  {
   "cell_type": "code",
   "execution_count": 7,
   "id": "fifth-motion",
   "metadata": {
    "execution": {
     "iopub.execute_input": "2021-10-27T01:30:09.501479Z",
     "iopub.status.busy": "2021-10-27T01:30:09.498913Z",
     "iopub.status.idle": "2021-10-27T01:30:10.959701Z",
     "shell.execute_reply": "2021-10-27T01:30:10.961139Z"
    },
    "papermill": {
     "duration": 1.494054,
     "end_time": "2021-10-27T01:30:10.961588",
     "exception": false,
     "start_time": "2021-10-27T01:30:09.467534",
     "status": "completed"
    },
    "tags": []
   },
   "outputs": [
    {
     "data": {
      "text/plain": [
       "<AxesSubplot:ylabel='PRODUCT'>"
      ]
     },
     "execution_count": 7,
     "metadata": {},
     "output_type": "execute_result"
    },
    {
     "data": {
      "image/png": "[encoded data removed]",
      "text/plain": [
       "<Figure size 432x288 with 1 Axes>"
      ]
     },
     "metadata": {
      "needs_background": "light"
     },
     "output_type": "display_data"
    }
   ],
   "source": [
    "df_pivot_diff.sort_values(\"stamp_2\", ascending = False)[\"stamp_2\"].head(10).plot.barh()"
   ]
  },
  {
   "cell_type": "code",
   "execution_count": null,
   "id": "extra-executive",
   "metadata": {
    "papermill": {
     "duration": 0.022213,
     "end_time": "2021-10-27T01:30:11.008674",
     "exception": false,
     "start_time": "2021-10-27T01:30:10.986461",
     "status": "completed"
    },
    "tags": []
   },
   "outputs": [],
   "source": []
  }
 ],
 "metadata": {
  "kernelspec": {
   "display_name": "Python 3",
   "language": "python",
   "name": "python3"
  },
  "language_info": {
   "codemirror_mode": {
    "name": "ipython",
    "version": 3
   },
   "file_extension": ".py",
   "mimetype": "text/x-python",
   "name": "python",
   "nbconvert_exporter": "python",
   "pygments_lexer": "ipython3",
   "version": "3.9.5"
  },
  "papermill": {
   "default_parameters": {},
   "duration": 7.448479,
   "end_time": "2021-10-27T01:30:11.652096",
   "environment_variables": {},
   "exception": null,
   "input_path": "eBay_Overview.ipynb",
   "output_path": "eBay_Overview.ipynb",
   "parameters": {},
   "start_time": "2021-10-27T01:30:04.203617",
   "version": "2.3.3"
  }
 },
 "nbformat": 4,
 "nbformat_minor": 5
}