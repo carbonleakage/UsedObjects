{
 "cells": [
  {
   "cell_type": "code",
   "execution_count": 1,
   "id": "reverse-picking",
   "metadata": {
    "execution": {
     "iopub.execute_input": "2021-09-09T11:30:07.202123Z",
     "iopub.status.busy": "2021-09-09T11:30:07.200162Z",
     "iopub.status.idle": "2021-09-09T11:30:08.015125Z",
     "shell.execute_reply": "2021-09-09T11:30:08.016483Z"
    },
    "papermill": {
     "duration": 0.865684,
     "end_time": "2021-09-09T11:30:08.017123",
     "exception": false,
     "start_time": "2021-09-09T11:30:07.151439",
     "status": "completed"
    },
    "tags": []
   },
   "outputs": [],
   "source": [
    "import pandas as pd\n",
    "import sqlite3"
   ]
  },
  {
   "cell_type": "code",
   "execution_count": 2,
   "id": "innovative-syndrome",
   "metadata": {
    "execution": {
     "iopub.execute_input": "2021-09-09T11:30:08.068172Z",
     "iopub.status.busy": "2021-09-09T11:30:08.066223Z",
     "iopub.status.idle": "2021-09-09T11:30:08.313979Z",
     "shell.execute_reply": "2021-09-09T11:30:08.315165Z"
    },
    "papermill": {
     "duration": 0.277155,
     "end_time": "2021-09-09T11:30:08.315586",
     "exception": false,
     "start_time": "2021-09-09T11:30:08.038431",
     "status": "completed"
    },
    "tags": []
   },
   "outputs": [],
   "source": [
    "timestamps = pd.read_sql(\"select distinct record_time from EBAY_TOP_BERLIN order by record_time desc limit 2\", sqlite3.connect(\"UsedObjects.db\"))"
   ]
  },
  {
   "cell_type": "code",
   "execution_count": 3,
   "id": "periodic-identification",
   "metadata": {
    "execution": {
     "iopub.execute_input": "2021-09-09T11:30:08.382657Z",
     "iopub.status.busy": "2021-09-09T11:30:08.380667Z",
     "iopub.status.idle": "2021-09-09T11:30:08.400803Z",
     "shell.execute_reply": "2021-09-09T11:30:08.401989Z"
    },
    "papermill": {
     "duration": 0.065057,
     "end_time": "2021-09-09T11:30:08.402410",
     "exception": false,
     "start_time": "2021-09-09T11:30:08.337353",
     "status": "completed"
    },
    "tags": []
   },
   "outputs": [
    {
     "data": {
      "text/html": [
       "<div>\n",
       "<style scoped>\n",
       "    .dataframe tbody tr th:only-of-type {\n",
       "        vertical-align: middle;\n",
       "    }\n",
       "\n",
       "    .dataframe tbody tr th {\n",
       "        vertical-align: top;\n",
       "    }\n",
       "\n",
       "    .dataframe thead th {\n",
       "        text-align: right;\n",
       "    }\n",
       "</style>\n",
       "<table border=\"1\" class=\"dataframe\">\n",
       "  <thead>\n",
       "    <tr style=\"text-align: right;\">\n",
       "      <th></th>\n",
       "      <th>RECORD_TIME</th>\n",
       "    </tr>\n",
       "  </thead>\n",
       "  <tbody>\n",
       "    <tr>\n",
       "      <th>0</th>\n",
       "      <td>2021-09-09 13:30</td>\n",
       "    </tr>\n",
       "    <tr>\n",
       "      <th>1</th>\n",
       "      <td>2021-09-09 13:00</td>\n",
       "    </tr>\n",
       "  </tbody>\n",
       "</table>\n",
       "</div>"
      ],
      "text/plain": [
       "        RECORD_TIME\n",
       "0  2021-09-09 13:30\n",
       "1  2021-09-09 13:00"
      ]
     },
     "execution_count": 3,
     "metadata": {},
     "output_type": "execute_result"
    }
   ],
   "source": [
    "timestamps"
   ]
  },
  {
   "cell_type": "code",
   "execution_count": 4,
   "id": "alternate-victory",
   "metadata": {
    "execution": {
     "iopub.execute_input": "2021-09-09T11:30:08.455714Z",
     "iopub.status.busy": "2021-09-09T11:30:08.453362Z",
     "iopub.status.idle": "2021-09-09T11:30:08.826196Z",
     "shell.execute_reply": "2021-09-09T11:30:08.827664Z"
    },
    "papermill": {
     "duration": 0.403696,
     "end_time": "2021-09-09T11:30:08.828121",
     "exception": false,
     "start_time": "2021-09-09T11:30:08.424425",
     "status": "completed"
    },
    "tags": []
   },
   "outputs": [],
   "source": [
    "df = pd.read_sql(\"select * from EBAY_TOP_BERLIN where record_time in (select distinct record_time from EBAY_TOP_BERLIN order by record_time desc limit 2)\", sqlite3.connect(\"UsedObjects.db\"))"
   ]
  },
  {
   "cell_type": "code",
   "execution_count": 5,
   "id": "popular-active",
   "metadata": {
    "execution": {
     "iopub.execute_input": "2021-09-09T11:30:08.897847Z",
     "iopub.status.busy": "2021-09-09T11:30:08.885793Z",
     "iopub.status.idle": "2021-09-09T11:30:08.915782Z",
     "shell.execute_reply": "2021-09-09T11:30:08.917160Z"
    },
    "papermill": {
     "duration": 0.068763,
     "end_time": "2021-09-09T11:30:08.917594",
     "exception": false,
     "start_time": "2021-09-09T11:30:08.848831",
     "status": "completed"
    },
    "tags": []
   },
   "outputs": [],
   "source": [
    "df_pivot = df.pivot_table(index=\"PRODUCT\", columns = \"RECORD_TIME\", values = \"LISTING_COUNT\")"
   ]
  },
  {
   "cell_type": "code",
   "execution_count": 6,
   "id": "union-huntington",
   "metadata": {
    "execution": {
     "iopub.execute_input": "2021-09-09T11:30:08.975238Z",
     "iopub.status.busy": "2021-09-09T11:30:08.972749Z",
     "iopub.status.idle": "2021-09-09T11:30:08.979007Z",
     "shell.execute_reply": "2021-09-09T11:30:08.980308Z"
    },
    "papermill": {
     "duration": 0.042758,
     "end_time": "2021-09-09T11:30:08.980756",
     "exception": false,
     "start_time": "2021-09-09T11:30:08.937998",
     "status": "completed"
    },
    "tags": []
   },
   "outputs": [],
   "source": [
    "df_pivot.columns = [\"stamp_1\", \"stamp_2\"]\n",
    "df_pivot_diff = df_pivot.diff(axis=1)"
   ]
  },
  {
   "cell_type": "code",
   "execution_count": 7,
   "id": "fifth-motion",
   "metadata": {
    "execution": {
     "iopub.execute_input": "2021-09-09T11:30:09.035218Z",
     "iopub.status.busy": "2021-09-09T11:30:09.032839Z",
     "iopub.status.idle": "2021-09-09T11:30:10.539402Z",
     "shell.execute_reply": "2021-09-09T11:30:10.540901Z"
    },
    "papermill": {
     "duration": 1.539502,
     "end_time": "2021-09-09T11:30:10.541426",
     "exception": false,
     "start_time": "2021-09-09T11:30:09.001924",
     "status": "completed"
    },
    "tags": []
   },
   "outputs": [
    {
     "data": {
      "text/plain": [
       "<AxesSubplot:ylabel='PRODUCT'>"
      ]
     },
     "execution_count": 7,
     "metadata": {},
     "output_type": "execute_result"
    },
    {
     "data": {
      "image/png": "[encoded data removed]",
      "text/plain": [
       "<Figure size 432x288 with 1 Axes>"
      ]
     },
     "metadata": {
      "needs_background": "light"
     },
     "output_type": "display_data"
    }
   ],
   "source": [
    "df_pivot_diff.sort_values(\"stamp_2\", ascending = False)[\"stamp_2\"].head(10).plot.barh()"
   ]
  },
  {
   "cell_type": "code",
   "execution_count": null,
   "id": "extra-executive",
   "metadata": {
    "papermill": {
     "duration": 0.021996,
     "end_time": "2021-09-09T11:30:10.588630",
     "exception": false,
     "start_time": "2021-09-09T11:30:10.566634",
     "status": "completed"
    },
    "tags": []
   },
   "outputs": [],
   "source": []
  }
 ],
 "metadata": {
  "kernelspec": {
   "display_name": "Python 3",
   "language": "python",
   "name": "python3"
  },
  "language_info": {
   "codemirror_mode": {
    "name": "ipython",
    "version": 3
   },
   "file_extension": ".py",
   "mimetype": "text/x-python",
   "name": "python",
   "nbconvert_exporter": "python",
   "pygments_lexer": "ipython3",
   "version": "3.9.5"
  },
  "papermill": {
   "default_parameters": {},
   "duration": 6.502531,
   "end_time": "2021-09-09T11:30:11.230116",
   "environment_variables": {},
   "exception": null,
   "input_path": "eBay_Overview.ipynb",
   "output_path": "eBay_Overview.ipynb",
   "parameters": {},
   "start_time": "2021-09-09T11:30:04.727585",
   "version": "2.3.3"
  }
 },
 "nbformat": 4,
 "nbformat_minor": 5
}