{
 "cells": [
  {
   "cell_type": "code",
   "execution_count": 1,
   "id": "reverse-picking",
   "metadata": {
    "execution": {
     "iopub.execute_input": "2021-09-08T04:00:07.005114Z",
     "iopub.status.busy": "2021-09-08T04:00:07.003149Z",
     "iopub.status.idle": "2021-09-08T04:00:07.813136Z",
     "shell.execute_reply": "2021-09-08T04:00:07.814373Z"
    },
    "papermill": {
     "duration": 0.861972,
     "end_time": "2021-09-08T04:00:07.815170",
     "exception": false,
     "start_time": "2021-09-08T04:00:06.953198",
     "status": "completed"
    },
    "tags": []
   },
   "outputs": [],
   "source": [
    "import pandas as pd\n",
    "import sqlite3"
   ]
  },
  {
   "cell_type": "code",
   "execution_count": 2,
   "id": "innovative-syndrome",
   "metadata": {
    "execution": {
     "iopub.execute_input": "2021-09-08T04:00:07.867869Z",
     "iopub.status.busy": "2021-09-08T04:00:07.865468Z",
     "iopub.status.idle": "2021-09-08T04:00:08.101723Z",
     "shell.execute_reply": "2021-09-08T04:00:08.103092Z"
    },
    "papermill": {
     "duration": 0.266141,
     "end_time": "2021-09-08T04:00:08.103523",
     "exception": false,
     "start_time": "2021-09-08T04:00:07.837382",
     "status": "completed"
    },
    "tags": []
   },
   "outputs": [],
   "source": [
    "timestamps = pd.read_sql(\"select distinct record_time from EBAY_TOP_BERLIN order by record_time desc limit 2\", sqlite3.connect(\"UsedObjects.db\"))"
   ]
  },
  {
   "cell_type": "code",
   "execution_count": 3,
   "id": "periodic-identification",
   "metadata": {
    "execution": {
     "iopub.execute_input": "2021-09-08T04:00:08.169955Z",
     "iopub.status.busy": "2021-09-08T04:00:08.167928Z",
     "iopub.status.idle": "2021-09-08T04:00:08.188140Z",
     "shell.execute_reply": "2021-09-08T04:00:08.189769Z"
    },
    "papermill": {
     "duration": 0.066066,
     "end_time": "2021-09-08T04:00:08.190263",
     "exception": false,
     "start_time": "2021-09-08T04:00:08.124197",
     "status": "completed"
    },
    "tags": []
   },
   "outputs": [
    {
     "data": {
      "text/html": [
       "<div>\n",
       "<style scoped>\n",
       "    .dataframe tbody tr th:only-of-type {\n",
       "        vertical-align: middle;\n",
       "    }\n",
       "\n",
       "    .dataframe tbody tr th {\n",
       "        vertical-align: top;\n",
       "    }\n",
       "\n",
       "    .dataframe thead th {\n",
       "        text-align: right;\n",
       "    }\n",
       "</style>\n",
       "<table border=\"1\" class=\"dataframe\">\n",
       "  <thead>\n",
       "    <tr style=\"text-align: right;\">\n",
       "      <th></th>\n",
       "      <th>RECORD_TIME</th>\n",
       "    </tr>\n",
       "  </thead>\n",
       "  <tbody>\n",
       "    <tr>\n",
       "      <th>0</th>\n",
       "      <td>2021-09-08 06:00</td>\n",
       "    </tr>\n",
       "    <tr>\n",
       "      <th>1</th>\n",
       "      <td>2021-09-08 05:30</td>\n",
       "    </tr>\n",
       "  </tbody>\n",
       "</table>\n",
       "</div>"
      ],
      "text/plain": [
       "        RECORD_TIME\n",
       "0  2021-09-08 06:00\n",
       "1  2021-09-08 05:30"
      ]
     },
     "execution_count": 3,
     "metadata": {},
     "output_type": "execute_result"
    }
   ],
   "source": [
    "timestamps"
   ]
  },
  {
   "cell_type": "code",
   "execution_count": 4,
   "id": "alternate-victory",
   "metadata": {
    "execution": {
     "iopub.execute_input": "2021-09-08T04:00:08.242801Z",
     "iopub.status.busy": "2021-09-08T04:00:08.240775Z",
     "iopub.status.idle": "2021-09-08T04:00:08.594373Z",
     "shell.execute_reply": "2021-09-08T04:00:08.596432Z"
    },
    "papermill": {
     "duration": 0.385058,
     "end_time": "2021-09-08T04:00:08.596997",
     "exception": false,
     "start_time": "2021-09-08T04:00:08.211939",
     "status": "completed"
    },
    "tags": []
   },
   "outputs": [],
   "source": [
    "df = pd.read_sql(\"select * from EBAY_TOP_BERLIN where record_time in (select distinct record_time from EBAY_TOP_BERLIN order by record_time desc limit 2)\", sqlite3.connect(\"UsedObjects.db\"))"
   ]
  },
  {
   "cell_type": "code",
   "execution_count": 5,
   "id": "popular-active",
   "metadata": {
    "execution": {
     "iopub.execute_input": "2021-09-08T04:00:08.675544Z",
     "iopub.status.busy": "2021-09-08T04:00:08.664231Z",
     "iopub.status.idle": "2021-09-08T04:00:08.691819Z",
     "shell.execute_reply": "2021-09-08T04:00:08.693051Z"
    },
    "papermill": {
     "duration": 0.071074,
     "end_time": "2021-09-08T04:00:08.693448",
     "exception": false,
     "start_time": "2021-09-08T04:00:08.622374",
     "status": "completed"
    },
    "tags": []
   },
   "outputs": [],
   "source": [
    "df_pivot = df.pivot_table(index=\"PRODUCT\", columns = \"RECORD_TIME\", values = \"LISTING_COUNT\")"
   ]
  },
  {
   "cell_type": "code",
   "execution_count": 6,
   "id": "union-huntington",
   "metadata": {
    "execution": {
     "iopub.execute_input": "2021-09-08T04:00:08.752757Z",
     "iopub.status.busy": "2021-09-08T04:00:08.750641Z",
     "iopub.status.idle": "2021-09-08T04:00:08.755815Z",
     "shell.execute_reply": "2021-09-08T04:00:08.757010Z"
    },
    "papermill": {
     "duration": 0.041075,
     "end_time": "2021-09-08T04:00:08.757443",
     "exception": false,
     "start_time": "2021-09-08T04:00:08.716368",
     "status": "completed"
    },
    "tags": []
   },
   "outputs": [],
   "source": [
    "df_pivot.columns = [\"stamp_1\", \"stamp_2\"]\n",
    "df_pivot_diff = df_pivot.diff(axis=1)"
   ]
  },
  {
   "cell_type": "code",
   "execution_count": 7,
   "id": "fifth-motion",
   "metadata": {
    "execution": {
     "iopub.execute_input": "2021-09-08T04:00:08.811227Z",
     "iopub.status.busy": "2021-09-08T04:00:08.808776Z",
     "iopub.status.idle": "2021-09-08T04:00:10.334449Z",
     "shell.execute_reply": "2021-09-08T04:00:10.335933Z"
    },
    "papermill": {
     "duration": 1.55876,
     "end_time": "2021-09-08T04:00:10.336383",
     "exception": false,
     "start_time": "2021-09-08T04:00:08.777623",
     "status": "completed"
    },
    "tags": []
   },
   "outputs": [
    {
     "data": {
      "text/plain": [
       "<AxesSubplot:ylabel='PRODUCT'>"
      ]
     },
     "execution_count": 7,
     "metadata": {},
     "output_type": "execute_result"
    },
    {
     "data": {
      "image/png": "[encoded data removed]",
      "text/plain": [
       "<Figure size 432x288 with 1 Axes>"
      ]
     },
     "metadata": {
      "needs_background": "light"
     },
     "output_type": "display_data"
    }
   ],
   "source": [
    "df_pivot_diff.sort_values(\"stamp_2\", ascending = False)[\"stamp_2\"].head(10).plot.barh()"
   ]
  },
  {
   "cell_type": "code",
   "execution_count": null,
   "id": "extra-executive",
   "metadata": {
    "papermill": {
     "duration": 0.021961,
     "end_time": "2021-09-08T04:00:10.382306",
     "exception": false,
     "start_time": "2021-09-08T04:00:10.360345",
     "status": "completed"
    },
    "tags": []
   },
   "outputs": [],
   "source": []
  }
 ],
 "metadata": {
  "kernelspec": {
   "display_name": "Python 3",
   "language": "python",
   "name": "python3"
  },
  "language_info": {
   "codemirror_mode": {
    "name": "ipython",
    "version": 3
   },
   "file_extension": ".py",
   "mimetype": "text/x-python",
   "name": "python",
   "nbconvert_exporter": "python",
   "pygments_lexer": "ipython3",
   "version": "3.9.5"
  },
  "papermill": {
   "default_parameters": {},
   "duration": 6.483388,
   "end_time": "2021-09-08T04:00:11.023307",
   "environment_variables": {},
   "exception": null,
   "input_path": "eBay_Overview.ipynb",
   "output_path": "eBay_Overview.ipynb",
   "parameters": {},
   "start_time": "2021-09-08T04:00:04.539919",
   "version": "2.3.3"
  }
 },
 "nbformat": 4,
 "nbformat_minor": 5
}