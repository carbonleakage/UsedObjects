{
 "cells": [
  {
   "cell_type": "code",
   "execution_count": 1,
   "id": "reverse-picking",
   "metadata": {
    "execution": {
     "iopub.execute_input": "2021-12-19T08:30:07.722206Z",
     "iopub.status.busy": "2021-12-19T08:30:07.719807Z",
     "iopub.status.idle": "2021-12-19T08:30:08.691827Z",
     "shell.execute_reply": "2021-12-19T08:30:08.693476Z"
    },
    "papermill": {
     "duration": 1.021039,
     "end_time": "2021-12-19T08:30:08.694261",
     "exception": false,
     "start_time": "2021-12-19T08:30:07.673222",
     "status": "completed"
    },
    "tags": []
   },
   "outputs": [],
   "source": [
    "import pandas as pd\n",
    "import sqlite3"
   ]
  },
  {
   "cell_type": "code",
   "execution_count": 2,
   "id": "innovative-syndrome",
   "metadata": {
    "execution": {
     "iopub.execute_input": "2021-12-19T08:30:08.749755Z",
     "iopub.status.busy": "2021-12-19T08:30:08.747565Z",
     "iopub.status.idle": "2021-12-19T08:30:09.848610Z",
     "shell.execute_reply": "2021-12-19T08:30:09.851123Z"
    },
    "papermill": {
     "duration": 1.136325,
     "end_time": "2021-12-19T08:30:09.851677",
     "exception": false,
     "start_time": "2021-12-19T08:30:08.715352",
     "status": "completed"
    },
    "tags": []
   },
   "outputs": [],
   "source": [
    "timestamps = pd.read_sql(\"select distinct record_time from EBAY_TOP_BERLIN order by record_time desc limit 2\", sqlite3.connect(\"UsedObjects.db\"))"
   ]
  },
  {
   "cell_type": "code",
   "execution_count": 3,
   "id": "periodic-identification",
   "metadata": {
    "execution": {
     "iopub.execute_input": "2021-12-19T08:30:09.928729Z",
     "iopub.status.busy": "2021-12-19T08:30:09.921752Z",
     "iopub.status.idle": "2021-12-19T08:30:09.949639Z",
     "shell.execute_reply": "2021-12-19T08:30:09.951287Z"
    },
    "papermill": {
     "duration": 0.079043,
     "end_time": "2021-12-19T08:30:09.951911",
     "exception": false,
     "start_time": "2021-12-19T08:30:09.872868",
     "status": "completed"
    },
    "tags": []
   },
   "outputs": [
    {
     "data": {
      "text/html": [
       "<div>\n",
       "<style scoped>\n",
       "    .dataframe tbody tr th:only-of-type {\n",
       "        vertical-align: middle;\n",
       "    }\n",
       "\n",
       "    .dataframe tbody tr th {\n",
       "        vertical-align: top;\n",
       "    }\n",
       "\n",
       "    .dataframe thead th {\n",
       "        text-align: right;\n",
       "    }\n",
       "</style>\n",
       "<table border=\"1\" class=\"dataframe\">\n",
       "  <thead>\n",
       "    <tr style=\"text-align: right;\">\n",
       "      <th></th>\n",
       "      <th>RECORD_TIME</th>\n",
       "    </tr>\n",
       "  </thead>\n",
       "  <tbody>\n",
       "    <tr>\n",
       "      <th>0</th>\n",
       "      <td>2021-12-19 09:30</td>\n",
       "    </tr>\n",
       "    <tr>\n",
       "      <th>1</th>\n",
       "      <td>2021-12-19 09:00</td>\n",
       "    </tr>\n",
       "  </tbody>\n",
       "</table>\n",
       "</div>"
      ],
      "text/plain": [
       "        RECORD_TIME\n",
       "0  2021-12-19 09:30\n",
       "1  2021-12-19 09:00"
      ]
     },
     "execution_count": 3,
     "metadata": {},
     "output_type": "execute_result"
    }
   ],
   "source": [
    "timestamps"
   ]
  },
  {
   "cell_type": "code",
   "execution_count": 4,
   "id": "alternate-victory",
   "metadata": {
    "execution": {
     "iopub.execute_input": "2021-12-19T08:30:10.007713Z",
     "iopub.status.busy": "2021-12-19T08:30:10.005380Z",
     "iopub.status.idle": "2021-12-19T08:30:11.601544Z",
     "shell.execute_reply": "2021-12-19T08:30:11.603040Z"
    },
    "papermill": {
     "duration": 1.630142,
     "end_time": "2021-12-19T08:30:11.603518",
     "exception": false,
     "start_time": "2021-12-19T08:30:09.973376",
     "status": "completed"
    },
    "tags": []
   },
   "outputs": [],
   "source": [
    "df = pd.read_sql(\"select * from EBAY_TOP_BERLIN where record_time in (select distinct record_time from EBAY_TOP_BERLIN order by record_time desc limit 2)\", sqlite3.connect(\"UsedObjects.db\"))"
   ]
  },
  {
   "cell_type": "code",
   "execution_count": 5,
   "id": "popular-active",
   "metadata": {
    "execution": {
     "iopub.execute_input": "2021-12-19T08:30:11.667353Z",
     "iopub.status.busy": "2021-12-19T08:30:11.665113Z",
     "iopub.status.idle": "2021-12-19T08:30:11.696879Z",
     "shell.execute_reply": "2021-12-19T08:30:11.698520Z"
    },
    "papermill": {
     "duration": 0.074823,
     "end_time": "2021-12-19T08:30:11.699004",
     "exception": false,
     "start_time": "2021-12-19T08:30:11.624181",
     "status": "completed"
    },
    "tags": []
   },
   "outputs": [],
   "source": [
    "df_pivot = df.pivot_table(index=\"PRODUCT\", columns = \"RECORD_TIME\", values = \"LISTING_COUNT\")"
   ]
  },
  {
   "cell_type": "code",
   "execution_count": 6,
   "id": "union-huntington",
   "metadata": {
    "execution": {
     "iopub.execute_input": "2021-12-19T08:30:11.759831Z",
     "iopub.status.busy": "2021-12-19T08:30:11.757540Z",
     "iopub.status.idle": "2021-12-19T08:30:11.764154Z",
     "shell.execute_reply": "2021-12-19T08:30:11.765889Z"
    },
    "papermill": {
     "duration": 0.046216,
     "end_time": "2021-12-19T08:30:11.766424",
     "exception": false,
     "start_time": "2021-12-19T08:30:11.720208",
     "status": "completed"
    },
    "tags": []
   },
   "outputs": [],
   "source": [
    "df_pivot.columns = [\"stamp_1\", \"stamp_2\"]\n",
    "df_pivot_diff = df_pivot.diff(axis=1)"
   ]
  },
  {
   "cell_type": "code",
   "execution_count": 7,
   "id": "fifth-motion",
   "metadata": {
    "execution": {
     "iopub.execute_input": "2021-12-19T08:30:11.824956Z",
     "iopub.status.busy": "2021-12-19T08:30:11.822103Z",
     "iopub.status.idle": "2021-12-19T08:30:13.783479Z",
     "shell.execute_reply": "2021-12-19T08:30:13.784999Z"
    },
    "papermill": {
     "duration": 1.997139,
     "end_time": "2021-12-19T08:30:13.785495",
     "exception": false,
     "start_time": "2021-12-19T08:30:11.788356",
     "status": "completed"
    },
    "tags": []
   },
   "outputs": [
    {
     "data": {
      "text/plain": [
       "<AxesSubplot:ylabel='PRODUCT'>"
      ]
     },
     "execution_count": 7,
     "metadata": {},
     "output_type": "execute_result"
    },
    {
     "data": {
      "image/png": "[encoded data removed]",
      "text/plain": [
       "<Figure size 432x288 with 1 Axes>"
      ]
     },
     "metadata": {
      "needs_background": "light"
     },
     "output_type": "display_data"
    }
   ],
   "source": [
    "df_pivot_diff.sort_values(\"stamp_2\", ascending = False)[\"stamp_2\"].head(10).plot.barh()"
   ]
  },
  {
   "cell_type": "code",
   "execution_count": null,
   "id": "extra-executive",
   "metadata": {
    "papermill": {
     "duration": 0.021952,
     "end_time": "2021-12-19T08:30:13.831870",
     "exception": false,
     "start_time": "2021-12-19T08:30:13.809918",
     "status": "completed"
    },
    "tags": []
   },
   "outputs": [],
   "source": []
  }
 ],
 "metadata": {
  "kernelspec": {
   "display_name": "Python 3",
   "language": "python",
   "name": "python3"
  },
  "language_info": {
   "codemirror_mode": {
    "name": "ipython",
    "version": 3
   },
   "file_extension": ".py",
   "mimetype": "text/x-python",
   "name": "python",
   "nbconvert_exporter": "python",
   "pygments_lexer": "ipython3",
   "version": "3.9.5"
  },
  "papermill": {
   "default_parameters": {},
   "duration": 9.557656,
   "end_time": "2021-12-19T08:30:14.472299",
   "environment_variables": {},
   "exception": null,
   "input_path": "eBay_Overview.ipynb",
   "output_path": "eBay_Overview.ipynb",
   "parameters": {},
   "start_time": "2021-12-19T08:30:04.914643",
   "version": "2.3.3"
  }
 },
 "nbformat": 4,
 "nbformat_minor": 5
}