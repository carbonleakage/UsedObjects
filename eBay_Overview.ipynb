{
 "cells": [
  {
   "cell_type": "code",
   "execution_count": 1,
   "id": "reverse-picking",
   "metadata": {
    "execution": {
     "iopub.execute_input": "2021-11-10T02:30:07.122409Z",
     "iopub.status.busy": "2021-11-10T02:30:07.120064Z",
     "iopub.status.idle": "2021-11-10T02:30:08.084095Z",
     "shell.execute_reply": "2021-11-10T02:30:08.081621Z"
    },
    "papermill": {
     "duration": 1.010479,
     "end_time": "2021-11-10T02:30:08.085025",
     "exception": false,
     "start_time": "2021-11-10T02:30:07.074546",
     "status": "completed"
    },
    "tags": []
   },
   "outputs": [],
   "source": [
    "import pandas as pd\n",
    "import sqlite3"
   ]
  },
  {
   "cell_type": "code",
   "execution_count": 2,
   "id": "innovative-syndrome",
   "metadata": {
    "execution": {
     "iopub.execute_input": "2021-11-10T02:30:08.147604Z",
     "iopub.status.busy": "2021-11-10T02:30:08.145309Z",
     "iopub.status.idle": "2021-11-10T02:30:08.908507Z",
     "shell.execute_reply": "2021-11-10T02:30:08.909977Z"
    },
    "papermill": {
     "duration": 0.796969,
     "end_time": "2021-11-10T02:30:08.910473",
     "exception": false,
     "start_time": "2021-11-10T02:30:08.113504",
     "status": "completed"
    },
    "tags": []
   },
   "outputs": [],
   "source": [
    "timestamps = pd.read_sql(\"select distinct record_time from EBAY_TOP_BERLIN order by record_time desc limit 2\", sqlite3.connect(\"UsedObjects.db\"))"
   ]
  },
  {
   "cell_type": "code",
   "execution_count": 3,
   "id": "periodic-identification",
   "metadata": {
    "execution": {
     "iopub.execute_input": "2021-11-10T02:30:08.979200Z",
     "iopub.status.busy": "2021-11-10T02:30:08.975673Z",
     "iopub.status.idle": "2021-11-10T02:30:08.999434Z",
     "shell.execute_reply": "2021-11-10T02:30:09.000969Z"
    },
    "papermill": {
     "duration": 0.070899,
     "end_time": "2021-11-10T02:30:09.001438",
     "exception": false,
     "start_time": "2021-11-10T02:30:08.930539",
     "status": "completed"
    },
    "tags": []
   },
   "outputs": [
    {
     "data": {
      "text/html": [
       "<div>\n",
       "<style scoped>\n",
       "    .dataframe tbody tr th:only-of-type {\n",
       "        vertical-align: middle;\n",
       "    }\n",
       "\n",
       "    .dataframe tbody tr th {\n",
       "        vertical-align: top;\n",
       "    }\n",
       "\n",
       "    .dataframe thead th {\n",
       "        text-align: right;\n",
       "    }\n",
       "</style>\n",
       "<table border=\"1\" class=\"dataframe\">\n",
       "  <thead>\n",
       "    <tr style=\"text-align: right;\">\n",
       "      <th></th>\n",
       "      <th>RECORD_TIME</th>\n",
       "    </tr>\n",
       "  </thead>\n",
       "  <tbody>\n",
       "    <tr>\n",
       "      <th>0</th>\n",
       "      <td>2021-11-10 03:30</td>\n",
       "    </tr>\n",
       "    <tr>\n",
       "      <th>1</th>\n",
       "      <td>2021-11-10 03:00</td>\n",
       "    </tr>\n",
       "  </tbody>\n",
       "</table>\n",
       "</div>"
      ],
      "text/plain": [
       "        RECORD_TIME\n",
       "0  2021-11-10 03:30\n",
       "1  2021-11-10 03:00"
      ]
     },
     "execution_count": 3,
     "metadata": {},
     "output_type": "execute_result"
    }
   ],
   "source": [
    "timestamps"
   ]
  },
  {
   "cell_type": "code",
   "execution_count": 4,
   "id": "alternate-victory",
   "metadata": {
    "execution": {
     "iopub.execute_input": "2021-11-10T02:30:09.056317Z",
     "iopub.status.busy": "2021-11-10T02:30:09.054157Z",
     "iopub.status.idle": "2021-11-10T02:30:10.174626Z",
     "shell.execute_reply": "2021-11-10T02:30:10.176926Z"
    },
    "papermill": {
     "duration": 1.155584,
     "end_time": "2021-11-10T02:30:10.177485",
     "exception": false,
     "start_time": "2021-11-10T02:30:09.021901",
     "status": "completed"
    },
    "tags": []
   },
   "outputs": [],
   "source": [
    "df = pd.read_sql(\"select * from EBAY_TOP_BERLIN where record_time in (select distinct record_time from EBAY_TOP_BERLIN order by record_time desc limit 2)\", sqlite3.connect(\"UsedObjects.db\"))"
   ]
  },
  {
   "cell_type": "code",
   "execution_count": 5,
   "id": "popular-active",
   "metadata": {
    "execution": {
     "iopub.execute_input": "2021-11-10T02:30:10.258693Z",
     "iopub.status.busy": "2021-11-10T02:30:10.244391Z",
     "iopub.status.idle": "2021-11-10T02:30:10.277598Z",
     "shell.execute_reply": "2021-11-10T02:30:10.279004Z"
    },
    "papermill": {
     "duration": 0.079433,
     "end_time": "2021-11-10T02:30:10.279520",
     "exception": false,
     "start_time": "2021-11-10T02:30:10.200087",
     "status": "completed"
    },
    "tags": []
   },
   "outputs": [],
   "source": [
    "df_pivot = df.pivot_table(index=\"PRODUCT\", columns = \"RECORD_TIME\", values = \"LISTING_COUNT\")"
   ]
  },
  {
   "cell_type": "code",
   "execution_count": 6,
   "id": "union-huntington",
   "metadata": {
    "execution": {
     "iopub.execute_input": "2021-11-10T02:30:10.343131Z",
     "iopub.status.busy": "2021-11-10T02:30:10.340575Z",
     "iopub.status.idle": "2021-11-10T02:30:10.346436Z",
     "shell.execute_reply": "2021-11-10T02:30:10.347915Z"
    },
    "papermill": {
     "duration": 0.047101,
     "end_time": "2021-11-10T02:30:10.348436",
     "exception": false,
     "start_time": "2021-11-10T02:30:10.301335",
     "status": "completed"
    },
    "tags": []
   },
   "outputs": [],
   "source": [
    "df_pivot.columns = [\"stamp_1\", \"stamp_2\"]\n",
    "df_pivot_diff = df_pivot.diff(axis=1)"
   ]
  },
  {
   "cell_type": "code",
   "execution_count": 7,
   "id": "fifth-motion",
   "metadata": {
    "execution": {
     "iopub.execute_input": "2021-11-10T02:30:10.404644Z",
     "iopub.status.busy": "2021-11-10T02:30:10.402195Z",
     "iopub.status.idle": "2021-11-10T02:30:12.159309Z",
     "shell.execute_reply": "2021-11-10T02:30:12.162076Z"
    },
    "papermill": {
     "duration": 1.794271,
     "end_time": "2021-11-10T02:30:12.162945",
     "exception": false,
     "start_time": "2021-11-10T02:30:10.368674",
     "status": "completed"
    },
    "tags": []
   },
   "outputs": [
    {
     "data": {
      "text/plain": [
       "<AxesSubplot:ylabel='PRODUCT'>"
      ]
     },
     "execution_count": 7,
     "metadata": {},
     "output_type": "execute_result"
    },
    {
     "data": {
      "image/png": "[encoded data removed]",
      "text/plain": [
       "<Figure size 432x288 with 1 Axes>"
      ]
     },
     "metadata": {
      "needs_background": "light"
     },
     "output_type": "display_data"
    }
   ],
   "source": [
    "df_pivot_diff.sort_values(\"stamp_2\", ascending = False)[\"stamp_2\"].head(10).plot.barh()"
   ]
  },
  {
   "cell_type": "code",
   "execution_count": null,
   "id": "extra-executive",
   "metadata": {
    "papermill": {
     "duration": 0.03281,
     "end_time": "2021-11-10T02:30:12.233961",
     "exception": false,
     "start_time": "2021-11-10T02:30:12.201151",
     "status": "completed"
    },
    "tags": []
   },
   "outputs": [],
   "source": []
  }
 ],
 "metadata": {
  "kernelspec": {
   "display_name": "Python 3",
   "language": "python",
   "name": "python3"
  },
  "language_info": {
   "codemirror_mode": {
    "name": "ipython",
    "version": 3
   },
   "file_extension": ".py",
   "mimetype": "text/x-python",
   "name": "python",
   "nbconvert_exporter": "python",
   "pygments_lexer": "ipython3",
   "version": "3.9.5"
  },
  "papermill": {
   "default_parameters": {},
   "duration": 8.754187,
   "end_time": "2021-11-10T02:30:13.102355",
   "environment_variables": {},
   "exception": null,
   "input_path": "eBay_Overview.ipynb",
   "output_path": "eBay_Overview.ipynb",
   "parameters": {},
   "start_time": "2021-11-10T02:30:04.348168",
   "version": "2.3.3"
  }
 },
 "nbformat": 4,
 "nbformat_minor": 5
}