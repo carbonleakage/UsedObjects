{
 "cells": [
  {
   "cell_type": "code",
   "execution_count": 1,
   "id": "reverse-picking",
   "metadata": {
    "execution": {
     "iopub.execute_input": "2021-12-01T21:30:08.193928Z",
     "iopub.status.busy": "2021-12-01T21:30:08.186921Z",
     "iopub.status.idle": "2021-12-01T21:30:09.208293Z",
     "shell.execute_reply": "2021-12-01T21:30:09.206091Z"
    },
    "papermill": {
     "duration": 1.085429,
     "end_time": "2021-12-01T21:30:09.208849",
     "exception": false,
     "start_time": "2021-12-01T21:30:08.123420",
     "status": "completed"
    },
    "tags": []
   },
   "outputs": [],
   "source": [
    "import pandas as pd\n",
    "import sqlite3"
   ]
  },
  {
   "cell_type": "code",
   "execution_count": 2,
   "id": "innovative-syndrome",
   "metadata": {
    "execution": {
     "iopub.execute_input": "2021-12-01T21:30:09.265482Z",
     "iopub.status.busy": "2021-12-01T21:30:09.263047Z",
     "iopub.status.idle": "2021-12-01T21:30:10.237367Z",
     "shell.execute_reply": "2021-12-01T21:30:10.239069Z"
    },
    "papermill": {
     "duration": 1.008736,
     "end_time": "2021-12-01T21:30:10.239577",
     "exception": false,
     "start_time": "2021-12-01T21:30:09.230841",
     "status": "completed"
    },
    "tags": []
   },
   "outputs": [],
   "source": [
    "timestamps = pd.read_sql(\"select distinct record_time from EBAY_TOP_BERLIN order by record_time desc limit 2\", sqlite3.connect(\"UsedObjects.db\"))"
   ]
  },
  {
   "cell_type": "code",
   "execution_count": 3,
   "id": "periodic-identification",
   "metadata": {
    "execution": {
     "iopub.execute_input": "2021-12-01T21:30:10.319539Z",
     "iopub.status.busy": "2021-12-01T21:30:10.313978Z",
     "iopub.status.idle": "2021-12-01T21:30:10.342108Z",
     "shell.execute_reply": "2021-12-01T21:30:10.343427Z"
    },
    "papermill": {
     "duration": 0.082102,
     "end_time": "2021-12-01T21:30:10.343895",
     "exception": false,
     "start_time": "2021-12-01T21:30:10.261793",
     "status": "completed"
    },
    "tags": []
   },
   "outputs": [
    {
     "data": {
      "text/html": [
       "<div>\n",
       "<style scoped>\n",
       "    .dataframe tbody tr th:only-of-type {\n",
       "        vertical-align: middle;\n",
       "    }\n",
       "\n",
       "    .dataframe tbody tr th {\n",
       "        vertical-align: top;\n",
       "    }\n",
       "\n",
       "    .dataframe thead th {\n",
       "        text-align: right;\n",
       "    }\n",
       "</style>\n",
       "<table border=\"1\" class=\"dataframe\">\n",
       "  <thead>\n",
       "    <tr style=\"text-align: right;\">\n",
       "      <th></th>\n",
       "      <th>RECORD_TIME</th>\n",
       "    </tr>\n",
       "  </thead>\n",
       "  <tbody>\n",
       "    <tr>\n",
       "      <th>0</th>\n",
       "      <td>2021-12-01 22:30</td>\n",
       "    </tr>\n",
       "    <tr>\n",
       "      <th>1</th>\n",
       "      <td>2021-12-01 22:00</td>\n",
       "    </tr>\n",
       "  </tbody>\n",
       "</table>\n",
       "</div>"
      ],
      "text/plain": [
       "        RECORD_TIME\n",
       "0  2021-12-01 22:30\n",
       "1  2021-12-01 22:00"
      ]
     },
     "execution_count": 3,
     "metadata": {},
     "output_type": "execute_result"
    }
   ],
   "source": [
    "timestamps"
   ]
  },
  {
   "cell_type": "code",
   "execution_count": 4,
   "id": "alternate-victory",
   "metadata": {
    "execution": {
     "iopub.execute_input": "2021-12-01T21:30:10.403418Z",
     "iopub.status.busy": "2021-12-01T21:30:10.399708Z",
     "iopub.status.idle": "2021-12-01T21:30:11.767040Z",
     "shell.execute_reply": "2021-12-01T21:30:11.768670Z"
    },
    "papermill": {
     "duration": 1.403237,
     "end_time": "2021-12-01T21:30:11.769231",
     "exception": false,
     "start_time": "2021-12-01T21:30:10.365994",
     "status": "completed"
    },
    "tags": []
   },
   "outputs": [],
   "source": [
    "df = pd.read_sql(\"select * from EBAY_TOP_BERLIN where record_time in (select distinct record_time from EBAY_TOP_BERLIN order by record_time desc limit 2)\", sqlite3.connect(\"UsedObjects.db\"))"
   ]
  },
  {
   "cell_type": "code",
   "execution_count": 5,
   "id": "popular-active",
   "metadata": {
    "execution": {
     "iopub.execute_input": "2021-12-01T21:30:11.847753Z",
     "iopub.status.busy": "2021-12-01T21:30:11.836909Z",
     "iopub.status.idle": "2021-12-01T21:30:11.868210Z",
     "shell.execute_reply": "2021-12-01T21:30:11.869723Z"
    },
    "papermill": {
     "duration": 0.07949,
     "end_time": "2021-12-01T21:30:11.870206",
     "exception": false,
     "start_time": "2021-12-01T21:30:11.790716",
     "status": "completed"
    },
    "tags": []
   },
   "outputs": [],
   "source": [
    "df_pivot = df.pivot_table(index=\"PRODUCT\", columns = \"RECORD_TIME\", values = \"LISTING_COUNT\")"
   ]
  },
  {
   "cell_type": "code",
   "execution_count": 6,
   "id": "union-huntington",
   "metadata": {
    "execution": {
     "iopub.execute_input": "2021-12-01T21:30:11.932191Z",
     "iopub.status.busy": "2021-12-01T21:30:11.930015Z",
     "iopub.status.idle": "2021-12-01T21:30:11.935975Z",
     "shell.execute_reply": "2021-12-01T21:30:11.937549Z"
    },
    "papermill": {
     "duration": 0.04559,
     "end_time": "2021-12-01T21:30:11.938020",
     "exception": false,
     "start_time": "2021-12-01T21:30:11.892430",
     "status": "completed"
    },
    "tags": []
   },
   "outputs": [],
   "source": [
    "df_pivot.columns = [\"stamp_1\", \"stamp_2\"]\n",
    "df_pivot_diff = df_pivot.diff(axis=1)"
   ]
  },
  {
   "cell_type": "code",
   "execution_count": 7,
   "id": "fifth-motion",
   "metadata": {
    "execution": {
     "iopub.execute_input": "2021-12-01T21:30:11.994778Z",
     "iopub.status.busy": "2021-12-01T21:30:11.992195Z",
     "iopub.status.idle": "2021-12-01T21:30:14.156035Z",
     "shell.execute_reply": "2021-12-01T21:30:14.162494Z"
    },
    "papermill": {
     "duration": 2.204964,
     "end_time": "2021-12-01T21:30:14.163309",
     "exception": false,
     "start_time": "2021-12-01T21:30:11.958345",
     "status": "completed"
    },
    "tags": []
   },
   "outputs": [
    {
     "data": {
      "text/plain": [
       "<AxesSubplot:ylabel='PRODUCT'>"
      ]
     },
     "execution_count": 7,
     "metadata": {},
     "output_type": "execute_result"
    },
    {
     "data": {
      "image/png": "[encoded data removed]",
      "text/plain": [
       "<Figure size 432x288 with 1 Axes>"
      ]
     },
     "metadata": {
      "needs_background": "light"
     },
     "output_type": "display_data"
    }
   ],
   "source": [
    "df_pivot_diff.sort_values(\"stamp_2\", ascending = False)[\"stamp_2\"].head(10).plot.barh()"
   ]
  },
  {
   "cell_type": "code",
   "execution_count": null,
   "id": "extra-executive",
   "metadata": {
    "papermill": {
     "duration": 0.049772,
     "end_time": "2021-12-01T21:30:14.277497",
     "exception": false,
     "start_time": "2021-12-01T21:30:14.227725",
     "status": "completed"
    },
    "tags": []
   },
   "outputs": [],
   "source": []
  }
 ],
 "metadata": {
  "kernelspec": {
   "display_name": "Python 3",
   "language": "python",
   "name": "python3"
  },
  "language_info": {
   "codemirror_mode": {
    "name": "ipython",
    "version": 3
   },
   "file_extension": ".py",
   "mimetype": "text/x-python",
   "name": "python",
   "nbconvert_exporter": "python",
   "pygments_lexer": "ipython3",
   "version": "3.9.5"
  },
  "papermill": {
   "default_parameters": {},
   "duration": 10.092068,
   "end_time": "2021-12-01T21:30:15.196429",
   "environment_variables": {},
   "exception": null,
   "input_path": "eBay_Overview.ipynb",
   "output_path": "eBay_Overview.ipynb",
   "parameters": {},
   "start_time": "2021-12-01T21:30:05.104361",
   "version": "2.3.3"
  }
 },
 "nbformat": 4,
 "nbformat_minor": 5
}