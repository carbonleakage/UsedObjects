{
 "cells": [
  {
   "cell_type": "code",
   "execution_count": 1,
   "id": "reverse-picking",
   "metadata": {
    "execution": {
     "iopub.execute_input": "2021-12-12T07:30:08.354148Z",
     "iopub.status.busy": "2021-12-12T07:30:08.351854Z",
     "iopub.status.idle": "2021-12-12T07:30:09.317198Z",
     "shell.execute_reply": "2021-12-12T07:30:09.315215Z"
    },
    "papermill": {
     "duration": 1.013224,
     "end_time": "2021-12-12T07:30:09.317718",
     "exception": false,
     "start_time": "2021-12-12T07:30:08.304494",
     "status": "completed"
    },
    "tags": []
   },
   "outputs": [],
   "source": [
    "import pandas as pd\n",
    "import sqlite3"
   ]
  },
  {
   "cell_type": "code",
   "execution_count": 2,
   "id": "innovative-syndrome",
   "metadata": {
    "execution": {
     "iopub.execute_input": "2021-12-12T07:30:09.382214Z",
     "iopub.status.busy": "2021-12-12T07:30:09.379921Z",
     "iopub.status.idle": "2021-12-12T07:30:10.419409Z",
     "shell.execute_reply": "2021-12-12T07:30:10.421828Z"
    },
    "papermill": {
     "duration": 1.07524,
     "end_time": "2021-12-12T07:30:10.422348",
     "exception": false,
     "start_time": "2021-12-12T07:30:09.347108",
     "status": "completed"
    },
    "tags": []
   },
   "outputs": [],
   "source": [
    "timestamps = pd.read_sql(\"select distinct record_time from EBAY_TOP_BERLIN order by record_time desc limit 2\", sqlite3.connect(\"UsedObjects.db\"))"
   ]
  },
  {
   "cell_type": "code",
   "execution_count": 3,
   "id": "periodic-identification",
   "metadata": {
    "execution": {
     "iopub.execute_input": "2021-12-12T07:30:10.499048Z",
     "iopub.status.busy": "2021-12-12T07:30:10.492663Z",
     "iopub.status.idle": "2021-12-12T07:30:10.515456Z",
     "shell.execute_reply": "2021-12-12T07:30:10.517177Z"
    },
    "papermill": {
     "duration": 0.073393,
     "end_time": "2021-12-12T07:30:10.517675",
     "exception": false,
     "start_time": "2021-12-12T07:30:10.444282",
     "status": "completed"
    },
    "tags": []
   },
   "outputs": [
    {
     "data": {
      "text/html": [
       "<div>\n",
       "<style scoped>\n",
       "    .dataframe tbody tr th:only-of-type {\n",
       "        vertical-align: middle;\n",
       "    }\n",
       "\n",
       "    .dataframe tbody tr th {\n",
       "        vertical-align: top;\n",
       "    }\n",
       "\n",
       "    .dataframe thead th {\n",
       "        text-align: right;\n",
       "    }\n",
       "</style>\n",
       "<table border=\"1\" class=\"dataframe\">\n",
       "  <thead>\n",
       "    <tr style=\"text-align: right;\">\n",
       "      <th></th>\n",
       "      <th>RECORD_TIME</th>\n",
       "    </tr>\n",
       "  </thead>\n",
       "  <tbody>\n",
       "    <tr>\n",
       "      <th>0</th>\n",
       "      <td>2021-12-12 08:30</td>\n",
       "    </tr>\n",
       "    <tr>\n",
       "      <th>1</th>\n",
       "      <td>2021-12-12 08:00</td>\n",
       "    </tr>\n",
       "  </tbody>\n",
       "</table>\n",
       "</div>"
      ],
      "text/plain": [
       "        RECORD_TIME\n",
       "0  2021-12-12 08:30\n",
       "1  2021-12-12 08:00"
      ]
     },
     "execution_count": 3,
     "metadata": {},
     "output_type": "execute_result"
    }
   ],
   "source": [
    "timestamps"
   ]
  },
  {
   "cell_type": "code",
   "execution_count": 4,
   "id": "alternate-victory",
   "metadata": {
    "execution": {
     "iopub.execute_input": "2021-12-12T07:30:10.572193Z",
     "iopub.status.busy": "2021-12-12T07:30:10.570366Z",
     "iopub.status.idle": "2021-12-12T07:30:12.097765Z",
     "shell.execute_reply": "2021-12-12T07:30:12.099876Z"
    },
    "papermill": {
     "duration": 1.561668,
     "end_time": "2021-12-12T07:30:12.100347",
     "exception": false,
     "start_time": "2021-12-12T07:30:10.538679",
     "status": "completed"
    },
    "tags": []
   },
   "outputs": [],
   "source": [
    "df = pd.read_sql(\"select * from EBAY_TOP_BERLIN where record_time in (select distinct record_time from EBAY_TOP_BERLIN order by record_time desc limit 2)\", sqlite3.connect(\"UsedObjects.db\"))"
   ]
  },
  {
   "cell_type": "code",
   "execution_count": 5,
   "id": "popular-active",
   "metadata": {
    "execution": {
     "iopub.execute_input": "2021-12-12T07:30:12.180253Z",
     "iopub.status.busy": "2021-12-12T07:30:12.165271Z",
     "iopub.status.idle": "2021-12-12T07:30:12.200496Z",
     "shell.execute_reply": "2021-12-12T07:30:12.198808Z"
    },
    "papermill": {
     "duration": 0.08024,
     "end_time": "2021-12-12T07:30:12.200969",
     "exception": false,
     "start_time": "2021-12-12T07:30:12.120729",
     "status": "completed"
    },
    "tags": []
   },
   "outputs": [],
   "source": [
    "df_pivot = df.pivot_table(index=\"PRODUCT\", columns = \"RECORD_TIME\", values = \"LISTING_COUNT\")"
   ]
  },
  {
   "cell_type": "code",
   "execution_count": 6,
   "id": "union-huntington",
   "metadata": {
    "execution": {
     "iopub.execute_input": "2021-12-12T07:30:12.269424Z",
     "iopub.status.busy": "2021-12-12T07:30:12.266557Z",
     "iopub.status.idle": "2021-12-12T07:30:12.272440Z",
     "shell.execute_reply": "2021-12-12T07:30:12.274371Z"
    },
    "papermill": {
     "duration": 0.051144,
     "end_time": "2021-12-12T07:30:12.274893",
     "exception": false,
     "start_time": "2021-12-12T07:30:12.223749",
     "status": "completed"
    },
    "tags": []
   },
   "outputs": [],
   "source": [
    "df_pivot.columns = [\"stamp_1\", \"stamp_2\"]\n",
    "df_pivot_diff = df_pivot.diff(axis=1)"
   ]
  },
  {
   "cell_type": "code",
   "execution_count": 7,
   "id": "fifth-motion",
   "metadata": {
    "execution": {
     "iopub.execute_input": "2021-12-12T07:30:12.331726Z",
     "iopub.status.busy": "2021-12-12T07:30:12.329301Z",
     "iopub.status.idle": "2021-12-12T07:30:14.364202Z",
     "shell.execute_reply": "2021-12-12T07:30:14.366172Z"
    },
    "papermill": {
     "duration": 2.071596,
     "end_time": "2021-12-12T07:30:14.366772",
     "exception": false,
     "start_time": "2021-12-12T07:30:12.295176",
     "status": "completed"
    },
    "tags": []
   },
   "outputs": [
    {
     "data": {
      "text/plain": [
       "<AxesSubplot:ylabel='PRODUCT'>"
      ]
     },
     "execution_count": 7,
     "metadata": {},
     "output_type": "execute_result"
    },
    {
     "data": {
      "image/png": "[encoded data removed]",
      "text/plain": [
       "<Figure size 432x288 with 1 Axes>"
      ]
     },
     "metadata": {
      "needs_background": "light"
     },
     "output_type": "display_data"
    }
   ],
   "source": [
    "df_pivot_diff.sort_values(\"stamp_2\", ascending = False)[\"stamp_2\"].head(10).plot.barh()"
   ]
  },
  {
   "cell_type": "code",
   "execution_count": null,
   "id": "extra-executive",
   "metadata": {
    "papermill": {
     "duration": 0.0278,
     "end_time": "2021-12-12T07:30:14.431697",
     "exception": false,
     "start_time": "2021-12-12T07:30:14.403897",
     "status": "completed"
    },
    "tags": []
   },
   "outputs": [],
   "source": []
  }
 ],
 "metadata": {
  "kernelspec": {
   "display_name": "Python 3",
   "language": "python",
   "name": "python3"
  },
  "language_info": {
   "codemirror_mode": {
    "name": "ipython",
    "version": 3
   },
   "file_extension": ".py",
   "mimetype": "text/x-python",
   "name": "python",
   "nbconvert_exporter": "python",
   "pygments_lexer": "ipython3",
   "version": "3.9.5"
  },
  "papermill": {
   "default_parameters": {},
   "duration": 9.502755,
   "end_time": "2021-12-12T07:30:15.077541",
   "environment_variables": {},
   "exception": null,
   "input_path": "eBay_Overview.ipynb",
   "output_path": "eBay_Overview.ipynb",
   "parameters": {},
   "start_time": "2021-12-12T07:30:05.574786",
   "version": "2.3.3"
  }
 },
 "nbformat": 4,
 "nbformat_minor": 5
}