{
 "cells": [
  {
   "cell_type": "code",
   "execution_count": 1,
   "id": "reverse-picking",
   "metadata": {
    "execution": {
     "iopub.execute_input": "2021-09-14T02:30:07.158124Z",
     "iopub.status.busy": "2021-09-14T02:30:07.156154Z",
     "iopub.status.idle": "2021-09-14T02:30:07.961461Z",
     "shell.execute_reply": "2021-09-14T02:30:07.959885Z"
    },
    "papermill": {
     "duration": 0.854335,
     "end_time": "2021-09-14T02:30:07.961854",
     "exception": false,
     "start_time": "2021-09-14T02:30:07.107519",
     "status": "completed"
    },
    "tags": []
   },
   "outputs": [],
   "source": [
    "import pandas as pd\n",
    "import sqlite3"
   ]
  },
  {
   "cell_type": "code",
   "execution_count": 2,
   "id": "innovative-syndrome",
   "metadata": {
    "execution": {
     "iopub.execute_input": "2021-09-14T02:30:08.012137Z",
     "iopub.status.busy": "2021-09-14T02:30:08.010190Z",
     "iopub.status.idle": "2021-09-14T02:30:08.294464Z",
     "shell.execute_reply": "2021-09-14T02:30:08.295715Z"
    },
    "papermill": {
     "duration": 0.313632,
     "end_time": "2021-09-14T02:30:08.296123",
     "exception": false,
     "start_time": "2021-09-14T02:30:07.982491",
     "status": "completed"
    },
    "tags": []
   },
   "outputs": [],
   "source": [
    "timestamps = pd.read_sql(\"select distinct record_time from EBAY_TOP_BERLIN order by record_time desc limit 2\", sqlite3.connect(\"UsedObjects.db\"))"
   ]
  },
  {
   "cell_type": "code",
   "execution_count": 3,
   "id": "periodic-identification",
   "metadata": {
    "execution": {
     "iopub.execute_input": "2021-09-14T02:30:08.362201Z",
     "iopub.status.busy": "2021-09-14T02:30:08.360202Z",
     "iopub.status.idle": "2021-09-14T02:30:08.379577Z",
     "shell.execute_reply": "2021-09-14T02:30:08.380814Z"
    },
    "papermill": {
     "duration": 0.063646,
     "end_time": "2021-09-14T02:30:08.381212",
     "exception": false,
     "start_time": "2021-09-14T02:30:08.317566",
     "status": "completed"
    },
    "tags": []
   },
   "outputs": [
    {
     "data": {
      "text/html": [
       "<div>\n",
       "<style scoped>\n",
       "    .dataframe tbody tr th:only-of-type {\n",
       "        vertical-align: middle;\n",
       "    }\n",
       "\n",
       "    .dataframe tbody tr th {\n",
       "        vertical-align: top;\n",
       "    }\n",
       "\n",
       "    .dataframe thead th {\n",
       "        text-align: right;\n",
       "    }\n",
       "</style>\n",
       "<table border=\"1\" class=\"dataframe\">\n",
       "  <thead>\n",
       "    <tr style=\"text-align: right;\">\n",
       "      <th></th>\n",
       "      <th>RECORD_TIME</th>\n",
       "    </tr>\n",
       "  </thead>\n",
       "  <tbody>\n",
       "    <tr>\n",
       "      <th>0</th>\n",
       "      <td>2021-09-14 04:30</td>\n",
       "    </tr>\n",
       "    <tr>\n",
       "      <th>1</th>\n",
       "      <td>2021-09-14 04:00</td>\n",
       "    </tr>\n",
       "  </tbody>\n",
       "</table>\n",
       "</div>"
      ],
      "text/plain": [
       "        RECORD_TIME\n",
       "0  2021-09-14 04:30\n",
       "1  2021-09-14 04:00"
      ]
     },
     "execution_count": 3,
     "metadata": {},
     "output_type": "execute_result"
    }
   ],
   "source": [
    "timestamps"
   ]
  },
  {
   "cell_type": "code",
   "execution_count": 4,
   "id": "alternate-victory",
   "metadata": {
    "execution": {
     "iopub.execute_input": "2021-09-14T02:30:08.432348Z",
     "iopub.status.busy": "2021-09-14T02:30:08.430391Z",
     "iopub.status.idle": "2021-09-14T02:30:08.848982Z",
     "shell.execute_reply": "2021-09-14T02:30:08.850194Z"
    },
    "papermill": {
     "duration": 0.448413,
     "end_time": "2021-09-14T02:30:08.850590",
     "exception": false,
     "start_time": "2021-09-14T02:30:08.402177",
     "status": "completed"
    },
    "tags": []
   },
   "outputs": [],
   "source": [
    "df = pd.read_sql(\"select * from EBAY_TOP_BERLIN where record_time in (select distinct record_time from EBAY_TOP_BERLIN order by record_time desc limit 2)\", sqlite3.connect(\"UsedObjects.db\"))"
   ]
  },
  {
   "cell_type": "code",
   "execution_count": 5,
   "id": "popular-active",
   "metadata": {
    "execution": {
     "iopub.execute_input": "2021-09-14T02:30:08.920594Z",
     "iopub.status.busy": "2021-09-14T02:30:08.910226Z",
     "iopub.status.idle": "2021-09-14T02:30:08.936997Z",
     "shell.execute_reply": "2021-09-14T02:30:08.938200Z"
    },
    "papermill": {
     "duration": 0.067498,
     "end_time": "2021-09-14T02:30:08.938597",
     "exception": false,
     "start_time": "2021-09-14T02:30:08.871099",
     "status": "completed"
    },
    "tags": []
   },
   "outputs": [],
   "source": [
    "df_pivot = df.pivot_table(index=\"PRODUCT\", columns = \"RECORD_TIME\", values = \"LISTING_COUNT\")"
   ]
  },
  {
   "cell_type": "code",
   "execution_count": 6,
   "id": "union-huntington",
   "metadata": {
    "execution": {
     "iopub.execute_input": "2021-09-14T02:30:08.995515Z",
     "iopub.status.busy": "2021-09-14T02:30:08.993350Z",
     "iopub.status.idle": "2021-09-14T02:30:08.999314Z",
     "shell.execute_reply": "2021-09-14T02:30:09.000821Z"
    },
    "papermill": {
     "duration": 0.041252,
     "end_time": "2021-09-14T02:30:09.001268",
     "exception": false,
     "start_time": "2021-09-14T02:30:08.960016",
     "status": "completed"
    },
    "tags": []
   },
   "outputs": [],
   "source": [
    "df_pivot.columns = [\"stamp_1\", \"stamp_2\"]\n",
    "df_pivot_diff = df_pivot.diff(axis=1)"
   ]
  },
  {
   "cell_type": "code",
   "execution_count": 7,
   "id": "fifth-motion",
   "metadata": {
    "execution": {
     "iopub.execute_input": "2021-09-14T02:30:09.056865Z",
     "iopub.status.busy": "2021-09-14T02:30:09.054185Z",
     "iopub.status.idle": "2021-09-14T02:30:10.548744Z",
     "shell.execute_reply": "2021-09-14T02:30:10.550014Z"
    },
    "papermill": {
     "duration": 1.528376,
     "end_time": "2021-09-14T02:30:10.550435",
     "exception": false,
     "start_time": "2021-09-14T02:30:09.022059",
     "status": "completed"
    },
    "tags": []
   },
   "outputs": [
    {
     "data": {
      "text/plain": [
       "<AxesSubplot:ylabel='PRODUCT'>"
      ]
     },
     "execution_count": 7,
     "metadata": {},
     "output_type": "execute_result"
    },
    {
     "data": {
      "image/png": "[encoded data removed]",
      "text/plain": [
       "<Figure size 432x288 with 1 Axes>"
      ]
     },
     "metadata": {
      "needs_background": "light"
     },
     "output_type": "display_data"
    }
   ],
   "source": [
    "df_pivot_diff.sort_values(\"stamp_2\", ascending = False)[\"stamp_2\"].head(10).plot.barh()"
   ]
  },
  {
   "cell_type": "code",
   "execution_count": null,
   "id": "extra-executive",
   "metadata": {
    "papermill": {
     "duration": 0.022344,
     "end_time": "2021-09-14T02:30:10.596870",
     "exception": false,
     "start_time": "2021-09-14T02:30:10.574526",
     "status": "completed"
    },
    "tags": []
   },
   "outputs": [],
   "source": []
  }
 ],
 "metadata": {
  "kernelspec": {
   "display_name": "Python 3",
   "language": "python",
   "name": "python3"
  },
  "language_info": {
   "codemirror_mode": {
    "name": "ipython",
    "version": 3
   },
   "file_extension": ".py",
   "mimetype": "text/x-python",
   "name": "python",
   "nbconvert_exporter": "python",
   "pygments_lexer": "ipython3",
   "version": "3.9.5"
  },
  "papermill": {
   "default_parameters": {},
   "duration": 6.54288,
   "end_time": "2021-09-14T02:30:11.239141",
   "environment_variables": {},
   "exception": null,
   "input_path": "eBay_Overview.ipynb",
   "output_path": "eBay_Overview.ipynb",
   "parameters": {},
   "start_time": "2021-09-14T02:30:04.696261",
   "version": "2.3.3"
  }
 },
 "nbformat": 4,
 "nbformat_minor": 5
}