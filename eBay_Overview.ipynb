{
 "cells": [
  {
   "cell_type": "code",
   "execution_count": 1,
   "id": "reverse-picking",
   "metadata": {
    "execution": {
     "iopub.execute_input": "2021-09-09T20:00:06.691107Z",
     "iopub.status.busy": "2021-09-09T20:00:06.689132Z",
     "iopub.status.idle": "2021-09-09T20:00:07.497899Z",
     "shell.execute_reply": "2021-09-09T20:00:07.499372Z"
    },
    "papermill": {
     "duration": 0.862181,
     "end_time": "2021-09-09T20:00:07.500025",
     "exception": false,
     "start_time": "2021-09-09T20:00:06.637844",
     "status": "completed"
    },
    "tags": []
   },
   "outputs": [],
   "source": [
    "import pandas as pd\n",
    "import sqlite3"
   ]
  },
  {
   "cell_type": "code",
   "execution_count": 2,
   "id": "innovative-syndrome",
   "metadata": {
    "execution": {
     "iopub.execute_input": "2021-09-09T20:00:07.552463Z",
     "iopub.status.busy": "2021-09-09T20:00:07.550073Z",
     "iopub.status.idle": "2021-09-09T20:00:07.801109Z",
     "shell.execute_reply": "2021-09-09T20:00:07.802360Z"
    },
    "papermill": {
     "duration": 0.281101,
     "end_time": "2021-09-09T20:00:07.802768",
     "exception": false,
     "start_time": "2021-09-09T20:00:07.521667",
     "status": "completed"
    },
    "tags": []
   },
   "outputs": [],
   "source": [
    "timestamps = pd.read_sql(\"select distinct record_time from EBAY_TOP_BERLIN order by record_time desc limit 2\", sqlite3.connect(\"UsedObjects.db\"))"
   ]
  },
  {
   "cell_type": "code",
   "execution_count": 3,
   "id": "periodic-identification",
   "metadata": {
    "execution": {
     "iopub.execute_input": "2021-09-09T20:00:07.873137Z",
     "iopub.status.busy": "2021-09-09T20:00:07.867733Z",
     "iopub.status.idle": "2021-09-09T20:00:07.887899Z",
     "shell.execute_reply": "2021-09-09T20:00:07.889234Z"
    },
    "papermill": {
     "duration": 0.067156,
     "end_time": "2021-09-09T20:00:07.889649",
     "exception": false,
     "start_time": "2021-09-09T20:00:07.822493",
     "status": "completed"
    },
    "tags": []
   },
   "outputs": [
    {
     "data": {
      "text/html": [
       "<div>\n",
       "<style scoped>\n",
       "    .dataframe tbody tr th:only-of-type {\n",
       "        vertical-align: middle;\n",
       "    }\n",
       "\n",
       "    .dataframe tbody tr th {\n",
       "        vertical-align: top;\n",
       "    }\n",
       "\n",
       "    .dataframe thead th {\n",
       "        text-align: right;\n",
       "    }\n",
       "</style>\n",
       "<table border=\"1\" class=\"dataframe\">\n",
       "  <thead>\n",
       "    <tr style=\"text-align: right;\">\n",
       "      <th></th>\n",
       "      <th>RECORD_TIME</th>\n",
       "    </tr>\n",
       "  </thead>\n",
       "  <tbody>\n",
       "    <tr>\n",
       "      <th>0</th>\n",
       "      <td>2021-09-09 22:00</td>\n",
       "    </tr>\n",
       "    <tr>\n",
       "      <th>1</th>\n",
       "      <td>2021-09-09 21:30</td>\n",
       "    </tr>\n",
       "  </tbody>\n",
       "</table>\n",
       "</div>"
      ],
      "text/plain": [
       "        RECORD_TIME\n",
       "0  2021-09-09 22:00\n",
       "1  2021-09-09 21:30"
      ]
     },
     "execution_count": 3,
     "metadata": {},
     "output_type": "execute_result"
    }
   ],
   "source": [
    "timestamps"
   ]
  },
  {
   "cell_type": "code",
   "execution_count": 4,
   "id": "alternate-victory",
   "metadata": {
    "execution": {
     "iopub.execute_input": "2021-09-09T20:00:07.942071Z",
     "iopub.status.busy": "2021-09-09T20:00:07.939826Z",
     "iopub.status.idle": "2021-09-09T20:00:08.303475Z",
     "shell.execute_reply": "2021-09-09T20:00:08.304694Z"
    },
    "papermill": {
     "duration": 0.394103,
     "end_time": "2021-09-09T20:00:08.305086",
     "exception": false,
     "start_time": "2021-09-09T20:00:07.910983",
     "status": "completed"
    },
    "tags": []
   },
   "outputs": [],
   "source": [
    "df = pd.read_sql(\"select * from EBAY_TOP_BERLIN where record_time in (select distinct record_time from EBAY_TOP_BERLIN order by record_time desc limit 2)\", sqlite3.connect(\"UsedObjects.db\"))"
   ]
  },
  {
   "cell_type": "code",
   "execution_count": 5,
   "id": "popular-active",
   "metadata": {
    "execution": {
     "iopub.execute_input": "2021-09-09T20:00:08.391275Z",
     "iopub.status.busy": "2021-09-09T20:00:08.379917Z",
     "iopub.status.idle": "2021-09-09T20:00:08.406739Z",
     "shell.execute_reply": "2021-09-09T20:00:08.408029Z"
    },
    "papermill": {
     "duration": 0.073165,
     "end_time": "2021-09-09T20:00:08.408429",
     "exception": false,
     "start_time": "2021-09-09T20:00:08.335264",
     "status": "completed"
    },
    "tags": []
   },
   "outputs": [],
   "source": [
    "df_pivot = df.pivot_table(index=\"PRODUCT\", columns = \"RECORD_TIME\", values = \"LISTING_COUNT\")"
   ]
  },
  {
   "cell_type": "code",
   "execution_count": 6,
   "id": "union-huntington",
   "metadata": {
    "execution": {
     "iopub.execute_input": "2021-09-09T20:00:08.466461Z",
     "iopub.status.busy": "2021-09-09T20:00:08.464220Z",
     "iopub.status.idle": "2021-09-09T20:00:08.470171Z",
     "shell.execute_reply": "2021-09-09T20:00:08.471426Z"
    },
    "papermill": {
     "duration": 0.041874,
     "end_time": "2021-09-09T20:00:08.471863",
     "exception": false,
     "start_time": "2021-09-09T20:00:08.429989",
     "status": "completed"
    },
    "tags": []
   },
   "outputs": [],
   "source": [
    "df_pivot.columns = [\"stamp_1\", \"stamp_2\"]\n",
    "df_pivot_diff = df_pivot.diff(axis=1)"
   ]
  },
  {
   "cell_type": "code",
   "execution_count": 7,
   "id": "fifth-motion",
   "metadata": {
    "execution": {
     "iopub.execute_input": "2021-09-09T20:00:08.525768Z",
     "iopub.status.busy": "2021-09-09T20:00:08.523505Z",
     "iopub.status.idle": "2021-09-09T20:00:10.041285Z",
     "shell.execute_reply": "2021-09-09T20:00:10.042552Z"
    },
    "papermill": {
     "duration": 1.551077,
     "end_time": "2021-09-09T20:00:10.043017",
     "exception": false,
     "start_time": "2021-09-09T20:00:08.491940",
     "status": "completed"
    },
    "tags": []
   },
   "outputs": [
    {
     "data": {
      "text/plain": [
       "<AxesSubplot:ylabel='PRODUCT'>"
      ]
     },
     "execution_count": 7,
     "metadata": {},
     "output_type": "execute_result"
    },
    {
     "data": {
      "image/png": "[encoded data removed]",
      "text/plain": [
       "<Figure size 432x288 with 1 Axes>"
      ]
     },
     "metadata": {
      "needs_background": "light"
     },
     "output_type": "display_data"
    }
   ],
   "source": [
    "df_pivot_diff.sort_values(\"stamp_2\", ascending = False)[\"stamp_2\"].head(10).plot.barh()"
   ]
  },
  {
   "cell_type": "code",
   "execution_count": null,
   "id": "extra-executive",
   "metadata": {
    "papermill": {
     "duration": 0.022295,
     "end_time": "2021-09-09T20:00:10.090062",
     "exception": false,
     "start_time": "2021-09-09T20:00:10.067767",
     "status": "completed"
    },
    "tags": []
   },
   "outputs": [],
   "source": []
  }
 ],
 "metadata": {
  "kernelspec": {
   "display_name": "Python 3",
   "language": "python",
   "name": "python3"
  },
  "language_info": {
   "codemirror_mode": {
    "name": "ipython",
    "version": 3
   },
   "file_extension": ".py",
   "mimetype": "text/x-python",
   "name": "python",
   "nbconvert_exporter": "python",
   "pygments_lexer": "ipython3",
   "version": "3.9.5"
  },
  "papermill": {
   "default_parameters": {},
   "duration": 6.503157,
   "end_time": "2021-09-09T20:00:10.732968",
   "environment_variables": {},
   "exception": null,
   "input_path": "eBay_Overview.ipynb",
   "output_path": "eBay_Overview.ipynb",
   "parameters": {},
   "start_time": "2021-09-09T20:00:04.229811",
   "version": "2.3.3"
  }
 },
 "nbformat": 4,
 "nbformat_minor": 5
}