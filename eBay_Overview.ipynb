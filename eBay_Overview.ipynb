{
 "cells": [
  {
   "cell_type": "code",
   "execution_count": 1,
   "id": "reverse-picking",
   "metadata": {
    "execution": {
     "iopub.execute_input": "2021-10-11T14:00:07.340502Z",
     "iopub.status.busy": "2021-10-11T14:00:07.338574Z",
     "iopub.status.idle": "2021-10-11T14:00:08.142788Z",
     "shell.execute_reply": "2021-10-11T14:00:08.144032Z"
    },
    "papermill": {
     "duration": 0.853921,
     "end_time": "2021-10-11T14:00:08.144650",
     "exception": false,
     "start_time": "2021-10-11T14:00:07.290729",
     "status": "completed"
    },
    "tags": []
   },
   "outputs": [],
   "source": [
    "import pandas as pd\n",
    "import sqlite3"
   ]
  },
  {
   "cell_type": "code",
   "execution_count": 2,
   "id": "innovative-syndrome",
   "metadata": {
    "execution": {
     "iopub.execute_input": "2021-10-11T14:00:08.194327Z",
     "iopub.status.busy": "2021-10-11T14:00:08.192107Z",
     "iopub.status.idle": "2021-10-11T14:00:08.708392Z",
     "shell.execute_reply": "2021-10-11T14:00:08.709743Z"
    },
    "papermill": {
     "duration": 0.545443,
     "end_time": "2021-10-11T14:00:08.710175",
     "exception": false,
     "start_time": "2021-10-11T14:00:08.164732",
     "status": "completed"
    },
    "tags": []
   },
   "outputs": [],
   "source": [
    "timestamps = pd.read_sql(\"select distinct record_time from EBAY_TOP_BERLIN order by record_time desc limit 2\", sqlite3.connect(\"UsedObjects.db\"))"
   ]
  },
  {
   "cell_type": "code",
   "execution_count": 3,
   "id": "periodic-identification",
   "metadata": {
    "execution": {
     "iopub.execute_input": "2021-10-11T14:00:08.779446Z",
     "iopub.status.busy": "2021-10-11T14:00:08.774251Z",
     "iopub.status.idle": "2021-10-11T14:00:08.794141Z",
     "shell.execute_reply": "2021-10-11T14:00:08.795419Z"
    },
    "papermill": {
     "duration": 0.065133,
     "end_time": "2021-10-11T14:00:08.795831",
     "exception": false,
     "start_time": "2021-10-11T14:00:08.730698",
     "status": "completed"
    },
    "tags": []
   },
   "outputs": [
    {
     "data": {
      "text/html": [
       "<div>\n",
       "<style scoped>\n",
       "    .dataframe tbody tr th:only-of-type {\n",
       "        vertical-align: middle;\n",
       "    }\n",
       "\n",
       "    .dataframe tbody tr th {\n",
       "        vertical-align: top;\n",
       "    }\n",
       "\n",
       "    .dataframe thead th {\n",
       "        text-align: right;\n",
       "    }\n",
       "</style>\n",
       "<table border=\"1\" class=\"dataframe\">\n",
       "  <thead>\n",
       "    <tr style=\"text-align: right;\">\n",
       "      <th></th>\n",
       "      <th>RECORD_TIME</th>\n",
       "    </tr>\n",
       "  </thead>\n",
       "  <tbody>\n",
       "    <tr>\n",
       "      <th>0</th>\n",
       "      <td>2021-10-11 16:00</td>\n",
       "    </tr>\n",
       "    <tr>\n",
       "      <th>1</th>\n",
       "      <td>2021-10-11 15:30</td>\n",
       "    </tr>\n",
       "  </tbody>\n",
       "</table>\n",
       "</div>"
      ],
      "text/plain": [
       "        RECORD_TIME\n",
       "0  2021-10-11 16:00\n",
       "1  2021-10-11 15:30"
      ]
     },
     "execution_count": 3,
     "metadata": {},
     "output_type": "execute_result"
    }
   ],
   "source": [
    "timestamps"
   ]
  },
  {
   "cell_type": "code",
   "execution_count": 4,
   "id": "alternate-victory",
   "metadata": {
    "execution": {
     "iopub.execute_input": "2021-10-11T14:00:08.856355Z",
     "iopub.status.busy": "2021-10-11T14:00:08.854380Z",
     "iopub.status.idle": "2021-10-11T14:00:09.599660Z",
     "shell.execute_reply": "2021-10-11T14:00:09.601200Z"
    },
    "papermill": {
     "duration": 0.780346,
     "end_time": "2021-10-11T14:00:09.601659",
     "exception": false,
     "start_time": "2021-10-11T14:00:08.821313",
     "status": "completed"
    },
    "tags": []
   },
   "outputs": [],
   "source": [
    "df = pd.read_sql(\"select * from EBAY_TOP_BERLIN where record_time in (select distinct record_time from EBAY_TOP_BERLIN order by record_time desc limit 2)\", sqlite3.connect(\"UsedObjects.db\"))"
   ]
  },
  {
   "cell_type": "code",
   "execution_count": 5,
   "id": "popular-active",
   "metadata": {
    "execution": {
     "iopub.execute_input": "2021-10-11T14:00:09.671540Z",
     "iopub.status.busy": "2021-10-11T14:00:09.658833Z",
     "iopub.status.idle": "2021-10-11T14:00:09.687133Z",
     "shell.execute_reply": "2021-10-11T14:00:09.688418Z"
    },
    "papermill": {
     "duration": 0.067919,
     "end_time": "2021-10-11T14:00:09.688892",
     "exception": false,
     "start_time": "2021-10-11T14:00:09.620973",
     "status": "completed"
    },
    "tags": []
   },
   "outputs": [],
   "source": [
    "df_pivot = df.pivot_table(index=\"PRODUCT\", columns = \"RECORD_TIME\", values = \"LISTING_COUNT\")"
   ]
  },
  {
   "cell_type": "code",
   "execution_count": 6,
   "id": "union-huntington",
   "metadata": {
    "execution": {
     "iopub.execute_input": "2021-10-11T14:00:09.744532Z",
     "iopub.status.busy": "2021-10-11T14:00:09.742423Z",
     "iopub.status.idle": "2021-10-11T14:00:09.747905Z",
     "shell.execute_reply": "2021-10-11T14:00:09.749586Z"
    },
    "papermill": {
     "duration": 0.040963,
     "end_time": "2021-10-11T14:00:09.750063",
     "exception": false,
     "start_time": "2021-10-11T14:00:09.709100",
     "status": "completed"
    },
    "tags": []
   },
   "outputs": [],
   "source": [
    "df_pivot.columns = [\"stamp_1\", \"stamp_2\"]\n",
    "df_pivot_diff = df_pivot.diff(axis=1)"
   ]
  },
  {
   "cell_type": "code",
   "execution_count": 7,
   "id": "fifth-motion",
   "metadata": {
    "execution": {
     "iopub.execute_input": "2021-10-11T14:00:09.805585Z",
     "iopub.status.busy": "2021-10-11T14:00:09.802899Z",
     "iopub.status.idle": "2021-10-11T14:00:11.273503Z",
     "shell.execute_reply": "2021-10-11T14:00:11.274796Z"
    },
    "papermill": {
     "duration": 1.503742,
     "end_time": "2021-10-11T14:00:11.275217",
     "exception": false,
     "start_time": "2021-10-11T14:00:09.771475",
     "status": "completed"
    },
    "tags": []
   },
   "outputs": [
    {
     "data": {
      "text/plain": [
       "<AxesSubplot:ylabel='PRODUCT'>"
      ]
     },
     "execution_count": 7,
     "metadata": {},
     "output_type": "execute_result"
    },
    {
     "data": {
      "image/png": "[encoded data removed]",
      "text/plain": [
       "<Figure size 432x288 with 1 Axes>"
      ]
     },
     "metadata": {
      "needs_background": "light"
     },
     "output_type": "display_data"
    }
   ],
   "source": [
    "df_pivot_diff.sort_values(\"stamp_2\", ascending = False)[\"stamp_2\"].head(10).plot.barh()"
   ]
  },
  {
   "cell_type": "code",
   "execution_count": null,
   "id": "extra-executive",
   "metadata": {
    "papermill": {
     "duration": 0.021856,
     "end_time": "2021-10-11T14:00:11.319963",
     "exception": false,
     "start_time": "2021-10-11T14:00:11.298107",
     "status": "completed"
    },
    "tags": []
   },
   "outputs": [],
   "source": []
  }
 ],
 "metadata": {
  "kernelspec": {
   "display_name": "Python 3",
   "language": "python",
   "name": "python3"
  },
  "language_info": {
   "codemirror_mode": {
    "name": "ipython",
    "version": 3
   },
   "file_extension": ".py",
   "mimetype": "text/x-python",
   "name": "python",
   "nbconvert_exporter": "python",
   "pygments_lexer": "ipython3",
   "version": "3.9.5"
  },
  "papermill": {
   "default_parameters": {},
   "duration": 7.821479,
   "end_time": "2021-10-11T14:00:12.710684",
   "environment_variables": {},
   "exception": null,
   "input_path": "eBay_Overview.ipynb",
   "output_path": "eBay_Overview.ipynb",
   "parameters": {},
   "start_time": "2021-10-11T14:00:04.889205",
   "version": "2.3.3"
  }
 },
 "nbformat": 4,
 "nbformat_minor": 5
}