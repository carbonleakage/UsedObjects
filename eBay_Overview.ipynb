{
 "cells": [
  {
   "cell_type": "code",
   "execution_count": 1,
   "id": "reverse-picking",
   "metadata": {
    "execution": {
     "iopub.execute_input": "2021-10-04T03:00:07.491487Z",
     "iopub.status.busy": "2021-10-04T03:00:07.489398Z",
     "iopub.status.idle": "2021-10-04T03:00:08.296432Z",
     "shell.execute_reply": "2021-10-04T03:00:08.297681Z"
    },
    "papermill": {
     "duration": 0.8583,
     "end_time": "2021-10-04T03:00:08.298291",
     "exception": false,
     "start_time": "2021-10-04T03:00:07.439991",
     "status": "completed"
    },
    "tags": []
   },
   "outputs": [],
   "source": [
    "import pandas as pd\n",
    "import sqlite3"
   ]
  },
  {
   "cell_type": "code",
   "execution_count": 2,
   "id": "innovative-syndrome",
   "metadata": {
    "execution": {
     "iopub.execute_input": "2021-10-04T03:00:08.348463Z",
     "iopub.status.busy": "2021-10-04T03:00:08.346507Z",
     "iopub.status.idle": "2021-10-04T03:00:08.799090Z",
     "shell.execute_reply": "2021-10-04T03:00:08.800395Z"
    },
    "papermill": {
     "duration": 0.481781,
     "end_time": "2021-10-04T03:00:08.800806",
     "exception": false,
     "start_time": "2021-10-04T03:00:08.319025",
     "status": "completed"
    },
    "tags": []
   },
   "outputs": [],
   "source": [
    "timestamps = pd.read_sql(\"select distinct record_time from EBAY_TOP_BERLIN order by record_time desc limit 2\", sqlite3.connect(\"UsedObjects.db\"))"
   ]
  },
  {
   "cell_type": "code",
   "execution_count": 3,
   "id": "periodic-identification",
   "metadata": {
    "execution": {
     "iopub.execute_input": "2021-10-04T03:00:08.866230Z",
     "iopub.status.busy": "2021-10-04T03:00:08.864219Z",
     "iopub.status.idle": "2021-10-04T03:00:08.884408Z",
     "shell.execute_reply": "2021-10-04T03:00:08.885596Z"
    },
    "papermill": {
     "duration": 0.06469,
     "end_time": "2021-10-04T03:00:08.886019",
     "exception": false,
     "start_time": "2021-10-04T03:00:08.821329",
     "status": "completed"
    },
    "tags": []
   },
   "outputs": [
    {
     "data": {
      "text/html": [
       "<div>\n",
       "<style scoped>\n",
       "    .dataframe tbody tr th:only-of-type {\n",
       "        vertical-align: middle;\n",
       "    }\n",
       "\n",
       "    .dataframe tbody tr th {\n",
       "        vertical-align: top;\n",
       "    }\n",
       "\n",
       "    .dataframe thead th {\n",
       "        text-align: right;\n",
       "    }\n",
       "</style>\n",
       "<table border=\"1\" class=\"dataframe\">\n",
       "  <thead>\n",
       "    <tr style=\"text-align: right;\">\n",
       "      <th></th>\n",
       "      <th>RECORD_TIME</th>\n",
       "    </tr>\n",
       "  </thead>\n",
       "  <tbody>\n",
       "    <tr>\n",
       "      <th>0</th>\n",
       "      <td>2021-10-04 05:00</td>\n",
       "    </tr>\n",
       "    <tr>\n",
       "      <th>1</th>\n",
       "      <td>2021-10-04 04:30</td>\n",
       "    </tr>\n",
       "  </tbody>\n",
       "</table>\n",
       "</div>"
      ],
      "text/plain": [
       "        RECORD_TIME\n",
       "0  2021-10-04 05:00\n",
       "1  2021-10-04 04:30"
      ]
     },
     "execution_count": 3,
     "metadata": {},
     "output_type": "execute_result"
    }
   ],
   "source": [
    "timestamps"
   ]
  },
  {
   "cell_type": "code",
   "execution_count": 4,
   "id": "alternate-victory",
   "metadata": {
    "execution": {
     "iopub.execute_input": "2021-10-04T03:00:08.948089Z",
     "iopub.status.busy": "2021-10-04T03:00:08.945988Z",
     "iopub.status.idle": "2021-10-04T03:00:09.591864Z",
     "shell.execute_reply": "2021-10-04T03:00:09.593306Z"
    },
    "papermill": {
     "duration": 0.684169,
     "end_time": "2021-10-04T03:00:09.593750",
     "exception": false,
     "start_time": "2021-10-04T03:00:08.909581",
     "status": "completed"
    },
    "tags": []
   },
   "outputs": [],
   "source": [
    "df = pd.read_sql(\"select * from EBAY_TOP_BERLIN where record_time in (select distinct record_time from EBAY_TOP_BERLIN order by record_time desc limit 2)\", sqlite3.connect(\"UsedObjects.db\"))"
   ]
  },
  {
   "cell_type": "code",
   "execution_count": 5,
   "id": "popular-active",
   "metadata": {
    "execution": {
     "iopub.execute_input": "2021-10-04T03:00:09.664126Z",
     "iopub.status.busy": "2021-10-04T03:00:09.652907Z",
     "iopub.status.idle": "2021-10-04T03:00:09.680634Z",
     "shell.execute_reply": "2021-10-04T03:00:09.682002Z"
    },
    "papermill": {
     "duration": 0.068035,
     "end_time": "2021-10-04T03:00:09.682430",
     "exception": false,
     "start_time": "2021-10-04T03:00:09.614395",
     "status": "completed"
    },
    "tags": []
   },
   "outputs": [],
   "source": [
    "df_pivot = df.pivot_table(index=\"PRODUCT\", columns = \"RECORD_TIME\", values = \"LISTING_COUNT\")"
   ]
  },
  {
   "cell_type": "code",
   "execution_count": 6,
   "id": "union-huntington",
   "metadata": {
    "execution": {
     "iopub.execute_input": "2021-10-04T03:00:09.741566Z",
     "iopub.status.busy": "2021-10-04T03:00:09.739137Z",
     "iopub.status.idle": "2021-10-04T03:00:09.745004Z",
     "shell.execute_reply": "2021-10-04T03:00:09.746275Z"
    },
    "papermill": {
     "duration": 0.041984,
     "end_time": "2021-10-04T03:00:09.746687",
     "exception": false,
     "start_time": "2021-10-04T03:00:09.704703",
     "status": "completed"
    },
    "tags": []
   },
   "outputs": [],
   "source": [
    "df_pivot.columns = [\"stamp_1\", \"stamp_2\"]\n",
    "df_pivot_diff = df_pivot.diff(axis=1)"
   ]
  },
  {
   "cell_type": "code",
   "execution_count": 7,
   "id": "fifth-motion",
   "metadata": {
    "execution": {
     "iopub.execute_input": "2021-10-04T03:00:09.800704Z",
     "iopub.status.busy": "2021-10-04T03:00:09.798177Z",
     "iopub.status.idle": "2021-10-04T03:00:11.320854Z",
     "shell.execute_reply": "2021-10-04T03:00:11.322246Z"
    },
    "papermill": {
     "duration": 1.555515,
     "end_time": "2021-10-04T03:00:11.322686",
     "exception": false,
     "start_time": "2021-10-04T03:00:09.767171",
     "status": "completed"
    },
    "tags": []
   },
   "outputs": [
    {
     "data": {
      "text/plain": [
       "<AxesSubplot:ylabel='PRODUCT'>"
      ]
     },
     "execution_count": 7,
     "metadata": {},
     "output_type": "execute_result"
    },
    {
     "data": {
      "image/png": "[encoded data removed]",
      "text/plain": [
       "<Figure size 432x288 with 1 Axes>"
      ]
     },
     "metadata": {
      "needs_background": "light"
     },
     "output_type": "display_data"
    }
   ],
   "source": [
    "df_pivot_diff.sort_values(\"stamp_2\", ascending = False)[\"stamp_2\"].head(10).plot.barh()"
   ]
  },
  {
   "cell_type": "code",
   "execution_count": null,
   "id": "extra-executive",
   "metadata": {
    "papermill": {
     "duration": 0.022132,
     "end_time": "2021-10-04T03:00:11.368584",
     "exception": false,
     "start_time": "2021-10-04T03:00:11.346452",
     "status": "completed"
    },
    "tags": []
   },
   "outputs": [],
   "source": []
  }
 ],
 "metadata": {
  "kernelspec": {
   "display_name": "Python 3",
   "language": "python",
   "name": "python3"
  },
  "language_info": {
   "codemirror_mode": {
    "name": "ipython",
    "version": 3
   },
   "file_extension": ".py",
   "mimetype": "text/x-python",
   "name": "python",
   "nbconvert_exporter": "python",
   "pygments_lexer": "ipython3",
   "version": "3.9.5"
  },
  "papermill": {
   "default_parameters": {},
   "duration": 7.818448,
   "end_time": "2021-10-04T03:00:12.855291",
   "environment_variables": {},
   "exception": null,
   "input_path": "eBay_Overview.ipynb",
   "output_path": "eBay_Overview.ipynb",
   "parameters": {},
   "start_time": "2021-10-04T03:00:05.036843",
   "version": "2.3.3"
  }
 },
 "nbformat": 4,
 "nbformat_minor": 5
}