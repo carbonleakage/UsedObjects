{
 "cells": [
  {
   "cell_type": "code",
   "execution_count": 1,
   "id": "reverse-picking",
   "metadata": {
    "execution": {
     "iopub.execute_input": "2021-09-17T06:30:06.795999Z",
     "iopub.status.busy": "2021-09-17T06:30:06.793979Z",
     "iopub.status.idle": "2021-09-17T06:30:07.594550Z",
     "shell.execute_reply": "2021-09-17T06:30:07.596046Z"
    },
    "papermill": {
     "duration": 0.850781,
     "end_time": "2021-09-17T06:30:07.596724",
     "exception": false,
     "start_time": "2021-09-17T06:30:06.745943",
     "status": "completed"
    },
    "tags": []
   },
   "outputs": [],
   "source": [
    "import pandas as pd\n",
    "import sqlite3"
   ]
  },
  {
   "cell_type": "code",
   "execution_count": 2,
   "id": "innovative-syndrome",
   "metadata": {
    "execution": {
     "iopub.execute_input": "2021-09-17T06:30:07.648276Z",
     "iopub.status.busy": "2021-09-17T06:30:07.646298Z",
     "iopub.status.idle": "2021-09-17T06:30:07.951951Z",
     "shell.execute_reply": "2021-09-17T06:30:07.953149Z"
    },
    "papermill": {
     "duration": 0.335266,
     "end_time": "2021-09-17T06:30:07.953549",
     "exception": false,
     "start_time": "2021-09-17T06:30:07.618283",
     "status": "completed"
    },
    "tags": []
   },
   "outputs": [],
   "source": [
    "timestamps = pd.read_sql(\"select distinct record_time from EBAY_TOP_BERLIN order by record_time desc limit 2\", sqlite3.connect(\"UsedObjects.db\"))"
   ]
  },
  {
   "cell_type": "code",
   "execution_count": 3,
   "id": "periodic-identification",
   "metadata": {
    "execution": {
     "iopub.execute_input": "2021-09-17T06:30:08.018541Z",
     "iopub.status.busy": "2021-09-17T06:30:08.016530Z",
     "iopub.status.idle": "2021-09-17T06:30:08.036372Z",
     "shell.execute_reply": "2021-09-17T06:30:08.037574Z"
    },
    "papermill": {
     "duration": 0.063319,
     "end_time": "2021-09-17T06:30:08.038010",
     "exception": false,
     "start_time": "2021-09-17T06:30:07.974691",
     "status": "completed"
    },
    "tags": []
   },
   "outputs": [
    {
     "data": {
      "text/html": [
       "<div>\n",
       "<style scoped>\n",
       "    .dataframe tbody tr th:only-of-type {\n",
       "        vertical-align: middle;\n",
       "    }\n",
       "\n",
       "    .dataframe tbody tr th {\n",
       "        vertical-align: top;\n",
       "    }\n",
       "\n",
       "    .dataframe thead th {\n",
       "        text-align: right;\n",
       "    }\n",
       "</style>\n",
       "<table border=\"1\" class=\"dataframe\">\n",
       "  <thead>\n",
       "    <tr style=\"text-align: right;\">\n",
       "      <th></th>\n",
       "      <th>RECORD_TIME</th>\n",
       "    </tr>\n",
       "  </thead>\n",
       "  <tbody>\n",
       "    <tr>\n",
       "      <th>0</th>\n",
       "      <td>2021-09-17 08:30</td>\n",
       "    </tr>\n",
       "    <tr>\n",
       "      <th>1</th>\n",
       "      <td>2021-09-17 08:00</td>\n",
       "    </tr>\n",
       "  </tbody>\n",
       "</table>\n",
       "</div>"
      ],
      "text/plain": [
       "        RECORD_TIME\n",
       "0  2021-09-17 08:30\n",
       "1  2021-09-17 08:00"
      ]
     },
     "execution_count": 3,
     "metadata": {},
     "output_type": "execute_result"
    }
   ],
   "source": [
    "timestamps"
   ]
  },
  {
   "cell_type": "code",
   "execution_count": 4,
   "id": "alternate-victory",
   "metadata": {
    "execution": {
     "iopub.execute_input": "2021-09-17T06:30:08.090449Z",
     "iopub.status.busy": "2021-09-17T06:30:08.088632Z",
     "iopub.status.idle": "2021-09-17T06:30:08.550076Z",
     "shell.execute_reply": "2021-09-17T06:30:08.551457Z"
    },
    "papermill": {
     "duration": 0.491568,
     "end_time": "2021-09-17T06:30:08.551895",
     "exception": false,
     "start_time": "2021-09-17T06:30:08.060327",
     "status": "completed"
    },
    "tags": []
   },
   "outputs": [],
   "source": [
    "df = pd.read_sql(\"select * from EBAY_TOP_BERLIN where record_time in (select distinct record_time from EBAY_TOP_BERLIN order by record_time desc limit 2)\", sqlite3.connect(\"UsedObjects.db\"))"
   ]
  },
  {
   "cell_type": "code",
   "execution_count": 5,
   "id": "popular-active",
   "metadata": {
    "execution": {
     "iopub.execute_input": "2021-09-17T06:30:08.632069Z",
     "iopub.status.busy": "2021-09-17T06:30:08.620492Z",
     "iopub.status.idle": "2021-09-17T06:30:08.647836Z",
     "shell.execute_reply": "2021-09-17T06:30:08.649114Z"
    },
    "papermill": {
     "duration": 0.071615,
     "end_time": "2021-09-17T06:30:08.649512",
     "exception": false,
     "start_time": "2021-09-17T06:30:08.577897",
     "status": "completed"
    },
    "tags": []
   },
   "outputs": [],
   "source": [
    "df_pivot = df.pivot_table(index=\"PRODUCT\", columns = \"RECORD_TIME\", values = \"LISTING_COUNT\")"
   ]
  },
  {
   "cell_type": "code",
   "execution_count": 6,
   "id": "union-huntington",
   "metadata": {
    "execution": {
     "iopub.execute_input": "2021-09-17T06:30:08.706251Z",
     "iopub.status.busy": "2021-09-17T06:30:08.703971Z",
     "iopub.status.idle": "2021-09-17T06:30:08.709554Z",
     "shell.execute_reply": "2021-09-17T06:30:08.711108Z"
    },
    "papermill": {
     "duration": 0.041836,
     "end_time": "2021-09-17T06:30:08.711609",
     "exception": false,
     "start_time": "2021-09-17T06:30:08.669773",
     "status": "completed"
    },
    "tags": []
   },
   "outputs": [],
   "source": [
    "df_pivot.columns = [\"stamp_1\", \"stamp_2\"]\n",
    "df_pivot_diff = df_pivot.diff(axis=1)"
   ]
  },
  {
   "cell_type": "code",
   "execution_count": 7,
   "id": "fifth-motion",
   "metadata": {
    "execution": {
     "iopub.execute_input": "2021-09-17T06:30:08.765984Z",
     "iopub.status.busy": "2021-09-17T06:30:08.763823Z",
     "iopub.status.idle": "2021-09-17T06:30:10.219692Z",
     "shell.execute_reply": "2021-09-17T06:30:10.220970Z"
    },
    "papermill": {
     "duration": 1.488511,
     "end_time": "2021-09-17T06:30:10.221429",
     "exception": false,
     "start_time": "2021-09-17T06:30:08.732918",
     "status": "completed"
    },
    "tags": []
   },
   "outputs": [
    {
     "data": {
      "text/plain": [
       "<AxesSubplot:ylabel='PRODUCT'>"
      ]
     },
     "execution_count": 7,
     "metadata": {},
     "output_type": "execute_result"
    },
    {
     "data": {
      "image/png": "[encoded data removed]",
      "text/plain": [
       "<Figure size 432x288 with 1 Axes>"
      ]
     },
     "metadata": {
      "needs_background": "light"
     },
     "output_type": "display_data"
    }
   ],
   "source": [
    "df_pivot_diff.sort_values(\"stamp_2\", ascending = False)[\"stamp_2\"].head(10).plot.barh()"
   ]
  },
  {
   "cell_type": "code",
   "execution_count": null,
   "id": "extra-executive",
   "metadata": {
    "papermill": {
     "duration": 0.022661,
     "end_time": "2021-09-17T06:30:10.268776",
     "exception": false,
     "start_time": "2021-09-17T06:30:10.246115",
     "status": "completed"
    },
    "tags": []
   },
   "outputs": [],
   "source": []
  }
 ],
 "metadata": {
  "kernelspec": {
   "display_name": "Python 3",
   "language": "python",
   "name": "python3"
  },
  "language_info": {
   "codemirror_mode": {
    "name": "ipython",
    "version": 3
   },
   "file_extension": ".py",
   "mimetype": "text/x-python",
   "name": "python",
   "nbconvert_exporter": "python",
   "pygments_lexer": "ipython3",
   "version": "3.9.5"
  },
  "papermill": {
   "default_parameters": {},
   "duration": 6.553102,
   "end_time": "2021-09-17T06:30:10.912297",
   "environment_variables": {},
   "exception": null,
   "input_path": "eBay_Overview.ipynb",
   "output_path": "eBay_Overview.ipynb",
   "parameters": {},
   "start_time": "2021-09-17T06:30:04.359195",
   "version": "2.3.3"
  }
 },
 "nbformat": 4,
 "nbformat_minor": 5
}