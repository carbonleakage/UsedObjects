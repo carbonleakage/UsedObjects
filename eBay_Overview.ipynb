{
 "cells": [
  {
   "cell_type": "code",
   "execution_count": 1,
   "id": "reverse-picking",
   "metadata": {
    "execution": {
     "iopub.execute_input": "2021-11-02T17:00:07.361703Z",
     "iopub.status.busy": "2021-11-02T17:00:07.359354Z",
     "iopub.status.idle": "2021-11-02T17:00:08.301765Z",
     "shell.execute_reply": "2021-11-02T17:00:08.303406Z"
    },
    "papermill": {
     "duration": 0.99076,
     "end_time": "2021-11-02T17:00:08.304109",
     "exception": false,
     "start_time": "2021-11-02T17:00:07.313349",
     "status": "completed"
    },
    "tags": []
   },
   "outputs": [],
   "source": [
    "import pandas as pd\n",
    "import sqlite3"
   ]
  },
  {
   "cell_type": "code",
   "execution_count": 2,
   "id": "innovative-syndrome",
   "metadata": {
    "execution": {
     "iopub.execute_input": "2021-11-02T17:00:08.363920Z",
     "iopub.status.busy": "2021-11-02T17:00:08.361658Z",
     "iopub.status.idle": "2021-11-02T17:00:09.068924Z",
     "shell.execute_reply": "2021-11-02T17:00:09.070350Z"
    },
    "papermill": {
     "duration": 0.745131,
     "end_time": "2021-11-02T17:00:09.070844",
     "exception": false,
     "start_time": "2021-11-02T17:00:08.325713",
     "status": "completed"
    },
    "tags": []
   },
   "outputs": [],
   "source": [
    "timestamps = pd.read_sql(\"select distinct record_time from EBAY_TOP_BERLIN order by record_time desc limit 2\", sqlite3.connect(\"UsedObjects.db\"))"
   ]
  },
  {
   "cell_type": "code",
   "execution_count": 3,
   "id": "periodic-identification",
   "metadata": {
    "execution": {
     "iopub.execute_input": "2021-11-02T17:00:09.142779Z",
     "iopub.status.busy": "2021-11-02T17:00:09.140488Z",
     "iopub.status.idle": "2021-11-02T17:00:09.164320Z",
     "shell.execute_reply": "2021-11-02T17:00:09.162801Z"
    },
    "papermill": {
     "duration": 0.073449,
     "end_time": "2021-11-02T17:00:09.164807",
     "exception": false,
     "start_time": "2021-11-02T17:00:09.091358",
     "status": "completed"
    },
    "tags": []
   },
   "outputs": [
    {
     "data": {
      "text/html": [
       "<div>\n",
       "<style scoped>\n",
       "    .dataframe tbody tr th:only-of-type {\n",
       "        vertical-align: middle;\n",
       "    }\n",
       "\n",
       "    .dataframe tbody tr th {\n",
       "        vertical-align: top;\n",
       "    }\n",
       "\n",
       "    .dataframe thead th {\n",
       "        text-align: right;\n",
       "    }\n",
       "</style>\n",
       "<table border=\"1\" class=\"dataframe\">\n",
       "  <thead>\n",
       "    <tr style=\"text-align: right;\">\n",
       "      <th></th>\n",
       "      <th>RECORD_TIME</th>\n",
       "    </tr>\n",
       "  </thead>\n",
       "  <tbody>\n",
       "    <tr>\n",
       "      <th>0</th>\n",
       "      <td>2021-11-02 18:00</td>\n",
       "    </tr>\n",
       "    <tr>\n",
       "      <th>1</th>\n",
       "      <td>2021-11-02 17:30</td>\n",
       "    </tr>\n",
       "  </tbody>\n",
       "</table>\n",
       "</div>"
      ],
      "text/plain": [
       "        RECORD_TIME\n",
       "0  2021-11-02 18:00\n",
       "1  2021-11-02 17:30"
      ]
     },
     "execution_count": 3,
     "metadata": {},
     "output_type": "execute_result"
    }
   ],
   "source": [
    "timestamps"
   ]
  },
  {
   "cell_type": "code",
   "execution_count": 4,
   "id": "alternate-victory",
   "metadata": {
    "execution": {
     "iopub.execute_input": "2021-11-02T17:00:09.221067Z",
     "iopub.status.busy": "2021-11-02T17:00:09.218700Z",
     "iopub.status.idle": "2021-11-02T17:00:10.228255Z",
     "shell.execute_reply": "2021-11-02T17:00:10.226161Z"
    },
    "papermill": {
     "duration": 1.042201,
     "end_time": "2021-11-02T17:00:10.228664",
     "exception": false,
     "start_time": "2021-11-02T17:00:09.186463",
     "status": "completed"
    },
    "tags": []
   },
   "outputs": [],
   "source": [
    "df = pd.read_sql(\"select * from EBAY_TOP_BERLIN where record_time in (select distinct record_time from EBAY_TOP_BERLIN order by record_time desc limit 2)\", sqlite3.connect(\"UsedObjects.db\"))"
   ]
  },
  {
   "cell_type": "code",
   "execution_count": 5,
   "id": "popular-active",
   "metadata": {
    "execution": {
     "iopub.execute_input": "2021-11-02T17:00:10.318792Z",
     "iopub.status.busy": "2021-11-02T17:00:10.306427Z",
     "iopub.status.idle": "2021-11-02T17:00:10.337731Z",
     "shell.execute_reply": "2021-11-02T17:00:10.339129Z"
    },
    "papermill": {
     "duration": 0.076801,
     "end_time": "2021-11-02T17:00:10.339620",
     "exception": false,
     "start_time": "2021-11-02T17:00:10.262819",
     "status": "completed"
    },
    "tags": []
   },
   "outputs": [],
   "source": [
    "df_pivot = df.pivot_table(index=\"PRODUCT\", columns = \"RECORD_TIME\", values = \"LISTING_COUNT\")"
   ]
  },
  {
   "cell_type": "code",
   "execution_count": 6,
   "id": "union-huntington",
   "metadata": {
    "execution": {
     "iopub.execute_input": "2021-11-02T17:00:10.401005Z",
     "iopub.status.busy": "2021-11-02T17:00:10.398636Z",
     "iopub.status.idle": "2021-11-02T17:00:10.406349Z",
     "shell.execute_reply": "2021-11-02T17:00:10.404584Z"
    },
    "papermill": {
     "duration": 0.046259,
     "end_time": "2021-11-02T17:00:10.406797",
     "exception": false,
     "start_time": "2021-11-02T17:00:10.360538",
     "status": "completed"
    },
    "tags": []
   },
   "outputs": [],
   "source": [
    "df_pivot.columns = [\"stamp_1\", \"stamp_2\"]\n",
    "df_pivot_diff = df_pivot.diff(axis=1)"
   ]
  },
  {
   "cell_type": "code",
   "execution_count": 7,
   "id": "fifth-motion",
   "metadata": {
    "execution": {
     "iopub.execute_input": "2021-11-02T17:00:10.467179Z",
     "iopub.status.busy": "2021-11-02T17:00:10.464358Z",
     "iopub.status.idle": "2021-11-02T17:00:12.144617Z",
     "shell.execute_reply": "2021-11-02T17:00:12.146078Z"
    },
    "papermill": {
     "duration": 1.716619,
     "end_time": "2021-11-02T17:00:12.146567",
     "exception": false,
     "start_time": "2021-11-02T17:00:10.429948",
     "status": "completed"
    },
    "tags": []
   },
   "outputs": [
    {
     "data": {
      "text/plain": [
       "<AxesSubplot:ylabel='PRODUCT'>"
      ]
     },
     "execution_count": 7,
     "metadata": {},
     "output_type": "execute_result"
    },
    {
     "data": {
      "image/png": "[encoded data removed]",
      "text/plain": [
       "<Figure size 432x288 with 1 Axes>"
      ]
     },
     "metadata": {
      "needs_background": "light"
     },
     "output_type": "display_data"
    }
   ],
   "source": [
    "df_pivot_diff.sort_values(\"stamp_2\", ascending = False)[\"stamp_2\"].head(10).plot.barh()"
   ]
  },
  {
   "cell_type": "code",
   "execution_count": null,
   "id": "extra-executive",
   "metadata": {
    "papermill": {
     "duration": 0.023259,
     "end_time": "2021-11-02T17:00:12.193514",
     "exception": false,
     "start_time": "2021-11-02T17:00:12.170255",
     "status": "completed"
    },
    "tags": []
   },
   "outputs": [],
   "source": []
  }
 ],
 "metadata": {
  "kernelspec": {
   "display_name": "Python 3",
   "language": "python",
   "name": "python3"
  },
  "language_info": {
   "codemirror_mode": {
    "name": "ipython",
    "version": 3
   },
   "file_extension": ".py",
   "mimetype": "text/x-python",
   "name": "python",
   "nbconvert_exporter": "python",
   "pygments_lexer": "ipython3",
   "version": "3.9.5"
  },
  "papermill": {
   "default_parameters": {},
   "duration": 9.00347,
   "end_time": "2021-11-02T17:00:13.520452",
   "environment_variables": {},
   "exception": null,
   "input_path": "eBay_Overview.ipynb",
   "output_path": "eBay_Overview.ipynb",
   "parameters": {},
   "start_time": "2021-11-02T17:00:04.516982",
   "version": "2.3.3"
  }
 },
 "nbformat": 4,
 "nbformat_minor": 5
}