{
 "cells": [
  {
   "cell_type": "code",
   "execution_count": 1,
   "id": "reverse-picking",
   "metadata": {
    "execution": {
     "iopub.execute_input": "2021-09-30T08:00:07.582661Z",
     "iopub.status.busy": "2021-09-30T08:00:07.580684Z",
     "iopub.status.idle": "2021-09-30T08:00:08.389255Z",
     "shell.execute_reply": "2021-09-30T08:00:08.390497Z"
    },
    "papermill": {
     "duration": 0.858612,
     "end_time": "2021-09-30T08:00:08.391305",
     "exception": false,
     "start_time": "2021-09-30T08:00:07.532693",
     "status": "completed"
    },
    "tags": []
   },
   "outputs": [],
   "source": [
    "import pandas as pd\n",
    "import sqlite3"
   ]
  },
  {
   "cell_type": "code",
   "execution_count": 2,
   "id": "innovative-syndrome",
   "metadata": {
    "execution": {
     "iopub.execute_input": "2021-09-30T08:00:08.443710Z",
     "iopub.status.busy": "2021-09-30T08:00:08.441324Z",
     "iopub.status.idle": "2021-09-30T08:00:08.855869Z",
     "shell.execute_reply": "2021-09-30T08:00:08.856999Z"
    },
    "papermill": {
     "duration": 0.444089,
     "end_time": "2021-09-30T08:00:08.857403",
     "exception": false,
     "start_time": "2021-09-30T08:00:08.413314",
     "status": "completed"
    },
    "tags": []
   },
   "outputs": [],
   "source": [
    "timestamps = pd.read_sql(\"select distinct record_time from EBAY_TOP_BERLIN order by record_time desc limit 2\", sqlite3.connect(\"UsedObjects.db\"))"
   ]
  },
  {
   "cell_type": "code",
   "execution_count": 3,
   "id": "periodic-identification",
   "metadata": {
    "execution": {
     "iopub.execute_input": "2021-09-30T08:00:08.924929Z",
     "iopub.status.busy": "2021-09-30T08:00:08.922903Z",
     "iopub.status.idle": "2021-09-30T08:00:08.943112Z",
     "shell.execute_reply": "2021-09-30T08:00:08.945060Z"
    },
    "papermill": {
     "duration": 0.066205,
     "end_time": "2021-09-30T08:00:08.945630",
     "exception": false,
     "start_time": "2021-09-30T08:00:08.879425",
     "status": "completed"
    },
    "tags": []
   },
   "outputs": [
    {
     "data": {
      "text/html": [
       "<div>\n",
       "<style scoped>\n",
       "    .dataframe tbody tr th:only-of-type {\n",
       "        vertical-align: middle;\n",
       "    }\n",
       "\n",
       "    .dataframe tbody tr th {\n",
       "        vertical-align: top;\n",
       "    }\n",
       "\n",
       "    .dataframe thead th {\n",
       "        text-align: right;\n",
       "    }\n",
       "</style>\n",
       "<table border=\"1\" class=\"dataframe\">\n",
       "  <thead>\n",
       "    <tr style=\"text-align: right;\">\n",
       "      <th></th>\n",
       "      <th>RECORD_TIME</th>\n",
       "    </tr>\n",
       "  </thead>\n",
       "  <tbody>\n",
       "    <tr>\n",
       "      <th>0</th>\n",
       "      <td>2021-09-30 10:00</td>\n",
       "    </tr>\n",
       "    <tr>\n",
       "      <th>1</th>\n",
       "      <td>2021-09-30 09:30</td>\n",
       "    </tr>\n",
       "  </tbody>\n",
       "</table>\n",
       "</div>"
      ],
      "text/plain": [
       "        RECORD_TIME\n",
       "0  2021-09-30 10:00\n",
       "1  2021-09-30 09:30"
      ]
     },
     "execution_count": 3,
     "metadata": {},
     "output_type": "execute_result"
    }
   ],
   "source": [
    "timestamps"
   ]
  },
  {
   "cell_type": "code",
   "execution_count": 4,
   "id": "alternate-victory",
   "metadata": {
    "execution": {
     "iopub.execute_input": "2021-09-30T08:00:08.996873Z",
     "iopub.status.busy": "2021-09-30T08:00:08.995012Z",
     "iopub.status.idle": "2021-09-30T08:00:09.597437Z",
     "shell.execute_reply": "2021-09-30T08:00:09.598643Z"
    },
    "papermill": {
     "duration": 0.63221,
     "end_time": "2021-09-30T08:00:09.599249",
     "exception": false,
     "start_time": "2021-09-30T08:00:08.967039",
     "status": "completed"
    },
    "tags": []
   },
   "outputs": [],
   "source": [
    "df = pd.read_sql(\"select * from EBAY_TOP_BERLIN where record_time in (select distinct record_time from EBAY_TOP_BERLIN order by record_time desc limit 2)\", sqlite3.connect(\"UsedObjects.db\"))"
   ]
  },
  {
   "cell_type": "code",
   "execution_count": 5,
   "id": "popular-active",
   "metadata": {
    "execution": {
     "iopub.execute_input": "2021-09-30T08:00:09.678308Z",
     "iopub.status.busy": "2021-09-30T08:00:09.665589Z",
     "iopub.status.idle": "2021-09-30T08:00:09.694047Z",
     "shell.execute_reply": "2021-09-30T08:00:09.695407Z"
    },
    "papermill": {
     "duration": 0.070429,
     "end_time": "2021-09-30T08:00:09.695833",
     "exception": false,
     "start_time": "2021-09-30T08:00:09.625404",
     "status": "completed"
    },
    "tags": []
   },
   "outputs": [],
   "source": [
    "df_pivot = df.pivot_table(index=\"PRODUCT\", columns = \"RECORD_TIME\", values = \"LISTING_COUNT\")"
   ]
  },
  {
   "cell_type": "code",
   "execution_count": 6,
   "id": "union-huntington",
   "metadata": {
    "execution": {
     "iopub.execute_input": "2021-09-30T08:00:09.751057Z",
     "iopub.status.busy": "2021-09-30T08:00:09.748953Z",
     "iopub.status.idle": "2021-09-30T08:00:09.754283Z",
     "shell.execute_reply": "2021-09-30T08:00:09.755624Z"
    },
    "papermill": {
     "duration": 0.040472,
     "end_time": "2021-09-30T08:00:09.756047",
     "exception": false,
     "start_time": "2021-09-30T08:00:09.715575",
     "status": "completed"
    },
    "tags": []
   },
   "outputs": [],
   "source": [
    "df_pivot.columns = [\"stamp_1\", \"stamp_2\"]\n",
    "df_pivot_diff = df_pivot.diff(axis=1)"
   ]
  },
  {
   "cell_type": "code",
   "execution_count": 7,
   "id": "fifth-motion",
   "metadata": {
    "execution": {
     "iopub.execute_input": "2021-09-30T08:00:09.810371Z",
     "iopub.status.busy": "2021-09-30T08:00:09.807984Z",
     "iopub.status.idle": "2021-09-30T08:00:11.312410Z",
     "shell.execute_reply": "2021-09-30T08:00:11.313709Z"
    },
    "papermill": {
     "duration": 1.536995,
     "end_time": "2021-09-30T08:00:11.314126",
     "exception": false,
     "start_time": "2021-09-30T08:00:09.777131",
     "status": "completed"
    },
    "tags": []
   },
   "outputs": [
    {
     "data": {
      "text/plain": [
       "<AxesSubplot:ylabel='PRODUCT'>"
      ]
     },
     "execution_count": 7,
     "metadata": {},
     "output_type": "execute_result"
    },
    {
     "data": {
      "image/png": "[encoded data removed]",
      "text/plain": [
       "<Figure size 432x288 with 1 Axes>"
      ]
     },
     "metadata": {
      "needs_background": "light"
     },
     "output_type": "display_data"
    }
   ],
   "source": [
    "df_pivot_diff.sort_values(\"stamp_2\", ascending = False)[\"stamp_2\"].head(10).plot.barh()"
   ]
  },
  {
   "cell_type": "code",
   "execution_count": null,
   "id": "extra-executive",
   "metadata": {
    "papermill": {
     "duration": 0.021873,
     "end_time": "2021-09-30T08:00:11.360431",
     "exception": false,
     "start_time": "2021-09-30T08:00:11.338558",
     "status": "completed"
    },
    "tags": []
   },
   "outputs": [],
   "source": []
  }
 ],
 "metadata": {
  "kernelspec": {
   "display_name": "Python 3",
   "language": "python",
   "name": "python3"
  },
  "language_info": {
   "codemirror_mode": {
    "name": "ipython",
    "version": 3
   },
   "file_extension": ".py",
   "mimetype": "text/x-python",
   "name": "python",
   "nbconvert_exporter": "python",
   "pygments_lexer": "ipython3",
   "version": "3.9.5"
  },
  "papermill": {
   "default_parameters": {},
   "duration": 7.819489,
   "end_time": "2021-09-30T08:00:12.948601",
   "environment_variables": {},
   "exception": null,
   "input_path": "eBay_Overview.ipynb",
   "output_path": "eBay_Overview.ipynb",
   "parameters": {},
   "start_time": "2021-09-30T08:00:05.129112",
   "version": "2.3.3"
  }
 },
 "nbformat": 4,
 "nbformat_minor": 5
}