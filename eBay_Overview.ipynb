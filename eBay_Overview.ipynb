{
 "cells": [
  {
   "cell_type": "code",
   "execution_count": 1,
   "id": "reverse-picking",
   "metadata": {
    "execution": {
     "iopub.execute_input": "2021-09-04T12:30:07.273648Z",
     "iopub.status.busy": "2021-09-04T12:30:07.271726Z",
     "iopub.status.idle": "2021-09-04T12:30:08.073181Z",
     "shell.execute_reply": "2021-09-04T12:30:08.074410Z"
    },
    "papermill": {
     "duration": 0.852179,
     "end_time": "2021-09-04T12:30:08.075134",
     "exception": false,
     "start_time": "2021-09-04T12:30:07.222955",
     "status": "completed"
    },
    "tags": []
   },
   "outputs": [],
   "source": [
    "import pandas as pd\n",
    "import sqlite3"
   ]
  },
  {
   "cell_type": "code",
   "execution_count": 2,
   "id": "innovative-syndrome",
   "metadata": {
    "execution": {
     "iopub.execute_input": "2021-09-04T12:30:08.125811Z",
     "iopub.status.busy": "2021-09-04T12:30:08.123787Z",
     "iopub.status.idle": "2021-09-04T12:30:08.325354Z",
     "shell.execute_reply": "2021-09-04T12:30:08.326603Z"
    },
    "papermill": {
     "duration": 0.231672,
     "end_time": "2021-09-04T12:30:08.327071",
     "exception": false,
     "start_time": "2021-09-04T12:30:08.095399",
     "status": "completed"
    },
    "tags": []
   },
   "outputs": [],
   "source": [
    "timestamps = pd.read_sql(\"select distinct record_time from EBAY_TOP_BERLIN order by record_time desc limit 2\", sqlite3.connect(\"UsedObjects.db\"))"
   ]
  },
  {
   "cell_type": "code",
   "execution_count": 3,
   "id": "periodic-identification",
   "metadata": {
    "execution": {
     "iopub.execute_input": "2021-09-04T12:30:08.393762Z",
     "iopub.status.busy": "2021-09-04T12:30:08.391779Z",
     "iopub.status.idle": "2021-09-04T12:30:08.411618Z",
     "shell.execute_reply": "2021-09-04T12:30:08.412817Z"
    },
    "papermill": {
     "duration": 0.066613,
     "end_time": "2021-09-04T12:30:08.413243",
     "exception": false,
     "start_time": "2021-09-04T12:30:08.346630",
     "status": "completed"
    },
    "tags": []
   },
   "outputs": [
    {
     "data": {
      "text/html": [
       "<div>\n",
       "<style scoped>\n",
       "    .dataframe tbody tr th:only-of-type {\n",
       "        vertical-align: middle;\n",
       "    }\n",
       "\n",
       "    .dataframe tbody tr th {\n",
       "        vertical-align: top;\n",
       "    }\n",
       "\n",
       "    .dataframe thead th {\n",
       "        text-align: right;\n",
       "    }\n",
       "</style>\n",
       "<table border=\"1\" class=\"dataframe\">\n",
       "  <thead>\n",
       "    <tr style=\"text-align: right;\">\n",
       "      <th></th>\n",
       "      <th>RECORD_TIME</th>\n",
       "    </tr>\n",
       "  </thead>\n",
       "  <tbody>\n",
       "    <tr>\n",
       "      <th>0</th>\n",
       "      <td>2021-09-04 14:30</td>\n",
       "    </tr>\n",
       "    <tr>\n",
       "      <th>1</th>\n",
       "      <td>2021-09-04 14:00</td>\n",
       "    </tr>\n",
       "  </tbody>\n",
       "</table>\n",
       "</div>"
      ],
      "text/plain": [
       "        RECORD_TIME\n",
       "0  2021-09-04 14:30\n",
       "1  2021-09-04 14:00"
      ]
     },
     "execution_count": 3,
     "metadata": {},
     "output_type": "execute_result"
    }
   ],
   "source": [
    "timestamps"
   ]
  },
  {
   "cell_type": "code",
   "execution_count": 4,
   "id": "alternate-victory",
   "metadata": {
    "execution": {
     "iopub.execute_input": "2021-09-04T12:30:08.466839Z",
     "iopub.status.busy": "2021-09-04T12:30:08.464604Z",
     "iopub.status.idle": "2021-09-04T12:30:08.764811Z",
     "shell.execute_reply": "2021-09-04T12:30:08.765975Z"
    },
    "papermill": {
     "duration": 0.330454,
     "end_time": "2021-09-04T12:30:08.766400",
     "exception": false,
     "start_time": "2021-09-04T12:30:08.435946",
     "status": "completed"
    },
    "tags": []
   },
   "outputs": [],
   "source": [
    "df = pd.read_sql(\"select * from EBAY_TOP_BERLIN where record_time in (select distinct record_time from EBAY_TOP_BERLIN order by record_time desc limit 2)\", sqlite3.connect(\"UsedObjects.db\"))"
   ]
  },
  {
   "cell_type": "code",
   "execution_count": 5,
   "id": "popular-active",
   "metadata": {
    "execution": {
     "iopub.execute_input": "2021-09-04T12:30:08.840583Z",
     "iopub.status.busy": "2021-09-04T12:30:08.829908Z",
     "iopub.status.idle": "2021-09-04T12:30:08.856547Z",
     "shell.execute_reply": "2021-09-04T12:30:08.857817Z"
    },
    "papermill": {
     "duration": 0.068497,
     "end_time": "2021-09-04T12:30:08.858228",
     "exception": false,
     "start_time": "2021-09-04T12:30:08.789731",
     "status": "completed"
    },
    "tags": []
   },
   "outputs": [],
   "source": [
    "df_pivot = df.pivot_table(index=\"PRODUCT\", columns = \"RECORD_TIME\", values = \"LISTING_COUNT\")"
   ]
  },
  {
   "cell_type": "code",
   "execution_count": 6,
   "id": "union-huntington",
   "metadata": {
    "execution": {
     "iopub.execute_input": "2021-09-04T12:30:08.913206Z",
     "iopub.status.busy": "2021-09-04T12:30:08.911260Z",
     "iopub.status.idle": "2021-09-04T12:30:08.916307Z",
     "shell.execute_reply": "2021-09-04T12:30:08.917519Z"
    },
    "papermill": {
     "duration": 0.039529,
     "end_time": "2021-09-04T12:30:08.917909",
     "exception": false,
     "start_time": "2021-09-04T12:30:08.878380",
     "status": "completed"
    },
    "tags": []
   },
   "outputs": [],
   "source": [
    "df_pivot.columns = [\"stamp_1\", \"stamp_2\"]\n",
    "df_pivot_diff = df_pivot.diff(axis=1)"
   ]
  },
  {
   "cell_type": "code",
   "execution_count": 7,
   "id": "fifth-motion",
   "metadata": {
    "execution": {
     "iopub.execute_input": "2021-09-04T12:30:08.974287Z",
     "iopub.status.busy": "2021-09-04T12:30:08.971702Z",
     "iopub.status.idle": "2021-09-04T12:30:10.476078Z",
     "shell.execute_reply": "2021-09-04T12:30:10.477436Z"
    },
    "papermill": {
     "duration": 1.538066,
     "end_time": "2021-09-04T12:30:10.477875",
     "exception": false,
     "start_time": "2021-09-04T12:30:08.939809",
     "status": "completed"
    },
    "tags": []
   },
   "outputs": [
    {
     "data": {
      "text/plain": [
       "<AxesSubplot:ylabel='PRODUCT'>"
      ]
     },
     "execution_count": 7,
     "metadata": {},
     "output_type": "execute_result"
    },
    {
     "data": {
      "image/png": "[encoded data removed]",
      "text/plain": [
       "<Figure size 432x288 with 1 Axes>"
      ]
     },
     "metadata": {
      "needs_background": "light"
     },
     "output_type": "display_data"
    }
   ],
   "source": [
    "df_pivot_diff.sort_values(\"stamp_2\", ascending = False)[\"stamp_2\"].head(10).plot.barh()"
   ]
  },
  {
   "cell_type": "code",
   "execution_count": null,
   "id": "extra-executive",
   "metadata": {
    "papermill": {
     "duration": 0.022316,
     "end_time": "2021-09-04T12:30:10.524681",
     "exception": false,
     "start_time": "2021-09-04T12:30:10.502365",
     "status": "completed"
    },
    "tags": []
   },
   "outputs": [],
   "source": []
  }
 ],
 "metadata": {
  "kernelspec": {
   "display_name": "Python 3",
   "language": "python",
   "name": "python3"
  },
  "language_info": {
   "codemirror_mode": {
    "name": "ipython",
    "version": 3
   },
   "file_extension": ".py",
   "mimetype": "text/x-python",
   "name": "python",
   "nbconvert_exporter": "python",
   "pygments_lexer": "ipython3",
   "version": "3.9.5"
  },
  "papermill": {
   "default_parameters": {},
   "duration": 6.340452,
   "end_time": "2021-09-04T12:30:11.166051",
   "environment_variables": {},
   "exception": null,
   "input_path": "eBay_Overview.ipynb",
   "output_path": "eBay_Overview.ipynb",
   "parameters": {},
   "start_time": "2021-09-04T12:30:04.825599",
   "version": "2.3.3"
  }
 },
 "nbformat": 4,
 "nbformat_minor": 5
}