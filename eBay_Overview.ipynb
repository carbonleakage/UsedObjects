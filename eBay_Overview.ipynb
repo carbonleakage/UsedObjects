{
 "cells": [
  {
   "cell_type": "code",
   "execution_count": 1,
   "id": "reverse-picking",
   "metadata": {
    "execution": {
     "iopub.execute_input": "2021-09-24T00:00:07.432911Z",
     "iopub.status.busy": "2021-09-24T00:00:07.431034Z",
     "iopub.status.idle": "2021-09-24T00:00:08.237395Z",
     "shell.execute_reply": "2021-09-24T00:00:08.238608Z"
    },
    "papermill": {
     "duration": 0.860048,
     "end_time": "2021-09-24T00:00:08.239281",
     "exception": false,
     "start_time": "2021-09-24T00:00:07.379233",
     "status": "completed"
    },
    "tags": []
   },
   "outputs": [],
   "source": [
    "import pandas as pd\n",
    "import sqlite3"
   ]
  },
  {
   "cell_type": "code",
   "execution_count": 2,
   "id": "innovative-syndrome",
   "metadata": {
    "execution": {
     "iopub.execute_input": "2021-09-24T00:00:08.289872Z",
     "iopub.status.busy": "2021-09-24T00:00:08.288064Z",
     "iopub.status.idle": "2021-09-24T00:00:08.656231Z",
     "shell.execute_reply": "2021-09-24T00:00:08.657397Z"
    },
    "papermill": {
     "duration": 0.39765,
     "end_time": "2021-09-24T00:00:08.657776",
     "exception": false,
     "start_time": "2021-09-24T00:00:08.260126",
     "status": "completed"
    },
    "tags": []
   },
   "outputs": [],
   "source": [
    "timestamps = pd.read_sql(\"select distinct record_time from EBAY_TOP_BERLIN order by record_time desc limit 2\", sqlite3.connect(\"UsedObjects.db\"))"
   ]
  },
  {
   "cell_type": "code",
   "execution_count": 3,
   "id": "periodic-identification",
   "metadata": {
    "execution": {
     "iopub.execute_input": "2021-09-24T00:00:08.721547Z",
     "iopub.status.busy": "2021-09-24T00:00:08.719593Z",
     "iopub.status.idle": "2021-09-24T00:00:08.739680Z",
     "shell.execute_reply": "2021-09-24T00:00:08.740994Z"
    },
    "papermill": {
     "duration": 0.064023,
     "end_time": "2021-09-24T00:00:08.741402",
     "exception": false,
     "start_time": "2021-09-24T00:00:08.677379",
     "status": "completed"
    },
    "tags": []
   },
   "outputs": [
    {
     "data": {
      "text/html": [
       "<div>\n",
       "<style scoped>\n",
       "    .dataframe tbody tr th:only-of-type {\n",
       "        vertical-align: middle;\n",
       "    }\n",
       "\n",
       "    .dataframe tbody tr th {\n",
       "        vertical-align: top;\n",
       "    }\n",
       "\n",
       "    .dataframe thead th {\n",
       "        text-align: right;\n",
       "    }\n",
       "</style>\n",
       "<table border=\"1\" class=\"dataframe\">\n",
       "  <thead>\n",
       "    <tr style=\"text-align: right;\">\n",
       "      <th></th>\n",
       "      <th>RECORD_TIME</th>\n",
       "    </tr>\n",
       "  </thead>\n",
       "  <tbody>\n",
       "    <tr>\n",
       "      <th>0</th>\n",
       "      <td>2021-09-24 02:00</td>\n",
       "    </tr>\n",
       "    <tr>\n",
       "      <th>1</th>\n",
       "      <td>2021-09-24 01:30</td>\n",
       "    </tr>\n",
       "  </tbody>\n",
       "</table>\n",
       "</div>"
      ],
      "text/plain": [
       "        RECORD_TIME\n",
       "0  2021-09-24 02:00\n",
       "1  2021-09-24 01:30"
      ]
     },
     "execution_count": 3,
     "metadata": {},
     "output_type": "execute_result"
    }
   ],
   "source": [
    "timestamps"
   ]
  },
  {
   "cell_type": "code",
   "execution_count": 4,
   "id": "alternate-victory",
   "metadata": {
    "execution": {
     "iopub.execute_input": "2021-09-24T00:00:08.793794Z",
     "iopub.status.busy": "2021-09-24T00:00:08.791561Z",
     "iopub.status.idle": "2021-09-24T00:00:09.329238Z",
     "shell.execute_reply": "2021-09-24T00:00:09.330420Z"
    },
    "papermill": {
     "duration": 0.568193,
     "end_time": "2021-09-24T00:00:09.330968",
     "exception": false,
     "start_time": "2021-09-24T00:00:08.762775",
     "status": "completed"
    },
    "tags": []
   },
   "outputs": [],
   "source": [
    "df = pd.read_sql(\"select * from EBAY_TOP_BERLIN where record_time in (select distinct record_time from EBAY_TOP_BERLIN order by record_time desc limit 2)\", sqlite3.connect(\"UsedObjects.db\"))"
   ]
  },
  {
   "cell_type": "code",
   "execution_count": 5,
   "id": "popular-active",
   "metadata": {
    "execution": {
     "iopub.execute_input": "2021-09-24T00:00:09.416416Z",
     "iopub.status.busy": "2021-09-24T00:00:09.404820Z",
     "iopub.status.idle": "2021-09-24T00:00:09.432549Z",
     "shell.execute_reply": "2021-09-24T00:00:09.433884Z"
    },
    "papermill": {
     "duration": 0.071956,
     "end_time": "2021-09-24T00:00:09.434308",
     "exception": false,
     "start_time": "2021-09-24T00:00:09.362352",
     "status": "completed"
    },
    "tags": []
   },
   "outputs": [],
   "source": [
    "df_pivot = df.pivot_table(index=\"PRODUCT\", columns = \"RECORD_TIME\", values = \"LISTING_COUNT\")"
   ]
  },
  {
   "cell_type": "code",
   "execution_count": 6,
   "id": "union-huntington",
   "metadata": {
    "execution": {
     "iopub.execute_input": "2021-09-24T00:00:09.490819Z",
     "iopub.status.busy": "2021-09-24T00:00:09.488766Z",
     "iopub.status.idle": "2021-09-24T00:00:09.493936Z",
     "shell.execute_reply": "2021-09-24T00:00:09.495260Z"
    },
    "papermill": {
     "duration": 0.041041,
     "end_time": "2021-09-24T00:00:09.495673",
     "exception": false,
     "start_time": "2021-09-24T00:00:09.454632",
     "status": "completed"
    },
    "tags": []
   },
   "outputs": [],
   "source": [
    "df_pivot.columns = [\"stamp_1\", \"stamp_2\"]\n",
    "df_pivot_diff = df_pivot.diff(axis=1)"
   ]
  },
  {
   "cell_type": "code",
   "execution_count": 7,
   "id": "fifth-motion",
   "metadata": {
    "execution": {
     "iopub.execute_input": "2021-09-24T00:00:09.549742Z",
     "iopub.status.busy": "2021-09-24T00:00:09.547263Z",
     "iopub.status.idle": "2021-09-24T00:00:11.053330Z",
     "shell.execute_reply": "2021-09-24T00:00:11.054583Z"
    },
    "papermill": {
     "duration": 1.539029,
     "end_time": "2021-09-24T00:00:11.055205",
     "exception": false,
     "start_time": "2021-09-24T00:00:09.516176",
     "status": "completed"
    },
    "tags": []
   },
   "outputs": [
    {
     "data": {
      "text/plain": [
       "<AxesSubplot:ylabel='PRODUCT'>"
      ]
     },
     "execution_count": 7,
     "metadata": {},
     "output_type": "execute_result"
    },
    {
     "data": {
      "image/png": "[encoded data removed]",
      "text/plain": [
       "<Figure size 432x288 with 1 Axes>"
      ]
     },
     "metadata": {
      "needs_background": "light"
     },
     "output_type": "display_data"
    }
   ],
   "source": [
    "df_pivot_diff.sort_values(\"stamp_2\", ascending = False)[\"stamp_2\"].head(10).plot.barh()"
   ]
  },
  {
   "cell_type": "code",
   "execution_count": null,
   "id": "extra-executive",
   "metadata": {
    "papermill": {
     "duration": 0.022187,
     "end_time": "2021-09-24T00:00:11.102690",
     "exception": false,
     "start_time": "2021-09-24T00:00:11.080503",
     "status": "completed"
    },
    "tags": []
   },
   "outputs": [],
   "source": []
  }
 ],
 "metadata": {
  "kernelspec": {
   "display_name": "Python 3",
   "language": "python",
   "name": "python3"
  },
  "language_info": {
   "codemirror_mode": {
    "name": "ipython",
    "version": 3
   },
   "file_extension": ".py",
   "mimetype": "text/x-python",
   "name": "python",
   "nbconvert_exporter": "python",
   "pygments_lexer": "ipython3",
   "version": "3.9.5"
  },
  "papermill": {
   "default_parameters": {},
   "duration": 6.761617,
   "end_time": "2021-09-24T00:00:11.745931",
   "environment_variables": {},
   "exception": null,
   "input_path": "eBay_Overview.ipynb",
   "output_path": "eBay_Overview.ipynb",
   "parameters": {},
   "start_time": "2021-09-24T00:00:04.984314",
   "version": "2.3.3"
  }
 },
 "nbformat": 4,
 "nbformat_minor": 5
}