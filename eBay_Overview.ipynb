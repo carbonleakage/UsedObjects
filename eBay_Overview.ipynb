{
 "cells": [
  {
   "cell_type": "code",
   "execution_count": 1,
   "id": "reverse-picking",
   "metadata": {
    "execution": {
     "iopub.execute_input": "2021-09-17T22:30:06.929466Z",
     "iopub.status.busy": "2021-09-17T22:30:06.927568Z",
     "iopub.status.idle": "2021-09-17T22:30:07.731784Z",
     "shell.execute_reply": "2021-09-17T22:30:07.733040Z"
    },
    "papermill": {
     "duration": 0.854556,
     "end_time": "2021-09-17T22:30:07.733651",
     "exception": false,
     "start_time": "2021-09-17T22:30:06.879095",
     "status": "completed"
    },
    "tags": []
   },
   "outputs": [],
   "source": [
    "import pandas as pd\n",
    "import sqlite3"
   ]
  },
  {
   "cell_type": "code",
   "execution_count": 2,
   "id": "innovative-syndrome",
   "metadata": {
    "execution": {
     "iopub.execute_input": "2021-09-17T22:30:07.783879Z",
     "iopub.status.busy": "2021-09-17T22:30:07.781942Z",
     "iopub.status.idle": "2021-09-17T22:30:08.101804Z",
     "shell.execute_reply": "2021-09-17T22:30:08.103037Z"
    },
    "papermill": {
     "duration": 0.349274,
     "end_time": "2021-09-17T22:30:08.103444",
     "exception": false,
     "start_time": "2021-09-17T22:30:07.754170",
     "status": "completed"
    },
    "tags": []
   },
   "outputs": [],
   "source": [
    "timestamps = pd.read_sql(\"select distinct record_time from EBAY_TOP_BERLIN order by record_time desc limit 2\", sqlite3.connect(\"UsedObjects.db\"))"
   ]
  },
  {
   "cell_type": "code",
   "execution_count": 3,
   "id": "periodic-identification",
   "metadata": {
    "execution": {
     "iopub.execute_input": "2021-09-17T22:30:08.166117Z",
     "iopub.status.busy": "2021-09-17T22:30:08.164136Z",
     "iopub.status.idle": "2021-09-17T22:30:08.184123Z",
     "shell.execute_reply": "2021-09-17T22:30:08.185298Z"
    },
    "papermill": {
     "duration": 0.063118,
     "end_time": "2021-09-17T22:30:08.185725",
     "exception": false,
     "start_time": "2021-09-17T22:30:08.122607",
     "status": "completed"
    },
    "tags": []
   },
   "outputs": [
    {
     "data": {
      "text/html": [
       "<div>\n",
       "<style scoped>\n",
       "    .dataframe tbody tr th:only-of-type {\n",
       "        vertical-align: middle;\n",
       "    }\n",
       "\n",
       "    .dataframe tbody tr th {\n",
       "        vertical-align: top;\n",
       "    }\n",
       "\n",
       "    .dataframe thead th {\n",
       "        text-align: right;\n",
       "    }\n",
       "</style>\n",
       "<table border=\"1\" class=\"dataframe\">\n",
       "  <thead>\n",
       "    <tr style=\"text-align: right;\">\n",
       "      <th></th>\n",
       "      <th>RECORD_TIME</th>\n",
       "    </tr>\n",
       "  </thead>\n",
       "  <tbody>\n",
       "    <tr>\n",
       "      <th>0</th>\n",
       "      <td>2021-09-18 00:30</td>\n",
       "    </tr>\n",
       "    <tr>\n",
       "      <th>1</th>\n",
       "      <td>2021-09-18 00:00</td>\n",
       "    </tr>\n",
       "  </tbody>\n",
       "</table>\n",
       "</div>"
      ],
      "text/plain": [
       "        RECORD_TIME\n",
       "0  2021-09-18 00:30\n",
       "1  2021-09-18 00:00"
      ]
     },
     "execution_count": 3,
     "metadata": {},
     "output_type": "execute_result"
    }
   ],
   "source": [
    "timestamps"
   ]
  },
  {
   "cell_type": "code",
   "execution_count": 4,
   "id": "alternate-victory",
   "metadata": {
    "execution": {
     "iopub.execute_input": "2021-09-17T22:30:08.237358Z",
     "iopub.status.busy": "2021-09-17T22:30:08.235101Z",
     "iopub.status.idle": "2021-09-17T22:30:08.702029Z",
     "shell.execute_reply": "2021-09-17T22:30:08.703449Z"
    },
    "papermill": {
     "duration": 0.496933,
     "end_time": "2021-09-17T22:30:08.703864",
     "exception": false,
     "start_time": "2021-09-17T22:30:08.206931",
     "status": "completed"
    },
    "tags": []
   },
   "outputs": [],
   "source": [
    "df = pd.read_sql(\"select * from EBAY_TOP_BERLIN where record_time in (select distinct record_time from EBAY_TOP_BERLIN order by record_time desc limit 2)\", sqlite3.connect(\"UsedObjects.db\"))"
   ]
  },
  {
   "cell_type": "code",
   "execution_count": 5,
   "id": "popular-active",
   "metadata": {
    "execution": {
     "iopub.execute_input": "2021-09-17T22:30:08.805472Z",
     "iopub.status.busy": "2021-09-17T22:30:08.790244Z",
     "iopub.status.idle": "2021-09-17T22:30:08.821199Z",
     "shell.execute_reply": "2021-09-17T22:30:08.822381Z"
    },
    "papermill": {
     "duration": 0.077951,
     "end_time": "2021-09-17T22:30:08.822772",
     "exception": false,
     "start_time": "2021-09-17T22:30:08.744821",
     "status": "completed"
    },
    "tags": []
   },
   "outputs": [],
   "source": [
    "df_pivot = df.pivot_table(index=\"PRODUCT\", columns = \"RECORD_TIME\", values = \"LISTING_COUNT\")"
   ]
  },
  {
   "cell_type": "code",
   "execution_count": 6,
   "id": "union-huntington",
   "metadata": {
    "execution": {
     "iopub.execute_input": "2021-09-17T22:30:08.878357Z",
     "iopub.status.busy": "2021-09-17T22:30:08.876335Z",
     "iopub.status.idle": "2021-09-17T22:30:08.881584Z",
     "shell.execute_reply": "2021-09-17T22:30:08.882741Z"
    },
    "papermill": {
     "duration": 0.039756,
     "end_time": "2021-09-17T22:30:08.883220",
     "exception": false,
     "start_time": "2021-09-17T22:30:08.843464",
     "status": "completed"
    },
    "tags": []
   },
   "outputs": [],
   "source": [
    "df_pivot.columns = [\"stamp_1\", \"stamp_2\"]\n",
    "df_pivot_diff = df_pivot.diff(axis=1)"
   ]
  },
  {
   "cell_type": "code",
   "execution_count": 7,
   "id": "fifth-motion",
   "metadata": {
    "execution": {
     "iopub.execute_input": "2021-09-17T22:30:08.936735Z",
     "iopub.status.busy": "2021-09-17T22:30:08.934217Z",
     "iopub.status.idle": "2021-09-17T22:30:10.409211Z",
     "shell.execute_reply": "2021-09-17T22:30:10.410556Z"
    },
    "papermill": {
     "duration": 1.507512,
     "end_time": "2021-09-17T22:30:10.411071",
     "exception": false,
     "start_time": "2021-09-17T22:30:08.903559",
     "status": "completed"
    },
    "tags": []
   },
   "outputs": [
    {
     "data": {
      "text/plain": [
       "<AxesSubplot:ylabel='PRODUCT'>"
      ]
     },
     "execution_count": 7,
     "metadata": {},
     "output_type": "execute_result"
    },
    {
     "data": {
      "image/png": "[encoded data removed]",
      "text/plain": [
       "<Figure size 432x288 with 1 Axes>"
      ]
     },
     "metadata": {
      "needs_background": "light"
     },
     "output_type": "display_data"
    }
   ],
   "source": [
    "df_pivot_diff.sort_values(\"stamp_2\", ascending = False)[\"stamp_2\"].head(10).plot.barh()"
   ]
  },
  {
   "cell_type": "code",
   "execution_count": null,
   "id": "extra-executive",
   "metadata": {
    "papermill": {
     "duration": 0.021985,
     "end_time": "2021-09-17T22:30:10.456862",
     "exception": false,
     "start_time": "2021-09-17T22:30:10.434877",
     "status": "completed"
    },
    "tags": []
   },
   "outputs": [],
   "source": []
  }
 ],
 "metadata": {
  "kernelspec": {
   "display_name": "Python 3",
   "language": "python",
   "name": "python3"
  },
  "language_info": {
   "codemirror_mode": {
    "name": "ipython",
    "version": 3
   },
   "file_extension": ".py",
   "mimetype": "text/x-python",
   "name": "python",
   "nbconvert_exporter": "python",
   "pygments_lexer": "ipython3",
   "version": "3.9.5"
  },
  "papermill": {
   "default_parameters": {},
   "duration": 6.62075,
   "end_time": "2021-09-17T22:30:11.098187",
   "environment_variables": {},
   "exception": null,
   "input_path": "eBay_Overview.ipynb",
   "output_path": "eBay_Overview.ipynb",
   "parameters": {},
   "start_time": "2021-09-17T22:30:04.477437",
   "version": "2.3.3"
  }
 },
 "nbformat": 4,
 "nbformat_minor": 5
}