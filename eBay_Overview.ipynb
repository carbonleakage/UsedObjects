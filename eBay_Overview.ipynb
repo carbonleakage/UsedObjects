{
 "cells": [
  {
   "cell_type": "code",
   "execution_count": 1,
   "id": "reverse-picking",
   "metadata": {
    "execution": {
     "iopub.execute_input": "2021-11-28T06:30:07.968939Z",
     "iopub.status.busy": "2021-11-28T06:30:07.966407Z",
     "iopub.status.idle": "2021-11-28T06:30:08.921174Z",
     "shell.execute_reply": "2021-11-28T06:30:08.922793Z"
    },
    "papermill": {
     "duration": 1.004732,
     "end_time": "2021-11-28T06:30:08.923530",
     "exception": false,
     "start_time": "2021-11-28T06:30:07.918798",
     "status": "completed"
    },
    "tags": []
   },
   "outputs": [],
   "source": [
    "import pandas as pd\n",
    "import sqlite3"
   ]
  },
  {
   "cell_type": "code",
   "execution_count": 2,
   "id": "innovative-syndrome",
   "metadata": {
    "execution": {
     "iopub.execute_input": "2021-11-28T06:30:08.987714Z",
     "iopub.status.busy": "2021-11-28T06:30:08.984117Z",
     "iopub.status.idle": "2021-11-28T06:30:09.921846Z",
     "shell.execute_reply": "2021-11-28T06:30:09.923097Z"
    },
    "papermill": {
     "duration": 0.972129,
     "end_time": "2021-11-28T06:30:09.923496",
     "exception": false,
     "start_time": "2021-11-28T06:30:08.951367",
     "status": "completed"
    },
    "tags": []
   },
   "outputs": [],
   "source": [
    "timestamps = pd.read_sql(\"select distinct record_time from EBAY_TOP_BERLIN order by record_time desc limit 2\", sqlite3.connect(\"UsedObjects.db\"))"
   ]
  },
  {
   "cell_type": "code",
   "execution_count": 3,
   "id": "periodic-identification",
   "metadata": {
    "execution": {
     "iopub.execute_input": "2021-11-28T06:30:09.987770Z",
     "iopub.status.busy": "2021-11-28T06:30:09.985721Z",
     "iopub.status.idle": "2021-11-28T06:30:10.007559Z",
     "shell.execute_reply": "2021-11-28T06:30:10.006137Z"
    },
    "papermill": {
     "duration": 0.063943,
     "end_time": "2021-11-28T06:30:10.007913",
     "exception": false,
     "start_time": "2021-11-28T06:30:09.943970",
     "status": "completed"
    },
    "tags": []
   },
   "outputs": [
    {
     "data": {
      "text/html": [
       "<div>\n",
       "<style scoped>\n",
       "    .dataframe tbody tr th:only-of-type {\n",
       "        vertical-align: middle;\n",
       "    }\n",
       "\n",
       "    .dataframe tbody tr th {\n",
       "        vertical-align: top;\n",
       "    }\n",
       "\n",
       "    .dataframe thead th {\n",
       "        text-align: right;\n",
       "    }\n",
       "</style>\n",
       "<table border=\"1\" class=\"dataframe\">\n",
       "  <thead>\n",
       "    <tr style=\"text-align: right;\">\n",
       "      <th></th>\n",
       "      <th>RECORD_TIME</th>\n",
       "    </tr>\n",
       "  </thead>\n",
       "  <tbody>\n",
       "    <tr>\n",
       "      <th>0</th>\n",
       "      <td>2021-11-28 07:30</td>\n",
       "    </tr>\n",
       "    <tr>\n",
       "      <th>1</th>\n",
       "      <td>2021-11-28 07:00</td>\n",
       "    </tr>\n",
       "  </tbody>\n",
       "</table>\n",
       "</div>"
      ],
      "text/plain": [
       "        RECORD_TIME\n",
       "0  2021-11-28 07:30\n",
       "1  2021-11-28 07:00"
      ]
     },
     "execution_count": 3,
     "metadata": {},
     "output_type": "execute_result"
    }
   ],
   "source": [
    "timestamps"
   ]
  },
  {
   "cell_type": "code",
   "execution_count": 4,
   "id": "alternate-victory",
   "metadata": {
    "execution": {
     "iopub.execute_input": "2021-11-28T06:30:10.060757Z",
     "iopub.status.busy": "2021-11-28T06:30:10.058388Z",
     "iopub.status.idle": "2021-11-28T06:30:11.476817Z",
     "shell.execute_reply": "2021-11-28T06:30:11.478511Z"
    },
    "papermill": {
     "duration": 1.449722,
     "end_time": "2021-11-28T06:30:11.479003",
     "exception": false,
     "start_time": "2021-11-28T06:30:10.029281",
     "status": "completed"
    },
    "tags": []
   },
   "outputs": [],
   "source": [
    "df = pd.read_sql(\"select * from EBAY_TOP_BERLIN where record_time in (select distinct record_time from EBAY_TOP_BERLIN order by record_time desc limit 2)\", sqlite3.connect(\"UsedObjects.db\"))"
   ]
  },
  {
   "cell_type": "code",
   "execution_count": 5,
   "id": "popular-active",
   "metadata": {
    "execution": {
     "iopub.execute_input": "2021-11-28T06:30:11.562545Z",
     "iopub.status.busy": "2021-11-28T06:30:11.547599Z",
     "iopub.status.idle": "2021-11-28T06:30:11.582175Z",
     "shell.execute_reply": "2021-11-28T06:30:11.583861Z"
    },
    "papermill": {
     "duration": 0.083411,
     "end_time": "2021-11-28T06:30:11.584343",
     "exception": false,
     "start_time": "2021-11-28T06:30:11.500932",
     "status": "completed"
    },
    "tags": []
   },
   "outputs": [],
   "source": [
    "df_pivot = df.pivot_table(index=\"PRODUCT\", columns = \"RECORD_TIME\", values = \"LISTING_COUNT\")"
   ]
  },
  {
   "cell_type": "code",
   "execution_count": 6,
   "id": "union-huntington",
   "metadata": {
    "execution": {
     "iopub.execute_input": "2021-11-28T06:30:11.645424Z",
     "iopub.status.busy": "2021-11-28T06:30:11.642988Z",
     "iopub.status.idle": "2021-11-28T06:30:11.650745Z",
     "shell.execute_reply": "2021-11-28T06:30:11.649139Z"
    },
    "papermill": {
     "duration": 0.044249,
     "end_time": "2021-11-28T06:30:11.651148",
     "exception": false,
     "start_time": "2021-11-28T06:30:11.606899",
     "status": "completed"
    },
    "tags": []
   },
   "outputs": [],
   "source": [
    "df_pivot.columns = [\"stamp_1\", \"stamp_2\"]\n",
    "df_pivot_diff = df_pivot.diff(axis=1)"
   ]
  },
  {
   "cell_type": "code",
   "execution_count": 7,
   "id": "fifth-motion",
   "metadata": {
    "execution": {
     "iopub.execute_input": "2021-11-28T06:30:11.709391Z",
     "iopub.status.busy": "2021-11-28T06:30:11.706503Z",
     "iopub.status.idle": "2021-11-28T06:30:13.779784Z",
     "shell.execute_reply": "2021-11-28T06:30:13.781466Z"
    },
    "papermill": {
     "duration": 2.110927,
     "end_time": "2021-11-28T06:30:13.782015",
     "exception": false,
     "start_time": "2021-11-28T06:30:11.671088",
     "status": "completed"
    },
    "tags": []
   },
   "outputs": [
    {
     "data": {
      "text/plain": [
       "<AxesSubplot:ylabel='PRODUCT'>"
      ]
     },
     "execution_count": 7,
     "metadata": {},
     "output_type": "execute_result"
    },
    {
     "data": {
      "image/png": "[encoded data removed]",
      "text/plain": [
       "<Figure size 432x288 with 1 Axes>"
      ]
     },
     "metadata": {
      "needs_background": "light"
     },
     "output_type": "display_data"
    }
   ],
   "source": [
    "df_pivot_diff.sort_values(\"stamp_2\", ascending = False)[\"stamp_2\"].head(10).plot.barh()"
   ]
  },
  {
   "cell_type": "code",
   "execution_count": null,
   "id": "extra-executive",
   "metadata": {
    "papermill": {
     "duration": 0.022225,
     "end_time": "2021-11-28T06:30:13.829724",
     "exception": false,
     "start_time": "2021-11-28T06:30:13.807499",
     "status": "completed"
    },
    "tags": []
   },
   "outputs": [],
   "source": []
  }
 ],
 "metadata": {
  "kernelspec": {
   "display_name": "Python 3",
   "language": "python",
   "name": "python3"
  },
  "language_info": {
   "codemirror_mode": {
    "name": "ipython",
    "version": 3
   },
   "file_extension": ".py",
   "mimetype": "text/x-python",
   "name": "python",
   "nbconvert_exporter": "python",
   "pygments_lexer": "ipython3",
   "version": "3.9.5"
  },
  "papermill": {
   "default_parameters": {},
   "duration": 9.94675,
   "end_time": "2021-11-28T06:30:15.115770",
   "environment_variables": {},
   "exception": null,
   "input_path": "eBay_Overview.ipynb",
   "output_path": "eBay_Overview.ipynb",
   "parameters": {},
   "start_time": "2021-11-28T06:30:05.169020",
   "version": "2.3.3"
  }
 },
 "nbformat": 4,
 "nbformat_minor": 5
}