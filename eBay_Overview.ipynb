{
 "cells": [
  {
   "cell_type": "code",
   "execution_count": 1,
   "id": "reverse-picking",
   "metadata": {
    "execution": {
     "iopub.execute_input": "2021-09-26T18:30:07.436357Z",
     "iopub.status.busy": "2021-09-26T18:30:07.434371Z",
     "iopub.status.idle": "2021-09-26T18:30:08.241241Z",
     "shell.execute_reply": "2021-09-26T18:30:08.242457Z"
    },
    "papermill": {
     "duration": 0.857388,
     "end_time": "2021-09-26T18:30:08.243254",
     "exception": false,
     "start_time": "2021-09-26T18:30:07.385866",
     "status": "completed"
    },
    "tags": []
   },
   "outputs": [],
   "source": [
    "import pandas as pd\n",
    "import sqlite3"
   ]
  },
  {
   "cell_type": "code",
   "execution_count": 2,
   "id": "innovative-syndrome",
   "metadata": {
    "execution": {
     "iopub.execute_input": "2021-09-26T18:30:08.293619Z",
     "iopub.status.busy": "2021-09-26T18:30:08.291486Z",
     "iopub.status.idle": "2021-09-26T18:30:08.679710Z",
     "shell.execute_reply": "2021-09-26T18:30:08.680902Z"
    },
    "papermill": {
     "duration": 0.41795,
     "end_time": "2021-09-26T18:30:08.681302",
     "exception": false,
     "start_time": "2021-09-26T18:30:08.263352",
     "status": "completed"
    },
    "tags": []
   },
   "outputs": [],
   "source": [
    "timestamps = pd.read_sql(\"select distinct record_time from EBAY_TOP_BERLIN order by record_time desc limit 2\", sqlite3.connect(\"UsedObjects.db\"))"
   ]
  },
  {
   "cell_type": "code",
   "execution_count": 3,
   "id": "periodic-identification",
   "metadata": {
    "execution": {
     "iopub.execute_input": "2021-09-26T18:30:08.745610Z",
     "iopub.status.busy": "2021-09-26T18:30:08.743612Z",
     "iopub.status.idle": "2021-09-26T18:30:08.763140Z",
     "shell.execute_reply": "2021-09-26T18:30:08.764246Z"
    },
    "papermill": {
     "duration": 0.062559,
     "end_time": "2021-09-26T18:30:08.764655",
     "exception": false,
     "start_time": "2021-09-26T18:30:08.702096",
     "status": "completed"
    },
    "tags": []
   },
   "outputs": [
    {
     "data": {
      "text/html": [
       "<div>\n",
       "<style scoped>\n",
       "    .dataframe tbody tr th:only-of-type {\n",
       "        vertical-align: middle;\n",
       "    }\n",
       "\n",
       "    .dataframe tbody tr th {\n",
       "        vertical-align: top;\n",
       "    }\n",
       "\n",
       "    .dataframe thead th {\n",
       "        text-align: right;\n",
       "    }\n",
       "</style>\n",
       "<table border=\"1\" class=\"dataframe\">\n",
       "  <thead>\n",
       "    <tr style=\"text-align: right;\">\n",
       "      <th></th>\n",
       "      <th>RECORD_TIME</th>\n",
       "    </tr>\n",
       "  </thead>\n",
       "  <tbody>\n",
       "    <tr>\n",
       "      <th>0</th>\n",
       "      <td>2021-09-26 20:30</td>\n",
       "    </tr>\n",
       "    <tr>\n",
       "      <th>1</th>\n",
       "      <td>2021-09-26 20:00</td>\n",
       "    </tr>\n",
       "  </tbody>\n",
       "</table>\n",
       "</div>"
      ],
      "text/plain": [
       "        RECORD_TIME\n",
       "0  2021-09-26 20:30\n",
       "1  2021-09-26 20:00"
      ]
     },
     "execution_count": 3,
     "metadata": {},
     "output_type": "execute_result"
    }
   ],
   "source": [
    "timestamps"
   ]
  },
  {
   "cell_type": "code",
   "execution_count": 4,
   "id": "alternate-victory",
   "metadata": {
    "execution": {
     "iopub.execute_input": "2021-09-26T18:30:08.819724Z",
     "iopub.status.busy": "2021-09-26T18:30:08.817402Z",
     "iopub.status.idle": "2021-09-26T18:30:09.394755Z",
     "shell.execute_reply": "2021-09-26T18:30:09.396079Z"
    },
    "papermill": {
     "duration": 0.60842,
     "end_time": "2021-09-26T18:30:09.396496",
     "exception": false,
     "start_time": "2021-09-26T18:30:08.788076",
     "status": "completed"
    },
    "tags": []
   },
   "outputs": [],
   "source": [
    "df = pd.read_sql(\"select * from EBAY_TOP_BERLIN where record_time in (select distinct record_time from EBAY_TOP_BERLIN order by record_time desc limit 2)\", sqlite3.connect(\"UsedObjects.db\"))"
   ]
  },
  {
   "cell_type": "code",
   "execution_count": 5,
   "id": "popular-active",
   "metadata": {
    "execution": {
     "iopub.execute_input": "2021-09-26T18:30:09.476632Z",
     "iopub.status.busy": "2021-09-26T18:30:09.465208Z",
     "iopub.status.idle": "2021-09-26T18:30:09.493933Z",
     "shell.execute_reply": "2021-09-26T18:30:09.492716Z"
    },
    "papermill": {
     "duration": 0.071656,
     "end_time": "2021-09-26T18:30:09.494281",
     "exception": false,
     "start_time": "2021-09-26T18:30:09.422625",
     "status": "completed"
    },
    "tags": []
   },
   "outputs": [],
   "source": [
    "df_pivot = df.pivot_table(index=\"PRODUCT\", columns = \"RECORD_TIME\", values = \"LISTING_COUNT\")"
   ]
  },
  {
   "cell_type": "code",
   "execution_count": 6,
   "id": "union-huntington",
   "metadata": {
    "execution": {
     "iopub.execute_input": "2021-09-26T18:30:09.553403Z",
     "iopub.status.busy": "2021-09-26T18:30:09.550976Z",
     "iopub.status.idle": "2021-09-26T18:30:09.556543Z",
     "shell.execute_reply": "2021-09-26T18:30:09.557792Z"
    },
    "papermill": {
     "duration": 0.041625,
     "end_time": "2021-09-26T18:30:09.558214",
     "exception": false,
     "start_time": "2021-09-26T18:30:09.516589",
     "status": "completed"
    },
    "tags": []
   },
   "outputs": [],
   "source": [
    "df_pivot.columns = [\"stamp_1\", \"stamp_2\"]\n",
    "df_pivot_diff = df_pivot.diff(axis=1)"
   ]
  },
  {
   "cell_type": "code",
   "execution_count": 7,
   "id": "fifth-motion",
   "metadata": {
    "execution": {
     "iopub.execute_input": "2021-09-26T18:30:09.612488Z",
     "iopub.status.busy": "2021-09-26T18:30:09.610007Z",
     "iopub.status.idle": "2021-09-26T18:30:11.128152Z",
     "shell.execute_reply": "2021-09-26T18:30:11.129410Z"
    },
    "papermill": {
     "duration": 1.550975,
     "end_time": "2021-09-26T18:30:11.129830",
     "exception": false,
     "start_time": "2021-09-26T18:30:09.578855",
     "status": "completed"
    },
    "tags": []
   },
   "outputs": [
    {
     "data": {
      "text/plain": [
       "<AxesSubplot:ylabel='PRODUCT'>"
      ]
     },
     "execution_count": 7,
     "metadata": {},
     "output_type": "execute_result"
    },
    {
     "data": {
      "image/png": "[encoded data removed]",
      "text/plain": [
       "<Figure size 432x288 with 1 Axes>"
      ]
     },
     "metadata": {
      "needs_background": "light"
     },
     "output_type": "display_data"
    }
   ],
   "source": [
    "df_pivot_diff.sort_values(\"stamp_2\", ascending = False)[\"stamp_2\"].head(10).plot.barh()"
   ]
  },
  {
   "cell_type": "code",
   "execution_count": null,
   "id": "extra-executive",
   "metadata": {
    "papermill": {
     "duration": 0.022425,
     "end_time": "2021-09-26T18:30:11.176813",
     "exception": false,
     "start_time": "2021-09-26T18:30:11.154388",
     "status": "completed"
    },
    "tags": []
   },
   "outputs": [],
   "source": []
  }
 ],
 "metadata": {
  "kernelspec": {
   "display_name": "Python 3",
   "language": "python",
   "name": "python3"
  },
  "language_info": {
   "codemirror_mode": {
    "name": "ipython",
    "version": 3
   },
   "file_extension": ".py",
   "mimetype": "text/x-python",
   "name": "python",
   "nbconvert_exporter": "python",
   "pygments_lexer": "ipython3",
   "version": "3.9.5"
  },
  "papermill": {
   "default_parameters": {},
   "duration": 7.825858,
   "end_time": "2021-09-26T18:30:12.810334",
   "environment_variables": {},
   "exception": null,
   "input_path": "eBay_Overview.ipynb",
   "output_path": "eBay_Overview.ipynb",
   "parameters": {},
   "start_time": "2021-09-26T18:30:04.984476",
   "version": "2.3.3"
  }
 },
 "nbformat": 4,
 "nbformat_minor": 5
}