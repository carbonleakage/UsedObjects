{
 "cells": [
  {
   "cell_type": "code",
   "execution_count": 1,
   "id": "reverse-picking",
   "metadata": {
    "execution": {
     "iopub.execute_input": "2021-09-24T22:00:06.588665Z",
     "iopub.status.busy": "2021-09-24T22:00:06.586668Z",
     "iopub.status.idle": "2021-09-24T22:00:07.391130Z",
     "shell.execute_reply": "2021-09-24T22:00:07.392600Z"
    },
    "papermill": {
     "duration": 0.857042,
     "end_time": "2021-09-24T22:00:07.393240",
     "exception": false,
     "start_time": "2021-09-24T22:00:06.536198",
     "status": "completed"
    },
    "tags": []
   },
   "outputs": [],
   "source": [
    "import pandas as pd\n",
    "import sqlite3"
   ]
  },
  {
   "cell_type": "code",
   "execution_count": 2,
   "id": "innovative-syndrome",
   "metadata": {
    "execution": {
     "iopub.execute_input": "2021-09-24T22:00:07.442952Z",
     "iopub.status.busy": "2021-09-24T22:00:07.441031Z",
     "iopub.status.idle": "2021-09-24T22:00:07.811457Z",
     "shell.execute_reply": "2021-09-24T22:00:07.812583Z"
    },
    "papermill": {
     "duration": 0.399697,
     "end_time": "2021-09-24T22:00:07.812989",
     "exception": false,
     "start_time": "2021-09-24T22:00:07.413292",
     "status": "completed"
    },
    "tags": []
   },
   "outputs": [],
   "source": [
    "timestamps = pd.read_sql(\"select distinct record_time from EBAY_TOP_BERLIN order by record_time desc limit 2\", sqlite3.connect(\"UsedObjects.db\"))"
   ]
  },
  {
   "cell_type": "code",
   "execution_count": 3,
   "id": "periodic-identification",
   "metadata": {
    "execution": {
     "iopub.execute_input": "2021-09-24T22:00:07.881083Z",
     "iopub.status.busy": "2021-09-24T22:00:07.879053Z",
     "iopub.status.idle": "2021-09-24T22:00:07.901680Z",
     "shell.execute_reply": "2021-09-24T22:00:07.903040Z"
    },
    "papermill": {
     "duration": 0.068075,
     "end_time": "2021-09-24T22:00:07.903505",
     "exception": false,
     "start_time": "2021-09-24T22:00:07.835430",
     "status": "completed"
    },
    "tags": []
   },
   "outputs": [
    {
     "data": {
      "text/html": [
       "<div>\n",
       "<style scoped>\n",
       "    .dataframe tbody tr th:only-of-type {\n",
       "        vertical-align: middle;\n",
       "    }\n",
       "\n",
       "    .dataframe tbody tr th {\n",
       "        vertical-align: top;\n",
       "    }\n",
       "\n",
       "    .dataframe thead th {\n",
       "        text-align: right;\n",
       "    }\n",
       "</style>\n",
       "<table border=\"1\" class=\"dataframe\">\n",
       "  <thead>\n",
       "    <tr style=\"text-align: right;\">\n",
       "      <th></th>\n",
       "      <th>RECORD_TIME</th>\n",
       "    </tr>\n",
       "  </thead>\n",
       "  <tbody>\n",
       "    <tr>\n",
       "      <th>0</th>\n",
       "      <td>2021-09-25 00:00</td>\n",
       "    </tr>\n",
       "    <tr>\n",
       "      <th>1</th>\n",
       "      <td>2021-09-24 23:30</td>\n",
       "    </tr>\n",
       "  </tbody>\n",
       "</table>\n",
       "</div>"
      ],
      "text/plain": [
       "        RECORD_TIME\n",
       "0  2021-09-25 00:00\n",
       "1  2021-09-24 23:30"
      ]
     },
     "execution_count": 3,
     "metadata": {},
     "output_type": "execute_result"
    }
   ],
   "source": [
    "timestamps"
   ]
  },
  {
   "cell_type": "code",
   "execution_count": 4,
   "id": "alternate-victory",
   "metadata": {
    "execution": {
     "iopub.execute_input": "2021-09-24T22:00:07.955332Z",
     "iopub.status.busy": "2021-09-24T22:00:07.953271Z",
     "iopub.status.idle": "2021-09-24T22:00:08.502591Z",
     "shell.execute_reply": "2021-09-24T22:00:08.503874Z"
    },
    "papermill": {
     "duration": 0.579498,
     "end_time": "2021-09-24T22:00:08.504273",
     "exception": false,
     "start_time": "2021-09-24T22:00:07.924775",
     "status": "completed"
    },
    "tags": []
   },
   "outputs": [],
   "source": [
    "df = pd.read_sql(\"select * from EBAY_TOP_BERLIN where record_time in (select distinct record_time from EBAY_TOP_BERLIN order by record_time desc limit 2)\", sqlite3.connect(\"UsedObjects.db\"))"
   ]
  },
  {
   "cell_type": "code",
   "execution_count": 5,
   "id": "popular-active",
   "metadata": {
    "execution": {
     "iopub.execute_input": "2021-09-24T22:00:08.596880Z",
     "iopub.status.busy": "2021-09-24T22:00:08.584184Z",
     "iopub.status.idle": "2021-09-24T22:00:08.612383Z",
     "shell.execute_reply": "2021-09-24T22:00:08.613591Z"
    },
    "papermill": {
     "duration": 0.074354,
     "end_time": "2021-09-24T22:00:08.613982",
     "exception": false,
     "start_time": "2021-09-24T22:00:08.539628",
     "status": "completed"
    },
    "tags": []
   },
   "outputs": [],
   "source": [
    "df_pivot = df.pivot_table(index=\"PRODUCT\", columns = \"RECORD_TIME\", values = \"LISTING_COUNT\")"
   ]
  },
  {
   "cell_type": "code",
   "execution_count": 6,
   "id": "union-huntington",
   "metadata": {
    "execution": {
     "iopub.execute_input": "2021-09-24T22:00:08.673020Z",
     "iopub.status.busy": "2021-09-24T22:00:08.670544Z",
     "iopub.status.idle": "2021-09-24T22:00:08.676605Z",
     "shell.execute_reply": "2021-09-24T22:00:08.677791Z"
    },
    "papermill": {
     "duration": 0.041981,
     "end_time": "2021-09-24T22:00:08.678215",
     "exception": false,
     "start_time": "2021-09-24T22:00:08.636234",
     "status": "completed"
    },
    "tags": []
   },
   "outputs": [],
   "source": [
    "df_pivot.columns = [\"stamp_1\", \"stamp_2\"]\n",
    "df_pivot_diff = df_pivot.diff(axis=1)"
   ]
  },
  {
   "cell_type": "code",
   "execution_count": 7,
   "id": "fifth-motion",
   "metadata": {
    "execution": {
     "iopub.execute_input": "2021-09-24T22:00:08.732272Z",
     "iopub.status.busy": "2021-09-24T22:00:08.729826Z",
     "iopub.status.idle": "2021-09-24T22:00:10.208984Z",
     "shell.execute_reply": "2021-09-24T22:00:10.210262Z"
    },
    "papermill": {
     "duration": 1.511918,
     "end_time": "2021-09-24T22:00:10.210678",
     "exception": false,
     "start_time": "2021-09-24T22:00:08.698760",
     "status": "completed"
    },
    "tags": []
   },
   "outputs": [
    {
     "data": {
      "text/plain": [
       "<AxesSubplot:ylabel='PRODUCT'>"
      ]
     },
     "execution_count": 7,
     "metadata": {},
     "output_type": "execute_result"
    },
    {
     "data": {
      "image/png": "[encoded data removed]",
      "text/plain": [
       "<Figure size 432x288 with 1 Axes>"
      ]
     },
     "metadata": {
      "needs_background": "light"
     },
     "output_type": "display_data"
    }
   ],
   "source": [
    "df_pivot_diff.sort_values(\"stamp_2\", ascending = False)[\"stamp_2\"].head(10).plot.barh()"
   ]
  },
  {
   "cell_type": "code",
   "execution_count": null,
   "id": "extra-executive",
   "metadata": {
    "papermill": {
     "duration": 0.022391,
     "end_time": "2021-09-24T22:00:10.259419",
     "exception": false,
     "start_time": "2021-09-24T22:00:10.237028",
     "status": "completed"
    },
    "tags": []
   },
   "outputs": [],
   "source": []
  }
 ],
 "metadata": {
  "kernelspec": {
   "display_name": "Python 3",
   "language": "python",
   "name": "python3"
  },
  "language_info": {
   "codemirror_mode": {
    "name": "ipython",
    "version": 3
   },
   "file_extension": ".py",
   "mimetype": "text/x-python",
   "name": "python",
   "nbconvert_exporter": "python",
   "pygments_lexer": "ipython3",
   "version": "3.9.5"
  },
  "papermill": {
   "default_parameters": {},
   "duration": 6.768739,
   "end_time": "2021-09-24T22:00:10.903080",
   "environment_variables": {},
   "exception": null,
   "input_path": "eBay_Overview.ipynb",
   "output_path": "eBay_Overview.ipynb",
   "parameters": {},
   "start_time": "2021-09-24T22:00:04.134341",
   "version": "2.3.3"
  }
 },
 "nbformat": 4,
 "nbformat_minor": 5
}