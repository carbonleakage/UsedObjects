{
 "cells": [
  {
   "cell_type": "code",
   "execution_count": 1,
   "id": "reverse-picking",
   "metadata": {
    "execution": {
     "iopub.execute_input": "2021-11-20T13:00:08.063453Z",
     "iopub.status.busy": "2021-11-20T13:00:08.051752Z",
     "iopub.status.idle": "2021-11-20T13:00:08.999714Z",
     "shell.execute_reply": "2021-11-20T13:00:09.001271Z"
    },
    "papermill": {
     "duration": 0.996214,
     "end_time": "2021-11-20T13:00:09.002011",
     "exception": false,
     "start_time": "2021-11-20T13:00:08.005797",
     "status": "completed"
    },
    "tags": []
   },
   "outputs": [],
   "source": [
    "import pandas as pd\n",
    "import sqlite3"
   ]
  },
  {
   "cell_type": "code",
   "execution_count": 2,
   "id": "innovative-syndrome",
   "metadata": {
    "execution": {
     "iopub.execute_input": "2021-11-20T13:00:09.065692Z",
     "iopub.status.busy": "2021-11-20T13:00:09.063158Z",
     "iopub.status.idle": "2021-11-20T13:00:09.930844Z",
     "shell.execute_reply": "2021-11-20T13:00:09.932409Z"
    },
    "papermill": {
     "duration": 0.902093,
     "end_time": "2021-11-20T13:00:09.933024",
     "exception": false,
     "start_time": "2021-11-20T13:00:09.030931",
     "status": "completed"
    },
    "tags": []
   },
   "outputs": [],
   "source": [
    "timestamps = pd.read_sql(\"select distinct record_time from EBAY_TOP_BERLIN order by record_time desc limit 2\", sqlite3.connect(\"UsedObjects.db\"))"
   ]
  },
  {
   "cell_type": "code",
   "execution_count": 3,
   "id": "periodic-identification",
   "metadata": {
    "execution": {
     "iopub.execute_input": "2021-11-20T13:00:10.004637Z",
     "iopub.status.busy": "2021-11-20T13:00:10.002396Z",
     "iopub.status.idle": "2021-11-20T13:00:10.025297Z",
     "shell.execute_reply": "2021-11-20T13:00:10.026741Z"
    },
    "papermill": {
     "duration": 0.073783,
     "end_time": "2021-11-20T13:00:10.027248",
     "exception": false,
     "start_time": "2021-11-20T13:00:09.953465",
     "status": "completed"
    },
    "tags": []
   },
   "outputs": [
    {
     "data": {
      "text/html": [
       "<div>\n",
       "<style scoped>\n",
       "    .dataframe tbody tr th:only-of-type {\n",
       "        vertical-align: middle;\n",
       "    }\n",
       "\n",
       "    .dataframe tbody tr th {\n",
       "        vertical-align: top;\n",
       "    }\n",
       "\n",
       "    .dataframe thead th {\n",
       "        text-align: right;\n",
       "    }\n",
       "</style>\n",
       "<table border=\"1\" class=\"dataframe\">\n",
       "  <thead>\n",
       "    <tr style=\"text-align: right;\">\n",
       "      <th></th>\n",
       "      <th>RECORD_TIME</th>\n",
       "    </tr>\n",
       "  </thead>\n",
       "  <tbody>\n",
       "    <tr>\n",
       "      <th>0</th>\n",
       "      <td>2021-11-20 14:00</td>\n",
       "    </tr>\n",
       "    <tr>\n",
       "      <th>1</th>\n",
       "      <td>2021-11-20 13:30</td>\n",
       "    </tr>\n",
       "  </tbody>\n",
       "</table>\n",
       "</div>"
      ],
      "text/plain": [
       "        RECORD_TIME\n",
       "0  2021-11-20 14:00\n",
       "1  2021-11-20 13:30"
      ]
     },
     "execution_count": 3,
     "metadata": {},
     "output_type": "execute_result"
    }
   ],
   "source": [
    "timestamps"
   ]
  },
  {
   "cell_type": "code",
   "execution_count": 4,
   "id": "alternate-victory",
   "metadata": {
    "execution": {
     "iopub.execute_input": "2021-11-20T13:00:10.082321Z",
     "iopub.status.busy": "2021-11-20T13:00:10.080079Z",
     "iopub.status.idle": "2021-11-20T13:00:11.375649Z",
     "shell.execute_reply": "2021-11-20T13:00:11.377396Z"
    },
    "papermill": {
     "duration": 1.329291,
     "end_time": "2021-11-20T13:00:11.377874",
     "exception": false,
     "start_time": "2021-11-20T13:00:10.048583",
     "status": "completed"
    },
    "tags": []
   },
   "outputs": [],
   "source": [
    "df = pd.read_sql(\"select * from EBAY_TOP_BERLIN where record_time in (select distinct record_time from EBAY_TOP_BERLIN order by record_time desc limit 2)\", sqlite3.connect(\"UsedObjects.db\"))"
   ]
  },
  {
   "cell_type": "code",
   "execution_count": 5,
   "id": "popular-active",
   "metadata": {
    "execution": {
     "iopub.execute_input": "2021-11-20T13:00:11.457795Z",
     "iopub.status.busy": "2021-11-20T13:00:11.444505Z",
     "iopub.status.idle": "2021-11-20T13:00:11.477756Z",
     "shell.execute_reply": "2021-11-20T13:00:11.479343Z"
    },
    "papermill": {
     "duration": 0.079228,
     "end_time": "2021-11-20T13:00:11.479837",
     "exception": false,
     "start_time": "2021-11-20T13:00:11.400609",
     "status": "completed"
    },
    "tags": []
   },
   "outputs": [],
   "source": [
    "df_pivot = df.pivot_table(index=\"PRODUCT\", columns = \"RECORD_TIME\", values = \"LISTING_COUNT\")"
   ]
  },
  {
   "cell_type": "code",
   "execution_count": 6,
   "id": "union-huntington",
   "metadata": {
    "execution": {
     "iopub.execute_input": "2021-11-20T13:00:11.542140Z",
     "iopub.status.busy": "2021-11-20T13:00:11.539803Z",
     "iopub.status.idle": "2021-11-20T13:00:11.544902Z",
     "shell.execute_reply": "2021-11-20T13:00:11.547976Z"
    },
    "papermill": {
     "duration": 0.047347,
     "end_time": "2021-11-20T13:00:11.548978",
     "exception": false,
     "start_time": "2021-11-20T13:00:11.501631",
     "status": "completed"
    },
    "tags": []
   },
   "outputs": [],
   "source": [
    "df_pivot.columns = [\"stamp_1\", \"stamp_2\"]\n",
    "df_pivot_diff = df_pivot.diff(axis=1)"
   ]
  },
  {
   "cell_type": "code",
   "execution_count": 7,
   "id": "fifth-motion",
   "metadata": {
    "execution": {
     "iopub.execute_input": "2021-11-20T13:00:11.607435Z",
     "iopub.status.busy": "2021-11-20T13:00:11.604909Z",
     "iopub.status.idle": "2021-11-20T13:00:13.368505Z",
     "shell.execute_reply": "2021-11-20T13:00:13.369928Z"
    },
    "papermill": {
     "duration": 1.799999,
     "end_time": "2021-11-20T13:00:13.370393",
     "exception": false,
     "start_time": "2021-11-20T13:00:11.570394",
     "status": "completed"
    },
    "tags": []
   },
   "outputs": [
    {
     "data": {
      "text/plain": [
       "<AxesSubplot:ylabel='PRODUCT'>"
      ]
     },
     "execution_count": 7,
     "metadata": {},
     "output_type": "execute_result"
    },
    {
     "data": {
      "image/png": "[encoded data removed]",
      "text/plain": [
       "<Figure size 432x288 with 1 Axes>"
      ]
     },
     "metadata": {
      "needs_background": "light"
     },
     "output_type": "display_data"
    }
   ],
   "source": [
    "df_pivot_diff.sort_values(\"stamp_2\", ascending = False)[\"stamp_2\"].head(10).plot.barh()"
   ]
  },
  {
   "cell_type": "code",
   "execution_count": null,
   "id": "extra-executive",
   "metadata": {
    "papermill": {
     "duration": 0.02435,
     "end_time": "2021-11-20T13:00:13.418484",
     "exception": false,
     "start_time": "2021-11-20T13:00:13.394134",
     "status": "completed"
    },
    "tags": []
   },
   "outputs": [],
   "source": []
  }
 ],
 "metadata": {
  "kernelspec": {
   "display_name": "Python 3",
   "language": "python",
   "name": "python3"
  },
  "language_info": {
   "codemirror_mode": {
    "name": "ipython",
    "version": 3
   },
   "file_extension": ".py",
   "mimetype": "text/x-python",
   "name": "python",
   "nbconvert_exporter": "python",
   "pygments_lexer": "ipython3",
   "version": "3.9.5"
  },
  "papermill": {
   "default_parameters": {},
   "duration": 10.019629,
   "end_time": "2021-11-20T13:00:15.200168",
   "environment_variables": {},
   "exception": null,
   "input_path": "eBay_Overview.ipynb",
   "output_path": "eBay_Overview.ipynb",
   "parameters": {},
   "start_time": "2021-11-20T13:00:05.180539",
   "version": "2.3.3"
  }
 },
 "nbformat": 4,
 "nbformat_minor": 5
}