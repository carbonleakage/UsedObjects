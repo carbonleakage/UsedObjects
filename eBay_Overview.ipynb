{
 "cells": [
  {
   "cell_type": "code",
   "execution_count": 1,
   "id": "reverse-picking",
   "metadata": {
    "execution": {
     "iopub.execute_input": "2021-12-21T15:30:07.816631Z",
     "iopub.status.busy": "2021-12-21T15:30:07.814278Z",
     "iopub.status.idle": "2021-12-21T15:30:08.785268Z",
     "shell.execute_reply": "2021-12-21T15:30:08.786943Z"
    },
    "papermill": {
     "duration": 1.022696,
     "end_time": "2021-12-21T15:30:08.787738",
     "exception": false,
     "start_time": "2021-12-21T15:30:07.765042",
     "status": "completed"
    },
    "tags": []
   },
   "outputs": [],
   "source": [
    "import pandas as pd\n",
    "import sqlite3"
   ]
  },
  {
   "cell_type": "code",
   "execution_count": 2,
   "id": "innovative-syndrome",
   "metadata": {
    "execution": {
     "iopub.execute_input": "2021-12-21T15:30:08.850802Z",
     "iopub.status.busy": "2021-12-21T15:30:08.848455Z",
     "iopub.status.idle": "2021-12-21T15:30:09.998696Z",
     "shell.execute_reply": "2021-12-21T15:30:10.000288Z"
    },
    "papermill": {
     "duration": 1.18541,
     "end_time": "2021-12-21T15:30:10.000868",
     "exception": false,
     "start_time": "2021-12-21T15:30:08.815458",
     "status": "completed"
    },
    "tags": []
   },
   "outputs": [],
   "source": [
    "timestamps = pd.read_sql(\"select distinct record_time from EBAY_TOP_BERLIN order by record_time desc limit 2\", sqlite3.connect(\"UsedObjects.db\"))"
   ]
  },
  {
   "cell_type": "code",
   "execution_count": 3,
   "id": "periodic-identification",
   "metadata": {
    "execution": {
     "iopub.execute_input": "2021-12-21T15:30:10.076776Z",
     "iopub.status.busy": "2021-12-21T15:30:10.073063Z",
     "iopub.status.idle": "2021-12-21T15:30:10.098803Z",
     "shell.execute_reply": "2021-12-21T15:30:10.097034Z"
    },
    "papermill": {
     "duration": 0.076824,
     "end_time": "2021-12-21T15:30:10.099219",
     "exception": false,
     "start_time": "2021-12-21T15:30:10.022395",
     "status": "completed"
    },
    "tags": []
   },
   "outputs": [
    {
     "data": {
      "text/html": [
       "<div>\n",
       "<style scoped>\n",
       "    .dataframe tbody tr th:only-of-type {\n",
       "        vertical-align: middle;\n",
       "    }\n",
       "\n",
       "    .dataframe tbody tr th {\n",
       "        vertical-align: top;\n",
       "    }\n",
       "\n",
       "    .dataframe thead th {\n",
       "        text-align: right;\n",
       "    }\n",
       "</style>\n",
       "<table border=\"1\" class=\"dataframe\">\n",
       "  <thead>\n",
       "    <tr style=\"text-align: right;\">\n",
       "      <th></th>\n",
       "      <th>RECORD_TIME</th>\n",
       "    </tr>\n",
       "  </thead>\n",
       "  <tbody>\n",
       "    <tr>\n",
       "      <th>0</th>\n",
       "      <td>2021-12-21 16:30</td>\n",
       "    </tr>\n",
       "    <tr>\n",
       "      <th>1</th>\n",
       "      <td>2021-12-21 16:00</td>\n",
       "    </tr>\n",
       "  </tbody>\n",
       "</table>\n",
       "</div>"
      ],
      "text/plain": [
       "        RECORD_TIME\n",
       "0  2021-12-21 16:30\n",
       "1  2021-12-21 16:00"
      ]
     },
     "execution_count": 3,
     "metadata": {},
     "output_type": "execute_result"
    }
   ],
   "source": [
    "timestamps"
   ]
  },
  {
   "cell_type": "code",
   "execution_count": 4,
   "id": "alternate-victory",
   "metadata": {
    "execution": {
     "iopub.execute_input": "2021-12-21T15:30:10.156168Z",
     "iopub.status.busy": "2021-12-21T15:30:10.153963Z",
     "iopub.status.idle": "2021-12-21T15:30:11.817090Z",
     "shell.execute_reply": "2021-12-21T15:30:11.819251Z"
    },
    "papermill": {
     "duration": 1.699124,
     "end_time": "2021-12-21T15:30:11.819799",
     "exception": false,
     "start_time": "2021-12-21T15:30:10.120675",
     "status": "completed"
    },
    "tags": []
   },
   "outputs": [],
   "source": [
    "df = pd.read_sql(\"select * from EBAY_TOP_BERLIN where record_time in (select distinct record_time from EBAY_TOP_BERLIN order by record_time desc limit 2)\", sqlite3.connect(\"UsedObjects.db\"))"
   ]
  },
  {
   "cell_type": "code",
   "execution_count": 5,
   "id": "popular-active",
   "metadata": {
    "execution": {
     "iopub.execute_input": "2021-12-21T15:30:11.901188Z",
     "iopub.status.busy": "2021-12-21T15:30:11.885243Z",
     "iopub.status.idle": "2021-12-21T15:30:11.919466Z",
     "shell.execute_reply": "2021-12-21T15:30:11.920916Z"
    },
    "papermill": {
     "duration": 0.079529,
     "end_time": "2021-12-21T15:30:11.921395",
     "exception": false,
     "start_time": "2021-12-21T15:30:11.841866",
     "status": "completed"
    },
    "tags": []
   },
   "outputs": [],
   "source": [
    "df_pivot = df.pivot_table(index=\"PRODUCT\", columns = \"RECORD_TIME\", values = \"LISTING_COUNT\")"
   ]
  },
  {
   "cell_type": "code",
   "execution_count": 6,
   "id": "union-huntington",
   "metadata": {
    "execution": {
     "iopub.execute_input": "2021-12-21T15:30:11.981610Z",
     "iopub.status.busy": "2021-12-21T15:30:11.979309Z",
     "iopub.status.idle": "2021-12-21T15:30:11.985190Z",
     "shell.execute_reply": "2021-12-21T15:30:11.986604Z"
    },
    "papermill": {
     "duration": 0.044915,
     "end_time": "2021-12-21T15:30:11.987082",
     "exception": false,
     "start_time": "2021-12-21T15:30:11.942167",
     "status": "completed"
    },
    "tags": []
   },
   "outputs": [],
   "source": [
    "df_pivot.columns = [\"stamp_1\", \"stamp_2\"]\n",
    "df_pivot_diff = df_pivot.diff(axis=1)"
   ]
  },
  {
   "cell_type": "code",
   "execution_count": 7,
   "id": "fifth-motion",
   "metadata": {
    "execution": {
     "iopub.execute_input": "2021-12-21T15:30:12.044188Z",
     "iopub.status.busy": "2021-12-21T15:30:12.041670Z",
     "iopub.status.idle": "2021-12-21T15:30:13.986703Z",
     "shell.execute_reply": "2021-12-21T15:30:13.988933Z"
    },
    "papermill": {
     "duration": 1.981867,
     "end_time": "2021-12-21T15:30:13.989417",
     "exception": false,
     "start_time": "2021-12-21T15:30:12.007550",
     "status": "completed"
    },
    "tags": []
   },
   "outputs": [
    {
     "data": {
      "text/plain": [
       "<AxesSubplot:ylabel='PRODUCT'>"
      ]
     },
     "execution_count": 7,
     "metadata": {},
     "output_type": "execute_result"
    },
    {
     "data": {
      "image/png": "[encoded data removed]",
      "text/plain": [
       "<Figure size 432x288 with 1 Axes>"
      ]
     },
     "metadata": {
      "needs_background": "light"
     },
     "output_type": "display_data"
    }
   ],
   "source": [
    "df_pivot_diff.sort_values(\"stamp_2\", ascending = False)[\"stamp_2\"].head(10).plot.barh()"
   ]
  },
  {
   "cell_type": "code",
   "execution_count": null,
   "id": "extra-executive",
   "metadata": {
    "papermill": {
     "duration": 0.02245,
     "end_time": "2021-12-21T15:30:14.036200",
     "exception": false,
     "start_time": "2021-12-21T15:30:14.013750",
     "status": "completed"
    },
    "tags": []
   },
   "outputs": [],
   "source": []
  }
 ],
 "metadata": {
  "kernelspec": {
   "display_name": "Python 3",
   "language": "python",
   "name": "python3"
  },
  "language_info": {
   "codemirror_mode": {
    "name": "ipython",
    "version": 3
   },
   "file_extension": ".py",
   "mimetype": "text/x-python",
   "name": "python",
   "nbconvert_exporter": "python",
   "pygments_lexer": "ipython3",
   "version": "3.9.5"
  },
  "papermill": {
   "default_parameters": {},
   "duration": 9.672738,
   "end_time": "2021-12-21T15:30:14.678500",
   "environment_variables": {},
   "exception": null,
   "input_path": "eBay_Overview.ipynb",
   "output_path": "eBay_Overview.ipynb",
   "parameters": {},
   "start_time": "2021-12-21T15:30:05.005762",
   "version": "2.3.3"
  }
 },
 "nbformat": 4,
 "nbformat_minor": 5
}