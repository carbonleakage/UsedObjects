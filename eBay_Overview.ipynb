{
 "cells": [
  {
   "cell_type": "code",
   "execution_count": 1,
   "id": "reverse-picking",
   "metadata": {
    "execution": {
     "iopub.execute_input": "2021-11-12T17:00:07.441623Z",
     "iopub.status.busy": "2021-11-12T17:00:07.439317Z",
     "iopub.status.idle": "2021-11-12T17:00:08.395036Z",
     "shell.execute_reply": "2021-11-12T17:00:08.396591Z"
    },
    "papermill": {
     "duration": 1.005484,
     "end_time": "2021-11-12T17:00:08.397384",
     "exception": false,
     "start_time": "2021-11-12T17:00:07.391900",
     "status": "completed"
    },
    "tags": []
   },
   "outputs": [],
   "source": [
    "import pandas as pd\n",
    "import sqlite3"
   ]
  },
  {
   "cell_type": "code",
   "execution_count": 2,
   "id": "innovative-syndrome",
   "metadata": {
    "execution": {
     "iopub.execute_input": "2021-11-12T17:00:08.460925Z",
     "iopub.status.busy": "2021-11-12T17:00:08.458419Z",
     "iopub.status.idle": "2021-11-12T17:00:09.265034Z",
     "shell.execute_reply": "2021-11-12T17:00:09.266420Z"
    },
    "papermill": {
     "duration": 0.84041,
     "end_time": "2021-11-12T17:00:09.266885",
     "exception": false,
     "start_time": "2021-11-12T17:00:08.426475",
     "status": "completed"
    },
    "tags": []
   },
   "outputs": [],
   "source": [
    "timestamps = pd.read_sql(\"select distinct record_time from EBAY_TOP_BERLIN order by record_time desc limit 2\", sqlite3.connect(\"UsedObjects.db\"))"
   ]
  },
  {
   "cell_type": "code",
   "execution_count": 3,
   "id": "periodic-identification",
   "metadata": {
    "execution": {
     "iopub.execute_input": "2021-11-12T17:00:09.337167Z",
     "iopub.status.busy": "2021-11-12T17:00:09.334722Z",
     "iopub.status.idle": "2021-11-12T17:00:09.359006Z",
     "shell.execute_reply": "2021-11-12T17:00:09.357422Z"
    },
    "papermill": {
     "duration": 0.073179,
     "end_time": "2021-11-12T17:00:09.359420",
     "exception": false,
     "start_time": "2021-11-12T17:00:09.286241",
     "status": "completed"
    },
    "tags": []
   },
   "outputs": [
    {
     "data": {
      "text/html": [
       "<div>\n",
       "<style scoped>\n",
       "    .dataframe tbody tr th:only-of-type {\n",
       "        vertical-align: middle;\n",
       "    }\n",
       "\n",
       "    .dataframe tbody tr th {\n",
       "        vertical-align: top;\n",
       "    }\n",
       "\n",
       "    .dataframe thead th {\n",
       "        text-align: right;\n",
       "    }\n",
       "</style>\n",
       "<table border=\"1\" class=\"dataframe\">\n",
       "  <thead>\n",
       "    <tr style=\"text-align: right;\">\n",
       "      <th></th>\n",
       "      <th>RECORD_TIME</th>\n",
       "    </tr>\n",
       "  </thead>\n",
       "  <tbody>\n",
       "    <tr>\n",
       "      <th>0</th>\n",
       "      <td>2021-11-12 18:00</td>\n",
       "    </tr>\n",
       "    <tr>\n",
       "      <th>1</th>\n",
       "      <td>2021-11-12 17:30</td>\n",
       "    </tr>\n",
       "  </tbody>\n",
       "</table>\n",
       "</div>"
      ],
      "text/plain": [
       "        RECORD_TIME\n",
       "0  2021-11-12 18:00\n",
       "1  2021-11-12 17:30"
      ]
     },
     "execution_count": 3,
     "metadata": {},
     "output_type": "execute_result"
    }
   ],
   "source": [
    "timestamps"
   ]
  },
  {
   "cell_type": "code",
   "execution_count": 4,
   "id": "alternate-victory",
   "metadata": {
    "execution": {
     "iopub.execute_input": "2021-11-12T17:00:09.416976Z",
     "iopub.status.busy": "2021-11-12T17:00:09.414690Z",
     "iopub.status.idle": "2021-11-12T17:00:10.571152Z",
     "shell.execute_reply": "2021-11-12T17:00:10.573545Z"
    },
    "papermill": {
     "duration": 1.193219,
     "end_time": "2021-11-12T17:00:10.574062",
     "exception": false,
     "start_time": "2021-11-12T17:00:09.380843",
     "status": "completed"
    },
    "tags": []
   },
   "outputs": [],
   "source": [
    "df = pd.read_sql(\"select * from EBAY_TOP_BERLIN where record_time in (select distinct record_time from EBAY_TOP_BERLIN order by record_time desc limit 2)\", sqlite3.connect(\"UsedObjects.db\"))"
   ]
  },
  {
   "cell_type": "code",
   "execution_count": 5,
   "id": "popular-active",
   "metadata": {
    "execution": {
     "iopub.execute_input": "2021-11-12T17:00:10.650872Z",
     "iopub.status.busy": "2021-11-12T17:00:10.638857Z",
     "iopub.status.idle": "2021-11-12T17:00:10.671102Z",
     "shell.execute_reply": "2021-11-12T17:00:10.669650Z"
    },
    "papermill": {
     "duration": 0.074967,
     "end_time": "2021-11-12T17:00:10.671510",
     "exception": false,
     "start_time": "2021-11-12T17:00:10.596543",
     "status": "completed"
    },
    "tags": []
   },
   "outputs": [],
   "source": [
    "df_pivot = df.pivot_table(index=\"PRODUCT\", columns = \"RECORD_TIME\", values = \"LISTING_COUNT\")"
   ]
  },
  {
   "cell_type": "code",
   "execution_count": 6,
   "id": "union-huntington",
   "metadata": {
    "execution": {
     "iopub.execute_input": "2021-11-12T17:00:10.730480Z",
     "iopub.status.busy": "2021-11-12T17:00:10.728072Z",
     "iopub.status.idle": "2021-11-12T17:00:10.733949Z",
     "shell.execute_reply": "2021-11-12T17:00:10.735483Z"
    },
    "papermill": {
     "duration": 0.044256,
     "end_time": "2021-11-12T17:00:10.735966",
     "exception": false,
     "start_time": "2021-11-12T17:00:10.691710",
     "status": "completed"
    },
    "tags": []
   },
   "outputs": [],
   "source": [
    "df_pivot.columns = [\"stamp_1\", \"stamp_2\"]\n",
    "df_pivot_diff = df_pivot.diff(axis=1)"
   ]
  },
  {
   "cell_type": "code",
   "execution_count": 7,
   "id": "fifth-motion",
   "metadata": {
    "execution": {
     "iopub.execute_input": "2021-11-12T17:00:10.810882Z",
     "iopub.status.busy": "2021-11-12T17:00:10.806965Z",
     "iopub.status.idle": "2021-11-12T17:00:12.545263Z",
     "shell.execute_reply": "2021-11-12T17:00:12.547796Z"
    },
    "papermill": {
     "duration": 1.790357,
     "end_time": "2021-11-12T17:00:12.548477",
     "exception": false,
     "start_time": "2021-11-12T17:00:10.758120",
     "status": "completed"
    },
    "tags": []
   },
   "outputs": [
    {
     "data": {
      "text/plain": [
       "<AxesSubplot:ylabel='PRODUCT'>"
      ]
     },
     "execution_count": 7,
     "metadata": {},
     "output_type": "execute_result"
    },
    {
     "data": {
      "image/png": "[encoded data removed]",
      "text/plain": [
       "<Figure size 432x288 with 1 Axes>"
      ]
     },
     "metadata": {
      "needs_background": "light"
     },
     "output_type": "display_data"
    }
   ],
   "source": [
    "df_pivot_diff.sort_values(\"stamp_2\", ascending = False)[\"stamp_2\"].head(10).plot.barh()"
   ]
  },
  {
   "cell_type": "code",
   "execution_count": null,
   "id": "extra-executive",
   "metadata": {
    "papermill": {
     "duration": 0.03915,
     "end_time": "2021-11-12T17:00:12.623057",
     "exception": false,
     "start_time": "2021-11-12T17:00:12.583907",
     "status": "completed"
    },
    "tags": []
   },
   "outputs": [],
   "source": []
  }
 ],
 "metadata": {
  "kernelspec": {
   "display_name": "Python 3",
   "language": "python",
   "name": "python3"
  },
  "language_info": {
   "codemirror_mode": {
    "name": "ipython",
    "version": 3
   },
   "file_extension": ".py",
   "mimetype": "text/x-python",
   "name": "python",
   "nbconvert_exporter": "python",
   "pygments_lexer": "ipython3",
   "version": "3.9.5"
  },
  "papermill": {
   "default_parameters": {},
   "duration": 8.816051,
   "end_time": "2021-11-12T17:00:13.493348",
   "environment_variables": {},
   "exception": null,
   "input_path": "eBay_Overview.ipynb",
   "output_path": "eBay_Overview.ipynb",
   "parameters": {},
   "start_time": "2021-11-12T17:00:04.677297",
   "version": "2.3.3"
  }
 },
 "nbformat": 4,
 "nbformat_minor": 5
}