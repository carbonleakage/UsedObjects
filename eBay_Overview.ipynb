{
 "cells": [
  {
   "cell_type": "code",
   "execution_count": 1,
   "id": "reverse-picking",
   "metadata": {
    "execution": {
     "iopub.execute_input": "2021-10-28T07:00:06.921237Z",
     "iopub.status.busy": "2021-10-28T07:00:06.919171Z",
     "iopub.status.idle": "2021-10-28T07:00:07.724566Z",
     "shell.execute_reply": "2021-10-28T07:00:07.725861Z"
    },
    "papermill": {
     "duration": 0.855511,
     "end_time": "2021-10-28T07:00:07.726500",
     "exception": false,
     "start_time": "2021-10-28T07:00:06.870989",
     "status": "completed"
    },
    "tags": []
   },
   "outputs": [],
   "source": [
    "import pandas as pd\n",
    "import sqlite3"
   ]
  },
  {
   "cell_type": "code",
   "execution_count": 2,
   "id": "innovative-syndrome",
   "metadata": {
    "execution": {
     "iopub.execute_input": "2021-10-28T07:00:07.779339Z",
     "iopub.status.busy": "2021-10-28T07:00:07.777143Z",
     "iopub.status.idle": "2021-10-28T07:00:08.425232Z",
     "shell.execute_reply": "2021-10-28T07:00:08.426710Z"
    },
    "papermill": {
     "duration": 0.678223,
     "end_time": "2021-10-28T07:00:08.427156",
     "exception": false,
     "start_time": "2021-10-28T07:00:07.748933",
     "status": "completed"
    },
    "tags": []
   },
   "outputs": [],
   "source": [
    "timestamps = pd.read_sql(\"select distinct record_time from EBAY_TOP_BERLIN order by record_time desc limit 2\", sqlite3.connect(\"UsedObjects.db\"))"
   ]
  },
  {
   "cell_type": "code",
   "execution_count": 3,
   "id": "periodic-identification",
   "metadata": {
    "execution": {
     "iopub.execute_input": "2021-10-28T07:00:08.508118Z",
     "iopub.status.busy": "2021-10-28T07:00:08.505892Z",
     "iopub.status.idle": "2021-10-28T07:00:08.527188Z",
     "shell.execute_reply": "2021-10-28T07:00:08.528396Z"
    },
    "papermill": {
     "duration": 0.072897,
     "end_time": "2021-10-28T07:00:08.528967",
     "exception": false,
     "start_time": "2021-10-28T07:00:08.456070",
     "status": "completed"
    },
    "tags": []
   },
   "outputs": [
    {
     "data": {
      "text/html": [
       "<div>\n",
       "<style scoped>\n",
       "    .dataframe tbody tr th:only-of-type {\n",
       "        vertical-align: middle;\n",
       "    }\n",
       "\n",
       "    .dataframe tbody tr th {\n",
       "        vertical-align: top;\n",
       "    }\n",
       "\n",
       "    .dataframe thead th {\n",
       "        text-align: right;\n",
       "    }\n",
       "</style>\n",
       "<table border=\"1\" class=\"dataframe\">\n",
       "  <thead>\n",
       "    <tr style=\"text-align: right;\">\n",
       "      <th></th>\n",
       "      <th>RECORD_TIME</th>\n",
       "    </tr>\n",
       "  </thead>\n",
       "  <tbody>\n",
       "    <tr>\n",
       "      <th>0</th>\n",
       "      <td>2021-10-28 09:00</td>\n",
       "    </tr>\n",
       "    <tr>\n",
       "      <th>1</th>\n",
       "      <td>2021-10-28 08:30</td>\n",
       "    </tr>\n",
       "  </tbody>\n",
       "</table>\n",
       "</div>"
      ],
      "text/plain": [
       "        RECORD_TIME\n",
       "0  2021-10-28 09:00\n",
       "1  2021-10-28 08:30"
      ]
     },
     "execution_count": 3,
     "metadata": {},
     "output_type": "execute_result"
    }
   ],
   "source": [
    "timestamps"
   ]
  },
  {
   "cell_type": "code",
   "execution_count": 4,
   "id": "alternate-victory",
   "metadata": {
    "execution": {
     "iopub.execute_input": "2021-10-28T07:00:08.582054Z",
     "iopub.status.busy": "2021-10-28T07:00:08.579707Z",
     "iopub.status.idle": "2021-10-28T07:00:09.548972Z",
     "shell.execute_reply": "2021-10-28T07:00:09.550369Z"
    },
    "papermill": {
     "duration": 1.00002,
     "end_time": "2021-10-28T07:00:09.550811",
     "exception": false,
     "start_time": "2021-10-28T07:00:08.550791",
     "status": "completed"
    },
    "tags": []
   },
   "outputs": [],
   "source": [
    "df = pd.read_sql(\"select * from EBAY_TOP_BERLIN where record_time in (select distinct record_time from EBAY_TOP_BERLIN order by record_time desc limit 2)\", sqlite3.connect(\"UsedObjects.db\"))"
   ]
  },
  {
   "cell_type": "code",
   "execution_count": 5,
   "id": "popular-active",
   "metadata": {
    "execution": {
     "iopub.execute_input": "2021-10-28T07:00:09.621892Z",
     "iopub.status.busy": "2021-10-28T07:00:09.609330Z",
     "iopub.status.idle": "2021-10-28T07:00:09.638261Z",
     "shell.execute_reply": "2021-10-28T07:00:09.639468Z"
    },
    "papermill": {
     "duration": 0.067925,
     "end_time": "2021-10-28T07:00:09.639866",
     "exception": false,
     "start_time": "2021-10-28T07:00:09.571941",
     "status": "completed"
    },
    "tags": []
   },
   "outputs": [],
   "source": [
    "df_pivot = df.pivot_table(index=\"PRODUCT\", columns = \"RECORD_TIME\", values = \"LISTING_COUNT\")"
   ]
  },
  {
   "cell_type": "code",
   "execution_count": 6,
   "id": "union-huntington",
   "metadata": {
    "execution": {
     "iopub.execute_input": "2021-10-28T07:00:09.699346Z",
     "iopub.status.busy": "2021-10-28T07:00:09.696868Z",
     "iopub.status.idle": "2021-10-28T07:00:09.702591Z",
     "shell.execute_reply": "2021-10-28T07:00:09.703874Z"
    },
    "papermill": {
     "duration": 0.042039,
     "end_time": "2021-10-28T07:00:09.704294",
     "exception": false,
     "start_time": "2021-10-28T07:00:09.662255",
     "status": "completed"
    },
    "tags": []
   },
   "outputs": [],
   "source": [
    "df_pivot.columns = [\"stamp_1\", \"stamp_2\"]\n",
    "df_pivot_diff = df_pivot.diff(axis=1)"
   ]
  },
  {
   "cell_type": "code",
   "execution_count": 7,
   "id": "fifth-motion",
   "metadata": {
    "execution": {
     "iopub.execute_input": "2021-10-28T07:00:09.760886Z",
     "iopub.status.busy": "2021-10-28T07:00:09.756045Z",
     "iopub.status.idle": "2021-10-28T07:00:11.275596Z",
     "shell.execute_reply": "2021-10-28T07:00:11.276995Z"
    },
    "papermill": {
     "duration": 1.553093,
     "end_time": "2021-10-28T07:00:11.277472",
     "exception": false,
     "start_time": "2021-10-28T07:00:09.724379",
     "status": "completed"
    },
    "tags": []
   },
   "outputs": [
    {
     "data": {
      "text/plain": [
       "<AxesSubplot:ylabel='PRODUCT'>"
      ]
     },
     "execution_count": 7,
     "metadata": {},
     "output_type": "execute_result"
    },
    {
     "data": {
      "image/png": "[encoded data removed]",
      "text/plain": [
       "<Figure size 432x288 with 1 Axes>"
      ]
     },
     "metadata": {
      "needs_background": "light"
     },
     "output_type": "display_data"
    }
   ],
   "source": [
    "df_pivot_diff.sort_values(\"stamp_2\", ascending = False)[\"stamp_2\"].head(10).plot.barh()"
   ]
  },
  {
   "cell_type": "code",
   "execution_count": null,
   "id": "extra-executive",
   "metadata": {
    "papermill": {
     "duration": 0.022302,
     "end_time": "2021-10-28T07:00:11.325452",
     "exception": false,
     "start_time": "2021-10-28T07:00:11.303150",
     "status": "completed"
    },
    "tags": []
   },
   "outputs": [],
   "source": []
  }
 ],
 "metadata": {
  "kernelspec": {
   "display_name": "Python 3",
   "language": "python",
   "name": "python3"
  },
  "language_info": {
   "codemirror_mode": {
    "name": "ipython",
    "version": 3
   },
   "file_extension": ".py",
   "mimetype": "text/x-python",
   "name": "python",
   "nbconvert_exporter": "python",
   "pygments_lexer": "ipython3",
   "version": "3.9.5"
  },
  "papermill": {
   "default_parameters": {},
   "duration": 7.499638,
   "end_time": "2021-10-28T07:00:11.968869",
   "environment_variables": {},
   "exception": null,
   "input_path": "eBay_Overview.ipynb",
   "output_path": "eBay_Overview.ipynb",
   "parameters": {},
   "start_time": "2021-10-28T07:00:04.469231",
   "version": "2.3.3"
  }
 },
 "nbformat": 4,
 "nbformat_minor": 5
}