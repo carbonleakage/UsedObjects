{
 "cells": [
  {
   "cell_type": "code",
   "execution_count": 1,
   "id": "reverse-picking",
   "metadata": {
    "execution": {
     "iopub.execute_input": "2021-08-15T13:30:07.384107Z",
     "iopub.status.busy": "2021-08-15T13:30:07.382141Z",
     "iopub.status.idle": "2021-08-15T13:30:08.190954Z",
     "shell.execute_reply": "2021-08-15T13:30:08.192226Z"
    },
    "papermill": {
     "duration": 0.861411,
     "end_time": "2021-08-15T13:30:08.192847",
     "exception": false,
     "start_time": "2021-08-15T13:30:07.331436",
     "status": "completed"
    },
    "tags": []
   },
   "outputs": [],
   "source": [
    "import pandas as pd\n",
    "import sqlite3"
   ]
  },
  {
   "cell_type": "code",
   "execution_count": 2,
   "id": "innovative-syndrome",
   "metadata": {
    "execution": {
     "iopub.execute_input": "2021-08-15T13:30:08.246322Z",
     "iopub.status.busy": "2021-08-15T13:30:08.243960Z",
     "iopub.status.idle": "2021-08-15T13:30:08.300738Z",
     "shell.execute_reply": "2021-08-15T13:30:08.302102Z"
    },
    "papermill": {
     "duration": 0.08713,
     "end_time": "2021-08-15T13:30:08.302529",
     "exception": false,
     "start_time": "2021-08-15T13:30:08.215399",
     "status": "completed"
    },
    "tags": []
   },
   "outputs": [],
   "source": [
    "timestamps = pd.read_sql(\"select distinct record_time from EBAY_TOP_BERLIN order by record_time desc limit 2\", sqlite3.connect(\"UsedObjects.db\"))"
   ]
  },
  {
   "cell_type": "code",
   "execution_count": 3,
   "id": "periodic-identification",
   "metadata": {
    "execution": {
     "iopub.execute_input": "2021-08-15T13:30:08.368371Z",
     "iopub.status.busy": "2021-08-15T13:30:08.366333Z",
     "iopub.status.idle": "2021-08-15T13:30:08.389958Z",
     "shell.execute_reply": "2021-08-15T13:30:08.388439Z"
    },
    "papermill": {
     "duration": 0.068347,
     "end_time": "2021-08-15T13:30:08.390351",
     "exception": false,
     "start_time": "2021-08-15T13:30:08.322004",
     "status": "completed"
    },
    "tags": []
   },
   "outputs": [
    {
     "data": {
      "text/html": [
       "<div>\n",
       "<style scoped>\n",
       "    .dataframe tbody tr th:only-of-type {\n",
       "        vertical-align: middle;\n",
       "    }\n",
       "\n",
       "    .dataframe tbody tr th {\n",
       "        vertical-align: top;\n",
       "    }\n",
       "\n",
       "    .dataframe thead th {\n",
       "        text-align: right;\n",
       "    }\n",
       "</style>\n",
       "<table border=\"1\" class=\"dataframe\">\n",
       "  <thead>\n",
       "    <tr style=\"text-align: right;\">\n",
       "      <th></th>\n",
       "      <th>RECORD_TIME</th>\n",
       "    </tr>\n",
       "  </thead>\n",
       "  <tbody>\n",
       "    <tr>\n",
       "      <th>0</th>\n",
       "      <td>2021-08-15 15:30</td>\n",
       "    </tr>\n",
       "    <tr>\n",
       "      <th>1</th>\n",
       "      <td>2021-08-15 15:00</td>\n",
       "    </tr>\n",
       "  </tbody>\n",
       "</table>\n",
       "</div>"
      ],
      "text/plain": [
       "        RECORD_TIME\n",
       "0  2021-08-15 15:30\n",
       "1  2021-08-15 15:00"
      ]
     },
     "execution_count": 3,
     "metadata": {},
     "output_type": "execute_result"
    }
   ],
   "source": [
    "timestamps"
   ]
  },
  {
   "cell_type": "code",
   "execution_count": 4,
   "id": "alternate-victory",
   "metadata": {
    "execution": {
     "iopub.execute_input": "2021-08-15T13:30:08.443437Z",
     "iopub.status.busy": "2021-08-15T13:30:08.441441Z",
     "iopub.status.idle": "2021-08-15T13:30:08.523925Z",
     "shell.execute_reply": "2021-08-15T13:30:08.525125Z"
    },
    "papermill": {
     "duration": 0.112559,
     "end_time": "2021-08-15T13:30:08.525519",
     "exception": false,
     "start_time": "2021-08-15T13:30:08.412960",
     "status": "completed"
    },
    "tags": []
   },
   "outputs": [],
   "source": [
    "df = pd.read_sql(\"select * from EBAY_TOP_BERLIN where record_time in (select distinct record_time from EBAY_TOP_BERLIN order by record_time desc limit 2)\", sqlite3.connect(\"UsedObjects.db\"))"
   ]
  },
  {
   "cell_type": "code",
   "execution_count": 5,
   "id": "popular-active",
   "metadata": {
    "execution": {
     "iopub.execute_input": "2021-08-15T13:30:08.586635Z",
     "iopub.status.busy": "2021-08-15T13:30:08.584300Z",
     "iopub.status.idle": "2021-08-15T13:30:08.611854Z",
     "shell.execute_reply": "2021-08-15T13:30:08.613055Z"
    },
    "papermill": {
     "duration": 0.067536,
     "end_time": "2021-08-15T13:30:08.613451",
     "exception": false,
     "start_time": "2021-08-15T13:30:08.545915",
     "status": "completed"
    },
    "tags": []
   },
   "outputs": [],
   "source": [
    "df_pivot = df.pivot_table(index=\"PRODUCT\", columns = \"RECORD_TIME\", values = \"LISTING_COUNT\")"
   ]
  },
  {
   "cell_type": "code",
   "execution_count": 6,
   "id": "union-huntington",
   "metadata": {
    "execution": {
     "iopub.execute_input": "2021-08-15T13:30:08.670022Z",
     "iopub.status.busy": "2021-08-15T13:30:08.667952Z",
     "iopub.status.idle": "2021-08-15T13:30:08.674988Z",
     "shell.execute_reply": "2021-08-15T13:30:08.673456Z"
    },
    "papermill": {
     "duration": 0.040939,
     "end_time": "2021-08-15T13:30:08.675373",
     "exception": false,
     "start_time": "2021-08-15T13:30:08.634434",
     "status": "completed"
    },
    "tags": []
   },
   "outputs": [],
   "source": [
    "df_pivot.columns = [\"stamp_1\", \"stamp_2\"]\n",
    "df_pivot_diff = df_pivot.diff(axis=1)"
   ]
  },
  {
   "cell_type": "code",
   "execution_count": 7,
   "id": "fifth-motion",
   "metadata": {
    "execution": {
     "iopub.execute_input": "2021-08-15T13:30:08.732623Z",
     "iopub.status.busy": "2021-08-15T13:30:08.730242Z",
     "iopub.status.idle": "2021-08-15T13:30:10.220057Z",
     "shell.execute_reply": "2021-08-15T13:30:10.221343Z"
    },
    "papermill": {
     "duration": 1.523608,
     "end_time": "2021-08-15T13:30:10.221758",
     "exception": false,
     "start_time": "2021-08-15T13:30:08.698150",
     "status": "completed"
    },
    "tags": []
   },
   "outputs": [
    {
     "data": {
      "text/plain": [
       "<AxesSubplot:ylabel='PRODUCT'>"
      ]
     },
     "execution_count": 7,
     "metadata": {},
     "output_type": "execute_result"
    },
    {
     "data": {
      "image/png": "[encoded data removed]",
      "text/plain": [
       "<Figure size 432x288 with 1 Axes>"
      ]
     },
     "metadata": {
      "needs_background": "light"
     },
     "output_type": "display_data"
    }
   ],
   "source": [
    "df_pivot_diff.sort_values(\"stamp_2\", ascending = False)[\"stamp_2\"].head(10).plot.barh()"
   ]
  },
  {
   "cell_type": "code",
   "execution_count": null,
   "id": "extra-executive",
   "metadata": {
    "papermill": {
     "duration": 0.02255,
     "end_time": "2021-08-15T13:30:10.268981",
     "exception": false,
     "start_time": "2021-08-15T13:30:10.246431",
     "status": "completed"
    },
    "tags": []
   },
   "outputs": [],
   "source": []
  }
 ],
 "metadata": {
  "kernelspec": {
   "display_name": "Python 3",
   "language": "python",
   "name": "python3"
  },
  "language_info": {
   "codemirror_mode": {
    "name": "ipython",
    "version": 3
   },
   "file_extension": ".py",
   "mimetype": "text/x-python",
   "name": "python",
   "nbconvert_exporter": "python",
   "pygments_lexer": "ipython3",
   "version": "3.9.5"
  },
  "papermill": {
   "default_parameters": {},
   "duration": 6.827262,
   "end_time": "2021-08-15T13:30:11.746206",
   "environment_variables": {},
   "exception": null,
   "input_path": "eBay_Overview.ipynb",
   "output_path": "eBay_Overview.ipynb",
   "parameters": {},
   "start_time": "2021-08-15T13:30:04.918944",
   "version": "2.3.3"
  }
 },
 "nbformat": 4,
 "nbformat_minor": 5
}