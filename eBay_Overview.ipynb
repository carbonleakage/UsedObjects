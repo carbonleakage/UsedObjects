{
 "cells": [
  {
   "cell_type": "code",
   "execution_count": 1,
   "id": "reverse-picking",
   "metadata": {
    "execution": {
     "iopub.execute_input": "2021-11-11T09:00:08.391391Z",
     "iopub.status.busy": "2021-11-11T09:00:08.378873Z",
     "iopub.status.idle": "2021-11-11T09:00:09.347916Z",
     "shell.execute_reply": "2021-11-11T09:00:09.350476Z"
    },
    "papermill": {
     "duration": 1.01961,
     "end_time": "2021-11-11T09:00:09.351660",
     "exception": false,
     "start_time": "2021-11-11T09:00:08.332050",
     "status": "completed"
    },
    "tags": []
   },
   "outputs": [],
   "source": [
    "import pandas as pd\n",
    "import sqlite3"
   ]
  },
  {
   "cell_type": "code",
   "execution_count": 2,
   "id": "innovative-syndrome",
   "metadata": {
    "execution": {
     "iopub.execute_input": "2021-11-11T09:00:09.406183Z",
     "iopub.status.busy": "2021-11-11T09:00:09.403916Z",
     "iopub.status.idle": "2021-11-11T09:00:10.187568Z",
     "shell.execute_reply": "2021-11-11T09:00:10.189367Z"
    },
    "papermill": {
     "duration": 0.817287,
     "end_time": "2021-11-11T09:00:10.189849",
     "exception": false,
     "start_time": "2021-11-11T09:00:09.372562",
     "status": "completed"
    },
    "tags": []
   },
   "outputs": [],
   "source": [
    "timestamps = pd.read_sql(\"select distinct record_time from EBAY_TOP_BERLIN order by record_time desc limit 2\", sqlite3.connect(\"UsedObjects.db\"))"
   ]
  },
  {
   "cell_type": "code",
   "execution_count": 3,
   "id": "periodic-identification",
   "metadata": {
    "execution": {
     "iopub.execute_input": "2021-11-11T09:00:10.262758Z",
     "iopub.status.busy": "2021-11-11T09:00:10.257183Z",
     "iopub.status.idle": "2021-11-11T09:00:10.280040Z",
     "shell.execute_reply": "2021-11-11T09:00:10.281734Z"
    },
    "papermill": {
     "duration": 0.072089,
     "end_time": "2021-11-11T09:00:10.282249",
     "exception": false,
     "start_time": "2021-11-11T09:00:10.210160",
     "status": "completed"
    },
    "tags": []
   },
   "outputs": [
    {
     "data": {
      "text/html": [
       "<div>\n",
       "<style scoped>\n",
       "    .dataframe tbody tr th:only-of-type {\n",
       "        vertical-align: middle;\n",
       "    }\n",
       "\n",
       "    .dataframe tbody tr th {\n",
       "        vertical-align: top;\n",
       "    }\n",
       "\n",
       "    .dataframe thead th {\n",
       "        text-align: right;\n",
       "    }\n",
       "</style>\n",
       "<table border=\"1\" class=\"dataframe\">\n",
       "  <thead>\n",
       "    <tr style=\"text-align: right;\">\n",
       "      <th></th>\n",
       "      <th>RECORD_TIME</th>\n",
       "    </tr>\n",
       "  </thead>\n",
       "  <tbody>\n",
       "    <tr>\n",
       "      <th>0</th>\n",
       "      <td>2021-11-11 10:00</td>\n",
       "    </tr>\n",
       "    <tr>\n",
       "      <th>1</th>\n",
       "      <td>2021-11-11 09:30</td>\n",
       "    </tr>\n",
       "  </tbody>\n",
       "</table>\n",
       "</div>"
      ],
      "text/plain": [
       "        RECORD_TIME\n",
       "0  2021-11-11 10:00\n",
       "1  2021-11-11 09:30"
      ]
     },
     "execution_count": 3,
     "metadata": {},
     "output_type": "execute_result"
    }
   ],
   "source": [
    "timestamps"
   ]
  },
  {
   "cell_type": "code",
   "execution_count": 4,
   "id": "alternate-victory",
   "metadata": {
    "execution": {
     "iopub.execute_input": "2021-11-11T09:00:10.335074Z",
     "iopub.status.busy": "2021-11-11T09:00:10.332867Z",
     "iopub.status.idle": "2021-11-11T09:00:11.494091Z",
     "shell.execute_reply": "2021-11-11T09:00:11.495647Z"
    },
    "papermill": {
     "duration": 1.192886,
     "end_time": "2021-11-11T09:00:11.496165",
     "exception": false,
     "start_time": "2021-11-11T09:00:10.303279",
     "status": "completed"
    },
    "tags": []
   },
   "outputs": [],
   "source": [
    "df = pd.read_sql(\"select * from EBAY_TOP_BERLIN where record_time in (select distinct record_time from EBAY_TOP_BERLIN order by record_time desc limit 2)\", sqlite3.connect(\"UsedObjects.db\"))"
   ]
  },
  {
   "cell_type": "code",
   "execution_count": 5,
   "id": "popular-active",
   "metadata": {
    "execution": {
     "iopub.execute_input": "2021-11-11T09:00:11.574606Z",
     "iopub.status.busy": "2021-11-11T09:00:11.571634Z",
     "iopub.status.idle": "2021-11-11T09:00:11.601644Z",
     "shell.execute_reply": "2021-11-11T09:00:11.603320Z"
    },
    "papermill": {
     "duration": 0.084148,
     "end_time": "2021-11-11T09:00:11.603824",
     "exception": false,
     "start_time": "2021-11-11T09:00:11.519676",
     "status": "completed"
    },
    "tags": []
   },
   "outputs": [],
   "source": [
    "df_pivot = df.pivot_table(index=\"PRODUCT\", columns = \"RECORD_TIME\", values = \"LISTING_COUNT\")"
   ]
  },
  {
   "cell_type": "code",
   "execution_count": 6,
   "id": "union-huntington",
   "metadata": {
    "execution": {
     "iopub.execute_input": "2021-11-11T09:00:11.665817Z",
     "iopub.status.busy": "2021-11-11T09:00:11.663592Z",
     "iopub.status.idle": "2021-11-11T09:00:11.669394Z",
     "shell.execute_reply": "2021-11-11T09:00:11.670743Z"
    },
    "papermill": {
     "duration": 0.044812,
     "end_time": "2021-11-11T09:00:11.671219",
     "exception": false,
     "start_time": "2021-11-11T09:00:11.626407",
     "status": "completed"
    },
    "tags": []
   },
   "outputs": [],
   "source": [
    "df_pivot.columns = [\"stamp_1\", \"stamp_2\"]\n",
    "df_pivot_diff = df_pivot.diff(axis=1)"
   ]
  },
  {
   "cell_type": "code",
   "execution_count": 7,
   "id": "fifth-motion",
   "metadata": {
    "execution": {
     "iopub.execute_input": "2021-11-11T09:00:11.726422Z",
     "iopub.status.busy": "2021-11-11T09:00:11.723936Z",
     "iopub.status.idle": "2021-11-11T09:00:13.659191Z",
     "shell.execute_reply": "2021-11-11T09:00:13.661581Z"
    },
    "papermill": {
     "duration": 1.971524,
     "end_time": "2021-11-11T09:00:13.662313",
     "exception": false,
     "start_time": "2021-11-11T09:00:11.690789",
     "status": "completed"
    },
    "tags": []
   },
   "outputs": [
    {
     "data": {
      "text/plain": [
       "<AxesSubplot:ylabel='PRODUCT'>"
      ]
     },
     "execution_count": 7,
     "metadata": {},
     "output_type": "execute_result"
    },
    {
     "data": {
      "image/png": "[encoded data removed]",
      "text/plain": [
       "<Figure size 432x288 with 1 Axes>"
      ]
     },
     "metadata": {
      "needs_background": "light"
     },
     "output_type": "display_data"
    }
   ],
   "source": [
    "df_pivot_diff.sort_values(\"stamp_2\", ascending = False)[\"stamp_2\"].head(10).plot.barh()"
   ]
  },
  {
   "cell_type": "code",
   "execution_count": null,
   "id": "extra-executive",
   "metadata": {
    "papermill": {
     "duration": 0.02942,
     "end_time": "2021-11-11T09:00:13.727821",
     "exception": false,
     "start_time": "2021-11-11T09:00:13.698401",
     "status": "completed"
    },
    "tags": []
   },
   "outputs": [],
   "source": []
  }
 ],
 "metadata": {
  "kernelspec": {
   "display_name": "Python 3",
   "language": "python",
   "name": "python3"
  },
  "language_info": {
   "codemirror_mode": {
    "name": "ipython",
    "version": 3
   },
   "file_extension": ".py",
   "mimetype": "text/x-python",
   "name": "python",
   "nbconvert_exporter": "python",
   "pygments_lexer": "ipython3",
   "version": "3.9.5"
  },
  "papermill": {
   "default_parameters": {},
   "duration": 8.78989,
   "end_time": "2021-11-11T09:00:14.391135",
   "environment_variables": {},
   "exception": null,
   "input_path": "eBay_Overview.ipynb",
   "output_path": "eBay_Overview.ipynb",
   "parameters": {},
   "start_time": "2021-11-11T09:00:05.601245",
   "version": "2.3.3"
  }
 },
 "nbformat": 4,
 "nbformat_minor": 5
}