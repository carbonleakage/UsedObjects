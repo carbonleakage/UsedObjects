{
 "cells": [
  {
   "cell_type": "code",
   "execution_count": 1,
   "id": "reverse-picking",
   "metadata": {
    "execution": {
     "iopub.execute_input": "2021-10-24T17:00:07.466230Z",
     "iopub.status.busy": "2021-10-24T17:00:07.464161Z",
     "iopub.status.idle": "2021-10-24T17:00:08.277280Z",
     "shell.execute_reply": "2021-10-24T17:00:08.275642Z"
    },
    "papermill": {
     "duration": 0.861127,
     "end_time": "2021-10-24T17:00:08.277727",
     "exception": false,
     "start_time": "2021-10-24T17:00:07.416600",
     "status": "completed"
    },
    "tags": []
   },
   "outputs": [],
   "source": [
    "import pandas as pd\n",
    "import sqlite3"
   ]
  },
  {
   "cell_type": "code",
   "execution_count": 2,
   "id": "innovative-syndrome",
   "metadata": {
    "execution": {
     "iopub.execute_input": "2021-10-24T17:00:08.329135Z",
     "iopub.status.busy": "2021-10-24T17:00:08.327074Z",
     "iopub.status.idle": "2021-10-24T17:00:08.956134Z",
     "shell.execute_reply": "2021-10-24T17:00:08.957456Z"
    },
    "papermill": {
     "duration": 0.659702,
     "end_time": "2021-10-24T17:00:08.957881",
     "exception": false,
     "start_time": "2021-10-24T17:00:08.298179",
     "status": "completed"
    },
    "tags": []
   },
   "outputs": [],
   "source": [
    "timestamps = pd.read_sql(\"select distinct record_time from EBAY_TOP_BERLIN order by record_time desc limit 2\", sqlite3.connect(\"UsedObjects.db\"))"
   ]
  },
  {
   "cell_type": "code",
   "execution_count": 3,
   "id": "periodic-identification",
   "metadata": {
    "execution": {
     "iopub.execute_input": "2021-10-24T17:00:09.034296Z",
     "iopub.status.busy": "2021-10-24T17:00:09.032169Z",
     "iopub.status.idle": "2021-10-24T17:00:09.053198Z",
     "shell.execute_reply": "2021-10-24T17:00:09.054408Z"
    },
    "papermill": {
     "duration": 0.071487,
     "end_time": "2021-10-24T17:00:09.054844",
     "exception": false,
     "start_time": "2021-10-24T17:00:08.983357",
     "status": "completed"
    },
    "tags": []
   },
   "outputs": [
    {
     "data": {
      "text/html": [
       "<div>\n",
       "<style scoped>\n",
       "    .dataframe tbody tr th:only-of-type {\n",
       "        vertical-align: middle;\n",
       "    }\n",
       "\n",
       "    .dataframe tbody tr th {\n",
       "        vertical-align: top;\n",
       "    }\n",
       "\n",
       "    .dataframe thead th {\n",
       "        text-align: right;\n",
       "    }\n",
       "</style>\n",
       "<table border=\"1\" class=\"dataframe\">\n",
       "  <thead>\n",
       "    <tr style=\"text-align: right;\">\n",
       "      <th></th>\n",
       "      <th>RECORD_TIME</th>\n",
       "    </tr>\n",
       "  </thead>\n",
       "  <tbody>\n",
       "    <tr>\n",
       "      <th>0</th>\n",
       "      <td>2021-10-24 19:00</td>\n",
       "    </tr>\n",
       "    <tr>\n",
       "      <th>1</th>\n",
       "      <td>2021-10-24 18:30</td>\n",
       "    </tr>\n",
       "  </tbody>\n",
       "</table>\n",
       "</div>"
      ],
      "text/plain": [
       "        RECORD_TIME\n",
       "0  2021-10-24 19:00\n",
       "1  2021-10-24 18:30"
      ]
     },
     "execution_count": 3,
     "metadata": {},
     "output_type": "execute_result"
    }
   ],
   "source": [
    "timestamps"
   ]
  },
  {
   "cell_type": "code",
   "execution_count": 4,
   "id": "alternate-victory",
   "metadata": {
    "execution": {
     "iopub.execute_input": "2021-10-24T17:00:09.107436Z",
     "iopub.status.busy": "2021-10-24T17:00:09.105119Z",
     "iopub.status.idle": "2021-10-24T17:00:10.094786Z",
     "shell.execute_reply": "2021-10-24T17:00:10.096006Z"
    },
    "papermill": {
     "duration": 1.020115,
     "end_time": "2021-10-24T17:00:10.096413",
     "exception": false,
     "start_time": "2021-10-24T17:00:09.076298",
     "status": "completed"
    },
    "tags": []
   },
   "outputs": [],
   "source": [
    "df = pd.read_sql(\"select * from EBAY_TOP_BERLIN where record_time in (select distinct record_time from EBAY_TOP_BERLIN order by record_time desc limit 2)\", sqlite3.connect(\"UsedObjects.db\"))"
   ]
  },
  {
   "cell_type": "code",
   "execution_count": 5,
   "id": "popular-active",
   "metadata": {
    "execution": {
     "iopub.execute_input": "2021-10-24T17:00:10.168128Z",
     "iopub.status.busy": "2021-10-24T17:00:10.155054Z",
     "iopub.status.idle": "2021-10-24T17:00:10.184481Z",
     "shell.execute_reply": "2021-10-24T17:00:10.185970Z"
    },
    "papermill": {
     "duration": 0.068504,
     "end_time": "2021-10-24T17:00:10.186425",
     "exception": false,
     "start_time": "2021-10-24T17:00:10.117921",
     "status": "completed"
    },
    "tags": []
   },
   "outputs": [],
   "source": [
    "df_pivot = df.pivot_table(index=\"PRODUCT\", columns = \"RECORD_TIME\", values = \"LISTING_COUNT\")"
   ]
  },
  {
   "cell_type": "code",
   "execution_count": 6,
   "id": "union-huntington",
   "metadata": {
    "execution": {
     "iopub.execute_input": "2021-10-24T17:00:10.244520Z",
     "iopub.status.busy": "2021-10-24T17:00:10.242074Z",
     "iopub.status.idle": "2021-10-24T17:00:10.247940Z",
     "shell.execute_reply": "2021-10-24T17:00:10.249206Z"
    },
    "papermill": {
     "duration": 0.042497,
     "end_time": "2021-10-24T17:00:10.249647",
     "exception": false,
     "start_time": "2021-10-24T17:00:10.207150",
     "status": "completed"
    },
    "tags": []
   },
   "outputs": [],
   "source": [
    "df_pivot.columns = [\"stamp_1\", \"stamp_2\"]\n",
    "df_pivot_diff = df_pivot.diff(axis=1)"
   ]
  },
  {
   "cell_type": "code",
   "execution_count": 7,
   "id": "fifth-motion",
   "metadata": {
    "execution": {
     "iopub.execute_input": "2021-10-24T17:00:10.304197Z",
     "iopub.status.busy": "2021-10-24T17:00:10.301738Z",
     "iopub.status.idle": "2021-10-24T17:00:11.800764Z",
     "shell.execute_reply": "2021-10-24T17:00:11.798865Z"
    },
    "papermill": {
     "duration": 1.530662,
     "end_time": "2021-10-24T17:00:11.801155",
     "exception": false,
     "start_time": "2021-10-24T17:00:10.270493",
     "status": "completed"
    },
    "tags": []
   },
   "outputs": [
    {
     "data": {
      "text/plain": [
       "<AxesSubplot:ylabel='PRODUCT'>"
      ]
     },
     "execution_count": 7,
     "metadata": {},
     "output_type": "execute_result"
    },
    {
     "data": {
      "image/png": "[encoded data removed]",
      "text/plain": [
       "<Figure size 432x288 with 1 Axes>"
      ]
     },
     "metadata": {
      "needs_background": "light"
     },
     "output_type": "display_data"
    }
   ],
   "source": [
    "df_pivot_diff.sort_values(\"stamp_2\", ascending = False)[\"stamp_2\"].head(10).plot.barh()"
   ]
  },
  {
   "cell_type": "code",
   "execution_count": null,
   "id": "extra-executive",
   "metadata": {
    "papermill": {
     "duration": 0.022337,
     "end_time": "2021-10-24T17:00:11.848967",
     "exception": false,
     "start_time": "2021-10-24T17:00:11.826630",
     "status": "completed"
    },
    "tags": []
   },
   "outputs": [],
   "source": []
  }
 ],
 "metadata": {
  "kernelspec": {
   "display_name": "Python 3",
   "language": "python",
   "name": "python3"
  },
  "language_info": {
   "codemirror_mode": {
    "name": "ipython",
    "version": 3
   },
   "file_extension": ".py",
   "mimetype": "text/x-python",
   "name": "python",
   "nbconvert_exporter": "python",
   "pygments_lexer": "ipython3",
   "version": "3.9.5"
  },
  "papermill": {
   "default_parameters": {},
   "duration": 7.598108,
   "end_time": "2021-10-24T17:00:12.593970",
   "environment_variables": {},
   "exception": null,
   "input_path": "eBay_Overview.ipynb",
   "output_path": "eBay_Overview.ipynb",
   "parameters": {},
   "start_time": "2021-10-24T17:00:04.995862",
   "version": "2.3.3"
  }
 },
 "nbformat": 4,
 "nbformat_minor": 5
}