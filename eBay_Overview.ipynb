{
 "cells": [
  {
   "cell_type": "code",
   "execution_count": 1,
   "id": "reverse-picking",
   "metadata": {
    "execution": {
     "iopub.execute_input": "2021-09-30T02:30:06.913125Z",
     "iopub.status.busy": "2021-09-30T02:30:06.911130Z",
     "iopub.status.idle": "2021-09-30T02:30:07.720109Z",
     "shell.execute_reply": "2021-09-30T02:30:07.721382Z"
    },
    "papermill": {
     "duration": 0.861372,
     "end_time": "2021-09-30T02:30:07.722006",
     "exception": false,
     "start_time": "2021-09-30T02:30:06.860634",
     "status": "completed"
    },
    "tags": []
   },
   "outputs": [],
   "source": [
    "import pandas as pd\n",
    "import sqlite3"
   ]
  },
  {
   "cell_type": "code",
   "execution_count": 2,
   "id": "innovative-syndrome",
   "metadata": {
    "execution": {
     "iopub.execute_input": "2021-09-30T02:30:07.775907Z",
     "iopub.status.busy": "2021-09-30T02:30:07.773506Z",
     "iopub.status.idle": "2021-09-30T02:30:08.184141Z",
     "shell.execute_reply": "2021-09-30T02:30:08.185362Z"
    },
    "papermill": {
     "duration": 0.440615,
     "end_time": "2021-09-30T02:30:08.185768",
     "exception": false,
     "start_time": "2021-09-30T02:30:07.745153",
     "status": "completed"
    },
    "tags": []
   },
   "outputs": [],
   "source": [
    "timestamps = pd.read_sql(\"select distinct record_time from EBAY_TOP_BERLIN order by record_time desc limit 2\", sqlite3.connect(\"UsedObjects.db\"))"
   ]
  },
  {
   "cell_type": "code",
   "execution_count": 3,
   "id": "periodic-identification",
   "metadata": {
    "execution": {
     "iopub.execute_input": "2021-09-30T02:30:08.250891Z",
     "iopub.status.busy": "2021-09-30T02:30:08.248779Z",
     "iopub.status.idle": "2021-09-30T02:30:08.268745Z",
     "shell.execute_reply": "2021-09-30T02:30:08.270048Z"
    },
    "papermill": {
     "duration": 0.063515,
     "end_time": "2021-09-30T02:30:08.270473",
     "exception": false,
     "start_time": "2021-09-30T02:30:08.206958",
     "status": "completed"
    },
    "tags": []
   },
   "outputs": [
    {
     "data": {
      "text/html": [
       "<div>\n",
       "<style scoped>\n",
       "    .dataframe tbody tr th:only-of-type {\n",
       "        vertical-align: middle;\n",
       "    }\n",
       "\n",
       "    .dataframe tbody tr th {\n",
       "        vertical-align: top;\n",
       "    }\n",
       "\n",
       "    .dataframe thead th {\n",
       "        text-align: right;\n",
       "    }\n",
       "</style>\n",
       "<table border=\"1\" class=\"dataframe\">\n",
       "  <thead>\n",
       "    <tr style=\"text-align: right;\">\n",
       "      <th></th>\n",
       "      <th>RECORD_TIME</th>\n",
       "    </tr>\n",
       "  </thead>\n",
       "  <tbody>\n",
       "    <tr>\n",
       "      <th>0</th>\n",
       "      <td>2021-09-30 04:30</td>\n",
       "    </tr>\n",
       "    <tr>\n",
       "      <th>1</th>\n",
       "      <td>2021-09-30 04:00</td>\n",
       "    </tr>\n",
       "  </tbody>\n",
       "</table>\n",
       "</div>"
      ],
      "text/plain": [
       "        RECORD_TIME\n",
       "0  2021-09-30 04:30\n",
       "1  2021-09-30 04:00"
      ]
     },
     "execution_count": 3,
     "metadata": {},
     "output_type": "execute_result"
    }
   ],
   "source": [
    "timestamps"
   ]
  },
  {
   "cell_type": "code",
   "execution_count": 4,
   "id": "alternate-victory",
   "metadata": {
    "execution": {
     "iopub.execute_input": "2021-09-30T02:30:08.322926Z",
     "iopub.status.busy": "2021-09-30T02:30:08.320575Z",
     "iopub.status.idle": "2021-09-30T02:30:08.936902Z",
     "shell.execute_reply": "2021-09-30T02:30:08.938144Z"
    },
    "papermill": {
     "duration": 0.646875,
     "end_time": "2021-09-30T02:30:08.938549",
     "exception": false,
     "start_time": "2021-09-30T02:30:08.291674",
     "status": "completed"
    },
    "tags": []
   },
   "outputs": [],
   "source": [
    "df = pd.read_sql(\"select * from EBAY_TOP_BERLIN where record_time in (select distinct record_time from EBAY_TOP_BERLIN order by record_time desc limit 2)\", sqlite3.connect(\"UsedObjects.db\"))"
   ]
  },
  {
   "cell_type": "code",
   "execution_count": 5,
   "id": "popular-active",
   "metadata": {
    "execution": {
     "iopub.execute_input": "2021-09-30T02:30:09.009077Z",
     "iopub.status.busy": "2021-09-30T02:30:08.996414Z",
     "iopub.status.idle": "2021-09-30T02:30:09.025457Z",
     "shell.execute_reply": "2021-09-30T02:30:09.026765Z"
    },
    "papermill": {
     "duration": 0.068109,
     "end_time": "2021-09-30T02:30:09.027247",
     "exception": false,
     "start_time": "2021-09-30T02:30:08.959138",
     "status": "completed"
    },
    "tags": []
   },
   "outputs": [],
   "source": [
    "df_pivot = df.pivot_table(index=\"PRODUCT\", columns = \"RECORD_TIME\", values = \"LISTING_COUNT\")"
   ]
  },
  {
   "cell_type": "code",
   "execution_count": 6,
   "id": "union-huntington",
   "metadata": {
    "execution": {
     "iopub.execute_input": "2021-09-30T02:30:09.083921Z",
     "iopub.status.busy": "2021-09-30T02:30:09.081893Z",
     "iopub.status.idle": "2021-09-30T02:30:09.087070Z",
     "shell.execute_reply": "2021-09-30T02:30:09.088319Z"
    },
    "papermill": {
     "duration": 0.040118,
     "end_time": "2021-09-30T02:30:09.088724",
     "exception": false,
     "start_time": "2021-09-30T02:30:09.048606",
     "status": "completed"
    },
    "tags": []
   },
   "outputs": [],
   "source": [
    "df_pivot.columns = [\"stamp_1\", \"stamp_2\"]\n",
    "df_pivot_diff = df_pivot.diff(axis=1)"
   ]
  },
  {
   "cell_type": "code",
   "execution_count": 7,
   "id": "fifth-motion",
   "metadata": {
    "execution": {
     "iopub.execute_input": "2021-09-30T02:30:09.143967Z",
     "iopub.status.busy": "2021-09-30T02:30:09.141401Z",
     "iopub.status.idle": "2021-09-30T02:30:10.634047Z",
     "shell.execute_reply": "2021-09-30T02:30:10.635582Z"
    },
    "papermill": {
     "duration": 1.525977,
     "end_time": "2021-09-30T02:30:10.636038",
     "exception": false,
     "start_time": "2021-09-30T02:30:09.110061",
     "status": "completed"
    },
    "tags": []
   },
   "outputs": [
    {
     "data": {
      "text/plain": [
       "<AxesSubplot:ylabel='PRODUCT'>"
      ]
     },
     "execution_count": 7,
     "metadata": {},
     "output_type": "execute_result"
    },
    {
     "data": {
      "image/png": "[encoded data removed]",
      "text/plain": [
       "<Figure size 432x288 with 1 Axes>"
      ]
     },
     "metadata": {
      "needs_background": "light"
     },
     "output_type": "display_data"
    }
   ],
   "source": [
    "df_pivot_diff.sort_values(\"stamp_2\", ascending = False)[\"stamp_2\"].head(10).plot.barh()"
   ]
  },
  {
   "cell_type": "code",
   "execution_count": null,
   "id": "extra-executive",
   "metadata": {
    "papermill": {
     "duration": 0.0225,
     "end_time": "2021-09-30T02:30:10.684468",
     "exception": false,
     "start_time": "2021-09-30T02:30:10.661968",
     "status": "completed"
    },
    "tags": []
   },
   "outputs": [],
   "source": []
  }
 ],
 "metadata": {
  "kernelspec": {
   "display_name": "Python 3",
   "language": "python",
   "name": "python3"
  },
  "language_info": {
   "codemirror_mode": {
    "name": "ipython",
    "version": 3
   },
   "file_extension": ".py",
   "mimetype": "text/x-python",
   "name": "python",
   "nbconvert_exporter": "python",
   "pygments_lexer": "ipython3",
   "version": "3.9.5"
  },
  "papermill": {
   "default_parameters": {},
   "duration": 7.826241,
   "end_time": "2021-09-30T02:30:12.267738",
   "environment_variables": {},
   "exception": null,
   "input_path": "eBay_Overview.ipynb",
   "output_path": "eBay_Overview.ipynb",
   "parameters": {},
   "start_time": "2021-09-30T02:30:04.441497",
   "version": "2.3.3"
  }
 },
 "nbformat": 4,
 "nbformat_minor": 5
}