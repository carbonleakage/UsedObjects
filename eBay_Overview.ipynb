{
 "cells": [
  {
   "cell_type": "code",
   "execution_count": 1,
   "id": "reverse-picking",
   "metadata": {
    "execution": {
     "iopub.execute_input": "2021-09-02T20:00:07.337088Z",
     "iopub.status.busy": "2021-09-02T20:00:07.335134Z",
     "iopub.status.idle": "2021-09-02T20:00:08.142381Z",
     "shell.execute_reply": "2021-09-02T20:00:08.140820Z"
    },
    "papermill": {
     "duration": 0.859842,
     "end_time": "2021-09-02T20:00:08.142782",
     "exception": false,
     "start_time": "2021-09-02T20:00:07.282940",
     "status": "completed"
    },
    "tags": []
   },
   "outputs": [],
   "source": [
    "import pandas as pd\n",
    "import sqlite3"
   ]
  },
  {
   "cell_type": "code",
   "execution_count": 2,
   "id": "innovative-syndrome",
   "metadata": {
    "execution": {
     "iopub.execute_input": "2021-09-02T20:00:08.194168Z",
     "iopub.status.busy": "2021-09-02T20:00:08.192331Z",
     "iopub.status.idle": "2021-09-02T20:00:08.383420Z",
     "shell.execute_reply": "2021-09-02T20:00:08.384548Z"
    },
    "papermill": {
     "duration": 0.220499,
     "end_time": "2021-09-02T20:00:08.384962",
     "exception": false,
     "start_time": "2021-09-02T20:00:08.164463",
     "status": "completed"
    },
    "tags": []
   },
   "outputs": [],
   "source": [
    "timestamps = pd.read_sql(\"select distinct record_time from EBAY_TOP_BERLIN order by record_time desc limit 2\", sqlite3.connect(\"UsedObjects.db\"))"
   ]
  },
  {
   "cell_type": "code",
   "execution_count": 3,
   "id": "periodic-identification",
   "metadata": {
    "execution": {
     "iopub.execute_input": "2021-09-02T20:00:08.453546Z",
     "iopub.status.busy": "2021-09-02T20:00:08.451539Z",
     "iopub.status.idle": "2021-09-02T20:00:08.471579Z",
     "shell.execute_reply": "2021-09-02T20:00:08.473066Z"
    },
    "papermill": {
     "duration": 0.065937,
     "end_time": "2021-09-02T20:00:08.473530",
     "exception": false,
     "start_time": "2021-09-02T20:00:08.407593",
     "status": "completed"
    },
    "tags": []
   },
   "outputs": [
    {
     "data": {
      "text/html": [
       "<div>\n",
       "<style scoped>\n",
       "    .dataframe tbody tr th:only-of-type {\n",
       "        vertical-align: middle;\n",
       "    }\n",
       "\n",
       "    .dataframe tbody tr th {\n",
       "        vertical-align: top;\n",
       "    }\n",
       "\n",
       "    .dataframe thead th {\n",
       "        text-align: right;\n",
       "    }\n",
       "</style>\n",
       "<table border=\"1\" class=\"dataframe\">\n",
       "  <thead>\n",
       "    <tr style=\"text-align: right;\">\n",
       "      <th></th>\n",
       "      <th>RECORD_TIME</th>\n",
       "    </tr>\n",
       "  </thead>\n",
       "  <tbody>\n",
       "    <tr>\n",
       "      <th>0</th>\n",
       "      <td>2021-09-02 22:00</td>\n",
       "    </tr>\n",
       "    <tr>\n",
       "      <th>1</th>\n",
       "      <td>2021-09-02 21:30</td>\n",
       "    </tr>\n",
       "  </tbody>\n",
       "</table>\n",
       "</div>"
      ],
      "text/plain": [
       "        RECORD_TIME\n",
       "0  2021-09-02 22:00\n",
       "1  2021-09-02 21:30"
      ]
     },
     "execution_count": 3,
     "metadata": {},
     "output_type": "execute_result"
    }
   ],
   "source": [
    "timestamps"
   ]
  },
  {
   "cell_type": "code",
   "execution_count": 4,
   "id": "alternate-victory",
   "metadata": {
    "execution": {
     "iopub.execute_input": "2021-09-02T20:00:08.525747Z",
     "iopub.status.busy": "2021-09-02T20:00:08.523734Z",
     "iopub.status.idle": "2021-09-02T20:00:08.810161Z",
     "shell.execute_reply": "2021-09-02T20:00:08.811554Z"
    },
    "papermill": {
     "duration": 0.317012,
     "end_time": "2021-09-02T20:00:08.811994",
     "exception": false,
     "start_time": "2021-09-02T20:00:08.494982",
     "status": "completed"
    },
    "tags": []
   },
   "outputs": [],
   "source": [
    "df = pd.read_sql(\"select * from EBAY_TOP_BERLIN where record_time in (select distinct record_time from EBAY_TOP_BERLIN order by record_time desc limit 2)\", sqlite3.connect(\"UsedObjects.db\"))"
   ]
  },
  {
   "cell_type": "code",
   "execution_count": 5,
   "id": "popular-active",
   "metadata": {
    "execution": {
     "iopub.execute_input": "2021-09-02T20:00:08.899048Z",
     "iopub.status.busy": "2021-09-02T20:00:08.886760Z",
     "iopub.status.idle": "2021-09-02T20:00:08.914754Z",
     "shell.execute_reply": "2021-09-02T20:00:08.916126Z"
    },
    "papermill": {
     "duration": 0.074526,
     "end_time": "2021-09-02T20:00:08.916548",
     "exception": false,
     "start_time": "2021-09-02T20:00:08.842022",
     "status": "completed"
    },
    "tags": []
   },
   "outputs": [],
   "source": [
    "df_pivot = df.pivot_table(index=\"PRODUCT\", columns = \"RECORD_TIME\", values = \"LISTING_COUNT\")"
   ]
  },
  {
   "cell_type": "code",
   "execution_count": 6,
   "id": "union-huntington",
   "metadata": {
    "execution": {
     "iopub.execute_input": "2021-09-02T20:00:08.974521Z",
     "iopub.status.busy": "2021-09-02T20:00:08.972280Z",
     "iopub.status.idle": "2021-09-02T20:00:08.978066Z",
     "shell.execute_reply": "2021-09-02T20:00:08.979530Z"
    },
    "papermill": {
     "duration": 0.041729,
     "end_time": "2021-09-02T20:00:08.979991",
     "exception": false,
     "start_time": "2021-09-02T20:00:08.938262",
     "status": "completed"
    },
    "tags": []
   },
   "outputs": [],
   "source": [
    "df_pivot.columns = [\"stamp_1\", \"stamp_2\"]\n",
    "df_pivot_diff = df_pivot.diff(axis=1)"
   ]
  },
  {
   "cell_type": "code",
   "execution_count": 7,
   "id": "fifth-motion",
   "metadata": {
    "execution": {
     "iopub.execute_input": "2021-09-02T20:00:09.033725Z",
     "iopub.status.busy": "2021-09-02T20:00:09.031457Z",
     "iopub.status.idle": "2021-09-02T20:00:10.541466Z",
     "shell.execute_reply": "2021-09-02T20:00:10.542822Z"
    },
    "papermill": {
     "duration": 1.543375,
     "end_time": "2021-09-02T20:00:10.543357",
     "exception": false,
     "start_time": "2021-09-02T20:00:08.999982",
     "status": "completed"
    },
    "tags": []
   },
   "outputs": [
    {
     "data": {
      "text/plain": [
       "<AxesSubplot:ylabel='PRODUCT'>"
      ]
     },
     "execution_count": 7,
     "metadata": {},
     "output_type": "execute_result"
    },
    {
     "data": {
      "image/png": "[encoded data removed]",
      "text/plain": [
       "<Figure size 432x288 with 1 Axes>"
      ]
     },
     "metadata": {
      "needs_background": "light"
     },
     "output_type": "display_data"
    }
   ],
   "source": [
    "df_pivot_diff.sort_values(\"stamp_2\", ascending = False)[\"stamp_2\"].head(10).plot.barh()"
   ]
  },
  {
   "cell_type": "code",
   "execution_count": null,
   "id": "extra-executive",
   "metadata": {
    "papermill": {
     "duration": 0.022173,
     "end_time": "2021-09-02T20:00:10.590360",
     "exception": false,
     "start_time": "2021-09-02T20:00:10.568187",
     "status": "completed"
    },
    "tags": []
   },
   "outputs": [],
   "source": []
  }
 ],
 "metadata": {
  "kernelspec": {
   "display_name": "Python 3",
   "language": "python",
   "name": "python3"
  },
  "language_info": {
   "codemirror_mode": {
    "name": "ipython",
    "version": 3
   },
   "file_extension": ".py",
   "mimetype": "text/x-python",
   "name": "python",
   "nbconvert_exporter": "python",
   "pygments_lexer": "ipython3",
   "version": "3.9.5"
  },
  "papermill": {
   "default_parameters": {},
   "duration": 6.358159,
   "end_time": "2021-09-02T20:00:11.232037",
   "environment_variables": {},
   "exception": null,
   "input_path": "eBay_Overview.ipynb",
   "output_path": "eBay_Overview.ipynb",
   "parameters": {},
   "start_time": "2021-09-02T20:00:04.873878",
   "version": "2.3.3"
  }
 },
 "nbformat": 4,
 "nbformat_minor": 5
}