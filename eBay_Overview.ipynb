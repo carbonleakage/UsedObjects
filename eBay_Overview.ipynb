{
 "cells": [
  {
   "cell_type": "code",
   "execution_count": 1,
   "id": "reverse-picking",
   "metadata": {
    "execution": {
     "iopub.execute_input": "2021-08-27T19:00:07.288463Z",
     "iopub.status.busy": "2021-08-27T19:00:07.286457Z",
     "iopub.status.idle": "2021-08-27T19:00:08.092817Z",
     "shell.execute_reply": "2021-08-27T19:00:08.091125Z"
    },
    "papermill": {
     "duration": 0.855059,
     "end_time": "2021-08-27T19:00:08.093260",
     "exception": false,
     "start_time": "2021-08-27T19:00:07.238201",
     "status": "completed"
    },
    "tags": []
   },
   "outputs": [],
   "source": [
    "import pandas as pd\n",
    "import sqlite3"
   ]
  },
  {
   "cell_type": "code",
   "execution_count": 2,
   "id": "innovative-syndrome",
   "metadata": {
    "execution": {
     "iopub.execute_input": "2021-08-27T19:00:08.143162Z",
     "iopub.status.busy": "2021-08-27T19:00:08.141291Z",
     "iopub.status.idle": "2021-08-27T19:00:08.284652Z",
     "shell.execute_reply": "2021-08-27T19:00:08.285881Z"
    },
    "papermill": {
     "duration": 0.17302,
     "end_time": "2021-08-27T19:00:08.286275",
     "exception": false,
     "start_time": "2021-08-27T19:00:08.113255",
     "status": "completed"
    },
    "tags": []
   },
   "outputs": [],
   "source": [
    "timestamps = pd.read_sql(\"select distinct record_time from EBAY_TOP_BERLIN order by record_time desc limit 2\", sqlite3.connect(\"UsedObjects.db\"))"
   ]
  },
  {
   "cell_type": "code",
   "execution_count": 3,
   "id": "periodic-identification",
   "metadata": {
    "execution": {
     "iopub.execute_input": "2021-08-27T19:00:08.354909Z",
     "iopub.status.busy": "2021-08-27T19:00:08.352881Z",
     "iopub.status.idle": "2021-08-27T19:00:08.372678Z",
     "shell.execute_reply": "2021-08-27T19:00:08.374090Z"
    },
    "papermill": {
     "duration": 0.065716,
     "end_time": "2021-08-27T19:00:08.374507",
     "exception": false,
     "start_time": "2021-08-27T19:00:08.308791",
     "status": "completed"
    },
    "tags": []
   },
   "outputs": [
    {
     "data": {
      "text/html": [
       "<div>\n",
       "<style scoped>\n",
       "    .dataframe tbody tr th:only-of-type {\n",
       "        vertical-align: middle;\n",
       "    }\n",
       "\n",
       "    .dataframe tbody tr th {\n",
       "        vertical-align: top;\n",
       "    }\n",
       "\n",
       "    .dataframe thead th {\n",
       "        text-align: right;\n",
       "    }\n",
       "</style>\n",
       "<table border=\"1\" class=\"dataframe\">\n",
       "  <thead>\n",
       "    <tr style=\"text-align: right;\">\n",
       "      <th></th>\n",
       "      <th>RECORD_TIME</th>\n",
       "    </tr>\n",
       "  </thead>\n",
       "  <tbody>\n",
       "    <tr>\n",
       "      <th>0</th>\n",
       "      <td>2021-08-27 21:00</td>\n",
       "    </tr>\n",
       "    <tr>\n",
       "      <th>1</th>\n",
       "      <td>2021-08-27 20:30</td>\n",
       "    </tr>\n",
       "  </tbody>\n",
       "</table>\n",
       "</div>"
      ],
      "text/plain": [
       "        RECORD_TIME\n",
       "0  2021-08-27 21:00\n",
       "1  2021-08-27 20:30"
      ]
     },
     "execution_count": 3,
     "metadata": {},
     "output_type": "execute_result"
    }
   ],
   "source": [
    "timestamps"
   ]
  },
  {
   "cell_type": "code",
   "execution_count": 4,
   "id": "alternate-victory",
   "metadata": {
    "execution": {
     "iopub.execute_input": "2021-08-27T19:00:08.425206Z",
     "iopub.status.busy": "2021-08-27T19:00:08.423260Z",
     "iopub.status.idle": "2021-08-27T19:00:08.639637Z",
     "shell.execute_reply": "2021-08-27T19:00:08.640974Z"
    },
    "papermill": {
     "duration": 0.246429,
     "end_time": "2021-08-27T19:00:08.641395",
     "exception": false,
     "start_time": "2021-08-27T19:00:08.394966",
     "status": "completed"
    },
    "tags": []
   },
   "outputs": [],
   "source": [
    "df = pd.read_sql(\"select * from EBAY_TOP_BERLIN where record_time in (select distinct record_time from EBAY_TOP_BERLIN order by record_time desc limit 2)\", sqlite3.connect(\"UsedObjects.db\"))"
   ]
  },
  {
   "cell_type": "code",
   "execution_count": 5,
   "id": "popular-active",
   "metadata": {
    "execution": {
     "iopub.execute_input": "2021-08-27T19:00:08.712319Z",
     "iopub.status.busy": "2021-08-27T19:00:08.705372Z",
     "iopub.status.idle": "2021-08-27T19:00:08.727630Z",
     "shell.execute_reply": "2021-08-27T19:00:08.729078Z"
    },
    "papermill": {
     "duration": 0.065889,
     "end_time": "2021-08-27T19:00:08.729495",
     "exception": false,
     "start_time": "2021-08-27T19:00:08.663606",
     "status": "completed"
    },
    "tags": []
   },
   "outputs": [],
   "source": [
    "df_pivot = df.pivot_table(index=\"PRODUCT\", columns = \"RECORD_TIME\", values = \"LISTING_COUNT\")"
   ]
  },
  {
   "cell_type": "code",
   "execution_count": 6,
   "id": "union-huntington",
   "metadata": {
    "execution": {
     "iopub.execute_input": "2021-08-27T19:00:08.796327Z",
     "iopub.status.busy": "2021-08-27T19:00:08.793900Z",
     "iopub.status.idle": "2021-08-27T19:00:08.799362Z",
     "shell.execute_reply": "2021-08-27T19:00:08.800784Z"
    },
    "papermill": {
     "duration": 0.044591,
     "end_time": "2021-08-27T19:00:08.801247",
     "exception": false,
     "start_time": "2021-08-27T19:00:08.756656",
     "status": "completed"
    },
    "tags": []
   },
   "outputs": [],
   "source": [
    "df_pivot.columns = [\"stamp_1\", \"stamp_2\"]\n",
    "df_pivot_diff = df_pivot.diff(axis=1)"
   ]
  },
  {
   "cell_type": "code",
   "execution_count": 7,
   "id": "fifth-motion",
   "metadata": {
    "execution": {
     "iopub.execute_input": "2021-08-27T19:00:08.854757Z",
     "iopub.status.busy": "2021-08-27T19:00:08.852487Z",
     "iopub.status.idle": "2021-08-27T19:00:10.315998Z",
     "shell.execute_reply": "2021-08-27T19:00:10.317507Z"
    },
    "papermill": {
     "duration": 1.496761,
     "end_time": "2021-08-27T19:00:10.317954",
     "exception": false,
     "start_time": "2021-08-27T19:00:08.821193",
     "status": "completed"
    },
    "tags": []
   },
   "outputs": [
    {
     "data": {
      "text/plain": [
       "<AxesSubplot:ylabel='PRODUCT'>"
      ]
     },
     "execution_count": 7,
     "metadata": {},
     "output_type": "execute_result"
    },
    {
     "data": {
      "image/png": "[encoded data removed]",
      "text/plain": [
       "<Figure size 432x288 with 1 Axes>"
      ]
     },
     "metadata": {
      "needs_background": "light"
     },
     "output_type": "display_data"
    }
   ],
   "source": [
    "df_pivot_diff.sort_values(\"stamp_2\", ascending = False)[\"stamp_2\"].head(10).plot.barh()"
   ]
  },
  {
   "cell_type": "code",
   "execution_count": null,
   "id": "extra-executive",
   "metadata": {
    "papermill": {
     "duration": 0.021694,
     "end_time": "2021-08-27T19:00:10.364015",
     "exception": false,
     "start_time": "2021-08-27T19:00:10.342321",
     "status": "completed"
    },
    "tags": []
   },
   "outputs": [],
   "source": []
  }
 ],
 "metadata": {
  "kernelspec": {
   "display_name": "Python 3",
   "language": "python",
   "name": "python3"
  },
  "language_info": {
   "codemirror_mode": {
    "name": "ipython",
    "version": 3
   },
   "file_extension": ".py",
   "mimetype": "text/x-python",
   "name": "python",
   "nbconvert_exporter": "python",
   "pygments_lexer": "ipython3",
   "version": "3.9.5"
  },
  "papermill": {
   "default_parameters": {},
   "duration": 6.832354,
   "end_time": "2021-08-27T19:00:11.666174",
   "environment_variables": {},
   "exception": null,
   "input_path": "eBay_Overview.ipynb",
   "output_path": "eBay_Overview.ipynb",
   "parameters": {},
   "start_time": "2021-08-27T19:00:04.833820",
   "version": "2.3.3"
  }
 },
 "nbformat": 4,
 "nbformat_minor": 5
}