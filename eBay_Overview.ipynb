{
 "cells": [
  {
   "cell_type": "code",
   "execution_count": 1,
   "id": "reverse-picking",
   "metadata": {
    "execution": {
     "iopub.execute_input": "2021-10-02T03:30:06.672751Z",
     "iopub.status.busy": "2021-10-02T03:30:06.670763Z",
     "iopub.status.idle": "2021-10-02T03:30:07.475318Z",
     "shell.execute_reply": "2021-10-02T03:30:07.476602Z"
    },
    "papermill": {
     "duration": 0.856779,
     "end_time": "2021-10-02T03:30:07.477232",
     "exception": false,
     "start_time": "2021-10-02T03:30:06.620453",
     "status": "completed"
    },
    "tags": []
   },
   "outputs": [],
   "source": [
    "import pandas as pd\n",
    "import sqlite3"
   ]
  },
  {
   "cell_type": "code",
   "execution_count": 2,
   "id": "innovative-syndrome",
   "metadata": {
    "execution": {
     "iopub.execute_input": "2021-10-02T03:30:07.527824Z",
     "iopub.status.busy": "2021-10-02T03:30:07.525893Z",
     "iopub.status.idle": "2021-10-02T03:30:07.958970Z",
     "shell.execute_reply": "2021-10-02T03:30:07.960351Z"
    },
    "papermill": {
     "duration": 0.46285,
     "end_time": "2021-10-02T03:30:07.960796",
     "exception": false,
     "start_time": "2021-10-02T03:30:07.497946",
     "status": "completed"
    },
    "tags": []
   },
   "outputs": [],
   "source": [
    "timestamps = pd.read_sql(\"select distinct record_time from EBAY_TOP_BERLIN order by record_time desc limit 2\", sqlite3.connect(\"UsedObjects.db\"))"
   ]
  },
  {
   "cell_type": "code",
   "execution_count": 3,
   "id": "periodic-identification",
   "metadata": {
    "execution": {
     "iopub.execute_input": "2021-10-02T03:30:08.024923Z",
     "iopub.status.busy": "2021-10-02T03:30:08.022903Z",
     "iopub.status.idle": "2021-10-02T03:30:08.042724Z",
     "shell.execute_reply": "2021-10-02T03:30:08.044142Z"
    },
    "papermill": {
     "duration": 0.064413,
     "end_time": "2021-10-02T03:30:08.044568",
     "exception": false,
     "start_time": "2021-10-02T03:30:07.980155",
     "status": "completed"
    },
    "tags": []
   },
   "outputs": [
    {
     "data": {
      "text/html": [
       "<div>\n",
       "<style scoped>\n",
       "    .dataframe tbody tr th:only-of-type {\n",
       "        vertical-align: middle;\n",
       "    }\n",
       "\n",
       "    .dataframe tbody tr th {\n",
       "        vertical-align: top;\n",
       "    }\n",
       "\n",
       "    .dataframe thead th {\n",
       "        text-align: right;\n",
       "    }\n",
       "</style>\n",
       "<table border=\"1\" class=\"dataframe\">\n",
       "  <thead>\n",
       "    <tr style=\"text-align: right;\">\n",
       "      <th></th>\n",
       "      <th>RECORD_TIME</th>\n",
       "    </tr>\n",
       "  </thead>\n",
       "  <tbody>\n",
       "    <tr>\n",
       "      <th>0</th>\n",
       "      <td>2021-10-02 05:30</td>\n",
       "    </tr>\n",
       "    <tr>\n",
       "      <th>1</th>\n",
       "      <td>2021-10-02 05:00</td>\n",
       "    </tr>\n",
       "  </tbody>\n",
       "</table>\n",
       "</div>"
      ],
      "text/plain": [
       "        RECORD_TIME\n",
       "0  2021-10-02 05:30\n",
       "1  2021-10-02 05:00"
      ]
     },
     "execution_count": 3,
     "metadata": {},
     "output_type": "execute_result"
    }
   ],
   "source": [
    "timestamps"
   ]
  },
  {
   "cell_type": "code",
   "execution_count": 4,
   "id": "alternate-victory",
   "metadata": {
    "execution": {
     "iopub.execute_input": "2021-10-02T03:30:08.096804Z",
     "iopub.status.busy": "2021-10-02T03:30:08.094603Z",
     "iopub.status.idle": "2021-10-02T03:30:08.737298Z",
     "shell.execute_reply": "2021-10-02T03:30:08.738590Z"
    },
    "papermill": {
     "duration": 0.672855,
     "end_time": "2021-10-02T03:30:08.739066",
     "exception": false,
     "start_time": "2021-10-02T03:30:08.066211",
     "status": "completed"
    },
    "tags": []
   },
   "outputs": [],
   "source": [
    "df = pd.read_sql(\"select * from EBAY_TOP_BERLIN where record_time in (select distinct record_time from EBAY_TOP_BERLIN order by record_time desc limit 2)\", sqlite3.connect(\"UsedObjects.db\"))"
   ]
  },
  {
   "cell_type": "code",
   "execution_count": 5,
   "id": "popular-active",
   "metadata": {
    "execution": {
     "iopub.execute_input": "2021-10-02T03:30:08.809334Z",
     "iopub.status.busy": "2021-10-02T03:30:08.797846Z",
     "iopub.status.idle": "2021-10-02T03:30:08.825187Z",
     "shell.execute_reply": "2021-10-02T03:30:08.826460Z"
    },
    "papermill": {
     "duration": 0.067286,
     "end_time": "2021-10-02T03:30:08.826931",
     "exception": false,
     "start_time": "2021-10-02T03:30:08.759645",
     "status": "completed"
    },
    "tags": []
   },
   "outputs": [],
   "source": [
    "df_pivot = df.pivot_table(index=\"PRODUCT\", columns = \"RECORD_TIME\", values = \"LISTING_COUNT\")"
   ]
  },
  {
   "cell_type": "code",
   "execution_count": 6,
   "id": "union-huntington",
   "metadata": {
    "execution": {
     "iopub.execute_input": "2021-10-02T03:30:08.883018Z",
     "iopub.status.busy": "2021-10-02T03:30:08.880935Z",
     "iopub.status.idle": "2021-10-02T03:30:08.886217Z",
     "shell.execute_reply": "2021-10-02T03:30:08.887505Z"
    },
    "papermill": {
     "duration": 0.040772,
     "end_time": "2021-10-02T03:30:08.887953",
     "exception": false,
     "start_time": "2021-10-02T03:30:08.847181",
     "status": "completed"
    },
    "tags": []
   },
   "outputs": [],
   "source": [
    "df_pivot.columns = [\"stamp_1\", \"stamp_2\"]\n",
    "df_pivot_diff = df_pivot.diff(axis=1)"
   ]
  },
  {
   "cell_type": "code",
   "execution_count": 7,
   "id": "fifth-motion",
   "metadata": {
    "execution": {
     "iopub.execute_input": "2021-10-02T03:30:08.945523Z",
     "iopub.status.busy": "2021-10-02T03:30:08.942948Z",
     "iopub.status.idle": "2021-10-02T03:30:10.455996Z",
     "shell.execute_reply": "2021-10-02T03:30:10.457289Z"
    },
    "papermill": {
     "duration": 1.546593,
     "end_time": "2021-10-02T03:30:10.457710",
     "exception": false,
     "start_time": "2021-10-02T03:30:08.911117",
     "status": "completed"
    },
    "tags": []
   },
   "outputs": [
    {
     "data": {
      "text/plain": [
       "<AxesSubplot:ylabel='PRODUCT'>"
      ]
     },
     "execution_count": 7,
     "metadata": {},
     "output_type": "execute_result"
    },
    {
     "data": {
      "image/png": "[encoded data removed]",
      "text/plain": [
       "<Figure size 432x288 with 1 Axes>"
      ]
     },
     "metadata": {
      "needs_background": "light"
     },
     "output_type": "display_data"
    }
   ],
   "source": [
    "df_pivot_diff.sort_values(\"stamp_2\", ascending = False)[\"stamp_2\"].head(10).plot.barh()"
   ]
  },
  {
   "cell_type": "code",
   "execution_count": null,
   "id": "extra-executive",
   "metadata": {
    "papermill": {
     "duration": 0.022306,
     "end_time": "2021-10-02T03:30:10.504859",
     "exception": false,
     "start_time": "2021-10-02T03:30:10.482553",
     "status": "completed"
    },
    "tags": []
   },
   "outputs": [],
   "source": []
  }
 ],
 "metadata": {
  "kernelspec": {
   "display_name": "Python 3",
   "language": "python",
   "name": "python3"
  },
  "language_info": {
   "codemirror_mode": {
    "name": "ipython",
    "version": 3
   },
   "file_extension": ".py",
   "mimetype": "text/x-python",
   "name": "python",
   "nbconvert_exporter": "python",
   "pygments_lexer": "ipython3",
   "version": "3.9.5"
  },
  "papermill": {
   "default_parameters": {},
   "duration": 7.824089,
   "end_time": "2021-10-02T03:30:12.044848",
   "environment_variables": {},
   "exception": null,
   "input_path": "eBay_Overview.ipynb",
   "output_path": "eBay_Overview.ipynb",
   "parameters": {},
   "start_time": "2021-10-02T03:30:04.220759",
   "version": "2.3.3"
  }
 },
 "nbformat": 4,
 "nbformat_minor": 5
}