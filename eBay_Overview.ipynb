{
 "cells": [
  {
   "cell_type": "code",
   "execution_count": 1,
   "id": "reverse-picking",
   "metadata": {
    "execution": {
     "iopub.execute_input": "2021-11-18T01:30:07.857692Z",
     "iopub.status.busy": "2021-11-18T01:30:07.855266Z",
     "iopub.status.idle": "2021-11-18T01:30:08.791696Z",
     "shell.execute_reply": "2021-11-18T01:30:08.789881Z"
    },
    "papermill": {
     "duration": 0.998371,
     "end_time": "2021-11-18T01:30:08.792196",
     "exception": false,
     "start_time": "2021-11-18T01:30:07.793825",
     "status": "completed"
    },
    "tags": []
   },
   "outputs": [],
   "source": [
    "import pandas as pd\n",
    "import sqlite3"
   ]
  },
  {
   "cell_type": "code",
   "execution_count": 2,
   "id": "innovative-syndrome",
   "metadata": {
    "execution": {
     "iopub.execute_input": "2021-11-18T01:30:08.848594Z",
     "iopub.status.busy": "2021-11-18T01:30:08.846407Z",
     "iopub.status.idle": "2021-11-18T01:30:09.699377Z",
     "shell.execute_reply": "2021-11-18T01:30:09.701589Z"
    },
    "papermill": {
     "duration": 0.888578,
     "end_time": "2021-11-18T01:30:09.702068",
     "exception": false,
     "start_time": "2021-11-18T01:30:08.813490",
     "status": "completed"
    },
    "tags": []
   },
   "outputs": [],
   "source": [
    "timestamps = pd.read_sql(\"select distinct record_time from EBAY_TOP_BERLIN order by record_time desc limit 2\", sqlite3.connect(\"UsedObjects.db\"))"
   ]
  },
  {
   "cell_type": "code",
   "execution_count": 3,
   "id": "periodic-identification",
   "metadata": {
    "execution": {
     "iopub.execute_input": "2021-11-18T01:30:09.779471Z",
     "iopub.status.busy": "2021-11-18T01:30:09.770440Z",
     "iopub.status.idle": "2021-11-18T01:30:09.800785Z",
     "shell.execute_reply": "2021-11-18T01:30:09.802293Z"
    },
    "papermill": {
     "duration": 0.079857,
     "end_time": "2021-11-18T01:30:09.802785",
     "exception": false,
     "start_time": "2021-11-18T01:30:09.722928",
     "status": "completed"
    },
    "tags": []
   },
   "outputs": [
    {
     "data": {
      "text/html": [
       "<div>\n",
       "<style scoped>\n",
       "    .dataframe tbody tr th:only-of-type {\n",
       "        vertical-align: middle;\n",
       "    }\n",
       "\n",
       "    .dataframe tbody tr th {\n",
       "        vertical-align: top;\n",
       "    }\n",
       "\n",
       "    .dataframe thead th {\n",
       "        text-align: right;\n",
       "    }\n",
       "</style>\n",
       "<table border=\"1\" class=\"dataframe\">\n",
       "  <thead>\n",
       "    <tr style=\"text-align: right;\">\n",
       "      <th></th>\n",
       "      <th>RECORD_TIME</th>\n",
       "    </tr>\n",
       "  </thead>\n",
       "  <tbody>\n",
       "    <tr>\n",
       "      <th>0</th>\n",
       "      <td>2021-11-18 02:30</td>\n",
       "    </tr>\n",
       "    <tr>\n",
       "      <th>1</th>\n",
       "      <td>2021-11-18 02:00</td>\n",
       "    </tr>\n",
       "  </tbody>\n",
       "</table>\n",
       "</div>"
      ],
      "text/plain": [
       "        RECORD_TIME\n",
       "0  2021-11-18 02:30\n",
       "1  2021-11-18 02:00"
      ]
     },
     "execution_count": 3,
     "metadata": {},
     "output_type": "execute_result"
    }
   ],
   "source": [
    "timestamps"
   ]
  },
  {
   "cell_type": "code",
   "execution_count": 4,
   "id": "alternate-victory",
   "metadata": {
    "execution": {
     "iopub.execute_input": "2021-11-18T01:30:09.859390Z",
     "iopub.status.busy": "2021-11-18T01:30:09.857101Z",
     "iopub.status.idle": "2021-11-18T01:30:11.103619Z",
     "shell.execute_reply": "2021-11-18T01:30:11.105023Z"
    },
    "papermill": {
     "duration": 1.28003,
     "end_time": "2021-11-18T01:30:11.105457",
     "exception": false,
     "start_time": "2021-11-18T01:30:09.825427",
     "status": "completed"
    },
    "tags": []
   },
   "outputs": [],
   "source": [
    "df = pd.read_sql(\"select * from EBAY_TOP_BERLIN where record_time in (select distinct record_time from EBAY_TOP_BERLIN order by record_time desc limit 2)\", sqlite3.connect(\"UsedObjects.db\"))"
   ]
  },
  {
   "cell_type": "code",
   "execution_count": 5,
   "id": "popular-active",
   "metadata": {
    "execution": {
     "iopub.execute_input": "2021-11-18T01:30:11.175128Z",
     "iopub.status.busy": "2021-11-18T01:30:11.163167Z",
     "iopub.status.idle": "2021-11-18T01:30:11.190681Z",
     "shell.execute_reply": "2021-11-18T01:30:11.191909Z"
    },
    "papermill": {
     "duration": 0.065798,
     "end_time": "2021-11-18T01:30:11.192303",
     "exception": false,
     "start_time": "2021-11-18T01:30:11.126505",
     "status": "completed"
    },
    "tags": []
   },
   "outputs": [],
   "source": [
    "df_pivot = df.pivot_table(index=\"PRODUCT\", columns = \"RECORD_TIME\", values = \"LISTING_COUNT\")"
   ]
  },
  {
   "cell_type": "code",
   "execution_count": 6,
   "id": "union-huntington",
   "metadata": {
    "execution": {
     "iopub.execute_input": "2021-11-18T01:30:11.252814Z",
     "iopub.status.busy": "2021-11-18T01:30:11.250571Z",
     "iopub.status.idle": "2021-11-18T01:30:11.256395Z",
     "shell.execute_reply": "2021-11-18T01:30:11.257872Z"
    },
    "papermill": {
     "duration": 0.043411,
     "end_time": "2021-11-18T01:30:11.258349",
     "exception": false,
     "start_time": "2021-11-18T01:30:11.214938",
     "status": "completed"
    },
    "tags": []
   },
   "outputs": [],
   "source": [
    "df_pivot.columns = [\"stamp_1\", \"stamp_2\"]\n",
    "df_pivot_diff = df_pivot.diff(axis=1)"
   ]
  },
  {
   "cell_type": "code",
   "execution_count": 7,
   "id": "fifth-motion",
   "metadata": {
    "execution": {
     "iopub.execute_input": "2021-11-18T01:30:11.319363Z",
     "iopub.status.busy": "2021-11-18T01:30:11.314885Z",
     "iopub.status.idle": "2021-11-18T01:30:13.062070Z",
     "shell.execute_reply": "2021-11-18T01:30:13.063428Z"
    },
    "papermill": {
     "duration": 1.784981,
     "end_time": "2021-11-18T01:30:13.063897",
     "exception": false,
     "start_time": "2021-11-18T01:30:11.278916",
     "status": "completed"
    },
    "tags": []
   },
   "outputs": [
    {
     "data": {
      "text/plain": [
       "<AxesSubplot:ylabel='PRODUCT'>"
      ]
     },
     "execution_count": 7,
     "metadata": {},
     "output_type": "execute_result"
    },
    {
     "data": {
      "image/png": "[encoded data removed]",
      "text/plain": [
       "<Figure size 432x288 with 1 Axes>"
      ]
     },
     "metadata": {
      "needs_background": "light"
     },
     "output_type": "display_data"
    }
   ],
   "source": [
    "df_pivot_diff.sort_values(\"stamp_2\", ascending = False)[\"stamp_2\"].head(10).plot.barh()"
   ]
  },
  {
   "cell_type": "code",
   "execution_count": null,
   "id": "extra-executive",
   "metadata": {
    "papermill": {
     "duration": 0.025018,
     "end_time": "2021-11-18T01:30:13.114202",
     "exception": false,
     "start_time": "2021-11-18T01:30:13.089184",
     "status": "completed"
    },
    "tags": []
   },
   "outputs": [],
   "source": []
  }
 ],
 "metadata": {
  "kernelspec": {
   "display_name": "Python 3",
   "language": "python",
   "name": "python3"
  },
  "language_info": {
   "codemirror_mode": {
    "name": "ipython",
    "version": 3
   },
   "file_extension": ".py",
   "mimetype": "text/x-python",
   "name": "python",
   "nbconvert_exporter": "python",
   "pygments_lexer": "ipython3",
   "version": "3.9.5"
  },
  "papermill": {
   "default_parameters": {},
   "duration": 8.807083,
   "end_time": "2021-11-18T01:30:13.858742",
   "environment_variables": {},
   "exception": null,
   "input_path": "eBay_Overview.ipynb",
   "output_path": "eBay_Overview.ipynb",
   "parameters": {},
   "start_time": "2021-11-18T01:30:05.051659",
   "version": "2.3.3"
  }
 },
 "nbformat": 4,
 "nbformat_minor": 5
}