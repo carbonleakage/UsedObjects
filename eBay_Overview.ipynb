{
 "cells": [
  {
   "cell_type": "code",
   "execution_count": 1,
   "id": "reverse-picking",
   "metadata": {
    "execution": {
     "iopub.execute_input": "2021-08-14T13:00:07.487170Z",
     "iopub.status.busy": "2021-08-14T13:00:07.485094Z",
     "iopub.status.idle": "2021-08-14T13:00:08.300341Z",
     "shell.execute_reply": "2021-08-14T13:00:08.298751Z"
    },
    "papermill": {
     "duration": 0.86339,
     "end_time": "2021-08-14T13:00:08.300726",
     "exception": false,
     "start_time": "2021-08-14T13:00:07.437336",
     "status": "completed"
    },
    "tags": []
   },
   "outputs": [],
   "source": [
    "import pandas as pd\n",
    "import sqlite3"
   ]
  },
  {
   "cell_type": "code",
   "execution_count": 2,
   "id": "innovative-syndrome",
   "metadata": {
    "execution": {
     "iopub.execute_input": "2021-08-14T13:00:08.351912Z",
     "iopub.status.busy": "2021-08-14T13:00:08.349975Z",
     "iopub.status.idle": "2021-08-14T13:00:08.397508Z",
     "shell.execute_reply": "2021-08-14T13:00:08.398916Z"
    },
    "papermill": {
     "duration": 0.077633,
     "end_time": "2021-08-14T13:00:08.399345",
     "exception": false,
     "start_time": "2021-08-14T13:00:08.321712",
     "status": "completed"
    },
    "tags": []
   },
   "outputs": [],
   "source": [
    "timestamps = pd.read_sql(\"select distinct record_time from EBAY_TOP_BERLIN order by record_time desc limit 2\", sqlite3.connect(\"UsedObjects.db\"))"
   ]
  },
  {
   "cell_type": "code",
   "execution_count": 3,
   "id": "periodic-identification",
   "metadata": {
    "execution": {
     "iopub.execute_input": "2021-08-14T13:00:08.463831Z",
     "iopub.status.busy": "2021-08-14T13:00:08.461665Z",
     "iopub.status.idle": "2021-08-14T13:00:08.481733Z",
     "shell.execute_reply": "2021-08-14T13:00:08.482931Z"
    },
    "papermill": {
     "duration": 0.064806,
     "end_time": "2021-08-14T13:00:08.483344",
     "exception": false,
     "start_time": "2021-08-14T13:00:08.418538",
     "status": "completed"
    },
    "tags": []
   },
   "outputs": [
    {
     "data": {
      "text/html": [
       "<div>\n",
       "<style scoped>\n",
       "    .dataframe tbody tr th:only-of-type {\n",
       "        vertical-align: middle;\n",
       "    }\n",
       "\n",
       "    .dataframe tbody tr th {\n",
       "        vertical-align: top;\n",
       "    }\n",
       "\n",
       "    .dataframe thead th {\n",
       "        text-align: right;\n",
       "    }\n",
       "</style>\n",
       "<table border=\"1\" class=\"dataframe\">\n",
       "  <thead>\n",
       "    <tr style=\"text-align: right;\">\n",
       "      <th></th>\n",
       "      <th>RECORD_TIME</th>\n",
       "    </tr>\n",
       "  </thead>\n",
       "  <tbody>\n",
       "    <tr>\n",
       "      <th>0</th>\n",
       "      <td>2021-08-14 15:00</td>\n",
       "    </tr>\n",
       "    <tr>\n",
       "      <th>1</th>\n",
       "      <td>2021-08-14 14:30</td>\n",
       "    </tr>\n",
       "  </tbody>\n",
       "</table>\n",
       "</div>"
      ],
      "text/plain": [
       "        RECORD_TIME\n",
       "0  2021-08-14 15:00\n",
       "1  2021-08-14 14:30"
      ]
     },
     "execution_count": 3,
     "metadata": {},
     "output_type": "execute_result"
    }
   ],
   "source": [
    "timestamps"
   ]
  },
  {
   "cell_type": "code",
   "execution_count": 4,
   "id": "alternate-victory",
   "metadata": {
    "execution": {
     "iopub.execute_input": "2021-08-14T13:00:08.535434Z",
     "iopub.status.busy": "2021-08-14T13:00:08.533455Z",
     "iopub.status.idle": "2021-08-14T13:00:08.604213Z",
     "shell.execute_reply": "2021-08-14T13:00:08.605423Z"
    },
    "papermill": {
     "duration": 0.100861,
     "end_time": "2021-08-14T13:00:08.605815",
     "exception": false,
     "start_time": "2021-08-14T13:00:08.504954",
     "status": "completed"
    },
    "tags": []
   },
   "outputs": [],
   "source": [
    "df = pd.read_sql(\"select * from EBAY_TOP_BERLIN where record_time in (select distinct record_time from EBAY_TOP_BERLIN order by record_time desc limit 2)\", sqlite3.connect(\"UsedObjects.db\"))"
   ]
  },
  {
   "cell_type": "code",
   "execution_count": 5,
   "id": "popular-active",
   "metadata": {
    "execution": {
     "iopub.execute_input": "2021-08-14T13:00:08.677502Z",
     "iopub.status.busy": "2021-08-14T13:00:08.666843Z",
     "iopub.status.idle": "2021-08-14T13:00:08.693371Z",
     "shell.execute_reply": "2021-08-14T13:00:08.694741Z"
    },
    "papermill": {
     "duration": 0.068637,
     "end_time": "2021-08-14T13:00:08.695155",
     "exception": false,
     "start_time": "2021-08-14T13:00:08.626518",
     "status": "completed"
    },
    "tags": []
   },
   "outputs": [],
   "source": [
    "df_pivot = df.pivot_table(index=\"PRODUCT\", columns = \"RECORD_TIME\", values = \"LISTING_COUNT\")"
   ]
  },
  {
   "cell_type": "code",
   "execution_count": 6,
   "id": "union-huntington",
   "metadata": {
    "execution": {
     "iopub.execute_input": "2021-08-14T13:00:08.752099Z",
     "iopub.status.busy": "2021-08-14T13:00:08.749851Z",
     "iopub.status.idle": "2021-08-14T13:00:08.755524Z",
     "shell.execute_reply": "2021-08-14T13:00:08.756927Z"
    },
    "papermill": {
     "duration": 0.04134,
     "end_time": "2021-08-14T13:00:08.757341",
     "exception": false,
     "start_time": "2021-08-14T13:00:08.716001",
     "status": "completed"
    },
    "tags": []
   },
   "outputs": [],
   "source": [
    "df_pivot.columns = [\"stamp_1\", \"stamp_2\"]\n",
    "df_pivot_diff = df_pivot.diff(axis=1)"
   ]
  },
  {
   "cell_type": "code",
   "execution_count": 7,
   "id": "fifth-motion",
   "metadata": {
    "execution": {
     "iopub.execute_input": "2021-08-14T13:00:08.811792Z",
     "iopub.status.busy": "2021-08-14T13:00:08.809279Z",
     "iopub.status.idle": "2021-08-14T13:00:10.330243Z",
     "shell.execute_reply": "2021-08-14T13:00:10.331540Z"
    },
    "papermill": {
     "duration": 1.554446,
     "end_time": "2021-08-14T13:00:10.331952",
     "exception": false,
     "start_time": "2021-08-14T13:00:08.777506",
     "status": "completed"
    },
    "tags": []
   },
   "outputs": [
    {
     "data": {
      "text/plain": [
       "<AxesSubplot:ylabel='PRODUCT'>"
      ]
     },
     "execution_count": 7,
     "metadata": {},
     "output_type": "execute_result"
    },
    {
     "data": {
      "image/png": "[encoded data removed]",
      "text/plain": [
       "<Figure size 432x288 with 1 Axes>"
      ]
     },
     "metadata": {
      "needs_background": "light"
     },
     "output_type": "display_data"
    }
   ],
   "source": [
    "df_pivot_diff.sort_values(\"stamp_2\", ascending = False)[\"stamp_2\"].head(10).plot.barh()"
   ]
  },
  {
   "cell_type": "code",
   "execution_count": null,
   "id": "extra-executive",
   "metadata": {
    "papermill": {
     "duration": 0.022519,
     "end_time": "2021-08-14T13:00:10.379541",
     "exception": false,
     "start_time": "2021-08-14T13:00:10.357022",
     "status": "completed"
    },
    "tags": []
   },
   "outputs": [],
   "source": []
  }
 ],
 "metadata": {
  "kernelspec": {
   "display_name": "Python 3",
   "language": "python",
   "name": "python3"
  },
  "language_info": {
   "codemirror_mode": {
    "name": "ipython",
    "version": 3
   },
   "file_extension": ".py",
   "mimetype": "text/x-python",
   "name": "python",
   "nbconvert_exporter": "python",
   "pygments_lexer": "ipython3",
   "version": "3.9.5"
  },
  "papermill": {
   "default_parameters": {},
   "duration": 6.828633,
   "end_time": "2021-08-14T13:00:11.842232",
   "environment_variables": {},
   "exception": null,
   "input_path": "eBay_Overview.ipynb",
   "output_path": "eBay_Overview.ipynb",
   "parameters": {},
   "start_time": "2021-08-14T13:00:05.013599",
   "version": "2.3.3"
  }
 },
 "nbformat": 4,
 "nbformat_minor": 5
}