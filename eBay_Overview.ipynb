{
 "cells": [
  {
   "cell_type": "code",
   "execution_count": 1,
   "id": "reverse-picking",
   "metadata": {
    "execution": {
     "iopub.execute_input": "2021-08-09T04:30:03.779487Z",
     "iopub.status.busy": "2021-08-09T04:30:03.778707Z",
     "iopub.status.idle": "2021-08-09T04:30:04.400340Z",
     "shell.execute_reply": "2021-08-09T04:30:04.400918Z"
    },
    "papermill": {
     "duration": 0.640911,
     "end_time": "2021-08-09T04:30:04.401220",
     "exception": false,
     "start_time": "2021-08-09T04:30:03.760309",
     "status": "completed"
    },
    "tags": []
   },
   "outputs": [],
   "source": [
    "import pandas as pd\n",
    "import sqlite3"
   ]
  },
  {
   "cell_type": "code",
   "execution_count": 2,
   "id": "innovative-syndrome",
   "metadata": {
    "execution": {
     "iopub.execute_input": "2021-08-09T04:30:04.427938Z",
     "iopub.status.busy": "2021-08-09T04:30:04.427160Z",
     "iopub.status.idle": "2021-08-09T04:30:04.624013Z",
     "shell.execute_reply": "2021-08-09T04:30:04.623266Z"
    },
    "papermill": {
     "duration": 0.209449,
     "end_time": "2021-08-09T04:30:04.624177",
     "exception": false,
     "start_time": "2021-08-09T04:30:04.414728",
     "status": "completed"
    },
    "tags": []
   },
   "outputs": [],
   "source": [
    "timestamps = pd.read_sql(\"select distinct record_time from EBAY_TOP_BERLIN order by record_time desc limit 2\", sqlite3.connect(\"UsedObjects.db\"))"
   ]
  },
  {
   "cell_type": "code",
   "execution_count": 3,
   "id": "periodic-identification",
   "metadata": {
    "execution": {
     "iopub.execute_input": "2021-08-09T04:30:04.658046Z",
     "iopub.status.busy": "2021-08-09T04:30:04.656934Z",
     "iopub.status.idle": "2021-08-09T04:30:04.668888Z",
     "shell.execute_reply": "2021-08-09T04:30:04.669419Z"
    },
    "papermill": {
     "duration": 0.037339,
     "end_time": "2021-08-09T04:30:04.669600",
     "exception": false,
     "start_time": "2021-08-09T04:30:04.632261",
     "status": "completed"
    },
    "tags": []
   },
   "outputs": [
    {
     "data": {
      "text/html": [
       "<div>\n",
       "<style scoped>\n",
       "    .dataframe tbody tr th:only-of-type {\n",
       "        vertical-align: middle;\n",
       "    }\n",
       "\n",
       "    .dataframe tbody tr th {\n",
       "        vertical-align: top;\n",
       "    }\n",
       "\n",
       "    .dataframe thead th {\n",
       "        text-align: right;\n",
       "    }\n",
       "</style>\n",
       "<table border=\"1\" class=\"dataframe\">\n",
       "  <thead>\n",
       "    <tr style=\"text-align: right;\">\n",
       "      <th></th>\n",
       "      <th>RECORD_TIME</th>\n",
       "    </tr>\n",
       "  </thead>\n",
       "  <tbody>\n",
       "    <tr>\n",
       "      <th>0</th>\n",
       "      <td>2021-08-09 06:30</td>\n",
       "    </tr>\n",
       "    <tr>\n",
       "      <th>1</th>\n",
       "      <td>2021-08-09 06:00</td>\n",
       "    </tr>\n",
       "  </tbody>\n",
       "</table>\n",
       "</div>"
      ],
      "text/plain": [
       "        RECORD_TIME\n",
       "0  2021-08-09 06:30\n",
       "1  2021-08-09 06:00"
      ]
     },
     "execution_count": 3,
     "metadata": {},
     "output_type": "execute_result"
    }
   ],
   "source": [
    "timestamps"
   ]
  },
  {
   "cell_type": "code",
   "execution_count": 4,
   "id": "alternate-victory",
   "metadata": {
    "execution": {
     "iopub.execute_input": "2021-08-09T04:30:04.697127Z",
     "iopub.status.busy": "2021-08-09T04:30:04.696373Z",
     "iopub.status.idle": "2021-08-09T04:30:04.708439Z",
     "shell.execute_reply": "2021-08-09T04:30:04.709120Z"
    },
    "papermill": {
     "duration": 0.030426,
     "end_time": "2021-08-09T04:30:04.709336",
     "exception": false,
     "start_time": "2021-08-09T04:30:04.678910",
     "status": "completed"
    },
    "tags": []
   },
   "outputs": [],
   "source": [
    "df = pd.read_sql(\"select * from EBAY_TOP_BERLIN where record_time in (select distinct record_time from EBAY_TOP_BERLIN order by record_time desc limit 2)\", sqlite3.connect(\"UsedObjects.db\"))"
   ]
  },
  {
   "cell_type": "code",
   "execution_count": 5,
   "id": "popular-active",
   "metadata": {
    "execution": {
     "iopub.execute_input": "2021-08-09T04:30:04.739026Z",
     "iopub.status.busy": "2021-08-09T04:30:04.737890Z",
     "iopub.status.idle": "2021-08-09T04:30:04.761795Z",
     "shell.execute_reply": "2021-08-09T04:30:04.762609Z"
    },
    "papermill": {
     "duration": 0.040243,
     "end_time": "2021-08-09T04:30:04.762876",
     "exception": false,
     "start_time": "2021-08-09T04:30:04.722633",
     "status": "completed"
    },
    "tags": []
   },
   "outputs": [],
   "source": [
    "df_pivot = df.pivot_table(index=\"PRODUCT\", columns = \"RECORD_TIME\", values = \"LISTING_COUNT\")"
   ]
  },
  {
   "cell_type": "code",
   "execution_count": 6,
   "id": "union-huntington",
   "metadata": {
    "execution": {
     "iopub.execute_input": "2021-08-09T04:30:04.789817Z",
     "iopub.status.busy": "2021-08-09T04:30:04.789112Z",
     "iopub.status.idle": "2021-08-09T04:30:04.794942Z",
     "shell.execute_reply": "2021-08-09T04:30:04.795480Z"
    },
    "papermill": {
     "duration": 0.022566,
     "end_time": "2021-08-09T04:30:04.795664",
     "exception": false,
     "start_time": "2021-08-09T04:30:04.773098",
     "status": "completed"
    },
    "tags": []
   },
   "outputs": [],
   "source": [
    "df_pivot.columns = [\"stamp_1\", \"stamp_2\"]\n",
    "df_pivot_diff = df_pivot.diff(axis=1)"
   ]
  },
  {
   "cell_type": "code",
   "execution_count": 7,
   "id": "fifth-motion",
   "metadata": {
    "execution": {
     "iopub.execute_input": "2021-08-09T04:30:04.826302Z",
     "iopub.status.busy": "2021-08-09T04:30:04.825003Z",
     "iopub.status.idle": "2021-08-09T04:30:05.525766Z",
     "shell.execute_reply": "2021-08-09T04:30:05.526341Z"
    },
    "papermill": {
     "duration": 0.722087,
     "end_time": "2021-08-09T04:30:05.526535",
     "exception": false,
     "start_time": "2021-08-09T04:30:04.804448",
     "status": "completed"
    },
    "tags": []
   },
   "outputs": [
    {
     "data": {
      "text/plain": [
       "<AxesSubplot:ylabel='PRODUCT'>"
      ]
     },
     "execution_count": 7,
     "metadata": {},
     "output_type": "execute_result"
    },
    {
     "data": {
      "image/png": "[encoded data removed]",
      "text/plain": [
       "<Figure size 432x288 with 1 Axes>"
      ]
     },
     "metadata": {
      "needs_background": "light"
     },
     "output_type": "display_data"
    }
   ],
   "source": [
    "df_pivot_diff.sort_values(\"stamp_2\", ascending = False)[\"stamp_2\"].head(10).plot.barh()"
   ]
  },
  {
   "cell_type": "code",
   "execution_count": null,
   "id": "extra-executive",
   "metadata": {
    "papermill": {
     "duration": 0.013057,
     "end_time": "2021-08-09T04:30:05.551526",
     "exception": false,
     "start_time": "2021-08-09T04:30:05.538469",
     "status": "completed"
    },
    "tags": []
   },
   "outputs": [],
   "source": []
  }
 ],
 "metadata": {
  "kernelspec": {
   "display_name": "Python 3",
   "language": "python",
   "name": "python3"
  },
  "language_info": {
   "codemirror_mode": {
    "name": "ipython",
    "version": 3
   },
   "file_extension": ".py",
   "mimetype": "text/x-python",
   "name": "python",
   "nbconvert_exporter": "python",
   "pygments_lexer": "ipython3",
   "version": "3.8.8"
  },
  "papermill": {
   "default_parameters": {},
   "duration": 4.906671,
   "end_time": "2021-08-09T04:30:06.974979",
   "environment_variables": {},
   "exception": null,
   "input_path": "/Users/saravananshanmugam/Carbonleakage_Git/UsedObjects/eBay_Overview.ipynb",
   "output_path": "/Users/saravananshanmugam/Carbonleakage_Git/UsedObjects/eBay_Overview.ipynb",
   "parameters": {},
   "start_time": "2021-08-09T04:30:02.068308",
   "version": "2.3.3"
  }
 },
 "nbformat": 4,
 "nbformat_minor": 5
}