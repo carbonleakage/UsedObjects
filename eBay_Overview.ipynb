{
 "cells": [
  {
   "cell_type": "code",
   "execution_count": 1,
   "id": "reverse-picking",
   "metadata": {
    "execution": {
     "iopub.execute_input": "2021-09-11T22:30:07.585013Z",
     "iopub.status.busy": "2021-09-11T22:30:07.583063Z",
     "iopub.status.idle": "2021-09-11T22:30:08.395921Z",
     "shell.execute_reply": "2021-09-11T22:30:08.397340Z"
    },
    "papermill": {
     "duration": 0.866245,
     "end_time": "2021-09-11T22:30:08.398016",
     "exception": false,
     "start_time": "2021-09-11T22:30:07.531771",
     "status": "completed"
    },
    "tags": []
   },
   "outputs": [],
   "source": [
    "import pandas as pd\n",
    "import sqlite3"
   ]
  },
  {
   "cell_type": "code",
   "execution_count": 2,
   "id": "innovative-syndrome",
   "metadata": {
    "execution": {
     "iopub.execute_input": "2021-09-11T22:30:08.449605Z",
     "iopub.status.busy": "2021-09-11T22:30:08.447288Z",
     "iopub.status.idle": "2021-09-11T22:30:08.710785Z",
     "shell.execute_reply": "2021-09-11T22:30:08.712060Z"
    },
    "papermill": {
     "duration": 0.293507,
     "end_time": "2021-09-11T22:30:08.712458",
     "exception": false,
     "start_time": "2021-09-11T22:30:08.418951",
     "status": "completed"
    },
    "tags": []
   },
   "outputs": [],
   "source": [
    "timestamps = pd.read_sql(\"select distinct record_time from EBAY_TOP_BERLIN order by record_time desc limit 2\", sqlite3.connect(\"UsedObjects.db\"))"
   ]
  },
  {
   "cell_type": "code",
   "execution_count": 3,
   "id": "periodic-identification",
   "metadata": {
    "execution": {
     "iopub.execute_input": "2021-09-11T22:30:08.776630Z",
     "iopub.status.busy": "2021-09-11T22:30:08.774560Z",
     "iopub.status.idle": "2021-09-11T22:30:08.796145Z",
     "shell.execute_reply": "2021-09-11T22:30:08.797398Z"
    },
    "papermill": {
     "duration": 0.066161,
     "end_time": "2021-09-11T22:30:08.797791",
     "exception": false,
     "start_time": "2021-09-11T22:30:08.731630",
     "status": "completed"
    },
    "tags": []
   },
   "outputs": [
    {
     "data": {
      "text/html": [
       "<div>\n",
       "<style scoped>\n",
       "    .dataframe tbody tr th:only-of-type {\n",
       "        vertical-align: middle;\n",
       "    }\n",
       "\n",
       "    .dataframe tbody tr th {\n",
       "        vertical-align: top;\n",
       "    }\n",
       "\n",
       "    .dataframe thead th {\n",
       "        text-align: right;\n",
       "    }\n",
       "</style>\n",
       "<table border=\"1\" class=\"dataframe\">\n",
       "  <thead>\n",
       "    <tr style=\"text-align: right;\">\n",
       "      <th></th>\n",
       "      <th>RECORD_TIME</th>\n",
       "    </tr>\n",
       "  </thead>\n",
       "  <tbody>\n",
       "    <tr>\n",
       "      <th>0</th>\n",
       "      <td>2021-09-12 00:30</td>\n",
       "    </tr>\n",
       "    <tr>\n",
       "      <th>1</th>\n",
       "      <td>2021-09-12 00:00</td>\n",
       "    </tr>\n",
       "  </tbody>\n",
       "</table>\n",
       "</div>"
      ],
      "text/plain": [
       "        RECORD_TIME\n",
       "0  2021-09-12 00:30\n",
       "1  2021-09-12 00:00"
      ]
     },
     "execution_count": 3,
     "metadata": {},
     "output_type": "execute_result"
    }
   ],
   "source": [
    "timestamps"
   ]
  },
  {
   "cell_type": "code",
   "execution_count": 4,
   "id": "alternate-victory",
   "metadata": {
    "execution": {
     "iopub.execute_input": "2021-09-11T22:30:08.849496Z",
     "iopub.status.busy": "2021-09-11T22:30:08.847355Z",
     "iopub.status.idle": "2021-09-11T22:30:09.254667Z",
     "shell.execute_reply": "2021-09-11T22:30:09.256112Z"
    },
    "papermill": {
     "duration": 0.437478,
     "end_time": "2021-09-11T22:30:09.256561",
     "exception": false,
     "start_time": "2021-09-11T22:30:08.819083",
     "status": "completed"
    },
    "tags": []
   },
   "outputs": [],
   "source": [
    "df = pd.read_sql(\"select * from EBAY_TOP_BERLIN where record_time in (select distinct record_time from EBAY_TOP_BERLIN order by record_time desc limit 2)\", sqlite3.connect(\"UsedObjects.db\"))"
   ]
  },
  {
   "cell_type": "code",
   "execution_count": 5,
   "id": "popular-active",
   "metadata": {
    "execution": {
     "iopub.execute_input": "2021-09-11T22:30:09.351737Z",
     "iopub.status.busy": "2021-09-11T22:30:09.342992Z",
     "iopub.status.idle": "2021-09-11T22:30:09.372212Z",
     "shell.execute_reply": "2021-09-11T22:30:09.373413Z"
    },
    "papermill": {
     "duration": 0.076506,
     "end_time": "2021-09-11T22:30:09.373810",
     "exception": false,
     "start_time": "2021-09-11T22:30:09.297304",
     "status": "completed"
    },
    "tags": []
   },
   "outputs": [],
   "source": [
    "df_pivot = df.pivot_table(index=\"PRODUCT\", columns = \"RECORD_TIME\", values = \"LISTING_COUNT\")"
   ]
  },
  {
   "cell_type": "code",
   "execution_count": 6,
   "id": "union-huntington",
   "metadata": {
    "execution": {
     "iopub.execute_input": "2021-09-11T22:30:09.432505Z",
     "iopub.status.busy": "2021-09-11T22:30:09.430030Z",
     "iopub.status.idle": "2021-09-11T22:30:09.436278Z",
     "shell.execute_reply": "2021-09-11T22:30:09.437632Z"
    },
    "papermill": {
     "duration": 0.042259,
     "end_time": "2021-09-11T22:30:09.438118",
     "exception": false,
     "start_time": "2021-09-11T22:30:09.395859",
     "status": "completed"
    },
    "tags": []
   },
   "outputs": [],
   "source": [
    "df_pivot.columns = [\"stamp_1\", \"stamp_2\"]\n",
    "df_pivot_diff = df_pivot.diff(axis=1)"
   ]
  },
  {
   "cell_type": "code",
   "execution_count": 7,
   "id": "fifth-motion",
   "metadata": {
    "execution": {
     "iopub.execute_input": "2021-09-11T22:30:09.492698Z",
     "iopub.status.busy": "2021-09-11T22:30:09.490199Z",
     "iopub.status.idle": "2021-09-11T22:30:10.962544Z",
     "shell.execute_reply": "2021-09-11T22:30:10.963892Z"
    },
    "papermill": {
     "duration": 1.504854,
     "end_time": "2021-09-11T22:30:10.964314",
     "exception": false,
     "start_time": "2021-09-11T22:30:09.459460",
     "status": "completed"
    },
    "tags": []
   },
   "outputs": [
    {
     "data": {
      "text/plain": [
       "<AxesSubplot:ylabel='PRODUCT'>"
      ]
     },
     "execution_count": 7,
     "metadata": {},
     "output_type": "execute_result"
    },
    {
     "data": {
      "image/png": "[encoded data removed]",
      "text/plain": [
       "<Figure size 432x288 with 1 Axes>"
      ]
     },
     "metadata": {
      "needs_background": "light"
     },
     "output_type": "display_data"
    }
   ],
   "source": [
    "df_pivot_diff.sort_values(\"stamp_2\", ascending = False)[\"stamp_2\"].head(10).plot.barh()"
   ]
  },
  {
   "cell_type": "code",
   "execution_count": null,
   "id": "extra-executive",
   "metadata": {
    "papermill": {
     "duration": 0.021759,
     "end_time": "2021-09-11T22:30:11.009788",
     "exception": false,
     "start_time": "2021-09-11T22:30:10.988029",
     "status": "completed"
    },
    "tags": []
   },
   "outputs": [],
   "source": []
  }
 ],
 "metadata": {
  "kernelspec": {
   "display_name": "Python 3",
   "language": "python",
   "name": "python3"
  },
  "language_info": {
   "codemirror_mode": {
    "name": "ipython",
    "version": 3
   },
   "file_extension": ".py",
   "mimetype": "text/x-python",
   "name": "python",
   "nbconvert_exporter": "python",
   "pygments_lexer": "ipython3",
   "version": "3.9.5"
  },
  "papermill": {
   "default_parameters": {},
   "duration": 6.542517,
   "end_time": "2021-09-11T22:30:11.650144",
   "environment_variables": {},
   "exception": null,
   "input_path": "eBay_Overview.ipynb",
   "output_path": "eBay_Overview.ipynb",
   "parameters": {},
   "start_time": "2021-09-11T22:30:05.107627",
   "version": "2.3.3"
  }
 },
 "nbformat": 4,
 "nbformat_minor": 5
}