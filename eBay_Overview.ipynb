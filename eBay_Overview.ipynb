{
 "cells": [
  {
   "cell_type": "code",
   "execution_count": 1,
   "id": "reverse-picking",
   "metadata": {
    "execution": {
     "iopub.execute_input": "2021-11-19T17:30:07.916909Z",
     "iopub.status.busy": "2021-11-19T17:30:07.914543Z",
     "iopub.status.idle": "2021-11-19T17:30:08.863498Z",
     "shell.execute_reply": "2021-11-19T17:30:08.865024Z"
    },
    "papermill": {
     "duration": 0.99829,
     "end_time": "2021-11-19T17:30:08.865848",
     "exception": false,
     "start_time": "2021-11-19T17:30:07.867558",
     "status": "completed"
    },
    "tags": []
   },
   "outputs": [],
   "source": [
    "import pandas as pd\n",
    "import sqlite3"
   ]
  },
  {
   "cell_type": "code",
   "execution_count": 2,
   "id": "innovative-syndrome",
   "metadata": {
    "execution": {
     "iopub.execute_input": "2021-11-19T17:30:08.929406Z",
     "iopub.status.busy": "2021-11-19T17:30:08.926974Z",
     "iopub.status.idle": "2021-11-19T17:30:09.788556Z",
     "shell.execute_reply": "2021-11-19T17:30:09.790185Z"
    },
    "papermill": {
     "duration": 0.897083,
     "end_time": "2021-11-19T17:30:09.790682",
     "exception": false,
     "start_time": "2021-11-19T17:30:08.893599",
     "status": "completed"
    },
    "tags": []
   },
   "outputs": [],
   "source": [
    "timestamps = pd.read_sql(\"select distinct record_time from EBAY_TOP_BERLIN order by record_time desc limit 2\", sqlite3.connect(\"UsedObjects.db\"))"
   ]
  },
  {
   "cell_type": "code",
   "execution_count": 3,
   "id": "periodic-identification",
   "metadata": {
    "execution": {
     "iopub.execute_input": "2021-11-19T17:30:09.861223Z",
     "iopub.status.busy": "2021-11-19T17:30:09.858747Z",
     "iopub.status.idle": "2021-11-19T17:30:09.883039Z",
     "shell.execute_reply": "2021-11-19T17:30:09.881479Z"
    },
    "papermill": {
     "duration": 0.071362,
     "end_time": "2021-11-19T17:30:09.883456",
     "exception": false,
     "start_time": "2021-11-19T17:30:09.812094",
     "status": "completed"
    },
    "tags": []
   },
   "outputs": [
    {
     "data": {
      "text/html": [
       "<div>\n",
       "<style scoped>\n",
       "    .dataframe tbody tr th:only-of-type {\n",
       "        vertical-align: middle;\n",
       "    }\n",
       "\n",
       "    .dataframe tbody tr th {\n",
       "        vertical-align: top;\n",
       "    }\n",
       "\n",
       "    .dataframe thead th {\n",
       "        text-align: right;\n",
       "    }\n",
       "</style>\n",
       "<table border=\"1\" class=\"dataframe\">\n",
       "  <thead>\n",
       "    <tr style=\"text-align: right;\">\n",
       "      <th></th>\n",
       "      <th>RECORD_TIME</th>\n",
       "    </tr>\n",
       "  </thead>\n",
       "  <tbody>\n",
       "    <tr>\n",
       "      <th>0</th>\n",
       "      <td>2021-11-19 18:30</td>\n",
       "    </tr>\n",
       "    <tr>\n",
       "      <th>1</th>\n",
       "      <td>2021-11-19 18:00</td>\n",
       "    </tr>\n",
       "  </tbody>\n",
       "</table>\n",
       "</div>"
      ],
      "text/plain": [
       "        RECORD_TIME\n",
       "0  2021-11-19 18:30\n",
       "1  2021-11-19 18:00"
      ]
     },
     "execution_count": 3,
     "metadata": {},
     "output_type": "execute_result"
    }
   ],
   "source": [
    "timestamps"
   ]
  },
  {
   "cell_type": "code",
   "execution_count": 4,
   "id": "alternate-victory",
   "metadata": {
    "execution": {
     "iopub.execute_input": "2021-11-19T17:30:09.937194Z",
     "iopub.status.busy": "2021-11-19T17:30:09.935012Z",
     "iopub.status.idle": "2021-11-19T17:30:11.178813Z",
     "shell.execute_reply": "2021-11-19T17:30:11.180356Z"
    },
    "papermill": {
     "duration": 1.276743,
     "end_time": "2021-11-19T17:30:11.180903",
     "exception": false,
     "start_time": "2021-11-19T17:30:09.904160",
     "status": "completed"
    },
    "tags": []
   },
   "outputs": [],
   "source": [
    "df = pd.read_sql(\"select * from EBAY_TOP_BERLIN where record_time in (select distinct record_time from EBAY_TOP_BERLIN order by record_time desc limit 2)\", sqlite3.connect(\"UsedObjects.db\"))"
   ]
  },
  {
   "cell_type": "code",
   "execution_count": 5,
   "id": "popular-active",
   "metadata": {
    "execution": {
     "iopub.execute_input": "2021-11-19T17:30:11.248161Z",
     "iopub.status.busy": "2021-11-19T17:30:11.245698Z",
     "iopub.status.idle": "2021-11-19T17:30:11.279976Z",
     "shell.execute_reply": "2021-11-19T17:30:11.281725Z"
    },
    "papermill": {
     "duration": 0.079097,
     "end_time": "2021-11-19T17:30:11.282246",
     "exception": false,
     "start_time": "2021-11-19T17:30:11.203149",
     "status": "completed"
    },
    "tags": []
   },
   "outputs": [],
   "source": [
    "df_pivot = df.pivot_table(index=\"PRODUCT\", columns = \"RECORD_TIME\", values = \"LISTING_COUNT\")"
   ]
  },
  {
   "cell_type": "code",
   "execution_count": 6,
   "id": "union-huntington",
   "metadata": {
    "execution": {
     "iopub.execute_input": "2021-11-19T17:30:11.345203Z",
     "iopub.status.busy": "2021-11-19T17:30:11.342736Z",
     "iopub.status.idle": "2021-11-19T17:30:11.350565Z",
     "shell.execute_reply": "2021-11-19T17:30:11.348896Z"
    },
    "papermill": {
     "duration": 0.04583,
     "end_time": "2021-11-19T17:30:11.350982",
     "exception": false,
     "start_time": "2021-11-19T17:30:11.305152",
     "status": "completed"
    },
    "tags": []
   },
   "outputs": [],
   "source": [
    "df_pivot.columns = [\"stamp_1\", \"stamp_2\"]\n",
    "df_pivot_diff = df_pivot.diff(axis=1)"
   ]
  },
  {
   "cell_type": "code",
   "execution_count": 7,
   "id": "fifth-motion",
   "metadata": {
    "execution": {
     "iopub.execute_input": "2021-11-19T17:30:11.411500Z",
     "iopub.status.busy": "2021-11-19T17:30:11.408898Z",
     "iopub.status.idle": "2021-11-19T17:30:13.142824Z",
     "shell.execute_reply": "2021-11-19T17:30:13.144200Z"
    },
    "papermill": {
     "duration": 1.77247,
     "end_time": "2021-11-19T17:30:13.144775",
     "exception": false,
     "start_time": "2021-11-19T17:30:11.372305",
     "status": "completed"
    },
    "tags": []
   },
   "outputs": [
    {
     "data": {
      "text/plain": [
       "<AxesSubplot:ylabel='PRODUCT'>"
      ]
     },
     "execution_count": 7,
     "metadata": {},
     "output_type": "execute_result"
    },
    {
     "data": {
      "image/png": "[encoded data removed]",
      "text/plain": [
       "<Figure size 432x288 with 1 Axes>"
      ]
     },
     "metadata": {
      "needs_background": "light"
     },
     "output_type": "display_data"
    }
   ],
   "source": [
    "df_pivot_diff.sort_values(\"stamp_2\", ascending = False)[\"stamp_2\"].head(10).plot.barh()"
   ]
  },
  {
   "cell_type": "code",
   "execution_count": null,
   "id": "extra-executive",
   "metadata": {
    "papermill": {
     "duration": 0.030453,
     "end_time": "2021-11-19T17:30:13.199691",
     "exception": false,
     "start_time": "2021-11-19T17:30:13.169238",
     "status": "completed"
    },
    "tags": []
   },
   "outputs": [],
   "source": []
  }
 ],
 "metadata": {
  "kernelspec": {
   "display_name": "Python 3",
   "language": "python",
   "name": "python3"
  },
  "language_info": {
   "codemirror_mode": {
    "name": "ipython",
    "version": 3
   },
   "file_extension": ".py",
   "mimetype": "text/x-python",
   "name": "python",
   "nbconvert_exporter": "python",
   "pygments_lexer": "ipython3",
   "version": "3.9.5"
  },
  "papermill": {
   "default_parameters": {},
   "duration": 9.999234,
   "end_time": "2021-11-19T17:30:15.068056",
   "environment_variables": {},
   "exception": null,
   "input_path": "eBay_Overview.ipynb",
   "output_path": "eBay_Overview.ipynb",
   "parameters": {},
   "start_time": "2021-11-19T17:30:05.068822",
   "version": "2.3.3"
  }
 },
 "nbformat": 4,
 "nbformat_minor": 5
}