{
 "cells": [
  {
   "cell_type": "code",
   "execution_count": 1,
   "id": "reverse-picking",
   "metadata": {
    "execution": {
     "iopub.execute_input": "2021-12-06T01:30:07.478275Z",
     "iopub.status.busy": "2021-12-06T01:30:07.475830Z",
     "iopub.status.idle": "2021-12-06T01:30:08.435257Z",
     "shell.execute_reply": "2021-12-06T01:30:08.436822Z"
    },
    "papermill": {
     "duration": 1.009417,
     "end_time": "2021-12-06T01:30:08.437582",
     "exception": false,
     "start_time": "2021-12-06T01:30:07.428165",
     "status": "completed"
    },
    "tags": []
   },
   "outputs": [],
   "source": [
    "import pandas as pd\n",
    "import sqlite3"
   ]
  },
  {
   "cell_type": "code",
   "execution_count": 2,
   "id": "innovative-syndrome",
   "metadata": {
    "execution": {
     "iopub.execute_input": "2021-12-06T01:30:08.522354Z",
     "iopub.status.busy": "2021-12-06T01:30:08.520146Z",
     "iopub.status.idle": "2021-12-06T01:30:09.535959Z",
     "shell.execute_reply": "2021-12-06T01:30:09.537753Z"
    },
    "papermill": {
     "duration": 1.049792,
     "end_time": "2021-12-06T01:30:09.538286",
     "exception": false,
     "start_time": "2021-12-06T01:30:08.488494",
     "status": "completed"
    },
    "tags": []
   },
   "outputs": [],
   "source": [
    "timestamps = pd.read_sql(\"select distinct record_time from EBAY_TOP_BERLIN order by record_time desc limit 2\", sqlite3.connect(\"UsedObjects.db\"))"
   ]
  },
  {
   "cell_type": "code",
   "execution_count": 3,
   "id": "periodic-identification",
   "metadata": {
    "execution": {
     "iopub.execute_input": "2021-12-06T01:30:09.614570Z",
     "iopub.status.busy": "2021-12-06T01:30:09.608043Z",
     "iopub.status.idle": "2021-12-06T01:30:09.630965Z",
     "shell.execute_reply": "2021-12-06T01:30:09.632441Z"
    },
    "papermill": {
     "duration": 0.07343,
     "end_time": "2021-12-06T01:30:09.633021",
     "exception": false,
     "start_time": "2021-12-06T01:30:09.559591",
     "status": "completed"
    },
    "tags": []
   },
   "outputs": [
    {
     "data": {
      "text/html": [
       "<div>\n",
       "<style scoped>\n",
       "    .dataframe tbody tr th:only-of-type {\n",
       "        vertical-align: middle;\n",
       "    }\n",
       "\n",
       "    .dataframe tbody tr th {\n",
       "        vertical-align: top;\n",
       "    }\n",
       "\n",
       "    .dataframe thead th {\n",
       "        text-align: right;\n",
       "    }\n",
       "</style>\n",
       "<table border=\"1\" class=\"dataframe\">\n",
       "  <thead>\n",
       "    <tr style=\"text-align: right;\">\n",
       "      <th></th>\n",
       "      <th>RECORD_TIME</th>\n",
       "    </tr>\n",
       "  </thead>\n",
       "  <tbody>\n",
       "    <tr>\n",
       "      <th>0</th>\n",
       "      <td>2021-12-06 02:30</td>\n",
       "    </tr>\n",
       "    <tr>\n",
       "      <th>1</th>\n",
       "      <td>2021-12-06 02:00</td>\n",
       "    </tr>\n",
       "  </tbody>\n",
       "</table>\n",
       "</div>"
      ],
      "text/plain": [
       "        RECORD_TIME\n",
       "0  2021-12-06 02:30\n",
       "1  2021-12-06 02:00"
      ]
     },
     "execution_count": 3,
     "metadata": {},
     "output_type": "execute_result"
    }
   ],
   "source": [
    "timestamps"
   ]
  },
  {
   "cell_type": "code",
   "execution_count": 4,
   "id": "alternate-victory",
   "metadata": {
    "execution": {
     "iopub.execute_input": "2021-12-06T01:30:09.689280Z",
     "iopub.status.busy": "2021-12-06T01:30:09.686862Z",
     "iopub.status.idle": "2021-12-06T01:30:11.105650Z",
     "shell.execute_reply": "2021-12-06T01:30:11.107264Z"
    },
    "papermill": {
     "duration": 1.454276,
     "end_time": "2021-12-06T01:30:11.107906",
     "exception": false,
     "start_time": "2021-12-06T01:30:09.653630",
     "status": "completed"
    },
    "tags": []
   },
   "outputs": [],
   "source": [
    "df = pd.read_sql(\"select * from EBAY_TOP_BERLIN where record_time in (select distinct record_time from EBAY_TOP_BERLIN order by record_time desc limit 2)\", sqlite3.connect(\"UsedObjects.db\"))"
   ]
  },
  {
   "cell_type": "code",
   "execution_count": 5,
   "id": "popular-active",
   "metadata": {
    "execution": {
     "iopub.execute_input": "2021-12-06T01:30:11.184141Z",
     "iopub.status.busy": "2021-12-06T01:30:11.170374Z",
     "iopub.status.idle": "2021-12-06T01:30:11.202227Z",
     "shell.execute_reply": "2021-12-06T01:30:11.203587Z"
    },
    "papermill": {
     "duration": 0.074539,
     "end_time": "2021-12-06T01:30:11.204060",
     "exception": false,
     "start_time": "2021-12-06T01:30:11.129521",
     "status": "completed"
    },
    "tags": []
   },
   "outputs": [],
   "source": [
    "df_pivot = df.pivot_table(index=\"PRODUCT\", columns = \"RECORD_TIME\", values = \"LISTING_COUNT\")"
   ]
  },
  {
   "cell_type": "code",
   "execution_count": 6,
   "id": "union-huntington",
   "metadata": {
    "execution": {
     "iopub.execute_input": "2021-12-06T01:30:11.267168Z",
     "iopub.status.busy": "2021-12-06T01:30:11.264826Z",
     "iopub.status.idle": "2021-12-06T01:30:11.270744Z",
     "shell.execute_reply": "2021-12-06T01:30:11.272317Z"
    },
    "papermill": {
     "duration": 0.048817,
     "end_time": "2021-12-06T01:30:11.273006",
     "exception": false,
     "start_time": "2021-12-06T01:30:11.224189",
     "status": "completed"
    },
    "tags": []
   },
   "outputs": [],
   "source": [
    "df_pivot.columns = [\"stamp_1\", \"stamp_2\"]\n",
    "df_pivot_diff = df_pivot.diff(axis=1)"
   ]
  },
  {
   "cell_type": "code",
   "execution_count": 7,
   "id": "fifth-motion",
   "metadata": {
    "execution": {
     "iopub.execute_input": "2021-12-06T01:30:11.335300Z",
     "iopub.status.busy": "2021-12-06T01:30:11.332180Z",
     "iopub.status.idle": "2021-12-06T01:30:13.292235Z",
     "shell.execute_reply": "2021-12-06T01:30:13.295321Z"
    },
    "papermill": {
     "duration": 2.000467,
     "end_time": "2021-12-06T01:30:13.296080",
     "exception": false,
     "start_time": "2021-12-06T01:30:11.295613",
     "status": "completed"
    },
    "tags": []
   },
   "outputs": [
    {
     "data": {
      "text/plain": [
       "<AxesSubplot:ylabel='PRODUCT'>"
      ]
     },
     "execution_count": 7,
     "metadata": {},
     "output_type": "execute_result"
    },
    {
     "data": {
      "image/png": "[encoded data removed]",
      "text/plain": [
       "<Figure size 432x288 with 1 Axes>"
      ]
     },
     "metadata": {
      "needs_background": "light"
     },
     "output_type": "display_data"
    }
   ],
   "source": [
    "df_pivot_diff.sort_values(\"stamp_2\", ascending = False)[\"stamp_2\"].head(10).plot.barh()"
   ]
  },
  {
   "cell_type": "code",
   "execution_count": null,
   "id": "extra-executive",
   "metadata": {
    "papermill": {
     "duration": 0.027583,
     "end_time": "2021-12-06T01:30:13.356216",
     "exception": false,
     "start_time": "2021-12-06T01:30:13.328633",
     "status": "completed"
    },
    "tags": []
   },
   "outputs": [],
   "source": []
  }
 ],
 "metadata": {
  "kernelspec": {
   "display_name": "Python 3",
   "language": "python",
   "name": "python3"
  },
  "language_info": {
   "codemirror_mode": {
    "name": "ipython",
    "version": 3
   },
   "file_extension": ".py",
   "mimetype": "text/x-python",
   "name": "python",
   "nbconvert_exporter": "python",
   "pygments_lexer": "ipython3",
   "version": "3.9.5"
  },
  "papermill": {
   "default_parameters": {},
   "duration": 11.940848,
   "end_time": "2021-12-06T01:30:16.618019",
   "environment_variables": {},
   "exception": null,
   "input_path": "eBay_Overview.ipynb",
   "output_path": "eBay_Overview.ipynb",
   "parameters": {},
   "start_time": "2021-12-06T01:30:04.677171",
   "version": "2.3.3"
  }
 },
 "nbformat": 4,
 "nbformat_minor": 5
}