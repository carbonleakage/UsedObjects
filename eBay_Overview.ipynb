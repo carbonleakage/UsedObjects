{
 "cells": [
  {
   "cell_type": "code",
   "execution_count": 1,
   "id": "reverse-picking",
   "metadata": {
    "execution": {
     "iopub.execute_input": "2021-12-04T00:30:08.090631Z",
     "iopub.status.busy": "2021-12-04T00:30:08.088419Z",
     "iopub.status.idle": "2021-12-04T00:30:09.055258Z",
     "shell.execute_reply": "2021-12-04T00:30:09.056649Z"
    },
    "papermill": {
     "duration": 1.016502,
     "end_time": "2021-12-04T00:30:09.057429",
     "exception": false,
     "start_time": "2021-12-04T00:30:08.040927",
     "status": "completed"
    },
    "tags": []
   },
   "outputs": [],
   "source": [
    "import pandas as pd\n",
    "import sqlite3"
   ]
  },
  {
   "cell_type": "code",
   "execution_count": 2,
   "id": "innovative-syndrome",
   "metadata": {
    "execution": {
     "iopub.execute_input": "2021-12-04T00:30:09.129998Z",
     "iopub.status.busy": "2021-12-04T00:30:09.127821Z",
     "iopub.status.idle": "2021-12-04T00:30:10.114191Z",
     "shell.execute_reply": "2021-12-04T00:30:10.115734Z"
    },
    "papermill": {
     "duration": 1.022115,
     "end_time": "2021-12-04T00:30:10.116227",
     "exception": false,
     "start_time": "2021-12-04T00:30:09.094112",
     "status": "completed"
    },
    "tags": []
   },
   "outputs": [],
   "source": [
    "timestamps = pd.read_sql(\"select distinct record_time from EBAY_TOP_BERLIN order by record_time desc limit 2\", sqlite3.connect(\"UsedObjects.db\"))"
   ]
  },
  {
   "cell_type": "code",
   "execution_count": 3,
   "id": "periodic-identification",
   "metadata": {
    "execution": {
     "iopub.execute_input": "2021-12-04T00:30:10.189705Z",
     "iopub.status.busy": "2021-12-04T00:30:10.187222Z",
     "iopub.status.idle": "2021-12-04T00:30:10.211263Z",
     "shell.execute_reply": "2021-12-04T00:30:10.213798Z"
    },
    "papermill": {
     "duration": 0.077218,
     "end_time": "2021-12-04T00:30:10.214305",
     "exception": false,
     "start_time": "2021-12-04T00:30:10.137087",
     "status": "completed"
    },
    "tags": []
   },
   "outputs": [
    {
     "data": {
      "text/html": [
       "<div>\n",
       "<style scoped>\n",
       "    .dataframe tbody tr th:only-of-type {\n",
       "        vertical-align: middle;\n",
       "    }\n",
       "\n",
       "    .dataframe tbody tr th {\n",
       "        vertical-align: top;\n",
       "    }\n",
       "\n",
       "    .dataframe thead th {\n",
       "        text-align: right;\n",
       "    }\n",
       "</style>\n",
       "<table border=\"1\" class=\"dataframe\">\n",
       "  <thead>\n",
       "    <tr style=\"text-align: right;\">\n",
       "      <th></th>\n",
       "      <th>RECORD_TIME</th>\n",
       "    </tr>\n",
       "  </thead>\n",
       "  <tbody>\n",
       "    <tr>\n",
       "      <th>0</th>\n",
       "      <td>2021-12-04 01:30</td>\n",
       "    </tr>\n",
       "    <tr>\n",
       "      <th>1</th>\n",
       "      <td>2021-12-04 01:00</td>\n",
       "    </tr>\n",
       "  </tbody>\n",
       "</table>\n",
       "</div>"
      ],
      "text/plain": [
       "        RECORD_TIME\n",
       "0  2021-12-04 01:30\n",
       "1  2021-12-04 01:00"
      ]
     },
     "execution_count": 3,
     "metadata": {},
     "output_type": "execute_result"
    }
   ],
   "source": [
    "timestamps"
   ]
  },
  {
   "cell_type": "code",
   "execution_count": 4,
   "id": "alternate-victory",
   "metadata": {
    "execution": {
     "iopub.execute_input": "2021-12-04T00:30:10.269573Z",
     "iopub.status.busy": "2021-12-04T00:30:10.267068Z",
     "iopub.status.idle": "2021-12-04T00:30:11.694007Z",
     "shell.execute_reply": "2021-12-04T00:30:11.695314Z"
    },
    "papermill": {
     "duration": 1.460105,
     "end_time": "2021-12-04T00:30:11.695828",
     "exception": false,
     "start_time": "2021-12-04T00:30:10.235723",
     "status": "completed"
    },
    "tags": []
   },
   "outputs": [],
   "source": [
    "df = pd.read_sql(\"select * from EBAY_TOP_BERLIN where record_time in (select distinct record_time from EBAY_TOP_BERLIN order by record_time desc limit 2)\", sqlite3.connect(\"UsedObjects.db\"))"
   ]
  },
  {
   "cell_type": "code",
   "execution_count": 5,
   "id": "popular-active",
   "metadata": {
    "execution": {
     "iopub.execute_input": "2021-12-04T00:30:11.768581Z",
     "iopub.status.busy": "2021-12-04T00:30:11.759747Z",
     "iopub.status.idle": "2021-12-04T00:30:11.793905Z",
     "shell.execute_reply": "2021-12-04T00:30:11.792276Z"
    },
    "papermill": {
     "duration": 0.076778,
     "end_time": "2021-12-04T00:30:11.794316",
     "exception": false,
     "start_time": "2021-12-04T00:30:11.717538",
     "status": "completed"
    },
    "tags": []
   },
   "outputs": [],
   "source": [
    "df_pivot = df.pivot_table(index=\"PRODUCT\", columns = \"RECORD_TIME\", values = \"LISTING_COUNT\")"
   ]
  },
  {
   "cell_type": "code",
   "execution_count": 6,
   "id": "union-huntington",
   "metadata": {
    "execution": {
     "iopub.execute_input": "2021-12-04T00:30:11.852909Z",
     "iopub.status.busy": "2021-12-04T00:30:11.850655Z",
     "iopub.status.idle": "2021-12-04T00:30:11.855986Z",
     "shell.execute_reply": "2021-12-04T00:30:11.857435Z"
    },
    "papermill": {
     "duration": 0.04381,
     "end_time": "2021-12-04T00:30:11.857915",
     "exception": false,
     "start_time": "2021-12-04T00:30:11.814105",
     "status": "completed"
    },
    "tags": []
   },
   "outputs": [],
   "source": [
    "df_pivot.columns = [\"stamp_1\", \"stamp_2\"]\n",
    "df_pivot_diff = df_pivot.diff(axis=1)"
   ]
  },
  {
   "cell_type": "code",
   "execution_count": 7,
   "id": "fifth-motion",
   "metadata": {
    "execution": {
     "iopub.execute_input": "2021-12-04T00:30:11.918164Z",
     "iopub.status.busy": "2021-12-04T00:30:11.915331Z",
     "iopub.status.idle": "2021-12-04T00:30:13.870725Z",
     "shell.execute_reply": "2021-12-04T00:30:13.873447Z"
    },
    "papermill": {
     "duration": 1.996029,
     "end_time": "2021-12-04T00:30:13.874279",
     "exception": false,
     "start_time": "2021-12-04T00:30:11.878250",
     "status": "completed"
    },
    "tags": []
   },
   "outputs": [
    {
     "data": {
      "text/plain": [
       "<AxesSubplot:ylabel='PRODUCT'>"
      ]
     },
     "execution_count": 7,
     "metadata": {},
     "output_type": "execute_result"
    },
    {
     "data": {
      "image/png": "[encoded data removed]",
      "text/plain": [
       "<Figure size 432x288 with 1 Axes>"
      ]
     },
     "metadata": {
      "needs_background": "light"
     },
     "output_type": "display_data"
    }
   ],
   "source": [
    "df_pivot_diff.sort_values(\"stamp_2\", ascending = False)[\"stamp_2\"].head(10).plot.barh()"
   ]
  },
  {
   "cell_type": "code",
   "execution_count": null,
   "id": "extra-executive",
   "metadata": {
    "papermill": {
     "duration": 0.033844,
     "end_time": "2021-12-04T00:30:13.945610",
     "exception": false,
     "start_time": "2021-12-04T00:30:13.911766",
     "status": "completed"
    },
    "tags": []
   },
   "outputs": [],
   "source": []
  }
 ],
 "metadata": {
  "kernelspec": {
   "display_name": "Python 3",
   "language": "python",
   "name": "python3"
  },
  "language_info": {
   "codemirror_mode": {
    "name": "ipython",
    "version": 3
   },
   "file_extension": ".py",
   "mimetype": "text/x-python",
   "name": "python",
   "nbconvert_exporter": "python",
   "pygments_lexer": "ipython3",
   "version": "3.9.5"
  },
  "papermill": {
   "default_parameters": {},
   "duration": 9.928693,
   "end_time": "2021-12-04T00:30:15.240236",
   "environment_variables": {},
   "exception": null,
   "input_path": "eBay_Overview.ipynb",
   "output_path": "eBay_Overview.ipynb",
   "parameters": {},
   "start_time": "2021-12-04T00:30:05.311543",
   "version": "2.3.3"
  }
 },
 "nbformat": 4,
 "nbformat_minor": 5
}