{
 "cells": [
  {
   "cell_type": "code",
   "execution_count": 1,
   "id": "reverse-picking",
   "metadata": {
    "execution": {
     "iopub.execute_input": "2021-08-31T15:00:07.010622Z",
     "iopub.status.busy": "2021-08-31T15:00:07.008689Z",
     "iopub.status.idle": "2021-08-31T15:00:07.812923Z",
     "shell.execute_reply": "2021-08-31T15:00:07.814243Z"
    },
    "papermill": {
     "duration": 0.856958,
     "end_time": "2021-08-31T15:00:07.814933",
     "exception": false,
     "start_time": "2021-08-31T15:00:06.957975",
     "status": "completed"
    },
    "tags": []
   },
   "outputs": [],
   "source": [
    "import pandas as pd\n",
    "import sqlite3"
   ]
  },
  {
   "cell_type": "code",
   "execution_count": 2,
   "id": "innovative-syndrome",
   "metadata": {
    "execution": {
     "iopub.execute_input": "2021-08-31T15:00:07.864689Z",
     "iopub.status.busy": "2021-08-31T15:00:07.862750Z",
     "iopub.status.idle": "2021-08-31T15:00:08.037734Z",
     "shell.execute_reply": "2021-08-31T15:00:08.039091Z"
    },
    "papermill": {
     "duration": 0.204699,
     "end_time": "2021-08-31T15:00:08.039521",
     "exception": false,
     "start_time": "2021-08-31T15:00:07.834822",
     "status": "completed"
    },
    "tags": []
   },
   "outputs": [],
   "source": [
    "timestamps = pd.read_sql(\"select distinct record_time from EBAY_TOP_BERLIN order by record_time desc limit 2\", sqlite3.connect(\"UsedObjects.db\"))"
   ]
  },
  {
   "cell_type": "code",
   "execution_count": 3,
   "id": "periodic-identification",
   "metadata": {
    "execution": {
     "iopub.execute_input": "2021-08-31T15:00:08.105503Z",
     "iopub.status.busy": "2021-08-31T15:00:08.103374Z",
     "iopub.status.idle": "2021-08-31T15:00:08.123969Z",
     "shell.execute_reply": "2021-08-31T15:00:08.125099Z"
    },
    "papermill": {
     "duration": 0.066019,
     "end_time": "2021-08-31T15:00:08.125505",
     "exception": false,
     "start_time": "2021-08-31T15:00:08.059486",
     "status": "completed"
    },
    "tags": []
   },
   "outputs": [
    {
     "data": {
      "text/html": [
       "<div>\n",
       "<style scoped>\n",
       "    .dataframe tbody tr th:only-of-type {\n",
       "        vertical-align: middle;\n",
       "    }\n",
       "\n",
       "    .dataframe tbody tr th {\n",
       "        vertical-align: top;\n",
       "    }\n",
       "\n",
       "    .dataframe thead th {\n",
       "        text-align: right;\n",
       "    }\n",
       "</style>\n",
       "<table border=\"1\" class=\"dataframe\">\n",
       "  <thead>\n",
       "    <tr style=\"text-align: right;\">\n",
       "      <th></th>\n",
       "      <th>RECORD_TIME</th>\n",
       "    </tr>\n",
       "  </thead>\n",
       "  <tbody>\n",
       "    <tr>\n",
       "      <th>0</th>\n",
       "      <td>2021-08-31 17:00</td>\n",
       "    </tr>\n",
       "    <tr>\n",
       "      <th>1</th>\n",
       "      <td>2021-08-31 16:30</td>\n",
       "    </tr>\n",
       "  </tbody>\n",
       "</table>\n",
       "</div>"
      ],
      "text/plain": [
       "        RECORD_TIME\n",
       "0  2021-08-31 17:00\n",
       "1  2021-08-31 16:30"
      ]
     },
     "execution_count": 3,
     "metadata": {},
     "output_type": "execute_result"
    }
   ],
   "source": [
    "timestamps"
   ]
  },
  {
   "cell_type": "code",
   "execution_count": 4,
   "id": "alternate-victory",
   "metadata": {
    "execution": {
     "iopub.execute_input": "2021-08-31T15:00:08.178687Z",
     "iopub.status.busy": "2021-08-31T15:00:08.176444Z",
     "iopub.status.idle": "2021-08-31T15:00:08.439854Z",
     "shell.execute_reply": "2021-08-31T15:00:08.441253Z"
    },
    "papermill": {
     "duration": 0.294203,
     "end_time": "2021-08-31T15:00:08.441690",
     "exception": false,
     "start_time": "2021-08-31T15:00:08.147487",
     "status": "completed"
    },
    "tags": []
   },
   "outputs": [],
   "source": [
    "df = pd.read_sql(\"select * from EBAY_TOP_BERLIN where record_time in (select distinct record_time from EBAY_TOP_BERLIN order by record_time desc limit 2)\", sqlite3.connect(\"UsedObjects.db\"))"
   ]
  },
  {
   "cell_type": "code",
   "execution_count": 5,
   "id": "popular-active",
   "metadata": {
    "execution": {
     "iopub.execute_input": "2021-08-31T15:00:08.507690Z",
     "iopub.status.busy": "2021-08-31T15:00:08.499786Z",
     "iopub.status.idle": "2021-08-31T15:00:08.530297Z",
     "shell.execute_reply": "2021-08-31T15:00:08.531644Z"
    },
    "papermill": {
     "duration": 0.069543,
     "end_time": "2021-08-31T15:00:08.532060",
     "exception": false,
     "start_time": "2021-08-31T15:00:08.462517",
     "status": "completed"
    },
    "tags": []
   },
   "outputs": [],
   "source": [
    "df_pivot = df.pivot_table(index=\"PRODUCT\", columns = \"RECORD_TIME\", values = \"LISTING_COUNT\")"
   ]
  },
  {
   "cell_type": "code",
   "execution_count": 6,
   "id": "union-huntington",
   "metadata": {
    "execution": {
     "iopub.execute_input": "2021-08-31T15:00:08.588566Z",
     "iopub.status.busy": "2021-08-31T15:00:08.586528Z",
     "iopub.status.idle": "2021-08-31T15:00:08.591522Z",
     "shell.execute_reply": "2021-08-31T15:00:08.592722Z"
    },
    "papermill": {
     "duration": 0.039748,
     "end_time": "2021-08-31T15:00:08.593115",
     "exception": false,
     "start_time": "2021-08-31T15:00:08.553367",
     "status": "completed"
    },
    "tags": []
   },
   "outputs": [],
   "source": [
    "df_pivot.columns = [\"stamp_1\", \"stamp_2\"]\n",
    "df_pivot_diff = df_pivot.diff(axis=1)"
   ]
  },
  {
   "cell_type": "code",
   "execution_count": 7,
   "id": "fifth-motion",
   "metadata": {
    "execution": {
     "iopub.execute_input": "2021-08-31T15:00:08.647384Z",
     "iopub.status.busy": "2021-08-31T15:00:08.644934Z",
     "iopub.status.idle": "2021-08-31T15:00:10.119009Z",
     "shell.execute_reply": "2021-08-31T15:00:10.120475Z"
    },
    "papermill": {
     "duration": 1.507371,
     "end_time": "2021-08-31T15:00:10.120917",
     "exception": false,
     "start_time": "2021-08-31T15:00:08.613546",
     "status": "completed"
    },
    "tags": []
   },
   "outputs": [
    {
     "data": {
      "text/plain": [
       "<AxesSubplot:ylabel='PRODUCT'>"
      ]
     },
     "execution_count": 7,
     "metadata": {},
     "output_type": "execute_result"
    },
    {
     "data": {
      "image/png": "[encoded data removed]",
      "text/plain": [
       "<Figure size 432x288 with 1 Axes>"
      ]
     },
     "metadata": {
      "needs_background": "light"
     },
     "output_type": "display_data"
    }
   ],
   "source": [
    "df_pivot_diff.sort_values(\"stamp_2\", ascending = False)[\"stamp_2\"].head(10).plot.barh()"
   ]
  },
  {
   "cell_type": "code",
   "execution_count": null,
   "id": "extra-executive",
   "metadata": {
    "papermill": {
     "duration": 0.022414,
     "end_time": "2021-08-31T15:00:10.167872",
     "exception": false,
     "start_time": "2021-08-31T15:00:10.145458",
     "status": "completed"
    },
    "tags": []
   },
   "outputs": [],
   "source": []
  }
 ],
 "metadata": {
  "kernelspec": {
   "display_name": "Python 3",
   "language": "python",
   "name": "python3"
  },
  "language_info": {
   "codemirror_mode": {
    "name": "ipython",
    "version": 3
   },
   "file_extension": ".py",
   "mimetype": "text/x-python",
   "name": "python",
   "nbconvert_exporter": "python",
   "pygments_lexer": "ipython3",
   "version": "3.9.5"
  },
  "papermill": {
   "default_parameters": {},
   "duration": 6.836131,
   "end_time": "2021-08-31T15:00:11.370814",
   "environment_variables": {},
   "exception": null,
   "input_path": "eBay_Overview.ipynb",
   "output_path": "eBay_Overview.ipynb",
   "parameters": {},
   "start_time": "2021-08-31T15:00:04.534683",
   "version": "2.3.3"
  }
 },
 "nbformat": 4,
 "nbformat_minor": 5
}