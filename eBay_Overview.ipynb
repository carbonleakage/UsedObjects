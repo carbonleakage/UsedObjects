{
 "cells": [
  {
   "cell_type": "code",
   "execution_count": 1,
   "id": "reverse-picking",
   "metadata": {
    "execution": {
     "iopub.execute_input": "2021-12-10T04:00:07.879244Z",
     "iopub.status.busy": "2021-12-10T04:00:07.877006Z",
     "iopub.status.idle": "2021-12-10T04:00:08.842342Z",
     "shell.execute_reply": "2021-12-10T04:00:08.843532Z"
    },
    "papermill": {
     "duration": 1.016117,
     "end_time": "2021-12-10T04:00:08.844177",
     "exception": false,
     "start_time": "2021-12-10T04:00:07.828060",
     "status": "completed"
    },
    "tags": []
   },
   "outputs": [],
   "source": [
    "import pandas as pd\n",
    "import sqlite3"
   ]
  },
  {
   "cell_type": "code",
   "execution_count": 2,
   "id": "innovative-syndrome",
   "metadata": {
    "execution": {
     "iopub.execute_input": "2021-12-10T04:00:08.905239Z",
     "iopub.status.busy": "2021-12-10T04:00:08.903035Z",
     "iopub.status.idle": "2021-12-10T04:00:09.938062Z",
     "shell.execute_reply": "2021-12-10T04:00:09.939496Z"
    },
    "papermill": {
     "duration": 1.0732,
     "end_time": "2021-12-10T04:00:09.939954",
     "exception": false,
     "start_time": "2021-12-10T04:00:08.866754",
     "status": "completed"
    },
    "tags": []
   },
   "outputs": [],
   "source": [
    "timestamps = pd.read_sql(\"select distinct record_time from EBAY_TOP_BERLIN order by record_time desc limit 2\", sqlite3.connect(\"UsedObjects.db\"))"
   ]
  },
  {
   "cell_type": "code",
   "execution_count": 3,
   "id": "periodic-identification",
   "metadata": {
    "execution": {
     "iopub.execute_input": "2021-12-10T04:00:10.009484Z",
     "iopub.status.busy": "2021-12-10T04:00:10.006950Z",
     "iopub.status.idle": "2021-12-10T04:00:10.034604Z",
     "shell.execute_reply": "2021-12-10T04:00:10.032227Z"
    },
    "papermill": {
     "duration": 0.075384,
     "end_time": "2021-12-10T04:00:10.035159",
     "exception": false,
     "start_time": "2021-12-10T04:00:09.959775",
     "status": "completed"
    },
    "tags": []
   },
   "outputs": [
    {
     "data": {
      "text/html": [
       "<div>\n",
       "<style scoped>\n",
       "    .dataframe tbody tr th:only-of-type {\n",
       "        vertical-align: middle;\n",
       "    }\n",
       "\n",
       "    .dataframe tbody tr th {\n",
       "        vertical-align: top;\n",
       "    }\n",
       "\n",
       "    .dataframe thead th {\n",
       "        text-align: right;\n",
       "    }\n",
       "</style>\n",
       "<table border=\"1\" class=\"dataframe\">\n",
       "  <thead>\n",
       "    <tr style=\"text-align: right;\">\n",
       "      <th></th>\n",
       "      <th>RECORD_TIME</th>\n",
       "    </tr>\n",
       "  </thead>\n",
       "  <tbody>\n",
       "    <tr>\n",
       "      <th>0</th>\n",
       "      <td>2021-12-10 05:00</td>\n",
       "    </tr>\n",
       "    <tr>\n",
       "      <th>1</th>\n",
       "      <td>2021-12-10 04:30</td>\n",
       "    </tr>\n",
       "  </tbody>\n",
       "</table>\n",
       "</div>"
      ],
      "text/plain": [
       "        RECORD_TIME\n",
       "0  2021-12-10 05:00\n",
       "1  2021-12-10 04:30"
      ]
     },
     "execution_count": 3,
     "metadata": {},
     "output_type": "execute_result"
    }
   ],
   "source": [
    "timestamps"
   ]
  },
  {
   "cell_type": "code",
   "execution_count": 4,
   "id": "alternate-victory",
   "metadata": {
    "execution": {
     "iopub.execute_input": "2021-12-10T04:00:10.116934Z",
     "iopub.status.busy": "2021-12-10T04:00:10.113981Z",
     "iopub.status.idle": "2021-12-10T04:00:11.628554Z",
     "shell.execute_reply": "2021-12-10T04:00:11.631472Z"
    },
    "papermill": {
     "duration": 1.566366,
     "end_time": "2021-12-10T04:00:11.632387",
     "exception": false,
     "start_time": "2021-12-10T04:00:10.066021",
     "status": "completed"
    },
    "tags": []
   },
   "outputs": [],
   "source": [
    "df = pd.read_sql(\"select * from EBAY_TOP_BERLIN where record_time in (select distinct record_time from EBAY_TOP_BERLIN order by record_time desc limit 2)\", sqlite3.connect(\"UsedObjects.db\"))"
   ]
  },
  {
   "cell_type": "code",
   "execution_count": 5,
   "id": "popular-active",
   "metadata": {
    "execution": {
     "iopub.execute_input": "2021-12-10T04:00:11.751885Z",
     "iopub.status.busy": "2021-12-10T04:00:11.740022Z",
     "iopub.status.idle": "2021-12-10T04:00:11.789747Z",
     "shell.execute_reply": "2021-12-10T04:00:11.792421Z"
    },
    "papermill": {
     "duration": 0.131507,
     "end_time": "2021-12-10T04:00:11.793237",
     "exception": false,
     "start_time": "2021-12-10T04:00:11.661730",
     "status": "completed"
    },
    "tags": []
   },
   "outputs": [],
   "source": [
    "df_pivot = df.pivot_table(index=\"PRODUCT\", columns = \"RECORD_TIME\", values = \"LISTING_COUNT\")"
   ]
  },
  {
   "cell_type": "code",
   "execution_count": 6,
   "id": "union-huntington",
   "metadata": {
    "execution": {
     "iopub.execute_input": "2021-12-10T04:00:11.883342Z",
     "iopub.status.busy": "2021-12-10T04:00:11.880385Z",
     "iopub.status.idle": "2021-12-10T04:00:11.888239Z",
     "shell.execute_reply": "2021-12-10T04:00:11.890272Z"
    },
    "papermill": {
     "duration": 0.06365,
     "end_time": "2021-12-10T04:00:11.890922",
     "exception": false,
     "start_time": "2021-12-10T04:00:11.827272",
     "status": "completed"
    },
    "tags": []
   },
   "outputs": [],
   "source": [
    "df_pivot.columns = [\"stamp_1\", \"stamp_2\"]\n",
    "df_pivot_diff = df_pivot.diff(axis=1)"
   ]
  },
  {
   "cell_type": "code",
   "execution_count": 7,
   "id": "fifth-motion",
   "metadata": {
    "execution": {
     "iopub.execute_input": "2021-12-10T04:00:11.988434Z",
     "iopub.status.busy": "2021-12-10T04:00:11.972502Z",
     "iopub.status.idle": "2021-12-10T04:00:13.698143Z",
     "shell.execute_reply": "2021-12-10T04:00:13.699430Z"
    },
    "papermill": {
     "duration": 1.783906,
     "end_time": "2021-12-10T04:00:13.699857",
     "exception": false,
     "start_time": "2021-12-10T04:00:11.915951",
     "status": "completed"
    },
    "tags": []
   },
   "outputs": [
    {
     "data": {
      "text/plain": [
       "<AxesSubplot:ylabel='PRODUCT'>"
      ]
     },
     "execution_count": 7,
     "metadata": {},
     "output_type": "execute_result"
    },
    {
     "data": {
      "image/png": "[encoded data removed]",
      "text/plain": [
       "<Figure size 432x288 with 1 Axes>"
      ]
     },
     "metadata": {
      "needs_background": "light"
     },
     "output_type": "display_data"
    }
   ],
   "source": [
    "df_pivot_diff.sort_values(\"stamp_2\", ascending = False)[\"stamp_2\"].head(10).plot.barh()"
   ]
  },
  {
   "cell_type": "code",
   "execution_count": null,
   "id": "extra-executive",
   "metadata": {
    "papermill": {
     "duration": 0.022137,
     "end_time": "2021-12-10T04:00:13.746749",
     "exception": false,
     "start_time": "2021-12-10T04:00:13.724612",
     "status": "completed"
    },
    "tags": []
   },
   "outputs": [],
   "source": []
  }
 ],
 "metadata": {
  "kernelspec": {
   "display_name": "Python 3",
   "language": "python",
   "name": "python3"
  },
  "language_info": {
   "codemirror_mode": {
    "name": "ipython",
    "version": 3
   },
   "file_extension": ".py",
   "mimetype": "text/x-python",
   "name": "python",
   "nbconvert_exporter": "python",
   "pygments_lexer": "ipython3",
   "version": "3.9.5"
  },
  "papermill": {
   "default_parameters": {},
   "duration": 9.948937,
   "end_time": "2021-12-10T04:00:15.016231",
   "environment_variables": {},
   "exception": null,
   "input_path": "eBay_Overview.ipynb",
   "output_path": "eBay_Overview.ipynb",
   "parameters": {},
   "start_time": "2021-12-10T04:00:05.067294",
   "version": "2.3.3"
  }
 },
 "nbformat": 4,
 "nbformat_minor": 5
}