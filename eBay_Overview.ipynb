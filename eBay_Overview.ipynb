{
 "cells": [
  {
   "cell_type": "code",
   "execution_count": 1,
   "id": "reverse-picking",
   "metadata": {
    "execution": {
     "iopub.execute_input": "2021-10-20T12:00:06.681780Z",
     "iopub.status.busy": "2021-10-20T12:00:06.679747Z",
     "iopub.status.idle": "2021-10-20T12:00:07.495532Z",
     "shell.execute_reply": "2021-10-20T12:00:07.493954Z"
    },
    "papermill": {
     "duration": 0.863681,
     "end_time": "2021-10-20T12:00:07.495926",
     "exception": false,
     "start_time": "2021-10-20T12:00:06.632245",
     "status": "completed"
    },
    "tags": []
   },
   "outputs": [],
   "source": [
    "import pandas as pd\n",
    "import sqlite3"
   ]
  },
  {
   "cell_type": "code",
   "execution_count": 2,
   "id": "innovative-syndrome",
   "metadata": {
    "execution": {
     "iopub.execute_input": "2021-10-20T12:00:07.547290Z",
     "iopub.status.busy": "2021-10-20T12:00:07.545402Z",
     "iopub.status.idle": "2021-10-20T12:00:08.120414Z",
     "shell.execute_reply": "2021-10-20T12:00:08.121714Z"
    },
    "papermill": {
     "duration": 0.605151,
     "end_time": "2021-10-20T12:00:08.122124",
     "exception": false,
     "start_time": "2021-10-20T12:00:07.516973",
     "status": "completed"
    },
    "tags": []
   },
   "outputs": [],
   "source": [
    "timestamps = pd.read_sql(\"select distinct record_time from EBAY_TOP_BERLIN order by record_time desc limit 2\", sqlite3.connect(\"UsedObjects.db\"))"
   ]
  },
  {
   "cell_type": "code",
   "execution_count": 3,
   "id": "periodic-identification",
   "metadata": {
    "execution": {
     "iopub.execute_input": "2021-10-20T12:00:08.194812Z",
     "iopub.status.busy": "2021-10-20T12:00:08.192738Z",
     "iopub.status.idle": "2021-10-20T12:00:08.212811Z",
     "shell.execute_reply": "2021-10-20T12:00:08.214082Z"
    },
    "papermill": {
     "duration": 0.066474,
     "end_time": "2021-10-20T12:00:08.214492",
     "exception": false,
     "start_time": "2021-10-20T12:00:08.148018",
     "status": "completed"
    },
    "tags": []
   },
   "outputs": [
    {
     "data": {
      "text/html": [
       "<div>\n",
       "<style scoped>\n",
       "    .dataframe tbody tr th:only-of-type {\n",
       "        vertical-align: middle;\n",
       "    }\n",
       "\n",
       "    .dataframe tbody tr th {\n",
       "        vertical-align: top;\n",
       "    }\n",
       "\n",
       "    .dataframe thead th {\n",
       "        text-align: right;\n",
       "    }\n",
       "</style>\n",
       "<table border=\"1\" class=\"dataframe\">\n",
       "  <thead>\n",
       "    <tr style=\"text-align: right;\">\n",
       "      <th></th>\n",
       "      <th>RECORD_TIME</th>\n",
       "    </tr>\n",
       "  </thead>\n",
       "  <tbody>\n",
       "    <tr>\n",
       "      <th>0</th>\n",
       "      <td>2021-10-20 14:00</td>\n",
       "    </tr>\n",
       "    <tr>\n",
       "      <th>1</th>\n",
       "      <td>2021-10-20 13:30</td>\n",
       "    </tr>\n",
       "  </tbody>\n",
       "</table>\n",
       "</div>"
      ],
      "text/plain": [
       "        RECORD_TIME\n",
       "0  2021-10-20 14:00\n",
       "1  2021-10-20 13:30"
      ]
     },
     "execution_count": 3,
     "metadata": {},
     "output_type": "execute_result"
    }
   ],
   "source": [
    "timestamps"
   ]
  },
  {
   "cell_type": "code",
   "execution_count": 4,
   "id": "alternate-victory",
   "metadata": {
    "execution": {
     "iopub.execute_input": "2021-10-20T12:00:08.267356Z",
     "iopub.status.busy": "2021-10-20T12:00:08.265050Z",
     "iopub.status.idle": "2021-10-20T12:00:09.102633Z",
     "shell.execute_reply": "2021-10-20T12:00:09.103871Z"
    },
    "papermill": {
     "duration": 0.867947,
     "end_time": "2021-10-20T12:00:09.104278",
     "exception": false,
     "start_time": "2021-10-20T12:00:08.236331",
     "status": "completed"
    },
    "tags": []
   },
   "outputs": [],
   "source": [
    "df = pd.read_sql(\"select * from EBAY_TOP_BERLIN where record_time in (select distinct record_time from EBAY_TOP_BERLIN order by record_time desc limit 2)\", sqlite3.connect(\"UsedObjects.db\"))"
   ]
  },
  {
   "cell_type": "code",
   "execution_count": 5,
   "id": "popular-active",
   "metadata": {
    "execution": {
     "iopub.execute_input": "2021-10-20T12:00:09.178018Z",
     "iopub.status.busy": "2021-10-20T12:00:09.165238Z",
     "iopub.status.idle": "2021-10-20T12:00:09.194686Z",
     "shell.execute_reply": "2021-10-20T12:00:09.195906Z"
    },
    "papermill": {
     "duration": 0.071252,
     "end_time": "2021-10-20T12:00:09.196309",
     "exception": false,
     "start_time": "2021-10-20T12:00:09.125057",
     "status": "completed"
    },
    "tags": []
   },
   "outputs": [],
   "source": [
    "df_pivot = df.pivot_table(index=\"PRODUCT\", columns = \"RECORD_TIME\", values = \"LISTING_COUNT\")"
   ]
  },
  {
   "cell_type": "code",
   "execution_count": 6,
   "id": "union-huntington",
   "metadata": {
    "execution": {
     "iopub.execute_input": "2021-10-20T12:00:09.254699Z",
     "iopub.status.busy": "2021-10-20T12:00:09.252146Z",
     "iopub.status.idle": "2021-10-20T12:00:09.258007Z",
     "shell.execute_reply": "2021-10-20T12:00:09.259299Z"
    },
    "papermill": {
     "duration": 0.042404,
     "end_time": "2021-10-20T12:00:09.259718",
     "exception": false,
     "start_time": "2021-10-20T12:00:09.217314",
     "status": "completed"
    },
    "tags": []
   },
   "outputs": [],
   "source": [
    "df_pivot.columns = [\"stamp_1\", \"stamp_2\"]\n",
    "df_pivot_diff = df_pivot.diff(axis=1)"
   ]
  },
  {
   "cell_type": "code",
   "execution_count": 7,
   "id": "fifth-motion",
   "metadata": {
    "execution": {
     "iopub.execute_input": "2021-10-20T12:00:09.314454Z",
     "iopub.status.busy": "2021-10-20T12:00:09.311918Z",
     "iopub.status.idle": "2021-10-20T12:00:10.816087Z",
     "shell.execute_reply": "2021-10-20T12:00:10.817601Z"
    },
    "papermill": {
     "duration": 1.537509,
     "end_time": "2021-10-20T12:00:10.818062",
     "exception": false,
     "start_time": "2021-10-20T12:00:09.280553",
     "status": "completed"
    },
    "tags": []
   },
   "outputs": [
    {
     "data": {
      "text/plain": [
       "<AxesSubplot:ylabel='PRODUCT'>"
      ]
     },
     "execution_count": 7,
     "metadata": {},
     "output_type": "execute_result"
    },
    {
     "data": {
      "image/png": "[encoded data removed]",
      "text/plain": [
       "<Figure size 432x288 with 1 Axes>"
      ]
     },
     "metadata": {
      "needs_background": "light"
     },
     "output_type": "display_data"
    }
   ],
   "source": [
    "df_pivot_diff.sort_values(\"stamp_2\", ascending = False)[\"stamp_2\"].head(10).plot.barh()"
   ]
  },
  {
   "cell_type": "code",
   "execution_count": null,
   "id": "extra-executive",
   "metadata": {
    "papermill": {
     "duration": 0.022507,
     "end_time": "2021-10-20T12:00:10.864919",
     "exception": false,
     "start_time": "2021-10-20T12:00:10.842412",
     "status": "completed"
    },
    "tags": []
   },
   "outputs": [],
   "source": []
  }
 ],
 "metadata": {
  "kernelspec": {
   "display_name": "Python 3",
   "language": "python",
   "name": "python3"
  },
  "language_info": {
   "codemirror_mode": {
    "name": "ipython",
    "version": 3
   },
   "file_extension": ".py",
   "mimetype": "text/x-python",
   "name": "python",
   "nbconvert_exporter": "python",
   "pygments_lexer": "ipython3",
   "version": "3.9.5"
  },
  "papermill": {
   "default_parameters": {},
   "duration": 7.829602,
   "end_time": "2021-10-20T12:00:12.031157",
   "environment_variables": {},
   "exception": null,
   "input_path": "eBay_Overview.ipynb",
   "output_path": "eBay_Overview.ipynb",
   "parameters": {},
   "start_time": "2021-10-20T12:00:04.201555",
   "version": "2.3.3"
  }
 },
 "nbformat": 4,
 "nbformat_minor": 5
}