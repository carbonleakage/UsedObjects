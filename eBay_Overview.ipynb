{
 "cells": [
  {
   "cell_type": "code",
   "execution_count": 1,
   "id": "reverse-picking",
   "metadata": {
    "execution": {
     "iopub.execute_input": "2021-10-07T14:00:07.461141Z",
     "iopub.status.busy": "2021-10-07T14:00:07.459209Z",
     "iopub.status.idle": "2021-10-07T14:00:08.272041Z",
     "shell.execute_reply": "2021-10-07T14:00:08.273449Z"
    },
    "papermill": {
     "duration": 0.865278,
     "end_time": "2021-10-07T14:00:08.274138",
     "exception": false,
     "start_time": "2021-10-07T14:00:07.408860",
     "status": "completed"
    },
    "tags": []
   },
   "outputs": [],
   "source": [
    "import pandas as pd\n",
    "import sqlite3"
   ]
  },
  {
   "cell_type": "code",
   "execution_count": 2,
   "id": "innovative-syndrome",
   "metadata": {
    "execution": {
     "iopub.execute_input": "2021-10-07T14:00:08.325191Z",
     "iopub.status.busy": "2021-10-07T14:00:08.322838Z",
     "iopub.status.idle": "2021-10-07T14:00:08.814191Z",
     "shell.execute_reply": "2021-10-07T14:00:08.815717Z"
    },
    "papermill": {
     "duration": 0.521652,
     "end_time": "2021-10-07T14:00:08.816179",
     "exception": false,
     "start_time": "2021-10-07T14:00:08.294527",
     "status": "completed"
    },
    "tags": []
   },
   "outputs": [],
   "source": [
    "timestamps = pd.read_sql(\"select distinct record_time from EBAY_TOP_BERLIN order by record_time desc limit 2\", sqlite3.connect(\"UsedObjects.db\"))"
   ]
  },
  {
   "cell_type": "code",
   "execution_count": 3,
   "id": "periodic-identification",
   "metadata": {
    "execution": {
     "iopub.execute_input": "2021-10-07T14:00:08.881321Z",
     "iopub.status.busy": "2021-10-07T14:00:08.879300Z",
     "iopub.status.idle": "2021-10-07T14:00:08.900522Z",
     "shell.execute_reply": "2021-10-07T14:00:08.899156Z"
    },
    "papermill": {
     "duration": 0.065127,
     "end_time": "2021-10-07T14:00:08.900866",
     "exception": false,
     "start_time": "2021-10-07T14:00:08.835739",
     "status": "completed"
    },
    "tags": []
   },
   "outputs": [
    {
     "data": {
      "text/html": [
       "<div>\n",
       "<style scoped>\n",
       "    .dataframe tbody tr th:only-of-type {\n",
       "        vertical-align: middle;\n",
       "    }\n",
       "\n",
       "    .dataframe tbody tr th {\n",
       "        vertical-align: top;\n",
       "    }\n",
       "\n",
       "    .dataframe thead th {\n",
       "        text-align: right;\n",
       "    }\n",
       "</style>\n",
       "<table border=\"1\" class=\"dataframe\">\n",
       "  <thead>\n",
       "    <tr style=\"text-align: right;\">\n",
       "      <th></th>\n",
       "      <th>RECORD_TIME</th>\n",
       "    </tr>\n",
       "  </thead>\n",
       "  <tbody>\n",
       "    <tr>\n",
       "      <th>0</th>\n",
       "      <td>2021-10-07 16:00</td>\n",
       "    </tr>\n",
       "    <tr>\n",
       "      <th>1</th>\n",
       "      <td>2021-10-07 15:30</td>\n",
       "    </tr>\n",
       "  </tbody>\n",
       "</table>\n",
       "</div>"
      ],
      "text/plain": [
       "        RECORD_TIME\n",
       "0  2021-10-07 16:00\n",
       "1  2021-10-07 15:30"
      ]
     },
     "execution_count": 3,
     "metadata": {},
     "output_type": "execute_result"
    }
   ],
   "source": [
    "timestamps"
   ]
  },
  {
   "cell_type": "code",
   "execution_count": 4,
   "id": "alternate-victory",
   "metadata": {
    "execution": {
     "iopub.execute_input": "2021-10-07T14:00:08.961939Z",
     "iopub.status.busy": "2021-10-07T14:00:08.960105Z",
     "iopub.status.idle": "2021-10-07T14:00:09.659071Z",
     "shell.execute_reply": "2021-10-07T14:00:09.660591Z"
    },
    "papermill": {
     "duration": 0.732711,
     "end_time": "2021-10-07T14:00:09.661044",
     "exception": false,
     "start_time": "2021-10-07T14:00:08.928333",
     "status": "completed"
    },
    "tags": []
   },
   "outputs": [],
   "source": [
    "df = pd.read_sql(\"select * from EBAY_TOP_BERLIN where record_time in (select distinct record_time from EBAY_TOP_BERLIN order by record_time desc limit 2)\", sqlite3.connect(\"UsedObjects.db\"))"
   ]
  },
  {
   "cell_type": "code",
   "execution_count": 5,
   "id": "popular-active",
   "metadata": {
    "execution": {
     "iopub.execute_input": "2021-10-07T14:00:09.732837Z",
     "iopub.status.busy": "2021-10-07T14:00:09.720468Z",
     "iopub.status.idle": "2021-10-07T14:00:09.749360Z",
     "shell.execute_reply": "2021-10-07T14:00:09.750720Z"
    },
    "papermill": {
     "duration": 0.069483,
     "end_time": "2021-10-07T14:00:09.751361",
     "exception": false,
     "start_time": "2021-10-07T14:00:09.681878",
     "status": "completed"
    },
    "tags": []
   },
   "outputs": [],
   "source": [
    "df_pivot = df.pivot_table(index=\"PRODUCT\", columns = \"RECORD_TIME\", values = \"LISTING_COUNT\")"
   ]
  },
  {
   "cell_type": "code",
   "execution_count": 6,
   "id": "union-huntington",
   "metadata": {
    "execution": {
     "iopub.execute_input": "2021-10-07T14:00:09.811123Z",
     "iopub.status.busy": "2021-10-07T14:00:09.808628Z",
     "iopub.status.idle": "2021-10-07T14:00:09.816013Z",
     "shell.execute_reply": "2021-10-07T14:00:09.814573Z"
    },
    "papermill": {
     "duration": 0.042703,
     "end_time": "2021-10-07T14:00:09.816370",
     "exception": false,
     "start_time": "2021-10-07T14:00:09.773667",
     "status": "completed"
    },
    "tags": []
   },
   "outputs": [],
   "source": [
    "df_pivot.columns = [\"stamp_1\", \"stamp_2\"]\n",
    "df_pivot_diff = df_pivot.diff(axis=1)"
   ]
  },
  {
   "cell_type": "code",
   "execution_count": 7,
   "id": "fifth-motion",
   "metadata": {
    "execution": {
     "iopub.execute_input": "2021-10-07T14:00:09.870213Z",
     "iopub.status.busy": "2021-10-07T14:00:09.868049Z",
     "iopub.status.idle": "2021-10-07T14:00:11.374714Z",
     "shell.execute_reply": "2021-10-07T14:00:11.376143Z"
    },
    "papermill": {
     "duration": 1.539504,
     "end_time": "2021-10-07T14:00:11.376587",
     "exception": false,
     "start_time": "2021-10-07T14:00:09.837083",
     "status": "completed"
    },
    "tags": []
   },
   "outputs": [
    {
     "data": {
      "text/plain": [
       "<AxesSubplot:ylabel='PRODUCT'>"
      ]
     },
     "execution_count": 7,
     "metadata": {},
     "output_type": "execute_result"
    },
    {
     "data": {
      "image/png": "[encoded data removed]",
      "text/plain": [
       "<Figure size 432x288 with 1 Axes>"
      ]
     },
     "metadata": {
      "needs_background": "light"
     },
     "output_type": "display_data"
    }
   ],
   "source": [
    "df_pivot_diff.sort_values(\"stamp_2\", ascending = False)[\"stamp_2\"].head(10).plot.barh()"
   ]
  },
  {
   "cell_type": "code",
   "execution_count": null,
   "id": "extra-executive",
   "metadata": {
    "papermill": {
     "duration": 0.022545,
     "end_time": "2021-10-07T14:00:11.423875",
     "exception": false,
     "start_time": "2021-10-07T14:00:11.401330",
     "status": "completed"
    },
    "tags": []
   },
   "outputs": [],
   "source": []
  }
 ],
 "metadata": {
  "kernelspec": {
   "display_name": "Python 3",
   "language": "python",
   "name": "python3"
  },
  "language_info": {
   "codemirror_mode": {
    "name": "ipython",
    "version": 3
   },
   "file_extension": ".py",
   "mimetype": "text/x-python",
   "name": "python",
   "nbconvert_exporter": "python",
   "pygments_lexer": "ipython3",
   "version": "3.9.5"
  },
  "papermill": {
   "default_parameters": {},
   "duration": 7.82808,
   "end_time": "2021-10-07T14:00:12.808579",
   "environment_variables": {},
   "exception": null,
   "input_path": "eBay_Overview.ipynb",
   "output_path": "eBay_Overview.ipynb",
   "parameters": {},
   "start_time": "2021-10-07T14:00:04.980499",
   "version": "2.3.3"
  }
 },
 "nbformat": 4,
 "nbformat_minor": 5
}