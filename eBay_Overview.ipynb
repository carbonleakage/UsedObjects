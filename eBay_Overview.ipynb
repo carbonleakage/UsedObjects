{
 "cells": [
  {
   "cell_type": "code",
   "execution_count": 1,
   "id": "reverse-picking",
   "metadata": {
    "execution": {
     "iopub.execute_input": "2021-12-07T08:30:07.843612Z",
     "iopub.status.busy": "2021-12-07T08:30:07.841321Z",
     "iopub.status.idle": "2021-12-07T08:30:08.769204Z",
     "shell.execute_reply": "2021-12-07T08:30:08.770481Z"
    },
    "papermill": {
     "duration": 0.975804,
     "end_time": "2021-12-07T08:30:08.771106",
     "exception": false,
     "start_time": "2021-12-07T08:30:07.795302",
     "status": "completed"
    },
    "tags": []
   },
   "outputs": [],
   "source": [
    "import pandas as pd\n",
    "import sqlite3"
   ]
  },
  {
   "cell_type": "code",
   "execution_count": 2,
   "id": "innovative-syndrome",
   "metadata": {
    "execution": {
     "iopub.execute_input": "2021-12-07T08:30:08.832433Z",
     "iopub.status.busy": "2021-12-07T08:30:08.829965Z",
     "iopub.status.idle": "2021-12-07T08:30:09.854032Z",
     "shell.execute_reply": "2021-12-07T08:30:09.855456Z"
    },
    "papermill": {
     "duration": 1.061966,
     "end_time": "2021-12-07T08:30:09.855899",
     "exception": false,
     "start_time": "2021-12-07T08:30:08.793933",
     "status": "completed"
    },
    "tags": []
   },
   "outputs": [],
   "source": [
    "timestamps = pd.read_sql(\"select distinct record_time from EBAY_TOP_BERLIN order by record_time desc limit 2\", sqlite3.connect(\"UsedObjects.db\"))"
   ]
  },
  {
   "cell_type": "code",
   "execution_count": 3,
   "id": "periodic-identification",
   "metadata": {
    "execution": {
     "iopub.execute_input": "2021-12-07T08:30:09.923039Z",
     "iopub.status.busy": "2021-12-07T08:30:09.920948Z",
     "iopub.status.idle": "2021-12-07T08:30:09.943367Z",
     "shell.execute_reply": "2021-12-07T08:30:09.944649Z"
    },
    "papermill": {
     "duration": 0.069712,
     "end_time": "2021-12-07T08:30:09.945221",
     "exception": false,
     "start_time": "2021-12-07T08:30:09.875509",
     "status": "completed"
    },
    "tags": []
   },
   "outputs": [
    {
     "data": {
      "text/html": [
       "<div>\n",
       "<style scoped>\n",
       "    .dataframe tbody tr th:only-of-type {\n",
       "        vertical-align: middle;\n",
       "    }\n",
       "\n",
       "    .dataframe tbody tr th {\n",
       "        vertical-align: top;\n",
       "    }\n",
       "\n",
       "    .dataframe thead th {\n",
       "        text-align: right;\n",
       "    }\n",
       "</style>\n",
       "<table border=\"1\" class=\"dataframe\">\n",
       "  <thead>\n",
       "    <tr style=\"text-align: right;\">\n",
       "      <th></th>\n",
       "      <th>RECORD_TIME</th>\n",
       "    </tr>\n",
       "  </thead>\n",
       "  <tbody>\n",
       "    <tr>\n",
       "      <th>0</th>\n",
       "      <td>2021-12-07 09:30</td>\n",
       "    </tr>\n",
       "    <tr>\n",
       "      <th>1</th>\n",
       "      <td>2021-12-07 09:00</td>\n",
       "    </tr>\n",
       "  </tbody>\n",
       "</table>\n",
       "</div>"
      ],
      "text/plain": [
       "        RECORD_TIME\n",
       "0  2021-12-07 09:30\n",
       "1  2021-12-07 09:00"
      ]
     },
     "execution_count": 3,
     "metadata": {},
     "output_type": "execute_result"
    }
   ],
   "source": [
    "timestamps"
   ]
  },
  {
   "cell_type": "code",
   "execution_count": 4,
   "id": "alternate-victory",
   "metadata": {
    "execution": {
     "iopub.execute_input": "2021-12-07T08:30:10.001663Z",
     "iopub.status.busy": "2021-12-07T08:30:09.999620Z",
     "iopub.status.idle": "2021-12-07T08:30:11.489344Z",
     "shell.execute_reply": "2021-12-07T08:30:11.492127Z"
    },
    "papermill": {
     "duration": 1.526348,
     "end_time": "2021-12-07T08:30:11.492844",
     "exception": false,
     "start_time": "2021-12-07T08:30:09.966496",
     "status": "completed"
    },
    "tags": []
   },
   "outputs": [],
   "source": [
    "df = pd.read_sql(\"select * from EBAY_TOP_BERLIN where record_time in (select distinct record_time from EBAY_TOP_BERLIN order by record_time desc limit 2)\", sqlite3.connect(\"UsedObjects.db\"))"
   ]
  },
  {
   "cell_type": "code",
   "execution_count": 5,
   "id": "popular-active",
   "metadata": {
    "execution": {
     "iopub.execute_input": "2021-12-07T08:30:11.595091Z",
     "iopub.status.busy": "2021-12-07T08:30:11.578409Z",
     "iopub.status.idle": "2021-12-07T08:30:11.635482Z",
     "shell.execute_reply": "2021-12-07T08:30:11.638200Z"
    },
    "papermill": {
     "duration": 0.121045,
     "end_time": "2021-12-07T08:30:11.639096",
     "exception": false,
     "start_time": "2021-12-07T08:30:11.518051",
     "status": "completed"
    },
    "tags": []
   },
   "outputs": [],
   "source": [
    "df_pivot = df.pivot_table(index=\"PRODUCT\", columns = \"RECORD_TIME\", values = \"LISTING_COUNT\")"
   ]
  },
  {
   "cell_type": "code",
   "execution_count": 6,
   "id": "union-huntington",
   "metadata": {
    "execution": {
     "iopub.execute_input": "2021-12-07T08:30:11.716615Z",
     "iopub.status.busy": "2021-12-07T08:30:11.714043Z",
     "iopub.status.idle": "2021-12-07T08:30:11.720213Z",
     "shell.execute_reply": "2021-12-07T08:30:11.722036Z"
    },
    "papermill": {
     "duration": 0.054151,
     "end_time": "2021-12-07T08:30:11.722631",
     "exception": false,
     "start_time": "2021-12-07T08:30:11.668480",
     "status": "completed"
    },
    "tags": []
   },
   "outputs": [],
   "source": [
    "df_pivot.columns = [\"stamp_1\", \"stamp_2\"]\n",
    "df_pivot_diff = df_pivot.diff(axis=1)"
   ]
  },
  {
   "cell_type": "code",
   "execution_count": 7,
   "id": "fifth-motion",
   "metadata": {
    "execution": {
     "iopub.execute_input": "2021-12-07T08:30:11.778444Z",
     "iopub.status.busy": "2021-12-07T08:30:11.775838Z",
     "iopub.status.idle": "2021-12-07T08:30:13.451727Z",
     "shell.execute_reply": "2021-12-07T08:30:13.453254Z"
    },
    "papermill": {
     "duration": 1.709313,
     "end_time": "2021-12-07T08:30:13.453737",
     "exception": false,
     "start_time": "2021-12-07T08:30:11.744424",
     "status": "completed"
    },
    "tags": []
   },
   "outputs": [
    {
     "data": {
      "text/plain": [
       "<AxesSubplot:ylabel='PRODUCT'>"
      ]
     },
     "execution_count": 7,
     "metadata": {},
     "output_type": "execute_result"
    },
    {
     "data": {
      "image/png": "[encoded data removed]",
      "text/plain": [
       "<Figure size 432x288 with 1 Axes>"
      ]
     },
     "metadata": {
      "needs_background": "light"
     },
     "output_type": "display_data"
    }
   ],
   "source": [
    "df_pivot_diff.sort_values(\"stamp_2\", ascending = False)[\"stamp_2\"].head(10).plot.barh()"
   ]
  },
  {
   "cell_type": "code",
   "execution_count": null,
   "id": "extra-executive",
   "metadata": {
    "papermill": {
     "duration": 0.021846,
     "end_time": "2021-12-07T08:30:13.500065",
     "exception": false,
     "start_time": "2021-12-07T08:30:13.478219",
     "status": "completed"
    },
    "tags": []
   },
   "outputs": [],
   "source": []
  }
 ],
 "metadata": {
  "kernelspec": {
   "display_name": "Python 3",
   "language": "python",
   "name": "python3"
  },
  "language_info": {
   "codemirror_mode": {
    "name": "ipython",
    "version": 3
   },
   "file_extension": ".py",
   "mimetype": "text/x-python",
   "name": "python",
   "nbconvert_exporter": "python",
   "pygments_lexer": "ipython3",
   "version": "3.9.5"
  },
  "papermill": {
   "default_parameters": {},
   "duration": 9.935464,
   "end_time": "2021-12-07T08:30:15.014797",
   "environment_variables": {},
   "exception": null,
   "input_path": "eBay_Overview.ipynb",
   "output_path": "eBay_Overview.ipynb",
   "parameters": {},
   "start_time": "2021-12-07T08:30:05.079333",
   "version": "2.3.3"
  }
 },
 "nbformat": 4,
 "nbformat_minor": 5
}