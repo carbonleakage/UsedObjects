{
 "cells": [
  {
   "cell_type": "code",
   "execution_count": 1,
   "id": "reverse-picking",
   "metadata": {
    "execution": {
     "iopub.execute_input": "2021-08-11T09:30:04.195385Z",
     "iopub.status.busy": "2021-08-11T09:30:04.194420Z",
     "iopub.status.idle": "2021-08-11T09:30:04.850782Z",
     "shell.execute_reply": "2021-08-11T09:30:04.850076Z"
    },
    "papermill": {
     "duration": 0.674682,
     "end_time": "2021-08-11T09:30:04.850974",
     "exception": false,
     "start_time": "2021-08-11T09:30:04.176292",
     "status": "completed"
    },
    "tags": []
   },
   "outputs": [],
   "source": [
    "import pandas as pd\n",
    "import sqlite3"
   ]
  },
  {
   "cell_type": "code",
   "execution_count": 2,
   "id": "innovative-syndrome",
   "metadata": {
    "execution": {
     "iopub.execute_input": "2021-08-11T09:30:04.874702Z",
     "iopub.status.busy": "2021-08-11T09:30:04.873929Z",
     "iopub.status.idle": "2021-08-11T09:30:05.092777Z",
     "shell.execute_reply": "2021-08-11T09:30:05.093331Z"
    },
    "papermill": {
     "duration": 0.232729,
     "end_time": "2021-08-11T09:30:05.093557",
     "exception": false,
     "start_time": "2021-08-11T09:30:04.860828",
     "status": "completed"
    },
    "tags": []
   },
   "outputs": [],
   "source": [
    "timestamps = pd.read_sql(\"select distinct record_time from EBAY_TOP_BERLIN order by record_time desc limit 2\", sqlite3.connect(\"UsedObjects.db\"))"
   ]
  },
  {
   "cell_type": "code",
   "execution_count": 3,
   "id": "periodic-identification",
   "metadata": {
    "execution": {
     "iopub.execute_input": "2021-08-11T09:30:05.130770Z",
     "iopub.status.busy": "2021-08-11T09:30:05.129005Z",
     "iopub.status.idle": "2021-08-11T09:30:05.143278Z",
     "shell.execute_reply": "2021-08-11T09:30:05.144385Z"
    },
    "papermill": {
     "duration": 0.039482,
     "end_time": "2021-08-11T09:30:05.144762",
     "exception": false,
     "start_time": "2021-08-11T09:30:05.105280",
     "status": "completed"
    },
    "tags": []
   },
   "outputs": [
    {
     "data": {
      "text/html": [
       "<div>\n",
       "<style scoped>\n",
       "    .dataframe tbody tr th:only-of-type {\n",
       "        vertical-align: middle;\n",
       "    }\n",
       "\n",
       "    .dataframe tbody tr th {\n",
       "        vertical-align: top;\n",
       "    }\n",
       "\n",
       "    .dataframe thead th {\n",
       "        text-align: right;\n",
       "    }\n",
       "</style>\n",
       "<table border=\"1\" class=\"dataframe\">\n",
       "  <thead>\n",
       "    <tr style=\"text-align: right;\">\n",
       "      <th></th>\n",
       "      <th>RECORD_TIME</th>\n",
       "    </tr>\n",
       "  </thead>\n",
       "  <tbody>\n",
       "    <tr>\n",
       "      <th>0</th>\n",
       "      <td>2021-08-11 11:30</td>\n",
       "    </tr>\n",
       "    <tr>\n",
       "      <th>1</th>\n",
       "      <td>2021-08-11 11:00</td>\n",
       "    </tr>\n",
       "  </tbody>\n",
       "</table>\n",
       "</div>"
      ],
      "text/plain": [
       "        RECORD_TIME\n",
       "0  2021-08-11 11:30\n",
       "1  2021-08-11 11:00"
      ]
     },
     "execution_count": 3,
     "metadata": {},
     "output_type": "execute_result"
    }
   ],
   "source": [
    "timestamps"
   ]
  },
  {
   "cell_type": "code",
   "execution_count": 4,
   "id": "alternate-victory",
   "metadata": {
    "execution": {
     "iopub.execute_input": "2021-08-11T09:30:05.174340Z",
     "iopub.status.busy": "2021-08-11T09:30:05.173570Z",
     "iopub.status.idle": "2021-08-11T09:30:05.194404Z",
     "shell.execute_reply": "2021-08-11T09:30:05.195468Z"
    },
    "papermill": {
     "duration": 0.039797,
     "end_time": "2021-08-11T09:30:05.195706",
     "exception": false,
     "start_time": "2021-08-11T09:30:05.155909",
     "status": "completed"
    },
    "tags": []
   },
   "outputs": [],
   "source": [
    "df = pd.read_sql(\"select * from EBAY_TOP_BERLIN where record_time in (select distinct record_time from EBAY_TOP_BERLIN order by record_time desc limit 2)\", sqlite3.connect(\"UsedObjects.db\"))"
   ]
  },
  {
   "cell_type": "code",
   "execution_count": 5,
   "id": "popular-active",
   "metadata": {
    "execution": {
     "iopub.execute_input": "2021-08-11T09:30:05.230553Z",
     "iopub.status.busy": "2021-08-11T09:30:05.229609Z",
     "iopub.status.idle": "2021-08-11T09:30:05.247974Z",
     "shell.execute_reply": "2021-08-11T09:30:05.246729Z"
    },
    "papermill": {
     "duration": 0.038999,
     "end_time": "2021-08-11T09:30:05.248286",
     "exception": false,
     "start_time": "2021-08-11T09:30:05.209287",
     "status": "completed"
    },
    "tags": []
   },
   "outputs": [],
   "source": [
    "df_pivot = df.pivot_table(index=\"PRODUCT\", columns = \"RECORD_TIME\", values = \"LISTING_COUNT\")"
   ]
  },
  {
   "cell_type": "code",
   "execution_count": 6,
   "id": "union-huntington",
   "metadata": {
    "execution": {
     "iopub.execute_input": "2021-08-11T09:30:05.284815Z",
     "iopub.status.busy": "2021-08-11T09:30:05.284055Z",
     "iopub.status.idle": "2021-08-11T09:30:05.286906Z",
     "shell.execute_reply": "2021-08-11T09:30:05.287433Z"
    },
    "papermill": {
     "duration": 0.028983,
     "end_time": "2021-08-11T09:30:05.287614",
     "exception": false,
     "start_time": "2021-08-11T09:30:05.258631",
     "status": "completed"
    },
    "tags": []
   },
   "outputs": [],
   "source": [
    "df_pivot.columns = [\"stamp_1\", \"stamp_2\"]\n",
    "df_pivot_diff = df_pivot.diff(axis=1)"
   ]
  },
  {
   "cell_type": "code",
   "execution_count": 7,
   "id": "fifth-motion",
   "metadata": {
    "execution": {
     "iopub.execute_input": "2021-08-11T09:30:05.318646Z",
     "iopub.status.busy": "2021-08-11T09:30:05.317886Z",
     "iopub.status.idle": "2021-08-11T09:30:06.254237Z",
     "shell.execute_reply": "2021-08-11T09:30:06.254771Z"
    },
    "papermill": {
     "duration": 0.95858,
     "end_time": "2021-08-11T09:30:06.254949",
     "exception": false,
     "start_time": "2021-08-11T09:30:05.296369",
     "status": "completed"
    },
    "tags": []
   },
   "outputs": [
    {
     "data": {
      "text/plain": [
       "<AxesSubplot:ylabel='PRODUCT'>"
      ]
     },
     "execution_count": 7,
     "metadata": {},
     "output_type": "execute_result"
    },
    {
     "data": {
      "image/png": "[encoded data removed]",
      "text/plain": [
       "<Figure size 432x288 with 1 Axes>"
      ]
     },
     "metadata": {
      "needs_background": "light"
     },
     "output_type": "display_data"
    }
   ],
   "source": [
    "df_pivot_diff.sort_values(\"stamp_2\", ascending = False)[\"stamp_2\"].head(10).plot.barh()"
   ]
  },
  {
   "cell_type": "code",
   "execution_count": null,
   "id": "extra-executive",
   "metadata": {
    "papermill": {
     "duration": 0.011215,
     "end_time": "2021-08-11T09:30:06.276357",
     "exception": false,
     "start_time": "2021-08-11T09:30:06.265142",
     "status": "completed"
    },
    "tags": []
   },
   "outputs": [],
   "source": []
  }
 ],
 "metadata": {
  "kernelspec": {
   "display_name": "Python 3",
   "language": "python",
   "name": "python3"
  },
  "language_info": {
   "codemirror_mode": {
    "name": "ipython",
    "version": 3
   },
   "file_extension": ".py",
   "mimetype": "text/x-python",
   "name": "python",
   "nbconvert_exporter": "python",
   "pygments_lexer": "ipython3",
   "version": "3.8.8"
  },
  "papermill": {
   "default_parameters": {},
   "duration": 4.256672,
   "end_time": "2021-08-11T09:30:06.745599",
   "environment_variables": {},
   "exception": null,
   "input_path": "/Users/saravananshanmugam/Carbonleakage_Git/UsedObjects/eBay_Overview.ipynb",
   "output_path": "/Users/saravananshanmugam/Carbonleakage_Git/UsedObjects/eBay_Overview.ipynb",
   "parameters": {},
   "start_time": "2021-08-11T09:30:02.488927",
   "version": "2.3.3"
  }
 },
 "nbformat": 4,
 "nbformat_minor": 5
}