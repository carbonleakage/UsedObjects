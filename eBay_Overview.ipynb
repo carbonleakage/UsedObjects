{
 "cells": [
  {
   "cell_type": "code",
   "execution_count": 1,
   "id": "reverse-picking",
   "metadata": {
    "execution": {
     "iopub.execute_input": "2021-09-19T21:00:06.772692Z",
     "iopub.status.busy": "2021-09-19T21:00:06.770684Z",
     "iopub.status.idle": "2021-09-19T21:00:07.573959Z",
     "shell.execute_reply": "2021-09-19T21:00:07.575374Z"
    },
    "papermill": {
     "duration": 0.85699,
     "end_time": "2021-09-19T21:00:07.576056",
     "exception": false,
     "start_time": "2021-09-19T21:00:06.719066",
     "status": "completed"
    },
    "tags": []
   },
   "outputs": [],
   "source": [
    "import pandas as pd\n",
    "import sqlite3"
   ]
  },
  {
   "cell_type": "code",
   "execution_count": 2,
   "id": "innovative-syndrome",
   "metadata": {
    "execution": {
     "iopub.execute_input": "2021-09-19T21:00:07.627176Z",
     "iopub.status.busy": "2021-09-19T21:00:07.625041Z",
     "iopub.status.idle": "2021-09-19T21:00:07.957975Z",
     "shell.execute_reply": "2021-09-19T21:00:07.959370Z"
    },
    "papermill": {
     "duration": 0.363478,
     "end_time": "2021-09-19T21:00:07.959806",
     "exception": false,
     "start_time": "2021-09-19T21:00:07.596328",
     "status": "completed"
    },
    "tags": []
   },
   "outputs": [],
   "source": [
    "timestamps = pd.read_sql(\"select distinct record_time from EBAY_TOP_BERLIN order by record_time desc limit 2\", sqlite3.connect(\"UsedObjects.db\"))"
   ]
  },
  {
   "cell_type": "code",
   "execution_count": 3,
   "id": "periodic-identification",
   "metadata": {
    "execution": {
     "iopub.execute_input": "2021-09-19T21:00:08.025863Z",
     "iopub.status.busy": "2021-09-19T21:00:08.023839Z",
     "iopub.status.idle": "2021-09-19T21:00:08.043836Z",
     "shell.execute_reply": "2021-09-19T21:00:08.045202Z"
    },
    "papermill": {
     "duration": 0.066359,
     "end_time": "2021-09-19T21:00:08.045622",
     "exception": false,
     "start_time": "2021-09-19T21:00:07.979263",
     "status": "completed"
    },
    "tags": []
   },
   "outputs": [
    {
     "data": {
      "text/html": [
       "<div>\n",
       "<style scoped>\n",
       "    .dataframe tbody tr th:only-of-type {\n",
       "        vertical-align: middle;\n",
       "    }\n",
       "\n",
       "    .dataframe tbody tr th {\n",
       "        vertical-align: top;\n",
       "    }\n",
       "\n",
       "    .dataframe thead th {\n",
       "        text-align: right;\n",
       "    }\n",
       "</style>\n",
       "<table border=\"1\" class=\"dataframe\">\n",
       "  <thead>\n",
       "    <tr style=\"text-align: right;\">\n",
       "      <th></th>\n",
       "      <th>RECORD_TIME</th>\n",
       "    </tr>\n",
       "  </thead>\n",
       "  <tbody>\n",
       "    <tr>\n",
       "      <th>0</th>\n",
       "      <td>2021-09-19 23:00</td>\n",
       "    </tr>\n",
       "    <tr>\n",
       "      <th>1</th>\n",
       "      <td>2021-09-19 22:30</td>\n",
       "    </tr>\n",
       "  </tbody>\n",
       "</table>\n",
       "</div>"
      ],
      "text/plain": [
       "        RECORD_TIME\n",
       "0  2021-09-19 23:00\n",
       "1  2021-09-19 22:30"
      ]
     },
     "execution_count": 3,
     "metadata": {},
     "output_type": "execute_result"
    }
   ],
   "source": [
    "timestamps"
   ]
  },
  {
   "cell_type": "code",
   "execution_count": 4,
   "id": "alternate-victory",
   "metadata": {
    "execution": {
     "iopub.execute_input": "2021-09-19T21:00:08.097027Z",
     "iopub.status.busy": "2021-09-19T21:00:08.094844Z",
     "iopub.status.idle": "2021-09-19T21:00:08.581833Z",
     "shell.execute_reply": "2021-09-19T21:00:08.583138Z"
    },
    "papermill": {
     "duration": 0.516999,
     "end_time": "2021-09-19T21:00:08.583542",
     "exception": false,
     "start_time": "2021-09-19T21:00:08.066543",
     "status": "completed"
    },
    "tags": []
   },
   "outputs": [],
   "source": [
    "df = pd.read_sql(\"select * from EBAY_TOP_BERLIN where record_time in (select distinct record_time from EBAY_TOP_BERLIN order by record_time desc limit 2)\", sqlite3.connect(\"UsedObjects.db\"))"
   ]
  },
  {
   "cell_type": "code",
   "execution_count": 5,
   "id": "popular-active",
   "metadata": {
    "execution": {
     "iopub.execute_input": "2021-09-19T21:00:08.667363Z",
     "iopub.status.busy": "2021-09-19T21:00:08.656033Z",
     "iopub.status.idle": "2021-09-19T21:00:08.682654Z",
     "shell.execute_reply": "2021-09-19T21:00:08.683969Z"
    },
    "papermill": {
     "duration": 0.072193,
     "end_time": "2021-09-19T21:00:08.684371",
     "exception": false,
     "start_time": "2021-09-19T21:00:08.612178",
     "status": "completed"
    },
    "tags": []
   },
   "outputs": [],
   "source": [
    "df_pivot = df.pivot_table(index=\"PRODUCT\", columns = \"RECORD_TIME\", values = \"LISTING_COUNT\")"
   ]
  },
  {
   "cell_type": "code",
   "execution_count": 6,
   "id": "union-huntington",
   "metadata": {
    "execution": {
     "iopub.execute_input": "2021-09-19T21:00:08.741248Z",
     "iopub.status.busy": "2021-09-19T21:00:08.739191Z",
     "iopub.status.idle": "2021-09-19T21:00:08.744520Z",
     "shell.execute_reply": "2021-09-19T21:00:08.745822Z"
    },
    "papermill": {
     "duration": 0.040403,
     "end_time": "2021-09-19T21:00:08.746239",
     "exception": false,
     "start_time": "2021-09-19T21:00:08.705836",
     "status": "completed"
    },
    "tags": []
   },
   "outputs": [],
   "source": [
    "df_pivot.columns = [\"stamp_1\", \"stamp_2\"]\n",
    "df_pivot_diff = df_pivot.diff(axis=1)"
   ]
  },
  {
   "cell_type": "code",
   "execution_count": 7,
   "id": "fifth-motion",
   "metadata": {
    "execution": {
     "iopub.execute_input": "2021-09-19T21:00:08.802067Z",
     "iopub.status.busy": "2021-09-19T21:00:08.799618Z",
     "iopub.status.idle": "2021-09-19T21:00:10.309618Z",
     "shell.execute_reply": "2021-09-19T21:00:10.311157Z"
    },
    "papermill": {
     "duration": 1.543417,
     "end_time": "2021-09-19T21:00:10.311633",
     "exception": false,
     "start_time": "2021-09-19T21:00:08.768216",
     "status": "completed"
    },
    "tags": []
   },
   "outputs": [
    {
     "data": {
      "text/plain": [
       "<AxesSubplot:ylabel='PRODUCT'>"
      ]
     },
     "execution_count": 7,
     "metadata": {},
     "output_type": "execute_result"
    },
    {
     "data": {
      "image/png": "[encoded data removed]",
      "text/plain": [
       "<Figure size 432x288 with 1 Axes>"
      ]
     },
     "metadata": {
      "needs_background": "light"
     },
     "output_type": "display_data"
    }
   ],
   "source": [
    "df_pivot_diff.sort_values(\"stamp_2\", ascending = False)[\"stamp_2\"].head(10).plot.barh()"
   ]
  },
  {
   "cell_type": "code",
   "execution_count": null,
   "id": "extra-executive",
   "metadata": {
    "papermill": {
     "duration": 0.022049,
     "end_time": "2021-09-19T21:00:10.357997",
     "exception": false,
     "start_time": "2021-09-19T21:00:10.335948",
     "status": "completed"
    },
    "tags": []
   },
   "outputs": [],
   "source": []
  }
 ],
 "metadata": {
  "kernelspec": {
   "display_name": "Python 3",
   "language": "python",
   "name": "python3"
  },
  "language_info": {
   "codemirror_mode": {
    "name": "ipython",
    "version": 3
   },
   "file_extension": ".py",
   "mimetype": "text/x-python",
   "name": "python",
   "nbconvert_exporter": "python",
   "pygments_lexer": "ipython3",
   "version": "3.9.5"
  },
  "papermill": {
   "default_parameters": {},
   "duration": 6.675543,
   "end_time": "2021-09-19T21:00:10.998765",
   "environment_variables": {},
   "exception": null,
   "input_path": "eBay_Overview.ipynb",
   "output_path": "eBay_Overview.ipynb",
   "parameters": {},
   "start_time": "2021-09-19T21:00:04.323222",
   "version": "2.3.3"
  }
 },
 "nbformat": 4,
 "nbformat_minor": 5
}