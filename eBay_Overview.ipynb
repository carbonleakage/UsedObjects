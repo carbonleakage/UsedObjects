{
 "cells": [
  {
   "cell_type": "code",
   "execution_count": 1,
   "id": "reverse-picking",
   "metadata": {
    "execution": {
     "iopub.execute_input": "2021-08-16T21:00:07.172950Z",
     "iopub.status.busy": "2021-08-16T21:00:07.170864Z",
     "iopub.status.idle": "2021-08-16T21:00:07.984949Z",
     "shell.execute_reply": "2021-08-16T21:00:07.983472Z"
    },
    "papermill": {
     "duration": 0.864729,
     "end_time": "2021-08-16T21:00:07.985361",
     "exception": false,
     "start_time": "2021-08-16T21:00:07.120632",
     "status": "completed"
    },
    "tags": []
   },
   "outputs": [],
   "source": [
    "import pandas as pd\n",
    "import sqlite3"
   ]
  },
  {
   "cell_type": "code",
   "execution_count": 2,
   "id": "innovative-syndrome",
   "metadata": {
    "execution": {
     "iopub.execute_input": "2021-08-16T21:00:08.037739Z",
     "iopub.status.busy": "2021-08-16T21:00:08.035873Z",
     "iopub.status.idle": "2021-08-16T21:00:08.100923Z",
     "shell.execute_reply": "2021-08-16T21:00:08.102310Z"
    },
    "papermill": {
     "duration": 0.095407,
     "end_time": "2021-08-16T21:00:08.102751",
     "exception": false,
     "start_time": "2021-08-16T21:00:08.007344",
     "status": "completed"
    },
    "tags": []
   },
   "outputs": [],
   "source": [
    "timestamps = pd.read_sql(\"select distinct record_time from EBAY_TOP_BERLIN order by record_time desc limit 2\", sqlite3.connect(\"UsedObjects.db\"))"
   ]
  },
  {
   "cell_type": "code",
   "execution_count": 3,
   "id": "periodic-identification",
   "metadata": {
    "execution": {
     "iopub.execute_input": "2021-08-16T21:00:08.169107Z",
     "iopub.status.busy": "2021-08-16T21:00:08.166846Z",
     "iopub.status.idle": "2021-08-16T21:00:08.187240Z",
     "shell.execute_reply": "2021-08-16T21:00:08.188370Z"
    },
    "papermill": {
     "duration": 0.066072,
     "end_time": "2021-08-16T21:00:08.188791",
     "exception": false,
     "start_time": "2021-08-16T21:00:08.122719",
     "status": "completed"
    },
    "tags": []
   },
   "outputs": [
    {
     "data": {
      "text/html": [
       "<div>\n",
       "<style scoped>\n",
       "    .dataframe tbody tr th:only-of-type {\n",
       "        vertical-align: middle;\n",
       "    }\n",
       "\n",
       "    .dataframe tbody tr th {\n",
       "        vertical-align: top;\n",
       "    }\n",
       "\n",
       "    .dataframe thead th {\n",
       "        text-align: right;\n",
       "    }\n",
       "</style>\n",
       "<table border=\"1\" class=\"dataframe\">\n",
       "  <thead>\n",
       "    <tr style=\"text-align: right;\">\n",
       "      <th></th>\n",
       "      <th>RECORD_TIME</th>\n",
       "    </tr>\n",
       "  </thead>\n",
       "  <tbody>\n",
       "    <tr>\n",
       "      <th>0</th>\n",
       "      <td>2021-08-16 23:00</td>\n",
       "    </tr>\n",
       "    <tr>\n",
       "      <th>1</th>\n",
       "      <td>2021-08-16 22:30</td>\n",
       "    </tr>\n",
       "  </tbody>\n",
       "</table>\n",
       "</div>"
      ],
      "text/plain": [
       "        RECORD_TIME\n",
       "0  2021-08-16 23:00\n",
       "1  2021-08-16 22:30"
      ]
     },
     "execution_count": 3,
     "metadata": {},
     "output_type": "execute_result"
    }
   ],
   "source": [
    "timestamps"
   ]
  },
  {
   "cell_type": "code",
   "execution_count": 4,
   "id": "alternate-victory",
   "metadata": {
    "execution": {
     "iopub.execute_input": "2021-08-16T21:00:08.243956Z",
     "iopub.status.busy": "2021-08-16T21:00:08.241680Z",
     "iopub.status.idle": "2021-08-16T21:00:08.338029Z",
     "shell.execute_reply": "2021-08-16T21:00:08.339535Z"
    },
    "papermill": {
     "duration": 0.127514,
     "end_time": "2021-08-16T21:00:08.339985",
     "exception": false,
     "start_time": "2021-08-16T21:00:08.212471",
     "status": "completed"
    },
    "tags": []
   },
   "outputs": [],
   "source": [
    "df = pd.read_sql(\"select * from EBAY_TOP_BERLIN where record_time in (select distinct record_time from EBAY_TOP_BERLIN order by record_time desc limit 2)\", sqlite3.connect(\"UsedObjects.db\"))"
   ]
  },
  {
   "cell_type": "code",
   "execution_count": 5,
   "id": "popular-active",
   "metadata": {
    "execution": {
     "iopub.execute_input": "2021-08-16T21:00:08.409768Z",
     "iopub.status.busy": "2021-08-16T21:00:08.398633Z",
     "iopub.status.idle": "2021-08-16T21:00:08.426812Z",
     "shell.execute_reply": "2021-08-16T21:00:08.428231Z"
    },
    "papermill": {
     "duration": 0.067732,
     "end_time": "2021-08-16T21:00:08.428677",
     "exception": false,
     "start_time": "2021-08-16T21:00:08.360945",
     "status": "completed"
    },
    "tags": []
   },
   "outputs": [],
   "source": [
    "df_pivot = df.pivot_table(index=\"PRODUCT\", columns = \"RECORD_TIME\", values = \"LISTING_COUNT\")"
   ]
  },
  {
   "cell_type": "code",
   "execution_count": 6,
   "id": "union-huntington",
   "metadata": {
    "execution": {
     "iopub.execute_input": "2021-08-16T21:00:08.485891Z",
     "iopub.status.busy": "2021-08-16T21:00:08.483792Z",
     "iopub.status.idle": "2021-08-16T21:00:08.489279Z",
     "shell.execute_reply": "2021-08-16T21:00:08.490635Z"
    },
    "papermill": {
     "duration": 0.041702,
     "end_time": "2021-08-16T21:00:08.491060",
     "exception": false,
     "start_time": "2021-08-16T21:00:08.449358",
     "status": "completed"
    },
    "tags": []
   },
   "outputs": [],
   "source": [
    "df_pivot.columns = [\"stamp_1\", \"stamp_2\"]\n",
    "df_pivot_diff = df_pivot.diff(axis=1)"
   ]
  },
  {
   "cell_type": "code",
   "execution_count": 7,
   "id": "fifth-motion",
   "metadata": {
    "execution": {
     "iopub.execute_input": "2021-08-16T21:00:08.550105Z",
     "iopub.status.busy": "2021-08-16T21:00:08.547215Z",
     "iopub.status.idle": "2021-08-16T21:00:10.083156Z",
     "shell.execute_reply": "2021-08-16T21:00:10.084451Z"
    },
    "papermill": {
     "duration": 1.570781,
     "end_time": "2021-08-16T21:00:10.084868",
     "exception": false,
     "start_time": "2021-08-16T21:00:08.514087",
     "status": "completed"
    },
    "tags": []
   },
   "outputs": [
    {
     "data": {
      "text/plain": [
       "<AxesSubplot:ylabel='PRODUCT'>"
      ]
     },
     "execution_count": 7,
     "metadata": {},
     "output_type": "execute_result"
    },
    {
     "data": {
      "image/png": "[encoded data removed]",
      "text/plain": [
       "<Figure size 432x288 with 1 Axes>"
      ]
     },
     "metadata": {
      "needs_background": "light"
     },
     "output_type": "display_data"
    }
   ],
   "source": [
    "df_pivot_diff.sort_values(\"stamp_2\", ascending = False)[\"stamp_2\"].head(10).plot.barh()"
   ]
  },
  {
   "cell_type": "code",
   "execution_count": null,
   "id": "extra-executive",
   "metadata": {
    "papermill": {
     "duration": 0.022759,
     "end_time": "2021-08-16T21:00:10.132426",
     "exception": false,
     "start_time": "2021-08-16T21:00:10.109667",
     "status": "completed"
    },
    "tags": []
   },
   "outputs": [],
   "source": []
  }
 ],
 "metadata": {
  "kernelspec": {
   "display_name": "Python 3",
   "language": "python",
   "name": "python3"
  },
  "language_info": {
   "codemirror_mode": {
    "name": "ipython",
    "version": 3
   },
   "file_extension": ".py",
   "mimetype": "text/x-python",
   "name": "python",
   "nbconvert_exporter": "python",
   "pygments_lexer": "ipython3",
   "version": "3.9.5"
  },
  "papermill": {
   "default_parameters": {},
   "duration": 6.832989,
   "end_time": "2021-08-16T21:00:11.517233",
   "environment_variables": {},
   "exception": null,
   "input_path": "eBay_Overview.ipynb",
   "output_path": "eBay_Overview.ipynb",
   "parameters": {},
   "start_time": "2021-08-16T21:00:04.684244",
   "version": "2.3.3"
  }
 },
 "nbformat": 4,
 "nbformat_minor": 5
}