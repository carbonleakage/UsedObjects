{
 "cells": [
  {
   "cell_type": "code",
   "execution_count": 1,
   "id": "reverse-picking",
   "metadata": {
    "execution": {
     "iopub.execute_input": "2021-12-11T01:30:07.969625Z",
     "iopub.status.busy": "2021-12-11T01:30:07.966858Z",
     "iopub.status.idle": "2021-12-11T01:30:08.914214Z",
     "shell.execute_reply": "2021-12-11T01:30:08.915766Z"
    },
    "papermill": {
     "duration": 0.997074,
     "end_time": "2021-12-11T01:30:08.916603",
     "exception": false,
     "start_time": "2021-12-11T01:30:07.919529",
     "status": "completed"
    },
    "tags": []
   },
   "outputs": [],
   "source": [
    "import pandas as pd\n",
    "import sqlite3"
   ]
  },
  {
   "cell_type": "code",
   "execution_count": 2,
   "id": "innovative-syndrome",
   "metadata": {
    "execution": {
     "iopub.execute_input": "2021-12-11T01:30:08.985750Z",
     "iopub.status.busy": "2021-12-11T01:30:08.983453Z",
     "iopub.status.idle": "2021-12-11T01:30:10.023295Z",
     "shell.execute_reply": "2021-12-11T01:30:10.024639Z"
    },
    "papermill": {
     "duration": 1.074086,
     "end_time": "2021-12-11T01:30:10.025180",
     "exception": false,
     "start_time": "2021-12-11T01:30:08.951094",
     "status": "completed"
    },
    "tags": []
   },
   "outputs": [],
   "source": [
    "timestamps = pd.read_sql(\"select distinct record_time from EBAY_TOP_BERLIN order by record_time desc limit 2\", sqlite3.connect(\"UsedObjects.db\"))"
   ]
  },
  {
   "cell_type": "code",
   "execution_count": 3,
   "id": "periodic-identification",
   "metadata": {
    "execution": {
     "iopub.execute_input": "2021-12-11T01:30:10.097115Z",
     "iopub.status.busy": "2021-12-11T01:30:10.090915Z",
     "iopub.status.idle": "2021-12-11T01:30:10.112600Z",
     "shell.execute_reply": "2021-12-11T01:30:10.113995Z"
    },
    "papermill": {
     "duration": 0.069679,
     "end_time": "2021-12-11T01:30:10.114444",
     "exception": false,
     "start_time": "2021-12-11T01:30:10.044765",
     "status": "completed"
    },
    "tags": []
   },
   "outputs": [
    {
     "data": {
      "text/html": [
       "<div>\n",
       "<style scoped>\n",
       "    .dataframe tbody tr th:only-of-type {\n",
       "        vertical-align: middle;\n",
       "    }\n",
       "\n",
       "    .dataframe tbody tr th {\n",
       "        vertical-align: top;\n",
       "    }\n",
       "\n",
       "    .dataframe thead th {\n",
       "        text-align: right;\n",
       "    }\n",
       "</style>\n",
       "<table border=\"1\" class=\"dataframe\">\n",
       "  <thead>\n",
       "    <tr style=\"text-align: right;\">\n",
       "      <th></th>\n",
       "      <th>RECORD_TIME</th>\n",
       "    </tr>\n",
       "  </thead>\n",
       "  <tbody>\n",
       "    <tr>\n",
       "      <th>0</th>\n",
       "      <td>2021-12-11 02:30</td>\n",
       "    </tr>\n",
       "    <tr>\n",
       "      <th>1</th>\n",
       "      <td>2021-12-11 02:00</td>\n",
       "    </tr>\n",
       "  </tbody>\n",
       "</table>\n",
       "</div>"
      ],
      "text/plain": [
       "        RECORD_TIME\n",
       "0  2021-12-11 02:30\n",
       "1  2021-12-11 02:00"
      ]
     },
     "execution_count": 3,
     "metadata": {},
     "output_type": "execute_result"
    }
   ],
   "source": [
    "timestamps"
   ]
  },
  {
   "cell_type": "code",
   "execution_count": 4,
   "id": "alternate-victory",
   "metadata": {
    "execution": {
     "iopub.execute_input": "2021-12-11T01:30:10.169820Z",
     "iopub.status.busy": "2021-12-11T01:30:10.167340Z",
     "iopub.status.idle": "2021-12-11T01:30:11.658798Z",
     "shell.execute_reply": "2021-12-11T01:30:11.662171Z"
    },
    "papermill": {
     "duration": 1.5264,
     "end_time": "2021-12-11T01:30:11.663019",
     "exception": false,
     "start_time": "2021-12-11T01:30:10.136619",
     "status": "completed"
    },
    "tags": []
   },
   "outputs": [],
   "source": [
    "df = pd.read_sql(\"select * from EBAY_TOP_BERLIN where record_time in (select distinct record_time from EBAY_TOP_BERLIN order by record_time desc limit 2)\", sqlite3.connect(\"UsedObjects.db\"))"
   ]
  },
  {
   "cell_type": "code",
   "execution_count": 5,
   "id": "popular-active",
   "metadata": {
    "execution": {
     "iopub.execute_input": "2021-12-11T01:30:11.750377Z",
     "iopub.status.busy": "2021-12-11T01:30:11.747719Z",
     "iopub.status.idle": "2021-12-11T01:30:11.783754Z",
     "shell.execute_reply": "2021-12-11T01:30:11.782040Z"
    },
    "papermill": {
     "duration": 0.088192,
     "end_time": "2021-12-11T01:30:11.784186",
     "exception": false,
     "start_time": "2021-12-11T01:30:11.695994",
     "status": "completed"
    },
    "tags": []
   },
   "outputs": [],
   "source": [
    "df_pivot = df.pivot_table(index=\"PRODUCT\", columns = \"RECORD_TIME\", values = \"LISTING_COUNT\")"
   ]
  },
  {
   "cell_type": "code",
   "execution_count": 6,
   "id": "union-huntington",
   "metadata": {
    "execution": {
     "iopub.execute_input": "2021-12-11T01:30:11.847485Z",
     "iopub.status.busy": "2021-12-11T01:30:11.845194Z",
     "iopub.status.idle": "2021-12-11T01:30:11.850602Z",
     "shell.execute_reply": "2021-12-11T01:30:11.852028Z"
    },
    "papermill": {
     "duration": 0.046467,
     "end_time": "2021-12-11T01:30:11.852540",
     "exception": false,
     "start_time": "2021-12-11T01:30:11.806073",
     "status": "completed"
    },
    "tags": []
   },
   "outputs": [],
   "source": [
    "df_pivot.columns = [\"stamp_1\", \"stamp_2\"]\n",
    "df_pivot_diff = df_pivot.diff(axis=1)"
   ]
  },
  {
   "cell_type": "code",
   "execution_count": 7,
   "id": "fifth-motion",
   "metadata": {
    "execution": {
     "iopub.execute_input": "2021-12-11T01:30:11.909694Z",
     "iopub.status.busy": "2021-12-11T01:30:11.907310Z",
     "iopub.status.idle": "2021-12-11T01:30:13.762489Z",
     "shell.execute_reply": "2021-12-11T01:30:13.765466Z"
    },
    "papermill": {
     "duration": 1.893544,
     "end_time": "2021-12-11T01:30:13.766463",
     "exception": false,
     "start_time": "2021-12-11T01:30:11.872919",
     "status": "completed"
    },
    "tags": []
   },
   "outputs": [
    {
     "data": {
      "text/plain": [
       "<AxesSubplot:ylabel='PRODUCT'>"
      ]
     },
     "execution_count": 7,
     "metadata": {},
     "output_type": "execute_result"
    },
    {
     "data": {
      "image/png": "[encoded data removed]",
      "text/plain": [
       "<Figure size 432x288 with 1 Axes>"
      ]
     },
     "metadata": {
      "needs_background": "light"
     },
     "output_type": "display_data"
    }
   ],
   "source": [
    "df_pivot_diff.sort_values(\"stamp_2\", ascending = False)[\"stamp_2\"].head(10).plot.barh()"
   ]
  },
  {
   "cell_type": "code",
   "execution_count": null,
   "id": "extra-executive",
   "metadata": {
    "papermill": {
     "duration": 0.028002,
     "end_time": "2021-12-11T01:30:13.828611",
     "exception": false,
     "start_time": "2021-12-11T01:30:13.800609",
     "status": "completed"
    },
    "tags": []
   },
   "outputs": [],
   "source": []
  }
 ],
 "metadata": {
  "kernelspec": {
   "display_name": "Python 3",
   "language": "python",
   "name": "python3"
  },
  "language_info": {
   "codemirror_mode": {
    "name": "ipython",
    "version": 3
   },
   "file_extension": ".py",
   "mimetype": "text/x-python",
   "name": "python",
   "nbconvert_exporter": "python",
   "pygments_lexer": "ipython3",
   "version": "3.9.5"
  },
  "papermill": {
   "default_parameters": {},
   "duration": 10.014915,
   "end_time": "2021-12-11T01:30:15.141105",
   "environment_variables": {},
   "exception": null,
   "input_path": "eBay_Overview.ipynb",
   "output_path": "eBay_Overview.ipynb",
   "parameters": {},
   "start_time": "2021-12-11T01:30:05.126190",
   "version": "2.3.3"
  }
 },
 "nbformat": 4,
 "nbformat_minor": 5
}