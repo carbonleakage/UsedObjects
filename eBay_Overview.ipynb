{
 "cells": [
  {
   "cell_type": "code",
   "execution_count": 1,
   "id": "reverse-picking",
   "metadata": {
    "execution": {
     "iopub.execute_input": "2021-09-11T21:30:06.839984Z",
     "iopub.status.busy": "2021-09-11T21:30:06.837938Z",
     "iopub.status.idle": "2021-09-11T21:30:07.650342Z",
     "shell.execute_reply": "2021-09-11T21:30:07.648708Z"
    },
    "papermill": {
     "duration": 0.860008,
     "end_time": "2021-09-11T21:30:07.650746",
     "exception": false,
     "start_time": "2021-09-11T21:30:06.790738",
     "status": "completed"
    },
    "tags": []
   },
   "outputs": [],
   "source": [
    "import pandas as pd\n",
    "import sqlite3"
   ]
  },
  {
   "cell_type": "code",
   "execution_count": 2,
   "id": "innovative-syndrome",
   "metadata": {
    "execution": {
     "iopub.execute_input": "2021-09-11T21:30:07.701717Z",
     "iopub.status.busy": "2021-09-11T21:30:07.699552Z",
     "iopub.status.idle": "2021-09-11T21:30:07.971858Z",
     "shell.execute_reply": "2021-09-11T21:30:07.973228Z"
    },
    "papermill": {
     "duration": 0.302701,
     "end_time": "2021-09-11T21:30:07.973662",
     "exception": false,
     "start_time": "2021-09-11T21:30:07.670961",
     "status": "completed"
    },
    "tags": []
   },
   "outputs": [],
   "source": [
    "timestamps = pd.read_sql(\"select distinct record_time from EBAY_TOP_BERLIN order by record_time desc limit 2\", sqlite3.connect(\"UsedObjects.db\"))"
   ]
  },
  {
   "cell_type": "code",
   "execution_count": 3,
   "id": "periodic-identification",
   "metadata": {
    "execution": {
     "iopub.execute_input": "2021-09-11T21:30:08.041288Z",
     "iopub.status.busy": "2021-09-11T21:30:08.039272Z",
     "iopub.status.idle": "2021-09-11T21:30:08.059182Z",
     "shell.execute_reply": "2021-09-11T21:30:08.060492Z"
    },
    "papermill": {
     "duration": 0.066939,
     "end_time": "2021-09-11T21:30:08.060905",
     "exception": false,
     "start_time": "2021-09-11T21:30:07.993966",
     "status": "completed"
    },
    "tags": []
   },
   "outputs": [
    {
     "data": {
      "text/html": [
       "<div>\n",
       "<style scoped>\n",
       "    .dataframe tbody tr th:only-of-type {\n",
       "        vertical-align: middle;\n",
       "    }\n",
       "\n",
       "    .dataframe tbody tr th {\n",
       "        vertical-align: top;\n",
       "    }\n",
       "\n",
       "    .dataframe thead th {\n",
       "        text-align: right;\n",
       "    }\n",
       "</style>\n",
       "<table border=\"1\" class=\"dataframe\">\n",
       "  <thead>\n",
       "    <tr style=\"text-align: right;\">\n",
       "      <th></th>\n",
       "      <th>RECORD_TIME</th>\n",
       "    </tr>\n",
       "  </thead>\n",
       "  <tbody>\n",
       "    <tr>\n",
       "      <th>0</th>\n",
       "      <td>2021-09-11 23:30</td>\n",
       "    </tr>\n",
       "    <tr>\n",
       "      <th>1</th>\n",
       "      <td>2021-09-11 23:00</td>\n",
       "    </tr>\n",
       "  </tbody>\n",
       "</table>\n",
       "</div>"
      ],
      "text/plain": [
       "        RECORD_TIME\n",
       "0  2021-09-11 23:30\n",
       "1  2021-09-11 23:00"
      ]
     },
     "execution_count": 3,
     "metadata": {},
     "output_type": "execute_result"
    }
   ],
   "source": [
    "timestamps"
   ]
  },
  {
   "cell_type": "code",
   "execution_count": 4,
   "id": "alternate-victory",
   "metadata": {
    "execution": {
     "iopub.execute_input": "2021-09-11T21:30:08.112216Z",
     "iopub.status.busy": "2021-09-11T21:30:08.110242Z",
     "iopub.status.idle": "2021-09-11T21:30:08.497694Z",
     "shell.execute_reply": "2021-09-11T21:30:08.499042Z"
    },
    "papermill": {
     "duration": 0.417437,
     "end_time": "2021-09-11T21:30:08.499473",
     "exception": false,
     "start_time": "2021-09-11T21:30:08.082036",
     "status": "completed"
    },
    "tags": []
   },
   "outputs": [],
   "source": [
    "df = pd.read_sql(\"select * from EBAY_TOP_BERLIN where record_time in (select distinct record_time from EBAY_TOP_BERLIN order by record_time desc limit 2)\", sqlite3.connect(\"UsedObjects.db\"))"
   ]
  },
  {
   "cell_type": "code",
   "execution_count": 5,
   "id": "popular-active",
   "metadata": {
    "execution": {
     "iopub.execute_input": "2021-09-11T21:30:08.594411Z",
     "iopub.status.busy": "2021-09-11T21:30:08.582025Z",
     "iopub.status.idle": "2021-09-11T21:30:08.610223Z",
     "shell.execute_reply": "2021-09-11T21:30:08.611511Z"
    },
    "papermill": {
     "duration": 0.074065,
     "end_time": "2021-09-11T21:30:08.611906",
     "exception": false,
     "start_time": "2021-09-11T21:30:08.537841",
     "status": "completed"
    },
    "tags": []
   },
   "outputs": [],
   "source": [
    "df_pivot = df.pivot_table(index=\"PRODUCT\", columns = \"RECORD_TIME\", values = \"LISTING_COUNT\")"
   ]
  },
  {
   "cell_type": "code",
   "execution_count": 6,
   "id": "union-huntington",
   "metadata": {
    "execution": {
     "iopub.execute_input": "2021-09-11T21:30:08.669646Z",
     "iopub.status.busy": "2021-09-11T21:30:08.667491Z",
     "iopub.status.idle": "2021-09-11T21:30:08.672965Z",
     "shell.execute_reply": "2021-09-11T21:30:08.674317Z"
    },
    "papermill": {
     "duration": 0.040825,
     "end_time": "2021-09-11T21:30:08.674752",
     "exception": false,
     "start_time": "2021-09-11T21:30:08.633927",
     "status": "completed"
    },
    "tags": []
   },
   "outputs": [],
   "source": [
    "df_pivot.columns = [\"stamp_1\", \"stamp_2\"]\n",
    "df_pivot_diff = df_pivot.diff(axis=1)"
   ]
  },
  {
   "cell_type": "code",
   "execution_count": 7,
   "id": "fifth-motion",
   "metadata": {
    "execution": {
     "iopub.execute_input": "2021-09-11T21:30:08.730555Z",
     "iopub.status.busy": "2021-09-11T21:30:08.727916Z",
     "iopub.status.idle": "2021-09-11T21:30:10.205789Z",
     "shell.execute_reply": "2021-09-11T21:30:10.207244Z"
    },
    "papermill": {
     "duration": 1.511785,
     "end_time": "2021-09-11T21:30:10.207691",
     "exception": false,
     "start_time": "2021-09-11T21:30:08.695906",
     "status": "completed"
    },
    "tags": []
   },
   "outputs": [
    {
     "data": {
      "text/plain": [
       "<AxesSubplot:ylabel='PRODUCT'>"
      ]
     },
     "execution_count": 7,
     "metadata": {},
     "output_type": "execute_result"
    },
    {
     "data": {
      "image/png": "[encoded data removed]",
      "text/plain": [
       "<Figure size 432x288 with 1 Axes>"
      ]
     },
     "metadata": {
      "needs_background": "light"
     },
     "output_type": "display_data"
    }
   ],
   "source": [
    "df_pivot_diff.sort_values(\"stamp_2\", ascending = False)[\"stamp_2\"].head(10).plot.barh()"
   ]
  },
  {
   "cell_type": "code",
   "execution_count": null,
   "id": "extra-executive",
   "metadata": {
    "papermill": {
     "duration": 0.021967,
     "end_time": "2021-09-11T21:30:10.253339",
     "exception": false,
     "start_time": "2021-09-11T21:30:10.231372",
     "status": "completed"
    },
    "tags": []
   },
   "outputs": [],
   "source": []
  }
 ],
 "metadata": {
  "kernelspec": {
   "display_name": "Python 3",
   "language": "python",
   "name": "python3"
  },
  "language_info": {
   "codemirror_mode": {
    "name": "ipython",
    "version": 3
   },
   "file_extension": ".py",
   "mimetype": "text/x-python",
   "name": "python",
   "nbconvert_exporter": "python",
   "pygments_lexer": "ipython3",
   "version": "3.9.5"
  },
  "papermill": {
   "default_parameters": {},
   "duration": 6.528654,
   "end_time": "2021-09-11T21:30:10.892916",
   "environment_variables": {},
   "exception": null,
   "input_path": "eBay_Overview.ipynb",
   "output_path": "eBay_Overview.ipynb",
   "parameters": {},
   "start_time": "2021-09-11T21:30:04.364262",
   "version": "2.3.3"
  }
 },
 "nbformat": 4,
 "nbformat_minor": 5
}