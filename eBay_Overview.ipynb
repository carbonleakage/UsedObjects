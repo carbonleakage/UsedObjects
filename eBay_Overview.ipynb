{
 "cells": [
  {
   "cell_type": "code",
   "execution_count": 1,
   "id": "reverse-picking",
   "metadata": {
    "execution": {
     "iopub.execute_input": "2021-10-06T23:00:07.153372Z",
     "iopub.status.busy": "2021-10-06T23:00:07.151464Z",
     "iopub.status.idle": "2021-10-06T23:00:07.959956Z",
     "shell.execute_reply": "2021-10-06T23:00:07.961204Z"
    },
    "papermill": {
     "duration": 0.862769,
     "end_time": "2021-10-06T23:00:07.961820",
     "exception": false,
     "start_time": "2021-10-06T23:00:07.099051",
     "status": "completed"
    },
    "tags": []
   },
   "outputs": [],
   "source": [
    "import pandas as pd\n",
    "import sqlite3"
   ]
  },
  {
   "cell_type": "code",
   "execution_count": 2,
   "id": "innovative-syndrome",
   "metadata": {
    "execution": {
     "iopub.execute_input": "2021-10-06T23:00:08.015607Z",
     "iopub.status.busy": "2021-10-06T23:00:08.013247Z",
     "iopub.status.idle": "2021-10-06T23:00:08.485677Z",
     "shell.execute_reply": "2021-10-06T23:00:08.486934Z"
    },
    "papermill": {
     "duration": 0.502448,
     "end_time": "2021-10-06T23:00:08.487387",
     "exception": false,
     "start_time": "2021-10-06T23:00:07.984939",
     "status": "completed"
    },
    "tags": []
   },
   "outputs": [],
   "source": [
    "timestamps = pd.read_sql(\"select distinct record_time from EBAY_TOP_BERLIN order by record_time desc limit 2\", sqlite3.connect(\"UsedObjects.db\"))"
   ]
  },
  {
   "cell_type": "code",
   "execution_count": 3,
   "id": "periodic-identification",
   "metadata": {
    "execution": {
     "iopub.execute_input": "2021-10-06T23:00:08.552805Z",
     "iopub.status.busy": "2021-10-06T23:00:08.550729Z",
     "iopub.status.idle": "2021-10-06T23:00:08.570457Z",
     "shell.execute_reply": "2021-10-06T23:00:08.571721Z"
    },
    "papermill": {
     "duration": 0.065121,
     "end_time": "2021-10-06T23:00:08.572121",
     "exception": false,
     "start_time": "2021-10-06T23:00:08.507000",
     "status": "completed"
    },
    "tags": []
   },
   "outputs": [
    {
     "data": {
      "text/html": [
       "<div>\n",
       "<style scoped>\n",
       "    .dataframe tbody tr th:only-of-type {\n",
       "        vertical-align: middle;\n",
       "    }\n",
       "\n",
       "    .dataframe tbody tr th {\n",
       "        vertical-align: top;\n",
       "    }\n",
       "\n",
       "    .dataframe thead th {\n",
       "        text-align: right;\n",
       "    }\n",
       "</style>\n",
       "<table border=\"1\" class=\"dataframe\">\n",
       "  <thead>\n",
       "    <tr style=\"text-align: right;\">\n",
       "      <th></th>\n",
       "      <th>RECORD_TIME</th>\n",
       "    </tr>\n",
       "  </thead>\n",
       "  <tbody>\n",
       "    <tr>\n",
       "      <th>0</th>\n",
       "      <td>2021-10-07 01:00</td>\n",
       "    </tr>\n",
       "    <tr>\n",
       "      <th>1</th>\n",
       "      <td>2021-10-07 00:30</td>\n",
       "    </tr>\n",
       "  </tbody>\n",
       "</table>\n",
       "</div>"
      ],
      "text/plain": [
       "        RECORD_TIME\n",
       "0  2021-10-07 01:00\n",
       "1  2021-10-07 00:30"
      ]
     },
     "execution_count": 3,
     "metadata": {},
     "output_type": "execute_result"
    }
   ],
   "source": [
    "timestamps"
   ]
  },
  {
   "cell_type": "code",
   "execution_count": 4,
   "id": "alternate-victory",
   "metadata": {
    "execution": {
     "iopub.execute_input": "2021-10-06T23:00:08.648809Z",
     "iopub.status.busy": "2021-10-06T23:00:08.646873Z",
     "iopub.status.idle": "2021-10-06T23:00:09.328264Z",
     "shell.execute_reply": "2021-10-06T23:00:09.329464Z"
    },
    "papermill": {
     "duration": 0.718243,
     "end_time": "2021-10-06T23:00:09.329857",
     "exception": false,
     "start_time": "2021-10-06T23:00:08.611614",
     "status": "completed"
    },
    "tags": []
   },
   "outputs": [],
   "source": [
    "df = pd.read_sql(\"select * from EBAY_TOP_BERLIN where record_time in (select distinct record_time from EBAY_TOP_BERLIN order by record_time desc limit 2)\", sqlite3.connect(\"UsedObjects.db\"))"
   ]
  },
  {
   "cell_type": "code",
   "execution_count": 5,
   "id": "popular-active",
   "metadata": {
    "execution": {
     "iopub.execute_input": "2021-10-06T23:00:09.402933Z",
     "iopub.status.busy": "2021-10-06T23:00:09.391370Z",
     "iopub.status.idle": "2021-10-06T23:00:09.421311Z",
     "shell.execute_reply": "2021-10-06T23:00:09.422759Z"
    },
    "papermill": {
     "duration": 0.07094,
     "end_time": "2021-10-06T23:00:09.423433",
     "exception": false,
     "start_time": "2021-10-06T23:00:09.352493",
     "status": "completed"
    },
    "tags": []
   },
   "outputs": [],
   "source": [
    "df_pivot = df.pivot_table(index=\"PRODUCT\", columns = \"RECORD_TIME\", values = \"LISTING_COUNT\")"
   ]
  },
  {
   "cell_type": "code",
   "execution_count": 6,
   "id": "union-huntington",
   "metadata": {
    "execution": {
     "iopub.execute_input": "2021-10-06T23:00:09.482603Z",
     "iopub.status.busy": "2021-10-06T23:00:09.480348Z",
     "iopub.status.idle": "2021-10-06T23:00:09.485985Z",
     "shell.execute_reply": "2021-10-06T23:00:09.487308Z"
    },
    "papermill": {
     "duration": 0.041862,
     "end_time": "2021-10-06T23:00:09.487726",
     "exception": false,
     "start_time": "2021-10-06T23:00:09.445864",
     "status": "completed"
    },
    "tags": []
   },
   "outputs": [],
   "source": [
    "df_pivot.columns = [\"stamp_1\", \"stamp_2\"]\n",
    "df_pivot_diff = df_pivot.diff(axis=1)"
   ]
  },
  {
   "cell_type": "code",
   "execution_count": 7,
   "id": "fifth-motion",
   "metadata": {
    "execution": {
     "iopub.execute_input": "2021-10-06T23:00:09.541876Z",
     "iopub.status.busy": "2021-10-06T23:00:09.539591Z",
     "iopub.status.idle": "2021-10-06T23:00:11.046376Z",
     "shell.execute_reply": "2021-10-06T23:00:11.047842Z"
    },
    "papermill": {
     "duration": 1.539934,
     "end_time": "2021-10-06T23:00:11.048286",
     "exception": false,
     "start_time": "2021-10-06T23:00:09.508352",
     "status": "completed"
    },
    "tags": []
   },
   "outputs": [
    {
     "data": {
      "text/plain": [
       "<AxesSubplot:ylabel='PRODUCT'>"
      ]
     },
     "execution_count": 7,
     "metadata": {},
     "output_type": "execute_result"
    },
    {
     "data": {
      "image/png": "[encoded data removed]",
      "text/plain": [
       "<Figure size 432x288 with 1 Axes>"
      ]
     },
     "metadata": {
      "needs_background": "light"
     },
     "output_type": "display_data"
    }
   ],
   "source": [
    "df_pivot_diff.sort_values(\"stamp_2\", ascending = False)[\"stamp_2\"].head(10).plot.barh()"
   ]
  },
  {
   "cell_type": "code",
   "execution_count": null,
   "id": "extra-executive",
   "metadata": {
    "papermill": {
     "duration": 0.022364,
     "end_time": "2021-10-06T23:00:11.094461",
     "exception": false,
     "start_time": "2021-10-06T23:00:11.072097",
     "status": "completed"
    },
    "tags": []
   },
   "outputs": [],
   "source": []
  }
 ],
 "metadata": {
  "kernelspec": {
   "display_name": "Python 3",
   "language": "python",
   "name": "python3"
  },
  "language_info": {
   "codemirror_mode": {
    "name": "ipython",
    "version": 3
   },
   "file_extension": ".py",
   "mimetype": "text/x-python",
   "name": "python",
   "nbconvert_exporter": "python",
   "pygments_lexer": "ipython3",
   "version": "3.9.5"
  },
  "papermill": {
   "default_parameters": {},
   "duration": 7.838707,
   "end_time": "2021-10-06T23:00:12.530718",
   "environment_variables": {},
   "exception": null,
   "input_path": "eBay_Overview.ipynb",
   "output_path": "eBay_Overview.ipynb",
   "parameters": {},
   "start_time": "2021-10-06T23:00:04.692011",
   "version": "2.3.3"
  }
 },
 "nbformat": 4,
 "nbformat_minor": 5
}