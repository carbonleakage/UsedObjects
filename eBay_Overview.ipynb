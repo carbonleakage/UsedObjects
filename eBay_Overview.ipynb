{
 "cells": [
  {
   "cell_type": "code",
   "execution_count": 1,
   "id": "reverse-picking",
   "metadata": {
    "execution": {
     "iopub.execute_input": "2021-11-12T06:00:07.664298Z",
     "iopub.status.busy": "2021-11-12T06:00:07.656487Z",
     "iopub.status.idle": "2021-11-12T06:00:08.607159Z",
     "shell.execute_reply": "2021-11-12T06:00:08.604052Z"
    },
    "papermill": {
     "duration": 0.997447,
     "end_time": "2021-11-12T06:00:08.607664",
     "exception": false,
     "start_time": "2021-11-12T06:00:07.610217",
     "status": "completed"
    },
    "tags": []
   },
   "outputs": [],
   "source": [
    "import pandas as pd\n",
    "import sqlite3"
   ]
  },
  {
   "cell_type": "code",
   "execution_count": 2,
   "id": "innovative-syndrome",
   "metadata": {
    "execution": {
     "iopub.execute_input": "2021-11-12T06:00:08.670057Z",
     "iopub.status.busy": "2021-11-12T06:00:08.667689Z",
     "iopub.status.idle": "2021-11-12T06:00:09.468035Z",
     "shell.execute_reply": "2021-11-12T06:00:09.469729Z"
    },
    "papermill": {
     "duration": 0.841456,
     "end_time": "2021-11-12T06:00:09.470237",
     "exception": false,
     "start_time": "2021-11-12T06:00:08.628781",
     "status": "completed"
    },
    "tags": []
   },
   "outputs": [],
   "source": [
    "timestamps = pd.read_sql(\"select distinct record_time from EBAY_TOP_BERLIN order by record_time desc limit 2\", sqlite3.connect(\"UsedObjects.db\"))"
   ]
  },
  {
   "cell_type": "code",
   "execution_count": 3,
   "id": "periodic-identification",
   "metadata": {
    "execution": {
     "iopub.execute_input": "2021-11-12T06:00:09.557014Z",
     "iopub.status.busy": "2021-11-12T06:00:09.554489Z",
     "iopub.status.idle": "2021-11-12T06:00:09.581656Z",
     "shell.execute_reply": "2021-11-12T06:00:09.583144Z"
    },
    "papermill": {
     "duration": 0.091534,
     "end_time": "2021-11-12T06:00:09.583666",
     "exception": false,
     "start_time": "2021-11-12T06:00:09.492132",
     "status": "completed"
    },
    "tags": []
   },
   "outputs": [
    {
     "data": {
      "text/html": [
       "<div>\n",
       "<style scoped>\n",
       "    .dataframe tbody tr th:only-of-type {\n",
       "        vertical-align: middle;\n",
       "    }\n",
       "\n",
       "    .dataframe tbody tr th {\n",
       "        vertical-align: top;\n",
       "    }\n",
       "\n",
       "    .dataframe thead th {\n",
       "        text-align: right;\n",
       "    }\n",
       "</style>\n",
       "<table border=\"1\" class=\"dataframe\">\n",
       "  <thead>\n",
       "    <tr style=\"text-align: right;\">\n",
       "      <th></th>\n",
       "      <th>RECORD_TIME</th>\n",
       "    </tr>\n",
       "  </thead>\n",
       "  <tbody>\n",
       "    <tr>\n",
       "      <th>0</th>\n",
       "      <td>2021-11-12 07:00</td>\n",
       "    </tr>\n",
       "    <tr>\n",
       "      <th>1</th>\n",
       "      <td>2021-11-12 06:30</td>\n",
       "    </tr>\n",
       "  </tbody>\n",
       "</table>\n",
       "</div>"
      ],
      "text/plain": [
       "        RECORD_TIME\n",
       "0  2021-11-12 07:00\n",
       "1  2021-11-12 06:30"
      ]
     },
     "execution_count": 3,
     "metadata": {},
     "output_type": "execute_result"
    }
   ],
   "source": [
    "timestamps"
   ]
  },
  {
   "cell_type": "code",
   "execution_count": 4,
   "id": "alternate-victory",
   "metadata": {
    "execution": {
     "iopub.execute_input": "2021-11-12T06:00:09.640274Z",
     "iopub.status.busy": "2021-11-12T06:00:09.638151Z",
     "iopub.status.idle": "2021-11-12T06:00:10.809967Z",
     "shell.execute_reply": "2021-11-12T06:00:10.811441Z"
    },
    "papermill": {
     "duration": 1.205962,
     "end_time": "2021-11-12T06:00:10.811915",
     "exception": false,
     "start_time": "2021-11-12T06:00:09.605953",
     "status": "completed"
    },
    "tags": []
   },
   "outputs": [],
   "source": [
    "df = pd.read_sql(\"select * from EBAY_TOP_BERLIN where record_time in (select distinct record_time from EBAY_TOP_BERLIN order by record_time desc limit 2)\", sqlite3.connect(\"UsedObjects.db\"))"
   ]
  },
  {
   "cell_type": "code",
   "execution_count": 5,
   "id": "popular-active",
   "metadata": {
    "execution": {
     "iopub.execute_input": "2021-11-12T06:00:10.891080Z",
     "iopub.status.busy": "2021-11-12T06:00:10.877692Z",
     "iopub.status.idle": "2021-11-12T06:00:10.913306Z",
     "shell.execute_reply": "2021-11-12T06:00:10.911521Z"
    },
    "papermill": {
     "duration": 0.077985,
     "end_time": "2021-11-12T06:00:10.913747",
     "exception": false,
     "start_time": "2021-11-12T06:00:10.835762",
     "status": "completed"
    },
    "tags": []
   },
   "outputs": [],
   "source": [
    "df_pivot = df.pivot_table(index=\"PRODUCT\", columns = \"RECORD_TIME\", values = \"LISTING_COUNT\")"
   ]
  },
  {
   "cell_type": "code",
   "execution_count": 6,
   "id": "union-huntington",
   "metadata": {
    "execution": {
     "iopub.execute_input": "2021-11-12T06:00:10.975742Z",
     "iopub.status.busy": "2021-11-12T06:00:10.973429Z",
     "iopub.status.idle": "2021-11-12T06:00:10.979130Z",
     "shell.execute_reply": "2021-11-12T06:00:10.981940Z"
    },
    "papermill": {
     "duration": 0.047458,
     "end_time": "2021-11-12T06:00:10.982710",
     "exception": false,
     "start_time": "2021-11-12T06:00:10.935252",
     "status": "completed"
    },
    "tags": []
   },
   "outputs": [],
   "source": [
    "df_pivot.columns = [\"stamp_1\", \"stamp_2\"]\n",
    "df_pivot_diff = df_pivot.diff(axis=1)"
   ]
  },
  {
   "cell_type": "code",
   "execution_count": 7,
   "id": "fifth-motion",
   "metadata": {
    "execution": {
     "iopub.execute_input": "2021-11-12T06:00:11.052084Z",
     "iopub.status.busy": "2021-11-12T06:00:11.039378Z",
     "iopub.status.idle": "2021-11-12T06:00:12.791679Z",
     "shell.execute_reply": "2021-11-12T06:00:12.793077Z"
    },
    "papermill": {
     "duration": 1.789104,
     "end_time": "2021-11-12T06:00:12.793553",
     "exception": false,
     "start_time": "2021-11-12T06:00:11.004449",
     "status": "completed"
    },
    "tags": []
   },
   "outputs": [
    {
     "data": {
      "text/plain": [
       "<AxesSubplot:ylabel='PRODUCT'>"
      ]
     },
     "execution_count": 7,
     "metadata": {},
     "output_type": "execute_result"
    },
    {
     "data": {
      "image/png": "[encoded data removed]",
      "text/plain": [
       "<Figure size 432x288 with 1 Axes>"
      ]
     },
     "metadata": {
      "needs_background": "light"
     },
     "output_type": "display_data"
    }
   ],
   "source": [
    "df_pivot_diff.sort_values(\"stamp_2\", ascending = False)[\"stamp_2\"].head(10).plot.barh()"
   ]
  },
  {
   "cell_type": "code",
   "execution_count": null,
   "id": "extra-executive",
   "metadata": {
    "papermill": {
     "duration": 0.02566,
     "end_time": "2021-11-12T06:00:12.843379",
     "exception": false,
     "start_time": "2021-11-12T06:00:12.817719",
     "status": "completed"
    },
    "tags": []
   },
   "outputs": [],
   "source": []
  }
 ],
 "metadata": {
  "kernelspec": {
   "display_name": "Python 3",
   "language": "python",
   "name": "python3"
  },
  "language_info": {
   "codemirror_mode": {
    "name": "ipython",
    "version": 3
   },
   "file_extension": ".py",
   "mimetype": "text/x-python",
   "name": "python",
   "nbconvert_exporter": "python",
   "pygments_lexer": "ipython3",
   "version": "3.9.5"
  },
  "papermill": {
   "default_parameters": {},
   "duration": 8.89527,
   "end_time": "2021-11-12T06:00:13.699867",
   "environment_variables": {},
   "exception": null,
   "input_path": "eBay_Overview.ipynb",
   "output_path": "eBay_Overview.ipynb",
   "parameters": {},
   "start_time": "2021-11-12T06:00:04.804597",
   "version": "2.3.3"
  }
 },
 "nbformat": 4,
 "nbformat_minor": 5
}