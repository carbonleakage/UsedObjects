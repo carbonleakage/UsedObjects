{
 "cells": [
  {
   "cell_type": "code",
   "execution_count": 1,
   "id": "reverse-picking",
   "metadata": {
    "execution": {
     "iopub.execute_input": "2021-11-11T11:30:07.186662Z",
     "iopub.status.busy": "2021-11-11T11:30:07.184475Z",
     "iopub.status.idle": "2021-11-11T11:30:08.128627Z",
     "shell.execute_reply": "2021-11-11T11:30:08.130249Z"
    },
    "papermill": {
     "duration": 0.993261,
     "end_time": "2021-11-11T11:30:08.130968",
     "exception": false,
     "start_time": "2021-11-11T11:30:07.137707",
     "status": "completed"
    },
    "tags": []
   },
   "outputs": [],
   "source": [
    "import pandas as pd\n",
    "import sqlite3"
   ]
  },
  {
   "cell_type": "code",
   "execution_count": 2,
   "id": "innovative-syndrome",
   "metadata": {
    "execution": {
     "iopub.execute_input": "2021-11-11T11:30:08.194022Z",
     "iopub.status.busy": "2021-11-11T11:30:08.191831Z",
     "iopub.status.idle": "2021-11-11T11:30:09.004063Z",
     "shell.execute_reply": "2021-11-11T11:30:09.005586Z"
    },
    "papermill": {
     "duration": 0.846179,
     "end_time": "2021-11-11T11:30:09.006078",
     "exception": false,
     "start_time": "2021-11-11T11:30:08.159899",
     "status": "completed"
    },
    "tags": []
   },
   "outputs": [],
   "source": [
    "timestamps = pd.read_sql(\"select distinct record_time from EBAY_TOP_BERLIN order by record_time desc limit 2\", sqlite3.connect(\"UsedObjects.db\"))"
   ]
  },
  {
   "cell_type": "code",
   "execution_count": 3,
   "id": "periodic-identification",
   "metadata": {
    "execution": {
     "iopub.execute_input": "2021-11-11T11:30:09.077919Z",
     "iopub.status.busy": "2021-11-11T11:30:09.075527Z",
     "iopub.status.idle": "2021-11-11T11:30:09.098400Z",
     "shell.execute_reply": "2021-11-11T11:30:09.099748Z"
    },
    "papermill": {
     "duration": 0.073308,
     "end_time": "2021-11-11T11:30:09.100243",
     "exception": false,
     "start_time": "2021-11-11T11:30:09.026935",
     "status": "completed"
    },
    "tags": []
   },
   "outputs": [
    {
     "data": {
      "text/html": [
       "<div>\n",
       "<style scoped>\n",
       "    .dataframe tbody tr th:only-of-type {\n",
       "        vertical-align: middle;\n",
       "    }\n",
       "\n",
       "    .dataframe tbody tr th {\n",
       "        vertical-align: top;\n",
       "    }\n",
       "\n",
       "    .dataframe thead th {\n",
       "        text-align: right;\n",
       "    }\n",
       "</style>\n",
       "<table border=\"1\" class=\"dataframe\">\n",
       "  <thead>\n",
       "    <tr style=\"text-align: right;\">\n",
       "      <th></th>\n",
       "      <th>RECORD_TIME</th>\n",
       "    </tr>\n",
       "  </thead>\n",
       "  <tbody>\n",
       "    <tr>\n",
       "      <th>0</th>\n",
       "      <td>2021-11-11 12:30</td>\n",
       "    </tr>\n",
       "    <tr>\n",
       "      <th>1</th>\n",
       "      <td>2021-11-11 12:00</td>\n",
       "    </tr>\n",
       "  </tbody>\n",
       "</table>\n",
       "</div>"
      ],
      "text/plain": [
       "        RECORD_TIME\n",
       "0  2021-11-11 12:30\n",
       "1  2021-11-11 12:00"
      ]
     },
     "execution_count": 3,
     "metadata": {},
     "output_type": "execute_result"
    }
   ],
   "source": [
    "timestamps"
   ]
  },
  {
   "cell_type": "code",
   "execution_count": 4,
   "id": "alternate-victory",
   "metadata": {
    "execution": {
     "iopub.execute_input": "2021-11-11T11:30:09.154281Z",
     "iopub.status.busy": "2021-11-11T11:30:09.152130Z",
     "iopub.status.idle": "2021-11-11T11:30:10.308890Z",
     "shell.execute_reply": "2021-11-11T11:30:10.310626Z"
    },
    "papermill": {
     "duration": 1.189624,
     "end_time": "2021-11-11T11:30:10.311130",
     "exception": false,
     "start_time": "2021-11-11T11:30:09.121506",
     "status": "completed"
    },
    "tags": []
   },
   "outputs": [],
   "source": [
    "df = pd.read_sql(\"select * from EBAY_TOP_BERLIN where record_time in (select distinct record_time from EBAY_TOP_BERLIN order by record_time desc limit 2)\", sqlite3.connect(\"UsedObjects.db\"))"
   ]
  },
  {
   "cell_type": "code",
   "execution_count": 5,
   "id": "popular-active",
   "metadata": {
    "execution": {
     "iopub.execute_input": "2021-11-11T11:30:10.392595Z",
     "iopub.status.busy": "2021-11-11T11:30:10.378013Z",
     "iopub.status.idle": "2021-11-11T11:30:10.413960Z",
     "shell.execute_reply": "2021-11-11T11:30:10.412199Z"
    },
    "papermill": {
     "duration": 0.080217,
     "end_time": "2021-11-11T11:30:10.414439",
     "exception": false,
     "start_time": "2021-11-11T11:30:10.334222",
     "status": "completed"
    },
    "tags": []
   },
   "outputs": [],
   "source": [
    "df_pivot = df.pivot_table(index=\"PRODUCT\", columns = \"RECORD_TIME\", values = \"LISTING_COUNT\")"
   ]
  },
  {
   "cell_type": "code",
   "execution_count": 6,
   "id": "union-huntington",
   "metadata": {
    "execution": {
     "iopub.execute_input": "2021-11-11T11:30:10.479348Z",
     "iopub.status.busy": "2021-11-11T11:30:10.477186Z",
     "iopub.status.idle": "2021-11-11T11:30:10.483944Z",
     "shell.execute_reply": "2021-11-11T11:30:10.481927Z"
    },
    "papermill": {
     "duration": 0.047456,
     "end_time": "2021-11-11T11:30:10.484405",
     "exception": false,
     "start_time": "2021-11-11T11:30:10.436949",
     "status": "completed"
    },
    "tags": []
   },
   "outputs": [],
   "source": [
    "df_pivot.columns = [\"stamp_1\", \"stamp_2\"]\n",
    "df_pivot_diff = df_pivot.diff(axis=1)"
   ]
  },
  {
   "cell_type": "code",
   "execution_count": 7,
   "id": "fifth-motion",
   "metadata": {
    "execution": {
     "iopub.execute_input": "2021-11-11T11:30:10.552134Z",
     "iopub.status.busy": "2021-11-11T11:30:10.541539Z",
     "iopub.status.idle": "2021-11-11T11:30:12.243534Z",
     "shell.execute_reply": "2021-11-11T11:30:12.244979Z"
    },
    "papermill": {
     "duration": 1.739689,
     "end_time": "2021-11-11T11:30:12.245464",
     "exception": false,
     "start_time": "2021-11-11T11:30:10.505775",
     "status": "completed"
    },
    "tags": []
   },
   "outputs": [
    {
     "data": {
      "text/plain": [
       "<AxesSubplot:ylabel='PRODUCT'>"
      ]
     },
     "execution_count": 7,
     "metadata": {},
     "output_type": "execute_result"
    },
    {
     "data": {
      "image/png": "[encoded data removed]",
      "text/plain": [
       "<Figure size 432x288 with 1 Axes>"
      ]
     },
     "metadata": {
      "needs_background": "light"
     },
     "output_type": "display_data"
    }
   ],
   "source": [
    "df_pivot_diff.sort_values(\"stamp_2\", ascending = False)[\"stamp_2\"].head(10).plot.barh()"
   ]
  },
  {
   "cell_type": "code",
   "execution_count": null,
   "id": "extra-executive",
   "metadata": {
    "papermill": {
     "duration": 0.02362,
     "end_time": "2021-11-11T11:30:12.293422",
     "exception": false,
     "start_time": "2021-11-11T11:30:12.269802",
     "status": "completed"
    },
    "tags": []
   },
   "outputs": [],
   "source": []
  }
 ],
 "metadata": {
  "kernelspec": {
   "display_name": "Python 3",
   "language": "python",
   "name": "python3"
  },
  "language_info": {
   "codemirror_mode": {
    "name": "ipython",
    "version": 3
   },
   "file_extension": ".py",
   "mimetype": "text/x-python",
   "name": "python",
   "nbconvert_exporter": "python",
   "pygments_lexer": "ipython3",
   "version": "3.9.5"
  },
  "papermill": {
   "default_parameters": {},
   "duration": 8.796706,
   "end_time": "2021-11-11T11:30:13.139040",
   "environment_variables": {},
   "exception": null,
   "input_path": "eBay_Overview.ipynb",
   "output_path": "eBay_Overview.ipynb",
   "parameters": {},
   "start_time": "2021-11-11T11:30:04.342334",
   "version": "2.3.3"
  }
 },
 "nbformat": 4,
 "nbformat_minor": 5
}