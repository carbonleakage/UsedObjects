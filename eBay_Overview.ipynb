{
 "cells": [
  {
   "cell_type": "code",
   "execution_count": 1,
   "id": "reverse-picking",
   "metadata": {
    "execution": {
     "iopub.execute_input": "2021-11-14T10:30:08.075932Z",
     "iopub.status.busy": "2021-11-14T10:30:08.073548Z",
     "iopub.status.idle": "2021-11-14T10:30:08.995221Z",
     "shell.execute_reply": "2021-11-14T10:30:08.996796Z"
    },
    "papermill": {
     "duration": 0.971834,
     "end_time": "2021-11-14T10:30:08.997534",
     "exception": false,
     "start_time": "2021-11-14T10:30:08.025700",
     "status": "completed"
    },
    "tags": []
   },
   "outputs": [],
   "source": [
    "import pandas as pd\n",
    "import sqlite3"
   ]
  },
  {
   "cell_type": "code",
   "execution_count": 2,
   "id": "innovative-syndrome",
   "metadata": {
    "execution": {
     "iopub.execute_input": "2021-11-14T10:30:09.062353Z",
     "iopub.status.busy": "2021-11-14T10:30:09.060036Z",
     "iopub.status.idle": "2021-11-14T10:30:09.861190Z",
     "shell.execute_reply": "2021-11-14T10:30:09.862639Z"
    },
    "papermill": {
     "duration": 0.837656,
     "end_time": "2021-11-14T10:30:09.863092",
     "exception": false,
     "start_time": "2021-11-14T10:30:09.025436",
     "status": "completed"
    },
    "tags": []
   },
   "outputs": [],
   "source": [
    "timestamps = pd.read_sql(\"select distinct record_time from EBAY_TOP_BERLIN order by record_time desc limit 2\", sqlite3.connect(\"UsedObjects.db\"))"
   ]
  },
  {
   "cell_type": "code",
   "execution_count": 3,
   "id": "periodic-identification",
   "metadata": {
    "execution": {
     "iopub.execute_input": "2021-11-14T10:30:09.935785Z",
     "iopub.status.busy": "2021-11-14T10:30:09.933436Z",
     "iopub.status.idle": "2021-11-14T10:30:09.957410Z",
     "shell.execute_reply": "2021-11-14T10:30:09.958831Z"
    },
    "papermill": {
     "duration": 0.076259,
     "end_time": "2021-11-14T10:30:09.959313",
     "exception": false,
     "start_time": "2021-11-14T10:30:09.883054",
     "status": "completed"
    },
    "tags": []
   },
   "outputs": [
    {
     "data": {
      "text/html": [
       "<div>\n",
       "<style scoped>\n",
       "    .dataframe tbody tr th:only-of-type {\n",
       "        vertical-align: middle;\n",
       "    }\n",
       "\n",
       "    .dataframe tbody tr th {\n",
       "        vertical-align: top;\n",
       "    }\n",
       "\n",
       "    .dataframe thead th {\n",
       "        text-align: right;\n",
       "    }\n",
       "</style>\n",
       "<table border=\"1\" class=\"dataframe\">\n",
       "  <thead>\n",
       "    <tr style=\"text-align: right;\">\n",
       "      <th></th>\n",
       "      <th>RECORD_TIME</th>\n",
       "    </tr>\n",
       "  </thead>\n",
       "  <tbody>\n",
       "    <tr>\n",
       "      <th>0</th>\n",
       "      <td>2021-11-14 11:30</td>\n",
       "    </tr>\n",
       "    <tr>\n",
       "      <th>1</th>\n",
       "      <td>2021-11-14 11:00</td>\n",
       "    </tr>\n",
       "  </tbody>\n",
       "</table>\n",
       "</div>"
      ],
      "text/plain": [
       "        RECORD_TIME\n",
       "0  2021-11-14 11:30\n",
       "1  2021-11-14 11:00"
      ]
     },
     "execution_count": 3,
     "metadata": {},
     "output_type": "execute_result"
    }
   ],
   "source": [
    "timestamps"
   ]
  },
  {
   "cell_type": "code",
   "execution_count": 4,
   "id": "alternate-victory",
   "metadata": {
    "execution": {
     "iopub.execute_input": "2021-11-14T10:30:10.014016Z",
     "iopub.status.busy": "2021-11-14T10:30:10.011897Z",
     "iopub.status.idle": "2021-11-14T10:30:11.180769Z",
     "shell.execute_reply": "2021-11-14T10:30:11.183401Z"
    },
    "papermill": {
     "duration": 1.203691,
     "end_time": "2021-11-14T10:30:11.184222",
     "exception": false,
     "start_time": "2021-11-14T10:30:09.980531",
     "status": "completed"
    },
    "tags": []
   },
   "outputs": [],
   "source": [
    "df = pd.read_sql(\"select * from EBAY_TOP_BERLIN where record_time in (select distinct record_time from EBAY_TOP_BERLIN order by record_time desc limit 2)\", sqlite3.connect(\"UsedObjects.db\"))"
   ]
  },
  {
   "cell_type": "code",
   "execution_count": 5,
   "id": "popular-active",
   "metadata": {
    "execution": {
     "iopub.execute_input": "2021-11-14T10:30:11.268129Z",
     "iopub.status.busy": "2021-11-14T10:30:11.253285Z",
     "iopub.status.idle": "2021-11-14T10:30:11.289844Z",
     "shell.execute_reply": "2021-11-14T10:30:11.288161Z"
    },
    "papermill": {
     "duration": 0.0805,
     "end_time": "2021-11-14T10:30:11.290251",
     "exception": false,
     "start_time": "2021-11-14T10:30:11.209751",
     "status": "completed"
    },
    "tags": []
   },
   "outputs": [],
   "source": [
    "df_pivot = df.pivot_table(index=\"PRODUCT\", columns = \"RECORD_TIME\", values = \"LISTING_COUNT\")"
   ]
  },
  {
   "cell_type": "code",
   "execution_count": 6,
   "id": "union-huntington",
   "metadata": {
    "execution": {
     "iopub.execute_input": "2021-11-14T10:30:11.349686Z",
     "iopub.status.busy": "2021-11-14T10:30:11.347255Z",
     "iopub.status.idle": "2021-11-14T10:30:11.352632Z",
     "shell.execute_reply": "2021-11-14T10:30:11.354012Z"
    },
    "papermill": {
     "duration": 0.043478,
     "end_time": "2021-11-14T10:30:11.354447",
     "exception": false,
     "start_time": "2021-11-14T10:30:11.310969",
     "status": "completed"
    },
    "tags": []
   },
   "outputs": [],
   "source": [
    "df_pivot.columns = [\"stamp_1\", \"stamp_2\"]\n",
    "df_pivot_diff = df_pivot.diff(axis=1)"
   ]
  },
  {
   "cell_type": "code",
   "execution_count": 7,
   "id": "fifth-motion",
   "metadata": {
    "execution": {
     "iopub.execute_input": "2021-11-14T10:30:11.414138Z",
     "iopub.status.busy": "2021-11-14T10:30:11.410495Z",
     "iopub.status.idle": "2021-11-14T10:30:13.306097Z",
     "shell.execute_reply": "2021-11-14T10:30:13.307863Z"
    },
    "papermill": {
     "duration": 1.932918,
     "end_time": "2021-11-14T10:30:13.308441",
     "exception": false,
     "start_time": "2021-11-14T10:30:11.375523",
     "status": "completed"
    },
    "tags": []
   },
   "outputs": [
    {
     "data": {
      "text/plain": [
       "<AxesSubplot:ylabel='PRODUCT'>"
      ]
     },
     "execution_count": 7,
     "metadata": {},
     "output_type": "execute_result"
    },
    {
     "data": {
      "image/png": "[encoded data removed]",
      "text/plain": [
       "<Figure size 432x288 with 1 Axes>"
      ]
     },
     "metadata": {
      "needs_background": "light"
     },
     "output_type": "display_data"
    }
   ],
   "source": [
    "df_pivot_diff.sort_values(\"stamp_2\", ascending = False)[\"stamp_2\"].head(10).plot.barh()"
   ]
  },
  {
   "cell_type": "code",
   "execution_count": null,
   "id": "extra-executive",
   "metadata": {
    "papermill": {
     "duration": 0.023737,
     "end_time": "2021-11-14T10:30:13.355900",
     "exception": false,
     "start_time": "2021-11-14T10:30:13.332163",
     "status": "completed"
    },
    "tags": []
   },
   "outputs": [],
   "source": []
  }
 ],
 "metadata": {
  "kernelspec": {
   "display_name": "Python 3",
   "language": "python",
   "name": "python3"
  },
  "language_info": {
   "codemirror_mode": {
    "name": "ipython",
    "version": 3
   },
   "file_extension": ".py",
   "mimetype": "text/x-python",
   "name": "python",
   "nbconvert_exporter": "python",
   "pygments_lexer": "ipython3",
   "version": "3.9.5"
  },
  "papermill": {
   "default_parameters": {},
   "duration": 9.950127,
   "end_time": "2021-11-14T10:30:15.234671",
   "environment_variables": {},
   "exception": null,
   "input_path": "eBay_Overview.ipynb",
   "output_path": "eBay_Overview.ipynb",
   "parameters": {},
   "start_time": "2021-11-14T10:30:05.284544",
   "version": "2.3.3"
  }
 },
 "nbformat": 4,
 "nbformat_minor": 5
}