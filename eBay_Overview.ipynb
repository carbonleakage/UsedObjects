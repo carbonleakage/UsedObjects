{
 "cells": [
  {
   "cell_type": "code",
   "execution_count": 1,
   "id": "reverse-picking",
   "metadata": {
    "execution": {
     "iopub.execute_input": "2021-08-20T02:30:06.856189Z",
     "iopub.status.busy": "2021-08-20T02:30:06.854289Z",
     "iopub.status.idle": "2021-08-20T02:30:07.657841Z",
     "shell.execute_reply": "2021-08-20T02:30:07.659261Z"
    },
    "papermill": {
     "duration": 0.855339,
     "end_time": "2021-08-20T02:30:07.659921",
     "exception": false,
     "start_time": "2021-08-20T02:30:06.804582",
     "status": "completed"
    },
    "tags": []
   },
   "outputs": [],
   "source": [
    "import pandas as pd\n",
    "import sqlite3"
   ]
  },
  {
   "cell_type": "code",
   "execution_count": 2,
   "id": "innovative-syndrome",
   "metadata": {
    "execution": {
     "iopub.execute_input": "2021-08-20T02:30:07.710814Z",
     "iopub.status.busy": "2021-08-20T02:30:07.708781Z",
     "iopub.status.idle": "2021-08-20T02:30:07.794784Z",
     "shell.execute_reply": "2021-08-20T02:30:07.795908Z"
    },
    "papermill": {
     "duration": 0.11604,
     "end_time": "2021-08-20T02:30:07.796319",
     "exception": false,
     "start_time": "2021-08-20T02:30:07.680279",
     "status": "completed"
    },
    "tags": []
   },
   "outputs": [],
   "source": [
    "timestamps = pd.read_sql(\"select distinct record_time from EBAY_TOP_BERLIN order by record_time desc limit 2\", sqlite3.connect(\"UsedObjects.db\"))"
   ]
  },
  {
   "cell_type": "code",
   "execution_count": 3,
   "id": "periodic-identification",
   "metadata": {
    "execution": {
     "iopub.execute_input": "2021-08-20T02:30:07.865135Z",
     "iopub.status.busy": "2021-08-20T02:30:07.863145Z",
     "iopub.status.idle": "2021-08-20T02:30:07.883103Z",
     "shell.execute_reply": "2021-08-20T02:30:07.884480Z"
    },
    "papermill": {
     "duration": 0.065904,
     "end_time": "2021-08-20T02:30:07.884920",
     "exception": false,
     "start_time": "2021-08-20T02:30:07.819016",
     "status": "completed"
    },
    "tags": []
   },
   "outputs": [
    {
     "data": {
      "text/html": [
       "<div>\n",
       "<style scoped>\n",
       "    .dataframe tbody tr th:only-of-type {\n",
       "        vertical-align: middle;\n",
       "    }\n",
       "\n",
       "    .dataframe tbody tr th {\n",
       "        vertical-align: top;\n",
       "    }\n",
       "\n",
       "    .dataframe thead th {\n",
       "        text-align: right;\n",
       "    }\n",
       "</style>\n",
       "<table border=\"1\" class=\"dataframe\">\n",
       "  <thead>\n",
       "    <tr style=\"text-align: right;\">\n",
       "      <th></th>\n",
       "      <th>RECORD_TIME</th>\n",
       "    </tr>\n",
       "  </thead>\n",
       "  <tbody>\n",
       "    <tr>\n",
       "      <th>0</th>\n",
       "      <td>2021-08-20 04:30</td>\n",
       "    </tr>\n",
       "    <tr>\n",
       "      <th>1</th>\n",
       "      <td>2021-08-20 04:00</td>\n",
       "    </tr>\n",
       "  </tbody>\n",
       "</table>\n",
       "</div>"
      ],
      "text/plain": [
       "        RECORD_TIME\n",
       "0  2021-08-20 04:30\n",
       "1  2021-08-20 04:00"
      ]
     },
     "execution_count": 3,
     "metadata": {},
     "output_type": "execute_result"
    }
   ],
   "source": [
    "timestamps"
   ]
  },
  {
   "cell_type": "code",
   "execution_count": 4,
   "id": "alternate-victory",
   "metadata": {
    "execution": {
     "iopub.execute_input": "2021-08-20T02:30:07.936868Z",
     "iopub.status.busy": "2021-08-20T02:30:07.934858Z",
     "iopub.status.idle": "2021-08-20T02:30:08.062133Z",
     "shell.execute_reply": "2021-08-20T02:30:08.063525Z"
    },
    "papermill": {
     "duration": 0.158265,
     "end_time": "2021-08-20T02:30:08.063966",
     "exception": false,
     "start_time": "2021-08-20T02:30:07.905701",
     "status": "completed"
    },
    "tags": []
   },
   "outputs": [],
   "source": [
    "df = pd.read_sql(\"select * from EBAY_TOP_BERLIN where record_time in (select distinct record_time from EBAY_TOP_BERLIN order by record_time desc limit 2)\", sqlite3.connect(\"UsedObjects.db\"))"
   ]
  },
  {
   "cell_type": "code",
   "execution_count": 5,
   "id": "popular-active",
   "metadata": {
    "execution": {
     "iopub.execute_input": "2021-08-20T02:30:08.134344Z",
     "iopub.status.busy": "2021-08-20T02:30:08.123317Z",
     "iopub.status.idle": "2021-08-20T02:30:08.150492Z",
     "shell.execute_reply": "2021-08-20T02:30:08.151713Z"
    },
    "papermill": {
     "duration": 0.067199,
     "end_time": "2021-08-20T02:30:08.152110",
     "exception": false,
     "start_time": "2021-08-20T02:30:08.084911",
     "status": "completed"
    },
    "tags": []
   },
   "outputs": [],
   "source": [
    "df_pivot = df.pivot_table(index=\"PRODUCT\", columns = \"RECORD_TIME\", values = \"LISTING_COUNT\")"
   ]
  },
  {
   "cell_type": "code",
   "execution_count": 6,
   "id": "union-huntington",
   "metadata": {
    "execution": {
     "iopub.execute_input": "2021-08-20T02:30:08.212291Z",
     "iopub.status.busy": "2021-08-20T02:30:08.209840Z",
     "iopub.status.idle": "2021-08-20T02:30:08.215869Z",
     "shell.execute_reply": "2021-08-20T02:30:08.217141Z"
    },
    "papermill": {
     "duration": 0.042304,
     "end_time": "2021-08-20T02:30:08.217557",
     "exception": false,
     "start_time": "2021-08-20T02:30:08.175253",
     "status": "completed"
    },
    "tags": []
   },
   "outputs": [],
   "source": [
    "df_pivot.columns = [\"stamp_1\", \"stamp_2\"]\n",
    "df_pivot_diff = df_pivot.diff(axis=1)"
   ]
  },
  {
   "cell_type": "code",
   "execution_count": 7,
   "id": "fifth-motion",
   "metadata": {
    "execution": {
     "iopub.execute_input": "2021-08-20T02:30:08.272719Z",
     "iopub.status.busy": "2021-08-20T02:30:08.270361Z",
     "iopub.status.idle": "2021-08-20T02:30:09.772254Z",
     "shell.execute_reply": "2021-08-20T02:30:09.773538Z"
    },
    "papermill": {
     "duration": 1.535375,
     "end_time": "2021-08-20T02:30:09.774140",
     "exception": false,
     "start_time": "2021-08-20T02:30:08.238765",
     "status": "completed"
    },
    "tags": []
   },
   "outputs": [
    {
     "data": {
      "text/plain": [
       "<AxesSubplot:ylabel='PRODUCT'>"
      ]
     },
     "execution_count": 7,
     "metadata": {},
     "output_type": "execute_result"
    },
    {
     "data": {
      "image/png": "[encoded data removed]",
      "text/plain": [
       "<Figure size 432x288 with 1 Axes>"
      ]
     },
     "metadata": {
      "needs_background": "light"
     },
     "output_type": "display_data"
    }
   ],
   "source": [
    "df_pivot_diff.sort_values(\"stamp_2\", ascending = False)[\"stamp_2\"].head(10).plot.barh()"
   ]
  },
  {
   "cell_type": "code",
   "execution_count": null,
   "id": "extra-executive",
   "metadata": {
    "papermill": {
     "duration": 0.022452,
     "end_time": "2021-08-20T02:30:09.823445",
     "exception": false,
     "start_time": "2021-08-20T02:30:09.800993",
     "status": "completed"
    },
    "tags": []
   },
   "outputs": [],
   "source": []
  }
 ],
 "metadata": {
  "kernelspec": {
   "display_name": "Python 3",
   "language": "python",
   "name": "python3"
  },
  "language_info": {
   "codemirror_mode": {
    "name": "ipython",
    "version": 3
   },
   "file_extension": ".py",
   "mimetype": "text/x-python",
   "name": "python",
   "nbconvert_exporter": "python",
   "pygments_lexer": "ipython3",
   "version": "3.9.5"
  },
  "papermill": {
   "default_parameters": {},
   "duration": 6.836517,
   "end_time": "2021-08-20T02:30:11.232524",
   "environment_variables": {},
   "exception": null,
   "input_path": "eBay_Overview.ipynb",
   "output_path": "eBay_Overview.ipynb",
   "parameters": {},
   "start_time": "2021-08-20T02:30:04.396007",
   "version": "2.3.3"
  }
 },
 "nbformat": 4,
 "nbformat_minor": 5
}