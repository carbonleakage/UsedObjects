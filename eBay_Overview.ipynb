{
 "cells": [
  {
   "cell_type": "code",
   "execution_count": 1,
   "id": "reverse-picking",
   "metadata": {
    "execution": {
     "iopub.execute_input": "2021-10-23T04:00:06.962161Z",
     "iopub.status.busy": "2021-10-23T04:00:06.960161Z",
     "iopub.status.idle": "2021-10-23T04:00:07.770689Z",
     "shell.execute_reply": "2021-10-23T04:00:07.769027Z"
    },
    "papermill": {
     "duration": 0.860737,
     "end_time": "2021-10-23T04:00:07.771102",
     "exception": false,
     "start_time": "2021-10-23T04:00:06.910365",
     "status": "completed"
    },
    "tags": []
   },
   "outputs": [],
   "source": [
    "import pandas as pd\n",
    "import sqlite3"
   ]
  },
  {
   "cell_type": "code",
   "execution_count": 2,
   "id": "innovative-syndrome",
   "metadata": {
    "execution": {
     "iopub.execute_input": "2021-10-23T04:00:07.820963Z",
     "iopub.status.busy": "2021-10-23T04:00:07.818916Z",
     "iopub.status.idle": "2021-10-23T04:00:08.429466Z",
     "shell.execute_reply": "2021-10-23T04:00:08.430684Z"
    },
    "papermill": {
     "duration": 0.639958,
     "end_time": "2021-10-23T04:00:08.431086",
     "exception": false,
     "start_time": "2021-10-23T04:00:07.791128",
     "status": "completed"
    },
    "tags": []
   },
   "outputs": [],
   "source": [
    "timestamps = pd.read_sql(\"select distinct record_time from EBAY_TOP_BERLIN order by record_time desc limit 2\", sqlite3.connect(\"UsedObjects.db\"))"
   ]
  },
  {
   "cell_type": "code",
   "execution_count": 3,
   "id": "periodic-identification",
   "metadata": {
    "execution": {
     "iopub.execute_input": "2021-10-23T04:00:08.515280Z",
     "iopub.status.busy": "2021-10-23T04:00:08.513271Z",
     "iopub.status.idle": "2021-10-23T04:00:08.533667Z",
     "shell.execute_reply": "2021-10-23T04:00:08.534956Z"
    },
    "papermill": {
     "duration": 0.072545,
     "end_time": "2021-10-23T04:00:08.535372",
     "exception": false,
     "start_time": "2021-10-23T04:00:08.462827",
     "status": "completed"
    },
    "tags": []
   },
   "outputs": [
    {
     "data": {
      "text/html": [
       "<div>\n",
       "<style scoped>\n",
       "    .dataframe tbody tr th:only-of-type {\n",
       "        vertical-align: middle;\n",
       "    }\n",
       "\n",
       "    .dataframe tbody tr th {\n",
       "        vertical-align: top;\n",
       "    }\n",
       "\n",
       "    .dataframe thead th {\n",
       "        text-align: right;\n",
       "    }\n",
       "</style>\n",
       "<table border=\"1\" class=\"dataframe\">\n",
       "  <thead>\n",
       "    <tr style=\"text-align: right;\">\n",
       "      <th></th>\n",
       "      <th>RECORD_TIME</th>\n",
       "    </tr>\n",
       "  </thead>\n",
       "  <tbody>\n",
       "    <tr>\n",
       "      <th>0</th>\n",
       "      <td>2021-10-23 06:00</td>\n",
       "    </tr>\n",
       "    <tr>\n",
       "      <th>1</th>\n",
       "      <td>2021-10-23 05:30</td>\n",
       "    </tr>\n",
       "  </tbody>\n",
       "</table>\n",
       "</div>"
      ],
      "text/plain": [
       "        RECORD_TIME\n",
       "0  2021-10-23 06:00\n",
       "1  2021-10-23 05:30"
      ]
     },
     "execution_count": 3,
     "metadata": {},
     "output_type": "execute_result"
    }
   ],
   "source": [
    "timestamps"
   ]
  },
  {
   "cell_type": "code",
   "execution_count": 4,
   "id": "alternate-victory",
   "metadata": {
    "execution": {
     "iopub.execute_input": "2021-10-23T04:00:08.586970Z",
     "iopub.status.busy": "2021-10-23T04:00:08.584803Z",
     "iopub.status.idle": "2021-10-23T04:00:09.476377Z",
     "shell.execute_reply": "2021-10-23T04:00:09.477828Z"
    },
    "papermill": {
     "duration": 0.921894,
     "end_time": "2021-10-23T04:00:09.478267",
     "exception": false,
     "start_time": "2021-10-23T04:00:08.556373",
     "status": "completed"
    },
    "tags": []
   },
   "outputs": [],
   "source": [
    "df = pd.read_sql(\"select * from EBAY_TOP_BERLIN where record_time in (select distinct record_time from EBAY_TOP_BERLIN order by record_time desc limit 2)\", sqlite3.connect(\"UsedObjects.db\"))"
   ]
  },
  {
   "cell_type": "code",
   "execution_count": 5,
   "id": "popular-active",
   "metadata": {
    "execution": {
     "iopub.execute_input": "2021-10-23T04:00:09.548821Z",
     "iopub.status.busy": "2021-10-23T04:00:09.537275Z",
     "iopub.status.idle": "2021-10-23T04:00:09.566512Z",
     "shell.execute_reply": "2021-10-23T04:00:09.567885Z"
    },
    "papermill": {
     "duration": 0.068557,
     "end_time": "2021-10-23T04:00:09.568325",
     "exception": false,
     "start_time": "2021-10-23T04:00:09.499768",
     "status": "completed"
    },
    "tags": []
   },
   "outputs": [],
   "source": [
    "df_pivot = df.pivot_table(index=\"PRODUCT\", columns = \"RECORD_TIME\", values = \"LISTING_COUNT\")"
   ]
  },
  {
   "cell_type": "code",
   "execution_count": 6,
   "id": "union-huntington",
   "metadata": {
    "execution": {
     "iopub.execute_input": "2021-10-23T04:00:09.624971Z",
     "iopub.status.busy": "2021-10-23T04:00:09.622902Z",
     "iopub.status.idle": "2021-10-23T04:00:09.628196Z",
     "shell.execute_reply": "2021-10-23T04:00:09.629469Z"
    },
    "papermill": {
     "duration": 0.040551,
     "end_time": "2021-10-23T04:00:09.629915",
     "exception": false,
     "start_time": "2021-10-23T04:00:09.589364",
     "status": "completed"
    },
    "tags": []
   },
   "outputs": [],
   "source": [
    "df_pivot.columns = [\"stamp_1\", \"stamp_2\"]\n",
    "df_pivot_diff = df_pivot.diff(axis=1)"
   ]
  },
  {
   "cell_type": "code",
   "execution_count": 7,
   "id": "fifth-motion",
   "metadata": {
    "execution": {
     "iopub.execute_input": "2021-10-23T04:00:09.683680Z",
     "iopub.status.busy": "2021-10-23T04:00:09.681289Z",
     "iopub.status.idle": "2021-10-23T04:00:11.177468Z",
     "shell.execute_reply": "2021-10-23T04:00:11.178843Z"
    },
    "papermill": {
     "duration": 1.529046,
     "end_time": "2021-10-23T04:00:11.179290",
     "exception": false,
     "start_time": "2021-10-23T04:00:09.650244",
     "status": "completed"
    },
    "tags": []
   },
   "outputs": [
    {
     "data": {
      "text/plain": [
       "<AxesSubplot:ylabel='PRODUCT'>"
      ]
     },
     "execution_count": 7,
     "metadata": {},
     "output_type": "execute_result"
    },
    {
     "data": {
      "image/png": "[encoded data removed]",
      "text/plain": [
       "<Figure size 432x288 with 1 Axes>"
      ]
     },
     "metadata": {
      "needs_background": "light"
     },
     "output_type": "display_data"
    }
   ],
   "source": [
    "df_pivot_diff.sort_values(\"stamp_2\", ascending = False)[\"stamp_2\"].head(10).plot.barh()"
   ]
  },
  {
   "cell_type": "code",
   "execution_count": null,
   "id": "extra-executive",
   "metadata": {
    "papermill": {
     "duration": 0.022083,
     "end_time": "2021-10-23T04:00:11.225834",
     "exception": false,
     "start_time": "2021-10-23T04:00:11.203751",
     "status": "completed"
    },
    "tags": []
   },
   "outputs": [],
   "source": []
  }
 ],
 "metadata": {
  "kernelspec": {
   "display_name": "Python 3",
   "language": "python",
   "name": "python3"
  },
  "language_info": {
   "codemirror_mode": {
    "name": "ipython",
    "version": 3
   },
   "file_extension": ".py",
   "mimetype": "text/x-python",
   "name": "python",
   "nbconvert_exporter": "python",
   "pygments_lexer": "ipython3",
   "version": "3.9.5"
  },
  "papermill": {
   "default_parameters": {},
   "duration": 7.391981,
   "end_time": "2021-10-23T04:00:11.895573",
   "environment_variables": {},
   "exception": null,
   "input_path": "eBay_Overview.ipynb",
   "output_path": "eBay_Overview.ipynb",
   "parameters": {},
   "start_time": "2021-10-23T04:00:04.503592",
   "version": "2.3.3"
  }
 },
 "nbformat": 4,
 "nbformat_minor": 5
}