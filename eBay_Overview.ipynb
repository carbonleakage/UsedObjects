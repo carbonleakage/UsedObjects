{
 "cells": [
  {
   "cell_type": "code",
   "execution_count": 1,
   "id": "reverse-picking",
   "metadata": {
    "execution": {
     "iopub.execute_input": "2021-08-22T07:30:07.929588Z",
     "iopub.status.busy": "2021-08-22T07:30:07.927665Z",
     "iopub.status.idle": "2021-08-22T07:30:08.736140Z",
     "shell.execute_reply": "2021-08-22T07:30:08.734521Z"
    },
    "papermill": {
     "duration": 0.859781,
     "end_time": "2021-08-22T07:30:08.736540",
     "exception": false,
     "start_time": "2021-08-22T07:30:07.876759",
     "status": "completed"
    },
    "tags": []
   },
   "outputs": [],
   "source": [
    "import pandas as pd\n",
    "import sqlite3"
   ]
  },
  {
   "cell_type": "code",
   "execution_count": 2,
   "id": "innovative-syndrome",
   "metadata": {
    "execution": {
     "iopub.execute_input": "2021-08-22T07:30:08.786473Z",
     "iopub.status.busy": "2021-08-22T07:30:08.784505Z",
     "iopub.status.idle": "2021-08-22T07:30:08.886853Z",
     "shell.execute_reply": "2021-08-22T07:30:08.888055Z"
    },
    "papermill": {
     "duration": 0.131707,
     "end_time": "2021-08-22T07:30:08.888447",
     "exception": false,
     "start_time": "2021-08-22T07:30:08.756740",
     "status": "completed"
    },
    "tags": []
   },
   "outputs": [],
   "source": [
    "timestamps = pd.read_sql(\"select distinct record_time from EBAY_TOP_BERLIN order by record_time desc limit 2\", sqlite3.connect(\"UsedObjects.db\"))"
   ]
  },
  {
   "cell_type": "code",
   "execution_count": 3,
   "id": "periodic-identification",
   "metadata": {
    "execution": {
     "iopub.execute_input": "2021-08-22T07:30:08.953321Z",
     "iopub.status.busy": "2021-08-22T07:30:08.951310Z",
     "iopub.status.idle": "2021-08-22T07:30:08.971304Z",
     "shell.execute_reply": "2021-08-22T07:30:08.972517Z"
    },
    "papermill": {
     "duration": 0.063504,
     "end_time": "2021-08-22T07:30:08.972947",
     "exception": false,
     "start_time": "2021-08-22T07:30:08.909443",
     "status": "completed"
    },
    "tags": []
   },
   "outputs": [
    {
     "data": {
      "text/html": [
       "<div>\n",
       "<style scoped>\n",
       "    .dataframe tbody tr th:only-of-type {\n",
       "        vertical-align: middle;\n",
       "    }\n",
       "\n",
       "    .dataframe tbody tr th {\n",
       "        vertical-align: top;\n",
       "    }\n",
       "\n",
       "    .dataframe thead th {\n",
       "        text-align: right;\n",
       "    }\n",
       "</style>\n",
       "<table border=\"1\" class=\"dataframe\">\n",
       "  <thead>\n",
       "    <tr style=\"text-align: right;\">\n",
       "      <th></th>\n",
       "      <th>RECORD_TIME</th>\n",
       "    </tr>\n",
       "  </thead>\n",
       "  <tbody>\n",
       "    <tr>\n",
       "      <th>0</th>\n",
       "      <td>2021-08-22 09:30</td>\n",
       "    </tr>\n",
       "    <tr>\n",
       "      <th>1</th>\n",
       "      <td>2021-08-22 09:00</td>\n",
       "    </tr>\n",
       "  </tbody>\n",
       "</table>\n",
       "</div>"
      ],
      "text/plain": [
       "        RECORD_TIME\n",
       "0  2021-08-22 09:30\n",
       "1  2021-08-22 09:00"
      ]
     },
     "execution_count": 3,
     "metadata": {},
     "output_type": "execute_result"
    }
   ],
   "source": [
    "timestamps"
   ]
  },
  {
   "cell_type": "code",
   "execution_count": 4,
   "id": "alternate-victory",
   "metadata": {
    "execution": {
     "iopub.execute_input": "2021-08-22T07:30:09.027000Z",
     "iopub.status.busy": "2021-08-22T07:30:09.024626Z",
     "iopub.status.idle": "2021-08-22T07:30:09.183125Z",
     "shell.execute_reply": "2021-08-22T07:30:09.184346Z"
    },
    "papermill": {
     "duration": 0.188949,
     "end_time": "2021-08-22T07:30:09.184740",
     "exception": false,
     "start_time": "2021-08-22T07:30:08.995791",
     "status": "completed"
    },
    "tags": []
   },
   "outputs": [],
   "source": [
    "df = pd.read_sql(\"select * from EBAY_TOP_BERLIN where record_time in (select distinct record_time from EBAY_TOP_BERLIN order by record_time desc limit 2)\", sqlite3.connect(\"UsedObjects.db\"))"
   ]
  },
  {
   "cell_type": "code",
   "execution_count": 5,
   "id": "popular-active",
   "metadata": {
    "execution": {
     "iopub.execute_input": "2021-08-22T07:30:09.253337Z",
     "iopub.status.busy": "2021-08-22T07:30:09.242158Z",
     "iopub.status.idle": "2021-08-22T07:30:09.270585Z",
     "shell.execute_reply": "2021-08-22T07:30:09.271981Z"
    },
    "papermill": {
     "duration": 0.067168,
     "end_time": "2021-08-22T07:30:09.272419",
     "exception": false,
     "start_time": "2021-08-22T07:30:09.205251",
     "status": "completed"
    },
    "tags": []
   },
   "outputs": [],
   "source": [
    "df_pivot = df.pivot_table(index=\"PRODUCT\", columns = \"RECORD_TIME\", values = \"LISTING_COUNT\")"
   ]
  },
  {
   "cell_type": "code",
   "execution_count": 6,
   "id": "union-huntington",
   "metadata": {
    "execution": {
     "iopub.execute_input": "2021-08-22T07:30:09.329556Z",
     "iopub.status.busy": "2021-08-22T07:30:09.327419Z",
     "iopub.status.idle": "2021-08-22T07:30:09.333120Z",
     "shell.execute_reply": "2021-08-22T07:30:09.334554Z"
    },
    "papermill": {
     "duration": 0.04159,
     "end_time": "2021-08-22T07:30:09.335001",
     "exception": false,
     "start_time": "2021-08-22T07:30:09.293411",
     "status": "completed"
    },
    "tags": []
   },
   "outputs": [],
   "source": [
    "df_pivot.columns = [\"stamp_1\", \"stamp_2\"]\n",
    "df_pivot_diff = df_pivot.diff(axis=1)"
   ]
  },
  {
   "cell_type": "code",
   "execution_count": 7,
   "id": "fifth-motion",
   "metadata": {
    "execution": {
     "iopub.execute_input": "2021-08-22T07:30:09.396867Z",
     "iopub.status.busy": "2021-08-22T07:30:09.394375Z",
     "iopub.status.idle": "2021-08-22T07:30:10.880499Z",
     "shell.execute_reply": "2021-08-22T07:30:10.881793Z"
    },
    "papermill": {
     "duration": 1.523015,
     "end_time": "2021-08-22T07:30:10.882431",
     "exception": false,
     "start_time": "2021-08-22T07:30:09.359416",
     "status": "completed"
    },
    "tags": []
   },
   "outputs": [
    {
     "data": {
      "text/plain": [
       "<AxesSubplot:ylabel='PRODUCT'>"
      ]
     },
     "execution_count": 7,
     "metadata": {},
     "output_type": "execute_result"
    },
    {
     "data": {
      "image/png": "[encoded data removed]",
      "text/plain": [
       "<Figure size 432x288 with 1 Axes>"
      ]
     },
     "metadata": {
      "needs_background": "light"
     },
     "output_type": "display_data"
    }
   ],
   "source": [
    "df_pivot_diff.sort_values(\"stamp_2\", ascending = False)[\"stamp_2\"].head(10).plot.barh()"
   ]
  },
  {
   "cell_type": "code",
   "execution_count": null,
   "id": "extra-executive",
   "metadata": {
    "papermill": {
     "duration": 0.022422,
     "end_time": "2021-08-22T07:30:10.930956",
     "exception": false,
     "start_time": "2021-08-22T07:30:10.908534",
     "status": "completed"
    },
    "tags": []
   },
   "outputs": [],
   "source": []
  }
 ],
 "metadata": {
  "kernelspec": {
   "display_name": "Python 3",
   "language": "python",
   "name": "python3"
  },
  "language_info": {
   "codemirror_mode": {
    "name": "ipython",
    "version": 3
   },
   "file_extension": ".py",
   "mimetype": "text/x-python",
   "name": "python",
   "nbconvert_exporter": "python",
   "pygments_lexer": "ipython3",
   "version": "3.9.5"
  },
  "papermill": {
   "default_parameters": {},
   "duration": 6.824919,
   "end_time": "2021-08-22T07:30:12.296734",
   "environment_variables": {},
   "exception": null,
   "input_path": "eBay_Overview.ipynb",
   "output_path": "eBay_Overview.ipynb",
   "parameters": {},
   "start_time": "2021-08-22T07:30:05.471815",
   "version": "2.3.3"
  }
 },
 "nbformat": 4,
 "nbformat_minor": 5
}