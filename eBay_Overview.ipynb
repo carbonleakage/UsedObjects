{
 "cells": [
  {
   "cell_type": "code",
   "execution_count": 1,
   "id": "reverse-picking",
   "metadata": {
    "execution": {
     "iopub.execute_input": "2021-11-16T03:30:07.431891Z",
     "iopub.status.busy": "2021-11-16T03:30:07.429502Z",
     "iopub.status.idle": "2021-11-16T03:30:08.387806Z",
     "shell.execute_reply": "2021-11-16T03:30:08.389461Z"
    },
    "papermill": {
     "duration": 1.008311,
     "end_time": "2021-11-16T03:30:08.390204",
     "exception": false,
     "start_time": "2021-11-16T03:30:07.381893",
     "status": "completed"
    },
    "tags": []
   },
   "outputs": [],
   "source": [
    "import pandas as pd\n",
    "import sqlite3"
   ]
  },
  {
   "cell_type": "code",
   "execution_count": 2,
   "id": "innovative-syndrome",
   "metadata": {
    "execution": {
     "iopub.execute_input": "2021-11-16T03:30:08.464836Z",
     "iopub.status.busy": "2021-11-16T03:30:08.461040Z",
     "iopub.status.idle": "2021-11-16T03:30:09.281819Z",
     "shell.execute_reply": "2021-11-16T03:30:09.283209Z"
    },
    "papermill": {
     "duration": 0.865999,
     "end_time": "2021-11-16T03:30:09.283670",
     "exception": false,
     "start_time": "2021-11-16T03:30:08.417671",
     "status": "completed"
    },
    "tags": []
   },
   "outputs": [],
   "source": [
    "timestamps = pd.read_sql(\"select distinct record_time from EBAY_TOP_BERLIN order by record_time desc limit 2\", sqlite3.connect(\"UsedObjects.db\"))"
   ]
  },
  {
   "cell_type": "code",
   "execution_count": 3,
   "id": "periodic-identification",
   "metadata": {
    "execution": {
     "iopub.execute_input": "2021-11-16T03:30:09.342349Z",
     "iopub.status.busy": "2021-11-16T03:30:09.339702Z",
     "iopub.status.idle": "2021-11-16T03:30:09.377523Z",
     "shell.execute_reply": "2021-11-16T03:30:09.378930Z"
    },
    "papermill": {
     "duration": 0.075922,
     "end_time": "2021-11-16T03:30:09.379372",
     "exception": false,
     "start_time": "2021-11-16T03:30:09.303450",
     "status": "completed"
    },
    "tags": []
   },
   "outputs": [
    {
     "data": {
      "text/html": [
       "<div>\n",
       "<style scoped>\n",
       "    .dataframe tbody tr th:only-of-type {\n",
       "        vertical-align: middle;\n",
       "    }\n",
       "\n",
       "    .dataframe tbody tr th {\n",
       "        vertical-align: top;\n",
       "    }\n",
       "\n",
       "    .dataframe thead th {\n",
       "        text-align: right;\n",
       "    }\n",
       "</style>\n",
       "<table border=\"1\" class=\"dataframe\">\n",
       "  <thead>\n",
       "    <tr style=\"text-align: right;\">\n",
       "      <th></th>\n",
       "      <th>RECORD_TIME</th>\n",
       "    </tr>\n",
       "  </thead>\n",
       "  <tbody>\n",
       "    <tr>\n",
       "      <th>0</th>\n",
       "      <td>2021-11-16 04:30</td>\n",
       "    </tr>\n",
       "    <tr>\n",
       "      <th>1</th>\n",
       "      <td>2021-11-16 04:00</td>\n",
       "    </tr>\n",
       "  </tbody>\n",
       "</table>\n",
       "</div>"
      ],
      "text/plain": [
       "        RECORD_TIME\n",
       "0  2021-11-16 04:30\n",
       "1  2021-11-16 04:00"
      ]
     },
     "execution_count": 3,
     "metadata": {},
     "output_type": "execute_result"
    }
   ],
   "source": [
    "timestamps"
   ]
  },
  {
   "cell_type": "code",
   "execution_count": 4,
   "id": "alternate-victory",
   "metadata": {
    "execution": {
     "iopub.execute_input": "2021-11-16T03:30:09.430811Z",
     "iopub.status.busy": "2021-11-16T03:30:09.428550Z",
     "iopub.status.idle": "2021-11-16T03:30:10.634719Z",
     "shell.execute_reply": "2021-11-16T03:30:10.636319Z"
    },
    "papermill": {
     "duration": 1.236865,
     "end_time": "2021-11-16T03:30:10.636854",
     "exception": false,
     "start_time": "2021-11-16T03:30:09.399989",
     "status": "completed"
    },
    "tags": []
   },
   "outputs": [],
   "source": [
    "df = pd.read_sql(\"select * from EBAY_TOP_BERLIN where record_time in (select distinct record_time from EBAY_TOP_BERLIN order by record_time desc limit 2)\", sqlite3.connect(\"UsedObjects.db\"))"
   ]
  },
  {
   "cell_type": "code",
   "execution_count": 5,
   "id": "popular-active",
   "metadata": {
    "execution": {
     "iopub.execute_input": "2021-11-16T03:30:10.710507Z",
     "iopub.status.busy": "2021-11-16T03:30:10.701630Z",
     "iopub.status.idle": "2021-11-16T03:30:10.736904Z",
     "shell.execute_reply": "2021-11-16T03:30:10.735130Z"
    },
    "papermill": {
     "duration": 0.078368,
     "end_time": "2021-11-16T03:30:10.737341",
     "exception": false,
     "start_time": "2021-11-16T03:30:10.658973",
     "status": "completed"
    },
    "tags": []
   },
   "outputs": [],
   "source": [
    "df_pivot = df.pivot_table(index=\"PRODUCT\", columns = \"RECORD_TIME\", values = \"LISTING_COUNT\")"
   ]
  },
  {
   "cell_type": "code",
   "execution_count": 6,
   "id": "union-huntington",
   "metadata": {
    "execution": {
     "iopub.execute_input": "2021-11-16T03:30:10.797380Z",
     "iopub.status.busy": "2021-11-16T03:30:10.795063Z",
     "iopub.status.idle": "2021-11-16T03:30:10.801041Z",
     "shell.execute_reply": "2021-11-16T03:30:10.802427Z"
    },
    "papermill": {
     "duration": 0.044595,
     "end_time": "2021-11-16T03:30:10.802903",
     "exception": false,
     "start_time": "2021-11-16T03:30:10.758308",
     "status": "completed"
    },
    "tags": []
   },
   "outputs": [],
   "source": [
    "df_pivot.columns = [\"stamp_1\", \"stamp_2\"]\n",
    "df_pivot_diff = df_pivot.diff(axis=1)"
   ]
  },
  {
   "cell_type": "code",
   "execution_count": 7,
   "id": "fifth-motion",
   "metadata": {
    "execution": {
     "iopub.execute_input": "2021-11-16T03:30:10.859291Z",
     "iopub.status.busy": "2021-11-16T03:30:10.856830Z",
     "iopub.status.idle": "2021-11-16T03:30:12.859090Z",
     "shell.execute_reply": "2021-11-16T03:30:12.861702Z"
    },
    "papermill": {
     "duration": 2.039452,
     "end_time": "2021-11-16T03:30:12.862486",
     "exception": false,
     "start_time": "2021-11-16T03:30:10.823034",
     "status": "completed"
    },
    "tags": []
   },
   "outputs": [
    {
     "data": {
      "text/plain": [
       "<AxesSubplot:ylabel='PRODUCT'>"
      ]
     },
     "execution_count": 7,
     "metadata": {},
     "output_type": "execute_result"
    },
    {
     "data": {
      "image/png": "[encoded data removed]",
      "text/plain": [
       "<Figure size 432x288 with 1 Axes>"
      ]
     },
     "metadata": {
      "needs_background": "light"
     },
     "output_type": "display_data"
    }
   ],
   "source": [
    "df_pivot_diff.sort_values(\"stamp_2\", ascending = False)[\"stamp_2\"].head(10).plot.barh()"
   ]
  },
  {
   "cell_type": "code",
   "execution_count": null,
   "id": "extra-executive",
   "metadata": {
    "papermill": {
     "duration": 0.032242,
     "end_time": "2021-11-16T03:30:12.931864",
     "exception": false,
     "start_time": "2021-11-16T03:30:12.899622",
     "status": "completed"
    },
    "tags": []
   },
   "outputs": [],
   "source": []
  }
 ],
 "metadata": {
  "kernelspec": {
   "display_name": "Python 3",
   "language": "python",
   "name": "python3"
  },
  "language_info": {
   "codemirror_mode": {
    "name": "ipython",
    "version": 3
   },
   "file_extension": ".py",
   "mimetype": "text/x-python",
   "name": "python",
   "nbconvert_exporter": "python",
   "pygments_lexer": "ipython3",
   "version": "3.9.5"
  },
  "papermill": {
   "default_parameters": {},
   "duration": 9.9385,
   "end_time": "2021-11-16T03:30:14.569252",
   "environment_variables": {},
   "exception": null,
   "input_path": "eBay_Overview.ipynb",
   "output_path": "eBay_Overview.ipynb",
   "parameters": {},
   "start_time": "2021-11-16T03:30:04.630752",
   "version": "2.3.3"
  }
 },
 "nbformat": 4,
 "nbformat_minor": 5
}