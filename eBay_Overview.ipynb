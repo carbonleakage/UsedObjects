{
 "cells": [
  {
   "cell_type": "code",
   "execution_count": 1,
   "id": "reverse-picking",
   "metadata": {
    "execution": {
     "iopub.execute_input": "2021-11-22T20:00:07.622532Z",
     "iopub.status.busy": "2021-11-22T20:00:07.619974Z",
     "iopub.status.idle": "2021-11-22T20:00:08.571097Z",
     "shell.execute_reply": "2021-11-22T20:00:08.572513Z"
    },
    "papermill": {
     "duration": 1.000958,
     "end_time": "2021-11-22T20:00:08.573289",
     "exception": false,
     "start_time": "2021-11-22T20:00:07.572331",
     "status": "completed"
    },
    "tags": []
   },
   "outputs": [],
   "source": [
    "import pandas as pd\n",
    "import sqlite3"
   ]
  },
  {
   "cell_type": "code",
   "execution_count": 2,
   "id": "innovative-syndrome",
   "metadata": {
    "execution": {
     "iopub.execute_input": "2021-11-22T20:00:08.697388Z",
     "iopub.status.busy": "2021-11-22T20:00:08.694919Z",
     "iopub.status.idle": "2021-11-22T20:00:09.582284Z",
     "shell.execute_reply": "2021-11-22T20:00:09.584068Z"
    },
    "papermill": {
     "duration": 0.922295,
     "end_time": "2021-11-22T20:00:09.584598",
     "exception": false,
     "start_time": "2021-11-22T20:00:08.662303",
     "status": "completed"
    },
    "tags": []
   },
   "outputs": [],
   "source": [
    "timestamps = pd.read_sql(\"select distinct record_time from EBAY_TOP_BERLIN order by record_time desc limit 2\", sqlite3.connect(\"UsedObjects.db\"))"
   ]
  },
  {
   "cell_type": "code",
   "execution_count": 3,
   "id": "periodic-identification",
   "metadata": {
    "execution": {
     "iopub.execute_input": "2021-11-22T20:00:09.661284Z",
     "iopub.status.busy": "2021-11-22T20:00:09.655380Z",
     "iopub.status.idle": "2021-11-22T20:00:09.678093Z",
     "shell.execute_reply": "2021-11-22T20:00:09.679617Z"
    },
    "papermill": {
     "duration": 0.073431,
     "end_time": "2021-11-22T20:00:09.680185",
     "exception": false,
     "start_time": "2021-11-22T20:00:09.606754",
     "status": "completed"
    },
    "tags": []
   },
   "outputs": [
    {
     "data": {
      "text/html": [
       "<div>\n",
       "<style scoped>\n",
       "    .dataframe tbody tr th:only-of-type {\n",
       "        vertical-align: middle;\n",
       "    }\n",
       "\n",
       "    .dataframe tbody tr th {\n",
       "        vertical-align: top;\n",
       "    }\n",
       "\n",
       "    .dataframe thead th {\n",
       "        text-align: right;\n",
       "    }\n",
       "</style>\n",
       "<table border=\"1\" class=\"dataframe\">\n",
       "  <thead>\n",
       "    <tr style=\"text-align: right;\">\n",
       "      <th></th>\n",
       "      <th>RECORD_TIME</th>\n",
       "    </tr>\n",
       "  </thead>\n",
       "  <tbody>\n",
       "    <tr>\n",
       "      <th>0</th>\n",
       "      <td>2021-11-22 21:00</td>\n",
       "    </tr>\n",
       "    <tr>\n",
       "      <th>1</th>\n",
       "      <td>2021-11-22 20:30</td>\n",
       "    </tr>\n",
       "  </tbody>\n",
       "</table>\n",
       "</div>"
      ],
      "text/plain": [
       "        RECORD_TIME\n",
       "0  2021-11-22 21:00\n",
       "1  2021-11-22 20:30"
      ]
     },
     "execution_count": 3,
     "metadata": {},
     "output_type": "execute_result"
    }
   ],
   "source": [
    "timestamps"
   ]
  },
  {
   "cell_type": "code",
   "execution_count": 4,
   "id": "alternate-victory",
   "metadata": {
    "execution": {
     "iopub.execute_input": "2021-11-22T20:00:09.735902Z",
     "iopub.status.busy": "2021-11-22T20:00:09.733471Z",
     "iopub.status.idle": "2021-11-22T20:00:11.020415Z",
     "shell.execute_reply": "2021-11-22T20:00:11.021775Z"
    },
    "papermill": {
     "duration": 1.320916,
     "end_time": "2021-11-22T20:00:11.022230",
     "exception": false,
     "start_time": "2021-11-22T20:00:09.701314",
     "status": "completed"
    },
    "tags": []
   },
   "outputs": [],
   "source": [
    "df = pd.read_sql(\"select * from EBAY_TOP_BERLIN where record_time in (select distinct record_time from EBAY_TOP_BERLIN order by record_time desc limit 2)\", sqlite3.connect(\"UsedObjects.db\"))"
   ]
  },
  {
   "cell_type": "code",
   "execution_count": 5,
   "id": "popular-active",
   "metadata": {
    "execution": {
     "iopub.execute_input": "2021-11-22T20:00:11.101184Z",
     "iopub.status.busy": "2021-11-22T20:00:11.084988Z",
     "iopub.status.idle": "2021-11-22T20:00:11.119760Z",
     "shell.execute_reply": "2021-11-22T20:00:11.121353Z"
    },
    "papermill": {
     "duration": 0.078677,
     "end_time": "2021-11-22T20:00:11.121873",
     "exception": false,
     "start_time": "2021-11-22T20:00:11.043196",
     "status": "completed"
    },
    "tags": []
   },
   "outputs": [],
   "source": [
    "df_pivot = df.pivot_table(index=\"PRODUCT\", columns = \"RECORD_TIME\", values = \"LISTING_COUNT\")"
   ]
  },
  {
   "cell_type": "code",
   "execution_count": 6,
   "id": "union-huntington",
   "metadata": {
    "execution": {
     "iopub.execute_input": "2021-11-22T20:00:11.184387Z",
     "iopub.status.busy": "2021-11-22T20:00:11.182071Z",
     "iopub.status.idle": "2021-11-22T20:00:11.187862Z",
     "shell.execute_reply": "2021-11-22T20:00:11.189579Z"
    },
    "papermill": {
     "duration": 0.046216,
     "end_time": "2021-11-22T20:00:11.190079",
     "exception": false,
     "start_time": "2021-11-22T20:00:11.143863",
     "status": "completed"
    },
    "tags": []
   },
   "outputs": [],
   "source": [
    "df_pivot.columns = [\"stamp_1\", \"stamp_2\"]\n",
    "df_pivot_diff = df_pivot.diff(axis=1)"
   ]
  },
  {
   "cell_type": "code",
   "execution_count": 7,
   "id": "fifth-motion",
   "metadata": {
    "execution": {
     "iopub.execute_input": "2021-11-22T20:00:11.248443Z",
     "iopub.status.busy": "2021-11-22T20:00:11.246016Z",
     "iopub.status.idle": "2021-11-22T20:00:13.233606Z",
     "shell.execute_reply": "2021-11-22T20:00:13.236316Z"
    },
    "papermill": {
     "duration": 2.024857,
     "end_time": "2021-11-22T20:00:13.237159",
     "exception": false,
     "start_time": "2021-11-22T20:00:11.212302",
     "status": "completed"
    },
    "tags": []
   },
   "outputs": [
    {
     "data": {
      "text/plain": [
       "<AxesSubplot:ylabel='PRODUCT'>"
      ]
     },
     "execution_count": 7,
     "metadata": {},
     "output_type": "execute_result"
    },
    {
     "data": {
      "image/png": "[encoded data removed]",
      "text/plain": [
       "<Figure size 432x288 with 1 Axes>"
      ]
     },
     "metadata": {
      "needs_background": "light"
     },
     "output_type": "display_data"
    }
   ],
   "source": [
    "df_pivot_diff.sort_values(\"stamp_2\", ascending = False)[\"stamp_2\"].head(10).plot.barh()"
   ]
  },
  {
   "cell_type": "code",
   "execution_count": null,
   "id": "extra-executive",
   "metadata": {
    "papermill": {
     "duration": 0.03714,
     "end_time": "2021-11-22T20:00:13.309586",
     "exception": false,
     "start_time": "2021-11-22T20:00:13.272446",
     "status": "completed"
    },
    "tags": []
   },
   "outputs": [],
   "source": []
  }
 ],
 "metadata": {
  "kernelspec": {
   "display_name": "Python 3",
   "language": "python",
   "name": "python3"
  },
  "language_info": {
   "codemirror_mode": {
    "name": "ipython",
    "version": 3
   },
   "file_extension": ".py",
   "mimetype": "text/x-python",
   "name": "python",
   "nbconvert_exporter": "python",
   "pygments_lexer": "ipython3",
   "version": "3.9.5"
  },
  "papermill": {
   "default_parameters": {},
   "duration": 9.936381,
   "end_time": "2021-11-22T20:00:14.789978",
   "environment_variables": {},
   "exception": null,
   "input_path": "eBay_Overview.ipynb",
   "output_path": "eBay_Overview.ipynb",
   "parameters": {},
   "start_time": "2021-11-22T20:00:04.853597",
   "version": "2.3.3"
  }
 },
 "nbformat": 4,
 "nbformat_minor": 5
}