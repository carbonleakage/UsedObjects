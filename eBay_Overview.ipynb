{
 "cells": [
  {
   "cell_type": "code",
   "execution_count": 1,
   "id": "reverse-picking",
   "metadata": {
    "execution": {
     "iopub.execute_input": "2021-11-21T19:00:08.208646Z",
     "iopub.status.busy": "2021-11-21T19:00:08.206384Z",
     "iopub.status.idle": "2021-11-21T19:00:09.136794Z",
     "shell.execute_reply": "2021-11-21T19:00:09.138383Z"
    },
    "papermill": {
     "duration": 0.981362,
     "end_time": "2021-11-21T19:00:09.139117",
     "exception": false,
     "start_time": "2021-11-21T19:00:08.157755",
     "status": "completed"
    },
    "tags": []
   },
   "outputs": [],
   "source": [
    "import pandas as pd\n",
    "import sqlite3"
   ]
  },
  {
   "cell_type": "code",
   "execution_count": 2,
   "id": "innovative-syndrome",
   "metadata": {
    "execution": {
     "iopub.execute_input": "2021-11-21T19:00:09.204479Z",
     "iopub.status.busy": "2021-11-21T19:00:09.202256Z",
     "iopub.status.idle": "2021-11-21T19:00:10.088343Z",
     "shell.execute_reply": "2021-11-21T19:00:10.089992Z"
    },
    "papermill": {
     "duration": 0.920779,
     "end_time": "2021-11-21T19:00:10.090491",
     "exception": false,
     "start_time": "2021-11-21T19:00:09.169712",
     "status": "completed"
    },
    "tags": []
   },
   "outputs": [],
   "source": [
    "timestamps = pd.read_sql(\"select distinct record_time from EBAY_TOP_BERLIN order by record_time desc limit 2\", sqlite3.connect(\"UsedObjects.db\"))"
   ]
  },
  {
   "cell_type": "code",
   "execution_count": 3,
   "id": "periodic-identification",
   "metadata": {
    "execution": {
     "iopub.execute_input": "2021-11-21T19:00:10.165037Z",
     "iopub.status.busy": "2021-11-21T19:00:10.162585Z",
     "iopub.status.idle": "2021-11-21T19:00:10.185682Z",
     "shell.execute_reply": "2021-11-21T19:00:10.187292Z"
    },
    "papermill": {
     "duration": 0.076267,
     "end_time": "2021-11-21T19:00:10.187807",
     "exception": false,
     "start_time": "2021-11-21T19:00:10.111540",
     "status": "completed"
    },
    "tags": []
   },
   "outputs": [
    {
     "data": {
      "text/html": [
       "<div>\n",
       "<style scoped>\n",
       "    .dataframe tbody tr th:only-of-type {\n",
       "        vertical-align: middle;\n",
       "    }\n",
       "\n",
       "    .dataframe tbody tr th {\n",
       "        vertical-align: top;\n",
       "    }\n",
       "\n",
       "    .dataframe thead th {\n",
       "        text-align: right;\n",
       "    }\n",
       "</style>\n",
       "<table border=\"1\" class=\"dataframe\">\n",
       "  <thead>\n",
       "    <tr style=\"text-align: right;\">\n",
       "      <th></th>\n",
       "      <th>RECORD_TIME</th>\n",
       "    </tr>\n",
       "  </thead>\n",
       "  <tbody>\n",
       "    <tr>\n",
       "      <th>0</th>\n",
       "      <td>2021-11-21 20:00</td>\n",
       "    </tr>\n",
       "    <tr>\n",
       "      <th>1</th>\n",
       "      <td>2021-11-21 19:30</td>\n",
       "    </tr>\n",
       "  </tbody>\n",
       "</table>\n",
       "</div>"
      ],
      "text/plain": [
       "        RECORD_TIME\n",
       "0  2021-11-21 20:00\n",
       "1  2021-11-21 19:30"
      ]
     },
     "execution_count": 3,
     "metadata": {},
     "output_type": "execute_result"
    }
   ],
   "source": [
    "timestamps"
   ]
  },
  {
   "cell_type": "code",
   "execution_count": 4,
   "id": "alternate-victory",
   "metadata": {
    "execution": {
     "iopub.execute_input": "2021-11-21T19:00:10.245448Z",
     "iopub.status.busy": "2021-11-21T19:00:10.243058Z",
     "iopub.status.idle": "2021-11-21T19:00:11.532447Z",
     "shell.execute_reply": "2021-11-21T19:00:11.533955Z"
    },
    "papermill": {
     "duration": 1.324788,
     "end_time": "2021-11-21T19:00:11.534428",
     "exception": false,
     "start_time": "2021-11-21T19:00:10.209640",
     "status": "completed"
    },
    "tags": []
   },
   "outputs": [],
   "source": [
    "df = pd.read_sql(\"select * from EBAY_TOP_BERLIN where record_time in (select distinct record_time from EBAY_TOP_BERLIN order by record_time desc limit 2)\", sqlite3.connect(\"UsedObjects.db\"))"
   ]
  },
  {
   "cell_type": "code",
   "execution_count": 5,
   "id": "popular-active",
   "metadata": {
    "execution": {
     "iopub.execute_input": "2021-11-21T19:00:11.613805Z",
     "iopub.status.busy": "2021-11-21T19:00:11.610895Z",
     "iopub.status.idle": "2021-11-21T19:00:11.632178Z",
     "shell.execute_reply": "2021-11-21T19:00:11.633756Z"
    },
    "papermill": {
     "duration": 0.07783,
     "end_time": "2021-11-21T19:00:11.634263",
     "exception": false,
     "start_time": "2021-11-21T19:00:11.556433",
     "status": "completed"
    },
    "tags": []
   },
   "outputs": [],
   "source": [
    "df_pivot = df.pivot_table(index=\"PRODUCT\", columns = \"RECORD_TIME\", values = \"LISTING_COUNT\")"
   ]
  },
  {
   "cell_type": "code",
   "execution_count": 6,
   "id": "union-huntington",
   "metadata": {
    "execution": {
     "iopub.execute_input": "2021-11-21T19:00:11.693497Z",
     "iopub.status.busy": "2021-11-21T19:00:11.691231Z",
     "iopub.status.idle": "2021-11-21T19:00:11.697202Z",
     "shell.execute_reply": "2021-11-21T19:00:11.698702Z"
    },
    "papermill": {
     "duration": 0.044359,
     "end_time": "2021-11-21T19:00:11.699209",
     "exception": false,
     "start_time": "2021-11-21T19:00:11.654850",
     "status": "completed"
    },
    "tags": []
   },
   "outputs": [],
   "source": [
    "df_pivot.columns = [\"stamp_1\", \"stamp_2\"]\n",
    "df_pivot_diff = df_pivot.diff(axis=1)"
   ]
  },
  {
   "cell_type": "code",
   "execution_count": 7,
   "id": "fifth-motion",
   "metadata": {
    "execution": {
     "iopub.execute_input": "2021-11-21T19:00:11.760436Z",
     "iopub.status.busy": "2021-11-21T19:00:11.757850Z",
     "iopub.status.idle": "2021-11-21T19:00:13.657391Z",
     "shell.execute_reply": "2021-11-21T19:00:13.659202Z"
    },
    "papermill": {
     "duration": 1.938235,
     "end_time": "2021-11-21T19:00:13.659774",
     "exception": false,
     "start_time": "2021-11-21T19:00:11.721539",
     "status": "completed"
    },
    "tags": []
   },
   "outputs": [
    {
     "data": {
      "text/plain": [
       "<AxesSubplot:ylabel='PRODUCT'>"
      ]
     },
     "execution_count": 7,
     "metadata": {},
     "output_type": "execute_result"
    },
    {
     "data": {
      "image/png": "[encoded data removed]",
      "text/plain": [
       "<Figure size 432x288 with 1 Axes>"
      ]
     },
     "metadata": {
      "needs_background": "light"
     },
     "output_type": "display_data"
    }
   ],
   "source": [
    "df_pivot_diff.sort_values(\"stamp_2\", ascending = False)[\"stamp_2\"].head(10).plot.barh()"
   ]
  },
  {
   "cell_type": "code",
   "execution_count": null,
   "id": "extra-executive",
   "metadata": {
    "papermill": {
     "duration": 0.023559,
     "end_time": "2021-11-21T19:00:13.709638",
     "exception": false,
     "start_time": "2021-11-21T19:00:13.686079",
     "status": "completed"
    },
    "tags": []
   },
   "outputs": [],
   "source": []
  }
 ],
 "metadata": {
  "kernelspec": {
   "display_name": "Python 3",
   "language": "python",
   "name": "python3"
  },
  "language_info": {
   "codemirror_mode": {
    "name": "ipython",
    "version": 3
   },
   "file_extension": ".py",
   "mimetype": "text/x-python",
   "name": "python",
   "nbconvert_exporter": "python",
   "pygments_lexer": "ipython3",
   "version": "3.9.5"
  },
  "papermill": {
   "default_parameters": {},
   "duration": 9.924057,
   "end_time": "2021-11-21T19:00:15.358727",
   "environment_variables": {},
   "exception": null,
   "input_path": "eBay_Overview.ipynb",
   "output_path": "eBay_Overview.ipynb",
   "parameters": {},
   "start_time": "2021-11-21T19:00:05.434670",
   "version": "2.3.3"
  }
 },
 "nbformat": 4,
 "nbformat_minor": 5
}