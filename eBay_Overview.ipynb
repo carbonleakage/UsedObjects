{
 "cells": [
  {
   "cell_type": "code",
   "execution_count": 1,
   "id": "reverse-picking",
   "metadata": {
    "execution": {
     "iopub.execute_input": "2021-10-10T08:30:07.541205Z",
     "iopub.status.busy": "2021-10-10T08:30:07.539294Z",
     "iopub.status.idle": "2021-10-10T08:30:08.346441Z",
     "shell.execute_reply": "2021-10-10T08:30:08.347790Z"
    },
    "papermill": {
     "duration": 0.860736,
     "end_time": "2021-10-10T08:30:08.348407",
     "exception": false,
     "start_time": "2021-10-10T08:30:07.487671",
     "status": "completed"
    },
    "tags": []
   },
   "outputs": [],
   "source": [
    "import pandas as pd\n",
    "import sqlite3"
   ]
  },
  {
   "cell_type": "code",
   "execution_count": 2,
   "id": "innovative-syndrome",
   "metadata": {
    "execution": {
     "iopub.execute_input": "2021-10-10T08:30:08.400334Z",
     "iopub.status.busy": "2021-10-10T08:30:08.398337Z",
     "iopub.status.idle": "2021-10-10T08:30:08.895955Z",
     "shell.execute_reply": "2021-10-10T08:30:08.897225Z"
    },
    "papermill": {
     "duration": 0.527071,
     "end_time": "2021-10-10T08:30:08.897619",
     "exception": false,
     "start_time": "2021-10-10T08:30:08.370548",
     "status": "completed"
    },
    "tags": []
   },
   "outputs": [],
   "source": [
    "timestamps = pd.read_sql(\"select distinct record_time from EBAY_TOP_BERLIN order by record_time desc limit 2\", sqlite3.connect(\"UsedObjects.db\"))"
   ]
  },
  {
   "cell_type": "code",
   "execution_count": 3,
   "id": "periodic-identification",
   "metadata": {
    "execution": {
     "iopub.execute_input": "2021-10-10T08:30:08.962402Z",
     "iopub.status.busy": "2021-10-10T08:30:08.960397Z",
     "iopub.status.idle": "2021-10-10T08:30:08.982091Z",
     "shell.execute_reply": "2021-10-10T08:30:08.983384Z"
    },
    "papermill": {
     "duration": 0.06622,
     "end_time": "2021-10-10T08:30:08.983787",
     "exception": false,
     "start_time": "2021-10-10T08:30:08.917567",
     "status": "completed"
    },
    "tags": []
   },
   "outputs": [
    {
     "data": {
      "text/html": [
       "<div>\n",
       "<style scoped>\n",
       "    .dataframe tbody tr th:only-of-type {\n",
       "        vertical-align: middle;\n",
       "    }\n",
       "\n",
       "    .dataframe tbody tr th {\n",
       "        vertical-align: top;\n",
       "    }\n",
       "\n",
       "    .dataframe thead th {\n",
       "        text-align: right;\n",
       "    }\n",
       "</style>\n",
       "<table border=\"1\" class=\"dataframe\">\n",
       "  <thead>\n",
       "    <tr style=\"text-align: right;\">\n",
       "      <th></th>\n",
       "      <th>RECORD_TIME</th>\n",
       "    </tr>\n",
       "  </thead>\n",
       "  <tbody>\n",
       "    <tr>\n",
       "      <th>0</th>\n",
       "      <td>2021-10-10 10:30</td>\n",
       "    </tr>\n",
       "    <tr>\n",
       "      <th>1</th>\n",
       "      <td>2021-10-10 10:00</td>\n",
       "    </tr>\n",
       "  </tbody>\n",
       "</table>\n",
       "</div>"
      ],
      "text/plain": [
       "        RECORD_TIME\n",
       "0  2021-10-10 10:30\n",
       "1  2021-10-10 10:00"
      ]
     },
     "execution_count": 3,
     "metadata": {},
     "output_type": "execute_result"
    }
   ],
   "source": [
    "timestamps"
   ]
  },
  {
   "cell_type": "code",
   "execution_count": 4,
   "id": "alternate-victory",
   "metadata": {
    "execution": {
     "iopub.execute_input": "2021-10-10T08:30:09.044359Z",
     "iopub.status.busy": "2021-10-10T08:30:09.042432Z",
     "iopub.status.idle": "2021-10-10T08:30:09.769435Z",
     "shell.execute_reply": "2021-10-10T08:30:09.770632Z"
    },
    "papermill": {
     "duration": 0.76024,
     "end_time": "2021-10-10T08:30:09.771071",
     "exception": false,
     "start_time": "2021-10-10T08:30:09.010831",
     "status": "completed"
    },
    "tags": []
   },
   "outputs": [],
   "source": [
    "df = pd.read_sql(\"select * from EBAY_TOP_BERLIN where record_time in (select distinct record_time from EBAY_TOP_BERLIN order by record_time desc limit 2)\", sqlite3.connect(\"UsedObjects.db\"))"
   ]
  },
  {
   "cell_type": "code",
   "execution_count": 5,
   "id": "popular-active",
   "metadata": {
    "execution": {
     "iopub.execute_input": "2021-10-10T08:30:09.843158Z",
     "iopub.status.busy": "2021-10-10T08:30:09.831904Z",
     "iopub.status.idle": "2021-10-10T08:30:09.858592Z",
     "shell.execute_reply": "2021-10-10T08:30:09.859890Z"
    },
    "papermill": {
     "duration": 0.067355,
     "end_time": "2021-10-10T08:30:09.860282",
     "exception": false,
     "start_time": "2021-10-10T08:30:09.792927",
     "status": "completed"
    },
    "tags": []
   },
   "outputs": [],
   "source": [
    "df_pivot = df.pivot_table(index=\"PRODUCT\", columns = \"RECORD_TIME\", values = \"LISTING_COUNT\")"
   ]
  },
  {
   "cell_type": "code",
   "execution_count": 6,
   "id": "union-huntington",
   "metadata": {
    "execution": {
     "iopub.execute_input": "2021-10-10T08:30:09.916907Z",
     "iopub.status.busy": "2021-10-10T08:30:09.914853Z",
     "iopub.status.idle": "2021-10-10T08:30:09.920181Z",
     "shell.execute_reply": "2021-10-10T08:30:09.921355Z"
    },
    "papermill": {
     "duration": 0.041957,
     "end_time": "2021-10-10T08:30:09.921778",
     "exception": false,
     "start_time": "2021-10-10T08:30:09.879821",
     "status": "completed"
    },
    "tags": []
   },
   "outputs": [],
   "source": [
    "df_pivot.columns = [\"stamp_1\", \"stamp_2\"]\n",
    "df_pivot_diff = df_pivot.diff(axis=1)"
   ]
  },
  {
   "cell_type": "code",
   "execution_count": 7,
   "id": "fifth-motion",
   "metadata": {
    "execution": {
     "iopub.execute_input": "2021-10-10T08:30:09.975368Z",
     "iopub.status.busy": "2021-10-10T08:30:09.972799Z",
     "iopub.status.idle": "2021-10-10T08:30:11.455374Z",
     "shell.execute_reply": "2021-10-10T08:30:11.456836Z"
    },
    "papermill": {
     "duration": 1.515541,
     "end_time": "2021-10-10T08:30:11.457348",
     "exception": false,
     "start_time": "2021-10-10T08:30:09.941807",
     "status": "completed"
    },
    "tags": []
   },
   "outputs": [
    {
     "data": {
      "text/plain": [
       "<AxesSubplot:ylabel='PRODUCT'>"
      ]
     },
     "execution_count": 7,
     "metadata": {},
     "output_type": "execute_result"
    },
    {
     "data": {
      "image/png": "[encoded data removed]",
      "text/plain": [
       "<Figure size 432x288 with 1 Axes>"
      ]
     },
     "metadata": {
      "needs_background": "light"
     },
     "output_type": "display_data"
    }
   ],
   "source": [
    "df_pivot_diff.sort_values(\"stamp_2\", ascending = False)[\"stamp_2\"].head(10).plot.barh()"
   ]
  },
  {
   "cell_type": "code",
   "execution_count": null,
   "id": "extra-executive",
   "metadata": {
    "papermill": {
     "duration": 0.022065,
     "end_time": "2021-10-10T08:30:11.504656",
     "exception": false,
     "start_time": "2021-10-10T08:30:11.482591",
     "status": "completed"
    },
    "tags": []
   },
   "outputs": [],
   "source": []
  }
 ],
 "metadata": {
  "kernelspec": {
   "display_name": "Python 3",
   "language": "python",
   "name": "python3"
  },
  "language_info": {
   "codemirror_mode": {
    "name": "ipython",
    "version": 3
   },
   "file_extension": ".py",
   "mimetype": "text/x-python",
   "name": "python",
   "nbconvert_exporter": "python",
   "pygments_lexer": "ipython3",
   "version": "3.9.5"
  },
  "papermill": {
   "default_parameters": {},
   "duration": 7.82729,
   "end_time": "2021-10-10T08:30:12.902312",
   "environment_variables": {},
   "exception": null,
   "input_path": "eBay_Overview.ipynb",
   "output_path": "eBay_Overview.ipynb",
   "parameters": {},
   "start_time": "2021-10-10T08:30:05.075022",
   "version": "2.3.3"
  }
 },
 "nbformat": 4,
 "nbformat_minor": 5
}