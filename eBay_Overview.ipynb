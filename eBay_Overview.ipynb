{
 "cells": [
  {
   "cell_type": "code",
   "execution_count": 1,
   "id": "reverse-picking",
   "metadata": {
    "execution": {
     "iopub.execute_input": "2021-12-11T19:00:07.511293Z",
     "iopub.status.busy": "2021-12-11T19:00:07.509104Z",
     "iopub.status.idle": "2021-12-11T19:00:08.479325Z",
     "shell.execute_reply": "2021-12-11T19:00:08.476836Z"
    },
    "papermill": {
     "duration": 1.015377,
     "end_time": "2021-12-11T19:00:08.479933",
     "exception": false,
     "start_time": "2021-12-11T19:00:07.464556",
     "status": "completed"
    },
    "tags": []
   },
   "outputs": [],
   "source": [
    "import pandas as pd\n",
    "import sqlite3"
   ]
  },
  {
   "cell_type": "code",
   "execution_count": 2,
   "id": "innovative-syndrome",
   "metadata": {
    "execution": {
     "iopub.execute_input": "2021-12-11T19:00:08.543794Z",
     "iopub.status.busy": "2021-12-11T19:00:08.541594Z",
     "iopub.status.idle": "2021-12-11T19:00:09.604175Z",
     "shell.execute_reply": "2021-12-11T19:00:09.605848Z"
    },
    "papermill": {
     "duration": 1.098503,
     "end_time": "2021-12-11T19:00:09.606369",
     "exception": false,
     "start_time": "2021-12-11T19:00:08.507866",
     "status": "completed"
    },
    "tags": []
   },
   "outputs": [],
   "source": [
    "timestamps = pd.read_sql(\"select distinct record_time from EBAY_TOP_BERLIN order by record_time desc limit 2\", sqlite3.connect(\"UsedObjects.db\"))"
   ]
  },
  {
   "cell_type": "code",
   "execution_count": 3,
   "id": "periodic-identification",
   "metadata": {
    "execution": {
     "iopub.execute_input": "2021-12-11T19:00:09.678221Z",
     "iopub.status.busy": "2021-12-11T19:00:09.675735Z",
     "iopub.status.idle": "2021-12-11T19:00:09.701880Z",
     "shell.execute_reply": "2021-12-11T19:00:09.699771Z"
    },
    "papermill": {
     "duration": 0.076122,
     "end_time": "2021-12-11T19:00:09.703233",
     "exception": false,
     "start_time": "2021-12-11T19:00:09.627111",
     "status": "completed"
    },
    "tags": []
   },
   "outputs": [
    {
     "data": {
      "text/html": [
       "<div>\n",
       "<style scoped>\n",
       "    .dataframe tbody tr th:only-of-type {\n",
       "        vertical-align: middle;\n",
       "    }\n",
       "\n",
       "    .dataframe tbody tr th {\n",
       "        vertical-align: top;\n",
       "    }\n",
       "\n",
       "    .dataframe thead th {\n",
       "        text-align: right;\n",
       "    }\n",
       "</style>\n",
       "<table border=\"1\" class=\"dataframe\">\n",
       "  <thead>\n",
       "    <tr style=\"text-align: right;\">\n",
       "      <th></th>\n",
       "      <th>RECORD_TIME</th>\n",
       "    </tr>\n",
       "  </thead>\n",
       "  <tbody>\n",
       "    <tr>\n",
       "      <th>0</th>\n",
       "      <td>2021-12-11 20:00</td>\n",
       "    </tr>\n",
       "    <tr>\n",
       "      <th>1</th>\n",
       "      <td>2021-12-11 19:30</td>\n",
       "    </tr>\n",
       "  </tbody>\n",
       "</table>\n",
       "</div>"
      ],
      "text/plain": [
       "        RECORD_TIME\n",
       "0  2021-12-11 20:00\n",
       "1  2021-12-11 19:30"
      ]
     },
     "execution_count": 3,
     "metadata": {},
     "output_type": "execute_result"
    }
   ],
   "source": [
    "timestamps"
   ]
  },
  {
   "cell_type": "code",
   "execution_count": 4,
   "id": "alternate-victory",
   "metadata": {
    "execution": {
     "iopub.execute_input": "2021-12-11T19:00:09.760163Z",
     "iopub.status.busy": "2021-12-11T19:00:09.758029Z",
     "iopub.status.idle": "2021-12-11T19:00:11.283715Z",
     "shell.execute_reply": "2021-12-11T19:00:11.285209Z"
    },
    "papermill": {
     "duration": 1.559134,
     "end_time": "2021-12-11T19:00:11.285689",
     "exception": false,
     "start_time": "2021-12-11T19:00:09.726555",
     "status": "completed"
    },
    "tags": []
   },
   "outputs": [],
   "source": [
    "df = pd.read_sql(\"select * from EBAY_TOP_BERLIN where record_time in (select distinct record_time from EBAY_TOP_BERLIN order by record_time desc limit 2)\", sqlite3.connect(\"UsedObjects.db\"))"
   ]
  },
  {
   "cell_type": "code",
   "execution_count": 5,
   "id": "popular-active",
   "metadata": {
    "execution": {
     "iopub.execute_input": "2021-12-11T19:00:11.360529Z",
     "iopub.status.busy": "2021-12-11T19:00:11.347644Z",
     "iopub.status.idle": "2021-12-11T19:00:11.378277Z",
     "shell.execute_reply": "2021-12-11T19:00:11.379534Z"
    },
    "papermill": {
     "duration": 0.073726,
     "end_time": "2021-12-11T19:00:11.379988",
     "exception": false,
     "start_time": "2021-12-11T19:00:11.306262",
     "status": "completed"
    },
    "tags": []
   },
   "outputs": [],
   "source": [
    "df_pivot = df.pivot_table(index=\"PRODUCT\", columns = \"RECORD_TIME\", values = \"LISTING_COUNT\")"
   ]
  },
  {
   "cell_type": "code",
   "execution_count": 6,
   "id": "union-huntington",
   "metadata": {
    "execution": {
     "iopub.execute_input": "2021-12-11T19:00:11.445717Z",
     "iopub.status.busy": "2021-12-11T19:00:11.443227Z",
     "iopub.status.idle": "2021-12-11T19:00:11.450063Z",
     "shell.execute_reply": "2021-12-11T19:00:11.451706Z"
    },
    "papermill": {
     "duration": 0.049879,
     "end_time": "2021-12-11T19:00:11.452170",
     "exception": false,
     "start_time": "2021-12-11T19:00:11.402291",
     "status": "completed"
    },
    "tags": []
   },
   "outputs": [],
   "source": [
    "df_pivot.columns = [\"stamp_1\", \"stamp_2\"]\n",
    "df_pivot_diff = df_pivot.diff(axis=1)"
   ]
  },
  {
   "cell_type": "code",
   "execution_count": 7,
   "id": "fifth-motion",
   "metadata": {
    "execution": {
     "iopub.execute_input": "2021-12-11T19:00:11.529712Z",
     "iopub.status.busy": "2021-12-11T19:00:11.527220Z",
     "iopub.status.idle": "2021-12-11T19:00:13.543380Z",
     "shell.execute_reply": "2021-12-11T19:00:13.546420Z"
    },
    "papermill": {
     "duration": 2.067415,
     "end_time": "2021-12-11T19:00:13.547370",
     "exception": false,
     "start_time": "2021-12-11T19:00:11.479955",
     "status": "completed"
    },
    "tags": []
   },
   "outputs": [
    {
     "data": {
      "text/plain": [
       "<AxesSubplot:ylabel='PRODUCT'>"
      ]
     },
     "execution_count": 7,
     "metadata": {},
     "output_type": "execute_result"
    },
    {
     "data": {
      "image/png": "[encoded data removed]",
      "text/plain": [
       "<Figure size 432x288 with 1 Axes>"
      ]
     },
     "metadata": {
      "needs_background": "light"
     },
     "output_type": "display_data"
    }
   ],
   "source": [
    "df_pivot_diff.sort_values(\"stamp_2\", ascending = False)[\"stamp_2\"].head(10).plot.barh()"
   ]
  },
  {
   "cell_type": "code",
   "execution_count": null,
   "id": "extra-executive",
   "metadata": {
    "papermill": {
     "duration": 0.036154,
     "end_time": "2021-12-11T19:00:13.625081",
     "exception": false,
     "start_time": "2021-12-11T19:00:13.588927",
     "status": "completed"
    },
    "tags": []
   },
   "outputs": [],
   "source": []
  }
 ],
 "metadata": {
  "kernelspec": {
   "display_name": "Python 3",
   "language": "python",
   "name": "python3"
  },
  "language_info": {
   "codemirror_mode": {
    "name": "ipython",
    "version": 3
   },
   "file_extension": ".py",
   "mimetype": "text/x-python",
   "name": "python",
   "nbconvert_exporter": "python",
   "pygments_lexer": "ipython3",
   "version": "3.9.5"
  },
  "papermill": {
   "default_parameters": {},
   "duration": 9.691061,
   "end_time": "2021-12-11T19:00:14.380854",
   "environment_variables": {},
   "exception": null,
   "input_path": "eBay_Overview.ipynb",
   "output_path": "eBay_Overview.ipynb",
   "parameters": {},
   "start_time": "2021-12-11T19:00:04.689793",
   "version": "2.3.3"
  }
 },
 "nbformat": 4,
 "nbformat_minor": 5
}