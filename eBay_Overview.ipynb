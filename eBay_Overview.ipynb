{
 "cells": [
  {
   "cell_type": "code",
   "execution_count": 1,
   "id": "reverse-picking",
   "metadata": {
    "execution": {
     "iopub.execute_input": "2021-08-29T01:30:06.708448Z",
     "iopub.status.busy": "2021-08-29T01:30:06.706413Z",
     "iopub.status.idle": "2021-08-29T01:30:07.511054Z",
     "shell.execute_reply": "2021-08-29T01:30:07.509507Z"
    },
    "papermill": {
     "duration": 0.853388,
     "end_time": "2021-08-29T01:30:07.511441",
     "exception": false,
     "start_time": "2021-08-29T01:30:06.658053",
     "status": "completed"
    },
    "tags": []
   },
   "outputs": [],
   "source": [
    "import pandas as pd\n",
    "import sqlite3"
   ]
  },
  {
   "cell_type": "code",
   "execution_count": 2,
   "id": "innovative-syndrome",
   "metadata": {
    "execution": {
     "iopub.execute_input": "2021-08-29T01:30:07.561421Z",
     "iopub.status.busy": "2021-08-29T01:30:07.559461Z",
     "iopub.status.idle": "2021-08-29T01:30:07.714513Z",
     "shell.execute_reply": "2021-08-29T01:30:07.715701Z"
    },
    "papermill": {
     "duration": 0.184114,
     "end_time": "2021-08-29T01:30:07.716096",
     "exception": false,
     "start_time": "2021-08-29T01:30:07.531982",
     "status": "completed"
    },
    "tags": []
   },
   "outputs": [],
   "source": [
    "timestamps = pd.read_sql(\"select distinct record_time from EBAY_TOP_BERLIN order by record_time desc limit 2\", sqlite3.connect(\"UsedObjects.db\"))"
   ]
  },
  {
   "cell_type": "code",
   "execution_count": 3,
   "id": "periodic-identification",
   "metadata": {
    "execution": {
     "iopub.execute_input": "2021-08-29T01:30:07.783224Z",
     "iopub.status.busy": "2021-08-29T01:30:07.781229Z",
     "iopub.status.idle": "2021-08-29T01:30:07.800848Z",
     "shell.execute_reply": "2021-08-29T01:30:07.802408Z"
    },
    "papermill": {
     "duration": 0.065222,
     "end_time": "2021-08-29T01:30:07.802870",
     "exception": false,
     "start_time": "2021-08-29T01:30:07.737648",
     "status": "completed"
    },
    "tags": []
   },
   "outputs": [
    {
     "data": {
      "text/html": [
       "<div>\n",
       "<style scoped>\n",
       "    .dataframe tbody tr th:only-of-type {\n",
       "        vertical-align: middle;\n",
       "    }\n",
       "\n",
       "    .dataframe tbody tr th {\n",
       "        vertical-align: top;\n",
       "    }\n",
       "\n",
       "    .dataframe thead th {\n",
       "        text-align: right;\n",
       "    }\n",
       "</style>\n",
       "<table border=\"1\" class=\"dataframe\">\n",
       "  <thead>\n",
       "    <tr style=\"text-align: right;\">\n",
       "      <th></th>\n",
       "      <th>RECORD_TIME</th>\n",
       "    </tr>\n",
       "  </thead>\n",
       "  <tbody>\n",
       "    <tr>\n",
       "      <th>0</th>\n",
       "      <td>2021-08-29 03:30</td>\n",
       "    </tr>\n",
       "    <tr>\n",
       "      <th>1</th>\n",
       "      <td>2021-08-29 03:00</td>\n",
       "    </tr>\n",
       "  </tbody>\n",
       "</table>\n",
       "</div>"
      ],
      "text/plain": [
       "        RECORD_TIME\n",
       "0  2021-08-29 03:30\n",
       "1  2021-08-29 03:00"
      ]
     },
     "execution_count": 3,
     "metadata": {},
     "output_type": "execute_result"
    }
   ],
   "source": [
    "timestamps"
   ]
  },
  {
   "cell_type": "code",
   "execution_count": 4,
   "id": "alternate-victory",
   "metadata": {
    "execution": {
     "iopub.execute_input": "2021-08-29T01:30:07.854841Z",
     "iopub.status.busy": "2021-08-29T01:30:07.852822Z",
     "iopub.status.idle": "2021-08-29T01:30:08.087879Z",
     "shell.execute_reply": "2021-08-29T01:30:08.089224Z"
    },
    "papermill": {
     "duration": 0.265552,
     "end_time": "2021-08-29T01:30:08.089649",
     "exception": false,
     "start_time": "2021-08-29T01:30:07.824097",
     "status": "completed"
    },
    "tags": []
   },
   "outputs": [],
   "source": [
    "df = pd.read_sql(\"select * from EBAY_TOP_BERLIN where record_time in (select distinct record_time from EBAY_TOP_BERLIN order by record_time desc limit 2)\", sqlite3.connect(\"UsedObjects.db\"))"
   ]
  },
  {
   "cell_type": "code",
   "execution_count": 5,
   "id": "popular-active",
   "metadata": {
    "execution": {
     "iopub.execute_input": "2021-08-29T01:30:08.161799Z",
     "iopub.status.busy": "2021-08-29T01:30:08.149758Z",
     "iopub.status.idle": "2021-08-29T01:30:08.178361Z",
     "shell.execute_reply": "2021-08-29T01:30:08.179812Z"
    },
    "papermill": {
     "duration": 0.068576,
     "end_time": "2021-08-29T01:30:08.180455",
     "exception": false,
     "start_time": "2021-08-29T01:30:08.111879",
     "status": "completed"
    },
    "tags": []
   },
   "outputs": [],
   "source": [
    "df_pivot = df.pivot_table(index=\"PRODUCT\", columns = \"RECORD_TIME\", values = \"LISTING_COUNT\")"
   ]
  },
  {
   "cell_type": "code",
   "execution_count": 6,
   "id": "union-huntington",
   "metadata": {
    "execution": {
     "iopub.execute_input": "2021-08-29T01:30:08.248729Z",
     "iopub.status.busy": "2021-08-29T01:30:08.246442Z",
     "iopub.status.idle": "2021-08-29T01:30:08.252374Z",
     "shell.execute_reply": "2021-08-29T01:30:08.253679Z"
    },
    "papermill": {
     "duration": 0.045641,
     "end_time": "2021-08-29T01:30:08.254085",
     "exception": false,
     "start_time": "2021-08-29T01:30:08.208444",
     "status": "completed"
    },
    "tags": []
   },
   "outputs": [],
   "source": [
    "df_pivot.columns = [\"stamp_1\", \"stamp_2\"]\n",
    "df_pivot_diff = df_pivot.diff(axis=1)"
   ]
  },
  {
   "cell_type": "code",
   "execution_count": 7,
   "id": "fifth-motion",
   "metadata": {
    "execution": {
     "iopub.execute_input": "2021-08-29T01:30:08.307219Z",
     "iopub.status.busy": "2021-08-29T01:30:08.304949Z",
     "iopub.status.idle": "2021-08-29T01:30:09.784854Z",
     "shell.execute_reply": "2021-08-29T01:30:09.786134Z"
    },
    "papermill": {
     "duration": 1.512797,
     "end_time": "2021-08-29T01:30:09.786586",
     "exception": false,
     "start_time": "2021-08-29T01:30:08.273789",
     "status": "completed"
    },
    "tags": []
   },
   "outputs": [
    {
     "data": {
      "text/plain": [
       "<AxesSubplot:ylabel='PRODUCT'>"
      ]
     },
     "execution_count": 7,
     "metadata": {},
     "output_type": "execute_result"
    },
    {
     "data": {
      "image/png": "[encoded data removed]",
      "text/plain": [
       "<Figure size 432x288 with 1 Axes>"
      ]
     },
     "metadata": {
      "needs_background": "light"
     },
     "output_type": "display_data"
    }
   ],
   "source": [
    "df_pivot_diff.sort_values(\"stamp_2\", ascending = False)[\"stamp_2\"].head(10).plot.barh()"
   ]
  },
  {
   "cell_type": "code",
   "execution_count": null,
   "id": "extra-executive",
   "metadata": {
    "papermill": {
     "duration": 0.022285,
     "end_time": "2021-08-29T01:30:09.833250",
     "exception": false,
     "start_time": "2021-08-29T01:30:09.810965",
     "status": "completed"
    },
    "tags": []
   },
   "outputs": [],
   "source": []
  }
 ],
 "metadata": {
  "kernelspec": {
   "display_name": "Python 3",
   "language": "python",
   "name": "python3"
  },
  "language_info": {
   "codemirror_mode": {
    "name": "ipython",
    "version": 3
   },
   "file_extension": ".py",
   "mimetype": "text/x-python",
   "name": "python",
   "nbconvert_exporter": "python",
   "pygments_lexer": "ipython3",
   "version": "3.9.5"
  },
  "papermill": {
   "default_parameters": {},
   "duration": 6.819383,
   "end_time": "2021-08-29T01:30:11.076100",
   "environment_variables": {},
   "exception": null,
   "input_path": "eBay_Overview.ipynb",
   "output_path": "eBay_Overview.ipynb",
   "parameters": {},
   "start_time": "2021-08-29T01:30:04.256717",
   "version": "2.3.3"
  }
 },
 "nbformat": 4,
 "nbformat_minor": 5
}