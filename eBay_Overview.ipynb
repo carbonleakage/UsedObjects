{
 "cells": [
  {
   "cell_type": "code",
   "execution_count": 1,
   "id": "reverse-picking",
   "metadata": {
    "execution": {
     "iopub.execute_input": "2021-10-20T15:00:06.685854Z",
     "iopub.status.busy": "2021-10-20T15:00:06.683816Z",
     "iopub.status.idle": "2021-10-20T15:00:07.494846Z",
     "shell.execute_reply": "2021-10-20T15:00:07.496085Z"
    },
    "papermill": {
     "duration": 0.860536,
     "end_time": "2021-10-20T15:00:07.496794",
     "exception": false,
     "start_time": "2021-10-20T15:00:06.636258",
     "status": "completed"
    },
    "tags": []
   },
   "outputs": [],
   "source": [
    "import pandas as pd\n",
    "import sqlite3"
   ]
  },
  {
   "cell_type": "code",
   "execution_count": 2,
   "id": "innovative-syndrome",
   "metadata": {
    "execution": {
     "iopub.execute_input": "2021-10-20T15:00:07.548648Z",
     "iopub.status.busy": "2021-10-20T15:00:07.546793Z",
     "iopub.status.idle": "2021-10-20T15:00:08.126958Z",
     "shell.execute_reply": "2021-10-20T15:00:08.128220Z"
    },
    "papermill": {
     "duration": 0.609831,
     "end_time": "2021-10-20T15:00:08.128637",
     "exception": false,
     "start_time": "2021-10-20T15:00:07.518806",
     "status": "completed"
    },
    "tags": []
   },
   "outputs": [],
   "source": [
    "timestamps = pd.read_sql(\"select distinct record_time from EBAY_TOP_BERLIN order by record_time desc limit 2\", sqlite3.connect(\"UsedObjects.db\"))"
   ]
  },
  {
   "cell_type": "code",
   "execution_count": 3,
   "id": "periodic-identification",
   "metadata": {
    "execution": {
     "iopub.execute_input": "2021-10-20T15:00:08.202072Z",
     "iopub.status.busy": "2021-10-20T15:00:08.199986Z",
     "iopub.status.idle": "2021-10-20T15:00:08.222629Z",
     "shell.execute_reply": "2021-10-20T15:00:08.223909Z"
    },
    "papermill": {
     "duration": 0.070746,
     "end_time": "2021-10-20T15:00:08.224333",
     "exception": false,
     "start_time": "2021-10-20T15:00:08.153587",
     "status": "completed"
    },
    "tags": []
   },
   "outputs": [
    {
     "data": {
      "text/html": [
       "<div>\n",
       "<style scoped>\n",
       "    .dataframe tbody tr th:only-of-type {\n",
       "        vertical-align: middle;\n",
       "    }\n",
       "\n",
       "    .dataframe tbody tr th {\n",
       "        vertical-align: top;\n",
       "    }\n",
       "\n",
       "    .dataframe thead th {\n",
       "        text-align: right;\n",
       "    }\n",
       "</style>\n",
       "<table border=\"1\" class=\"dataframe\">\n",
       "  <thead>\n",
       "    <tr style=\"text-align: right;\">\n",
       "      <th></th>\n",
       "      <th>RECORD_TIME</th>\n",
       "    </tr>\n",
       "  </thead>\n",
       "  <tbody>\n",
       "    <tr>\n",
       "      <th>0</th>\n",
       "      <td>2021-10-20 17:00</td>\n",
       "    </tr>\n",
       "    <tr>\n",
       "      <th>1</th>\n",
       "      <td>2021-10-20 16:30</td>\n",
       "    </tr>\n",
       "  </tbody>\n",
       "</table>\n",
       "</div>"
      ],
      "text/plain": [
       "        RECORD_TIME\n",
       "0  2021-10-20 17:00\n",
       "1  2021-10-20 16:30"
      ]
     },
     "execution_count": 3,
     "metadata": {},
     "output_type": "execute_result"
    }
   ],
   "source": [
    "timestamps"
   ]
  },
  {
   "cell_type": "code",
   "execution_count": 4,
   "id": "alternate-victory",
   "metadata": {
    "execution": {
     "iopub.execute_input": "2021-10-20T15:00:08.276303Z",
     "iopub.status.busy": "2021-10-20T15:00:08.274019Z",
     "iopub.status.idle": "2021-10-20T15:00:09.146580Z",
     "shell.execute_reply": "2021-10-20T15:00:09.147790Z"
    },
    "papermill": {
     "duration": 0.902815,
     "end_time": "2021-10-20T15:00:09.148190",
     "exception": false,
     "start_time": "2021-10-20T15:00:08.245375",
     "status": "completed"
    },
    "tags": []
   },
   "outputs": [],
   "source": [
    "df = pd.read_sql(\"select * from EBAY_TOP_BERLIN where record_time in (select distinct record_time from EBAY_TOP_BERLIN order by record_time desc limit 2)\", sqlite3.connect(\"UsedObjects.db\"))"
   ]
  },
  {
   "cell_type": "code",
   "execution_count": 5,
   "id": "popular-active",
   "metadata": {
    "execution": {
     "iopub.execute_input": "2021-10-20T15:00:09.219652Z",
     "iopub.status.busy": "2021-10-20T15:00:09.206803Z",
     "iopub.status.idle": "2021-10-20T15:00:09.235443Z",
     "shell.execute_reply": "2021-10-20T15:00:09.236779Z"
    },
    "papermill": {
     "duration": 0.068577,
     "end_time": "2021-10-20T15:00:09.237205",
     "exception": false,
     "start_time": "2021-10-20T15:00:09.168628",
     "status": "completed"
    },
    "tags": []
   },
   "outputs": [],
   "source": [
    "df_pivot = df.pivot_table(index=\"PRODUCT\", columns = \"RECORD_TIME\", values = \"LISTING_COUNT\")"
   ]
  },
  {
   "cell_type": "code",
   "execution_count": 6,
   "id": "union-huntington",
   "metadata": {
    "execution": {
     "iopub.execute_input": "2021-10-20T15:00:09.296343Z",
     "iopub.status.busy": "2021-10-20T15:00:09.294078Z",
     "iopub.status.idle": "2021-10-20T15:00:09.300047Z",
     "shell.execute_reply": "2021-10-20T15:00:09.301587Z"
    },
    "papermill": {
     "duration": 0.042181,
     "end_time": "2021-10-20T15:00:09.302065",
     "exception": false,
     "start_time": "2021-10-20T15:00:09.259884",
     "status": "completed"
    },
    "tags": []
   },
   "outputs": [],
   "source": [
    "df_pivot.columns = [\"stamp_1\", \"stamp_2\"]\n",
    "df_pivot_diff = df_pivot.diff(axis=1)"
   ]
  },
  {
   "cell_type": "code",
   "execution_count": 7,
   "id": "fifth-motion",
   "metadata": {
    "execution": {
     "iopub.execute_input": "2021-10-20T15:00:09.357386Z",
     "iopub.status.busy": "2021-10-20T15:00:09.354940Z",
     "iopub.status.idle": "2021-10-20T15:00:10.853801Z",
     "shell.execute_reply": "2021-10-20T15:00:10.855079Z"
    },
    "papermill": {
     "duration": 1.531502,
     "end_time": "2021-10-20T15:00:10.855502",
     "exception": false,
     "start_time": "2021-10-20T15:00:09.324000",
     "status": "completed"
    },
    "tags": []
   },
   "outputs": [
    {
     "data": {
      "text/plain": [
       "<AxesSubplot:ylabel='PRODUCT'>"
      ]
     },
     "execution_count": 7,
     "metadata": {},
     "output_type": "execute_result"
    },
    {
     "data": {
      "image/png": "[encoded data removed]",
      "text/plain": [
       "<Figure size 432x288 with 1 Axes>"
      ]
     },
     "metadata": {
      "needs_background": "light"
     },
     "output_type": "display_data"
    }
   ],
   "source": [
    "df_pivot_diff.sort_values(\"stamp_2\", ascending = False)[\"stamp_2\"].head(10).plot.barh()"
   ]
  },
  {
   "cell_type": "code",
   "execution_count": null,
   "id": "extra-executive",
   "metadata": {
    "papermill": {
     "duration": 0.022209,
     "end_time": "2021-10-20T15:00:10.902342",
     "exception": false,
     "start_time": "2021-10-20T15:00:10.880133",
     "status": "completed"
    },
    "tags": []
   },
   "outputs": [],
   "source": []
  }
 ],
 "metadata": {
  "kernelspec": {
   "display_name": "Python 3",
   "language": "python",
   "name": "python3"
  },
  "language_info": {
   "codemirror_mode": {
    "name": "ipython",
    "version": 3
   },
   "file_extension": ".py",
   "mimetype": "text/x-python",
   "name": "python",
   "nbconvert_exporter": "python",
   "pygments_lexer": "ipython3",
   "version": "3.9.5"
  },
  "papermill": {
   "default_parameters": {},
   "duration": 7.325864,
   "end_time": "2021-10-20T15:00:11.543334",
   "environment_variables": {},
   "exception": null,
   "input_path": "eBay_Overview.ipynb",
   "output_path": "eBay_Overview.ipynb",
   "parameters": {},
   "start_time": "2021-10-20T15:00:04.217470",
   "version": "2.3.3"
  }
 },
 "nbformat": 4,
 "nbformat_minor": 5
}