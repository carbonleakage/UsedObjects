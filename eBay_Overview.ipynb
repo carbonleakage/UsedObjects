{
 "cells": [
  {
   "cell_type": "code",
   "execution_count": 1,
   "id": "reverse-picking",
   "metadata": {
    "execution": {
     "iopub.execute_input": "2021-11-07T16:30:08.175435Z",
     "iopub.status.busy": "2021-11-07T16:30:08.165097Z",
     "iopub.status.idle": "2021-11-07T16:30:09.116497Z",
     "shell.execute_reply": "2021-11-07T16:30:09.118168Z"
    },
    "papermill": {
     "duration": 1.000579,
     "end_time": "2021-11-07T16:30:09.118930",
     "exception": false,
     "start_time": "2021-11-07T16:30:08.118351",
     "status": "completed"
    },
    "tags": []
   },
   "outputs": [],
   "source": [
    "import pandas as pd\n",
    "import sqlite3"
   ]
  },
  {
   "cell_type": "code",
   "execution_count": 2,
   "id": "innovative-syndrome",
   "metadata": {
    "execution": {
     "iopub.execute_input": "2021-11-07T16:30:09.181300Z",
     "iopub.status.busy": "2021-11-07T16:30:09.178919Z",
     "iopub.status.idle": "2021-11-07T16:30:09.940977Z",
     "shell.execute_reply": "2021-11-07T16:30:09.942772Z"
    },
    "papermill": {
     "duration": 0.797232,
     "end_time": "2021-11-07T16:30:09.943319",
     "exception": false,
     "start_time": "2021-11-07T16:30:09.146087",
     "status": "completed"
    },
    "tags": []
   },
   "outputs": [],
   "source": [
    "timestamps = pd.read_sql(\"select distinct record_time from EBAY_TOP_BERLIN order by record_time desc limit 2\", sqlite3.connect(\"UsedObjects.db\"))"
   ]
  },
  {
   "cell_type": "code",
   "execution_count": 3,
   "id": "periodic-identification",
   "metadata": {
    "execution": {
     "iopub.execute_input": "2021-11-07T16:30:10.018168Z",
     "iopub.status.busy": "2021-11-07T16:30:10.014895Z",
     "iopub.status.idle": "2021-11-07T16:30:10.054032Z",
     "shell.execute_reply": "2021-11-07T16:30:10.056506Z"
    },
    "papermill": {
     "duration": 0.093386,
     "end_time": "2021-11-07T16:30:10.057215",
     "exception": false,
     "start_time": "2021-11-07T16:30:09.963829",
     "status": "completed"
    },
    "tags": []
   },
   "outputs": [
    {
     "data": {
      "text/html": [
       "<div>\n",
       "<style scoped>\n",
       "    .dataframe tbody tr th:only-of-type {\n",
       "        vertical-align: middle;\n",
       "    }\n",
       "\n",
       "    .dataframe tbody tr th {\n",
       "        vertical-align: top;\n",
       "    }\n",
       "\n",
       "    .dataframe thead th {\n",
       "        text-align: right;\n",
       "    }\n",
       "</style>\n",
       "<table border=\"1\" class=\"dataframe\">\n",
       "  <thead>\n",
       "    <tr style=\"text-align: right;\">\n",
       "      <th></th>\n",
       "      <th>RECORD_TIME</th>\n",
       "    </tr>\n",
       "  </thead>\n",
       "  <tbody>\n",
       "    <tr>\n",
       "      <th>0</th>\n",
       "      <td>2021-11-07 17:30</td>\n",
       "    </tr>\n",
       "    <tr>\n",
       "      <th>1</th>\n",
       "      <td>2021-11-07 17:00</td>\n",
       "    </tr>\n",
       "  </tbody>\n",
       "</table>\n",
       "</div>"
      ],
      "text/plain": [
       "        RECORD_TIME\n",
       "0  2021-11-07 17:30\n",
       "1  2021-11-07 17:00"
      ]
     },
     "execution_count": 3,
     "metadata": {},
     "output_type": "execute_result"
    }
   ],
   "source": [
    "timestamps"
   ]
  },
  {
   "cell_type": "code",
   "execution_count": 4,
   "id": "alternate-victory",
   "metadata": {
    "execution": {
     "iopub.execute_input": "2021-11-07T16:30:10.113308Z",
     "iopub.status.busy": "2021-11-07T16:30:10.110933Z",
     "iopub.status.idle": "2021-11-07T16:30:11.218583Z",
     "shell.execute_reply": "2021-11-07T16:30:11.220117Z"
    },
    "papermill": {
     "duration": 1.141297,
     "end_time": "2021-11-07T16:30:11.220655",
     "exception": false,
     "start_time": "2021-11-07T16:30:10.079358",
     "status": "completed"
    },
    "tags": []
   },
   "outputs": [],
   "source": [
    "df = pd.read_sql(\"select * from EBAY_TOP_BERLIN where record_time in (select distinct record_time from EBAY_TOP_BERLIN order by record_time desc limit 2)\", sqlite3.connect(\"UsedObjects.db\"))"
   ]
  },
  {
   "cell_type": "code",
   "execution_count": 5,
   "id": "popular-active",
   "metadata": {
    "execution": {
     "iopub.execute_input": "2021-11-07T16:30:11.280390Z",
     "iopub.status.busy": "2021-11-07T16:30:11.277923Z",
     "iopub.status.idle": "2021-11-07T16:30:11.313193Z",
     "shell.execute_reply": "2021-11-07T16:30:11.310629Z"
    },
    "papermill": {
     "duration": 0.070824,
     "end_time": "2021-11-07T16:30:11.313612",
     "exception": false,
     "start_time": "2021-11-07T16:30:11.242788",
     "status": "completed"
    },
    "tags": []
   },
   "outputs": [],
   "source": [
    "df_pivot = df.pivot_table(index=\"PRODUCT\", columns = \"RECORD_TIME\", values = \"LISTING_COUNT\")"
   ]
  },
  {
   "cell_type": "code",
   "execution_count": 6,
   "id": "union-huntington",
   "metadata": {
    "execution": {
     "iopub.execute_input": "2021-11-07T16:30:11.376119Z",
     "iopub.status.busy": "2021-11-07T16:30:11.373867Z",
     "iopub.status.idle": "2021-11-07T16:30:11.379241Z",
     "shell.execute_reply": "2021-11-07T16:30:11.380829Z"
    },
    "papermill": {
     "duration": 0.045776,
     "end_time": "2021-11-07T16:30:11.381331",
     "exception": false,
     "start_time": "2021-11-07T16:30:11.335555",
     "status": "completed"
    },
    "tags": []
   },
   "outputs": [],
   "source": [
    "df_pivot.columns = [\"stamp_1\", \"stamp_2\"]\n",
    "df_pivot_diff = df_pivot.diff(axis=1)"
   ]
  },
  {
   "cell_type": "code",
   "execution_count": 7,
   "id": "fifth-motion",
   "metadata": {
    "execution": {
     "iopub.execute_input": "2021-11-07T16:30:11.440262Z",
     "iopub.status.busy": "2021-11-07T16:30:11.437602Z",
     "iopub.status.idle": "2021-11-07T16:30:13.185510Z",
     "shell.execute_reply": "2021-11-07T16:30:13.186845Z"
    },
    "papermill": {
     "duration": 1.784579,
     "end_time": "2021-11-07T16:30:13.187318",
     "exception": false,
     "start_time": "2021-11-07T16:30:11.402739",
     "status": "completed"
    },
    "tags": []
   },
   "outputs": [
    {
     "data": {
      "text/plain": [
       "<AxesSubplot:ylabel='PRODUCT'>"
      ]
     },
     "execution_count": 7,
     "metadata": {},
     "output_type": "execute_result"
    },
    {
     "data": {
      "image/png": "[encoded data removed]",
      "text/plain": [
       "<Figure size 432x288 with 1 Axes>"
      ]
     },
     "metadata": {
      "needs_background": "light"
     },
     "output_type": "display_data"
    }
   ],
   "source": [
    "df_pivot_diff.sort_values(\"stamp_2\", ascending = False)[\"stamp_2\"].head(10).plot.barh()"
   ]
  },
  {
   "cell_type": "code",
   "execution_count": null,
   "id": "extra-executive",
   "metadata": {
    "papermill": {
     "duration": 0.023328,
     "end_time": "2021-11-07T16:30:13.234606",
     "exception": false,
     "start_time": "2021-11-07T16:30:13.211278",
     "status": "completed"
    },
    "tags": []
   },
   "outputs": [],
   "source": []
  }
 ],
 "metadata": {
  "kernelspec": {
   "display_name": "Python 3",
   "language": "python",
   "name": "python3"
  },
  "language_info": {
   "codemirror_mode": {
    "name": "ipython",
    "version": 3
   },
   "file_extension": ".py",
   "mimetype": "text/x-python",
   "name": "python",
   "nbconvert_exporter": "python",
   "pygments_lexer": "ipython3",
   "version": "3.9.5"
  },
  "papermill": {
   "default_parameters": {},
   "duration": 8.720912,
   "end_time": "2021-11-07T16:30:13.982744",
   "environment_variables": {},
   "exception": null,
   "input_path": "eBay_Overview.ipynb",
   "output_path": "eBay_Overview.ipynb",
   "parameters": {},
   "start_time": "2021-11-07T16:30:05.261832",
   "version": "2.3.3"
  }
 },
 "nbformat": 4,
 "nbformat_minor": 5
}