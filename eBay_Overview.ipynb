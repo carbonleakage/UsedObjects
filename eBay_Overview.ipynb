{
 "cells": [
  {
   "cell_type": "code",
   "execution_count": 1,
   "id": "reverse-picking",
   "metadata": {
    "execution": {
     "iopub.execute_input": "2021-11-13T00:30:07.835864Z",
     "iopub.status.busy": "2021-11-13T00:30:07.833563Z",
     "iopub.status.idle": "2021-11-13T00:30:08.789686Z",
     "shell.execute_reply": "2021-11-13T00:30:08.791315Z"
    },
    "papermill": {
     "duration": 1.006755,
     "end_time": "2021-11-13T00:30:08.792063",
     "exception": false,
     "start_time": "2021-11-13T00:30:07.785308",
     "status": "completed"
    },
    "tags": []
   },
   "outputs": [],
   "source": [
    "import pandas as pd\n",
    "import sqlite3"
   ]
  },
  {
   "cell_type": "code",
   "execution_count": 2,
   "id": "innovative-syndrome",
   "metadata": {
    "execution": {
     "iopub.execute_input": "2021-11-13T00:30:08.860300Z",
     "iopub.status.busy": "2021-11-13T00:30:08.858011Z",
     "iopub.status.idle": "2021-11-13T00:30:09.655358Z",
     "shell.execute_reply": "2021-11-13T00:30:09.656655Z"
    },
    "papermill": {
     "duration": 0.831563,
     "end_time": "2021-11-13T00:30:09.657165",
     "exception": false,
     "start_time": "2021-11-13T00:30:08.825602",
     "status": "completed"
    },
    "tags": []
   },
   "outputs": [],
   "source": [
    "timestamps = pd.read_sql(\"select distinct record_time from EBAY_TOP_BERLIN order by record_time desc limit 2\", sqlite3.connect(\"UsedObjects.db\"))"
   ]
  },
  {
   "cell_type": "code",
   "execution_count": 3,
   "id": "periodic-identification",
   "metadata": {
    "execution": {
     "iopub.execute_input": "2021-11-13T00:30:09.722665Z",
     "iopub.status.busy": "2021-11-13T00:30:09.720567Z",
     "iopub.status.idle": "2021-11-13T00:30:09.741838Z",
     "shell.execute_reply": "2021-11-13T00:30:09.740413Z"
    },
    "papermill": {
     "duration": 0.06518,
     "end_time": "2021-11-13T00:30:09.742184",
     "exception": false,
     "start_time": "2021-11-13T00:30:09.677004",
     "status": "completed"
    },
    "tags": []
   },
   "outputs": [
    {
     "data": {
      "text/html": [
       "<div>\n",
       "<style scoped>\n",
       "    .dataframe tbody tr th:only-of-type {\n",
       "        vertical-align: middle;\n",
       "    }\n",
       "\n",
       "    .dataframe tbody tr th {\n",
       "        vertical-align: top;\n",
       "    }\n",
       "\n",
       "    .dataframe thead th {\n",
       "        text-align: right;\n",
       "    }\n",
       "</style>\n",
       "<table border=\"1\" class=\"dataframe\">\n",
       "  <thead>\n",
       "    <tr style=\"text-align: right;\">\n",
       "      <th></th>\n",
       "      <th>RECORD_TIME</th>\n",
       "    </tr>\n",
       "  </thead>\n",
       "  <tbody>\n",
       "    <tr>\n",
       "      <th>0</th>\n",
       "      <td>2021-11-13 01:30</td>\n",
       "    </tr>\n",
       "    <tr>\n",
       "      <th>1</th>\n",
       "      <td>2021-11-13 01:00</td>\n",
       "    </tr>\n",
       "  </tbody>\n",
       "</table>\n",
       "</div>"
      ],
      "text/plain": [
       "        RECORD_TIME\n",
       "0  2021-11-13 01:30\n",
       "1  2021-11-13 01:00"
      ]
     },
     "execution_count": 3,
     "metadata": {},
     "output_type": "execute_result"
    }
   ],
   "source": [
    "timestamps"
   ]
  },
  {
   "cell_type": "code",
   "execution_count": 4,
   "id": "alternate-victory",
   "metadata": {
    "execution": {
     "iopub.execute_input": "2021-11-13T00:30:09.793862Z",
     "iopub.status.busy": "2021-11-13T00:30:09.791924Z",
     "iopub.status.idle": "2021-11-13T00:30:10.962457Z",
     "shell.execute_reply": "2021-11-13T00:30:10.963908Z"
    },
    "papermill": {
     "duration": 1.200981,
     "end_time": "2021-11-13T00:30:10.964397",
     "exception": false,
     "start_time": "2021-11-13T00:30:09.763416",
     "status": "completed"
    },
    "tags": []
   },
   "outputs": [],
   "source": [
    "df = pd.read_sql(\"select * from EBAY_TOP_BERLIN where record_time in (select distinct record_time from EBAY_TOP_BERLIN order by record_time desc limit 2)\", sqlite3.connect(\"UsedObjects.db\"))"
   ]
  },
  {
   "cell_type": "code",
   "execution_count": 5,
   "id": "popular-active",
   "metadata": {
    "execution": {
     "iopub.execute_input": "2021-11-13T00:30:11.042118Z",
     "iopub.status.busy": "2021-11-13T00:30:11.029072Z",
     "iopub.status.idle": "2021-11-13T00:30:11.062914Z",
     "shell.execute_reply": "2021-11-13T00:30:11.064527Z"
    },
    "papermill": {
     "duration": 0.078634,
     "end_time": "2021-11-13T00:30:11.065106",
     "exception": false,
     "start_time": "2021-11-13T00:30:10.986472",
     "status": "completed"
    },
    "tags": []
   },
   "outputs": [],
   "source": [
    "df_pivot = df.pivot_table(index=\"PRODUCT\", columns = \"RECORD_TIME\", values = \"LISTING_COUNT\")"
   ]
  },
  {
   "cell_type": "code",
   "execution_count": 6,
   "id": "union-huntington",
   "metadata": {
    "execution": {
     "iopub.execute_input": "2021-11-13T00:30:11.125158Z",
     "iopub.status.busy": "2021-11-13T00:30:11.122868Z",
     "iopub.status.idle": "2021-11-13T00:30:11.130162Z",
     "shell.execute_reply": "2021-11-13T00:30:11.128566Z"
    },
    "papermill": {
     "duration": 0.043577,
     "end_time": "2021-11-13T00:30:11.130569",
     "exception": false,
     "start_time": "2021-11-13T00:30:11.086992",
     "status": "completed"
    },
    "tags": []
   },
   "outputs": [],
   "source": [
    "df_pivot.columns = [\"stamp_1\", \"stamp_2\"]\n",
    "df_pivot_diff = df_pivot.diff(axis=1)"
   ]
  },
  {
   "cell_type": "code",
   "execution_count": 7,
   "id": "fifth-motion",
   "metadata": {
    "execution": {
     "iopub.execute_input": "2021-11-13T00:30:11.187093Z",
     "iopub.status.busy": "2021-11-13T00:30:11.184153Z",
     "iopub.status.idle": "2021-11-13T00:30:13.136803Z",
     "shell.execute_reply": "2021-11-13T00:30:13.139793Z"
    },
    "papermill": {
     "duration": 1.990039,
     "end_time": "2021-11-13T00:30:13.140539",
     "exception": false,
     "start_time": "2021-11-13T00:30:11.150500",
     "status": "completed"
    },
    "tags": []
   },
   "outputs": [
    {
     "data": {
      "text/plain": [
       "<AxesSubplot:ylabel='PRODUCT'>"
      ]
     },
     "execution_count": 7,
     "metadata": {},
     "output_type": "execute_result"
    },
    {
     "data": {
      "image/png": "[encoded data removed]",
      "text/plain": [
       "<Figure size 432x288 with 1 Axes>"
      ]
     },
     "metadata": {
      "needs_background": "light"
     },
     "output_type": "display_data"
    }
   ],
   "source": [
    "df_pivot_diff.sort_values(\"stamp_2\", ascending = False)[\"stamp_2\"].head(10).plot.barh()"
   ]
  },
  {
   "cell_type": "code",
   "execution_count": null,
   "id": "extra-executive",
   "metadata": {
    "papermill": {
     "duration": 0.032979,
     "end_time": "2021-11-13T00:30:13.211253",
     "exception": false,
     "start_time": "2021-11-13T00:30:13.178274",
     "status": "completed"
    },
    "tags": []
   },
   "outputs": [],
   "source": []
  }
 ],
 "metadata": {
  "kernelspec": {
   "display_name": "Python 3",
   "language": "python",
   "name": "python3"
  },
  "language_info": {
   "codemirror_mode": {
    "name": "ipython",
    "version": 3
   },
   "file_extension": ".py",
   "mimetype": "text/x-python",
   "name": "python",
   "nbconvert_exporter": "python",
   "pygments_lexer": "ipython3",
   "version": "3.9.5"
  },
  "papermill": {
   "default_parameters": {},
   "duration": 8.920889,
   "end_time": "2021-11-13T00:30:13.972488",
   "environment_variables": {},
   "exception": null,
   "input_path": "eBay_Overview.ipynb",
   "output_path": "eBay_Overview.ipynb",
   "parameters": {},
   "start_time": "2021-11-13T00:30:05.051599",
   "version": "2.3.3"
  }
 },
 "nbformat": 4,
 "nbformat_minor": 5
}