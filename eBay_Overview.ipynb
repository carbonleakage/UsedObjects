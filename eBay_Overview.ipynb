{
 "cells": [
  {
   "cell_type": "code",
   "execution_count": 1,
   "id": "reverse-picking",
   "metadata": {
    "execution": {
     "iopub.execute_input": "2021-10-14T15:30:07.346963Z",
     "iopub.status.busy": "2021-10-14T15:30:07.344975Z",
     "iopub.status.idle": "2021-10-14T15:30:08.151682Z",
     "shell.execute_reply": "2021-10-14T15:30:08.153031Z"
    },
    "papermill": {
     "duration": 0.859589,
     "end_time": "2021-10-14T15:30:08.153673",
     "exception": false,
     "start_time": "2021-10-14T15:30:07.294084",
     "status": "completed"
    },
    "tags": []
   },
   "outputs": [],
   "source": [
    "import pandas as pd\n",
    "import sqlite3"
   ]
  },
  {
   "cell_type": "code",
   "execution_count": 2,
   "id": "innovative-syndrome",
   "metadata": {
    "execution": {
     "iopub.execute_input": "2021-10-14T15:30:08.206713Z",
     "iopub.status.busy": "2021-10-14T15:30:08.204415Z",
     "iopub.status.idle": "2021-10-14T15:30:08.744539Z",
     "shell.execute_reply": "2021-10-14T15:30:08.745903Z"
    },
    "papermill": {
     "duration": 0.569971,
     "end_time": "2021-10-14T15:30:08.746337",
     "exception": false,
     "start_time": "2021-10-14T15:30:08.176366",
     "status": "completed"
    },
    "tags": []
   },
   "outputs": [],
   "source": [
    "timestamps = pd.read_sql(\"select distinct record_time from EBAY_TOP_BERLIN order by record_time desc limit 2\", sqlite3.connect(\"UsedObjects.db\"))"
   ]
  },
  {
   "cell_type": "code",
   "execution_count": 3,
   "id": "periodic-identification",
   "metadata": {
    "execution": {
     "iopub.execute_input": "2021-10-14T15:30:08.821815Z",
     "iopub.status.busy": "2021-10-14T15:30:08.819692Z",
     "iopub.status.idle": "2021-10-14T15:30:08.839416Z",
     "shell.execute_reply": "2021-10-14T15:30:08.840637Z"
    },
    "papermill": {
     "duration": 0.068246,
     "end_time": "2021-10-14T15:30:08.841229",
     "exception": false,
     "start_time": "2021-10-14T15:30:08.772983",
     "status": "completed"
    },
    "tags": []
   },
   "outputs": [
    {
     "data": {
      "text/html": [
       "<div>\n",
       "<style scoped>\n",
       "    .dataframe tbody tr th:only-of-type {\n",
       "        vertical-align: middle;\n",
       "    }\n",
       "\n",
       "    .dataframe tbody tr th {\n",
       "        vertical-align: top;\n",
       "    }\n",
       "\n",
       "    .dataframe thead th {\n",
       "        text-align: right;\n",
       "    }\n",
       "</style>\n",
       "<table border=\"1\" class=\"dataframe\">\n",
       "  <thead>\n",
       "    <tr style=\"text-align: right;\">\n",
       "      <th></th>\n",
       "      <th>RECORD_TIME</th>\n",
       "    </tr>\n",
       "  </thead>\n",
       "  <tbody>\n",
       "    <tr>\n",
       "      <th>0</th>\n",
       "      <td>2021-10-14 17:30</td>\n",
       "    </tr>\n",
       "    <tr>\n",
       "      <th>1</th>\n",
       "      <td>2021-10-14 17:00</td>\n",
       "    </tr>\n",
       "  </tbody>\n",
       "</table>\n",
       "</div>"
      ],
      "text/plain": [
       "        RECORD_TIME\n",
       "0  2021-10-14 17:30\n",
       "1  2021-10-14 17:00"
      ]
     },
     "execution_count": 3,
     "metadata": {},
     "output_type": "execute_result"
    }
   ],
   "source": [
    "timestamps"
   ]
  },
  {
   "cell_type": "code",
   "execution_count": 4,
   "id": "alternate-victory",
   "metadata": {
    "execution": {
     "iopub.execute_input": "2021-10-14T15:30:08.895307Z",
     "iopub.status.busy": "2021-10-14T15:30:08.893260Z",
     "iopub.status.idle": "2021-10-14T15:30:09.677344Z",
     "shell.execute_reply": "2021-10-14T15:30:09.678572Z"
    },
    "papermill": {
     "duration": 0.814984,
     "end_time": "2021-10-14T15:30:09.678965",
     "exception": false,
     "start_time": "2021-10-14T15:30:08.863981",
     "status": "completed"
    },
    "tags": []
   },
   "outputs": [],
   "source": [
    "df = pd.read_sql(\"select * from EBAY_TOP_BERLIN where record_time in (select distinct record_time from EBAY_TOP_BERLIN order by record_time desc limit 2)\", sqlite3.connect(\"UsedObjects.db\"))"
   ]
  },
  {
   "cell_type": "code",
   "execution_count": 5,
   "id": "popular-active",
   "metadata": {
    "execution": {
     "iopub.execute_input": "2021-10-14T15:30:09.751158Z",
     "iopub.status.busy": "2021-10-14T15:30:09.739141Z",
     "iopub.status.idle": "2021-10-14T15:30:09.768313Z",
     "shell.execute_reply": "2021-10-14T15:30:09.769950Z"
    },
    "papermill": {
     "duration": 0.070908,
     "end_time": "2021-10-14T15:30:09.770425",
     "exception": false,
     "start_time": "2021-10-14T15:30:09.699517",
     "status": "completed"
    },
    "tags": []
   },
   "outputs": [],
   "source": [
    "df_pivot = df.pivot_table(index=\"PRODUCT\", columns = \"RECORD_TIME\", values = \"LISTING_COUNT\")"
   ]
  },
  {
   "cell_type": "code",
   "execution_count": 6,
   "id": "union-huntington",
   "metadata": {
    "execution": {
     "iopub.execute_input": "2021-10-14T15:30:09.828501Z",
     "iopub.status.busy": "2021-10-14T15:30:09.826419Z",
     "iopub.status.idle": "2021-10-14T15:30:09.831749Z",
     "shell.execute_reply": "2021-10-14T15:30:09.833162Z"
    },
    "papermill": {
     "duration": 0.041595,
     "end_time": "2021-10-14T15:30:09.833619",
     "exception": false,
     "start_time": "2021-10-14T15:30:09.792024",
     "status": "completed"
    },
    "tags": []
   },
   "outputs": [],
   "source": [
    "df_pivot.columns = [\"stamp_1\", \"stamp_2\"]\n",
    "df_pivot_diff = df_pivot.diff(axis=1)"
   ]
  },
  {
   "cell_type": "code",
   "execution_count": 7,
   "id": "fifth-motion",
   "metadata": {
    "execution": {
     "iopub.execute_input": "2021-10-14T15:30:09.888241Z",
     "iopub.status.busy": "2021-10-14T15:30:09.885835Z",
     "iopub.status.idle": "2021-10-14T15:30:11.376921Z",
     "shell.execute_reply": "2021-10-14T15:30:11.378476Z"
    },
    "papermill": {
     "duration": 1.524601,
     "end_time": "2021-10-14T15:30:11.378937",
     "exception": false,
     "start_time": "2021-10-14T15:30:09.854336",
     "status": "completed"
    },
    "tags": []
   },
   "outputs": [
    {
     "data": {
      "text/plain": [
       "<AxesSubplot:ylabel='PRODUCT'>"
      ]
     },
     "execution_count": 7,
     "metadata": {},
     "output_type": "execute_result"
    },
    {
     "data": {
      "image/png": "[encoded data removed]",
      "text/plain": [
       "<Figure size 432x288 with 1 Axes>"
      ]
     },
     "metadata": {
      "needs_background": "light"
     },
     "output_type": "display_data"
    }
   ],
   "source": [
    "df_pivot_diff.sort_values(\"stamp_2\", ascending = False)[\"stamp_2\"].head(10).plot.barh()"
   ]
  },
  {
   "cell_type": "code",
   "execution_count": null,
   "id": "extra-executive",
   "metadata": {
    "papermill": {
     "duration": 0.022513,
     "end_time": "2021-10-14T15:30:11.426645",
     "exception": false,
     "start_time": "2021-10-14T15:30:11.404132",
     "status": "completed"
    },
    "tags": []
   },
   "outputs": [],
   "source": []
  }
 ],
 "metadata": {
  "kernelspec": {
   "display_name": "Python 3",
   "language": "python",
   "name": "python3"
  },
  "language_info": {
   "codemirror_mode": {
    "name": "ipython",
    "version": 3
   },
   "file_extension": ".py",
   "mimetype": "text/x-python",
   "name": "python",
   "nbconvert_exporter": "python",
   "pygments_lexer": "ipython3",
   "version": "3.9.5"
  },
  "papermill": {
   "default_parameters": {},
   "duration": 7.831825,
   "end_time": "2021-10-14T15:30:12.717799",
   "environment_variables": {},
   "exception": null,
   "input_path": "eBay_Overview.ipynb",
   "output_path": "eBay_Overview.ipynb",
   "parameters": {},
   "start_time": "2021-10-14T15:30:04.885974",
   "version": "2.3.3"
  }
 },
 "nbformat": 4,
 "nbformat_minor": 5
}