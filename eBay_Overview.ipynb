{
 "cells": [
  {
   "cell_type": "code",
   "execution_count": 1,
   "id": "reverse-picking",
   "metadata": {
    "execution": {
     "iopub.execute_input": "2021-11-10T17:30:09.038586Z",
     "iopub.status.busy": "2021-11-10T17:30:09.036095Z",
     "iopub.status.idle": "2021-11-10T17:30:09.961891Z",
     "shell.execute_reply": "2021-11-10T17:30:09.959470Z"
    },
    "papermill": {
     "duration": 0.973988,
     "end_time": "2021-11-10T17:30:09.962397",
     "exception": false,
     "start_time": "2021-11-10T17:30:08.988409",
     "status": "completed"
    },
    "tags": []
   },
   "outputs": [],
   "source": [
    "import pandas as pd\n",
    "import sqlite3"
   ]
  },
  {
   "cell_type": "code",
   "execution_count": 2,
   "id": "innovative-syndrome",
   "metadata": {
    "execution": {
     "iopub.execute_input": "2021-11-10T17:30:10.018935Z",
     "iopub.status.busy": "2021-11-10T17:30:10.016759Z",
     "iopub.status.idle": "2021-11-10T17:30:10.819260Z",
     "shell.execute_reply": "2021-11-10T17:30:10.820507Z"
    },
    "papermill": {
     "duration": 0.835258,
     "end_time": "2021-11-10T17:30:10.821059",
     "exception": false,
     "start_time": "2021-11-10T17:30:09.985801",
     "status": "completed"
    },
    "tags": []
   },
   "outputs": [],
   "source": [
    "timestamps = pd.read_sql(\"select distinct record_time from EBAY_TOP_BERLIN order by record_time desc limit 2\", sqlite3.connect(\"UsedObjects.db\"))"
   ]
  },
  {
   "cell_type": "code",
   "execution_count": 3,
   "id": "periodic-identification",
   "metadata": {
    "execution": {
     "iopub.execute_input": "2021-11-10T17:30:10.911690Z",
     "iopub.status.busy": "2021-11-10T17:30:10.909268Z",
     "iopub.status.idle": "2021-11-10T17:30:10.933382Z",
     "shell.execute_reply": "2021-11-10T17:30:10.935002Z"
    },
    "papermill": {
     "duration": 0.083206,
     "end_time": "2021-11-10T17:30:10.935508",
     "exception": false,
     "start_time": "2021-11-10T17:30:10.852302",
     "status": "completed"
    },
    "tags": []
   },
   "outputs": [
    {
     "data": {
      "text/html": [
       "<div>\n",
       "<style scoped>\n",
       "    .dataframe tbody tr th:only-of-type {\n",
       "        vertical-align: middle;\n",
       "    }\n",
       "\n",
       "    .dataframe tbody tr th {\n",
       "        vertical-align: top;\n",
       "    }\n",
       "\n",
       "    .dataframe thead th {\n",
       "        text-align: right;\n",
       "    }\n",
       "</style>\n",
       "<table border=\"1\" class=\"dataframe\">\n",
       "  <thead>\n",
       "    <tr style=\"text-align: right;\">\n",
       "      <th></th>\n",
       "      <th>RECORD_TIME</th>\n",
       "    </tr>\n",
       "  </thead>\n",
       "  <tbody>\n",
       "    <tr>\n",
       "      <th>0</th>\n",
       "      <td>2021-11-10 18:30</td>\n",
       "    </tr>\n",
       "    <tr>\n",
       "      <th>1</th>\n",
       "      <td>2021-11-10 18:00</td>\n",
       "    </tr>\n",
       "  </tbody>\n",
       "</table>\n",
       "</div>"
      ],
      "text/plain": [
       "        RECORD_TIME\n",
       "0  2021-11-10 18:30\n",
       "1  2021-11-10 18:00"
      ]
     },
     "execution_count": 3,
     "metadata": {},
     "output_type": "execute_result"
    }
   ],
   "source": [
    "timestamps"
   ]
  },
  {
   "cell_type": "code",
   "execution_count": 4,
   "id": "alternate-victory",
   "metadata": {
    "execution": {
     "iopub.execute_input": "2021-11-10T17:30:10.991781Z",
     "iopub.status.busy": "2021-11-10T17:30:10.989831Z",
     "iopub.status.idle": "2021-11-10T17:30:12.130352Z",
     "shell.execute_reply": "2021-11-10T17:30:12.131748Z"
    },
    "papermill": {
     "duration": 1.173811,
     "end_time": "2021-11-10T17:30:12.132223",
     "exception": false,
     "start_time": "2021-11-10T17:30:10.958412",
     "status": "completed"
    },
    "tags": []
   },
   "outputs": [],
   "source": [
    "df = pd.read_sql(\"select * from EBAY_TOP_BERLIN where record_time in (select distinct record_time from EBAY_TOP_BERLIN order by record_time desc limit 2)\", sqlite3.connect(\"UsedObjects.db\"))"
   ]
  },
  {
   "cell_type": "code",
   "execution_count": 5,
   "id": "popular-active",
   "metadata": {
    "execution": {
     "iopub.execute_input": "2021-11-10T17:30:12.208030Z",
     "iopub.status.busy": "2021-11-10T17:30:12.194304Z",
     "iopub.status.idle": "2021-11-10T17:30:12.226116Z",
     "shell.execute_reply": "2021-11-10T17:30:12.227502Z"
    },
    "papermill": {
     "duration": 0.074692,
     "end_time": "2021-11-10T17:30:12.227974",
     "exception": false,
     "start_time": "2021-11-10T17:30:12.153282",
     "status": "completed"
    },
    "tags": []
   },
   "outputs": [],
   "source": [
    "df_pivot = df.pivot_table(index=\"PRODUCT\", columns = \"RECORD_TIME\", values = \"LISTING_COUNT\")"
   ]
  },
  {
   "cell_type": "code",
   "execution_count": 6,
   "id": "union-huntington",
   "metadata": {
    "execution": {
     "iopub.execute_input": "2021-11-10T17:30:12.286489Z",
     "iopub.status.busy": "2021-11-10T17:30:12.284158Z",
     "iopub.status.idle": "2021-11-10T17:30:12.290117Z",
     "shell.execute_reply": "2021-11-10T17:30:12.291612Z"
    },
    "papermill": {
     "duration": 0.043969,
     "end_time": "2021-11-10T17:30:12.292075",
     "exception": false,
     "start_time": "2021-11-10T17:30:12.248106",
     "status": "completed"
    },
    "tags": []
   },
   "outputs": [],
   "source": [
    "df_pivot.columns = [\"stamp_1\", \"stamp_2\"]\n",
    "df_pivot_diff = df_pivot.diff(axis=1)"
   ]
  },
  {
   "cell_type": "code",
   "execution_count": 7,
   "id": "fifth-motion",
   "metadata": {
    "execution": {
     "iopub.execute_input": "2021-11-10T17:30:12.379141Z",
     "iopub.status.busy": "2021-11-10T17:30:12.361581Z",
     "iopub.status.idle": "2021-11-10T17:30:14.286887Z",
     "shell.execute_reply": "2021-11-10T17:30:14.288191Z"
    },
    "papermill": {
     "duration": 1.975763,
     "end_time": "2021-11-10T17:30:14.288613",
     "exception": false,
     "start_time": "2021-11-10T17:30:12.312850",
     "status": "completed"
    },
    "tags": []
   },
   "outputs": [
    {
     "data": {
      "text/plain": [
       "<AxesSubplot:ylabel='PRODUCT'>"
      ]
     },
     "execution_count": 7,
     "metadata": {},
     "output_type": "execute_result"
    },
    {
     "data": {
      "image/png": "[encoded data removed]",
      "text/plain": [
       "<Figure size 432x288 with 1 Axes>"
      ]
     },
     "metadata": {
      "needs_background": "light"
     },
     "output_type": "display_data"
    }
   ],
   "source": [
    "df_pivot_diff.sort_values(\"stamp_2\", ascending = False)[\"stamp_2\"].head(10).plot.barh()"
   ]
  },
  {
   "cell_type": "code",
   "execution_count": null,
   "id": "extra-executive",
   "metadata": {
    "papermill": {
     "duration": 0.022516,
     "end_time": "2021-11-10T17:30:14.336578",
     "exception": false,
     "start_time": "2021-11-10T17:30:14.314062",
     "status": "completed"
    },
    "tags": []
   },
   "outputs": [],
   "source": []
  }
 ],
 "metadata": {
  "kernelspec": {
   "display_name": "Python 3",
   "language": "python",
   "name": "python3"
  },
  "language_info": {
   "codemirror_mode": {
    "name": "ipython",
    "version": 3
   },
   "file_extension": ".py",
   "mimetype": "text/x-python",
   "name": "python",
   "nbconvert_exporter": "python",
   "pygments_lexer": "ipython3",
   "version": "3.9.5"
  },
  "papermill": {
   "default_parameters": {},
   "duration": 8.746916,
   "end_time": "2021-11-10T17:30:14.978669",
   "environment_variables": {},
   "exception": null,
   "input_path": "eBay_Overview.ipynb",
   "output_path": "eBay_Overview.ipynb",
   "parameters": {},
   "start_time": "2021-11-10T17:30:06.231753",
   "version": "2.3.3"
  }
 },
 "nbformat": 4,
 "nbformat_minor": 5
}