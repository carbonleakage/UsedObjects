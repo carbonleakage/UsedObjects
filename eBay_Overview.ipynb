{
 "cells": [
  {
   "cell_type": "code",
   "execution_count": 1,
   "id": "reverse-picking",
   "metadata": {
    "execution": {
     "iopub.execute_input": "2021-12-16T04:30:07.936543Z",
     "iopub.status.busy": "2021-12-16T04:30:07.934136Z",
     "iopub.status.idle": "2021-12-16T04:30:08.870113Z",
     "shell.execute_reply": "2021-12-16T04:30:08.871711Z"
    },
    "papermill": {
     "duration": 0.974482,
     "end_time": "2021-12-16T04:30:08.872448",
     "exception": false,
     "start_time": "2021-12-16T04:30:07.897966",
     "status": "completed"
    },
    "tags": []
   },
   "outputs": [],
   "source": [
    "import pandas as pd\n",
    "import sqlite3"
   ]
  },
  {
   "cell_type": "code",
   "execution_count": 2,
   "id": "innovative-syndrome",
   "metadata": {
    "execution": {
     "iopub.execute_input": "2021-12-16T04:30:08.944943Z",
     "iopub.status.busy": "2021-12-16T04:30:08.942535Z",
     "iopub.status.idle": "2021-12-16T04:30:10.046128Z",
     "shell.execute_reply": "2021-12-16T04:30:10.047441Z"
    },
    "papermill": {
     "duration": 1.138572,
     "end_time": "2021-12-16T04:30:10.047862",
     "exception": false,
     "start_time": "2021-12-16T04:30:08.909290",
     "status": "completed"
    },
    "tags": []
   },
   "outputs": [],
   "source": [
    "timestamps = pd.read_sql(\"select distinct record_time from EBAY_TOP_BERLIN order by record_time desc limit 2\", sqlite3.connect(\"UsedObjects.db\"))"
   ]
  },
  {
   "cell_type": "code",
   "execution_count": 3,
   "id": "periodic-identification",
   "metadata": {
    "execution": {
     "iopub.execute_input": "2021-12-16T04:30:10.115020Z",
     "iopub.status.busy": "2021-12-16T04:30:10.113001Z",
     "iopub.status.idle": "2021-12-16T04:30:10.133114Z",
     "shell.execute_reply": "2021-12-16T04:30:10.134539Z"
    },
    "papermill": {
     "duration": 0.067576,
     "end_time": "2021-12-16T04:30:10.134963",
     "exception": false,
     "start_time": "2021-12-16T04:30:10.067387",
     "status": "completed"
    },
    "tags": []
   },
   "outputs": [
    {
     "data": {
      "text/html": [
       "<div>\n",
       "<style scoped>\n",
       "    .dataframe tbody tr th:only-of-type {\n",
       "        vertical-align: middle;\n",
       "    }\n",
       "\n",
       "    .dataframe tbody tr th {\n",
       "        vertical-align: top;\n",
       "    }\n",
       "\n",
       "    .dataframe thead th {\n",
       "        text-align: right;\n",
       "    }\n",
       "</style>\n",
       "<table border=\"1\" class=\"dataframe\">\n",
       "  <thead>\n",
       "    <tr style=\"text-align: right;\">\n",
       "      <th></th>\n",
       "      <th>RECORD_TIME</th>\n",
       "    </tr>\n",
       "  </thead>\n",
       "  <tbody>\n",
       "    <tr>\n",
       "      <th>0</th>\n",
       "      <td>2021-12-16 05:30</td>\n",
       "    </tr>\n",
       "    <tr>\n",
       "      <th>1</th>\n",
       "      <td>2021-12-16 05:00</td>\n",
       "    </tr>\n",
       "  </tbody>\n",
       "</table>\n",
       "</div>"
      ],
      "text/plain": [
       "        RECORD_TIME\n",
       "0  2021-12-16 05:30\n",
       "1  2021-12-16 05:00"
      ]
     },
     "execution_count": 3,
     "metadata": {},
     "output_type": "execute_result"
    }
   ],
   "source": [
    "timestamps"
   ]
  },
  {
   "cell_type": "code",
   "execution_count": 4,
   "id": "alternate-victory",
   "metadata": {
    "execution": {
     "iopub.execute_input": "2021-12-16T04:30:10.188994Z",
     "iopub.status.busy": "2021-12-16T04:30:10.186719Z",
     "iopub.status.idle": "2021-12-16T04:30:11.764043Z",
     "shell.execute_reply": "2021-12-16T04:30:11.765565Z"
    },
    "papermill": {
     "duration": 1.609436,
     "end_time": "2021-12-16T04:30:11.766057",
     "exception": false,
     "start_time": "2021-12-16T04:30:10.156621",
     "status": "completed"
    },
    "tags": []
   },
   "outputs": [],
   "source": [
    "df = pd.read_sql(\"select * from EBAY_TOP_BERLIN where record_time in (select distinct record_time from EBAY_TOP_BERLIN order by record_time desc limit 2)\", sqlite3.connect(\"UsedObjects.db\"))"
   ]
  },
  {
   "cell_type": "code",
   "execution_count": 5,
   "id": "popular-active",
   "metadata": {
    "execution": {
     "iopub.execute_input": "2021-12-16T04:30:11.845249Z",
     "iopub.status.busy": "2021-12-16T04:30:11.837139Z",
     "iopub.status.idle": "2021-12-16T04:30:11.863372Z",
     "shell.execute_reply": "2021-12-16T04:30:11.864833Z"
    },
    "papermill": {
     "duration": 0.076743,
     "end_time": "2021-12-16T04:30:11.865317",
     "exception": false,
     "start_time": "2021-12-16T04:30:11.788574",
     "status": "completed"
    },
    "tags": []
   },
   "outputs": [],
   "source": [
    "df_pivot = df.pivot_table(index=\"PRODUCT\", columns = \"RECORD_TIME\", values = \"LISTING_COUNT\")"
   ]
  },
  {
   "cell_type": "code",
   "execution_count": 6,
   "id": "union-huntington",
   "metadata": {
    "execution": {
     "iopub.execute_input": "2021-12-16T04:30:11.924544Z",
     "iopub.status.busy": "2021-12-16T04:30:11.922294Z",
     "iopub.status.idle": "2021-12-16T04:30:11.929828Z",
     "shell.execute_reply": "2021-12-16T04:30:11.928215Z"
    },
    "papermill": {
     "duration": 0.044324,
     "end_time": "2021-12-16T04:30:11.930226",
     "exception": false,
     "start_time": "2021-12-16T04:30:11.885902",
     "status": "completed"
    },
    "tags": []
   },
   "outputs": [],
   "source": [
    "df_pivot.columns = [\"stamp_1\", \"stamp_2\"]\n",
    "df_pivot_diff = df_pivot.diff(axis=1)"
   ]
  },
  {
   "cell_type": "code",
   "execution_count": 7,
   "id": "fifth-motion",
   "metadata": {
    "execution": {
     "iopub.execute_input": "2021-12-16T04:30:11.992127Z",
     "iopub.status.busy": "2021-12-16T04:30:11.989690Z",
     "iopub.status.idle": "2021-12-16T04:30:13.989702Z",
     "shell.execute_reply": "2021-12-16T04:30:13.991309Z"
    },
    "papermill": {
     "duration": 2.03896,
     "end_time": "2021-12-16T04:30:13.991805",
     "exception": false,
     "start_time": "2021-12-16T04:30:11.952845",
     "status": "completed"
    },
    "tags": []
   },
   "outputs": [
    {
     "data": {
      "text/plain": [
       "<AxesSubplot:ylabel='PRODUCT'>"
      ]
     },
     "execution_count": 7,
     "metadata": {},
     "output_type": "execute_result"
    },
    {
     "data": {
      "image/png": "[encoded data removed]",
      "text/plain": [
       "<Figure size 432x288 with 1 Axes>"
      ]
     },
     "metadata": {
      "needs_background": "light"
     },
     "output_type": "display_data"
    }
   ],
   "source": [
    "df_pivot_diff.sort_values(\"stamp_2\", ascending = False)[\"stamp_2\"].head(10).plot.barh()"
   ]
  },
  {
   "cell_type": "code",
   "execution_count": null,
   "id": "extra-executive",
   "metadata": {
    "papermill": {
     "duration": 0.026379,
     "end_time": "2021-12-16T04:30:14.050520",
     "exception": false,
     "start_time": "2021-12-16T04:30:14.024141",
     "status": "completed"
    },
    "tags": []
   },
   "outputs": [],
   "source": []
  }
 ],
 "metadata": {
  "kernelspec": {
   "display_name": "Python 3",
   "language": "python",
   "name": "python3"
  },
  "language_info": {
   "codemirror_mode": {
    "name": "ipython",
    "version": 3
   },
   "file_extension": ".py",
   "mimetype": "text/x-python",
   "name": "python",
   "nbconvert_exporter": "python",
   "pygments_lexer": "ipython3",
   "version": "3.9.5"
  },
  "papermill": {
   "default_parameters": {},
   "duration": 9.534427,
   "end_time": "2021-12-16T04:30:14.708384",
   "environment_variables": {},
   "exception": null,
   "input_path": "eBay_Overview.ipynb",
   "output_path": "eBay_Overview.ipynb",
   "parameters": {},
   "start_time": "2021-12-16T04:30:05.173957",
   "version": "2.3.3"
  }
 },
 "nbformat": 4,
 "nbformat_minor": 5
}