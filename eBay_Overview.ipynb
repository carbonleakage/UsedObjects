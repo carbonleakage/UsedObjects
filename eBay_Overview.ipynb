{
 "cells": [
  {
   "cell_type": "code",
   "execution_count": 1,
   "id": "reverse-picking",
   "metadata": {
    "execution": {
     "iopub.execute_input": "2021-11-28T03:30:07.344570Z",
     "iopub.status.busy": "2021-11-28T03:30:07.341928Z",
     "iopub.status.idle": "2021-11-28T03:30:08.293549Z",
     "shell.execute_reply": "2021-11-28T03:30:08.294995Z"
    },
    "papermill": {
     "duration": 1.001427,
     "end_time": "2021-11-28T03:30:08.295748",
     "exception": false,
     "start_time": "2021-11-28T03:30:07.294321",
     "status": "completed"
    },
    "tags": []
   },
   "outputs": [],
   "source": [
    "import pandas as pd\n",
    "import sqlite3"
   ]
  },
  {
   "cell_type": "code",
   "execution_count": 2,
   "id": "innovative-syndrome",
   "metadata": {
    "execution": {
     "iopub.execute_input": "2021-11-28T03:30:08.359658Z",
     "iopub.status.busy": "2021-11-28T03:30:08.357378Z",
     "iopub.status.idle": "2021-11-28T03:30:09.296020Z",
     "shell.execute_reply": "2021-11-28T03:30:09.297581Z"
    },
    "papermill": {
     "duration": 0.972763,
     "end_time": "2021-11-28T03:30:09.298090",
     "exception": false,
     "start_time": "2021-11-28T03:30:08.325327",
     "status": "completed"
    },
    "tags": []
   },
   "outputs": [],
   "source": [
    "timestamps = pd.read_sql(\"select distinct record_time from EBAY_TOP_BERLIN order by record_time desc limit 2\", sqlite3.connect(\"UsedObjects.db\"))"
   ]
  },
  {
   "cell_type": "code",
   "execution_count": 3,
   "id": "periodic-identification",
   "metadata": {
    "execution": {
     "iopub.execute_input": "2021-11-28T03:30:09.368255Z",
     "iopub.status.busy": "2021-11-28T03:30:09.366073Z",
     "iopub.status.idle": "2021-11-28T03:30:09.390392Z",
     "shell.execute_reply": "2021-11-28T03:30:09.388827Z"
    },
    "papermill": {
     "duration": 0.072561,
     "end_time": "2021-11-28T03:30:09.390817",
     "exception": false,
     "start_time": "2021-11-28T03:30:09.318256",
     "status": "completed"
    },
    "tags": []
   },
   "outputs": [
    {
     "data": {
      "text/html": [
       "<div>\n",
       "<style scoped>\n",
       "    .dataframe tbody tr th:only-of-type {\n",
       "        vertical-align: middle;\n",
       "    }\n",
       "\n",
       "    .dataframe tbody tr th {\n",
       "        vertical-align: top;\n",
       "    }\n",
       "\n",
       "    .dataframe thead th {\n",
       "        text-align: right;\n",
       "    }\n",
       "</style>\n",
       "<table border=\"1\" class=\"dataframe\">\n",
       "  <thead>\n",
       "    <tr style=\"text-align: right;\">\n",
       "      <th></th>\n",
       "      <th>RECORD_TIME</th>\n",
       "    </tr>\n",
       "  </thead>\n",
       "  <tbody>\n",
       "    <tr>\n",
       "      <th>0</th>\n",
       "      <td>2021-11-28 04:30</td>\n",
       "    </tr>\n",
       "    <tr>\n",
       "      <th>1</th>\n",
       "      <td>2021-11-28 04:00</td>\n",
       "    </tr>\n",
       "  </tbody>\n",
       "</table>\n",
       "</div>"
      ],
      "text/plain": [
       "        RECORD_TIME\n",
       "0  2021-11-28 04:30\n",
       "1  2021-11-28 04:00"
      ]
     },
     "execution_count": 3,
     "metadata": {},
     "output_type": "execute_result"
    }
   ],
   "source": [
    "timestamps"
   ]
  },
  {
   "cell_type": "code",
   "execution_count": 4,
   "id": "alternate-victory",
   "metadata": {
    "execution": {
     "iopub.execute_input": "2021-11-28T03:30:09.448121Z",
     "iopub.status.busy": "2021-11-28T03:30:09.446282Z",
     "iopub.status.idle": "2021-11-28T03:30:10.789720Z",
     "shell.execute_reply": "2021-11-28T03:30:10.791313Z"
    },
    "papermill": {
     "duration": 1.378471,
     "end_time": "2021-11-28T03:30:10.791810",
     "exception": false,
     "start_time": "2021-11-28T03:30:09.413339",
     "status": "completed"
    },
    "tags": []
   },
   "outputs": [],
   "source": [
    "df = pd.read_sql(\"select * from EBAY_TOP_BERLIN where record_time in (select distinct record_time from EBAY_TOP_BERLIN order by record_time desc limit 2)\", sqlite3.connect(\"UsedObjects.db\"))"
   ]
  },
  {
   "cell_type": "code",
   "execution_count": 5,
   "id": "popular-active",
   "metadata": {
    "execution": {
     "iopub.execute_input": "2021-11-28T03:30:10.871805Z",
     "iopub.status.busy": "2021-11-28T03:30:10.863192Z",
     "iopub.status.idle": "2021-11-28T03:30:10.889429Z",
     "shell.execute_reply": "2021-11-28T03:30:10.890779Z"
    },
    "papermill": {
     "duration": 0.077632,
     "end_time": "2021-11-28T03:30:10.891246",
     "exception": false,
     "start_time": "2021-11-28T03:30:10.813614",
     "status": "completed"
    },
    "tags": []
   },
   "outputs": [],
   "source": [
    "df_pivot = df.pivot_table(index=\"PRODUCT\", columns = \"RECORD_TIME\", values = \"LISTING_COUNT\")"
   ]
  },
  {
   "cell_type": "code",
   "execution_count": 6,
   "id": "union-huntington",
   "metadata": {
    "execution": {
     "iopub.execute_input": "2021-11-28T03:30:10.949589Z",
     "iopub.status.busy": "2021-11-28T03:30:10.947333Z",
     "iopub.status.idle": "2021-11-28T03:30:10.952868Z",
     "shell.execute_reply": "2021-11-28T03:30:10.954337Z"
    },
    "papermill": {
     "duration": 0.043626,
     "end_time": "2021-11-28T03:30:10.954806",
     "exception": false,
     "start_time": "2021-11-28T03:30:10.911180",
     "status": "completed"
    },
    "tags": []
   },
   "outputs": [],
   "source": [
    "df_pivot.columns = [\"stamp_1\", \"stamp_2\"]\n",
    "df_pivot_diff = df_pivot.diff(axis=1)"
   ]
  },
  {
   "cell_type": "code",
   "execution_count": 7,
   "id": "fifth-motion",
   "metadata": {
    "execution": {
     "iopub.execute_input": "2021-11-28T03:30:11.014982Z",
     "iopub.status.busy": "2021-11-28T03:30:11.012203Z",
     "iopub.status.idle": "2021-11-28T03:30:12.963277Z",
     "shell.execute_reply": "2021-11-28T03:30:12.966381Z"
    },
    "papermill": {
     "duration": 1.992143,
     "end_time": "2021-11-28T03:30:12.967355",
     "exception": false,
     "start_time": "2021-11-28T03:30:10.975212",
     "status": "completed"
    },
    "tags": []
   },
   "outputs": [
    {
     "data": {
      "text/plain": [
       "<AxesSubplot:ylabel='PRODUCT'>"
      ]
     },
     "execution_count": 7,
     "metadata": {},
     "output_type": "execute_result"
    },
    {
     "data": {
      "image/png": "[encoded data removed]",
      "text/plain": [
       "<Figure size 432x288 with 1 Axes>"
      ]
     },
     "metadata": {
      "needs_background": "light"
     },
     "output_type": "display_data"
    }
   ],
   "source": [
    "df_pivot_diff.sort_values(\"stamp_2\", ascending = False)[\"stamp_2\"].head(10).plot.barh()"
   ]
  },
  {
   "cell_type": "code",
   "execution_count": null,
   "id": "extra-executive",
   "metadata": {
    "papermill": {
     "duration": 0.034335,
     "end_time": "2021-11-28T03:30:13.039116",
     "exception": false,
     "start_time": "2021-11-28T03:30:13.004781",
     "status": "completed"
    },
    "tags": []
   },
   "outputs": [],
   "source": []
  }
 ],
 "metadata": {
  "kernelspec": {
   "display_name": "Python 3",
   "language": "python",
   "name": "python3"
  },
  "language_info": {
   "codemirror_mode": {
    "name": "ipython",
    "version": 3
   },
   "file_extension": ".py",
   "mimetype": "text/x-python",
   "name": "python",
   "nbconvert_exporter": "python",
   "pygments_lexer": "ipython3",
   "version": "3.9.5"
  },
  "papermill": {
   "default_parameters": {},
   "duration": 9.939429,
   "end_time": "2021-11-28T03:30:14.508097",
   "environment_variables": {},
   "exception": null,
   "input_path": "eBay_Overview.ipynb",
   "output_path": "eBay_Overview.ipynb",
   "parameters": {},
   "start_time": "2021-11-28T03:30:04.568668",
   "version": "2.3.3"
  }
 },
 "nbformat": 4,
 "nbformat_minor": 5
}