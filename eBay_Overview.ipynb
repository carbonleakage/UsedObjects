{
 "cells": [
  {
   "cell_type": "code",
   "execution_count": 1,
   "id": "reverse-picking",
   "metadata": {
    "execution": {
     "iopub.execute_input": "2021-10-07T10:00:07.648570Z",
     "iopub.status.busy": "2021-10-07T10:00:07.646580Z",
     "iopub.status.idle": "2021-10-07T10:00:08.454232Z",
     "shell.execute_reply": "2021-10-07T10:00:08.455553Z"
    },
    "papermill": {
     "duration": 0.858918,
     "end_time": "2021-10-07T10:00:08.456186",
     "exception": false,
     "start_time": "2021-10-07T10:00:07.597268",
     "status": "completed"
    },
    "tags": []
   },
   "outputs": [],
   "source": [
    "import pandas as pd\n",
    "import sqlite3"
   ]
  },
  {
   "cell_type": "code",
   "execution_count": 2,
   "id": "innovative-syndrome",
   "metadata": {
    "execution": {
     "iopub.execute_input": "2021-10-07T10:00:08.508173Z",
     "iopub.status.busy": "2021-10-07T10:00:08.506083Z",
     "iopub.status.idle": "2021-10-07T10:00:08.991190Z",
     "shell.execute_reply": "2021-10-07T10:00:08.992411Z"
    },
    "papermill": {
     "duration": 0.514269,
     "end_time": "2021-10-07T10:00:08.992807",
     "exception": false,
     "start_time": "2021-10-07T10:00:08.478538",
     "status": "completed"
    },
    "tags": []
   },
   "outputs": [],
   "source": [
    "timestamps = pd.read_sql(\"select distinct record_time from EBAY_TOP_BERLIN order by record_time desc limit 2\", sqlite3.connect(\"UsedObjects.db\"))"
   ]
  },
  {
   "cell_type": "code",
   "execution_count": 3,
   "id": "periodic-identification",
   "metadata": {
    "execution": {
     "iopub.execute_input": "2021-10-07T10:00:09.057991Z",
     "iopub.status.busy": "2021-10-07T10:00:09.055797Z",
     "iopub.status.idle": "2021-10-07T10:00:09.076036Z",
     "shell.execute_reply": "2021-10-07T10:00:09.077169Z"
    },
    "papermill": {
     "duration": 0.065162,
     "end_time": "2021-10-07T10:00:09.077585",
     "exception": false,
     "start_time": "2021-10-07T10:00:09.012423",
     "status": "completed"
    },
    "tags": []
   },
   "outputs": [
    {
     "data": {
      "text/html": [
       "<div>\n",
       "<style scoped>\n",
       "    .dataframe tbody tr th:only-of-type {\n",
       "        vertical-align: middle;\n",
       "    }\n",
       "\n",
       "    .dataframe tbody tr th {\n",
       "        vertical-align: top;\n",
       "    }\n",
       "\n",
       "    .dataframe thead th {\n",
       "        text-align: right;\n",
       "    }\n",
       "</style>\n",
       "<table border=\"1\" class=\"dataframe\">\n",
       "  <thead>\n",
       "    <tr style=\"text-align: right;\">\n",
       "      <th></th>\n",
       "      <th>RECORD_TIME</th>\n",
       "    </tr>\n",
       "  </thead>\n",
       "  <tbody>\n",
       "    <tr>\n",
       "      <th>0</th>\n",
       "      <td>2021-10-07 12:00</td>\n",
       "    </tr>\n",
       "    <tr>\n",
       "      <th>1</th>\n",
       "      <td>2021-10-07 11:30</td>\n",
       "    </tr>\n",
       "  </tbody>\n",
       "</table>\n",
       "</div>"
      ],
      "text/plain": [
       "        RECORD_TIME\n",
       "0  2021-10-07 12:00\n",
       "1  2021-10-07 11:30"
      ]
     },
     "execution_count": 3,
     "metadata": {},
     "output_type": "execute_result"
    }
   ],
   "source": [
    "timestamps"
   ]
  },
  {
   "cell_type": "code",
   "execution_count": 4,
   "id": "alternate-victory",
   "metadata": {
    "execution": {
     "iopub.execute_input": "2021-10-07T10:00:09.138631Z",
     "iopub.status.busy": "2021-10-07T10:00:09.136789Z",
     "iopub.status.idle": "2021-10-07T10:00:09.837921Z",
     "shell.execute_reply": "2021-10-07T10:00:09.839363Z"
    },
    "papermill": {
     "duration": 0.734082,
     "end_time": "2021-10-07T10:00:09.839822",
     "exception": false,
     "start_time": "2021-10-07T10:00:09.105740",
     "status": "completed"
    },
    "tags": []
   },
   "outputs": [],
   "source": [
    "df = pd.read_sql(\"select * from EBAY_TOP_BERLIN where record_time in (select distinct record_time from EBAY_TOP_BERLIN order by record_time desc limit 2)\", sqlite3.connect(\"UsedObjects.db\"))"
   ]
  },
  {
   "cell_type": "code",
   "execution_count": 5,
   "id": "popular-active",
   "metadata": {
    "execution": {
     "iopub.execute_input": "2021-10-07T10:00:09.909963Z",
     "iopub.status.busy": "2021-10-07T10:00:09.898216Z",
     "iopub.status.idle": "2021-10-07T10:00:09.927487Z",
     "shell.execute_reply": "2021-10-07T10:00:09.928774Z"
    },
    "papermill": {
     "duration": 0.069368,
     "end_time": "2021-10-07T10:00:09.929229",
     "exception": false,
     "start_time": "2021-10-07T10:00:09.859861",
     "status": "completed"
    },
    "tags": []
   },
   "outputs": [],
   "source": [
    "df_pivot = df.pivot_table(index=\"PRODUCT\", columns = \"RECORD_TIME\", values = \"LISTING_COUNT\")"
   ]
  },
  {
   "cell_type": "code",
   "execution_count": 6,
   "id": "union-huntington",
   "metadata": {
    "execution": {
     "iopub.execute_input": "2021-10-07T10:00:09.986758Z",
     "iopub.status.busy": "2021-10-07T10:00:09.984320Z",
     "iopub.status.idle": "2021-10-07T10:00:09.990104Z",
     "shell.execute_reply": "2021-10-07T10:00:09.991451Z"
    },
    "papermill": {
     "duration": 0.042323,
     "end_time": "2021-10-07T10:00:09.991874",
     "exception": false,
     "start_time": "2021-10-07T10:00:09.949551",
     "status": "completed"
    },
    "tags": []
   },
   "outputs": [],
   "source": [
    "df_pivot.columns = [\"stamp_1\", \"stamp_2\"]\n",
    "df_pivot_diff = df_pivot.diff(axis=1)"
   ]
  },
  {
   "cell_type": "code",
   "execution_count": 7,
   "id": "fifth-motion",
   "metadata": {
    "execution": {
     "iopub.execute_input": "2021-10-07T10:00:10.046619Z",
     "iopub.status.busy": "2021-10-07T10:00:10.044348Z",
     "iopub.status.idle": "2021-10-07T10:00:11.524092Z",
     "shell.execute_reply": "2021-10-07T10:00:11.525384Z"
    },
    "papermill": {
     "duration": 1.513095,
     "end_time": "2021-10-07T10:00:11.525807",
     "exception": false,
     "start_time": "2021-10-07T10:00:10.012712",
     "status": "completed"
    },
    "tags": []
   },
   "outputs": [
    {
     "data": {
      "text/plain": [
       "<AxesSubplot:ylabel='PRODUCT'>"
      ]
     },
     "execution_count": 7,
     "metadata": {},
     "output_type": "execute_result"
    },
    {
     "data": {
      "image/png": "[encoded data removed]",
      "text/plain": [
       "<Figure size 432x288 with 1 Axes>"
      ]
     },
     "metadata": {
      "needs_background": "light"
     },
     "output_type": "display_data"
    }
   ],
   "source": [
    "df_pivot_diff.sort_values(\"stamp_2\", ascending = False)[\"stamp_2\"].head(10).plot.barh()"
   ]
  },
  {
   "cell_type": "code",
   "execution_count": null,
   "id": "extra-executive",
   "metadata": {
    "papermill": {
     "duration": 0.022275,
     "end_time": "2021-10-07T10:00:11.571791",
     "exception": false,
     "start_time": "2021-10-07T10:00:11.549516",
     "status": "completed"
    },
    "tags": []
   },
   "outputs": [],
   "source": []
  }
 ],
 "metadata": {
  "kernelspec": {
   "display_name": "Python 3",
   "language": "python",
   "name": "python3"
  },
  "language_info": {
   "codemirror_mode": {
    "name": "ipython",
    "version": 3
   },
   "file_extension": ".py",
   "mimetype": "text/x-python",
   "name": "python",
   "nbconvert_exporter": "python",
   "pygments_lexer": "ipython3",
   "version": "3.9.5"
  },
  "papermill": {
   "default_parameters": {},
   "duration": 7.823268,
   "end_time": "2021-10-07T10:00:13.015811",
   "environment_variables": {},
   "exception": null,
   "input_path": "eBay_Overview.ipynb",
   "output_path": "eBay_Overview.ipynb",
   "parameters": {},
   "start_time": "2021-10-07T10:00:05.192543",
   "version": "2.3.3"
  }
 },
 "nbformat": 4,
 "nbformat_minor": 5
}