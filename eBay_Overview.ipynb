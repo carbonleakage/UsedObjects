{
 "cells": [
  {
   "cell_type": "code",
   "execution_count": 1,
   "id": "reverse-picking",
   "metadata": {
    "execution": {
     "iopub.execute_input": "2021-12-07T04:00:08.215551Z",
     "iopub.status.busy": "2021-12-07T04:00:08.208495Z",
     "iopub.status.idle": "2021-12-07T04:00:09.161177Z",
     "shell.execute_reply": "2021-12-07T04:00:09.162647Z"
    },
    "papermill": {
     "duration": 1.001811,
     "end_time": "2021-12-07T04:00:09.163409",
     "exception": false,
     "start_time": "2021-12-07T04:00:08.161598",
     "status": "completed"
    },
    "tags": []
   },
   "outputs": [],
   "source": [
    "import pandas as pd\n",
    "import sqlite3"
   ]
  },
  {
   "cell_type": "code",
   "execution_count": 2,
   "id": "innovative-syndrome",
   "metadata": {
    "execution": {
     "iopub.execute_input": "2021-12-07T04:00:09.289121Z",
     "iopub.status.busy": "2021-12-07T04:00:09.286468Z",
     "iopub.status.idle": "2021-12-07T04:00:10.297841Z",
     "shell.execute_reply": "2021-12-07T04:00:10.299545Z"
    },
    "papermill": {
     "duration": 1.049172,
     "end_time": "2021-12-07T04:00:10.300149",
     "exception": false,
     "start_time": "2021-12-07T04:00:09.250977",
     "status": "completed"
    },
    "tags": []
   },
   "outputs": [],
   "source": [
    "timestamps = pd.read_sql(\"select distinct record_time from EBAY_TOP_BERLIN order by record_time desc limit 2\", sqlite3.connect(\"UsedObjects.db\"))"
   ]
  },
  {
   "cell_type": "code",
   "execution_count": 3,
   "id": "periodic-identification",
   "metadata": {
    "execution": {
     "iopub.execute_input": "2021-12-07T04:00:10.373594Z",
     "iopub.status.busy": "2021-12-07T04:00:10.370934Z",
     "iopub.status.idle": "2021-12-07T04:00:10.392773Z",
     "shell.execute_reply": "2021-12-07T04:00:10.394556Z"
    },
    "papermill": {
     "duration": 0.074251,
     "end_time": "2021-12-07T04:00:10.395106",
     "exception": false,
     "start_time": "2021-12-07T04:00:10.320855",
     "status": "completed"
    },
    "tags": []
   },
   "outputs": [
    {
     "data": {
      "text/html": [
       "<div>\n",
       "<style scoped>\n",
       "    .dataframe tbody tr th:only-of-type {\n",
       "        vertical-align: middle;\n",
       "    }\n",
       "\n",
       "    .dataframe tbody tr th {\n",
       "        vertical-align: top;\n",
       "    }\n",
       "\n",
       "    .dataframe thead th {\n",
       "        text-align: right;\n",
       "    }\n",
       "</style>\n",
       "<table border=\"1\" class=\"dataframe\">\n",
       "  <thead>\n",
       "    <tr style=\"text-align: right;\">\n",
       "      <th></th>\n",
       "      <th>RECORD_TIME</th>\n",
       "    </tr>\n",
       "  </thead>\n",
       "  <tbody>\n",
       "    <tr>\n",
       "      <th>0</th>\n",
       "      <td>2021-12-07 05:00</td>\n",
       "    </tr>\n",
       "    <tr>\n",
       "      <th>1</th>\n",
       "      <td>2021-12-07 04:30</td>\n",
       "    </tr>\n",
       "  </tbody>\n",
       "</table>\n",
       "</div>"
      ],
      "text/plain": [
       "        RECORD_TIME\n",
       "0  2021-12-07 05:00\n",
       "1  2021-12-07 04:30"
      ]
     },
     "execution_count": 3,
     "metadata": {},
     "output_type": "execute_result"
    }
   ],
   "source": [
    "timestamps"
   ]
  },
  {
   "cell_type": "code",
   "execution_count": 4,
   "id": "alternate-victory",
   "metadata": {
    "execution": {
     "iopub.execute_input": "2021-12-07T04:00:10.448648Z",
     "iopub.status.busy": "2021-12-07T04:00:10.446262Z",
     "iopub.status.idle": "2021-12-07T04:00:11.930202Z",
     "shell.execute_reply": "2021-12-07T04:00:11.933013Z"
    },
    "papermill": {
     "duration": 1.517779,
     "end_time": "2021-12-07T04:00:11.933824",
     "exception": false,
     "start_time": "2021-12-07T04:00:10.416045",
     "status": "completed"
    },
    "tags": []
   },
   "outputs": [],
   "source": [
    "df = pd.read_sql(\"select * from EBAY_TOP_BERLIN where record_time in (select distinct record_time from EBAY_TOP_BERLIN order by record_time desc limit 2)\", sqlite3.connect(\"UsedObjects.db\"))"
   ]
  },
  {
   "cell_type": "code",
   "execution_count": 5,
   "id": "popular-active",
   "metadata": {
    "execution": {
     "iopub.execute_input": "2021-12-07T04:00:12.047364Z",
     "iopub.status.busy": "2021-12-07T04:00:12.029777Z",
     "iopub.status.idle": "2021-12-07T04:00:12.073988Z",
     "shell.execute_reply": "2021-12-07T04:00:12.076457Z"
    },
    "papermill": {
     "duration": 0.110594,
     "end_time": "2021-12-07T04:00:12.077243",
     "exception": false,
     "start_time": "2021-12-07T04:00:11.966649",
     "status": "completed"
    },
    "tags": []
   },
   "outputs": [],
   "source": [
    "df_pivot = df.pivot_table(index=\"PRODUCT\", columns = \"RECORD_TIME\", values = \"LISTING_COUNT\")"
   ]
  },
  {
   "cell_type": "code",
   "execution_count": 6,
   "id": "union-huntington",
   "metadata": {
    "execution": {
     "iopub.execute_input": "2021-12-07T04:00:12.169989Z",
     "iopub.status.busy": "2021-12-07T04:00:12.166485Z",
     "iopub.status.idle": "2021-12-07T04:00:12.177152Z",
     "shell.execute_reply": "2021-12-07T04:00:12.180437Z"
    },
    "papermill": {
     "duration": 0.069492,
     "end_time": "2021-12-07T04:00:12.181468",
     "exception": false,
     "start_time": "2021-12-07T04:00:12.111976",
     "status": "completed"
    },
    "tags": []
   },
   "outputs": [],
   "source": [
    "df_pivot.columns = [\"stamp_1\", \"stamp_2\"]\n",
    "df_pivot_diff = df_pivot.diff(axis=1)"
   ]
  },
  {
   "cell_type": "code",
   "execution_count": 7,
   "id": "fifth-motion",
   "metadata": {
    "execution": {
     "iopub.execute_input": "2021-12-07T04:00:12.253087Z",
     "iopub.status.busy": "2021-12-07T04:00:12.250070Z",
     "iopub.status.idle": "2021-12-07T04:00:13.918618Z",
     "shell.execute_reply": "2021-12-07T04:00:13.919895Z"
    },
    "papermill": {
     "duration": 1.712768,
     "end_time": "2021-12-07T04:00:13.920321",
     "exception": false,
     "start_time": "2021-12-07T04:00:12.207553",
     "status": "completed"
    },
    "tags": []
   },
   "outputs": [
    {
     "data": {
      "text/plain": [
       "<AxesSubplot:ylabel='PRODUCT'>"
      ]
     },
     "execution_count": 7,
     "metadata": {},
     "output_type": "execute_result"
    },
    {
     "data": {
      "image/png": "[encoded data removed]",
      "text/plain": [
       "<Figure size 432x288 with 1 Axes>"
      ]
     },
     "metadata": {
      "needs_background": "light"
     },
     "output_type": "display_data"
    }
   ],
   "source": [
    "df_pivot_diff.sort_values(\"stamp_2\", ascending = False)[\"stamp_2\"].head(10).plot.barh()"
   ]
  },
  {
   "cell_type": "code",
   "execution_count": null,
   "id": "extra-executive",
   "metadata": {
    "papermill": {
     "duration": 0.021921,
     "end_time": "2021-12-07T04:00:13.967001",
     "exception": false,
     "start_time": "2021-12-07T04:00:13.945080",
     "status": "completed"
    },
    "tags": []
   },
   "outputs": [],
   "source": []
  }
 ],
 "metadata": {
  "kernelspec": {
   "display_name": "Python 3",
   "language": "python",
   "name": "python3"
  },
  "language_info": {
   "codemirror_mode": {
    "name": "ipython",
    "version": 3
   },
   "file_extension": ".py",
   "mimetype": "text/x-python",
   "name": "python",
   "nbconvert_exporter": "python",
   "pygments_lexer": "ipython3",
   "version": "3.9.5"
  },
  "papermill": {
   "default_parameters": {},
   "duration": 9.944745,
   "end_time": "2021-12-07T04:00:15.379397",
   "environment_variables": {},
   "exception": null,
   "input_path": "eBay_Overview.ipynb",
   "output_path": "eBay_Overview.ipynb",
   "parameters": {},
   "start_time": "2021-12-07T04:00:05.434652",
   "version": "2.3.3"
  }
 },
 "nbformat": 4,
 "nbformat_minor": 5
}