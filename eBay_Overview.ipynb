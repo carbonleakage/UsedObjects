{
 "cells": [
  {
   "cell_type": "code",
   "execution_count": 1,
   "id": "reverse-picking",
   "metadata": {
    "execution": {
     "iopub.execute_input": "2021-10-05T10:00:07.159418Z",
     "iopub.status.busy": "2021-10-05T10:00:07.157404Z",
     "iopub.status.idle": "2021-10-05T10:00:07.965626Z",
     "shell.execute_reply": "2021-10-05T10:00:07.964073Z"
    },
    "papermill": {
     "duration": 0.858321,
     "end_time": "2021-10-05T10:00:07.966026",
     "exception": false,
     "start_time": "2021-10-05T10:00:07.107705",
     "status": "completed"
    },
    "tags": []
   },
   "outputs": [],
   "source": [
    "import pandas as pd\n",
    "import sqlite3"
   ]
  },
  {
   "cell_type": "code",
   "execution_count": 2,
   "id": "innovative-syndrome",
   "metadata": {
    "execution": {
     "iopub.execute_input": "2021-10-05T10:00:08.017139Z",
     "iopub.status.busy": "2021-10-05T10:00:08.015292Z",
     "iopub.status.idle": "2021-10-05T10:00:08.471856Z",
     "shell.execute_reply": "2021-10-05T10:00:08.473061Z"
    },
    "papermill": {
     "duration": 0.486313,
     "end_time": "2021-10-05T10:00:08.473450",
     "exception": false,
     "start_time": "2021-10-05T10:00:07.987137",
     "status": "completed"
    },
    "tags": []
   },
   "outputs": [],
   "source": [
    "timestamps = pd.read_sql(\"select distinct record_time from EBAY_TOP_BERLIN order by record_time desc limit 2\", sqlite3.connect(\"UsedObjects.db\"))"
   ]
  },
  {
   "cell_type": "code",
   "execution_count": 3,
   "id": "periodic-identification",
   "metadata": {
    "execution": {
     "iopub.execute_input": "2021-10-05T10:00:08.542938Z",
     "iopub.status.busy": "2021-10-05T10:00:08.540846Z",
     "iopub.status.idle": "2021-10-05T10:00:08.560617Z",
     "shell.execute_reply": "2021-10-05T10:00:08.561911Z"
    },
    "papermill": {
     "duration": 0.066219,
     "end_time": "2021-10-05T10:00:08.562320",
     "exception": false,
     "start_time": "2021-10-05T10:00:08.496101",
     "status": "completed"
    },
    "tags": []
   },
   "outputs": [
    {
     "data": {
      "text/html": [
       "<div>\n",
       "<style scoped>\n",
       "    .dataframe tbody tr th:only-of-type {\n",
       "        vertical-align: middle;\n",
       "    }\n",
       "\n",
       "    .dataframe tbody tr th {\n",
       "        vertical-align: top;\n",
       "    }\n",
       "\n",
       "    .dataframe thead th {\n",
       "        text-align: right;\n",
       "    }\n",
       "</style>\n",
       "<table border=\"1\" class=\"dataframe\">\n",
       "  <thead>\n",
       "    <tr style=\"text-align: right;\">\n",
       "      <th></th>\n",
       "      <th>RECORD_TIME</th>\n",
       "    </tr>\n",
       "  </thead>\n",
       "  <tbody>\n",
       "    <tr>\n",
       "      <th>0</th>\n",
       "      <td>2021-10-05 12:00</td>\n",
       "    </tr>\n",
       "    <tr>\n",
       "      <th>1</th>\n",
       "      <td>2021-10-05 11:30</td>\n",
       "    </tr>\n",
       "  </tbody>\n",
       "</table>\n",
       "</div>"
      ],
      "text/plain": [
       "        RECORD_TIME\n",
       "0  2021-10-05 12:00\n",
       "1  2021-10-05 11:30"
      ]
     },
     "execution_count": 3,
     "metadata": {},
     "output_type": "execute_result"
    }
   ],
   "source": [
    "timestamps"
   ]
  },
  {
   "cell_type": "code",
   "execution_count": 4,
   "id": "alternate-victory",
   "metadata": {
    "execution": {
     "iopub.execute_input": "2021-10-05T10:00:08.622949Z",
     "iopub.status.busy": "2021-10-05T10:00:08.620790Z",
     "iopub.status.idle": "2021-10-05T10:00:09.283538Z",
     "shell.execute_reply": "2021-10-05T10:00:09.284788Z"
    },
    "papermill": {
     "duration": 0.697345,
     "end_time": "2021-10-05T10:00:09.285185",
     "exception": false,
     "start_time": "2021-10-05T10:00:08.587840",
     "status": "completed"
    },
    "tags": []
   },
   "outputs": [],
   "source": [
    "df = pd.read_sql(\"select * from EBAY_TOP_BERLIN where record_time in (select distinct record_time from EBAY_TOP_BERLIN order by record_time desc limit 2)\", sqlite3.connect(\"UsedObjects.db\"))"
   ]
  },
  {
   "cell_type": "code",
   "execution_count": 5,
   "id": "popular-active",
   "metadata": {
    "execution": {
     "iopub.execute_input": "2021-10-05T10:00:09.360175Z",
     "iopub.status.busy": "2021-10-05T10:00:09.348160Z",
     "iopub.status.idle": "2021-10-05T10:00:09.375690Z",
     "shell.execute_reply": "2021-10-05T10:00:09.376922Z"
    },
    "papermill": {
     "duration": 0.068307,
     "end_time": "2021-10-05T10:00:09.377314",
     "exception": false,
     "start_time": "2021-10-05T10:00:09.309007",
     "status": "completed"
    },
    "tags": []
   },
   "outputs": [],
   "source": [
    "df_pivot = df.pivot_table(index=\"PRODUCT\", columns = \"RECORD_TIME\", values = \"LISTING_COUNT\")"
   ]
  },
  {
   "cell_type": "code",
   "execution_count": 6,
   "id": "union-huntington",
   "metadata": {
    "execution": {
     "iopub.execute_input": "2021-10-05T10:00:09.437260Z",
     "iopub.status.busy": "2021-10-05T10:00:09.434731Z",
     "iopub.status.idle": "2021-10-05T10:00:09.440694Z",
     "shell.execute_reply": "2021-10-05T10:00:09.442059Z"
    },
    "papermill": {
     "duration": 0.042588,
     "end_time": "2021-10-05T10:00:09.442496",
     "exception": false,
     "start_time": "2021-10-05T10:00:09.399908",
     "status": "completed"
    },
    "tags": []
   },
   "outputs": [],
   "source": [
    "df_pivot.columns = [\"stamp_1\", \"stamp_2\"]\n",
    "df_pivot_diff = df_pivot.diff(axis=1)"
   ]
  },
  {
   "cell_type": "code",
   "execution_count": 7,
   "id": "fifth-motion",
   "metadata": {
    "execution": {
     "iopub.execute_input": "2021-10-05T10:00:09.497602Z",
     "iopub.status.busy": "2021-10-05T10:00:09.495232Z",
     "iopub.status.idle": "2021-10-05T10:00:10.970702Z",
     "shell.execute_reply": "2021-10-05T10:00:10.972137Z"
    },
    "papermill": {
     "duration": 1.508641,
     "end_time": "2021-10-05T10:00:10.972575",
     "exception": false,
     "start_time": "2021-10-05T10:00:09.463934",
     "status": "completed"
    },
    "tags": []
   },
   "outputs": [
    {
     "data": {
      "text/plain": [
       "<AxesSubplot:ylabel='PRODUCT'>"
      ]
     },
     "execution_count": 7,
     "metadata": {},
     "output_type": "execute_result"
    },
    {
     "data": {
      "image/png": "[encoded data removed]",
      "text/plain": [
       "<Figure size 432x288 with 1 Axes>"
      ]
     },
     "metadata": {
      "needs_background": "light"
     },
     "output_type": "display_data"
    }
   ],
   "source": [
    "df_pivot_diff.sort_values(\"stamp_2\", ascending = False)[\"stamp_2\"].head(10).plot.barh()"
   ]
  },
  {
   "cell_type": "code",
   "execution_count": null,
   "id": "extra-executive",
   "metadata": {
    "papermill": {
     "duration": 0.022319,
     "end_time": "2021-10-05T10:00:11.019855",
     "exception": false,
     "start_time": "2021-10-05T10:00:10.997536",
     "status": "completed"
    },
    "tags": []
   },
   "outputs": [],
   "source": []
  }
 ],
 "metadata": {
  "kernelspec": {
   "display_name": "Python 3",
   "language": "python",
   "name": "python3"
  },
  "language_info": {
   "codemirror_mode": {
    "name": "ipython",
    "version": 3
   },
   "file_extension": ".py",
   "mimetype": "text/x-python",
   "name": "python",
   "nbconvert_exporter": "python",
   "pygments_lexer": "ipython3",
   "version": "3.9.5"
  },
  "papermill": {
   "default_parameters": {},
   "duration": 7.824534,
   "end_time": "2021-10-05T10:00:12.524682",
   "environment_variables": {},
   "exception": null,
   "input_path": "eBay_Overview.ipynb",
   "output_path": "eBay_Overview.ipynb",
   "parameters": {},
   "start_time": "2021-10-05T10:00:04.700148",
   "version": "2.3.3"
  }
 },
 "nbformat": 4,
 "nbformat_minor": 5
}