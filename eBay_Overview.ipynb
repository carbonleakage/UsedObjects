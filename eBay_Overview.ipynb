{
 "cells": [
  {
   "cell_type": "code",
   "execution_count": 1,
   "id": "reverse-picking",
   "metadata": {
    "execution": {
     "iopub.execute_input": "2021-08-25T08:30:06.819711Z",
     "iopub.status.busy": "2021-08-25T08:30:06.817700Z",
     "iopub.status.idle": "2021-08-25T08:30:07.630331Z",
     "shell.execute_reply": "2021-08-25T08:30:07.628579Z"
    },
    "papermill": {
     "duration": 0.863522,
     "end_time": "2021-08-25T08:30:07.630748",
     "exception": false,
     "start_time": "2021-08-25T08:30:06.767226",
     "status": "completed"
    },
    "tags": []
   },
   "outputs": [],
   "source": [
    "import pandas as pd\n",
    "import sqlite3"
   ]
  },
  {
   "cell_type": "code",
   "execution_count": 2,
   "id": "innovative-syndrome",
   "metadata": {
    "execution": {
     "iopub.execute_input": "2021-08-25T08:30:07.683613Z",
     "iopub.status.busy": "2021-08-25T08:30:07.681228Z",
     "iopub.status.idle": "2021-08-25T08:30:07.807174Z",
     "shell.execute_reply": "2021-08-25T08:30:07.808411Z"
    },
    "papermill": {
     "duration": 0.155955,
     "end_time": "2021-08-25T08:30:07.808807",
     "exception": false,
     "start_time": "2021-08-25T08:30:07.652852",
     "status": "completed"
    },
    "tags": []
   },
   "outputs": [],
   "source": [
    "timestamps = pd.read_sql(\"select distinct record_time from EBAY_TOP_BERLIN order by record_time desc limit 2\", sqlite3.connect(\"UsedObjects.db\"))"
   ]
  },
  {
   "cell_type": "code",
   "execution_count": 3,
   "id": "periodic-identification",
   "metadata": {
    "execution": {
     "iopub.execute_input": "2021-08-25T08:30:07.872836Z",
     "iopub.status.busy": "2021-08-25T08:30:07.870806Z",
     "iopub.status.idle": "2021-08-25T08:30:07.890833Z",
     "shell.execute_reply": "2021-08-25T08:30:07.891961Z"
    },
    "papermill": {
     "duration": 0.064229,
     "end_time": "2021-08-25T08:30:07.892361",
     "exception": false,
     "start_time": "2021-08-25T08:30:07.828132",
     "status": "completed"
    },
    "tags": []
   },
   "outputs": [
    {
     "data": {
      "text/html": [
       "<div>\n",
       "<style scoped>\n",
       "    .dataframe tbody tr th:only-of-type {\n",
       "        vertical-align: middle;\n",
       "    }\n",
       "\n",
       "    .dataframe tbody tr th {\n",
       "        vertical-align: top;\n",
       "    }\n",
       "\n",
       "    .dataframe thead th {\n",
       "        text-align: right;\n",
       "    }\n",
       "</style>\n",
       "<table border=\"1\" class=\"dataframe\">\n",
       "  <thead>\n",
       "    <tr style=\"text-align: right;\">\n",
       "      <th></th>\n",
       "      <th>RECORD_TIME</th>\n",
       "    </tr>\n",
       "  </thead>\n",
       "  <tbody>\n",
       "    <tr>\n",
       "      <th>0</th>\n",
       "      <td>2021-08-25 10:30</td>\n",
       "    </tr>\n",
       "    <tr>\n",
       "      <th>1</th>\n",
       "      <td>2021-08-25 10:00</td>\n",
       "    </tr>\n",
       "  </tbody>\n",
       "</table>\n",
       "</div>"
      ],
      "text/plain": [
       "        RECORD_TIME\n",
       "0  2021-08-25 10:30\n",
       "1  2021-08-25 10:00"
      ]
     },
     "execution_count": 3,
     "metadata": {},
     "output_type": "execute_result"
    }
   ],
   "source": [
    "timestamps"
   ]
  },
  {
   "cell_type": "code",
   "execution_count": 4,
   "id": "alternate-victory",
   "metadata": {
    "execution": {
     "iopub.execute_input": "2021-08-25T08:30:07.946743Z",
     "iopub.status.busy": "2021-08-25T08:30:07.944398Z",
     "iopub.status.idle": "2021-08-25T08:30:08.136671Z",
     "shell.execute_reply": "2021-08-25T08:30:08.137994Z"
    },
    "papermill": {
     "duration": 0.222893,
     "end_time": "2021-08-25T08:30:08.138443",
     "exception": false,
     "start_time": "2021-08-25T08:30:07.915550",
     "status": "completed"
    },
    "tags": []
   },
   "outputs": [],
   "source": [
    "df = pd.read_sql(\"select * from EBAY_TOP_BERLIN where record_time in (select distinct record_time from EBAY_TOP_BERLIN order by record_time desc limit 2)\", sqlite3.connect(\"UsedObjects.db\"))"
   ]
  },
  {
   "cell_type": "code",
   "execution_count": 5,
   "id": "popular-active",
   "metadata": {
    "execution": {
     "iopub.execute_input": "2021-08-25T08:30:08.210607Z",
     "iopub.status.busy": "2021-08-25T08:30:08.198313Z",
     "iopub.status.idle": "2021-08-25T08:30:08.226347Z",
     "shell.execute_reply": "2021-08-25T08:30:08.227638Z"
    },
    "papermill": {
     "duration": 0.068764,
     "end_time": "2021-08-25T08:30:08.228051",
     "exception": false,
     "start_time": "2021-08-25T08:30:08.159287",
     "status": "completed"
    },
    "tags": []
   },
   "outputs": [],
   "source": [
    "df_pivot = df.pivot_table(index=\"PRODUCT\", columns = \"RECORD_TIME\", values = \"LISTING_COUNT\")"
   ]
  },
  {
   "cell_type": "code",
   "execution_count": 6,
   "id": "union-huntington",
   "metadata": {
    "execution": {
     "iopub.execute_input": "2021-08-25T08:30:08.293750Z",
     "iopub.status.busy": "2021-08-25T08:30:08.291710Z",
     "iopub.status.idle": "2021-08-25T08:30:08.297088Z",
     "shell.execute_reply": "2021-08-25T08:30:08.298335Z"
    },
    "papermill": {
     "duration": 0.04447,
     "end_time": "2021-08-25T08:30:08.298769",
     "exception": false,
     "start_time": "2021-08-25T08:30:08.254299",
     "status": "completed"
    },
    "tags": []
   },
   "outputs": [],
   "source": [
    "df_pivot.columns = [\"stamp_1\", \"stamp_2\"]\n",
    "df_pivot_diff = df_pivot.diff(axis=1)"
   ]
  },
  {
   "cell_type": "code",
   "execution_count": 7,
   "id": "fifth-motion",
   "metadata": {
    "execution": {
     "iopub.execute_input": "2021-08-25T08:30:08.355933Z",
     "iopub.status.busy": "2021-08-25T08:30:08.353396Z",
     "iopub.status.idle": "2021-08-25T08:30:09.862608Z",
     "shell.execute_reply": "2021-08-25T08:30:09.863881Z"
    },
    "papermill": {
     "duration": 1.542478,
     "end_time": "2021-08-25T08:30:09.864293",
     "exception": false,
     "start_time": "2021-08-25T08:30:08.321815",
     "status": "completed"
    },
    "tags": []
   },
   "outputs": [
    {
     "data": {
      "text/plain": [
       "<AxesSubplot:ylabel='PRODUCT'>"
      ]
     },
     "execution_count": 7,
     "metadata": {},
     "output_type": "execute_result"
    },
    {
     "data": {
      "image/png": "[encoded data removed]",
      "text/plain": [
       "<Figure size 432x288 with 1 Axes>"
      ]
     },
     "metadata": {
      "needs_background": "light"
     },
     "output_type": "display_data"
    }
   ],
   "source": [
    "df_pivot_diff.sort_values(\"stamp_2\", ascending = False)[\"stamp_2\"].head(10).plot.barh()"
   ]
  },
  {
   "cell_type": "code",
   "execution_count": null,
   "id": "extra-executive",
   "metadata": {
    "papermill": {
     "duration": 0.022248,
     "end_time": "2021-08-25T08:30:09.911144",
     "exception": false,
     "start_time": "2021-08-25T08:30:09.888896",
     "status": "completed"
    },
    "tags": []
   },
   "outputs": [],
   "source": []
  }
 ],
 "metadata": {
  "kernelspec": {
   "display_name": "Python 3",
   "language": "python",
   "name": "python3"
  },
  "language_info": {
   "codemirror_mode": {
    "name": "ipython",
    "version": 3
   },
   "file_extension": ".py",
   "mimetype": "text/x-python",
   "name": "python",
   "nbconvert_exporter": "python",
   "pygments_lexer": "ipython3",
   "version": "3.9.5"
  },
  "papermill": {
   "default_parameters": {},
   "duration": 6.832523,
   "end_time": "2021-08-25T08:30:11.182231",
   "environment_variables": {},
   "exception": null,
   "input_path": "eBay_Overview.ipynb",
   "output_path": "eBay_Overview.ipynb",
   "parameters": {},
   "start_time": "2021-08-25T08:30:04.349708",
   "version": "2.3.3"
  }
 },
 "nbformat": 4,
 "nbformat_minor": 5
}