{
 "cells": [
  {
   "cell_type": "code",
   "execution_count": 1,
   "id": "reverse-picking",
   "metadata": {
    "execution": {
     "iopub.execute_input": "2021-12-10T08:00:07.741870Z",
     "iopub.status.busy": "2021-12-10T08:00:07.739666Z",
     "iopub.status.idle": "2021-12-10T08:00:08.695557Z",
     "shell.execute_reply": "2021-12-10T08:00:08.697092Z"
    },
    "papermill": {
     "duration": 1.005066,
     "end_time": "2021-12-10T08:00:08.697740",
     "exception": false,
     "start_time": "2021-12-10T08:00:07.692674",
     "status": "completed"
    },
    "tags": []
   },
   "outputs": [],
   "source": [
    "import pandas as pd\n",
    "import sqlite3"
   ]
  },
  {
   "cell_type": "code",
   "execution_count": 2,
   "id": "innovative-syndrome",
   "metadata": {
    "execution": {
     "iopub.execute_input": "2021-12-10T08:00:08.809854Z",
     "iopub.status.busy": "2021-12-10T08:00:08.807644Z",
     "iopub.status.idle": "2021-12-10T08:00:09.853872Z",
     "shell.execute_reply": "2021-12-10T08:00:09.855531Z"
    },
    "papermill": {
     "duration": 1.134712,
     "end_time": "2021-12-10T08:00:09.856003",
     "exception": false,
     "start_time": "2021-12-10T08:00:08.721291",
     "status": "completed"
    },
    "tags": []
   },
   "outputs": [],
   "source": [
    "timestamps = pd.read_sql(\"select distinct record_time from EBAY_TOP_BERLIN order by record_time desc limit 2\", sqlite3.connect(\"UsedObjects.db\"))"
   ]
  },
  {
   "cell_type": "code",
   "execution_count": 3,
   "id": "periodic-identification",
   "metadata": {
    "execution": {
     "iopub.execute_input": "2021-12-10T08:00:09.953160Z",
     "iopub.status.busy": "2021-12-10T08:00:09.950707Z",
     "iopub.status.idle": "2021-12-10T08:00:09.975919Z",
     "shell.execute_reply": "2021-12-10T08:00:09.977854Z"
    },
    "papermill": {
     "duration": 0.09684,
     "end_time": "2021-12-10T08:00:09.978369",
     "exception": false,
     "start_time": "2021-12-10T08:00:09.881529",
     "status": "completed"
    },
    "tags": []
   },
   "outputs": [
    {
     "data": {
      "text/html": [
       "<div>\n",
       "<style scoped>\n",
       "    .dataframe tbody tr th:only-of-type {\n",
       "        vertical-align: middle;\n",
       "    }\n",
       "\n",
       "    .dataframe tbody tr th {\n",
       "        vertical-align: top;\n",
       "    }\n",
       "\n",
       "    .dataframe thead th {\n",
       "        text-align: right;\n",
       "    }\n",
       "</style>\n",
       "<table border=\"1\" class=\"dataframe\">\n",
       "  <thead>\n",
       "    <tr style=\"text-align: right;\">\n",
       "      <th></th>\n",
       "      <th>RECORD_TIME</th>\n",
       "    </tr>\n",
       "  </thead>\n",
       "  <tbody>\n",
       "    <tr>\n",
       "      <th>0</th>\n",
       "      <td>2021-12-10 09:00</td>\n",
       "    </tr>\n",
       "    <tr>\n",
       "      <th>1</th>\n",
       "      <td>2021-12-10 08:30</td>\n",
       "    </tr>\n",
       "  </tbody>\n",
       "</table>\n",
       "</div>"
      ],
      "text/plain": [
       "        RECORD_TIME\n",
       "0  2021-12-10 09:00\n",
       "1  2021-12-10 08:30"
      ]
     },
     "execution_count": 3,
     "metadata": {},
     "output_type": "execute_result"
    }
   ],
   "source": [
    "timestamps"
   ]
  },
  {
   "cell_type": "code",
   "execution_count": 4,
   "id": "alternate-victory",
   "metadata": {
    "execution": {
     "iopub.execute_input": "2021-12-10T08:00:10.035556Z",
     "iopub.status.busy": "2021-12-10T08:00:10.033374Z",
     "iopub.status.idle": "2021-12-10T08:00:11.571221Z",
     "shell.execute_reply": "2021-12-10T08:00:11.566660Z"
    },
    "papermill": {
     "duration": 1.571346,
     "end_time": "2021-12-10T08:00:11.571984",
     "exception": false,
     "start_time": "2021-12-10T08:00:10.000638",
     "status": "completed"
    },
    "tags": []
   },
   "outputs": [],
   "source": [
    "df = pd.read_sql(\"select * from EBAY_TOP_BERLIN where record_time in (select distinct record_time from EBAY_TOP_BERLIN order by record_time desc limit 2)\", sqlite3.connect(\"UsedObjects.db\"))"
   ]
  },
  {
   "cell_type": "code",
   "execution_count": 5,
   "id": "popular-active",
   "metadata": {
    "execution": {
     "iopub.execute_input": "2021-12-10T08:00:11.689944Z",
     "iopub.status.busy": "2021-12-10T08:00:11.673295Z",
     "iopub.status.idle": "2021-12-10T08:00:11.712885Z",
     "shell.execute_reply": "2021-12-10T08:00:11.715003Z"
    },
    "papermill": {
     "duration": 0.110801,
     "end_time": "2021-12-10T08:00:11.715778",
     "exception": false,
     "start_time": "2021-12-10T08:00:11.604977",
     "status": "completed"
    },
    "tags": []
   },
   "outputs": [],
   "source": [
    "df_pivot = df.pivot_table(index=\"PRODUCT\", columns = \"RECORD_TIME\", values = \"LISTING_COUNT\")"
   ]
  },
  {
   "cell_type": "code",
   "execution_count": 6,
   "id": "union-huntington",
   "metadata": {
    "execution": {
     "iopub.execute_input": "2021-12-10T08:00:11.808593Z",
     "iopub.status.busy": "2021-12-10T08:00:11.805289Z",
     "iopub.status.idle": "2021-12-10T08:00:11.813548Z",
     "shell.execute_reply": "2021-12-10T08:00:11.815873Z"
    },
    "papermill": {
     "duration": 0.067282,
     "end_time": "2021-12-10T08:00:11.816673",
     "exception": false,
     "start_time": "2021-12-10T08:00:11.749391",
     "status": "completed"
    },
    "tags": []
   },
   "outputs": [],
   "source": [
    "df_pivot.columns = [\"stamp_1\", \"stamp_2\"]\n",
    "df_pivot_diff = df_pivot.diff(axis=1)"
   ]
  },
  {
   "cell_type": "code",
   "execution_count": 7,
   "id": "fifth-motion",
   "metadata": {
    "execution": {
     "iopub.execute_input": "2021-12-10T08:00:11.892963Z",
     "iopub.status.busy": "2021-12-10T08:00:11.889068Z",
     "iopub.status.idle": "2021-12-10T08:00:13.568634Z",
     "shell.execute_reply": "2021-12-10T08:00:13.569978Z"
    },
    "papermill": {
     "duration": 1.72344,
     "end_time": "2021-12-10T08:00:13.570396",
     "exception": false,
     "start_time": "2021-12-10T08:00:11.846956",
     "status": "completed"
    },
    "tags": []
   },
   "outputs": [
    {
     "data": {
      "text/plain": [
       "<AxesSubplot:ylabel='PRODUCT'>"
      ]
     },
     "execution_count": 7,
     "metadata": {},
     "output_type": "execute_result"
    },
    {
     "data": {
      "image/png": "[encoded data removed]",
      "text/plain": [
       "<Figure size 432x288 with 1 Axes>"
      ]
     },
     "metadata": {
      "needs_background": "light"
     },
     "output_type": "display_data"
    }
   ],
   "source": [
    "df_pivot_diff.sort_values(\"stamp_2\", ascending = False)[\"stamp_2\"].head(10).plot.barh()"
   ]
  },
  {
   "cell_type": "code",
   "execution_count": null,
   "id": "extra-executive",
   "metadata": {
    "papermill": {
     "duration": 0.022091,
     "end_time": "2021-12-10T08:00:13.617252",
     "exception": false,
     "start_time": "2021-12-10T08:00:13.595161",
     "status": "completed"
    },
    "tags": []
   },
   "outputs": [],
   "source": []
  }
 ],
 "metadata": {
  "kernelspec": {
   "display_name": "Python 3",
   "language": "python",
   "name": "python3"
  },
  "language_info": {
   "codemirror_mode": {
    "name": "ipython",
    "version": 3
   },
   "file_extension": ".py",
   "mimetype": "text/x-python",
   "name": "python",
   "nbconvert_exporter": "python",
   "pygments_lexer": "ipython3",
   "version": "3.9.5"
  },
  "papermill": {
   "default_parameters": {},
   "duration": 9.945834,
   "end_time": "2021-12-10T08:00:14.915873",
   "environment_variables": {},
   "exception": null,
   "input_path": "eBay_Overview.ipynb",
   "output_path": "eBay_Overview.ipynb",
   "parameters": {},
   "start_time": "2021-12-10T08:00:04.970039",
   "version": "2.3.3"
  }
 },
 "nbformat": 4,
 "nbformat_minor": 5
}