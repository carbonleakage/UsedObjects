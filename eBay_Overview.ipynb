{
 "cells": [
  {
   "cell_type": "code",
   "execution_count": 1,
   "id": "reverse-picking",
   "metadata": {
    "execution": {
     "iopub.execute_input": "2021-11-28T14:30:08.077223Z",
     "iopub.status.busy": "2021-11-28T14:30:08.074829Z",
     "iopub.status.idle": "2021-11-28T14:30:09.037083Z",
     "shell.execute_reply": "2021-11-28T14:30:09.038486Z"
    },
    "papermill": {
     "duration": 1.012806,
     "end_time": "2021-11-28T14:30:09.039222",
     "exception": false,
     "start_time": "2021-11-28T14:30:08.026416",
     "status": "completed"
    },
    "tags": []
   },
   "outputs": [],
   "source": [
    "import pandas as pd\n",
    "import sqlite3"
   ]
  },
  {
   "cell_type": "code",
   "execution_count": 2,
   "id": "innovative-syndrome",
   "metadata": {
    "execution": {
     "iopub.execute_input": "2021-11-28T14:30:09.101256Z",
     "iopub.status.busy": "2021-11-28T14:30:09.098998Z",
     "iopub.status.idle": "2021-11-28T14:30:10.032490Z",
     "shell.execute_reply": "2021-11-28T14:30:10.034370Z"
    },
    "papermill": {
     "duration": 0.968132,
     "end_time": "2021-11-28T14:30:10.034913",
     "exception": false,
     "start_time": "2021-11-28T14:30:09.066781",
     "status": "completed"
    },
    "tags": []
   },
   "outputs": [],
   "source": [
    "timestamps = pd.read_sql(\"select distinct record_time from EBAY_TOP_BERLIN order by record_time desc limit 2\", sqlite3.connect(\"UsedObjects.db\"))"
   ]
  },
  {
   "cell_type": "code",
   "execution_count": 3,
   "id": "periodic-identification",
   "metadata": {
    "execution": {
     "iopub.execute_input": "2021-11-28T14:30:10.095809Z",
     "iopub.status.busy": "2021-11-28T14:30:10.093815Z",
     "iopub.status.idle": "2021-11-28T14:30:10.135812Z",
     "shell.execute_reply": "2021-11-28T14:30:10.139211Z"
    },
    "papermill": {
     "duration": 0.083553,
     "end_time": "2021-11-28T14:30:10.139676",
     "exception": false,
     "start_time": "2021-11-28T14:30:10.056123",
     "status": "completed"
    },
    "tags": []
   },
   "outputs": [
    {
     "data": {
      "text/html": [
       "<div>\n",
       "<style scoped>\n",
       "    .dataframe tbody tr th:only-of-type {\n",
       "        vertical-align: middle;\n",
       "    }\n",
       "\n",
       "    .dataframe tbody tr th {\n",
       "        vertical-align: top;\n",
       "    }\n",
       "\n",
       "    .dataframe thead th {\n",
       "        text-align: right;\n",
       "    }\n",
       "</style>\n",
       "<table border=\"1\" class=\"dataframe\">\n",
       "  <thead>\n",
       "    <tr style=\"text-align: right;\">\n",
       "      <th></th>\n",
       "      <th>RECORD_TIME</th>\n",
       "    </tr>\n",
       "  </thead>\n",
       "  <tbody>\n",
       "    <tr>\n",
       "      <th>0</th>\n",
       "      <td>2021-11-28 15:30</td>\n",
       "    </tr>\n",
       "    <tr>\n",
       "      <th>1</th>\n",
       "      <td>2021-11-28 15:00</td>\n",
       "    </tr>\n",
       "  </tbody>\n",
       "</table>\n",
       "</div>"
      ],
      "text/plain": [
       "        RECORD_TIME\n",
       "0  2021-11-28 15:30\n",
       "1  2021-11-28 15:00"
      ]
     },
     "execution_count": 3,
     "metadata": {},
     "output_type": "execute_result"
    }
   ],
   "source": [
    "timestamps"
   ]
  },
  {
   "cell_type": "code",
   "execution_count": 4,
   "id": "alternate-victory",
   "metadata": {
    "execution": {
     "iopub.execute_input": "2021-11-28T14:30:10.197042Z",
     "iopub.status.busy": "2021-11-28T14:30:10.194759Z",
     "iopub.status.idle": "2021-11-28T14:30:11.556975Z",
     "shell.execute_reply": "2021-11-28T14:30:11.558384Z"
    },
    "papermill": {
     "duration": 1.396213,
     "end_time": "2021-11-28T14:30:11.558859",
     "exception": false,
     "start_time": "2021-11-28T14:30:10.162646",
     "status": "completed"
    },
    "tags": []
   },
   "outputs": [],
   "source": [
    "df = pd.read_sql(\"select * from EBAY_TOP_BERLIN where record_time in (select distinct record_time from EBAY_TOP_BERLIN order by record_time desc limit 2)\", sqlite3.connect(\"UsedObjects.db\"))"
   ]
  },
  {
   "cell_type": "code",
   "execution_count": 5,
   "id": "popular-active",
   "metadata": {
    "execution": {
     "iopub.execute_input": "2021-11-28T14:30:11.636275Z",
     "iopub.status.busy": "2021-11-28T14:30:11.628974Z",
     "iopub.status.idle": "2021-11-28T14:30:11.653954Z",
     "shell.execute_reply": "2021-11-28T14:30:11.655277Z"
    },
    "papermill": {
     "duration": 0.07389,
     "end_time": "2021-11-28T14:30:11.655740",
     "exception": false,
     "start_time": "2021-11-28T14:30:11.581850",
     "status": "completed"
    },
    "tags": []
   },
   "outputs": [],
   "source": [
    "df_pivot = df.pivot_table(index=\"PRODUCT\", columns = \"RECORD_TIME\", values = \"LISTING_COUNT\")"
   ]
  },
  {
   "cell_type": "code",
   "execution_count": 6,
   "id": "union-huntington",
   "metadata": {
    "execution": {
     "iopub.execute_input": "2021-11-28T14:30:11.716614Z",
     "iopub.status.busy": "2021-11-28T14:30:11.714261Z",
     "iopub.status.idle": "2021-11-28T14:30:11.721388Z",
     "shell.execute_reply": "2021-11-28T14:30:11.722750Z"
    },
    "papermill": {
     "duration": 0.047459,
     "end_time": "2021-11-28T14:30:11.723236",
     "exception": false,
     "start_time": "2021-11-28T14:30:11.675777",
     "status": "completed"
    },
    "tags": []
   },
   "outputs": [],
   "source": [
    "df_pivot.columns = [\"stamp_1\", \"stamp_2\"]\n",
    "df_pivot_diff = df_pivot.diff(axis=1)"
   ]
  },
  {
   "cell_type": "code",
   "execution_count": 7,
   "id": "fifth-motion",
   "metadata": {
    "execution": {
     "iopub.execute_input": "2021-11-28T14:30:11.780271Z",
     "iopub.status.busy": "2021-11-28T14:30:11.777932Z",
     "iopub.status.idle": "2021-11-28T14:30:13.775189Z",
     "shell.execute_reply": "2021-11-28T14:30:13.776469Z"
    },
    "papermill": {
     "duration": 2.032366,
     "end_time": "2021-11-28T14:30:13.776960",
     "exception": false,
     "start_time": "2021-11-28T14:30:11.744594",
     "status": "completed"
    },
    "tags": []
   },
   "outputs": [
    {
     "data": {
      "text/plain": [
       "<AxesSubplot:ylabel='PRODUCT'>"
      ]
     },
     "execution_count": 7,
     "metadata": {},
     "output_type": "execute_result"
    },
    {
     "data": {
      "image/png": "[encoded data removed]",
      "text/plain": [
       "<Figure size 432x288 with 1 Axes>"
      ]
     },
     "metadata": {
      "needs_background": "light"
     },
     "output_type": "display_data"
    }
   ],
   "source": [
    "df_pivot_diff.sort_values(\"stamp_2\", ascending = False)[\"stamp_2\"].head(10).plot.barh()"
   ]
  },
  {
   "cell_type": "code",
   "execution_count": null,
   "id": "extra-executive",
   "metadata": {
    "papermill": {
     "duration": 0.022177,
     "end_time": "2021-11-28T14:30:13.824074",
     "exception": false,
     "start_time": "2021-11-28T14:30:13.801897",
     "status": "completed"
    },
    "tags": []
   },
   "outputs": [],
   "source": []
  }
 ],
 "metadata": {
  "kernelspec": {
   "display_name": "Python 3",
   "language": "python",
   "name": "python3"
  },
  "language_info": {
   "codemirror_mode": {
    "name": "ipython",
    "version": 3
   },
   "file_extension": ".py",
   "mimetype": "text/x-python",
   "name": "python",
   "nbconvert_exporter": "python",
   "pygments_lexer": "ipython3",
   "version": "3.9.5"
  },
  "papermill": {
   "default_parameters": {},
   "duration": 9.938045,
   "end_time": "2021-11-28T14:30:15.218765",
   "environment_variables": {},
   "exception": null,
   "input_path": "eBay_Overview.ipynb",
   "output_path": "eBay_Overview.ipynb",
   "parameters": {},
   "start_time": "2021-11-28T14:30:05.280720",
   "version": "2.3.3"
  }
 },
 "nbformat": 4,
 "nbformat_minor": 5
}