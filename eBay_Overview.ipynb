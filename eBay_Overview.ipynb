{
 "cells": [
  {
   "cell_type": "code",
   "execution_count": 1,
   "id": "reverse-picking",
   "metadata": {
    "execution": {
     "iopub.execute_input": "2021-12-21T23:30:07.715771Z",
     "iopub.status.busy": "2021-12-21T23:30:07.713244Z",
     "iopub.status.idle": "2021-12-21T23:30:08.672730Z",
     "shell.execute_reply": "2021-12-21T23:30:08.674277Z"
    },
    "papermill": {
     "duration": 1.008527,
     "end_time": "2021-12-21T23:30:08.675044",
     "exception": false,
     "start_time": "2021-12-21T23:30:07.666517",
     "status": "completed"
    },
    "tags": []
   },
   "outputs": [],
   "source": [
    "import pandas as pd\n",
    "import sqlite3"
   ]
  },
  {
   "cell_type": "code",
   "execution_count": 2,
   "id": "innovative-syndrome",
   "metadata": {
    "execution": {
     "iopub.execute_input": "2021-12-21T23:30:08.739967Z",
     "iopub.status.busy": "2021-12-21T23:30:08.737613Z",
     "iopub.status.idle": "2021-12-21T23:30:09.898227Z",
     "shell.execute_reply": "2021-12-21T23:30:09.899710Z"
    },
    "papermill": {
     "duration": 1.194936,
     "end_time": "2021-12-21T23:30:09.900173",
     "exception": false,
     "start_time": "2021-12-21T23:30:08.705237",
     "status": "completed"
    },
    "tags": []
   },
   "outputs": [],
   "source": [
    "timestamps = pd.read_sql(\"select distinct record_time from EBAY_TOP_BERLIN order by record_time desc limit 2\", sqlite3.connect(\"UsedObjects.db\"))"
   ]
  },
  {
   "cell_type": "code",
   "execution_count": 3,
   "id": "periodic-identification",
   "metadata": {
    "execution": {
     "iopub.execute_input": "2021-12-21T23:30:09.950287Z",
     "iopub.status.busy": "2021-12-21T23:30:09.947716Z",
     "iopub.status.idle": "2021-12-21T23:30:09.990850Z",
     "shell.execute_reply": "2021-12-21T23:30:09.993159Z"
    },
    "papermill": {
     "duration": 0.073995,
     "end_time": "2021-12-21T23:30:09.993639",
     "exception": false,
     "start_time": "2021-12-21T23:30:09.919644",
     "status": "completed"
    },
    "tags": []
   },
   "outputs": [
    {
     "data": {
      "text/html": [
       "<div>\n",
       "<style scoped>\n",
       "    .dataframe tbody tr th:only-of-type {\n",
       "        vertical-align: middle;\n",
       "    }\n",
       "\n",
       "    .dataframe tbody tr th {\n",
       "        vertical-align: top;\n",
       "    }\n",
       "\n",
       "    .dataframe thead th {\n",
       "        text-align: right;\n",
       "    }\n",
       "</style>\n",
       "<table border=\"1\" class=\"dataframe\">\n",
       "  <thead>\n",
       "    <tr style=\"text-align: right;\">\n",
       "      <th></th>\n",
       "      <th>RECORD_TIME</th>\n",
       "    </tr>\n",
       "  </thead>\n",
       "  <tbody>\n",
       "    <tr>\n",
       "      <th>0</th>\n",
       "      <td>2021-12-22 00:30</td>\n",
       "    </tr>\n",
       "    <tr>\n",
       "      <th>1</th>\n",
       "      <td>2021-12-22 00:00</td>\n",
       "    </tr>\n",
       "  </tbody>\n",
       "</table>\n",
       "</div>"
      ],
      "text/plain": [
       "        RECORD_TIME\n",
       "0  2021-12-22 00:30\n",
       "1  2021-12-22 00:00"
      ]
     },
     "execution_count": 3,
     "metadata": {},
     "output_type": "execute_result"
    }
   ],
   "source": [
    "timestamps"
   ]
  },
  {
   "cell_type": "code",
   "execution_count": 4,
   "id": "alternate-victory",
   "metadata": {
    "execution": {
     "iopub.execute_input": "2021-12-21T23:30:10.047213Z",
     "iopub.status.busy": "2021-12-21T23:30:10.045288Z",
     "iopub.status.idle": "2021-12-21T23:30:11.772939Z",
     "shell.execute_reply": "2021-12-21T23:30:11.774540Z"
    },
    "papermill": {
     "duration": 1.760293,
     "end_time": "2021-12-21T23:30:11.775034",
     "exception": false,
     "start_time": "2021-12-21T23:30:10.014741",
     "status": "completed"
    },
    "tags": []
   },
   "outputs": [],
   "source": [
    "df = pd.read_sql(\"select * from EBAY_TOP_BERLIN where record_time in (select distinct record_time from EBAY_TOP_BERLIN order by record_time desc limit 2)\", sqlite3.connect(\"UsedObjects.db\"))"
   ]
  },
  {
   "cell_type": "code",
   "execution_count": 5,
   "id": "popular-active",
   "metadata": {
    "execution": {
     "iopub.execute_input": "2021-12-21T23:30:11.856938Z",
     "iopub.status.busy": "2021-12-21T23:30:11.845644Z",
     "iopub.status.idle": "2021-12-21T23:30:11.872960Z",
     "shell.execute_reply": "2021-12-21T23:30:11.874447Z"
    },
    "papermill": {
     "duration": 0.077699,
     "end_time": "2021-12-21T23:30:11.874898",
     "exception": false,
     "start_time": "2021-12-21T23:30:11.797199",
     "status": "completed"
    },
    "tags": []
   },
   "outputs": [],
   "source": [
    "df_pivot = df.pivot_table(index=\"PRODUCT\", columns = \"RECORD_TIME\", values = \"LISTING_COUNT\")"
   ]
  },
  {
   "cell_type": "code",
   "execution_count": 6,
   "id": "union-huntington",
   "metadata": {
    "execution": {
     "iopub.execute_input": "2021-12-21T23:30:11.933583Z",
     "iopub.status.busy": "2021-12-21T23:30:11.931248Z",
     "iopub.status.idle": "2021-12-21T23:30:11.936457Z",
     "shell.execute_reply": "2021-12-21T23:30:11.937856Z"
    },
    "papermill": {
     "duration": 0.0435,
     "end_time": "2021-12-21T23:30:11.938339",
     "exception": false,
     "start_time": "2021-12-21T23:30:11.894839",
     "status": "completed"
    },
    "tags": []
   },
   "outputs": [],
   "source": [
    "df_pivot.columns = [\"stamp_1\", \"stamp_2\"]\n",
    "df_pivot_diff = df_pivot.diff(axis=1)"
   ]
  },
  {
   "cell_type": "code",
   "execution_count": 7,
   "id": "fifth-motion",
   "metadata": {
    "execution": {
     "iopub.execute_input": "2021-12-21T23:30:11.997344Z",
     "iopub.status.busy": "2021-12-21T23:30:11.994826Z",
     "iopub.status.idle": "2021-12-21T23:30:13.977597Z",
     "shell.execute_reply": "2021-12-21T23:30:13.978988Z"
    },
    "papermill": {
     "duration": 2.019811,
     "end_time": "2021-12-21T23:30:13.979436",
     "exception": false,
     "start_time": "2021-12-21T23:30:11.959625",
     "status": "completed"
    },
    "tags": []
   },
   "outputs": [
    {
     "data": {
      "text/plain": [
       "<AxesSubplot:ylabel='PRODUCT'>"
      ]
     },
     "execution_count": 7,
     "metadata": {},
     "output_type": "execute_result"
    },
    {
     "data": {
      "image/png": "[encoded data removed]",
      "text/plain": [
       "<Figure size 432x288 with 1 Axes>"
      ]
     },
     "metadata": {
      "needs_background": "light"
     },
     "output_type": "display_data"
    }
   ],
   "source": [
    "df_pivot_diff.sort_values(\"stamp_2\", ascending = False)[\"stamp_2\"].head(10).plot.barh()"
   ]
  },
  {
   "cell_type": "code",
   "execution_count": null,
   "id": "extra-executive",
   "metadata": {
    "papermill": {
     "duration": 0.021901,
     "end_time": "2021-12-21T23:30:14.025584",
     "exception": false,
     "start_time": "2021-12-21T23:30:14.003683",
     "status": "completed"
    },
    "tags": []
   },
   "outputs": [],
   "source": []
  }
 ],
 "metadata": {
  "kernelspec": {
   "display_name": "Python 3",
   "language": "python",
   "name": "python3"
  },
  "language_info": {
   "codemirror_mode": {
    "name": "ipython",
    "version": 3
   },
   "file_extension": ".py",
   "mimetype": "text/x-python",
   "name": "python",
   "nbconvert_exporter": "python",
   "pygments_lexer": "ipython3",
   "version": "3.9.5"
  },
  "papermill": {
   "default_parameters": {},
   "duration": 9.764233,
   "end_time": "2021-12-21T23:30:14.667914",
   "environment_variables": {},
   "exception": null,
   "input_path": "eBay_Overview.ipynb",
   "output_path": "eBay_Overview.ipynb",
   "parameters": {},
   "start_time": "2021-12-21T23:30:04.903681",
   "version": "2.3.3"
  }
 },
 "nbformat": 4,
 "nbformat_minor": 5
}