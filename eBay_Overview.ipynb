{
 "cells": [
  {
   "cell_type": "code",
   "execution_count": 1,
   "id": "reverse-picking",
   "metadata": {
    "execution": {
     "iopub.execute_input": "2021-09-08T14:00:06.968777Z",
     "iopub.status.busy": "2021-09-08T14:00:06.966768Z",
     "iopub.status.idle": "2021-09-08T14:00:07.775788Z",
     "shell.execute_reply": "2021-09-08T14:00:07.777048Z"
    },
    "papermill": {
     "duration": 0.861746,
     "end_time": "2021-09-08T14:00:07.777668",
     "exception": false,
     "start_time": "2021-09-08T14:00:06.915922",
     "status": "completed"
    },
    "tags": []
   },
   "outputs": [],
   "source": [
    "import pandas as pd\n",
    "import sqlite3"
   ]
  },
  {
   "cell_type": "code",
   "execution_count": 2,
   "id": "innovative-syndrome",
   "metadata": {
    "execution": {
     "iopub.execute_input": "2021-09-08T14:00:07.829772Z",
     "iopub.status.busy": "2021-09-08T14:00:07.827636Z",
     "iopub.status.idle": "2021-09-08T14:00:08.078011Z",
     "shell.execute_reply": "2021-09-08T14:00:08.079410Z"
    },
    "papermill": {
     "duration": 0.280429,
     "end_time": "2021-09-08T14:00:08.079827",
     "exception": false,
     "start_time": "2021-09-08T14:00:07.799398",
     "status": "completed"
    },
    "tags": []
   },
   "outputs": [],
   "source": [
    "timestamps = pd.read_sql(\"select distinct record_time from EBAY_TOP_BERLIN order by record_time desc limit 2\", sqlite3.connect(\"UsedObjects.db\"))"
   ]
  },
  {
   "cell_type": "code",
   "execution_count": 3,
   "id": "periodic-identification",
   "metadata": {
    "execution": {
     "iopub.execute_input": "2021-09-08T14:00:08.146674Z",
     "iopub.status.busy": "2021-09-08T14:00:08.144677Z",
     "iopub.status.idle": "2021-09-08T14:00:08.164696Z",
     "shell.execute_reply": "2021-09-08T14:00:08.166049Z"
    },
    "papermill": {
     "duration": 0.065928,
     "end_time": "2021-09-08T14:00:08.166489",
     "exception": false,
     "start_time": "2021-09-08T14:00:08.100561",
     "status": "completed"
    },
    "tags": []
   },
   "outputs": [
    {
     "data": {
      "text/html": [
       "<div>\n",
       "<style scoped>\n",
       "    .dataframe tbody tr th:only-of-type {\n",
       "        vertical-align: middle;\n",
       "    }\n",
       "\n",
       "    .dataframe tbody tr th {\n",
       "        vertical-align: top;\n",
       "    }\n",
       "\n",
       "    .dataframe thead th {\n",
       "        text-align: right;\n",
       "    }\n",
       "</style>\n",
       "<table border=\"1\" class=\"dataframe\">\n",
       "  <thead>\n",
       "    <tr style=\"text-align: right;\">\n",
       "      <th></th>\n",
       "      <th>RECORD_TIME</th>\n",
       "    </tr>\n",
       "  </thead>\n",
       "  <tbody>\n",
       "    <tr>\n",
       "      <th>0</th>\n",
       "      <td>2021-09-08 16:00</td>\n",
       "    </tr>\n",
       "    <tr>\n",
       "      <th>1</th>\n",
       "      <td>2021-09-08 15:30</td>\n",
       "    </tr>\n",
       "  </tbody>\n",
       "</table>\n",
       "</div>"
      ],
      "text/plain": [
       "        RECORD_TIME\n",
       "0  2021-09-08 16:00\n",
       "1  2021-09-08 15:30"
      ]
     },
     "execution_count": 3,
     "metadata": {},
     "output_type": "execute_result"
    }
   ],
   "source": [
    "timestamps"
   ]
  },
  {
   "cell_type": "code",
   "execution_count": 4,
   "id": "alternate-victory",
   "metadata": {
    "execution": {
     "iopub.execute_input": "2021-09-08T14:00:08.218473Z",
     "iopub.status.busy": "2021-09-08T14:00:08.216462Z",
     "iopub.status.idle": "2021-09-08T14:00:08.569309Z",
     "shell.execute_reply": "2021-09-08T14:00:08.570507Z"
    },
    "papermill": {
     "duration": 0.383851,
     "end_time": "2021-09-08T14:00:08.571085",
     "exception": false,
     "start_time": "2021-09-08T14:00:08.187234",
     "status": "completed"
    },
    "tags": []
   },
   "outputs": [],
   "source": [
    "df = pd.read_sql(\"select * from EBAY_TOP_BERLIN where record_time in (select distinct record_time from EBAY_TOP_BERLIN order by record_time desc limit 2)\", sqlite3.connect(\"UsedObjects.db\"))"
   ]
  },
  {
   "cell_type": "code",
   "execution_count": 5,
   "id": "popular-active",
   "metadata": {
    "execution": {
     "iopub.execute_input": "2021-09-08T14:00:08.649602Z",
     "iopub.status.busy": "2021-09-08T14:00:08.637804Z",
     "iopub.status.idle": "2021-09-08T14:00:08.665265Z",
     "shell.execute_reply": "2021-09-08T14:00:08.666542Z"
    },
    "papermill": {
     "duration": 0.069423,
     "end_time": "2021-09-08T14:00:08.667017",
     "exception": false,
     "start_time": "2021-09-08T14:00:08.597594",
     "status": "completed"
    },
    "tags": []
   },
   "outputs": [],
   "source": [
    "df_pivot = df.pivot_table(index=\"PRODUCT\", columns = \"RECORD_TIME\", values = \"LISTING_COUNT\")"
   ]
  },
  {
   "cell_type": "code",
   "execution_count": 6,
   "id": "union-huntington",
   "metadata": {
    "execution": {
     "iopub.execute_input": "2021-09-08T14:00:08.723361Z",
     "iopub.status.busy": "2021-09-08T14:00:08.721243Z",
     "iopub.status.idle": "2021-09-08T14:00:08.726595Z",
     "shell.execute_reply": "2021-09-08T14:00:08.727854Z"
    },
    "papermill": {
     "duration": 0.041049,
     "end_time": "2021-09-08T14:00:08.728282",
     "exception": false,
     "start_time": "2021-09-08T14:00:08.687233",
     "status": "completed"
    },
    "tags": []
   },
   "outputs": [],
   "source": [
    "df_pivot.columns = [\"stamp_1\", \"stamp_2\"]\n",
    "df_pivot_diff = df_pivot.diff(axis=1)"
   ]
  },
  {
   "cell_type": "code",
   "execution_count": 7,
   "id": "fifth-motion",
   "metadata": {
    "execution": {
     "iopub.execute_input": "2021-09-08T14:00:08.783696Z",
     "iopub.status.busy": "2021-09-08T14:00:08.781101Z",
     "iopub.status.idle": "2021-09-08T14:00:10.259407Z",
     "shell.execute_reply": "2021-09-08T14:00:10.260826Z"
    },
    "papermill": {
     "duration": 1.511497,
     "end_time": "2021-09-08T14:00:10.261270",
     "exception": false,
     "start_time": "2021-09-08T14:00:08.749773",
     "status": "completed"
    },
    "tags": []
   },
   "outputs": [
    {
     "data": {
      "text/plain": [
       "<AxesSubplot:ylabel='PRODUCT'>"
      ]
     },
     "execution_count": 7,
     "metadata": {},
     "output_type": "execute_result"
    },
    {
     "data": {
      "image/png": "[encoded data removed]",
      "text/plain": [
       "<Figure size 432x288 with 1 Axes>"
      ]
     },
     "metadata": {
      "needs_background": "light"
     },
     "output_type": "display_data"
    }
   ],
   "source": [
    "df_pivot_diff.sort_values(\"stamp_2\", ascending = False)[\"stamp_2\"].head(10).plot.barh()"
   ]
  },
  {
   "cell_type": "code",
   "execution_count": null,
   "id": "extra-executive",
   "metadata": {
    "papermill": {
     "duration": 0.022318,
     "end_time": "2021-09-08T14:00:10.308137",
     "exception": false,
     "start_time": "2021-09-08T14:00:10.285819",
     "status": "completed"
    },
    "tags": []
   },
   "outputs": [],
   "source": []
  }
 ],
 "metadata": {
  "kernelspec": {
   "display_name": "Python 3",
   "language": "python",
   "name": "python3"
  },
  "language_info": {
   "codemirror_mode": {
    "name": "ipython",
    "version": 3
   },
   "file_extension": ".py",
   "mimetype": "text/x-python",
   "name": "python",
   "nbconvert_exporter": "python",
   "pygments_lexer": "ipython3",
   "version": "3.9.5"
  },
  "papermill": {
   "default_parameters": {},
   "duration": 6.440481,
   "end_time": "2021-09-08T14:00:10.950179",
   "environment_variables": {},
   "exception": null,
   "input_path": "eBay_Overview.ipynb",
   "output_path": "eBay_Overview.ipynb",
   "parameters": {},
   "start_time": "2021-09-08T14:00:04.509698",
   "version": "2.3.3"
  }
 },
 "nbformat": 4,
 "nbformat_minor": 5
}