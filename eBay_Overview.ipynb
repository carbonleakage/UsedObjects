{
 "cells": [
  {
   "cell_type": "code",
   "execution_count": 1,
   "id": "reverse-picking",
   "metadata": {
    "execution": {
     "iopub.execute_input": "2021-09-02T01:30:07.223554Z",
     "iopub.status.busy": "2021-09-02T01:30:07.221555Z",
     "iopub.status.idle": "2021-09-02T01:30:08.023801Z",
     "shell.execute_reply": "2021-09-02T01:30:08.025130Z"
    },
    "papermill": {
     "duration": 0.853844,
     "end_time": "2021-09-02T01:30:08.025817",
     "exception": false,
     "start_time": "2021-09-02T01:30:07.171973",
     "status": "completed"
    },
    "tags": []
   },
   "outputs": [],
   "source": [
    "import pandas as pd\n",
    "import sqlite3"
   ]
  },
  {
   "cell_type": "code",
   "execution_count": 2,
   "id": "innovative-syndrome",
   "metadata": {
    "execution": {
     "iopub.execute_input": "2021-09-02T01:30:08.077891Z",
     "iopub.status.busy": "2021-09-02T01:30:08.075609Z",
     "iopub.status.idle": "2021-09-02T01:30:08.265386Z",
     "shell.execute_reply": "2021-09-02T01:30:08.266652Z"
    },
    "papermill": {
     "duration": 0.220605,
     "end_time": "2021-09-02T01:30:08.267130",
     "exception": false,
     "start_time": "2021-09-02T01:30:08.046525",
     "status": "completed"
    },
    "tags": []
   },
   "outputs": [],
   "source": [
    "timestamps = pd.read_sql(\"select distinct record_time from EBAY_TOP_BERLIN order by record_time desc limit 2\", sqlite3.connect(\"UsedObjects.db\"))"
   ]
  },
  {
   "cell_type": "code",
   "execution_count": 3,
   "id": "periodic-identification",
   "metadata": {
    "execution": {
     "iopub.execute_input": "2021-09-02T01:30:08.333659Z",
     "iopub.status.busy": "2021-09-02T01:30:08.331653Z",
     "iopub.status.idle": "2021-09-02T01:30:08.352904Z",
     "shell.execute_reply": "2021-09-02T01:30:08.351574Z"
    },
    "papermill": {
     "duration": 0.066273,
     "end_time": "2021-09-02T01:30:08.353266",
     "exception": false,
     "start_time": "2021-09-02T01:30:08.286993",
     "status": "completed"
    },
    "tags": []
   },
   "outputs": [
    {
     "data": {
      "text/html": [
       "<div>\n",
       "<style scoped>\n",
       "    .dataframe tbody tr th:only-of-type {\n",
       "        vertical-align: middle;\n",
       "    }\n",
       "\n",
       "    .dataframe tbody tr th {\n",
       "        vertical-align: top;\n",
       "    }\n",
       "\n",
       "    .dataframe thead th {\n",
       "        text-align: right;\n",
       "    }\n",
       "</style>\n",
       "<table border=\"1\" class=\"dataframe\">\n",
       "  <thead>\n",
       "    <tr style=\"text-align: right;\">\n",
       "      <th></th>\n",
       "      <th>RECORD_TIME</th>\n",
       "    </tr>\n",
       "  </thead>\n",
       "  <tbody>\n",
       "    <tr>\n",
       "      <th>0</th>\n",
       "      <td>2021-09-02 03:30</td>\n",
       "    </tr>\n",
       "    <tr>\n",
       "      <th>1</th>\n",
       "      <td>2021-09-02 03:00</td>\n",
       "    </tr>\n",
       "  </tbody>\n",
       "</table>\n",
       "</div>"
      ],
      "text/plain": [
       "        RECORD_TIME\n",
       "0  2021-09-02 03:30\n",
       "1  2021-09-02 03:00"
      ]
     },
     "execution_count": 3,
     "metadata": {},
     "output_type": "execute_result"
    }
   ],
   "source": [
    "timestamps"
   ]
  },
  {
   "cell_type": "code",
   "execution_count": 4,
   "id": "alternate-victory",
   "metadata": {
    "execution": {
     "iopub.execute_input": "2021-09-02T01:30:08.407622Z",
     "iopub.status.busy": "2021-09-02T01:30:08.405298Z",
     "iopub.status.idle": "2021-09-02T01:30:08.690307Z",
     "shell.execute_reply": "2021-09-02T01:30:08.691750Z"
    },
    "papermill": {
     "duration": 0.315782,
     "end_time": "2021-09-02T01:30:08.692168",
     "exception": false,
     "start_time": "2021-09-02T01:30:08.376386",
     "status": "completed"
    },
    "tags": []
   },
   "outputs": [],
   "source": [
    "df = pd.read_sql(\"select * from EBAY_TOP_BERLIN where record_time in (select distinct record_time from EBAY_TOP_BERLIN order by record_time desc limit 2)\", sqlite3.connect(\"UsedObjects.db\"))"
   ]
  },
  {
   "cell_type": "code",
   "execution_count": 5,
   "id": "popular-active",
   "metadata": {
    "execution": {
     "iopub.execute_input": "2021-09-02T01:30:08.775060Z",
     "iopub.status.busy": "2021-09-02T01:30:08.763979Z",
     "iopub.status.idle": "2021-09-02T01:30:08.791092Z",
     "shell.execute_reply": "2021-09-02T01:30:08.792429Z"
    },
    "papermill": {
     "duration": 0.072408,
     "end_time": "2021-09-02T01:30:08.792847",
     "exception": false,
     "start_time": "2021-09-02T01:30:08.720439",
     "status": "completed"
    },
    "tags": []
   },
   "outputs": [],
   "source": [
    "df_pivot = df.pivot_table(index=\"PRODUCT\", columns = \"RECORD_TIME\", values = \"LISTING_COUNT\")"
   ]
  },
  {
   "cell_type": "code",
   "execution_count": 6,
   "id": "union-huntington",
   "metadata": {
    "execution": {
     "iopub.execute_input": "2021-09-02T01:30:08.851342Z",
     "iopub.status.busy": "2021-09-02T01:30:08.849040Z",
     "iopub.status.idle": "2021-09-02T01:30:08.856270Z",
     "shell.execute_reply": "2021-09-02T01:30:08.854811Z"
    },
    "papermill": {
     "duration": 0.041939,
     "end_time": "2021-09-02T01:30:08.856631",
     "exception": false,
     "start_time": "2021-09-02T01:30:08.814692",
     "status": "completed"
    },
    "tags": []
   },
   "outputs": [],
   "source": [
    "df_pivot.columns = [\"stamp_1\", \"stamp_2\"]\n",
    "df_pivot_diff = df_pivot.diff(axis=1)"
   ]
  },
  {
   "cell_type": "code",
   "execution_count": 7,
   "id": "fifth-motion",
   "metadata": {
    "execution": {
     "iopub.execute_input": "2021-09-02T01:30:08.909992Z",
     "iopub.status.busy": "2021-09-02T01:30:08.907836Z",
     "iopub.status.idle": "2021-09-02T01:30:10.393694Z",
     "shell.execute_reply": "2021-09-02T01:30:10.395053Z"
    },
    "papermill": {
     "duration": 1.518671,
     "end_time": "2021-09-02T01:30:10.395479",
     "exception": false,
     "start_time": "2021-09-02T01:30:08.876808",
     "status": "completed"
    },
    "tags": []
   },
   "outputs": [
    {
     "data": {
      "text/plain": [
       "<AxesSubplot:ylabel='PRODUCT'>"
      ]
     },
     "execution_count": 7,
     "metadata": {},
     "output_type": "execute_result"
    },
    {
     "data": {
      "image/png": "[encoded data removed]",
      "text/plain": [
       "<Figure size 432x288 with 1 Axes>"
      ]
     },
     "metadata": {
      "needs_background": "light"
     },
     "output_type": "display_data"
    }
   ],
   "source": [
    "df_pivot_diff.sort_values(\"stamp_2\", ascending = False)[\"stamp_2\"].head(10).plot.barh()"
   ]
  },
  {
   "cell_type": "code",
   "execution_count": null,
   "id": "extra-executive",
   "metadata": {
    "papermill": {
     "duration": 0.022309,
     "end_time": "2021-09-02T01:30:10.442670",
     "exception": false,
     "start_time": "2021-09-02T01:30:10.420361",
     "status": "completed"
    },
    "tags": []
   },
   "outputs": [],
   "source": []
  }
 ],
 "metadata": {
  "kernelspec": {
   "display_name": "Python 3",
   "language": "python",
   "name": "python3"
  },
  "language_info": {
   "codemirror_mode": {
    "name": "ipython",
    "version": 3
   },
   "file_extension": ".py",
   "mimetype": "text/x-python",
   "name": "python",
   "nbconvert_exporter": "python",
   "pygments_lexer": "ipython3",
   "version": "3.9.5"
  },
  "papermill": {
   "default_parameters": {},
   "duration": 6.819065,
   "end_time": "2021-09-02T01:30:11.586429",
   "environment_variables": {},
   "exception": null,
   "input_path": "eBay_Overview.ipynb",
   "output_path": "eBay_Overview.ipynb",
   "parameters": {},
   "start_time": "2021-09-02T01:30:04.767364",
   "version": "2.3.3"
  }
 },
 "nbformat": 4,
 "nbformat_minor": 5
}