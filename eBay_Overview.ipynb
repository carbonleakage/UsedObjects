{
 "cells": [
  {
   "cell_type": "code",
   "execution_count": 1,
   "id": "reverse-picking",
   "metadata": {
    "execution": {
     "iopub.execute_input": "2021-09-22T20:00:06.929444Z",
     "iopub.status.busy": "2021-09-22T20:00:06.927440Z",
     "iopub.status.idle": "2021-09-22T20:00:07.731584Z",
     "shell.execute_reply": "2021-09-22T20:00:07.732869Z"
    },
    "papermill": {
     "duration": 0.855072,
     "end_time": "2021-09-22T20:00:07.733486",
     "exception": false,
     "start_time": "2021-09-22T20:00:06.878414",
     "status": "completed"
    },
    "tags": []
   },
   "outputs": [],
   "source": [
    "import pandas as pd\n",
    "import sqlite3"
   ]
  },
  {
   "cell_type": "code",
   "execution_count": 2,
   "id": "innovative-syndrome",
   "metadata": {
    "execution": {
     "iopub.execute_input": "2021-09-22T20:00:07.787719Z",
     "iopub.status.busy": "2021-09-22T20:00:07.785329Z",
     "iopub.status.idle": "2021-09-22T20:00:08.137140Z",
     "shell.execute_reply": "2021-09-22T20:00:08.138259Z"
    },
    "papermill": {
     "duration": 0.381762,
     "end_time": "2021-09-22T20:00:08.138673",
     "exception": false,
     "start_time": "2021-09-22T20:00:07.756911",
     "status": "completed"
    },
    "tags": []
   },
   "outputs": [],
   "source": [
    "timestamps = pd.read_sql(\"select distinct record_time from EBAY_TOP_BERLIN order by record_time desc limit 2\", sqlite3.connect(\"UsedObjects.db\"))"
   ]
  },
  {
   "cell_type": "code",
   "execution_count": 3,
   "id": "periodic-identification",
   "metadata": {
    "execution": {
     "iopub.execute_input": "2021-09-22T20:00:08.204928Z",
     "iopub.status.busy": "2021-09-22T20:00:08.202926Z",
     "iopub.status.idle": "2021-09-22T20:00:08.222436Z",
     "shell.execute_reply": "2021-09-22T20:00:08.223709Z"
    },
    "papermill": {
     "duration": 0.064233,
     "end_time": "2021-09-22T20:00:08.224106",
     "exception": false,
     "start_time": "2021-09-22T20:00:08.159873",
     "status": "completed"
    },
    "tags": []
   },
   "outputs": [
    {
     "data": {
      "text/html": [
       "<div>\n",
       "<style scoped>\n",
       "    .dataframe tbody tr th:only-of-type {\n",
       "        vertical-align: middle;\n",
       "    }\n",
       "\n",
       "    .dataframe tbody tr th {\n",
       "        vertical-align: top;\n",
       "    }\n",
       "\n",
       "    .dataframe thead th {\n",
       "        text-align: right;\n",
       "    }\n",
       "</style>\n",
       "<table border=\"1\" class=\"dataframe\">\n",
       "  <thead>\n",
       "    <tr style=\"text-align: right;\">\n",
       "      <th></th>\n",
       "      <th>RECORD_TIME</th>\n",
       "    </tr>\n",
       "  </thead>\n",
       "  <tbody>\n",
       "    <tr>\n",
       "      <th>0</th>\n",
       "      <td>2021-09-22 22:00</td>\n",
       "    </tr>\n",
       "    <tr>\n",
       "      <th>1</th>\n",
       "      <td>2021-09-22 21:30</td>\n",
       "    </tr>\n",
       "  </tbody>\n",
       "</table>\n",
       "</div>"
      ],
      "text/plain": [
       "        RECORD_TIME\n",
       "0  2021-09-22 22:00\n",
       "1  2021-09-22 21:30"
      ]
     },
     "execution_count": 3,
     "metadata": {},
     "output_type": "execute_result"
    }
   ],
   "source": [
    "timestamps"
   ]
  },
  {
   "cell_type": "code",
   "execution_count": 4,
   "id": "alternate-victory",
   "metadata": {
    "execution": {
     "iopub.execute_input": "2021-09-22T20:00:08.275507Z",
     "iopub.status.busy": "2021-09-22T20:00:08.273544Z",
     "iopub.status.idle": "2021-09-22T20:00:08.802478Z",
     "shell.execute_reply": "2021-09-22T20:00:08.804843Z"
    },
    "papermill": {
     "duration": 0.560018,
     "end_time": "2021-09-22T20:00:08.805305",
     "exception": false,
     "start_time": "2021-09-22T20:00:08.245287",
     "status": "completed"
    },
    "tags": []
   },
   "outputs": [],
   "source": [
    "df = pd.read_sql(\"select * from EBAY_TOP_BERLIN where record_time in (select distinct record_time from EBAY_TOP_BERLIN order by record_time desc limit 2)\", sqlite3.connect(\"UsedObjects.db\"))"
   ]
  },
  {
   "cell_type": "code",
   "execution_count": 5,
   "id": "popular-active",
   "metadata": {
    "execution": {
     "iopub.execute_input": "2021-09-22T20:00:08.875930Z",
     "iopub.status.busy": "2021-09-22T20:00:08.868972Z",
     "iopub.status.idle": "2021-09-22T20:00:08.891123Z",
     "shell.execute_reply": "2021-09-22T20:00:08.892403Z"
    },
    "papermill": {
     "duration": 0.066952,
     "end_time": "2021-09-22T20:00:08.892810",
     "exception": false,
     "start_time": "2021-09-22T20:00:08.825858",
     "status": "completed"
    },
    "tags": []
   },
   "outputs": [],
   "source": [
    "df_pivot = df.pivot_table(index=\"PRODUCT\", columns = \"RECORD_TIME\", values = \"LISTING_COUNT\")"
   ]
  },
  {
   "cell_type": "code",
   "execution_count": 6,
   "id": "union-huntington",
   "metadata": {
    "execution": {
     "iopub.execute_input": "2021-09-22T20:00:08.953285Z",
     "iopub.status.busy": "2021-09-22T20:00:08.950853Z",
     "iopub.status.idle": "2021-09-22T20:00:08.957081Z",
     "shell.execute_reply": "2021-09-22T20:00:08.958430Z"
    },
    "papermill": {
     "duration": 0.042854,
     "end_time": "2021-09-22T20:00:08.958957",
     "exception": false,
     "start_time": "2021-09-22T20:00:08.916103",
     "status": "completed"
    },
    "tags": []
   },
   "outputs": [],
   "source": [
    "df_pivot.columns = [\"stamp_1\", \"stamp_2\"]\n",
    "df_pivot_diff = df_pivot.diff(axis=1)"
   ]
  },
  {
   "cell_type": "code",
   "execution_count": 7,
   "id": "fifth-motion",
   "metadata": {
    "execution": {
     "iopub.execute_input": "2021-09-22T20:00:09.014221Z",
     "iopub.status.busy": "2021-09-22T20:00:09.011869Z",
     "iopub.status.idle": "2021-09-22T20:00:10.464950Z",
     "shell.execute_reply": "2021-09-22T20:00:10.466235Z"
    },
    "papermill": {
     "duration": 1.486153,
     "end_time": "2021-09-22T20:00:10.466658",
     "exception": false,
     "start_time": "2021-09-22T20:00:08.980505",
     "status": "completed"
    },
    "tags": []
   },
   "outputs": [
    {
     "data": {
      "text/plain": [
       "<AxesSubplot:ylabel='PRODUCT'>"
      ]
     },
     "execution_count": 7,
     "metadata": {},
     "output_type": "execute_result"
    },
    {
     "data": {
      "image/png": "[encoded data removed]",
      "text/plain": [
       "<Figure size 432x288 with 1 Axes>"
      ]
     },
     "metadata": {
      "needs_background": "light"
     },
     "output_type": "display_data"
    }
   ],
   "source": [
    "df_pivot_diff.sort_values(\"stamp_2\", ascending = False)[\"stamp_2\"].head(10).plot.barh()"
   ]
  },
  {
   "cell_type": "code",
   "execution_count": null,
   "id": "extra-executive",
   "metadata": {
    "papermill": {
     "duration": 0.022391,
     "end_time": "2021-09-22T20:00:10.514145",
     "exception": false,
     "start_time": "2021-09-22T20:00:10.491754",
     "status": "completed"
    },
    "tags": []
   },
   "outputs": [],
   "source": []
  }
 ],
 "metadata": {
  "kernelspec": {
   "display_name": "Python 3",
   "language": "python",
   "name": "python3"
  },
  "language_info": {
   "codemirror_mode": {
    "name": "ipython",
    "version": 3
   },
   "file_extension": ".py",
   "mimetype": "text/x-python",
   "name": "python",
   "nbconvert_exporter": "python",
   "pygments_lexer": "ipython3",
   "version": "3.9.5"
  },
  "papermill": {
   "default_parameters": {},
   "duration": 6.677664,
   "end_time": "2021-09-22T20:00:11.157244",
   "environment_variables": {},
   "exception": null,
   "input_path": "eBay_Overview.ipynb",
   "output_path": "eBay_Overview.ipynb",
   "parameters": {},
   "start_time": "2021-09-22T20:00:04.479580",
   "version": "2.3.3"
  }
 },
 "nbformat": 4,
 "nbformat_minor": 5
}