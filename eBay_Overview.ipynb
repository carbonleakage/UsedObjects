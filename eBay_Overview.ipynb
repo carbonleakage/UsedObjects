{
 "cells": [
  {
   "cell_type": "code",
   "execution_count": 1,
   "id": "reverse-picking",
   "metadata": {
    "execution": {
     "iopub.execute_input": "2021-10-10T22:00:07.111610Z",
     "iopub.status.busy": "2021-10-10T22:00:07.109580Z",
     "iopub.status.idle": "2021-10-10T22:00:07.915882Z",
     "shell.execute_reply": "2021-10-10T22:00:07.917181Z"
    },
    "papermill": {
     "duration": 0.858044,
     "end_time": "2021-10-10T22:00:07.917797",
     "exception": false,
     "start_time": "2021-10-10T22:00:07.059753",
     "status": "completed"
    },
    "tags": []
   },
   "outputs": [],
   "source": [
    "import pandas as pd\n",
    "import sqlite3"
   ]
  },
  {
   "cell_type": "code",
   "execution_count": 2,
   "id": "innovative-syndrome",
   "metadata": {
    "execution": {
     "iopub.execute_input": "2021-10-10T22:00:07.967800Z",
     "iopub.status.busy": "2021-10-10T22:00:07.965798Z",
     "iopub.status.idle": "2021-10-10T22:00:08.467945Z",
     "shell.execute_reply": "2021-10-10T22:00:08.469167Z"
    },
    "papermill": {
     "duration": 0.53164,
     "end_time": "2021-10-10T22:00:08.469560",
     "exception": false,
     "start_time": "2021-10-10T22:00:07.937920",
     "status": "completed"
    },
    "tags": []
   },
   "outputs": [],
   "source": [
    "timestamps = pd.read_sql(\"select distinct record_time from EBAY_TOP_BERLIN order by record_time desc limit 2\", sqlite3.connect(\"UsedObjects.db\"))"
   ]
  },
  {
   "cell_type": "code",
   "execution_count": 3,
   "id": "periodic-identification",
   "metadata": {
    "execution": {
     "iopub.execute_input": "2021-10-10T22:00:08.538235Z",
     "iopub.status.busy": "2021-10-10T22:00:08.535967Z",
     "iopub.status.idle": "2021-10-10T22:00:08.556236Z",
     "shell.execute_reply": "2021-10-10T22:00:08.557370Z"
    },
    "papermill": {
     "duration": 0.065552,
     "end_time": "2021-10-10T22:00:08.557775",
     "exception": false,
     "start_time": "2021-10-10T22:00:08.492223",
     "status": "completed"
    },
    "tags": []
   },
   "outputs": [
    {
     "data": {
      "text/html": [
       "<div>\n",
       "<style scoped>\n",
       "    .dataframe tbody tr th:only-of-type {\n",
       "        vertical-align: middle;\n",
       "    }\n",
       "\n",
       "    .dataframe tbody tr th {\n",
       "        vertical-align: top;\n",
       "    }\n",
       "\n",
       "    .dataframe thead th {\n",
       "        text-align: right;\n",
       "    }\n",
       "</style>\n",
       "<table border=\"1\" class=\"dataframe\">\n",
       "  <thead>\n",
       "    <tr style=\"text-align: right;\">\n",
       "      <th></th>\n",
       "      <th>RECORD_TIME</th>\n",
       "    </tr>\n",
       "  </thead>\n",
       "  <tbody>\n",
       "    <tr>\n",
       "      <th>0</th>\n",
       "      <td>2021-10-11 00:00</td>\n",
       "    </tr>\n",
       "    <tr>\n",
       "      <th>1</th>\n",
       "      <td>2021-10-10 23:30</td>\n",
       "    </tr>\n",
       "  </tbody>\n",
       "</table>\n",
       "</div>"
      ],
      "text/plain": [
       "        RECORD_TIME\n",
       "0  2021-10-11 00:00\n",
       "1  2021-10-10 23:30"
      ]
     },
     "execution_count": 3,
     "metadata": {},
     "output_type": "execute_result"
    }
   ],
   "source": [
    "timestamps"
   ]
  },
  {
   "cell_type": "code",
   "execution_count": 4,
   "id": "alternate-victory",
   "metadata": {
    "execution": {
     "iopub.execute_input": "2021-10-10T22:00:08.626099Z",
     "iopub.status.busy": "2021-10-10T22:00:08.624043Z",
     "iopub.status.idle": "2021-10-10T22:00:09.376669Z",
     "shell.execute_reply": "2021-10-10T22:00:09.377878Z"
    },
    "papermill": {
     "duration": 0.788654,
     "end_time": "2021-10-10T22:00:09.378273",
     "exception": false,
     "start_time": "2021-10-10T22:00:08.589619",
     "status": "completed"
    },
    "tags": []
   },
   "outputs": [],
   "source": [
    "df = pd.read_sql(\"select * from EBAY_TOP_BERLIN where record_time in (select distinct record_time from EBAY_TOP_BERLIN order by record_time desc limit 2)\", sqlite3.connect(\"UsedObjects.db\"))"
   ]
  },
  {
   "cell_type": "code",
   "execution_count": 5,
   "id": "popular-active",
   "metadata": {
    "execution": {
     "iopub.execute_input": "2021-10-10T22:00:09.449399Z",
     "iopub.status.busy": "2021-10-10T22:00:09.437182Z",
     "iopub.status.idle": "2021-10-10T22:00:09.465531Z",
     "shell.execute_reply": "2021-10-10T22:00:09.466872Z"
    },
    "papermill": {
     "duration": 0.068322,
     "end_time": "2021-10-10T22:00:09.467285",
     "exception": false,
     "start_time": "2021-10-10T22:00:09.398963",
     "status": "completed"
    },
    "tags": []
   },
   "outputs": [],
   "source": [
    "df_pivot = df.pivot_table(index=\"PRODUCT\", columns = \"RECORD_TIME\", values = \"LISTING_COUNT\")"
   ]
  },
  {
   "cell_type": "code",
   "execution_count": 6,
   "id": "union-huntington",
   "metadata": {
    "execution": {
     "iopub.execute_input": "2021-10-10T22:00:09.524340Z",
     "iopub.status.busy": "2021-10-10T22:00:09.522241Z",
     "iopub.status.idle": "2021-10-10T22:00:09.527602Z",
     "shell.execute_reply": "2021-10-10T22:00:09.528825Z"
    },
    "papermill": {
     "duration": 0.040289,
     "end_time": "2021-10-10T22:00:09.529254",
     "exception": false,
     "start_time": "2021-10-10T22:00:09.488965",
     "status": "completed"
    },
    "tags": []
   },
   "outputs": [],
   "source": [
    "df_pivot.columns = [\"stamp_1\", \"stamp_2\"]\n",
    "df_pivot_diff = df_pivot.diff(axis=1)"
   ]
  },
  {
   "cell_type": "code",
   "execution_count": 7,
   "id": "fifth-motion",
   "metadata": {
    "execution": {
     "iopub.execute_input": "2021-10-10T22:00:09.587182Z",
     "iopub.status.busy": "2021-10-10T22:00:09.584459Z",
     "iopub.status.idle": "2021-10-10T22:00:11.072784Z",
     "shell.execute_reply": "2021-10-10T22:00:11.074078Z"
    },
    "papermill": {
     "duration": 1.522152,
     "end_time": "2021-10-10T22:00:11.074489",
     "exception": false,
     "start_time": "2021-10-10T22:00:09.552337",
     "status": "completed"
    },
    "tags": []
   },
   "outputs": [
    {
     "data": {
      "text/plain": [
       "<AxesSubplot:ylabel='PRODUCT'>"
      ]
     },
     "execution_count": 7,
     "metadata": {},
     "output_type": "execute_result"
    },
    {
     "data": {
      "image/png": "[encoded data removed]",
      "text/plain": [
       "<Figure size 432x288 with 1 Axes>"
      ]
     },
     "metadata": {
      "needs_background": "light"
     },
     "output_type": "display_data"
    }
   ],
   "source": [
    "df_pivot_diff.sort_values(\"stamp_2\", ascending = False)[\"stamp_2\"].head(10).plot.barh()"
   ]
  },
  {
   "cell_type": "code",
   "execution_count": null,
   "id": "extra-executive",
   "metadata": {
    "papermill": {
     "duration": 0.022146,
     "end_time": "2021-10-10T22:00:11.121418",
     "exception": false,
     "start_time": "2021-10-10T22:00:11.099272",
     "status": "completed"
    },
    "tags": []
   },
   "outputs": [],
   "source": []
  }
 ],
 "metadata": {
  "kernelspec": {
   "display_name": "Python 3",
   "language": "python",
   "name": "python3"
  },
  "language_info": {
   "codemirror_mode": {
    "name": "ipython",
    "version": 3
   },
   "file_extension": ".py",
   "mimetype": "text/x-python",
   "name": "python",
   "nbconvert_exporter": "python",
   "pygments_lexer": "ipython3",
   "version": "3.9.5"
  },
  "papermill": {
   "default_parameters": {},
   "duration": 7.835153,
   "end_time": "2021-10-10T22:00:12.492325",
   "environment_variables": {},
   "exception": null,
   "input_path": "eBay_Overview.ipynb",
   "output_path": "eBay_Overview.ipynb",
   "parameters": {},
   "start_time": "2021-10-10T22:00:04.657172",
   "version": "2.3.3"
  }
 },
 "nbformat": 4,
 "nbformat_minor": 5
}