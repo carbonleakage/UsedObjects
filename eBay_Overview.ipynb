{
 "cells": [
  {
   "cell_type": "code",
   "execution_count": 1,
   "id": "reverse-picking",
   "metadata": {
    "execution": {
     "iopub.execute_input": "2021-11-04T13:30:07.826446Z",
     "iopub.status.busy": "2021-11-04T13:30:07.824103Z",
     "iopub.status.idle": "2021-11-04T13:30:08.790117Z",
     "shell.execute_reply": "2021-11-04T13:30:08.788051Z"
    },
    "papermill": {
     "duration": 1.011274,
     "end_time": "2021-11-04T13:30:08.790613",
     "exception": false,
     "start_time": "2021-11-04T13:30:07.779339",
     "status": "completed"
    },
    "tags": []
   },
   "outputs": [],
   "source": [
    "import pandas as pd\n",
    "import sqlite3"
   ]
  },
  {
   "cell_type": "code",
   "execution_count": 2,
   "id": "innovative-syndrome",
   "metadata": {
    "execution": {
     "iopub.execute_input": "2021-11-04T13:30:08.854714Z",
     "iopub.status.busy": "2021-11-04T13:30:08.852460Z",
     "iopub.status.idle": "2021-11-04T13:30:09.597683Z",
     "shell.execute_reply": "2021-11-04T13:30:09.599341Z"
    },
    "papermill": {
     "duration": 0.781961,
     "end_time": "2021-11-04T13:30:09.599949",
     "exception": false,
     "start_time": "2021-11-04T13:30:08.817988",
     "status": "completed"
    },
    "tags": []
   },
   "outputs": [],
   "source": [
    "timestamps = pd.read_sql(\"select distinct record_time from EBAY_TOP_BERLIN order by record_time desc limit 2\", sqlite3.connect(\"UsedObjects.db\"))"
   ]
  },
  {
   "cell_type": "code",
   "execution_count": 3,
   "id": "periodic-identification",
   "metadata": {
    "execution": {
     "iopub.execute_input": "2021-11-04T13:30:09.669904Z",
     "iopub.status.busy": "2021-11-04T13:30:09.667549Z",
     "iopub.status.idle": "2021-11-04T13:30:09.688740Z",
     "shell.execute_reply": "2021-11-04T13:30:09.690104Z"
    },
    "papermill": {
     "duration": 0.069966,
     "end_time": "2021-11-04T13:30:09.690570",
     "exception": false,
     "start_time": "2021-11-04T13:30:09.620604",
     "status": "completed"
    },
    "tags": []
   },
   "outputs": [
    {
     "data": {
      "text/html": [
       "<div>\n",
       "<style scoped>\n",
       "    .dataframe tbody tr th:only-of-type {\n",
       "        vertical-align: middle;\n",
       "    }\n",
       "\n",
       "    .dataframe tbody tr th {\n",
       "        vertical-align: top;\n",
       "    }\n",
       "\n",
       "    .dataframe thead th {\n",
       "        text-align: right;\n",
       "    }\n",
       "</style>\n",
       "<table border=\"1\" class=\"dataframe\">\n",
       "  <thead>\n",
       "    <tr style=\"text-align: right;\">\n",
       "      <th></th>\n",
       "      <th>RECORD_TIME</th>\n",
       "    </tr>\n",
       "  </thead>\n",
       "  <tbody>\n",
       "    <tr>\n",
       "      <th>0</th>\n",
       "      <td>2021-11-04 14:30</td>\n",
       "    </tr>\n",
       "    <tr>\n",
       "      <th>1</th>\n",
       "      <td>2021-11-04 14:00</td>\n",
       "    </tr>\n",
       "  </tbody>\n",
       "</table>\n",
       "</div>"
      ],
      "text/plain": [
       "        RECORD_TIME\n",
       "0  2021-11-04 14:30\n",
       "1  2021-11-04 14:00"
      ]
     },
     "execution_count": 3,
     "metadata": {},
     "output_type": "execute_result"
    }
   ],
   "source": [
    "timestamps"
   ]
  },
  {
   "cell_type": "code",
   "execution_count": 4,
   "id": "alternate-victory",
   "metadata": {
    "execution": {
     "iopub.execute_input": "2021-11-04T13:30:09.743978Z",
     "iopub.status.busy": "2021-11-04T13:30:09.742030Z",
     "iopub.status.idle": "2021-11-04T13:30:10.818268Z",
     "shell.execute_reply": "2021-11-04T13:30:10.819882Z"
    },
    "papermill": {
     "duration": 1.108869,
     "end_time": "2021-11-04T13:30:10.820415",
     "exception": false,
     "start_time": "2021-11-04T13:30:09.711546",
     "status": "completed"
    },
    "tags": []
   },
   "outputs": [],
   "source": [
    "df = pd.read_sql(\"select * from EBAY_TOP_BERLIN where record_time in (select distinct record_time from EBAY_TOP_BERLIN order by record_time desc limit 2)\", sqlite3.connect(\"UsedObjects.db\"))"
   ]
  },
  {
   "cell_type": "code",
   "execution_count": 5,
   "id": "popular-active",
   "metadata": {
    "execution": {
     "iopub.execute_input": "2021-11-04T13:30:10.901470Z",
     "iopub.status.busy": "2021-11-04T13:30:10.886551Z",
     "iopub.status.idle": "2021-11-04T13:30:10.921319Z",
     "shell.execute_reply": "2021-11-04T13:30:10.922964Z"
    },
    "papermill": {
     "duration": 0.080012,
     "end_time": "2021-11-04T13:30:10.923464",
     "exception": false,
     "start_time": "2021-11-04T13:30:10.843452",
     "status": "completed"
    },
    "tags": []
   },
   "outputs": [],
   "source": [
    "df_pivot = df.pivot_table(index=\"PRODUCT\", columns = \"RECORD_TIME\", values = \"LISTING_COUNT\")"
   ]
  },
  {
   "cell_type": "code",
   "execution_count": 6,
   "id": "union-huntington",
   "metadata": {
    "execution": {
     "iopub.execute_input": "2021-11-04T13:30:10.988089Z",
     "iopub.status.busy": "2021-11-04T13:30:10.984755Z",
     "iopub.status.idle": "2021-11-04T13:30:10.993036Z",
     "shell.execute_reply": "2021-11-04T13:30:10.994626Z"
    },
    "papermill": {
     "duration": 0.04891,
     "end_time": "2021-11-04T13:30:10.995121",
     "exception": false,
     "start_time": "2021-11-04T13:30:10.946211",
     "status": "completed"
    },
    "tags": []
   },
   "outputs": [],
   "source": [
    "df_pivot.columns = [\"stamp_1\", \"stamp_2\"]\n",
    "df_pivot_diff = df_pivot.diff(axis=1)"
   ]
  },
  {
   "cell_type": "code",
   "execution_count": 7,
   "id": "fifth-motion",
   "metadata": {
    "execution": {
     "iopub.execute_input": "2021-11-04T13:30:11.054544Z",
     "iopub.status.busy": "2021-11-04T13:30:11.051660Z",
     "iopub.status.idle": "2021-11-04T13:30:12.824021Z",
     "shell.execute_reply": "2021-11-04T13:30:12.827207Z"
    },
    "papermill": {
     "duration": 1.811323,
     "end_time": "2021-11-04T13:30:12.828098",
     "exception": false,
     "start_time": "2021-11-04T13:30:11.016775",
     "status": "completed"
    },
    "tags": []
   },
   "outputs": [
    {
     "data": {
      "text/plain": [
       "<AxesSubplot:ylabel='PRODUCT'>"
      ]
     },
     "execution_count": 7,
     "metadata": {},
     "output_type": "execute_result"
    },
    {
     "data": {
      "image/png": "[encoded data removed]",
      "text/plain": [
       "<Figure size 432x288 with 1 Axes>"
      ]
     },
     "metadata": {
      "needs_background": "light"
     },
     "output_type": "display_data"
    }
   ],
   "source": [
    "df_pivot_diff.sort_values(\"stamp_2\", ascending = False)[\"stamp_2\"].head(10).plot.barh()"
   ]
  },
  {
   "cell_type": "code",
   "execution_count": null,
   "id": "extra-executive",
   "metadata": {
    "papermill": {
     "duration": 0.038505,
     "end_time": "2021-11-04T13:30:12.905763",
     "exception": false,
     "start_time": "2021-11-04T13:30:12.867258",
     "status": "completed"
    },
    "tags": []
   },
   "outputs": [],
   "source": []
  }
 ],
 "metadata": {
  "kernelspec": {
   "display_name": "Python 3",
   "language": "python",
   "name": "python3"
  },
  "language_info": {
   "codemirror_mode": {
    "name": "ipython",
    "version": 3
   },
   "file_extension": ".py",
   "mimetype": "text/x-python",
   "name": "python",
   "nbconvert_exporter": "python",
   "pygments_lexer": "ipython3",
   "version": "3.9.5"
  },
  "papermill": {
   "default_parameters": {},
   "duration": 8.765603,
   "end_time": "2021-11-04T13:30:13.767865",
   "environment_variables": {},
   "exception": null,
   "input_path": "eBay_Overview.ipynb",
   "output_path": "eBay_Overview.ipynb",
   "parameters": {},
   "start_time": "2021-11-04T13:30:05.002262",
   "version": "2.3.3"
  }
 },
 "nbformat": 4,
 "nbformat_minor": 5
}