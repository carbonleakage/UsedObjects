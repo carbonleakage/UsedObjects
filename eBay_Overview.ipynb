{
 "cells": [
  {
   "cell_type": "code",
   "execution_count": 1,
   "id": "reverse-picking",
   "metadata": {
    "execution": {
     "iopub.execute_input": "2021-11-11T15:30:07.412540Z",
     "iopub.status.busy": "2021-11-11T15:30:07.410453Z",
     "iopub.status.idle": "2021-11-11T15:30:08.358806Z",
     "shell.execute_reply": "2021-11-11T15:30:08.360368Z"
    },
    "papermill": {
     "duration": 0.995287,
     "end_time": "2021-11-11T15:30:08.361216",
     "exception": false,
     "start_time": "2021-11-11T15:30:07.365929",
     "status": "completed"
    },
    "tags": []
   },
   "outputs": [],
   "source": [
    "import pandas as pd\n",
    "import sqlite3"
   ]
  },
  {
   "cell_type": "code",
   "execution_count": 2,
   "id": "innovative-syndrome",
   "metadata": {
    "execution": {
     "iopub.execute_input": "2021-11-11T15:30:08.424300Z",
     "iopub.status.busy": "2021-11-11T15:30:08.422075Z",
     "iopub.status.idle": "2021-11-11T15:30:09.201991Z",
     "shell.execute_reply": "2021-11-11T15:30:09.203346Z"
    },
    "papermill": {
     "duration": 0.814111,
     "end_time": "2021-11-11T15:30:09.203831",
     "exception": false,
     "start_time": "2021-11-11T15:30:08.389720",
     "status": "completed"
    },
    "tags": []
   },
   "outputs": [],
   "source": [
    "timestamps = pd.read_sql(\"select distinct record_time from EBAY_TOP_BERLIN order by record_time desc limit 2\", sqlite3.connect(\"UsedObjects.db\"))"
   ]
  },
  {
   "cell_type": "code",
   "execution_count": 3,
   "id": "periodic-identification",
   "metadata": {
    "execution": {
     "iopub.execute_input": "2021-11-11T15:30:09.277145Z",
     "iopub.status.busy": "2021-11-11T15:30:09.271515Z",
     "iopub.status.idle": "2021-11-11T15:30:09.295682Z",
     "shell.execute_reply": "2021-11-11T15:30:09.297081Z"
    },
    "papermill": {
     "duration": 0.073028,
     "end_time": "2021-11-11T15:30:09.297563",
     "exception": false,
     "start_time": "2021-11-11T15:30:09.224535",
     "status": "completed"
    },
    "tags": []
   },
   "outputs": [
    {
     "data": {
      "text/html": [
       "<div>\n",
       "<style scoped>\n",
       "    .dataframe tbody tr th:only-of-type {\n",
       "        vertical-align: middle;\n",
       "    }\n",
       "\n",
       "    .dataframe tbody tr th {\n",
       "        vertical-align: top;\n",
       "    }\n",
       "\n",
       "    .dataframe thead th {\n",
       "        text-align: right;\n",
       "    }\n",
       "</style>\n",
       "<table border=\"1\" class=\"dataframe\">\n",
       "  <thead>\n",
       "    <tr style=\"text-align: right;\">\n",
       "      <th></th>\n",
       "      <th>RECORD_TIME</th>\n",
       "    </tr>\n",
       "  </thead>\n",
       "  <tbody>\n",
       "    <tr>\n",
       "      <th>0</th>\n",
       "      <td>2021-11-11 16:30</td>\n",
       "    </tr>\n",
       "    <tr>\n",
       "      <th>1</th>\n",
       "      <td>2021-11-11 16:00</td>\n",
       "    </tr>\n",
       "  </tbody>\n",
       "</table>\n",
       "</div>"
      ],
      "text/plain": [
       "        RECORD_TIME\n",
       "0  2021-11-11 16:30\n",
       "1  2021-11-11 16:00"
      ]
     },
     "execution_count": 3,
     "metadata": {},
     "output_type": "execute_result"
    }
   ],
   "source": [
    "timestamps"
   ]
  },
  {
   "cell_type": "code",
   "execution_count": 4,
   "id": "alternate-victory",
   "metadata": {
    "execution": {
     "iopub.execute_input": "2021-11-11T15:30:09.350867Z",
     "iopub.status.busy": "2021-11-11T15:30:09.348826Z",
     "iopub.status.idle": "2021-11-11T15:30:10.493194Z",
     "shell.execute_reply": "2021-11-11T15:30:10.495484Z"
    },
    "papermill": {
     "duration": 1.178115,
     "end_time": "2021-11-11T15:30:10.496033",
     "exception": false,
     "start_time": "2021-11-11T15:30:09.317918",
     "status": "completed"
    },
    "tags": []
   },
   "outputs": [],
   "source": [
    "df = pd.read_sql(\"select * from EBAY_TOP_BERLIN where record_time in (select distinct record_time from EBAY_TOP_BERLIN order by record_time desc limit 2)\", sqlite3.connect(\"UsedObjects.db\"))"
   ]
  },
  {
   "cell_type": "code",
   "execution_count": 5,
   "id": "popular-active",
   "metadata": {
    "execution": {
     "iopub.execute_input": "2021-11-11T15:30:10.576933Z",
     "iopub.status.busy": "2021-11-11T15:30:10.562751Z",
     "iopub.status.idle": "2021-11-11T15:30:10.595963Z",
     "shell.execute_reply": "2021-11-11T15:30:10.597571Z"
    },
    "papermill": {
     "duration": 0.079896,
     "end_time": "2021-11-11T15:30:10.598082",
     "exception": false,
     "start_time": "2021-11-11T15:30:10.518186",
     "status": "completed"
    },
    "tags": []
   },
   "outputs": [],
   "source": [
    "df_pivot = df.pivot_table(index=\"PRODUCT\", columns = \"RECORD_TIME\", values = \"LISTING_COUNT\")"
   ]
  },
  {
   "cell_type": "code",
   "execution_count": 6,
   "id": "union-huntington",
   "metadata": {
    "execution": {
     "iopub.execute_input": "2021-11-11T15:30:10.661490Z",
     "iopub.status.busy": "2021-11-11T15:30:10.659088Z",
     "iopub.status.idle": "2021-11-11T15:30:10.666483Z",
     "shell.execute_reply": "2021-11-11T15:30:10.664252Z"
    },
    "papermill": {
     "duration": 0.045654,
     "end_time": "2021-11-11T15:30:10.666953",
     "exception": false,
     "start_time": "2021-11-11T15:30:10.621299",
     "status": "completed"
    },
    "tags": []
   },
   "outputs": [],
   "source": [
    "df_pivot.columns = [\"stamp_1\", \"stamp_2\"]\n",
    "df_pivot_diff = df_pivot.diff(axis=1)"
   ]
  },
  {
   "cell_type": "code",
   "execution_count": 7,
   "id": "fifth-motion",
   "metadata": {
    "execution": {
     "iopub.execute_input": "2021-11-11T15:30:10.726855Z",
     "iopub.status.busy": "2021-11-11T15:30:10.724335Z",
     "iopub.status.idle": "2021-11-11T15:30:12.516100Z",
     "shell.execute_reply": "2021-11-11T15:30:12.518886Z"
    },
    "papermill": {
     "duration": 1.830934,
     "end_time": "2021-11-11T15:30:12.519778",
     "exception": false,
     "start_time": "2021-11-11T15:30:10.688844",
     "status": "completed"
    },
    "tags": []
   },
   "outputs": [
    {
     "data": {
      "text/plain": [
       "<AxesSubplot:ylabel='PRODUCT'>"
      ]
     },
     "execution_count": 7,
     "metadata": {},
     "output_type": "execute_result"
    },
    {
     "data": {
      "image/png": "[encoded data removed]",
      "text/plain": [
       "<Figure size 432x288 with 1 Axes>"
      ]
     },
     "metadata": {
      "needs_background": "light"
     },
     "output_type": "display_data"
    }
   ],
   "source": [
    "df_pivot_diff.sort_values(\"stamp_2\", ascending = False)[\"stamp_2\"].head(10).plot.barh()"
   ]
  },
  {
   "cell_type": "code",
   "execution_count": null,
   "id": "extra-executive",
   "metadata": {
    "papermill": {
     "duration": 0.035173,
     "end_time": "2021-11-11T15:30:12.592143",
     "exception": false,
     "start_time": "2021-11-11T15:30:12.556970",
     "status": "completed"
    },
    "tags": []
   },
   "outputs": [],
   "source": []
  }
 ],
 "metadata": {
  "kernelspec": {
   "display_name": "Python 3",
   "language": "python",
   "name": "python3"
  },
  "language_info": {
   "codemirror_mode": {
    "name": "ipython",
    "version": 3
   },
   "file_extension": ".py",
   "mimetype": "text/x-python",
   "name": "python",
   "nbconvert_exporter": "python",
   "pygments_lexer": "ipython3",
   "version": "3.9.5"
  },
  "papermill": {
   "default_parameters": {},
   "duration": 8.841089,
   "end_time": "2021-11-11T15:30:13.467964",
   "environment_variables": {},
   "exception": null,
   "input_path": "eBay_Overview.ipynb",
   "output_path": "eBay_Overview.ipynb",
   "parameters": {},
   "start_time": "2021-11-11T15:30:04.626875",
   "version": "2.3.3"
  }
 },
 "nbformat": 4,
 "nbformat_minor": 5
}