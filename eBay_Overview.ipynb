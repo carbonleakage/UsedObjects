{
 "cells": [
  {
   "cell_type": "code",
   "execution_count": 1,
   "id": "reverse-picking",
   "metadata": {
    "execution": {
     "iopub.execute_input": "2021-11-03T14:30:07.708199Z",
     "iopub.status.busy": "2021-11-03T14:30:07.705785Z",
     "iopub.status.idle": "2021-11-03T14:30:08.659044Z",
     "shell.execute_reply": "2021-11-03T14:30:08.660673Z"
    },
    "papermill": {
     "duration": 1.003876,
     "end_time": "2021-11-03T14:30:08.661470",
     "exception": false,
     "start_time": "2021-11-03T14:30:07.657594",
     "status": "completed"
    },
    "tags": []
   },
   "outputs": [],
   "source": [
    "import pandas as pd\n",
    "import sqlite3"
   ]
  },
  {
   "cell_type": "code",
   "execution_count": 2,
   "id": "innovative-syndrome",
   "metadata": {
    "execution": {
     "iopub.execute_input": "2021-11-03T14:30:08.726142Z",
     "iopub.status.busy": "2021-11-03T14:30:08.723518Z",
     "iopub.status.idle": "2021-11-03T14:30:09.429560Z",
     "shell.execute_reply": "2021-11-03T14:30:09.431274Z"
    },
    "papermill": {
     "duration": 0.741539,
     "end_time": "2021-11-03T14:30:09.431781",
     "exception": false,
     "start_time": "2021-11-03T14:30:08.690242",
     "status": "completed"
    },
    "tags": []
   },
   "outputs": [],
   "source": [
    "timestamps = pd.read_sql(\"select distinct record_time from EBAY_TOP_BERLIN order by record_time desc limit 2\", sqlite3.connect(\"UsedObjects.db\"))"
   ]
  },
  {
   "cell_type": "code",
   "execution_count": 3,
   "id": "periodic-identification",
   "metadata": {
    "execution": {
     "iopub.execute_input": "2021-11-03T14:30:09.508578Z",
     "iopub.status.busy": "2021-11-03T14:30:09.502514Z",
     "iopub.status.idle": "2021-11-03T14:30:09.525147Z",
     "shell.execute_reply": "2021-11-03T14:30:09.526636Z"
    },
    "papermill": {
     "duration": 0.074511,
     "end_time": "2021-11-03T14:30:09.527126",
     "exception": false,
     "start_time": "2021-11-03T14:30:09.452615",
     "status": "completed"
    },
    "tags": []
   },
   "outputs": [
    {
     "data": {
      "text/html": [
       "<div>\n",
       "<style scoped>\n",
       "    .dataframe tbody tr th:only-of-type {\n",
       "        vertical-align: middle;\n",
       "    }\n",
       "\n",
       "    .dataframe tbody tr th {\n",
       "        vertical-align: top;\n",
       "    }\n",
       "\n",
       "    .dataframe thead th {\n",
       "        text-align: right;\n",
       "    }\n",
       "</style>\n",
       "<table border=\"1\" class=\"dataframe\">\n",
       "  <thead>\n",
       "    <tr style=\"text-align: right;\">\n",
       "      <th></th>\n",
       "      <th>RECORD_TIME</th>\n",
       "    </tr>\n",
       "  </thead>\n",
       "  <tbody>\n",
       "    <tr>\n",
       "      <th>0</th>\n",
       "      <td>2021-11-03 15:30</td>\n",
       "    </tr>\n",
       "    <tr>\n",
       "      <th>1</th>\n",
       "      <td>2021-11-03 15:00</td>\n",
       "    </tr>\n",
       "  </tbody>\n",
       "</table>\n",
       "</div>"
      ],
      "text/plain": [
       "        RECORD_TIME\n",
       "0  2021-11-03 15:30\n",
       "1  2021-11-03 15:00"
      ]
     },
     "execution_count": 3,
     "metadata": {},
     "output_type": "execute_result"
    }
   ],
   "source": [
    "timestamps"
   ]
  },
  {
   "cell_type": "code",
   "execution_count": 4,
   "id": "alternate-victory",
   "metadata": {
    "execution": {
     "iopub.execute_input": "2021-11-03T14:30:09.587163Z",
     "iopub.status.busy": "2021-11-03T14:30:09.583804Z",
     "iopub.status.idle": "2021-11-03T14:30:10.614474Z",
     "shell.execute_reply": "2021-11-03T14:30:10.615947Z"
    },
    "papermill": {
     "duration": 1.066818,
     "end_time": "2021-11-03T14:30:10.616429",
     "exception": false,
     "start_time": "2021-11-03T14:30:09.549611",
     "status": "completed"
    },
    "tags": []
   },
   "outputs": [],
   "source": [
    "df = pd.read_sql(\"select * from EBAY_TOP_BERLIN where record_time in (select distinct record_time from EBAY_TOP_BERLIN order by record_time desc limit 2)\", sqlite3.connect(\"UsedObjects.db\"))"
   ]
  },
  {
   "cell_type": "code",
   "execution_count": 5,
   "id": "popular-active",
   "metadata": {
    "execution": {
     "iopub.execute_input": "2021-11-03T14:30:10.692739Z",
     "iopub.status.busy": "2021-11-03T14:30:10.684413Z",
     "iopub.status.idle": "2021-11-03T14:30:10.710298Z",
     "shell.execute_reply": "2021-11-03T14:30:10.711874Z"
    },
    "papermill": {
     "duration": 0.074854,
     "end_time": "2021-11-03T14:30:10.712431",
     "exception": false,
     "start_time": "2021-11-03T14:30:10.637577",
     "status": "completed"
    },
    "tags": []
   },
   "outputs": [],
   "source": [
    "df_pivot = df.pivot_table(index=\"PRODUCT\", columns = \"RECORD_TIME\", values = \"LISTING_COUNT\")"
   ]
  },
  {
   "cell_type": "code",
   "execution_count": 6,
   "id": "union-huntington",
   "metadata": {
    "execution": {
     "iopub.execute_input": "2021-11-03T14:30:10.791143Z",
     "iopub.status.busy": "2021-11-03T14:30:10.787199Z",
     "iopub.status.idle": "2021-11-03T14:30:10.798374Z",
     "shell.execute_reply": "2021-11-03T14:30:10.800951Z"
    },
    "papermill": {
     "duration": 0.067528,
     "end_time": "2021-11-03T14:30:10.801719",
     "exception": false,
     "start_time": "2021-11-03T14:30:10.734191",
     "status": "completed"
    },
    "tags": []
   },
   "outputs": [],
   "source": [
    "df_pivot.columns = [\"stamp_1\", \"stamp_2\"]\n",
    "df_pivot_diff = df_pivot.diff(axis=1)"
   ]
  },
  {
   "cell_type": "code",
   "execution_count": 7,
   "id": "fifth-motion",
   "metadata": {
    "execution": {
     "iopub.execute_input": "2021-11-03T14:30:10.873443Z",
     "iopub.status.busy": "2021-11-03T14:30:10.870711Z",
     "iopub.status.idle": "2021-11-03T14:30:12.802859Z",
     "shell.execute_reply": "2021-11-03T14:30:12.804246Z"
    },
    "papermill": {
     "duration": 1.971273,
     "end_time": "2021-11-03T14:30:12.804813",
     "exception": false,
     "start_time": "2021-11-03T14:30:10.833540",
     "status": "completed"
    },
    "tags": []
   },
   "outputs": [
    {
     "data": {
      "text/plain": [
       "<AxesSubplot:ylabel='PRODUCT'>"
      ]
     },
     "execution_count": 7,
     "metadata": {},
     "output_type": "execute_result"
    },
    {
     "data": {
      "image/png": "[encoded data removed]",
      "text/plain": [
       "<Figure size 432x288 with 1 Axes>"
      ]
     },
     "metadata": {
      "needs_background": "light"
     },
     "output_type": "display_data"
    }
   ],
   "source": [
    "df_pivot_diff.sort_values(\"stamp_2\", ascending = False)[\"stamp_2\"].head(10).plot.barh()"
   ]
  },
  {
   "cell_type": "code",
   "execution_count": null,
   "id": "extra-executive",
   "metadata": {
    "papermill": {
     "duration": 0.027186,
     "end_time": "2021-11-03T14:30:12.856604",
     "exception": false,
     "start_time": "2021-11-03T14:30:12.829418",
     "status": "completed"
    },
    "tags": []
   },
   "outputs": [],
   "source": []
  }
 ],
 "metadata": {
  "kernelspec": {
   "display_name": "Python 3",
   "language": "python",
   "name": "python3"
  },
  "language_info": {
   "codemirror_mode": {
    "name": "ipython",
    "version": 3
   },
   "file_extension": ".py",
   "mimetype": "text/x-python",
   "name": "python",
   "nbconvert_exporter": "python",
   "pygments_lexer": "ipython3",
   "version": "3.9.5"
  },
  "papermill": {
   "default_parameters": {},
   "duration": 8.793822,
   "end_time": "2021-11-03T14:30:13.738253",
   "environment_variables": {},
   "exception": null,
   "input_path": "eBay_Overview.ipynb",
   "output_path": "eBay_Overview.ipynb",
   "parameters": {},
   "start_time": "2021-11-03T14:30:04.944431",
   "version": "2.3.3"
  }
 },
 "nbformat": 4,
 "nbformat_minor": 5
}