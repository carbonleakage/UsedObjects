{
 "cells": [
  {
   "cell_type": "code",
   "execution_count": 1,
   "id": "reverse-picking",
   "metadata": {
    "execution": {
     "iopub.execute_input": "2021-10-22T08:30:06.855060Z",
     "iopub.status.busy": "2021-10-22T08:30:06.853067Z",
     "iopub.status.idle": "2021-10-22T08:30:07.658060Z",
     "shell.execute_reply": "2021-10-22T08:30:07.659330Z"
    },
    "papermill": {
     "duration": 0.857421,
     "end_time": "2021-10-22T08:30:07.659949",
     "exception": false,
     "start_time": "2021-10-22T08:30:06.802528",
     "status": "completed"
    },
    "tags": []
   },
   "outputs": [],
   "source": [
    "import pandas as pd\n",
    "import sqlite3"
   ]
  },
  {
   "cell_type": "code",
   "execution_count": 2,
   "id": "innovative-syndrome",
   "metadata": {
    "execution": {
     "iopub.execute_input": "2021-10-22T08:30:07.711852Z",
     "iopub.status.busy": "2021-10-22T08:30:07.709958Z",
     "iopub.status.idle": "2021-10-22T08:30:08.301966Z",
     "shell.execute_reply": "2021-10-22T08:30:08.303373Z"
    },
    "papermill": {
     "duration": 0.62189,
     "end_time": "2021-10-22T08:30:08.303817",
     "exception": false,
     "start_time": "2021-10-22T08:30:07.681927",
     "status": "completed"
    },
    "tags": []
   },
   "outputs": [],
   "source": [
    "timestamps = pd.read_sql(\"select distinct record_time from EBAY_TOP_BERLIN order by record_time desc limit 2\", sqlite3.connect(\"UsedObjects.db\"))"
   ]
  },
  {
   "cell_type": "code",
   "execution_count": 3,
   "id": "periodic-identification",
   "metadata": {
    "execution": {
     "iopub.execute_input": "2021-10-22T08:30:08.378694Z",
     "iopub.status.busy": "2021-10-22T08:30:08.376589Z",
     "iopub.status.idle": "2021-10-22T08:30:08.397085Z",
     "shell.execute_reply": "2021-10-22T08:30:08.398594Z"
    },
    "papermill": {
     "duration": 0.069685,
     "end_time": "2021-10-22T08:30:08.399046",
     "exception": false,
     "start_time": "2021-10-22T08:30:08.329361",
     "status": "completed"
    },
    "tags": []
   },
   "outputs": [
    {
     "data": {
      "text/html": [
       "<div>\n",
       "<style scoped>\n",
       "    .dataframe tbody tr th:only-of-type {\n",
       "        vertical-align: middle;\n",
       "    }\n",
       "\n",
       "    .dataframe tbody tr th {\n",
       "        vertical-align: top;\n",
       "    }\n",
       "\n",
       "    .dataframe thead th {\n",
       "        text-align: right;\n",
       "    }\n",
       "</style>\n",
       "<table border=\"1\" class=\"dataframe\">\n",
       "  <thead>\n",
       "    <tr style=\"text-align: right;\">\n",
       "      <th></th>\n",
       "      <th>RECORD_TIME</th>\n",
       "    </tr>\n",
       "  </thead>\n",
       "  <tbody>\n",
       "    <tr>\n",
       "      <th>0</th>\n",
       "      <td>2021-10-22 10:30</td>\n",
       "    </tr>\n",
       "    <tr>\n",
       "      <th>1</th>\n",
       "      <td>2021-10-22 10:00</td>\n",
       "    </tr>\n",
       "  </tbody>\n",
       "</table>\n",
       "</div>"
      ],
      "text/plain": [
       "        RECORD_TIME\n",
       "0  2021-10-22 10:30\n",
       "1  2021-10-22 10:00"
      ]
     },
     "execution_count": 3,
     "metadata": {},
     "output_type": "execute_result"
    }
   ],
   "source": [
    "timestamps"
   ]
  },
  {
   "cell_type": "code",
   "execution_count": 4,
   "id": "alternate-victory",
   "metadata": {
    "execution": {
     "iopub.execute_input": "2021-10-22T08:30:08.450751Z",
     "iopub.status.busy": "2021-10-22T08:30:08.448874Z",
     "iopub.status.idle": "2021-10-22T08:30:09.336772Z",
     "shell.execute_reply": "2021-10-22T08:30:09.338173Z"
    },
    "papermill": {
     "duration": 0.918229,
     "end_time": "2021-10-22T08:30:09.338604",
     "exception": false,
     "start_time": "2021-10-22T08:30:08.420375",
     "status": "completed"
    },
    "tags": []
   },
   "outputs": [],
   "source": [
    "df = pd.read_sql(\"select * from EBAY_TOP_BERLIN where record_time in (select distinct record_time from EBAY_TOP_BERLIN order by record_time desc limit 2)\", sqlite3.connect(\"UsedObjects.db\"))"
   ]
  },
  {
   "cell_type": "code",
   "execution_count": 5,
   "id": "popular-active",
   "metadata": {
    "execution": {
     "iopub.execute_input": "2021-10-22T08:30:09.409148Z",
     "iopub.status.busy": "2021-10-22T08:30:09.398017Z",
     "iopub.status.idle": "2021-10-22T08:30:09.425591Z",
     "shell.execute_reply": "2021-10-22T08:30:09.426828Z"
    },
    "papermill": {
     "duration": 0.067796,
     "end_time": "2021-10-22T08:30:09.427224",
     "exception": false,
     "start_time": "2021-10-22T08:30:09.359428",
     "status": "completed"
    },
    "tags": []
   },
   "outputs": [],
   "source": [
    "df_pivot = df.pivot_table(index=\"PRODUCT\", columns = \"RECORD_TIME\", values = \"LISTING_COUNT\")"
   ]
  },
  {
   "cell_type": "code",
   "execution_count": 6,
   "id": "union-huntington",
   "metadata": {
    "execution": {
     "iopub.execute_input": "2021-10-22T08:30:09.484103Z",
     "iopub.status.busy": "2021-10-22T08:30:09.481935Z",
     "iopub.status.idle": "2021-10-22T08:30:09.487525Z",
     "shell.execute_reply": "2021-10-22T08:30:09.489019Z"
    },
    "papermill": {
     "duration": 0.04131,
     "end_time": "2021-10-22T08:30:09.489493",
     "exception": false,
     "start_time": "2021-10-22T08:30:09.448183",
     "status": "completed"
    },
    "tags": []
   },
   "outputs": [],
   "source": [
    "df_pivot.columns = [\"stamp_1\", \"stamp_2\"]\n",
    "df_pivot_diff = df_pivot.diff(axis=1)"
   ]
  },
  {
   "cell_type": "code",
   "execution_count": 7,
   "id": "fifth-motion",
   "metadata": {
    "execution": {
     "iopub.execute_input": "2021-10-22T08:30:09.546844Z",
     "iopub.status.busy": "2021-10-22T08:30:09.544368Z",
     "iopub.status.idle": "2021-10-22T08:30:11.008170Z",
     "shell.execute_reply": "2021-10-22T08:30:11.010280Z"
    },
    "papermill": {
     "duration": 1.498538,
     "end_time": "2021-10-22T08:30:11.010855",
     "exception": false,
     "start_time": "2021-10-22T08:30:09.512317",
     "status": "completed"
    },
    "tags": []
   },
   "outputs": [
    {
     "data": {
      "text/plain": [
       "<AxesSubplot:ylabel='PRODUCT'>"
      ]
     },
     "execution_count": 7,
     "metadata": {},
     "output_type": "execute_result"
    },
    {
     "data": {
      "image/png": "[encoded data removed]",
      "text/plain": [
       "<Figure size 432x288 with 1 Axes>"
      ]
     },
     "metadata": {
      "needs_background": "light"
     },
     "output_type": "display_data"
    }
   ],
   "source": [
    "df_pivot_diff.sort_values(\"stamp_2\", ascending = False)[\"stamp_2\"].head(10).plot.barh()"
   ]
  },
  {
   "cell_type": "code",
   "execution_count": null,
   "id": "extra-executive",
   "metadata": {
    "papermill": {
     "duration": 0.022347,
     "end_time": "2021-10-22T08:30:11.057652",
     "exception": false,
     "start_time": "2021-10-22T08:30:11.035305",
     "status": "completed"
    },
    "tags": []
   },
   "outputs": [],
   "source": []
  }
 ],
 "metadata": {
  "kernelspec": {
   "display_name": "Python 3",
   "language": "python",
   "name": "python3"
  },
  "language_info": {
   "codemirror_mode": {
    "name": "ipython",
    "version": 3
   },
   "file_extension": ".py",
   "mimetype": "text/x-python",
   "name": "python",
   "nbconvert_exporter": "python",
   "pygments_lexer": "ipython3",
   "version": "3.9.5"
  },
  "papermill": {
   "default_parameters": {},
   "duration": 7.819207,
   "end_time": "2021-10-22T08:30:12.221798",
   "environment_variables": {},
   "exception": null,
   "input_path": "eBay_Overview.ipynb",
   "output_path": "eBay_Overview.ipynb",
   "parameters": {},
   "start_time": "2021-10-22T08:30:04.402591",
   "version": "2.3.3"
  }
 },
 "nbformat": 4,
 "nbformat_minor": 5
}