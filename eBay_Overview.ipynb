{
 "cells": [
  {
   "cell_type": "code",
   "execution_count": 1,
   "id": "reverse-picking",
   "metadata": {
    "execution": {
     "iopub.execute_input": "2021-09-11T01:30:06.880909Z",
     "iopub.status.busy": "2021-09-11T01:30:06.878966Z",
     "iopub.status.idle": "2021-09-11T01:30:07.693556Z",
     "shell.execute_reply": "2021-09-11T01:30:07.694795Z"
    },
    "papermill": {
     "duration": 0.865878,
     "end_time": "2021-09-11T01:30:07.695466",
     "exception": false,
     "start_time": "2021-09-11T01:30:06.829588",
     "status": "completed"
    },
    "tags": []
   },
   "outputs": [],
   "source": [
    "import pandas as pd\n",
    "import sqlite3"
   ]
  },
  {
   "cell_type": "code",
   "execution_count": 2,
   "id": "innovative-syndrome",
   "metadata": {
    "execution": {
     "iopub.execute_input": "2021-09-11T01:30:07.746152Z",
     "iopub.status.busy": "2021-09-11T01:30:07.744304Z",
     "iopub.status.idle": "2021-09-11T01:30:08.003155Z",
     "shell.execute_reply": "2021-09-11T01:30:08.004442Z"
    },
    "papermill": {
     "duration": 0.288563,
     "end_time": "2021-09-11T01:30:08.004859",
     "exception": false,
     "start_time": "2021-09-11T01:30:07.716296",
     "status": "completed"
    },
    "tags": []
   },
   "outputs": [],
   "source": [
    "timestamps = pd.read_sql(\"select distinct record_time from EBAY_TOP_BERLIN order by record_time desc limit 2\", sqlite3.connect(\"UsedObjects.db\"))"
   ]
  },
  {
   "cell_type": "code",
   "execution_count": 3,
   "id": "periodic-identification",
   "metadata": {
    "execution": {
     "iopub.execute_input": "2021-09-11T01:30:08.070214Z",
     "iopub.status.busy": "2021-09-11T01:30:08.068191Z",
     "iopub.status.idle": "2021-09-11T01:30:08.088361Z",
     "shell.execute_reply": "2021-09-11T01:30:08.089634Z"
    },
    "papermill": {
     "duration": 0.063828,
     "end_time": "2021-09-11T01:30:08.090044",
     "exception": false,
     "start_time": "2021-09-11T01:30:08.026216",
     "status": "completed"
    },
    "tags": []
   },
   "outputs": [
    {
     "data": {
      "text/html": [
       "<div>\n",
       "<style scoped>\n",
       "    .dataframe tbody tr th:only-of-type {\n",
       "        vertical-align: middle;\n",
       "    }\n",
       "\n",
       "    .dataframe tbody tr th {\n",
       "        vertical-align: top;\n",
       "    }\n",
       "\n",
       "    .dataframe thead th {\n",
       "        text-align: right;\n",
       "    }\n",
       "</style>\n",
       "<table border=\"1\" class=\"dataframe\">\n",
       "  <thead>\n",
       "    <tr style=\"text-align: right;\">\n",
       "      <th></th>\n",
       "      <th>RECORD_TIME</th>\n",
       "    </tr>\n",
       "  </thead>\n",
       "  <tbody>\n",
       "    <tr>\n",
       "      <th>0</th>\n",
       "      <td>2021-09-11 03:30</td>\n",
       "    </tr>\n",
       "    <tr>\n",
       "      <th>1</th>\n",
       "      <td>2021-09-11 03:00</td>\n",
       "    </tr>\n",
       "  </tbody>\n",
       "</table>\n",
       "</div>"
      ],
      "text/plain": [
       "        RECORD_TIME\n",
       "0  2021-09-11 03:30\n",
       "1  2021-09-11 03:00"
      ]
     },
     "execution_count": 3,
     "metadata": {},
     "output_type": "execute_result"
    }
   ],
   "source": [
    "timestamps"
   ]
  },
  {
   "cell_type": "code",
   "execution_count": 4,
   "id": "alternate-victory",
   "metadata": {
    "execution": {
     "iopub.execute_input": "2021-09-11T01:30:08.142759Z",
     "iopub.status.busy": "2021-09-11T01:30:08.140505Z",
     "iopub.status.idle": "2021-09-11T01:30:08.523432Z",
     "shell.execute_reply": "2021-09-11T01:30:08.524929Z"
    },
    "papermill": {
     "duration": 0.414027,
     "end_time": "2021-09-11T01:30:08.525371",
     "exception": false,
     "start_time": "2021-09-11T01:30:08.111344",
     "status": "completed"
    },
    "tags": []
   },
   "outputs": [],
   "source": [
    "df = pd.read_sql(\"select * from EBAY_TOP_BERLIN where record_time in (select distinct record_time from EBAY_TOP_BERLIN order by record_time desc limit 2)\", sqlite3.connect(\"UsedObjects.db\"))"
   ]
  },
  {
   "cell_type": "code",
   "execution_count": 5,
   "id": "popular-active",
   "metadata": {
    "execution": {
     "iopub.execute_input": "2021-09-11T01:30:08.611365Z",
     "iopub.status.busy": "2021-09-11T01:30:08.598701Z",
     "iopub.status.idle": "2021-09-11T01:30:08.627441Z",
     "shell.execute_reply": "2021-09-11T01:30:08.628725Z"
    },
    "papermill": {
     "duration": 0.073686,
     "end_time": "2021-09-11T01:30:08.629141",
     "exception": false,
     "start_time": "2021-09-11T01:30:08.555455",
     "status": "completed"
    },
    "tags": []
   },
   "outputs": [],
   "source": [
    "df_pivot = df.pivot_table(index=\"PRODUCT\", columns = \"RECORD_TIME\", values = \"LISTING_COUNT\")"
   ]
  },
  {
   "cell_type": "code",
   "execution_count": 6,
   "id": "union-huntington",
   "metadata": {
    "execution": {
     "iopub.execute_input": "2021-09-11T01:30:08.685190Z",
     "iopub.status.busy": "2021-09-11T01:30:08.683138Z",
     "iopub.status.idle": "2021-09-11T01:30:08.688366Z",
     "shell.execute_reply": "2021-09-11T01:30:08.689627Z"
    },
    "papermill": {
     "duration": 0.040636,
     "end_time": "2021-09-11T01:30:08.690045",
     "exception": false,
     "start_time": "2021-09-11T01:30:08.649409",
     "status": "completed"
    },
    "tags": []
   },
   "outputs": [],
   "source": [
    "df_pivot.columns = [\"stamp_1\", \"stamp_2\"]\n",
    "df_pivot_diff = df_pivot.diff(axis=1)"
   ]
  },
  {
   "cell_type": "code",
   "execution_count": 7,
   "id": "fifth-motion",
   "metadata": {
    "execution": {
     "iopub.execute_input": "2021-09-11T01:30:08.746286Z",
     "iopub.status.busy": "2021-09-11T01:30:08.743682Z",
     "iopub.status.idle": "2021-09-11T01:30:10.262340Z",
     "shell.execute_reply": "2021-09-11T01:30:10.263777Z"
    },
    "papermill": {
     "duration": 1.552764,
     "end_time": "2021-09-11T01:30:10.264220",
     "exception": false,
     "start_time": "2021-09-11T01:30:08.711456",
     "status": "completed"
    },
    "tags": []
   },
   "outputs": [
    {
     "data": {
      "text/plain": [
       "<AxesSubplot:ylabel='PRODUCT'>"
      ]
     },
     "execution_count": 7,
     "metadata": {},
     "output_type": "execute_result"
    },
    {
     "data": {
      "image/png": "[encoded data removed]",
      "text/plain": [
       "<Figure size 432x288 with 1 Axes>"
      ]
     },
     "metadata": {
      "needs_background": "light"
     },
     "output_type": "display_data"
    }
   ],
   "source": [
    "df_pivot_diff.sort_values(\"stamp_2\", ascending = False)[\"stamp_2\"].head(10).plot.barh()"
   ]
  },
  {
   "cell_type": "code",
   "execution_count": null,
   "id": "extra-executive",
   "metadata": {
    "papermill": {
     "duration": 0.022525,
     "end_time": "2021-09-11T01:30:10.311698",
     "exception": false,
     "start_time": "2021-09-11T01:30:10.289173",
     "status": "completed"
    },
    "tags": []
   },
   "outputs": [],
   "source": []
  }
 ],
 "metadata": {
  "kernelspec": {
   "display_name": "Python 3",
   "language": "python",
   "name": "python3"
  },
  "language_info": {
   "codemirror_mode": {
    "name": "ipython",
    "version": 3
   },
   "file_extension": ".py",
   "mimetype": "text/x-python",
   "name": "python",
   "nbconvert_exporter": "python",
   "pygments_lexer": "ipython3",
   "version": "3.9.5"
  },
  "papermill": {
   "default_parameters": {},
   "duration": 6.534694,
   "end_time": "2021-09-11T01:30:10.952115",
   "environment_variables": {},
   "exception": null,
   "input_path": "eBay_Overview.ipynb",
   "output_path": "eBay_Overview.ipynb",
   "parameters": {},
   "start_time": "2021-09-11T01:30:04.417421",
   "version": "2.3.3"
  }
 },
 "nbformat": 4,
 "nbformat_minor": 5
}