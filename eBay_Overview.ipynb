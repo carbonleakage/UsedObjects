{
 "cells": [
  {
   "cell_type": "code",
   "execution_count": 1,
   "id": "reverse-picking",
   "metadata": {
    "execution": {
     "iopub.execute_input": "2021-08-19T15:00:06.835301Z",
     "iopub.status.busy": "2021-08-19T15:00:06.833312Z",
     "iopub.status.idle": "2021-08-19T15:00:07.637443Z",
     "shell.execute_reply": "2021-08-19T15:00:07.638689Z"
    },
    "papermill": {
     "duration": 0.854353,
     "end_time": "2021-08-19T15:00:07.639341",
     "exception": false,
     "start_time": "2021-08-19T15:00:06.784988",
     "status": "completed"
    },
    "tags": []
   },
   "outputs": [],
   "source": [
    "import pandas as pd\n",
    "import sqlite3"
   ]
  },
  {
   "cell_type": "code",
   "execution_count": 2,
   "id": "innovative-syndrome",
   "metadata": {
    "execution": {
     "iopub.execute_input": "2021-08-19T15:00:07.691696Z",
     "iopub.status.busy": "2021-08-19T15:00:07.689392Z",
     "iopub.status.idle": "2021-08-19T15:00:07.774298Z",
     "shell.execute_reply": "2021-08-19T15:00:07.775681Z"
    },
    "papermill": {
     "duration": 0.114507,
     "end_time": "2021-08-19T15:00:07.776126",
     "exception": false,
     "start_time": "2021-08-19T15:00:07.661619",
     "status": "completed"
    },
    "tags": []
   },
   "outputs": [],
   "source": [
    "timestamps = pd.read_sql(\"select distinct record_time from EBAY_TOP_BERLIN order by record_time desc limit 2\", sqlite3.connect(\"UsedObjects.db\"))"
   ]
  },
  {
   "cell_type": "code",
   "execution_count": 3,
   "id": "periodic-identification",
   "metadata": {
    "execution": {
     "iopub.execute_input": "2021-08-19T15:00:07.840189Z",
     "iopub.status.busy": "2021-08-19T15:00:07.838188Z",
     "iopub.status.idle": "2021-08-19T15:00:07.857834Z",
     "shell.execute_reply": "2021-08-19T15:00:07.859141Z"
    },
    "papermill": {
     "duration": 0.064389,
     "end_time": "2021-08-19T15:00:07.859543",
     "exception": false,
     "start_time": "2021-08-19T15:00:07.795154",
     "status": "completed"
    },
    "tags": []
   },
   "outputs": [
    {
     "data": {
      "text/html": [
       "<div>\n",
       "<style scoped>\n",
       "    .dataframe tbody tr th:only-of-type {\n",
       "        vertical-align: middle;\n",
       "    }\n",
       "\n",
       "    .dataframe tbody tr th {\n",
       "        vertical-align: top;\n",
       "    }\n",
       "\n",
       "    .dataframe thead th {\n",
       "        text-align: right;\n",
       "    }\n",
       "</style>\n",
       "<table border=\"1\" class=\"dataframe\">\n",
       "  <thead>\n",
       "    <tr style=\"text-align: right;\">\n",
       "      <th></th>\n",
       "      <th>RECORD_TIME</th>\n",
       "    </tr>\n",
       "  </thead>\n",
       "  <tbody>\n",
       "    <tr>\n",
       "      <th>0</th>\n",
       "      <td>2021-08-19 17:00</td>\n",
       "    </tr>\n",
       "    <tr>\n",
       "      <th>1</th>\n",
       "      <td>2021-08-19 16:30</td>\n",
       "    </tr>\n",
       "  </tbody>\n",
       "</table>\n",
       "</div>"
      ],
      "text/plain": [
       "        RECORD_TIME\n",
       "0  2021-08-19 17:00\n",
       "1  2021-08-19 16:30"
      ]
     },
     "execution_count": 3,
     "metadata": {},
     "output_type": "execute_result"
    }
   ],
   "source": [
    "timestamps"
   ]
  },
  {
   "cell_type": "code",
   "execution_count": 4,
   "id": "alternate-victory",
   "metadata": {
    "execution": {
     "iopub.execute_input": "2021-08-19T15:00:07.911251Z",
     "iopub.status.busy": "2021-08-19T15:00:07.909289Z",
     "iopub.status.idle": "2021-08-19T15:00:08.039726Z",
     "shell.execute_reply": "2021-08-19T15:00:08.040944Z"
    },
    "papermill": {
     "duration": 0.160087,
     "end_time": "2021-08-19T15:00:08.041345",
     "exception": false,
     "start_time": "2021-08-19T15:00:07.881258",
     "status": "completed"
    },
    "tags": []
   },
   "outputs": [],
   "source": [
    "df = pd.read_sql(\"select * from EBAY_TOP_BERLIN where record_time in (select distinct record_time from EBAY_TOP_BERLIN order by record_time desc limit 2)\", sqlite3.connect(\"UsedObjects.db\"))"
   ]
  },
  {
   "cell_type": "code",
   "execution_count": 5,
   "id": "popular-active",
   "metadata": {
    "execution": {
     "iopub.execute_input": "2021-08-19T15:00:08.112455Z",
     "iopub.status.busy": "2021-08-19T15:00:08.099875Z",
     "iopub.status.idle": "2021-08-19T15:00:08.127894Z",
     "shell.execute_reply": "2021-08-19T15:00:08.129110Z"
    },
    "papermill": {
     "duration": 0.067802,
     "end_time": "2021-08-19T15:00:08.129511",
     "exception": false,
     "start_time": "2021-08-19T15:00:08.061709",
     "status": "completed"
    },
    "tags": []
   },
   "outputs": [],
   "source": [
    "df_pivot = df.pivot_table(index=\"PRODUCT\", columns = \"RECORD_TIME\", values = \"LISTING_COUNT\")"
   ]
  },
  {
   "cell_type": "code",
   "execution_count": 6,
   "id": "union-huntington",
   "metadata": {
    "execution": {
     "iopub.execute_input": "2021-08-19T15:00:08.185552Z",
     "iopub.status.busy": "2021-08-19T15:00:08.183411Z",
     "iopub.status.idle": "2021-08-19T15:00:08.189051Z",
     "shell.execute_reply": "2021-08-19T15:00:08.190546Z"
    },
    "papermill": {
     "duration": 0.040904,
     "end_time": "2021-08-19T15:00:08.191004",
     "exception": false,
     "start_time": "2021-08-19T15:00:08.150100",
     "status": "completed"
    },
    "tags": []
   },
   "outputs": [],
   "source": [
    "df_pivot.columns = [\"stamp_1\", \"stamp_2\"]\n",
    "df_pivot_diff = df_pivot.diff(axis=1)"
   ]
  },
  {
   "cell_type": "code",
   "execution_count": 7,
   "id": "fifth-motion",
   "metadata": {
    "execution": {
     "iopub.execute_input": "2021-08-19T15:00:08.246553Z",
     "iopub.status.busy": "2021-08-19T15:00:08.243843Z",
     "iopub.status.idle": "2021-08-19T15:00:09.760623Z",
     "shell.execute_reply": "2021-08-19T15:00:09.761903Z"
    },
    "papermill": {
     "duration": 1.550282,
     "end_time": "2021-08-19T15:00:09.762566",
     "exception": false,
     "start_time": "2021-08-19T15:00:08.212284",
     "status": "completed"
    },
    "tags": []
   },
   "outputs": [
    {
     "data": {
      "text/plain": [
       "<AxesSubplot:ylabel='PRODUCT'>"
      ]
     },
     "execution_count": 7,
     "metadata": {},
     "output_type": "execute_result"
    },
    {
     "data": {
      "image/png": "[encoded data removed]",
      "text/plain": [
       "<Figure size 432x288 with 1 Axes>"
      ]
     },
     "metadata": {
      "needs_background": "light"
     },
     "output_type": "display_data"
    }
   ],
   "source": [
    "df_pivot_diff.sort_values(\"stamp_2\", ascending = False)[\"stamp_2\"].head(10).plot.barh()"
   ]
  },
  {
   "cell_type": "code",
   "execution_count": null,
   "id": "extra-executive",
   "metadata": {
    "papermill": {
     "duration": 0.02204,
     "end_time": "2021-08-19T15:00:09.808878",
     "exception": false,
     "start_time": "2021-08-19T15:00:09.786838",
     "status": "completed"
    },
    "tags": []
   },
   "outputs": [],
   "source": []
  }
 ],
 "metadata": {
  "kernelspec": {
   "display_name": "Python 3",
   "language": "python",
   "name": "python3"
  },
  "language_info": {
   "codemirror_mode": {
    "name": "ipython",
    "version": 3
   },
   "file_extension": ".py",
   "mimetype": "text/x-python",
   "name": "python",
   "nbconvert_exporter": "python",
   "pygments_lexer": "ipython3",
   "version": "3.9.5"
  },
  "papermill": {
   "default_parameters": {},
   "duration": 6.836518,
   "end_time": "2021-08-19T15:00:11.215485",
   "environment_variables": {},
   "exception": null,
   "input_path": "eBay_Overview.ipynb",
   "output_path": "eBay_Overview.ipynb",
   "parameters": {},
   "start_time": "2021-08-19T15:00:04.378967",
   "version": "2.3.3"
  }
 },
 "nbformat": 4,
 "nbformat_minor": 5
}