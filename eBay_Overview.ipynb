{
 "cells": [
  {
   "cell_type": "code",
   "execution_count": 1,
   "id": "reverse-picking",
   "metadata": {
    "execution": {
     "iopub.execute_input": "2021-10-23T13:00:06.793593Z",
     "iopub.status.busy": "2021-10-23T13:00:06.791560Z",
     "iopub.status.idle": "2021-10-23T13:00:07.598180Z",
     "shell.execute_reply": "2021-10-23T13:00:07.599435Z"
    },
    "papermill": {
     "duration": 0.858504,
     "end_time": "2021-10-23T13:00:07.600054",
     "exception": false,
     "start_time": "2021-10-23T13:00:06.741550",
     "status": "completed"
    },
    "tags": []
   },
   "outputs": [],
   "source": [
    "import pandas as pd\n",
    "import sqlite3"
   ]
  },
  {
   "cell_type": "code",
   "execution_count": 2,
   "id": "innovative-syndrome",
   "metadata": {
    "execution": {
     "iopub.execute_input": "2021-10-23T13:00:07.651255Z",
     "iopub.status.busy": "2021-10-23T13:00:07.649355Z",
     "iopub.status.idle": "2021-10-23T13:00:08.294633Z",
     "shell.execute_reply": "2021-10-23T13:00:08.295846Z"
    },
    "papermill": {
     "duration": 0.675015,
     "end_time": "2021-10-23T13:00:08.296244",
     "exception": false,
     "start_time": "2021-10-23T13:00:07.621229",
     "status": "completed"
    },
    "tags": []
   },
   "outputs": [],
   "source": [
    "timestamps = pd.read_sql(\"select distinct record_time from EBAY_TOP_BERLIN order by record_time desc limit 2\", sqlite3.connect(\"UsedObjects.db\"))"
   ]
  },
  {
   "cell_type": "code",
   "execution_count": 3,
   "id": "periodic-identification",
   "metadata": {
    "execution": {
     "iopub.execute_input": "2021-10-23T13:00:08.371613Z",
     "iopub.status.busy": "2021-10-23T13:00:08.369602Z",
     "iopub.status.idle": "2021-10-23T13:00:08.389275Z",
     "shell.execute_reply": "2021-10-23T13:00:08.390586Z"
    },
    "papermill": {
     "duration": 0.069489,
     "end_time": "2021-10-23T13:00:08.390990",
     "exception": false,
     "start_time": "2021-10-23T13:00:08.321501",
     "status": "completed"
    },
    "tags": []
   },
   "outputs": [
    {
     "data": {
      "text/html": [
       "<div>\n",
       "<style scoped>\n",
       "    .dataframe tbody tr th:only-of-type {\n",
       "        vertical-align: middle;\n",
       "    }\n",
       "\n",
       "    .dataframe tbody tr th {\n",
       "        vertical-align: top;\n",
       "    }\n",
       "\n",
       "    .dataframe thead th {\n",
       "        text-align: right;\n",
       "    }\n",
       "</style>\n",
       "<table border=\"1\" class=\"dataframe\">\n",
       "  <thead>\n",
       "    <tr style=\"text-align: right;\">\n",
       "      <th></th>\n",
       "      <th>RECORD_TIME</th>\n",
       "    </tr>\n",
       "  </thead>\n",
       "  <tbody>\n",
       "    <tr>\n",
       "      <th>0</th>\n",
       "      <td>2021-10-23 15:00</td>\n",
       "    </tr>\n",
       "    <tr>\n",
       "      <th>1</th>\n",
       "      <td>2021-10-23 14:30</td>\n",
       "    </tr>\n",
       "  </tbody>\n",
       "</table>\n",
       "</div>"
      ],
      "text/plain": [
       "        RECORD_TIME\n",
       "0  2021-10-23 15:00\n",
       "1  2021-10-23 14:30"
      ]
     },
     "execution_count": 3,
     "metadata": {},
     "output_type": "execute_result"
    }
   ],
   "source": [
    "timestamps"
   ]
  },
  {
   "cell_type": "code",
   "execution_count": 4,
   "id": "alternate-victory",
   "metadata": {
    "execution": {
     "iopub.execute_input": "2021-10-23T13:00:08.444606Z",
     "iopub.status.busy": "2021-10-23T13:00:08.442313Z",
     "iopub.status.idle": "2021-10-23T13:00:09.359315Z",
     "shell.execute_reply": "2021-10-23T13:00:09.360512Z"
    },
    "papermill": {
     "duration": 0.947858,
     "end_time": "2021-10-23T13:00:09.360969",
     "exception": false,
     "start_time": "2021-10-23T13:00:08.413111",
     "status": "completed"
    },
    "tags": []
   },
   "outputs": [],
   "source": [
    "df = pd.read_sql(\"select * from EBAY_TOP_BERLIN where record_time in (select distinct record_time from EBAY_TOP_BERLIN order by record_time desc limit 2)\", sqlite3.connect(\"UsedObjects.db\"))"
   ]
  },
  {
   "cell_type": "code",
   "execution_count": 5,
   "id": "popular-active",
   "metadata": {
    "execution": {
     "iopub.execute_input": "2021-10-23T13:00:09.433461Z",
     "iopub.status.busy": "2021-10-23T13:00:09.420448Z",
     "iopub.status.idle": "2021-10-23T13:00:09.448943Z",
     "shell.execute_reply": "2021-10-23T13:00:09.450179Z"
    },
    "papermill": {
     "duration": 0.067934,
     "end_time": "2021-10-23T13:00:09.450585",
     "exception": false,
     "start_time": "2021-10-23T13:00:09.382651",
     "status": "completed"
    },
    "tags": []
   },
   "outputs": [],
   "source": [
    "df_pivot = df.pivot_table(index=\"PRODUCT\", columns = \"RECORD_TIME\", values = \"LISTING_COUNT\")"
   ]
  },
  {
   "cell_type": "code",
   "execution_count": 6,
   "id": "union-huntington",
   "metadata": {
    "execution": {
     "iopub.execute_input": "2021-10-23T13:00:09.506794Z",
     "iopub.status.busy": "2021-10-23T13:00:09.504830Z",
     "iopub.status.idle": "2021-10-23T13:00:09.509873Z",
     "shell.execute_reply": "2021-10-23T13:00:09.511090Z"
    },
    "papermill": {
     "duration": 0.03984,
     "end_time": "2021-10-23T13:00:09.511487",
     "exception": false,
     "start_time": "2021-10-23T13:00:09.471647",
     "status": "completed"
    },
    "tags": []
   },
   "outputs": [],
   "source": [
    "df_pivot.columns = [\"stamp_1\", \"stamp_2\"]\n",
    "df_pivot_diff = df_pivot.diff(axis=1)"
   ]
  },
  {
   "cell_type": "code",
   "execution_count": 7,
   "id": "fifth-motion",
   "metadata": {
    "execution": {
     "iopub.execute_input": "2021-10-23T13:00:09.567268Z",
     "iopub.status.busy": "2021-10-23T13:00:09.564982Z",
     "iopub.status.idle": "2021-10-23T13:00:11.081512Z",
     "shell.execute_reply": "2021-10-23T13:00:11.082811Z"
    },
    "papermill": {
     "duration": 1.549868,
     "end_time": "2021-10-23T13:00:11.083236",
     "exception": false,
     "start_time": "2021-10-23T13:00:09.533368",
     "status": "completed"
    },
    "tags": []
   },
   "outputs": [
    {
     "data": {
      "text/plain": [
       "<AxesSubplot:ylabel='PRODUCT'>"
      ]
     },
     "execution_count": 7,
     "metadata": {},
     "output_type": "execute_result"
    },
    {
     "data": {
      "image/png": "[encoded data removed]",
      "text/plain": [
       "<Figure size 432x288 with 1 Axes>"
      ]
     },
     "metadata": {
      "needs_background": "light"
     },
     "output_type": "display_data"
    }
   ],
   "source": [
    "df_pivot_diff.sort_values(\"stamp_2\", ascending = False)[\"stamp_2\"].head(10).plot.barh()"
   ]
  },
  {
   "cell_type": "code",
   "execution_count": null,
   "id": "extra-executive",
   "metadata": {
    "papermill": {
     "duration": 0.022565,
     "end_time": "2021-10-23T13:00:11.130954",
     "exception": false,
     "start_time": "2021-10-23T13:00:11.108389",
     "status": "completed"
    },
    "tags": []
   },
   "outputs": [],
   "source": []
  }
 ],
 "metadata": {
  "kernelspec": {
   "display_name": "Python 3",
   "language": "python",
   "name": "python3"
  },
  "language_info": {
   "codemirror_mode": {
    "name": "ipython",
    "version": 3
   },
   "file_extension": ".py",
   "mimetype": "text/x-python",
   "name": "python",
   "nbconvert_exporter": "python",
   "pygments_lexer": "ipython3",
   "version": "3.9.5"
  },
  "papermill": {
   "default_parameters": {},
   "duration": 7.437503,
   "end_time": "2021-10-23T13:00:11.774414",
   "environment_variables": {},
   "exception": null,
   "input_path": "eBay_Overview.ipynb",
   "output_path": "eBay_Overview.ipynb",
   "parameters": {},
   "start_time": "2021-10-23T13:00:04.336911",
   "version": "2.3.3"
  }
 },
 "nbformat": 4,
 "nbformat_minor": 5
}