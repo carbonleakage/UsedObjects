{
 "cells": [
  {
   "cell_type": "code",
   "execution_count": 1,
   "id": "reverse-picking",
   "metadata": {
    "execution": {
     "iopub.execute_input": "2021-08-22T01:00:06.964114Z",
     "iopub.status.busy": "2021-08-22T01:00:06.962111Z",
     "iopub.status.idle": "2021-08-22T01:00:07.768107Z",
     "shell.execute_reply": "2021-08-22T01:00:07.769344Z"
    },
    "papermill": {
     "duration": 0.856393,
     "end_time": "2021-08-22T01:00:07.770126",
     "exception": false,
     "start_time": "2021-08-22T01:00:06.913733",
     "status": "completed"
    },
    "tags": []
   },
   "outputs": [],
   "source": [
    "import pandas as pd\n",
    "import sqlite3"
   ]
  },
  {
   "cell_type": "code",
   "execution_count": 2,
   "id": "innovative-syndrome",
   "metadata": {
    "execution": {
     "iopub.execute_input": "2021-08-22T01:00:07.823123Z",
     "iopub.status.busy": "2021-08-22T01:00:07.820770Z",
     "iopub.status.idle": "2021-08-22T01:00:07.923795Z",
     "shell.execute_reply": "2021-08-22T01:00:07.924989Z"
    },
    "papermill": {
     "duration": 0.13288,
     "end_time": "2021-08-22T01:00:07.925385",
     "exception": false,
     "start_time": "2021-08-22T01:00:07.792505",
     "status": "completed"
    },
    "tags": []
   },
   "outputs": [],
   "source": [
    "timestamps = pd.read_sql(\"select distinct record_time from EBAY_TOP_BERLIN order by record_time desc limit 2\", sqlite3.connect(\"UsedObjects.db\"))"
   ]
  },
  {
   "cell_type": "code",
   "execution_count": 3,
   "id": "periodic-identification",
   "metadata": {
    "execution": {
     "iopub.execute_input": "2021-08-22T01:00:07.992701Z",
     "iopub.status.busy": "2021-08-22T01:00:07.987624Z",
     "iopub.status.idle": "2021-08-22T01:00:08.007145Z",
     "shell.execute_reply": "2021-08-22T01:00:08.008409Z"
    },
    "papermill": {
     "duration": 0.064107,
     "end_time": "2021-08-22T01:00:08.008805",
     "exception": false,
     "start_time": "2021-08-22T01:00:07.944698",
     "status": "completed"
    },
    "tags": []
   },
   "outputs": [
    {
     "data": {
      "text/html": [
       "<div>\n",
       "<style scoped>\n",
       "    .dataframe tbody tr th:only-of-type {\n",
       "        vertical-align: middle;\n",
       "    }\n",
       "\n",
       "    .dataframe tbody tr th {\n",
       "        vertical-align: top;\n",
       "    }\n",
       "\n",
       "    .dataframe thead th {\n",
       "        text-align: right;\n",
       "    }\n",
       "</style>\n",
       "<table border=\"1\" class=\"dataframe\">\n",
       "  <thead>\n",
       "    <tr style=\"text-align: right;\">\n",
       "      <th></th>\n",
       "      <th>RECORD_TIME</th>\n",
       "    </tr>\n",
       "  </thead>\n",
       "  <tbody>\n",
       "    <tr>\n",
       "      <th>0</th>\n",
       "      <td>2021-08-22 03:00</td>\n",
       "    </tr>\n",
       "    <tr>\n",
       "      <th>1</th>\n",
       "      <td>2021-08-22 02:30</td>\n",
       "    </tr>\n",
       "  </tbody>\n",
       "</table>\n",
       "</div>"
      ],
      "text/plain": [
       "        RECORD_TIME\n",
       "0  2021-08-22 03:00\n",
       "1  2021-08-22 02:30"
      ]
     },
     "execution_count": 3,
     "metadata": {},
     "output_type": "execute_result"
    }
   ],
   "source": [
    "timestamps"
   ]
  },
  {
   "cell_type": "code",
   "execution_count": 4,
   "id": "alternate-victory",
   "metadata": {
    "execution": {
     "iopub.execute_input": "2021-08-22T01:00:08.060670Z",
     "iopub.status.busy": "2021-08-22T01:00:08.058540Z",
     "iopub.status.idle": "2021-08-22T01:00:08.211433Z",
     "shell.execute_reply": "2021-08-22T01:00:08.212672Z"
    },
    "papermill": {
     "duration": 0.183255,
     "end_time": "2021-08-22T01:00:08.213066",
     "exception": false,
     "start_time": "2021-08-22T01:00:08.029811",
     "status": "completed"
    },
    "tags": []
   },
   "outputs": [],
   "source": [
    "df = pd.read_sql(\"select * from EBAY_TOP_BERLIN where record_time in (select distinct record_time from EBAY_TOP_BERLIN order by record_time desc limit 2)\", sqlite3.connect(\"UsedObjects.db\"))"
   ]
  },
  {
   "cell_type": "code",
   "execution_count": 5,
   "id": "popular-active",
   "metadata": {
    "execution": {
     "iopub.execute_input": "2021-08-22T01:00:08.273672Z",
     "iopub.status.busy": "2021-08-22T01:00:08.271442Z",
     "iopub.status.idle": "2021-08-22T01:00:08.298723Z",
     "shell.execute_reply": "2021-08-22T01:00:08.299941Z"
    },
    "papermill": {
     "duration": 0.06693,
     "end_time": "2021-08-22T01:00:08.300333",
     "exception": false,
     "start_time": "2021-08-22T01:00:08.233403",
     "status": "completed"
    },
    "tags": []
   },
   "outputs": [],
   "source": [
    "df_pivot = df.pivot_table(index=\"PRODUCT\", columns = \"RECORD_TIME\", values = \"LISTING_COUNT\")"
   ]
  },
  {
   "cell_type": "code",
   "execution_count": 6,
   "id": "union-huntington",
   "metadata": {
    "execution": {
     "iopub.execute_input": "2021-08-22T01:00:08.358470Z",
     "iopub.status.busy": "2021-08-22T01:00:08.356275Z",
     "iopub.status.idle": "2021-08-22T01:00:08.361870Z",
     "shell.execute_reply": "2021-08-22T01:00:08.363492Z"
    },
    "papermill": {
     "duration": 0.042242,
     "end_time": "2021-08-22T01:00:08.364091",
     "exception": false,
     "start_time": "2021-08-22T01:00:08.321849",
     "status": "completed"
    },
    "tags": []
   },
   "outputs": [],
   "source": [
    "df_pivot.columns = [\"stamp_1\", \"stamp_2\"]\n",
    "df_pivot_diff = df_pivot.diff(axis=1)"
   ]
  },
  {
   "cell_type": "code",
   "execution_count": 7,
   "id": "fifth-motion",
   "metadata": {
    "execution": {
     "iopub.execute_input": "2021-08-22T01:00:08.430850Z",
     "iopub.status.busy": "2021-08-22T01:00:08.428092Z",
     "iopub.status.idle": "2021-08-22T01:00:09.929850Z",
     "shell.execute_reply": "2021-08-22T01:00:09.931296Z"
    },
    "papermill": {
     "duration": 1.539402,
     "end_time": "2021-08-22T01:00:09.931743",
     "exception": false,
     "start_time": "2021-08-22T01:00:08.392341",
     "status": "completed"
    },
    "tags": []
   },
   "outputs": [
    {
     "data": {
      "text/plain": [
       "<AxesSubplot:ylabel='PRODUCT'>"
      ]
     },
     "execution_count": 7,
     "metadata": {},
     "output_type": "execute_result"
    },
    {
     "data": {
      "image/png": "[encoded data removed]",
      "text/plain": [
       "<Figure size 432x288 with 1 Axes>"
      ]
     },
     "metadata": {
      "needs_background": "light"
     },
     "output_type": "display_data"
    }
   ],
   "source": [
    "df_pivot_diff.sort_values(\"stamp_2\", ascending = False)[\"stamp_2\"].head(10).plot.barh()"
   ]
  },
  {
   "cell_type": "code",
   "execution_count": null,
   "id": "extra-executive",
   "metadata": {
    "papermill": {
     "duration": 0.022462,
     "end_time": "2021-08-22T01:00:09.978133",
     "exception": false,
     "start_time": "2021-08-22T01:00:09.955671",
     "status": "completed"
    },
    "tags": []
   },
   "outputs": [],
   "source": []
  }
 ],
 "metadata": {
  "kernelspec": {
   "display_name": "Python 3",
   "language": "python",
   "name": "python3"
  },
  "language_info": {
   "codemirror_mode": {
    "name": "ipython",
    "version": 3
   },
   "file_extension": ".py",
   "mimetype": "text/x-python",
   "name": "python",
   "nbconvert_exporter": "python",
   "pygments_lexer": "ipython3",
   "version": "3.9.5"
  },
  "papermill": {
   "default_parameters": {},
   "duration": 6.831322,
   "end_time": "2021-08-22T01:00:11.340438",
   "environment_variables": {},
   "exception": null,
   "input_path": "eBay_Overview.ipynb",
   "output_path": "eBay_Overview.ipynb",
   "parameters": {},
   "start_time": "2021-08-22T01:00:04.509116",
   "version": "2.3.3"
  }
 },
 "nbformat": 4,
 "nbformat_minor": 5
}