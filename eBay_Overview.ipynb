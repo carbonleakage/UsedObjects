{
 "cells": [
  {
   "cell_type": "code",
   "execution_count": 1,
   "id": "reverse-picking",
   "metadata": {
    "execution": {
     "iopub.execute_input": "2021-11-19T02:30:07.265266Z",
     "iopub.status.busy": "2021-11-19T02:30:07.262805Z",
     "iopub.status.idle": "2021-11-19T02:30:08.199607Z",
     "shell.execute_reply": "2021-11-19T02:30:08.201933Z"
    },
    "papermill": {
     "duration": 0.986044,
     "end_time": "2021-11-19T02:30:08.202652",
     "exception": false,
     "start_time": "2021-11-19T02:30:07.216608",
     "status": "completed"
    },
    "tags": []
   },
   "outputs": [],
   "source": [
    "import pandas as pd\n",
    "import sqlite3"
   ]
  },
  {
   "cell_type": "code",
   "execution_count": 2,
   "id": "innovative-syndrome",
   "metadata": {
    "execution": {
     "iopub.execute_input": "2021-11-19T02:30:08.259922Z",
     "iopub.status.busy": "2021-11-19T02:30:08.257413Z",
     "iopub.status.idle": "2021-11-19T02:30:09.121239Z",
     "shell.execute_reply": "2021-11-19T02:30:09.123341Z"
    },
    "papermill": {
     "duration": 0.899707,
     "end_time": "2021-11-19T02:30:09.123824",
     "exception": false,
     "start_time": "2021-11-19T02:30:08.224117",
     "status": "completed"
    },
    "tags": []
   },
   "outputs": [],
   "source": [
    "timestamps = pd.read_sql(\"select distinct record_time from EBAY_TOP_BERLIN order by record_time desc limit 2\", sqlite3.connect(\"UsedObjects.db\"))"
   ]
  },
  {
   "cell_type": "code",
   "execution_count": 3,
   "id": "periodic-identification",
   "metadata": {
    "execution": {
     "iopub.execute_input": "2021-11-19T02:30:09.194757Z",
     "iopub.status.busy": "2021-11-19T02:30:09.192341Z",
     "iopub.status.idle": "2021-11-19T02:30:09.217505Z",
     "shell.execute_reply": "2021-11-19T02:30:09.219087Z"
    },
    "papermill": {
     "duration": 0.075771,
     "end_time": "2021-11-19T02:30:09.219576",
     "exception": false,
     "start_time": "2021-11-19T02:30:09.143805",
     "status": "completed"
    },
    "tags": []
   },
   "outputs": [
    {
     "data": {
      "text/html": [
       "<div>\n",
       "<style scoped>\n",
       "    .dataframe tbody tr th:only-of-type {\n",
       "        vertical-align: middle;\n",
       "    }\n",
       "\n",
       "    .dataframe tbody tr th {\n",
       "        vertical-align: top;\n",
       "    }\n",
       "\n",
       "    .dataframe thead th {\n",
       "        text-align: right;\n",
       "    }\n",
       "</style>\n",
       "<table border=\"1\" class=\"dataframe\">\n",
       "  <thead>\n",
       "    <tr style=\"text-align: right;\">\n",
       "      <th></th>\n",
       "      <th>RECORD_TIME</th>\n",
       "    </tr>\n",
       "  </thead>\n",
       "  <tbody>\n",
       "    <tr>\n",
       "      <th>0</th>\n",
       "      <td>2021-11-19 03:30</td>\n",
       "    </tr>\n",
       "    <tr>\n",
       "      <th>1</th>\n",
       "      <td>2021-11-19 03:00</td>\n",
       "    </tr>\n",
       "  </tbody>\n",
       "</table>\n",
       "</div>"
      ],
      "text/plain": [
       "        RECORD_TIME\n",
       "0  2021-11-19 03:30\n",
       "1  2021-11-19 03:00"
      ]
     },
     "execution_count": 3,
     "metadata": {},
     "output_type": "execute_result"
    }
   ],
   "source": [
    "timestamps"
   ]
  },
  {
   "cell_type": "code",
   "execution_count": 4,
   "id": "alternate-victory",
   "metadata": {
    "execution": {
     "iopub.execute_input": "2021-11-19T02:30:09.275883Z",
     "iopub.status.busy": "2021-11-19T02:30:09.273670Z",
     "iopub.status.idle": "2021-11-19T02:30:10.494905Z",
     "shell.execute_reply": "2021-11-19T02:30:10.496131Z"
    },
    "papermill": {
     "duration": 1.255443,
     "end_time": "2021-11-19T02:30:10.496531",
     "exception": false,
     "start_time": "2021-11-19T02:30:09.241088",
     "status": "completed"
    },
    "tags": []
   },
   "outputs": [],
   "source": [
    "df = pd.read_sql(\"select * from EBAY_TOP_BERLIN where record_time in (select distinct record_time from EBAY_TOP_BERLIN order by record_time desc limit 2)\", sqlite3.connect(\"UsedObjects.db\"))"
   ]
  },
  {
   "cell_type": "code",
   "execution_count": 5,
   "id": "popular-active",
   "metadata": {
    "execution": {
     "iopub.execute_input": "2021-11-19T02:30:10.571310Z",
     "iopub.status.busy": "2021-11-19T02:30:10.557756Z",
     "iopub.status.idle": "2021-11-19T02:30:10.589077Z",
     "shell.execute_reply": "2021-11-19T02:30:10.590359Z"
    },
    "papermill": {
     "duration": 0.072686,
     "end_time": "2021-11-19T02:30:10.590812",
     "exception": false,
     "start_time": "2021-11-19T02:30:10.518126",
     "status": "completed"
    },
    "tags": []
   },
   "outputs": [],
   "source": [
    "df_pivot = df.pivot_table(index=\"PRODUCT\", columns = \"RECORD_TIME\", values = \"LISTING_COUNT\")"
   ]
  },
  {
   "cell_type": "code",
   "execution_count": 6,
   "id": "union-huntington",
   "metadata": {
    "execution": {
     "iopub.execute_input": "2021-11-19T02:30:10.654335Z",
     "iopub.status.busy": "2021-11-19T02:30:10.652248Z",
     "iopub.status.idle": "2021-11-19T02:30:10.663520Z",
     "shell.execute_reply": "2021-11-19T02:30:10.661814Z"
    },
    "papermill": {
     "duration": 0.051584,
     "end_time": "2021-11-19T02:30:10.664085",
     "exception": false,
     "start_time": "2021-11-19T02:30:10.612501",
     "status": "completed"
    },
    "tags": []
   },
   "outputs": [],
   "source": [
    "df_pivot.columns = [\"stamp_1\", \"stamp_2\"]\n",
    "df_pivot_diff = df_pivot.diff(axis=1)"
   ]
  },
  {
   "cell_type": "code",
   "execution_count": 7,
   "id": "fifth-motion",
   "metadata": {
    "execution": {
     "iopub.execute_input": "2021-11-19T02:30:10.723292Z",
     "iopub.status.busy": "2021-11-19T02:30:10.720745Z",
     "iopub.status.idle": "2021-11-19T02:30:12.503337Z",
     "shell.execute_reply": "2021-11-19T02:30:12.505008Z"
    },
    "papermill": {
     "duration": 1.819896,
     "end_time": "2021-11-19T02:30:12.505513",
     "exception": false,
     "start_time": "2021-11-19T02:30:10.685617",
     "status": "completed"
    },
    "tags": []
   },
   "outputs": [
    {
     "data": {
      "text/plain": [
       "<AxesSubplot:ylabel='PRODUCT'>"
      ]
     },
     "execution_count": 7,
     "metadata": {},
     "output_type": "execute_result"
    },
    {
     "data": {
      "image/png": "[encoded data removed]",
      "text/plain": [
       "<Figure size 432x288 with 1 Axes>"
      ]
     },
     "metadata": {
      "needs_background": "light"
     },
     "output_type": "display_data"
    }
   ],
   "source": [
    "df_pivot_diff.sort_values(\"stamp_2\", ascending = False)[\"stamp_2\"].head(10).plot.barh()"
   ]
  },
  {
   "cell_type": "code",
   "execution_count": null,
   "id": "extra-executive",
   "metadata": {
    "papermill": {
     "duration": 0.026047,
     "end_time": "2021-11-19T02:30:12.557361",
     "exception": false,
     "start_time": "2021-11-19T02:30:12.531314",
     "status": "completed"
    },
    "tags": []
   },
   "outputs": [],
   "source": []
  }
 ],
 "metadata": {
  "kernelspec": {
   "display_name": "Python 3",
   "language": "python",
   "name": "python3"
  },
  "language_info": {
   "codemirror_mode": {
    "name": "ipython",
    "version": 3
   },
   "file_extension": ".py",
   "mimetype": "text/x-python",
   "name": "python",
   "nbconvert_exporter": "python",
   "pygments_lexer": "ipython3",
   "version": "3.9.5"
  },
  "papermill": {
   "default_parameters": {},
   "duration": 8.854748,
   "end_time": "2021-11-19T02:30:13.308255",
   "environment_variables": {},
   "exception": null,
   "input_path": "eBay_Overview.ipynb",
   "output_path": "eBay_Overview.ipynb",
   "parameters": {},
   "start_time": "2021-11-19T02:30:04.453507",
   "version": "2.3.3"
  }
 },
 "nbformat": 4,
 "nbformat_minor": 5
}