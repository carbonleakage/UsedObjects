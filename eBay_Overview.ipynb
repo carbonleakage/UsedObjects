{
 "cells": [
  {
   "cell_type": "code",
   "execution_count": 1,
   "id": "reverse-picking",
   "metadata": {
    "execution": {
     "iopub.execute_input": "2021-12-17T19:00:08.138732Z",
     "iopub.status.busy": "2021-12-17T19:00:08.136266Z",
     "iopub.status.idle": "2021-12-17T19:00:09.089391Z",
     "shell.execute_reply": "2021-12-17T19:00:09.087380Z"
    },
    "papermill": {
     "duration": 1.001696,
     "end_time": "2021-12-17T19:00:09.089954",
     "exception": false,
     "start_time": "2021-12-17T19:00:08.088258",
     "status": "completed"
    },
    "tags": []
   },
   "outputs": [],
   "source": [
    "import pandas as pd\n",
    "import sqlite3"
   ]
  },
  {
   "cell_type": "code",
   "execution_count": 2,
   "id": "innovative-syndrome",
   "metadata": {
    "execution": {
     "iopub.execute_input": "2021-12-17T19:00:09.153275Z",
     "iopub.status.busy": "2021-12-17T19:00:09.150713Z",
     "iopub.status.idle": "2021-12-17T19:00:10.261645Z",
     "shell.execute_reply": "2021-12-17T19:00:10.263058Z"
    },
    "papermill": {
     "duration": 1.14415,
     "end_time": "2021-12-17T19:00:10.263502",
     "exception": false,
     "start_time": "2021-12-17T19:00:09.119352",
     "status": "completed"
    },
    "tags": []
   },
   "outputs": [],
   "source": [
    "timestamps = pd.read_sql(\"select distinct record_time from EBAY_TOP_BERLIN order by record_time desc limit 2\", sqlite3.connect(\"UsedObjects.db\"))"
   ]
  },
  {
   "cell_type": "code",
   "execution_count": 3,
   "id": "periodic-identification",
   "metadata": {
    "execution": {
     "iopub.execute_input": "2021-12-17T19:00:10.330812Z",
     "iopub.status.busy": "2021-12-17T19:00:10.328456Z",
     "iopub.status.idle": "2021-12-17T19:00:10.350663Z",
     "shell.execute_reply": "2021-12-17T19:00:10.352050Z"
    },
    "papermill": {
     "duration": 0.069424,
     "end_time": "2021-12-17T19:00:10.352530",
     "exception": false,
     "start_time": "2021-12-17T19:00:10.283106",
     "status": "completed"
    },
    "tags": []
   },
   "outputs": [
    {
     "data": {
      "text/html": [
       "<div>\n",
       "<style scoped>\n",
       "    .dataframe tbody tr th:only-of-type {\n",
       "        vertical-align: middle;\n",
       "    }\n",
       "\n",
       "    .dataframe tbody tr th {\n",
       "        vertical-align: top;\n",
       "    }\n",
       "\n",
       "    .dataframe thead th {\n",
       "        text-align: right;\n",
       "    }\n",
       "</style>\n",
       "<table border=\"1\" class=\"dataframe\">\n",
       "  <thead>\n",
       "    <tr style=\"text-align: right;\">\n",
       "      <th></th>\n",
       "      <th>RECORD_TIME</th>\n",
       "    </tr>\n",
       "  </thead>\n",
       "  <tbody>\n",
       "    <tr>\n",
       "      <th>0</th>\n",
       "      <td>2021-12-17 20:00</td>\n",
       "    </tr>\n",
       "    <tr>\n",
       "      <th>1</th>\n",
       "      <td>2021-12-17 19:30</td>\n",
       "    </tr>\n",
       "  </tbody>\n",
       "</table>\n",
       "</div>"
      ],
      "text/plain": [
       "        RECORD_TIME\n",
       "0  2021-12-17 20:00\n",
       "1  2021-12-17 19:30"
      ]
     },
     "execution_count": 3,
     "metadata": {},
     "output_type": "execute_result"
    }
   ],
   "source": [
    "timestamps"
   ]
  },
  {
   "cell_type": "code",
   "execution_count": 4,
   "id": "alternate-victory",
   "metadata": {
    "execution": {
     "iopub.execute_input": "2021-12-17T19:00:10.408612Z",
     "iopub.status.busy": "2021-12-17T19:00:10.406197Z",
     "iopub.status.idle": "2021-12-17T19:00:12.021240Z",
     "shell.execute_reply": "2021-12-17T19:00:12.023287Z"
    },
    "papermill": {
     "duration": 1.649917,
     "end_time": "2021-12-17T19:00:12.023756",
     "exception": false,
     "start_time": "2021-12-17T19:00:10.373839",
     "status": "completed"
    },
    "tags": []
   },
   "outputs": [],
   "source": [
    "df = pd.read_sql(\"select * from EBAY_TOP_BERLIN where record_time in (select distinct record_time from EBAY_TOP_BERLIN order by record_time desc limit 2)\", sqlite3.connect(\"UsedObjects.db\"))"
   ]
  },
  {
   "cell_type": "code",
   "execution_count": 5,
   "id": "popular-active",
   "metadata": {
    "execution": {
     "iopub.execute_input": "2021-12-17T19:00:12.096739Z",
     "iopub.status.busy": "2021-12-17T19:00:12.086513Z",
     "iopub.status.idle": "2021-12-17T19:00:12.119910Z",
     "shell.execute_reply": "2021-12-17T19:00:12.121454Z"
    },
    "papermill": {
     "duration": 0.07768,
     "end_time": "2021-12-17T19:00:12.121920",
     "exception": false,
     "start_time": "2021-12-17T19:00:12.044240",
     "status": "completed"
    },
    "tags": []
   },
   "outputs": [],
   "source": [
    "df_pivot = df.pivot_table(index=\"PRODUCT\", columns = \"RECORD_TIME\", values = \"LISTING_COUNT\")"
   ]
  },
  {
   "cell_type": "code",
   "execution_count": 6,
   "id": "union-huntington",
   "metadata": {
    "execution": {
     "iopub.execute_input": "2021-12-17T19:00:12.180274Z",
     "iopub.status.busy": "2021-12-17T19:00:12.178025Z",
     "iopub.status.idle": "2021-12-17T19:00:12.183807Z",
     "shell.execute_reply": "2021-12-17T19:00:12.185322Z"
    },
    "papermill": {
     "duration": 0.043886,
     "end_time": "2021-12-17T19:00:12.185813",
     "exception": false,
     "start_time": "2021-12-17T19:00:12.141927",
     "status": "completed"
    },
    "tags": []
   },
   "outputs": [],
   "source": [
    "df_pivot.columns = [\"stamp_1\", \"stamp_2\"]\n",
    "df_pivot_diff = df_pivot.diff(axis=1)"
   ]
  },
  {
   "cell_type": "code",
   "execution_count": 7,
   "id": "fifth-motion",
   "metadata": {
    "execution": {
     "iopub.execute_input": "2021-12-17T19:00:12.310350Z",
     "iopub.status.busy": "2021-12-17T19:00:12.308304Z",
     "iopub.status.idle": "2021-12-17T19:00:14.315371Z",
     "shell.execute_reply": "2021-12-17T19:00:14.316670Z"
    },
    "papermill": {
     "duration": 2.070432,
     "end_time": "2021-12-17T19:00:14.317338",
     "exception": false,
     "start_time": "2021-12-17T19:00:12.246906",
     "status": "completed"
    },
    "tags": []
   },
   "outputs": [
    {
     "data": {
      "text/plain": [
       "<AxesSubplot:ylabel='PRODUCT'>"
      ]
     },
     "execution_count": 7,
     "metadata": {},
     "output_type": "execute_result"
    },
    {
     "data": {
      "image/png": "[encoded data removed]",
      "text/plain": [
       "<Figure size 432x288 with 1 Axes>"
      ]
     },
     "metadata": {
      "needs_background": "light"
     },
     "output_type": "display_data"
    }
   ],
   "source": [
    "df_pivot_diff.sort_values(\"stamp_2\", ascending = False)[\"stamp_2\"].head(10).plot.barh()"
   ]
  },
  {
   "cell_type": "code",
   "execution_count": null,
   "id": "extra-executive",
   "metadata": {
    "papermill": {
     "duration": 0.026571,
     "end_time": "2021-12-17T19:00:14.375309",
     "exception": false,
     "start_time": "2021-12-17T19:00:14.348738",
     "status": "completed"
    },
    "tags": []
   },
   "outputs": [],
   "source": []
  }
 ],
 "metadata": {
  "kernelspec": {
   "display_name": "Python 3",
   "language": "python",
   "name": "python3"
  },
  "language_info": {
   "codemirror_mode": {
    "name": "ipython",
    "version": 3
   },
   "file_extension": ".py",
   "mimetype": "text/x-python",
   "name": "python",
   "nbconvert_exporter": "python",
   "pygments_lexer": "ipython3",
   "version": "3.9.5"
  },
  "papermill": {
   "default_parameters": {},
   "duration": 9.673693,
   "end_time": "2021-12-17T19:00:15.036505",
   "environment_variables": {},
   "exception": null,
   "input_path": "eBay_Overview.ipynb",
   "output_path": "eBay_Overview.ipynb",
   "parameters": {},
   "start_time": "2021-12-17T19:00:05.362812",
   "version": "2.3.3"
  }
 },
 "nbformat": 4,
 "nbformat_minor": 5
}