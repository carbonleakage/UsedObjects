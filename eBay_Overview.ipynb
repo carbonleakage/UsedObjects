{
 "cells": [
  {
   "cell_type": "code",
   "execution_count": 1,
   "id": "reverse-picking",
   "metadata": {
    "execution": {
     "iopub.execute_input": "2021-10-22T13:00:07.015042Z",
     "iopub.status.busy": "2021-10-22T13:00:07.013059Z",
     "iopub.status.idle": "2021-10-22T13:00:07.820026Z",
     "shell.execute_reply": "2021-10-22T13:00:07.821493Z"
    },
    "papermill": {
     "duration": 0.860858,
     "end_time": "2021-10-22T13:00:07.822150",
     "exception": false,
     "start_time": "2021-10-22T13:00:06.961292",
     "status": "completed"
    },
    "tags": []
   },
   "outputs": [],
   "source": [
    "import pandas as pd\n",
    "import sqlite3"
   ]
  },
  {
   "cell_type": "code",
   "execution_count": 2,
   "id": "innovative-syndrome",
   "metadata": {
    "execution": {
     "iopub.execute_input": "2021-10-22T13:00:07.872527Z",
     "iopub.status.busy": "2021-10-22T13:00:07.870654Z",
     "iopub.status.idle": "2021-10-22T13:00:08.478247Z",
     "shell.execute_reply": "2021-10-22T13:00:08.479470Z"
    },
    "papermill": {
     "duration": 0.637326,
     "end_time": "2021-10-22T13:00:08.479860",
     "exception": false,
     "start_time": "2021-10-22T13:00:07.842534",
     "status": "completed"
    },
    "tags": []
   },
   "outputs": [],
   "source": [
    "timestamps = pd.read_sql(\"select distinct record_time from EBAY_TOP_BERLIN order by record_time desc limit 2\", sqlite3.connect(\"UsedObjects.db\"))"
   ]
  },
  {
   "cell_type": "code",
   "execution_count": 3,
   "id": "periodic-identification",
   "metadata": {
    "execution": {
     "iopub.execute_input": "2021-10-22T13:00:08.556179Z",
     "iopub.status.busy": "2021-10-22T13:00:08.554133Z",
     "iopub.status.idle": "2021-10-22T13:00:08.573942Z",
     "shell.execute_reply": "2021-10-22T13:00:08.575173Z"
    },
    "papermill": {
     "duration": 0.070373,
     "end_time": "2021-10-22T13:00:08.575567",
     "exception": false,
     "start_time": "2021-10-22T13:00:08.505194",
     "status": "completed"
    },
    "tags": []
   },
   "outputs": [
    {
     "data": {
      "text/html": [
       "<div>\n",
       "<style scoped>\n",
       "    .dataframe tbody tr th:only-of-type {\n",
       "        vertical-align: middle;\n",
       "    }\n",
       "\n",
       "    .dataframe tbody tr th {\n",
       "        vertical-align: top;\n",
       "    }\n",
       "\n",
       "    .dataframe thead th {\n",
       "        text-align: right;\n",
       "    }\n",
       "</style>\n",
       "<table border=\"1\" class=\"dataframe\">\n",
       "  <thead>\n",
       "    <tr style=\"text-align: right;\">\n",
       "      <th></th>\n",
       "      <th>RECORD_TIME</th>\n",
       "    </tr>\n",
       "  </thead>\n",
       "  <tbody>\n",
       "    <tr>\n",
       "      <th>0</th>\n",
       "      <td>2021-10-22 15:00</td>\n",
       "    </tr>\n",
       "    <tr>\n",
       "      <th>1</th>\n",
       "      <td>2021-10-22 14:30</td>\n",
       "    </tr>\n",
       "  </tbody>\n",
       "</table>\n",
       "</div>"
      ],
      "text/plain": [
       "        RECORD_TIME\n",
       "0  2021-10-22 15:00\n",
       "1  2021-10-22 14:30"
      ]
     },
     "execution_count": 3,
     "metadata": {},
     "output_type": "execute_result"
    }
   ],
   "source": [
    "timestamps"
   ]
  },
  {
   "cell_type": "code",
   "execution_count": 4,
   "id": "alternate-victory",
   "metadata": {
    "execution": {
     "iopub.execute_input": "2021-10-22T13:00:08.628908Z",
     "iopub.status.busy": "2021-10-22T13:00:08.626549Z",
     "iopub.status.idle": "2021-10-22T13:00:09.524890Z",
     "shell.execute_reply": "2021-10-22T13:00:09.526447Z"
    },
    "papermill": {
     "duration": 0.929404,
     "end_time": "2021-10-22T13:00:09.526891",
     "exception": false,
     "start_time": "2021-10-22T13:00:08.597487",
     "status": "completed"
    },
    "tags": []
   },
   "outputs": [],
   "source": [
    "df = pd.read_sql(\"select * from EBAY_TOP_BERLIN where record_time in (select distinct record_time from EBAY_TOP_BERLIN order by record_time desc limit 2)\", sqlite3.connect(\"UsedObjects.db\"))"
   ]
  },
  {
   "cell_type": "code",
   "execution_count": 5,
   "id": "popular-active",
   "metadata": {
    "execution": {
     "iopub.execute_input": "2021-10-22T13:00:09.599112Z",
     "iopub.status.busy": "2021-10-22T13:00:09.586851Z",
     "iopub.status.idle": "2021-10-22T13:00:09.615751Z",
     "shell.execute_reply": "2021-10-22T13:00:09.617225Z"
    },
    "papermill": {
     "duration": 0.069513,
     "end_time": "2021-10-22T13:00:09.617641",
     "exception": false,
     "start_time": "2021-10-22T13:00:09.548128",
     "status": "completed"
    },
    "tags": []
   },
   "outputs": [],
   "source": [
    "df_pivot = df.pivot_table(index=\"PRODUCT\", columns = \"RECORD_TIME\", values = \"LISTING_COUNT\")"
   ]
  },
  {
   "cell_type": "code",
   "execution_count": 6,
   "id": "union-huntington",
   "metadata": {
    "execution": {
     "iopub.execute_input": "2021-10-22T13:00:09.676393Z",
     "iopub.status.busy": "2021-10-22T13:00:09.674078Z",
     "iopub.status.idle": "2021-10-22T13:00:09.679812Z",
     "shell.execute_reply": "2021-10-22T13:00:09.681180Z"
    },
    "papermill": {
     "duration": 0.042182,
     "end_time": "2021-10-22T13:00:09.681608",
     "exception": false,
     "start_time": "2021-10-22T13:00:09.639426",
     "status": "completed"
    },
    "tags": []
   },
   "outputs": [],
   "source": [
    "df_pivot.columns = [\"stamp_1\", \"stamp_2\"]\n",
    "df_pivot_diff = df_pivot.diff(axis=1)"
   ]
  },
  {
   "cell_type": "code",
   "execution_count": 7,
   "id": "fifth-motion",
   "metadata": {
    "execution": {
     "iopub.execute_input": "2021-10-22T13:00:09.735850Z",
     "iopub.status.busy": "2021-10-22T13:00:09.733665Z",
     "iopub.status.idle": "2021-10-22T13:00:11.252068Z",
     "shell.execute_reply": "2021-10-22T13:00:11.253441Z"
    },
    "papermill": {
     "duration": 1.551295,
     "end_time": "2021-10-22T13:00:11.253861",
     "exception": false,
     "start_time": "2021-10-22T13:00:09.702566",
     "status": "completed"
    },
    "tags": []
   },
   "outputs": [
    {
     "data": {
      "text/plain": [
       "<AxesSubplot:ylabel='PRODUCT'>"
      ]
     },
     "execution_count": 7,
     "metadata": {},
     "output_type": "execute_result"
    },
    {
     "data": {
      "image/png": "[encoded data removed]",
      "text/plain": [
       "<Figure size 432x288 with 1 Axes>"
      ]
     },
     "metadata": {
      "needs_background": "light"
     },
     "output_type": "display_data"
    }
   ],
   "source": [
    "df_pivot_diff.sort_values(\"stamp_2\", ascending = False)[\"stamp_2\"].head(10).plot.barh()"
   ]
  },
  {
   "cell_type": "code",
   "execution_count": null,
   "id": "extra-executive",
   "metadata": {
    "papermill": {
     "duration": 0.022492,
     "end_time": "2021-10-22T13:00:11.301548",
     "exception": false,
     "start_time": "2021-10-22T13:00:11.279056",
     "status": "completed"
    },
    "tags": []
   },
   "outputs": [],
   "source": []
  }
 ],
 "metadata": {
  "kernelspec": {
   "display_name": "Python 3",
   "language": "python",
   "name": "python3"
  },
  "language_info": {
   "codemirror_mode": {
    "name": "ipython",
    "version": 3
   },
   "file_extension": ".py",
   "mimetype": "text/x-python",
   "name": "python",
   "nbconvert_exporter": "python",
   "pygments_lexer": "ipython3",
   "version": "3.9.5"
  },
  "papermill": {
   "default_parameters": {},
   "duration": 7.401929,
   "end_time": "2021-10-22T13:00:11.945886",
   "environment_variables": {},
   "exception": null,
   "input_path": "eBay_Overview.ipynb",
   "output_path": "eBay_Overview.ipynb",
   "parameters": {},
   "start_time": "2021-10-22T13:00:04.543957",
   "version": "2.3.3"
  }
 },
 "nbformat": 4,
 "nbformat_minor": 5
}