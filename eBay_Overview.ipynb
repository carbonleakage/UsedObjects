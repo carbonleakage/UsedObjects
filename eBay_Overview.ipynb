{
 "cells": [
  {
   "cell_type": "code",
   "execution_count": 1,
   "id": "reverse-picking",
   "metadata": {
    "execution": {
     "iopub.execute_input": "2021-11-18T18:00:07.181926Z",
     "iopub.status.busy": "2021-11-18T18:00:07.179555Z",
     "iopub.status.idle": "2021-11-18T18:00:08.125793Z",
     "shell.execute_reply": "2021-11-18T18:00:08.127234Z"
    },
    "papermill": {
     "duration": 0.995179,
     "end_time": "2021-11-18T18:00:08.128017",
     "exception": false,
     "start_time": "2021-11-18T18:00:07.132838",
     "status": "completed"
    },
    "tags": []
   },
   "outputs": [],
   "source": [
    "import pandas as pd\n",
    "import sqlite3"
   ]
  },
  {
   "cell_type": "code",
   "execution_count": 2,
   "id": "innovative-syndrome",
   "metadata": {
    "execution": {
     "iopub.execute_input": "2021-11-18T18:00:08.182073Z",
     "iopub.status.busy": "2021-11-18T18:00:08.179735Z",
     "iopub.status.idle": "2021-11-18T18:00:09.039149Z",
     "shell.execute_reply": "2021-11-18T18:00:09.040385Z"
    },
    "papermill": {
     "duration": 0.892731,
     "end_time": "2021-11-18T18:00:09.040878",
     "exception": false,
     "start_time": "2021-11-18T18:00:08.148147",
     "status": "completed"
    },
    "tags": []
   },
   "outputs": [],
   "source": [
    "timestamps = pd.read_sql(\"select distinct record_time from EBAY_TOP_BERLIN order by record_time desc limit 2\", sqlite3.connect(\"UsedObjects.db\"))"
   ]
  },
  {
   "cell_type": "code",
   "execution_count": 3,
   "id": "periodic-identification",
   "metadata": {
    "execution": {
     "iopub.execute_input": "2021-11-18T18:00:09.117327Z",
     "iopub.status.busy": "2021-11-18T18:00:09.111550Z",
     "iopub.status.idle": "2021-11-18T18:00:09.134386Z",
     "shell.execute_reply": "2021-11-18T18:00:09.135880Z"
    },
    "papermill": {
     "duration": 0.07451,
     "end_time": "2021-11-18T18:00:09.136367",
     "exception": false,
     "start_time": "2021-11-18T18:00:09.061857",
     "status": "completed"
    },
    "tags": []
   },
   "outputs": [
    {
     "data": {
      "text/html": [
       "<div>\n",
       "<style scoped>\n",
       "    .dataframe tbody tr th:only-of-type {\n",
       "        vertical-align: middle;\n",
       "    }\n",
       "\n",
       "    .dataframe tbody tr th {\n",
       "        vertical-align: top;\n",
       "    }\n",
       "\n",
       "    .dataframe thead th {\n",
       "        text-align: right;\n",
       "    }\n",
       "</style>\n",
       "<table border=\"1\" class=\"dataframe\">\n",
       "  <thead>\n",
       "    <tr style=\"text-align: right;\">\n",
       "      <th></th>\n",
       "      <th>RECORD_TIME</th>\n",
       "    </tr>\n",
       "  </thead>\n",
       "  <tbody>\n",
       "    <tr>\n",
       "      <th>0</th>\n",
       "      <td>2021-11-18 19:00</td>\n",
       "    </tr>\n",
       "    <tr>\n",
       "      <th>1</th>\n",
       "      <td>2021-11-18 18:30</td>\n",
       "    </tr>\n",
       "  </tbody>\n",
       "</table>\n",
       "</div>"
      ],
      "text/plain": [
       "        RECORD_TIME\n",
       "0  2021-11-18 19:00\n",
       "1  2021-11-18 18:30"
      ]
     },
     "execution_count": 3,
     "metadata": {},
     "output_type": "execute_result"
    }
   ],
   "source": [
    "timestamps"
   ]
  },
  {
   "cell_type": "code",
   "execution_count": 4,
   "id": "alternate-victory",
   "metadata": {
    "execution": {
     "iopub.execute_input": "2021-11-18T18:00:09.193211Z",
     "iopub.status.busy": "2021-11-18T18:00:09.191003Z",
     "iopub.status.idle": "2021-11-18T18:00:10.421073Z",
     "shell.execute_reply": "2021-11-18T18:00:10.422608Z"
    },
    "papermill": {
     "duration": 1.2655,
     "end_time": "2021-11-18T18:00:10.423063",
     "exception": false,
     "start_time": "2021-11-18T18:00:09.157563",
     "status": "completed"
    },
    "tags": []
   },
   "outputs": [],
   "source": [
    "df = pd.read_sql(\"select * from EBAY_TOP_BERLIN where record_time in (select distinct record_time from EBAY_TOP_BERLIN order by record_time desc limit 2)\", sqlite3.connect(\"UsedObjects.db\"))"
   ]
  },
  {
   "cell_type": "code",
   "execution_count": 5,
   "id": "popular-active",
   "metadata": {
    "execution": {
     "iopub.execute_input": "2021-11-18T18:00:10.496620Z",
     "iopub.status.busy": "2021-11-18T18:00:10.484626Z",
     "iopub.status.idle": "2021-11-18T18:00:10.512347Z",
     "shell.execute_reply": "2021-11-18T18:00:10.513655Z"
    },
    "papermill": {
     "duration": 0.068215,
     "end_time": "2021-11-18T18:00:10.514066",
     "exception": false,
     "start_time": "2021-11-18T18:00:10.445851",
     "status": "completed"
    },
    "tags": []
   },
   "outputs": [],
   "source": [
    "df_pivot = df.pivot_table(index=\"PRODUCT\", columns = \"RECORD_TIME\", values = \"LISTING_COUNT\")"
   ]
  },
  {
   "cell_type": "code",
   "execution_count": 6,
   "id": "union-huntington",
   "metadata": {
    "execution": {
     "iopub.execute_input": "2021-11-18T18:00:10.572893Z",
     "iopub.status.busy": "2021-11-18T18:00:10.570560Z",
     "iopub.status.idle": "2021-11-18T18:00:10.576219Z",
     "shell.execute_reply": "2021-11-18T18:00:10.577638Z"
    },
    "papermill": {
     "duration": 0.041719,
     "end_time": "2021-11-18T18:00:10.578075",
     "exception": false,
     "start_time": "2021-11-18T18:00:10.536356",
     "status": "completed"
    },
    "tags": []
   },
   "outputs": [],
   "source": [
    "df_pivot.columns = [\"stamp_1\", \"stamp_2\"]\n",
    "df_pivot_diff = df_pivot.diff(axis=1)"
   ]
  },
  {
   "cell_type": "code",
   "execution_count": 7,
   "id": "fifth-motion",
   "metadata": {
    "execution": {
     "iopub.execute_input": "2021-11-18T18:00:10.641760Z",
     "iopub.status.busy": "2021-11-18T18:00:10.631468Z",
     "iopub.status.idle": "2021-11-18T18:00:12.417530Z",
     "shell.execute_reply": "2021-11-18T18:00:12.418905Z"
    },
    "papermill": {
     "duration": 1.820547,
     "end_time": "2021-11-18T18:00:12.419384",
     "exception": false,
     "start_time": "2021-11-18T18:00:10.598837",
     "status": "completed"
    },
    "tags": []
   },
   "outputs": [
    {
     "data": {
      "text/plain": [
       "<AxesSubplot:ylabel='PRODUCT'>"
      ]
     },
     "execution_count": 7,
     "metadata": {},
     "output_type": "execute_result"
    },
    {
     "data": {
      "image/png": "[encoded data removed]",
      "text/plain": [
       "<Figure size 432x288 with 1 Axes>"
      ]
     },
     "metadata": {
      "needs_background": "light"
     },
     "output_type": "display_data"
    }
   ],
   "source": [
    "df_pivot_diff.sort_values(\"stamp_2\", ascending = False)[\"stamp_2\"].head(10).plot.barh()"
   ]
  },
  {
   "cell_type": "code",
   "execution_count": null,
   "id": "extra-executive",
   "metadata": {
    "papermill": {
     "duration": 0.02562,
     "end_time": "2021-11-18T18:00:12.469106",
     "exception": false,
     "start_time": "2021-11-18T18:00:12.443486",
     "status": "completed"
    },
    "tags": []
   },
   "outputs": [],
   "source": []
  }
 ],
 "metadata": {
  "kernelspec": {
   "display_name": "Python 3",
   "language": "python",
   "name": "python3"
  },
  "language_info": {
   "codemirror_mode": {
    "name": "ipython",
    "version": 3
   },
   "file_extension": ".py",
   "mimetype": "text/x-python",
   "name": "python",
   "nbconvert_exporter": "python",
   "pygments_lexer": "ipython3",
   "version": "3.9.5"
  },
  "papermill": {
   "default_parameters": {},
   "duration": 8.824281,
   "end_time": "2021-11-18T18:00:13.214200",
   "environment_variables": {},
   "exception": null,
   "input_path": "eBay_Overview.ipynb",
   "output_path": "eBay_Overview.ipynb",
   "parameters": {},
   "start_time": "2021-11-18T18:00:04.389919",
   "version": "2.3.3"
  }
 },
 "nbformat": 4,
 "nbformat_minor": 5
}