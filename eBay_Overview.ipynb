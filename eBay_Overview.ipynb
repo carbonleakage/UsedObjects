{
 "cells": [
  {
   "cell_type": "code",
   "execution_count": 1,
   "id": "reverse-picking",
   "metadata": {
    "execution": {
     "iopub.execute_input": "2021-09-29T02:30:06.984867Z",
     "iopub.status.busy": "2021-09-29T02:30:06.982913Z",
     "iopub.status.idle": "2021-09-29T02:30:07.796224Z",
     "shell.execute_reply": "2021-09-29T02:30:07.794421Z"
    },
    "papermill": {
     "duration": 0.863979,
     "end_time": "2021-09-29T02:30:07.796774",
     "exception": false,
     "start_time": "2021-09-29T02:30:06.932795",
     "status": "completed"
    },
    "tags": []
   },
   "outputs": [],
   "source": [
    "import pandas as pd\n",
    "import sqlite3"
   ]
  },
  {
   "cell_type": "code",
   "execution_count": 2,
   "id": "innovative-syndrome",
   "metadata": {
    "execution": {
     "iopub.execute_input": "2021-09-29T02:30:07.849145Z",
     "iopub.status.busy": "2021-09-29T02:30:07.846710Z",
     "iopub.status.idle": "2021-09-29T02:30:08.248524Z",
     "shell.execute_reply": "2021-09-29T02:30:08.249716Z"
    },
    "papermill": {
     "duration": 0.431941,
     "end_time": "2021-09-29T02:30:08.250120",
     "exception": false,
     "start_time": "2021-09-29T02:30:07.818179",
     "status": "completed"
    },
    "tags": []
   },
   "outputs": [],
   "source": [
    "timestamps = pd.read_sql(\"select distinct record_time from EBAY_TOP_BERLIN order by record_time desc limit 2\", sqlite3.connect(\"UsedObjects.db\"))"
   ]
  },
  {
   "cell_type": "code",
   "execution_count": 3,
   "id": "periodic-identification",
   "metadata": {
    "execution": {
     "iopub.execute_input": "2021-09-29T02:30:08.317794Z",
     "iopub.status.busy": "2021-09-29T02:30:08.315783Z",
     "iopub.status.idle": "2021-09-29T02:30:08.336060Z",
     "shell.execute_reply": "2021-09-29T02:30:08.337537Z"
    },
    "papermill": {
     "duration": 0.066219,
     "end_time": "2021-09-29T02:30:08.338059",
     "exception": false,
     "start_time": "2021-09-29T02:30:08.271840",
     "status": "completed"
    },
    "tags": []
   },
   "outputs": [
    {
     "data": {
      "text/html": [
       "<div>\n",
       "<style scoped>\n",
       "    .dataframe tbody tr th:only-of-type {\n",
       "        vertical-align: middle;\n",
       "    }\n",
       "\n",
       "    .dataframe tbody tr th {\n",
       "        vertical-align: top;\n",
       "    }\n",
       "\n",
       "    .dataframe thead th {\n",
       "        text-align: right;\n",
       "    }\n",
       "</style>\n",
       "<table border=\"1\" class=\"dataframe\">\n",
       "  <thead>\n",
       "    <tr style=\"text-align: right;\">\n",
       "      <th></th>\n",
       "      <th>RECORD_TIME</th>\n",
       "    </tr>\n",
       "  </thead>\n",
       "  <tbody>\n",
       "    <tr>\n",
       "      <th>0</th>\n",
       "      <td>2021-09-29 04:30</td>\n",
       "    </tr>\n",
       "    <tr>\n",
       "      <th>1</th>\n",
       "      <td>2021-09-29 04:00</td>\n",
       "    </tr>\n",
       "  </tbody>\n",
       "</table>\n",
       "</div>"
      ],
      "text/plain": [
       "        RECORD_TIME\n",
       "0  2021-09-29 04:30\n",
       "1  2021-09-29 04:00"
      ]
     },
     "execution_count": 3,
     "metadata": {},
     "output_type": "execute_result"
    }
   ],
   "source": [
    "timestamps"
   ]
  },
  {
   "cell_type": "code",
   "execution_count": 4,
   "id": "alternate-victory",
   "metadata": {
    "execution": {
     "iopub.execute_input": "2021-09-29T02:30:08.398155Z",
     "iopub.status.busy": "2021-09-29T02:30:08.396146Z",
     "iopub.status.idle": "2021-09-29T02:30:08.980668Z",
     "shell.execute_reply": "2021-09-29T02:30:08.981931Z"
    },
    "papermill": {
     "duration": 0.622289,
     "end_time": "2021-09-29T02:30:08.982348",
     "exception": false,
     "start_time": "2021-09-29T02:30:08.360059",
     "status": "completed"
    },
    "tags": []
   },
   "outputs": [],
   "source": [
    "df = pd.read_sql(\"select * from EBAY_TOP_BERLIN where record_time in (select distinct record_time from EBAY_TOP_BERLIN order by record_time desc limit 2)\", sqlite3.connect(\"UsedObjects.db\"))"
   ]
  },
  {
   "cell_type": "code",
   "execution_count": 5,
   "id": "popular-active",
   "metadata": {
    "execution": {
     "iopub.execute_input": "2021-09-29T02:30:09.052605Z",
     "iopub.status.busy": "2021-09-29T02:30:09.040617Z",
     "iopub.status.idle": "2021-09-29T02:30:09.068925Z",
     "shell.execute_reply": "2021-09-29T02:30:09.070134Z"
    },
    "papermill": {
     "duration": 0.067532,
     "end_time": "2021-09-29T02:30:09.070532",
     "exception": false,
     "start_time": "2021-09-29T02:30:09.003000",
     "status": "completed"
    },
    "tags": []
   },
   "outputs": [],
   "source": [
    "df_pivot = df.pivot_table(index=\"PRODUCT\", columns = \"RECORD_TIME\", values = \"LISTING_COUNT\")"
   ]
  },
  {
   "cell_type": "code",
   "execution_count": 6,
   "id": "union-huntington",
   "metadata": {
    "execution": {
     "iopub.execute_input": "2021-09-29T02:30:09.130107Z",
     "iopub.status.busy": "2021-09-29T02:30:09.127680Z",
     "iopub.status.idle": "2021-09-29T02:30:09.133219Z",
     "shell.execute_reply": "2021-09-29T02:30:09.134470Z"
    },
    "papermill": {
     "duration": 0.041998,
     "end_time": "2021-09-29T02:30:09.134944",
     "exception": false,
     "start_time": "2021-09-29T02:30:09.092946",
     "status": "completed"
    },
    "tags": []
   },
   "outputs": [],
   "source": [
    "df_pivot.columns = [\"stamp_1\", \"stamp_2\"]\n",
    "df_pivot_diff = df_pivot.diff(axis=1)"
   ]
  },
  {
   "cell_type": "code",
   "execution_count": 7,
   "id": "fifth-motion",
   "metadata": {
    "execution": {
     "iopub.execute_input": "2021-09-29T02:30:09.189761Z",
     "iopub.status.busy": "2021-09-29T02:30:09.187481Z",
     "iopub.status.idle": "2021-09-29T02:30:10.658631Z",
     "shell.execute_reply": "2021-09-29T02:30:10.659978Z"
    },
    "papermill": {
     "duration": 1.5047,
     "end_time": "2021-09-29T02:30:10.660406",
     "exception": false,
     "start_time": "2021-09-29T02:30:09.155706",
     "status": "completed"
    },
    "tags": []
   },
   "outputs": [
    {
     "data": {
      "text/plain": [
       "<AxesSubplot:ylabel='PRODUCT'>"
      ]
     },
     "execution_count": 7,
     "metadata": {},
     "output_type": "execute_result"
    },
    {
     "data": {
      "image/png": "[encoded data removed]",
      "text/plain": [
       "<Figure size 432x288 with 1 Axes>"
      ]
     },
     "metadata": {
      "needs_background": "light"
     },
     "output_type": "display_data"
    }
   ],
   "source": [
    "df_pivot_diff.sort_values(\"stamp_2\", ascending = False)[\"stamp_2\"].head(10).plot.barh()"
   ]
  },
  {
   "cell_type": "code",
   "execution_count": null,
   "id": "extra-executive",
   "metadata": {
    "papermill": {
     "duration": 0.022201,
     "end_time": "2021-09-29T02:30:10.707431",
     "exception": false,
     "start_time": "2021-09-29T02:30:10.685230",
     "status": "completed"
    },
    "tags": []
   },
   "outputs": [],
   "source": []
  }
 ],
 "metadata": {
  "kernelspec": {
   "display_name": "Python 3",
   "language": "python",
   "name": "python3"
  },
  "language_info": {
   "codemirror_mode": {
    "name": "ipython",
    "version": 3
   },
   "file_extension": ".py",
   "mimetype": "text/x-python",
   "name": "python",
   "nbconvert_exporter": "python",
   "pygments_lexer": "ipython3",
   "version": "3.9.5"
  },
  "papermill": {
   "default_parameters": {},
   "duration": 7.826616,
   "end_time": "2021-09-29T02:30:12.337153",
   "environment_variables": {},
   "exception": null,
   "input_path": "eBay_Overview.ipynb",
   "output_path": "eBay_Overview.ipynb",
   "parameters": {},
   "start_time": "2021-09-29T02:30:04.510537",
   "version": "2.3.3"
  }
 },
 "nbformat": 4,
 "nbformat_minor": 5
}