{
 "cells": [
  {
   "cell_type": "code",
   "execution_count": 1,
   "id": "reverse-picking",
   "metadata": {
    "execution": {
     "iopub.execute_input": "2021-08-19T18:30:07.053802Z",
     "iopub.status.busy": "2021-08-19T18:30:07.051870Z",
     "iopub.status.idle": "2021-08-19T18:30:07.858552Z",
     "shell.execute_reply": "2021-08-19T18:30:07.856834Z"
    },
    "papermill": {
     "duration": 0.857096,
     "end_time": "2021-08-19T18:30:07.858978",
     "exception": false,
     "start_time": "2021-08-19T18:30:07.001882",
     "status": "completed"
    },
    "tags": []
   },
   "outputs": [],
   "source": [
    "import pandas as pd\n",
    "import sqlite3"
   ]
  },
  {
   "cell_type": "code",
   "execution_count": 2,
   "id": "innovative-syndrome",
   "metadata": {
    "execution": {
     "iopub.execute_input": "2021-08-19T18:30:07.909308Z",
     "iopub.status.busy": "2021-08-19T18:30:07.907220Z",
     "iopub.status.idle": "2021-08-19T18:30:07.992881Z",
     "shell.execute_reply": "2021-08-19T18:30:07.994275Z"
    },
    "papermill": {
     "duration": 0.11554,
     "end_time": "2021-08-19T18:30:07.994700",
     "exception": false,
     "start_time": "2021-08-19T18:30:07.879160",
     "status": "completed"
    },
    "tags": []
   },
   "outputs": [],
   "source": [
    "timestamps = pd.read_sql(\"select distinct record_time from EBAY_TOP_BERLIN order by record_time desc limit 2\", sqlite3.connect(\"UsedObjects.db\"))"
   ]
  },
  {
   "cell_type": "code",
   "execution_count": 3,
   "id": "periodic-identification",
   "metadata": {
    "execution": {
     "iopub.execute_input": "2021-08-19T18:30:08.062267Z",
     "iopub.status.busy": "2021-08-19T18:30:08.057033Z",
     "iopub.status.idle": "2021-08-19T18:30:08.077683Z",
     "shell.execute_reply": "2021-08-19T18:30:08.079168Z"
    },
    "papermill": {
     "duration": 0.065641,
     "end_time": "2021-08-19T18:30:08.079613",
     "exception": false,
     "start_time": "2021-08-19T18:30:08.013972",
     "status": "completed"
    },
    "tags": []
   },
   "outputs": [
    {
     "data": {
      "text/html": [
       "<div>\n",
       "<style scoped>\n",
       "    .dataframe tbody tr th:only-of-type {\n",
       "        vertical-align: middle;\n",
       "    }\n",
       "\n",
       "    .dataframe tbody tr th {\n",
       "        vertical-align: top;\n",
       "    }\n",
       "\n",
       "    .dataframe thead th {\n",
       "        text-align: right;\n",
       "    }\n",
       "</style>\n",
       "<table border=\"1\" class=\"dataframe\">\n",
       "  <thead>\n",
       "    <tr style=\"text-align: right;\">\n",
       "      <th></th>\n",
       "      <th>RECORD_TIME</th>\n",
       "    </tr>\n",
       "  </thead>\n",
       "  <tbody>\n",
       "    <tr>\n",
       "      <th>0</th>\n",
       "      <td>2021-08-19 20:30</td>\n",
       "    </tr>\n",
       "    <tr>\n",
       "      <th>1</th>\n",
       "      <td>2021-08-19 20:00</td>\n",
       "    </tr>\n",
       "  </tbody>\n",
       "</table>\n",
       "</div>"
      ],
      "text/plain": [
       "        RECORD_TIME\n",
       "0  2021-08-19 20:30\n",
       "1  2021-08-19 20:00"
      ]
     },
     "execution_count": 3,
     "metadata": {},
     "output_type": "execute_result"
    }
   ],
   "source": [
    "timestamps"
   ]
  },
  {
   "cell_type": "code",
   "execution_count": 4,
   "id": "alternate-victory",
   "metadata": {
    "execution": {
     "iopub.execute_input": "2021-08-19T18:30:08.129887Z",
     "iopub.status.busy": "2021-08-19T18:30:08.128078Z",
     "iopub.status.idle": "2021-08-19T18:30:08.256343Z",
     "shell.execute_reply": "2021-08-19T18:30:08.257622Z"
    },
    "papermill": {
     "duration": 0.158145,
     "end_time": "2021-08-19T18:30:08.258088",
     "exception": false,
     "start_time": "2021-08-19T18:30:08.099943",
     "status": "completed"
    },
    "tags": []
   },
   "outputs": [],
   "source": [
    "df = pd.read_sql(\"select * from EBAY_TOP_BERLIN where record_time in (select distinct record_time from EBAY_TOP_BERLIN order by record_time desc limit 2)\", sqlite3.connect(\"UsedObjects.db\"))"
   ]
  },
  {
   "cell_type": "code",
   "execution_count": 5,
   "id": "popular-active",
   "metadata": {
    "execution": {
     "iopub.execute_input": "2021-08-19T18:30:08.326996Z",
     "iopub.status.busy": "2021-08-19T18:30:08.315119Z",
     "iopub.status.idle": "2021-08-19T18:30:08.344462Z",
     "shell.execute_reply": "2021-08-19T18:30:08.345742Z"
    },
    "papermill": {
     "duration": 0.067757,
     "end_time": "2021-08-19T18:30:08.346216",
     "exception": false,
     "start_time": "2021-08-19T18:30:08.278459",
     "status": "completed"
    },
    "tags": []
   },
   "outputs": [],
   "source": [
    "df_pivot = df.pivot_table(index=\"PRODUCT\", columns = \"RECORD_TIME\", values = \"LISTING_COUNT\")"
   ]
  },
  {
   "cell_type": "code",
   "execution_count": 6,
   "id": "union-huntington",
   "metadata": {
    "execution": {
     "iopub.execute_input": "2021-08-19T18:30:08.401904Z",
     "iopub.status.busy": "2021-08-19T18:30:08.399841Z",
     "iopub.status.idle": "2021-08-19T18:30:08.405102Z",
     "shell.execute_reply": "2021-08-19T18:30:08.406445Z"
    },
    "papermill": {
     "duration": 0.040733,
     "end_time": "2021-08-19T18:30:08.406874",
     "exception": false,
     "start_time": "2021-08-19T18:30:08.366141",
     "status": "completed"
    },
    "tags": []
   },
   "outputs": [],
   "source": [
    "df_pivot.columns = [\"stamp_1\", \"stamp_2\"]\n",
    "df_pivot_diff = df_pivot.diff(axis=1)"
   ]
  },
  {
   "cell_type": "code",
   "execution_count": 7,
   "id": "fifth-motion",
   "metadata": {
    "execution": {
     "iopub.execute_input": "2021-08-19T18:30:08.461891Z",
     "iopub.status.busy": "2021-08-19T18:30:08.459492Z",
     "iopub.status.idle": "2021-08-19T18:30:09.939581Z",
     "shell.execute_reply": "2021-08-19T18:30:09.940843Z"
    },
    "papermill": {
     "duration": 1.512531,
     "end_time": "2021-08-19T18:30:09.941260",
     "exception": false,
     "start_time": "2021-08-19T18:30:08.428729",
     "status": "completed"
    },
    "tags": []
   },
   "outputs": [
    {
     "data": {
      "text/plain": [
       "<AxesSubplot:ylabel='PRODUCT'>"
      ]
     },
     "execution_count": 7,
     "metadata": {},
     "output_type": "execute_result"
    },
    {
     "data": {
      "image/png": "[encoded data removed]",
      "text/plain": [
       "<Figure size 432x288 with 1 Axes>"
      ]
     },
     "metadata": {
      "needs_background": "light"
     },
     "output_type": "display_data"
    }
   ],
   "source": [
    "df_pivot_diff.sort_values(\"stamp_2\", ascending = False)[\"stamp_2\"].head(10).plot.barh()"
   ]
  },
  {
   "cell_type": "code",
   "execution_count": null,
   "id": "extra-executive",
   "metadata": {
    "papermill": {
     "duration": 0.022116,
     "end_time": "2021-08-19T18:30:09.989392",
     "exception": false,
     "start_time": "2021-08-19T18:30:09.967276",
     "status": "completed"
    },
    "tags": []
   },
   "outputs": [],
   "source": []
  }
 ],
 "metadata": {
  "kernelspec": {
   "display_name": "Python 3",
   "language": "python",
   "name": "python3"
  },
  "language_info": {
   "codemirror_mode": {
    "name": "ipython",
    "version": 3
   },
   "file_extension": ".py",
   "mimetype": "text/x-python",
   "name": "python",
   "nbconvert_exporter": "python",
   "pygments_lexer": "ipython3",
   "version": "3.9.5"
  },
  "papermill": {
   "default_parameters": {},
   "duration": 6.83221,
   "end_time": "2021-08-19T18:30:11.426565",
   "environment_variables": {},
   "exception": null,
   "input_path": "eBay_Overview.ipynb",
   "output_path": "eBay_Overview.ipynb",
   "parameters": {},
   "start_time": "2021-08-19T18:30:04.594355",
   "version": "2.3.3"
  }
 },
 "nbformat": 4,
 "nbformat_minor": 5
}