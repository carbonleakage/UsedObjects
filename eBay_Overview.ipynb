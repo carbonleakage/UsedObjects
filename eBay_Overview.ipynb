{
 "cells": [
  {
   "cell_type": "code",
   "execution_count": 1,
   "id": "reverse-picking",
   "metadata": {
    "execution": {
     "iopub.execute_input": "2021-11-24T11:00:08.087326Z",
     "iopub.status.busy": "2021-11-24T11:00:08.085095Z",
     "iopub.status.idle": "2021-11-24T11:00:09.043294Z",
     "shell.execute_reply": "2021-11-24T11:00:09.044883Z"
    },
    "papermill": {
     "duration": 1.005693,
     "end_time": "2021-11-24T11:00:09.045661",
     "exception": false,
     "start_time": "2021-11-24T11:00:08.039968",
     "status": "completed"
    },
    "tags": []
   },
   "outputs": [],
   "source": [
    "import pandas as pd\n",
    "import sqlite3"
   ]
  },
  {
   "cell_type": "code",
   "execution_count": 2,
   "id": "innovative-syndrome",
   "metadata": {
    "execution": {
     "iopub.execute_input": "2021-11-24T11:00:09.110644Z",
     "iopub.status.busy": "2021-11-24T11:00:09.108368Z",
     "iopub.status.idle": "2021-11-24T11:00:10.051302Z",
     "shell.execute_reply": "2021-11-24T11:00:10.052566Z"
    },
    "papermill": {
     "duration": 0.978039,
     "end_time": "2021-11-24T11:00:10.053073",
     "exception": false,
     "start_time": "2021-11-24T11:00:09.075034",
     "status": "completed"
    },
    "tags": []
   },
   "outputs": [],
   "source": [
    "timestamps = pd.read_sql(\"select distinct record_time from EBAY_TOP_BERLIN order by record_time desc limit 2\", sqlite3.connect(\"UsedObjects.db\"))"
   ]
  },
  {
   "cell_type": "code",
   "execution_count": 3,
   "id": "periodic-identification",
   "metadata": {
    "execution": {
     "iopub.execute_input": "2021-11-24T11:00:10.124270Z",
     "iopub.status.busy": "2021-11-24T11:00:10.121927Z",
     "iopub.status.idle": "2021-11-24T11:00:10.148128Z",
     "shell.execute_reply": "2021-11-24T11:00:10.149659Z"
    },
    "papermill": {
     "duration": 0.076088,
     "end_time": "2021-11-24T11:00:10.150148",
     "exception": false,
     "start_time": "2021-11-24T11:00:10.074060",
     "status": "completed"
    },
    "tags": []
   },
   "outputs": [
    {
     "data": {
      "text/html": [
       "<div>\n",
       "<style scoped>\n",
       "    .dataframe tbody tr th:only-of-type {\n",
       "        vertical-align: middle;\n",
       "    }\n",
       "\n",
       "    .dataframe tbody tr th {\n",
       "        vertical-align: top;\n",
       "    }\n",
       "\n",
       "    .dataframe thead th {\n",
       "        text-align: right;\n",
       "    }\n",
       "</style>\n",
       "<table border=\"1\" class=\"dataframe\">\n",
       "  <thead>\n",
       "    <tr style=\"text-align: right;\">\n",
       "      <th></th>\n",
       "      <th>RECORD_TIME</th>\n",
       "    </tr>\n",
       "  </thead>\n",
       "  <tbody>\n",
       "    <tr>\n",
       "      <th>0</th>\n",
       "      <td>2021-11-24 12:00</td>\n",
       "    </tr>\n",
       "    <tr>\n",
       "      <th>1</th>\n",
       "      <td>2021-11-24 11:30</td>\n",
       "    </tr>\n",
       "  </tbody>\n",
       "</table>\n",
       "</div>"
      ],
      "text/plain": [
       "        RECORD_TIME\n",
       "0  2021-11-24 12:00\n",
       "1  2021-11-24 11:30"
      ]
     },
     "execution_count": 3,
     "metadata": {},
     "output_type": "execute_result"
    }
   ],
   "source": [
    "timestamps"
   ]
  },
  {
   "cell_type": "code",
   "execution_count": 4,
   "id": "alternate-victory",
   "metadata": {
    "execution": {
     "iopub.execute_input": "2021-11-24T11:00:10.209262Z",
     "iopub.status.busy": "2021-11-24T11:00:10.205643Z",
     "iopub.status.idle": "2021-11-24T11:00:11.517943Z",
     "shell.execute_reply": "2021-11-24T11:00:11.519319Z"
    },
    "papermill": {
     "duration": 1.347913,
     "end_time": "2021-11-24T11:00:11.519788",
     "exception": false,
     "start_time": "2021-11-24T11:00:10.171875",
     "status": "completed"
    },
    "tags": []
   },
   "outputs": [],
   "source": [
    "df = pd.read_sql(\"select * from EBAY_TOP_BERLIN where record_time in (select distinct record_time from EBAY_TOP_BERLIN order by record_time desc limit 2)\", sqlite3.connect(\"UsedObjects.db\"))"
   ]
  },
  {
   "cell_type": "code",
   "execution_count": 5,
   "id": "popular-active",
   "metadata": {
    "execution": {
     "iopub.execute_input": "2021-11-24T11:00:11.615196Z",
     "iopub.status.busy": "2021-11-24T11:00:11.598933Z",
     "iopub.status.idle": "2021-11-24T11:00:11.655361Z",
     "shell.execute_reply": "2021-11-24T11:00:11.656929Z"
    },
    "papermill": {
     "duration": 0.115702,
     "end_time": "2021-11-24T11:00:11.657434",
     "exception": false,
     "start_time": "2021-11-24T11:00:11.541732",
     "status": "completed"
    },
    "tags": []
   },
   "outputs": [],
   "source": [
    "df_pivot = df.pivot_table(index=\"PRODUCT\", columns = \"RECORD_TIME\", values = \"LISTING_COUNT\")"
   ]
  },
  {
   "cell_type": "code",
   "execution_count": 6,
   "id": "union-huntington",
   "metadata": {
    "execution": {
     "iopub.execute_input": "2021-11-24T11:00:11.721620Z",
     "iopub.status.busy": "2021-11-24T11:00:11.719143Z",
     "iopub.status.idle": "2021-11-24T11:00:11.725094Z",
     "shell.execute_reply": "2021-11-24T11:00:11.726658Z"
    },
    "papermill": {
     "duration": 0.046845,
     "end_time": "2021-11-24T11:00:11.727137",
     "exception": false,
     "start_time": "2021-11-24T11:00:11.680292",
     "status": "completed"
    },
    "tags": []
   },
   "outputs": [],
   "source": [
    "df_pivot.columns = [\"stamp_1\", \"stamp_2\"]\n",
    "df_pivot_diff = df_pivot.diff(axis=1)"
   ]
  },
  {
   "cell_type": "code",
   "execution_count": 7,
   "id": "fifth-motion",
   "metadata": {
    "execution": {
     "iopub.execute_input": "2021-11-24T11:00:11.786074Z",
     "iopub.status.busy": "2021-11-24T11:00:11.783615Z",
     "iopub.status.idle": "2021-11-24T11:00:13.720642Z",
     "shell.execute_reply": "2021-11-24T11:00:13.722648Z"
    },
    "papermill": {
     "duration": 1.974101,
     "end_time": "2021-11-24T11:00:13.723271",
     "exception": false,
     "start_time": "2021-11-24T11:00:11.749170",
     "status": "completed"
    },
    "tags": []
   },
   "outputs": [
    {
     "data": {
      "text/plain": [
       "<AxesSubplot:ylabel='PRODUCT'>"
      ]
     },
     "execution_count": 7,
     "metadata": {},
     "output_type": "execute_result"
    },
    {
     "data": {
      "image/png": "[encoded data removed]",
      "text/plain": [
       "<Figure size 432x288 with 1 Axes>"
      ]
     },
     "metadata": {
      "needs_background": "light"
     },
     "output_type": "display_data"
    }
   ],
   "source": [
    "df_pivot_diff.sort_values(\"stamp_2\", ascending = False)[\"stamp_2\"].head(10).plot.barh()"
   ]
  },
  {
   "cell_type": "code",
   "execution_count": null,
   "id": "extra-executive",
   "metadata": {
    "papermill": {
     "duration": 0.024021,
     "end_time": "2021-11-24T11:00:13.776942",
     "exception": false,
     "start_time": "2021-11-24T11:00:13.752921",
     "status": "completed"
    },
    "tags": []
   },
   "outputs": [],
   "source": []
  }
 ],
 "metadata": {
  "kernelspec": {
   "display_name": "Python 3",
   "language": "python",
   "name": "python3"
  },
  "language_info": {
   "codemirror_mode": {
    "name": "ipython",
    "version": 3
   },
   "file_extension": ".py",
   "mimetype": "text/x-python",
   "name": "python",
   "nbconvert_exporter": "python",
   "pygments_lexer": "ipython3",
   "version": "3.9.5"
  },
  "papermill": {
   "default_parameters": {},
   "duration": 9.955298,
   "end_time": "2021-11-24T11:00:15.224362",
   "environment_variables": {},
   "exception": null,
   "input_path": "eBay_Overview.ipynb",
   "output_path": "eBay_Overview.ipynb",
   "parameters": {},
   "start_time": "2021-11-24T11:00:05.269064",
   "version": "2.3.3"
  }
 },
 "nbformat": 4,
 "nbformat_minor": 5
}