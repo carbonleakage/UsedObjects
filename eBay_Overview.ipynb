{
 "cells": [
  {
   "cell_type": "code",
   "execution_count": 1,
   "id": "reverse-picking",
   "metadata": {
    "execution": {
     "iopub.execute_input": "2021-12-08T04:30:07.425637Z",
     "iopub.status.busy": "2021-12-08T04:30:07.423366Z",
     "iopub.status.idle": "2021-12-08T04:30:08.357088Z",
     "shell.execute_reply": "2021-12-08T04:30:08.358365Z"
    },
    "papermill": {
     "duration": 0.991187,
     "end_time": "2021-12-08T04:30:08.359001",
     "exception": false,
     "start_time": "2021-12-08T04:30:07.367814",
     "status": "completed"
    },
    "tags": []
   },
   "outputs": [],
   "source": [
    "import pandas as pd\n",
    "import sqlite3"
   ]
  },
  {
   "cell_type": "code",
   "execution_count": 2,
   "id": "innovative-syndrome",
   "metadata": {
    "execution": {
     "iopub.execute_input": "2021-12-08T04:30:08.479924Z",
     "iopub.status.busy": "2021-12-08T04:30:08.478042Z",
     "iopub.status.idle": "2021-12-08T04:30:09.511835Z",
     "shell.execute_reply": "2021-12-08T04:30:09.513449Z"
    },
    "papermill": {
     "duration": 1.06831,
     "end_time": "2021-12-08T04:30:09.513915",
     "exception": false,
     "start_time": "2021-12-08T04:30:08.445605",
     "status": "completed"
    },
    "tags": []
   },
   "outputs": [],
   "source": [
    "timestamps = pd.read_sql(\"select distinct record_time from EBAY_TOP_BERLIN order by record_time desc limit 2\", sqlite3.connect(\"UsedObjects.db\"))"
   ]
  },
  {
   "cell_type": "code",
   "execution_count": 3,
   "id": "periodic-identification",
   "metadata": {
    "execution": {
     "iopub.execute_input": "2021-12-08T04:30:09.586988Z",
     "iopub.status.busy": "2021-12-08T04:30:09.583228Z",
     "iopub.status.idle": "2021-12-08T04:30:09.634890Z",
     "shell.execute_reply": "2021-12-08T04:30:09.636508Z"
    },
    "papermill": {
     "duration": 0.100129,
     "end_time": "2021-12-08T04:30:09.637078",
     "exception": false,
     "start_time": "2021-12-08T04:30:09.536949",
     "status": "completed"
    },
    "tags": []
   },
   "outputs": [
    {
     "data": {
      "text/html": [
       "<div>\n",
       "<style scoped>\n",
       "    .dataframe tbody tr th:only-of-type {\n",
       "        vertical-align: middle;\n",
       "    }\n",
       "\n",
       "    .dataframe tbody tr th {\n",
       "        vertical-align: top;\n",
       "    }\n",
       "\n",
       "    .dataframe thead th {\n",
       "        text-align: right;\n",
       "    }\n",
       "</style>\n",
       "<table border=\"1\" class=\"dataframe\">\n",
       "  <thead>\n",
       "    <tr style=\"text-align: right;\">\n",
       "      <th></th>\n",
       "      <th>RECORD_TIME</th>\n",
       "    </tr>\n",
       "  </thead>\n",
       "  <tbody>\n",
       "    <tr>\n",
       "      <th>0</th>\n",
       "      <td>2021-12-08 05:30</td>\n",
       "    </tr>\n",
       "    <tr>\n",
       "      <th>1</th>\n",
       "      <td>2021-12-08 05:00</td>\n",
       "    </tr>\n",
       "  </tbody>\n",
       "</table>\n",
       "</div>"
      ],
      "text/plain": [
       "        RECORD_TIME\n",
       "0  2021-12-08 05:30\n",
       "1  2021-12-08 05:00"
      ]
     },
     "execution_count": 3,
     "metadata": {},
     "output_type": "execute_result"
    }
   ],
   "source": [
    "timestamps"
   ]
  },
  {
   "cell_type": "code",
   "execution_count": 4,
   "id": "alternate-victory",
   "metadata": {
    "execution": {
     "iopub.execute_input": "2021-12-08T04:30:09.695294Z",
     "iopub.status.busy": "2021-12-08T04:30:09.693221Z",
     "iopub.status.idle": "2021-12-08T04:30:11.242140Z",
     "shell.execute_reply": "2021-12-08T04:30:11.246015Z"
    },
    "papermill": {
     "duration": 1.587757,
     "end_time": "2021-12-08T04:30:11.246886",
     "exception": false,
     "start_time": "2021-12-08T04:30:09.659129",
     "status": "completed"
    },
    "tags": []
   },
   "outputs": [],
   "source": [
    "df = pd.read_sql(\"select * from EBAY_TOP_BERLIN where record_time in (select distinct record_time from EBAY_TOP_BERLIN order by record_time desc limit 2)\", sqlite3.connect(\"UsedObjects.db\"))"
   ]
  },
  {
   "cell_type": "code",
   "execution_count": 5,
   "id": "popular-active",
   "metadata": {
    "execution": {
     "iopub.execute_input": "2021-12-08T04:30:11.389253Z",
     "iopub.status.busy": "2021-12-08T04:30:11.365057Z",
     "iopub.status.idle": "2021-12-08T04:30:11.424916Z",
     "shell.execute_reply": "2021-12-08T04:30:11.427523Z"
    },
    "papermill": {
     "duration": 0.148418,
     "end_time": "2021-12-08T04:30:11.428352",
     "exception": false,
     "start_time": "2021-12-08T04:30:11.279934",
     "status": "completed"
    },
    "tags": []
   },
   "outputs": [],
   "source": [
    "df_pivot = df.pivot_table(index=\"PRODUCT\", columns = \"RECORD_TIME\", values = \"LISTING_COUNT\")"
   ]
  },
  {
   "cell_type": "code",
   "execution_count": 6,
   "id": "union-huntington",
   "metadata": {
    "execution": {
     "iopub.execute_input": "2021-12-08T04:30:11.512510Z",
     "iopub.status.busy": "2021-12-08T04:30:11.509704Z",
     "iopub.status.idle": "2021-12-08T04:30:11.517138Z",
     "shell.execute_reply": "2021-12-08T04:30:11.519035Z"
    },
    "papermill": {
     "duration": 0.061339,
     "end_time": "2021-12-08T04:30:11.519645",
     "exception": false,
     "start_time": "2021-12-08T04:30:11.458306",
     "status": "completed"
    },
    "tags": []
   },
   "outputs": [],
   "source": [
    "df_pivot.columns = [\"stamp_1\", \"stamp_2\"]\n",
    "df_pivot_diff = df_pivot.diff(axis=1)"
   ]
  },
  {
   "cell_type": "code",
   "execution_count": 7,
   "id": "fifth-motion",
   "metadata": {
    "execution": {
     "iopub.execute_input": "2021-12-08T04:30:11.582834Z",
     "iopub.status.busy": "2021-12-08T04:30:11.580073Z",
     "iopub.status.idle": "2021-12-08T04:30:13.291882Z",
     "shell.execute_reply": "2021-12-08T04:30:13.293339Z"
    },
    "papermill": {
     "duration": 1.749092,
     "end_time": "2021-12-08T04:30:13.293802",
     "exception": false,
     "start_time": "2021-12-08T04:30:11.544710",
     "status": "completed"
    },
    "tags": []
   },
   "outputs": [
    {
     "data": {
      "text/plain": [
       "<AxesSubplot:ylabel='PRODUCT'>"
      ]
     },
     "execution_count": 7,
     "metadata": {},
     "output_type": "execute_result"
    },
    {
     "data": {
      "image/png": "[encoded data removed]",
      "text/plain": [
       "<Figure size 432x288 with 1 Axes>"
      ]
     },
     "metadata": {
      "needs_background": "light"
     },
     "output_type": "display_data"
    }
   ],
   "source": [
    "df_pivot_diff.sort_values(\"stamp_2\", ascending = False)[\"stamp_2\"].head(10).plot.barh()"
   ]
  },
  {
   "cell_type": "code",
   "execution_count": null,
   "id": "extra-executive",
   "metadata": {
    "papermill": {
     "duration": 0.022444,
     "end_time": "2021-12-08T04:30:13.341054",
     "exception": false,
     "start_time": "2021-12-08T04:30:13.318610",
     "status": "completed"
    },
    "tags": []
   },
   "outputs": [],
   "source": []
  }
 ],
 "metadata": {
  "kernelspec": {
   "display_name": "Python 3",
   "language": "python",
   "name": "python3"
  },
  "language_info": {
   "codemirror_mode": {
    "name": "ipython",
    "version": 3
   },
   "file_extension": ".py",
   "mimetype": "text/x-python",
   "name": "python",
   "nbconvert_exporter": "python",
   "pygments_lexer": "ipython3",
   "version": "3.9.5"
  },
  "papermill": {
   "default_parameters": {},
   "duration": 9.94557,
   "end_time": "2021-12-08T04:30:14.585798",
   "environment_variables": {},
   "exception": null,
   "input_path": "eBay_Overview.ipynb",
   "output_path": "eBay_Overview.ipynb",
   "parameters": {},
   "start_time": "2021-12-08T04:30:04.640228",
   "version": "2.3.3"
  }
 },
 "nbformat": 4,
 "nbformat_minor": 5
}