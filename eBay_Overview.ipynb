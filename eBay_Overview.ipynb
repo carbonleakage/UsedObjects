{
 "cells": [
  {
   "cell_type": "code",
   "execution_count": 1,
   "id": "reverse-picking",
   "metadata": {
    "execution": {
     "iopub.execute_input": "2021-12-06T07:30:07.765046Z",
     "iopub.status.busy": "2021-12-06T07:30:07.762683Z",
     "iopub.status.idle": "2021-12-06T07:30:08.726153Z",
     "shell.execute_reply": "2021-12-06T07:30:08.727704Z"
    },
    "papermill": {
     "duration": 1.012988,
     "end_time": "2021-12-06T07:30:08.728447",
     "exception": false,
     "start_time": "2021-12-06T07:30:07.715459",
     "status": "completed"
    },
    "tags": []
   },
   "outputs": [],
   "source": [
    "import pandas as pd\n",
    "import sqlite3"
   ]
  },
  {
   "cell_type": "code",
   "execution_count": 2,
   "id": "innovative-syndrome",
   "metadata": {
    "execution": {
     "iopub.execute_input": "2021-12-06T07:30:08.794223Z",
     "iopub.status.busy": "2021-12-06T07:30:08.791942Z",
     "iopub.status.idle": "2021-12-06T07:30:09.799545Z",
     "shell.execute_reply": "2021-12-06T07:30:09.801172Z"
    },
    "papermill": {
     "duration": 1.043378,
     "end_time": "2021-12-06T07:30:09.801676",
     "exception": false,
     "start_time": "2021-12-06T07:30:08.758298",
     "status": "completed"
    },
    "tags": []
   },
   "outputs": [],
   "source": [
    "timestamps = pd.read_sql(\"select distinct record_time from EBAY_TOP_BERLIN order by record_time desc limit 2\", sqlite3.connect(\"UsedObjects.db\"))"
   ]
  },
  {
   "cell_type": "code",
   "execution_count": 3,
   "id": "periodic-identification",
   "metadata": {
    "execution": {
     "iopub.execute_input": "2021-12-06T07:30:09.876202Z",
     "iopub.status.busy": "2021-12-06T07:30:09.867277Z",
     "iopub.status.idle": "2021-12-06T07:30:09.901573Z",
     "shell.execute_reply": "2021-12-06T07:30:09.899965Z"
    },
    "papermill": {
     "duration": 0.078735,
     "end_time": "2021-12-06T07:30:09.902006",
     "exception": false,
     "start_time": "2021-12-06T07:30:09.823271",
     "status": "completed"
    },
    "tags": []
   },
   "outputs": [
    {
     "data": {
      "text/html": [
       "<div>\n",
       "<style scoped>\n",
       "    .dataframe tbody tr th:only-of-type {\n",
       "        vertical-align: middle;\n",
       "    }\n",
       "\n",
       "    .dataframe tbody tr th {\n",
       "        vertical-align: top;\n",
       "    }\n",
       "\n",
       "    .dataframe thead th {\n",
       "        text-align: right;\n",
       "    }\n",
       "</style>\n",
       "<table border=\"1\" class=\"dataframe\">\n",
       "  <thead>\n",
       "    <tr style=\"text-align: right;\">\n",
       "      <th></th>\n",
       "      <th>RECORD_TIME</th>\n",
       "    </tr>\n",
       "  </thead>\n",
       "  <tbody>\n",
       "    <tr>\n",
       "      <th>0</th>\n",
       "      <td>2021-12-06 08:30</td>\n",
       "    </tr>\n",
       "    <tr>\n",
       "      <th>1</th>\n",
       "      <td>2021-12-06 08:00</td>\n",
       "    </tr>\n",
       "  </tbody>\n",
       "</table>\n",
       "</div>"
      ],
      "text/plain": [
       "        RECORD_TIME\n",
       "0  2021-12-06 08:30\n",
       "1  2021-12-06 08:00"
      ]
     },
     "execution_count": 3,
     "metadata": {},
     "output_type": "execute_result"
    }
   ],
   "source": [
    "timestamps"
   ]
  },
  {
   "cell_type": "code",
   "execution_count": 4,
   "id": "alternate-victory",
   "metadata": {
    "execution": {
     "iopub.execute_input": "2021-12-06T07:30:09.958969Z",
     "iopub.status.busy": "2021-12-06T07:30:09.956820Z",
     "iopub.status.idle": "2021-12-06T07:30:11.454197Z",
     "shell.execute_reply": "2021-12-06T07:30:11.455981Z"
    },
    "papermill": {
     "duration": 1.531306,
     "end_time": "2021-12-06T07:30:11.456448",
     "exception": false,
     "start_time": "2021-12-06T07:30:09.925142",
     "status": "completed"
    },
    "tags": []
   },
   "outputs": [],
   "source": [
    "df = pd.read_sql(\"select * from EBAY_TOP_BERLIN where record_time in (select distinct record_time from EBAY_TOP_BERLIN order by record_time desc limit 2)\", sqlite3.connect(\"UsedObjects.db\"))"
   ]
  },
  {
   "cell_type": "code",
   "execution_count": 5,
   "id": "popular-active",
   "metadata": {
    "execution": {
     "iopub.execute_input": "2021-12-06T07:30:11.532343Z",
     "iopub.status.busy": "2021-12-06T07:30:11.519232Z",
     "iopub.status.idle": "2021-12-06T07:30:11.551697Z",
     "shell.execute_reply": "2021-12-06T07:30:11.554168Z"
    },
    "papermill": {
     "duration": 0.077575,
     "end_time": "2021-12-06T07:30:11.554770",
     "exception": false,
     "start_time": "2021-12-06T07:30:11.477195",
     "status": "completed"
    },
    "tags": []
   },
   "outputs": [],
   "source": [
    "df_pivot = df.pivot_table(index=\"PRODUCT\", columns = \"RECORD_TIME\", values = \"LISTING_COUNT\")"
   ]
  },
  {
   "cell_type": "code",
   "execution_count": 6,
   "id": "union-huntington",
   "metadata": {
    "execution": {
     "iopub.execute_input": "2021-12-06T07:30:11.620315Z",
     "iopub.status.busy": "2021-12-06T07:30:11.617721Z",
     "iopub.status.idle": "2021-12-06T07:30:11.625393Z",
     "shell.execute_reply": "2021-12-06T07:30:11.627770Z"
    },
    "papermill": {
     "duration": 0.049176,
     "end_time": "2021-12-06T07:30:11.628356",
     "exception": false,
     "start_time": "2021-12-06T07:30:11.579180",
     "status": "completed"
    },
    "tags": []
   },
   "outputs": [],
   "source": [
    "df_pivot.columns = [\"stamp_1\", \"stamp_2\"]\n",
    "df_pivot_diff = df_pivot.diff(axis=1)"
   ]
  },
  {
   "cell_type": "code",
   "execution_count": 7,
   "id": "fifth-motion",
   "metadata": {
    "execution": {
     "iopub.execute_input": "2021-12-06T07:30:11.694907Z",
     "iopub.status.busy": "2021-12-06T07:30:11.692454Z",
     "iopub.status.idle": "2021-12-06T07:30:13.648970Z",
     "shell.execute_reply": "2021-12-06T07:30:13.650732Z"
    },
    "papermill": {
     "duration": 1.997051,
     "end_time": "2021-12-06T07:30:13.651338",
     "exception": false,
     "start_time": "2021-12-06T07:30:11.654287",
     "status": "completed"
    },
    "tags": []
   },
   "outputs": [
    {
     "data": {
      "text/plain": [
       "<AxesSubplot:ylabel='PRODUCT'>"
      ]
     },
     "execution_count": 7,
     "metadata": {},
     "output_type": "execute_result"
    },
    {
     "data": {
      "image/png": "[encoded data removed]",
      "text/plain": [
       "<Figure size 432x288 with 1 Axes>"
      ]
     },
     "metadata": {
      "needs_background": "light"
     },
     "output_type": "display_data"
    }
   ],
   "source": [
    "df_pivot_diff.sort_values(\"stamp_2\", ascending = False)[\"stamp_2\"].head(10).plot.barh()"
   ]
  },
  {
   "cell_type": "code",
   "execution_count": null,
   "id": "extra-executive",
   "metadata": {
    "papermill": {
     "duration": 0.034078,
     "end_time": "2021-12-06T07:30:13.722945",
     "exception": false,
     "start_time": "2021-12-06T07:30:13.688867",
     "status": "completed"
    },
    "tags": []
   },
   "outputs": [],
   "source": []
  }
 ],
 "metadata": {
  "kernelspec": {
   "display_name": "Python 3",
   "language": "python",
   "name": "python3"
  },
  "language_info": {
   "codemirror_mode": {
    "name": "ipython",
    "version": 3
   },
   "file_extension": ".py",
   "mimetype": "text/x-python",
   "name": "python",
   "nbconvert_exporter": "python",
   "pygments_lexer": "ipython3",
   "version": "3.9.5"
  },
  "papermill": {
   "default_parameters": {},
   "duration": 9.943166,
   "end_time": "2021-12-06T07:30:14.921309",
   "environment_variables": {},
   "exception": null,
   "input_path": "eBay_Overview.ipynb",
   "output_path": "eBay_Overview.ipynb",
   "parameters": {},
   "start_time": "2021-12-06T07:30:04.978143",
   "version": "2.3.3"
  }
 },
 "nbformat": 4,
 "nbformat_minor": 5
}