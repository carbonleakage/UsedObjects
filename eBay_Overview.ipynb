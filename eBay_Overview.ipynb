{
 "cells": [
  {
   "cell_type": "code",
   "execution_count": 1,
   "id": "reverse-picking",
   "metadata": {
    "execution": {
     "iopub.execute_input": "2021-11-08T00:00:07.848625Z",
     "iopub.status.busy": "2021-11-08T00:00:07.846395Z",
     "iopub.status.idle": "2021-11-08T00:00:08.794192Z",
     "shell.execute_reply": "2021-11-08T00:00:08.795832Z"
    },
    "papermill": {
     "duration": 0.998729,
     "end_time": "2021-11-08T00:00:08.796575",
     "exception": false,
     "start_time": "2021-11-08T00:00:07.797846",
     "status": "completed"
    },
    "tags": []
   },
   "outputs": [],
   "source": [
    "import pandas as pd\n",
    "import sqlite3"
   ]
  },
  {
   "cell_type": "code",
   "execution_count": 2,
   "id": "innovative-syndrome",
   "metadata": {
    "execution": {
     "iopub.execute_input": "2021-11-08T00:00:08.867872Z",
     "iopub.status.busy": "2021-11-08T00:00:08.865729Z",
     "iopub.status.idle": "2021-11-08T00:00:09.652667Z",
     "shell.execute_reply": "2021-11-08T00:00:09.654278Z"
    },
    "papermill": {
     "duration": 0.837093,
     "end_time": "2021-11-08T00:00:09.654759",
     "exception": false,
     "start_time": "2021-11-08T00:00:08.817666",
     "status": "completed"
    },
    "tags": []
   },
   "outputs": [],
   "source": [
    "timestamps = pd.read_sql(\"select distinct record_time from EBAY_TOP_BERLIN order by record_time desc limit 2\", sqlite3.connect(\"UsedObjects.db\"))"
   ]
  },
  {
   "cell_type": "code",
   "execution_count": 3,
   "id": "periodic-identification",
   "metadata": {
    "execution": {
     "iopub.execute_input": "2021-11-08T00:00:09.727454Z",
     "iopub.status.busy": "2021-11-08T00:00:09.725143Z",
     "iopub.status.idle": "2021-11-08T00:00:09.748951Z",
     "shell.execute_reply": "2021-11-08T00:00:09.750418Z"
    },
    "papermill": {
     "duration": 0.075208,
     "end_time": "2021-11-08T00:00:09.750903",
     "exception": false,
     "start_time": "2021-11-08T00:00:09.675695",
     "status": "completed"
    },
    "tags": []
   },
   "outputs": [
    {
     "data": {
      "text/html": [
       "<div>\n",
       "<style scoped>\n",
       "    .dataframe tbody tr th:only-of-type {\n",
       "        vertical-align: middle;\n",
       "    }\n",
       "\n",
       "    .dataframe tbody tr th {\n",
       "        vertical-align: top;\n",
       "    }\n",
       "\n",
       "    .dataframe thead th {\n",
       "        text-align: right;\n",
       "    }\n",
       "</style>\n",
       "<table border=\"1\" class=\"dataframe\">\n",
       "  <thead>\n",
       "    <tr style=\"text-align: right;\">\n",
       "      <th></th>\n",
       "      <th>RECORD_TIME</th>\n",
       "    </tr>\n",
       "  </thead>\n",
       "  <tbody>\n",
       "    <tr>\n",
       "      <th>0</th>\n",
       "      <td>2021-11-08 01:00</td>\n",
       "    </tr>\n",
       "    <tr>\n",
       "      <th>1</th>\n",
       "      <td>2021-11-08 00:30</td>\n",
       "    </tr>\n",
       "  </tbody>\n",
       "</table>\n",
       "</div>"
      ],
      "text/plain": [
       "        RECORD_TIME\n",
       "0  2021-11-08 01:00\n",
       "1  2021-11-08 00:30"
      ]
     },
     "execution_count": 3,
     "metadata": {},
     "output_type": "execute_result"
    }
   ],
   "source": [
    "timestamps"
   ]
  },
  {
   "cell_type": "code",
   "execution_count": 4,
   "id": "alternate-victory",
   "metadata": {
    "execution": {
     "iopub.execute_input": "2021-11-08T00:00:09.808021Z",
     "iopub.status.busy": "2021-11-08T00:00:09.805812Z",
     "iopub.status.idle": "2021-11-08T00:00:10.895797Z",
     "shell.execute_reply": "2021-11-08T00:00:10.897194Z"
    },
    "papermill": {
     "duration": 1.124844,
     "end_time": "2021-11-08T00:00:10.897612",
     "exception": false,
     "start_time": "2021-11-08T00:00:09.772768",
     "status": "completed"
    },
    "tags": []
   },
   "outputs": [],
   "source": [
    "df = pd.read_sql(\"select * from EBAY_TOP_BERLIN where record_time in (select distinct record_time from EBAY_TOP_BERLIN order by record_time desc limit 2)\", sqlite3.connect(\"UsedObjects.db\"))"
   ]
  },
  {
   "cell_type": "code",
   "execution_count": 5,
   "id": "popular-active",
   "metadata": {
    "execution": {
     "iopub.execute_input": "2021-11-08T00:00:10.969409Z",
     "iopub.status.busy": "2021-11-08T00:00:10.957403Z",
     "iopub.status.idle": "2021-11-08T00:00:10.987266Z",
     "shell.execute_reply": "2021-11-08T00:00:10.988575Z"
    },
    "papermill": {
     "duration": 0.07071,
     "end_time": "2021-11-08T00:00:10.989158",
     "exception": false,
     "start_time": "2021-11-08T00:00:10.918448",
     "status": "completed"
    },
    "tags": []
   },
   "outputs": [],
   "source": [
    "df_pivot = df.pivot_table(index=\"PRODUCT\", columns = \"RECORD_TIME\", values = \"LISTING_COUNT\")"
   ]
  },
  {
   "cell_type": "code",
   "execution_count": 6,
   "id": "union-huntington",
   "metadata": {
    "execution": {
     "iopub.execute_input": "2021-11-08T00:00:11.049720Z",
     "iopub.status.busy": "2021-11-08T00:00:11.047443Z",
     "iopub.status.idle": "2021-11-08T00:00:11.055417Z",
     "shell.execute_reply": "2021-11-08T00:00:11.053629Z"
    },
    "papermill": {
     "duration": 0.046546,
     "end_time": "2021-11-08T00:00:11.055882",
     "exception": false,
     "start_time": "2021-11-08T00:00:11.009336",
     "status": "completed"
    },
    "tags": []
   },
   "outputs": [],
   "source": [
    "df_pivot.columns = [\"stamp_1\", \"stamp_2\"]\n",
    "df_pivot_diff = df_pivot.diff(axis=1)"
   ]
  },
  {
   "cell_type": "code",
   "execution_count": 7,
   "id": "fifth-motion",
   "metadata": {
    "execution": {
     "iopub.execute_input": "2021-11-08T00:00:11.107434Z",
     "iopub.status.busy": "2021-11-08T00:00:11.105532Z",
     "iopub.status.idle": "2021-11-08T00:00:12.866552Z",
     "shell.execute_reply": "2021-11-08T00:00:12.867975Z"
    },
    "papermill": {
     "duration": 1.790349,
     "end_time": "2021-11-08T00:00:12.868432",
     "exception": false,
     "start_time": "2021-11-08T00:00:11.078083",
     "status": "completed"
    },
    "tags": []
   },
   "outputs": [
    {
     "data": {
      "text/plain": [
       "<AxesSubplot:ylabel='PRODUCT'>"
      ]
     },
     "execution_count": 7,
     "metadata": {},
     "output_type": "execute_result"
    },
    {
     "data": {
      "image/png": "[encoded data removed]",
      "text/plain": [
       "<Figure size 432x288 with 1 Axes>"
      ]
     },
     "metadata": {
      "needs_background": "light"
     },
     "output_type": "display_data"
    }
   ],
   "source": [
    "df_pivot_diff.sort_values(\"stamp_2\", ascending = False)[\"stamp_2\"].head(10).plot.barh()"
   ]
  },
  {
   "cell_type": "code",
   "execution_count": null,
   "id": "extra-executive",
   "metadata": {
    "papermill": {
     "duration": 0.023664,
     "end_time": "2021-11-08T00:00:12.916456",
     "exception": false,
     "start_time": "2021-11-08T00:00:12.892792",
     "status": "completed"
    },
    "tags": []
   },
   "outputs": [],
   "source": []
  }
 ],
 "metadata": {
  "kernelspec": {
   "display_name": "Python 3",
   "language": "python",
   "name": "python3"
  },
  "language_info": {
   "codemirror_mode": {
    "name": "ipython",
    "version": 3
   },
   "file_extension": ".py",
   "mimetype": "text/x-python",
   "name": "python",
   "nbconvert_exporter": "python",
   "pygments_lexer": "ipython3",
   "version": "3.9.5"
  },
  "papermill": {
   "default_parameters": {},
   "duration": 8.657388,
   "end_time": "2021-11-08T00:00:13.661131",
   "environment_variables": {},
   "exception": null,
   "input_path": "eBay_Overview.ipynb",
   "output_path": "eBay_Overview.ipynb",
   "parameters": {},
   "start_time": "2021-11-08T00:00:05.003743",
   "version": "2.3.3"
  }
 },
 "nbformat": 4,
 "nbformat_minor": 5
}