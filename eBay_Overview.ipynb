{
 "cells": [
  {
   "cell_type": "code",
   "execution_count": 1,
   "id": "reverse-picking",
   "metadata": {
    "execution": {
     "iopub.execute_input": "2021-11-07T11:00:07.987540Z",
     "iopub.status.busy": "2021-11-07T11:00:07.985220Z",
     "iopub.status.idle": "2021-11-07T11:00:08.938972Z",
     "shell.execute_reply": "2021-11-07T11:00:08.941395Z"
    },
    "papermill": {
     "duration": 1.00407,
     "end_time": "2021-11-07T11:00:08.942147",
     "exception": false,
     "start_time": "2021-11-07T11:00:07.938077",
     "status": "completed"
    },
    "tags": []
   },
   "outputs": [],
   "source": [
    "import pandas as pd\n",
    "import sqlite3"
   ]
  },
  {
   "cell_type": "code",
   "execution_count": 2,
   "id": "innovative-syndrome",
   "metadata": {
    "execution": {
     "iopub.execute_input": "2021-11-07T11:00:08.999786Z",
     "iopub.status.busy": "2021-11-07T11:00:08.997371Z",
     "iopub.status.idle": "2021-11-07T11:00:09.746606Z",
     "shell.execute_reply": "2021-11-07T11:00:09.748191Z"
    },
    "papermill": {
     "duration": 0.784972,
     "end_time": "2021-11-07T11:00:09.748746",
     "exception": false,
     "start_time": "2021-11-07T11:00:08.963774",
     "status": "completed"
    },
    "tags": []
   },
   "outputs": [],
   "source": [
    "timestamps = pd.read_sql(\"select distinct record_time from EBAY_TOP_BERLIN order by record_time desc limit 2\", sqlite3.connect(\"UsedObjects.db\"))"
   ]
  },
  {
   "cell_type": "code",
   "execution_count": 3,
   "id": "periodic-identification",
   "metadata": {
    "execution": {
     "iopub.execute_input": "2021-11-07T11:00:09.826061Z",
     "iopub.status.busy": "2021-11-07T11:00:09.819556Z",
     "iopub.status.idle": "2021-11-07T11:00:09.843264Z",
     "shell.execute_reply": "2021-11-07T11:00:09.844806Z"
    },
    "papermill": {
     "duration": 0.075853,
     "end_time": "2021-11-07T11:00:09.845307",
     "exception": false,
     "start_time": "2021-11-07T11:00:09.769454",
     "status": "completed"
    },
    "tags": []
   },
   "outputs": [
    {
     "data": {
      "text/html": [
       "<div>\n",
       "<style scoped>\n",
       "    .dataframe tbody tr th:only-of-type {\n",
       "        vertical-align: middle;\n",
       "    }\n",
       "\n",
       "    .dataframe tbody tr th {\n",
       "        vertical-align: top;\n",
       "    }\n",
       "\n",
       "    .dataframe thead th {\n",
       "        text-align: right;\n",
       "    }\n",
       "</style>\n",
       "<table border=\"1\" class=\"dataframe\">\n",
       "  <thead>\n",
       "    <tr style=\"text-align: right;\">\n",
       "      <th></th>\n",
       "      <th>RECORD_TIME</th>\n",
       "    </tr>\n",
       "  </thead>\n",
       "  <tbody>\n",
       "    <tr>\n",
       "      <th>0</th>\n",
       "      <td>2021-11-07 12:00</td>\n",
       "    </tr>\n",
       "    <tr>\n",
       "      <th>1</th>\n",
       "      <td>2021-11-07 11:30</td>\n",
       "    </tr>\n",
       "  </tbody>\n",
       "</table>\n",
       "</div>"
      ],
      "text/plain": [
       "        RECORD_TIME\n",
       "0  2021-11-07 12:00\n",
       "1  2021-11-07 11:30"
      ]
     },
     "execution_count": 3,
     "metadata": {},
     "output_type": "execute_result"
    }
   ],
   "source": [
    "timestamps"
   ]
  },
  {
   "cell_type": "code",
   "execution_count": 4,
   "id": "alternate-victory",
   "metadata": {
    "execution": {
     "iopub.execute_input": "2021-11-07T11:00:09.902487Z",
     "iopub.status.busy": "2021-11-07T11:00:09.899747Z",
     "iopub.status.idle": "2021-11-07T11:00:10.975203Z",
     "shell.execute_reply": "2021-11-07T11:00:10.976428Z"
    },
    "papermill": {
     "duration": 1.109602,
     "end_time": "2021-11-07T11:00:10.976998",
     "exception": false,
     "start_time": "2021-11-07T11:00:09.867396",
     "status": "completed"
    },
    "tags": []
   },
   "outputs": [],
   "source": [
    "df = pd.read_sql(\"select * from EBAY_TOP_BERLIN where record_time in (select distinct record_time from EBAY_TOP_BERLIN order by record_time desc limit 2)\", sqlite3.connect(\"UsedObjects.db\"))"
   ]
  },
  {
   "cell_type": "code",
   "execution_count": 5,
   "id": "popular-active",
   "metadata": {
    "execution": {
     "iopub.execute_input": "2021-11-07T11:00:11.053766Z",
     "iopub.status.busy": "2021-11-07T11:00:11.041017Z",
     "iopub.status.idle": "2021-11-07T11:00:11.071593Z",
     "shell.execute_reply": "2021-11-07T11:00:11.073062Z"
    },
    "papermill": {
     "duration": 0.07367,
     "end_time": "2021-11-07T11:00:11.073537",
     "exception": false,
     "start_time": "2021-11-07T11:00:10.999867",
     "status": "completed"
    },
    "tags": []
   },
   "outputs": [],
   "source": [
    "df_pivot = df.pivot_table(index=\"PRODUCT\", columns = \"RECORD_TIME\", values = \"LISTING_COUNT\")"
   ]
  },
  {
   "cell_type": "code",
   "execution_count": 6,
   "id": "union-huntington",
   "metadata": {
    "execution": {
     "iopub.execute_input": "2021-11-07T11:00:11.135816Z",
     "iopub.status.busy": "2021-11-07T11:00:11.133123Z",
     "iopub.status.idle": "2021-11-07T11:00:11.140285Z",
     "shell.execute_reply": "2021-11-07T11:00:11.141922Z"
    },
    "papermill": {
     "duration": 0.048664,
     "end_time": "2021-11-07T11:00:11.142451",
     "exception": false,
     "start_time": "2021-11-07T11:00:11.093787",
     "status": "completed"
    },
    "tags": []
   },
   "outputs": [],
   "source": [
    "df_pivot.columns = [\"stamp_1\", \"stamp_2\"]\n",
    "df_pivot_diff = df_pivot.diff(axis=1)"
   ]
  },
  {
   "cell_type": "code",
   "execution_count": 7,
   "id": "fifth-motion",
   "metadata": {
    "execution": {
     "iopub.execute_input": "2021-11-07T11:00:11.209569Z",
     "iopub.status.busy": "2021-11-07T11:00:11.195381Z",
     "iopub.status.idle": "2021-11-07T11:00:12.937047Z",
     "shell.execute_reply": "2021-11-07T11:00:12.938456Z"
    },
    "papermill": {
     "duration": 1.775537,
     "end_time": "2021-11-07T11:00:12.938930",
     "exception": false,
     "start_time": "2021-11-07T11:00:11.163393",
     "status": "completed"
    },
    "tags": []
   },
   "outputs": [
    {
     "data": {
      "text/plain": [
       "<AxesSubplot:ylabel='PRODUCT'>"
      ]
     },
     "execution_count": 7,
     "metadata": {},
     "output_type": "execute_result"
    },
    {
     "data": {
      "image/png": "[encoded data removed]",
      "text/plain": [
       "<Figure size 432x288 with 1 Axes>"
      ]
     },
     "metadata": {
      "needs_background": "light"
     },
     "output_type": "display_data"
    }
   ],
   "source": [
    "df_pivot_diff.sort_values(\"stamp_2\", ascending = False)[\"stamp_2\"].head(10).plot.barh()"
   ]
  },
  {
   "cell_type": "code",
   "execution_count": null,
   "id": "extra-executive",
   "metadata": {
    "papermill": {
     "duration": 0.023818,
     "end_time": "2021-11-07T11:00:12.987161",
     "exception": false,
     "start_time": "2021-11-07T11:00:12.963343",
     "status": "completed"
    },
    "tags": []
   },
   "outputs": [],
   "source": []
  }
 ],
 "metadata": {
  "kernelspec": {
   "display_name": "Python 3",
   "language": "python",
   "name": "python3"
  },
  "language_info": {
   "codemirror_mode": {
    "name": "ipython",
    "version": 3
   },
   "file_extension": ".py",
   "mimetype": "text/x-python",
   "name": "python",
   "nbconvert_exporter": "python",
   "pygments_lexer": "ipython3",
   "version": "3.9.5"
  },
  "papermill": {
   "default_parameters": {},
   "duration": 8.633903,
   "end_time": "2021-11-07T11:00:13.730523",
   "environment_variables": {},
   "exception": null,
   "input_path": "eBay_Overview.ipynb",
   "output_path": "eBay_Overview.ipynb",
   "parameters": {},
   "start_time": "2021-11-07T11:00:05.096620",
   "version": "2.3.3"
  }
 },
 "nbformat": 4,
 "nbformat_minor": 5
}