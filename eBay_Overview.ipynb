{
 "cells": [
  {
   "cell_type": "code",
   "execution_count": 1,
   "id": "reverse-picking",
   "metadata": {
    "execution": {
     "iopub.execute_input": "2021-11-12T19:00:07.803522Z",
     "iopub.status.busy": "2021-11-12T19:00:07.801235Z",
     "iopub.status.idle": "2021-11-12T19:00:08.753290Z",
     "shell.execute_reply": "2021-11-12T19:00:08.755983Z"
    },
    "papermill": {
     "duration": 1.003443,
     "end_time": "2021-11-12T19:00:08.757303",
     "exception": false,
     "start_time": "2021-11-12T19:00:07.753860",
     "status": "completed"
    },
    "tags": []
   },
   "outputs": [],
   "source": [
    "import pandas as pd\n",
    "import sqlite3"
   ]
  },
  {
   "cell_type": "code",
   "execution_count": 2,
   "id": "innovative-syndrome",
   "metadata": {
    "execution": {
     "iopub.execute_input": "2021-11-12T19:00:08.823736Z",
     "iopub.status.busy": "2021-11-12T19:00:08.821460Z",
     "iopub.status.idle": "2021-11-12T19:00:09.661800Z",
     "shell.execute_reply": "2021-11-12T19:00:09.663060Z"
    },
    "papermill": {
     "duration": 0.873688,
     "end_time": "2021-11-12T19:00:09.663467",
     "exception": false,
     "start_time": "2021-11-12T19:00:08.789779",
     "status": "completed"
    },
    "tags": []
   },
   "outputs": [],
   "source": [
    "timestamps = pd.read_sql(\"select distinct record_time from EBAY_TOP_BERLIN order by record_time desc limit 2\", sqlite3.connect(\"UsedObjects.db\"))"
   ]
  },
  {
   "cell_type": "code",
   "execution_count": 3,
   "id": "periodic-identification",
   "metadata": {
    "execution": {
     "iopub.execute_input": "2021-11-12T19:00:09.727759Z",
     "iopub.status.busy": "2021-11-12T19:00:09.725761Z",
     "iopub.status.idle": "2021-11-12T19:00:09.745626Z",
     "shell.execute_reply": "2021-11-12T19:00:09.746889Z"
    },
    "papermill": {
     "duration": 0.064329,
     "end_time": "2021-11-12T19:00:09.747293",
     "exception": false,
     "start_time": "2021-11-12T19:00:09.682964",
     "status": "completed"
    },
    "tags": []
   },
   "outputs": [
    {
     "data": {
      "text/html": [
       "<div>\n",
       "<style scoped>\n",
       "    .dataframe tbody tr th:only-of-type {\n",
       "        vertical-align: middle;\n",
       "    }\n",
       "\n",
       "    .dataframe tbody tr th {\n",
       "        vertical-align: top;\n",
       "    }\n",
       "\n",
       "    .dataframe thead th {\n",
       "        text-align: right;\n",
       "    }\n",
       "</style>\n",
       "<table border=\"1\" class=\"dataframe\">\n",
       "  <thead>\n",
       "    <tr style=\"text-align: right;\">\n",
       "      <th></th>\n",
       "      <th>RECORD_TIME</th>\n",
       "    </tr>\n",
       "  </thead>\n",
       "  <tbody>\n",
       "    <tr>\n",
       "      <th>0</th>\n",
       "      <td>2021-11-12 20:00</td>\n",
       "    </tr>\n",
       "    <tr>\n",
       "      <th>1</th>\n",
       "      <td>2021-11-12 19:30</td>\n",
       "    </tr>\n",
       "  </tbody>\n",
       "</table>\n",
       "</div>"
      ],
      "text/plain": [
       "        RECORD_TIME\n",
       "0  2021-11-12 20:00\n",
       "1  2021-11-12 19:30"
      ]
     },
     "execution_count": 3,
     "metadata": {},
     "output_type": "execute_result"
    }
   ],
   "source": [
    "timestamps"
   ]
  },
  {
   "cell_type": "code",
   "execution_count": 4,
   "id": "alternate-victory",
   "metadata": {
    "execution": {
     "iopub.execute_input": "2021-11-12T19:00:09.800489Z",
     "iopub.status.busy": "2021-11-12T19:00:09.798223Z",
     "iopub.status.idle": "2021-11-12T19:00:10.984784Z",
     "shell.execute_reply": "2021-11-12T19:00:10.986375Z"
    },
    "papermill": {
     "duration": 1.217511,
     "end_time": "2021-11-12T19:00:10.986860",
     "exception": false,
     "start_time": "2021-11-12T19:00:09.769349",
     "status": "completed"
    },
    "tags": []
   },
   "outputs": [],
   "source": [
    "df = pd.read_sql(\"select * from EBAY_TOP_BERLIN where record_time in (select distinct record_time from EBAY_TOP_BERLIN order by record_time desc limit 2)\", sqlite3.connect(\"UsedObjects.db\"))"
   ]
  },
  {
   "cell_type": "code",
   "execution_count": 5,
   "id": "popular-active",
   "metadata": {
    "execution": {
     "iopub.execute_input": "2021-11-12T19:00:11.060126Z",
     "iopub.status.busy": "2021-11-12T19:00:11.052102Z",
     "iopub.status.idle": "2021-11-12T19:00:11.083664Z",
     "shell.execute_reply": "2021-11-12T19:00:11.085087Z"
    },
    "papermill": {
     "duration": 0.076598,
     "end_time": "2021-11-12T19:00:11.085563",
     "exception": false,
     "start_time": "2021-11-12T19:00:11.008965",
     "status": "completed"
    },
    "tags": []
   },
   "outputs": [],
   "source": [
    "df_pivot = df.pivot_table(index=\"PRODUCT\", columns = \"RECORD_TIME\", values = \"LISTING_COUNT\")"
   ]
  },
  {
   "cell_type": "code",
   "execution_count": 6,
   "id": "union-huntington",
   "metadata": {
    "execution": {
     "iopub.execute_input": "2021-11-12T19:00:11.143482Z",
     "iopub.status.busy": "2021-11-12T19:00:11.141337Z",
     "iopub.status.idle": "2021-11-12T19:00:11.147349Z",
     "shell.execute_reply": "2021-11-12T19:00:11.148787Z"
    },
    "papermill": {
     "duration": 0.043783,
     "end_time": "2021-11-12T19:00:11.149273",
     "exception": false,
     "start_time": "2021-11-12T19:00:11.105490",
     "status": "completed"
    },
    "tags": []
   },
   "outputs": [],
   "source": [
    "df_pivot.columns = [\"stamp_1\", \"stamp_2\"]\n",
    "df_pivot_diff = df_pivot.diff(axis=1)"
   ]
  },
  {
   "cell_type": "code",
   "execution_count": 7,
   "id": "fifth-motion",
   "metadata": {
    "execution": {
     "iopub.execute_input": "2021-11-12T19:00:11.210276Z",
     "iopub.status.busy": "2021-11-12T19:00:11.207598Z",
     "iopub.status.idle": "2021-11-12T19:00:13.123291Z",
     "shell.execute_reply": "2021-11-12T19:00:13.126151Z"
    },
    "papermill": {
     "duration": 1.95667,
     "end_time": "2021-11-12T19:00:13.126957",
     "exception": false,
     "start_time": "2021-11-12T19:00:11.170287",
     "status": "completed"
    },
    "tags": []
   },
   "outputs": [
    {
     "data": {
      "text/plain": [
       "<AxesSubplot:ylabel='PRODUCT'>"
      ]
     },
     "execution_count": 7,
     "metadata": {},
     "output_type": "execute_result"
    },
    {
     "data": {
      "image/png": "[encoded data removed]",
      "text/plain": [
       "<Figure size 432x288 with 1 Axes>"
      ]
     },
     "metadata": {
      "needs_background": "light"
     },
     "output_type": "display_data"
    }
   ],
   "source": [
    "df_pivot_diff.sort_values(\"stamp_2\", ascending = False)[\"stamp_2\"].head(10).plot.barh()"
   ]
  },
  {
   "cell_type": "code",
   "execution_count": null,
   "id": "extra-executive",
   "metadata": {
    "papermill": {
     "duration": 0.030906,
     "end_time": "2021-11-12T19:00:13.194209",
     "exception": false,
     "start_time": "2021-11-12T19:00:13.163303",
     "status": "completed"
    },
    "tags": []
   },
   "outputs": [],
   "source": []
  }
 ],
 "metadata": {
  "kernelspec": {
   "display_name": "Python 3",
   "language": "python",
   "name": "python3"
  },
  "language_info": {
   "codemirror_mode": {
    "name": "ipython",
    "version": 3
   },
   "file_extension": ".py",
   "mimetype": "text/x-python",
   "name": "python",
   "nbconvert_exporter": "python",
   "pygments_lexer": "ipython3",
   "version": "3.9.5"
  },
  "papermill": {
   "default_parameters": {},
   "duration": 8.932393,
   "end_time": "2021-11-12T19:00:13.965567",
   "environment_variables": {},
   "exception": null,
   "input_path": "eBay_Overview.ipynb",
   "output_path": "eBay_Overview.ipynb",
   "parameters": {},
   "start_time": "2021-11-12T19:00:05.033174",
   "version": "2.3.3"
  }
 },
 "nbformat": 4,
 "nbformat_minor": 5
}