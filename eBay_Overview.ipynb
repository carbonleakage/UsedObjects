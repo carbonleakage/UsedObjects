{
 "cells": [
  {
   "cell_type": "code",
   "execution_count": 1,
   "id": "reverse-picking",
   "metadata": {
    "execution": {
     "iopub.execute_input": "2021-11-16T01:30:07.330059Z",
     "iopub.status.busy": "2021-11-16T01:30:07.327636Z",
     "iopub.status.idle": "2021-11-16T01:30:08.281937Z",
     "shell.execute_reply": "2021-11-16T01:30:08.283447Z"
    },
    "papermill": {
     "duration": 1.005022,
     "end_time": "2021-11-16T01:30:08.284284",
     "exception": false,
     "start_time": "2021-11-16T01:30:07.279262",
     "status": "completed"
    },
    "tags": []
   },
   "outputs": [],
   "source": [
    "import pandas as pd\n",
    "import sqlite3"
   ]
  },
  {
   "cell_type": "code",
   "execution_count": 2,
   "id": "innovative-syndrome",
   "metadata": {
    "execution": {
     "iopub.execute_input": "2021-11-16T01:30:08.350125Z",
     "iopub.status.busy": "2021-11-16T01:30:08.347521Z",
     "iopub.status.idle": "2021-11-16T01:30:09.161641Z",
     "shell.execute_reply": "2021-11-16T01:30:09.164073Z"
    },
    "papermill": {
     "duration": 0.849445,
     "end_time": "2021-11-16T01:30:09.164602",
     "exception": false,
     "start_time": "2021-11-16T01:30:08.315157",
     "status": "completed"
    },
    "tags": []
   },
   "outputs": [],
   "source": [
    "timestamps = pd.read_sql(\"select distinct record_time from EBAY_TOP_BERLIN order by record_time desc limit 2\", sqlite3.connect(\"UsedObjects.db\"))"
   ]
  },
  {
   "cell_type": "code",
   "execution_count": 3,
   "id": "periodic-identification",
   "metadata": {
    "execution": {
     "iopub.execute_input": "2021-11-16T01:30:09.237646Z",
     "iopub.status.busy": "2021-11-16T01:30:09.235309Z",
     "iopub.status.idle": "2021-11-16T01:30:09.258269Z",
     "shell.execute_reply": "2021-11-16T01:30:09.259711Z"
    },
    "papermill": {
     "duration": 0.074236,
     "end_time": "2021-11-16T01:30:09.260165",
     "exception": false,
     "start_time": "2021-11-16T01:30:09.185929",
     "status": "completed"
    },
    "tags": []
   },
   "outputs": [
    {
     "data": {
      "text/html": [
       "<div>\n",
       "<style scoped>\n",
       "    .dataframe tbody tr th:only-of-type {\n",
       "        vertical-align: middle;\n",
       "    }\n",
       "\n",
       "    .dataframe tbody tr th {\n",
       "        vertical-align: top;\n",
       "    }\n",
       "\n",
       "    .dataframe thead th {\n",
       "        text-align: right;\n",
       "    }\n",
       "</style>\n",
       "<table border=\"1\" class=\"dataframe\">\n",
       "  <thead>\n",
       "    <tr style=\"text-align: right;\">\n",
       "      <th></th>\n",
       "      <th>RECORD_TIME</th>\n",
       "    </tr>\n",
       "  </thead>\n",
       "  <tbody>\n",
       "    <tr>\n",
       "      <th>0</th>\n",
       "      <td>2021-11-16 02:30</td>\n",
       "    </tr>\n",
       "    <tr>\n",
       "      <th>1</th>\n",
       "      <td>2021-11-16 02:00</td>\n",
       "    </tr>\n",
       "  </tbody>\n",
       "</table>\n",
       "</div>"
      ],
      "text/plain": [
       "        RECORD_TIME\n",
       "0  2021-11-16 02:30\n",
       "1  2021-11-16 02:00"
      ]
     },
     "execution_count": 3,
     "metadata": {},
     "output_type": "execute_result"
    }
   ],
   "source": [
    "timestamps"
   ]
  },
  {
   "cell_type": "code",
   "execution_count": 4,
   "id": "alternate-victory",
   "metadata": {
    "execution": {
     "iopub.execute_input": "2021-11-16T01:30:09.317315Z",
     "iopub.status.busy": "2021-11-16T01:30:09.314686Z",
     "iopub.status.idle": "2021-11-16T01:30:10.515521Z",
     "shell.execute_reply": "2021-11-16T01:30:10.517113Z"
    },
    "papermill": {
     "duration": 1.23683,
     "end_time": "2021-11-16T01:30:10.517603",
     "exception": false,
     "start_time": "2021-11-16T01:30:09.280773",
     "status": "completed"
    },
    "tags": []
   },
   "outputs": [],
   "source": [
    "df = pd.read_sql(\"select * from EBAY_TOP_BERLIN where record_time in (select distinct record_time from EBAY_TOP_BERLIN order by record_time desc limit 2)\", sqlite3.connect(\"UsedObjects.db\"))"
   ]
  },
  {
   "cell_type": "code",
   "execution_count": 5,
   "id": "popular-active",
   "metadata": {
    "execution": {
     "iopub.execute_input": "2021-11-16T01:30:10.595440Z",
     "iopub.status.busy": "2021-11-16T01:30:10.587642Z",
     "iopub.status.idle": "2021-11-16T01:30:10.613310Z",
     "shell.execute_reply": "2021-11-16T01:30:10.614812Z"
    },
    "papermill": {
     "duration": 0.074674,
     "end_time": "2021-11-16T01:30:10.615316",
     "exception": false,
     "start_time": "2021-11-16T01:30:10.540642",
     "status": "completed"
    },
    "tags": []
   },
   "outputs": [],
   "source": [
    "df_pivot = df.pivot_table(index=\"PRODUCT\", columns = \"RECORD_TIME\", values = \"LISTING_COUNT\")"
   ]
  },
  {
   "cell_type": "code",
   "execution_count": 6,
   "id": "union-huntington",
   "metadata": {
    "execution": {
     "iopub.execute_input": "2021-11-16T01:30:10.677619Z",
     "iopub.status.busy": "2021-11-16T01:30:10.675240Z",
     "iopub.status.idle": "2021-11-16T01:30:10.681103Z",
     "shell.execute_reply": "2021-11-16T01:30:10.682479Z"
    },
    "papermill": {
     "duration": 0.046856,
     "end_time": "2021-11-16T01:30:10.682908",
     "exception": false,
     "start_time": "2021-11-16T01:30:10.636052",
     "status": "completed"
    },
    "tags": []
   },
   "outputs": [],
   "source": [
    "df_pivot.columns = [\"stamp_1\", \"stamp_2\"]\n",
    "df_pivot_diff = df_pivot.diff(axis=1)"
   ]
  },
  {
   "cell_type": "code",
   "execution_count": 7,
   "id": "fifth-motion",
   "metadata": {
    "execution": {
     "iopub.execute_input": "2021-11-16T01:30:10.751806Z",
     "iopub.status.busy": "2021-11-16T01:30:10.740867Z",
     "iopub.status.idle": "2021-11-16T01:30:12.656071Z",
     "shell.execute_reply": "2021-11-16T01:30:12.657629Z"
    },
    "papermill": {
     "duration": 1.953273,
     "end_time": "2021-11-16T01:30:12.658099",
     "exception": false,
     "start_time": "2021-11-16T01:30:10.704826",
     "status": "completed"
    },
    "tags": []
   },
   "outputs": [
    {
     "data": {
      "text/plain": [
       "<AxesSubplot:ylabel='PRODUCT'>"
      ]
     },
     "execution_count": 7,
     "metadata": {},
     "output_type": "execute_result"
    },
    {
     "data": {
      "image/png": "[encoded data removed]",
      "text/plain": [
       "<Figure size 432x288 with 1 Axes>"
      ]
     },
     "metadata": {
      "needs_background": "light"
     },
     "output_type": "display_data"
    }
   ],
   "source": [
    "df_pivot_diff.sort_values(\"stamp_2\", ascending = False)[\"stamp_2\"].head(10).plot.barh()"
   ]
  },
  {
   "cell_type": "code",
   "execution_count": null,
   "id": "extra-executive",
   "metadata": {
    "papermill": {
     "duration": 0.023632,
     "end_time": "2021-11-16T01:30:12.706826",
     "exception": false,
     "start_time": "2021-11-16T01:30:12.683194",
     "status": "completed"
    },
    "tags": []
   },
   "outputs": [],
   "source": []
  }
 ],
 "metadata": {
  "kernelspec": {
   "display_name": "Python 3",
   "language": "python",
   "name": "python3"
  },
  "language_info": {
   "codemirror_mode": {
    "name": "ipython",
    "version": 3
   },
   "file_extension": ".py",
   "mimetype": "text/x-python",
   "name": "python",
   "nbconvert_exporter": "python",
   "pygments_lexer": "ipython3",
   "version": "3.9.5"
  },
  "papermill": {
   "default_parameters": {},
   "duration": 9.93746,
   "end_time": "2021-11-16T01:30:14.492285",
   "environment_variables": {},
   "exception": null,
   "input_path": "eBay_Overview.ipynb",
   "output_path": "eBay_Overview.ipynb",
   "parameters": {},
   "start_time": "2021-11-16T01:30:04.554825",
   "version": "2.3.3"
  }
 },
 "nbformat": 4,
 "nbformat_minor": 5
}