{
 "cells": [
  {
   "cell_type": "code",
   "execution_count": 1,
   "id": "reverse-picking",
   "metadata": {
    "execution": {
     "iopub.execute_input": "2021-09-11T13:30:06.873191Z",
     "iopub.status.busy": "2021-09-11T13:30:06.871222Z",
     "iopub.status.idle": "2021-09-11T13:30:07.679772Z",
     "shell.execute_reply": "2021-09-11T13:30:07.681095Z"
    },
    "papermill": {
     "duration": 0.86212,
     "end_time": "2021-09-11T13:30:07.681707",
     "exception": false,
     "start_time": "2021-09-11T13:30:06.819587",
     "status": "completed"
    },
    "tags": []
   },
   "outputs": [],
   "source": [
    "import pandas as pd\n",
    "import sqlite3"
   ]
  },
  {
   "cell_type": "code",
   "execution_count": 2,
   "id": "innovative-syndrome",
   "metadata": {
    "execution": {
     "iopub.execute_input": "2021-09-11T13:30:07.732153Z",
     "iopub.status.busy": "2021-09-11T13:30:07.730129Z",
     "iopub.status.idle": "2021-09-11T13:30:07.988873Z",
     "shell.execute_reply": "2021-09-11T13:30:07.990070Z"
    },
    "papermill": {
     "duration": 0.288072,
     "end_time": "2021-09-11T13:30:07.990459",
     "exception": false,
     "start_time": "2021-09-11T13:30:07.702387",
     "status": "completed"
    },
    "tags": []
   },
   "outputs": [],
   "source": [
    "timestamps = pd.read_sql(\"select distinct record_time from EBAY_TOP_BERLIN order by record_time desc limit 2\", sqlite3.connect(\"UsedObjects.db\"))"
   ]
  },
  {
   "cell_type": "code",
   "execution_count": 3,
   "id": "periodic-identification",
   "metadata": {
    "execution": {
     "iopub.execute_input": "2021-09-11T13:30:08.055131Z",
     "iopub.status.busy": "2021-09-11T13:30:08.052998Z",
     "iopub.status.idle": "2021-09-11T13:30:08.074695Z",
     "shell.execute_reply": "2021-09-11T13:30:08.073189Z"
    },
    "papermill": {
     "duration": 0.063775,
     "end_time": "2021-09-11T13:30:08.075098",
     "exception": false,
     "start_time": "2021-09-11T13:30:08.011323",
     "status": "completed"
    },
    "tags": []
   },
   "outputs": [
    {
     "data": {
      "text/html": [
       "<div>\n",
       "<style scoped>\n",
       "    .dataframe tbody tr th:only-of-type {\n",
       "        vertical-align: middle;\n",
       "    }\n",
       "\n",
       "    .dataframe tbody tr th {\n",
       "        vertical-align: top;\n",
       "    }\n",
       "\n",
       "    .dataframe thead th {\n",
       "        text-align: right;\n",
       "    }\n",
       "</style>\n",
       "<table border=\"1\" class=\"dataframe\">\n",
       "  <thead>\n",
       "    <tr style=\"text-align: right;\">\n",
       "      <th></th>\n",
       "      <th>RECORD_TIME</th>\n",
       "    </tr>\n",
       "  </thead>\n",
       "  <tbody>\n",
       "    <tr>\n",
       "      <th>0</th>\n",
       "      <td>2021-09-11 15:30</td>\n",
       "    </tr>\n",
       "    <tr>\n",
       "      <th>1</th>\n",
       "      <td>2021-09-11 15:00</td>\n",
       "    </tr>\n",
       "  </tbody>\n",
       "</table>\n",
       "</div>"
      ],
      "text/plain": [
       "        RECORD_TIME\n",
       "0  2021-09-11 15:30\n",
       "1  2021-09-11 15:00"
      ]
     },
     "execution_count": 3,
     "metadata": {},
     "output_type": "execute_result"
    }
   ],
   "source": [
    "timestamps"
   ]
  },
  {
   "cell_type": "code",
   "execution_count": 4,
   "id": "alternate-victory",
   "metadata": {
    "execution": {
     "iopub.execute_input": "2021-09-11T13:30:08.126268Z",
     "iopub.status.busy": "2021-09-11T13:30:08.124400Z",
     "iopub.status.idle": "2021-09-11T13:30:08.505501Z",
     "shell.execute_reply": "2021-09-11T13:30:08.506710Z"
    },
    "papermill": {
     "duration": 0.410902,
     "end_time": "2021-09-11T13:30:08.507187",
     "exception": false,
     "start_time": "2021-09-11T13:30:08.096285",
     "status": "completed"
    },
    "tags": []
   },
   "outputs": [],
   "source": [
    "df = pd.read_sql(\"select * from EBAY_TOP_BERLIN where record_time in (select distinct record_time from EBAY_TOP_BERLIN order by record_time desc limit 2)\", sqlite3.connect(\"UsedObjects.db\"))"
   ]
  },
  {
   "cell_type": "code",
   "execution_count": 5,
   "id": "popular-active",
   "metadata": {
    "execution": {
     "iopub.execute_input": "2021-09-11T13:30:08.587458Z",
     "iopub.status.busy": "2021-09-11T13:30:08.575742Z",
     "iopub.status.idle": "2021-09-11T13:30:08.603816Z",
     "shell.execute_reply": "2021-09-11T13:30:08.605216Z"
    },
    "papermill": {
     "duration": 0.072806,
     "end_time": "2021-09-11T13:30:08.605651",
     "exception": false,
     "start_time": "2021-09-11T13:30:08.532845",
     "status": "completed"
    },
    "tags": []
   },
   "outputs": [],
   "source": [
    "df_pivot = df.pivot_table(index=\"PRODUCT\", columns = \"RECORD_TIME\", values = \"LISTING_COUNT\")"
   ]
  },
  {
   "cell_type": "code",
   "execution_count": 6,
   "id": "union-huntington",
   "metadata": {
    "execution": {
     "iopub.execute_input": "2021-09-11T13:30:08.663035Z",
     "iopub.status.busy": "2021-09-11T13:30:08.660535Z",
     "iopub.status.idle": "2021-09-11T13:30:08.666129Z",
     "shell.execute_reply": "2021-09-11T13:30:08.667479Z"
    },
    "papermill": {
     "duration": 0.042153,
     "end_time": "2021-09-11T13:30:08.667900",
     "exception": false,
     "start_time": "2021-09-11T13:30:08.625747",
     "status": "completed"
    },
    "tags": []
   },
   "outputs": [],
   "source": [
    "df_pivot.columns = [\"stamp_1\", \"stamp_2\"]\n",
    "df_pivot_diff = df_pivot.diff(axis=1)"
   ]
  },
  {
   "cell_type": "code",
   "execution_count": 7,
   "id": "fifth-motion",
   "metadata": {
    "execution": {
     "iopub.execute_input": "2021-09-11T13:30:08.722040Z",
     "iopub.status.busy": "2021-09-11T13:30:08.719740Z",
     "iopub.status.idle": "2021-09-11T13:30:10.229180Z",
     "shell.execute_reply": "2021-09-11T13:30:10.227435Z"
    },
    "papermill": {
     "duration": 1.54128,
     "end_time": "2021-09-11T13:30:10.229540",
     "exception": false,
     "start_time": "2021-09-11T13:30:08.688260",
     "status": "completed"
    },
    "tags": []
   },
   "outputs": [
    {
     "data": {
      "text/plain": [
       "<AxesSubplot:ylabel='PRODUCT'>"
      ]
     },
     "execution_count": 7,
     "metadata": {},
     "output_type": "execute_result"
    },
    {
     "data": {
      "image/png": "[encoded data removed]",
      "text/plain": [
       "<Figure size 432x288 with 1 Axes>"
      ]
     },
     "metadata": {
      "needs_background": "light"
     },
     "output_type": "display_data"
    }
   ],
   "source": [
    "df_pivot_diff.sort_values(\"stamp_2\", ascending = False)[\"stamp_2\"].head(10).plot.barh()"
   ]
  },
  {
   "cell_type": "code",
   "execution_count": null,
   "id": "extra-executive",
   "metadata": {
    "papermill": {
     "duration": 0.022004,
     "end_time": "2021-09-11T13:30:10.275763",
     "exception": false,
     "start_time": "2021-09-11T13:30:10.253759",
     "status": "completed"
    },
    "tags": []
   },
   "outputs": [],
   "source": []
  }
 ],
 "metadata": {
  "kernelspec": {
   "display_name": "Python 3",
   "language": "python",
   "name": "python3"
  },
  "language_info": {
   "codemirror_mode": {
    "name": "ipython",
    "version": 3
   },
   "file_extension": ".py",
   "mimetype": "text/x-python",
   "name": "python",
   "nbconvert_exporter": "python",
   "pygments_lexer": "ipython3",
   "version": "3.9.5"
  },
  "papermill": {
   "default_parameters": {},
   "duration": 6.522694,
   "end_time": "2021-09-11T13:30:10.916632",
   "environment_variables": {},
   "exception": null,
   "input_path": "eBay_Overview.ipynb",
   "output_path": "eBay_Overview.ipynb",
   "parameters": {},
   "start_time": "2021-09-11T13:30:04.393938",
   "version": "2.3.3"
  }
 },
 "nbformat": 4,
 "nbformat_minor": 5
}