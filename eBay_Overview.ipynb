{
 "cells": [
  {
   "cell_type": "code",
   "execution_count": 1,
   "id": "reverse-picking",
   "metadata": {
    "execution": {
     "iopub.execute_input": "2021-11-16T05:00:08.243879Z",
     "iopub.status.busy": "2021-11-16T05:00:08.241606Z",
     "iopub.status.idle": "2021-11-16T05:00:09.221876Z",
     "shell.execute_reply": "2021-11-16T05:00:09.223448Z"
    },
    "papermill": {
     "duration": 1.029696,
     "end_time": "2021-11-16T05:00:09.224149",
     "exception": false,
     "start_time": "2021-11-16T05:00:08.194453",
     "status": "completed"
    },
    "tags": []
   },
   "outputs": [],
   "source": [
    "import pandas as pd\n",
    "import sqlite3"
   ]
  },
  {
   "cell_type": "code",
   "execution_count": 2,
   "id": "innovative-syndrome",
   "metadata": {
    "execution": {
     "iopub.execute_input": "2021-11-16T05:00:09.276759Z",
     "iopub.status.busy": "2021-11-16T05:00:09.274604Z",
     "iopub.status.idle": "2021-11-16T05:00:10.124972Z",
     "shell.execute_reply": "2021-11-16T05:00:10.126487Z"
    },
    "papermill": {
     "duration": 0.882574,
     "end_time": "2021-11-16T05:00:10.126969",
     "exception": false,
     "start_time": "2021-11-16T05:00:09.244395",
     "status": "completed"
    },
    "tags": []
   },
   "outputs": [],
   "source": [
    "timestamps = pd.read_sql(\"select distinct record_time from EBAY_TOP_BERLIN order by record_time desc limit 2\", sqlite3.connect(\"UsedObjects.db\"))"
   ]
  },
  {
   "cell_type": "code",
   "execution_count": 3,
   "id": "periodic-identification",
   "metadata": {
    "execution": {
     "iopub.execute_input": "2021-11-16T05:00:10.208873Z",
     "iopub.status.busy": "2021-11-16T05:00:10.202190Z",
     "iopub.status.idle": "2021-11-16T05:00:10.225632Z",
     "shell.execute_reply": "2021-11-16T05:00:10.227082Z"
    },
    "papermill": {
     "duration": 0.074852,
     "end_time": "2021-11-16T05:00:10.227587",
     "exception": false,
     "start_time": "2021-11-16T05:00:10.152735",
     "status": "completed"
    },
    "tags": []
   },
   "outputs": [
    {
     "data": {
      "text/html": [
       "<div>\n",
       "<style scoped>\n",
       "    .dataframe tbody tr th:only-of-type {\n",
       "        vertical-align: middle;\n",
       "    }\n",
       "\n",
       "    .dataframe tbody tr th {\n",
       "        vertical-align: top;\n",
       "    }\n",
       "\n",
       "    .dataframe thead th {\n",
       "        text-align: right;\n",
       "    }\n",
       "</style>\n",
       "<table border=\"1\" class=\"dataframe\">\n",
       "  <thead>\n",
       "    <tr style=\"text-align: right;\">\n",
       "      <th></th>\n",
       "      <th>RECORD_TIME</th>\n",
       "    </tr>\n",
       "  </thead>\n",
       "  <tbody>\n",
       "    <tr>\n",
       "      <th>0</th>\n",
       "      <td>2021-11-16 06:00</td>\n",
       "    </tr>\n",
       "    <tr>\n",
       "      <th>1</th>\n",
       "      <td>2021-11-16 05:30</td>\n",
       "    </tr>\n",
       "  </tbody>\n",
       "</table>\n",
       "</div>"
      ],
      "text/plain": [
       "        RECORD_TIME\n",
       "0  2021-11-16 06:00\n",
       "1  2021-11-16 05:30"
      ]
     },
     "execution_count": 3,
     "metadata": {},
     "output_type": "execute_result"
    }
   ],
   "source": [
    "timestamps"
   ]
  },
  {
   "cell_type": "code",
   "execution_count": 4,
   "id": "alternate-victory",
   "metadata": {
    "execution": {
     "iopub.execute_input": "2021-11-16T05:00:10.283613Z",
     "iopub.status.busy": "2021-11-16T05:00:10.281356Z",
     "iopub.status.idle": "2021-11-16T05:00:11.522325Z",
     "shell.execute_reply": "2021-11-16T05:00:11.523934Z"
    },
    "papermill": {
     "duration": 1.27567,
     "end_time": "2021-11-16T05:00:11.524419",
     "exception": false,
     "start_time": "2021-11-16T05:00:10.248749",
     "status": "completed"
    },
    "tags": []
   },
   "outputs": [],
   "source": [
    "df = pd.read_sql(\"select * from EBAY_TOP_BERLIN where record_time in (select distinct record_time from EBAY_TOP_BERLIN order by record_time desc limit 2)\", sqlite3.connect(\"UsedObjects.db\"))"
   ]
  },
  {
   "cell_type": "code",
   "execution_count": 5,
   "id": "popular-active",
   "metadata": {
    "execution": {
     "iopub.execute_input": "2021-11-16T05:00:11.601518Z",
     "iopub.status.busy": "2021-11-16T05:00:11.588067Z",
     "iopub.status.idle": "2021-11-16T05:00:11.621301Z",
     "shell.execute_reply": "2021-11-16T05:00:11.619611Z"
    },
    "papermill": {
     "duration": 0.07533,
     "end_time": "2021-11-16T05:00:11.621704",
     "exception": false,
     "start_time": "2021-11-16T05:00:11.546374",
     "status": "completed"
    },
    "tags": []
   },
   "outputs": [],
   "source": [
    "df_pivot = df.pivot_table(index=\"PRODUCT\", columns = \"RECORD_TIME\", values = \"LISTING_COUNT\")"
   ]
  },
  {
   "cell_type": "code",
   "execution_count": 6,
   "id": "union-huntington",
   "metadata": {
    "execution": {
     "iopub.execute_input": "2021-11-16T05:00:11.679407Z",
     "iopub.status.busy": "2021-11-16T05:00:11.677206Z",
     "iopub.status.idle": "2021-11-16T05:00:11.682646Z",
     "shell.execute_reply": "2021-11-16T05:00:11.684115Z"
    },
    "papermill": {
     "duration": 0.04306,
     "end_time": "2021-11-16T05:00:11.684581",
     "exception": false,
     "start_time": "2021-11-16T05:00:11.641521",
     "status": "completed"
    },
    "tags": []
   },
   "outputs": [],
   "source": [
    "df_pivot.columns = [\"stamp_1\", \"stamp_2\"]\n",
    "df_pivot_diff = df_pivot.diff(axis=1)"
   ]
  },
  {
   "cell_type": "code",
   "execution_count": 7,
   "id": "fifth-motion",
   "metadata": {
    "execution": {
     "iopub.execute_input": "2021-11-16T05:00:11.746013Z",
     "iopub.status.busy": "2021-11-16T05:00:11.743529Z",
     "iopub.status.idle": "2021-11-16T05:00:13.738902Z",
     "shell.execute_reply": "2021-11-16T05:00:13.740182Z"
    },
    "papermill": {
     "duration": 2.033682,
     "end_time": "2021-11-16T05:00:13.740599",
     "exception": false,
     "start_time": "2021-11-16T05:00:11.706917",
     "status": "completed"
    },
    "tags": []
   },
   "outputs": [
    {
     "data": {
      "text/plain": [
       "<AxesSubplot:ylabel='PRODUCT'>"
      ]
     },
     "execution_count": 7,
     "metadata": {},
     "output_type": "execute_result"
    },
    {
     "data": {
      "image/png": "[encoded data removed]",
      "text/plain": [
       "<Figure size 432x288 with 1 Axes>"
      ]
     },
     "metadata": {
      "needs_background": "light"
     },
     "output_type": "display_data"
    }
   ],
   "source": [
    "df_pivot_diff.sort_values(\"stamp_2\", ascending = False)[\"stamp_2\"].head(10).plot.barh()"
   ]
  },
  {
   "cell_type": "code",
   "execution_count": null,
   "id": "extra-executive",
   "metadata": {
    "papermill": {
     "duration": 0.022267,
     "end_time": "2021-11-16T05:00:13.787624",
     "exception": false,
     "start_time": "2021-11-16T05:00:13.765357",
     "status": "completed"
    },
    "tags": []
   },
   "outputs": [],
   "source": []
  }
 ],
 "metadata": {
  "kernelspec": {
   "display_name": "Python 3",
   "language": "python",
   "name": "python3"
  },
  "language_info": {
   "codemirror_mode": {
    "name": "ipython",
    "version": 3
   },
   "file_extension": ".py",
   "mimetype": "text/x-python",
   "name": "python",
   "nbconvert_exporter": "python",
   "pygments_lexer": "ipython3",
   "version": "3.9.5"
  },
  "papermill": {
   "default_parameters": {},
   "duration": 9.951131,
   "end_time": "2021-11-16T05:00:15.379065",
   "environment_variables": {},
   "exception": null,
   "input_path": "eBay_Overview.ipynb",
   "output_path": "eBay_Overview.ipynb",
   "parameters": {},
   "start_time": "2021-11-16T05:00:05.427934",
   "version": "2.3.3"
  }
 },
 "nbformat": 4,
 "nbformat_minor": 5
}