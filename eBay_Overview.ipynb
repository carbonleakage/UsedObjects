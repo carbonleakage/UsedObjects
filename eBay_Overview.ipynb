{
 "cells": [
  {
   "cell_type": "code",
   "execution_count": 1,
   "id": "reverse-picking",
   "metadata": {
    "execution": {
     "iopub.execute_input": "2021-08-25T05:30:07.752209Z",
     "iopub.status.busy": "2021-08-25T05:30:07.750275Z",
     "iopub.status.idle": "2021-08-25T05:30:08.558156Z",
     "shell.execute_reply": "2021-08-25T05:30:08.559449Z"
    },
    "papermill": {
     "duration": 0.861949,
     "end_time": "2021-08-25T05:30:08.560082",
     "exception": false,
     "start_time": "2021-08-25T05:30:07.698133",
     "status": "completed"
    },
    "tags": []
   },
   "outputs": [],
   "source": [
    "import pandas as pd\n",
    "import sqlite3"
   ]
  },
  {
   "cell_type": "code",
   "execution_count": 2,
   "id": "innovative-syndrome",
   "metadata": {
    "execution": {
     "iopub.execute_input": "2021-08-25T05:30:08.614002Z",
     "iopub.status.busy": "2021-08-25T05:30:08.611653Z",
     "iopub.status.idle": "2021-08-25T05:30:08.738302Z",
     "shell.execute_reply": "2021-08-25T05:30:08.739540Z"
    },
    "papermill": {
     "duration": 0.156741,
     "end_time": "2021-08-25T05:30:08.739939",
     "exception": false,
     "start_time": "2021-08-25T05:30:08.583198",
     "status": "completed"
    },
    "tags": []
   },
   "outputs": [],
   "source": [
    "timestamps = pd.read_sql(\"select distinct record_time from EBAY_TOP_BERLIN order by record_time desc limit 2\", sqlite3.connect(\"UsedObjects.db\"))"
   ]
  },
  {
   "cell_type": "code",
   "execution_count": 3,
   "id": "periodic-identification",
   "metadata": {
    "execution": {
     "iopub.execute_input": "2021-08-25T05:30:08.808483Z",
     "iopub.status.busy": "2021-08-25T05:30:08.806450Z",
     "iopub.status.idle": "2021-08-25T05:30:08.828434Z",
     "shell.execute_reply": "2021-08-25T05:30:08.829740Z"
    },
    "papermill": {
     "duration": 0.067874,
     "end_time": "2021-08-25T05:30:08.830241",
     "exception": false,
     "start_time": "2021-08-25T05:30:08.762367",
     "status": "completed"
    },
    "tags": []
   },
   "outputs": [
    {
     "data": {
      "text/html": [
       "<div>\n",
       "<style scoped>\n",
       "    .dataframe tbody tr th:only-of-type {\n",
       "        vertical-align: middle;\n",
       "    }\n",
       "\n",
       "    .dataframe tbody tr th {\n",
       "        vertical-align: top;\n",
       "    }\n",
       "\n",
       "    .dataframe thead th {\n",
       "        text-align: right;\n",
       "    }\n",
       "</style>\n",
       "<table border=\"1\" class=\"dataframe\">\n",
       "  <thead>\n",
       "    <tr style=\"text-align: right;\">\n",
       "      <th></th>\n",
       "      <th>RECORD_TIME</th>\n",
       "    </tr>\n",
       "  </thead>\n",
       "  <tbody>\n",
       "    <tr>\n",
       "      <th>0</th>\n",
       "      <td>2021-08-25 07:30</td>\n",
       "    </tr>\n",
       "    <tr>\n",
       "      <th>1</th>\n",
       "      <td>2021-08-25 07:00</td>\n",
       "    </tr>\n",
       "  </tbody>\n",
       "</table>\n",
       "</div>"
      ],
      "text/plain": [
       "        RECORD_TIME\n",
       "0  2021-08-25 07:30\n",
       "1  2021-08-25 07:00"
      ]
     },
     "execution_count": 3,
     "metadata": {},
     "output_type": "execute_result"
    }
   ],
   "source": [
    "timestamps"
   ]
  },
  {
   "cell_type": "code",
   "execution_count": 4,
   "id": "alternate-victory",
   "metadata": {
    "execution": {
     "iopub.execute_input": "2021-08-25T05:30:08.880716Z",
     "iopub.status.busy": "2021-08-25T05:30:08.878884Z",
     "iopub.status.idle": "2021-08-25T05:30:09.067939Z",
     "shell.execute_reply": "2021-08-25T05:30:09.069156Z"
    },
    "papermill": {
     "duration": 0.218924,
     "end_time": "2021-08-25T05:30:09.069557",
     "exception": false,
     "start_time": "2021-08-25T05:30:08.850633",
     "status": "completed"
    },
    "tags": []
   },
   "outputs": [],
   "source": [
    "df = pd.read_sql(\"select * from EBAY_TOP_BERLIN where record_time in (select distinct record_time from EBAY_TOP_BERLIN order by record_time desc limit 2)\", sqlite3.connect(\"UsedObjects.db\"))"
   ]
  },
  {
   "cell_type": "code",
   "execution_count": 5,
   "id": "popular-active",
   "metadata": {
    "execution": {
     "iopub.execute_input": "2021-08-25T05:30:09.140641Z",
     "iopub.status.busy": "2021-08-25T05:30:09.133915Z",
     "iopub.status.idle": "2021-08-25T05:30:09.156334Z",
     "shell.execute_reply": "2021-08-25T05:30:09.157642Z"
    },
    "papermill": {
     "duration": 0.068053,
     "end_time": "2021-08-25T05:30:09.158116",
     "exception": false,
     "start_time": "2021-08-25T05:30:09.090063",
     "status": "completed"
    },
    "tags": []
   },
   "outputs": [],
   "source": [
    "df_pivot = df.pivot_table(index=\"PRODUCT\", columns = \"RECORD_TIME\", values = \"LISTING_COUNT\")"
   ]
  },
  {
   "cell_type": "code",
   "execution_count": 6,
   "id": "union-huntington",
   "metadata": {
    "execution": {
     "iopub.execute_input": "2021-08-25T05:30:09.222986Z",
     "iopub.status.busy": "2021-08-25T05:30:09.220863Z",
     "iopub.status.idle": "2021-08-25T05:30:09.226323Z",
     "shell.execute_reply": "2021-08-25T05:30:09.227616Z"
    },
    "papermill": {
     "duration": 0.044828,
     "end_time": "2021-08-25T05:30:09.228041",
     "exception": false,
     "start_time": "2021-08-25T05:30:09.183213",
     "status": "completed"
    },
    "tags": []
   },
   "outputs": [],
   "source": [
    "df_pivot.columns = [\"stamp_1\", \"stamp_2\"]\n",
    "df_pivot_diff = df_pivot.diff(axis=1)"
   ]
  },
  {
   "cell_type": "code",
   "execution_count": 7,
   "id": "fifth-motion",
   "metadata": {
    "execution": {
     "iopub.execute_input": "2021-08-25T05:30:09.283349Z",
     "iopub.status.busy": "2021-08-25T05:30:09.280769Z",
     "iopub.status.idle": "2021-08-25T05:30:10.788671Z",
     "shell.execute_reply": "2021-08-25T05:30:10.790171Z"
    },
    "papermill": {
     "duration": 1.541222,
     "end_time": "2021-08-25T05:30:10.790652",
     "exception": false,
     "start_time": "2021-08-25T05:30:09.249430",
     "status": "completed"
    },
    "tags": []
   },
   "outputs": [
    {
     "data": {
      "text/plain": [
       "<AxesSubplot:ylabel='PRODUCT'>"
      ]
     },
     "execution_count": 7,
     "metadata": {},
     "output_type": "execute_result"
    },
    {
     "data": {
      "image/png": "[encoded data removed]",
      "text/plain": [
       "<Figure size 432x288 with 1 Axes>"
      ]
     },
     "metadata": {
      "needs_background": "light"
     },
     "output_type": "display_data"
    }
   ],
   "source": [
    "df_pivot_diff.sort_values(\"stamp_2\", ascending = False)[\"stamp_2\"].head(10).plot.barh()"
   ]
  },
  {
   "cell_type": "code",
   "execution_count": null,
   "id": "extra-executive",
   "metadata": {
    "papermill": {
     "duration": 0.022138,
     "end_time": "2021-08-25T05:30:10.839500",
     "exception": false,
     "start_time": "2021-08-25T05:30:10.817362",
     "status": "completed"
    },
    "tags": []
   },
   "outputs": [],
   "source": []
  }
 ],
 "metadata": {
  "kernelspec": {
   "display_name": "Python 3",
   "language": "python",
   "name": "python3"
  },
  "language_info": {
   "codemirror_mode": {
    "name": "ipython",
    "version": 3
   },
   "file_extension": ".py",
   "mimetype": "text/x-python",
   "name": "python",
   "nbconvert_exporter": "python",
   "pygments_lexer": "ipython3",
   "version": "3.9.5"
  },
  "papermill": {
   "default_parameters": {},
   "duration": 6.831198,
   "end_time": "2021-08-25T05:30:12.112966",
   "environment_variables": {},
   "exception": null,
   "input_path": "eBay_Overview.ipynb",
   "output_path": "eBay_Overview.ipynb",
   "parameters": {},
   "start_time": "2021-08-25T05:30:05.281768",
   "version": "2.3.3"
  }
 },
 "nbformat": 4,
 "nbformat_minor": 5
}