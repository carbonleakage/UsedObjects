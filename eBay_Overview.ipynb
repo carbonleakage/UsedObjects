{
 "cells": [
  {
   "cell_type": "code",
   "execution_count": 1,
   "id": "reverse-picking",
   "metadata": {
    "execution": {
     "iopub.execute_input": "2021-12-05T14:00:07.500545Z",
     "iopub.status.busy": "2021-12-05T14:00:07.498069Z",
     "iopub.status.idle": "2021-12-05T14:00:08.455846Z",
     "shell.execute_reply": "2021-12-05T14:00:08.457469Z"
    },
    "papermill": {
     "duration": 1.008493,
     "end_time": "2021-12-05T14:00:08.458198",
     "exception": false,
     "start_time": "2021-12-05T14:00:07.449705",
     "status": "completed"
    },
    "tags": []
   },
   "outputs": [],
   "source": [
    "import pandas as pd\n",
    "import sqlite3"
   ]
  },
  {
   "cell_type": "code",
   "execution_count": 2,
   "id": "innovative-syndrome",
   "metadata": {
    "execution": {
     "iopub.execute_input": "2021-12-05T14:00:08.576943Z",
     "iopub.status.busy": "2021-12-05T14:00:08.574660Z",
     "iopub.status.idle": "2021-12-05T14:00:09.585504Z",
     "shell.execute_reply": "2021-12-05T14:00:09.587450Z"
    },
    "papermill": {
     "duration": 1.04528,
     "end_time": "2021-12-05T14:00:09.587930",
     "exception": false,
     "start_time": "2021-12-05T14:00:08.542650",
     "status": "completed"
    },
    "tags": []
   },
   "outputs": [],
   "source": [
    "timestamps = pd.read_sql(\"select distinct record_time from EBAY_TOP_BERLIN order by record_time desc limit 2\", sqlite3.connect(\"UsedObjects.db\"))"
   ]
  },
  {
   "cell_type": "code",
   "execution_count": 3,
   "id": "periodic-identification",
   "metadata": {
    "execution": {
     "iopub.execute_input": "2021-12-05T14:00:09.659919Z",
     "iopub.status.busy": "2021-12-05T14:00:09.654644Z",
     "iopub.status.idle": "2021-12-05T14:00:09.674751Z",
     "shell.execute_reply": "2021-12-05T14:00:09.675970Z"
    },
    "papermill": {
     "duration": 0.066936,
     "end_time": "2021-12-05T14:00:09.676364",
     "exception": false,
     "start_time": "2021-12-05T14:00:09.609428",
     "status": "completed"
    },
    "tags": []
   },
   "outputs": [
    {
     "data": {
      "text/html": [
       "<div>\n",
       "<style scoped>\n",
       "    .dataframe tbody tr th:only-of-type {\n",
       "        vertical-align: middle;\n",
       "    }\n",
       "\n",
       "    .dataframe tbody tr th {\n",
       "        vertical-align: top;\n",
       "    }\n",
       "\n",
       "    .dataframe thead th {\n",
       "        text-align: right;\n",
       "    }\n",
       "</style>\n",
       "<table border=\"1\" class=\"dataframe\">\n",
       "  <thead>\n",
       "    <tr style=\"text-align: right;\">\n",
       "      <th></th>\n",
       "      <th>RECORD_TIME</th>\n",
       "    </tr>\n",
       "  </thead>\n",
       "  <tbody>\n",
       "    <tr>\n",
       "      <th>0</th>\n",
       "      <td>2021-12-05 15:00</td>\n",
       "    </tr>\n",
       "    <tr>\n",
       "      <th>1</th>\n",
       "      <td>2021-12-05 14:30</td>\n",
       "    </tr>\n",
       "  </tbody>\n",
       "</table>\n",
       "</div>"
      ],
      "text/plain": [
       "        RECORD_TIME\n",
       "0  2021-12-05 15:00\n",
       "1  2021-12-05 14:30"
      ]
     },
     "execution_count": 3,
     "metadata": {},
     "output_type": "execute_result"
    }
   ],
   "source": [
    "timestamps"
   ]
  },
  {
   "cell_type": "code",
   "execution_count": 4,
   "id": "alternate-victory",
   "metadata": {
    "execution": {
     "iopub.execute_input": "2021-12-05T14:00:09.728405Z",
     "iopub.status.busy": "2021-12-05T14:00:09.726118Z",
     "iopub.status.idle": "2021-12-05T14:00:11.203747Z",
     "shell.execute_reply": "2021-12-05T14:00:11.205275Z"
    },
    "papermill": {
     "duration": 1.508409,
     "end_time": "2021-12-05T14:00:11.205787",
     "exception": false,
     "start_time": "2021-12-05T14:00:09.697378",
     "status": "completed"
    },
    "tags": []
   },
   "outputs": [],
   "source": [
    "df = pd.read_sql(\"select * from EBAY_TOP_BERLIN where record_time in (select distinct record_time from EBAY_TOP_BERLIN order by record_time desc limit 2)\", sqlite3.connect(\"UsedObjects.db\"))"
   ]
  },
  {
   "cell_type": "code",
   "execution_count": 5,
   "id": "popular-active",
   "metadata": {
    "execution": {
     "iopub.execute_input": "2021-12-05T14:00:11.291467Z",
     "iopub.status.busy": "2021-12-05T14:00:11.277320Z",
     "iopub.status.idle": "2021-12-05T14:00:11.312242Z",
     "shell.execute_reply": "2021-12-05T14:00:11.313712Z"
    },
    "papermill": {
     "duration": 0.082482,
     "end_time": "2021-12-05T14:00:11.314199",
     "exception": false,
     "start_time": "2021-12-05T14:00:11.231717",
     "status": "completed"
    },
    "tags": []
   },
   "outputs": [],
   "source": [
    "df_pivot = df.pivot_table(index=\"PRODUCT\", columns = \"RECORD_TIME\", values = \"LISTING_COUNT\")"
   ]
  },
  {
   "cell_type": "code",
   "execution_count": 6,
   "id": "union-huntington",
   "metadata": {
    "execution": {
     "iopub.execute_input": "2021-12-05T14:00:11.373165Z",
     "iopub.status.busy": "2021-12-05T14:00:11.370860Z",
     "iopub.status.idle": "2021-12-05T14:00:11.376594Z",
     "shell.execute_reply": "2021-12-05T14:00:11.378187Z"
    },
    "papermill": {
     "duration": 0.044014,
     "end_time": "2021-12-05T14:00:11.378664",
     "exception": false,
     "start_time": "2021-12-05T14:00:11.334650",
     "status": "completed"
    },
    "tags": []
   },
   "outputs": [],
   "source": [
    "df_pivot.columns = [\"stamp_1\", \"stamp_2\"]\n",
    "df_pivot_diff = df_pivot.diff(axis=1)"
   ]
  },
  {
   "cell_type": "code",
   "execution_count": 7,
   "id": "fifth-motion",
   "metadata": {
    "execution": {
     "iopub.execute_input": "2021-12-05T14:00:11.438193Z",
     "iopub.status.busy": "2021-12-05T14:00:11.435021Z",
     "iopub.status.idle": "2021-12-05T14:00:13.511505Z",
     "shell.execute_reply": "2021-12-05T14:00:13.513181Z"
    },
    "papermill": {
     "duration": 2.11496,
     "end_time": "2021-12-05T14:00:13.513717",
     "exception": false,
     "start_time": "2021-12-05T14:00:11.398757",
     "status": "completed"
    },
    "tags": []
   },
   "outputs": [
    {
     "data": {
      "text/plain": [
       "<AxesSubplot:ylabel='PRODUCT'>"
      ]
     },
     "execution_count": 7,
     "metadata": {},
     "output_type": "execute_result"
    },
    {
     "data": {
      "image/png": "[encoded data removed]",
      "text/plain": [
       "<Figure size 432x288 with 1 Axes>"
      ]
     },
     "metadata": {
      "needs_background": "light"
     },
     "output_type": "display_data"
    }
   ],
   "source": [
    "df_pivot_diff.sort_values(\"stamp_2\", ascending = False)[\"stamp_2\"].head(10).plot.barh()"
   ]
  },
  {
   "cell_type": "code",
   "execution_count": null,
   "id": "extra-executive",
   "metadata": {
    "papermill": {
     "duration": 0.025447,
     "end_time": "2021-12-05T14:00:13.565209",
     "exception": false,
     "start_time": "2021-12-05T14:00:13.539762",
     "status": "completed"
    },
    "tags": []
   },
   "outputs": [],
   "source": []
  }
 ],
 "metadata": {
  "kernelspec": {
   "display_name": "Python 3",
   "language": "python",
   "name": "python3"
  },
  "language_info": {
   "codemirror_mode": {
    "name": "ipython",
    "version": 3
   },
   "file_extension": ".py",
   "mimetype": "text/x-python",
   "name": "python",
   "nbconvert_exporter": "python",
   "pygments_lexer": "ipython3",
   "version": "3.9.5"
  },
  "papermill": {
   "default_parameters": {},
   "duration": 9.497132,
   "end_time": "2021-12-05T14:00:14.209879",
   "environment_variables": {},
   "exception": null,
   "input_path": "eBay_Overview.ipynb",
   "output_path": "eBay_Overview.ipynb",
   "parameters": {},
   "start_time": "2021-12-05T14:00:04.712747",
   "version": "2.3.3"
  }
 },
 "nbformat": 4,
 "nbformat_minor": 5
}