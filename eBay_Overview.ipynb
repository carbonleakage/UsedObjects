{
 "cells": [
  {
   "cell_type": "code",
   "execution_count": 1,
   "id": "reverse-picking",
   "metadata": {
    "execution": {
     "iopub.execute_input": "2021-11-18T09:00:07.711951Z",
     "iopub.status.busy": "2021-11-18T09:00:07.702375Z",
     "iopub.status.idle": "2021-11-18T09:00:08.645371Z",
     "shell.execute_reply": "2021-11-18T09:00:08.647067Z"
    },
    "papermill": {
     "duration": 0.992198,
     "end_time": "2021-11-18T09:00:08.647820",
     "exception": false,
     "start_time": "2021-11-18T09:00:07.655622",
     "status": "completed"
    },
    "tags": []
   },
   "outputs": [],
   "source": [
    "import pandas as pd\n",
    "import sqlite3"
   ]
  },
  {
   "cell_type": "code",
   "execution_count": 2,
   "id": "innovative-syndrome",
   "metadata": {
    "execution": {
     "iopub.execute_input": "2021-11-18T09:00:08.714117Z",
     "iopub.status.busy": "2021-11-18T09:00:08.711791Z",
     "iopub.status.idle": "2021-11-18T09:00:09.559550Z",
     "shell.execute_reply": "2021-11-18T09:00:09.557867Z"
    },
    "papermill": {
     "duration": 0.890214,
     "end_time": "2021-11-18T09:00:09.559960",
     "exception": false,
     "start_time": "2021-11-18T09:00:08.669746",
     "status": "completed"
    },
    "tags": []
   },
   "outputs": [],
   "source": [
    "timestamps = pd.read_sql(\"select distinct record_time from EBAY_TOP_BERLIN order by record_time desc limit 2\", sqlite3.connect(\"UsedObjects.db\"))"
   ]
  },
  {
   "cell_type": "code",
   "execution_count": 3,
   "id": "periodic-identification",
   "metadata": {
    "execution": {
     "iopub.execute_input": "2021-11-18T09:00:09.641205Z",
     "iopub.status.busy": "2021-11-18T09:00:09.637222Z",
     "iopub.status.idle": "2021-11-18T09:00:09.670673Z",
     "shell.execute_reply": "2021-11-18T09:00:09.672228Z"
    },
    "papermill": {
     "duration": 0.09234,
     "end_time": "2021-11-18T09:00:09.672778",
     "exception": false,
     "start_time": "2021-11-18T09:00:09.580438",
     "status": "completed"
    },
    "tags": []
   },
   "outputs": [
    {
     "data": {
      "text/html": [
       "<div>\n",
       "<style scoped>\n",
       "    .dataframe tbody tr th:only-of-type {\n",
       "        vertical-align: middle;\n",
       "    }\n",
       "\n",
       "    .dataframe tbody tr th {\n",
       "        vertical-align: top;\n",
       "    }\n",
       "\n",
       "    .dataframe thead th {\n",
       "        text-align: right;\n",
       "    }\n",
       "</style>\n",
       "<table border=\"1\" class=\"dataframe\">\n",
       "  <thead>\n",
       "    <tr style=\"text-align: right;\">\n",
       "      <th></th>\n",
       "      <th>RECORD_TIME</th>\n",
       "    </tr>\n",
       "  </thead>\n",
       "  <tbody>\n",
       "    <tr>\n",
       "      <th>0</th>\n",
       "      <td>2021-11-18 10:00</td>\n",
       "    </tr>\n",
       "    <tr>\n",
       "      <th>1</th>\n",
       "      <td>2021-11-18 09:30</td>\n",
       "    </tr>\n",
       "  </tbody>\n",
       "</table>\n",
       "</div>"
      ],
      "text/plain": [
       "        RECORD_TIME\n",
       "0  2021-11-18 10:00\n",
       "1  2021-11-18 09:30"
      ]
     },
     "execution_count": 3,
     "metadata": {},
     "output_type": "execute_result"
    }
   ],
   "source": [
    "timestamps"
   ]
  },
  {
   "cell_type": "code",
   "execution_count": 4,
   "id": "alternate-victory",
   "metadata": {
    "execution": {
     "iopub.execute_input": "2021-11-18T09:00:09.728987Z",
     "iopub.status.busy": "2021-11-18T09:00:09.726607Z",
     "iopub.status.idle": "2021-11-18T09:00:10.962304Z",
     "shell.execute_reply": "2021-11-18T09:00:10.960606Z"
    },
    "papermill": {
     "duration": 1.267868,
     "end_time": "2021-11-18T09:00:10.962711",
     "exception": false,
     "start_time": "2021-11-18T09:00:09.694843",
     "status": "completed"
    },
    "tags": []
   },
   "outputs": [],
   "source": [
    "df = pd.read_sql(\"select * from EBAY_TOP_BERLIN where record_time in (select distinct record_time from EBAY_TOP_BERLIN order by record_time desc limit 2)\", sqlite3.connect(\"UsedObjects.db\"))"
   ]
  },
  {
   "cell_type": "code",
   "execution_count": 5,
   "id": "popular-active",
   "metadata": {
    "execution": {
     "iopub.execute_input": "2021-11-18T09:00:11.039310Z",
     "iopub.status.busy": "2021-11-18T09:00:11.026124Z",
     "iopub.status.idle": "2021-11-18T09:00:11.059795Z",
     "shell.execute_reply": "2021-11-18T09:00:11.061428Z"
    },
    "papermill": {
     "duration": 0.077718,
     "end_time": "2021-11-18T09:00:11.061941",
     "exception": false,
     "start_time": "2021-11-18T09:00:10.984223",
     "status": "completed"
    },
    "tags": []
   },
   "outputs": [],
   "source": [
    "df_pivot = df.pivot_table(index=\"PRODUCT\", columns = \"RECORD_TIME\", values = \"LISTING_COUNT\")"
   ]
  },
  {
   "cell_type": "code",
   "execution_count": 6,
   "id": "union-huntington",
   "metadata": {
    "execution": {
     "iopub.execute_input": "2021-11-18T09:00:11.125049Z",
     "iopub.status.busy": "2021-11-18T09:00:11.122721Z",
     "iopub.status.idle": "2021-11-18T09:00:11.128277Z",
     "shell.execute_reply": "2021-11-18T09:00:11.129985Z"
    },
    "papermill": {
     "duration": 0.046911,
     "end_time": "2021-11-18T09:00:11.130464",
     "exception": false,
     "start_time": "2021-11-18T09:00:11.083553",
     "status": "completed"
    },
    "tags": []
   },
   "outputs": [],
   "source": [
    "df_pivot.columns = [\"stamp_1\", \"stamp_2\"]\n",
    "df_pivot_diff = df_pivot.diff(axis=1)"
   ]
  },
  {
   "cell_type": "code",
   "execution_count": 7,
   "id": "fifth-motion",
   "metadata": {
    "execution": {
     "iopub.execute_input": "2021-11-18T09:00:11.190463Z",
     "iopub.status.busy": "2021-11-18T09:00:11.187796Z",
     "iopub.status.idle": "2021-11-18T09:00:12.957695Z",
     "shell.execute_reply": "2021-11-18T09:00:12.959180Z"
    },
    "papermill": {
     "duration": 1.807969,
     "end_time": "2021-11-18T09:00:12.959671",
     "exception": false,
     "start_time": "2021-11-18T09:00:11.151702",
     "status": "completed"
    },
    "tags": []
   },
   "outputs": [
    {
     "data": {
      "text/plain": [
       "<AxesSubplot:ylabel='PRODUCT'>"
      ]
     },
     "execution_count": 7,
     "metadata": {},
     "output_type": "execute_result"
    },
    {
     "data": {
      "image/png": "[encoded data removed]",
      "text/plain": [
       "<Figure size 432x288 with 1 Axes>"
      ]
     },
     "metadata": {
      "needs_background": "light"
     },
     "output_type": "display_data"
    }
   ],
   "source": [
    "df_pivot_diff.sort_values(\"stamp_2\", ascending = False)[\"stamp_2\"].head(10).plot.barh()"
   ]
  },
  {
   "cell_type": "code",
   "execution_count": null,
   "id": "extra-executive",
   "metadata": {
    "papermill": {
     "duration": 0.023866,
     "end_time": "2021-11-18T09:00:13.009049",
     "exception": false,
     "start_time": "2021-11-18T09:00:12.985183",
     "status": "completed"
    },
    "tags": []
   },
   "outputs": [],
   "source": []
  }
 ],
 "metadata": {
  "kernelspec": {
   "display_name": "Python 3",
   "language": "python",
   "name": "python3"
  },
  "language_info": {
   "codemirror_mode": {
    "name": "ipython",
    "version": 3
   },
   "file_extension": ".py",
   "mimetype": "text/x-python",
   "name": "python",
   "nbconvert_exporter": "python",
   "pygments_lexer": "ipython3",
   "version": "3.9.5"
  },
  "papermill": {
   "default_parameters": {},
   "duration": 10.003791,
   "end_time": "2021-11-18T09:00:14.860059",
   "environment_variables": {},
   "exception": null,
   "input_path": "eBay_Overview.ipynb",
   "output_path": "eBay_Overview.ipynb",
   "parameters": {},
   "start_time": "2021-11-18T09:00:04.856268",
   "version": "2.3.3"
  }
 },
 "nbformat": 4,
 "nbformat_minor": 5
}