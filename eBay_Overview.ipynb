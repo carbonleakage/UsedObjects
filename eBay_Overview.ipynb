{
 "cells": [
  {
   "cell_type": "code",
   "execution_count": 1,
   "id": "reverse-picking",
   "metadata": {
    "execution": {
     "iopub.execute_input": "2021-10-07T16:00:06.701356Z",
     "iopub.status.busy": "2021-10-07T16:00:06.699439Z",
     "iopub.status.idle": "2021-10-07T16:00:07.512765Z",
     "shell.execute_reply": "2021-10-07T16:00:07.514160Z"
    },
    "papermill": {
     "duration": 0.867656,
     "end_time": "2021-10-07T16:00:07.514888",
     "exception": false,
     "start_time": "2021-10-07T16:00:06.647232",
     "status": "completed"
    },
    "tags": []
   },
   "outputs": [],
   "source": [
    "import pandas as pd\n",
    "import sqlite3"
   ]
  },
  {
   "cell_type": "code",
   "execution_count": 2,
   "id": "innovative-syndrome",
   "metadata": {
    "execution": {
     "iopub.execute_input": "2021-10-07T16:00:07.565298Z",
     "iopub.status.busy": "2021-10-07T16:00:07.563085Z",
     "iopub.status.idle": "2021-10-07T16:00:08.044900Z",
     "shell.execute_reply": "2021-10-07T16:00:08.046029Z"
    },
    "papermill": {
     "duration": 0.51143,
     "end_time": "2021-10-07T16:00:08.046440",
     "exception": false,
     "start_time": "2021-10-07T16:00:07.535010",
     "status": "completed"
    },
    "tags": []
   },
   "outputs": [],
   "source": [
    "timestamps = pd.read_sql(\"select distinct record_time from EBAY_TOP_BERLIN order by record_time desc limit 2\", sqlite3.connect(\"UsedObjects.db\"))"
   ]
  },
  {
   "cell_type": "code",
   "execution_count": 3,
   "id": "periodic-identification",
   "metadata": {
    "execution": {
     "iopub.execute_input": "2021-10-07T16:00:08.110488Z",
     "iopub.status.busy": "2021-10-07T16:00:08.108460Z",
     "iopub.status.idle": "2021-10-07T16:00:08.130226Z",
     "shell.execute_reply": "2021-10-07T16:00:08.128829Z"
    },
    "papermill": {
     "duration": 0.063855,
     "end_time": "2021-10-07T16:00:08.130582",
     "exception": false,
     "start_time": "2021-10-07T16:00:08.066727",
     "status": "completed"
    },
    "tags": []
   },
   "outputs": [
    {
     "data": {
      "text/html": [
       "<div>\n",
       "<style scoped>\n",
       "    .dataframe tbody tr th:only-of-type {\n",
       "        vertical-align: middle;\n",
       "    }\n",
       "\n",
       "    .dataframe tbody tr th {\n",
       "        vertical-align: top;\n",
       "    }\n",
       "\n",
       "    .dataframe thead th {\n",
       "        text-align: right;\n",
       "    }\n",
       "</style>\n",
       "<table border=\"1\" class=\"dataframe\">\n",
       "  <thead>\n",
       "    <tr style=\"text-align: right;\">\n",
       "      <th></th>\n",
       "      <th>RECORD_TIME</th>\n",
       "    </tr>\n",
       "  </thead>\n",
       "  <tbody>\n",
       "    <tr>\n",
       "      <th>0</th>\n",
       "      <td>2021-10-07 18:00</td>\n",
       "    </tr>\n",
       "    <tr>\n",
       "      <th>1</th>\n",
       "      <td>2021-10-07 17:30</td>\n",
       "    </tr>\n",
       "  </tbody>\n",
       "</table>\n",
       "</div>"
      ],
      "text/plain": [
       "        RECORD_TIME\n",
       "0  2021-10-07 18:00\n",
       "1  2021-10-07 17:30"
      ]
     },
     "execution_count": 3,
     "metadata": {},
     "output_type": "execute_result"
    }
   ],
   "source": [
    "timestamps"
   ]
  },
  {
   "cell_type": "code",
   "execution_count": 4,
   "id": "alternate-victory",
   "metadata": {
    "execution": {
     "iopub.execute_input": "2021-10-07T16:00:08.191045Z",
     "iopub.status.busy": "2021-10-07T16:00:08.189012Z",
     "iopub.status.idle": "2021-10-07T16:00:08.886025Z",
     "shell.execute_reply": "2021-10-07T16:00:08.887295Z"
    },
    "papermill": {
     "duration": 0.731691,
     "end_time": "2021-10-07T16:00:08.887698",
     "exception": false,
     "start_time": "2021-10-07T16:00:08.156007",
     "status": "completed"
    },
    "tags": []
   },
   "outputs": [],
   "source": [
    "df = pd.read_sql(\"select * from EBAY_TOP_BERLIN where record_time in (select distinct record_time from EBAY_TOP_BERLIN order by record_time desc limit 2)\", sqlite3.connect(\"UsedObjects.db\"))"
   ]
  },
  {
   "cell_type": "code",
   "execution_count": 5,
   "id": "popular-active",
   "metadata": {
    "execution": {
     "iopub.execute_input": "2021-10-07T16:00:08.958267Z",
     "iopub.status.busy": "2021-10-07T16:00:08.945640Z",
     "iopub.status.idle": "2021-10-07T16:00:08.975228Z",
     "shell.execute_reply": "2021-10-07T16:00:08.976525Z"
    },
    "papermill": {
     "duration": 0.068661,
     "end_time": "2021-10-07T16:00:08.976934",
     "exception": false,
     "start_time": "2021-10-07T16:00:08.908273",
     "status": "completed"
    },
    "tags": []
   },
   "outputs": [],
   "source": [
    "df_pivot = df.pivot_table(index=\"PRODUCT\", columns = \"RECORD_TIME\", values = \"LISTING_COUNT\")"
   ]
  },
  {
   "cell_type": "code",
   "execution_count": 6,
   "id": "union-huntington",
   "metadata": {
    "execution": {
     "iopub.execute_input": "2021-10-07T16:00:09.032544Z",
     "iopub.status.busy": "2021-10-07T16:00:09.030405Z",
     "iopub.status.idle": "2021-10-07T16:00:09.037044Z",
     "shell.execute_reply": "2021-10-07T16:00:09.035660Z"
    },
    "papermill": {
     "duration": 0.040316,
     "end_time": "2021-10-07T16:00:09.037402",
     "exception": false,
     "start_time": "2021-10-07T16:00:08.997086",
     "status": "completed"
    },
    "tags": []
   },
   "outputs": [],
   "source": [
    "df_pivot.columns = [\"stamp_1\", \"stamp_2\"]\n",
    "df_pivot_diff = df_pivot.diff(axis=1)"
   ]
  },
  {
   "cell_type": "code",
   "execution_count": 7,
   "id": "fifth-motion",
   "metadata": {
    "execution": {
     "iopub.execute_input": "2021-10-07T16:00:09.093389Z",
     "iopub.status.busy": "2021-10-07T16:00:09.090591Z",
     "iopub.status.idle": "2021-10-07T16:00:10.566060Z",
     "shell.execute_reply": "2021-10-07T16:00:10.567313Z"
    },
    "papermill": {
     "duration": 1.510055,
     "end_time": "2021-10-07T16:00:10.567755",
     "exception": false,
     "start_time": "2021-10-07T16:00:09.057700",
     "status": "completed"
    },
    "tags": []
   },
   "outputs": [
    {
     "data": {
      "text/plain": [
       "<AxesSubplot:ylabel='PRODUCT'>"
      ]
     },
     "execution_count": 7,
     "metadata": {},
     "output_type": "execute_result"
    },
    {
     "data": {
      "image/png": "[encoded data removed]",
      "text/plain": [
       "<Figure size 432x288 with 1 Axes>"
      ]
     },
     "metadata": {
      "needs_background": "light"
     },
     "output_type": "display_data"
    }
   ],
   "source": [
    "df_pivot_diff.sort_values(\"stamp_2\", ascending = False)[\"stamp_2\"].head(10).plot.barh()"
   ]
  },
  {
   "cell_type": "code",
   "execution_count": null,
   "id": "extra-executive",
   "metadata": {
    "papermill": {
     "duration": 0.021988,
     "end_time": "2021-10-07T16:00:10.613572",
     "exception": false,
     "start_time": "2021-10-07T16:00:10.591584",
     "status": "completed"
    },
    "tags": []
   },
   "outputs": [],
   "source": []
  }
 ],
 "metadata": {
  "kernelspec": {
   "display_name": "Python 3",
   "language": "python",
   "name": "python3"
  },
  "language_info": {
   "codemirror_mode": {
    "name": "ipython",
    "version": 3
   },
   "file_extension": ".py",
   "mimetype": "text/x-python",
   "name": "python",
   "nbconvert_exporter": "python",
   "pygments_lexer": "ipython3",
   "version": "3.9.5"
  },
  "papermill": {
   "default_parameters": {},
   "duration": 7.851989,
   "end_time": "2021-10-07T16:00:12.076189",
   "environment_variables": {},
   "exception": null,
   "input_path": "eBay_Overview.ipynb",
   "output_path": "eBay_Overview.ipynb",
   "parameters": {},
   "start_time": "2021-10-07T16:00:04.224200",
   "version": "2.3.3"
  }
 },
 "nbformat": 4,
 "nbformat_minor": 5
}