{
 "cells": [
  {
   "cell_type": "code",
   "execution_count": 1,
   "id": "reverse-picking",
   "metadata": {
    "execution": {
     "iopub.execute_input": "2021-09-05T11:00:08.027346Z",
     "iopub.status.busy": "2021-09-05T11:00:08.025301Z",
     "iopub.status.idle": "2021-09-05T11:00:08.829026Z",
     "shell.execute_reply": "2021-09-05T11:00:08.827433Z"
    },
    "papermill": {
     "duration": 0.852722,
     "end_time": "2021-09-05T11:00:08.829419",
     "exception": false,
     "start_time": "2021-09-05T11:00:07.976697",
     "status": "completed"
    },
    "tags": []
   },
   "outputs": [],
   "source": [
    "import pandas as pd\n",
    "import sqlite3"
   ]
  },
  {
   "cell_type": "code",
   "execution_count": 2,
   "id": "innovative-syndrome",
   "metadata": {
    "execution": {
     "iopub.execute_input": "2021-09-05T11:00:08.879913Z",
     "iopub.status.busy": "2021-09-05T11:00:08.877981Z",
     "iopub.status.idle": "2021-09-05T11:00:09.091803Z",
     "shell.execute_reply": "2021-09-05T11:00:09.092997Z"
    },
    "papermill": {
     "duration": 0.2432,
     "end_time": "2021-09-05T11:00:09.093392",
     "exception": false,
     "start_time": "2021-09-05T11:00:08.850192",
     "status": "completed"
    },
    "tags": []
   },
   "outputs": [],
   "source": [
    "timestamps = pd.read_sql(\"select distinct record_time from EBAY_TOP_BERLIN order by record_time desc limit 2\", sqlite3.connect(\"UsedObjects.db\"))"
   ]
  },
  {
   "cell_type": "code",
   "execution_count": 3,
   "id": "periodic-identification",
   "metadata": {
    "execution": {
     "iopub.execute_input": "2021-09-05T11:00:09.164426Z",
     "iopub.status.busy": "2021-09-05T11:00:09.159657Z",
     "iopub.status.idle": "2021-09-05T11:00:09.181467Z",
     "shell.execute_reply": "2021-09-05T11:00:09.182744Z"
    },
    "papermill": {
     "duration": 0.067487,
     "end_time": "2021-09-05T11:00:09.183227",
     "exception": false,
     "start_time": "2021-09-05T11:00:09.115740",
     "status": "completed"
    },
    "tags": []
   },
   "outputs": [
    {
     "data": {
      "text/html": [
       "<div>\n",
       "<style scoped>\n",
       "    .dataframe tbody tr th:only-of-type {\n",
       "        vertical-align: middle;\n",
       "    }\n",
       "\n",
       "    .dataframe tbody tr th {\n",
       "        vertical-align: top;\n",
       "    }\n",
       "\n",
       "    .dataframe thead th {\n",
       "        text-align: right;\n",
       "    }\n",
       "</style>\n",
       "<table border=\"1\" class=\"dataframe\">\n",
       "  <thead>\n",
       "    <tr style=\"text-align: right;\">\n",
       "      <th></th>\n",
       "      <th>RECORD_TIME</th>\n",
       "    </tr>\n",
       "  </thead>\n",
       "  <tbody>\n",
       "    <tr>\n",
       "      <th>0</th>\n",
       "      <td>2021-09-05 13:00</td>\n",
       "    </tr>\n",
       "    <tr>\n",
       "      <th>1</th>\n",
       "      <td>2021-09-05 12:30</td>\n",
       "    </tr>\n",
       "  </tbody>\n",
       "</table>\n",
       "</div>"
      ],
      "text/plain": [
       "        RECORD_TIME\n",
       "0  2021-09-05 13:00\n",
       "1  2021-09-05 12:30"
      ]
     },
     "execution_count": 3,
     "metadata": {},
     "output_type": "execute_result"
    }
   ],
   "source": [
    "timestamps"
   ]
  },
  {
   "cell_type": "code",
   "execution_count": 4,
   "id": "alternate-victory",
   "metadata": {
    "execution": {
     "iopub.execute_input": "2021-09-05T11:00:09.235141Z",
     "iopub.status.busy": "2021-09-05T11:00:09.233254Z",
     "iopub.status.idle": "2021-09-05T11:00:09.551439Z",
     "shell.execute_reply": "2021-09-05T11:00:09.552761Z"
    },
    "papermill": {
     "duration": 0.348393,
     "end_time": "2021-09-05T11:00:09.553162",
     "exception": false,
     "start_time": "2021-09-05T11:00:09.204769",
     "status": "completed"
    },
    "tags": []
   },
   "outputs": [],
   "source": [
    "df = pd.read_sql(\"select * from EBAY_TOP_BERLIN where record_time in (select distinct record_time from EBAY_TOP_BERLIN order by record_time desc limit 2)\", sqlite3.connect(\"UsedObjects.db\"))"
   ]
  },
  {
   "cell_type": "code",
   "execution_count": 5,
   "id": "popular-active",
   "metadata": {
    "execution": {
     "iopub.execute_input": "2021-09-05T11:00:09.632550Z",
     "iopub.status.busy": "2021-09-05T11:00:09.621342Z",
     "iopub.status.idle": "2021-09-05T11:00:09.649622Z",
     "shell.execute_reply": "2021-09-05T11:00:09.650836Z"
    },
    "papermill": {
     "duration": 0.072571,
     "end_time": "2021-09-05T11:00:09.651463",
     "exception": false,
     "start_time": "2021-09-05T11:00:09.578892",
     "status": "completed"
    },
    "tags": []
   },
   "outputs": [],
   "source": [
    "df_pivot = df.pivot_table(index=\"PRODUCT\", columns = \"RECORD_TIME\", values = \"LISTING_COUNT\")"
   ]
  },
  {
   "cell_type": "code",
   "execution_count": 6,
   "id": "union-huntington",
   "metadata": {
    "execution": {
     "iopub.execute_input": "2021-09-05T11:00:09.708566Z",
     "iopub.status.busy": "2021-09-05T11:00:09.706080Z",
     "iopub.status.idle": "2021-09-05T11:00:09.711842Z",
     "shell.execute_reply": "2021-09-05T11:00:09.713123Z"
    },
    "papermill": {
     "duration": 0.042184,
     "end_time": "2021-09-05T11:00:09.713540",
     "exception": false,
     "start_time": "2021-09-05T11:00:09.671356",
     "status": "completed"
    },
    "tags": []
   },
   "outputs": [],
   "source": [
    "df_pivot.columns = [\"stamp_1\", \"stamp_2\"]\n",
    "df_pivot_diff = df_pivot.diff(axis=1)"
   ]
  },
  {
   "cell_type": "code",
   "execution_count": 7,
   "id": "fifth-motion",
   "metadata": {
    "execution": {
     "iopub.execute_input": "2021-09-05T11:00:09.767129Z",
     "iopub.status.busy": "2021-09-05T11:00:09.764798Z",
     "iopub.status.idle": "2021-09-05T11:00:11.219096Z",
     "shell.execute_reply": "2021-09-05T11:00:11.220380Z"
    },
    "papermill": {
     "duration": 1.486756,
     "end_time": "2021-09-05T11:00:11.220801",
     "exception": false,
     "start_time": "2021-09-05T11:00:09.734045",
     "status": "completed"
    },
    "tags": []
   },
   "outputs": [
    {
     "data": {
      "text/plain": [
       "<AxesSubplot:ylabel='PRODUCT'>"
      ]
     },
     "execution_count": 7,
     "metadata": {},
     "output_type": "execute_result"
    },
    {
     "data": {
      "image/png": "[encoded data removed]",
      "text/plain": [
       "<Figure size 432x288 with 1 Axes>"
      ]
     },
     "metadata": {
      "needs_background": "light"
     },
     "output_type": "display_data"
    }
   ],
   "source": [
    "df_pivot_diff.sort_values(\"stamp_2\", ascending = False)[\"stamp_2\"].head(10).plot.barh()"
   ]
  },
  {
   "cell_type": "code",
   "execution_count": null,
   "id": "extra-executive",
   "metadata": {
    "papermill": {
     "duration": 0.022189,
     "end_time": "2021-09-05T11:00:11.267651",
     "exception": false,
     "start_time": "2021-09-05T11:00:11.245462",
     "status": "completed"
    },
    "tags": []
   },
   "outputs": [],
   "source": []
  }
 ],
 "metadata": {
  "kernelspec": {
   "display_name": "Python 3",
   "language": "python",
   "name": "python3"
  },
  "language_info": {
   "codemirror_mode": {
    "name": "ipython",
    "version": 3
   },
   "file_extension": ".py",
   "mimetype": "text/x-python",
   "name": "python",
   "nbconvert_exporter": "python",
   "pygments_lexer": "ipython3",
   "version": "3.9.5"
  },
  "papermill": {
   "default_parameters": {},
   "duration": 6.334848,
   "end_time": "2021-09-05T11:00:11.909051",
   "environment_variables": {},
   "exception": null,
   "input_path": "eBay_Overview.ipynb",
   "output_path": "eBay_Overview.ipynb",
   "parameters": {},
   "start_time": "2021-09-05T11:00:05.574203",
   "version": "2.3.3"
  }
 },
 "nbformat": 4,
 "nbformat_minor": 5
}