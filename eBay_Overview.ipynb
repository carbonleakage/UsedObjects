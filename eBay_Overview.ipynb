{
 "cells": [
  {
   "cell_type": "code",
   "execution_count": 1,
   "id": "reverse-picking",
   "metadata": {
    "execution": {
     "iopub.execute_input": "2021-09-11T04:30:06.976935Z",
     "iopub.status.busy": "2021-09-11T04:30:06.974969Z",
     "iopub.status.idle": "2021-09-11T04:30:07.787034Z",
     "shell.execute_reply": "2021-09-11T04:30:07.785310Z"
    },
    "papermill": {
     "duration": 0.863031,
     "end_time": "2021-09-11T04:30:07.787485",
     "exception": false,
     "start_time": "2021-09-11T04:30:06.924454",
     "status": "completed"
    },
    "tags": []
   },
   "outputs": [],
   "source": [
    "import pandas as pd\n",
    "import sqlite3"
   ]
  },
  {
   "cell_type": "code",
   "execution_count": 2,
   "id": "innovative-syndrome",
   "metadata": {
    "execution": {
     "iopub.execute_input": "2021-09-11T04:30:07.840533Z",
     "iopub.status.busy": "2021-09-11T04:30:07.838125Z",
     "iopub.status.idle": "2021-09-11T04:30:08.094113Z",
     "shell.execute_reply": "2021-09-11T04:30:08.095376Z"
    },
    "papermill": {
     "duration": 0.286121,
     "end_time": "2021-09-11T04:30:08.095772",
     "exception": false,
     "start_time": "2021-09-11T04:30:07.809651",
     "status": "completed"
    },
    "tags": []
   },
   "outputs": [],
   "source": [
    "timestamps = pd.read_sql(\"select distinct record_time from EBAY_TOP_BERLIN order by record_time desc limit 2\", sqlite3.connect(\"UsedObjects.db\"))"
   ]
  },
  {
   "cell_type": "code",
   "execution_count": 3,
   "id": "periodic-identification",
   "metadata": {
    "execution": {
     "iopub.execute_input": "2021-09-11T04:30:08.160039Z",
     "iopub.status.busy": "2021-09-11T04:30:08.157805Z",
     "iopub.status.idle": "2021-09-11T04:30:08.177914Z",
     "shell.execute_reply": "2021-09-11T04:30:08.179282Z"
    },
    "papermill": {
     "duration": 0.064516,
     "end_time": "2021-09-11T04:30:08.179717",
     "exception": false,
     "start_time": "2021-09-11T04:30:08.115201",
     "status": "completed"
    },
    "tags": []
   },
   "outputs": [
    {
     "data": {
      "text/html": [
       "<div>\n",
       "<style scoped>\n",
       "    .dataframe tbody tr th:only-of-type {\n",
       "        vertical-align: middle;\n",
       "    }\n",
       "\n",
       "    .dataframe tbody tr th {\n",
       "        vertical-align: top;\n",
       "    }\n",
       "\n",
       "    .dataframe thead th {\n",
       "        text-align: right;\n",
       "    }\n",
       "</style>\n",
       "<table border=\"1\" class=\"dataframe\">\n",
       "  <thead>\n",
       "    <tr style=\"text-align: right;\">\n",
       "      <th></th>\n",
       "      <th>RECORD_TIME</th>\n",
       "    </tr>\n",
       "  </thead>\n",
       "  <tbody>\n",
       "    <tr>\n",
       "      <th>0</th>\n",
       "      <td>2021-09-11 06:30</td>\n",
       "    </tr>\n",
       "    <tr>\n",
       "      <th>1</th>\n",
       "      <td>2021-09-11 06:00</td>\n",
       "    </tr>\n",
       "  </tbody>\n",
       "</table>\n",
       "</div>"
      ],
      "text/plain": [
       "        RECORD_TIME\n",
       "0  2021-09-11 06:30\n",
       "1  2021-09-11 06:00"
      ]
     },
     "execution_count": 3,
     "metadata": {},
     "output_type": "execute_result"
    }
   ],
   "source": [
    "timestamps"
   ]
  },
  {
   "cell_type": "code",
   "execution_count": 4,
   "id": "alternate-victory",
   "metadata": {
    "execution": {
     "iopub.execute_input": "2021-09-11T04:30:08.232694Z",
     "iopub.status.busy": "2021-09-11T04:30:08.230290Z",
     "iopub.status.idle": "2021-09-11T04:30:08.607606Z",
     "shell.execute_reply": "2021-09-11T04:30:08.608837Z"
    },
    "papermill": {
     "duration": 0.407852,
     "end_time": "2021-09-11T04:30:08.609228",
     "exception": false,
     "start_time": "2021-09-11T04:30:08.201376",
     "status": "completed"
    },
    "tags": []
   },
   "outputs": [],
   "source": [
    "df = pd.read_sql(\"select * from EBAY_TOP_BERLIN where record_time in (select distinct record_time from EBAY_TOP_BERLIN order by record_time desc limit 2)\", sqlite3.connect(\"UsedObjects.db\"))"
   ]
  },
  {
   "cell_type": "code",
   "execution_count": 5,
   "id": "popular-active",
   "metadata": {
    "execution": {
     "iopub.execute_input": "2021-09-11T04:30:08.689863Z",
     "iopub.status.busy": "2021-09-11T04:30:08.682827Z",
     "iopub.status.idle": "2021-09-11T04:30:08.705527Z",
     "shell.execute_reply": "2021-09-11T04:30:08.706827Z"
    },
    "papermill": {
     "duration": 0.07198,
     "end_time": "2021-09-11T04:30:08.707298",
     "exception": false,
     "start_time": "2021-09-11T04:30:08.635318",
     "status": "completed"
    },
    "tags": []
   },
   "outputs": [],
   "source": [
    "df_pivot = df.pivot_table(index=\"PRODUCT\", columns = \"RECORD_TIME\", values = \"LISTING_COUNT\")"
   ]
  },
  {
   "cell_type": "code",
   "execution_count": 6,
   "id": "union-huntington",
   "metadata": {
    "execution": {
     "iopub.execute_input": "2021-09-11T04:30:08.764526Z",
     "iopub.status.busy": "2021-09-11T04:30:08.762283Z",
     "iopub.status.idle": "2021-09-11T04:30:08.767669Z",
     "shell.execute_reply": "2021-09-11T04:30:08.768952Z"
    },
    "papermill": {
     "duration": 0.040883,
     "end_time": "2021-09-11T04:30:08.769395",
     "exception": false,
     "start_time": "2021-09-11T04:30:08.728512",
     "status": "completed"
    },
    "tags": []
   },
   "outputs": [],
   "source": [
    "df_pivot.columns = [\"stamp_1\", \"stamp_2\"]\n",
    "df_pivot_diff = df_pivot.diff(axis=1)"
   ]
  },
  {
   "cell_type": "code",
   "execution_count": 7,
   "id": "fifth-motion",
   "metadata": {
    "execution": {
     "iopub.execute_input": "2021-09-11T04:30:08.827413Z",
     "iopub.status.busy": "2021-09-11T04:30:08.824644Z",
     "iopub.status.idle": "2021-09-11T04:30:10.292440Z",
     "shell.execute_reply": "2021-09-11T04:30:10.293817Z"
    },
    "papermill": {
     "duration": 1.501777,
     "end_time": "2021-09-11T04:30:10.294251",
     "exception": false,
     "start_time": "2021-09-11T04:30:08.792474",
     "status": "completed"
    },
    "tags": []
   },
   "outputs": [
    {
     "data": {
      "text/plain": [
       "<AxesSubplot:ylabel='PRODUCT'>"
      ]
     },
     "execution_count": 7,
     "metadata": {},
     "output_type": "execute_result"
    },
    {
     "data": {
      "image/png": "[encoded data removed]",
      "text/plain": [
       "<Figure size 432x288 with 1 Axes>"
      ]
     },
     "metadata": {
      "needs_background": "light"
     },
     "output_type": "display_data"
    }
   ],
   "source": [
    "df_pivot_diff.sort_values(\"stamp_2\", ascending = False)[\"stamp_2\"].head(10).plot.barh()"
   ]
  },
  {
   "cell_type": "code",
   "execution_count": null,
   "id": "extra-executive",
   "metadata": {
    "papermill": {
     "duration": 0.023004,
     "end_time": "2021-09-11T04:30:10.342159",
     "exception": false,
     "start_time": "2021-09-11T04:30:10.319155",
     "status": "completed"
    },
    "tags": []
   },
   "outputs": [],
   "source": []
  }
 ],
 "metadata": {
  "kernelspec": {
   "display_name": "Python 3",
   "language": "python",
   "name": "python3"
  },
  "language_info": {
   "codemirror_mode": {
    "name": "ipython",
    "version": 3
   },
   "file_extension": ".py",
   "mimetype": "text/x-python",
   "name": "python",
   "nbconvert_exporter": "python",
   "pygments_lexer": "ipython3",
   "version": "3.9.5"
  },
  "papermill": {
   "default_parameters": {},
   "duration": 6.475024,
   "end_time": "2021-09-11T04:30:10.982655",
   "environment_variables": {},
   "exception": null,
   "input_path": "eBay_Overview.ipynb",
   "output_path": "eBay_Overview.ipynb",
   "parameters": {},
   "start_time": "2021-09-11T04:30:04.507631",
   "version": "2.3.3"
  }
 },
 "nbformat": 4,
 "nbformat_minor": 5
}