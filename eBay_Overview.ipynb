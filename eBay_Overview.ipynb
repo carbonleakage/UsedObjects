{
 "cells": [
  {
   "cell_type": "code",
   "execution_count": 1,
   "id": "reverse-picking",
   "metadata": {
    "execution": {
     "iopub.execute_input": "2021-08-18T07:00:06.867572Z",
     "iopub.status.busy": "2021-08-18T07:00:06.865538Z",
     "iopub.status.idle": "2021-08-18T07:00:07.667712Z",
     "shell.execute_reply": "2021-08-18T07:00:07.668963Z"
    },
    "papermill": {
     "duration": 0.854767,
     "end_time": "2021-08-18T07:00:07.669570",
     "exception": false,
     "start_time": "2021-08-18T07:00:06.814803",
     "status": "completed"
    },
    "tags": []
   },
   "outputs": [],
   "source": [
    "import pandas as pd\n",
    "import sqlite3"
   ]
  },
  {
   "cell_type": "code",
   "execution_count": 2,
   "id": "innovative-syndrome",
   "metadata": {
    "execution": {
     "iopub.execute_input": "2021-08-18T07:00:07.720376Z",
     "iopub.status.busy": "2021-08-18T07:00:07.718551Z",
     "iopub.status.idle": "2021-08-18T07:00:07.791390Z",
     "shell.execute_reply": "2021-08-18T07:00:07.792603Z"
    },
    "papermill": {
     "duration": 0.102391,
     "end_time": "2021-08-18T07:00:07.792990",
     "exception": false,
     "start_time": "2021-08-18T07:00:07.690599",
     "status": "completed"
    },
    "tags": []
   },
   "outputs": [],
   "source": [
    "timestamps = pd.read_sql(\"select distinct record_time from EBAY_TOP_BERLIN order by record_time desc limit 2\", sqlite3.connect(\"UsedObjects.db\"))"
   ]
  },
  {
   "cell_type": "code",
   "execution_count": 3,
   "id": "periodic-identification",
   "metadata": {
    "execution": {
     "iopub.execute_input": "2021-08-18T07:00:07.857214Z",
     "iopub.status.busy": "2021-08-18T07:00:07.855209Z",
     "iopub.status.idle": "2021-08-18T07:00:07.874975Z",
     "shell.execute_reply": "2021-08-18T07:00:07.876114Z"
    },
    "papermill": {
     "duration": 0.064324,
     "end_time": "2021-08-18T07:00:07.876526",
     "exception": false,
     "start_time": "2021-08-18T07:00:07.812202",
     "status": "completed"
    },
    "tags": []
   },
   "outputs": [
    {
     "data": {
      "text/html": [
       "<div>\n",
       "<style scoped>\n",
       "    .dataframe tbody tr th:only-of-type {\n",
       "        vertical-align: middle;\n",
       "    }\n",
       "\n",
       "    .dataframe tbody tr th {\n",
       "        vertical-align: top;\n",
       "    }\n",
       "\n",
       "    .dataframe thead th {\n",
       "        text-align: right;\n",
       "    }\n",
       "</style>\n",
       "<table border=\"1\" class=\"dataframe\">\n",
       "  <thead>\n",
       "    <tr style=\"text-align: right;\">\n",
       "      <th></th>\n",
       "      <th>RECORD_TIME</th>\n",
       "    </tr>\n",
       "  </thead>\n",
       "  <tbody>\n",
       "    <tr>\n",
       "      <th>0</th>\n",
       "      <td>2021-08-18 09:00</td>\n",
       "    </tr>\n",
       "    <tr>\n",
       "      <th>1</th>\n",
       "      <td>2021-08-18 08:30</td>\n",
       "    </tr>\n",
       "  </tbody>\n",
       "</table>\n",
       "</div>"
      ],
      "text/plain": [
       "        RECORD_TIME\n",
       "0  2021-08-18 09:00\n",
       "1  2021-08-18 08:30"
      ]
     },
     "execution_count": 3,
     "metadata": {},
     "output_type": "execute_result"
    }
   ],
   "source": [
    "timestamps"
   ]
  },
  {
   "cell_type": "code",
   "execution_count": 4,
   "id": "alternate-victory",
   "metadata": {
    "execution": {
     "iopub.execute_input": "2021-08-18T07:00:07.930895Z",
     "iopub.status.busy": "2021-08-18T07:00:07.928565Z",
     "iopub.status.idle": "2021-08-18T07:00:08.039783Z",
     "shell.execute_reply": "2021-08-18T07:00:08.040978Z"
    },
    "papermill": {
     "duration": 0.141482,
     "end_time": "2021-08-18T07:00:08.041369",
     "exception": false,
     "start_time": "2021-08-18T07:00:07.899887",
     "status": "completed"
    },
    "tags": []
   },
   "outputs": [],
   "source": [
    "df = pd.read_sql(\"select * from EBAY_TOP_BERLIN where record_time in (select distinct record_time from EBAY_TOP_BERLIN order by record_time desc limit 2)\", sqlite3.connect(\"UsedObjects.db\"))"
   ]
  },
  {
   "cell_type": "code",
   "execution_count": 5,
   "id": "popular-active",
   "metadata": {
    "execution": {
     "iopub.execute_input": "2021-08-18T07:00:08.111098Z",
     "iopub.status.busy": "2021-08-18T07:00:08.099605Z",
     "iopub.status.idle": "2021-08-18T07:00:08.127990Z",
     "shell.execute_reply": "2021-08-18T07:00:08.129248Z"
    },
    "papermill": {
     "duration": 0.067041,
     "end_time": "2021-08-18T07:00:08.129658",
     "exception": false,
     "start_time": "2021-08-18T07:00:08.062617",
     "status": "completed"
    },
    "tags": []
   },
   "outputs": [],
   "source": [
    "df_pivot = df.pivot_table(index=\"PRODUCT\", columns = \"RECORD_TIME\", values = \"LISTING_COUNT\")"
   ]
  },
  {
   "cell_type": "code",
   "execution_count": 6,
   "id": "union-huntington",
   "metadata": {
    "execution": {
     "iopub.execute_input": "2021-08-18T07:00:08.186144Z",
     "iopub.status.busy": "2021-08-18T07:00:08.184058Z",
     "iopub.status.idle": "2021-08-18T07:00:08.189481Z",
     "shell.execute_reply": "2021-08-18T07:00:08.190816Z"
    },
    "papermill": {
     "duration": 0.041483,
     "end_time": "2021-08-18T07:00:08.191234",
     "exception": false,
     "start_time": "2021-08-18T07:00:08.149751",
     "status": "completed"
    },
    "tags": []
   },
   "outputs": [],
   "source": [
    "df_pivot.columns = [\"stamp_1\", \"stamp_2\"]\n",
    "df_pivot_diff = df_pivot.diff(axis=1)"
   ]
  },
  {
   "cell_type": "code",
   "execution_count": 7,
   "id": "fifth-motion",
   "metadata": {
    "execution": {
     "iopub.execute_input": "2021-08-18T07:00:08.246508Z",
     "iopub.status.busy": "2021-08-18T07:00:08.244074Z",
     "iopub.status.idle": "2021-08-18T07:00:09.735774Z",
     "shell.execute_reply": "2021-08-18T07:00:09.737052Z"
    },
    "papermill": {
     "duration": 1.524856,
     "end_time": "2021-08-18T07:00:09.737466",
     "exception": false,
     "start_time": "2021-08-18T07:00:08.212610",
     "status": "completed"
    },
    "tags": []
   },
   "outputs": [
    {
     "data": {
      "text/plain": [
       "<AxesSubplot:ylabel='PRODUCT'>"
      ]
     },
     "execution_count": 7,
     "metadata": {},
     "output_type": "execute_result"
    },
    {
     "data": {
      "image/png": "[encoded data removed]",
      "text/plain": [
       "<Figure size 432x288 with 1 Axes>"
      ]
     },
     "metadata": {
      "needs_background": "light"
     },
     "output_type": "display_data"
    }
   ],
   "source": [
    "df_pivot_diff.sort_values(\"stamp_2\", ascending = False)[\"stamp_2\"].head(10).plot.barh()"
   ]
  },
  {
   "cell_type": "code",
   "execution_count": null,
   "id": "extra-executive",
   "metadata": {
    "papermill": {
     "duration": 0.022412,
     "end_time": "2021-08-18T07:00:09.786022",
     "exception": false,
     "start_time": "2021-08-18T07:00:09.763610",
     "status": "completed"
    },
    "tags": []
   },
   "outputs": [],
   "source": []
  }
 ],
 "metadata": {
  "kernelspec": {
   "display_name": "Python 3",
   "language": "python",
   "name": "python3"
  },
  "language_info": {
   "codemirror_mode": {
    "name": "ipython",
    "version": 3
   },
   "file_extension": ".py",
   "mimetype": "text/x-python",
   "name": "python",
   "nbconvert_exporter": "python",
   "pygments_lexer": "ipython3",
   "version": "3.9.5"
  },
  "papermill": {
   "default_parameters": {},
   "duration": 6.828248,
   "end_time": "2021-08-18T07:00:11.236212",
   "environment_variables": {},
   "exception": null,
   "input_path": "eBay_Overview.ipynb",
   "output_path": "eBay_Overview.ipynb",
   "parameters": {},
   "start_time": "2021-08-18T07:00:04.407964",
   "version": "2.3.3"
  }
 },
 "nbformat": 4,
 "nbformat_minor": 5
}