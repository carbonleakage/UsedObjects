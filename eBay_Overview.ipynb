{
 "cells": [
  {
   "cell_type": "code",
   "execution_count": 1,
   "id": "reverse-picking",
   "metadata": {
    "execution": {
     "iopub.execute_input": "2021-09-12T03:30:06.997569Z",
     "iopub.status.busy": "2021-09-12T03:30:06.995625Z",
     "iopub.status.idle": "2021-09-12T03:30:07.809030Z",
     "shell.execute_reply": "2021-09-12T03:30:07.810354Z"
    },
    "papermill": {
     "duration": 0.867121,
     "end_time": "2021-09-12T03:30:07.811049",
     "exception": false,
     "start_time": "2021-09-12T03:30:06.943928",
     "status": "completed"
    },
    "tags": []
   },
   "outputs": [],
   "source": [
    "import pandas as pd\n",
    "import sqlite3"
   ]
  },
  {
   "cell_type": "code",
   "execution_count": 2,
   "id": "innovative-syndrome",
   "metadata": {
    "execution": {
     "iopub.execute_input": "2021-09-12T03:30:07.862133Z",
     "iopub.status.busy": "2021-09-12T03:30:07.859803Z",
     "iopub.status.idle": "2021-09-12T03:30:08.133364Z",
     "shell.execute_reply": "2021-09-12T03:30:08.134632Z"
    },
    "papermill": {
     "duration": 0.304007,
     "end_time": "2021-09-12T03:30:08.135144",
     "exception": false,
     "start_time": "2021-09-12T03:30:07.831137",
     "status": "completed"
    },
    "tags": []
   },
   "outputs": [],
   "source": [
    "timestamps = pd.read_sql(\"select distinct record_time from EBAY_TOP_BERLIN order by record_time desc limit 2\", sqlite3.connect(\"UsedObjects.db\"))"
   ]
  },
  {
   "cell_type": "code",
   "execution_count": 3,
   "id": "periodic-identification",
   "metadata": {
    "execution": {
     "iopub.execute_input": "2021-09-12T03:30:08.201644Z",
     "iopub.status.busy": "2021-09-12T03:30:08.199619Z",
     "iopub.status.idle": "2021-09-12T03:30:08.219775Z",
     "shell.execute_reply": "2021-09-12T03:30:08.220988Z"
    },
    "papermill": {
     "duration": 0.067334,
     "end_time": "2021-09-12T03:30:08.221419",
     "exception": false,
     "start_time": "2021-09-12T03:30:08.154085",
     "status": "completed"
    },
    "tags": []
   },
   "outputs": [
    {
     "data": {
      "text/html": [
       "<div>\n",
       "<style scoped>\n",
       "    .dataframe tbody tr th:only-of-type {\n",
       "        vertical-align: middle;\n",
       "    }\n",
       "\n",
       "    .dataframe tbody tr th {\n",
       "        vertical-align: top;\n",
       "    }\n",
       "\n",
       "    .dataframe thead th {\n",
       "        text-align: right;\n",
       "    }\n",
       "</style>\n",
       "<table border=\"1\" class=\"dataframe\">\n",
       "  <thead>\n",
       "    <tr style=\"text-align: right;\">\n",
       "      <th></th>\n",
       "      <th>RECORD_TIME</th>\n",
       "    </tr>\n",
       "  </thead>\n",
       "  <tbody>\n",
       "    <tr>\n",
       "      <th>0</th>\n",
       "      <td>2021-09-12 05:30</td>\n",
       "    </tr>\n",
       "    <tr>\n",
       "      <th>1</th>\n",
       "      <td>2021-09-12 05:00</td>\n",
       "    </tr>\n",
       "  </tbody>\n",
       "</table>\n",
       "</div>"
      ],
      "text/plain": [
       "        RECORD_TIME\n",
       "0  2021-09-12 05:30\n",
       "1  2021-09-12 05:00"
      ]
     },
     "execution_count": 3,
     "metadata": {},
     "output_type": "execute_result"
    }
   ],
   "source": [
    "timestamps"
   ]
  },
  {
   "cell_type": "code",
   "execution_count": 4,
   "id": "alternate-victory",
   "metadata": {
    "execution": {
     "iopub.execute_input": "2021-09-12T03:30:08.274978Z",
     "iopub.status.busy": "2021-09-12T03:30:08.272657Z",
     "iopub.status.idle": "2021-09-12T03:30:08.677144Z",
     "shell.execute_reply": "2021-09-12T03:30:08.678361Z"
    },
    "papermill": {
     "duration": 0.434766,
     "end_time": "2021-09-12T03:30:08.678757",
     "exception": false,
     "start_time": "2021-09-12T03:30:08.243991",
     "status": "completed"
    },
    "tags": []
   },
   "outputs": [],
   "source": [
    "df = pd.read_sql(\"select * from EBAY_TOP_BERLIN where record_time in (select distinct record_time from EBAY_TOP_BERLIN order by record_time desc limit 2)\", sqlite3.connect(\"UsedObjects.db\"))"
   ]
  },
  {
   "cell_type": "code",
   "execution_count": 5,
   "id": "popular-active",
   "metadata": {
    "execution": {
     "iopub.execute_input": "2021-09-12T03:30:08.762418Z",
     "iopub.status.busy": "2021-09-12T03:30:08.755494Z",
     "iopub.status.idle": "2021-09-12T03:30:08.777798Z",
     "shell.execute_reply": "2021-09-12T03:30:08.779067Z"
    },
    "papermill": {
     "duration": 0.071993,
     "end_time": "2021-09-12T03:30:08.779471",
     "exception": false,
     "start_time": "2021-09-12T03:30:08.707478",
     "status": "completed"
    },
    "tags": []
   },
   "outputs": [],
   "source": [
    "df_pivot = df.pivot_table(index=\"PRODUCT\", columns = \"RECORD_TIME\", values = \"LISTING_COUNT\")"
   ]
  },
  {
   "cell_type": "code",
   "execution_count": 6,
   "id": "union-huntington",
   "metadata": {
    "execution": {
     "iopub.execute_input": "2021-09-12T03:30:08.837955Z",
     "iopub.status.busy": "2021-09-12T03:30:08.835925Z",
     "iopub.status.idle": "2021-09-12T03:30:08.841463Z",
     "shell.execute_reply": "2021-09-12T03:30:08.842828Z"
    },
    "papermill": {
     "duration": 0.041769,
     "end_time": "2021-09-12T03:30:08.843352",
     "exception": false,
     "start_time": "2021-09-12T03:30:08.801583",
     "status": "completed"
    },
    "tags": []
   },
   "outputs": [],
   "source": [
    "df_pivot.columns = [\"stamp_1\", \"stamp_2\"]\n",
    "df_pivot_diff = df_pivot.diff(axis=1)"
   ]
  },
  {
   "cell_type": "code",
   "execution_count": 7,
   "id": "fifth-motion",
   "metadata": {
    "execution": {
     "iopub.execute_input": "2021-09-12T03:30:08.897868Z",
     "iopub.status.busy": "2021-09-12T03:30:08.895577Z",
     "iopub.status.idle": "2021-09-12T03:30:10.389937Z",
     "shell.execute_reply": "2021-09-12T03:30:10.391673Z"
    },
    "papermill": {
     "duration": 1.527931,
     "end_time": "2021-09-12T03:30:10.392209",
     "exception": false,
     "start_time": "2021-09-12T03:30:08.864278",
     "status": "completed"
    },
    "tags": []
   },
   "outputs": [
    {
     "data": {
      "text/plain": [
       "<AxesSubplot:ylabel='PRODUCT'>"
      ]
     },
     "execution_count": 7,
     "metadata": {},
     "output_type": "execute_result"
    },
    {
     "data": {
      "image/png": "[encoded data removed]",
      "text/plain": [
       "<Figure size 432x288 with 1 Axes>"
      ]
     },
     "metadata": {
      "needs_background": "light"
     },
     "output_type": "display_data"
    }
   ],
   "source": [
    "df_pivot_diff.sort_values(\"stamp_2\", ascending = False)[\"stamp_2\"].head(10).plot.barh()"
   ]
  },
  {
   "cell_type": "code",
   "execution_count": null,
   "id": "extra-executive",
   "metadata": {
    "papermill": {
     "duration": 0.021839,
     "end_time": "2021-09-12T03:30:10.438419",
     "exception": false,
     "start_time": "2021-09-12T03:30:10.416580",
     "status": "completed"
    },
    "tags": []
   },
   "outputs": [],
   "source": []
  }
 ],
 "metadata": {
  "kernelspec": {
   "display_name": "Python 3",
   "language": "python",
   "name": "python3"
  },
  "language_info": {
   "codemirror_mode": {
    "name": "ipython",
    "version": 3
   },
   "file_extension": ".py",
   "mimetype": "text/x-python",
   "name": "python",
   "nbconvert_exporter": "python",
   "pygments_lexer": "ipython3",
   "version": "3.9.5"
  },
  "papermill": {
   "default_parameters": {},
   "duration": 6.550772,
   "end_time": "2021-09-12T03:30:11.079471",
   "environment_variables": {},
   "exception": null,
   "input_path": "eBay_Overview.ipynb",
   "output_path": "eBay_Overview.ipynb",
   "parameters": {},
   "start_time": "2021-09-12T03:30:04.528699",
   "version": "2.3.3"
  }
 },
 "nbformat": 4,
 "nbformat_minor": 5
}