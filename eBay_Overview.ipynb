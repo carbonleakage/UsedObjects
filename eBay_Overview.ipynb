{
 "cells": [
  {
   "cell_type": "code",
   "execution_count": 1,
   "id": "reverse-picking",
   "metadata": {
    "execution": {
     "iopub.execute_input": "2021-09-19T23:30:06.631407Z",
     "iopub.status.busy": "2021-09-19T23:30:06.629366Z",
     "iopub.status.idle": "2021-09-19T23:30:07.433696Z",
     "shell.execute_reply": "2021-09-19T23:30:07.435030Z"
    },
    "papermill": {
     "duration": 0.854616,
     "end_time": "2021-09-19T23:30:07.435678",
     "exception": false,
     "start_time": "2021-09-19T23:30:06.581062",
     "status": "completed"
    },
    "tags": []
   },
   "outputs": [],
   "source": [
    "import pandas as pd\n",
    "import sqlite3"
   ]
  },
  {
   "cell_type": "code",
   "execution_count": 2,
   "id": "innovative-syndrome",
   "metadata": {
    "execution": {
     "iopub.execute_input": "2021-09-19T23:30:07.488114Z",
     "iopub.status.busy": "2021-09-19T23:30:07.486017Z",
     "iopub.status.idle": "2021-09-19T23:30:07.810880Z",
     "shell.execute_reply": "2021-09-19T23:30:07.812189Z"
    },
    "papermill": {
     "duration": 0.354404,
     "end_time": "2021-09-19T23:30:07.812649",
     "exception": false,
     "start_time": "2021-09-19T23:30:07.458245",
     "status": "completed"
    },
    "tags": []
   },
   "outputs": [],
   "source": [
    "timestamps = pd.read_sql(\"select distinct record_time from EBAY_TOP_BERLIN order by record_time desc limit 2\", sqlite3.connect(\"UsedObjects.db\"))"
   ]
  },
  {
   "cell_type": "code",
   "execution_count": 3,
   "id": "periodic-identification",
   "metadata": {
    "execution": {
     "iopub.execute_input": "2021-09-19T23:30:07.878284Z",
     "iopub.status.busy": "2021-09-19T23:30:07.876284Z",
     "iopub.status.idle": "2021-09-19T23:30:07.896500Z",
     "shell.execute_reply": "2021-09-19T23:30:07.897969Z"
    },
    "papermill": {
     "duration": 0.065972,
     "end_time": "2021-09-19T23:30:07.898481",
     "exception": false,
     "start_time": "2021-09-19T23:30:07.832509",
     "status": "completed"
    },
    "tags": []
   },
   "outputs": [
    {
     "data": {
      "text/html": [
       "<div>\n",
       "<style scoped>\n",
       "    .dataframe tbody tr th:only-of-type {\n",
       "        vertical-align: middle;\n",
       "    }\n",
       "\n",
       "    .dataframe tbody tr th {\n",
       "        vertical-align: top;\n",
       "    }\n",
       "\n",
       "    .dataframe thead th {\n",
       "        text-align: right;\n",
       "    }\n",
       "</style>\n",
       "<table border=\"1\" class=\"dataframe\">\n",
       "  <thead>\n",
       "    <tr style=\"text-align: right;\">\n",
       "      <th></th>\n",
       "      <th>RECORD_TIME</th>\n",
       "    </tr>\n",
       "  </thead>\n",
       "  <tbody>\n",
       "    <tr>\n",
       "      <th>0</th>\n",
       "      <td>2021-09-20 01:30</td>\n",
       "    </tr>\n",
       "    <tr>\n",
       "      <th>1</th>\n",
       "      <td>2021-09-20 01:00</td>\n",
       "    </tr>\n",
       "  </tbody>\n",
       "</table>\n",
       "</div>"
      ],
      "text/plain": [
       "        RECORD_TIME\n",
       "0  2021-09-20 01:30\n",
       "1  2021-09-20 01:00"
      ]
     },
     "execution_count": 3,
     "metadata": {},
     "output_type": "execute_result"
    }
   ],
   "source": [
    "timestamps"
   ]
  },
  {
   "cell_type": "code",
   "execution_count": 4,
   "id": "alternate-victory",
   "metadata": {
    "execution": {
     "iopub.execute_input": "2021-09-19T23:30:07.950870Z",
     "iopub.status.busy": "2021-09-19T23:30:07.948924Z",
     "iopub.status.idle": "2021-09-19T23:30:08.425340Z",
     "shell.execute_reply": "2021-09-19T23:30:08.426636Z"
    },
    "papermill": {
     "duration": 0.50685,
     "end_time": "2021-09-19T23:30:08.427106",
     "exception": false,
     "start_time": "2021-09-19T23:30:07.920256",
     "status": "completed"
    },
    "tags": []
   },
   "outputs": [],
   "source": [
    "df = pd.read_sql(\"select * from EBAY_TOP_BERLIN where record_time in (select distinct record_time from EBAY_TOP_BERLIN order by record_time desc limit 2)\", sqlite3.connect(\"UsedObjects.db\"))"
   ]
  },
  {
   "cell_type": "code",
   "execution_count": 5,
   "id": "popular-active",
   "metadata": {
    "execution": {
     "iopub.execute_input": "2021-09-19T23:30:08.518149Z",
     "iopub.status.busy": "2021-09-19T23:30:08.505368Z",
     "iopub.status.idle": "2021-09-19T23:30:08.533372Z",
     "shell.execute_reply": "2021-09-19T23:30:08.534591Z"
    },
    "papermill": {
     "duration": 0.076023,
     "end_time": "2021-09-19T23:30:08.535044",
     "exception": false,
     "start_time": "2021-09-19T23:30:08.459021",
     "status": "completed"
    },
    "tags": []
   },
   "outputs": [],
   "source": [
    "df_pivot = df.pivot_table(index=\"PRODUCT\", columns = \"RECORD_TIME\", values = \"LISTING_COUNT\")"
   ]
  },
  {
   "cell_type": "code",
   "execution_count": 6,
   "id": "union-huntington",
   "metadata": {
    "execution": {
     "iopub.execute_input": "2021-09-19T23:30:08.591207Z",
     "iopub.status.busy": "2021-09-19T23:30:08.589084Z",
     "iopub.status.idle": "2021-09-19T23:30:08.594262Z",
     "shell.execute_reply": "2021-09-19T23:30:08.595868Z"
    },
    "papermill": {
     "duration": 0.040588,
     "end_time": "2021-09-19T23:30:08.596326",
     "exception": false,
     "start_time": "2021-09-19T23:30:08.555738",
     "status": "completed"
    },
    "tags": []
   },
   "outputs": [],
   "source": [
    "df_pivot.columns = [\"stamp_1\", \"stamp_2\"]\n",
    "df_pivot_diff = df_pivot.diff(axis=1)"
   ]
  },
  {
   "cell_type": "code",
   "execution_count": 7,
   "id": "fifth-motion",
   "metadata": {
    "execution": {
     "iopub.execute_input": "2021-09-19T23:30:08.652480Z",
     "iopub.status.busy": "2021-09-19T23:30:08.649788Z",
     "iopub.status.idle": "2021-09-19T23:30:10.132293Z",
     "shell.execute_reply": "2021-09-19T23:30:10.133576Z"
    },
    "papermill": {
     "duration": 1.515962,
     "end_time": "2021-09-19T23:30:10.133993",
     "exception": false,
     "start_time": "2021-09-19T23:30:08.618031",
     "status": "completed"
    },
    "tags": []
   },
   "outputs": [
    {
     "data": {
      "text/plain": [
       "<AxesSubplot:ylabel='PRODUCT'>"
      ]
     },
     "execution_count": 7,
     "metadata": {},
     "output_type": "execute_result"
    },
    {
     "data": {
      "image/png": "[encoded data removed]",
      "text/plain": [
       "<Figure size 432x288 with 1 Axes>"
      ]
     },
     "metadata": {
      "needs_background": "light"
     },
     "output_type": "display_data"
    }
   ],
   "source": [
    "df_pivot_diff.sort_values(\"stamp_2\", ascending = False)[\"stamp_2\"].head(10).plot.barh()"
   ]
  },
  {
   "cell_type": "code",
   "execution_count": null,
   "id": "extra-executive",
   "metadata": {
    "papermill": {
     "duration": 0.022264,
     "end_time": "2021-09-19T23:30:10.180140",
     "exception": false,
     "start_time": "2021-09-19T23:30:10.157876",
     "status": "completed"
    },
    "tags": []
   },
   "outputs": [],
   "source": []
  }
 ],
 "metadata": {
  "kernelspec": {
   "display_name": "Python 3",
   "language": "python",
   "name": "python3"
  },
  "language_info": {
   "codemirror_mode": {
    "name": "ipython",
    "version": 3
   },
   "file_extension": ".py",
   "mimetype": "text/x-python",
   "name": "python",
   "nbconvert_exporter": "python",
   "pygments_lexer": "ipython3",
   "version": "3.9.5"
  },
  "papermill": {
   "default_parameters": {},
   "duration": 6.643134,
   "end_time": "2021-09-19T23:30:10.822584",
   "environment_variables": {},
   "exception": null,
   "input_path": "eBay_Overview.ipynb",
   "output_path": "eBay_Overview.ipynb",
   "parameters": {},
   "start_time": "2021-09-19T23:30:04.179450",
   "version": "2.3.3"
  }
 },
 "nbformat": 4,
 "nbformat_minor": 5
}