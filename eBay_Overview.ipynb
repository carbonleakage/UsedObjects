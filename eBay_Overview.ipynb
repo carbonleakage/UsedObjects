{
 "cells": [
  {
   "cell_type": "code",
   "execution_count": 1,
   "id": "reverse-picking",
   "metadata": {
    "execution": {
     "iopub.execute_input": "2021-08-18T21:30:07.423948Z",
     "iopub.status.busy": "2021-08-18T21:30:07.421878Z",
     "iopub.status.idle": "2021-08-18T21:30:08.231604Z",
     "shell.execute_reply": "2021-08-18T21:30:08.233008Z"
    },
    "papermill": {
     "duration": 0.860859,
     "end_time": "2021-08-18T21:30:08.233695",
     "exception": false,
     "start_time": "2021-08-18T21:30:07.372836",
     "status": "completed"
    },
    "tags": []
   },
   "outputs": [],
   "source": [
    "import pandas as pd\n",
    "import sqlite3"
   ]
  },
  {
   "cell_type": "code",
   "execution_count": 2,
   "id": "innovative-syndrome",
   "metadata": {
    "execution": {
     "iopub.execute_input": "2021-08-18T21:30:08.284525Z",
     "iopub.status.busy": "2021-08-18T21:30:08.282325Z",
     "iopub.status.idle": "2021-08-18T21:30:08.362326Z",
     "shell.execute_reply": "2021-08-18T21:30:08.363711Z"
    },
    "papermill": {
     "duration": 0.109945,
     "end_time": "2021-08-18T21:30:08.364148",
     "exception": false,
     "start_time": "2021-08-18T21:30:08.254203",
     "status": "completed"
    },
    "tags": []
   },
   "outputs": [],
   "source": [
    "timestamps = pd.read_sql(\"select distinct record_time from EBAY_TOP_BERLIN order by record_time desc limit 2\", sqlite3.connect(\"UsedObjects.db\"))"
   ]
  },
  {
   "cell_type": "code",
   "execution_count": 3,
   "id": "periodic-identification",
   "metadata": {
    "execution": {
     "iopub.execute_input": "2021-08-18T21:30:08.431153Z",
     "iopub.status.busy": "2021-08-18T21:30:08.429002Z",
     "iopub.status.idle": "2021-08-18T21:30:08.448809Z",
     "shell.execute_reply": "2021-08-18T21:30:08.450176Z"
    },
    "papermill": {
     "duration": 0.066585,
     "end_time": "2021-08-18T21:30:08.450628",
     "exception": false,
     "start_time": "2021-08-18T21:30:08.384043",
     "status": "completed"
    },
    "tags": []
   },
   "outputs": [
    {
     "data": {
      "text/html": [
       "<div>\n",
       "<style scoped>\n",
       "    .dataframe tbody tr th:only-of-type {\n",
       "        vertical-align: middle;\n",
       "    }\n",
       "\n",
       "    .dataframe tbody tr th {\n",
       "        vertical-align: top;\n",
       "    }\n",
       "\n",
       "    .dataframe thead th {\n",
       "        text-align: right;\n",
       "    }\n",
       "</style>\n",
       "<table border=\"1\" class=\"dataframe\">\n",
       "  <thead>\n",
       "    <tr style=\"text-align: right;\">\n",
       "      <th></th>\n",
       "      <th>RECORD_TIME</th>\n",
       "    </tr>\n",
       "  </thead>\n",
       "  <tbody>\n",
       "    <tr>\n",
       "      <th>0</th>\n",
       "      <td>2021-08-18 23:30</td>\n",
       "    </tr>\n",
       "    <tr>\n",
       "      <th>1</th>\n",
       "      <td>2021-08-18 23:00</td>\n",
       "    </tr>\n",
       "  </tbody>\n",
       "</table>\n",
       "</div>"
      ],
      "text/plain": [
       "        RECORD_TIME\n",
       "0  2021-08-18 23:30\n",
       "1  2021-08-18 23:00"
      ]
     },
     "execution_count": 3,
     "metadata": {},
     "output_type": "execute_result"
    }
   ],
   "source": [
    "timestamps"
   ]
  },
  {
   "cell_type": "code",
   "execution_count": 4,
   "id": "alternate-victory",
   "metadata": {
    "execution": {
     "iopub.execute_input": "2021-08-18T21:30:08.501294Z",
     "iopub.status.busy": "2021-08-18T21:30:08.499498Z",
     "iopub.status.idle": "2021-08-18T21:30:08.614077Z",
     "shell.execute_reply": "2021-08-18T21:30:08.615325Z"
    },
    "papermill": {
     "duration": 0.144608,
     "end_time": "2021-08-18T21:30:08.615726",
     "exception": false,
     "start_time": "2021-08-18T21:30:08.471118",
     "status": "completed"
    },
    "tags": []
   },
   "outputs": [],
   "source": [
    "df = pd.read_sql(\"select * from EBAY_TOP_BERLIN where record_time in (select distinct record_time from EBAY_TOP_BERLIN order by record_time desc limit 2)\", sqlite3.connect(\"UsedObjects.db\"))"
   ]
  },
  {
   "cell_type": "code",
   "execution_count": 5,
   "id": "popular-active",
   "metadata": {
    "execution": {
     "iopub.execute_input": "2021-08-18T21:30:08.683553Z",
     "iopub.status.busy": "2021-08-18T21:30:08.672878Z",
     "iopub.status.idle": "2021-08-18T21:30:08.700063Z",
     "shell.execute_reply": "2021-08-18T21:30:08.701280Z"
    },
    "papermill": {
     "duration": 0.065557,
     "end_time": "2021-08-18T21:30:08.701668",
     "exception": false,
     "start_time": "2021-08-18T21:30:08.636111",
     "status": "completed"
    },
    "tags": []
   },
   "outputs": [],
   "source": [
    "df_pivot = df.pivot_table(index=\"PRODUCT\", columns = \"RECORD_TIME\", values = \"LISTING_COUNT\")"
   ]
  },
  {
   "cell_type": "code",
   "execution_count": 6,
   "id": "union-huntington",
   "metadata": {
    "execution": {
     "iopub.execute_input": "2021-08-18T21:30:08.761272Z",
     "iopub.status.busy": "2021-08-18T21:30:08.758849Z",
     "iopub.status.idle": "2021-08-18T21:30:08.764784Z",
     "shell.execute_reply": "2021-08-18T21:30:08.766124Z"
    },
    "papermill": {
     "duration": 0.042599,
     "end_time": "2021-08-18T21:30:08.766548",
     "exception": false,
     "start_time": "2021-08-18T21:30:08.723949",
     "status": "completed"
    },
    "tags": []
   },
   "outputs": [],
   "source": [
    "df_pivot.columns = [\"stamp_1\", \"stamp_2\"]\n",
    "df_pivot_diff = df_pivot.diff(axis=1)"
   ]
  },
  {
   "cell_type": "code",
   "execution_count": 7,
   "id": "fifth-motion",
   "metadata": {
    "execution": {
     "iopub.execute_input": "2021-08-18T21:30:08.821123Z",
     "iopub.status.busy": "2021-08-18T21:30:08.818811Z",
     "iopub.status.idle": "2021-08-18T21:30:10.341556Z",
     "shell.execute_reply": "2021-08-18T21:30:10.343096Z"
    },
    "papermill": {
     "duration": 1.55628,
     "end_time": "2021-08-18T21:30:10.343554",
     "exception": false,
     "start_time": "2021-08-18T21:30:08.787274",
     "status": "completed"
    },
    "tags": []
   },
   "outputs": [
    {
     "data": {
      "text/plain": [
       "<AxesSubplot:ylabel='PRODUCT'>"
      ]
     },
     "execution_count": 7,
     "metadata": {},
     "output_type": "execute_result"
    },
    {
     "data": {
      "image/png": "[encoded data removed]",
      "text/plain": [
       "<Figure size 432x288 with 1 Axes>"
      ]
     },
     "metadata": {
      "needs_background": "light"
     },
     "output_type": "display_data"
    }
   ],
   "source": [
    "df_pivot_diff.sort_values(\"stamp_2\", ascending = False)[\"stamp_2\"].head(10).plot.barh()"
   ]
  },
  {
   "cell_type": "code",
   "execution_count": null,
   "id": "extra-executive",
   "metadata": {
    "papermill": {
     "duration": 0.02234,
     "end_time": "2021-08-18T21:30:10.389203",
     "exception": false,
     "start_time": "2021-08-18T21:30:10.366863",
     "status": "completed"
    },
    "tags": []
   },
   "outputs": [],
   "source": []
  }
 ],
 "metadata": {
  "kernelspec": {
   "display_name": "Python 3",
   "language": "python",
   "name": "python3"
  },
  "language_info": {
   "codemirror_mode": {
    "name": "ipython",
    "version": 3
   },
   "file_extension": ".py",
   "mimetype": "text/x-python",
   "name": "python",
   "nbconvert_exporter": "python",
   "pygments_lexer": "ipython3",
   "version": "3.9.5"
  },
  "papermill": {
   "default_parameters": {},
   "duration": 6.827668,
   "end_time": "2021-08-18T21:30:11.790577",
   "environment_variables": {},
   "exception": null,
   "input_path": "eBay_Overview.ipynb",
   "output_path": "eBay_Overview.ipynb",
   "parameters": {},
   "start_time": "2021-08-18T21:30:04.962909",
   "version": "2.3.3"
  }
 },
 "nbformat": 4,
 "nbformat_minor": 5
}