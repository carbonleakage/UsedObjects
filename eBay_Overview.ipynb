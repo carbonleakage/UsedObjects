{
 "cells": [
  {
   "cell_type": "code",
   "execution_count": 1,
   "id": "reverse-picking",
   "metadata": {
    "execution": {
     "iopub.execute_input": "2021-09-15T05:00:07.157031Z",
     "iopub.status.busy": "2021-09-15T05:00:07.154946Z",
     "iopub.status.idle": "2021-09-15T05:00:07.958208Z",
     "shell.execute_reply": "2021-09-15T05:00:07.959549Z"
    },
    "papermill": {
     "duration": 0.854115,
     "end_time": "2021-09-15T05:00:07.960182",
     "exception": false,
     "start_time": "2021-09-15T05:00:07.106067",
     "status": "completed"
    },
    "tags": []
   },
   "outputs": [],
   "source": [
    "import pandas as pd\n",
    "import sqlite3"
   ]
  },
  {
   "cell_type": "code",
   "execution_count": 2,
   "id": "innovative-syndrome",
   "metadata": {
    "execution": {
     "iopub.execute_input": "2021-09-15T05:00:08.010561Z",
     "iopub.status.busy": "2021-09-15T05:00:08.008676Z",
     "iopub.status.idle": "2021-09-15T05:00:08.295869Z",
     "shell.execute_reply": "2021-09-15T05:00:08.297080Z"
    },
    "papermill": {
     "duration": 0.316713,
     "end_time": "2021-09-15T05:00:08.297478",
     "exception": false,
     "start_time": "2021-09-15T05:00:07.980765",
     "status": "completed"
    },
    "tags": []
   },
   "outputs": [],
   "source": [
    "timestamps = pd.read_sql(\"select distinct record_time from EBAY_TOP_BERLIN order by record_time desc limit 2\", sqlite3.connect(\"UsedObjects.db\"))"
   ]
  },
  {
   "cell_type": "code",
   "execution_count": 3,
   "id": "periodic-identification",
   "metadata": {
    "execution": {
     "iopub.execute_input": "2021-09-15T05:00:08.366254Z",
     "iopub.status.busy": "2021-09-15T05:00:08.364199Z",
     "iopub.status.idle": "2021-09-15T05:00:08.385077Z",
     "shell.execute_reply": "2021-09-15T05:00:08.383570Z"
    },
    "papermill": {
     "duration": 0.065593,
     "end_time": "2021-09-15T05:00:08.385452",
     "exception": false,
     "start_time": "2021-09-15T05:00:08.319859",
     "status": "completed"
    },
    "tags": []
   },
   "outputs": [
    {
     "data": {
      "text/html": [
       "<div>\n",
       "<style scoped>\n",
       "    .dataframe tbody tr th:only-of-type {\n",
       "        vertical-align: middle;\n",
       "    }\n",
       "\n",
       "    .dataframe tbody tr th {\n",
       "        vertical-align: top;\n",
       "    }\n",
       "\n",
       "    .dataframe thead th {\n",
       "        text-align: right;\n",
       "    }\n",
       "</style>\n",
       "<table border=\"1\" class=\"dataframe\">\n",
       "  <thead>\n",
       "    <tr style=\"text-align: right;\">\n",
       "      <th></th>\n",
       "      <th>RECORD_TIME</th>\n",
       "    </tr>\n",
       "  </thead>\n",
       "  <tbody>\n",
       "    <tr>\n",
       "      <th>0</th>\n",
       "      <td>2021-09-15 07:00</td>\n",
       "    </tr>\n",
       "    <tr>\n",
       "      <th>1</th>\n",
       "      <td>2021-09-15 06:30</td>\n",
       "    </tr>\n",
       "  </tbody>\n",
       "</table>\n",
       "</div>"
      ],
      "text/plain": [
       "        RECORD_TIME\n",
       "0  2021-09-15 07:00\n",
       "1  2021-09-15 06:30"
      ]
     },
     "execution_count": 3,
     "metadata": {},
     "output_type": "execute_result"
    }
   ],
   "source": [
    "timestamps"
   ]
  },
  {
   "cell_type": "code",
   "execution_count": 4,
   "id": "alternate-victory",
   "metadata": {
    "execution": {
     "iopub.execute_input": "2021-09-15T05:00:08.437074Z",
     "iopub.status.busy": "2021-09-15T05:00:08.434679Z",
     "iopub.status.idle": "2021-09-15T05:00:08.865559Z",
     "shell.execute_reply": "2021-09-15T05:00:08.866846Z"
    },
    "papermill": {
     "duration": 0.46133,
     "end_time": "2021-09-15T05:00:08.867380",
     "exception": false,
     "start_time": "2021-09-15T05:00:08.406050",
     "status": "completed"
    },
    "tags": []
   },
   "outputs": [],
   "source": [
    "df = pd.read_sql(\"select * from EBAY_TOP_BERLIN where record_time in (select distinct record_time from EBAY_TOP_BERLIN order by record_time desc limit 2)\", sqlite3.connect(\"UsedObjects.db\"))"
   ]
  },
  {
   "cell_type": "code",
   "execution_count": 5,
   "id": "popular-active",
   "metadata": {
    "execution": {
     "iopub.execute_input": "2021-09-15T05:00:08.932209Z",
     "iopub.status.busy": "2021-09-15T05:00:08.924723Z",
     "iopub.status.idle": "2021-09-15T05:00:08.952453Z",
     "shell.execute_reply": "2021-09-15T05:00:08.953744Z"
    },
    "papermill": {
     "duration": 0.066526,
     "end_time": "2021-09-15T05:00:08.954157",
     "exception": false,
     "start_time": "2021-09-15T05:00:08.887631",
     "status": "completed"
    },
    "tags": []
   },
   "outputs": [],
   "source": [
    "df_pivot = df.pivot_table(index=\"PRODUCT\", columns = \"RECORD_TIME\", values = \"LISTING_COUNT\")"
   ]
  },
  {
   "cell_type": "code",
   "execution_count": 6,
   "id": "union-huntington",
   "metadata": {
    "execution": {
     "iopub.execute_input": "2021-09-15T05:00:09.010477Z",
     "iopub.status.busy": "2021-09-15T05:00:09.008403Z",
     "iopub.status.idle": "2021-09-15T05:00:09.015393Z",
     "shell.execute_reply": "2021-09-15T05:00:09.013937Z"
    },
    "papermill": {
     "duration": 0.041609,
     "end_time": "2021-09-15T05:00:09.015751",
     "exception": false,
     "start_time": "2021-09-15T05:00:08.974142",
     "status": "completed"
    },
    "tags": []
   },
   "outputs": [],
   "source": [
    "df_pivot.columns = [\"stamp_1\", \"stamp_2\"]\n",
    "df_pivot_diff = df_pivot.diff(axis=1)"
   ]
  },
  {
   "cell_type": "code",
   "execution_count": 7,
   "id": "fifth-motion",
   "metadata": {
    "execution": {
     "iopub.execute_input": "2021-09-15T05:00:09.069816Z",
     "iopub.status.busy": "2021-09-15T05:00:09.067406Z",
     "iopub.status.idle": "2021-09-15T05:00:10.520418Z",
     "shell.execute_reply": "2021-09-15T05:00:10.521703Z"
    },
    "papermill": {
     "duration": 1.485792,
     "end_time": "2021-09-15T05:00:10.522116",
     "exception": false,
     "start_time": "2021-09-15T05:00:09.036324",
     "status": "completed"
    },
    "tags": []
   },
   "outputs": [
    {
     "data": {
      "text/plain": [
       "<AxesSubplot:ylabel='PRODUCT'>"
      ]
     },
     "execution_count": 7,
     "metadata": {},
     "output_type": "execute_result"
    },
    {
     "data": {
      "image/png": "[encoded data removed]",
      "text/plain": [
       "<Figure size 432x288 with 1 Axes>"
      ]
     },
     "metadata": {
      "needs_background": "light"
     },
     "output_type": "display_data"
    }
   ],
   "source": [
    "df_pivot_diff.sort_values(\"stamp_2\", ascending = False)[\"stamp_2\"].head(10).plot.barh()"
   ]
  },
  {
   "cell_type": "code",
   "execution_count": null,
   "id": "extra-executive",
   "metadata": {
    "papermill": {
     "duration": 0.022205,
     "end_time": "2021-09-15T05:00:10.569854",
     "exception": false,
     "start_time": "2021-09-15T05:00:10.547649",
     "status": "completed"
    },
    "tags": []
   },
   "outputs": [],
   "source": []
  }
 ],
 "metadata": {
  "kernelspec": {
   "display_name": "Python 3",
   "language": "python",
   "name": "python3"
  },
  "language_info": {
   "codemirror_mode": {
    "name": "ipython",
    "version": 3
   },
   "file_extension": ".py",
   "mimetype": "text/x-python",
   "name": "python",
   "nbconvert_exporter": "python",
   "pygments_lexer": "ipython3",
   "version": "3.9.5"
  },
  "papermill": {
   "default_parameters": {},
   "duration": 6.520213,
   "end_time": "2021-09-15T05:00:11.213397",
   "environment_variables": {},
   "exception": null,
   "input_path": "eBay_Overview.ipynb",
   "output_path": "eBay_Overview.ipynb",
   "parameters": {},
   "start_time": "2021-09-15T05:00:04.693184",
   "version": "2.3.3"
  }
 },
 "nbformat": 4,
 "nbformat_minor": 5
}