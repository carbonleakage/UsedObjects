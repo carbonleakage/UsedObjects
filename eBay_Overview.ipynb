{
 "cells": [
  {
   "cell_type": "code",
   "execution_count": 1,
   "id": "reverse-picking",
   "metadata": {
    "execution": {
     "iopub.execute_input": "2021-11-08T04:00:07.871383Z",
     "iopub.status.busy": "2021-11-08T04:00:07.869106Z",
     "iopub.status.idle": "2021-11-08T04:00:08.818011Z",
     "shell.execute_reply": "2021-11-08T04:00:08.819438Z"
    },
    "papermill": {
     "duration": 0.997406,
     "end_time": "2021-11-08T04:00:08.820289",
     "exception": false,
     "start_time": "2021-11-08T04:00:07.822883",
     "status": "completed"
    },
    "tags": []
   },
   "outputs": [],
   "source": [
    "import pandas as pd\n",
    "import sqlite3"
   ]
  },
  {
   "cell_type": "code",
   "execution_count": 2,
   "id": "innovative-syndrome",
   "metadata": {
    "execution": {
     "iopub.execute_input": "2021-11-08T04:00:08.888410Z",
     "iopub.status.busy": "2021-11-08T04:00:08.886148Z",
     "iopub.status.idle": "2021-11-08T04:00:09.646938Z",
     "shell.execute_reply": "2021-11-08T04:00:09.648548Z"
    },
    "papermill": {
     "duration": 0.795847,
     "end_time": "2021-11-08T04:00:09.649115",
     "exception": false,
     "start_time": "2021-11-08T04:00:08.853268",
     "status": "completed"
    },
    "tags": []
   },
   "outputs": [],
   "source": [
    "timestamps = pd.read_sql(\"select distinct record_time from EBAY_TOP_BERLIN order by record_time desc limit 2\", sqlite3.connect(\"UsedObjects.db\"))"
   ]
  },
  {
   "cell_type": "code",
   "execution_count": 3,
   "id": "periodic-identification",
   "metadata": {
    "execution": {
     "iopub.execute_input": "2021-11-08T04:00:09.720830Z",
     "iopub.status.busy": "2021-11-08T04:00:09.718431Z",
     "iopub.status.idle": "2021-11-08T04:00:09.741707Z",
     "shell.execute_reply": "2021-11-08T04:00:09.743197Z"
    },
    "papermill": {
     "duration": 0.073837,
     "end_time": "2021-11-08T04:00:09.743698",
     "exception": false,
     "start_time": "2021-11-08T04:00:09.669861",
     "status": "completed"
    },
    "tags": []
   },
   "outputs": [
    {
     "data": {
      "text/html": [
       "<div>\n",
       "<style scoped>\n",
       "    .dataframe tbody tr th:only-of-type {\n",
       "        vertical-align: middle;\n",
       "    }\n",
       "\n",
       "    .dataframe tbody tr th {\n",
       "        vertical-align: top;\n",
       "    }\n",
       "\n",
       "    .dataframe thead th {\n",
       "        text-align: right;\n",
       "    }\n",
       "</style>\n",
       "<table border=\"1\" class=\"dataframe\">\n",
       "  <thead>\n",
       "    <tr style=\"text-align: right;\">\n",
       "      <th></th>\n",
       "      <th>RECORD_TIME</th>\n",
       "    </tr>\n",
       "  </thead>\n",
       "  <tbody>\n",
       "    <tr>\n",
       "      <th>0</th>\n",
       "      <td>2021-11-08 05:00</td>\n",
       "    </tr>\n",
       "    <tr>\n",
       "      <th>1</th>\n",
       "      <td>2021-11-08 04:30</td>\n",
       "    </tr>\n",
       "  </tbody>\n",
       "</table>\n",
       "</div>"
      ],
      "text/plain": [
       "        RECORD_TIME\n",
       "0  2021-11-08 05:00\n",
       "1  2021-11-08 04:30"
      ]
     },
     "execution_count": 3,
     "metadata": {},
     "output_type": "execute_result"
    }
   ],
   "source": [
    "timestamps"
   ]
  },
  {
   "cell_type": "code",
   "execution_count": 4,
   "id": "alternate-victory",
   "metadata": {
    "execution": {
     "iopub.execute_input": "2021-11-08T04:00:09.802227Z",
     "iopub.status.busy": "2021-11-08T04:00:09.798777Z",
     "iopub.status.idle": "2021-11-08T04:00:10.886394Z",
     "shell.execute_reply": "2021-11-08T04:00:10.887689Z"
    },
    "papermill": {
     "duration": 1.122977,
     "end_time": "2021-11-08T04:00:10.888103",
     "exception": false,
     "start_time": "2021-11-08T04:00:09.765126",
     "status": "completed"
    },
    "tags": []
   },
   "outputs": [],
   "source": [
    "df = pd.read_sql(\"select * from EBAY_TOP_BERLIN where record_time in (select distinct record_time from EBAY_TOP_BERLIN order by record_time desc limit 2)\", sqlite3.connect(\"UsedObjects.db\"))"
   ]
  },
  {
   "cell_type": "code",
   "execution_count": 5,
   "id": "popular-active",
   "metadata": {
    "execution": {
     "iopub.execute_input": "2021-11-08T04:00:10.963144Z",
     "iopub.status.busy": "2021-11-08T04:00:10.949194Z",
     "iopub.status.idle": "2021-11-08T04:00:10.982032Z",
     "shell.execute_reply": "2021-11-08T04:00:10.983327Z"
    },
    "papermill": {
     "duration": 0.074886,
     "end_time": "2021-11-08T04:00:10.983783",
     "exception": false,
     "start_time": "2021-11-08T04:00:10.908897",
     "status": "completed"
    },
    "tags": []
   },
   "outputs": [],
   "source": [
    "df_pivot = df.pivot_table(index=\"PRODUCT\", columns = \"RECORD_TIME\", values = \"LISTING_COUNT\")"
   ]
  },
  {
   "cell_type": "code",
   "execution_count": 6,
   "id": "union-huntington",
   "metadata": {
    "execution": {
     "iopub.execute_input": "2021-11-08T04:00:11.040490Z",
     "iopub.status.busy": "2021-11-08T04:00:11.038221Z",
     "iopub.status.idle": "2021-11-08T04:00:11.061451Z",
     "shell.execute_reply": "2021-11-08T04:00:11.059450Z"
    },
    "papermill": {
     "duration": 0.05665,
     "end_time": "2021-11-08T04:00:11.061867",
     "exception": false,
     "start_time": "2021-11-08T04:00:11.005217",
     "status": "completed"
    },
    "tags": []
   },
   "outputs": [],
   "source": [
    "df_pivot.columns = [\"stamp_1\", \"stamp_2\"]\n",
    "df_pivot_diff = df_pivot.diff(axis=1)"
   ]
  },
  {
   "cell_type": "code",
   "execution_count": 7,
   "id": "fifth-motion",
   "metadata": {
    "execution": {
     "iopub.execute_input": "2021-11-08T04:00:11.137780Z",
     "iopub.status.busy": "2021-11-08T04:00:11.135098Z",
     "iopub.status.idle": "2021-11-08T04:00:12.935319Z",
     "shell.execute_reply": "2021-11-08T04:00:12.933388Z"
    },
    "papermill": {
     "duration": 1.835351,
     "end_time": "2021-11-08T04:00:12.935852",
     "exception": false,
     "start_time": "2021-11-08T04:00:11.100501",
     "status": "completed"
    },
    "tags": []
   },
   "outputs": [
    {
     "data": {
      "text/plain": [
       "<AxesSubplot:ylabel='PRODUCT'>"
      ]
     },
     "execution_count": 7,
     "metadata": {},
     "output_type": "execute_result"
    },
    {
     "data": {
      "image/png": "[encoded data removed]",
      "text/plain": [
       "<Figure size 432x288 with 1 Axes>"
      ]
     },
     "metadata": {
      "needs_background": "light"
     },
     "output_type": "display_data"
    }
   ],
   "source": [
    "df_pivot_diff.sort_values(\"stamp_2\", ascending = False)[\"stamp_2\"].head(10).plot.barh()"
   ]
  },
  {
   "cell_type": "code",
   "execution_count": null,
   "id": "extra-executive",
   "metadata": {
    "papermill": {
     "duration": 0.02328,
     "end_time": "2021-11-08T04:00:12.983236",
     "exception": false,
     "start_time": "2021-11-08T04:00:12.959956",
     "status": "completed"
    },
    "tags": []
   },
   "outputs": [],
   "source": []
  }
 ],
 "metadata": {
  "kernelspec": {
   "display_name": "Python 3",
   "language": "python",
   "name": "python3"
  },
  "language_info": {
   "codemirror_mode": {
    "name": "ipython",
    "version": 3
   },
   "file_extension": ".py",
   "mimetype": "text/x-python",
   "name": "python",
   "nbconvert_exporter": "python",
   "pygments_lexer": "ipython3",
   "version": "3.9.5"
  },
  "papermill": {
   "default_parameters": {},
   "duration": 8.71458,
   "end_time": "2021-11-08T04:00:13.728928",
   "environment_variables": {},
   "exception": null,
   "input_path": "eBay_Overview.ipynb",
   "output_path": "eBay_Overview.ipynb",
   "parameters": {},
   "start_time": "2021-11-08T04:00:05.014348",
   "version": "2.3.3"
  }
 },
 "nbformat": 4,
 "nbformat_minor": 5
}