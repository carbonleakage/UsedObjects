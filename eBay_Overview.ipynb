{
 "cells": [
  {
   "cell_type": "code",
   "execution_count": 1,
   "id": "reverse-picking",
   "metadata": {
    "execution": {
     "iopub.execute_input": "2021-09-08T22:00:06.684758Z",
     "iopub.status.busy": "2021-09-08T22:00:06.682716Z",
     "iopub.status.idle": "2021-09-08T22:00:07.492895Z",
     "shell.execute_reply": "2021-09-08T22:00:07.494139Z"
    },
    "papermill": {
     "duration": 0.862365,
     "end_time": "2021-09-08T22:00:07.494761",
     "exception": false,
     "start_time": "2021-09-08T22:00:06.632396",
     "status": "completed"
    },
    "tags": []
   },
   "outputs": [],
   "source": [
    "import pandas as pd\n",
    "import sqlite3"
   ]
  },
  {
   "cell_type": "code",
   "execution_count": 2,
   "id": "innovative-syndrome",
   "metadata": {
    "execution": {
     "iopub.execute_input": "2021-09-08T22:00:07.547951Z",
     "iopub.status.busy": "2021-09-08T22:00:07.545586Z",
     "iopub.status.idle": "2021-09-08T22:00:07.788003Z",
     "shell.execute_reply": "2021-09-08T22:00:07.789201Z"
    },
    "papermill": {
     "duration": 0.272493,
     "end_time": "2021-09-08T22:00:07.789599",
     "exception": false,
     "start_time": "2021-09-08T22:00:07.517106",
     "status": "completed"
    },
    "tags": []
   },
   "outputs": [],
   "source": [
    "timestamps = pd.read_sql(\"select distinct record_time from EBAY_TOP_BERLIN order by record_time desc limit 2\", sqlite3.connect(\"UsedObjects.db\"))"
   ]
  },
  {
   "cell_type": "code",
   "execution_count": 3,
   "id": "periodic-identification",
   "metadata": {
    "execution": {
     "iopub.execute_input": "2021-09-08T22:00:07.857283Z",
     "iopub.status.busy": "2021-09-08T22:00:07.852320Z",
     "iopub.status.idle": "2021-09-08T22:00:07.872881Z",
     "shell.execute_reply": "2021-09-08T22:00:07.874156Z"
    },
    "papermill": {
     "duration": 0.064202,
     "end_time": "2021-09-08T22:00:07.874607",
     "exception": false,
     "start_time": "2021-09-08T22:00:07.810405",
     "status": "completed"
    },
    "tags": []
   },
   "outputs": [
    {
     "data": {
      "text/html": [
       "<div>\n",
       "<style scoped>\n",
       "    .dataframe tbody tr th:only-of-type {\n",
       "        vertical-align: middle;\n",
       "    }\n",
       "\n",
       "    .dataframe tbody tr th {\n",
       "        vertical-align: top;\n",
       "    }\n",
       "\n",
       "    .dataframe thead th {\n",
       "        text-align: right;\n",
       "    }\n",
       "</style>\n",
       "<table border=\"1\" class=\"dataframe\">\n",
       "  <thead>\n",
       "    <tr style=\"text-align: right;\">\n",
       "      <th></th>\n",
       "      <th>RECORD_TIME</th>\n",
       "    </tr>\n",
       "  </thead>\n",
       "  <tbody>\n",
       "    <tr>\n",
       "      <th>0</th>\n",
       "      <td>2021-09-09 00:00</td>\n",
       "    </tr>\n",
       "    <tr>\n",
       "      <th>1</th>\n",
       "      <td>2021-09-08 23:30</td>\n",
       "    </tr>\n",
       "  </tbody>\n",
       "</table>\n",
       "</div>"
      ],
      "text/plain": [
       "        RECORD_TIME\n",
       "0  2021-09-09 00:00\n",
       "1  2021-09-08 23:30"
      ]
     },
     "execution_count": 3,
     "metadata": {},
     "output_type": "execute_result"
    }
   ],
   "source": [
    "timestamps"
   ]
  },
  {
   "cell_type": "code",
   "execution_count": 4,
   "id": "alternate-victory",
   "metadata": {
    "execution": {
     "iopub.execute_input": "2021-09-08T22:00:07.927570Z",
     "iopub.status.busy": "2021-09-08T22:00:07.925217Z",
     "iopub.status.idle": "2021-09-08T22:00:08.274832Z",
     "shell.execute_reply": "2021-09-08T22:00:08.276131Z"
    },
    "papermill": {
     "duration": 0.380078,
     "end_time": "2021-09-08T22:00:08.276536",
     "exception": false,
     "start_time": "2021-09-08T22:00:07.896458",
     "status": "completed"
    },
    "tags": []
   },
   "outputs": [],
   "source": [
    "df = pd.read_sql(\"select * from EBAY_TOP_BERLIN where record_time in (select distinct record_time from EBAY_TOP_BERLIN order by record_time desc limit 2)\", sqlite3.connect(\"UsedObjects.db\"))"
   ]
  },
  {
   "cell_type": "code",
   "execution_count": 5,
   "id": "popular-active",
   "metadata": {
    "execution": {
     "iopub.execute_input": "2021-09-08T22:00:08.376100Z",
     "iopub.status.busy": "2021-09-08T22:00:08.369689Z",
     "iopub.status.idle": "2021-09-08T22:00:08.392112Z",
     "shell.execute_reply": "2021-09-08T22:00:08.393302Z"
    },
    "papermill": {
     "duration": 0.076146,
     "end_time": "2021-09-08T22:00:08.393729",
     "exception": false,
     "start_time": "2021-09-08T22:00:08.317583",
     "status": "completed"
    },
    "tags": []
   },
   "outputs": [],
   "source": [
    "df_pivot = df.pivot_table(index=\"PRODUCT\", columns = \"RECORD_TIME\", values = \"LISTING_COUNT\")"
   ]
  },
  {
   "cell_type": "code",
   "execution_count": 6,
   "id": "union-huntington",
   "metadata": {
    "execution": {
     "iopub.execute_input": "2021-09-08T22:00:08.450669Z",
     "iopub.status.busy": "2021-09-08T22:00:08.448633Z",
     "iopub.status.idle": "2021-09-08T22:00:08.453930Z",
     "shell.execute_reply": "2021-09-08T22:00:08.455182Z"
    },
    "papermill": {
     "duration": 0.040067,
     "end_time": "2021-09-08T22:00:08.455622",
     "exception": false,
     "start_time": "2021-09-08T22:00:08.415555",
     "status": "completed"
    },
    "tags": []
   },
   "outputs": [],
   "source": [
    "df_pivot.columns = [\"stamp_1\", \"stamp_2\"]\n",
    "df_pivot_diff = df_pivot.diff(axis=1)"
   ]
  },
  {
   "cell_type": "code",
   "execution_count": 7,
   "id": "fifth-motion",
   "metadata": {
    "execution": {
     "iopub.execute_input": "2021-09-08T22:00:08.509463Z",
     "iopub.status.busy": "2021-09-08T22:00:08.507071Z",
     "iopub.status.idle": "2021-09-08T22:00:10.026321Z",
     "shell.execute_reply": "2021-09-08T22:00:10.028415Z"
    },
    "papermill": {
     "duration": 1.553022,
     "end_time": "2021-09-08T22:00:10.028996",
     "exception": false,
     "start_time": "2021-09-08T22:00:08.475974",
     "status": "completed"
    },
    "tags": []
   },
   "outputs": [
    {
     "data": {
      "text/plain": [
       "<AxesSubplot:ylabel='PRODUCT'>"
      ]
     },
     "execution_count": 7,
     "metadata": {},
     "output_type": "execute_result"
    },
    {
     "data": {
      "image/png": "[encoded data removed]",
      "text/plain": [
       "<Figure size 432x288 with 1 Axes>"
      ]
     },
     "metadata": {
      "needs_background": "light"
     },
     "output_type": "display_data"
    }
   ],
   "source": [
    "df_pivot_diff.sort_values(\"stamp_2\", ascending = False)[\"stamp_2\"].head(10).plot.barh()"
   ]
  },
  {
   "cell_type": "code",
   "execution_count": null,
   "id": "extra-executive",
   "metadata": {
    "papermill": {
     "duration": 0.022263,
     "end_time": "2021-09-08T22:00:10.076228",
     "exception": false,
     "start_time": "2021-09-08T22:00:10.053965",
     "status": "completed"
    },
    "tags": []
   },
   "outputs": [],
   "source": []
  }
 ],
 "metadata": {
  "kernelspec": {
   "display_name": "Python 3",
   "language": "python",
   "name": "python3"
  },
  "language_info": {
   "codemirror_mode": {
    "name": "ipython",
    "version": 3
   },
   "file_extension": ".py",
   "mimetype": "text/x-python",
   "name": "python",
   "nbconvert_exporter": "python",
   "pygments_lexer": "ipython3",
   "version": "3.9.5"
  },
  "papermill": {
   "default_parameters": {},
   "duration": 6.512296,
   "end_time": "2021-09-08T22:00:10.718155",
   "environment_variables": {},
   "exception": null,
   "input_path": "eBay_Overview.ipynb",
   "output_path": "eBay_Overview.ipynb",
   "parameters": {},
   "start_time": "2021-09-08T22:00:04.205859",
   "version": "2.3.3"
  }
 },
 "nbformat": 4,
 "nbformat_minor": 5
}