{
 "cells": [
  {
   "cell_type": "code",
   "execution_count": 1,
   "id": "reverse-picking",
   "metadata": {
    "execution": {
     "iopub.execute_input": "2021-09-13T16:30:07.361385Z",
     "iopub.status.busy": "2021-09-13T16:30:07.359448Z",
     "iopub.status.idle": "2021-09-13T16:30:08.170163Z",
     "shell.execute_reply": "2021-09-13T16:30:08.168599Z"
    },
    "papermill": {
     "duration": 0.862847,
     "end_time": "2021-09-13T16:30:08.170554",
     "exception": false,
     "start_time": "2021-09-13T16:30:07.307707",
     "status": "completed"
    },
    "tags": []
   },
   "outputs": [],
   "source": [
    "import pandas as pd\n",
    "import sqlite3"
   ]
  },
  {
   "cell_type": "code",
   "execution_count": 2,
   "id": "innovative-syndrome",
   "metadata": {
    "execution": {
     "iopub.execute_input": "2021-09-13T16:30:08.223327Z",
     "iopub.status.busy": "2021-09-13T16:30:08.220916Z",
     "iopub.status.idle": "2021-09-13T16:30:08.502301Z",
     "shell.execute_reply": "2021-09-13T16:30:08.503563Z"
    },
    "papermill": {
     "duration": 0.311088,
     "end_time": "2021-09-13T16:30:08.503960",
     "exception": false,
     "start_time": "2021-09-13T16:30:08.192872",
     "status": "completed"
    },
    "tags": []
   },
   "outputs": [],
   "source": [
    "timestamps = pd.read_sql(\"select distinct record_time from EBAY_TOP_BERLIN order by record_time desc limit 2\", sqlite3.connect(\"UsedObjects.db\"))"
   ]
  },
  {
   "cell_type": "code",
   "execution_count": 3,
   "id": "periodic-identification",
   "metadata": {
    "execution": {
     "iopub.execute_input": "2021-09-13T16:30:08.567080Z",
     "iopub.status.busy": "2021-09-13T16:30:08.564953Z",
     "iopub.status.idle": "2021-09-13T16:30:08.584732Z",
     "shell.execute_reply": "2021-09-13T16:30:08.586016Z"
    },
    "papermill": {
     "duration": 0.063125,
     "end_time": "2021-09-13T16:30:08.586425",
     "exception": false,
     "start_time": "2021-09-13T16:30:08.523300",
     "status": "completed"
    },
    "tags": []
   },
   "outputs": [
    {
     "data": {
      "text/html": [
       "<div>\n",
       "<style scoped>\n",
       "    .dataframe tbody tr th:only-of-type {\n",
       "        vertical-align: middle;\n",
       "    }\n",
       "\n",
       "    .dataframe tbody tr th {\n",
       "        vertical-align: top;\n",
       "    }\n",
       "\n",
       "    .dataframe thead th {\n",
       "        text-align: right;\n",
       "    }\n",
       "</style>\n",
       "<table border=\"1\" class=\"dataframe\">\n",
       "  <thead>\n",
       "    <tr style=\"text-align: right;\">\n",
       "      <th></th>\n",
       "      <th>RECORD_TIME</th>\n",
       "    </tr>\n",
       "  </thead>\n",
       "  <tbody>\n",
       "    <tr>\n",
       "      <th>0</th>\n",
       "      <td>2021-09-13 18:30</td>\n",
       "    </tr>\n",
       "    <tr>\n",
       "      <th>1</th>\n",
       "      <td>2021-09-13 18:00</td>\n",
       "    </tr>\n",
       "  </tbody>\n",
       "</table>\n",
       "</div>"
      ],
      "text/plain": [
       "        RECORD_TIME\n",
       "0  2021-09-13 18:30\n",
       "1  2021-09-13 18:00"
      ]
     },
     "execution_count": 3,
     "metadata": {},
     "output_type": "execute_result"
    }
   ],
   "source": [
    "timestamps"
   ]
  },
  {
   "cell_type": "code",
   "execution_count": 4,
   "id": "alternate-victory",
   "metadata": {
    "execution": {
     "iopub.execute_input": "2021-09-13T16:30:08.636917Z",
     "iopub.status.busy": "2021-09-13T16:30:08.635060Z",
     "iopub.status.idle": "2021-09-13T16:30:09.057191Z",
     "shell.execute_reply": "2021-09-13T16:30:09.058318Z"
    },
    "papermill": {
     "duration": 0.451985,
     "end_time": "2021-09-13T16:30:09.058722",
     "exception": false,
     "start_time": "2021-09-13T16:30:08.606737",
     "status": "completed"
    },
    "tags": []
   },
   "outputs": [],
   "source": [
    "df = pd.read_sql(\"select * from EBAY_TOP_BERLIN where record_time in (select distinct record_time from EBAY_TOP_BERLIN order by record_time desc limit 2)\", sqlite3.connect(\"UsedObjects.db\"))"
   ]
  },
  {
   "cell_type": "code",
   "execution_count": 5,
   "id": "popular-active",
   "metadata": {
    "execution": {
     "iopub.execute_input": "2021-09-13T16:30:09.129704Z",
     "iopub.status.busy": "2021-09-13T16:30:09.127538Z",
     "iopub.status.idle": "2021-09-13T16:30:09.154627Z",
     "shell.execute_reply": "2021-09-13T16:30:09.155906Z"
    },
    "papermill": {
     "duration": 0.069544,
     "end_time": "2021-09-13T16:30:09.156298",
     "exception": false,
     "start_time": "2021-09-13T16:30:09.086754",
     "status": "completed"
    },
    "tags": []
   },
   "outputs": [],
   "source": [
    "df_pivot = df.pivot_table(index=\"PRODUCT\", columns = \"RECORD_TIME\", values = \"LISTING_COUNT\")"
   ]
  },
  {
   "cell_type": "code",
   "execution_count": 6,
   "id": "union-huntington",
   "metadata": {
    "execution": {
     "iopub.execute_input": "2021-09-13T16:30:09.212758Z",
     "iopub.status.busy": "2021-09-13T16:30:09.210662Z",
     "iopub.status.idle": "2021-09-13T16:30:09.215908Z",
     "shell.execute_reply": "2021-09-13T16:30:09.217239Z"
    },
    "papermill": {
     "duration": 0.040059,
     "end_time": "2021-09-13T16:30:09.217645",
     "exception": false,
     "start_time": "2021-09-13T16:30:09.177586",
     "status": "completed"
    },
    "tags": []
   },
   "outputs": [],
   "source": [
    "df_pivot.columns = [\"stamp_1\", \"stamp_2\"]\n",
    "df_pivot_diff = df_pivot.diff(axis=1)"
   ]
  },
  {
   "cell_type": "code",
   "execution_count": 7,
   "id": "fifth-motion",
   "metadata": {
    "execution": {
     "iopub.execute_input": "2021-09-13T16:30:09.272372Z",
     "iopub.status.busy": "2021-09-13T16:30:09.269847Z",
     "iopub.status.idle": "2021-09-13T16:30:10.758407Z",
     "shell.execute_reply": "2021-09-13T16:30:10.759872Z"
    },
    "papermill": {
     "duration": 1.521633,
     "end_time": "2021-09-13T16:30:10.760325",
     "exception": false,
     "start_time": "2021-09-13T16:30:09.238692",
     "status": "completed"
    },
    "tags": []
   },
   "outputs": [
    {
     "data": {
      "text/plain": [
       "<AxesSubplot:ylabel='PRODUCT'>"
      ]
     },
     "execution_count": 7,
     "metadata": {},
     "output_type": "execute_result"
    },
    {
     "data": {
      "image/png": "[encoded data removed]",
      "text/plain": [
       "<Figure size 432x288 with 1 Axes>"
      ]
     },
     "metadata": {
      "needs_background": "light"
     },
     "output_type": "display_data"
    }
   ],
   "source": [
    "df_pivot_diff.sort_values(\"stamp_2\", ascending = False)[\"stamp_2\"].head(10).plot.barh()"
   ]
  },
  {
   "cell_type": "code",
   "execution_count": null,
   "id": "extra-executive",
   "metadata": {
    "papermill": {
     "duration": 0.021918,
     "end_time": "2021-09-13T16:30:10.806676",
     "exception": false,
     "start_time": "2021-09-13T16:30:10.784758",
     "status": "completed"
    },
    "tags": []
   },
   "outputs": [],
   "source": []
  }
 ],
 "metadata": {
  "kernelspec": {
   "display_name": "Python 3",
   "language": "python",
   "name": "python3"
  },
  "language_info": {
   "codemirror_mode": {
    "name": "ipython",
    "version": 3
   },
   "file_extension": ".py",
   "mimetype": "text/x-python",
   "name": "python",
   "nbconvert_exporter": "python",
   "pygments_lexer": "ipython3",
   "version": "3.9.5"
  },
  "papermill": {
   "default_parameters": {},
   "duration": 6.55309,
   "end_time": "2021-09-13T16:30:11.449122",
   "environment_variables": {},
   "exception": null,
   "input_path": "eBay_Overview.ipynb",
   "output_path": "eBay_Overview.ipynb",
   "parameters": {},
   "start_time": "2021-09-13T16:30:04.896032",
   "version": "2.3.3"
  }
 },
 "nbformat": 4,
 "nbformat_minor": 5
}