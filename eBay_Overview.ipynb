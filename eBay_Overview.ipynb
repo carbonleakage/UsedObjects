{
 "cells": [
  {
   "cell_type": "code",
   "execution_count": 1,
   "id": "reverse-picking",
   "metadata": {
    "execution": {
     "iopub.execute_input": "2021-11-26T22:00:08.125949Z",
     "iopub.status.busy": "2021-11-26T22:00:08.118100Z",
     "iopub.status.idle": "2021-11-26T22:00:09.087265Z",
     "shell.execute_reply": "2021-11-26T22:00:09.084670Z"
    },
    "papermill": {
     "duration": 1.012154,
     "end_time": "2021-11-26T22:00:09.087749",
     "exception": false,
     "start_time": "2021-11-26T22:00:08.075595",
     "status": "completed"
    },
    "tags": []
   },
   "outputs": [],
   "source": [
    "import pandas as pd\n",
    "import sqlite3"
   ]
  },
  {
   "cell_type": "code",
   "execution_count": 2,
   "id": "innovative-syndrome",
   "metadata": {
    "execution": {
     "iopub.execute_input": "2021-11-26T22:00:09.155132Z",
     "iopub.status.busy": "2021-11-26T22:00:09.152422Z",
     "iopub.status.idle": "2021-11-26T22:00:10.198224Z",
     "shell.execute_reply": "2021-11-26T22:00:10.199450Z"
    },
    "papermill": {
     "duration": 1.080523,
     "end_time": "2021-11-26T22:00:10.199850",
     "exception": false,
     "start_time": "2021-11-26T22:00:09.119327",
     "status": "completed"
    },
    "tags": []
   },
   "outputs": [],
   "source": [
    "timestamps = pd.read_sql(\"select distinct record_time from EBAY_TOP_BERLIN order by record_time desc limit 2\", sqlite3.connect(\"UsedObjects.db\"))"
   ]
  },
  {
   "cell_type": "code",
   "execution_count": 3,
   "id": "periodic-identification",
   "metadata": {
    "execution": {
     "iopub.execute_input": "2021-11-26T22:00:10.267378Z",
     "iopub.status.busy": "2021-11-26T22:00:10.265352Z",
     "iopub.status.idle": "2021-11-26T22:00:10.285887Z",
     "shell.execute_reply": "2021-11-26T22:00:10.287240Z"
    },
    "papermill": {
     "duration": 0.066277,
     "end_time": "2021-11-26T22:00:10.287728",
     "exception": false,
     "start_time": "2021-11-26T22:00:10.221451",
     "status": "completed"
    },
    "tags": []
   },
   "outputs": [
    {
     "data": {
      "text/html": [
       "<div>\n",
       "<style scoped>\n",
       "    .dataframe tbody tr th:only-of-type {\n",
       "        vertical-align: middle;\n",
       "    }\n",
       "\n",
       "    .dataframe tbody tr th {\n",
       "        vertical-align: top;\n",
       "    }\n",
       "\n",
       "    .dataframe thead th {\n",
       "        text-align: right;\n",
       "    }\n",
       "</style>\n",
       "<table border=\"1\" class=\"dataframe\">\n",
       "  <thead>\n",
       "    <tr style=\"text-align: right;\">\n",
       "      <th></th>\n",
       "      <th>RECORD_TIME</th>\n",
       "    </tr>\n",
       "  </thead>\n",
       "  <tbody>\n",
       "    <tr>\n",
       "      <th>0</th>\n",
       "      <td>2021-11-26 23:00</td>\n",
       "    </tr>\n",
       "    <tr>\n",
       "      <th>1</th>\n",
       "      <td>2021-11-26 22:30</td>\n",
       "    </tr>\n",
       "  </tbody>\n",
       "</table>\n",
       "</div>"
      ],
      "text/plain": [
       "        RECORD_TIME\n",
       "0  2021-11-26 23:00\n",
       "1  2021-11-26 22:30"
      ]
     },
     "execution_count": 3,
     "metadata": {},
     "output_type": "execute_result"
    }
   ],
   "source": [
    "timestamps"
   ]
  },
  {
   "cell_type": "code",
   "execution_count": 4,
   "id": "alternate-victory",
   "metadata": {
    "execution": {
     "iopub.execute_input": "2021-11-26T22:00:10.339058Z",
     "iopub.status.busy": "2021-11-26T22:00:10.337189Z",
     "iopub.status.idle": "2021-11-26T22:00:11.702886Z",
     "shell.execute_reply": "2021-11-26T22:00:11.704675Z"
    },
    "papermill": {
     "duration": 1.396492,
     "end_time": "2021-11-26T22:00:11.705230",
     "exception": false,
     "start_time": "2021-11-26T22:00:10.308738",
     "status": "completed"
    },
    "tags": []
   },
   "outputs": [],
   "source": [
    "df = pd.read_sql(\"select * from EBAY_TOP_BERLIN where record_time in (select distinct record_time from EBAY_TOP_BERLIN order by record_time desc limit 2)\", sqlite3.connect(\"UsedObjects.db\"))"
   ]
  },
  {
   "cell_type": "code",
   "execution_count": 5,
   "id": "popular-active",
   "metadata": {
    "execution": {
     "iopub.execute_input": "2021-11-26T22:00:11.781402Z",
     "iopub.status.busy": "2021-11-26T22:00:11.778691Z",
     "iopub.status.idle": "2021-11-26T22:00:11.813454Z",
     "shell.execute_reply": "2021-11-26T22:00:11.815260Z"
    },
    "papermill": {
     "duration": 0.085339,
     "end_time": "2021-11-26T22:00:11.815812",
     "exception": false,
     "start_time": "2021-11-26T22:00:11.730473",
     "status": "completed"
    },
    "tags": []
   },
   "outputs": [],
   "source": [
    "df_pivot = df.pivot_table(index=\"PRODUCT\", columns = \"RECORD_TIME\", values = \"LISTING_COUNT\")"
   ]
  },
  {
   "cell_type": "code",
   "execution_count": 6,
   "id": "union-huntington",
   "metadata": {
    "execution": {
     "iopub.execute_input": "2021-11-26T22:00:11.878188Z",
     "iopub.status.busy": "2021-11-26T22:00:11.875928Z",
     "iopub.status.idle": "2021-11-26T22:00:11.880929Z",
     "shell.execute_reply": "2021-11-26T22:00:11.882727Z"
    },
    "papermill": {
     "duration": 0.043996,
     "end_time": "2021-11-26T22:00:11.883193",
     "exception": false,
     "start_time": "2021-11-26T22:00:11.839197",
     "status": "completed"
    },
    "tags": []
   },
   "outputs": [],
   "source": [
    "df_pivot.columns = [\"stamp_1\", \"stamp_2\"]\n",
    "df_pivot_diff = df_pivot.diff(axis=1)"
   ]
  },
  {
   "cell_type": "code",
   "execution_count": 7,
   "id": "fifth-motion",
   "metadata": {
    "execution": {
     "iopub.execute_input": "2021-11-26T22:00:11.938469Z",
     "iopub.status.busy": "2021-11-26T22:00:11.935827Z",
     "iopub.status.idle": "2021-11-26T22:00:13.962131Z",
     "shell.execute_reply": "2021-11-26T22:00:13.963912Z"
    },
    "papermill": {
     "duration": 2.061904,
     "end_time": "2021-11-26T22:00:13.964526",
     "exception": false,
     "start_time": "2021-11-26T22:00:11.902622",
     "status": "completed"
    },
    "tags": []
   },
   "outputs": [
    {
     "data": {
      "text/plain": [
       "<AxesSubplot:ylabel='PRODUCT'>"
      ]
     },
     "execution_count": 7,
     "metadata": {},
     "output_type": "execute_result"
    },
    {
     "data": {
      "image/png": "[encoded data removed]",
      "text/plain": [
       "<Figure size 432x288 with 1 Axes>"
      ]
     },
     "metadata": {
      "needs_background": "light"
     },
     "output_type": "display_data"
    }
   ],
   "source": [
    "df_pivot_diff.sort_values(\"stamp_2\", ascending = False)[\"stamp_2\"].head(10).plot.barh()"
   ]
  },
  {
   "cell_type": "code",
   "execution_count": null,
   "id": "extra-executive",
   "metadata": {
    "papermill": {
     "duration": 0.027744,
     "end_time": "2021-11-26T22:00:14.020894",
     "exception": false,
     "start_time": "2021-11-26T22:00:13.993150",
     "status": "completed"
    },
    "tags": []
   },
   "outputs": [],
   "source": []
  }
 ],
 "metadata": {
  "kernelspec": {
   "display_name": "Python 3",
   "language": "python",
   "name": "python3"
  },
  "language_info": {
   "codemirror_mode": {
    "name": "ipython",
    "version": 3
   },
   "file_extension": ".py",
   "mimetype": "text/x-python",
   "name": "python",
   "nbconvert_exporter": "python",
   "pygments_lexer": "ipython3",
   "version": "3.9.5"
  },
  "papermill": {
   "default_parameters": {},
   "duration": 9.956692,
   "end_time": "2021-11-26T22:00:15.303636",
   "environment_variables": {},
   "exception": null,
   "input_path": "eBay_Overview.ipynb",
   "output_path": "eBay_Overview.ipynb",
   "parameters": {},
   "start_time": "2021-11-26T22:00:05.346944",
   "version": "2.3.3"
  }
 },
 "nbformat": 4,
 "nbformat_minor": 5
}