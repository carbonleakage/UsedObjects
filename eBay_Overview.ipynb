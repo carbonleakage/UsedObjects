{
 "cells": [
  {
   "cell_type": "code",
   "execution_count": 1,
   "id": "reverse-picking",
   "metadata": {
    "execution": {
     "iopub.execute_input": "2021-11-03T04:00:07.393799Z",
     "iopub.status.busy": "2021-11-03T04:00:07.381615Z",
     "iopub.status.idle": "2021-11-03T04:00:08.338721Z",
     "shell.execute_reply": "2021-11-03T04:00:08.340067Z"
    },
    "papermill": {
     "duration": 0.994431,
     "end_time": "2021-11-03T04:00:08.340784",
     "exception": false,
     "start_time": "2021-11-03T04:00:07.346353",
     "status": "completed"
    },
    "tags": []
   },
   "outputs": [],
   "source": [
    "import pandas as pd\n",
    "import sqlite3"
   ]
  },
  {
   "cell_type": "code",
   "execution_count": 2,
   "id": "innovative-syndrome",
   "metadata": {
    "execution": {
     "iopub.execute_input": "2021-11-03T04:00:08.403599Z",
     "iopub.status.busy": "2021-11-03T04:00:08.401403Z",
     "iopub.status.idle": "2021-11-03T04:00:09.166733Z",
     "shell.execute_reply": "2021-11-03T04:00:09.168133Z"
    },
    "papermill": {
     "duration": 0.806165,
     "end_time": "2021-11-03T04:00:09.168597",
     "exception": false,
     "start_time": "2021-11-03T04:00:08.362432",
     "status": "completed"
    },
    "tags": []
   },
   "outputs": [],
   "source": [
    "timestamps = pd.read_sql(\"select distinct record_time from EBAY_TOP_BERLIN order by record_time desc limit 2\", sqlite3.connect(\"UsedObjects.db\"))"
   ]
  },
  {
   "cell_type": "code",
   "execution_count": 3,
   "id": "periodic-identification",
   "metadata": {
    "execution": {
     "iopub.execute_input": "2021-11-03T04:00:09.240729Z",
     "iopub.status.busy": "2021-11-03T04:00:09.238605Z",
     "iopub.status.idle": "2021-11-03T04:00:09.260649Z",
     "shell.execute_reply": "2021-11-03T04:00:09.262194Z"
    },
    "papermill": {
     "duration": 0.0735,
     "end_time": "2021-11-03T04:00:09.262737",
     "exception": false,
     "start_time": "2021-11-03T04:00:09.189237",
     "status": "completed"
    },
    "tags": []
   },
   "outputs": [
    {
     "data": {
      "text/html": [
       "<div>\n",
       "<style scoped>\n",
       "    .dataframe tbody tr th:only-of-type {\n",
       "        vertical-align: middle;\n",
       "    }\n",
       "\n",
       "    .dataframe tbody tr th {\n",
       "        vertical-align: top;\n",
       "    }\n",
       "\n",
       "    .dataframe thead th {\n",
       "        text-align: right;\n",
       "    }\n",
       "</style>\n",
       "<table border=\"1\" class=\"dataframe\">\n",
       "  <thead>\n",
       "    <tr style=\"text-align: right;\">\n",
       "      <th></th>\n",
       "      <th>RECORD_TIME</th>\n",
       "    </tr>\n",
       "  </thead>\n",
       "  <tbody>\n",
       "    <tr>\n",
       "      <th>0</th>\n",
       "      <td>2021-11-03 05:00</td>\n",
       "    </tr>\n",
       "    <tr>\n",
       "      <th>1</th>\n",
       "      <td>2021-11-03 04:30</td>\n",
       "    </tr>\n",
       "  </tbody>\n",
       "</table>\n",
       "</div>"
      ],
      "text/plain": [
       "        RECORD_TIME\n",
       "0  2021-11-03 05:00\n",
       "1  2021-11-03 04:30"
      ]
     },
     "execution_count": 3,
     "metadata": {},
     "output_type": "execute_result"
    }
   ],
   "source": [
    "timestamps"
   ]
  },
  {
   "cell_type": "code",
   "execution_count": 4,
   "id": "alternate-victory",
   "metadata": {
    "execution": {
     "iopub.execute_input": "2021-11-03T04:00:09.317156Z",
     "iopub.status.busy": "2021-11-03T04:00:09.314992Z",
     "iopub.status.idle": "2021-11-03T04:00:10.357862Z",
     "shell.execute_reply": "2021-11-03T04:00:10.359473Z"
    },
    "papermill": {
     "duration": 1.075825,
     "end_time": "2021-11-03T04:00:10.359997",
     "exception": false,
     "start_time": "2021-11-03T04:00:09.284172",
     "status": "completed"
    },
    "tags": []
   },
   "outputs": [],
   "source": [
    "df = pd.read_sql(\"select * from EBAY_TOP_BERLIN where record_time in (select distinct record_time from EBAY_TOP_BERLIN order by record_time desc limit 2)\", sqlite3.connect(\"UsedObjects.db\"))"
   ]
  },
  {
   "cell_type": "code",
   "execution_count": 5,
   "id": "popular-active",
   "metadata": {
    "execution": {
     "iopub.execute_input": "2021-11-03T04:00:10.440304Z",
     "iopub.status.busy": "2021-11-03T04:00:10.426933Z",
     "iopub.status.idle": "2021-11-03T04:00:10.459912Z",
     "shell.execute_reply": "2021-11-03T04:00:10.461524Z"
    },
    "papermill": {
     "duration": 0.078792,
     "end_time": "2021-11-03T04:00:10.462057",
     "exception": false,
     "start_time": "2021-11-03T04:00:10.383265",
     "status": "completed"
    },
    "tags": []
   },
   "outputs": [],
   "source": [
    "df_pivot = df.pivot_table(index=\"PRODUCT\", columns = \"RECORD_TIME\", values = \"LISTING_COUNT\")"
   ]
  },
  {
   "cell_type": "code",
   "execution_count": 6,
   "id": "union-huntington",
   "metadata": {
    "execution": {
     "iopub.execute_input": "2021-11-03T04:00:10.525251Z",
     "iopub.status.busy": "2021-11-03T04:00:10.522873Z",
     "iopub.status.idle": "2021-11-03T04:00:10.529533Z",
     "shell.execute_reply": "2021-11-03T04:00:10.531034Z"
    },
    "papermill": {
     "duration": 0.047763,
     "end_time": "2021-11-03T04:00:10.531542",
     "exception": false,
     "start_time": "2021-11-03T04:00:10.483779",
     "status": "completed"
    },
    "tags": []
   },
   "outputs": [],
   "source": [
    "df_pivot.columns = [\"stamp_1\", \"stamp_2\"]\n",
    "df_pivot_diff = df_pivot.diff(axis=1)"
   ]
  },
  {
   "cell_type": "code",
   "execution_count": 7,
   "id": "fifth-motion",
   "metadata": {
    "execution": {
     "iopub.execute_input": "2021-11-03T04:00:10.593079Z",
     "iopub.status.busy": "2021-11-03T04:00:10.590403Z",
     "iopub.status.idle": "2021-11-03T04:00:12.362064Z",
     "shell.execute_reply": "2021-11-03T04:00:12.364838Z"
    },
    "papermill": {
     "duration": 1.812118,
     "end_time": "2021-11-03T04:00:12.365601",
     "exception": false,
     "start_time": "2021-11-03T04:00:10.553483",
     "status": "completed"
    },
    "tags": []
   },
   "outputs": [
    {
     "data": {
      "text/plain": [
       "<AxesSubplot:ylabel='PRODUCT'>"
      ]
     },
     "execution_count": 7,
     "metadata": {},
     "output_type": "execute_result"
    },
    {
     "data": {
      "image/png": "[encoded data removed]",
      "text/plain": [
       "<Figure size 432x288 with 1 Axes>"
      ]
     },
     "metadata": {
      "needs_background": "light"
     },
     "output_type": "display_data"
    }
   ],
   "source": [
    "df_pivot_diff.sort_values(\"stamp_2\", ascending = False)[\"stamp_2\"].head(10).plot.barh()"
   ]
  },
  {
   "cell_type": "code",
   "execution_count": null,
   "id": "extra-executive",
   "metadata": {
    "papermill": {
     "duration": 0.035032,
     "end_time": "2021-11-03T04:00:12.436557",
     "exception": false,
     "start_time": "2021-11-03T04:00:12.401525",
     "status": "completed"
    },
    "tags": []
   },
   "outputs": [],
   "source": []
  }
 ],
 "metadata": {
  "kernelspec": {
   "display_name": "Python 3",
   "language": "python",
   "name": "python3"
  },
  "language_info": {
   "codemirror_mode": {
    "name": "ipython",
    "version": 3
   },
   "file_extension": ".py",
   "mimetype": "text/x-python",
   "name": "python",
   "nbconvert_exporter": "python",
   "pygments_lexer": "ipython3",
   "version": "3.9.5"
  },
  "papermill": {
   "default_parameters": {},
   "duration": 8.762905,
   "end_time": "2021-11-03T04:00:13.307145",
   "environment_variables": {},
   "exception": null,
   "input_path": "eBay_Overview.ipynb",
   "output_path": "eBay_Overview.ipynb",
   "parameters": {},
   "start_time": "2021-11-03T04:00:04.544240",
   "version": "2.3.3"
  }
 },
 "nbformat": 4,
 "nbformat_minor": 5
}