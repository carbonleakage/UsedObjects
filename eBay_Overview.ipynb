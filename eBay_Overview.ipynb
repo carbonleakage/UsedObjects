{
 "cells": [
  {
   "cell_type": "code",
   "execution_count": 1,
   "id": "reverse-picking",
   "metadata": {
    "execution": {
     "iopub.execute_input": "2021-08-14T01:30:06.935952Z",
     "iopub.status.busy": "2021-08-14T01:30:06.933976Z",
     "iopub.status.idle": "2021-08-14T01:30:07.741282Z",
     "shell.execute_reply": "2021-08-14T01:30:07.742653Z"
    },
    "papermill": {
     "duration": 0.859408,
     "end_time": "2021-08-14T01:30:07.743279",
     "exception": false,
     "start_time": "2021-08-14T01:30:06.883871",
     "status": "completed"
    },
    "tags": []
   },
   "outputs": [],
   "source": [
    "import pandas as pd\n",
    "import sqlite3"
   ]
  },
  {
   "cell_type": "code",
   "execution_count": 2,
   "id": "innovative-syndrome",
   "metadata": {
    "execution": {
     "iopub.execute_input": "2021-08-14T01:30:07.793606Z",
     "iopub.status.busy": "2021-08-14T01:30:07.791703Z",
     "iopub.status.idle": "2021-08-14T01:30:07.835990Z",
     "shell.execute_reply": "2021-08-14T01:30:07.837190Z"
    },
    "papermill": {
     "duration": 0.073651,
     "end_time": "2021-08-14T01:30:07.837586",
     "exception": false,
     "start_time": "2021-08-14T01:30:07.763935",
     "status": "completed"
    },
    "tags": []
   },
   "outputs": [],
   "source": [
    "timestamps = pd.read_sql(\"select distinct record_time from EBAY_TOP_BERLIN order by record_time desc limit 2\", sqlite3.connect(\"UsedObjects.db\"))"
   ]
  },
  {
   "cell_type": "code",
   "execution_count": 3,
   "id": "periodic-identification",
   "metadata": {
    "execution": {
     "iopub.execute_input": "2021-08-14T01:30:07.901822Z",
     "iopub.status.busy": "2021-08-14T01:30:07.899776Z",
     "iopub.status.idle": "2021-08-14T01:30:07.919677Z",
     "shell.execute_reply": "2021-08-14T01:30:07.920974Z"
    },
    "papermill": {
     "duration": 0.063378,
     "end_time": "2021-08-14T01:30:07.921389",
     "exception": false,
     "start_time": "2021-08-14T01:30:07.858011",
     "status": "completed"
    },
    "tags": []
   },
   "outputs": [
    {
     "data": {
      "text/html": [
       "<div>\n",
       "<style scoped>\n",
       "    .dataframe tbody tr th:only-of-type {\n",
       "        vertical-align: middle;\n",
       "    }\n",
       "\n",
       "    .dataframe tbody tr th {\n",
       "        vertical-align: top;\n",
       "    }\n",
       "\n",
       "    .dataframe thead th {\n",
       "        text-align: right;\n",
       "    }\n",
       "</style>\n",
       "<table border=\"1\" class=\"dataframe\">\n",
       "  <thead>\n",
       "    <tr style=\"text-align: right;\">\n",
       "      <th></th>\n",
       "      <th>RECORD_TIME</th>\n",
       "    </tr>\n",
       "  </thead>\n",
       "  <tbody>\n",
       "    <tr>\n",
       "      <th>0</th>\n",
       "      <td>2021-08-14 03:30</td>\n",
       "    </tr>\n",
       "    <tr>\n",
       "      <th>1</th>\n",
       "      <td>2021-08-14 03:00</td>\n",
       "    </tr>\n",
       "  </tbody>\n",
       "</table>\n",
       "</div>"
      ],
      "text/plain": [
       "        RECORD_TIME\n",
       "0  2021-08-14 03:30\n",
       "1  2021-08-14 03:00"
      ]
     },
     "execution_count": 3,
     "metadata": {},
     "output_type": "execute_result"
    }
   ],
   "source": [
    "timestamps"
   ]
  },
  {
   "cell_type": "code",
   "execution_count": 4,
   "id": "alternate-victory",
   "metadata": {
    "execution": {
     "iopub.execute_input": "2021-08-14T01:30:07.973999Z",
     "iopub.status.busy": "2021-08-14T01:30:07.971678Z",
     "iopub.status.idle": "2021-08-14T01:30:08.038290Z",
     "shell.execute_reply": "2021-08-14T01:30:08.039663Z"
    },
    "papermill": {
     "duration": 0.097239,
     "end_time": "2021-08-14T01:30:08.040071",
     "exception": false,
     "start_time": "2021-08-14T01:30:07.942832",
     "status": "completed"
    },
    "tags": []
   },
   "outputs": [],
   "source": [
    "df = pd.read_sql(\"select * from EBAY_TOP_BERLIN where record_time in (select distinct record_time from EBAY_TOP_BERLIN order by record_time desc limit 2)\", sqlite3.connect(\"UsedObjects.db\"))"
   ]
  },
  {
   "cell_type": "code",
   "execution_count": 5,
   "id": "popular-active",
   "metadata": {
    "execution": {
     "iopub.execute_input": "2021-08-14T01:30:08.110995Z",
     "iopub.status.busy": "2021-08-14T01:30:08.099095Z",
     "iopub.status.idle": "2021-08-14T01:30:08.126430Z",
     "shell.execute_reply": "2021-08-14T01:30:08.127663Z"
    },
    "papermill": {
     "duration": 0.067821,
     "end_time": "2021-08-14T01:30:08.128067",
     "exception": false,
     "start_time": "2021-08-14T01:30:08.060246",
     "status": "completed"
    },
    "tags": []
   },
   "outputs": [],
   "source": [
    "df_pivot = df.pivot_table(index=\"PRODUCT\", columns = \"RECORD_TIME\", values = \"LISTING_COUNT\")"
   ]
  },
  {
   "cell_type": "code",
   "execution_count": 6,
   "id": "union-huntington",
   "metadata": {
    "execution": {
     "iopub.execute_input": "2021-08-14T01:30:08.184489Z",
     "iopub.status.busy": "2021-08-14T01:30:08.182299Z",
     "iopub.status.idle": "2021-08-14T01:30:08.187733Z",
     "shell.execute_reply": "2021-08-14T01:30:08.189092Z"
    },
    "papermill": {
     "duration": 0.040959,
     "end_time": "2021-08-14T01:30:08.189534",
     "exception": false,
     "start_time": "2021-08-14T01:30:08.148575",
     "status": "completed"
    },
    "tags": []
   },
   "outputs": [],
   "source": [
    "df_pivot.columns = [\"stamp_1\", \"stamp_2\"]\n",
    "df_pivot_diff = df_pivot.diff(axis=1)"
   ]
  },
  {
   "cell_type": "code",
   "execution_count": 7,
   "id": "fifth-motion",
   "metadata": {
    "execution": {
     "iopub.execute_input": "2021-08-14T01:30:08.245987Z",
     "iopub.status.busy": "2021-08-14T01:30:08.243223Z",
     "iopub.status.idle": "2021-08-14T01:30:09.722408Z",
     "shell.execute_reply": "2021-08-14T01:30:09.723720Z"
    },
    "papermill": {
     "duration": 1.512664,
     "end_time": "2021-08-14T01:30:09.724143",
     "exception": false,
     "start_time": "2021-08-14T01:30:08.211479",
     "status": "completed"
    },
    "tags": []
   },
   "outputs": [
    {
     "data": {
      "text/plain": [
       "<AxesSubplot:ylabel='PRODUCT'>"
      ]
     },
     "execution_count": 7,
     "metadata": {},
     "output_type": "execute_result"
    },
    {
     "data": {
      "image/png": "[encoded data removed]",
      "text/plain": [
       "<Figure size 432x288 with 1 Axes>"
      ]
     },
     "metadata": {
      "needs_background": "light"
     },
     "output_type": "display_data"
    }
   ],
   "source": [
    "df_pivot_diff.sort_values(\"stamp_2\", ascending = False)[\"stamp_2\"].head(10).plot.barh()"
   ]
  },
  {
   "cell_type": "code",
   "execution_count": null,
   "id": "extra-executive",
   "metadata": {
    "papermill": {
     "duration": 0.022052,
     "end_time": "2021-08-14T01:30:09.770021",
     "exception": false,
     "start_time": "2021-08-14T01:30:09.747969",
     "status": "completed"
    },
    "tags": []
   },
   "outputs": [],
   "source": []
  }
 ],
 "metadata": {
  "kernelspec": {
   "display_name": "Python 3",
   "language": "python",
   "name": "python3"
  },
  "language_info": {
   "codemirror_mode": {
    "name": "ipython",
    "version": 3
   },
   "file_extension": ".py",
   "mimetype": "text/x-python",
   "name": "python",
   "nbconvert_exporter": "python",
   "pygments_lexer": "ipython3",
   "version": "3.9.5"
  },
  "papermill": {
   "default_parameters": {},
   "duration": 6.828715,
   "end_time": "2021-08-14T01:30:11.294683",
   "environment_variables": {},
   "exception": null,
   "input_path": "eBay_Overview.ipynb",
   "output_path": "eBay_Overview.ipynb",
   "parameters": {},
   "start_time": "2021-08-14T01:30:04.465968",
   "version": "2.3.3"
  }
 },
 "nbformat": 4,
 "nbformat_minor": 5
}