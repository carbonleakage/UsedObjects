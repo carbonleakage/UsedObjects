{
 "cells": [
  {
   "cell_type": "code",
   "execution_count": 1,
   "id": "reverse-picking",
   "metadata": {
    "execution": {
     "iopub.execute_input": "2021-08-27T20:00:06.609366Z",
     "iopub.status.busy": "2021-08-27T20:00:06.607331Z",
     "iopub.status.idle": "2021-08-27T20:00:07.410873Z",
     "shell.execute_reply": "2021-08-27T20:00:07.409280Z"
    },
    "papermill": {
     "duration": 0.85113,
     "end_time": "2021-08-27T20:00:07.411263",
     "exception": false,
     "start_time": "2021-08-27T20:00:06.560133",
     "status": "completed"
    },
    "tags": []
   },
   "outputs": [],
   "source": [
    "import pandas as pd\n",
    "import sqlite3"
   ]
  },
  {
   "cell_type": "code",
   "execution_count": 2,
   "id": "innovative-syndrome",
   "metadata": {
    "execution": {
     "iopub.execute_input": "2021-08-27T20:00:07.461875Z",
     "iopub.status.busy": "2021-08-27T20:00:07.459914Z",
     "iopub.status.idle": "2021-08-27T20:00:07.602848Z",
     "shell.execute_reply": "2021-08-27T20:00:07.604052Z"
    },
    "papermill": {
     "duration": 0.172516,
     "end_time": "2021-08-27T20:00:07.604504",
     "exception": false,
     "start_time": "2021-08-27T20:00:07.431988",
     "status": "completed"
    },
    "tags": []
   },
   "outputs": [],
   "source": [
    "timestamps = pd.read_sql(\"select distinct record_time from EBAY_TOP_BERLIN order by record_time desc limit 2\", sqlite3.connect(\"UsedObjects.db\"))"
   ]
  },
  {
   "cell_type": "code",
   "execution_count": 3,
   "id": "periodic-identification",
   "metadata": {
    "execution": {
     "iopub.execute_input": "2021-08-27T20:00:07.670233Z",
     "iopub.status.busy": "2021-08-27T20:00:07.668148Z",
     "iopub.status.idle": "2021-08-27T20:00:07.688217Z",
     "shell.execute_reply": "2021-08-27T20:00:07.689435Z"
    },
    "papermill": {
     "duration": 0.064217,
     "end_time": "2021-08-27T20:00:07.689845",
     "exception": false,
     "start_time": "2021-08-27T20:00:07.625628",
     "status": "completed"
    },
    "tags": []
   },
   "outputs": [
    {
     "data": {
      "text/html": [
       "<div>\n",
       "<style scoped>\n",
       "    .dataframe tbody tr th:only-of-type {\n",
       "        vertical-align: middle;\n",
       "    }\n",
       "\n",
       "    .dataframe tbody tr th {\n",
       "        vertical-align: top;\n",
       "    }\n",
       "\n",
       "    .dataframe thead th {\n",
       "        text-align: right;\n",
       "    }\n",
       "</style>\n",
       "<table border=\"1\" class=\"dataframe\">\n",
       "  <thead>\n",
       "    <tr style=\"text-align: right;\">\n",
       "      <th></th>\n",
       "      <th>RECORD_TIME</th>\n",
       "    </tr>\n",
       "  </thead>\n",
       "  <tbody>\n",
       "    <tr>\n",
       "      <th>0</th>\n",
       "      <td>2021-08-27 22:00</td>\n",
       "    </tr>\n",
       "    <tr>\n",
       "      <th>1</th>\n",
       "      <td>2021-08-27 21:30</td>\n",
       "    </tr>\n",
       "  </tbody>\n",
       "</table>\n",
       "</div>"
      ],
      "text/plain": [
       "        RECORD_TIME\n",
       "0  2021-08-27 22:00\n",
       "1  2021-08-27 21:30"
      ]
     },
     "execution_count": 3,
     "metadata": {},
     "output_type": "execute_result"
    }
   ],
   "source": [
    "timestamps"
   ]
  },
  {
   "cell_type": "code",
   "execution_count": 4,
   "id": "alternate-victory",
   "metadata": {
    "execution": {
     "iopub.execute_input": "2021-08-27T20:00:07.744346Z",
     "iopub.status.busy": "2021-08-27T20:00:07.742021Z",
     "iopub.status.idle": "2021-08-27T20:00:07.957867Z",
     "shell.execute_reply": "2021-08-27T20:00:07.959168Z"
    },
    "papermill": {
     "duration": 0.246455,
     "end_time": "2021-08-27T20:00:07.959579",
     "exception": false,
     "start_time": "2021-08-27T20:00:07.713124",
     "status": "completed"
    },
    "tags": []
   },
   "outputs": [],
   "source": [
    "df = pd.read_sql(\"select * from EBAY_TOP_BERLIN where record_time in (select distinct record_time from EBAY_TOP_BERLIN order by record_time desc limit 2)\", sqlite3.connect(\"UsedObjects.db\"))"
   ]
  },
  {
   "cell_type": "code",
   "execution_count": 5,
   "id": "popular-active",
   "metadata": {
    "execution": {
     "iopub.execute_input": "2021-08-27T20:00:08.029640Z",
     "iopub.status.busy": "2021-08-27T20:00:08.018345Z",
     "iopub.status.idle": "2021-08-27T20:00:08.046627Z",
     "shell.execute_reply": "2021-08-27T20:00:08.047836Z"
    },
    "papermill": {
     "duration": 0.068574,
     "end_time": "2021-08-27T20:00:08.048221",
     "exception": false,
     "start_time": "2021-08-27T20:00:07.979647",
     "status": "completed"
    },
    "tags": []
   },
   "outputs": [],
   "source": [
    "df_pivot = df.pivot_table(index=\"PRODUCT\", columns = \"RECORD_TIME\", values = \"LISTING_COUNT\")"
   ]
  },
  {
   "cell_type": "code",
   "execution_count": 6,
   "id": "union-huntington",
   "metadata": {
    "execution": {
     "iopub.execute_input": "2021-08-27T20:00:08.120626Z",
     "iopub.status.busy": "2021-08-27T20:00:08.118055Z",
     "iopub.status.idle": "2021-08-27T20:00:08.123669Z",
     "shell.execute_reply": "2021-08-27T20:00:08.125126Z"
    },
    "papermill": {
     "duration": 0.046687,
     "end_time": "2021-08-27T20:00:08.125587",
     "exception": false,
     "start_time": "2021-08-27T20:00:08.078900",
     "status": "completed"
    },
    "tags": []
   },
   "outputs": [],
   "source": [
    "df_pivot.columns = [\"stamp_1\", \"stamp_2\"]\n",
    "df_pivot_diff = df_pivot.diff(axis=1)"
   ]
  },
  {
   "cell_type": "code",
   "execution_count": 7,
   "id": "fifth-motion",
   "metadata": {
    "execution": {
     "iopub.execute_input": "2021-08-27T20:00:08.179547Z",
     "iopub.status.busy": "2021-08-27T20:00:08.177159Z",
     "iopub.status.idle": "2021-08-27T20:00:09.690803Z",
     "shell.execute_reply": "2021-08-27T20:00:09.692005Z"
    },
    "papermill": {
     "duration": 1.546941,
     "end_time": "2021-08-27T20:00:09.692486",
     "exception": false,
     "start_time": "2021-08-27T20:00:08.145545",
     "status": "completed"
    },
    "tags": []
   },
   "outputs": [
    {
     "data": {
      "text/plain": [
       "<AxesSubplot:ylabel='PRODUCT'>"
      ]
     },
     "execution_count": 7,
     "metadata": {},
     "output_type": "execute_result"
    },
    {
     "data": {
      "image/png": "[encoded data removed]",
      "text/plain": [
       "<Figure size 432x288 with 1 Axes>"
      ]
     },
     "metadata": {
      "needs_background": "light"
     },
     "output_type": "display_data"
    }
   ],
   "source": [
    "df_pivot_diff.sort_values(\"stamp_2\", ascending = False)[\"stamp_2\"].head(10).plot.barh()"
   ]
  },
  {
   "cell_type": "code",
   "execution_count": null,
   "id": "extra-executive",
   "metadata": {
    "papermill": {
     "duration": 0.022271,
     "end_time": "2021-08-27T20:00:09.738922",
     "exception": false,
     "start_time": "2021-08-27T20:00:09.716651",
     "status": "completed"
    },
    "tags": []
   },
   "outputs": [],
   "source": []
  }
 ],
 "metadata": {
  "kernelspec": {
   "display_name": "Python 3",
   "language": "python",
   "name": "python3"
  },
  "language_info": {
   "codemirror_mode": {
    "name": "ipython",
    "version": 3
   },
   "file_extension": ".py",
   "mimetype": "text/x-python",
   "name": "python",
   "nbconvert_exporter": "python",
   "pygments_lexer": "ipython3",
   "version": "3.9.5"
  },
  "papermill": {
   "default_parameters": {},
   "duration": 6.827809,
   "end_time": "2021-08-27T20:00:10.995902",
   "environment_variables": {},
   "exception": null,
   "input_path": "eBay_Overview.ipynb",
   "output_path": "eBay_Overview.ipynb",
   "parameters": {},
   "start_time": "2021-08-27T20:00:04.168093",
   "version": "2.3.3"
  }
 },
 "nbformat": 4,
 "nbformat_minor": 5
}