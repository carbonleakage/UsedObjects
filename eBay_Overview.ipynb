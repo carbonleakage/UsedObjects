{
 "cells": [
  {
   "cell_type": "code",
   "execution_count": 1,
   "id": "reverse-picking",
   "metadata": {
    "execution": {
     "iopub.execute_input": "2021-11-04T14:30:07.712510Z",
     "iopub.status.busy": "2021-11-04T14:30:07.710302Z",
     "iopub.status.idle": "2021-11-04T14:30:08.670499Z",
     "shell.execute_reply": "2021-11-04T14:30:08.671950Z"
    },
    "papermill": {
     "duration": 1.010006,
     "end_time": "2021-11-04T14:30:08.672722",
     "exception": false,
     "start_time": "2021-11-04T14:30:07.662716",
     "status": "completed"
    },
    "tags": []
   },
   "outputs": [],
   "source": [
    "import pandas as pd\n",
    "import sqlite3"
   ]
  },
  {
   "cell_type": "code",
   "execution_count": 2,
   "id": "innovative-syndrome",
   "metadata": {
    "execution": {
     "iopub.execute_input": "2021-11-04T14:30:08.727604Z",
     "iopub.status.busy": "2021-11-04T14:30:08.725345Z",
     "iopub.status.idle": "2021-11-04T14:30:09.466423Z",
     "shell.execute_reply": "2021-11-04T14:30:09.467993Z"
    },
    "papermill": {
     "duration": 0.774633,
     "end_time": "2021-11-04T14:30:09.468477",
     "exception": false,
     "start_time": "2021-11-04T14:30:08.693844",
     "status": "completed"
    },
    "tags": []
   },
   "outputs": [],
   "source": [
    "timestamps = pd.read_sql(\"select distinct record_time from EBAY_TOP_BERLIN order by record_time desc limit 2\", sqlite3.connect(\"UsedObjects.db\"))"
   ]
  },
  {
   "cell_type": "code",
   "execution_count": 3,
   "id": "periodic-identification",
   "metadata": {
    "execution": {
     "iopub.execute_input": "2021-11-04T14:30:09.544305Z",
     "iopub.status.busy": "2021-11-04T14:30:09.537930Z",
     "iopub.status.idle": "2021-11-04T14:30:09.560203Z",
     "shell.execute_reply": "2021-11-04T14:30:09.561646Z"
    },
    "papermill": {
     "duration": 0.073496,
     "end_time": "2021-11-04T14:30:09.562152",
     "exception": false,
     "start_time": "2021-11-04T14:30:09.488656",
     "status": "completed"
    },
    "tags": []
   },
   "outputs": [
    {
     "data": {
      "text/html": [
       "<div>\n",
       "<style scoped>\n",
       "    .dataframe tbody tr th:only-of-type {\n",
       "        vertical-align: middle;\n",
       "    }\n",
       "\n",
       "    .dataframe tbody tr th {\n",
       "        vertical-align: top;\n",
       "    }\n",
       "\n",
       "    .dataframe thead th {\n",
       "        text-align: right;\n",
       "    }\n",
       "</style>\n",
       "<table border=\"1\" class=\"dataframe\">\n",
       "  <thead>\n",
       "    <tr style=\"text-align: right;\">\n",
       "      <th></th>\n",
       "      <th>RECORD_TIME</th>\n",
       "    </tr>\n",
       "  </thead>\n",
       "  <tbody>\n",
       "    <tr>\n",
       "      <th>0</th>\n",
       "      <td>2021-11-04 15:30</td>\n",
       "    </tr>\n",
       "    <tr>\n",
       "      <th>1</th>\n",
       "      <td>2021-11-04 15:00</td>\n",
       "    </tr>\n",
       "  </tbody>\n",
       "</table>\n",
       "</div>"
      ],
      "text/plain": [
       "        RECORD_TIME\n",
       "0  2021-11-04 15:30\n",
       "1  2021-11-04 15:00"
      ]
     },
     "execution_count": 3,
     "metadata": {},
     "output_type": "execute_result"
    }
   ],
   "source": [
    "timestamps"
   ]
  },
  {
   "cell_type": "code",
   "execution_count": 4,
   "id": "alternate-victory",
   "metadata": {
    "execution": {
     "iopub.execute_input": "2021-11-04T14:30:09.617288Z",
     "iopub.status.busy": "2021-11-04T14:30:09.614998Z",
     "iopub.status.idle": "2021-11-04T14:30:10.662121Z",
     "shell.execute_reply": "2021-11-04T14:30:10.664531Z"
    },
    "papermill": {
     "duration": 1.081848,
     "end_time": "2021-11-04T14:30:10.665072",
     "exception": false,
     "start_time": "2021-11-04T14:30:09.583224",
     "status": "completed"
    },
    "tags": []
   },
   "outputs": [],
   "source": [
    "df = pd.read_sql(\"select * from EBAY_TOP_BERLIN where record_time in (select distinct record_time from EBAY_TOP_BERLIN order by record_time desc limit 2)\", sqlite3.connect(\"UsedObjects.db\"))"
   ]
  },
  {
   "cell_type": "code",
   "execution_count": 5,
   "id": "popular-active",
   "metadata": {
    "execution": {
     "iopub.execute_input": "2021-11-04T14:30:10.764127Z",
     "iopub.status.busy": "2021-11-04T14:30:10.751163Z",
     "iopub.status.idle": "2021-11-04T14:30:10.784479Z",
     "shell.execute_reply": "2021-11-04T14:30:10.786017Z"
    },
    "papermill": {
     "duration": 0.077545,
     "end_time": "2021-11-04T14:30:10.786534",
     "exception": false,
     "start_time": "2021-11-04T14:30:10.708989",
     "status": "completed"
    },
    "tags": []
   },
   "outputs": [],
   "source": [
    "df_pivot = df.pivot_table(index=\"PRODUCT\", columns = \"RECORD_TIME\", values = \"LISTING_COUNT\")"
   ]
  },
  {
   "cell_type": "code",
   "execution_count": 6,
   "id": "union-huntington",
   "metadata": {
    "execution": {
     "iopub.execute_input": "2021-11-04T14:30:10.847661Z",
     "iopub.status.busy": "2021-11-04T14:30:10.845333Z",
     "iopub.status.idle": "2021-11-04T14:30:10.853014Z",
     "shell.execute_reply": "2021-11-04T14:30:10.851213Z"
    },
    "papermill": {
     "duration": 0.046201,
     "end_time": "2021-11-04T14:30:10.853457",
     "exception": false,
     "start_time": "2021-11-04T14:30:10.807256",
     "status": "completed"
    },
    "tags": []
   },
   "outputs": [],
   "source": [
    "df_pivot.columns = [\"stamp_1\", \"stamp_2\"]\n",
    "df_pivot_diff = df_pivot.diff(axis=1)"
   ]
  },
  {
   "cell_type": "code",
   "execution_count": 7,
   "id": "fifth-motion",
   "metadata": {
    "execution": {
     "iopub.execute_input": "2021-11-04T14:30:10.913384Z",
     "iopub.status.busy": "2021-11-04T14:30:10.910525Z",
     "iopub.status.idle": "2021-11-04T14:30:12.627891Z",
     "shell.execute_reply": "2021-11-04T14:30:12.629444Z"
    },
    "papermill": {
     "duration": 1.75358,
     "end_time": "2021-11-04T14:30:12.629897",
     "exception": false,
     "start_time": "2021-11-04T14:30:10.876317",
     "status": "completed"
    },
    "tags": []
   },
   "outputs": [
    {
     "data": {
      "text/plain": [
       "<AxesSubplot:ylabel='PRODUCT'>"
      ]
     },
     "execution_count": 7,
     "metadata": {},
     "output_type": "execute_result"
    },
    {
     "data": {
      "image/png": "[encoded data removed]",
      "text/plain": [
       "<Figure size 432x288 with 1 Axes>"
      ]
     },
     "metadata": {
      "needs_background": "light"
     },
     "output_type": "display_data"
    }
   ],
   "source": [
    "df_pivot_diff.sort_values(\"stamp_2\", ascending = False)[\"stamp_2\"].head(10).plot.barh()"
   ]
  },
  {
   "cell_type": "code",
   "execution_count": null,
   "id": "extra-executive",
   "metadata": {
    "papermill": {
     "duration": 0.023081,
     "end_time": "2021-11-04T14:30:12.676394",
     "exception": false,
     "start_time": "2021-11-04T14:30:12.653313",
     "status": "completed"
    },
    "tags": []
   },
   "outputs": [],
   "source": []
  }
 ],
 "metadata": {
  "kernelspec": {
   "display_name": "Python 3",
   "language": "python",
   "name": "python3"
  },
  "language_info": {
   "codemirror_mode": {
    "name": "ipython",
    "version": 3
   },
   "file_extension": ".py",
   "mimetype": "text/x-python",
   "name": "python",
   "nbconvert_exporter": "python",
   "pygments_lexer": "ipython3",
   "version": "3.9.5"
  },
  "papermill": {
   "default_parameters": {},
   "duration": 8.797008,
   "end_time": "2021-11-04T14:30:13.623308",
   "environment_variables": {},
   "exception": null,
   "input_path": "eBay_Overview.ipynb",
   "output_path": "eBay_Overview.ipynb",
   "parameters": {},
   "start_time": "2021-11-04T14:30:04.826300",
   "version": "2.3.3"
  }
 },
 "nbformat": 4,
 "nbformat_minor": 5
}