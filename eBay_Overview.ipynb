{
 "cells": [
  {
   "cell_type": "code",
   "execution_count": 1,
   "id": "reverse-picking",
   "metadata": {
    "execution": {
     "iopub.execute_input": "2021-12-19T17:30:07.617356Z",
     "iopub.status.busy": "2021-12-19T17:30:07.614871Z",
     "iopub.status.idle": "2021-12-19T17:30:08.571298Z",
     "shell.execute_reply": "2021-12-19T17:30:08.572997Z"
    },
    "papermill": {
     "duration": 1.007362,
     "end_time": "2021-12-19T17:30:08.573738",
     "exception": false,
     "start_time": "2021-12-19T17:30:07.566376",
     "status": "completed"
    },
    "tags": []
   },
   "outputs": [],
   "source": [
    "import pandas as pd\n",
    "import sqlite3"
   ]
  },
  {
   "cell_type": "code",
   "execution_count": 2,
   "id": "innovative-syndrome",
   "metadata": {
    "execution": {
     "iopub.execute_input": "2021-12-19T17:30:08.703185Z",
     "iopub.status.busy": "2021-12-19T17:30:08.699704Z",
     "iopub.status.idle": "2021-12-19T17:30:09.825925Z",
     "shell.execute_reply": "2021-12-19T17:30:09.827287Z"
    },
    "papermill": {
     "duration": 1.172564,
     "end_time": "2021-12-19T17:30:09.827777",
     "exception": false,
     "start_time": "2021-12-19T17:30:08.655213",
     "status": "completed"
    },
    "tags": []
   },
   "outputs": [],
   "source": [
    "timestamps = pd.read_sql(\"select distinct record_time from EBAY_TOP_BERLIN order by record_time desc limit 2\", sqlite3.connect(\"UsedObjects.db\"))"
   ]
  },
  {
   "cell_type": "code",
   "execution_count": 3,
   "id": "periodic-identification",
   "metadata": {
    "execution": {
     "iopub.execute_input": "2021-12-19T17:30:09.894126Z",
     "iopub.status.busy": "2021-12-19T17:30:09.891797Z",
     "iopub.status.idle": "2021-12-19T17:30:09.925936Z",
     "shell.execute_reply": "2021-12-19T17:30:09.927624Z"
    },
    "papermill": {
     "duration": 0.079285,
     "end_time": "2021-12-19T17:30:09.928137",
     "exception": false,
     "start_time": "2021-12-19T17:30:09.848852",
     "status": "completed"
    },
    "tags": []
   },
   "outputs": [
    {
     "data": {
      "text/html": [
       "<div>\n",
       "<style scoped>\n",
       "    .dataframe tbody tr th:only-of-type {\n",
       "        vertical-align: middle;\n",
       "    }\n",
       "\n",
       "    .dataframe tbody tr th {\n",
       "        vertical-align: top;\n",
       "    }\n",
       "\n",
       "    .dataframe thead th {\n",
       "        text-align: right;\n",
       "    }\n",
       "</style>\n",
       "<table border=\"1\" class=\"dataframe\">\n",
       "  <thead>\n",
       "    <tr style=\"text-align: right;\">\n",
       "      <th></th>\n",
       "      <th>RECORD_TIME</th>\n",
       "    </tr>\n",
       "  </thead>\n",
       "  <tbody>\n",
       "    <tr>\n",
       "      <th>0</th>\n",
       "      <td>2021-12-19 18:30</td>\n",
       "    </tr>\n",
       "    <tr>\n",
       "      <th>1</th>\n",
       "      <td>2021-12-19 18:00</td>\n",
       "    </tr>\n",
       "  </tbody>\n",
       "</table>\n",
       "</div>"
      ],
      "text/plain": [
       "        RECORD_TIME\n",
       "0  2021-12-19 18:30\n",
       "1  2021-12-19 18:00"
      ]
     },
     "execution_count": 3,
     "metadata": {},
     "output_type": "execute_result"
    }
   ],
   "source": [
    "timestamps"
   ]
  },
  {
   "cell_type": "code",
   "execution_count": 4,
   "id": "alternate-victory",
   "metadata": {
    "execution": {
     "iopub.execute_input": "2021-12-19T17:30:10.001616Z",
     "iopub.status.busy": "2021-12-19T17:30:09.999334Z",
     "iopub.status.idle": "2021-12-19T17:30:11.655729Z",
     "shell.execute_reply": "2021-12-19T17:30:11.657365Z"
    },
    "papermill": {
     "duration": 1.691398,
     "end_time": "2021-12-19T17:30:11.657837",
     "exception": false,
     "start_time": "2021-12-19T17:30:09.966439",
     "status": "completed"
    },
    "tags": []
   },
   "outputs": [],
   "source": [
    "df = pd.read_sql(\"select * from EBAY_TOP_BERLIN where record_time in (select distinct record_time from EBAY_TOP_BERLIN order by record_time desc limit 2)\", sqlite3.connect(\"UsedObjects.db\"))"
   ]
  },
  {
   "cell_type": "code",
   "execution_count": 5,
   "id": "popular-active",
   "metadata": {
    "execution": {
     "iopub.execute_input": "2021-12-19T17:30:11.790848Z",
     "iopub.status.busy": "2021-12-19T17:30:11.781325Z",
     "iopub.status.idle": "2021-12-19T17:30:11.814228Z",
     "shell.execute_reply": "2021-12-19T17:30:11.815581Z"
    },
    "papermill": {
     "duration": 0.114135,
     "end_time": "2021-12-19T17:30:11.816071",
     "exception": false,
     "start_time": "2021-12-19T17:30:11.701936",
     "status": "completed"
    },
    "tags": []
   },
   "outputs": [],
   "source": [
    "df_pivot = df.pivot_table(index=\"PRODUCT\", columns = \"RECORD_TIME\", values = \"LISTING_COUNT\")"
   ]
  },
  {
   "cell_type": "code",
   "execution_count": 6,
   "id": "union-huntington",
   "metadata": {
    "execution": {
     "iopub.execute_input": "2021-12-19T17:30:11.874633Z",
     "iopub.status.busy": "2021-12-19T17:30:11.872293Z",
     "iopub.status.idle": "2021-12-19T17:30:11.879738Z",
     "shell.execute_reply": "2021-12-19T17:30:11.878154Z"
    },
    "papermill": {
     "duration": 0.043723,
     "end_time": "2021-12-19T17:30:11.880148",
     "exception": false,
     "start_time": "2021-12-19T17:30:11.836425",
     "status": "completed"
    },
    "tags": []
   },
   "outputs": [],
   "source": [
    "df_pivot.columns = [\"stamp_1\", \"stamp_2\"]\n",
    "df_pivot_diff = df_pivot.diff(axis=1)"
   ]
  },
  {
   "cell_type": "code",
   "execution_count": 7,
   "id": "fifth-motion",
   "metadata": {
    "execution": {
     "iopub.execute_input": "2021-12-19T17:30:11.938487Z",
     "iopub.status.busy": "2021-12-19T17:30:11.935755Z",
     "iopub.status.idle": "2021-12-19T17:30:13.926790Z",
     "shell.execute_reply": "2021-12-19T17:30:13.928087Z"
    },
    "papermill": {
     "duration": 2.027695,
     "end_time": "2021-12-19T17:30:13.928514",
     "exception": false,
     "start_time": "2021-12-19T17:30:11.900819",
     "status": "completed"
    },
    "tags": []
   },
   "outputs": [
    {
     "data": {
      "text/plain": [
       "<AxesSubplot:ylabel='PRODUCT'>"
      ]
     },
     "execution_count": 7,
     "metadata": {},
     "output_type": "execute_result"
    },
    {
     "data": {
      "image/png": "[encoded data removed]",
      "text/plain": [
       "<Figure size 432x288 with 1 Axes>"
      ]
     },
     "metadata": {
      "needs_background": "light"
     },
     "output_type": "display_data"
    }
   ],
   "source": [
    "df_pivot_diff.sort_values(\"stamp_2\", ascending = False)[\"stamp_2\"].head(10).plot.barh()"
   ]
  },
  {
   "cell_type": "code",
   "execution_count": null,
   "id": "extra-executive",
   "metadata": {
    "papermill": {
     "duration": 0.028382,
     "end_time": "2021-12-19T17:30:13.988767",
     "exception": false,
     "start_time": "2021-12-19T17:30:13.960385",
     "status": "completed"
    },
    "tags": []
   },
   "outputs": [],
   "source": []
  }
 ],
 "metadata": {
  "kernelspec": {
   "display_name": "Python 3",
   "language": "python",
   "name": "python3"
  },
  "language_info": {
   "codemirror_mode": {
    "name": "ipython",
    "version": 3
   },
   "file_extension": ".py",
   "mimetype": "text/x-python",
   "name": "python",
   "nbconvert_exporter": "python",
   "pygments_lexer": "ipython3",
   "version": "3.9.5"
  },
  "papermill": {
   "default_parameters": {},
   "duration": 9.850105,
   "end_time": "2021-12-19T17:30:14.669150",
   "environment_variables": {},
   "exception": null,
   "input_path": "eBay_Overview.ipynb",
   "output_path": "eBay_Overview.ipynb",
   "parameters": {},
   "start_time": "2021-12-19T17:30:04.819045",
   "version": "2.3.3"
  }
 },
 "nbformat": 4,
 "nbformat_minor": 5
}