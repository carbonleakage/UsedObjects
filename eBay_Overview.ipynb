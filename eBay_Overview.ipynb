{
 "cells": [
  {
   "cell_type": "code",
   "execution_count": 1,
   "id": "reverse-picking",
   "metadata": {
    "execution": {
     "iopub.execute_input": "2021-12-17T14:30:07.879773Z",
     "iopub.status.busy": "2021-12-17T14:30:07.866343Z",
     "iopub.status.idle": "2021-12-17T14:30:08.838460Z",
     "shell.execute_reply": "2021-12-17T14:30:08.839992Z"
    },
    "papermill": {
     "duration": 1.022637,
     "end_time": "2021-12-17T14:30:08.841195",
     "exception": false,
     "start_time": "2021-12-17T14:30:07.818558",
     "status": "completed"
    },
    "tags": []
   },
   "outputs": [],
   "source": [
    "import pandas as pd\n",
    "import sqlite3"
   ]
  },
  {
   "cell_type": "code",
   "execution_count": 2,
   "id": "innovative-syndrome",
   "metadata": {
    "execution": {
     "iopub.execute_input": "2021-12-17T14:30:08.961183Z",
     "iopub.status.busy": "2021-12-17T14:30:08.958911Z",
     "iopub.status.idle": "2021-12-17T14:30:10.066372Z",
     "shell.execute_reply": "2021-12-17T14:30:10.068578Z"
    },
    "papermill": {
     "duration": 1.142575,
     "end_time": "2021-12-17T14:30:10.069122",
     "exception": false,
     "start_time": "2021-12-17T14:30:08.926547",
     "status": "completed"
    },
    "tags": []
   },
   "outputs": [],
   "source": [
    "timestamps = pd.read_sql(\"select distinct record_time from EBAY_TOP_BERLIN order by record_time desc limit 2\", sqlite3.connect(\"UsedObjects.db\"))"
   ]
  },
  {
   "cell_type": "code",
   "execution_count": 3,
   "id": "periodic-identification",
   "metadata": {
    "execution": {
     "iopub.execute_input": "2021-12-17T14:30:10.141328Z",
     "iopub.status.busy": "2021-12-17T14:30:10.138965Z",
     "iopub.status.idle": "2021-12-17T14:30:10.163633Z",
     "shell.execute_reply": "2021-12-17T14:30:10.165212Z"
    },
    "papermill": {
     "duration": 0.075898,
     "end_time": "2021-12-17T14:30:10.165721",
     "exception": false,
     "start_time": "2021-12-17T14:30:10.089823",
     "status": "completed"
    },
    "tags": []
   },
   "outputs": [
    {
     "data": {
      "text/html": [
       "<div>\n",
       "<style scoped>\n",
       "    .dataframe tbody tr th:only-of-type {\n",
       "        vertical-align: middle;\n",
       "    }\n",
       "\n",
       "    .dataframe tbody tr th {\n",
       "        vertical-align: top;\n",
       "    }\n",
       "\n",
       "    .dataframe thead th {\n",
       "        text-align: right;\n",
       "    }\n",
       "</style>\n",
       "<table border=\"1\" class=\"dataframe\">\n",
       "  <thead>\n",
       "    <tr style=\"text-align: right;\">\n",
       "      <th></th>\n",
       "      <th>RECORD_TIME</th>\n",
       "    </tr>\n",
       "  </thead>\n",
       "  <tbody>\n",
       "    <tr>\n",
       "      <th>0</th>\n",
       "      <td>2021-12-17 15:30</td>\n",
       "    </tr>\n",
       "    <tr>\n",
       "      <th>1</th>\n",
       "      <td>2021-12-17 15:00</td>\n",
       "    </tr>\n",
       "  </tbody>\n",
       "</table>\n",
       "</div>"
      ],
      "text/plain": [
       "        RECORD_TIME\n",
       "0  2021-12-17 15:30\n",
       "1  2021-12-17 15:00"
      ]
     },
     "execution_count": 3,
     "metadata": {},
     "output_type": "execute_result"
    }
   ],
   "source": [
    "timestamps"
   ]
  },
  {
   "cell_type": "code",
   "execution_count": 4,
   "id": "alternate-victory",
   "metadata": {
    "execution": {
     "iopub.execute_input": "2021-12-17T14:30:10.221901Z",
     "iopub.status.busy": "2021-12-17T14:30:10.219563Z",
     "iopub.status.idle": "2021-12-17T14:30:11.822903Z",
     "shell.execute_reply": "2021-12-17T14:30:11.824374Z"
    },
    "papermill": {
     "duration": 1.637933,
     "end_time": "2021-12-17T14:30:11.824905",
     "exception": false,
     "start_time": "2021-12-17T14:30:10.186972",
     "status": "completed"
    },
    "tags": []
   },
   "outputs": [],
   "source": [
    "df = pd.read_sql(\"select * from EBAY_TOP_BERLIN where record_time in (select distinct record_time from EBAY_TOP_BERLIN order by record_time desc limit 2)\", sqlite3.connect(\"UsedObjects.db\"))"
   ]
  },
  {
   "cell_type": "code",
   "execution_count": 5,
   "id": "popular-active",
   "metadata": {
    "execution": {
     "iopub.execute_input": "2021-12-17T14:30:11.903104Z",
     "iopub.status.busy": "2021-12-17T14:30:11.894199Z",
     "iopub.status.idle": "2021-12-17T14:30:11.922289Z",
     "shell.execute_reply": "2021-12-17T14:30:11.923902Z"
    },
    "papermill": {
     "duration": 0.078318,
     "end_time": "2021-12-17T14:30:11.924390",
     "exception": false,
     "start_time": "2021-12-17T14:30:11.846072",
     "status": "completed"
    },
    "tags": []
   },
   "outputs": [],
   "source": [
    "df_pivot = df.pivot_table(index=\"PRODUCT\", columns = \"RECORD_TIME\", values = \"LISTING_COUNT\")"
   ]
  },
  {
   "cell_type": "code",
   "execution_count": 6,
   "id": "union-huntington",
   "metadata": {
    "execution": {
     "iopub.execute_input": "2021-12-17T14:30:11.985397Z",
     "iopub.status.busy": "2021-12-17T14:30:11.983110Z",
     "iopub.status.idle": "2021-12-17T14:30:11.989152Z",
     "shell.execute_reply": "2021-12-17T14:30:11.990654Z"
    },
    "papermill": {
     "duration": 0.045603,
     "end_time": "2021-12-17T14:30:11.991118",
     "exception": false,
     "start_time": "2021-12-17T14:30:11.945515",
     "status": "completed"
    },
    "tags": []
   },
   "outputs": [],
   "source": [
    "df_pivot.columns = [\"stamp_1\", \"stamp_2\"]\n",
    "df_pivot_diff = df_pivot.diff(axis=1)"
   ]
  },
  {
   "cell_type": "code",
   "execution_count": 7,
   "id": "fifth-motion",
   "metadata": {
    "execution": {
     "iopub.execute_input": "2021-12-17T14:30:12.048175Z",
     "iopub.status.busy": "2021-12-17T14:30:12.045633Z",
     "iopub.status.idle": "2021-12-17T14:30:13.983069Z",
     "shell.execute_reply": "2021-12-17T14:30:13.984344Z"
    },
    "papermill": {
     "duration": 1.972751,
     "end_time": "2021-12-17T14:30:13.984850",
     "exception": false,
     "start_time": "2021-12-17T14:30:12.012099",
     "status": "completed"
    },
    "tags": []
   },
   "outputs": [
    {
     "data": {
      "text/plain": [
       "<AxesSubplot:ylabel='PRODUCT'>"
      ]
     },
     "execution_count": 7,
     "metadata": {},
     "output_type": "execute_result"
    },
    {
     "data": {
      "image/png": "[encoded data removed]",
      "text/plain": [
       "<Figure size 432x288 with 1 Axes>"
      ]
     },
     "metadata": {
      "needs_background": "light"
     },
     "output_type": "display_data"
    }
   ],
   "source": [
    "df_pivot_diff.sort_values(\"stamp_2\", ascending = False)[\"stamp_2\"].head(10).plot.barh()"
   ]
  },
  {
   "cell_type": "code",
   "execution_count": null,
   "id": "extra-executive",
   "metadata": {
    "papermill": {
     "duration": 0.02858,
     "end_time": "2021-12-17T14:30:14.044545",
     "exception": false,
     "start_time": "2021-12-17T14:30:14.015965",
     "status": "completed"
    },
    "tags": []
   },
   "outputs": [],
   "source": []
  }
 ],
 "metadata": {
  "kernelspec": {
   "display_name": "Python 3",
   "language": "python",
   "name": "python3"
  },
  "language_info": {
   "codemirror_mode": {
    "name": "ipython",
    "version": 3
   },
   "file_extension": ".py",
   "mimetype": "text/x-python",
   "name": "python",
   "nbconvert_exporter": "python",
   "pygments_lexer": "ipython3",
   "version": "3.9.5"
  },
  "papermill": {
   "default_parameters": {},
   "duration": 9.614576,
   "end_time": "2021-12-17T14:30:14.686293",
   "environment_variables": {},
   "exception": null,
   "input_path": "eBay_Overview.ipynb",
   "output_path": "eBay_Overview.ipynb",
   "parameters": {},
   "start_time": "2021-12-17T14:30:05.071717",
   "version": "2.3.3"
  }
 },
 "nbformat": 4,
 "nbformat_minor": 5
}