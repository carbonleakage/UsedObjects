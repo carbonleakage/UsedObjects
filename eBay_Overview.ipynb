{
 "cells": [
  {
   "cell_type": "code",
   "execution_count": 1,
   "id": "reverse-picking",
   "metadata": {
    "execution": {
     "iopub.execute_input": "2021-10-24T21:30:07.535847Z",
     "iopub.status.busy": "2021-10-24T21:30:07.533803Z",
     "iopub.status.idle": "2021-10-24T21:30:08.341845Z",
     "shell.execute_reply": "2021-10-24T21:30:08.343288Z"
    },
    "papermill": {
     "duration": 0.860329,
     "end_time": "2021-10-24T21:30:08.343961",
     "exception": false,
     "start_time": "2021-10-24T21:30:07.483632",
     "status": "completed"
    },
    "tags": []
   },
   "outputs": [],
   "source": [
    "import pandas as pd\n",
    "import sqlite3"
   ]
  },
  {
   "cell_type": "code",
   "execution_count": 2,
   "id": "innovative-syndrome",
   "metadata": {
    "execution": {
     "iopub.execute_input": "2021-10-24T21:30:08.395274Z",
     "iopub.status.busy": "2021-10-24T21:30:08.392948Z",
     "iopub.status.idle": "2021-10-24T21:30:09.027395Z",
     "shell.execute_reply": "2021-10-24T21:30:09.028567Z"
    },
    "papermill": {
     "duration": 0.664764,
     "end_time": "2021-10-24T21:30:09.029083",
     "exception": false,
     "start_time": "2021-10-24T21:30:08.364319",
     "status": "completed"
    },
    "tags": []
   },
   "outputs": [],
   "source": [
    "timestamps = pd.read_sql(\"select distinct record_time from EBAY_TOP_BERLIN order by record_time desc limit 2\", sqlite3.connect(\"UsedObjects.db\"))"
   ]
  },
  {
   "cell_type": "code",
   "execution_count": 3,
   "id": "periodic-identification",
   "metadata": {
    "execution": {
     "iopub.execute_input": "2021-10-24T21:30:09.106704Z",
     "iopub.status.busy": "2021-10-24T21:30:09.104631Z",
     "iopub.status.idle": "2021-10-24T21:30:09.124613Z",
     "shell.execute_reply": "2021-10-24T21:30:09.126030Z"
    },
    "papermill": {
     "duration": 0.06997,
     "end_time": "2021-10-24T21:30:09.126456",
     "exception": false,
     "start_time": "2021-10-24T21:30:09.056486",
     "status": "completed"
    },
    "tags": []
   },
   "outputs": [
    {
     "data": {
      "text/html": [
       "<div>\n",
       "<style scoped>\n",
       "    .dataframe tbody tr th:only-of-type {\n",
       "        vertical-align: middle;\n",
       "    }\n",
       "\n",
       "    .dataframe tbody tr th {\n",
       "        vertical-align: top;\n",
       "    }\n",
       "\n",
       "    .dataframe thead th {\n",
       "        text-align: right;\n",
       "    }\n",
       "</style>\n",
       "<table border=\"1\" class=\"dataframe\">\n",
       "  <thead>\n",
       "    <tr style=\"text-align: right;\">\n",
       "      <th></th>\n",
       "      <th>RECORD_TIME</th>\n",
       "    </tr>\n",
       "  </thead>\n",
       "  <tbody>\n",
       "    <tr>\n",
       "      <th>0</th>\n",
       "      <td>2021-10-24 23:30</td>\n",
       "    </tr>\n",
       "    <tr>\n",
       "      <th>1</th>\n",
       "      <td>2021-10-24 23:00</td>\n",
       "    </tr>\n",
       "  </tbody>\n",
       "</table>\n",
       "</div>"
      ],
      "text/plain": [
       "        RECORD_TIME\n",
       "0  2021-10-24 23:30\n",
       "1  2021-10-24 23:00"
      ]
     },
     "execution_count": 3,
     "metadata": {},
     "output_type": "execute_result"
    }
   ],
   "source": [
    "timestamps"
   ]
  },
  {
   "cell_type": "code",
   "execution_count": 4,
   "id": "alternate-victory",
   "metadata": {
    "execution": {
     "iopub.execute_input": "2021-10-24T21:30:09.189660Z",
     "iopub.status.busy": "2021-10-24T21:30:09.187691Z",
     "iopub.status.idle": "2021-10-24T21:30:10.139227Z",
     "shell.execute_reply": "2021-10-24T21:30:10.140499Z"
    },
    "papermill": {
     "duration": 0.985495,
     "end_time": "2021-10-24T21:30:10.141004",
     "exception": false,
     "start_time": "2021-10-24T21:30:09.155509",
     "status": "completed"
    },
    "tags": []
   },
   "outputs": [],
   "source": [
    "df = pd.read_sql(\"select * from EBAY_TOP_BERLIN where record_time in (select distinct record_time from EBAY_TOP_BERLIN order by record_time desc limit 2)\", sqlite3.connect(\"UsedObjects.db\"))"
   ]
  },
  {
   "cell_type": "code",
   "execution_count": 5,
   "id": "popular-active",
   "metadata": {
    "execution": {
     "iopub.execute_input": "2021-10-24T21:30:10.206097Z",
     "iopub.status.busy": "2021-10-24T21:30:10.197794Z",
     "iopub.status.idle": "2021-10-24T21:30:10.227003Z",
     "shell.execute_reply": "2021-10-24T21:30:10.228199Z"
    },
    "papermill": {
     "duration": 0.067337,
     "end_time": "2021-10-24T21:30:10.228593",
     "exception": false,
     "start_time": "2021-10-24T21:30:10.161256",
     "status": "completed"
    },
    "tags": []
   },
   "outputs": [],
   "source": [
    "df_pivot = df.pivot_table(index=\"PRODUCT\", columns = \"RECORD_TIME\", values = \"LISTING_COUNT\")"
   ]
  },
  {
   "cell_type": "code",
   "execution_count": 6,
   "id": "union-huntington",
   "metadata": {
    "execution": {
     "iopub.execute_input": "2021-10-24T21:30:10.286141Z",
     "iopub.status.busy": "2021-10-24T21:30:10.283661Z",
     "iopub.status.idle": "2021-10-24T21:30:10.289702Z",
     "shell.execute_reply": "2021-10-24T21:30:10.290884Z"
    },
    "papermill": {
     "duration": 0.042172,
     "end_time": "2021-10-24T21:30:10.291310",
     "exception": false,
     "start_time": "2021-10-24T21:30:10.249138",
     "status": "completed"
    },
    "tags": []
   },
   "outputs": [],
   "source": [
    "df_pivot.columns = [\"stamp_1\", \"stamp_2\"]\n",
    "df_pivot_diff = df_pivot.diff(axis=1)"
   ]
  },
  {
   "cell_type": "code",
   "execution_count": 7,
   "id": "fifth-motion",
   "metadata": {
    "execution": {
     "iopub.execute_input": "2021-10-24T21:30:10.346408Z",
     "iopub.status.busy": "2021-10-24T21:30:10.343962Z",
     "iopub.status.idle": "2021-10-24T21:30:11.848191Z",
     "shell.execute_reply": "2021-10-24T21:30:11.849649Z"
    },
    "papermill": {
     "duration": 1.537205,
     "end_time": "2021-10-24T21:30:11.850089",
     "exception": false,
     "start_time": "2021-10-24T21:30:10.312884",
     "status": "completed"
    },
    "tags": []
   },
   "outputs": [
    {
     "data": {
      "text/plain": [
       "<AxesSubplot:ylabel='PRODUCT'>"
      ]
     },
     "execution_count": 7,
     "metadata": {},
     "output_type": "execute_result"
    },
    {
     "data": {
      "image/png": "[encoded data removed]",
      "text/plain": [
       "<Figure size 432x288 with 1 Axes>"
      ]
     },
     "metadata": {
      "needs_background": "light"
     },
     "output_type": "display_data"
    }
   ],
   "source": [
    "df_pivot_diff.sort_values(\"stamp_2\", ascending = False)[\"stamp_2\"].head(10).plot.barh()"
   ]
  },
  {
   "cell_type": "code",
   "execution_count": null,
   "id": "extra-executive",
   "metadata": {
    "papermill": {
     "duration": 0.022438,
     "end_time": "2021-10-24T21:30:11.896251",
     "exception": false,
     "start_time": "2021-10-24T21:30:11.873813",
     "status": "completed"
    },
    "tags": []
   },
   "outputs": [],
   "source": []
  }
 ],
 "metadata": {
  "kernelspec": {
   "display_name": "Python 3",
   "language": "python",
   "name": "python3"
  },
  "language_info": {
   "codemirror_mode": {
    "name": "ipython",
    "version": 3
   },
   "file_extension": ".py",
   "mimetype": "text/x-python",
   "name": "python",
   "nbconvert_exporter": "python",
   "pygments_lexer": "ipython3",
   "version": "3.9.5"
  },
  "papermill": {
   "default_parameters": {},
   "duration": 7.473647,
   "end_time": "2021-10-24T21:30:12.536238",
   "environment_variables": {},
   "exception": null,
   "input_path": "eBay_Overview.ipynb",
   "output_path": "eBay_Overview.ipynb",
   "parameters": {},
   "start_time": "2021-10-24T21:30:05.062591",
   "version": "2.3.3"
  }
 },
 "nbformat": 4,
 "nbformat_minor": 5
}