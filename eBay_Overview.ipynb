{
 "cells": [
  {
   "cell_type": "code",
   "execution_count": 1,
   "id": "reverse-picking",
   "metadata": {
    "execution": {
     "iopub.execute_input": "2021-12-08T02:30:08.060007Z",
     "iopub.status.busy": "2021-12-08T02:30:08.058021Z",
     "iopub.status.idle": "2021-12-08T02:30:09.005024Z",
     "shell.execute_reply": "2021-12-08T02:30:09.006681Z"
    },
    "papermill": {
     "duration": 0.996966,
     "end_time": "2021-12-08T02:30:09.007389",
     "exception": false,
     "start_time": "2021-12-08T02:30:08.010423",
     "status": "completed"
    },
    "tags": []
   },
   "outputs": [],
   "source": [
    "import pandas as pd\n",
    "import sqlite3"
   ]
  },
  {
   "cell_type": "code",
   "execution_count": 2,
   "id": "innovative-syndrome",
   "metadata": {
    "execution": {
     "iopub.execute_input": "2021-12-08T02:30:09.076350Z",
     "iopub.status.busy": "2021-12-08T02:30:09.073942Z",
     "iopub.status.idle": "2021-12-08T02:30:10.088787Z",
     "shell.execute_reply": "2021-12-08T02:30:10.090285Z"
    },
    "papermill": {
     "duration": 1.046837,
     "end_time": "2021-12-08T02:30:10.090815",
     "exception": false,
     "start_time": "2021-12-08T02:30:09.043978",
     "status": "completed"
    },
    "tags": []
   },
   "outputs": [],
   "source": [
    "timestamps = pd.read_sql(\"select distinct record_time from EBAY_TOP_BERLIN order by record_time desc limit 2\", sqlite3.connect(\"UsedObjects.db\"))"
   ]
  },
  {
   "cell_type": "code",
   "execution_count": 3,
   "id": "periodic-identification",
   "metadata": {
    "execution": {
     "iopub.execute_input": "2021-12-08T02:30:10.164584Z",
     "iopub.status.busy": "2021-12-08T02:30:10.162228Z",
     "iopub.status.idle": "2021-12-08T02:30:10.184874Z",
     "shell.execute_reply": "2021-12-08T02:30:10.186227Z"
    },
    "papermill": {
     "duration": 0.075627,
     "end_time": "2021-12-08T02:30:10.186709",
     "exception": false,
     "start_time": "2021-12-08T02:30:10.111082",
     "status": "completed"
    },
    "tags": []
   },
   "outputs": [
    {
     "data": {
      "text/html": [
       "<div>\n",
       "<style scoped>\n",
       "    .dataframe tbody tr th:only-of-type {\n",
       "        vertical-align: middle;\n",
       "    }\n",
       "\n",
       "    .dataframe tbody tr th {\n",
       "        vertical-align: top;\n",
       "    }\n",
       "\n",
       "    .dataframe thead th {\n",
       "        text-align: right;\n",
       "    }\n",
       "</style>\n",
       "<table border=\"1\" class=\"dataframe\">\n",
       "  <thead>\n",
       "    <tr style=\"text-align: right;\">\n",
       "      <th></th>\n",
       "      <th>RECORD_TIME</th>\n",
       "    </tr>\n",
       "  </thead>\n",
       "  <tbody>\n",
       "    <tr>\n",
       "      <th>0</th>\n",
       "      <td>2021-12-08 03:30</td>\n",
       "    </tr>\n",
       "    <tr>\n",
       "      <th>1</th>\n",
       "      <td>2021-12-08 03:00</td>\n",
       "    </tr>\n",
       "  </tbody>\n",
       "</table>\n",
       "</div>"
      ],
      "text/plain": [
       "        RECORD_TIME\n",
       "0  2021-12-08 03:30\n",
       "1  2021-12-08 03:00"
      ]
     },
     "execution_count": 3,
     "metadata": {},
     "output_type": "execute_result"
    }
   ],
   "source": [
    "timestamps"
   ]
  },
  {
   "cell_type": "code",
   "execution_count": 4,
   "id": "alternate-victory",
   "metadata": {
    "execution": {
     "iopub.execute_input": "2021-12-08T02:30:10.239878Z",
     "iopub.status.busy": "2021-12-08T02:30:10.237864Z",
     "iopub.status.idle": "2021-12-08T02:30:11.720445Z",
     "shell.execute_reply": "2021-12-08T02:30:11.722041Z"
    },
    "papermill": {
     "duration": 1.515818,
     "end_time": "2021-12-08T02:30:11.722518",
     "exception": false,
     "start_time": "2021-12-08T02:30:10.206700",
     "status": "completed"
    },
    "tags": []
   },
   "outputs": [],
   "source": [
    "df = pd.read_sql(\"select * from EBAY_TOP_BERLIN where record_time in (select distinct record_time from EBAY_TOP_BERLIN order by record_time desc limit 2)\", sqlite3.connect(\"UsedObjects.db\"))"
   ]
  },
  {
   "cell_type": "code",
   "execution_count": 5,
   "id": "popular-active",
   "metadata": {
    "execution": {
     "iopub.execute_input": "2021-12-08T02:30:11.800258Z",
     "iopub.status.busy": "2021-12-08T02:30:11.789625Z",
     "iopub.status.idle": "2021-12-08T02:30:11.816159Z",
     "shell.execute_reply": "2021-12-08T02:30:11.817741Z"
    },
    "papermill": {
     "duration": 0.075177,
     "end_time": "2021-12-08T02:30:11.818267",
     "exception": false,
     "start_time": "2021-12-08T02:30:11.743090",
     "status": "completed"
    },
    "tags": []
   },
   "outputs": [],
   "source": [
    "df_pivot = df.pivot_table(index=\"PRODUCT\", columns = \"RECORD_TIME\", values = \"LISTING_COUNT\")"
   ]
  },
  {
   "cell_type": "code",
   "execution_count": 6,
   "id": "union-huntington",
   "metadata": {
    "execution": {
     "iopub.execute_input": "2021-12-08T02:30:11.904343Z",
     "iopub.status.busy": "2021-12-08T02:30:11.900872Z",
     "iopub.status.idle": "2021-12-08T02:30:11.910624Z",
     "shell.execute_reply": "2021-12-08T02:30:11.913338Z"
    },
    "papermill": {
     "duration": 0.071749,
     "end_time": "2021-12-08T02:30:11.914163",
     "exception": false,
     "start_time": "2021-12-08T02:30:11.842414",
     "status": "completed"
    },
    "tags": []
   },
   "outputs": [],
   "source": [
    "df_pivot.columns = [\"stamp_1\", \"stamp_2\"]\n",
    "df_pivot_diff = df_pivot.diff(axis=1)"
   ]
  },
  {
   "cell_type": "code",
   "execution_count": 7,
   "id": "fifth-motion",
   "metadata": {
    "execution": {
     "iopub.execute_input": "2021-12-08T02:30:12.000543Z",
     "iopub.status.busy": "2021-12-08T02:30:11.996188Z",
     "iopub.status.idle": "2021-12-08T02:30:13.823346Z",
     "shell.execute_reply": "2021-12-08T02:30:13.824646Z"
    },
    "papermill": {
     "duration": 1.882411,
     "end_time": "2021-12-08T02:30:13.825190",
     "exception": false,
     "start_time": "2021-12-08T02:30:11.942779",
     "status": "completed"
    },
    "tags": []
   },
   "outputs": [
    {
     "data": {
      "text/plain": [
       "<AxesSubplot:ylabel='PRODUCT'>"
      ]
     },
     "execution_count": 7,
     "metadata": {},
     "output_type": "execute_result"
    },
    {
     "data": {
      "image/png": "[encoded data removed]",
      "text/plain": [
       "<Figure size 432x288 with 1 Axes>"
      ]
     },
     "metadata": {
      "needs_background": "light"
     },
     "output_type": "display_data"
    }
   ],
   "source": [
    "df_pivot_diff.sort_values(\"stamp_2\", ascending = False)[\"stamp_2\"].head(10).plot.barh()"
   ]
  },
  {
   "cell_type": "code",
   "execution_count": null,
   "id": "extra-executive",
   "metadata": {
    "papermill": {
     "duration": 0.021754,
     "end_time": "2021-12-08T02:30:13.870893",
     "exception": false,
     "start_time": "2021-12-08T02:30:13.849139",
     "status": "completed"
    },
    "tags": []
   },
   "outputs": [],
   "source": []
  }
 ],
 "metadata": {
  "kernelspec": {
   "display_name": "Python 3",
   "language": "python",
   "name": "python3"
  },
  "language_info": {
   "codemirror_mode": {
    "name": "ipython",
    "version": 3
   },
   "file_extension": ".py",
   "mimetype": "text/x-python",
   "name": "python",
   "nbconvert_exporter": "python",
   "pygments_lexer": "ipython3",
   "version": "3.9.5"
  },
  "papermill": {
   "default_parameters": {},
   "duration": 9.943608,
   "end_time": "2021-12-08T02:30:15.231366",
   "environment_variables": {},
   "exception": null,
   "input_path": "eBay_Overview.ipynb",
   "output_path": "eBay_Overview.ipynb",
   "parameters": {},
   "start_time": "2021-12-08T02:30:05.287758",
   "version": "2.3.3"
  }
 },
 "nbformat": 4,
 "nbformat_minor": 5
}