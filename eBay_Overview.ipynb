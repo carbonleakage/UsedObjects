{
 "cells": [
  {
   "cell_type": "code",
   "execution_count": 1,
   "id": "reverse-picking",
   "metadata": {
    "execution": {
     "iopub.execute_input": "2021-11-13T08:00:07.976012Z",
     "iopub.status.busy": "2021-11-13T08:00:07.973585Z",
     "iopub.status.idle": "2021-11-13T08:00:08.922945Z",
     "shell.execute_reply": "2021-11-13T08:00:08.919880Z"
    },
    "papermill": {
     "duration": 0.997513,
     "end_time": "2021-11-13T08:00:08.923431",
     "exception": false,
     "start_time": "2021-11-13T08:00:07.925918",
     "status": "completed"
    },
    "tags": []
   },
   "outputs": [],
   "source": [
    "import pandas as pd\n",
    "import sqlite3"
   ]
  },
  {
   "cell_type": "code",
   "execution_count": 2,
   "id": "innovative-syndrome",
   "metadata": {
    "execution": {
     "iopub.execute_input": "2021-11-13T08:00:08.989221Z",
     "iopub.status.busy": "2021-11-13T08:00:08.986619Z",
     "iopub.status.idle": "2021-11-13T08:00:09.789843Z",
     "shell.execute_reply": "2021-11-13T08:00:09.791331Z"
    },
    "papermill": {
     "duration": 0.838242,
     "end_time": "2021-11-13T08:00:09.791835",
     "exception": false,
     "start_time": "2021-11-13T08:00:08.953593",
     "status": "completed"
    },
    "tags": []
   },
   "outputs": [],
   "source": [
    "timestamps = pd.read_sql(\"select distinct record_time from EBAY_TOP_BERLIN order by record_time desc limit 2\", sqlite3.connect(\"UsedObjects.db\"))"
   ]
  },
  {
   "cell_type": "code",
   "execution_count": 3,
   "id": "periodic-identification",
   "metadata": {
    "execution": {
     "iopub.execute_input": "2021-11-13T08:00:09.866553Z",
     "iopub.status.busy": "2021-11-13T08:00:09.864135Z",
     "iopub.status.idle": "2021-11-13T08:00:09.886144Z",
     "shell.execute_reply": "2021-11-13T08:00:09.887510Z"
    },
    "papermill": {
     "duration": 0.075259,
     "end_time": "2021-11-13T08:00:09.887972",
     "exception": false,
     "start_time": "2021-11-13T08:00:09.812713",
     "status": "completed"
    },
    "tags": []
   },
   "outputs": [
    {
     "data": {
      "text/html": [
       "<div>\n",
       "<style scoped>\n",
       "    .dataframe tbody tr th:only-of-type {\n",
       "        vertical-align: middle;\n",
       "    }\n",
       "\n",
       "    .dataframe tbody tr th {\n",
       "        vertical-align: top;\n",
       "    }\n",
       "\n",
       "    .dataframe thead th {\n",
       "        text-align: right;\n",
       "    }\n",
       "</style>\n",
       "<table border=\"1\" class=\"dataframe\">\n",
       "  <thead>\n",
       "    <tr style=\"text-align: right;\">\n",
       "      <th></th>\n",
       "      <th>RECORD_TIME</th>\n",
       "    </tr>\n",
       "  </thead>\n",
       "  <tbody>\n",
       "    <tr>\n",
       "      <th>0</th>\n",
       "      <td>2021-11-13 09:00</td>\n",
       "    </tr>\n",
       "    <tr>\n",
       "      <th>1</th>\n",
       "      <td>2021-11-13 08:30</td>\n",
       "    </tr>\n",
       "  </tbody>\n",
       "</table>\n",
       "</div>"
      ],
      "text/plain": [
       "        RECORD_TIME\n",
       "0  2021-11-13 09:00\n",
       "1  2021-11-13 08:30"
      ]
     },
     "execution_count": 3,
     "metadata": {},
     "output_type": "execute_result"
    }
   ],
   "source": [
    "timestamps"
   ]
  },
  {
   "cell_type": "code",
   "execution_count": 4,
   "id": "alternate-victory",
   "metadata": {
    "execution": {
     "iopub.execute_input": "2021-11-13T08:00:09.943933Z",
     "iopub.status.busy": "2021-11-13T08:00:09.941594Z",
     "iopub.status.idle": "2021-11-13T08:00:11.109346Z",
     "shell.execute_reply": "2021-11-13T08:00:11.110973Z"
    },
    "papermill": {
     "duration": 1.20231,
     "end_time": "2021-11-13T08:00:11.111539",
     "exception": false,
     "start_time": "2021-11-13T08:00:09.909229",
     "status": "completed"
    },
    "tags": []
   },
   "outputs": [],
   "source": [
    "df = pd.read_sql(\"select * from EBAY_TOP_BERLIN where record_time in (select distinct record_time from EBAY_TOP_BERLIN order by record_time desc limit 2)\", sqlite3.connect(\"UsedObjects.db\"))"
   ]
  },
  {
   "cell_type": "code",
   "execution_count": 5,
   "id": "popular-active",
   "metadata": {
    "execution": {
     "iopub.execute_input": "2021-11-13T08:00:11.221738Z",
     "iopub.status.busy": "2021-11-13T08:00:11.201928Z",
     "iopub.status.idle": "2021-11-13T08:00:11.243477Z",
     "shell.execute_reply": "2021-11-13T08:00:11.242024Z"
    },
    "papermill": {
     "duration": 0.108014,
     "end_time": "2021-11-13T08:00:11.243870",
     "exception": false,
     "start_time": "2021-11-13T08:00:11.135856",
     "status": "completed"
    },
    "tags": []
   },
   "outputs": [],
   "source": [
    "df_pivot = df.pivot_table(index=\"PRODUCT\", columns = \"RECORD_TIME\", values = \"LISTING_COUNT\")"
   ]
  },
  {
   "cell_type": "code",
   "execution_count": 6,
   "id": "union-huntington",
   "metadata": {
    "execution": {
     "iopub.execute_input": "2021-11-13T08:00:11.307655Z",
     "iopub.status.busy": "2021-11-13T08:00:11.305419Z",
     "iopub.status.idle": "2021-11-13T08:00:11.310209Z",
     "shell.execute_reply": "2021-11-13T08:00:11.311563Z"
    },
    "papermill": {
     "duration": 0.046388,
     "end_time": "2021-11-13T08:00:11.311996",
     "exception": false,
     "start_time": "2021-11-13T08:00:11.265608",
     "status": "completed"
    },
    "tags": []
   },
   "outputs": [],
   "source": [
    "df_pivot.columns = [\"stamp_1\", \"stamp_2\"]\n",
    "df_pivot_diff = df_pivot.diff(axis=1)"
   ]
  },
  {
   "cell_type": "code",
   "execution_count": 7,
   "id": "fifth-motion",
   "metadata": {
    "execution": {
     "iopub.execute_input": "2021-11-13T08:00:11.368559Z",
     "iopub.status.busy": "2021-11-13T08:00:11.365981Z",
     "iopub.status.idle": "2021-11-13T08:00:13.245092Z",
     "shell.execute_reply": "2021-11-13T08:00:13.246924Z"
    },
    "papermill": {
     "duration": 1.915365,
     "end_time": "2021-11-13T08:00:13.247541",
     "exception": false,
     "start_time": "2021-11-13T08:00:11.332176",
     "status": "completed"
    },
    "tags": []
   },
   "outputs": [
    {
     "data": {
      "text/plain": [
       "<AxesSubplot:ylabel='PRODUCT'>"
      ]
     },
     "execution_count": 7,
     "metadata": {},
     "output_type": "execute_result"
    },
    {
     "data": {
      "image/png": "[encoded data removed]",
      "text/plain": [
       "<Figure size 432x288 with 1 Axes>"
      ]
     },
     "metadata": {
      "needs_background": "light"
     },
     "output_type": "display_data"
    }
   ],
   "source": [
    "df_pivot_diff.sort_values(\"stamp_2\", ascending = False)[\"stamp_2\"].head(10).plot.barh()"
   ]
  },
  {
   "cell_type": "code",
   "execution_count": null,
   "id": "extra-executive",
   "metadata": {
    "papermill": {
     "duration": 0.025155,
     "end_time": "2021-11-13T08:00:13.301472",
     "exception": false,
     "start_time": "2021-11-13T08:00:13.276317",
     "status": "completed"
    },
    "tags": []
   },
   "outputs": [],
   "source": []
  }
 ],
 "metadata": {
  "kernelspec": {
   "display_name": "Python 3",
   "language": "python",
   "name": "python3"
  },
  "language_info": {
   "codemirror_mode": {
    "name": "ipython",
    "version": 3
   },
   "file_extension": ".py",
   "mimetype": "text/x-python",
   "name": "python",
   "nbconvert_exporter": "python",
   "pygments_lexer": "ipython3",
   "version": "3.9.5"
  },
  "papermill": {
   "default_parameters": {},
   "duration": 8.928704,
   "end_time": "2021-11-13T08:00:14.146319",
   "environment_variables": {},
   "exception": null,
   "input_path": "eBay_Overview.ipynb",
   "output_path": "eBay_Overview.ipynb",
   "parameters": {},
   "start_time": "2021-11-13T08:00:05.217615",
   "version": "2.3.3"
  }
 },
 "nbformat": 4,
 "nbformat_minor": 5
}