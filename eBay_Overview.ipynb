{
 "cells": [
  {
   "cell_type": "code",
   "execution_count": 1,
   "id": "reverse-picking",
   "metadata": {
    "execution": {
     "iopub.execute_input": "2021-09-29T01:00:07.208897Z",
     "iopub.status.busy": "2021-09-29T01:00:07.206910Z",
     "iopub.status.idle": "2021-09-29T01:00:08.020649Z",
     "shell.execute_reply": "2021-09-29T01:00:08.018882Z"
    },
    "papermill": {
     "duration": 0.866081,
     "end_time": "2021-09-29T01:00:08.021093",
     "exception": false,
     "start_time": "2021-09-29T01:00:07.155012",
     "status": "completed"
    },
    "tags": []
   },
   "outputs": [],
   "source": [
    "import pandas as pd\n",
    "import sqlite3"
   ]
  },
  {
   "cell_type": "code",
   "execution_count": 2,
   "id": "innovative-syndrome",
   "metadata": {
    "execution": {
     "iopub.execute_input": "2021-09-29T01:00:08.072334Z",
     "iopub.status.busy": "2021-09-29T01:00:08.069939Z",
     "iopub.status.idle": "2021-09-29T01:00:08.468273Z",
     "shell.execute_reply": "2021-09-29T01:00:08.469468Z"
    },
    "papermill": {
     "duration": 0.428295,
     "end_time": "2021-09-29T01:00:08.469867",
     "exception": false,
     "start_time": "2021-09-29T01:00:08.041572",
     "status": "completed"
    },
    "tags": []
   },
   "outputs": [],
   "source": [
    "timestamps = pd.read_sql(\"select distinct record_time from EBAY_TOP_BERLIN order by record_time desc limit 2\", sqlite3.connect(\"UsedObjects.db\"))"
   ]
  },
  {
   "cell_type": "code",
   "execution_count": 3,
   "id": "periodic-identification",
   "metadata": {
    "execution": {
     "iopub.execute_input": "2021-09-29T01:00:08.533674Z",
     "iopub.status.busy": "2021-09-29T01:00:08.531643Z",
     "iopub.status.idle": "2021-09-29T01:00:08.551664Z",
     "shell.execute_reply": "2021-09-29T01:00:08.552865Z"
    },
    "papermill": {
     "duration": 0.063264,
     "end_time": "2021-09-29T01:00:08.553302",
     "exception": false,
     "start_time": "2021-09-29T01:00:08.490038",
     "status": "completed"
    },
    "tags": []
   },
   "outputs": [
    {
     "data": {
      "text/html": [
       "<div>\n",
       "<style scoped>\n",
       "    .dataframe tbody tr th:only-of-type {\n",
       "        vertical-align: middle;\n",
       "    }\n",
       "\n",
       "    .dataframe tbody tr th {\n",
       "        vertical-align: top;\n",
       "    }\n",
       "\n",
       "    .dataframe thead th {\n",
       "        text-align: right;\n",
       "    }\n",
       "</style>\n",
       "<table border=\"1\" class=\"dataframe\">\n",
       "  <thead>\n",
       "    <tr style=\"text-align: right;\">\n",
       "      <th></th>\n",
       "      <th>RECORD_TIME</th>\n",
       "    </tr>\n",
       "  </thead>\n",
       "  <tbody>\n",
       "    <tr>\n",
       "      <th>0</th>\n",
       "      <td>2021-09-29 03:00</td>\n",
       "    </tr>\n",
       "    <tr>\n",
       "      <th>1</th>\n",
       "      <td>2021-09-29 02:30</td>\n",
       "    </tr>\n",
       "  </tbody>\n",
       "</table>\n",
       "</div>"
      ],
      "text/plain": [
       "        RECORD_TIME\n",
       "0  2021-09-29 03:00\n",
       "1  2021-09-29 02:30"
      ]
     },
     "execution_count": 3,
     "metadata": {},
     "output_type": "execute_result"
    }
   ],
   "source": [
    "timestamps"
   ]
  },
  {
   "cell_type": "code",
   "execution_count": 4,
   "id": "alternate-victory",
   "metadata": {
    "execution": {
     "iopub.execute_input": "2021-09-29T01:00:08.604351Z",
     "iopub.status.busy": "2021-09-29T01:00:08.602404Z",
     "iopub.status.idle": "2021-09-29T01:00:09.188697Z",
     "shell.execute_reply": "2021-09-29T01:00:09.189913Z"
    },
    "papermill": {
     "duration": 0.616225,
     "end_time": "2021-09-29T01:00:09.190312",
     "exception": false,
     "start_time": "2021-09-29T01:00:08.574087",
     "status": "completed"
    },
    "tags": []
   },
   "outputs": [],
   "source": [
    "df = pd.read_sql(\"select * from EBAY_TOP_BERLIN where record_time in (select distinct record_time from EBAY_TOP_BERLIN order by record_time desc limit 2)\", sqlite3.connect(\"UsedObjects.db\"))"
   ]
  },
  {
   "cell_type": "code",
   "execution_count": 5,
   "id": "popular-active",
   "metadata": {
    "execution": {
     "iopub.execute_input": "2021-09-29T01:00:09.285841Z",
     "iopub.status.busy": "2021-09-29T01:00:09.272837Z",
     "iopub.status.idle": "2021-09-29T01:00:09.301520Z",
     "shell.execute_reply": "2021-09-29T01:00:09.302861Z"
    },
    "papermill": {
     "duration": 0.077007,
     "end_time": "2021-09-29T01:00:09.303288",
     "exception": false,
     "start_time": "2021-09-29T01:00:09.226281",
     "status": "completed"
    },
    "tags": []
   },
   "outputs": [],
   "source": [
    "df_pivot = df.pivot_table(index=\"PRODUCT\", columns = \"RECORD_TIME\", values = \"LISTING_COUNT\")"
   ]
  },
  {
   "cell_type": "code",
   "execution_count": 6,
   "id": "union-huntington",
   "metadata": {
    "execution": {
     "iopub.execute_input": "2021-09-29T01:00:09.359623Z",
     "iopub.status.busy": "2021-09-29T01:00:09.357498Z",
     "iopub.status.idle": "2021-09-29T01:00:09.362680Z",
     "shell.execute_reply": "2021-09-29T01:00:09.364037Z"
    },
    "papermill": {
     "duration": 0.040235,
     "end_time": "2021-09-29T01:00:09.364455",
     "exception": false,
     "start_time": "2021-09-29T01:00:09.324220",
     "status": "completed"
    },
    "tags": []
   },
   "outputs": [],
   "source": [
    "df_pivot.columns = [\"stamp_1\", \"stamp_2\"]\n",
    "df_pivot_diff = df_pivot.diff(axis=1)"
   ]
  },
  {
   "cell_type": "code",
   "execution_count": 7,
   "id": "fifth-motion",
   "metadata": {
    "execution": {
     "iopub.execute_input": "2021-09-29T01:00:09.418181Z",
     "iopub.status.busy": "2021-09-29T01:00:09.415782Z",
     "iopub.status.idle": "2021-09-29T01:00:10.907283Z",
     "shell.execute_reply": "2021-09-29T01:00:10.908663Z"
    },
    "papermill": {
     "duration": 1.524336,
     "end_time": "2021-09-29T01:00:10.909107",
     "exception": false,
     "start_time": "2021-09-29T01:00:09.384771",
     "status": "completed"
    },
    "tags": []
   },
   "outputs": [
    {
     "data": {
      "text/plain": [
       "<AxesSubplot:ylabel='PRODUCT'>"
      ]
     },
     "execution_count": 7,
     "metadata": {},
     "output_type": "execute_result"
    },
    {
     "data": {
      "image/png": "[encoded data removed]",
      "text/plain": [
       "<Figure size 432x288 with 1 Axes>"
      ]
     },
     "metadata": {
      "needs_background": "light"
     },
     "output_type": "display_data"
    }
   ],
   "source": [
    "df_pivot_diff.sort_values(\"stamp_2\", ascending = False)[\"stamp_2\"].head(10).plot.barh()"
   ]
  },
  {
   "cell_type": "code",
   "execution_count": null,
   "id": "extra-executive",
   "metadata": {
    "papermill": {
     "duration": 0.022256,
     "end_time": "2021-09-29T01:00:10.955274",
     "exception": false,
     "start_time": "2021-09-29T01:00:10.933018",
     "status": "completed"
    },
    "tags": []
   },
   "outputs": [],
   "source": []
  }
 ],
 "metadata": {
  "kernelspec": {
   "display_name": "Python 3",
   "language": "python",
   "name": "python3"
  },
  "language_info": {
   "codemirror_mode": {
    "name": "ipython",
    "version": 3
   },
   "file_extension": ".py",
   "mimetype": "text/x-python",
   "name": "python",
   "nbconvert_exporter": "python",
   "pygments_lexer": "ipython3",
   "version": "3.9.5"
  },
  "papermill": {
   "default_parameters": {},
   "duration": 7.837969,
   "end_time": "2021-09-29T01:00:12.571061",
   "environment_variables": {},
   "exception": null,
   "input_path": "eBay_Overview.ipynb",
   "output_path": "eBay_Overview.ipynb",
   "parameters": {},
   "start_time": "2021-09-29T01:00:04.733092",
   "version": "2.3.3"
  }
 },
 "nbformat": 4,
 "nbformat_minor": 5
}