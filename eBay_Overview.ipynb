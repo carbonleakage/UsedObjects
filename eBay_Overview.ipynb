{
 "cells": [
  {
   "cell_type": "code",
   "execution_count": 1,
   "id": "reverse-picking",
   "metadata": {
    "execution": {
     "iopub.execute_input": "2021-10-09T11:30:06.666491Z",
     "iopub.status.busy": "2021-10-09T11:30:06.664543Z",
     "iopub.status.idle": "2021-10-09T11:30:07.479994Z",
     "shell.execute_reply": "2021-10-09T11:30:07.481309Z"
    },
    "papermill": {
     "duration": 0.868191,
     "end_time": "2021-10-09T11:30:07.481940",
     "exception": false,
     "start_time": "2021-10-09T11:30:06.613749",
     "status": "completed"
    },
    "tags": []
   },
   "outputs": [],
   "source": [
    "import pandas as pd\n",
    "import sqlite3"
   ]
  },
  {
   "cell_type": "code",
   "execution_count": 2,
   "id": "innovative-syndrome",
   "metadata": {
    "execution": {
     "iopub.execute_input": "2021-10-09T11:30:07.532290Z",
     "iopub.status.busy": "2021-10-09T11:30:07.530311Z",
     "iopub.status.idle": "2021-10-09T11:30:08.012295Z",
     "shell.execute_reply": "2021-10-09T11:30:08.013724Z"
    },
    "papermill": {
     "duration": 0.511745,
     "end_time": "2021-10-09T11:30:08.014174",
     "exception": false,
     "start_time": "2021-10-09T11:30:07.502429",
     "status": "completed"
    },
    "tags": []
   },
   "outputs": [],
   "source": [
    "timestamps = pd.read_sql(\"select distinct record_time from EBAY_TOP_BERLIN order by record_time desc limit 2\", sqlite3.connect(\"UsedObjects.db\"))"
   ]
  },
  {
   "cell_type": "code",
   "execution_count": 3,
   "id": "periodic-identification",
   "metadata": {
    "execution": {
     "iopub.execute_input": "2021-10-09T11:30:08.077997Z",
     "iopub.status.busy": "2021-10-09T11:30:08.075983Z",
     "iopub.status.idle": "2021-10-09T11:30:08.096023Z",
     "shell.execute_reply": "2021-10-09T11:30:08.097335Z"
    },
    "papermill": {
     "duration": 0.063496,
     "end_time": "2021-10-09T11:30:08.097754",
     "exception": false,
     "start_time": "2021-10-09T11:30:08.034258",
     "status": "completed"
    },
    "tags": []
   },
   "outputs": [
    {
     "data": {
      "text/html": [
       "<div>\n",
       "<style scoped>\n",
       "    .dataframe tbody tr th:only-of-type {\n",
       "        vertical-align: middle;\n",
       "    }\n",
       "\n",
       "    .dataframe tbody tr th {\n",
       "        vertical-align: top;\n",
       "    }\n",
       "\n",
       "    .dataframe thead th {\n",
       "        text-align: right;\n",
       "    }\n",
       "</style>\n",
       "<table border=\"1\" class=\"dataframe\">\n",
       "  <thead>\n",
       "    <tr style=\"text-align: right;\">\n",
       "      <th></th>\n",
       "      <th>RECORD_TIME</th>\n",
       "    </tr>\n",
       "  </thead>\n",
       "  <tbody>\n",
       "    <tr>\n",
       "      <th>0</th>\n",
       "      <td>2021-10-09 13:30</td>\n",
       "    </tr>\n",
       "    <tr>\n",
       "      <th>1</th>\n",
       "      <td>2021-10-09 13:00</td>\n",
       "    </tr>\n",
       "  </tbody>\n",
       "</table>\n",
       "</div>"
      ],
      "text/plain": [
       "        RECORD_TIME\n",
       "0  2021-10-09 13:30\n",
       "1  2021-10-09 13:00"
      ]
     },
     "execution_count": 3,
     "metadata": {},
     "output_type": "execute_result"
    }
   ],
   "source": [
    "timestamps"
   ]
  },
  {
   "cell_type": "code",
   "execution_count": 4,
   "id": "alternate-victory",
   "metadata": {
    "execution": {
     "iopub.execute_input": "2021-10-09T11:30:08.157708Z",
     "iopub.status.busy": "2021-10-09T11:30:08.155841Z",
     "iopub.status.idle": "2021-10-09T11:30:08.865967Z",
     "shell.execute_reply": "2021-10-09T11:30:08.867357Z"
    },
    "papermill": {
     "duration": 0.743554,
     "end_time": "2021-10-09T11:30:08.867833",
     "exception": false,
     "start_time": "2021-10-09T11:30:08.124279",
     "status": "completed"
    },
    "tags": []
   },
   "outputs": [],
   "source": [
    "df = pd.read_sql(\"select * from EBAY_TOP_BERLIN where record_time in (select distinct record_time from EBAY_TOP_BERLIN order by record_time desc limit 2)\", sqlite3.connect(\"UsedObjects.db\"))"
   ]
  },
  {
   "cell_type": "code",
   "execution_count": 5,
   "id": "popular-active",
   "metadata": {
    "execution": {
     "iopub.execute_input": "2021-10-09T11:30:08.937248Z",
     "iopub.status.busy": "2021-10-09T11:30:08.925315Z",
     "iopub.status.idle": "2021-10-09T11:30:08.952753Z",
     "shell.execute_reply": "2021-10-09T11:30:08.953976Z"
    },
    "papermill": {
     "duration": 0.066167,
     "end_time": "2021-10-09T11:30:08.954379",
     "exception": false,
     "start_time": "2021-10-09T11:30:08.888212",
     "status": "completed"
    },
    "tags": []
   },
   "outputs": [],
   "source": [
    "df_pivot = df.pivot_table(index=\"PRODUCT\", columns = \"RECORD_TIME\", values = \"LISTING_COUNT\")"
   ]
  },
  {
   "cell_type": "code",
   "execution_count": 6,
   "id": "union-huntington",
   "metadata": {
    "execution": {
     "iopub.execute_input": "2021-10-09T11:30:09.014037Z",
     "iopub.status.busy": "2021-10-09T11:30:09.011579Z",
     "iopub.status.idle": "2021-10-09T11:30:09.017289Z",
     "shell.execute_reply": "2021-10-09T11:30:09.018613Z"
    },
    "papermill": {
     "duration": 0.042313,
     "end_time": "2021-10-09T11:30:09.019096",
     "exception": false,
     "start_time": "2021-10-09T11:30:08.976783",
     "status": "completed"
    },
    "tags": []
   },
   "outputs": [],
   "source": [
    "df_pivot.columns = [\"stamp_1\", \"stamp_2\"]\n",
    "df_pivot_diff = df_pivot.diff(axis=1)"
   ]
  },
  {
   "cell_type": "code",
   "execution_count": 7,
   "id": "fifth-motion",
   "metadata": {
    "execution": {
     "iopub.execute_input": "2021-10-09T11:30:09.074167Z",
     "iopub.status.busy": "2021-10-09T11:30:09.071907Z",
     "iopub.status.idle": "2021-10-09T11:30:10.570894Z",
     "shell.execute_reply": "2021-10-09T11:30:10.572293Z"
    },
    "papermill": {
     "duration": 1.532517,
     "end_time": "2021-10-09T11:30:10.572739",
     "exception": false,
     "start_time": "2021-10-09T11:30:09.040222",
     "status": "completed"
    },
    "tags": []
   },
   "outputs": [
    {
     "data": {
      "text/plain": [
       "<AxesSubplot:ylabel='PRODUCT'>"
      ]
     },
     "execution_count": 7,
     "metadata": {},
     "output_type": "execute_result"
    },
    {
     "data": {
      "image/png": "[encoded data removed]",
      "text/plain": [
       "<Figure size 432x288 with 1 Axes>"
      ]
     },
     "metadata": {
      "needs_background": "light"
     },
     "output_type": "display_data"
    }
   ],
   "source": [
    "df_pivot_diff.sort_values(\"stamp_2\", ascending = False)[\"stamp_2\"].head(10).plot.barh()"
   ]
  },
  {
   "cell_type": "code",
   "execution_count": null,
   "id": "extra-executive",
   "metadata": {
    "papermill": {
     "duration": 0.02232,
     "end_time": "2021-10-09T11:30:10.619774",
     "exception": false,
     "start_time": "2021-10-09T11:30:10.597454",
     "status": "completed"
    },
    "tags": []
   },
   "outputs": [],
   "source": []
  }
 ],
 "metadata": {
  "kernelspec": {
   "display_name": "Python 3",
   "language": "python",
   "name": "python3"
  },
  "language_info": {
   "codemirror_mode": {
    "name": "ipython",
    "version": 3
   },
   "file_extension": ".py",
   "mimetype": "text/x-python",
   "name": "python",
   "nbconvert_exporter": "python",
   "pygments_lexer": "ipython3",
   "version": "3.9.5"
  },
  "papermill": {
   "default_parameters": {},
   "duration": 7.844952,
   "end_time": "2021-10-09T11:30:12.043236",
   "environment_variables": {},
   "exception": null,
   "input_path": "eBay_Overview.ipynb",
   "output_path": "eBay_Overview.ipynb",
   "parameters": {},
   "start_time": "2021-10-09T11:30:04.198284",
   "version": "2.3.3"
  }
 },
 "nbformat": 4,
 "nbformat_minor": 5
}