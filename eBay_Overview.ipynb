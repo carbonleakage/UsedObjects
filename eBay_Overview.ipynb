{
 "cells": [
  {
   "cell_type": "code",
   "execution_count": 1,
   "id": "reverse-picking",
   "metadata": {
    "execution": {
     "iopub.execute_input": "2021-11-11T21:00:07.550943Z",
     "iopub.status.busy": "2021-11-11T21:00:07.548786Z",
     "iopub.status.idle": "2021-11-11T21:00:08.496325Z",
     "shell.execute_reply": "2021-11-11T21:00:08.497909Z"
    },
    "papermill": {
     "duration": 0.995204,
     "end_time": "2021-11-11T21:00:08.498735",
     "exception": false,
     "start_time": "2021-11-11T21:00:07.503531",
     "status": "completed"
    },
    "tags": []
   },
   "outputs": [],
   "source": [
    "import pandas as pd\n",
    "import sqlite3"
   ]
  },
  {
   "cell_type": "code",
   "execution_count": 2,
   "id": "innovative-syndrome",
   "metadata": {
    "execution": {
     "iopub.execute_input": "2021-11-11T21:00:08.568424Z",
     "iopub.status.busy": "2021-11-11T21:00:08.566175Z",
     "iopub.status.idle": "2021-11-11T21:00:09.365625Z",
     "shell.execute_reply": "2021-11-11T21:00:09.367213Z"
    },
    "papermill": {
     "duration": 0.832898,
     "end_time": "2021-11-11T21:00:09.367764",
     "exception": false,
     "start_time": "2021-11-11T21:00:08.534866",
     "status": "completed"
    },
    "tags": []
   },
   "outputs": [],
   "source": [
    "timestamps = pd.read_sql(\"select distinct record_time from EBAY_TOP_BERLIN order by record_time desc limit 2\", sqlite3.connect(\"UsedObjects.db\"))"
   ]
  },
  {
   "cell_type": "code",
   "execution_count": 3,
   "id": "periodic-identification",
   "metadata": {
    "execution": {
     "iopub.execute_input": "2021-11-11T21:00:09.436043Z",
     "iopub.status.busy": "2021-11-11T21:00:09.433770Z",
     "iopub.status.idle": "2021-11-11T21:00:09.456246Z",
     "shell.execute_reply": "2021-11-11T21:00:09.457763Z"
    },
    "papermill": {
     "duration": 0.069947,
     "end_time": "2021-11-11T21:00:09.458216",
     "exception": false,
     "start_time": "2021-11-11T21:00:09.388269",
     "status": "completed"
    },
    "tags": []
   },
   "outputs": [
    {
     "data": {
      "text/html": [
       "<div>\n",
       "<style scoped>\n",
       "    .dataframe tbody tr th:only-of-type {\n",
       "        vertical-align: middle;\n",
       "    }\n",
       "\n",
       "    .dataframe tbody tr th {\n",
       "        vertical-align: top;\n",
       "    }\n",
       "\n",
       "    .dataframe thead th {\n",
       "        text-align: right;\n",
       "    }\n",
       "</style>\n",
       "<table border=\"1\" class=\"dataframe\">\n",
       "  <thead>\n",
       "    <tr style=\"text-align: right;\">\n",
       "      <th></th>\n",
       "      <th>RECORD_TIME</th>\n",
       "    </tr>\n",
       "  </thead>\n",
       "  <tbody>\n",
       "    <tr>\n",
       "      <th>0</th>\n",
       "      <td>2021-11-11 22:00</td>\n",
       "    </tr>\n",
       "    <tr>\n",
       "      <th>1</th>\n",
       "      <td>2021-11-11 21:30</td>\n",
       "    </tr>\n",
       "  </tbody>\n",
       "</table>\n",
       "</div>"
      ],
      "text/plain": [
       "        RECORD_TIME\n",
       "0  2021-11-11 22:00\n",
       "1  2021-11-11 21:30"
      ]
     },
     "execution_count": 3,
     "metadata": {},
     "output_type": "execute_result"
    }
   ],
   "source": [
    "timestamps"
   ]
  },
  {
   "cell_type": "code",
   "execution_count": 4,
   "id": "alternate-victory",
   "metadata": {
    "execution": {
     "iopub.execute_input": "2021-11-11T21:00:09.511421Z",
     "iopub.status.busy": "2021-11-11T21:00:09.509488Z",
     "iopub.status.idle": "2021-11-11T21:00:10.632126Z",
     "shell.execute_reply": "2021-11-11T21:00:10.633702Z"
    },
    "papermill": {
     "duration": 1.155227,
     "end_time": "2021-11-11T21:00:10.634191",
     "exception": false,
     "start_time": "2021-11-11T21:00:09.478964",
     "status": "completed"
    },
    "tags": []
   },
   "outputs": [],
   "source": [
    "df = pd.read_sql(\"select * from EBAY_TOP_BERLIN where record_time in (select distinct record_time from EBAY_TOP_BERLIN order by record_time desc limit 2)\", sqlite3.connect(\"UsedObjects.db\"))"
   ]
  },
  {
   "cell_type": "code",
   "execution_count": 5,
   "id": "popular-active",
   "metadata": {
    "execution": {
     "iopub.execute_input": "2021-11-11T21:00:10.712121Z",
     "iopub.status.busy": "2021-11-11T21:00:10.699175Z",
     "iopub.status.idle": "2021-11-11T21:00:10.734690Z",
     "shell.execute_reply": "2021-11-11T21:00:10.736302Z"
    },
    "papermill": {
     "duration": 0.081172,
     "end_time": "2021-11-11T21:00:10.736940",
     "exception": false,
     "start_time": "2021-11-11T21:00:10.655768",
     "status": "completed"
    },
    "tags": []
   },
   "outputs": [],
   "source": [
    "df_pivot = df.pivot_table(index=\"PRODUCT\", columns = \"RECORD_TIME\", values = \"LISTING_COUNT\")"
   ]
  },
  {
   "cell_type": "code",
   "execution_count": 6,
   "id": "union-huntington",
   "metadata": {
    "execution": {
     "iopub.execute_input": "2021-11-11T21:00:10.799895Z",
     "iopub.status.busy": "2021-11-11T21:00:10.797683Z",
     "iopub.status.idle": "2021-11-11T21:00:10.803276Z",
     "shell.execute_reply": "2021-11-11T21:00:10.804808Z"
    },
    "papermill": {
     "duration": 0.046737,
     "end_time": "2021-11-11T21:00:10.805299",
     "exception": false,
     "start_time": "2021-11-11T21:00:10.758562",
     "status": "completed"
    },
    "tags": []
   },
   "outputs": [],
   "source": [
    "df_pivot.columns = [\"stamp_1\", \"stamp_2\"]\n",
    "df_pivot_diff = df_pivot.diff(axis=1)"
   ]
  },
  {
   "cell_type": "code",
   "execution_count": 7,
   "id": "fifth-motion",
   "metadata": {
    "execution": {
     "iopub.execute_input": "2021-11-11T21:00:10.865864Z",
     "iopub.status.busy": "2021-11-11T21:00:10.863212Z",
     "iopub.status.idle": "2021-11-11T21:00:12.601531Z",
     "shell.execute_reply": "2021-11-11T21:00:12.599805Z"
    },
    "papermill": {
     "duration": 1.775265,
     "end_time": "2021-11-11T21:00:12.601941",
     "exception": false,
     "start_time": "2021-11-11T21:00:10.826676",
     "status": "completed"
    },
    "tags": []
   },
   "outputs": [
    {
     "data": {
      "text/plain": [
       "<AxesSubplot:ylabel='PRODUCT'>"
      ]
     },
     "execution_count": 7,
     "metadata": {},
     "output_type": "execute_result"
    },
    {
     "data": {
      "image/png": "[encoded data removed]",
      "text/plain": [
       "<Figure size 432x288 with 1 Axes>"
      ]
     },
     "metadata": {
      "needs_background": "light"
     },
     "output_type": "display_data"
    }
   ],
   "source": [
    "df_pivot_diff.sort_values(\"stamp_2\", ascending = False)[\"stamp_2\"].head(10).plot.barh()"
   ]
  },
  {
   "cell_type": "code",
   "execution_count": null,
   "id": "extra-executive",
   "metadata": {
    "papermill": {
     "duration": 0.023465,
     "end_time": "2021-11-11T21:00:12.649425",
     "exception": false,
     "start_time": "2021-11-11T21:00:12.625960",
     "status": "completed"
    },
    "tags": []
   },
   "outputs": [],
   "source": []
  }
 ],
 "metadata": {
  "kernelspec": {
   "display_name": "Python 3",
   "language": "python",
   "name": "python3"
  },
  "language_info": {
   "codemirror_mode": {
    "name": "ipython",
    "version": 3
   },
   "file_extension": ".py",
   "mimetype": "text/x-python",
   "name": "python",
   "nbconvert_exporter": "python",
   "pygments_lexer": "ipython3",
   "version": "3.9.5"
  },
  "papermill": {
   "default_parameters": {},
   "duration": 8.848742,
   "end_time": "2021-11-11T21:00:13.608854",
   "environment_variables": {},
   "exception": null,
   "input_path": "eBay_Overview.ipynb",
   "output_path": "eBay_Overview.ipynb",
   "parameters": {},
   "start_time": "2021-11-11T21:00:04.760112",
   "version": "2.3.3"
  }
 },
 "nbformat": 4,
 "nbformat_minor": 5
}