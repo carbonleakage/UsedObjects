{
 "cells": [
  {
   "cell_type": "code",
   "execution_count": 1,
   "id": "reverse-picking",
   "metadata": {
    "execution": {
     "iopub.execute_input": "2021-10-29T09:30:07.374548Z",
     "iopub.status.busy": "2021-10-29T09:30:07.372543Z",
     "iopub.status.idle": "2021-10-29T09:30:08.178651Z",
     "shell.execute_reply": "2021-10-29T09:30:08.179896Z"
    },
    "papermill": {
     "duration": 0.858338,
     "end_time": "2021-10-29T09:30:08.180517",
     "exception": false,
     "start_time": "2021-10-29T09:30:07.322179",
     "status": "completed"
    },
    "tags": []
   },
   "outputs": [],
   "source": [
    "import pandas as pd\n",
    "import sqlite3"
   ]
  },
  {
   "cell_type": "code",
   "execution_count": 2,
   "id": "innovative-syndrome",
   "metadata": {
    "execution": {
     "iopub.execute_input": "2021-10-29T09:30:08.230581Z",
     "iopub.status.busy": "2021-10-29T09:30:08.228625Z",
     "iopub.status.idle": "2021-10-29T09:30:08.881767Z",
     "shell.execute_reply": "2021-10-29T09:30:08.883045Z"
    },
    "papermill": {
     "duration": 0.682729,
     "end_time": "2021-10-29T09:30:08.883495",
     "exception": false,
     "start_time": "2021-10-29T09:30:08.200766",
     "status": "completed"
    },
    "tags": []
   },
   "outputs": [],
   "source": [
    "timestamps = pd.read_sql(\"select distinct record_time from EBAY_TOP_BERLIN order by record_time desc limit 2\", sqlite3.connect(\"UsedObjects.db\"))"
   ]
  },
  {
   "cell_type": "code",
   "execution_count": 3,
   "id": "periodic-identification",
   "metadata": {
    "execution": {
     "iopub.execute_input": "2021-10-29T09:30:08.957955Z",
     "iopub.status.busy": "2021-10-29T09:30:08.955879Z",
     "iopub.status.idle": "2021-10-29T09:30:08.976408Z",
     "shell.execute_reply": "2021-10-29T09:30:08.977939Z"
    },
    "papermill": {
     "duration": 0.069532,
     "end_time": "2021-10-29T09:30:08.978406",
     "exception": false,
     "start_time": "2021-10-29T09:30:08.908874",
     "status": "completed"
    },
    "tags": []
   },
   "outputs": [
    {
     "data": {
      "text/html": [
       "<div>\n",
       "<style scoped>\n",
       "    .dataframe tbody tr th:only-of-type {\n",
       "        vertical-align: middle;\n",
       "    }\n",
       "\n",
       "    .dataframe tbody tr th {\n",
       "        vertical-align: top;\n",
       "    }\n",
       "\n",
       "    .dataframe thead th {\n",
       "        text-align: right;\n",
       "    }\n",
       "</style>\n",
       "<table border=\"1\" class=\"dataframe\">\n",
       "  <thead>\n",
       "    <tr style=\"text-align: right;\">\n",
       "      <th></th>\n",
       "      <th>RECORD_TIME</th>\n",
       "    </tr>\n",
       "  </thead>\n",
       "  <tbody>\n",
       "    <tr>\n",
       "      <th>0</th>\n",
       "      <td>2021-10-29 11:30</td>\n",
       "    </tr>\n",
       "    <tr>\n",
       "      <th>1</th>\n",
       "      <td>2021-10-29 11:00</td>\n",
       "    </tr>\n",
       "  </tbody>\n",
       "</table>\n",
       "</div>"
      ],
      "text/plain": [
       "        RECORD_TIME\n",
       "0  2021-10-29 11:30\n",
       "1  2021-10-29 11:00"
      ]
     },
     "execution_count": 3,
     "metadata": {},
     "output_type": "execute_result"
    }
   ],
   "source": [
    "timestamps"
   ]
  },
  {
   "cell_type": "code",
   "execution_count": 4,
   "id": "alternate-victory",
   "metadata": {
    "execution": {
     "iopub.execute_input": "2021-10-29T09:30:09.030109Z",
     "iopub.status.busy": "2021-10-29T09:30:09.028158Z",
     "iopub.status.idle": "2021-10-29T09:30:10.031709Z",
     "shell.execute_reply": "2021-10-29T09:30:10.032977Z"
    },
    "papermill": {
     "duration": 1.033502,
     "end_time": "2021-10-29T09:30:10.033381",
     "exception": false,
     "start_time": "2021-10-29T09:30:08.999879",
     "status": "completed"
    },
    "tags": []
   },
   "outputs": [],
   "source": [
    "df = pd.read_sql(\"select * from EBAY_TOP_BERLIN where record_time in (select distinct record_time from EBAY_TOP_BERLIN order by record_time desc limit 2)\", sqlite3.connect(\"UsedObjects.db\"))"
   ]
  },
  {
   "cell_type": "code",
   "execution_count": 5,
   "id": "popular-active",
   "metadata": {
    "execution": {
     "iopub.execute_input": "2021-10-29T09:30:10.107312Z",
     "iopub.status.busy": "2021-10-29T09:30:10.094377Z",
     "iopub.status.idle": "2021-10-29T09:30:10.122914Z",
     "shell.execute_reply": "2021-10-29T09:30:10.124182Z"
    },
    "papermill": {
     "duration": 0.068277,
     "end_time": "2021-10-29T09:30:10.124593",
     "exception": false,
     "start_time": "2021-10-29T09:30:10.056316",
     "status": "completed"
    },
    "tags": []
   },
   "outputs": [],
   "source": [
    "df_pivot = df.pivot_table(index=\"PRODUCT\", columns = \"RECORD_TIME\", values = \"LISTING_COUNT\")"
   ]
  },
  {
   "cell_type": "code",
   "execution_count": 6,
   "id": "union-huntington",
   "metadata": {
    "execution": {
     "iopub.execute_input": "2021-10-29T09:30:10.182218Z",
     "iopub.status.busy": "2021-10-29T09:30:10.180026Z",
     "iopub.status.idle": "2021-10-29T09:30:10.185514Z",
     "shell.execute_reply": "2021-10-29T09:30:10.186901Z"
    },
    "papermill": {
     "duration": 0.040768,
     "end_time": "2021-10-29T09:30:10.187334",
     "exception": false,
     "start_time": "2021-10-29T09:30:10.146566",
     "status": "completed"
    },
    "tags": []
   },
   "outputs": [],
   "source": [
    "df_pivot.columns = [\"stamp_1\", \"stamp_2\"]\n",
    "df_pivot_diff = df_pivot.diff(axis=1)"
   ]
  },
  {
   "cell_type": "code",
   "execution_count": 7,
   "id": "fifth-motion",
   "metadata": {
    "execution": {
     "iopub.execute_input": "2021-10-29T09:30:10.242898Z",
     "iopub.status.busy": "2021-10-29T09:30:10.240183Z",
     "iopub.status.idle": "2021-10-29T09:30:11.741141Z",
     "shell.execute_reply": "2021-10-29T09:30:11.742395Z"
    },
    "papermill": {
     "duration": 1.534661,
     "end_time": "2021-10-29T09:30:11.742845",
     "exception": false,
     "start_time": "2021-10-29T09:30:10.208184",
     "status": "completed"
    },
    "tags": []
   },
   "outputs": [
    {
     "data": {
      "text/plain": [
       "<AxesSubplot:ylabel='PRODUCT'>"
      ]
     },
     "execution_count": 7,
     "metadata": {},
     "output_type": "execute_result"
    },
    {
     "data": {
      "image/png": "[encoded data removed]",
      "text/plain": [
       "<Figure size 432x288 with 1 Axes>"
      ]
     },
     "metadata": {
      "needs_background": "light"
     },
     "output_type": "display_data"
    }
   ],
   "source": [
    "df_pivot_diff.sort_values(\"stamp_2\", ascending = False)[\"stamp_2\"].head(10).plot.barh()"
   ]
  },
  {
   "cell_type": "code",
   "execution_count": null,
   "id": "extra-executive",
   "metadata": {
    "papermill": {
     "duration": 0.022292,
     "end_time": "2021-10-29T09:30:11.789746",
     "exception": false,
     "start_time": "2021-10-29T09:30:11.767454",
     "status": "completed"
    },
    "tags": []
   },
   "outputs": [],
   "source": []
  }
 ],
 "metadata": {
  "kernelspec": {
   "display_name": "Python 3",
   "language": "python",
   "name": "python3"
  },
  "language_info": {
   "codemirror_mode": {
    "name": "ipython",
    "version": 3
   },
   "file_extension": ".py",
   "mimetype": "text/x-python",
   "name": "python",
   "nbconvert_exporter": "python",
   "pygments_lexer": "ipython3",
   "version": "3.9.5"
  },
  "papermill": {
   "default_parameters": {},
   "duration": 7.51818,
   "end_time": "2021-10-29T09:30:12.432326",
   "environment_variables": {},
   "exception": null,
   "input_path": "eBay_Overview.ipynb",
   "output_path": "eBay_Overview.ipynb",
   "parameters": {},
   "start_time": "2021-10-29T09:30:04.914146",
   "version": "2.3.3"
  }
 },
 "nbformat": 4,
 "nbformat_minor": 5
}