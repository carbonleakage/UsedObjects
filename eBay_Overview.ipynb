{
 "cells": [
  {
   "cell_type": "code",
   "execution_count": 1,
   "id": "reverse-picking",
   "metadata": {
    "execution": {
     "iopub.execute_input": "2021-11-03T14:00:07.761120Z",
     "iopub.status.busy": "2021-11-03T14:00:07.758715Z",
     "iopub.status.idle": "2021-11-03T14:00:08.711043Z",
     "shell.execute_reply": "2021-11-03T14:00:08.709234Z"
    },
    "papermill": {
     "duration": 1.001035,
     "end_time": "2021-11-03T14:00:08.711554",
     "exception": false,
     "start_time": "2021-11-03T14:00:07.710519",
     "status": "completed"
    },
    "tags": []
   },
   "outputs": [],
   "source": [
    "import pandas as pd\n",
    "import sqlite3"
   ]
  },
  {
   "cell_type": "code",
   "execution_count": 2,
   "id": "innovative-syndrome",
   "metadata": {
    "execution": {
     "iopub.execute_input": "2021-11-03T14:00:08.784902Z",
     "iopub.status.busy": "2021-11-03T14:00:08.782587Z",
     "iopub.status.idle": "2021-11-03T14:00:09.506559Z",
     "shell.execute_reply": "2021-11-03T14:00:09.508102Z"
    },
    "papermill": {
     "duration": 0.765742,
     "end_time": "2021-11-03T14:00:09.508590",
     "exception": false,
     "start_time": "2021-11-03T14:00:08.742848",
     "status": "completed"
    },
    "tags": []
   },
   "outputs": [],
   "source": [
    "timestamps = pd.read_sql(\"select distinct record_time from EBAY_TOP_BERLIN order by record_time desc limit 2\", sqlite3.connect(\"UsedObjects.db\"))"
   ]
  },
  {
   "cell_type": "code",
   "execution_count": 3,
   "id": "periodic-identification",
   "metadata": {
    "execution": {
     "iopub.execute_input": "2021-11-03T14:00:09.578226Z",
     "iopub.status.busy": "2021-11-03T14:00:09.575941Z",
     "iopub.status.idle": "2021-11-03T14:00:09.597743Z",
     "shell.execute_reply": "2021-11-03T14:00:09.599140Z"
    },
    "papermill": {
     "duration": 0.07107,
     "end_time": "2021-11-03T14:00:09.599621",
     "exception": false,
     "start_time": "2021-11-03T14:00:09.528551",
     "status": "completed"
    },
    "tags": []
   },
   "outputs": [
    {
     "data": {
      "text/html": [
       "<div>\n",
       "<style scoped>\n",
       "    .dataframe tbody tr th:only-of-type {\n",
       "        vertical-align: middle;\n",
       "    }\n",
       "\n",
       "    .dataframe tbody tr th {\n",
       "        vertical-align: top;\n",
       "    }\n",
       "\n",
       "    .dataframe thead th {\n",
       "        text-align: right;\n",
       "    }\n",
       "</style>\n",
       "<table border=\"1\" class=\"dataframe\">\n",
       "  <thead>\n",
       "    <tr style=\"text-align: right;\">\n",
       "      <th></th>\n",
       "      <th>RECORD_TIME</th>\n",
       "    </tr>\n",
       "  </thead>\n",
       "  <tbody>\n",
       "    <tr>\n",
       "      <th>0</th>\n",
       "      <td>2021-11-03 15:00</td>\n",
       "    </tr>\n",
       "    <tr>\n",
       "      <th>1</th>\n",
       "      <td>2021-11-03 14:30</td>\n",
       "    </tr>\n",
       "  </tbody>\n",
       "</table>\n",
       "</div>"
      ],
      "text/plain": [
       "        RECORD_TIME\n",
       "0  2021-11-03 15:00\n",
       "1  2021-11-03 14:30"
      ]
     },
     "execution_count": 3,
     "metadata": {},
     "output_type": "execute_result"
    }
   ],
   "source": [
    "timestamps"
   ]
  },
  {
   "cell_type": "code",
   "execution_count": 4,
   "id": "alternate-victory",
   "metadata": {
    "execution": {
     "iopub.execute_input": "2021-11-03T14:00:09.656124Z",
     "iopub.status.busy": "2021-11-03T14:00:09.654270Z",
     "iopub.status.idle": "2021-11-03T14:00:10.768422Z",
     "shell.execute_reply": "2021-11-03T14:00:10.769994Z"
    },
    "papermill": {
     "duration": 1.14881,
     "end_time": "2021-11-03T14:00:10.770488",
     "exception": false,
     "start_time": "2021-11-03T14:00:09.621678",
     "status": "completed"
    },
    "tags": []
   },
   "outputs": [],
   "source": [
    "df = pd.read_sql(\"select * from EBAY_TOP_BERLIN where record_time in (select distinct record_time from EBAY_TOP_BERLIN order by record_time desc limit 2)\", sqlite3.connect(\"UsedObjects.db\"))"
   ]
  },
  {
   "cell_type": "code",
   "execution_count": 5,
   "id": "popular-active",
   "metadata": {
    "execution": {
     "iopub.execute_input": "2021-11-03T14:00:10.848166Z",
     "iopub.status.busy": "2021-11-03T14:00:10.834738Z",
     "iopub.status.idle": "2021-11-03T14:00:10.866725Z",
     "shell.execute_reply": "2021-11-03T14:00:10.868221Z"
    },
    "papermill": {
     "duration": 0.076293,
     "end_time": "2021-11-03T14:00:10.868747",
     "exception": false,
     "start_time": "2021-11-03T14:00:10.792454",
     "status": "completed"
    },
    "tags": []
   },
   "outputs": [],
   "source": [
    "df_pivot = df.pivot_table(index=\"PRODUCT\", columns = \"RECORD_TIME\", values = \"LISTING_COUNT\")"
   ]
  },
  {
   "cell_type": "code",
   "execution_count": 6,
   "id": "union-huntington",
   "metadata": {
    "execution": {
     "iopub.execute_input": "2021-11-03T14:00:10.927732Z",
     "iopub.status.busy": "2021-11-03T14:00:10.925516Z",
     "iopub.status.idle": "2021-11-03T14:00:10.930415Z",
     "shell.execute_reply": "2021-11-03T14:00:10.932537Z"
    },
    "papermill": {
     "duration": 0.044263,
     "end_time": "2021-11-03T14:00:10.933102",
     "exception": false,
     "start_time": "2021-11-03T14:00:10.888839",
     "status": "completed"
    },
    "tags": []
   },
   "outputs": [],
   "source": [
    "df_pivot.columns = [\"stamp_1\", \"stamp_2\"]\n",
    "df_pivot_diff = df_pivot.diff(axis=1)"
   ]
  },
  {
   "cell_type": "code",
   "execution_count": 7,
   "id": "fifth-motion",
   "metadata": {
    "execution": {
     "iopub.execute_input": "2021-11-03T14:00:10.992967Z",
     "iopub.status.busy": "2021-11-03T14:00:10.990280Z",
     "iopub.status.idle": "2021-11-03T14:00:12.963126Z",
     "shell.execute_reply": "2021-11-03T14:00:12.964963Z"
    },
    "papermill": {
     "duration": 2.009789,
     "end_time": "2021-11-03T14:00:12.965539",
     "exception": false,
     "start_time": "2021-11-03T14:00:10.955750",
     "status": "completed"
    },
    "tags": []
   },
   "outputs": [
    {
     "data": {
      "text/plain": [
       "<AxesSubplot:ylabel='PRODUCT'>"
      ]
     },
     "execution_count": 7,
     "metadata": {},
     "output_type": "execute_result"
    },
    {
     "data": {
      "image/png": "[encoded data removed]",
      "text/plain": [
       "<Figure size 432x288 with 1 Axes>"
      ]
     },
     "metadata": {
      "needs_background": "light"
     },
     "output_type": "display_data"
    }
   ],
   "source": [
    "df_pivot_diff.sort_values(\"stamp_2\", ascending = False)[\"stamp_2\"].head(10).plot.barh()"
   ]
  },
  {
   "cell_type": "code",
   "execution_count": null,
   "id": "extra-executive",
   "metadata": {
    "papermill": {
     "duration": 0.037329,
     "end_time": "2021-11-03T14:00:13.030661",
     "exception": false,
     "start_time": "2021-11-03T14:00:12.993332",
     "status": "completed"
    },
    "tags": []
   },
   "outputs": [],
   "source": []
  }
 ],
 "metadata": {
  "kernelspec": {
   "display_name": "Python 3",
   "language": "python",
   "name": "python3"
  },
  "language_info": {
   "codemirror_mode": {
    "name": "ipython",
    "version": 3
   },
   "file_extension": ".py",
   "mimetype": "text/x-python",
   "name": "python",
   "nbconvert_exporter": "python",
   "pygments_lexer": "ipython3",
   "version": "3.9.5"
  },
  "papermill": {
   "default_parameters": {},
   "duration": 8.812748,
   "end_time": "2021-11-03T14:00:13.805905",
   "environment_variables": {},
   "exception": null,
   "input_path": "eBay_Overview.ipynb",
   "output_path": "eBay_Overview.ipynb",
   "parameters": {},
   "start_time": "2021-11-03T14:00:04.993157",
   "version": "2.3.3"
  }
 },
 "nbformat": 4,
 "nbformat_minor": 5
}