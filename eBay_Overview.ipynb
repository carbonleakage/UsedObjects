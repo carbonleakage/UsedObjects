{
 "cells": [
  {
   "cell_type": "code",
   "execution_count": 1,
   "id": "reverse-picking",
   "metadata": {
    "execution": {
     "iopub.execute_input": "2021-08-12T13:30:03.764916Z",
     "iopub.status.busy": "2021-08-12T13:30:03.764159Z",
     "iopub.status.idle": "2021-08-12T13:30:04.385312Z",
     "shell.execute_reply": "2021-08-12T13:30:04.385888Z"
    },
    "papermill": {
     "duration": 0.640409,
     "end_time": "2021-08-12T13:30:04.386194",
     "exception": false,
     "start_time": "2021-08-12T13:30:03.745785",
     "status": "completed"
    },
    "tags": []
   },
   "outputs": [],
   "source": [
    "import pandas as pd\n",
    "import sqlite3"
   ]
  },
  {
   "cell_type": "code",
   "execution_count": 2,
   "id": "innovative-syndrome",
   "metadata": {
    "execution": {
     "iopub.execute_input": "2021-08-12T13:30:04.413434Z",
     "iopub.status.busy": "2021-08-12T13:30:04.412675Z",
     "iopub.status.idle": "2021-08-12T13:30:04.617861Z",
     "shell.execute_reply": "2021-08-12T13:30:04.617255Z"
    },
    "papermill": {
     "duration": 0.222658,
     "end_time": "2021-08-12T13:30:04.618022",
     "exception": false,
     "start_time": "2021-08-12T13:30:04.395364",
     "status": "completed"
    },
    "tags": []
   },
   "outputs": [],
   "source": [
    "timestamps = pd.read_sql(\"select distinct record_time from EBAY_TOP_BERLIN order by record_time desc limit 2\", sqlite3.connect(\"UsedObjects.db\"))"
   ]
  },
  {
   "cell_type": "code",
   "execution_count": 3,
   "id": "periodic-identification",
   "metadata": {
    "execution": {
     "iopub.execute_input": "2021-08-12T13:30:04.647613Z",
     "iopub.status.busy": "2021-08-12T13:30:04.646854Z",
     "iopub.status.idle": "2021-08-12T13:30:04.657280Z",
     "shell.execute_reply": "2021-08-12T13:30:04.657807Z"
    },
    "papermill": {
     "duration": 0.031507,
     "end_time": "2021-08-12T13:30:04.657983",
     "exception": false,
     "start_time": "2021-08-12T13:30:04.626476",
     "status": "completed"
    },
    "tags": []
   },
   "outputs": [
    {
     "data": {
      "text/html": [
       "<div>\n",
       "<style scoped>\n",
       "    .dataframe tbody tr th:only-of-type {\n",
       "        vertical-align: middle;\n",
       "    }\n",
       "\n",
       "    .dataframe tbody tr th {\n",
       "        vertical-align: top;\n",
       "    }\n",
       "\n",
       "    .dataframe thead th {\n",
       "        text-align: right;\n",
       "    }\n",
       "</style>\n",
       "<table border=\"1\" class=\"dataframe\">\n",
       "  <thead>\n",
       "    <tr style=\"text-align: right;\">\n",
       "      <th></th>\n",
       "      <th>RECORD_TIME</th>\n",
       "    </tr>\n",
       "  </thead>\n",
       "  <tbody>\n",
       "    <tr>\n",
       "      <th>0</th>\n",
       "      <td>2021-08-12 15:30</td>\n",
       "    </tr>\n",
       "    <tr>\n",
       "      <th>1</th>\n",
       "      <td>2021-08-12 15:00</td>\n",
       "    </tr>\n",
       "  </tbody>\n",
       "</table>\n",
       "</div>"
      ],
      "text/plain": [
       "        RECORD_TIME\n",
       "0  2021-08-12 15:30\n",
       "1  2021-08-12 15:00"
      ]
     },
     "execution_count": 3,
     "metadata": {},
     "output_type": "execute_result"
    }
   ],
   "source": [
    "timestamps"
   ]
  },
  {
   "cell_type": "code",
   "execution_count": 4,
   "id": "alternate-victory",
   "metadata": {
    "execution": {
     "iopub.execute_input": "2021-08-12T13:30:04.684556Z",
     "iopub.status.busy": "2021-08-12T13:30:04.683709Z",
     "iopub.status.idle": "2021-08-12T13:30:04.712826Z",
     "shell.execute_reply": "2021-08-12T13:30:04.713437Z"
    },
    "papermill": {
     "duration": 0.042595,
     "end_time": "2021-08-12T13:30:04.713620",
     "exception": false,
     "start_time": "2021-08-12T13:30:04.671025",
     "status": "completed"
    },
    "tags": []
   },
   "outputs": [],
   "source": [
    "df = pd.read_sql(\"select * from EBAY_TOP_BERLIN where record_time in (select distinct record_time from EBAY_TOP_BERLIN order by record_time desc limit 2)\", sqlite3.connect(\"UsedObjects.db\"))"
   ]
  },
  {
   "cell_type": "code",
   "execution_count": 5,
   "id": "popular-active",
   "metadata": {
    "execution": {
     "iopub.execute_input": "2021-08-12T13:30:04.746602Z",
     "iopub.status.busy": "2021-08-12T13:30:04.745413Z",
     "iopub.status.idle": "2021-08-12T13:30:04.764667Z",
     "shell.execute_reply": "2021-08-12T13:30:04.765237Z"
    },
    "papermill": {
     "duration": 0.039623,
     "end_time": "2021-08-12T13:30:04.765499",
     "exception": false,
     "start_time": "2021-08-12T13:30:04.725876",
     "status": "completed"
    },
    "tags": []
   },
   "outputs": [],
   "source": [
    "df_pivot = df.pivot_table(index=\"PRODUCT\", columns = \"RECORD_TIME\", values = \"LISTING_COUNT\")"
   ]
  },
  {
   "cell_type": "code",
   "execution_count": 6,
   "id": "union-huntington",
   "metadata": {
    "execution": {
     "iopub.execute_input": "2021-08-12T13:30:04.791219Z",
     "iopub.status.busy": "2021-08-12T13:30:04.789817Z",
     "iopub.status.idle": "2021-08-12T13:30:04.793689Z",
     "shell.execute_reply": "2021-08-12T13:30:04.794575Z"
    },
    "papermill": {
     "duration": 0.020887,
     "end_time": "2021-08-12T13:30:04.794893",
     "exception": false,
     "start_time": "2021-08-12T13:30:04.774006",
     "status": "completed"
    },
    "tags": []
   },
   "outputs": [],
   "source": [
    "df_pivot.columns = [\"stamp_1\", \"stamp_2\"]\n",
    "df_pivot_diff = df_pivot.diff(axis=1)"
   ]
  },
  {
   "cell_type": "code",
   "execution_count": 7,
   "id": "fifth-motion",
   "metadata": {
    "execution": {
     "iopub.execute_input": "2021-08-12T13:30:04.828303Z",
     "iopub.status.busy": "2021-08-12T13:30:04.827547Z",
     "iopub.status.idle": "2021-08-12T13:30:05.512764Z",
     "shell.execute_reply": "2021-08-12T13:30:05.512201Z"
    },
    "papermill": {
     "duration": 0.699828,
     "end_time": "2021-08-12T13:30:05.512914",
     "exception": false,
     "start_time": "2021-08-12T13:30:04.813086",
     "status": "completed"
    },
    "tags": []
   },
   "outputs": [
    {
     "data": {
      "text/plain": [
       "<AxesSubplot:ylabel='PRODUCT'>"
      ]
     },
     "execution_count": 7,
     "metadata": {},
     "output_type": "execute_result"
    },
    {
     "data": {
      "image/png": "[encoded data removed]",
      "text/plain": [
       "<Figure size 432x288 with 1 Axes>"
      ]
     },
     "metadata": {
      "needs_background": "light"
     },
     "output_type": "display_data"
    }
   ],
   "source": [
    "df_pivot_diff.sort_values(\"stamp_2\", ascending = False)[\"stamp_2\"].head(10).plot.barh()"
   ]
  },
  {
   "cell_type": "code",
   "execution_count": null,
   "id": "extra-executive",
   "metadata": {
    "papermill": {
     "duration": 0.011609,
     "end_time": "2021-08-12T13:30:05.534238",
     "exception": false,
     "start_time": "2021-08-12T13:30:05.522629",
     "status": "completed"
    },
    "tags": []
   },
   "outputs": [],
   "source": []
  }
 ],
 "metadata": {
  "kernelspec": {
   "display_name": "Python 3",
   "language": "python",
   "name": "python3"
  },
  "language_info": {
   "codemirror_mode": {
    "name": "ipython",
    "version": 3
   },
   "file_extension": ".py",
   "mimetype": "text/x-python",
   "name": "python",
   "nbconvert_exporter": "python",
   "pygments_lexer": "ipython3",
   "version": "3.8.8"
  },
  "papermill": {
   "default_parameters": {},
   "duration": 4.919203,
   "end_time": "2021-08-12T13:30:06.985617",
   "environment_variables": {},
   "exception": null,
   "input_path": "/Users/saravananshanmugam/Carbonleakage_Git/UsedObjects/eBay_Overview.ipynb",
   "output_path": "/Users/saravananshanmugam/Carbonleakage_Git/UsedObjects/eBay_Overview.ipynb",
   "parameters": {},
   "start_time": "2021-08-12T13:30:02.066414",
   "version": "2.3.3"
  }
 },
 "nbformat": 4,
 "nbformat_minor": 5
}