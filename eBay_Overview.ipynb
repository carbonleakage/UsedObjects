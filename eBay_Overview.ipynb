{
 "cells": [
  {
   "cell_type": "code",
   "execution_count": 1,
   "id": "reverse-picking",
   "metadata": {
    "execution": {
     "iopub.execute_input": "2021-11-30T04:30:07.859340Z",
     "iopub.status.busy": "2021-11-30T04:30:07.857030Z",
     "iopub.status.idle": "2021-11-30T04:30:08.823779Z",
     "shell.execute_reply": "2021-11-30T04:30:08.825494Z"
    },
    "papermill": {
     "duration": 1.01872,
     "end_time": "2021-11-30T04:30:08.826726",
     "exception": false,
     "start_time": "2021-11-30T04:30:07.808006",
     "status": "completed"
    },
    "tags": []
   },
   "outputs": [],
   "source": [
    "import pandas as pd\n",
    "import sqlite3"
   ]
  },
  {
   "cell_type": "code",
   "execution_count": 2,
   "id": "innovative-syndrome",
   "metadata": {
    "execution": {
     "iopub.execute_input": "2021-11-30T04:30:08.889240Z",
     "iopub.status.busy": "2021-11-30T04:30:08.886776Z",
     "iopub.status.idle": "2021-11-30T04:30:09.839265Z",
     "shell.execute_reply": "2021-11-30T04:30:09.840642Z"
    },
    "papermill": {
     "duration": 0.986398,
     "end_time": "2021-11-30T04:30:09.841184",
     "exception": false,
     "start_time": "2021-11-30T04:30:08.854786",
     "status": "completed"
    },
    "tags": []
   },
   "outputs": [],
   "source": [
    "timestamps = pd.read_sql(\"select distinct record_time from EBAY_TOP_BERLIN order by record_time desc limit 2\", sqlite3.connect(\"UsedObjects.db\"))"
   ]
  },
  {
   "cell_type": "code",
   "execution_count": 3,
   "id": "periodic-identification",
   "metadata": {
    "execution": {
     "iopub.execute_input": "2021-11-30T04:30:09.913393Z",
     "iopub.status.busy": "2021-11-30T04:30:09.911018Z",
     "iopub.status.idle": "2021-11-30T04:30:09.934968Z",
     "shell.execute_reply": "2021-11-30T04:30:09.936751Z"
    },
    "papermill": {
     "duration": 0.074734,
     "end_time": "2021-11-30T04:30:09.937303",
     "exception": false,
     "start_time": "2021-11-30T04:30:09.862569",
     "status": "completed"
    },
    "tags": []
   },
   "outputs": [
    {
     "data": {
      "text/html": [
       "<div>\n",
       "<style scoped>\n",
       "    .dataframe tbody tr th:only-of-type {\n",
       "        vertical-align: middle;\n",
       "    }\n",
       "\n",
       "    .dataframe tbody tr th {\n",
       "        vertical-align: top;\n",
       "    }\n",
       "\n",
       "    .dataframe thead th {\n",
       "        text-align: right;\n",
       "    }\n",
       "</style>\n",
       "<table border=\"1\" class=\"dataframe\">\n",
       "  <thead>\n",
       "    <tr style=\"text-align: right;\">\n",
       "      <th></th>\n",
       "      <th>RECORD_TIME</th>\n",
       "    </tr>\n",
       "  </thead>\n",
       "  <tbody>\n",
       "    <tr>\n",
       "      <th>0</th>\n",
       "      <td>2021-11-30 05:30</td>\n",
       "    </tr>\n",
       "    <tr>\n",
       "      <th>1</th>\n",
       "      <td>2021-11-30 05:00</td>\n",
       "    </tr>\n",
       "  </tbody>\n",
       "</table>\n",
       "</div>"
      ],
      "text/plain": [
       "        RECORD_TIME\n",
       "0  2021-11-30 05:30\n",
       "1  2021-11-30 05:00"
      ]
     },
     "execution_count": 3,
     "metadata": {},
     "output_type": "execute_result"
    }
   ],
   "source": [
    "timestamps"
   ]
  },
  {
   "cell_type": "code",
   "execution_count": 4,
   "id": "alternate-victory",
   "metadata": {
    "execution": {
     "iopub.execute_input": "2021-11-30T04:30:09.995580Z",
     "iopub.status.busy": "2021-11-30T04:30:09.993501Z",
     "iopub.status.idle": "2021-11-30T04:30:11.400578Z",
     "shell.execute_reply": "2021-11-30T04:30:11.402122Z"
    },
    "papermill": {
     "duration": 1.443318,
     "end_time": "2021-11-30T04:30:11.402629",
     "exception": false,
     "start_time": "2021-11-30T04:30:09.959311",
     "status": "completed"
    },
    "tags": []
   },
   "outputs": [],
   "source": [
    "df = pd.read_sql(\"select * from EBAY_TOP_BERLIN where record_time in (select distinct record_time from EBAY_TOP_BERLIN order by record_time desc limit 2)\", sqlite3.connect(\"UsedObjects.db\"))"
   ]
  },
  {
   "cell_type": "code",
   "execution_count": 5,
   "id": "popular-active",
   "metadata": {
    "execution": {
     "iopub.execute_input": "2021-11-30T04:30:11.482999Z",
     "iopub.status.busy": "2021-11-30T04:30:11.467095Z",
     "iopub.status.idle": "2021-11-30T04:30:11.502469Z",
     "shell.execute_reply": "2021-11-30T04:30:11.503914Z"
    },
    "papermill": {
     "duration": 0.080008,
     "end_time": "2021-11-30T04:30:11.504411",
     "exception": false,
     "start_time": "2021-11-30T04:30:11.424403",
     "status": "completed"
    },
    "tags": []
   },
   "outputs": [],
   "source": [
    "df_pivot = df.pivot_table(index=\"PRODUCT\", columns = \"RECORD_TIME\", values = \"LISTING_COUNT\")"
   ]
  },
  {
   "cell_type": "code",
   "execution_count": 6,
   "id": "union-huntington",
   "metadata": {
    "execution": {
     "iopub.execute_input": "2021-11-30T04:30:11.567115Z",
     "iopub.status.busy": "2021-11-30T04:30:11.564850Z",
     "iopub.status.idle": "2021-11-30T04:30:11.571027Z",
     "shell.execute_reply": "2021-11-30T04:30:11.572583Z"
    },
    "papermill": {
     "duration": 0.0469,
     "end_time": "2021-11-30T04:30:11.573190",
     "exception": false,
     "start_time": "2021-11-30T04:30:11.526290",
     "status": "completed"
    },
    "tags": []
   },
   "outputs": [],
   "source": [
    "df_pivot.columns = [\"stamp_1\", \"stamp_2\"]\n",
    "df_pivot_diff = df_pivot.diff(axis=1)"
   ]
  },
  {
   "cell_type": "code",
   "execution_count": 7,
   "id": "fifth-motion",
   "metadata": {
    "execution": {
     "iopub.execute_input": "2021-11-30T04:30:11.630783Z",
     "iopub.status.busy": "2021-11-30T04:30:11.628245Z",
     "iopub.status.idle": "2021-11-30T04:30:13.566648Z",
     "shell.execute_reply": "2021-11-30T04:30:13.569419Z"
    },
    "papermill": {
     "duration": 1.976062,
     "end_time": "2021-11-30T04:30:13.570341",
     "exception": false,
     "start_time": "2021-11-30T04:30:11.594279",
     "status": "completed"
    },
    "tags": []
   },
   "outputs": [
    {
     "data": {
      "text/plain": [
       "<AxesSubplot:ylabel='PRODUCT'>"
      ]
     },
     "execution_count": 7,
     "metadata": {},
     "output_type": "execute_result"
    },
    {
     "data": {
      "image/png": "[encoded data removed]",
      "text/plain": [
       "<Figure size 432x288 with 1 Axes>"
      ]
     },
     "metadata": {
      "needs_background": "light"
     },
     "output_type": "display_data"
    }
   ],
   "source": [
    "df_pivot_diff.sort_values(\"stamp_2\", ascending = False)[\"stamp_2\"].head(10).plot.barh()"
   ]
  },
  {
   "cell_type": "code",
   "execution_count": null,
   "id": "extra-executive",
   "metadata": {
    "papermill": {
     "duration": 0.034927,
     "end_time": "2021-11-30T04:30:13.645220",
     "exception": false,
     "start_time": "2021-11-30T04:30:13.610293",
     "status": "completed"
    },
    "tags": []
   },
   "outputs": [],
   "source": []
  }
 ],
 "metadata": {
  "kernelspec": {
   "display_name": "Python 3",
   "language": "python",
   "name": "python3"
  },
  "language_info": {
   "codemirror_mode": {
    "name": "ipython",
    "version": 3
   },
   "file_extension": ".py",
   "mimetype": "text/x-python",
   "name": "python",
   "nbconvert_exporter": "python",
   "pygments_lexer": "ipython3",
   "version": "3.9.5"
  },
  "papermill": {
   "default_parameters": {},
   "duration": 9.936004,
   "end_time": "2021-11-30T04:30:14.993793",
   "environment_variables": {},
   "exception": null,
   "input_path": "eBay_Overview.ipynb",
   "output_path": "eBay_Overview.ipynb",
   "parameters": {},
   "start_time": "2021-11-30T04:30:05.057789",
   "version": "2.3.3"
  }
 },
 "nbformat": 4,
 "nbformat_minor": 5
}