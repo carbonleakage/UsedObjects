{
 "cells": [
  {
   "cell_type": "code",
   "execution_count": 1,
   "id": "reverse-picking",
   "metadata": {
    "execution": {
     "iopub.execute_input": "2021-09-07T01:00:06.672937Z",
     "iopub.status.busy": "2021-09-07T01:00:06.670938Z",
     "iopub.status.idle": "2021-09-07T01:00:07.482139Z",
     "shell.execute_reply": "2021-09-07T01:00:07.480564Z"
    },
    "papermill": {
     "duration": 0.862545,
     "end_time": "2021-09-07T01:00:07.482525",
     "exception": false,
     "start_time": "2021-09-07T01:00:06.619980",
     "status": "completed"
    },
    "tags": []
   },
   "outputs": [],
   "source": [
    "import pandas as pd\n",
    "import sqlite3"
   ]
  },
  {
   "cell_type": "code",
   "execution_count": 2,
   "id": "innovative-syndrome",
   "metadata": {
    "execution": {
     "iopub.execute_input": "2021-09-07T01:00:07.535869Z",
     "iopub.status.busy": "2021-09-07T01:00:07.533485Z",
     "iopub.status.idle": "2021-09-07T01:00:07.757272Z",
     "shell.execute_reply": "2021-09-07T01:00:07.758401Z"
    },
    "papermill": {
     "duration": 0.253742,
     "end_time": "2021-09-07T01:00:07.758811",
     "exception": false,
     "start_time": "2021-09-07T01:00:07.505069",
     "status": "completed"
    },
    "tags": []
   },
   "outputs": [],
   "source": [
    "timestamps = pd.read_sql(\"select distinct record_time from EBAY_TOP_BERLIN order by record_time desc limit 2\", sqlite3.connect(\"UsedObjects.db\"))"
   ]
  },
  {
   "cell_type": "code",
   "execution_count": 3,
   "id": "periodic-identification",
   "metadata": {
    "execution": {
     "iopub.execute_input": "2021-09-07T01:00:07.826939Z",
     "iopub.status.busy": "2021-09-07T01:00:07.824817Z",
     "iopub.status.idle": "2021-09-07T01:00:07.844945Z",
     "shell.execute_reply": "2021-09-07T01:00:07.846225Z"
    },
    "papermill": {
     "duration": 0.066298,
     "end_time": "2021-09-07T01:00:07.846679",
     "exception": false,
     "start_time": "2021-09-07T01:00:07.780381",
     "status": "completed"
    },
    "tags": []
   },
   "outputs": [
    {
     "data": {
      "text/html": [
       "<div>\n",
       "<style scoped>\n",
       "    .dataframe tbody tr th:only-of-type {\n",
       "        vertical-align: middle;\n",
       "    }\n",
       "\n",
       "    .dataframe tbody tr th {\n",
       "        vertical-align: top;\n",
       "    }\n",
       "\n",
       "    .dataframe thead th {\n",
       "        text-align: right;\n",
       "    }\n",
       "</style>\n",
       "<table border=\"1\" class=\"dataframe\">\n",
       "  <thead>\n",
       "    <tr style=\"text-align: right;\">\n",
       "      <th></th>\n",
       "      <th>RECORD_TIME</th>\n",
       "    </tr>\n",
       "  </thead>\n",
       "  <tbody>\n",
       "    <tr>\n",
       "      <th>0</th>\n",
       "      <td>2021-09-07 03:00</td>\n",
       "    </tr>\n",
       "    <tr>\n",
       "      <th>1</th>\n",
       "      <td>2021-09-07 02:30</td>\n",
       "    </tr>\n",
       "  </tbody>\n",
       "</table>\n",
       "</div>"
      ],
      "text/plain": [
       "        RECORD_TIME\n",
       "0  2021-09-07 03:00\n",
       "1  2021-09-07 02:30"
      ]
     },
     "execution_count": 3,
     "metadata": {},
     "output_type": "execute_result"
    }
   ],
   "source": [
    "timestamps"
   ]
  },
  {
   "cell_type": "code",
   "execution_count": 4,
   "id": "alternate-victory",
   "metadata": {
    "execution": {
     "iopub.execute_input": "2021-09-07T01:00:07.897741Z",
     "iopub.status.busy": "2021-09-07T01:00:07.895858Z",
     "iopub.status.idle": "2021-09-07T01:00:08.226293Z",
     "shell.execute_reply": "2021-09-07T01:00:08.227656Z"
    },
    "papermill": {
     "duration": 0.360672,
     "end_time": "2021-09-07T01:00:08.228087",
     "exception": false,
     "start_time": "2021-09-07T01:00:07.867415",
     "status": "completed"
    },
    "tags": []
   },
   "outputs": [],
   "source": [
    "df = pd.read_sql(\"select * from EBAY_TOP_BERLIN where record_time in (select distinct record_time from EBAY_TOP_BERLIN order by record_time desc limit 2)\", sqlite3.connect(\"UsedObjects.db\"))"
   ]
  },
  {
   "cell_type": "code",
   "execution_count": 5,
   "id": "popular-active",
   "metadata": {
    "execution": {
     "iopub.execute_input": "2021-09-07T01:00:08.311997Z",
     "iopub.status.busy": "2021-09-07T01:00:08.300569Z",
     "iopub.status.idle": "2021-09-07T01:00:08.329118Z",
     "shell.execute_reply": "2021-09-07T01:00:08.330416Z"
    },
    "papermill": {
     "duration": 0.074043,
     "end_time": "2021-09-07T01:00:08.330835",
     "exception": false,
     "start_time": "2021-09-07T01:00:08.256792",
     "status": "completed"
    },
    "tags": []
   },
   "outputs": [],
   "source": [
    "df_pivot = df.pivot_table(index=\"PRODUCT\", columns = \"RECORD_TIME\", values = \"LISTING_COUNT\")"
   ]
  },
  {
   "cell_type": "code",
   "execution_count": 6,
   "id": "union-huntington",
   "metadata": {
    "execution": {
     "iopub.execute_input": "2021-09-07T01:00:08.387242Z",
     "iopub.status.busy": "2021-09-07T01:00:08.385097Z",
     "iopub.status.idle": "2021-09-07T01:00:08.390537Z",
     "shell.execute_reply": "2021-09-07T01:00:08.391904Z"
    },
    "papermill": {
     "duration": 0.041407,
     "end_time": "2021-09-07T01:00:08.392331",
     "exception": false,
     "start_time": "2021-09-07T01:00:08.350924",
     "status": "completed"
    },
    "tags": []
   },
   "outputs": [],
   "source": [
    "df_pivot.columns = [\"stamp_1\", \"stamp_2\"]\n",
    "df_pivot_diff = df_pivot.diff(axis=1)"
   ]
  },
  {
   "cell_type": "code",
   "execution_count": 7,
   "id": "fifth-motion",
   "metadata": {
    "execution": {
     "iopub.execute_input": "2021-09-07T01:00:08.447362Z",
     "iopub.status.busy": "2021-09-07T01:00:08.444863Z",
     "iopub.status.idle": "2021-09-07T01:00:09.940166Z",
     "shell.execute_reply": "2021-09-07T01:00:09.941547Z"
    },
    "papermill": {
     "duration": 1.528425,
     "end_time": "2021-09-07T01:00:09.941993",
     "exception": false,
     "start_time": "2021-09-07T01:00:08.413568",
     "status": "completed"
    },
    "tags": []
   },
   "outputs": [
    {
     "data": {
      "text/plain": [
       "<AxesSubplot:ylabel='PRODUCT'>"
      ]
     },
     "execution_count": 7,
     "metadata": {},
     "output_type": "execute_result"
    },
    {
     "data": {
      "image/png": "[encoded data removed]",
      "text/plain": [
       "<Figure size 432x288 with 1 Axes>"
      ]
     },
     "metadata": {
      "needs_background": "light"
     },
     "output_type": "display_data"
    }
   ],
   "source": [
    "df_pivot_diff.sort_values(\"stamp_2\", ascending = False)[\"stamp_2\"].head(10).plot.barh()"
   ]
  },
  {
   "cell_type": "code",
   "execution_count": null,
   "id": "extra-executive",
   "metadata": {
    "papermill": {
     "duration": 0.022062,
     "end_time": "2021-09-07T01:00:09.988252",
     "exception": false,
     "start_time": "2021-09-07T01:00:09.966190",
     "status": "completed"
    },
    "tags": []
   },
   "outputs": [],
   "source": []
  }
 ],
 "metadata": {
  "kernelspec": {
   "display_name": "Python 3",
   "language": "python",
   "name": "python3"
  },
  "language_info": {
   "codemirror_mode": {
    "name": "ipython",
    "version": 3
   },
   "file_extension": ".py",
   "mimetype": "text/x-python",
   "name": "python",
   "nbconvert_exporter": "python",
   "pygments_lexer": "ipython3",
   "version": "3.9.5"
  },
  "papermill": {
   "default_parameters": {},
   "duration": 6.428025,
   "end_time": "2021-09-07T01:00:10.629163",
   "environment_variables": {},
   "exception": null,
   "input_path": "eBay_Overview.ipynb",
   "output_path": "eBay_Overview.ipynb",
   "parameters": {},
   "start_time": "2021-09-07T01:00:04.201138",
   "version": "2.3.3"
  }
 },
 "nbformat": 4,
 "nbformat_minor": 5
}