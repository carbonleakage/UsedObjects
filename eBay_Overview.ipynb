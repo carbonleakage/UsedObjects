{
 "cells": [
  {
   "cell_type": "code",
   "execution_count": 1,
   "id": "reverse-picking",
   "metadata": {
    "execution": {
     "iopub.execute_input": "2021-12-12T17:00:07.303285Z",
     "iopub.status.busy": "2021-12-12T17:00:07.300936Z",
     "iopub.status.idle": "2021-12-12T17:00:08.253117Z",
     "shell.execute_reply": "2021-12-12T17:00:08.254728Z"
    },
    "papermill": {
     "duration": 1.002306,
     "end_time": "2021-12-12T17:00:08.255542",
     "exception": false,
     "start_time": "2021-12-12T17:00:07.253236",
     "status": "completed"
    },
    "tags": []
   },
   "outputs": [],
   "source": [
    "import pandas as pd\n",
    "import sqlite3"
   ]
  },
  {
   "cell_type": "code",
   "execution_count": 2,
   "id": "innovative-syndrome",
   "metadata": {
    "execution": {
     "iopub.execute_input": "2021-12-12T17:00:08.317700Z",
     "iopub.status.busy": "2021-12-12T17:00:08.315401Z",
     "iopub.status.idle": "2021-12-12T17:00:09.384163Z",
     "shell.execute_reply": "2021-12-12T17:00:09.385726Z"
    },
    "papermill": {
     "duration": 1.103418,
     "end_time": "2021-12-12T17:00:09.386207",
     "exception": false,
     "start_time": "2021-12-12T17:00:08.282789",
     "status": "completed"
    },
    "tags": []
   },
   "outputs": [],
   "source": [
    "timestamps = pd.read_sql(\"select distinct record_time from EBAY_TOP_BERLIN order by record_time desc limit 2\", sqlite3.connect(\"UsedObjects.db\"))"
   ]
  },
  {
   "cell_type": "code",
   "execution_count": 3,
   "id": "periodic-identification",
   "metadata": {
    "execution": {
     "iopub.execute_input": "2021-12-12T17:00:09.469942Z",
     "iopub.status.busy": "2021-12-12T17:00:09.453063Z",
     "iopub.status.idle": "2021-12-12T17:00:09.477518Z",
     "shell.execute_reply": "2021-12-12T17:00:09.479029Z"
    },
    "papermill": {
     "duration": 0.073496,
     "end_time": "2021-12-12T17:00:09.479504",
     "exception": false,
     "start_time": "2021-12-12T17:00:09.406008",
     "status": "completed"
    },
    "tags": []
   },
   "outputs": [
    {
     "data": {
      "text/html": [
       "<div>\n",
       "<style scoped>\n",
       "    .dataframe tbody tr th:only-of-type {\n",
       "        vertical-align: middle;\n",
       "    }\n",
       "\n",
       "    .dataframe tbody tr th {\n",
       "        vertical-align: top;\n",
       "    }\n",
       "\n",
       "    .dataframe thead th {\n",
       "        text-align: right;\n",
       "    }\n",
       "</style>\n",
       "<table border=\"1\" class=\"dataframe\">\n",
       "  <thead>\n",
       "    <tr style=\"text-align: right;\">\n",
       "      <th></th>\n",
       "      <th>RECORD_TIME</th>\n",
       "    </tr>\n",
       "  </thead>\n",
       "  <tbody>\n",
       "    <tr>\n",
       "      <th>0</th>\n",
       "      <td>2021-12-12 18:00</td>\n",
       "    </tr>\n",
       "    <tr>\n",
       "      <th>1</th>\n",
       "      <td>2021-12-12 17:30</td>\n",
       "    </tr>\n",
       "  </tbody>\n",
       "</table>\n",
       "</div>"
      ],
      "text/plain": [
       "        RECORD_TIME\n",
       "0  2021-12-12 18:00\n",
       "1  2021-12-12 17:30"
      ]
     },
     "execution_count": 3,
     "metadata": {},
     "output_type": "execute_result"
    }
   ],
   "source": [
    "timestamps"
   ]
  },
  {
   "cell_type": "code",
   "execution_count": 4,
   "id": "alternate-victory",
   "metadata": {
    "execution": {
     "iopub.execute_input": "2021-12-12T17:00:09.535904Z",
     "iopub.status.busy": "2021-12-12T17:00:09.533733Z",
     "iopub.status.idle": "2021-12-12T17:00:11.074618Z",
     "shell.execute_reply": "2021-12-12T17:00:11.076205Z"
    },
    "papermill": {
     "duration": 1.575381,
     "end_time": "2021-12-12T17:00:11.076830",
     "exception": false,
     "start_time": "2021-12-12T17:00:09.501449",
     "status": "completed"
    },
    "tags": []
   },
   "outputs": [],
   "source": [
    "df = pd.read_sql(\"select * from EBAY_TOP_BERLIN where record_time in (select distinct record_time from EBAY_TOP_BERLIN order by record_time desc limit 2)\", sqlite3.connect(\"UsedObjects.db\"))"
   ]
  },
  {
   "cell_type": "code",
   "execution_count": 5,
   "id": "popular-active",
   "metadata": {
    "execution": {
     "iopub.execute_input": "2021-12-12T17:00:11.156368Z",
     "iopub.status.busy": "2021-12-12T17:00:11.142788Z",
     "iopub.status.idle": "2021-12-12T17:00:11.174781Z",
     "shell.execute_reply": "2021-12-12T17:00:11.176289Z"
    },
    "papermill": {
     "duration": 0.077415,
     "end_time": "2021-12-12T17:00:11.176787",
     "exception": false,
     "start_time": "2021-12-12T17:00:11.099372",
     "status": "completed"
    },
    "tags": []
   },
   "outputs": [],
   "source": [
    "df_pivot = df.pivot_table(index=\"PRODUCT\", columns = \"RECORD_TIME\", values = \"LISTING_COUNT\")"
   ]
  },
  {
   "cell_type": "code",
   "execution_count": 6,
   "id": "union-huntington",
   "metadata": {
    "execution": {
     "iopub.execute_input": "2021-12-12T17:00:11.237890Z",
     "iopub.status.busy": "2021-12-12T17:00:11.235506Z",
     "iopub.status.idle": "2021-12-12T17:00:11.243144Z",
     "shell.execute_reply": "2021-12-12T17:00:11.241553Z"
    },
    "papermill": {
     "duration": 0.046484,
     "end_time": "2021-12-12T17:00:11.243530",
     "exception": false,
     "start_time": "2021-12-12T17:00:11.197046",
     "status": "completed"
    },
    "tags": []
   },
   "outputs": [],
   "source": [
    "df_pivot.columns = [\"stamp_1\", \"stamp_2\"]\n",
    "df_pivot_diff = df_pivot.diff(axis=1)"
   ]
  },
  {
   "cell_type": "code",
   "execution_count": 7,
   "id": "fifth-motion",
   "metadata": {
    "execution": {
     "iopub.execute_input": "2021-12-12T17:00:11.304748Z",
     "iopub.status.busy": "2021-12-12T17:00:11.302234Z",
     "iopub.status.idle": "2021-12-12T17:00:13.215684Z",
     "shell.execute_reply": "2021-12-12T17:00:13.217260Z"
    },
    "papermill": {
     "duration": 1.950681,
     "end_time": "2021-12-12T17:00:13.217760",
     "exception": false,
     "start_time": "2021-12-12T17:00:11.267079",
     "status": "completed"
    },
    "tags": []
   },
   "outputs": [
    {
     "data": {
      "text/plain": [
       "<AxesSubplot:ylabel='PRODUCT'>"
      ]
     },
     "execution_count": 7,
     "metadata": {},
     "output_type": "execute_result"
    },
    {
     "data": {
      "image/png": "[encoded data removed]",
      "text/plain": [
       "<Figure size 432x288 with 1 Axes>"
      ]
     },
     "metadata": {
      "needs_background": "light"
     },
     "output_type": "display_data"
    }
   ],
   "source": [
    "df_pivot_diff.sort_values(\"stamp_2\", ascending = False)[\"stamp_2\"].head(10).plot.barh()"
   ]
  },
  {
   "cell_type": "code",
   "execution_count": null,
   "id": "extra-executive",
   "metadata": {
    "papermill": {
     "duration": 0.023901,
     "end_time": "2021-12-12T17:00:13.266349",
     "exception": false,
     "start_time": "2021-12-12T17:00:13.242448",
     "status": "completed"
    },
    "tags": []
   },
   "outputs": [],
   "source": []
  }
 ],
 "metadata": {
  "kernelspec": {
   "display_name": "Python 3",
   "language": "python",
   "name": "python3"
  },
  "language_info": {
   "codemirror_mode": {
    "name": "ipython",
    "version": 3
   },
   "file_extension": ".py",
   "mimetype": "text/x-python",
   "name": "python",
   "nbconvert_exporter": "python",
   "pygments_lexer": "ipython3",
   "version": "3.9.5"
  },
  "papermill": {
   "default_parameters": {},
   "duration": 10.008113,
   "end_time": "2021-12-12T17:00:14.461766",
   "environment_variables": {},
   "exception": null,
   "input_path": "eBay_Overview.ipynb",
   "output_path": "eBay_Overview.ipynb",
   "parameters": {},
   "start_time": "2021-12-12T17:00:04.453653",
   "version": "2.3.3"
  }
 },
 "nbformat": 4,
 "nbformat_minor": 5
}