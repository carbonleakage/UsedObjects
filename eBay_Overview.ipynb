{
 "cells": [
  {
   "cell_type": "code",
   "execution_count": 1,
   "id": "reverse-picking",
   "metadata": {
    "execution": {
     "iopub.execute_input": "2021-08-24T18:30:07.452078Z",
     "iopub.status.busy": "2021-08-24T18:30:07.450112Z",
     "iopub.status.idle": "2021-08-24T18:30:08.258375Z",
     "shell.execute_reply": "2021-08-24T18:30:08.259657Z"
    },
    "papermill": {
     "duration": 0.861051,
     "end_time": "2021-08-24T18:30:08.260288",
     "exception": false,
     "start_time": "2021-08-24T18:30:07.399237",
     "status": "completed"
    },
    "tags": []
   },
   "outputs": [],
   "source": [
    "import pandas as pd\n",
    "import sqlite3"
   ]
  },
  {
   "cell_type": "code",
   "execution_count": 2,
   "id": "innovative-syndrome",
   "metadata": {
    "execution": {
     "iopub.execute_input": "2021-08-24T18:30:08.314331Z",
     "iopub.status.busy": "2021-08-24T18:30:08.311951Z",
     "iopub.status.idle": "2021-08-24T18:30:08.435856Z",
     "shell.execute_reply": "2021-08-24T18:30:08.437065Z"
    },
    "papermill": {
     "duration": 0.153859,
     "end_time": "2021-08-24T18:30:08.437465",
     "exception": false,
     "start_time": "2021-08-24T18:30:08.283606",
     "status": "completed"
    },
    "tags": []
   },
   "outputs": [],
   "source": [
    "timestamps = pd.read_sql(\"select distinct record_time from EBAY_TOP_BERLIN order by record_time desc limit 2\", sqlite3.connect(\"UsedObjects.db\"))"
   ]
  },
  {
   "cell_type": "code",
   "execution_count": 3,
   "id": "periodic-identification",
   "metadata": {
    "execution": {
     "iopub.execute_input": "2021-08-24T18:30:08.504083Z",
     "iopub.status.busy": "2021-08-24T18:30:08.498773Z",
     "iopub.status.idle": "2021-08-24T18:30:08.518659Z",
     "shell.execute_reply": "2021-08-24T18:30:08.519884Z"
    },
    "papermill": {
     "duration": 0.063373,
     "end_time": "2021-08-24T18:30:08.520286",
     "exception": false,
     "start_time": "2021-08-24T18:30:08.456913",
     "status": "completed"
    },
    "tags": []
   },
   "outputs": [
    {
     "data": {
      "text/html": [
       "<div>\n",
       "<style scoped>\n",
       "    .dataframe tbody tr th:only-of-type {\n",
       "        vertical-align: middle;\n",
       "    }\n",
       "\n",
       "    .dataframe tbody tr th {\n",
       "        vertical-align: top;\n",
       "    }\n",
       "\n",
       "    .dataframe thead th {\n",
       "        text-align: right;\n",
       "    }\n",
       "</style>\n",
       "<table border=\"1\" class=\"dataframe\">\n",
       "  <thead>\n",
       "    <tr style=\"text-align: right;\">\n",
       "      <th></th>\n",
       "      <th>RECORD_TIME</th>\n",
       "    </tr>\n",
       "  </thead>\n",
       "  <tbody>\n",
       "    <tr>\n",
       "      <th>0</th>\n",
       "      <td>2021-08-24 20:30</td>\n",
       "    </tr>\n",
       "    <tr>\n",
       "      <th>1</th>\n",
       "      <td>2021-08-24 20:00</td>\n",
       "    </tr>\n",
       "  </tbody>\n",
       "</table>\n",
       "</div>"
      ],
      "text/plain": [
       "        RECORD_TIME\n",
       "0  2021-08-24 20:30\n",
       "1  2021-08-24 20:00"
      ]
     },
     "execution_count": 3,
     "metadata": {},
     "output_type": "execute_result"
    }
   ],
   "source": [
    "timestamps"
   ]
  },
  {
   "cell_type": "code",
   "execution_count": 4,
   "id": "alternate-victory",
   "metadata": {
    "execution": {
     "iopub.execute_input": "2021-08-24T18:30:08.571924Z",
     "iopub.status.busy": "2021-08-24T18:30:08.569658Z",
     "iopub.status.idle": "2021-08-24T18:30:08.756047Z",
     "shell.execute_reply": "2021-08-24T18:30:08.757266Z"
    },
    "papermill": {
     "duration": 0.216293,
     "end_time": "2021-08-24T18:30:08.757665",
     "exception": false,
     "start_time": "2021-08-24T18:30:08.541372",
     "status": "completed"
    },
    "tags": []
   },
   "outputs": [],
   "source": [
    "df = pd.read_sql(\"select * from EBAY_TOP_BERLIN where record_time in (select distinct record_time from EBAY_TOP_BERLIN order by record_time desc limit 2)\", sqlite3.connect(\"UsedObjects.db\"))"
   ]
  },
  {
   "cell_type": "code",
   "execution_count": 5,
   "id": "popular-active",
   "metadata": {
    "execution": {
     "iopub.execute_input": "2021-08-24T18:30:08.827024Z",
     "iopub.status.busy": "2021-08-24T18:30:08.815737Z",
     "iopub.status.idle": "2021-08-24T18:30:08.843795Z",
     "shell.execute_reply": "2021-08-24T18:30:08.845005Z"
    },
    "papermill": {
     "duration": 0.067231,
     "end_time": "2021-08-24T18:30:08.845400",
     "exception": false,
     "start_time": "2021-08-24T18:30:08.778169",
     "status": "completed"
    },
    "tags": []
   },
   "outputs": [],
   "source": [
    "df_pivot = df.pivot_table(index=\"PRODUCT\", columns = \"RECORD_TIME\", values = \"LISTING_COUNT\")"
   ]
  },
  {
   "cell_type": "code",
   "execution_count": 6,
   "id": "union-huntington",
   "metadata": {
    "execution": {
     "iopub.execute_input": "2021-08-24T18:30:08.911619Z",
     "iopub.status.busy": "2021-08-24T18:30:08.909548Z",
     "iopub.status.idle": "2021-08-24T18:30:08.914667Z",
     "shell.execute_reply": "2021-08-24T18:30:08.915888Z"
    },
    "papermill": {
     "duration": 0.044469,
     "end_time": "2021-08-24T18:30:08.916284",
     "exception": false,
     "start_time": "2021-08-24T18:30:08.871815",
     "status": "completed"
    },
    "tags": []
   },
   "outputs": [],
   "source": [
    "df_pivot.columns = [\"stamp_1\", \"stamp_2\"]\n",
    "df_pivot_diff = df_pivot.diff(axis=1)"
   ]
  },
  {
   "cell_type": "code",
   "execution_count": 7,
   "id": "fifth-motion",
   "metadata": {
    "execution": {
     "iopub.execute_input": "2021-08-24T18:30:08.974529Z",
     "iopub.status.busy": "2021-08-24T18:30:08.971811Z",
     "iopub.status.idle": "2021-08-24T18:30:10.480364Z",
     "shell.execute_reply": "2021-08-24T18:30:10.481646Z"
    },
    "papermill": {
     "duration": 1.542307,
     "end_time": "2021-08-24T18:30:10.482129",
     "exception": false,
     "start_time": "2021-08-24T18:30:08.939822",
     "status": "completed"
    },
    "tags": []
   },
   "outputs": [
    {
     "data": {
      "text/plain": [
       "<AxesSubplot:ylabel='PRODUCT'>"
      ]
     },
     "execution_count": 7,
     "metadata": {},
     "output_type": "execute_result"
    },
    {
     "data": {
      "image/png": "[encoded data removed]",
      "text/plain": [
       "<Figure size 432x288 with 1 Axes>"
      ]
     },
     "metadata": {
      "needs_background": "light"
     },
     "output_type": "display_data"
    }
   ],
   "source": [
    "df_pivot_diff.sort_values(\"stamp_2\", ascending = False)[\"stamp_2\"].head(10).plot.barh()"
   ]
  },
  {
   "cell_type": "code",
   "execution_count": null,
   "id": "extra-executive",
   "metadata": {
    "papermill": {
     "duration": 0.022345,
     "end_time": "2021-08-24T18:30:10.528921",
     "exception": false,
     "start_time": "2021-08-24T18:30:10.506576",
     "status": "completed"
    },
    "tags": []
   },
   "outputs": [],
   "source": []
  }
 ],
 "metadata": {
  "kernelspec": {
   "display_name": "Python 3",
   "language": "python",
   "name": "python3"
  },
  "language_info": {
   "codemirror_mode": {
    "name": "ipython",
    "version": 3
   },
   "file_extension": ".py",
   "mimetype": "text/x-python",
   "name": "python",
   "nbconvert_exporter": "python",
   "pygments_lexer": "ipython3",
   "version": "3.9.5"
  },
  "papermill": {
   "default_parameters": {},
   "duration": 6.823986,
   "end_time": "2021-08-24T18:30:11.811247",
   "environment_variables": {},
   "exception": null,
   "input_path": "eBay_Overview.ipynb",
   "output_path": "eBay_Overview.ipynb",
   "parameters": {},
   "start_time": "2021-08-24T18:30:04.987261",
   "version": "2.3.3"
  }
 },
 "nbformat": 4,
 "nbformat_minor": 5
}