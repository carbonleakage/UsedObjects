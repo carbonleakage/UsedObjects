{
 "cells": [
  {
   "cell_type": "code",
   "execution_count": 1,
   "id": "reverse-picking",
   "metadata": {
    "execution": {
     "iopub.execute_input": "2021-08-25T11:30:07.235794Z",
     "iopub.status.busy": "2021-08-25T11:30:07.233787Z",
     "iopub.status.idle": "2021-08-25T11:30:08.036697Z",
     "shell.execute_reply": "2021-08-25T11:30:08.038166Z"
    },
    "papermill": {
     "duration": 0.855524,
     "end_time": "2021-08-25T11:30:08.038841",
     "exception": false,
     "start_time": "2021-08-25T11:30:07.183317",
     "status": "completed"
    },
    "tags": []
   },
   "outputs": [],
   "source": [
    "import pandas as pd\n",
    "import sqlite3"
   ]
  },
  {
   "cell_type": "code",
   "execution_count": 2,
   "id": "innovative-syndrome",
   "metadata": {
    "execution": {
     "iopub.execute_input": "2021-08-25T11:30:08.089613Z",
     "iopub.status.busy": "2021-08-25T11:30:08.087248Z",
     "iopub.status.idle": "2021-08-25T11:30:08.216029Z",
     "shell.execute_reply": "2021-08-25T11:30:08.217471Z"
    },
    "papermill": {
     "duration": 0.158907,
     "end_time": "2021-08-25T11:30:08.217891",
     "exception": false,
     "start_time": "2021-08-25T11:30:08.058984",
     "status": "completed"
    },
    "tags": []
   },
   "outputs": [],
   "source": [
    "timestamps = pd.read_sql(\"select distinct record_time from EBAY_TOP_BERLIN order by record_time desc limit 2\", sqlite3.connect(\"UsedObjects.db\"))"
   ]
  },
  {
   "cell_type": "code",
   "execution_count": 3,
   "id": "periodic-identification",
   "metadata": {
    "execution": {
     "iopub.execute_input": "2021-08-25T11:30:08.285829Z",
     "iopub.status.busy": "2021-08-25T11:30:08.283725Z",
     "iopub.status.idle": "2021-08-25T11:30:08.303699Z",
     "shell.execute_reply": "2021-08-25T11:30:08.304998Z"
    },
    "papermill": {
     "duration": 0.06675,
     "end_time": "2021-08-25T11:30:08.305435",
     "exception": false,
     "start_time": "2021-08-25T11:30:08.238685",
     "status": "completed"
    },
    "tags": []
   },
   "outputs": [
    {
     "data": {
      "text/html": [
       "<div>\n",
       "<style scoped>\n",
       "    .dataframe tbody tr th:only-of-type {\n",
       "        vertical-align: middle;\n",
       "    }\n",
       "\n",
       "    .dataframe tbody tr th {\n",
       "        vertical-align: top;\n",
       "    }\n",
       "\n",
       "    .dataframe thead th {\n",
       "        text-align: right;\n",
       "    }\n",
       "</style>\n",
       "<table border=\"1\" class=\"dataframe\">\n",
       "  <thead>\n",
       "    <tr style=\"text-align: right;\">\n",
       "      <th></th>\n",
       "      <th>RECORD_TIME</th>\n",
       "    </tr>\n",
       "  </thead>\n",
       "  <tbody>\n",
       "    <tr>\n",
       "      <th>0</th>\n",
       "      <td>2021-08-25 13:30</td>\n",
       "    </tr>\n",
       "    <tr>\n",
       "      <th>1</th>\n",
       "      <td>2021-08-25 13:00</td>\n",
       "    </tr>\n",
       "  </tbody>\n",
       "</table>\n",
       "</div>"
      ],
      "text/plain": [
       "        RECORD_TIME\n",
       "0  2021-08-25 13:30\n",
       "1  2021-08-25 13:00"
      ]
     },
     "execution_count": 3,
     "metadata": {},
     "output_type": "execute_result"
    }
   ],
   "source": [
    "timestamps"
   ]
  },
  {
   "cell_type": "code",
   "execution_count": 4,
   "id": "alternate-victory",
   "metadata": {
    "execution": {
     "iopub.execute_input": "2021-08-25T11:30:08.358742Z",
     "iopub.status.busy": "2021-08-25T11:30:08.356610Z",
     "iopub.status.idle": "2021-08-25T11:30:08.543452Z",
     "shell.execute_reply": "2021-08-25T11:30:08.544730Z"
    },
    "papermill": {
     "duration": 0.216914,
     "end_time": "2021-08-25T11:30:08.545129",
     "exception": false,
     "start_time": "2021-08-25T11:30:08.328215",
     "status": "completed"
    },
    "tags": []
   },
   "outputs": [],
   "source": [
    "df = pd.read_sql(\"select * from EBAY_TOP_BERLIN where record_time in (select distinct record_time from EBAY_TOP_BERLIN order by record_time desc limit 2)\", sqlite3.connect(\"UsedObjects.db\"))"
   ]
  },
  {
   "cell_type": "code",
   "execution_count": 5,
   "id": "popular-active",
   "metadata": {
    "execution": {
     "iopub.execute_input": "2021-08-25T11:30:08.616982Z",
     "iopub.status.busy": "2021-08-25T11:30:08.603493Z",
     "iopub.status.idle": "2021-08-25T11:30:08.632412Z",
     "shell.execute_reply": "2021-08-25T11:30:08.633639Z"
    },
    "papermill": {
     "duration": 0.068483,
     "end_time": "2021-08-25T11:30:08.634033",
     "exception": false,
     "start_time": "2021-08-25T11:30:08.565550",
     "status": "completed"
    },
    "tags": []
   },
   "outputs": [],
   "source": [
    "df_pivot = df.pivot_table(index=\"PRODUCT\", columns = \"RECORD_TIME\", values = \"LISTING_COUNT\")"
   ]
  },
  {
   "cell_type": "code",
   "execution_count": 6,
   "id": "union-huntington",
   "metadata": {
    "execution": {
     "iopub.execute_input": "2021-08-25T11:30:08.694579Z",
     "iopub.status.busy": "2021-08-25T11:30:08.692415Z",
     "iopub.status.idle": "2021-08-25T11:30:08.698235Z",
     "shell.execute_reply": "2021-08-25T11:30:08.699703Z"
    },
    "papermill": {
     "duration": 0.046404,
     "end_time": "2021-08-25T11:30:08.700173",
     "exception": false,
     "start_time": "2021-08-25T11:30:08.653769",
     "status": "completed"
    },
    "tags": []
   },
   "outputs": [],
   "source": [
    "df_pivot.columns = [\"stamp_1\", \"stamp_2\"]\n",
    "df_pivot_diff = df_pivot.diff(axis=1)"
   ]
  },
  {
   "cell_type": "code",
   "execution_count": 7,
   "id": "fifth-motion",
   "metadata": {
    "execution": {
     "iopub.execute_input": "2021-08-25T11:30:08.755188Z",
     "iopub.status.busy": "2021-08-25T11:30:08.752907Z",
     "iopub.status.idle": "2021-08-25T11:30:10.208401Z",
     "shell.execute_reply": "2021-08-25T11:30:10.209911Z"
    },
    "papermill": {
     "duration": 1.488935,
     "end_time": "2021-08-25T11:30:10.210372",
     "exception": false,
     "start_time": "2021-08-25T11:30:08.721437",
     "status": "completed"
    },
    "tags": []
   },
   "outputs": [
    {
     "data": {
      "text/plain": [
       "<AxesSubplot:ylabel='PRODUCT'>"
      ]
     },
     "execution_count": 7,
     "metadata": {},
     "output_type": "execute_result"
    },
    {
     "data": {
      "image/png": "[encoded data removed]",
      "text/plain": [
       "<Figure size 432x288 with 1 Axes>"
      ]
     },
     "metadata": {
      "needs_background": "light"
     },
     "output_type": "display_data"
    }
   ],
   "source": [
    "df_pivot_diff.sort_values(\"stamp_2\", ascending = False)[\"stamp_2\"].head(10).plot.barh()"
   ]
  },
  {
   "cell_type": "code",
   "execution_count": null,
   "id": "extra-executive",
   "metadata": {
    "papermill": {
     "duration": 0.022149,
     "end_time": "2021-08-25T11:30:10.256855",
     "exception": false,
     "start_time": "2021-08-25T11:30:10.234706",
     "status": "completed"
    },
    "tags": []
   },
   "outputs": [],
   "source": []
  }
 ],
 "metadata": {
  "kernelspec": {
   "display_name": "Python 3",
   "language": "python",
   "name": "python3"
  },
  "language_info": {
   "codemirror_mode": {
    "name": "ipython",
    "version": 3
   },
   "file_extension": ".py",
   "mimetype": "text/x-python",
   "name": "python",
   "nbconvert_exporter": "python",
   "pygments_lexer": "ipython3",
   "version": "3.9.5"
  },
  "papermill": {
   "default_parameters": {},
   "duration": 6.819724,
   "end_time": "2021-08-25T11:30:11.609799",
   "environment_variables": {},
   "exception": null,
   "input_path": "eBay_Overview.ipynb",
   "output_path": "eBay_Overview.ipynb",
   "parameters": {},
   "start_time": "2021-08-25T11:30:04.790075",
   "version": "2.3.3"
  }
 },
 "nbformat": 4,
 "nbformat_minor": 5
}