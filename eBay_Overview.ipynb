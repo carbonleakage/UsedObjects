{
 "cells": [
  {
   "cell_type": "code",
   "execution_count": 1,
   "id": "reverse-picking",
   "metadata": {
    "execution": {
     "iopub.execute_input": "2021-10-12T15:30:07.157489Z",
     "iopub.status.busy": "2021-10-12T15:30:07.155438Z",
     "iopub.status.idle": "2021-10-12T15:30:07.955545Z",
     "shell.execute_reply": "2021-10-12T15:30:07.956859Z"
    },
    "papermill": {
     "duration": 0.85208,
     "end_time": "2021-10-12T15:30:07.957480",
     "exception": false,
     "start_time": "2021-10-12T15:30:07.105400",
     "status": "completed"
    },
    "tags": []
   },
   "outputs": [],
   "source": [
    "import pandas as pd\n",
    "import sqlite3"
   ]
  },
  {
   "cell_type": "code",
   "execution_count": 2,
   "id": "innovative-syndrome",
   "metadata": {
    "execution": {
     "iopub.execute_input": "2021-10-12T15:30:08.008343Z",
     "iopub.status.busy": "2021-10-12T15:30:08.006486Z",
     "iopub.status.idle": "2021-10-12T15:30:08.528360Z",
     "shell.execute_reply": "2021-10-12T15:30:08.529647Z"
    },
    "papermill": {
     "duration": 0.551406,
     "end_time": "2021-10-12T15:30:08.530051",
     "exception": false,
     "start_time": "2021-10-12T15:30:07.978645",
     "status": "completed"
    },
    "tags": []
   },
   "outputs": [],
   "source": [
    "timestamps = pd.read_sql(\"select distinct record_time from EBAY_TOP_BERLIN order by record_time desc limit 2\", sqlite3.connect(\"UsedObjects.db\"))"
   ]
  },
  {
   "cell_type": "code",
   "execution_count": 3,
   "id": "periodic-identification",
   "metadata": {
    "execution": {
     "iopub.execute_input": "2021-10-12T15:30:08.598760Z",
     "iopub.status.busy": "2021-10-12T15:30:08.593547Z",
     "iopub.status.idle": "2021-10-12T15:30:08.615402Z",
     "shell.execute_reply": "2021-10-12T15:30:08.617274Z"
    },
    "papermill": {
     "duration": 0.066886,
     "end_time": "2021-10-12T15:30:08.617815",
     "exception": false,
     "start_time": "2021-10-12T15:30:08.550929",
     "status": "completed"
    },
    "tags": []
   },
   "outputs": [
    {
     "data": {
      "text/html": [
       "<div>\n",
       "<style scoped>\n",
       "    .dataframe tbody tr th:only-of-type {\n",
       "        vertical-align: middle;\n",
       "    }\n",
       "\n",
       "    .dataframe tbody tr th {\n",
       "        vertical-align: top;\n",
       "    }\n",
       "\n",
       "    .dataframe thead th {\n",
       "        text-align: right;\n",
       "    }\n",
       "</style>\n",
       "<table border=\"1\" class=\"dataframe\">\n",
       "  <thead>\n",
       "    <tr style=\"text-align: right;\">\n",
       "      <th></th>\n",
       "      <th>RECORD_TIME</th>\n",
       "    </tr>\n",
       "  </thead>\n",
       "  <tbody>\n",
       "    <tr>\n",
       "      <th>0</th>\n",
       "      <td>2021-10-12 17:30</td>\n",
       "    </tr>\n",
       "    <tr>\n",
       "      <th>1</th>\n",
       "      <td>2021-10-12 17:00</td>\n",
       "    </tr>\n",
       "  </tbody>\n",
       "</table>\n",
       "</div>"
      ],
      "text/plain": [
       "        RECORD_TIME\n",
       "0  2021-10-12 17:30\n",
       "1  2021-10-12 17:00"
      ]
     },
     "execution_count": 3,
     "metadata": {},
     "output_type": "execute_result"
    }
   ],
   "source": [
    "timestamps"
   ]
  },
  {
   "cell_type": "code",
   "execution_count": 4,
   "id": "alternate-victory",
   "metadata": {
    "execution": {
     "iopub.execute_input": "2021-10-12T15:30:08.678359Z",
     "iopub.status.busy": "2021-10-12T15:30:08.675870Z",
     "iopub.status.idle": "2021-10-12T15:30:09.437434Z",
     "shell.execute_reply": "2021-10-12T15:30:09.438736Z"
    },
    "papermill": {
     "duration": 0.794719,
     "end_time": "2021-10-12T15:30:09.439131",
     "exception": false,
     "start_time": "2021-10-12T15:30:08.644412",
     "status": "completed"
    },
    "tags": []
   },
   "outputs": [],
   "source": [
    "df = pd.read_sql(\"select * from EBAY_TOP_BERLIN where record_time in (select distinct record_time from EBAY_TOP_BERLIN order by record_time desc limit 2)\", sqlite3.connect(\"UsedObjects.db\"))"
   ]
  },
  {
   "cell_type": "code",
   "execution_count": 5,
   "id": "popular-active",
   "metadata": {
    "execution": {
     "iopub.execute_input": "2021-10-12T15:30:09.500319Z",
     "iopub.status.busy": "2021-10-12T15:30:09.498065Z",
     "iopub.status.idle": "2021-10-12T15:30:09.527251Z",
     "shell.execute_reply": "2021-10-12T15:30:09.528454Z"
    },
    "papermill": {
     "duration": 0.069313,
     "end_time": "2021-10-12T15:30:09.528890",
     "exception": false,
     "start_time": "2021-10-12T15:30:09.459577",
     "status": "completed"
    },
    "tags": []
   },
   "outputs": [],
   "source": [
    "df_pivot = df.pivot_table(index=\"PRODUCT\", columns = \"RECORD_TIME\", values = \"LISTING_COUNT\")"
   ]
  },
  {
   "cell_type": "code",
   "execution_count": 6,
   "id": "union-huntington",
   "metadata": {
    "execution": {
     "iopub.execute_input": "2021-10-12T15:30:09.586749Z",
     "iopub.status.busy": "2021-10-12T15:30:09.584536Z",
     "iopub.status.idle": "2021-10-12T15:30:09.590237Z",
     "shell.execute_reply": "2021-10-12T15:30:09.591595Z"
    },
    "papermill": {
     "duration": 0.041046,
     "end_time": "2021-10-12T15:30:09.592033",
     "exception": false,
     "start_time": "2021-10-12T15:30:09.550987",
     "status": "completed"
    },
    "tags": []
   },
   "outputs": [],
   "source": [
    "df_pivot.columns = [\"stamp_1\", \"stamp_2\"]\n",
    "df_pivot_diff = df_pivot.diff(axis=1)"
   ]
  },
  {
   "cell_type": "code",
   "execution_count": 7,
   "id": "fifth-motion",
   "metadata": {
    "execution": {
     "iopub.execute_input": "2021-10-12T15:30:09.648825Z",
     "iopub.status.busy": "2021-10-12T15:30:09.646175Z",
     "iopub.status.idle": "2021-10-12T15:30:11.130498Z",
     "shell.execute_reply": "2021-10-12T15:30:11.131866Z"
    },
    "papermill": {
     "duration": 1.518042,
     "end_time": "2021-10-12T15:30:11.132300",
     "exception": false,
     "start_time": "2021-10-12T15:30:09.614258",
     "status": "completed"
    },
    "tags": []
   },
   "outputs": [
    {
     "data": {
      "text/plain": [
       "<AxesSubplot:ylabel='PRODUCT'>"
      ]
     },
     "execution_count": 7,
     "metadata": {},
     "output_type": "execute_result"
    },
    {
     "data": {
      "image/png": "[encoded data removed]",
      "text/plain": [
       "<Figure size 432x288 with 1 Axes>"
      ]
     },
     "metadata": {
      "needs_background": "light"
     },
     "output_type": "display_data"
    }
   ],
   "source": [
    "df_pivot_diff.sort_values(\"stamp_2\", ascending = False)[\"stamp_2\"].head(10).plot.barh()"
   ]
  },
  {
   "cell_type": "code",
   "execution_count": null,
   "id": "extra-executive",
   "metadata": {
    "papermill": {
     "duration": 0.02235,
     "end_time": "2021-10-12T15:30:11.179118",
     "exception": false,
     "start_time": "2021-10-12T15:30:11.156768",
     "status": "completed"
    },
    "tags": []
   },
   "outputs": [],
   "source": []
  }
 ],
 "metadata": {
  "kernelspec": {
   "display_name": "Python 3",
   "language": "python",
   "name": "python3"
  },
  "language_info": {
   "codemirror_mode": {
    "name": "ipython",
    "version": 3
   },
   "file_extension": ".py",
   "mimetype": "text/x-python",
   "name": "python",
   "nbconvert_exporter": "python",
   "pygments_lexer": "ipython3",
   "version": "3.9.5"
  },
  "papermill": {
   "default_parameters": {},
   "duration": 7.821426,
   "end_time": "2021-10-12T15:30:12.517329",
   "environment_variables": {},
   "exception": null,
   "input_path": "eBay_Overview.ipynb",
   "output_path": "eBay_Overview.ipynb",
   "parameters": {},
   "start_time": "2021-10-12T15:30:04.695903",
   "version": "2.3.3"
  }
 },
 "nbformat": 4,
 "nbformat_minor": 5
}