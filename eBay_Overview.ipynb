{
 "cells": [
  {
   "cell_type": "code",
   "execution_count": 1,
   "id": "reverse-picking",
   "metadata": {
    "execution": {
     "iopub.execute_input": "2021-09-14T02:00:07.376881Z",
     "iopub.status.busy": "2021-09-14T02:00:07.374752Z",
     "iopub.status.idle": "2021-09-14T02:00:08.179472Z",
     "shell.execute_reply": "2021-09-14T02:00:08.180759Z"
    },
    "papermill": {
     "duration": 0.855741,
     "end_time": "2021-09-14T02:00:08.181375",
     "exception": false,
     "start_time": "2021-09-14T02:00:07.325634",
     "status": "completed"
    },
    "tags": []
   },
   "outputs": [],
   "source": [
    "import pandas as pd\n",
    "import sqlite3"
   ]
  },
  {
   "cell_type": "code",
   "execution_count": 2,
   "id": "innovative-syndrome",
   "metadata": {
    "execution": {
     "iopub.execute_input": "2021-09-14T02:00:08.235180Z",
     "iopub.status.busy": "2021-09-14T02:00:08.232782Z",
     "iopub.status.idle": "2021-09-14T02:00:08.520905Z",
     "shell.execute_reply": "2021-09-14T02:00:08.522274Z"
    },
    "papermill": {
     "duration": 0.31819,
     "end_time": "2021-09-14T02:00:08.522716",
     "exception": false,
     "start_time": "2021-09-14T02:00:08.204526",
     "status": "completed"
    },
    "tags": []
   },
   "outputs": [],
   "source": [
    "timestamps = pd.read_sql(\"select distinct record_time from EBAY_TOP_BERLIN order by record_time desc limit 2\", sqlite3.connect(\"UsedObjects.db\"))"
   ]
  },
  {
   "cell_type": "code",
   "execution_count": 3,
   "id": "periodic-identification",
   "metadata": {
    "execution": {
     "iopub.execute_input": "2021-09-14T02:00:08.589999Z",
     "iopub.status.busy": "2021-09-14T02:00:08.587980Z",
     "iopub.status.idle": "2021-09-14T02:00:08.607900Z",
     "shell.execute_reply": "2021-09-14T02:00:08.609102Z"
    },
    "papermill": {
     "duration": 0.066702,
     "end_time": "2021-09-14T02:00:08.609526",
     "exception": false,
     "start_time": "2021-09-14T02:00:08.542824",
     "status": "completed"
    },
    "tags": []
   },
   "outputs": [
    {
     "data": {
      "text/html": [
       "<div>\n",
       "<style scoped>\n",
       "    .dataframe tbody tr th:only-of-type {\n",
       "        vertical-align: middle;\n",
       "    }\n",
       "\n",
       "    .dataframe tbody tr th {\n",
       "        vertical-align: top;\n",
       "    }\n",
       "\n",
       "    .dataframe thead th {\n",
       "        text-align: right;\n",
       "    }\n",
       "</style>\n",
       "<table border=\"1\" class=\"dataframe\">\n",
       "  <thead>\n",
       "    <tr style=\"text-align: right;\">\n",
       "      <th></th>\n",
       "      <th>RECORD_TIME</th>\n",
       "    </tr>\n",
       "  </thead>\n",
       "  <tbody>\n",
       "    <tr>\n",
       "      <th>0</th>\n",
       "      <td>2021-09-14 04:00</td>\n",
       "    </tr>\n",
       "    <tr>\n",
       "      <th>1</th>\n",
       "      <td>2021-09-14 03:30</td>\n",
       "    </tr>\n",
       "  </tbody>\n",
       "</table>\n",
       "</div>"
      ],
      "text/plain": [
       "        RECORD_TIME\n",
       "0  2021-09-14 04:00\n",
       "1  2021-09-14 03:30"
      ]
     },
     "execution_count": 3,
     "metadata": {},
     "output_type": "execute_result"
    }
   ],
   "source": [
    "timestamps"
   ]
  },
  {
   "cell_type": "code",
   "execution_count": 4,
   "id": "alternate-victory",
   "metadata": {
    "execution": {
     "iopub.execute_input": "2021-09-14T02:00:08.663449Z",
     "iopub.status.busy": "2021-09-14T02:00:08.661076Z",
     "iopub.status.idle": "2021-09-14T02:00:09.080199Z",
     "shell.execute_reply": "2021-09-14T02:00:09.081480Z"
    },
    "papermill": {
     "duration": 0.449558,
     "end_time": "2021-09-14T02:00:09.081933",
     "exception": false,
     "start_time": "2021-09-14T02:00:08.632375",
     "status": "completed"
    },
    "tags": []
   },
   "outputs": [],
   "source": [
    "df = pd.read_sql(\"select * from EBAY_TOP_BERLIN where record_time in (select distinct record_time from EBAY_TOP_BERLIN order by record_time desc limit 2)\", sqlite3.connect(\"UsedObjects.db\"))"
   ]
  },
  {
   "cell_type": "code",
   "execution_count": 5,
   "id": "popular-active",
   "metadata": {
    "execution": {
     "iopub.execute_input": "2021-09-14T02:00:09.166318Z",
     "iopub.status.busy": "2021-09-14T02:00:09.154061Z",
     "iopub.status.idle": "2021-09-14T02:00:09.182097Z",
     "shell.execute_reply": "2021-09-14T02:00:09.183475Z"
    },
    "papermill": {
     "duration": 0.072317,
     "end_time": "2021-09-14T02:00:09.183902",
     "exception": false,
     "start_time": "2021-09-14T02:00:09.111585",
     "status": "completed"
    },
    "tags": []
   },
   "outputs": [],
   "source": [
    "df_pivot = df.pivot_table(index=\"PRODUCT\", columns = \"RECORD_TIME\", values = \"LISTING_COUNT\")"
   ]
  },
  {
   "cell_type": "code",
   "execution_count": 6,
   "id": "union-huntington",
   "metadata": {
    "execution": {
     "iopub.execute_input": "2021-09-14T02:00:09.239789Z",
     "iopub.status.busy": "2021-09-14T02:00:09.237675Z",
     "iopub.status.idle": "2021-09-14T02:00:09.243009Z",
     "shell.execute_reply": "2021-09-14T02:00:09.244458Z"
    },
    "papermill": {
     "duration": 0.040999,
     "end_time": "2021-09-14T02:00:09.244902",
     "exception": false,
     "start_time": "2021-09-14T02:00:09.203903",
     "status": "completed"
    },
    "tags": []
   },
   "outputs": [],
   "source": [
    "df_pivot.columns = [\"stamp_1\", \"stamp_2\"]\n",
    "df_pivot_diff = df_pivot.diff(axis=1)"
   ]
  },
  {
   "cell_type": "code",
   "execution_count": 7,
   "id": "fifth-motion",
   "metadata": {
    "execution": {
     "iopub.execute_input": "2021-09-14T02:00:09.299766Z",
     "iopub.status.busy": "2021-09-14T02:00:09.297201Z",
     "iopub.status.idle": "2021-09-14T02:00:10.797945Z",
     "shell.execute_reply": "2021-09-14T02:00:10.799302Z"
    },
    "papermill": {
     "duration": 1.533603,
     "end_time": "2021-09-14T02:00:10.799729",
     "exception": false,
     "start_time": "2021-09-14T02:00:09.266126",
     "status": "completed"
    },
    "tags": []
   },
   "outputs": [
    {
     "data": {
      "text/plain": [
       "<AxesSubplot:ylabel='PRODUCT'>"
      ]
     },
     "execution_count": 7,
     "metadata": {},
     "output_type": "execute_result"
    },
    {
     "data": {
      "image/png": "[encoded data removed]",
      "text/plain": [
       "<Figure size 432x288 with 1 Axes>"
      ]
     },
     "metadata": {
      "needs_background": "light"
     },
     "output_type": "display_data"
    }
   ],
   "source": [
    "df_pivot_diff.sort_values(\"stamp_2\", ascending = False)[\"stamp_2\"].head(10).plot.barh()"
   ]
  },
  {
   "cell_type": "code",
   "execution_count": null,
   "id": "extra-executive",
   "metadata": {
    "papermill": {
     "duration": 0.022089,
     "end_time": "2021-09-14T02:00:10.845557",
     "exception": false,
     "start_time": "2021-09-14T02:00:10.823468",
     "status": "completed"
    },
    "tags": []
   },
   "outputs": [],
   "source": []
  }
 ],
 "metadata": {
  "kernelspec": {
   "display_name": "Python 3",
   "language": "python",
   "name": "python3"
  },
  "language_info": {
   "codemirror_mode": {
    "name": "ipython",
    "version": 3
   },
   "file_extension": ".py",
   "mimetype": "text/x-python",
   "name": "python",
   "nbconvert_exporter": "python",
   "pygments_lexer": "ipython3",
   "version": "3.9.5"
  },
  "papermill": {
   "default_parameters": {},
   "duration": 6.566673,
   "end_time": "2021-09-14T02:00:11.489028",
   "environment_variables": {},
   "exception": null,
   "input_path": "eBay_Overview.ipynb",
   "output_path": "eBay_Overview.ipynb",
   "parameters": {},
   "start_time": "2021-09-14T02:00:04.922355",
   "version": "2.3.3"
  }
 },
 "nbformat": 4,
 "nbformat_minor": 5
}