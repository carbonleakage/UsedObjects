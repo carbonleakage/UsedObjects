{
 "cells": [
  {
   "cell_type": "code",
   "execution_count": 1,
   "id": "reverse-picking",
   "metadata": {
    "execution": {
     "iopub.execute_input": "2021-12-15T18:00:07.488073Z",
     "iopub.status.busy": "2021-12-15T18:00:07.485246Z",
     "iopub.status.idle": "2021-12-15T18:00:08.399593Z",
     "shell.execute_reply": "2021-12-15T18:00:08.401182Z"
    },
    "papermill": {
     "duration": 0.964083,
     "end_time": "2021-12-15T18:00:08.401966",
     "exception": false,
     "start_time": "2021-12-15T18:00:07.437883",
     "status": "completed"
    },
    "tags": []
   },
   "outputs": [],
   "source": [
    "import pandas as pd\n",
    "import sqlite3"
   ]
  },
  {
   "cell_type": "code",
   "execution_count": 2,
   "id": "innovative-syndrome",
   "metadata": {
    "execution": {
     "iopub.execute_input": "2021-12-15T18:00:08.466807Z",
     "iopub.status.busy": "2021-12-15T18:00:08.463588Z",
     "iopub.status.idle": "2021-12-15T18:00:09.563969Z",
     "shell.execute_reply": "2021-12-15T18:00:09.565375Z"
    },
    "papermill": {
     "duration": 1.132986,
     "end_time": "2021-12-15T18:00:09.565849",
     "exception": false,
     "start_time": "2021-12-15T18:00:08.432863",
     "status": "completed"
    },
    "tags": []
   },
   "outputs": [],
   "source": [
    "timestamps = pd.read_sql(\"select distinct record_time from EBAY_TOP_BERLIN order by record_time desc limit 2\", sqlite3.connect(\"UsedObjects.db\"))"
   ]
  },
  {
   "cell_type": "code",
   "execution_count": 3,
   "id": "periodic-identification",
   "metadata": {
    "execution": {
     "iopub.execute_input": "2021-12-15T18:00:09.640591Z",
     "iopub.status.busy": "2021-12-15T18:00:09.638576Z",
     "iopub.status.idle": "2021-12-15T18:00:09.659037Z",
     "shell.execute_reply": "2021-12-15T18:00:09.660324Z"
    },
    "papermill": {
     "duration": 0.074281,
     "end_time": "2021-12-15T18:00:09.660784",
     "exception": false,
     "start_time": "2021-12-15T18:00:09.586503",
     "status": "completed"
    },
    "tags": []
   },
   "outputs": [
    {
     "data": {
      "text/html": [
       "<div>\n",
       "<style scoped>\n",
       "    .dataframe tbody tr th:only-of-type {\n",
       "        vertical-align: middle;\n",
       "    }\n",
       "\n",
       "    .dataframe tbody tr th {\n",
       "        vertical-align: top;\n",
       "    }\n",
       "\n",
       "    .dataframe thead th {\n",
       "        text-align: right;\n",
       "    }\n",
       "</style>\n",
       "<table border=\"1\" class=\"dataframe\">\n",
       "  <thead>\n",
       "    <tr style=\"text-align: right;\">\n",
       "      <th></th>\n",
       "      <th>RECORD_TIME</th>\n",
       "    </tr>\n",
       "  </thead>\n",
       "  <tbody>\n",
       "    <tr>\n",
       "      <th>0</th>\n",
       "      <td>2021-12-15 19:00</td>\n",
       "    </tr>\n",
       "    <tr>\n",
       "      <th>1</th>\n",
       "      <td>2021-12-15 18:30</td>\n",
       "    </tr>\n",
       "  </tbody>\n",
       "</table>\n",
       "</div>"
      ],
      "text/plain": [
       "        RECORD_TIME\n",
       "0  2021-12-15 19:00\n",
       "1  2021-12-15 18:30"
      ]
     },
     "execution_count": 3,
     "metadata": {},
     "output_type": "execute_result"
    }
   ],
   "source": [
    "timestamps"
   ]
  },
  {
   "cell_type": "code",
   "execution_count": 4,
   "id": "alternate-victory",
   "metadata": {
    "execution": {
     "iopub.execute_input": "2021-12-15T18:00:09.712220Z",
     "iopub.status.busy": "2021-12-15T18:00:09.710382Z",
     "iopub.status.idle": "2021-12-15T18:00:11.291791Z",
     "shell.execute_reply": "2021-12-15T18:00:11.294524Z"
    },
    "papermill": {
     "duration": 1.613216,
     "end_time": "2021-12-15T18:00:11.295315",
     "exception": false,
     "start_time": "2021-12-15T18:00:09.682099",
     "status": "completed"
    },
    "tags": []
   },
   "outputs": [],
   "source": [
    "df = pd.read_sql(\"select * from EBAY_TOP_BERLIN where record_time in (select distinct record_time from EBAY_TOP_BERLIN order by record_time desc limit 2)\", sqlite3.connect(\"UsedObjects.db\"))"
   ]
  },
  {
   "cell_type": "code",
   "execution_count": 5,
   "id": "popular-active",
   "metadata": {
    "execution": {
     "iopub.execute_input": "2021-12-15T18:00:11.372474Z",
     "iopub.status.busy": "2021-12-15T18:00:11.364565Z",
     "iopub.status.idle": "2021-12-15T18:00:11.390122Z",
     "shell.execute_reply": "2021-12-15T18:00:11.391468Z"
    },
    "papermill": {
     "duration": 0.07435,
     "end_time": "2021-12-15T18:00:11.391942",
     "exception": false,
     "start_time": "2021-12-15T18:00:11.317592",
     "status": "completed"
    },
    "tags": []
   },
   "outputs": [],
   "source": [
    "df_pivot = df.pivot_table(index=\"PRODUCT\", columns = \"RECORD_TIME\", values = \"LISTING_COUNT\")"
   ]
  },
  {
   "cell_type": "code",
   "execution_count": 6,
   "id": "union-huntington",
   "metadata": {
    "execution": {
     "iopub.execute_input": "2021-12-15T18:00:11.452539Z",
     "iopub.status.busy": "2021-12-15T18:00:11.449980Z",
     "iopub.status.idle": "2021-12-15T18:00:11.459321Z",
     "shell.execute_reply": "2021-12-15T18:00:11.457171Z"
    },
    "papermill": {
     "duration": 0.047646,
     "end_time": "2021-12-15T18:00:11.459774",
     "exception": false,
     "start_time": "2021-12-15T18:00:11.412128",
     "status": "completed"
    },
    "tags": []
   },
   "outputs": [],
   "source": [
    "df_pivot.columns = [\"stamp_1\", \"stamp_2\"]\n",
    "df_pivot_diff = df_pivot.diff(axis=1)"
   ]
  },
  {
   "cell_type": "code",
   "execution_count": 7,
   "id": "fifth-motion",
   "metadata": {
    "execution": {
     "iopub.execute_input": "2021-12-15T18:00:11.519029Z",
     "iopub.status.busy": "2021-12-15T18:00:11.516353Z",
     "iopub.status.idle": "2021-12-15T18:00:13.533778Z",
     "shell.execute_reply": "2021-12-15T18:00:13.535176Z"
    },
    "papermill": {
     "duration": 2.054033,
     "end_time": "2021-12-15T18:00:13.535653",
     "exception": false,
     "start_time": "2021-12-15T18:00:11.481620",
     "status": "completed"
    },
    "tags": []
   },
   "outputs": [
    {
     "data": {
      "text/plain": [
       "<AxesSubplot:ylabel='PRODUCT'>"
      ]
     },
     "execution_count": 7,
     "metadata": {},
     "output_type": "execute_result"
    },
    {
     "data": {
      "image/png": "[encoded data removed]",
      "text/plain": [
       "<Figure size 432x288 with 1 Axes>"
      ]
     },
     "metadata": {
      "needs_background": "light"
     },
     "output_type": "display_data"
    }
   ],
   "source": [
    "df_pivot_diff.sort_values(\"stamp_2\", ascending = False)[\"stamp_2\"].head(10).plot.barh()"
   ]
  },
  {
   "cell_type": "code",
   "execution_count": null,
   "id": "extra-executive",
   "metadata": {
    "papermill": {
     "duration": 0.022378,
     "end_time": "2021-12-15T18:00:13.584739",
     "exception": false,
     "start_time": "2021-12-15T18:00:13.562361",
     "status": "completed"
    },
    "tags": []
   },
   "outputs": [],
   "source": []
  }
 ],
 "metadata": {
  "kernelspec": {
   "display_name": "Python 3",
   "language": "python",
   "name": "python3"
  },
  "language_info": {
   "codemirror_mode": {
    "name": "ipython",
    "version": 3
   },
   "file_extension": ".py",
   "mimetype": "text/x-python",
   "name": "python",
   "nbconvert_exporter": "python",
   "pygments_lexer": "ipython3",
   "version": "3.9.5"
  },
  "papermill": {
   "default_parameters": {},
   "duration": 9.501971,
   "end_time": "2021-12-15T18:00:14.229162",
   "environment_variables": {},
   "exception": null,
   "input_path": "eBay_Overview.ipynb",
   "output_path": "eBay_Overview.ipynb",
   "parameters": {},
   "start_time": "2021-12-15T18:00:04.727191",
   "version": "2.3.3"
  }
 },
 "nbformat": 4,
 "nbformat_minor": 5
}