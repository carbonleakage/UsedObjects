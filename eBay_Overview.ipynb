{
 "cells": [
  {
   "cell_type": "code",
   "execution_count": 1,
   "id": "reverse-picking",
   "metadata": {
    "execution": {
     "iopub.execute_input": "2021-08-25T09:00:07.411991Z",
     "iopub.status.busy": "2021-08-25T09:00:07.410034Z",
     "iopub.status.idle": "2021-08-25T09:00:08.217705Z",
     "shell.execute_reply": "2021-08-25T09:00:08.219047Z"
    },
    "papermill": {
     "duration": 0.859571,
     "end_time": "2021-08-25T09:00:08.219682",
     "exception": false,
     "start_time": "2021-08-25T09:00:07.360111",
     "status": "completed"
    },
    "tags": []
   },
   "outputs": [],
   "source": [
    "import pandas as pd\n",
    "import sqlite3"
   ]
  },
  {
   "cell_type": "code",
   "execution_count": 2,
   "id": "innovative-syndrome",
   "metadata": {
    "execution": {
     "iopub.execute_input": "2021-08-25T09:00:08.271517Z",
     "iopub.status.busy": "2021-08-25T09:00:08.269378Z",
     "iopub.status.idle": "2021-08-25T09:00:08.394718Z",
     "shell.execute_reply": "2021-08-25T09:00:08.395937Z"
    },
    "papermill": {
     "duration": 0.155024,
     "end_time": "2021-08-25T09:00:08.396345",
     "exception": false,
     "start_time": "2021-08-25T09:00:08.241321",
     "status": "completed"
    },
    "tags": []
   },
   "outputs": [],
   "source": [
    "timestamps = pd.read_sql(\"select distinct record_time from EBAY_TOP_BERLIN order by record_time desc limit 2\", sqlite3.connect(\"UsedObjects.db\"))"
   ]
  },
  {
   "cell_type": "code",
   "execution_count": 3,
   "id": "periodic-identification",
   "metadata": {
    "execution": {
     "iopub.execute_input": "2021-08-25T09:00:08.460700Z",
     "iopub.status.busy": "2021-08-25T09:00:08.458671Z",
     "iopub.status.idle": "2021-08-25T09:00:08.478708Z",
     "shell.execute_reply": "2021-08-25T09:00:08.480082Z"
    },
    "papermill": {
     "duration": 0.064632,
     "end_time": "2021-08-25T09:00:08.480500",
     "exception": false,
     "start_time": "2021-08-25T09:00:08.415868",
     "status": "completed"
    },
    "tags": []
   },
   "outputs": [
    {
     "data": {
      "text/html": [
       "<div>\n",
       "<style scoped>\n",
       "    .dataframe tbody tr th:only-of-type {\n",
       "        vertical-align: middle;\n",
       "    }\n",
       "\n",
       "    .dataframe tbody tr th {\n",
       "        vertical-align: top;\n",
       "    }\n",
       "\n",
       "    .dataframe thead th {\n",
       "        text-align: right;\n",
       "    }\n",
       "</style>\n",
       "<table border=\"1\" class=\"dataframe\">\n",
       "  <thead>\n",
       "    <tr style=\"text-align: right;\">\n",
       "      <th></th>\n",
       "      <th>RECORD_TIME</th>\n",
       "    </tr>\n",
       "  </thead>\n",
       "  <tbody>\n",
       "    <tr>\n",
       "      <th>0</th>\n",
       "      <td>2021-08-25 11:00</td>\n",
       "    </tr>\n",
       "    <tr>\n",
       "      <th>1</th>\n",
       "      <td>2021-08-25 10:30</td>\n",
       "    </tr>\n",
       "  </tbody>\n",
       "</table>\n",
       "</div>"
      ],
      "text/plain": [
       "        RECORD_TIME\n",
       "0  2021-08-25 11:00\n",
       "1  2021-08-25 10:30"
      ]
     },
     "execution_count": 3,
     "metadata": {},
     "output_type": "execute_result"
    }
   ],
   "source": [
    "timestamps"
   ]
  },
  {
   "cell_type": "code",
   "execution_count": 4,
   "id": "alternate-victory",
   "metadata": {
    "execution": {
     "iopub.execute_input": "2021-08-25T09:00:08.532900Z",
     "iopub.status.busy": "2021-08-25T09:00:08.530621Z",
     "iopub.status.idle": "2021-08-25T09:00:08.717906Z",
     "shell.execute_reply": "2021-08-25T09:00:08.719212Z"
    },
    "papermill": {
     "duration": 0.21787,
     "end_time": "2021-08-25T09:00:08.719614",
     "exception": false,
     "start_time": "2021-08-25T09:00:08.501744",
     "status": "completed"
    },
    "tags": []
   },
   "outputs": [],
   "source": [
    "df = pd.read_sql(\"select * from EBAY_TOP_BERLIN where record_time in (select distinct record_time from EBAY_TOP_BERLIN order by record_time desc limit 2)\", sqlite3.connect(\"UsedObjects.db\"))"
   ]
  },
  {
   "cell_type": "code",
   "execution_count": 5,
   "id": "popular-active",
   "metadata": {
    "execution": {
     "iopub.execute_input": "2021-08-25T09:00:08.791502Z",
     "iopub.status.busy": "2021-08-25T09:00:08.779609Z",
     "iopub.status.idle": "2021-08-25T09:00:08.806997Z",
     "shell.execute_reply": "2021-08-25T09:00:08.808223Z"
    },
    "papermill": {
     "duration": 0.068311,
     "end_time": "2021-08-25T09:00:08.808621",
     "exception": false,
     "start_time": "2021-08-25T09:00:08.740310",
     "status": "completed"
    },
    "tags": []
   },
   "outputs": [],
   "source": [
    "df_pivot = df.pivot_table(index=\"PRODUCT\", columns = \"RECORD_TIME\", values = \"LISTING_COUNT\")"
   ]
  },
  {
   "cell_type": "code",
   "execution_count": 6,
   "id": "union-huntington",
   "metadata": {
    "execution": {
     "iopub.execute_input": "2021-08-25T09:00:08.865898Z",
     "iopub.status.busy": "2021-08-25T09:00:08.863717Z",
     "iopub.status.idle": "2021-08-25T09:00:08.869345Z",
     "shell.execute_reply": "2021-08-25T09:00:08.870995Z"
    },
    "papermill": {
     "duration": 0.041834,
     "end_time": "2021-08-25T09:00:08.871496",
     "exception": false,
     "start_time": "2021-08-25T09:00:08.829662",
     "status": "completed"
    },
    "tags": []
   },
   "outputs": [],
   "source": [
    "df_pivot.columns = [\"stamp_1\", \"stamp_2\"]\n",
    "df_pivot_diff = df_pivot.diff(axis=1)"
   ]
  },
  {
   "cell_type": "code",
   "execution_count": 7,
   "id": "fifth-motion",
   "metadata": {
    "execution": {
     "iopub.execute_input": "2021-08-25T09:00:08.928152Z",
     "iopub.status.busy": "2021-08-25T09:00:08.925822Z",
     "iopub.status.idle": "2021-08-25T09:00:10.405118Z",
     "shell.execute_reply": "2021-08-25T09:00:10.406468Z"
    },
    "papermill": {
     "duration": 1.512575,
     "end_time": "2021-08-25T09:00:10.406898",
     "exception": false,
     "start_time": "2021-08-25T09:00:08.894323",
     "status": "completed"
    },
    "tags": []
   },
   "outputs": [
    {
     "data": {
      "text/plain": [
       "<AxesSubplot:ylabel='PRODUCT'>"
      ]
     },
     "execution_count": 7,
     "metadata": {},
     "output_type": "execute_result"
    },
    {
     "data": {
      "image/png": "[encoded data removed]",
      "text/plain": [
       "<Figure size 432x288 with 1 Axes>"
      ]
     },
     "metadata": {
      "needs_background": "light"
     },
     "output_type": "display_data"
    }
   ],
   "source": [
    "df_pivot_diff.sort_values(\"stamp_2\", ascending = False)[\"stamp_2\"].head(10).plot.barh()"
   ]
  },
  {
   "cell_type": "code",
   "execution_count": null,
   "id": "extra-executive",
   "metadata": {
    "papermill": {
     "duration": 0.022506,
     "end_time": "2021-08-25T09:00:10.453741",
     "exception": false,
     "start_time": "2021-08-25T09:00:10.431235",
     "status": "completed"
    },
    "tags": []
   },
   "outputs": [],
   "source": []
  }
 ],
 "metadata": {
  "kernelspec": {
   "display_name": "Python 3",
   "language": "python",
   "name": "python3"
  },
  "language_info": {
   "codemirror_mode": {
    "name": "ipython",
    "version": 3
   },
   "file_extension": ".py",
   "mimetype": "text/x-python",
   "name": "python",
   "nbconvert_exporter": "python",
   "pygments_lexer": "ipython3",
   "version": "3.9.5"
  },
  "papermill": {
   "default_parameters": {},
   "duration": 6.819763,
   "end_time": "2021-08-25T09:00:11.776119",
   "environment_variables": {},
   "exception": null,
   "input_path": "eBay_Overview.ipynb",
   "output_path": "eBay_Overview.ipynb",
   "parameters": {},
   "start_time": "2021-08-25T09:00:04.956356",
   "version": "2.3.3"
  }
 },
 "nbformat": 4,
 "nbformat_minor": 5
}