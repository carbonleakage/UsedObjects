{
 "cells": [
  {
   "cell_type": "code",
   "execution_count": 1,
   "id": "reverse-picking",
   "metadata": {
    "execution": {
     "iopub.execute_input": "2021-09-22T15:30:07.600737Z",
     "iopub.status.busy": "2021-09-22T15:30:07.598756Z",
     "iopub.status.idle": "2021-09-22T15:30:08.403645Z",
     "shell.execute_reply": "2021-09-22T15:30:08.404954Z"
    },
    "papermill": {
     "duration": 0.857083,
     "end_time": "2021-09-22T15:30:08.405582",
     "exception": false,
     "start_time": "2021-09-22T15:30:07.548499",
     "status": "completed"
    },
    "tags": []
   },
   "outputs": [],
   "source": [
    "import pandas as pd\n",
    "import sqlite3"
   ]
  },
  {
   "cell_type": "code",
   "execution_count": 2,
   "id": "innovative-syndrome",
   "metadata": {
    "execution": {
     "iopub.execute_input": "2021-09-22T15:30:08.456777Z",
     "iopub.status.busy": "2021-09-22T15:30:08.454485Z",
     "iopub.status.idle": "2021-09-22T15:30:08.803455Z",
     "shell.execute_reply": "2021-09-22T15:30:08.804893Z"
    },
    "papermill": {
     "duration": 0.378833,
     "end_time": "2021-09-22T15:30:08.805339",
     "exception": false,
     "start_time": "2021-09-22T15:30:08.426506",
     "status": "completed"
    },
    "tags": []
   },
   "outputs": [],
   "source": [
    "timestamps = pd.read_sql(\"select distinct record_time from EBAY_TOP_BERLIN order by record_time desc limit 2\", sqlite3.connect(\"UsedObjects.db\"))"
   ]
  },
  {
   "cell_type": "code",
   "execution_count": 3,
   "id": "periodic-identification",
   "metadata": {
    "execution": {
     "iopub.execute_input": "2021-09-22T15:30:08.872758Z",
     "iopub.status.busy": "2021-09-22T15:30:08.870704Z",
     "iopub.status.idle": "2021-09-22T15:30:08.890627Z",
     "shell.execute_reply": "2021-09-22T15:30:08.891904Z"
    },
    "papermill": {
     "duration": 0.066837,
     "end_time": "2021-09-22T15:30:08.892343",
     "exception": false,
     "start_time": "2021-09-22T15:30:08.825506",
     "status": "completed"
    },
    "tags": []
   },
   "outputs": [
    {
     "data": {
      "text/html": [
       "<div>\n",
       "<style scoped>\n",
       "    .dataframe tbody tr th:only-of-type {\n",
       "        vertical-align: middle;\n",
       "    }\n",
       "\n",
       "    .dataframe tbody tr th {\n",
       "        vertical-align: top;\n",
       "    }\n",
       "\n",
       "    .dataframe thead th {\n",
       "        text-align: right;\n",
       "    }\n",
       "</style>\n",
       "<table border=\"1\" class=\"dataframe\">\n",
       "  <thead>\n",
       "    <tr style=\"text-align: right;\">\n",
       "      <th></th>\n",
       "      <th>RECORD_TIME</th>\n",
       "    </tr>\n",
       "  </thead>\n",
       "  <tbody>\n",
       "    <tr>\n",
       "      <th>0</th>\n",
       "      <td>2021-09-22 17:30</td>\n",
       "    </tr>\n",
       "    <tr>\n",
       "      <th>1</th>\n",
       "      <td>2021-09-22 17:00</td>\n",
       "    </tr>\n",
       "  </tbody>\n",
       "</table>\n",
       "</div>"
      ],
      "text/plain": [
       "        RECORD_TIME\n",
       "0  2021-09-22 17:30\n",
       "1  2021-09-22 17:00"
      ]
     },
     "execution_count": 3,
     "metadata": {},
     "output_type": "execute_result"
    }
   ],
   "source": [
    "timestamps"
   ]
  },
  {
   "cell_type": "code",
   "execution_count": 4,
   "id": "alternate-victory",
   "metadata": {
    "execution": {
     "iopub.execute_input": "2021-09-22T15:30:08.943056Z",
     "iopub.status.busy": "2021-09-22T15:30:08.941130Z",
     "iopub.status.idle": "2021-09-22T15:30:09.455023Z",
     "shell.execute_reply": "2021-09-22T15:30:09.456253Z"
    },
    "papermill": {
     "duration": 0.543931,
     "end_time": "2021-09-22T15:30:09.456654",
     "exception": false,
     "start_time": "2021-09-22T15:30:08.912723",
     "status": "completed"
    },
    "tags": []
   },
   "outputs": [],
   "source": [
    "df = pd.read_sql(\"select * from EBAY_TOP_BERLIN where record_time in (select distinct record_time from EBAY_TOP_BERLIN order by record_time desc limit 2)\", sqlite3.connect(\"UsedObjects.db\"))"
   ]
  },
  {
   "cell_type": "code",
   "execution_count": 5,
   "id": "popular-active",
   "metadata": {
    "execution": {
     "iopub.execute_input": "2021-09-22T15:30:09.539573Z",
     "iopub.status.busy": "2021-09-22T15:30:09.527867Z",
     "iopub.status.idle": "2021-09-22T15:30:09.556338Z",
     "shell.execute_reply": "2021-09-22T15:30:09.557620Z"
    },
    "papermill": {
     "duration": 0.071968,
     "end_time": "2021-09-22T15:30:09.558041",
     "exception": false,
     "start_time": "2021-09-22T15:30:09.486073",
     "status": "completed"
    },
    "tags": []
   },
   "outputs": [],
   "source": [
    "df_pivot = df.pivot_table(index=\"PRODUCT\", columns = \"RECORD_TIME\", values = \"LISTING_COUNT\")"
   ]
  },
  {
   "cell_type": "code",
   "execution_count": 6,
   "id": "union-huntington",
   "metadata": {
    "execution": {
     "iopub.execute_input": "2021-09-22T15:30:09.616121Z",
     "iopub.status.busy": "2021-09-22T15:30:09.613926Z",
     "iopub.status.idle": "2021-09-22T15:30:09.619421Z",
     "shell.execute_reply": "2021-09-22T15:30:09.620795Z"
    },
    "papermill": {
     "duration": 0.041038,
     "end_time": "2021-09-22T15:30:09.621238",
     "exception": false,
     "start_time": "2021-09-22T15:30:09.580200",
     "status": "completed"
    },
    "tags": []
   },
   "outputs": [],
   "source": [
    "df_pivot.columns = [\"stamp_1\", \"stamp_2\"]\n",
    "df_pivot_diff = df_pivot.diff(axis=1)"
   ]
  },
  {
   "cell_type": "code",
   "execution_count": 7,
   "id": "fifth-motion",
   "metadata": {
    "execution": {
     "iopub.execute_input": "2021-09-22T15:30:09.678661Z",
     "iopub.status.busy": "2021-09-22T15:30:09.676082Z",
     "iopub.status.idle": "2021-09-22T15:30:11.186632Z",
     "shell.execute_reply": "2021-09-22T15:30:11.188087Z"
    },
    "papermill": {
     "duration": 1.544699,
     "end_time": "2021-09-22T15:30:11.188536",
     "exception": false,
     "start_time": "2021-09-22T15:30:09.643837",
     "status": "completed"
    },
    "tags": []
   },
   "outputs": [
    {
     "data": {
      "text/plain": [
       "<AxesSubplot:ylabel='PRODUCT'>"
      ]
     },
     "execution_count": 7,
     "metadata": {},
     "output_type": "execute_result"
    },
    {
     "data": {
      "image/png": "[encoded data removed]",
      "text/plain": [
       "<Figure size 432x288 with 1 Axes>"
      ]
     },
     "metadata": {
      "needs_background": "light"
     },
     "output_type": "display_data"
    }
   ],
   "source": [
    "df_pivot_diff.sort_values(\"stamp_2\", ascending = False)[\"stamp_2\"].head(10).plot.barh()"
   ]
  },
  {
   "cell_type": "code",
   "execution_count": null,
   "id": "extra-executive",
   "metadata": {
    "papermill": {
     "duration": 0.022509,
     "end_time": "2021-09-22T15:30:11.235954",
     "exception": false,
     "start_time": "2021-09-22T15:30:11.213445",
     "status": "completed"
    },
    "tags": []
   },
   "outputs": [],
   "source": []
  }
 ],
 "metadata": {
  "kernelspec": {
   "display_name": "Python 3",
   "language": "python",
   "name": "python3"
  },
  "language_info": {
   "codemirror_mode": {
    "name": "ipython",
    "version": 3
   },
   "file_extension": ".py",
   "mimetype": "text/x-python",
   "name": "python",
   "nbconvert_exporter": "python",
   "pygments_lexer": "ipython3",
   "version": "3.9.5"
  },
  "papermill": {
   "default_parameters": {},
   "duration": 6.73624,
   "end_time": "2021-09-22T15:30:11.879179",
   "environment_variables": {},
   "exception": null,
   "input_path": "eBay_Overview.ipynb",
   "output_path": "eBay_Overview.ipynb",
   "parameters": {},
   "start_time": "2021-09-22T15:30:05.142939",
   "version": "2.3.3"
  }
 },
 "nbformat": 4,
 "nbformat_minor": 5
}