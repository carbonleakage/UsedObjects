{
 "cells": [
  {
   "cell_type": "code",
   "execution_count": 1,
   "id": "reverse-picking",
   "metadata": {
    "execution": {
     "iopub.execute_input": "2021-10-24T03:00:07.178684Z",
     "iopub.status.busy": "2021-10-24T03:00:07.176648Z",
     "iopub.status.idle": "2021-10-24T03:00:07.982706Z",
     "shell.execute_reply": "2021-10-24T03:00:07.983968Z"
    },
    "papermill": {
     "duration": 0.856201,
     "end_time": "2021-10-24T03:00:07.984579",
     "exception": false,
     "start_time": "2021-10-24T03:00:07.128378",
     "status": "completed"
    },
    "tags": []
   },
   "outputs": [],
   "source": [
    "import pandas as pd\n",
    "import sqlite3"
   ]
  },
  {
   "cell_type": "code",
   "execution_count": 2,
   "id": "innovative-syndrome",
   "metadata": {
    "execution": {
     "iopub.execute_input": "2021-10-24T03:00:08.036322Z",
     "iopub.status.busy": "2021-10-24T03:00:08.034014Z",
     "iopub.status.idle": "2021-10-24T03:00:08.660870Z",
     "shell.execute_reply": "2021-10-24T03:00:08.662171Z"
    },
    "papermill": {
     "duration": 0.656862,
     "end_time": "2021-10-24T03:00:08.662584",
     "exception": false,
     "start_time": "2021-10-24T03:00:08.005722",
     "status": "completed"
    },
    "tags": []
   },
   "outputs": [],
   "source": [
    "timestamps = pd.read_sql(\"select distinct record_time from EBAY_TOP_BERLIN order by record_time desc limit 2\", sqlite3.connect(\"UsedObjects.db\"))"
   ]
  },
  {
   "cell_type": "code",
   "execution_count": 3,
   "id": "periodic-identification",
   "metadata": {
    "execution": {
     "iopub.execute_input": "2021-10-24T03:00:08.738128Z",
     "iopub.status.busy": "2021-10-24T03:00:08.736037Z",
     "iopub.status.idle": "2021-10-24T03:00:08.755734Z",
     "shell.execute_reply": "2021-10-24T03:00:08.757114Z"
    },
    "papermill": {
     "duration": 0.069823,
     "end_time": "2021-10-24T03:00:08.757543",
     "exception": false,
     "start_time": "2021-10-24T03:00:08.687720",
     "status": "completed"
    },
    "tags": []
   },
   "outputs": [
    {
     "data": {
      "text/html": [
       "<div>\n",
       "<style scoped>\n",
       "    .dataframe tbody tr th:only-of-type {\n",
       "        vertical-align: middle;\n",
       "    }\n",
       "\n",
       "    .dataframe tbody tr th {\n",
       "        vertical-align: top;\n",
       "    }\n",
       "\n",
       "    .dataframe thead th {\n",
       "        text-align: right;\n",
       "    }\n",
       "</style>\n",
       "<table border=\"1\" class=\"dataframe\">\n",
       "  <thead>\n",
       "    <tr style=\"text-align: right;\">\n",
       "      <th></th>\n",
       "      <th>RECORD_TIME</th>\n",
       "    </tr>\n",
       "  </thead>\n",
       "  <tbody>\n",
       "    <tr>\n",
       "      <th>0</th>\n",
       "      <td>2021-10-24 05:00</td>\n",
       "    </tr>\n",
       "    <tr>\n",
       "      <th>1</th>\n",
       "      <td>2021-10-24 04:30</td>\n",
       "    </tr>\n",
       "  </tbody>\n",
       "</table>\n",
       "</div>"
      ],
      "text/plain": [
       "        RECORD_TIME\n",
       "0  2021-10-24 05:00\n",
       "1  2021-10-24 04:30"
      ]
     },
     "execution_count": 3,
     "metadata": {},
     "output_type": "execute_result"
    }
   ],
   "source": [
    "timestamps"
   ]
  },
  {
   "cell_type": "code",
   "execution_count": 4,
   "id": "alternate-victory",
   "metadata": {
    "execution": {
     "iopub.execute_input": "2021-10-24T03:00:08.809186Z",
     "iopub.status.busy": "2021-10-24T03:00:08.807108Z",
     "iopub.status.idle": "2021-10-24T03:00:09.715675Z",
     "shell.execute_reply": "2021-10-24T03:00:09.717008Z"
    },
    "papermill": {
     "duration": 0.938559,
     "end_time": "2021-10-24T03:00:09.717460",
     "exception": false,
     "start_time": "2021-10-24T03:00:08.778901",
     "status": "completed"
    },
    "tags": []
   },
   "outputs": [],
   "source": [
    "df = pd.read_sql(\"select * from EBAY_TOP_BERLIN where record_time in (select distinct record_time from EBAY_TOP_BERLIN order by record_time desc limit 2)\", sqlite3.connect(\"UsedObjects.db\"))"
   ]
  },
  {
   "cell_type": "code",
   "execution_count": 5,
   "id": "popular-active",
   "metadata": {
    "execution": {
     "iopub.execute_input": "2021-10-24T03:00:09.786330Z",
     "iopub.status.busy": "2021-10-24T03:00:09.775113Z",
     "iopub.status.idle": "2021-10-24T03:00:09.802672Z",
     "shell.execute_reply": "2021-10-24T03:00:09.803873Z"
    },
    "papermill": {
     "duration": 0.066089,
     "end_time": "2021-10-24T03:00:09.804265",
     "exception": false,
     "start_time": "2021-10-24T03:00:09.738176",
     "status": "completed"
    },
    "tags": []
   },
   "outputs": [],
   "source": [
    "df_pivot = df.pivot_table(index=\"PRODUCT\", columns = \"RECORD_TIME\", values = \"LISTING_COUNT\")"
   ]
  },
  {
   "cell_type": "code",
   "execution_count": 6,
   "id": "union-huntington",
   "metadata": {
    "execution": {
     "iopub.execute_input": "2021-10-24T03:00:09.863967Z",
     "iopub.status.busy": "2021-10-24T03:00:09.861547Z",
     "iopub.status.idle": "2021-10-24T03:00:09.867318Z",
     "shell.execute_reply": "2021-10-24T03:00:09.868603Z"
    },
    "papermill": {
     "duration": 0.042257,
     "end_time": "2021-10-24T03:00:09.869101",
     "exception": false,
     "start_time": "2021-10-24T03:00:09.826844",
     "status": "completed"
    },
    "tags": []
   },
   "outputs": [],
   "source": [
    "df_pivot.columns = [\"stamp_1\", \"stamp_2\"]\n",
    "df_pivot_diff = df_pivot.diff(axis=1)"
   ]
  },
  {
   "cell_type": "code",
   "execution_count": 7,
   "id": "fifth-motion",
   "metadata": {
    "execution": {
     "iopub.execute_input": "2021-10-24T03:00:09.923785Z",
     "iopub.status.busy": "2021-10-24T03:00:09.921507Z",
     "iopub.status.idle": "2021-10-24T03:00:11.404839Z",
     "shell.execute_reply": "2021-10-24T03:00:11.406135Z"
    },
    "papermill": {
     "duration": 1.516655,
     "end_time": "2021-10-24T03:00:11.406590",
     "exception": false,
     "start_time": "2021-10-24T03:00:09.889935",
     "status": "completed"
    },
    "tags": []
   },
   "outputs": [
    {
     "data": {
      "text/plain": [
       "<AxesSubplot:ylabel='PRODUCT'>"
      ]
     },
     "execution_count": 7,
     "metadata": {},
     "output_type": "execute_result"
    },
    {
     "data": {
      "image/png": "[encoded data removed]",
      "text/plain": [
       "<Figure size 432x288 with 1 Axes>"
      ]
     },
     "metadata": {
      "needs_background": "light"
     },
     "output_type": "display_data"
    }
   ],
   "source": [
    "df_pivot_diff.sort_values(\"stamp_2\", ascending = False)[\"stamp_2\"].head(10).plot.barh()"
   ]
  },
  {
   "cell_type": "code",
   "execution_count": null,
   "id": "extra-executive",
   "metadata": {
    "papermill": {
     "duration": 0.022057,
     "end_time": "2021-10-24T03:00:11.453279",
     "exception": false,
     "start_time": "2021-10-24T03:00:11.431222",
     "status": "completed"
    },
    "tags": []
   },
   "outputs": [],
   "source": []
  }
 ],
 "metadata": {
  "kernelspec": {
   "display_name": "Python 3",
   "language": "python",
   "name": "python3"
  },
  "language_info": {
   "codemirror_mode": {
    "name": "ipython",
    "version": 3
   },
   "file_extension": ".py",
   "mimetype": "text/x-python",
   "name": "python",
   "nbconvert_exporter": "python",
   "pygments_lexer": "ipython3",
   "version": "3.9.5"
  },
  "papermill": {
   "default_parameters": {},
   "duration": 7.364884,
   "end_time": "2021-10-24T03:00:12.097245",
   "environment_variables": {},
   "exception": null,
   "input_path": "eBay_Overview.ipynb",
   "output_path": "eBay_Overview.ipynb",
   "parameters": {},
   "start_time": "2021-10-24T03:00:04.732361",
   "version": "2.3.3"
  }
 },
 "nbformat": 4,
 "nbformat_minor": 5
}