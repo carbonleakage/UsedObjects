{
 "cells": [
  {
   "cell_type": "code",
   "execution_count": 1,
   "id": "reverse-picking",
   "metadata": {
    "execution": {
     "iopub.execute_input": "2021-10-30T11:30:06.743173Z",
     "iopub.status.busy": "2021-10-30T11:30:06.741190Z",
     "iopub.status.idle": "2021-10-30T11:30:07.544405Z",
     "shell.execute_reply": "2021-10-30T11:30:07.545857Z"
    },
    "papermill": {
     "duration": 0.855171,
     "end_time": "2021-10-30T11:30:07.546506",
     "exception": false,
     "start_time": "2021-10-30T11:30:06.691335",
     "status": "completed"
    },
    "tags": []
   },
   "outputs": [],
   "source": [
    "import pandas as pd\n",
    "import sqlite3"
   ]
  },
  {
   "cell_type": "code",
   "execution_count": 2,
   "id": "innovative-syndrome",
   "metadata": {
    "execution": {
     "iopub.execute_input": "2021-10-30T11:30:07.597518Z",
     "iopub.status.busy": "2021-10-30T11:30:07.595456Z",
     "iopub.status.idle": "2021-10-30T11:30:08.273399Z",
     "shell.execute_reply": "2021-10-30T11:30:08.274866Z"
    },
    "papermill": {
     "duration": 0.70835,
     "end_time": "2021-10-30T11:30:08.275307",
     "exception": false,
     "start_time": "2021-10-30T11:30:07.566957",
     "status": "completed"
    },
    "tags": []
   },
   "outputs": [],
   "source": [
    "timestamps = pd.read_sql(\"select distinct record_time from EBAY_TOP_BERLIN order by record_time desc limit 2\", sqlite3.connect(\"UsedObjects.db\"))"
   ]
  },
  {
   "cell_type": "code",
   "execution_count": 3,
   "id": "periodic-identification",
   "metadata": {
    "execution": {
     "iopub.execute_input": "2021-10-30T11:30:08.350035Z",
     "iopub.status.busy": "2021-10-30T11:30:08.347850Z",
     "iopub.status.idle": "2021-10-30T11:30:08.367608Z",
     "shell.execute_reply": "2021-10-30T11:30:08.369095Z"
    },
    "papermill": {
     "duration": 0.068459,
     "end_time": "2021-10-30T11:30:08.369548",
     "exception": false,
     "start_time": "2021-10-30T11:30:08.301089",
     "status": "completed"
    },
    "tags": []
   },
   "outputs": [
    {
     "data": {
      "text/html": [
       "<div>\n",
       "<style scoped>\n",
       "    .dataframe tbody tr th:only-of-type {\n",
       "        vertical-align: middle;\n",
       "    }\n",
       "\n",
       "    .dataframe tbody tr th {\n",
       "        vertical-align: top;\n",
       "    }\n",
       "\n",
       "    .dataframe thead th {\n",
       "        text-align: right;\n",
       "    }\n",
       "</style>\n",
       "<table border=\"1\" class=\"dataframe\">\n",
       "  <thead>\n",
       "    <tr style=\"text-align: right;\">\n",
       "      <th></th>\n",
       "      <th>RECORD_TIME</th>\n",
       "    </tr>\n",
       "  </thead>\n",
       "  <tbody>\n",
       "    <tr>\n",
       "      <th>0</th>\n",
       "      <td>2021-10-30 13:30</td>\n",
       "    </tr>\n",
       "    <tr>\n",
       "      <th>1</th>\n",
       "      <td>2021-10-30 13:00</td>\n",
       "    </tr>\n",
       "  </tbody>\n",
       "</table>\n",
       "</div>"
      ],
      "text/plain": [
       "        RECORD_TIME\n",
       "0  2021-10-30 13:30\n",
       "1  2021-10-30 13:00"
      ]
     },
     "execution_count": 3,
     "metadata": {},
     "output_type": "execute_result"
    }
   ],
   "source": [
    "timestamps"
   ]
  },
  {
   "cell_type": "code",
   "execution_count": 4,
   "id": "alternate-victory",
   "metadata": {
    "execution": {
     "iopub.execute_input": "2021-10-30T11:30:08.421268Z",
     "iopub.status.busy": "2021-10-30T11:30:08.419278Z",
     "iopub.status.idle": "2021-10-30T11:30:09.383935Z",
     "shell.execute_reply": "2021-10-30T11:30:09.385380Z"
    },
    "papermill": {
     "duration": 0.994854,
     "end_time": "2021-10-30T11:30:09.385811",
     "exception": false,
     "start_time": "2021-10-30T11:30:08.390957",
     "status": "completed"
    },
    "tags": []
   },
   "outputs": [],
   "source": [
    "df = pd.read_sql(\"select * from EBAY_TOP_BERLIN where record_time in (select distinct record_time from EBAY_TOP_BERLIN order by record_time desc limit 2)\", sqlite3.connect(\"UsedObjects.db\"))"
   ]
  },
  {
   "cell_type": "code",
   "execution_count": 5,
   "id": "popular-active",
   "metadata": {
    "execution": {
     "iopub.execute_input": "2021-10-30T11:30:09.455979Z",
     "iopub.status.busy": "2021-10-30T11:30:09.444770Z",
     "iopub.status.idle": "2021-10-30T11:30:09.472363Z",
     "shell.execute_reply": "2021-10-30T11:30:09.473842Z"
    },
    "papermill": {
     "duration": 0.066613,
     "end_time": "2021-10-30T11:30:09.474256",
     "exception": false,
     "start_time": "2021-10-30T11:30:09.407643",
     "status": "completed"
    },
    "tags": []
   },
   "outputs": [],
   "source": [
    "df_pivot = df.pivot_table(index=\"PRODUCT\", columns = \"RECORD_TIME\", values = \"LISTING_COUNT\")"
   ]
  },
  {
   "cell_type": "code",
   "execution_count": 6,
   "id": "union-huntington",
   "metadata": {
    "execution": {
     "iopub.execute_input": "2021-10-30T11:30:09.532844Z",
     "iopub.status.busy": "2021-10-30T11:30:09.530448Z",
     "iopub.status.idle": "2021-10-30T11:30:09.536174Z",
     "shell.execute_reply": "2021-10-30T11:30:09.537553Z"
    },
    "papermill": {
     "duration": 0.042056,
     "end_time": "2021-10-30T11:30:09.537968",
     "exception": false,
     "start_time": "2021-10-30T11:30:09.495912",
     "status": "completed"
    },
    "tags": []
   },
   "outputs": [],
   "source": [
    "df_pivot.columns = [\"stamp_1\", \"stamp_2\"]\n",
    "df_pivot_diff = df_pivot.diff(axis=1)"
   ]
  },
  {
   "cell_type": "code",
   "execution_count": 7,
   "id": "fifth-motion",
   "metadata": {
    "execution": {
     "iopub.execute_input": "2021-10-30T11:30:09.592435Z",
     "iopub.status.busy": "2021-10-30T11:30:09.590076Z",
     "iopub.status.idle": "2021-10-30T11:30:11.054273Z",
     "shell.execute_reply": "2021-10-30T11:30:11.055587Z"
    },
    "papermill": {
     "duration": 1.497081,
     "end_time": "2021-10-30T11:30:11.056000",
     "exception": false,
     "start_time": "2021-10-30T11:30:09.558919",
     "status": "completed"
    },
    "tags": []
   },
   "outputs": [
    {
     "data": {
      "text/plain": [
       "<AxesSubplot:ylabel='PRODUCT'>"
      ]
     },
     "execution_count": 7,
     "metadata": {},
     "output_type": "execute_result"
    },
    {
     "data": {
      "image/png": "[encoded data removed]",
      "text/plain": [
       "<Figure size 432x288 with 1 Axes>"
      ]
     },
     "metadata": {
      "needs_background": "light"
     },
     "output_type": "display_data"
    }
   ],
   "source": [
    "df_pivot_diff.sort_values(\"stamp_2\", ascending = False)[\"stamp_2\"].head(10).plot.barh()"
   ]
  },
  {
   "cell_type": "code",
   "execution_count": null,
   "id": "extra-executive",
   "metadata": {
    "papermill": {
     "duration": 0.022252,
     "end_time": "2021-10-30T11:30:11.102284",
     "exception": false,
     "start_time": "2021-10-30T11:30:11.080032",
     "status": "completed"
    },
    "tags": []
   },
   "outputs": [],
   "source": []
  }
 ],
 "metadata": {
  "kernelspec": {
   "display_name": "Python 3",
   "language": "python",
   "name": "python3"
  },
  "language_info": {
   "codemirror_mode": {
    "name": "ipython",
    "version": 3
   },
   "file_extension": ".py",
   "mimetype": "text/x-python",
   "name": "python",
   "nbconvert_exporter": "python",
   "pygments_lexer": "ipython3",
   "version": "3.9.5"
  },
  "papermill": {
   "default_parameters": {},
   "duration": 7.459622,
   "end_time": "2021-10-30T11:30:11.746872",
   "environment_variables": {},
   "exception": null,
   "input_path": "eBay_Overview.ipynb",
   "output_path": "eBay_Overview.ipynb",
   "parameters": {},
   "start_time": "2021-10-30T11:30:04.287250",
   "version": "2.3.3"
  }
 },
 "nbformat": 4,
 "nbformat_minor": 5
}