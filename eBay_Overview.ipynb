{
 "cells": [
  {
   "cell_type": "code",
   "execution_count": 1,
   "id": "reverse-picking",
   "metadata": {
    "execution": {
     "iopub.execute_input": "2021-09-10T08:30:06.881293Z",
     "iopub.status.busy": "2021-09-10T08:30:06.879204Z",
     "iopub.status.idle": "2021-09-10T08:30:07.693784Z",
     "shell.execute_reply": "2021-09-10T08:30:07.692217Z"
    },
    "papermill": {
     "duration": 0.863458,
     "end_time": "2021-09-10T08:30:07.694171",
     "exception": false,
     "start_time": "2021-09-10T08:30:06.830713",
     "status": "completed"
    },
    "tags": []
   },
   "outputs": [],
   "source": [
    "import pandas as pd\n",
    "import sqlite3"
   ]
  },
  {
   "cell_type": "code",
   "execution_count": 2,
   "id": "innovative-syndrome",
   "metadata": {
    "execution": {
     "iopub.execute_input": "2021-09-10T08:30:07.745698Z",
     "iopub.status.busy": "2021-09-10T08:30:07.743810Z",
     "iopub.status.idle": "2021-09-10T08:30:07.997782Z",
     "shell.execute_reply": "2021-09-10T08:30:07.999089Z"
    },
    "papermill": {
     "duration": 0.283652,
     "end_time": "2021-09-10T08:30:07.999533",
     "exception": false,
     "start_time": "2021-09-10T08:30:07.715881",
     "status": "completed"
    },
    "tags": []
   },
   "outputs": [],
   "source": [
    "timestamps = pd.read_sql(\"select distinct record_time from EBAY_TOP_BERLIN order by record_time desc limit 2\", sqlite3.connect(\"UsedObjects.db\"))"
   ]
  },
  {
   "cell_type": "code",
   "execution_count": 3,
   "id": "periodic-identification",
   "metadata": {
    "execution": {
     "iopub.execute_input": "2021-09-10T08:30:08.066650Z",
     "iopub.status.busy": "2021-09-10T08:30:08.064607Z",
     "iopub.status.idle": "2021-09-10T08:30:08.085130Z",
     "shell.execute_reply": "2021-09-10T08:30:08.086433Z"
    },
    "papermill": {
     "duration": 0.066447,
     "end_time": "2021-09-10T08:30:08.086842",
     "exception": false,
     "start_time": "2021-09-10T08:30:08.020395",
     "status": "completed"
    },
    "tags": []
   },
   "outputs": [
    {
     "data": {
      "text/html": [
       "<div>\n",
       "<style scoped>\n",
       "    .dataframe tbody tr th:only-of-type {\n",
       "        vertical-align: middle;\n",
       "    }\n",
       "\n",
       "    .dataframe tbody tr th {\n",
       "        vertical-align: top;\n",
       "    }\n",
       "\n",
       "    .dataframe thead th {\n",
       "        text-align: right;\n",
       "    }\n",
       "</style>\n",
       "<table border=\"1\" class=\"dataframe\">\n",
       "  <thead>\n",
       "    <tr style=\"text-align: right;\">\n",
       "      <th></th>\n",
       "      <th>RECORD_TIME</th>\n",
       "    </tr>\n",
       "  </thead>\n",
       "  <tbody>\n",
       "    <tr>\n",
       "      <th>0</th>\n",
       "      <td>2021-09-10 10:30</td>\n",
       "    </tr>\n",
       "    <tr>\n",
       "      <th>1</th>\n",
       "      <td>2021-09-10 10:00</td>\n",
       "    </tr>\n",
       "  </tbody>\n",
       "</table>\n",
       "</div>"
      ],
      "text/plain": [
       "        RECORD_TIME\n",
       "0  2021-09-10 10:30\n",
       "1  2021-09-10 10:00"
      ]
     },
     "execution_count": 3,
     "metadata": {},
     "output_type": "execute_result"
    }
   ],
   "source": [
    "timestamps"
   ]
  },
  {
   "cell_type": "code",
   "execution_count": 4,
   "id": "alternate-victory",
   "metadata": {
    "execution": {
     "iopub.execute_input": "2021-09-10T08:30:08.138323Z",
     "iopub.status.busy": "2021-09-10T08:30:08.136484Z",
     "iopub.status.idle": "2021-09-10T08:30:08.501471Z",
     "shell.execute_reply": "2021-09-10T08:30:08.502768Z"
    },
    "papermill": {
     "duration": 0.395217,
     "end_time": "2021-09-10T08:30:08.503250",
     "exception": false,
     "start_time": "2021-09-10T08:30:08.108033",
     "status": "completed"
    },
    "tags": []
   },
   "outputs": [],
   "source": [
    "df = pd.read_sql(\"select * from EBAY_TOP_BERLIN where record_time in (select distinct record_time from EBAY_TOP_BERLIN order by record_time desc limit 2)\", sqlite3.connect(\"UsedObjects.db\"))"
   ]
  },
  {
   "cell_type": "code",
   "execution_count": 5,
   "id": "popular-active",
   "metadata": {
    "execution": {
     "iopub.execute_input": "2021-09-10T08:30:08.583773Z",
     "iopub.status.busy": "2021-09-10T08:30:08.571865Z",
     "iopub.status.idle": "2021-09-10T08:30:08.600225Z",
     "shell.execute_reply": "2021-09-10T08:30:08.601604Z"
    },
    "papermill": {
     "duration": 0.072808,
     "end_time": "2021-09-10T08:30:08.602038",
     "exception": false,
     "start_time": "2021-09-10T08:30:08.529230",
     "status": "completed"
    },
    "tags": []
   },
   "outputs": [],
   "source": [
    "df_pivot = df.pivot_table(index=\"PRODUCT\", columns = \"RECORD_TIME\", values = \"LISTING_COUNT\")"
   ]
  },
  {
   "cell_type": "code",
   "execution_count": 6,
   "id": "union-huntington",
   "metadata": {
    "execution": {
     "iopub.execute_input": "2021-09-10T08:30:08.661502Z",
     "iopub.status.busy": "2021-09-10T08:30:08.659045Z",
     "iopub.status.idle": "2021-09-10T08:30:08.665067Z",
     "shell.execute_reply": "2021-09-10T08:30:08.666349Z"
    },
    "papermill": {
     "duration": 0.042941,
     "end_time": "2021-09-10T08:30:08.666755",
     "exception": false,
     "start_time": "2021-09-10T08:30:08.623814",
     "status": "completed"
    },
    "tags": []
   },
   "outputs": [],
   "source": [
    "df_pivot.columns = [\"stamp_1\", \"stamp_2\"]\n",
    "df_pivot_diff = df_pivot.diff(axis=1)"
   ]
  },
  {
   "cell_type": "code",
   "execution_count": 7,
   "id": "fifth-motion",
   "metadata": {
    "execution": {
     "iopub.execute_input": "2021-09-10T08:30:08.721197Z",
     "iopub.status.busy": "2021-09-10T08:30:08.718750Z",
     "iopub.status.idle": "2021-09-10T08:30:10.202524Z",
     "shell.execute_reply": "2021-09-10T08:30:10.203966Z"
    },
    "papermill": {
     "duration": 1.51756,
     "end_time": "2021-09-10T08:30:10.204393",
     "exception": false,
     "start_time": "2021-09-10T08:30:08.686833",
     "status": "completed"
    },
    "tags": []
   },
   "outputs": [
    {
     "data": {
      "text/plain": [
       "<AxesSubplot:ylabel='PRODUCT'>"
      ]
     },
     "execution_count": 7,
     "metadata": {},
     "output_type": "execute_result"
    },
    {
     "data": {
      "image/png": "[encoded data removed]",
      "text/plain": [
       "<Figure size 432x288 with 1 Axes>"
      ]
     },
     "metadata": {
      "needs_background": "light"
     },
     "output_type": "display_data"
    }
   ],
   "source": [
    "df_pivot_diff.sort_values(\"stamp_2\", ascending = False)[\"stamp_2\"].head(10).plot.barh()"
   ]
  },
  {
   "cell_type": "code",
   "execution_count": null,
   "id": "extra-executive",
   "metadata": {
    "papermill": {
     "duration": 0.022129,
     "end_time": "2021-09-10T08:30:10.250333",
     "exception": false,
     "start_time": "2021-09-10T08:30:10.228204",
     "status": "completed"
    },
    "tags": []
   },
   "outputs": [],
   "source": []
  }
 ],
 "metadata": {
  "kernelspec": {
   "display_name": "Python 3",
   "language": "python",
   "name": "python3"
  },
  "language_info": {
   "codemirror_mode": {
    "name": "ipython",
    "version": 3
   },
   "file_extension": ".py",
   "mimetype": "text/x-python",
   "name": "python",
   "nbconvert_exporter": "python",
   "pygments_lexer": "ipython3",
   "version": "3.9.5"
  },
  "papermill": {
   "default_parameters": {},
   "duration": 6.485523,
   "end_time": "2021-09-10T08:30:10.889949",
   "environment_variables": {},
   "exception": null,
   "input_path": "eBay_Overview.ipynb",
   "output_path": "eBay_Overview.ipynb",
   "parameters": {},
   "start_time": "2021-09-10T08:30:04.404426",
   "version": "2.3.3"
  }
 },
 "nbformat": 4,
 "nbformat_minor": 5
}