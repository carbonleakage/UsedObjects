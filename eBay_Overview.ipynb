{
 "cells": [
  {
   "cell_type": "code",
   "execution_count": 1,
   "id": "reverse-picking",
   "metadata": {
    "execution": {
     "iopub.execute_input": "2021-10-03T09:30:07.665178Z",
     "iopub.status.busy": "2021-10-03T09:30:07.663267Z",
     "iopub.status.idle": "2021-10-03T09:30:08.469100Z",
     "shell.execute_reply": "2021-10-03T09:30:08.470324Z"
    },
    "papermill": {
     "duration": 0.857823,
     "end_time": "2021-10-03T09:30:08.470998",
     "exception": false,
     "start_time": "2021-10-03T09:30:07.613175",
     "status": "completed"
    },
    "tags": []
   },
   "outputs": [],
   "source": [
    "import pandas as pd\n",
    "import sqlite3"
   ]
  },
  {
   "cell_type": "code",
   "execution_count": 2,
   "id": "innovative-syndrome",
   "metadata": {
    "execution": {
     "iopub.execute_input": "2021-10-03T09:30:08.523617Z",
     "iopub.status.busy": "2021-10-03T09:30:08.521665Z",
     "iopub.status.idle": "2021-10-03T09:30:08.968617Z",
     "shell.execute_reply": "2021-10-03T09:30:08.969864Z"
    },
    "papermill": {
     "duration": 0.476668,
     "end_time": "2021-10-03T09:30:08.970270",
     "exception": false,
     "start_time": "2021-10-03T09:30:08.493602",
     "status": "completed"
    },
    "tags": []
   },
   "outputs": [],
   "source": [
    "timestamps = pd.read_sql(\"select distinct record_time from EBAY_TOP_BERLIN order by record_time desc limit 2\", sqlite3.connect(\"UsedObjects.db\"))"
   ]
  },
  {
   "cell_type": "code",
   "execution_count": 3,
   "id": "periodic-identification",
   "metadata": {
    "execution": {
     "iopub.execute_input": "2021-10-03T09:30:09.034276Z",
     "iopub.status.busy": "2021-10-03T09:30:09.032283Z",
     "iopub.status.idle": "2021-10-03T09:30:09.052399Z",
     "shell.execute_reply": "2021-10-03T09:30:09.053568Z"
    },
    "papermill": {
     "duration": 0.063973,
     "end_time": "2021-10-03T09:30:09.053986",
     "exception": false,
     "start_time": "2021-10-03T09:30:08.990013",
     "status": "completed"
    },
    "tags": []
   },
   "outputs": [
    {
     "data": {
      "text/html": [
       "<div>\n",
       "<style scoped>\n",
       "    .dataframe tbody tr th:only-of-type {\n",
       "        vertical-align: middle;\n",
       "    }\n",
       "\n",
       "    .dataframe tbody tr th {\n",
       "        vertical-align: top;\n",
       "    }\n",
       "\n",
       "    .dataframe thead th {\n",
       "        text-align: right;\n",
       "    }\n",
       "</style>\n",
       "<table border=\"1\" class=\"dataframe\">\n",
       "  <thead>\n",
       "    <tr style=\"text-align: right;\">\n",
       "      <th></th>\n",
       "      <th>RECORD_TIME</th>\n",
       "    </tr>\n",
       "  </thead>\n",
       "  <tbody>\n",
       "    <tr>\n",
       "      <th>0</th>\n",
       "      <td>2021-10-03 11:30</td>\n",
       "    </tr>\n",
       "    <tr>\n",
       "      <th>1</th>\n",
       "      <td>2021-10-03 11:00</td>\n",
       "    </tr>\n",
       "  </tbody>\n",
       "</table>\n",
       "</div>"
      ],
      "text/plain": [
       "        RECORD_TIME\n",
       "0  2021-10-03 11:30\n",
       "1  2021-10-03 11:00"
      ]
     },
     "execution_count": 3,
     "metadata": {},
     "output_type": "execute_result"
    }
   ],
   "source": [
    "timestamps"
   ]
  },
  {
   "cell_type": "code",
   "execution_count": 4,
   "id": "alternate-victory",
   "metadata": {
    "execution": {
     "iopub.execute_input": "2021-10-03T09:30:09.116088Z",
     "iopub.status.busy": "2021-10-03T09:30:09.113999Z",
     "iopub.status.idle": "2021-10-03T09:30:09.759126Z",
     "shell.execute_reply": "2021-10-03T09:30:09.760616Z"
    },
    "papermill": {
     "duration": 0.683719,
     "end_time": "2021-10-03T09:30:09.761047",
     "exception": false,
     "start_time": "2021-10-03T09:30:09.077328",
     "status": "completed"
    },
    "tags": []
   },
   "outputs": [],
   "source": [
    "df = pd.read_sql(\"select * from EBAY_TOP_BERLIN where record_time in (select distinct record_time from EBAY_TOP_BERLIN order by record_time desc limit 2)\", sqlite3.connect(\"UsedObjects.db\"))"
   ]
  },
  {
   "cell_type": "code",
   "execution_count": 5,
   "id": "popular-active",
   "metadata": {
    "execution": {
     "iopub.execute_input": "2021-10-03T09:30:09.832739Z",
     "iopub.status.busy": "2021-10-03T09:30:09.821886Z",
     "iopub.status.idle": "2021-10-03T09:30:09.849117Z",
     "shell.execute_reply": "2021-10-03T09:30:09.850308Z"
    },
    "papermill": {
     "duration": 0.068692,
     "end_time": "2021-10-03T09:30:09.850697",
     "exception": false,
     "start_time": "2021-10-03T09:30:09.782005",
     "status": "completed"
    },
    "tags": []
   },
   "outputs": [],
   "source": [
    "df_pivot = df.pivot_table(index=\"PRODUCT\", columns = \"RECORD_TIME\", values = \"LISTING_COUNT\")"
   ]
  },
  {
   "cell_type": "code",
   "execution_count": 6,
   "id": "union-huntington",
   "metadata": {
    "execution": {
     "iopub.execute_input": "2021-10-03T09:30:09.910280Z",
     "iopub.status.busy": "2021-10-03T09:30:09.907876Z",
     "iopub.status.idle": "2021-10-03T09:30:09.913640Z",
     "shell.execute_reply": "2021-10-03T09:30:09.914963Z"
    },
    "papermill": {
     "duration": 0.042239,
     "end_time": "2021-10-03T09:30:09.915374",
     "exception": false,
     "start_time": "2021-10-03T09:30:09.873135",
     "status": "completed"
    },
    "tags": []
   },
   "outputs": [],
   "source": [
    "df_pivot.columns = [\"stamp_1\", \"stamp_2\"]\n",
    "df_pivot_diff = df_pivot.diff(axis=1)"
   ]
  },
  {
   "cell_type": "code",
   "execution_count": 7,
   "id": "fifth-motion",
   "metadata": {
    "execution": {
     "iopub.execute_input": "2021-10-03T09:30:09.969843Z",
     "iopub.status.busy": "2021-10-03T09:30:09.967563Z",
     "iopub.status.idle": "2021-10-03T09:30:11.424228Z",
     "shell.execute_reply": "2021-10-03T09:30:11.425484Z"
    },
    "papermill": {
     "duration": 1.489915,
     "end_time": "2021-10-03T09:30:11.425891",
     "exception": false,
     "start_time": "2021-10-03T09:30:09.935976",
     "status": "completed"
    },
    "tags": []
   },
   "outputs": [
    {
     "data": {
      "text/plain": [
       "<AxesSubplot:ylabel='PRODUCT'>"
      ]
     },
     "execution_count": 7,
     "metadata": {},
     "output_type": "execute_result"
    },
    {
     "data": {
      "image/png": "[encoded data removed]",
      "text/plain": [
       "<Figure size 432x288 with 1 Axes>"
      ]
     },
     "metadata": {
      "needs_background": "light"
     },
     "output_type": "display_data"
    }
   ],
   "source": [
    "df_pivot_diff.sort_values(\"stamp_2\", ascending = False)[\"stamp_2\"].head(10).plot.barh()"
   ]
  },
  {
   "cell_type": "code",
   "execution_count": null,
   "id": "extra-executive",
   "metadata": {
    "papermill": {
     "duration": 0.022062,
     "end_time": "2021-10-03T09:30:11.472358",
     "exception": false,
     "start_time": "2021-10-03T09:30:11.450296",
     "status": "completed"
    },
    "tags": []
   },
   "outputs": [],
   "source": []
  }
 ],
 "metadata": {
  "kernelspec": {
   "display_name": "Python 3",
   "language": "python",
   "name": "python3"
  },
  "language_info": {
   "codemirror_mode": {
    "name": "ipython",
    "version": 3
   },
   "file_extension": ".py",
   "mimetype": "text/x-python",
   "name": "python",
   "nbconvert_exporter": "python",
   "pygments_lexer": "ipython3",
   "version": "3.9.5"
  },
  "papermill": {
   "default_parameters": {},
   "duration": 7.821136,
   "end_time": "2021-10-03T09:30:13.028648",
   "environment_variables": {},
   "exception": null,
   "input_path": "eBay_Overview.ipynb",
   "output_path": "eBay_Overview.ipynb",
   "parameters": {},
   "start_time": "2021-10-03T09:30:05.207512",
   "version": "2.3.3"
  }
 },
 "nbformat": 4,
 "nbformat_minor": 5
}