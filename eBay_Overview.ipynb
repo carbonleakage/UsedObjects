{
 "cells": [
  {
   "cell_type": "code",
   "execution_count": 1,
   "id": "reverse-picking",
   "metadata": {
    "execution": {
     "iopub.execute_input": "2021-08-14T02:30:07.367899Z",
     "iopub.status.busy": "2021-08-14T02:30:07.365833Z",
     "iopub.status.idle": "2021-08-14T02:30:08.178714Z",
     "shell.execute_reply": "2021-08-14T02:30:08.180166Z"
    },
    "papermill": {
     "duration": 0.866704,
     "end_time": "2021-08-14T02:30:08.180845",
     "exception": false,
     "start_time": "2021-08-14T02:30:07.314141",
     "status": "completed"
    },
    "tags": []
   },
   "outputs": [],
   "source": [
    "import pandas as pd\n",
    "import sqlite3"
   ]
  },
  {
   "cell_type": "code",
   "execution_count": 2,
   "id": "innovative-syndrome",
   "metadata": {
    "execution": {
     "iopub.execute_input": "2021-08-14T02:30:08.232656Z",
     "iopub.status.busy": "2021-08-14T02:30:08.230323Z",
     "iopub.status.idle": "2021-08-14T02:30:08.277604Z",
     "shell.execute_reply": "2021-08-14T02:30:08.278954Z"
    },
    "papermill": {
     "duration": 0.077822,
     "end_time": "2021-08-14T02:30:08.279383",
     "exception": false,
     "start_time": "2021-08-14T02:30:08.201561",
     "status": "completed"
    },
    "tags": []
   },
   "outputs": [],
   "source": [
    "timestamps = pd.read_sql(\"select distinct record_time from EBAY_TOP_BERLIN order by record_time desc limit 2\", sqlite3.connect(\"UsedObjects.db\"))"
   ]
  },
  {
   "cell_type": "code",
   "execution_count": 3,
   "id": "periodic-identification",
   "metadata": {
    "execution": {
     "iopub.execute_input": "2021-08-14T02:30:08.345510Z",
     "iopub.status.busy": "2021-08-14T02:30:08.343240Z",
     "iopub.status.idle": "2021-08-14T02:30:08.363621Z",
     "shell.execute_reply": "2021-08-14T02:30:08.364855Z"
    },
    "papermill": {
     "duration": 0.065793,
     "end_time": "2021-08-14T02:30:08.365252",
     "exception": false,
     "start_time": "2021-08-14T02:30:08.299459",
     "status": "completed"
    },
    "tags": []
   },
   "outputs": [
    {
     "data": {
      "text/html": [
       "<div>\n",
       "<style scoped>\n",
       "    .dataframe tbody tr th:only-of-type {\n",
       "        vertical-align: middle;\n",
       "    }\n",
       "\n",
       "    .dataframe tbody tr th {\n",
       "        vertical-align: top;\n",
       "    }\n",
       "\n",
       "    .dataframe thead th {\n",
       "        text-align: right;\n",
       "    }\n",
       "</style>\n",
       "<table border=\"1\" class=\"dataframe\">\n",
       "  <thead>\n",
       "    <tr style=\"text-align: right;\">\n",
       "      <th></th>\n",
       "      <th>RECORD_TIME</th>\n",
       "    </tr>\n",
       "  </thead>\n",
       "  <tbody>\n",
       "    <tr>\n",
       "      <th>0</th>\n",
       "      <td>2021-08-14 04:30</td>\n",
       "    </tr>\n",
       "    <tr>\n",
       "      <th>1</th>\n",
       "      <td>2021-08-14 04:00</td>\n",
       "    </tr>\n",
       "  </tbody>\n",
       "</table>\n",
       "</div>"
      ],
      "text/plain": [
       "        RECORD_TIME\n",
       "0  2021-08-14 04:30\n",
       "1  2021-08-14 04:00"
      ]
     },
     "execution_count": 3,
     "metadata": {},
     "output_type": "execute_result"
    }
   ],
   "source": [
    "timestamps"
   ]
  },
  {
   "cell_type": "code",
   "execution_count": 4,
   "id": "alternate-victory",
   "metadata": {
    "execution": {
     "iopub.execute_input": "2021-08-14T02:30:08.419171Z",
     "iopub.status.busy": "2021-08-14T02:30:08.416756Z",
     "iopub.status.idle": "2021-08-14T02:30:08.485046Z",
     "shell.execute_reply": "2021-08-14T02:30:08.486485Z"
    },
    "papermill": {
     "duration": 0.099183,
     "end_time": "2021-08-14T02:30:08.486904",
     "exception": false,
     "start_time": "2021-08-14T02:30:08.387721",
     "status": "completed"
    },
    "tags": []
   },
   "outputs": [],
   "source": [
    "df = pd.read_sql(\"select * from EBAY_TOP_BERLIN where record_time in (select distinct record_time from EBAY_TOP_BERLIN order by record_time desc limit 2)\", sqlite3.connect(\"UsedObjects.db\"))"
   ]
  },
  {
   "cell_type": "code",
   "execution_count": 5,
   "id": "popular-active",
   "metadata": {
    "execution": {
     "iopub.execute_input": "2021-08-14T02:30:08.559243Z",
     "iopub.status.busy": "2021-08-14T02:30:08.546664Z",
     "iopub.status.idle": "2021-08-14T02:30:08.574705Z",
     "shell.execute_reply": "2021-08-14T02:30:08.575952Z"
    },
    "papermill": {
     "duration": 0.068961,
     "end_time": "2021-08-14T02:30:08.576349",
     "exception": false,
     "start_time": "2021-08-14T02:30:08.507388",
     "status": "completed"
    },
    "tags": []
   },
   "outputs": [],
   "source": [
    "df_pivot = df.pivot_table(index=\"PRODUCT\", columns = \"RECORD_TIME\", values = \"LISTING_COUNT\")"
   ]
  },
  {
   "cell_type": "code",
   "execution_count": 6,
   "id": "union-huntington",
   "metadata": {
    "execution": {
     "iopub.execute_input": "2021-08-14T02:30:08.636369Z",
     "iopub.status.busy": "2021-08-14T02:30:08.633849Z",
     "iopub.status.idle": "2021-08-14T02:30:08.641222Z",
     "shell.execute_reply": "2021-08-14T02:30:08.639838Z"
    },
    "papermill": {
     "duration": 0.042691,
     "end_time": "2021-08-14T02:30:08.641573",
     "exception": false,
     "start_time": "2021-08-14T02:30:08.598882",
     "status": "completed"
    },
    "tags": []
   },
   "outputs": [],
   "source": [
    "df_pivot.columns = [\"stamp_1\", \"stamp_2\"]\n",
    "df_pivot_diff = df_pivot.diff(axis=1)"
   ]
  },
  {
   "cell_type": "code",
   "execution_count": 7,
   "id": "fifth-motion",
   "metadata": {
    "execution": {
     "iopub.execute_input": "2021-08-14T02:30:08.696134Z",
     "iopub.status.busy": "2021-08-14T02:30:08.693633Z",
     "iopub.status.idle": "2021-08-14T02:30:10.213770Z",
     "shell.execute_reply": "2021-08-14T02:30:10.212133Z"
    },
    "papermill": {
     "duration": 1.551895,
     "end_time": "2021-08-14T02:30:10.214265",
     "exception": false,
     "start_time": "2021-08-14T02:30:08.662370",
     "status": "completed"
    },
    "tags": []
   },
   "outputs": [
    {
     "data": {
      "text/plain": [
       "<AxesSubplot:ylabel='PRODUCT'>"
      ]
     },
     "execution_count": 7,
     "metadata": {},
     "output_type": "execute_result"
    },
    {
     "data": {
      "image/png": "[encoded data removed]",
      "text/plain": [
       "<Figure size 432x288 with 1 Axes>"
      ]
     },
     "metadata": {
      "needs_background": "light"
     },
     "output_type": "display_data"
    }
   ],
   "source": [
    "df_pivot_diff.sort_values(\"stamp_2\", ascending = False)[\"stamp_2\"].head(10).plot.barh()"
   ]
  },
  {
   "cell_type": "code",
   "execution_count": null,
   "id": "extra-executive",
   "metadata": {
    "papermill": {
     "duration": 0.022368,
     "end_time": "2021-08-14T02:30:10.261746",
     "exception": false,
     "start_time": "2021-08-14T02:30:10.239378",
     "status": "completed"
    },
    "tags": []
   },
   "outputs": [],
   "source": []
  }
 ],
 "metadata": {
  "kernelspec": {
   "display_name": "Python 3",
   "language": "python",
   "name": "python3"
  },
  "language_info": {
   "codemirror_mode": {
    "name": "ipython",
    "version": 3
   },
   "file_extension": ".py",
   "mimetype": "text/x-python",
   "name": "python",
   "nbconvert_exporter": "python",
   "pygments_lexer": "ipython3",
   "version": "3.9.5"
  },
  "papermill": {
   "default_parameters": {},
   "duration": 6.824075,
   "end_time": "2021-08-14T02:30:11.716694",
   "environment_variables": {},
   "exception": null,
   "input_path": "eBay_Overview.ipynb",
   "output_path": "eBay_Overview.ipynb",
   "parameters": {},
   "start_time": "2021-08-14T02:30:04.892619",
   "version": "2.3.3"
  }
 },
 "nbformat": 4,
 "nbformat_minor": 5
}