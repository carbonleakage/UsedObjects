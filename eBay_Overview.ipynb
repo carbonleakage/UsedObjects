{
 "cells": [
  {
   "cell_type": "code",
   "execution_count": 1,
   "id": "reverse-picking",
   "metadata": {
    "execution": {
     "iopub.execute_input": "2021-10-24T10:00:06.821232Z",
     "iopub.status.busy": "2021-10-24T10:00:06.819234Z",
     "iopub.status.idle": "2021-10-24T10:00:07.624463Z",
     "shell.execute_reply": "2021-10-24T10:00:07.622933Z"
    },
    "papermill": {
     "duration": 0.854215,
     "end_time": "2021-10-24T10:00:07.624910",
     "exception": false,
     "start_time": "2021-10-24T10:00:06.770695",
     "status": "completed"
    },
    "tags": []
   },
   "outputs": [],
   "source": [
    "import pandas as pd\n",
    "import sqlite3"
   ]
  },
  {
   "cell_type": "code",
   "execution_count": 2,
   "id": "innovative-syndrome",
   "metadata": {
    "execution": {
     "iopub.execute_input": "2021-10-24T10:00:07.675947Z",
     "iopub.status.busy": "2021-10-24T10:00:07.674084Z",
     "iopub.status.idle": "2021-10-24T10:00:08.302294Z",
     "shell.execute_reply": "2021-10-24T10:00:08.303571Z"
    },
    "papermill": {
     "duration": 0.657967,
     "end_time": "2021-10-24T10:00:08.303987",
     "exception": false,
     "start_time": "2021-10-24T10:00:07.646020",
     "status": "completed"
    },
    "tags": []
   },
   "outputs": [],
   "source": [
    "timestamps = pd.read_sql(\"select distinct record_time from EBAY_TOP_BERLIN order by record_time desc limit 2\", sqlite3.connect(\"UsedObjects.db\"))"
   ]
  },
  {
   "cell_type": "code",
   "execution_count": 3,
   "id": "periodic-identification",
   "metadata": {
    "execution": {
     "iopub.execute_input": "2021-10-24T10:00:08.378096Z",
     "iopub.status.busy": "2021-10-24T10:00:08.376004Z",
     "iopub.status.idle": "2021-10-24T10:00:08.397581Z",
     "shell.execute_reply": "2021-10-24T10:00:08.398965Z"
    },
    "papermill": {
     "duration": 0.070353,
     "end_time": "2021-10-24T10:00:08.399402",
     "exception": false,
     "start_time": "2021-10-24T10:00:08.329049",
     "status": "completed"
    },
    "tags": []
   },
   "outputs": [
    {
     "data": {
      "text/html": [
       "<div>\n",
       "<style scoped>\n",
       "    .dataframe tbody tr th:only-of-type {\n",
       "        vertical-align: middle;\n",
       "    }\n",
       "\n",
       "    .dataframe tbody tr th {\n",
       "        vertical-align: top;\n",
       "    }\n",
       "\n",
       "    .dataframe thead th {\n",
       "        text-align: right;\n",
       "    }\n",
       "</style>\n",
       "<table border=\"1\" class=\"dataframe\">\n",
       "  <thead>\n",
       "    <tr style=\"text-align: right;\">\n",
       "      <th></th>\n",
       "      <th>RECORD_TIME</th>\n",
       "    </tr>\n",
       "  </thead>\n",
       "  <tbody>\n",
       "    <tr>\n",
       "      <th>0</th>\n",
       "      <td>2021-10-24 12:00</td>\n",
       "    </tr>\n",
       "    <tr>\n",
       "      <th>1</th>\n",
       "      <td>2021-10-24 11:30</td>\n",
       "    </tr>\n",
       "  </tbody>\n",
       "</table>\n",
       "</div>"
      ],
      "text/plain": [
       "        RECORD_TIME\n",
       "0  2021-10-24 12:00\n",
       "1  2021-10-24 11:30"
      ]
     },
     "execution_count": 3,
     "metadata": {},
     "output_type": "execute_result"
    }
   ],
   "source": [
    "timestamps"
   ]
  },
  {
   "cell_type": "code",
   "execution_count": 4,
   "id": "alternate-victory",
   "metadata": {
    "execution": {
     "iopub.execute_input": "2021-10-24T10:00:08.450997Z",
     "iopub.status.busy": "2021-10-24T10:00:08.449180Z",
     "iopub.status.idle": "2021-10-24T10:00:09.356323Z",
     "shell.execute_reply": "2021-10-24T10:00:09.357673Z"
    },
    "papermill": {
     "duration": 0.937441,
     "end_time": "2021-10-24T10:00:09.358096",
     "exception": false,
     "start_time": "2021-10-24T10:00:08.420655",
     "status": "completed"
    },
    "tags": []
   },
   "outputs": [],
   "source": [
    "df = pd.read_sql(\"select * from EBAY_TOP_BERLIN where record_time in (select distinct record_time from EBAY_TOP_BERLIN order by record_time desc limit 2)\", sqlite3.connect(\"UsedObjects.db\"))"
   ]
  },
  {
   "cell_type": "code",
   "execution_count": 5,
   "id": "popular-active",
   "metadata": {
    "execution": {
     "iopub.execute_input": "2021-10-24T10:00:09.422975Z",
     "iopub.status.busy": "2021-10-24T10:00:09.416112Z",
     "iopub.status.idle": "2021-10-24T10:00:09.442997Z",
     "shell.execute_reply": "2021-10-24T10:00:09.444207Z"
    },
    "papermill": {
     "duration": 0.065243,
     "end_time": "2021-10-24T10:00:09.444599",
     "exception": false,
     "start_time": "2021-10-24T10:00:09.379356",
     "status": "completed"
    },
    "tags": []
   },
   "outputs": [],
   "source": [
    "df_pivot = df.pivot_table(index=\"PRODUCT\", columns = \"RECORD_TIME\", values = \"LISTING_COUNT\")"
   ]
  },
  {
   "cell_type": "code",
   "execution_count": 6,
   "id": "union-huntington",
   "metadata": {
    "execution": {
     "iopub.execute_input": "2021-10-24T10:00:09.504632Z",
     "iopub.status.busy": "2021-10-24T10:00:09.502216Z",
     "iopub.status.idle": "2021-10-24T10:00:09.508106Z",
     "shell.execute_reply": "2021-10-24T10:00:09.509536Z"
    },
    "papermill": {
     "duration": 0.042736,
     "end_time": "2021-10-24T10:00:09.509982",
     "exception": false,
     "start_time": "2021-10-24T10:00:09.467246",
     "status": "completed"
    },
    "tags": []
   },
   "outputs": [],
   "source": [
    "df_pivot.columns = [\"stamp_1\", \"stamp_2\"]\n",
    "df_pivot_diff = df_pivot.diff(axis=1)"
   ]
  },
  {
   "cell_type": "code",
   "execution_count": 7,
   "id": "fifth-motion",
   "metadata": {
    "execution": {
     "iopub.execute_input": "2021-10-24T10:00:09.565014Z",
     "iopub.status.busy": "2021-10-24T10:00:09.562795Z",
     "iopub.status.idle": "2021-10-24T10:00:11.075768Z",
     "shell.execute_reply": "2021-10-24T10:00:11.077353Z"
    },
    "papermill": {
     "duration": 1.546206,
     "end_time": "2021-10-24T10:00:11.077813",
     "exception": false,
     "start_time": "2021-10-24T10:00:09.531607",
     "status": "completed"
    },
    "tags": []
   },
   "outputs": [
    {
     "data": {
      "text/plain": [
       "<AxesSubplot:ylabel='PRODUCT'>"
      ]
     },
     "execution_count": 7,
     "metadata": {},
     "output_type": "execute_result"
    },
    {
     "data": {
      "image/png": "[encoded data removed]",
      "text/plain": [
       "<Figure size 432x288 with 1 Axes>"
      ]
     },
     "metadata": {
      "needs_background": "light"
     },
     "output_type": "display_data"
    }
   ],
   "source": [
    "df_pivot_diff.sort_values(\"stamp_2\", ascending = False)[\"stamp_2\"].head(10).plot.barh()"
   ]
  },
  {
   "cell_type": "code",
   "execution_count": null,
   "id": "extra-executive",
   "metadata": {
    "papermill": {
     "duration": 0.022485,
     "end_time": "2021-10-24T10:00:11.124944",
     "exception": false,
     "start_time": "2021-10-24T10:00:11.102459",
     "status": "completed"
    },
    "tags": []
   },
   "outputs": [],
   "source": []
  }
 ],
 "metadata": {
  "kernelspec": {
   "display_name": "Python 3",
   "language": "python",
   "name": "python3"
  },
  "language_info": {
   "codemirror_mode": {
    "name": "ipython",
    "version": 3
   },
   "file_extension": ".py",
   "mimetype": "text/x-python",
   "name": "python",
   "nbconvert_exporter": "python",
   "pygments_lexer": "ipython3",
   "version": "3.9.5"
  },
  "papermill": {
   "default_parameters": {},
   "duration": 7.402261,
   "end_time": "2021-10-24T10:00:11.767360",
   "environment_variables": {},
   "exception": null,
   "input_path": "eBay_Overview.ipynb",
   "output_path": "eBay_Overview.ipynb",
   "parameters": {},
   "start_time": "2021-10-24T10:00:04.365099",
   "version": "2.3.3"
  }
 },
 "nbformat": 4,
 "nbformat_minor": 5
}