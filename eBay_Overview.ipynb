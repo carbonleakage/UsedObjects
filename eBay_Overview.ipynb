{
 "cells": [
  {
   "cell_type": "code",
   "execution_count": 1,
   "id": "reverse-picking",
   "metadata": {
    "execution": {
     "iopub.execute_input": "2021-12-21T23:00:07.698703Z",
     "iopub.status.busy": "2021-12-21T23:00:07.695725Z",
     "iopub.status.idle": "2021-12-21T23:00:08.656597Z",
     "shell.execute_reply": "2021-12-21T23:00:08.658222Z"
    },
    "papermill": {
     "duration": 1.013064,
     "end_time": "2021-12-21T23:00:08.658977",
     "exception": false,
     "start_time": "2021-12-21T23:00:07.645913",
     "status": "completed"
    },
    "tags": []
   },
   "outputs": [],
   "source": [
    "import pandas as pd\n",
    "import sqlite3"
   ]
  },
  {
   "cell_type": "code",
   "execution_count": 2,
   "id": "innovative-syndrome",
   "metadata": {
    "execution": {
     "iopub.execute_input": "2021-12-21T23:00:08.724795Z",
     "iopub.status.busy": "2021-12-21T23:00:08.722484Z",
     "iopub.status.idle": "2021-12-21T23:00:09.907993Z",
     "shell.execute_reply": "2021-12-21T23:00:09.909487Z"
    },
    "papermill": {
     "duration": 1.221285,
     "end_time": "2021-12-21T23:00:09.909950",
     "exception": false,
     "start_time": "2021-12-21T23:00:08.688665",
     "status": "completed"
    },
    "tags": []
   },
   "outputs": [],
   "source": [
    "timestamps = pd.read_sql(\"select distinct record_time from EBAY_TOP_BERLIN order by record_time desc limit 2\", sqlite3.connect(\"UsedObjects.db\"))"
   ]
  },
  {
   "cell_type": "code",
   "execution_count": 3,
   "id": "periodic-identification",
   "metadata": {
    "execution": {
     "iopub.execute_input": "2021-12-21T23:00:09.978937Z",
     "iopub.status.busy": "2021-12-21T23:00:09.976570Z",
     "iopub.status.idle": "2021-12-21T23:00:09.998859Z",
     "shell.execute_reply": "2021-12-21T23:00:10.000443Z"
    },
    "papermill": {
     "duration": 0.07116,
     "end_time": "2021-12-21T23:00:10.001041",
     "exception": false,
     "start_time": "2021-12-21T23:00:09.929881",
     "status": "completed"
    },
    "tags": []
   },
   "outputs": [
    {
     "data": {
      "text/html": [
       "<div>\n",
       "<style scoped>\n",
       "    .dataframe tbody tr th:only-of-type {\n",
       "        vertical-align: middle;\n",
       "    }\n",
       "\n",
       "    .dataframe tbody tr th {\n",
       "        vertical-align: top;\n",
       "    }\n",
       "\n",
       "    .dataframe thead th {\n",
       "        text-align: right;\n",
       "    }\n",
       "</style>\n",
       "<table border=\"1\" class=\"dataframe\">\n",
       "  <thead>\n",
       "    <tr style=\"text-align: right;\">\n",
       "      <th></th>\n",
       "      <th>RECORD_TIME</th>\n",
       "    </tr>\n",
       "  </thead>\n",
       "  <tbody>\n",
       "    <tr>\n",
       "      <th>0</th>\n",
       "      <td>2021-12-22 00:00</td>\n",
       "    </tr>\n",
       "    <tr>\n",
       "      <th>1</th>\n",
       "      <td>2021-12-21 23:30</td>\n",
       "    </tr>\n",
       "  </tbody>\n",
       "</table>\n",
       "</div>"
      ],
      "text/plain": [
       "        RECORD_TIME\n",
       "0  2021-12-22 00:00\n",
       "1  2021-12-21 23:30"
      ]
     },
     "execution_count": 3,
     "metadata": {},
     "output_type": "execute_result"
    }
   ],
   "source": [
    "timestamps"
   ]
  },
  {
   "cell_type": "code",
   "execution_count": 4,
   "id": "alternate-victory",
   "metadata": {
    "execution": {
     "iopub.execute_input": "2021-12-21T23:00:10.058668Z",
     "iopub.status.busy": "2021-12-21T23:00:10.056582Z",
     "iopub.status.idle": "2021-12-21T23:00:11.764965Z",
     "shell.execute_reply": "2021-12-21T23:00:11.766447Z"
    },
    "papermill": {
     "duration": 1.743695,
     "end_time": "2021-12-21T23:00:11.766944",
     "exception": false,
     "start_time": "2021-12-21T23:00:10.023249",
     "status": "completed"
    },
    "tags": []
   },
   "outputs": [],
   "source": [
    "df = pd.read_sql(\"select * from EBAY_TOP_BERLIN where record_time in (select distinct record_time from EBAY_TOP_BERLIN order by record_time desc limit 2)\", sqlite3.connect(\"UsedObjects.db\"))"
   ]
  },
  {
   "cell_type": "code",
   "execution_count": 5,
   "id": "popular-active",
   "metadata": {
    "execution": {
     "iopub.execute_input": "2021-12-21T23:00:11.827027Z",
     "iopub.status.busy": "2021-12-21T23:00:11.824374Z",
     "iopub.status.idle": "2021-12-21T23:00:11.870146Z",
     "shell.execute_reply": "2021-12-21T23:00:11.871525Z"
    },
    "papermill": {
     "duration": 0.084239,
     "end_time": "2021-12-21T23:00:11.872000",
     "exception": false,
     "start_time": "2021-12-21T23:00:11.787761",
     "status": "completed"
    },
    "tags": []
   },
   "outputs": [],
   "source": [
    "df_pivot = df.pivot_table(index=\"PRODUCT\", columns = \"RECORD_TIME\", values = \"LISTING_COUNT\")"
   ]
  },
  {
   "cell_type": "code",
   "execution_count": 6,
   "id": "union-huntington",
   "metadata": {
    "execution": {
     "iopub.execute_input": "2021-12-21T23:00:11.931012Z",
     "iopub.status.busy": "2021-12-21T23:00:11.928773Z",
     "iopub.status.idle": "2021-12-21T23:00:11.936182Z",
     "shell.execute_reply": "2021-12-21T23:00:11.934721Z"
    },
    "papermill": {
     "duration": 0.04407,
     "end_time": "2021-12-21T23:00:11.936594",
     "exception": false,
     "start_time": "2021-12-21T23:00:11.892524",
     "status": "completed"
    },
    "tags": []
   },
   "outputs": [],
   "source": [
    "df_pivot.columns = [\"stamp_1\", \"stamp_2\"]\n",
    "df_pivot_diff = df_pivot.diff(axis=1)"
   ]
  },
  {
   "cell_type": "code",
   "execution_count": 7,
   "id": "fifth-motion",
   "metadata": {
    "execution": {
     "iopub.execute_input": "2021-12-21T23:00:11.998242Z",
     "iopub.status.busy": "2021-12-21T23:00:11.995660Z",
     "iopub.status.idle": "2021-12-21T23:00:13.984863Z",
     "shell.execute_reply": "2021-12-21T23:00:13.986365Z"
    },
    "papermill": {
     "duration": 2.029054,
     "end_time": "2021-12-21T23:00:13.986837",
     "exception": false,
     "start_time": "2021-12-21T23:00:11.957783",
     "status": "completed"
    },
    "tags": []
   },
   "outputs": [
    {
     "data": {
      "text/plain": [
       "<AxesSubplot:ylabel='PRODUCT'>"
      ]
     },
     "execution_count": 7,
     "metadata": {},
     "output_type": "execute_result"
    },
    {
     "data": {
      "image/png": "[encoded data removed]",
      "text/plain": [
       "<Figure size 432x288 with 1 Axes>"
      ]
     },
     "metadata": {
      "needs_background": "light"
     },
     "output_type": "display_data"
    }
   ],
   "source": [
    "df_pivot_diff.sort_values(\"stamp_2\", ascending = False)[\"stamp_2\"].head(10).plot.barh()"
   ]
  },
  {
   "cell_type": "code",
   "execution_count": null,
   "id": "extra-executive",
   "metadata": {
    "papermill": {
     "duration": 0.022372,
     "end_time": "2021-12-21T23:00:14.035323",
     "exception": false,
     "start_time": "2021-12-21T23:00:14.012951",
     "status": "completed"
    },
    "tags": []
   },
   "outputs": [],
   "source": []
  }
 ],
 "metadata": {
  "kernelspec": {
   "display_name": "Python 3",
   "language": "python",
   "name": "python3"
  },
  "language_info": {
   "codemirror_mode": {
    "name": "ipython",
    "version": 3
   },
   "file_extension": ".py",
   "mimetype": "text/x-python",
   "name": "python",
   "nbconvert_exporter": "python",
   "pygments_lexer": "ipython3",
   "version": "3.9.5"
  },
  "papermill": {
   "default_parameters": {},
   "duration": 9.78097,
   "end_time": "2021-12-21T23:00:14.679620",
   "environment_variables": {},
   "exception": null,
   "input_path": "eBay_Overview.ipynb",
   "output_path": "eBay_Overview.ipynb",
   "parameters": {},
   "start_time": "2021-12-21T23:00:04.898650",
   "version": "2.3.3"
  }
 },
 "nbformat": 4,
 "nbformat_minor": 5
}