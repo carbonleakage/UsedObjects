{
 "cells": [
  {
   "cell_type": "code",
   "execution_count": 1,
   "id": "reverse-picking",
   "metadata": {
    "execution": {
     "iopub.execute_input": "2021-10-18T22:00:07.244885Z",
     "iopub.status.busy": "2021-10-18T22:00:07.242849Z",
     "iopub.status.idle": "2021-10-18T22:00:08.048473Z",
     "shell.execute_reply": "2021-10-18T22:00:08.049846Z"
    },
    "papermill": {
     "duration": 0.856013,
     "end_time": "2021-10-18T22:00:08.050478",
     "exception": false,
     "start_time": "2021-10-18T22:00:07.194465",
     "status": "completed"
    },
    "tags": []
   },
   "outputs": [],
   "source": [
    "import pandas as pd\n",
    "import sqlite3"
   ]
  },
  {
   "cell_type": "code",
   "execution_count": 2,
   "id": "innovative-syndrome",
   "metadata": {
    "execution": {
     "iopub.execute_input": "2021-10-18T22:00:08.102995Z",
     "iopub.status.busy": "2021-10-18T22:00:08.100771Z",
     "iopub.status.idle": "2021-10-18T22:00:08.674355Z",
     "shell.execute_reply": "2021-10-18T22:00:08.675565Z"
    },
    "papermill": {
     "duration": 0.603148,
     "end_time": "2021-10-18T22:00:08.675955",
     "exception": false,
     "start_time": "2021-10-18T22:00:08.072807",
     "status": "completed"
    },
    "tags": []
   },
   "outputs": [],
   "source": [
    "timestamps = pd.read_sql(\"select distinct record_time from EBAY_TOP_BERLIN order by record_time desc limit 2\", sqlite3.connect(\"UsedObjects.db\"))"
   ]
  },
  {
   "cell_type": "code",
   "execution_count": 3,
   "id": "periodic-identification",
   "metadata": {
    "execution": {
     "iopub.execute_input": "2021-10-18T22:00:08.751041Z",
     "iopub.status.busy": "2021-10-18T22:00:08.748996Z",
     "iopub.status.idle": "2021-10-18T22:00:08.770263Z",
     "shell.execute_reply": "2021-10-18T22:00:08.768904Z"
    },
    "papermill": {
     "duration": 0.066271,
     "end_time": "2021-10-18T22:00:08.770596",
     "exception": false,
     "start_time": "2021-10-18T22:00:08.704325",
     "status": "completed"
    },
    "tags": []
   },
   "outputs": [
    {
     "data": {
      "text/html": [
       "<div>\n",
       "<style scoped>\n",
       "    .dataframe tbody tr th:only-of-type {\n",
       "        vertical-align: middle;\n",
       "    }\n",
       "\n",
       "    .dataframe tbody tr th {\n",
       "        vertical-align: top;\n",
       "    }\n",
       "\n",
       "    .dataframe thead th {\n",
       "        text-align: right;\n",
       "    }\n",
       "</style>\n",
       "<table border=\"1\" class=\"dataframe\">\n",
       "  <thead>\n",
       "    <tr style=\"text-align: right;\">\n",
       "      <th></th>\n",
       "      <th>RECORD_TIME</th>\n",
       "    </tr>\n",
       "  </thead>\n",
       "  <tbody>\n",
       "    <tr>\n",
       "      <th>0</th>\n",
       "      <td>2021-10-19 00:00</td>\n",
       "    </tr>\n",
       "    <tr>\n",
       "      <th>1</th>\n",
       "      <td>2021-10-18 23:30</td>\n",
       "    </tr>\n",
       "  </tbody>\n",
       "</table>\n",
       "</div>"
      ],
      "text/plain": [
       "        RECORD_TIME\n",
       "0  2021-10-19 00:00\n",
       "1  2021-10-18 23:30"
      ]
     },
     "execution_count": 3,
     "metadata": {},
     "output_type": "execute_result"
    }
   ],
   "source": [
    "timestamps"
   ]
  },
  {
   "cell_type": "code",
   "execution_count": 4,
   "id": "alternate-victory",
   "metadata": {
    "execution": {
     "iopub.execute_input": "2021-10-18T22:00:08.822920Z",
     "iopub.status.busy": "2021-10-18T22:00:08.820660Z",
     "iopub.status.idle": "2021-10-18T22:00:09.653862Z",
     "shell.execute_reply": "2021-10-18T22:00:09.655130Z"
    },
    "papermill": {
     "duration": 0.863012,
     "end_time": "2021-10-18T22:00:09.655523",
     "exception": false,
     "start_time": "2021-10-18T22:00:08.792511",
     "status": "completed"
    },
    "tags": []
   },
   "outputs": [],
   "source": [
    "df = pd.read_sql(\"select * from EBAY_TOP_BERLIN where record_time in (select distinct record_time from EBAY_TOP_BERLIN order by record_time desc limit 2)\", sqlite3.connect(\"UsedObjects.db\"))"
   ]
  },
  {
   "cell_type": "code",
   "execution_count": 5,
   "id": "popular-active",
   "metadata": {
    "execution": {
     "iopub.execute_input": "2021-10-18T22:00:09.725432Z",
     "iopub.status.busy": "2021-10-18T22:00:09.712609Z",
     "iopub.status.idle": "2021-10-18T22:00:09.742915Z",
     "shell.execute_reply": "2021-10-18T22:00:09.744216Z"
    },
    "papermill": {
     "duration": 0.068562,
     "end_time": "2021-10-18T22:00:09.744664",
     "exception": false,
     "start_time": "2021-10-18T22:00:09.676102",
     "status": "completed"
    },
    "tags": []
   },
   "outputs": [],
   "source": [
    "df_pivot = df.pivot_table(index=\"PRODUCT\", columns = \"RECORD_TIME\", values = \"LISTING_COUNT\")"
   ]
  },
  {
   "cell_type": "code",
   "execution_count": 6,
   "id": "union-huntington",
   "metadata": {
    "execution": {
     "iopub.execute_input": "2021-10-18T22:00:09.800727Z",
     "iopub.status.busy": "2021-10-18T22:00:09.798390Z",
     "iopub.status.idle": "2021-10-18T22:00:09.805732Z",
     "shell.execute_reply": "2021-10-18T22:00:09.804271Z"
    },
    "papermill": {
     "duration": 0.042117,
     "end_time": "2021-10-18T22:00:09.806114",
     "exception": false,
     "start_time": "2021-10-18T22:00:09.763997",
     "status": "completed"
    },
    "tags": []
   },
   "outputs": [],
   "source": [
    "df_pivot.columns = [\"stamp_1\", \"stamp_2\"]\n",
    "df_pivot_diff = df_pivot.diff(axis=1)"
   ]
  },
  {
   "cell_type": "code",
   "execution_count": 7,
   "id": "fifth-motion",
   "metadata": {
    "execution": {
     "iopub.execute_input": "2021-10-18T22:00:09.860570Z",
     "iopub.status.busy": "2021-10-18T22:00:09.858287Z",
     "iopub.status.idle": "2021-10-18T22:00:11.319958Z",
     "shell.execute_reply": "2021-10-18T22:00:11.321534Z"
    },
    "papermill": {
     "duration": 1.49455,
     "end_time": "2021-10-18T22:00:11.322006",
     "exception": false,
     "start_time": "2021-10-18T22:00:09.827456",
     "status": "completed"
    },
    "tags": []
   },
   "outputs": [
    {
     "data": {
      "text/plain": [
       "<AxesSubplot:ylabel='PRODUCT'>"
      ]
     },
     "execution_count": 7,
     "metadata": {},
     "output_type": "execute_result"
    },
    {
     "data": {
      "image/png": "[encoded data removed]",
      "text/plain": [
       "<Figure size 432x288 with 1 Axes>"
      ]
     },
     "metadata": {
      "needs_background": "light"
     },
     "output_type": "display_data"
    }
   ],
   "source": [
    "df_pivot_diff.sort_values(\"stamp_2\", ascending = False)[\"stamp_2\"].head(10).plot.barh()"
   ]
  },
  {
   "cell_type": "code",
   "execution_count": null,
   "id": "extra-executive",
   "metadata": {
    "papermill": {
     "duration": 0.022229,
     "end_time": "2021-10-18T22:00:11.368983",
     "exception": false,
     "start_time": "2021-10-18T22:00:11.346754",
     "status": "completed"
    },
    "tags": []
   },
   "outputs": [],
   "source": []
  }
 ],
 "metadata": {
  "kernelspec": {
   "display_name": "Python 3",
   "language": "python",
   "name": "python3"
  },
  "language_info": {
   "codemirror_mode": {
    "name": "ipython",
    "version": 3
   },
   "file_extension": ".py",
   "mimetype": "text/x-python",
   "name": "python",
   "nbconvert_exporter": "python",
   "pygments_lexer": "ipython3",
   "version": "3.9.5"
  },
  "papermill": {
   "default_parameters": {},
   "duration": 7.817959,
   "end_time": "2021-10-18T22:00:12.610886",
   "environment_variables": {},
   "exception": null,
   "input_path": "eBay_Overview.ipynb",
   "output_path": "eBay_Overview.ipynb",
   "parameters": {},
   "start_time": "2021-10-18T22:00:04.792927",
   "version": "2.3.3"
  }
 },
 "nbformat": 4,
 "nbformat_minor": 5
}