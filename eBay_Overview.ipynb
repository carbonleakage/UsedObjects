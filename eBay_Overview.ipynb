{
 "cells": [
  {
   "cell_type": "code",
   "execution_count": 1,
   "id": "reverse-picking",
   "metadata": {
    "execution": {
     "iopub.execute_input": "2021-11-21T02:30:07.798984Z",
     "iopub.status.busy": "2021-11-21T02:30:07.796734Z",
     "iopub.status.idle": "2021-11-21T02:30:08.763379Z",
     "shell.execute_reply": "2021-11-21T02:30:08.765137Z"
    },
    "papermill": {
     "duration": 1.014953,
     "end_time": "2021-11-21T02:30:08.765912",
     "exception": false,
     "start_time": "2021-11-21T02:30:07.750959",
     "status": "completed"
    },
    "tags": []
   },
   "outputs": [],
   "source": [
    "import pandas as pd\n",
    "import sqlite3"
   ]
  },
  {
   "cell_type": "code",
   "execution_count": 2,
   "id": "innovative-syndrome",
   "metadata": {
    "execution": {
     "iopub.execute_input": "2021-11-21T02:30:08.822080Z",
     "iopub.status.busy": "2021-11-21T02:30:08.819605Z",
     "iopub.status.idle": "2021-11-21T02:30:09.679150Z",
     "shell.execute_reply": "2021-11-21T02:30:09.680477Z"
    },
    "papermill": {
     "duration": 0.893738,
     "end_time": "2021-11-21T02:30:09.681035",
     "exception": false,
     "start_time": "2021-11-21T02:30:08.787297",
     "status": "completed"
    },
    "tags": []
   },
   "outputs": [],
   "source": [
    "timestamps = pd.read_sql(\"select distinct record_time from EBAY_TOP_BERLIN order by record_time desc limit 2\", sqlite3.connect(\"UsedObjects.db\"))"
   ]
  },
  {
   "cell_type": "code",
   "execution_count": 3,
   "id": "periodic-identification",
   "metadata": {
    "execution": {
     "iopub.execute_input": "2021-11-21T02:30:09.754196Z",
     "iopub.status.busy": "2021-11-21T02:30:09.748110Z",
     "iopub.status.idle": "2021-11-21T02:30:09.769693Z",
     "shell.execute_reply": "2021-11-21T02:30:09.771060Z"
    },
    "papermill": {
     "duration": 0.070562,
     "end_time": "2021-11-21T02:30:09.771539",
     "exception": false,
     "start_time": "2021-11-21T02:30:09.700977",
     "status": "completed"
    },
    "tags": []
   },
   "outputs": [
    {
     "data": {
      "text/html": [
       "<div>\n",
       "<style scoped>\n",
       "    .dataframe tbody tr th:only-of-type {\n",
       "        vertical-align: middle;\n",
       "    }\n",
       "\n",
       "    .dataframe tbody tr th {\n",
       "        vertical-align: top;\n",
       "    }\n",
       "\n",
       "    .dataframe thead th {\n",
       "        text-align: right;\n",
       "    }\n",
       "</style>\n",
       "<table border=\"1\" class=\"dataframe\">\n",
       "  <thead>\n",
       "    <tr style=\"text-align: right;\">\n",
       "      <th></th>\n",
       "      <th>RECORD_TIME</th>\n",
       "    </tr>\n",
       "  </thead>\n",
       "  <tbody>\n",
       "    <tr>\n",
       "      <th>0</th>\n",
       "      <td>2021-11-21 03:30</td>\n",
       "    </tr>\n",
       "    <tr>\n",
       "      <th>1</th>\n",
       "      <td>2021-11-21 03:00</td>\n",
       "    </tr>\n",
       "  </tbody>\n",
       "</table>\n",
       "</div>"
      ],
      "text/plain": [
       "        RECORD_TIME\n",
       "0  2021-11-21 03:30\n",
       "1  2021-11-21 03:00"
      ]
     },
     "execution_count": 3,
     "metadata": {},
     "output_type": "execute_result"
    }
   ],
   "source": [
    "timestamps"
   ]
  },
  {
   "cell_type": "code",
   "execution_count": 4,
   "id": "alternate-victory",
   "metadata": {
    "execution": {
     "iopub.execute_input": "2021-11-21T02:30:09.825281Z",
     "iopub.status.busy": "2021-11-21T02:30:09.823108Z",
     "iopub.status.idle": "2021-11-21T02:30:11.066501Z",
     "shell.execute_reply": "2021-11-21T02:30:11.068919Z"
    },
    "papermill": {
     "duration": 1.277037,
     "end_time": "2021-11-21T02:30:11.069421",
     "exception": false,
     "start_time": "2021-11-21T02:30:09.792384",
     "status": "completed"
    },
    "tags": []
   },
   "outputs": [],
   "source": [
    "df = pd.read_sql(\"select * from EBAY_TOP_BERLIN where record_time in (select distinct record_time from EBAY_TOP_BERLIN order by record_time desc limit 2)\", sqlite3.connect(\"UsedObjects.db\"))"
   ]
  },
  {
   "cell_type": "code",
   "execution_count": 5,
   "id": "popular-active",
   "metadata": {
    "execution": {
     "iopub.execute_input": "2021-11-21T02:30:11.151371Z",
     "iopub.status.busy": "2021-11-21T02:30:11.142786Z",
     "iopub.status.idle": "2021-11-21T02:30:11.169697Z",
     "shell.execute_reply": "2021-11-21T02:30:11.170984Z"
    },
    "papermill": {
     "duration": 0.079839,
     "end_time": "2021-11-21T02:30:11.171464",
     "exception": false,
     "start_time": "2021-11-21T02:30:11.091625",
     "status": "completed"
    },
    "tags": []
   },
   "outputs": [],
   "source": [
    "df_pivot = df.pivot_table(index=\"PRODUCT\", columns = \"RECORD_TIME\", values = \"LISTING_COUNT\")"
   ]
  },
  {
   "cell_type": "code",
   "execution_count": 6,
   "id": "union-huntington",
   "metadata": {
    "execution": {
     "iopub.execute_input": "2021-11-21T02:30:11.235331Z",
     "iopub.status.busy": "2021-11-21T02:30:11.232817Z",
     "iopub.status.idle": "2021-11-21T02:30:11.238899Z",
     "shell.execute_reply": "2021-11-21T02:30:11.240504Z"
    },
    "papermill": {
     "duration": 0.04784,
     "end_time": "2021-11-21T02:30:11.241104",
     "exception": false,
     "start_time": "2021-11-21T02:30:11.193264",
     "status": "completed"
    },
    "tags": []
   },
   "outputs": [],
   "source": [
    "df_pivot.columns = [\"stamp_1\", \"stamp_2\"]\n",
    "df_pivot_diff = df_pivot.diff(axis=1)"
   ]
  },
  {
   "cell_type": "code",
   "execution_count": 7,
   "id": "fifth-motion",
   "metadata": {
    "execution": {
     "iopub.execute_input": "2021-11-21T02:30:11.297774Z",
     "iopub.status.busy": "2021-11-21T02:30:11.295194Z",
     "iopub.status.idle": "2021-11-21T02:30:13.035261Z",
     "shell.execute_reply": "2021-11-21T02:30:13.038335Z"
    },
    "papermill": {
     "duration": 1.777341,
     "end_time": "2021-11-21T02:30:13.039159",
     "exception": false,
     "start_time": "2021-11-21T02:30:11.261818",
     "status": "completed"
    },
    "tags": []
   },
   "outputs": [
    {
     "data": {
      "text/plain": [
       "<AxesSubplot:ylabel='PRODUCT'>"
      ]
     },
     "execution_count": 7,
     "metadata": {},
     "output_type": "execute_result"
    },
    {
     "data": {
      "image/png": "[encoded data removed]",
      "text/plain": [
       "<Figure size 432x288 with 1 Axes>"
      ]
     },
     "metadata": {
      "needs_background": "light"
     },
     "output_type": "display_data"
    }
   ],
   "source": [
    "df_pivot_diff.sort_values(\"stamp_2\", ascending = False)[\"stamp_2\"].head(10).plot.barh()"
   ]
  },
  {
   "cell_type": "code",
   "execution_count": null,
   "id": "extra-executive",
   "metadata": {
    "papermill": {
     "duration": 0.034589,
     "end_time": "2021-11-21T02:30:13.112194",
     "exception": false,
     "start_time": "2021-11-21T02:30:13.077605",
     "status": "completed"
    },
    "tags": []
   },
   "outputs": [],
   "source": []
  }
 ],
 "metadata": {
  "kernelspec": {
   "display_name": "Python 3",
   "language": "python",
   "name": "python3"
  },
  "language_info": {
   "codemirror_mode": {
    "name": "ipython",
    "version": 3
   },
   "file_extension": ".py",
   "mimetype": "text/x-python",
   "name": "python",
   "nbconvert_exporter": "python",
   "pygments_lexer": "ipython3",
   "version": "3.9.5"
  },
  "papermill": {
   "default_parameters": {},
   "duration": 10.009228,
   "end_time": "2021-11-21T02:30:14.945665",
   "environment_variables": {},
   "exception": null,
   "input_path": "eBay_Overview.ipynb",
   "output_path": "eBay_Overview.ipynb",
   "parameters": {},
   "start_time": "2021-11-21T02:30:04.936437",
   "version": "2.3.3"
  }
 },
 "nbformat": 4,
 "nbformat_minor": 5
}