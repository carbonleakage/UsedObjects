{
 "cells": [
  {
   "cell_type": "code",
   "execution_count": 1,
   "id": "reverse-picking",
   "metadata": {
    "execution": {
     "iopub.execute_input": "2021-12-09T18:30:08.258159Z",
     "iopub.status.busy": "2021-12-09T18:30:08.255770Z",
     "iopub.status.idle": "2021-12-09T18:30:09.202411Z",
     "shell.execute_reply": "2021-12-09T18:30:09.203663Z"
    },
    "papermill": {
     "duration": 0.994856,
     "end_time": "2021-12-09T18:30:09.204288",
     "exception": false,
     "start_time": "2021-12-09T18:30:08.209432",
     "status": "completed"
    },
    "tags": []
   },
   "outputs": [],
   "source": [
    "import pandas as pd\n",
    "import sqlite3"
   ]
  },
  {
   "cell_type": "code",
   "execution_count": 2,
   "id": "innovative-syndrome",
   "metadata": {
    "execution": {
     "iopub.execute_input": "2021-12-09T18:30:09.322930Z",
     "iopub.status.busy": "2021-12-09T18:30:09.320536Z",
     "iopub.status.idle": "2021-12-09T18:30:10.364904Z",
     "shell.execute_reply": "2021-12-09T18:30:10.366436Z"
    },
    "papermill": {
     "duration": 1.081815,
     "end_time": "2021-12-09T18:30:10.366884",
     "exception": false,
     "start_time": "2021-12-09T18:30:09.285069",
     "status": "completed"
    },
    "tags": []
   },
   "outputs": [],
   "source": [
    "timestamps = pd.read_sql(\"select distinct record_time from EBAY_TOP_BERLIN order by record_time desc limit 2\", sqlite3.connect(\"UsedObjects.db\"))"
   ]
  },
  {
   "cell_type": "code",
   "execution_count": 3,
   "id": "periodic-identification",
   "metadata": {
    "execution": {
     "iopub.execute_input": "2021-12-09T18:30:10.436963Z",
     "iopub.status.busy": "2021-12-09T18:30:10.434455Z",
     "iopub.status.idle": "2021-12-09T18:30:10.459253Z",
     "shell.execute_reply": "2021-12-09T18:30:10.460914Z"
    },
    "papermill": {
     "duration": 0.075147,
     "end_time": "2021-12-09T18:30:10.461439",
     "exception": false,
     "start_time": "2021-12-09T18:30:10.386292",
     "status": "completed"
    },
    "tags": []
   },
   "outputs": [
    {
     "data": {
      "text/html": [
       "<div>\n",
       "<style scoped>\n",
       "    .dataframe tbody tr th:only-of-type {\n",
       "        vertical-align: middle;\n",
       "    }\n",
       "\n",
       "    .dataframe tbody tr th {\n",
       "        vertical-align: top;\n",
       "    }\n",
       "\n",
       "    .dataframe thead th {\n",
       "        text-align: right;\n",
       "    }\n",
       "</style>\n",
       "<table border=\"1\" class=\"dataframe\">\n",
       "  <thead>\n",
       "    <tr style=\"text-align: right;\">\n",
       "      <th></th>\n",
       "      <th>RECORD_TIME</th>\n",
       "    </tr>\n",
       "  </thead>\n",
       "  <tbody>\n",
       "    <tr>\n",
       "      <th>0</th>\n",
       "      <td>2021-12-09 19:30</td>\n",
       "    </tr>\n",
       "    <tr>\n",
       "      <th>1</th>\n",
       "      <td>2021-12-09 19:00</td>\n",
       "    </tr>\n",
       "  </tbody>\n",
       "</table>\n",
       "</div>"
      ],
      "text/plain": [
       "        RECORD_TIME\n",
       "0  2021-12-09 19:30\n",
       "1  2021-12-09 19:00"
      ]
     },
     "execution_count": 3,
     "metadata": {},
     "output_type": "execute_result"
    }
   ],
   "source": [
    "timestamps"
   ]
  },
  {
   "cell_type": "code",
   "execution_count": 4,
   "id": "alternate-victory",
   "metadata": {
    "execution": {
     "iopub.execute_input": "2021-12-09T18:30:10.517146Z",
     "iopub.status.busy": "2021-12-09T18:30:10.514696Z",
     "iopub.status.idle": "2021-12-09T18:30:12.042489Z",
     "shell.execute_reply": "2021-12-09T18:30:12.044792Z"
    },
    "papermill": {
     "duration": 1.563243,
     "end_time": "2021-12-09T18:30:12.045585",
     "exception": false,
     "start_time": "2021-12-09T18:30:10.482342",
     "status": "completed"
    },
    "tags": []
   },
   "outputs": [],
   "source": [
    "df = pd.read_sql(\"select * from EBAY_TOP_BERLIN where record_time in (select distinct record_time from EBAY_TOP_BERLIN order by record_time desc limit 2)\", sqlite3.connect(\"UsedObjects.db\"))"
   ]
  },
  {
   "cell_type": "code",
   "execution_count": 5,
   "id": "popular-active",
   "metadata": {
    "execution": {
     "iopub.execute_input": "2021-12-09T18:30:12.149176Z",
     "iopub.status.busy": "2021-12-09T18:30:12.145499Z",
     "iopub.status.idle": "2021-12-09T18:30:12.197057Z",
     "shell.execute_reply": "2021-12-09T18:30:12.199032Z"
    },
    "papermill": {
     "duration": 0.118543,
     "end_time": "2021-12-09T18:30:12.199696",
     "exception": false,
     "start_time": "2021-12-09T18:30:12.081153",
     "status": "completed"
    },
    "tags": []
   },
   "outputs": [],
   "source": [
    "df_pivot = df.pivot_table(index=\"PRODUCT\", columns = \"RECORD_TIME\", values = \"LISTING_COUNT\")"
   ]
  },
  {
   "cell_type": "code",
   "execution_count": 6,
   "id": "union-huntington",
   "metadata": {
    "execution": {
     "iopub.execute_input": "2021-12-09T18:30:12.268371Z",
     "iopub.status.busy": "2021-12-09T18:30:12.266404Z",
     "iopub.status.idle": "2021-12-09T18:30:12.271566Z",
     "shell.execute_reply": "2021-12-09T18:30:12.272764Z"
    },
    "papermill": {
     "duration": 0.049025,
     "end_time": "2021-12-09T18:30:12.273217",
     "exception": false,
     "start_time": "2021-12-09T18:30:12.224192",
     "status": "completed"
    },
    "tags": []
   },
   "outputs": [],
   "source": [
    "df_pivot.columns = [\"stamp_1\", \"stamp_2\"]\n",
    "df_pivot_diff = df_pivot.diff(axis=1)"
   ]
  },
  {
   "cell_type": "code",
   "execution_count": 7,
   "id": "fifth-motion",
   "metadata": {
    "execution": {
     "iopub.execute_input": "2021-12-09T18:30:12.332186Z",
     "iopub.status.busy": "2021-12-09T18:30:12.329988Z",
     "iopub.status.idle": "2021-12-09T18:30:13.999025Z",
     "shell.execute_reply": "2021-12-09T18:30:14.000299Z"
    },
    "papermill": {
     "duration": 1.703798,
     "end_time": "2021-12-09T18:30:14.000911",
     "exception": false,
     "start_time": "2021-12-09T18:30:12.297113",
     "status": "completed"
    },
    "tags": []
   },
   "outputs": [
    {
     "data": {
      "text/plain": [
       "<AxesSubplot:ylabel='PRODUCT'>"
      ]
     },
     "execution_count": 7,
     "metadata": {},
     "output_type": "execute_result"
    },
    {
     "data": {
      "image/png": "[encoded data removed]",
      "text/plain": [
       "<Figure size 432x288 with 1 Axes>"
      ]
     },
     "metadata": {
      "needs_background": "light"
     },
     "output_type": "display_data"
    }
   ],
   "source": [
    "df_pivot_diff.sort_values(\"stamp_2\", ascending = False)[\"stamp_2\"].head(10).plot.barh()"
   ]
  },
  {
   "cell_type": "code",
   "execution_count": null,
   "id": "extra-executive",
   "metadata": {
    "papermill": {
     "duration": 0.021748,
     "end_time": "2021-12-09T18:30:14.046941",
     "exception": false,
     "start_time": "2021-12-09T18:30:14.025193",
     "status": "completed"
    },
    "tags": []
   },
   "outputs": [],
   "source": []
  }
 ],
 "metadata": {
  "kernelspec": {
   "display_name": "Python 3",
   "language": "python",
   "name": "python3"
  },
  "language_info": {
   "codemirror_mode": {
    "name": "ipython",
    "version": 3
   },
   "file_extension": ".py",
   "mimetype": "text/x-python",
   "name": "python",
   "nbconvert_exporter": "python",
   "pygments_lexer": "ipython3",
   "version": "3.9.5"
  },
  "papermill": {
   "default_parameters": {},
   "duration": 9.957107,
   "end_time": "2021-12-09T18:30:15.409203",
   "environment_variables": {},
   "exception": null,
   "input_path": "eBay_Overview.ipynb",
   "output_path": "eBay_Overview.ipynb",
   "parameters": {},
   "start_time": "2021-12-09T18:30:05.452096",
   "version": "2.3.3"
  }
 },
 "nbformat": 4,
 "nbformat_minor": 5
}