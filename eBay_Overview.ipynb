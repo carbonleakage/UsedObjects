{
 "cells": [
  {
   "cell_type": "code",
   "execution_count": 1,
   "id": "reverse-picking",
   "metadata": {
    "execution": {
     "iopub.execute_input": "2021-11-25T19:30:08.091228Z",
     "iopub.status.busy": "2021-11-25T19:30:08.088845Z",
     "iopub.status.idle": "2021-11-25T19:30:09.041080Z",
     "shell.execute_reply": "2021-11-25T19:30:09.043487Z"
    },
    "papermill": {
     "duration": 1.006503,
     "end_time": "2021-11-25T19:30:09.044250",
     "exception": false,
     "start_time": "2021-11-25T19:30:08.037747",
     "status": "completed"
    },
    "tags": []
   },
   "outputs": [],
   "source": [
    "import pandas as pd\n",
    "import sqlite3"
   ]
  },
  {
   "cell_type": "code",
   "execution_count": 2,
   "id": "innovative-syndrome",
   "metadata": {
    "execution": {
     "iopub.execute_input": "2021-11-25T19:30:09.108613Z",
     "iopub.status.busy": "2021-11-25T19:30:09.106046Z",
     "iopub.status.idle": "2021-11-25T19:30:10.031407Z",
     "shell.execute_reply": "2021-11-25T19:30:10.032987Z"
    },
    "papermill": {
     "duration": 0.96034,
     "end_time": "2021-11-25T19:30:10.033506",
     "exception": false,
     "start_time": "2021-11-25T19:30:09.073166",
     "status": "completed"
    },
    "tags": []
   },
   "outputs": [],
   "source": [
    "timestamps = pd.read_sql(\"select distinct record_time from EBAY_TOP_BERLIN order by record_time desc limit 2\", sqlite3.connect(\"UsedObjects.db\"))"
   ]
  },
  {
   "cell_type": "code",
   "execution_count": 3,
   "id": "periodic-identification",
   "metadata": {
    "execution": {
     "iopub.execute_input": "2021-11-25T19:30:10.094119Z",
     "iopub.status.busy": "2021-11-25T19:30:10.091917Z",
     "iopub.status.idle": "2021-11-25T19:30:10.122973Z",
     "shell.execute_reply": "2021-11-25T19:30:10.124383Z"
    },
    "papermill": {
     "duration": 0.071014,
     "end_time": "2021-11-25T19:30:10.124926",
     "exception": false,
     "start_time": "2021-11-25T19:30:10.053912",
     "status": "completed"
    },
    "tags": []
   },
   "outputs": [
    {
     "data": {
      "text/html": [
       "<div>\n",
       "<style scoped>\n",
       "    .dataframe tbody tr th:only-of-type {\n",
       "        vertical-align: middle;\n",
       "    }\n",
       "\n",
       "    .dataframe tbody tr th {\n",
       "        vertical-align: top;\n",
       "    }\n",
       "\n",
       "    .dataframe thead th {\n",
       "        text-align: right;\n",
       "    }\n",
       "</style>\n",
       "<table border=\"1\" class=\"dataframe\">\n",
       "  <thead>\n",
       "    <tr style=\"text-align: right;\">\n",
       "      <th></th>\n",
       "      <th>RECORD_TIME</th>\n",
       "    </tr>\n",
       "  </thead>\n",
       "  <tbody>\n",
       "    <tr>\n",
       "      <th>0</th>\n",
       "      <td>2021-11-25 20:30</td>\n",
       "    </tr>\n",
       "    <tr>\n",
       "      <th>1</th>\n",
       "      <td>2021-11-25 20:00</td>\n",
       "    </tr>\n",
       "  </tbody>\n",
       "</table>\n",
       "</div>"
      ],
      "text/plain": [
       "        RECORD_TIME\n",
       "0  2021-11-25 20:30\n",
       "1  2021-11-25 20:00"
      ]
     },
     "execution_count": 3,
     "metadata": {},
     "output_type": "execute_result"
    }
   ],
   "source": [
    "timestamps"
   ]
  },
  {
   "cell_type": "code",
   "execution_count": 4,
   "id": "alternate-victory",
   "metadata": {
    "execution": {
     "iopub.execute_input": "2021-11-25T19:30:10.183637Z",
     "iopub.status.busy": "2021-11-25T19:30:10.181661Z",
     "iopub.status.idle": "2021-11-25T19:30:11.469025Z",
     "shell.execute_reply": "2021-11-25T19:30:11.470706Z"
    },
    "papermill": {
     "duration": 1.324104,
     "end_time": "2021-11-25T19:30:11.471238",
     "exception": false,
     "start_time": "2021-11-25T19:30:10.147134",
     "status": "completed"
    },
    "tags": []
   },
   "outputs": [],
   "source": [
    "df = pd.read_sql(\"select * from EBAY_TOP_BERLIN where record_time in (select distinct record_time from EBAY_TOP_BERLIN order by record_time desc limit 2)\", sqlite3.connect(\"UsedObjects.db\"))"
   ]
  },
  {
   "cell_type": "code",
   "execution_count": 5,
   "id": "popular-active",
   "metadata": {
    "execution": {
     "iopub.execute_input": "2021-11-25T19:30:11.545175Z",
     "iopub.status.busy": "2021-11-25T19:30:11.536273Z",
     "iopub.status.idle": "2021-11-25T19:30:11.569977Z",
     "shell.execute_reply": "2021-11-25T19:30:11.571564Z"
    },
    "papermill": {
     "duration": 0.079096,
     "end_time": "2021-11-25T19:30:11.572109",
     "exception": false,
     "start_time": "2021-11-25T19:30:11.493013",
     "status": "completed"
    },
    "tags": []
   },
   "outputs": [],
   "source": [
    "df_pivot = df.pivot_table(index=\"PRODUCT\", columns = \"RECORD_TIME\", values = \"LISTING_COUNT\")"
   ]
  },
  {
   "cell_type": "code",
   "execution_count": 6,
   "id": "union-huntington",
   "metadata": {
    "execution": {
     "iopub.execute_input": "2021-11-25T19:30:11.633193Z",
     "iopub.status.busy": "2021-11-25T19:30:11.630907Z",
     "iopub.status.idle": "2021-11-25T19:30:11.636525Z",
     "shell.execute_reply": "2021-11-25T19:30:11.637956Z"
    },
    "papermill": {
     "duration": 0.044463,
     "end_time": "2021-11-25T19:30:11.638444",
     "exception": false,
     "start_time": "2021-11-25T19:30:11.593981",
     "status": "completed"
    },
    "tags": []
   },
   "outputs": [],
   "source": [
    "df_pivot.columns = [\"stamp_1\", \"stamp_2\"]\n",
    "df_pivot_diff = df_pivot.diff(axis=1)"
   ]
  },
  {
   "cell_type": "code",
   "execution_count": 7,
   "id": "fifth-motion",
   "metadata": {
    "execution": {
     "iopub.execute_input": "2021-11-25T19:30:11.694850Z",
     "iopub.status.busy": "2021-11-25T19:30:11.692274Z",
     "iopub.status.idle": "2021-11-25T19:30:13.629516Z",
     "shell.execute_reply": "2021-11-25T19:30:13.632215Z"
    },
    "papermill": {
     "duration": 1.974265,
     "end_time": "2021-11-25T19:30:13.633047",
     "exception": false,
     "start_time": "2021-11-25T19:30:11.658782",
     "status": "completed"
    },
    "tags": []
   },
   "outputs": [
    {
     "data": {
      "text/plain": [
       "<AxesSubplot:ylabel='PRODUCT'>"
      ]
     },
     "execution_count": 7,
     "metadata": {},
     "output_type": "execute_result"
    },
    {
     "data": {
      "image/png": "[encoded data removed]",
      "text/plain": [
       "<Figure size 432x288 with 1 Axes>"
      ]
     },
     "metadata": {
      "needs_background": "light"
     },
     "output_type": "display_data"
    }
   ],
   "source": [
    "df_pivot_diff.sort_values(\"stamp_2\", ascending = False)[\"stamp_2\"].head(10).plot.barh()"
   ]
  },
  {
   "cell_type": "code",
   "execution_count": null,
   "id": "extra-executive",
   "metadata": {
    "papermill": {
     "duration": 0.037702,
     "end_time": "2021-11-25T19:30:13.705095",
     "exception": false,
     "start_time": "2021-11-25T19:30:13.667393",
     "status": "completed"
    },
    "tags": []
   },
   "outputs": [],
   "source": []
  }
 ],
 "metadata": {
  "kernelspec": {
   "display_name": "Python 3",
   "language": "python",
   "name": "python3"
  },
  "language_info": {
   "codemirror_mode": {
    "name": "ipython",
    "version": 3
   },
   "file_extension": ".py",
   "mimetype": "text/x-python",
   "name": "python",
   "nbconvert_exporter": "python",
   "pygments_lexer": "ipython3",
   "version": "3.9.5"
  },
  "papermill": {
   "default_parameters": {},
   "duration": 9.933177,
   "end_time": "2021-11-25T19:30:15.263744",
   "environment_variables": {},
   "exception": null,
   "input_path": "eBay_Overview.ipynb",
   "output_path": "eBay_Overview.ipynb",
   "parameters": {},
   "start_time": "2021-11-25T19:30:05.330567",
   "version": "2.3.3"
  }
 },
 "nbformat": 4,
 "nbformat_minor": 5
}