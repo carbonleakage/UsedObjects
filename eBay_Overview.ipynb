{
 "cells": [
  {
   "cell_type": "code",
   "execution_count": 1,
   "id": "reverse-picking",
   "metadata": {
    "execution": {
     "iopub.execute_input": "2021-10-19T23:00:07.093504Z",
     "iopub.status.busy": "2021-10-19T23:00:07.091484Z",
     "iopub.status.idle": "2021-10-19T23:00:07.898023Z",
     "shell.execute_reply": "2021-10-19T23:00:07.896288Z"
    },
    "papermill": {
     "duration": 0.856521,
     "end_time": "2021-10-19T23:00:07.898446",
     "exception": false,
     "start_time": "2021-10-19T23:00:07.041925",
     "status": "completed"
    },
    "tags": []
   },
   "outputs": [],
   "source": [
    "import pandas as pd\n",
    "import sqlite3"
   ]
  },
  {
   "cell_type": "code",
   "execution_count": 2,
   "id": "innovative-syndrome",
   "metadata": {
    "execution": {
     "iopub.execute_input": "2021-10-19T23:00:07.950149Z",
     "iopub.status.busy": "2021-10-19T23:00:07.948037Z",
     "iopub.status.idle": "2021-10-19T23:00:08.548494Z",
     "shell.execute_reply": "2021-10-19T23:00:08.549827Z"
    },
    "papermill": {
     "duration": 0.631574,
     "end_time": "2021-10-19T23:00:08.550260",
     "exception": false,
     "start_time": "2021-10-19T23:00:07.918686",
     "status": "completed"
    },
    "tags": []
   },
   "outputs": [],
   "source": [
    "timestamps = pd.read_sql(\"select distinct record_time from EBAY_TOP_BERLIN order by record_time desc limit 2\", sqlite3.connect(\"UsedObjects.db\"))"
   ]
  },
  {
   "cell_type": "code",
   "execution_count": 3,
   "id": "periodic-identification",
   "metadata": {
    "execution": {
     "iopub.execute_input": "2021-10-19T23:00:08.639740Z",
     "iopub.status.busy": "2021-10-19T23:00:08.637742Z",
     "iopub.status.idle": "2021-10-19T23:00:08.657710Z",
     "shell.execute_reply": "2021-10-19T23:00:08.659059Z"
    },
    "papermill": {
     "duration": 0.073281,
     "end_time": "2021-10-19T23:00:08.659467",
     "exception": false,
     "start_time": "2021-10-19T23:00:08.586186",
     "status": "completed"
    },
    "tags": []
   },
   "outputs": [
    {
     "data": {
      "text/html": [
       "<div>\n",
       "<style scoped>\n",
       "    .dataframe tbody tr th:only-of-type {\n",
       "        vertical-align: middle;\n",
       "    }\n",
       "\n",
       "    .dataframe tbody tr th {\n",
       "        vertical-align: top;\n",
       "    }\n",
       "\n",
       "    .dataframe thead th {\n",
       "        text-align: right;\n",
       "    }\n",
       "</style>\n",
       "<table border=\"1\" class=\"dataframe\">\n",
       "  <thead>\n",
       "    <tr style=\"text-align: right;\">\n",
       "      <th></th>\n",
       "      <th>RECORD_TIME</th>\n",
       "    </tr>\n",
       "  </thead>\n",
       "  <tbody>\n",
       "    <tr>\n",
       "      <th>0</th>\n",
       "      <td>2021-10-20 01:00</td>\n",
       "    </tr>\n",
       "    <tr>\n",
       "      <th>1</th>\n",
       "      <td>2021-10-20 00:30</td>\n",
       "    </tr>\n",
       "  </tbody>\n",
       "</table>\n",
       "</div>"
      ],
      "text/plain": [
       "        RECORD_TIME\n",
       "0  2021-10-20 01:00\n",
       "1  2021-10-20 00:30"
      ]
     },
     "execution_count": 3,
     "metadata": {},
     "output_type": "execute_result"
    }
   ],
   "source": [
    "timestamps"
   ]
  },
  {
   "cell_type": "code",
   "execution_count": 4,
   "id": "alternate-victory",
   "metadata": {
    "execution": {
     "iopub.execute_input": "2021-10-19T23:00:08.711319Z",
     "iopub.status.busy": "2021-10-19T23:00:08.709192Z",
     "iopub.status.idle": "2021-10-19T23:00:09.601784Z",
     "shell.execute_reply": "2021-10-19T23:00:09.603060Z"
    },
    "papermill": {
     "duration": 0.922911,
     "end_time": "2021-10-19T23:00:09.603451",
     "exception": false,
     "start_time": "2021-10-19T23:00:08.680540",
     "status": "completed"
    },
    "tags": []
   },
   "outputs": [],
   "source": [
    "df = pd.read_sql(\"select * from EBAY_TOP_BERLIN where record_time in (select distinct record_time from EBAY_TOP_BERLIN order by record_time desc limit 2)\", sqlite3.connect(\"UsedObjects.db\"))"
   ]
  },
  {
   "cell_type": "code",
   "execution_count": 5,
   "id": "popular-active",
   "metadata": {
    "execution": {
     "iopub.execute_input": "2021-10-19T23:00:09.672835Z",
     "iopub.status.busy": "2021-10-19T23:00:09.661406Z",
     "iopub.status.idle": "2021-10-19T23:00:09.688901Z",
     "shell.execute_reply": "2021-10-19T23:00:09.690293Z"
    },
    "papermill": {
     "duration": 0.066806,
     "end_time": "2021-10-19T23:00:09.690725",
     "exception": false,
     "start_time": "2021-10-19T23:00:09.623919",
     "status": "completed"
    },
    "tags": []
   },
   "outputs": [],
   "source": [
    "df_pivot = df.pivot_table(index=\"PRODUCT\", columns = \"RECORD_TIME\", values = \"LISTING_COUNT\")"
   ]
  },
  {
   "cell_type": "code",
   "execution_count": 6,
   "id": "union-huntington",
   "metadata": {
    "execution": {
     "iopub.execute_input": "2021-10-19T23:00:09.748005Z",
     "iopub.status.busy": "2021-10-19T23:00:09.745523Z",
     "iopub.status.idle": "2021-10-19T23:00:09.751678Z",
     "shell.execute_reply": "2021-10-19T23:00:09.753118Z"
    },
    "papermill": {
     "duration": 0.0425,
     "end_time": "2021-10-19T23:00:09.753558",
     "exception": false,
     "start_time": "2021-10-19T23:00:09.711058",
     "status": "completed"
    },
    "tags": []
   },
   "outputs": [],
   "source": [
    "df_pivot.columns = [\"stamp_1\", \"stamp_2\"]\n",
    "df_pivot_diff = df_pivot.diff(axis=1)"
   ]
  },
  {
   "cell_type": "code",
   "execution_count": 7,
   "id": "fifth-motion",
   "metadata": {
    "execution": {
     "iopub.execute_input": "2021-10-19T23:00:09.807489Z",
     "iopub.status.busy": "2021-10-19T23:00:09.805231Z",
     "iopub.status.idle": "2021-10-19T23:00:11.265232Z",
     "shell.execute_reply": "2021-10-19T23:00:11.266628Z"
    },
    "papermill": {
     "duration": 1.493085,
     "end_time": "2021-10-19T23:00:11.267044",
     "exception": false,
     "start_time": "2021-10-19T23:00:09.773959",
     "status": "completed"
    },
    "tags": []
   },
   "outputs": [
    {
     "data": {
      "text/plain": [
       "<AxesSubplot:ylabel='PRODUCT'>"
      ]
     },
     "execution_count": 7,
     "metadata": {},
     "output_type": "execute_result"
    },
    {
     "data": {
      "image/png": "[encoded data removed]",
      "text/plain": [
       "<Figure size 432x288 with 1 Axes>"
      ]
     },
     "metadata": {
      "needs_background": "light"
     },
     "output_type": "display_data"
    }
   ],
   "source": [
    "df_pivot_diff.sort_values(\"stamp_2\", ascending = False)[\"stamp_2\"].head(10).plot.barh()"
   ]
  },
  {
   "cell_type": "code",
   "execution_count": null,
   "id": "extra-executive",
   "metadata": {
    "papermill": {
     "duration": 0.022002,
     "end_time": "2021-10-19T23:00:11.312826",
     "exception": false,
     "start_time": "2021-10-19T23:00:11.290824",
     "status": "completed"
    },
    "tags": []
   },
   "outputs": [],
   "source": []
  }
 ],
 "metadata": {
  "kernelspec": {
   "display_name": "Python 3",
   "language": "python",
   "name": "python3"
  },
  "language_info": {
   "codemirror_mode": {
    "name": "ipython",
    "version": 3
   },
   "file_extension": ".py",
   "mimetype": "text/x-python",
   "name": "python",
   "nbconvert_exporter": "python",
   "pygments_lexer": "ipython3",
   "version": "3.9.5"
  },
  "papermill": {
   "default_parameters": {},
   "duration": 7.3216,
   "end_time": "2021-10-19T23:00:11.955651",
   "environment_variables": {},
   "exception": null,
   "input_path": "eBay_Overview.ipynb",
   "output_path": "eBay_Overview.ipynb",
   "parameters": {},
   "start_time": "2021-10-19T23:00:04.634051",
   "version": "2.3.3"
  }
 },
 "nbformat": 4,
 "nbformat_minor": 5
}