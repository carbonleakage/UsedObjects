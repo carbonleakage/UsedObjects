{
 "cells": [
  {
   "cell_type": "code",
   "execution_count": 1,
   "id": "reverse-picking",
   "metadata": {
    "execution": {
     "iopub.execute_input": "2021-11-27T18:30:07.298705Z",
     "iopub.status.busy": "2021-11-27T18:30:07.296305Z",
     "iopub.status.idle": "2021-11-27T18:30:08.249639Z",
     "shell.execute_reply": "2021-11-27T18:30:08.251829Z"
    },
    "papermill": {
     "duration": 1.003355,
     "end_time": "2021-11-27T18:30:08.252572",
     "exception": false,
     "start_time": "2021-11-27T18:30:07.249217",
     "status": "completed"
    },
    "tags": []
   },
   "outputs": [],
   "source": [
    "import pandas as pd\n",
    "import sqlite3"
   ]
  },
  {
   "cell_type": "code",
   "execution_count": 2,
   "id": "innovative-syndrome",
   "metadata": {
    "execution": {
     "iopub.execute_input": "2021-11-27T18:30:08.315077Z",
     "iopub.status.busy": "2021-11-27T18:30:08.312472Z",
     "iopub.status.idle": "2021-11-27T18:30:09.232224Z",
     "shell.execute_reply": "2021-11-27T18:30:09.233946Z"
    },
    "papermill": {
     "duration": 0.954238,
     "end_time": "2021-11-27T18:30:09.234539",
     "exception": false,
     "start_time": "2021-11-27T18:30:08.280301",
     "status": "completed"
    },
    "tags": []
   },
   "outputs": [],
   "source": [
    "timestamps = pd.read_sql(\"select distinct record_time from EBAY_TOP_BERLIN order by record_time desc limit 2\", sqlite3.connect(\"UsedObjects.db\"))"
   ]
  },
  {
   "cell_type": "code",
   "execution_count": 3,
   "id": "periodic-identification",
   "metadata": {
    "execution": {
     "iopub.execute_input": "2021-11-27T18:30:09.303329Z",
     "iopub.status.busy": "2021-11-27T18:30:09.301286Z",
     "iopub.status.idle": "2021-11-27T18:30:09.321246Z",
     "shell.execute_reply": "2021-11-27T18:30:09.322574Z"
    },
    "papermill": {
     "duration": 0.066919,
     "end_time": "2021-11-27T18:30:09.323003",
     "exception": false,
     "start_time": "2021-11-27T18:30:09.256084",
     "status": "completed"
    },
    "tags": []
   },
   "outputs": [
    {
     "data": {
      "text/html": [
       "<div>\n",
       "<style scoped>\n",
       "    .dataframe tbody tr th:only-of-type {\n",
       "        vertical-align: middle;\n",
       "    }\n",
       "\n",
       "    .dataframe tbody tr th {\n",
       "        vertical-align: top;\n",
       "    }\n",
       "\n",
       "    .dataframe thead th {\n",
       "        text-align: right;\n",
       "    }\n",
       "</style>\n",
       "<table border=\"1\" class=\"dataframe\">\n",
       "  <thead>\n",
       "    <tr style=\"text-align: right;\">\n",
       "      <th></th>\n",
       "      <th>RECORD_TIME</th>\n",
       "    </tr>\n",
       "  </thead>\n",
       "  <tbody>\n",
       "    <tr>\n",
       "      <th>0</th>\n",
       "      <td>2021-11-27 19:30</td>\n",
       "    </tr>\n",
       "    <tr>\n",
       "      <th>1</th>\n",
       "      <td>2021-11-27 19:00</td>\n",
       "    </tr>\n",
       "  </tbody>\n",
       "</table>\n",
       "</div>"
      ],
      "text/plain": [
       "        RECORD_TIME\n",
       "0  2021-11-27 19:30\n",
       "1  2021-11-27 19:00"
      ]
     },
     "execution_count": 3,
     "metadata": {},
     "output_type": "execute_result"
    }
   ],
   "source": [
    "timestamps"
   ]
  },
  {
   "cell_type": "code",
   "execution_count": 4,
   "id": "alternate-victory",
   "metadata": {
    "execution": {
     "iopub.execute_input": "2021-11-27T18:30:09.375007Z",
     "iopub.status.busy": "2021-11-27T18:30:09.372828Z",
     "iopub.status.idle": "2021-11-27T18:30:10.730969Z",
     "shell.execute_reply": "2021-11-27T18:30:10.732345Z"
    },
    "papermill": {
     "duration": 1.388594,
     "end_time": "2021-11-27T18:30:10.732906",
     "exception": false,
     "start_time": "2021-11-27T18:30:09.344312",
     "status": "completed"
    },
    "tags": []
   },
   "outputs": [],
   "source": [
    "df = pd.read_sql(\"select * from EBAY_TOP_BERLIN where record_time in (select distinct record_time from EBAY_TOP_BERLIN order by record_time desc limit 2)\", sqlite3.connect(\"UsedObjects.db\"))"
   ]
  },
  {
   "cell_type": "code",
   "execution_count": 5,
   "id": "popular-active",
   "metadata": {
    "execution": {
     "iopub.execute_input": "2021-11-27T18:30:10.798732Z",
     "iopub.status.busy": "2021-11-27T18:30:10.794900Z",
     "iopub.status.idle": "2021-11-27T18:30:10.831807Z",
     "shell.execute_reply": "2021-11-27T18:30:10.830116Z"
    },
    "papermill": {
     "duration": 0.079014,
     "end_time": "2021-11-27T18:30:10.832316",
     "exception": false,
     "start_time": "2021-11-27T18:30:10.753302",
     "status": "completed"
    },
    "tags": []
   },
   "outputs": [],
   "source": [
    "df_pivot = df.pivot_table(index=\"PRODUCT\", columns = \"RECORD_TIME\", values = \"LISTING_COUNT\")"
   ]
  },
  {
   "cell_type": "code",
   "execution_count": 6,
   "id": "union-huntington",
   "metadata": {
    "execution": {
     "iopub.execute_input": "2021-11-27T18:30:10.900317Z",
     "iopub.status.busy": "2021-11-27T18:30:10.897637Z",
     "iopub.status.idle": "2021-11-27T18:30:10.905402Z",
     "shell.execute_reply": "2021-11-27T18:30:10.907189Z"
    },
    "papermill": {
     "duration": 0.054197,
     "end_time": "2021-11-27T18:30:10.907812",
     "exception": false,
     "start_time": "2021-11-27T18:30:10.853615",
     "status": "completed"
    },
    "tags": []
   },
   "outputs": [],
   "source": [
    "df_pivot.columns = [\"stamp_1\", \"stamp_2\"]\n",
    "df_pivot_diff = df_pivot.diff(axis=1)"
   ]
  },
  {
   "cell_type": "code",
   "execution_count": 7,
   "id": "fifth-motion",
   "metadata": {
    "execution": {
     "iopub.execute_input": "2021-11-27T18:30:10.965468Z",
     "iopub.status.busy": "2021-11-27T18:30:10.962905Z",
     "iopub.status.idle": "2021-11-27T18:30:12.944137Z",
     "shell.execute_reply": "2021-11-27T18:30:12.947423Z"
    },
    "papermill": {
     "duration": 2.019027,
     "end_time": "2021-11-27T18:30:12.948268",
     "exception": false,
     "start_time": "2021-11-27T18:30:10.929241",
     "status": "completed"
    },
    "tags": []
   },
   "outputs": [
    {
     "data": {
      "text/plain": [
       "<AxesSubplot:ylabel='PRODUCT'>"
      ]
     },
     "execution_count": 7,
     "metadata": {},
     "output_type": "execute_result"
    },
    {
     "data": {
      "image/png": "[encoded data removed]",
      "text/plain": [
       "<Figure size 432x288 with 1 Axes>"
      ]
     },
     "metadata": {
      "needs_background": "light"
     },
     "output_type": "display_data"
    }
   ],
   "source": [
    "df_pivot_diff.sort_values(\"stamp_2\", ascending = False)[\"stamp_2\"].head(10).plot.barh()"
   ]
  },
  {
   "cell_type": "code",
   "execution_count": null,
   "id": "extra-executive",
   "metadata": {
    "papermill": {
     "duration": 0.036065,
     "end_time": "2021-11-27T18:30:13.018864",
     "exception": false,
     "start_time": "2021-11-27T18:30:12.982799",
     "status": "completed"
    },
    "tags": []
   },
   "outputs": [],
   "source": []
  }
 ],
 "metadata": {
  "kernelspec": {
   "display_name": "Python 3",
   "language": "python",
   "name": "python3"
  },
  "language_info": {
   "codemirror_mode": {
    "name": "ipython",
    "version": 3
   },
   "file_extension": ".py",
   "mimetype": "text/x-python",
   "name": "python",
   "nbconvert_exporter": "python",
   "pygments_lexer": "ipython3",
   "version": "3.9.5"
  },
  "papermill": {
   "default_parameters": {},
   "duration": 9.934991,
   "end_time": "2021-11-27T18:30:14.457532",
   "environment_variables": {},
   "exception": null,
   "input_path": "eBay_Overview.ipynb",
   "output_path": "eBay_Overview.ipynb",
   "parameters": {},
   "start_time": "2021-11-27T18:30:04.522541",
   "version": "2.3.3"
  }
 },
 "nbformat": 4,
 "nbformat_minor": 5
}