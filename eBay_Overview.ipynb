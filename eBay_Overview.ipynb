{
 "cells": [
  {
   "cell_type": "code",
   "execution_count": 1,
   "id": "reverse-picking",
   "metadata": {
    "execution": {
     "iopub.execute_input": "2021-09-04T13:00:06.605206Z",
     "iopub.status.busy": "2021-09-04T13:00:06.603233Z",
     "iopub.status.idle": "2021-09-04T13:00:07.405089Z",
     "shell.execute_reply": "2021-09-04T13:00:07.406406Z"
    },
    "papermill": {
     "duration": 0.855262,
     "end_time": "2021-09-04T13:00:07.407125",
     "exception": false,
     "start_time": "2021-09-04T13:00:06.551863",
     "status": "completed"
    },
    "tags": []
   },
   "outputs": [],
   "source": [
    "import pandas as pd\n",
    "import sqlite3"
   ]
  },
  {
   "cell_type": "code",
   "execution_count": 2,
   "id": "innovative-syndrome",
   "metadata": {
    "execution": {
     "iopub.execute_input": "2021-09-04T13:00:07.457664Z",
     "iopub.status.busy": "2021-09-04T13:00:07.455647Z",
     "iopub.status.idle": "2021-09-04T13:00:07.657676Z",
     "shell.execute_reply": "2021-09-04T13:00:07.659088Z"
    },
    "papermill": {
     "duration": 0.232273,
     "end_time": "2021-09-04T13:00:07.659559",
     "exception": false,
     "start_time": "2021-09-04T13:00:07.427286",
     "status": "completed"
    },
    "tags": []
   },
   "outputs": [],
   "source": [
    "timestamps = pd.read_sql(\"select distinct record_time from EBAY_TOP_BERLIN order by record_time desc limit 2\", sqlite3.connect(\"UsedObjects.db\"))"
   ]
  },
  {
   "cell_type": "code",
   "execution_count": 3,
   "id": "periodic-identification",
   "metadata": {
    "execution": {
     "iopub.execute_input": "2021-09-04T13:00:07.725747Z",
     "iopub.status.busy": "2021-09-04T13:00:07.723732Z",
     "iopub.status.idle": "2021-09-04T13:00:07.743401Z",
     "shell.execute_reply": "2021-09-04T13:00:07.744613Z"
    },
    "papermill": {
     "duration": 0.066546,
     "end_time": "2021-09-04T13:00:07.745043",
     "exception": false,
     "start_time": "2021-09-04T13:00:07.678497",
     "status": "completed"
    },
    "tags": []
   },
   "outputs": [
    {
     "data": {
      "text/html": [
       "<div>\n",
       "<style scoped>\n",
       "    .dataframe tbody tr th:only-of-type {\n",
       "        vertical-align: middle;\n",
       "    }\n",
       "\n",
       "    .dataframe tbody tr th {\n",
       "        vertical-align: top;\n",
       "    }\n",
       "\n",
       "    .dataframe thead th {\n",
       "        text-align: right;\n",
       "    }\n",
       "</style>\n",
       "<table border=\"1\" class=\"dataframe\">\n",
       "  <thead>\n",
       "    <tr style=\"text-align: right;\">\n",
       "      <th></th>\n",
       "      <th>RECORD_TIME</th>\n",
       "    </tr>\n",
       "  </thead>\n",
       "  <tbody>\n",
       "    <tr>\n",
       "      <th>0</th>\n",
       "      <td>2021-09-04 15:00</td>\n",
       "    </tr>\n",
       "    <tr>\n",
       "      <th>1</th>\n",
       "      <td>2021-09-04 14:30</td>\n",
       "    </tr>\n",
       "  </tbody>\n",
       "</table>\n",
       "</div>"
      ],
      "text/plain": [
       "        RECORD_TIME\n",
       "0  2021-09-04 15:00\n",
       "1  2021-09-04 14:30"
      ]
     },
     "execution_count": 3,
     "metadata": {},
     "output_type": "execute_result"
    }
   ],
   "source": [
    "timestamps"
   ]
  },
  {
   "cell_type": "code",
   "execution_count": 4,
   "id": "alternate-victory",
   "metadata": {
    "execution": {
     "iopub.execute_input": "2021-09-04T13:00:07.795144Z",
     "iopub.status.busy": "2021-09-04T13:00:07.793239Z",
     "iopub.status.idle": "2021-09-04T13:00:08.097326Z",
     "shell.execute_reply": "2021-09-04T13:00:08.098601Z"
    },
    "papermill": {
     "duration": 0.333988,
     "end_time": "2021-09-04T13:00:08.099104",
     "exception": false,
     "start_time": "2021-09-04T13:00:07.765116",
     "status": "completed"
    },
    "tags": []
   },
   "outputs": [],
   "source": [
    "df = pd.read_sql(\"select * from EBAY_TOP_BERLIN where record_time in (select distinct record_time from EBAY_TOP_BERLIN order by record_time desc limit 2)\", sqlite3.connect(\"UsedObjects.db\"))"
   ]
  },
  {
   "cell_type": "code",
   "execution_count": 5,
   "id": "popular-active",
   "metadata": {
    "execution": {
     "iopub.execute_input": "2021-09-04T13:00:08.179473Z",
     "iopub.status.busy": "2021-09-04T13:00:08.166953Z",
     "iopub.status.idle": "2021-09-04T13:00:08.194838Z",
     "shell.execute_reply": "2021-09-04T13:00:08.196131Z"
    },
    "papermill": {
     "duration": 0.071925,
     "end_time": "2021-09-04T13:00:08.196529",
     "exception": false,
     "start_time": "2021-09-04T13:00:08.124604",
     "status": "completed"
    },
    "tags": []
   },
   "outputs": [],
   "source": [
    "df_pivot = df.pivot_table(index=\"PRODUCT\", columns = \"RECORD_TIME\", values = \"LISTING_COUNT\")"
   ]
  },
  {
   "cell_type": "code",
   "execution_count": 6,
   "id": "union-huntington",
   "metadata": {
    "execution": {
     "iopub.execute_input": "2021-09-04T13:00:08.253919Z",
     "iopub.status.busy": "2021-09-04T13:00:08.251670Z",
     "iopub.status.idle": "2021-09-04T13:00:08.259102Z",
     "shell.execute_reply": "2021-09-04T13:00:08.257566Z"
    },
    "papermill": {
     "duration": 0.041627,
     "end_time": "2021-09-04T13:00:08.259522",
     "exception": false,
     "start_time": "2021-09-04T13:00:08.217895",
     "status": "completed"
    },
    "tags": []
   },
   "outputs": [],
   "source": [
    "df_pivot.columns = [\"stamp_1\", \"stamp_2\"]\n",
    "df_pivot_diff = df_pivot.diff(axis=1)"
   ]
  },
  {
   "cell_type": "code",
   "execution_count": 7,
   "id": "fifth-motion",
   "metadata": {
    "execution": {
     "iopub.execute_input": "2021-09-04T13:00:08.314283Z",
     "iopub.status.busy": "2021-09-04T13:00:08.312000Z",
     "iopub.status.idle": "2021-09-04T13:00:09.774491Z",
     "shell.execute_reply": "2021-09-04T13:00:09.775982Z"
    },
    "papermill": {
     "duration": 1.49589,
     "end_time": "2021-09-04T13:00:09.776428",
     "exception": false,
     "start_time": "2021-09-04T13:00:08.280538",
     "status": "completed"
    },
    "tags": []
   },
   "outputs": [
    {
     "data": {
      "text/plain": [
       "<AxesSubplot:ylabel='PRODUCT'>"
      ]
     },
     "execution_count": 7,
     "metadata": {},
     "output_type": "execute_result"
    },
    {
     "data": {
      "image/png": "[encoded data removed]",
      "text/plain": [
       "<Figure size 432x288 with 1 Axes>"
      ]
     },
     "metadata": {
      "needs_background": "light"
     },
     "output_type": "display_data"
    }
   ],
   "source": [
    "df_pivot_diff.sort_values(\"stamp_2\", ascending = False)[\"stamp_2\"].head(10).plot.barh()"
   ]
  },
  {
   "cell_type": "code",
   "execution_count": null,
   "id": "extra-executive",
   "metadata": {
    "papermill": {
     "duration": 0.022019,
     "end_time": "2021-09-04T13:00:09.822031",
     "exception": false,
     "start_time": "2021-09-04T13:00:09.800012",
     "status": "completed"
    },
    "tags": []
   },
   "outputs": [],
   "source": []
  }
 ],
 "metadata": {
  "kernelspec": {
   "display_name": "Python 3",
   "language": "python",
   "name": "python3"
  },
  "language_info": {
   "codemirror_mode": {
    "name": "ipython",
    "version": 3
   },
   "file_extension": ".py",
   "mimetype": "text/x-python",
   "name": "python",
   "nbconvert_exporter": "python",
   "pygments_lexer": "ipython3",
   "version": "3.9.5"
  },
  "papermill": {
   "default_parameters": {},
   "duration": 6.823928,
   "end_time": "2021-09-04T13:00:10.980612",
   "environment_variables": {},
   "exception": null,
   "input_path": "eBay_Overview.ipynb",
   "output_path": "eBay_Overview.ipynb",
   "parameters": {},
   "start_time": "2021-09-04T13:00:04.156684",
   "version": "2.3.3"
  }
 },
 "nbformat": 4,
 "nbformat_minor": 5
}