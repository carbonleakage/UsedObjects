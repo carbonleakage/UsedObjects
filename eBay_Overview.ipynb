{
 "cells": [
  {
   "cell_type": "code",
   "execution_count": 1,
   "id": "reverse-picking",
   "metadata": {
    "execution": {
     "iopub.execute_input": "2021-08-18T09:30:07.101641Z",
     "iopub.status.busy": "2021-08-18T09:30:07.099684Z",
     "iopub.status.idle": "2021-08-18T09:30:07.904443Z",
     "shell.execute_reply": "2021-08-18T09:30:07.905782Z"
    },
    "papermill": {
     "duration": 0.857114,
     "end_time": "2021-08-18T09:30:07.906498",
     "exception": false,
     "start_time": "2021-08-18T09:30:07.049384",
     "status": "completed"
    },
    "tags": []
   },
   "outputs": [],
   "source": [
    "import pandas as pd\n",
    "import sqlite3"
   ]
  },
  {
   "cell_type": "code",
   "execution_count": 2,
   "id": "innovative-syndrome",
   "metadata": {
    "execution": {
     "iopub.execute_input": "2021-08-18T09:30:07.957468Z",
     "iopub.status.busy": "2021-08-18T09:30:07.955514Z",
     "iopub.status.idle": "2021-08-18T09:30:08.028396Z",
     "shell.execute_reply": "2021-08-18T09:30:08.029608Z"
    },
    "papermill": {
     "duration": 0.103115,
     "end_time": "2021-08-18T09:30:08.030053",
     "exception": false,
     "start_time": "2021-08-18T09:30:07.926938",
     "status": "completed"
    },
    "tags": []
   },
   "outputs": [],
   "source": [
    "timestamps = pd.read_sql(\"select distinct record_time from EBAY_TOP_BERLIN order by record_time desc limit 2\", sqlite3.connect(\"UsedObjects.db\"))"
   ]
  },
  {
   "cell_type": "code",
   "execution_count": 3,
   "id": "periodic-identification",
   "metadata": {
    "execution": {
     "iopub.execute_input": "2021-08-18T09:30:08.098815Z",
     "iopub.status.busy": "2021-08-18T09:30:08.093372Z",
     "iopub.status.idle": "2021-08-18T09:30:08.114750Z",
     "shell.execute_reply": "2021-08-18T09:30:08.116234Z"
    },
    "papermill": {
     "duration": 0.065802,
     "end_time": "2021-08-18T09:30:08.116695",
     "exception": false,
     "start_time": "2021-08-18T09:30:08.050893",
     "status": "completed"
    },
    "tags": []
   },
   "outputs": [
    {
     "data": {
      "text/html": [
       "<div>\n",
       "<style scoped>\n",
       "    .dataframe tbody tr th:only-of-type {\n",
       "        vertical-align: middle;\n",
       "    }\n",
       "\n",
       "    .dataframe tbody tr th {\n",
       "        vertical-align: top;\n",
       "    }\n",
       "\n",
       "    .dataframe thead th {\n",
       "        text-align: right;\n",
       "    }\n",
       "</style>\n",
       "<table border=\"1\" class=\"dataframe\">\n",
       "  <thead>\n",
       "    <tr style=\"text-align: right;\">\n",
       "      <th></th>\n",
       "      <th>RECORD_TIME</th>\n",
       "    </tr>\n",
       "  </thead>\n",
       "  <tbody>\n",
       "    <tr>\n",
       "      <th>0</th>\n",
       "      <td>2021-08-18 11:30</td>\n",
       "    </tr>\n",
       "    <tr>\n",
       "      <th>1</th>\n",
       "      <td>2021-08-18 11:00</td>\n",
       "    </tr>\n",
       "  </tbody>\n",
       "</table>\n",
       "</div>"
      ],
      "text/plain": [
       "        RECORD_TIME\n",
       "0  2021-08-18 11:30\n",
       "1  2021-08-18 11:00"
      ]
     },
     "execution_count": 3,
     "metadata": {},
     "output_type": "execute_result"
    }
   ],
   "source": [
    "timestamps"
   ]
  },
  {
   "cell_type": "code",
   "execution_count": 4,
   "id": "alternate-victory",
   "metadata": {
    "execution": {
     "iopub.execute_input": "2021-08-18T09:30:08.169760Z",
     "iopub.status.busy": "2021-08-18T09:30:08.167487Z",
     "iopub.status.idle": "2021-08-18T09:30:08.277789Z",
     "shell.execute_reply": "2021-08-18T09:30:08.279100Z"
    },
    "papermill": {
     "duration": 0.141038,
     "end_time": "2021-08-18T09:30:08.279503",
     "exception": false,
     "start_time": "2021-08-18T09:30:08.138465",
     "status": "completed"
    },
    "tags": []
   },
   "outputs": [],
   "source": [
    "df = pd.read_sql(\"select * from EBAY_TOP_BERLIN where record_time in (select distinct record_time from EBAY_TOP_BERLIN order by record_time desc limit 2)\", sqlite3.connect(\"UsedObjects.db\"))"
   ]
  },
  {
   "cell_type": "code",
   "execution_count": 5,
   "id": "popular-active",
   "metadata": {
    "execution": {
     "iopub.execute_input": "2021-08-18T09:30:08.349554Z",
     "iopub.status.busy": "2021-08-18T09:30:08.337618Z",
     "iopub.status.idle": "2021-08-18T09:30:08.366780Z",
     "shell.execute_reply": "2021-08-18T09:30:08.368195Z"
    },
    "papermill": {
     "duration": 0.067955,
     "end_time": "2021-08-18T09:30:08.368636",
     "exception": false,
     "start_time": "2021-08-18T09:30:08.300681",
     "status": "completed"
    },
    "tags": []
   },
   "outputs": [],
   "source": [
    "df_pivot = df.pivot_table(index=\"PRODUCT\", columns = \"RECORD_TIME\", values = \"LISTING_COUNT\")"
   ]
  },
  {
   "cell_type": "code",
   "execution_count": 6,
   "id": "union-huntington",
   "metadata": {
    "execution": {
     "iopub.execute_input": "2021-08-18T09:30:08.425700Z",
     "iopub.status.busy": "2021-08-18T09:30:08.423401Z",
     "iopub.status.idle": "2021-08-18T09:30:08.429398Z",
     "shell.execute_reply": "2021-08-18T09:30:08.430793Z"
    },
    "papermill": {
     "duration": 0.042266,
     "end_time": "2021-08-18T09:30:08.431251",
     "exception": false,
     "start_time": "2021-08-18T09:30:08.388985",
     "status": "completed"
    },
    "tags": []
   },
   "outputs": [],
   "source": [
    "df_pivot.columns = [\"stamp_1\", \"stamp_2\"]\n",
    "df_pivot_diff = df_pivot.diff(axis=1)"
   ]
  },
  {
   "cell_type": "code",
   "execution_count": 7,
   "id": "fifth-motion",
   "metadata": {
    "execution": {
     "iopub.execute_input": "2021-08-18T09:30:08.486375Z",
     "iopub.status.busy": "2021-08-18T09:30:08.484057Z",
     "iopub.status.idle": "2021-08-18T09:30:09.997667Z",
     "shell.execute_reply": "2021-08-18T09:30:09.999244Z"
    },
    "papermill": {
     "duration": 1.547168,
     "end_time": "2021-08-18T09:30:09.999718",
     "exception": false,
     "start_time": "2021-08-18T09:30:08.452550",
     "status": "completed"
    },
    "tags": []
   },
   "outputs": [
    {
     "data": {
      "text/plain": [
       "<AxesSubplot:ylabel='PRODUCT'>"
      ]
     },
     "execution_count": 7,
     "metadata": {},
     "output_type": "execute_result"
    },
    {
     "data": {
      "image/png": "[encoded data removed]",
      "text/plain": [
       "<Figure size 432x288 with 1 Axes>"
      ]
     },
     "metadata": {
      "needs_background": "light"
     },
     "output_type": "display_data"
    }
   ],
   "source": [
    "df_pivot_diff.sort_values(\"stamp_2\", ascending = False)[\"stamp_2\"].head(10).plot.barh()"
   ]
  },
  {
   "cell_type": "code",
   "execution_count": null,
   "id": "extra-executive",
   "metadata": {
    "papermill": {
     "duration": 0.022351,
     "end_time": "2021-08-18T09:30:10.047432",
     "exception": false,
     "start_time": "2021-08-18T09:30:10.025081",
     "status": "completed"
    },
    "tags": []
   },
   "outputs": [],
   "source": []
  }
 ],
 "metadata": {
  "kernelspec": {
   "display_name": "Python 3",
   "language": "python",
   "name": "python3"
  },
  "language_info": {
   "codemirror_mode": {
    "name": "ipython",
    "version": 3
   },
   "file_extension": ".py",
   "mimetype": "text/x-python",
   "name": "python",
   "nbconvert_exporter": "python",
   "pygments_lexer": "ipython3",
   "version": "3.9.5"
  },
  "papermill": {
   "default_parameters": {},
   "duration": 6.834962,
   "end_time": "2021-08-18T09:30:11.472046",
   "environment_variables": {},
   "exception": null,
   "input_path": "eBay_Overview.ipynb",
   "output_path": "eBay_Overview.ipynb",
   "parameters": {},
   "start_time": "2021-08-18T09:30:04.637084",
   "version": "2.3.3"
  }
 },
 "nbformat": 4,
 "nbformat_minor": 5
}