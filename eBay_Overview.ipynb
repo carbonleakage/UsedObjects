{
 "cells": [
  {
   "cell_type": "code",
   "execution_count": 1,
   "id": "reverse-picking",
   "metadata": {
    "execution": {
     "iopub.execute_input": "2021-08-18T05:00:06.990767Z",
     "iopub.status.busy": "2021-08-18T05:00:06.988663Z",
     "iopub.status.idle": "2021-08-18T05:00:07.794535Z",
     "shell.execute_reply": "2021-08-18T05:00:07.795876Z"
    },
    "papermill": {
     "duration": 0.857276,
     "end_time": "2021-08-18T05:00:07.796573",
     "exception": false,
     "start_time": "2021-08-18T05:00:06.939297",
     "status": "completed"
    },
    "tags": []
   },
   "outputs": [],
   "source": [
    "import pandas as pd\n",
    "import sqlite3"
   ]
  },
  {
   "cell_type": "code",
   "execution_count": 2,
   "id": "innovative-syndrome",
   "metadata": {
    "execution": {
     "iopub.execute_input": "2021-08-18T05:00:07.847967Z",
     "iopub.status.busy": "2021-08-18T05:00:07.845536Z",
     "iopub.status.idle": "2021-08-18T05:00:07.921370Z",
     "shell.execute_reply": "2021-08-18T05:00:07.922629Z"
    },
    "papermill": {
     "duration": 0.105711,
     "end_time": "2021-08-18T05:00:07.923036",
     "exception": false,
     "start_time": "2021-08-18T05:00:07.817325",
     "status": "completed"
    },
    "tags": []
   },
   "outputs": [],
   "source": [
    "timestamps = pd.read_sql(\"select distinct record_time from EBAY_TOP_BERLIN order by record_time desc limit 2\", sqlite3.connect(\"UsedObjects.db\"))"
   ]
  },
  {
   "cell_type": "code",
   "execution_count": 3,
   "id": "periodic-identification",
   "metadata": {
    "execution": {
     "iopub.execute_input": "2021-08-18T05:00:07.993489Z",
     "iopub.status.busy": "2021-08-18T05:00:07.988410Z",
     "iopub.status.idle": "2021-08-18T05:00:08.008323Z",
     "shell.execute_reply": "2021-08-18T05:00:08.009581Z"
    },
    "papermill": {
     "duration": 0.065209,
     "end_time": "2021-08-18T05:00:08.010083",
     "exception": false,
     "start_time": "2021-08-18T05:00:07.944874",
     "status": "completed"
    },
    "tags": []
   },
   "outputs": [
    {
     "data": {
      "text/html": [
       "<div>\n",
       "<style scoped>\n",
       "    .dataframe tbody tr th:only-of-type {\n",
       "        vertical-align: middle;\n",
       "    }\n",
       "\n",
       "    .dataframe tbody tr th {\n",
       "        vertical-align: top;\n",
       "    }\n",
       "\n",
       "    .dataframe thead th {\n",
       "        text-align: right;\n",
       "    }\n",
       "</style>\n",
       "<table border=\"1\" class=\"dataframe\">\n",
       "  <thead>\n",
       "    <tr style=\"text-align: right;\">\n",
       "      <th></th>\n",
       "      <th>RECORD_TIME</th>\n",
       "    </tr>\n",
       "  </thead>\n",
       "  <tbody>\n",
       "    <tr>\n",
       "      <th>0</th>\n",
       "      <td>2021-08-18 07:00</td>\n",
       "    </tr>\n",
       "    <tr>\n",
       "      <th>1</th>\n",
       "      <td>2021-08-18 06:30</td>\n",
       "    </tr>\n",
       "  </tbody>\n",
       "</table>\n",
       "</div>"
      ],
      "text/plain": [
       "        RECORD_TIME\n",
       "0  2021-08-18 07:00\n",
       "1  2021-08-18 06:30"
      ]
     },
     "execution_count": 3,
     "metadata": {},
     "output_type": "execute_result"
    }
   ],
   "source": [
    "timestamps"
   ]
  },
  {
   "cell_type": "code",
   "execution_count": 4,
   "id": "alternate-victory",
   "metadata": {
    "execution": {
     "iopub.execute_input": "2021-08-18T05:00:08.061967Z",
     "iopub.status.busy": "2021-08-18T05:00:08.060103Z",
     "iopub.status.idle": "2021-08-18T05:00:08.167583Z",
     "shell.execute_reply": "2021-08-18T05:00:08.168789Z"
    },
    "papermill": {
     "duration": 0.137385,
     "end_time": "2021-08-18T05:00:08.169182",
     "exception": false,
     "start_time": "2021-08-18T05:00:08.031797",
     "status": "completed"
    },
    "tags": []
   },
   "outputs": [],
   "source": [
    "df = pd.read_sql(\"select * from EBAY_TOP_BERLIN where record_time in (select distinct record_time from EBAY_TOP_BERLIN order by record_time desc limit 2)\", sqlite3.connect(\"UsedObjects.db\"))"
   ]
  },
  {
   "cell_type": "code",
   "execution_count": 5,
   "id": "popular-active",
   "metadata": {
    "execution": {
     "iopub.execute_input": "2021-08-18T05:00:08.242681Z",
     "iopub.status.busy": "2021-08-18T05:00:08.230907Z",
     "iopub.status.idle": "2021-08-18T05:00:08.258505Z",
     "shell.execute_reply": "2021-08-18T05:00:08.259749Z"
    },
    "papermill": {
     "duration": 0.0682,
     "end_time": "2021-08-18T05:00:08.260147",
     "exception": false,
     "start_time": "2021-08-18T05:00:08.191947",
     "status": "completed"
    },
    "tags": []
   },
   "outputs": [],
   "source": [
    "df_pivot = df.pivot_table(index=\"PRODUCT\", columns = \"RECORD_TIME\", values = \"LISTING_COUNT\")"
   ]
  },
  {
   "cell_type": "code",
   "execution_count": 6,
   "id": "union-huntington",
   "metadata": {
    "execution": {
     "iopub.execute_input": "2021-08-18T05:00:08.318349Z",
     "iopub.status.busy": "2021-08-18T05:00:08.316031Z",
     "iopub.status.idle": "2021-08-18T05:00:08.322092Z",
     "shell.execute_reply": "2021-08-18T05:00:08.323475Z"
    },
    "papermill": {
     "duration": 0.04217,
     "end_time": "2021-08-18T05:00:08.323966",
     "exception": false,
     "start_time": "2021-08-18T05:00:08.281796",
     "status": "completed"
    },
    "tags": []
   },
   "outputs": [],
   "source": [
    "df_pivot.columns = [\"stamp_1\", \"stamp_2\"]\n",
    "df_pivot_diff = df_pivot.diff(axis=1)"
   ]
  },
  {
   "cell_type": "code",
   "execution_count": 7,
   "id": "fifth-motion",
   "metadata": {
    "execution": {
     "iopub.execute_input": "2021-08-18T05:00:08.379709Z",
     "iopub.status.busy": "2021-08-18T05:00:08.377232Z",
     "iopub.status.idle": "2021-08-18T05:00:09.842729Z",
     "shell.execute_reply": "2021-08-18T05:00:09.844035Z"
    },
    "papermill": {
     "duration": 1.498674,
     "end_time": "2021-08-18T05:00:09.844454",
     "exception": false,
     "start_time": "2021-08-18T05:00:08.345780",
     "status": "completed"
    },
    "tags": []
   },
   "outputs": [
    {
     "data": {
      "text/plain": [
       "<AxesSubplot:ylabel='PRODUCT'>"
      ]
     },
     "execution_count": 7,
     "metadata": {},
     "output_type": "execute_result"
    },
    {
     "data": {
      "image/png": "[encoded data removed]",
      "text/plain": [
       "<Figure size 432x288 with 1 Axes>"
      ]
     },
     "metadata": {
      "needs_background": "light"
     },
     "output_type": "display_data"
    }
   ],
   "source": [
    "df_pivot_diff.sort_values(\"stamp_2\", ascending = False)[\"stamp_2\"].head(10).plot.barh()"
   ]
  },
  {
   "cell_type": "code",
   "execution_count": null,
   "id": "extra-executive",
   "metadata": {
    "papermill": {
     "duration": 0.022286,
     "end_time": "2021-08-18T05:00:09.891550",
     "exception": false,
     "start_time": "2021-08-18T05:00:09.869264",
     "status": "completed"
    },
    "tags": []
   },
   "outputs": [],
   "source": []
  }
 ],
 "metadata": {
  "kernelspec": {
   "display_name": "Python 3",
   "language": "python",
   "name": "python3"
  },
  "language_info": {
   "codemirror_mode": {
    "name": "ipython",
    "version": 3
   },
   "file_extension": ".py",
   "mimetype": "text/x-python",
   "name": "python",
   "nbconvert_exporter": "python",
   "pygments_lexer": "ipython3",
   "version": "3.9.5"
  },
  "papermill": {
   "default_parameters": {},
   "duration": 6.836089,
   "end_time": "2021-08-18T05:00:11.368357",
   "environment_variables": {},
   "exception": null,
   "input_path": "eBay_Overview.ipynb",
   "output_path": "eBay_Overview.ipynb",
   "parameters": {},
   "start_time": "2021-08-18T05:00:04.532268",
   "version": "2.3.3"
  }
 },
 "nbformat": 4,
 "nbformat_minor": 5
}