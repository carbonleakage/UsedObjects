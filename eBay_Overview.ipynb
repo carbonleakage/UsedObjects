{
 "cells": [
  {
   "cell_type": "code",
   "execution_count": 1,
   "id": "reverse-picking",
   "metadata": {
    "execution": {
     "iopub.execute_input": "2021-08-15T18:00:06.947862Z",
     "iopub.status.busy": "2021-08-15T18:00:06.945781Z",
     "iopub.status.idle": "2021-08-15T18:00:07.755097Z",
     "shell.execute_reply": "2021-08-15T18:00:07.756360Z"
    },
    "papermill": {
     "duration": 0.861902,
     "end_time": "2021-08-15T18:00:07.756964",
     "exception": false,
     "start_time": "2021-08-15T18:00:06.895062",
     "status": "completed"
    },
    "tags": []
   },
   "outputs": [],
   "source": [
    "import pandas as pd\n",
    "import sqlite3"
   ]
  },
  {
   "cell_type": "code",
   "execution_count": 2,
   "id": "innovative-syndrome",
   "metadata": {
    "execution": {
     "iopub.execute_input": "2021-08-15T18:00:07.810506Z",
     "iopub.status.busy": "2021-08-15T18:00:07.808068Z",
     "iopub.status.idle": "2021-08-15T18:00:07.866645Z",
     "shell.execute_reply": "2021-08-15T18:00:07.868072Z"
    },
    "papermill": {
     "duration": 0.088609,
     "end_time": "2021-08-15T18:00:07.868508",
     "exception": false,
     "start_time": "2021-08-15T18:00:07.779899",
     "status": "completed"
    },
    "tags": []
   },
   "outputs": [],
   "source": [
    "timestamps = pd.read_sql(\"select distinct record_time from EBAY_TOP_BERLIN order by record_time desc limit 2\", sqlite3.connect(\"UsedObjects.db\"))"
   ]
  },
  {
   "cell_type": "code",
   "execution_count": 3,
   "id": "periodic-identification",
   "metadata": {
    "execution": {
     "iopub.execute_input": "2021-08-15T18:00:07.935105Z",
     "iopub.status.busy": "2021-08-15T18:00:07.932961Z",
     "iopub.status.idle": "2021-08-15T18:00:07.955051Z",
     "shell.execute_reply": "2021-08-15T18:00:07.953546Z"
    },
    "papermill": {
     "duration": 0.067234,
     "end_time": "2021-08-15T18:00:07.955411",
     "exception": false,
     "start_time": "2021-08-15T18:00:07.888177",
     "status": "completed"
    },
    "tags": []
   },
   "outputs": [
    {
     "data": {
      "text/html": [
       "<div>\n",
       "<style scoped>\n",
       "    .dataframe tbody tr th:only-of-type {\n",
       "        vertical-align: middle;\n",
       "    }\n",
       "\n",
       "    .dataframe tbody tr th {\n",
       "        vertical-align: top;\n",
       "    }\n",
       "\n",
       "    .dataframe thead th {\n",
       "        text-align: right;\n",
       "    }\n",
       "</style>\n",
       "<table border=\"1\" class=\"dataframe\">\n",
       "  <thead>\n",
       "    <tr style=\"text-align: right;\">\n",
       "      <th></th>\n",
       "      <th>RECORD_TIME</th>\n",
       "    </tr>\n",
       "  </thead>\n",
       "  <tbody>\n",
       "    <tr>\n",
       "      <th>0</th>\n",
       "      <td>2021-08-15 20:00</td>\n",
       "    </tr>\n",
       "    <tr>\n",
       "      <th>1</th>\n",
       "      <td>2021-08-15 19:30</td>\n",
       "    </tr>\n",
       "  </tbody>\n",
       "</table>\n",
       "</div>"
      ],
      "text/plain": [
       "        RECORD_TIME\n",
       "0  2021-08-15 20:00\n",
       "1  2021-08-15 19:30"
      ]
     },
     "execution_count": 3,
     "metadata": {},
     "output_type": "execute_result"
    }
   ],
   "source": [
    "timestamps"
   ]
  },
  {
   "cell_type": "code",
   "execution_count": 4,
   "id": "alternate-victory",
   "metadata": {
    "execution": {
     "iopub.execute_input": "2021-08-15T18:00:08.006609Z",
     "iopub.status.busy": "2021-08-15T18:00:08.004612Z",
     "iopub.status.idle": "2021-08-15T18:00:08.088335Z",
     "shell.execute_reply": "2021-08-15T18:00:08.089540Z"
    },
    "papermill": {
     "duration": 0.113766,
     "end_time": "2021-08-15T18:00:08.090128",
     "exception": false,
     "start_time": "2021-08-15T18:00:07.976362",
     "status": "completed"
    },
    "tags": []
   },
   "outputs": [],
   "source": [
    "df = pd.read_sql(\"select * from EBAY_TOP_BERLIN where record_time in (select distinct record_time from EBAY_TOP_BERLIN order by record_time desc limit 2)\", sqlite3.connect(\"UsedObjects.db\"))"
   ]
  },
  {
   "cell_type": "code",
   "execution_count": 5,
   "id": "popular-active",
   "metadata": {
    "execution": {
     "iopub.execute_input": "2021-08-15T18:00:08.150750Z",
     "iopub.status.busy": "2021-08-15T18:00:08.148487Z",
     "iopub.status.idle": "2021-08-15T18:00:08.175765Z",
     "shell.execute_reply": "2021-08-15T18:00:08.176962Z"
    },
    "papermill": {
     "duration": 0.067054,
     "end_time": "2021-08-15T18:00:08.177357",
     "exception": false,
     "start_time": "2021-08-15T18:00:08.110303",
     "status": "completed"
    },
    "tags": []
   },
   "outputs": [],
   "source": [
    "df_pivot = df.pivot_table(index=\"PRODUCT\", columns = \"RECORD_TIME\", values = \"LISTING_COUNT\")"
   ]
  },
  {
   "cell_type": "code",
   "execution_count": 6,
   "id": "union-huntington",
   "metadata": {
    "execution": {
     "iopub.execute_input": "2021-08-15T18:00:08.233057Z",
     "iopub.status.busy": "2021-08-15T18:00:08.230971Z",
     "iopub.status.idle": "2021-08-15T18:00:08.237540Z",
     "shell.execute_reply": "2021-08-15T18:00:08.236167Z"
    },
    "papermill": {
     "duration": 0.040153,
     "end_time": "2021-08-15T18:00:08.237994",
     "exception": false,
     "start_time": "2021-08-15T18:00:08.197841",
     "status": "completed"
    },
    "tags": []
   },
   "outputs": [],
   "source": [
    "df_pivot.columns = [\"stamp_1\", \"stamp_2\"]\n",
    "df_pivot_diff = df_pivot.diff(axis=1)"
   ]
  },
  {
   "cell_type": "code",
   "execution_count": 7,
   "id": "fifth-motion",
   "metadata": {
    "execution": {
     "iopub.execute_input": "2021-08-15T18:00:08.292800Z",
     "iopub.status.busy": "2021-08-15T18:00:08.290148Z",
     "iopub.status.idle": "2021-08-15T18:00:09.769300Z",
     "shell.execute_reply": "2021-08-15T18:00:09.770804Z"
    },
    "papermill": {
     "duration": 1.513118,
     "end_time": "2021-08-15T18:00:09.771263",
     "exception": false,
     "start_time": "2021-08-15T18:00:08.258145",
     "status": "completed"
    },
    "tags": []
   },
   "outputs": [
    {
     "data": {
      "text/plain": [
       "<AxesSubplot:ylabel='PRODUCT'>"
      ]
     },
     "execution_count": 7,
     "metadata": {},
     "output_type": "execute_result"
    },
    {
     "data": {
      "image/png": "[encoded data removed]",
      "text/plain": [
       "<Figure size 432x288 with 1 Axes>"
      ]
     },
     "metadata": {
      "needs_background": "light"
     },
     "output_type": "display_data"
    }
   ],
   "source": [
    "df_pivot_diff.sort_values(\"stamp_2\", ascending = False)[\"stamp_2\"].head(10).plot.barh()"
   ]
  },
  {
   "cell_type": "code",
   "execution_count": null,
   "id": "extra-executive",
   "metadata": {
    "papermill": {
     "duration": 0.022016,
     "end_time": "2021-08-15T18:00:09.816445",
     "exception": false,
     "start_time": "2021-08-15T18:00:09.794429",
     "status": "completed"
    },
    "tags": []
   },
   "outputs": [],
   "source": []
  }
 ],
 "metadata": {
  "kernelspec": {
   "display_name": "Python 3",
   "language": "python",
   "name": "python3"
  },
  "language_info": {
   "codemirror_mode": {
    "name": "ipython",
    "version": 3
   },
   "file_extension": ".py",
   "mimetype": "text/x-python",
   "name": "python",
   "nbconvert_exporter": "python",
   "pygments_lexer": "ipython3",
   "version": "3.9.5"
  },
  "papermill": {
   "default_parameters": {},
   "duration": 6.825677,
   "end_time": "2021-08-15T18:00:11.306543",
   "environment_variables": {},
   "exception": null,
   "input_path": "eBay_Overview.ipynb",
   "output_path": "eBay_Overview.ipynb",
   "parameters": {},
   "start_time": "2021-08-15T18:00:04.480866",
   "version": "2.3.3"
  }
 },
 "nbformat": 4,
 "nbformat_minor": 5
}