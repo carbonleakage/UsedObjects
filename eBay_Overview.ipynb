{
 "cells": [
  {
   "cell_type": "code",
   "execution_count": 1,
   "id": "reverse-picking",
   "metadata": {
    "execution": {
     "iopub.execute_input": "2021-10-13T05:00:06.611493Z",
     "iopub.status.busy": "2021-10-13T05:00:06.609580Z",
     "iopub.status.idle": "2021-10-13T05:00:07.413735Z",
     "shell.execute_reply": "2021-10-13T05:00:07.414996Z"
    },
    "papermill": {
     "duration": 0.856359,
     "end_time": "2021-10-13T05:00:07.415615",
     "exception": false,
     "start_time": "2021-10-13T05:00:06.559256",
     "status": "completed"
    },
    "tags": []
   },
   "outputs": [],
   "source": [
    "import pandas as pd\n",
    "import sqlite3"
   ]
  },
  {
   "cell_type": "code",
   "execution_count": 2,
   "id": "innovative-syndrome",
   "metadata": {
    "execution": {
     "iopub.execute_input": "2021-10-13T05:00:07.467094Z",
     "iopub.status.busy": "2021-10-13T05:00:07.465244Z",
     "iopub.status.idle": "2021-10-13T05:00:07.999569Z",
     "shell.execute_reply": "2021-10-13T05:00:07.998180Z"
    },
    "papermill": {
     "duration": 0.562645,
     "end_time": "2021-10-13T05:00:07.999954",
     "exception": false,
     "start_time": "2021-10-13T05:00:07.437309",
     "status": "completed"
    },
    "tags": []
   },
   "outputs": [],
   "source": [
    "timestamps = pd.read_sql(\"select distinct record_time from EBAY_TOP_BERLIN order by record_time desc limit 2\", sqlite3.connect(\"UsedObjects.db\"))"
   ]
  },
  {
   "cell_type": "code",
   "execution_count": 3,
   "id": "periodic-identification",
   "metadata": {
    "execution": {
     "iopub.execute_input": "2021-10-13T05:00:08.065446Z",
     "iopub.status.busy": "2021-10-13T05:00:08.063341Z",
     "iopub.status.idle": "2021-10-13T05:00:08.083611Z",
     "shell.execute_reply": "2021-10-13T05:00:08.085177Z"
    },
    "papermill": {
     "duration": 0.067013,
     "end_time": "2021-10-13T05:00:08.085688",
     "exception": false,
     "start_time": "2021-10-13T05:00:08.018675",
     "status": "completed"
    },
    "tags": []
   },
   "outputs": [
    {
     "data": {
      "text/html": [
       "<div>\n",
       "<style scoped>\n",
       "    .dataframe tbody tr th:only-of-type {\n",
       "        vertical-align: middle;\n",
       "    }\n",
       "\n",
       "    .dataframe tbody tr th {\n",
       "        vertical-align: top;\n",
       "    }\n",
       "\n",
       "    .dataframe thead th {\n",
       "        text-align: right;\n",
       "    }\n",
       "</style>\n",
       "<table border=\"1\" class=\"dataframe\">\n",
       "  <thead>\n",
       "    <tr style=\"text-align: right;\">\n",
       "      <th></th>\n",
       "      <th>RECORD_TIME</th>\n",
       "    </tr>\n",
       "  </thead>\n",
       "  <tbody>\n",
       "    <tr>\n",
       "      <th>0</th>\n",
       "      <td>2021-10-13 07:00</td>\n",
       "    </tr>\n",
       "    <tr>\n",
       "      <th>1</th>\n",
       "      <td>2021-10-13 06:30</td>\n",
       "    </tr>\n",
       "  </tbody>\n",
       "</table>\n",
       "</div>"
      ],
      "text/plain": [
       "        RECORD_TIME\n",
       "0  2021-10-13 07:00\n",
       "1  2021-10-13 06:30"
      ]
     },
     "execution_count": 3,
     "metadata": {},
     "output_type": "execute_result"
    }
   ],
   "source": [
    "timestamps"
   ]
  },
  {
   "cell_type": "code",
   "execution_count": 4,
   "id": "alternate-victory",
   "metadata": {
    "execution": {
     "iopub.execute_input": "2021-10-13T05:00:08.148675Z",
     "iopub.status.busy": "2021-10-13T05:00:08.146694Z",
     "iopub.status.idle": "2021-10-13T05:00:08.921460Z",
     "shell.execute_reply": "2021-10-13T05:00:08.922909Z"
    },
    "papermill": {
     "duration": 0.810232,
     "end_time": "2021-10-13T05:00:08.923354",
     "exception": false,
     "start_time": "2021-10-13T05:00:08.113122",
     "status": "completed"
    },
    "tags": []
   },
   "outputs": [],
   "source": [
    "df = pd.read_sql(\"select * from EBAY_TOP_BERLIN where record_time in (select distinct record_time from EBAY_TOP_BERLIN order by record_time desc limit 2)\", sqlite3.connect(\"UsedObjects.db\"))"
   ]
  },
  {
   "cell_type": "code",
   "execution_count": 5,
   "id": "popular-active",
   "metadata": {
    "execution": {
     "iopub.execute_input": "2021-10-13T05:00:08.995103Z",
     "iopub.status.busy": "2021-10-13T05:00:08.988336Z",
     "iopub.status.idle": "2021-10-13T05:00:09.019431Z",
     "shell.execute_reply": "2021-10-13T05:00:09.021133Z"
    },
    "papermill": {
     "duration": 0.077309,
     "end_time": "2021-10-13T05:00:09.021657",
     "exception": false,
     "start_time": "2021-10-13T05:00:08.944348",
     "status": "completed"
    },
    "tags": []
   },
   "outputs": [],
   "source": [
    "df_pivot = df.pivot_table(index=\"PRODUCT\", columns = \"RECORD_TIME\", values = \"LISTING_COUNT\")"
   ]
  },
  {
   "cell_type": "code",
   "execution_count": 6,
   "id": "union-huntington",
   "metadata": {
    "execution": {
     "iopub.execute_input": "2021-10-13T05:00:09.077715Z",
     "iopub.status.busy": "2021-10-13T05:00:09.075534Z",
     "iopub.status.idle": "2021-10-13T05:00:09.081332Z",
     "shell.execute_reply": "2021-10-13T05:00:09.082795Z"
    },
    "papermill": {
     "duration": 0.041277,
     "end_time": "2021-10-13T05:00:09.083227",
     "exception": false,
     "start_time": "2021-10-13T05:00:09.041950",
     "status": "completed"
    },
    "tags": []
   },
   "outputs": [],
   "source": [
    "df_pivot.columns = [\"stamp_1\", \"stamp_2\"]\n",
    "df_pivot_diff = df_pivot.diff(axis=1)"
   ]
  },
  {
   "cell_type": "code",
   "execution_count": 7,
   "id": "fifth-motion",
   "metadata": {
    "execution": {
     "iopub.execute_input": "2021-10-13T05:00:09.138689Z",
     "iopub.status.busy": "2021-10-13T05:00:09.135946Z",
     "iopub.status.idle": "2021-10-13T05:00:10.613037Z",
     "shell.execute_reply": "2021-10-13T05:00:10.611434Z"
    },
    "papermill": {
     "duration": 1.50985,
     "end_time": "2021-10-13T05:00:10.613423",
     "exception": false,
     "start_time": "2021-10-13T05:00:09.103573",
     "status": "completed"
    },
    "tags": []
   },
   "outputs": [
    {
     "data": {
      "text/plain": [
       "<AxesSubplot:ylabel='PRODUCT'>"
      ]
     },
     "execution_count": 7,
     "metadata": {},
     "output_type": "execute_result"
    },
    {
     "data": {
      "image/png": "[encoded data removed]",
      "text/plain": [
       "<Figure size 432x288 with 1 Axes>"
      ]
     },
     "metadata": {
      "needs_background": "light"
     },
     "output_type": "display_data"
    }
   ],
   "source": [
    "df_pivot_diff.sort_values(\"stamp_2\", ascending = False)[\"stamp_2\"].head(10).plot.barh()"
   ]
  },
  {
   "cell_type": "code",
   "execution_count": null,
   "id": "extra-executive",
   "metadata": {
    "papermill": {
     "duration": 0.022294,
     "end_time": "2021-10-13T05:00:10.661718",
     "exception": false,
     "start_time": "2021-10-13T05:00:10.639424",
     "status": "completed"
    },
    "tags": []
   },
   "outputs": [],
   "source": []
  }
 ],
 "metadata": {
  "kernelspec": {
   "display_name": "Python 3",
   "language": "python",
   "name": "python3"
  },
  "language_info": {
   "codemirror_mode": {
    "name": "ipython",
    "version": 3
   },
   "file_extension": ".py",
   "mimetype": "text/x-python",
   "name": "python",
   "nbconvert_exporter": "python",
   "pygments_lexer": "ipython3",
   "version": "3.9.5"
  },
  "papermill": {
   "default_parameters": {},
   "duration": 7.816503,
   "end_time": "2021-10-13T05:00:11.982413",
   "environment_variables": {},
   "exception": null,
   "input_path": "eBay_Overview.ipynb",
   "output_path": "eBay_Overview.ipynb",
   "parameters": {},
   "start_time": "2021-10-13T05:00:04.165910",
   "version": "2.3.3"
  }
 },
 "nbformat": 4,
 "nbformat_minor": 5
}