{
 "cells": [
  {
   "cell_type": "code",
   "execution_count": 1,
   "id": "reverse-picking",
   "metadata": {
    "execution": {
     "iopub.execute_input": "2021-12-15T03:30:07.845347Z",
     "iopub.status.busy": "2021-12-15T03:30:07.842911Z",
     "iopub.status.idle": "2021-12-15T03:30:08.799290Z",
     "shell.execute_reply": "2021-12-15T03:30:08.801080Z"
    },
    "papermill": {
     "duration": 1.007156,
     "end_time": "2021-12-15T03:30:08.801834",
     "exception": false,
     "start_time": "2021-12-15T03:30:07.794678",
     "status": "completed"
    },
    "tags": []
   },
   "outputs": [],
   "source": [
    "import pandas as pd\n",
    "import sqlite3"
   ]
  },
  {
   "cell_type": "code",
   "execution_count": 2,
   "id": "innovative-syndrome",
   "metadata": {
    "execution": {
     "iopub.execute_input": "2021-12-15T03:30:08.920514Z",
     "iopub.status.busy": "2021-12-15T03:30:08.918136Z",
     "iopub.status.idle": "2021-12-15T03:30:09.997356Z",
     "shell.execute_reply": "2021-12-15T03:30:09.998932Z"
    },
    "papermill": {
     "duration": 1.113304,
     "end_time": "2021-12-15T03:30:09.999466",
     "exception": false,
     "start_time": "2021-12-15T03:30:08.886162",
     "status": "completed"
    },
    "tags": []
   },
   "outputs": [],
   "source": [
    "timestamps = pd.read_sql(\"select distinct record_time from EBAY_TOP_BERLIN order by record_time desc limit 2\", sqlite3.connect(\"UsedObjects.db\"))"
   ]
  },
  {
   "cell_type": "code",
   "execution_count": 3,
   "id": "periodic-identification",
   "metadata": {
    "execution": {
     "iopub.execute_input": "2021-12-15T03:30:10.072072Z",
     "iopub.status.busy": "2021-12-15T03:30:10.070073Z",
     "iopub.status.idle": "2021-12-15T03:30:10.092477Z",
     "shell.execute_reply": "2021-12-15T03:30:10.090773Z"
    },
    "papermill": {
     "duration": 0.072392,
     "end_time": "2021-12-15T03:30:10.092948",
     "exception": false,
     "start_time": "2021-12-15T03:30:10.020556",
     "status": "completed"
    },
    "tags": []
   },
   "outputs": [
    {
     "data": {
      "text/html": [
       "<div>\n",
       "<style scoped>\n",
       "    .dataframe tbody tr th:only-of-type {\n",
       "        vertical-align: middle;\n",
       "    }\n",
       "\n",
       "    .dataframe tbody tr th {\n",
       "        vertical-align: top;\n",
       "    }\n",
       "\n",
       "    .dataframe thead th {\n",
       "        text-align: right;\n",
       "    }\n",
       "</style>\n",
       "<table border=\"1\" class=\"dataframe\">\n",
       "  <thead>\n",
       "    <tr style=\"text-align: right;\">\n",
       "      <th></th>\n",
       "      <th>RECORD_TIME</th>\n",
       "    </tr>\n",
       "  </thead>\n",
       "  <tbody>\n",
       "    <tr>\n",
       "      <th>0</th>\n",
       "      <td>2021-12-15 04:30</td>\n",
       "    </tr>\n",
       "    <tr>\n",
       "      <th>1</th>\n",
       "      <td>2021-12-15 04:00</td>\n",
       "    </tr>\n",
       "  </tbody>\n",
       "</table>\n",
       "</div>"
      ],
      "text/plain": [
       "        RECORD_TIME\n",
       "0  2021-12-15 04:30\n",
       "1  2021-12-15 04:00"
      ]
     },
     "execution_count": 3,
     "metadata": {},
     "output_type": "execute_result"
    }
   ],
   "source": [
    "timestamps"
   ]
  },
  {
   "cell_type": "code",
   "execution_count": 4,
   "id": "alternate-victory",
   "metadata": {
    "execution": {
     "iopub.execute_input": "2021-12-15T03:30:10.145443Z",
     "iopub.status.busy": "2021-12-15T03:30:10.143501Z",
     "iopub.status.idle": "2021-12-15T03:30:11.721317Z",
     "shell.execute_reply": "2021-12-15T03:30:11.722826Z"
    },
    "papermill": {
     "duration": 1.607975,
     "end_time": "2021-12-15T03:30:11.723305",
     "exception": false,
     "start_time": "2021-12-15T03:30:10.115330",
     "status": "completed"
    },
    "tags": []
   },
   "outputs": [],
   "source": [
    "df = pd.read_sql(\"select * from EBAY_TOP_BERLIN where record_time in (select distinct record_time from EBAY_TOP_BERLIN order by record_time desc limit 2)\", sqlite3.connect(\"UsedObjects.db\"))"
   ]
  },
  {
   "cell_type": "code",
   "execution_count": 5,
   "id": "popular-active",
   "metadata": {
    "execution": {
     "iopub.execute_input": "2021-12-15T03:30:11.799018Z",
     "iopub.status.busy": "2021-12-15T03:30:11.786748Z",
     "iopub.status.idle": "2021-12-15T03:30:11.818272Z",
     "shell.execute_reply": "2021-12-15T03:30:11.819643Z"
    },
    "papermill": {
     "duration": 0.07365,
     "end_time": "2021-12-15T03:30:11.820114",
     "exception": false,
     "start_time": "2021-12-15T03:30:11.746464",
     "status": "completed"
    },
    "tags": []
   },
   "outputs": [],
   "source": [
    "df_pivot = df.pivot_table(index=\"PRODUCT\", columns = \"RECORD_TIME\", values = \"LISTING_COUNT\")"
   ]
  },
  {
   "cell_type": "code",
   "execution_count": 6,
   "id": "union-huntington",
   "metadata": {
    "execution": {
     "iopub.execute_input": "2021-12-15T03:30:11.877778Z",
     "iopub.status.busy": "2021-12-15T03:30:11.867413Z",
     "iopub.status.idle": "2021-12-15T03:30:11.884626Z",
     "shell.execute_reply": "2021-12-15T03:30:11.883048Z"
    },
    "papermill": {
     "duration": 0.044921,
     "end_time": "2021-12-15T03:30:11.885097",
     "exception": false,
     "start_time": "2021-12-15T03:30:11.840176",
     "status": "completed"
    },
    "tags": []
   },
   "outputs": [],
   "source": [
    "df_pivot.columns = [\"stamp_1\", \"stamp_2\"]\n",
    "df_pivot_diff = df_pivot.diff(axis=1)"
   ]
  },
  {
   "cell_type": "code",
   "execution_count": 7,
   "id": "fifth-motion",
   "metadata": {
    "execution": {
     "iopub.execute_input": "2021-12-15T03:30:11.943587Z",
     "iopub.status.busy": "2021-12-15T03:30:11.941142Z",
     "iopub.status.idle": "2021-12-15T03:30:13.967342Z",
     "shell.execute_reply": "2021-12-15T03:30:13.968628Z"
    },
    "papermill": {
     "duration": 2.062196,
     "end_time": "2021-12-15T03:30:13.969120",
     "exception": false,
     "start_time": "2021-12-15T03:30:11.906924",
     "status": "completed"
    },
    "tags": []
   },
   "outputs": [
    {
     "data": {
      "text/plain": [
       "<AxesSubplot:ylabel='PRODUCT'>"
      ]
     },
     "execution_count": 7,
     "metadata": {},
     "output_type": "execute_result"
    },
    {
     "data": {
      "image/png": "[encoded data removed]",
      "text/plain": [
       "<Figure size 432x288 with 1 Axes>"
      ]
     },
     "metadata": {
      "needs_background": "light"
     },
     "output_type": "display_data"
    }
   ],
   "source": [
    "df_pivot_diff.sort_values(\"stamp_2\", ascending = False)[\"stamp_2\"].head(10).plot.barh()"
   ]
  },
  {
   "cell_type": "code",
   "execution_count": null,
   "id": "extra-executive",
   "metadata": {
    "papermill": {
     "duration": 0.024898,
     "end_time": "2021-12-15T03:30:14.025202",
     "exception": false,
     "start_time": "2021-12-15T03:30:14.000304",
     "status": "completed"
    },
    "tags": []
   },
   "outputs": [],
   "source": []
  }
 ],
 "metadata": {
  "kernelspec": {
   "display_name": "Python 3",
   "language": "python",
   "name": "python3"
  },
  "language_info": {
   "codemirror_mode": {
    "name": "ipython",
    "version": 3
   },
   "file_extension": ".py",
   "mimetype": "text/x-python",
   "name": "python",
   "nbconvert_exporter": "python",
   "pygments_lexer": "ipython3",
   "version": "3.9.5"
  },
  "papermill": {
   "default_parameters": {},
   "duration": 9.586127,
   "end_time": "2021-12-15T03:30:14.668905",
   "environment_variables": {},
   "exception": null,
   "input_path": "eBay_Overview.ipynb",
   "output_path": "eBay_Overview.ipynb",
   "parameters": {},
   "start_time": "2021-12-15T03:30:05.082778",
   "version": "2.3.3"
  }
 },
 "nbformat": 4,
 "nbformat_minor": 5
}