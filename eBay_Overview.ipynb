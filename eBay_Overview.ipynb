{
 "cells": [
  {
   "cell_type": "code",
   "execution_count": 1,
   "id": "reverse-picking",
   "metadata": {
    "execution": {
     "iopub.execute_input": "2021-10-22T09:00:07.230177Z",
     "iopub.status.busy": "2021-10-22T09:00:07.228162Z",
     "iopub.status.idle": "2021-10-22T09:00:08.033977Z",
     "shell.execute_reply": "2021-10-22T09:00:08.035260Z"
    },
    "papermill": {
     "duration": 0.855655,
     "end_time": "2021-10-22T09:00:08.035878",
     "exception": false,
     "start_time": "2021-10-22T09:00:07.180223",
     "status": "completed"
    },
    "tags": []
   },
   "outputs": [],
   "source": [
    "import pandas as pd\n",
    "import sqlite3"
   ]
  },
  {
   "cell_type": "code",
   "execution_count": 2,
   "id": "innovative-syndrome",
   "metadata": {
    "execution": {
     "iopub.execute_input": "2021-10-22T09:00:08.085373Z",
     "iopub.status.busy": "2021-10-22T09:00:08.083381Z",
     "iopub.status.idle": "2021-10-22T09:00:08.695611Z",
     "shell.execute_reply": "2021-10-22T09:00:08.697024Z"
    },
    "papermill": {
     "duration": 0.641738,
     "end_time": "2021-10-22T09:00:08.697473",
     "exception": false,
     "start_time": "2021-10-22T09:00:08.055735",
     "status": "completed"
    },
    "tags": []
   },
   "outputs": [],
   "source": [
    "timestamps = pd.read_sql(\"select distinct record_time from EBAY_TOP_BERLIN order by record_time desc limit 2\", sqlite3.connect(\"UsedObjects.db\"))"
   ]
  },
  {
   "cell_type": "code",
   "execution_count": 3,
   "id": "periodic-identification",
   "metadata": {
    "execution": {
     "iopub.execute_input": "2021-10-22T09:00:08.774753Z",
     "iopub.status.busy": "2021-10-22T09:00:08.772673Z",
     "iopub.status.idle": "2021-10-22T09:00:08.792491Z",
     "shell.execute_reply": "2021-10-22T09:00:08.794020Z"
    },
    "papermill": {
     "duration": 0.069274,
     "end_time": "2021-10-22T09:00:08.794623",
     "exception": false,
     "start_time": "2021-10-22T09:00:08.725349",
     "status": "completed"
    },
    "tags": []
   },
   "outputs": [
    {
     "data": {
      "text/html": [
       "<div>\n",
       "<style scoped>\n",
       "    .dataframe tbody tr th:only-of-type {\n",
       "        vertical-align: middle;\n",
       "    }\n",
       "\n",
       "    .dataframe tbody tr th {\n",
       "        vertical-align: top;\n",
       "    }\n",
       "\n",
       "    .dataframe thead th {\n",
       "        text-align: right;\n",
       "    }\n",
       "</style>\n",
       "<table border=\"1\" class=\"dataframe\">\n",
       "  <thead>\n",
       "    <tr style=\"text-align: right;\">\n",
       "      <th></th>\n",
       "      <th>RECORD_TIME</th>\n",
       "    </tr>\n",
       "  </thead>\n",
       "  <tbody>\n",
       "    <tr>\n",
       "      <th>0</th>\n",
       "      <td>2021-10-22 11:00</td>\n",
       "    </tr>\n",
       "    <tr>\n",
       "      <th>1</th>\n",
       "      <td>2021-10-22 10:30</td>\n",
       "    </tr>\n",
       "  </tbody>\n",
       "</table>\n",
       "</div>"
      ],
      "text/plain": [
       "        RECORD_TIME\n",
       "0  2021-10-22 11:00\n",
       "1  2021-10-22 10:30"
      ]
     },
     "execution_count": 3,
     "metadata": {},
     "output_type": "execute_result"
    }
   ],
   "source": [
    "timestamps"
   ]
  },
  {
   "cell_type": "code",
   "execution_count": 4,
   "id": "alternate-victory",
   "metadata": {
    "execution": {
     "iopub.execute_input": "2021-10-22T09:00:08.847829Z",
     "iopub.status.busy": "2021-10-22T09:00:08.845933Z",
     "iopub.status.idle": "2021-10-22T09:00:09.748185Z",
     "shell.execute_reply": "2021-10-22T09:00:09.749483Z"
    },
    "papermill": {
     "duration": 0.932378,
     "end_time": "2021-10-22T09:00:09.749882",
     "exception": false,
     "start_time": "2021-10-22T09:00:08.817504",
     "status": "completed"
    },
    "tags": []
   },
   "outputs": [],
   "source": [
    "df = pd.read_sql(\"select * from EBAY_TOP_BERLIN where record_time in (select distinct record_time from EBAY_TOP_BERLIN order by record_time desc limit 2)\", sqlite3.connect(\"UsedObjects.db\"))"
   ]
  },
  {
   "cell_type": "code",
   "execution_count": 5,
   "id": "popular-active",
   "metadata": {
    "execution": {
     "iopub.execute_input": "2021-10-22T09:00:09.821526Z",
     "iopub.status.busy": "2021-10-22T09:00:09.808207Z",
     "iopub.status.idle": "2021-10-22T09:00:09.837528Z",
     "shell.execute_reply": "2021-10-22T09:00:09.838814Z"
    },
    "papermill": {
     "duration": 0.068808,
     "end_time": "2021-10-22T09:00:09.839218",
     "exception": false,
     "start_time": "2021-10-22T09:00:09.770410",
     "status": "completed"
    },
    "tags": []
   },
   "outputs": [],
   "source": [
    "df_pivot = df.pivot_table(index=\"PRODUCT\", columns = \"RECORD_TIME\", values = \"LISTING_COUNT\")"
   ]
  },
  {
   "cell_type": "code",
   "execution_count": 6,
   "id": "union-huntington",
   "metadata": {
    "execution": {
     "iopub.execute_input": "2021-10-22T09:00:09.894813Z",
     "iopub.status.busy": "2021-10-22T09:00:09.892888Z",
     "iopub.status.idle": "2021-10-22T09:00:09.897790Z",
     "shell.execute_reply": "2021-10-22T09:00:09.898995Z"
    },
    "papermill": {
     "duration": 0.039176,
     "end_time": "2021-10-22T09:00:09.899385",
     "exception": false,
     "start_time": "2021-10-22T09:00:09.860209",
     "status": "completed"
    },
    "tags": []
   },
   "outputs": [],
   "source": [
    "df_pivot.columns = [\"stamp_1\", \"stamp_2\"]\n",
    "df_pivot_diff = df_pivot.diff(axis=1)"
   ]
  },
  {
   "cell_type": "code",
   "execution_count": 7,
   "id": "fifth-motion",
   "metadata": {
    "execution": {
     "iopub.execute_input": "2021-10-22T09:00:09.952652Z",
     "iopub.status.busy": "2021-10-22T09:00:09.950328Z",
     "iopub.status.idle": "2021-10-22T09:00:11.450363Z",
     "shell.execute_reply": "2021-10-22T09:00:11.448761Z"
    },
    "papermill": {
     "duration": 1.531216,
     "end_time": "2021-10-22T09:00:11.450754",
     "exception": false,
     "start_time": "2021-10-22T09:00:09.919538",
     "status": "completed"
    },
    "tags": []
   },
   "outputs": [
    {
     "data": {
      "text/plain": [
       "<AxesSubplot:ylabel='PRODUCT'>"
      ]
     },
     "execution_count": 7,
     "metadata": {},
     "output_type": "execute_result"
    },
    {
     "data": {
      "image/png": "[encoded data removed]",
      "text/plain": [
       "<Figure size 432x288 with 1 Axes>"
      ]
     },
     "metadata": {
      "needs_background": "light"
     },
     "output_type": "display_data"
    }
   ],
   "source": [
    "df_pivot_diff.sort_values(\"stamp_2\", ascending = False)[\"stamp_2\"].head(10).plot.barh()"
   ]
  },
  {
   "cell_type": "code",
   "execution_count": null,
   "id": "extra-executive",
   "metadata": {
    "papermill": {
     "duration": 0.022087,
     "end_time": "2021-10-22T09:00:11.497788",
     "exception": false,
     "start_time": "2021-10-22T09:00:11.475701",
     "status": "completed"
    },
    "tags": []
   },
   "outputs": [],
   "source": []
  }
 ],
 "metadata": {
  "kernelspec": {
   "display_name": "Python 3",
   "language": "python",
   "name": "python3"
  },
  "language_info": {
   "codemirror_mode": {
    "name": "ipython",
    "version": 3
   },
   "file_extension": ".py",
   "mimetype": "text/x-python",
   "name": "python",
   "nbconvert_exporter": "python",
   "pygments_lexer": "ipython3",
   "version": "3.9.5"
  },
  "papermill": {
   "default_parameters": {},
   "duration": 7.365107,
   "end_time": "2021-10-22T09:00:12.141645",
   "environment_variables": {},
   "exception": null,
   "input_path": "eBay_Overview.ipynb",
   "output_path": "eBay_Overview.ipynb",
   "parameters": {},
   "start_time": "2021-10-22T09:00:04.776538",
   "version": "2.3.3"
  }
 },
 "nbformat": 4,
 "nbformat_minor": 5
}