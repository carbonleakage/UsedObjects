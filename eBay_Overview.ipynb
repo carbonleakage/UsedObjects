{
 "cells": [
  {
   "cell_type": "code",
   "execution_count": 1,
   "id": "reverse-picking",
   "metadata": {
    "execution": {
     "iopub.execute_input": "2021-09-05T04:30:07.257415Z",
     "iopub.status.busy": "2021-09-05T04:30:07.255458Z",
     "iopub.status.idle": "2021-09-05T04:30:08.061330Z",
     "shell.execute_reply": "2021-09-05T04:30:08.059670Z"
    },
    "papermill": {
     "duration": 0.857081,
     "end_time": "2021-09-05T04:30:08.061748",
     "exception": false,
     "start_time": "2021-09-05T04:30:07.204667",
     "status": "completed"
    },
    "tags": []
   },
   "outputs": [],
   "source": [
    "import pandas as pd\n",
    "import sqlite3"
   ]
  },
  {
   "cell_type": "code",
   "execution_count": 2,
   "id": "innovative-syndrome",
   "metadata": {
    "execution": {
     "iopub.execute_input": "2021-09-05T04:30:08.112945Z",
     "iopub.status.busy": "2021-09-05T04:30:08.111098Z",
     "iopub.status.idle": "2021-09-05T04:30:08.321021Z",
     "shell.execute_reply": "2021-09-05T04:30:08.322291Z"
    },
    "papermill": {
     "duration": 0.23968,
     "end_time": "2021-09-05T04:30:08.322713",
     "exception": false,
     "start_time": "2021-09-05T04:30:08.083033",
     "status": "completed"
    },
    "tags": []
   },
   "outputs": [],
   "source": [
    "timestamps = pd.read_sql(\"select distinct record_time from EBAY_TOP_BERLIN order by record_time desc limit 2\", sqlite3.connect(\"UsedObjects.db\"))"
   ]
  },
  {
   "cell_type": "code",
   "execution_count": 3,
   "id": "periodic-identification",
   "metadata": {
    "execution": {
     "iopub.execute_input": "2021-09-05T04:30:08.389298Z",
     "iopub.status.busy": "2021-09-05T04:30:08.387283Z",
     "iopub.status.idle": "2021-09-05T04:30:08.407413Z",
     "shell.execute_reply": "2021-09-05T04:30:08.408715Z"
    },
    "papermill": {
     "duration": 0.067088,
     "end_time": "2021-09-05T04:30:08.409136",
     "exception": false,
     "start_time": "2021-09-05T04:30:08.342048",
     "status": "completed"
    },
    "tags": []
   },
   "outputs": [
    {
     "data": {
      "text/html": [
       "<div>\n",
       "<style scoped>\n",
       "    .dataframe tbody tr th:only-of-type {\n",
       "        vertical-align: middle;\n",
       "    }\n",
       "\n",
       "    .dataframe tbody tr th {\n",
       "        vertical-align: top;\n",
       "    }\n",
       "\n",
       "    .dataframe thead th {\n",
       "        text-align: right;\n",
       "    }\n",
       "</style>\n",
       "<table border=\"1\" class=\"dataframe\">\n",
       "  <thead>\n",
       "    <tr style=\"text-align: right;\">\n",
       "      <th></th>\n",
       "      <th>RECORD_TIME</th>\n",
       "    </tr>\n",
       "  </thead>\n",
       "  <tbody>\n",
       "    <tr>\n",
       "      <th>0</th>\n",
       "      <td>2021-09-05 06:30</td>\n",
       "    </tr>\n",
       "    <tr>\n",
       "      <th>1</th>\n",
       "      <td>2021-09-05 06:00</td>\n",
       "    </tr>\n",
       "  </tbody>\n",
       "</table>\n",
       "</div>"
      ],
      "text/plain": [
       "        RECORD_TIME\n",
       "0  2021-09-05 06:30\n",
       "1  2021-09-05 06:00"
      ]
     },
     "execution_count": 3,
     "metadata": {},
     "output_type": "execute_result"
    }
   ],
   "source": [
    "timestamps"
   ]
  },
  {
   "cell_type": "code",
   "execution_count": 4,
   "id": "alternate-victory",
   "metadata": {
    "execution": {
     "iopub.execute_input": "2021-09-05T04:30:08.461245Z",
     "iopub.status.busy": "2021-09-05T04:30:08.459096Z",
     "iopub.status.idle": "2021-09-05T04:30:08.774988Z",
     "shell.execute_reply": "2021-09-05T04:30:08.776395Z"
    },
    "papermill": {
     "duration": 0.34637,
     "end_time": "2021-09-05T04:30:08.776831",
     "exception": false,
     "start_time": "2021-09-05T04:30:08.430461",
     "status": "completed"
    },
    "tags": []
   },
   "outputs": [],
   "source": [
    "df = pd.read_sql(\"select * from EBAY_TOP_BERLIN where record_time in (select distinct record_time from EBAY_TOP_BERLIN order by record_time desc limit 2)\", sqlite3.connect(\"UsedObjects.db\"))"
   ]
  },
  {
   "cell_type": "code",
   "execution_count": 5,
   "id": "popular-active",
   "metadata": {
    "execution": {
     "iopub.execute_input": "2021-09-05T04:30:08.858043Z",
     "iopub.status.busy": "2021-09-05T04:30:08.846450Z",
     "iopub.status.idle": "2021-09-05T04:30:08.874157Z",
     "shell.execute_reply": "2021-09-05T04:30:08.875618Z"
    },
    "papermill": {
     "duration": 0.073422,
     "end_time": "2021-09-05T04:30:08.876045",
     "exception": false,
     "start_time": "2021-09-05T04:30:08.802623",
     "status": "completed"
    },
    "tags": []
   },
   "outputs": [],
   "source": [
    "df_pivot = df.pivot_table(index=\"PRODUCT\", columns = \"RECORD_TIME\", values = \"LISTING_COUNT\")"
   ]
  },
  {
   "cell_type": "code",
   "execution_count": 6,
   "id": "union-huntington",
   "metadata": {
    "execution": {
     "iopub.execute_input": "2021-09-05T04:30:08.934923Z",
     "iopub.status.busy": "2021-09-05T04:30:08.932461Z",
     "iopub.status.idle": "2021-09-05T04:30:08.938352Z",
     "shell.execute_reply": "2021-09-05T04:30:08.939829Z"
    },
    "papermill": {
     "duration": 0.042733,
     "end_time": "2021-09-05T04:30:08.940292",
     "exception": false,
     "start_time": "2021-09-05T04:30:08.897559",
     "status": "completed"
    },
    "tags": []
   },
   "outputs": [],
   "source": [
    "df_pivot.columns = [\"stamp_1\", \"stamp_2\"]\n",
    "df_pivot_diff = df_pivot.diff(axis=1)"
   ]
  },
  {
   "cell_type": "code",
   "execution_count": 7,
   "id": "fifth-motion",
   "metadata": {
    "execution": {
     "iopub.execute_input": "2021-09-05T04:30:08.994272Z",
     "iopub.status.busy": "2021-09-05T04:30:08.992074Z",
     "iopub.status.idle": "2021-09-05T04:30:10.489091Z",
     "shell.execute_reply": "2021-09-05T04:30:10.490364Z"
    },
    "papermill": {
     "duration": 1.529731,
     "end_time": "2021-09-05T04:30:10.490790",
     "exception": false,
     "start_time": "2021-09-05T04:30:08.961059",
     "status": "completed"
    },
    "tags": []
   },
   "outputs": [
    {
     "data": {
      "text/plain": [
       "<AxesSubplot:ylabel='PRODUCT'>"
      ]
     },
     "execution_count": 7,
     "metadata": {},
     "output_type": "execute_result"
    },
    {
     "data": {
      "image/png": "[encoded data removed]",
      "text/plain": [
       "<Figure size 432x288 with 1 Axes>"
      ]
     },
     "metadata": {
      "needs_background": "light"
     },
     "output_type": "display_data"
    }
   ],
   "source": [
    "df_pivot_diff.sort_values(\"stamp_2\", ascending = False)[\"stamp_2\"].head(10).plot.barh()"
   ]
  },
  {
   "cell_type": "code",
   "execution_count": null,
   "id": "extra-executive",
   "metadata": {
    "papermill": {
     "duration": 0.022322,
     "end_time": "2021-09-05T04:30:10.537954",
     "exception": false,
     "start_time": "2021-09-05T04:30:10.515632",
     "status": "completed"
    },
    "tags": []
   },
   "outputs": [],
   "source": []
  }
 ],
 "metadata": {
  "kernelspec": {
   "display_name": "Python 3",
   "language": "python",
   "name": "python3"
  },
  "language_info": {
   "codemirror_mode": {
    "name": "ipython",
    "version": 3
   },
   "file_extension": ".py",
   "mimetype": "text/x-python",
   "name": "python",
   "nbconvert_exporter": "python",
   "pygments_lexer": "ipython3",
   "version": "3.9.5"
  },
  "papermill": {
   "default_parameters": {},
   "duration": 6.383356,
   "end_time": "2021-09-05T04:30:11.177805",
   "environment_variables": {},
   "exception": null,
   "input_path": "eBay_Overview.ipynb",
   "output_path": "eBay_Overview.ipynb",
   "parameters": {},
   "start_time": "2021-09-05T04:30:04.794449",
   "version": "2.3.3"
  }
 },
 "nbformat": 4,
 "nbformat_minor": 5
}