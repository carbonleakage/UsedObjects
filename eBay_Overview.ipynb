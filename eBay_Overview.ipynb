{
 "cells": [
  {
   "cell_type": "code",
   "execution_count": 1,
   "id": "reverse-picking",
   "metadata": {
    "execution": {
     "iopub.execute_input": "2021-08-20T21:30:06.740310Z",
     "iopub.status.busy": "2021-08-20T21:30:06.738263Z",
     "iopub.status.idle": "2021-08-20T21:30:07.542453Z",
     "shell.execute_reply": "2021-08-20T21:30:07.543742Z"
    },
    "papermill": {
     "duration": 0.854689,
     "end_time": "2021-08-20T21:30:07.544368",
     "exception": false,
     "start_time": "2021-08-20T21:30:06.689679",
     "status": "completed"
    },
    "tags": []
   },
   "outputs": [],
   "source": [
    "import pandas as pd\n",
    "import sqlite3"
   ]
  },
  {
   "cell_type": "code",
   "execution_count": 2,
   "id": "innovative-syndrome",
   "metadata": {
    "execution": {
     "iopub.execute_input": "2021-08-20T21:30:07.595941Z",
     "iopub.status.busy": "2021-08-20T21:30:07.593677Z",
     "iopub.status.idle": "2021-08-20T21:30:07.692436Z",
     "shell.execute_reply": "2021-08-20T21:30:07.693692Z"
    },
    "papermill": {
     "duration": 0.128273,
     "end_time": "2021-08-20T21:30:07.694173",
     "exception": false,
     "start_time": "2021-08-20T21:30:07.565900",
     "status": "completed"
    },
    "tags": []
   },
   "outputs": [],
   "source": [
    "timestamps = pd.read_sql(\"select distinct record_time from EBAY_TOP_BERLIN order by record_time desc limit 2\", sqlite3.connect(\"UsedObjects.db\"))"
   ]
  },
  {
   "cell_type": "code",
   "execution_count": 3,
   "id": "periodic-identification",
   "metadata": {
    "execution": {
     "iopub.execute_input": "2021-08-20T21:30:07.761129Z",
     "iopub.status.busy": "2021-08-20T21:30:07.759128Z",
     "iopub.status.idle": "2021-08-20T21:30:07.780457Z",
     "shell.execute_reply": "2021-08-20T21:30:07.781730Z"
    },
    "papermill": {
     "duration": 0.068464,
     "end_time": "2021-08-20T21:30:07.782204",
     "exception": false,
     "start_time": "2021-08-20T21:30:07.713740",
     "status": "completed"
    },
    "tags": []
   },
   "outputs": [
    {
     "data": {
      "text/html": [
       "<div>\n",
       "<style scoped>\n",
       "    .dataframe tbody tr th:only-of-type {\n",
       "        vertical-align: middle;\n",
       "    }\n",
       "\n",
       "    .dataframe tbody tr th {\n",
       "        vertical-align: top;\n",
       "    }\n",
       "\n",
       "    .dataframe thead th {\n",
       "        text-align: right;\n",
       "    }\n",
       "</style>\n",
       "<table border=\"1\" class=\"dataframe\">\n",
       "  <thead>\n",
       "    <tr style=\"text-align: right;\">\n",
       "      <th></th>\n",
       "      <th>RECORD_TIME</th>\n",
       "    </tr>\n",
       "  </thead>\n",
       "  <tbody>\n",
       "    <tr>\n",
       "      <th>0</th>\n",
       "      <td>2021-08-20 23:30</td>\n",
       "    </tr>\n",
       "    <tr>\n",
       "      <th>1</th>\n",
       "      <td>2021-08-20 23:00</td>\n",
       "    </tr>\n",
       "  </tbody>\n",
       "</table>\n",
       "</div>"
      ],
      "text/plain": [
       "        RECORD_TIME\n",
       "0  2021-08-20 23:30\n",
       "1  2021-08-20 23:00"
      ]
     },
     "execution_count": 3,
     "metadata": {},
     "output_type": "execute_result"
    }
   ],
   "source": [
    "timestamps"
   ]
  },
  {
   "cell_type": "code",
   "execution_count": 4,
   "id": "alternate-victory",
   "metadata": {
    "execution": {
     "iopub.execute_input": "2021-08-20T21:30:07.833863Z",
     "iopub.status.busy": "2021-08-20T21:30:07.832019Z",
     "iopub.status.idle": "2021-08-20T21:30:07.972893Z",
     "shell.execute_reply": "2021-08-20T21:30:07.974156Z"
    },
    "papermill": {
     "duration": 0.170953,
     "end_time": "2021-08-20T21:30:07.974568",
     "exception": false,
     "start_time": "2021-08-20T21:30:07.803615",
     "status": "completed"
    },
    "tags": []
   },
   "outputs": [],
   "source": [
    "df = pd.read_sql(\"select * from EBAY_TOP_BERLIN where record_time in (select distinct record_time from EBAY_TOP_BERLIN order by record_time desc limit 2)\", sqlite3.connect(\"UsedObjects.db\"))"
   ]
  },
  {
   "cell_type": "code",
   "execution_count": 5,
   "id": "popular-active",
   "metadata": {
    "execution": {
     "iopub.execute_input": "2021-08-20T21:30:08.044804Z",
     "iopub.status.busy": "2021-08-20T21:30:08.032081Z",
     "iopub.status.idle": "2021-08-20T21:30:08.061384Z",
     "shell.execute_reply": "2021-08-20T21:30:08.062798Z"
    },
    "papermill": {
     "duration": 0.068218,
     "end_time": "2021-08-20T21:30:08.063210",
     "exception": false,
     "start_time": "2021-08-20T21:30:07.994992",
     "status": "completed"
    },
    "tags": []
   },
   "outputs": [],
   "source": [
    "df_pivot = df.pivot_table(index=\"PRODUCT\", columns = \"RECORD_TIME\", values = \"LISTING_COUNT\")"
   ]
  },
  {
   "cell_type": "code",
   "execution_count": 6,
   "id": "union-huntington",
   "metadata": {
    "execution": {
     "iopub.execute_input": "2021-08-20T21:30:08.121072Z",
     "iopub.status.busy": "2021-08-20T21:30:08.118933Z",
     "iopub.status.idle": "2021-08-20T21:30:08.124469Z",
     "shell.execute_reply": "2021-08-20T21:30:08.125733Z"
    },
    "papermill": {
     "duration": 0.041553,
     "end_time": "2021-08-20T21:30:08.126209",
     "exception": false,
     "start_time": "2021-08-20T21:30:08.084656",
     "status": "completed"
    },
    "tags": []
   },
   "outputs": [],
   "source": [
    "df_pivot.columns = [\"stamp_1\", \"stamp_2\"]\n",
    "df_pivot_diff = df_pivot.diff(axis=1)"
   ]
  },
  {
   "cell_type": "code",
   "execution_count": 7,
   "id": "fifth-motion",
   "metadata": {
    "execution": {
     "iopub.execute_input": "2021-08-20T21:30:08.180270Z",
     "iopub.status.busy": "2021-08-20T21:30:08.177833Z",
     "iopub.status.idle": "2021-08-20T21:30:09.637756Z",
     "shell.execute_reply": "2021-08-20T21:30:09.639096Z"
    },
    "papermill": {
     "duration": 1.49278,
     "end_time": "2021-08-20T21:30:09.639519",
     "exception": false,
     "start_time": "2021-08-20T21:30:08.146739",
     "status": "completed"
    },
    "tags": []
   },
   "outputs": [
    {
     "data": {
      "text/plain": [
       "<AxesSubplot:ylabel='PRODUCT'>"
      ]
     },
     "execution_count": 7,
     "metadata": {},
     "output_type": "execute_result"
    },
    {
     "data": {
      "image/png": "[encoded data removed]",
      "text/plain": [
       "<Figure size 432x288 with 1 Axes>"
      ]
     },
     "metadata": {
      "needs_background": "light"
     },
     "output_type": "display_data"
    }
   ],
   "source": [
    "df_pivot_diff.sort_values(\"stamp_2\", ascending = False)[\"stamp_2\"].head(10).plot.barh()"
   ]
  },
  {
   "cell_type": "code",
   "execution_count": null,
   "id": "extra-executive",
   "metadata": {
    "papermill": {
     "duration": 0.022235,
     "end_time": "2021-08-20T21:30:09.686782",
     "exception": false,
     "start_time": "2021-08-20T21:30:09.664547",
     "status": "completed"
    },
    "tags": []
   },
   "outputs": [],
   "source": []
  }
 ],
 "metadata": {
  "kernelspec": {
   "display_name": "Python 3",
   "language": "python",
   "name": "python3"
  },
  "language_info": {
   "codemirror_mode": {
    "name": "ipython",
    "version": 3
   },
   "file_extension": ".py",
   "mimetype": "text/x-python",
   "name": "python",
   "nbconvert_exporter": "python",
   "pygments_lexer": "ipython3",
   "version": "3.9.5"
  },
  "papermill": {
   "default_parameters": {},
   "duration": 6.820752,
   "end_time": "2021-08-20T21:30:11.112411",
   "environment_variables": {},
   "exception": null,
   "input_path": "eBay_Overview.ipynb",
   "output_path": "eBay_Overview.ipynb",
   "parameters": {},
   "start_time": "2021-08-20T21:30:04.291659",
   "version": "2.3.3"
  }
 },
 "nbformat": 4,
 "nbformat_minor": 5
}