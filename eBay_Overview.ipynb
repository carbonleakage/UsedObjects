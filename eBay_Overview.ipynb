{
 "cells": [
  {
   "cell_type": "code",
   "execution_count": 1,
   "id": "reverse-picking",
   "metadata": {
    "execution": {
     "iopub.execute_input": "2021-10-21T13:30:06.852386Z",
     "iopub.status.busy": "2021-10-21T13:30:06.850420Z",
     "iopub.status.idle": "2021-10-21T13:30:07.659920Z",
     "shell.execute_reply": "2021-10-21T13:30:07.658373Z"
    },
    "papermill": {
     "duration": 0.860072,
     "end_time": "2021-10-21T13:30:07.660316",
     "exception": false,
     "start_time": "2021-10-21T13:30:06.800244",
     "status": "completed"
    },
    "tags": []
   },
   "outputs": [],
   "source": [
    "import pandas as pd\n",
    "import sqlite3"
   ]
  },
  {
   "cell_type": "code",
   "execution_count": 2,
   "id": "innovative-syndrome",
   "metadata": {
    "execution": {
     "iopub.execute_input": "2021-10-21T13:30:07.712231Z",
     "iopub.status.busy": "2021-10-21T13:30:07.710322Z",
     "iopub.status.idle": "2021-10-21T13:30:08.317873Z",
     "shell.execute_reply": "2021-10-21T13:30:08.319100Z"
    },
    "papermill": {
     "duration": 0.637269,
     "end_time": "2021-10-21T13:30:08.319498",
     "exception": false,
     "start_time": "2021-10-21T13:30:07.682229",
     "status": "completed"
    },
    "tags": []
   },
   "outputs": [],
   "source": [
    "timestamps = pd.read_sql(\"select distinct record_time from EBAY_TOP_BERLIN order by record_time desc limit 2\", sqlite3.connect(\"UsedObjects.db\"))"
   ]
  },
  {
   "cell_type": "code",
   "execution_count": 3,
   "id": "periodic-identification",
   "metadata": {
    "execution": {
     "iopub.execute_input": "2021-10-21T13:30:08.396362Z",
     "iopub.status.busy": "2021-10-21T13:30:08.394318Z",
     "iopub.status.idle": "2021-10-21T13:30:08.415813Z",
     "shell.execute_reply": "2021-10-21T13:30:08.417252Z"
    },
    "papermill": {
     "duration": 0.07166,
     "end_time": "2021-10-21T13:30:08.417720",
     "exception": false,
     "start_time": "2021-10-21T13:30:08.346060",
     "status": "completed"
    },
    "tags": []
   },
   "outputs": [
    {
     "data": {
      "text/html": [
       "<div>\n",
       "<style scoped>\n",
       "    .dataframe tbody tr th:only-of-type {\n",
       "        vertical-align: middle;\n",
       "    }\n",
       "\n",
       "    .dataframe tbody tr th {\n",
       "        vertical-align: top;\n",
       "    }\n",
       "\n",
       "    .dataframe thead th {\n",
       "        text-align: right;\n",
       "    }\n",
       "</style>\n",
       "<table border=\"1\" class=\"dataframe\">\n",
       "  <thead>\n",
       "    <tr style=\"text-align: right;\">\n",
       "      <th></th>\n",
       "      <th>RECORD_TIME</th>\n",
       "    </tr>\n",
       "  </thead>\n",
       "  <tbody>\n",
       "    <tr>\n",
       "      <th>0</th>\n",
       "      <td>2021-10-21 15:30</td>\n",
       "    </tr>\n",
       "    <tr>\n",
       "      <th>1</th>\n",
       "      <td>2021-10-21 15:00</td>\n",
       "    </tr>\n",
       "  </tbody>\n",
       "</table>\n",
       "</div>"
      ],
      "text/plain": [
       "        RECORD_TIME\n",
       "0  2021-10-21 15:30\n",
       "1  2021-10-21 15:00"
      ]
     },
     "execution_count": 3,
     "metadata": {},
     "output_type": "execute_result"
    }
   ],
   "source": [
    "timestamps"
   ]
  },
  {
   "cell_type": "code",
   "execution_count": 4,
   "id": "alternate-victory",
   "metadata": {
    "execution": {
     "iopub.execute_input": "2021-10-21T13:30:08.469936Z",
     "iopub.status.busy": "2021-10-21T13:30:08.467527Z",
     "iopub.status.idle": "2021-10-21T13:30:09.371937Z",
     "shell.execute_reply": "2021-10-21T13:30:09.373229Z"
    },
    "papermill": {
     "duration": 0.934921,
     "end_time": "2021-10-21T13:30:09.373626",
     "exception": false,
     "start_time": "2021-10-21T13:30:08.438705",
     "status": "completed"
    },
    "tags": []
   },
   "outputs": [],
   "source": [
    "df = pd.read_sql(\"select * from EBAY_TOP_BERLIN where record_time in (select distinct record_time from EBAY_TOP_BERLIN order by record_time desc limit 2)\", sqlite3.connect(\"UsedObjects.db\"))"
   ]
  },
  {
   "cell_type": "code",
   "execution_count": 5,
   "id": "popular-active",
   "metadata": {
    "execution": {
     "iopub.execute_input": "2021-10-21T13:30:09.440137Z",
     "iopub.status.busy": "2021-10-21T13:30:09.432117Z",
     "iopub.status.idle": "2021-10-21T13:30:09.460441Z",
     "shell.execute_reply": "2021-10-21T13:30:09.461955Z"
    },
    "papermill": {
     "duration": 0.067967,
     "end_time": "2021-10-21T13:30:09.462399",
     "exception": false,
     "start_time": "2021-10-21T13:30:09.394432",
     "status": "completed"
    },
    "tags": []
   },
   "outputs": [],
   "source": [
    "df_pivot = df.pivot_table(index=\"PRODUCT\", columns = \"RECORD_TIME\", values = \"LISTING_COUNT\")"
   ]
  },
  {
   "cell_type": "code",
   "execution_count": 6,
   "id": "union-huntington",
   "metadata": {
    "execution": {
     "iopub.execute_input": "2021-10-21T13:30:09.520808Z",
     "iopub.status.busy": "2021-10-21T13:30:09.518329Z",
     "iopub.status.idle": "2021-10-21T13:30:09.524131Z",
     "shell.execute_reply": "2021-10-21T13:30:09.525503Z"
    },
    "papermill": {
     "duration": 0.042704,
     "end_time": "2021-10-21T13:30:09.525923",
     "exception": false,
     "start_time": "2021-10-21T13:30:09.483219",
     "status": "completed"
    },
    "tags": []
   },
   "outputs": [],
   "source": [
    "df_pivot.columns = [\"stamp_1\", \"stamp_2\"]\n",
    "df_pivot_diff = df_pivot.diff(axis=1)"
   ]
  },
  {
   "cell_type": "code",
   "execution_count": 7,
   "id": "fifth-motion",
   "metadata": {
    "execution": {
     "iopub.execute_input": "2021-10-21T13:30:09.580175Z",
     "iopub.status.busy": "2021-10-21T13:30:09.578001Z",
     "iopub.status.idle": "2021-10-21T13:30:11.068158Z",
     "shell.execute_reply": "2021-10-21T13:30:11.069545Z"
    },
    "papermill": {
     "duration": 1.523081,
     "end_time": "2021-10-21T13:30:11.069980",
     "exception": false,
     "start_time": "2021-10-21T13:30:09.546899",
     "status": "completed"
    },
    "tags": []
   },
   "outputs": [
    {
     "data": {
      "text/plain": [
       "<AxesSubplot:ylabel='PRODUCT'>"
      ]
     },
     "execution_count": 7,
     "metadata": {},
     "output_type": "execute_result"
    },
    {
     "data": {
      "image/png": "[encoded data removed]",
      "text/plain": [
       "<Figure size 432x288 with 1 Axes>"
      ]
     },
     "metadata": {
      "needs_background": "light"
     },
     "output_type": "display_data"
    }
   ],
   "source": [
    "df_pivot_diff.sort_values(\"stamp_2\", ascending = False)[\"stamp_2\"].head(10).plot.barh()"
   ]
  },
  {
   "cell_type": "code",
   "execution_count": null,
   "id": "extra-executive",
   "metadata": {
    "papermill": {
     "duration": 0.022386,
     "end_time": "2021-10-21T13:30:11.116803",
     "exception": false,
     "start_time": "2021-10-21T13:30:11.094417",
     "status": "completed"
    },
    "tags": []
   },
   "outputs": [],
   "source": []
  }
 ],
 "metadata": {
  "kernelspec": {
   "display_name": "Python 3",
   "language": "python",
   "name": "python3"
  },
  "language_info": {
   "codemirror_mode": {
    "name": "ipython",
    "version": 3
   },
   "file_extension": ".py",
   "mimetype": "text/x-python",
   "name": "python",
   "nbconvert_exporter": "python",
   "pygments_lexer": "ipython3",
   "version": "3.9.5"
  },
  "papermill": {
   "default_parameters": {},
   "duration": 7.373763,
   "end_time": "2021-10-21T13:30:11.760468",
   "environment_variables": {},
   "exception": null,
   "input_path": "eBay_Overview.ipynb",
   "output_path": "eBay_Overview.ipynb",
   "parameters": {},
   "start_time": "2021-10-21T13:30:04.386705",
   "version": "2.3.3"
  }
 },
 "nbformat": 4,
 "nbformat_minor": 5
}