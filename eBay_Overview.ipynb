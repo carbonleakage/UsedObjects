{
 "cells": [
  {
   "cell_type": "code",
   "execution_count": 1,
   "id": "reverse-picking",
   "metadata": {
    "execution": {
     "iopub.execute_input": "2021-12-10T20:00:07.745235Z",
     "iopub.status.busy": "2021-12-10T20:00:07.714451Z",
     "iopub.status.idle": "2021-12-10T20:00:08.651175Z",
     "shell.execute_reply": "2021-12-10T20:00:08.653673Z"
    },
    "papermill": {
     "duration": 0.985806,
     "end_time": "2021-12-10T20:00:08.654435",
     "exception": false,
     "start_time": "2021-12-10T20:00:07.668629",
     "status": "completed"
    },
    "tags": []
   },
   "outputs": [],
   "source": [
    "import pandas as pd\n",
    "import sqlite3"
   ]
  },
  {
   "cell_type": "code",
   "execution_count": 2,
   "id": "innovative-syndrome",
   "metadata": {
    "execution": {
     "iopub.execute_input": "2021-12-10T20:00:08.719617Z",
     "iopub.status.busy": "2021-12-10T20:00:08.717381Z",
     "iopub.status.idle": "2021-12-10T20:00:09.761927Z",
     "shell.execute_reply": "2021-12-10T20:00:09.763327Z"
    },
    "papermill": {
     "duration": 1.087167,
     "end_time": "2021-12-10T20:00:09.763810",
     "exception": false,
     "start_time": "2021-12-10T20:00:08.676643",
     "status": "completed"
    },
    "tags": []
   },
   "outputs": [],
   "source": [
    "timestamps = pd.read_sql(\"select distinct record_time from EBAY_TOP_BERLIN order by record_time desc limit 2\", sqlite3.connect(\"UsedObjects.db\"))"
   ]
  },
  {
   "cell_type": "code",
   "execution_count": 3,
   "id": "periodic-identification",
   "metadata": {
    "execution": {
     "iopub.execute_input": "2021-12-10T20:00:09.831393Z",
     "iopub.status.busy": "2021-12-10T20:00:09.829203Z",
     "iopub.status.idle": "2021-12-10T20:00:09.851698Z",
     "shell.execute_reply": "2021-12-10T20:00:09.853147Z"
    },
    "papermill": {
     "duration": 0.069964,
     "end_time": "2021-12-10T20:00:09.853617",
     "exception": false,
     "start_time": "2021-12-10T20:00:09.783653",
     "status": "completed"
    },
    "tags": []
   },
   "outputs": [
    {
     "data": {
      "text/html": [
       "<div>\n",
       "<style scoped>\n",
       "    .dataframe tbody tr th:only-of-type {\n",
       "        vertical-align: middle;\n",
       "    }\n",
       "\n",
       "    .dataframe tbody tr th {\n",
       "        vertical-align: top;\n",
       "    }\n",
       "\n",
       "    .dataframe thead th {\n",
       "        text-align: right;\n",
       "    }\n",
       "</style>\n",
       "<table border=\"1\" class=\"dataframe\">\n",
       "  <thead>\n",
       "    <tr style=\"text-align: right;\">\n",
       "      <th></th>\n",
       "      <th>RECORD_TIME</th>\n",
       "    </tr>\n",
       "  </thead>\n",
       "  <tbody>\n",
       "    <tr>\n",
       "      <th>0</th>\n",
       "      <td>2021-12-10 21:00</td>\n",
       "    </tr>\n",
       "    <tr>\n",
       "      <th>1</th>\n",
       "      <td>2021-12-10 20:30</td>\n",
       "    </tr>\n",
       "  </tbody>\n",
       "</table>\n",
       "</div>"
      ],
      "text/plain": [
       "        RECORD_TIME\n",
       "0  2021-12-10 21:00\n",
       "1  2021-12-10 20:30"
      ]
     },
     "execution_count": 3,
     "metadata": {},
     "output_type": "execute_result"
    }
   ],
   "source": [
    "timestamps"
   ]
  },
  {
   "cell_type": "code",
   "execution_count": 4,
   "id": "alternate-victory",
   "metadata": {
    "execution": {
     "iopub.execute_input": "2021-12-10T20:00:09.908907Z",
     "iopub.status.busy": "2021-12-10T20:00:09.906788Z",
     "iopub.status.idle": "2021-12-10T20:00:11.432611Z",
     "shell.execute_reply": "2021-12-10T20:00:11.435513Z"
    },
    "papermill": {
     "duration": 1.561898,
     "end_time": "2021-12-10T20:00:11.436303",
     "exception": false,
     "start_time": "2021-12-10T20:00:09.874405",
     "status": "completed"
    },
    "tags": []
   },
   "outputs": [],
   "source": [
    "df = pd.read_sql(\"select * from EBAY_TOP_BERLIN where record_time in (select distinct record_time from EBAY_TOP_BERLIN order by record_time desc limit 2)\", sqlite3.connect(\"UsedObjects.db\"))"
   ]
  },
  {
   "cell_type": "code",
   "execution_count": 5,
   "id": "popular-active",
   "metadata": {
    "execution": {
     "iopub.execute_input": "2021-12-10T20:00:11.505821Z",
     "iopub.status.busy": "2021-12-10T20:00:11.503404Z",
     "iopub.status.idle": "2021-12-10T20:00:11.535591Z",
     "shell.execute_reply": "2021-12-10T20:00:11.537024Z"
    },
    "papermill": {
     "duration": 0.07667,
     "end_time": "2021-12-10T20:00:11.537464",
     "exception": false,
     "start_time": "2021-12-10T20:00:11.460794",
     "status": "completed"
    },
    "tags": []
   },
   "outputs": [],
   "source": [
    "df_pivot = df.pivot_table(index=\"PRODUCT\", columns = \"RECORD_TIME\", values = \"LISTING_COUNT\")"
   ]
  },
  {
   "cell_type": "code",
   "execution_count": 6,
   "id": "union-huntington",
   "metadata": {
    "execution": {
     "iopub.execute_input": "2021-12-10T20:00:11.596550Z",
     "iopub.status.busy": "2021-12-10T20:00:11.594558Z",
     "iopub.status.idle": "2021-12-10T20:00:11.599263Z",
     "shell.execute_reply": "2021-12-10T20:00:11.601353Z"
    },
    "papermill": {
     "duration": 0.043557,
     "end_time": "2021-12-10T20:00:11.601886",
     "exception": false,
     "start_time": "2021-12-10T20:00:11.558329",
     "status": "completed"
    },
    "tags": []
   },
   "outputs": [],
   "source": [
    "df_pivot.columns = [\"stamp_1\", \"stamp_2\"]\n",
    "df_pivot_diff = df_pivot.diff(axis=1)"
   ]
  },
  {
   "cell_type": "code",
   "execution_count": 7,
   "id": "fifth-motion",
   "metadata": {
    "execution": {
     "iopub.execute_input": "2021-12-10T20:00:11.661389Z",
     "iopub.status.busy": "2021-12-10T20:00:11.658940Z",
     "iopub.status.idle": "2021-12-10T20:00:13.574452Z",
     "shell.execute_reply": "2021-12-10T20:00:13.575900Z"
    },
    "papermill": {
     "duration": 1.953121,
     "end_time": "2021-12-10T20:00:13.576343",
     "exception": false,
     "start_time": "2021-12-10T20:00:11.623222",
     "status": "completed"
    },
    "tags": []
   },
   "outputs": [
    {
     "data": {
      "text/plain": [
       "<AxesSubplot:ylabel='PRODUCT'>"
      ]
     },
     "execution_count": 7,
     "metadata": {},
     "output_type": "execute_result"
    },
    {
     "data": {
      "image/png": "[encoded data removed]",
      "text/plain": [
       "<Figure size 432x288 with 1 Axes>"
      ]
     },
     "metadata": {
      "needs_background": "light"
     },
     "output_type": "display_data"
    }
   ],
   "source": [
    "df_pivot_diff.sort_values(\"stamp_2\", ascending = False)[\"stamp_2\"].head(10).plot.barh()"
   ]
  },
  {
   "cell_type": "code",
   "execution_count": null,
   "id": "extra-executive",
   "metadata": {
    "papermill": {
     "duration": 0.023415,
     "end_time": "2021-12-10T20:00:13.624413",
     "exception": false,
     "start_time": "2021-12-10T20:00:13.600998",
     "status": "completed"
    },
    "tags": []
   },
   "outputs": [],
   "source": []
  }
 ],
 "metadata": {
  "kernelspec": {
   "display_name": "Python 3",
   "language": "python",
   "name": "python3"
  },
  "language_info": {
   "codemirror_mode": {
    "name": "ipython",
    "version": 3
   },
   "file_extension": ".py",
   "mimetype": "text/x-python",
   "name": "python",
   "nbconvert_exporter": "python",
   "pygments_lexer": "ipython3",
   "version": "3.9.5"
  },
  "papermill": {
   "default_parameters": {},
   "duration": 10.016126,
   "end_time": "2021-12-10T20:00:14.891906",
   "environment_variables": {},
   "exception": null,
   "input_path": "eBay_Overview.ipynb",
   "output_path": "eBay_Overview.ipynb",
   "parameters": {},
   "start_time": "2021-12-10T20:00:04.875780",
   "version": "2.3.3"
  }
 },
 "nbformat": 4,
 "nbformat_minor": 5
}