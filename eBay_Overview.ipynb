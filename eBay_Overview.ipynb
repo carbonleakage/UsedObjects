{
 "cells": [
  {
   "cell_type": "code",
   "execution_count": 1,
   "id": "reverse-picking",
   "metadata": {
    "execution": {
     "iopub.execute_input": "2021-10-20T23:30:06.723493Z",
     "iopub.status.busy": "2021-10-20T23:30:06.720518Z",
     "iopub.status.idle": "2021-10-20T23:30:07.529953Z",
     "shell.execute_reply": "2021-10-20T23:30:07.531403Z"
    },
    "papermill": {
     "duration": 0.860654,
     "end_time": "2021-10-20T23:30:07.532087",
     "exception": false,
     "start_time": "2021-10-20T23:30:06.671433",
     "status": "completed"
    },
    "tags": []
   },
   "outputs": [],
   "source": [
    "import pandas as pd\n",
    "import sqlite3"
   ]
  },
  {
   "cell_type": "code",
   "execution_count": 2,
   "id": "innovative-syndrome",
   "metadata": {
    "execution": {
     "iopub.execute_input": "2021-10-20T23:30:07.583654Z",
     "iopub.status.busy": "2021-10-20T23:30:07.581460Z",
     "iopub.status.idle": "2021-10-20T23:30:08.185168Z",
     "shell.execute_reply": "2021-10-20T23:30:08.186500Z"
    },
    "papermill": {
     "duration": 0.634507,
     "end_time": "2021-10-20T23:30:08.186903",
     "exception": false,
     "start_time": "2021-10-20T23:30:07.552396",
     "status": "completed"
    },
    "tags": []
   },
   "outputs": [],
   "source": [
    "timestamps = pd.read_sql(\"select distinct record_time from EBAY_TOP_BERLIN order by record_time desc limit 2\", sqlite3.connect(\"UsedObjects.db\"))"
   ]
  },
  {
   "cell_type": "code",
   "execution_count": 3,
   "id": "periodic-identification",
   "metadata": {
    "execution": {
     "iopub.execute_input": "2021-10-20T23:30:08.275405Z",
     "iopub.status.busy": "2021-10-20T23:30:08.273344Z",
     "iopub.status.idle": "2021-10-20T23:30:08.293307Z",
     "shell.execute_reply": "2021-10-20T23:30:08.294468Z"
    },
    "papermill": {
     "duration": 0.070801,
     "end_time": "2021-10-20T23:30:08.294880",
     "exception": false,
     "start_time": "2021-10-20T23:30:08.224079",
     "status": "completed"
    },
    "tags": []
   },
   "outputs": [
    {
     "data": {
      "text/html": [
       "<div>\n",
       "<style scoped>\n",
       "    .dataframe tbody tr th:only-of-type {\n",
       "        vertical-align: middle;\n",
       "    }\n",
       "\n",
       "    .dataframe tbody tr th {\n",
       "        vertical-align: top;\n",
       "    }\n",
       "\n",
       "    .dataframe thead th {\n",
       "        text-align: right;\n",
       "    }\n",
       "</style>\n",
       "<table border=\"1\" class=\"dataframe\">\n",
       "  <thead>\n",
       "    <tr style=\"text-align: right;\">\n",
       "      <th></th>\n",
       "      <th>RECORD_TIME</th>\n",
       "    </tr>\n",
       "  </thead>\n",
       "  <tbody>\n",
       "    <tr>\n",
       "      <th>0</th>\n",
       "      <td>2021-10-21 01:30</td>\n",
       "    </tr>\n",
       "    <tr>\n",
       "      <th>1</th>\n",
       "      <td>2021-10-21 01:00</td>\n",
       "    </tr>\n",
       "  </tbody>\n",
       "</table>\n",
       "</div>"
      ],
      "text/plain": [
       "        RECORD_TIME\n",
       "0  2021-10-21 01:30\n",
       "1  2021-10-21 01:00"
      ]
     },
     "execution_count": 3,
     "metadata": {},
     "output_type": "execute_result"
    }
   ],
   "source": [
    "timestamps"
   ]
  },
  {
   "cell_type": "code",
   "execution_count": 4,
   "id": "alternate-victory",
   "metadata": {
    "execution": {
     "iopub.execute_input": "2021-10-20T23:30:08.348023Z",
     "iopub.status.busy": "2021-10-20T23:30:08.345735Z",
     "iopub.status.idle": "2021-10-20T23:30:09.223350Z",
     "shell.execute_reply": "2021-10-20T23:30:09.224658Z"
    },
    "papermill": {
     "duration": 0.90836,
     "end_time": "2021-10-20T23:30:09.225170",
     "exception": false,
     "start_time": "2021-10-20T23:30:08.316810",
     "status": "completed"
    },
    "tags": []
   },
   "outputs": [],
   "source": [
    "df = pd.read_sql(\"select * from EBAY_TOP_BERLIN where record_time in (select distinct record_time from EBAY_TOP_BERLIN order by record_time desc limit 2)\", sqlite3.connect(\"UsedObjects.db\"))"
   ]
  },
  {
   "cell_type": "code",
   "execution_count": 5,
   "id": "popular-active",
   "metadata": {
    "execution": {
     "iopub.execute_input": "2021-10-20T23:30:09.291037Z",
     "iopub.status.busy": "2021-10-20T23:30:09.284795Z",
     "iopub.status.idle": "2021-10-20T23:30:09.312102Z",
     "shell.execute_reply": "2021-10-20T23:30:09.313574Z"
    },
    "papermill": {
     "duration": 0.067887,
     "end_time": "2021-10-20T23:30:09.313993",
     "exception": false,
     "start_time": "2021-10-20T23:30:09.246106",
     "status": "completed"
    },
    "tags": []
   },
   "outputs": [],
   "source": [
    "df_pivot = df.pivot_table(index=\"PRODUCT\", columns = \"RECORD_TIME\", values = \"LISTING_COUNT\")"
   ]
  },
  {
   "cell_type": "code",
   "execution_count": 6,
   "id": "union-huntington",
   "metadata": {
    "execution": {
     "iopub.execute_input": "2021-10-20T23:30:09.372994Z",
     "iopub.status.busy": "2021-10-20T23:30:09.370473Z",
     "iopub.status.idle": "2021-10-20T23:30:09.376290Z",
     "shell.execute_reply": "2021-10-20T23:30:09.377660Z"
    },
    "papermill": {
     "duration": 0.042603,
     "end_time": "2021-10-20T23:30:09.378080",
     "exception": false,
     "start_time": "2021-10-20T23:30:09.335477",
     "status": "completed"
    },
    "tags": []
   },
   "outputs": [],
   "source": [
    "df_pivot.columns = [\"stamp_1\", \"stamp_2\"]\n",
    "df_pivot_diff = df_pivot.diff(axis=1)"
   ]
  },
  {
   "cell_type": "code",
   "execution_count": 7,
   "id": "fifth-motion",
   "metadata": {
    "execution": {
     "iopub.execute_input": "2021-10-20T23:30:09.433349Z",
     "iopub.status.busy": "2021-10-20T23:30:09.430725Z",
     "iopub.status.idle": "2021-10-20T23:30:10.929217Z",
     "shell.execute_reply": "2021-10-20T23:30:10.930599Z"
    },
    "papermill": {
     "duration": 1.532203,
     "end_time": "2021-10-20T23:30:10.931040",
     "exception": false,
     "start_time": "2021-10-20T23:30:09.398837",
     "status": "completed"
    },
    "tags": []
   },
   "outputs": [
    {
     "data": {
      "text/plain": [
       "<AxesSubplot:ylabel='PRODUCT'>"
      ]
     },
     "execution_count": 7,
     "metadata": {},
     "output_type": "execute_result"
    },
    {
     "data": {
      "image/png": "[encoded data removed]",
      "text/plain": [
       "<Figure size 432x288 with 1 Axes>"
      ]
     },
     "metadata": {
      "needs_background": "light"
     },
     "output_type": "display_data"
    }
   ],
   "source": [
    "df_pivot_diff.sort_values(\"stamp_2\", ascending = False)[\"stamp_2\"].head(10).plot.barh()"
   ]
  },
  {
   "cell_type": "code",
   "execution_count": null,
   "id": "extra-executive",
   "metadata": {
    "papermill": {
     "duration": 0.022345,
     "end_time": "2021-10-20T23:30:10.977575",
     "exception": false,
     "start_time": "2021-10-20T23:30:10.955230",
     "status": "completed"
    },
    "tags": []
   },
   "outputs": [],
   "source": []
  }
 ],
 "metadata": {
  "kernelspec": {
   "display_name": "Python 3",
   "language": "python",
   "name": "python3"
  },
  "language_info": {
   "codemirror_mode": {
    "name": "ipython",
    "version": 3
   },
   "file_extension": ".py",
   "mimetype": "text/x-python",
   "name": "python",
   "nbconvert_exporter": "python",
   "pygments_lexer": "ipython3",
   "version": "3.9.5"
  },
  "papermill": {
   "default_parameters": {},
   "duration": 7.373408,
   "end_time": "2021-10-20T23:30:11.619011",
   "environment_variables": {},
   "exception": null,
   "input_path": "eBay_Overview.ipynb",
   "output_path": "eBay_Overview.ipynb",
   "parameters": {},
   "start_time": "2021-10-20T23:30:04.245603",
   "version": "2.3.3"
  }
 },
 "nbformat": 4,
 "nbformat_minor": 5
}