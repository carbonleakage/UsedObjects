{
 "cells": [
  {
   "cell_type": "code",
   "execution_count": 1,
   "id": "reverse-picking",
   "metadata": {
    "execution": {
     "iopub.execute_input": "2021-10-21T07:00:07.219442Z",
     "iopub.status.busy": "2021-10-21T07:00:07.217485Z",
     "iopub.status.idle": "2021-10-21T07:00:08.031163Z",
     "shell.execute_reply": "2021-10-21T07:00:08.032439Z"
    },
    "papermill": {
     "duration": 0.868171,
     "end_time": "2021-10-21T07:00:08.033103",
     "exception": false,
     "start_time": "2021-10-21T07:00:07.164932",
     "status": "completed"
    },
    "tags": []
   },
   "outputs": [],
   "source": [
    "import pandas as pd\n",
    "import sqlite3"
   ]
  },
  {
   "cell_type": "code",
   "execution_count": 2,
   "id": "innovative-syndrome",
   "metadata": {
    "execution": {
     "iopub.execute_input": "2021-10-21T07:00:08.084372Z",
     "iopub.status.busy": "2021-10-21T07:00:08.082488Z",
     "iopub.status.idle": "2021-10-21T07:00:08.673175Z",
     "shell.execute_reply": "2021-10-21T07:00:08.674887Z"
    },
    "papermill": {
     "duration": 0.621199,
     "end_time": "2021-10-21T07:00:08.675389",
     "exception": false,
     "start_time": "2021-10-21T07:00:08.054190",
     "status": "completed"
    },
    "tags": []
   },
   "outputs": [],
   "source": [
    "timestamps = pd.read_sql(\"select distinct record_time from EBAY_TOP_BERLIN order by record_time desc limit 2\", sqlite3.connect(\"UsedObjects.db\"))"
   ]
  },
  {
   "cell_type": "code",
   "execution_count": 3,
   "id": "periodic-identification",
   "metadata": {
    "execution": {
     "iopub.execute_input": "2021-10-21T07:00:08.751773Z",
     "iopub.status.busy": "2021-10-21T07:00:08.749732Z",
     "iopub.status.idle": "2021-10-21T07:00:08.769589Z",
     "shell.execute_reply": "2021-10-21T07:00:08.770869Z"
    },
    "papermill": {
     "duration": 0.067254,
     "end_time": "2021-10-21T07:00:08.771258",
     "exception": false,
     "start_time": "2021-10-21T07:00:08.704004",
     "status": "completed"
    },
    "tags": []
   },
   "outputs": [
    {
     "data": {
      "text/html": [
       "<div>\n",
       "<style scoped>\n",
       "    .dataframe tbody tr th:only-of-type {\n",
       "        vertical-align: middle;\n",
       "    }\n",
       "\n",
       "    .dataframe tbody tr th {\n",
       "        vertical-align: top;\n",
       "    }\n",
       "\n",
       "    .dataframe thead th {\n",
       "        text-align: right;\n",
       "    }\n",
       "</style>\n",
       "<table border=\"1\" class=\"dataframe\">\n",
       "  <thead>\n",
       "    <tr style=\"text-align: right;\">\n",
       "      <th></th>\n",
       "      <th>RECORD_TIME</th>\n",
       "    </tr>\n",
       "  </thead>\n",
       "  <tbody>\n",
       "    <tr>\n",
       "      <th>0</th>\n",
       "      <td>2021-10-21 09:00</td>\n",
       "    </tr>\n",
       "    <tr>\n",
       "      <th>1</th>\n",
       "      <td>2021-10-21 08:30</td>\n",
       "    </tr>\n",
       "  </tbody>\n",
       "</table>\n",
       "</div>"
      ],
      "text/plain": [
       "        RECORD_TIME\n",
       "0  2021-10-21 09:00\n",
       "1  2021-10-21 08:30"
      ]
     },
     "execution_count": 3,
     "metadata": {},
     "output_type": "execute_result"
    }
   ],
   "source": [
    "timestamps"
   ]
  },
  {
   "cell_type": "code",
   "execution_count": 4,
   "id": "alternate-victory",
   "metadata": {
    "execution": {
     "iopub.execute_input": "2021-10-21T07:00:08.824485Z",
     "iopub.status.busy": "2021-10-21T07:00:08.822195Z",
     "iopub.status.idle": "2021-10-21T07:00:09.715543Z",
     "shell.execute_reply": "2021-10-21T07:00:09.717018Z"
    },
    "papermill": {
     "duration": 0.924253,
     "end_time": "2021-10-21T07:00:09.717470",
     "exception": false,
     "start_time": "2021-10-21T07:00:08.793217",
     "status": "completed"
    },
    "tags": []
   },
   "outputs": [],
   "source": [
    "df = pd.read_sql(\"select * from EBAY_TOP_BERLIN where record_time in (select distinct record_time from EBAY_TOP_BERLIN order by record_time desc limit 2)\", sqlite3.connect(\"UsedObjects.db\"))"
   ]
  },
  {
   "cell_type": "code",
   "execution_count": 5,
   "id": "popular-active",
   "metadata": {
    "execution": {
     "iopub.execute_input": "2021-10-21T07:00:09.787584Z",
     "iopub.status.busy": "2021-10-21T07:00:09.774957Z",
     "iopub.status.idle": "2021-10-21T07:00:09.805606Z",
     "shell.execute_reply": "2021-10-21T07:00:09.807073Z"
    },
    "papermill": {
     "duration": 0.069754,
     "end_time": "2021-10-21T07:00:09.807510",
     "exception": false,
     "start_time": "2021-10-21T07:00:09.737756",
     "status": "completed"
    },
    "tags": []
   },
   "outputs": [],
   "source": [
    "df_pivot = df.pivot_table(index=\"PRODUCT\", columns = \"RECORD_TIME\", values = \"LISTING_COUNT\")"
   ]
  },
  {
   "cell_type": "code",
   "execution_count": 6,
   "id": "union-huntington",
   "metadata": {
    "execution": {
     "iopub.execute_input": "2021-10-21T07:00:09.864763Z",
     "iopub.status.busy": "2021-10-21T07:00:09.862626Z",
     "iopub.status.idle": "2021-10-21T07:00:09.868169Z",
     "shell.execute_reply": "2021-10-21T07:00:09.869463Z"
    },
    "papermill": {
     "duration": 0.041731,
     "end_time": "2021-10-21T07:00:09.869897",
     "exception": false,
     "start_time": "2021-10-21T07:00:09.828166",
     "status": "completed"
    },
    "tags": []
   },
   "outputs": [],
   "source": [
    "df_pivot.columns = [\"stamp_1\", \"stamp_2\"]\n",
    "df_pivot_diff = df_pivot.diff(axis=1)"
   ]
  },
  {
   "cell_type": "code",
   "execution_count": 7,
   "id": "fifth-motion",
   "metadata": {
    "execution": {
     "iopub.execute_input": "2021-10-21T07:00:09.927837Z",
     "iopub.status.busy": "2021-10-21T07:00:09.925154Z",
     "iopub.status.idle": "2021-10-21T07:00:11.414216Z",
     "shell.execute_reply": "2021-10-21T07:00:11.415533Z"
    },
    "papermill": {
     "duration": 1.522771,
     "end_time": "2021-10-21T07:00:11.415942",
     "exception": false,
     "start_time": "2021-10-21T07:00:09.893171",
     "status": "completed"
    },
    "tags": []
   },
   "outputs": [
    {
     "data": {
      "text/plain": [
       "<AxesSubplot:ylabel='PRODUCT'>"
      ]
     },
     "execution_count": 7,
     "metadata": {},
     "output_type": "execute_result"
    },
    {
     "data": {
      "image/png": "[encoded data removed]",
      "text/plain": [
       "<Figure size 432x288 with 1 Axes>"
      ]
     },
     "metadata": {
      "needs_background": "light"
     },
     "output_type": "display_data"
    }
   ],
   "source": [
    "df_pivot_diff.sort_values(\"stamp_2\", ascending = False)[\"stamp_2\"].head(10).plot.barh()"
   ]
  },
  {
   "cell_type": "code",
   "execution_count": null,
   "id": "extra-executive",
   "metadata": {
    "papermill": {
     "duration": 0.02223,
     "end_time": "2021-10-21T07:00:11.463185",
     "exception": false,
     "start_time": "2021-10-21T07:00:11.440955",
     "status": "completed"
    },
    "tags": []
   },
   "outputs": [],
   "source": []
  }
 ],
 "metadata": {
  "kernelspec": {
   "display_name": "Python 3",
   "language": "python",
   "name": "python3"
  },
  "language_info": {
   "codemirror_mode": {
    "name": "ipython",
    "version": 3
   },
   "file_extension": ".py",
   "mimetype": "text/x-python",
   "name": "python",
   "nbconvert_exporter": "python",
   "pygments_lexer": "ipython3",
   "version": "3.9.5"
  },
  "papermill": {
   "default_parameters": {},
   "duration": 7.345217,
   "end_time": "2021-10-21T07:00:12.105126",
   "environment_variables": {},
   "exception": null,
   "input_path": "eBay_Overview.ipynb",
   "output_path": "eBay_Overview.ipynb",
   "parameters": {},
   "start_time": "2021-10-21T07:00:04.759909",
   "version": "2.3.3"
  }
 },
 "nbformat": 4,
 "nbformat_minor": 5
}