{
 "cells": [
  {
   "cell_type": "code",
   "execution_count": 1,
   "id": "reverse-picking",
   "metadata": {
    "execution": {
     "iopub.execute_input": "2021-09-13T21:00:06.509114Z",
     "iopub.status.busy": "2021-09-13T21:00:06.507096Z",
     "iopub.status.idle": "2021-09-13T21:00:07.311616Z",
     "shell.execute_reply": "2021-09-13T21:00:07.312859Z"
    },
    "papermill": {
     "duration": 0.856042,
     "end_time": "2021-09-13T21:00:07.313485",
     "exception": false,
     "start_time": "2021-09-13T21:00:06.457443",
     "status": "completed"
    },
    "tags": []
   },
   "outputs": [],
   "source": [
    "import pandas as pd\n",
    "import sqlite3"
   ]
  },
  {
   "cell_type": "code",
   "execution_count": 2,
   "id": "innovative-syndrome",
   "metadata": {
    "execution": {
     "iopub.execute_input": "2021-09-13T21:00:07.367868Z",
     "iopub.status.busy": "2021-09-13T21:00:07.365488Z",
     "iopub.status.idle": "2021-09-13T21:00:07.643623Z",
     "shell.execute_reply": "2021-09-13T21:00:07.644746Z"
    },
    "papermill": {
     "duration": 0.308306,
     "end_time": "2021-09-13T21:00:07.645157",
     "exception": false,
     "start_time": "2021-09-13T21:00:07.336851",
     "status": "completed"
    },
    "tags": []
   },
   "outputs": [],
   "source": [
    "timestamps = pd.read_sql(\"select distinct record_time from EBAY_TOP_BERLIN order by record_time desc limit 2\", sqlite3.connect(\"UsedObjects.db\"))"
   ]
  },
  {
   "cell_type": "code",
   "execution_count": 3,
   "id": "periodic-identification",
   "metadata": {
    "execution": {
     "iopub.execute_input": "2021-09-13T21:00:07.710023Z",
     "iopub.status.busy": "2021-09-13T21:00:07.708020Z",
     "iopub.status.idle": "2021-09-13T21:00:07.727772Z",
     "shell.execute_reply": "2021-09-13T21:00:07.729039Z"
    },
    "papermill": {
     "duration": 0.063363,
     "end_time": "2021-09-13T21:00:07.729438",
     "exception": false,
     "start_time": "2021-09-13T21:00:07.666075",
     "status": "completed"
    },
    "tags": []
   },
   "outputs": [
    {
     "data": {
      "text/html": [
       "<div>\n",
       "<style scoped>\n",
       "    .dataframe tbody tr th:only-of-type {\n",
       "        vertical-align: middle;\n",
       "    }\n",
       "\n",
       "    .dataframe tbody tr th {\n",
       "        vertical-align: top;\n",
       "    }\n",
       "\n",
       "    .dataframe thead th {\n",
       "        text-align: right;\n",
       "    }\n",
       "</style>\n",
       "<table border=\"1\" class=\"dataframe\">\n",
       "  <thead>\n",
       "    <tr style=\"text-align: right;\">\n",
       "      <th></th>\n",
       "      <th>RECORD_TIME</th>\n",
       "    </tr>\n",
       "  </thead>\n",
       "  <tbody>\n",
       "    <tr>\n",
       "      <th>0</th>\n",
       "      <td>2021-09-13 23:00</td>\n",
       "    </tr>\n",
       "    <tr>\n",
       "      <th>1</th>\n",
       "      <td>2021-09-13 22:30</td>\n",
       "    </tr>\n",
       "  </tbody>\n",
       "</table>\n",
       "</div>"
      ],
      "text/plain": [
       "        RECORD_TIME\n",
       "0  2021-09-13 23:00\n",
       "1  2021-09-13 22:30"
      ]
     },
     "execution_count": 3,
     "metadata": {},
     "output_type": "execute_result"
    }
   ],
   "source": [
    "timestamps"
   ]
  },
  {
   "cell_type": "code",
   "execution_count": 4,
   "id": "alternate-victory",
   "metadata": {
    "execution": {
     "iopub.execute_input": "2021-09-13T21:00:07.781482Z",
     "iopub.status.busy": "2021-09-13T21:00:07.779325Z",
     "iopub.status.idle": "2021-09-13T21:00:08.197581Z",
     "shell.execute_reply": "2021-09-13T21:00:08.198894Z"
    },
    "papermill": {
     "duration": 0.448741,
     "end_time": "2021-09-13T21:00:08.199360",
     "exception": false,
     "start_time": "2021-09-13T21:00:07.750619",
     "status": "completed"
    },
    "tags": []
   },
   "outputs": [],
   "source": [
    "df = pd.read_sql(\"select * from EBAY_TOP_BERLIN where record_time in (select distinct record_time from EBAY_TOP_BERLIN order by record_time desc limit 2)\", sqlite3.connect(\"UsedObjects.db\"))"
   ]
  },
  {
   "cell_type": "code",
   "execution_count": 5,
   "id": "popular-active",
   "metadata": {
    "execution": {
     "iopub.execute_input": "2021-09-13T21:00:08.283215Z",
     "iopub.status.busy": "2021-09-13T21:00:08.270928Z",
     "iopub.status.idle": "2021-09-13T21:00:08.298796Z",
     "shell.execute_reply": "2021-09-13T21:00:08.300087Z"
    },
    "papermill": {
     "duration": 0.072465,
     "end_time": "2021-09-13T21:00:08.300488",
     "exception": false,
     "start_time": "2021-09-13T21:00:08.228023",
     "status": "completed"
    },
    "tags": []
   },
   "outputs": [],
   "source": [
    "df_pivot = df.pivot_table(index=\"PRODUCT\", columns = \"RECORD_TIME\", values = \"LISTING_COUNT\")"
   ]
  },
  {
   "cell_type": "code",
   "execution_count": 6,
   "id": "union-huntington",
   "metadata": {
    "execution": {
     "iopub.execute_input": "2021-09-13T21:00:08.357065Z",
     "iopub.status.busy": "2021-09-13T21:00:08.355020Z",
     "iopub.status.idle": "2021-09-13T21:00:08.360232Z",
     "shell.execute_reply": "2021-09-13T21:00:08.361495Z"
    },
    "papermill": {
     "duration": 0.040368,
     "end_time": "2021-09-13T21:00:08.361916",
     "exception": false,
     "start_time": "2021-09-13T21:00:08.321548",
     "status": "completed"
    },
    "tags": []
   },
   "outputs": [],
   "source": [
    "df_pivot.columns = [\"stamp_1\", \"stamp_2\"]\n",
    "df_pivot_diff = df_pivot.diff(axis=1)"
   ]
  },
  {
   "cell_type": "code",
   "execution_count": 7,
   "id": "fifth-motion",
   "metadata": {
    "execution": {
     "iopub.execute_input": "2021-09-13T21:00:08.416725Z",
     "iopub.status.busy": "2021-09-13T21:00:08.414167Z",
     "iopub.status.idle": "2021-09-13T21:00:09.883568Z",
     "shell.execute_reply": "2021-09-13T21:00:09.885073Z"
    },
    "papermill": {
     "duration": 1.503105,
     "end_time": "2021-09-13T21:00:09.885540",
     "exception": false,
     "start_time": "2021-09-13T21:00:08.382435",
     "status": "completed"
    },
    "tags": []
   },
   "outputs": [
    {
     "data": {
      "text/plain": [
       "<AxesSubplot:ylabel='PRODUCT'>"
      ]
     },
     "execution_count": 7,
     "metadata": {},
     "output_type": "execute_result"
    },
    {
     "data": {
      "image/png": "[encoded data removed]",
      "text/plain": [
       "<Figure size 432x288 with 1 Axes>"
      ]
     },
     "metadata": {
      "needs_background": "light"
     },
     "output_type": "display_data"
    }
   ],
   "source": [
    "df_pivot_diff.sort_values(\"stamp_2\", ascending = False)[\"stamp_2\"].head(10).plot.barh()"
   ]
  },
  {
   "cell_type": "code",
   "execution_count": null,
   "id": "extra-executive",
   "metadata": {
    "papermill": {
     "duration": 0.022395,
     "end_time": "2021-09-13T21:00:09.932057",
     "exception": false,
     "start_time": "2021-09-13T21:00:09.909662",
     "status": "completed"
    },
    "tags": []
   },
   "outputs": [],
   "source": []
  }
 ],
 "metadata": {
  "kernelspec": {
   "display_name": "Python 3",
   "language": "python",
   "name": "python3"
  },
  "language_info": {
   "codemirror_mode": {
    "name": "ipython",
    "version": 3
   },
   "file_extension": ".py",
   "mimetype": "text/x-python",
   "name": "python",
   "nbconvert_exporter": "python",
   "pygments_lexer": "ipython3",
   "version": "3.9.5"
  },
  "papermill": {
   "default_parameters": {},
   "duration": 6.518879,
   "end_time": "2021-09-13T21:00:10.575584",
   "environment_variables": {},
   "exception": null,
   "input_path": "eBay_Overview.ipynb",
   "output_path": "eBay_Overview.ipynb",
   "parameters": {},
   "start_time": "2021-09-13T21:00:04.056705",
   "version": "2.3.3"
  }
 },
 "nbformat": 4,
 "nbformat_minor": 5
}