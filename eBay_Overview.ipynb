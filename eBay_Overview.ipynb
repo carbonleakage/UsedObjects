{
 "cells": [
  {
   "cell_type": "code",
   "execution_count": 1,
   "id": "reverse-picking",
   "metadata": {
    "execution": {
     "iopub.execute_input": "2021-10-04T00:00:07.100629Z",
     "iopub.status.busy": "2021-10-04T00:00:07.098624Z",
     "iopub.status.idle": "2021-10-04T00:00:07.906105Z",
     "shell.execute_reply": "2021-10-04T00:00:07.907482Z"
    },
    "papermill": {
     "duration": 0.860062,
     "end_time": "2021-10-04T00:00:07.908111",
     "exception": false,
     "start_time": "2021-10-04T00:00:07.048049",
     "status": "completed"
    },
    "tags": []
   },
   "outputs": [],
   "source": [
    "import pandas as pd\n",
    "import sqlite3"
   ]
  },
  {
   "cell_type": "code",
   "execution_count": 2,
   "id": "innovative-syndrome",
   "metadata": {
    "execution": {
     "iopub.execute_input": "2021-10-04T00:00:07.960815Z",
     "iopub.status.busy": "2021-10-04T00:00:07.958551Z",
     "iopub.status.idle": "2021-10-04T00:00:08.406625Z",
     "shell.execute_reply": "2021-10-04T00:00:08.407904Z"
    },
    "papermill": {
     "duration": 0.477779,
     "end_time": "2021-10-04T00:00:08.408307",
     "exception": false,
     "start_time": "2021-10-04T00:00:07.930528",
     "status": "completed"
    },
    "tags": []
   },
   "outputs": [],
   "source": [
    "timestamps = pd.read_sql(\"select distinct record_time from EBAY_TOP_BERLIN order by record_time desc limit 2\", sqlite3.connect(\"UsedObjects.db\"))"
   ]
  },
  {
   "cell_type": "code",
   "execution_count": 3,
   "id": "periodic-identification",
   "metadata": {
    "execution": {
     "iopub.execute_input": "2021-10-04T00:00:08.473080Z",
     "iopub.status.busy": "2021-10-04T00:00:08.471061Z",
     "iopub.status.idle": "2021-10-04T00:00:08.490927Z",
     "shell.execute_reply": "2021-10-04T00:00:08.492808Z"
    },
    "papermill": {
     "duration": 0.065526,
     "end_time": "2021-10-04T00:00:08.493356",
     "exception": false,
     "start_time": "2021-10-04T00:00:08.427830",
     "status": "completed"
    },
    "tags": []
   },
   "outputs": [
    {
     "data": {
      "text/html": [
       "<div>\n",
       "<style scoped>\n",
       "    .dataframe tbody tr th:only-of-type {\n",
       "        vertical-align: middle;\n",
       "    }\n",
       "\n",
       "    .dataframe tbody tr th {\n",
       "        vertical-align: top;\n",
       "    }\n",
       "\n",
       "    .dataframe thead th {\n",
       "        text-align: right;\n",
       "    }\n",
       "</style>\n",
       "<table border=\"1\" class=\"dataframe\">\n",
       "  <thead>\n",
       "    <tr style=\"text-align: right;\">\n",
       "      <th></th>\n",
       "      <th>RECORD_TIME</th>\n",
       "    </tr>\n",
       "  </thead>\n",
       "  <tbody>\n",
       "    <tr>\n",
       "      <th>0</th>\n",
       "      <td>2021-10-04 02:00</td>\n",
       "    </tr>\n",
       "    <tr>\n",
       "      <th>1</th>\n",
       "      <td>2021-10-04 01:30</td>\n",
       "    </tr>\n",
       "  </tbody>\n",
       "</table>\n",
       "</div>"
      ],
      "text/plain": [
       "        RECORD_TIME\n",
       "0  2021-10-04 02:00\n",
       "1  2021-10-04 01:30"
      ]
     },
     "execution_count": 3,
     "metadata": {},
     "output_type": "execute_result"
    }
   ],
   "source": [
    "timestamps"
   ]
  },
  {
   "cell_type": "code",
   "execution_count": 4,
   "id": "alternate-victory",
   "metadata": {
    "execution": {
     "iopub.execute_input": "2021-10-04T00:00:08.559937Z",
     "iopub.status.busy": "2021-10-04T00:00:08.557167Z",
     "iopub.status.idle": "2021-10-04T00:00:09.222105Z",
     "shell.execute_reply": "2021-10-04T00:00:09.223656Z"
    },
    "papermill": {
     "duration": 0.707771,
     "end_time": "2021-10-04T00:00:09.224102",
     "exception": false,
     "start_time": "2021-10-04T00:00:08.516331",
     "status": "completed"
    },
    "tags": []
   },
   "outputs": [],
   "source": [
    "df = pd.read_sql(\"select * from EBAY_TOP_BERLIN where record_time in (select distinct record_time from EBAY_TOP_BERLIN order by record_time desc limit 2)\", sqlite3.connect(\"UsedObjects.db\"))"
   ]
  },
  {
   "cell_type": "code",
   "execution_count": 5,
   "id": "popular-active",
   "metadata": {
    "execution": {
     "iopub.execute_input": "2021-10-04T00:00:09.295464Z",
     "iopub.status.busy": "2021-10-04T00:00:09.283342Z",
     "iopub.status.idle": "2021-10-04T00:00:09.310611Z",
     "shell.execute_reply": "2021-10-04T00:00:09.311897Z"
    },
    "papermill": {
     "duration": 0.067833,
     "end_time": "2021-10-04T00:00:09.312300",
     "exception": false,
     "start_time": "2021-10-04T00:00:09.244467",
     "status": "completed"
    },
    "tags": []
   },
   "outputs": [],
   "source": [
    "df_pivot = df.pivot_table(index=\"PRODUCT\", columns = \"RECORD_TIME\", values = \"LISTING_COUNT\")"
   ]
  },
  {
   "cell_type": "code",
   "execution_count": 6,
   "id": "union-huntington",
   "metadata": {
    "execution": {
     "iopub.execute_input": "2021-10-04T00:00:09.370303Z",
     "iopub.status.busy": "2021-10-04T00:00:09.368050Z",
     "iopub.status.idle": "2021-10-04T00:00:09.373769Z",
     "shell.execute_reply": "2021-10-04T00:00:09.375148Z"
    },
    "papermill": {
     "duration": 0.041739,
     "end_time": "2021-10-04T00:00:09.375572",
     "exception": false,
     "start_time": "2021-10-04T00:00:09.333833",
     "status": "completed"
    },
    "tags": []
   },
   "outputs": [],
   "source": [
    "df_pivot.columns = [\"stamp_1\", \"stamp_2\"]\n",
    "df_pivot_diff = df_pivot.diff(axis=1)"
   ]
  },
  {
   "cell_type": "code",
   "execution_count": 7,
   "id": "fifth-motion",
   "metadata": {
    "execution": {
     "iopub.execute_input": "2021-10-04T00:00:09.429381Z",
     "iopub.status.busy": "2021-10-04T00:00:09.427129Z",
     "iopub.status.idle": "2021-10-04T00:00:10.880649Z",
     "shell.execute_reply": "2021-10-04T00:00:10.882025Z"
    },
    "papermill": {
     "duration": 1.486797,
     "end_time": "2021-10-04T00:00:10.882468",
     "exception": false,
     "start_time": "2021-10-04T00:00:09.395671",
     "status": "completed"
    },
    "tags": []
   },
   "outputs": [
    {
     "data": {
      "text/plain": [
       "<AxesSubplot:ylabel='PRODUCT'>"
      ]
     },
     "execution_count": 7,
     "metadata": {},
     "output_type": "execute_result"
    },
    {
     "data": {
      "image/png": "[encoded data removed]",
      "text/plain": [
       "<Figure size 432x288 with 1 Axes>"
      ]
     },
     "metadata": {
      "needs_background": "light"
     },
     "output_type": "display_data"
    }
   ],
   "source": [
    "df_pivot_diff.sort_values(\"stamp_2\", ascending = False)[\"stamp_2\"].head(10).plot.barh()"
   ]
  },
  {
   "cell_type": "code",
   "execution_count": null,
   "id": "extra-executive",
   "metadata": {
    "papermill": {
     "duration": 0.022398,
     "end_time": "2021-10-04T00:00:10.928939",
     "exception": false,
     "start_time": "2021-10-04T00:00:10.906541",
     "status": "completed"
    },
    "tags": []
   },
   "outputs": [],
   "source": []
  }
 ],
 "metadata": {
  "kernelspec": {
   "display_name": "Python 3",
   "language": "python",
   "name": "python3"
  },
  "language_info": {
   "codemirror_mode": {
    "name": "ipython",
    "version": 3
   },
   "file_extension": ".py",
   "mimetype": "text/x-python",
   "name": "python",
   "nbconvert_exporter": "python",
   "pygments_lexer": "ipython3",
   "version": "3.9.5"
  },
  "papermill": {
   "default_parameters": {},
   "duration": 7.817376,
   "end_time": "2021-10-04T00:00:12.461129",
   "environment_variables": {},
   "exception": null,
   "input_path": "eBay_Overview.ipynb",
   "output_path": "eBay_Overview.ipynb",
   "parameters": {},
   "start_time": "2021-10-04T00:00:04.643753",
   "version": "2.3.3"
  }
 },
 "nbformat": 4,
 "nbformat_minor": 5
}