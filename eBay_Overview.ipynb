{
 "cells": [
  {
   "cell_type": "code",
   "execution_count": 1,
   "id": "reverse-picking",
   "metadata": {
    "execution": {
     "iopub.execute_input": "2021-10-28T21:30:06.930580Z",
     "iopub.status.busy": "2021-10-28T21:30:06.928560Z",
     "iopub.status.idle": "2021-10-28T21:30:07.734026Z",
     "shell.execute_reply": "2021-10-28T21:30:07.735838Z"
    },
    "papermill": {
     "duration": 0.857768,
     "end_time": "2021-10-28T21:30:07.736470",
     "exception": false,
     "start_time": "2021-10-28T21:30:06.878702",
     "status": "completed"
    },
    "tags": []
   },
   "outputs": [],
   "source": [
    "import pandas as pd\n",
    "import sqlite3"
   ]
  },
  {
   "cell_type": "code",
   "execution_count": 2,
   "id": "innovative-syndrome",
   "metadata": {
    "execution": {
     "iopub.execute_input": "2021-10-28T21:30:07.789716Z",
     "iopub.status.busy": "2021-10-28T21:30:07.787592Z",
     "iopub.status.idle": "2021-10-28T21:30:08.432800Z",
     "shell.execute_reply": "2021-10-28T21:30:08.434037Z"
    },
    "papermill": {
     "duration": 0.674801,
     "end_time": "2021-10-28T21:30:08.434441",
     "exception": false,
     "start_time": "2021-10-28T21:30:07.759640",
     "status": "completed"
    },
    "tags": []
   },
   "outputs": [],
   "source": [
    "timestamps = pd.read_sql(\"select distinct record_time from EBAY_TOP_BERLIN order by record_time desc limit 2\", sqlite3.connect(\"UsedObjects.db\"))"
   ]
  },
  {
   "cell_type": "code",
   "execution_count": 3,
   "id": "periodic-identification",
   "metadata": {
    "execution": {
     "iopub.execute_input": "2021-10-28T21:30:08.511739Z",
     "iopub.status.busy": "2021-10-28T21:30:08.509721Z",
     "iopub.status.idle": "2021-10-28T21:30:08.530496Z",
     "shell.execute_reply": "2021-10-28T21:30:08.531893Z"
    },
    "papermill": {
     "duration": 0.069836,
     "end_time": "2021-10-28T21:30:08.532340",
     "exception": false,
     "start_time": "2021-10-28T21:30:08.462504",
     "status": "completed"
    },
    "tags": []
   },
   "outputs": [
    {
     "data": {
      "text/html": [
       "<div>\n",
       "<style scoped>\n",
       "    .dataframe tbody tr th:only-of-type {\n",
       "        vertical-align: middle;\n",
       "    }\n",
       "\n",
       "    .dataframe tbody tr th {\n",
       "        vertical-align: top;\n",
       "    }\n",
       "\n",
       "    .dataframe thead th {\n",
       "        text-align: right;\n",
       "    }\n",
       "</style>\n",
       "<table border=\"1\" class=\"dataframe\">\n",
       "  <thead>\n",
       "    <tr style=\"text-align: right;\">\n",
       "      <th></th>\n",
       "      <th>RECORD_TIME</th>\n",
       "    </tr>\n",
       "  </thead>\n",
       "  <tbody>\n",
       "    <tr>\n",
       "      <th>0</th>\n",
       "      <td>2021-10-28 23:30</td>\n",
       "    </tr>\n",
       "    <tr>\n",
       "      <th>1</th>\n",
       "      <td>2021-10-28 23:00</td>\n",
       "    </tr>\n",
       "  </tbody>\n",
       "</table>\n",
       "</div>"
      ],
      "text/plain": [
       "        RECORD_TIME\n",
       "0  2021-10-28 23:30\n",
       "1  2021-10-28 23:00"
      ]
     },
     "execution_count": 3,
     "metadata": {},
     "output_type": "execute_result"
    }
   ],
   "source": [
    "timestamps"
   ]
  },
  {
   "cell_type": "code",
   "execution_count": 4,
   "id": "alternate-victory",
   "metadata": {
    "execution": {
     "iopub.execute_input": "2021-10-28T21:30:08.583882Z",
     "iopub.status.busy": "2021-10-28T21:30:08.581843Z",
     "iopub.status.idle": "2021-10-28T21:30:09.526242Z",
     "shell.execute_reply": "2021-10-28T21:30:09.527542Z"
    },
    "papermill": {
     "duration": 0.975071,
     "end_time": "2021-10-28T21:30:09.527965",
     "exception": false,
     "start_time": "2021-10-28T21:30:08.552894",
     "status": "completed"
    },
    "tags": []
   },
   "outputs": [],
   "source": [
    "df = pd.read_sql(\"select * from EBAY_TOP_BERLIN where record_time in (select distinct record_time from EBAY_TOP_BERLIN order by record_time desc limit 2)\", sqlite3.connect(\"UsedObjects.db\"))"
   ]
  },
  {
   "cell_type": "code",
   "execution_count": 5,
   "id": "popular-active",
   "metadata": {
    "execution": {
     "iopub.execute_input": "2021-10-28T21:30:09.597855Z",
     "iopub.status.busy": "2021-10-28T21:30:09.587220Z",
     "iopub.status.idle": "2021-10-28T21:30:09.613589Z",
     "shell.execute_reply": "2021-10-28T21:30:09.614816Z"
    },
    "papermill": {
     "duration": 0.066607,
     "end_time": "2021-10-28T21:30:09.615215",
     "exception": false,
     "start_time": "2021-10-28T21:30:09.548608",
     "status": "completed"
    },
    "tags": []
   },
   "outputs": [],
   "source": [
    "df_pivot = df.pivot_table(index=\"PRODUCT\", columns = \"RECORD_TIME\", values = \"LISTING_COUNT\")"
   ]
  },
  {
   "cell_type": "code",
   "execution_count": 6,
   "id": "union-huntington",
   "metadata": {
    "execution": {
     "iopub.execute_input": "2021-10-28T21:30:09.675099Z",
     "iopub.status.busy": "2021-10-28T21:30:09.672626Z",
     "iopub.status.idle": "2021-10-28T21:30:09.678753Z",
     "shell.execute_reply": "2021-10-28T21:30:09.680219Z"
    },
    "papermill": {
     "duration": 0.042414,
     "end_time": "2021-10-28T21:30:09.680753",
     "exception": false,
     "start_time": "2021-10-28T21:30:09.638339",
     "status": "completed"
    },
    "tags": []
   },
   "outputs": [],
   "source": [
    "df_pivot.columns = [\"stamp_1\", \"stamp_2\"]\n",
    "df_pivot_diff = df_pivot.diff(axis=1)"
   ]
  },
  {
   "cell_type": "code",
   "execution_count": 7,
   "id": "fifth-motion",
   "metadata": {
    "execution": {
     "iopub.execute_input": "2021-10-28T21:30:09.736054Z",
     "iopub.status.busy": "2021-10-28T21:30:09.733844Z",
     "iopub.status.idle": "2021-10-28T21:30:11.218329Z",
     "shell.execute_reply": "2021-10-28T21:30:11.219521Z"
    },
    "papermill": {
     "duration": 1.517117,
     "end_time": "2021-10-28T21:30:11.219956",
     "exception": false,
     "start_time": "2021-10-28T21:30:09.702839",
     "status": "completed"
    },
    "tags": []
   },
   "outputs": [
    {
     "data": {
      "text/plain": [
       "<AxesSubplot:ylabel='PRODUCT'>"
      ]
     },
     "execution_count": 7,
     "metadata": {},
     "output_type": "execute_result"
    },
    {
     "data": {
      "image/png": "[encoded data removed]",
      "text/plain": [
       "<Figure size 432x288 with 1 Axes>"
      ]
     },
     "metadata": {
      "needs_background": "light"
     },
     "output_type": "display_data"
    }
   ],
   "source": [
    "df_pivot_diff.sort_values(\"stamp_2\", ascending = False)[\"stamp_2\"].head(10).plot.barh()"
   ]
  },
  {
   "cell_type": "code",
   "execution_count": null,
   "id": "extra-executive",
   "metadata": {
    "papermill": {
     "duration": 0.021851,
     "end_time": "2021-10-28T21:30:11.267089",
     "exception": false,
     "start_time": "2021-10-28T21:30:11.245238",
     "status": "completed"
    },
    "tags": []
   },
   "outputs": [],
   "source": []
  }
 ],
 "metadata": {
  "kernelspec": {
   "display_name": "Python 3",
   "language": "python",
   "name": "python3"
  },
  "language_info": {
   "codemirror_mode": {
    "name": "ipython",
    "version": 3
   },
   "file_extension": ".py",
   "mimetype": "text/x-python",
   "name": "python",
   "nbconvert_exporter": "python",
   "pygments_lexer": "ipython3",
   "version": "3.9.5"
  },
  "papermill": {
   "default_parameters": {},
   "duration": 7.436027,
   "end_time": "2021-10-28T21:30:11.910387",
   "environment_variables": {},
   "exception": null,
   "input_path": "eBay_Overview.ipynb",
   "output_path": "eBay_Overview.ipynb",
   "parameters": {},
   "start_time": "2021-10-28T21:30:04.474360",
   "version": "2.3.3"
  }
 },
 "nbformat": 4,
 "nbformat_minor": 5
}