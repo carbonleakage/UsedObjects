{
 "cells": [
  {
   "cell_type": "code",
   "execution_count": 1,
   "id": "reverse-picking",
   "metadata": {
    "execution": {
     "iopub.execute_input": "2021-12-19T19:30:08.238989Z",
     "iopub.status.busy": "2021-12-19T19:30:08.236621Z",
     "iopub.status.idle": "2021-12-19T19:30:09.194827Z",
     "shell.execute_reply": "2021-12-19T19:30:09.196546Z"
    },
    "papermill": {
     "duration": 1.007641,
     "end_time": "2021-12-19T19:30:09.197421",
     "exception": false,
     "start_time": "2021-12-19T19:30:08.189780",
     "status": "completed"
    },
    "tags": []
   },
   "outputs": [],
   "source": [
    "import pandas as pd\n",
    "import sqlite3"
   ]
  },
  {
   "cell_type": "code",
   "execution_count": 2,
   "id": "innovative-syndrome",
   "metadata": {
    "execution": {
     "iopub.execute_input": "2021-12-19T19:30:09.324409Z",
     "iopub.status.busy": "2021-12-19T19:30:09.322177Z",
     "iopub.status.idle": "2021-12-19T19:30:10.455379Z",
     "shell.execute_reply": "2021-12-19T19:30:10.457309Z"
    },
    "papermill": {
     "duration": 1.175914,
     "end_time": "2021-12-19T19:30:10.457862",
     "exception": false,
     "start_time": "2021-12-19T19:30:09.281948",
     "status": "completed"
    },
    "tags": []
   },
   "outputs": [],
   "source": [
    "timestamps = pd.read_sql(\"select distinct record_time from EBAY_TOP_BERLIN order by record_time desc limit 2\", sqlite3.connect(\"UsedObjects.db\"))"
   ]
  },
  {
   "cell_type": "code",
   "execution_count": 3,
   "id": "periodic-identification",
   "metadata": {
    "execution": {
     "iopub.execute_input": "2021-12-19T19:30:10.524112Z",
     "iopub.status.busy": "2021-12-19T19:30:10.521983Z",
     "iopub.status.idle": "2021-12-19T19:30:10.553986Z",
     "shell.execute_reply": "2021-12-19T19:30:10.556744Z"
    },
    "papermill": {
     "duration": 0.078499,
     "end_time": "2021-12-19T19:30:10.557217",
     "exception": false,
     "start_time": "2021-12-19T19:30:10.478718",
     "status": "completed"
    },
    "tags": []
   },
   "outputs": [
    {
     "data": {
      "text/html": [
       "<div>\n",
       "<style scoped>\n",
       "    .dataframe tbody tr th:only-of-type {\n",
       "        vertical-align: middle;\n",
       "    }\n",
       "\n",
       "    .dataframe tbody tr th {\n",
       "        vertical-align: top;\n",
       "    }\n",
       "\n",
       "    .dataframe thead th {\n",
       "        text-align: right;\n",
       "    }\n",
       "</style>\n",
       "<table border=\"1\" class=\"dataframe\">\n",
       "  <thead>\n",
       "    <tr style=\"text-align: right;\">\n",
       "      <th></th>\n",
       "      <th>RECORD_TIME</th>\n",
       "    </tr>\n",
       "  </thead>\n",
       "  <tbody>\n",
       "    <tr>\n",
       "      <th>0</th>\n",
       "      <td>2021-12-19 20:30</td>\n",
       "    </tr>\n",
       "    <tr>\n",
       "      <th>1</th>\n",
       "      <td>2021-12-19 20:00</td>\n",
       "    </tr>\n",
       "  </tbody>\n",
       "</table>\n",
       "</div>"
      ],
      "text/plain": [
       "        RECORD_TIME\n",
       "0  2021-12-19 20:30\n",
       "1  2021-12-19 20:00"
      ]
     },
     "execution_count": 3,
     "metadata": {},
     "output_type": "execute_result"
    }
   ],
   "source": [
    "timestamps"
   ]
  },
  {
   "cell_type": "code",
   "execution_count": 4,
   "id": "alternate-victory",
   "metadata": {
    "execution": {
     "iopub.execute_input": "2021-12-19T19:30:10.615344Z",
     "iopub.status.busy": "2021-12-19T19:30:10.613193Z",
     "iopub.status.idle": "2021-12-19T19:30:12.230793Z",
     "shell.execute_reply": "2021-12-19T19:30:12.232290Z"
    },
    "papermill": {
     "duration": 1.652539,
     "end_time": "2021-12-19T19:30:12.232823",
     "exception": false,
     "start_time": "2021-12-19T19:30:10.580284",
     "status": "completed"
    },
    "tags": []
   },
   "outputs": [],
   "source": [
    "df = pd.read_sql(\"select * from EBAY_TOP_BERLIN where record_time in (select distinct record_time from EBAY_TOP_BERLIN order by record_time desc limit 2)\", sqlite3.connect(\"UsedObjects.db\"))"
   ]
  },
  {
   "cell_type": "code",
   "execution_count": 5,
   "id": "popular-active",
   "metadata": {
    "execution": {
     "iopub.execute_input": "2021-12-19T19:30:12.303956Z",
     "iopub.status.busy": "2021-12-19T19:30:12.295910Z",
     "iopub.status.idle": "2021-12-19T19:30:12.331194Z",
     "shell.execute_reply": "2021-12-19T19:30:12.332762Z"
    },
    "papermill": {
     "duration": 0.07984,
     "end_time": "2021-12-19T19:30:12.333280",
     "exception": false,
     "start_time": "2021-12-19T19:30:12.253440",
     "status": "completed"
    },
    "tags": []
   },
   "outputs": [],
   "source": [
    "df_pivot = df.pivot_table(index=\"PRODUCT\", columns = \"RECORD_TIME\", values = \"LISTING_COUNT\")"
   ]
  },
  {
   "cell_type": "code",
   "execution_count": 6,
   "id": "union-huntington",
   "metadata": {
    "execution": {
     "iopub.execute_input": "2021-12-19T19:30:12.394040Z",
     "iopub.status.busy": "2021-12-19T19:30:12.391785Z",
     "iopub.status.idle": "2021-12-19T19:30:12.398970Z",
     "shell.execute_reply": "2021-12-19T19:30:12.397508Z"
    },
    "papermill": {
     "duration": 0.043756,
     "end_time": "2021-12-19T19:30:12.399391",
     "exception": false,
     "start_time": "2021-12-19T19:30:12.355635",
     "status": "completed"
    },
    "tags": []
   },
   "outputs": [],
   "source": [
    "df_pivot.columns = [\"stamp_1\", \"stamp_2\"]\n",
    "df_pivot_diff = df_pivot.diff(axis=1)"
   ]
  },
  {
   "cell_type": "code",
   "execution_count": 7,
   "id": "fifth-motion",
   "metadata": {
    "execution": {
     "iopub.execute_input": "2021-12-19T19:30:12.455773Z",
     "iopub.status.busy": "2021-12-19T19:30:12.453279Z",
     "iopub.status.idle": "2021-12-19T19:30:14.439261Z",
     "shell.execute_reply": "2021-12-19T19:30:14.440617Z"
    },
    "papermill": {
     "duration": 2.02161,
     "end_time": "2021-12-19T19:30:14.441108",
     "exception": false,
     "start_time": "2021-12-19T19:30:12.419498",
     "status": "completed"
    },
    "tags": []
   },
   "outputs": [
    {
     "data": {
      "text/plain": [
       "<AxesSubplot:ylabel='PRODUCT'>"
      ]
     },
     "execution_count": 7,
     "metadata": {},
     "output_type": "execute_result"
    },
    {
     "data": {
      "image/png": "[encoded data removed]",
      "text/plain": [
       "<Figure size 432x288 with 1 Axes>"
      ]
     },
     "metadata": {
      "needs_background": "light"
     },
     "output_type": "display_data"
    }
   ],
   "source": [
    "df_pivot_diff.sort_values(\"stamp_2\", ascending = False)[\"stamp_2\"].head(10).plot.barh()"
   ]
  },
  {
   "cell_type": "code",
   "execution_count": null,
   "id": "extra-executive",
   "metadata": {
    "papermill": {
     "duration": 0.031857,
     "end_time": "2021-12-19T19:30:14.497412",
     "exception": false,
     "start_time": "2021-12-19T19:30:14.465555",
     "status": "completed"
    },
    "tags": []
   },
   "outputs": [],
   "source": []
  }
 ],
 "metadata": {
  "kernelspec": {
   "display_name": "Python 3",
   "language": "python",
   "name": "python3"
  },
  "language_info": {
   "codemirror_mode": {
    "name": "ipython",
    "version": 3
   },
   "file_extension": ".py",
   "mimetype": "text/x-python",
   "name": "python",
   "nbconvert_exporter": "python",
   "pygments_lexer": "ipython3",
   "version": "3.9.5"
  },
  "papermill": {
   "default_parameters": {},
   "duration": 9.68763,
   "end_time": "2021-12-19T19:30:15.144225",
   "environment_variables": {},
   "exception": null,
   "input_path": "eBay_Overview.ipynb",
   "output_path": "eBay_Overview.ipynb",
   "parameters": {},
   "start_time": "2021-12-19T19:30:05.456595",
   "version": "2.3.3"
  }
 },
 "nbformat": 4,
 "nbformat_minor": 5
}