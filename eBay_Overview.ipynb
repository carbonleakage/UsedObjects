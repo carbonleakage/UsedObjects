{
 "cells": [
  {
   "cell_type": "code",
   "execution_count": 1,
   "id": "reverse-picking",
   "metadata": {
    "execution": {
     "iopub.execute_input": "2021-08-26T19:30:07.892156Z",
     "iopub.status.busy": "2021-08-26T19:30:07.890195Z",
     "iopub.status.idle": "2021-08-26T19:30:08.694391Z",
     "shell.execute_reply": "2021-08-26T19:30:08.695809Z"
    },
    "papermill": {
     "duration": 0.856664,
     "end_time": "2021-08-26T19:30:08.696559",
     "exception": false,
     "start_time": "2021-08-26T19:30:07.839895",
     "status": "completed"
    },
    "tags": []
   },
   "outputs": [],
   "source": [
    "import pandas as pd\n",
    "import sqlite3"
   ]
  },
  {
   "cell_type": "code",
   "execution_count": 2,
   "id": "innovative-syndrome",
   "metadata": {
    "execution": {
     "iopub.execute_input": "2021-08-26T19:30:08.748115Z",
     "iopub.status.busy": "2021-08-26T19:30:08.746176Z",
     "iopub.status.idle": "2021-08-26T19:30:08.881137Z",
     "shell.execute_reply": "2021-08-26T19:30:08.882348Z"
    },
    "papermill": {
     "duration": 0.165016,
     "end_time": "2021-08-26T19:30:08.882741",
     "exception": false,
     "start_time": "2021-08-26T19:30:08.717725",
     "status": "completed"
    },
    "tags": []
   },
   "outputs": [],
   "source": [
    "timestamps = pd.read_sql(\"select distinct record_time from EBAY_TOP_BERLIN order by record_time desc limit 2\", sqlite3.connect(\"UsedObjects.db\"))"
   ]
  },
  {
   "cell_type": "code",
   "execution_count": 3,
   "id": "periodic-identification",
   "metadata": {
    "execution": {
     "iopub.execute_input": "2021-08-26T19:30:08.953901Z",
     "iopub.status.busy": "2021-08-26T19:30:08.949115Z",
     "iopub.status.idle": "2021-08-26T19:30:08.970870Z",
     "shell.execute_reply": "2021-08-26T19:30:08.972170Z"
    },
    "papermill": {
     "duration": 0.067478,
     "end_time": "2021-08-26T19:30:08.972633",
     "exception": false,
     "start_time": "2021-08-26T19:30:08.905155",
     "status": "completed"
    },
    "tags": []
   },
   "outputs": [
    {
     "data": {
      "text/html": [
       "<div>\n",
       "<style scoped>\n",
       "    .dataframe tbody tr th:only-of-type {\n",
       "        vertical-align: middle;\n",
       "    }\n",
       "\n",
       "    .dataframe tbody tr th {\n",
       "        vertical-align: top;\n",
       "    }\n",
       "\n",
       "    .dataframe thead th {\n",
       "        text-align: right;\n",
       "    }\n",
       "</style>\n",
       "<table border=\"1\" class=\"dataframe\">\n",
       "  <thead>\n",
       "    <tr style=\"text-align: right;\">\n",
       "      <th></th>\n",
       "      <th>RECORD_TIME</th>\n",
       "    </tr>\n",
       "  </thead>\n",
       "  <tbody>\n",
       "    <tr>\n",
       "      <th>0</th>\n",
       "      <td>2021-08-26 21:30</td>\n",
       "    </tr>\n",
       "    <tr>\n",
       "      <th>1</th>\n",
       "      <td>2021-08-26 21:00</td>\n",
       "    </tr>\n",
       "  </tbody>\n",
       "</table>\n",
       "</div>"
      ],
      "text/plain": [
       "        RECORD_TIME\n",
       "0  2021-08-26 21:30\n",
       "1  2021-08-26 21:00"
      ]
     },
     "execution_count": 3,
     "metadata": {},
     "output_type": "execute_result"
    }
   ],
   "source": [
    "timestamps"
   ]
  },
  {
   "cell_type": "code",
   "execution_count": 4,
   "id": "alternate-victory",
   "metadata": {
    "execution": {
     "iopub.execute_input": "2021-08-26T19:30:09.023460Z",
     "iopub.status.busy": "2021-08-26T19:30:09.021617Z",
     "iopub.status.idle": "2021-08-26T19:30:09.227218Z",
     "shell.execute_reply": "2021-08-26T19:30:09.228674Z"
    },
    "papermill": {
     "duration": 0.235825,
     "end_time": "2021-08-26T19:30:09.229106",
     "exception": false,
     "start_time": "2021-08-26T19:30:08.993281",
     "status": "completed"
    },
    "tags": []
   },
   "outputs": [],
   "source": [
    "df = pd.read_sql(\"select * from EBAY_TOP_BERLIN where record_time in (select distinct record_time from EBAY_TOP_BERLIN order by record_time desc limit 2)\", sqlite3.connect(\"UsedObjects.db\"))"
   ]
  },
  {
   "cell_type": "code",
   "execution_count": 5,
   "id": "popular-active",
   "metadata": {
    "execution": {
     "iopub.execute_input": "2021-08-26T19:30:09.301198Z",
     "iopub.status.busy": "2021-08-26T19:30:09.289424Z",
     "iopub.status.idle": "2021-08-26T19:30:09.317332Z",
     "shell.execute_reply": "2021-08-26T19:30:09.318726Z"
    },
    "papermill": {
     "duration": 0.069729,
     "end_time": "2021-08-26T19:30:09.319166",
     "exception": false,
     "start_time": "2021-08-26T19:30:09.249437",
     "status": "completed"
    },
    "tags": []
   },
   "outputs": [],
   "source": [
    "df_pivot = df.pivot_table(index=\"PRODUCT\", columns = \"RECORD_TIME\", values = \"LISTING_COUNT\")"
   ]
  },
  {
   "cell_type": "code",
   "execution_count": 6,
   "id": "union-huntington",
   "metadata": {
    "execution": {
     "iopub.execute_input": "2021-08-26T19:30:09.393704Z",
     "iopub.status.busy": "2021-08-26T19:30:09.391576Z",
     "iopub.status.idle": "2021-08-26T19:30:09.396990Z",
     "shell.execute_reply": "2021-08-26T19:30:09.398302Z"
    },
    "papermill": {
     "duration": 0.046136,
     "end_time": "2021-08-26T19:30:09.398715",
     "exception": false,
     "start_time": "2021-08-26T19:30:09.352579",
     "status": "completed"
    },
    "tags": []
   },
   "outputs": [],
   "source": [
    "df_pivot.columns = [\"stamp_1\", \"stamp_2\"]\n",
    "df_pivot_diff = df_pivot.diff(axis=1)"
   ]
  },
  {
   "cell_type": "code",
   "execution_count": 7,
   "id": "fifth-motion",
   "metadata": {
    "execution": {
     "iopub.execute_input": "2021-08-26T19:30:09.451944Z",
     "iopub.status.busy": "2021-08-26T19:30:09.449583Z",
     "iopub.status.idle": "2021-08-26T19:30:10.923178Z",
     "shell.execute_reply": "2021-08-26T19:30:10.924716Z"
    },
    "papermill": {
     "duration": 1.50646,
     "end_time": "2021-08-26T19:30:10.925188",
     "exception": false,
     "start_time": "2021-08-26T19:30:09.418728",
     "status": "completed"
    },
    "tags": []
   },
   "outputs": [
    {
     "data": {
      "text/plain": [
       "<AxesSubplot:ylabel='PRODUCT'>"
      ]
     },
     "execution_count": 7,
     "metadata": {},
     "output_type": "execute_result"
    },
    {
     "data": {
      "image/png": "[encoded data removed]",
      "text/plain": [
       "<Figure size 432x288 with 1 Axes>"
      ]
     },
     "metadata": {
      "needs_background": "light"
     },
     "output_type": "display_data"
    }
   ],
   "source": [
    "df_pivot_diff.sort_values(\"stamp_2\", ascending = False)[\"stamp_2\"].head(10).plot.barh()"
   ]
  },
  {
   "cell_type": "code",
   "execution_count": null,
   "id": "extra-executive",
   "metadata": {
    "papermill": {
     "duration": 0.022029,
     "end_time": "2021-08-26T19:30:10.971857",
     "exception": false,
     "start_time": "2021-08-26T19:30:10.949828",
     "status": "completed"
    },
    "tags": []
   },
   "outputs": [],
   "source": []
  }
 ],
 "metadata": {
  "kernelspec": {
   "display_name": "Python 3",
   "language": "python",
   "name": "python3"
  },
  "language_info": {
   "codemirror_mode": {
    "name": "ipython",
    "version": 3
   },
   "file_extension": ".py",
   "mimetype": "text/x-python",
   "name": "python",
   "nbconvert_exporter": "python",
   "pygments_lexer": "ipython3",
   "version": "3.9.5"
  },
  "papermill": {
   "default_parameters": {},
   "duration": 6.82014,
   "end_time": "2021-08-26T19:30:12.271928",
   "environment_variables": {},
   "exception": null,
   "input_path": "eBay_Overview.ipynb",
   "output_path": "eBay_Overview.ipynb",
   "parameters": {},
   "start_time": "2021-08-26T19:30:05.451788",
   "version": "2.3.3"
  }
 },
 "nbformat": 4,
 "nbformat_minor": 5
}