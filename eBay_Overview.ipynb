{
 "cells": [
  {
   "cell_type": "code",
   "execution_count": 1,
   "id": "reverse-picking",
   "metadata": {
    "execution": {
     "iopub.execute_input": "2021-11-09T19:00:07.909647Z",
     "iopub.status.busy": "2021-11-09T19:00:07.906811Z",
     "iopub.status.idle": "2021-11-09T19:00:08.874234Z",
     "shell.execute_reply": "2021-11-09T19:00:08.875785Z"
    },
    "papermill": {
     "duration": 1.008431,
     "end_time": "2021-11-09T19:00:08.876494",
     "exception": false,
     "start_time": "2021-11-09T19:00:07.868063",
     "status": "completed"
    },
    "tags": []
   },
   "outputs": [],
   "source": [
    "import pandas as pd\n",
    "import sqlite3"
   ]
  },
  {
   "cell_type": "code",
   "execution_count": 2,
   "id": "innovative-syndrome",
   "metadata": {
    "execution": {
     "iopub.execute_input": "2021-11-09T19:00:08.939681Z",
     "iopub.status.busy": "2021-11-09T19:00:08.937446Z",
     "iopub.status.idle": "2021-11-09T19:00:09.715138Z",
     "shell.execute_reply": "2021-11-09T19:00:09.716770Z"
    },
    "papermill": {
     "duration": 0.813032,
     "end_time": "2021-11-09T19:00:09.717268",
     "exception": false,
     "start_time": "2021-11-09T19:00:08.904236",
     "status": "completed"
    },
    "tags": []
   },
   "outputs": [],
   "source": [
    "timestamps = pd.read_sql(\"select distinct record_time from EBAY_TOP_BERLIN order by record_time desc limit 2\", sqlite3.connect(\"UsedObjects.db\"))"
   ]
  },
  {
   "cell_type": "code",
   "execution_count": 3,
   "id": "periodic-identification",
   "metadata": {
    "execution": {
     "iopub.execute_input": "2021-11-09T19:00:09.792369Z",
     "iopub.status.busy": "2021-11-09T19:00:09.786685Z",
     "iopub.status.idle": "2021-11-09T19:00:09.811901Z",
     "shell.execute_reply": "2021-11-09T19:00:09.810126Z"
    },
    "papermill": {
     "duration": 0.074781,
     "end_time": "2021-11-09T19:00:09.812388",
     "exception": false,
     "start_time": "2021-11-09T19:00:09.737607",
     "status": "completed"
    },
    "tags": []
   },
   "outputs": [
    {
     "data": {
      "text/html": [
       "<div>\n",
       "<style scoped>\n",
       "    .dataframe tbody tr th:only-of-type {\n",
       "        vertical-align: middle;\n",
       "    }\n",
       "\n",
       "    .dataframe tbody tr th {\n",
       "        vertical-align: top;\n",
       "    }\n",
       "\n",
       "    .dataframe thead th {\n",
       "        text-align: right;\n",
       "    }\n",
       "</style>\n",
       "<table border=\"1\" class=\"dataframe\">\n",
       "  <thead>\n",
       "    <tr style=\"text-align: right;\">\n",
       "      <th></th>\n",
       "      <th>RECORD_TIME</th>\n",
       "    </tr>\n",
       "  </thead>\n",
       "  <tbody>\n",
       "    <tr>\n",
       "      <th>0</th>\n",
       "      <td>2021-11-09 20:00</td>\n",
       "    </tr>\n",
       "    <tr>\n",
       "      <th>1</th>\n",
       "      <td>2021-11-09 19:30</td>\n",
       "    </tr>\n",
       "  </tbody>\n",
       "</table>\n",
       "</div>"
      ],
      "text/plain": [
       "        RECORD_TIME\n",
       "0  2021-11-09 20:00\n",
       "1  2021-11-09 19:30"
      ]
     },
     "execution_count": 3,
     "metadata": {},
     "output_type": "execute_result"
    }
   ],
   "source": [
    "timestamps"
   ]
  },
  {
   "cell_type": "code",
   "execution_count": 4,
   "id": "alternate-victory",
   "metadata": {
    "execution": {
     "iopub.execute_input": "2021-11-09T19:00:09.869911Z",
     "iopub.status.busy": "2021-11-09T19:00:09.867723Z",
     "iopub.status.idle": "2021-11-09T19:00:11.009976Z",
     "shell.execute_reply": "2021-11-09T19:00:11.012583Z"
    },
    "papermill": {
     "duration": 1.177254,
     "end_time": "2021-11-09T19:00:11.013498",
     "exception": false,
     "start_time": "2021-11-09T19:00:09.836244",
     "status": "completed"
    },
    "tags": []
   },
   "outputs": [],
   "source": [
    "df = pd.read_sql(\"select * from EBAY_TOP_BERLIN where record_time in (select distinct record_time from EBAY_TOP_BERLIN order by record_time desc limit 2)\", sqlite3.connect(\"UsedObjects.db\"))"
   ]
  },
  {
   "cell_type": "code",
   "execution_count": 5,
   "id": "popular-active",
   "metadata": {
    "execution": {
     "iopub.execute_input": "2021-11-09T19:00:11.109911Z",
     "iopub.status.busy": "2021-11-09T19:00:11.093791Z",
     "iopub.status.idle": "2021-11-09T19:00:11.129386Z",
     "shell.execute_reply": "2021-11-09T19:00:11.130872Z"
    },
    "papermill": {
     "duration": 0.085847,
     "end_time": "2021-11-09T19:00:11.131428",
     "exception": false,
     "start_time": "2021-11-09T19:00:11.045581",
     "status": "completed"
    },
    "tags": []
   },
   "outputs": [],
   "source": [
    "df_pivot = df.pivot_table(index=\"PRODUCT\", columns = \"RECORD_TIME\", values = \"LISTING_COUNT\")"
   ]
  },
  {
   "cell_type": "code",
   "execution_count": 6,
   "id": "union-huntington",
   "metadata": {
    "execution": {
     "iopub.execute_input": "2021-11-09T19:00:11.192776Z",
     "iopub.status.busy": "2021-11-09T19:00:11.190587Z",
     "iopub.status.idle": "2021-11-09T19:00:11.197922Z",
     "shell.execute_reply": "2021-11-09T19:00:11.196311Z"
    },
    "papermill": {
     "duration": 0.044299,
     "end_time": "2021-11-09T19:00:11.198303",
     "exception": false,
     "start_time": "2021-11-09T19:00:11.154004",
     "status": "completed"
    },
    "tags": []
   },
   "outputs": [],
   "source": [
    "df_pivot.columns = [\"stamp_1\", \"stamp_2\"]\n",
    "df_pivot_diff = df_pivot.diff(axis=1)"
   ]
  },
  {
   "cell_type": "code",
   "execution_count": 7,
   "id": "fifth-motion",
   "metadata": {
    "execution": {
     "iopub.execute_input": "2021-11-09T19:00:11.254922Z",
     "iopub.status.busy": "2021-11-09T19:00:11.252371Z",
     "iopub.status.idle": "2021-11-09T19:00:13.167518Z",
     "shell.execute_reply": "2021-11-09T19:00:13.169619Z"
    },
    "papermill": {
     "duration": 1.95186,
     "end_time": "2021-11-09T19:00:13.170235",
     "exception": false,
     "start_time": "2021-11-09T19:00:11.218375",
     "status": "completed"
    },
    "tags": []
   },
   "outputs": [
    {
     "data": {
      "text/plain": [
       "<AxesSubplot:ylabel='PRODUCT'>"
      ]
     },
     "execution_count": 7,
     "metadata": {},
     "output_type": "execute_result"
    },
    {
     "data": {
      "image/png": "[encoded data removed]",
      "text/plain": [
       "<Figure size 432x288 with 1 Axes>"
      ]
     },
     "metadata": {
      "needs_background": "light"
     },
     "output_type": "display_data"
    }
   ],
   "source": [
    "df_pivot_diff.sort_values(\"stamp_2\", ascending = False)[\"stamp_2\"].head(10).plot.barh()"
   ]
  },
  {
   "cell_type": "code",
   "execution_count": null,
   "id": "extra-executive",
   "metadata": {
    "papermill": {
     "duration": 0.024481,
     "end_time": "2021-11-09T19:00:13.224479",
     "exception": false,
     "start_time": "2021-11-09T19:00:13.199998",
     "status": "completed"
    },
    "tags": []
   },
   "outputs": [],
   "source": []
  }
 ],
 "metadata": {
  "kernelspec": {
   "display_name": "Python 3",
   "language": "python",
   "name": "python3"
  },
  "language_info": {
   "codemirror_mode": {
    "name": "ipython",
    "version": 3
   },
   "file_extension": ".py",
   "mimetype": "text/x-python",
   "name": "python",
   "nbconvert_exporter": "python",
   "pygments_lexer": "ipython3",
   "version": "3.9.5"
  },
  "papermill": {
   "default_parameters": {},
   "duration": 8.911016,
   "end_time": "2021-11-09T19:00:14.069796",
   "environment_variables": {},
   "exception": null,
   "input_path": "eBay_Overview.ipynb",
   "output_path": "eBay_Overview.ipynb",
   "parameters": {},
   "start_time": "2021-11-09T19:00:05.158780",
   "version": "2.3.3"
  }
 },
 "nbformat": 4,
 "nbformat_minor": 5
}