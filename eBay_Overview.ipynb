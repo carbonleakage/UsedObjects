{
 "cells": [
  {
   "cell_type": "code",
   "execution_count": 1,
   "id": "reverse-picking",
   "metadata": {
    "execution": {
     "iopub.execute_input": "2021-10-29T02:30:07.421279Z",
     "iopub.status.busy": "2021-10-29T02:30:07.419282Z",
     "iopub.status.idle": "2021-10-29T02:30:08.223820Z",
     "shell.execute_reply": "2021-10-29T02:30:08.225223Z"
    },
    "papermill": {
     "duration": 0.856434,
     "end_time": "2021-10-29T02:30:08.225909",
     "exception": false,
     "start_time": "2021-10-29T02:30:07.369475",
     "status": "completed"
    },
    "tags": []
   },
   "outputs": [],
   "source": [
    "import pandas as pd\n",
    "import sqlite3"
   ]
  },
  {
   "cell_type": "code",
   "execution_count": 2,
   "id": "innovative-syndrome",
   "metadata": {
    "execution": {
     "iopub.execute_input": "2021-10-29T02:30:08.277281Z",
     "iopub.status.busy": "2021-10-29T02:30:08.275137Z",
     "iopub.status.idle": "2021-10-29T02:30:08.957958Z",
     "shell.execute_reply": "2021-10-29T02:30:08.959176Z"
    },
    "papermill": {
     "duration": 0.713288,
     "end_time": "2021-10-29T02:30:08.959580",
     "exception": false,
     "start_time": "2021-10-29T02:30:08.246292",
     "status": "completed"
    },
    "tags": []
   },
   "outputs": [],
   "source": [
    "timestamps = pd.read_sql(\"select distinct record_time from EBAY_TOP_BERLIN order by record_time desc limit 2\", sqlite3.connect(\"UsedObjects.db\"))"
   ]
  },
  {
   "cell_type": "code",
   "execution_count": 3,
   "id": "periodic-identification",
   "metadata": {
    "execution": {
     "iopub.execute_input": "2021-10-29T02:30:09.036800Z",
     "iopub.status.busy": "2021-10-29T02:30:09.034738Z",
     "iopub.status.idle": "2021-10-29T02:30:09.055295Z",
     "shell.execute_reply": "2021-10-29T02:30:09.056973Z"
    },
    "papermill": {
     "duration": 0.069854,
     "end_time": "2021-10-29T02:30:09.057532",
     "exception": false,
     "start_time": "2021-10-29T02:30:08.987678",
     "status": "completed"
    },
    "tags": []
   },
   "outputs": [
    {
     "data": {
      "text/html": [
       "<div>\n",
       "<style scoped>\n",
       "    .dataframe tbody tr th:only-of-type {\n",
       "        vertical-align: middle;\n",
       "    }\n",
       "\n",
       "    .dataframe tbody tr th {\n",
       "        vertical-align: top;\n",
       "    }\n",
       "\n",
       "    .dataframe thead th {\n",
       "        text-align: right;\n",
       "    }\n",
       "</style>\n",
       "<table border=\"1\" class=\"dataframe\">\n",
       "  <thead>\n",
       "    <tr style=\"text-align: right;\">\n",
       "      <th></th>\n",
       "      <th>RECORD_TIME</th>\n",
       "    </tr>\n",
       "  </thead>\n",
       "  <tbody>\n",
       "    <tr>\n",
       "      <th>0</th>\n",
       "      <td>2021-10-29 04:30</td>\n",
       "    </tr>\n",
       "    <tr>\n",
       "      <th>1</th>\n",
       "      <td>2021-10-29 04:00</td>\n",
       "    </tr>\n",
       "  </tbody>\n",
       "</table>\n",
       "</div>"
      ],
      "text/plain": [
       "        RECORD_TIME\n",
       "0  2021-10-29 04:30\n",
       "1  2021-10-29 04:00"
      ]
     },
     "execution_count": 3,
     "metadata": {},
     "output_type": "execute_result"
    }
   ],
   "source": [
    "timestamps"
   ]
  },
  {
   "cell_type": "code",
   "execution_count": 4,
   "id": "alternate-victory",
   "metadata": {
    "execution": {
     "iopub.execute_input": "2021-10-29T02:30:09.109489Z",
     "iopub.status.busy": "2021-10-29T02:30:09.107570Z",
     "iopub.status.idle": "2021-10-29T02:30:10.094871Z",
     "shell.execute_reply": "2021-10-29T02:30:10.093369Z"
    },
    "papermill": {
     "duration": 1.016066,
     "end_time": "2021-10-29T02:30:10.095251",
     "exception": false,
     "start_time": "2021-10-29T02:30:09.079185",
     "status": "completed"
    },
    "tags": []
   },
   "outputs": [],
   "source": [
    "df = pd.read_sql(\"select * from EBAY_TOP_BERLIN where record_time in (select distinct record_time from EBAY_TOP_BERLIN order by record_time desc limit 2)\", sqlite3.connect(\"UsedObjects.db\"))"
   ]
  },
  {
   "cell_type": "code",
   "execution_count": 5,
   "id": "popular-active",
   "metadata": {
    "execution": {
     "iopub.execute_input": "2021-10-29T02:30:10.166432Z",
     "iopub.status.busy": "2021-10-29T02:30:10.154411Z",
     "iopub.status.idle": "2021-10-29T02:30:10.182920Z",
     "shell.execute_reply": "2021-10-29T02:30:10.184279Z"
    },
    "papermill": {
     "duration": 0.068805,
     "end_time": "2021-10-29T02:30:10.184890",
     "exception": false,
     "start_time": "2021-10-29T02:30:10.116085",
     "status": "completed"
    },
    "tags": []
   },
   "outputs": [],
   "source": [
    "df_pivot = df.pivot_table(index=\"PRODUCT\", columns = \"RECORD_TIME\", values = \"LISTING_COUNT\")"
   ]
  },
  {
   "cell_type": "code",
   "execution_count": 6,
   "id": "union-huntington",
   "metadata": {
    "execution": {
     "iopub.execute_input": "2021-10-29T02:30:10.244626Z",
     "iopub.status.busy": "2021-10-29T02:30:10.242171Z",
     "iopub.status.idle": "2021-10-29T02:30:10.247982Z",
     "shell.execute_reply": "2021-10-29T02:30:10.249461Z"
    },
    "papermill": {
     "duration": 0.042545,
     "end_time": "2021-10-29T02:30:10.249926",
     "exception": false,
     "start_time": "2021-10-29T02:30:10.207381",
     "status": "completed"
    },
    "tags": []
   },
   "outputs": [],
   "source": [
    "df_pivot.columns = [\"stamp_1\", \"stamp_2\"]\n",
    "df_pivot_diff = df_pivot.diff(axis=1)"
   ]
  },
  {
   "cell_type": "code",
   "execution_count": 7,
   "id": "fifth-motion",
   "metadata": {
    "execution": {
     "iopub.execute_input": "2021-10-29T02:30:10.304052Z",
     "iopub.status.busy": "2021-10-29T02:30:10.301863Z",
     "iopub.status.idle": "2021-10-29T02:30:11.806552Z",
     "shell.execute_reply": "2021-10-29T02:30:11.807831Z"
    },
    "papermill": {
     "duration": 1.537549,
     "end_time": "2021-10-29T02:30:11.808250",
     "exception": false,
     "start_time": "2021-10-29T02:30:10.270701",
     "status": "completed"
    },
    "tags": []
   },
   "outputs": [
    {
     "data": {
      "text/plain": [
       "<AxesSubplot:ylabel='PRODUCT'>"
      ]
     },
     "execution_count": 7,
     "metadata": {},
     "output_type": "execute_result"
    },
    {
     "data": {
      "image/png": "[encoded data removed]",
      "text/plain": [
       "<Figure size 432x288 with 1 Axes>"
      ]
     },
     "metadata": {
      "needs_background": "light"
     },
     "output_type": "display_data"
    }
   ],
   "source": [
    "df_pivot_diff.sort_values(\"stamp_2\", ascending = False)[\"stamp_2\"].head(10).plot.barh()"
   ]
  },
  {
   "cell_type": "code",
   "execution_count": null,
   "id": "extra-executive",
   "metadata": {
    "papermill": {
     "duration": 0.022436,
     "end_time": "2021-10-29T02:30:11.854706",
     "exception": false,
     "start_time": "2021-10-29T02:30:11.832270",
     "status": "completed"
    },
    "tags": []
   },
   "outputs": [],
   "source": []
  }
 ],
 "metadata": {
  "kernelspec": {
   "display_name": "Python 3",
   "language": "python",
   "name": "python3"
  },
  "language_info": {
   "codemirror_mode": {
    "name": "ipython",
    "version": 3
   },
   "file_extension": ".py",
   "mimetype": "text/x-python",
   "name": "python",
   "nbconvert_exporter": "python",
   "pygments_lexer": "ipython3",
   "version": "3.9.5"
  },
  "papermill": {
   "default_parameters": {},
   "duration": 7.531943,
   "end_time": "2021-10-29T02:30:12.498924",
   "environment_variables": {},
   "exception": null,
   "input_path": "eBay_Overview.ipynb",
   "output_path": "eBay_Overview.ipynb",
   "parameters": {},
   "start_time": "2021-10-29T02:30:04.966981",
   "version": "2.3.3"
  }
 },
 "nbformat": 4,
 "nbformat_minor": 5
}