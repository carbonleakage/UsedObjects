{
 "cells": [
  {
   "cell_type": "code",
   "execution_count": 1,
   "id": "reverse-picking",
   "metadata": {
    "execution": {
     "iopub.execute_input": "2021-12-05T10:30:08.184213Z",
     "iopub.status.busy": "2021-12-05T10:30:08.181740Z",
     "iopub.status.idle": "2021-12-05T10:30:09.140375Z",
     "shell.execute_reply": "2021-12-05T10:30:09.142663Z"
    },
    "papermill": {
     "duration": 1.010313,
     "end_time": "2021-12-05T10:30:09.143582",
     "exception": false,
     "start_time": "2021-12-05T10:30:08.133269",
     "status": "completed"
    },
    "tags": []
   },
   "outputs": [],
   "source": [
    "import pandas as pd\n",
    "import sqlite3"
   ]
  },
  {
   "cell_type": "code",
   "execution_count": 2,
   "id": "innovative-syndrome",
   "metadata": {
    "execution": {
     "iopub.execute_input": "2021-12-05T10:30:09.218315Z",
     "iopub.status.busy": "2021-12-05T10:30:09.215887Z",
     "iopub.status.idle": "2021-12-05T10:30:10.216073Z",
     "shell.execute_reply": "2021-12-05T10:30:10.217356Z"
    },
    "papermill": {
     "duration": 1.043951,
     "end_time": "2021-12-05T10:30:10.217763",
     "exception": false,
     "start_time": "2021-12-05T10:30:09.173812",
     "status": "completed"
    },
    "tags": []
   },
   "outputs": [],
   "source": [
    "timestamps = pd.read_sql(\"select distinct record_time from EBAY_TOP_BERLIN order by record_time desc limit 2\", sqlite3.connect(\"UsedObjects.db\"))"
   ]
  },
  {
   "cell_type": "code",
   "execution_count": 3,
   "id": "periodic-identification",
   "metadata": {
    "execution": {
     "iopub.execute_input": "2021-12-05T10:30:10.281993Z",
     "iopub.status.busy": "2021-12-05T10:30:10.279774Z",
     "iopub.status.idle": "2021-12-05T10:30:10.301839Z",
     "shell.execute_reply": "2021-12-05T10:30:10.303183Z"
    },
    "papermill": {
     "duration": 0.066422,
     "end_time": "2021-12-05T10:30:10.303655",
     "exception": false,
     "start_time": "2021-12-05T10:30:10.237233",
     "status": "completed"
    },
    "tags": []
   },
   "outputs": [
    {
     "data": {
      "text/html": [
       "<div>\n",
       "<style scoped>\n",
       "    .dataframe tbody tr th:only-of-type {\n",
       "        vertical-align: middle;\n",
       "    }\n",
       "\n",
       "    .dataframe tbody tr th {\n",
       "        vertical-align: top;\n",
       "    }\n",
       "\n",
       "    .dataframe thead th {\n",
       "        text-align: right;\n",
       "    }\n",
       "</style>\n",
       "<table border=\"1\" class=\"dataframe\">\n",
       "  <thead>\n",
       "    <tr style=\"text-align: right;\">\n",
       "      <th></th>\n",
       "      <th>RECORD_TIME</th>\n",
       "    </tr>\n",
       "  </thead>\n",
       "  <tbody>\n",
       "    <tr>\n",
       "      <th>0</th>\n",
       "      <td>2021-12-05 11:30</td>\n",
       "    </tr>\n",
       "    <tr>\n",
       "      <th>1</th>\n",
       "      <td>2021-12-05 11:00</td>\n",
       "    </tr>\n",
       "  </tbody>\n",
       "</table>\n",
       "</div>"
      ],
      "text/plain": [
       "        RECORD_TIME\n",
       "0  2021-12-05 11:30\n",
       "1  2021-12-05 11:00"
      ]
     },
     "execution_count": 3,
     "metadata": {},
     "output_type": "execute_result"
    }
   ],
   "source": [
    "timestamps"
   ]
  },
  {
   "cell_type": "code",
   "execution_count": 4,
   "id": "alternate-victory",
   "metadata": {
    "execution": {
     "iopub.execute_input": "2021-12-05T10:30:10.357281Z",
     "iopub.status.busy": "2021-12-05T10:30:10.355076Z",
     "iopub.status.idle": "2021-12-05T10:30:11.787588Z",
     "shell.execute_reply": "2021-12-05T10:30:11.789718Z"
    },
    "papermill": {
     "duration": 1.466312,
     "end_time": "2021-12-05T10:30:11.790191",
     "exception": false,
     "start_time": "2021-12-05T10:30:10.323879",
     "status": "completed"
    },
    "tags": []
   },
   "outputs": [],
   "source": [
    "df = pd.read_sql(\"select * from EBAY_TOP_BERLIN where record_time in (select distinct record_time from EBAY_TOP_BERLIN order by record_time desc limit 2)\", sqlite3.connect(\"UsedObjects.db\"))"
   ]
  },
  {
   "cell_type": "code",
   "execution_count": 5,
   "id": "popular-active",
   "metadata": {
    "execution": {
     "iopub.execute_input": "2021-12-05T10:30:11.863849Z",
     "iopub.status.busy": "2021-12-05T10:30:11.850539Z",
     "iopub.status.idle": "2021-12-05T10:30:11.882500Z",
     "shell.execute_reply": "2021-12-05T10:30:11.884048Z"
    },
    "papermill": {
     "duration": 0.073996,
     "end_time": "2021-12-05T10:30:11.884564",
     "exception": false,
     "start_time": "2021-12-05T10:30:11.810568",
     "status": "completed"
    },
    "tags": []
   },
   "outputs": [],
   "source": [
    "df_pivot = df.pivot_table(index=\"PRODUCT\", columns = \"RECORD_TIME\", values = \"LISTING_COUNT\")"
   ]
  },
  {
   "cell_type": "code",
   "execution_count": 6,
   "id": "union-huntington",
   "metadata": {
    "execution": {
     "iopub.execute_input": "2021-12-05T10:30:11.979681Z",
     "iopub.status.busy": "2021-12-05T10:30:11.977525Z",
     "iopub.status.idle": "2021-12-05T10:30:11.983227Z",
     "shell.execute_reply": "2021-12-05T10:30:11.984916Z"
    },
    "papermill": {
     "duration": 0.079227,
     "end_time": "2021-12-05T10:30:11.985406",
     "exception": false,
     "start_time": "2021-12-05T10:30:11.906179",
     "status": "completed"
    },
    "tags": []
   },
   "outputs": [],
   "source": [
    "df_pivot.columns = [\"stamp_1\", \"stamp_2\"]\n",
    "df_pivot_diff = df_pivot.diff(axis=1)"
   ]
  },
  {
   "cell_type": "code",
   "execution_count": 7,
   "id": "fifth-motion",
   "metadata": {
    "execution": {
     "iopub.execute_input": "2021-12-05T10:30:12.041838Z",
     "iopub.status.busy": "2021-12-05T10:30:12.039286Z",
     "iopub.status.idle": "2021-12-05T10:30:14.062207Z",
     "shell.execute_reply": "2021-12-05T10:30:14.063510Z"
    },
    "papermill": {
     "duration": 2.058349,
     "end_time": "2021-12-05T10:30:14.063937",
     "exception": false,
     "start_time": "2021-12-05T10:30:12.005588",
     "status": "completed"
    },
    "tags": []
   },
   "outputs": [
    {
     "data": {
      "text/plain": [
       "<AxesSubplot:ylabel='PRODUCT'>"
      ]
     },
     "execution_count": 7,
     "metadata": {},
     "output_type": "execute_result"
    },
    {
     "data": {
      "image/png": "[encoded data removed]",
      "text/plain": [
       "<Figure size 432x288 with 1 Axes>"
      ]
     },
     "metadata": {
      "needs_background": "light"
     },
     "output_type": "display_data"
    }
   ],
   "source": [
    "df_pivot_diff.sort_values(\"stamp_2\", ascending = False)[\"stamp_2\"].head(10).plot.barh()"
   ]
  },
  {
   "cell_type": "code",
   "execution_count": null,
   "id": "extra-executive",
   "metadata": {
    "papermill": {
     "duration": 0.022093,
     "end_time": "2021-12-05T10:30:14.112121",
     "exception": false,
     "start_time": "2021-12-05T10:30:14.090028",
     "status": "completed"
    },
    "tags": []
   },
   "outputs": [],
   "source": []
  }
 ],
 "metadata": {
  "kernelspec": {
   "display_name": "Python 3",
   "language": "python",
   "name": "python3"
  },
  "language_info": {
   "codemirror_mode": {
    "name": "ipython",
    "version": 3
   },
   "file_extension": ".py",
   "mimetype": "text/x-python",
   "name": "python",
   "nbconvert_exporter": "python",
   "pygments_lexer": "ipython3",
   "version": "3.9.5"
  },
  "papermill": {
   "default_parameters": {},
   "duration": 9.937765,
   "end_time": "2021-12-05T10:30:15.328103",
   "environment_variables": {},
   "exception": null,
   "input_path": "eBay_Overview.ipynb",
   "output_path": "eBay_Overview.ipynb",
   "parameters": {},
   "start_time": "2021-12-05T10:30:05.390338",
   "version": "2.3.3"
  }
 },
 "nbformat": 4,
 "nbformat_minor": 5
}