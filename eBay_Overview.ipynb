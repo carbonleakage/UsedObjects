{
 "cells": [
  {
   "cell_type": "code",
   "execution_count": 1,
   "id": "reverse-picking",
   "metadata": {
    "execution": {
     "iopub.execute_input": "2021-10-08T02:30:06.841089Z",
     "iopub.status.busy": "2021-10-08T02:30:06.839170Z",
     "iopub.status.idle": "2021-10-08T02:30:07.653656Z",
     "shell.execute_reply": "2021-10-08T02:30:07.655015Z"
    },
    "papermill": {
     "duration": 0.866873,
     "end_time": "2021-10-08T02:30:07.655672",
     "exception": false,
     "start_time": "2021-10-08T02:30:06.788799",
     "status": "completed"
    },
    "tags": []
   },
   "outputs": [],
   "source": [
    "import pandas as pd\n",
    "import sqlite3"
   ]
  },
  {
   "cell_type": "code",
   "execution_count": 2,
   "id": "innovative-syndrome",
   "metadata": {
    "execution": {
     "iopub.execute_input": "2021-10-08T02:30:07.706695Z",
     "iopub.status.busy": "2021-10-08T02:30:07.704750Z",
     "iopub.status.idle": "2021-10-08T02:30:08.182942Z",
     "shell.execute_reply": "2021-10-08T02:30:08.184219Z"
    },
    "papermill": {
     "duration": 0.508471,
     "end_time": "2021-10-08T02:30:08.184632",
     "exception": false,
     "start_time": "2021-10-08T02:30:07.676161",
     "status": "completed"
    },
    "tags": []
   },
   "outputs": [],
   "source": [
    "timestamps = pd.read_sql(\"select distinct record_time from EBAY_TOP_BERLIN order by record_time desc limit 2\", sqlite3.connect(\"UsedObjects.db\"))"
   ]
  },
  {
   "cell_type": "code",
   "execution_count": 3,
   "id": "periodic-identification",
   "metadata": {
    "execution": {
     "iopub.execute_input": "2021-10-08T02:30:08.250036Z",
     "iopub.status.busy": "2021-10-08T02:30:08.248050Z",
     "iopub.status.idle": "2021-10-08T02:30:08.267710Z",
     "shell.execute_reply": "2021-10-08T02:30:08.268823Z"
    },
    "papermill": {
     "duration": 0.063284,
     "end_time": "2021-10-08T02:30:08.269224",
     "exception": false,
     "start_time": "2021-10-08T02:30:08.205940",
     "status": "completed"
    },
    "tags": []
   },
   "outputs": [
    {
     "data": {
      "text/html": [
       "<div>\n",
       "<style scoped>\n",
       "    .dataframe tbody tr th:only-of-type {\n",
       "        vertical-align: middle;\n",
       "    }\n",
       "\n",
       "    .dataframe tbody tr th {\n",
       "        vertical-align: top;\n",
       "    }\n",
       "\n",
       "    .dataframe thead th {\n",
       "        text-align: right;\n",
       "    }\n",
       "</style>\n",
       "<table border=\"1\" class=\"dataframe\">\n",
       "  <thead>\n",
       "    <tr style=\"text-align: right;\">\n",
       "      <th></th>\n",
       "      <th>RECORD_TIME</th>\n",
       "    </tr>\n",
       "  </thead>\n",
       "  <tbody>\n",
       "    <tr>\n",
       "      <th>0</th>\n",
       "      <td>2021-10-08 04:30</td>\n",
       "    </tr>\n",
       "    <tr>\n",
       "      <th>1</th>\n",
       "      <td>2021-10-08 04:00</td>\n",
       "    </tr>\n",
       "  </tbody>\n",
       "</table>\n",
       "</div>"
      ],
      "text/plain": [
       "        RECORD_TIME\n",
       "0  2021-10-08 04:30\n",
       "1  2021-10-08 04:00"
      ]
     },
     "execution_count": 3,
     "metadata": {},
     "output_type": "execute_result"
    }
   ],
   "source": [
    "timestamps"
   ]
  },
  {
   "cell_type": "code",
   "execution_count": 4,
   "id": "alternate-victory",
   "metadata": {
    "execution": {
     "iopub.execute_input": "2021-10-08T02:30:08.336007Z",
     "iopub.status.busy": "2021-10-08T02:30:08.333787Z",
     "iopub.status.idle": "2021-10-08T02:30:09.065342Z",
     "shell.execute_reply": "2021-10-08T02:30:09.066609Z"
    },
    "papermill": {
     "duration": 0.766585,
     "end_time": "2021-10-08T02:30:09.067099",
     "exception": false,
     "start_time": "2021-10-08T02:30:08.300514",
     "status": "completed"
    },
    "tags": []
   },
   "outputs": [],
   "source": [
    "df = pd.read_sql(\"select * from EBAY_TOP_BERLIN where record_time in (select distinct record_time from EBAY_TOP_BERLIN order by record_time desc limit 2)\", sqlite3.connect(\"UsedObjects.db\"))"
   ]
  },
  {
   "cell_type": "code",
   "execution_count": 5,
   "id": "popular-active",
   "metadata": {
    "execution": {
     "iopub.execute_input": "2021-10-08T02:30:09.140033Z",
     "iopub.status.busy": "2021-10-08T02:30:09.127072Z",
     "iopub.status.idle": "2021-10-08T02:30:09.156633Z",
     "shell.execute_reply": "2021-10-08T02:30:09.157897Z"
    },
    "papermill": {
     "duration": 0.070217,
     "end_time": "2021-10-08T02:30:09.158307",
     "exception": false,
     "start_time": "2021-10-08T02:30:09.088090",
     "status": "completed"
    },
    "tags": []
   },
   "outputs": [],
   "source": [
    "df_pivot = df.pivot_table(index=\"PRODUCT\", columns = \"RECORD_TIME\", values = \"LISTING_COUNT\")"
   ]
  },
  {
   "cell_type": "code",
   "execution_count": 6,
   "id": "union-huntington",
   "metadata": {
    "execution": {
     "iopub.execute_input": "2021-10-08T02:30:09.214527Z",
     "iopub.status.busy": "2021-10-08T02:30:09.212495Z",
     "iopub.status.idle": "2021-10-08T02:30:09.217810Z",
     "shell.execute_reply": "2021-10-08T02:30:09.219294Z"
    },
    "papermill": {
     "duration": 0.041204,
     "end_time": "2021-10-08T02:30:09.219739",
     "exception": false,
     "start_time": "2021-10-08T02:30:09.178535",
     "status": "completed"
    },
    "tags": []
   },
   "outputs": [],
   "source": [
    "df_pivot.columns = [\"stamp_1\", \"stamp_2\"]\n",
    "df_pivot_diff = df_pivot.diff(axis=1)"
   ]
  },
  {
   "cell_type": "code",
   "execution_count": 7,
   "id": "fifth-motion",
   "metadata": {
    "execution": {
     "iopub.execute_input": "2021-10-08T02:30:09.276485Z",
     "iopub.status.busy": "2021-10-08T02:30:09.273768Z",
     "iopub.status.idle": "2021-10-08T02:30:10.806862Z",
     "shell.execute_reply": "2021-10-08T02:30:10.808149Z"
    },
    "papermill": {
     "duration": 1.566807,
     "end_time": "2021-10-08T02:30:10.808559",
     "exception": false,
     "start_time": "2021-10-08T02:30:09.241752",
     "status": "completed"
    },
    "tags": []
   },
   "outputs": [
    {
     "data": {
      "text/plain": [
       "<AxesSubplot:ylabel='PRODUCT'>"
      ]
     },
     "execution_count": 7,
     "metadata": {},
     "output_type": "execute_result"
    },
    {
     "data": {
      "image/png": "[encoded data removed]",
      "text/plain": [
       "<Figure size 432x288 with 1 Axes>"
      ]
     },
     "metadata": {
      "needs_background": "light"
     },
     "output_type": "display_data"
    }
   ],
   "source": [
    "df_pivot_diff.sort_values(\"stamp_2\", ascending = False)[\"stamp_2\"].head(10).plot.barh()"
   ]
  },
  {
   "cell_type": "code",
   "execution_count": null,
   "id": "extra-executive",
   "metadata": {
    "papermill": {
     "duration": 0.022464,
     "end_time": "2021-10-08T02:30:10.856080",
     "exception": false,
     "start_time": "2021-10-08T02:30:10.833616",
     "status": "completed"
    },
    "tags": []
   },
   "outputs": [],
   "source": []
  }
 ],
 "metadata": {
  "kernelspec": {
   "display_name": "Python 3",
   "language": "python",
   "name": "python3"
  },
  "language_info": {
   "codemirror_mode": {
    "name": "ipython",
    "version": 3
   },
   "file_extension": ".py",
   "mimetype": "text/x-python",
   "name": "python",
   "nbconvert_exporter": "python",
   "pygments_lexer": "ipython3",
   "version": "3.9.5"
  },
  "papermill": {
   "default_parameters": {},
   "duration": 7.835624,
   "end_time": "2021-10-08T02:30:12.207752",
   "environment_variables": {},
   "exception": null,
   "input_path": "eBay_Overview.ipynb",
   "output_path": "eBay_Overview.ipynb",
   "parameters": {},
   "start_time": "2021-10-08T02:30:04.372128",
   "version": "2.3.3"
  }
 },
 "nbformat": 4,
 "nbformat_minor": 5
}