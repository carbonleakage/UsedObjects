{
 "cells": [
  {
   "cell_type": "code",
   "execution_count": 1,
   "id": "reverse-picking",
   "metadata": {
    "execution": {
     "iopub.execute_input": "2021-10-16T11:30:06.586636Z",
     "iopub.status.busy": "2021-10-16T11:30:06.584560Z",
     "iopub.status.idle": "2021-10-16T11:30:07.389444Z",
     "shell.execute_reply": "2021-10-16T11:30:07.390763Z"
    },
    "papermill": {
     "duration": 0.855347,
     "end_time": "2021-10-16T11:30:07.391387",
     "exception": false,
     "start_time": "2021-10-16T11:30:06.536040",
     "status": "completed"
    },
    "tags": []
   },
   "outputs": [],
   "source": [
    "import pandas as pd\n",
    "import sqlite3"
   ]
  },
  {
   "cell_type": "code",
   "execution_count": 2,
   "id": "innovative-syndrome",
   "metadata": {
    "execution": {
     "iopub.execute_input": "2021-10-16T11:30:07.444968Z",
     "iopub.status.busy": "2021-10-16T11:30:07.442550Z",
     "iopub.status.idle": "2021-10-16T11:30:07.998574Z",
     "shell.execute_reply": "2021-10-16T11:30:07.999819Z"
    },
    "papermill": {
     "duration": 0.586004,
     "end_time": "2021-10-16T11:30:08.000223",
     "exception": false,
     "start_time": "2021-10-16T11:30:07.414219",
     "status": "completed"
    },
    "tags": []
   },
   "outputs": [],
   "source": [
    "timestamps = pd.read_sql(\"select distinct record_time from EBAY_TOP_BERLIN order by record_time desc limit 2\", sqlite3.connect(\"UsedObjects.db\"))"
   ]
  },
  {
   "cell_type": "code",
   "execution_count": 3,
   "id": "periodic-identification",
   "metadata": {
    "execution": {
     "iopub.execute_input": "2021-10-16T11:30:08.075930Z",
     "iopub.status.busy": "2021-10-16T11:30:08.073839Z",
     "iopub.status.idle": "2021-10-16T11:30:08.093849Z",
     "shell.execute_reply": "2021-10-16T11:30:08.095078Z"
    },
    "papermill": {
     "duration": 0.070765,
     "end_time": "2021-10-16T11:30:08.095516",
     "exception": false,
     "start_time": "2021-10-16T11:30:08.024751",
     "status": "completed"
    },
    "tags": []
   },
   "outputs": [
    {
     "data": {
      "text/html": [
       "<div>\n",
       "<style scoped>\n",
       "    .dataframe tbody tr th:only-of-type {\n",
       "        vertical-align: middle;\n",
       "    }\n",
       "\n",
       "    .dataframe tbody tr th {\n",
       "        vertical-align: top;\n",
       "    }\n",
       "\n",
       "    .dataframe thead th {\n",
       "        text-align: right;\n",
       "    }\n",
       "</style>\n",
       "<table border=\"1\" class=\"dataframe\">\n",
       "  <thead>\n",
       "    <tr style=\"text-align: right;\">\n",
       "      <th></th>\n",
       "      <th>RECORD_TIME</th>\n",
       "    </tr>\n",
       "  </thead>\n",
       "  <tbody>\n",
       "    <tr>\n",
       "      <th>0</th>\n",
       "      <td>2021-10-16 13:30</td>\n",
       "    </tr>\n",
       "    <tr>\n",
       "      <th>1</th>\n",
       "      <td>2021-10-16 13:00</td>\n",
       "    </tr>\n",
       "  </tbody>\n",
       "</table>\n",
       "</div>"
      ],
      "text/plain": [
       "        RECORD_TIME\n",
       "0  2021-10-16 13:30\n",
       "1  2021-10-16 13:00"
      ]
     },
     "execution_count": 3,
     "metadata": {},
     "output_type": "execute_result"
    }
   ],
   "source": [
    "timestamps"
   ]
  },
  {
   "cell_type": "code",
   "execution_count": 4,
   "id": "alternate-victory",
   "metadata": {
    "execution": {
     "iopub.execute_input": "2021-10-16T11:30:08.149301Z",
     "iopub.status.busy": "2021-10-16T11:30:08.146911Z",
     "iopub.status.idle": "2021-10-16T11:30:08.975388Z",
     "shell.execute_reply": "2021-10-16T11:30:08.976814Z"
    },
    "papermill": {
     "duration": 0.859227,
     "end_time": "2021-10-16T11:30:08.977280",
     "exception": false,
     "start_time": "2021-10-16T11:30:08.118053",
     "status": "completed"
    },
    "tags": []
   },
   "outputs": [],
   "source": [
    "df = pd.read_sql(\"select * from EBAY_TOP_BERLIN where record_time in (select distinct record_time from EBAY_TOP_BERLIN order by record_time desc limit 2)\", sqlite3.connect(\"UsedObjects.db\"))"
   ]
  },
  {
   "cell_type": "code",
   "execution_count": 5,
   "id": "popular-active",
   "metadata": {
    "execution": {
     "iopub.execute_input": "2021-10-16T11:30:09.041563Z",
     "iopub.status.busy": "2021-10-16T11:30:09.034226Z",
     "iopub.status.idle": "2021-10-16T11:30:09.063412Z",
     "shell.execute_reply": "2021-10-16T11:30:09.064647Z"
    },
    "papermill": {
     "duration": 0.067397,
     "end_time": "2021-10-16T11:30:09.065250",
     "exception": false,
     "start_time": "2021-10-16T11:30:08.997853",
     "status": "completed"
    },
    "tags": []
   },
   "outputs": [],
   "source": [
    "df_pivot = df.pivot_table(index=\"PRODUCT\", columns = \"RECORD_TIME\", values = \"LISTING_COUNT\")"
   ]
  },
  {
   "cell_type": "code",
   "execution_count": 6,
   "id": "union-huntington",
   "metadata": {
    "execution": {
     "iopub.execute_input": "2021-10-16T11:30:09.124555Z",
     "iopub.status.busy": "2021-10-16T11:30:09.122054Z",
     "iopub.status.idle": "2021-10-16T11:30:09.127918Z",
     "shell.execute_reply": "2021-10-16T11:30:09.129315Z"
    },
    "papermill": {
     "duration": 0.042512,
     "end_time": "2021-10-16T11:30:09.129747",
     "exception": false,
     "start_time": "2021-10-16T11:30:09.087235",
     "status": "completed"
    },
    "tags": []
   },
   "outputs": [],
   "source": [
    "df_pivot.columns = [\"stamp_1\", \"stamp_2\"]\n",
    "df_pivot_diff = df_pivot.diff(axis=1)"
   ]
  },
  {
   "cell_type": "code",
   "execution_count": 7,
   "id": "fifth-motion",
   "metadata": {
    "execution": {
     "iopub.execute_input": "2021-10-16T11:30:09.183929Z",
     "iopub.status.busy": "2021-10-16T11:30:09.181565Z",
     "iopub.status.idle": "2021-10-16T11:30:10.644821Z",
     "shell.execute_reply": "2021-10-16T11:30:10.646294Z"
    },
    "papermill": {
     "duration": 1.496633,
     "end_time": "2021-10-16T11:30:10.646748",
     "exception": false,
     "start_time": "2021-10-16T11:30:09.150115",
     "status": "completed"
    },
    "tags": []
   },
   "outputs": [
    {
     "data": {
      "text/plain": [
       "<AxesSubplot:ylabel='PRODUCT'>"
      ]
     },
     "execution_count": 7,
     "metadata": {},
     "output_type": "execute_result"
    },
    {
     "data": {
      "image/png": "[encoded data removed]",
      "text/plain": [
       "<Figure size 432x288 with 1 Axes>"
      ]
     },
     "metadata": {
      "needs_background": "light"
     },
     "output_type": "display_data"
    }
   ],
   "source": [
    "df_pivot_diff.sort_values(\"stamp_2\", ascending = False)[\"stamp_2\"].head(10).plot.barh()"
   ]
  },
  {
   "cell_type": "code",
   "execution_count": null,
   "id": "extra-executive",
   "metadata": {
    "papermill": {
     "duration": 0.021904,
     "end_time": "2021-10-16T11:30:10.692982",
     "exception": false,
     "start_time": "2021-10-16T11:30:10.671078",
     "status": "completed"
    },
    "tags": []
   },
   "outputs": [],
   "source": []
  }
 ],
 "metadata": {
  "kernelspec": {
   "display_name": "Python 3",
   "language": "python",
   "name": "python3"
  },
  "language_info": {
   "codemirror_mode": {
    "name": "ipython",
    "version": 3
   },
   "file_extension": ".py",
   "mimetype": "text/x-python",
   "name": "python",
   "nbconvert_exporter": "python",
   "pygments_lexer": "ipython3",
   "version": "3.9.5"
  },
  "papermill": {
   "default_parameters": {},
   "duration": 7.826206,
   "end_time": "2021-10-16T11:30:11.946457",
   "environment_variables": {},
   "exception": null,
   "input_path": "eBay_Overview.ipynb",
   "output_path": "eBay_Overview.ipynb",
   "parameters": {},
   "start_time": "2021-10-16T11:30:04.120251",
   "version": "2.3.3"
  }
 },
 "nbformat": 4,
 "nbformat_minor": 5
}