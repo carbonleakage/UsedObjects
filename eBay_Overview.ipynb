{
 "cells": [
  {
   "cell_type": "code",
   "execution_count": 1,
   "id": "reverse-picking",
   "metadata": {
    "execution": {
     "iopub.execute_input": "2021-11-13T09:30:07.351808Z",
     "iopub.status.busy": "2021-11-13T09:30:07.349605Z",
     "iopub.status.idle": "2021-11-13T09:30:08.291096Z",
     "shell.execute_reply": "2021-11-13T09:30:08.292797Z"
    },
    "papermill": {
     "duration": 0.992248,
     "end_time": "2021-11-13T09:30:08.293537",
     "exception": false,
     "start_time": "2021-11-13T09:30:07.301289",
     "status": "completed"
    },
    "tags": []
   },
   "outputs": [],
   "source": [
    "import pandas as pd\n",
    "import sqlite3"
   ]
  },
  {
   "cell_type": "code",
   "execution_count": 2,
   "id": "innovative-syndrome",
   "metadata": {
    "execution": {
     "iopub.execute_input": "2021-11-13T09:30:08.372044Z",
     "iopub.status.busy": "2021-11-13T09:30:08.368737Z",
     "iopub.status.idle": "2021-11-13T09:30:09.170175Z",
     "shell.execute_reply": "2021-11-13T09:30:09.171545Z"
    },
    "papermill": {
     "duration": 0.847553,
     "end_time": "2021-11-13T09:30:09.172017",
     "exception": false,
     "start_time": "2021-11-13T09:30:08.324464",
     "status": "completed"
    },
    "tags": []
   },
   "outputs": [],
   "source": [
    "timestamps = pd.read_sql(\"select distinct record_time from EBAY_TOP_BERLIN order by record_time desc limit 2\", sqlite3.connect(\"UsedObjects.db\"))"
   ]
  },
  {
   "cell_type": "code",
   "execution_count": 3,
   "id": "periodic-identification",
   "metadata": {
    "execution": {
     "iopub.execute_input": "2021-11-13T09:30:09.241002Z",
     "iopub.status.busy": "2021-11-13T09:30:09.230094Z",
     "iopub.status.idle": "2021-11-13T09:30:09.265744Z",
     "shell.execute_reply": "2021-11-13T09:30:09.264063Z"
    },
    "papermill": {
     "duration": 0.074414,
     "end_time": "2021-11-13T09:30:09.266153",
     "exception": false,
     "start_time": "2021-11-13T09:30:09.191739",
     "status": "completed"
    },
    "tags": []
   },
   "outputs": [
    {
     "data": {
      "text/html": [
       "<div>\n",
       "<style scoped>\n",
       "    .dataframe tbody tr th:only-of-type {\n",
       "        vertical-align: middle;\n",
       "    }\n",
       "\n",
       "    .dataframe tbody tr th {\n",
       "        vertical-align: top;\n",
       "    }\n",
       "\n",
       "    .dataframe thead th {\n",
       "        text-align: right;\n",
       "    }\n",
       "</style>\n",
       "<table border=\"1\" class=\"dataframe\">\n",
       "  <thead>\n",
       "    <tr style=\"text-align: right;\">\n",
       "      <th></th>\n",
       "      <th>RECORD_TIME</th>\n",
       "    </tr>\n",
       "  </thead>\n",
       "  <tbody>\n",
       "    <tr>\n",
       "      <th>0</th>\n",
       "      <td>2021-11-13 10:30</td>\n",
       "    </tr>\n",
       "    <tr>\n",
       "      <th>1</th>\n",
       "      <td>2021-11-13 10:00</td>\n",
       "    </tr>\n",
       "  </tbody>\n",
       "</table>\n",
       "</div>"
      ],
      "text/plain": [
       "        RECORD_TIME\n",
       "0  2021-11-13 10:30\n",
       "1  2021-11-13 10:00"
      ]
     },
     "execution_count": 3,
     "metadata": {},
     "output_type": "execute_result"
    }
   ],
   "source": [
    "timestamps"
   ]
  },
  {
   "cell_type": "code",
   "execution_count": 4,
   "id": "alternate-victory",
   "metadata": {
    "execution": {
     "iopub.execute_input": "2021-11-13T09:30:09.317125Z",
     "iopub.status.busy": "2021-11-13T09:30:09.315180Z",
     "iopub.status.idle": "2021-11-13T09:30:10.494436Z",
     "shell.execute_reply": "2021-11-13T09:30:10.495745Z"
    },
    "papermill": {
     "duration": 1.209176,
     "end_time": "2021-11-13T09:30:10.496158",
     "exception": false,
     "start_time": "2021-11-13T09:30:09.286982",
     "status": "completed"
    },
    "tags": []
   },
   "outputs": [],
   "source": [
    "df = pd.read_sql(\"select * from EBAY_TOP_BERLIN where record_time in (select distinct record_time from EBAY_TOP_BERLIN order by record_time desc limit 2)\", sqlite3.connect(\"UsedObjects.db\"))"
   ]
  },
  {
   "cell_type": "code",
   "execution_count": 5,
   "id": "popular-active",
   "metadata": {
    "execution": {
     "iopub.execute_input": "2021-11-13T09:30:10.570010Z",
     "iopub.status.busy": "2021-11-13T09:30:10.561318Z",
     "iopub.status.idle": "2021-11-13T09:30:10.594122Z",
     "shell.execute_reply": "2021-11-13T09:30:10.595744Z"
    },
    "papermill": {
     "duration": 0.078034,
     "end_time": "2021-11-13T09:30:10.596223",
     "exception": false,
     "start_time": "2021-11-13T09:30:10.518189",
     "status": "completed"
    },
    "tags": []
   },
   "outputs": [],
   "source": [
    "df_pivot = df.pivot_table(index=\"PRODUCT\", columns = \"RECORD_TIME\", values = \"LISTING_COUNT\")"
   ]
  },
  {
   "cell_type": "code",
   "execution_count": 6,
   "id": "union-huntington",
   "metadata": {
    "execution": {
     "iopub.execute_input": "2021-11-13T09:30:10.657701Z",
     "iopub.status.busy": "2021-11-13T09:30:10.655372Z",
     "iopub.status.idle": "2021-11-13T09:30:10.663921Z",
     "shell.execute_reply": "2021-11-13T09:30:10.662122Z"
    },
    "papermill": {
     "duration": 0.047185,
     "end_time": "2021-11-13T09:30:10.664367",
     "exception": false,
     "start_time": "2021-11-13T09:30:10.617182",
     "status": "completed"
    },
    "tags": []
   },
   "outputs": [],
   "source": [
    "df_pivot.columns = [\"stamp_1\", \"stamp_2\"]\n",
    "df_pivot_diff = df_pivot.diff(axis=1)"
   ]
  },
  {
   "cell_type": "code",
   "execution_count": 7,
   "id": "fifth-motion",
   "metadata": {
    "execution": {
     "iopub.execute_input": "2021-11-13T09:30:10.721721Z",
     "iopub.status.busy": "2021-11-13T09:30:10.719123Z",
     "iopub.status.idle": "2021-11-13T09:30:12.601676Z",
     "shell.execute_reply": "2021-11-13T09:30:12.603307Z"
    },
    "papermill": {
     "duration": 1.917854,
     "end_time": "2021-11-13T09:30:12.603868",
     "exception": false,
     "start_time": "2021-11-13T09:30:10.686014",
     "status": "completed"
    },
    "tags": []
   },
   "outputs": [
    {
     "data": {
      "text/plain": [
       "<AxesSubplot:ylabel='PRODUCT'>"
      ]
     },
     "execution_count": 7,
     "metadata": {},
     "output_type": "execute_result"
    },
    {
     "data": {
      "image/png": "[encoded data removed]",
      "text/plain": [
       "<Figure size 432x288 with 1 Axes>"
      ]
     },
     "metadata": {
      "needs_background": "light"
     },
     "output_type": "display_data"
    }
   ],
   "source": [
    "df_pivot_diff.sort_values(\"stamp_2\", ascending = False)[\"stamp_2\"].head(10).plot.barh()"
   ]
  },
  {
   "cell_type": "code",
   "execution_count": null,
   "id": "extra-executive",
   "metadata": {
    "papermill": {
     "duration": 0.035371,
     "end_time": "2021-11-13T09:30:12.673226",
     "exception": false,
     "start_time": "2021-11-13T09:30:12.637855",
     "status": "completed"
    },
    "tags": []
   },
   "outputs": [],
   "source": []
  }
 ],
 "metadata": {
  "kernelspec": {
   "display_name": "Python 3",
   "language": "python",
   "name": "python3"
  },
  "language_info": {
   "codemirror_mode": {
    "name": "ipython",
    "version": 3
   },
   "file_extension": ".py",
   "mimetype": "text/x-python",
   "name": "python",
   "nbconvert_exporter": "python",
   "pygments_lexer": "ipython3",
   "version": "3.9.5"
  },
  "papermill": {
   "default_parameters": {},
   "duration": 8.856804,
   "end_time": "2021-11-13T09:30:13.448046",
   "environment_variables": {},
   "exception": null,
   "input_path": "eBay_Overview.ipynb",
   "output_path": "eBay_Overview.ipynb",
   "parameters": {},
   "start_time": "2021-11-13T09:30:04.591242",
   "version": "2.3.3"
  }
 },
 "nbformat": 4,
 "nbformat_minor": 5
}