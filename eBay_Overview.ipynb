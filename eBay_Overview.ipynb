{
 "cells": [
  {
   "cell_type": "code",
   "execution_count": 1,
   "id": "reverse-picking",
   "metadata": {
    "execution": {
     "iopub.execute_input": "2021-11-05T21:00:08.043990Z",
     "iopub.status.busy": "2021-11-05T21:00:08.034194Z",
     "iopub.status.idle": "2021-11-05T21:00:08.989845Z",
     "shell.execute_reply": "2021-11-05T21:00:08.991396Z"
    },
    "papermill": {
     "duration": 1.004674,
     "end_time": "2021-11-05T21:00:08.992145",
     "exception": false,
     "start_time": "2021-11-05T21:00:07.987471",
     "status": "completed"
    },
    "tags": []
   },
   "outputs": [],
   "source": [
    "import pandas as pd\n",
    "import sqlite3"
   ]
  },
  {
   "cell_type": "code",
   "execution_count": 2,
   "id": "innovative-syndrome",
   "metadata": {
    "execution": {
     "iopub.execute_input": "2021-11-05T21:00:09.090166Z",
     "iopub.status.busy": "2021-11-05T21:00:09.087785Z",
     "iopub.status.idle": "2021-11-05T21:00:09.830034Z",
     "shell.execute_reply": "2021-11-05T21:00:09.831735Z"
    },
    "papermill": {
     "duration": 0.77649,
     "end_time": "2021-11-05T21:00:09.832248",
     "exception": false,
     "start_time": "2021-11-05T21:00:09.055758",
     "status": "completed"
    },
    "tags": []
   },
   "outputs": [],
   "source": [
    "timestamps = pd.read_sql(\"select distinct record_time from EBAY_TOP_BERLIN order by record_time desc limit 2\", sqlite3.connect(\"UsedObjects.db\"))"
   ]
  },
  {
   "cell_type": "code",
   "execution_count": 3,
   "id": "periodic-identification",
   "metadata": {
    "execution": {
     "iopub.execute_input": "2021-11-05T21:00:09.908057Z",
     "iopub.status.busy": "2021-11-05T21:00:09.901618Z",
     "iopub.status.idle": "2021-11-05T21:00:09.925055Z",
     "shell.execute_reply": "2021-11-05T21:00:09.927060Z"
    },
    "papermill": {
     "duration": 0.074779,
     "end_time": "2021-11-05T21:00:09.927595",
     "exception": false,
     "start_time": "2021-11-05T21:00:09.852816",
     "status": "completed"
    },
    "tags": []
   },
   "outputs": [
    {
     "data": {
      "text/html": [
       "<div>\n",
       "<style scoped>\n",
       "    .dataframe tbody tr th:only-of-type {\n",
       "        vertical-align: middle;\n",
       "    }\n",
       "\n",
       "    .dataframe tbody tr th {\n",
       "        vertical-align: top;\n",
       "    }\n",
       "\n",
       "    .dataframe thead th {\n",
       "        text-align: right;\n",
       "    }\n",
       "</style>\n",
       "<table border=\"1\" class=\"dataframe\">\n",
       "  <thead>\n",
       "    <tr style=\"text-align: right;\">\n",
       "      <th></th>\n",
       "      <th>RECORD_TIME</th>\n",
       "    </tr>\n",
       "  </thead>\n",
       "  <tbody>\n",
       "    <tr>\n",
       "      <th>0</th>\n",
       "      <td>2021-11-05 22:00</td>\n",
       "    </tr>\n",
       "    <tr>\n",
       "      <th>1</th>\n",
       "      <td>2021-11-05 21:30</td>\n",
       "    </tr>\n",
       "  </tbody>\n",
       "</table>\n",
       "</div>"
      ],
      "text/plain": [
       "        RECORD_TIME\n",
       "0  2021-11-05 22:00\n",
       "1  2021-11-05 21:30"
      ]
     },
     "execution_count": 3,
     "metadata": {},
     "output_type": "execute_result"
    }
   ],
   "source": [
    "timestamps"
   ]
  },
  {
   "cell_type": "code",
   "execution_count": 4,
   "id": "alternate-victory",
   "metadata": {
    "execution": {
     "iopub.execute_input": "2021-11-05T21:00:09.984862Z",
     "iopub.status.busy": "2021-11-05T21:00:09.982206Z",
     "iopub.status.idle": "2021-11-05T21:00:11.075228Z",
     "shell.execute_reply": "2021-11-05T21:00:11.077532Z"
    },
    "papermill": {
     "duration": 1.127685,
     "end_time": "2021-11-05T21:00:11.078048",
     "exception": false,
     "start_time": "2021-11-05T21:00:09.950363",
     "status": "completed"
    },
    "tags": []
   },
   "outputs": [],
   "source": [
    "df = pd.read_sql(\"select * from EBAY_TOP_BERLIN where record_time in (select distinct record_time from EBAY_TOP_BERLIN order by record_time desc limit 2)\", sqlite3.connect(\"UsedObjects.db\"))"
   ]
  },
  {
   "cell_type": "code",
   "execution_count": 5,
   "id": "popular-active",
   "metadata": {
    "execution": {
     "iopub.execute_input": "2021-11-05T21:00:11.157634Z",
     "iopub.status.busy": "2021-11-05T21:00:11.144123Z",
     "iopub.status.idle": "2021-11-05T21:00:11.177750Z",
     "shell.execute_reply": "2021-11-05T21:00:11.179266Z"
    },
    "papermill": {
     "duration": 0.079896,
     "end_time": "2021-11-05T21:00:11.179748",
     "exception": false,
     "start_time": "2021-11-05T21:00:11.099852",
     "status": "completed"
    },
    "tags": []
   },
   "outputs": [],
   "source": [
    "df_pivot = df.pivot_table(index=\"PRODUCT\", columns = \"RECORD_TIME\", values = \"LISTING_COUNT\")"
   ]
  },
  {
   "cell_type": "code",
   "execution_count": 6,
   "id": "union-huntington",
   "metadata": {
    "execution": {
     "iopub.execute_input": "2021-11-05T21:00:11.244006Z",
     "iopub.status.busy": "2021-11-05T21:00:11.241690Z",
     "iopub.status.idle": "2021-11-05T21:00:11.248720Z",
     "shell.execute_reply": "2021-11-05T21:00:11.246984Z"
    },
    "papermill": {
     "duration": 0.047569,
     "end_time": "2021-11-05T21:00:11.249210",
     "exception": false,
     "start_time": "2021-11-05T21:00:11.201641",
     "status": "completed"
    },
    "tags": []
   },
   "outputs": [],
   "source": [
    "df_pivot.columns = [\"stamp_1\", \"stamp_2\"]\n",
    "df_pivot_diff = df_pivot.diff(axis=1)"
   ]
  },
  {
   "cell_type": "code",
   "execution_count": 7,
   "id": "fifth-motion",
   "metadata": {
    "execution": {
     "iopub.execute_input": "2021-11-05T21:00:11.317241Z",
     "iopub.status.busy": "2021-11-05T21:00:11.305981Z",
     "iopub.status.idle": "2021-11-05T21:00:13.184341Z",
     "shell.execute_reply": "2021-11-05T21:00:13.185913Z"
    },
    "papermill": {
     "duration": 1.915758,
     "end_time": "2021-11-05T21:00:13.186406",
     "exception": false,
     "start_time": "2021-11-05T21:00:11.270648",
     "status": "completed"
    },
    "tags": []
   },
   "outputs": [
    {
     "data": {
      "text/plain": [
       "<AxesSubplot:ylabel='PRODUCT'>"
      ]
     },
     "execution_count": 7,
     "metadata": {},
     "output_type": "execute_result"
    },
    {
     "data": {
      "image/png": "[encoded data removed]",
      "text/plain": [
       "<Figure size 432x288 with 1 Axes>"
      ]
     },
     "metadata": {
      "needs_background": "light"
     },
     "output_type": "display_data"
    }
   ],
   "source": [
    "df_pivot_diff.sort_values(\"stamp_2\", ascending = False)[\"stamp_2\"].head(10).plot.barh()"
   ]
  },
  {
   "cell_type": "code",
   "execution_count": null,
   "id": "extra-executive",
   "metadata": {
    "papermill": {
     "duration": 0.02514,
     "end_time": "2021-11-05T21:00:13.235383",
     "exception": false,
     "start_time": "2021-11-05T21:00:13.210243",
     "status": "completed"
    },
    "tags": []
   },
   "outputs": [],
   "source": []
  }
 ],
 "metadata": {
  "kernelspec": {
   "display_name": "Python 3",
   "language": "python",
   "name": "python3"
  },
  "language_info": {
   "codemirror_mode": {
    "name": "ipython",
    "version": 3
   },
   "file_extension": ".py",
   "mimetype": "text/x-python",
   "name": "python",
   "nbconvert_exporter": "python",
   "pygments_lexer": "ipython3",
   "version": "3.9.5"
  },
  "papermill": {
   "default_parameters": {},
   "duration": 10.170203,
   "end_time": "2021-11-05T21:00:15.166039",
   "environment_variables": {},
   "exception": null,
   "input_path": "eBay_Overview.ipynb",
   "output_path": "eBay_Overview.ipynb",
   "parameters": {},
   "start_time": "2021-11-05T21:00:04.995836",
   "version": "2.3.3"
  }
 },
 "nbformat": 4,
 "nbformat_minor": 5
}