{
 "cells": [
  {
   "cell_type": "code",
   "execution_count": 1,
   "id": "reverse-picking",
   "metadata": {
    "execution": {
     "iopub.execute_input": "2021-12-06T14:30:08.053191Z",
     "iopub.status.busy": "2021-12-06T14:30:08.050636Z",
     "iopub.status.idle": "2021-12-06T14:30:09.025147Z",
     "shell.execute_reply": "2021-12-06T14:30:09.026733Z"
    },
    "papermill": {
     "duration": 1.023113,
     "end_time": "2021-12-06T14:30:09.027514",
     "exception": false,
     "start_time": "2021-12-06T14:30:08.004401",
     "status": "completed"
    },
    "tags": []
   },
   "outputs": [],
   "source": [
    "import pandas as pd\n",
    "import sqlite3"
   ]
  },
  {
   "cell_type": "code",
   "execution_count": 2,
   "id": "innovative-syndrome",
   "metadata": {
    "execution": {
     "iopub.execute_input": "2021-12-06T14:30:09.088472Z",
     "iopub.status.busy": "2021-12-06T14:30:09.085964Z",
     "iopub.status.idle": "2021-12-06T14:30:10.071803Z",
     "shell.execute_reply": "2021-12-06T14:30:10.073142Z"
    },
    "papermill": {
     "duration": 1.01986,
     "end_time": "2021-12-06T14:30:10.073635",
     "exception": false,
     "start_time": "2021-12-06T14:30:09.053775",
     "status": "completed"
    },
    "tags": []
   },
   "outputs": [],
   "source": [
    "timestamps = pd.read_sql(\"select distinct record_time from EBAY_TOP_BERLIN order by record_time desc limit 2\", sqlite3.connect(\"UsedObjects.db\"))"
   ]
  },
  {
   "cell_type": "code",
   "execution_count": 3,
   "id": "periodic-identification",
   "metadata": {
    "execution": {
     "iopub.execute_input": "2021-12-06T14:30:10.145485Z",
     "iopub.status.busy": "2021-12-06T14:30:10.143273Z",
     "iopub.status.idle": "2021-12-06T14:30:10.178417Z",
     "shell.execute_reply": "2021-12-06T14:30:10.181392Z"
    },
    "papermill": {
     "duration": 0.089204,
     "end_time": "2021-12-06T14:30:10.181876",
     "exception": false,
     "start_time": "2021-12-06T14:30:10.092672",
     "status": "completed"
    },
    "tags": []
   },
   "outputs": [
    {
     "data": {
      "text/html": [
       "<div>\n",
       "<style scoped>\n",
       "    .dataframe tbody tr th:only-of-type {\n",
       "        vertical-align: middle;\n",
       "    }\n",
       "\n",
       "    .dataframe tbody tr th {\n",
       "        vertical-align: top;\n",
       "    }\n",
       "\n",
       "    .dataframe thead th {\n",
       "        text-align: right;\n",
       "    }\n",
       "</style>\n",
       "<table border=\"1\" class=\"dataframe\">\n",
       "  <thead>\n",
       "    <tr style=\"text-align: right;\">\n",
       "      <th></th>\n",
       "      <th>RECORD_TIME</th>\n",
       "    </tr>\n",
       "  </thead>\n",
       "  <tbody>\n",
       "    <tr>\n",
       "      <th>0</th>\n",
       "      <td>2021-12-06 15:30</td>\n",
       "    </tr>\n",
       "    <tr>\n",
       "      <th>1</th>\n",
       "      <td>2021-12-06 15:00</td>\n",
       "    </tr>\n",
       "  </tbody>\n",
       "</table>\n",
       "</div>"
      ],
      "text/plain": [
       "        RECORD_TIME\n",
       "0  2021-12-06 15:30\n",
       "1  2021-12-06 15:00"
      ]
     },
     "execution_count": 3,
     "metadata": {},
     "output_type": "execute_result"
    }
   ],
   "source": [
    "timestamps"
   ]
  },
  {
   "cell_type": "code",
   "execution_count": 4,
   "id": "alternate-victory",
   "metadata": {
    "execution": {
     "iopub.execute_input": "2021-12-06T14:30:10.251702Z",
     "iopub.status.busy": "2021-12-06T14:30:10.249505Z",
     "iopub.status.idle": "2021-12-06T14:30:11.691208Z",
     "shell.execute_reply": "2021-12-06T14:30:11.692573Z"
    },
    "papermill": {
     "duration": 1.483149,
     "end_time": "2021-12-06T14:30:11.693124",
     "exception": false,
     "start_time": "2021-12-06T14:30:10.209975",
     "status": "completed"
    },
    "tags": []
   },
   "outputs": [],
   "source": [
    "df = pd.read_sql(\"select * from EBAY_TOP_BERLIN where record_time in (select distinct record_time from EBAY_TOP_BERLIN order by record_time desc limit 2)\", sqlite3.connect(\"UsedObjects.db\"))"
   ]
  },
  {
   "cell_type": "code",
   "execution_count": 5,
   "id": "popular-active",
   "metadata": {
    "execution": {
     "iopub.execute_input": "2021-12-06T14:30:11.768210Z",
     "iopub.status.busy": "2021-12-06T14:30:11.761729Z",
     "iopub.status.idle": "2021-12-06T14:30:11.787589Z",
     "shell.execute_reply": "2021-12-06T14:30:11.789229Z"
    },
    "papermill": {
     "duration": 0.075821,
     "end_time": "2021-12-06T14:30:11.789778",
     "exception": false,
     "start_time": "2021-12-06T14:30:11.713957",
     "status": "completed"
    },
    "tags": []
   },
   "outputs": [],
   "source": [
    "df_pivot = df.pivot_table(index=\"PRODUCT\", columns = \"RECORD_TIME\", values = \"LISTING_COUNT\")"
   ]
  },
  {
   "cell_type": "code",
   "execution_count": 6,
   "id": "union-huntington",
   "metadata": {
    "execution": {
     "iopub.execute_input": "2021-12-06T14:30:11.852917Z",
     "iopub.status.busy": "2021-12-06T14:30:11.850603Z",
     "iopub.status.idle": "2021-12-06T14:30:11.858229Z",
     "shell.execute_reply": "2021-12-06T14:30:11.856519Z"
    },
    "papermill": {
     "duration": 0.043943,
     "end_time": "2021-12-06T14:30:11.858634",
     "exception": false,
     "start_time": "2021-12-06T14:30:11.814691",
     "status": "completed"
    },
    "tags": []
   },
   "outputs": [],
   "source": [
    "df_pivot.columns = [\"stamp_1\", \"stamp_2\"]\n",
    "df_pivot_diff = df_pivot.diff(axis=1)"
   ]
  },
  {
   "cell_type": "code",
   "execution_count": 7,
   "id": "fifth-motion",
   "metadata": {
    "execution": {
     "iopub.execute_input": "2021-12-06T14:30:11.915237Z",
     "iopub.status.busy": "2021-12-06T14:30:11.912833Z",
     "iopub.status.idle": "2021-12-06T14:30:13.926876Z",
     "shell.execute_reply": "2021-12-06T14:30:13.928394Z"
    },
    "papermill": {
     "duration": 2.049939,
     "end_time": "2021-12-06T14:30:13.928921",
     "exception": false,
     "start_time": "2021-12-06T14:30:11.878982",
     "status": "completed"
    },
    "tags": []
   },
   "outputs": [
    {
     "data": {
      "text/plain": [
       "<AxesSubplot:ylabel='PRODUCT'>"
      ]
     },
     "execution_count": 7,
     "metadata": {},
     "output_type": "execute_result"
    },
    {
     "data": {
      "image/png": "[encoded data removed]",
      "text/plain": [
       "<Figure size 432x288 with 1 Axes>"
      ]
     },
     "metadata": {
      "needs_background": "light"
     },
     "output_type": "display_data"
    }
   ],
   "source": [
    "df_pivot_diff.sort_values(\"stamp_2\", ascending = False)[\"stamp_2\"].head(10).plot.barh()"
   ]
  },
  {
   "cell_type": "code",
   "execution_count": null,
   "id": "extra-executive",
   "metadata": {
    "papermill": {
     "duration": 0.021873,
     "end_time": "2021-12-06T14:30:13.975321",
     "exception": false,
     "start_time": "2021-12-06T14:30:13.953448",
     "status": "completed"
    },
    "tags": []
   },
   "outputs": [],
   "source": []
  }
 ],
 "metadata": {
  "kernelspec": {
   "display_name": "Python 3",
   "language": "python",
   "name": "python3"
  },
  "language_info": {
   "codemirror_mode": {
    "name": "ipython",
    "version": 3
   },
   "file_extension": ".py",
   "mimetype": "text/x-python",
   "name": "python",
   "nbconvert_exporter": "python",
   "pygments_lexer": "ipython3",
   "version": "3.9.5"
  },
  "papermill": {
   "default_parameters": {},
   "duration": 9.945998,
   "end_time": "2021-12-06T14:30:15.203064",
   "environment_variables": {},
   "exception": null,
   "input_path": "eBay_Overview.ipynb",
   "output_path": "eBay_Overview.ipynb",
   "parameters": {},
   "start_time": "2021-12-06T14:30:05.257066",
   "version": "2.3.3"
  }
 },
 "nbformat": 4,
 "nbformat_minor": 5
}