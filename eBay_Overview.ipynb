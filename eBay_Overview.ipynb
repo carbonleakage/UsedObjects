{
 "cells": [
  {
   "cell_type": "code",
   "execution_count": 1,
   "id": "reverse-picking",
   "metadata": {
    "execution": {
     "iopub.execute_input": "2021-11-10T11:30:08.227138Z",
     "iopub.status.busy": "2021-11-10T11:30:08.224229Z",
     "iopub.status.idle": "2021-11-10T11:30:09.177681Z",
     "shell.execute_reply": "2021-11-10T11:30:09.179243Z"
    },
    "papermill": {
     "duration": 1.002369,
     "end_time": "2021-11-10T11:30:09.179976",
     "exception": false,
     "start_time": "2021-11-10T11:30:08.177607",
     "status": "completed"
    },
    "tags": []
   },
   "outputs": [],
   "source": [
    "import pandas as pd\n",
    "import sqlite3"
   ]
  },
  {
   "cell_type": "code",
   "execution_count": 2,
   "id": "innovative-syndrome",
   "metadata": {
    "execution": {
     "iopub.execute_input": "2021-11-10T11:30:09.247880Z",
     "iopub.status.busy": "2021-11-10T11:30:09.243384Z",
     "iopub.status.idle": "2021-11-10T11:30:10.022234Z",
     "shell.execute_reply": "2021-11-10T11:30:10.023749Z"
    },
    "papermill": {
     "duration": 0.816086,
     "end_time": "2021-11-10T11:30:10.024249",
     "exception": false,
     "start_time": "2021-11-10T11:30:09.208163",
     "status": "completed"
    },
    "tags": []
   },
   "outputs": [],
   "source": [
    "timestamps = pd.read_sql(\"select distinct record_time from EBAY_TOP_BERLIN order by record_time desc limit 2\", sqlite3.connect(\"UsedObjects.db\"))"
   ]
  },
  {
   "cell_type": "code",
   "execution_count": 3,
   "id": "periodic-identification",
   "metadata": {
    "execution": {
     "iopub.execute_input": "2021-11-10T11:30:10.098142Z",
     "iopub.status.busy": "2021-11-10T11:30:10.092267Z",
     "iopub.status.idle": "2021-11-10T11:30:10.114675Z",
     "shell.execute_reply": "2021-11-10T11:30:10.116427Z"
    },
    "papermill": {
     "duration": 0.072943,
     "end_time": "2021-11-10T11:30:10.117002",
     "exception": false,
     "start_time": "2021-11-10T11:30:10.044059",
     "status": "completed"
    },
    "tags": []
   },
   "outputs": [
    {
     "data": {
      "text/html": [
       "<div>\n",
       "<style scoped>\n",
       "    .dataframe tbody tr th:only-of-type {\n",
       "        vertical-align: middle;\n",
       "    }\n",
       "\n",
       "    .dataframe tbody tr th {\n",
       "        vertical-align: top;\n",
       "    }\n",
       "\n",
       "    .dataframe thead th {\n",
       "        text-align: right;\n",
       "    }\n",
       "</style>\n",
       "<table border=\"1\" class=\"dataframe\">\n",
       "  <thead>\n",
       "    <tr style=\"text-align: right;\">\n",
       "      <th></th>\n",
       "      <th>RECORD_TIME</th>\n",
       "    </tr>\n",
       "  </thead>\n",
       "  <tbody>\n",
       "    <tr>\n",
       "      <th>0</th>\n",
       "      <td>2021-11-10 12:30</td>\n",
       "    </tr>\n",
       "    <tr>\n",
       "      <th>1</th>\n",
       "      <td>2021-11-10 12:00</td>\n",
       "    </tr>\n",
       "  </tbody>\n",
       "</table>\n",
       "</div>"
      ],
      "text/plain": [
       "        RECORD_TIME\n",
       "0  2021-11-10 12:30\n",
       "1  2021-11-10 12:00"
      ]
     },
     "execution_count": 3,
     "metadata": {},
     "output_type": "execute_result"
    }
   ],
   "source": [
    "timestamps"
   ]
  },
  {
   "cell_type": "code",
   "execution_count": 4,
   "id": "alternate-victory",
   "metadata": {
    "execution": {
     "iopub.execute_input": "2021-11-10T11:30:10.174700Z",
     "iopub.status.busy": "2021-11-10T11:30:10.172468Z",
     "iopub.status.idle": "2021-11-10T11:30:11.318087Z",
     "shell.execute_reply": "2021-11-10T11:30:11.319678Z"
    },
    "papermill": {
     "duration": 1.180973,
     "end_time": "2021-11-10T11:30:11.320269",
     "exception": false,
     "start_time": "2021-11-10T11:30:10.139296",
     "status": "completed"
    },
    "tags": []
   },
   "outputs": [],
   "source": [
    "df = pd.read_sql(\"select * from EBAY_TOP_BERLIN where record_time in (select distinct record_time from EBAY_TOP_BERLIN order by record_time desc limit 2)\", sqlite3.connect(\"UsedObjects.db\"))"
   ]
  },
  {
   "cell_type": "code",
   "execution_count": 5,
   "id": "popular-active",
   "metadata": {
    "execution": {
     "iopub.execute_input": "2021-11-10T11:30:11.393926Z",
     "iopub.status.busy": "2021-11-10T11:30:11.385405Z",
     "iopub.status.idle": "2021-11-10T11:30:11.416964Z",
     "shell.execute_reply": "2021-11-10T11:30:11.418397Z"
    },
    "papermill": {
     "duration": 0.076119,
     "end_time": "2021-11-10T11:30:11.418847",
     "exception": false,
     "start_time": "2021-11-10T11:30:11.342728",
     "status": "completed"
    },
    "tags": []
   },
   "outputs": [],
   "source": [
    "df_pivot = df.pivot_table(index=\"PRODUCT\", columns = \"RECORD_TIME\", values = \"LISTING_COUNT\")"
   ]
  },
  {
   "cell_type": "code",
   "execution_count": 6,
   "id": "union-huntington",
   "metadata": {
    "execution": {
     "iopub.execute_input": "2021-11-10T11:30:11.479693Z",
     "iopub.status.busy": "2021-11-10T11:30:11.477035Z",
     "iopub.status.idle": "2021-11-10T11:30:11.484559Z",
     "shell.execute_reply": "2021-11-10T11:30:11.486252Z"
    },
    "papermill": {
     "duration": 0.04713,
     "end_time": "2021-11-10T11:30:11.486738",
     "exception": false,
     "start_time": "2021-11-10T11:30:11.439608",
     "status": "completed"
    },
    "tags": []
   },
   "outputs": [],
   "source": [
    "df_pivot.columns = [\"stamp_1\", \"stamp_2\"]\n",
    "df_pivot_diff = df_pivot.diff(axis=1)"
   ]
  },
  {
   "cell_type": "code",
   "execution_count": 7,
   "id": "fifth-motion",
   "metadata": {
    "execution": {
     "iopub.execute_input": "2021-11-10T11:30:11.548875Z",
     "iopub.status.busy": "2021-11-10T11:30:11.544074Z",
     "iopub.status.idle": "2021-11-10T11:30:13.457483Z",
     "shell.execute_reply": "2021-11-10T11:30:13.458882Z"
    },
    "papermill": {
     "duration": 1.950978,
     "end_time": "2021-11-10T11:30:13.459364",
     "exception": false,
     "start_time": "2021-11-10T11:30:11.508386",
     "status": "completed"
    },
    "tags": []
   },
   "outputs": [
    {
     "data": {
      "text/plain": [
       "<AxesSubplot:ylabel='PRODUCT'>"
      ]
     },
     "execution_count": 7,
     "metadata": {},
     "output_type": "execute_result"
    },
    {
     "data": {
      "image/png": "[encoded data removed]",
      "text/plain": [
       "<Figure size 432x288 with 1 Axes>"
      ]
     },
     "metadata": {
      "needs_background": "light"
     },
     "output_type": "display_data"
    }
   ],
   "source": [
    "df_pivot_diff.sort_values(\"stamp_2\", ascending = False)[\"stamp_2\"].head(10).plot.barh()"
   ]
  },
  {
   "cell_type": "code",
   "execution_count": null,
   "id": "extra-executive",
   "metadata": {
    "papermill": {
     "duration": 0.023864,
     "end_time": "2021-11-10T11:30:13.507636",
     "exception": false,
     "start_time": "2021-11-10T11:30:13.483772",
     "status": "completed"
    },
    "tags": []
   },
   "outputs": [],
   "source": []
  }
 ],
 "metadata": {
  "kernelspec": {
   "display_name": "Python 3",
   "language": "python",
   "name": "python3"
  },
  "language_info": {
   "codemirror_mode": {
    "name": "ipython",
    "version": 3
   },
   "file_extension": ".py",
   "mimetype": "text/x-python",
   "name": "python",
   "nbconvert_exporter": "python",
   "pygments_lexer": "ipython3",
   "version": "3.9.5"
  },
  "papermill": {
   "default_parameters": {},
   "duration": 8.909645,
   "end_time": "2021-11-10T11:30:14.354480",
   "environment_variables": {},
   "exception": null,
   "input_path": "eBay_Overview.ipynb",
   "output_path": "eBay_Overview.ipynb",
   "parameters": {},
   "start_time": "2021-11-10T11:30:05.444835",
   "version": "2.3.3"
  }
 },
 "nbformat": 4,
 "nbformat_minor": 5
}