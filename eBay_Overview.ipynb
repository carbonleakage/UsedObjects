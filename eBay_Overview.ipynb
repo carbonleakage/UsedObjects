{
 "cells": [
  {
   "cell_type": "code",
   "execution_count": 1,
   "id": "reverse-picking",
   "metadata": {
    "execution": {
     "iopub.execute_input": "2021-11-30T01:30:08.111373Z",
     "iopub.status.busy": "2021-11-30T01:30:08.108743Z",
     "iopub.status.idle": "2021-11-30T01:30:09.035240Z",
     "shell.execute_reply": "2021-11-30T01:30:09.032817Z"
    },
    "papermill": {
     "duration": 0.978311,
     "end_time": "2021-11-30T01:30:09.035753",
     "exception": false,
     "start_time": "2021-11-30T01:30:08.057442",
     "status": "completed"
    },
    "tags": []
   },
   "outputs": [],
   "source": [
    "import pandas as pd\n",
    "import sqlite3"
   ]
  },
  {
   "cell_type": "code",
   "execution_count": 2,
   "id": "innovative-syndrome",
   "metadata": {
    "execution": {
     "iopub.execute_input": "2021-11-30T01:30:09.161394Z",
     "iopub.status.busy": "2021-11-30T01:30:09.159046Z",
     "iopub.status.idle": "2021-11-30T01:30:10.094731Z",
     "shell.execute_reply": "2021-11-30T01:30:10.096157Z"
    },
    "papermill": {
     "duration": 0.971735,
     "end_time": "2021-11-30T01:30:10.096615",
     "exception": false,
     "start_time": "2021-11-30T01:30:09.124880",
     "status": "completed"
    },
    "tags": []
   },
   "outputs": [],
   "source": [
    "timestamps = pd.read_sql(\"select distinct record_time from EBAY_TOP_BERLIN order by record_time desc limit 2\", sqlite3.connect(\"UsedObjects.db\"))"
   ]
  },
  {
   "cell_type": "code",
   "execution_count": 3,
   "id": "periodic-identification",
   "metadata": {
    "execution": {
     "iopub.execute_input": "2021-11-30T01:30:10.171412Z",
     "iopub.status.busy": "2021-11-30T01:30:10.168096Z",
     "iopub.status.idle": "2021-11-30T01:30:10.195887Z",
     "shell.execute_reply": "2021-11-30T01:30:10.194275Z"
    },
    "papermill": {
     "duration": 0.079727,
     "end_time": "2021-11-30T01:30:10.196288",
     "exception": false,
     "start_time": "2021-11-30T01:30:10.116561",
     "status": "completed"
    },
    "tags": []
   },
   "outputs": [
    {
     "data": {
      "text/html": [
       "<div>\n",
       "<style scoped>\n",
       "    .dataframe tbody tr th:only-of-type {\n",
       "        vertical-align: middle;\n",
       "    }\n",
       "\n",
       "    .dataframe tbody tr th {\n",
       "        vertical-align: top;\n",
       "    }\n",
       "\n",
       "    .dataframe thead th {\n",
       "        text-align: right;\n",
       "    }\n",
       "</style>\n",
       "<table border=\"1\" class=\"dataframe\">\n",
       "  <thead>\n",
       "    <tr style=\"text-align: right;\">\n",
       "      <th></th>\n",
       "      <th>RECORD_TIME</th>\n",
       "    </tr>\n",
       "  </thead>\n",
       "  <tbody>\n",
       "    <tr>\n",
       "      <th>0</th>\n",
       "      <td>2021-11-30 02:30</td>\n",
       "    </tr>\n",
       "    <tr>\n",
       "      <th>1</th>\n",
       "      <td>2021-11-30 02:00</td>\n",
       "    </tr>\n",
       "  </tbody>\n",
       "</table>\n",
       "</div>"
      ],
      "text/plain": [
       "        RECORD_TIME\n",
       "0  2021-11-30 02:30\n",
       "1  2021-11-30 02:00"
      ]
     },
     "execution_count": 3,
     "metadata": {},
     "output_type": "execute_result"
    }
   ],
   "source": [
    "timestamps"
   ]
  },
  {
   "cell_type": "code",
   "execution_count": 4,
   "id": "alternate-victory",
   "metadata": {
    "execution": {
     "iopub.execute_input": "2021-11-30T01:30:10.247989Z",
     "iopub.status.busy": "2021-11-30T01:30:10.246155Z",
     "iopub.status.idle": "2021-11-30T01:30:11.612788Z",
     "shell.execute_reply": "2021-11-30T01:30:11.614248Z"
    },
    "papermill": {
     "duration": 1.396733,
     "end_time": "2021-11-30T01:30:11.614737",
     "exception": false,
     "start_time": "2021-11-30T01:30:10.218004",
     "status": "completed"
    },
    "tags": []
   },
   "outputs": [],
   "source": [
    "df = pd.read_sql(\"select * from EBAY_TOP_BERLIN where record_time in (select distinct record_time from EBAY_TOP_BERLIN order by record_time desc limit 2)\", sqlite3.connect(\"UsedObjects.db\"))"
   ]
  },
  {
   "cell_type": "code",
   "execution_count": 5,
   "id": "popular-active",
   "metadata": {
    "execution": {
     "iopub.execute_input": "2021-11-30T01:30:11.690000Z",
     "iopub.status.busy": "2021-11-30T01:30:11.681872Z",
     "iopub.status.idle": "2021-11-30T01:30:11.707365Z",
     "shell.execute_reply": "2021-11-30T01:30:11.708818Z"
    },
    "papermill": {
     "duration": 0.073649,
     "end_time": "2021-11-30T01:30:11.709295",
     "exception": false,
     "start_time": "2021-11-30T01:30:11.635646",
     "status": "completed"
    },
    "tags": []
   },
   "outputs": [],
   "source": [
    "df_pivot = df.pivot_table(index=\"PRODUCT\", columns = \"RECORD_TIME\", values = \"LISTING_COUNT\")"
   ]
  },
  {
   "cell_type": "code",
   "execution_count": 6,
   "id": "union-huntington",
   "metadata": {
    "execution": {
     "iopub.execute_input": "2021-11-30T01:30:11.772597Z",
     "iopub.status.busy": "2021-11-30T01:30:11.770187Z",
     "iopub.status.idle": "2021-11-30T01:30:11.777946Z",
     "shell.execute_reply": "2021-11-30T01:30:11.776138Z"
    },
    "papermill": {
     "duration": 0.048035,
     "end_time": "2021-11-30T01:30:11.778365",
     "exception": false,
     "start_time": "2021-11-30T01:30:11.730330",
     "status": "completed"
    },
    "tags": []
   },
   "outputs": [],
   "source": [
    "df_pivot.columns = [\"stamp_1\", \"stamp_2\"]\n",
    "df_pivot_diff = df_pivot.diff(axis=1)"
   ]
  },
  {
   "cell_type": "code",
   "execution_count": 7,
   "id": "fifth-motion",
   "metadata": {
    "execution": {
     "iopub.execute_input": "2021-11-30T01:30:11.841734Z",
     "iopub.status.busy": "2021-11-30T01:30:11.839127Z",
     "iopub.status.idle": "2021-11-30T01:30:13.870873Z",
     "shell.execute_reply": "2021-11-30T01:30:13.873968Z"
    },
    "papermill": {
     "duration": 2.075136,
     "end_time": "2021-11-30T01:30:13.874863",
     "exception": false,
     "start_time": "2021-11-30T01:30:11.799727",
     "status": "completed"
    },
    "tags": []
   },
   "outputs": [
    {
     "data": {
      "text/plain": [
       "<AxesSubplot:ylabel='PRODUCT'>"
      ]
     },
     "execution_count": 7,
     "metadata": {},
     "output_type": "execute_result"
    },
    {
     "data": {
      "image/png": "[encoded data removed]",
      "text/plain": [
       "<Figure size 432x288 with 1 Axes>"
      ]
     },
     "metadata": {
      "needs_background": "light"
     },
     "output_type": "display_data"
    }
   ],
   "source": [
    "df_pivot_diff.sort_values(\"stamp_2\", ascending = False)[\"stamp_2\"].head(10).plot.barh()"
   ]
  },
  {
   "cell_type": "code",
   "execution_count": null,
   "id": "extra-executive",
   "metadata": {
    "papermill": {
     "duration": 0.057662,
     "end_time": "2021-11-30T01:30:13.966811",
     "exception": false,
     "start_time": "2021-11-30T01:30:13.909149",
     "status": "completed"
    },
    "tags": []
   },
   "outputs": [],
   "source": []
  }
 ],
 "metadata": {
  "kernelspec": {
   "display_name": "Python 3",
   "language": "python",
   "name": "python3"
  },
  "language_info": {
   "codemirror_mode": {
    "name": "ipython",
    "version": 3
   },
   "file_extension": ".py",
   "mimetype": "text/x-python",
   "name": "python",
   "nbconvert_exporter": "python",
   "pygments_lexer": "ipython3",
   "version": "3.9.5"
  },
  "papermill": {
   "default_parameters": {},
   "duration": 9.939468,
   "end_time": "2021-11-30T01:30:15.258884",
   "environment_variables": {},
   "exception": null,
   "input_path": "eBay_Overview.ipynb",
   "output_path": "eBay_Overview.ipynb",
   "parameters": {},
   "start_time": "2021-11-30T01:30:05.319416",
   "version": "2.3.3"
  }
 },
 "nbformat": 4,
 "nbformat_minor": 5
}