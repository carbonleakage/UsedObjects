{
 "cells": [
  {
   "cell_type": "code",
   "execution_count": 1,
   "id": "reverse-picking",
   "metadata": {
    "execution": {
     "iopub.execute_input": "2021-11-16T04:00:07.477473Z",
     "iopub.status.busy": "2021-11-16T04:00:07.474653Z",
     "iopub.status.idle": "2021-11-16T04:00:08.450098Z",
     "shell.execute_reply": "2021-11-16T04:00:08.451648Z"
    },
    "papermill": {
     "duration": 1.012616,
     "end_time": "2021-11-16T04:00:08.452396",
     "exception": false,
     "start_time": "2021-11-16T04:00:07.439780",
     "status": "completed"
    },
    "tags": []
   },
   "outputs": [],
   "source": [
    "import pandas as pd\n",
    "import sqlite3"
   ]
  },
  {
   "cell_type": "code",
   "execution_count": 2,
   "id": "innovative-syndrome",
   "metadata": {
    "execution": {
     "iopub.execute_input": "2021-11-16T04:00:08.520207Z",
     "iopub.status.busy": "2021-11-16T04:00:08.517323Z",
     "iopub.status.idle": "2021-11-16T04:00:09.338395Z",
     "shell.execute_reply": "2021-11-16T04:00:09.339831Z"
    },
    "papermill": {
     "duration": 0.858138,
     "end_time": "2021-11-16T04:00:09.340307",
     "exception": false,
     "start_time": "2021-11-16T04:00:08.482169",
     "status": "completed"
    },
    "tags": []
   },
   "outputs": [],
   "source": [
    "timestamps = pd.read_sql(\"select distinct record_time from EBAY_TOP_BERLIN order by record_time desc limit 2\", sqlite3.connect(\"UsedObjects.db\"))"
   ]
  },
  {
   "cell_type": "code",
   "execution_count": 3,
   "id": "periodic-identification",
   "metadata": {
    "execution": {
     "iopub.execute_input": "2021-11-16T04:00:09.417789Z",
     "iopub.status.busy": "2021-11-16T04:00:09.411651Z",
     "iopub.status.idle": "2021-11-16T04:00:09.434835Z",
     "shell.execute_reply": "2021-11-16T04:00:09.436660Z"
    },
    "papermill": {
     "duration": 0.075751,
     "end_time": "2021-11-16T04:00:09.437206",
     "exception": false,
     "start_time": "2021-11-16T04:00:09.361455",
     "status": "completed"
    },
    "tags": []
   },
   "outputs": [
    {
     "data": {
      "text/html": [
       "<div>\n",
       "<style scoped>\n",
       "    .dataframe tbody tr th:only-of-type {\n",
       "        vertical-align: middle;\n",
       "    }\n",
       "\n",
       "    .dataframe tbody tr th {\n",
       "        vertical-align: top;\n",
       "    }\n",
       "\n",
       "    .dataframe thead th {\n",
       "        text-align: right;\n",
       "    }\n",
       "</style>\n",
       "<table border=\"1\" class=\"dataframe\">\n",
       "  <thead>\n",
       "    <tr style=\"text-align: right;\">\n",
       "      <th></th>\n",
       "      <th>RECORD_TIME</th>\n",
       "    </tr>\n",
       "  </thead>\n",
       "  <tbody>\n",
       "    <tr>\n",
       "      <th>0</th>\n",
       "      <td>2021-11-16 05:00</td>\n",
       "    </tr>\n",
       "    <tr>\n",
       "      <th>1</th>\n",
       "      <td>2021-11-16 04:30</td>\n",
       "    </tr>\n",
       "  </tbody>\n",
       "</table>\n",
       "</div>"
      ],
      "text/plain": [
       "        RECORD_TIME\n",
       "0  2021-11-16 05:00\n",
       "1  2021-11-16 04:30"
      ]
     },
     "execution_count": 3,
     "metadata": {},
     "output_type": "execute_result"
    }
   ],
   "source": [
    "timestamps"
   ]
  },
  {
   "cell_type": "code",
   "execution_count": 4,
   "id": "alternate-victory",
   "metadata": {
    "execution": {
     "iopub.execute_input": "2021-11-16T04:00:09.491468Z",
     "iopub.status.busy": "2021-11-16T04:00:09.489129Z",
     "iopub.status.idle": "2021-11-16T04:00:10.712637Z",
     "shell.execute_reply": "2021-11-16T04:00:10.714346Z"
    },
    "papermill": {
     "duration": 1.256676,
     "end_time": "2021-11-16T04:00:10.714858",
     "exception": false,
     "start_time": "2021-11-16T04:00:09.458182",
     "status": "completed"
    },
    "tags": []
   },
   "outputs": [],
   "source": [
    "df = pd.read_sql(\"select * from EBAY_TOP_BERLIN where record_time in (select distinct record_time from EBAY_TOP_BERLIN order by record_time desc limit 2)\", sqlite3.connect(\"UsedObjects.db\"))"
   ]
  },
  {
   "cell_type": "code",
   "execution_count": 5,
   "id": "popular-active",
   "metadata": {
    "execution": {
     "iopub.execute_input": "2021-11-16T04:00:10.781144Z",
     "iopub.status.busy": "2021-11-16T04:00:10.778773Z",
     "iopub.status.idle": "2021-11-16T04:00:10.809871Z",
     "shell.execute_reply": "2021-11-16T04:00:10.808321Z"
    },
    "papermill": {
     "duration": 0.072679,
     "end_time": "2021-11-16T04:00:10.810248",
     "exception": false,
     "start_time": "2021-11-16T04:00:10.737569",
     "status": "completed"
    },
    "tags": []
   },
   "outputs": [],
   "source": [
    "df_pivot = df.pivot_table(index=\"PRODUCT\", columns = \"RECORD_TIME\", values = \"LISTING_COUNT\")"
   ]
  },
  {
   "cell_type": "code",
   "execution_count": 6,
   "id": "union-huntington",
   "metadata": {
    "execution": {
     "iopub.execute_input": "2021-11-16T04:00:10.872899Z",
     "iopub.status.busy": "2021-11-16T04:00:10.869782Z",
     "iopub.status.idle": "2021-11-16T04:00:10.875733Z",
     "shell.execute_reply": "2021-11-16T04:00:10.877738Z"
    },
    "papermill": {
     "duration": 0.047258,
     "end_time": "2021-11-16T04:00:10.878228",
     "exception": false,
     "start_time": "2021-11-16T04:00:10.830970",
     "status": "completed"
    },
    "tags": []
   },
   "outputs": [],
   "source": [
    "df_pivot.columns = [\"stamp_1\", \"stamp_2\"]\n",
    "df_pivot_diff = df_pivot.diff(axis=1)"
   ]
  },
  {
   "cell_type": "code",
   "execution_count": 7,
   "id": "fifth-motion",
   "metadata": {
    "execution": {
     "iopub.execute_input": "2021-11-16T04:00:10.937374Z",
     "iopub.status.busy": "2021-11-16T04:00:10.934602Z",
     "iopub.status.idle": "2021-11-16T04:00:12.877057Z",
     "shell.execute_reply": "2021-11-16T04:00:12.878453Z"
    },
    "papermill": {
     "duration": 1.979261,
     "end_time": "2021-11-16T04:00:12.878936",
     "exception": false,
     "start_time": "2021-11-16T04:00:10.899675",
     "status": "completed"
    },
    "tags": []
   },
   "outputs": [
    {
     "data": {
      "text/plain": [
       "<AxesSubplot:ylabel='PRODUCT'>"
      ]
     },
     "execution_count": 7,
     "metadata": {},
     "output_type": "execute_result"
    },
    {
     "data": {
      "image/png": "[encoded data removed]",
      "text/plain": [
       "<Figure size 432x288 with 1 Axes>"
      ]
     },
     "metadata": {
      "needs_background": "light"
     },
     "output_type": "display_data"
    }
   ],
   "source": [
    "df_pivot_diff.sort_values(\"stamp_2\", ascending = False)[\"stamp_2\"].head(10).plot.barh()"
   ]
  },
  {
   "cell_type": "code",
   "execution_count": null,
   "id": "extra-executive",
   "metadata": {
    "papermill": {
     "duration": 0.025467,
     "end_time": "2021-11-16T04:00:12.927969",
     "exception": false,
     "start_time": "2021-11-16T04:00:12.902502",
     "status": "completed"
    },
    "tags": []
   },
   "outputs": [],
   "source": []
  }
 ],
 "metadata": {
  "kernelspec": {
   "display_name": "Python 3",
   "language": "python",
   "name": "python3"
  },
  "language_info": {
   "codemirror_mode": {
    "name": "ipython",
    "version": 3
   },
   "file_extension": ".py",
   "mimetype": "text/x-python",
   "name": "python",
   "nbconvert_exporter": "python",
   "pygments_lexer": "ipython3",
   "version": "3.9.5"
  },
  "papermill": {
   "default_parameters": {},
   "duration": 9.939568,
   "end_time": "2021-11-16T04:00:14.645542",
   "environment_variables": {},
   "exception": null,
   "input_path": "eBay_Overview.ipynb",
   "output_path": "eBay_Overview.ipynb",
   "parameters": {},
   "start_time": "2021-11-16T04:00:04.705974",
   "version": "2.3.3"
  }
 },
 "nbformat": 4,
 "nbformat_minor": 5
}