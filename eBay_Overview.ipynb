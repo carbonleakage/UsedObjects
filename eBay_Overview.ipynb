{
 "cells": [
  {
   "cell_type": "code",
   "execution_count": 1,
   "id": "reverse-picking",
   "metadata": {
    "execution": {
     "iopub.execute_input": "2021-08-17T02:30:07.060175Z",
     "iopub.status.busy": "2021-08-17T02:30:07.058221Z",
     "iopub.status.idle": "2021-08-17T02:30:07.865624Z",
     "shell.execute_reply": "2021-08-17T02:30:07.864143Z"
    },
    "papermill": {
     "duration": 0.859765,
     "end_time": "2021-08-17T02:30:07.866090",
     "exception": false,
     "start_time": "2021-08-17T02:30:07.006325",
     "status": "completed"
    },
    "tags": []
   },
   "outputs": [],
   "source": [
    "import pandas as pd\n",
    "import sqlite3"
   ]
  },
  {
   "cell_type": "code",
   "execution_count": 2,
   "id": "innovative-syndrome",
   "metadata": {
    "execution": {
     "iopub.execute_input": "2021-08-17T02:30:07.917169Z",
     "iopub.status.busy": "2021-08-17T02:30:07.915311Z",
     "iopub.status.idle": "2021-08-17T02:30:07.979819Z",
     "shell.execute_reply": "2021-08-17T02:30:07.981053Z"
    },
    "papermill": {
     "duration": 0.09406,
     "end_time": "2021-08-17T02:30:07.981469",
     "exception": false,
     "start_time": "2021-08-17T02:30:07.887409",
     "status": "completed"
    },
    "tags": []
   },
   "outputs": [],
   "source": [
    "timestamps = pd.read_sql(\"select distinct record_time from EBAY_TOP_BERLIN order by record_time desc limit 2\", sqlite3.connect(\"UsedObjects.db\"))"
   ]
  },
  {
   "cell_type": "code",
   "execution_count": 3,
   "id": "periodic-identification",
   "metadata": {
    "execution": {
     "iopub.execute_input": "2021-08-17T02:30:08.048371Z",
     "iopub.status.busy": "2021-08-17T02:30:08.046340Z",
     "iopub.status.idle": "2021-08-17T02:30:08.066599Z",
     "shell.execute_reply": "2021-08-17T02:30:08.067794Z"
    },
    "papermill": {
     "duration": 0.067245,
     "end_time": "2021-08-17T02:30:08.068230",
     "exception": false,
     "start_time": "2021-08-17T02:30:08.000985",
     "status": "completed"
    },
    "tags": []
   },
   "outputs": [
    {
     "data": {
      "text/html": [
       "<div>\n",
       "<style scoped>\n",
       "    .dataframe tbody tr th:only-of-type {\n",
       "        vertical-align: middle;\n",
       "    }\n",
       "\n",
       "    .dataframe tbody tr th {\n",
       "        vertical-align: top;\n",
       "    }\n",
       "\n",
       "    .dataframe thead th {\n",
       "        text-align: right;\n",
       "    }\n",
       "</style>\n",
       "<table border=\"1\" class=\"dataframe\">\n",
       "  <thead>\n",
       "    <tr style=\"text-align: right;\">\n",
       "      <th></th>\n",
       "      <th>RECORD_TIME</th>\n",
       "    </tr>\n",
       "  </thead>\n",
       "  <tbody>\n",
       "    <tr>\n",
       "      <th>0</th>\n",
       "      <td>2021-08-17 04:30</td>\n",
       "    </tr>\n",
       "    <tr>\n",
       "      <th>1</th>\n",
       "      <td>2021-08-17 04:00</td>\n",
       "    </tr>\n",
       "  </tbody>\n",
       "</table>\n",
       "</div>"
      ],
      "text/plain": [
       "        RECORD_TIME\n",
       "0  2021-08-17 04:30\n",
       "1  2021-08-17 04:00"
      ]
     },
     "execution_count": 3,
     "metadata": {},
     "output_type": "execute_result"
    }
   ],
   "source": [
    "timestamps"
   ]
  },
  {
   "cell_type": "code",
   "execution_count": 4,
   "id": "alternate-victory",
   "metadata": {
    "execution": {
     "iopub.execute_input": "2021-08-17T02:30:08.119884Z",
     "iopub.status.busy": "2021-08-17T02:30:08.117618Z",
     "iopub.status.idle": "2021-08-17T02:30:08.214895Z",
     "shell.execute_reply": "2021-08-17T02:30:08.216326Z"
    },
    "papermill": {
     "duration": 0.127447,
     "end_time": "2021-08-17T02:30:08.216768",
     "exception": false,
     "start_time": "2021-08-17T02:30:08.089321",
     "status": "completed"
    },
    "tags": []
   },
   "outputs": [],
   "source": [
    "df = pd.read_sql(\"select * from EBAY_TOP_BERLIN where record_time in (select distinct record_time from EBAY_TOP_BERLIN order by record_time desc limit 2)\", sqlite3.connect(\"UsedObjects.db\"))"
   ]
  },
  {
   "cell_type": "code",
   "execution_count": 5,
   "id": "popular-active",
   "metadata": {
    "execution": {
     "iopub.execute_input": "2021-08-17T02:30:08.282655Z",
     "iopub.status.busy": "2021-08-17T02:30:08.276229Z",
     "iopub.status.idle": "2021-08-17T02:30:08.303384Z",
     "shell.execute_reply": "2021-08-17T02:30:08.304581Z"
    },
    "papermill": {
     "duration": 0.067525,
     "end_time": "2021-08-17T02:30:08.304979",
     "exception": false,
     "start_time": "2021-08-17T02:30:08.237454",
     "status": "completed"
    },
    "tags": []
   },
   "outputs": [],
   "source": [
    "df_pivot = df.pivot_table(index=\"PRODUCT\", columns = \"RECORD_TIME\", values = \"LISTING_COUNT\")"
   ]
  },
  {
   "cell_type": "code",
   "execution_count": 6,
   "id": "union-huntington",
   "metadata": {
    "execution": {
     "iopub.execute_input": "2021-08-17T02:30:08.364090Z",
     "iopub.status.busy": "2021-08-17T02:30:08.361527Z",
     "iopub.status.idle": "2021-08-17T02:30:08.367663Z",
     "shell.execute_reply": "2021-08-17T02:30:08.368930Z"
    },
    "papermill": {
     "duration": 0.042325,
     "end_time": "2021-08-17T02:30:08.369346",
     "exception": false,
     "start_time": "2021-08-17T02:30:08.327021",
     "status": "completed"
    },
    "tags": []
   },
   "outputs": [],
   "source": [
    "df_pivot.columns = [\"stamp_1\", \"stamp_2\"]\n",
    "df_pivot_diff = df_pivot.diff(axis=1)"
   ]
  },
  {
   "cell_type": "code",
   "execution_count": 7,
   "id": "fifth-motion",
   "metadata": {
    "execution": {
     "iopub.execute_input": "2021-08-17T02:30:08.423609Z",
     "iopub.status.busy": "2021-08-17T02:30:08.421214Z",
     "iopub.status.idle": "2021-08-17T02:30:09.889177Z",
     "shell.execute_reply": "2021-08-17T02:30:09.890638Z"
    },
    "papermill": {
     "duration": 1.501315,
     "end_time": "2021-08-17T02:30:09.891088",
     "exception": false,
     "start_time": "2021-08-17T02:30:08.389773",
     "status": "completed"
    },
    "tags": []
   },
   "outputs": [
    {
     "data": {
      "text/plain": [
       "<AxesSubplot:ylabel='PRODUCT'>"
      ]
     },
     "execution_count": 7,
     "metadata": {},
     "output_type": "execute_result"
    },
    {
     "data": {
      "image/png": "[encoded data removed]",
      "text/plain": [
       "<Figure size 432x288 with 1 Axes>"
      ]
     },
     "metadata": {
      "needs_background": "light"
     },
     "output_type": "display_data"
    }
   ],
   "source": [
    "df_pivot_diff.sort_values(\"stamp_2\", ascending = False)[\"stamp_2\"].head(10).plot.barh()"
   ]
  },
  {
   "cell_type": "code",
   "execution_count": null,
   "id": "extra-executive",
   "metadata": {
    "papermill": {
     "duration": 0.02204,
     "end_time": "2021-08-17T02:30:09.936718",
     "exception": false,
     "start_time": "2021-08-17T02:30:09.914678",
     "status": "completed"
    },
    "tags": []
   },
   "outputs": [],
   "source": []
  }
 ],
 "metadata": {
  "kernelspec": {
   "display_name": "Python 3",
   "language": "python",
   "name": "python3"
  },
  "language_info": {
   "codemirror_mode": {
    "name": "ipython",
    "version": 3
   },
   "file_extension": ".py",
   "mimetype": "text/x-python",
   "name": "python",
   "nbconvert_exporter": "python",
   "pygments_lexer": "ipython3",
   "version": "3.9.5"
  },
  "papermill": {
   "default_parameters": {},
   "duration": 6.829292,
   "end_time": "2021-08-17T02:30:11.420713",
   "environment_variables": {},
   "exception": null,
   "input_path": "eBay_Overview.ipynb",
   "output_path": "eBay_Overview.ipynb",
   "parameters": {},
   "start_time": "2021-08-17T02:30:04.591421",
   "version": "2.3.3"
  }
 },
 "nbformat": 4,
 "nbformat_minor": 5
}