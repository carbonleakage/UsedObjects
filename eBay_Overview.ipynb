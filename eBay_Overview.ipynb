{
 "cells": [
  {
   "cell_type": "code",
   "execution_count": 1,
   "id": "reverse-picking",
   "metadata": {
    "execution": {
     "iopub.execute_input": "2021-09-17T04:00:07.133145Z",
     "iopub.status.busy": "2021-09-17T04:00:07.131195Z",
     "iopub.status.idle": "2021-09-17T04:00:07.938255Z",
     "shell.execute_reply": "2021-09-17T04:00:07.939607Z"
    },
    "papermill": {
     "duration": 0.858676,
     "end_time": "2021-09-17T04:00:07.940244",
     "exception": false,
     "start_time": "2021-09-17T04:00:07.081568",
     "status": "completed"
    },
    "tags": []
   },
   "outputs": [],
   "source": [
    "import pandas as pd\n",
    "import sqlite3"
   ]
  },
  {
   "cell_type": "code",
   "execution_count": 2,
   "id": "innovative-syndrome",
   "metadata": {
    "execution": {
     "iopub.execute_input": "2021-09-17T04:00:07.990608Z",
     "iopub.status.busy": "2021-09-17T04:00:07.988736Z",
     "iopub.status.idle": "2021-09-17T04:00:08.295943Z",
     "shell.execute_reply": "2021-09-17T04:00:08.297069Z"
    },
    "papermill": {
     "duration": 0.336593,
     "end_time": "2021-09-17T04:00:08.297481",
     "exception": false,
     "start_time": "2021-09-17T04:00:07.960888",
     "status": "completed"
    },
    "tags": []
   },
   "outputs": [],
   "source": [
    "timestamps = pd.read_sql(\"select distinct record_time from EBAY_TOP_BERLIN order by record_time desc limit 2\", sqlite3.connect(\"UsedObjects.db\"))"
   ]
  },
  {
   "cell_type": "code",
   "execution_count": 3,
   "id": "periodic-identification",
   "metadata": {
    "execution": {
     "iopub.execute_input": "2021-09-17T04:00:08.362494Z",
     "iopub.status.busy": "2021-09-17T04:00:08.360476Z",
     "iopub.status.idle": "2021-09-17T04:00:08.381192Z",
     "shell.execute_reply": "2021-09-17T04:00:08.382493Z"
    },
    "papermill": {
     "duration": 0.064416,
     "end_time": "2021-09-17T04:00:08.382951",
     "exception": false,
     "start_time": "2021-09-17T04:00:08.318535",
     "status": "completed"
    },
    "tags": []
   },
   "outputs": [
    {
     "data": {
      "text/html": [
       "<div>\n",
       "<style scoped>\n",
       "    .dataframe tbody tr th:only-of-type {\n",
       "        vertical-align: middle;\n",
       "    }\n",
       "\n",
       "    .dataframe tbody tr th {\n",
       "        vertical-align: top;\n",
       "    }\n",
       "\n",
       "    .dataframe thead th {\n",
       "        text-align: right;\n",
       "    }\n",
       "</style>\n",
       "<table border=\"1\" class=\"dataframe\">\n",
       "  <thead>\n",
       "    <tr style=\"text-align: right;\">\n",
       "      <th></th>\n",
       "      <th>RECORD_TIME</th>\n",
       "    </tr>\n",
       "  </thead>\n",
       "  <tbody>\n",
       "    <tr>\n",
       "      <th>0</th>\n",
       "      <td>2021-09-17 06:00</td>\n",
       "    </tr>\n",
       "    <tr>\n",
       "      <th>1</th>\n",
       "      <td>2021-09-17 05:30</td>\n",
       "    </tr>\n",
       "  </tbody>\n",
       "</table>\n",
       "</div>"
      ],
      "text/plain": [
       "        RECORD_TIME\n",
       "0  2021-09-17 06:00\n",
       "1  2021-09-17 05:30"
      ]
     },
     "execution_count": 3,
     "metadata": {},
     "output_type": "execute_result"
    }
   ],
   "source": [
    "timestamps"
   ]
  },
  {
   "cell_type": "code",
   "execution_count": 4,
   "id": "alternate-victory",
   "metadata": {
    "execution": {
     "iopub.execute_input": "2021-09-17T04:00:08.434326Z",
     "iopub.status.busy": "2021-09-17T04:00:08.432490Z",
     "iopub.status.idle": "2021-09-17T04:00:08.897541Z",
     "shell.execute_reply": "2021-09-17T04:00:08.896221Z"
    },
    "papermill": {
     "duration": 0.493554,
     "end_time": "2021-09-17T04:00:08.897877",
     "exception": false,
     "start_time": "2021-09-17T04:00:08.404323",
     "status": "completed"
    },
    "tags": []
   },
   "outputs": [],
   "source": [
    "df = pd.read_sql(\"select * from EBAY_TOP_BERLIN where record_time in (select distinct record_time from EBAY_TOP_BERLIN order by record_time desc limit 2)\", sqlite3.connect(\"UsedObjects.db\"))"
   ]
  },
  {
   "cell_type": "code",
   "execution_count": 5,
   "id": "popular-active",
   "metadata": {
    "execution": {
     "iopub.execute_input": "2021-09-17T04:00:08.968776Z",
     "iopub.status.busy": "2021-09-17T04:00:08.955924Z",
     "iopub.status.idle": "2021-09-17T04:00:08.985876Z",
     "shell.execute_reply": "2021-09-17T04:00:08.987261Z"
    },
    "papermill": {
     "duration": 0.068945,
     "end_time": "2021-09-17T04:00:08.987687",
     "exception": false,
     "start_time": "2021-09-17T04:00:08.918742",
     "status": "completed"
    },
    "tags": []
   },
   "outputs": [],
   "source": [
    "df_pivot = df.pivot_table(index=\"PRODUCT\", columns = \"RECORD_TIME\", values = \"LISTING_COUNT\")"
   ]
  },
  {
   "cell_type": "code",
   "execution_count": 6,
   "id": "union-huntington",
   "metadata": {
    "execution": {
     "iopub.execute_input": "2021-09-17T04:00:09.043820Z",
     "iopub.status.busy": "2021-09-17T04:00:09.041724Z",
     "iopub.status.idle": "2021-09-17T04:00:09.047058Z",
     "shell.execute_reply": "2021-09-17T04:00:09.048511Z"
    },
    "papermill": {
     "duration": 0.041055,
     "end_time": "2021-09-17T04:00:09.048941",
     "exception": false,
     "start_time": "2021-09-17T04:00:09.007886",
     "status": "completed"
    },
    "tags": []
   },
   "outputs": [],
   "source": [
    "df_pivot.columns = [\"stamp_1\", \"stamp_2\"]\n",
    "df_pivot_diff = df_pivot.diff(axis=1)"
   ]
  },
  {
   "cell_type": "code",
   "execution_count": 7,
   "id": "fifth-motion",
   "metadata": {
    "execution": {
     "iopub.execute_input": "2021-09-17T04:00:09.104177Z",
     "iopub.status.busy": "2021-09-17T04:00:09.101626Z",
     "iopub.status.idle": "2021-09-17T04:00:10.580366Z",
     "shell.execute_reply": "2021-09-17T04:00:10.581672Z"
    },
    "papermill": {
     "duration": 1.511872,
     "end_time": "2021-09-17T04:00:10.582092",
     "exception": false,
     "start_time": "2021-09-17T04:00:09.070220",
     "status": "completed"
    },
    "tags": []
   },
   "outputs": [
    {
     "data": {
      "text/plain": [
       "<AxesSubplot:ylabel='PRODUCT'>"
      ]
     },
     "execution_count": 7,
     "metadata": {},
     "output_type": "execute_result"
    },
    {
     "data": {
      "image/png": "[encoded data removed]",
      "text/plain": [
       "<Figure size 432x288 with 1 Axes>"
      ]
     },
     "metadata": {
      "needs_background": "light"
     },
     "output_type": "display_data"
    }
   ],
   "source": [
    "df_pivot_diff.sort_values(\"stamp_2\", ascending = False)[\"stamp_2\"].head(10).plot.barh()"
   ]
  },
  {
   "cell_type": "code",
   "execution_count": null,
   "id": "extra-executive",
   "metadata": {
    "papermill": {
     "duration": 0.022148,
     "end_time": "2021-09-17T04:00:10.630403",
     "exception": false,
     "start_time": "2021-09-17T04:00:10.608255",
     "status": "completed"
    },
    "tags": []
   },
   "outputs": [],
   "source": []
  }
 ],
 "metadata": {
  "kernelspec": {
   "display_name": "Python 3",
   "language": "python",
   "name": "python3"
  },
  "language_info": {
   "codemirror_mode": {
    "name": "ipython",
    "version": 3
   },
   "file_extension": ".py",
   "mimetype": "text/x-python",
   "name": "python",
   "nbconvert_exporter": "python",
   "pygments_lexer": "ipython3",
   "version": "3.9.5"
  },
  "papermill": {
   "default_parameters": {},
   "duration": 6.582342,
   "end_time": "2021-09-17T04:00:11.273325",
   "environment_variables": {},
   "exception": null,
   "input_path": "eBay_Overview.ipynb",
   "output_path": "eBay_Overview.ipynb",
   "parameters": {},
   "start_time": "2021-09-17T04:00:04.690983",
   "version": "2.3.3"
  }
 },
 "nbformat": 4,
 "nbformat_minor": 5
}