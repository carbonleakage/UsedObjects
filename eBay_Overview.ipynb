{
 "cells": [
  {
   "cell_type": "code",
   "execution_count": 1,
   "id": "reverse-picking",
   "metadata": {
    "execution": {
     "iopub.execute_input": "2021-09-24T14:30:07.544960Z",
     "iopub.status.busy": "2021-09-24T14:30:07.543031Z",
     "iopub.status.idle": "2021-09-24T14:30:08.353133Z",
     "shell.execute_reply": "2021-09-24T14:30:08.354365Z"
    },
    "papermill": {
     "duration": 0.86196,
     "end_time": "2021-09-24T14:30:08.355173",
     "exception": false,
     "start_time": "2021-09-24T14:30:07.493213",
     "status": "completed"
    },
    "tags": []
   },
   "outputs": [],
   "source": [
    "import pandas as pd\n",
    "import sqlite3"
   ]
  },
  {
   "cell_type": "code",
   "execution_count": 2,
   "id": "innovative-syndrome",
   "metadata": {
    "execution": {
     "iopub.execute_input": "2021-09-24T14:30:08.408134Z",
     "iopub.status.busy": "2021-09-24T14:30:08.405769Z",
     "iopub.status.idle": "2021-09-24T14:30:08.770189Z",
     "shell.execute_reply": "2021-09-24T14:30:08.771486Z"
    },
    "papermill": {
     "duration": 0.394466,
     "end_time": "2021-09-24T14:30:08.771895",
     "exception": false,
     "start_time": "2021-09-24T14:30:08.377429",
     "status": "completed"
    },
    "tags": []
   },
   "outputs": [],
   "source": [
    "timestamps = pd.read_sql(\"select distinct record_time from EBAY_TOP_BERLIN order by record_time desc limit 2\", sqlite3.connect(\"UsedObjects.db\"))"
   ]
  },
  {
   "cell_type": "code",
   "execution_count": 3,
   "id": "periodic-identification",
   "metadata": {
    "execution": {
     "iopub.execute_input": "2021-09-24T14:30:08.835375Z",
     "iopub.status.busy": "2021-09-24T14:30:08.833210Z",
     "iopub.status.idle": "2021-09-24T14:30:08.853301Z",
     "shell.execute_reply": "2021-09-24T14:30:08.854572Z"
    },
    "papermill": {
     "duration": 0.063733,
     "end_time": "2021-09-24T14:30:08.855031",
     "exception": false,
     "start_time": "2021-09-24T14:30:08.791298",
     "status": "completed"
    },
    "tags": []
   },
   "outputs": [
    {
     "data": {
      "text/html": [
       "<div>\n",
       "<style scoped>\n",
       "    .dataframe tbody tr th:only-of-type {\n",
       "        vertical-align: middle;\n",
       "    }\n",
       "\n",
       "    .dataframe tbody tr th {\n",
       "        vertical-align: top;\n",
       "    }\n",
       "\n",
       "    .dataframe thead th {\n",
       "        text-align: right;\n",
       "    }\n",
       "</style>\n",
       "<table border=\"1\" class=\"dataframe\">\n",
       "  <thead>\n",
       "    <tr style=\"text-align: right;\">\n",
       "      <th></th>\n",
       "      <th>RECORD_TIME</th>\n",
       "    </tr>\n",
       "  </thead>\n",
       "  <tbody>\n",
       "    <tr>\n",
       "      <th>0</th>\n",
       "      <td>2021-09-24 16:30</td>\n",
       "    </tr>\n",
       "    <tr>\n",
       "      <th>1</th>\n",
       "      <td>2021-09-24 16:00</td>\n",
       "    </tr>\n",
       "  </tbody>\n",
       "</table>\n",
       "</div>"
      ],
      "text/plain": [
       "        RECORD_TIME\n",
       "0  2021-09-24 16:30\n",
       "1  2021-09-24 16:00"
      ]
     },
     "execution_count": 3,
     "metadata": {},
     "output_type": "execute_result"
    }
   ],
   "source": [
    "timestamps"
   ]
  },
  {
   "cell_type": "code",
   "execution_count": 4,
   "id": "alternate-victory",
   "metadata": {
    "execution": {
     "iopub.execute_input": "2021-09-24T14:30:08.906537Z",
     "iopub.status.busy": "2021-09-24T14:30:08.904699Z",
     "iopub.status.idle": "2021-09-24T14:30:09.436293Z",
     "shell.execute_reply": "2021-09-24T14:30:09.437697Z"
    },
    "papermill": {
     "duration": 0.56189,
     "end_time": "2021-09-24T14:30:09.438127",
     "exception": false,
     "start_time": "2021-09-24T14:30:08.876237",
     "status": "completed"
    },
    "tags": []
   },
   "outputs": [],
   "source": [
    "df = pd.read_sql(\"select * from EBAY_TOP_BERLIN where record_time in (select distinct record_time from EBAY_TOP_BERLIN order by record_time desc limit 2)\", sqlite3.connect(\"UsedObjects.db\"))"
   ]
  },
  {
   "cell_type": "code",
   "execution_count": 5,
   "id": "popular-active",
   "metadata": {
    "execution": {
     "iopub.execute_input": "2021-09-24T14:30:09.518330Z",
     "iopub.status.busy": "2021-09-24T14:30:09.506500Z",
     "iopub.status.idle": "2021-09-24T14:30:09.533674Z",
     "shell.execute_reply": "2021-09-24T14:30:09.534941Z"
    },
    "papermill": {
     "duration": 0.071152,
     "end_time": "2021-09-24T14:30:09.535335",
     "exception": false,
     "start_time": "2021-09-24T14:30:09.464183",
     "status": "completed"
    },
    "tags": []
   },
   "outputs": [],
   "source": [
    "df_pivot = df.pivot_table(index=\"PRODUCT\", columns = \"RECORD_TIME\", values = \"LISTING_COUNT\")"
   ]
  },
  {
   "cell_type": "code",
   "execution_count": 6,
   "id": "union-huntington",
   "metadata": {
    "execution": {
     "iopub.execute_input": "2021-09-24T14:30:09.591597Z",
     "iopub.status.busy": "2021-09-24T14:30:09.589408Z",
     "iopub.status.idle": "2021-09-24T14:30:09.595205Z",
     "shell.execute_reply": "2021-09-24T14:30:09.596606Z"
    },
    "papermill": {
     "duration": 0.041128,
     "end_time": "2021-09-24T14:30:09.597090",
     "exception": false,
     "start_time": "2021-09-24T14:30:09.555962",
     "status": "completed"
    },
    "tags": []
   },
   "outputs": [],
   "source": [
    "df_pivot.columns = [\"stamp_1\", \"stamp_2\"]\n",
    "df_pivot_diff = df_pivot.diff(axis=1)"
   ]
  },
  {
   "cell_type": "code",
   "execution_count": 7,
   "id": "fifth-motion",
   "metadata": {
    "execution": {
     "iopub.execute_input": "2021-09-24T14:30:09.652483Z",
     "iopub.status.busy": "2021-09-24T14:30:09.650036Z",
     "iopub.status.idle": "2021-09-24T14:30:11.143760Z",
     "shell.execute_reply": "2021-09-24T14:30:11.145122Z"
    },
    "papermill": {
     "duration": 1.527019,
     "end_time": "2021-09-24T14:30:11.145553",
     "exception": false,
     "start_time": "2021-09-24T14:30:09.618534",
     "status": "completed"
    },
    "tags": []
   },
   "outputs": [
    {
     "data": {
      "text/plain": [
       "<AxesSubplot:ylabel='PRODUCT'>"
      ]
     },
     "execution_count": 7,
     "metadata": {},
     "output_type": "execute_result"
    },
    {
     "data": {
      "image/png": "[encoded data removed]",
      "text/plain": [
       "<Figure size 432x288 with 1 Axes>"
      ]
     },
     "metadata": {
      "needs_background": "light"
     },
     "output_type": "display_data"
    }
   ],
   "source": [
    "df_pivot_diff.sort_values(\"stamp_2\", ascending = False)[\"stamp_2\"].head(10).plot.barh()"
   ]
  },
  {
   "cell_type": "code",
   "execution_count": null,
   "id": "extra-executive",
   "metadata": {
    "papermill": {
     "duration": 0.02211,
     "end_time": "2021-09-24T14:30:11.192168",
     "exception": false,
     "start_time": "2021-09-24T14:30:11.170058",
     "status": "completed"
    },
    "tags": []
   },
   "outputs": [],
   "source": []
  }
 ],
 "metadata": {
  "kernelspec": {
   "display_name": "Python 3",
   "language": "python",
   "name": "python3"
  },
  "language_info": {
   "codemirror_mode": {
    "name": "ipython",
    "version": 3
   },
   "file_extension": ".py",
   "mimetype": "text/x-python",
   "name": "python",
   "nbconvert_exporter": "python",
   "pygments_lexer": "ipython3",
   "version": "3.9.5"
  },
  "papermill": {
   "default_parameters": {},
   "duration": 6.75083,
   "end_time": "2021-09-24T14:30:11.835541",
   "environment_variables": {},
   "exception": null,
   "input_path": "eBay_Overview.ipynb",
   "output_path": "eBay_Overview.ipynb",
   "parameters": {},
   "start_time": "2021-09-24T14:30:05.084711",
   "version": "2.3.3"
  }
 },
 "nbformat": 4,
 "nbformat_minor": 5
}