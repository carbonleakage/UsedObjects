{
 "cells": [
  {
   "cell_type": "code",
   "execution_count": 1,
   "id": "reverse-picking",
   "metadata": {
    "execution": {
     "iopub.execute_input": "2021-12-02T02:00:07.560516Z",
     "iopub.status.busy": "2021-12-02T02:00:07.557873Z",
     "iopub.status.idle": "2021-12-02T02:00:08.510734Z",
     "shell.execute_reply": "2021-12-02T02:00:08.512976Z"
    },
    "papermill": {
     "duration": 1.003479,
     "end_time": "2021-12-02T02:00:08.513712",
     "exception": false,
     "start_time": "2021-12-02T02:00:07.510233",
     "status": "completed"
    },
    "tags": []
   },
   "outputs": [],
   "source": [
    "import pandas as pd\n",
    "import sqlite3"
   ]
  },
  {
   "cell_type": "code",
   "execution_count": 2,
   "id": "innovative-syndrome",
   "metadata": {
    "execution": {
     "iopub.execute_input": "2021-12-02T02:00:08.585858Z",
     "iopub.status.busy": "2021-12-02T02:00:08.582333Z",
     "iopub.status.idle": "2021-12-02T02:00:09.549340Z",
     "shell.execute_reply": "2021-12-02T02:00:09.551542Z"
    },
    "papermill": {
     "duration": 1.002518,
     "end_time": "2021-12-02T02:00:09.552064",
     "exception": false,
     "start_time": "2021-12-02T02:00:08.549546",
     "status": "completed"
    },
    "tags": []
   },
   "outputs": [],
   "source": [
    "timestamps = pd.read_sql(\"select distinct record_time from EBAY_TOP_BERLIN order by record_time desc limit 2\", sqlite3.connect(\"UsedObjects.db\"))"
   ]
  },
  {
   "cell_type": "code",
   "execution_count": 3,
   "id": "periodic-identification",
   "metadata": {
    "execution": {
     "iopub.execute_input": "2021-12-02T02:00:09.625270Z",
     "iopub.status.busy": "2021-12-02T02:00:09.622830Z",
     "iopub.status.idle": "2021-12-02T02:00:09.644308Z",
     "shell.execute_reply": "2021-12-02T02:00:09.645932Z"
    },
    "papermill": {
     "duration": 0.071344,
     "end_time": "2021-12-02T02:00:09.646481",
     "exception": false,
     "start_time": "2021-12-02T02:00:09.575137",
     "status": "completed"
    },
    "tags": []
   },
   "outputs": [
    {
     "data": {
      "text/html": [
       "<div>\n",
       "<style scoped>\n",
       "    .dataframe tbody tr th:only-of-type {\n",
       "        vertical-align: middle;\n",
       "    }\n",
       "\n",
       "    .dataframe tbody tr th {\n",
       "        vertical-align: top;\n",
       "    }\n",
       "\n",
       "    .dataframe thead th {\n",
       "        text-align: right;\n",
       "    }\n",
       "</style>\n",
       "<table border=\"1\" class=\"dataframe\">\n",
       "  <thead>\n",
       "    <tr style=\"text-align: right;\">\n",
       "      <th></th>\n",
       "      <th>RECORD_TIME</th>\n",
       "    </tr>\n",
       "  </thead>\n",
       "  <tbody>\n",
       "    <tr>\n",
       "      <th>0</th>\n",
       "      <td>2021-12-02 03:00</td>\n",
       "    </tr>\n",
       "    <tr>\n",
       "      <th>1</th>\n",
       "      <td>2021-12-02 02:30</td>\n",
       "    </tr>\n",
       "  </tbody>\n",
       "</table>\n",
       "</div>"
      ],
      "text/plain": [
       "        RECORD_TIME\n",
       "0  2021-12-02 03:00\n",
       "1  2021-12-02 02:30"
      ]
     },
     "execution_count": 3,
     "metadata": {},
     "output_type": "execute_result"
    }
   ],
   "source": [
    "timestamps"
   ]
  },
  {
   "cell_type": "code",
   "execution_count": 4,
   "id": "alternate-victory",
   "metadata": {
    "execution": {
     "iopub.execute_input": "2021-12-02T02:00:09.704868Z",
     "iopub.status.busy": "2021-12-02T02:00:09.701506Z",
     "iopub.status.idle": "2021-12-02T02:00:11.075849Z",
     "shell.execute_reply": "2021-12-02T02:00:11.077327Z"
    },
    "papermill": {
     "duration": 1.409779,
     "end_time": "2021-12-02T02:00:11.077835",
     "exception": false,
     "start_time": "2021-12-02T02:00:09.668056",
     "status": "completed"
    },
    "tags": []
   },
   "outputs": [],
   "source": [
    "df = pd.read_sql(\"select * from EBAY_TOP_BERLIN where record_time in (select distinct record_time from EBAY_TOP_BERLIN order by record_time desc limit 2)\", sqlite3.connect(\"UsedObjects.db\"))"
   ]
  },
  {
   "cell_type": "code",
   "execution_count": 5,
   "id": "popular-active",
   "metadata": {
    "execution": {
     "iopub.execute_input": "2021-12-02T02:00:11.153993Z",
     "iopub.status.busy": "2021-12-02T02:00:11.141391Z",
     "iopub.status.idle": "2021-12-02T02:00:11.172826Z",
     "shell.execute_reply": "2021-12-02T02:00:11.174182Z"
    },
    "papermill": {
     "duration": 0.07495,
     "end_time": "2021-12-02T02:00:11.174656",
     "exception": false,
     "start_time": "2021-12-02T02:00:11.099706",
     "status": "completed"
    },
    "tags": []
   },
   "outputs": [],
   "source": [
    "df_pivot = df.pivot_table(index=\"PRODUCT\", columns = \"RECORD_TIME\", values = \"LISTING_COUNT\")"
   ]
  },
  {
   "cell_type": "code",
   "execution_count": 6,
   "id": "union-huntington",
   "metadata": {
    "execution": {
     "iopub.execute_input": "2021-12-02T02:00:11.232076Z",
     "iopub.status.busy": "2021-12-02T02:00:11.229862Z",
     "iopub.status.idle": "2021-12-02T02:00:11.237028Z",
     "shell.execute_reply": "2021-12-02T02:00:11.235343Z"
    },
    "papermill": {
     "duration": 0.043048,
     "end_time": "2021-12-02T02:00:11.237449",
     "exception": false,
     "start_time": "2021-12-02T02:00:11.194401",
     "status": "completed"
    },
    "tags": []
   },
   "outputs": [],
   "source": [
    "df_pivot.columns = [\"stamp_1\", \"stamp_2\"]\n",
    "df_pivot_diff = df_pivot.diff(axis=1)"
   ]
  },
  {
   "cell_type": "code",
   "execution_count": 7,
   "id": "fifth-motion",
   "metadata": {
    "execution": {
     "iopub.execute_input": "2021-12-02T02:00:11.300520Z",
     "iopub.status.busy": "2021-12-02T02:00:11.297939Z",
     "iopub.status.idle": "2021-12-02T02:00:13.230554Z",
     "shell.execute_reply": "2021-12-02T02:00:13.233552Z"
    },
    "papermill": {
     "duration": 1.974757,
     "end_time": "2021-12-02T02:00:13.234345",
     "exception": false,
     "start_time": "2021-12-02T02:00:11.259588",
     "status": "completed"
    },
    "tags": []
   },
   "outputs": [
    {
     "data": {
      "text/plain": [
       "<AxesSubplot:ylabel='PRODUCT'>"
      ]
     },
     "execution_count": 7,
     "metadata": {},
     "output_type": "execute_result"
    },
    {
     "data": {
      "image/png": "[encoded data removed]",
      "text/plain": [
       "<Figure size 432x288 with 1 Axes>"
      ]
     },
     "metadata": {
      "needs_background": "light"
     },
     "output_type": "display_data"
    }
   ],
   "source": [
    "df_pivot_diff.sort_values(\"stamp_2\", ascending = False)[\"stamp_2\"].head(10).plot.barh()"
   ]
  },
  {
   "cell_type": "code",
   "execution_count": null,
   "id": "extra-executive",
   "metadata": {
    "papermill": {
     "duration": 0.033051,
     "end_time": "2021-12-02T02:00:13.304139",
     "exception": false,
     "start_time": "2021-12-02T02:00:13.271088",
     "status": "completed"
    },
    "tags": []
   },
   "outputs": [],
   "source": []
  }
 ],
 "metadata": {
  "kernelspec": {
   "display_name": "Python 3",
   "language": "python",
   "name": "python3"
  },
  "language_info": {
   "codemirror_mode": {
    "name": "ipython",
    "version": 3
   },
   "file_extension": ".py",
   "mimetype": "text/x-python",
   "name": "python",
   "nbconvert_exporter": "python",
   "pygments_lexer": "ipython3",
   "version": "3.9.5"
  },
  "papermill": {
   "default_parameters": {},
   "duration": 9.938494,
   "end_time": "2021-12-02T02:00:14.728019",
   "environment_variables": {},
   "exception": null,
   "input_path": "eBay_Overview.ipynb",
   "output_path": "eBay_Overview.ipynb",
   "parameters": {},
   "start_time": "2021-12-02T02:00:04.789525",
   "version": "2.3.3"
  }
 },
 "nbformat": 4,
 "nbformat_minor": 5
}