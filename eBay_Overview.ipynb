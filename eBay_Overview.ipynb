{
 "cells": [
  {
   "cell_type": "code",
   "execution_count": 1,
   "id": "reverse-picking",
   "metadata": {
    "execution": {
     "iopub.execute_input": "2021-12-11T05:30:07.532335Z",
     "iopub.status.busy": "2021-12-11T05:30:07.530122Z",
     "iopub.status.idle": "2021-12-11T05:30:08.481090Z",
     "shell.execute_reply": "2021-12-11T05:30:08.482593Z"
    },
    "papermill": {
     "duration": 0.99815,
     "end_time": "2021-12-11T05:30:08.483326",
     "exception": false,
     "start_time": "2021-12-11T05:30:07.485176",
     "status": "completed"
    },
    "tags": []
   },
   "outputs": [],
   "source": [
    "import pandas as pd\n",
    "import sqlite3"
   ]
  },
  {
   "cell_type": "code",
   "execution_count": 2,
   "id": "innovative-syndrome",
   "metadata": {
    "execution": {
     "iopub.execute_input": "2021-12-11T05:30:08.587493Z",
     "iopub.status.busy": "2021-12-11T05:30:08.585159Z",
     "iopub.status.idle": "2021-12-11T05:30:09.615487Z",
     "shell.execute_reply": "2021-12-11T05:30:09.617894Z"
    },
    "papermill": {
     "duration": 1.067079,
     "end_time": "2021-12-11T05:30:09.618756",
     "exception": false,
     "start_time": "2021-12-11T05:30:08.551677",
     "status": "completed"
    },
    "tags": []
   },
   "outputs": [],
   "source": [
    "timestamps = pd.read_sql(\"select distinct record_time from EBAY_TOP_BERLIN order by record_time desc limit 2\", sqlite3.connect(\"UsedObjects.db\"))"
   ]
  },
  {
   "cell_type": "code",
   "execution_count": 3,
   "id": "periodic-identification",
   "metadata": {
    "execution": {
     "iopub.execute_input": "2021-12-11T05:30:09.694134Z",
     "iopub.status.busy": "2021-12-11T05:30:09.691363Z",
     "iopub.status.idle": "2021-12-11T05:30:09.713361Z",
     "shell.execute_reply": "2021-12-11T05:30:09.714781Z"
    },
    "papermill": {
     "duration": 0.074854,
     "end_time": "2021-12-11T05:30:09.715280",
     "exception": false,
     "start_time": "2021-12-11T05:30:09.640426",
     "status": "completed"
    },
    "tags": []
   },
   "outputs": [
    {
     "data": {
      "text/html": [
       "<div>\n",
       "<style scoped>\n",
       "    .dataframe tbody tr th:only-of-type {\n",
       "        vertical-align: middle;\n",
       "    }\n",
       "\n",
       "    .dataframe tbody tr th {\n",
       "        vertical-align: top;\n",
       "    }\n",
       "\n",
       "    .dataframe thead th {\n",
       "        text-align: right;\n",
       "    }\n",
       "</style>\n",
       "<table border=\"1\" class=\"dataframe\">\n",
       "  <thead>\n",
       "    <tr style=\"text-align: right;\">\n",
       "      <th></th>\n",
       "      <th>RECORD_TIME</th>\n",
       "    </tr>\n",
       "  </thead>\n",
       "  <tbody>\n",
       "    <tr>\n",
       "      <th>0</th>\n",
       "      <td>2021-12-11 06:30</td>\n",
       "    </tr>\n",
       "    <tr>\n",
       "      <th>1</th>\n",
       "      <td>2021-12-11 06:00</td>\n",
       "    </tr>\n",
       "  </tbody>\n",
       "</table>\n",
       "</div>"
      ],
      "text/plain": [
       "        RECORD_TIME\n",
       "0  2021-12-11 06:30\n",
       "1  2021-12-11 06:00"
      ]
     },
     "execution_count": 3,
     "metadata": {},
     "output_type": "execute_result"
    }
   ],
   "source": [
    "timestamps"
   ]
  },
  {
   "cell_type": "code",
   "execution_count": 4,
   "id": "alternate-victory",
   "metadata": {
    "execution": {
     "iopub.execute_input": "2021-12-11T05:30:09.772211Z",
     "iopub.status.busy": "2021-12-11T05:30:09.769960Z",
     "iopub.status.idle": "2021-12-11T05:30:11.284753Z",
     "shell.execute_reply": "2021-12-11T05:30:11.286417Z"
    },
    "papermill": {
     "duration": 1.550078,
     "end_time": "2021-12-11T05:30:11.286927",
     "exception": false,
     "start_time": "2021-12-11T05:30:09.736849",
     "status": "completed"
    },
    "tags": []
   },
   "outputs": [],
   "source": [
    "df = pd.read_sql(\"select * from EBAY_TOP_BERLIN where record_time in (select distinct record_time from EBAY_TOP_BERLIN order by record_time desc limit 2)\", sqlite3.connect(\"UsedObjects.db\"))"
   ]
  },
  {
   "cell_type": "code",
   "execution_count": 5,
   "id": "popular-active",
   "metadata": {
    "execution": {
     "iopub.execute_input": "2021-12-11T05:30:11.354947Z",
     "iopub.status.busy": "2021-12-11T05:30:11.352396Z",
     "iopub.status.idle": "2021-12-11T05:30:11.382946Z",
     "shell.execute_reply": "2021-12-11T05:30:11.384280Z"
    },
    "papermill": {
     "duration": 0.075916,
     "end_time": "2021-12-11T05:30:11.384805",
     "exception": false,
     "start_time": "2021-12-11T05:30:11.308889",
     "status": "completed"
    },
    "tags": []
   },
   "outputs": [],
   "source": [
    "df_pivot = df.pivot_table(index=\"PRODUCT\", columns = \"RECORD_TIME\", values = \"LISTING_COUNT\")"
   ]
  },
  {
   "cell_type": "code",
   "execution_count": 6,
   "id": "union-huntington",
   "metadata": {
    "execution": {
     "iopub.execute_input": "2021-12-11T05:30:11.443377Z",
     "iopub.status.busy": "2021-12-11T05:30:11.441176Z",
     "iopub.status.idle": "2021-12-11T05:30:11.446860Z",
     "shell.execute_reply": "2021-12-11T05:30:11.448202Z"
    },
    "papermill": {
     "duration": 0.04344,
     "end_time": "2021-12-11T05:30:11.448669",
     "exception": false,
     "start_time": "2021-12-11T05:30:11.405229",
     "status": "completed"
    },
    "tags": []
   },
   "outputs": [],
   "source": [
    "df_pivot.columns = [\"stamp_1\", \"stamp_2\"]\n",
    "df_pivot_diff = df_pivot.diff(axis=1)"
   ]
  },
  {
   "cell_type": "code",
   "execution_count": 7,
   "id": "fifth-motion",
   "metadata": {
    "execution": {
     "iopub.execute_input": "2021-12-11T05:30:11.511064Z",
     "iopub.status.busy": "2021-12-11T05:30:11.508385Z",
     "iopub.status.idle": "2021-12-11T05:30:13.427596Z",
     "shell.execute_reply": "2021-12-11T05:30:13.430628Z"
    },
    "papermill": {
     "duration": 1.960701,
     "end_time": "2021-12-11T05:30:13.431483",
     "exception": false,
     "start_time": "2021-12-11T05:30:11.470782",
     "status": "completed"
    },
    "tags": []
   },
   "outputs": [
    {
     "data": {
      "text/plain": [
       "<AxesSubplot:ylabel='PRODUCT'>"
      ]
     },
     "execution_count": 7,
     "metadata": {},
     "output_type": "execute_result"
    },
    {
     "data": {
      "image/png": "[encoded data removed]",
      "text/plain": [
       "<Figure size 432x288 with 1 Axes>"
      ]
     },
     "metadata": {
      "needs_background": "light"
     },
     "output_type": "display_data"
    }
   ],
   "source": [
    "df_pivot_diff.sort_values(\"stamp_2\", ascending = False)[\"stamp_2\"].head(10).plot.barh()"
   ]
  },
  {
   "cell_type": "code",
   "execution_count": null,
   "id": "extra-executive",
   "metadata": {
    "papermill": {
     "duration": 0.039581,
     "end_time": "2021-12-11T05:30:13.509890",
     "exception": false,
     "start_time": "2021-12-11T05:30:13.470309",
     "status": "completed"
    },
    "tags": []
   },
   "outputs": [],
   "source": []
  }
 ],
 "metadata": {
  "kernelspec": {
   "display_name": "Python 3",
   "language": "python",
   "name": "python3"
  },
  "language_info": {
   "codemirror_mode": {
    "name": "ipython",
    "version": 3
   },
   "file_extension": ".py",
   "mimetype": "text/x-python",
   "name": "python",
   "nbconvert_exporter": "python",
   "pygments_lexer": "ipython3",
   "version": "3.9.5"
  },
  "papermill": {
   "default_parameters": {},
   "duration": 9.52769,
   "end_time": "2021-12-11T05:30:14.267217",
   "environment_variables": {},
   "exception": null,
   "input_path": "eBay_Overview.ipynb",
   "output_path": "eBay_Overview.ipynb",
   "parameters": {},
   "start_time": "2021-12-11T05:30:04.739527",
   "version": "2.3.3"
  }
 },
 "nbformat": 4,
 "nbformat_minor": 5
}