{
 "cells": [
  {
   "cell_type": "code",
   "execution_count": 1,
   "id": "reverse-picking",
   "metadata": {
    "execution": {
     "iopub.execute_input": "2021-09-08T16:00:07.140967Z",
     "iopub.status.busy": "2021-09-08T16:00:07.138991Z",
     "iopub.status.idle": "2021-09-08T16:00:07.949698Z",
     "shell.execute_reply": "2021-09-08T16:00:07.951147Z"
    },
    "papermill": {
     "duration": 0.863357,
     "end_time": "2021-09-08T16:00:07.951796",
     "exception": false,
     "start_time": "2021-09-08T16:00:07.088439",
     "status": "completed"
    },
    "tags": []
   },
   "outputs": [],
   "source": [
    "import pandas as pd\n",
    "import sqlite3"
   ]
  },
  {
   "cell_type": "code",
   "execution_count": 2,
   "id": "innovative-syndrome",
   "metadata": {
    "execution": {
     "iopub.execute_input": "2021-09-08T16:00:08.005149Z",
     "iopub.status.busy": "2021-09-08T16:00:08.002779Z",
     "iopub.status.idle": "2021-09-08T16:00:08.236859Z",
     "shell.execute_reply": "2021-09-08T16:00:08.238073Z"
    },
    "papermill": {
     "duration": 0.264286,
     "end_time": "2021-09-08T16:00:08.238469",
     "exception": false,
     "start_time": "2021-09-08T16:00:07.974183",
     "status": "completed"
    },
    "tags": []
   },
   "outputs": [],
   "source": [
    "timestamps = pd.read_sql(\"select distinct record_time from EBAY_TOP_BERLIN order by record_time desc limit 2\", sqlite3.connect(\"UsedObjects.db\"))"
   ]
  },
  {
   "cell_type": "code",
   "execution_count": 3,
   "id": "periodic-identification",
   "metadata": {
    "execution": {
     "iopub.execute_input": "2021-09-08T16:00:08.307039Z",
     "iopub.status.busy": "2021-09-08T16:00:08.301832Z",
     "iopub.status.idle": "2021-09-08T16:00:08.322340Z",
     "shell.execute_reply": "2021-09-08T16:00:08.323708Z"
    },
    "papermill": {
     "duration": 0.066115,
     "end_time": "2021-09-08T16:00:08.324168",
     "exception": false,
     "start_time": "2021-09-08T16:00:08.258053",
     "status": "completed"
    },
    "tags": []
   },
   "outputs": [
    {
     "data": {
      "text/html": [
       "<div>\n",
       "<style scoped>\n",
       "    .dataframe tbody tr th:only-of-type {\n",
       "        vertical-align: middle;\n",
       "    }\n",
       "\n",
       "    .dataframe tbody tr th {\n",
       "        vertical-align: top;\n",
       "    }\n",
       "\n",
       "    .dataframe thead th {\n",
       "        text-align: right;\n",
       "    }\n",
       "</style>\n",
       "<table border=\"1\" class=\"dataframe\">\n",
       "  <thead>\n",
       "    <tr style=\"text-align: right;\">\n",
       "      <th></th>\n",
       "      <th>RECORD_TIME</th>\n",
       "    </tr>\n",
       "  </thead>\n",
       "  <tbody>\n",
       "    <tr>\n",
       "      <th>0</th>\n",
       "      <td>2021-09-08 18:00</td>\n",
       "    </tr>\n",
       "    <tr>\n",
       "      <th>1</th>\n",
       "      <td>2021-09-08 17:30</td>\n",
       "    </tr>\n",
       "  </tbody>\n",
       "</table>\n",
       "</div>"
      ],
      "text/plain": [
       "        RECORD_TIME\n",
       "0  2021-09-08 18:00\n",
       "1  2021-09-08 17:30"
      ]
     },
     "execution_count": 3,
     "metadata": {},
     "output_type": "execute_result"
    }
   ],
   "source": [
    "timestamps"
   ]
  },
  {
   "cell_type": "code",
   "execution_count": 4,
   "id": "alternate-victory",
   "metadata": {
    "execution": {
     "iopub.execute_input": "2021-09-08T16:00:08.375831Z",
     "iopub.status.busy": "2021-09-08T16:00:08.373911Z",
     "iopub.status.idle": "2021-09-08T16:00:08.723557Z",
     "shell.execute_reply": "2021-09-08T16:00:08.724964Z"
    },
    "papermill": {
     "duration": 0.379874,
     "end_time": "2021-09-08T16:00:08.725403",
     "exception": false,
     "start_time": "2021-09-08T16:00:08.345529",
     "status": "completed"
    },
    "tags": []
   },
   "outputs": [],
   "source": [
    "df = pd.read_sql(\"select * from EBAY_TOP_BERLIN where record_time in (select distinct record_time from EBAY_TOP_BERLIN order by record_time desc limit 2)\", sqlite3.connect(\"UsedObjects.db\"))"
   ]
  },
  {
   "cell_type": "code",
   "execution_count": 5,
   "id": "popular-active",
   "metadata": {
    "execution": {
     "iopub.execute_input": "2021-09-08T16:00:08.798754Z",
     "iopub.status.busy": "2021-09-08T16:00:08.787285Z",
     "iopub.status.idle": "2021-09-08T16:00:08.816228Z",
     "shell.execute_reply": "2021-09-08T16:00:08.817610Z"
    },
    "papermill": {
     "duration": 0.071808,
     "end_time": "2021-09-08T16:00:08.818045",
     "exception": false,
     "start_time": "2021-09-08T16:00:08.746237",
     "status": "completed"
    },
    "tags": []
   },
   "outputs": [],
   "source": [
    "df_pivot = df.pivot_table(index=\"PRODUCT\", columns = \"RECORD_TIME\", values = \"LISTING_COUNT\")"
   ]
  },
  {
   "cell_type": "code",
   "execution_count": 6,
   "id": "union-huntington",
   "metadata": {
    "execution": {
     "iopub.execute_input": "2021-09-08T16:00:08.875629Z",
     "iopub.status.busy": "2021-09-08T16:00:08.873514Z",
     "iopub.status.idle": "2021-09-08T16:00:08.879064Z",
     "shell.execute_reply": "2021-09-08T16:00:08.880267Z"
    },
    "papermill": {
     "duration": 0.041444,
     "end_time": "2021-09-08T16:00:08.880691",
     "exception": false,
     "start_time": "2021-09-08T16:00:08.839247",
     "status": "completed"
    },
    "tags": []
   },
   "outputs": [],
   "source": [
    "df_pivot.columns = [\"stamp_1\", \"stamp_2\"]\n",
    "df_pivot_diff = df_pivot.diff(axis=1)"
   ]
  },
  {
   "cell_type": "code",
   "execution_count": 7,
   "id": "fifth-motion",
   "metadata": {
    "execution": {
     "iopub.execute_input": "2021-09-08T16:00:08.935078Z",
     "iopub.status.busy": "2021-09-08T16:00:08.932635Z",
     "iopub.status.idle": "2021-09-08T16:00:10.427771Z",
     "shell.execute_reply": "2021-09-08T16:00:10.428985Z"
    },
    "papermill": {
     "duration": 1.528201,
     "end_time": "2021-09-08T16:00:10.429418",
     "exception": false,
     "start_time": "2021-09-08T16:00:08.901217",
     "status": "completed"
    },
    "tags": []
   },
   "outputs": [
    {
     "data": {
      "text/plain": [
       "<AxesSubplot:ylabel='PRODUCT'>"
      ]
     },
     "execution_count": 7,
     "metadata": {},
     "output_type": "execute_result"
    },
    {
     "data": {
      "image/png": "[encoded data removed]",
      "text/plain": [
       "<Figure size 432x288 with 1 Axes>"
      ]
     },
     "metadata": {
      "needs_background": "light"
     },
     "output_type": "display_data"
    }
   ],
   "source": [
    "df_pivot_diff.sort_values(\"stamp_2\", ascending = False)[\"stamp_2\"].head(10).plot.barh()"
   ]
  },
  {
   "cell_type": "code",
   "execution_count": null,
   "id": "extra-executive",
   "metadata": {
    "papermill": {
     "duration": 0.022415,
     "end_time": "2021-09-08T16:00:10.475840",
     "exception": false,
     "start_time": "2021-09-08T16:00:10.453425",
     "status": "completed"
    },
    "tags": []
   },
   "outputs": [],
   "source": []
  }
 ],
 "metadata": {
  "kernelspec": {
   "display_name": "Python 3",
   "language": "python",
   "name": "python3"
  },
  "language_info": {
   "codemirror_mode": {
    "name": "ipython",
    "version": 3
   },
   "file_extension": ".py",
   "mimetype": "text/x-python",
   "name": "python",
   "nbconvert_exporter": "python",
   "pygments_lexer": "ipython3",
   "version": "3.9.5"
  },
  "papermill": {
   "default_parameters": {},
   "duration": 6.436962,
   "end_time": "2021-09-08T16:00:11.116668",
   "environment_variables": {},
   "exception": null,
   "input_path": "eBay_Overview.ipynb",
   "output_path": "eBay_Overview.ipynb",
   "parameters": {},
   "start_time": "2021-09-08T16:00:04.679706",
   "version": "2.3.3"
  }
 },
 "nbformat": 4,
 "nbformat_minor": 5
}