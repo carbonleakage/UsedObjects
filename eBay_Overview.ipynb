{
 "cells": [
  {
   "cell_type": "code",
   "execution_count": 1,
   "id": "reverse-picking",
   "metadata": {
    "execution": {
     "iopub.execute_input": "2021-11-09T22:30:07.187306Z",
     "iopub.status.busy": "2021-11-09T22:30:07.184897Z",
     "iopub.status.idle": "2021-11-09T22:30:08.149562Z",
     "shell.execute_reply": "2021-11-09T22:30:08.152419Z"
    },
    "papermill": {
     "duration": 1.017966,
     "end_time": "2021-11-09T22:30:08.153250",
     "exception": false,
     "start_time": "2021-11-09T22:30:07.135284",
     "status": "completed"
    },
    "tags": []
   },
   "outputs": [],
   "source": [
    "import pandas as pd\n",
    "import sqlite3"
   ]
  },
  {
   "cell_type": "code",
   "execution_count": 2,
   "id": "innovative-syndrome",
   "metadata": {
    "execution": {
     "iopub.execute_input": "2021-11-09T22:30:08.220927Z",
     "iopub.status.busy": "2021-11-09T22:30:08.218726Z",
     "iopub.status.idle": "2021-11-09T22:30:09.033527Z",
     "shell.execute_reply": "2021-11-09T22:30:09.035290Z"
    },
    "papermill": {
     "duration": 0.848871,
     "end_time": "2021-11-09T22:30:09.035834",
     "exception": false,
     "start_time": "2021-11-09T22:30:08.186963",
     "status": "completed"
    },
    "tags": []
   },
   "outputs": [],
   "source": [
    "timestamps = pd.read_sql(\"select distinct record_time from EBAY_TOP_BERLIN order by record_time desc limit 2\", sqlite3.connect(\"UsedObjects.db\"))"
   ]
  },
  {
   "cell_type": "code",
   "execution_count": 3,
   "id": "periodic-identification",
   "metadata": {
    "execution": {
     "iopub.execute_input": "2021-11-09T22:30:09.108295Z",
     "iopub.status.busy": "2021-11-09T22:30:09.105914Z",
     "iopub.status.idle": "2021-11-09T22:30:09.129279Z",
     "shell.execute_reply": "2021-11-09T22:30:09.130889Z"
    },
    "papermill": {
     "duration": 0.074037,
     "end_time": "2021-11-09T22:30:09.131412",
     "exception": false,
     "start_time": "2021-11-09T22:30:09.057375",
     "status": "completed"
    },
    "tags": []
   },
   "outputs": [
    {
     "data": {
      "text/html": [
       "<div>\n",
       "<style scoped>\n",
       "    .dataframe tbody tr th:only-of-type {\n",
       "        vertical-align: middle;\n",
       "    }\n",
       "\n",
       "    .dataframe tbody tr th {\n",
       "        vertical-align: top;\n",
       "    }\n",
       "\n",
       "    .dataframe thead th {\n",
       "        text-align: right;\n",
       "    }\n",
       "</style>\n",
       "<table border=\"1\" class=\"dataframe\">\n",
       "  <thead>\n",
       "    <tr style=\"text-align: right;\">\n",
       "      <th></th>\n",
       "      <th>RECORD_TIME</th>\n",
       "    </tr>\n",
       "  </thead>\n",
       "  <tbody>\n",
       "    <tr>\n",
       "      <th>0</th>\n",
       "      <td>2021-11-09 23:30</td>\n",
       "    </tr>\n",
       "    <tr>\n",
       "      <th>1</th>\n",
       "      <td>2021-11-09 23:00</td>\n",
       "    </tr>\n",
       "  </tbody>\n",
       "</table>\n",
       "</div>"
      ],
      "text/plain": [
       "        RECORD_TIME\n",
       "0  2021-11-09 23:30\n",
       "1  2021-11-09 23:00"
      ]
     },
     "execution_count": 3,
     "metadata": {},
     "output_type": "execute_result"
    }
   ],
   "source": [
    "timestamps"
   ]
  },
  {
   "cell_type": "code",
   "execution_count": 4,
   "id": "alternate-victory",
   "metadata": {
    "execution": {
     "iopub.execute_input": "2021-11-09T22:30:09.188323Z",
     "iopub.status.busy": "2021-11-09T22:30:09.186160Z",
     "iopub.status.idle": "2021-11-09T22:30:10.314206Z",
     "shell.execute_reply": "2021-11-09T22:30:10.316136Z"
    },
    "papermill": {
     "duration": 1.162001,
     "end_time": "2021-11-09T22:30:10.316796",
     "exception": false,
     "start_time": "2021-11-09T22:30:09.154795",
     "status": "completed"
    },
    "tags": []
   },
   "outputs": [],
   "source": [
    "df = pd.read_sql(\"select * from EBAY_TOP_BERLIN where record_time in (select distinct record_time from EBAY_TOP_BERLIN order by record_time desc limit 2)\", sqlite3.connect(\"UsedObjects.db\"))"
   ]
  },
  {
   "cell_type": "code",
   "execution_count": 5,
   "id": "popular-active",
   "metadata": {
    "execution": {
     "iopub.execute_input": "2021-11-09T22:30:10.422300Z",
     "iopub.status.busy": "2021-11-09T22:30:10.414630Z",
     "iopub.status.idle": "2021-11-09T22:30:10.444015Z",
     "shell.execute_reply": "2021-11-09T22:30:10.441259Z"
    },
    "papermill": {
     "duration": 0.094534,
     "end_time": "2021-11-09T22:30:10.444461",
     "exception": false,
     "start_time": "2021-11-09T22:30:10.349927",
     "status": "completed"
    },
    "tags": []
   },
   "outputs": [],
   "source": [
    "df_pivot = df.pivot_table(index=\"PRODUCT\", columns = \"RECORD_TIME\", values = \"LISTING_COUNT\")"
   ]
  },
  {
   "cell_type": "code",
   "execution_count": 6,
   "id": "union-huntington",
   "metadata": {
    "execution": {
     "iopub.execute_input": "2021-11-09T22:30:10.506008Z",
     "iopub.status.busy": "2021-11-09T22:30:10.503600Z",
     "iopub.status.idle": "2021-11-09T22:30:10.509622Z",
     "shell.execute_reply": "2021-11-09T22:30:10.511200Z"
    },
    "papermill": {
     "duration": 0.045564,
     "end_time": "2021-11-09T22:30:10.511680",
     "exception": false,
     "start_time": "2021-11-09T22:30:10.466116",
     "status": "completed"
    },
    "tags": []
   },
   "outputs": [],
   "source": [
    "df_pivot.columns = [\"stamp_1\", \"stamp_2\"]\n",
    "df_pivot_diff = df_pivot.diff(axis=1)"
   ]
  },
  {
   "cell_type": "code",
   "execution_count": 7,
   "id": "fifth-motion",
   "metadata": {
    "execution": {
     "iopub.execute_input": "2021-11-09T22:30:10.567851Z",
     "iopub.status.busy": "2021-11-09T22:30:10.565421Z",
     "iopub.status.idle": "2021-11-09T22:30:12.427351Z",
     "shell.execute_reply": "2021-11-09T22:30:12.430427Z"
    },
    "papermill": {
     "duration": 1.899718,
     "end_time": "2021-11-09T22:30:12.431374",
     "exception": false,
     "start_time": "2021-11-09T22:30:10.531656",
     "status": "completed"
    },
    "tags": []
   },
   "outputs": [
    {
     "data": {
      "text/plain": [
       "<AxesSubplot:ylabel='PRODUCT'>"
      ]
     },
     "execution_count": 7,
     "metadata": {},
     "output_type": "execute_result"
    },
    {
     "data": {
      "image/png": "[encoded data removed]",
      "text/plain": [
       "<Figure size 432x288 with 1 Axes>"
      ]
     },
     "metadata": {
      "needs_background": "light"
     },
     "output_type": "display_data"
    }
   ],
   "source": [
    "df_pivot_diff.sort_values(\"stamp_2\", ascending = False)[\"stamp_2\"].head(10).plot.barh()"
   ]
  },
  {
   "cell_type": "code",
   "execution_count": null,
   "id": "extra-executive",
   "metadata": {
    "papermill": {
     "duration": 0.028154,
     "end_time": "2021-11-09T22:30:12.490394",
     "exception": false,
     "start_time": "2021-11-09T22:30:12.462240",
     "status": "completed"
    },
    "tags": []
   },
   "outputs": [],
   "source": []
  }
 ],
 "metadata": {
  "kernelspec": {
   "display_name": "Python 3",
   "language": "python",
   "name": "python3"
  },
  "language_info": {
   "codemirror_mode": {
    "name": "ipython",
    "version": 3
   },
   "file_extension": ".py",
   "mimetype": "text/x-python",
   "name": "python",
   "nbconvert_exporter": "python",
   "pygments_lexer": "ipython3",
   "version": "3.9.5"
  },
  "papermill": {
   "default_parameters": {},
   "duration": 8.927377,
   "end_time": "2021-11-09T22:30:13.347301",
   "environment_variables": {},
   "exception": null,
   "input_path": "eBay_Overview.ipynb",
   "output_path": "eBay_Overview.ipynb",
   "parameters": {},
   "start_time": "2021-11-09T22:30:04.419924",
   "version": "2.3.3"
  }
 },
 "nbformat": 4,
 "nbformat_minor": 5
}