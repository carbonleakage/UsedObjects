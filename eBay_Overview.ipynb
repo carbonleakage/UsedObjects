{
 "cells": [
  {
   "cell_type": "code",
   "execution_count": 1,
   "id": "reverse-picking",
   "metadata": {
    "execution": {
     "iopub.execute_input": "2021-11-19T03:30:07.687615Z",
     "iopub.status.busy": "2021-11-19T03:30:07.677621Z",
     "iopub.status.idle": "2021-11-19T03:30:08.624260Z",
     "shell.execute_reply": "2021-11-19T03:30:08.625915Z"
    },
    "papermill": {
     "duration": 0.996758,
     "end_time": "2021-11-19T03:30:08.626736",
     "exception": false,
     "start_time": "2021-11-19T03:30:07.629978",
     "status": "completed"
    },
    "tags": []
   },
   "outputs": [],
   "source": [
    "import pandas as pd\n",
    "import sqlite3"
   ]
  },
  {
   "cell_type": "code",
   "execution_count": 2,
   "id": "innovative-syndrome",
   "metadata": {
    "execution": {
     "iopub.execute_input": "2021-11-19T03:30:08.692055Z",
     "iopub.status.busy": "2021-11-19T03:30:08.689939Z",
     "iopub.status.idle": "2021-11-19T03:30:09.578364Z",
     "shell.execute_reply": "2021-11-19T03:30:09.579857Z"
    },
    "papermill": {
     "duration": 0.921983,
     "end_time": "2021-11-19T03:30:09.580350",
     "exception": false,
     "start_time": "2021-11-19T03:30:08.658367",
     "status": "completed"
    },
    "tags": []
   },
   "outputs": [],
   "source": [
    "timestamps = pd.read_sql(\"select distinct record_time from EBAY_TOP_BERLIN order by record_time desc limit 2\", sqlite3.connect(\"UsedObjects.db\"))"
   ]
  },
  {
   "cell_type": "code",
   "execution_count": 3,
   "id": "periodic-identification",
   "metadata": {
    "execution": {
     "iopub.execute_input": "2021-11-19T03:30:09.665988Z",
     "iopub.status.busy": "2021-11-19T03:30:09.663574Z",
     "iopub.status.idle": "2021-11-19T03:30:09.686807Z",
     "shell.execute_reply": "2021-11-19T03:30:09.688358Z"
    },
    "papermill": {
     "duration": 0.083315,
     "end_time": "2021-11-19T03:30:09.688986",
     "exception": false,
     "start_time": "2021-11-19T03:30:09.605671",
     "status": "completed"
    },
    "tags": []
   },
   "outputs": [
    {
     "data": {
      "text/html": [
       "<div>\n",
       "<style scoped>\n",
       "    .dataframe tbody tr th:only-of-type {\n",
       "        vertical-align: middle;\n",
       "    }\n",
       "\n",
       "    .dataframe tbody tr th {\n",
       "        vertical-align: top;\n",
       "    }\n",
       "\n",
       "    .dataframe thead th {\n",
       "        text-align: right;\n",
       "    }\n",
       "</style>\n",
       "<table border=\"1\" class=\"dataframe\">\n",
       "  <thead>\n",
       "    <tr style=\"text-align: right;\">\n",
       "      <th></th>\n",
       "      <th>RECORD_TIME</th>\n",
       "    </tr>\n",
       "  </thead>\n",
       "  <tbody>\n",
       "    <tr>\n",
       "      <th>0</th>\n",
       "      <td>2021-11-19 04:30</td>\n",
       "    </tr>\n",
       "    <tr>\n",
       "      <th>1</th>\n",
       "      <td>2021-11-19 04:00</td>\n",
       "    </tr>\n",
       "  </tbody>\n",
       "</table>\n",
       "</div>"
      ],
      "text/plain": [
       "        RECORD_TIME\n",
       "0  2021-11-19 04:30\n",
       "1  2021-11-19 04:00"
      ]
     },
     "execution_count": 3,
     "metadata": {},
     "output_type": "execute_result"
    }
   ],
   "source": [
    "timestamps"
   ]
  },
  {
   "cell_type": "code",
   "execution_count": 4,
   "id": "alternate-victory",
   "metadata": {
    "execution": {
     "iopub.execute_input": "2021-11-19T03:30:09.745202Z",
     "iopub.status.busy": "2021-11-19T03:30:09.743028Z",
     "iopub.status.idle": "2021-11-19T03:30:10.984496Z",
     "shell.execute_reply": "2021-11-19T03:30:10.986724Z"
    },
    "papermill": {
     "duration": 1.276111,
     "end_time": "2021-11-19T03:30:10.987221",
     "exception": false,
     "start_time": "2021-11-19T03:30:09.711110",
     "status": "completed"
    },
    "tags": []
   },
   "outputs": [],
   "source": [
    "df = pd.read_sql(\"select * from EBAY_TOP_BERLIN where record_time in (select distinct record_time from EBAY_TOP_BERLIN order by record_time desc limit 2)\", sqlite3.connect(\"UsedObjects.db\"))"
   ]
  },
  {
   "cell_type": "code",
   "execution_count": 5,
   "id": "popular-active",
   "metadata": {
    "execution": {
     "iopub.execute_input": "2021-11-19T03:30:11.064599Z",
     "iopub.status.busy": "2021-11-19T03:30:11.051393Z",
     "iopub.status.idle": "2021-11-19T03:30:11.085389Z",
     "shell.execute_reply": "2021-11-19T03:30:11.086957Z"
    },
    "papermill": {
     "duration": 0.078344,
     "end_time": "2021-11-19T03:30:11.087449",
     "exception": false,
     "start_time": "2021-11-19T03:30:11.009105",
     "status": "completed"
    },
    "tags": []
   },
   "outputs": [],
   "source": [
    "df_pivot = df.pivot_table(index=\"PRODUCT\", columns = \"RECORD_TIME\", values = \"LISTING_COUNT\")"
   ]
  },
  {
   "cell_type": "code",
   "execution_count": 6,
   "id": "union-huntington",
   "metadata": {
    "execution": {
     "iopub.execute_input": "2021-11-19T03:30:11.152029Z",
     "iopub.status.busy": "2021-11-19T03:30:11.149883Z",
     "iopub.status.idle": "2021-11-19T03:30:11.154987Z",
     "shell.execute_reply": "2021-11-19T03:30:11.156605Z"
    },
    "papermill": {
     "duration": 0.047796,
     "end_time": "2021-11-19T03:30:11.157141",
     "exception": false,
     "start_time": "2021-11-19T03:30:11.109345",
     "status": "completed"
    },
    "tags": []
   },
   "outputs": [],
   "source": [
    "df_pivot.columns = [\"stamp_1\", \"stamp_2\"]\n",
    "df_pivot_diff = df_pivot.diff(axis=1)"
   ]
  },
  {
   "cell_type": "code",
   "execution_count": 7,
   "id": "fifth-motion",
   "metadata": {
    "execution": {
     "iopub.execute_input": "2021-11-19T03:30:11.224345Z",
     "iopub.status.busy": "2021-11-19T03:30:11.213860Z",
     "iopub.status.idle": "2021-11-19T03:30:12.980829Z",
     "shell.execute_reply": "2021-11-19T03:30:12.982433Z"
    },
    "papermill": {
     "duration": 1.804705,
     "end_time": "2021-11-19T03:30:12.982919",
     "exception": false,
     "start_time": "2021-11-19T03:30:11.178214",
     "status": "completed"
    },
    "tags": []
   },
   "outputs": [
    {
     "data": {
      "text/plain": [
       "<AxesSubplot:ylabel='PRODUCT'>"
      ]
     },
     "execution_count": 7,
     "metadata": {},
     "output_type": "execute_result"
    },
    {
     "data": {
      "image/png": "[encoded data removed]",
      "text/plain": [
       "<Figure size 432x288 with 1 Axes>"
      ]
     },
     "metadata": {
      "needs_background": "light"
     },
     "output_type": "display_data"
    }
   ],
   "source": [
    "df_pivot_diff.sort_values(\"stamp_2\", ascending = False)[\"stamp_2\"].head(10).plot.barh()"
   ]
  },
  {
   "cell_type": "code",
   "execution_count": null,
   "id": "extra-executive",
   "metadata": {
    "papermill": {
     "duration": 0.025091,
     "end_time": "2021-11-19T03:30:13.034123",
     "exception": false,
     "start_time": "2021-11-19T03:30:13.009032",
     "status": "completed"
    },
    "tags": []
   },
   "outputs": [],
   "source": []
  }
 ],
 "metadata": {
  "kernelspec": {
   "display_name": "Python 3",
   "language": "python",
   "name": "python3"
  },
  "language_info": {
   "codemirror_mode": {
    "name": "ipython",
    "version": 3
   },
   "file_extension": ".py",
   "mimetype": "text/x-python",
   "name": "python",
   "nbconvert_exporter": "python",
   "pygments_lexer": "ipython3",
   "version": "3.9.5"
  },
  "papermill": {
   "default_parameters": {},
   "duration": 10.012072,
   "end_time": "2021-11-19T03:30:14.835874",
   "environment_variables": {},
   "exception": null,
   "input_path": "eBay_Overview.ipynb",
   "output_path": "eBay_Overview.ipynb",
   "parameters": {},
   "start_time": "2021-11-19T03:30:04.823802",
   "version": "2.3.3"
  }
 },
 "nbformat": 4,
 "nbformat_minor": 5
}