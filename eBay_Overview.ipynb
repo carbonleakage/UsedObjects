{
 "cells": [
  {
   "cell_type": "code",
   "execution_count": 1,
   "id": "reverse-picking",
   "metadata": {
    "execution": {
     "iopub.execute_input": "2021-08-29T14:30:07.466424Z",
     "iopub.status.busy": "2021-08-29T14:30:07.464454Z",
     "iopub.status.idle": "2021-08-29T14:30:08.273725Z",
     "shell.execute_reply": "2021-08-29T14:30:08.272010Z"
    },
    "papermill": {
     "duration": 0.860444,
     "end_time": "2021-08-29T14:30:08.274121",
     "exception": false,
     "start_time": "2021-08-29T14:30:07.413677",
     "status": "completed"
    },
    "tags": []
   },
   "outputs": [],
   "source": [
    "import pandas as pd\n",
    "import sqlite3"
   ]
  },
  {
   "cell_type": "code",
   "execution_count": 2,
   "id": "innovative-syndrome",
   "metadata": {
    "execution": {
     "iopub.execute_input": "2021-08-29T14:30:08.326975Z",
     "iopub.status.busy": "2021-08-29T14:30:08.324813Z",
     "iopub.status.idle": "2021-08-29T14:30:08.482792Z",
     "shell.execute_reply": "2021-08-29T14:30:08.483972Z"
    },
    "papermill": {
     "duration": 0.188082,
     "end_time": "2021-08-29T14:30:08.484459",
     "exception": false,
     "start_time": "2021-08-29T14:30:08.296377",
     "status": "completed"
    },
    "tags": []
   },
   "outputs": [],
   "source": [
    "timestamps = pd.read_sql(\"select distinct record_time from EBAY_TOP_BERLIN order by record_time desc limit 2\", sqlite3.connect(\"UsedObjects.db\"))"
   ]
  },
  {
   "cell_type": "code",
   "execution_count": 3,
   "id": "periodic-identification",
   "metadata": {
    "execution": {
     "iopub.execute_input": "2021-08-29T14:30:08.551155Z",
     "iopub.status.busy": "2021-08-29T14:30:08.549111Z",
     "iopub.status.idle": "2021-08-29T14:30:08.569706Z",
     "shell.execute_reply": "2021-08-29T14:30:08.570989Z"
    },
    "papermill": {
     "duration": 0.067097,
     "end_time": "2021-08-29T14:30:08.571402",
     "exception": false,
     "start_time": "2021-08-29T14:30:08.504305",
     "status": "completed"
    },
    "tags": []
   },
   "outputs": [
    {
     "data": {
      "text/html": [
       "<div>\n",
       "<style scoped>\n",
       "    .dataframe tbody tr th:only-of-type {\n",
       "        vertical-align: middle;\n",
       "    }\n",
       "\n",
       "    .dataframe tbody tr th {\n",
       "        vertical-align: top;\n",
       "    }\n",
       "\n",
       "    .dataframe thead th {\n",
       "        text-align: right;\n",
       "    }\n",
       "</style>\n",
       "<table border=\"1\" class=\"dataframe\">\n",
       "  <thead>\n",
       "    <tr style=\"text-align: right;\">\n",
       "      <th></th>\n",
       "      <th>RECORD_TIME</th>\n",
       "    </tr>\n",
       "  </thead>\n",
       "  <tbody>\n",
       "    <tr>\n",
       "      <th>0</th>\n",
       "      <td>2021-08-29 16:30</td>\n",
       "    </tr>\n",
       "    <tr>\n",
       "      <th>1</th>\n",
       "      <td>2021-08-29 16:00</td>\n",
       "    </tr>\n",
       "  </tbody>\n",
       "</table>\n",
       "</div>"
      ],
      "text/plain": [
       "        RECORD_TIME\n",
       "0  2021-08-29 16:30\n",
       "1  2021-08-29 16:00"
      ]
     },
     "execution_count": 3,
     "metadata": {},
     "output_type": "execute_result"
    }
   ],
   "source": [
    "timestamps"
   ]
  },
  {
   "cell_type": "code",
   "execution_count": 4,
   "id": "alternate-victory",
   "metadata": {
    "execution": {
     "iopub.execute_input": "2021-08-29T14:30:08.624300Z",
     "iopub.status.busy": "2021-08-29T14:30:08.621987Z",
     "iopub.status.idle": "2021-08-29T14:30:08.859137Z",
     "shell.execute_reply": "2021-08-29T14:30:08.860592Z"
    },
    "papermill": {
     "duration": 0.268323,
     "end_time": "2021-08-29T14:30:08.861052",
     "exception": false,
     "start_time": "2021-08-29T14:30:08.592729",
     "status": "completed"
    },
    "tags": []
   },
   "outputs": [],
   "source": [
    "df = pd.read_sql(\"select * from EBAY_TOP_BERLIN where record_time in (select distinct record_time from EBAY_TOP_BERLIN order by record_time desc limit 2)\", sqlite3.connect(\"UsedObjects.db\"))"
   ]
  },
  {
   "cell_type": "code",
   "execution_count": 5,
   "id": "popular-active",
   "metadata": {
    "execution": {
     "iopub.execute_input": "2021-08-29T14:30:08.940784Z",
     "iopub.status.busy": "2021-08-29T14:30:08.929363Z",
     "iopub.status.idle": "2021-08-29T14:30:08.956749Z",
     "shell.execute_reply": "2021-08-29T14:30:08.957968Z"
    },
    "papermill": {
     "duration": 0.071266,
     "end_time": "2021-08-29T14:30:08.958366",
     "exception": false,
     "start_time": "2021-08-29T14:30:08.887100",
     "status": "completed"
    },
    "tags": []
   },
   "outputs": [],
   "source": [
    "df_pivot = df.pivot_table(index=\"PRODUCT\", columns = \"RECORD_TIME\", values = \"LISTING_COUNT\")"
   ]
  },
  {
   "cell_type": "code",
   "execution_count": 6,
   "id": "union-huntington",
   "metadata": {
    "execution": {
     "iopub.execute_input": "2021-08-29T14:30:09.015523Z",
     "iopub.status.busy": "2021-08-29T14:30:09.013483Z",
     "iopub.status.idle": "2021-08-29T14:30:09.018767Z",
     "shell.execute_reply": "2021-08-29T14:30:09.020052Z"
    },
    "papermill": {
     "duration": 0.040632,
     "end_time": "2021-08-29T14:30:09.020667",
     "exception": false,
     "start_time": "2021-08-29T14:30:08.980035",
     "status": "completed"
    },
    "tags": []
   },
   "outputs": [],
   "source": [
    "df_pivot.columns = [\"stamp_1\", \"stamp_2\"]\n",
    "df_pivot_diff = df_pivot.diff(axis=1)"
   ]
  },
  {
   "cell_type": "code",
   "execution_count": 7,
   "id": "fifth-motion",
   "metadata": {
    "execution": {
     "iopub.execute_input": "2021-08-29T14:30:09.076988Z",
     "iopub.status.busy": "2021-08-29T14:30:09.074223Z",
     "iopub.status.idle": "2021-08-29T14:30:10.568669Z",
     "shell.execute_reply": "2021-08-29T14:30:10.569967Z"
    },
    "papermill": {
     "duration": 1.528334,
     "end_time": "2021-08-29T14:30:10.570393",
     "exception": false,
     "start_time": "2021-08-29T14:30:09.042059",
     "status": "completed"
    },
    "tags": []
   },
   "outputs": [
    {
     "data": {
      "text/plain": [
       "<AxesSubplot:ylabel='PRODUCT'>"
      ]
     },
     "execution_count": 7,
     "metadata": {},
     "output_type": "execute_result"
    },
    {
     "data": {
      "image/png": "[encoded data removed]",
      "text/plain": [
       "<Figure size 432x288 with 1 Axes>"
      ]
     },
     "metadata": {
      "needs_background": "light"
     },
     "output_type": "display_data"
    }
   ],
   "source": [
    "df_pivot_diff.sort_values(\"stamp_2\", ascending = False)[\"stamp_2\"].head(10).plot.barh()"
   ]
  },
  {
   "cell_type": "code",
   "execution_count": null,
   "id": "extra-executive",
   "metadata": {
    "papermill": {
     "duration": 0.0227,
     "end_time": "2021-08-29T14:30:10.617387",
     "exception": false,
     "start_time": "2021-08-29T14:30:10.594687",
     "status": "completed"
    },
    "tags": []
   },
   "outputs": [],
   "source": []
  }
 ],
 "metadata": {
  "kernelspec": {
   "display_name": "Python 3",
   "language": "python",
   "name": "python3"
  },
  "language_info": {
   "codemirror_mode": {
    "name": "ipython",
    "version": 3
   },
   "file_extension": ".py",
   "mimetype": "text/x-python",
   "name": "python",
   "nbconvert_exporter": "python",
   "pygments_lexer": "ipython3",
   "version": "3.9.5"
  },
  "papermill": {
   "default_parameters": {},
   "duration": 6.82134,
   "end_time": "2021-08-29T14:30:11.824114",
   "environment_variables": {},
   "exception": null,
   "input_path": "eBay_Overview.ipynb",
   "output_path": "eBay_Overview.ipynb",
   "parameters": {},
   "start_time": "2021-08-29T14:30:05.002774",
   "version": "2.3.3"
  }
 },
 "nbformat": 4,
 "nbformat_minor": 5
}