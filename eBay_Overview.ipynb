{
 "cells": [
  {
   "cell_type": "code",
   "execution_count": 1,
   "id": "reverse-picking",
   "metadata": {
    "execution": {
     "iopub.execute_input": "2021-11-07T20:00:07.275278Z",
     "iopub.status.busy": "2021-11-07T20:00:07.271977Z",
     "iopub.status.idle": "2021-11-07T20:00:08.228072Z",
     "shell.execute_reply": "2021-11-07T20:00:08.230686Z"
    },
    "papermill": {
     "duration": 1.00558,
     "end_time": "2021-11-07T20:00:08.231408",
     "exception": false,
     "start_time": "2021-11-07T20:00:07.225828",
     "status": "completed"
    },
    "tags": []
   },
   "outputs": [],
   "source": [
    "import pandas as pd\n",
    "import sqlite3"
   ]
  },
  {
   "cell_type": "code",
   "execution_count": 2,
   "id": "innovative-syndrome",
   "metadata": {
    "execution": {
     "iopub.execute_input": "2021-11-07T20:00:08.295611Z",
     "iopub.status.busy": "2021-11-07T20:00:08.293468Z",
     "iopub.status.idle": "2021-11-07T20:00:09.054435Z",
     "shell.execute_reply": "2021-11-07T20:00:09.055931Z"
    },
    "papermill": {
     "duration": 0.797418,
     "end_time": "2021-11-07T20:00:09.056437",
     "exception": false,
     "start_time": "2021-11-07T20:00:08.259019",
     "status": "completed"
    },
    "tags": []
   },
   "outputs": [],
   "source": [
    "timestamps = pd.read_sql(\"select distinct record_time from EBAY_TOP_BERLIN order by record_time desc limit 2\", sqlite3.connect(\"UsedObjects.db\"))"
   ]
  },
  {
   "cell_type": "code",
   "execution_count": 3,
   "id": "periodic-identification",
   "metadata": {
    "execution": {
     "iopub.execute_input": "2021-11-07T20:00:09.128365Z",
     "iopub.status.busy": "2021-11-07T20:00:09.126019Z",
     "iopub.status.idle": "2021-11-07T20:00:09.150121Z",
     "shell.execute_reply": "2021-11-07T20:00:09.151720Z"
    },
    "papermill": {
     "duration": 0.075325,
     "end_time": "2021-11-07T20:00:09.152224",
     "exception": false,
     "start_time": "2021-11-07T20:00:09.076899",
     "status": "completed"
    },
    "tags": []
   },
   "outputs": [
    {
     "data": {
      "text/html": [
       "<div>\n",
       "<style scoped>\n",
       "    .dataframe tbody tr th:only-of-type {\n",
       "        vertical-align: middle;\n",
       "    }\n",
       "\n",
       "    .dataframe tbody tr th {\n",
       "        vertical-align: top;\n",
       "    }\n",
       "\n",
       "    .dataframe thead th {\n",
       "        text-align: right;\n",
       "    }\n",
       "</style>\n",
       "<table border=\"1\" class=\"dataframe\">\n",
       "  <thead>\n",
       "    <tr style=\"text-align: right;\">\n",
       "      <th></th>\n",
       "      <th>RECORD_TIME</th>\n",
       "    </tr>\n",
       "  </thead>\n",
       "  <tbody>\n",
       "    <tr>\n",
       "      <th>0</th>\n",
       "      <td>2021-11-07 21:00</td>\n",
       "    </tr>\n",
       "    <tr>\n",
       "      <th>1</th>\n",
       "      <td>2021-11-07 20:30</td>\n",
       "    </tr>\n",
       "  </tbody>\n",
       "</table>\n",
       "</div>"
      ],
      "text/plain": [
       "        RECORD_TIME\n",
       "0  2021-11-07 21:00\n",
       "1  2021-11-07 20:30"
      ]
     },
     "execution_count": 3,
     "metadata": {},
     "output_type": "execute_result"
    }
   ],
   "source": [
    "timestamps"
   ]
  },
  {
   "cell_type": "code",
   "execution_count": 4,
   "id": "alternate-victory",
   "metadata": {
    "execution": {
     "iopub.execute_input": "2021-11-07T20:00:09.209469Z",
     "iopub.status.busy": "2021-11-07T20:00:09.207153Z",
     "iopub.status.idle": "2021-11-07T20:00:10.298584Z",
     "shell.execute_reply": "2021-11-07T20:00:10.299885Z"
    },
    "papermill": {
     "duration": 1.125844,
     "end_time": "2021-11-07T20:00:10.300312",
     "exception": false,
     "start_time": "2021-11-07T20:00:09.174468",
     "status": "completed"
    },
    "tags": []
   },
   "outputs": [],
   "source": [
    "df = pd.read_sql(\"select * from EBAY_TOP_BERLIN where record_time in (select distinct record_time from EBAY_TOP_BERLIN order by record_time desc limit 2)\", sqlite3.connect(\"UsedObjects.db\"))"
   ]
  },
  {
   "cell_type": "code",
   "execution_count": 5,
   "id": "popular-active",
   "metadata": {
    "execution": {
     "iopub.execute_input": "2021-11-07T20:00:10.373921Z",
     "iopub.status.busy": "2021-11-07T20:00:10.362962Z",
     "iopub.status.idle": "2021-11-07T20:00:10.391553Z",
     "shell.execute_reply": "2021-11-07T20:00:10.393000Z"
    },
    "papermill": {
     "duration": 0.072916,
     "end_time": "2021-11-07T20:00:10.393493",
     "exception": false,
     "start_time": "2021-11-07T20:00:10.320577",
     "status": "completed"
    },
    "tags": []
   },
   "outputs": [],
   "source": [
    "df_pivot = df.pivot_table(index=\"PRODUCT\", columns = \"RECORD_TIME\", values = \"LISTING_COUNT\")"
   ]
  },
  {
   "cell_type": "code",
   "execution_count": 6,
   "id": "union-huntington",
   "metadata": {
    "execution": {
     "iopub.execute_input": "2021-11-07T20:00:10.454427Z",
     "iopub.status.busy": "2021-11-07T20:00:10.452013Z",
     "iopub.status.idle": "2021-11-07T20:00:10.459514Z",
     "shell.execute_reply": "2021-11-07T20:00:10.457957Z"
    },
    "papermill": {
     "duration": 0.046207,
     "end_time": "2021-11-07T20:00:10.459950",
     "exception": false,
     "start_time": "2021-11-07T20:00:10.413743",
     "status": "completed"
    },
    "tags": []
   },
   "outputs": [],
   "source": [
    "df_pivot.columns = [\"stamp_1\", \"stamp_2\"]\n",
    "df_pivot_diff = df_pivot.diff(axis=1)"
   ]
  },
  {
   "cell_type": "code",
   "execution_count": 7,
   "id": "fifth-motion",
   "metadata": {
    "execution": {
     "iopub.execute_input": "2021-11-07T20:00:10.514112Z",
     "iopub.status.busy": "2021-11-07T20:00:10.511555Z",
     "iopub.status.idle": "2021-11-07T20:00:12.319392Z",
     "shell.execute_reply": "2021-11-07T20:00:12.320898Z"
    },
    "papermill": {
     "duration": 1.84047,
     "end_time": "2021-11-07T20:00:12.321389",
     "exception": false,
     "start_time": "2021-11-07T20:00:10.480919",
     "status": "completed"
    },
    "tags": []
   },
   "outputs": [
    {
     "data": {
      "text/plain": [
       "<AxesSubplot:ylabel='PRODUCT'>"
      ]
     },
     "execution_count": 7,
     "metadata": {},
     "output_type": "execute_result"
    },
    {
     "data": {
      "image/png": "[encoded data removed]",
      "text/plain": [
       "<Figure size 432x288 with 1 Axes>"
      ]
     },
     "metadata": {
      "needs_background": "light"
     },
     "output_type": "display_data"
    }
   ],
   "source": [
    "df_pivot_diff.sort_values(\"stamp_2\", ascending = False)[\"stamp_2\"].head(10).plot.barh()"
   ]
  },
  {
   "cell_type": "code",
   "execution_count": null,
   "id": "extra-executive",
   "metadata": {
    "papermill": {
     "duration": 0.024948,
     "end_time": "2021-11-07T20:00:12.370297",
     "exception": false,
     "start_time": "2021-11-07T20:00:12.345349",
     "status": "completed"
    },
    "tags": []
   },
   "outputs": [],
   "source": []
  }
 ],
 "metadata": {
  "kernelspec": {
   "display_name": "Python 3",
   "language": "python",
   "name": "python3"
  },
  "language_info": {
   "codemirror_mode": {
    "name": "ipython",
    "version": 3
   },
   "file_extension": ".py",
   "mimetype": "text/x-python",
   "name": "python",
   "nbconvert_exporter": "python",
   "pygments_lexer": "ipython3",
   "version": "3.9.5"
  },
  "papermill": {
   "default_parameters": {},
   "duration": 8.730094,
   "end_time": "2021-11-07T20:00:13.118323",
   "environment_variables": {},
   "exception": null,
   "input_path": "eBay_Overview.ipynb",
   "output_path": "eBay_Overview.ipynb",
   "parameters": {},
   "start_time": "2021-11-07T20:00:04.388229",
   "version": "2.3.3"
  }
 },
 "nbformat": 4,
 "nbformat_minor": 5
}