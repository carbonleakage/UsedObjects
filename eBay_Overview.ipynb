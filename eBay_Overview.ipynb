{
 "cells": [
  {
   "cell_type": "code",
   "execution_count": 1,
   "id": "reverse-picking",
   "metadata": {
    "execution": {
     "iopub.execute_input": "2021-10-03T23:00:06.964306Z",
     "iopub.status.busy": "2021-10-03T23:00:06.962308Z",
     "iopub.status.idle": "2021-10-03T23:00:07.764097Z",
     "shell.execute_reply": "2021-10-03T23:00:07.765340Z"
    },
    "papermill": {
     "duration": 0.85247,
     "end_time": "2021-10-03T23:00:07.765960",
     "exception": false,
     "start_time": "2021-10-03T23:00:06.913490",
     "status": "completed"
    },
    "tags": []
   },
   "outputs": [],
   "source": [
    "import pandas as pd\n",
    "import sqlite3"
   ]
  },
  {
   "cell_type": "code",
   "execution_count": 2,
   "id": "innovative-syndrome",
   "metadata": {
    "execution": {
     "iopub.execute_input": "2021-10-03T23:00:07.816028Z",
     "iopub.status.busy": "2021-10-03T23:00:07.813854Z",
     "iopub.status.idle": "2021-10-03T23:00:08.251437Z",
     "shell.execute_reply": "2021-10-03T23:00:08.252703Z"
    },
    "papermill": {
     "duration": 0.466946,
     "end_time": "2021-10-03T23:00:08.253099",
     "exception": false,
     "start_time": "2021-10-03T23:00:07.786153",
     "status": "completed"
    },
    "tags": []
   },
   "outputs": [],
   "source": [
    "timestamps = pd.read_sql(\"select distinct record_time from EBAY_TOP_BERLIN order by record_time desc limit 2\", sqlite3.connect(\"UsedObjects.db\"))"
   ]
  },
  {
   "cell_type": "code",
   "execution_count": 3,
   "id": "periodic-identification",
   "metadata": {
    "execution": {
     "iopub.execute_input": "2021-10-03T23:00:08.316930Z",
     "iopub.status.busy": "2021-10-03T23:00:08.314854Z",
     "iopub.status.idle": "2021-10-03T23:00:08.335728Z",
     "shell.execute_reply": "2021-10-03T23:00:08.336994Z"
    },
    "papermill": {
     "duration": 0.065008,
     "end_time": "2021-10-03T23:00:08.337384",
     "exception": false,
     "start_time": "2021-10-03T23:00:08.272376",
     "status": "completed"
    },
    "tags": []
   },
   "outputs": [
    {
     "data": {
      "text/html": [
       "<div>\n",
       "<style scoped>\n",
       "    .dataframe tbody tr th:only-of-type {\n",
       "        vertical-align: middle;\n",
       "    }\n",
       "\n",
       "    .dataframe tbody tr th {\n",
       "        vertical-align: top;\n",
       "    }\n",
       "\n",
       "    .dataframe thead th {\n",
       "        text-align: right;\n",
       "    }\n",
       "</style>\n",
       "<table border=\"1\" class=\"dataframe\">\n",
       "  <thead>\n",
       "    <tr style=\"text-align: right;\">\n",
       "      <th></th>\n",
       "      <th>RECORD_TIME</th>\n",
       "    </tr>\n",
       "  </thead>\n",
       "  <tbody>\n",
       "    <tr>\n",
       "      <th>0</th>\n",
       "      <td>2021-10-04 01:00</td>\n",
       "    </tr>\n",
       "    <tr>\n",
       "      <th>1</th>\n",
       "      <td>2021-10-04 00:30</td>\n",
       "    </tr>\n",
       "  </tbody>\n",
       "</table>\n",
       "</div>"
      ],
      "text/plain": [
       "        RECORD_TIME\n",
       "0  2021-10-04 01:00\n",
       "1  2021-10-04 00:30"
      ]
     },
     "execution_count": 3,
     "metadata": {},
     "output_type": "execute_result"
    }
   ],
   "source": [
    "timestamps"
   ]
  },
  {
   "cell_type": "code",
   "execution_count": 4,
   "id": "alternate-victory",
   "metadata": {
    "execution": {
     "iopub.execute_input": "2021-10-03T23:00:08.411858Z",
     "iopub.status.busy": "2021-10-03T23:00:08.409123Z",
     "iopub.status.idle": "2021-10-03T23:00:09.073895Z",
     "shell.execute_reply": "2021-10-03T23:00:09.075265Z"
    },
    "papermill": {
     "duration": 0.716732,
     "end_time": "2021-10-03T23:00:09.075698",
     "exception": false,
     "start_time": "2021-10-03T23:00:08.358966",
     "status": "completed"
    },
    "tags": []
   },
   "outputs": [],
   "source": [
    "df = pd.read_sql(\"select * from EBAY_TOP_BERLIN where record_time in (select distinct record_time from EBAY_TOP_BERLIN order by record_time desc limit 2)\", sqlite3.connect(\"UsedObjects.db\"))"
   ]
  },
  {
   "cell_type": "code",
   "execution_count": 5,
   "id": "popular-active",
   "metadata": {
    "execution": {
     "iopub.execute_input": "2021-10-03T23:00:09.140862Z",
     "iopub.status.busy": "2021-10-03T23:00:09.133718Z",
     "iopub.status.idle": "2021-10-03T23:00:09.161473Z",
     "shell.execute_reply": "2021-10-03T23:00:09.162669Z"
    },
    "papermill": {
     "duration": 0.067161,
     "end_time": "2021-10-03T23:00:09.163257",
     "exception": false,
     "start_time": "2021-10-03T23:00:09.096096",
     "status": "completed"
    },
    "tags": []
   },
   "outputs": [],
   "source": [
    "df_pivot = df.pivot_table(index=\"PRODUCT\", columns = \"RECORD_TIME\", values = \"LISTING_COUNT\")"
   ]
  },
  {
   "cell_type": "code",
   "execution_count": 6,
   "id": "union-huntington",
   "metadata": {
    "execution": {
     "iopub.execute_input": "2021-10-03T23:00:09.222406Z",
     "iopub.status.busy": "2021-10-03T23:00:09.219958Z",
     "iopub.status.idle": "2021-10-03T23:00:09.225476Z",
     "shell.execute_reply": "2021-10-03T23:00:09.226737Z"
    },
    "papermill": {
     "duration": 0.041945,
     "end_time": "2021-10-03T23:00:09.227233",
     "exception": false,
     "start_time": "2021-10-03T23:00:09.185288",
     "status": "completed"
    },
    "tags": []
   },
   "outputs": [],
   "source": [
    "df_pivot.columns = [\"stamp_1\", \"stamp_2\"]\n",
    "df_pivot_diff = df_pivot.diff(axis=1)"
   ]
  },
  {
   "cell_type": "code",
   "execution_count": 7,
   "id": "fifth-motion",
   "metadata": {
    "execution": {
     "iopub.execute_input": "2021-10-03T23:00:09.283235Z",
     "iopub.status.busy": "2021-10-03T23:00:09.279194Z",
     "iopub.status.idle": "2021-10-03T23:00:10.751072Z",
     "shell.execute_reply": "2021-10-03T23:00:10.752687Z"
    },
    "papermill": {
     "duration": 1.505426,
     "end_time": "2021-10-03T23:00:10.753177",
     "exception": false,
     "start_time": "2021-10-03T23:00:09.247751",
     "status": "completed"
    },
    "tags": []
   },
   "outputs": [
    {
     "data": {
      "text/plain": [
       "<AxesSubplot:ylabel='PRODUCT'>"
      ]
     },
     "execution_count": 7,
     "metadata": {},
     "output_type": "execute_result"
    },
    {
     "data": {
      "image/png": "[encoded data removed]",
      "text/plain": [
       "<Figure size 432x288 with 1 Axes>"
      ]
     },
     "metadata": {
      "needs_background": "light"
     },
     "output_type": "display_data"
    }
   ],
   "source": [
    "df_pivot_diff.sort_values(\"stamp_2\", ascending = False)[\"stamp_2\"].head(10).plot.barh()"
   ]
  },
  {
   "cell_type": "code",
   "execution_count": null,
   "id": "extra-executive",
   "metadata": {
    "papermill": {
     "duration": 0.022099,
     "end_time": "2021-10-03T23:00:10.799156",
     "exception": false,
     "start_time": "2021-10-03T23:00:10.777057",
     "status": "completed"
    },
    "tags": []
   },
   "outputs": [],
   "source": []
  }
 ],
 "metadata": {
  "kernelspec": {
   "display_name": "Python 3",
   "language": "python",
   "name": "python3"
  },
  "language_info": {
   "codemirror_mode": {
    "name": "ipython",
    "version": 3
   },
   "file_extension": ".py",
   "mimetype": "text/x-python",
   "name": "python",
   "nbconvert_exporter": "python",
   "pygments_lexer": "ipython3",
   "version": "3.9.5"
  },
  "papermill": {
   "default_parameters": {},
   "duration": 7.826866,
   "end_time": "2021-10-03T23:00:12.324864",
   "environment_variables": {},
   "exception": null,
   "input_path": "eBay_Overview.ipynb",
   "output_path": "eBay_Overview.ipynb",
   "parameters": {},
   "start_time": "2021-10-03T23:00:04.497998",
   "version": "2.3.3"
  }
 },
 "nbformat": 4,
 "nbformat_minor": 5
}