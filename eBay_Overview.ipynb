{
 "cells": [
  {
   "cell_type": "code",
   "execution_count": 1,
   "id": "reverse-picking",
   "metadata": {
    "execution": {
     "iopub.execute_input": "2021-09-09T19:30:06.957282Z",
     "iopub.status.busy": "2021-09-09T19:30:06.955274Z",
     "iopub.status.idle": "2021-09-09T19:30:07.766827Z",
     "shell.execute_reply": "2021-09-09T19:30:07.768241Z"
    },
    "papermill": {
     "duration": 0.862636,
     "end_time": "2021-09-09T19:30:07.768886",
     "exception": false,
     "start_time": "2021-09-09T19:30:06.906250",
     "status": "completed"
    },
    "tags": []
   },
   "outputs": [],
   "source": [
    "import pandas as pd\n",
    "import sqlite3"
   ]
  },
  {
   "cell_type": "code",
   "execution_count": 2,
   "id": "innovative-syndrome",
   "metadata": {
    "execution": {
     "iopub.execute_input": "2021-09-09T19:30:07.819682Z",
     "iopub.status.busy": "2021-09-09T19:30:07.817658Z",
     "iopub.status.idle": "2021-09-09T19:30:08.065463Z",
     "shell.execute_reply": "2021-09-09T19:30:08.066730Z"
    },
    "papermill": {
     "duration": 0.27796,
     "end_time": "2021-09-09T19:30:08.067248",
     "exception": false,
     "start_time": "2021-09-09T19:30:07.789288",
     "status": "completed"
    },
    "tags": []
   },
   "outputs": [],
   "source": [
    "timestamps = pd.read_sql(\"select distinct record_time from EBAY_TOP_BERLIN order by record_time desc limit 2\", sqlite3.connect(\"UsedObjects.db\"))"
   ]
  },
  {
   "cell_type": "code",
   "execution_count": 3,
   "id": "periodic-identification",
   "metadata": {
    "execution": {
     "iopub.execute_input": "2021-09-09T19:30:08.133819Z",
     "iopub.status.busy": "2021-09-09T19:30:08.131810Z",
     "iopub.status.idle": "2021-09-09T19:30:08.151554Z",
     "shell.execute_reply": "2021-09-09T19:30:08.152690Z"
    },
    "papermill": {
     "duration": 0.065248,
     "end_time": "2021-09-09T19:30:08.153100",
     "exception": false,
     "start_time": "2021-09-09T19:30:08.087852",
     "status": "completed"
    },
    "tags": []
   },
   "outputs": [
    {
     "data": {
      "text/html": [
       "<div>\n",
       "<style scoped>\n",
       "    .dataframe tbody tr th:only-of-type {\n",
       "        vertical-align: middle;\n",
       "    }\n",
       "\n",
       "    .dataframe tbody tr th {\n",
       "        vertical-align: top;\n",
       "    }\n",
       "\n",
       "    .dataframe thead th {\n",
       "        text-align: right;\n",
       "    }\n",
       "</style>\n",
       "<table border=\"1\" class=\"dataframe\">\n",
       "  <thead>\n",
       "    <tr style=\"text-align: right;\">\n",
       "      <th></th>\n",
       "      <th>RECORD_TIME</th>\n",
       "    </tr>\n",
       "  </thead>\n",
       "  <tbody>\n",
       "    <tr>\n",
       "      <th>0</th>\n",
       "      <td>2021-09-09 21:30</td>\n",
       "    </tr>\n",
       "    <tr>\n",
       "      <th>1</th>\n",
       "      <td>2021-09-09 21:00</td>\n",
       "    </tr>\n",
       "  </tbody>\n",
       "</table>\n",
       "</div>"
      ],
      "text/plain": [
       "        RECORD_TIME\n",
       "0  2021-09-09 21:30\n",
       "1  2021-09-09 21:00"
      ]
     },
     "execution_count": 3,
     "metadata": {},
     "output_type": "execute_result"
    }
   ],
   "source": [
    "timestamps"
   ]
  },
  {
   "cell_type": "code",
   "execution_count": 4,
   "id": "alternate-victory",
   "metadata": {
    "execution": {
     "iopub.execute_input": "2021-09-09T19:30:08.207707Z",
     "iopub.status.busy": "2021-09-09T19:30:08.205358Z",
     "iopub.status.idle": "2021-09-09T19:30:08.582953Z",
     "shell.execute_reply": "2021-09-09T19:30:08.584135Z"
    },
    "papermill": {
     "duration": 0.407925,
     "end_time": "2021-09-09T19:30:08.584541",
     "exception": false,
     "start_time": "2021-09-09T19:30:08.176616",
     "status": "completed"
    },
    "tags": []
   },
   "outputs": [],
   "source": [
    "df = pd.read_sql(\"select * from EBAY_TOP_BERLIN where record_time in (select distinct record_time from EBAY_TOP_BERLIN order by record_time desc limit 2)\", sqlite3.connect(\"UsedObjects.db\"))"
   ]
  },
  {
   "cell_type": "code",
   "execution_count": 5,
   "id": "popular-active",
   "metadata": {
    "execution": {
     "iopub.execute_input": "2021-09-09T19:30:08.659606Z",
     "iopub.status.busy": "2021-09-09T19:30:08.657018Z",
     "iopub.status.idle": "2021-09-09T19:30:08.686205Z",
     "shell.execute_reply": "2021-09-09T19:30:08.687562Z"
    },
    "papermill": {
     "duration": 0.071725,
     "end_time": "2021-09-09T19:30:08.687982",
     "exception": false,
     "start_time": "2021-09-09T19:30:08.616257",
     "status": "completed"
    },
    "tags": []
   },
   "outputs": [],
   "source": [
    "df_pivot = df.pivot_table(index=\"PRODUCT\", columns = \"RECORD_TIME\", values = \"LISTING_COUNT\")"
   ]
  },
  {
   "cell_type": "code",
   "execution_count": 6,
   "id": "union-huntington",
   "metadata": {
    "execution": {
     "iopub.execute_input": "2021-09-09T19:30:08.744742Z",
     "iopub.status.busy": "2021-09-09T19:30:08.742603Z",
     "iopub.status.idle": "2021-09-09T19:30:08.747825Z",
     "shell.execute_reply": "2021-09-09T19:30:08.749015Z"
    },
    "papermill": {
     "duration": 0.040159,
     "end_time": "2021-09-09T19:30:08.749443",
     "exception": false,
     "start_time": "2021-09-09T19:30:08.709284",
     "status": "completed"
    },
    "tags": []
   },
   "outputs": [],
   "source": [
    "df_pivot.columns = [\"stamp_1\", \"stamp_2\"]\n",
    "df_pivot_diff = df_pivot.diff(axis=1)"
   ]
  },
  {
   "cell_type": "code",
   "execution_count": 7,
   "id": "fifth-motion",
   "metadata": {
    "execution": {
     "iopub.execute_input": "2021-09-09T19:30:08.803806Z",
     "iopub.status.busy": "2021-09-09T19:30:08.801226Z",
     "iopub.status.idle": "2021-09-09T19:30:10.316763Z",
     "shell.execute_reply": "2021-09-09T19:30:10.318035Z"
    },
    "papermill": {
     "duration": 1.548513,
     "end_time": "2021-09-09T19:30:10.318448",
     "exception": false,
     "start_time": "2021-09-09T19:30:08.769935",
     "status": "completed"
    },
    "tags": []
   },
   "outputs": [
    {
     "data": {
      "text/plain": [
       "<AxesSubplot:ylabel='PRODUCT'>"
      ]
     },
     "execution_count": 7,
     "metadata": {},
     "output_type": "execute_result"
    },
    {
     "data": {
      "image/png": "[encoded data removed]",
      "text/plain": [
       "<Figure size 432x288 with 1 Axes>"
      ]
     },
     "metadata": {
      "needs_background": "light"
     },
     "output_type": "display_data"
    }
   ],
   "source": [
    "df_pivot_diff.sort_values(\"stamp_2\", ascending = False)[\"stamp_2\"].head(10).plot.barh()"
   ]
  },
  {
   "cell_type": "code",
   "execution_count": null,
   "id": "extra-executive",
   "metadata": {
    "papermill": {
     "duration": 0.022452,
     "end_time": "2021-09-09T19:30:10.364446",
     "exception": false,
     "start_time": "2021-09-09T19:30:10.341994",
     "status": "completed"
    },
    "tags": []
   },
   "outputs": [],
   "source": []
  }
 ],
 "metadata": {
  "kernelspec": {
   "display_name": "Python 3",
   "language": "python",
   "name": "python3"
  },
  "language_info": {
   "codemirror_mode": {
    "name": "ipython",
    "version": 3
   },
   "file_extension": ".py",
   "mimetype": "text/x-python",
   "name": "python",
   "nbconvert_exporter": "python",
   "pygments_lexer": "ipython3",
   "version": "3.9.5"
  },
  "papermill": {
   "default_parameters": {},
   "duration": 6.522712,
   "end_time": "2021-09-09T19:30:11.007627",
   "environment_variables": {},
   "exception": null,
   "input_path": "eBay_Overview.ipynb",
   "output_path": "eBay_Overview.ipynb",
   "parameters": {},
   "start_time": "2021-09-09T19:30:04.484915",
   "version": "2.3.3"
  }
 },
 "nbformat": 4,
 "nbformat_minor": 5
}