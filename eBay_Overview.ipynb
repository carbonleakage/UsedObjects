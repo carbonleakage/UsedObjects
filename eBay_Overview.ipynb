{
 "cells": [
  {
   "cell_type": "code",
   "execution_count": 1,
   "id": "reverse-picking",
   "metadata": {
    "execution": {
     "iopub.execute_input": "2021-08-10T17:00:04.952524Z",
     "iopub.status.busy": "2021-08-10T17:00:04.951760Z",
     "iopub.status.idle": "2021-08-10T17:00:05.555247Z",
     "shell.execute_reply": "2021-08-10T17:00:05.556501Z"
    },
    "papermill": {
     "duration": 0.623456,
     "end_time": "2021-08-10T17:00:05.556993",
     "exception": false,
     "start_time": "2021-08-10T17:00:04.933537",
     "status": "completed"
    },
    "tags": []
   },
   "outputs": [],
   "source": [
    "import pandas as pd\n",
    "import sqlite3"
   ]
  },
  {
   "cell_type": "code",
   "execution_count": 2,
   "id": "innovative-syndrome",
   "metadata": {
    "execution": {
     "iopub.execute_input": "2021-08-10T17:00:05.587066Z",
     "iopub.status.busy": "2021-08-10T17:00:05.586283Z",
     "iopub.status.idle": "2021-08-10T17:00:05.794992Z",
     "shell.execute_reply": "2021-08-10T17:00:05.795564Z"
    },
    "papermill": {
     "duration": 0.222106,
     "end_time": "2021-08-10T17:00:05.795757",
     "exception": false,
     "start_time": "2021-08-10T17:00:05.573651",
     "status": "completed"
    },
    "tags": []
   },
   "outputs": [],
   "source": [
    "timestamps = pd.read_sql(\"select distinct record_time from EBAY_TOP_BERLIN order by record_time desc limit 2\", sqlite3.connect(\"UsedObjects.db\"))"
   ]
  },
  {
   "cell_type": "code",
   "execution_count": 3,
   "id": "periodic-identification",
   "metadata": {
    "execution": {
     "iopub.execute_input": "2021-08-10T17:00:05.828200Z",
     "iopub.status.busy": "2021-08-10T17:00:05.827426Z",
     "iopub.status.idle": "2021-08-10T17:00:05.840713Z",
     "shell.execute_reply": "2021-08-10T17:00:05.841249Z"
    },
    "papermill": {
     "duration": 0.036256,
     "end_time": "2021-08-10T17:00:05.841429",
     "exception": false,
     "start_time": "2021-08-10T17:00:05.805173",
     "status": "completed"
    },
    "tags": []
   },
   "outputs": [
    {
     "data": {
      "text/html": [
       "<div>\n",
       "<style scoped>\n",
       "    .dataframe tbody tr th:only-of-type {\n",
       "        vertical-align: middle;\n",
       "    }\n",
       "\n",
       "    .dataframe tbody tr th {\n",
       "        vertical-align: top;\n",
       "    }\n",
       "\n",
       "    .dataframe thead th {\n",
       "        text-align: right;\n",
       "    }\n",
       "</style>\n",
       "<table border=\"1\" class=\"dataframe\">\n",
       "  <thead>\n",
       "    <tr style=\"text-align: right;\">\n",
       "      <th></th>\n",
       "      <th>RECORD_TIME</th>\n",
       "    </tr>\n",
       "  </thead>\n",
       "  <tbody>\n",
       "    <tr>\n",
       "      <th>0</th>\n",
       "      <td>2021-08-10 19:00</td>\n",
       "    </tr>\n",
       "    <tr>\n",
       "      <th>1</th>\n",
       "      <td>2021-08-10 18:30</td>\n",
       "    </tr>\n",
       "  </tbody>\n",
       "</table>\n",
       "</div>"
      ],
      "text/plain": [
       "        RECORD_TIME\n",
       "0  2021-08-10 19:00\n",
       "1  2021-08-10 18:30"
      ]
     },
     "execution_count": 3,
     "metadata": {},
     "output_type": "execute_result"
    }
   ],
   "source": [
    "timestamps"
   ]
  },
  {
   "cell_type": "code",
   "execution_count": 4,
   "id": "alternate-victory",
   "metadata": {
    "execution": {
     "iopub.execute_input": "2021-08-10T17:00:05.868405Z",
     "iopub.status.busy": "2021-08-10T17:00:05.867654Z",
     "iopub.status.idle": "2021-08-10T17:00:05.885173Z",
     "shell.execute_reply": "2021-08-10T17:00:05.884466Z"
    },
    "papermill": {
     "duration": 0.031808,
     "end_time": "2021-08-10T17:00:05.885694",
     "exception": false,
     "start_time": "2021-08-10T17:00:05.853886",
     "status": "completed"
    },
    "tags": []
   },
   "outputs": [],
   "source": [
    "df = pd.read_sql(\"select * from EBAY_TOP_BERLIN where record_time in (select distinct record_time from EBAY_TOP_BERLIN order by record_time desc limit 2)\", sqlite3.connect(\"UsedObjects.db\"))"
   ]
  },
  {
   "cell_type": "code",
   "execution_count": 5,
   "id": "popular-active",
   "metadata": {
    "execution": {
     "iopub.execute_input": "2021-08-10T17:00:05.916463Z",
     "iopub.status.busy": "2021-08-10T17:00:05.915647Z",
     "iopub.status.idle": "2021-08-10T17:00:05.933763Z",
     "shell.execute_reply": "2021-08-10T17:00:05.934340Z"
    },
    "papermill": {
     "duration": 0.037858,
     "end_time": "2021-08-10T17:00:05.934530",
     "exception": false,
     "start_time": "2021-08-10T17:00:05.896672",
     "status": "completed"
    },
    "tags": []
   },
   "outputs": [],
   "source": [
    "df_pivot = df.pivot_table(index=\"PRODUCT\", columns = \"RECORD_TIME\", values = \"LISTING_COUNT\")"
   ]
  },
  {
   "cell_type": "code",
   "execution_count": 6,
   "id": "union-huntington",
   "metadata": {
    "execution": {
     "iopub.execute_input": "2021-08-10T17:00:05.964283Z",
     "iopub.status.busy": "2021-08-10T17:00:05.963596Z",
     "iopub.status.idle": "2021-08-10T17:00:05.970430Z",
     "shell.execute_reply": "2021-08-10T17:00:05.971600Z"
    },
    "papermill": {
     "duration": 0.02754,
     "end_time": "2021-08-10T17:00:05.971858",
     "exception": false,
     "start_time": "2021-08-10T17:00:05.944318",
     "status": "completed"
    },
    "tags": []
   },
   "outputs": [],
   "source": [
    "df_pivot.columns = [\"stamp_1\", \"stamp_2\"]\n",
    "df_pivot_diff = df_pivot.diff(axis=1)"
   ]
  },
  {
   "cell_type": "code",
   "execution_count": 7,
   "id": "fifth-motion",
   "metadata": {
    "execution": {
     "iopub.execute_input": "2021-08-10T17:00:06.000782Z",
     "iopub.status.busy": "2021-08-10T17:00:05.999713Z",
     "iopub.status.idle": "2021-08-10T17:00:06.873641Z",
     "shell.execute_reply": "2021-08-10T17:00:06.874211Z"
    },
    "papermill": {
     "duration": 0.888671,
     "end_time": "2021-08-10T17:00:06.874398",
     "exception": false,
     "start_time": "2021-08-10T17:00:05.985727",
     "status": "completed"
    },
    "tags": []
   },
   "outputs": [
    {
     "data": {
      "text/plain": [
       "<AxesSubplot:ylabel='PRODUCT'>"
      ]
     },
     "execution_count": 7,
     "metadata": {},
     "output_type": "execute_result"
    },
    {
     "data": {
      "image/png": "[encoded data removed]",
      "text/plain": [
       "<Figure size 432x288 with 1 Axes>"
      ]
     },
     "metadata": {
      "needs_background": "light"
     },
     "output_type": "display_data"
    }
   ],
   "source": [
    "df_pivot_diff.sort_values(\"stamp_2\", ascending = False)[\"stamp_2\"].head(10).plot.barh()"
   ]
  },
  {
   "cell_type": "code",
   "execution_count": null,
   "id": "extra-executive",
   "metadata": {
    "papermill": {
     "duration": 0.012823,
     "end_time": "2021-08-10T17:00:06.899326",
     "exception": false,
     "start_time": "2021-08-10T17:00:06.886503",
     "status": "completed"
    },
    "tags": []
   },
   "outputs": [],
   "source": []
  }
 ],
 "metadata": {
  "kernelspec": {
   "display_name": "Python 3",
   "language": "python",
   "name": "python3"
  },
  "language_info": {
   "codemirror_mode": {
    "name": "ipython",
    "version": 3
   },
   "file_extension": ".py",
   "mimetype": "text/x-python",
   "name": "python",
   "nbconvert_exporter": "python",
   "pygments_lexer": "ipython3",
   "version": "3.8.8"
  },
  "papermill": {
   "default_parameters": {},
   "duration": 4.427279,
   "end_time": "2021-08-10T17:00:07.653601",
   "environment_variables": {},
   "exception": null,
   "input_path": "/Users/saravananshanmugam/Carbonleakage_Git/UsedObjects/eBay_Overview.ipynb",
   "output_path": "/Users/saravananshanmugam/Carbonleakage_Git/UsedObjects/eBay_Overview.ipynb",
   "parameters": {},
   "start_time": "2021-08-10T17:00:03.226322",
   "version": "2.3.3"
  }
 },
 "nbformat": 4,
 "nbformat_minor": 5
}