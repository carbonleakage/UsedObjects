{
 "cells": [
  {
   "cell_type": "code",
   "execution_count": 1,
   "id": "reverse-picking",
   "metadata": {
    "execution": {
     "iopub.execute_input": "2021-11-20T09:00:07.676812Z",
     "iopub.status.busy": "2021-11-20T09:00:07.674461Z",
     "iopub.status.idle": "2021-11-20T09:00:08.625599Z",
     "shell.execute_reply": "2021-11-20T09:00:08.627431Z"
    },
    "papermill": {
     "duration": 1.002079,
     "end_time": "2021-11-20T09:00:08.628172",
     "exception": false,
     "start_time": "2021-11-20T09:00:07.626093",
     "status": "completed"
    },
    "tags": []
   },
   "outputs": [],
   "source": [
    "import pandas as pd\n",
    "import sqlite3"
   ]
  },
  {
   "cell_type": "code",
   "execution_count": 2,
   "id": "innovative-syndrome",
   "metadata": {
    "execution": {
     "iopub.execute_input": "2021-11-20T09:00:08.692771Z",
     "iopub.status.busy": "2021-11-20T09:00:08.690527Z",
     "iopub.status.idle": "2021-11-20T09:00:09.539182Z",
     "shell.execute_reply": "2021-11-20T09:00:09.540974Z"
    },
    "papermill": {
     "duration": 0.883521,
     "end_time": "2021-11-20T09:00:09.541524",
     "exception": false,
     "start_time": "2021-11-20T09:00:08.658003",
     "status": "completed"
    },
    "tags": []
   },
   "outputs": [],
   "source": [
    "timestamps = pd.read_sql(\"select distinct record_time from EBAY_TOP_BERLIN order by record_time desc limit 2\", sqlite3.connect(\"UsedObjects.db\"))"
   ]
  },
  {
   "cell_type": "code",
   "execution_count": 3,
   "id": "periodic-identification",
   "metadata": {
    "execution": {
     "iopub.execute_input": "2021-11-20T09:00:09.614638Z",
     "iopub.status.busy": "2021-11-20T09:00:09.611614Z",
     "iopub.status.idle": "2021-11-20T09:00:09.635542Z",
     "shell.execute_reply": "2021-11-20T09:00:09.637109Z"
    },
    "papermill": {
     "duration": 0.075427,
     "end_time": "2021-11-20T09:00:09.637606",
     "exception": false,
     "start_time": "2021-11-20T09:00:09.562179",
     "status": "completed"
    },
    "tags": []
   },
   "outputs": [
    {
     "data": {
      "text/html": [
       "<div>\n",
       "<style scoped>\n",
       "    .dataframe tbody tr th:only-of-type {\n",
       "        vertical-align: middle;\n",
       "    }\n",
       "\n",
       "    .dataframe tbody tr th {\n",
       "        vertical-align: top;\n",
       "    }\n",
       "\n",
       "    .dataframe thead th {\n",
       "        text-align: right;\n",
       "    }\n",
       "</style>\n",
       "<table border=\"1\" class=\"dataframe\">\n",
       "  <thead>\n",
       "    <tr style=\"text-align: right;\">\n",
       "      <th></th>\n",
       "      <th>RECORD_TIME</th>\n",
       "    </tr>\n",
       "  </thead>\n",
       "  <tbody>\n",
       "    <tr>\n",
       "      <th>0</th>\n",
       "      <td>2021-11-20 10:00</td>\n",
       "    </tr>\n",
       "    <tr>\n",
       "      <th>1</th>\n",
       "      <td>2021-11-20 09:30</td>\n",
       "    </tr>\n",
       "  </tbody>\n",
       "</table>\n",
       "</div>"
      ],
      "text/plain": [
       "        RECORD_TIME\n",
       "0  2021-11-20 10:00\n",
       "1  2021-11-20 09:30"
      ]
     },
     "execution_count": 3,
     "metadata": {},
     "output_type": "execute_result"
    }
   ],
   "source": [
    "timestamps"
   ]
  },
  {
   "cell_type": "code",
   "execution_count": 4,
   "id": "alternate-victory",
   "metadata": {
    "execution": {
     "iopub.execute_input": "2021-11-20T09:00:09.692899Z",
     "iopub.status.busy": "2021-11-20T09:00:09.690767Z",
     "iopub.status.idle": "2021-11-20T09:00:10.938272Z",
     "shell.execute_reply": "2021-11-20T09:00:10.939886Z"
    },
    "papermill": {
     "duration": 1.28207,
     "end_time": "2021-11-20T09:00:10.940341",
     "exception": false,
     "start_time": "2021-11-20T09:00:09.658271",
     "status": "completed"
    },
    "tags": []
   },
   "outputs": [],
   "source": [
    "df = pd.read_sql(\"select * from EBAY_TOP_BERLIN where record_time in (select distinct record_time from EBAY_TOP_BERLIN order by record_time desc limit 2)\", sqlite3.connect(\"UsedObjects.db\"))"
   ]
  },
  {
   "cell_type": "code",
   "execution_count": 5,
   "id": "popular-active",
   "metadata": {
    "execution": {
     "iopub.execute_input": "2021-11-20T09:00:11.010744Z",
     "iopub.status.busy": "2021-11-20T09:00:11.008406Z",
     "iopub.status.idle": "2021-11-20T09:00:11.041087Z",
     "shell.execute_reply": "2021-11-20T09:00:11.042517Z"
    },
    "papermill": {
     "duration": 0.079974,
     "end_time": "2021-11-20T09:00:11.042993",
     "exception": false,
     "start_time": "2021-11-20T09:00:10.963019",
     "status": "completed"
    },
    "tags": []
   },
   "outputs": [],
   "source": [
    "df_pivot = df.pivot_table(index=\"PRODUCT\", columns = \"RECORD_TIME\", values = \"LISTING_COUNT\")"
   ]
  },
  {
   "cell_type": "code",
   "execution_count": 6,
   "id": "union-huntington",
   "metadata": {
    "execution": {
     "iopub.execute_input": "2021-11-20T09:00:11.107265Z",
     "iopub.status.busy": "2021-11-20T09:00:11.105048Z",
     "iopub.status.idle": "2021-11-20T09:00:11.111031Z",
     "shell.execute_reply": "2021-11-20T09:00:11.112585Z"
    },
    "papermill": {
     "duration": 0.04628,
     "end_time": "2021-11-20T09:00:11.113119",
     "exception": false,
     "start_time": "2021-11-20T09:00:11.066839",
     "status": "completed"
    },
    "tags": []
   },
   "outputs": [],
   "source": [
    "df_pivot.columns = [\"stamp_1\", \"stamp_2\"]\n",
    "df_pivot_diff = df_pivot.diff(axis=1)"
   ]
  },
  {
   "cell_type": "code",
   "execution_count": 7,
   "id": "fifth-motion",
   "metadata": {
    "execution": {
     "iopub.execute_input": "2021-11-20T09:00:11.174244Z",
     "iopub.status.busy": "2021-11-20T09:00:11.171774Z",
     "iopub.status.idle": "2021-11-20T09:00:12.877616Z",
     "shell.execute_reply": "2021-11-20T09:00:12.878983Z"
    },
    "papermill": {
     "duration": 1.744499,
     "end_time": "2021-11-20T09:00:12.879450",
     "exception": false,
     "start_time": "2021-11-20T09:00:11.134951",
     "status": "completed"
    },
    "tags": []
   },
   "outputs": [
    {
     "data": {
      "text/plain": [
       "<AxesSubplot:ylabel='PRODUCT'>"
      ]
     },
     "execution_count": 7,
     "metadata": {},
     "output_type": "execute_result"
    },
    {
     "data": {
      "image/png": "[encoded data removed]",
      "text/plain": [
       "<Figure size 432x288 with 1 Axes>"
      ]
     },
     "metadata": {
      "needs_background": "light"
     },
     "output_type": "display_data"
    }
   ],
   "source": [
    "df_pivot_diff.sort_values(\"stamp_2\", ascending = False)[\"stamp_2\"].head(10).plot.barh()"
   ]
  },
  {
   "cell_type": "code",
   "execution_count": null,
   "id": "extra-executive",
   "metadata": {
    "papermill": {
     "duration": 0.024953,
     "end_time": "2021-11-20T09:00:12.928387",
     "exception": false,
     "start_time": "2021-11-20T09:00:12.903434",
     "status": "completed"
    },
    "tags": []
   },
   "outputs": [],
   "source": []
  }
 ],
 "metadata": {
  "kernelspec": {
   "display_name": "Python 3",
   "language": "python",
   "name": "python3"
  },
  "language_info": {
   "codemirror_mode": {
    "name": "ipython",
    "version": 3
   },
   "file_extension": ".py",
   "mimetype": "text/x-python",
   "name": "python",
   "nbconvert_exporter": "python",
   "pygments_lexer": "ipython3",
   "version": "3.9.5"
  },
  "papermill": {
   "default_parameters": {},
   "duration": 10.006859,
   "end_time": "2021-11-20T09:00:14.827668",
   "environment_variables": {},
   "exception": null,
   "input_path": "eBay_Overview.ipynb",
   "output_path": "eBay_Overview.ipynb",
   "parameters": {},
   "start_time": "2021-11-20T09:00:04.820809",
   "version": "2.3.3"
  }
 },
 "nbformat": 4,
 "nbformat_minor": 5
}