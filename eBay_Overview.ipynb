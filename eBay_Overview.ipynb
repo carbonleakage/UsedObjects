{
 "cells": [
  {
   "cell_type": "code",
   "execution_count": 1,
   "id": "reverse-picking",
   "metadata": {
    "execution": {
     "iopub.execute_input": "2021-09-01T15:00:06.715408Z",
     "iopub.status.busy": "2021-09-01T15:00:06.713428Z",
     "iopub.status.idle": "2021-09-01T15:00:07.517602Z",
     "shell.execute_reply": "2021-09-01T15:00:07.518971Z"
    },
    "papermill": {
     "duration": 0.85686,
     "end_time": "2021-09-01T15:00:07.519639",
     "exception": false,
     "start_time": "2021-09-01T15:00:06.662779",
     "status": "completed"
    },
    "tags": []
   },
   "outputs": [],
   "source": [
    "import pandas as pd\n",
    "import sqlite3"
   ]
  },
  {
   "cell_type": "code",
   "execution_count": 2,
   "id": "innovative-syndrome",
   "metadata": {
    "execution": {
     "iopub.execute_input": "2021-09-01T15:00:07.571259Z",
     "iopub.status.busy": "2021-09-01T15:00:07.569160Z",
     "iopub.status.idle": "2021-09-01T15:00:07.754425Z",
     "shell.execute_reply": "2021-09-01T15:00:07.753051Z"
    },
    "papermill": {
     "duration": 0.214535,
     "end_time": "2021-09-01T15:00:07.754775",
     "exception": false,
     "start_time": "2021-09-01T15:00:07.540240",
     "status": "completed"
    },
    "tags": []
   },
   "outputs": [],
   "source": [
    "timestamps = pd.read_sql(\"select distinct record_time from EBAY_TOP_BERLIN order by record_time desc limit 2\", sqlite3.connect(\"UsedObjects.db\"))"
   ]
  },
  {
   "cell_type": "code",
   "execution_count": 3,
   "id": "periodic-identification",
   "metadata": {
    "execution": {
     "iopub.execute_input": "2021-09-01T15:00:07.820620Z",
     "iopub.status.busy": "2021-09-01T15:00:07.818534Z",
     "iopub.status.idle": "2021-09-01T15:00:07.838207Z",
     "shell.execute_reply": "2021-09-01T15:00:07.839421Z"
    },
    "papermill": {
     "duration": 0.06501,
     "end_time": "2021-09-01T15:00:07.839844",
     "exception": false,
     "start_time": "2021-09-01T15:00:07.774834",
     "status": "completed"
    },
    "tags": []
   },
   "outputs": [
    {
     "data": {
      "text/html": [
       "<div>\n",
       "<style scoped>\n",
       "    .dataframe tbody tr th:only-of-type {\n",
       "        vertical-align: middle;\n",
       "    }\n",
       "\n",
       "    .dataframe tbody tr th {\n",
       "        vertical-align: top;\n",
       "    }\n",
       "\n",
       "    .dataframe thead th {\n",
       "        text-align: right;\n",
       "    }\n",
       "</style>\n",
       "<table border=\"1\" class=\"dataframe\">\n",
       "  <thead>\n",
       "    <tr style=\"text-align: right;\">\n",
       "      <th></th>\n",
       "      <th>RECORD_TIME</th>\n",
       "    </tr>\n",
       "  </thead>\n",
       "  <tbody>\n",
       "    <tr>\n",
       "      <th>0</th>\n",
       "      <td>2021-09-01 17:00</td>\n",
       "    </tr>\n",
       "    <tr>\n",
       "      <th>1</th>\n",
       "      <td>2021-09-01 16:30</td>\n",
       "    </tr>\n",
       "  </tbody>\n",
       "</table>\n",
       "</div>"
      ],
      "text/plain": [
       "        RECORD_TIME\n",
       "0  2021-09-01 17:00\n",
       "1  2021-09-01 16:30"
      ]
     },
     "execution_count": 3,
     "metadata": {},
     "output_type": "execute_result"
    }
   ],
   "source": [
    "timestamps"
   ]
  },
  {
   "cell_type": "code",
   "execution_count": 4,
   "id": "alternate-victory",
   "metadata": {
    "execution": {
     "iopub.execute_input": "2021-09-01T15:00:07.893951Z",
     "iopub.status.busy": "2021-09-01T15:00:07.891675Z",
     "iopub.status.idle": "2021-09-01T15:00:08.172357Z",
     "shell.execute_reply": "2021-09-01T15:00:08.170805Z"
    },
    "papermill": {
     "duration": 0.309931,
     "end_time": "2021-09-01T15:00:08.172720",
     "exception": false,
     "start_time": "2021-09-01T15:00:07.862789",
     "status": "completed"
    },
    "tags": []
   },
   "outputs": [],
   "source": [
    "df = pd.read_sql(\"select * from EBAY_TOP_BERLIN where record_time in (select distinct record_time from EBAY_TOP_BERLIN order by record_time desc limit 2)\", sqlite3.connect(\"UsedObjects.db\"))"
   ]
  },
  {
   "cell_type": "code",
   "execution_count": 5,
   "id": "popular-active",
   "metadata": {
    "execution": {
     "iopub.execute_input": "2021-09-01T15:00:08.248073Z",
     "iopub.status.busy": "2021-09-01T15:00:08.240546Z",
     "iopub.status.idle": "2021-09-01T15:00:08.269096Z",
     "shell.execute_reply": "2021-09-01T15:00:08.270305Z"
    },
    "papermill": {
     "duration": 0.072053,
     "end_time": "2021-09-01T15:00:08.270702",
     "exception": false,
     "start_time": "2021-09-01T15:00:08.198649",
     "status": "completed"
    },
    "tags": []
   },
   "outputs": [],
   "source": [
    "df_pivot = df.pivot_table(index=\"PRODUCT\", columns = \"RECORD_TIME\", values = \"LISTING_COUNT\")"
   ]
  },
  {
   "cell_type": "code",
   "execution_count": 6,
   "id": "union-huntington",
   "metadata": {
    "execution": {
     "iopub.execute_input": "2021-09-01T15:00:08.330693Z",
     "iopub.status.busy": "2021-09-01T15:00:08.328287Z",
     "iopub.status.idle": "2021-09-01T15:00:08.334233Z",
     "shell.execute_reply": "2021-09-01T15:00:08.335561Z"
    },
    "papermill": {
     "duration": 0.042657,
     "end_time": "2021-09-01T15:00:08.336013",
     "exception": false,
     "start_time": "2021-09-01T15:00:08.293356",
     "status": "completed"
    },
    "tags": []
   },
   "outputs": [],
   "source": [
    "df_pivot.columns = [\"stamp_1\", \"stamp_2\"]\n",
    "df_pivot_diff = df_pivot.diff(axis=1)"
   ]
  },
  {
   "cell_type": "code",
   "execution_count": 7,
   "id": "fifth-motion",
   "metadata": {
    "execution": {
     "iopub.execute_input": "2021-09-01T15:00:08.390948Z",
     "iopub.status.busy": "2021-09-01T15:00:08.388724Z",
     "iopub.status.idle": "2021-09-01T15:00:09.892063Z",
     "shell.execute_reply": "2021-09-01T15:00:09.893354Z"
    },
    "papermill": {
     "duration": 1.536108,
     "end_time": "2021-09-01T15:00:09.893771",
     "exception": false,
     "start_time": "2021-09-01T15:00:08.357663",
     "status": "completed"
    },
    "tags": []
   },
   "outputs": [
    {
     "data": {
      "text/plain": [
       "<AxesSubplot:ylabel='PRODUCT'>"
      ]
     },
     "execution_count": 7,
     "metadata": {},
     "output_type": "execute_result"
    },
    {
     "data": {
      "image/png": "[encoded data removed]",
      "text/plain": [
       "<Figure size 432x288 with 1 Axes>"
      ]
     },
     "metadata": {
      "needs_background": "light"
     },
     "output_type": "display_data"
    }
   ],
   "source": [
    "df_pivot_diff.sort_values(\"stamp_2\", ascending = False)[\"stamp_2\"].head(10).plot.barh()"
   ]
  },
  {
   "cell_type": "code",
   "execution_count": null,
   "id": "extra-executive",
   "metadata": {
    "papermill": {
     "duration": 0.022602,
     "end_time": "2021-09-01T15:00:09.940634",
     "exception": false,
     "start_time": "2021-09-01T15:00:09.918032",
     "status": "completed"
    },
    "tags": []
   },
   "outputs": [],
   "source": []
  }
 ],
 "metadata": {
  "kernelspec": {
   "display_name": "Python 3",
   "language": "python",
   "name": "python3"
  },
  "language_info": {
   "codemirror_mode": {
    "name": "ipython",
    "version": 3
   },
   "file_extension": ".py",
   "mimetype": "text/x-python",
   "name": "python",
   "nbconvert_exporter": "python",
   "pygments_lexer": "ipython3",
   "version": "3.9.5"
  },
  "papermill": {
   "default_parameters": {},
   "duration": 6.318987,
   "end_time": "2021-09-01T15:00:10.583893",
   "environment_variables": {},
   "exception": null,
   "input_path": "eBay_Overview.ipynb",
   "output_path": "eBay_Overview.ipynb",
   "parameters": {},
   "start_time": "2021-09-01T15:00:04.264906",
   "version": "2.3.3"
  }
 },
 "nbformat": 4,
 "nbformat_minor": 5
}