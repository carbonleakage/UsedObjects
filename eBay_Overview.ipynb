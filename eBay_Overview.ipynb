{
 "cells": [
  {
   "cell_type": "code",
   "execution_count": 1,
   "id": "reverse-picking",
   "metadata": {
    "execution": {
     "iopub.execute_input": "2021-11-26T08:30:07.199732Z",
     "iopub.status.busy": "2021-11-26T08:30:07.196931Z",
     "iopub.status.idle": "2021-11-26T08:30:08.152588Z",
     "shell.execute_reply": "2021-11-26T08:30:08.154245Z"
    },
    "papermill": {
     "duration": 1.007446,
     "end_time": "2021-11-26T08:30:08.154983",
     "exception": false,
     "start_time": "2021-11-26T08:30:07.147537",
     "status": "completed"
    },
    "tags": []
   },
   "outputs": [],
   "source": [
    "import pandas as pd\n",
    "import sqlite3"
   ]
  },
  {
   "cell_type": "code",
   "execution_count": 2,
   "id": "innovative-syndrome",
   "metadata": {
    "execution": {
     "iopub.execute_input": "2021-11-26T08:30:08.216075Z",
     "iopub.status.busy": "2021-11-26T08:30:08.213862Z",
     "iopub.status.idle": "2021-11-26T08:30:09.138883Z",
     "shell.execute_reply": "2021-11-26T08:30:09.140384Z"
    },
    "papermill": {
     "duration": 0.958794,
     "end_time": "2021-11-26T08:30:09.140969",
     "exception": false,
     "start_time": "2021-11-26T08:30:08.182175",
     "status": "completed"
    },
    "tags": []
   },
   "outputs": [],
   "source": [
    "timestamps = pd.read_sql(\"select distinct record_time from EBAY_TOP_BERLIN order by record_time desc limit 2\", sqlite3.connect(\"UsedObjects.db\"))"
   ]
  },
  {
   "cell_type": "code",
   "execution_count": 3,
   "id": "periodic-identification",
   "metadata": {
    "execution": {
     "iopub.execute_input": "2021-11-26T08:30:09.210437Z",
     "iopub.status.busy": "2021-11-26T08:30:09.208131Z",
     "iopub.status.idle": "2021-11-26T08:30:09.234099Z",
     "shell.execute_reply": "2021-11-26T08:30:09.232008Z"
    },
    "papermill": {
     "duration": 0.073728,
     "end_time": "2021-11-26T08:30:09.234511",
     "exception": false,
     "start_time": "2021-11-26T08:30:09.160783",
     "status": "completed"
    },
    "tags": []
   },
   "outputs": [
    {
     "data": {
      "text/html": [
       "<div>\n",
       "<style scoped>\n",
       "    .dataframe tbody tr th:only-of-type {\n",
       "        vertical-align: middle;\n",
       "    }\n",
       "\n",
       "    .dataframe tbody tr th {\n",
       "        vertical-align: top;\n",
       "    }\n",
       "\n",
       "    .dataframe thead th {\n",
       "        text-align: right;\n",
       "    }\n",
       "</style>\n",
       "<table border=\"1\" class=\"dataframe\">\n",
       "  <thead>\n",
       "    <tr style=\"text-align: right;\">\n",
       "      <th></th>\n",
       "      <th>RECORD_TIME</th>\n",
       "    </tr>\n",
       "  </thead>\n",
       "  <tbody>\n",
       "    <tr>\n",
       "      <th>0</th>\n",
       "      <td>2021-11-26 09:30</td>\n",
       "    </tr>\n",
       "    <tr>\n",
       "      <th>1</th>\n",
       "      <td>2021-11-26 09:00</td>\n",
       "    </tr>\n",
       "  </tbody>\n",
       "</table>\n",
       "</div>"
      ],
      "text/plain": [
       "        RECORD_TIME\n",
       "0  2021-11-26 09:30\n",
       "1  2021-11-26 09:00"
      ]
     },
     "execution_count": 3,
     "metadata": {},
     "output_type": "execute_result"
    }
   ],
   "source": [
    "timestamps"
   ]
  },
  {
   "cell_type": "code",
   "execution_count": 4,
   "id": "alternate-victory",
   "metadata": {
    "execution": {
     "iopub.execute_input": "2021-11-26T08:30:09.291219Z",
     "iopub.status.busy": "2021-11-26T08:30:09.289059Z",
     "iopub.status.idle": "2021-11-26T08:30:10.627355Z",
     "shell.execute_reply": "2021-11-26T08:30:10.628910Z"
    },
    "papermill": {
     "duration": 1.373114,
     "end_time": "2021-11-26T08:30:10.629401",
     "exception": false,
     "start_time": "2021-11-26T08:30:09.256287",
     "status": "completed"
    },
    "tags": []
   },
   "outputs": [],
   "source": [
    "df = pd.read_sql(\"select * from EBAY_TOP_BERLIN where record_time in (select distinct record_time from EBAY_TOP_BERLIN order by record_time desc limit 2)\", sqlite3.connect(\"UsedObjects.db\"))"
   ]
  },
  {
   "cell_type": "code",
   "execution_count": 5,
   "id": "popular-active",
   "metadata": {
    "execution": {
     "iopub.execute_input": "2021-11-26T08:30:10.703029Z",
     "iopub.status.busy": "2021-11-26T08:30:10.693994Z",
     "iopub.status.idle": "2021-11-26T08:30:10.727021Z",
     "shell.execute_reply": "2021-11-26T08:30:10.728372Z"
    },
    "papermill": {
     "duration": 0.077882,
     "end_time": "2021-11-26T08:30:10.728897",
     "exception": false,
     "start_time": "2021-11-26T08:30:10.651015",
     "status": "completed"
    },
    "tags": []
   },
   "outputs": [],
   "source": [
    "df_pivot = df.pivot_table(index=\"PRODUCT\", columns = \"RECORD_TIME\", values = \"LISTING_COUNT\")"
   ]
  },
  {
   "cell_type": "code",
   "execution_count": 6,
   "id": "union-huntington",
   "metadata": {
    "execution": {
     "iopub.execute_input": "2021-11-26T08:30:10.786678Z",
     "iopub.status.busy": "2021-11-26T08:30:10.784414Z",
     "iopub.status.idle": "2021-11-26T08:30:10.790163Z",
     "shell.execute_reply": "2021-11-26T08:30:10.791507Z"
    },
    "papermill": {
     "duration": 0.043234,
     "end_time": "2021-11-26T08:30:10.791969",
     "exception": false,
     "start_time": "2021-11-26T08:30:10.748735",
     "status": "completed"
    },
    "tags": []
   },
   "outputs": [],
   "source": [
    "df_pivot.columns = [\"stamp_1\", \"stamp_2\"]\n",
    "df_pivot_diff = df_pivot.diff(axis=1)"
   ]
  },
  {
   "cell_type": "code",
   "execution_count": 7,
   "id": "fifth-motion",
   "metadata": {
    "execution": {
     "iopub.execute_input": "2021-11-26T08:30:10.853434Z",
     "iopub.status.busy": "2021-11-26T08:30:10.850693Z",
     "iopub.status.idle": "2021-11-26T08:30:12.833256Z",
     "shell.execute_reply": "2021-11-26T08:30:12.835863Z"
    },
    "papermill": {
     "duration": 2.023793,
     "end_time": "2021-11-26T08:30:12.836763",
     "exception": false,
     "start_time": "2021-11-26T08:30:10.812970",
     "status": "completed"
    },
    "tags": []
   },
   "outputs": [
    {
     "data": {
      "text/plain": [
       "<AxesSubplot:ylabel='PRODUCT'>"
      ]
     },
     "execution_count": 7,
     "metadata": {},
     "output_type": "execute_result"
    },
    {
     "data": {
      "image/png": "[encoded data removed]",
      "text/plain": [
       "<Figure size 432x288 with 1 Axes>"
      ]
     },
     "metadata": {
      "needs_background": "light"
     },
     "output_type": "display_data"
    }
   ],
   "source": [
    "df_pivot_diff.sort_values(\"stamp_2\", ascending = False)[\"stamp_2\"].head(10).plot.barh()"
   ]
  },
  {
   "cell_type": "code",
   "execution_count": null,
   "id": "extra-executive",
   "metadata": {
    "papermill": {
     "duration": 0.028448,
     "end_time": "2021-11-26T08:30:12.900053",
     "exception": false,
     "start_time": "2021-11-26T08:30:12.871605",
     "status": "completed"
    },
    "tags": []
   },
   "outputs": [],
   "source": []
  }
 ],
 "metadata": {
  "kernelspec": {
   "display_name": "Python 3",
   "language": "python",
   "name": "python3"
  },
  "language_info": {
   "codemirror_mode": {
    "name": "ipython",
    "version": 3
   },
   "file_extension": ".py",
   "mimetype": "text/x-python",
   "name": "python",
   "nbconvert_exporter": "python",
   "pygments_lexer": "ipython3",
   "version": "3.9.5"
  },
  "papermill": {
   "default_parameters": {},
   "duration": 9.931457,
   "end_time": "2021-11-26T08:30:14.372232",
   "environment_variables": {},
   "exception": null,
   "input_path": "eBay_Overview.ipynb",
   "output_path": "eBay_Overview.ipynb",
   "parameters": {},
   "start_time": "2021-11-26T08:30:04.440775",
   "version": "2.3.3"
  }
 },
 "nbformat": 4,
 "nbformat_minor": 5
}