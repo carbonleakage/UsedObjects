{
 "cells": [
  {
   "cell_type": "code",
   "execution_count": 1,
   "id": "reverse-picking",
   "metadata": {
    "execution": {
     "iopub.execute_input": "2021-10-05T17:30:06.793121Z",
     "iopub.status.busy": "2021-10-05T17:30:06.791137Z",
     "iopub.status.idle": "2021-10-05T17:30:07.596758Z",
     "shell.execute_reply": "2021-10-05T17:30:07.598048Z"
    },
    "papermill": {
     "duration": 0.858455,
     "end_time": "2021-10-05T17:30:07.598664",
     "exception": false,
     "start_time": "2021-10-05T17:30:06.740209",
     "status": "completed"
    },
    "tags": []
   },
   "outputs": [],
   "source": [
    "import pandas as pd\n",
    "import sqlite3"
   ]
  },
  {
   "cell_type": "code",
   "execution_count": 2,
   "id": "innovative-syndrome",
   "metadata": {
    "execution": {
     "iopub.execute_input": "2021-10-05T17:30:07.649069Z",
     "iopub.status.busy": "2021-10-05T17:30:07.647208Z",
     "iopub.status.idle": "2021-10-05T17:30:08.106294Z",
     "shell.execute_reply": "2021-10-05T17:30:08.108285Z"
    },
    "papermill": {
     "duration": 0.489436,
     "end_time": "2021-10-05T17:30:08.108831",
     "exception": false,
     "start_time": "2021-10-05T17:30:07.619395",
     "status": "completed"
    },
    "tags": []
   },
   "outputs": [],
   "source": [
    "timestamps = pd.read_sql(\"select distinct record_time from EBAY_TOP_BERLIN order by record_time desc limit 2\", sqlite3.connect(\"UsedObjects.db\"))"
   ]
  },
  {
   "cell_type": "code",
   "execution_count": 3,
   "id": "periodic-identification",
   "metadata": {
    "execution": {
     "iopub.execute_input": "2021-10-05T17:30:08.173395Z",
     "iopub.status.busy": "2021-10-05T17:30:08.171275Z",
     "iopub.status.idle": "2021-10-05T17:30:08.191697Z",
     "shell.execute_reply": "2021-10-05T17:30:08.192835Z"
    },
    "papermill": {
     "duration": 0.065304,
     "end_time": "2021-10-05T17:30:08.193241",
     "exception": false,
     "start_time": "2021-10-05T17:30:08.127937",
     "status": "completed"
    },
    "tags": []
   },
   "outputs": [
    {
     "data": {
      "text/html": [
       "<div>\n",
       "<style scoped>\n",
       "    .dataframe tbody tr th:only-of-type {\n",
       "        vertical-align: middle;\n",
       "    }\n",
       "\n",
       "    .dataframe tbody tr th {\n",
       "        vertical-align: top;\n",
       "    }\n",
       "\n",
       "    .dataframe thead th {\n",
       "        text-align: right;\n",
       "    }\n",
       "</style>\n",
       "<table border=\"1\" class=\"dataframe\">\n",
       "  <thead>\n",
       "    <tr style=\"text-align: right;\">\n",
       "      <th></th>\n",
       "      <th>RECORD_TIME</th>\n",
       "    </tr>\n",
       "  </thead>\n",
       "  <tbody>\n",
       "    <tr>\n",
       "      <th>0</th>\n",
       "      <td>2021-10-05 19:30</td>\n",
       "    </tr>\n",
       "    <tr>\n",
       "      <th>1</th>\n",
       "      <td>2021-10-05 19:00</td>\n",
       "    </tr>\n",
       "  </tbody>\n",
       "</table>\n",
       "</div>"
      ],
      "text/plain": [
       "        RECORD_TIME\n",
       "0  2021-10-05 19:30\n",
       "1  2021-10-05 19:00"
      ]
     },
     "execution_count": 3,
     "metadata": {},
     "output_type": "execute_result"
    }
   ],
   "source": [
    "timestamps"
   ]
  },
  {
   "cell_type": "code",
   "execution_count": 4,
   "id": "alternate-victory",
   "metadata": {
    "execution": {
     "iopub.execute_input": "2021-10-05T17:30:08.253507Z",
     "iopub.status.busy": "2021-10-05T17:30:08.251634Z",
     "iopub.status.idle": "2021-10-05T17:30:08.920477Z",
     "shell.execute_reply": "2021-10-05T17:30:08.921681Z"
    },
    "papermill": {
     "duration": 0.700745,
     "end_time": "2021-10-05T17:30:08.922078",
     "exception": false,
     "start_time": "2021-10-05T17:30:08.221333",
     "status": "completed"
    },
    "tags": []
   },
   "outputs": [],
   "source": [
    "df = pd.read_sql(\"select * from EBAY_TOP_BERLIN where record_time in (select distinct record_time from EBAY_TOP_BERLIN order by record_time desc limit 2)\", sqlite3.connect(\"UsedObjects.db\"))"
   ]
  },
  {
   "cell_type": "code",
   "execution_count": 5,
   "id": "popular-active",
   "metadata": {
    "execution": {
     "iopub.execute_input": "2021-10-05T17:30:08.991625Z",
     "iopub.status.busy": "2021-10-05T17:30:08.978986Z",
     "iopub.status.idle": "2021-10-05T17:30:09.007592Z",
     "shell.execute_reply": "2021-10-05T17:30:09.008999Z"
    },
    "papermill": {
     "duration": 0.067143,
     "end_time": "2021-10-05T17:30:09.009440",
     "exception": false,
     "start_time": "2021-10-05T17:30:08.942297",
     "status": "completed"
    },
    "tags": []
   },
   "outputs": [],
   "source": [
    "df_pivot = df.pivot_table(index=\"PRODUCT\", columns = \"RECORD_TIME\", values = \"LISTING_COUNT\")"
   ]
  },
  {
   "cell_type": "code",
   "execution_count": 6,
   "id": "union-huntington",
   "metadata": {
    "execution": {
     "iopub.execute_input": "2021-10-05T17:30:09.066694Z",
     "iopub.status.busy": "2021-10-05T17:30:09.064242Z",
     "iopub.status.idle": "2021-10-05T17:30:09.070090Z",
     "shell.execute_reply": "2021-10-05T17:30:09.071475Z"
    },
    "papermill": {
     "duration": 0.042292,
     "end_time": "2021-10-05T17:30:09.071900",
     "exception": false,
     "start_time": "2021-10-05T17:30:09.029608",
     "status": "completed"
    },
    "tags": []
   },
   "outputs": [],
   "source": [
    "df_pivot.columns = [\"stamp_1\", \"stamp_2\"]\n",
    "df_pivot_diff = df_pivot.diff(axis=1)"
   ]
  },
  {
   "cell_type": "code",
   "execution_count": 7,
   "id": "fifth-motion",
   "metadata": {
    "execution": {
     "iopub.execute_input": "2021-10-05T17:30:09.126072Z",
     "iopub.status.busy": "2021-10-05T17:30:09.123784Z",
     "iopub.status.idle": "2021-10-05T17:30:10.617225Z",
     "shell.execute_reply": "2021-10-05T17:30:10.618521Z"
    },
    "papermill": {
     "duration": 1.526706,
     "end_time": "2021-10-05T17:30:10.619003",
     "exception": false,
     "start_time": "2021-10-05T17:30:09.092297",
     "status": "completed"
    },
    "tags": []
   },
   "outputs": [
    {
     "data": {
      "text/plain": [
       "<AxesSubplot:ylabel='PRODUCT'>"
      ]
     },
     "execution_count": 7,
     "metadata": {},
     "output_type": "execute_result"
    },
    {
     "data": {
      "image/png": "[encoded data removed]",
      "text/plain": [
       "<Figure size 432x288 with 1 Axes>"
      ]
     },
     "metadata": {
      "needs_background": "light"
     },
     "output_type": "display_data"
    }
   ],
   "source": [
    "df_pivot_diff.sort_values(\"stamp_2\", ascending = False)[\"stamp_2\"].head(10).plot.barh()"
   ]
  },
  {
   "cell_type": "code",
   "execution_count": null,
   "id": "extra-executive",
   "metadata": {
    "papermill": {
     "duration": 0.021855,
     "end_time": "2021-10-05T17:30:10.665350",
     "exception": false,
     "start_time": "2021-10-05T17:30:10.643495",
     "status": "completed"
    },
    "tags": []
   },
   "outputs": [],
   "source": []
  }
 ],
 "metadata": {
  "kernelspec": {
   "display_name": "Python 3",
   "language": "python",
   "name": "python3"
  },
  "language_info": {
   "codemirror_mode": {
    "name": "ipython",
    "version": 3
   },
   "file_extension": ".py",
   "mimetype": "text/x-python",
   "name": "python",
   "nbconvert_exporter": "python",
   "pygments_lexer": "ipython3",
   "version": "3.9.5"
  },
  "papermill": {
   "default_parameters": {},
   "duration": 7.823045,
   "end_time": "2021-10-05T17:30:12.157497",
   "environment_variables": {},
   "exception": null,
   "input_path": "eBay_Overview.ipynb",
   "output_path": "eBay_Overview.ipynb",
   "parameters": {},
   "start_time": "2021-10-05T17:30:04.334452",
   "version": "2.3.3"
  }
 },
 "nbformat": 4,
 "nbformat_minor": 5
}