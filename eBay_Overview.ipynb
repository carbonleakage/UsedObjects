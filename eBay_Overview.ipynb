{
 "cells": [
  {
   "cell_type": "code",
   "execution_count": 1,
   "id": "reverse-picking",
   "metadata": {
    "execution": {
     "iopub.execute_input": "2021-09-04T00:30:06.970367Z",
     "iopub.status.busy": "2021-09-04T00:30:06.968445Z",
     "iopub.status.idle": "2021-09-04T00:30:07.774647Z",
     "shell.execute_reply": "2021-09-04T00:30:07.776007Z"
    },
    "papermill": {
     "duration": 0.857814,
     "end_time": "2021-09-04T00:30:07.776639",
     "exception": false,
     "start_time": "2021-09-04T00:30:06.918825",
     "status": "completed"
    },
    "tags": []
   },
   "outputs": [],
   "source": [
    "import pandas as pd\n",
    "import sqlite3"
   ]
  },
  {
   "cell_type": "code",
   "execution_count": 2,
   "id": "innovative-syndrome",
   "metadata": {
    "execution": {
     "iopub.execute_input": "2021-09-04T00:30:07.827851Z",
     "iopub.status.busy": "2021-09-04T00:30:07.825836Z",
     "iopub.status.idle": "2021-09-04T00:30:08.029467Z",
     "shell.execute_reply": "2021-09-04T00:30:08.030677Z"
    },
    "papermill": {
     "duration": 0.233118,
     "end_time": "2021-09-04T00:30:08.031257",
     "exception": false,
     "start_time": "2021-09-04T00:30:07.798139",
     "status": "completed"
    },
    "tags": []
   },
   "outputs": [],
   "source": [
    "timestamps = pd.read_sql(\"select distinct record_time from EBAY_TOP_BERLIN order by record_time desc limit 2\", sqlite3.connect(\"UsedObjects.db\"))"
   ]
  },
  {
   "cell_type": "code",
   "execution_count": 3,
   "id": "periodic-identification",
   "metadata": {
    "execution": {
     "iopub.execute_input": "2021-09-04T00:30:08.098570Z",
     "iopub.status.busy": "2021-09-04T00:30:08.096553Z",
     "iopub.status.idle": "2021-09-04T00:30:08.117205Z",
     "shell.execute_reply": "2021-09-04T00:30:08.118789Z"
    },
    "papermill": {
     "duration": 0.066647,
     "end_time": "2021-09-04T00:30:08.119357",
     "exception": false,
     "start_time": "2021-09-04T00:30:08.052710",
     "status": "completed"
    },
    "tags": []
   },
   "outputs": [
    {
     "data": {
      "text/html": [
       "<div>\n",
       "<style scoped>\n",
       "    .dataframe tbody tr th:only-of-type {\n",
       "        vertical-align: middle;\n",
       "    }\n",
       "\n",
       "    .dataframe tbody tr th {\n",
       "        vertical-align: top;\n",
       "    }\n",
       "\n",
       "    .dataframe thead th {\n",
       "        text-align: right;\n",
       "    }\n",
       "</style>\n",
       "<table border=\"1\" class=\"dataframe\">\n",
       "  <thead>\n",
       "    <tr style=\"text-align: right;\">\n",
       "      <th></th>\n",
       "      <th>RECORD_TIME</th>\n",
       "    </tr>\n",
       "  </thead>\n",
       "  <tbody>\n",
       "    <tr>\n",
       "      <th>0</th>\n",
       "      <td>2021-09-04 02:30</td>\n",
       "    </tr>\n",
       "    <tr>\n",
       "      <th>1</th>\n",
       "      <td>2021-09-04 02:00</td>\n",
       "    </tr>\n",
       "  </tbody>\n",
       "</table>\n",
       "</div>"
      ],
      "text/plain": [
       "        RECORD_TIME\n",
       "0  2021-09-04 02:30\n",
       "1  2021-09-04 02:00"
      ]
     },
     "execution_count": 3,
     "metadata": {},
     "output_type": "execute_result"
    }
   ],
   "source": [
    "timestamps"
   ]
  },
  {
   "cell_type": "code",
   "execution_count": 4,
   "id": "alternate-victory",
   "metadata": {
    "execution": {
     "iopub.execute_input": "2021-09-04T00:30:08.170811Z",
     "iopub.status.busy": "2021-09-04T00:30:08.168978Z",
     "iopub.status.idle": "2021-09-04T00:30:08.473752Z",
     "shell.execute_reply": "2021-09-04T00:30:08.475144Z"
    },
    "papermill": {
     "duration": 0.334843,
     "end_time": "2021-09-04T00:30:08.475623",
     "exception": false,
     "start_time": "2021-09-04T00:30:08.140780",
     "status": "completed"
    },
    "tags": []
   },
   "outputs": [],
   "source": [
    "df = pd.read_sql(\"select * from EBAY_TOP_BERLIN where record_time in (select distinct record_time from EBAY_TOP_BERLIN order by record_time desc limit 2)\", sqlite3.connect(\"UsedObjects.db\"))"
   ]
  },
  {
   "cell_type": "code",
   "execution_count": 5,
   "id": "popular-active",
   "metadata": {
    "execution": {
     "iopub.execute_input": "2021-09-04T00:30:08.568302Z",
     "iopub.status.busy": "2021-09-04T00:30:08.552784Z",
     "iopub.status.idle": "2021-09-04T00:30:08.584768Z",
     "shell.execute_reply": "2021-09-04T00:30:08.586133Z"
    },
    "papermill": {
     "duration": 0.079492,
     "end_time": "2021-09-04T00:30:08.586570",
     "exception": false,
     "start_time": "2021-09-04T00:30:08.507078",
     "status": "completed"
    },
    "tags": []
   },
   "outputs": [],
   "source": [
    "df_pivot = df.pivot_table(index=\"PRODUCT\", columns = \"RECORD_TIME\", values = \"LISTING_COUNT\")"
   ]
  },
  {
   "cell_type": "code",
   "execution_count": 6,
   "id": "union-huntington",
   "metadata": {
    "execution": {
     "iopub.execute_input": "2021-09-04T00:30:08.646372Z",
     "iopub.status.busy": "2021-09-04T00:30:08.643943Z",
     "iopub.status.idle": "2021-09-04T00:30:08.649853Z",
     "shell.execute_reply": "2021-09-04T00:30:08.651203Z"
    },
    "papermill": {
     "duration": 0.04235,
     "end_time": "2021-09-04T00:30:08.651632",
     "exception": false,
     "start_time": "2021-09-04T00:30:08.609282",
     "status": "completed"
    },
    "tags": []
   },
   "outputs": [],
   "source": [
    "df_pivot.columns = [\"stamp_1\", \"stamp_2\"]\n",
    "df_pivot_diff = df_pivot.diff(axis=1)"
   ]
  },
  {
   "cell_type": "code",
   "execution_count": 7,
   "id": "fifth-motion",
   "metadata": {
    "execution": {
     "iopub.execute_input": "2021-09-04T00:30:08.706217Z",
     "iopub.status.busy": "2021-09-04T00:30:08.703813Z",
     "iopub.status.idle": "2021-09-04T00:30:10.192831Z",
     "shell.execute_reply": "2021-09-04T00:30:10.194120Z"
    },
    "papermill": {
     "duration": 1.522803,
     "end_time": "2021-09-04T00:30:10.194542",
     "exception": false,
     "start_time": "2021-09-04T00:30:08.671739",
     "status": "completed"
    },
    "tags": []
   },
   "outputs": [
    {
     "data": {
      "text/plain": [
       "<AxesSubplot:ylabel='PRODUCT'>"
      ]
     },
     "execution_count": 7,
     "metadata": {},
     "output_type": "execute_result"
    },
    {
     "data": {
      "image/png": "[encoded data removed]",
      "text/plain": [
       "<Figure size 432x288 with 1 Axes>"
      ]
     },
     "metadata": {
      "needs_background": "light"
     },
     "output_type": "display_data"
    }
   ],
   "source": [
    "df_pivot_diff.sort_values(\"stamp_2\", ascending = False)[\"stamp_2\"].head(10).plot.barh()"
   ]
  },
  {
   "cell_type": "code",
   "execution_count": null,
   "id": "extra-executive",
   "metadata": {
    "papermill": {
     "duration": 0.022197,
     "end_time": "2021-09-04T00:30:10.241282",
     "exception": false,
     "start_time": "2021-09-04T00:30:10.219085",
     "status": "completed"
    },
    "tags": []
   },
   "outputs": [],
   "source": []
  }
 ],
 "metadata": {
  "kernelspec": {
   "display_name": "Python 3",
   "language": "python",
   "name": "python3"
  },
  "language_info": {
   "codemirror_mode": {
    "name": "ipython",
    "version": 3
   },
   "file_extension": ".py",
   "mimetype": "text/x-python",
   "name": "python",
   "nbconvert_exporter": "python",
   "pygments_lexer": "ipython3",
   "version": "3.9.5"
  },
  "papermill": {
   "default_parameters": {},
   "duration": 6.365412,
   "end_time": "2021-09-04T00:30:10.882162",
   "environment_variables": {},
   "exception": null,
   "input_path": "eBay_Overview.ipynb",
   "output_path": "eBay_Overview.ipynb",
   "parameters": {},
   "start_time": "2021-09-04T00:30:04.516750",
   "version": "2.3.3"
  }
 },
 "nbformat": 4,
 "nbformat_minor": 5
}