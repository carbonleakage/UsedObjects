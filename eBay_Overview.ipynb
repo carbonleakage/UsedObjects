{
 "cells": [
  {
   "cell_type": "code",
   "execution_count": 1,
   "id": "reverse-picking",
   "metadata": {
    "execution": {
     "iopub.execute_input": "2021-10-21T17:00:07.370586Z",
     "iopub.status.busy": "2021-10-21T17:00:07.368564Z",
     "iopub.status.idle": "2021-10-21T17:00:08.175733Z",
     "shell.execute_reply": "2021-10-21T17:00:08.174184Z"
    },
    "papermill": {
     "duration": 0.857797,
     "end_time": "2021-10-21T17:00:08.176130",
     "exception": false,
     "start_time": "2021-10-21T17:00:07.318333",
     "status": "completed"
    },
    "tags": []
   },
   "outputs": [],
   "source": [
    "import pandas as pd\n",
    "import sqlite3"
   ]
  },
  {
   "cell_type": "code",
   "execution_count": 2,
   "id": "innovative-syndrome",
   "metadata": {
    "execution": {
     "iopub.execute_input": "2021-10-21T17:00:08.226841Z",
     "iopub.status.busy": "2021-10-21T17:00:08.224953Z",
     "iopub.status.idle": "2021-10-21T17:00:08.812403Z",
     "shell.execute_reply": "2021-10-21T17:00:08.813587Z"
    },
    "papermill": {
     "duration": 0.616961,
     "end_time": "2021-10-21T17:00:08.814002",
     "exception": false,
     "start_time": "2021-10-21T17:00:08.197041",
     "status": "completed"
    },
    "tags": []
   },
   "outputs": [],
   "source": [
    "timestamps = pd.read_sql(\"select distinct record_time from EBAY_TOP_BERLIN order by record_time desc limit 2\", sqlite3.connect(\"UsedObjects.db\"))"
   ]
  },
  {
   "cell_type": "code",
   "execution_count": 3,
   "id": "periodic-identification",
   "metadata": {
    "execution": {
     "iopub.execute_input": "2021-10-21T17:00:08.890048Z",
     "iopub.status.busy": "2021-10-21T17:00:08.887964Z",
     "iopub.status.idle": "2021-10-21T17:00:08.911020Z",
     "shell.execute_reply": "2021-10-21T17:00:08.912418Z"
    },
    "papermill": {
     "duration": 0.07174,
     "end_time": "2021-10-21T17:00:08.912916",
     "exception": false,
     "start_time": "2021-10-21T17:00:08.841176",
     "status": "completed"
    },
    "tags": []
   },
   "outputs": [
    {
     "data": {
      "text/html": [
       "<div>\n",
       "<style scoped>\n",
       "    .dataframe tbody tr th:only-of-type {\n",
       "        vertical-align: middle;\n",
       "    }\n",
       "\n",
       "    .dataframe tbody tr th {\n",
       "        vertical-align: top;\n",
       "    }\n",
       "\n",
       "    .dataframe thead th {\n",
       "        text-align: right;\n",
       "    }\n",
       "</style>\n",
       "<table border=\"1\" class=\"dataframe\">\n",
       "  <thead>\n",
       "    <tr style=\"text-align: right;\">\n",
       "      <th></th>\n",
       "      <th>RECORD_TIME</th>\n",
       "    </tr>\n",
       "  </thead>\n",
       "  <tbody>\n",
       "    <tr>\n",
       "      <th>0</th>\n",
       "      <td>2021-10-21 19:00</td>\n",
       "    </tr>\n",
       "    <tr>\n",
       "      <th>1</th>\n",
       "      <td>2021-10-21 18:30</td>\n",
       "    </tr>\n",
       "  </tbody>\n",
       "</table>\n",
       "</div>"
      ],
      "text/plain": [
       "        RECORD_TIME\n",
       "0  2021-10-21 19:00\n",
       "1  2021-10-21 18:30"
      ]
     },
     "execution_count": 3,
     "metadata": {},
     "output_type": "execute_result"
    }
   ],
   "source": [
    "timestamps"
   ]
  },
  {
   "cell_type": "code",
   "execution_count": 4,
   "id": "alternate-victory",
   "metadata": {
    "execution": {
     "iopub.execute_input": "2021-10-21T17:00:08.964354Z",
     "iopub.status.busy": "2021-10-21T17:00:08.962434Z",
     "iopub.status.idle": "2021-10-21T17:00:09.839014Z",
     "shell.execute_reply": "2021-10-21T17:00:09.840224Z"
    },
    "papermill": {
     "duration": 0.907153,
     "end_time": "2021-10-21T17:00:09.840631",
     "exception": false,
     "start_time": "2021-10-21T17:00:08.933478",
     "status": "completed"
    },
    "tags": []
   },
   "outputs": [],
   "source": [
    "df = pd.read_sql(\"select * from EBAY_TOP_BERLIN where record_time in (select distinct record_time from EBAY_TOP_BERLIN order by record_time desc limit 2)\", sqlite3.connect(\"UsedObjects.db\"))"
   ]
  },
  {
   "cell_type": "code",
   "execution_count": 5,
   "id": "popular-active",
   "metadata": {
    "execution": {
     "iopub.execute_input": "2021-10-21T17:00:09.912795Z",
     "iopub.status.busy": "2021-10-21T17:00:09.900509Z",
     "iopub.status.idle": "2021-10-21T17:00:09.928570Z",
     "shell.execute_reply": "2021-10-21T17:00:09.929916Z"
    },
    "papermill": {
     "duration": 0.067419,
     "end_time": "2021-10-21T17:00:09.930340",
     "exception": false,
     "start_time": "2021-10-21T17:00:09.862921",
     "status": "completed"
    },
    "tags": []
   },
   "outputs": [],
   "source": [
    "df_pivot = df.pivot_table(index=\"PRODUCT\", columns = \"RECORD_TIME\", values = \"LISTING_COUNT\")"
   ]
  },
  {
   "cell_type": "code",
   "execution_count": 6,
   "id": "union-huntington",
   "metadata": {
    "execution": {
     "iopub.execute_input": "2021-10-21T17:00:09.986903Z",
     "iopub.status.busy": "2021-10-21T17:00:09.984836Z",
     "iopub.status.idle": "2021-10-21T17:00:09.989992Z",
     "shell.execute_reply": "2021-10-21T17:00:09.991267Z"
    },
    "papermill": {
     "duration": 0.040025,
     "end_time": "2021-10-21T17:00:09.991682",
     "exception": false,
     "start_time": "2021-10-21T17:00:09.951657",
     "status": "completed"
    },
    "tags": []
   },
   "outputs": [],
   "source": [
    "df_pivot.columns = [\"stamp_1\", \"stamp_2\"]\n",
    "df_pivot_diff = df_pivot.diff(axis=1)"
   ]
  },
  {
   "cell_type": "code",
   "execution_count": 7,
   "id": "fifth-motion",
   "metadata": {
    "execution": {
     "iopub.execute_input": "2021-10-21T17:00:10.046141Z",
     "iopub.status.busy": "2021-10-21T17:00:10.043557Z",
     "iopub.status.idle": "2021-10-21T17:00:11.523233Z",
     "shell.execute_reply": "2021-10-21T17:00:11.524893Z"
    },
    "papermill": {
     "duration": 1.513339,
     "end_time": "2021-10-21T17:00:11.525428",
     "exception": false,
     "start_time": "2021-10-21T17:00:10.012089",
     "status": "completed"
    },
    "tags": []
   },
   "outputs": [
    {
     "data": {
      "text/plain": [
       "<AxesSubplot:ylabel='PRODUCT'>"
      ]
     },
     "execution_count": 7,
     "metadata": {},
     "output_type": "execute_result"
    },
    {
     "data": {
      "image/png": "[encoded data removed]",
      "text/plain": [
       "<Figure size 432x288 with 1 Axes>"
      ]
     },
     "metadata": {
      "needs_background": "light"
     },
     "output_type": "display_data"
    }
   ],
   "source": [
    "df_pivot_diff.sort_values(\"stamp_2\", ascending = False)[\"stamp_2\"].head(10).plot.barh()"
   ]
  },
  {
   "cell_type": "code",
   "execution_count": null,
   "id": "extra-executive",
   "metadata": {
    "papermill": {
     "duration": 0.022179,
     "end_time": "2021-10-21T17:00:11.573514",
     "exception": false,
     "start_time": "2021-10-21T17:00:11.551335",
     "status": "completed"
    },
    "tags": []
   },
   "outputs": [],
   "source": []
  }
 ],
 "metadata": {
  "kernelspec": {
   "display_name": "Python 3",
   "language": "python",
   "name": "python3"
  },
  "language_info": {
   "codemirror_mode": {
    "name": "ipython",
    "version": 3
   },
   "file_extension": ".py",
   "mimetype": "text/x-python",
   "name": "python",
   "nbconvert_exporter": "python",
   "pygments_lexer": "ipython3",
   "version": "3.9.5"
  },
  "papermill": {
   "default_parameters": {},
   "duration": 7.824542,
   "end_time": "2021-10-21T17:00:12.732782",
   "environment_variables": {},
   "exception": null,
   "input_path": "eBay_Overview.ipynb",
   "output_path": "eBay_Overview.ipynb",
   "parameters": {},
   "start_time": "2021-10-21T17:00:04.908240",
   "version": "2.3.3"
  }
 },
 "nbformat": 4,
 "nbformat_minor": 5
}