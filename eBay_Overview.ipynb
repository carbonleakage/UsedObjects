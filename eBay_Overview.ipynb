{
 "cells": [
  {
   "cell_type": "code",
   "execution_count": 1,
   "id": "reverse-picking",
   "metadata": {
    "execution": {
     "iopub.execute_input": "2021-09-06T22:00:06.660657Z",
     "iopub.status.busy": "2021-09-06T22:00:06.658630Z",
     "iopub.status.idle": "2021-09-06T22:00:07.470990Z",
     "shell.execute_reply": "2021-09-06T22:00:07.472469Z"
    },
    "papermill": {
     "duration": 0.863156,
     "end_time": "2021-09-06T22:00:07.473133",
     "exception": false,
     "start_time": "2021-09-06T22:00:06.609977",
     "status": "completed"
    },
    "tags": []
   },
   "outputs": [],
   "source": [
    "import pandas as pd\n",
    "import sqlite3"
   ]
  },
  {
   "cell_type": "code",
   "execution_count": 2,
   "id": "innovative-syndrome",
   "metadata": {
    "execution": {
     "iopub.execute_input": "2021-09-06T22:00:07.523375Z",
     "iopub.status.busy": "2021-09-06T22:00:07.521430Z",
     "iopub.status.idle": "2021-09-06T22:00:07.740640Z",
     "shell.execute_reply": "2021-09-06T22:00:07.741900Z"
    },
    "papermill": {
     "duration": 0.248667,
     "end_time": "2021-09-06T22:00:07.742309",
     "exception": false,
     "start_time": "2021-09-06T22:00:07.493642",
     "status": "completed"
    },
    "tags": []
   },
   "outputs": [],
   "source": [
    "timestamps = pd.read_sql(\"select distinct record_time from EBAY_TOP_BERLIN order by record_time desc limit 2\", sqlite3.connect(\"UsedObjects.db\"))"
   ]
  },
  {
   "cell_type": "code",
   "execution_count": 3,
   "id": "periodic-identification",
   "metadata": {
    "execution": {
     "iopub.execute_input": "2021-09-06T22:00:07.808658Z",
     "iopub.status.busy": "2021-09-06T22:00:07.806566Z",
     "iopub.status.idle": "2021-09-06T22:00:07.827325Z",
     "shell.execute_reply": "2021-09-06T22:00:07.828538Z"
    },
    "papermill": {
     "duration": 0.067316,
     "end_time": "2021-09-06T22:00:07.828970",
     "exception": false,
     "start_time": "2021-09-06T22:00:07.761654",
     "status": "completed"
    },
    "tags": []
   },
   "outputs": [
    {
     "data": {
      "text/html": [
       "<div>\n",
       "<style scoped>\n",
       "    .dataframe tbody tr th:only-of-type {\n",
       "        vertical-align: middle;\n",
       "    }\n",
       "\n",
       "    .dataframe tbody tr th {\n",
       "        vertical-align: top;\n",
       "    }\n",
       "\n",
       "    .dataframe thead th {\n",
       "        text-align: right;\n",
       "    }\n",
       "</style>\n",
       "<table border=\"1\" class=\"dataframe\">\n",
       "  <thead>\n",
       "    <tr style=\"text-align: right;\">\n",
       "      <th></th>\n",
       "      <th>RECORD_TIME</th>\n",
       "    </tr>\n",
       "  </thead>\n",
       "  <tbody>\n",
       "    <tr>\n",
       "      <th>0</th>\n",
       "      <td>2021-09-07 00:00</td>\n",
       "    </tr>\n",
       "    <tr>\n",
       "      <th>1</th>\n",
       "      <td>2021-09-06 23:30</td>\n",
       "    </tr>\n",
       "  </tbody>\n",
       "</table>\n",
       "</div>"
      ],
      "text/plain": [
       "        RECORD_TIME\n",
       "0  2021-09-07 00:00\n",
       "1  2021-09-06 23:30"
      ]
     },
     "execution_count": 3,
     "metadata": {},
     "output_type": "execute_result"
    }
   ],
   "source": [
    "timestamps"
   ]
  },
  {
   "cell_type": "code",
   "execution_count": 4,
   "id": "alternate-victory",
   "metadata": {
    "execution": {
     "iopub.execute_input": "2021-09-06T22:00:07.883254Z",
     "iopub.status.busy": "2021-09-06T22:00:07.880907Z",
     "iopub.status.idle": "2021-09-06T22:00:08.213789Z",
     "shell.execute_reply": "2021-09-06T22:00:08.215121Z"
    },
    "papermill": {
     "duration": 0.363685,
     "end_time": "2021-09-06T22:00:08.215587",
     "exception": false,
     "start_time": "2021-09-06T22:00:07.851902",
     "status": "completed"
    },
    "tags": []
   },
   "outputs": [],
   "source": [
    "df = pd.read_sql(\"select * from EBAY_TOP_BERLIN where record_time in (select distinct record_time from EBAY_TOP_BERLIN order by record_time desc limit 2)\", sqlite3.connect(\"UsedObjects.db\"))"
   ]
  },
  {
   "cell_type": "code",
   "execution_count": 5,
   "id": "popular-active",
   "metadata": {
    "execution": {
     "iopub.execute_input": "2021-09-06T22:00:08.314485Z",
     "iopub.status.busy": "2021-09-06T22:00:08.303451Z",
     "iopub.status.idle": "2021-09-06T22:00:08.331331Z",
     "shell.execute_reply": "2021-09-06T22:00:08.332555Z"
    },
    "papermill": {
     "duration": 0.076253,
     "end_time": "2021-09-06T22:00:08.332948",
     "exception": false,
     "start_time": "2021-09-06T22:00:08.256695",
     "status": "completed"
    },
    "tags": []
   },
   "outputs": [],
   "source": [
    "df_pivot = df.pivot_table(index=\"PRODUCT\", columns = \"RECORD_TIME\", values = \"LISTING_COUNT\")"
   ]
  },
  {
   "cell_type": "code",
   "execution_count": 6,
   "id": "union-huntington",
   "metadata": {
    "execution": {
     "iopub.execute_input": "2021-09-06T22:00:08.390938Z",
     "iopub.status.busy": "2021-09-06T22:00:08.388623Z",
     "iopub.status.idle": "2021-09-06T22:00:08.394457Z",
     "shell.execute_reply": "2021-09-06T22:00:08.395738Z"
    },
    "papermill": {
     "duration": 0.041688,
     "end_time": "2021-09-06T22:00:08.396187",
     "exception": false,
     "start_time": "2021-09-06T22:00:08.354499",
     "status": "completed"
    },
    "tags": []
   },
   "outputs": [],
   "source": [
    "df_pivot.columns = [\"stamp_1\", \"stamp_2\"]\n",
    "df_pivot_diff = df_pivot.diff(axis=1)"
   ]
  },
  {
   "cell_type": "code",
   "execution_count": 7,
   "id": "fifth-motion",
   "metadata": {
    "execution": {
     "iopub.execute_input": "2021-09-06T22:00:08.450060Z",
     "iopub.status.busy": "2021-09-06T22:00:08.447851Z",
     "iopub.status.idle": "2021-09-06T22:00:09.928529Z",
     "shell.execute_reply": "2021-09-06T22:00:09.929815Z"
    },
    "papermill": {
     "duration": 1.51331,
     "end_time": "2021-09-06T22:00:09.930233",
     "exception": false,
     "start_time": "2021-09-06T22:00:08.416923",
     "status": "completed"
    },
    "tags": []
   },
   "outputs": [
    {
     "data": {
      "text/plain": [
       "<AxesSubplot:ylabel='PRODUCT'>"
      ]
     },
     "execution_count": 7,
     "metadata": {},
     "output_type": "execute_result"
    },
    {
     "data": {
      "image/png": "[encoded data removed]",
      "text/plain": [
       "<Figure size 432x288 with 1 Axes>"
      ]
     },
     "metadata": {
      "needs_background": "light"
     },
     "output_type": "display_data"
    }
   ],
   "source": [
    "df_pivot_diff.sort_values(\"stamp_2\", ascending = False)[\"stamp_2\"].head(10).plot.barh()"
   ]
  },
  {
   "cell_type": "code",
   "execution_count": null,
   "id": "extra-executive",
   "metadata": {
    "papermill": {
     "duration": 0.022187,
     "end_time": "2021-09-06T22:00:09.977216",
     "exception": false,
     "start_time": "2021-09-06T22:00:09.955029",
     "status": "completed"
    },
    "tags": []
   },
   "outputs": [],
   "source": []
  }
 ],
 "metadata": {
  "kernelspec": {
   "display_name": "Python 3",
   "language": "python",
   "name": "python3"
  },
  "language_info": {
   "codemirror_mode": {
    "name": "ipython",
    "version": 3
   },
   "file_extension": ".py",
   "mimetype": "text/x-python",
   "name": "python",
   "nbconvert_exporter": "python",
   "pygments_lexer": "ipython3",
   "version": "3.9.5"
  },
  "papermill": {
   "default_parameters": {},
   "duration": 6.430445,
   "end_time": "2021-09-06T22:00:10.619357",
   "environment_variables": {},
   "exception": null,
   "input_path": "eBay_Overview.ipynb",
   "output_path": "eBay_Overview.ipynb",
   "parameters": {},
   "start_time": "2021-09-06T22:00:04.188912",
   "version": "2.3.3"
  }
 },
 "nbformat": 4,
 "nbformat_minor": 5
}