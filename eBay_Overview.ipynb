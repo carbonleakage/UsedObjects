{
 "cells": [
  {
   "cell_type": "code",
   "execution_count": 1,
   "id": "reverse-picking",
   "metadata": {
    "execution": {
     "iopub.execute_input": "2021-09-01T05:30:06.940026Z",
     "iopub.status.busy": "2021-09-01T05:30:06.937934Z",
     "iopub.status.idle": "2021-09-01T05:30:07.740676Z",
     "shell.execute_reply": "2021-09-01T05:30:07.741920Z"
    },
    "papermill": {
     "duration": 0.853769,
     "end_time": "2021-09-01T05:30:07.742541",
     "exception": false,
     "start_time": "2021-09-01T05:30:06.888772",
     "status": "completed"
    },
    "tags": []
   },
   "outputs": [],
   "source": [
    "import pandas as pd\n",
    "import sqlite3"
   ]
  },
  {
   "cell_type": "code",
   "execution_count": 2,
   "id": "innovative-syndrome",
   "metadata": {
    "execution": {
     "iopub.execute_input": "2021-09-01T05:30:07.793563Z",
     "iopub.status.busy": "2021-09-01T05:30:07.791416Z",
     "iopub.status.idle": "2021-09-01T05:30:07.968306Z",
     "shell.execute_reply": "2021-09-01T05:30:07.969422Z"
    },
    "papermill": {
     "duration": 0.206747,
     "end_time": "2021-09-01T05:30:07.969834",
     "exception": false,
     "start_time": "2021-09-01T05:30:07.763087",
     "status": "completed"
    },
    "tags": []
   },
   "outputs": [],
   "source": [
    "timestamps = pd.read_sql(\"select distinct record_time from EBAY_TOP_BERLIN order by record_time desc limit 2\", sqlite3.connect(\"UsedObjects.db\"))"
   ]
  },
  {
   "cell_type": "code",
   "execution_count": 3,
   "id": "periodic-identification",
   "metadata": {
    "execution": {
     "iopub.execute_input": "2021-09-01T05:30:08.043086Z",
     "iopub.status.busy": "2021-09-01T05:30:08.037897Z",
     "iopub.status.idle": "2021-09-01T05:30:08.057822Z",
     "shell.execute_reply": "2021-09-01T05:30:08.059202Z"
    },
    "papermill": {
     "duration": 0.067059,
     "end_time": "2021-09-01T05:30:08.059629",
     "exception": false,
     "start_time": "2021-09-01T05:30:07.992570",
     "status": "completed"
    },
    "tags": []
   },
   "outputs": [
    {
     "data": {
      "text/html": [
       "<div>\n",
       "<style scoped>\n",
       "    .dataframe tbody tr th:only-of-type {\n",
       "        vertical-align: middle;\n",
       "    }\n",
       "\n",
       "    .dataframe tbody tr th {\n",
       "        vertical-align: top;\n",
       "    }\n",
       "\n",
       "    .dataframe thead th {\n",
       "        text-align: right;\n",
       "    }\n",
       "</style>\n",
       "<table border=\"1\" class=\"dataframe\">\n",
       "  <thead>\n",
       "    <tr style=\"text-align: right;\">\n",
       "      <th></th>\n",
       "      <th>RECORD_TIME</th>\n",
       "    </tr>\n",
       "  </thead>\n",
       "  <tbody>\n",
       "    <tr>\n",
       "      <th>0</th>\n",
       "      <td>2021-09-01 07:30</td>\n",
       "    </tr>\n",
       "    <tr>\n",
       "      <th>1</th>\n",
       "      <td>2021-09-01 07:00</td>\n",
       "    </tr>\n",
       "  </tbody>\n",
       "</table>\n",
       "</div>"
      ],
      "text/plain": [
       "        RECORD_TIME\n",
       "0  2021-09-01 07:30\n",
       "1  2021-09-01 07:00"
      ]
     },
     "execution_count": 3,
     "metadata": {},
     "output_type": "execute_result"
    }
   ],
   "source": [
    "timestamps"
   ]
  },
  {
   "cell_type": "code",
   "execution_count": 4,
   "id": "alternate-victory",
   "metadata": {
    "execution": {
     "iopub.execute_input": "2021-09-01T05:30:08.110829Z",
     "iopub.status.busy": "2021-09-01T05:30:08.109020Z",
     "iopub.status.idle": "2021-09-01T05:30:08.368508Z",
     "shell.execute_reply": "2021-09-01T05:30:08.369722Z"
    },
    "papermill": {
     "duration": 0.289777,
     "end_time": "2021-09-01T05:30:08.370122",
     "exception": false,
     "start_time": "2021-09-01T05:30:08.080345",
     "status": "completed"
    },
    "tags": []
   },
   "outputs": [],
   "source": [
    "df = pd.read_sql(\"select * from EBAY_TOP_BERLIN where record_time in (select distinct record_time from EBAY_TOP_BERLIN order by record_time desc limit 2)\", sqlite3.connect(\"UsedObjects.db\"))"
   ]
  },
  {
   "cell_type": "code",
   "execution_count": 5,
   "id": "popular-active",
   "metadata": {
    "execution": {
     "iopub.execute_input": "2021-09-01T05:30:08.450502Z",
     "iopub.status.busy": "2021-09-01T05:30:08.439470Z",
     "iopub.status.idle": "2021-09-01T05:30:08.467316Z",
     "shell.execute_reply": "2021-09-01T05:30:08.468714Z"
    },
    "papermill": {
     "duration": 0.072681,
     "end_time": "2021-09-01T05:30:08.469151",
     "exception": false,
     "start_time": "2021-09-01T05:30:08.396470",
     "status": "completed"
    },
    "tags": []
   },
   "outputs": [],
   "source": [
    "df_pivot = df.pivot_table(index=\"PRODUCT\", columns = \"RECORD_TIME\", values = \"LISTING_COUNT\")"
   ]
  },
  {
   "cell_type": "code",
   "execution_count": 6,
   "id": "union-huntington",
   "metadata": {
    "execution": {
     "iopub.execute_input": "2021-09-01T05:30:08.526454Z",
     "iopub.status.busy": "2021-09-01T05:30:08.524391Z",
     "iopub.status.idle": "2021-09-01T05:30:08.529724Z",
     "shell.execute_reply": "2021-09-01T05:30:08.531059Z"
    },
    "papermill": {
     "duration": 0.041554,
     "end_time": "2021-09-01T05:30:08.531479",
     "exception": false,
     "start_time": "2021-09-01T05:30:08.489925",
     "status": "completed"
    },
    "tags": []
   },
   "outputs": [],
   "source": [
    "df_pivot.columns = [\"stamp_1\", \"stamp_2\"]\n",
    "df_pivot_diff = df_pivot.diff(axis=1)"
   ]
  },
  {
   "cell_type": "code",
   "execution_count": 7,
   "id": "fifth-motion",
   "metadata": {
    "execution": {
     "iopub.execute_input": "2021-09-01T05:30:08.588415Z",
     "iopub.status.busy": "2021-09-01T05:30:08.585878Z",
     "iopub.status.idle": "2021-09-01T05:30:10.089568Z",
     "shell.execute_reply": "2021-09-01T05:30:10.091020Z"
    },
    "papermill": {
     "duration": 1.537468,
     "end_time": "2021-09-01T05:30:10.091497",
     "exception": false,
     "start_time": "2021-09-01T05:30:08.554029",
     "status": "completed"
    },
    "tags": []
   },
   "outputs": [
    {
     "data": {
      "text/plain": [
       "<AxesSubplot:ylabel='PRODUCT'>"
      ]
     },
     "execution_count": 7,
     "metadata": {},
     "output_type": "execute_result"
    },
    {
     "data": {
      "image/png": "[encoded data removed]",
      "text/plain": [
       "<Figure size 432x288 with 1 Axes>"
      ]
     },
     "metadata": {
      "needs_background": "light"
     },
     "output_type": "display_data"
    }
   ],
   "source": [
    "df_pivot_diff.sort_values(\"stamp_2\", ascending = False)[\"stamp_2\"].head(10).plot.barh()"
   ]
  },
  {
   "cell_type": "code",
   "execution_count": null,
   "id": "extra-executive",
   "metadata": {
    "papermill": {
     "duration": 0.022656,
     "end_time": "2021-09-01T05:30:10.139333",
     "exception": false,
     "start_time": "2021-09-01T05:30:10.116677",
     "status": "completed"
    },
    "tags": []
   },
   "outputs": [],
   "source": []
  }
 ],
 "metadata": {
  "kernelspec": {
   "display_name": "Python 3",
   "language": "python",
   "name": "python3"
  },
  "language_info": {
   "codemirror_mode": {
    "name": "ipython",
    "version": 3
   },
   "file_extension": ".py",
   "mimetype": "text/x-python",
   "name": "python",
   "nbconvert_exporter": "python",
   "pygments_lexer": "ipython3",
   "version": "3.9.5"
  },
  "papermill": {
   "default_parameters": {},
   "duration": 6.818304,
   "end_time": "2021-09-01T05:30:11.306795",
   "environment_variables": {},
   "exception": null,
   "input_path": "eBay_Overview.ipynb",
   "output_path": "eBay_Overview.ipynb",
   "parameters": {},
   "start_time": "2021-09-01T05:30:04.488491",
   "version": "2.3.3"
  }
 },
 "nbformat": 4,
 "nbformat_minor": 5
}