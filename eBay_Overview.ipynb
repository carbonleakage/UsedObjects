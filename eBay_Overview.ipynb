{
 "cells": [
  {
   "cell_type": "code",
   "execution_count": 1,
   "id": "reverse-picking",
   "metadata": {
    "execution": {
     "iopub.execute_input": "2021-10-26T00:00:07.006473Z",
     "iopub.status.busy": "2021-10-26T00:00:07.004455Z",
     "iopub.status.idle": "2021-10-26T00:00:07.812251Z",
     "shell.execute_reply": "2021-10-26T00:00:07.813576Z"
    },
    "papermill": {
     "duration": 0.860166,
     "end_time": "2021-10-26T00:00:07.814206",
     "exception": false,
     "start_time": "2021-10-26T00:00:06.954040",
     "status": "completed"
    },
    "tags": []
   },
   "outputs": [],
   "source": [
    "import pandas as pd\n",
    "import sqlite3"
   ]
  },
  {
   "cell_type": "code",
   "execution_count": 2,
   "id": "innovative-syndrome",
   "metadata": {
    "execution": {
     "iopub.execute_input": "2021-10-26T00:00:07.866641Z",
     "iopub.status.busy": "2021-10-26T00:00:07.864310Z",
     "iopub.status.idle": "2021-10-26T00:00:08.498725Z",
     "shell.execute_reply": "2021-10-26T00:00:08.499942Z"
    },
    "papermill": {
     "duration": 0.663826,
     "end_time": "2021-10-26T00:00:08.500336",
     "exception": false,
     "start_time": "2021-10-26T00:00:07.836510",
     "status": "completed"
    },
    "tags": []
   },
   "outputs": [],
   "source": [
    "timestamps = pd.read_sql(\"select distinct record_time from EBAY_TOP_BERLIN order by record_time desc limit 2\", sqlite3.connect(\"UsedObjects.db\"))"
   ]
  },
  {
   "cell_type": "code",
   "execution_count": 3,
   "id": "periodic-identification",
   "metadata": {
    "execution": {
     "iopub.execute_input": "2021-10-26T00:00:08.586344Z",
     "iopub.status.busy": "2021-10-26T00:00:08.580951Z",
     "iopub.status.idle": "2021-10-26T00:00:08.600627Z",
     "shell.execute_reply": "2021-10-26T00:00:08.602046Z"
    },
    "papermill": {
     "duration": 0.070575,
     "end_time": "2021-10-26T00:00:08.602460",
     "exception": false,
     "start_time": "2021-10-26T00:00:08.531885",
     "status": "completed"
    },
    "tags": []
   },
   "outputs": [
    {
     "data": {
      "text/html": [
       "<div>\n",
       "<style scoped>\n",
       "    .dataframe tbody tr th:only-of-type {\n",
       "        vertical-align: middle;\n",
       "    }\n",
       "\n",
       "    .dataframe tbody tr th {\n",
       "        vertical-align: top;\n",
       "    }\n",
       "\n",
       "    .dataframe thead th {\n",
       "        text-align: right;\n",
       "    }\n",
       "</style>\n",
       "<table border=\"1\" class=\"dataframe\">\n",
       "  <thead>\n",
       "    <tr style=\"text-align: right;\">\n",
       "      <th></th>\n",
       "      <th>RECORD_TIME</th>\n",
       "    </tr>\n",
       "  </thead>\n",
       "  <tbody>\n",
       "    <tr>\n",
       "      <th>0</th>\n",
       "      <td>2021-10-26 02:00</td>\n",
       "    </tr>\n",
       "    <tr>\n",
       "      <th>1</th>\n",
       "      <td>2021-10-26 01:30</td>\n",
       "    </tr>\n",
       "  </tbody>\n",
       "</table>\n",
       "</div>"
      ],
      "text/plain": [
       "        RECORD_TIME\n",
       "0  2021-10-26 02:00\n",
       "1  2021-10-26 01:30"
      ]
     },
     "execution_count": 3,
     "metadata": {},
     "output_type": "execute_result"
    }
   ],
   "source": [
    "timestamps"
   ]
  },
  {
   "cell_type": "code",
   "execution_count": 4,
   "id": "alternate-victory",
   "metadata": {
    "execution": {
     "iopub.execute_input": "2021-10-26T00:00:08.653252Z",
     "iopub.status.busy": "2021-10-26T00:00:08.651281Z",
     "iopub.status.idle": "2021-10-26T00:00:09.602249Z",
     "shell.execute_reply": "2021-10-26T00:00:09.603613Z"
    },
    "papermill": {
     "duration": 0.980846,
     "end_time": "2021-10-26T00:00:09.604048",
     "exception": false,
     "start_time": "2021-10-26T00:00:08.623202",
     "status": "completed"
    },
    "tags": []
   },
   "outputs": [],
   "source": [
    "df = pd.read_sql(\"select * from EBAY_TOP_BERLIN where record_time in (select distinct record_time from EBAY_TOP_BERLIN order by record_time desc limit 2)\", sqlite3.connect(\"UsedObjects.db\"))"
   ]
  },
  {
   "cell_type": "code",
   "execution_count": 5,
   "id": "popular-active",
   "metadata": {
    "execution": {
     "iopub.execute_input": "2021-10-26T00:00:09.674394Z",
     "iopub.status.busy": "2021-10-26T00:00:09.662308Z",
     "iopub.status.idle": "2021-10-26T00:00:09.689923Z",
     "shell.execute_reply": "2021-10-26T00:00:09.691142Z"
    },
    "papermill": {
     "duration": 0.066658,
     "end_time": "2021-10-26T00:00:09.691535",
     "exception": false,
     "start_time": "2021-10-26T00:00:09.624877",
     "status": "completed"
    },
    "tags": []
   },
   "outputs": [],
   "source": [
    "df_pivot = df.pivot_table(index=\"PRODUCT\", columns = \"RECORD_TIME\", values = \"LISTING_COUNT\")"
   ]
  },
  {
   "cell_type": "code",
   "execution_count": 6,
   "id": "union-huntington",
   "metadata": {
    "execution": {
     "iopub.execute_input": "2021-10-26T00:00:09.748213Z",
     "iopub.status.busy": "2021-10-26T00:00:09.745943Z",
     "iopub.status.idle": "2021-10-26T00:00:09.751781Z",
     "shell.execute_reply": "2021-10-26T00:00:09.753298Z"
    },
    "papermill": {
     "duration": 0.041719,
     "end_time": "2021-10-26T00:00:09.753764",
     "exception": false,
     "start_time": "2021-10-26T00:00:09.712045",
     "status": "completed"
    },
    "tags": []
   },
   "outputs": [],
   "source": [
    "df_pivot.columns = [\"stamp_1\", \"stamp_2\"]\n",
    "df_pivot_diff = df_pivot.diff(axis=1)"
   ]
  },
  {
   "cell_type": "code",
   "execution_count": 7,
   "id": "fifth-motion",
   "metadata": {
    "execution": {
     "iopub.execute_input": "2021-10-26T00:00:09.808213Z",
     "iopub.status.busy": "2021-10-26T00:00:09.805918Z",
     "iopub.status.idle": "2021-10-26T00:00:11.306821Z",
     "shell.execute_reply": "2021-10-26T00:00:11.308386Z"
    },
    "papermill": {
     "duration": 1.534316,
     "end_time": "2021-10-26T00:00:11.308937",
     "exception": false,
     "start_time": "2021-10-26T00:00:09.774621",
     "status": "completed"
    },
    "tags": []
   },
   "outputs": [
    {
     "data": {
      "text/plain": [
       "<AxesSubplot:ylabel='PRODUCT'>"
      ]
     },
     "execution_count": 7,
     "metadata": {},
     "output_type": "execute_result"
    },
    {
     "data": {
      "image/png": "[encoded data removed]",
      "text/plain": [
       "<Figure size 432x288 with 1 Axes>"
      ]
     },
     "metadata": {
      "needs_background": "light"
     },
     "output_type": "display_data"
    }
   ],
   "source": [
    "df_pivot_diff.sort_values(\"stamp_2\", ascending = False)[\"stamp_2\"].head(10).plot.barh()"
   ]
  },
  {
   "cell_type": "code",
   "execution_count": null,
   "id": "extra-executive",
   "metadata": {
    "papermill": {
     "duration": 0.021937,
     "end_time": "2021-10-26T00:00:11.355861",
     "exception": false,
     "start_time": "2021-10-26T00:00:11.333924",
     "status": "completed"
    },
    "tags": []
   },
   "outputs": [],
   "source": []
  }
 ],
 "metadata": {
  "kernelspec": {
   "display_name": "Python 3",
   "language": "python",
   "name": "python3"
  },
  "language_info": {
   "codemirror_mode": {
    "name": "ipython",
    "version": 3
   },
   "file_extension": ".py",
   "mimetype": "text/x-python",
   "name": "python",
   "nbconvert_exporter": "python",
   "pygments_lexer": "ipython3",
   "version": "3.9.5"
  },
  "papermill": {
   "default_parameters": {},
   "duration": 7.461856,
   "end_time": "2021-10-26T00:00:11.998795",
   "environment_variables": {},
   "exception": null,
   "input_path": "eBay_Overview.ipynb",
   "output_path": "eBay_Overview.ipynb",
   "parameters": {},
   "start_time": "2021-10-26T00:00:04.536939",
   "version": "2.3.3"
  }
 },
 "nbformat": 4,
 "nbformat_minor": 5
}