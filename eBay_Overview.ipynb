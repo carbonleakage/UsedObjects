{
 "cells": [
  {
   "cell_type": "code",
   "execution_count": 1,
   "id": "reverse-picking",
   "metadata": {
    "execution": {
     "iopub.execute_input": "2021-08-17T12:30:06.984037Z",
     "iopub.status.busy": "2021-08-17T12:30:06.982043Z",
     "iopub.status.idle": "2021-08-17T12:30:07.791760Z",
     "shell.execute_reply": "2021-08-17T12:30:07.792990Z"
    },
    "papermill": {
     "duration": 0.861652,
     "end_time": "2021-08-17T12:30:07.793607",
     "exception": false,
     "start_time": "2021-08-17T12:30:06.931955",
     "status": "completed"
    },
    "tags": []
   },
   "outputs": [],
   "source": [
    "import pandas as pd\n",
    "import sqlite3"
   ]
  },
  {
   "cell_type": "code",
   "execution_count": 2,
   "id": "innovative-syndrome",
   "metadata": {
    "execution": {
     "iopub.execute_input": "2021-08-17T12:30:07.846563Z",
     "iopub.status.busy": "2021-08-17T12:30:07.844175Z",
     "iopub.status.idle": "2021-08-17T12:30:07.913797Z",
     "shell.execute_reply": "2021-08-17T12:30:07.915073Z"
    },
    "papermill": {
     "duration": 0.099733,
     "end_time": "2021-08-17T12:30:07.915540",
     "exception": false,
     "start_time": "2021-08-17T12:30:07.815807",
     "status": "completed"
    },
    "tags": []
   },
   "outputs": [],
   "source": [
    "timestamps = pd.read_sql(\"select distinct record_time from EBAY_TOP_BERLIN order by record_time desc limit 2\", sqlite3.connect(\"UsedObjects.db\"))"
   ]
  },
  {
   "cell_type": "code",
   "execution_count": 3,
   "id": "periodic-identification",
   "metadata": {
    "execution": {
     "iopub.execute_input": "2021-08-17T12:30:07.982989Z",
     "iopub.status.busy": "2021-08-17T12:30:07.980879Z",
     "iopub.status.idle": "2021-08-17T12:30:08.002746Z",
     "shell.execute_reply": "2021-08-17T12:30:08.001262Z"
    },
    "papermill": {
     "duration": 0.0671,
     "end_time": "2021-08-17T12:30:08.003112",
     "exception": false,
     "start_time": "2021-08-17T12:30:07.936012",
     "status": "completed"
    },
    "tags": []
   },
   "outputs": [
    {
     "data": {
      "text/html": [
       "<div>\n",
       "<style scoped>\n",
       "    .dataframe tbody tr th:only-of-type {\n",
       "        vertical-align: middle;\n",
       "    }\n",
       "\n",
       "    .dataframe tbody tr th {\n",
       "        vertical-align: top;\n",
       "    }\n",
       "\n",
       "    .dataframe thead th {\n",
       "        text-align: right;\n",
       "    }\n",
       "</style>\n",
       "<table border=\"1\" class=\"dataframe\">\n",
       "  <thead>\n",
       "    <tr style=\"text-align: right;\">\n",
       "      <th></th>\n",
       "      <th>RECORD_TIME</th>\n",
       "    </tr>\n",
       "  </thead>\n",
       "  <tbody>\n",
       "    <tr>\n",
       "      <th>0</th>\n",
       "      <td>2021-08-17 14:30</td>\n",
       "    </tr>\n",
       "    <tr>\n",
       "      <th>1</th>\n",
       "      <td>2021-08-17 14:00</td>\n",
       "    </tr>\n",
       "  </tbody>\n",
       "</table>\n",
       "</div>"
      ],
      "text/plain": [
       "        RECORD_TIME\n",
       "0  2021-08-17 14:30\n",
       "1  2021-08-17 14:00"
      ]
     },
     "execution_count": 3,
     "metadata": {},
     "output_type": "execute_result"
    }
   ],
   "source": [
    "timestamps"
   ]
  },
  {
   "cell_type": "code",
   "execution_count": 4,
   "id": "alternate-victory",
   "metadata": {
    "execution": {
     "iopub.execute_input": "2021-08-17T12:30:08.054208Z",
     "iopub.status.busy": "2021-08-17T12:30:08.052290Z",
     "iopub.status.idle": "2021-08-17T12:30:08.154445Z",
     "shell.execute_reply": "2021-08-17T12:30:08.155657Z"
    },
    "papermill": {
     "duration": 0.132011,
     "end_time": "2021-08-17T12:30:08.156050",
     "exception": false,
     "start_time": "2021-08-17T12:30:08.024039",
     "status": "completed"
    },
    "tags": []
   },
   "outputs": [],
   "source": [
    "df = pd.read_sql(\"select * from EBAY_TOP_BERLIN where record_time in (select distinct record_time from EBAY_TOP_BERLIN order by record_time desc limit 2)\", sqlite3.connect(\"UsedObjects.db\"))"
   ]
  },
  {
   "cell_type": "code",
   "execution_count": 5,
   "id": "popular-active",
   "metadata": {
    "execution": {
     "iopub.execute_input": "2021-08-17T12:30:08.227698Z",
     "iopub.status.busy": "2021-08-17T12:30:08.215396Z",
     "iopub.status.idle": "2021-08-17T12:30:08.243463Z",
     "shell.execute_reply": "2021-08-17T12:30:08.244744Z"
    },
    "papermill": {
     "duration": 0.067545,
     "end_time": "2021-08-17T12:30:08.245156",
     "exception": false,
     "start_time": "2021-08-17T12:30:08.177611",
     "status": "completed"
    },
    "tags": []
   },
   "outputs": [],
   "source": [
    "df_pivot = df.pivot_table(index=\"PRODUCT\", columns = \"RECORD_TIME\", values = \"LISTING_COUNT\")"
   ]
  },
  {
   "cell_type": "code",
   "execution_count": 6,
   "id": "union-huntington",
   "metadata": {
    "execution": {
     "iopub.execute_input": "2021-08-17T12:30:08.300142Z",
     "iopub.status.busy": "2021-08-17T12:30:08.298179Z",
     "iopub.status.idle": "2021-08-17T12:30:08.304569Z",
     "shell.execute_reply": "2021-08-17T12:30:08.303158Z"
    },
    "papermill": {
     "duration": 0.039686,
     "end_time": "2021-08-17T12:30:08.304911",
     "exception": false,
     "start_time": "2021-08-17T12:30:08.265225",
     "status": "completed"
    },
    "tags": []
   },
   "outputs": [],
   "source": [
    "df_pivot.columns = [\"stamp_1\", \"stamp_2\"]\n",
    "df_pivot_diff = df_pivot.diff(axis=1)"
   ]
  },
  {
   "cell_type": "code",
   "execution_count": 7,
   "id": "fifth-motion",
   "metadata": {
    "execution": {
     "iopub.execute_input": "2021-08-17T12:30:08.359093Z",
     "iopub.status.busy": "2021-08-17T12:30:08.356616Z",
     "iopub.status.idle": "2021-08-17T12:30:09.848853Z",
     "shell.execute_reply": "2021-08-17T12:30:09.850250Z"
    },
    "papermill": {
     "duration": 1.525335,
     "end_time": "2021-08-17T12:30:09.850701",
     "exception": false,
     "start_time": "2021-08-17T12:30:08.325366",
     "status": "completed"
    },
    "tags": []
   },
   "outputs": [
    {
     "data": {
      "text/plain": [
       "<AxesSubplot:ylabel='PRODUCT'>"
      ]
     },
     "execution_count": 7,
     "metadata": {},
     "output_type": "execute_result"
    },
    {
     "data": {
      "image/png": "[encoded data removed]",
      "text/plain": [
       "<Figure size 432x288 with 1 Axes>"
      ]
     },
     "metadata": {
      "needs_background": "light"
     },
     "output_type": "display_data"
    }
   ],
   "source": [
    "df_pivot_diff.sort_values(\"stamp_2\", ascending = False)[\"stamp_2\"].head(10).plot.barh()"
   ]
  },
  {
   "cell_type": "code",
   "execution_count": null,
   "id": "extra-executive",
   "metadata": {
    "papermill": {
     "duration": 0.022147,
     "end_time": "2021-08-17T12:30:09.897731",
     "exception": false,
     "start_time": "2021-08-17T12:30:09.875584",
     "status": "completed"
    },
    "tags": []
   },
   "outputs": [],
   "source": []
  }
 ],
 "metadata": {
  "kernelspec": {
   "display_name": "Python 3",
   "language": "python",
   "name": "python3"
  },
  "language_info": {
   "codemirror_mode": {
    "name": "ipython",
    "version": 3
   },
   "file_extension": ".py",
   "mimetype": "text/x-python",
   "name": "python",
   "nbconvert_exporter": "python",
   "pygments_lexer": "ipython3",
   "version": "3.9.5"
  },
  "papermill": {
   "default_parameters": {},
   "duration": 6.823949,
   "end_time": "2021-08-17T12:30:11.347707",
   "environment_variables": {},
   "exception": null,
   "input_path": "eBay_Overview.ipynb",
   "output_path": "eBay_Overview.ipynb",
   "parameters": {},
   "start_time": "2021-08-17T12:30:04.523758",
   "version": "2.3.3"
  }
 },
 "nbformat": 4,
 "nbformat_minor": 5
}