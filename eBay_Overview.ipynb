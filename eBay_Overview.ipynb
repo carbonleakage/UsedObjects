{
 "cells": [
  {
   "cell_type": "code",
   "execution_count": 1,
   "id": "reverse-picking",
   "metadata": {
    "execution": {
     "iopub.execute_input": "2021-09-24T11:00:07.052324Z",
     "iopub.status.busy": "2021-09-24T11:00:07.050334Z",
     "iopub.status.idle": "2021-09-24T11:00:07.856171Z",
     "shell.execute_reply": "2021-09-24T11:00:07.857409Z"
    },
    "papermill": {
     "duration": 0.859027,
     "end_time": "2021-09-24T11:00:07.858028",
     "exception": false,
     "start_time": "2021-09-24T11:00:06.999001",
     "status": "completed"
    },
    "tags": []
   },
   "outputs": [],
   "source": [
    "import pandas as pd\n",
    "import sqlite3"
   ]
  },
  {
   "cell_type": "code",
   "execution_count": 2,
   "id": "innovative-syndrome",
   "metadata": {
    "execution": {
     "iopub.execute_input": "2021-09-24T11:00:07.910000Z",
     "iopub.status.busy": "2021-09-24T11:00:07.908130Z",
     "iopub.status.idle": "2021-09-24T11:00:08.271268Z",
     "shell.execute_reply": "2021-09-24T11:00:08.272645Z"
    },
    "papermill": {
     "duration": 0.393107,
     "end_time": "2021-09-24T11:00:08.273085",
     "exception": false,
     "start_time": "2021-09-24T11:00:07.879978",
     "status": "completed"
    },
    "tags": []
   },
   "outputs": [],
   "source": [
    "timestamps = pd.read_sql(\"select distinct record_time from EBAY_TOP_BERLIN order by record_time desc limit 2\", sqlite3.connect(\"UsedObjects.db\"))"
   ]
  },
  {
   "cell_type": "code",
   "execution_count": 3,
   "id": "periodic-identification",
   "metadata": {
    "execution": {
     "iopub.execute_input": "2021-09-24T11:00:08.340689Z",
     "iopub.status.busy": "2021-09-24T11:00:08.338623Z",
     "iopub.status.idle": "2021-09-24T11:00:08.358768Z",
     "shell.execute_reply": "2021-09-24T11:00:08.360278Z"
    },
    "papermill": {
     "duration": 0.067481,
     "end_time": "2021-09-24T11:00:08.360717",
     "exception": false,
     "start_time": "2021-09-24T11:00:08.293236",
     "status": "completed"
    },
    "tags": []
   },
   "outputs": [
    {
     "data": {
      "text/html": [
       "<div>\n",
       "<style scoped>\n",
       "    .dataframe tbody tr th:only-of-type {\n",
       "        vertical-align: middle;\n",
       "    }\n",
       "\n",
       "    .dataframe tbody tr th {\n",
       "        vertical-align: top;\n",
       "    }\n",
       "\n",
       "    .dataframe thead th {\n",
       "        text-align: right;\n",
       "    }\n",
       "</style>\n",
       "<table border=\"1\" class=\"dataframe\">\n",
       "  <thead>\n",
       "    <tr style=\"text-align: right;\">\n",
       "      <th></th>\n",
       "      <th>RECORD_TIME</th>\n",
       "    </tr>\n",
       "  </thead>\n",
       "  <tbody>\n",
       "    <tr>\n",
       "      <th>0</th>\n",
       "      <td>2021-09-24 13:00</td>\n",
       "    </tr>\n",
       "    <tr>\n",
       "      <th>1</th>\n",
       "      <td>2021-09-24 12:30</td>\n",
       "    </tr>\n",
       "  </tbody>\n",
       "</table>\n",
       "</div>"
      ],
      "text/plain": [
       "        RECORD_TIME\n",
       "0  2021-09-24 13:00\n",
       "1  2021-09-24 12:30"
      ]
     },
     "execution_count": 3,
     "metadata": {},
     "output_type": "execute_result"
    }
   ],
   "source": [
    "timestamps"
   ]
  },
  {
   "cell_type": "code",
   "execution_count": 4,
   "id": "alternate-victory",
   "metadata": {
    "execution": {
     "iopub.execute_input": "2021-09-24T11:00:08.413929Z",
     "iopub.status.busy": "2021-09-24T11:00:08.411643Z",
     "iopub.status.idle": "2021-09-24T11:00:08.944615Z",
     "shell.execute_reply": "2021-09-24T11:00:08.945833Z"
    },
    "papermill": {
     "duration": 0.563643,
     "end_time": "2021-09-24T11:00:08.946227",
     "exception": false,
     "start_time": "2021-09-24T11:00:08.382584",
     "status": "completed"
    },
    "tags": []
   },
   "outputs": [],
   "source": [
    "df = pd.read_sql(\"select * from EBAY_TOP_BERLIN where record_time in (select distinct record_time from EBAY_TOP_BERLIN order by record_time desc limit 2)\", sqlite3.connect(\"UsedObjects.db\"))"
   ]
  },
  {
   "cell_type": "code",
   "execution_count": 5,
   "id": "popular-active",
   "metadata": {
    "execution": {
     "iopub.execute_input": "2021-09-24T11:00:09.014586Z",
     "iopub.status.busy": "2021-09-24T11:00:09.005394Z",
     "iopub.status.idle": "2021-09-24T11:00:09.035317Z",
     "shell.execute_reply": "2021-09-24T11:00:09.036664Z"
    },
    "papermill": {
     "duration": 0.068465,
     "end_time": "2021-09-24T11:00:09.037060",
     "exception": false,
     "start_time": "2021-09-24T11:00:08.968595",
     "status": "completed"
    },
    "tags": []
   },
   "outputs": [],
   "source": [
    "df_pivot = df.pivot_table(index=\"PRODUCT\", columns = \"RECORD_TIME\", values = \"LISTING_COUNT\")"
   ]
  },
  {
   "cell_type": "code",
   "execution_count": 6,
   "id": "union-huntington",
   "metadata": {
    "execution": {
     "iopub.execute_input": "2021-09-24T11:00:09.093128Z",
     "iopub.status.busy": "2021-09-24T11:00:09.091067Z",
     "iopub.status.idle": "2021-09-24T11:00:09.096144Z",
     "shell.execute_reply": "2021-09-24T11:00:09.097437Z"
    },
    "papermill": {
     "duration": 0.040483,
     "end_time": "2021-09-24T11:00:09.097846",
     "exception": false,
     "start_time": "2021-09-24T11:00:09.057363",
     "status": "completed"
    },
    "tags": []
   },
   "outputs": [],
   "source": [
    "df_pivot.columns = [\"stamp_1\", \"stamp_2\"]\n",
    "df_pivot_diff = df_pivot.diff(axis=1)"
   ]
  },
  {
   "cell_type": "code",
   "execution_count": 7,
   "id": "fifth-motion",
   "metadata": {
    "execution": {
     "iopub.execute_input": "2021-09-24T11:00:09.154537Z",
     "iopub.status.busy": "2021-09-24T11:00:09.151935Z",
     "iopub.status.idle": "2021-09-24T11:00:10.634099Z",
     "shell.execute_reply": "2021-09-24T11:00:10.635441Z"
    },
    "papermill": {
     "duration": 1.51636,
     "end_time": "2021-09-24T11:00:10.635898",
     "exception": false,
     "start_time": "2021-09-24T11:00:09.119538",
     "status": "completed"
    },
    "tags": []
   },
   "outputs": [
    {
     "data": {
      "text/plain": [
       "<AxesSubplot:ylabel='PRODUCT'>"
      ]
     },
     "execution_count": 7,
     "metadata": {},
     "output_type": "execute_result"
    },
    {
     "data": {
      "image/png": "[encoded data removed]",
      "text/plain": [
       "<Figure size 432x288 with 1 Axes>"
      ]
     },
     "metadata": {
      "needs_background": "light"
     },
     "output_type": "display_data"
    }
   ],
   "source": [
    "df_pivot_diff.sort_values(\"stamp_2\", ascending = False)[\"stamp_2\"].head(10).plot.barh()"
   ]
  },
  {
   "cell_type": "code",
   "execution_count": null,
   "id": "extra-executive",
   "metadata": {
    "papermill": {
     "duration": 0.022729,
     "end_time": "2021-09-24T11:00:10.684467",
     "exception": false,
     "start_time": "2021-09-24T11:00:10.661738",
     "status": "completed"
    },
    "tags": []
   },
   "outputs": [],
   "source": []
  }
 ],
 "metadata": {
  "kernelspec": {
   "display_name": "Python 3",
   "language": "python",
   "name": "python3"
  },
  "language_info": {
   "codemirror_mode": {
    "name": "ipython",
    "version": 3
   },
   "file_extension": ".py",
   "mimetype": "text/x-python",
   "name": "python",
   "nbconvert_exporter": "python",
   "pygments_lexer": "ipython3",
   "version": "3.9.5"
  },
  "papermill": {
   "default_parameters": {},
   "duration": 6.726626,
   "end_time": "2021-09-24T11:00:11.327810",
   "environment_variables": {},
   "exception": null,
   "input_path": "eBay_Overview.ipynb",
   "output_path": "eBay_Overview.ipynb",
   "parameters": {},
   "start_time": "2021-09-24T11:00:04.601184",
   "version": "2.3.3"
  }
 },
 "nbformat": 4,
 "nbformat_minor": 5
}