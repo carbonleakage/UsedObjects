{
 "cells": [
  {
   "cell_type": "code",
   "execution_count": 1,
   "id": "reverse-picking",
   "metadata": {
    "execution": {
     "iopub.execute_input": "2021-10-19T09:30:07.072197Z",
     "iopub.status.busy": "2021-10-19T09:30:07.070289Z",
     "iopub.status.idle": "2021-10-19T09:30:07.874582Z",
     "shell.execute_reply": "2021-10-19T09:30:07.872831Z"
    },
    "papermill": {
     "duration": 0.855248,
     "end_time": "2021-10-19T09:30:07.875024",
     "exception": false,
     "start_time": "2021-10-19T09:30:07.019776",
     "status": "completed"
    },
    "tags": []
   },
   "outputs": [],
   "source": [
    "import pandas as pd\n",
    "import sqlite3"
   ]
  },
  {
   "cell_type": "code",
   "execution_count": 2,
   "id": "innovative-syndrome",
   "metadata": {
    "execution": {
     "iopub.execute_input": "2021-10-19T09:30:07.926733Z",
     "iopub.status.busy": "2021-10-19T09:30:07.924616Z",
     "iopub.status.idle": "2021-10-19T09:30:08.521083Z",
     "shell.execute_reply": "2021-10-19T09:30:08.522599Z"
    },
    "papermill": {
     "duration": 0.62742,
     "end_time": "2021-10-19T09:30:08.523054",
     "exception": false,
     "start_time": "2021-10-19T09:30:07.895634",
     "status": "completed"
    },
    "tags": []
   },
   "outputs": [],
   "source": [
    "timestamps = pd.read_sql(\"select distinct record_time from EBAY_TOP_BERLIN order by record_time desc limit 2\", sqlite3.connect(\"UsedObjects.db\"))"
   ]
  },
  {
   "cell_type": "code",
   "execution_count": 3,
   "id": "periodic-identification",
   "metadata": {
    "execution": {
     "iopub.execute_input": "2021-10-19T09:30:08.599550Z",
     "iopub.status.busy": "2021-10-19T09:30:08.594632Z",
     "iopub.status.idle": "2021-10-19T09:30:08.616366Z",
     "shell.execute_reply": "2021-10-19T09:30:08.617907Z"
    },
    "papermill": {
     "duration": 0.069984,
     "end_time": "2021-10-19T09:30:08.618369",
     "exception": false,
     "start_time": "2021-10-19T09:30:08.548385",
     "status": "completed"
    },
    "tags": []
   },
   "outputs": [
    {
     "data": {
      "text/html": [
       "<div>\n",
       "<style scoped>\n",
       "    .dataframe tbody tr th:only-of-type {\n",
       "        vertical-align: middle;\n",
       "    }\n",
       "\n",
       "    .dataframe tbody tr th {\n",
       "        vertical-align: top;\n",
       "    }\n",
       "\n",
       "    .dataframe thead th {\n",
       "        text-align: right;\n",
       "    }\n",
       "</style>\n",
       "<table border=\"1\" class=\"dataframe\">\n",
       "  <thead>\n",
       "    <tr style=\"text-align: right;\">\n",
       "      <th></th>\n",
       "      <th>RECORD_TIME</th>\n",
       "    </tr>\n",
       "  </thead>\n",
       "  <tbody>\n",
       "    <tr>\n",
       "      <th>0</th>\n",
       "      <td>2021-10-19 11:30</td>\n",
       "    </tr>\n",
       "    <tr>\n",
       "      <th>1</th>\n",
       "      <td>2021-10-19 11:00</td>\n",
       "    </tr>\n",
       "  </tbody>\n",
       "</table>\n",
       "</div>"
      ],
      "text/plain": [
       "        RECORD_TIME\n",
       "0  2021-10-19 11:30\n",
       "1  2021-10-19 11:00"
      ]
     },
     "execution_count": 3,
     "metadata": {},
     "output_type": "execute_result"
    }
   ],
   "source": [
    "timestamps"
   ]
  },
  {
   "cell_type": "code",
   "execution_count": 4,
   "id": "alternate-victory",
   "metadata": {
    "execution": {
     "iopub.execute_input": "2021-10-19T09:30:08.671524Z",
     "iopub.status.busy": "2021-10-19T09:30:08.669612Z",
     "iopub.status.idle": "2021-10-19T09:30:09.521853Z",
     "shell.execute_reply": "2021-10-19T09:30:09.522974Z"
    },
    "papermill": {
     "duration": 0.882585,
     "end_time": "2021-10-19T09:30:09.523378",
     "exception": false,
     "start_time": "2021-10-19T09:30:08.640793",
     "status": "completed"
    },
    "tags": []
   },
   "outputs": [],
   "source": [
    "df = pd.read_sql(\"select * from EBAY_TOP_BERLIN where record_time in (select distinct record_time from EBAY_TOP_BERLIN order by record_time desc limit 2)\", sqlite3.connect(\"UsedObjects.db\"))"
   ]
  },
  {
   "cell_type": "code",
   "execution_count": 5,
   "id": "popular-active",
   "metadata": {
    "execution": {
     "iopub.execute_input": "2021-10-19T09:30:09.594003Z",
     "iopub.status.busy": "2021-10-19T09:30:09.582562Z",
     "iopub.status.idle": "2021-10-19T09:30:09.610606Z",
     "shell.execute_reply": "2021-10-19T09:30:09.611877Z"
    },
    "papermill": {
     "duration": 0.066833,
     "end_time": "2021-10-19T09:30:09.612290",
     "exception": false,
     "start_time": "2021-10-19T09:30:09.545457",
     "status": "completed"
    },
    "tags": []
   },
   "outputs": [],
   "source": [
    "df_pivot = df.pivot_table(index=\"PRODUCT\", columns = \"RECORD_TIME\", values = \"LISTING_COUNT\")"
   ]
  },
  {
   "cell_type": "code",
   "execution_count": 6,
   "id": "union-huntington",
   "metadata": {
    "execution": {
     "iopub.execute_input": "2021-10-19T09:30:09.668447Z",
     "iopub.status.busy": "2021-10-19T09:30:09.666135Z",
     "iopub.status.idle": "2021-10-19T09:30:09.672034Z",
     "shell.execute_reply": "2021-10-19T09:30:09.673489Z"
    },
    "papermill": {
     "duration": 0.042072,
     "end_time": "2021-10-19T09:30:09.673940",
     "exception": false,
     "start_time": "2021-10-19T09:30:09.631868",
     "status": "completed"
    },
    "tags": []
   },
   "outputs": [],
   "source": [
    "df_pivot.columns = [\"stamp_1\", \"stamp_2\"]\n",
    "df_pivot_diff = df_pivot.diff(axis=1)"
   ]
  },
  {
   "cell_type": "code",
   "execution_count": 7,
   "id": "fifth-motion",
   "metadata": {
    "execution": {
     "iopub.execute_input": "2021-10-19T09:30:09.728435Z",
     "iopub.status.busy": "2021-10-19T09:30:09.726031Z",
     "iopub.status.idle": "2021-10-19T09:30:11.202691Z",
     "shell.execute_reply": "2021-10-19T09:30:11.203967Z"
    },
    "papermill": {
     "duration": 1.509105,
     "end_time": "2021-10-19T09:30:11.204382",
     "exception": false,
     "start_time": "2021-10-19T09:30:09.695277",
     "status": "completed"
    },
    "tags": []
   },
   "outputs": [
    {
     "data": {
      "text/plain": [
       "<AxesSubplot:ylabel='PRODUCT'>"
      ]
     },
     "execution_count": 7,
     "metadata": {},
     "output_type": "execute_result"
    },
    {
     "data": {
      "image/png": "[encoded data removed]",
      "text/plain": [
       "<Figure size 432x288 with 1 Axes>"
      ]
     },
     "metadata": {
      "needs_background": "light"
     },
     "output_type": "display_data"
    }
   ],
   "source": [
    "df_pivot_diff.sort_values(\"stamp_2\", ascending = False)[\"stamp_2\"].head(10).plot.barh()"
   ]
  },
  {
   "cell_type": "code",
   "execution_count": null,
   "id": "extra-executive",
   "metadata": {
    "papermill": {
     "duration": 0.021794,
     "end_time": "2021-10-19T09:30:11.250652",
     "exception": false,
     "start_time": "2021-10-19T09:30:11.228858",
     "status": "completed"
    },
    "tags": []
   },
   "outputs": [],
   "source": []
  }
 ],
 "metadata": {
  "kernelspec": {
   "display_name": "Python 3",
   "language": "python",
   "name": "python3"
  },
  "language_info": {
   "codemirror_mode": {
    "name": "ipython",
    "version": 3
   },
   "file_extension": ".py",
   "mimetype": "text/x-python",
   "name": "python",
   "nbconvert_exporter": "python",
   "pygments_lexer": "ipython3",
   "version": "3.9.5"
  },
  "papermill": {
   "default_parameters": {},
   "duration": 7.820223,
   "end_time": "2021-10-19T09:30:12.435172",
   "environment_variables": {},
   "exception": null,
   "input_path": "eBay_Overview.ipynb",
   "output_path": "eBay_Overview.ipynb",
   "parameters": {},
   "start_time": "2021-10-19T09:30:04.614949",
   "version": "2.3.3"
  }
 },
 "nbformat": 4,
 "nbformat_minor": 5
}