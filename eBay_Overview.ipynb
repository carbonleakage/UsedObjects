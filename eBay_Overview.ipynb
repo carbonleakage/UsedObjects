{
 "cells": [
  {
   "cell_type": "code",
   "execution_count": 1,
   "id": "reverse-picking",
   "metadata": {
    "execution": {
     "iopub.execute_input": "2021-09-02T05:00:07.169524Z",
     "iopub.status.busy": "2021-09-02T05:00:07.167546Z",
     "iopub.status.idle": "2021-09-02T05:00:07.968535Z",
     "shell.execute_reply": "2021-09-02T05:00:07.969876Z"
    },
    "papermill": {
     "duration": 0.852361,
     "end_time": "2021-09-02T05:00:07.970532",
     "exception": false,
     "start_time": "2021-09-02T05:00:07.118171",
     "status": "completed"
    },
    "tags": []
   },
   "outputs": [],
   "source": [
    "import pandas as pd\n",
    "import sqlite3"
   ]
  },
  {
   "cell_type": "code",
   "execution_count": 2,
   "id": "innovative-syndrome",
   "metadata": {
    "execution": {
     "iopub.execute_input": "2021-09-02T05:00:08.020833Z",
     "iopub.status.busy": "2021-09-02T05:00:08.018434Z",
     "iopub.status.idle": "2021-09-02T05:00:08.205866Z",
     "shell.execute_reply": "2021-09-02T05:00:08.207275Z"
    },
    "papermill": {
     "duration": 0.217627,
     "end_time": "2021-09-02T05:00:08.207798",
     "exception": false,
     "start_time": "2021-09-02T05:00:07.990171",
     "status": "completed"
    },
    "tags": []
   },
   "outputs": [],
   "source": [
    "timestamps = pd.read_sql(\"select distinct record_time from EBAY_TOP_BERLIN order by record_time desc limit 2\", sqlite3.connect(\"UsedObjects.db\"))"
   ]
  },
  {
   "cell_type": "code",
   "execution_count": 3,
   "id": "periodic-identification",
   "metadata": {
    "execution": {
     "iopub.execute_input": "2021-09-02T05:00:08.273045Z",
     "iopub.status.busy": "2021-09-02T05:00:08.271030Z",
     "iopub.status.idle": "2021-09-02T05:00:08.290917Z",
     "shell.execute_reply": "2021-09-02T05:00:08.292366Z"
    },
    "papermill": {
     "duration": 0.065703,
     "end_time": "2021-09-02T05:00:08.292802",
     "exception": false,
     "start_time": "2021-09-02T05:00:08.227099",
     "status": "completed"
    },
    "tags": []
   },
   "outputs": [
    {
     "data": {
      "text/html": [
       "<div>\n",
       "<style scoped>\n",
       "    .dataframe tbody tr th:only-of-type {\n",
       "        vertical-align: middle;\n",
       "    }\n",
       "\n",
       "    .dataframe tbody tr th {\n",
       "        vertical-align: top;\n",
       "    }\n",
       "\n",
       "    .dataframe thead th {\n",
       "        text-align: right;\n",
       "    }\n",
       "</style>\n",
       "<table border=\"1\" class=\"dataframe\">\n",
       "  <thead>\n",
       "    <tr style=\"text-align: right;\">\n",
       "      <th></th>\n",
       "      <th>RECORD_TIME</th>\n",
       "    </tr>\n",
       "  </thead>\n",
       "  <tbody>\n",
       "    <tr>\n",
       "      <th>0</th>\n",
       "      <td>2021-09-02 07:00</td>\n",
       "    </tr>\n",
       "    <tr>\n",
       "      <th>1</th>\n",
       "      <td>2021-09-02 06:30</td>\n",
       "    </tr>\n",
       "  </tbody>\n",
       "</table>\n",
       "</div>"
      ],
      "text/plain": [
       "        RECORD_TIME\n",
       "0  2021-09-02 07:00\n",
       "1  2021-09-02 06:30"
      ]
     },
     "execution_count": 3,
     "metadata": {},
     "output_type": "execute_result"
    }
   ],
   "source": [
    "timestamps"
   ]
  },
  {
   "cell_type": "code",
   "execution_count": 4,
   "id": "alternate-victory",
   "metadata": {
    "execution": {
     "iopub.execute_input": "2021-09-02T05:00:08.343078Z",
     "iopub.status.busy": "2021-09-02T05:00:08.341191Z",
     "iopub.status.idle": "2021-09-02T05:00:08.622538Z",
     "shell.execute_reply": "2021-09-02T05:00:08.624116Z"
    },
    "papermill": {
     "duration": 0.311496,
     "end_time": "2021-09-02T05:00:08.624597",
     "exception": false,
     "start_time": "2021-09-02T05:00:08.313101",
     "status": "completed"
    },
    "tags": []
   },
   "outputs": [],
   "source": [
    "df = pd.read_sql(\"select * from EBAY_TOP_BERLIN where record_time in (select distinct record_time from EBAY_TOP_BERLIN order by record_time desc limit 2)\", sqlite3.connect(\"UsedObjects.db\"))"
   ]
  },
  {
   "cell_type": "code",
   "execution_count": 5,
   "id": "popular-active",
   "metadata": {
    "execution": {
     "iopub.execute_input": "2021-09-02T05:00:08.700233Z",
     "iopub.status.busy": "2021-09-02T05:00:08.693296Z",
     "iopub.status.idle": "2021-09-02T05:00:08.720613Z",
     "shell.execute_reply": "2021-09-02T05:00:08.721819Z"
    },
    "papermill": {
     "duration": 0.070619,
     "end_time": "2021-09-02T05:00:08.722216",
     "exception": false,
     "start_time": "2021-09-02T05:00:08.651597",
     "status": "completed"
    },
    "tags": []
   },
   "outputs": [],
   "source": [
    "df_pivot = df.pivot_table(index=\"PRODUCT\", columns = \"RECORD_TIME\", values = \"LISTING_COUNT\")"
   ]
  },
  {
   "cell_type": "code",
   "execution_count": 6,
   "id": "union-huntington",
   "metadata": {
    "execution": {
     "iopub.execute_input": "2021-09-02T05:00:08.776746Z",
     "iopub.status.busy": "2021-09-02T05:00:08.774743Z",
     "iopub.status.idle": "2021-09-02T05:00:08.779807Z",
     "shell.execute_reply": "2021-09-02T05:00:08.781018Z"
    },
    "papermill": {
     "duration": 0.039392,
     "end_time": "2021-09-02T05:00:08.781416",
     "exception": false,
     "start_time": "2021-09-02T05:00:08.742024",
     "status": "completed"
    },
    "tags": []
   },
   "outputs": [],
   "source": [
    "df_pivot.columns = [\"stamp_1\", \"stamp_2\"]\n",
    "df_pivot_diff = df_pivot.diff(axis=1)"
   ]
  },
  {
   "cell_type": "code",
   "execution_count": 7,
   "id": "fifth-motion",
   "metadata": {
    "execution": {
     "iopub.execute_input": "2021-09-02T05:00:08.836111Z",
     "iopub.status.busy": "2021-09-02T05:00:08.833526Z",
     "iopub.status.idle": "2021-09-02T05:00:10.321995Z",
     "shell.execute_reply": "2021-09-02T05:00:10.323408Z"
    },
    "papermill": {
     "duration": 1.521486,
     "end_time": "2021-09-02T05:00:10.323868",
     "exception": false,
     "start_time": "2021-09-02T05:00:08.802382",
     "status": "completed"
    },
    "tags": []
   },
   "outputs": [
    {
     "data": {
      "text/plain": [
       "<AxesSubplot:ylabel='PRODUCT'>"
      ]
     },
     "execution_count": 7,
     "metadata": {},
     "output_type": "execute_result"
    },
    {
     "data": {
      "image/png": "[encoded data removed]",
      "text/plain": [
       "<Figure size 432x288 with 1 Axes>"
      ]
     },
     "metadata": {
      "needs_background": "light"
     },
     "output_type": "display_data"
    }
   ],
   "source": [
    "df_pivot_diff.sort_values(\"stamp_2\", ascending = False)[\"stamp_2\"].head(10).plot.barh()"
   ]
  },
  {
   "cell_type": "code",
   "execution_count": null,
   "id": "extra-executive",
   "metadata": {
    "papermill": {
     "duration": 0.021937,
     "end_time": "2021-09-02T05:00:10.370323",
     "exception": false,
     "start_time": "2021-09-02T05:00:10.348386",
     "status": "completed"
    },
    "tags": []
   },
   "outputs": [],
   "source": []
  }
 ],
 "metadata": {
  "kernelspec": {
   "display_name": "Python 3",
   "language": "python",
   "name": "python3"
  },
  "language_info": {
   "codemirror_mode": {
    "name": "ipython",
    "version": 3
   },
   "file_extension": ".py",
   "mimetype": "text/x-python",
   "name": "python",
   "nbconvert_exporter": "python",
   "pygments_lexer": "ipython3",
   "version": "3.9.5"
  },
  "papermill": {
   "default_parameters": {},
   "duration": 6.819555,
   "end_time": "2021-09-02T05:00:11.544998",
   "environment_variables": {},
   "exception": null,
   "input_path": "eBay_Overview.ipynb",
   "output_path": "eBay_Overview.ipynb",
   "parameters": {},
   "start_time": "2021-09-02T05:00:04.725443",
   "version": "2.3.3"
  }
 },
 "nbformat": 4,
 "nbformat_minor": 5
}