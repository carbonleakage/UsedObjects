{
 "cells": [
  {
   "cell_type": "code",
   "execution_count": 1,
   "id": "reverse-picking",
   "metadata": {
    "execution": {
     "iopub.execute_input": "2021-09-21T04:30:06.689117Z",
     "iopub.status.busy": "2021-09-21T04:30:06.687068Z",
     "iopub.status.idle": "2021-09-21T04:30:07.495866Z",
     "shell.execute_reply": "2021-09-21T04:30:07.497308Z"
    },
    "papermill": {
     "duration": 0.860183,
     "end_time": "2021-09-21T04:30:07.497981",
     "exception": false,
     "start_time": "2021-09-21T04:30:06.637798",
     "status": "completed"
    },
    "tags": []
   },
   "outputs": [],
   "source": [
    "import pandas as pd\n",
    "import sqlite3"
   ]
  },
  {
   "cell_type": "code",
   "execution_count": 2,
   "id": "innovative-syndrome",
   "metadata": {
    "execution": {
     "iopub.execute_input": "2021-09-21T04:30:07.548842Z",
     "iopub.status.busy": "2021-09-21T04:30:07.546409Z",
     "iopub.status.idle": "2021-09-21T04:30:07.890220Z",
     "shell.execute_reply": "2021-09-21T04:30:07.891538Z"
    },
    "papermill": {
     "duration": 0.373622,
     "end_time": "2021-09-21T04:30:07.891967",
     "exception": false,
     "start_time": "2021-09-21T04:30:07.518345",
     "status": "completed"
    },
    "tags": []
   },
   "outputs": [],
   "source": [
    "timestamps = pd.read_sql(\"select distinct record_time from EBAY_TOP_BERLIN order by record_time desc limit 2\", sqlite3.connect(\"UsedObjects.db\"))"
   ]
  },
  {
   "cell_type": "code",
   "execution_count": 3,
   "id": "periodic-identification",
   "metadata": {
    "execution": {
     "iopub.execute_input": "2021-09-21T04:30:07.958676Z",
     "iopub.status.busy": "2021-09-21T04:30:07.956639Z",
     "iopub.status.idle": "2021-09-21T04:30:07.978843Z",
     "shell.execute_reply": "2021-09-21T04:30:07.980356Z"
    },
    "papermill": {
     "duration": 0.06817,
     "end_time": "2021-09-21T04:30:07.980824",
     "exception": false,
     "start_time": "2021-09-21T04:30:07.912654",
     "status": "completed"
    },
    "tags": []
   },
   "outputs": [
    {
     "data": {
      "text/html": [
       "<div>\n",
       "<style scoped>\n",
       "    .dataframe tbody tr th:only-of-type {\n",
       "        vertical-align: middle;\n",
       "    }\n",
       "\n",
       "    .dataframe tbody tr th {\n",
       "        vertical-align: top;\n",
       "    }\n",
       "\n",
       "    .dataframe thead th {\n",
       "        text-align: right;\n",
       "    }\n",
       "</style>\n",
       "<table border=\"1\" class=\"dataframe\">\n",
       "  <thead>\n",
       "    <tr style=\"text-align: right;\">\n",
       "      <th></th>\n",
       "      <th>RECORD_TIME</th>\n",
       "    </tr>\n",
       "  </thead>\n",
       "  <tbody>\n",
       "    <tr>\n",
       "      <th>0</th>\n",
       "      <td>2021-09-21 06:30</td>\n",
       "    </tr>\n",
       "    <tr>\n",
       "      <th>1</th>\n",
       "      <td>2021-09-21 06:00</td>\n",
       "    </tr>\n",
       "  </tbody>\n",
       "</table>\n",
       "</div>"
      ],
      "text/plain": [
       "        RECORD_TIME\n",
       "0  2021-09-21 06:30\n",
       "1  2021-09-21 06:00"
      ]
     },
     "execution_count": 3,
     "metadata": {},
     "output_type": "execute_result"
    }
   ],
   "source": [
    "timestamps"
   ]
  },
  {
   "cell_type": "code",
   "execution_count": 4,
   "id": "alternate-victory",
   "metadata": {
    "execution": {
     "iopub.execute_input": "2021-09-21T04:30:08.032313Z",
     "iopub.status.busy": "2021-09-21T04:30:08.030365Z",
     "iopub.status.idle": "2021-09-21T04:30:08.553922Z",
     "shell.execute_reply": "2021-09-21T04:30:08.555285Z"
    },
    "papermill": {
     "duration": 0.553409,
     "end_time": "2021-09-21T04:30:08.555742",
     "exception": false,
     "start_time": "2021-09-21T04:30:08.002333",
     "status": "completed"
    },
    "tags": []
   },
   "outputs": [],
   "source": [
    "df = pd.read_sql(\"select * from EBAY_TOP_BERLIN where record_time in (select distinct record_time from EBAY_TOP_BERLIN order by record_time desc limit 2)\", sqlite3.connect(\"UsedObjects.db\"))"
   ]
  },
  {
   "cell_type": "code",
   "execution_count": 5,
   "id": "popular-active",
   "metadata": {
    "execution": {
     "iopub.execute_input": "2021-09-21T04:30:08.636415Z",
     "iopub.status.busy": "2021-09-21T04:30:08.629371Z",
     "iopub.status.idle": "2021-09-21T04:30:08.652085Z",
     "shell.execute_reply": "2021-09-21T04:30:08.653384Z"
    },
    "papermill": {
     "duration": 0.072094,
     "end_time": "2021-09-21T04:30:08.653803",
     "exception": false,
     "start_time": "2021-09-21T04:30:08.581709",
     "status": "completed"
    },
    "tags": []
   },
   "outputs": [],
   "source": [
    "df_pivot = df.pivot_table(index=\"PRODUCT\", columns = \"RECORD_TIME\", values = \"LISTING_COUNT\")"
   ]
  },
  {
   "cell_type": "code",
   "execution_count": 6,
   "id": "union-huntington",
   "metadata": {
    "execution": {
     "iopub.execute_input": "2021-09-21T04:30:08.709945Z",
     "iopub.status.busy": "2021-09-21T04:30:08.707868Z",
     "iopub.status.idle": "2021-09-21T04:30:08.713046Z",
     "shell.execute_reply": "2021-09-21T04:30:08.714335Z"
    },
    "papermill": {
     "duration": 0.04002,
     "end_time": "2021-09-21T04:30:08.714754",
     "exception": false,
     "start_time": "2021-09-21T04:30:08.674734",
     "status": "completed"
    },
    "tags": []
   },
   "outputs": [],
   "source": [
    "df_pivot.columns = [\"stamp_1\", \"stamp_2\"]\n",
    "df_pivot_diff = df_pivot.diff(axis=1)"
   ]
  },
  {
   "cell_type": "code",
   "execution_count": 7,
   "id": "fifth-motion",
   "metadata": {
    "execution": {
     "iopub.execute_input": "2021-09-21T04:30:08.768918Z",
     "iopub.status.busy": "2021-09-21T04:30:08.766390Z",
     "iopub.status.idle": "2021-09-21T04:30:10.269918Z",
     "shell.execute_reply": "2021-09-21T04:30:10.271301Z"
    },
    "papermill": {
     "duration": 1.536516,
     "end_time": "2021-09-21T04:30:10.271732",
     "exception": false,
     "start_time": "2021-09-21T04:30:08.735216",
     "status": "completed"
    },
    "tags": []
   },
   "outputs": [
    {
     "data": {
      "text/plain": [
       "<AxesSubplot:ylabel='PRODUCT'>"
      ]
     },
     "execution_count": 7,
     "metadata": {},
     "output_type": "execute_result"
    },
    {
     "data": {
      "image/png": "[encoded data removed]",
      "text/plain": [
       "<Figure size 432x288 with 1 Axes>"
      ]
     },
     "metadata": {
      "needs_background": "light"
     },
     "output_type": "display_data"
    }
   ],
   "source": [
    "df_pivot_diff.sort_values(\"stamp_2\", ascending = False)[\"stamp_2\"].head(10).plot.barh()"
   ]
  },
  {
   "cell_type": "code",
   "execution_count": null,
   "id": "extra-executive",
   "metadata": {
    "papermill": {
     "duration": 0.021979,
     "end_time": "2021-09-21T04:30:10.316672",
     "exception": false,
     "start_time": "2021-09-21T04:30:10.294693",
     "status": "completed"
    },
    "tags": []
   },
   "outputs": [],
   "source": []
  }
 ],
 "metadata": {
  "kernelspec": {
   "display_name": "Python 3",
   "language": "python",
   "name": "python3"
  },
  "language_info": {
   "codemirror_mode": {
    "name": "ipython",
    "version": 3
   },
   "file_extension": ".py",
   "mimetype": "text/x-python",
   "name": "python",
   "nbconvert_exporter": "python",
   "pygments_lexer": "ipython3",
   "version": "3.9.5"
  },
  "papermill": {
   "default_parameters": {},
   "duration": 6.725806,
   "end_time": "2021-09-21T04:30:10.958946",
   "environment_variables": {},
   "exception": null,
   "input_path": "eBay_Overview.ipynb",
   "output_path": "eBay_Overview.ipynb",
   "parameters": {},
   "start_time": "2021-09-21T04:30:04.233140",
   "version": "2.3.3"
  }
 },
 "nbformat": 4,
 "nbformat_minor": 5
}