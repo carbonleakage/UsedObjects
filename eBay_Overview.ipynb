{
 "cells": [
  {
   "cell_type": "code",
   "execution_count": 1,
   "id": "reverse-picking",
   "metadata": {
    "execution": {
     "iopub.execute_input": "2021-09-03T05:00:07.549482Z",
     "iopub.status.busy": "2021-09-03T05:00:07.547457Z",
     "iopub.status.idle": "2021-09-03T05:00:08.349985Z",
     "shell.execute_reply": "2021-09-03T05:00:08.351328Z"
    },
    "papermill": {
     "duration": 0.854446,
     "end_time": "2021-09-03T05:00:08.351960",
     "exception": false,
     "start_time": "2021-09-03T05:00:07.497514",
     "status": "completed"
    },
    "tags": []
   },
   "outputs": [],
   "source": [
    "import pandas as pd\n",
    "import sqlite3"
   ]
  },
  {
   "cell_type": "code",
   "execution_count": 2,
   "id": "innovative-syndrome",
   "metadata": {
    "execution": {
     "iopub.execute_input": "2021-09-03T05:00:08.402762Z",
     "iopub.status.busy": "2021-09-03T05:00:08.400910Z",
     "iopub.status.idle": "2021-09-03T05:00:08.591081Z",
     "shell.execute_reply": "2021-09-03T05:00:08.592437Z"
    },
    "papermill": {
     "duration": 0.219905,
     "end_time": "2021-09-03T05:00:08.592852",
     "exception": false,
     "start_time": "2021-09-03T05:00:08.372947",
     "status": "completed"
    },
    "tags": []
   },
   "outputs": [],
   "source": [
    "timestamps = pd.read_sql(\"select distinct record_time from EBAY_TOP_BERLIN order by record_time desc limit 2\", sqlite3.connect(\"UsedObjects.db\"))"
   ]
  },
  {
   "cell_type": "code",
   "execution_count": 3,
   "id": "periodic-identification",
   "metadata": {
    "execution": {
     "iopub.execute_input": "2021-09-03T05:00:08.657365Z",
     "iopub.status.busy": "2021-09-03T05:00:08.655349Z",
     "iopub.status.idle": "2021-09-03T05:00:08.675144Z",
     "shell.execute_reply": "2021-09-03T05:00:08.676658Z"
    },
    "papermill": {
     "duration": 0.064717,
     "end_time": "2021-09-03T05:00:08.677103",
     "exception": false,
     "start_time": "2021-09-03T05:00:08.612386",
     "status": "completed"
    },
    "tags": []
   },
   "outputs": [
    {
     "data": {
      "text/html": [
       "<div>\n",
       "<style scoped>\n",
       "    .dataframe tbody tr th:only-of-type {\n",
       "        vertical-align: middle;\n",
       "    }\n",
       "\n",
       "    .dataframe tbody tr th {\n",
       "        vertical-align: top;\n",
       "    }\n",
       "\n",
       "    .dataframe thead th {\n",
       "        text-align: right;\n",
       "    }\n",
       "</style>\n",
       "<table border=\"1\" class=\"dataframe\">\n",
       "  <thead>\n",
       "    <tr style=\"text-align: right;\">\n",
       "      <th></th>\n",
       "      <th>RECORD_TIME</th>\n",
       "    </tr>\n",
       "  </thead>\n",
       "  <tbody>\n",
       "    <tr>\n",
       "      <th>0</th>\n",
       "      <td>2021-09-03 07:00</td>\n",
       "    </tr>\n",
       "    <tr>\n",
       "      <th>1</th>\n",
       "      <td>2021-09-03 06:30</td>\n",
       "    </tr>\n",
       "  </tbody>\n",
       "</table>\n",
       "</div>"
      ],
      "text/plain": [
       "        RECORD_TIME\n",
       "0  2021-09-03 07:00\n",
       "1  2021-09-03 06:30"
      ]
     },
     "execution_count": 3,
     "metadata": {},
     "output_type": "execute_result"
    }
   ],
   "source": [
    "timestamps"
   ]
  },
  {
   "cell_type": "code",
   "execution_count": 4,
   "id": "alternate-victory",
   "metadata": {
    "execution": {
     "iopub.execute_input": "2021-09-03T05:00:08.728985Z",
     "iopub.status.busy": "2021-09-03T05:00:08.726932Z",
     "iopub.status.idle": "2021-09-03T05:00:09.009391Z",
     "shell.execute_reply": "2021-09-03T05:00:09.010672Z"
    },
    "papermill": {
     "duration": 0.313122,
     "end_time": "2021-09-03T05:00:09.011166",
     "exception": false,
     "start_time": "2021-09-03T05:00:08.698044",
     "status": "completed"
    },
    "tags": []
   },
   "outputs": [],
   "source": [
    "df = pd.read_sql(\"select * from EBAY_TOP_BERLIN where record_time in (select distinct record_time from EBAY_TOP_BERLIN order by record_time desc limit 2)\", sqlite3.connect(\"UsedObjects.db\"))"
   ]
  },
  {
   "cell_type": "code",
   "execution_count": 5,
   "id": "popular-active",
   "metadata": {
    "execution": {
     "iopub.execute_input": "2021-09-03T05:00:09.091726Z",
     "iopub.status.busy": "2021-09-03T05:00:09.079448Z",
     "iopub.status.idle": "2021-09-03T05:00:09.107131Z",
     "shell.execute_reply": "2021-09-03T05:00:09.108360Z"
    },
    "papermill": {
     "duration": 0.071801,
     "end_time": "2021-09-03T05:00:09.108759",
     "exception": false,
     "start_time": "2021-09-03T05:00:09.036958",
     "status": "completed"
    },
    "tags": []
   },
   "outputs": [],
   "source": [
    "df_pivot = df.pivot_table(index=\"PRODUCT\", columns = \"RECORD_TIME\", values = \"LISTING_COUNT\")"
   ]
  },
  {
   "cell_type": "code",
   "execution_count": 6,
   "id": "union-huntington",
   "metadata": {
    "execution": {
     "iopub.execute_input": "2021-09-03T05:00:09.166769Z",
     "iopub.status.busy": "2021-09-03T05:00:09.164515Z",
     "iopub.status.idle": "2021-09-03T05:00:09.170450Z",
     "shell.execute_reply": "2021-09-03T05:00:09.171992Z"
    },
    "papermill": {
     "duration": 0.042056,
     "end_time": "2021-09-03T05:00:09.172471",
     "exception": false,
     "start_time": "2021-09-03T05:00:09.130415",
     "status": "completed"
    },
    "tags": []
   },
   "outputs": [],
   "source": [
    "df_pivot.columns = [\"stamp_1\", \"stamp_2\"]\n",
    "df_pivot_diff = df_pivot.diff(axis=1)"
   ]
  },
  {
   "cell_type": "code",
   "execution_count": 7,
   "id": "fifth-motion",
   "metadata": {
    "execution": {
     "iopub.execute_input": "2021-09-03T05:00:09.226679Z",
     "iopub.status.busy": "2021-09-03T05:00:09.224512Z",
     "iopub.status.idle": "2021-09-03T05:00:10.720726Z",
     "shell.execute_reply": "2021-09-03T05:00:10.722021Z"
    },
    "papermill": {
     "duration": 1.528864,
     "end_time": "2021-09-03T05:00:10.722443",
     "exception": false,
     "start_time": "2021-09-03T05:00:09.193579",
     "status": "completed"
    },
    "tags": []
   },
   "outputs": [
    {
     "data": {
      "text/plain": [
       "<AxesSubplot:ylabel='PRODUCT'>"
      ]
     },
     "execution_count": 7,
     "metadata": {},
     "output_type": "execute_result"
    },
    {
     "data": {
      "image/png": "[encoded data removed]",
      "text/plain": [
       "<Figure size 432x288 with 1 Axes>"
      ]
     },
     "metadata": {
      "needs_background": "light"
     },
     "output_type": "display_data"
    }
   ],
   "source": [
    "df_pivot_diff.sort_values(\"stamp_2\", ascending = False)[\"stamp_2\"].head(10).plot.barh()"
   ]
  },
  {
   "cell_type": "code",
   "execution_count": null,
   "id": "extra-executive",
   "metadata": {
    "papermill": {
     "duration": 0.022358,
     "end_time": "2021-09-03T05:00:10.769430",
     "exception": false,
     "start_time": "2021-09-03T05:00:10.747072",
     "status": "completed"
    },
    "tags": []
   },
   "outputs": [],
   "source": []
  }
 ],
 "metadata": {
  "kernelspec": {
   "display_name": "Python 3",
   "language": "python",
   "name": "python3"
  },
  "language_info": {
   "codemirror_mode": {
    "name": "ipython",
    "version": 3
   },
   "file_extension": ".py",
   "mimetype": "text/x-python",
   "name": "python",
   "nbconvert_exporter": "python",
   "pygments_lexer": "ipython3",
   "version": "3.9.5"
  },
  "papermill": {
   "default_parameters": {},
   "duration": 6.820731,
   "end_time": "2021-09-03T05:00:11.914588",
   "environment_variables": {},
   "exception": null,
   "input_path": "eBay_Overview.ipynb",
   "output_path": "eBay_Overview.ipynb",
   "parameters": {},
   "start_time": "2021-09-03T05:00:05.093857",
   "version": "2.3.3"
  }
 },
 "nbformat": 4,
 "nbformat_minor": 5
}