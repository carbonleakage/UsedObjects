{
 "cells": [
  {
   "cell_type": "code",
   "execution_count": 1,
   "id": "reverse-picking",
   "metadata": {
    "execution": {
     "iopub.execute_input": "2021-10-10T18:00:07.469140Z",
     "iopub.status.busy": "2021-10-10T18:00:07.467174Z",
     "iopub.status.idle": "2021-10-10T18:00:08.278412Z",
     "shell.execute_reply": "2021-10-10T18:00:08.279976Z"
    },
    "papermill": {
     "duration": 0.864084,
     "end_time": "2021-10-10T18:00:08.280729",
     "exception": false,
     "start_time": "2021-10-10T18:00:07.416645",
     "status": "completed"
    },
    "tags": []
   },
   "outputs": [],
   "source": [
    "import pandas as pd\n",
    "import sqlite3"
   ]
  },
  {
   "cell_type": "code",
   "execution_count": 2,
   "id": "innovative-syndrome",
   "metadata": {
    "execution": {
     "iopub.execute_input": "2021-10-10T18:00:08.332457Z",
     "iopub.status.busy": "2021-10-10T18:00:08.330013Z",
     "iopub.status.idle": "2021-10-10T18:00:08.847354Z",
     "shell.execute_reply": "2021-10-10T18:00:08.848593Z"
    },
    "papermill": {
     "duration": 0.547569,
     "end_time": "2021-10-10T18:00:08.848989",
     "exception": false,
     "start_time": "2021-10-10T18:00:08.301420",
     "status": "completed"
    },
    "tags": []
   },
   "outputs": [],
   "source": [
    "timestamps = pd.read_sql(\"select distinct record_time from EBAY_TOP_BERLIN order by record_time desc limit 2\", sqlite3.connect(\"UsedObjects.db\"))"
   ]
  },
  {
   "cell_type": "code",
   "execution_count": 3,
   "id": "periodic-identification",
   "metadata": {
    "execution": {
     "iopub.execute_input": "2021-10-10T18:00:08.926017Z",
     "iopub.status.busy": "2021-10-10T18:00:08.923988Z",
     "iopub.status.idle": "2021-10-10T18:00:08.943957Z",
     "shell.execute_reply": "2021-10-10T18:00:08.945288Z"
    },
    "papermill": {
     "duration": 0.070293,
     "end_time": "2021-10-10T18:00:08.945703",
     "exception": false,
     "start_time": "2021-10-10T18:00:08.875410",
     "status": "completed"
    },
    "tags": []
   },
   "outputs": [
    {
     "data": {
      "text/html": [
       "<div>\n",
       "<style scoped>\n",
       "    .dataframe tbody tr th:only-of-type {\n",
       "        vertical-align: middle;\n",
       "    }\n",
       "\n",
       "    .dataframe tbody tr th {\n",
       "        vertical-align: top;\n",
       "    }\n",
       "\n",
       "    .dataframe thead th {\n",
       "        text-align: right;\n",
       "    }\n",
       "</style>\n",
       "<table border=\"1\" class=\"dataframe\">\n",
       "  <thead>\n",
       "    <tr style=\"text-align: right;\">\n",
       "      <th></th>\n",
       "      <th>RECORD_TIME</th>\n",
       "    </tr>\n",
       "  </thead>\n",
       "  <tbody>\n",
       "    <tr>\n",
       "      <th>0</th>\n",
       "      <td>2021-10-10 20:00</td>\n",
       "    </tr>\n",
       "    <tr>\n",
       "      <th>1</th>\n",
       "      <td>2021-10-10 19:30</td>\n",
       "    </tr>\n",
       "  </tbody>\n",
       "</table>\n",
       "</div>"
      ],
      "text/plain": [
       "        RECORD_TIME\n",
       "0  2021-10-10 20:00\n",
       "1  2021-10-10 19:30"
      ]
     },
     "execution_count": 3,
     "metadata": {},
     "output_type": "execute_result"
    }
   ],
   "source": [
    "timestamps"
   ]
  },
  {
   "cell_type": "code",
   "execution_count": 4,
   "id": "alternate-victory",
   "metadata": {
    "execution": {
     "iopub.execute_input": "2021-10-10T18:00:08.998839Z",
     "iopub.status.busy": "2021-10-10T18:00:08.996508Z",
     "iopub.status.idle": "2021-10-10T18:00:09.755008Z",
     "shell.execute_reply": "2021-10-10T18:00:09.756184Z"
    },
    "papermill": {
     "duration": 0.789578,
     "end_time": "2021-10-10T18:00:09.756602",
     "exception": false,
     "start_time": "2021-10-10T18:00:08.967024",
     "status": "completed"
    },
    "tags": []
   },
   "outputs": [],
   "source": [
    "df = pd.read_sql(\"select * from EBAY_TOP_BERLIN where record_time in (select distinct record_time from EBAY_TOP_BERLIN order by record_time desc limit 2)\", sqlite3.connect(\"UsedObjects.db\"))"
   ]
  },
  {
   "cell_type": "code",
   "execution_count": 5,
   "id": "popular-active",
   "metadata": {
    "execution": {
     "iopub.execute_input": "2021-10-10T18:00:09.828199Z",
     "iopub.status.busy": "2021-10-10T18:00:09.816625Z",
     "iopub.status.idle": "2021-10-10T18:00:09.844699Z",
     "shell.execute_reply": "2021-10-10T18:00:09.845941Z"
    },
    "papermill": {
     "duration": 0.067507,
     "end_time": "2021-10-10T18:00:09.846345",
     "exception": false,
     "start_time": "2021-10-10T18:00:09.778838",
     "status": "completed"
    },
    "tags": []
   },
   "outputs": [],
   "source": [
    "df_pivot = df.pivot_table(index=\"PRODUCT\", columns = \"RECORD_TIME\", values = \"LISTING_COUNT\")"
   ]
  },
  {
   "cell_type": "code",
   "execution_count": 6,
   "id": "union-huntington",
   "metadata": {
    "execution": {
     "iopub.execute_input": "2021-10-10T18:00:09.903977Z",
     "iopub.status.busy": "2021-10-10T18:00:09.901855Z",
     "iopub.status.idle": "2021-10-10T18:00:09.907330Z",
     "shell.execute_reply": "2021-10-10T18:00:09.908929Z"
    },
    "papermill": {
     "duration": 0.041253,
     "end_time": "2021-10-10T18:00:09.909412",
     "exception": false,
     "start_time": "2021-10-10T18:00:09.868159",
     "status": "completed"
    },
    "tags": []
   },
   "outputs": [],
   "source": [
    "df_pivot.columns = [\"stamp_1\", \"stamp_2\"]\n",
    "df_pivot_diff = df_pivot.diff(axis=1)"
   ]
  },
  {
   "cell_type": "code",
   "execution_count": 7,
   "id": "fifth-motion",
   "metadata": {
    "execution": {
     "iopub.execute_input": "2021-10-10T18:00:09.965094Z",
     "iopub.status.busy": "2021-10-10T18:00:09.962741Z",
     "iopub.status.idle": "2021-10-10T18:00:11.495564Z",
     "shell.execute_reply": "2021-10-10T18:00:11.496896Z"
    },
    "papermill": {
     "duration": 1.566083,
     "end_time": "2021-10-10T18:00:11.497317",
     "exception": false,
     "start_time": "2021-10-10T18:00:09.931234",
     "status": "completed"
    },
    "tags": []
   },
   "outputs": [
    {
     "data": {
      "text/plain": [
       "<AxesSubplot:ylabel='PRODUCT'>"
      ]
     },
     "execution_count": 7,
     "metadata": {},
     "output_type": "execute_result"
    },
    {
     "data": {
      "image/png": "[encoded data removed]",
      "text/plain": [
       "<Figure size 432x288 with 1 Axes>"
      ]
     },
     "metadata": {
      "needs_background": "light"
     },
     "output_type": "display_data"
    }
   ],
   "source": [
    "df_pivot_diff.sort_values(\"stamp_2\", ascending = False)[\"stamp_2\"].head(10).plot.barh()"
   ]
  },
  {
   "cell_type": "code",
   "execution_count": null,
   "id": "extra-executive",
   "metadata": {
    "papermill": {
     "duration": 0.022307,
     "end_time": "2021-10-10T18:00:11.544448",
     "exception": false,
     "start_time": "2021-10-10T18:00:11.522141",
     "status": "completed"
    },
    "tags": []
   },
   "outputs": [],
   "source": []
  }
 ],
 "metadata": {
  "kernelspec": {
   "display_name": "Python 3",
   "language": "python",
   "name": "python3"
  },
  "language_info": {
   "codemirror_mode": {
    "name": "ipython",
    "version": 3
   },
   "file_extension": ".py",
   "mimetype": "text/x-python",
   "name": "python",
   "nbconvert_exporter": "python",
   "pygments_lexer": "ipython3",
   "version": "3.9.5"
  },
  "papermill": {
   "default_parameters": {},
   "duration": 7.830477,
   "end_time": "2021-10-10T18:00:12.710704",
   "environment_variables": {},
   "exception": null,
   "input_path": "eBay_Overview.ipynb",
   "output_path": "eBay_Overview.ipynb",
   "parameters": {},
   "start_time": "2021-10-10T18:00:04.880227",
   "version": "2.3.3"
  }
 },
 "nbformat": 4,
 "nbformat_minor": 5
}