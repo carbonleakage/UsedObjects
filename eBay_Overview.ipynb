{
 "cells": [
  {
   "cell_type": "code",
   "execution_count": 1,
   "id": "reverse-picking",
   "metadata": {
    "execution": {
     "iopub.execute_input": "2021-08-09T02:00:03.696970Z",
     "iopub.status.busy": "2021-08-09T02:00:03.696203Z",
     "iopub.status.idle": "2021-08-09T02:00:04.317079Z",
     "shell.execute_reply": "2021-08-09T02:00:04.317652Z"
    },
    "papermill": {
     "duration": 0.640309,
     "end_time": "2021-08-09T02:00:04.317950",
     "exception": false,
     "start_time": "2021-08-09T02:00:03.677641",
     "status": "completed"
    },
    "tags": []
   },
   "outputs": [],
   "source": [
    "import pandas as pd\n",
    "import sqlite3"
   ]
  },
  {
   "cell_type": "code",
   "execution_count": 2,
   "id": "innovative-syndrome",
   "metadata": {
    "execution": {
     "iopub.execute_input": "2021-08-09T02:00:04.342669Z",
     "iopub.status.busy": "2021-08-09T02:00:04.341894Z",
     "iopub.status.idle": "2021-08-09T02:00:04.543138Z",
     "shell.execute_reply": "2021-08-09T02:00:04.543715Z"
    },
    "papermill": {
     "duration": 0.217279,
     "end_time": "2021-08-09T02:00:04.543911",
     "exception": false,
     "start_time": "2021-08-09T02:00:04.326632",
     "status": "completed"
    },
    "tags": []
   },
   "outputs": [],
   "source": [
    "timestamps = pd.read_sql(\"select distinct record_time from EBAY_TOP_BERLIN order by record_time desc limit 2\", sqlite3.connect(\"UsedObjects.db\"))"
   ]
  },
  {
   "cell_type": "code",
   "execution_count": 3,
   "id": "periodic-identification",
   "metadata": {
    "execution": {
     "iopub.execute_input": "2021-08-09T02:00:04.571464Z",
     "iopub.status.busy": "2021-08-09T02:00:04.570676Z",
     "iopub.status.idle": "2021-08-09T02:00:04.584661Z",
     "shell.execute_reply": "2021-08-09T02:00:04.585234Z"
    },
    "papermill": {
     "duration": 0.033297,
     "end_time": "2021-08-09T02:00:04.585430",
     "exception": false,
     "start_time": "2021-08-09T02:00:04.552133",
     "status": "completed"
    },
    "tags": []
   },
   "outputs": [
    {
     "data": {
      "text/html": [
       "<div>\n",
       "<style scoped>\n",
       "    .dataframe tbody tr th:only-of-type {\n",
       "        vertical-align: middle;\n",
       "    }\n",
       "\n",
       "    .dataframe tbody tr th {\n",
       "        vertical-align: top;\n",
       "    }\n",
       "\n",
       "    .dataframe thead th {\n",
       "        text-align: right;\n",
       "    }\n",
       "</style>\n",
       "<table border=\"1\" class=\"dataframe\">\n",
       "  <thead>\n",
       "    <tr style=\"text-align: right;\">\n",
       "      <th></th>\n",
       "      <th>RECORD_TIME</th>\n",
       "    </tr>\n",
       "  </thead>\n",
       "  <tbody>\n",
       "    <tr>\n",
       "      <th>0</th>\n",
       "      <td>2021-08-09 04:00</td>\n",
       "    </tr>\n",
       "    <tr>\n",
       "      <th>1</th>\n",
       "      <td>2021-08-09 03:30</td>\n",
       "    </tr>\n",
       "  </tbody>\n",
       "</table>\n",
       "</div>"
      ],
      "text/plain": [
       "        RECORD_TIME\n",
       "0  2021-08-09 04:00\n",
       "1  2021-08-09 03:30"
      ]
     },
     "execution_count": 3,
     "metadata": {},
     "output_type": "execute_result"
    }
   ],
   "source": [
    "timestamps"
   ]
  },
  {
   "cell_type": "code",
   "execution_count": 4,
   "id": "alternate-victory",
   "metadata": {
    "execution": {
     "iopub.execute_input": "2021-08-09T02:00:04.609130Z",
     "iopub.status.busy": "2021-08-09T02:00:04.608377Z",
     "iopub.status.idle": "2021-08-09T02:00:04.619935Z",
     "shell.execute_reply": "2021-08-09T02:00:04.620638Z"
    },
    "papermill": {
     "duration": 0.026909,
     "end_time": "2021-08-09T02:00:04.620851",
     "exception": false,
     "start_time": "2021-08-09T02:00:04.593942",
     "status": "completed"
    },
    "tags": []
   },
   "outputs": [],
   "source": [
    "df = pd.read_sql(\"select * from EBAY_TOP_BERLIN where record_time in (select distinct record_time from EBAY_TOP_BERLIN order by record_time desc limit 2)\", sqlite3.connect(\"UsedObjects.db\"))"
   ]
  },
  {
   "cell_type": "code",
   "execution_count": 5,
   "id": "popular-active",
   "metadata": {
    "execution": {
     "iopub.execute_input": "2021-08-09T02:00:04.653734Z",
     "iopub.status.busy": "2021-08-09T02:00:04.648858Z",
     "iopub.status.idle": "2021-08-09T02:00:04.669135Z",
     "shell.execute_reply": "2021-08-09T02:00:04.669713Z"
    },
    "papermill": {
     "duration": 0.035471,
     "end_time": "2021-08-09T02:00:04.669912",
     "exception": false,
     "start_time": "2021-08-09T02:00:04.634441",
     "status": "completed"
    },
    "tags": []
   },
   "outputs": [],
   "source": [
    "df_pivot = df.pivot_table(index=\"PRODUCT\", columns = \"RECORD_TIME\", values = \"LISTING_COUNT\")"
   ]
  },
  {
   "cell_type": "code",
   "execution_count": 6,
   "id": "union-huntington",
   "metadata": {
    "execution": {
     "iopub.execute_input": "2021-08-09T02:00:04.696805Z",
     "iopub.status.busy": "2021-08-09T02:00:04.696043Z",
     "iopub.status.idle": "2021-08-09T02:00:04.698702Z",
     "shell.execute_reply": "2021-08-09T02:00:04.699227Z"
    },
    "papermill": {
     "duration": 0.020731,
     "end_time": "2021-08-09T02:00:04.699410",
     "exception": false,
     "start_time": "2021-08-09T02:00:04.678679",
     "status": "completed"
    },
    "tags": []
   },
   "outputs": [],
   "source": [
    "df_pivot.columns = [\"stamp_1\", \"stamp_2\"]\n",
    "df_pivot_diff = df_pivot.diff(axis=1)"
   ]
  },
  {
   "cell_type": "code",
   "execution_count": 7,
   "id": "fifth-motion",
   "metadata": {
    "execution": {
     "iopub.execute_input": "2021-08-09T02:00:04.732645Z",
     "iopub.status.busy": "2021-08-09T02:00:04.730837Z",
     "iopub.status.idle": "2021-08-09T02:00:05.428495Z",
     "shell.execute_reply": "2021-08-09T02:00:05.427129Z"
    },
    "papermill": {
     "duration": 0.721062,
     "end_time": "2021-08-09T02:00:05.428794",
     "exception": false,
     "start_time": "2021-08-09T02:00:04.707732",
     "status": "completed"
    },
    "tags": []
   },
   "outputs": [
    {
     "data": {
      "text/plain": [
       "<AxesSubplot:ylabel='PRODUCT'>"
      ]
     },
     "execution_count": 7,
     "metadata": {},
     "output_type": "execute_result"
    },
    {
     "data": {
      "image/png": "[encoded data removed]",
      "text/plain": [
       "<Figure size 432x288 with 1 Axes>"
      ]
     },
     "metadata": {
      "needs_background": "light"
     },
     "output_type": "display_data"
    }
   ],
   "source": [
    "df_pivot_diff.sort_values(\"stamp_2\", ascending = False)[\"stamp_2\"].head(10).plot.barh()"
   ]
  },
  {
   "cell_type": "code",
   "execution_count": null,
   "id": "extra-executive",
   "metadata": {
    "papermill": {
     "duration": 0.011431,
     "end_time": "2021-08-09T02:00:05.456823",
     "exception": false,
     "start_time": "2021-08-09T02:00:05.445392",
     "status": "completed"
    },
    "tags": []
   },
   "outputs": [],
   "source": []
  }
 ],
 "metadata": {
  "kernelspec": {
   "display_name": "Python 3",
   "language": "python",
   "name": "python3"
  },
  "language_info": {
   "codemirror_mode": {
    "name": "ipython",
    "version": 3
   },
   "file_extension": ".py",
   "mimetype": "text/x-python",
   "name": "python",
   "nbconvert_exporter": "python",
   "pygments_lexer": "ipython3",
   "version": "3.8.8"
  },
  "papermill": {
   "default_parameters": {},
   "duration": 5.030103,
   "end_time": "2021-08-09T02:00:07.044807",
   "environment_variables": {},
   "exception": null,
   "input_path": "/Users/saravananshanmugam/Carbonleakage_Git/UsedObjects/eBay_Overview.ipynb",
   "output_path": "/Users/saravananshanmugam/Carbonleakage_Git/UsedObjects/eBay_Overview.ipynb",
   "parameters": {},
   "start_time": "2021-08-09T02:00:02.014704",
   "version": "2.3.3"
  }
 },
 "nbformat": 4,
 "nbformat_minor": 5
}