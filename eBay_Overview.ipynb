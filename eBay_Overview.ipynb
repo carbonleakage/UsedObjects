{
 "cells": [
  {
   "cell_type": "code",
   "execution_count": 1,
   "id": "reverse-picking",
   "metadata": {
    "execution": {
     "iopub.execute_input": "2021-11-17T05:30:07.443034Z",
     "iopub.status.busy": "2021-11-17T05:30:07.440269Z",
     "iopub.status.idle": "2021-11-17T05:30:08.402771Z",
     "shell.execute_reply": "2021-11-17T05:30:08.404277Z"
    },
    "papermill": {
     "duration": 1.004186,
     "end_time": "2021-11-17T05:30:08.405089",
     "exception": false,
     "start_time": "2021-11-17T05:30:07.400903",
     "status": "completed"
    },
    "tags": []
   },
   "outputs": [],
   "source": [
    "import pandas as pd\n",
    "import sqlite3"
   ]
  },
  {
   "cell_type": "code",
   "execution_count": 2,
   "id": "innovative-syndrome",
   "metadata": {
    "execution": {
     "iopub.execute_input": "2021-11-17T05:30:08.467718Z",
     "iopub.status.busy": "2021-11-17T05:30:08.465268Z",
     "iopub.status.idle": "2021-11-17T05:30:09.308026Z",
     "shell.execute_reply": "2021-11-17T05:30:09.310227Z"
    },
    "papermill": {
     "duration": 0.878604,
     "end_time": "2021-11-17T05:30:09.310712",
     "exception": false,
     "start_time": "2021-11-17T05:30:08.432108",
     "status": "completed"
    },
    "tags": []
   },
   "outputs": [],
   "source": [
    "timestamps = pd.read_sql(\"select distinct record_time from EBAY_TOP_BERLIN order by record_time desc limit 2\", sqlite3.connect(\"UsedObjects.db\"))"
   ]
  },
  {
   "cell_type": "code",
   "execution_count": 3,
   "id": "periodic-identification",
   "metadata": {
    "execution": {
     "iopub.execute_input": "2021-11-17T05:30:09.385617Z",
     "iopub.status.busy": "2021-11-17T05:30:09.383298Z",
     "iopub.status.idle": "2021-11-17T05:30:09.405711Z",
     "shell.execute_reply": "2021-11-17T05:30:09.407210Z"
    },
    "papermill": {
     "duration": 0.075707,
     "end_time": "2021-11-17T05:30:09.407690",
     "exception": false,
     "start_time": "2021-11-17T05:30:09.331983",
     "status": "completed"
    },
    "tags": []
   },
   "outputs": [
    {
     "data": {
      "text/html": [
       "<div>\n",
       "<style scoped>\n",
       "    .dataframe tbody tr th:only-of-type {\n",
       "        vertical-align: middle;\n",
       "    }\n",
       "\n",
       "    .dataframe tbody tr th {\n",
       "        vertical-align: top;\n",
       "    }\n",
       "\n",
       "    .dataframe thead th {\n",
       "        text-align: right;\n",
       "    }\n",
       "</style>\n",
       "<table border=\"1\" class=\"dataframe\">\n",
       "  <thead>\n",
       "    <tr style=\"text-align: right;\">\n",
       "      <th></th>\n",
       "      <th>RECORD_TIME</th>\n",
       "    </tr>\n",
       "  </thead>\n",
       "  <tbody>\n",
       "    <tr>\n",
       "      <th>0</th>\n",
       "      <td>2021-11-17 06:30</td>\n",
       "    </tr>\n",
       "    <tr>\n",
       "      <th>1</th>\n",
       "      <td>2021-11-17 06:00</td>\n",
       "    </tr>\n",
       "  </tbody>\n",
       "</table>\n",
       "</div>"
      ],
      "text/plain": [
       "        RECORD_TIME\n",
       "0  2021-11-17 06:30\n",
       "1  2021-11-17 06:00"
      ]
     },
     "execution_count": 3,
     "metadata": {},
     "output_type": "execute_result"
    }
   ],
   "source": [
    "timestamps"
   ]
  },
  {
   "cell_type": "code",
   "execution_count": 4,
   "id": "alternate-victory",
   "metadata": {
    "execution": {
     "iopub.execute_input": "2021-11-17T05:30:09.462568Z",
     "iopub.status.busy": "2021-11-17T05:30:09.460393Z",
     "iopub.status.idle": "2021-11-17T05:30:10.659217Z",
     "shell.execute_reply": "2021-11-17T05:30:10.660671Z"
    },
    "papermill": {
     "duration": 1.231953,
     "end_time": "2021-11-17T05:30:10.661211",
     "exception": false,
     "start_time": "2021-11-17T05:30:09.429258",
     "status": "completed"
    },
    "tags": []
   },
   "outputs": [],
   "source": [
    "df = pd.read_sql(\"select * from EBAY_TOP_BERLIN where record_time in (select distinct record_time from EBAY_TOP_BERLIN order by record_time desc limit 2)\", sqlite3.connect(\"UsedObjects.db\"))"
   ]
  },
  {
   "cell_type": "code",
   "execution_count": 5,
   "id": "popular-active",
   "metadata": {
    "execution": {
     "iopub.execute_input": "2021-11-17T05:30:10.728487Z",
     "iopub.status.busy": "2021-11-17T05:30:10.726164Z",
     "iopub.status.idle": "2021-11-17T05:30:10.757694Z",
     "shell.execute_reply": "2021-11-17T05:30:10.759245Z"
    },
    "papermill": {
     "duration": 0.075584,
     "end_time": "2021-11-17T05:30:10.759733",
     "exception": false,
     "start_time": "2021-11-17T05:30:10.684149",
     "status": "completed"
    },
    "tags": []
   },
   "outputs": [],
   "source": [
    "df_pivot = df.pivot_table(index=\"PRODUCT\", columns = \"RECORD_TIME\", values = \"LISTING_COUNT\")"
   ]
  },
  {
   "cell_type": "code",
   "execution_count": 6,
   "id": "union-huntington",
   "metadata": {
    "execution": {
     "iopub.execute_input": "2021-11-17T05:30:10.820982Z",
     "iopub.status.busy": "2021-11-17T05:30:10.818601Z",
     "iopub.status.idle": "2021-11-17T05:30:10.824070Z",
     "shell.execute_reply": "2021-11-17T05:30:10.825613Z"
    },
    "papermill": {
     "duration": 0.046094,
     "end_time": "2021-11-17T05:30:10.826113",
     "exception": false,
     "start_time": "2021-11-17T05:30:10.780019",
     "status": "completed"
    },
    "tags": []
   },
   "outputs": [],
   "source": [
    "df_pivot.columns = [\"stamp_1\", \"stamp_2\"]\n",
    "df_pivot_diff = df_pivot.diff(axis=1)"
   ]
  },
  {
   "cell_type": "code",
   "execution_count": 7,
   "id": "fifth-motion",
   "metadata": {
    "execution": {
     "iopub.execute_input": "2021-11-17T05:30:10.887167Z",
     "iopub.status.busy": "2021-11-17T05:30:10.884576Z",
     "iopub.status.idle": "2021-11-17T05:30:12.595449Z",
     "shell.execute_reply": "2021-11-17T05:30:12.596916Z"
    },
    "papermill": {
     "duration": 1.748169,
     "end_time": "2021-11-17T05:30:12.597396",
     "exception": false,
     "start_time": "2021-11-17T05:30:10.849227",
     "status": "completed"
    },
    "tags": []
   },
   "outputs": [
    {
     "data": {
      "text/plain": [
       "<AxesSubplot:ylabel='PRODUCT'>"
      ]
     },
     "execution_count": 7,
     "metadata": {},
     "output_type": "execute_result"
    },
    {
     "data": {
      "image/png": "[encoded data removed]",
      "text/plain": [
       "<Figure size 432x288 with 1 Axes>"
      ]
     },
     "metadata": {
      "needs_background": "light"
     },
     "output_type": "display_data"
    }
   ],
   "source": [
    "df_pivot_diff.sort_values(\"stamp_2\", ascending = False)[\"stamp_2\"].head(10).plot.barh()"
   ]
  },
  {
   "cell_type": "code",
   "execution_count": null,
   "id": "extra-executive",
   "metadata": {
    "papermill": {
     "duration": 0.022399,
     "end_time": "2021-11-17T05:30:12.644932",
     "exception": false,
     "start_time": "2021-11-17T05:30:12.622533",
     "status": "completed"
    },
    "tags": []
   },
   "outputs": [],
   "source": []
  }
 ],
 "metadata": {
  "kernelspec": {
   "display_name": "Python 3",
   "language": "python",
   "name": "python3"
  },
  "language_info": {
   "codemirror_mode": {
    "name": "ipython",
    "version": 3
   },
   "file_extension": ".py",
   "mimetype": "text/x-python",
   "name": "python",
   "nbconvert_exporter": "python",
   "pygments_lexer": "ipython3",
   "version": "3.9.5"
  },
  "papermill": {
   "default_parameters": {},
   "duration": 8.601185,
   "end_time": "2021-11-17T05:30:13.288281",
   "environment_variables": {},
   "exception": null,
   "input_path": "eBay_Overview.ipynb",
   "output_path": "eBay_Overview.ipynb",
   "parameters": {},
   "start_time": "2021-11-17T05:30:04.687096",
   "version": "2.3.3"
  }
 },
 "nbformat": 4,
 "nbformat_minor": 5
}