{
 "cells": [
  {
   "cell_type": "code",
   "execution_count": 1,
   "id": "reverse-picking",
   "metadata": {
    "execution": {
     "iopub.execute_input": "2021-09-19T20:00:07.367187Z",
     "iopub.status.busy": "2021-09-19T20:00:07.365211Z",
     "iopub.status.idle": "2021-09-19T20:00:08.171280Z",
     "shell.execute_reply": "2021-09-19T20:00:08.172621Z"
    },
    "papermill": {
     "duration": 0.858489,
     "end_time": "2021-09-19T20:00:08.173265",
     "exception": false,
     "start_time": "2021-09-19T20:00:07.314776",
     "status": "completed"
    },
    "tags": []
   },
   "outputs": [],
   "source": [
    "import pandas as pd\n",
    "import sqlite3"
   ]
  },
  {
   "cell_type": "code",
   "execution_count": 2,
   "id": "innovative-syndrome",
   "metadata": {
    "execution": {
     "iopub.execute_input": "2021-09-19T20:00:08.225590Z",
     "iopub.status.busy": "2021-09-19T20:00:08.223481Z",
     "iopub.status.idle": "2021-09-19T20:00:08.554199Z",
     "shell.execute_reply": "2021-09-19T20:00:08.555458Z"
    },
    "papermill": {
     "duration": 0.360282,
     "end_time": "2021-09-19T20:00:08.555860",
     "exception": false,
     "start_time": "2021-09-19T20:00:08.195578",
     "status": "completed"
    },
    "tags": []
   },
   "outputs": [],
   "source": [
    "timestamps = pd.read_sql(\"select distinct record_time from EBAY_TOP_BERLIN order by record_time desc limit 2\", sqlite3.connect(\"UsedObjects.db\"))"
   ]
  },
  {
   "cell_type": "code",
   "execution_count": 3,
   "id": "periodic-identification",
   "metadata": {
    "execution": {
     "iopub.execute_input": "2021-09-19T20:00:08.621594Z",
     "iopub.status.busy": "2021-09-19T20:00:08.619619Z",
     "iopub.status.idle": "2021-09-19T20:00:08.639819Z",
     "shell.execute_reply": "2021-09-19T20:00:08.641202Z"
    },
    "papermill": {
     "duration": 0.064908,
     "end_time": "2021-09-19T20:00:08.641636",
     "exception": false,
     "start_time": "2021-09-19T20:00:08.576728",
     "status": "completed"
    },
    "tags": []
   },
   "outputs": [
    {
     "data": {
      "text/html": [
       "<div>\n",
       "<style scoped>\n",
       "    .dataframe tbody tr th:only-of-type {\n",
       "        vertical-align: middle;\n",
       "    }\n",
       "\n",
       "    .dataframe tbody tr th {\n",
       "        vertical-align: top;\n",
       "    }\n",
       "\n",
       "    .dataframe thead th {\n",
       "        text-align: right;\n",
       "    }\n",
       "</style>\n",
       "<table border=\"1\" class=\"dataframe\">\n",
       "  <thead>\n",
       "    <tr style=\"text-align: right;\">\n",
       "      <th></th>\n",
       "      <th>RECORD_TIME</th>\n",
       "    </tr>\n",
       "  </thead>\n",
       "  <tbody>\n",
       "    <tr>\n",
       "      <th>0</th>\n",
       "      <td>2021-09-19 22:00</td>\n",
       "    </tr>\n",
       "    <tr>\n",
       "      <th>1</th>\n",
       "      <td>2021-09-19 21:30</td>\n",
       "    </tr>\n",
       "  </tbody>\n",
       "</table>\n",
       "</div>"
      ],
      "text/plain": [
       "        RECORD_TIME\n",
       "0  2021-09-19 22:00\n",
       "1  2021-09-19 21:30"
      ]
     },
     "execution_count": 3,
     "metadata": {},
     "output_type": "execute_result"
    }
   ],
   "source": [
    "timestamps"
   ]
  },
  {
   "cell_type": "code",
   "execution_count": 4,
   "id": "alternate-victory",
   "metadata": {
    "execution": {
     "iopub.execute_input": "2021-09-19T20:00:08.693289Z",
     "iopub.status.busy": "2021-09-19T20:00:08.691290Z",
     "iopub.status.idle": "2021-09-19T20:00:09.164945Z",
     "shell.execute_reply": "2021-09-19T20:00:09.166135Z"
    },
    "papermill": {
     "duration": 0.504143,
     "end_time": "2021-09-19T20:00:09.166529",
     "exception": false,
     "start_time": "2021-09-19T20:00:08.662386",
     "status": "completed"
    },
    "tags": []
   },
   "outputs": [],
   "source": [
    "df = pd.read_sql(\"select * from EBAY_TOP_BERLIN where record_time in (select distinct record_time from EBAY_TOP_BERLIN order by record_time desc limit 2)\", sqlite3.connect(\"UsedObjects.db\"))"
   ]
  },
  {
   "cell_type": "code",
   "execution_count": 5,
   "id": "popular-active",
   "metadata": {
    "execution": {
     "iopub.execute_input": "2021-09-19T20:00:09.250366Z",
     "iopub.status.busy": "2021-09-19T20:00:09.237903Z",
     "iopub.status.idle": "2021-09-19T20:00:09.266410Z",
     "shell.execute_reply": "2021-09-19T20:00:09.267756Z"
    },
    "papermill": {
     "duration": 0.072775,
     "end_time": "2021-09-19T20:00:09.268171",
     "exception": false,
     "start_time": "2021-09-19T20:00:09.195396",
     "status": "completed"
    },
    "tags": []
   },
   "outputs": [],
   "source": [
    "df_pivot = df.pivot_table(index=\"PRODUCT\", columns = \"RECORD_TIME\", values = \"LISTING_COUNT\")"
   ]
  },
  {
   "cell_type": "code",
   "execution_count": 6,
   "id": "union-huntington",
   "metadata": {
    "execution": {
     "iopub.execute_input": "2021-09-19T20:00:09.323428Z",
     "iopub.status.busy": "2021-09-19T20:00:09.321414Z",
     "iopub.status.idle": "2021-09-19T20:00:09.326528Z",
     "shell.execute_reply": "2021-09-19T20:00:09.327916Z"
    },
    "papermill": {
     "duration": 0.039997,
     "end_time": "2021-09-19T20:00:09.328351",
     "exception": false,
     "start_time": "2021-09-19T20:00:09.288354",
     "status": "completed"
    },
    "tags": []
   },
   "outputs": [],
   "source": [
    "df_pivot.columns = [\"stamp_1\", \"stamp_2\"]\n",
    "df_pivot_diff = df_pivot.diff(axis=1)"
   ]
  },
  {
   "cell_type": "code",
   "execution_count": 7,
   "id": "fifth-motion",
   "metadata": {
    "execution": {
     "iopub.execute_input": "2021-09-19T20:00:09.383475Z",
     "iopub.status.busy": "2021-09-19T20:00:09.380905Z",
     "iopub.status.idle": "2021-09-19T20:00:10.901545Z",
     "shell.execute_reply": "2021-09-19T20:00:10.902951Z"
    },
    "papermill": {
     "duration": 1.553818,
     "end_time": "2021-09-19T20:00:10.903440",
     "exception": false,
     "start_time": "2021-09-19T20:00:09.349622",
     "status": "completed"
    },
    "tags": []
   },
   "outputs": [
    {
     "data": {
      "text/plain": [
       "<AxesSubplot:ylabel='PRODUCT'>"
      ]
     },
     "execution_count": 7,
     "metadata": {},
     "output_type": "execute_result"
    },
    {
     "data": {
      "image/png": "[encoded data removed]",
      "text/plain": [
       "<Figure size 432x288 with 1 Axes>"
      ]
     },
     "metadata": {
      "needs_background": "light"
     },
     "output_type": "display_data"
    }
   ],
   "source": [
    "df_pivot_diff.sort_values(\"stamp_2\", ascending = False)[\"stamp_2\"].head(10).plot.barh()"
   ]
  },
  {
   "cell_type": "code",
   "execution_count": null,
   "id": "extra-executive",
   "metadata": {
    "papermill": {
     "duration": 0.022288,
     "end_time": "2021-09-19T20:00:10.950669",
     "exception": false,
     "start_time": "2021-09-19T20:00:10.928381",
     "status": "completed"
    },
    "tags": []
   },
   "outputs": [],
   "source": []
  }
 ],
 "metadata": {
  "kernelspec": {
   "display_name": "Python 3",
   "language": "python",
   "name": "python3"
  },
  "language_info": {
   "codemirror_mode": {
    "name": "ipython",
    "version": 3
   },
   "file_extension": ".py",
   "mimetype": "text/x-python",
   "name": "python",
   "nbconvert_exporter": "python",
   "pygments_lexer": "ipython3",
   "version": "3.9.5"
  },
  "papermill": {
   "default_parameters": {},
   "duration": 6.678981,
   "end_time": "2021-09-19T20:00:11.591053",
   "environment_variables": {},
   "exception": null,
   "input_path": "eBay_Overview.ipynb",
   "output_path": "eBay_Overview.ipynb",
   "parameters": {},
   "start_time": "2021-09-19T20:00:04.912072",
   "version": "2.3.3"
  }
 },
 "nbformat": 4,
 "nbformat_minor": 5
}