{
 "cells": [
  {
   "cell_type": "code",
   "execution_count": 1,
   "id": "reverse-picking",
   "metadata": {
    "execution": {
     "iopub.execute_input": "2021-11-06T08:00:07.931999Z",
     "iopub.status.busy": "2021-11-06T08:00:07.920059Z",
     "iopub.status.idle": "2021-11-06T08:00:08.876531Z",
     "shell.execute_reply": "2021-11-06T08:00:08.878112Z"
    },
    "papermill": {
     "duration": 1.005625,
     "end_time": "2021-11-06T08:00:08.878841",
     "exception": false,
     "start_time": "2021-11-06T08:00:07.873216",
     "status": "completed"
    },
    "tags": []
   },
   "outputs": [],
   "source": [
    "import pandas as pd\n",
    "import sqlite3"
   ]
  },
  {
   "cell_type": "code",
   "execution_count": 2,
   "id": "innovative-syndrome",
   "metadata": {
    "execution": {
     "iopub.execute_input": "2021-11-06T08:00:08.974069Z",
     "iopub.status.busy": "2021-11-06T08:00:08.971703Z",
     "iopub.status.idle": "2021-11-06T08:00:09.750758Z",
     "shell.execute_reply": "2021-11-06T08:00:09.752137Z"
    },
    "papermill": {
     "duration": 0.813069,
     "end_time": "2021-11-06T08:00:09.752608",
     "exception": false,
     "start_time": "2021-11-06T08:00:08.939539",
     "status": "completed"
    },
    "tags": []
   },
   "outputs": [],
   "source": [
    "timestamps = pd.read_sql(\"select distinct record_time from EBAY_TOP_BERLIN order by record_time desc limit 2\", sqlite3.connect(\"UsedObjects.db\"))"
   ]
  },
  {
   "cell_type": "code",
   "execution_count": 3,
   "id": "periodic-identification",
   "metadata": {
    "execution": {
     "iopub.execute_input": "2021-11-06T08:00:09.826387Z",
     "iopub.status.busy": "2021-11-06T08:00:09.823970Z",
     "iopub.status.idle": "2021-11-06T08:00:09.847172Z",
     "shell.execute_reply": "2021-11-06T08:00:09.848664Z"
    },
    "papermill": {
     "duration": 0.074519,
     "end_time": "2021-11-06T08:00:09.849232",
     "exception": false,
     "start_time": "2021-11-06T08:00:09.774713",
     "status": "completed"
    },
    "tags": []
   },
   "outputs": [
    {
     "data": {
      "text/html": [
       "<div>\n",
       "<style scoped>\n",
       "    .dataframe tbody tr th:only-of-type {\n",
       "        vertical-align: middle;\n",
       "    }\n",
       "\n",
       "    .dataframe tbody tr th {\n",
       "        vertical-align: top;\n",
       "    }\n",
       "\n",
       "    .dataframe thead th {\n",
       "        text-align: right;\n",
       "    }\n",
       "</style>\n",
       "<table border=\"1\" class=\"dataframe\">\n",
       "  <thead>\n",
       "    <tr style=\"text-align: right;\">\n",
       "      <th></th>\n",
       "      <th>RECORD_TIME</th>\n",
       "    </tr>\n",
       "  </thead>\n",
       "  <tbody>\n",
       "    <tr>\n",
       "      <th>0</th>\n",
       "      <td>2021-11-06 09:00</td>\n",
       "    </tr>\n",
       "    <tr>\n",
       "      <th>1</th>\n",
       "      <td>2021-11-06 08:30</td>\n",
       "    </tr>\n",
       "  </tbody>\n",
       "</table>\n",
       "</div>"
      ],
      "text/plain": [
       "        RECORD_TIME\n",
       "0  2021-11-06 09:00\n",
       "1  2021-11-06 08:30"
      ]
     },
     "execution_count": 3,
     "metadata": {},
     "output_type": "execute_result"
    }
   ],
   "source": [
    "timestamps"
   ]
  },
  {
   "cell_type": "code",
   "execution_count": 4,
   "id": "alternate-victory",
   "metadata": {
    "execution": {
     "iopub.execute_input": "2021-11-06T08:00:09.917577Z",
     "iopub.status.busy": "2021-11-06T08:00:09.914353Z",
     "iopub.status.idle": "2021-11-06T08:00:10.981063Z",
     "shell.execute_reply": "2021-11-06T08:00:10.982567Z"
    },
    "papermill": {
     "duration": 1.110962,
     "end_time": "2021-11-06T08:00:10.983021",
     "exception": false,
     "start_time": "2021-11-06T08:00:09.872059",
     "status": "completed"
    },
    "tags": []
   },
   "outputs": [],
   "source": [
    "df = pd.read_sql(\"select * from EBAY_TOP_BERLIN where record_time in (select distinct record_time from EBAY_TOP_BERLIN order by record_time desc limit 2)\", sqlite3.connect(\"UsedObjects.db\"))"
   ]
  },
  {
   "cell_type": "code",
   "execution_count": 5,
   "id": "popular-active",
   "metadata": {
    "execution": {
     "iopub.execute_input": "2021-11-06T08:00:11.062077Z",
     "iopub.status.busy": "2021-11-06T08:00:11.046323Z",
     "iopub.status.idle": "2021-11-06T08:00:11.083527Z",
     "shell.execute_reply": "2021-11-06T08:00:11.085262Z"
    },
    "papermill": {
     "duration": 0.080021,
     "end_time": "2021-11-06T08:00:11.085763",
     "exception": false,
     "start_time": "2021-11-06T08:00:11.005742",
     "status": "completed"
    },
    "tags": []
   },
   "outputs": [],
   "source": [
    "df_pivot = df.pivot_table(index=\"PRODUCT\", columns = \"RECORD_TIME\", values = \"LISTING_COUNT\")"
   ]
  },
  {
   "cell_type": "code",
   "execution_count": 6,
   "id": "union-huntington",
   "metadata": {
    "execution": {
     "iopub.execute_input": "2021-11-06T08:00:11.192128Z",
     "iopub.status.busy": "2021-11-06T08:00:11.189777Z",
     "iopub.status.idle": "2021-11-06T08:00:11.196127Z",
     "shell.execute_reply": "2021-11-06T08:00:11.197826Z"
    },
    "papermill": {
     "duration": 0.060888,
     "end_time": "2021-11-06T08:00:11.198336",
     "exception": false,
     "start_time": "2021-11-06T08:00:11.137448",
     "status": "completed"
    },
    "tags": []
   },
   "outputs": [],
   "source": [
    "df_pivot.columns = [\"stamp_1\", \"stamp_2\"]\n",
    "df_pivot_diff = df_pivot.diff(axis=1)"
   ]
  },
  {
   "cell_type": "code",
   "execution_count": 7,
   "id": "fifth-motion",
   "metadata": {
    "execution": {
     "iopub.execute_input": "2021-11-06T08:00:11.259973Z",
     "iopub.status.busy": "2021-11-06T08:00:11.257424Z",
     "iopub.status.idle": "2021-11-06T08:00:13.099733Z",
     "shell.execute_reply": "2021-11-06T08:00:13.101418Z"
    },
    "papermill": {
     "duration": 1.880048,
     "end_time": "2021-11-06T08:00:13.101934",
     "exception": false,
     "start_time": "2021-11-06T08:00:11.221886",
     "status": "completed"
    },
    "tags": []
   },
   "outputs": [
    {
     "data": {
      "text/plain": [
       "<AxesSubplot:ylabel='PRODUCT'>"
      ]
     },
     "execution_count": 7,
     "metadata": {},
     "output_type": "execute_result"
    },
    {
     "data": {
      "image/png": "[encoded data removed]",
      "text/plain": [
       "<Figure size 432x288 with 1 Axes>"
      ]
     },
     "metadata": {
      "needs_background": "light"
     },
     "output_type": "display_data"
    }
   ],
   "source": [
    "df_pivot_diff.sort_values(\"stamp_2\", ascending = False)[\"stamp_2\"].head(10).plot.barh()"
   ]
  },
  {
   "cell_type": "code",
   "execution_count": null,
   "id": "extra-executive",
   "metadata": {
    "papermill": {
     "duration": 0.023702,
     "end_time": "2021-11-06T08:00:13.153474",
     "exception": false,
     "start_time": "2021-11-06T08:00:13.129772",
     "status": "completed"
    },
    "tags": []
   },
   "outputs": [],
   "source": []
  }
 ],
 "metadata": {
  "kernelspec": {
   "display_name": "Python 3",
   "language": "python",
   "name": "python3"
  },
  "language_info": {
   "codemirror_mode": {
    "name": "ipython",
    "version": 3
   },
   "file_extension": ".py",
   "mimetype": "text/x-python",
   "name": "python",
   "nbconvert_exporter": "python",
   "pygments_lexer": "ipython3",
   "version": "3.9.5"
  },
  "papermill": {
   "default_parameters": {},
   "duration": 9.030651,
   "end_time": "2021-11-06T08:00:14.038313",
   "environment_variables": {},
   "exception": null,
   "input_path": "eBay_Overview.ipynb",
   "output_path": "eBay_Overview.ipynb",
   "parameters": {},
   "start_time": "2021-11-06T08:00:05.007662",
   "version": "2.3.3"
  }
 },
 "nbformat": 4,
 "nbformat_minor": 5
}