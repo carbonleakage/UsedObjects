{
 "cells": [
  {
   "cell_type": "code",
   "execution_count": 1,
   "id": "reverse-picking",
   "metadata": {
    "execution": {
     "iopub.execute_input": "2021-12-11T17:30:07.838227Z",
     "iopub.status.busy": "2021-12-11T17:30:07.835841Z",
     "iopub.status.idle": "2021-12-11T17:30:08.793010Z",
     "shell.execute_reply": "2021-12-11T17:30:08.794635Z"
    },
    "papermill": {
     "duration": 1.004243,
     "end_time": "2021-12-11T17:30:08.795369",
     "exception": false,
     "start_time": "2021-12-11T17:30:07.791126",
     "status": "completed"
    },
    "tags": []
   },
   "outputs": [],
   "source": [
    "import pandas as pd\n",
    "import sqlite3"
   ]
  },
  {
   "cell_type": "code",
   "execution_count": 2,
   "id": "innovative-syndrome",
   "metadata": {
    "execution": {
     "iopub.execute_input": "2021-12-11T17:30:08.859318Z",
     "iopub.status.busy": "2021-12-11T17:30:08.856756Z",
     "iopub.status.idle": "2021-12-11T17:30:09.913353Z",
     "shell.execute_reply": "2021-12-11T17:30:09.915866Z"
    },
    "papermill": {
     "duration": 1.092193,
     "end_time": "2021-12-11T17:30:09.916378",
     "exception": false,
     "start_time": "2021-12-11T17:30:08.824185",
     "status": "completed"
    },
    "tags": []
   },
   "outputs": [],
   "source": [
    "timestamps = pd.read_sql(\"select distinct record_time from EBAY_TOP_BERLIN order by record_time desc limit 2\", sqlite3.connect(\"UsedObjects.db\"))"
   ]
  },
  {
   "cell_type": "code",
   "execution_count": 3,
   "id": "periodic-identification",
   "metadata": {
    "execution": {
     "iopub.execute_input": "2021-12-11T17:30:09.989442Z",
     "iopub.status.busy": "2021-12-11T17:30:09.986840Z",
     "iopub.status.idle": "2021-12-11T17:30:10.010703Z",
     "shell.execute_reply": "2021-12-11T17:30:10.012172Z"
    },
    "papermill": {
     "duration": 0.075438,
     "end_time": "2021-12-11T17:30:10.012736",
     "exception": false,
     "start_time": "2021-12-11T17:30:09.937298",
     "status": "completed"
    },
    "tags": []
   },
   "outputs": [
    {
     "data": {
      "text/html": [
       "<div>\n",
       "<style scoped>\n",
       "    .dataframe tbody tr th:only-of-type {\n",
       "        vertical-align: middle;\n",
       "    }\n",
       "\n",
       "    .dataframe tbody tr th {\n",
       "        vertical-align: top;\n",
       "    }\n",
       "\n",
       "    .dataframe thead th {\n",
       "        text-align: right;\n",
       "    }\n",
       "</style>\n",
       "<table border=\"1\" class=\"dataframe\">\n",
       "  <thead>\n",
       "    <tr style=\"text-align: right;\">\n",
       "      <th></th>\n",
       "      <th>RECORD_TIME</th>\n",
       "    </tr>\n",
       "  </thead>\n",
       "  <tbody>\n",
       "    <tr>\n",
       "      <th>0</th>\n",
       "      <td>2021-12-11 18:30</td>\n",
       "    </tr>\n",
       "    <tr>\n",
       "      <th>1</th>\n",
       "      <td>2021-12-11 18:00</td>\n",
       "    </tr>\n",
       "  </tbody>\n",
       "</table>\n",
       "</div>"
      ],
      "text/plain": [
       "        RECORD_TIME\n",
       "0  2021-12-11 18:30\n",
       "1  2021-12-11 18:00"
      ]
     },
     "execution_count": 3,
     "metadata": {},
     "output_type": "execute_result"
    }
   ],
   "source": [
    "timestamps"
   ]
  },
  {
   "cell_type": "code",
   "execution_count": 4,
   "id": "alternate-victory",
   "metadata": {
    "execution": {
     "iopub.execute_input": "2021-12-11T17:30:10.069848Z",
     "iopub.status.busy": "2021-12-11T17:30:10.067447Z",
     "iopub.status.idle": "2021-12-11T17:30:11.622125Z",
     "shell.execute_reply": "2021-12-11T17:30:11.623763Z"
    },
    "papermill": {
     "duration": 1.590394,
     "end_time": "2021-12-11T17:30:11.624275",
     "exception": false,
     "start_time": "2021-12-11T17:30:10.033881",
     "status": "completed"
    },
    "tags": []
   },
   "outputs": [],
   "source": [
    "df = pd.read_sql(\"select * from EBAY_TOP_BERLIN where record_time in (select distinct record_time from EBAY_TOP_BERLIN order by record_time desc limit 2)\", sqlite3.connect(\"UsedObjects.db\"))"
   ]
  },
  {
   "cell_type": "code",
   "execution_count": 5,
   "id": "popular-active",
   "metadata": {
    "execution": {
     "iopub.execute_input": "2021-12-11T17:30:11.700938Z",
     "iopub.status.busy": "2021-12-11T17:30:11.688561Z",
     "iopub.status.idle": "2021-12-11T17:30:11.718608Z",
     "shell.execute_reply": "2021-12-11T17:30:11.719993Z"
    },
    "papermill": {
     "duration": 0.073787,
     "end_time": "2021-12-11T17:30:11.720470",
     "exception": false,
     "start_time": "2021-12-11T17:30:11.646683",
     "status": "completed"
    },
    "tags": []
   },
   "outputs": [],
   "source": [
    "df_pivot = df.pivot_table(index=\"PRODUCT\", columns = \"RECORD_TIME\", values = \"LISTING_COUNT\")"
   ]
  },
  {
   "cell_type": "code",
   "execution_count": 6,
   "id": "union-huntington",
   "metadata": {
    "execution": {
     "iopub.execute_input": "2021-12-11T17:30:11.784415Z",
     "iopub.status.busy": "2021-12-11T17:30:11.781969Z",
     "iopub.status.idle": "2021-12-11T17:30:11.787969Z",
     "shell.execute_reply": "2021-12-11T17:30:11.789561Z"
    },
    "papermill": {
     "duration": 0.049812,
     "end_time": "2021-12-11T17:30:11.790080",
     "exception": false,
     "start_time": "2021-12-11T17:30:11.740268",
     "status": "completed"
    },
    "tags": []
   },
   "outputs": [],
   "source": [
    "df_pivot.columns = [\"stamp_1\", \"stamp_2\"]\n",
    "df_pivot_diff = df_pivot.diff(axis=1)"
   ]
  },
  {
   "cell_type": "code",
   "execution_count": 7,
   "id": "fifth-motion",
   "metadata": {
    "execution": {
     "iopub.execute_input": "2021-12-11T17:30:11.845067Z",
     "iopub.status.busy": "2021-12-11T17:30:11.840405Z",
     "iopub.status.idle": "2021-12-11T17:30:13.819226Z",
     "shell.execute_reply": "2021-12-11T17:30:13.821129Z"
    },
    "papermill": {
     "duration": 2.009827,
     "end_time": "2021-12-11T17:30:13.821734",
     "exception": false,
     "start_time": "2021-12-11T17:30:11.811907",
     "status": "completed"
    },
    "tags": []
   },
   "outputs": [
    {
     "data": {
      "text/plain": [
       "<AxesSubplot:ylabel='PRODUCT'>"
      ]
     },
     "execution_count": 7,
     "metadata": {},
     "output_type": "execute_result"
    },
    {
     "data": {
      "image/png": "[encoded data removed]",
      "text/plain": [
       "<Figure size 432x288 with 1 Axes>"
      ]
     },
     "metadata": {
      "needs_background": "light"
     },
     "output_type": "display_data"
    }
   ],
   "source": [
    "df_pivot_diff.sort_values(\"stamp_2\", ascending = False)[\"stamp_2\"].head(10).plot.barh()"
   ]
  },
  {
   "cell_type": "code",
   "execution_count": null,
   "id": "extra-executive",
   "metadata": {
    "papermill": {
     "duration": 0.03654,
     "end_time": "2021-12-11T17:30:13.892011",
     "exception": false,
     "start_time": "2021-12-11T17:30:13.855471",
     "status": "completed"
    },
    "tags": []
   },
   "outputs": [],
   "source": []
  }
 ],
 "metadata": {
  "kernelspec": {
   "display_name": "Python 3",
   "language": "python",
   "name": "python3"
  },
  "language_info": {
   "codemirror_mode": {
    "name": "ipython",
    "version": 3
   },
   "file_extension": ".py",
   "mimetype": "text/x-python",
   "name": "python",
   "nbconvert_exporter": "python",
   "pygments_lexer": "ipython3",
   "version": "3.9.5"
  },
  "papermill": {
   "default_parameters": {},
   "duration": 9.601629,
   "end_time": "2021-12-11T17:30:14.659761",
   "environment_variables": {},
   "exception": null,
   "input_path": "eBay_Overview.ipynb",
   "output_path": "eBay_Overview.ipynb",
   "parameters": {},
   "start_time": "2021-12-11T17:30:05.058132",
   "version": "2.3.3"
  }
 },
 "nbformat": 4,
 "nbformat_minor": 5
}