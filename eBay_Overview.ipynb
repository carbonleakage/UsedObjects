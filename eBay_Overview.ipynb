{
 "cells": [
  {
   "cell_type": "code",
   "execution_count": 1,
   "id": "reverse-picking",
   "metadata": {
    "execution": {
     "iopub.execute_input": "2021-10-25T09:00:07.134262Z",
     "iopub.status.busy": "2021-10-25T09:00:07.132197Z",
     "iopub.status.idle": "2021-10-25T09:00:07.946638Z",
     "shell.execute_reply": "2021-10-25T09:00:07.944954Z"
    },
    "papermill": {
     "duration": 0.8634,
     "end_time": "2021-10-25T09:00:07.947050",
     "exception": false,
     "start_time": "2021-10-25T09:00:07.083650",
     "status": "completed"
    },
    "tags": []
   },
   "outputs": [],
   "source": [
    "import pandas as pd\n",
    "import sqlite3"
   ]
  },
  {
   "cell_type": "code",
   "execution_count": 2,
   "id": "innovative-syndrome",
   "metadata": {
    "execution": {
     "iopub.execute_input": "2021-10-25T09:00:07.997651Z",
     "iopub.status.busy": "2021-10-25T09:00:07.995643Z",
     "iopub.status.idle": "2021-10-25T09:00:08.634516Z",
     "shell.execute_reply": "2021-10-25T09:00:08.635785Z"
    },
    "papermill": {
     "duration": 0.668653,
     "end_time": "2021-10-25T09:00:08.636232",
     "exception": false,
     "start_time": "2021-10-25T09:00:07.967579",
     "status": "completed"
    },
    "tags": []
   },
   "outputs": [],
   "source": [
    "timestamps = pd.read_sql(\"select distinct record_time from EBAY_TOP_BERLIN order by record_time desc limit 2\", sqlite3.connect(\"UsedObjects.db\"))"
   ]
  },
  {
   "cell_type": "code",
   "execution_count": 3,
   "id": "periodic-identification",
   "metadata": {
    "execution": {
     "iopub.execute_input": "2021-10-25T09:00:08.717968Z",
     "iopub.status.busy": "2021-10-25T09:00:08.712987Z",
     "iopub.status.idle": "2021-10-25T09:00:08.737745Z",
     "shell.execute_reply": "2021-10-25T09:00:08.739092Z"
    },
    "papermill": {
     "duration": 0.074327,
     "end_time": "2021-10-25T09:00:08.739499",
     "exception": false,
     "start_time": "2021-10-25T09:00:08.665172",
     "status": "completed"
    },
    "tags": []
   },
   "outputs": [
    {
     "data": {
      "text/html": [
       "<div>\n",
       "<style scoped>\n",
       "    .dataframe tbody tr th:only-of-type {\n",
       "        vertical-align: middle;\n",
       "    }\n",
       "\n",
       "    .dataframe tbody tr th {\n",
       "        vertical-align: top;\n",
       "    }\n",
       "\n",
       "    .dataframe thead th {\n",
       "        text-align: right;\n",
       "    }\n",
       "</style>\n",
       "<table border=\"1\" class=\"dataframe\">\n",
       "  <thead>\n",
       "    <tr style=\"text-align: right;\">\n",
       "      <th></th>\n",
       "      <th>RECORD_TIME</th>\n",
       "    </tr>\n",
       "  </thead>\n",
       "  <tbody>\n",
       "    <tr>\n",
       "      <th>0</th>\n",
       "      <td>2021-10-25 11:00</td>\n",
       "    </tr>\n",
       "    <tr>\n",
       "      <th>1</th>\n",
       "      <td>2021-10-25 10:30</td>\n",
       "    </tr>\n",
       "  </tbody>\n",
       "</table>\n",
       "</div>"
      ],
      "text/plain": [
       "        RECORD_TIME\n",
       "0  2021-10-25 11:00\n",
       "1  2021-10-25 10:30"
      ]
     },
     "execution_count": 3,
     "metadata": {},
     "output_type": "execute_result"
    }
   ],
   "source": [
    "timestamps"
   ]
  },
  {
   "cell_type": "code",
   "execution_count": 4,
   "id": "alternate-victory",
   "metadata": {
    "execution": {
     "iopub.execute_input": "2021-10-25T09:00:08.790207Z",
     "iopub.status.busy": "2021-10-25T09:00:08.788317Z",
     "iopub.status.idle": "2021-10-25T09:00:09.718997Z",
     "shell.execute_reply": "2021-10-25T09:00:09.720212Z"
    },
    "papermill": {
     "duration": 0.960542,
     "end_time": "2021-10-25T09:00:09.720604",
     "exception": false,
     "start_time": "2021-10-25T09:00:08.760062",
     "status": "completed"
    },
    "tags": []
   },
   "outputs": [],
   "source": [
    "df = pd.read_sql(\"select * from EBAY_TOP_BERLIN where record_time in (select distinct record_time from EBAY_TOP_BERLIN order by record_time desc limit 2)\", sqlite3.connect(\"UsedObjects.db\"))"
   ]
  },
  {
   "cell_type": "code",
   "execution_count": 5,
   "id": "popular-active",
   "metadata": {
    "execution": {
     "iopub.execute_input": "2021-10-25T09:00:09.790201Z",
     "iopub.status.busy": "2021-10-25T09:00:09.778705Z",
     "iopub.status.idle": "2021-10-25T09:00:09.807245Z",
     "shell.execute_reply": "2021-10-25T09:00:09.808537Z"
    },
    "papermill": {
     "duration": 0.067424,
     "end_time": "2021-10-25T09:00:09.809004",
     "exception": false,
     "start_time": "2021-10-25T09:00:09.741580",
     "status": "completed"
    },
    "tags": []
   },
   "outputs": [],
   "source": [
    "df_pivot = df.pivot_table(index=\"PRODUCT\", columns = \"RECORD_TIME\", values = \"LISTING_COUNT\")"
   ]
  },
  {
   "cell_type": "code",
   "execution_count": 6,
   "id": "union-huntington",
   "metadata": {
    "execution": {
     "iopub.execute_input": "2021-10-25T09:00:09.865569Z",
     "iopub.status.busy": "2021-10-25T09:00:09.863437Z",
     "iopub.status.idle": "2021-10-25T09:00:09.868595Z",
     "shell.execute_reply": "2021-10-25T09:00:09.869965Z"
    },
    "papermill": {
     "duration": 0.040955,
     "end_time": "2021-10-25T09:00:09.870381",
     "exception": false,
     "start_time": "2021-10-25T09:00:09.829426",
     "status": "completed"
    },
    "tags": []
   },
   "outputs": [],
   "source": [
    "df_pivot.columns = [\"stamp_1\", \"stamp_2\"]\n",
    "df_pivot_diff = df_pivot.diff(axis=1)"
   ]
  },
  {
   "cell_type": "code",
   "execution_count": 7,
   "id": "fifth-motion",
   "metadata": {
    "execution": {
     "iopub.execute_input": "2021-10-25T09:00:09.926117Z",
     "iopub.status.busy": "2021-10-25T09:00:09.923550Z",
     "iopub.status.idle": "2021-10-25T09:00:11.442859Z",
     "shell.execute_reply": "2021-10-25T09:00:11.444227Z"
    },
    "papermill": {
     "duration": 1.552667,
     "end_time": "2021-10-25T09:00:11.444659",
     "exception": false,
     "start_time": "2021-10-25T09:00:09.891992",
     "status": "completed"
    },
    "tags": []
   },
   "outputs": [
    {
     "data": {
      "text/plain": [
       "<AxesSubplot:ylabel='PRODUCT'>"
      ]
     },
     "execution_count": 7,
     "metadata": {},
     "output_type": "execute_result"
    },
    {
     "data": {
      "image/png": "[encoded data removed]",
      "text/plain": [
       "<Figure size 432x288 with 1 Axes>"
      ]
     },
     "metadata": {
      "needs_background": "light"
     },
     "output_type": "display_data"
    }
   ],
   "source": [
    "df_pivot_diff.sort_values(\"stamp_2\", ascending = False)[\"stamp_2\"].head(10).plot.barh()"
   ]
  },
  {
   "cell_type": "code",
   "execution_count": null,
   "id": "extra-executive",
   "metadata": {
    "papermill": {
     "duration": 0.022897,
     "end_time": "2021-10-25T09:00:11.491933",
     "exception": false,
     "start_time": "2021-10-25T09:00:11.469036",
     "status": "completed"
    },
    "tags": []
   },
   "outputs": [],
   "source": []
  }
 ],
 "metadata": {
  "kernelspec": {
   "display_name": "Python 3",
   "language": "python",
   "name": "python3"
  },
  "language_info": {
   "codemirror_mode": {
    "name": "ipython",
    "version": 3
   },
   "file_extension": ".py",
   "mimetype": "text/x-python",
   "name": "python",
   "nbconvert_exporter": "python",
   "pygments_lexer": "ipython3",
   "version": "3.9.5"
  },
  "papermill": {
   "default_parameters": {},
   "duration": 7.471403,
   "end_time": "2021-10-25T09:00:12.132015",
   "environment_variables": {},
   "exception": null,
   "input_path": "eBay_Overview.ipynb",
   "output_path": "eBay_Overview.ipynb",
   "parameters": {},
   "start_time": "2021-10-25T09:00:04.660612",
   "version": "2.3.3"
  }
 },
 "nbformat": 4,
 "nbformat_minor": 5
}