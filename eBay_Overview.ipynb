{
 "cells": [
  {
   "cell_type": "code",
   "execution_count": 1,
   "id": "reverse-picking",
   "metadata": {
    "execution": {
     "iopub.execute_input": "2021-10-12T11:30:07.470285Z",
     "iopub.status.busy": "2021-10-12T11:30:07.468216Z",
     "iopub.status.idle": "2021-10-12T11:30:08.283370Z",
     "shell.execute_reply": "2021-10-12T11:30:08.284609Z"
    },
    "papermill": {
     "duration": 0.865254,
     "end_time": "2021-10-12T11:30:08.285323",
     "exception": false,
     "start_time": "2021-10-12T11:30:07.420069",
     "status": "completed"
    },
    "tags": []
   },
   "outputs": [],
   "source": [
    "import pandas as pd\n",
    "import sqlite3"
   ]
  },
  {
   "cell_type": "code",
   "execution_count": 2,
   "id": "innovative-syndrome",
   "metadata": {
    "execution": {
     "iopub.execute_input": "2021-10-12T11:30:08.335545Z",
     "iopub.status.busy": "2021-10-12T11:30:08.333517Z",
     "iopub.status.idle": "2021-10-12T11:30:08.846350Z",
     "shell.execute_reply": "2021-10-12T11:30:08.845017Z"
    },
    "papermill": {
     "duration": 0.541248,
     "end_time": "2021-10-12T11:30:08.846690",
     "exception": false,
     "start_time": "2021-10-12T11:30:08.305442",
     "status": "completed"
    },
    "tags": []
   },
   "outputs": [],
   "source": [
    "timestamps = pd.read_sql(\"select distinct record_time from EBAY_TOP_BERLIN order by record_time desc limit 2\", sqlite3.connect(\"UsedObjects.db\"))"
   ]
  },
  {
   "cell_type": "code",
   "execution_count": 3,
   "id": "periodic-identification",
   "metadata": {
    "execution": {
     "iopub.execute_input": "2021-10-12T11:30:08.913463Z",
     "iopub.status.busy": "2021-10-12T11:30:08.911363Z",
     "iopub.status.idle": "2021-10-12T11:30:08.931458Z",
     "shell.execute_reply": "2021-10-12T11:30:08.932904Z"
    },
    "papermill": {
     "duration": 0.065088,
     "end_time": "2021-10-12T11:30:08.933362",
     "exception": false,
     "start_time": "2021-10-12T11:30:08.868274",
     "status": "completed"
    },
    "tags": []
   },
   "outputs": [
    {
     "data": {
      "text/html": [
       "<div>\n",
       "<style scoped>\n",
       "    .dataframe tbody tr th:only-of-type {\n",
       "        vertical-align: middle;\n",
       "    }\n",
       "\n",
       "    .dataframe tbody tr th {\n",
       "        vertical-align: top;\n",
       "    }\n",
       "\n",
       "    .dataframe thead th {\n",
       "        text-align: right;\n",
       "    }\n",
       "</style>\n",
       "<table border=\"1\" class=\"dataframe\">\n",
       "  <thead>\n",
       "    <tr style=\"text-align: right;\">\n",
       "      <th></th>\n",
       "      <th>RECORD_TIME</th>\n",
       "    </tr>\n",
       "  </thead>\n",
       "  <tbody>\n",
       "    <tr>\n",
       "      <th>0</th>\n",
       "      <td>2021-10-12 13:30</td>\n",
       "    </tr>\n",
       "    <tr>\n",
       "      <th>1</th>\n",
       "      <td>2021-10-12 13:00</td>\n",
       "    </tr>\n",
       "  </tbody>\n",
       "</table>\n",
       "</div>"
      ],
      "text/plain": [
       "        RECORD_TIME\n",
       "0  2021-10-12 13:30\n",
       "1  2021-10-12 13:00"
      ]
     },
     "execution_count": 3,
     "metadata": {},
     "output_type": "execute_result"
    }
   ],
   "source": [
    "timestamps"
   ]
  },
  {
   "cell_type": "code",
   "execution_count": 4,
   "id": "alternate-victory",
   "metadata": {
    "execution": {
     "iopub.execute_input": "2021-10-12T11:30:08.994808Z",
     "iopub.status.busy": "2021-10-12T11:30:08.992349Z",
     "iopub.status.idle": "2021-10-12T11:30:09.757377Z",
     "shell.execute_reply": "2021-10-12T11:30:09.758856Z"
    },
    "papermill": {
     "duration": 0.7994,
     "end_time": "2021-10-12T11:30:09.759305",
     "exception": false,
     "start_time": "2021-10-12T11:30:08.959905",
     "status": "completed"
    },
    "tags": []
   },
   "outputs": [],
   "source": [
    "df = pd.read_sql(\"select * from EBAY_TOP_BERLIN where record_time in (select distinct record_time from EBAY_TOP_BERLIN order by record_time desc limit 2)\", sqlite3.connect(\"UsedObjects.db\"))"
   ]
  },
  {
   "cell_type": "code",
   "execution_count": 5,
   "id": "popular-active",
   "metadata": {
    "execution": {
     "iopub.execute_input": "2021-10-12T11:30:09.829073Z",
     "iopub.status.busy": "2021-10-12T11:30:09.817959Z",
     "iopub.status.idle": "2021-10-12T11:30:09.845682Z",
     "shell.execute_reply": "2021-10-12T11:30:09.846900Z"
    },
    "papermill": {
     "duration": 0.067382,
     "end_time": "2021-10-12T11:30:09.847297",
     "exception": false,
     "start_time": "2021-10-12T11:30:09.779915",
     "status": "completed"
    },
    "tags": []
   },
   "outputs": [],
   "source": [
    "df_pivot = df.pivot_table(index=\"PRODUCT\", columns = \"RECORD_TIME\", values = \"LISTING_COUNT\")"
   ]
  },
  {
   "cell_type": "code",
   "execution_count": 6,
   "id": "union-huntington",
   "metadata": {
    "execution": {
     "iopub.execute_input": "2021-10-12T11:30:09.907033Z",
     "iopub.status.busy": "2021-10-12T11:30:09.904508Z",
     "iopub.status.idle": "2021-10-12T11:30:09.910827Z",
     "shell.execute_reply": "2021-10-12T11:30:09.912176Z"
    },
    "papermill": {
     "duration": 0.04247,
     "end_time": "2021-10-12T11:30:09.912660",
     "exception": false,
     "start_time": "2021-10-12T11:30:09.870190",
     "status": "completed"
    },
    "tags": []
   },
   "outputs": [],
   "source": [
    "df_pivot.columns = [\"stamp_1\", \"stamp_2\"]\n",
    "df_pivot_diff = df_pivot.diff(axis=1)"
   ]
  },
  {
   "cell_type": "code",
   "execution_count": 7,
   "id": "fifth-motion",
   "metadata": {
    "execution": {
     "iopub.execute_input": "2021-10-12T11:30:09.967011Z",
     "iopub.status.busy": "2021-10-12T11:30:09.964584Z",
     "iopub.status.idle": "2021-10-12T11:30:11.454439Z",
     "shell.execute_reply": "2021-10-12T11:30:11.453041Z"
    },
    "papermill": {
     "duration": 1.521043,
     "end_time": "2021-10-12T11:30:11.454792",
     "exception": false,
     "start_time": "2021-10-12T11:30:09.933749",
     "status": "completed"
    },
    "tags": []
   },
   "outputs": [
    {
     "data": {
      "text/plain": [
       "<AxesSubplot:ylabel='PRODUCT'>"
      ]
     },
     "execution_count": 7,
     "metadata": {},
     "output_type": "execute_result"
    },
    {
     "data": {
      "image/png": "[encoded data removed]",
      "text/plain": [
       "<Figure size 432x288 with 1 Axes>"
      ]
     },
     "metadata": {
      "needs_background": "light"
     },
     "output_type": "display_data"
    }
   ],
   "source": [
    "df_pivot_diff.sort_values(\"stamp_2\", ascending = False)[\"stamp_2\"].head(10).plot.barh()"
   ]
  },
  {
   "cell_type": "code",
   "execution_count": null,
   "id": "extra-executive",
   "metadata": {
    "papermill": {
     "duration": 0.02201,
     "end_time": "2021-10-12T11:30:11.501125",
     "exception": false,
     "start_time": "2021-10-12T11:30:11.479115",
     "status": "completed"
    },
    "tags": []
   },
   "outputs": [],
   "source": []
  }
 ],
 "metadata": {
  "kernelspec": {
   "display_name": "Python 3",
   "language": "python",
   "name": "python3"
  },
  "language_info": {
   "codemirror_mode": {
    "name": "ipython",
    "version": 3
   },
   "file_extension": ".py",
   "mimetype": "text/x-python",
   "name": "python",
   "nbconvert_exporter": "python",
   "pygments_lexer": "ipython3",
   "version": "3.9.5"
  },
  "papermill": {
   "default_parameters": {},
   "duration": 7.818658,
   "end_time": "2021-10-12T11:30:12.847890",
   "environment_variables": {},
   "exception": null,
   "input_path": "eBay_Overview.ipynb",
   "output_path": "eBay_Overview.ipynb",
   "parameters": {},
   "start_time": "2021-10-12T11:30:05.029232",
   "version": "2.3.3"
  }
 },
 "nbformat": 4,
 "nbformat_minor": 5
}