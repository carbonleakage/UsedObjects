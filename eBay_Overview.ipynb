{
 "cells": [
  {
   "cell_type": "code",
   "execution_count": 1,
   "id": "reverse-picking",
   "metadata": {
    "execution": {
     "iopub.execute_input": "2021-12-07T21:00:07.802960Z",
     "iopub.status.busy": "2021-12-07T21:00:07.800535Z",
     "iopub.status.idle": "2021-12-07T21:00:08.753670Z",
     "shell.execute_reply": "2021-12-07T21:00:08.755274Z"
    },
    "papermill": {
     "duration": 1.002377,
     "end_time": "2021-12-07T21:00:08.755978",
     "exception": false,
     "start_time": "2021-12-07T21:00:07.753601",
     "status": "completed"
    },
    "tags": []
   },
   "outputs": [],
   "source": [
    "import pandas as pd\n",
    "import sqlite3"
   ]
  },
  {
   "cell_type": "code",
   "execution_count": 2,
   "id": "innovative-syndrome",
   "metadata": {
    "execution": {
     "iopub.execute_input": "2021-12-07T21:00:08.829405Z",
     "iopub.status.busy": "2021-12-07T21:00:08.826985Z",
     "iopub.status.idle": "2021-12-07T21:00:09.842737Z",
     "shell.execute_reply": "2021-12-07T21:00:09.844411Z"
    },
    "papermill": {
     "duration": 1.049988,
     "end_time": "2021-12-07T21:00:09.844997",
     "exception": false,
     "start_time": "2021-12-07T21:00:08.795009",
     "status": "completed"
    },
    "tags": []
   },
   "outputs": [],
   "source": [
    "timestamps = pd.read_sql(\"select distinct record_time from EBAY_TOP_BERLIN order by record_time desc limit 2\", sqlite3.connect(\"UsedObjects.db\"))"
   ]
  },
  {
   "cell_type": "code",
   "execution_count": 3,
   "id": "periodic-identification",
   "metadata": {
    "execution": {
     "iopub.execute_input": "2021-12-07T21:00:09.940735Z",
     "iopub.status.busy": "2021-12-07T21:00:09.936418Z",
     "iopub.status.idle": "2021-12-07T21:00:09.965937Z",
     "shell.execute_reply": "2021-12-07T21:00:09.968063Z"
    },
    "papermill": {
     "duration": 0.10154,
     "end_time": "2021-12-07T21:00:09.968793",
     "exception": false,
     "start_time": "2021-12-07T21:00:09.867253",
     "status": "completed"
    },
    "tags": []
   },
   "outputs": [
    {
     "data": {
      "text/html": [
       "<div>\n",
       "<style scoped>\n",
       "    .dataframe tbody tr th:only-of-type {\n",
       "        vertical-align: middle;\n",
       "    }\n",
       "\n",
       "    .dataframe tbody tr th {\n",
       "        vertical-align: top;\n",
       "    }\n",
       "\n",
       "    .dataframe thead th {\n",
       "        text-align: right;\n",
       "    }\n",
       "</style>\n",
       "<table border=\"1\" class=\"dataframe\">\n",
       "  <thead>\n",
       "    <tr style=\"text-align: right;\">\n",
       "      <th></th>\n",
       "      <th>RECORD_TIME</th>\n",
       "    </tr>\n",
       "  </thead>\n",
       "  <tbody>\n",
       "    <tr>\n",
       "      <th>0</th>\n",
       "      <td>2021-12-07 22:00</td>\n",
       "    </tr>\n",
       "    <tr>\n",
       "      <th>1</th>\n",
       "      <td>2021-12-07 21:30</td>\n",
       "    </tr>\n",
       "  </tbody>\n",
       "</table>\n",
       "</div>"
      ],
      "text/plain": [
       "        RECORD_TIME\n",
       "0  2021-12-07 22:00\n",
       "1  2021-12-07 21:30"
      ]
     },
     "execution_count": 3,
     "metadata": {},
     "output_type": "execute_result"
    }
   ],
   "source": [
    "timestamps"
   ]
  },
  {
   "cell_type": "code",
   "execution_count": 4,
   "id": "alternate-victory",
   "metadata": {
    "execution": {
     "iopub.execute_input": "2021-12-07T21:00:10.025911Z",
     "iopub.status.busy": "2021-12-07T21:00:10.023668Z",
     "iopub.status.idle": "2021-12-07T21:00:11.512939Z",
     "shell.execute_reply": "2021-12-07T21:00:11.516842Z"
    },
    "papermill": {
     "duration": 1.526181,
     "end_time": "2021-12-07T21:00:11.517692",
     "exception": false,
     "start_time": "2021-12-07T21:00:09.991511",
     "status": "completed"
    },
    "tags": []
   },
   "outputs": [],
   "source": [
    "df = pd.read_sql(\"select * from EBAY_TOP_BERLIN where record_time in (select distinct record_time from EBAY_TOP_BERLIN order by record_time desc limit 2)\", sqlite3.connect(\"UsedObjects.db\"))"
   ]
  },
  {
   "cell_type": "code",
   "execution_count": 5,
   "id": "popular-active",
   "metadata": {
    "execution": {
     "iopub.execute_input": "2021-12-07T21:00:11.639890Z",
     "iopub.status.busy": "2021-12-07T21:00:11.615116Z",
     "iopub.status.idle": "2021-12-07T21:00:11.674787Z",
     "shell.execute_reply": "2021-12-07T21:00:11.677582Z"
    },
    "papermill": {
     "duration": 0.129103,
     "end_time": "2021-12-07T21:00:11.678357",
     "exception": false,
     "start_time": "2021-12-07T21:00:11.549254",
     "status": "completed"
    },
    "tags": []
   },
   "outputs": [],
   "source": [
    "df_pivot = df.pivot_table(index=\"PRODUCT\", columns = \"RECORD_TIME\", values = \"LISTING_COUNT\")"
   ]
  },
  {
   "cell_type": "code",
   "execution_count": 6,
   "id": "union-huntington",
   "metadata": {
    "execution": {
     "iopub.execute_input": "2021-12-07T21:00:11.762630Z",
     "iopub.status.busy": "2021-12-07T21:00:11.758731Z",
     "iopub.status.idle": "2021-12-07T21:00:11.768530Z",
     "shell.execute_reply": "2021-12-07T21:00:11.771249Z"
    },
    "papermill": {
     "duration": 0.065852,
     "end_time": "2021-12-07T21:00:11.772122",
     "exception": false,
     "start_time": "2021-12-07T21:00:11.706270",
     "status": "completed"
    },
    "tags": []
   },
   "outputs": [],
   "source": [
    "df_pivot.columns = [\"stamp_1\", \"stamp_2\"]\n",
    "df_pivot_diff = df_pivot.diff(axis=1)"
   ]
  },
  {
   "cell_type": "code",
   "execution_count": 7,
   "id": "fifth-motion",
   "metadata": {
    "execution": {
     "iopub.execute_input": "2021-12-07T21:00:11.857747Z",
     "iopub.status.busy": "2021-12-07T21:00:11.854203Z",
     "iopub.status.idle": "2021-12-07T21:00:13.540237Z",
     "shell.execute_reply": "2021-12-07T21:00:13.541610Z"
    },
    "papermill": {
     "duration": 1.739797,
     "end_time": "2021-12-07T21:00:13.542033",
     "exception": false,
     "start_time": "2021-12-07T21:00:11.802236",
     "status": "completed"
    },
    "tags": []
   },
   "outputs": [
    {
     "data": {
      "text/plain": [
       "<AxesSubplot:ylabel='PRODUCT'>"
      ]
     },
     "execution_count": 7,
     "metadata": {},
     "output_type": "execute_result"
    },
    {
     "data": {
      "image/png": "[encoded data removed]",
      "text/plain": [
       "<Figure size 432x288 with 1 Axes>"
      ]
     },
     "metadata": {
      "needs_background": "light"
     },
     "output_type": "display_data"
    }
   ],
   "source": [
    "df_pivot_diff.sort_values(\"stamp_2\", ascending = False)[\"stamp_2\"].head(10).plot.barh()"
   ]
  },
  {
   "cell_type": "code",
   "execution_count": null,
   "id": "extra-executive",
   "metadata": {
    "papermill": {
     "duration": 0.022273,
     "end_time": "2021-12-07T21:00:13.588234",
     "exception": false,
     "start_time": "2021-12-07T21:00:13.565961",
     "status": "completed"
    },
    "tags": []
   },
   "outputs": [],
   "source": []
  }
 ],
 "metadata": {
  "kernelspec": {
   "display_name": "Python 3",
   "language": "python",
   "name": "python3"
  },
  "language_info": {
   "codemirror_mode": {
    "name": "ipython",
    "version": 3
   },
   "file_extension": ".py",
   "mimetype": "text/x-python",
   "name": "python",
   "nbconvert_exporter": "python",
   "pygments_lexer": "ipython3",
   "version": "3.9.5"
  },
  "papermill": {
   "default_parameters": {},
   "duration": 9.945849,
   "end_time": "2021-12-07T21:00:14.979043",
   "environment_variables": {},
   "exception": null,
   "input_path": "eBay_Overview.ipynb",
   "output_path": "eBay_Overview.ipynb",
   "parameters": {},
   "start_time": "2021-12-07T21:00:05.033194",
   "version": "2.3.3"
  }
 },
 "nbformat": 4,
 "nbformat_minor": 5
}