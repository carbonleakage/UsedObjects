{
 "cells": [
  {
   "cell_type": "code",
   "execution_count": 1,
   "id": "reverse-picking",
   "metadata": {
    "execution": {
     "iopub.execute_input": "2021-09-15T03:30:07.205138Z",
     "iopub.status.busy": "2021-09-15T03:30:07.203162Z",
     "iopub.status.idle": "2021-09-15T03:30:08.008675Z",
     "shell.execute_reply": "2021-09-15T03:30:08.009926Z"
    },
    "papermill": {
     "duration": 0.857807,
     "end_time": "2021-09-15T03:30:08.010548",
     "exception": false,
     "start_time": "2021-09-15T03:30:07.152741",
     "status": "completed"
    },
    "tags": []
   },
   "outputs": [],
   "source": [
    "import pandas as pd\n",
    "import sqlite3"
   ]
  },
  {
   "cell_type": "code",
   "execution_count": 2,
   "id": "innovative-syndrome",
   "metadata": {
    "execution": {
     "iopub.execute_input": "2021-09-15T03:30:08.062295Z",
     "iopub.status.busy": "2021-09-15T03:30:08.060421Z",
     "iopub.status.idle": "2021-09-15T03:30:08.347777Z",
     "shell.execute_reply": "2021-09-15T03:30:08.349053Z"
    },
    "papermill": {
     "duration": 0.317231,
     "end_time": "2021-09-15T03:30:08.349454",
     "exception": false,
     "start_time": "2021-09-15T03:30:08.032223",
     "status": "completed"
    },
    "tags": []
   },
   "outputs": [],
   "source": [
    "timestamps = pd.read_sql(\"select distinct record_time from EBAY_TOP_BERLIN order by record_time desc limit 2\", sqlite3.connect(\"UsedObjects.db\"))"
   ]
  },
  {
   "cell_type": "code",
   "execution_count": 3,
   "id": "periodic-identification",
   "metadata": {
    "execution": {
     "iopub.execute_input": "2021-09-15T03:30:08.416942Z",
     "iopub.status.busy": "2021-09-15T03:30:08.411513Z",
     "iopub.status.idle": "2021-09-15T03:30:08.432522Z",
     "shell.execute_reply": "2021-09-15T03:30:08.433969Z"
    },
    "papermill": {
     "duration": 0.065709,
     "end_time": "2021-09-15T03:30:08.434425",
     "exception": false,
     "start_time": "2021-09-15T03:30:08.368716",
     "status": "completed"
    },
    "tags": []
   },
   "outputs": [
    {
     "data": {
      "text/html": [
       "<div>\n",
       "<style scoped>\n",
       "    .dataframe tbody tr th:only-of-type {\n",
       "        vertical-align: middle;\n",
       "    }\n",
       "\n",
       "    .dataframe tbody tr th {\n",
       "        vertical-align: top;\n",
       "    }\n",
       "\n",
       "    .dataframe thead th {\n",
       "        text-align: right;\n",
       "    }\n",
       "</style>\n",
       "<table border=\"1\" class=\"dataframe\">\n",
       "  <thead>\n",
       "    <tr style=\"text-align: right;\">\n",
       "      <th></th>\n",
       "      <th>RECORD_TIME</th>\n",
       "    </tr>\n",
       "  </thead>\n",
       "  <tbody>\n",
       "    <tr>\n",
       "      <th>0</th>\n",
       "      <td>2021-09-15 05:30</td>\n",
       "    </tr>\n",
       "    <tr>\n",
       "      <th>1</th>\n",
       "      <td>2021-09-15 05:00</td>\n",
       "    </tr>\n",
       "  </tbody>\n",
       "</table>\n",
       "</div>"
      ],
      "text/plain": [
       "        RECORD_TIME\n",
       "0  2021-09-15 05:30\n",
       "1  2021-09-15 05:00"
      ]
     },
     "execution_count": 3,
     "metadata": {},
     "output_type": "execute_result"
    }
   ],
   "source": [
    "timestamps"
   ]
  },
  {
   "cell_type": "code",
   "execution_count": 4,
   "id": "alternate-victory",
   "metadata": {
    "execution": {
     "iopub.execute_input": "2021-09-15T03:30:08.487754Z",
     "iopub.status.busy": "2021-09-15T03:30:08.485395Z",
     "iopub.status.idle": "2021-09-15T03:30:08.924460Z",
     "shell.execute_reply": "2021-09-15T03:30:08.925675Z"
    },
    "papermill": {
     "duration": 0.469523,
     "end_time": "2021-09-15T03:30:08.926065",
     "exception": false,
     "start_time": "2021-09-15T03:30:08.456542",
     "status": "completed"
    },
    "tags": []
   },
   "outputs": [],
   "source": [
    "df = pd.read_sql(\"select * from EBAY_TOP_BERLIN where record_time in (select distinct record_time from EBAY_TOP_BERLIN order by record_time desc limit 2)\", sqlite3.connect(\"UsedObjects.db\"))"
   ]
  },
  {
   "cell_type": "code",
   "execution_count": 5,
   "id": "popular-active",
   "metadata": {
    "execution": {
     "iopub.execute_input": "2021-09-15T03:30:08.999837Z",
     "iopub.status.busy": "2021-09-15T03:30:08.997653Z",
     "iopub.status.idle": "2021-09-15T03:30:09.023828Z",
     "shell.execute_reply": "2021-09-15T03:30:09.025056Z"
    },
    "papermill": {
     "duration": 0.070533,
     "end_time": "2021-09-15T03:30:09.025451",
     "exception": false,
     "start_time": "2021-09-15T03:30:08.954918",
     "status": "completed"
    },
    "tags": []
   },
   "outputs": [],
   "source": [
    "df_pivot = df.pivot_table(index=\"PRODUCT\", columns = \"RECORD_TIME\", values = \"LISTING_COUNT\")"
   ]
  },
  {
   "cell_type": "code",
   "execution_count": 6,
   "id": "union-huntington",
   "metadata": {
    "execution": {
     "iopub.execute_input": "2021-09-15T03:30:09.082206Z",
     "iopub.status.busy": "2021-09-15T03:30:09.080150Z",
     "iopub.status.idle": "2021-09-15T03:30:09.085250Z",
     "shell.execute_reply": "2021-09-15T03:30:09.086537Z"
    },
    "papermill": {
     "duration": 0.040233,
     "end_time": "2021-09-15T03:30:09.087151",
     "exception": false,
     "start_time": "2021-09-15T03:30:09.046918",
     "status": "completed"
    },
    "tags": []
   },
   "outputs": [],
   "source": [
    "df_pivot.columns = [\"stamp_1\", \"stamp_2\"]\n",
    "df_pivot_diff = df_pivot.diff(axis=1)"
   ]
  },
  {
   "cell_type": "code",
   "execution_count": 7,
   "id": "fifth-motion",
   "metadata": {
    "execution": {
     "iopub.execute_input": "2021-09-15T03:30:09.145444Z",
     "iopub.status.busy": "2021-09-15T03:30:09.142735Z",
     "iopub.status.idle": "2021-09-15T03:30:10.625837Z",
     "shell.execute_reply": "2021-09-15T03:30:10.627393Z"
    },
    "papermill": {
     "duration": 1.516674,
     "end_time": "2021-09-15T03:30:10.627861",
     "exception": false,
     "start_time": "2021-09-15T03:30:09.111187",
     "status": "completed"
    },
    "tags": []
   },
   "outputs": [
    {
     "data": {
      "text/plain": [
       "<AxesSubplot:ylabel='PRODUCT'>"
      ]
     },
     "execution_count": 7,
     "metadata": {},
     "output_type": "execute_result"
    },
    {
     "data": {
      "image/png": "[encoded data removed]",
      "text/plain": [
       "<Figure size 432x288 with 1 Axes>"
      ]
     },
     "metadata": {
      "needs_background": "light"
     },
     "output_type": "display_data"
    }
   ],
   "source": [
    "df_pivot_diff.sort_values(\"stamp_2\", ascending = False)[\"stamp_2\"].head(10).plot.barh()"
   ]
  },
  {
   "cell_type": "code",
   "execution_count": null,
   "id": "extra-executive",
   "metadata": {
    "papermill": {
     "duration": 0.022209,
     "end_time": "2021-09-15T03:30:10.675129",
     "exception": false,
     "start_time": "2021-09-15T03:30:10.652920",
     "status": "completed"
    },
    "tags": []
   },
   "outputs": [],
   "source": []
  }
 ],
 "metadata": {
  "kernelspec": {
   "display_name": "Python 3",
   "language": "python",
   "name": "python3"
  },
  "language_info": {
   "codemirror_mode": {
    "name": "ipython",
    "version": 3
   },
   "file_extension": ".py",
   "mimetype": "text/x-python",
   "name": "python",
   "nbconvert_exporter": "python",
   "pygments_lexer": "ipython3",
   "version": "3.9.5"
  },
  "papermill": {
   "default_parameters": {},
   "duration": 6.575055,
   "end_time": "2021-09-15T03:30:11.318175",
   "environment_variables": {},
   "exception": null,
   "input_path": "eBay_Overview.ipynb",
   "output_path": "eBay_Overview.ipynb",
   "parameters": {},
   "start_time": "2021-09-15T03:30:04.743120",
   "version": "2.3.3"
  }
 },
 "nbformat": 4,
 "nbformat_minor": 5
}