{
 "cells": [
  {
   "cell_type": "code",
   "execution_count": 1,
   "id": "reverse-picking",
   "metadata": {
    "execution": {
     "iopub.execute_input": "2021-10-11T21:00:07.438662Z",
     "iopub.status.busy": "2021-10-11T21:00:07.436650Z",
     "iopub.status.idle": "2021-10-11T21:00:08.234081Z",
     "shell.execute_reply": "2021-10-11T21:00:08.235313Z"
    },
    "papermill": {
     "duration": 0.849242,
     "end_time": "2021-10-11T21:00:08.235934",
     "exception": false,
     "start_time": "2021-10-11T21:00:07.386692",
     "status": "completed"
    },
    "tags": []
   },
   "outputs": [],
   "source": [
    "import pandas as pd\n",
    "import sqlite3"
   ]
  },
  {
   "cell_type": "code",
   "execution_count": 2,
   "id": "innovative-syndrome",
   "metadata": {
    "execution": {
     "iopub.execute_input": "2021-10-11T21:00:08.286552Z",
     "iopub.status.busy": "2021-10-11T21:00:08.284584Z",
     "iopub.status.idle": "2021-10-11T21:00:08.799181Z",
     "shell.execute_reply": "2021-10-11T21:00:08.800738Z"
    },
    "papermill": {
     "duration": 0.544323,
     "end_time": "2021-10-11T21:00:08.801238",
     "exception": false,
     "start_time": "2021-10-11T21:00:08.256915",
     "status": "completed"
    },
    "tags": []
   },
   "outputs": [],
   "source": [
    "timestamps = pd.read_sql(\"select distinct record_time from EBAY_TOP_BERLIN order by record_time desc limit 2\", sqlite3.connect(\"UsedObjects.db\"))"
   ]
  },
  {
   "cell_type": "code",
   "execution_count": 3,
   "id": "periodic-identification",
   "metadata": {
    "execution": {
     "iopub.execute_input": "2021-10-11T21:00:08.870121Z",
     "iopub.status.busy": "2021-10-11T21:00:08.865229Z",
     "iopub.status.idle": "2021-10-11T21:00:08.887863Z",
     "shell.execute_reply": "2021-10-11T21:00:08.886284Z"
    },
    "papermill": {
     "duration": 0.065652,
     "end_time": "2021-10-11T21:00:08.888261",
     "exception": false,
     "start_time": "2021-10-11T21:00:08.822609",
     "status": "completed"
    },
    "tags": []
   },
   "outputs": [
    {
     "data": {
      "text/html": [
       "<div>\n",
       "<style scoped>\n",
       "    .dataframe tbody tr th:only-of-type {\n",
       "        vertical-align: middle;\n",
       "    }\n",
       "\n",
       "    .dataframe tbody tr th {\n",
       "        vertical-align: top;\n",
       "    }\n",
       "\n",
       "    .dataframe thead th {\n",
       "        text-align: right;\n",
       "    }\n",
       "</style>\n",
       "<table border=\"1\" class=\"dataframe\">\n",
       "  <thead>\n",
       "    <tr style=\"text-align: right;\">\n",
       "      <th></th>\n",
       "      <th>RECORD_TIME</th>\n",
       "    </tr>\n",
       "  </thead>\n",
       "  <tbody>\n",
       "    <tr>\n",
       "      <th>0</th>\n",
       "      <td>2021-10-11 23:00</td>\n",
       "    </tr>\n",
       "    <tr>\n",
       "      <th>1</th>\n",
       "      <td>2021-10-11 22:30</td>\n",
       "    </tr>\n",
       "  </tbody>\n",
       "</table>\n",
       "</div>"
      ],
      "text/plain": [
       "        RECORD_TIME\n",
       "0  2021-10-11 23:00\n",
       "1  2021-10-11 22:30"
      ]
     },
     "execution_count": 3,
     "metadata": {},
     "output_type": "execute_result"
    }
   ],
   "source": [
    "timestamps"
   ]
  },
  {
   "cell_type": "code",
   "execution_count": 4,
   "id": "alternate-victory",
   "metadata": {
    "execution": {
     "iopub.execute_input": "2021-10-11T21:00:08.954151Z",
     "iopub.status.busy": "2021-10-11T21:00:08.951923Z",
     "iopub.status.idle": "2021-10-11T21:00:09.727673Z",
     "shell.execute_reply": "2021-10-11T21:00:09.728917Z"
    },
    "papermill": {
     "duration": 0.810404,
     "end_time": "2021-10-11T21:00:09.729366",
     "exception": false,
     "start_time": "2021-10-11T21:00:08.918962",
     "status": "completed"
    },
    "tags": []
   },
   "outputs": [],
   "source": [
    "df = pd.read_sql(\"select * from EBAY_TOP_BERLIN where record_time in (select distinct record_time from EBAY_TOP_BERLIN order by record_time desc limit 2)\", sqlite3.connect(\"UsedObjects.db\"))"
   ]
  },
  {
   "cell_type": "code",
   "execution_count": 5,
   "id": "popular-active",
   "metadata": {
    "execution": {
     "iopub.execute_input": "2021-10-11T21:00:09.797593Z",
     "iopub.status.busy": "2021-10-11T21:00:09.787962Z",
     "iopub.status.idle": "2021-10-11T21:00:09.814007Z",
     "shell.execute_reply": "2021-10-11T21:00:09.815209Z"
    },
    "papermill": {
     "duration": 0.065903,
     "end_time": "2021-10-11T21:00:09.815603",
     "exception": false,
     "start_time": "2021-10-11T21:00:09.749700",
     "status": "completed"
    },
    "tags": []
   },
   "outputs": [],
   "source": [
    "df_pivot = df.pivot_table(index=\"PRODUCT\", columns = \"RECORD_TIME\", values = \"LISTING_COUNT\")"
   ]
  },
  {
   "cell_type": "code",
   "execution_count": 6,
   "id": "union-huntington",
   "metadata": {
    "execution": {
     "iopub.execute_input": "2021-10-11T21:00:09.873161Z",
     "iopub.status.busy": "2021-10-11T21:00:09.870867Z",
     "iopub.status.idle": "2021-10-11T21:00:09.876798Z",
     "shell.execute_reply": "2021-10-11T21:00:09.878119Z"
    },
    "papermill": {
     "duration": 0.041602,
     "end_time": "2021-10-11T21:00:09.878535",
     "exception": false,
     "start_time": "2021-10-11T21:00:09.836933",
     "status": "completed"
    },
    "tags": []
   },
   "outputs": [],
   "source": [
    "df_pivot.columns = [\"stamp_1\", \"stamp_2\"]\n",
    "df_pivot_diff = df_pivot.diff(axis=1)"
   ]
  },
  {
   "cell_type": "code",
   "execution_count": 7,
   "id": "fifth-motion",
   "metadata": {
    "execution": {
     "iopub.execute_input": "2021-10-11T21:00:09.931768Z",
     "iopub.status.busy": "2021-10-11T21:00:09.929500Z",
     "iopub.status.idle": "2021-10-11T21:00:11.403769Z",
     "shell.execute_reply": "2021-10-11T21:00:11.405298Z"
    },
    "papermill": {
     "duration": 1.507509,
     "end_time": "2021-10-11T21:00:11.405783",
     "exception": false,
     "start_time": "2021-10-11T21:00:09.898274",
     "status": "completed"
    },
    "tags": []
   },
   "outputs": [
    {
     "data": {
      "text/plain": [
       "<AxesSubplot:ylabel='PRODUCT'>"
      ]
     },
     "execution_count": 7,
     "metadata": {},
     "output_type": "execute_result"
    },
    {
     "data": {
      "image/png": "[encoded data removed]",
      "text/plain": [
       "<Figure size 432x288 with 1 Axes>"
      ]
     },
     "metadata": {
      "needs_background": "light"
     },
     "output_type": "display_data"
    }
   ],
   "source": [
    "df_pivot_diff.sort_values(\"stamp_2\", ascending = False)[\"stamp_2\"].head(10).plot.barh()"
   ]
  },
  {
   "cell_type": "code",
   "execution_count": null,
   "id": "extra-executive",
   "metadata": {
    "papermill": {
     "duration": 0.021903,
     "end_time": "2021-10-11T21:00:11.451791",
     "exception": false,
     "start_time": "2021-10-11T21:00:11.429888",
     "status": "completed"
    },
    "tags": []
   },
   "outputs": [],
   "source": []
  }
 ],
 "metadata": {
  "kernelspec": {
   "display_name": "Python 3",
   "language": "python",
   "name": "python3"
  },
  "language_info": {
   "codemirror_mode": {
    "name": "ipython",
    "version": 3
   },
   "file_extension": ".py",
   "mimetype": "text/x-python",
   "name": "python",
   "nbconvert_exporter": "python",
   "pygments_lexer": "ipython3",
   "version": "3.9.5"
  },
  "papermill": {
   "default_parameters": {},
   "duration": 7.827044,
   "end_time": "2021-10-11T21:00:12.810999",
   "environment_variables": {},
   "exception": null,
   "input_path": "eBay_Overview.ipynb",
   "output_path": "eBay_Overview.ipynb",
   "parameters": {},
   "start_time": "2021-10-11T21:00:04.983955",
   "version": "2.3.3"
  }
 },
 "nbformat": 4,
 "nbformat_minor": 5
}