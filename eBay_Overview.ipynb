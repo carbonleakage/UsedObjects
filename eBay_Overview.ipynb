{
 "cells": [
  {
   "cell_type": "code",
   "execution_count": 1,
   "id": "reverse-picking",
   "metadata": {
    "execution": {
     "iopub.execute_input": "2021-10-14T19:00:06.628423Z",
     "iopub.status.busy": "2021-10-14T19:00:06.626457Z",
     "iopub.status.idle": "2021-10-14T19:00:07.430822Z",
     "shell.execute_reply": "2021-10-14T19:00:07.432134Z"
    },
    "papermill": {
     "duration": 0.856941,
     "end_time": "2021-10-14T19:00:07.432835",
     "exception": false,
     "start_time": "2021-10-14T19:00:06.575894",
     "status": "completed"
    },
    "tags": []
   },
   "outputs": [],
   "source": [
    "import pandas as pd\n",
    "import sqlite3"
   ]
  },
  {
   "cell_type": "code",
   "execution_count": 2,
   "id": "innovative-syndrome",
   "metadata": {
    "execution": {
     "iopub.execute_input": "2021-10-14T19:00:07.484156Z",
     "iopub.status.busy": "2021-10-14T19:00:07.482109Z",
     "iopub.status.idle": "2021-10-14T19:00:08.024938Z",
     "shell.execute_reply": "2021-10-14T19:00:08.026173Z"
    },
    "papermill": {
     "duration": 0.573252,
     "end_time": "2021-10-14T19:00:08.026570",
     "exception": false,
     "start_time": "2021-10-14T19:00:07.453318",
     "status": "completed"
    },
    "tags": []
   },
   "outputs": [],
   "source": [
    "timestamps = pd.read_sql(\"select distinct record_time from EBAY_TOP_BERLIN order by record_time desc limit 2\", sqlite3.connect(\"UsedObjects.db\"))"
   ]
  },
  {
   "cell_type": "code",
   "execution_count": 3,
   "id": "periodic-identification",
   "metadata": {
    "execution": {
     "iopub.execute_input": "2021-10-14T19:00:08.103372Z",
     "iopub.status.busy": "2021-10-14T19:00:08.101322Z",
     "iopub.status.idle": "2021-10-14T19:00:08.122185Z",
     "shell.execute_reply": "2021-10-14T19:00:08.123949Z"
    },
    "papermill": {
     "duration": 0.069691,
     "end_time": "2021-10-14T19:00:08.124478",
     "exception": false,
     "start_time": "2021-10-14T19:00:08.054787",
     "status": "completed"
    },
    "tags": []
   },
   "outputs": [
    {
     "data": {
      "text/html": [
       "<div>\n",
       "<style scoped>\n",
       "    .dataframe tbody tr th:only-of-type {\n",
       "        vertical-align: middle;\n",
       "    }\n",
       "\n",
       "    .dataframe tbody tr th {\n",
       "        vertical-align: top;\n",
       "    }\n",
       "\n",
       "    .dataframe thead th {\n",
       "        text-align: right;\n",
       "    }\n",
       "</style>\n",
       "<table border=\"1\" class=\"dataframe\">\n",
       "  <thead>\n",
       "    <tr style=\"text-align: right;\">\n",
       "      <th></th>\n",
       "      <th>RECORD_TIME</th>\n",
       "    </tr>\n",
       "  </thead>\n",
       "  <tbody>\n",
       "    <tr>\n",
       "      <th>0</th>\n",
       "      <td>2021-10-14 21:00</td>\n",
       "    </tr>\n",
       "    <tr>\n",
       "      <th>1</th>\n",
       "      <td>2021-10-14 20:30</td>\n",
       "    </tr>\n",
       "  </tbody>\n",
       "</table>\n",
       "</div>"
      ],
      "text/plain": [
       "        RECORD_TIME\n",
       "0  2021-10-14 21:00\n",
       "1  2021-10-14 20:30"
      ]
     },
     "execution_count": 3,
     "metadata": {},
     "output_type": "execute_result"
    }
   ],
   "source": [
    "timestamps"
   ]
  },
  {
   "cell_type": "code",
   "execution_count": 4,
   "id": "alternate-victory",
   "metadata": {
    "execution": {
     "iopub.execute_input": "2021-10-14T19:00:08.177443Z",
     "iopub.status.busy": "2021-10-14T19:00:08.175464Z",
     "iopub.status.idle": "2021-10-14T19:00:09.002003Z",
     "shell.execute_reply": "2021-10-14T19:00:09.003216Z"
    },
    "papermill": {
     "duration": 0.856659,
     "end_time": "2021-10-14T19:00:09.003612",
     "exception": false,
     "start_time": "2021-10-14T19:00:08.146953",
     "status": "completed"
    },
    "tags": []
   },
   "outputs": [],
   "source": [
    "df = pd.read_sql(\"select * from EBAY_TOP_BERLIN where record_time in (select distinct record_time from EBAY_TOP_BERLIN order by record_time desc limit 2)\", sqlite3.connect(\"UsedObjects.db\"))"
   ]
  },
  {
   "cell_type": "code",
   "execution_count": 5,
   "id": "popular-active",
   "metadata": {
    "execution": {
     "iopub.execute_input": "2021-10-14T19:00:09.077699Z",
     "iopub.status.busy": "2021-10-14T19:00:09.066306Z",
     "iopub.status.idle": "2021-10-14T19:00:09.094267Z",
     "shell.execute_reply": "2021-10-14T19:00:09.095481Z"
    },
    "papermill": {
     "duration": 0.068463,
     "end_time": "2021-10-14T19:00:09.095883",
     "exception": false,
     "start_time": "2021-10-14T19:00:09.027420",
     "status": "completed"
    },
    "tags": []
   },
   "outputs": [],
   "source": [
    "df_pivot = df.pivot_table(index=\"PRODUCT\", columns = \"RECORD_TIME\", values = \"LISTING_COUNT\")"
   ]
  },
  {
   "cell_type": "code",
   "execution_count": 6,
   "id": "union-huntington",
   "metadata": {
    "execution": {
     "iopub.execute_input": "2021-10-14T19:00:09.155490Z",
     "iopub.status.busy": "2021-10-14T19:00:09.153037Z",
     "iopub.status.idle": "2021-10-14T19:00:09.158719Z",
     "shell.execute_reply": "2021-10-14T19:00:09.159906Z"
    },
    "papermill": {
     "duration": 0.042058,
     "end_time": "2021-10-14T19:00:09.160335",
     "exception": false,
     "start_time": "2021-10-14T19:00:09.118277",
     "status": "completed"
    },
    "tags": []
   },
   "outputs": [],
   "source": [
    "df_pivot.columns = [\"stamp_1\", \"stamp_2\"]\n",
    "df_pivot_diff = df_pivot.diff(axis=1)"
   ]
  },
  {
   "cell_type": "code",
   "execution_count": 7,
   "id": "fifth-motion",
   "metadata": {
    "execution": {
     "iopub.execute_input": "2021-10-14T19:00:09.214767Z",
     "iopub.status.busy": "2021-10-14T19:00:09.212238Z",
     "iopub.status.idle": "2021-10-14T19:00:10.687227Z",
     "shell.execute_reply": "2021-10-14T19:00:10.688592Z"
    },
    "papermill": {
     "duration": 1.508572,
     "end_time": "2021-10-14T19:00:10.689088",
     "exception": false,
     "start_time": "2021-10-14T19:00:09.180516",
     "status": "completed"
    },
    "tags": []
   },
   "outputs": [
    {
     "data": {
      "text/plain": [
       "<AxesSubplot:ylabel='PRODUCT'>"
      ]
     },
     "execution_count": 7,
     "metadata": {},
     "output_type": "execute_result"
    },
    {
     "data": {
      "image/png": "[encoded data removed]",
      "text/plain": [
       "<Figure size 432x288 with 1 Axes>"
      ]
     },
     "metadata": {
      "needs_background": "light"
     },
     "output_type": "display_data"
    }
   ],
   "source": [
    "df_pivot_diff.sort_values(\"stamp_2\", ascending = False)[\"stamp_2\"].head(10).plot.barh()"
   ]
  },
  {
   "cell_type": "code",
   "execution_count": null,
   "id": "extra-executive",
   "metadata": {
    "papermill": {
     "duration": 0.02245,
     "end_time": "2021-10-14T19:00:10.736425",
     "exception": false,
     "start_time": "2021-10-14T19:00:10.713975",
     "status": "completed"
    },
    "tags": []
   },
   "outputs": [],
   "source": []
  }
 ],
 "metadata": {
  "kernelspec": {
   "display_name": "Python 3",
   "language": "python",
   "name": "python3"
  },
  "language_info": {
   "codemirror_mode": {
    "name": "ipython",
    "version": 3
   },
   "file_extension": ".py",
   "mimetype": "text/x-python",
   "name": "python",
   "nbconvert_exporter": "python",
   "pygments_lexer": "ipython3",
   "version": "3.9.5"
  },
  "papermill": {
   "default_parameters": {},
   "duration": 7.818872,
   "end_time": "2021-10-14T19:00:11.990208",
   "environment_variables": {},
   "exception": null,
   "input_path": "eBay_Overview.ipynb",
   "output_path": "eBay_Overview.ipynb",
   "parameters": {},
   "start_time": "2021-10-14T19:00:04.171336",
   "version": "2.3.3"
  }
 },
 "nbformat": 4,
 "nbformat_minor": 5
}