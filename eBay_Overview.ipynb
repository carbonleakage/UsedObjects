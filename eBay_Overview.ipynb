{
 "cells": [
  {
   "cell_type": "code",
   "execution_count": 1,
   "id": "reverse-picking",
   "metadata": {
    "execution": {
     "iopub.execute_input": "2021-10-16T02:30:07.146737Z",
     "iopub.status.busy": "2021-10-16T02:30:07.144756Z",
     "iopub.status.idle": "2021-10-16T02:30:07.951692Z",
     "shell.execute_reply": "2021-10-16T02:30:07.953280Z"
    },
    "papermill": {
     "duration": 0.858609,
     "end_time": "2021-10-16T02:30:07.953938",
     "exception": false,
     "start_time": "2021-10-16T02:30:07.095329",
     "status": "completed"
    },
    "tags": []
   },
   "outputs": [],
   "source": [
    "import pandas as pd\n",
    "import sqlite3"
   ]
  },
  {
   "cell_type": "code",
   "execution_count": 2,
   "id": "innovative-syndrome",
   "metadata": {
    "execution": {
     "iopub.execute_input": "2021-10-16T02:30:08.005224Z",
     "iopub.status.busy": "2021-10-16T02:30:08.002830Z",
     "iopub.status.idle": "2021-10-16T02:30:08.555728Z",
     "shell.execute_reply": "2021-10-16T02:30:08.557111Z"
    },
    "papermill": {
     "duration": 0.583284,
     "end_time": "2021-10-16T02:30:08.557547",
     "exception": false,
     "start_time": "2021-10-16T02:30:07.974263",
     "status": "completed"
    },
    "tags": []
   },
   "outputs": [],
   "source": [
    "timestamps = pd.read_sql(\"select distinct record_time from EBAY_TOP_BERLIN order by record_time desc limit 2\", sqlite3.connect(\"UsedObjects.db\"))"
   ]
  },
  {
   "cell_type": "code",
   "execution_count": 3,
   "id": "periodic-identification",
   "metadata": {
    "execution": {
     "iopub.execute_input": "2021-10-16T02:30:08.639729Z",
     "iopub.status.busy": "2021-10-16T02:30:08.637714Z",
     "iopub.status.idle": "2021-10-16T02:30:08.658094Z",
     "shell.execute_reply": "2021-10-16T02:30:08.659423Z"
    },
    "papermill": {
     "duration": 0.073146,
     "end_time": "2021-10-16T02:30:08.659838",
     "exception": false,
     "start_time": "2021-10-16T02:30:08.586692",
     "status": "completed"
    },
    "tags": []
   },
   "outputs": [
    {
     "data": {
      "text/html": [
       "<div>\n",
       "<style scoped>\n",
       "    .dataframe tbody tr th:only-of-type {\n",
       "        vertical-align: middle;\n",
       "    }\n",
       "\n",
       "    .dataframe tbody tr th {\n",
       "        vertical-align: top;\n",
       "    }\n",
       "\n",
       "    .dataframe thead th {\n",
       "        text-align: right;\n",
       "    }\n",
       "</style>\n",
       "<table border=\"1\" class=\"dataframe\">\n",
       "  <thead>\n",
       "    <tr style=\"text-align: right;\">\n",
       "      <th></th>\n",
       "      <th>RECORD_TIME</th>\n",
       "    </tr>\n",
       "  </thead>\n",
       "  <tbody>\n",
       "    <tr>\n",
       "      <th>0</th>\n",
       "      <td>2021-10-16 04:30</td>\n",
       "    </tr>\n",
       "    <tr>\n",
       "      <th>1</th>\n",
       "      <td>2021-10-16 04:00</td>\n",
       "    </tr>\n",
       "  </tbody>\n",
       "</table>\n",
       "</div>"
      ],
      "text/plain": [
       "        RECORD_TIME\n",
       "0  2021-10-16 04:30\n",
       "1  2021-10-16 04:00"
      ]
     },
     "execution_count": 3,
     "metadata": {},
     "output_type": "execute_result"
    }
   ],
   "source": [
    "timestamps"
   ]
  },
  {
   "cell_type": "code",
   "execution_count": 4,
   "id": "alternate-victory",
   "metadata": {
    "execution": {
     "iopub.execute_input": "2021-10-16T02:30:08.713192Z",
     "iopub.status.busy": "2021-10-16T02:30:08.710861Z",
     "iopub.status.idle": "2021-10-16T02:30:09.526274Z",
     "shell.execute_reply": "2021-10-16T02:30:09.527713Z"
    },
    "papermill": {
     "duration": 0.846062,
     "end_time": "2021-10-16T02:30:09.528153",
     "exception": false,
     "start_time": "2021-10-16T02:30:08.682091",
     "status": "completed"
    },
    "tags": []
   },
   "outputs": [],
   "source": [
    "df = pd.read_sql(\"select * from EBAY_TOP_BERLIN where record_time in (select distinct record_time from EBAY_TOP_BERLIN order by record_time desc limit 2)\", sqlite3.connect(\"UsedObjects.db\"))"
   ]
  },
  {
   "cell_type": "code",
   "execution_count": 5,
   "id": "popular-active",
   "metadata": {
    "execution": {
     "iopub.execute_input": "2021-10-16T02:30:09.599773Z",
     "iopub.status.busy": "2021-10-16T02:30:09.588064Z",
     "iopub.status.idle": "2021-10-16T02:30:09.615590Z",
     "shell.execute_reply": "2021-10-16T02:30:09.617013Z"
    },
    "papermill": {
     "duration": 0.068079,
     "end_time": "2021-10-16T02:30:09.617428",
     "exception": false,
     "start_time": "2021-10-16T02:30:09.549349",
     "status": "completed"
    },
    "tags": []
   },
   "outputs": [],
   "source": [
    "df_pivot = df.pivot_table(index=\"PRODUCT\", columns = \"RECORD_TIME\", values = \"LISTING_COUNT\")"
   ]
  },
  {
   "cell_type": "code",
   "execution_count": 6,
   "id": "union-huntington",
   "metadata": {
    "execution": {
     "iopub.execute_input": "2021-10-16T02:30:09.676526Z",
     "iopub.status.busy": "2021-10-16T02:30:09.674254Z",
     "iopub.status.idle": "2021-10-16T02:30:09.680152Z",
     "shell.execute_reply": "2021-10-16T02:30:09.681534Z"
    },
    "papermill": {
     "duration": 0.042193,
     "end_time": "2021-10-16T02:30:09.681997",
     "exception": false,
     "start_time": "2021-10-16T02:30:09.639804",
     "status": "completed"
    },
    "tags": []
   },
   "outputs": [],
   "source": [
    "df_pivot.columns = [\"stamp_1\", \"stamp_2\"]\n",
    "df_pivot_diff = df_pivot.diff(axis=1)"
   ]
  },
  {
   "cell_type": "code",
   "execution_count": 7,
   "id": "fifth-motion",
   "metadata": {
    "execution": {
     "iopub.execute_input": "2021-10-16T02:30:09.736603Z",
     "iopub.status.busy": "2021-10-16T02:30:09.734425Z",
     "iopub.status.idle": "2021-10-16T02:30:11.257142Z",
     "shell.execute_reply": "2021-10-16T02:30:11.258426Z"
    },
    "papermill": {
     "duration": 1.555376,
     "end_time": "2021-10-16T02:30:11.258876",
     "exception": false,
     "start_time": "2021-10-16T02:30:09.703500",
     "status": "completed"
    },
    "tags": []
   },
   "outputs": [
    {
     "data": {
      "text/plain": [
       "<AxesSubplot:ylabel='PRODUCT'>"
      ]
     },
     "execution_count": 7,
     "metadata": {},
     "output_type": "execute_result"
    },
    {
     "data": {
      "image/png": "[encoded data removed]",
      "text/plain": [
       "<Figure size 432x288 with 1 Axes>"
      ]
     },
     "metadata": {
      "needs_background": "light"
     },
     "output_type": "display_data"
    }
   ],
   "source": [
    "df_pivot_diff.sort_values(\"stamp_2\", ascending = False)[\"stamp_2\"].head(10).plot.barh()"
   ]
  },
  {
   "cell_type": "code",
   "execution_count": null,
   "id": "extra-executive",
   "metadata": {
    "papermill": {
     "duration": 0.022341,
     "end_time": "2021-10-16T02:30:11.306097",
     "exception": false,
     "start_time": "2021-10-16T02:30:11.283756",
     "status": "completed"
    },
    "tags": []
   },
   "outputs": [],
   "source": []
  }
 ],
 "metadata": {
  "kernelspec": {
   "display_name": "Python 3",
   "language": "python",
   "name": "python3"
  },
  "language_info": {
   "codemirror_mode": {
    "name": "ipython",
    "version": 3
   },
   "file_extension": ".py",
   "mimetype": "text/x-python",
   "name": "python",
   "nbconvert_exporter": "python",
   "pygments_lexer": "ipython3",
   "version": "3.9.5"
  },
  "papermill": {
   "default_parameters": {},
   "duration": 7.815877,
   "end_time": "2021-10-16T02:30:12.497114",
   "environment_variables": {},
   "exception": null,
   "input_path": "eBay_Overview.ipynb",
   "output_path": "eBay_Overview.ipynb",
   "parameters": {},
   "start_time": "2021-10-16T02:30:04.681237",
   "version": "2.3.3"
  }
 },
 "nbformat": 4,
 "nbformat_minor": 5
}