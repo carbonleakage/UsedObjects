{
 "cells": [
  {
   "cell_type": "code",
   "execution_count": 1,
   "id": "reverse-picking",
   "metadata": {
    "execution": {
     "iopub.execute_input": "2021-08-16T14:30:06.752976Z",
     "iopub.status.busy": "2021-08-16T14:30:06.750978Z",
     "iopub.status.idle": "2021-08-16T14:30:07.565308Z",
     "shell.execute_reply": "2021-08-16T14:30:07.563178Z"
    },
    "papermill": {
     "duration": 0.863711,
     "end_time": "2021-08-16T14:30:07.565754",
     "exception": false,
     "start_time": "2021-08-16T14:30:06.702043",
     "status": "completed"
    },
    "tags": []
   },
   "outputs": [],
   "source": [
    "import pandas as pd\n",
    "import sqlite3"
   ]
  },
  {
   "cell_type": "code",
   "execution_count": 2,
   "id": "innovative-syndrome",
   "metadata": {
    "execution": {
     "iopub.execute_input": "2021-08-16T14:30:07.616863Z",
     "iopub.status.busy": "2021-08-16T14:30:07.614686Z",
     "iopub.status.idle": "2021-08-16T14:30:07.677489Z",
     "shell.execute_reply": "2021-08-16T14:30:07.678767Z"
    },
    "papermill": {
     "duration": 0.093049,
     "end_time": "2021-08-16T14:30:07.679168",
     "exception": false,
     "start_time": "2021-08-16T14:30:07.586119",
     "status": "completed"
    },
    "tags": []
   },
   "outputs": [],
   "source": [
    "timestamps = pd.read_sql(\"select distinct record_time from EBAY_TOP_BERLIN order by record_time desc limit 2\", sqlite3.connect(\"UsedObjects.db\"))"
   ]
  },
  {
   "cell_type": "code",
   "execution_count": 3,
   "id": "periodic-identification",
   "metadata": {
    "execution": {
     "iopub.execute_input": "2021-08-16T14:30:07.746430Z",
     "iopub.status.busy": "2021-08-16T14:30:07.740998Z",
     "iopub.status.idle": "2021-08-16T14:30:07.762741Z",
     "shell.execute_reply": "2021-08-16T14:30:07.764321Z"
    },
    "papermill": {
     "duration": 0.066114,
     "end_time": "2021-08-16T14:30:07.764786",
     "exception": false,
     "start_time": "2021-08-16T14:30:07.698672",
     "status": "completed"
    },
    "tags": []
   },
   "outputs": [
    {
     "data": {
      "text/html": [
       "<div>\n",
       "<style scoped>\n",
       "    .dataframe tbody tr th:only-of-type {\n",
       "        vertical-align: middle;\n",
       "    }\n",
       "\n",
       "    .dataframe tbody tr th {\n",
       "        vertical-align: top;\n",
       "    }\n",
       "\n",
       "    .dataframe thead th {\n",
       "        text-align: right;\n",
       "    }\n",
       "</style>\n",
       "<table border=\"1\" class=\"dataframe\">\n",
       "  <thead>\n",
       "    <tr style=\"text-align: right;\">\n",
       "      <th></th>\n",
       "      <th>RECORD_TIME</th>\n",
       "    </tr>\n",
       "  </thead>\n",
       "  <tbody>\n",
       "    <tr>\n",
       "      <th>0</th>\n",
       "      <td>2021-08-16 16:30</td>\n",
       "    </tr>\n",
       "    <tr>\n",
       "      <th>1</th>\n",
       "      <td>2021-08-16 16:00</td>\n",
       "    </tr>\n",
       "  </tbody>\n",
       "</table>\n",
       "</div>"
      ],
      "text/plain": [
       "        RECORD_TIME\n",
       "0  2021-08-16 16:30\n",
       "1  2021-08-16 16:00"
      ]
     },
     "execution_count": 3,
     "metadata": {},
     "output_type": "execute_result"
    }
   ],
   "source": [
    "timestamps"
   ]
  },
  {
   "cell_type": "code",
   "execution_count": 4,
   "id": "alternate-victory",
   "metadata": {
    "execution": {
     "iopub.execute_input": "2021-08-16T14:30:07.816804Z",
     "iopub.status.busy": "2021-08-16T14:30:07.814881Z",
     "iopub.status.idle": "2021-08-16T14:30:07.907434Z",
     "shell.execute_reply": "2021-08-16T14:30:07.908642Z"
    },
    "papermill": {
     "duration": 0.122919,
     "end_time": "2021-08-16T14:30:07.909037",
     "exception": false,
     "start_time": "2021-08-16T14:30:07.786118",
     "status": "completed"
    },
    "tags": []
   },
   "outputs": [],
   "source": [
    "df = pd.read_sql(\"select * from EBAY_TOP_BERLIN where record_time in (select distinct record_time from EBAY_TOP_BERLIN order by record_time desc limit 2)\", sqlite3.connect(\"UsedObjects.db\"))"
   ]
  },
  {
   "cell_type": "code",
   "execution_count": 5,
   "id": "popular-active",
   "metadata": {
    "execution": {
     "iopub.execute_input": "2021-08-16T14:30:07.981429Z",
     "iopub.status.busy": "2021-08-16T14:30:07.968973Z",
     "iopub.status.idle": "2021-08-16T14:30:07.997113Z",
     "shell.execute_reply": "2021-08-16T14:30:07.998494Z"
    },
    "papermill": {
     "duration": 0.067913,
     "end_time": "2021-08-16T14:30:07.998911",
     "exception": false,
     "start_time": "2021-08-16T14:30:07.930998",
     "status": "completed"
    },
    "tags": []
   },
   "outputs": [],
   "source": [
    "df_pivot = df.pivot_table(index=\"PRODUCT\", columns = \"RECORD_TIME\", values = \"LISTING_COUNT\")"
   ]
  },
  {
   "cell_type": "code",
   "execution_count": 6,
   "id": "union-huntington",
   "metadata": {
    "execution": {
     "iopub.execute_input": "2021-08-16T14:30:08.055735Z",
     "iopub.status.busy": "2021-08-16T14:30:08.053484Z",
     "iopub.status.idle": "2021-08-16T14:30:08.058977Z",
     "shell.execute_reply": "2021-08-16T14:30:08.060345Z"
    },
    "papermill": {
     "duration": 0.041128,
     "end_time": "2021-08-16T14:30:08.060779",
     "exception": false,
     "start_time": "2021-08-16T14:30:08.019651",
     "status": "completed"
    },
    "tags": []
   },
   "outputs": [],
   "source": [
    "df_pivot.columns = [\"stamp_1\", \"stamp_2\"]\n",
    "df_pivot_diff = df_pivot.diff(axis=1)"
   ]
  },
  {
   "cell_type": "code",
   "execution_count": 7,
   "id": "fifth-motion",
   "metadata": {
    "execution": {
     "iopub.execute_input": "2021-08-16T14:30:08.115727Z",
     "iopub.status.busy": "2021-08-16T14:30:08.113090Z",
     "iopub.status.idle": "2021-08-16T14:30:09.623657Z",
     "shell.execute_reply": "2021-08-16T14:30:09.624940Z"
    },
    "papermill": {
     "duration": 1.543953,
     "end_time": "2021-08-16T14:30:09.625353",
     "exception": false,
     "start_time": "2021-08-16T14:30:08.081400",
     "status": "completed"
    },
    "tags": []
   },
   "outputs": [
    {
     "data": {
      "text/plain": [
       "<AxesSubplot:ylabel='PRODUCT'>"
      ]
     },
     "execution_count": 7,
     "metadata": {},
     "output_type": "execute_result"
    },
    {
     "data": {
      "image/png": "[encoded data removed]",
      "text/plain": [
       "<Figure size 432x288 with 1 Axes>"
      ]
     },
     "metadata": {
      "needs_background": "light"
     },
     "output_type": "display_data"
    }
   ],
   "source": [
    "df_pivot_diff.sort_values(\"stamp_2\", ascending = False)[\"stamp_2\"].head(10).plot.barh()"
   ]
  },
  {
   "cell_type": "code",
   "execution_count": null,
   "id": "extra-executive",
   "metadata": {
    "papermill": {
     "duration": 0.022089,
     "end_time": "2021-08-16T14:30:09.672289",
     "exception": false,
     "start_time": "2021-08-16T14:30:09.650200",
     "status": "completed"
    },
    "tags": []
   },
   "outputs": [],
   "source": []
  }
 ],
 "metadata": {
  "kernelspec": {
   "display_name": "Python 3",
   "language": "python",
   "name": "python3"
  },
  "language_info": {
   "codemirror_mode": {
    "name": "ipython",
    "version": 3
   },
   "file_extension": ".py",
   "mimetype": "text/x-python",
   "name": "python",
   "nbconvert_exporter": "python",
   "pygments_lexer": "ipython3",
   "version": "3.9.5"
  },
  "papermill": {
   "default_parameters": {},
   "duration": 6.83215,
   "end_time": "2021-08-16T14:30:11.107095",
   "environment_variables": {},
   "exception": null,
   "input_path": "eBay_Overview.ipynb",
   "output_path": "eBay_Overview.ipynb",
   "parameters": {},
   "start_time": "2021-08-16T14:30:04.274945",
   "version": "2.3.3"
  }
 },
 "nbformat": 4,
 "nbformat_minor": 5
}