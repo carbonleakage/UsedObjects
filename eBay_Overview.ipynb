{
 "cells": [
  {
   "cell_type": "code",
   "execution_count": 1,
   "id": "reverse-picking",
   "metadata": {
    "execution": {
     "iopub.execute_input": "2021-10-07T04:30:06.733777Z",
     "iopub.status.busy": "2021-10-07T04:30:06.731815Z",
     "iopub.status.idle": "2021-10-07T04:30:07.535363Z",
     "shell.execute_reply": "2021-10-07T04:30:07.536647Z"
    },
    "papermill": {
     "duration": 0.854324,
     "end_time": "2021-10-07T04:30:07.537254",
     "exception": false,
     "start_time": "2021-10-07T04:30:06.682930",
     "status": "completed"
    },
    "tags": []
   },
   "outputs": [],
   "source": [
    "import pandas as pd\n",
    "import sqlite3"
   ]
  },
  {
   "cell_type": "code",
   "execution_count": 2,
   "id": "innovative-syndrome",
   "metadata": {
    "execution": {
     "iopub.execute_input": "2021-10-07T04:30:07.587792Z",
     "iopub.status.busy": "2021-10-07T04:30:07.585743Z",
     "iopub.status.idle": "2021-10-07T04:30:08.066013Z",
     "shell.execute_reply": "2021-10-07T04:30:08.067263Z"
    },
    "papermill": {
     "duration": 0.51021,
     "end_time": "2021-10-07T04:30:08.067672",
     "exception": false,
     "start_time": "2021-10-07T04:30:07.557462",
     "status": "completed"
    },
    "tags": []
   },
   "outputs": [],
   "source": [
    "timestamps = pd.read_sql(\"select distinct record_time from EBAY_TOP_BERLIN order by record_time desc limit 2\", sqlite3.connect(\"UsedObjects.db\"))"
   ]
  },
  {
   "cell_type": "code",
   "execution_count": 3,
   "id": "periodic-identification",
   "metadata": {
    "execution": {
     "iopub.execute_input": "2021-10-07T04:30:08.134449Z",
     "iopub.status.busy": "2021-10-07T04:30:08.132437Z",
     "iopub.status.idle": "2021-10-07T04:30:08.154324Z",
     "shell.execute_reply": "2021-10-07T04:30:08.155687Z"
    },
    "papermill": {
     "duration": 0.06753,
     "end_time": "2021-10-07T04:30:08.156151",
     "exception": false,
     "start_time": "2021-10-07T04:30:08.088621",
     "status": "completed"
    },
    "tags": []
   },
   "outputs": [
    {
     "data": {
      "text/html": [
       "<div>\n",
       "<style scoped>\n",
       "    .dataframe tbody tr th:only-of-type {\n",
       "        vertical-align: middle;\n",
       "    }\n",
       "\n",
       "    .dataframe tbody tr th {\n",
       "        vertical-align: top;\n",
       "    }\n",
       "\n",
       "    .dataframe thead th {\n",
       "        text-align: right;\n",
       "    }\n",
       "</style>\n",
       "<table border=\"1\" class=\"dataframe\">\n",
       "  <thead>\n",
       "    <tr style=\"text-align: right;\">\n",
       "      <th></th>\n",
       "      <th>RECORD_TIME</th>\n",
       "    </tr>\n",
       "  </thead>\n",
       "  <tbody>\n",
       "    <tr>\n",
       "      <th>0</th>\n",
       "      <td>2021-10-07 06:30</td>\n",
       "    </tr>\n",
       "    <tr>\n",
       "      <th>1</th>\n",
       "      <td>2021-10-07 06:00</td>\n",
       "    </tr>\n",
       "  </tbody>\n",
       "</table>\n",
       "</div>"
      ],
      "text/plain": [
       "        RECORD_TIME\n",
       "0  2021-10-07 06:30\n",
       "1  2021-10-07 06:00"
      ]
     },
     "execution_count": 3,
     "metadata": {},
     "output_type": "execute_result"
    }
   ],
   "source": [
    "timestamps"
   ]
  },
  {
   "cell_type": "code",
   "execution_count": 4,
   "id": "alternate-victory",
   "metadata": {
    "execution": {
     "iopub.execute_input": "2021-10-07T04:30:08.219037Z",
     "iopub.status.busy": "2021-10-07T04:30:08.216976Z",
     "iopub.status.idle": "2021-10-07T04:30:08.930186Z",
     "shell.execute_reply": "2021-10-07T04:30:08.932235Z"
    },
    "papermill": {
     "duration": 0.749224,
     "end_time": "2021-10-07T04:30:08.932789",
     "exception": false,
     "start_time": "2021-10-07T04:30:08.183565",
     "status": "completed"
    },
    "tags": []
   },
   "outputs": [],
   "source": [
    "df = pd.read_sql(\"select * from EBAY_TOP_BERLIN where record_time in (select distinct record_time from EBAY_TOP_BERLIN order by record_time desc limit 2)\", sqlite3.connect(\"UsedObjects.db\"))"
   ]
  },
  {
   "cell_type": "code",
   "execution_count": 5,
   "id": "popular-active",
   "metadata": {
    "execution": {
     "iopub.execute_input": "2021-10-07T04:30:09.003567Z",
     "iopub.status.busy": "2021-10-07T04:30:08.991976Z",
     "iopub.status.idle": "2021-10-07T04:30:09.019962Z",
     "shell.execute_reply": "2021-10-07T04:30:09.021185Z"
    },
    "papermill": {
     "duration": 0.068576,
     "end_time": "2021-10-07T04:30:09.021579",
     "exception": false,
     "start_time": "2021-10-07T04:30:08.953003",
     "status": "completed"
    },
    "tags": []
   },
   "outputs": [],
   "source": [
    "df_pivot = df.pivot_table(index=\"PRODUCT\", columns = \"RECORD_TIME\", values = \"LISTING_COUNT\")"
   ]
  },
  {
   "cell_type": "code",
   "execution_count": 6,
   "id": "union-huntington",
   "metadata": {
    "execution": {
     "iopub.execute_input": "2021-10-07T04:30:09.080895Z",
     "iopub.status.busy": "2021-10-07T04:30:09.078412Z",
     "iopub.status.idle": "2021-10-07T04:30:09.084272Z",
     "shell.execute_reply": "2021-10-07T04:30:09.085534Z"
    },
    "papermill": {
     "duration": 0.042014,
     "end_time": "2021-10-07T04:30:09.085943",
     "exception": false,
     "start_time": "2021-10-07T04:30:09.043929",
     "status": "completed"
    },
    "tags": []
   },
   "outputs": [],
   "source": [
    "df_pivot.columns = [\"stamp_1\", \"stamp_2\"]\n",
    "df_pivot_diff = df_pivot.diff(axis=1)"
   ]
  },
  {
   "cell_type": "code",
   "execution_count": 7,
   "id": "fifth-motion",
   "metadata": {
    "execution": {
     "iopub.execute_input": "2021-10-07T04:30:09.140596Z",
     "iopub.status.busy": "2021-10-07T04:30:09.138104Z",
     "iopub.status.idle": "2021-10-07T04:30:10.623823Z",
     "shell.execute_reply": "2021-10-07T04:30:10.625240Z"
    },
    "papermill": {
     "duration": 1.518702,
     "end_time": "2021-10-07T04:30:10.625668",
     "exception": false,
     "start_time": "2021-10-07T04:30:09.106966",
     "status": "completed"
    },
    "tags": []
   },
   "outputs": [
    {
     "data": {
      "text/plain": [
       "<AxesSubplot:ylabel='PRODUCT'>"
      ]
     },
     "execution_count": 7,
     "metadata": {},
     "output_type": "execute_result"
    },
    {
     "data": {
      "image/png": "[encoded data removed]",
      "text/plain": [
       "<Figure size 432x288 with 1 Axes>"
      ]
     },
     "metadata": {
      "needs_background": "light"
     },
     "output_type": "display_data"
    }
   ],
   "source": [
    "df_pivot_diff.sort_values(\"stamp_2\", ascending = False)[\"stamp_2\"].head(10).plot.barh()"
   ]
  },
  {
   "cell_type": "code",
   "execution_count": null,
   "id": "extra-executive",
   "metadata": {
    "papermill": {
     "duration": 0.022153,
     "end_time": "2021-10-07T04:30:10.672394",
     "exception": false,
     "start_time": "2021-10-07T04:30:10.650241",
     "status": "completed"
    },
    "tags": []
   },
   "outputs": [],
   "source": []
  }
 ],
 "metadata": {
  "kernelspec": {
   "display_name": "Python 3",
   "language": "python",
   "name": "python3"
  },
  "language_info": {
   "codemirror_mode": {
    "name": "ipython",
    "version": 3
   },
   "file_extension": ".py",
   "mimetype": "text/x-python",
   "name": "python",
   "nbconvert_exporter": "python",
   "pygments_lexer": "ipython3",
   "version": "3.9.5"
  },
  "papermill": {
   "default_parameters": {},
   "duration": 7.831199,
   "end_time": "2021-10-07T04:30:12.110674",
   "environment_variables": {},
   "exception": null,
   "input_path": "eBay_Overview.ipynb",
   "output_path": "eBay_Overview.ipynb",
   "parameters": {},
   "start_time": "2021-10-07T04:30:04.279475",
   "version": "2.3.3"
  }
 },
 "nbformat": 4,
 "nbformat_minor": 5
}