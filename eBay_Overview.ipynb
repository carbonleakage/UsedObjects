{
 "cells": [
  {
   "cell_type": "code",
   "execution_count": 1,
   "id": "reverse-picking",
   "metadata": {
    "execution": {
     "iopub.execute_input": "2021-11-05T02:00:07.744046Z",
     "iopub.status.busy": "2021-11-05T02:00:07.741887Z",
     "iopub.status.idle": "2021-11-05T02:00:08.691706Z",
     "shell.execute_reply": "2021-11-05T02:00:08.693733Z"
    },
    "papermill": {
     "duration": 0.999717,
     "end_time": "2021-11-05T02:00:08.694424",
     "exception": false,
     "start_time": "2021-11-05T02:00:07.694707",
     "status": "completed"
    },
    "tags": []
   },
   "outputs": [],
   "source": [
    "import pandas as pd\n",
    "import sqlite3"
   ]
  },
  {
   "cell_type": "code",
   "execution_count": 2,
   "id": "innovative-syndrome",
   "metadata": {
    "execution": {
     "iopub.execute_input": "2021-11-05T02:00:08.756046Z",
     "iopub.status.busy": "2021-11-05T02:00:08.753852Z",
     "iopub.status.idle": "2021-11-05T02:00:09.489196Z",
     "shell.execute_reply": "2021-11-05T02:00:09.490710Z"
    },
    "papermill": {
     "duration": 0.769505,
     "end_time": "2021-11-05T02:00:09.491208",
     "exception": false,
     "start_time": "2021-11-05T02:00:08.721703",
     "status": "completed"
    },
    "tags": []
   },
   "outputs": [],
   "source": [
    "timestamps = pd.read_sql(\"select distinct record_time from EBAY_TOP_BERLIN order by record_time desc limit 2\", sqlite3.connect(\"UsedObjects.db\"))"
   ]
  },
  {
   "cell_type": "code",
   "execution_count": 3,
   "id": "periodic-identification",
   "metadata": {
    "execution": {
     "iopub.execute_input": "2021-11-05T02:00:09.564619Z",
     "iopub.status.busy": "2021-11-05T02:00:09.562311Z",
     "iopub.status.idle": "2021-11-05T02:00:09.584076Z",
     "shell.execute_reply": "2021-11-05T02:00:09.585405Z"
    },
    "papermill": {
     "duration": 0.0742,
     "end_time": "2021-11-05T02:00:09.585861",
     "exception": false,
     "start_time": "2021-11-05T02:00:09.511661",
     "status": "completed"
    },
    "tags": []
   },
   "outputs": [
    {
     "data": {
      "text/html": [
       "<div>\n",
       "<style scoped>\n",
       "    .dataframe tbody tr th:only-of-type {\n",
       "        vertical-align: middle;\n",
       "    }\n",
       "\n",
       "    .dataframe tbody tr th {\n",
       "        vertical-align: top;\n",
       "    }\n",
       "\n",
       "    .dataframe thead th {\n",
       "        text-align: right;\n",
       "    }\n",
       "</style>\n",
       "<table border=\"1\" class=\"dataframe\">\n",
       "  <thead>\n",
       "    <tr style=\"text-align: right;\">\n",
       "      <th></th>\n",
       "      <th>RECORD_TIME</th>\n",
       "    </tr>\n",
       "  </thead>\n",
       "  <tbody>\n",
       "    <tr>\n",
       "      <th>0</th>\n",
       "      <td>2021-11-05 03:00</td>\n",
       "    </tr>\n",
       "    <tr>\n",
       "      <th>1</th>\n",
       "      <td>2021-11-05 02:30</td>\n",
       "    </tr>\n",
       "  </tbody>\n",
       "</table>\n",
       "</div>"
      ],
      "text/plain": [
       "        RECORD_TIME\n",
       "0  2021-11-05 03:00\n",
       "1  2021-11-05 02:30"
      ]
     },
     "execution_count": 3,
     "metadata": {},
     "output_type": "execute_result"
    }
   ],
   "source": [
    "timestamps"
   ]
  },
  {
   "cell_type": "code",
   "execution_count": 4,
   "id": "alternate-victory",
   "metadata": {
    "execution": {
     "iopub.execute_input": "2021-11-05T02:00:09.640435Z",
     "iopub.status.busy": "2021-11-05T02:00:09.638372Z",
     "iopub.status.idle": "2021-11-05T02:00:10.755803Z",
     "shell.execute_reply": "2021-11-05T02:00:10.758023Z"
    },
    "papermill": {
     "duration": 1.151709,
     "end_time": "2021-11-05T02:00:10.758515",
     "exception": false,
     "start_time": "2021-11-05T02:00:09.606806",
     "status": "completed"
    },
    "tags": []
   },
   "outputs": [],
   "source": [
    "df = pd.read_sql(\"select * from EBAY_TOP_BERLIN where record_time in (select distinct record_time from EBAY_TOP_BERLIN order by record_time desc limit 2)\", sqlite3.connect(\"UsedObjects.db\"))"
   ]
  },
  {
   "cell_type": "code",
   "execution_count": 5,
   "id": "popular-active",
   "metadata": {
    "execution": {
     "iopub.execute_input": "2021-11-05T02:00:10.825252Z",
     "iopub.status.busy": "2021-11-05T02:00:10.822723Z",
     "iopub.status.idle": "2021-11-05T02:00:10.856571Z",
     "shell.execute_reply": "2021-11-05T02:00:10.858371Z"
    },
    "papermill": {
     "duration": 0.078824,
     "end_time": "2021-11-05T02:00:10.858847",
     "exception": false,
     "start_time": "2021-11-05T02:00:10.780023",
     "status": "completed"
    },
    "tags": []
   },
   "outputs": [],
   "source": [
    "df_pivot = df.pivot_table(index=\"PRODUCT\", columns = \"RECORD_TIME\", values = \"LISTING_COUNT\")"
   ]
  },
  {
   "cell_type": "code",
   "execution_count": 6,
   "id": "union-huntington",
   "metadata": {
    "execution": {
     "iopub.execute_input": "2021-11-05T02:00:10.923433Z",
     "iopub.status.busy": "2021-11-05T02:00:10.920513Z",
     "iopub.status.idle": "2021-11-05T02:00:10.926535Z",
     "shell.execute_reply": "2021-11-05T02:00:10.928018Z"
    },
    "papermill": {
     "duration": 0.047655,
     "end_time": "2021-11-05T02:00:10.928510",
     "exception": false,
     "start_time": "2021-11-05T02:00:10.880855",
     "status": "completed"
    },
    "tags": []
   },
   "outputs": [],
   "source": [
    "df_pivot.columns = [\"stamp_1\", \"stamp_2\"]\n",
    "df_pivot_diff = df_pivot.diff(axis=1)"
   ]
  },
  {
   "cell_type": "code",
   "execution_count": 7,
   "id": "fifth-motion",
   "metadata": {
    "execution": {
     "iopub.execute_input": "2021-11-05T02:00:10.988180Z",
     "iopub.status.busy": "2021-11-05T02:00:10.985613Z",
     "iopub.status.idle": "2021-11-05T02:00:12.791221Z",
     "shell.execute_reply": "2021-11-05T02:00:12.792671Z"
    },
    "papermill": {
     "duration": 1.842839,
     "end_time": "2021-11-05T02:00:12.793189",
     "exception": false,
     "start_time": "2021-11-05T02:00:10.950350",
     "status": "completed"
    },
    "tags": []
   },
   "outputs": [
    {
     "data": {
      "text/plain": [
       "<AxesSubplot:ylabel='PRODUCT'>"
      ]
     },
     "execution_count": 7,
     "metadata": {},
     "output_type": "execute_result"
    },
    {
     "data": {
      "image/png": "[encoded data removed]",
      "text/plain": [
       "<Figure size 432x288 with 1 Axes>"
      ]
     },
     "metadata": {
      "needs_background": "light"
     },
     "output_type": "display_data"
    }
   ],
   "source": [
    "df_pivot_diff.sort_values(\"stamp_2\", ascending = False)[\"stamp_2\"].head(10).plot.barh()"
   ]
  },
  {
   "cell_type": "code",
   "execution_count": null,
   "id": "extra-executive",
   "metadata": {
    "papermill": {
     "duration": 0.023363,
     "end_time": "2021-11-05T02:00:12.840292",
     "exception": false,
     "start_time": "2021-11-05T02:00:12.816929",
     "status": "completed"
    },
    "tags": []
   },
   "outputs": [],
   "source": []
  }
 ],
 "metadata": {
  "kernelspec": {
   "display_name": "Python 3",
   "language": "python",
   "name": "python3"
  },
  "language_info": {
   "codemirror_mode": {
    "name": "ipython",
    "version": 3
   },
   "file_extension": ".py",
   "mimetype": "text/x-python",
   "name": "python",
   "nbconvert_exporter": "python",
   "pygments_lexer": "ipython3",
   "version": "3.9.5"
  },
  "papermill": {
   "default_parameters": {},
   "duration": 8.900029,
   "end_time": "2021-11-05T02:00:13.796374",
   "environment_variables": {},
   "exception": null,
   "input_path": "eBay_Overview.ipynb",
   "output_path": "eBay_Overview.ipynb",
   "parameters": {},
   "start_time": "2021-11-05T02:00:04.896345",
   "version": "2.3.3"
  }
 },
 "nbformat": 4,
 "nbformat_minor": 5
}