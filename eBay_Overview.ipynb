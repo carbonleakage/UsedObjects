{
 "cells": [
  {
   "cell_type": "code",
   "execution_count": 1,
   "id": "reverse-picking",
   "metadata": {
    "execution": {
     "iopub.execute_input": "2021-09-21T04:00:07.284236Z",
     "iopub.status.busy": "2021-09-21T04:00:07.282245Z",
     "iopub.status.idle": "2021-09-21T04:00:08.084473Z",
     "shell.execute_reply": "2021-09-21T04:00:08.085876Z"
    },
    "papermill": {
     "duration": 0.854088,
     "end_time": "2021-09-21T04:00:08.086549",
     "exception": false,
     "start_time": "2021-09-21T04:00:07.232461",
     "status": "completed"
    },
    "tags": []
   },
   "outputs": [],
   "source": [
    "import pandas as pd\n",
    "import sqlite3"
   ]
  },
  {
   "cell_type": "code",
   "execution_count": 2,
   "id": "innovative-syndrome",
   "metadata": {
    "execution": {
     "iopub.execute_input": "2021-09-21T04:00:08.138294Z",
     "iopub.status.busy": "2021-09-21T04:00:08.136262Z",
     "iopub.status.idle": "2021-09-21T04:00:08.472431Z",
     "shell.execute_reply": "2021-09-21T04:00:08.473623Z"
    },
    "papermill": {
     "duration": 0.366267,
     "end_time": "2021-09-21T04:00:08.474010",
     "exception": false,
     "start_time": "2021-09-21T04:00:08.107743",
     "status": "completed"
    },
    "tags": []
   },
   "outputs": [],
   "source": [
    "timestamps = pd.read_sql(\"select distinct record_time from EBAY_TOP_BERLIN order by record_time desc limit 2\", sqlite3.connect(\"UsedObjects.db\"))"
   ]
  },
  {
   "cell_type": "code",
   "execution_count": 3,
   "id": "periodic-identification",
   "metadata": {
    "execution": {
     "iopub.execute_input": "2021-09-21T04:00:08.538297Z",
     "iopub.status.busy": "2021-09-21T04:00:08.536305Z",
     "iopub.status.idle": "2021-09-21T04:00:08.556054Z",
     "shell.execute_reply": "2021-09-21T04:00:08.557308Z"
    },
    "papermill": {
     "duration": 0.064212,
     "end_time": "2021-09-21T04:00:08.557696",
     "exception": false,
     "start_time": "2021-09-21T04:00:08.493484",
     "status": "completed"
    },
    "tags": []
   },
   "outputs": [
    {
     "data": {
      "text/html": [
       "<div>\n",
       "<style scoped>\n",
       "    .dataframe tbody tr th:only-of-type {\n",
       "        vertical-align: middle;\n",
       "    }\n",
       "\n",
       "    .dataframe tbody tr th {\n",
       "        vertical-align: top;\n",
       "    }\n",
       "\n",
       "    .dataframe thead th {\n",
       "        text-align: right;\n",
       "    }\n",
       "</style>\n",
       "<table border=\"1\" class=\"dataframe\">\n",
       "  <thead>\n",
       "    <tr style=\"text-align: right;\">\n",
       "      <th></th>\n",
       "      <th>RECORD_TIME</th>\n",
       "    </tr>\n",
       "  </thead>\n",
       "  <tbody>\n",
       "    <tr>\n",
       "      <th>0</th>\n",
       "      <td>2021-09-21 06:00</td>\n",
       "    </tr>\n",
       "    <tr>\n",
       "      <th>1</th>\n",
       "      <td>2021-09-21 05:30</td>\n",
       "    </tr>\n",
       "  </tbody>\n",
       "</table>\n",
       "</div>"
      ],
      "text/plain": [
       "        RECORD_TIME\n",
       "0  2021-09-21 06:00\n",
       "1  2021-09-21 05:30"
      ]
     },
     "execution_count": 3,
     "metadata": {},
     "output_type": "execute_result"
    }
   ],
   "source": [
    "timestamps"
   ]
  },
  {
   "cell_type": "code",
   "execution_count": 4,
   "id": "alternate-victory",
   "metadata": {
    "execution": {
     "iopub.execute_input": "2021-09-21T04:00:08.610571Z",
     "iopub.status.busy": "2021-09-21T04:00:08.608331Z",
     "iopub.status.idle": "2021-09-21T04:00:09.110730Z",
     "shell.execute_reply": "2021-09-21T04:00:09.112094Z"
    },
    "papermill": {
     "duration": 0.533162,
     "end_time": "2021-09-21T04:00:09.112634",
     "exception": false,
     "start_time": "2021-09-21T04:00:08.579472",
     "status": "completed"
    },
    "tags": []
   },
   "outputs": [],
   "source": [
    "df = pd.read_sql(\"select * from EBAY_TOP_BERLIN where record_time in (select distinct record_time from EBAY_TOP_BERLIN order by record_time desc limit 2)\", sqlite3.connect(\"UsedObjects.db\"))"
   ]
  },
  {
   "cell_type": "code",
   "execution_count": 5,
   "id": "popular-active",
   "metadata": {
    "execution": {
     "iopub.execute_input": "2021-09-21T04:00:09.183892Z",
     "iopub.status.busy": "2021-09-21T04:00:09.181626Z",
     "iopub.status.idle": "2021-09-21T04:00:09.209237Z",
     "shell.execute_reply": "2021-09-21T04:00:09.210448Z"
    },
    "papermill": {
     "duration": 0.071128,
     "end_time": "2021-09-21T04:00:09.210898",
     "exception": false,
     "start_time": "2021-09-21T04:00:09.139770",
     "status": "completed"
    },
    "tags": []
   },
   "outputs": [],
   "source": [
    "df_pivot = df.pivot_table(index=\"PRODUCT\", columns = \"RECORD_TIME\", values = \"LISTING_COUNT\")"
   ]
  },
  {
   "cell_type": "code",
   "execution_count": 6,
   "id": "union-huntington",
   "metadata": {
    "execution": {
     "iopub.execute_input": "2021-09-21T04:00:09.267622Z",
     "iopub.status.busy": "2021-09-21T04:00:09.265527Z",
     "iopub.status.idle": "2021-09-21T04:00:09.270870Z",
     "shell.execute_reply": "2021-09-21T04:00:09.272219Z"
    },
    "papermill": {
     "duration": 0.040297,
     "end_time": "2021-09-21T04:00:09.272636",
     "exception": false,
     "start_time": "2021-09-21T04:00:09.232339",
     "status": "completed"
    },
    "tags": []
   },
   "outputs": [],
   "source": [
    "df_pivot.columns = [\"stamp_1\", \"stamp_2\"]\n",
    "df_pivot_diff = df_pivot.diff(axis=1)"
   ]
  },
  {
   "cell_type": "code",
   "execution_count": 7,
   "id": "fifth-motion",
   "metadata": {
    "execution": {
     "iopub.execute_input": "2021-09-21T04:00:09.328813Z",
     "iopub.status.busy": "2021-09-21T04:00:09.326239Z",
     "iopub.status.idle": "2021-09-21T04:00:10.839449Z",
     "shell.execute_reply": "2021-09-21T04:00:10.840735Z"
    },
    "papermill": {
     "duration": 1.546209,
     "end_time": "2021-09-21T04:00:10.841150",
     "exception": false,
     "start_time": "2021-09-21T04:00:09.294941",
     "status": "completed"
    },
    "tags": []
   },
   "outputs": [
    {
     "data": {
      "text/plain": [
       "<AxesSubplot:ylabel='PRODUCT'>"
      ]
     },
     "execution_count": 7,
     "metadata": {},
     "output_type": "execute_result"
    },
    {
     "data": {
      "image/png": "[encoded data removed]",
      "text/plain": [
       "<Figure size 432x288 with 1 Axes>"
      ]
     },
     "metadata": {
      "needs_background": "light"
     },
     "output_type": "display_data"
    }
   ],
   "source": [
    "df_pivot_diff.sort_values(\"stamp_2\", ascending = False)[\"stamp_2\"].head(10).plot.barh()"
   ]
  },
  {
   "cell_type": "code",
   "execution_count": null,
   "id": "extra-executive",
   "metadata": {
    "papermill": {
     "duration": 0.022247,
     "end_time": "2021-09-21T04:00:10.888197",
     "exception": false,
     "start_time": "2021-09-21T04:00:10.865950",
     "status": "completed"
    },
    "tags": []
   },
   "outputs": [],
   "source": []
  }
 ],
 "metadata": {
  "kernelspec": {
   "display_name": "Python 3",
   "language": "python",
   "name": "python3"
  },
  "language_info": {
   "codemirror_mode": {
    "name": "ipython",
    "version": 3
   },
   "file_extension": ".py",
   "mimetype": "text/x-python",
   "name": "python",
   "nbconvert_exporter": "python",
   "pygments_lexer": "ipython3",
   "version": "3.9.5"
  },
  "papermill": {
   "default_parameters": {},
   "duration": 6.710091,
   "end_time": "2021-09-21T04:00:11.531676",
   "environment_variables": {},
   "exception": null,
   "input_path": "eBay_Overview.ipynb",
   "output_path": "eBay_Overview.ipynb",
   "parameters": {},
   "start_time": "2021-09-21T04:00:04.821585",
   "version": "2.3.3"
  }
 },
 "nbformat": 4,
 "nbformat_minor": 5
}