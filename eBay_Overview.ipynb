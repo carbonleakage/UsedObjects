{
 "cells": [
  {
   "cell_type": "code",
   "execution_count": 1,
   "id": "reverse-picking",
   "metadata": {
    "execution": {
     "iopub.execute_input": "2021-09-01T01:30:07.163976Z",
     "iopub.status.busy": "2021-09-01T01:30:07.161995Z",
     "iopub.status.idle": "2021-09-01T01:30:07.962386Z",
     "shell.execute_reply": "2021-09-01T01:30:07.960855Z"
    },
    "papermill": {
     "duration": 0.850479,
     "end_time": "2021-09-01T01:30:07.962777",
     "exception": false,
     "start_time": "2021-09-01T01:30:07.112298",
     "status": "completed"
    },
    "tags": []
   },
   "outputs": [],
   "source": [
    "import pandas as pd\n",
    "import sqlite3"
   ]
  },
  {
   "cell_type": "code",
   "execution_count": 2,
   "id": "innovative-syndrome",
   "metadata": {
    "execution": {
     "iopub.execute_input": "2021-09-01T01:30:08.015788Z",
     "iopub.status.busy": "2021-09-01T01:30:08.013412Z",
     "iopub.status.idle": "2021-09-01T01:30:08.189776Z",
     "shell.execute_reply": "2021-09-01T01:30:08.191073Z"
    },
    "papermill": {
     "duration": 0.206258,
     "end_time": "2021-09-01T01:30:08.191515",
     "exception": false,
     "start_time": "2021-09-01T01:30:07.985257",
     "status": "completed"
    },
    "tags": []
   },
   "outputs": [],
   "source": [
    "timestamps = pd.read_sql(\"select distinct record_time from EBAY_TOP_BERLIN order by record_time desc limit 2\", sqlite3.connect(\"UsedObjects.db\"))"
   ]
  },
  {
   "cell_type": "code",
   "execution_count": 3,
   "id": "periodic-identification",
   "metadata": {
    "execution": {
     "iopub.execute_input": "2021-09-01T01:30:08.260004Z",
     "iopub.status.busy": "2021-09-01T01:30:08.257925Z",
     "iopub.status.idle": "2021-09-01T01:30:08.278765Z",
     "shell.execute_reply": "2021-09-01T01:30:08.280109Z"
    },
    "papermill": {
     "duration": 0.067278,
     "end_time": "2021-09-01T01:30:08.280566",
     "exception": false,
     "start_time": "2021-09-01T01:30:08.213288",
     "status": "completed"
    },
    "tags": []
   },
   "outputs": [
    {
     "data": {
      "text/html": [
       "<div>\n",
       "<style scoped>\n",
       "    .dataframe tbody tr th:only-of-type {\n",
       "        vertical-align: middle;\n",
       "    }\n",
       "\n",
       "    .dataframe tbody tr th {\n",
       "        vertical-align: top;\n",
       "    }\n",
       "\n",
       "    .dataframe thead th {\n",
       "        text-align: right;\n",
       "    }\n",
       "</style>\n",
       "<table border=\"1\" class=\"dataframe\">\n",
       "  <thead>\n",
       "    <tr style=\"text-align: right;\">\n",
       "      <th></th>\n",
       "      <th>RECORD_TIME</th>\n",
       "    </tr>\n",
       "  </thead>\n",
       "  <tbody>\n",
       "    <tr>\n",
       "      <th>0</th>\n",
       "      <td>2021-09-01 03:30</td>\n",
       "    </tr>\n",
       "    <tr>\n",
       "      <th>1</th>\n",
       "      <td>2021-09-01 03:00</td>\n",
       "    </tr>\n",
       "  </tbody>\n",
       "</table>\n",
       "</div>"
      ],
      "text/plain": [
       "        RECORD_TIME\n",
       "0  2021-09-01 03:30\n",
       "1  2021-09-01 03:00"
      ]
     },
     "execution_count": 3,
     "metadata": {},
     "output_type": "execute_result"
    }
   ],
   "source": [
    "timestamps"
   ]
  },
  {
   "cell_type": "code",
   "execution_count": 4,
   "id": "alternate-victory",
   "metadata": {
    "execution": {
     "iopub.execute_input": "2021-09-01T01:30:08.332888Z",
     "iopub.status.busy": "2021-09-01T01:30:08.330575Z",
     "iopub.status.idle": "2021-09-01T01:30:08.597796Z",
     "shell.execute_reply": "2021-09-01T01:30:08.599167Z"
    },
    "papermill": {
     "duration": 0.297062,
     "end_time": "2021-09-01T01:30:08.599596",
     "exception": false,
     "start_time": "2021-09-01T01:30:08.302534",
     "status": "completed"
    },
    "tags": []
   },
   "outputs": [],
   "source": [
    "df = pd.read_sql(\"select * from EBAY_TOP_BERLIN where record_time in (select distinct record_time from EBAY_TOP_BERLIN order by record_time desc limit 2)\", sqlite3.connect(\"UsedObjects.db\"))"
   ]
  },
  {
   "cell_type": "code",
   "execution_count": 5,
   "id": "popular-active",
   "metadata": {
    "execution": {
     "iopub.execute_input": "2021-09-01T01:30:08.679816Z",
     "iopub.status.busy": "2021-09-01T01:30:08.668229Z",
     "iopub.status.idle": "2021-09-01T01:30:08.695492Z",
     "shell.execute_reply": "2021-09-01T01:30:08.696718Z"
    },
    "papermill": {
     "duration": 0.071453,
     "end_time": "2021-09-01T01:30:08.697115",
     "exception": false,
     "start_time": "2021-09-01T01:30:08.625662",
     "status": "completed"
    },
    "tags": []
   },
   "outputs": [],
   "source": [
    "df_pivot = df.pivot_table(index=\"PRODUCT\", columns = \"RECORD_TIME\", values = \"LISTING_COUNT\")"
   ]
  },
  {
   "cell_type": "code",
   "execution_count": 6,
   "id": "union-huntington",
   "metadata": {
    "execution": {
     "iopub.execute_input": "2021-09-01T01:30:08.754460Z",
     "iopub.status.busy": "2021-09-01T01:30:08.752222Z",
     "iopub.status.idle": "2021-09-01T01:30:08.758206Z",
     "shell.execute_reply": "2021-09-01T01:30:08.759641Z"
    },
    "papermill": {
     "duration": 0.041617,
     "end_time": "2021-09-01T01:30:08.760128",
     "exception": false,
     "start_time": "2021-09-01T01:30:08.718511",
     "status": "completed"
    },
    "tags": []
   },
   "outputs": [],
   "source": [
    "df_pivot.columns = [\"stamp_1\", \"stamp_2\"]\n",
    "df_pivot_diff = df_pivot.diff(axis=1)"
   ]
  },
  {
   "cell_type": "code",
   "execution_count": 7,
   "id": "fifth-motion",
   "metadata": {
    "execution": {
     "iopub.execute_input": "2021-09-01T01:30:08.814037Z",
     "iopub.status.busy": "2021-09-01T01:30:08.811884Z",
     "iopub.status.idle": "2021-09-01T01:30:10.271441Z",
     "shell.execute_reply": "2021-09-01T01:30:10.272835Z"
    },
    "papermill": {
     "duration": 1.492212,
     "end_time": "2021-09-01T01:30:10.273258",
     "exception": false,
     "start_time": "2021-09-01T01:30:08.781046",
     "status": "completed"
    },
    "tags": []
   },
   "outputs": [
    {
     "data": {
      "text/plain": [
       "<AxesSubplot:ylabel='PRODUCT'>"
      ]
     },
     "execution_count": 7,
     "metadata": {},
     "output_type": "execute_result"
    },
    {
     "data": {
      "image/png": "[encoded data removed]",
      "text/plain": [
       "<Figure size 432x288 with 1 Axes>"
      ]
     },
     "metadata": {
      "needs_background": "light"
     },
     "output_type": "display_data"
    }
   ],
   "source": [
    "df_pivot_diff.sort_values(\"stamp_2\", ascending = False)[\"stamp_2\"].head(10).plot.barh()"
   ]
  },
  {
   "cell_type": "code",
   "execution_count": null,
   "id": "extra-executive",
   "metadata": {
    "papermill": {
     "duration": 0.022067,
     "end_time": "2021-09-01T01:30:10.319764",
     "exception": false,
     "start_time": "2021-09-01T01:30:10.297697",
     "status": "completed"
    },
    "tags": []
   },
   "outputs": [],
   "source": []
  }
 ],
 "metadata": {
  "kernelspec": {
   "display_name": "Python 3",
   "language": "python",
   "name": "python3"
  },
  "language_info": {
   "codemirror_mode": {
    "name": "ipython",
    "version": 3
   },
   "file_extension": ".py",
   "mimetype": "text/x-python",
   "name": "python",
   "nbconvert_exporter": "python",
   "pygments_lexer": "ipython3",
   "version": "3.9.5"
  },
  "papermill": {
   "default_parameters": {},
   "duration": 6.819468,
   "end_time": "2021-09-01T01:30:11.528424",
   "environment_variables": {},
   "exception": null,
   "input_path": "eBay_Overview.ipynb",
   "output_path": "eBay_Overview.ipynb",
   "parameters": {},
   "start_time": "2021-09-01T01:30:04.708956",
   "version": "2.3.3"
  }
 },
 "nbformat": 4,
 "nbformat_minor": 5
}