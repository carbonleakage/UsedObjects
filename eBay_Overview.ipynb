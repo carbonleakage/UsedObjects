{
 "cells": [
  {
   "cell_type": "code",
   "execution_count": 1,
   "id": "reverse-picking",
   "metadata": {
    "execution": {
     "iopub.execute_input": "2021-08-28T00:30:07.196688Z",
     "iopub.status.busy": "2021-08-28T00:30:07.194562Z",
     "iopub.status.idle": "2021-08-28T00:30:08.000445Z",
     "shell.execute_reply": "2021-08-28T00:30:08.001712Z"
    },
    "papermill": {
     "duration": 0.856663,
     "end_time": "2021-08-28T00:30:08.002331",
     "exception": false,
     "start_time": "2021-08-28T00:30:07.145668",
     "status": "completed"
    },
    "tags": []
   },
   "outputs": [],
   "source": [
    "import pandas as pd\n",
    "import sqlite3"
   ]
  },
  {
   "cell_type": "code",
   "execution_count": 2,
   "id": "innovative-syndrome",
   "metadata": {
    "execution": {
     "iopub.execute_input": "2021-08-28T00:30:08.054592Z",
     "iopub.status.busy": "2021-08-28T00:30:08.052434Z",
     "iopub.status.idle": "2021-08-28T00:30:08.206229Z",
     "shell.execute_reply": "2021-08-28T00:30:08.207415Z"
    },
    "papermill": {
     "duration": 0.18325,
     "end_time": "2021-08-28T00:30:08.207800",
     "exception": false,
     "start_time": "2021-08-28T00:30:08.024550",
     "status": "completed"
    },
    "tags": []
   },
   "outputs": [],
   "source": [
    "timestamps = pd.read_sql(\"select distinct record_time from EBAY_TOP_BERLIN order by record_time desc limit 2\", sqlite3.connect(\"UsedObjects.db\"))"
   ]
  },
  {
   "cell_type": "code",
   "execution_count": 3,
   "id": "periodic-identification",
   "metadata": {
    "execution": {
     "iopub.execute_input": "2021-08-28T00:30:08.274667Z",
     "iopub.status.busy": "2021-08-28T00:30:08.269603Z",
     "iopub.status.idle": "2021-08-28T00:30:08.291398Z",
     "shell.execute_reply": "2021-08-28T00:30:08.293300Z"
    },
    "papermill": {
     "duration": 0.06685,
     "end_time": "2021-08-28T00:30:08.293831",
     "exception": false,
     "start_time": "2021-08-28T00:30:08.226981",
     "status": "completed"
    },
    "tags": []
   },
   "outputs": [
    {
     "data": {
      "text/html": [
       "<div>\n",
       "<style scoped>\n",
       "    .dataframe tbody tr th:only-of-type {\n",
       "        vertical-align: middle;\n",
       "    }\n",
       "\n",
       "    .dataframe tbody tr th {\n",
       "        vertical-align: top;\n",
       "    }\n",
       "\n",
       "    .dataframe thead th {\n",
       "        text-align: right;\n",
       "    }\n",
       "</style>\n",
       "<table border=\"1\" class=\"dataframe\">\n",
       "  <thead>\n",
       "    <tr style=\"text-align: right;\">\n",
       "      <th></th>\n",
       "      <th>RECORD_TIME</th>\n",
       "    </tr>\n",
       "  </thead>\n",
       "  <tbody>\n",
       "    <tr>\n",
       "      <th>0</th>\n",
       "      <td>2021-08-28 02:30</td>\n",
       "    </tr>\n",
       "    <tr>\n",
       "      <th>1</th>\n",
       "      <td>2021-08-28 02:00</td>\n",
       "    </tr>\n",
       "  </tbody>\n",
       "</table>\n",
       "</div>"
      ],
      "text/plain": [
       "        RECORD_TIME\n",
       "0  2021-08-28 02:30\n",
       "1  2021-08-28 02:00"
      ]
     },
     "execution_count": 3,
     "metadata": {},
     "output_type": "execute_result"
    }
   ],
   "source": [
    "timestamps"
   ]
  },
  {
   "cell_type": "code",
   "execution_count": 4,
   "id": "alternate-victory",
   "metadata": {
    "execution": {
     "iopub.execute_input": "2021-08-28T00:30:08.345673Z",
     "iopub.status.busy": "2021-08-28T00:30:08.343327Z",
     "iopub.status.idle": "2021-08-28T00:30:08.559837Z",
     "shell.execute_reply": "2021-08-28T00:30:08.561391Z"
    },
    "papermill": {
     "duration": 0.247165,
     "end_time": "2021-08-28T00:30:08.561875",
     "exception": false,
     "start_time": "2021-08-28T00:30:08.314710",
     "status": "completed"
    },
    "tags": []
   },
   "outputs": [],
   "source": [
    "df = pd.read_sql(\"select * from EBAY_TOP_BERLIN where record_time in (select distinct record_time from EBAY_TOP_BERLIN order by record_time desc limit 2)\", sqlite3.connect(\"UsedObjects.db\"))"
   ]
  },
  {
   "cell_type": "code",
   "execution_count": 5,
   "id": "popular-active",
   "metadata": {
    "execution": {
     "iopub.execute_input": "2021-08-28T00:30:08.634897Z",
     "iopub.status.busy": "2021-08-28T00:30:08.622334Z",
     "iopub.status.idle": "2021-08-28T00:30:08.650473Z",
     "shell.execute_reply": "2021-08-28T00:30:08.651683Z"
    },
    "papermill": {
     "duration": 0.068018,
     "end_time": "2021-08-28T00:30:08.652074",
     "exception": false,
     "start_time": "2021-08-28T00:30:08.584056",
     "status": "completed"
    },
    "tags": []
   },
   "outputs": [],
   "source": [
    "df_pivot = df.pivot_table(index=\"PRODUCT\", columns = \"RECORD_TIME\", values = \"LISTING_COUNT\")"
   ]
  },
  {
   "cell_type": "code",
   "execution_count": 6,
   "id": "union-huntington",
   "metadata": {
    "execution": {
     "iopub.execute_input": "2021-08-28T00:30:08.721599Z",
     "iopub.status.busy": "2021-08-28T00:30:08.719418Z",
     "iopub.status.idle": "2021-08-28T00:30:08.725203Z",
     "shell.execute_reply": "2021-08-28T00:30:08.726756Z"
    },
    "papermill": {
     "duration": 0.046531,
     "end_time": "2021-08-28T00:30:08.727228",
     "exception": false,
     "start_time": "2021-08-28T00:30:08.680697",
     "status": "completed"
    },
    "tags": []
   },
   "outputs": [],
   "source": [
    "df_pivot.columns = [\"stamp_1\", \"stamp_2\"]\n",
    "df_pivot_diff = df_pivot.diff(axis=1)"
   ]
  },
  {
   "cell_type": "code",
   "execution_count": 7,
   "id": "fifth-motion",
   "metadata": {
    "execution": {
     "iopub.execute_input": "2021-08-28T00:30:08.782592Z",
     "iopub.status.busy": "2021-08-28T00:30:08.780182Z",
     "iopub.status.idle": "2021-08-28T00:30:10.284586Z",
     "shell.execute_reply": "2021-08-28T00:30:10.285783Z"
    },
    "papermill": {
     "duration": 1.537602,
     "end_time": "2021-08-28T00:30:10.286209",
     "exception": false,
     "start_time": "2021-08-28T00:30:08.748607",
     "status": "completed"
    },
    "tags": []
   },
   "outputs": [
    {
     "data": {
      "text/plain": [
       "<AxesSubplot:ylabel='PRODUCT'>"
      ]
     },
     "execution_count": 7,
     "metadata": {},
     "output_type": "execute_result"
    },
    {
     "data": {
      "image/png": "[encoded data removed]",
      "text/plain": [
       "<Figure size 432x288 with 1 Axes>"
      ]
     },
     "metadata": {
      "needs_background": "light"
     },
     "output_type": "display_data"
    }
   ],
   "source": [
    "df_pivot_diff.sort_values(\"stamp_2\", ascending = False)[\"stamp_2\"].head(10).plot.barh()"
   ]
  },
  {
   "cell_type": "code",
   "execution_count": null,
   "id": "extra-executive",
   "metadata": {
    "papermill": {
     "duration": 0.022245,
     "end_time": "2021-08-28T00:30:10.332376",
     "exception": false,
     "start_time": "2021-08-28T00:30:10.310131",
     "status": "completed"
    },
    "tags": []
   },
   "outputs": [],
   "source": []
  }
 ],
 "metadata": {
  "kernelspec": {
   "display_name": "Python 3",
   "language": "python",
   "name": "python3"
  },
  "language_info": {
   "codemirror_mode": {
    "name": "ipython",
    "version": 3
   },
   "file_extension": ".py",
   "mimetype": "text/x-python",
   "name": "python",
   "nbconvert_exporter": "python",
   "pygments_lexer": "ipython3",
   "version": "3.9.5"
  },
  "papermill": {
   "default_parameters": {},
   "duration": 6.826613,
   "end_time": "2021-08-28T00:30:11.571409",
   "environment_variables": {},
   "exception": null,
   "input_path": "eBay_Overview.ipynb",
   "output_path": "eBay_Overview.ipynb",
   "parameters": {},
   "start_time": "2021-08-28T00:30:04.744796",
   "version": "2.3.3"
  }
 },
 "nbformat": 4,
 "nbformat_minor": 5
}