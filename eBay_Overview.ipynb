{
 "cells": [
  {
   "cell_type": "code",
   "execution_count": 1,
   "id": "reverse-picking",
   "metadata": {
    "execution": {
     "iopub.execute_input": "2021-11-10T15:00:07.812108Z",
     "iopub.status.busy": "2021-11-10T15:00:07.809490Z",
     "iopub.status.idle": "2021-11-10T15:00:08.735363Z",
     "shell.execute_reply": "2021-11-10T15:00:08.737177Z"
    },
    "papermill": {
     "duration": 0.97706,
     "end_time": "2021-11-10T15:00:08.737930",
     "exception": false,
     "start_time": "2021-11-10T15:00:07.760870",
     "status": "completed"
    },
    "tags": []
   },
   "outputs": [],
   "source": [
    "import pandas as pd\n",
    "import sqlite3"
   ]
  },
  {
   "cell_type": "code",
   "execution_count": 2,
   "id": "innovative-syndrome",
   "metadata": {
    "execution": {
     "iopub.execute_input": "2021-11-10T15:00:08.798887Z",
     "iopub.status.busy": "2021-11-10T15:00:08.796484Z",
     "iopub.status.idle": "2021-11-10T15:00:09.577470Z",
     "shell.execute_reply": "2021-11-10T15:00:09.578765Z"
    },
    "papermill": {
     "duration": 0.813928,
     "end_time": "2021-11-10T15:00:09.579215",
     "exception": false,
     "start_time": "2021-11-10T15:00:08.765287",
     "status": "completed"
    },
    "tags": []
   },
   "outputs": [],
   "source": [
    "timestamps = pd.read_sql(\"select distinct record_time from EBAY_TOP_BERLIN order by record_time desc limit 2\", sqlite3.connect(\"UsedObjects.db\"))"
   ]
  },
  {
   "cell_type": "code",
   "execution_count": 3,
   "id": "periodic-identification",
   "metadata": {
    "execution": {
     "iopub.execute_input": "2021-11-10T15:00:09.648673Z",
     "iopub.status.busy": "2021-11-10T15:00:09.646217Z",
     "iopub.status.idle": "2021-11-10T15:00:09.669441Z",
     "shell.execute_reply": "2021-11-10T15:00:09.670879Z"
    },
    "papermill": {
     "duration": 0.072806,
     "end_time": "2021-11-10T15:00:09.671358",
     "exception": false,
     "start_time": "2021-11-10T15:00:09.598552",
     "status": "completed"
    },
    "tags": []
   },
   "outputs": [
    {
     "data": {
      "text/html": [
       "<div>\n",
       "<style scoped>\n",
       "    .dataframe tbody tr th:only-of-type {\n",
       "        vertical-align: middle;\n",
       "    }\n",
       "\n",
       "    .dataframe tbody tr th {\n",
       "        vertical-align: top;\n",
       "    }\n",
       "\n",
       "    .dataframe thead th {\n",
       "        text-align: right;\n",
       "    }\n",
       "</style>\n",
       "<table border=\"1\" class=\"dataframe\">\n",
       "  <thead>\n",
       "    <tr style=\"text-align: right;\">\n",
       "      <th></th>\n",
       "      <th>RECORD_TIME</th>\n",
       "    </tr>\n",
       "  </thead>\n",
       "  <tbody>\n",
       "    <tr>\n",
       "      <th>0</th>\n",
       "      <td>2021-11-10 16:00</td>\n",
       "    </tr>\n",
       "    <tr>\n",
       "      <th>1</th>\n",
       "      <td>2021-11-10 15:30</td>\n",
       "    </tr>\n",
       "  </tbody>\n",
       "</table>\n",
       "</div>"
      ],
      "text/plain": [
       "        RECORD_TIME\n",
       "0  2021-11-10 16:00\n",
       "1  2021-11-10 15:30"
      ]
     },
     "execution_count": 3,
     "metadata": {},
     "output_type": "execute_result"
    }
   ],
   "source": [
    "timestamps"
   ]
  },
  {
   "cell_type": "code",
   "execution_count": 4,
   "id": "alternate-victory",
   "metadata": {
    "execution": {
     "iopub.execute_input": "2021-11-10T15:00:09.728883Z",
     "iopub.status.busy": "2021-11-10T15:00:09.726563Z",
     "iopub.status.idle": "2021-11-10T15:00:10.866309Z",
     "shell.execute_reply": "2021-11-10T15:00:10.867822Z"
    },
    "papermill": {
     "duration": 1.175559,
     "end_time": "2021-11-10T15:00:10.868296",
     "exception": false,
     "start_time": "2021-11-10T15:00:09.692737",
     "status": "completed"
    },
    "tags": []
   },
   "outputs": [],
   "source": [
    "df = pd.read_sql(\"select * from EBAY_TOP_BERLIN where record_time in (select distinct record_time from EBAY_TOP_BERLIN order by record_time desc limit 2)\", sqlite3.connect(\"UsedObjects.db\"))"
   ]
  },
  {
   "cell_type": "code",
   "execution_count": 5,
   "id": "popular-active",
   "metadata": {
    "execution": {
     "iopub.execute_input": "2021-11-10T15:00:10.940914Z",
     "iopub.status.busy": "2021-11-10T15:00:10.933792Z",
     "iopub.status.idle": "2021-11-10T15:00:10.965622Z",
     "shell.execute_reply": "2021-11-10T15:00:10.967075Z"
    },
    "papermill": {
     "duration": 0.076925,
     "end_time": "2021-11-10T15:00:10.967528",
     "exception": false,
     "start_time": "2021-11-10T15:00:10.890603",
     "status": "completed"
    },
    "tags": []
   },
   "outputs": [],
   "source": [
    "df_pivot = df.pivot_table(index=\"PRODUCT\", columns = \"RECORD_TIME\", values = \"LISTING_COUNT\")"
   ]
  },
  {
   "cell_type": "code",
   "execution_count": 6,
   "id": "union-huntington",
   "metadata": {
    "execution": {
     "iopub.execute_input": "2021-11-10T15:00:11.025327Z",
     "iopub.status.busy": "2021-11-10T15:00:11.023064Z",
     "iopub.status.idle": "2021-11-10T15:00:11.030896Z",
     "shell.execute_reply": "2021-11-10T15:00:11.029151Z"
    },
    "papermill": {
     "duration": 0.043891,
     "end_time": "2021-11-10T15:00:11.031332",
     "exception": false,
     "start_time": "2021-11-10T15:00:10.987441",
     "status": "completed"
    },
    "tags": []
   },
   "outputs": [],
   "source": [
    "df_pivot.columns = [\"stamp_1\", \"stamp_2\"]\n",
    "df_pivot_diff = df_pivot.diff(axis=1)"
   ]
  },
  {
   "cell_type": "code",
   "execution_count": 7,
   "id": "fifth-motion",
   "metadata": {
    "execution": {
     "iopub.execute_input": "2021-11-10T15:00:11.104739Z",
     "iopub.status.busy": "2021-11-10T15:00:11.100246Z",
     "iopub.status.idle": "2021-11-10T15:00:12.870173Z",
     "shell.execute_reply": "2021-11-10T15:00:12.872677Z"
    },
    "papermill": {
     "duration": 1.820734,
     "end_time": "2021-11-10T15:00:12.873548",
     "exception": false,
     "start_time": "2021-11-10T15:00:11.052814",
     "status": "completed"
    },
    "tags": []
   },
   "outputs": [
    {
     "data": {
      "text/plain": [
       "<AxesSubplot:ylabel='PRODUCT'>"
      ]
     },
     "execution_count": 7,
     "metadata": {},
     "output_type": "execute_result"
    },
    {
     "data": {
      "image/png": "[encoded data removed]",
      "text/plain": [
       "<Figure size 432x288 with 1 Axes>"
      ]
     },
     "metadata": {
      "needs_background": "light"
     },
     "output_type": "display_data"
    }
   ],
   "source": [
    "df_pivot_diff.sort_values(\"stamp_2\", ascending = False)[\"stamp_2\"].head(10).plot.barh()"
   ]
  },
  {
   "cell_type": "code",
   "execution_count": null,
   "id": "extra-executive",
   "metadata": {
    "papermill": {
     "duration": 0.035508,
     "end_time": "2021-11-10T15:00:12.945112",
     "exception": false,
     "start_time": "2021-11-10T15:00:12.909604",
     "status": "completed"
    },
    "tags": []
   },
   "outputs": [],
   "source": []
  }
 ],
 "metadata": {
  "kernelspec": {
   "display_name": "Python 3",
   "language": "python",
   "name": "python3"
  },
  "language_info": {
   "codemirror_mode": {
    "name": "ipython",
    "version": 3
   },
   "file_extension": ".py",
   "mimetype": "text/x-python",
   "name": "python",
   "nbconvert_exporter": "python",
   "pygments_lexer": "ipython3",
   "version": "3.9.5"
  },
  "papermill": {
   "default_parameters": {},
   "duration": 8.804304,
   "end_time": "2021-11-10T15:00:13.825601",
   "environment_variables": {},
   "exception": null,
   "input_path": "eBay_Overview.ipynb",
   "output_path": "eBay_Overview.ipynb",
   "parameters": {},
   "start_time": "2021-11-10T15:00:05.021297",
   "version": "2.3.3"
  }
 },
 "nbformat": 4,
 "nbformat_minor": 5
}