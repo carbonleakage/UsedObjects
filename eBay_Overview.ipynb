{
 "cells": [
  {
   "cell_type": "code",
   "execution_count": 1,
   "id": "reverse-picking",
   "metadata": {
    "execution": {
     "iopub.execute_input": "2021-08-31T06:00:07.006322Z",
     "iopub.status.busy": "2021-08-31T06:00:07.004425Z",
     "iopub.status.idle": "2021-08-31T06:00:07.810096Z",
     "shell.execute_reply": "2021-08-31T06:00:07.811319Z"
    },
    "papermill": {
     "duration": 0.857603,
     "end_time": "2021-08-31T06:00:07.811940",
     "exception": false,
     "start_time": "2021-08-31T06:00:06.954337",
     "status": "completed"
    },
    "tags": []
   },
   "outputs": [],
   "source": [
    "import pandas as pd\n",
    "import sqlite3"
   ]
  },
  {
   "cell_type": "code",
   "execution_count": 2,
   "id": "innovative-syndrome",
   "metadata": {
    "execution": {
     "iopub.execute_input": "2021-08-31T06:00:07.862179Z",
     "iopub.status.busy": "2021-08-31T06:00:07.860290Z",
     "iopub.status.idle": "2021-08-31T06:00:08.028165Z",
     "shell.execute_reply": "2021-08-31T06:00:08.029427Z"
    },
    "papermill": {
     "duration": 0.197423,
     "end_time": "2021-08-31T06:00:08.029819",
     "exception": false,
     "start_time": "2021-08-31T06:00:07.832396",
     "status": "completed"
    },
    "tags": []
   },
   "outputs": [],
   "source": [
    "timestamps = pd.read_sql(\"select distinct record_time from EBAY_TOP_BERLIN order by record_time desc limit 2\", sqlite3.connect(\"UsedObjects.db\"))"
   ]
  },
  {
   "cell_type": "code",
   "execution_count": 3,
   "id": "periodic-identification",
   "metadata": {
    "execution": {
     "iopub.execute_input": "2021-08-31T06:00:08.105464Z",
     "iopub.status.busy": "2021-08-31T06:00:08.096335Z",
     "iopub.status.idle": "2021-08-31T06:00:08.116969Z",
     "shell.execute_reply": "2021-08-31T06:00:08.118312Z"
    },
    "papermill": {
     "duration": 0.066185,
     "end_time": "2021-08-31T06:00:08.118717",
     "exception": false,
     "start_time": "2021-08-31T06:00:08.052532",
     "status": "completed"
    },
    "tags": []
   },
   "outputs": [
    {
     "data": {
      "text/html": [
       "<div>\n",
       "<style scoped>\n",
       "    .dataframe tbody tr th:only-of-type {\n",
       "        vertical-align: middle;\n",
       "    }\n",
       "\n",
       "    .dataframe tbody tr th {\n",
       "        vertical-align: top;\n",
       "    }\n",
       "\n",
       "    .dataframe thead th {\n",
       "        text-align: right;\n",
       "    }\n",
       "</style>\n",
       "<table border=\"1\" class=\"dataframe\">\n",
       "  <thead>\n",
       "    <tr style=\"text-align: right;\">\n",
       "      <th></th>\n",
       "      <th>RECORD_TIME</th>\n",
       "    </tr>\n",
       "  </thead>\n",
       "  <tbody>\n",
       "    <tr>\n",
       "      <th>0</th>\n",
       "      <td>2021-08-31 08:00</td>\n",
       "    </tr>\n",
       "    <tr>\n",
       "      <th>1</th>\n",
       "      <td>2021-08-31 07:30</td>\n",
       "    </tr>\n",
       "  </tbody>\n",
       "</table>\n",
       "</div>"
      ],
      "text/plain": [
       "        RECORD_TIME\n",
       "0  2021-08-31 08:00\n",
       "1  2021-08-31 07:30"
      ]
     },
     "execution_count": 3,
     "metadata": {},
     "output_type": "execute_result"
    }
   ],
   "source": [
    "timestamps"
   ]
  },
  {
   "cell_type": "code",
   "execution_count": 4,
   "id": "alternate-victory",
   "metadata": {
    "execution": {
     "iopub.execute_input": "2021-08-31T06:00:08.169847Z",
     "iopub.status.busy": "2021-08-31T06:00:08.167939Z",
     "iopub.status.idle": "2021-08-31T06:00:08.416861Z",
     "shell.execute_reply": "2021-08-31T06:00:08.418067Z"
    },
    "papermill": {
     "duration": 0.278877,
     "end_time": "2021-08-31T06:00:08.418455",
     "exception": false,
     "start_time": "2021-08-31T06:00:08.139578",
     "status": "completed"
    },
    "tags": []
   },
   "outputs": [],
   "source": [
    "df = pd.read_sql(\"select * from EBAY_TOP_BERLIN where record_time in (select distinct record_time from EBAY_TOP_BERLIN order by record_time desc limit 2)\", sqlite3.connect(\"UsedObjects.db\"))"
   ]
  },
  {
   "cell_type": "code",
   "execution_count": 5,
   "id": "popular-active",
   "metadata": {
    "execution": {
     "iopub.execute_input": "2021-08-31T06:00:08.501154Z",
     "iopub.status.busy": "2021-08-31T06:00:08.494210Z",
     "iopub.status.idle": "2021-08-31T06:00:08.516367Z",
     "shell.execute_reply": "2021-08-31T06:00:08.517584Z"
    },
    "papermill": {
     "duration": 0.0705,
     "end_time": "2021-08-31T06:00:08.517973",
     "exception": false,
     "start_time": "2021-08-31T06:00:08.447473",
     "status": "completed"
    },
    "tags": []
   },
   "outputs": [],
   "source": [
    "df_pivot = df.pivot_table(index=\"PRODUCT\", columns = \"RECORD_TIME\", values = \"LISTING_COUNT\")"
   ]
  },
  {
   "cell_type": "code",
   "execution_count": 6,
   "id": "union-huntington",
   "metadata": {
    "execution": {
     "iopub.execute_input": "2021-08-31T06:00:08.574740Z",
     "iopub.status.busy": "2021-08-31T06:00:08.572619Z",
     "iopub.status.idle": "2021-08-31T06:00:08.578029Z",
     "shell.execute_reply": "2021-08-31T06:00:08.579378Z"
    },
    "papermill": {
     "duration": 0.040968,
     "end_time": "2021-08-31T06:00:08.579804",
     "exception": false,
     "start_time": "2021-08-31T06:00:08.538836",
     "status": "completed"
    },
    "tags": []
   },
   "outputs": [],
   "source": [
    "df_pivot.columns = [\"stamp_1\", \"stamp_2\"]\n",
    "df_pivot_diff = df_pivot.diff(axis=1)"
   ]
  },
  {
   "cell_type": "code",
   "execution_count": 7,
   "id": "fifth-motion",
   "metadata": {
    "execution": {
     "iopub.execute_input": "2021-08-31T06:00:08.636653Z",
     "iopub.status.busy": "2021-08-31T06:00:08.634004Z",
     "iopub.status.idle": "2021-08-31T06:00:10.097128Z",
     "shell.execute_reply": "2021-08-31T06:00:10.098486Z"
    },
    "papermill": {
     "duration": 1.496871,
     "end_time": "2021-08-31T06:00:10.098918",
     "exception": false,
     "start_time": "2021-08-31T06:00:08.602047",
     "status": "completed"
    },
    "tags": []
   },
   "outputs": [
    {
     "data": {
      "text/plain": [
       "<AxesSubplot:ylabel='PRODUCT'>"
      ]
     },
     "execution_count": 7,
     "metadata": {},
     "output_type": "execute_result"
    },
    {
     "data": {
      "image/png": "[encoded data removed]",
      "text/plain": [
       "<Figure size 432x288 with 1 Axes>"
      ]
     },
     "metadata": {
      "needs_background": "light"
     },
     "output_type": "display_data"
    }
   ],
   "source": [
    "df_pivot_diff.sort_values(\"stamp_2\", ascending = False)[\"stamp_2\"].head(10).plot.barh()"
   ]
  },
  {
   "cell_type": "code",
   "execution_count": null,
   "id": "extra-executive",
   "metadata": {
    "papermill": {
     "duration": 0.022429,
     "end_time": "2021-08-31T06:00:10.145146",
     "exception": false,
     "start_time": "2021-08-31T06:00:10.122717",
     "status": "completed"
    },
    "tags": []
   },
   "outputs": [],
   "source": []
  }
 ],
 "metadata": {
  "kernelspec": {
   "display_name": "Python 3",
   "language": "python",
   "name": "python3"
  },
  "language_info": {
   "codemirror_mode": {
    "name": "ipython",
    "version": 3
   },
   "file_extension": ".py",
   "mimetype": "text/x-python",
   "name": "python",
   "nbconvert_exporter": "python",
   "pygments_lexer": "ipython3",
   "version": "3.9.5"
  },
  "papermill": {
   "default_parameters": {},
   "duration": 6.819603,
   "end_time": "2021-08-31T06:00:11.374395",
   "environment_variables": {},
   "exception": null,
   "input_path": "eBay_Overview.ipynb",
   "output_path": "eBay_Overview.ipynb",
   "parameters": {},
   "start_time": "2021-08-31T06:00:04.554792",
   "version": "2.3.3"
  }
 },
 "nbformat": 4,
 "nbformat_minor": 5
}