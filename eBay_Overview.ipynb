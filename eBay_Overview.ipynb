{
 "cells": [
  {
   "cell_type": "code",
   "execution_count": 1,
   "id": "reverse-picking",
   "metadata": {
    "execution": {
     "iopub.execute_input": "2021-11-07T01:00:07.534051Z",
     "iopub.status.busy": "2021-11-07T01:00:07.530815Z",
     "iopub.status.idle": "2021-11-07T01:00:08.479003Z",
     "shell.execute_reply": "2021-11-07T01:00:08.480559Z"
    },
    "papermill": {
     "duration": 0.996364,
     "end_time": "2021-11-07T01:00:08.481332",
     "exception": false,
     "start_time": "2021-11-07T01:00:07.484968",
     "status": "completed"
    },
    "tags": []
   },
   "outputs": [],
   "source": [
    "import pandas as pd\n",
    "import sqlite3"
   ]
  },
  {
   "cell_type": "code",
   "execution_count": 2,
   "id": "innovative-syndrome",
   "metadata": {
    "execution": {
     "iopub.execute_input": "2021-11-07T01:00:08.606528Z",
     "iopub.status.busy": "2021-11-07T01:00:08.604334Z",
     "iopub.status.idle": "2021-11-07T01:00:09.347326Z",
     "shell.execute_reply": "2021-11-07T01:00:09.349010Z"
    },
    "papermill": {
     "duration": 0.777459,
     "end_time": "2021-11-07T01:00:09.349489",
     "exception": false,
     "start_time": "2021-11-07T01:00:08.572030",
     "status": "completed"
    },
    "tags": []
   },
   "outputs": [],
   "source": [
    "timestamps = pd.read_sql(\"select distinct record_time from EBAY_TOP_BERLIN order by record_time desc limit 2\", sqlite3.connect(\"UsedObjects.db\"))"
   ]
  },
  {
   "cell_type": "code",
   "execution_count": 3,
   "id": "periodic-identification",
   "metadata": {
    "execution": {
     "iopub.execute_input": "2021-11-07T01:00:09.420525Z",
     "iopub.status.busy": "2021-11-07T01:00:09.418261Z",
     "iopub.status.idle": "2021-11-07T01:00:09.440566Z",
     "shell.execute_reply": "2021-11-07T01:00:09.442061Z"
    },
    "papermill": {
     "duration": 0.072762,
     "end_time": "2021-11-07T01:00:09.442535",
     "exception": false,
     "start_time": "2021-11-07T01:00:09.369773",
     "status": "completed"
    },
    "tags": []
   },
   "outputs": [
    {
     "data": {
      "text/html": [
       "<div>\n",
       "<style scoped>\n",
       "    .dataframe tbody tr th:only-of-type {\n",
       "        vertical-align: middle;\n",
       "    }\n",
       "\n",
       "    .dataframe tbody tr th {\n",
       "        vertical-align: top;\n",
       "    }\n",
       "\n",
       "    .dataframe thead th {\n",
       "        text-align: right;\n",
       "    }\n",
       "</style>\n",
       "<table border=\"1\" class=\"dataframe\">\n",
       "  <thead>\n",
       "    <tr style=\"text-align: right;\">\n",
       "      <th></th>\n",
       "      <th>RECORD_TIME</th>\n",
       "    </tr>\n",
       "  </thead>\n",
       "  <tbody>\n",
       "    <tr>\n",
       "      <th>0</th>\n",
       "      <td>2021-11-07 02:00</td>\n",
       "    </tr>\n",
       "    <tr>\n",
       "      <th>1</th>\n",
       "      <td>2021-11-07 01:30</td>\n",
       "    </tr>\n",
       "  </tbody>\n",
       "</table>\n",
       "</div>"
      ],
      "text/plain": [
       "        RECORD_TIME\n",
       "0  2021-11-07 02:00\n",
       "1  2021-11-07 01:30"
      ]
     },
     "execution_count": 3,
     "metadata": {},
     "output_type": "execute_result"
    }
   ],
   "source": [
    "timestamps"
   ]
  },
  {
   "cell_type": "code",
   "execution_count": 4,
   "id": "alternate-victory",
   "metadata": {
    "execution": {
     "iopub.execute_input": "2021-11-07T01:00:09.500132Z",
     "iopub.status.busy": "2021-11-07T01:00:09.497860Z",
     "iopub.status.idle": "2021-11-07T01:00:10.547905Z",
     "shell.execute_reply": "2021-11-07T01:00:10.549463Z"
    },
    "papermill": {
     "duration": 1.085753,
     "end_time": "2021-11-07T01:00:10.549949",
     "exception": false,
     "start_time": "2021-11-07T01:00:09.464196",
     "status": "completed"
    },
    "tags": []
   },
   "outputs": [],
   "source": [
    "df = pd.read_sql(\"select * from EBAY_TOP_BERLIN where record_time in (select distinct record_time from EBAY_TOP_BERLIN order by record_time desc limit 2)\", sqlite3.connect(\"UsedObjects.db\"))"
   ]
  },
  {
   "cell_type": "code",
   "execution_count": 5,
   "id": "popular-active",
   "metadata": {
    "execution": {
     "iopub.execute_input": "2021-11-07T01:00:10.628895Z",
     "iopub.status.busy": "2021-11-07T01:00:10.615492Z",
     "iopub.status.idle": "2021-11-07T01:00:10.648305Z",
     "shell.execute_reply": "2021-11-07T01:00:10.649837Z"
    },
    "papermill": {
     "duration": 0.078337,
     "end_time": "2021-11-07T01:00:10.650328",
     "exception": false,
     "start_time": "2021-11-07T01:00:10.571991",
     "status": "completed"
    },
    "tags": []
   },
   "outputs": [],
   "source": [
    "df_pivot = df.pivot_table(index=\"PRODUCT\", columns = \"RECORD_TIME\", values = \"LISTING_COUNT\")"
   ]
  },
  {
   "cell_type": "code",
   "execution_count": 6,
   "id": "union-huntington",
   "metadata": {
    "execution": {
     "iopub.execute_input": "2021-11-07T01:00:10.712659Z",
     "iopub.status.busy": "2021-11-07T01:00:10.710412Z",
     "iopub.status.idle": "2021-11-07T01:00:10.716234Z",
     "shell.execute_reply": "2021-11-07T01:00:10.718039Z"
    },
    "papermill": {
     "duration": 0.045463,
     "end_time": "2021-11-07T01:00:10.718553",
     "exception": false,
     "start_time": "2021-11-07T01:00:10.673090",
     "status": "completed"
    },
    "tags": []
   },
   "outputs": [],
   "source": [
    "df_pivot.columns = [\"stamp_1\", \"stamp_2\"]\n",
    "df_pivot_diff = df_pivot.diff(axis=1)"
   ]
  },
  {
   "cell_type": "code",
   "execution_count": 7,
   "id": "fifth-motion",
   "metadata": {
    "execution": {
     "iopub.execute_input": "2021-11-07T01:00:10.778540Z",
     "iopub.status.busy": "2021-11-07T01:00:10.775901Z",
     "iopub.status.idle": "2021-11-07T01:00:12.486118Z",
     "shell.execute_reply": "2021-11-07T01:00:12.487591Z"
    },
    "papermill": {
     "duration": 1.748072,
     "end_time": "2021-11-07T01:00:12.488094",
     "exception": false,
     "start_time": "2021-11-07T01:00:10.740022",
     "status": "completed"
    },
    "tags": []
   },
   "outputs": [
    {
     "data": {
      "text/plain": [
       "<AxesSubplot:ylabel='PRODUCT'>"
      ]
     },
     "execution_count": 7,
     "metadata": {},
     "output_type": "execute_result"
    },
    {
     "data": {
      "image/png": "[encoded data removed]",
      "text/plain": [
       "<Figure size 432x288 with 1 Axes>"
      ]
     },
     "metadata": {
      "needs_background": "light"
     },
     "output_type": "display_data"
    }
   ],
   "source": [
    "df_pivot_diff.sort_values(\"stamp_2\", ascending = False)[\"stamp_2\"].head(10).plot.barh()"
   ]
  },
  {
   "cell_type": "code",
   "execution_count": null,
   "id": "extra-executive",
   "metadata": {
    "papermill": {
     "duration": 0.05765,
     "end_time": "2021-11-07T01:00:12.571272",
     "exception": false,
     "start_time": "2021-11-07T01:00:12.513622",
     "status": "completed"
    },
    "tags": []
   },
   "outputs": [],
   "source": []
  }
 ],
 "metadata": {
  "kernelspec": {
   "display_name": "Python 3",
   "language": "python",
   "name": "python3"
  },
  "language_info": {
   "codemirror_mode": {
    "name": "ipython",
    "version": 3
   },
   "file_extension": ".py",
   "mimetype": "text/x-python",
   "name": "python",
   "nbconvert_exporter": "python",
   "pygments_lexer": "ipython3",
   "version": "3.9.5"
  },
  "papermill": {
   "default_parameters": {},
   "duration": 8.742496,
   "end_time": "2021-11-07T01:00:13.420653",
   "environment_variables": {},
   "exception": null,
   "input_path": "eBay_Overview.ipynb",
   "output_path": "eBay_Overview.ipynb",
   "parameters": {},
   "start_time": "2021-11-07T01:00:04.678157",
   "version": "2.3.3"
  }
 },
 "nbformat": 4,
 "nbformat_minor": 5
}