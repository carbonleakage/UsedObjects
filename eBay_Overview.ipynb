{
 "cells": [
  {
   "cell_type": "code",
   "execution_count": 1,
   "id": "reverse-picking",
   "metadata": {
    "execution": {
     "iopub.execute_input": "2021-12-07T02:00:07.915469Z",
     "iopub.status.busy": "2021-12-07T02:00:07.913256Z",
     "iopub.status.idle": "2021-12-07T02:00:08.857415Z",
     "shell.execute_reply": "2021-12-07T02:00:08.855522Z"
    },
    "papermill": {
     "duration": 0.992542,
     "end_time": "2021-12-07T02:00:08.857903",
     "exception": false,
     "start_time": "2021-12-07T02:00:07.865361",
     "status": "completed"
    },
    "tags": []
   },
   "outputs": [],
   "source": [
    "import pandas as pd\n",
    "import sqlite3"
   ]
  },
  {
   "cell_type": "code",
   "execution_count": 2,
   "id": "innovative-syndrome",
   "metadata": {
    "execution": {
     "iopub.execute_input": "2021-12-07T02:00:08.979266Z",
     "iopub.status.busy": "2021-12-07T02:00:08.977021Z",
     "iopub.status.idle": "2021-12-07T02:00:09.991826Z",
     "shell.execute_reply": "2021-12-07T02:00:09.993578Z"
    },
    "papermill": {
     "duration": 1.049283,
     "end_time": "2021-12-07T02:00:09.994437",
     "exception": false,
     "start_time": "2021-12-07T02:00:08.945154",
     "status": "completed"
    },
    "tags": []
   },
   "outputs": [],
   "source": [
    "timestamps = pd.read_sql(\"select distinct record_time from EBAY_TOP_BERLIN order by record_time desc limit 2\", sqlite3.connect(\"UsedObjects.db\"))"
   ]
  },
  {
   "cell_type": "code",
   "execution_count": 3,
   "id": "periodic-identification",
   "metadata": {
    "execution": {
     "iopub.execute_input": "2021-12-07T02:00:10.063503Z",
     "iopub.status.busy": "2021-12-07T02:00:10.061287Z",
     "iopub.status.idle": "2021-12-07T02:00:10.083180Z",
     "shell.execute_reply": "2021-12-07T02:00:10.084502Z"
    },
    "papermill": {
     "duration": 0.069502,
     "end_time": "2021-12-07T02:00:10.085017",
     "exception": false,
     "start_time": "2021-12-07T02:00:10.015515",
     "status": "completed"
    },
    "tags": []
   },
   "outputs": [
    {
     "data": {
      "text/html": [
       "<div>\n",
       "<style scoped>\n",
       "    .dataframe tbody tr th:only-of-type {\n",
       "        vertical-align: middle;\n",
       "    }\n",
       "\n",
       "    .dataframe tbody tr th {\n",
       "        vertical-align: top;\n",
       "    }\n",
       "\n",
       "    .dataframe thead th {\n",
       "        text-align: right;\n",
       "    }\n",
       "</style>\n",
       "<table border=\"1\" class=\"dataframe\">\n",
       "  <thead>\n",
       "    <tr style=\"text-align: right;\">\n",
       "      <th></th>\n",
       "      <th>RECORD_TIME</th>\n",
       "    </tr>\n",
       "  </thead>\n",
       "  <tbody>\n",
       "    <tr>\n",
       "      <th>0</th>\n",
       "      <td>2021-12-07 03:00</td>\n",
       "    </tr>\n",
       "    <tr>\n",
       "      <th>1</th>\n",
       "      <td>2021-12-07 02:30</td>\n",
       "    </tr>\n",
       "  </tbody>\n",
       "</table>\n",
       "</div>"
      ],
      "text/plain": [
       "        RECORD_TIME\n",
       "0  2021-12-07 03:00\n",
       "1  2021-12-07 02:30"
      ]
     },
     "execution_count": 3,
     "metadata": {},
     "output_type": "execute_result"
    }
   ],
   "source": [
    "timestamps"
   ]
  },
  {
   "cell_type": "code",
   "execution_count": 4,
   "id": "alternate-victory",
   "metadata": {
    "execution": {
     "iopub.execute_input": "2021-12-07T02:00:10.139297Z",
     "iopub.status.busy": "2021-12-07T02:00:10.137118Z",
     "iopub.status.idle": "2021-12-07T02:00:11.613142Z",
     "shell.execute_reply": "2021-12-07T02:00:11.614613Z"
    },
    "papermill": {
     "duration": 1.509808,
     "end_time": "2021-12-07T02:00:11.615082",
     "exception": false,
     "start_time": "2021-12-07T02:00:10.105274",
     "status": "completed"
    },
    "tags": []
   },
   "outputs": [],
   "source": [
    "df = pd.read_sql(\"select * from EBAY_TOP_BERLIN where record_time in (select distinct record_time from EBAY_TOP_BERLIN order by record_time desc limit 2)\", sqlite3.connect(\"UsedObjects.db\"))"
   ]
  },
  {
   "cell_type": "code",
   "execution_count": 5,
   "id": "popular-active",
   "metadata": {
    "execution": {
     "iopub.execute_input": "2021-12-07T02:00:11.717286Z",
     "iopub.status.busy": "2021-12-07T02:00:11.694009Z",
     "iopub.status.idle": "2021-12-07T02:00:11.749596Z",
     "shell.execute_reply": "2021-12-07T02:00:11.751936Z"
    },
    "papermill": {
     "duration": 0.116327,
     "end_time": "2021-12-07T02:00:11.752469",
     "exception": false,
     "start_time": "2021-12-07T02:00:11.636142",
     "status": "completed"
    },
    "tags": []
   },
   "outputs": [],
   "source": [
    "df_pivot = df.pivot_table(index=\"PRODUCT\", columns = \"RECORD_TIME\", values = \"LISTING_COUNT\")"
   ]
  },
  {
   "cell_type": "code",
   "execution_count": 6,
   "id": "union-huntington",
   "metadata": {
    "execution": {
     "iopub.execute_input": "2021-12-07T02:00:11.842606Z",
     "iopub.status.busy": "2021-12-07T02:00:11.839533Z",
     "iopub.status.idle": "2021-12-07T02:00:11.847944Z",
     "shell.execute_reply": "2021-12-07T02:00:11.850922Z"
    },
    "papermill": {
     "duration": 0.067701,
     "end_time": "2021-12-07T02:00:11.851746",
     "exception": false,
     "start_time": "2021-12-07T02:00:11.784045",
     "status": "completed"
    },
    "tags": []
   },
   "outputs": [],
   "source": [
    "df_pivot.columns = [\"stamp_1\", \"stamp_2\"]\n",
    "df_pivot_diff = df_pivot.diff(axis=1)"
   ]
  },
  {
   "cell_type": "code",
   "execution_count": 7,
   "id": "fifth-motion",
   "metadata": {
    "execution": {
     "iopub.execute_input": "2021-12-07T02:00:11.941881Z",
     "iopub.status.busy": "2021-12-07T02:00:11.938373Z",
     "iopub.status.idle": "2021-12-07T02:00:13.686639Z",
     "shell.execute_reply": "2021-12-07T02:00:13.687919Z"
    },
    "papermill": {
     "duration": 1.803386,
     "end_time": "2021-12-07T02:00:13.688346",
     "exception": false,
     "start_time": "2021-12-07T02:00:11.884960",
     "status": "completed"
    },
    "tags": []
   },
   "outputs": [
    {
     "data": {
      "text/plain": [
       "<AxesSubplot:ylabel='PRODUCT'>"
      ]
     },
     "execution_count": 7,
     "metadata": {},
     "output_type": "execute_result"
    },
    {
     "data": {
      "image/png": "[encoded data removed]",
      "text/plain": [
       "<Figure size 432x288 with 1 Axes>"
      ]
     },
     "metadata": {
      "needs_background": "light"
     },
     "output_type": "display_data"
    }
   ],
   "source": [
    "df_pivot_diff.sort_values(\"stamp_2\", ascending = False)[\"stamp_2\"].head(10).plot.barh()"
   ]
  },
  {
   "cell_type": "code",
   "execution_count": null,
   "id": "extra-executive",
   "metadata": {
    "papermill": {
     "duration": 0.02217,
     "end_time": "2021-12-07T02:00:13.735239",
     "exception": false,
     "start_time": "2021-12-07T02:00:13.713069",
     "status": "completed"
    },
    "tags": []
   },
   "outputs": [],
   "source": []
  }
 ],
 "metadata": {
  "kernelspec": {
   "display_name": "Python 3",
   "language": "python",
   "name": "python3"
  },
  "language_info": {
   "codemirror_mode": {
    "name": "ipython",
    "version": 3
   },
   "file_extension": ".py",
   "mimetype": "text/x-python",
   "name": "python",
   "nbconvert_exporter": "python",
   "pygments_lexer": "ipython3",
   "version": "3.9.5"
  },
  "papermill": {
   "default_parameters": {},
   "duration": 9.937548,
   "end_time": "2021-12-07T02:00:15.074659",
   "environment_variables": {},
   "exception": null,
   "input_path": "eBay_Overview.ipynb",
   "output_path": "eBay_Overview.ipynb",
   "parameters": {},
   "start_time": "2021-12-07T02:00:05.137111",
   "version": "2.3.3"
  }
 },
 "nbformat": 4,
 "nbformat_minor": 5
}