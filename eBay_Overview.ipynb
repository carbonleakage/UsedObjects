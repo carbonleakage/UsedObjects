{
 "cells": [
  {
   "cell_type": "code",
   "execution_count": 1,
   "id": "reverse-picking",
   "metadata": {
    "execution": {
     "iopub.execute_input": "2021-11-09T06:30:07.367608Z",
     "iopub.status.busy": "2021-11-09T06:30:07.365276Z",
     "iopub.status.idle": "2021-11-09T06:30:08.288193Z",
     "shell.execute_reply": "2021-11-09T06:30:08.289780Z"
    },
    "papermill": {
     "duration": 0.973047,
     "end_time": "2021-11-09T06:30:08.290512",
     "exception": false,
     "start_time": "2021-11-09T06:30:07.317465",
     "status": "completed"
    },
    "tags": []
   },
   "outputs": [],
   "source": [
    "import pandas as pd\n",
    "import sqlite3"
   ]
  },
  {
   "cell_type": "code",
   "execution_count": 2,
   "id": "innovative-syndrome",
   "metadata": {
    "execution": {
     "iopub.execute_input": "2021-11-09T06:30:08.350919Z",
     "iopub.status.busy": "2021-11-09T06:30:08.348486Z",
     "iopub.status.idle": "2021-11-09T06:30:09.116768Z",
     "shell.execute_reply": "2021-11-09T06:30:09.118209Z"
    },
    "papermill": {
     "duration": 0.801892,
     "end_time": "2021-11-09T06:30:09.118731",
     "exception": false,
     "start_time": "2021-11-09T06:30:08.316839",
     "status": "completed"
    },
    "tags": []
   },
   "outputs": [],
   "source": [
    "timestamps = pd.read_sql(\"select distinct record_time from EBAY_TOP_BERLIN order by record_time desc limit 2\", sqlite3.connect(\"UsedObjects.db\"))"
   ]
  },
  {
   "cell_type": "code",
   "execution_count": 3,
   "id": "periodic-identification",
   "metadata": {
    "execution": {
     "iopub.execute_input": "2021-11-09T06:30:09.190260Z",
     "iopub.status.busy": "2021-11-09T06:30:09.187859Z",
     "iopub.status.idle": "2021-11-09T06:30:09.214017Z",
     "shell.execute_reply": "2021-11-09T06:30:09.215696Z"
    },
    "papermill": {
     "duration": 0.07711,
     "end_time": "2021-11-09T06:30:09.216256",
     "exception": false,
     "start_time": "2021-11-09T06:30:09.139146",
     "status": "completed"
    },
    "tags": []
   },
   "outputs": [
    {
     "data": {
      "text/html": [
       "<div>\n",
       "<style scoped>\n",
       "    .dataframe tbody tr th:only-of-type {\n",
       "        vertical-align: middle;\n",
       "    }\n",
       "\n",
       "    .dataframe tbody tr th {\n",
       "        vertical-align: top;\n",
       "    }\n",
       "\n",
       "    .dataframe thead th {\n",
       "        text-align: right;\n",
       "    }\n",
       "</style>\n",
       "<table border=\"1\" class=\"dataframe\">\n",
       "  <thead>\n",
       "    <tr style=\"text-align: right;\">\n",
       "      <th></th>\n",
       "      <th>RECORD_TIME</th>\n",
       "    </tr>\n",
       "  </thead>\n",
       "  <tbody>\n",
       "    <tr>\n",
       "      <th>0</th>\n",
       "      <td>2021-11-09 07:30</td>\n",
       "    </tr>\n",
       "    <tr>\n",
       "      <th>1</th>\n",
       "      <td>2021-11-09 07:00</td>\n",
       "    </tr>\n",
       "  </tbody>\n",
       "</table>\n",
       "</div>"
      ],
      "text/plain": [
       "        RECORD_TIME\n",
       "0  2021-11-09 07:30\n",
       "1  2021-11-09 07:00"
      ]
     },
     "execution_count": 3,
     "metadata": {},
     "output_type": "execute_result"
    }
   ],
   "source": [
    "timestamps"
   ]
  },
  {
   "cell_type": "code",
   "execution_count": 4,
   "id": "alternate-victory",
   "metadata": {
    "execution": {
     "iopub.execute_input": "2021-11-09T06:30:09.274324Z",
     "iopub.status.busy": "2021-11-09T06:30:09.272027Z",
     "iopub.status.idle": "2021-11-09T06:30:10.362101Z",
     "shell.execute_reply": "2021-11-09T06:30:10.363572Z"
    },
    "papermill": {
     "duration": 1.124244,
     "end_time": "2021-11-09T06:30:10.364048",
     "exception": false,
     "start_time": "2021-11-09T06:30:09.239804",
     "status": "completed"
    },
    "tags": []
   },
   "outputs": [],
   "source": [
    "df = pd.read_sql(\"select * from EBAY_TOP_BERLIN where record_time in (select distinct record_time from EBAY_TOP_BERLIN order by record_time desc limit 2)\", sqlite3.connect(\"UsedObjects.db\"))"
   ]
  },
  {
   "cell_type": "code",
   "execution_count": 5,
   "id": "popular-active",
   "metadata": {
    "execution": {
     "iopub.execute_input": "2021-11-09T06:30:10.438460Z",
     "iopub.status.busy": "2021-11-09T06:30:10.428026Z",
     "iopub.status.idle": "2021-11-09T06:30:10.462814Z",
     "shell.execute_reply": "2021-11-09T06:30:10.461358Z"
    },
    "papermill": {
     "duration": 0.077476,
     "end_time": "2021-11-09T06:30:10.463213",
     "exception": false,
     "start_time": "2021-11-09T06:30:10.385737",
     "status": "completed"
    },
    "tags": []
   },
   "outputs": [],
   "source": [
    "df_pivot = df.pivot_table(index=\"PRODUCT\", columns = \"RECORD_TIME\", values = \"LISTING_COUNT\")"
   ]
  },
  {
   "cell_type": "code",
   "execution_count": 6,
   "id": "union-huntington",
   "metadata": {
    "execution": {
     "iopub.execute_input": "2021-11-09T06:30:10.521045Z",
     "iopub.status.busy": "2021-11-09T06:30:10.518739Z",
     "iopub.status.idle": "2021-11-09T06:30:10.525018Z",
     "shell.execute_reply": "2021-11-09T06:30:10.526419Z"
    },
    "papermill": {
     "duration": 0.043783,
     "end_time": "2021-11-09T06:30:10.526948",
     "exception": false,
     "start_time": "2021-11-09T06:30:10.483165",
     "status": "completed"
    },
    "tags": []
   },
   "outputs": [],
   "source": [
    "df_pivot.columns = [\"stamp_1\", \"stamp_2\"]\n",
    "df_pivot_diff = df_pivot.diff(axis=1)"
   ]
  },
  {
   "cell_type": "code",
   "execution_count": 7,
   "id": "fifth-motion",
   "metadata": {
    "execution": {
     "iopub.execute_input": "2021-11-09T06:30:10.592741Z",
     "iopub.status.busy": "2021-11-09T06:30:10.587819Z",
     "iopub.status.idle": "2021-11-09T06:30:12.298697Z",
     "shell.execute_reply": "2021-11-09T06:30:12.301581Z"
    },
    "papermill": {
     "duration": 1.753212,
     "end_time": "2021-11-09T06:30:12.302359",
     "exception": false,
     "start_time": "2021-11-09T06:30:10.549147",
     "status": "completed"
    },
    "tags": []
   },
   "outputs": [
    {
     "data": {
      "text/plain": [
       "<AxesSubplot:ylabel='PRODUCT'>"
      ]
     },
     "execution_count": 7,
     "metadata": {},
     "output_type": "execute_result"
    },
    {
     "data": {
      "image/png": "[encoded data removed]",
      "text/plain": [
       "<Figure size 432x288 with 1 Axes>"
      ]
     },
     "metadata": {
      "needs_background": "light"
     },
     "output_type": "display_data"
    }
   ],
   "source": [
    "df_pivot_diff.sort_values(\"stamp_2\", ascending = False)[\"stamp_2\"].head(10).plot.barh()"
   ]
  },
  {
   "cell_type": "code",
   "execution_count": null,
   "id": "extra-executive",
   "metadata": {
    "papermill": {
     "duration": 0.032636,
     "end_time": "2021-11-09T06:30:12.371426",
     "exception": false,
     "start_time": "2021-11-09T06:30:12.338790",
     "status": "completed"
    },
    "tags": []
   },
   "outputs": [],
   "source": []
  }
 ],
 "metadata": {
  "kernelspec": {
   "display_name": "Python 3",
   "language": "python",
   "name": "python3"
  },
  "language_info": {
   "codemirror_mode": {
    "name": "ipython",
    "version": 3
   },
   "file_extension": ".py",
   "mimetype": "text/x-python",
   "name": "python",
   "nbconvert_exporter": "python",
   "pygments_lexer": "ipython3",
   "version": "3.9.5"
  },
  "papermill": {
   "default_parameters": {},
   "duration": 8.633441,
   "end_time": "2021-11-09T06:30:13.242441",
   "environment_variables": {},
   "exception": null,
   "input_path": "eBay_Overview.ipynb",
   "output_path": "eBay_Overview.ipynb",
   "parameters": {},
   "start_time": "2021-11-09T06:30:04.609000",
   "version": "2.3.3"
  }
 },
 "nbformat": 4,
 "nbformat_minor": 5
}