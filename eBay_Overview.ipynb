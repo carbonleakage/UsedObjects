{
 "cells": [
  {
   "cell_type": "code",
   "execution_count": 1,
   "id": "reverse-picking",
   "metadata": {
    "execution": {
     "iopub.execute_input": "2021-12-03T19:30:07.674775Z",
     "iopub.status.busy": "2021-12-03T19:30:07.672370Z",
     "iopub.status.idle": "2021-12-03T19:30:08.648161Z",
     "shell.execute_reply": "2021-12-03T19:30:08.651210Z"
    },
    "papermill": {
     "duration": 1.027194,
     "end_time": "2021-12-03T19:30:08.652489",
     "exception": false,
     "start_time": "2021-12-03T19:30:07.625295",
     "status": "completed"
    },
    "tags": []
   },
   "outputs": [],
   "source": [
    "import pandas as pd\n",
    "import sqlite3"
   ]
  },
  {
   "cell_type": "code",
   "execution_count": 2,
   "id": "innovative-syndrome",
   "metadata": {
    "execution": {
     "iopub.execute_input": "2021-12-03T19:30:08.769474Z",
     "iopub.status.busy": "2021-12-03T19:30:08.767167Z",
     "iopub.status.idle": "2021-12-03T19:30:09.757903Z",
     "shell.execute_reply": "2021-12-03T19:30:09.760192Z"
    },
    "papermill": {
     "duration": 1.024462,
     "end_time": "2021-12-03T19:30:09.760666",
     "exception": false,
     "start_time": "2021-12-03T19:30:08.736204",
     "status": "completed"
    },
    "tags": []
   },
   "outputs": [],
   "source": [
    "timestamps = pd.read_sql(\"select distinct record_time from EBAY_TOP_BERLIN order by record_time desc limit 2\", sqlite3.connect(\"UsedObjects.db\"))"
   ]
  },
  {
   "cell_type": "code",
   "execution_count": 3,
   "id": "periodic-identification",
   "metadata": {
    "execution": {
     "iopub.execute_input": "2021-12-03T19:30:09.831996Z",
     "iopub.status.busy": "2021-12-03T19:30:09.829696Z",
     "iopub.status.idle": "2021-12-03T19:30:09.866960Z",
     "shell.execute_reply": "2021-12-03T19:30:09.869069Z"
    },
    "papermill": {
     "duration": 0.089571,
     "end_time": "2021-12-03T19:30:09.869544",
     "exception": false,
     "start_time": "2021-12-03T19:30:09.779973",
     "status": "completed"
    },
    "tags": []
   },
   "outputs": [
    {
     "data": {
      "text/html": [
       "<div>\n",
       "<style scoped>\n",
       "    .dataframe tbody tr th:only-of-type {\n",
       "        vertical-align: middle;\n",
       "    }\n",
       "\n",
       "    .dataframe tbody tr th {\n",
       "        vertical-align: top;\n",
       "    }\n",
       "\n",
       "    .dataframe thead th {\n",
       "        text-align: right;\n",
       "    }\n",
       "</style>\n",
       "<table border=\"1\" class=\"dataframe\">\n",
       "  <thead>\n",
       "    <tr style=\"text-align: right;\">\n",
       "      <th></th>\n",
       "      <th>RECORD_TIME</th>\n",
       "    </tr>\n",
       "  </thead>\n",
       "  <tbody>\n",
       "    <tr>\n",
       "      <th>0</th>\n",
       "      <td>2021-12-03 20:30</td>\n",
       "    </tr>\n",
       "    <tr>\n",
       "      <th>1</th>\n",
       "      <td>2021-12-03 20:00</td>\n",
       "    </tr>\n",
       "  </tbody>\n",
       "</table>\n",
       "</div>"
      ],
      "text/plain": [
       "        RECORD_TIME\n",
       "0  2021-12-03 20:30\n",
       "1  2021-12-03 20:00"
      ]
     },
     "execution_count": 3,
     "metadata": {},
     "output_type": "execute_result"
    }
   ],
   "source": [
    "timestamps"
   ]
  },
  {
   "cell_type": "code",
   "execution_count": 4,
   "id": "alternate-victory",
   "metadata": {
    "execution": {
     "iopub.execute_input": "2021-12-03T19:30:09.948755Z",
     "iopub.status.busy": "2021-12-03T19:30:09.946509Z",
     "iopub.status.idle": "2021-12-03T19:30:11.379264Z",
     "shell.execute_reply": "2021-12-03T19:30:11.380779Z"
    },
    "papermill": {
     "duration": 1.466715,
     "end_time": "2021-12-03T19:30:11.381251",
     "exception": false,
     "start_time": "2021-12-03T19:30:09.914536",
     "status": "completed"
    },
    "tags": []
   },
   "outputs": [],
   "source": [
    "df = pd.read_sql(\"select * from EBAY_TOP_BERLIN where record_time in (select distinct record_time from EBAY_TOP_BERLIN order by record_time desc limit 2)\", sqlite3.connect(\"UsedObjects.db\"))"
   ]
  },
  {
   "cell_type": "code",
   "execution_count": 5,
   "id": "popular-active",
   "metadata": {
    "execution": {
     "iopub.execute_input": "2021-12-03T19:30:11.455284Z",
     "iopub.status.busy": "2021-12-03T19:30:11.441395Z",
     "iopub.status.idle": "2021-12-03T19:30:11.474299Z",
     "shell.execute_reply": "2021-12-03T19:30:11.475967Z"
    },
    "papermill": {
     "duration": 0.074932,
     "end_time": "2021-12-03T19:30:11.476507",
     "exception": false,
     "start_time": "2021-12-03T19:30:11.401575",
     "status": "completed"
    },
    "tags": []
   },
   "outputs": [],
   "source": [
    "df_pivot = df.pivot_table(index=\"PRODUCT\", columns = \"RECORD_TIME\", values = \"LISTING_COUNT\")"
   ]
  },
  {
   "cell_type": "code",
   "execution_count": 6,
   "id": "union-huntington",
   "metadata": {
    "execution": {
     "iopub.execute_input": "2021-12-03T19:30:11.537405Z",
     "iopub.status.busy": "2021-12-03T19:30:11.535104Z",
     "iopub.status.idle": "2021-12-03T19:30:11.539940Z",
     "shell.execute_reply": "2021-12-03T19:30:11.541606Z"
    },
    "papermill": {
     "duration": 0.043711,
     "end_time": "2021-12-03T19:30:11.542073",
     "exception": false,
     "start_time": "2021-12-03T19:30:11.498362",
     "status": "completed"
    },
    "tags": []
   },
   "outputs": [],
   "source": [
    "df_pivot.columns = [\"stamp_1\", \"stamp_2\"]\n",
    "df_pivot_diff = df_pivot.diff(axis=1)"
   ]
  },
  {
   "cell_type": "code",
   "execution_count": 7,
   "id": "fifth-motion",
   "metadata": {
    "execution": {
     "iopub.execute_input": "2021-12-03T19:30:11.598331Z",
     "iopub.status.busy": "2021-12-03T19:30:11.595819Z",
     "iopub.status.idle": "2021-12-03T19:30:13.622346Z",
     "shell.execute_reply": "2021-12-03T19:30:13.623537Z"
    },
    "papermill": {
     "duration": 2.061546,
     "end_time": "2021-12-03T19:30:13.623965",
     "exception": false,
     "start_time": "2021-12-03T19:30:11.562419",
     "status": "completed"
    },
    "tags": []
   },
   "outputs": [
    {
     "data": {
      "text/plain": [
       "<AxesSubplot:ylabel='PRODUCT'>"
      ]
     },
     "execution_count": 7,
     "metadata": {},
     "output_type": "execute_result"
    },
    {
     "data": {
      "image/png": "[encoded data removed]",
      "text/plain": [
       "<Figure size 432x288 with 1 Axes>"
      ]
     },
     "metadata": {
      "needs_background": "light"
     },
     "output_type": "display_data"
    }
   ],
   "source": [
    "df_pivot_diff.sort_values(\"stamp_2\", ascending = False)[\"stamp_2\"].head(10).plot.barh()"
   ]
  },
  {
   "cell_type": "code",
   "execution_count": null,
   "id": "extra-executive",
   "metadata": {
    "papermill": {
     "duration": 0.067919,
     "end_time": "2021-12-03T19:30:13.717279",
     "exception": false,
     "start_time": "2021-12-03T19:30:13.649360",
     "status": "completed"
    },
    "tags": []
   },
   "outputs": [],
   "source": []
  }
 ],
 "metadata": {
  "kernelspec": {
   "display_name": "Python 3",
   "language": "python",
   "name": "python3"
  },
  "language_info": {
   "codemirror_mode": {
    "name": "ipython",
    "version": 3
   },
   "file_extension": ".py",
   "mimetype": "text/x-python",
   "name": "python",
   "nbconvert_exporter": "python",
   "pygments_lexer": "ipython3",
   "version": "3.9.5"
  },
  "papermill": {
   "default_parameters": {},
   "duration": 9.466406,
   "end_time": "2021-12-03T19:30:14.364493",
   "environment_variables": {},
   "exception": null,
   "input_path": "eBay_Overview.ipynb",
   "output_path": "eBay_Overview.ipynb",
   "parameters": {},
   "start_time": "2021-12-03T19:30:04.898087",
   "version": "2.3.3"
  }
 },
 "nbformat": 4,
 "nbformat_minor": 5
}