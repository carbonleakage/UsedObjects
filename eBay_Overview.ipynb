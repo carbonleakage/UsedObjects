{
 "cells": [
  {
   "cell_type": "code",
   "execution_count": 1,
   "id": "reverse-picking",
   "metadata": {
    "execution": {
     "iopub.execute_input": "2021-09-04T07:00:07.314208Z",
     "iopub.status.busy": "2021-09-04T07:00:07.312312Z",
     "iopub.status.idle": "2021-09-04T07:00:08.117037Z",
     "shell.execute_reply": "2021-09-04T07:00:08.118347Z"
    },
    "papermill": {
     "duration": 0.85639,
     "end_time": "2021-09-04T07:00:08.119037",
     "exception": false,
     "start_time": "2021-09-04T07:00:07.262647",
     "status": "completed"
    },
    "tags": []
   },
   "outputs": [],
   "source": [
    "import pandas as pd\n",
    "import sqlite3"
   ]
  },
  {
   "cell_type": "code",
   "execution_count": 2,
   "id": "innovative-syndrome",
   "metadata": {
    "execution": {
     "iopub.execute_input": "2021-09-04T07:00:08.169848Z",
     "iopub.status.busy": "2021-09-04T07:00:08.167811Z",
     "iopub.status.idle": "2021-09-04T07:00:08.373820Z",
     "shell.execute_reply": "2021-09-04T07:00:08.375100Z"
    },
    "papermill": {
     "duration": 0.236456,
     "end_time": "2021-09-04T07:00:08.375540",
     "exception": false,
     "start_time": "2021-09-04T07:00:08.139084",
     "status": "completed"
    },
    "tags": []
   },
   "outputs": [],
   "source": [
    "timestamps = pd.read_sql(\"select distinct record_time from EBAY_TOP_BERLIN order by record_time desc limit 2\", sqlite3.connect(\"UsedObjects.db\"))"
   ]
  },
  {
   "cell_type": "code",
   "execution_count": 3,
   "id": "periodic-identification",
   "metadata": {
    "execution": {
     "iopub.execute_input": "2021-09-04T07:00:08.442206Z",
     "iopub.status.busy": "2021-09-04T07:00:08.437178Z",
     "iopub.status.idle": "2021-09-04T07:00:08.459461Z",
     "shell.execute_reply": "2021-09-04T07:00:08.457754Z"
    },
    "papermill": {
     "duration": 0.064556,
     "end_time": "2021-09-04T07:00:08.459857",
     "exception": false,
     "start_time": "2021-09-04T07:00:08.395301",
     "status": "completed"
    },
    "tags": []
   },
   "outputs": [
    {
     "data": {
      "text/html": [
       "<div>\n",
       "<style scoped>\n",
       "    .dataframe tbody tr th:only-of-type {\n",
       "        vertical-align: middle;\n",
       "    }\n",
       "\n",
       "    .dataframe tbody tr th {\n",
       "        vertical-align: top;\n",
       "    }\n",
       "\n",
       "    .dataframe thead th {\n",
       "        text-align: right;\n",
       "    }\n",
       "</style>\n",
       "<table border=\"1\" class=\"dataframe\">\n",
       "  <thead>\n",
       "    <tr style=\"text-align: right;\">\n",
       "      <th></th>\n",
       "      <th>RECORD_TIME</th>\n",
       "    </tr>\n",
       "  </thead>\n",
       "  <tbody>\n",
       "    <tr>\n",
       "      <th>0</th>\n",
       "      <td>2021-09-04 09:00</td>\n",
       "    </tr>\n",
       "    <tr>\n",
       "      <th>1</th>\n",
       "      <td>2021-09-04 08:30</td>\n",
       "    </tr>\n",
       "  </tbody>\n",
       "</table>\n",
       "</div>"
      ],
      "text/plain": [
       "        RECORD_TIME\n",
       "0  2021-09-04 09:00\n",
       "1  2021-09-04 08:30"
      ]
     },
     "execution_count": 3,
     "metadata": {},
     "output_type": "execute_result"
    }
   ],
   "source": [
    "timestamps"
   ]
  },
  {
   "cell_type": "code",
   "execution_count": 4,
   "id": "alternate-victory",
   "metadata": {
    "execution": {
     "iopub.execute_input": "2021-09-04T07:00:08.512828Z",
     "iopub.status.busy": "2021-09-04T07:00:08.510598Z",
     "iopub.status.idle": "2021-09-04T07:00:08.811910Z",
     "shell.execute_reply": "2021-09-04T07:00:08.813185Z"
    },
    "papermill": {
     "duration": 0.331932,
     "end_time": "2021-09-04T07:00:08.813580",
     "exception": false,
     "start_time": "2021-09-04T07:00:08.481648",
     "status": "completed"
    },
    "tags": []
   },
   "outputs": [],
   "source": [
    "df = pd.read_sql(\"select * from EBAY_TOP_BERLIN where record_time in (select distinct record_time from EBAY_TOP_BERLIN order by record_time desc limit 2)\", sqlite3.connect(\"UsedObjects.db\"))"
   ]
  },
  {
   "cell_type": "code",
   "execution_count": 5,
   "id": "popular-active",
   "metadata": {
    "execution": {
     "iopub.execute_input": "2021-09-04T07:00:08.893559Z",
     "iopub.status.busy": "2021-09-04T07:00:08.881417Z",
     "iopub.status.idle": "2021-09-04T07:00:08.908973Z",
     "shell.execute_reply": "2021-09-04T07:00:08.910190Z"
    },
    "papermill": {
     "duration": 0.070901,
     "end_time": "2021-09-04T07:00:08.910579",
     "exception": false,
     "start_time": "2021-09-04T07:00:08.839678",
     "status": "completed"
    },
    "tags": []
   },
   "outputs": [],
   "source": [
    "df_pivot = df.pivot_table(index=\"PRODUCT\", columns = \"RECORD_TIME\", values = \"LISTING_COUNT\")"
   ]
  },
  {
   "cell_type": "code",
   "execution_count": 6,
   "id": "union-huntington",
   "metadata": {
    "execution": {
     "iopub.execute_input": "2021-09-04T07:00:08.970163Z",
     "iopub.status.busy": "2021-09-04T07:00:08.967743Z",
     "iopub.status.idle": "2021-09-04T07:00:08.974809Z",
     "shell.execute_reply": "2021-09-04T07:00:08.973503Z"
    },
    "papermill": {
     "duration": 0.042187,
     "end_time": "2021-09-04T07:00:08.975225",
     "exception": false,
     "start_time": "2021-09-04T07:00:08.933038",
     "status": "completed"
    },
    "tags": []
   },
   "outputs": [],
   "source": [
    "df_pivot.columns = [\"stamp_1\", \"stamp_2\"]\n",
    "df_pivot_diff = df_pivot.diff(axis=1)"
   ]
  },
  {
   "cell_type": "code",
   "execution_count": 7,
   "id": "fifth-motion",
   "metadata": {
    "execution": {
     "iopub.execute_input": "2021-09-04T07:00:09.029912Z",
     "iopub.status.busy": "2021-09-04T07:00:09.027529Z",
     "iopub.status.idle": "2021-09-04T07:00:10.538212Z",
     "shell.execute_reply": "2021-09-04T07:00:10.539653Z"
    },
    "papermill": {
     "duration": 1.544696,
     "end_time": "2021-09-04T07:00:10.540102",
     "exception": false,
     "start_time": "2021-09-04T07:00:08.995406",
     "status": "completed"
    },
    "tags": []
   },
   "outputs": [
    {
     "data": {
      "text/plain": [
       "<AxesSubplot:ylabel='PRODUCT'>"
      ]
     },
     "execution_count": 7,
     "metadata": {},
     "output_type": "execute_result"
    },
    {
     "data": {
      "image/png": "[encoded data removed]",
      "text/plain": [
       "<Figure size 432x288 with 1 Axes>"
      ]
     },
     "metadata": {
      "needs_background": "light"
     },
     "output_type": "display_data"
    }
   ],
   "source": [
    "df_pivot_diff.sort_values(\"stamp_2\", ascending = False)[\"stamp_2\"].head(10).plot.barh()"
   ]
  },
  {
   "cell_type": "code",
   "execution_count": null,
   "id": "extra-executive",
   "metadata": {
    "papermill": {
     "duration": 0.022351,
     "end_time": "2021-09-04T07:00:10.586358",
     "exception": false,
     "start_time": "2021-09-04T07:00:10.564007",
     "status": "completed"
    },
    "tags": []
   },
   "outputs": [],
   "source": []
  }
 ],
 "metadata": {
  "kernelspec": {
   "display_name": "Python 3",
   "language": "python",
   "name": "python3"
  },
  "language_info": {
   "codemirror_mode": {
    "name": "ipython",
    "version": 3
   },
   "file_extension": ".py",
   "mimetype": "text/x-python",
   "name": "python",
   "nbconvert_exporter": "python",
   "pygments_lexer": "ipython3",
   "version": "3.9.5"
  },
  "papermill": {
   "default_parameters": {},
   "duration": 6.367161,
   "end_time": "2021-09-04T07:00:11.226608",
   "environment_variables": {},
   "exception": null,
   "input_path": "eBay_Overview.ipynb",
   "output_path": "eBay_Overview.ipynb",
   "parameters": {},
   "start_time": "2021-09-04T07:00:04.859447",
   "version": "2.3.3"
  }
 },
 "nbformat": 4,
 "nbformat_minor": 5
}