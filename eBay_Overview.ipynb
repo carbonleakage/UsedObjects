{
 "cells": [
  {
   "cell_type": "code",
   "execution_count": 1,
   "id": "reverse-picking",
   "metadata": {
    "execution": {
     "iopub.execute_input": "2021-11-18T03:00:07.082430Z",
     "iopub.status.busy": "2021-11-18T03:00:07.080094Z",
     "iopub.status.idle": "2021-11-18T03:00:08.019122Z",
     "shell.execute_reply": "2021-11-18T03:00:08.016626Z"
    },
    "papermill": {
     "duration": 0.990973,
     "end_time": "2021-11-18T03:00:08.019620",
     "exception": false,
     "start_time": "2021-11-18T03:00:07.028647",
     "status": "completed"
    },
    "tags": []
   },
   "outputs": [],
   "source": [
    "import pandas as pd\n",
    "import sqlite3"
   ]
  },
  {
   "cell_type": "code",
   "execution_count": 2,
   "id": "innovative-syndrome",
   "metadata": {
    "execution": {
     "iopub.execute_input": "2021-11-18T03:00:08.078179Z",
     "iopub.status.busy": "2021-11-18T03:00:08.075802Z",
     "iopub.status.idle": "2021-11-18T03:00:08.929908Z",
     "shell.execute_reply": "2021-11-18T03:00:08.932027Z"
    },
    "papermill": {
     "duration": 0.890304,
     "end_time": "2021-11-18T03:00:08.932524",
     "exception": false,
     "start_time": "2021-11-18T03:00:08.042220",
     "status": "completed"
    },
    "tags": []
   },
   "outputs": [],
   "source": [
    "timestamps = pd.read_sql(\"select distinct record_time from EBAY_TOP_BERLIN order by record_time desc limit 2\", sqlite3.connect(\"UsedObjects.db\"))"
   ]
  },
  {
   "cell_type": "code",
   "execution_count": 3,
   "id": "periodic-identification",
   "metadata": {
    "execution": {
     "iopub.execute_input": "2021-11-18T03:00:09.004773Z",
     "iopub.status.busy": "2021-11-18T03:00:09.002409Z",
     "iopub.status.idle": "2021-11-18T03:00:09.024284Z",
     "shell.execute_reply": "2021-11-18T03:00:09.025948Z"
    },
    "papermill": {
     "duration": 0.073783,
     "end_time": "2021-11-18T03:00:09.026457",
     "exception": false,
     "start_time": "2021-11-18T03:00:08.952674",
     "status": "completed"
    },
    "tags": []
   },
   "outputs": [
    {
     "data": {
      "text/html": [
       "<div>\n",
       "<style scoped>\n",
       "    .dataframe tbody tr th:only-of-type {\n",
       "        vertical-align: middle;\n",
       "    }\n",
       "\n",
       "    .dataframe tbody tr th {\n",
       "        vertical-align: top;\n",
       "    }\n",
       "\n",
       "    .dataframe thead th {\n",
       "        text-align: right;\n",
       "    }\n",
       "</style>\n",
       "<table border=\"1\" class=\"dataframe\">\n",
       "  <thead>\n",
       "    <tr style=\"text-align: right;\">\n",
       "      <th></th>\n",
       "      <th>RECORD_TIME</th>\n",
       "    </tr>\n",
       "  </thead>\n",
       "  <tbody>\n",
       "    <tr>\n",
       "      <th>0</th>\n",
       "      <td>2021-11-18 04:00</td>\n",
       "    </tr>\n",
       "    <tr>\n",
       "      <th>1</th>\n",
       "      <td>2021-11-18 03:30</td>\n",
       "    </tr>\n",
       "  </tbody>\n",
       "</table>\n",
       "</div>"
      ],
      "text/plain": [
       "        RECORD_TIME\n",
       "0  2021-11-18 04:00\n",
       "1  2021-11-18 03:30"
      ]
     },
     "execution_count": 3,
     "metadata": {},
     "output_type": "execute_result"
    }
   ],
   "source": [
    "timestamps"
   ]
  },
  {
   "cell_type": "code",
   "execution_count": 4,
   "id": "alternate-victory",
   "metadata": {
    "execution": {
     "iopub.execute_input": "2021-11-18T03:00:09.082072Z",
     "iopub.status.busy": "2021-11-18T03:00:09.079665Z",
     "iopub.status.idle": "2021-11-18T03:00:10.301831Z",
     "shell.execute_reply": "2021-11-18T03:00:10.303115Z"
    },
    "papermill": {
     "duration": 1.25588,
     "end_time": "2021-11-18T03:00:10.303514",
     "exception": false,
     "start_time": "2021-11-18T03:00:09.047634",
     "status": "completed"
    },
    "tags": []
   },
   "outputs": [],
   "source": [
    "df = pd.read_sql(\"select * from EBAY_TOP_BERLIN where record_time in (select distinct record_time from EBAY_TOP_BERLIN order by record_time desc limit 2)\", sqlite3.connect(\"UsedObjects.db\"))"
   ]
  },
  {
   "cell_type": "code",
   "execution_count": 5,
   "id": "popular-active",
   "metadata": {
    "execution": {
     "iopub.execute_input": "2021-11-18T03:00:10.364264Z",
     "iopub.status.busy": "2021-11-18T03:00:10.362115Z",
     "iopub.status.idle": "2021-11-18T03:00:10.389564Z",
     "shell.execute_reply": "2021-11-18T03:00:10.390805Z"
    },
    "papermill": {
     "duration": 0.067325,
     "end_time": "2021-11-18T03:00:10.391202",
     "exception": false,
     "start_time": "2021-11-18T03:00:10.323877",
     "status": "completed"
    },
    "tags": []
   },
   "outputs": [],
   "source": [
    "df_pivot = df.pivot_table(index=\"PRODUCT\", columns = \"RECORD_TIME\", values = \"LISTING_COUNT\")"
   ]
  },
  {
   "cell_type": "code",
   "execution_count": 6,
   "id": "union-huntington",
   "metadata": {
    "execution": {
     "iopub.execute_input": "2021-11-18T03:00:10.451581Z",
     "iopub.status.busy": "2021-11-18T03:00:10.449386Z",
     "iopub.status.idle": "2021-11-18T03:00:10.455315Z",
     "shell.execute_reply": "2021-11-18T03:00:10.456664Z"
    },
    "papermill": {
     "duration": 0.043673,
     "end_time": "2021-11-18T03:00:10.457210",
     "exception": false,
     "start_time": "2021-11-18T03:00:10.413537",
     "status": "completed"
    },
    "tags": []
   },
   "outputs": [],
   "source": [
    "df_pivot.columns = [\"stamp_1\", \"stamp_2\"]\n",
    "df_pivot_diff = df_pivot.diff(axis=1)"
   ]
  },
  {
   "cell_type": "code",
   "execution_count": 7,
   "id": "fifth-motion",
   "metadata": {
    "execution": {
     "iopub.execute_input": "2021-11-18T03:00:10.514557Z",
     "iopub.status.busy": "2021-11-18T03:00:10.512537Z",
     "iopub.status.idle": "2021-11-18T03:00:12.261320Z",
     "shell.execute_reply": "2021-11-18T03:00:12.263033Z"
    },
    "papermill": {
     "duration": 1.784962,
     "end_time": "2021-11-18T03:00:12.263561",
     "exception": false,
     "start_time": "2021-11-18T03:00:10.478599",
     "status": "completed"
    },
    "tags": []
   },
   "outputs": [
    {
     "data": {
      "text/plain": [
       "<AxesSubplot:ylabel='PRODUCT'>"
      ]
     },
     "execution_count": 7,
     "metadata": {},
     "output_type": "execute_result"
    },
    {
     "data": {
      "image/png": "[encoded data removed]",
      "text/plain": [
       "<Figure size 432x288 with 1 Axes>"
      ]
     },
     "metadata": {
      "needs_background": "light"
     },
     "output_type": "display_data"
    }
   ],
   "source": [
    "df_pivot_diff.sort_values(\"stamp_2\", ascending = False)[\"stamp_2\"].head(10).plot.barh()"
   ]
  },
  {
   "cell_type": "code",
   "execution_count": null,
   "id": "extra-executive",
   "metadata": {
    "papermill": {
     "duration": 0.02378,
     "end_time": "2021-11-18T03:00:12.313926",
     "exception": false,
     "start_time": "2021-11-18T03:00:12.290146",
     "status": "completed"
    },
    "tags": []
   },
   "outputs": [],
   "source": []
  }
 ],
 "metadata": {
  "kernelspec": {
   "display_name": "Python 3",
   "language": "python",
   "name": "python3"
  },
  "language_info": {
   "codemirror_mode": {
    "name": "ipython",
    "version": 3
   },
   "file_extension": ".py",
   "mimetype": "text/x-python",
   "name": "python",
   "nbconvert_exporter": "python",
   "pygments_lexer": "ipython3",
   "version": "3.9.5"
  },
  "papermill": {
   "default_parameters": {},
   "duration": 8.782223,
   "end_time": "2021-11-18T03:00:13.059471",
   "environment_variables": {},
   "exception": null,
   "input_path": "eBay_Overview.ipynb",
   "output_path": "eBay_Overview.ipynb",
   "parameters": {},
   "start_time": "2021-11-18T03:00:04.277248",
   "version": "2.3.3"
  }
 },
 "nbformat": 4,
 "nbformat_minor": 5
}