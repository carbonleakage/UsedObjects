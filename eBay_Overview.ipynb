{
 "cells": [
  {
   "cell_type": "code",
   "execution_count": 1,
   "id": "reverse-picking",
   "metadata": {
    "execution": {
     "iopub.execute_input": "2021-08-21T13:30:07.148083Z",
     "iopub.status.busy": "2021-08-21T13:30:07.146127Z",
     "iopub.status.idle": "2021-08-21T13:30:07.953041Z",
     "shell.execute_reply": "2021-08-21T13:30:07.954349Z"
    },
    "papermill": {
     "duration": 0.860723,
     "end_time": "2021-08-21T13:30:07.954979",
     "exception": false,
     "start_time": "2021-08-21T13:30:07.094256",
     "status": "completed"
    },
    "tags": []
   },
   "outputs": [],
   "source": [
    "import pandas as pd\n",
    "import sqlite3"
   ]
  },
  {
   "cell_type": "code",
   "execution_count": 2,
   "id": "innovative-syndrome",
   "metadata": {
    "execution": {
     "iopub.execute_input": "2021-08-21T13:30:08.007423Z",
     "iopub.status.busy": "2021-08-21T13:30:08.005272Z",
     "iopub.status.idle": "2021-08-21T13:30:08.102108Z",
     "shell.execute_reply": "2021-08-21T13:30:08.103336Z"
    },
    "papermill": {
     "duration": 0.126369,
     "end_time": "2021-08-21T13:30:08.103732",
     "exception": false,
     "start_time": "2021-08-21T13:30:07.977363",
     "status": "completed"
    },
    "tags": []
   },
   "outputs": [],
   "source": [
    "timestamps = pd.read_sql(\"select distinct record_time from EBAY_TOP_BERLIN order by record_time desc limit 2\", sqlite3.connect(\"UsedObjects.db\"))"
   ]
  },
  {
   "cell_type": "code",
   "execution_count": 3,
   "id": "periodic-identification",
   "metadata": {
    "execution": {
     "iopub.execute_input": "2021-08-21T13:30:08.169282Z",
     "iopub.status.busy": "2021-08-21T13:30:08.167286Z",
     "iopub.status.idle": "2021-08-21T13:30:08.187207Z",
     "shell.execute_reply": "2021-08-21T13:30:08.188491Z"
    },
    "papermill": {
     "duration": 0.064513,
     "end_time": "2021-08-21T13:30:08.188903",
     "exception": false,
     "start_time": "2021-08-21T13:30:08.124390",
     "status": "completed"
    },
    "tags": []
   },
   "outputs": [
    {
     "data": {
      "text/html": [
       "<div>\n",
       "<style scoped>\n",
       "    .dataframe tbody tr th:only-of-type {\n",
       "        vertical-align: middle;\n",
       "    }\n",
       "\n",
       "    .dataframe tbody tr th {\n",
       "        vertical-align: top;\n",
       "    }\n",
       "\n",
       "    .dataframe thead th {\n",
       "        text-align: right;\n",
       "    }\n",
       "</style>\n",
       "<table border=\"1\" class=\"dataframe\">\n",
       "  <thead>\n",
       "    <tr style=\"text-align: right;\">\n",
       "      <th></th>\n",
       "      <th>RECORD_TIME</th>\n",
       "    </tr>\n",
       "  </thead>\n",
       "  <tbody>\n",
       "    <tr>\n",
       "      <th>0</th>\n",
       "      <td>2021-08-21 15:30</td>\n",
       "    </tr>\n",
       "    <tr>\n",
       "      <th>1</th>\n",
       "      <td>2021-08-21 15:00</td>\n",
       "    </tr>\n",
       "  </tbody>\n",
       "</table>\n",
       "</div>"
      ],
      "text/plain": [
       "        RECORD_TIME\n",
       "0  2021-08-21 15:30\n",
       "1  2021-08-21 15:00"
      ]
     },
     "execution_count": 3,
     "metadata": {},
     "output_type": "execute_result"
    }
   ],
   "source": [
    "timestamps"
   ]
  },
  {
   "cell_type": "code",
   "execution_count": 4,
   "id": "alternate-victory",
   "metadata": {
    "execution": {
     "iopub.execute_input": "2021-08-21T13:30:08.239643Z",
     "iopub.status.busy": "2021-08-21T13:30:08.237741Z",
     "iopub.status.idle": "2021-08-21T13:30:08.382744Z",
     "shell.execute_reply": "2021-08-21T13:30:08.383950Z"
    },
    "papermill": {
     "duration": 0.174917,
     "end_time": "2021-08-21T13:30:08.384346",
     "exception": false,
     "start_time": "2021-08-21T13:30:08.209429",
     "status": "completed"
    },
    "tags": []
   },
   "outputs": [],
   "source": [
    "df = pd.read_sql(\"select * from EBAY_TOP_BERLIN where record_time in (select distinct record_time from EBAY_TOP_BERLIN order by record_time desc limit 2)\", sqlite3.connect(\"UsedObjects.db\"))"
   ]
  },
  {
   "cell_type": "code",
   "execution_count": 5,
   "id": "popular-active",
   "metadata": {
    "execution": {
     "iopub.execute_input": "2021-08-21T13:30:08.455772Z",
     "iopub.status.busy": "2021-08-21T13:30:08.443146Z",
     "iopub.status.idle": "2021-08-21T13:30:08.471166Z",
     "shell.execute_reply": "2021-08-21T13:30:08.472379Z"
    },
    "papermill": {
     "duration": 0.067989,
     "end_time": "2021-08-21T13:30:08.472776",
     "exception": false,
     "start_time": "2021-08-21T13:30:08.404787",
     "status": "completed"
    },
    "tags": []
   },
   "outputs": [],
   "source": [
    "df_pivot = df.pivot_table(index=\"PRODUCT\", columns = \"RECORD_TIME\", values = \"LISTING_COUNT\")"
   ]
  },
  {
   "cell_type": "code",
   "execution_count": 6,
   "id": "union-huntington",
   "metadata": {
    "execution": {
     "iopub.execute_input": "2021-08-21T13:30:08.531042Z",
     "iopub.status.busy": "2021-08-21T13:30:08.528864Z",
     "iopub.status.idle": "2021-08-21T13:30:08.534647Z",
     "shell.execute_reply": "2021-08-21T13:30:08.536187Z"
    },
    "papermill": {
     "duration": 0.042313,
     "end_time": "2021-08-21T13:30:08.536665",
     "exception": false,
     "start_time": "2021-08-21T13:30:08.494352",
     "status": "completed"
    },
    "tags": []
   },
   "outputs": [],
   "source": [
    "df_pivot.columns = [\"stamp_1\", \"stamp_2\"]\n",
    "df_pivot_diff = df_pivot.diff(axis=1)"
   ]
  },
  {
   "cell_type": "code",
   "execution_count": 7,
   "id": "fifth-motion",
   "metadata": {
    "execution": {
     "iopub.execute_input": "2021-08-21T13:30:08.596480Z",
     "iopub.status.busy": "2021-08-21T13:30:08.594241Z",
     "iopub.status.idle": "2021-08-21T13:30:10.078745Z",
     "shell.execute_reply": "2021-08-21T13:30:10.079933Z"
    },
    "papermill": {
     "duration": 1.522145,
     "end_time": "2021-08-21T13:30:10.080364",
     "exception": false,
     "start_time": "2021-08-21T13:30:08.558219",
     "status": "completed"
    },
    "tags": []
   },
   "outputs": [
    {
     "data": {
      "text/plain": [
       "<AxesSubplot:ylabel='PRODUCT'>"
      ]
     },
     "execution_count": 7,
     "metadata": {},
     "output_type": "execute_result"
    },
    {
     "data": {
      "image/png": "[encoded data removed]",
      "text/plain": [
       "<Figure size 432x288 with 1 Axes>"
      ]
     },
     "metadata": {
      "needs_background": "light"
     },
     "output_type": "display_data"
    }
   ],
   "source": [
    "df_pivot_diff.sort_values(\"stamp_2\", ascending = False)[\"stamp_2\"].head(10).plot.barh()"
   ]
  },
  {
   "cell_type": "code",
   "execution_count": null,
   "id": "extra-executive",
   "metadata": {
    "papermill": {
     "duration": 0.022293,
     "end_time": "2021-08-21T13:30:10.126353",
     "exception": false,
     "start_time": "2021-08-21T13:30:10.104060",
     "status": "completed"
    },
    "tags": []
   },
   "outputs": [],
   "source": []
  }
 ],
 "metadata": {
  "kernelspec": {
   "display_name": "Python 3",
   "language": "python",
   "name": "python3"
  },
  "language_info": {
   "codemirror_mode": {
    "name": "ipython",
    "version": 3
   },
   "file_extension": ".py",
   "mimetype": "text/x-python",
   "name": "python",
   "nbconvert_exporter": "python",
   "pygments_lexer": "ipython3",
   "version": "3.9.5"
  },
  "papermill": {
   "default_parameters": {},
   "duration": 6.830861,
   "end_time": "2021-08-21T13:30:11.517419",
   "environment_variables": {},
   "exception": null,
   "input_path": "eBay_Overview.ipynb",
   "output_path": "eBay_Overview.ipynb",
   "parameters": {},
   "start_time": "2021-08-21T13:30:04.686558",
   "version": "2.3.3"
  }
 },
 "nbformat": 4,
 "nbformat_minor": 5
}