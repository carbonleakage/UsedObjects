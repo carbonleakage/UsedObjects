{
 "cells": [
  {
   "cell_type": "code",
   "execution_count": 1,
   "id": "reverse-picking",
   "metadata": {
    "execution": {
     "iopub.execute_input": "2021-08-14T18:00:06.756474Z",
     "iopub.status.busy": "2021-08-14T18:00:06.754500Z",
     "iopub.status.idle": "2021-08-14T18:00:07.565228Z",
     "shell.execute_reply": "2021-08-14T18:00:07.566681Z"
    },
    "papermill": {
     "duration": 0.863203,
     "end_time": "2021-08-14T18:00:07.567334",
     "exception": false,
     "start_time": "2021-08-14T18:00:06.704131",
     "status": "completed"
    },
    "tags": []
   },
   "outputs": [],
   "source": [
    "import pandas as pd\n",
    "import sqlite3"
   ]
  },
  {
   "cell_type": "code",
   "execution_count": 2,
   "id": "innovative-syndrome",
   "metadata": {
    "execution": {
     "iopub.execute_input": "2021-08-14T18:00:07.619926Z",
     "iopub.status.busy": "2021-08-14T18:00:07.617524Z",
     "iopub.status.idle": "2021-08-14T18:00:07.667490Z",
     "shell.execute_reply": "2021-08-14T18:00:07.668671Z"
    },
    "papermill": {
     "duration": 0.080108,
     "end_time": "2021-08-14T18:00:07.669071",
     "exception": false,
     "start_time": "2021-08-14T18:00:07.588963",
     "status": "completed"
    },
    "tags": []
   },
   "outputs": [],
   "source": [
    "timestamps = pd.read_sql(\"select distinct record_time from EBAY_TOP_BERLIN order by record_time desc limit 2\", sqlite3.connect(\"UsedObjects.db\"))"
   ]
  },
  {
   "cell_type": "code",
   "execution_count": 3,
   "id": "periodic-identification",
   "metadata": {
    "execution": {
     "iopub.execute_input": "2021-08-14T18:00:07.734415Z",
     "iopub.status.busy": "2021-08-14T18:00:07.732272Z",
     "iopub.status.idle": "2021-08-14T18:00:07.752858Z",
     "shell.execute_reply": "2021-08-14T18:00:07.754190Z"
    },
    "papermill": {
     "duration": 0.06456,
     "end_time": "2021-08-14T18:00:07.754647",
     "exception": false,
     "start_time": "2021-08-14T18:00:07.690087",
     "status": "completed"
    },
    "tags": []
   },
   "outputs": [
    {
     "data": {
      "text/html": [
       "<div>\n",
       "<style scoped>\n",
       "    .dataframe tbody tr th:only-of-type {\n",
       "        vertical-align: middle;\n",
       "    }\n",
       "\n",
       "    .dataframe tbody tr th {\n",
       "        vertical-align: top;\n",
       "    }\n",
       "\n",
       "    .dataframe thead th {\n",
       "        text-align: right;\n",
       "    }\n",
       "</style>\n",
       "<table border=\"1\" class=\"dataframe\">\n",
       "  <thead>\n",
       "    <tr style=\"text-align: right;\">\n",
       "      <th></th>\n",
       "      <th>RECORD_TIME</th>\n",
       "    </tr>\n",
       "  </thead>\n",
       "  <tbody>\n",
       "    <tr>\n",
       "      <th>0</th>\n",
       "      <td>2021-08-14 20:00</td>\n",
       "    </tr>\n",
       "    <tr>\n",
       "      <th>1</th>\n",
       "      <td>2021-08-14 19:30</td>\n",
       "    </tr>\n",
       "  </tbody>\n",
       "</table>\n",
       "</div>"
      ],
      "text/plain": [
       "        RECORD_TIME\n",
       "0  2021-08-14 20:00\n",
       "1  2021-08-14 19:30"
      ]
     },
     "execution_count": 3,
     "metadata": {},
     "output_type": "execute_result"
    }
   ],
   "source": [
    "timestamps"
   ]
  },
  {
   "cell_type": "code",
   "execution_count": 4,
   "id": "alternate-victory",
   "metadata": {
    "execution": {
     "iopub.execute_input": "2021-08-14T18:00:07.807552Z",
     "iopub.status.busy": "2021-08-14T18:00:07.805111Z",
     "iopub.status.idle": "2021-08-14T18:00:07.879308Z",
     "shell.execute_reply": "2021-08-14T18:00:07.880523Z"
    },
    "papermill": {
     "duration": 0.104701,
     "end_time": "2021-08-14T18:00:07.880924",
     "exception": false,
     "start_time": "2021-08-14T18:00:07.776223",
     "status": "completed"
    },
    "tags": []
   },
   "outputs": [],
   "source": [
    "df = pd.read_sql(\"select * from EBAY_TOP_BERLIN where record_time in (select distinct record_time from EBAY_TOP_BERLIN order by record_time desc limit 2)\", sqlite3.connect(\"UsedObjects.db\"))"
   ]
  },
  {
   "cell_type": "code",
   "execution_count": 5,
   "id": "popular-active",
   "metadata": {
    "execution": {
     "iopub.execute_input": "2021-08-14T18:00:07.952426Z",
     "iopub.status.busy": "2021-08-14T18:00:07.945123Z",
     "iopub.status.idle": "2021-08-14T18:00:07.968089Z",
     "shell.execute_reply": "2021-08-14T18:00:07.969363Z"
    },
    "papermill": {
     "duration": 0.067842,
     "end_time": "2021-08-14T18:00:07.969780",
     "exception": false,
     "start_time": "2021-08-14T18:00:07.901938",
     "status": "completed"
    },
    "tags": []
   },
   "outputs": [],
   "source": [
    "df_pivot = df.pivot_table(index=\"PRODUCT\", columns = \"RECORD_TIME\", values = \"LISTING_COUNT\")"
   ]
  },
  {
   "cell_type": "code",
   "execution_count": 6,
   "id": "union-huntington",
   "metadata": {
    "execution": {
     "iopub.execute_input": "2021-08-14T18:00:08.026214Z",
     "iopub.status.busy": "2021-08-14T18:00:08.024054Z",
     "iopub.status.idle": "2021-08-14T18:00:08.029366Z",
     "shell.execute_reply": "2021-08-14T18:00:08.030724Z"
    },
    "papermill": {
     "duration": 0.04112,
     "end_time": "2021-08-14T18:00:08.031159",
     "exception": false,
     "start_time": "2021-08-14T18:00:07.990039",
     "status": "completed"
    },
    "tags": []
   },
   "outputs": [],
   "source": [
    "df_pivot.columns = [\"stamp_1\", \"stamp_2\"]\n",
    "df_pivot_diff = df_pivot.diff(axis=1)"
   ]
  },
  {
   "cell_type": "code",
   "execution_count": 7,
   "id": "fifth-motion",
   "metadata": {
    "execution": {
     "iopub.execute_input": "2021-08-14T18:00:08.086805Z",
     "iopub.status.busy": "2021-08-14T18:00:08.084189Z",
     "iopub.status.idle": "2021-08-14T18:00:09.568063Z",
     "shell.execute_reply": "2021-08-14T18:00:09.566583Z"
    },
    "papermill": {
     "duration": 1.515877,
     "end_time": "2021-08-14T18:00:09.568436",
     "exception": false,
     "start_time": "2021-08-14T18:00:08.052559",
     "status": "completed"
    },
    "tags": []
   },
   "outputs": [
    {
     "data": {
      "text/plain": [
       "<AxesSubplot:ylabel='PRODUCT'>"
      ]
     },
     "execution_count": 7,
     "metadata": {},
     "output_type": "execute_result"
    },
    {
     "data": {
      "image/png": "[encoded data removed]",
      "text/plain": [
       "<Figure size 432x288 with 1 Axes>"
      ]
     },
     "metadata": {
      "needs_background": "light"
     },
     "output_type": "display_data"
    }
   ],
   "source": [
    "df_pivot_diff.sort_values(\"stamp_2\", ascending = False)[\"stamp_2\"].head(10).plot.barh()"
   ]
  },
  {
   "cell_type": "code",
   "execution_count": null,
   "id": "extra-executive",
   "metadata": {
    "papermill": {
     "duration": 0.022211,
     "end_time": "2021-08-14T18:00:09.615200",
     "exception": false,
     "start_time": "2021-08-14T18:00:09.592989",
     "status": "completed"
    },
    "tags": []
   },
   "outputs": [],
   "source": []
  }
 ],
 "metadata": {
  "kernelspec": {
   "display_name": "Python 3",
   "language": "python",
   "name": "python3"
  },
  "language_info": {
   "codemirror_mode": {
    "name": "ipython",
    "version": 3
   },
   "file_extension": ".py",
   "mimetype": "text/x-python",
   "name": "python",
   "nbconvert_exporter": "python",
   "pygments_lexer": "ipython3",
   "version": "3.9.5"
  },
  "papermill": {
   "default_parameters": {},
   "duration": 6.832016,
   "end_time": "2021-08-14T18:00:11.111254",
   "environment_variables": {},
   "exception": null,
   "input_path": "eBay_Overview.ipynb",
   "output_path": "eBay_Overview.ipynb",
   "parameters": {},
   "start_time": "2021-08-14T18:00:04.279238",
   "version": "2.3.3"
  }
 },
 "nbformat": 4,
 "nbformat_minor": 5
}