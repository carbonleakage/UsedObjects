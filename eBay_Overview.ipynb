{
 "cells": [
  {
   "cell_type": "code",
   "execution_count": 1,
   "id": "reverse-picking",
   "metadata": {
    "execution": {
     "iopub.execute_input": "2021-09-18T14:30:07.391305Z",
     "iopub.status.busy": "2021-09-18T14:30:07.389289Z",
     "iopub.status.idle": "2021-09-18T14:30:08.191584Z",
     "shell.execute_reply": "2021-09-18T14:30:08.193024Z"
    },
    "papermill": {
     "duration": 0.853985,
     "end_time": "2021-09-18T14:30:08.193686",
     "exception": false,
     "start_time": "2021-09-18T14:30:07.339701",
     "status": "completed"
    },
    "tags": []
   },
   "outputs": [],
   "source": [
    "import pandas as pd\n",
    "import sqlite3"
   ]
  },
  {
   "cell_type": "code",
   "execution_count": 2,
   "id": "innovative-syndrome",
   "metadata": {
    "execution": {
     "iopub.execute_input": "2021-09-18T14:30:08.244870Z",
     "iopub.status.busy": "2021-09-18T14:30:08.242473Z",
     "iopub.status.idle": "2021-09-18T14:30:08.558593Z",
     "shell.execute_reply": "2021-09-18T14:30:08.559868Z"
    },
    "papermill": {
     "duration": 0.346125,
     "end_time": "2021-09-18T14:30:08.560265",
     "exception": false,
     "start_time": "2021-09-18T14:30:08.214140",
     "status": "completed"
    },
    "tags": []
   },
   "outputs": [],
   "source": [
    "timestamps = pd.read_sql(\"select distinct record_time from EBAY_TOP_BERLIN order by record_time desc limit 2\", sqlite3.connect(\"UsedObjects.db\"))"
   ]
  },
  {
   "cell_type": "code",
   "execution_count": 3,
   "id": "periodic-identification",
   "metadata": {
    "execution": {
     "iopub.execute_input": "2021-09-18T14:30:08.627577Z",
     "iopub.status.busy": "2021-09-18T14:30:08.625462Z",
     "iopub.status.idle": "2021-09-18T14:30:08.645142Z",
     "shell.execute_reply": "2021-09-18T14:30:08.646364Z"
    },
    "papermill": {
     "duration": 0.064983,
     "end_time": "2021-09-18T14:30:08.646760",
     "exception": false,
     "start_time": "2021-09-18T14:30:08.581777",
     "status": "completed"
    },
    "tags": []
   },
   "outputs": [
    {
     "data": {
      "text/html": [
       "<div>\n",
       "<style scoped>\n",
       "    .dataframe tbody tr th:only-of-type {\n",
       "        vertical-align: middle;\n",
       "    }\n",
       "\n",
       "    .dataframe tbody tr th {\n",
       "        vertical-align: top;\n",
       "    }\n",
       "\n",
       "    .dataframe thead th {\n",
       "        text-align: right;\n",
       "    }\n",
       "</style>\n",
       "<table border=\"1\" class=\"dataframe\">\n",
       "  <thead>\n",
       "    <tr style=\"text-align: right;\">\n",
       "      <th></th>\n",
       "      <th>RECORD_TIME</th>\n",
       "    </tr>\n",
       "  </thead>\n",
       "  <tbody>\n",
       "    <tr>\n",
       "      <th>0</th>\n",
       "      <td>2021-09-18 16:30</td>\n",
       "    </tr>\n",
       "    <tr>\n",
       "      <th>1</th>\n",
       "      <td>2021-09-18 16:00</td>\n",
       "    </tr>\n",
       "  </tbody>\n",
       "</table>\n",
       "</div>"
      ],
      "text/plain": [
       "        RECORD_TIME\n",
       "0  2021-09-18 16:30\n",
       "1  2021-09-18 16:00"
      ]
     },
     "execution_count": 3,
     "metadata": {},
     "output_type": "execute_result"
    }
   ],
   "source": [
    "timestamps"
   ]
  },
  {
   "cell_type": "code",
   "execution_count": 4,
   "id": "alternate-victory",
   "metadata": {
    "execution": {
     "iopub.execute_input": "2021-09-18T14:30:08.700822Z",
     "iopub.status.busy": "2021-09-18T14:30:08.698428Z",
     "iopub.status.idle": "2021-09-18T14:30:09.168366Z",
     "shell.execute_reply": "2021-09-18T14:30:09.169585Z"
    },
    "papermill": {
     "duration": 0.500313,
     "end_time": "2021-09-18T14:30:09.169978",
     "exception": false,
     "start_time": "2021-09-18T14:30:08.669665",
     "status": "completed"
    },
    "tags": []
   },
   "outputs": [],
   "source": [
    "df = pd.read_sql(\"select * from EBAY_TOP_BERLIN where record_time in (select distinct record_time from EBAY_TOP_BERLIN order by record_time desc limit 2)\", sqlite3.connect(\"UsedObjects.db\"))"
   ]
  },
  {
   "cell_type": "code",
   "execution_count": 5,
   "id": "popular-active",
   "metadata": {
    "execution": {
     "iopub.execute_input": "2021-09-18T14:30:09.249020Z",
     "iopub.status.busy": "2021-09-18T14:30:09.237033Z",
     "iopub.status.idle": "2021-09-18T14:30:09.264463Z",
     "shell.execute_reply": "2021-09-18T14:30:09.265679Z"
    },
    "papermill": {
     "duration": 0.070236,
     "end_time": "2021-09-18T14:30:09.266071",
     "exception": false,
     "start_time": "2021-09-18T14:30:09.195835",
     "status": "completed"
    },
    "tags": []
   },
   "outputs": [],
   "source": [
    "df_pivot = df.pivot_table(index=\"PRODUCT\", columns = \"RECORD_TIME\", values = \"LISTING_COUNT\")"
   ]
  },
  {
   "cell_type": "code",
   "execution_count": 6,
   "id": "union-huntington",
   "metadata": {
    "execution": {
     "iopub.execute_input": "2021-09-18T14:30:09.325435Z",
     "iopub.status.busy": "2021-09-18T14:30:09.322973Z",
     "iopub.status.idle": "2021-09-18T14:30:09.329362Z",
     "shell.execute_reply": "2021-09-18T14:30:09.330923Z"
    },
    "papermill": {
     "duration": 0.043016,
     "end_time": "2021-09-18T14:30:09.331404",
     "exception": false,
     "start_time": "2021-09-18T14:30:09.288388",
     "status": "completed"
    },
    "tags": []
   },
   "outputs": [],
   "source": [
    "df_pivot.columns = [\"stamp_1\", \"stamp_2\"]\n",
    "df_pivot_diff = df_pivot.diff(axis=1)"
   ]
  },
  {
   "cell_type": "code",
   "execution_count": 7,
   "id": "fifth-motion",
   "metadata": {
    "execution": {
     "iopub.execute_input": "2021-09-18T14:30:09.386869Z",
     "iopub.status.busy": "2021-09-18T14:30:09.384389Z",
     "iopub.status.idle": "2021-09-18T14:30:10.860236Z",
     "shell.execute_reply": "2021-09-18T14:30:10.861528Z"
    },
    "papermill": {
     "duration": 1.508431,
     "end_time": "2021-09-18T14:30:10.861944",
     "exception": false,
     "start_time": "2021-09-18T14:30:09.353513",
     "status": "completed"
    },
    "tags": []
   },
   "outputs": [
    {
     "data": {
      "text/plain": [
       "<AxesSubplot:ylabel='PRODUCT'>"
      ]
     },
     "execution_count": 7,
     "metadata": {},
     "output_type": "execute_result"
    },
    {
     "data": {
      "image/png": "[encoded data removed]",
      "text/plain": [
       "<Figure size 432x288 with 1 Axes>"
      ]
     },
     "metadata": {
      "needs_background": "light"
     },
     "output_type": "display_data"
    }
   ],
   "source": [
    "df_pivot_diff.sort_values(\"stamp_2\", ascending = False)[\"stamp_2\"].head(10).plot.barh()"
   ]
  },
  {
   "cell_type": "code",
   "execution_count": null,
   "id": "extra-executive",
   "metadata": {
    "papermill": {
     "duration": 0.02248,
     "end_time": "2021-09-18T14:30:10.908416",
     "exception": false,
     "start_time": "2021-09-18T14:30:10.885936",
     "status": "completed"
    },
    "tags": []
   },
   "outputs": [],
   "source": []
  }
 ],
 "metadata": {
  "kernelspec": {
   "display_name": "Python 3",
   "language": "python",
   "name": "python3"
  },
  "language_info": {
   "codemirror_mode": {
    "name": "ipython",
    "version": 3
   },
   "file_extension": ".py",
   "mimetype": "text/x-python",
   "name": "python",
   "nbconvert_exporter": "python",
   "pygments_lexer": "ipython3",
   "version": "3.9.5"
  },
  "papermill": {
   "default_parameters": {},
   "duration": 6.602667,
   "end_time": "2021-09-18T14:30:11.550380",
   "environment_variables": {},
   "exception": null,
   "input_path": "eBay_Overview.ipynb",
   "output_path": "eBay_Overview.ipynb",
   "parameters": {},
   "start_time": "2021-09-18T14:30:04.947713",
   "version": "2.3.3"
  }
 },
 "nbformat": 4,
 "nbformat_minor": 5
}