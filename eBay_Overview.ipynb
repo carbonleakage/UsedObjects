{
 "cells": [
  {
   "cell_type": "code",
   "execution_count": 1,
   "id": "reverse-picking",
   "metadata": {
    "execution": {
     "iopub.execute_input": "2021-10-26T19:00:07.177245Z",
     "iopub.status.busy": "2021-10-26T19:00:07.175254Z",
     "iopub.status.idle": "2021-10-26T19:00:07.979475Z",
     "shell.execute_reply": "2021-10-26T19:00:07.977421Z"
    },
    "papermill": {
     "duration": 0.855148,
     "end_time": "2021-10-26T19:00:07.979919",
     "exception": false,
     "start_time": "2021-10-26T19:00:07.124771",
     "status": "completed"
    },
    "tags": []
   },
   "outputs": [],
   "source": [
    "import pandas as pd\n",
    "import sqlite3"
   ]
  },
  {
   "cell_type": "code",
   "execution_count": 2,
   "id": "innovative-syndrome",
   "metadata": {
    "execution": {
     "iopub.execute_input": "2021-10-26T19:00:08.031612Z",
     "iopub.status.busy": "2021-10-26T19:00:08.029450Z",
     "iopub.status.idle": "2021-10-26T19:00:08.672018Z",
     "shell.execute_reply": "2021-10-26T19:00:08.673992Z"
    },
    "papermill": {
     "duration": 0.67387,
     "end_time": "2021-10-26T19:00:08.674529",
     "exception": false,
     "start_time": "2021-10-26T19:00:08.000659",
     "status": "completed"
    },
    "tags": []
   },
   "outputs": [],
   "source": [
    "timestamps = pd.read_sql(\"select distinct record_time from EBAY_TOP_BERLIN order by record_time desc limit 2\", sqlite3.connect(\"UsedObjects.db\"))"
   ]
  },
  {
   "cell_type": "code",
   "execution_count": 3,
   "id": "periodic-identification",
   "metadata": {
    "execution": {
     "iopub.execute_input": "2021-10-26T19:00:08.748574Z",
     "iopub.status.busy": "2021-10-26T19:00:08.746585Z",
     "iopub.status.idle": "2021-10-26T19:00:08.766579Z",
     "shell.execute_reply": "2021-10-26T19:00:08.767847Z"
    },
    "papermill": {
     "duration": 0.068531,
     "end_time": "2021-10-26T19:00:08.768260",
     "exception": false,
     "start_time": "2021-10-26T19:00:08.699729",
     "status": "completed"
    },
    "tags": []
   },
   "outputs": [
    {
     "data": {
      "text/html": [
       "<div>\n",
       "<style scoped>\n",
       "    .dataframe tbody tr th:only-of-type {\n",
       "        vertical-align: middle;\n",
       "    }\n",
       "\n",
       "    .dataframe tbody tr th {\n",
       "        vertical-align: top;\n",
       "    }\n",
       "\n",
       "    .dataframe thead th {\n",
       "        text-align: right;\n",
       "    }\n",
       "</style>\n",
       "<table border=\"1\" class=\"dataframe\">\n",
       "  <thead>\n",
       "    <tr style=\"text-align: right;\">\n",
       "      <th></th>\n",
       "      <th>RECORD_TIME</th>\n",
       "    </tr>\n",
       "  </thead>\n",
       "  <tbody>\n",
       "    <tr>\n",
       "      <th>0</th>\n",
       "      <td>2021-10-26 21:00</td>\n",
       "    </tr>\n",
       "    <tr>\n",
       "      <th>1</th>\n",
       "      <td>2021-10-26 20:30</td>\n",
       "    </tr>\n",
       "  </tbody>\n",
       "</table>\n",
       "</div>"
      ],
      "text/plain": [
       "        RECORD_TIME\n",
       "0  2021-10-26 21:00\n",
       "1  2021-10-26 20:30"
      ]
     },
     "execution_count": 3,
     "metadata": {},
     "output_type": "execute_result"
    }
   ],
   "source": [
    "timestamps"
   ]
  },
  {
   "cell_type": "code",
   "execution_count": 4,
   "id": "alternate-victory",
   "metadata": {
    "execution": {
     "iopub.execute_input": "2021-10-26T19:00:08.822820Z",
     "iopub.status.busy": "2021-10-26T19:00:08.820448Z",
     "iopub.status.idle": "2021-10-26T19:00:09.747130Z",
     "shell.execute_reply": "2021-10-26T19:00:09.748329Z"
    },
    "papermill": {
     "duration": 0.957459,
     "end_time": "2021-10-26T19:00:09.748767",
     "exception": false,
     "start_time": "2021-10-26T19:00:08.791308",
     "status": "completed"
    },
    "tags": []
   },
   "outputs": [],
   "source": [
    "df = pd.read_sql(\"select * from EBAY_TOP_BERLIN where record_time in (select distinct record_time from EBAY_TOP_BERLIN order by record_time desc limit 2)\", sqlite3.connect(\"UsedObjects.db\"))"
   ]
  },
  {
   "cell_type": "code",
   "execution_count": 5,
   "id": "popular-active",
   "metadata": {
    "execution": {
     "iopub.execute_input": "2021-10-26T19:00:09.818727Z",
     "iopub.status.busy": "2021-10-26T19:00:09.807190Z",
     "iopub.status.idle": "2021-10-26T19:00:09.835703Z",
     "shell.execute_reply": "2021-10-26T19:00:09.837102Z"
    },
    "papermill": {
     "duration": 0.067886,
     "end_time": "2021-10-26T19:00:09.837523",
     "exception": false,
     "start_time": "2021-10-26T19:00:09.769637",
     "status": "completed"
    },
    "tags": []
   },
   "outputs": [],
   "source": [
    "df_pivot = df.pivot_table(index=\"PRODUCT\", columns = \"RECORD_TIME\", values = \"LISTING_COUNT\")"
   ]
  },
  {
   "cell_type": "code",
   "execution_count": 6,
   "id": "union-huntington",
   "metadata": {
    "execution": {
     "iopub.execute_input": "2021-10-26T19:00:09.896494Z",
     "iopub.status.busy": "2021-10-26T19:00:09.894232Z",
     "iopub.status.idle": "2021-10-26T19:00:09.899932Z",
     "shell.execute_reply": "2021-10-26T19:00:09.901270Z"
    },
    "papermill": {
     "duration": 0.04222,
     "end_time": "2021-10-26T19:00:09.901693",
     "exception": false,
     "start_time": "2021-10-26T19:00:09.859473",
     "status": "completed"
    },
    "tags": []
   },
   "outputs": [],
   "source": [
    "df_pivot.columns = [\"stamp_1\", \"stamp_2\"]\n",
    "df_pivot_diff = df_pivot.diff(axis=1)"
   ]
  },
  {
   "cell_type": "code",
   "execution_count": 7,
   "id": "fifth-motion",
   "metadata": {
    "execution": {
     "iopub.execute_input": "2021-10-26T19:00:09.956298Z",
     "iopub.status.busy": "2021-10-26T19:00:09.954028Z",
     "iopub.status.idle": "2021-10-26T19:00:11.417464Z",
     "shell.execute_reply": "2021-10-26T19:00:11.418756Z"
    },
    "papermill": {
     "duration": 1.496401,
     "end_time": "2021-10-26T19:00:11.419177",
     "exception": false,
     "start_time": "2021-10-26T19:00:09.922776",
     "status": "completed"
    },
    "tags": []
   },
   "outputs": [
    {
     "data": {
      "text/plain": [
       "<AxesSubplot:ylabel='PRODUCT'>"
      ]
     },
     "execution_count": 7,
     "metadata": {},
     "output_type": "execute_result"
    },
    {
     "data": {
      "image/png": "[encoded data removed]",
      "text/plain": [
       "<Figure size 432x288 with 1 Axes>"
      ]
     },
     "metadata": {
      "needs_background": "light"
     },
     "output_type": "display_data"
    }
   ],
   "source": [
    "df_pivot_diff.sort_values(\"stamp_2\", ascending = False)[\"stamp_2\"].head(10).plot.barh()"
   ]
  },
  {
   "cell_type": "code",
   "execution_count": null,
   "id": "extra-executive",
   "metadata": {
    "papermill": {
     "duration": 0.022607,
     "end_time": "2021-10-26T19:00:11.465573",
     "exception": false,
     "start_time": "2021-10-26T19:00:11.442966",
     "status": "completed"
    },
    "tags": []
   },
   "outputs": [],
   "source": []
  }
 ],
 "metadata": {
  "kernelspec": {
   "display_name": "Python 3",
   "language": "python",
   "name": "python3"
  },
  "language_info": {
   "codemirror_mode": {
    "name": "ipython",
    "version": 3
   },
   "file_extension": ".py",
   "mimetype": "text/x-python",
   "name": "python",
   "nbconvert_exporter": "python",
   "pygments_lexer": "ipython3",
   "version": "3.9.5"
  },
  "papermill": {
   "default_parameters": {},
   "duration": 7.387384,
   "end_time": "2021-10-26T19:00:12.109907",
   "environment_variables": {},
   "exception": null,
   "input_path": "eBay_Overview.ipynb",
   "output_path": "eBay_Overview.ipynb",
   "parameters": {},
   "start_time": "2021-10-26T19:00:04.722523",
   "version": "2.3.3"
  }
 },
 "nbformat": 4,
 "nbformat_minor": 5
}