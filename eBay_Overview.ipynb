{
 "cells": [
  {
   "cell_type": "code",
   "execution_count": 1,
   "id": "reverse-picking",
   "metadata": {
    "execution": {
     "iopub.execute_input": "2021-09-01T21:00:06.811497Z",
     "iopub.status.busy": "2021-09-01T21:00:06.809461Z",
     "iopub.status.idle": "2021-09-01T21:00:07.614745Z",
     "shell.execute_reply": "2021-09-01T21:00:07.613191Z"
    },
    "papermill": {
     "duration": 0.854254,
     "end_time": "2021-09-01T21:00:07.615185",
     "exception": false,
     "start_time": "2021-09-01T21:00:06.760931",
     "status": "completed"
    },
    "tags": []
   },
   "outputs": [],
   "source": [
    "import pandas as pd\n",
    "import sqlite3"
   ]
  },
  {
   "cell_type": "code",
   "execution_count": 2,
   "id": "innovative-syndrome",
   "metadata": {
    "execution": {
     "iopub.execute_input": "2021-09-01T21:00:07.665666Z",
     "iopub.status.busy": "2021-09-01T21:00:07.663806Z",
     "iopub.status.idle": "2021-09-01T21:00:07.850935Z",
     "shell.execute_reply": "2021-09-01T21:00:07.852158Z"
    },
    "papermill": {
     "duration": 0.216571,
     "end_time": "2021-09-01T21:00:07.852555",
     "exception": false,
     "start_time": "2021-09-01T21:00:07.635984",
     "status": "completed"
    },
    "tags": []
   },
   "outputs": [],
   "source": [
    "timestamps = pd.read_sql(\"select distinct record_time from EBAY_TOP_BERLIN order by record_time desc limit 2\", sqlite3.connect(\"UsedObjects.db\"))"
   ]
  },
  {
   "cell_type": "code",
   "execution_count": 3,
   "id": "periodic-identification",
   "metadata": {
    "execution": {
     "iopub.execute_input": "2021-09-01T21:00:07.917954Z",
     "iopub.status.busy": "2021-09-01T21:00:07.915953Z",
     "iopub.status.idle": "2021-09-01T21:00:07.936148Z",
     "shell.execute_reply": "2021-09-01T21:00:07.937463Z"
    },
    "papermill": {
     "duration": 0.064769,
     "end_time": "2021-09-01T21:00:07.937878",
     "exception": false,
     "start_time": "2021-09-01T21:00:07.873109",
     "status": "completed"
    },
    "tags": []
   },
   "outputs": [
    {
     "data": {
      "text/html": [
       "<div>\n",
       "<style scoped>\n",
       "    .dataframe tbody tr th:only-of-type {\n",
       "        vertical-align: middle;\n",
       "    }\n",
       "\n",
       "    .dataframe tbody tr th {\n",
       "        vertical-align: top;\n",
       "    }\n",
       "\n",
       "    .dataframe thead th {\n",
       "        text-align: right;\n",
       "    }\n",
       "</style>\n",
       "<table border=\"1\" class=\"dataframe\">\n",
       "  <thead>\n",
       "    <tr style=\"text-align: right;\">\n",
       "      <th></th>\n",
       "      <th>RECORD_TIME</th>\n",
       "    </tr>\n",
       "  </thead>\n",
       "  <tbody>\n",
       "    <tr>\n",
       "      <th>0</th>\n",
       "      <td>2021-09-01 23:00</td>\n",
       "    </tr>\n",
       "    <tr>\n",
       "      <th>1</th>\n",
       "      <td>2021-09-01 22:30</td>\n",
       "    </tr>\n",
       "  </tbody>\n",
       "</table>\n",
       "</div>"
      ],
      "text/plain": [
       "        RECORD_TIME\n",
       "0  2021-09-01 23:00\n",
       "1  2021-09-01 22:30"
      ]
     },
     "execution_count": 3,
     "metadata": {},
     "output_type": "execute_result"
    }
   ],
   "source": [
    "timestamps"
   ]
  },
  {
   "cell_type": "code",
   "execution_count": 4,
   "id": "alternate-victory",
   "metadata": {
    "execution": {
     "iopub.execute_input": "2021-09-01T21:00:07.989720Z",
     "iopub.status.busy": "2021-09-01T21:00:07.987445Z",
     "iopub.status.idle": "2021-09-01T21:00:08.267148Z",
     "shell.execute_reply": "2021-09-01T21:00:08.268313Z"
    },
    "papermill": {
     "duration": 0.309748,
     "end_time": "2021-09-01T21:00:08.268738",
     "exception": false,
     "start_time": "2021-09-01T21:00:07.958990",
     "status": "completed"
    },
    "tags": []
   },
   "outputs": [],
   "source": [
    "df = pd.read_sql(\"select * from EBAY_TOP_BERLIN where record_time in (select distinct record_time from EBAY_TOP_BERLIN order by record_time desc limit 2)\", sqlite3.connect(\"UsedObjects.db\"))"
   ]
  },
  {
   "cell_type": "code",
   "execution_count": 5,
   "id": "popular-active",
   "metadata": {
    "execution": {
     "iopub.execute_input": "2021-09-01T21:00:08.364349Z",
     "iopub.status.busy": "2021-09-01T21:00:08.353082Z",
     "iopub.status.idle": "2021-09-01T21:00:08.379736Z",
     "shell.execute_reply": "2021-09-01T21:00:08.380963Z"
    },
    "papermill": {
     "duration": 0.07276,
     "end_time": "2021-09-01T21:00:08.381361",
     "exception": false,
     "start_time": "2021-09-01T21:00:08.308601",
     "status": "completed"
    },
    "tags": []
   },
   "outputs": [],
   "source": [
    "df_pivot = df.pivot_table(index=\"PRODUCT\", columns = \"RECORD_TIME\", values = \"LISTING_COUNT\")"
   ]
  },
  {
   "cell_type": "code",
   "execution_count": 6,
   "id": "union-huntington",
   "metadata": {
    "execution": {
     "iopub.execute_input": "2021-09-01T21:00:08.437192Z",
     "iopub.status.busy": "2021-09-01T21:00:08.435155Z",
     "iopub.status.idle": "2021-09-01T21:00:08.440367Z",
     "shell.execute_reply": "2021-09-01T21:00:08.441543Z"
    },
    "papermill": {
     "duration": 0.039989,
     "end_time": "2021-09-01T21:00:08.441971",
     "exception": false,
     "start_time": "2021-09-01T21:00:08.401982",
     "status": "completed"
    },
    "tags": []
   },
   "outputs": [],
   "source": [
    "df_pivot.columns = [\"stamp_1\", \"stamp_2\"]\n",
    "df_pivot_diff = df_pivot.diff(axis=1)"
   ]
  },
  {
   "cell_type": "code",
   "execution_count": 7,
   "id": "fifth-motion",
   "metadata": {
    "execution": {
     "iopub.execute_input": "2021-09-01T21:00:08.495815Z",
     "iopub.status.busy": "2021-09-01T21:00:08.493283Z",
     "iopub.status.idle": "2021-09-01T21:00:09.991112Z",
     "shell.execute_reply": "2021-09-01T21:00:09.992384Z"
    },
    "papermill": {
     "duration": 1.530672,
     "end_time": "2021-09-01T21:00:09.992841",
     "exception": false,
     "start_time": "2021-09-01T21:00:08.462169",
     "status": "completed"
    },
    "tags": []
   },
   "outputs": [
    {
     "data": {
      "text/plain": [
       "<AxesSubplot:ylabel='PRODUCT'>"
      ]
     },
     "execution_count": 7,
     "metadata": {},
     "output_type": "execute_result"
    },
    {
     "data": {
      "image/png": "[encoded data removed]",
      "text/plain": [
       "<Figure size 432x288 with 1 Axes>"
      ]
     },
     "metadata": {
      "needs_background": "light"
     },
     "output_type": "display_data"
    }
   ],
   "source": [
    "df_pivot_diff.sort_values(\"stamp_2\", ascending = False)[\"stamp_2\"].head(10).plot.barh()"
   ]
  },
  {
   "cell_type": "code",
   "execution_count": null,
   "id": "extra-executive",
   "metadata": {
    "papermill": {
     "duration": 0.022287,
     "end_time": "2021-09-01T21:00:10.039654",
     "exception": false,
     "start_time": "2021-09-01T21:00:10.017367",
     "status": "completed"
    },
    "tags": []
   },
   "outputs": [],
   "source": []
  }
 ],
 "metadata": {
  "kernelspec": {
   "display_name": "Python 3",
   "language": "python",
   "name": "python3"
  },
  "language_info": {
   "codemirror_mode": {
    "name": "ipython",
    "version": 3
   },
   "file_extension": ".py",
   "mimetype": "text/x-python",
   "name": "python",
   "nbconvert_exporter": "python",
   "pygments_lexer": "ipython3",
   "version": "3.9.5"
  },
  "papermill": {
   "default_parameters": {},
   "duration": 6.324755,
   "end_time": "2021-09-01T21:00:10.681621",
   "environment_variables": {},
   "exception": null,
   "input_path": "eBay_Overview.ipynb",
   "output_path": "eBay_Overview.ipynb",
   "parameters": {},
   "start_time": "2021-09-01T21:00:04.356866",
   "version": "2.3.3"
  }
 },
 "nbformat": 4,
 "nbformat_minor": 5
}