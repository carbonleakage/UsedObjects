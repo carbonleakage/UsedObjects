{
 "cells": [
  {
   "cell_type": "code",
   "execution_count": 1,
   "id": "reverse-picking",
   "metadata": {
    "execution": {
     "iopub.execute_input": "2021-08-31T09:00:06.753211Z",
     "iopub.status.busy": "2021-08-31T09:00:06.751294Z",
     "iopub.status.idle": "2021-08-31T09:00:07.553893Z",
     "shell.execute_reply": "2021-08-31T09:00:07.555308Z"
    },
    "papermill": {
     "duration": 0.856724,
     "end_time": "2021-08-31T09:00:07.555980",
     "exception": false,
     "start_time": "2021-08-31T09:00:06.699256",
     "status": "completed"
    },
    "tags": []
   },
   "outputs": [],
   "source": [
    "import pandas as pd\n",
    "import sqlite3"
   ]
  },
  {
   "cell_type": "code",
   "execution_count": 2,
   "id": "innovative-syndrome",
   "metadata": {
    "execution": {
     "iopub.execute_input": "2021-08-31T09:00:07.607630Z",
     "iopub.status.busy": "2021-08-31T09:00:07.605572Z",
     "iopub.status.idle": "2021-08-31T09:00:07.775830Z",
     "shell.execute_reply": "2021-08-31T09:00:07.777056Z"
    },
    "papermill": {
     "duration": 0.200092,
     "end_time": "2021-08-31T09:00:07.777459",
     "exception": false,
     "start_time": "2021-08-31T09:00:07.577367",
     "status": "completed"
    },
    "tags": []
   },
   "outputs": [],
   "source": [
    "timestamps = pd.read_sql(\"select distinct record_time from EBAY_TOP_BERLIN order by record_time desc limit 2\", sqlite3.connect(\"UsedObjects.db\"))"
   ]
  },
  {
   "cell_type": "code",
   "execution_count": 3,
   "id": "periodic-identification",
   "metadata": {
    "execution": {
     "iopub.execute_input": "2021-08-31T09:00:07.845633Z",
     "iopub.status.busy": "2021-08-31T09:00:07.843638Z",
     "iopub.status.idle": "2021-08-31T09:00:07.863808Z",
     "shell.execute_reply": "2021-08-31T09:00:07.865096Z"
    },
    "papermill": {
     "duration": 0.06624,
     "end_time": "2021-08-31T09:00:07.865554",
     "exception": false,
     "start_time": "2021-08-31T09:00:07.799314",
     "status": "completed"
    },
    "tags": []
   },
   "outputs": [
    {
     "data": {
      "text/html": [
       "<div>\n",
       "<style scoped>\n",
       "    .dataframe tbody tr th:only-of-type {\n",
       "        vertical-align: middle;\n",
       "    }\n",
       "\n",
       "    .dataframe tbody tr th {\n",
       "        vertical-align: top;\n",
       "    }\n",
       "\n",
       "    .dataframe thead th {\n",
       "        text-align: right;\n",
       "    }\n",
       "</style>\n",
       "<table border=\"1\" class=\"dataframe\">\n",
       "  <thead>\n",
       "    <tr style=\"text-align: right;\">\n",
       "      <th></th>\n",
       "      <th>RECORD_TIME</th>\n",
       "    </tr>\n",
       "  </thead>\n",
       "  <tbody>\n",
       "    <tr>\n",
       "      <th>0</th>\n",
       "      <td>2021-08-31 11:00</td>\n",
       "    </tr>\n",
       "    <tr>\n",
       "      <th>1</th>\n",
       "      <td>2021-08-31 10:30</td>\n",
       "    </tr>\n",
       "  </tbody>\n",
       "</table>\n",
       "</div>"
      ],
      "text/plain": [
       "        RECORD_TIME\n",
       "0  2021-08-31 11:00\n",
       "1  2021-08-31 10:30"
      ]
     },
     "execution_count": 3,
     "metadata": {},
     "output_type": "execute_result"
    }
   ],
   "source": [
    "timestamps"
   ]
  },
  {
   "cell_type": "code",
   "execution_count": 4,
   "id": "alternate-victory",
   "metadata": {
    "execution": {
     "iopub.execute_input": "2021-08-31T09:00:07.918629Z",
     "iopub.status.busy": "2021-08-31T09:00:07.916794Z",
     "iopub.status.idle": "2021-08-31T09:00:08.167519Z",
     "shell.execute_reply": "2021-08-31T09:00:08.168815Z"
    },
    "papermill": {
     "duration": 0.280805,
     "end_time": "2021-08-31T09:00:08.169225",
     "exception": false,
     "start_time": "2021-08-31T09:00:07.888420",
     "status": "completed"
    },
    "tags": []
   },
   "outputs": [],
   "source": [
    "df = pd.read_sql(\"select * from EBAY_TOP_BERLIN where record_time in (select distinct record_time from EBAY_TOP_BERLIN order by record_time desc limit 2)\", sqlite3.connect(\"UsedObjects.db\"))"
   ]
  },
  {
   "cell_type": "code",
   "execution_count": 5,
   "id": "popular-active",
   "metadata": {
    "execution": {
     "iopub.execute_input": "2021-08-31T09:00:08.248430Z",
     "iopub.status.busy": "2021-08-31T09:00:08.236143Z",
     "iopub.status.idle": "2021-08-31T09:00:08.264114Z",
     "shell.execute_reply": "2021-08-31T09:00:08.265498Z"
    },
    "papermill": {
     "duration": 0.070822,
     "end_time": "2021-08-31T09:00:08.265939",
     "exception": false,
     "start_time": "2021-08-31T09:00:08.195117",
     "status": "completed"
    },
    "tags": []
   },
   "outputs": [],
   "source": [
    "df_pivot = df.pivot_table(index=\"PRODUCT\", columns = \"RECORD_TIME\", values = \"LISTING_COUNT\")"
   ]
  },
  {
   "cell_type": "code",
   "execution_count": 6,
   "id": "union-huntington",
   "metadata": {
    "execution": {
     "iopub.execute_input": "2021-08-31T09:00:08.322758Z",
     "iopub.status.busy": "2021-08-31T09:00:08.320730Z",
     "iopub.status.idle": "2021-08-31T09:00:08.326133Z",
     "shell.execute_reply": "2021-08-31T09:00:08.327380Z"
    },
    "papermill": {
     "duration": 0.041441,
     "end_time": "2021-08-31T09:00:08.327818",
     "exception": false,
     "start_time": "2021-08-31T09:00:08.286377",
     "status": "completed"
    },
    "tags": []
   },
   "outputs": [],
   "source": [
    "df_pivot.columns = [\"stamp_1\", \"stamp_2\"]\n",
    "df_pivot_diff = df_pivot.diff(axis=1)"
   ]
  },
  {
   "cell_type": "code",
   "execution_count": 7,
   "id": "fifth-motion",
   "metadata": {
    "execution": {
     "iopub.execute_input": "2021-08-31T09:00:08.381837Z",
     "iopub.status.busy": "2021-08-31T09:00:08.379497Z",
     "iopub.status.idle": "2021-08-31T09:00:09.874660Z",
     "shell.execute_reply": "2021-08-31T09:00:09.876164Z"
    },
    "papermill": {
     "duration": 1.528286,
     "end_time": "2021-08-31T09:00:09.876619",
     "exception": false,
     "start_time": "2021-08-31T09:00:08.348333",
     "status": "completed"
    },
    "tags": []
   },
   "outputs": [
    {
     "data": {
      "text/plain": [
       "<AxesSubplot:ylabel='PRODUCT'>"
      ]
     },
     "execution_count": 7,
     "metadata": {},
     "output_type": "execute_result"
    },
    {
     "data": {
      "image/png": "[encoded data removed]",
      "text/plain": [
       "<Figure size 432x288 with 1 Axes>"
      ]
     },
     "metadata": {
      "needs_background": "light"
     },
     "output_type": "display_data"
    }
   ],
   "source": [
    "df_pivot_diff.sort_values(\"stamp_2\", ascending = False)[\"stamp_2\"].head(10).plot.barh()"
   ]
  },
  {
   "cell_type": "code",
   "execution_count": null,
   "id": "extra-executive",
   "metadata": {
    "papermill": {
     "duration": 0.022378,
     "end_time": "2021-08-31T09:00:09.923157",
     "exception": false,
     "start_time": "2021-08-31T09:00:09.900779",
     "status": "completed"
    },
    "tags": []
   },
   "outputs": [],
   "source": []
  }
 ],
 "metadata": {
  "kernelspec": {
   "display_name": "Python 3",
   "language": "python",
   "name": "python3"
  },
  "language_info": {
   "codemirror_mode": {
    "name": "ipython",
    "version": 3
   },
   "file_extension": ".py",
   "mimetype": "text/x-python",
   "name": "python",
   "nbconvert_exporter": "python",
   "pygments_lexer": "ipython3",
   "version": "3.9.5"
  },
  "papermill": {
   "default_parameters": {},
   "duration": 6.822499,
   "end_time": "2021-08-31T09:00:11.119557",
   "environment_variables": {},
   "exception": null,
   "input_path": "eBay_Overview.ipynb",
   "output_path": "eBay_Overview.ipynb",
   "parameters": {},
   "start_time": "2021-08-31T09:00:04.297058",
   "version": "2.3.3"
  }
 },
 "nbformat": 4,
 "nbformat_minor": 5
}