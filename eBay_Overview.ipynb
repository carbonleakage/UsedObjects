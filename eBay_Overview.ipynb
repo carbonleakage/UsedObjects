{
 "cells": [
  {
   "cell_type": "code",
   "execution_count": 1,
   "id": "reverse-picking",
   "metadata": {
    "execution": {
     "iopub.execute_input": "2021-10-14T19:30:06.862661Z",
     "iopub.status.busy": "2021-10-14T19:30:06.860597Z",
     "iopub.status.idle": "2021-10-14T19:30:07.670568Z",
     "shell.execute_reply": "2021-10-14T19:30:07.668952Z"
    },
    "papermill": {
     "duration": 0.861832,
     "end_time": "2021-10-14T19:30:07.670968",
     "exception": false,
     "start_time": "2021-10-14T19:30:06.809136",
     "status": "completed"
    },
    "tags": []
   },
   "outputs": [],
   "source": [
    "import pandas as pd\n",
    "import sqlite3"
   ]
  },
  {
   "cell_type": "code",
   "execution_count": 2,
   "id": "innovative-syndrome",
   "metadata": {
    "execution": {
     "iopub.execute_input": "2021-10-14T19:30:07.722930Z",
     "iopub.status.busy": "2021-10-14T19:30:07.720649Z",
     "iopub.status.idle": "2021-10-14T19:30:08.259403Z",
     "shell.execute_reply": "2021-10-14T19:30:08.260526Z"
    },
    "papermill": {
     "duration": 0.568459,
     "end_time": "2021-10-14T19:30:08.261127",
     "exception": false,
     "start_time": "2021-10-14T19:30:07.692668",
     "status": "completed"
    },
    "tags": []
   },
   "outputs": [],
   "source": [
    "timestamps = pd.read_sql(\"select distinct record_time from EBAY_TOP_BERLIN order by record_time desc limit 2\", sqlite3.connect(\"UsedObjects.db\"))"
   ]
  },
  {
   "cell_type": "code",
   "execution_count": 3,
   "id": "periodic-identification",
   "metadata": {
    "execution": {
     "iopub.execute_input": "2021-10-14T19:30:08.337009Z",
     "iopub.status.busy": "2021-10-14T19:30:08.334868Z",
     "iopub.status.idle": "2021-10-14T19:30:08.355015Z",
     "shell.execute_reply": "2021-10-14T19:30:08.356389Z"
    },
    "papermill": {
     "duration": 0.068256,
     "end_time": "2021-10-14T19:30:08.356890",
     "exception": false,
     "start_time": "2021-10-14T19:30:08.288634",
     "status": "completed"
    },
    "tags": []
   },
   "outputs": [
    {
     "data": {
      "text/html": [
       "<div>\n",
       "<style scoped>\n",
       "    .dataframe tbody tr th:only-of-type {\n",
       "        vertical-align: middle;\n",
       "    }\n",
       "\n",
       "    .dataframe tbody tr th {\n",
       "        vertical-align: top;\n",
       "    }\n",
       "\n",
       "    .dataframe thead th {\n",
       "        text-align: right;\n",
       "    }\n",
       "</style>\n",
       "<table border=\"1\" class=\"dataframe\">\n",
       "  <thead>\n",
       "    <tr style=\"text-align: right;\">\n",
       "      <th></th>\n",
       "      <th>RECORD_TIME</th>\n",
       "    </tr>\n",
       "  </thead>\n",
       "  <tbody>\n",
       "    <tr>\n",
       "      <th>0</th>\n",
       "      <td>2021-10-14 21:30</td>\n",
       "    </tr>\n",
       "    <tr>\n",
       "      <th>1</th>\n",
       "      <td>2021-10-14 21:00</td>\n",
       "    </tr>\n",
       "  </tbody>\n",
       "</table>\n",
       "</div>"
      ],
      "text/plain": [
       "        RECORD_TIME\n",
       "0  2021-10-14 21:30\n",
       "1  2021-10-14 21:00"
      ]
     },
     "execution_count": 3,
     "metadata": {},
     "output_type": "execute_result"
    }
   ],
   "source": [
    "timestamps"
   ]
  },
  {
   "cell_type": "code",
   "execution_count": 4,
   "id": "alternate-victory",
   "metadata": {
    "execution": {
     "iopub.execute_input": "2021-10-14T19:30:08.408957Z",
     "iopub.status.busy": "2021-10-14T19:30:08.407002Z",
     "iopub.status.idle": "2021-10-14T19:30:09.194244Z",
     "shell.execute_reply": "2021-10-14T19:30:09.195458Z"
    },
    "papermill": {
     "duration": 0.817444,
     "end_time": "2021-10-14T19:30:09.195858",
     "exception": false,
     "start_time": "2021-10-14T19:30:08.378414",
     "status": "completed"
    },
    "tags": []
   },
   "outputs": [],
   "source": [
    "df = pd.read_sql(\"select * from EBAY_TOP_BERLIN where record_time in (select distinct record_time from EBAY_TOP_BERLIN order by record_time desc limit 2)\", sqlite3.connect(\"UsedObjects.db\"))"
   ]
  },
  {
   "cell_type": "code",
   "execution_count": 5,
   "id": "popular-active",
   "metadata": {
    "execution": {
     "iopub.execute_input": "2021-10-14T19:30:09.268356Z",
     "iopub.status.busy": "2021-10-14T19:30:09.266268Z",
     "iopub.status.idle": "2021-10-14T19:30:09.283396Z",
     "shell.execute_reply": "2021-10-14T19:30:09.284766Z"
    },
    "papermill": {
     "duration": 0.068788,
     "end_time": "2021-10-14T19:30:09.285196",
     "exception": false,
     "start_time": "2021-10-14T19:30:09.216408",
     "status": "completed"
    },
    "tags": []
   },
   "outputs": [],
   "source": [
    "df_pivot = df.pivot_table(index=\"PRODUCT\", columns = \"RECORD_TIME\", values = \"LISTING_COUNT\")"
   ]
  },
  {
   "cell_type": "code",
   "execution_count": 6,
   "id": "union-huntington",
   "metadata": {
    "execution": {
     "iopub.execute_input": "2021-10-14T19:30:09.341706Z",
     "iopub.status.busy": "2021-10-14T19:30:09.339566Z",
     "iopub.status.idle": "2021-10-14T19:30:09.344842Z",
     "shell.execute_reply": "2021-10-14T19:30:09.346152Z"
    },
    "papermill": {
     "duration": 0.041167,
     "end_time": "2021-10-14T19:30:09.346572",
     "exception": false,
     "start_time": "2021-10-14T19:30:09.305405",
     "status": "completed"
    },
    "tags": []
   },
   "outputs": [],
   "source": [
    "df_pivot.columns = [\"stamp_1\", \"stamp_2\"]\n",
    "df_pivot_diff = df_pivot.diff(axis=1)"
   ]
  },
  {
   "cell_type": "code",
   "execution_count": 7,
   "id": "fifth-motion",
   "metadata": {
    "execution": {
     "iopub.execute_input": "2021-10-14T19:30:09.404523Z",
     "iopub.status.busy": "2021-10-14T19:30:09.401858Z",
     "iopub.status.idle": "2021-10-14T19:30:10.893641Z",
     "shell.execute_reply": "2021-10-14T19:30:10.895186Z"
    },
    "papermill": {
     "duration": 1.52596,
     "end_time": "2021-10-14T19:30:10.895651",
     "exception": false,
     "start_time": "2021-10-14T19:30:09.369691",
     "status": "completed"
    },
    "tags": []
   },
   "outputs": [
    {
     "data": {
      "text/plain": [
       "<AxesSubplot:ylabel='PRODUCT'>"
      ]
     },
     "execution_count": 7,
     "metadata": {},
     "output_type": "execute_result"
    },
    {
     "data": {
      "image/png": "[encoded data removed]",
      "text/plain": [
       "<Figure size 432x288 with 1 Axes>"
      ]
     },
     "metadata": {
      "needs_background": "light"
     },
     "output_type": "display_data"
    }
   ],
   "source": [
    "df_pivot_diff.sort_values(\"stamp_2\", ascending = False)[\"stamp_2\"].head(10).plot.barh()"
   ]
  },
  {
   "cell_type": "code",
   "execution_count": null,
   "id": "extra-executive",
   "metadata": {
    "papermill": {
     "duration": 0.022393,
     "end_time": "2021-10-14T19:30:10.942043",
     "exception": false,
     "start_time": "2021-10-14T19:30:10.919650",
     "status": "completed"
    },
    "tags": []
   },
   "outputs": [],
   "source": []
  }
 ],
 "metadata": {
  "kernelspec": {
   "display_name": "Python 3",
   "language": "python",
   "name": "python3"
  },
  "language_info": {
   "codemirror_mode": {
    "name": "ipython",
    "version": 3
   },
   "file_extension": ".py",
   "mimetype": "text/x-python",
   "name": "python",
   "nbconvert_exporter": "python",
   "pygments_lexer": "ipython3",
   "version": "3.9.5"
  },
  "papermill": {
   "default_parameters": {},
   "duration": 7.833049,
   "end_time": "2021-10-14T19:30:12.231979",
   "environment_variables": {},
   "exception": null,
   "input_path": "eBay_Overview.ipynb",
   "output_path": "eBay_Overview.ipynb",
   "parameters": {},
   "start_time": "2021-10-14T19:30:04.398930",
   "version": "2.3.3"
  }
 },
 "nbformat": 4,
 "nbformat_minor": 5
}