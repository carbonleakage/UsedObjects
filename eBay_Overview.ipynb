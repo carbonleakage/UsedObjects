{
 "cells": [
  {
   "cell_type": "code",
   "execution_count": 1,
   "id": "reverse-picking",
   "metadata": {
    "execution": {
     "iopub.execute_input": "2021-10-07T21:30:07.424735Z",
     "iopub.status.busy": "2021-10-07T21:30:07.422722Z",
     "iopub.status.idle": "2021-10-07T21:30:08.234221Z",
     "shell.execute_reply": "2021-10-07T21:30:08.232688Z"
    },
    "papermill": {
     "duration": 0.862897,
     "end_time": "2021-10-07T21:30:08.234601",
     "exception": false,
     "start_time": "2021-10-07T21:30:07.371704",
     "status": "completed"
    },
    "tags": []
   },
   "outputs": [],
   "source": [
    "import pandas as pd\n",
    "import sqlite3"
   ]
  },
  {
   "cell_type": "code",
   "execution_count": 2,
   "id": "innovative-syndrome",
   "metadata": {
    "execution": {
     "iopub.execute_input": "2021-10-07T21:30:08.288107Z",
     "iopub.status.busy": "2021-10-07T21:30:08.285741Z",
     "iopub.status.idle": "2021-10-07T21:30:08.758063Z",
     "shell.execute_reply": "2021-10-07T21:30:08.759320Z"
    },
    "papermill": {
     "duration": 0.502591,
     "end_time": "2021-10-07T21:30:08.759720",
     "exception": false,
     "start_time": "2021-10-07T21:30:08.257129",
     "status": "completed"
    },
    "tags": []
   },
   "outputs": [],
   "source": [
    "timestamps = pd.read_sql(\"select distinct record_time from EBAY_TOP_BERLIN order by record_time desc limit 2\", sqlite3.connect(\"UsedObjects.db\"))"
   ]
  },
  {
   "cell_type": "code",
   "execution_count": 3,
   "id": "periodic-identification",
   "metadata": {
    "execution": {
     "iopub.execute_input": "2021-10-07T21:30:08.828132Z",
     "iopub.status.busy": "2021-10-07T21:30:08.823063Z",
     "iopub.status.idle": "2021-10-07T21:30:08.843351Z",
     "shell.execute_reply": "2021-10-07T21:30:08.844559Z"
    },
    "papermill": {
     "duration": 0.065504,
     "end_time": "2021-10-07T21:30:08.844988",
     "exception": false,
     "start_time": "2021-10-07T21:30:08.779484",
     "status": "completed"
    },
    "tags": []
   },
   "outputs": [
    {
     "data": {
      "text/html": [
       "<div>\n",
       "<style scoped>\n",
       "    .dataframe tbody tr th:only-of-type {\n",
       "        vertical-align: middle;\n",
       "    }\n",
       "\n",
       "    .dataframe tbody tr th {\n",
       "        vertical-align: top;\n",
       "    }\n",
       "\n",
       "    .dataframe thead th {\n",
       "        text-align: right;\n",
       "    }\n",
       "</style>\n",
       "<table border=\"1\" class=\"dataframe\">\n",
       "  <thead>\n",
       "    <tr style=\"text-align: right;\">\n",
       "      <th></th>\n",
       "      <th>RECORD_TIME</th>\n",
       "    </tr>\n",
       "  </thead>\n",
       "  <tbody>\n",
       "    <tr>\n",
       "      <th>0</th>\n",
       "      <td>2021-10-07 23:30</td>\n",
       "    </tr>\n",
       "    <tr>\n",
       "      <th>1</th>\n",
       "      <td>2021-10-07 23:00</td>\n",
       "    </tr>\n",
       "  </tbody>\n",
       "</table>\n",
       "</div>"
      ],
      "text/plain": [
       "        RECORD_TIME\n",
       "0  2021-10-07 23:30\n",
       "1  2021-10-07 23:00"
      ]
     },
     "execution_count": 3,
     "metadata": {},
     "output_type": "execute_result"
    }
   ],
   "source": [
    "timestamps"
   ]
  },
  {
   "cell_type": "code",
   "execution_count": 4,
   "id": "alternate-victory",
   "metadata": {
    "execution": {
     "iopub.execute_input": "2021-10-07T21:30:08.911528Z",
     "iopub.status.busy": "2021-10-07T21:30:08.909438Z",
     "iopub.status.idle": "2021-10-07T21:30:09.608786Z",
     "shell.execute_reply": "2021-10-07T21:30:09.610058Z"
    },
    "papermill": {
     "duration": 0.735834,
     "end_time": "2021-10-07T21:30:09.610472",
     "exception": false,
     "start_time": "2021-10-07T21:30:08.874638",
     "status": "completed"
    },
    "tags": []
   },
   "outputs": [],
   "source": [
    "df = pd.read_sql(\"select * from EBAY_TOP_BERLIN where record_time in (select distinct record_time from EBAY_TOP_BERLIN order by record_time desc limit 2)\", sqlite3.connect(\"UsedObjects.db\"))"
   ]
  },
  {
   "cell_type": "code",
   "execution_count": 5,
   "id": "popular-active",
   "metadata": {
    "execution": {
     "iopub.execute_input": "2021-10-07T21:30:09.681538Z",
     "iopub.status.busy": "2021-10-07T21:30:09.669790Z",
     "iopub.status.idle": "2021-10-07T21:30:09.697368Z",
     "shell.execute_reply": "2021-10-07T21:30:09.698583Z"
    },
    "papermill": {
     "duration": 0.068547,
     "end_time": "2021-10-07T21:30:09.699165",
     "exception": false,
     "start_time": "2021-10-07T21:30:09.630618",
     "status": "completed"
    },
    "tags": []
   },
   "outputs": [],
   "source": [
    "df_pivot = df.pivot_table(index=\"PRODUCT\", columns = \"RECORD_TIME\", values = \"LISTING_COUNT\")"
   ]
  },
  {
   "cell_type": "code",
   "execution_count": 6,
   "id": "union-huntington",
   "metadata": {
    "execution": {
     "iopub.execute_input": "2021-10-07T21:30:09.758595Z",
     "iopub.status.busy": "2021-10-07T21:30:09.756151Z",
     "iopub.status.idle": "2021-10-07T21:30:09.761964Z",
     "shell.execute_reply": "2021-10-07T21:30:09.763217Z"
    },
    "papermill": {
     "duration": 0.042214,
     "end_time": "2021-10-07T21:30:09.763651",
     "exception": false,
     "start_time": "2021-10-07T21:30:09.721437",
     "status": "completed"
    },
    "tags": []
   },
   "outputs": [],
   "source": [
    "df_pivot.columns = [\"stamp_1\", \"stamp_2\"]\n",
    "df_pivot_diff = df_pivot.diff(axis=1)"
   ]
  },
  {
   "cell_type": "code",
   "execution_count": 7,
   "id": "fifth-motion",
   "metadata": {
    "execution": {
     "iopub.execute_input": "2021-10-07T21:30:09.818201Z",
     "iopub.status.busy": "2021-10-07T21:30:09.815896Z",
     "iopub.status.idle": "2021-10-07T21:30:11.309621Z",
     "shell.execute_reply": "2021-10-07T21:30:11.311115Z"
    },
    "papermill": {
     "duration": 1.526825,
     "end_time": "2021-10-07T21:30:11.311571",
     "exception": false,
     "start_time": "2021-10-07T21:30:09.784746",
     "status": "completed"
    },
    "tags": []
   },
   "outputs": [
    {
     "data": {
      "text/plain": [
       "<AxesSubplot:ylabel='PRODUCT'>"
      ]
     },
     "execution_count": 7,
     "metadata": {},
     "output_type": "execute_result"
    },
    {
     "data": {
      "image/png": "[encoded data removed]",
      "text/plain": [
       "<Figure size 432x288 with 1 Axes>"
      ]
     },
     "metadata": {
      "needs_background": "light"
     },
     "output_type": "display_data"
    }
   ],
   "source": [
    "df_pivot_diff.sort_values(\"stamp_2\", ascending = False)[\"stamp_2\"].head(10).plot.barh()"
   ]
  },
  {
   "cell_type": "code",
   "execution_count": null,
   "id": "extra-executive",
   "metadata": {
    "papermill": {
     "duration": 0.02225,
     "end_time": "2021-10-07T21:30:11.359713",
     "exception": false,
     "start_time": "2021-10-07T21:30:11.337463",
     "status": "completed"
    },
    "tags": []
   },
   "outputs": [],
   "source": []
  }
 ],
 "metadata": {
  "kernelspec": {
   "display_name": "Python 3",
   "language": "python",
   "name": "python3"
  },
  "language_info": {
   "codemirror_mode": {
    "name": "ipython",
    "version": 3
   },
   "file_extension": ".py",
   "mimetype": "text/x-python",
   "name": "python",
   "nbconvert_exporter": "python",
   "pygments_lexer": "ipython3",
   "version": "3.9.5"
  },
  "papermill": {
   "default_parameters": {},
   "duration": 7.838265,
   "end_time": "2021-10-07T21:30:12.787864",
   "environment_variables": {},
   "exception": null,
   "input_path": "eBay_Overview.ipynb",
   "output_path": "eBay_Overview.ipynb",
   "parameters": {},
   "start_time": "2021-10-07T21:30:04.949599",
   "version": "2.3.3"
  }
 },
 "nbformat": 4,
 "nbformat_minor": 5
}