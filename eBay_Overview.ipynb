{
 "cells": [
  {
   "cell_type": "code",
   "execution_count": 1,
   "id": "reverse-picking",
   "metadata": {
    "execution": {
     "iopub.execute_input": "2021-10-07T00:00:06.469093Z",
     "iopub.status.busy": "2021-10-07T00:00:06.467074Z",
     "iopub.status.idle": "2021-10-07T00:00:07.273597Z",
     "shell.execute_reply": "2021-10-07T00:00:07.274965Z"
    },
    "papermill": {
     "duration": 0.857599,
     "end_time": "2021-10-07T00:00:07.275627",
     "exception": false,
     "start_time": "2021-10-07T00:00:06.418028",
     "status": "completed"
    },
    "tags": []
   },
   "outputs": [],
   "source": [
    "import pandas as pd\n",
    "import sqlite3"
   ]
  },
  {
   "cell_type": "code",
   "execution_count": 2,
   "id": "innovative-syndrome",
   "metadata": {
    "execution": {
     "iopub.execute_input": "2021-10-07T00:00:07.326699Z",
     "iopub.status.busy": "2021-10-07T00:00:07.324746Z",
     "iopub.status.idle": "2021-10-07T00:00:07.797108Z",
     "shell.execute_reply": "2021-10-07T00:00:07.798374Z"
    },
    "papermill": {
     "duration": 0.50272,
     "end_time": "2021-10-07T00:00:07.798838",
     "exception": false,
     "start_time": "2021-10-07T00:00:07.296118",
     "status": "completed"
    },
    "tags": []
   },
   "outputs": [],
   "source": [
    "timestamps = pd.read_sql(\"select distinct record_time from EBAY_TOP_BERLIN order by record_time desc limit 2\", sqlite3.connect(\"UsedObjects.db\"))"
   ]
  },
  {
   "cell_type": "code",
   "execution_count": 3,
   "id": "periodic-identification",
   "metadata": {
    "execution": {
     "iopub.execute_input": "2021-10-07T00:00:07.863719Z",
     "iopub.status.busy": "2021-10-07T00:00:07.861654Z",
     "iopub.status.idle": "2021-10-07T00:00:07.881653Z",
     "shell.execute_reply": "2021-10-07T00:00:07.883027Z"
    },
    "papermill": {
     "duration": 0.065219,
     "end_time": "2021-10-07T00:00:07.883494",
     "exception": false,
     "start_time": "2021-10-07T00:00:07.818275",
     "status": "completed"
    },
    "tags": []
   },
   "outputs": [
    {
     "data": {
      "text/html": [
       "<div>\n",
       "<style scoped>\n",
       "    .dataframe tbody tr th:only-of-type {\n",
       "        vertical-align: middle;\n",
       "    }\n",
       "\n",
       "    .dataframe tbody tr th {\n",
       "        vertical-align: top;\n",
       "    }\n",
       "\n",
       "    .dataframe thead th {\n",
       "        text-align: right;\n",
       "    }\n",
       "</style>\n",
       "<table border=\"1\" class=\"dataframe\">\n",
       "  <thead>\n",
       "    <tr style=\"text-align: right;\">\n",
       "      <th></th>\n",
       "      <th>RECORD_TIME</th>\n",
       "    </tr>\n",
       "  </thead>\n",
       "  <tbody>\n",
       "    <tr>\n",
       "      <th>0</th>\n",
       "      <td>2021-10-07 02:00</td>\n",
       "    </tr>\n",
       "    <tr>\n",
       "      <th>1</th>\n",
       "      <td>2021-10-07 01:30</td>\n",
       "    </tr>\n",
       "  </tbody>\n",
       "</table>\n",
       "</div>"
      ],
      "text/plain": [
       "        RECORD_TIME\n",
       "0  2021-10-07 02:00\n",
       "1  2021-10-07 01:30"
      ]
     },
     "execution_count": 3,
     "metadata": {},
     "output_type": "execute_result"
    }
   ],
   "source": [
    "timestamps"
   ]
  },
  {
   "cell_type": "code",
   "execution_count": 4,
   "id": "alternate-victory",
   "metadata": {
    "execution": {
     "iopub.execute_input": "2021-10-07T00:00:07.944262Z",
     "iopub.status.busy": "2021-10-07T00:00:07.942295Z",
     "iopub.status.idle": "2021-10-07T00:00:08.622983Z",
     "shell.execute_reply": "2021-10-07T00:00:08.624205Z"
    },
    "papermill": {
     "duration": 0.714005,
     "end_time": "2021-10-07T00:00:08.624598",
     "exception": false,
     "start_time": "2021-10-07T00:00:07.910593",
     "status": "completed"
    },
    "tags": []
   },
   "outputs": [],
   "source": [
    "df = pd.read_sql(\"select * from EBAY_TOP_BERLIN where record_time in (select distinct record_time from EBAY_TOP_BERLIN order by record_time desc limit 2)\", sqlite3.connect(\"UsedObjects.db\"))"
   ]
  },
  {
   "cell_type": "code",
   "execution_count": 5,
   "id": "popular-active",
   "metadata": {
    "execution": {
     "iopub.execute_input": "2021-10-07T00:00:08.700071Z",
     "iopub.status.busy": "2021-10-07T00:00:08.687576Z",
     "iopub.status.idle": "2021-10-07T00:00:08.715488Z",
     "shell.execute_reply": "2021-10-07T00:00:08.716709Z"
    },
    "papermill": {
     "duration": 0.068716,
     "end_time": "2021-10-07T00:00:08.717101",
     "exception": false,
     "start_time": "2021-10-07T00:00:08.648385",
     "status": "completed"
    },
    "tags": []
   },
   "outputs": [],
   "source": [
    "df_pivot = df.pivot_table(index=\"PRODUCT\", columns = \"RECORD_TIME\", values = \"LISTING_COUNT\")"
   ]
  },
  {
   "cell_type": "code",
   "execution_count": 6,
   "id": "union-huntington",
   "metadata": {
    "execution": {
     "iopub.execute_input": "2021-10-07T00:00:08.777606Z",
     "iopub.status.busy": "2021-10-07T00:00:08.775172Z",
     "iopub.status.idle": "2021-10-07T00:00:08.782749Z",
     "shell.execute_reply": "2021-10-07T00:00:08.781171Z"
    },
    "papermill": {
     "duration": 0.042823,
     "end_time": "2021-10-07T00:00:08.783186",
     "exception": false,
     "start_time": "2021-10-07T00:00:08.740363",
     "status": "completed"
    },
    "tags": []
   },
   "outputs": [],
   "source": [
    "df_pivot.columns = [\"stamp_1\", \"stamp_2\"]\n",
    "df_pivot_diff = df_pivot.diff(axis=1)"
   ]
  },
  {
   "cell_type": "code",
   "execution_count": 7,
   "id": "fifth-motion",
   "metadata": {
    "execution": {
     "iopub.execute_input": "2021-10-07T00:00:08.839208Z",
     "iopub.status.busy": "2021-10-07T00:00:08.836385Z",
     "iopub.status.idle": "2021-10-07T00:00:10.353205Z",
     "shell.execute_reply": "2021-10-07T00:00:10.354560Z"
    },
    "papermill": {
     "duration": 1.550093,
     "end_time": "2021-10-07T00:00:10.355056",
     "exception": false,
     "start_time": "2021-10-07T00:00:08.804963",
     "status": "completed"
    },
    "tags": []
   },
   "outputs": [
    {
     "data": {
      "text/plain": [
       "<AxesSubplot:ylabel='PRODUCT'>"
      ]
     },
     "execution_count": 7,
     "metadata": {},
     "output_type": "execute_result"
    },
    {
     "data": {
      "image/png": "[encoded data removed]",
      "text/plain": [
       "<Figure size 432x288 with 1 Axes>"
      ]
     },
     "metadata": {
      "needs_background": "light"
     },
     "output_type": "display_data"
    }
   ],
   "source": [
    "df_pivot_diff.sort_values(\"stamp_2\", ascending = False)[\"stamp_2\"].head(10).plot.barh()"
   ]
  },
  {
   "cell_type": "code",
   "execution_count": null,
   "id": "extra-executive",
   "metadata": {
    "papermill": {
     "duration": 0.022652,
     "end_time": "2021-10-07T00:00:10.401835",
     "exception": false,
     "start_time": "2021-10-07T00:00:10.379183",
     "status": "completed"
    },
    "tags": []
   },
   "outputs": [],
   "source": []
  }
 ],
 "metadata": {
  "kernelspec": {
   "display_name": "Python 3",
   "language": "python",
   "name": "python3"
  },
  "language_info": {
   "codemirror_mode": {
    "name": "ipython",
    "version": 3
   },
   "file_extension": ".py",
   "mimetype": "text/x-python",
   "name": "python",
   "nbconvert_exporter": "python",
   "pygments_lexer": "ipython3",
   "version": "3.9.5"
  },
  "papermill": {
   "default_parameters": {},
   "duration": 7.82804,
   "end_time": "2021-10-07T00:00:11.842110",
   "environment_variables": {},
   "exception": null,
   "input_path": "eBay_Overview.ipynb",
   "output_path": "eBay_Overview.ipynb",
   "parameters": {},
   "start_time": "2021-10-07T00:00:04.014070",
   "version": "2.3.3"
  }
 },
 "nbformat": 4,
 "nbformat_minor": 5
}