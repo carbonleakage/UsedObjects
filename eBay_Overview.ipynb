{
 "cells": [
  {
   "cell_type": "code",
   "execution_count": 1,
   "id": "reverse-picking",
   "metadata": {
    "execution": {
     "iopub.execute_input": "2021-11-07T06:30:08.183859Z",
     "iopub.status.busy": "2021-11-07T06:30:08.181065Z",
     "iopub.status.idle": "2021-11-07T06:30:09.126569Z",
     "shell.execute_reply": "2021-11-07T06:30:09.128047Z"
    },
    "papermill": {
     "duration": 0.994954,
     "end_time": "2021-11-07T06:30:09.128824",
     "exception": false,
     "start_time": "2021-11-07T06:30:08.133870",
     "status": "completed"
    },
    "tags": []
   },
   "outputs": [],
   "source": [
    "import pandas as pd\n",
    "import sqlite3"
   ]
  },
  {
   "cell_type": "code",
   "execution_count": 2,
   "id": "innovative-syndrome",
   "metadata": {
    "execution": {
     "iopub.execute_input": "2021-11-07T06:30:09.188838Z",
     "iopub.status.busy": "2021-11-07T06:30:09.186605Z",
     "iopub.status.idle": "2021-11-07T06:30:09.943798Z",
     "shell.execute_reply": "2021-11-07T06:30:09.945386Z"
    },
    "papermill": {
     "duration": 0.795858,
     "end_time": "2021-11-07T06:30:09.945882",
     "exception": false,
     "start_time": "2021-11-07T06:30:09.150024",
     "status": "completed"
    },
    "tags": []
   },
   "outputs": [],
   "source": [
    "timestamps = pd.read_sql(\"select distinct record_time from EBAY_TOP_BERLIN order by record_time desc limit 2\", sqlite3.connect(\"UsedObjects.db\"))"
   ]
  },
  {
   "cell_type": "code",
   "execution_count": 3,
   "id": "periodic-identification",
   "metadata": {
    "execution": {
     "iopub.execute_input": "2021-11-07T06:30:10.021347Z",
     "iopub.status.busy": "2021-11-07T06:30:10.015486Z",
     "iopub.status.idle": "2021-11-07T06:30:10.038443Z",
     "shell.execute_reply": "2021-11-07T06:30:10.039923Z"
    },
    "papermill": {
     "duration": 0.073457,
     "end_time": "2021-11-07T06:30:10.040430",
     "exception": false,
     "start_time": "2021-11-07T06:30:09.966973",
     "status": "completed"
    },
    "tags": []
   },
   "outputs": [
    {
     "data": {
      "text/html": [
       "<div>\n",
       "<style scoped>\n",
       "    .dataframe tbody tr th:only-of-type {\n",
       "        vertical-align: middle;\n",
       "    }\n",
       "\n",
       "    .dataframe tbody tr th {\n",
       "        vertical-align: top;\n",
       "    }\n",
       "\n",
       "    .dataframe thead th {\n",
       "        text-align: right;\n",
       "    }\n",
       "</style>\n",
       "<table border=\"1\" class=\"dataframe\">\n",
       "  <thead>\n",
       "    <tr style=\"text-align: right;\">\n",
       "      <th></th>\n",
       "      <th>RECORD_TIME</th>\n",
       "    </tr>\n",
       "  </thead>\n",
       "  <tbody>\n",
       "    <tr>\n",
       "      <th>0</th>\n",
       "      <td>2021-11-07 07:30</td>\n",
       "    </tr>\n",
       "    <tr>\n",
       "      <th>1</th>\n",
       "      <td>2021-11-07 07:00</td>\n",
       "    </tr>\n",
       "  </tbody>\n",
       "</table>\n",
       "</div>"
      ],
      "text/plain": [
       "        RECORD_TIME\n",
       "0  2021-11-07 07:30\n",
       "1  2021-11-07 07:00"
      ]
     },
     "execution_count": 3,
     "metadata": {},
     "output_type": "execute_result"
    }
   ],
   "source": [
    "timestamps"
   ]
  },
  {
   "cell_type": "code",
   "execution_count": 4,
   "id": "alternate-victory",
   "metadata": {
    "execution": {
     "iopub.execute_input": "2021-11-07T06:30:10.110175Z",
     "iopub.status.busy": "2021-11-07T06:30:10.107200Z",
     "iopub.status.idle": "2021-11-07T06:30:11.193894Z",
     "shell.execute_reply": "2021-11-07T06:30:11.195370Z"
    },
    "papermill": {
     "duration": 1.133448,
     "end_time": "2021-11-07T06:30:11.195833",
     "exception": false,
     "start_time": "2021-11-07T06:30:10.062385",
     "status": "completed"
    },
    "tags": []
   },
   "outputs": [],
   "source": [
    "df = pd.read_sql(\"select * from EBAY_TOP_BERLIN where record_time in (select distinct record_time from EBAY_TOP_BERLIN order by record_time desc limit 2)\", sqlite3.connect(\"UsedObjects.db\"))"
   ]
  },
  {
   "cell_type": "code",
   "execution_count": 5,
   "id": "popular-active",
   "metadata": {
    "execution": {
     "iopub.execute_input": "2021-11-07T06:30:11.274216Z",
     "iopub.status.busy": "2021-11-07T06:30:11.256334Z",
     "iopub.status.idle": "2021-11-07T06:30:11.294151Z",
     "shell.execute_reply": "2021-11-07T06:30:11.295800Z"
    },
    "papermill": {
     "duration": 0.080317,
     "end_time": "2021-11-07T06:30:11.296336",
     "exception": false,
     "start_time": "2021-11-07T06:30:11.216019",
     "status": "completed"
    },
    "tags": []
   },
   "outputs": [],
   "source": [
    "df_pivot = df.pivot_table(index=\"PRODUCT\", columns = \"RECORD_TIME\", values = \"LISTING_COUNT\")"
   ]
  },
  {
   "cell_type": "code",
   "execution_count": 6,
   "id": "union-huntington",
   "metadata": {
    "execution": {
     "iopub.execute_input": "2021-11-07T06:30:11.350745Z",
     "iopub.status.busy": "2021-11-07T06:30:11.348479Z",
     "iopub.status.idle": "2021-11-07T06:30:11.377816Z",
     "shell.execute_reply": "2021-11-07T06:30:11.375766Z"
    },
    "papermill": {
     "duration": 0.061491,
     "end_time": "2021-11-07T06:30:11.378235",
     "exception": false,
     "start_time": "2021-11-07T06:30:11.316744",
     "status": "completed"
    },
    "tags": []
   },
   "outputs": [],
   "source": [
    "df_pivot.columns = [\"stamp_1\", \"stamp_2\"]\n",
    "df_pivot_diff = df_pivot.diff(axis=1)"
   ]
  },
  {
   "cell_type": "code",
   "execution_count": 7,
   "id": "fifth-motion",
   "metadata": {
    "execution": {
     "iopub.execute_input": "2021-11-07T06:30:11.436141Z",
     "iopub.status.busy": "2021-11-07T06:30:11.433685Z",
     "iopub.status.idle": "2021-11-07T06:30:13.199429Z",
     "shell.execute_reply": "2021-11-07T06:30:13.201085Z"
    },
    "papermill": {
     "duration": 1.802613,
     "end_time": "2021-11-07T06:30:13.201599",
     "exception": false,
     "start_time": "2021-11-07T06:30:11.398986",
     "status": "completed"
    },
    "tags": []
   },
   "outputs": [
    {
     "data": {
      "text/plain": [
       "<AxesSubplot:ylabel='PRODUCT'>"
      ]
     },
     "execution_count": 7,
     "metadata": {},
     "output_type": "execute_result"
    },
    {
     "data": {
      "image/png": "[encoded data removed]",
      "text/plain": [
       "<Figure size 432x288 with 1 Axes>"
      ]
     },
     "metadata": {
      "needs_background": "light"
     },
     "output_type": "display_data"
    }
   ],
   "source": [
    "df_pivot_diff.sort_values(\"stamp_2\", ascending = False)[\"stamp_2\"].head(10).plot.barh()"
   ]
  },
  {
   "cell_type": "code",
   "execution_count": null,
   "id": "extra-executive",
   "metadata": {
    "papermill": {
     "duration": 0.02329,
     "end_time": "2021-11-07T06:30:13.250261",
     "exception": false,
     "start_time": "2021-11-07T06:30:13.226971",
     "status": "completed"
    },
    "tags": []
   },
   "outputs": [],
   "source": []
  }
 ],
 "metadata": {
  "kernelspec": {
   "display_name": "Python 3",
   "language": "python",
   "name": "python3"
  },
  "language_info": {
   "codemirror_mode": {
    "name": "ipython",
    "version": 3
   },
   "file_extension": ".py",
   "mimetype": "text/x-python",
   "name": "python",
   "nbconvert_exporter": "python",
   "pygments_lexer": "ipython3",
   "version": "3.9.5"
  },
  "papermill": {
   "default_parameters": {},
   "duration": 8.660979,
   "end_time": "2021-11-07T06:30:13.995346",
   "environment_variables": {},
   "exception": null,
   "input_path": "eBay_Overview.ipynb",
   "output_path": "eBay_Overview.ipynb",
   "parameters": {},
   "start_time": "2021-11-07T06:30:05.334367",
   "version": "2.3.3"
  }
 },
 "nbformat": 4,
 "nbformat_minor": 5
}