{
 "cells": [
  {
   "cell_type": "code",
   "execution_count": 1,
   "id": "reverse-picking",
   "metadata": {
    "execution": {
     "iopub.execute_input": "2021-09-26T20:00:07.096577Z",
     "iopub.status.busy": "2021-09-26T20:00:07.094594Z",
     "iopub.status.idle": "2021-09-26T20:00:07.903409Z",
     "shell.execute_reply": "2021-09-26T20:00:07.901673Z"
    },
    "papermill": {
     "duration": 0.85742,
     "end_time": "2021-09-26T20:00:07.903829",
     "exception": false,
     "start_time": "2021-09-26T20:00:07.046409",
     "status": "completed"
    },
    "tags": []
   },
   "outputs": [],
   "source": [
    "import pandas as pd\n",
    "import sqlite3"
   ]
  },
  {
   "cell_type": "code",
   "execution_count": 2,
   "id": "innovative-syndrome",
   "metadata": {
    "execution": {
     "iopub.execute_input": "2021-09-26T20:00:07.956131Z",
     "iopub.status.busy": "2021-09-26T20:00:07.953775Z",
     "iopub.status.idle": "2021-09-26T20:00:08.348820Z",
     "shell.execute_reply": "2021-09-26T20:00:08.350065Z"
    },
    "papermill": {
     "duration": 0.425146,
     "end_time": "2021-09-26T20:00:08.350470",
     "exception": false,
     "start_time": "2021-09-26T20:00:07.925324",
     "status": "completed"
    },
    "tags": []
   },
   "outputs": [],
   "source": [
    "timestamps = pd.read_sql(\"select distinct record_time from EBAY_TOP_BERLIN order by record_time desc limit 2\", sqlite3.connect(\"UsedObjects.db\"))"
   ]
  },
  {
   "cell_type": "code",
   "execution_count": 3,
   "id": "periodic-identification",
   "metadata": {
    "execution": {
     "iopub.execute_input": "2021-09-26T20:00:08.417518Z",
     "iopub.status.busy": "2021-09-26T20:00:08.415553Z",
     "iopub.status.idle": "2021-09-26T20:00:08.435451Z",
     "shell.execute_reply": "2021-09-26T20:00:08.436725Z"
    },
    "papermill": {
     "duration": 0.066937,
     "end_time": "2021-09-26T20:00:08.437132",
     "exception": false,
     "start_time": "2021-09-26T20:00:08.370195",
     "status": "completed"
    },
    "tags": []
   },
   "outputs": [
    {
     "data": {
      "text/html": [
       "<div>\n",
       "<style scoped>\n",
       "    .dataframe tbody tr th:only-of-type {\n",
       "        vertical-align: middle;\n",
       "    }\n",
       "\n",
       "    .dataframe tbody tr th {\n",
       "        vertical-align: top;\n",
       "    }\n",
       "\n",
       "    .dataframe thead th {\n",
       "        text-align: right;\n",
       "    }\n",
       "</style>\n",
       "<table border=\"1\" class=\"dataframe\">\n",
       "  <thead>\n",
       "    <tr style=\"text-align: right;\">\n",
       "      <th></th>\n",
       "      <th>RECORD_TIME</th>\n",
       "    </tr>\n",
       "  </thead>\n",
       "  <tbody>\n",
       "    <tr>\n",
       "      <th>0</th>\n",
       "      <td>2021-09-26 22:00</td>\n",
       "    </tr>\n",
       "    <tr>\n",
       "      <th>1</th>\n",
       "      <td>2021-09-26 21:30</td>\n",
       "    </tr>\n",
       "  </tbody>\n",
       "</table>\n",
       "</div>"
      ],
      "text/plain": [
       "        RECORD_TIME\n",
       "0  2021-09-26 22:00\n",
       "1  2021-09-26 21:30"
      ]
     },
     "execution_count": 3,
     "metadata": {},
     "output_type": "execute_result"
    }
   ],
   "source": [
    "timestamps"
   ]
  },
  {
   "cell_type": "code",
   "execution_count": 4,
   "id": "alternate-victory",
   "metadata": {
    "execution": {
     "iopub.execute_input": "2021-09-26T20:00:08.490870Z",
     "iopub.status.busy": "2021-09-26T20:00:08.488593Z",
     "iopub.status.idle": "2021-09-26T20:00:09.072007Z",
     "shell.execute_reply": "2021-09-26T20:00:09.073252Z"
    },
    "papermill": {
     "duration": 0.614815,
     "end_time": "2021-09-26T20:00:09.073649",
     "exception": false,
     "start_time": "2021-09-26T20:00:08.458834",
     "status": "completed"
    },
    "tags": []
   },
   "outputs": [],
   "source": [
    "df = pd.read_sql(\"select * from EBAY_TOP_BERLIN where record_time in (select distinct record_time from EBAY_TOP_BERLIN order by record_time desc limit 2)\", sqlite3.connect(\"UsedObjects.db\"))"
   ]
  },
  {
   "cell_type": "code",
   "execution_count": 5,
   "id": "popular-active",
   "metadata": {
    "execution": {
     "iopub.execute_input": "2021-09-26T20:00:09.144082Z",
     "iopub.status.busy": "2021-09-26T20:00:09.132363Z",
     "iopub.status.idle": "2021-09-26T20:00:09.160714Z",
     "shell.execute_reply": "2021-09-26T20:00:09.161898Z"
    },
    "papermill": {
     "duration": 0.068184,
     "end_time": "2021-09-26T20:00:09.162286",
     "exception": false,
     "start_time": "2021-09-26T20:00:09.094102",
     "status": "completed"
    },
    "tags": []
   },
   "outputs": [],
   "source": [
    "df_pivot = df.pivot_table(index=\"PRODUCT\", columns = \"RECORD_TIME\", values = \"LISTING_COUNT\")"
   ]
  },
  {
   "cell_type": "code",
   "execution_count": 6,
   "id": "union-huntington",
   "metadata": {
    "execution": {
     "iopub.execute_input": "2021-09-26T20:00:09.217879Z",
     "iopub.status.busy": "2021-09-26T20:00:09.215767Z",
     "iopub.status.idle": "2021-09-26T20:00:09.221268Z",
     "shell.execute_reply": "2021-09-26T20:00:09.222607Z"
    },
    "papermill": {
     "duration": 0.040892,
     "end_time": "2021-09-26T20:00:09.223244",
     "exception": false,
     "start_time": "2021-09-26T20:00:09.182352",
     "status": "completed"
    },
    "tags": []
   },
   "outputs": [],
   "source": [
    "df_pivot.columns = [\"stamp_1\", \"stamp_2\"]\n",
    "df_pivot_diff = df_pivot.diff(axis=1)"
   ]
  },
  {
   "cell_type": "code",
   "execution_count": 7,
   "id": "fifth-motion",
   "metadata": {
    "execution": {
     "iopub.execute_input": "2021-09-26T20:00:09.278404Z",
     "iopub.status.busy": "2021-09-26T20:00:09.275774Z",
     "iopub.status.idle": "2021-09-26T20:00:10.754518Z",
     "shell.execute_reply": "2021-09-26T20:00:10.755939Z"
    },
    "papermill": {
     "duration": 1.512635,
     "end_time": "2021-09-26T20:00:10.756379",
     "exception": false,
     "start_time": "2021-09-26T20:00:09.243744",
     "status": "completed"
    },
    "tags": []
   },
   "outputs": [
    {
     "data": {
      "text/plain": [
       "<AxesSubplot:ylabel='PRODUCT'>"
      ]
     },
     "execution_count": 7,
     "metadata": {},
     "output_type": "execute_result"
    },
    {
     "data": {
      "image/png": "[encoded data removed]",
      "text/plain": [
       "<Figure size 432x288 with 1 Axes>"
      ]
     },
     "metadata": {
      "needs_background": "light"
     },
     "output_type": "display_data"
    }
   ],
   "source": [
    "df_pivot_diff.sort_values(\"stamp_2\", ascending = False)[\"stamp_2\"].head(10).plot.barh()"
   ]
  },
  {
   "cell_type": "code",
   "execution_count": null,
   "id": "extra-executive",
   "metadata": {
    "papermill": {
     "duration": 0.022053,
     "end_time": "2021-09-26T20:00:10.802026",
     "exception": false,
     "start_time": "2021-09-26T20:00:10.779973",
     "status": "completed"
    },
    "tags": []
   },
   "outputs": [],
   "source": []
  }
 ],
 "metadata": {
  "kernelspec": {
   "display_name": "Python 3",
   "language": "python",
   "name": "python3"
  },
  "language_info": {
   "codemirror_mode": {
    "name": "ipython",
    "version": 3
   },
   "file_extension": ".py",
   "mimetype": "text/x-python",
   "name": "python",
   "nbconvert_exporter": "python",
   "pygments_lexer": "ipython3",
   "version": "3.9.5"
  },
  "papermill": {
   "default_parameters": {},
   "duration": 6.799932,
   "end_time": "2021-09-26T20:00:11.444950",
   "environment_variables": {},
   "exception": null,
   "input_path": "eBay_Overview.ipynb",
   "output_path": "eBay_Overview.ipynb",
   "parameters": {},
   "start_time": "2021-09-26T20:00:04.645018",
   "version": "2.3.3"
  }
 },
 "nbformat": 4,
 "nbformat_minor": 5
}