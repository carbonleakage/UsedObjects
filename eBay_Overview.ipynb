{
 "cells": [
  {
   "cell_type": "code",
   "execution_count": 1,
   "id": "reverse-picking",
   "metadata": {
    "execution": {
     "iopub.execute_input": "2021-10-28T00:00:07.390691Z",
     "iopub.status.busy": "2021-10-28T00:00:07.388761Z",
     "iopub.status.idle": "2021-10-28T00:00:08.192146Z",
     "shell.execute_reply": "2021-10-28T00:00:08.193530Z"
    },
    "papermill": {
     "duration": 0.856373,
     "end_time": "2021-10-28T00:00:08.194197",
     "exception": false,
     "start_time": "2021-10-28T00:00:07.337824",
     "status": "completed"
    },
    "tags": []
   },
   "outputs": [],
   "source": [
    "import pandas as pd\n",
    "import sqlite3"
   ]
  },
  {
   "cell_type": "code",
   "execution_count": 2,
   "id": "innovative-syndrome",
   "metadata": {
    "execution": {
     "iopub.execute_input": "2021-10-28T00:00:08.244617Z",
     "iopub.status.busy": "2021-10-28T00:00:08.242676Z",
     "iopub.status.idle": "2021-10-28T00:00:08.901164Z",
     "shell.execute_reply": "2021-10-28T00:00:08.902352Z"
    },
    "papermill": {
     "duration": 0.688161,
     "end_time": "2021-10-28T00:00:08.902750",
     "exception": false,
     "start_time": "2021-10-28T00:00:08.214589",
     "status": "completed"
    },
    "tags": []
   },
   "outputs": [],
   "source": [
    "timestamps = pd.read_sql(\"select distinct record_time from EBAY_TOP_BERLIN order by record_time desc limit 2\", sqlite3.connect(\"UsedObjects.db\"))"
   ]
  },
  {
   "cell_type": "code",
   "execution_count": 3,
   "id": "periodic-identification",
   "metadata": {
    "execution": {
     "iopub.execute_input": "2021-10-28T00:00:08.985862Z",
     "iopub.status.busy": "2021-10-28T00:00:08.983794Z",
     "iopub.status.idle": "2021-10-28T00:00:09.006406Z",
     "shell.execute_reply": "2021-10-28T00:00:09.007662Z"
    },
    "papermill": {
     "duration": 0.074226,
     "end_time": "2021-10-28T00:00:09.008086",
     "exception": false,
     "start_time": "2021-10-28T00:00:08.933860",
     "status": "completed"
    },
    "tags": []
   },
   "outputs": [
    {
     "data": {
      "text/html": [
       "<div>\n",
       "<style scoped>\n",
       "    .dataframe tbody tr th:only-of-type {\n",
       "        vertical-align: middle;\n",
       "    }\n",
       "\n",
       "    .dataframe tbody tr th {\n",
       "        vertical-align: top;\n",
       "    }\n",
       "\n",
       "    .dataframe thead th {\n",
       "        text-align: right;\n",
       "    }\n",
       "</style>\n",
       "<table border=\"1\" class=\"dataframe\">\n",
       "  <thead>\n",
       "    <tr style=\"text-align: right;\">\n",
       "      <th></th>\n",
       "      <th>RECORD_TIME</th>\n",
       "    </tr>\n",
       "  </thead>\n",
       "  <tbody>\n",
       "    <tr>\n",
       "      <th>0</th>\n",
       "      <td>2021-10-28 02:00</td>\n",
       "    </tr>\n",
       "    <tr>\n",
       "      <th>1</th>\n",
       "      <td>2021-10-28 01:30</td>\n",
       "    </tr>\n",
       "  </tbody>\n",
       "</table>\n",
       "</div>"
      ],
      "text/plain": [
       "        RECORD_TIME\n",
       "0  2021-10-28 02:00\n",
       "1  2021-10-28 01:30"
      ]
     },
     "execution_count": 3,
     "metadata": {},
     "output_type": "execute_result"
    }
   ],
   "source": [
    "timestamps"
   ]
  },
  {
   "cell_type": "code",
   "execution_count": 4,
   "id": "alternate-victory",
   "metadata": {
    "execution": {
     "iopub.execute_input": "2021-10-28T00:00:09.058775Z",
     "iopub.status.busy": "2021-10-28T00:00:09.056956Z",
     "iopub.status.idle": "2021-10-28T00:00:10.021046Z",
     "shell.execute_reply": "2021-10-28T00:00:10.019532Z"
    },
    "papermill": {
     "duration": 0.992753,
     "end_time": "2021-10-28T00:00:10.021418",
     "exception": false,
     "start_time": "2021-10-28T00:00:09.028665",
     "status": "completed"
    },
    "tags": []
   },
   "outputs": [],
   "source": [
    "df = pd.read_sql(\"select * from EBAY_TOP_BERLIN where record_time in (select distinct record_time from EBAY_TOP_BERLIN order by record_time desc limit 2)\", sqlite3.connect(\"UsedObjects.db\"))"
   ]
  },
  {
   "cell_type": "code",
   "execution_count": 5,
   "id": "popular-active",
   "metadata": {
    "execution": {
     "iopub.execute_input": "2021-10-28T00:00:10.093988Z",
     "iopub.status.busy": "2021-10-28T00:00:10.082156Z",
     "iopub.status.idle": "2021-10-28T00:00:10.109470Z",
     "shell.execute_reply": "2021-10-28T00:00:10.110676Z"
    },
    "papermill": {
     "duration": 0.067537,
     "end_time": "2021-10-28T00:00:10.111072",
     "exception": false,
     "start_time": "2021-10-28T00:00:10.043535",
     "status": "completed"
    },
    "tags": []
   },
   "outputs": [],
   "source": [
    "df_pivot = df.pivot_table(index=\"PRODUCT\", columns = \"RECORD_TIME\", values = \"LISTING_COUNT\")"
   ]
  },
  {
   "cell_type": "code",
   "execution_count": 6,
   "id": "union-huntington",
   "metadata": {
    "execution": {
     "iopub.execute_input": "2021-10-28T00:00:10.170063Z",
     "iopub.status.busy": "2021-10-28T00:00:10.167598Z",
     "iopub.status.idle": "2021-10-28T00:00:10.173470Z",
     "shell.execute_reply": "2021-10-28T00:00:10.174759Z"
    },
    "papermill": {
     "duration": 0.04221,
     "end_time": "2021-10-28T00:00:10.175178",
     "exception": false,
     "start_time": "2021-10-28T00:00:10.132968",
     "status": "completed"
    },
    "tags": []
   },
   "outputs": [],
   "source": [
    "df_pivot.columns = [\"stamp_1\", \"stamp_2\"]\n",
    "df_pivot_diff = df_pivot.diff(axis=1)"
   ]
  },
  {
   "cell_type": "code",
   "execution_count": 7,
   "id": "fifth-motion",
   "metadata": {
    "execution": {
     "iopub.execute_input": "2021-10-28T00:00:10.228944Z",
     "iopub.status.busy": "2021-10-28T00:00:10.226673Z",
     "iopub.status.idle": "2021-10-28T00:00:11.691930Z",
     "shell.execute_reply": "2021-10-28T00:00:11.693271Z"
    },
    "papermill": {
     "duration": 1.497862,
     "end_time": "2021-10-28T00:00:11.693699",
     "exception": false,
     "start_time": "2021-10-28T00:00:10.195837",
     "status": "completed"
    },
    "tags": []
   },
   "outputs": [
    {
     "data": {
      "text/plain": [
       "<AxesSubplot:ylabel='PRODUCT'>"
      ]
     },
     "execution_count": 7,
     "metadata": {},
     "output_type": "execute_result"
    },
    {
     "data": {
      "image/png": "[encoded data removed]",
      "text/plain": [
       "<Figure size 432x288 with 1 Axes>"
      ]
     },
     "metadata": {
      "needs_background": "light"
     },
     "output_type": "display_data"
    }
   ],
   "source": [
    "df_pivot_diff.sort_values(\"stamp_2\", ascending = False)[\"stamp_2\"].head(10).plot.barh()"
   ]
  },
  {
   "cell_type": "code",
   "execution_count": null,
   "id": "extra-executive",
   "metadata": {
    "papermill": {
     "duration": 0.022409,
     "end_time": "2021-10-28T00:00:11.740839",
     "exception": false,
     "start_time": "2021-10-28T00:00:11.718430",
     "status": "completed"
    },
    "tags": []
   },
   "outputs": [],
   "source": []
  }
 ],
 "metadata": {
  "kernelspec": {
   "display_name": "Python 3",
   "language": "python",
   "name": "python3"
  },
  "language_info": {
   "codemirror_mode": {
    "name": "ipython",
    "version": 3
   },
   "file_extension": ".py",
   "mimetype": "text/x-python",
   "name": "python",
   "nbconvert_exporter": "python",
   "pygments_lexer": "ipython3",
   "version": "3.9.5"
  },
  "papermill": {
   "default_parameters": {},
   "duration": 7.441531,
   "end_time": "2021-10-28T00:00:12.384366",
   "environment_variables": {},
   "exception": null,
   "input_path": "eBay_Overview.ipynb",
   "output_path": "eBay_Overview.ipynb",
   "parameters": {},
   "start_time": "2021-10-28T00:00:04.942835",
   "version": "2.3.3"
  }
 },
 "nbformat": 4,
 "nbformat_minor": 5
}