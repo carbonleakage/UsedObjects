{
 "cells": [
  {
   "cell_type": "code",
   "execution_count": 1,
   "id": "reverse-picking",
   "metadata": {
    "execution": {
     "iopub.execute_input": "2021-12-05T15:30:08.201086Z",
     "iopub.status.busy": "2021-12-05T15:30:08.198657Z",
     "iopub.status.idle": "2021-12-05T15:30:09.144591Z",
     "shell.execute_reply": "2021-12-05T15:30:09.146865Z"
    },
    "papermill": {
     "duration": 0.99599,
     "end_time": "2021-12-05T15:30:09.147610",
     "exception": false,
     "start_time": "2021-12-05T15:30:08.151620",
     "status": "completed"
    },
    "tags": []
   },
   "outputs": [],
   "source": [
    "import pandas as pd\n",
    "import sqlite3"
   ]
  },
  {
   "cell_type": "code",
   "execution_count": 2,
   "id": "innovative-syndrome",
   "metadata": {
    "execution": {
     "iopub.execute_input": "2021-12-05T15:30:09.268867Z",
     "iopub.status.busy": "2021-12-05T15:30:09.266530Z",
     "iopub.status.idle": "2021-12-05T15:30:10.280352Z",
     "shell.execute_reply": "2021-12-05T15:30:10.281935Z"
    },
    "papermill": {
     "duration": 1.113589,
     "end_time": "2021-12-05T15:30:10.282421",
     "exception": false,
     "start_time": "2021-12-05T15:30:09.168832",
     "status": "completed"
    },
    "tags": []
   },
   "outputs": [],
   "source": [
    "timestamps = pd.read_sql(\"select distinct record_time from EBAY_TOP_BERLIN order by record_time desc limit 2\", sqlite3.connect(\"UsedObjects.db\"))"
   ]
  },
  {
   "cell_type": "code",
   "execution_count": 3,
   "id": "periodic-identification",
   "metadata": {
    "execution": {
     "iopub.execute_input": "2021-12-05T15:30:10.354673Z",
     "iopub.status.busy": "2021-12-05T15:30:10.352082Z",
     "iopub.status.idle": "2021-12-05T15:30:10.374893Z",
     "shell.execute_reply": "2021-12-05T15:30:10.376539Z"
    },
    "papermill": {
     "duration": 0.073584,
     "end_time": "2021-12-05T15:30:10.377102",
     "exception": false,
     "start_time": "2021-12-05T15:30:10.303518",
     "status": "completed"
    },
    "tags": []
   },
   "outputs": [
    {
     "data": {
      "text/html": [
       "<div>\n",
       "<style scoped>\n",
       "    .dataframe tbody tr th:only-of-type {\n",
       "        vertical-align: middle;\n",
       "    }\n",
       "\n",
       "    .dataframe tbody tr th {\n",
       "        vertical-align: top;\n",
       "    }\n",
       "\n",
       "    .dataframe thead th {\n",
       "        text-align: right;\n",
       "    }\n",
       "</style>\n",
       "<table border=\"1\" class=\"dataframe\">\n",
       "  <thead>\n",
       "    <tr style=\"text-align: right;\">\n",
       "      <th></th>\n",
       "      <th>RECORD_TIME</th>\n",
       "    </tr>\n",
       "  </thead>\n",
       "  <tbody>\n",
       "    <tr>\n",
       "      <th>0</th>\n",
       "      <td>2021-12-05 16:30</td>\n",
       "    </tr>\n",
       "    <tr>\n",
       "      <th>1</th>\n",
       "      <td>2021-12-05 16:00</td>\n",
       "    </tr>\n",
       "  </tbody>\n",
       "</table>\n",
       "</div>"
      ],
      "text/plain": [
       "        RECORD_TIME\n",
       "0  2021-12-05 16:30\n",
       "1  2021-12-05 16:00"
      ]
     },
     "execution_count": 3,
     "metadata": {},
     "output_type": "execute_result"
    }
   ],
   "source": [
    "timestamps"
   ]
  },
  {
   "cell_type": "code",
   "execution_count": 4,
   "id": "alternate-victory",
   "metadata": {
    "execution": {
     "iopub.execute_input": "2021-12-05T15:30:10.433787Z",
     "iopub.status.busy": "2021-12-05T15:30:10.431592Z",
     "iopub.status.idle": "2021-12-05T15:30:11.914418Z",
     "shell.execute_reply": "2021-12-05T15:30:11.916008Z"
    },
    "papermill": {
     "duration": 1.517831,
     "end_time": "2021-12-05T15:30:11.916503",
     "exception": false,
     "start_time": "2021-12-05T15:30:10.398672",
     "status": "completed"
    },
    "tags": []
   },
   "outputs": [],
   "source": [
    "df = pd.read_sql(\"select * from EBAY_TOP_BERLIN where record_time in (select distinct record_time from EBAY_TOP_BERLIN order by record_time desc limit 2)\", sqlite3.connect(\"UsedObjects.db\"))"
   ]
  },
  {
   "cell_type": "code",
   "execution_count": 5,
   "id": "popular-active",
   "metadata": {
    "execution": {
     "iopub.execute_input": "2021-12-05T15:30:11.994661Z",
     "iopub.status.busy": "2021-12-05T15:30:11.982314Z",
     "iopub.status.idle": "2021-12-05T15:30:12.013743Z",
     "shell.execute_reply": "2021-12-05T15:30:12.015091Z"
    },
    "papermill": {
     "duration": 0.076667,
     "end_time": "2021-12-05T15:30:12.015558",
     "exception": false,
     "start_time": "2021-12-05T15:30:11.938891",
     "status": "completed"
    },
    "tags": []
   },
   "outputs": [],
   "source": [
    "df_pivot = df.pivot_table(index=\"PRODUCT\", columns = \"RECORD_TIME\", values = \"LISTING_COUNT\")"
   ]
  },
  {
   "cell_type": "code",
   "execution_count": 6,
   "id": "union-huntington",
   "metadata": {
    "execution": {
     "iopub.execute_input": "2021-12-05T15:30:12.074663Z",
     "iopub.status.busy": "2021-12-05T15:30:12.072194Z",
     "iopub.status.idle": "2021-12-05T15:30:12.078492Z",
     "shell.execute_reply": "2021-12-05T15:30:12.080146Z"
    },
    "papermill": {
     "duration": 0.044851,
     "end_time": "2021-12-05T15:30:12.080646",
     "exception": false,
     "start_time": "2021-12-05T15:30:12.035795",
     "status": "completed"
    },
    "tags": []
   },
   "outputs": [],
   "source": [
    "df_pivot.columns = [\"stamp_1\", \"stamp_2\"]\n",
    "df_pivot_diff = df_pivot.diff(axis=1)"
   ]
  },
  {
   "cell_type": "code",
   "execution_count": 7,
   "id": "fifth-motion",
   "metadata": {
    "execution": {
     "iopub.execute_input": "2021-12-05T15:30:12.157445Z",
     "iopub.status.busy": "2021-12-05T15:30:12.153284Z",
     "iopub.status.idle": "2021-12-05T15:30:13.948165Z",
     "shell.execute_reply": "2021-12-05T15:30:13.951180Z"
    },
    "papermill": {
     "duration": 1.848883,
     "end_time": "2021-12-05T15:30:13.952088",
     "exception": false,
     "start_time": "2021-12-05T15:30:12.103205",
     "status": "completed"
    },
    "tags": []
   },
   "outputs": [
    {
     "data": {
      "text/plain": [
       "<AxesSubplot:ylabel='PRODUCT'>"
      ]
     },
     "execution_count": 7,
     "metadata": {},
     "output_type": "execute_result"
    },
    {
     "data": {
      "image/png": "[encoded data removed]",
      "text/plain": [
       "<Figure size 432x288 with 1 Axes>"
      ]
     },
     "metadata": {
      "needs_background": "light"
     },
     "output_type": "display_data"
    }
   ],
   "source": [
    "df_pivot_diff.sort_values(\"stamp_2\", ascending = False)[\"stamp_2\"].head(10).plot.barh()"
   ]
  },
  {
   "cell_type": "code",
   "execution_count": null,
   "id": "extra-executive",
   "metadata": {
    "papermill": {
     "duration": 0.038882,
     "end_time": "2021-12-05T15:30:14.030514",
     "exception": false,
     "start_time": "2021-12-05T15:30:13.991632",
     "status": "completed"
    },
    "tags": []
   },
   "outputs": [],
   "source": []
  }
 ],
 "metadata": {
  "kernelspec": {
   "display_name": "Python 3",
   "language": "python",
   "name": "python3"
  },
  "language_info": {
   "codemirror_mode": {
    "name": "ipython",
    "version": 3
   },
   "file_extension": ".py",
   "mimetype": "text/x-python",
   "name": "python",
   "nbconvert_exporter": "python",
   "pygments_lexer": "ipython3",
   "version": "3.9.5"
  },
  "papermill": {
   "default_parameters": {},
   "duration": 10.010784,
   "end_time": "2021-12-05T15:30:15.353842",
   "environment_variables": {},
   "exception": null,
   "input_path": "eBay_Overview.ipynb",
   "output_path": "eBay_Overview.ipynb",
   "parameters": {},
   "start_time": "2021-12-05T15:30:05.343058",
   "version": "2.3.3"
  }
 },
 "nbformat": 4,
 "nbformat_minor": 5
}