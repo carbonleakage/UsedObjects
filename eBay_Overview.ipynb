{
 "cells": [
  {
   "cell_type": "code",
   "execution_count": 1,
   "id": "reverse-picking",
   "metadata": {
    "execution": {
     "iopub.execute_input": "2021-10-03T07:30:06.948723Z",
     "iopub.status.busy": "2021-10-03T07:30:06.946713Z",
     "iopub.status.idle": "2021-10-03T07:30:07.750766Z",
     "shell.execute_reply": "2021-10-03T07:30:07.752118Z"
    },
    "papermill": {
     "duration": 0.854759,
     "end_time": "2021-10-03T07:30:07.752738",
     "exception": false,
     "start_time": "2021-10-03T07:30:06.897979",
     "status": "completed"
    },
    "tags": []
   },
   "outputs": [],
   "source": [
    "import pandas as pd\n",
    "import sqlite3"
   ]
  },
  {
   "cell_type": "code",
   "execution_count": 2,
   "id": "innovative-syndrome",
   "metadata": {
    "execution": {
     "iopub.execute_input": "2021-10-03T07:30:07.804734Z",
     "iopub.status.busy": "2021-10-03T07:30:07.802460Z",
     "iopub.status.idle": "2021-10-03T07:30:08.241288Z",
     "shell.execute_reply": "2021-10-03T07:30:08.242504Z"
    },
    "papermill": {
     "duration": 0.468619,
     "end_time": "2021-10-03T07:30:08.242956",
     "exception": false,
     "start_time": "2021-10-03T07:30:07.774337",
     "status": "completed"
    },
    "tags": []
   },
   "outputs": [],
   "source": [
    "timestamps = pd.read_sql(\"select distinct record_time from EBAY_TOP_BERLIN order by record_time desc limit 2\", sqlite3.connect(\"UsedObjects.db\"))"
   ]
  },
  {
   "cell_type": "code",
   "execution_count": 3,
   "id": "periodic-identification",
   "metadata": {
    "execution": {
     "iopub.execute_input": "2021-10-03T07:30:08.306613Z",
     "iopub.status.busy": "2021-10-03T07:30:08.304575Z",
     "iopub.status.idle": "2021-10-03T07:30:08.324420Z",
     "shell.execute_reply": "2021-10-03T07:30:08.325557Z"
    },
    "papermill": {
     "duration": 0.063332,
     "end_time": "2021-10-03T07:30:08.325964",
     "exception": false,
     "start_time": "2021-10-03T07:30:08.262632",
     "status": "completed"
    },
    "tags": []
   },
   "outputs": [
    {
     "data": {
      "text/html": [
       "<div>\n",
       "<style scoped>\n",
       "    .dataframe tbody tr th:only-of-type {\n",
       "        vertical-align: middle;\n",
       "    }\n",
       "\n",
       "    .dataframe tbody tr th {\n",
       "        vertical-align: top;\n",
       "    }\n",
       "\n",
       "    .dataframe thead th {\n",
       "        text-align: right;\n",
       "    }\n",
       "</style>\n",
       "<table border=\"1\" class=\"dataframe\">\n",
       "  <thead>\n",
       "    <tr style=\"text-align: right;\">\n",
       "      <th></th>\n",
       "      <th>RECORD_TIME</th>\n",
       "    </tr>\n",
       "  </thead>\n",
       "  <tbody>\n",
       "    <tr>\n",
       "      <th>0</th>\n",
       "      <td>2021-10-03 09:30</td>\n",
       "    </tr>\n",
       "    <tr>\n",
       "      <th>1</th>\n",
       "      <td>2021-10-03 09:00</td>\n",
       "    </tr>\n",
       "  </tbody>\n",
       "</table>\n",
       "</div>"
      ],
      "text/plain": [
       "        RECORD_TIME\n",
       "0  2021-10-03 09:30\n",
       "1  2021-10-03 09:00"
      ]
     },
     "execution_count": 3,
     "metadata": {},
     "output_type": "execute_result"
    }
   ],
   "source": [
    "timestamps"
   ]
  },
  {
   "cell_type": "code",
   "execution_count": 4,
   "id": "alternate-victory",
   "metadata": {
    "execution": {
     "iopub.execute_input": "2021-10-03T07:30:08.378840Z",
     "iopub.status.busy": "2021-10-03T07:30:08.376510Z",
     "iopub.status.idle": "2021-10-03T07:30:09.017476Z",
     "shell.execute_reply": "2021-10-03T07:30:09.018698Z"
    },
    "papermill": {
     "duration": 0.67146,
     "end_time": "2021-10-03T07:30:09.019191",
     "exception": false,
     "start_time": "2021-10-03T07:30:08.347731",
     "status": "completed"
    },
    "tags": []
   },
   "outputs": [],
   "source": [
    "df = pd.read_sql(\"select * from EBAY_TOP_BERLIN where record_time in (select distinct record_time from EBAY_TOP_BERLIN order by record_time desc limit 2)\", sqlite3.connect(\"UsedObjects.db\"))"
   ]
  },
  {
   "cell_type": "code",
   "execution_count": 5,
   "id": "popular-active",
   "metadata": {
    "execution": {
     "iopub.execute_input": "2021-10-03T07:30:09.092272Z",
     "iopub.status.busy": "2021-10-03T07:30:09.079428Z",
     "iopub.status.idle": "2021-10-03T07:30:09.107616Z",
     "shell.execute_reply": "2021-10-03T07:30:09.108865Z"
    },
    "papermill": {
     "duration": 0.068587,
     "end_time": "2021-10-03T07:30:09.109266",
     "exception": false,
     "start_time": "2021-10-03T07:30:09.040679",
     "status": "completed"
    },
    "tags": []
   },
   "outputs": [],
   "source": [
    "df_pivot = df.pivot_table(index=\"PRODUCT\", columns = \"RECORD_TIME\", values = \"LISTING_COUNT\")"
   ]
  },
  {
   "cell_type": "code",
   "execution_count": 6,
   "id": "union-huntington",
   "metadata": {
    "execution": {
     "iopub.execute_input": "2021-10-03T07:30:09.165659Z",
     "iopub.status.busy": "2021-10-03T07:30:09.163593Z",
     "iopub.status.idle": "2021-10-03T07:30:09.168833Z",
     "shell.execute_reply": "2021-10-03T07:30:09.170031Z"
    },
    "papermill": {
     "duration": 0.04038,
     "end_time": "2021-10-03T07:30:09.170455",
     "exception": false,
     "start_time": "2021-10-03T07:30:09.130075",
     "status": "completed"
    },
    "tags": []
   },
   "outputs": [],
   "source": [
    "df_pivot.columns = [\"stamp_1\", \"stamp_2\"]\n",
    "df_pivot_diff = df_pivot.diff(axis=1)"
   ]
  },
  {
   "cell_type": "code",
   "execution_count": 7,
   "id": "fifth-motion",
   "metadata": {
    "execution": {
     "iopub.execute_input": "2021-10-03T07:30:09.228554Z",
     "iopub.status.busy": "2021-10-03T07:30:09.225925Z",
     "iopub.status.idle": "2021-10-03T07:30:10.707670Z",
     "shell.execute_reply": "2021-10-03T07:30:10.708982Z"
    },
    "papermill": {
     "duration": 1.515234,
     "end_time": "2021-10-03T07:30:10.709399",
     "exception": false,
     "start_time": "2021-10-03T07:30:09.194165",
     "status": "completed"
    },
    "tags": []
   },
   "outputs": [
    {
     "data": {
      "text/plain": [
       "<AxesSubplot:ylabel='PRODUCT'>"
      ]
     },
     "execution_count": 7,
     "metadata": {},
     "output_type": "execute_result"
    },
    {
     "data": {
      "image/png": "[encoded data removed]",
      "text/plain": [
       "<Figure size 432x288 with 1 Axes>"
      ]
     },
     "metadata": {
      "needs_background": "light"
     },
     "output_type": "display_data"
    }
   ],
   "source": [
    "df_pivot_diff.sort_values(\"stamp_2\", ascending = False)[\"stamp_2\"].head(10).plot.barh()"
   ]
  },
  {
   "cell_type": "code",
   "execution_count": null,
   "id": "extra-executive",
   "metadata": {
    "papermill": {
     "duration": 0.022433,
     "end_time": "2021-10-03T07:30:10.755842",
     "exception": false,
     "start_time": "2021-10-03T07:30:10.733409",
     "status": "completed"
    },
    "tags": []
   },
   "outputs": [],
   "source": []
  }
 ],
 "metadata": {
  "kernelspec": {
   "display_name": "Python 3",
   "language": "python",
   "name": "python3"
  },
  "language_info": {
   "codemirror_mode": {
    "name": "ipython",
    "version": 3
   },
   "file_extension": ".py",
   "mimetype": "text/x-python",
   "name": "python",
   "nbconvert_exporter": "python",
   "pygments_lexer": "ipython3",
   "version": "3.9.5"
  },
  "papermill": {
   "default_parameters": {},
   "duration": 7.821492,
   "end_time": "2021-10-03T07:30:12.319686",
   "environment_variables": {},
   "exception": null,
   "input_path": "eBay_Overview.ipynb",
   "output_path": "eBay_Overview.ipynb",
   "parameters": {},
   "start_time": "2021-10-03T07:30:04.498194",
   "version": "2.3.3"
  }
 },
 "nbformat": 4,
 "nbformat_minor": 5
}