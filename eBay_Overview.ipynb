{
 "cells": [
  {
   "cell_type": "code",
   "execution_count": 1,
   "id": "reverse-picking",
   "metadata": {
    "execution": {
     "iopub.execute_input": "2021-09-23T19:00:07.184559Z",
     "iopub.status.busy": "2021-09-23T19:00:07.182568Z",
     "iopub.status.idle": "2021-09-23T19:00:07.988493Z",
     "shell.execute_reply": "2021-09-23T19:00:07.989710Z"
    },
    "papermill": {
     "duration": 0.85834,
     "end_time": "2021-09-23T19:00:07.990316",
     "exception": false,
     "start_time": "2021-09-23T19:00:07.131976",
     "status": "completed"
    },
    "tags": []
   },
   "outputs": [],
   "source": [
    "import pandas as pd\n",
    "import sqlite3"
   ]
  },
  {
   "cell_type": "code",
   "execution_count": 2,
   "id": "innovative-syndrome",
   "metadata": {
    "execution": {
     "iopub.execute_input": "2021-09-23T19:00:08.041699Z",
     "iopub.status.busy": "2021-09-23T19:00:08.039616Z",
     "iopub.status.idle": "2021-09-23T19:00:08.402047Z",
     "shell.execute_reply": "2021-09-23T19:00:08.403434Z"
    },
    "papermill": {
     "duration": 0.392386,
     "end_time": "2021-09-23T19:00:08.403887",
     "exception": false,
     "start_time": "2021-09-23T19:00:08.011501",
     "status": "completed"
    },
    "tags": []
   },
   "outputs": [],
   "source": [
    "timestamps = pd.read_sql(\"select distinct record_time from EBAY_TOP_BERLIN order by record_time desc limit 2\", sqlite3.connect(\"UsedObjects.db\"))"
   ]
  },
  {
   "cell_type": "code",
   "execution_count": 3,
   "id": "periodic-identification",
   "metadata": {
    "execution": {
     "iopub.execute_input": "2021-09-23T19:00:08.468660Z",
     "iopub.status.busy": "2021-09-23T19:00:08.466620Z",
     "iopub.status.idle": "2021-09-23T19:00:08.486390Z",
     "shell.execute_reply": "2021-09-23T19:00:08.487904Z"
    },
    "papermill": {
     "duration": 0.064895,
     "end_time": "2021-09-23T19:00:08.488336",
     "exception": false,
     "start_time": "2021-09-23T19:00:08.423441",
     "status": "completed"
    },
    "tags": []
   },
   "outputs": [
    {
     "data": {
      "text/html": [
       "<div>\n",
       "<style scoped>\n",
       "    .dataframe tbody tr th:only-of-type {\n",
       "        vertical-align: middle;\n",
       "    }\n",
       "\n",
       "    .dataframe tbody tr th {\n",
       "        vertical-align: top;\n",
       "    }\n",
       "\n",
       "    .dataframe thead th {\n",
       "        text-align: right;\n",
       "    }\n",
       "</style>\n",
       "<table border=\"1\" class=\"dataframe\">\n",
       "  <thead>\n",
       "    <tr style=\"text-align: right;\">\n",
       "      <th></th>\n",
       "      <th>RECORD_TIME</th>\n",
       "    </tr>\n",
       "  </thead>\n",
       "  <tbody>\n",
       "    <tr>\n",
       "      <th>0</th>\n",
       "      <td>2021-09-23 21:00</td>\n",
       "    </tr>\n",
       "    <tr>\n",
       "      <th>1</th>\n",
       "      <td>2021-09-23 20:30</td>\n",
       "    </tr>\n",
       "  </tbody>\n",
       "</table>\n",
       "</div>"
      ],
      "text/plain": [
       "        RECORD_TIME\n",
       "0  2021-09-23 21:00\n",
       "1  2021-09-23 20:30"
      ]
     },
     "execution_count": 3,
     "metadata": {},
     "output_type": "execute_result"
    }
   ],
   "source": [
    "timestamps"
   ]
  },
  {
   "cell_type": "code",
   "execution_count": 4,
   "id": "alternate-victory",
   "metadata": {
    "execution": {
     "iopub.execute_input": "2021-09-23T19:00:08.540432Z",
     "iopub.status.busy": "2021-09-23T19:00:08.537808Z",
     "iopub.status.idle": "2021-09-23T19:00:09.067167Z",
     "shell.execute_reply": "2021-09-23T19:00:09.068603Z"
    },
    "papermill": {
     "duration": 0.559729,
     "end_time": "2021-09-23T19:00:09.069035",
     "exception": false,
     "start_time": "2021-09-23T19:00:08.509306",
     "status": "completed"
    },
    "tags": []
   },
   "outputs": [],
   "source": [
    "df = pd.read_sql(\"select * from EBAY_TOP_BERLIN where record_time in (select distinct record_time from EBAY_TOP_BERLIN order by record_time desc limit 2)\", sqlite3.connect(\"UsedObjects.db\"))"
   ]
  },
  {
   "cell_type": "code",
   "execution_count": 5,
   "id": "popular-active",
   "metadata": {
    "execution": {
     "iopub.execute_input": "2021-09-23T19:00:09.148705Z",
     "iopub.status.busy": "2021-09-23T19:00:09.136986Z",
     "iopub.status.idle": "2021-09-23T19:00:09.165793Z",
     "shell.execute_reply": "2021-09-23T19:00:09.167448Z"
    },
    "papermill": {
     "duration": 0.07295,
     "end_time": "2021-09-23T19:00:09.167937",
     "exception": false,
     "start_time": "2021-09-23T19:00:09.094987",
     "status": "completed"
    },
    "tags": []
   },
   "outputs": [],
   "source": [
    "df_pivot = df.pivot_table(index=\"PRODUCT\", columns = \"RECORD_TIME\", values = \"LISTING_COUNT\")"
   ]
  },
  {
   "cell_type": "code",
   "execution_count": 6,
   "id": "union-huntington",
   "metadata": {
    "execution": {
     "iopub.execute_input": "2021-09-23T19:00:09.226392Z",
     "iopub.status.busy": "2021-09-23T19:00:09.224142Z",
     "iopub.status.idle": "2021-09-23T19:00:09.229836Z",
     "shell.execute_reply": "2021-09-23T19:00:09.231149Z"
    },
    "papermill": {
     "duration": 0.041531,
     "end_time": "2021-09-23T19:00:09.231574",
     "exception": false,
     "start_time": "2021-09-23T19:00:09.190043",
     "status": "completed"
    },
    "tags": []
   },
   "outputs": [],
   "source": [
    "df_pivot.columns = [\"stamp_1\", \"stamp_2\"]\n",
    "df_pivot_diff = df_pivot.diff(axis=1)"
   ]
  },
  {
   "cell_type": "code",
   "execution_count": 7,
   "id": "fifth-motion",
   "metadata": {
    "execution": {
     "iopub.execute_input": "2021-09-23T19:00:09.286087Z",
     "iopub.status.busy": "2021-09-23T19:00:09.283828Z",
     "iopub.status.idle": "2021-09-23T19:00:10.785384Z",
     "shell.execute_reply": "2021-09-23T19:00:10.786637Z"
    },
    "papermill": {
     "duration": 1.535034,
     "end_time": "2021-09-23T19:00:10.787121",
     "exception": false,
     "start_time": "2021-09-23T19:00:09.252087",
     "status": "completed"
    },
    "tags": []
   },
   "outputs": [
    {
     "data": {
      "text/plain": [
       "<AxesSubplot:ylabel='PRODUCT'>"
      ]
     },
     "execution_count": 7,
     "metadata": {},
     "output_type": "execute_result"
    },
    {
     "data": {
      "image/png": "[encoded data removed]",
      "text/plain": [
       "<Figure size 432x288 with 1 Axes>"
      ]
     },
     "metadata": {
      "needs_background": "light"
     },
     "output_type": "display_data"
    }
   ],
   "source": [
    "df_pivot_diff.sort_values(\"stamp_2\", ascending = False)[\"stamp_2\"].head(10).plot.barh()"
   ]
  },
  {
   "cell_type": "code",
   "execution_count": null,
   "id": "extra-executive",
   "metadata": {
    "papermill": {
     "duration": 0.022204,
     "end_time": "2021-09-23T19:00:10.833367",
     "exception": false,
     "start_time": "2021-09-23T19:00:10.811163",
     "status": "completed"
    },
    "tags": []
   },
   "outputs": [],
   "source": []
  }
 ],
 "metadata": {
  "kernelspec": {
   "display_name": "Python 3",
   "language": "python",
   "name": "python3"
  },
  "language_info": {
   "codemirror_mode": {
    "name": "ipython",
    "version": 3
   },
   "file_extension": ".py",
   "mimetype": "text/x-python",
   "name": "python",
   "nbconvert_exporter": "python",
   "pygments_lexer": "ipython3",
   "version": "3.9.5"
  },
  "papermill": {
   "default_parameters": {},
   "duration": 6.752406,
   "end_time": "2021-09-23T19:00:11.476099",
   "environment_variables": {},
   "exception": null,
   "input_path": "eBay_Overview.ipynb",
   "output_path": "eBay_Overview.ipynb",
   "parameters": {},
   "start_time": "2021-09-23T19:00:04.723693",
   "version": "2.3.3"
  }
 },
 "nbformat": 4,
 "nbformat_minor": 5
}