{
 "cells": [
  {
   "cell_type": "code",
   "execution_count": 1,
   "id": "reverse-picking",
   "metadata": {
    "execution": {
     "iopub.execute_input": "2021-08-31T13:30:07.448519Z",
     "iopub.status.busy": "2021-08-31T13:30:07.446554Z",
     "iopub.status.idle": "2021-08-31T13:30:08.250073Z",
     "shell.execute_reply": "2021-08-31T13:30:08.251468Z"
    },
    "papermill": {
     "duration": 0.855712,
     "end_time": "2021-08-31T13:30:08.252114",
     "exception": false,
     "start_time": "2021-08-31T13:30:07.396402",
     "status": "completed"
    },
    "tags": []
   },
   "outputs": [],
   "source": [
    "import pandas as pd\n",
    "import sqlite3"
   ]
  },
  {
   "cell_type": "code",
   "execution_count": 2,
   "id": "innovative-syndrome",
   "metadata": {
    "execution": {
     "iopub.execute_input": "2021-08-31T13:30:08.302612Z",
     "iopub.status.busy": "2021-08-31T13:30:08.300704Z",
     "iopub.status.idle": "2021-08-31T13:30:08.473529Z",
     "shell.execute_reply": "2021-08-31T13:30:08.474693Z"
    },
    "papermill": {
     "duration": 0.202875,
     "end_time": "2021-08-31T13:30:08.475298",
     "exception": false,
     "start_time": "2021-08-31T13:30:08.272423",
     "status": "completed"
    },
    "tags": []
   },
   "outputs": [],
   "source": [
    "timestamps = pd.read_sql(\"select distinct record_time from EBAY_TOP_BERLIN order by record_time desc limit 2\", sqlite3.connect(\"UsedObjects.db\"))"
   ]
  },
  {
   "cell_type": "code",
   "execution_count": 3,
   "id": "periodic-identification",
   "metadata": {
    "execution": {
     "iopub.execute_input": "2021-08-31T13:30:08.540080Z",
     "iopub.status.busy": "2021-08-31T13:30:08.538038Z",
     "iopub.status.idle": "2021-08-31T13:30:08.558269Z",
     "shell.execute_reply": "2021-08-31T13:30:08.559671Z"
    },
    "papermill": {
     "duration": 0.065308,
     "end_time": "2021-08-31T13:30:08.560148",
     "exception": false,
     "start_time": "2021-08-31T13:30:08.494840",
     "status": "completed"
    },
    "tags": []
   },
   "outputs": [
    {
     "data": {
      "text/html": [
       "<div>\n",
       "<style scoped>\n",
       "    .dataframe tbody tr th:only-of-type {\n",
       "        vertical-align: middle;\n",
       "    }\n",
       "\n",
       "    .dataframe tbody tr th {\n",
       "        vertical-align: top;\n",
       "    }\n",
       "\n",
       "    .dataframe thead th {\n",
       "        text-align: right;\n",
       "    }\n",
       "</style>\n",
       "<table border=\"1\" class=\"dataframe\">\n",
       "  <thead>\n",
       "    <tr style=\"text-align: right;\">\n",
       "      <th></th>\n",
       "      <th>RECORD_TIME</th>\n",
       "    </tr>\n",
       "  </thead>\n",
       "  <tbody>\n",
       "    <tr>\n",
       "      <th>0</th>\n",
       "      <td>2021-08-31 15:30</td>\n",
       "    </tr>\n",
       "    <tr>\n",
       "      <th>1</th>\n",
       "      <td>2021-08-31 15:00</td>\n",
       "    </tr>\n",
       "  </tbody>\n",
       "</table>\n",
       "</div>"
      ],
      "text/plain": [
       "        RECORD_TIME\n",
       "0  2021-08-31 15:30\n",
       "1  2021-08-31 15:00"
      ]
     },
     "execution_count": 3,
     "metadata": {},
     "output_type": "execute_result"
    }
   ],
   "source": [
    "timestamps"
   ]
  },
  {
   "cell_type": "code",
   "execution_count": 4,
   "id": "alternate-victory",
   "metadata": {
    "execution": {
     "iopub.execute_input": "2021-08-31T13:30:08.612723Z",
     "iopub.status.busy": "2021-08-31T13:30:08.610898Z",
     "iopub.status.idle": "2021-08-31T13:30:08.872954Z",
     "shell.execute_reply": "2021-08-31T13:30:08.874128Z"
    },
    "papermill": {
     "duration": 0.291744,
     "end_time": "2021-08-31T13:30:08.874518",
     "exception": false,
     "start_time": "2021-08-31T13:30:08.582774",
     "status": "completed"
    },
    "tags": []
   },
   "outputs": [],
   "source": [
    "df = pd.read_sql(\"select * from EBAY_TOP_BERLIN where record_time in (select distinct record_time from EBAY_TOP_BERLIN order by record_time desc limit 2)\", sqlite3.connect(\"UsedObjects.db\"))"
   ]
  },
  {
   "cell_type": "code",
   "execution_count": 5,
   "id": "popular-active",
   "metadata": {
    "execution": {
     "iopub.execute_input": "2021-08-31T13:30:08.955706Z",
     "iopub.status.busy": "2021-08-31T13:30:08.944298Z",
     "iopub.status.idle": "2021-08-31T13:30:08.973069Z",
     "shell.execute_reply": "2021-08-31T13:30:08.974320Z"
    },
    "papermill": {
     "duration": 0.072489,
     "end_time": "2021-08-31T13:30:08.974729",
     "exception": false,
     "start_time": "2021-08-31T13:30:08.902240",
     "status": "completed"
    },
    "tags": []
   },
   "outputs": [],
   "source": [
    "df_pivot = df.pivot_table(index=\"PRODUCT\", columns = \"RECORD_TIME\", values = \"LISTING_COUNT\")"
   ]
  },
  {
   "cell_type": "code",
   "execution_count": 6,
   "id": "union-huntington",
   "metadata": {
    "execution": {
     "iopub.execute_input": "2021-08-31T13:30:09.030995Z",
     "iopub.status.busy": "2021-08-31T13:30:09.028959Z",
     "iopub.status.idle": "2021-08-31T13:30:09.034129Z",
     "shell.execute_reply": "2021-08-31T13:30:09.035462Z"
    },
    "papermill": {
     "duration": 0.040841,
     "end_time": "2021-08-31T13:30:09.035877",
     "exception": false,
     "start_time": "2021-08-31T13:30:08.995036",
     "status": "completed"
    },
    "tags": []
   },
   "outputs": [],
   "source": [
    "df_pivot.columns = [\"stamp_1\", \"stamp_2\"]\n",
    "df_pivot_diff = df_pivot.diff(axis=1)"
   ]
  },
  {
   "cell_type": "code",
   "execution_count": 7,
   "id": "fifth-motion",
   "metadata": {
    "execution": {
     "iopub.execute_input": "2021-08-31T13:30:09.090490Z",
     "iopub.status.busy": "2021-08-31T13:30:09.088135Z",
     "iopub.status.idle": "2021-08-31T13:30:10.599679Z",
     "shell.execute_reply": "2021-08-31T13:30:10.601058Z"
    },
    "papermill": {
     "duration": 1.544229,
     "end_time": "2021-08-31T13:30:10.601497",
     "exception": false,
     "start_time": "2021-08-31T13:30:09.057268",
     "status": "completed"
    },
    "tags": []
   },
   "outputs": [
    {
     "data": {
      "text/plain": [
       "<AxesSubplot:ylabel='PRODUCT'>"
      ]
     },
     "execution_count": 7,
     "metadata": {},
     "output_type": "execute_result"
    },
    {
     "data": {
      "image/png": "[encoded data removed]",
      "text/plain": [
       "<Figure size 432x288 with 1 Axes>"
      ]
     },
     "metadata": {
      "needs_background": "light"
     },
     "output_type": "display_data"
    }
   ],
   "source": [
    "df_pivot_diff.sort_values(\"stamp_2\", ascending = False)[\"stamp_2\"].head(10).plot.barh()"
   ]
  },
  {
   "cell_type": "code",
   "execution_count": null,
   "id": "extra-executive",
   "metadata": {
    "papermill": {
     "duration": 0.022359,
     "end_time": "2021-08-31T13:30:10.649083",
     "exception": false,
     "start_time": "2021-08-31T13:30:10.626724",
     "status": "completed"
    },
    "tags": []
   },
   "outputs": [],
   "source": []
  }
 ],
 "metadata": {
  "kernelspec": {
   "display_name": "Python 3",
   "language": "python",
   "name": "python3"
  },
  "language_info": {
   "codemirror_mode": {
    "name": "ipython",
    "version": 3
   },
   "file_extension": ".py",
   "mimetype": "text/x-python",
   "name": "python",
   "nbconvert_exporter": "python",
   "pygments_lexer": "ipython3",
   "version": "3.9.5"
  },
  "papermill": {
   "default_parameters": {},
   "duration": 6.817867,
   "end_time": "2021-08-31T13:30:11.809816",
   "environment_variables": {},
   "exception": null,
   "input_path": "eBay_Overview.ipynb",
   "output_path": "eBay_Overview.ipynb",
   "parameters": {},
   "start_time": "2021-08-31T13:30:04.991949",
   "version": "2.3.3"
  }
 },
 "nbformat": 4,
 "nbformat_minor": 5
}