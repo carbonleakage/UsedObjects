{
 "cells": [
  {
   "cell_type": "code",
   "execution_count": 1,
   "id": "reverse-picking",
   "metadata": {
    "execution": {
     "iopub.execute_input": "2021-09-13T11:00:07.240882Z",
     "iopub.status.busy": "2021-09-13T11:00:07.238827Z",
     "iopub.status.idle": "2021-09-13T11:00:08.043626Z",
     "shell.execute_reply": "2021-09-13T11:00:08.044872Z"
    },
    "papermill": {
     "duration": 0.855844,
     "end_time": "2021-09-13T11:00:08.045493",
     "exception": false,
     "start_time": "2021-09-13T11:00:07.189649",
     "status": "completed"
    },
    "tags": []
   },
   "outputs": [],
   "source": [
    "import pandas as pd\n",
    "import sqlite3"
   ]
  },
  {
   "cell_type": "code",
   "execution_count": 2,
   "id": "innovative-syndrome",
   "metadata": {
    "execution": {
     "iopub.execute_input": "2021-09-13T11:00:08.097895Z",
     "iopub.status.busy": "2021-09-13T11:00:08.095734Z",
     "iopub.status.idle": "2021-09-13T11:00:08.375473Z",
     "shell.execute_reply": "2021-09-13T11:00:08.376750Z"
    },
    "papermill": {
     "duration": 0.309871,
     "end_time": "2021-09-13T11:00:08.377145",
     "exception": false,
     "start_time": "2021-09-13T11:00:08.067274",
     "status": "completed"
    },
    "tags": []
   },
   "outputs": [],
   "source": [
    "timestamps = pd.read_sql(\"select distinct record_time from EBAY_TOP_BERLIN order by record_time desc limit 2\", sqlite3.connect(\"UsedObjects.db\"))"
   ]
  },
  {
   "cell_type": "code",
   "execution_count": 3,
   "id": "periodic-identification",
   "metadata": {
    "execution": {
     "iopub.execute_input": "2021-09-13T11:00:08.441574Z",
     "iopub.status.busy": "2021-09-13T11:00:08.439579Z",
     "iopub.status.idle": "2021-09-13T11:00:08.461062Z",
     "shell.execute_reply": "2021-09-13T11:00:08.462171Z"
    },
    "papermill": {
     "duration": 0.066141,
     "end_time": "2021-09-13T11:00:08.462574",
     "exception": false,
     "start_time": "2021-09-13T11:00:08.396433",
     "status": "completed"
    },
    "tags": []
   },
   "outputs": [
    {
     "data": {
      "text/html": [
       "<div>\n",
       "<style scoped>\n",
       "    .dataframe tbody tr th:only-of-type {\n",
       "        vertical-align: middle;\n",
       "    }\n",
       "\n",
       "    .dataframe tbody tr th {\n",
       "        vertical-align: top;\n",
       "    }\n",
       "\n",
       "    .dataframe thead th {\n",
       "        text-align: right;\n",
       "    }\n",
       "</style>\n",
       "<table border=\"1\" class=\"dataframe\">\n",
       "  <thead>\n",
       "    <tr style=\"text-align: right;\">\n",
       "      <th></th>\n",
       "      <th>RECORD_TIME</th>\n",
       "    </tr>\n",
       "  </thead>\n",
       "  <tbody>\n",
       "    <tr>\n",
       "      <th>0</th>\n",
       "      <td>2021-09-13 13:00</td>\n",
       "    </tr>\n",
       "    <tr>\n",
       "      <th>1</th>\n",
       "      <td>2021-09-13 12:30</td>\n",
       "    </tr>\n",
       "  </tbody>\n",
       "</table>\n",
       "</div>"
      ],
      "text/plain": [
       "        RECORD_TIME\n",
       "0  2021-09-13 13:00\n",
       "1  2021-09-13 12:30"
      ]
     },
     "execution_count": 3,
     "metadata": {},
     "output_type": "execute_result"
    }
   ],
   "source": [
    "timestamps"
   ]
  },
  {
   "cell_type": "code",
   "execution_count": 4,
   "id": "alternate-victory",
   "metadata": {
    "execution": {
     "iopub.execute_input": "2021-09-13T11:00:08.517673Z",
     "iopub.status.busy": "2021-09-13T11:00:08.515652Z",
     "iopub.status.idle": "2021-09-13T11:00:08.933636Z",
     "shell.execute_reply": "2021-09-13T11:00:08.934959Z"
    },
    "papermill": {
     "duration": 0.448601,
     "end_time": "2021-09-13T11:00:08.935394",
     "exception": false,
     "start_time": "2021-09-13T11:00:08.486793",
     "status": "completed"
    },
    "tags": []
   },
   "outputs": [],
   "source": [
    "df = pd.read_sql(\"select * from EBAY_TOP_BERLIN where record_time in (select distinct record_time from EBAY_TOP_BERLIN order by record_time desc limit 2)\", sqlite3.connect(\"UsedObjects.db\"))"
   ]
  },
  {
   "cell_type": "code",
   "execution_count": 5,
   "id": "popular-active",
   "metadata": {
    "execution": {
     "iopub.execute_input": "2021-09-13T11:00:09.017042Z",
     "iopub.status.busy": "2021-09-13T11:00:09.005767Z",
     "iopub.status.idle": "2021-09-13T11:00:09.032464Z",
     "shell.execute_reply": "2021-09-13T11:00:09.033652Z"
    },
    "papermill": {
     "duration": 0.072151,
     "end_time": "2021-09-13T11:00:09.034042",
     "exception": false,
     "start_time": "2021-09-13T11:00:08.961891",
     "status": "completed"
    },
    "tags": []
   },
   "outputs": [],
   "source": [
    "df_pivot = df.pivot_table(index=\"PRODUCT\", columns = \"RECORD_TIME\", values = \"LISTING_COUNT\")"
   ]
  },
  {
   "cell_type": "code",
   "execution_count": 6,
   "id": "union-huntington",
   "metadata": {
    "execution": {
     "iopub.execute_input": "2021-09-13T11:00:09.093308Z",
     "iopub.status.busy": "2021-09-13T11:00:09.090830Z",
     "iopub.status.idle": "2021-09-13T11:00:09.096702Z",
     "shell.execute_reply": "2021-09-13T11:00:09.097872Z"
    },
    "papermill": {
     "duration": 0.042008,
     "end_time": "2021-09-13T11:00:09.098293",
     "exception": false,
     "start_time": "2021-09-13T11:00:09.056285",
     "status": "completed"
    },
    "tags": []
   },
   "outputs": [],
   "source": [
    "df_pivot.columns = [\"stamp_1\", \"stamp_2\"]\n",
    "df_pivot_diff = df_pivot.diff(axis=1)"
   ]
  },
  {
   "cell_type": "code",
   "execution_count": 7,
   "id": "fifth-motion",
   "metadata": {
    "execution": {
     "iopub.execute_input": "2021-09-13T11:00:09.152631Z",
     "iopub.status.busy": "2021-09-13T11:00:09.150272Z",
     "iopub.status.idle": "2021-09-13T11:00:10.636987Z",
     "shell.execute_reply": "2021-09-13T11:00:10.638242Z"
    },
    "papermill": {
     "duration": 1.519672,
     "end_time": "2021-09-13T11:00:10.638658",
     "exception": false,
     "start_time": "2021-09-13T11:00:09.118986",
     "status": "completed"
    },
    "tags": []
   },
   "outputs": [
    {
     "data": {
      "text/plain": [
       "<AxesSubplot:ylabel='PRODUCT'>"
      ]
     },
     "execution_count": 7,
     "metadata": {},
     "output_type": "execute_result"
    },
    {
     "data": {
      "image/png": "[encoded data removed]",
      "text/plain": [
       "<Figure size 432x288 with 1 Axes>"
      ]
     },
     "metadata": {
      "needs_background": "light"
     },
     "output_type": "display_data"
    }
   ],
   "source": [
    "df_pivot_diff.sort_values(\"stamp_2\", ascending = False)[\"stamp_2\"].head(10).plot.barh()"
   ]
  },
  {
   "cell_type": "code",
   "execution_count": null,
   "id": "extra-executive",
   "metadata": {
    "papermill": {
     "duration": 0.022281,
     "end_time": "2021-09-13T11:00:10.687119",
     "exception": false,
     "start_time": "2021-09-13T11:00:10.664838",
     "status": "completed"
    },
    "tags": []
   },
   "outputs": [],
   "source": []
  }
 ],
 "metadata": {
  "kernelspec": {
   "display_name": "Python 3",
   "language": "python",
   "name": "python3"
  },
  "language_info": {
   "codemirror_mode": {
    "name": "ipython",
    "version": 3
   },
   "file_extension": ".py",
   "mimetype": "text/x-python",
   "name": "python",
   "nbconvert_exporter": "python",
   "pygments_lexer": "ipython3",
   "version": "3.9.5"
  },
  "papermill": {
   "default_parameters": {},
   "duration": 6.546927,
   "end_time": "2021-09-13T11:00:11.329750",
   "environment_variables": {},
   "exception": null,
   "input_path": "eBay_Overview.ipynb",
   "output_path": "eBay_Overview.ipynb",
   "parameters": {},
   "start_time": "2021-09-13T11:00:04.782823",
   "version": "2.3.3"
  }
 },
 "nbformat": 4,
 "nbformat_minor": 5
}