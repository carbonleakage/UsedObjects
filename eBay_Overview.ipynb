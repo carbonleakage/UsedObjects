{
 "cells": [
  {
   "cell_type": "code",
   "execution_count": 1,
   "id": "reverse-picking",
   "metadata": {
    "execution": {
     "iopub.execute_input": "2021-11-15T23:30:07.782449Z",
     "iopub.status.busy": "2021-11-15T23:30:07.779899Z",
     "iopub.status.idle": "2021-11-15T23:30:08.747495Z",
     "shell.execute_reply": "2021-11-15T23:30:08.749217Z"
    },
    "papermill": {
     "duration": 1.016332,
     "end_time": "2021-11-15T23:30:08.749930",
     "exception": false,
     "start_time": "2021-11-15T23:30:07.733598",
     "status": "completed"
    },
    "tags": []
   },
   "outputs": [],
   "source": [
    "import pandas as pd\n",
    "import sqlite3"
   ]
  },
  {
   "cell_type": "code",
   "execution_count": 2,
   "id": "innovative-syndrome",
   "metadata": {
    "execution": {
     "iopub.execute_input": "2021-11-15T23:30:08.821442Z",
     "iopub.status.busy": "2021-11-15T23:30:08.819167Z",
     "iopub.status.idle": "2021-11-15T23:30:09.673885Z",
     "shell.execute_reply": "2021-11-15T23:30:09.675135Z"
    },
    "papermill": {
     "duration": 0.889179,
     "end_time": "2021-11-15T23:30:09.675541",
     "exception": false,
     "start_time": "2021-11-15T23:30:08.786362",
     "status": "completed"
    },
    "tags": []
   },
   "outputs": [],
   "source": [
    "timestamps = pd.read_sql(\"select distinct record_time from EBAY_TOP_BERLIN order by record_time desc limit 2\", sqlite3.connect(\"UsedObjects.db\"))"
   ]
  },
  {
   "cell_type": "code",
   "execution_count": 3,
   "id": "periodic-identification",
   "metadata": {
    "execution": {
     "iopub.execute_input": "2021-11-15T23:30:09.739361Z",
     "iopub.status.busy": "2021-11-15T23:30:09.737337Z",
     "iopub.status.idle": "2021-11-15T23:30:09.757936Z",
     "shell.execute_reply": "2021-11-15T23:30:09.759377Z"
    },
    "papermill": {
     "duration": 0.06503,
     "end_time": "2021-11-15T23:30:09.759870",
     "exception": false,
     "start_time": "2021-11-15T23:30:09.694840",
     "status": "completed"
    },
    "tags": []
   },
   "outputs": [
    {
     "data": {
      "text/html": [
       "<div>\n",
       "<style scoped>\n",
       "    .dataframe tbody tr th:only-of-type {\n",
       "        vertical-align: middle;\n",
       "    }\n",
       "\n",
       "    .dataframe tbody tr th {\n",
       "        vertical-align: top;\n",
       "    }\n",
       "\n",
       "    .dataframe thead th {\n",
       "        text-align: right;\n",
       "    }\n",
       "</style>\n",
       "<table border=\"1\" class=\"dataframe\">\n",
       "  <thead>\n",
       "    <tr style=\"text-align: right;\">\n",
       "      <th></th>\n",
       "      <th>RECORD_TIME</th>\n",
       "    </tr>\n",
       "  </thead>\n",
       "  <tbody>\n",
       "    <tr>\n",
       "      <th>0</th>\n",
       "      <td>2021-11-16 00:30</td>\n",
       "    </tr>\n",
       "    <tr>\n",
       "      <th>1</th>\n",
       "      <td>2021-11-16 00:00</td>\n",
       "    </tr>\n",
       "  </tbody>\n",
       "</table>\n",
       "</div>"
      ],
      "text/plain": [
       "        RECORD_TIME\n",
       "0  2021-11-16 00:30\n",
       "1  2021-11-16 00:00"
      ]
     },
     "execution_count": 3,
     "metadata": {},
     "output_type": "execute_result"
    }
   ],
   "source": [
    "timestamps"
   ]
  },
  {
   "cell_type": "code",
   "execution_count": 4,
   "id": "alternate-victory",
   "metadata": {
    "execution": {
     "iopub.execute_input": "2021-11-15T23:30:09.816053Z",
     "iopub.status.busy": "2021-11-15T23:30:09.813649Z",
     "iopub.status.idle": "2021-11-15T23:30:11.031700Z",
     "shell.execute_reply": "2021-11-15T23:30:11.033309Z"
    },
    "papermill": {
     "duration": 1.252287,
     "end_time": "2021-11-15T23:30:11.033795",
     "exception": false,
     "start_time": "2021-11-15T23:30:09.781508",
     "status": "completed"
    },
    "tags": []
   },
   "outputs": [],
   "source": [
    "df = pd.read_sql(\"select * from EBAY_TOP_BERLIN where record_time in (select distinct record_time from EBAY_TOP_BERLIN order by record_time desc limit 2)\", sqlite3.connect(\"UsedObjects.db\"))"
   ]
  },
  {
   "cell_type": "code",
   "execution_count": 5,
   "id": "popular-active",
   "metadata": {
    "execution": {
     "iopub.execute_input": "2021-11-15T23:30:11.108632Z",
     "iopub.status.busy": "2021-11-15T23:30:11.096595Z",
     "iopub.status.idle": "2021-11-15T23:30:11.134815Z",
     "shell.execute_reply": "2021-11-15T23:30:11.133230Z"
    },
    "papermill": {
     "duration": 0.080705,
     "end_time": "2021-11-15T23:30:11.135245",
     "exception": false,
     "start_time": "2021-11-15T23:30:11.054540",
     "status": "completed"
    },
    "tags": []
   },
   "outputs": [],
   "source": [
    "df_pivot = df.pivot_table(index=\"PRODUCT\", columns = \"RECORD_TIME\", values = \"LISTING_COUNT\")"
   ]
  },
  {
   "cell_type": "code",
   "execution_count": 6,
   "id": "union-huntington",
   "metadata": {
    "execution": {
     "iopub.execute_input": "2021-11-15T23:30:11.201059Z",
     "iopub.status.busy": "2021-11-15T23:30:11.198438Z",
     "iopub.status.idle": "2021-11-15T23:30:11.205491Z",
     "shell.execute_reply": "2021-11-15T23:30:11.206851Z"
    },
    "papermill": {
     "duration": 0.050318,
     "end_time": "2021-11-15T23:30:11.207345",
     "exception": false,
     "start_time": "2021-11-15T23:30:11.157027",
     "status": "completed"
    },
    "tags": []
   },
   "outputs": [],
   "source": [
    "df_pivot.columns = [\"stamp_1\", \"stamp_2\"]\n",
    "df_pivot_diff = df_pivot.diff(axis=1)"
   ]
  },
  {
   "cell_type": "code",
   "execution_count": 7,
   "id": "fifth-motion",
   "metadata": {
    "execution": {
     "iopub.execute_input": "2021-11-15T23:30:11.265864Z",
     "iopub.status.busy": "2021-11-15T23:30:11.263206Z",
     "iopub.status.idle": "2021-11-15T23:30:13.313992Z",
     "shell.execute_reply": "2021-11-15T23:30:13.316029Z"
    },
    "papermill": {
     "duration": 2.087425,
     "end_time": "2021-11-15T23:30:13.316711",
     "exception": false,
     "start_time": "2021-11-15T23:30:11.229286",
     "status": "completed"
    },
    "tags": []
   },
   "outputs": [
    {
     "data": {
      "text/plain": [
       "<AxesSubplot:ylabel='PRODUCT'>"
      ]
     },
     "execution_count": 7,
     "metadata": {},
     "output_type": "execute_result"
    },
    {
     "data": {
      "image/png": "[encoded data removed]",
      "text/plain": [
       "<Figure size 432x288 with 1 Axes>"
      ]
     },
     "metadata": {
      "needs_background": "light"
     },
     "output_type": "display_data"
    }
   ],
   "source": [
    "df_pivot_diff.sort_values(\"stamp_2\", ascending = False)[\"stamp_2\"].head(10).plot.barh()"
   ]
  },
  {
   "cell_type": "code",
   "execution_count": null,
   "id": "extra-executive",
   "metadata": {
    "papermill": {
     "duration": 0.027252,
     "end_time": "2021-11-15T23:30:13.373131",
     "exception": false,
     "start_time": "2021-11-15T23:30:13.345879",
     "status": "completed"
    },
    "tags": []
   },
   "outputs": [],
   "source": []
  }
 ],
 "metadata": {
  "kernelspec": {
   "display_name": "Python 3",
   "language": "python",
   "name": "python3"
  },
  "language_info": {
   "codemirror_mode": {
    "name": "ipython",
    "version": 3
   },
   "file_extension": ".py",
   "mimetype": "text/x-python",
   "name": "python",
   "nbconvert_exporter": "python",
   "pygments_lexer": "ipython3",
   "version": "3.9.5"
  },
  "papermill": {
   "default_parameters": {},
   "duration": 9.938108,
   "end_time": "2021-11-15T23:30:14.931377",
   "environment_variables": {},
   "exception": null,
   "input_path": "eBay_Overview.ipynb",
   "output_path": "eBay_Overview.ipynb",
   "parameters": {},
   "start_time": "2021-11-15T23:30:04.993269",
   "version": "2.3.3"
  }
 },
 "nbformat": 4,
 "nbformat_minor": 5
}