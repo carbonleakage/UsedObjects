{
 "cells": [
  {
   "cell_type": "code",
   "execution_count": 1,
   "id": "reverse-picking",
   "metadata": {
    "execution": {
     "iopub.execute_input": "2021-12-15T12:00:07.527558Z",
     "iopub.status.busy": "2021-12-15T12:00:07.525319Z",
     "iopub.status.idle": "2021-12-15T12:00:08.478059Z",
     "shell.execute_reply": "2021-12-15T12:00:08.479661Z"
    },
    "papermill": {
     "duration": 1.004759,
     "end_time": "2021-12-15T12:00:08.480424",
     "exception": false,
     "start_time": "2021-12-15T12:00:07.475665",
     "status": "completed"
    },
    "tags": []
   },
   "outputs": [],
   "source": [
    "import pandas as pd\n",
    "import sqlite3"
   ]
  },
  {
   "cell_type": "code",
   "execution_count": 2,
   "id": "innovative-syndrome",
   "metadata": {
    "execution": {
     "iopub.execute_input": "2021-12-15T12:00:08.546638Z",
     "iopub.status.busy": "2021-12-15T12:00:08.544180Z",
     "iopub.status.idle": "2021-12-15T12:00:09.659640Z",
     "shell.execute_reply": "2021-12-15T12:00:09.660986Z"
    },
    "papermill": {
     "duration": 1.14955,
     "end_time": "2021-12-15T12:00:09.661424",
     "exception": false,
     "start_time": "2021-12-15T12:00:08.511874",
     "status": "completed"
    },
    "tags": []
   },
   "outputs": [],
   "source": [
    "timestamps = pd.read_sql(\"select distinct record_time from EBAY_TOP_BERLIN order by record_time desc limit 2\", sqlite3.connect(\"UsedObjects.db\"))"
   ]
  },
  {
   "cell_type": "code",
   "execution_count": 3,
   "id": "periodic-identification",
   "metadata": {
    "execution": {
     "iopub.execute_input": "2021-12-15T12:00:09.727510Z",
     "iopub.status.busy": "2021-12-15T12:00:09.725450Z",
     "iopub.status.idle": "2021-12-15T12:00:09.746008Z",
     "shell.execute_reply": "2021-12-15T12:00:09.747260Z"
    },
    "papermill": {
     "duration": 0.065917,
     "end_time": "2021-12-15T12:00:09.747664",
     "exception": false,
     "start_time": "2021-12-15T12:00:09.681747",
     "status": "completed"
    },
    "tags": []
   },
   "outputs": [
    {
     "data": {
      "text/html": [
       "<div>\n",
       "<style scoped>\n",
       "    .dataframe tbody tr th:only-of-type {\n",
       "        vertical-align: middle;\n",
       "    }\n",
       "\n",
       "    .dataframe tbody tr th {\n",
       "        vertical-align: top;\n",
       "    }\n",
       "\n",
       "    .dataframe thead th {\n",
       "        text-align: right;\n",
       "    }\n",
       "</style>\n",
       "<table border=\"1\" class=\"dataframe\">\n",
       "  <thead>\n",
       "    <tr style=\"text-align: right;\">\n",
       "      <th></th>\n",
       "      <th>RECORD_TIME</th>\n",
       "    </tr>\n",
       "  </thead>\n",
       "  <tbody>\n",
       "    <tr>\n",
       "      <th>0</th>\n",
       "      <td>2021-12-15 13:00</td>\n",
       "    </tr>\n",
       "    <tr>\n",
       "      <th>1</th>\n",
       "      <td>2021-12-15 12:30</td>\n",
       "    </tr>\n",
       "  </tbody>\n",
       "</table>\n",
       "</div>"
      ],
      "text/plain": [
       "        RECORD_TIME\n",
       "0  2021-12-15 13:00\n",
       "1  2021-12-15 12:30"
      ]
     },
     "execution_count": 3,
     "metadata": {},
     "output_type": "execute_result"
    }
   ],
   "source": [
    "timestamps"
   ]
  },
  {
   "cell_type": "code",
   "execution_count": 4,
   "id": "alternate-victory",
   "metadata": {
    "execution": {
     "iopub.execute_input": "2021-12-15T12:00:09.800898Z",
     "iopub.status.busy": "2021-12-15T12:00:09.798325Z",
     "iopub.status.idle": "2021-12-15T12:00:11.387455Z",
     "shell.execute_reply": "2021-12-15T12:00:11.388677Z"
    },
    "papermill": {
     "duration": 1.620218,
     "end_time": "2021-12-15T12:00:11.389400",
     "exception": false,
     "start_time": "2021-12-15T12:00:09.769182",
     "status": "completed"
    },
    "tags": []
   },
   "outputs": [],
   "source": [
    "df = pd.read_sql(\"select * from EBAY_TOP_BERLIN where record_time in (select distinct record_time from EBAY_TOP_BERLIN order by record_time desc limit 2)\", sqlite3.connect(\"UsedObjects.db\"))"
   ]
  },
  {
   "cell_type": "code",
   "execution_count": 5,
   "id": "popular-active",
   "metadata": {
    "execution": {
     "iopub.execute_input": "2021-12-15T12:00:11.467592Z",
     "iopub.status.busy": "2021-12-15T12:00:11.454710Z",
     "iopub.status.idle": "2021-12-15T12:00:11.486684Z",
     "shell.execute_reply": "2021-12-15T12:00:11.488031Z"
    },
    "papermill": {
     "duration": 0.07511,
     "end_time": "2021-12-15T12:00:11.488503",
     "exception": false,
     "start_time": "2021-12-15T12:00:11.413393",
     "status": "completed"
    },
    "tags": []
   },
   "outputs": [],
   "source": [
    "df_pivot = df.pivot_table(index=\"PRODUCT\", columns = \"RECORD_TIME\", values = \"LISTING_COUNT\")"
   ]
  },
  {
   "cell_type": "code",
   "execution_count": 6,
   "id": "union-huntington",
   "metadata": {
    "execution": {
     "iopub.execute_input": "2021-12-15T12:00:11.546690Z",
     "iopub.status.busy": "2021-12-15T12:00:11.544508Z",
     "iopub.status.idle": "2021-12-15T12:00:11.549399Z",
     "shell.execute_reply": "2021-12-15T12:00:11.551230Z"
    },
    "papermill": {
     "duration": 0.043212,
     "end_time": "2021-12-15T12:00:11.551725",
     "exception": false,
     "start_time": "2021-12-15T12:00:11.508513",
     "status": "completed"
    },
    "tags": []
   },
   "outputs": [],
   "source": [
    "df_pivot.columns = [\"stamp_1\", \"stamp_2\"]\n",
    "df_pivot_diff = df_pivot.diff(axis=1)"
   ]
  },
  {
   "cell_type": "code",
   "execution_count": 7,
   "id": "fifth-motion",
   "metadata": {
    "execution": {
     "iopub.execute_input": "2021-12-15T12:00:11.603686Z",
     "iopub.status.busy": "2021-12-15T12:00:11.601438Z",
     "iopub.status.idle": "2021-12-15T12:00:13.240058Z",
     "shell.execute_reply": "2021-12-15T12:00:13.241635Z"
    },
    "papermill": {
     "duration": 1.668636,
     "end_time": "2021-12-15T12:00:13.242115",
     "exception": false,
     "start_time": "2021-12-15T12:00:11.573479",
     "status": "completed"
    },
    "tags": []
   },
   "outputs": [
    {
     "data": {
      "text/plain": [
       "<AxesSubplot:ylabel='PRODUCT'>"
      ]
     },
     "execution_count": 7,
     "metadata": {},
     "output_type": "execute_result"
    },
    {
     "data": {
      "image/png": "[encoded data removed]",
      "text/plain": [
       "<Figure size 432x288 with 1 Axes>"
      ]
     },
     "metadata": {
      "needs_background": "light"
     },
     "output_type": "display_data"
    }
   ],
   "source": [
    "df_pivot_diff.sort_values(\"stamp_2\", ascending = False)[\"stamp_2\"].head(10).plot.barh()"
   ]
  },
  {
   "cell_type": "code",
   "execution_count": null,
   "id": "extra-executive",
   "metadata": {
    "papermill": {
     "duration": 0.022054,
     "end_time": "2021-12-15T12:00:13.288854",
     "exception": false,
     "start_time": "2021-12-15T12:00:13.266800",
     "status": "completed"
    },
    "tags": []
   },
   "outputs": [],
   "source": []
  }
 ],
 "metadata": {
  "kernelspec": {
   "display_name": "Python 3",
   "language": "python",
   "name": "python3"
  },
  "language_info": {
   "codemirror_mode": {
    "name": "ipython",
    "version": 3
   },
   "file_extension": ".py",
   "mimetype": "text/x-python",
   "name": "python",
   "nbconvert_exporter": "python",
   "pygments_lexer": "ipython3",
   "version": "3.9.5"
  },
  "papermill": {
   "default_parameters": {},
   "duration": 9.938336,
   "end_time": "2021-12-15T12:00:14.703997",
   "environment_variables": {},
   "exception": null,
   "input_path": "eBay_Overview.ipynb",
   "output_path": "eBay_Overview.ipynb",
   "parameters": {},
   "start_time": "2021-12-15T12:00:04.765661",
   "version": "2.3.3"
  }
 },
 "nbformat": 4,
 "nbformat_minor": 5
}