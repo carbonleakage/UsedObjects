{
 "cells": [
  {
   "cell_type": "code",
   "execution_count": 1,
   "id": "reverse-picking",
   "metadata": {
    "execution": {
     "iopub.execute_input": "2021-09-23T22:30:06.757924Z",
     "iopub.status.busy": "2021-09-23T22:30:06.755969Z",
     "iopub.status.idle": "2021-09-23T22:30:07.562594Z",
     "shell.execute_reply": "2021-09-23T22:30:07.561050Z"
    },
    "papermill": {
     "duration": 0.855273,
     "end_time": "2021-09-23T22:30:07.563159",
     "exception": false,
     "start_time": "2021-09-23T22:30:06.707886",
     "status": "completed"
    },
    "tags": []
   },
   "outputs": [],
   "source": [
    "import pandas as pd\n",
    "import sqlite3"
   ]
  },
  {
   "cell_type": "code",
   "execution_count": 2,
   "id": "innovative-syndrome",
   "metadata": {
    "execution": {
     "iopub.execute_input": "2021-09-23T22:30:07.616676Z",
     "iopub.status.busy": "2021-09-23T22:30:07.614252Z",
     "iopub.status.idle": "2021-09-23T22:30:07.979113Z",
     "shell.execute_reply": "2021-09-23T22:30:07.980461Z"
    },
    "papermill": {
     "duration": 0.39515,
     "end_time": "2021-09-23T22:30:07.980869",
     "exception": false,
     "start_time": "2021-09-23T22:30:07.585719",
     "status": "completed"
    },
    "tags": []
   },
   "outputs": [],
   "source": [
    "timestamps = pd.read_sql(\"select distinct record_time from EBAY_TOP_BERLIN order by record_time desc limit 2\", sqlite3.connect(\"UsedObjects.db\"))"
   ]
  },
  {
   "cell_type": "code",
   "execution_count": 3,
   "id": "periodic-identification",
   "metadata": {
    "execution": {
     "iopub.execute_input": "2021-09-23T22:30:08.047959Z",
     "iopub.status.busy": "2021-09-23T22:30:08.042939Z",
     "iopub.status.idle": "2021-09-23T22:30:08.062648Z",
     "shell.execute_reply": "2021-09-23T22:30:08.064031Z"
    },
    "papermill": {
     "duration": 0.064308,
     "end_time": "2021-09-23T22:30:08.064572",
     "exception": false,
     "start_time": "2021-09-23T22:30:08.000264",
     "status": "completed"
    },
    "tags": []
   },
   "outputs": [
    {
     "data": {
      "text/html": [
       "<div>\n",
       "<style scoped>\n",
       "    .dataframe tbody tr th:only-of-type {\n",
       "        vertical-align: middle;\n",
       "    }\n",
       "\n",
       "    .dataframe tbody tr th {\n",
       "        vertical-align: top;\n",
       "    }\n",
       "\n",
       "    .dataframe thead th {\n",
       "        text-align: right;\n",
       "    }\n",
       "</style>\n",
       "<table border=\"1\" class=\"dataframe\">\n",
       "  <thead>\n",
       "    <tr style=\"text-align: right;\">\n",
       "      <th></th>\n",
       "      <th>RECORD_TIME</th>\n",
       "    </tr>\n",
       "  </thead>\n",
       "  <tbody>\n",
       "    <tr>\n",
       "      <th>0</th>\n",
       "      <td>2021-09-24 00:30</td>\n",
       "    </tr>\n",
       "    <tr>\n",
       "      <th>1</th>\n",
       "      <td>2021-09-24 00:00</td>\n",
       "    </tr>\n",
       "  </tbody>\n",
       "</table>\n",
       "</div>"
      ],
      "text/plain": [
       "        RECORD_TIME\n",
       "0  2021-09-24 00:30\n",
       "1  2021-09-24 00:00"
      ]
     },
     "execution_count": 3,
     "metadata": {},
     "output_type": "execute_result"
    }
   ],
   "source": [
    "timestamps"
   ]
  },
  {
   "cell_type": "code",
   "execution_count": 4,
   "id": "alternate-victory",
   "metadata": {
    "execution": {
     "iopub.execute_input": "2021-09-23T22:30:08.117700Z",
     "iopub.status.busy": "2021-09-23T22:30:08.115673Z",
     "iopub.status.idle": "2021-09-23T22:30:08.641413Z",
     "shell.execute_reply": "2021-09-23T22:30:08.642617Z"
    },
    "papermill": {
     "duration": 0.556225,
     "end_time": "2021-09-23T22:30:08.643109",
     "exception": false,
     "start_time": "2021-09-23T22:30:08.086884",
     "status": "completed"
    },
    "tags": []
   },
   "outputs": [],
   "source": [
    "df = pd.read_sql(\"select * from EBAY_TOP_BERLIN where record_time in (select distinct record_time from EBAY_TOP_BERLIN order by record_time desc limit 2)\", sqlite3.connect(\"UsedObjects.db\"))"
   ]
  },
  {
   "cell_type": "code",
   "execution_count": 5,
   "id": "popular-active",
   "metadata": {
    "execution": {
     "iopub.execute_input": "2021-09-23T22:30:08.733275Z",
     "iopub.status.busy": "2021-09-23T22:30:08.725992Z",
     "iopub.status.idle": "2021-09-23T22:30:08.753107Z",
     "shell.execute_reply": "2021-09-23T22:30:08.754327Z"
    },
    "papermill": {
     "duration": 0.071946,
     "end_time": "2021-09-23T22:30:08.754719",
     "exception": false,
     "start_time": "2021-09-23T22:30:08.682773",
     "status": "completed"
    },
    "tags": []
   },
   "outputs": [],
   "source": [
    "df_pivot = df.pivot_table(index=\"PRODUCT\", columns = \"RECORD_TIME\", values = \"LISTING_COUNT\")"
   ]
  },
  {
   "cell_type": "code",
   "execution_count": 6,
   "id": "union-huntington",
   "metadata": {
    "execution": {
     "iopub.execute_input": "2021-09-23T22:30:08.813851Z",
     "iopub.status.busy": "2021-09-23T22:30:08.811415Z",
     "iopub.status.idle": "2021-09-23T22:30:08.817638Z",
     "shell.execute_reply": "2021-09-23T22:30:08.818961Z"
    },
    "papermill": {
     "duration": 0.042433,
     "end_time": "2021-09-23T22:30:08.819423",
     "exception": false,
     "start_time": "2021-09-23T22:30:08.776990",
     "status": "completed"
    },
    "tags": []
   },
   "outputs": [],
   "source": [
    "df_pivot.columns = [\"stamp_1\", \"stamp_2\"]\n",
    "df_pivot_diff = df_pivot.diff(axis=1)"
   ]
  },
  {
   "cell_type": "code",
   "execution_count": 7,
   "id": "fifth-motion",
   "metadata": {
    "execution": {
     "iopub.execute_input": "2021-09-23T22:30:08.873996Z",
     "iopub.status.busy": "2021-09-23T22:30:08.871807Z",
     "iopub.status.idle": "2021-09-23T22:30:10.333960Z",
     "shell.execute_reply": "2021-09-23T22:30:10.335501Z"
    },
    "papermill": {
     "duration": 1.495119,
     "end_time": "2021-09-23T22:30:10.335966",
     "exception": false,
     "start_time": "2021-09-23T22:30:08.840847",
     "status": "completed"
    },
    "tags": []
   },
   "outputs": [
    {
     "data": {
      "text/plain": [
       "<AxesSubplot:ylabel='PRODUCT'>"
      ]
     },
     "execution_count": 7,
     "metadata": {},
     "output_type": "execute_result"
    },
    {
     "data": {
      "image/png": "[encoded data removed]",
      "text/plain": [
       "<Figure size 432x288 with 1 Axes>"
      ]
     },
     "metadata": {
      "needs_background": "light"
     },
     "output_type": "display_data"
    }
   ],
   "source": [
    "df_pivot_diff.sort_values(\"stamp_2\", ascending = False)[\"stamp_2\"].head(10).plot.barh()"
   ]
  },
  {
   "cell_type": "code",
   "execution_count": null,
   "id": "extra-executive",
   "metadata": {
    "papermill": {
     "duration": 0.022355,
     "end_time": "2021-09-23T22:30:10.382134",
     "exception": false,
     "start_time": "2021-09-23T22:30:10.359779",
     "status": "completed"
    },
    "tags": []
   },
   "outputs": [],
   "source": []
  }
 ],
 "metadata": {
  "kernelspec": {
   "display_name": "Python 3",
   "language": "python",
   "name": "python3"
  },
  "language_info": {
   "codemirror_mode": {
    "name": "ipython",
    "version": 3
   },
   "file_extension": ".py",
   "mimetype": "text/x-python",
   "name": "python",
   "nbconvert_exporter": "python",
   "pygments_lexer": "ipython3",
   "version": "3.9.5"
  },
  "papermill": {
   "default_parameters": {},
   "duration": 6.722628,
   "end_time": "2021-09-23T22:30:11.024192",
   "environment_variables": {},
   "exception": null,
   "input_path": "eBay_Overview.ipynb",
   "output_path": "eBay_Overview.ipynb",
   "parameters": {},
   "start_time": "2021-09-23T22:30:04.301564",
   "version": "2.3.3"
  }
 },
 "nbformat": 4,
 "nbformat_minor": 5
}