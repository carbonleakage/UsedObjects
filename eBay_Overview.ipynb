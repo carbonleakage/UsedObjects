{
 "cells": [
  {
   "cell_type": "code",
   "execution_count": 1,
   "id": "reverse-picking",
   "metadata": {
    "execution": {
     "iopub.execute_input": "2021-11-01T17:00:07.286664Z",
     "iopub.status.busy": "2021-11-01T17:00:07.284740Z",
     "iopub.status.idle": "2021-11-01T17:00:08.090378Z",
     "shell.execute_reply": "2021-11-01T17:00:08.091603Z"
    },
    "papermill": {
     "duration": 0.858013,
     "end_time": "2021-11-01T17:00:08.092203",
     "exception": false,
     "start_time": "2021-11-01T17:00:07.234190",
     "status": "completed"
    },
    "tags": []
   },
   "outputs": [],
   "source": [
    "import pandas as pd\n",
    "import sqlite3"
   ]
  },
  {
   "cell_type": "code",
   "execution_count": 2,
   "id": "innovative-syndrome",
   "metadata": {
    "execution": {
     "iopub.execute_input": "2021-11-01T17:00:08.144201Z",
     "iopub.status.busy": "2021-11-01T17:00:08.142362Z",
     "iopub.status.idle": "2021-11-01T17:00:08.835222Z",
     "shell.execute_reply": "2021-11-01T17:00:08.836416Z"
    },
    "papermill": {
     "duration": 0.722721,
     "end_time": "2021-11-01T17:00:08.836861",
     "exception": false,
     "start_time": "2021-11-01T17:00:08.114140",
     "status": "completed"
    },
    "tags": []
   },
   "outputs": [],
   "source": [
    "timestamps = pd.read_sql(\"select distinct record_time from EBAY_TOP_BERLIN order by record_time desc limit 2\", sqlite3.connect(\"UsedObjects.db\"))"
   ]
  },
  {
   "cell_type": "code",
   "execution_count": 3,
   "id": "periodic-identification",
   "metadata": {
    "execution": {
     "iopub.execute_input": "2021-11-01T17:00:08.914257Z",
     "iopub.status.busy": "2021-11-01T17:00:08.912158Z",
     "iopub.status.idle": "2021-11-01T17:00:08.931959Z",
     "shell.execute_reply": "2021-11-01T17:00:08.933315Z"
    },
    "papermill": {
     "duration": 0.069744,
     "end_time": "2021-11-01T17:00:08.933909",
     "exception": false,
     "start_time": "2021-11-01T17:00:08.864165",
     "status": "completed"
    },
    "tags": []
   },
   "outputs": [
    {
     "data": {
      "text/html": [
       "<div>\n",
       "<style scoped>\n",
       "    .dataframe tbody tr th:only-of-type {\n",
       "        vertical-align: middle;\n",
       "    }\n",
       "\n",
       "    .dataframe tbody tr th {\n",
       "        vertical-align: top;\n",
       "    }\n",
       "\n",
       "    .dataframe thead th {\n",
       "        text-align: right;\n",
       "    }\n",
       "</style>\n",
       "<table border=\"1\" class=\"dataframe\">\n",
       "  <thead>\n",
       "    <tr style=\"text-align: right;\">\n",
       "      <th></th>\n",
       "      <th>RECORD_TIME</th>\n",
       "    </tr>\n",
       "  </thead>\n",
       "  <tbody>\n",
       "    <tr>\n",
       "      <th>0</th>\n",
       "      <td>2021-11-01 18:00</td>\n",
       "    </tr>\n",
       "    <tr>\n",
       "      <th>1</th>\n",
       "      <td>2021-11-01 17:30</td>\n",
       "    </tr>\n",
       "  </tbody>\n",
       "</table>\n",
       "</div>"
      ],
      "text/plain": [
       "        RECORD_TIME\n",
       "0  2021-11-01 18:00\n",
       "1  2021-11-01 17:30"
      ]
     },
     "execution_count": 3,
     "metadata": {},
     "output_type": "execute_result"
    }
   ],
   "source": [
    "timestamps"
   ]
  },
  {
   "cell_type": "code",
   "execution_count": 4,
   "id": "alternate-victory",
   "metadata": {
    "execution": {
     "iopub.execute_input": "2021-11-01T17:00:08.987840Z",
     "iopub.status.busy": "2021-11-01T17:00:08.985836Z",
     "iopub.status.idle": "2021-11-01T17:00:09.968626Z",
     "shell.execute_reply": "2021-11-01T17:00:09.970073Z"
    },
    "papermill": {
     "duration": 1.013892,
     "end_time": "2021-11-01T17:00:09.970492",
     "exception": false,
     "start_time": "2021-11-01T17:00:08.956600",
     "status": "completed"
    },
    "tags": []
   },
   "outputs": [],
   "source": [
    "df = pd.read_sql(\"select * from EBAY_TOP_BERLIN where record_time in (select distinct record_time from EBAY_TOP_BERLIN order by record_time desc limit 2)\", sqlite3.connect(\"UsedObjects.db\"))"
   ]
  },
  {
   "cell_type": "code",
   "execution_count": 5,
   "id": "popular-active",
   "metadata": {
    "execution": {
     "iopub.execute_input": "2021-11-01T17:00:10.040885Z",
     "iopub.status.busy": "2021-11-01T17:00:10.029103Z",
     "iopub.status.idle": "2021-11-01T17:00:10.057626Z",
     "shell.execute_reply": "2021-11-01T17:00:10.058844Z"
    },
    "papermill": {
     "duration": 0.067916,
     "end_time": "2021-11-01T17:00:10.059240",
     "exception": false,
     "start_time": "2021-11-01T17:00:09.991324",
     "status": "completed"
    },
    "tags": []
   },
   "outputs": [],
   "source": [
    "df_pivot = df.pivot_table(index=\"PRODUCT\", columns = \"RECORD_TIME\", values = \"LISTING_COUNT\")"
   ]
  },
  {
   "cell_type": "code",
   "execution_count": 6,
   "id": "union-huntington",
   "metadata": {
    "execution": {
     "iopub.execute_input": "2021-11-01T17:00:10.116198Z",
     "iopub.status.busy": "2021-11-01T17:00:10.114053Z",
     "iopub.status.idle": "2021-11-01T17:00:10.119456Z",
     "shell.execute_reply": "2021-11-01T17:00:10.121006Z"
    },
    "papermill": {
     "duration": 0.041164,
     "end_time": "2021-11-01T17:00:10.121468",
     "exception": false,
     "start_time": "2021-11-01T17:00:10.080304",
     "status": "completed"
    },
    "tags": []
   },
   "outputs": [],
   "source": [
    "df_pivot.columns = [\"stamp_1\", \"stamp_2\"]\n",
    "df_pivot_diff = df_pivot.diff(axis=1)"
   ]
  },
  {
   "cell_type": "code",
   "execution_count": 7,
   "id": "fifth-motion",
   "metadata": {
    "execution": {
     "iopub.execute_input": "2021-11-01T17:00:10.178610Z",
     "iopub.status.busy": "2021-11-01T17:00:10.176185Z",
     "iopub.status.idle": "2021-11-01T17:00:11.684484Z",
     "shell.execute_reply": "2021-11-01T17:00:11.685983Z"
    },
    "papermill": {
     "duration": 1.542023,
     "end_time": "2021-11-01T17:00:11.686424",
     "exception": false,
     "start_time": "2021-11-01T17:00:10.144401",
     "status": "completed"
    },
    "tags": []
   },
   "outputs": [
    {
     "data": {
      "text/plain": [
       "<AxesSubplot:ylabel='PRODUCT'>"
      ]
     },
     "execution_count": 7,
     "metadata": {},
     "output_type": "execute_result"
    },
    {
     "data": {
      "image/png": "[encoded data removed]",
      "text/plain": [
       "<Figure size 432x288 with 1 Axes>"
      ]
     },
     "metadata": {
      "needs_background": "light"
     },
     "output_type": "display_data"
    }
   ],
   "source": [
    "df_pivot_diff.sort_values(\"stamp_2\", ascending = False)[\"stamp_2\"].head(10).plot.barh()"
   ]
  },
  {
   "cell_type": "code",
   "execution_count": null,
   "id": "extra-executive",
   "metadata": {
    "papermill": {
     "duration": 0.02233,
     "end_time": "2021-11-01T17:00:11.733883",
     "exception": false,
     "start_time": "2021-11-01T17:00:11.711553",
     "status": "completed"
    },
    "tags": []
   },
   "outputs": [],
   "source": []
  }
 ],
 "metadata": {
  "kernelspec": {
   "display_name": "Python 3",
   "language": "python",
   "name": "python3"
  },
  "language_info": {
   "codemirror_mode": {
    "name": "ipython",
    "version": 3
   },
   "file_extension": ".py",
   "mimetype": "text/x-python",
   "name": "python",
   "nbconvert_exporter": "python",
   "pygments_lexer": "ipython3",
   "version": "3.9.5"
  },
  "papermill": {
   "default_parameters": {},
   "duration": 7.564246,
   "end_time": "2021-11-01T17:00:12.376769",
   "environment_variables": {},
   "exception": null,
   "input_path": "eBay_Overview.ipynb",
   "output_path": "eBay_Overview.ipynb",
   "parameters": {},
   "start_time": "2021-11-01T17:00:04.812523",
   "version": "2.3.3"
  }
 },
 "nbformat": 4,
 "nbformat_minor": 5
}