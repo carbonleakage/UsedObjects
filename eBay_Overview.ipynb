{
 "cells": [
  {
   "cell_type": "code",
   "execution_count": 1,
   "id": "reverse-picking",
   "metadata": {
    "execution": {
     "iopub.execute_input": "2021-08-19T05:00:07.742228Z",
     "iopub.status.busy": "2021-08-19T05:00:07.740228Z",
     "iopub.status.idle": "2021-08-19T05:00:08.546560Z",
     "shell.execute_reply": "2021-08-19T05:00:08.548006Z"
    },
    "papermill": {
     "duration": 0.858821,
     "end_time": "2021-08-19T05:00:08.548653",
     "exception": false,
     "start_time": "2021-08-19T05:00:07.689832",
     "status": "completed"
    },
    "tags": []
   },
   "outputs": [],
   "source": [
    "import pandas as pd\n",
    "import sqlite3"
   ]
  },
  {
   "cell_type": "code",
   "execution_count": 2,
   "id": "innovative-syndrome",
   "metadata": {
    "execution": {
     "iopub.execute_input": "2021-08-19T05:00:08.598912Z",
     "iopub.status.busy": "2021-08-19T05:00:08.596955Z",
     "iopub.status.idle": "2021-08-19T05:00:08.675625Z",
     "shell.execute_reply": "2021-08-19T05:00:08.676820Z"
    },
    "papermill": {
     "duration": 0.108174,
     "end_time": "2021-08-19T05:00:08.677213",
     "exception": false,
     "start_time": "2021-08-19T05:00:08.569039",
     "status": "completed"
    },
    "tags": []
   },
   "outputs": [],
   "source": [
    "timestamps = pd.read_sql(\"select distinct record_time from EBAY_TOP_BERLIN order by record_time desc limit 2\", sqlite3.connect(\"UsedObjects.db\"))"
   ]
  },
  {
   "cell_type": "code",
   "execution_count": 3,
   "id": "periodic-identification",
   "metadata": {
    "execution": {
     "iopub.execute_input": "2021-08-19T05:00:08.741369Z",
     "iopub.status.busy": "2021-08-19T05:00:08.739347Z",
     "iopub.status.idle": "2021-08-19T05:00:08.758962Z",
     "shell.execute_reply": "2021-08-19T05:00:08.760236Z"
    },
    "papermill": {
     "duration": 0.063929,
     "end_time": "2021-08-19T05:00:08.760625",
     "exception": false,
     "start_time": "2021-08-19T05:00:08.696696",
     "status": "completed"
    },
    "tags": []
   },
   "outputs": [
    {
     "data": {
      "text/html": [
       "<div>\n",
       "<style scoped>\n",
       "    .dataframe tbody tr th:only-of-type {\n",
       "        vertical-align: middle;\n",
       "    }\n",
       "\n",
       "    .dataframe tbody tr th {\n",
       "        vertical-align: top;\n",
       "    }\n",
       "\n",
       "    .dataframe thead th {\n",
       "        text-align: right;\n",
       "    }\n",
       "</style>\n",
       "<table border=\"1\" class=\"dataframe\">\n",
       "  <thead>\n",
       "    <tr style=\"text-align: right;\">\n",
       "      <th></th>\n",
       "      <th>RECORD_TIME</th>\n",
       "    </tr>\n",
       "  </thead>\n",
       "  <tbody>\n",
       "    <tr>\n",
       "      <th>0</th>\n",
       "      <td>2021-08-19 07:00</td>\n",
       "    </tr>\n",
       "    <tr>\n",
       "      <th>1</th>\n",
       "      <td>2021-08-19 06:30</td>\n",
       "    </tr>\n",
       "  </tbody>\n",
       "</table>\n",
       "</div>"
      ],
      "text/plain": [
       "        RECORD_TIME\n",
       "0  2021-08-19 07:00\n",
       "1  2021-08-19 06:30"
      ]
     },
     "execution_count": 3,
     "metadata": {},
     "output_type": "execute_result"
    }
   ],
   "source": [
    "timestamps"
   ]
  },
  {
   "cell_type": "code",
   "execution_count": 4,
   "id": "alternate-victory",
   "metadata": {
    "execution": {
     "iopub.execute_input": "2021-08-19T05:00:08.812190Z",
     "iopub.status.busy": "2021-08-19T05:00:08.810028Z",
     "iopub.status.idle": "2021-08-19T05:00:08.929569Z",
     "shell.execute_reply": "2021-08-19T05:00:08.931123Z"
    },
    "papermill": {
     "duration": 0.14988,
     "end_time": "2021-08-19T05:00:08.931556",
     "exception": false,
     "start_time": "2021-08-19T05:00:08.781676",
     "status": "completed"
    },
    "tags": []
   },
   "outputs": [],
   "source": [
    "df = pd.read_sql(\"select * from EBAY_TOP_BERLIN where record_time in (select distinct record_time from EBAY_TOP_BERLIN order by record_time desc limit 2)\", sqlite3.connect(\"UsedObjects.db\"))"
   ]
  },
  {
   "cell_type": "code",
   "execution_count": 5,
   "id": "popular-active",
   "metadata": {
    "execution": {
     "iopub.execute_input": "2021-08-19T05:00:09.002764Z",
     "iopub.status.busy": "2021-08-19T05:00:08.991022Z",
     "iopub.status.idle": "2021-08-19T05:00:09.018386Z",
     "shell.execute_reply": "2021-08-19T05:00:09.019605Z"
    },
    "papermill": {
     "duration": 0.068139,
     "end_time": "2021-08-19T05:00:09.019991",
     "exception": false,
     "start_time": "2021-08-19T05:00:08.951852",
     "status": "completed"
    },
    "tags": []
   },
   "outputs": [],
   "source": [
    "df_pivot = df.pivot_table(index=\"PRODUCT\", columns = \"RECORD_TIME\", values = \"LISTING_COUNT\")"
   ]
  },
  {
   "cell_type": "code",
   "execution_count": 6,
   "id": "union-huntington",
   "metadata": {
    "execution": {
     "iopub.execute_input": "2021-08-19T05:00:09.077802Z",
     "iopub.status.busy": "2021-08-19T05:00:09.075539Z",
     "iopub.status.idle": "2021-08-19T05:00:09.081369Z",
     "shell.execute_reply": "2021-08-19T05:00:09.082734Z"
    },
    "papermill": {
     "duration": 0.041662,
     "end_time": "2021-08-19T05:00:09.083158",
     "exception": false,
     "start_time": "2021-08-19T05:00:09.041496",
     "status": "completed"
    },
    "tags": []
   },
   "outputs": [],
   "source": [
    "df_pivot.columns = [\"stamp_1\", \"stamp_2\"]\n",
    "df_pivot_diff = df_pivot.diff(axis=1)"
   ]
  },
  {
   "cell_type": "code",
   "execution_count": 7,
   "id": "fifth-motion",
   "metadata": {
    "execution": {
     "iopub.execute_input": "2021-08-19T05:00:09.138419Z",
     "iopub.status.busy": "2021-08-19T05:00:09.136064Z",
     "iopub.status.idle": "2021-08-19T05:00:10.647614Z",
     "shell.execute_reply": "2021-08-19T05:00:10.648891Z"
    },
    "papermill": {
     "duration": 1.54519,
     "end_time": "2021-08-19T05:00:10.649334",
     "exception": false,
     "start_time": "2021-08-19T05:00:09.104144",
     "status": "completed"
    },
    "tags": []
   },
   "outputs": [
    {
     "data": {
      "text/plain": [
       "<AxesSubplot:ylabel='PRODUCT'>"
      ]
     },
     "execution_count": 7,
     "metadata": {},
     "output_type": "execute_result"
    },
    {
     "data": {
      "image/png": "[encoded data removed]",
      "text/plain": [
       "<Figure size 432x288 with 1 Axes>"
      ]
     },
     "metadata": {
      "needs_background": "light"
     },
     "output_type": "display_data"
    }
   ],
   "source": [
    "df_pivot_diff.sort_values(\"stamp_2\", ascending = False)[\"stamp_2\"].head(10).plot.barh()"
   ]
  },
  {
   "cell_type": "code",
   "execution_count": null,
   "id": "extra-executive",
   "metadata": {
    "papermill": {
     "duration": 0.022387,
     "end_time": "2021-08-19T05:00:10.696117",
     "exception": false,
     "start_time": "2021-08-19T05:00:10.673730",
     "status": "completed"
    },
    "tags": []
   },
   "outputs": [],
   "source": []
  }
 ],
 "metadata": {
  "kernelspec": {
   "display_name": "Python 3",
   "language": "python",
   "name": "python3"
  },
  "language_info": {
   "codemirror_mode": {
    "name": "ipython",
    "version": 3
   },
   "file_extension": ".py",
   "mimetype": "text/x-python",
   "name": "python",
   "nbconvert_exporter": "python",
   "pygments_lexer": "ipython3",
   "version": "3.9.5"
  },
  "papermill": {
   "default_parameters": {},
   "duration": 6.831602,
   "end_time": "2021-08-19T05:00:12.107334",
   "environment_variables": {},
   "exception": null,
   "input_path": "eBay_Overview.ipynb",
   "output_path": "eBay_Overview.ipynb",
   "parameters": {},
   "start_time": "2021-08-19T05:00:05.275732",
   "version": "2.3.3"
  }
 },
 "nbformat": 4,
 "nbformat_minor": 5
}