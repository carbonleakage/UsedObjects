{
 "cells": [
  {
   "cell_type": "code",
   "execution_count": 1,
   "id": "reverse-picking",
   "metadata": {
    "execution": {
     "iopub.execute_input": "2021-10-02T01:30:06.516085Z",
     "iopub.status.busy": "2021-10-02T01:30:06.514114Z",
     "iopub.status.idle": "2021-10-02T01:30:07.319386Z",
     "shell.execute_reply": "2021-10-02T01:30:07.320652Z"
    },
    "papermill": {
     "duration": 0.857031,
     "end_time": "2021-10-02T01:30:07.321266",
     "exception": false,
     "start_time": "2021-10-02T01:30:06.464235",
     "status": "completed"
    },
    "tags": []
   },
   "outputs": [],
   "source": [
    "import pandas as pd\n",
    "import sqlite3"
   ]
  },
  {
   "cell_type": "code",
   "execution_count": 2,
   "id": "innovative-syndrome",
   "metadata": {
    "execution": {
     "iopub.execute_input": "2021-10-02T01:30:07.371683Z",
     "iopub.status.busy": "2021-10-02T01:30:07.369630Z",
     "iopub.status.idle": "2021-10-02T01:30:07.792102Z",
     "shell.execute_reply": "2021-10-02T01:30:07.793346Z"
    },
    "papermill": {
     "duration": 0.452193,
     "end_time": "2021-10-02T01:30:07.793740",
     "exception": false,
     "start_time": "2021-10-02T01:30:07.341547",
     "status": "completed"
    },
    "tags": []
   },
   "outputs": [],
   "source": [
    "timestamps = pd.read_sql(\"select distinct record_time from EBAY_TOP_BERLIN order by record_time desc limit 2\", sqlite3.connect(\"UsedObjects.db\"))"
   ]
  },
  {
   "cell_type": "code",
   "execution_count": 3,
   "id": "periodic-identification",
   "metadata": {
    "execution": {
     "iopub.execute_input": "2021-10-02T01:30:07.857850Z",
     "iopub.status.busy": "2021-10-02T01:30:07.855825Z",
     "iopub.status.idle": "2021-10-02T01:30:07.875371Z",
     "shell.execute_reply": "2021-10-02T01:30:07.876530Z"
    },
    "papermill": {
     "duration": 0.064371,
     "end_time": "2021-10-02T01:30:07.877270",
     "exception": false,
     "start_time": "2021-10-02T01:30:07.812899",
     "status": "completed"
    },
    "tags": []
   },
   "outputs": [
    {
     "data": {
      "text/html": [
       "<div>\n",
       "<style scoped>\n",
       "    .dataframe tbody tr th:only-of-type {\n",
       "        vertical-align: middle;\n",
       "    }\n",
       "\n",
       "    .dataframe tbody tr th {\n",
       "        vertical-align: top;\n",
       "    }\n",
       "\n",
       "    .dataframe thead th {\n",
       "        text-align: right;\n",
       "    }\n",
       "</style>\n",
       "<table border=\"1\" class=\"dataframe\">\n",
       "  <thead>\n",
       "    <tr style=\"text-align: right;\">\n",
       "      <th></th>\n",
       "      <th>RECORD_TIME</th>\n",
       "    </tr>\n",
       "  </thead>\n",
       "  <tbody>\n",
       "    <tr>\n",
       "      <th>0</th>\n",
       "      <td>2021-10-02 03:30</td>\n",
       "    </tr>\n",
       "    <tr>\n",
       "      <th>1</th>\n",
       "      <td>2021-10-02 03:00</td>\n",
       "    </tr>\n",
       "  </tbody>\n",
       "</table>\n",
       "</div>"
      ],
      "text/plain": [
       "        RECORD_TIME\n",
       "0  2021-10-02 03:30\n",
       "1  2021-10-02 03:00"
      ]
     },
     "execution_count": 3,
     "metadata": {},
     "output_type": "execute_result"
    }
   ],
   "source": [
    "timestamps"
   ]
  },
  {
   "cell_type": "code",
   "execution_count": 4,
   "id": "alternate-victory",
   "metadata": {
    "execution": {
     "iopub.execute_input": "2021-10-02T01:30:07.929744Z",
     "iopub.status.busy": "2021-10-02T01:30:07.927701Z",
     "iopub.status.idle": "2021-10-02T01:30:08.549827Z",
     "shell.execute_reply": "2021-10-02T01:30:08.548513Z"
    },
    "papermill": {
     "duration": 0.651028,
     "end_time": "2021-10-02T01:30:08.550165",
     "exception": false,
     "start_time": "2021-10-02T01:30:07.899137",
     "status": "completed"
    },
    "tags": []
   },
   "outputs": [],
   "source": [
    "df = pd.read_sql(\"select * from EBAY_TOP_BERLIN where record_time in (select distinct record_time from EBAY_TOP_BERLIN order by record_time desc limit 2)\", sqlite3.connect(\"UsedObjects.db\"))"
   ]
  },
  {
   "cell_type": "code",
   "execution_count": 5,
   "id": "popular-active",
   "metadata": {
    "execution": {
     "iopub.execute_input": "2021-10-02T01:30:08.620636Z",
     "iopub.status.busy": "2021-10-02T01:30:08.618428Z",
     "iopub.status.idle": "2021-10-02T01:30:08.645741Z",
     "shell.execute_reply": "2021-10-02T01:30:08.647167Z"
    },
    "papermill": {
     "duration": 0.0712,
     "end_time": "2021-10-02T01:30:08.647589",
     "exception": false,
     "start_time": "2021-10-02T01:30:08.576389",
     "status": "completed"
    },
    "tags": []
   },
   "outputs": [],
   "source": [
    "df_pivot = df.pivot_table(index=\"PRODUCT\", columns = \"RECORD_TIME\", values = \"LISTING_COUNT\")"
   ]
  },
  {
   "cell_type": "code",
   "execution_count": 6,
   "id": "union-huntington",
   "metadata": {
    "execution": {
     "iopub.execute_input": "2021-10-02T01:30:08.705473Z",
     "iopub.status.busy": "2021-10-02T01:30:08.703019Z",
     "iopub.status.idle": "2021-10-02T01:30:08.708883Z",
     "shell.execute_reply": "2021-10-02T01:30:08.710165Z"
    },
    "papermill": {
     "duration": 0.041818,
     "end_time": "2021-10-02T01:30:08.710579",
     "exception": false,
     "start_time": "2021-10-02T01:30:08.668761",
     "status": "completed"
    },
    "tags": []
   },
   "outputs": [],
   "source": [
    "df_pivot.columns = [\"stamp_1\", \"stamp_2\"]\n",
    "df_pivot_diff = df_pivot.diff(axis=1)"
   ]
  },
  {
   "cell_type": "code",
   "execution_count": 7,
   "id": "fifth-motion",
   "metadata": {
    "execution": {
     "iopub.execute_input": "2021-10-02T01:30:08.764695Z",
     "iopub.status.busy": "2021-10-02T01:30:08.762324Z",
     "iopub.status.idle": "2021-10-02T01:30:10.233519Z",
     "shell.execute_reply": "2021-10-02T01:30:10.234863Z"
    },
    "papermill": {
     "duration": 1.504231,
     "end_time": "2021-10-02T01:30:10.235328",
     "exception": false,
     "start_time": "2021-10-02T01:30:08.731097",
     "status": "completed"
    },
    "tags": []
   },
   "outputs": [
    {
     "data": {
      "text/plain": [
       "<AxesSubplot:ylabel='PRODUCT'>"
      ]
     },
     "execution_count": 7,
     "metadata": {},
     "output_type": "execute_result"
    },
    {
     "data": {
      "image/png": "[encoded data removed]",
      "text/plain": [
       "<Figure size 432x288 with 1 Axes>"
      ]
     },
     "metadata": {
      "needs_background": "light"
     },
     "output_type": "display_data"
    }
   ],
   "source": [
    "df_pivot_diff.sort_values(\"stamp_2\", ascending = False)[\"stamp_2\"].head(10).plot.barh()"
   ]
  },
  {
   "cell_type": "code",
   "execution_count": null,
   "id": "extra-executive",
   "metadata": {
    "papermill": {
     "duration": 0.02183,
     "end_time": "2021-10-02T01:30:10.281794",
     "exception": false,
     "start_time": "2021-10-02T01:30:10.259964",
     "status": "completed"
    },
    "tags": []
   },
   "outputs": [],
   "source": []
  }
 ],
 "metadata": {
  "kernelspec": {
   "display_name": "Python 3",
   "language": "python",
   "name": "python3"
  },
  "language_info": {
   "codemirror_mode": {
    "name": "ipython",
    "version": 3
   },
   "file_extension": ".py",
   "mimetype": "text/x-python",
   "name": "python",
   "nbconvert_exporter": "python",
   "pygments_lexer": "ipython3",
   "version": "3.9.5"
  },
  "papermill": {
   "default_parameters": {},
   "duration": 7.829029,
   "end_time": "2021-10-02T01:30:11.887419",
   "environment_variables": {},
   "exception": null,
   "input_path": "eBay_Overview.ipynb",
   "output_path": "eBay_Overview.ipynb",
   "parameters": {},
   "start_time": "2021-10-02T01:30:04.058390",
   "version": "2.3.3"
  }
 },
 "nbformat": 4,
 "nbformat_minor": 5
}