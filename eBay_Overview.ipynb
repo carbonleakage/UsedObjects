{
 "cells": [
  {
   "cell_type": "code",
   "execution_count": 1,
   "id": "reverse-picking",
   "metadata": {
    "execution": {
     "iopub.execute_input": "2021-08-22T17:00:07.438907Z",
     "iopub.status.busy": "2021-08-22T17:00:07.436840Z",
     "iopub.status.idle": "2021-08-22T17:00:08.241616Z",
     "shell.execute_reply": "2021-08-22T17:00:08.242967Z"
    },
    "papermill": {
     "duration": 0.855183,
     "end_time": "2021-08-22T17:00:08.243593",
     "exception": false,
     "start_time": "2021-08-22T17:00:07.388410",
     "status": "completed"
    },
    "tags": []
   },
   "outputs": [],
   "source": [
    "import pandas as pd\n",
    "import sqlite3"
   ]
  },
  {
   "cell_type": "code",
   "execution_count": 2,
   "id": "innovative-syndrome",
   "metadata": {
    "execution": {
     "iopub.execute_input": "2021-08-22T17:00:08.295054Z",
     "iopub.status.busy": "2021-08-22T17:00:08.292979Z",
     "iopub.status.idle": "2021-08-22T17:00:08.400159Z",
     "shell.execute_reply": "2021-08-22T17:00:08.401266Z"
    },
    "papermill": {
     "duration": 0.136598,
     "end_time": "2021-08-22T17:00:08.401671",
     "exception": false,
     "start_time": "2021-08-22T17:00:08.265073",
     "status": "completed"
    },
    "tags": []
   },
   "outputs": [],
   "source": [
    "timestamps = pd.read_sql(\"select distinct record_time from EBAY_TOP_BERLIN order by record_time desc limit 2\", sqlite3.connect(\"UsedObjects.db\"))"
   ]
  },
  {
   "cell_type": "code",
   "execution_count": 3,
   "id": "periodic-identification",
   "metadata": {
    "execution": {
     "iopub.execute_input": "2021-08-22T17:00:08.469074Z",
     "iopub.status.busy": "2021-08-22T17:00:08.467078Z",
     "iopub.status.idle": "2021-08-22T17:00:08.486927Z",
     "shell.execute_reply": "2021-08-22T17:00:08.488289Z"
    },
    "papermill": {
     "duration": 0.065371,
     "end_time": "2021-08-22T17:00:08.488764",
     "exception": false,
     "start_time": "2021-08-22T17:00:08.423393",
     "status": "completed"
    },
    "tags": []
   },
   "outputs": [
    {
     "data": {
      "text/html": [
       "<div>\n",
       "<style scoped>\n",
       "    .dataframe tbody tr th:only-of-type {\n",
       "        vertical-align: middle;\n",
       "    }\n",
       "\n",
       "    .dataframe tbody tr th {\n",
       "        vertical-align: top;\n",
       "    }\n",
       "\n",
       "    .dataframe thead th {\n",
       "        text-align: right;\n",
       "    }\n",
       "</style>\n",
       "<table border=\"1\" class=\"dataframe\">\n",
       "  <thead>\n",
       "    <tr style=\"text-align: right;\">\n",
       "      <th></th>\n",
       "      <th>RECORD_TIME</th>\n",
       "    </tr>\n",
       "  </thead>\n",
       "  <tbody>\n",
       "    <tr>\n",
       "      <th>0</th>\n",
       "      <td>2021-08-22 19:00</td>\n",
       "    </tr>\n",
       "    <tr>\n",
       "      <th>1</th>\n",
       "      <td>2021-08-22 18:30</td>\n",
       "    </tr>\n",
       "  </tbody>\n",
       "</table>\n",
       "</div>"
      ],
      "text/plain": [
       "        RECORD_TIME\n",
       "0  2021-08-22 19:00\n",
       "1  2021-08-22 18:30"
      ]
     },
     "execution_count": 3,
     "metadata": {},
     "output_type": "execute_result"
    }
   ],
   "source": [
    "timestamps"
   ]
  },
  {
   "cell_type": "code",
   "execution_count": 4,
   "id": "alternate-victory",
   "metadata": {
    "execution": {
     "iopub.execute_input": "2021-08-22T17:00:08.541100Z",
     "iopub.status.busy": "2021-08-22T17:00:08.539087Z",
     "iopub.status.idle": "2021-08-22T17:00:08.695056Z",
     "shell.execute_reply": "2021-08-22T17:00:08.696173Z"
    },
    "papermill": {
     "duration": 0.186452,
     "end_time": "2021-08-22T17:00:08.696575",
     "exception": false,
     "start_time": "2021-08-22T17:00:08.510123",
     "status": "completed"
    },
    "tags": []
   },
   "outputs": [],
   "source": [
    "df = pd.read_sql(\"select * from EBAY_TOP_BERLIN where record_time in (select distinct record_time from EBAY_TOP_BERLIN order by record_time desc limit 2)\", sqlite3.connect(\"UsedObjects.db\"))"
   ]
  },
  {
   "cell_type": "code",
   "execution_count": 5,
   "id": "popular-active",
   "metadata": {
    "execution": {
     "iopub.execute_input": "2021-08-22T17:00:08.767913Z",
     "iopub.status.busy": "2021-08-22T17:00:08.755583Z",
     "iopub.status.idle": "2021-08-22T17:00:08.783939Z",
     "shell.execute_reply": "2021-08-22T17:00:08.785201Z"
    },
    "papermill": {
     "duration": 0.067064,
     "end_time": "2021-08-22T17:00:08.785610",
     "exception": false,
     "start_time": "2021-08-22T17:00:08.718546",
     "status": "completed"
    },
    "tags": []
   },
   "outputs": [],
   "source": [
    "df_pivot = df.pivot_table(index=\"PRODUCT\", columns = \"RECORD_TIME\", values = \"LISTING_COUNT\")"
   ]
  },
  {
   "cell_type": "code",
   "execution_count": 6,
   "id": "union-huntington",
   "metadata": {
    "execution": {
     "iopub.execute_input": "2021-08-22T17:00:08.842298Z",
     "iopub.status.busy": "2021-08-22T17:00:08.840230Z",
     "iopub.status.idle": "2021-08-22T17:00:08.845668Z",
     "shell.execute_reply": "2021-08-22T17:00:08.847012Z"
    },
    "papermill": {
     "duration": 0.041244,
     "end_time": "2021-08-22T17:00:08.847425",
     "exception": false,
     "start_time": "2021-08-22T17:00:08.806181",
     "status": "completed"
    },
    "tags": []
   },
   "outputs": [],
   "source": [
    "df_pivot.columns = [\"stamp_1\", \"stamp_2\"]\n",
    "df_pivot_diff = df_pivot.diff(axis=1)"
   ]
  },
  {
   "cell_type": "code",
   "execution_count": 7,
   "id": "fifth-motion",
   "metadata": {
    "execution": {
     "iopub.execute_input": "2021-08-22T17:00:08.909670Z",
     "iopub.status.busy": "2021-08-22T17:00:08.907498Z",
     "iopub.status.idle": "2021-08-22T17:00:10.409528Z",
     "shell.execute_reply": "2021-08-22T17:00:10.408136Z"
    },
    "papermill": {
     "duration": 1.536167,
     "end_time": "2021-08-22T17:00:10.409879",
     "exception": false,
     "start_time": "2021-08-22T17:00:08.873712",
     "status": "completed"
    },
    "tags": []
   },
   "outputs": [
    {
     "data": {
      "text/plain": [
       "<AxesSubplot:ylabel='PRODUCT'>"
      ]
     },
     "execution_count": 7,
     "metadata": {},
     "output_type": "execute_result"
    },
    {
     "data": {
      "image/png": "[encoded data removed]",
      "text/plain": [
       "<Figure size 432x288 with 1 Axes>"
      ]
     },
     "metadata": {
      "needs_background": "light"
     },
     "output_type": "display_data"
    }
   ],
   "source": [
    "df_pivot_diff.sort_values(\"stamp_2\", ascending = False)[\"stamp_2\"].head(10).plot.barh()"
   ]
  },
  {
   "cell_type": "code",
   "execution_count": null,
   "id": "extra-executive",
   "metadata": {
    "papermill": {
     "duration": 0.022266,
     "end_time": "2021-08-22T17:00:10.456408",
     "exception": false,
     "start_time": "2021-08-22T17:00:10.434142",
     "status": "completed"
    },
    "tags": []
   },
   "outputs": [],
   "source": []
  }
 ],
 "metadata": {
  "kernelspec": {
   "display_name": "Python 3",
   "language": "python",
   "name": "python3"
  },
  "language_info": {
   "codemirror_mode": {
    "name": "ipython",
    "version": 3
   },
   "file_extension": ".py",
   "mimetype": "text/x-python",
   "name": "python",
   "nbconvert_exporter": "python",
   "pygments_lexer": "ipython3",
   "version": "3.9.5"
  },
  "papermill": {
   "default_parameters": {},
   "duration": 6.826636,
   "end_time": "2021-08-22T17:00:11.809711",
   "environment_variables": {},
   "exception": null,
   "input_path": "eBay_Overview.ipynb",
   "output_path": "eBay_Overview.ipynb",
   "parameters": {},
   "start_time": "2021-08-22T17:00:04.983075",
   "version": "2.3.3"
  }
 },
 "nbformat": 4,
 "nbformat_minor": 5
}