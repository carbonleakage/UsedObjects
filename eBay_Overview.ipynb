{
 "cells": [
  {
   "cell_type": "code",
   "execution_count": 1,
   "id": "reverse-picking",
   "metadata": {
    "execution": {
     "iopub.execute_input": "2021-12-09T07:30:07.415372Z",
     "iopub.status.busy": "2021-12-09T07:30:07.413021Z",
     "iopub.status.idle": "2021-12-09T07:30:08.375281Z",
     "shell.execute_reply": "2021-12-09T07:30:08.376809Z"
    },
    "papermill": {
     "duration": 1.011832,
     "end_time": "2021-12-09T07:30:08.377557",
     "exception": false,
     "start_time": "2021-12-09T07:30:07.365725",
     "status": "completed"
    },
    "tags": []
   },
   "outputs": [],
   "source": [
    "import pandas as pd\n",
    "import sqlite3"
   ]
  },
  {
   "cell_type": "code",
   "execution_count": 2,
   "id": "innovative-syndrome",
   "metadata": {
    "execution": {
     "iopub.execute_input": "2021-12-09T07:30:08.439867Z",
     "iopub.status.busy": "2021-12-09T07:30:08.437830Z",
     "iopub.status.idle": "2021-12-09T07:30:09.482014Z",
     "shell.execute_reply": "2021-12-09T07:30:09.485092Z"
    },
    "papermill": {
     "duration": 1.079578,
     "end_time": "2021-12-09T07:30:09.485947",
     "exception": false,
     "start_time": "2021-12-09T07:30:08.406369",
     "status": "completed"
    },
    "tags": []
   },
   "outputs": [],
   "source": [
    "timestamps = pd.read_sql(\"select distinct record_time from EBAY_TOP_BERLIN order by record_time desc limit 2\", sqlite3.connect(\"UsedObjects.db\"))"
   ]
  },
  {
   "cell_type": "code",
   "execution_count": 3,
   "id": "periodic-identification",
   "metadata": {
    "execution": {
     "iopub.execute_input": "2021-12-09T07:30:09.567280Z",
     "iopub.status.busy": "2021-12-09T07:30:09.564929Z",
     "iopub.status.idle": "2021-12-09T07:30:09.587559Z",
     "shell.execute_reply": "2021-12-09T07:30:09.590047Z"
    },
    "papermill": {
     "duration": 0.076882,
     "end_time": "2021-12-09T07:30:09.590915",
     "exception": false,
     "start_time": "2021-12-09T07:30:09.514033",
     "status": "completed"
    },
    "tags": []
   },
   "outputs": [
    {
     "data": {
      "text/html": [
       "<div>\n",
       "<style scoped>\n",
       "    .dataframe tbody tr th:only-of-type {\n",
       "        vertical-align: middle;\n",
       "    }\n",
       "\n",
       "    .dataframe tbody tr th {\n",
       "        vertical-align: top;\n",
       "    }\n",
       "\n",
       "    .dataframe thead th {\n",
       "        text-align: right;\n",
       "    }\n",
       "</style>\n",
       "<table border=\"1\" class=\"dataframe\">\n",
       "  <thead>\n",
       "    <tr style=\"text-align: right;\">\n",
       "      <th></th>\n",
       "      <th>RECORD_TIME</th>\n",
       "    </tr>\n",
       "  </thead>\n",
       "  <tbody>\n",
       "    <tr>\n",
       "      <th>0</th>\n",
       "      <td>2021-12-09 08:30</td>\n",
       "    </tr>\n",
       "    <tr>\n",
       "      <th>1</th>\n",
       "      <td>2021-12-09 08:00</td>\n",
       "    </tr>\n",
       "  </tbody>\n",
       "</table>\n",
       "</div>"
      ],
      "text/plain": [
       "        RECORD_TIME\n",
       "0  2021-12-09 08:30\n",
       "1  2021-12-09 08:00"
      ]
     },
     "execution_count": 3,
     "metadata": {},
     "output_type": "execute_result"
    }
   ],
   "source": [
    "timestamps"
   ]
  },
  {
   "cell_type": "code",
   "execution_count": 4,
   "id": "alternate-victory",
   "metadata": {
    "execution": {
     "iopub.execute_input": "2021-12-09T07:30:09.645349Z",
     "iopub.status.busy": "2021-12-09T07:30:09.643216Z",
     "iopub.status.idle": "2021-12-09T07:30:11.155917Z",
     "shell.execute_reply": "2021-12-09T07:30:11.158914Z"
    },
    "papermill": {
     "duration": 1.548428,
     "end_time": "2021-12-09T07:30:11.159765",
     "exception": false,
     "start_time": "2021-12-09T07:30:09.611337",
     "status": "completed"
    },
    "tags": []
   },
   "outputs": [],
   "source": [
    "df = pd.read_sql(\"select * from EBAY_TOP_BERLIN where record_time in (select distinct record_time from EBAY_TOP_BERLIN order by record_time desc limit 2)\", sqlite3.connect(\"UsedObjects.db\"))"
   ]
  },
  {
   "cell_type": "code",
   "execution_count": 5,
   "id": "popular-active",
   "metadata": {
    "execution": {
     "iopub.execute_input": "2021-12-09T07:30:11.278020Z",
     "iopub.status.busy": "2021-12-09T07:30:11.259889Z",
     "iopub.status.idle": "2021-12-09T07:30:11.305854Z",
     "shell.execute_reply": "2021-12-09T07:30:11.303620Z"
    },
    "papermill": {
     "duration": 0.112465,
     "end_time": "2021-12-09T07:30:11.306559",
     "exception": false,
     "start_time": "2021-12-09T07:30:11.194094",
     "status": "completed"
    },
    "tags": []
   },
   "outputs": [],
   "source": [
    "df_pivot = df.pivot_table(index=\"PRODUCT\", columns = \"RECORD_TIME\", values = \"LISTING_COUNT\")"
   ]
  },
  {
   "cell_type": "code",
   "execution_count": 6,
   "id": "union-huntington",
   "metadata": {
    "execution": {
     "iopub.execute_input": "2021-12-09T07:30:11.400660Z",
     "iopub.status.busy": "2021-12-09T07:30:11.397052Z",
     "iopub.status.idle": "2021-12-09T07:30:11.407654Z",
     "shell.execute_reply": "2021-12-09T07:30:11.410134Z"
    },
    "papermill": {
     "duration": 0.070771,
     "end_time": "2021-12-09T07:30:11.410944",
     "exception": false,
     "start_time": "2021-12-09T07:30:11.340173",
     "status": "completed"
    },
    "tags": []
   },
   "outputs": [],
   "source": [
    "df_pivot.columns = [\"stamp_1\", \"stamp_2\"]\n",
    "df_pivot_diff = df_pivot.diff(axis=1)"
   ]
  },
  {
   "cell_type": "code",
   "execution_count": 7,
   "id": "fifth-motion",
   "metadata": {
    "execution": {
     "iopub.execute_input": "2021-12-09T07:30:11.488312Z",
     "iopub.status.busy": "2021-12-09T07:30:11.484469Z",
     "iopub.status.idle": "2021-12-09T07:30:13.183468Z",
     "shell.execute_reply": "2021-12-09T07:30:13.184958Z"
    },
    "papermill": {
     "duration": 1.743045,
     "end_time": "2021-12-09T07:30:13.185445",
     "exception": false,
     "start_time": "2021-12-09T07:30:11.442400",
     "status": "completed"
    },
    "tags": []
   },
   "outputs": [
    {
     "data": {
      "text/plain": [
       "<AxesSubplot:ylabel='PRODUCT'>"
      ]
     },
     "execution_count": 7,
     "metadata": {},
     "output_type": "execute_result"
    },
    {
     "data": {
      "image/png": "[encoded data removed]",
      "text/plain": [
       "<Figure size 432x288 with 1 Axes>"
      ]
     },
     "metadata": {
      "needs_background": "light"
     },
     "output_type": "display_data"
    }
   ],
   "source": [
    "df_pivot_diff.sort_values(\"stamp_2\", ascending = False)[\"stamp_2\"].head(10).plot.barh()"
   ]
  },
  {
   "cell_type": "code",
   "execution_count": null,
   "id": "extra-executive",
   "metadata": {
    "papermill": {
     "duration": 0.022183,
     "end_time": "2021-12-09T07:30:13.233629",
     "exception": false,
     "start_time": "2021-12-09T07:30:13.211446",
     "status": "completed"
    },
    "tags": []
   },
   "outputs": [],
   "source": []
  }
 ],
 "metadata": {
  "kernelspec": {
   "display_name": "Python 3",
   "language": "python",
   "name": "python3"
  },
  "language_info": {
   "codemirror_mode": {
    "name": "ipython",
    "version": 3
   },
   "file_extension": ".py",
   "mimetype": "text/x-python",
   "name": "python",
   "nbconvert_exporter": "python",
   "pygments_lexer": "ipython3",
   "version": "3.9.5"
  },
  "papermill": {
   "default_parameters": {},
   "duration": 9.95205,
   "end_time": "2021-12-09T07:30:14.564202",
   "environment_variables": {},
   "exception": null,
   "input_path": "eBay_Overview.ipynb",
   "output_path": "eBay_Overview.ipynb",
   "parameters": {},
   "start_time": "2021-12-09T07:30:04.612152",
   "version": "2.3.3"
  }
 },
 "nbformat": 4,
 "nbformat_minor": 5
}