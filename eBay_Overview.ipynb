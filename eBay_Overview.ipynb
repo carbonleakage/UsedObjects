{
 "cells": [
  {
   "cell_type": "code",
   "execution_count": 1,
   "id": "reverse-picking",
   "metadata": {
    "execution": {
     "iopub.execute_input": "2021-09-10T01:30:06.945274Z",
     "iopub.status.busy": "2021-09-10T01:30:06.943310Z",
     "iopub.status.idle": "2021-09-10T01:30:07.757949Z",
     "shell.execute_reply": "2021-09-10T01:30:07.756172Z"
    },
    "papermill": {
     "duration": 0.865872,
     "end_time": "2021-09-10T01:30:07.758380",
     "exception": false,
     "start_time": "2021-09-10T01:30:06.892508",
     "status": "completed"
    },
    "tags": []
   },
   "outputs": [],
   "source": [
    "import pandas as pd\n",
    "import sqlite3"
   ]
  },
  {
   "cell_type": "code",
   "execution_count": 2,
   "id": "innovative-syndrome",
   "metadata": {
    "execution": {
     "iopub.execute_input": "2021-09-10T01:30:07.809357Z",
     "iopub.status.busy": "2021-09-10T01:30:07.806846Z",
     "iopub.status.idle": "2021-09-10T01:30:08.054790Z",
     "shell.execute_reply": "2021-09-10T01:30:08.056348Z"
    },
    "papermill": {
     "duration": 0.278052,
     "end_time": "2021-09-10T01:30:08.056804",
     "exception": false,
     "start_time": "2021-09-10T01:30:07.778752",
     "status": "completed"
    },
    "tags": []
   },
   "outputs": [],
   "source": [
    "timestamps = pd.read_sql(\"select distinct record_time from EBAY_TOP_BERLIN order by record_time desc limit 2\", sqlite3.connect(\"UsedObjects.db\"))"
   ]
  },
  {
   "cell_type": "code",
   "execution_count": 3,
   "id": "periodic-identification",
   "metadata": {
    "execution": {
     "iopub.execute_input": "2021-09-10T01:30:08.123555Z",
     "iopub.status.busy": "2021-09-10T01:30:08.121428Z",
     "iopub.status.idle": "2021-09-10T01:30:08.141168Z",
     "shell.execute_reply": "2021-09-10T01:30:08.142455Z"
    },
    "papermill": {
     "duration": 0.06624,
     "end_time": "2021-09-10T01:30:08.142921",
     "exception": false,
     "start_time": "2021-09-10T01:30:08.076681",
     "status": "completed"
    },
    "tags": []
   },
   "outputs": [
    {
     "data": {
      "text/html": [
       "<div>\n",
       "<style scoped>\n",
       "    .dataframe tbody tr th:only-of-type {\n",
       "        vertical-align: middle;\n",
       "    }\n",
       "\n",
       "    .dataframe tbody tr th {\n",
       "        vertical-align: top;\n",
       "    }\n",
       "\n",
       "    .dataframe thead th {\n",
       "        text-align: right;\n",
       "    }\n",
       "</style>\n",
       "<table border=\"1\" class=\"dataframe\">\n",
       "  <thead>\n",
       "    <tr style=\"text-align: right;\">\n",
       "      <th></th>\n",
       "      <th>RECORD_TIME</th>\n",
       "    </tr>\n",
       "  </thead>\n",
       "  <tbody>\n",
       "    <tr>\n",
       "      <th>0</th>\n",
       "      <td>2021-09-10 03:30</td>\n",
       "    </tr>\n",
       "    <tr>\n",
       "      <th>1</th>\n",
       "      <td>2021-09-10 03:00</td>\n",
       "    </tr>\n",
       "  </tbody>\n",
       "</table>\n",
       "</div>"
      ],
      "text/plain": [
       "        RECORD_TIME\n",
       "0  2021-09-10 03:30\n",
       "1  2021-09-10 03:00"
      ]
     },
     "execution_count": 3,
     "metadata": {},
     "output_type": "execute_result"
    }
   ],
   "source": [
    "timestamps"
   ]
  },
  {
   "cell_type": "code",
   "execution_count": 4,
   "id": "alternate-victory",
   "metadata": {
    "execution": {
     "iopub.execute_input": "2021-09-10T01:30:08.193789Z",
     "iopub.status.busy": "2021-09-10T01:30:08.191770Z",
     "iopub.status.idle": "2021-09-10T01:30:08.558095Z",
     "shell.execute_reply": "2021-09-10T01:30:08.560173Z"
    },
    "papermill": {
     "duration": 0.397812,
     "end_time": "2021-09-10T01:30:08.560716",
     "exception": false,
     "start_time": "2021-09-10T01:30:08.162904",
     "status": "completed"
    },
    "tags": []
   },
   "outputs": [],
   "source": [
    "df = pd.read_sql(\"select * from EBAY_TOP_BERLIN where record_time in (select distinct record_time from EBAY_TOP_BERLIN order by record_time desc limit 2)\", sqlite3.connect(\"UsedObjects.db\"))"
   ]
  },
  {
   "cell_type": "code",
   "execution_count": 5,
   "id": "popular-active",
   "metadata": {
    "execution": {
     "iopub.execute_input": "2021-09-10T01:30:08.645990Z",
     "iopub.status.busy": "2021-09-10T01:30:08.638429Z",
     "iopub.status.idle": "2021-09-10T01:30:08.664158Z",
     "shell.execute_reply": "2021-09-10T01:30:08.665548Z"
    },
    "papermill": {
     "duration": 0.076089,
     "end_time": "2021-09-10T01:30:08.665984",
     "exception": false,
     "start_time": "2021-09-10T01:30:08.589895",
     "status": "completed"
    },
    "tags": []
   },
   "outputs": [],
   "source": [
    "df_pivot = df.pivot_table(index=\"PRODUCT\", columns = \"RECORD_TIME\", values = \"LISTING_COUNT\")"
   ]
  },
  {
   "cell_type": "code",
   "execution_count": 6,
   "id": "union-huntington",
   "metadata": {
    "execution": {
     "iopub.execute_input": "2021-09-10T01:30:08.723207Z",
     "iopub.status.busy": "2021-09-10T01:30:08.720857Z",
     "iopub.status.idle": "2021-09-10T01:30:08.726570Z",
     "shell.execute_reply": "2021-09-10T01:30:08.728588Z"
    },
    "papermill": {
     "duration": 0.042707,
     "end_time": "2021-09-10T01:30:08.729037",
     "exception": false,
     "start_time": "2021-09-10T01:30:08.686330",
     "status": "completed"
    },
    "tags": []
   },
   "outputs": [],
   "source": [
    "df_pivot.columns = [\"stamp_1\", \"stamp_2\"]\n",
    "df_pivot_diff = df_pivot.diff(axis=1)"
   ]
  },
  {
   "cell_type": "code",
   "execution_count": 7,
   "id": "fifth-motion",
   "metadata": {
    "execution": {
     "iopub.execute_input": "2021-09-10T01:30:08.783238Z",
     "iopub.status.busy": "2021-09-10T01:30:08.780868Z",
     "iopub.status.idle": "2021-09-10T01:30:10.280669Z",
     "shell.execute_reply": "2021-09-10T01:30:10.281952Z"
    },
    "papermill": {
     "duration": 1.532668,
     "end_time": "2021-09-10T01:30:10.282366",
     "exception": false,
     "start_time": "2021-09-10T01:30:08.749698",
     "status": "completed"
    },
    "tags": []
   },
   "outputs": [
    {
     "data": {
      "text/plain": [
       "<AxesSubplot:ylabel='PRODUCT'>"
      ]
     },
     "execution_count": 7,
     "metadata": {},
     "output_type": "execute_result"
    },
    {
     "data": {
      "image/png": "[encoded data removed]",
      "text/plain": [
       "<Figure size 432x288 with 1 Axes>"
      ]
     },
     "metadata": {
      "needs_background": "light"
     },
     "output_type": "display_data"
    }
   ],
   "source": [
    "df_pivot_diff.sort_values(\"stamp_2\", ascending = False)[\"stamp_2\"].head(10).plot.barh()"
   ]
  },
  {
   "cell_type": "code",
   "execution_count": null,
   "id": "extra-executive",
   "metadata": {
    "papermill": {
     "duration": 0.022255,
     "end_time": "2021-09-10T01:30:10.329582",
     "exception": false,
     "start_time": "2021-09-10T01:30:10.307327",
     "status": "completed"
    },
    "tags": []
   },
   "outputs": [],
   "source": []
  }
 ],
 "metadata": {
  "kernelspec": {
   "display_name": "Python 3",
   "language": "python",
   "name": "python3"
  },
  "language_info": {
   "codemirror_mode": {
    "name": "ipython",
    "version": 3
   },
   "file_extension": ".py",
   "mimetype": "text/x-python",
   "name": "python",
   "nbconvert_exporter": "python",
   "pygments_lexer": "ipython3",
   "version": "3.9.5"
  },
  "papermill": {
   "default_parameters": {},
   "duration": 6.497384,
   "end_time": "2021-09-10T01:30:10.970044",
   "environment_variables": {},
   "exception": null,
   "input_path": "eBay_Overview.ipynb",
   "output_path": "eBay_Overview.ipynb",
   "parameters": {},
   "start_time": "2021-09-10T01:30:04.472660",
   "version": "2.3.3"
  }
 },
 "nbformat": 4,
 "nbformat_minor": 5
}