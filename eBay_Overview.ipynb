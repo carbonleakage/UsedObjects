{
 "cells": [
  {
   "cell_type": "code",
   "execution_count": 1,
   "id": "reverse-picking",
   "metadata": {
    "execution": {
     "iopub.execute_input": "2021-08-24T22:00:07.099522Z",
     "iopub.status.busy": "2021-08-24T22:00:07.097525Z",
     "iopub.status.idle": "2021-08-24T22:00:07.906800Z",
     "shell.execute_reply": "2021-08-24T22:00:07.908078Z"
    },
    "papermill": {
     "duration": 0.861069,
     "end_time": "2021-08-24T22:00:07.908701",
     "exception": false,
     "start_time": "2021-08-24T22:00:07.047632",
     "status": "completed"
    },
    "tags": []
   },
   "outputs": [],
   "source": [
    "import pandas as pd\n",
    "import sqlite3"
   ]
  },
  {
   "cell_type": "code",
   "execution_count": 2,
   "id": "innovative-syndrome",
   "metadata": {
    "execution": {
     "iopub.execute_input": "2021-08-24T22:00:07.962660Z",
     "iopub.status.busy": "2021-08-24T22:00:07.960308Z",
     "iopub.status.idle": "2021-08-24T22:00:08.086732Z",
     "shell.execute_reply": "2021-08-24T22:00:08.087924Z"
    },
    "papermill": {
     "duration": 0.156317,
     "end_time": "2021-08-24T22:00:08.088316",
     "exception": false,
     "start_time": "2021-08-24T22:00:07.931999",
     "status": "completed"
    },
    "tags": []
   },
   "outputs": [],
   "source": [
    "timestamps = pd.read_sql(\"select distinct record_time from EBAY_TOP_BERLIN order by record_time desc limit 2\", sqlite3.connect(\"UsedObjects.db\"))"
   ]
  },
  {
   "cell_type": "code",
   "execution_count": 3,
   "id": "periodic-identification",
   "metadata": {
    "execution": {
     "iopub.execute_input": "2021-08-24T22:00:08.152227Z",
     "iopub.status.busy": "2021-08-24T22:00:08.150208Z",
     "iopub.status.idle": "2021-08-24T22:00:08.170047Z",
     "shell.execute_reply": "2021-08-24T22:00:08.171411Z"
    },
    "papermill": {
     "duration": 0.064074,
     "end_time": "2021-08-24T22:00:08.171823",
     "exception": false,
     "start_time": "2021-08-24T22:00:08.107749",
     "status": "completed"
    },
    "tags": []
   },
   "outputs": [
    {
     "data": {
      "text/html": [
       "<div>\n",
       "<style scoped>\n",
       "    .dataframe tbody tr th:only-of-type {\n",
       "        vertical-align: middle;\n",
       "    }\n",
       "\n",
       "    .dataframe tbody tr th {\n",
       "        vertical-align: top;\n",
       "    }\n",
       "\n",
       "    .dataframe thead th {\n",
       "        text-align: right;\n",
       "    }\n",
       "</style>\n",
       "<table border=\"1\" class=\"dataframe\">\n",
       "  <thead>\n",
       "    <tr style=\"text-align: right;\">\n",
       "      <th></th>\n",
       "      <th>RECORD_TIME</th>\n",
       "    </tr>\n",
       "  </thead>\n",
       "  <tbody>\n",
       "    <tr>\n",
       "      <th>0</th>\n",
       "      <td>2021-08-25 00:00</td>\n",
       "    </tr>\n",
       "    <tr>\n",
       "      <th>1</th>\n",
       "      <td>2021-08-24 23:30</td>\n",
       "    </tr>\n",
       "  </tbody>\n",
       "</table>\n",
       "</div>"
      ],
      "text/plain": [
       "        RECORD_TIME\n",
       "0  2021-08-25 00:00\n",
       "1  2021-08-24 23:30"
      ]
     },
     "execution_count": 3,
     "metadata": {},
     "output_type": "execute_result"
    }
   ],
   "source": [
    "timestamps"
   ]
  },
  {
   "cell_type": "code",
   "execution_count": 4,
   "id": "alternate-victory",
   "metadata": {
    "execution": {
     "iopub.execute_input": "2021-08-24T22:00:08.224071Z",
     "iopub.status.busy": "2021-08-24T22:00:08.221887Z",
     "iopub.status.idle": "2021-08-24T22:00:08.411519Z",
     "shell.execute_reply": "2021-08-24T22:00:08.412781Z"
    },
    "papermill": {
     "duration": 0.219604,
     "end_time": "2021-08-24T22:00:08.413192",
     "exception": false,
     "start_time": "2021-08-24T22:00:08.193588",
     "status": "completed"
    },
    "tags": []
   },
   "outputs": [],
   "source": [
    "df = pd.read_sql(\"select * from EBAY_TOP_BERLIN where record_time in (select distinct record_time from EBAY_TOP_BERLIN order by record_time desc limit 2)\", sqlite3.connect(\"UsedObjects.db\"))"
   ]
  },
  {
   "cell_type": "code",
   "execution_count": 5,
   "id": "popular-active",
   "metadata": {
    "execution": {
     "iopub.execute_input": "2021-08-24T22:00:08.483317Z",
     "iopub.status.busy": "2021-08-24T22:00:08.472101Z",
     "iopub.status.idle": "2021-08-24T22:00:08.500215Z",
     "shell.execute_reply": "2021-08-24T22:00:08.501402Z"
    },
    "papermill": {
     "duration": 0.068017,
     "end_time": "2021-08-24T22:00:08.501792",
     "exception": false,
     "start_time": "2021-08-24T22:00:08.433775",
     "status": "completed"
    },
    "tags": []
   },
   "outputs": [],
   "source": [
    "df_pivot = df.pivot_table(index=\"PRODUCT\", columns = \"RECORD_TIME\", values = \"LISTING_COUNT\")"
   ]
  },
  {
   "cell_type": "code",
   "execution_count": 6,
   "id": "union-huntington",
   "metadata": {
    "execution": {
     "iopub.execute_input": "2021-08-24T22:00:08.583583Z",
     "iopub.status.busy": "2021-08-24T22:00:08.581120Z",
     "iopub.status.idle": "2021-08-24T22:00:08.587218Z",
     "shell.execute_reply": "2021-08-24T22:00:08.588486Z"
    },
    "papermill": {
     "duration": 0.050054,
     "end_time": "2021-08-24T22:00:08.588899",
     "exception": false,
     "start_time": "2021-08-24T22:00:08.538845",
     "status": "completed"
    },
    "tags": []
   },
   "outputs": [],
   "source": [
    "df_pivot.columns = [\"stamp_1\", \"stamp_2\"]\n",
    "df_pivot_diff = df_pivot.diff(axis=1)"
   ]
  },
  {
   "cell_type": "code",
   "execution_count": 7,
   "id": "fifth-motion",
   "metadata": {
    "execution": {
     "iopub.execute_input": "2021-08-24T22:00:08.642082Z",
     "iopub.status.busy": "2021-08-24T22:00:08.639877Z",
     "iopub.status.idle": "2021-08-24T22:00:10.137184Z",
     "shell.execute_reply": "2021-08-24T22:00:10.138539Z"
    },
    "papermill": {
     "duration": 1.529908,
     "end_time": "2021-08-24T22:00:10.138961",
     "exception": false,
     "start_time": "2021-08-24T22:00:08.609053",
     "status": "completed"
    },
    "tags": []
   },
   "outputs": [
    {
     "data": {
      "text/plain": [
       "<AxesSubplot:ylabel='PRODUCT'>"
      ]
     },
     "execution_count": 7,
     "metadata": {},
     "output_type": "execute_result"
    },
    {
     "data": {
      "image/png": "[encoded data removed]",
      "text/plain": [
       "<Figure size 432x288 with 1 Axes>"
      ]
     },
     "metadata": {
      "needs_background": "light"
     },
     "output_type": "display_data"
    }
   ],
   "source": [
    "df_pivot_diff.sort_values(\"stamp_2\", ascending = False)[\"stamp_2\"].head(10).plot.barh()"
   ]
  },
  {
   "cell_type": "code",
   "execution_count": null,
   "id": "extra-executive",
   "metadata": {
    "papermill": {
     "duration": 0.022091,
     "end_time": "2021-08-24T22:00:10.184436",
     "exception": false,
     "start_time": "2021-08-24T22:00:10.162345",
     "status": "completed"
    },
    "tags": []
   },
   "outputs": [],
   "source": []
  }
 ],
 "metadata": {
  "kernelspec": {
   "display_name": "Python 3",
   "language": "python",
   "name": "python3"
  },
  "language_info": {
   "codemirror_mode": {
    "name": "ipython",
    "version": 3
   },
   "file_extension": ".py",
   "mimetype": "text/x-python",
   "name": "python",
   "nbconvert_exporter": "python",
   "pygments_lexer": "ipython3",
   "version": "3.9.5"
  },
  "papermill": {
   "default_parameters": {},
   "duration": 6.823536,
   "end_time": "2021-08-24T22:00:11.463595",
   "environment_variables": {},
   "exception": null,
   "input_path": "eBay_Overview.ipynb",
   "output_path": "eBay_Overview.ipynb",
   "parameters": {},
   "start_time": "2021-08-24T22:00:04.640059",
   "version": "2.3.3"
  }
 },
 "nbformat": 4,
 "nbformat_minor": 5
}