{
 "cells": [
  {
   "cell_type": "code",
   "execution_count": 1,
   "id": "reverse-picking",
   "metadata": {
    "execution": {
     "iopub.execute_input": "2021-11-25T13:00:08.729854Z",
     "iopub.status.busy": "2021-11-25T13:00:08.726369Z",
     "iopub.status.idle": "2021-11-25T13:00:09.683184Z",
     "shell.execute_reply": "2021-11-25T13:00:09.684831Z"
    },
    "papermill": {
     "duration": 1.005851,
     "end_time": "2021-11-25T13:00:09.685586",
     "exception": false,
     "start_time": "2021-11-25T13:00:08.679735",
     "status": "completed"
    },
    "tags": []
   },
   "outputs": [],
   "source": [
    "import pandas as pd\n",
    "import sqlite3"
   ]
  },
  {
   "cell_type": "code",
   "execution_count": 2,
   "id": "innovative-syndrome",
   "metadata": {
    "execution": {
     "iopub.execute_input": "2021-11-25T13:00:09.748945Z",
     "iopub.status.busy": "2021-11-25T13:00:09.746264Z",
     "iopub.status.idle": "2021-11-25T13:00:10.661409Z",
     "shell.execute_reply": "2021-11-25T13:00:10.662801Z"
    },
    "papermill": {
     "duration": 0.949773,
     "end_time": "2021-11-25T13:00:10.663276",
     "exception": false,
     "start_time": "2021-11-25T13:00:09.713503",
     "status": "completed"
    },
    "tags": []
   },
   "outputs": [],
   "source": [
    "timestamps = pd.read_sql(\"select distinct record_time from EBAY_TOP_BERLIN order by record_time desc limit 2\", sqlite3.connect(\"UsedObjects.db\"))"
   ]
  },
  {
   "cell_type": "code",
   "execution_count": 3,
   "id": "periodic-identification",
   "metadata": {
    "execution": {
     "iopub.execute_input": "2021-11-25T13:00:10.735408Z",
     "iopub.status.busy": "2021-11-25T13:00:10.733137Z",
     "iopub.status.idle": "2021-11-25T13:00:10.755697Z",
     "shell.execute_reply": "2021-11-25T13:00:10.757337Z"
    },
    "papermill": {
     "duration": 0.074036,
     "end_time": "2021-11-25T13:00:10.757855",
     "exception": false,
     "start_time": "2021-11-25T13:00:10.683819",
     "status": "completed"
    },
    "tags": []
   },
   "outputs": [
    {
     "data": {
      "text/html": [
       "<div>\n",
       "<style scoped>\n",
       "    .dataframe tbody tr th:only-of-type {\n",
       "        vertical-align: middle;\n",
       "    }\n",
       "\n",
       "    .dataframe tbody tr th {\n",
       "        vertical-align: top;\n",
       "    }\n",
       "\n",
       "    .dataframe thead th {\n",
       "        text-align: right;\n",
       "    }\n",
       "</style>\n",
       "<table border=\"1\" class=\"dataframe\">\n",
       "  <thead>\n",
       "    <tr style=\"text-align: right;\">\n",
       "      <th></th>\n",
       "      <th>RECORD_TIME</th>\n",
       "    </tr>\n",
       "  </thead>\n",
       "  <tbody>\n",
       "    <tr>\n",
       "      <th>0</th>\n",
       "      <td>2021-11-25 14:00</td>\n",
       "    </tr>\n",
       "    <tr>\n",
       "      <th>1</th>\n",
       "      <td>2021-11-25 13:30</td>\n",
       "    </tr>\n",
       "  </tbody>\n",
       "</table>\n",
       "</div>"
      ],
      "text/plain": [
       "        RECORD_TIME\n",
       "0  2021-11-25 14:00\n",
       "1  2021-11-25 13:30"
      ]
     },
     "execution_count": 3,
     "metadata": {},
     "output_type": "execute_result"
    }
   ],
   "source": [
    "timestamps"
   ]
  },
  {
   "cell_type": "code",
   "execution_count": 4,
   "id": "alternate-victory",
   "metadata": {
    "execution": {
     "iopub.execute_input": "2021-11-25T13:00:10.814446Z",
     "iopub.status.busy": "2021-11-25T13:00:10.811975Z",
     "iopub.status.idle": "2021-11-25T13:00:12.160111Z",
     "shell.execute_reply": "2021-11-25T13:00:12.162309Z"
    },
    "papermill": {
     "duration": 1.383311,
     "end_time": "2021-11-25T13:00:12.162785",
     "exception": false,
     "start_time": "2021-11-25T13:00:10.779474",
     "status": "completed"
    },
    "tags": []
   },
   "outputs": [],
   "source": [
    "df = pd.read_sql(\"select * from EBAY_TOP_BERLIN where record_time in (select distinct record_time from EBAY_TOP_BERLIN order by record_time desc limit 2)\", sqlite3.connect(\"UsedObjects.db\"))"
   ]
  },
  {
   "cell_type": "code",
   "execution_count": 5,
   "id": "popular-active",
   "metadata": {
    "execution": {
     "iopub.execute_input": "2021-11-25T13:00:12.222565Z",
     "iopub.status.busy": "2021-11-25T13:00:12.220078Z",
     "iopub.status.idle": "2021-11-25T13:00:12.257116Z",
     "shell.execute_reply": "2021-11-25T13:00:12.258509Z"
    },
    "papermill": {
     "duration": 0.075818,
     "end_time": "2021-11-25T13:00:12.258978",
     "exception": false,
     "start_time": "2021-11-25T13:00:12.183160",
     "status": "completed"
    },
    "tags": []
   },
   "outputs": [],
   "source": [
    "df_pivot = df.pivot_table(index=\"PRODUCT\", columns = \"RECORD_TIME\", values = \"LISTING_COUNT\")"
   ]
  },
  {
   "cell_type": "code",
   "execution_count": 6,
   "id": "union-huntington",
   "metadata": {
    "execution": {
     "iopub.execute_input": "2021-11-25T13:00:12.317973Z",
     "iopub.status.busy": "2021-11-25T13:00:12.315726Z",
     "iopub.status.idle": "2021-11-25T13:00:12.321117Z",
     "shell.execute_reply": "2021-11-25T13:00:12.322477Z"
    },
    "papermill": {
     "duration": 0.044005,
     "end_time": "2021-11-25T13:00:12.322956",
     "exception": false,
     "start_time": "2021-11-25T13:00:12.278951",
     "status": "completed"
    },
    "tags": []
   },
   "outputs": [],
   "source": [
    "df_pivot.columns = [\"stamp_1\", \"stamp_2\"]\n",
    "df_pivot_diff = df_pivot.diff(axis=1)"
   ]
  },
  {
   "cell_type": "code",
   "execution_count": 7,
   "id": "fifth-motion",
   "metadata": {
    "execution": {
     "iopub.execute_input": "2021-11-25T13:00:12.382497Z",
     "iopub.status.busy": "2021-11-25T13:00:12.379839Z",
     "iopub.status.idle": "2021-11-25T13:00:14.355871Z",
     "shell.execute_reply": "2021-11-25T13:00:14.357445Z"
    },
    "papermill": {
     "duration": 2.014635,
     "end_time": "2021-11-25T13:00:14.357897",
     "exception": false,
     "start_time": "2021-11-25T13:00:12.343262",
     "status": "completed"
    },
    "tags": []
   },
   "outputs": [
    {
     "data": {
      "text/plain": [
       "<AxesSubplot:ylabel='PRODUCT'>"
      ]
     },
     "execution_count": 7,
     "metadata": {},
     "output_type": "execute_result"
    },
    {
     "data": {
      "image/png": "[encoded data removed]",
      "text/plain": [
       "<Figure size 432x288 with 1 Axes>"
      ]
     },
     "metadata": {
      "needs_background": "light"
     },
     "output_type": "display_data"
    }
   ],
   "source": [
    "df_pivot_diff.sort_values(\"stamp_2\", ascending = False)[\"stamp_2\"].head(10).plot.barh()"
   ]
  },
  {
   "cell_type": "code",
   "execution_count": null,
   "id": "extra-executive",
   "metadata": {
    "papermill": {
     "duration": 0.02212,
     "end_time": "2021-11-25T13:00:14.403929",
     "exception": false,
     "start_time": "2021-11-25T13:00:14.381809",
     "status": "completed"
    },
    "tags": []
   },
   "outputs": [],
   "source": []
  }
 ],
 "metadata": {
  "kernelspec": {
   "display_name": "Python 3",
   "language": "python",
   "name": "python3"
  },
  "language_info": {
   "codemirror_mode": {
    "name": "ipython",
    "version": 3
   },
   "file_extension": ".py",
   "mimetype": "text/x-python",
   "name": "python",
   "nbconvert_exporter": "python",
   "pygments_lexer": "ipython3",
   "version": "3.9.5"
  },
  "papermill": {
   "default_parameters": {},
   "duration": 9.94834,
   "end_time": "2021-11-25T13:00:15.891168",
   "environment_variables": {},
   "exception": null,
   "input_path": "eBay_Overview.ipynb",
   "output_path": "eBay_Overview.ipynb",
   "parameters": {},
   "start_time": "2021-11-25T13:00:05.942828",
   "version": "2.3.3"
  }
 },
 "nbformat": 4,
 "nbformat_minor": 5
}