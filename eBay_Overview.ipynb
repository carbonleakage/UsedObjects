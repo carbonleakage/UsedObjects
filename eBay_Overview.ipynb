{
 "cells": [
  {
   "cell_type": "code",
   "execution_count": 1,
   "id": "reverse-picking",
   "metadata": {
    "execution": {
     "iopub.execute_input": "2021-08-30T18:30:07.709799Z",
     "iopub.status.busy": "2021-08-30T18:30:07.707750Z",
     "iopub.status.idle": "2021-08-30T18:30:08.512568Z",
     "shell.execute_reply": "2021-08-30T18:30:08.510820Z"
    },
    "papermill": {
     "duration": 0.854796,
     "end_time": "2021-08-30T18:30:08.513013",
     "exception": false,
     "start_time": "2021-08-30T18:30:07.658217",
     "status": "completed"
    },
    "tags": []
   },
   "outputs": [],
   "source": [
    "import pandas as pd\n",
    "import sqlite3"
   ]
  },
  {
   "cell_type": "code",
   "execution_count": 2,
   "id": "innovative-syndrome",
   "metadata": {
    "execution": {
     "iopub.execute_input": "2021-08-30T18:30:08.563757Z",
     "iopub.status.busy": "2021-08-30T18:30:08.561678Z",
     "iopub.status.idle": "2021-08-30T18:30:08.726623Z",
     "shell.execute_reply": "2021-08-30T18:30:08.727906Z"
    },
    "papermill": {
     "duration": 0.195265,
     "end_time": "2021-08-30T18:30:08.728376",
     "exception": false,
     "start_time": "2021-08-30T18:30:08.533111",
     "status": "completed"
    },
    "tags": []
   },
   "outputs": [],
   "source": [
    "timestamps = pd.read_sql(\"select distinct record_time from EBAY_TOP_BERLIN order by record_time desc limit 2\", sqlite3.connect(\"UsedObjects.db\"))"
   ]
  },
  {
   "cell_type": "code",
   "execution_count": 3,
   "id": "periodic-identification",
   "metadata": {
    "execution": {
     "iopub.execute_input": "2021-08-30T18:30:08.794986Z",
     "iopub.status.busy": "2021-08-30T18:30:08.792938Z",
     "iopub.status.idle": "2021-08-30T18:30:08.812729Z",
     "shell.execute_reply": "2021-08-30T18:30:08.814055Z"
    },
    "papermill": {
     "duration": 0.066686,
     "end_time": "2021-08-30T18:30:08.814466",
     "exception": false,
     "start_time": "2021-08-30T18:30:08.747780",
     "status": "completed"
    },
    "tags": []
   },
   "outputs": [
    {
     "data": {
      "text/html": [
       "<div>\n",
       "<style scoped>\n",
       "    .dataframe tbody tr th:only-of-type {\n",
       "        vertical-align: middle;\n",
       "    }\n",
       "\n",
       "    .dataframe tbody tr th {\n",
       "        vertical-align: top;\n",
       "    }\n",
       "\n",
       "    .dataframe thead th {\n",
       "        text-align: right;\n",
       "    }\n",
       "</style>\n",
       "<table border=\"1\" class=\"dataframe\">\n",
       "  <thead>\n",
       "    <tr style=\"text-align: right;\">\n",
       "      <th></th>\n",
       "      <th>RECORD_TIME</th>\n",
       "    </tr>\n",
       "  </thead>\n",
       "  <tbody>\n",
       "    <tr>\n",
       "      <th>0</th>\n",
       "      <td>2021-08-30 20:30</td>\n",
       "    </tr>\n",
       "    <tr>\n",
       "      <th>1</th>\n",
       "      <td>2021-08-30 20:00</td>\n",
       "    </tr>\n",
       "  </tbody>\n",
       "</table>\n",
       "</div>"
      ],
      "text/plain": [
       "        RECORD_TIME\n",
       "0  2021-08-30 20:30\n",
       "1  2021-08-30 20:00"
      ]
     },
     "execution_count": 3,
     "metadata": {},
     "output_type": "execute_result"
    }
   ],
   "source": [
    "timestamps"
   ]
  },
  {
   "cell_type": "code",
   "execution_count": 4,
   "id": "alternate-victory",
   "metadata": {
    "execution": {
     "iopub.execute_input": "2021-08-30T18:30:08.865749Z",
     "iopub.status.busy": "2021-08-30T18:30:08.863670Z",
     "iopub.status.idle": "2021-08-30T18:30:09.114173Z",
     "shell.execute_reply": "2021-08-30T18:30:09.115396Z"
    },
    "papermill": {
     "duration": 0.280258,
     "end_time": "2021-08-30T18:30:09.115794",
     "exception": false,
     "start_time": "2021-08-30T18:30:08.835536",
     "status": "completed"
    },
    "tags": []
   },
   "outputs": [],
   "source": [
    "df = pd.read_sql(\"select * from EBAY_TOP_BERLIN where record_time in (select distinct record_time from EBAY_TOP_BERLIN order by record_time desc limit 2)\", sqlite3.connect(\"UsedObjects.db\"))"
   ]
  },
  {
   "cell_type": "code",
   "execution_count": 5,
   "id": "popular-active",
   "metadata": {
    "execution": {
     "iopub.execute_input": "2021-08-30T18:30:09.196026Z",
     "iopub.status.busy": "2021-08-30T18:30:09.184625Z",
     "iopub.status.idle": "2021-08-30T18:30:09.212594Z",
     "shell.execute_reply": "2021-08-30T18:30:09.213832Z"
    },
    "papermill": {
     "duration": 0.070474,
     "end_time": "2021-08-30T18:30:09.214225",
     "exception": false,
     "start_time": "2021-08-30T18:30:09.143751",
     "status": "completed"
    },
    "tags": []
   },
   "outputs": [],
   "source": [
    "df_pivot = df.pivot_table(index=\"PRODUCT\", columns = \"RECORD_TIME\", values = \"LISTING_COUNT\")"
   ]
  },
  {
   "cell_type": "code",
   "execution_count": 6,
   "id": "union-huntington",
   "metadata": {
    "execution": {
     "iopub.execute_input": "2021-08-30T18:30:09.270273Z",
     "iopub.status.busy": "2021-08-30T18:30:09.268276Z",
     "iopub.status.idle": "2021-08-30T18:30:09.273373Z",
     "shell.execute_reply": "2021-08-30T18:30:09.274673Z"
    },
    "papermill": {
     "duration": 0.039581,
     "end_time": "2021-08-30T18:30:09.275076",
     "exception": false,
     "start_time": "2021-08-30T18:30:09.235495",
     "status": "completed"
    },
    "tags": []
   },
   "outputs": [],
   "source": [
    "df_pivot.columns = [\"stamp_1\", \"stamp_2\"]\n",
    "df_pivot_diff = df_pivot.diff(axis=1)"
   ]
  },
  {
   "cell_type": "code",
   "execution_count": 7,
   "id": "fifth-motion",
   "metadata": {
    "execution": {
     "iopub.execute_input": "2021-08-30T18:30:09.330085Z",
     "iopub.status.busy": "2021-08-30T18:30:09.327495Z",
     "iopub.status.idle": "2021-08-30T18:30:10.808050Z",
     "shell.execute_reply": "2021-08-30T18:30:10.809561Z"
    },
    "papermill": {
     "duration": 1.513864,
     "end_time": "2021-08-30T18:30:10.810010",
     "exception": false,
     "start_time": "2021-08-30T18:30:09.296146",
     "status": "completed"
    },
    "tags": []
   },
   "outputs": [
    {
     "data": {
      "text/plain": [
       "<AxesSubplot:ylabel='PRODUCT'>"
      ]
     },
     "execution_count": 7,
     "metadata": {},
     "output_type": "execute_result"
    },
    {
     "data": {
      "image/png": "[encoded data removed]",
      "text/plain": [
       "<Figure size 432x288 with 1 Axes>"
      ]
     },
     "metadata": {
      "needs_background": "light"
     },
     "output_type": "display_data"
    }
   ],
   "source": [
    "df_pivot_diff.sort_values(\"stamp_2\", ascending = False)[\"stamp_2\"].head(10).plot.barh()"
   ]
  },
  {
   "cell_type": "code",
   "execution_count": null,
   "id": "extra-executive",
   "metadata": {
    "papermill": {
     "duration": 0.022294,
     "end_time": "2021-08-30T18:30:10.856865",
     "exception": false,
     "start_time": "2021-08-30T18:30:10.834571",
     "status": "completed"
    },
    "tags": []
   },
   "outputs": [],
   "source": []
  }
 ],
 "metadata": {
  "kernelspec": {
   "display_name": "Python 3",
   "language": "python",
   "name": "python3"
  },
  "language_info": {
   "codemirror_mode": {
    "name": "ipython",
    "version": 3
   },
   "file_extension": ".py",
   "mimetype": "text/x-python",
   "name": "python",
   "nbconvert_exporter": "python",
   "pygments_lexer": "ipython3",
   "version": "3.9.5"
  },
  "papermill": {
   "default_parameters": {},
   "duration": 6.824985,
   "end_time": "2021-08-30T18:30:12.071916",
   "environment_variables": {},
   "exception": null,
   "input_path": "eBay_Overview.ipynb",
   "output_path": "eBay_Overview.ipynb",
   "parameters": {},
   "start_time": "2021-08-30T18:30:05.246931",
   "version": "2.3.3"
  }
 },
 "nbformat": 4,
 "nbformat_minor": 5
}