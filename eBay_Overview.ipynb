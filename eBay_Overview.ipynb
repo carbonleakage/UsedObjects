{
 "cells": [
  {
   "cell_type": "code",
   "execution_count": 1,
   "id": "reverse-picking",
   "metadata": {
    "execution": {
     "iopub.execute_input": "2021-10-25T12:30:06.674799Z",
     "iopub.status.busy": "2021-10-25T12:30:06.672877Z",
     "iopub.status.idle": "2021-10-25T12:30:07.481769Z",
     "shell.execute_reply": "2021-10-25T12:30:07.483032Z"
    },
    "papermill": {
     "duration": 0.861588,
     "end_time": "2021-10-25T12:30:07.483659",
     "exception": false,
     "start_time": "2021-10-25T12:30:06.622071",
     "status": "completed"
    },
    "tags": []
   },
   "outputs": [],
   "source": [
    "import pandas as pd\n",
    "import sqlite3"
   ]
  },
  {
   "cell_type": "code",
   "execution_count": 2,
   "id": "innovative-syndrome",
   "metadata": {
    "execution": {
     "iopub.execute_input": "2021-10-25T12:30:07.537370Z",
     "iopub.status.busy": "2021-10-25T12:30:07.534955Z",
     "iopub.status.idle": "2021-10-25T12:30:08.183561Z",
     "shell.execute_reply": "2021-10-25T12:30:08.184944Z"
    },
    "papermill": {
     "duration": 0.679216,
     "end_time": "2021-10-25T12:30:08.185425",
     "exception": false,
     "start_time": "2021-10-25T12:30:07.506209",
     "status": "completed"
    },
    "tags": []
   },
   "outputs": [],
   "source": [
    "timestamps = pd.read_sql(\"select distinct record_time from EBAY_TOP_BERLIN order by record_time desc limit 2\", sqlite3.connect(\"UsedObjects.db\"))"
   ]
  },
  {
   "cell_type": "code",
   "execution_count": 3,
   "id": "periodic-identification",
   "metadata": {
    "execution": {
     "iopub.execute_input": "2021-10-25T12:30:08.261939Z",
     "iopub.status.busy": "2021-10-25T12:30:08.259825Z",
     "iopub.status.idle": "2021-10-25T12:30:08.279652Z",
     "shell.execute_reply": "2021-10-25T12:30:08.281045Z"
    },
    "papermill": {
     "duration": 0.071028,
     "end_time": "2021-10-25T12:30:08.281479",
     "exception": false,
     "start_time": "2021-10-25T12:30:08.210451",
     "status": "completed"
    },
    "tags": []
   },
   "outputs": [
    {
     "data": {
      "text/html": [
       "<div>\n",
       "<style scoped>\n",
       "    .dataframe tbody tr th:only-of-type {\n",
       "        vertical-align: middle;\n",
       "    }\n",
       "\n",
       "    .dataframe tbody tr th {\n",
       "        vertical-align: top;\n",
       "    }\n",
       "\n",
       "    .dataframe thead th {\n",
       "        text-align: right;\n",
       "    }\n",
       "</style>\n",
       "<table border=\"1\" class=\"dataframe\">\n",
       "  <thead>\n",
       "    <tr style=\"text-align: right;\">\n",
       "      <th></th>\n",
       "      <th>RECORD_TIME</th>\n",
       "    </tr>\n",
       "  </thead>\n",
       "  <tbody>\n",
       "    <tr>\n",
       "      <th>0</th>\n",
       "      <td>2021-10-25 14:30</td>\n",
       "    </tr>\n",
       "    <tr>\n",
       "      <th>1</th>\n",
       "      <td>2021-10-25 14:00</td>\n",
       "    </tr>\n",
       "  </tbody>\n",
       "</table>\n",
       "</div>"
      ],
      "text/plain": [
       "        RECORD_TIME\n",
       "0  2021-10-25 14:30\n",
       "1  2021-10-25 14:00"
      ]
     },
     "execution_count": 3,
     "metadata": {},
     "output_type": "execute_result"
    }
   ],
   "source": [
    "timestamps"
   ]
  },
  {
   "cell_type": "code",
   "execution_count": 4,
   "id": "alternate-victory",
   "metadata": {
    "execution": {
     "iopub.execute_input": "2021-10-25T12:30:08.333699Z",
     "iopub.status.busy": "2021-10-25T12:30:08.331601Z",
     "iopub.status.idle": "2021-10-25T12:30:09.305879Z",
     "shell.execute_reply": "2021-10-25T12:30:09.307287Z"
    },
    "papermill": {
     "duration": 1.004696,
     "end_time": "2021-10-25T12:30:09.307738",
     "exception": false,
     "start_time": "2021-10-25T12:30:08.303042",
     "status": "completed"
    },
    "tags": []
   },
   "outputs": [],
   "source": [
    "df = pd.read_sql(\"select * from EBAY_TOP_BERLIN where record_time in (select distinct record_time from EBAY_TOP_BERLIN order by record_time desc limit 2)\", sqlite3.connect(\"UsedObjects.db\"))"
   ]
  },
  {
   "cell_type": "code",
   "execution_count": 5,
   "id": "popular-active",
   "metadata": {
    "execution": {
     "iopub.execute_input": "2021-10-25T12:30:09.374660Z",
     "iopub.status.busy": "2021-10-25T12:30:09.368004Z",
     "iopub.status.idle": "2021-10-25T12:30:09.397117Z",
     "shell.execute_reply": "2021-10-25T12:30:09.398693Z"
    },
    "papermill": {
     "duration": 0.070347,
     "end_time": "2021-10-25T12:30:09.399156",
     "exception": false,
     "start_time": "2021-10-25T12:30:09.328809",
     "status": "completed"
    },
    "tags": []
   },
   "outputs": [],
   "source": [
    "df_pivot = df.pivot_table(index=\"PRODUCT\", columns = \"RECORD_TIME\", values = \"LISTING_COUNT\")"
   ]
  },
  {
   "cell_type": "code",
   "execution_count": 6,
   "id": "union-huntington",
   "metadata": {
    "execution": {
     "iopub.execute_input": "2021-10-25T12:30:09.456560Z",
     "iopub.status.busy": "2021-10-25T12:30:09.454393Z",
     "iopub.status.idle": "2021-10-25T12:30:09.460163Z",
     "shell.execute_reply": "2021-10-25T12:30:09.461515Z"
    },
    "papermill": {
     "duration": 0.041988,
     "end_time": "2021-10-25T12:30:09.461978",
     "exception": false,
     "start_time": "2021-10-25T12:30:09.419990",
     "status": "completed"
    },
    "tags": []
   },
   "outputs": [],
   "source": [
    "df_pivot.columns = [\"stamp_1\", \"stamp_2\"]\n",
    "df_pivot_diff = df_pivot.diff(axis=1)"
   ]
  },
  {
   "cell_type": "code",
   "execution_count": 7,
   "id": "fifth-motion",
   "metadata": {
    "execution": {
     "iopub.execute_input": "2021-10-25T12:30:09.520023Z",
     "iopub.status.busy": "2021-10-25T12:30:09.517363Z",
     "iopub.status.idle": "2021-10-25T12:30:11.005485Z",
     "shell.execute_reply": "2021-10-25T12:30:11.006934Z"
    },
    "papermill": {
     "duration": 1.522496,
     "end_time": "2021-10-25T12:30:11.007385",
     "exception": false,
     "start_time": "2021-10-25T12:30:09.484889",
     "status": "completed"
    },
    "tags": []
   },
   "outputs": [
    {
     "data": {
      "text/plain": [
       "<AxesSubplot:ylabel='PRODUCT'>"
      ]
     },
     "execution_count": 7,
     "metadata": {},
     "output_type": "execute_result"
    },
    {
     "data": {
      "image/png": "[encoded data removed]",
      "text/plain": [
       "<Figure size 432x288 with 1 Axes>"
      ]
     },
     "metadata": {
      "needs_background": "light"
     },
     "output_type": "display_data"
    }
   ],
   "source": [
    "df_pivot_diff.sort_values(\"stamp_2\", ascending = False)[\"stamp_2\"].head(10).plot.barh()"
   ]
  },
  {
   "cell_type": "code",
   "execution_count": null,
   "id": "extra-executive",
   "metadata": {
    "papermill": {
     "duration": 0.022503,
     "end_time": "2021-10-25T12:30:11.055360",
     "exception": false,
     "start_time": "2021-10-25T12:30:11.032857",
     "status": "completed"
    },
    "tags": []
   },
   "outputs": [],
   "source": []
  }
 ],
 "metadata": {
  "kernelspec": {
   "display_name": "Python 3",
   "language": "python",
   "name": "python3"
  },
  "language_info": {
   "codemirror_mode": {
    "name": "ipython",
    "version": 3
   },
   "file_extension": ".py",
   "mimetype": "text/x-python",
   "name": "python",
   "nbconvert_exporter": "python",
   "pygments_lexer": "ipython3",
   "version": "3.9.5"
  },
  "papermill": {
   "default_parameters": {},
   "duration": 7.491788,
   "end_time": "2021-10-25T12:30:11.697417",
   "environment_variables": {},
   "exception": null,
   "input_path": "eBay_Overview.ipynb",
   "output_path": "eBay_Overview.ipynb",
   "parameters": {},
   "start_time": "2021-10-25T12:30:04.205629",
   "version": "2.3.3"
  }
 },
 "nbformat": 4,
 "nbformat_minor": 5
}