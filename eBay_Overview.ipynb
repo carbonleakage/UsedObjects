{
 "cells": [
  {
   "cell_type": "code",
   "execution_count": 1,
   "id": "reverse-picking",
   "metadata": {
    "execution": {
     "iopub.execute_input": "2021-08-24T11:30:07.507832Z",
     "iopub.status.busy": "2021-08-24T11:30:07.505819Z",
     "iopub.status.idle": "2021-08-24T11:30:08.311731Z",
     "shell.execute_reply": "2021-08-24T11:30:08.312954Z"
    },
    "papermill": {
     "duration": 0.858033,
     "end_time": "2021-08-24T11:30:08.313575",
     "exception": false,
     "start_time": "2021-08-24T11:30:07.455542",
     "status": "completed"
    },
    "tags": []
   },
   "outputs": [],
   "source": [
    "import pandas as pd\n",
    "import sqlite3"
   ]
  },
  {
   "cell_type": "code",
   "execution_count": 2,
   "id": "innovative-syndrome",
   "metadata": {
    "execution": {
     "iopub.execute_input": "2021-08-24T11:30:08.365030Z",
     "iopub.status.busy": "2021-08-24T11:30:08.363185Z",
     "iopub.status.idle": "2021-08-24T11:30:08.481058Z",
     "shell.execute_reply": "2021-08-24T11:30:08.482312Z"
    },
    "papermill": {
     "duration": 0.147348,
     "end_time": "2021-08-24T11:30:08.482712",
     "exception": false,
     "start_time": "2021-08-24T11:30:08.335364",
     "status": "completed"
    },
    "tags": []
   },
   "outputs": [],
   "source": [
    "timestamps = pd.read_sql(\"select distinct record_time from EBAY_TOP_BERLIN order by record_time desc limit 2\", sqlite3.connect(\"UsedObjects.db\"))"
   ]
  },
  {
   "cell_type": "code",
   "execution_count": 3,
   "id": "periodic-identification",
   "metadata": {
    "execution": {
     "iopub.execute_input": "2021-08-24T11:30:08.546161Z",
     "iopub.status.busy": "2021-08-24T11:30:08.544078Z",
     "iopub.status.idle": "2021-08-24T11:30:08.565587Z",
     "shell.execute_reply": "2021-08-24T11:30:08.564200Z"
    },
    "papermill": {
     "duration": 0.063529,
     "end_time": "2021-08-24T11:30:08.565986",
     "exception": false,
     "start_time": "2021-08-24T11:30:08.502457",
     "status": "completed"
    },
    "tags": []
   },
   "outputs": [
    {
     "data": {
      "text/html": [
       "<div>\n",
       "<style scoped>\n",
       "    .dataframe tbody tr th:only-of-type {\n",
       "        vertical-align: middle;\n",
       "    }\n",
       "\n",
       "    .dataframe tbody tr th {\n",
       "        vertical-align: top;\n",
       "    }\n",
       "\n",
       "    .dataframe thead th {\n",
       "        text-align: right;\n",
       "    }\n",
       "</style>\n",
       "<table border=\"1\" class=\"dataframe\">\n",
       "  <thead>\n",
       "    <tr style=\"text-align: right;\">\n",
       "      <th></th>\n",
       "      <th>RECORD_TIME</th>\n",
       "    </tr>\n",
       "  </thead>\n",
       "  <tbody>\n",
       "    <tr>\n",
       "      <th>0</th>\n",
       "      <td>2021-08-24 13:30</td>\n",
       "    </tr>\n",
       "    <tr>\n",
       "      <th>1</th>\n",
       "      <td>2021-08-24 13:00</td>\n",
       "    </tr>\n",
       "  </tbody>\n",
       "</table>\n",
       "</div>"
      ],
      "text/plain": [
       "        RECORD_TIME\n",
       "0  2021-08-24 13:30\n",
       "1  2021-08-24 13:00"
      ]
     },
     "execution_count": 3,
     "metadata": {},
     "output_type": "execute_result"
    }
   ],
   "source": [
    "timestamps"
   ]
  },
  {
   "cell_type": "code",
   "execution_count": 4,
   "id": "alternate-victory",
   "metadata": {
    "execution": {
     "iopub.execute_input": "2021-08-24T11:30:08.617758Z",
     "iopub.status.busy": "2021-08-24T11:30:08.615925Z",
     "iopub.status.idle": "2021-08-24T11:30:08.791947Z",
     "shell.execute_reply": "2021-08-24T11:30:08.793145Z"
    },
    "papermill": {
     "duration": 0.206035,
     "end_time": "2021-08-24T11:30:08.793538",
     "exception": false,
     "start_time": "2021-08-24T11:30:08.587503",
     "status": "completed"
    },
    "tags": []
   },
   "outputs": [],
   "source": [
    "df = pd.read_sql(\"select * from EBAY_TOP_BERLIN where record_time in (select distinct record_time from EBAY_TOP_BERLIN order by record_time desc limit 2)\", sqlite3.connect(\"UsedObjects.db\"))"
   ]
  },
  {
   "cell_type": "code",
   "execution_count": 5,
   "id": "popular-active",
   "metadata": {
    "execution": {
     "iopub.execute_input": "2021-08-24T11:30:08.864104Z",
     "iopub.status.busy": "2021-08-24T11:30:08.851459Z",
     "iopub.status.idle": "2021-08-24T11:30:08.880722Z",
     "shell.execute_reply": "2021-08-24T11:30:08.882150Z"
    },
    "papermill": {
     "duration": 0.068808,
     "end_time": "2021-08-24T11:30:08.882584",
     "exception": false,
     "start_time": "2021-08-24T11:30:08.813776",
     "status": "completed"
    },
    "tags": []
   },
   "outputs": [],
   "source": [
    "df_pivot = df.pivot_table(index=\"PRODUCT\", columns = \"RECORD_TIME\", values = \"LISTING_COUNT\")"
   ]
  },
  {
   "cell_type": "code",
   "execution_count": 6,
   "id": "union-huntington",
   "metadata": {
    "execution": {
     "iopub.execute_input": "2021-08-24T11:30:08.938282Z",
     "iopub.status.busy": "2021-08-24T11:30:08.936197Z",
     "iopub.status.idle": "2021-08-24T11:30:08.941765Z",
     "shell.execute_reply": "2021-08-24T11:30:08.943143Z"
    },
    "papermill": {
     "duration": 0.040794,
     "end_time": "2021-08-24T11:30:08.943558",
     "exception": false,
     "start_time": "2021-08-24T11:30:08.902764",
     "status": "completed"
    },
    "tags": []
   },
   "outputs": [],
   "source": [
    "df_pivot.columns = [\"stamp_1\", \"stamp_2\"]\n",
    "df_pivot_diff = df_pivot.diff(axis=1)"
   ]
  },
  {
   "cell_type": "code",
   "execution_count": 7,
   "id": "fifth-motion",
   "metadata": {
    "execution": {
     "iopub.execute_input": "2021-08-24T11:30:08.998758Z",
     "iopub.status.busy": "2021-08-24T11:30:08.996193Z",
     "iopub.status.idle": "2021-08-24T11:30:10.459390Z",
     "shell.execute_reply": "2021-08-24T11:30:10.460661Z"
    },
    "papermill": {
     "duration": 1.496088,
     "end_time": "2021-08-24T11:30:10.461078",
     "exception": false,
     "start_time": "2021-08-24T11:30:08.964990",
     "status": "completed"
    },
    "tags": []
   },
   "outputs": [
    {
     "data": {
      "text/plain": [
       "<AxesSubplot:ylabel='PRODUCT'>"
      ]
     },
     "execution_count": 7,
     "metadata": {},
     "output_type": "execute_result"
    },
    {
     "data": {
      "image/png": "[encoded data removed]",
      "text/plain": [
       "<Figure size 432x288 with 1 Axes>"
      ]
     },
     "metadata": {
      "needs_background": "light"
     },
     "output_type": "display_data"
    }
   ],
   "source": [
    "df_pivot_diff.sort_values(\"stamp_2\", ascending = False)[\"stamp_2\"].head(10).plot.barh()"
   ]
  },
  {
   "cell_type": "code",
   "execution_count": null,
   "id": "extra-executive",
   "metadata": {
    "papermill": {
     "duration": 0.022351,
     "end_time": "2021-08-24T11:30:10.507341",
     "exception": false,
     "start_time": "2021-08-24T11:30:10.484990",
     "status": "completed"
    },
    "tags": []
   },
   "outputs": [],
   "source": []
  }
 ],
 "metadata": {
  "kernelspec": {
   "display_name": "Python 3",
   "language": "python",
   "name": "python3"
  },
  "language_info": {
   "codemirror_mode": {
    "name": "ipython",
    "version": 3
   },
   "file_extension": ".py",
   "mimetype": "text/x-python",
   "name": "python",
   "nbconvert_exporter": "python",
   "pygments_lexer": "ipython3",
   "version": "3.9.5"
  },
  "papermill": {
   "default_parameters": {},
   "duration": 6.82565,
   "end_time": "2021-08-24T11:30:11.864802",
   "environment_variables": {},
   "exception": null,
   "input_path": "eBay_Overview.ipynb",
   "output_path": "eBay_Overview.ipynb",
   "parameters": {},
   "start_time": "2021-08-24T11:30:05.039152",
   "version": "2.3.3"
  }
 },
 "nbformat": 4,
 "nbformat_minor": 5
}