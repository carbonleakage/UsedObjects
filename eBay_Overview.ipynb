{
 "cells": [
  {
   "cell_type": "code",
   "execution_count": 1,
   "id": "reverse-picking",
   "metadata": {
    "execution": {
     "iopub.execute_input": "2021-08-16T09:00:06.946128Z",
     "iopub.status.busy": "2021-08-16T09:00:06.944134Z",
     "iopub.status.idle": "2021-08-16T09:00:07.750770Z",
     "shell.execute_reply": "2021-08-16T09:00:07.752058Z"
    },
    "papermill": {
     "duration": 0.85897,
     "end_time": "2021-08-16T09:00:07.752682",
     "exception": false,
     "start_time": "2021-08-16T09:00:06.893712",
     "status": "completed"
    },
    "tags": []
   },
   "outputs": [],
   "source": [
    "import pandas as pd\n",
    "import sqlite3"
   ]
  },
  {
   "cell_type": "code",
   "execution_count": 2,
   "id": "innovative-syndrome",
   "metadata": {
    "execution": {
     "iopub.execute_input": "2021-08-16T09:00:07.803537Z",
     "iopub.status.busy": "2021-08-16T09:00:07.801378Z",
     "iopub.status.idle": "2021-08-16T09:00:07.862556Z",
     "shell.execute_reply": "2021-08-16T09:00:07.863954Z"
    },
    "papermill": {
     "duration": 0.090997,
     "end_time": "2021-08-16T09:00:07.864396",
     "exception": false,
     "start_time": "2021-08-16T09:00:07.773399",
     "status": "completed"
    },
    "tags": []
   },
   "outputs": [],
   "source": [
    "timestamps = pd.read_sql(\"select distinct record_time from EBAY_TOP_BERLIN order by record_time desc limit 2\", sqlite3.connect(\"UsedObjects.db\"))"
   ]
  },
  {
   "cell_type": "code",
   "execution_count": 3,
   "id": "periodic-identification",
   "metadata": {
    "execution": {
     "iopub.execute_input": "2021-08-16T09:00:07.928412Z",
     "iopub.status.busy": "2021-08-16T09:00:07.926181Z",
     "iopub.status.idle": "2021-08-16T09:00:07.946653Z",
     "shell.execute_reply": "2021-08-16T09:00:07.947809Z"
    },
    "papermill": {
     "duration": 0.064676,
     "end_time": "2021-08-16T09:00:07.948224",
     "exception": false,
     "start_time": "2021-08-16T09:00:07.883548",
     "status": "completed"
    },
    "tags": []
   },
   "outputs": [
    {
     "data": {
      "text/html": [
       "<div>\n",
       "<style scoped>\n",
       "    .dataframe tbody tr th:only-of-type {\n",
       "        vertical-align: middle;\n",
       "    }\n",
       "\n",
       "    .dataframe tbody tr th {\n",
       "        vertical-align: top;\n",
       "    }\n",
       "\n",
       "    .dataframe thead th {\n",
       "        text-align: right;\n",
       "    }\n",
       "</style>\n",
       "<table border=\"1\" class=\"dataframe\">\n",
       "  <thead>\n",
       "    <tr style=\"text-align: right;\">\n",
       "      <th></th>\n",
       "      <th>RECORD_TIME</th>\n",
       "    </tr>\n",
       "  </thead>\n",
       "  <tbody>\n",
       "    <tr>\n",
       "      <th>0</th>\n",
       "      <td>2021-08-16 11:00</td>\n",
       "    </tr>\n",
       "    <tr>\n",
       "      <th>1</th>\n",
       "      <td>2021-08-16 10:30</td>\n",
       "    </tr>\n",
       "  </tbody>\n",
       "</table>\n",
       "</div>"
      ],
      "text/plain": [
       "        RECORD_TIME\n",
       "0  2021-08-16 11:00\n",
       "1  2021-08-16 10:30"
      ]
     },
     "execution_count": 3,
     "metadata": {},
     "output_type": "execute_result"
    }
   ],
   "source": [
    "timestamps"
   ]
  },
  {
   "cell_type": "code",
   "execution_count": 4,
   "id": "alternate-victory",
   "metadata": {
    "execution": {
     "iopub.execute_input": "2021-08-16T09:00:08.002556Z",
     "iopub.status.busy": "2021-08-16T09:00:08.000200Z",
     "iopub.status.idle": "2021-08-16T09:00:08.091399Z",
     "shell.execute_reply": "2021-08-16T09:00:08.092616Z"
    },
    "papermill": {
     "duration": 0.121591,
     "end_time": "2021-08-16T09:00:08.093017",
     "exception": false,
     "start_time": "2021-08-16T09:00:07.971426",
     "status": "completed"
    },
    "tags": []
   },
   "outputs": [],
   "source": [
    "df = pd.read_sql(\"select * from EBAY_TOP_BERLIN where record_time in (select distinct record_time from EBAY_TOP_BERLIN order by record_time desc limit 2)\", sqlite3.connect(\"UsedObjects.db\"))"
   ]
  },
  {
   "cell_type": "code",
   "execution_count": 5,
   "id": "popular-active",
   "metadata": {
    "execution": {
     "iopub.execute_input": "2021-08-16T09:00:08.164632Z",
     "iopub.status.busy": "2021-08-16T09:00:08.151867Z",
     "iopub.status.idle": "2021-08-16T09:00:08.180202Z",
     "shell.execute_reply": "2021-08-16T09:00:08.181487Z"
    },
    "papermill": {
     "duration": 0.06835,
     "end_time": "2021-08-16T09:00:08.181960",
     "exception": false,
     "start_time": "2021-08-16T09:00:08.113610",
     "status": "completed"
    },
    "tags": []
   },
   "outputs": [],
   "source": [
    "df_pivot = df.pivot_table(index=\"PRODUCT\", columns = \"RECORD_TIME\", values = \"LISTING_COUNT\")"
   ]
  },
  {
   "cell_type": "code",
   "execution_count": 6,
   "id": "union-huntington",
   "metadata": {
    "execution": {
     "iopub.execute_input": "2021-08-16T09:00:08.237583Z",
     "iopub.status.busy": "2021-08-16T09:00:08.235493Z",
     "iopub.status.idle": "2021-08-16T09:00:08.240655Z",
     "shell.execute_reply": "2021-08-16T09:00:08.242021Z"
    },
    "papermill": {
     "duration": 0.040294,
     "end_time": "2021-08-16T09:00:08.242456",
     "exception": false,
     "start_time": "2021-08-16T09:00:08.202162",
     "status": "completed"
    },
    "tags": []
   },
   "outputs": [],
   "source": [
    "df_pivot.columns = [\"stamp_1\", \"stamp_2\"]\n",
    "df_pivot_diff = df_pivot.diff(axis=1)"
   ]
  },
  {
   "cell_type": "code",
   "execution_count": 7,
   "id": "fifth-motion",
   "metadata": {
    "execution": {
     "iopub.execute_input": "2021-08-16T09:00:08.297383Z",
     "iopub.status.busy": "2021-08-16T09:00:08.294984Z",
     "iopub.status.idle": "2021-08-16T09:00:09.788677Z",
     "shell.execute_reply": "2021-08-16T09:00:09.790712Z"
    },
    "papermill": {
     "duration": 1.52732,
     "end_time": "2021-08-16T09:00:09.791189",
     "exception": false,
     "start_time": "2021-08-16T09:00:08.263869",
     "status": "completed"
    },
    "tags": []
   },
   "outputs": [
    {
     "data": {
      "text/plain": [
       "<AxesSubplot:ylabel='PRODUCT'>"
      ]
     },
     "execution_count": 7,
     "metadata": {},
     "output_type": "execute_result"
    },
    {
     "data": {
      "image/png": "[encoded data removed]",
      "text/plain": [
       "<Figure size 432x288 with 1 Axes>"
      ]
     },
     "metadata": {
      "needs_background": "light"
     },
     "output_type": "display_data"
    }
   ],
   "source": [
    "df_pivot_diff.sort_values(\"stamp_2\", ascending = False)[\"stamp_2\"].head(10).plot.barh()"
   ]
  },
  {
   "cell_type": "code",
   "execution_count": null,
   "id": "extra-executive",
   "metadata": {
    "papermill": {
     "duration": 0.022344,
     "end_time": "2021-08-16T09:00:09.837961",
     "exception": false,
     "start_time": "2021-08-16T09:00:09.815617",
     "status": "completed"
    },
    "tags": []
   },
   "outputs": [],
   "source": []
  }
 ],
 "metadata": {
  "kernelspec": {
   "display_name": "Python 3",
   "language": "python",
   "name": "python3"
  },
  "language_info": {
   "codemirror_mode": {
    "name": "ipython",
    "version": 3
   },
   "file_extension": ".py",
   "mimetype": "text/x-python",
   "name": "python",
   "nbconvert_exporter": "python",
   "pygments_lexer": "ipython3",
   "version": "3.9.5"
  },
  "papermill": {
   "default_parameters": {},
   "duration": 6.820075,
   "end_time": "2021-08-16T09:00:11.308710",
   "environment_variables": {},
   "exception": null,
   "input_path": "eBay_Overview.ipynb",
   "output_path": "eBay_Overview.ipynb",
   "parameters": {},
   "start_time": "2021-08-16T09:00:04.488635",
   "version": "2.3.3"
  }
 },
 "nbformat": 4,
 "nbformat_minor": 5
}