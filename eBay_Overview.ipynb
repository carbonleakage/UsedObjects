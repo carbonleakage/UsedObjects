{
 "cells": [
  {
   "cell_type": "code",
   "execution_count": 1,
   "id": "reverse-picking",
   "metadata": {
    "execution": {
     "iopub.execute_input": "2021-08-10T01:00:03.649279Z",
     "iopub.status.busy": "2021-08-10T01:00:03.648515Z",
     "iopub.status.idle": "2021-08-10T01:00:04.412010Z",
     "shell.execute_reply": "2021-08-10T01:00:04.410775Z"
    },
    "papermill": {
     "duration": 0.78167,
     "end_time": "2021-08-10T01:00:04.412324",
     "exception": false,
     "start_time": "2021-08-10T01:00:03.630654",
     "status": "completed"
    },
    "tags": []
   },
   "outputs": [],
   "source": [
    "import pandas as pd\n",
    "import sqlite3"
   ]
  },
  {
   "cell_type": "code",
   "execution_count": 2,
   "id": "innovative-syndrome",
   "metadata": {
    "execution": {
     "iopub.execute_input": "2021-08-10T01:00:04.437291Z",
     "iopub.status.busy": "2021-08-10T01:00:04.436508Z",
     "iopub.status.idle": "2021-08-10T01:00:04.685775Z",
     "shell.execute_reply": "2021-08-10T01:00:04.686352Z"
    },
    "papermill": {
     "duration": 0.263168,
     "end_time": "2021-08-10T01:00:04.686539",
     "exception": false,
     "start_time": "2021-08-10T01:00:04.423371",
     "status": "completed"
    },
    "tags": []
   },
   "outputs": [],
   "source": [
    "timestamps = pd.read_sql(\"select distinct record_time from EBAY_TOP_BERLIN order by record_time desc limit 2\", sqlite3.connect(\"UsedObjects.db\"))"
   ]
  },
  {
   "cell_type": "code",
   "execution_count": 3,
   "id": "periodic-identification",
   "metadata": {
    "execution": {
     "iopub.execute_input": "2021-08-10T01:00:04.714948Z",
     "iopub.status.busy": "2021-08-10T01:00:04.714180Z",
     "iopub.status.idle": "2021-08-10T01:00:04.727440Z",
     "shell.execute_reply": "2021-08-10T01:00:04.727976Z"
    },
    "papermill": {
     "duration": 0.033663,
     "end_time": "2021-08-10T01:00:04.728160",
     "exception": false,
     "start_time": "2021-08-10T01:00:04.694497",
     "status": "completed"
    },
    "tags": []
   },
   "outputs": [
    {
     "data": {
      "text/html": [
       "<div>\n",
       "<style scoped>\n",
       "    .dataframe tbody tr th:only-of-type {\n",
       "        vertical-align: middle;\n",
       "    }\n",
       "\n",
       "    .dataframe tbody tr th {\n",
       "        vertical-align: top;\n",
       "    }\n",
       "\n",
       "    .dataframe thead th {\n",
       "        text-align: right;\n",
       "    }\n",
       "</style>\n",
       "<table border=\"1\" class=\"dataframe\">\n",
       "  <thead>\n",
       "    <tr style=\"text-align: right;\">\n",
       "      <th></th>\n",
       "      <th>RECORD_TIME</th>\n",
       "    </tr>\n",
       "  </thead>\n",
       "  <tbody>\n",
       "    <tr>\n",
       "      <th>0</th>\n",
       "      <td>2021-08-10 03:00</td>\n",
       "    </tr>\n",
       "    <tr>\n",
       "      <th>1</th>\n",
       "      <td>2021-08-10 02:30</td>\n",
       "    </tr>\n",
       "  </tbody>\n",
       "</table>\n",
       "</div>"
      ],
      "text/plain": [
       "        RECORD_TIME\n",
       "0  2021-08-10 03:00\n",
       "1  2021-08-10 02:30"
      ]
     },
     "execution_count": 3,
     "metadata": {},
     "output_type": "execute_result"
    }
   ],
   "source": [
    "timestamps"
   ]
  },
  {
   "cell_type": "code",
   "execution_count": 4,
   "id": "alternate-victory",
   "metadata": {
    "execution": {
     "iopub.execute_input": "2021-08-10T01:00:04.751308Z",
     "iopub.status.busy": "2021-08-10T01:00:04.750543Z",
     "iopub.status.idle": "2021-08-10T01:00:04.762538Z",
     "shell.execute_reply": "2021-08-10T01:00:04.763306Z"
    },
    "papermill": {
     "duration": 0.026629,
     "end_time": "2021-08-10T01:00:04.763532",
     "exception": false,
     "start_time": "2021-08-10T01:00:04.736903",
     "status": "completed"
    },
    "tags": []
   },
   "outputs": [],
   "source": [
    "df = pd.read_sql(\"select * from EBAY_TOP_BERLIN where record_time in (select distinct record_time from EBAY_TOP_BERLIN order by record_time desc limit 2)\", sqlite3.connect(\"UsedObjects.db\"))"
   ]
  },
  {
   "cell_type": "code",
   "execution_count": 5,
   "id": "popular-active",
   "metadata": {
    "execution": {
     "iopub.execute_input": "2021-08-10T01:00:04.793244Z",
     "iopub.status.busy": "2021-08-10T01:00:04.792301Z",
     "iopub.status.idle": "2021-08-10T01:00:04.817903Z",
     "shell.execute_reply": "2021-08-10T01:00:04.816909Z"
    },
    "papermill": {
     "duration": 0.041024,
     "end_time": "2021-08-10T01:00:04.818091",
     "exception": false,
     "start_time": "2021-08-10T01:00:04.777067",
     "status": "completed"
    },
    "tags": []
   },
   "outputs": [],
   "source": [
    "df_pivot = df.pivot_table(index=\"PRODUCT\", columns = \"RECORD_TIME\", values = \"LISTING_COUNT\")"
   ]
  },
  {
   "cell_type": "code",
   "execution_count": 6,
   "id": "union-huntington",
   "metadata": {
    "execution": {
     "iopub.execute_input": "2021-08-10T01:00:04.842956Z",
     "iopub.status.busy": "2021-08-10T01:00:04.841981Z",
     "iopub.status.idle": "2021-08-10T01:00:04.846028Z",
     "shell.execute_reply": "2021-08-10T01:00:04.846556Z"
    },
    "papermill": {
     "duration": 0.019755,
     "end_time": "2021-08-10T01:00:04.846739",
     "exception": false,
     "start_time": "2021-08-10T01:00:04.826984",
     "status": "completed"
    },
    "tags": []
   },
   "outputs": [],
   "source": [
    "df_pivot.columns = [\"stamp_1\", \"stamp_2\"]\n",
    "df_pivot_diff = df_pivot.diff(axis=1)"
   ]
  },
  {
   "cell_type": "code",
   "execution_count": 7,
   "id": "fifth-motion",
   "metadata": {
    "execution": {
     "iopub.execute_input": "2021-08-10T01:00:04.877883Z",
     "iopub.status.busy": "2021-08-10T01:00:04.875597Z",
     "iopub.status.idle": "2021-08-10T01:00:05.719156Z",
     "shell.execute_reply": "2021-08-10T01:00:05.718288Z"
    },
    "papermill": {
     "duration": 0.864353,
     "end_time": "2021-08-10T01:00:05.719334",
     "exception": false,
     "start_time": "2021-08-10T01:00:04.854981",
     "status": "completed"
    },
    "tags": []
   },
   "outputs": [
    {
     "data": {
      "text/plain": [
       "<AxesSubplot:ylabel='PRODUCT'>"
      ]
     },
     "execution_count": 7,
     "metadata": {},
     "output_type": "execute_result"
    },
    {
     "data": {
      "image/png": "[encoded data removed]",
      "text/plain": [
       "<Figure size 432x288 with 1 Axes>"
      ]
     },
     "metadata": {
      "needs_background": "light"
     },
     "output_type": "display_data"
    }
   ],
   "source": [
    "df_pivot_diff.sort_values(\"stamp_2\", ascending = False)[\"stamp_2\"].head(10).plot.barh()"
   ]
  },
  {
   "cell_type": "code",
   "execution_count": null,
   "id": "extra-executive",
   "metadata": {
    "papermill": {
     "duration": 0.009296,
     "end_time": "2021-08-10T01:00:05.738382",
     "exception": false,
     "start_time": "2021-08-10T01:00:05.729086",
     "status": "completed"
    },
    "tags": []
   },
   "outputs": [],
   "source": []
  }
 ],
 "metadata": {
  "kernelspec": {
   "display_name": "Python 3",
   "language": "python",
   "name": "python3"
  },
  "language_info": {
   "codemirror_mode": {
    "name": "ipython",
    "version": 3
   },
   "file_extension": ".py",
   "mimetype": "text/x-python",
   "name": "python",
   "nbconvert_exporter": "python",
   "pygments_lexer": "ipython3",
   "version": "3.8.8"
  },
  "papermill": {
   "default_parameters": {},
   "duration": 4.544653,
   "end_time": "2021-08-10T01:00:06.471436",
   "environment_variables": {},
   "exception": null,
   "input_path": "/Users/saravananshanmugam/Carbonleakage_Git/UsedObjects/eBay_Overview.ipynb",
   "output_path": "/Users/saravananshanmugam/Carbonleakage_Git/UsedObjects/eBay_Overview.ipynb",
   "parameters": {},
   "start_time": "2021-08-10T01:00:01.926783",
   "version": "2.3.3"
  }
 },
 "nbformat": 4,
 "nbformat_minor": 5
}