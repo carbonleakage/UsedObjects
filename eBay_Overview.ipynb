{
 "cells": [
  {
   "cell_type": "code",
   "execution_count": 1,
   "id": "reverse-picking",
   "metadata": {
    "execution": {
     "iopub.execute_input": "2021-11-27T01:30:08.291171Z",
     "iopub.status.busy": "2021-11-27T01:30:08.288881Z",
     "iopub.status.idle": "2021-11-27T01:30:09.248230Z",
     "shell.execute_reply": "2021-11-27T01:30:09.251065Z"
    },
    "papermill": {
     "duration": 1.01072,
     "end_time": "2021-11-27T01:30:09.252362",
     "exception": false,
     "start_time": "2021-11-27T01:30:08.241642",
     "status": "completed"
    },
    "tags": []
   },
   "outputs": [],
   "source": [
    "import pandas as pd\n",
    "import sqlite3"
   ]
  },
  {
   "cell_type": "code",
   "execution_count": 2,
   "id": "innovative-syndrome",
   "metadata": {
    "execution": {
     "iopub.execute_input": "2021-11-27T01:30:09.329737Z",
     "iopub.status.busy": "2021-11-27T01:30:09.327233Z",
     "iopub.status.idle": "2021-11-27T01:30:10.243700Z",
     "shell.execute_reply": "2021-11-27T01:30:10.245204Z"
    },
    "papermill": {
     "duration": 0.950856,
     "end_time": "2021-11-27T01:30:10.245658",
     "exception": false,
     "start_time": "2021-11-27T01:30:09.294802",
     "status": "completed"
    },
    "tags": []
   },
   "outputs": [],
   "source": [
    "timestamps = pd.read_sql(\"select distinct record_time from EBAY_TOP_BERLIN order by record_time desc limit 2\", sqlite3.connect(\"UsedObjects.db\"))"
   ]
  },
  {
   "cell_type": "code",
   "execution_count": 3,
   "id": "periodic-identification",
   "metadata": {
    "execution": {
     "iopub.execute_input": "2021-11-27T01:30:10.311863Z",
     "iopub.status.busy": "2021-11-27T01:30:10.309825Z",
     "iopub.status.idle": "2021-11-27T01:30:10.332019Z",
     "shell.execute_reply": "2021-11-27T01:30:10.333445Z"
    },
    "papermill": {
     "duration": 0.068528,
     "end_time": "2021-11-27T01:30:10.333884",
     "exception": false,
     "start_time": "2021-11-27T01:30:10.265356",
     "status": "completed"
    },
    "tags": []
   },
   "outputs": [
    {
     "data": {
      "text/html": [
       "<div>\n",
       "<style scoped>\n",
       "    .dataframe tbody tr th:only-of-type {\n",
       "        vertical-align: middle;\n",
       "    }\n",
       "\n",
       "    .dataframe tbody tr th {\n",
       "        vertical-align: top;\n",
       "    }\n",
       "\n",
       "    .dataframe thead th {\n",
       "        text-align: right;\n",
       "    }\n",
       "</style>\n",
       "<table border=\"1\" class=\"dataframe\">\n",
       "  <thead>\n",
       "    <tr style=\"text-align: right;\">\n",
       "      <th></th>\n",
       "      <th>RECORD_TIME</th>\n",
       "    </tr>\n",
       "  </thead>\n",
       "  <tbody>\n",
       "    <tr>\n",
       "      <th>0</th>\n",
       "      <td>2021-11-27 02:30</td>\n",
       "    </tr>\n",
       "    <tr>\n",
       "      <th>1</th>\n",
       "      <td>2021-11-27 02:00</td>\n",
       "    </tr>\n",
       "  </tbody>\n",
       "</table>\n",
       "</div>"
      ],
      "text/plain": [
       "        RECORD_TIME\n",
       "0  2021-11-27 02:30\n",
       "1  2021-11-27 02:00"
      ]
     },
     "execution_count": 3,
     "metadata": {},
     "output_type": "execute_result"
    }
   ],
   "source": [
    "timestamps"
   ]
  },
  {
   "cell_type": "code",
   "execution_count": 4,
   "id": "alternate-victory",
   "metadata": {
    "execution": {
     "iopub.execute_input": "2021-11-27T01:30:10.387926Z",
     "iopub.status.busy": "2021-11-27T01:30:10.385821Z",
     "iopub.status.idle": "2021-11-27T01:30:11.763252Z",
     "shell.execute_reply": "2021-11-27T01:30:11.765246Z"
    },
    "papermill": {
     "duration": 1.410587,
     "end_time": "2021-11-27T01:30:11.765809",
     "exception": false,
     "start_time": "2021-11-27T01:30:10.355222",
     "status": "completed"
    },
    "tags": []
   },
   "outputs": [],
   "source": [
    "df = pd.read_sql(\"select * from EBAY_TOP_BERLIN where record_time in (select distinct record_time from EBAY_TOP_BERLIN order by record_time desc limit 2)\", sqlite3.connect(\"UsedObjects.db\"))"
   ]
  },
  {
   "cell_type": "code",
   "execution_count": 5,
   "id": "popular-active",
   "metadata": {
    "execution": {
     "iopub.execute_input": "2021-11-27T01:30:11.844934Z",
     "iopub.status.busy": "2021-11-27T01:30:11.831623Z",
     "iopub.status.idle": "2021-11-27T01:30:11.863042Z",
     "shell.execute_reply": "2021-11-27T01:30:11.864365Z"
    },
    "papermill": {
     "duration": 0.075416,
     "end_time": "2021-11-27T01:30:11.864887",
     "exception": false,
     "start_time": "2021-11-27T01:30:11.789471",
     "status": "completed"
    },
    "tags": []
   },
   "outputs": [],
   "source": [
    "df_pivot = df.pivot_table(index=\"PRODUCT\", columns = \"RECORD_TIME\", values = \"LISTING_COUNT\")"
   ]
  },
  {
   "cell_type": "code",
   "execution_count": 6,
   "id": "union-huntington",
   "metadata": {
    "execution": {
     "iopub.execute_input": "2021-11-27T01:30:11.923804Z",
     "iopub.status.busy": "2021-11-27T01:30:11.921572Z",
     "iopub.status.idle": "2021-11-27T01:30:11.928798Z",
     "shell.execute_reply": "2021-11-27T01:30:11.927244Z"
    },
    "papermill": {
     "duration": 0.043692,
     "end_time": "2021-11-27T01:30:11.929220",
     "exception": false,
     "start_time": "2021-11-27T01:30:11.885528",
     "status": "completed"
    },
    "tags": []
   },
   "outputs": [],
   "source": [
    "df_pivot.columns = [\"stamp_1\", \"stamp_2\"]\n",
    "df_pivot_diff = df_pivot.diff(axis=1)"
   ]
  },
  {
   "cell_type": "code",
   "execution_count": 7,
   "id": "fifth-motion",
   "metadata": {
    "execution": {
     "iopub.execute_input": "2021-11-27T01:30:11.989074Z",
     "iopub.status.busy": "2021-11-27T01:30:11.986450Z",
     "iopub.status.idle": "2021-11-27T01:30:14.026242Z",
     "shell.execute_reply": "2021-11-27T01:30:14.024271Z"
    },
    "papermill": {
     "duration": 2.075263,
     "end_time": "2021-11-27T01:30:14.026730",
     "exception": false,
     "start_time": "2021-11-27T01:30:11.951467",
     "status": "completed"
    },
    "tags": []
   },
   "outputs": [
    {
     "data": {
      "text/plain": [
       "<AxesSubplot:ylabel='PRODUCT'>"
      ]
     },
     "execution_count": 7,
     "metadata": {},
     "output_type": "execute_result"
    },
    {
     "data": {
      "image/png": "[encoded data removed]",
      "text/plain": [
       "<Figure size 432x288 with 1 Axes>"
      ]
     },
     "metadata": {
      "needs_background": "light"
     },
     "output_type": "display_data"
    }
   ],
   "source": [
    "df_pivot_diff.sort_values(\"stamp_2\", ascending = False)[\"stamp_2\"].head(10).plot.barh()"
   ]
  },
  {
   "cell_type": "code",
   "execution_count": null,
   "id": "extra-executive",
   "metadata": {
    "papermill": {
     "duration": 0.022441,
     "end_time": "2021-11-27T01:30:14.075108",
     "exception": false,
     "start_time": "2021-11-27T01:30:14.052667",
     "status": "completed"
    },
    "tags": []
   },
   "outputs": [],
   "source": []
  }
 ],
 "metadata": {
  "kernelspec": {
   "display_name": "Python 3",
   "language": "python",
   "name": "python3"
  },
  "language_info": {
   "codemirror_mode": {
    "name": "ipython",
    "version": 3
   },
   "file_extension": ".py",
   "mimetype": "text/x-python",
   "name": "python",
   "nbconvert_exporter": "python",
   "pygments_lexer": "ipython3",
   "version": "3.9.5"
  },
  "papermill": {
   "default_parameters": {},
   "duration": 9.939141,
   "end_time": "2021-11-27T01:30:15.431388",
   "environment_variables": {},
   "exception": null,
   "input_path": "eBay_Overview.ipynb",
   "output_path": "eBay_Overview.ipynb",
   "parameters": {},
   "start_time": "2021-11-27T01:30:05.492247",
   "version": "2.3.3"
  }
 },
 "nbformat": 4,
 "nbformat_minor": 5
}