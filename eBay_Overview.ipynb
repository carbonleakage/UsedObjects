{
 "cells": [
  {
   "cell_type": "code",
   "execution_count": 1,
   "id": "reverse-picking",
   "metadata": {
    "execution": {
     "iopub.execute_input": "2021-12-22T10:30:08.681026Z",
     "iopub.status.busy": "2021-12-22T10:30:08.668905Z",
     "iopub.status.idle": "2021-12-22T10:30:09.636847Z",
     "shell.execute_reply": "2021-12-22T10:30:09.638306Z"
    },
    "papermill": {
     "duration": 1.017613,
     "end_time": "2021-12-22T10:30:09.638976",
     "exception": false,
     "start_time": "2021-12-22T10:30:08.621363",
     "status": "completed"
    },
    "tags": []
   },
   "outputs": [],
   "source": [
    "import pandas as pd\n",
    "import sqlite3"
   ]
  },
  {
   "cell_type": "code",
   "execution_count": 2,
   "id": "innovative-syndrome",
   "metadata": {
    "execution": {
     "iopub.execute_input": "2021-12-22T10:30:09.692790Z",
     "iopub.status.busy": "2021-12-22T10:30:09.690508Z",
     "iopub.status.idle": "2021-12-22T10:30:10.857700Z",
     "shell.execute_reply": "2021-12-22T10:30:10.859606Z"
    },
    "papermill": {
     "duration": 1.200661,
     "end_time": "2021-12-22T10:30:10.860121",
     "exception": false,
     "start_time": "2021-12-22T10:30:09.659460",
     "status": "completed"
    },
    "tags": []
   },
   "outputs": [],
   "source": [
    "timestamps = pd.read_sql(\"select distinct record_time from EBAY_TOP_BERLIN order by record_time desc limit 2\", sqlite3.connect(\"UsedObjects.db\"))"
   ]
  },
  {
   "cell_type": "code",
   "execution_count": 3,
   "id": "periodic-identification",
   "metadata": {
    "execution": {
     "iopub.execute_input": "2021-12-22T10:30:10.934577Z",
     "iopub.status.busy": "2021-12-22T10:30:10.932326Z",
     "iopub.status.idle": "2021-12-22T10:30:10.955175Z",
     "shell.execute_reply": "2021-12-22T10:30:10.956536Z"
    },
    "papermill": {
     "duration": 0.075568,
     "end_time": "2021-12-22T10:30:10.957098",
     "exception": false,
     "start_time": "2021-12-22T10:30:10.881530",
     "status": "completed"
    },
    "tags": []
   },
   "outputs": [
    {
     "data": {
      "text/html": [
       "<div>\n",
       "<style scoped>\n",
       "    .dataframe tbody tr th:only-of-type {\n",
       "        vertical-align: middle;\n",
       "    }\n",
       "\n",
       "    .dataframe tbody tr th {\n",
       "        vertical-align: top;\n",
       "    }\n",
       "\n",
       "    .dataframe thead th {\n",
       "        text-align: right;\n",
       "    }\n",
       "</style>\n",
       "<table border=\"1\" class=\"dataframe\">\n",
       "  <thead>\n",
       "    <tr style=\"text-align: right;\">\n",
       "      <th></th>\n",
       "      <th>RECORD_TIME</th>\n",
       "    </tr>\n",
       "  </thead>\n",
       "  <tbody>\n",
       "    <tr>\n",
       "      <th>0</th>\n",
       "      <td>2021-12-22 11:30</td>\n",
       "    </tr>\n",
       "    <tr>\n",
       "      <th>1</th>\n",
       "      <td>2021-12-22 11:00</td>\n",
       "    </tr>\n",
       "  </tbody>\n",
       "</table>\n",
       "</div>"
      ],
      "text/plain": [
       "        RECORD_TIME\n",
       "0  2021-12-22 11:30\n",
       "1  2021-12-22 11:00"
      ]
     },
     "execution_count": 3,
     "metadata": {},
     "output_type": "execute_result"
    }
   ],
   "source": [
    "timestamps"
   ]
  },
  {
   "cell_type": "code",
   "execution_count": 4,
   "id": "alternate-victory",
   "metadata": {
    "execution": {
     "iopub.execute_input": "2021-12-22T10:30:11.015618Z",
     "iopub.status.busy": "2021-12-22T10:30:11.013150Z",
     "iopub.status.idle": "2021-12-22T10:30:12.698067Z",
     "shell.execute_reply": "2021-12-22T10:30:12.701072Z"
    },
    "papermill": {
     "duration": 1.723068,
     "end_time": "2021-12-22T10:30:12.701924",
     "exception": false,
     "start_time": "2021-12-22T10:30:10.978856",
     "status": "completed"
    },
    "tags": []
   },
   "outputs": [],
   "source": [
    "df = pd.read_sql(\"select * from EBAY_TOP_BERLIN where record_time in (select distinct record_time from EBAY_TOP_BERLIN order by record_time desc limit 2)\", sqlite3.connect(\"UsedObjects.db\"))"
   ]
  },
  {
   "cell_type": "code",
   "execution_count": 5,
   "id": "popular-active",
   "metadata": {
    "execution": {
     "iopub.execute_input": "2021-12-22T10:30:12.803373Z",
     "iopub.status.busy": "2021-12-22T10:30:12.791099Z",
     "iopub.status.idle": "2021-12-22T10:30:12.819105Z",
     "shell.execute_reply": "2021-12-22T10:30:12.820324Z"
    },
    "papermill": {
     "duration": 0.085806,
     "end_time": "2021-12-22T10:30:12.820790",
     "exception": false,
     "start_time": "2021-12-22T10:30:12.734984",
     "status": "completed"
    },
    "tags": []
   },
   "outputs": [],
   "source": [
    "df_pivot = df.pivot_table(index=\"PRODUCT\", columns = \"RECORD_TIME\", values = \"LISTING_COUNT\")"
   ]
  },
  {
   "cell_type": "code",
   "execution_count": 6,
   "id": "union-huntington",
   "metadata": {
    "execution": {
     "iopub.execute_input": "2021-12-22T10:30:12.878088Z",
     "iopub.status.busy": "2021-12-22T10:30:12.875814Z",
     "iopub.status.idle": "2021-12-22T10:30:12.881447Z",
     "shell.execute_reply": "2021-12-22T10:30:12.882823Z"
    },
    "papermill": {
     "duration": 0.04112,
     "end_time": "2021-12-22T10:30:12.883265",
     "exception": false,
     "start_time": "2021-12-22T10:30:12.842145",
     "status": "completed"
    },
    "tags": []
   },
   "outputs": [],
   "source": [
    "df_pivot.columns = [\"stamp_1\", \"stamp_2\"]\n",
    "df_pivot_diff = df_pivot.diff(axis=1)"
   ]
  },
  {
   "cell_type": "code",
   "execution_count": 7,
   "id": "fifth-motion",
   "metadata": {
    "execution": {
     "iopub.execute_input": "2021-12-22T10:30:12.940142Z",
     "iopub.status.busy": "2021-12-22T10:30:12.937476Z",
     "iopub.status.idle": "2021-12-22T10:30:14.458283Z",
     "shell.execute_reply": "2021-12-22T10:30:14.459566Z"
    },
    "papermill": {
     "duration": 1.554678,
     "end_time": "2021-12-22T10:30:14.459996",
     "exception": false,
     "start_time": "2021-12-22T10:30:12.905318",
     "status": "completed"
    },
    "tags": []
   },
   "outputs": [
    {
     "data": {
      "text/plain": [
       "<AxesSubplot:ylabel='PRODUCT'>"
      ]
     },
     "execution_count": 7,
     "metadata": {},
     "output_type": "execute_result"
    },
    {
     "data": {
      "image/png": "[encoded data removed]",
      "text/plain": [
       "<Figure size 432x288 with 1 Axes>"
      ]
     },
     "metadata": {
      "needs_background": "light"
     },
     "output_type": "display_data"
    }
   ],
   "source": [
    "df_pivot_diff.sort_values(\"stamp_2\", ascending = False)[\"stamp_2\"].head(10).plot.barh()"
   ]
  },
  {
   "cell_type": "code",
   "execution_count": null,
   "id": "extra-executive",
   "metadata": {
    "papermill": {
     "duration": 0.022235,
     "end_time": "2021-12-22T10:30:14.506089",
     "exception": false,
     "start_time": "2021-12-22T10:30:14.483854",
     "status": "completed"
    },
    "tags": []
   },
   "outputs": [],
   "source": []
  }
 ],
 "metadata": {
  "kernelspec": {
   "display_name": "Python 3",
   "language": "python",
   "name": "python3"
  },
  "language_info": {
   "codemirror_mode": {
    "name": "ipython",
    "version": 3
   },
   "file_extension": ".py",
   "mimetype": "text/x-python",
   "name": "python",
   "nbconvert_exporter": "python",
   "pygments_lexer": "ipython3",
   "version": "3.9.5"
  },
  "papermill": {
   "default_parameters": {},
   "duration": 9.945146,
   "end_time": "2021-12-22T10:30:15.802112",
   "environment_variables": {},
   "exception": null,
   "input_path": "eBay_Overview.ipynb",
   "output_path": "eBay_Overview.ipynb",
   "parameters": {},
   "start_time": "2021-12-22T10:30:05.856966",
   "version": "2.3.3"
  }
 },
 "nbformat": 4,
 "nbformat_minor": 5
}