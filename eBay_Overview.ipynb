{
 "cells": [
  {
   "cell_type": "code",
   "execution_count": 1,
   "id": "reverse-picking",
   "metadata": {
    "execution": {
     "iopub.execute_input": "2021-12-03T13:00:08.081600Z",
     "iopub.status.busy": "2021-12-03T13:00:08.079083Z",
     "iopub.status.idle": "2021-12-03T13:00:08.992888Z",
     "shell.execute_reply": "2021-12-03T13:00:08.994587Z"
    },
    "papermill": {
     "duration": 0.963694,
     "end_time": "2021-12-03T13:00:08.995276",
     "exception": false,
     "start_time": "2021-12-03T13:00:08.031582",
     "status": "completed"
    },
    "tags": []
   },
   "outputs": [],
   "source": [
    "import pandas as pd\n",
    "import sqlite3"
   ]
  },
  {
   "cell_type": "code",
   "execution_count": 2,
   "id": "innovative-syndrome",
   "metadata": {
    "execution": {
     "iopub.execute_input": "2021-12-03T13:00:09.107763Z",
     "iopub.status.busy": "2021-12-03T13:00:09.105498Z",
     "iopub.status.idle": "2021-12-03T13:00:10.106455Z",
     "shell.execute_reply": "2021-12-03T13:00:10.108255Z"
    },
    "papermill": {
     "duration": 1.03396,
     "end_time": "2021-12-03T13:00:10.108772",
     "exception": false,
     "start_time": "2021-12-03T13:00:09.074812",
     "status": "completed"
    },
    "tags": []
   },
   "outputs": [],
   "source": [
    "timestamps = pd.read_sql(\"select distinct record_time from EBAY_TOP_BERLIN order by record_time desc limit 2\", sqlite3.connect(\"UsedObjects.db\"))"
   ]
  },
  {
   "cell_type": "code",
   "execution_count": 3,
   "id": "periodic-identification",
   "metadata": {
    "execution": {
     "iopub.execute_input": "2021-12-03T13:00:10.179001Z",
     "iopub.status.busy": "2021-12-03T13:00:10.176668Z",
     "iopub.status.idle": "2021-12-03T13:00:10.198324Z",
     "shell.execute_reply": "2021-12-03T13:00:10.199648Z"
    },
    "papermill": {
     "duration": 0.069777,
     "end_time": "2021-12-03T13:00:10.200106",
     "exception": false,
     "start_time": "2021-12-03T13:00:10.130329",
     "status": "completed"
    },
    "tags": []
   },
   "outputs": [
    {
     "data": {
      "text/html": [
       "<div>\n",
       "<style scoped>\n",
       "    .dataframe tbody tr th:only-of-type {\n",
       "        vertical-align: middle;\n",
       "    }\n",
       "\n",
       "    .dataframe tbody tr th {\n",
       "        vertical-align: top;\n",
       "    }\n",
       "\n",
       "    .dataframe thead th {\n",
       "        text-align: right;\n",
       "    }\n",
       "</style>\n",
       "<table border=\"1\" class=\"dataframe\">\n",
       "  <thead>\n",
       "    <tr style=\"text-align: right;\">\n",
       "      <th></th>\n",
       "      <th>RECORD_TIME</th>\n",
       "    </tr>\n",
       "  </thead>\n",
       "  <tbody>\n",
       "    <tr>\n",
       "      <th>0</th>\n",
       "      <td>2021-12-03 14:00</td>\n",
       "    </tr>\n",
       "    <tr>\n",
       "      <th>1</th>\n",
       "      <td>2021-12-03 13:30</td>\n",
       "    </tr>\n",
       "  </tbody>\n",
       "</table>\n",
       "</div>"
      ],
      "text/plain": [
       "        RECORD_TIME\n",
       "0  2021-12-03 14:00\n",
       "1  2021-12-03 13:30"
      ]
     },
     "execution_count": 3,
     "metadata": {},
     "output_type": "execute_result"
    }
   ],
   "source": [
    "timestamps"
   ]
  },
  {
   "cell_type": "code",
   "execution_count": 4,
   "id": "alternate-victory",
   "metadata": {
    "execution": {
     "iopub.execute_input": "2021-12-03T13:00:10.261702Z",
     "iopub.status.busy": "2021-12-03T13:00:10.259329Z",
     "iopub.status.idle": "2021-12-03T13:00:11.680858Z",
     "shell.execute_reply": "2021-12-03T13:00:11.682929Z"
    },
    "papermill": {
     "duration": 1.462131,
     "end_time": "2021-12-03T13:00:11.683403",
     "exception": false,
     "start_time": "2021-12-03T13:00:10.221272",
     "status": "completed"
    },
    "tags": []
   },
   "outputs": [],
   "source": [
    "df = pd.read_sql(\"select * from EBAY_TOP_BERLIN where record_time in (select distinct record_time from EBAY_TOP_BERLIN order by record_time desc limit 2)\", sqlite3.connect(\"UsedObjects.db\"))"
   ]
  },
  {
   "cell_type": "code",
   "execution_count": 5,
   "id": "popular-active",
   "metadata": {
    "execution": {
     "iopub.execute_input": "2021-12-03T13:00:11.757239Z",
     "iopub.status.busy": "2021-12-03T13:00:11.744629Z",
     "iopub.status.idle": "2021-12-03T13:00:11.774718Z",
     "shell.execute_reply": "2021-12-03T13:00:11.776023Z"
    },
    "papermill": {
     "duration": 0.072816,
     "end_time": "2021-12-03T13:00:11.776474",
     "exception": false,
     "start_time": "2021-12-03T13:00:11.703658",
     "status": "completed"
    },
    "tags": []
   },
   "outputs": [],
   "source": [
    "df_pivot = df.pivot_table(index=\"PRODUCT\", columns = \"RECORD_TIME\", values = \"LISTING_COUNT\")"
   ]
  },
  {
   "cell_type": "code",
   "execution_count": 6,
   "id": "union-huntington",
   "metadata": {
    "execution": {
     "iopub.execute_input": "2021-12-03T13:00:11.839666Z",
     "iopub.status.busy": "2021-12-03T13:00:11.837282Z",
     "iopub.status.idle": "2021-12-03T13:00:11.843005Z",
     "shell.execute_reply": "2021-12-03T13:00:11.844275Z"
    },
    "papermill": {
     "duration": 0.046141,
     "end_time": "2021-12-03T13:00:11.844763",
     "exception": false,
     "start_time": "2021-12-03T13:00:11.798622",
     "status": "completed"
    },
    "tags": []
   },
   "outputs": [],
   "source": [
    "df_pivot.columns = [\"stamp_1\", \"stamp_2\"]\n",
    "df_pivot_diff = df_pivot.diff(axis=1)"
   ]
  },
  {
   "cell_type": "code",
   "execution_count": 7,
   "id": "fifth-motion",
   "metadata": {
    "execution": {
     "iopub.execute_input": "2021-12-03T13:00:11.908030Z",
     "iopub.status.busy": "2021-12-03T13:00:11.904990Z",
     "iopub.status.idle": "2021-12-03T13:00:13.557381Z",
     "shell.execute_reply": "2021-12-03T13:00:13.558699Z"
    },
    "papermill": {
     "duration": 1.692437,
     "end_time": "2021-12-03T13:00:13.559114",
     "exception": false,
     "start_time": "2021-12-03T13:00:11.866677",
     "status": "completed"
    },
    "tags": []
   },
   "outputs": [
    {
     "data": {
      "text/plain": [
       "<AxesSubplot:ylabel='PRODUCT'>"
      ]
     },
     "execution_count": 7,
     "metadata": {},
     "output_type": "execute_result"
    },
    {
     "data": {
      "image/png": "[encoded data removed]",
      "text/plain": [
       "<Figure size 432x288 with 1 Axes>"
      ]
     },
     "metadata": {
      "needs_background": "light"
     },
     "output_type": "display_data"
    }
   ],
   "source": [
    "df_pivot_diff.sort_values(\"stamp_2\", ascending = False)[\"stamp_2\"].head(10).plot.barh()"
   ]
  },
  {
   "cell_type": "code",
   "execution_count": null,
   "id": "extra-executive",
   "metadata": {
    "papermill": {
     "duration": 0.021901,
     "end_time": "2021-12-03T13:00:13.604728",
     "exception": false,
     "start_time": "2021-12-03T13:00:13.582827",
     "status": "completed"
    },
    "tags": []
   },
   "outputs": [],
   "source": []
  }
 ],
 "metadata": {
  "kernelspec": {
   "display_name": "Python 3",
   "language": "python",
   "name": "python3"
  },
  "language_info": {
   "codemirror_mode": {
    "name": "ipython",
    "version": 3
   },
   "file_extension": ".py",
   "mimetype": "text/x-python",
   "name": "python",
   "nbconvert_exporter": "python",
   "pygments_lexer": "ipython3",
   "version": "3.9.5"
  },
  "papermill": {
   "default_parameters": {},
   "duration": 9.935943,
   "end_time": "2021-12-03T13:00:15.242157",
   "environment_variables": {},
   "exception": null,
   "input_path": "eBay_Overview.ipynb",
   "output_path": "eBay_Overview.ipynb",
   "parameters": {},
   "start_time": "2021-12-03T13:00:05.306214",
   "version": "2.3.3"
  }
 },
 "nbformat": 4,
 "nbformat_minor": 5
}