{
 "cells": [
  {
   "cell_type": "code",
   "execution_count": 1,
   "id": "reverse-picking",
   "metadata": {
    "execution": {
     "iopub.execute_input": "2021-10-23T07:00:07.202615Z",
     "iopub.status.busy": "2021-10-23T07:00:07.200646Z",
     "iopub.status.idle": "2021-10-23T07:00:08.006190Z",
     "shell.execute_reply": "2021-10-23T07:00:08.007436Z"
    },
    "papermill": {
     "duration": 0.856007,
     "end_time": "2021-10-23T07:00:08.008061",
     "exception": false,
     "start_time": "2021-10-23T07:00:07.152054",
     "status": "completed"
    },
    "tags": []
   },
   "outputs": [],
   "source": [
    "import pandas as pd\n",
    "import sqlite3"
   ]
  },
  {
   "cell_type": "code",
   "execution_count": 2,
   "id": "innovative-syndrome",
   "metadata": {
    "execution": {
     "iopub.execute_input": "2021-10-23T07:00:08.061727Z",
     "iopub.status.busy": "2021-10-23T07:00:08.059333Z",
     "iopub.status.idle": "2021-10-23T07:00:08.677046Z",
     "shell.execute_reply": "2021-10-23T07:00:08.678258Z"
    },
    "papermill": {
     "duration": 0.64806,
     "end_time": "2021-10-23T07:00:08.678658",
     "exception": false,
     "start_time": "2021-10-23T07:00:08.030598",
     "status": "completed"
    },
    "tags": []
   },
   "outputs": [],
   "source": [
    "timestamps = pd.read_sql(\"select distinct record_time from EBAY_TOP_BERLIN order by record_time desc limit 2\", sqlite3.connect(\"UsedObjects.db\"))"
   ]
  },
  {
   "cell_type": "code",
   "execution_count": 3,
   "id": "periodic-identification",
   "metadata": {
    "execution": {
     "iopub.execute_input": "2021-10-23T07:00:08.757530Z",
     "iopub.status.busy": "2021-10-23T07:00:08.751950Z",
     "iopub.status.idle": "2021-10-23T07:00:08.773070Z",
     "shell.execute_reply": "2021-10-23T07:00:08.774566Z"
    },
    "papermill": {
     "duration": 0.071107,
     "end_time": "2021-10-23T07:00:08.775028",
     "exception": false,
     "start_time": "2021-10-23T07:00:08.703921",
     "status": "completed"
    },
    "tags": []
   },
   "outputs": [
    {
     "data": {
      "text/html": [
       "<div>\n",
       "<style scoped>\n",
       "    .dataframe tbody tr th:only-of-type {\n",
       "        vertical-align: middle;\n",
       "    }\n",
       "\n",
       "    .dataframe tbody tr th {\n",
       "        vertical-align: top;\n",
       "    }\n",
       "\n",
       "    .dataframe thead th {\n",
       "        text-align: right;\n",
       "    }\n",
       "</style>\n",
       "<table border=\"1\" class=\"dataframe\">\n",
       "  <thead>\n",
       "    <tr style=\"text-align: right;\">\n",
       "      <th></th>\n",
       "      <th>RECORD_TIME</th>\n",
       "    </tr>\n",
       "  </thead>\n",
       "  <tbody>\n",
       "    <tr>\n",
       "      <th>0</th>\n",
       "      <td>2021-10-23 09:00</td>\n",
       "    </tr>\n",
       "    <tr>\n",
       "      <th>1</th>\n",
       "      <td>2021-10-23 08:30</td>\n",
       "    </tr>\n",
       "  </tbody>\n",
       "</table>\n",
       "</div>"
      ],
      "text/plain": [
       "        RECORD_TIME\n",
       "0  2021-10-23 09:00\n",
       "1  2021-10-23 08:30"
      ]
     },
     "execution_count": 3,
     "metadata": {},
     "output_type": "execute_result"
    }
   ],
   "source": [
    "timestamps"
   ]
  },
  {
   "cell_type": "code",
   "execution_count": 4,
   "id": "alternate-victory",
   "metadata": {
    "execution": {
     "iopub.execute_input": "2021-10-23T07:00:08.827628Z",
     "iopub.status.busy": "2021-10-23T07:00:08.825609Z",
     "iopub.status.idle": "2021-10-23T07:00:09.730054Z",
     "shell.execute_reply": "2021-10-23T07:00:09.731294Z"
    },
    "papermill": {
     "duration": 0.93509,
     "end_time": "2021-10-23T07:00:09.731697",
     "exception": false,
     "start_time": "2021-10-23T07:00:08.796607",
     "status": "completed"
    },
    "tags": []
   },
   "outputs": [],
   "source": [
    "df = pd.read_sql(\"select * from EBAY_TOP_BERLIN where record_time in (select distinct record_time from EBAY_TOP_BERLIN order by record_time desc limit 2)\", sqlite3.connect(\"UsedObjects.db\"))"
   ]
  },
  {
   "cell_type": "code",
   "execution_count": 5,
   "id": "popular-active",
   "metadata": {
    "execution": {
     "iopub.execute_input": "2021-10-23T07:00:09.792075Z",
     "iopub.status.busy": "2021-10-23T07:00:09.789245Z",
     "iopub.status.idle": "2021-10-23T07:00:09.817848Z",
     "shell.execute_reply": "2021-10-23T07:00:09.819056Z"
    },
    "papermill": {
     "duration": 0.067123,
     "end_time": "2021-10-23T07:00:09.819455",
     "exception": false,
     "start_time": "2021-10-23T07:00:09.752332",
     "status": "completed"
    },
    "tags": []
   },
   "outputs": [],
   "source": [
    "df_pivot = df.pivot_table(index=\"PRODUCT\", columns = \"RECORD_TIME\", values = \"LISTING_COUNT\")"
   ]
  },
  {
   "cell_type": "code",
   "execution_count": 6,
   "id": "union-huntington",
   "metadata": {
    "execution": {
     "iopub.execute_input": "2021-10-23T07:00:09.875725Z",
     "iopub.status.busy": "2021-10-23T07:00:09.873702Z",
     "iopub.status.idle": "2021-10-23T07:00:09.878861Z",
     "shell.execute_reply": "2021-10-23T07:00:09.880129Z"
    },
    "papermill": {
     "duration": 0.040225,
     "end_time": "2021-10-23T07:00:09.880549",
     "exception": false,
     "start_time": "2021-10-23T07:00:09.840324",
     "status": "completed"
    },
    "tags": []
   },
   "outputs": [],
   "source": [
    "df_pivot.columns = [\"stamp_1\", \"stamp_2\"]\n",
    "df_pivot_diff = df_pivot.diff(axis=1)"
   ]
  },
  {
   "cell_type": "code",
   "execution_count": 7,
   "id": "fifth-motion",
   "metadata": {
    "execution": {
     "iopub.execute_input": "2021-10-23T07:00:09.935954Z",
     "iopub.status.busy": "2021-10-23T07:00:09.933596Z",
     "iopub.status.idle": "2021-10-23T07:00:11.404132Z",
     "shell.execute_reply": "2021-10-23T07:00:11.405627Z"
    },
    "papermill": {
     "duration": 1.503885,
     "end_time": "2021-10-23T07:00:11.406086",
     "exception": false,
     "start_time": "2021-10-23T07:00:09.902201",
     "status": "completed"
    },
    "tags": []
   },
   "outputs": [
    {
     "data": {
      "text/plain": [
       "<AxesSubplot:ylabel='PRODUCT'>"
      ]
     },
     "execution_count": 7,
     "metadata": {},
     "output_type": "execute_result"
    },
    {
     "data": {
      "image/png": "[encoded data removed]",
      "text/plain": [
       "<Figure size 432x288 with 1 Axes>"
      ]
     },
     "metadata": {
      "needs_background": "light"
     },
     "output_type": "display_data"
    }
   ],
   "source": [
    "df_pivot_diff.sort_values(\"stamp_2\", ascending = False)[\"stamp_2\"].head(10).plot.barh()"
   ]
  },
  {
   "cell_type": "code",
   "execution_count": null,
   "id": "extra-executive",
   "metadata": {
    "papermill": {
     "duration": 0.022278,
     "end_time": "2021-10-23T07:00:11.453183",
     "exception": false,
     "start_time": "2021-10-23T07:00:11.430905",
     "status": "completed"
    },
    "tags": []
   },
   "outputs": [],
   "source": []
  }
 ],
 "metadata": {
  "kernelspec": {
   "display_name": "Python 3",
   "language": "python",
   "name": "python3"
  },
  "language_info": {
   "codemirror_mode": {
    "name": "ipython",
    "version": 3
   },
   "file_extension": ".py",
   "mimetype": "text/x-python",
   "name": "python",
   "nbconvert_exporter": "python",
   "pygments_lexer": "ipython3",
   "version": "3.9.5"
  },
  "papermill": {
   "default_parameters": {},
   "duration": 7.34989,
   "end_time": "2021-10-23T07:00:12.097665",
   "environment_variables": {},
   "exception": null,
   "input_path": "eBay_Overview.ipynb",
   "output_path": "eBay_Overview.ipynb",
   "parameters": {},
   "start_time": "2021-10-23T07:00:04.747775",
   "version": "2.3.3"
  }
 },
 "nbformat": 4,
 "nbformat_minor": 5
}