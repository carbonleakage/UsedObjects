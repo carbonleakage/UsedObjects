{
 "cells": [
  {
   "cell_type": "code",
   "execution_count": 1,
   "id": "reverse-picking",
   "metadata": {
    "execution": {
     "iopub.execute_input": "2021-10-03T16:30:06.953502Z",
     "iopub.status.busy": "2021-10-03T16:30:06.950670Z",
     "iopub.status.idle": "2021-10-03T16:30:07.758059Z",
     "shell.execute_reply": "2021-10-03T16:30:07.756502Z"
    },
    "papermill": {
     "duration": 0.858153,
     "end_time": "2021-10-03T16:30:07.758451",
     "exception": false,
     "start_time": "2021-10-03T16:30:06.900298",
     "status": "completed"
    },
    "tags": []
   },
   "outputs": [],
   "source": [
    "import pandas as pd\n",
    "import sqlite3"
   ]
  },
  {
   "cell_type": "code",
   "execution_count": 2,
   "id": "innovative-syndrome",
   "metadata": {
    "execution": {
     "iopub.execute_input": "2021-10-03T16:30:07.809406Z",
     "iopub.status.busy": "2021-10-03T16:30:07.807548Z",
     "iopub.status.idle": "2021-10-03T16:30:08.248716Z",
     "shell.execute_reply": "2021-10-03T16:30:08.249887Z"
    },
    "papermill": {
     "duration": 0.470877,
     "end_time": "2021-10-03T16:30:08.250283",
     "exception": false,
     "start_time": "2021-10-03T16:30:07.779406",
     "status": "completed"
    },
    "tags": []
   },
   "outputs": [],
   "source": [
    "timestamps = pd.read_sql(\"select distinct record_time from EBAY_TOP_BERLIN order by record_time desc limit 2\", sqlite3.connect(\"UsedObjects.db\"))"
   ]
  },
  {
   "cell_type": "code",
   "execution_count": 3,
   "id": "periodic-identification",
   "metadata": {
    "execution": {
     "iopub.execute_input": "2021-10-03T16:30:08.319568Z",
     "iopub.status.busy": "2021-10-03T16:30:08.314131Z",
     "iopub.status.idle": "2021-10-03T16:30:08.334216Z",
     "shell.execute_reply": "2021-10-03T16:30:08.335419Z"
    },
    "papermill": {
     "duration": 0.064388,
     "end_time": "2021-10-03T16:30:08.335846",
     "exception": false,
     "start_time": "2021-10-03T16:30:08.271458",
     "status": "completed"
    },
    "tags": []
   },
   "outputs": [
    {
     "data": {
      "text/html": [
       "<div>\n",
       "<style scoped>\n",
       "    .dataframe tbody tr th:only-of-type {\n",
       "        vertical-align: middle;\n",
       "    }\n",
       "\n",
       "    .dataframe tbody tr th {\n",
       "        vertical-align: top;\n",
       "    }\n",
       "\n",
       "    .dataframe thead th {\n",
       "        text-align: right;\n",
       "    }\n",
       "</style>\n",
       "<table border=\"1\" class=\"dataframe\">\n",
       "  <thead>\n",
       "    <tr style=\"text-align: right;\">\n",
       "      <th></th>\n",
       "      <th>RECORD_TIME</th>\n",
       "    </tr>\n",
       "  </thead>\n",
       "  <tbody>\n",
       "    <tr>\n",
       "      <th>0</th>\n",
       "      <td>2021-10-03 18:30</td>\n",
       "    </tr>\n",
       "    <tr>\n",
       "      <th>1</th>\n",
       "      <td>2021-10-03 18:00</td>\n",
       "    </tr>\n",
       "  </tbody>\n",
       "</table>\n",
       "</div>"
      ],
      "text/plain": [
       "        RECORD_TIME\n",
       "0  2021-10-03 18:30\n",
       "1  2021-10-03 18:00"
      ]
     },
     "execution_count": 3,
     "metadata": {},
     "output_type": "execute_result"
    }
   ],
   "source": [
    "timestamps"
   ]
  },
  {
   "cell_type": "code",
   "execution_count": 4,
   "id": "alternate-victory",
   "metadata": {
    "execution": {
     "iopub.execute_input": "2021-10-03T16:30:08.389313Z",
     "iopub.status.busy": "2021-10-03T16:30:08.387020Z",
     "iopub.status.idle": "2021-10-03T16:30:09.047805Z",
     "shell.execute_reply": "2021-10-03T16:30:09.049196Z"
    },
    "papermill": {
     "duration": 0.69099,
     "end_time": "2021-10-03T16:30:09.049634",
     "exception": false,
     "start_time": "2021-10-03T16:30:08.358644",
     "status": "completed"
    },
    "tags": []
   },
   "outputs": [],
   "source": [
    "df = pd.read_sql(\"select * from EBAY_TOP_BERLIN where record_time in (select distinct record_time from EBAY_TOP_BERLIN order by record_time desc limit 2)\", sqlite3.connect(\"UsedObjects.db\"))"
   ]
  },
  {
   "cell_type": "code",
   "execution_count": 5,
   "id": "popular-active",
   "metadata": {
    "execution": {
     "iopub.execute_input": "2021-10-03T16:30:09.120219Z",
     "iopub.status.busy": "2021-10-03T16:30:09.108383Z",
     "iopub.status.idle": "2021-10-03T16:30:09.135698Z",
     "shell.execute_reply": "2021-10-03T16:30:09.136916Z"
    },
    "papermill": {
     "duration": 0.06686,
     "end_time": "2021-10-03T16:30:09.137316",
     "exception": false,
     "start_time": "2021-10-03T16:30:09.070456",
     "status": "completed"
    },
    "tags": []
   },
   "outputs": [],
   "source": [
    "df_pivot = df.pivot_table(index=\"PRODUCT\", columns = \"RECORD_TIME\", values = \"LISTING_COUNT\")"
   ]
  },
  {
   "cell_type": "code",
   "execution_count": 6,
   "id": "union-huntington",
   "metadata": {
    "execution": {
     "iopub.execute_input": "2021-10-03T16:30:09.195779Z",
     "iopub.status.busy": "2021-10-03T16:30:09.193679Z",
     "iopub.status.idle": "2021-10-03T16:30:09.199172Z",
     "shell.execute_reply": "2021-10-03T16:30:09.200364Z"
    },
    "papermill": {
     "duration": 0.0409,
     "end_time": "2021-10-03T16:30:09.200800",
     "exception": false,
     "start_time": "2021-10-03T16:30:09.159900",
     "status": "completed"
    },
    "tags": []
   },
   "outputs": [],
   "source": [
    "df_pivot.columns = [\"stamp_1\", \"stamp_2\"]\n",
    "df_pivot_diff = df_pivot.diff(axis=1)"
   ]
  },
  {
   "cell_type": "code",
   "execution_count": 7,
   "id": "fifth-motion",
   "metadata": {
    "execution": {
     "iopub.execute_input": "2021-10-03T16:30:09.258498Z",
     "iopub.status.busy": "2021-10-03T16:30:09.255893Z",
     "iopub.status.idle": "2021-10-03T16:30:10.733304Z",
     "shell.execute_reply": "2021-10-03T16:30:10.734724Z"
    },
    "papermill": {
     "duration": 1.511325,
     "end_time": "2021-10-03T16:30:10.735224",
     "exception": false,
     "start_time": "2021-10-03T16:30:09.223899",
     "status": "completed"
    },
    "tags": []
   },
   "outputs": [
    {
     "data": {
      "text/plain": [
       "<AxesSubplot:ylabel='PRODUCT'>"
      ]
     },
     "execution_count": 7,
     "metadata": {},
     "output_type": "execute_result"
    },
    {
     "data": {
      "image/png": "[encoded data removed]",
      "text/plain": [
       "<Figure size 432x288 with 1 Axes>"
      ]
     },
     "metadata": {
      "needs_background": "light"
     },
     "output_type": "display_data"
    }
   ],
   "source": [
    "df_pivot_diff.sort_values(\"stamp_2\", ascending = False)[\"stamp_2\"].head(10).plot.barh()"
   ]
  },
  {
   "cell_type": "code",
   "execution_count": null,
   "id": "extra-executive",
   "metadata": {
    "papermill": {
     "duration": 0.022387,
     "end_time": "2021-10-03T16:30:10.781544",
     "exception": false,
     "start_time": "2021-10-03T16:30:10.759157",
     "status": "completed"
    },
    "tags": []
   },
   "outputs": [],
   "source": []
  }
 ],
 "metadata": {
  "kernelspec": {
   "display_name": "Python 3",
   "language": "python",
   "name": "python3"
  },
  "language_info": {
   "codemirror_mode": {
    "name": "ipython",
    "version": 3
   },
   "file_extension": ".py",
   "mimetype": "text/x-python",
   "name": "python",
   "nbconvert_exporter": "python",
   "pygments_lexer": "ipython3",
   "version": "3.9.5"
  },
  "papermill": {
   "default_parameters": {},
   "duration": 7.820386,
   "end_time": "2021-10-03T16:30:12.320829",
   "environment_variables": {},
   "exception": null,
   "input_path": "eBay_Overview.ipynb",
   "output_path": "eBay_Overview.ipynb",
   "parameters": {},
   "start_time": "2021-10-03T16:30:04.500443",
   "version": "2.3.3"
  }
 },
 "nbformat": 4,
 "nbformat_minor": 5
}