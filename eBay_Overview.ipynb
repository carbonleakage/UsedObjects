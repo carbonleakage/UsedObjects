{
 "cells": [
  {
   "cell_type": "code",
   "execution_count": 1,
   "id": "reverse-picking",
   "metadata": {
    "execution": {
     "iopub.execute_input": "2021-11-20T03:30:07.729630Z",
     "iopub.status.busy": "2021-11-20T03:30:07.727277Z",
     "iopub.status.idle": "2021-11-20T03:30:08.685506Z",
     "shell.execute_reply": "2021-11-20T03:30:08.687726Z"
    },
    "papermill": {
     "duration": 1.00771,
     "end_time": "2021-11-20T03:30:08.688456",
     "exception": false,
     "start_time": "2021-11-20T03:30:07.680746",
     "status": "completed"
    },
    "tags": []
   },
   "outputs": [],
   "source": [
    "import pandas as pd\n",
    "import sqlite3"
   ]
  },
  {
   "cell_type": "code",
   "execution_count": 2,
   "id": "innovative-syndrome",
   "metadata": {
    "execution": {
     "iopub.execute_input": "2021-11-20T03:30:08.752460Z",
     "iopub.status.busy": "2021-11-20T03:30:08.750176Z",
     "iopub.status.idle": "2021-11-20T03:30:09.618340Z",
     "shell.execute_reply": "2021-11-20T03:30:09.620286Z"
    },
    "papermill": {
     "duration": 0.902568,
     "end_time": "2021-11-20T03:30:09.620859",
     "exception": false,
     "start_time": "2021-11-20T03:30:08.718291",
     "status": "completed"
    },
    "tags": []
   },
   "outputs": [],
   "source": [
    "timestamps = pd.read_sql(\"select distinct record_time from EBAY_TOP_BERLIN order by record_time desc limit 2\", sqlite3.connect(\"UsedObjects.db\"))"
   ]
  },
  {
   "cell_type": "code",
   "execution_count": 3,
   "id": "periodic-identification",
   "metadata": {
    "execution": {
     "iopub.execute_input": "2021-11-20T03:30:09.693311Z",
     "iopub.status.busy": "2021-11-20T03:30:09.690642Z",
     "iopub.status.idle": "2021-11-20T03:30:09.715093Z",
     "shell.execute_reply": "2021-11-20T03:30:09.713645Z"
    },
    "papermill": {
     "duration": 0.072807,
     "end_time": "2021-11-20T03:30:09.715486",
     "exception": false,
     "start_time": "2021-11-20T03:30:09.642679",
     "status": "completed"
    },
    "tags": []
   },
   "outputs": [
    {
     "data": {
      "text/html": [
       "<div>\n",
       "<style scoped>\n",
       "    .dataframe tbody tr th:only-of-type {\n",
       "        vertical-align: middle;\n",
       "    }\n",
       "\n",
       "    .dataframe tbody tr th {\n",
       "        vertical-align: top;\n",
       "    }\n",
       "\n",
       "    .dataframe thead th {\n",
       "        text-align: right;\n",
       "    }\n",
       "</style>\n",
       "<table border=\"1\" class=\"dataframe\">\n",
       "  <thead>\n",
       "    <tr style=\"text-align: right;\">\n",
       "      <th></th>\n",
       "      <th>RECORD_TIME</th>\n",
       "    </tr>\n",
       "  </thead>\n",
       "  <tbody>\n",
       "    <tr>\n",
       "      <th>0</th>\n",
       "      <td>2021-11-20 04:30</td>\n",
       "    </tr>\n",
       "    <tr>\n",
       "      <th>1</th>\n",
       "      <td>2021-11-20 04:00</td>\n",
       "    </tr>\n",
       "  </tbody>\n",
       "</table>\n",
       "</div>"
      ],
      "text/plain": [
       "        RECORD_TIME\n",
       "0  2021-11-20 04:30\n",
       "1  2021-11-20 04:00"
      ]
     },
     "execution_count": 3,
     "metadata": {},
     "output_type": "execute_result"
    }
   ],
   "source": [
    "timestamps"
   ]
  },
  {
   "cell_type": "code",
   "execution_count": 4,
   "id": "alternate-victory",
   "metadata": {
    "execution": {
     "iopub.execute_input": "2021-11-20T03:30:09.769535Z",
     "iopub.status.busy": "2021-11-20T03:30:09.766914Z",
     "iopub.status.idle": "2021-11-20T03:30:10.999615Z",
     "shell.execute_reply": "2021-11-20T03:30:11.001026Z"
    },
    "papermill": {
     "duration": 1.265181,
     "end_time": "2021-11-20T03:30:11.001519",
     "exception": false,
     "start_time": "2021-11-20T03:30:09.736338",
     "status": "completed"
    },
    "tags": []
   },
   "outputs": [],
   "source": [
    "df = pd.read_sql(\"select * from EBAY_TOP_BERLIN where record_time in (select distinct record_time from EBAY_TOP_BERLIN order by record_time desc limit 2)\", sqlite3.connect(\"UsedObjects.db\"))"
   ]
  },
  {
   "cell_type": "code",
   "execution_count": 5,
   "id": "popular-active",
   "metadata": {
    "execution": {
     "iopub.execute_input": "2021-11-20T03:30:11.077076Z",
     "iopub.status.busy": "2021-11-20T03:30:11.068082Z",
     "iopub.status.idle": "2021-11-20T03:30:11.101698Z",
     "shell.execute_reply": "2021-11-20T03:30:11.103157Z"
    },
    "papermill": {
     "duration": 0.079754,
     "end_time": "2021-11-20T03:30:11.103656",
     "exception": false,
     "start_time": "2021-11-20T03:30:11.023902",
     "status": "completed"
    },
    "tags": []
   },
   "outputs": [],
   "source": [
    "df_pivot = df.pivot_table(index=\"PRODUCT\", columns = \"RECORD_TIME\", values = \"LISTING_COUNT\")"
   ]
  },
  {
   "cell_type": "code",
   "execution_count": 6,
   "id": "union-huntington",
   "metadata": {
    "execution": {
     "iopub.execute_input": "2021-11-20T03:30:11.167094Z",
     "iopub.status.busy": "2021-11-20T03:30:11.164759Z",
     "iopub.status.idle": "2021-11-20T03:30:11.172561Z",
     "shell.execute_reply": "2021-11-20T03:30:11.170974Z"
    },
    "papermill": {
     "duration": 0.045999,
     "end_time": "2021-11-20T03:30:11.173100",
     "exception": false,
     "start_time": "2021-11-20T03:30:11.127101",
     "status": "completed"
    },
    "tags": []
   },
   "outputs": [],
   "source": [
    "df_pivot.columns = [\"stamp_1\", \"stamp_2\"]\n",
    "df_pivot_diff = df_pivot.diff(axis=1)"
   ]
  },
  {
   "cell_type": "code",
   "execution_count": 7,
   "id": "fifth-motion",
   "metadata": {
    "execution": {
     "iopub.execute_input": "2021-11-20T03:30:11.243676Z",
     "iopub.status.busy": "2021-11-20T03:30:11.231058Z",
     "iopub.status.idle": "2021-11-20T03:30:12.995196Z",
     "shell.execute_reply": "2021-11-20T03:30:12.997318Z"
    },
    "papermill": {
     "duration": 1.802941,
     "end_time": "2021-11-20T03:30:12.997821",
     "exception": false,
     "start_time": "2021-11-20T03:30:11.194880",
     "status": "completed"
    },
    "tags": []
   },
   "outputs": [
    {
     "data": {
      "text/plain": [
       "<AxesSubplot:ylabel='PRODUCT'>"
      ]
     },
     "execution_count": 7,
     "metadata": {},
     "output_type": "execute_result"
    },
    {
     "data": {
      "image/png": "[encoded data removed]",
      "text/plain": [
       "<Figure size 432x288 with 1 Axes>"
      ]
     },
     "metadata": {
      "needs_background": "light"
     },
     "output_type": "display_data"
    }
   ],
   "source": [
    "df_pivot_diff.sort_values(\"stamp_2\", ascending = False)[\"stamp_2\"].head(10).plot.barh()"
   ]
  },
  {
   "cell_type": "code",
   "execution_count": null,
   "id": "extra-executive",
   "metadata": {
    "papermill": {
     "duration": 0.036843,
     "end_time": "2021-11-20T03:30:13.067785",
     "exception": false,
     "start_time": "2021-11-20T03:30:13.030942",
     "status": "completed"
    },
    "tags": []
   },
   "outputs": [],
   "source": []
  }
 ],
 "metadata": {
  "kernelspec": {
   "display_name": "Python 3",
   "language": "python",
   "name": "python3"
  },
  "language_info": {
   "codemirror_mode": {
    "name": "ipython",
    "version": 3
   },
   "file_extension": ".py",
   "mimetype": "text/x-python",
   "name": "python",
   "nbconvert_exporter": "python",
   "pygments_lexer": "ipython3",
   "version": "3.9.5"
  },
  "papermill": {
   "default_parameters": {},
   "duration": 10.006363,
   "end_time": "2021-11-20T03:30:14.861802",
   "environment_variables": {},
   "exception": null,
   "input_path": "eBay_Overview.ipynb",
   "output_path": "eBay_Overview.ipynb",
   "parameters": {},
   "start_time": "2021-11-20T03:30:04.855439",
   "version": "2.3.3"
  }
 },
 "nbformat": 4,
 "nbformat_minor": 5
}