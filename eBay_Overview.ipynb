{
 "cells": [
  {
   "cell_type": "code",
   "execution_count": 1,
   "id": "reverse-picking",
   "metadata": {
    "execution": {
     "iopub.execute_input": "2021-11-16T06:30:08.179612Z",
     "iopub.status.busy": "2021-11-16T06:30:08.177482Z",
     "iopub.status.idle": "2021-11-16T06:30:09.137099Z",
     "shell.execute_reply": "2021-11-16T06:30:09.138684Z"
    },
    "papermill": {
     "duration": 1.008219,
     "end_time": "2021-11-16T06:30:09.139393",
     "exception": false,
     "start_time": "2021-11-16T06:30:08.131174",
     "status": "completed"
    },
    "tags": []
   },
   "outputs": [],
   "source": [
    "import pandas as pd\n",
    "import sqlite3"
   ]
  },
  {
   "cell_type": "code",
   "execution_count": 2,
   "id": "innovative-syndrome",
   "metadata": {
    "execution": {
     "iopub.execute_input": "2021-11-16T06:30:09.199340Z",
     "iopub.status.busy": "2021-11-16T06:30:09.196493Z",
     "iopub.status.idle": "2021-11-16T06:30:10.001485Z",
     "shell.execute_reply": "2021-11-16T06:30:10.003048Z"
    },
    "papermill": {
     "duration": 0.83745,
     "end_time": "2021-11-16T06:30:10.003520",
     "exception": false,
     "start_time": "2021-11-16T06:30:09.166070",
     "status": "completed"
    },
    "tags": []
   },
   "outputs": [],
   "source": [
    "timestamps = pd.read_sql(\"select distinct record_time from EBAY_TOP_BERLIN order by record_time desc limit 2\", sqlite3.connect(\"UsedObjects.db\"))"
   ]
  },
  {
   "cell_type": "code",
   "execution_count": 3,
   "id": "periodic-identification",
   "metadata": {
    "execution": {
     "iopub.execute_input": "2021-11-16T06:30:10.058425Z",
     "iopub.status.busy": "2021-11-16T06:30:10.056406Z",
     "iopub.status.idle": "2021-11-16T06:30:10.101647Z",
     "shell.execute_reply": "2021-11-16T06:30:10.103295Z"
    },
    "papermill": {
     "duration": 0.079864,
     "end_time": "2021-11-16T06:30:10.103802",
     "exception": false,
     "start_time": "2021-11-16T06:30:10.023938",
     "status": "completed"
    },
    "tags": []
   },
   "outputs": [
    {
     "data": {
      "text/html": [
       "<div>\n",
       "<style scoped>\n",
       "    .dataframe tbody tr th:only-of-type {\n",
       "        vertical-align: middle;\n",
       "    }\n",
       "\n",
       "    .dataframe tbody tr th {\n",
       "        vertical-align: top;\n",
       "    }\n",
       "\n",
       "    .dataframe thead th {\n",
       "        text-align: right;\n",
       "    }\n",
       "</style>\n",
       "<table border=\"1\" class=\"dataframe\">\n",
       "  <thead>\n",
       "    <tr style=\"text-align: right;\">\n",
       "      <th></th>\n",
       "      <th>RECORD_TIME</th>\n",
       "    </tr>\n",
       "  </thead>\n",
       "  <tbody>\n",
       "    <tr>\n",
       "      <th>0</th>\n",
       "      <td>2021-11-16 07:30</td>\n",
       "    </tr>\n",
       "    <tr>\n",
       "      <th>1</th>\n",
       "      <td>2021-11-16 07:00</td>\n",
       "    </tr>\n",
       "  </tbody>\n",
       "</table>\n",
       "</div>"
      ],
      "text/plain": [
       "        RECORD_TIME\n",
       "0  2021-11-16 07:30\n",
       "1  2021-11-16 07:00"
      ]
     },
     "execution_count": 3,
     "metadata": {},
     "output_type": "execute_result"
    }
   ],
   "source": [
    "timestamps"
   ]
  },
  {
   "cell_type": "code",
   "execution_count": 4,
   "id": "alternate-victory",
   "metadata": {
    "execution": {
     "iopub.execute_input": "2021-11-16T06:30:10.160273Z",
     "iopub.status.busy": "2021-11-16T06:30:10.158153Z",
     "iopub.status.idle": "2021-11-16T06:30:11.369267Z",
     "shell.execute_reply": "2021-11-16T06:30:11.370666Z"
    },
    "papermill": {
     "duration": 1.245169,
     "end_time": "2021-11-16T06:30:11.371128",
     "exception": false,
     "start_time": "2021-11-16T06:30:10.125959",
     "status": "completed"
    },
    "tags": []
   },
   "outputs": [],
   "source": [
    "df = pd.read_sql(\"select * from EBAY_TOP_BERLIN where record_time in (select distinct record_time from EBAY_TOP_BERLIN order by record_time desc limit 2)\", sqlite3.connect(\"UsedObjects.db\"))"
   ]
  },
  {
   "cell_type": "code",
   "execution_count": 5,
   "id": "popular-active",
   "metadata": {
    "execution": {
     "iopub.execute_input": "2021-11-16T06:30:11.434235Z",
     "iopub.status.busy": "2021-11-16T06:30:11.431897Z",
     "iopub.status.idle": "2021-11-16T06:30:11.462011Z",
     "shell.execute_reply": "2021-11-16T06:30:11.463465Z"
    },
    "papermill": {
     "duration": 0.071811,
     "end_time": "2021-11-16T06:30:11.463934",
     "exception": false,
     "start_time": "2021-11-16T06:30:11.392123",
     "status": "completed"
    },
    "tags": []
   },
   "outputs": [],
   "source": [
    "df_pivot = df.pivot_table(index=\"PRODUCT\", columns = \"RECORD_TIME\", values = \"LISTING_COUNT\")"
   ]
  },
  {
   "cell_type": "code",
   "execution_count": 6,
   "id": "union-huntington",
   "metadata": {
    "execution": {
     "iopub.execute_input": "2021-11-16T06:30:11.524934Z",
     "iopub.status.busy": "2021-11-16T06:30:11.522736Z",
     "iopub.status.idle": "2021-11-16T06:30:11.529235Z",
     "shell.execute_reply": "2021-11-16T06:30:11.530626Z"
    },
    "papermill": {
     "duration": 0.045659,
     "end_time": "2021-11-16T06:30:11.531093",
     "exception": false,
     "start_time": "2021-11-16T06:30:11.485434",
     "status": "completed"
    },
    "tags": []
   },
   "outputs": [],
   "source": [
    "df_pivot.columns = [\"stamp_1\", \"stamp_2\"]\n",
    "df_pivot_diff = df_pivot.diff(axis=1)"
   ]
  },
  {
   "cell_type": "code",
   "execution_count": 7,
   "id": "fifth-motion",
   "metadata": {
    "execution": {
     "iopub.execute_input": "2021-11-16T06:30:11.587625Z",
     "iopub.status.busy": "2021-11-16T06:30:11.585190Z",
     "iopub.status.idle": "2021-11-16T06:30:13.597054Z",
     "shell.execute_reply": "2021-11-16T06:30:13.598284Z"
    },
    "papermill": {
     "duration": 2.047247,
     "end_time": "2021-11-16T06:30:13.598712",
     "exception": false,
     "start_time": "2021-11-16T06:30:11.551465",
     "status": "completed"
    },
    "tags": []
   },
   "outputs": [
    {
     "data": {
      "text/plain": [
       "<AxesSubplot:ylabel='PRODUCT'>"
      ]
     },
     "execution_count": 7,
     "metadata": {},
     "output_type": "execute_result"
    },
    {
     "data": {
      "image/png": "[encoded data removed]",
      "text/plain": [
       "<Figure size 432x288 with 1 Axes>"
      ]
     },
     "metadata": {
      "needs_background": "light"
     },
     "output_type": "display_data"
    }
   ],
   "source": [
    "df_pivot_diff.sort_values(\"stamp_2\", ascending = False)[\"stamp_2\"].head(10).plot.barh()"
   ]
  },
  {
   "cell_type": "code",
   "execution_count": null,
   "id": "extra-executive",
   "metadata": {
    "papermill": {
     "duration": 0.022005,
     "end_time": "2021-11-16T06:30:13.647057",
     "exception": false,
     "start_time": "2021-11-16T06:30:13.625052",
     "status": "completed"
    },
    "tags": []
   },
   "outputs": [],
   "source": []
  }
 ],
 "metadata": {
  "kernelspec": {
   "display_name": "Python 3",
   "language": "python",
   "name": "python3"
  },
  "language_info": {
   "codemirror_mode": {
    "name": "ipython",
    "version": 3
   },
   "file_extension": ".py",
   "mimetype": "text/x-python",
   "name": "python",
   "nbconvert_exporter": "python",
   "pygments_lexer": "ipython3",
   "version": "3.9.5"
  },
  "papermill": {
   "default_parameters": {},
   "duration": 8.932385,
   "end_time": "2021-11-16T06:30:14.298569",
   "environment_variables": {},
   "exception": null,
   "input_path": "eBay_Overview.ipynb",
   "output_path": "eBay_Overview.ipynb",
   "parameters": {},
   "start_time": "2021-11-16T06:30:05.366184",
   "version": "2.3.3"
  }
 },
 "nbformat": 4,
 "nbformat_minor": 5
}