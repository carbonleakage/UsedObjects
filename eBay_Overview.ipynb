{
 "cells": [
  {
   "cell_type": "code",
   "execution_count": 1,
   "id": "reverse-picking",
   "metadata": {
    "execution": {
     "iopub.execute_input": "2021-09-13T03:30:07.023349Z",
     "iopub.status.busy": "2021-09-13T03:30:07.021317Z",
     "iopub.status.idle": "2021-09-13T03:30:07.828787Z",
     "shell.execute_reply": "2021-09-13T03:30:07.830065Z"
    },
    "papermill": {
     "duration": 0.859404,
     "end_time": "2021-09-13T03:30:07.830674",
     "exception": false,
     "start_time": "2021-09-13T03:30:06.971270",
     "status": "completed"
    },
    "tags": []
   },
   "outputs": [],
   "source": [
    "import pandas as pd\n",
    "import sqlite3"
   ]
  },
  {
   "cell_type": "code",
   "execution_count": 2,
   "id": "innovative-syndrome",
   "metadata": {
    "execution": {
     "iopub.execute_input": "2021-09-13T03:30:07.882071Z",
     "iopub.status.busy": "2021-09-13T03:30:07.880191Z",
     "iopub.status.idle": "2021-09-13T03:30:08.159142Z",
     "shell.execute_reply": "2021-09-13T03:30:08.160548Z"
    },
    "papermill": {
     "duration": 0.308656,
     "end_time": "2021-09-13T03:30:08.160983",
     "exception": false,
     "start_time": "2021-09-13T03:30:07.852327",
     "status": "completed"
    },
    "tags": []
   },
   "outputs": [],
   "source": [
    "timestamps = pd.read_sql(\"select distinct record_time from EBAY_TOP_BERLIN order by record_time desc limit 2\", sqlite3.connect(\"UsedObjects.db\"))"
   ]
  },
  {
   "cell_type": "code",
   "execution_count": 3,
   "id": "periodic-identification",
   "metadata": {
    "execution": {
     "iopub.execute_input": "2021-09-13T03:30:08.228033Z",
     "iopub.status.busy": "2021-09-13T03:30:08.225939Z",
     "iopub.status.idle": "2021-09-13T03:30:08.245786Z",
     "shell.execute_reply": "2021-09-13T03:30:08.247168Z"
    },
    "papermill": {
     "duration": 0.066604,
     "end_time": "2021-09-13T03:30:08.247596",
     "exception": false,
     "start_time": "2021-09-13T03:30:08.180992",
     "status": "completed"
    },
    "tags": []
   },
   "outputs": [
    {
     "data": {
      "text/html": [
       "<div>\n",
       "<style scoped>\n",
       "    .dataframe tbody tr th:only-of-type {\n",
       "        vertical-align: middle;\n",
       "    }\n",
       "\n",
       "    .dataframe tbody tr th {\n",
       "        vertical-align: top;\n",
       "    }\n",
       "\n",
       "    .dataframe thead th {\n",
       "        text-align: right;\n",
       "    }\n",
       "</style>\n",
       "<table border=\"1\" class=\"dataframe\">\n",
       "  <thead>\n",
       "    <tr style=\"text-align: right;\">\n",
       "      <th></th>\n",
       "      <th>RECORD_TIME</th>\n",
       "    </tr>\n",
       "  </thead>\n",
       "  <tbody>\n",
       "    <tr>\n",
       "      <th>0</th>\n",
       "      <td>2021-09-13 05:30</td>\n",
       "    </tr>\n",
       "    <tr>\n",
       "      <th>1</th>\n",
       "      <td>2021-09-13 05:00</td>\n",
       "    </tr>\n",
       "  </tbody>\n",
       "</table>\n",
       "</div>"
      ],
      "text/plain": [
       "        RECORD_TIME\n",
       "0  2021-09-13 05:30\n",
       "1  2021-09-13 05:00"
      ]
     },
     "execution_count": 3,
     "metadata": {},
     "output_type": "execute_result"
    }
   ],
   "source": [
    "timestamps"
   ]
  },
  {
   "cell_type": "code",
   "execution_count": 4,
   "id": "alternate-victory",
   "metadata": {
    "execution": {
     "iopub.execute_input": "2021-09-13T03:30:08.298272Z",
     "iopub.status.busy": "2021-09-13T03:30:08.296426Z",
     "iopub.status.idle": "2021-09-13T03:30:08.704582Z",
     "shell.execute_reply": "2021-09-13T03:30:08.705810Z"
    },
    "papermill": {
     "duration": 0.438244,
     "end_time": "2021-09-13T03:30:08.706202",
     "exception": false,
     "start_time": "2021-09-13T03:30:08.267958",
     "status": "completed"
    },
    "tags": []
   },
   "outputs": [],
   "source": [
    "df = pd.read_sql(\"select * from EBAY_TOP_BERLIN where record_time in (select distinct record_time from EBAY_TOP_BERLIN order by record_time desc limit 2)\", sqlite3.connect(\"UsedObjects.db\"))"
   ]
  },
  {
   "cell_type": "code",
   "execution_count": 5,
   "id": "popular-active",
   "metadata": {
    "execution": {
     "iopub.execute_input": "2021-09-13T03:30:08.790404Z",
     "iopub.status.busy": "2021-09-13T03:30:08.778493Z",
     "iopub.status.idle": "2021-09-13T03:30:08.805996Z",
     "shell.execute_reply": "2021-09-13T03:30:08.807287Z"
    },
    "papermill": {
     "duration": 0.072728,
     "end_time": "2021-09-13T03:30:08.807690",
     "exception": false,
     "start_time": "2021-09-13T03:30:08.734962",
     "status": "completed"
    },
    "tags": []
   },
   "outputs": [],
   "source": [
    "df_pivot = df.pivot_table(index=\"PRODUCT\", columns = \"RECORD_TIME\", values = \"LISTING_COUNT\")"
   ]
  },
  {
   "cell_type": "code",
   "execution_count": 6,
   "id": "union-huntington",
   "metadata": {
    "execution": {
     "iopub.execute_input": "2021-09-13T03:30:08.864262Z",
     "iopub.status.busy": "2021-09-13T03:30:08.862075Z",
     "iopub.status.idle": "2021-09-13T03:30:08.867629Z",
     "shell.execute_reply": "2021-09-13T03:30:08.869009Z"
    },
    "papermill": {
     "duration": 0.041026,
     "end_time": "2021-09-13T03:30:08.869446",
     "exception": false,
     "start_time": "2021-09-13T03:30:08.828420",
     "status": "completed"
    },
    "tags": []
   },
   "outputs": [],
   "source": [
    "df_pivot.columns = [\"stamp_1\", \"stamp_2\"]\n",
    "df_pivot_diff = df_pivot.diff(axis=1)"
   ]
  },
  {
   "cell_type": "code",
   "execution_count": 7,
   "id": "fifth-motion",
   "metadata": {
    "execution": {
     "iopub.execute_input": "2021-09-13T03:30:08.925995Z",
     "iopub.status.busy": "2021-09-13T03:30:08.923631Z",
     "iopub.status.idle": "2021-09-13T03:30:10.402736Z",
     "shell.execute_reply": "2021-09-13T03:30:10.404094Z"
    },
    "papermill": {
     "duration": 1.514564,
     "end_time": "2021-09-13T03:30:10.404549",
     "exception": false,
     "start_time": "2021-09-13T03:30:08.889985",
     "status": "completed"
    },
    "tags": []
   },
   "outputs": [
    {
     "data": {
      "text/plain": [
       "<AxesSubplot:ylabel='PRODUCT'>"
      ]
     },
     "execution_count": 7,
     "metadata": {},
     "output_type": "execute_result"
    },
    {
     "data": {
      "image/png": "[encoded data removed]",
      "text/plain": [
       "<Figure size 432x288 with 1 Axes>"
      ]
     },
     "metadata": {
      "needs_background": "light"
     },
     "output_type": "display_data"
    }
   ],
   "source": [
    "df_pivot_diff.sort_values(\"stamp_2\", ascending = False)[\"stamp_2\"].head(10).plot.barh()"
   ]
  },
  {
   "cell_type": "code",
   "execution_count": null,
   "id": "extra-executive",
   "metadata": {
    "papermill": {
     "duration": 0.022375,
     "end_time": "2021-09-13T03:30:10.451507",
     "exception": false,
     "start_time": "2021-09-13T03:30:10.429132",
     "status": "completed"
    },
    "tags": []
   },
   "outputs": [],
   "source": []
  }
 ],
 "metadata": {
  "kernelspec": {
   "display_name": "Python 3",
   "language": "python",
   "name": "python3"
  },
  "language_info": {
   "codemirror_mode": {
    "name": "ipython",
    "version": 3
   },
   "file_extension": ".py",
   "mimetype": "text/x-python",
   "name": "python",
   "nbconvert_exporter": "python",
   "pygments_lexer": "ipython3",
   "version": "3.9.5"
  },
  "papermill": {
   "default_parameters": {},
   "duration": 6.532261,
   "end_time": "2021-09-13T03:30:11.094653",
   "environment_variables": {},
   "exception": null,
   "input_path": "eBay_Overview.ipynb",
   "output_path": "eBay_Overview.ipynb",
   "parameters": {},
   "start_time": "2021-09-13T03:30:04.562392",
   "version": "2.3.3"
  }
 },
 "nbformat": 4,
 "nbformat_minor": 5
}