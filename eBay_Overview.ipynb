{
 "cells": [
  {
   "cell_type": "code",
   "execution_count": 1,
   "id": "reverse-picking",
   "metadata": {
    "execution": {
     "iopub.execute_input": "2021-09-05T13:00:06.914209Z",
     "iopub.status.busy": "2021-09-05T13:00:06.912244Z",
     "iopub.status.idle": "2021-09-05T13:00:07.717648Z",
     "shell.execute_reply": "2021-09-05T13:00:07.719023Z"
    },
    "papermill": {
     "duration": 0.855993,
     "end_time": "2021-09-05T13:00:07.719706",
     "exception": false,
     "start_time": "2021-09-05T13:00:06.863713",
     "status": "completed"
    },
    "tags": []
   },
   "outputs": [],
   "source": [
    "import pandas as pd\n",
    "import sqlite3"
   ]
  },
  {
   "cell_type": "code",
   "execution_count": 2,
   "id": "innovative-syndrome",
   "metadata": {
    "execution": {
     "iopub.execute_input": "2021-09-05T13:00:07.769741Z",
     "iopub.status.busy": "2021-09-05T13:00:07.767878Z",
     "iopub.status.idle": "2021-09-05T13:00:07.980076Z",
     "shell.execute_reply": "2021-09-05T13:00:07.981351Z"
    },
    "papermill": {
     "duration": 0.241849,
     "end_time": "2021-09-05T13:00:07.981750",
     "exception": false,
     "start_time": "2021-09-05T13:00:07.739901",
     "status": "completed"
    },
    "tags": []
   },
   "outputs": [],
   "source": [
    "timestamps = pd.read_sql(\"select distinct record_time from EBAY_TOP_BERLIN order by record_time desc limit 2\", sqlite3.connect(\"UsedObjects.db\"))"
   ]
  },
  {
   "cell_type": "code",
   "execution_count": 3,
   "id": "periodic-identification",
   "metadata": {
    "execution": {
     "iopub.execute_input": "2021-09-05T13:00:08.045806Z",
     "iopub.status.busy": "2021-09-05T13:00:08.043798Z",
     "iopub.status.idle": "2021-09-05T13:00:08.063893Z",
     "shell.execute_reply": "2021-09-05T13:00:08.065218Z"
    },
    "papermill": {
     "duration": 0.064642,
     "end_time": "2021-09-05T13:00:08.065636",
     "exception": false,
     "start_time": "2021-09-05T13:00:08.000994",
     "status": "completed"
    },
    "tags": []
   },
   "outputs": [
    {
     "data": {
      "text/html": [
       "<div>\n",
       "<style scoped>\n",
       "    .dataframe tbody tr th:only-of-type {\n",
       "        vertical-align: middle;\n",
       "    }\n",
       "\n",
       "    .dataframe tbody tr th {\n",
       "        vertical-align: top;\n",
       "    }\n",
       "\n",
       "    .dataframe thead th {\n",
       "        text-align: right;\n",
       "    }\n",
       "</style>\n",
       "<table border=\"1\" class=\"dataframe\">\n",
       "  <thead>\n",
       "    <tr style=\"text-align: right;\">\n",
       "      <th></th>\n",
       "      <th>RECORD_TIME</th>\n",
       "    </tr>\n",
       "  </thead>\n",
       "  <tbody>\n",
       "    <tr>\n",
       "      <th>0</th>\n",
       "      <td>2021-09-05 15:00</td>\n",
       "    </tr>\n",
       "    <tr>\n",
       "      <th>1</th>\n",
       "      <td>2021-09-05 14:30</td>\n",
       "    </tr>\n",
       "  </tbody>\n",
       "</table>\n",
       "</div>"
      ],
      "text/plain": [
       "        RECORD_TIME\n",
       "0  2021-09-05 15:00\n",
       "1  2021-09-05 14:30"
      ]
     },
     "execution_count": 3,
     "metadata": {},
     "output_type": "execute_result"
    }
   ],
   "source": [
    "timestamps"
   ]
  },
  {
   "cell_type": "code",
   "execution_count": 4,
   "id": "alternate-victory",
   "metadata": {
    "execution": {
     "iopub.execute_input": "2021-09-05T13:00:08.117220Z",
     "iopub.status.busy": "2021-09-05T13:00:08.115056Z",
     "iopub.status.idle": "2021-09-05T13:00:08.435823Z",
     "shell.execute_reply": "2021-09-05T13:00:08.436974Z"
    },
    "papermill": {
     "duration": 0.35063,
     "end_time": "2021-09-05T13:00:08.437383",
     "exception": false,
     "start_time": "2021-09-05T13:00:08.086753",
     "status": "completed"
    },
    "tags": []
   },
   "outputs": [],
   "source": [
    "df = pd.read_sql(\"select * from EBAY_TOP_BERLIN where record_time in (select distinct record_time from EBAY_TOP_BERLIN order by record_time desc limit 2)\", sqlite3.connect(\"UsedObjects.db\"))"
   ]
  },
  {
   "cell_type": "code",
   "execution_count": 5,
   "id": "popular-active",
   "metadata": {
    "execution": {
     "iopub.execute_input": "2021-09-05T13:00:08.520203Z",
     "iopub.status.busy": "2021-09-05T13:00:08.508444Z",
     "iopub.status.idle": "2021-09-05T13:00:08.536939Z",
     "shell.execute_reply": "2021-09-05T13:00:08.538167Z"
    },
    "papermill": {
     "duration": 0.072325,
     "end_time": "2021-09-05T13:00:08.538569",
     "exception": false,
     "start_time": "2021-09-05T13:00:08.466244",
     "status": "completed"
    },
    "tags": []
   },
   "outputs": [],
   "source": [
    "df_pivot = df.pivot_table(index=\"PRODUCT\", columns = \"RECORD_TIME\", values = \"LISTING_COUNT\")"
   ]
  },
  {
   "cell_type": "code",
   "execution_count": 6,
   "id": "union-huntington",
   "metadata": {
    "execution": {
     "iopub.execute_input": "2021-09-05T13:00:08.594935Z",
     "iopub.status.busy": "2021-09-05T13:00:08.592746Z",
     "iopub.status.idle": "2021-09-05T13:00:08.598199Z",
     "shell.execute_reply": "2021-09-05T13:00:08.599700Z"
    },
    "papermill": {
     "duration": 0.040868,
     "end_time": "2021-09-05T13:00:08.600177",
     "exception": false,
     "start_time": "2021-09-05T13:00:08.559309",
     "status": "completed"
    },
    "tags": []
   },
   "outputs": [],
   "source": [
    "df_pivot.columns = [\"stamp_1\", \"stamp_2\"]\n",
    "df_pivot_diff = df_pivot.diff(axis=1)"
   ]
  },
  {
   "cell_type": "code",
   "execution_count": 7,
   "id": "fifth-motion",
   "metadata": {
    "execution": {
     "iopub.execute_input": "2021-09-05T13:00:08.654918Z",
     "iopub.status.busy": "2021-09-05T13:00:08.652223Z",
     "iopub.status.idle": "2021-09-05T13:00:10.173892Z",
     "shell.execute_reply": "2021-09-05T13:00:10.175322Z"
    },
    "papermill": {
     "duration": 1.555427,
     "end_time": "2021-09-05T13:00:10.175797",
     "exception": false,
     "start_time": "2021-09-05T13:00:08.620370",
     "status": "completed"
    },
    "tags": []
   },
   "outputs": [
    {
     "data": {
      "text/plain": [
       "<AxesSubplot:ylabel='PRODUCT'>"
      ]
     },
     "execution_count": 7,
     "metadata": {},
     "output_type": "execute_result"
    },
    {
     "data": {
      "image/png": "[encoded data removed]",
      "text/plain": [
       "<Figure size 432x288 with 1 Axes>"
      ]
     },
     "metadata": {
      "needs_background": "light"
     },
     "output_type": "display_data"
    }
   ],
   "source": [
    "df_pivot_diff.sort_values(\"stamp_2\", ascending = False)[\"stamp_2\"].head(10).plot.barh()"
   ]
  },
  {
   "cell_type": "code",
   "execution_count": null,
   "id": "extra-executive",
   "metadata": {
    "papermill": {
     "duration": 0.022165,
     "end_time": "2021-09-05T13:00:10.222733",
     "exception": false,
     "start_time": "2021-09-05T13:00:10.200568",
     "status": "completed"
    },
    "tags": []
   },
   "outputs": [],
   "source": []
  }
 ],
 "metadata": {
  "kernelspec": {
   "display_name": "Python 3",
   "language": "python",
   "name": "python3"
  },
  "language_info": {
   "codemirror_mode": {
    "name": "ipython",
    "version": 3
   },
   "file_extension": ".py",
   "mimetype": "text/x-python",
   "name": "python",
   "nbconvert_exporter": "python",
   "pygments_lexer": "ipython3",
   "version": "3.9.5"
  },
  "papermill": {
   "default_parameters": {},
   "duration": 6.405824,
   "end_time": "2021-09-05T13:00:10.863258",
   "environment_variables": {},
   "exception": null,
   "input_path": "eBay_Overview.ipynb",
   "output_path": "eBay_Overview.ipynb",
   "parameters": {},
   "start_time": "2021-09-05T13:00:04.457434",
   "version": "2.3.3"
  }
 },
 "nbformat": 4,
 "nbformat_minor": 5
}