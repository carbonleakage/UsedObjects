{
 "cells": [
  {
   "cell_type": "code",
   "execution_count": 1,
   "id": "reverse-picking",
   "metadata": {
    "execution": {
     "iopub.execute_input": "2021-08-21T19:30:07.249368Z",
     "iopub.status.busy": "2021-08-21T19:30:07.247377Z",
     "iopub.status.idle": "2021-08-21T19:30:08.056644Z",
     "shell.execute_reply": "2021-08-21T19:30:08.057868Z"
    },
    "papermill": {
     "duration": 0.861604,
     "end_time": "2021-08-21T19:30:08.058549",
     "exception": false,
     "start_time": "2021-08-21T19:30:07.196945",
     "status": "completed"
    },
    "tags": []
   },
   "outputs": [],
   "source": [
    "import pandas as pd\n",
    "import sqlite3"
   ]
  },
  {
   "cell_type": "code",
   "execution_count": 2,
   "id": "innovative-syndrome",
   "metadata": {
    "execution": {
     "iopub.execute_input": "2021-08-21T19:30:08.107983Z",
     "iopub.status.busy": "2021-08-21T19:30:08.106154Z",
     "iopub.status.idle": "2021-08-21T19:30:08.204989Z",
     "shell.execute_reply": "2021-08-21T19:30:08.206292Z"
    },
    "papermill": {
     "duration": 0.128281,
     "end_time": "2021-08-21T19:30:08.206723",
     "exception": false,
     "start_time": "2021-08-21T19:30:08.078442",
     "status": "completed"
    },
    "tags": []
   },
   "outputs": [],
   "source": [
    "timestamps = pd.read_sql(\"select distinct record_time from EBAY_TOP_BERLIN order by record_time desc limit 2\", sqlite3.connect(\"UsedObjects.db\"))"
   ]
  },
  {
   "cell_type": "code",
   "execution_count": 3,
   "id": "periodic-identification",
   "metadata": {
    "execution": {
     "iopub.execute_input": "2021-08-21T19:30:08.273040Z",
     "iopub.status.busy": "2021-08-21T19:30:08.271048Z",
     "iopub.status.idle": "2021-08-21T19:30:08.292678Z",
     "shell.execute_reply": "2021-08-21T19:30:08.290815Z"
    },
    "papermill": {
     "duration": 0.065822,
     "end_time": "2021-08-21T19:30:08.293130",
     "exception": false,
     "start_time": "2021-08-21T19:30:08.227308",
     "status": "completed"
    },
    "tags": []
   },
   "outputs": [
    {
     "data": {
      "text/html": [
       "<div>\n",
       "<style scoped>\n",
       "    .dataframe tbody tr th:only-of-type {\n",
       "        vertical-align: middle;\n",
       "    }\n",
       "\n",
       "    .dataframe tbody tr th {\n",
       "        vertical-align: top;\n",
       "    }\n",
       "\n",
       "    .dataframe thead th {\n",
       "        text-align: right;\n",
       "    }\n",
       "</style>\n",
       "<table border=\"1\" class=\"dataframe\">\n",
       "  <thead>\n",
       "    <tr style=\"text-align: right;\">\n",
       "      <th></th>\n",
       "      <th>RECORD_TIME</th>\n",
       "    </tr>\n",
       "  </thead>\n",
       "  <tbody>\n",
       "    <tr>\n",
       "      <th>0</th>\n",
       "      <td>2021-08-21 21:30</td>\n",
       "    </tr>\n",
       "    <tr>\n",
       "      <th>1</th>\n",
       "      <td>2021-08-21 21:00</td>\n",
       "    </tr>\n",
       "  </tbody>\n",
       "</table>\n",
       "</div>"
      ],
      "text/plain": [
       "        RECORD_TIME\n",
       "0  2021-08-21 21:30\n",
       "1  2021-08-21 21:00"
      ]
     },
     "execution_count": 3,
     "metadata": {},
     "output_type": "execute_result"
    }
   ],
   "source": [
    "timestamps"
   ]
  },
  {
   "cell_type": "code",
   "execution_count": 4,
   "id": "alternate-victory",
   "metadata": {
    "execution": {
     "iopub.execute_input": "2021-08-21T19:30:08.345751Z",
     "iopub.status.busy": "2021-08-21T19:30:08.343854Z",
     "iopub.status.idle": "2021-08-21T19:30:08.490910Z",
     "shell.execute_reply": "2021-08-21T19:30:08.492172Z"
    },
    "papermill": {
     "duration": 0.177109,
     "end_time": "2021-08-21T19:30:08.492571",
     "exception": false,
     "start_time": "2021-08-21T19:30:08.315462",
     "status": "completed"
    },
    "tags": []
   },
   "outputs": [],
   "source": [
    "df = pd.read_sql(\"select * from EBAY_TOP_BERLIN where record_time in (select distinct record_time from EBAY_TOP_BERLIN order by record_time desc limit 2)\", sqlite3.connect(\"UsedObjects.db\"))"
   ]
  },
  {
   "cell_type": "code",
   "execution_count": 5,
   "id": "popular-active",
   "metadata": {
    "execution": {
     "iopub.execute_input": "2021-08-21T19:30:08.562940Z",
     "iopub.status.busy": "2021-08-21T19:30:08.551618Z",
     "iopub.status.idle": "2021-08-21T19:30:08.578089Z",
     "shell.execute_reply": "2021-08-21T19:30:08.579299Z"
    },
    "papermill": {
     "duration": 0.067009,
     "end_time": "2021-08-21T19:30:08.579692",
     "exception": false,
     "start_time": "2021-08-21T19:30:08.512683",
     "status": "completed"
    },
    "tags": []
   },
   "outputs": [],
   "source": [
    "df_pivot = df.pivot_table(index=\"PRODUCT\", columns = \"RECORD_TIME\", values = \"LISTING_COUNT\")"
   ]
  },
  {
   "cell_type": "code",
   "execution_count": 6,
   "id": "union-huntington",
   "metadata": {
    "execution": {
     "iopub.execute_input": "2021-08-21T19:30:08.635307Z",
     "iopub.status.busy": "2021-08-21T19:30:08.633296Z",
     "iopub.status.idle": "2021-08-21T19:30:08.639784Z",
     "shell.execute_reply": "2021-08-21T19:30:08.638549Z"
    },
    "papermill": {
     "duration": 0.040069,
     "end_time": "2021-08-21T19:30:08.640133",
     "exception": false,
     "start_time": "2021-08-21T19:30:08.600064",
     "status": "completed"
    },
    "tags": []
   },
   "outputs": [],
   "source": [
    "df_pivot.columns = [\"stamp_1\", \"stamp_2\"]\n",
    "df_pivot_diff = df_pivot.diff(axis=1)"
   ]
  },
  {
   "cell_type": "code",
   "execution_count": 7,
   "id": "fifth-motion",
   "metadata": {
    "execution": {
     "iopub.execute_input": "2021-08-21T19:30:08.704824Z",
     "iopub.status.busy": "2021-08-21T19:30:08.702564Z",
     "iopub.status.idle": "2021-08-21T19:30:10.164343Z",
     "shell.execute_reply": "2021-08-21T19:30:10.165684Z"
    },
    "papermill": {
     "duration": 1.503464,
     "end_time": "2021-08-21T19:30:10.166172",
     "exception": false,
     "start_time": "2021-08-21T19:30:08.662708",
     "status": "completed"
    },
    "tags": []
   },
   "outputs": [
    {
     "data": {
      "text/plain": [
       "<AxesSubplot:ylabel='PRODUCT'>"
      ]
     },
     "execution_count": 7,
     "metadata": {},
     "output_type": "execute_result"
    },
    {
     "data": {
      "image/png": "[encoded data removed]",
      "text/plain": [
       "<Figure size 432x288 with 1 Axes>"
      ]
     },
     "metadata": {
      "needs_background": "light"
     },
     "output_type": "display_data"
    }
   ],
   "source": [
    "df_pivot_diff.sort_values(\"stamp_2\", ascending = False)[\"stamp_2\"].head(10).plot.barh()"
   ]
  },
  {
   "cell_type": "code",
   "execution_count": null,
   "id": "extra-executive",
   "metadata": {
    "papermill": {
     "duration": 0.021827,
     "end_time": "2021-08-21T19:30:10.212492",
     "exception": false,
     "start_time": "2021-08-21T19:30:10.190665",
     "status": "completed"
    },
    "tags": []
   },
   "outputs": [],
   "source": []
  }
 ],
 "metadata": {
  "kernelspec": {
   "display_name": "Python 3",
   "language": "python",
   "name": "python3"
  },
  "language_info": {
   "codemirror_mode": {
    "name": "ipython",
    "version": 3
   },
   "file_extension": ".py",
   "mimetype": "text/x-python",
   "name": "python",
   "nbconvert_exporter": "python",
   "pygments_lexer": "ipython3",
   "version": "3.9.5"
  },
  "papermill": {
   "default_parameters": {},
   "duration": 6.831048,
   "end_time": "2021-08-21T19:30:11.622242",
   "environment_variables": {},
   "exception": null,
   "input_path": "eBay_Overview.ipynb",
   "output_path": "eBay_Overview.ipynb",
   "parameters": {},
   "start_time": "2021-08-21T19:30:04.791194",
   "version": "2.3.3"
  }
 },
 "nbformat": 4,
 "nbformat_minor": 5
}