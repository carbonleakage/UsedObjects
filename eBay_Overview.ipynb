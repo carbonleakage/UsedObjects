{
 "cells": [
  {
   "cell_type": "code",
   "execution_count": 1,
   "id": "reverse-picking",
   "metadata": {
    "execution": {
     "iopub.execute_input": "2021-10-03T00:30:07.376627Z",
     "iopub.status.busy": "2021-10-03T00:30:07.374665Z",
     "iopub.status.idle": "2021-10-03T00:30:08.180975Z",
     "shell.execute_reply": "2021-10-03T00:30:08.179331Z"
    },
    "papermill": {
     "duration": 0.856585,
     "end_time": "2021-10-03T00:30:08.181399",
     "exception": false,
     "start_time": "2021-10-03T00:30:07.324814",
     "status": "completed"
    },
    "tags": []
   },
   "outputs": [],
   "source": [
    "import pandas as pd\n",
    "import sqlite3"
   ]
  },
  {
   "cell_type": "code",
   "execution_count": 2,
   "id": "innovative-syndrome",
   "metadata": {
    "execution": {
     "iopub.execute_input": "2021-10-03T00:30:08.231630Z",
     "iopub.status.busy": "2021-10-03T00:30:08.229622Z",
     "iopub.status.idle": "2021-10-03T00:30:08.659040Z",
     "shell.execute_reply": "2021-10-03T00:30:08.660262Z"
    },
    "papermill": {
     "duration": 0.459173,
     "end_time": "2021-10-03T00:30:08.660658",
     "exception": false,
     "start_time": "2021-10-03T00:30:08.201485",
     "status": "completed"
    },
    "tags": []
   },
   "outputs": [],
   "source": [
    "timestamps = pd.read_sql(\"select distinct record_time from EBAY_TOP_BERLIN order by record_time desc limit 2\", sqlite3.connect(\"UsedObjects.db\"))"
   ]
  },
  {
   "cell_type": "code",
   "execution_count": 3,
   "id": "periodic-identification",
   "metadata": {
    "execution": {
     "iopub.execute_input": "2021-10-03T00:30:08.726055Z",
     "iopub.status.busy": "2021-10-03T00:30:08.724072Z",
     "iopub.status.idle": "2021-10-03T00:30:08.744116Z",
     "shell.execute_reply": "2021-10-03T00:30:08.745401Z"
    },
    "papermill": {
     "duration": 0.064345,
     "end_time": "2021-10-03T00:30:08.745817",
     "exception": false,
     "start_time": "2021-10-03T00:30:08.681472",
     "status": "completed"
    },
    "tags": []
   },
   "outputs": [
    {
     "data": {
      "text/html": [
       "<div>\n",
       "<style scoped>\n",
       "    .dataframe tbody tr th:only-of-type {\n",
       "        vertical-align: middle;\n",
       "    }\n",
       "\n",
       "    .dataframe tbody tr th {\n",
       "        vertical-align: top;\n",
       "    }\n",
       "\n",
       "    .dataframe thead th {\n",
       "        text-align: right;\n",
       "    }\n",
       "</style>\n",
       "<table border=\"1\" class=\"dataframe\">\n",
       "  <thead>\n",
       "    <tr style=\"text-align: right;\">\n",
       "      <th></th>\n",
       "      <th>RECORD_TIME</th>\n",
       "    </tr>\n",
       "  </thead>\n",
       "  <tbody>\n",
       "    <tr>\n",
       "      <th>0</th>\n",
       "      <td>2021-10-03 02:30</td>\n",
       "    </tr>\n",
       "    <tr>\n",
       "      <th>1</th>\n",
       "      <td>2021-10-03 02:00</td>\n",
       "    </tr>\n",
       "  </tbody>\n",
       "</table>\n",
       "</div>"
      ],
      "text/plain": [
       "        RECORD_TIME\n",
       "0  2021-10-03 02:30\n",
       "1  2021-10-03 02:00"
      ]
     },
     "execution_count": 3,
     "metadata": {},
     "output_type": "execute_result"
    }
   ],
   "source": [
    "timestamps"
   ]
  },
  {
   "cell_type": "code",
   "execution_count": 4,
   "id": "alternate-victory",
   "metadata": {
    "execution": {
     "iopub.execute_input": "2021-10-03T00:30:08.797655Z",
     "iopub.status.busy": "2021-10-03T00:30:08.795391Z",
     "iopub.status.idle": "2021-10-03T00:30:09.447737Z",
     "shell.execute_reply": "2021-10-03T00:30:09.448959Z"
    },
    "papermill": {
     "duration": 0.682502,
     "end_time": "2021-10-03T00:30:09.449358",
     "exception": false,
     "start_time": "2021-10-03T00:30:08.766856",
     "status": "completed"
    },
    "tags": []
   },
   "outputs": [],
   "source": [
    "df = pd.read_sql(\"select * from EBAY_TOP_BERLIN where record_time in (select distinct record_time from EBAY_TOP_BERLIN order by record_time desc limit 2)\", sqlite3.connect(\"UsedObjects.db\"))"
   ]
  },
  {
   "cell_type": "code",
   "execution_count": 5,
   "id": "popular-active",
   "metadata": {
    "execution": {
     "iopub.execute_input": "2021-10-03T00:30:09.530116Z",
     "iopub.status.busy": "2021-10-03T00:30:09.518060Z",
     "iopub.status.idle": "2021-10-03T00:30:09.546419Z",
     "shell.execute_reply": "2021-10-03T00:30:09.547864Z"
    },
    "papermill": {
     "duration": 0.073344,
     "end_time": "2021-10-03T00:30:09.548311",
     "exception": false,
     "start_time": "2021-10-03T00:30:09.474967",
     "status": "completed"
    },
    "tags": []
   },
   "outputs": [],
   "source": [
    "df_pivot = df.pivot_table(index=\"PRODUCT\", columns = \"RECORD_TIME\", values = \"LISTING_COUNT\")"
   ]
  },
  {
   "cell_type": "code",
   "execution_count": 6,
   "id": "union-huntington",
   "metadata": {
    "execution": {
     "iopub.execute_input": "2021-10-03T00:30:09.605654Z",
     "iopub.status.busy": "2021-10-03T00:30:09.603235Z",
     "iopub.status.idle": "2021-10-03T00:30:09.608859Z",
     "shell.execute_reply": "2021-10-03T00:30:09.610115Z"
    },
    "papermill": {
     "duration": 0.041903,
     "end_time": "2021-10-03T00:30:09.610534",
     "exception": false,
     "start_time": "2021-10-03T00:30:09.568631",
     "status": "completed"
    },
    "tags": []
   },
   "outputs": [],
   "source": [
    "df_pivot.columns = [\"stamp_1\", \"stamp_2\"]\n",
    "df_pivot_diff = df_pivot.diff(axis=1)"
   ]
  },
  {
   "cell_type": "code",
   "execution_count": 7,
   "id": "fifth-motion",
   "metadata": {
    "execution": {
     "iopub.execute_input": "2021-10-03T00:30:09.664627Z",
     "iopub.status.busy": "2021-10-03T00:30:09.662214Z",
     "iopub.status.idle": "2021-10-03T00:30:11.149392Z",
     "shell.execute_reply": "2021-10-03T00:30:11.150668Z"
    },
    "papermill": {
     "duration": 1.520765,
     "end_time": "2021-10-03T00:30:11.151299",
     "exception": false,
     "start_time": "2021-10-03T00:30:09.630534",
     "status": "completed"
    },
    "tags": []
   },
   "outputs": [
    {
     "data": {
      "text/plain": [
       "<AxesSubplot:ylabel='PRODUCT'>"
      ]
     },
     "execution_count": 7,
     "metadata": {},
     "output_type": "execute_result"
    },
    {
     "data": {
      "image/png": "[encoded data removed]",
      "text/plain": [
       "<Figure size 432x288 with 1 Axes>"
      ]
     },
     "metadata": {
      "needs_background": "light"
     },
     "output_type": "display_data"
    }
   ],
   "source": [
    "df_pivot_diff.sort_values(\"stamp_2\", ascending = False)[\"stamp_2\"].head(10).plot.barh()"
   ]
  },
  {
   "cell_type": "code",
   "execution_count": null,
   "id": "extra-executive",
   "metadata": {
    "papermill": {
     "duration": 0.022057,
     "end_time": "2021-10-03T00:30:11.199365",
     "exception": false,
     "start_time": "2021-10-03T00:30:11.177308",
     "status": "completed"
    },
    "tags": []
   },
   "outputs": [],
   "source": []
  }
 ],
 "metadata": {
  "kernelspec": {
   "display_name": "Python 3",
   "language": "python",
   "name": "python3"
  },
  "language_info": {
   "codemirror_mode": {
    "name": "ipython",
    "version": 3
   },
   "file_extension": ".py",
   "mimetype": "text/x-python",
   "name": "python",
   "nbconvert_exporter": "python",
   "pygments_lexer": "ipython3",
   "version": "3.9.5"
  },
  "papermill": {
   "default_parameters": {},
   "duration": 7.825193,
   "end_time": "2021-10-03T00:30:12.741165",
   "environment_variables": {},
   "exception": null,
   "input_path": "eBay_Overview.ipynb",
   "output_path": "eBay_Overview.ipynb",
   "parameters": {},
   "start_time": "2021-10-03T00:30:04.915972",
   "version": "2.3.3"
  }
 },
 "nbformat": 4,
 "nbformat_minor": 5
}