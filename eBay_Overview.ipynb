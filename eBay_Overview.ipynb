{
 "cells": [
  {
   "cell_type": "code",
   "execution_count": 1,
   "id": "reverse-picking",
   "metadata": {
    "execution": {
     "iopub.execute_input": "2021-12-05T09:00:08.056977Z",
     "iopub.status.busy": "2021-12-05T09:00:08.043769Z",
     "iopub.status.idle": "2021-12-05T09:00:08.981230Z",
     "shell.execute_reply": "2021-12-05T09:00:08.982864Z"
    },
    "papermill": {
     "duration": 0.987776,
     "end_time": "2021-12-05T09:00:08.983559",
     "exception": false,
     "start_time": "2021-12-05T09:00:07.995783",
     "status": "completed"
    },
    "tags": []
   },
   "outputs": [],
   "source": [
    "import pandas as pd\n",
    "import sqlite3"
   ]
  },
  {
   "cell_type": "code",
   "execution_count": 2,
   "id": "innovative-syndrome",
   "metadata": {
    "execution": {
     "iopub.execute_input": "2021-12-05T09:00:09.099830Z",
     "iopub.status.busy": "2021-12-05T09:00:09.097678Z",
     "iopub.status.idle": "2021-12-05T09:00:10.101943Z",
     "shell.execute_reply": "2021-12-05T09:00:10.103458Z"
    },
    "papermill": {
     "duration": 1.038168,
     "end_time": "2021-12-05T09:00:10.103931",
     "exception": false,
     "start_time": "2021-12-05T09:00:09.065763",
     "status": "completed"
    },
    "tags": []
   },
   "outputs": [],
   "source": [
    "timestamps = pd.read_sql(\"select distinct record_time from EBAY_TOP_BERLIN order by record_time desc limit 2\", sqlite3.connect(\"UsedObjects.db\"))"
   ]
  },
  {
   "cell_type": "code",
   "execution_count": 3,
   "id": "periodic-identification",
   "metadata": {
    "execution": {
     "iopub.execute_input": "2021-12-05T09:00:10.171994Z",
     "iopub.status.busy": "2021-12-05T09:00:10.150785Z",
     "iopub.status.idle": "2021-12-05T09:00:10.194310Z",
     "shell.execute_reply": "2021-12-05T09:00:10.195849Z"
    },
    "papermill": {
     "duration": 0.072464,
     "end_time": "2021-12-05T09:00:10.196379",
     "exception": false,
     "start_time": "2021-12-05T09:00:10.123915",
     "status": "completed"
    },
    "tags": []
   },
   "outputs": [
    {
     "data": {
      "text/html": [
       "<div>\n",
       "<style scoped>\n",
       "    .dataframe tbody tr th:only-of-type {\n",
       "        vertical-align: middle;\n",
       "    }\n",
       "\n",
       "    .dataframe tbody tr th {\n",
       "        vertical-align: top;\n",
       "    }\n",
       "\n",
       "    .dataframe thead th {\n",
       "        text-align: right;\n",
       "    }\n",
       "</style>\n",
       "<table border=\"1\" class=\"dataframe\">\n",
       "  <thead>\n",
       "    <tr style=\"text-align: right;\">\n",
       "      <th></th>\n",
       "      <th>RECORD_TIME</th>\n",
       "    </tr>\n",
       "  </thead>\n",
       "  <tbody>\n",
       "    <tr>\n",
       "      <th>0</th>\n",
       "      <td>2021-12-05 10:00</td>\n",
       "    </tr>\n",
       "    <tr>\n",
       "      <th>1</th>\n",
       "      <td>2021-12-05 09:30</td>\n",
       "    </tr>\n",
       "  </tbody>\n",
       "</table>\n",
       "</div>"
      ],
      "text/plain": [
       "        RECORD_TIME\n",
       "0  2021-12-05 10:00\n",
       "1  2021-12-05 09:30"
      ]
     },
     "execution_count": 3,
     "metadata": {},
     "output_type": "execute_result"
    }
   ],
   "source": [
    "timestamps"
   ]
  },
  {
   "cell_type": "code",
   "execution_count": 4,
   "id": "alternate-victory",
   "metadata": {
    "execution": {
     "iopub.execute_input": "2021-12-05T09:00:10.252417Z",
     "iopub.status.busy": "2021-12-05T09:00:10.250589Z",
     "iopub.status.idle": "2021-12-05T09:00:11.661492Z",
     "shell.execute_reply": "2021-12-05T09:00:11.662864Z"
    },
    "papermill": {
     "duration": 1.444412,
     "end_time": "2021-12-05T09:00:11.663339",
     "exception": false,
     "start_time": "2021-12-05T09:00:10.218927",
     "status": "completed"
    },
    "tags": []
   },
   "outputs": [],
   "source": [
    "df = pd.read_sql(\"select * from EBAY_TOP_BERLIN where record_time in (select distinct record_time from EBAY_TOP_BERLIN order by record_time desc limit 2)\", sqlite3.connect(\"UsedObjects.db\"))"
   ]
  },
  {
   "cell_type": "code",
   "execution_count": 5,
   "id": "popular-active",
   "metadata": {
    "execution": {
     "iopub.execute_input": "2021-12-05T09:00:11.737571Z",
     "iopub.status.busy": "2021-12-05T09:00:11.724757Z",
     "iopub.status.idle": "2021-12-05T09:00:11.755187Z",
     "shell.execute_reply": "2021-12-05T09:00:11.756551Z"
    },
    "papermill": {
     "duration": 0.073341,
     "end_time": "2021-12-05T09:00:11.757133",
     "exception": false,
     "start_time": "2021-12-05T09:00:11.683792",
     "status": "completed"
    },
    "tags": []
   },
   "outputs": [],
   "source": [
    "df_pivot = df.pivot_table(index=\"PRODUCT\", columns = \"RECORD_TIME\", values = \"LISTING_COUNT\")"
   ]
  },
  {
   "cell_type": "code",
   "execution_count": 6,
   "id": "union-huntington",
   "metadata": {
    "execution": {
     "iopub.execute_input": "2021-12-05T09:00:11.820761Z",
     "iopub.status.busy": "2021-12-05T09:00:11.818326Z",
     "iopub.status.idle": "2021-12-05T09:00:11.824387Z",
     "shell.execute_reply": "2021-12-05T09:00:11.825952Z"
    },
    "papermill": {
     "duration": 0.047606,
     "end_time": "2021-12-05T09:00:11.826443",
     "exception": false,
     "start_time": "2021-12-05T09:00:11.778837",
     "status": "completed"
    },
    "tags": []
   },
   "outputs": [],
   "source": [
    "df_pivot.columns = [\"stamp_1\", \"stamp_2\"]\n",
    "df_pivot_diff = df_pivot.diff(axis=1)"
   ]
  },
  {
   "cell_type": "code",
   "execution_count": 7,
   "id": "fifth-motion",
   "metadata": {
    "execution": {
     "iopub.execute_input": "2021-12-05T09:00:11.892486Z",
     "iopub.status.busy": "2021-12-05T09:00:11.889547Z",
     "iopub.status.idle": "2021-12-05T09:00:13.834948Z",
     "shell.execute_reply": "2021-12-05T09:00:13.836974Z"
    },
    "papermill": {
     "duration": 1.989446,
     "end_time": "2021-12-05T09:00:13.837557",
     "exception": false,
     "start_time": "2021-12-05T09:00:11.848111",
     "status": "completed"
    },
    "tags": []
   },
   "outputs": [
    {
     "data": {
      "text/plain": [
       "<AxesSubplot:ylabel='PRODUCT'>"
      ]
     },
     "execution_count": 7,
     "metadata": {},
     "output_type": "execute_result"
    },
    {
     "data": {
      "image/png": "[encoded data removed]",
      "text/plain": [
       "<Figure size 432x288 with 1 Axes>"
      ]
     },
     "metadata": {
      "needs_background": "light"
     },
     "output_type": "display_data"
    }
   ],
   "source": [
    "df_pivot_diff.sort_values(\"stamp_2\", ascending = False)[\"stamp_2\"].head(10).plot.barh()"
   ]
  },
  {
   "cell_type": "code",
   "execution_count": null,
   "id": "extra-executive",
   "metadata": {
    "papermill": {
     "duration": 0.061363,
     "end_time": "2021-12-05T09:00:13.926775",
     "exception": false,
     "start_time": "2021-12-05T09:00:13.865412",
     "status": "completed"
    },
    "tags": []
   },
   "outputs": [],
   "source": []
  }
 ],
 "metadata": {
  "kernelspec": {
   "display_name": "Python 3",
   "language": "python",
   "name": "python3"
  },
  "language_info": {
   "codemirror_mode": {
    "name": "ipython",
    "version": 3
   },
   "file_extension": ".py",
   "mimetype": "text/x-python",
   "name": "python",
   "nbconvert_exporter": "python",
   "pygments_lexer": "ipython3",
   "version": "3.9.5"
  },
  "papermill": {
   "default_parameters": {},
   "duration": 9.929326,
   "end_time": "2021-12-05T09:00:15.195455",
   "environment_variables": {},
   "exception": null,
   "input_path": "eBay_Overview.ipynb",
   "output_path": "eBay_Overview.ipynb",
   "parameters": {},
   "start_time": "2021-12-05T09:00:05.266129",
   "version": "2.3.3"
  }
 },
 "nbformat": 4,
 "nbformat_minor": 5
}