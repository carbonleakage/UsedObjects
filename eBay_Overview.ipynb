{
 "cells": [
  {
   "cell_type": "code",
   "execution_count": 1,
   "id": "reverse-picking",
   "metadata": {
    "execution": {
     "iopub.execute_input": "2021-09-12T19:00:07.408075Z",
     "iopub.status.busy": "2021-09-12T19:00:07.406028Z",
     "iopub.status.idle": "2021-09-12T19:00:08.212659Z",
     "shell.execute_reply": "2021-09-12T19:00:08.213899Z"
    },
    "papermill": {
     "duration": 0.855871,
     "end_time": "2021-09-12T19:00:08.214513",
     "exception": false,
     "start_time": "2021-09-12T19:00:07.358642",
     "status": "completed"
    },
    "tags": []
   },
   "outputs": [],
   "source": [
    "import pandas as pd\n",
    "import sqlite3"
   ]
  },
  {
   "cell_type": "code",
   "execution_count": 2,
   "id": "innovative-syndrome",
   "metadata": {
    "execution": {
     "iopub.execute_input": "2021-09-12T19:00:08.267295Z",
     "iopub.status.busy": "2021-09-12T19:00:08.264924Z",
     "iopub.status.idle": "2021-09-12T19:00:08.535690Z",
     "shell.execute_reply": "2021-09-12T19:00:08.536954Z"
    },
    "papermill": {
     "duration": 0.30069,
     "end_time": "2021-09-12T19:00:08.537353",
     "exception": false,
     "start_time": "2021-09-12T19:00:08.236663",
     "status": "completed"
    },
    "tags": []
   },
   "outputs": [],
   "source": [
    "timestamps = pd.read_sql(\"select distinct record_time from EBAY_TOP_BERLIN order by record_time desc limit 2\", sqlite3.connect(\"UsedObjects.db\"))"
   ]
  },
  {
   "cell_type": "code",
   "execution_count": 3,
   "id": "periodic-identification",
   "metadata": {
    "execution": {
     "iopub.execute_input": "2021-09-12T19:00:08.601315Z",
     "iopub.status.busy": "2021-09-12T19:00:08.599275Z",
     "iopub.status.idle": "2021-09-12T19:00:08.620879Z",
     "shell.execute_reply": "2021-09-12T19:00:08.622098Z"
    },
    "papermill": {
     "duration": 0.065642,
     "end_time": "2021-09-12T19:00:08.622491",
     "exception": false,
     "start_time": "2021-09-12T19:00:08.556849",
     "status": "completed"
    },
    "tags": []
   },
   "outputs": [
    {
     "data": {
      "text/html": [
       "<div>\n",
       "<style scoped>\n",
       "    .dataframe tbody tr th:only-of-type {\n",
       "        vertical-align: middle;\n",
       "    }\n",
       "\n",
       "    .dataframe tbody tr th {\n",
       "        vertical-align: top;\n",
       "    }\n",
       "\n",
       "    .dataframe thead th {\n",
       "        text-align: right;\n",
       "    }\n",
       "</style>\n",
       "<table border=\"1\" class=\"dataframe\">\n",
       "  <thead>\n",
       "    <tr style=\"text-align: right;\">\n",
       "      <th></th>\n",
       "      <th>RECORD_TIME</th>\n",
       "    </tr>\n",
       "  </thead>\n",
       "  <tbody>\n",
       "    <tr>\n",
       "      <th>0</th>\n",
       "      <td>2021-09-12 21:00</td>\n",
       "    </tr>\n",
       "    <tr>\n",
       "      <th>1</th>\n",
       "      <td>2021-09-12 20:30</td>\n",
       "    </tr>\n",
       "  </tbody>\n",
       "</table>\n",
       "</div>"
      ],
      "text/plain": [
       "        RECORD_TIME\n",
       "0  2021-09-12 21:00\n",
       "1  2021-09-12 20:30"
      ]
     },
     "execution_count": 3,
     "metadata": {},
     "output_type": "execute_result"
    }
   ],
   "source": [
    "timestamps"
   ]
  },
  {
   "cell_type": "code",
   "execution_count": 4,
   "id": "alternate-victory",
   "metadata": {
    "execution": {
     "iopub.execute_input": "2021-09-12T19:00:08.674944Z",
     "iopub.status.busy": "2021-09-12T19:00:08.672614Z",
     "iopub.status.idle": "2021-09-12T19:00:09.079477Z",
     "shell.execute_reply": "2021-09-12T19:00:09.077966Z"
    },
    "papermill": {
     "duration": 0.435853,
     "end_time": "2021-09-12T19:00:09.079836",
     "exception": false,
     "start_time": "2021-09-12T19:00:08.643983",
     "status": "completed"
    },
    "tags": []
   },
   "outputs": [],
   "source": [
    "df = pd.read_sql(\"select * from EBAY_TOP_BERLIN where record_time in (select distinct record_time from EBAY_TOP_BERLIN order by record_time desc limit 2)\", sqlite3.connect(\"UsedObjects.db\"))"
   ]
  },
  {
   "cell_type": "code",
   "execution_count": 5,
   "id": "popular-active",
   "metadata": {
    "execution": {
     "iopub.execute_input": "2021-09-12T19:00:09.160686Z",
     "iopub.status.busy": "2021-09-12T19:00:09.147969Z",
     "iopub.status.idle": "2021-09-12T19:00:09.176284Z",
     "shell.execute_reply": "2021-09-12T19:00:09.177488Z"
    },
    "papermill": {
     "duration": 0.071116,
     "end_time": "2021-09-12T19:00:09.177887",
     "exception": false,
     "start_time": "2021-09-12T19:00:09.106771",
     "status": "completed"
    },
    "tags": []
   },
   "outputs": [],
   "source": [
    "df_pivot = df.pivot_table(index=\"PRODUCT\", columns = \"RECORD_TIME\", values = \"LISTING_COUNT\")"
   ]
  },
  {
   "cell_type": "code",
   "execution_count": 6,
   "id": "union-huntington",
   "metadata": {
    "execution": {
     "iopub.execute_input": "2021-09-12T19:00:09.233217Z",
     "iopub.status.busy": "2021-09-12T19:00:09.231182Z",
     "iopub.status.idle": "2021-09-12T19:00:09.236491Z",
     "shell.execute_reply": "2021-09-12T19:00:09.237677Z"
    },
    "papermill": {
     "duration": 0.039806,
     "end_time": "2021-09-12T19:00:09.238107",
     "exception": false,
     "start_time": "2021-09-12T19:00:09.198301",
     "status": "completed"
    },
    "tags": []
   },
   "outputs": [],
   "source": [
    "df_pivot.columns = [\"stamp_1\", \"stamp_2\"]\n",
    "df_pivot_diff = df_pivot.diff(axis=1)"
   ]
  },
  {
   "cell_type": "code",
   "execution_count": 7,
   "id": "fifth-motion",
   "metadata": {
    "execution": {
     "iopub.execute_input": "2021-09-12T19:00:09.291814Z",
     "iopub.status.busy": "2021-09-12T19:00:09.289245Z",
     "iopub.status.idle": "2021-09-12T19:00:10.761207Z",
     "shell.execute_reply": "2021-09-12T19:00:10.762398Z"
    },
    "papermill": {
     "duration": 1.504651,
     "end_time": "2021-09-12T19:00:10.762836",
     "exception": false,
     "start_time": "2021-09-12T19:00:09.258185",
     "status": "completed"
    },
    "tags": []
   },
   "outputs": [
    {
     "data": {
      "text/plain": [
       "<AxesSubplot:ylabel='PRODUCT'>"
      ]
     },
     "execution_count": 7,
     "metadata": {},
     "output_type": "execute_result"
    },
    {
     "data": {
      "image/png": "[encoded data removed]",
      "text/plain": [
       "<Figure size 432x288 with 1 Axes>"
      ]
     },
     "metadata": {
      "needs_background": "light"
     },
     "output_type": "display_data"
    }
   ],
   "source": [
    "df_pivot_diff.sort_values(\"stamp_2\", ascending = False)[\"stamp_2\"].head(10).plot.barh()"
   ]
  },
  {
   "cell_type": "code",
   "execution_count": null,
   "id": "extra-executive",
   "metadata": {
    "papermill": {
     "duration": 0.022038,
     "end_time": "2021-09-12T19:00:10.809052",
     "exception": false,
     "start_time": "2021-09-12T19:00:10.787014",
     "status": "completed"
    },
    "tags": []
   },
   "outputs": [],
   "source": []
  }
 ],
 "metadata": {
  "kernelspec": {
   "display_name": "Python 3",
   "language": "python",
   "name": "python3"
  },
  "language_info": {
   "codemirror_mode": {
    "name": "ipython",
    "version": 3
   },
   "file_extension": ".py",
   "mimetype": "text/x-python",
   "name": "python",
   "nbconvert_exporter": "python",
   "pygments_lexer": "ipython3",
   "version": "3.9.5"
  },
  "papermill": {
   "default_parameters": {},
   "duration": 6.502102,
   "end_time": "2021-09-12T19:00:11.452218",
   "environment_variables": {},
   "exception": null,
   "input_path": "eBay_Overview.ipynb",
   "output_path": "eBay_Overview.ipynb",
   "parameters": {},
   "start_time": "2021-09-12T19:00:04.950116",
   "version": "2.3.3"
  }
 },
 "nbformat": 4,
 "nbformat_minor": 5
}