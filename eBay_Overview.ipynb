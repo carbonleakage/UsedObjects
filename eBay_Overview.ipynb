{
 "cells": [
  {
   "cell_type": "code",
   "execution_count": 1,
   "id": "reverse-picking",
   "metadata": {
    "execution": {
     "iopub.execute_input": "2021-11-18T05:30:07.807558Z",
     "iopub.status.busy": "2021-11-18T05:30:07.805245Z",
     "iopub.status.idle": "2021-11-18T05:30:08.741515Z",
     "shell.execute_reply": "2021-11-18T05:30:08.739466Z"
    },
    "papermill": {
     "duration": 0.997771,
     "end_time": "2021-11-18T05:30:08.742019",
     "exception": false,
     "start_time": "2021-11-18T05:30:07.744248",
     "status": "completed"
    },
    "tags": []
   },
   "outputs": [],
   "source": [
    "import pandas as pd\n",
    "import sqlite3"
   ]
  },
  {
   "cell_type": "code",
   "execution_count": 2,
   "id": "innovative-syndrome",
   "metadata": {
    "execution": {
     "iopub.execute_input": "2021-11-18T05:30:08.798973Z",
     "iopub.status.busy": "2021-11-18T05:30:08.796666Z",
     "iopub.status.idle": "2021-11-18T05:30:09.644935Z",
     "shell.execute_reply": "2021-11-18T05:30:09.646344Z"
    },
    "papermill": {
     "duration": 0.883737,
     "end_time": "2021-11-18T05:30:09.646838",
     "exception": false,
     "start_time": "2021-11-18T05:30:08.763101",
     "status": "completed"
    },
    "tags": []
   },
   "outputs": [],
   "source": [
    "timestamps = pd.read_sql(\"select distinct record_time from EBAY_TOP_BERLIN order by record_time desc limit 2\", sqlite3.connect(\"UsedObjects.db\"))"
   ]
  },
  {
   "cell_type": "code",
   "execution_count": 3,
   "id": "periodic-identification",
   "metadata": {
    "execution": {
     "iopub.execute_input": "2021-11-18T05:30:09.718996Z",
     "iopub.status.busy": "2021-11-18T05:30:09.716551Z",
     "iopub.status.idle": "2021-11-18T05:30:09.739812Z",
     "shell.execute_reply": "2021-11-18T05:30:09.741489Z"
    },
    "papermill": {
     "duration": 0.073907,
     "end_time": "2021-11-18T05:30:09.741992",
     "exception": false,
     "start_time": "2021-11-18T05:30:09.668085",
     "status": "completed"
    },
    "tags": []
   },
   "outputs": [
    {
     "data": {
      "text/html": [
       "<div>\n",
       "<style scoped>\n",
       "    .dataframe tbody tr th:only-of-type {\n",
       "        vertical-align: middle;\n",
       "    }\n",
       "\n",
       "    .dataframe tbody tr th {\n",
       "        vertical-align: top;\n",
       "    }\n",
       "\n",
       "    .dataframe thead th {\n",
       "        text-align: right;\n",
       "    }\n",
       "</style>\n",
       "<table border=\"1\" class=\"dataframe\">\n",
       "  <thead>\n",
       "    <tr style=\"text-align: right;\">\n",
       "      <th></th>\n",
       "      <th>RECORD_TIME</th>\n",
       "    </tr>\n",
       "  </thead>\n",
       "  <tbody>\n",
       "    <tr>\n",
       "      <th>0</th>\n",
       "      <td>2021-11-18 06:30</td>\n",
       "    </tr>\n",
       "    <tr>\n",
       "      <th>1</th>\n",
       "      <td>2021-11-18 06:00</td>\n",
       "    </tr>\n",
       "  </tbody>\n",
       "</table>\n",
       "</div>"
      ],
      "text/plain": [
       "        RECORD_TIME\n",
       "0  2021-11-18 06:30\n",
       "1  2021-11-18 06:00"
      ]
     },
     "execution_count": 3,
     "metadata": {},
     "output_type": "execute_result"
    }
   ],
   "source": [
    "timestamps"
   ]
  },
  {
   "cell_type": "code",
   "execution_count": 4,
   "id": "alternate-victory",
   "metadata": {
    "execution": {
     "iopub.execute_input": "2021-11-18T05:30:09.810573Z",
     "iopub.status.busy": "2021-11-18T05:30:09.803004Z",
     "iopub.status.idle": "2021-11-18T05:30:11.001421Z",
     "shell.execute_reply": "2021-11-18T05:30:11.002649Z"
    },
    "papermill": {
     "duration": 1.239461,
     "end_time": "2021-11-18T05:30:11.003046",
     "exception": false,
     "start_time": "2021-11-18T05:30:09.763585",
     "status": "completed"
    },
    "tags": []
   },
   "outputs": [],
   "source": [
    "df = pd.read_sql(\"select * from EBAY_TOP_BERLIN where record_time in (select distinct record_time from EBAY_TOP_BERLIN order by record_time desc limit 2)\", sqlite3.connect(\"UsedObjects.db\"))"
   ]
  },
  {
   "cell_type": "code",
   "execution_count": 5,
   "id": "popular-active",
   "metadata": {
    "execution": {
     "iopub.execute_input": "2021-11-18T05:30:11.077714Z",
     "iopub.status.busy": "2021-11-18T05:30:11.065487Z",
     "iopub.status.idle": "2021-11-18T05:30:11.094066Z",
     "shell.execute_reply": "2021-11-18T05:30:11.095436Z"
    },
    "papermill": {
     "duration": 0.069372,
     "end_time": "2021-11-18T05:30:11.095869",
     "exception": false,
     "start_time": "2021-11-18T05:30:11.026497",
     "status": "completed"
    },
    "tags": []
   },
   "outputs": [],
   "source": [
    "df_pivot = df.pivot_table(index=\"PRODUCT\", columns = \"RECORD_TIME\", values = \"LISTING_COUNT\")"
   ]
  },
  {
   "cell_type": "code",
   "execution_count": 6,
   "id": "union-huntington",
   "metadata": {
    "execution": {
     "iopub.execute_input": "2021-11-18T05:30:11.157861Z",
     "iopub.status.busy": "2021-11-18T05:30:11.155212Z",
     "iopub.status.idle": "2021-11-18T05:30:11.161070Z",
     "shell.execute_reply": "2021-11-18T05:30:11.162620Z"
    },
    "papermill": {
     "duration": 0.043811,
     "end_time": "2021-11-18T05:30:11.163092",
     "exception": false,
     "start_time": "2021-11-18T05:30:11.119281",
     "status": "completed"
    },
    "tags": []
   },
   "outputs": [],
   "source": [
    "df_pivot.columns = [\"stamp_1\", \"stamp_2\"]\n",
    "df_pivot_diff = df_pivot.diff(axis=1)"
   ]
  },
  {
   "cell_type": "code",
   "execution_count": 7,
   "id": "fifth-motion",
   "metadata": {
    "execution": {
     "iopub.execute_input": "2021-11-18T05:30:11.218932Z",
     "iopub.status.busy": "2021-11-18T05:30:11.216324Z",
     "iopub.status.idle": "2021-11-18T05:30:13.013046Z",
     "shell.execute_reply": "2021-11-18T05:30:13.015115Z"
    },
    "papermill": {
     "duration": 1.831512,
     "end_time": "2021-11-18T05:30:13.015613",
     "exception": false,
     "start_time": "2021-11-18T05:30:11.184101",
     "status": "completed"
    },
    "tags": []
   },
   "outputs": [
    {
     "data": {
      "text/plain": [
       "<AxesSubplot:ylabel='PRODUCT'>"
      ]
     },
     "execution_count": 7,
     "metadata": {},
     "output_type": "execute_result"
    },
    {
     "data": {
      "image/png": "[encoded data removed]",
      "text/plain": [
       "<Figure size 432x288 with 1 Axes>"
      ]
     },
     "metadata": {
      "needs_background": "light"
     },
     "output_type": "display_data"
    }
   ],
   "source": [
    "df_pivot_diff.sort_values(\"stamp_2\", ascending = False)[\"stamp_2\"].head(10).plot.barh()"
   ]
  },
  {
   "cell_type": "code",
   "execution_count": null,
   "id": "extra-executive",
   "metadata": {
    "papermill": {
     "duration": 0.023508,
     "end_time": "2021-11-18T05:30:13.063111",
     "exception": false,
     "start_time": "2021-11-18T05:30:13.039603",
     "status": "completed"
    },
    "tags": []
   },
   "outputs": [],
   "source": []
  }
 ],
 "metadata": {
  "kernelspec": {
   "display_name": "Python 3",
   "language": "python",
   "name": "python3"
  },
  "language_info": {
   "codemirror_mode": {
    "name": "ipython",
    "version": 3
   },
   "file_extension": ".py",
   "mimetype": "text/x-python",
   "name": "python",
   "nbconvert_exporter": "python",
   "pygments_lexer": "ipython3",
   "version": "3.9.5"
  },
  "papermill": {
   "default_parameters": {},
   "duration": 8.808131,
   "end_time": "2021-11-18T05:30:13.807482",
   "environment_variables": {},
   "exception": null,
   "input_path": "eBay_Overview.ipynb",
   "output_path": "eBay_Overview.ipynb",
   "parameters": {},
   "start_time": "2021-11-18T05:30:04.999351",
   "version": "2.3.3"
  }
 },
 "nbformat": 4,
 "nbformat_minor": 5
}