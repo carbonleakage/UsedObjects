{
 "cells": [
  {
   "cell_type": "code",
   "execution_count": 1,
   "id": "reverse-picking",
   "metadata": {
    "execution": {
     "iopub.execute_input": "2021-09-18T02:30:07.495673Z",
     "iopub.status.busy": "2021-09-18T02:30:07.493669Z",
     "iopub.status.idle": "2021-09-18T02:30:08.296343Z",
     "shell.execute_reply": "2021-09-18T02:30:08.297512Z"
    },
    "papermill": {
     "duration": 0.852541,
     "end_time": "2021-09-18T02:30:08.298125",
     "exception": false,
     "start_time": "2021-09-18T02:30:07.445584",
     "status": "completed"
    },
    "tags": []
   },
   "outputs": [],
   "source": [
    "import pandas as pd\n",
    "import sqlite3"
   ]
  },
  {
   "cell_type": "code",
   "execution_count": 2,
   "id": "innovative-syndrome",
   "metadata": {
    "execution": {
     "iopub.execute_input": "2021-09-18T02:30:08.349905Z",
     "iopub.status.busy": "2021-09-18T02:30:08.348055Z",
     "iopub.status.idle": "2021-09-18T02:30:08.656772Z",
     "shell.execute_reply": "2021-09-18T02:30:08.657979Z"
    },
    "papermill": {
     "duration": 0.338306,
     "end_time": "2021-09-18T02:30:08.658372",
     "exception": false,
     "start_time": "2021-09-18T02:30:08.320066",
     "status": "completed"
    },
    "tags": []
   },
   "outputs": [],
   "source": [
    "timestamps = pd.read_sql(\"select distinct record_time from EBAY_TOP_BERLIN order by record_time desc limit 2\", sqlite3.connect(\"UsedObjects.db\"))"
   ]
  },
  {
   "cell_type": "code",
   "execution_count": 3,
   "id": "periodic-identification",
   "metadata": {
    "execution": {
     "iopub.execute_input": "2021-09-18T02:30:08.722748Z",
     "iopub.status.busy": "2021-09-18T02:30:08.720730Z",
     "iopub.status.idle": "2021-09-18T02:30:08.740399Z",
     "shell.execute_reply": "2021-09-18T02:30:08.741610Z"
    },
    "papermill": {
     "duration": 0.063154,
     "end_time": "2021-09-18T02:30:08.742003",
     "exception": false,
     "start_time": "2021-09-18T02:30:08.678849",
     "status": "completed"
    },
    "tags": []
   },
   "outputs": [
    {
     "data": {
      "text/html": [
       "<div>\n",
       "<style scoped>\n",
       "    .dataframe tbody tr th:only-of-type {\n",
       "        vertical-align: middle;\n",
       "    }\n",
       "\n",
       "    .dataframe tbody tr th {\n",
       "        vertical-align: top;\n",
       "    }\n",
       "\n",
       "    .dataframe thead th {\n",
       "        text-align: right;\n",
       "    }\n",
       "</style>\n",
       "<table border=\"1\" class=\"dataframe\">\n",
       "  <thead>\n",
       "    <tr style=\"text-align: right;\">\n",
       "      <th></th>\n",
       "      <th>RECORD_TIME</th>\n",
       "    </tr>\n",
       "  </thead>\n",
       "  <tbody>\n",
       "    <tr>\n",
       "      <th>0</th>\n",
       "      <td>2021-09-18 04:30</td>\n",
       "    </tr>\n",
       "    <tr>\n",
       "      <th>1</th>\n",
       "      <td>2021-09-18 04:00</td>\n",
       "    </tr>\n",
       "  </tbody>\n",
       "</table>\n",
       "</div>"
      ],
      "text/plain": [
       "        RECORD_TIME\n",
       "0  2021-09-18 04:30\n",
       "1  2021-09-18 04:00"
      ]
     },
     "execution_count": 3,
     "metadata": {},
     "output_type": "execute_result"
    }
   ],
   "source": [
    "timestamps"
   ]
  },
  {
   "cell_type": "code",
   "execution_count": 4,
   "id": "alternate-victory",
   "metadata": {
    "execution": {
     "iopub.execute_input": "2021-09-18T02:30:08.795340Z",
     "iopub.status.busy": "2021-09-18T02:30:08.792989Z",
     "iopub.status.idle": "2021-09-18T02:30:09.258671Z",
     "shell.execute_reply": "2021-09-18T02:30:09.257363Z"
    },
    "papermill": {
     "duration": 0.495035,
     "end_time": "2021-09-18T02:30:09.259082",
     "exception": false,
     "start_time": "2021-09-18T02:30:08.764047",
     "status": "completed"
    },
    "tags": []
   },
   "outputs": [],
   "source": [
    "df = pd.read_sql(\"select * from EBAY_TOP_BERLIN where record_time in (select distinct record_time from EBAY_TOP_BERLIN order by record_time desc limit 2)\", sqlite3.connect(\"UsedObjects.db\"))"
   ]
  },
  {
   "cell_type": "code",
   "execution_count": 5,
   "id": "popular-active",
   "metadata": {
    "execution": {
     "iopub.execute_input": "2021-09-18T02:30:09.340180Z",
     "iopub.status.busy": "2021-09-18T02:30:09.327691Z",
     "iopub.status.idle": "2021-09-18T02:30:09.356194Z",
     "shell.execute_reply": "2021-09-18T02:30:09.357502Z"
    },
    "papermill": {
     "duration": 0.071533,
     "end_time": "2021-09-18T02:30:09.357915",
     "exception": false,
     "start_time": "2021-09-18T02:30:09.286382",
     "status": "completed"
    },
    "tags": []
   },
   "outputs": [],
   "source": [
    "df_pivot = df.pivot_table(index=\"PRODUCT\", columns = \"RECORD_TIME\", values = \"LISTING_COUNT\")"
   ]
  },
  {
   "cell_type": "code",
   "execution_count": 6,
   "id": "union-huntington",
   "metadata": {
    "execution": {
     "iopub.execute_input": "2021-09-18T02:30:09.414964Z",
     "iopub.status.busy": "2021-09-18T02:30:09.412495Z",
     "iopub.status.idle": "2021-09-18T02:30:09.417901Z",
     "shell.execute_reply": "2021-09-18T02:30:09.419281Z"
    },
    "papermill": {
     "duration": 0.042081,
     "end_time": "2021-09-18T02:30:09.419697",
     "exception": false,
     "start_time": "2021-09-18T02:30:09.377616",
     "status": "completed"
    },
    "tags": []
   },
   "outputs": [],
   "source": [
    "df_pivot.columns = [\"stamp_1\", \"stamp_2\"]\n",
    "df_pivot_diff = df_pivot.diff(axis=1)"
   ]
  },
  {
   "cell_type": "code",
   "execution_count": 7,
   "id": "fifth-motion",
   "metadata": {
    "execution": {
     "iopub.execute_input": "2021-09-18T02:30:09.474160Z",
     "iopub.status.busy": "2021-09-18T02:30:09.471862Z",
     "iopub.status.idle": "2021-09-18T02:30:10.984151Z",
     "shell.execute_reply": "2021-09-18T02:30:10.985416Z"
    },
    "papermill": {
     "duration": 1.545502,
     "end_time": "2021-09-18T02:30:10.985831",
     "exception": false,
     "start_time": "2021-09-18T02:30:09.440329",
     "status": "completed"
    },
    "tags": []
   },
   "outputs": [
    {
     "data": {
      "text/plain": [
       "<AxesSubplot:ylabel='PRODUCT'>"
      ]
     },
     "execution_count": 7,
     "metadata": {},
     "output_type": "execute_result"
    },
    {
     "data": {
      "image/png": "[encoded data removed]",
      "text/plain": [
       "<Figure size 432x288 with 1 Axes>"
      ]
     },
     "metadata": {
      "needs_background": "light"
     },
     "output_type": "display_data"
    }
   ],
   "source": [
    "df_pivot_diff.sort_values(\"stamp_2\", ascending = False)[\"stamp_2\"].head(10).plot.barh()"
   ]
  },
  {
   "cell_type": "code",
   "execution_count": null,
   "id": "extra-executive",
   "metadata": {
    "papermill": {
     "duration": 0.022495,
     "end_time": "2021-09-18T02:30:11.031586",
     "exception": false,
     "start_time": "2021-09-18T02:30:11.009091",
     "status": "completed"
    },
    "tags": []
   },
   "outputs": [],
   "source": []
  }
 ],
 "metadata": {
  "kernelspec": {
   "display_name": "Python 3",
   "language": "python",
   "name": "python3"
  },
  "language_info": {
   "codemirror_mode": {
    "name": "ipython",
    "version": 3
   },
   "file_extension": ".py",
   "mimetype": "text/x-python",
   "name": "python",
   "nbconvert_exporter": "python",
   "pygments_lexer": "ipython3",
   "version": "3.9.5"
  },
  "papermill": {
   "default_parameters": {},
   "duration": 6.620264,
   "end_time": "2021-09-18T02:30:11.673934",
   "environment_variables": {},
   "exception": null,
   "input_path": "eBay_Overview.ipynb",
   "output_path": "eBay_Overview.ipynb",
   "parameters": {},
   "start_time": "2021-09-18T02:30:05.053670",
   "version": "2.3.3"
  }
 },
 "nbformat": 4,
 "nbformat_minor": 5
}