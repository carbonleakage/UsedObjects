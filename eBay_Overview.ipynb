{
 "cells": [
  {
   "cell_type": "code",
   "execution_count": 1,
   "id": "reverse-picking",
   "metadata": {
    "execution": {
     "iopub.execute_input": "2021-09-24T21:00:06.869571Z",
     "iopub.status.busy": "2021-09-24T21:00:06.867658Z",
     "iopub.status.idle": "2021-09-24T21:00:07.672172Z",
     "shell.execute_reply": "2021-09-24T21:00:07.673400Z"
    },
    "papermill": {
     "duration": 0.854753,
     "end_time": "2021-09-24T21:00:07.674008",
     "exception": false,
     "start_time": "2021-09-24T21:00:06.819255",
     "status": "completed"
    },
    "tags": []
   },
   "outputs": [],
   "source": [
    "import pandas as pd\n",
    "import sqlite3"
   ]
  },
  {
   "cell_type": "code",
   "execution_count": 2,
   "id": "innovative-syndrome",
   "metadata": {
    "execution": {
     "iopub.execute_input": "2021-09-24T21:00:07.725251Z",
     "iopub.status.busy": "2021-09-24T21:00:07.723415Z",
     "iopub.status.idle": "2021-09-24T21:00:08.087014Z",
     "shell.execute_reply": "2021-09-24T21:00:08.088500Z"
    },
    "papermill": {
     "duration": 0.393353,
     "end_time": "2021-09-24T21:00:08.088943",
     "exception": false,
     "start_time": "2021-09-24T21:00:07.695590",
     "status": "completed"
    },
    "tags": []
   },
   "outputs": [],
   "source": [
    "timestamps = pd.read_sql(\"select distinct record_time from EBAY_TOP_BERLIN order by record_time desc limit 2\", sqlite3.connect(\"UsedObjects.db\"))"
   ]
  },
  {
   "cell_type": "code",
   "execution_count": 3,
   "id": "periodic-identification",
   "metadata": {
    "execution": {
     "iopub.execute_input": "2021-09-24T21:00:08.152863Z",
     "iopub.status.busy": "2021-09-24T21:00:08.150862Z",
     "iopub.status.idle": "2021-09-24T21:00:08.170390Z",
     "shell.execute_reply": "2021-09-24T21:00:08.171770Z"
    },
    "papermill": {
     "duration": 0.064145,
     "end_time": "2021-09-24T21:00:08.172206",
     "exception": false,
     "start_time": "2021-09-24T21:00:08.108061",
     "status": "completed"
    },
    "tags": []
   },
   "outputs": [
    {
     "data": {
      "text/html": [
       "<div>\n",
       "<style scoped>\n",
       "    .dataframe tbody tr th:only-of-type {\n",
       "        vertical-align: middle;\n",
       "    }\n",
       "\n",
       "    .dataframe tbody tr th {\n",
       "        vertical-align: top;\n",
       "    }\n",
       "\n",
       "    .dataframe thead th {\n",
       "        text-align: right;\n",
       "    }\n",
       "</style>\n",
       "<table border=\"1\" class=\"dataframe\">\n",
       "  <thead>\n",
       "    <tr style=\"text-align: right;\">\n",
       "      <th></th>\n",
       "      <th>RECORD_TIME</th>\n",
       "    </tr>\n",
       "  </thead>\n",
       "  <tbody>\n",
       "    <tr>\n",
       "      <th>0</th>\n",
       "      <td>2021-09-24 23:00</td>\n",
       "    </tr>\n",
       "    <tr>\n",
       "      <th>1</th>\n",
       "      <td>2021-09-24 22:30</td>\n",
       "    </tr>\n",
       "  </tbody>\n",
       "</table>\n",
       "</div>"
      ],
      "text/plain": [
       "        RECORD_TIME\n",
       "0  2021-09-24 23:00\n",
       "1  2021-09-24 22:30"
      ]
     },
     "execution_count": 3,
     "metadata": {},
     "output_type": "execute_result"
    }
   ],
   "source": [
    "timestamps"
   ]
  },
  {
   "cell_type": "code",
   "execution_count": 4,
   "id": "alternate-victory",
   "metadata": {
    "execution": {
     "iopub.execute_input": "2021-09-24T21:00:08.224167Z",
     "iopub.status.busy": "2021-09-24T21:00:08.222117Z",
     "iopub.status.idle": "2021-09-24T21:00:08.773347Z",
     "shell.execute_reply": "2021-09-24T21:00:08.774546Z"
    },
    "papermill": {
     "duration": 0.581083,
     "end_time": "2021-09-24T21:00:08.775008",
     "exception": false,
     "start_time": "2021-09-24T21:00:08.193925",
     "status": "completed"
    },
    "tags": []
   },
   "outputs": [],
   "source": [
    "df = pd.read_sql(\"select * from EBAY_TOP_BERLIN where record_time in (select distinct record_time from EBAY_TOP_BERLIN order by record_time desc limit 2)\", sqlite3.connect(\"UsedObjects.db\"))"
   ]
  },
  {
   "cell_type": "code",
   "execution_count": 5,
   "id": "popular-active",
   "metadata": {
    "execution": {
     "iopub.execute_input": "2021-09-24T21:00:08.848293Z",
     "iopub.status.busy": "2021-09-24T21:00:08.836334Z",
     "iopub.status.idle": "2021-09-24T21:00:08.863846Z",
     "shell.execute_reply": "2021-09-24T21:00:08.865060Z"
    },
    "papermill": {
     "duration": 0.067989,
     "end_time": "2021-09-24T21:00:08.865456",
     "exception": false,
     "start_time": "2021-09-24T21:00:08.797467",
     "status": "completed"
    },
    "tags": []
   },
   "outputs": [],
   "source": [
    "df_pivot = df.pivot_table(index=\"PRODUCT\", columns = \"RECORD_TIME\", values = \"LISTING_COUNT\")"
   ]
  },
  {
   "cell_type": "code",
   "execution_count": 6,
   "id": "union-huntington",
   "metadata": {
    "execution": {
     "iopub.execute_input": "2021-09-24T21:00:08.924404Z",
     "iopub.status.busy": "2021-09-24T21:00:08.921961Z",
     "iopub.status.idle": "2021-09-24T21:00:08.928405Z",
     "shell.execute_reply": "2021-09-24T21:00:08.929836Z"
    },
    "papermill": {
     "duration": 0.042657,
     "end_time": "2021-09-24T21:00:08.930303",
     "exception": false,
     "start_time": "2021-09-24T21:00:08.887646",
     "status": "completed"
    },
    "tags": []
   },
   "outputs": [],
   "source": [
    "df_pivot.columns = [\"stamp_1\", \"stamp_2\"]\n",
    "df_pivot_diff = df_pivot.diff(axis=1)"
   ]
  },
  {
   "cell_type": "code",
   "execution_count": 7,
   "id": "fifth-motion",
   "metadata": {
    "execution": {
     "iopub.execute_input": "2021-09-24T21:00:08.984990Z",
     "iopub.status.busy": "2021-09-24T21:00:08.982556Z",
     "iopub.status.idle": "2021-09-24T21:00:10.453457Z",
     "shell.execute_reply": "2021-09-24T21:00:10.451842Z"
    },
    "papermill": {
     "duration": 1.502247,
     "end_time": "2021-09-24T21:00:10.453858",
     "exception": false,
     "start_time": "2021-09-24T21:00:08.951611",
     "status": "completed"
    },
    "tags": []
   },
   "outputs": [
    {
     "data": {
      "text/plain": [
       "<AxesSubplot:ylabel='PRODUCT'>"
      ]
     },
     "execution_count": 7,
     "metadata": {},
     "output_type": "execute_result"
    },
    {
     "data": {
      "image/png": "[encoded data removed]",
      "text/plain": [
       "<Figure size 432x288 with 1 Axes>"
      ]
     },
     "metadata": {
      "needs_background": "light"
     },
     "output_type": "display_data"
    }
   ],
   "source": [
    "df_pivot_diff.sort_values(\"stamp_2\", ascending = False)[\"stamp_2\"].head(10).plot.barh()"
   ]
  },
  {
   "cell_type": "code",
   "execution_count": null,
   "id": "extra-executive",
   "metadata": {
    "papermill": {
     "duration": 0.02237,
     "end_time": "2021-09-24T21:00:10.501025",
     "exception": false,
     "start_time": "2021-09-24T21:00:10.478655",
     "status": "completed"
    },
    "tags": []
   },
   "outputs": [],
   "source": []
  }
 ],
 "metadata": {
  "kernelspec": {
   "display_name": "Python 3",
   "language": "python",
   "name": "python3"
  },
  "language_info": {
   "codemirror_mode": {
    "name": "ipython",
    "version": 3
   },
   "file_extension": ".py",
   "mimetype": "text/x-python",
   "name": "python",
   "nbconvert_exporter": "python",
   "pygments_lexer": "ipython3",
   "version": "3.9.5"
  },
  "papermill": {
   "default_parameters": {},
   "duration": 6.728792,
   "end_time": "2021-09-24T21:00:11.144161",
   "environment_variables": {},
   "exception": null,
   "input_path": "eBay_Overview.ipynb",
   "output_path": "eBay_Overview.ipynb",
   "parameters": {},
   "start_time": "2021-09-24T21:00:04.415369",
   "version": "2.3.3"
  }
 },
 "nbformat": 4,
 "nbformat_minor": 5
}