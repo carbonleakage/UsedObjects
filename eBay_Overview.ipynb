{
 "cells": [
  {
   "cell_type": "code",
   "execution_count": 1,
   "id": "reverse-picking",
   "metadata": {
    "execution": {
     "iopub.execute_input": "2021-09-14T06:00:06.988650Z",
     "iopub.status.busy": "2021-09-14T06:00:06.986611Z",
     "iopub.status.idle": "2021-09-14T06:00:07.791421Z",
     "shell.execute_reply": "2021-09-14T06:00:07.792702Z"
    },
    "papermill": {
     "duration": 0.855955,
     "end_time": "2021-09-14T06:00:07.793315",
     "exception": false,
     "start_time": "2021-09-14T06:00:06.937360",
     "status": "completed"
    },
    "tags": []
   },
   "outputs": [],
   "source": [
    "import pandas as pd\n",
    "import sqlite3"
   ]
  },
  {
   "cell_type": "code",
   "execution_count": 2,
   "id": "innovative-syndrome",
   "metadata": {
    "execution": {
     "iopub.execute_input": "2021-09-14T06:00:07.843796Z",
     "iopub.status.busy": "2021-09-14T06:00:07.841832Z",
     "iopub.status.idle": "2021-09-14T06:00:08.121506Z",
     "shell.execute_reply": "2021-09-14T06:00:08.122776Z"
    },
    "papermill": {
     "duration": 0.30897,
     "end_time": "2021-09-14T06:00:08.123267",
     "exception": false,
     "start_time": "2021-09-14T06:00:07.814297",
     "status": "completed"
    },
    "tags": []
   },
   "outputs": [],
   "source": [
    "timestamps = pd.read_sql(\"select distinct record_time from EBAY_TOP_BERLIN order by record_time desc limit 2\", sqlite3.connect(\"UsedObjects.db\"))"
   ]
  },
  {
   "cell_type": "code",
   "execution_count": 3,
   "id": "periodic-identification",
   "metadata": {
    "execution": {
     "iopub.execute_input": "2021-09-14T06:00:08.192849Z",
     "iopub.status.busy": "2021-09-14T06:00:08.187742Z",
     "iopub.status.idle": "2021-09-14T06:00:08.208012Z",
     "shell.execute_reply": "2021-09-14T06:00:08.209222Z"
    },
    "papermill": {
     "duration": 0.067131,
     "end_time": "2021-09-14T06:00:08.209649",
     "exception": false,
     "start_time": "2021-09-14T06:00:08.142518",
     "status": "completed"
    },
    "tags": []
   },
   "outputs": [
    {
     "data": {
      "text/html": [
       "<div>\n",
       "<style scoped>\n",
       "    .dataframe tbody tr th:only-of-type {\n",
       "        vertical-align: middle;\n",
       "    }\n",
       "\n",
       "    .dataframe tbody tr th {\n",
       "        vertical-align: top;\n",
       "    }\n",
       "\n",
       "    .dataframe thead th {\n",
       "        text-align: right;\n",
       "    }\n",
       "</style>\n",
       "<table border=\"1\" class=\"dataframe\">\n",
       "  <thead>\n",
       "    <tr style=\"text-align: right;\">\n",
       "      <th></th>\n",
       "      <th>RECORD_TIME</th>\n",
       "    </tr>\n",
       "  </thead>\n",
       "  <tbody>\n",
       "    <tr>\n",
       "      <th>0</th>\n",
       "      <td>2021-09-14 08:00</td>\n",
       "    </tr>\n",
       "    <tr>\n",
       "      <th>1</th>\n",
       "      <td>2021-09-14 07:30</td>\n",
       "    </tr>\n",
       "  </tbody>\n",
       "</table>\n",
       "</div>"
      ],
      "text/plain": [
       "        RECORD_TIME\n",
       "0  2021-09-14 08:00\n",
       "1  2021-09-14 07:30"
      ]
     },
     "execution_count": 3,
     "metadata": {},
     "output_type": "execute_result"
    }
   ],
   "source": [
    "timestamps"
   ]
  },
  {
   "cell_type": "code",
   "execution_count": 4,
   "id": "alternate-victory",
   "metadata": {
    "execution": {
     "iopub.execute_input": "2021-09-14T06:00:08.262956Z",
     "iopub.status.busy": "2021-09-14T06:00:08.260645Z",
     "iopub.status.idle": "2021-09-14T06:00:08.676397Z",
     "shell.execute_reply": "2021-09-14T06:00:08.677638Z"
    },
    "papermill": {
     "duration": 0.446043,
     "end_time": "2021-09-14T06:00:08.678033",
     "exception": false,
     "start_time": "2021-09-14T06:00:08.231990",
     "status": "completed"
    },
    "tags": []
   },
   "outputs": [],
   "source": [
    "df = pd.read_sql(\"select * from EBAY_TOP_BERLIN where record_time in (select distinct record_time from EBAY_TOP_BERLIN order by record_time desc limit 2)\", sqlite3.connect(\"UsedObjects.db\"))"
   ]
  },
  {
   "cell_type": "code",
   "execution_count": 5,
   "id": "popular-active",
   "metadata": {
    "execution": {
     "iopub.execute_input": "2021-09-14T06:00:08.756277Z",
     "iopub.status.busy": "2021-09-14T06:00:08.744248Z",
     "iopub.status.idle": "2021-09-14T06:00:08.772064Z",
     "shell.execute_reply": "2021-09-14T06:00:08.773381Z"
    },
    "papermill": {
     "duration": 0.070226,
     "end_time": "2021-09-14T06:00:08.773795",
     "exception": false,
     "start_time": "2021-09-14T06:00:08.703569",
     "status": "completed"
    },
    "tags": []
   },
   "outputs": [],
   "source": [
    "df_pivot = df.pivot_table(index=\"PRODUCT\", columns = \"RECORD_TIME\", values = \"LISTING_COUNT\")"
   ]
  },
  {
   "cell_type": "code",
   "execution_count": 6,
   "id": "union-huntington",
   "metadata": {
    "execution": {
     "iopub.execute_input": "2021-09-14T06:00:08.830106Z",
     "iopub.status.busy": "2021-09-14T06:00:08.827649Z",
     "iopub.status.idle": "2021-09-14T06:00:08.833196Z",
     "shell.execute_reply": "2021-09-14T06:00:08.834391Z"
    },
    "papermill": {
     "duration": 0.041662,
     "end_time": "2021-09-14T06:00:08.834816",
     "exception": false,
     "start_time": "2021-09-14T06:00:08.793154",
     "status": "completed"
    },
    "tags": []
   },
   "outputs": [],
   "source": [
    "df_pivot.columns = [\"stamp_1\", \"stamp_2\"]\n",
    "df_pivot_diff = df_pivot.diff(axis=1)"
   ]
  },
  {
   "cell_type": "code",
   "execution_count": 7,
   "id": "fifth-motion",
   "metadata": {
    "execution": {
     "iopub.execute_input": "2021-09-14T06:00:08.887252Z",
     "iopub.status.busy": "2021-09-14T06:00:08.884888Z",
     "iopub.status.idle": "2021-09-14T06:00:10.371867Z",
     "shell.execute_reply": "2021-09-14T06:00:10.373246Z"
    },
    "papermill": {
     "duration": 1.519488,
     "end_time": "2021-09-14T06:00:10.373683",
     "exception": false,
     "start_time": "2021-09-14T06:00:08.854195",
     "status": "completed"
    },
    "tags": []
   },
   "outputs": [
    {
     "data": {
      "text/plain": [
       "<AxesSubplot:ylabel='PRODUCT'>"
      ]
     },
     "execution_count": 7,
     "metadata": {},
     "output_type": "execute_result"
    },
    {
     "data": {
      "image/png": "[encoded data removed]",
      "text/plain": [
       "<Figure size 432x288 with 1 Axes>"
      ]
     },
     "metadata": {
      "needs_background": "light"
     },
     "output_type": "display_data"
    }
   ],
   "source": [
    "df_pivot_diff.sort_values(\"stamp_2\", ascending = False)[\"stamp_2\"].head(10).plot.barh()"
   ]
  },
  {
   "cell_type": "code",
   "execution_count": null,
   "id": "extra-executive",
   "metadata": {
    "papermill": {
     "duration": 0.021872,
     "end_time": "2021-09-14T06:00:10.419620",
     "exception": false,
     "start_time": "2021-09-14T06:00:10.397748",
     "status": "completed"
    },
    "tags": []
   },
   "outputs": [],
   "source": []
  }
 ],
 "metadata": {
  "kernelspec": {
   "display_name": "Python 3",
   "language": "python",
   "name": "python3"
  },
  "language_info": {
   "codemirror_mode": {
    "name": "ipython",
    "version": 3
   },
   "file_extension": ".py",
   "mimetype": "text/x-python",
   "name": "python",
   "nbconvert_exporter": "python",
   "pygments_lexer": "ipython3",
   "version": "3.9.5"
  },
  "papermill": {
   "default_parameters": {},
   "duration": 6.532171,
   "end_time": "2021-09-14T06:00:11.062683",
   "environment_variables": {},
   "exception": null,
   "input_path": "eBay_Overview.ipynb",
   "output_path": "eBay_Overview.ipynb",
   "parameters": {},
   "start_time": "2021-09-14T06:00:04.530512",
   "version": "2.3.3"
  }
 },
 "nbformat": 4,
 "nbformat_minor": 5
}