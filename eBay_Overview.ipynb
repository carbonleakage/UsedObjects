{
 "cells": [
  {
   "cell_type": "code",
   "execution_count": 1,
   "id": "reverse-picking",
   "metadata": {
    "execution": {
     "iopub.execute_input": "2021-09-07T12:30:06.701370Z",
     "iopub.status.busy": "2021-09-07T12:30:06.699454Z",
     "iopub.status.idle": "2021-09-07T12:30:07.508283Z",
     "shell.execute_reply": "2021-09-07T12:30:07.509706Z"
    },
    "papermill": {
     "duration": 0.862797,
     "end_time": "2021-09-07T12:30:07.510400",
     "exception": false,
     "start_time": "2021-09-07T12:30:06.647603",
     "status": "completed"
    },
    "tags": []
   },
   "outputs": [],
   "source": [
    "import pandas as pd\n",
    "import sqlite3"
   ]
  },
  {
   "cell_type": "code",
   "execution_count": 2,
   "id": "innovative-syndrome",
   "metadata": {
    "execution": {
     "iopub.execute_input": "2021-09-07T12:30:07.561678Z",
     "iopub.status.busy": "2021-09-07T12:30:07.559375Z",
     "iopub.status.idle": "2021-09-07T12:30:07.787605Z",
     "shell.execute_reply": "2021-09-07T12:30:07.788723Z"
    },
    "papermill": {
     "duration": 0.258377,
     "end_time": "2021-09-07T12:30:07.789129",
     "exception": false,
     "start_time": "2021-09-07T12:30:07.530752",
     "status": "completed"
    },
    "tags": []
   },
   "outputs": [],
   "source": [
    "timestamps = pd.read_sql(\"select distinct record_time from EBAY_TOP_BERLIN order by record_time desc limit 2\", sqlite3.connect(\"UsedObjects.db\"))"
   ]
  },
  {
   "cell_type": "code",
   "execution_count": 3,
   "id": "periodic-identification",
   "metadata": {
    "execution": {
     "iopub.execute_input": "2021-09-07T12:30:07.853685Z",
     "iopub.status.busy": "2021-09-07T12:30:07.851660Z",
     "iopub.status.idle": "2021-09-07T12:30:07.871765Z",
     "shell.execute_reply": "2021-09-07T12:30:07.872990Z"
    },
    "papermill": {
     "duration": 0.063598,
     "end_time": "2021-09-07T12:30:07.873381",
     "exception": false,
     "start_time": "2021-09-07T12:30:07.809783",
     "status": "completed"
    },
    "tags": []
   },
   "outputs": [
    {
     "data": {
      "text/html": [
       "<div>\n",
       "<style scoped>\n",
       "    .dataframe tbody tr th:only-of-type {\n",
       "        vertical-align: middle;\n",
       "    }\n",
       "\n",
       "    .dataframe tbody tr th {\n",
       "        vertical-align: top;\n",
       "    }\n",
       "\n",
       "    .dataframe thead th {\n",
       "        text-align: right;\n",
       "    }\n",
       "</style>\n",
       "<table border=\"1\" class=\"dataframe\">\n",
       "  <thead>\n",
       "    <tr style=\"text-align: right;\">\n",
       "      <th></th>\n",
       "      <th>RECORD_TIME</th>\n",
       "    </tr>\n",
       "  </thead>\n",
       "  <tbody>\n",
       "    <tr>\n",
       "      <th>0</th>\n",
       "      <td>2021-09-07 14:30</td>\n",
       "    </tr>\n",
       "    <tr>\n",
       "      <th>1</th>\n",
       "      <td>2021-09-07 14:00</td>\n",
       "    </tr>\n",
       "  </tbody>\n",
       "</table>\n",
       "</div>"
      ],
      "text/plain": [
       "        RECORD_TIME\n",
       "0  2021-09-07 14:30\n",
       "1  2021-09-07 14:00"
      ]
     },
     "execution_count": 3,
     "metadata": {},
     "output_type": "execute_result"
    }
   ],
   "source": [
    "timestamps"
   ]
  },
  {
   "cell_type": "code",
   "execution_count": 4,
   "id": "alternate-victory",
   "metadata": {
    "execution": {
     "iopub.execute_input": "2021-09-07T12:30:07.924928Z",
     "iopub.status.busy": "2021-09-07T12:30:07.922681Z",
     "iopub.status.idle": "2021-09-07T12:30:08.258286Z",
     "shell.execute_reply": "2021-09-07T12:30:08.259855Z"
    },
    "papermill": {
     "duration": 0.365818,
     "end_time": "2021-09-07T12:30:08.260305",
     "exception": false,
     "start_time": "2021-09-07T12:30:07.894487",
     "status": "completed"
    },
    "tags": []
   },
   "outputs": [],
   "source": [
    "df = pd.read_sql(\"select * from EBAY_TOP_BERLIN where record_time in (select distinct record_time from EBAY_TOP_BERLIN order by record_time desc limit 2)\", sqlite3.connect(\"UsedObjects.db\"))"
   ]
  },
  {
   "cell_type": "code",
   "execution_count": 5,
   "id": "popular-active",
   "metadata": {
    "execution": {
     "iopub.execute_input": "2021-09-07T12:30:08.339002Z",
     "iopub.status.busy": "2021-09-07T12:30:08.326786Z",
     "iopub.status.idle": "2021-09-07T12:30:08.355483Z",
     "shell.execute_reply": "2021-09-07T12:30:08.356771Z"
    },
    "papermill": {
     "duration": 0.071158,
     "end_time": "2021-09-07T12:30:08.357188",
     "exception": false,
     "start_time": "2021-09-07T12:30:08.286030",
     "status": "completed"
    },
    "tags": []
   },
   "outputs": [],
   "source": [
    "df_pivot = df.pivot_table(index=\"PRODUCT\", columns = \"RECORD_TIME\", values = \"LISTING_COUNT\")"
   ]
  },
  {
   "cell_type": "code",
   "execution_count": 6,
   "id": "union-huntington",
   "metadata": {
    "execution": {
     "iopub.execute_input": "2021-09-07T12:30:08.413365Z",
     "iopub.status.busy": "2021-09-07T12:30:08.411319Z",
     "iopub.status.idle": "2021-09-07T12:30:08.416564Z",
     "shell.execute_reply": "2021-09-07T12:30:08.417829Z"
    },
    "papermill": {
     "duration": 0.040018,
     "end_time": "2021-09-07T12:30:08.418240",
     "exception": false,
     "start_time": "2021-09-07T12:30:08.378222",
     "status": "completed"
    },
    "tags": []
   },
   "outputs": [],
   "source": [
    "df_pivot.columns = [\"stamp_1\", \"stamp_2\"]\n",
    "df_pivot_diff = df_pivot.diff(axis=1)"
   ]
  },
  {
   "cell_type": "code",
   "execution_count": 7,
   "id": "fifth-motion",
   "metadata": {
    "execution": {
     "iopub.execute_input": "2021-09-07T12:30:08.472893Z",
     "iopub.status.busy": "2021-09-07T12:30:08.470294Z",
     "iopub.status.idle": "2021-09-07T12:30:09.964451Z",
     "shell.execute_reply": "2021-09-07T12:30:09.965822Z"
    },
    "papermill": {
     "duration": 1.527685,
     "end_time": "2021-09-07T12:30:09.966262",
     "exception": false,
     "start_time": "2021-09-07T12:30:08.438577",
     "status": "completed"
    },
    "tags": []
   },
   "outputs": [
    {
     "data": {
      "text/plain": [
       "<AxesSubplot:ylabel='PRODUCT'>"
      ]
     },
     "execution_count": 7,
     "metadata": {},
     "output_type": "execute_result"
    },
    {
     "data": {
      "image/png": "[encoded data removed]",
      "text/plain": [
       "<Figure size 432x288 with 1 Axes>"
      ]
     },
     "metadata": {
      "needs_background": "light"
     },
     "output_type": "display_data"
    }
   ],
   "source": [
    "df_pivot_diff.sort_values(\"stamp_2\", ascending = False)[\"stamp_2\"].head(10).plot.barh()"
   ]
  },
  {
   "cell_type": "code",
   "execution_count": null,
   "id": "extra-executive",
   "metadata": {
    "papermill": {
     "duration": 0.02213,
     "end_time": "2021-09-07T12:30:10.012706",
     "exception": false,
     "start_time": "2021-09-07T12:30:09.990576",
     "status": "completed"
    },
    "tags": []
   },
   "outputs": [],
   "source": []
  }
 ],
 "metadata": {
  "kernelspec": {
   "display_name": "Python 3",
   "language": "python",
   "name": "python3"
  },
  "language_info": {
   "codemirror_mode": {
    "name": "ipython",
    "version": 3
   },
   "file_extension": ".py",
   "mimetype": "text/x-python",
   "name": "python",
   "nbconvert_exporter": "python",
   "pygments_lexer": "ipython3",
   "version": "3.9.5"
  },
  "papermill": {
   "default_parameters": {},
   "duration": 6.417491,
   "end_time": "2021-09-07T12:30:10.654558",
   "environment_variables": {},
   "exception": null,
   "input_path": "eBay_Overview.ipynb",
   "output_path": "eBay_Overview.ipynb",
   "parameters": {},
   "start_time": "2021-09-07T12:30:04.237067",
   "version": "2.3.3"
  }
 },
 "nbformat": 4,
 "nbformat_minor": 5
}