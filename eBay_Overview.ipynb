{
 "cells": [
  {
   "cell_type": "code",
   "execution_count": 1,
   "id": "reverse-picking",
   "metadata": {
    "execution": {
     "iopub.execute_input": "2021-11-05T11:30:08.135617Z",
     "iopub.status.busy": "2021-11-05T11:30:08.130105Z",
     "iopub.status.idle": "2021-11-05T11:30:09.099598Z",
     "shell.execute_reply": "2021-11-05T11:30:09.102167Z"
    },
    "papermill": {
     "duration": 1.017857,
     "end_time": "2021-11-05T11:30:09.102914",
     "exception": false,
     "start_time": "2021-11-05T11:30:08.085057",
     "status": "completed"
    },
    "tags": []
   },
   "outputs": [],
   "source": [
    "import pandas as pd\n",
    "import sqlite3"
   ]
  },
  {
   "cell_type": "code",
   "execution_count": 2,
   "id": "innovative-syndrome",
   "metadata": {
    "execution": {
     "iopub.execute_input": "2021-11-05T11:30:09.165478Z",
     "iopub.status.busy": "2021-11-05T11:30:09.163166Z",
     "iopub.status.idle": "2021-11-05T11:30:09.924408Z",
     "shell.execute_reply": "2021-11-05T11:30:09.925928Z"
    },
    "papermill": {
     "duration": 0.796548,
     "end_time": "2021-11-05T11:30:09.926392",
     "exception": false,
     "start_time": "2021-11-05T11:30:09.129844",
     "status": "completed"
    },
    "tags": []
   },
   "outputs": [],
   "source": [
    "timestamps = pd.read_sql(\"select distinct record_time from EBAY_TOP_BERLIN order by record_time desc limit 2\", sqlite3.connect(\"UsedObjects.db\"))"
   ]
  },
  {
   "cell_type": "code",
   "execution_count": 3,
   "id": "periodic-identification",
   "metadata": {
    "execution": {
     "iopub.execute_input": "2021-11-05T11:30:09.998966Z",
     "iopub.status.busy": "2021-11-05T11:30:09.993280Z",
     "iopub.status.idle": "2021-11-05T11:30:10.015845Z",
     "shell.execute_reply": "2021-11-05T11:30:10.017355Z"
    },
    "papermill": {
     "duration": 0.071834,
     "end_time": "2021-11-05T11:30:10.017845",
     "exception": false,
     "start_time": "2021-11-05T11:30:09.946011",
     "status": "completed"
    },
    "tags": []
   },
   "outputs": [
    {
     "data": {
      "text/html": [
       "<div>\n",
       "<style scoped>\n",
       "    .dataframe tbody tr th:only-of-type {\n",
       "        vertical-align: middle;\n",
       "    }\n",
       "\n",
       "    .dataframe tbody tr th {\n",
       "        vertical-align: top;\n",
       "    }\n",
       "\n",
       "    .dataframe thead th {\n",
       "        text-align: right;\n",
       "    }\n",
       "</style>\n",
       "<table border=\"1\" class=\"dataframe\">\n",
       "  <thead>\n",
       "    <tr style=\"text-align: right;\">\n",
       "      <th></th>\n",
       "      <th>RECORD_TIME</th>\n",
       "    </tr>\n",
       "  </thead>\n",
       "  <tbody>\n",
       "    <tr>\n",
       "      <th>0</th>\n",
       "      <td>2021-11-05 12:30</td>\n",
       "    </tr>\n",
       "    <tr>\n",
       "      <th>1</th>\n",
       "      <td>2021-11-05 12:00</td>\n",
       "    </tr>\n",
       "  </tbody>\n",
       "</table>\n",
       "</div>"
      ],
      "text/plain": [
       "        RECORD_TIME\n",
       "0  2021-11-05 12:30\n",
       "1  2021-11-05 12:00"
      ]
     },
     "execution_count": 3,
     "metadata": {},
     "output_type": "execute_result"
    }
   ],
   "source": [
    "timestamps"
   ]
  },
  {
   "cell_type": "code",
   "execution_count": 4,
   "id": "alternate-victory",
   "metadata": {
    "execution": {
     "iopub.execute_input": "2021-11-05T11:30:10.073630Z",
     "iopub.status.busy": "2021-11-05T11:30:10.071457Z",
     "iopub.status.idle": "2021-11-05T11:30:11.208021Z",
     "shell.execute_reply": "2021-11-05T11:30:11.209589Z"
    },
    "papermill": {
     "duration": 1.17087,
     "end_time": "2021-11-05T11:30:11.210102",
     "exception": false,
     "start_time": "2021-11-05T11:30:10.039232",
     "status": "completed"
    },
    "tags": []
   },
   "outputs": [],
   "source": [
    "df = pd.read_sql(\"select * from EBAY_TOP_BERLIN where record_time in (select distinct record_time from EBAY_TOP_BERLIN order by record_time desc limit 2)\", sqlite3.connect(\"UsedObjects.db\"))"
   ]
  },
  {
   "cell_type": "code",
   "execution_count": 5,
   "id": "popular-active",
   "metadata": {
    "execution": {
     "iopub.execute_input": "2021-11-05T11:30:11.285017Z",
     "iopub.status.busy": "2021-11-05T11:30:11.274655Z",
     "iopub.status.idle": "2021-11-05T11:30:11.310024Z",
     "shell.execute_reply": "2021-11-05T11:30:11.311713Z"
    },
    "papermill": {
     "duration": 0.080221,
     "end_time": "2021-11-05T11:30:11.312260",
     "exception": false,
     "start_time": "2021-11-05T11:30:11.232039",
     "status": "completed"
    },
    "tags": []
   },
   "outputs": [],
   "source": [
    "df_pivot = df.pivot_table(index=\"PRODUCT\", columns = \"RECORD_TIME\", values = \"LISTING_COUNT\")"
   ]
  },
  {
   "cell_type": "code",
   "execution_count": 6,
   "id": "union-huntington",
   "metadata": {
    "execution": {
     "iopub.execute_input": "2021-11-05T11:30:11.373931Z",
     "iopub.status.busy": "2021-11-05T11:30:11.371669Z",
     "iopub.status.idle": "2021-11-05T11:30:11.377567Z",
     "shell.execute_reply": "2021-11-05T11:30:11.378917Z"
    },
    "papermill": {
     "duration": 0.044784,
     "end_time": "2021-11-05T11:30:11.379383",
     "exception": false,
     "start_time": "2021-11-05T11:30:11.334599",
     "status": "completed"
    },
    "tags": []
   },
   "outputs": [],
   "source": [
    "df_pivot.columns = [\"stamp_1\", \"stamp_2\"]\n",
    "df_pivot_diff = df_pivot.diff(axis=1)"
   ]
  },
  {
   "cell_type": "code",
   "execution_count": 7,
   "id": "fifth-motion",
   "metadata": {
    "execution": {
     "iopub.execute_input": "2021-11-05T11:30:11.435948Z",
     "iopub.status.busy": "2021-11-05T11:30:11.433508Z",
     "iopub.status.idle": "2021-11-05T11:30:13.234123Z",
     "shell.execute_reply": "2021-11-05T11:30:13.235565Z"
    },
    "papermill": {
     "duration": 1.836224,
     "end_time": "2021-11-05T11:30:13.236093",
     "exception": false,
     "start_time": "2021-11-05T11:30:11.399869",
     "status": "completed"
    },
    "tags": []
   },
   "outputs": [
    {
     "data": {
      "text/plain": [
       "<AxesSubplot:ylabel='PRODUCT'>"
      ]
     },
     "execution_count": 7,
     "metadata": {},
     "output_type": "execute_result"
    },
    {
     "data": {
      "image/png": "[encoded data removed]",
      "text/plain": [
       "<Figure size 432x288 with 1 Axes>"
      ]
     },
     "metadata": {
      "needs_background": "light"
     },
     "output_type": "display_data"
    }
   ],
   "source": [
    "df_pivot_diff.sort_values(\"stamp_2\", ascending = False)[\"stamp_2\"].head(10).plot.barh()"
   ]
  },
  {
   "cell_type": "code",
   "execution_count": null,
   "id": "extra-executive",
   "metadata": {
    "papermill": {
     "duration": 0.037531,
     "end_time": "2021-11-05T11:30:13.316069",
     "exception": false,
     "start_time": "2021-11-05T11:30:13.278538",
     "status": "completed"
    },
    "tags": []
   },
   "outputs": [],
   "source": []
  }
 ],
 "metadata": {
  "kernelspec": {
   "display_name": "Python 3",
   "language": "python",
   "name": "python3"
  },
  "language_info": {
   "codemirror_mode": {
    "name": "ipython",
    "version": 3
   },
   "file_extension": ".py",
   "mimetype": "text/x-python",
   "name": "python",
   "nbconvert_exporter": "python",
   "pygments_lexer": "ipython3",
   "version": "3.9.5"
  },
  "papermill": {
   "default_parameters": {},
   "duration": 9.952607,
   "end_time": "2021-11-05T11:30:15.273582",
   "environment_variables": {},
   "exception": null,
   "input_path": "eBay_Overview.ipynb",
   "output_path": "eBay_Overview.ipynb",
   "parameters": {},
   "start_time": "2021-11-05T11:30:05.320975",
   "version": "2.3.3"
  }
 },
 "nbformat": 4,
 "nbformat_minor": 5
}