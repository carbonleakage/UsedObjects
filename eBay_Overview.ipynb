{
 "cells": [
  {
   "cell_type": "code",
   "execution_count": 1,
   "id": "reverse-picking",
   "metadata": {
    "execution": {
     "iopub.execute_input": "2021-11-27T19:30:07.323351Z",
     "iopub.status.busy": "2021-11-27T19:30:07.321088Z",
     "iopub.status.idle": "2021-11-27T19:30:08.276090Z",
     "shell.execute_reply": "2021-11-27T19:30:08.277870Z"
    },
    "papermill": {
     "duration": 1.005258,
     "end_time": "2021-11-27T19:30:08.278621",
     "exception": false,
     "start_time": "2021-11-27T19:30:07.273363",
     "status": "completed"
    },
    "tags": []
   },
   "outputs": [],
   "source": [
    "import pandas as pd\n",
    "import sqlite3"
   ]
  },
  {
   "cell_type": "code",
   "execution_count": 2,
   "id": "innovative-syndrome",
   "metadata": {
    "execution": {
     "iopub.execute_input": "2021-11-27T19:30:08.404097Z",
     "iopub.status.busy": "2021-11-27T19:30:08.400209Z",
     "iopub.status.idle": "2021-11-27T19:30:09.305937Z",
     "shell.execute_reply": "2021-11-27T19:30:09.307228Z"
    },
    "papermill": {
     "duration": 0.948009,
     "end_time": "2021-11-27T19:30:09.307653",
     "exception": false,
     "start_time": "2021-11-27T19:30:08.359644",
     "status": "completed"
    },
    "tags": []
   },
   "outputs": [],
   "source": [
    "timestamps = pd.read_sql(\"select distinct record_time from EBAY_TOP_BERLIN order by record_time desc limit 2\", sqlite3.connect(\"UsedObjects.db\"))"
   ]
  },
  {
   "cell_type": "code",
   "execution_count": 3,
   "id": "periodic-identification",
   "metadata": {
    "execution": {
     "iopub.execute_input": "2021-11-27T19:30:09.371900Z",
     "iopub.status.busy": "2021-11-27T19:30:09.369888Z",
     "iopub.status.idle": "2021-11-27T19:30:09.389862Z",
     "shell.execute_reply": "2021-11-27T19:30:09.391195Z"
    },
    "papermill": {
     "duration": 0.064491,
     "end_time": "2021-11-27T19:30:09.391614",
     "exception": false,
     "start_time": "2021-11-27T19:30:09.327123",
     "status": "completed"
    },
    "tags": []
   },
   "outputs": [
    {
     "data": {
      "text/html": [
       "<div>\n",
       "<style scoped>\n",
       "    .dataframe tbody tr th:only-of-type {\n",
       "        vertical-align: middle;\n",
       "    }\n",
       "\n",
       "    .dataframe tbody tr th {\n",
       "        vertical-align: top;\n",
       "    }\n",
       "\n",
       "    .dataframe thead th {\n",
       "        text-align: right;\n",
       "    }\n",
       "</style>\n",
       "<table border=\"1\" class=\"dataframe\">\n",
       "  <thead>\n",
       "    <tr style=\"text-align: right;\">\n",
       "      <th></th>\n",
       "      <th>RECORD_TIME</th>\n",
       "    </tr>\n",
       "  </thead>\n",
       "  <tbody>\n",
       "    <tr>\n",
       "      <th>0</th>\n",
       "      <td>2021-11-27 20:30</td>\n",
       "    </tr>\n",
       "    <tr>\n",
       "      <th>1</th>\n",
       "      <td>2021-11-27 20:00</td>\n",
       "    </tr>\n",
       "  </tbody>\n",
       "</table>\n",
       "</div>"
      ],
      "text/plain": [
       "        RECORD_TIME\n",
       "0  2021-11-27 20:30\n",
       "1  2021-11-27 20:00"
      ]
     },
     "execution_count": 3,
     "metadata": {},
     "output_type": "execute_result"
    }
   ],
   "source": [
    "timestamps"
   ]
  },
  {
   "cell_type": "code",
   "execution_count": 4,
   "id": "alternate-victory",
   "metadata": {
    "execution": {
     "iopub.execute_input": "2021-11-27T19:30:09.442933Z",
     "iopub.status.busy": "2021-11-27T19:30:09.440770Z",
     "iopub.status.idle": "2021-11-27T19:30:10.809096Z",
     "shell.execute_reply": "2021-11-27T19:30:10.811199Z"
    },
    "papermill": {
     "duration": 1.399109,
     "end_time": "2021-11-27T19:30:10.811697",
     "exception": false,
     "start_time": "2021-11-27T19:30:09.412588",
     "status": "completed"
    },
    "tags": []
   },
   "outputs": [],
   "source": [
    "df = pd.read_sql(\"select * from EBAY_TOP_BERLIN where record_time in (select distinct record_time from EBAY_TOP_BERLIN order by record_time desc limit 2)\", sqlite3.connect(\"UsedObjects.db\"))"
   ]
  },
  {
   "cell_type": "code",
   "execution_count": 5,
   "id": "popular-active",
   "metadata": {
    "execution": {
     "iopub.execute_input": "2021-11-27T19:30:10.881328Z",
     "iopub.status.busy": "2021-11-27T19:30:10.879014Z",
     "iopub.status.idle": "2021-11-27T19:30:10.916985Z",
     "shell.execute_reply": "2021-11-27T19:30:10.914008Z"
    },
    "papermill": {
     "duration": 0.080796,
     "end_time": "2021-11-27T19:30:10.917694",
     "exception": false,
     "start_time": "2021-11-27T19:30:10.836898",
     "status": "completed"
    },
    "tags": []
   },
   "outputs": [],
   "source": [
    "df_pivot = df.pivot_table(index=\"PRODUCT\", columns = \"RECORD_TIME\", values = \"LISTING_COUNT\")"
   ]
  },
  {
   "cell_type": "code",
   "execution_count": 6,
   "id": "union-huntington",
   "metadata": {
    "execution": {
     "iopub.execute_input": "2021-11-27T19:30:10.982172Z",
     "iopub.status.busy": "2021-11-27T19:30:10.979909Z",
     "iopub.status.idle": "2021-11-27T19:30:10.985044Z",
     "shell.execute_reply": "2021-11-27T19:30:10.986532Z"
    },
    "papermill": {
     "duration": 0.046518,
     "end_time": "2021-11-27T19:30:10.986997",
     "exception": false,
     "start_time": "2021-11-27T19:30:10.940479",
     "status": "completed"
    },
    "tags": []
   },
   "outputs": [],
   "source": [
    "df_pivot.columns = [\"stamp_1\", \"stamp_2\"]\n",
    "df_pivot_diff = df_pivot.diff(axis=1)"
   ]
  },
  {
   "cell_type": "code",
   "execution_count": 7,
   "id": "fifth-motion",
   "metadata": {
    "execution": {
     "iopub.execute_input": "2021-11-27T19:30:11.043518Z",
     "iopub.status.busy": "2021-11-27T19:30:11.041057Z",
     "iopub.status.idle": "2021-11-27T19:30:13.057279Z",
     "shell.execute_reply": "2021-11-27T19:30:13.059084Z"
    },
    "papermill": {
     "duration": 2.052829,
     "end_time": "2021-11-27T19:30:13.059695",
     "exception": false,
     "start_time": "2021-11-27T19:30:11.006866",
     "status": "completed"
    },
    "tags": []
   },
   "outputs": [
    {
     "data": {
      "text/plain": [
       "<AxesSubplot:ylabel='PRODUCT'>"
      ]
     },
     "execution_count": 7,
     "metadata": {},
     "output_type": "execute_result"
    },
    {
     "data": {
      "image/png": "[encoded data removed]",
      "text/plain": [
       "<Figure size 432x288 with 1 Axes>"
      ]
     },
     "metadata": {
      "needs_background": "light"
     },
     "output_type": "display_data"
    }
   ],
   "source": [
    "df_pivot_diff.sort_values(\"stamp_2\", ascending = False)[\"stamp_2\"].head(10).plot.barh()"
   ]
  },
  {
   "cell_type": "code",
   "execution_count": null,
   "id": "extra-executive",
   "metadata": {
    "papermill": {
     "duration": 0.058348,
     "end_time": "2021-11-27T19:30:13.146453",
     "exception": false,
     "start_time": "2021-11-27T19:30:13.088105",
     "status": "completed"
    },
    "tags": []
   },
   "outputs": [],
   "source": []
  }
 ],
 "metadata": {
  "kernelspec": {
   "display_name": "Python 3",
   "language": "python",
   "name": "python3"
  },
  "language_info": {
   "codemirror_mode": {
    "name": "ipython",
    "version": 3
   },
   "file_extension": ".py",
   "mimetype": "text/x-python",
   "name": "python",
   "nbconvert_exporter": "python",
   "pygments_lexer": "ipython3",
   "version": "3.9.5"
  },
  "papermill": {
   "default_parameters": {},
   "duration": 9.935182,
   "end_time": "2021-11-27T19:30:14.483298",
   "environment_variables": {},
   "exception": null,
   "input_path": "eBay_Overview.ipynb",
   "output_path": "eBay_Overview.ipynb",
   "parameters": {},
   "start_time": "2021-11-27T19:30:04.548116",
   "version": "2.3.3"
  }
 },
 "nbformat": 4,
 "nbformat_minor": 5
}