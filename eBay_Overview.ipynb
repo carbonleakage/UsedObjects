{
 "cells": [
  {
   "cell_type": "code",
   "execution_count": 1,
   "id": "reverse-picking",
   "metadata": {
    "execution": {
     "iopub.execute_input": "2021-08-31T07:00:07.476538Z",
     "iopub.status.busy": "2021-08-31T07:00:07.474465Z",
     "iopub.status.idle": "2021-08-31T07:00:08.277053Z",
     "shell.execute_reply": "2021-08-31T07:00:08.278355Z"
    },
    "papermill": {
     "duration": 0.853196,
     "end_time": "2021-08-31T07:00:08.278979",
     "exception": false,
     "start_time": "2021-08-31T07:00:07.425783",
     "status": "completed"
    },
    "tags": []
   },
   "outputs": [],
   "source": [
    "import pandas as pd\n",
    "import sqlite3"
   ]
  },
  {
   "cell_type": "code",
   "execution_count": 2,
   "id": "innovative-syndrome",
   "metadata": {
    "execution": {
     "iopub.execute_input": "2021-08-31T07:00:08.329400Z",
     "iopub.status.busy": "2021-08-31T07:00:08.327405Z",
     "iopub.status.idle": "2021-08-31T07:00:08.500346Z",
     "shell.execute_reply": "2021-08-31T07:00:08.501660Z"
    },
    "papermill": {
     "duration": 0.202483,
     "end_time": "2021-08-31T07:00:08.502088",
     "exception": false,
     "start_time": "2021-08-31T07:00:08.299605",
     "status": "completed"
    },
    "tags": []
   },
   "outputs": [],
   "source": [
    "timestamps = pd.read_sql(\"select distinct record_time from EBAY_TOP_BERLIN order by record_time desc limit 2\", sqlite3.connect(\"UsedObjects.db\"))"
   ]
  },
  {
   "cell_type": "code",
   "execution_count": 3,
   "id": "periodic-identification",
   "metadata": {
    "execution": {
     "iopub.execute_input": "2021-08-31T07:00:08.567608Z",
     "iopub.status.busy": "2021-08-31T07:00:08.565588Z",
     "iopub.status.idle": "2021-08-31T07:00:08.585318Z",
     "shell.execute_reply": "2021-08-31T07:00:08.586637Z"
    },
    "papermill": {
     "duration": 0.064389,
     "end_time": "2021-08-31T07:00:08.587060",
     "exception": false,
     "start_time": "2021-08-31T07:00:08.522671",
     "status": "completed"
    },
    "tags": []
   },
   "outputs": [
    {
     "data": {
      "text/html": [
       "<div>\n",
       "<style scoped>\n",
       "    .dataframe tbody tr th:only-of-type {\n",
       "        vertical-align: middle;\n",
       "    }\n",
       "\n",
       "    .dataframe tbody tr th {\n",
       "        vertical-align: top;\n",
       "    }\n",
       "\n",
       "    .dataframe thead th {\n",
       "        text-align: right;\n",
       "    }\n",
       "</style>\n",
       "<table border=\"1\" class=\"dataframe\">\n",
       "  <thead>\n",
       "    <tr style=\"text-align: right;\">\n",
       "      <th></th>\n",
       "      <th>RECORD_TIME</th>\n",
       "    </tr>\n",
       "  </thead>\n",
       "  <tbody>\n",
       "    <tr>\n",
       "      <th>0</th>\n",
       "      <td>2021-08-31 09:00</td>\n",
       "    </tr>\n",
       "    <tr>\n",
       "      <th>1</th>\n",
       "      <td>2021-08-31 08:30</td>\n",
       "    </tr>\n",
       "  </tbody>\n",
       "</table>\n",
       "</div>"
      ],
      "text/plain": [
       "        RECORD_TIME\n",
       "0  2021-08-31 09:00\n",
       "1  2021-08-31 08:30"
      ]
     },
     "execution_count": 3,
     "metadata": {},
     "output_type": "execute_result"
    }
   ],
   "source": [
    "timestamps"
   ]
  },
  {
   "cell_type": "code",
   "execution_count": 4,
   "id": "alternate-victory",
   "metadata": {
    "execution": {
     "iopub.execute_input": "2021-08-31T07:00:08.639516Z",
     "iopub.status.busy": "2021-08-31T07:00:08.637209Z",
     "iopub.status.idle": "2021-08-31T07:00:08.902362Z",
     "shell.execute_reply": "2021-08-31T07:00:08.903580Z"
    },
    "papermill": {
     "duration": 0.295684,
     "end_time": "2021-08-31T07:00:08.903983",
     "exception": false,
     "start_time": "2021-08-31T07:00:08.608299",
     "status": "completed"
    },
    "tags": []
   },
   "outputs": [],
   "source": [
    "df = pd.read_sql(\"select * from EBAY_TOP_BERLIN where record_time in (select distinct record_time from EBAY_TOP_BERLIN order by record_time desc limit 2)\", sqlite3.connect(\"UsedObjects.db\"))"
   ]
  },
  {
   "cell_type": "code",
   "execution_count": 5,
   "id": "popular-active",
   "metadata": {
    "execution": {
     "iopub.execute_input": "2021-08-31T07:00:08.983944Z",
     "iopub.status.busy": "2021-08-31T07:00:08.971997Z",
     "iopub.status.idle": "2021-08-31T07:00:09.002994Z",
     "shell.execute_reply": "2021-08-31T07:00:09.004351Z"
    },
    "papermill": {
     "duration": 0.074782,
     "end_time": "2021-08-31T07:00:09.004778",
     "exception": false,
     "start_time": "2021-08-31T07:00:08.929996",
     "status": "completed"
    },
    "tags": []
   },
   "outputs": [],
   "source": [
    "df_pivot = df.pivot_table(index=\"PRODUCT\", columns = \"RECORD_TIME\", values = \"LISTING_COUNT\")"
   ]
  },
  {
   "cell_type": "code",
   "execution_count": 6,
   "id": "union-huntington",
   "metadata": {
    "execution": {
     "iopub.execute_input": "2021-08-31T07:00:09.061809Z",
     "iopub.status.busy": "2021-08-31T07:00:09.059679Z",
     "iopub.status.idle": "2021-08-31T07:00:09.064928Z",
     "shell.execute_reply": "2021-08-31T07:00:09.066231Z"
    },
    "papermill": {
     "duration": 0.040695,
     "end_time": "2021-08-31T07:00:09.066645",
     "exception": false,
     "start_time": "2021-08-31T07:00:09.025950",
     "status": "completed"
    },
    "tags": []
   },
   "outputs": [],
   "source": [
    "df_pivot.columns = [\"stamp_1\", \"stamp_2\"]\n",
    "df_pivot_diff = df_pivot.diff(axis=1)"
   ]
  },
  {
   "cell_type": "code",
   "execution_count": 7,
   "id": "fifth-motion",
   "metadata": {
    "execution": {
     "iopub.execute_input": "2021-08-31T07:00:09.122126Z",
     "iopub.status.busy": "2021-08-31T07:00:09.119495Z",
     "iopub.status.idle": "2021-08-31T07:00:10.624989Z",
     "shell.execute_reply": "2021-08-31T07:00:10.626290Z"
    },
    "papermill": {
     "duration": 1.538704,
     "end_time": "2021-08-31T07:00:10.626715",
     "exception": false,
     "start_time": "2021-08-31T07:00:09.088011",
     "status": "completed"
    },
    "tags": []
   },
   "outputs": [
    {
     "data": {
      "text/plain": [
       "<AxesSubplot:ylabel='PRODUCT'>"
      ]
     },
     "execution_count": 7,
     "metadata": {},
     "output_type": "execute_result"
    },
    {
     "data": {
      "image/png": "[encoded data removed]",
      "text/plain": [
       "<Figure size 432x288 with 1 Axes>"
      ]
     },
     "metadata": {
      "needs_background": "light"
     },
     "output_type": "display_data"
    }
   ],
   "source": [
    "df_pivot_diff.sort_values(\"stamp_2\", ascending = False)[\"stamp_2\"].head(10).plot.barh()"
   ]
  },
  {
   "cell_type": "code",
   "execution_count": null,
   "id": "extra-executive",
   "metadata": {
    "papermill": {
     "duration": 0.02226,
     "end_time": "2021-08-31T07:00:10.674466",
     "exception": false,
     "start_time": "2021-08-31T07:00:10.652206",
     "status": "completed"
    },
    "tags": []
   },
   "outputs": [],
   "source": []
  }
 ],
 "metadata": {
  "kernelspec": {
   "display_name": "Python 3",
   "language": "python",
   "name": "python3"
  },
  "language_info": {
   "codemirror_mode": {
    "name": "ipython",
    "version": 3
   },
   "file_extension": ".py",
   "mimetype": "text/x-python",
   "name": "python",
   "nbconvert_exporter": "python",
   "pygments_lexer": "ipython3",
   "version": "3.9.5"
  },
  "papermill": {
   "default_parameters": {},
   "duration": 6.820151,
   "end_time": "2021-08-31T07:00:11.842894",
   "environment_variables": {},
   "exception": null,
   "input_path": "eBay_Overview.ipynb",
   "output_path": "eBay_Overview.ipynb",
   "parameters": {},
   "start_time": "2021-08-31T07:00:05.022743",
   "version": "2.3.3"
  }
 },
 "nbformat": 4,
 "nbformat_minor": 5
}