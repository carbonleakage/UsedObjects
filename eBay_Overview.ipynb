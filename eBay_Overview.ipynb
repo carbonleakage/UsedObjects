{
 "cells": [
  {
   "cell_type": "code",
   "execution_count": 1,
   "id": "reverse-picking",
   "metadata": {
    "execution": {
     "iopub.execute_input": "2021-08-27T22:30:06.797332Z",
     "iopub.status.busy": "2021-08-27T22:30:06.795274Z",
     "iopub.status.idle": "2021-08-27T22:30:07.601484Z",
     "shell.execute_reply": "2021-08-27T22:30:07.602891Z"
    },
    "papermill": {
     "duration": 0.85718,
     "end_time": "2021-08-27T22:30:07.603564",
     "exception": false,
     "start_time": "2021-08-27T22:30:06.746384",
     "status": "completed"
    },
    "tags": []
   },
   "outputs": [],
   "source": [
    "import pandas as pd\n",
    "import sqlite3"
   ]
  },
  {
   "cell_type": "code",
   "execution_count": 2,
   "id": "innovative-syndrome",
   "metadata": {
    "execution": {
     "iopub.execute_input": "2021-08-27T22:30:07.654790Z",
     "iopub.status.busy": "2021-08-27T22:30:07.652447Z",
     "iopub.status.idle": "2021-08-27T22:30:07.801992Z",
     "shell.execute_reply": "2021-08-27T22:30:07.803180Z"
    },
    "papermill": {
     "duration": 0.179437,
     "end_time": "2021-08-27T22:30:07.803576",
     "exception": false,
     "start_time": "2021-08-27T22:30:07.624139",
     "status": "completed"
    },
    "tags": []
   },
   "outputs": [],
   "source": [
    "timestamps = pd.read_sql(\"select distinct record_time from EBAY_TOP_BERLIN order by record_time desc limit 2\", sqlite3.connect(\"UsedObjects.db\"))"
   ]
  },
  {
   "cell_type": "code",
   "execution_count": 3,
   "id": "periodic-identification",
   "metadata": {
    "execution": {
     "iopub.execute_input": "2021-08-27T22:30:07.874384Z",
     "iopub.status.busy": "2021-08-27T22:30:07.869387Z",
     "iopub.status.idle": "2021-08-27T22:30:07.889431Z",
     "shell.execute_reply": "2021-08-27T22:30:07.890799Z"
    },
    "papermill": {
     "duration": 0.065991,
     "end_time": "2021-08-27T22:30:07.891233",
     "exception": false,
     "start_time": "2021-08-27T22:30:07.825242",
     "status": "completed"
    },
    "tags": []
   },
   "outputs": [
    {
     "data": {
      "text/html": [
       "<div>\n",
       "<style scoped>\n",
       "    .dataframe tbody tr th:only-of-type {\n",
       "        vertical-align: middle;\n",
       "    }\n",
       "\n",
       "    .dataframe tbody tr th {\n",
       "        vertical-align: top;\n",
       "    }\n",
       "\n",
       "    .dataframe thead th {\n",
       "        text-align: right;\n",
       "    }\n",
       "</style>\n",
       "<table border=\"1\" class=\"dataframe\">\n",
       "  <thead>\n",
       "    <tr style=\"text-align: right;\">\n",
       "      <th></th>\n",
       "      <th>RECORD_TIME</th>\n",
       "    </tr>\n",
       "  </thead>\n",
       "  <tbody>\n",
       "    <tr>\n",
       "      <th>0</th>\n",
       "      <td>2021-08-28 00:30</td>\n",
       "    </tr>\n",
       "    <tr>\n",
       "      <th>1</th>\n",
       "      <td>2021-08-28 00:00</td>\n",
       "    </tr>\n",
       "  </tbody>\n",
       "</table>\n",
       "</div>"
      ],
      "text/plain": [
       "        RECORD_TIME\n",
       "0  2021-08-28 00:30\n",
       "1  2021-08-28 00:00"
      ]
     },
     "execution_count": 3,
     "metadata": {},
     "output_type": "execute_result"
    }
   ],
   "source": [
    "timestamps"
   ]
  },
  {
   "cell_type": "code",
   "execution_count": 4,
   "id": "alternate-victory",
   "metadata": {
    "execution": {
     "iopub.execute_input": "2021-08-27T22:30:07.942729Z",
     "iopub.status.busy": "2021-08-27T22:30:07.940871Z",
     "iopub.status.idle": "2021-08-27T22:30:08.161431Z",
     "shell.execute_reply": "2021-08-27T22:30:08.163042Z"
    },
    "papermill": {
     "duration": 0.25113,
     "end_time": "2021-08-27T22:30:08.163594",
     "exception": false,
     "start_time": "2021-08-27T22:30:07.912464",
     "status": "completed"
    },
    "tags": []
   },
   "outputs": [],
   "source": [
    "df = pd.read_sql(\"select * from EBAY_TOP_BERLIN where record_time in (select distinct record_time from EBAY_TOP_BERLIN order by record_time desc limit 2)\", sqlite3.connect(\"UsedObjects.db\"))"
   ]
  },
  {
   "cell_type": "code",
   "execution_count": 5,
   "id": "popular-active",
   "metadata": {
    "execution": {
     "iopub.execute_input": "2021-08-27T22:30:08.233769Z",
     "iopub.status.busy": "2021-08-27T22:30:08.221442Z",
     "iopub.status.idle": "2021-08-27T22:30:08.250641Z",
     "shell.execute_reply": "2021-08-27T22:30:08.251923Z"
    },
    "papermill": {
     "duration": 0.068008,
     "end_time": "2021-08-27T22:30:08.252400",
     "exception": false,
     "start_time": "2021-08-27T22:30:08.184392",
     "status": "completed"
    },
    "tags": []
   },
   "outputs": [],
   "source": [
    "df_pivot = df.pivot_table(index=\"PRODUCT\", columns = \"RECORD_TIME\", values = \"LISTING_COUNT\")"
   ]
  },
  {
   "cell_type": "code",
   "execution_count": 6,
   "id": "union-huntington",
   "metadata": {
    "execution": {
     "iopub.execute_input": "2021-08-27T22:30:08.321034Z",
     "iopub.status.busy": "2021-08-27T22:30:08.318159Z",
     "iopub.status.idle": "2021-08-27T22:30:08.326222Z",
     "shell.execute_reply": "2021-08-27T22:30:08.327692Z"
    },
    "papermill": {
     "duration": 0.047036,
     "end_time": "2021-08-27T22:30:08.328161",
     "exception": false,
     "start_time": "2021-08-27T22:30:08.281125",
     "status": "completed"
    },
    "tags": []
   },
   "outputs": [],
   "source": [
    "df_pivot.columns = [\"stamp_1\", \"stamp_2\"]\n",
    "df_pivot_diff = df_pivot.diff(axis=1)"
   ]
  },
  {
   "cell_type": "code",
   "execution_count": 7,
   "id": "fifth-motion",
   "metadata": {
    "execution": {
     "iopub.execute_input": "2021-08-27T22:30:08.383069Z",
     "iopub.status.busy": "2021-08-27T22:30:08.380835Z",
     "iopub.status.idle": "2021-08-27T22:30:09.862145Z",
     "shell.execute_reply": "2021-08-27T22:30:09.863422Z"
    },
    "papermill": {
     "duration": 1.51438,
     "end_time": "2021-08-27T22:30:09.863843",
     "exception": false,
     "start_time": "2021-08-27T22:30:08.349463",
     "status": "completed"
    },
    "tags": []
   },
   "outputs": [
    {
     "data": {
      "text/plain": [
       "<AxesSubplot:ylabel='PRODUCT'>"
      ]
     },
     "execution_count": 7,
     "metadata": {},
     "output_type": "execute_result"
    },
    {
     "data": {
      "image/png": "[encoded data removed]",
      "text/plain": [
       "<Figure size 432x288 with 1 Axes>"
      ]
     },
     "metadata": {
      "needs_background": "light"
     },
     "output_type": "display_data"
    }
   ],
   "source": [
    "df_pivot_diff.sort_values(\"stamp_2\", ascending = False)[\"stamp_2\"].head(10).plot.barh()"
   ]
  },
  {
   "cell_type": "code",
   "execution_count": null,
   "id": "extra-executive",
   "metadata": {
    "papermill": {
     "duration": 0.022384,
     "end_time": "2021-08-27T22:30:09.909652",
     "exception": false,
     "start_time": "2021-08-27T22:30:09.887268",
     "status": "completed"
    },
    "tags": []
   },
   "outputs": [],
   "source": []
  }
 ],
 "metadata": {
  "kernelspec": {
   "display_name": "Python 3",
   "language": "python",
   "name": "python3"
  },
  "language_info": {
   "codemirror_mode": {
    "name": "ipython",
    "version": 3
   },
   "file_extension": ".py",
   "mimetype": "text/x-python",
   "name": "python",
   "nbconvert_exporter": "python",
   "pygments_lexer": "ipython3",
   "version": "3.9.5"
  },
  "papermill": {
   "default_parameters": {},
   "duration": 6.826863,
   "end_time": "2021-08-27T22:30:11.173294",
   "environment_variables": {},
   "exception": null,
   "input_path": "eBay_Overview.ipynb",
   "output_path": "eBay_Overview.ipynb",
   "parameters": {},
   "start_time": "2021-08-27T22:30:04.346431",
   "version": "2.3.3"
  }
 },
 "nbformat": 4,
 "nbformat_minor": 5
}