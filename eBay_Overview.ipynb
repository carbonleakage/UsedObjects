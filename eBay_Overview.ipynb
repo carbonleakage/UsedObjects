{
 "cells": [
  {
   "cell_type": "code",
   "execution_count": 1,
   "id": "reverse-picking",
   "metadata": {
    "execution": {
     "iopub.execute_input": "2021-12-09T16:30:07.390268Z",
     "iopub.status.busy": "2021-12-09T16:30:07.386654Z",
     "iopub.status.idle": "2021-12-09T16:30:08.365271Z",
     "shell.execute_reply": "2021-12-09T16:30:08.367631Z"
    },
    "papermill": {
     "duration": 1.028935,
     "end_time": "2021-12-09T16:30:08.368343",
     "exception": false,
     "start_time": "2021-12-09T16:30:07.339408",
     "status": "completed"
    },
    "tags": []
   },
   "outputs": [],
   "source": [
    "import pandas as pd\n",
    "import sqlite3"
   ]
  },
  {
   "cell_type": "code",
   "execution_count": 2,
   "id": "innovative-syndrome",
   "metadata": {
    "execution": {
     "iopub.execute_input": "2021-12-09T16:30:08.423073Z",
     "iopub.status.busy": "2021-12-09T16:30:08.420963Z",
     "iopub.status.idle": "2021-12-09T16:30:09.455298Z",
     "shell.execute_reply": "2021-12-09T16:30:09.456623Z"
    },
    "papermill": {
     "duration": 1.067471,
     "end_time": "2021-12-09T16:30:09.457171",
     "exception": false,
     "start_time": "2021-12-09T16:30:08.389700",
     "status": "completed"
    },
    "tags": []
   },
   "outputs": [],
   "source": [
    "timestamps = pd.read_sql(\"select distinct record_time from EBAY_TOP_BERLIN order by record_time desc limit 2\", sqlite3.connect(\"UsedObjects.db\"))"
   ]
  },
  {
   "cell_type": "code",
   "execution_count": 3,
   "id": "periodic-identification",
   "metadata": {
    "execution": {
     "iopub.execute_input": "2021-12-09T16:30:09.539204Z",
     "iopub.status.busy": "2021-12-09T16:30:09.535335Z",
     "iopub.status.idle": "2021-12-09T16:30:09.574573Z",
     "shell.execute_reply": "2021-12-09T16:30:09.578158Z"
    },
    "papermill": {
     "duration": 0.102152,
     "end_time": "2021-12-09T16:30:09.578963",
     "exception": false,
     "start_time": "2021-12-09T16:30:09.476811",
     "status": "completed"
    },
    "tags": []
   },
   "outputs": [
    {
     "data": {
      "text/html": [
       "<div>\n",
       "<style scoped>\n",
       "    .dataframe tbody tr th:only-of-type {\n",
       "        vertical-align: middle;\n",
       "    }\n",
       "\n",
       "    .dataframe tbody tr th {\n",
       "        vertical-align: top;\n",
       "    }\n",
       "\n",
       "    .dataframe thead th {\n",
       "        text-align: right;\n",
       "    }\n",
       "</style>\n",
       "<table border=\"1\" class=\"dataframe\">\n",
       "  <thead>\n",
       "    <tr style=\"text-align: right;\">\n",
       "      <th></th>\n",
       "      <th>RECORD_TIME</th>\n",
       "    </tr>\n",
       "  </thead>\n",
       "  <tbody>\n",
       "    <tr>\n",
       "      <th>0</th>\n",
       "      <td>2021-12-09 17:30</td>\n",
       "    </tr>\n",
       "    <tr>\n",
       "      <th>1</th>\n",
       "      <td>2021-12-09 17:00</td>\n",
       "    </tr>\n",
       "  </tbody>\n",
       "</table>\n",
       "</div>"
      ],
      "text/plain": [
       "        RECORD_TIME\n",
       "0  2021-12-09 17:30\n",
       "1  2021-12-09 17:00"
      ]
     },
     "execution_count": 3,
     "metadata": {},
     "output_type": "execute_result"
    }
   ],
   "source": [
    "timestamps"
   ]
  },
  {
   "cell_type": "code",
   "execution_count": 4,
   "id": "alternate-victory",
   "metadata": {
    "execution": {
     "iopub.execute_input": "2021-12-09T16:30:09.643029Z",
     "iopub.status.busy": "2021-12-09T16:30:09.640751Z",
     "iopub.status.idle": "2021-12-09T16:30:11.170549Z",
     "shell.execute_reply": "2021-12-09T16:30:11.173410Z"
    },
    "papermill": {
     "duration": 1.5664,
     "end_time": "2021-12-09T16:30:11.174179",
     "exception": false,
     "start_time": "2021-12-09T16:30:09.607779",
     "status": "completed"
    },
    "tags": []
   },
   "outputs": [],
   "source": [
    "df = pd.read_sql(\"select * from EBAY_TOP_BERLIN where record_time in (select distinct record_time from EBAY_TOP_BERLIN order by record_time desc limit 2)\", sqlite3.connect(\"UsedObjects.db\"))"
   ]
  },
  {
   "cell_type": "code",
   "execution_count": 5,
   "id": "popular-active",
   "metadata": {
    "execution": {
     "iopub.execute_input": "2021-12-09T16:30:11.303210Z",
     "iopub.status.busy": "2021-12-09T16:30:11.272015Z",
     "iopub.status.idle": "2021-12-09T16:30:11.343216Z",
     "shell.execute_reply": "2021-12-09T16:30:11.339016Z"
    },
    "papermill": {
     "duration": 0.137087,
     "end_time": "2021-12-09T16:30:11.343870",
     "exception": false,
     "start_time": "2021-12-09T16:30:11.206783",
     "status": "completed"
    },
    "tags": []
   },
   "outputs": [],
   "source": [
    "df_pivot = df.pivot_table(index=\"PRODUCT\", columns = \"RECORD_TIME\", values = \"LISTING_COUNT\")"
   ]
  },
  {
   "cell_type": "code",
   "execution_count": 6,
   "id": "union-huntington",
   "metadata": {
    "execution": {
     "iopub.execute_input": "2021-12-09T16:30:11.429667Z",
     "iopub.status.busy": "2021-12-09T16:30:11.424592Z",
     "iopub.status.idle": "2021-12-09T16:30:11.435282Z",
     "shell.execute_reply": "2021-12-09T16:30:11.438409Z"
    },
    "papermill": {
     "duration": 0.066571,
     "end_time": "2021-12-09T16:30:11.439344",
     "exception": false,
     "start_time": "2021-12-09T16:30:11.372773",
     "status": "completed"
    },
    "tags": []
   },
   "outputs": [],
   "source": [
    "df_pivot.columns = [\"stamp_1\", \"stamp_2\"]\n",
    "df_pivot_diff = df_pivot.diff(axis=1)"
   ]
  },
  {
   "cell_type": "code",
   "execution_count": 7,
   "id": "fifth-motion",
   "metadata": {
    "execution": {
     "iopub.execute_input": "2021-12-09T16:30:11.530026Z",
     "iopub.status.busy": "2021-12-09T16:30:11.525611Z",
     "iopub.status.idle": "2021-12-09T16:30:13.274223Z",
     "shell.execute_reply": "2021-12-09T16:30:13.275578Z"
    },
    "papermill": {
     "duration": 1.805056,
     "end_time": "2021-12-09T16:30:13.276067",
     "exception": false,
     "start_time": "2021-12-09T16:30:11.471011",
     "status": "completed"
    },
    "tags": []
   },
   "outputs": [
    {
     "data": {
      "text/plain": [
       "<AxesSubplot:ylabel='PRODUCT'>"
      ]
     },
     "execution_count": 7,
     "metadata": {},
     "output_type": "execute_result"
    },
    {
     "data": {
      "image/png": "[encoded data removed]",
      "text/plain": [
       "<Figure size 432x288 with 1 Axes>"
      ]
     },
     "metadata": {
      "needs_background": "light"
     },
     "output_type": "display_data"
    }
   ],
   "source": [
    "df_pivot_diff.sort_values(\"stamp_2\", ascending = False)[\"stamp_2\"].head(10).plot.barh()"
   ]
  },
  {
   "cell_type": "code",
   "execution_count": null,
   "id": "extra-executive",
   "metadata": {
    "papermill": {
     "duration": 0.022085,
     "end_time": "2021-12-09T16:30:13.323065",
     "exception": false,
     "start_time": "2021-12-09T16:30:13.300980",
     "status": "completed"
    },
    "tags": []
   },
   "outputs": [],
   "source": []
  }
 ],
 "metadata": {
  "kernelspec": {
   "display_name": "Python 3",
   "language": "python",
   "name": "python3"
  },
  "language_info": {
   "codemirror_mode": {
    "name": "ipython",
    "version": 3
   },
   "file_extension": ".py",
   "mimetype": "text/x-python",
   "name": "python",
   "nbconvert_exporter": "python",
   "pygments_lexer": "ipython3",
   "version": "3.9.5"
  },
  "papermill": {
   "default_parameters": {},
   "duration": 9.945488,
   "end_time": "2021-12-09T16:30:14.535461",
   "environment_variables": {},
   "exception": null,
   "input_path": "eBay_Overview.ipynb",
   "output_path": "eBay_Overview.ipynb",
   "parameters": {},
   "start_time": "2021-12-09T16:30:04.589973",
   "version": "2.3.3"
  }
 },
 "nbformat": 4,
 "nbformat_minor": 5
}