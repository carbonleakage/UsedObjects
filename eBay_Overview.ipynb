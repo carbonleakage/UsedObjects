{
 "cells": [
  {
   "cell_type": "code",
   "execution_count": 1,
   "id": "reverse-picking",
   "metadata": {
    "execution": {
     "iopub.execute_input": "2021-09-06T20:00:06.658006Z",
     "iopub.status.busy": "2021-09-06T20:00:06.656045Z",
     "iopub.status.idle": "2021-09-06T20:00:07.464549Z",
     "shell.execute_reply": "2021-09-06T20:00:07.465789Z"
    },
    "papermill": {
     "duration": 0.859119,
     "end_time": "2021-09-06T20:00:07.466422",
     "exception": false,
     "start_time": "2021-09-06T20:00:06.607303",
     "status": "completed"
    },
    "tags": []
   },
   "outputs": [],
   "source": [
    "import pandas as pd\n",
    "import sqlite3"
   ]
  },
  {
   "cell_type": "code",
   "execution_count": 2,
   "id": "innovative-syndrome",
   "metadata": {
    "execution": {
     "iopub.execute_input": "2021-09-06T20:00:07.519189Z",
     "iopub.status.busy": "2021-09-06T20:00:07.516831Z",
     "iopub.status.idle": "2021-09-06T20:00:07.739200Z",
     "shell.execute_reply": "2021-09-06T20:00:07.740546Z"
    },
    "papermill": {
     "duration": 0.252295,
     "end_time": "2021-09-06T20:00:07.740958",
     "exception": false,
     "start_time": "2021-09-06T20:00:07.488663",
     "status": "completed"
    },
    "tags": []
   },
   "outputs": [],
   "source": [
    "timestamps = pd.read_sql(\"select distinct record_time from EBAY_TOP_BERLIN order by record_time desc limit 2\", sqlite3.connect(\"UsedObjects.db\"))"
   ]
  },
  {
   "cell_type": "code",
   "execution_count": 3,
   "id": "periodic-identification",
   "metadata": {
    "execution": {
     "iopub.execute_input": "2021-09-06T20:00:07.804843Z",
     "iopub.status.busy": "2021-09-06T20:00:07.802770Z",
     "iopub.status.idle": "2021-09-06T20:00:07.822995Z",
     "shell.execute_reply": "2021-09-06T20:00:07.824533Z"
    },
    "papermill": {
     "duration": 0.064828,
     "end_time": "2021-09-06T20:00:07.824995",
     "exception": false,
     "start_time": "2021-09-06T20:00:07.760167",
     "status": "completed"
    },
    "tags": []
   },
   "outputs": [
    {
     "data": {
      "text/html": [
       "<div>\n",
       "<style scoped>\n",
       "    .dataframe tbody tr th:only-of-type {\n",
       "        vertical-align: middle;\n",
       "    }\n",
       "\n",
       "    .dataframe tbody tr th {\n",
       "        vertical-align: top;\n",
       "    }\n",
       "\n",
       "    .dataframe thead th {\n",
       "        text-align: right;\n",
       "    }\n",
       "</style>\n",
       "<table border=\"1\" class=\"dataframe\">\n",
       "  <thead>\n",
       "    <tr style=\"text-align: right;\">\n",
       "      <th></th>\n",
       "      <th>RECORD_TIME</th>\n",
       "    </tr>\n",
       "  </thead>\n",
       "  <tbody>\n",
       "    <tr>\n",
       "      <th>0</th>\n",
       "      <td>2021-09-06 22:00</td>\n",
       "    </tr>\n",
       "    <tr>\n",
       "      <th>1</th>\n",
       "      <td>2021-09-06 21:30</td>\n",
       "    </tr>\n",
       "  </tbody>\n",
       "</table>\n",
       "</div>"
      ],
      "text/plain": [
       "        RECORD_TIME\n",
       "0  2021-09-06 22:00\n",
       "1  2021-09-06 21:30"
      ]
     },
     "execution_count": 3,
     "metadata": {},
     "output_type": "execute_result"
    }
   ],
   "source": [
    "timestamps"
   ]
  },
  {
   "cell_type": "code",
   "execution_count": 4,
   "id": "alternate-victory",
   "metadata": {
    "execution": {
     "iopub.execute_input": "2021-09-06T20:00:07.875297Z",
     "iopub.status.busy": "2021-09-06T20:00:07.873361Z",
     "iopub.status.idle": "2021-09-06T20:00:08.201102Z",
     "shell.execute_reply": "2021-09-06T20:00:08.202370Z"
    },
    "papermill": {
     "duration": 0.357525,
     "end_time": "2021-09-06T20:00:08.202781",
     "exception": false,
     "start_time": "2021-09-06T20:00:07.845256",
     "status": "completed"
    },
    "tags": []
   },
   "outputs": [],
   "source": [
    "df = pd.read_sql(\"select * from EBAY_TOP_BERLIN where record_time in (select distinct record_time from EBAY_TOP_BERLIN order by record_time desc limit 2)\", sqlite3.connect(\"UsedObjects.db\"))"
   ]
  },
  {
   "cell_type": "code",
   "execution_count": 5,
   "id": "popular-active",
   "metadata": {
    "execution": {
     "iopub.execute_input": "2021-09-06T20:00:08.287994Z",
     "iopub.status.busy": "2021-09-06T20:00:08.275596Z",
     "iopub.status.idle": "2021-09-06T20:00:08.303772Z",
     "shell.execute_reply": "2021-09-06T20:00:08.304988Z"
    },
    "papermill": {
     "duration": 0.074004,
     "end_time": "2021-09-06T20:00:08.305379",
     "exception": false,
     "start_time": "2021-09-06T20:00:08.231375",
     "status": "completed"
    },
    "tags": []
   },
   "outputs": [],
   "source": [
    "df_pivot = df.pivot_table(index=\"PRODUCT\", columns = \"RECORD_TIME\", values = \"LISTING_COUNT\")"
   ]
  },
  {
   "cell_type": "code",
   "execution_count": 6,
   "id": "union-huntington",
   "metadata": {
    "execution": {
     "iopub.execute_input": "2021-09-06T20:00:08.360960Z",
     "iopub.status.busy": "2021-09-06T20:00:08.358888Z",
     "iopub.status.idle": "2021-09-06T20:00:08.365414Z",
     "shell.execute_reply": "2021-09-06T20:00:08.364048Z"
    },
    "papermill": {
     "duration": 0.039924,
     "end_time": "2021-09-06T20:00:08.365765",
     "exception": false,
     "start_time": "2021-09-06T20:00:08.325841",
     "status": "completed"
    },
    "tags": []
   },
   "outputs": [],
   "source": [
    "df_pivot.columns = [\"stamp_1\", \"stamp_2\"]\n",
    "df_pivot_diff = df_pivot.diff(axis=1)"
   ]
  },
  {
   "cell_type": "code",
   "execution_count": 7,
   "id": "fifth-motion",
   "metadata": {
    "execution": {
     "iopub.execute_input": "2021-09-06T20:00:08.419335Z",
     "iopub.status.busy": "2021-09-06T20:00:08.416878Z",
     "iopub.status.idle": "2021-09-06T20:00:09.933031Z",
     "shell.execute_reply": "2021-09-06T20:00:09.934299Z"
    },
    "papermill": {
     "duration": 1.548799,
     "end_time": "2021-09-06T20:00:09.934713",
     "exception": false,
     "start_time": "2021-09-06T20:00:08.385914",
     "status": "completed"
    },
    "tags": []
   },
   "outputs": [
    {
     "data": {
      "text/plain": [
       "<AxesSubplot:ylabel='PRODUCT'>"
      ]
     },
     "execution_count": 7,
     "metadata": {},
     "output_type": "execute_result"
    },
    {
     "data": {
      "image/png": "[encoded data removed]",
      "text/plain": [
       "<Figure size 432x288 with 1 Axes>"
      ]
     },
     "metadata": {
      "needs_background": "light"
     },
     "output_type": "display_data"
    }
   ],
   "source": [
    "df_pivot_diff.sort_values(\"stamp_2\", ascending = False)[\"stamp_2\"].head(10).plot.barh()"
   ]
  },
  {
   "cell_type": "code",
   "execution_count": null,
   "id": "extra-executive",
   "metadata": {
    "papermill": {
     "duration": 0.022193,
     "end_time": "2021-09-06T20:00:09.980442",
     "exception": false,
     "start_time": "2021-09-06T20:00:09.958249",
     "status": "completed"
    },
    "tags": []
   },
   "outputs": [],
   "source": []
  }
 ],
 "metadata": {
  "kernelspec": {
   "display_name": "Python 3",
   "language": "python",
   "name": "python3"
  },
  "language_info": {
   "codemirror_mode": {
    "name": "ipython",
    "version": 3
   },
   "file_extension": ".py",
   "mimetype": "text/x-python",
   "name": "python",
   "nbconvert_exporter": "python",
   "pygments_lexer": "ipython3",
   "version": "3.9.5"
  },
  "papermill": {
   "default_parameters": {},
   "duration": 6.422969,
   "end_time": "2021-09-06T20:00:10.621792",
   "environment_variables": {},
   "exception": null,
   "input_path": "eBay_Overview.ipynb",
   "output_path": "eBay_Overview.ipynb",
   "parameters": {},
   "start_time": "2021-09-06T20:00:04.198823",
   "version": "2.3.3"
  }
 },
 "nbformat": 4,
 "nbformat_minor": 5
}