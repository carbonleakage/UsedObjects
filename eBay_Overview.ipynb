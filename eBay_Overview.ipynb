{
 "cells": [
  {
   "cell_type": "code",
   "execution_count": 1,
   "id": "reverse-picking",
   "metadata": {
    "execution": {
     "iopub.execute_input": "2021-12-02T10:30:08.301423Z",
     "iopub.status.busy": "2021-12-02T10:30:08.298733Z",
     "iopub.status.idle": "2021-12-02T10:30:09.267510Z",
     "shell.execute_reply": "2021-12-02T10:30:09.271731Z"
    },
    "papermill": {
     "duration": 1.021184,
     "end_time": "2021-12-02T10:30:09.273216",
     "exception": false,
     "start_time": "2021-12-02T10:30:08.252032",
     "status": "completed"
    },
    "tags": []
   },
   "outputs": [],
   "source": [
    "import pandas as pd\n",
    "import sqlite3"
   ]
  },
  {
   "cell_type": "code",
   "execution_count": 2,
   "id": "innovative-syndrome",
   "metadata": {
    "execution": {
     "iopub.execute_input": "2021-12-02T10:30:09.340665Z",
     "iopub.status.busy": "2021-12-02T10:30:09.338537Z",
     "iopub.status.idle": "2021-12-02T10:30:10.307525Z",
     "shell.execute_reply": "2021-12-02T10:30:10.308819Z"
    },
    "papermill": {
     "duration": 1.004491,
     "end_time": "2021-12-02T10:30:10.309274",
     "exception": false,
     "start_time": "2021-12-02T10:30:09.304783",
     "status": "completed"
    },
    "tags": []
   },
   "outputs": [],
   "source": [
    "timestamps = pd.read_sql(\"select distinct record_time from EBAY_TOP_BERLIN order by record_time desc limit 2\", sqlite3.connect(\"UsedObjects.db\"))"
   ]
  },
  {
   "cell_type": "code",
   "execution_count": 3,
   "id": "periodic-identification",
   "metadata": {
    "execution": {
     "iopub.execute_input": "2021-12-02T10:30:10.376655Z",
     "iopub.status.busy": "2021-12-02T10:30:10.370716Z",
     "iopub.status.idle": "2021-12-02T10:30:10.396446Z",
     "shell.execute_reply": "2021-12-02T10:30:10.398036Z"
    },
    "papermill": {
     "duration": 0.069636,
     "end_time": "2021-12-02T10:30:10.398557",
     "exception": false,
     "start_time": "2021-12-02T10:30:10.328921",
     "status": "completed"
    },
    "tags": []
   },
   "outputs": [
    {
     "data": {
      "text/html": [
       "<div>\n",
       "<style scoped>\n",
       "    .dataframe tbody tr th:only-of-type {\n",
       "        vertical-align: middle;\n",
       "    }\n",
       "\n",
       "    .dataframe tbody tr th {\n",
       "        vertical-align: top;\n",
       "    }\n",
       "\n",
       "    .dataframe thead th {\n",
       "        text-align: right;\n",
       "    }\n",
       "</style>\n",
       "<table border=\"1\" class=\"dataframe\">\n",
       "  <thead>\n",
       "    <tr style=\"text-align: right;\">\n",
       "      <th></th>\n",
       "      <th>RECORD_TIME</th>\n",
       "    </tr>\n",
       "  </thead>\n",
       "  <tbody>\n",
       "    <tr>\n",
       "      <th>0</th>\n",
       "      <td>2021-12-02 11:30</td>\n",
       "    </tr>\n",
       "    <tr>\n",
       "      <th>1</th>\n",
       "      <td>2021-12-02 11:00</td>\n",
       "    </tr>\n",
       "  </tbody>\n",
       "</table>\n",
       "</div>"
      ],
      "text/plain": [
       "        RECORD_TIME\n",
       "0  2021-12-02 11:30\n",
       "1  2021-12-02 11:00"
      ]
     },
     "execution_count": 3,
     "metadata": {},
     "output_type": "execute_result"
    }
   ],
   "source": [
    "timestamps"
   ]
  },
  {
   "cell_type": "code",
   "execution_count": 4,
   "id": "alternate-victory",
   "metadata": {
    "execution": {
     "iopub.execute_input": "2021-12-02T10:30:10.454980Z",
     "iopub.status.busy": "2021-12-02T10:30:10.452561Z",
     "iopub.status.idle": "2021-12-02T10:30:11.861565Z",
     "shell.execute_reply": "2021-12-02T10:30:11.863001Z"
    },
    "papermill": {
     "duration": 1.443307,
     "end_time": "2021-12-02T10:30:11.863472",
     "exception": false,
     "start_time": "2021-12-02T10:30:10.420165",
     "status": "completed"
    },
    "tags": []
   },
   "outputs": [],
   "source": [
    "df = pd.read_sql(\"select * from EBAY_TOP_BERLIN where record_time in (select distinct record_time from EBAY_TOP_BERLIN order by record_time desc limit 2)\", sqlite3.connect(\"UsedObjects.db\"))"
   ]
  },
  {
   "cell_type": "code",
   "execution_count": 5,
   "id": "popular-active",
   "metadata": {
    "execution": {
     "iopub.execute_input": "2021-12-02T10:30:11.927262Z",
     "iopub.status.busy": "2021-12-02T10:30:11.925024Z",
     "iopub.status.idle": "2021-12-02T10:30:11.957747Z",
     "shell.execute_reply": "2021-12-02T10:30:11.959303Z"
    },
    "papermill": {
     "duration": 0.075057,
     "end_time": "2021-12-02T10:30:11.959793",
     "exception": false,
     "start_time": "2021-12-02T10:30:11.884736",
     "status": "completed"
    },
    "tags": []
   },
   "outputs": [],
   "source": [
    "df_pivot = df.pivot_table(index=\"PRODUCT\", columns = \"RECORD_TIME\", values = \"LISTING_COUNT\")"
   ]
  },
  {
   "cell_type": "code",
   "execution_count": 6,
   "id": "union-huntington",
   "metadata": {
    "execution": {
     "iopub.execute_input": "2021-12-02T10:30:12.020278Z",
     "iopub.status.busy": "2021-12-02T10:30:12.018131Z",
     "iopub.status.idle": "2021-12-02T10:30:12.026165Z",
     "shell.execute_reply": "2021-12-02T10:30:12.024523Z"
    },
    "papermill": {
     "duration": 0.044815,
     "end_time": "2021-12-02T10:30:12.026584",
     "exception": false,
     "start_time": "2021-12-02T10:30:11.981769",
     "status": "completed"
    },
    "tags": []
   },
   "outputs": [],
   "source": [
    "df_pivot.columns = [\"stamp_1\", \"stamp_2\"]\n",
    "df_pivot_diff = df_pivot.diff(axis=1)"
   ]
  },
  {
   "cell_type": "code",
   "execution_count": 7,
   "id": "fifth-motion",
   "metadata": {
    "execution": {
     "iopub.execute_input": "2021-12-02T10:30:12.083547Z",
     "iopub.status.busy": "2021-12-02T10:30:12.081086Z",
     "iopub.status.idle": "2021-12-02T10:30:14.089150Z",
     "shell.execute_reply": "2021-12-02T10:30:14.090885Z"
    },
    "papermill": {
     "duration": 2.04414,
     "end_time": "2021-12-02T10:30:14.091404",
     "exception": false,
     "start_time": "2021-12-02T10:30:12.047264",
     "status": "completed"
    },
    "tags": []
   },
   "outputs": [
    {
     "data": {
      "text/plain": [
       "<AxesSubplot:ylabel='PRODUCT'>"
      ]
     },
     "execution_count": 7,
     "metadata": {},
     "output_type": "execute_result"
    },
    {
     "data": {
      "image/png": "[encoded data removed]",
      "text/plain": [
       "<Figure size 432x288 with 1 Axes>"
      ]
     },
     "metadata": {
      "needs_background": "light"
     },
     "output_type": "display_data"
    }
   ],
   "source": [
    "df_pivot_diff.sort_values(\"stamp_2\", ascending = False)[\"stamp_2\"].head(10).plot.barh()"
   ]
  },
  {
   "cell_type": "code",
   "execution_count": null,
   "id": "extra-executive",
   "metadata": {
    "papermill": {
     "duration": 0.022221,
     "end_time": "2021-12-02T10:30:14.138154",
     "exception": false,
     "start_time": "2021-12-02T10:30:14.115933",
     "status": "completed"
    },
    "tags": []
   },
   "outputs": [],
   "source": []
  }
 ],
 "metadata": {
  "kernelspec": {
   "display_name": "Python 3",
   "language": "python",
   "name": "python3"
  },
  "language_info": {
   "codemirror_mode": {
    "name": "ipython",
    "version": 3
   },
   "file_extension": ".py",
   "mimetype": "text/x-python",
   "name": "python",
   "nbconvert_exporter": "python",
   "pygments_lexer": "ipython3",
   "version": "3.9.5"
  },
  "papermill": {
   "default_parameters": {},
   "duration": 9.932305,
   "end_time": "2021-12-02T10:30:15.451649",
   "environment_variables": {},
   "exception": null,
   "input_path": "eBay_Overview.ipynb",
   "output_path": "eBay_Overview.ipynb",
   "parameters": {},
   "start_time": "2021-12-02T10:30:05.519344",
   "version": "2.3.3"
  }
 },
 "nbformat": 4,
 "nbformat_minor": 5
}