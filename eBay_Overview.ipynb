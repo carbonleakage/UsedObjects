{
 "cells": [
  {
   "cell_type": "code",
   "execution_count": 1,
   "id": "reverse-picking",
   "metadata": {
    "execution": {
     "iopub.execute_input": "2021-09-03T13:30:07.265358Z",
     "iopub.status.busy": "2021-09-03T13:30:07.263334Z",
     "iopub.status.idle": "2021-09-03T13:30:08.068162Z",
     "shell.execute_reply": "2021-09-03T13:30:08.069411Z"
    },
    "papermill": {
     "duration": 0.855639,
     "end_time": "2021-09-03T13:30:08.070038",
     "exception": false,
     "start_time": "2021-09-03T13:30:07.214399",
     "status": "completed"
    },
    "tags": []
   },
   "outputs": [],
   "source": [
    "import pandas as pd\n",
    "import sqlite3"
   ]
  },
  {
   "cell_type": "code",
   "execution_count": 2,
   "id": "innovative-syndrome",
   "metadata": {
    "execution": {
     "iopub.execute_input": "2021-09-03T13:30:08.123183Z",
     "iopub.status.busy": "2021-09-03T13:30:08.121073Z",
     "iopub.status.idle": "2021-09-03T13:30:08.317559Z",
     "shell.execute_reply": "2021-09-03T13:30:08.318675Z"
    },
    "papermill": {
     "duration": 0.226791,
     "end_time": "2021-09-03T13:30:08.319270",
     "exception": false,
     "start_time": "2021-09-03T13:30:08.092479",
     "status": "completed"
    },
    "tags": []
   },
   "outputs": [],
   "source": [
    "timestamps = pd.read_sql(\"select distinct record_time from EBAY_TOP_BERLIN order by record_time desc limit 2\", sqlite3.connect(\"UsedObjects.db\"))"
   ]
  },
  {
   "cell_type": "code",
   "execution_count": 3,
   "id": "periodic-identification",
   "metadata": {
    "execution": {
     "iopub.execute_input": "2021-09-03T13:30:08.388309Z",
     "iopub.status.busy": "2021-09-03T13:30:08.386225Z",
     "iopub.status.idle": "2021-09-03T13:30:08.407378Z",
     "shell.execute_reply": "2021-09-03T13:30:08.406003Z"
    },
    "papermill": {
     "duration": 0.066707,
     "end_time": "2021-09-03T13:30:08.407750",
     "exception": false,
     "start_time": "2021-09-03T13:30:08.341043",
     "status": "completed"
    },
    "tags": []
   },
   "outputs": [
    {
     "data": {
      "text/html": [
       "<div>\n",
       "<style scoped>\n",
       "    .dataframe tbody tr th:only-of-type {\n",
       "        vertical-align: middle;\n",
       "    }\n",
       "\n",
       "    .dataframe tbody tr th {\n",
       "        vertical-align: top;\n",
       "    }\n",
       "\n",
       "    .dataframe thead th {\n",
       "        text-align: right;\n",
       "    }\n",
       "</style>\n",
       "<table border=\"1\" class=\"dataframe\">\n",
       "  <thead>\n",
       "    <tr style=\"text-align: right;\">\n",
       "      <th></th>\n",
       "      <th>RECORD_TIME</th>\n",
       "    </tr>\n",
       "  </thead>\n",
       "  <tbody>\n",
       "    <tr>\n",
       "      <th>0</th>\n",
       "      <td>2021-09-03 15:30</td>\n",
       "    </tr>\n",
       "    <tr>\n",
       "      <th>1</th>\n",
       "      <td>2021-09-03 15:00</td>\n",
       "    </tr>\n",
       "  </tbody>\n",
       "</table>\n",
       "</div>"
      ],
      "text/plain": [
       "        RECORD_TIME\n",
       "0  2021-09-03 15:30\n",
       "1  2021-09-03 15:00"
      ]
     },
     "execution_count": 3,
     "metadata": {},
     "output_type": "execute_result"
    }
   ],
   "source": [
    "timestamps"
   ]
  },
  {
   "cell_type": "code",
   "execution_count": 4,
   "id": "alternate-victory",
   "metadata": {
    "execution": {
     "iopub.execute_input": "2021-09-03T13:30:08.458382Z",
     "iopub.status.busy": "2021-09-03T13:30:08.456532Z",
     "iopub.status.idle": "2021-09-03T13:30:08.741774Z",
     "shell.execute_reply": "2021-09-03T13:30:08.743044Z"
    },
    "papermill": {
     "duration": 0.31524,
     "end_time": "2021-09-03T13:30:08.743455",
     "exception": false,
     "start_time": "2021-09-03T13:30:08.428215",
     "status": "completed"
    },
    "tags": []
   },
   "outputs": [],
   "source": [
    "df = pd.read_sql(\"select * from EBAY_TOP_BERLIN where record_time in (select distinct record_time from EBAY_TOP_BERLIN order by record_time desc limit 2)\", sqlite3.connect(\"UsedObjects.db\"))"
   ]
  },
  {
   "cell_type": "code",
   "execution_count": 5,
   "id": "popular-active",
   "metadata": {
    "execution": {
     "iopub.execute_input": "2021-09-03T13:30:08.823301Z",
     "iopub.status.busy": "2021-09-03T13:30:08.810742Z",
     "iopub.status.idle": "2021-09-03T13:30:08.841005Z",
     "shell.execute_reply": "2021-09-03T13:30:08.842374Z"
    },
    "papermill": {
     "duration": 0.073714,
     "end_time": "2021-09-03T13:30:08.842816",
     "exception": false,
     "start_time": "2021-09-03T13:30:08.769102",
     "status": "completed"
    },
    "tags": []
   },
   "outputs": [],
   "source": [
    "df_pivot = df.pivot_table(index=\"PRODUCT\", columns = \"RECORD_TIME\", values = \"LISTING_COUNT\")"
   ]
  },
  {
   "cell_type": "code",
   "execution_count": 6,
   "id": "union-huntington",
   "metadata": {
    "execution": {
     "iopub.execute_input": "2021-09-03T13:30:08.899955Z",
     "iopub.status.busy": "2021-09-03T13:30:08.897848Z",
     "iopub.status.idle": "2021-09-03T13:30:08.903136Z",
     "shell.execute_reply": "2021-09-03T13:30:08.904580Z"
    },
    "papermill": {
     "duration": 0.040997,
     "end_time": "2021-09-03T13:30:08.905017",
     "exception": false,
     "start_time": "2021-09-03T13:30:08.864020",
     "status": "completed"
    },
    "tags": []
   },
   "outputs": [],
   "source": [
    "df_pivot.columns = [\"stamp_1\", \"stamp_2\"]\n",
    "df_pivot_diff = df_pivot.diff(axis=1)"
   ]
  },
  {
   "cell_type": "code",
   "execution_count": 7,
   "id": "fifth-motion",
   "metadata": {
    "execution": {
     "iopub.execute_input": "2021-09-03T13:30:08.960264Z",
     "iopub.status.busy": "2021-09-03T13:30:08.957697Z",
     "iopub.status.idle": "2021-09-03T13:30:10.464332Z",
     "shell.execute_reply": "2021-09-03T13:30:10.465700Z"
    },
    "papermill": {
     "duration": 1.539762,
     "end_time": "2021-09-03T13:30:10.466144",
     "exception": false,
     "start_time": "2021-09-03T13:30:08.926382",
     "status": "completed"
    },
    "tags": []
   },
   "outputs": [
    {
     "data": {
      "text/plain": [
       "<AxesSubplot:ylabel='PRODUCT'>"
      ]
     },
     "execution_count": 7,
     "metadata": {},
     "output_type": "execute_result"
    },
    {
     "data": {
      "image/png": "[encoded data removed]",
      "text/plain": [
       "<Figure size 432x288 with 1 Axes>"
      ]
     },
     "metadata": {
      "needs_background": "light"
     },
     "output_type": "display_data"
    }
   ],
   "source": [
    "df_pivot_diff.sort_values(\"stamp_2\", ascending = False)[\"stamp_2\"].head(10).plot.barh()"
   ]
  },
  {
   "cell_type": "code",
   "execution_count": null,
   "id": "extra-executive",
   "metadata": {
    "papermill": {
     "duration": 0.022347,
     "end_time": "2021-09-03T13:30:10.512138",
     "exception": false,
     "start_time": "2021-09-03T13:30:10.489791",
     "status": "completed"
    },
    "tags": []
   },
   "outputs": [],
   "source": []
  }
 ],
 "metadata": {
  "kernelspec": {
   "display_name": "Python 3",
   "language": "python",
   "name": "python3"
  },
  "language_info": {
   "codemirror_mode": {
    "name": "ipython",
    "version": 3
   },
   "file_extension": ".py",
   "mimetype": "text/x-python",
   "name": "python",
   "nbconvert_exporter": "python",
   "pygments_lexer": "ipython3",
   "version": "3.9.5"
  },
  "papermill": {
   "default_parameters": {},
   "duration": 6.346102,
   "end_time": "2021-09-03T13:30:11.154350",
   "environment_variables": {},
   "exception": null,
   "input_path": "eBay_Overview.ipynb",
   "output_path": "eBay_Overview.ipynb",
   "parameters": {},
   "start_time": "2021-09-03T13:30:04.808248",
   "version": "2.3.3"
  }
 },
 "nbformat": 4,
 "nbformat_minor": 5
}