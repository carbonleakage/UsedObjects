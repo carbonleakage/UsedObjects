{
 "cells": [
  {
   "cell_type": "code",
   "execution_count": 1,
   "id": "reverse-picking",
   "metadata": {
    "execution": {
     "iopub.execute_input": "2021-12-05T08:30:07.690932Z",
     "iopub.status.busy": "2021-12-05T08:30:07.687542Z",
     "iopub.status.idle": "2021-12-05T08:30:08.640041Z",
     "shell.execute_reply": "2021-12-05T08:30:08.641728Z"
    },
    "papermill": {
     "duration": 1.000911,
     "end_time": "2021-12-05T08:30:08.642483",
     "exception": false,
     "start_time": "2021-12-05T08:30:07.641572",
     "status": "completed"
    },
    "tags": []
   },
   "outputs": [],
   "source": [
    "import pandas as pd\n",
    "import sqlite3"
   ]
  },
  {
   "cell_type": "code",
   "execution_count": 2,
   "id": "innovative-syndrome",
   "metadata": {
    "execution": {
     "iopub.execute_input": "2021-12-05T08:30:08.705558Z",
     "iopub.status.busy": "2021-12-05T08:30:08.703107Z",
     "iopub.status.idle": "2021-12-05T08:30:09.705201Z",
     "shell.execute_reply": "2021-12-05T08:30:09.706729Z"
    },
    "papermill": {
     "duration": 1.036475,
     "end_time": "2021-12-05T08:30:09.707232",
     "exception": false,
     "start_time": "2021-12-05T08:30:08.670757",
     "status": "completed"
    },
    "tags": []
   },
   "outputs": [],
   "source": [
    "timestamps = pd.read_sql(\"select distinct record_time from EBAY_TOP_BERLIN order by record_time desc limit 2\", sqlite3.connect(\"UsedObjects.db\"))"
   ]
  },
  {
   "cell_type": "code",
   "execution_count": 3,
   "id": "periodic-identification",
   "metadata": {
    "execution": {
     "iopub.execute_input": "2021-12-05T08:30:09.776053Z",
     "iopub.status.busy": "2021-12-05T08:30:09.773795Z",
     "iopub.status.idle": "2021-12-05T08:30:09.795796Z",
     "shell.execute_reply": "2021-12-05T08:30:09.797169Z"
    },
    "papermill": {
     "duration": 0.071124,
     "end_time": "2021-12-05T08:30:09.797638",
     "exception": false,
     "start_time": "2021-12-05T08:30:09.726514",
     "status": "completed"
    },
    "tags": []
   },
   "outputs": [
    {
     "data": {
      "text/html": [
       "<div>\n",
       "<style scoped>\n",
       "    .dataframe tbody tr th:only-of-type {\n",
       "        vertical-align: middle;\n",
       "    }\n",
       "\n",
       "    .dataframe tbody tr th {\n",
       "        vertical-align: top;\n",
       "    }\n",
       "\n",
       "    .dataframe thead th {\n",
       "        text-align: right;\n",
       "    }\n",
       "</style>\n",
       "<table border=\"1\" class=\"dataframe\">\n",
       "  <thead>\n",
       "    <tr style=\"text-align: right;\">\n",
       "      <th></th>\n",
       "      <th>RECORD_TIME</th>\n",
       "    </tr>\n",
       "  </thead>\n",
       "  <tbody>\n",
       "    <tr>\n",
       "      <th>0</th>\n",
       "      <td>2021-12-05 09:30</td>\n",
       "    </tr>\n",
       "    <tr>\n",
       "      <th>1</th>\n",
       "      <td>2021-12-05 09:00</td>\n",
       "    </tr>\n",
       "  </tbody>\n",
       "</table>\n",
       "</div>"
      ],
      "text/plain": [
       "        RECORD_TIME\n",
       "0  2021-12-05 09:30\n",
       "1  2021-12-05 09:00"
      ]
     },
     "execution_count": 3,
     "metadata": {},
     "output_type": "execute_result"
    }
   ],
   "source": [
    "timestamps"
   ]
  },
  {
   "cell_type": "code",
   "execution_count": 4,
   "id": "alternate-victory",
   "metadata": {
    "execution": {
     "iopub.execute_input": "2021-12-05T08:30:09.851819Z",
     "iopub.status.busy": "2021-12-05T08:30:09.849730Z",
     "iopub.status.idle": "2021-12-05T08:30:11.307219Z",
     "shell.execute_reply": "2021-12-05T08:30:11.309391Z"
    },
    "papermill": {
     "duration": 1.491844,
     "end_time": "2021-12-05T08:30:11.309873",
     "exception": false,
     "start_time": "2021-12-05T08:30:09.818029",
     "status": "completed"
    },
    "tags": []
   },
   "outputs": [],
   "source": [
    "df = pd.read_sql(\"select * from EBAY_TOP_BERLIN where record_time in (select distinct record_time from EBAY_TOP_BERLIN order by record_time desc limit 2)\", sqlite3.connect(\"UsedObjects.db\"))"
   ]
  },
  {
   "cell_type": "code",
   "execution_count": 5,
   "id": "popular-active",
   "metadata": {
    "execution": {
     "iopub.execute_input": "2021-12-05T08:30:11.383602Z",
     "iopub.status.busy": "2021-12-05T08:30:11.371198Z",
     "iopub.status.idle": "2021-12-05T08:30:11.404320Z",
     "shell.execute_reply": "2021-12-05T08:30:11.405900Z"
    },
    "papermill": {
     "duration": 0.075557,
     "end_time": "2021-12-05T08:30:11.406385",
     "exception": false,
     "start_time": "2021-12-05T08:30:11.330828",
     "status": "completed"
    },
    "tags": []
   },
   "outputs": [],
   "source": [
    "df_pivot = df.pivot_table(index=\"PRODUCT\", columns = \"RECORD_TIME\", values = \"LISTING_COUNT\")"
   ]
  },
  {
   "cell_type": "code",
   "execution_count": 6,
   "id": "union-huntington",
   "metadata": {
    "execution": {
     "iopub.execute_input": "2021-12-05T08:30:11.493189Z",
     "iopub.status.busy": "2021-12-05T08:30:11.489894Z",
     "iopub.status.idle": "2021-12-05T08:30:11.501287Z",
     "shell.execute_reply": "2021-12-05T08:30:11.497778Z"
    },
    "papermill": {
     "duration": 0.072133,
     "end_time": "2021-12-05T08:30:11.502068",
     "exception": false,
     "start_time": "2021-12-05T08:30:11.429935",
     "status": "completed"
    },
    "tags": []
   },
   "outputs": [],
   "source": [
    "df_pivot.columns = [\"stamp_1\", \"stamp_2\"]\n",
    "df_pivot_diff = df_pivot.diff(axis=1)"
   ]
  },
  {
   "cell_type": "code",
   "execution_count": 7,
   "id": "fifth-motion",
   "metadata": {
    "execution": {
     "iopub.execute_input": "2021-12-05T08:30:11.572910Z",
     "iopub.status.busy": "2021-12-05T08:30:11.561746Z",
     "iopub.status.idle": "2021-12-05T08:30:13.302056Z",
     "shell.execute_reply": "2021-12-05T08:30:13.303488Z"
    },
    "papermill": {
     "duration": 1.778071,
     "end_time": "2021-12-05T08:30:13.303931",
     "exception": false,
     "start_time": "2021-12-05T08:30:11.525860",
     "status": "completed"
    },
    "tags": []
   },
   "outputs": [
    {
     "data": {
      "text/plain": [
       "<AxesSubplot:ylabel='PRODUCT'>"
      ]
     },
     "execution_count": 7,
     "metadata": {},
     "output_type": "execute_result"
    },
    {
     "data": {
      "image/png": "[encoded data removed]",
      "text/plain": [
       "<Figure size 432x288 with 1 Axes>"
      ]
     },
     "metadata": {
      "needs_background": "light"
     },
     "output_type": "display_data"
    }
   ],
   "source": [
    "df_pivot_diff.sort_values(\"stamp_2\", ascending = False)[\"stamp_2\"].head(10).plot.barh()"
   ]
  },
  {
   "cell_type": "code",
   "execution_count": null,
   "id": "extra-executive",
   "metadata": {
    "papermill": {
     "duration": 0.022541,
     "end_time": "2021-12-05T08:30:13.350012",
     "exception": false,
     "start_time": "2021-12-05T08:30:13.327471",
     "status": "completed"
    },
    "tags": []
   },
   "outputs": [],
   "source": []
  }
 ],
 "metadata": {
  "kernelspec": {
   "display_name": "Python 3",
   "language": "python",
   "name": "python3"
  },
  "language_info": {
   "codemirror_mode": {
    "name": "ipython",
    "version": 3
   },
   "file_extension": ".py",
   "mimetype": "text/x-python",
   "name": "python",
   "nbconvert_exporter": "python",
   "pygments_lexer": "ipython3",
   "version": "3.9.5"
  },
  "papermill": {
   "default_parameters": {},
   "duration": 10.020103,
   "end_time": "2021-12-05T08:30:14.837508",
   "environment_variables": {},
   "exception": null,
   "input_path": "eBay_Overview.ipynb",
   "output_path": "eBay_Overview.ipynb",
   "parameters": {},
   "start_time": "2021-12-05T08:30:04.817405",
   "version": "2.3.3"
  }
 },
 "nbformat": 4,
 "nbformat_minor": 5
}