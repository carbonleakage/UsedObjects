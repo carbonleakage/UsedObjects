{
 "cells": [
  {
   "cell_type": "code",
   "execution_count": 1,
   "id": "reverse-picking",
   "metadata": {
    "execution": {
     "iopub.execute_input": "2021-11-03T18:30:07.637014Z",
     "iopub.status.busy": "2021-11-03T18:30:07.634204Z",
     "iopub.status.idle": "2021-11-03T18:30:08.608047Z",
     "shell.execute_reply": "2021-11-03T18:30:08.606128Z"
    },
    "papermill": {
     "duration": 1.020282,
     "end_time": "2021-11-03T18:30:08.608529",
     "exception": false,
     "start_time": "2021-11-03T18:30:07.588247",
     "status": "completed"
    },
    "tags": []
   },
   "outputs": [],
   "source": [
    "import pandas as pd\n",
    "import sqlite3"
   ]
  },
  {
   "cell_type": "code",
   "execution_count": 2,
   "id": "innovative-syndrome",
   "metadata": {
    "execution": {
     "iopub.execute_input": "2021-11-03T18:30:08.669405Z",
     "iopub.status.busy": "2021-11-03T18:30:08.667022Z",
     "iopub.status.idle": "2021-11-03T18:30:09.391286Z",
     "shell.execute_reply": "2021-11-03T18:30:09.392612Z"
    },
    "papermill": {
     "duration": 0.757081,
     "end_time": "2021-11-03T18:30:09.393118",
     "exception": false,
     "start_time": "2021-11-03T18:30:08.636037",
     "status": "completed"
    },
    "tags": []
   },
   "outputs": [],
   "source": [
    "timestamps = pd.read_sql(\"select distinct record_time from EBAY_TOP_BERLIN order by record_time desc limit 2\", sqlite3.connect(\"UsedObjects.db\"))"
   ]
  },
  {
   "cell_type": "code",
   "execution_count": 3,
   "id": "periodic-identification",
   "metadata": {
    "execution": {
     "iopub.execute_input": "2021-11-03T18:30:09.459574Z",
     "iopub.status.busy": "2021-11-03T18:30:09.457449Z",
     "iopub.status.idle": "2021-11-03T18:30:09.480572Z",
     "shell.execute_reply": "2021-11-03T18:30:09.482100Z"
    },
    "papermill": {
     "duration": 0.070491,
     "end_time": "2021-11-03T18:30:09.482623",
     "exception": false,
     "start_time": "2021-11-03T18:30:09.412132",
     "status": "completed"
    },
    "tags": []
   },
   "outputs": [
    {
     "data": {
      "text/html": [
       "<div>\n",
       "<style scoped>\n",
       "    .dataframe tbody tr th:only-of-type {\n",
       "        vertical-align: middle;\n",
       "    }\n",
       "\n",
       "    .dataframe tbody tr th {\n",
       "        vertical-align: top;\n",
       "    }\n",
       "\n",
       "    .dataframe thead th {\n",
       "        text-align: right;\n",
       "    }\n",
       "</style>\n",
       "<table border=\"1\" class=\"dataframe\">\n",
       "  <thead>\n",
       "    <tr style=\"text-align: right;\">\n",
       "      <th></th>\n",
       "      <th>RECORD_TIME</th>\n",
       "    </tr>\n",
       "  </thead>\n",
       "  <tbody>\n",
       "    <tr>\n",
       "      <th>0</th>\n",
       "      <td>2021-11-03 19:30</td>\n",
       "    </tr>\n",
       "    <tr>\n",
       "      <th>1</th>\n",
       "      <td>2021-11-03 19:00</td>\n",
       "    </tr>\n",
       "  </tbody>\n",
       "</table>\n",
       "</div>"
      ],
      "text/plain": [
       "        RECORD_TIME\n",
       "0  2021-11-03 19:30\n",
       "1  2021-11-03 19:00"
      ]
     },
     "execution_count": 3,
     "metadata": {},
     "output_type": "execute_result"
    }
   ],
   "source": [
    "timestamps"
   ]
  },
  {
   "cell_type": "code",
   "execution_count": 4,
   "id": "alternate-victory",
   "metadata": {
    "execution": {
     "iopub.execute_input": "2021-11-03T18:30:09.536883Z",
     "iopub.status.busy": "2021-11-03T18:30:09.534585Z",
     "iopub.status.idle": "2021-11-03T18:30:10.592433Z",
     "shell.execute_reply": "2021-11-03T18:30:10.594154Z"
    },
    "papermill": {
     "duration": 1.092026,
     "end_time": "2021-11-03T18:30:10.594669",
     "exception": false,
     "start_time": "2021-11-03T18:30:09.502643",
     "status": "completed"
    },
    "tags": []
   },
   "outputs": [],
   "source": [
    "df = pd.read_sql(\"select * from EBAY_TOP_BERLIN where record_time in (select distinct record_time from EBAY_TOP_BERLIN order by record_time desc limit 2)\", sqlite3.connect(\"UsedObjects.db\"))"
   ]
  },
  {
   "cell_type": "code",
   "execution_count": 5,
   "id": "popular-active",
   "metadata": {
    "execution": {
     "iopub.execute_input": "2021-11-03T18:30:10.662127Z",
     "iopub.status.busy": "2021-11-03T18:30:10.659715Z",
     "iopub.status.idle": "2021-11-03T18:30:10.695868Z",
     "shell.execute_reply": "2021-11-03T18:30:10.694071Z"
    },
    "papermill": {
     "duration": 0.078995,
     "end_time": "2021-11-03T18:30:10.696281",
     "exception": false,
     "start_time": "2021-11-03T18:30:10.617286",
     "status": "completed"
    },
    "tags": []
   },
   "outputs": [],
   "source": [
    "df_pivot = df.pivot_table(index=\"PRODUCT\", columns = \"RECORD_TIME\", values = \"LISTING_COUNT\")"
   ]
  },
  {
   "cell_type": "code",
   "execution_count": 6,
   "id": "union-huntington",
   "metadata": {
    "execution": {
     "iopub.execute_input": "2021-11-03T18:30:10.758773Z",
     "iopub.status.busy": "2021-11-03T18:30:10.756569Z",
     "iopub.status.idle": "2021-11-03T18:30:10.762064Z",
     "shell.execute_reply": "2021-11-03T18:30:10.763484Z"
    },
    "papermill": {
     "duration": 0.0464,
     "end_time": "2021-11-03T18:30:10.763972",
     "exception": false,
     "start_time": "2021-11-03T18:30:10.717572",
     "status": "completed"
    },
    "tags": []
   },
   "outputs": [],
   "source": [
    "df_pivot.columns = [\"stamp_1\", \"stamp_2\"]\n",
    "df_pivot_diff = df_pivot.diff(axis=1)"
   ]
  },
  {
   "cell_type": "code",
   "execution_count": 7,
   "id": "fifth-motion",
   "metadata": {
    "execution": {
     "iopub.execute_input": "2021-11-03T18:30:10.824659Z",
     "iopub.status.busy": "2021-11-03T18:30:10.822040Z",
     "iopub.status.idle": "2021-11-03T18:30:12.630074Z",
     "shell.execute_reply": "2021-11-03T18:30:12.632610Z"
    },
    "papermill": {
     "duration": 1.847987,
     "end_time": "2021-11-03T18:30:12.633525",
     "exception": false,
     "start_time": "2021-11-03T18:30:10.785538",
     "status": "completed"
    },
    "tags": []
   },
   "outputs": [
    {
     "data": {
      "text/plain": [
       "<AxesSubplot:ylabel='PRODUCT'>"
      ]
     },
     "execution_count": 7,
     "metadata": {},
     "output_type": "execute_result"
    },
    {
     "data": {
      "image/png": "[encoded data removed]",
      "text/plain": [
       "<Figure size 432x288 with 1 Axes>"
      ]
     },
     "metadata": {
      "needs_background": "light"
     },
     "output_type": "display_data"
    }
   ],
   "source": [
    "df_pivot_diff.sort_values(\"stamp_2\", ascending = False)[\"stamp_2\"].head(10).plot.barh()"
   ]
  },
  {
   "cell_type": "code",
   "execution_count": null,
   "id": "extra-executive",
   "metadata": {
    "papermill": {
     "duration": 0.028668,
     "end_time": "2021-11-03T18:30:12.695379",
     "exception": false,
     "start_time": "2021-11-03T18:30:12.666711",
     "status": "completed"
    },
    "tags": []
   },
   "outputs": [],
   "source": []
  }
 ],
 "metadata": {
  "kernelspec": {
   "display_name": "Python 3",
   "language": "python",
   "name": "python3"
  },
  "language_info": {
   "codemirror_mode": {
    "name": "ipython",
    "version": 3
   },
   "file_extension": ".py",
   "mimetype": "text/x-python",
   "name": "python",
   "nbconvert_exporter": "python",
   "pygments_lexer": "ipython3",
   "version": "3.9.5"
  },
  "papermill": {
   "default_parameters": {},
   "duration": 8.737914,
   "end_time": "2021-11-03T18:30:13.568381",
   "environment_variables": {},
   "exception": null,
   "input_path": "eBay_Overview.ipynb",
   "output_path": "eBay_Overview.ipynb",
   "parameters": {},
   "start_time": "2021-11-03T18:30:04.830467",
   "version": "2.3.3"
  }
 },
 "nbformat": 4,
 "nbformat_minor": 5
}