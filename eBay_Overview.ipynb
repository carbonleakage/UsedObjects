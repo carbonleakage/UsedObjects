{
 "cells": [
  {
   "cell_type": "code",
   "execution_count": 1,
   "id": "reverse-picking",
   "metadata": {
    "execution": {
     "iopub.execute_input": "2021-12-12T13:30:08.072460Z",
     "iopub.status.busy": "2021-12-12T13:30:08.070306Z",
     "iopub.status.idle": "2021-12-12T13:30:09.023876Z",
     "shell.execute_reply": "2021-12-12T13:30:09.025479Z"
    },
    "papermill": {
     "duration": 1.002943,
     "end_time": "2021-12-12T13:30:09.026208",
     "exception": false,
     "start_time": "2021-12-12T13:30:08.023265",
     "status": "completed"
    },
    "tags": []
   },
   "outputs": [],
   "source": [
    "import pandas as pd\n",
    "import sqlite3"
   ]
  },
  {
   "cell_type": "code",
   "execution_count": 2,
   "id": "innovative-syndrome",
   "metadata": {
    "execution": {
     "iopub.execute_input": "2021-12-12T13:30:09.094366Z",
     "iopub.status.busy": "2021-12-12T13:30:09.091792Z",
     "iopub.status.idle": "2021-12-12T13:30:10.150715Z",
     "shell.execute_reply": "2021-12-12T13:30:10.152837Z"
    },
    "papermill": {
     "duration": 1.093454,
     "end_time": "2021-12-12T13:30:10.153315",
     "exception": false,
     "start_time": "2021-12-12T13:30:09.059861",
     "status": "completed"
    },
    "tags": []
   },
   "outputs": [],
   "source": [
    "timestamps = pd.read_sql(\"select distinct record_time from EBAY_TOP_BERLIN order by record_time desc limit 2\", sqlite3.connect(\"UsedObjects.db\"))"
   ]
  },
  {
   "cell_type": "code",
   "execution_count": 3,
   "id": "periodic-identification",
   "metadata": {
    "execution": {
     "iopub.execute_input": "2021-12-12T13:30:10.223983Z",
     "iopub.status.busy": "2021-12-12T13:30:10.221457Z",
     "iopub.status.idle": "2021-12-12T13:30:10.245773Z",
     "shell.execute_reply": "2021-12-12T13:30:10.244036Z"
    },
    "papermill": {
     "duration": 0.073465,
     "end_time": "2021-12-12T13:30:10.246223",
     "exception": false,
     "start_time": "2021-12-12T13:30:10.172758",
     "status": "completed"
    },
    "tags": []
   },
   "outputs": [
    {
     "data": {
      "text/html": [
       "<div>\n",
       "<style scoped>\n",
       "    .dataframe tbody tr th:only-of-type {\n",
       "        vertical-align: middle;\n",
       "    }\n",
       "\n",
       "    .dataframe tbody tr th {\n",
       "        vertical-align: top;\n",
       "    }\n",
       "\n",
       "    .dataframe thead th {\n",
       "        text-align: right;\n",
       "    }\n",
       "</style>\n",
       "<table border=\"1\" class=\"dataframe\">\n",
       "  <thead>\n",
       "    <tr style=\"text-align: right;\">\n",
       "      <th></th>\n",
       "      <th>RECORD_TIME</th>\n",
       "    </tr>\n",
       "  </thead>\n",
       "  <tbody>\n",
       "    <tr>\n",
       "      <th>0</th>\n",
       "      <td>2021-12-12 14:30</td>\n",
       "    </tr>\n",
       "    <tr>\n",
       "      <th>1</th>\n",
       "      <td>2021-12-12 14:00</td>\n",
       "    </tr>\n",
       "  </tbody>\n",
       "</table>\n",
       "</div>"
      ],
      "text/plain": [
       "        RECORD_TIME\n",
       "0  2021-12-12 14:30\n",
       "1  2021-12-12 14:00"
      ]
     },
     "execution_count": 3,
     "metadata": {},
     "output_type": "execute_result"
    }
   ],
   "source": [
    "timestamps"
   ]
  },
  {
   "cell_type": "code",
   "execution_count": 4,
   "id": "alternate-victory",
   "metadata": {
    "execution": {
     "iopub.execute_input": "2021-12-12T13:30:10.304637Z",
     "iopub.status.busy": "2021-12-12T13:30:10.302313Z",
     "iopub.status.idle": "2021-12-12T13:30:11.836042Z",
     "shell.execute_reply": "2021-12-12T13:30:11.837515Z"
    },
    "papermill": {
     "duration": 1.570111,
     "end_time": "2021-12-12T13:30:11.837958",
     "exception": false,
     "start_time": "2021-12-12T13:30:10.267847",
     "status": "completed"
    },
    "tags": []
   },
   "outputs": [],
   "source": [
    "df = pd.read_sql(\"select * from EBAY_TOP_BERLIN where record_time in (select distinct record_time from EBAY_TOP_BERLIN order by record_time desc limit 2)\", sqlite3.connect(\"UsedObjects.db\"))"
   ]
  },
  {
   "cell_type": "code",
   "execution_count": 5,
   "id": "popular-active",
   "metadata": {
    "execution": {
     "iopub.execute_input": "2021-12-12T13:30:11.917756Z",
     "iopub.status.busy": "2021-12-12T13:30:11.915323Z",
     "iopub.status.idle": "2021-12-12T13:30:11.935621Z",
     "shell.execute_reply": "2021-12-12T13:30:11.937188Z"
    },
    "papermill": {
     "duration": 0.07858,
     "end_time": "2021-12-12T13:30:11.937678",
     "exception": false,
     "start_time": "2021-12-12T13:30:11.859098",
     "status": "completed"
    },
    "tags": []
   },
   "outputs": [],
   "source": [
    "df_pivot = df.pivot_table(index=\"PRODUCT\", columns = \"RECORD_TIME\", values = \"LISTING_COUNT\")"
   ]
  },
  {
   "cell_type": "code",
   "execution_count": 6,
   "id": "union-huntington",
   "metadata": {
    "execution": {
     "iopub.execute_input": "2021-12-12T13:30:11.999532Z",
     "iopub.status.busy": "2021-12-12T13:30:11.997243Z",
     "iopub.status.idle": "2021-12-12T13:30:12.003260Z",
     "shell.execute_reply": "2021-12-12T13:30:12.004837Z"
    },
    "papermill": {
     "duration": 0.045937,
     "end_time": "2021-12-12T13:30:12.005350",
     "exception": false,
     "start_time": "2021-12-12T13:30:11.959413",
     "status": "completed"
    },
    "tags": []
   },
   "outputs": [],
   "source": [
    "df_pivot.columns = [\"stamp_1\", \"stamp_2\"]\n",
    "df_pivot_diff = df_pivot.diff(axis=1)"
   ]
  },
  {
   "cell_type": "code",
   "execution_count": 7,
   "id": "fifth-motion",
   "metadata": {
    "execution": {
     "iopub.execute_input": "2021-12-12T13:30:12.062906Z",
     "iopub.status.busy": "2021-12-12T13:30:12.060353Z",
     "iopub.status.idle": "2021-12-12T13:30:13.976115Z",
     "shell.execute_reply": "2021-12-12T13:30:13.977551Z"
    },
    "papermill": {
     "duration": 1.951014,
     "end_time": "2021-12-12T13:30:13.978014",
     "exception": false,
     "start_time": "2021-12-12T13:30:12.027000",
     "status": "completed"
    },
    "tags": []
   },
   "outputs": [
    {
     "data": {
      "text/plain": [
       "<AxesSubplot:ylabel='PRODUCT'>"
      ]
     },
     "execution_count": 7,
     "metadata": {},
     "output_type": "execute_result"
    },
    {
     "data": {
      "image/png": "[encoded data removed]",
      "text/plain": [
       "<Figure size 432x288 with 1 Axes>"
      ]
     },
     "metadata": {
      "needs_background": "light"
     },
     "output_type": "display_data"
    }
   ],
   "source": [
    "df_pivot_diff.sort_values(\"stamp_2\", ascending = False)[\"stamp_2\"].head(10).plot.barh()"
   ]
  },
  {
   "cell_type": "code",
   "execution_count": null,
   "id": "extra-executive",
   "metadata": {
    "papermill": {
     "duration": 0.035706,
     "end_time": "2021-12-12T13:30:14.040053",
     "exception": false,
     "start_time": "2021-12-12T13:30:14.004347",
     "status": "completed"
    },
    "tags": []
   },
   "outputs": [],
   "source": []
  }
 ],
 "metadata": {
  "kernelspec": {
   "display_name": "Python 3",
   "language": "python",
   "name": "python3"
  },
  "language_info": {
   "codemirror_mode": {
    "name": "ipython",
    "version": 3
   },
   "file_extension": ".py",
   "mimetype": "text/x-python",
   "name": "python",
   "nbconvert_exporter": "python",
   "pygments_lexer": "ipython3",
   "version": "3.9.5"
  },
  "papermill": {
   "default_parameters": {},
   "duration": 9.68514,
   "end_time": "2021-12-12T13:30:14.918214",
   "environment_variables": {},
   "exception": null,
   "input_path": "eBay_Overview.ipynb",
   "output_path": "eBay_Overview.ipynb",
   "parameters": {},
   "start_time": "2021-12-12T13:30:05.233074",
   "version": "2.3.3"
  }
 },
 "nbformat": 4,
 "nbformat_minor": 5
}