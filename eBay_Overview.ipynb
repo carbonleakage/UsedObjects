{
 "cells": [
  {
   "cell_type": "code",
   "execution_count": 1,
   "id": "reverse-picking",
   "metadata": {
    "execution": {
     "iopub.execute_input": "2021-09-09T08:00:06.881761Z",
     "iopub.status.busy": "2021-09-09T08:00:06.879655Z",
     "iopub.status.idle": "2021-09-09T08:00:07.691761Z",
     "shell.execute_reply": "2021-09-09T08:00:07.693056Z"
    },
    "papermill": {
     "duration": 0.86342,
     "end_time": "2021-09-09T08:00:07.693660",
     "exception": false,
     "start_time": "2021-09-09T08:00:06.830240",
     "status": "completed"
    },
    "tags": []
   },
   "outputs": [],
   "source": [
    "import pandas as pd\n",
    "import sqlite3"
   ]
  },
  {
   "cell_type": "code",
   "execution_count": 2,
   "id": "innovative-syndrome",
   "metadata": {
    "execution": {
     "iopub.execute_input": "2021-09-09T08:00:07.745864Z",
     "iopub.status.busy": "2021-09-09T08:00:07.743701Z",
     "iopub.status.idle": "2021-09-09T08:00:07.982666Z",
     "shell.execute_reply": "2021-09-09T08:00:07.984041Z"
    },
    "papermill": {
     "duration": 0.269165,
     "end_time": "2021-09-09T08:00:07.984501",
     "exception": false,
     "start_time": "2021-09-09T08:00:07.715336",
     "status": "completed"
    },
    "tags": []
   },
   "outputs": [],
   "source": [
    "timestamps = pd.read_sql(\"select distinct record_time from EBAY_TOP_BERLIN order by record_time desc limit 2\", sqlite3.connect(\"UsedObjects.db\"))"
   ]
  },
  {
   "cell_type": "code",
   "execution_count": 3,
   "id": "periodic-identification",
   "metadata": {
    "execution": {
     "iopub.execute_input": "2021-09-09T08:00:08.051753Z",
     "iopub.status.busy": "2021-09-09T08:00:08.049626Z",
     "iopub.status.idle": "2021-09-09T08:00:08.070409Z",
     "shell.execute_reply": "2021-09-09T08:00:08.071704Z"
    },
    "papermill": {
     "duration": 0.067474,
     "end_time": "2021-09-09T08:00:08.072139",
     "exception": false,
     "start_time": "2021-09-09T08:00:08.004665",
     "status": "completed"
    },
    "tags": []
   },
   "outputs": [
    {
     "data": {
      "text/html": [
       "<div>\n",
       "<style scoped>\n",
       "    .dataframe tbody tr th:only-of-type {\n",
       "        vertical-align: middle;\n",
       "    }\n",
       "\n",
       "    .dataframe tbody tr th {\n",
       "        vertical-align: top;\n",
       "    }\n",
       "\n",
       "    .dataframe thead th {\n",
       "        text-align: right;\n",
       "    }\n",
       "</style>\n",
       "<table border=\"1\" class=\"dataframe\">\n",
       "  <thead>\n",
       "    <tr style=\"text-align: right;\">\n",
       "      <th></th>\n",
       "      <th>RECORD_TIME</th>\n",
       "    </tr>\n",
       "  </thead>\n",
       "  <tbody>\n",
       "    <tr>\n",
       "      <th>0</th>\n",
       "      <td>2021-09-09 10:00</td>\n",
       "    </tr>\n",
       "    <tr>\n",
       "      <th>1</th>\n",
       "      <td>2021-09-09 09:30</td>\n",
       "    </tr>\n",
       "  </tbody>\n",
       "</table>\n",
       "</div>"
      ],
      "text/plain": [
       "        RECORD_TIME\n",
       "0  2021-09-09 10:00\n",
       "1  2021-09-09 09:30"
      ]
     },
     "execution_count": 3,
     "metadata": {},
     "output_type": "execute_result"
    }
   ],
   "source": [
    "timestamps"
   ]
  },
  {
   "cell_type": "code",
   "execution_count": 4,
   "id": "alternate-victory",
   "metadata": {
    "execution": {
     "iopub.execute_input": "2021-09-09T08:00:08.126400Z",
     "iopub.status.busy": "2021-09-09T08:00:08.124101Z",
     "iopub.status.idle": "2021-09-09T08:00:08.488475Z",
     "shell.execute_reply": "2021-09-09T08:00:08.489699Z"
    },
    "papermill": {
     "duration": 0.394839,
     "end_time": "2021-09-09T08:00:08.490099",
     "exception": false,
     "start_time": "2021-09-09T08:00:08.095260",
     "status": "completed"
    },
    "tags": []
   },
   "outputs": [],
   "source": [
    "df = pd.read_sql(\"select * from EBAY_TOP_BERLIN where record_time in (select distinct record_time from EBAY_TOP_BERLIN order by record_time desc limit 2)\", sqlite3.connect(\"UsedObjects.db\"))"
   ]
  },
  {
   "cell_type": "code",
   "execution_count": 5,
   "id": "popular-active",
   "metadata": {
    "execution": {
     "iopub.execute_input": "2021-09-09T08:00:08.572256Z",
     "iopub.status.busy": "2021-09-09T08:00:08.565316Z",
     "iopub.status.idle": "2021-09-09T08:00:08.587733Z",
     "shell.execute_reply": "2021-09-09T08:00:08.588981Z"
    },
    "papermill": {
     "duration": 0.071046,
     "end_time": "2021-09-09T08:00:08.589377",
     "exception": false,
     "start_time": "2021-09-09T08:00:08.518331",
     "status": "completed"
    },
    "tags": []
   },
   "outputs": [],
   "source": [
    "df_pivot = df.pivot_table(index=\"PRODUCT\", columns = \"RECORD_TIME\", values = \"LISTING_COUNT\")"
   ]
  },
  {
   "cell_type": "code",
   "execution_count": 6,
   "id": "union-huntington",
   "metadata": {
    "execution": {
     "iopub.execute_input": "2021-09-09T08:00:08.645617Z",
     "iopub.status.busy": "2021-09-09T08:00:08.643520Z",
     "iopub.status.idle": "2021-09-09T08:00:08.648708Z",
     "shell.execute_reply": "2021-09-09T08:00:08.649927Z"
    },
    "papermill": {
     "duration": 0.040431,
     "end_time": "2021-09-09T08:00:08.650360",
     "exception": false,
     "start_time": "2021-09-09T08:00:08.609929",
     "status": "completed"
    },
    "tags": []
   },
   "outputs": [],
   "source": [
    "df_pivot.columns = [\"stamp_1\", \"stamp_2\"]\n",
    "df_pivot_diff = df_pivot.diff(axis=1)"
   ]
  },
  {
   "cell_type": "code",
   "execution_count": 7,
   "id": "fifth-motion",
   "metadata": {
    "execution": {
     "iopub.execute_input": "2021-09-09T08:00:08.705024Z",
     "iopub.status.busy": "2021-09-09T08:00:08.702400Z",
     "iopub.status.idle": "2021-09-09T08:00:10.222730Z",
     "shell.execute_reply": "2021-09-09T08:00:10.224133Z"
    },
    "papermill": {
     "duration": 1.553754,
     "end_time": "2021-09-09T08:00:10.224556",
     "exception": false,
     "start_time": "2021-09-09T08:00:08.670802",
     "status": "completed"
    },
    "tags": []
   },
   "outputs": [
    {
     "data": {
      "text/plain": [
       "<AxesSubplot:ylabel='PRODUCT'>"
      ]
     },
     "execution_count": 7,
     "metadata": {},
     "output_type": "execute_result"
    },
    {
     "data": {
      "image/png": "[encoded data removed]",
      "text/plain": [
       "<Figure size 432x288 with 1 Axes>"
      ]
     },
     "metadata": {
      "needs_background": "light"
     },
     "output_type": "display_data"
    }
   ],
   "source": [
    "df_pivot_diff.sort_values(\"stamp_2\", ascending = False)[\"stamp_2\"].head(10).plot.barh()"
   ]
  },
  {
   "cell_type": "code",
   "execution_count": null,
   "id": "extra-executive",
   "metadata": {
    "papermill": {
     "duration": 0.022355,
     "end_time": "2021-09-09T08:00:10.271852",
     "exception": false,
     "start_time": "2021-09-09T08:00:10.249497",
     "status": "completed"
    },
    "tags": []
   },
   "outputs": [],
   "source": []
  }
 ],
 "metadata": {
  "kernelspec": {
   "display_name": "Python 3",
   "language": "python",
   "name": "python3"
  },
  "language_info": {
   "codemirror_mode": {
    "name": "ipython",
    "version": 3
   },
   "file_extension": ".py",
   "mimetype": "text/x-python",
   "name": "python",
   "nbconvert_exporter": "python",
   "pygments_lexer": "ipython3",
   "version": "3.9.5"
  },
  "papermill": {
   "default_parameters": {},
   "duration": 6.501319,
   "end_time": "2021-09-09T08:00:10.912528",
   "environment_variables": {},
   "exception": null,
   "input_path": "eBay_Overview.ipynb",
   "output_path": "eBay_Overview.ipynb",
   "parameters": {},
   "start_time": "2021-09-09T08:00:04.411209",
   "version": "2.3.3"
  }
 },
 "nbformat": 4,
 "nbformat_minor": 5
}