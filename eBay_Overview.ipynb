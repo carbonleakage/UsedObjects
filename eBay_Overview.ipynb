{
 "cells": [
  {
   "cell_type": "code",
   "execution_count": 1,
   "id": "reverse-picking",
   "metadata": {
    "execution": {
     "iopub.execute_input": "2021-12-14T23:30:08.320387Z",
     "iopub.status.busy": "2021-12-14T23:30:08.318092Z",
     "iopub.status.idle": "2021-12-14T23:30:09.263803Z",
     "shell.execute_reply": "2021-12-14T23:30:09.266170Z"
    },
    "papermill": {
     "duration": 0.995306,
     "end_time": "2021-12-14T23:30:09.266904",
     "exception": false,
     "start_time": "2021-12-14T23:30:08.271598",
     "status": "completed"
    },
    "tags": []
   },
   "outputs": [],
   "source": [
    "import pandas as pd\n",
    "import sqlite3"
   ]
  },
  {
   "cell_type": "code",
   "execution_count": 2,
   "id": "innovative-syndrome",
   "metadata": {
    "execution": {
     "iopub.execute_input": "2021-12-14T23:30:09.338838Z",
     "iopub.status.busy": "2021-12-14T23:30:09.334561Z",
     "iopub.status.idle": "2021-12-14T23:30:10.433831Z",
     "shell.execute_reply": "2021-12-14T23:30:10.435108Z"
    },
    "papermill": {
     "duration": 1.13516,
     "end_time": "2021-12-14T23:30:10.435510",
     "exception": false,
     "start_time": "2021-12-14T23:30:09.300350",
     "status": "completed"
    },
    "tags": []
   },
   "outputs": [],
   "source": [
    "timestamps = pd.read_sql(\"select distinct record_time from EBAY_TOP_BERLIN order by record_time desc limit 2\", sqlite3.connect(\"UsedObjects.db\"))"
   ]
  },
  {
   "cell_type": "code",
   "execution_count": 3,
   "id": "periodic-identification",
   "metadata": {
    "execution": {
     "iopub.execute_input": "2021-12-14T23:30:10.507360Z",
     "iopub.status.busy": "2021-12-14T23:30:10.501573Z",
     "iopub.status.idle": "2021-12-14T23:30:10.527851Z",
     "shell.execute_reply": "2021-12-14T23:30:10.529823Z"
    },
    "papermill": {
     "duration": 0.074916,
     "end_time": "2021-12-14T23:30:10.530374",
     "exception": false,
     "start_time": "2021-12-14T23:30:10.455458",
     "status": "completed"
    },
    "tags": []
   },
   "outputs": [
    {
     "data": {
      "text/html": [
       "<div>\n",
       "<style scoped>\n",
       "    .dataframe tbody tr th:only-of-type {\n",
       "        vertical-align: middle;\n",
       "    }\n",
       "\n",
       "    .dataframe tbody tr th {\n",
       "        vertical-align: top;\n",
       "    }\n",
       "\n",
       "    .dataframe thead th {\n",
       "        text-align: right;\n",
       "    }\n",
       "</style>\n",
       "<table border=\"1\" class=\"dataframe\">\n",
       "  <thead>\n",
       "    <tr style=\"text-align: right;\">\n",
       "      <th></th>\n",
       "      <th>RECORD_TIME</th>\n",
       "    </tr>\n",
       "  </thead>\n",
       "  <tbody>\n",
       "    <tr>\n",
       "      <th>0</th>\n",
       "      <td>2021-12-15 00:30</td>\n",
       "    </tr>\n",
       "    <tr>\n",
       "      <th>1</th>\n",
       "      <td>2021-12-15 00:00</td>\n",
       "    </tr>\n",
       "  </tbody>\n",
       "</table>\n",
       "</div>"
      ],
      "text/plain": [
       "        RECORD_TIME\n",
       "0  2021-12-15 00:30\n",
       "1  2021-12-15 00:00"
      ]
     },
     "execution_count": 3,
     "metadata": {},
     "output_type": "execute_result"
    }
   ],
   "source": [
    "timestamps"
   ]
  },
  {
   "cell_type": "code",
   "execution_count": 4,
   "id": "alternate-victory",
   "metadata": {
    "execution": {
     "iopub.execute_input": "2021-12-14T23:30:10.596196Z",
     "iopub.status.busy": "2021-12-14T23:30:10.594599Z",
     "iopub.status.idle": "2021-12-14T23:30:12.173617Z",
     "shell.execute_reply": "2021-12-14T23:30:12.171988Z"
    },
    "papermill": {
     "duration": 1.621789,
     "end_time": "2021-12-14T23:30:12.174038",
     "exception": false,
     "start_time": "2021-12-14T23:30:10.552249",
     "status": "completed"
    },
    "tags": []
   },
   "outputs": [],
   "source": [
    "df = pd.read_sql(\"select * from EBAY_TOP_BERLIN where record_time in (select distinct record_time from EBAY_TOP_BERLIN order by record_time desc limit 2)\", sqlite3.connect(\"UsedObjects.db\"))"
   ]
  },
  {
   "cell_type": "code",
   "execution_count": 5,
   "id": "popular-active",
   "metadata": {
    "execution": {
     "iopub.execute_input": "2021-12-14T23:30:12.240172Z",
     "iopub.status.busy": "2021-12-14T23:30:12.237846Z",
     "iopub.status.idle": "2021-12-14T23:30:12.268900Z",
     "shell.execute_reply": "2021-12-14T23:30:12.270376Z"
    },
    "papermill": {
     "duration": 0.075724,
     "end_time": "2021-12-14T23:30:12.270848",
     "exception": false,
     "start_time": "2021-12-14T23:30:12.195124",
     "status": "completed"
    },
    "tags": []
   },
   "outputs": [],
   "source": [
    "df_pivot = df.pivot_table(index=\"PRODUCT\", columns = \"RECORD_TIME\", values = \"LISTING_COUNT\")"
   ]
  },
  {
   "cell_type": "code",
   "execution_count": 6,
   "id": "union-huntington",
   "metadata": {
    "execution": {
     "iopub.execute_input": "2021-12-14T23:30:12.329521Z",
     "iopub.status.busy": "2021-12-14T23:30:12.327236Z",
     "iopub.status.idle": "2021-12-14T23:30:12.333878Z",
     "shell.execute_reply": "2021-12-14T23:30:12.332316Z"
    },
    "papermill": {
     "duration": 0.043364,
     "end_time": "2021-12-14T23:30:12.334275",
     "exception": false,
     "start_time": "2021-12-14T23:30:12.290911",
     "status": "completed"
    },
    "tags": []
   },
   "outputs": [],
   "source": [
    "df_pivot.columns = [\"stamp_1\", \"stamp_2\"]\n",
    "df_pivot_diff = df_pivot.diff(axis=1)"
   ]
  },
  {
   "cell_type": "code",
   "execution_count": 7,
   "id": "fifth-motion",
   "metadata": {
    "execution": {
     "iopub.execute_input": "2021-12-14T23:30:12.394258Z",
     "iopub.status.busy": "2021-12-14T23:30:12.391958Z",
     "iopub.status.idle": "2021-12-14T23:30:14.373942Z",
     "shell.execute_reply": "2021-12-14T23:30:14.375245Z"
    },
    "papermill": {
     "duration": 2.019751,
     "end_time": "2021-12-14T23:30:14.375676",
     "exception": false,
     "start_time": "2021-12-14T23:30:12.355925",
     "status": "completed"
    },
    "tags": []
   },
   "outputs": [
    {
     "data": {
      "text/plain": [
       "<AxesSubplot:ylabel='PRODUCT'>"
      ]
     },
     "execution_count": 7,
     "metadata": {},
     "output_type": "execute_result"
    },
    {
     "data": {
      "image/png": "[encoded data removed]",
      "text/plain": [
       "<Figure size 432x288 with 1 Axes>"
      ]
     },
     "metadata": {
      "needs_background": "light"
     },
     "output_type": "display_data"
    }
   ],
   "source": [
    "df_pivot_diff.sort_values(\"stamp_2\", ascending = False)[\"stamp_2\"].head(10).plot.barh()"
   ]
  },
  {
   "cell_type": "code",
   "execution_count": null,
   "id": "extra-executive",
   "metadata": {
    "papermill": {
     "duration": 0.027603,
     "end_time": "2021-12-14T23:30:14.436832",
     "exception": false,
     "start_time": "2021-12-14T23:30:14.409229",
     "status": "completed"
    },
    "tags": []
   },
   "outputs": [],
   "source": []
  }
 ],
 "metadata": {
  "kernelspec": {
   "display_name": "Python 3",
   "language": "python",
   "name": "python3"
  },
  "language_info": {
   "codemirror_mode": {
    "name": "ipython",
    "version": 3
   },
   "file_extension": ".py",
   "mimetype": "text/x-python",
   "name": "python",
   "nbconvert_exporter": "python",
   "pygments_lexer": "ipython3",
   "version": "3.9.5"
  },
  "papermill": {
   "default_parameters": {},
   "duration": 9.539673,
   "end_time": "2021-12-14T23:30:15.098018",
   "environment_variables": {},
   "exception": null,
   "input_path": "eBay_Overview.ipynb",
   "output_path": "eBay_Overview.ipynb",
   "parameters": {},
   "start_time": "2021-12-14T23:30:05.558345",
   "version": "2.3.3"
  }
 },
 "nbformat": 4,
 "nbformat_minor": 5
}