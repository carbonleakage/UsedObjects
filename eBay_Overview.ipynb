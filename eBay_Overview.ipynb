{
 "cells": [
  {
   "cell_type": "code",
   "execution_count": 1,
   "id": "reverse-picking",
   "metadata": {
    "execution": {
     "iopub.execute_input": "2021-12-09T22:00:07.950929Z",
     "iopub.status.busy": "2021-12-09T22:00:07.948552Z",
     "iopub.status.idle": "2021-12-09T22:00:08.914844Z",
     "shell.execute_reply": "2021-12-09T22:00:08.916331Z"
    },
    "papermill": {
     "duration": 1.017083,
     "end_time": "2021-12-09T22:00:08.917209",
     "exception": false,
     "start_time": "2021-12-09T22:00:07.900126",
     "status": "completed"
    },
    "tags": []
   },
   "outputs": [],
   "source": [
    "import pandas as pd\n",
    "import sqlite3"
   ]
  },
  {
   "cell_type": "code",
   "execution_count": 2,
   "id": "innovative-syndrome",
   "metadata": {
    "execution": {
     "iopub.execute_input": "2021-12-09T22:00:08.970538Z",
     "iopub.status.busy": "2021-12-09T22:00:08.968236Z",
     "iopub.status.idle": "2021-12-09T22:00:10.012618Z",
     "shell.execute_reply": "2021-12-09T22:00:10.014151Z"
    },
    "papermill": {
     "duration": 1.076504,
     "end_time": "2021-12-09T22:00:10.014627",
     "exception": false,
     "start_time": "2021-12-09T22:00:08.938123",
     "status": "completed"
    },
    "tags": []
   },
   "outputs": [],
   "source": [
    "timestamps = pd.read_sql(\"select distinct record_time from EBAY_TOP_BERLIN order by record_time desc limit 2\", sqlite3.connect(\"UsedObjects.db\"))"
   ]
  },
  {
   "cell_type": "code",
   "execution_count": 3,
   "id": "periodic-identification",
   "metadata": {
    "execution": {
     "iopub.execute_input": "2021-12-09T22:00:10.114282Z",
     "iopub.status.busy": "2021-12-09T22:00:10.099868Z",
     "iopub.status.idle": "2021-12-09T22:00:10.139014Z",
     "shell.execute_reply": "2021-12-09T22:00:10.140782Z"
    },
    "papermill": {
     "duration": 0.104063,
     "end_time": "2021-12-09T22:00:10.141321",
     "exception": false,
     "start_time": "2021-12-09T22:00:10.037258",
     "status": "completed"
    },
    "tags": []
   },
   "outputs": [
    {
     "data": {
      "text/html": [
       "<div>\n",
       "<style scoped>\n",
       "    .dataframe tbody tr th:only-of-type {\n",
       "        vertical-align: middle;\n",
       "    }\n",
       "\n",
       "    .dataframe tbody tr th {\n",
       "        vertical-align: top;\n",
       "    }\n",
       "\n",
       "    .dataframe thead th {\n",
       "        text-align: right;\n",
       "    }\n",
       "</style>\n",
       "<table border=\"1\" class=\"dataframe\">\n",
       "  <thead>\n",
       "    <tr style=\"text-align: right;\">\n",
       "      <th></th>\n",
       "      <th>RECORD_TIME</th>\n",
       "    </tr>\n",
       "  </thead>\n",
       "  <tbody>\n",
       "    <tr>\n",
       "      <th>0</th>\n",
       "      <td>2021-12-09 23:00</td>\n",
       "    </tr>\n",
       "    <tr>\n",
       "      <th>1</th>\n",
       "      <td>2021-12-09 22:30</td>\n",
       "    </tr>\n",
       "  </tbody>\n",
       "</table>\n",
       "</div>"
      ],
      "text/plain": [
       "        RECORD_TIME\n",
       "0  2021-12-09 23:00\n",
       "1  2021-12-09 22:30"
      ]
     },
     "execution_count": 3,
     "metadata": {},
     "output_type": "execute_result"
    }
   ],
   "source": [
    "timestamps"
   ]
  },
  {
   "cell_type": "code",
   "execution_count": 4,
   "id": "alternate-victory",
   "metadata": {
    "execution": {
     "iopub.execute_input": "2021-12-09T22:00:10.198997Z",
     "iopub.status.busy": "2021-12-09T22:00:10.195361Z",
     "iopub.status.idle": "2021-12-09T22:00:11.721727Z",
     "shell.execute_reply": "2021-12-09T22:00:11.724165Z"
    },
    "papermill": {
     "duration": 1.562095,
     "end_time": "2021-12-09T22:00:11.725101",
     "exception": false,
     "start_time": "2021-12-09T22:00:10.163006",
     "status": "completed"
    },
    "tags": []
   },
   "outputs": [],
   "source": [
    "df = pd.read_sql(\"select * from EBAY_TOP_BERLIN where record_time in (select distinct record_time from EBAY_TOP_BERLIN order by record_time desc limit 2)\", sqlite3.connect(\"UsedObjects.db\"))"
   ]
  },
  {
   "cell_type": "code",
   "execution_count": 5,
   "id": "popular-active",
   "metadata": {
    "execution": {
     "iopub.execute_input": "2021-12-09T22:00:11.834224Z",
     "iopub.status.busy": "2021-12-09T22:00:11.830204Z",
     "iopub.status.idle": "2021-12-09T22:00:11.880115Z",
     "shell.execute_reply": "2021-12-09T22:00:11.882074Z"
    },
    "papermill": {
     "duration": 0.126308,
     "end_time": "2021-12-09T22:00:11.882788",
     "exception": false,
     "start_time": "2021-12-09T22:00:11.756480",
     "status": "completed"
    },
    "tags": []
   },
   "outputs": [],
   "source": [
    "df_pivot = df.pivot_table(index=\"PRODUCT\", columns = \"RECORD_TIME\", values = \"LISTING_COUNT\")"
   ]
  },
  {
   "cell_type": "code",
   "execution_count": 6,
   "id": "union-huntington",
   "metadata": {
    "execution": {
     "iopub.execute_input": "2021-12-09T22:00:11.972218Z",
     "iopub.status.busy": "2021-12-09T22:00:11.968610Z",
     "iopub.status.idle": "2021-12-09T22:00:11.982138Z",
     "shell.execute_reply": "2021-12-09T22:00:11.979080Z"
    },
    "papermill": {
     "duration": 0.075495,
     "end_time": "2021-12-09T22:00:11.982782",
     "exception": false,
     "start_time": "2021-12-09T22:00:11.907287",
     "status": "completed"
    },
    "tags": []
   },
   "outputs": [],
   "source": [
    "df_pivot.columns = [\"stamp_1\", \"stamp_2\"]\n",
    "df_pivot_diff = df_pivot.diff(axis=1)"
   ]
  },
  {
   "cell_type": "code",
   "execution_count": 7,
   "id": "fifth-motion",
   "metadata": {
    "execution": {
     "iopub.execute_input": "2021-12-09T22:00:12.065652Z",
     "iopub.status.busy": "2021-12-09T22:00:12.062292Z",
     "iopub.status.idle": "2021-12-09T22:00:13.819336Z",
     "shell.execute_reply": "2021-12-09T22:00:13.820514Z"
    },
    "papermill": {
     "duration": 1.807991,
     "end_time": "2021-12-09T22:00:13.820997",
     "exception": false,
     "start_time": "2021-12-09T22:00:12.013006",
     "status": "completed"
    },
    "tags": []
   },
   "outputs": [
    {
     "data": {
      "text/plain": [
       "<AxesSubplot:ylabel='PRODUCT'>"
      ]
     },
     "execution_count": 7,
     "metadata": {},
     "output_type": "execute_result"
    },
    {
     "data": {
      "image/png": "[encoded data removed]",
      "text/plain": [
       "<Figure size 432x288 with 1 Axes>"
      ]
     },
     "metadata": {
      "needs_background": "light"
     },
     "output_type": "display_data"
    }
   ],
   "source": [
    "df_pivot_diff.sort_values(\"stamp_2\", ascending = False)[\"stamp_2\"].head(10).plot.barh()"
   ]
  },
  {
   "cell_type": "code",
   "execution_count": null,
   "id": "extra-executive",
   "metadata": {
    "papermill": {
     "duration": 0.022214,
     "end_time": "2021-12-09T22:00:13.866830",
     "exception": false,
     "start_time": "2021-12-09T22:00:13.844616",
     "status": "completed"
    },
    "tags": []
   },
   "outputs": [],
   "source": []
  }
 ],
 "metadata": {
  "kernelspec": {
   "display_name": "Python 3",
   "language": "python",
   "name": "python3"
  },
  "language_info": {
   "codemirror_mode": {
    "name": "ipython",
    "version": 3
   },
   "file_extension": ".py",
   "mimetype": "text/x-python",
   "name": "python",
   "nbconvert_exporter": "python",
   "pygments_lexer": "ipython3",
   "version": "3.9.5"
  },
  "papermill": {
   "default_parameters": {},
   "duration": 9.949768,
   "end_time": "2021-12-09T22:00:15.084285",
   "environment_variables": {},
   "exception": null,
   "input_path": "eBay_Overview.ipynb",
   "output_path": "eBay_Overview.ipynb",
   "parameters": {},
   "start_time": "2021-12-09T22:00:05.134517",
   "version": "2.3.3"
  }
 },
 "nbformat": 4,
 "nbformat_minor": 5
}