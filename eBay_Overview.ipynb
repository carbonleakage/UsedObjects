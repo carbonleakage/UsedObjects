{
 "cells": [
  {
   "cell_type": "code",
   "execution_count": 1,
   "id": "reverse-picking",
   "metadata": {
    "execution": {
     "iopub.execute_input": "2021-08-16T04:30:07.180444Z",
     "iopub.status.busy": "2021-08-16T04:30:07.178498Z",
     "iopub.status.idle": "2021-08-16T04:30:07.985229Z",
     "shell.execute_reply": "2021-08-16T04:30:07.986577Z"
    },
    "papermill": {
     "duration": 0.859147,
     "end_time": "2021-08-16T04:30:07.987208",
     "exception": false,
     "start_time": "2021-08-16T04:30:07.128061",
     "status": "completed"
    },
    "tags": []
   },
   "outputs": [],
   "source": [
    "import pandas as pd\n",
    "import sqlite3"
   ]
  },
  {
   "cell_type": "code",
   "execution_count": 2,
   "id": "innovative-syndrome",
   "metadata": {
    "execution": {
     "iopub.execute_input": "2021-08-16T04:30:08.039451Z",
     "iopub.status.busy": "2021-08-16T04:30:08.037260Z",
     "iopub.status.idle": "2021-08-16T04:30:08.097089Z",
     "shell.execute_reply": "2021-08-16T04:30:08.099099Z"
    },
    "papermill": {
     "duration": 0.090278,
     "end_time": "2021-08-16T04:30:08.099653",
     "exception": false,
     "start_time": "2021-08-16T04:30:08.009375",
     "status": "completed"
    },
    "tags": []
   },
   "outputs": [],
   "source": [
    "timestamps = pd.read_sql(\"select distinct record_time from EBAY_TOP_BERLIN order by record_time desc limit 2\", sqlite3.connect(\"UsedObjects.db\"))"
   ]
  },
  {
   "cell_type": "code",
   "execution_count": 3,
   "id": "periodic-identification",
   "metadata": {
    "execution": {
     "iopub.execute_input": "2021-08-16T04:30:08.164696Z",
     "iopub.status.busy": "2021-08-16T04:30:08.162663Z",
     "iopub.status.idle": "2021-08-16T04:30:08.184634Z",
     "shell.execute_reply": "2021-08-16T04:30:08.186283Z"
    },
    "papermill": {
     "duration": 0.06798,
     "end_time": "2021-08-16T04:30:08.186793",
     "exception": false,
     "start_time": "2021-08-16T04:30:08.118813",
     "status": "completed"
    },
    "tags": []
   },
   "outputs": [
    {
     "data": {
      "text/html": [
       "<div>\n",
       "<style scoped>\n",
       "    .dataframe tbody tr th:only-of-type {\n",
       "        vertical-align: middle;\n",
       "    }\n",
       "\n",
       "    .dataframe tbody tr th {\n",
       "        vertical-align: top;\n",
       "    }\n",
       "\n",
       "    .dataframe thead th {\n",
       "        text-align: right;\n",
       "    }\n",
       "</style>\n",
       "<table border=\"1\" class=\"dataframe\">\n",
       "  <thead>\n",
       "    <tr style=\"text-align: right;\">\n",
       "      <th></th>\n",
       "      <th>RECORD_TIME</th>\n",
       "    </tr>\n",
       "  </thead>\n",
       "  <tbody>\n",
       "    <tr>\n",
       "      <th>0</th>\n",
       "      <td>2021-08-16 06:30</td>\n",
       "    </tr>\n",
       "    <tr>\n",
       "      <th>1</th>\n",
       "      <td>2021-08-16 06:00</td>\n",
       "    </tr>\n",
       "  </tbody>\n",
       "</table>\n",
       "</div>"
      ],
      "text/plain": [
       "        RECORD_TIME\n",
       "0  2021-08-16 06:30\n",
       "1  2021-08-16 06:00"
      ]
     },
     "execution_count": 3,
     "metadata": {},
     "output_type": "execute_result"
    }
   ],
   "source": [
    "timestamps"
   ]
  },
  {
   "cell_type": "code",
   "execution_count": 4,
   "id": "alternate-victory",
   "metadata": {
    "execution": {
     "iopub.execute_input": "2021-08-16T04:30:08.239023Z",
     "iopub.status.busy": "2021-08-16T04:30:08.237061Z",
     "iopub.status.idle": "2021-08-16T04:30:08.323475Z",
     "shell.execute_reply": "2021-08-16T04:30:08.324914Z"
    },
    "papermill": {
     "duration": 0.116356,
     "end_time": "2021-08-16T04:30:08.325356",
     "exception": false,
     "start_time": "2021-08-16T04:30:08.209000",
     "status": "completed"
    },
    "tags": []
   },
   "outputs": [],
   "source": [
    "df = pd.read_sql(\"select * from EBAY_TOP_BERLIN where record_time in (select distinct record_time from EBAY_TOP_BERLIN order by record_time desc limit 2)\", sqlite3.connect(\"UsedObjects.db\"))"
   ]
  },
  {
   "cell_type": "code",
   "execution_count": 5,
   "id": "popular-active",
   "metadata": {
    "execution": {
     "iopub.execute_input": "2021-08-16T04:30:08.395819Z",
     "iopub.status.busy": "2021-08-16T04:30:08.384779Z",
     "iopub.status.idle": "2021-08-16T04:30:08.411285Z",
     "shell.execute_reply": "2021-08-16T04:30:08.412514Z"
    },
    "papermill": {
     "duration": 0.06695,
     "end_time": "2021-08-16T04:30:08.412906",
     "exception": false,
     "start_time": "2021-08-16T04:30:08.345956",
     "status": "completed"
    },
    "tags": []
   },
   "outputs": [],
   "source": [
    "df_pivot = df.pivot_table(index=\"PRODUCT\", columns = \"RECORD_TIME\", values = \"LISTING_COUNT\")"
   ]
  },
  {
   "cell_type": "code",
   "execution_count": 6,
   "id": "union-huntington",
   "metadata": {
    "execution": {
     "iopub.execute_input": "2021-08-16T04:30:08.471912Z",
     "iopub.status.busy": "2021-08-16T04:30:08.469353Z",
     "iopub.status.idle": "2021-08-16T04:30:08.475123Z",
     "shell.execute_reply": "2021-08-16T04:30:08.476420Z"
    },
    "papermill": {
     "duration": 0.041866,
     "end_time": "2021-08-16T04:30:08.476838",
     "exception": false,
     "start_time": "2021-08-16T04:30:08.434972",
     "status": "completed"
    },
    "tags": []
   },
   "outputs": [],
   "source": [
    "df_pivot.columns = [\"stamp_1\", \"stamp_2\"]\n",
    "df_pivot_diff = df_pivot.diff(axis=1)"
   ]
  },
  {
   "cell_type": "code",
   "execution_count": 7,
   "id": "fifth-motion",
   "metadata": {
    "execution": {
     "iopub.execute_input": "2021-08-16T04:30:08.529381Z",
     "iopub.status.busy": "2021-08-16T04:30:08.527131Z",
     "iopub.status.idle": "2021-08-16T04:30:10.049235Z",
     "shell.execute_reply": "2021-08-16T04:30:10.050702Z"
    },
    "papermill": {
     "duration": 1.554722,
     "end_time": "2021-08-16T04:30:10.051148",
     "exception": false,
     "start_time": "2021-08-16T04:30:08.496426",
     "status": "completed"
    },
    "tags": []
   },
   "outputs": [
    {
     "data": {
      "text/plain": [
       "<AxesSubplot:ylabel='PRODUCT'>"
      ]
     },
     "execution_count": 7,
     "metadata": {},
     "output_type": "execute_result"
    },
    {
     "data": {
      "image/png": "[encoded data removed]",
      "text/plain": [
       "<Figure size 432x288 with 1 Axes>"
      ]
     },
     "metadata": {
      "needs_background": "light"
     },
     "output_type": "display_data"
    }
   ],
   "source": [
    "df_pivot_diff.sort_values(\"stamp_2\", ascending = False)[\"stamp_2\"].head(10).plot.barh()"
   ]
  },
  {
   "cell_type": "code",
   "execution_count": null,
   "id": "extra-executive",
   "metadata": {
    "papermill": {
     "duration": 0.021994,
     "end_time": "2021-08-16T04:30:10.096945",
     "exception": false,
     "start_time": "2021-08-16T04:30:10.074951",
     "status": "completed"
    },
    "tags": []
   },
   "outputs": [],
   "source": []
  }
 ],
 "metadata": {
  "kernelspec": {
   "display_name": "Python 3",
   "language": "python",
   "name": "python3"
  },
  "language_info": {
   "codemirror_mode": {
    "name": "ipython",
    "version": 3
   },
   "file_extension": ".py",
   "mimetype": "text/x-python",
   "name": "python",
   "nbconvert_exporter": "python",
   "pygments_lexer": "ipython3",
   "version": "3.9.5"
  },
  "papermill": {
   "default_parameters": {},
   "duration": 6.830538,
   "end_time": "2021-08-16T04:30:11.540708",
   "environment_variables": {},
   "exception": null,
   "input_path": "eBay_Overview.ipynb",
   "output_path": "eBay_Overview.ipynb",
   "parameters": {},
   "start_time": "2021-08-16T04:30:04.710170",
   "version": "2.3.3"
  }
 },
 "nbformat": 4,
 "nbformat_minor": 5
}