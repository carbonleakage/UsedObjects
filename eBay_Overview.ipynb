{
 "cells": [
  {
   "cell_type": "code",
   "execution_count": 1,
   "id": "reverse-picking",
   "metadata": {
    "execution": {
     "iopub.execute_input": "2021-11-08T06:30:07.937444Z",
     "iopub.status.busy": "2021-11-08T06:30:07.934485Z",
     "iopub.status.idle": "2021-11-08T06:30:08.889116Z",
     "shell.execute_reply": "2021-11-08T06:30:08.890691Z"
    },
    "papermill": {
     "duration": 1.003745,
     "end_time": "2021-11-08T06:30:08.891421",
     "exception": false,
     "start_time": "2021-11-08T06:30:07.887676",
     "status": "completed"
    },
    "tags": []
   },
   "outputs": [],
   "source": [
    "import pandas as pd\n",
    "import sqlite3"
   ]
  },
  {
   "cell_type": "code",
   "execution_count": 2,
   "id": "innovative-syndrome",
   "metadata": {
    "execution": {
     "iopub.execute_input": "2021-11-08T06:30:08.957820Z",
     "iopub.status.busy": "2021-11-08T06:30:08.955554Z",
     "iopub.status.idle": "2021-11-08T06:30:09.693469Z",
     "shell.execute_reply": "2021-11-08T06:30:09.695136Z"
    },
    "papermill": {
     "duration": 0.773967,
     "end_time": "2021-11-08T06:30:09.695645",
     "exception": false,
     "start_time": "2021-11-08T06:30:08.921678",
     "status": "completed"
    },
    "tags": []
   },
   "outputs": [],
   "source": [
    "timestamps = pd.read_sql(\"select distinct record_time from EBAY_TOP_BERLIN order by record_time desc limit 2\", sqlite3.connect(\"UsedObjects.db\"))"
   ]
  },
  {
   "cell_type": "code",
   "execution_count": 3,
   "id": "periodic-identification",
   "metadata": {
    "execution": {
     "iopub.execute_input": "2021-11-08T06:30:09.772553Z",
     "iopub.status.busy": "2021-11-08T06:30:09.766877Z",
     "iopub.status.idle": "2021-11-08T06:30:09.790786Z",
     "shell.execute_reply": "2021-11-08T06:30:09.792415Z"
    },
    "papermill": {
     "duration": 0.075457,
     "end_time": "2021-11-08T06:30:09.792981",
     "exception": false,
     "start_time": "2021-11-08T06:30:09.717524",
     "status": "completed"
    },
    "tags": []
   },
   "outputs": [
    {
     "data": {
      "text/html": [
       "<div>\n",
       "<style scoped>\n",
       "    .dataframe tbody tr th:only-of-type {\n",
       "        vertical-align: middle;\n",
       "    }\n",
       "\n",
       "    .dataframe tbody tr th {\n",
       "        vertical-align: top;\n",
       "    }\n",
       "\n",
       "    .dataframe thead th {\n",
       "        text-align: right;\n",
       "    }\n",
       "</style>\n",
       "<table border=\"1\" class=\"dataframe\">\n",
       "  <thead>\n",
       "    <tr style=\"text-align: right;\">\n",
       "      <th></th>\n",
       "      <th>RECORD_TIME</th>\n",
       "    </tr>\n",
       "  </thead>\n",
       "  <tbody>\n",
       "    <tr>\n",
       "      <th>0</th>\n",
       "      <td>2021-11-08 07:30</td>\n",
       "    </tr>\n",
       "    <tr>\n",
       "      <th>1</th>\n",
       "      <td>2021-11-08 07:00</td>\n",
       "    </tr>\n",
       "  </tbody>\n",
       "</table>\n",
       "</div>"
      ],
      "text/plain": [
       "        RECORD_TIME\n",
       "0  2021-11-08 07:30\n",
       "1  2021-11-08 07:00"
      ]
     },
     "execution_count": 3,
     "metadata": {},
     "output_type": "execute_result"
    }
   ],
   "source": [
    "timestamps"
   ]
  },
  {
   "cell_type": "code",
   "execution_count": 4,
   "id": "alternate-victory",
   "metadata": {
    "execution": {
     "iopub.execute_input": "2021-11-08T06:30:09.850724Z",
     "iopub.status.busy": "2021-11-08T06:30:09.848386Z",
     "iopub.status.idle": "2021-11-08T06:30:10.956639Z",
     "shell.execute_reply": "2021-11-08T06:30:10.958105Z"
    },
    "papermill": {
     "duration": 1.142986,
     "end_time": "2021-11-08T06:30:10.958551",
     "exception": false,
     "start_time": "2021-11-08T06:30:09.815565",
     "status": "completed"
    },
    "tags": []
   },
   "outputs": [],
   "source": [
    "df = pd.read_sql(\"select * from EBAY_TOP_BERLIN where record_time in (select distinct record_time from EBAY_TOP_BERLIN order by record_time desc limit 2)\", sqlite3.connect(\"UsedObjects.db\"))"
   ]
  },
  {
   "cell_type": "code",
   "execution_count": 5,
   "id": "popular-active",
   "metadata": {
    "execution": {
     "iopub.execute_input": "2021-11-08T06:30:11.030965Z",
     "iopub.status.busy": "2021-11-08T06:30:11.019224Z",
     "iopub.status.idle": "2021-11-08T06:30:11.052011Z",
     "shell.execute_reply": "2021-11-08T06:30:11.050455Z"
    },
    "papermill": {
     "duration": 0.07292,
     "end_time": "2021-11-08T06:30:11.052407",
     "exception": false,
     "start_time": "2021-11-08T06:30:10.979487",
     "status": "completed"
    },
    "tags": []
   },
   "outputs": [],
   "source": [
    "df_pivot = df.pivot_table(index=\"PRODUCT\", columns = \"RECORD_TIME\", values = \"LISTING_COUNT\")"
   ]
  },
  {
   "cell_type": "code",
   "execution_count": 6,
   "id": "union-huntington",
   "metadata": {
    "execution": {
     "iopub.execute_input": "2021-11-08T06:30:11.111008Z",
     "iopub.status.busy": "2021-11-08T06:30:11.108734Z",
     "iopub.status.idle": "2021-11-08T06:30:11.116742Z",
     "shell.execute_reply": "2021-11-08T06:30:11.114810Z"
    },
    "papermill": {
     "duration": 0.044764,
     "end_time": "2021-11-08T06:30:11.117251",
     "exception": false,
     "start_time": "2021-11-08T06:30:11.072487",
     "status": "completed"
    },
    "tags": []
   },
   "outputs": [],
   "source": [
    "df_pivot.columns = [\"stamp_1\", \"stamp_2\"]\n",
    "df_pivot_diff = df_pivot.diff(axis=1)"
   ]
  },
  {
   "cell_type": "code",
   "execution_count": 7,
   "id": "fifth-motion",
   "metadata": {
    "execution": {
     "iopub.execute_input": "2021-11-08T06:30:11.172786Z",
     "iopub.status.busy": "2021-11-08T06:30:11.170764Z",
     "iopub.status.idle": "2021-11-08T06:30:12.923726Z",
     "shell.execute_reply": "2021-11-08T06:30:12.925173Z"
    },
    "papermill": {
     "duration": 1.785965,
     "end_time": "2021-11-08T06:30:12.925651",
     "exception": false,
     "start_time": "2021-11-08T06:30:11.139686",
     "status": "completed"
    },
    "tags": []
   },
   "outputs": [
    {
     "data": {
      "text/plain": [
       "<AxesSubplot:ylabel='PRODUCT'>"
      ]
     },
     "execution_count": 7,
     "metadata": {},
     "output_type": "execute_result"
    },
    {
     "data": {
      "image/png": "[encoded data removed]",
      "text/plain": [
       "<Figure size 432x288 with 1 Axes>"
      ]
     },
     "metadata": {
      "needs_background": "light"
     },
     "output_type": "display_data"
    }
   ],
   "source": [
    "df_pivot_diff.sort_values(\"stamp_2\", ascending = False)[\"stamp_2\"].head(10).plot.barh()"
   ]
  },
  {
   "cell_type": "code",
   "execution_count": null,
   "id": "extra-executive",
   "metadata": {
    "papermill": {
     "duration": 0.023091,
     "end_time": "2021-11-08T06:30:12.972349",
     "exception": false,
     "start_time": "2021-11-08T06:30:12.949258",
     "status": "completed"
    },
    "tags": []
   },
   "outputs": [],
   "source": []
  }
 ],
 "metadata": {
  "kernelspec": {
   "display_name": "Python 3",
   "language": "python",
   "name": "python3"
  },
  "language_info": {
   "codemirror_mode": {
    "name": "ipython",
    "version": 3
   },
   "file_extension": ".py",
   "mimetype": "text/x-python",
   "name": "python",
   "nbconvert_exporter": "python",
   "pygments_lexer": "ipython3",
   "version": "3.9.5"
  },
  "papermill": {
   "default_parameters": {},
   "duration": 8.665282,
   "end_time": "2021-11-08T06:30:13.716523",
   "environment_variables": {},
   "exception": null,
   "input_path": "eBay_Overview.ipynb",
   "output_path": "eBay_Overview.ipynb",
   "parameters": {},
   "start_time": "2021-11-08T06:30:05.051241",
   "version": "2.3.3"
  }
 },
 "nbformat": 4,
 "nbformat_minor": 5
}