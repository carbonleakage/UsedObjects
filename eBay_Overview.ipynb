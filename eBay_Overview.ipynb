{
 "cells": [
  {
   "cell_type": "code",
   "execution_count": 1,
   "id": "reverse-picking",
   "metadata": {
    "execution": {
     "iopub.execute_input": "2021-11-03T02:00:07.569202Z",
     "iopub.status.busy": "2021-11-03T02:00:07.567016Z",
     "iopub.status.idle": "2021-11-03T02:00:08.506010Z",
     "shell.execute_reply": "2021-11-03T02:00:08.507515Z"
    },
    "papermill": {
     "duration": 0.986341,
     "end_time": "2021-11-03T02:00:08.508247",
     "exception": false,
     "start_time": "2021-11-03T02:00:07.521906",
     "status": "completed"
    },
    "tags": []
   },
   "outputs": [],
   "source": [
    "import pandas as pd\n",
    "import sqlite3"
   ]
  },
  {
   "cell_type": "code",
   "execution_count": 2,
   "id": "innovative-syndrome",
   "metadata": {
    "execution": {
     "iopub.execute_input": "2021-11-03T02:00:08.571068Z",
     "iopub.status.busy": "2021-11-03T02:00:08.568991Z",
     "iopub.status.idle": "2021-11-03T02:00:09.300344Z",
     "shell.execute_reply": "2021-11-03T02:00:09.302263Z"
    },
    "papermill": {
     "duration": 0.771536,
     "end_time": "2021-11-03T02:00:09.302771",
     "exception": false,
     "start_time": "2021-11-03T02:00:08.531235",
     "status": "completed"
    },
    "tags": []
   },
   "outputs": [],
   "source": [
    "timestamps = pd.read_sql(\"select distinct record_time from EBAY_TOP_BERLIN order by record_time desc limit 2\", sqlite3.connect(\"UsedObjects.db\"))"
   ]
  },
  {
   "cell_type": "code",
   "execution_count": 3,
   "id": "periodic-identification",
   "metadata": {
    "execution": {
     "iopub.execute_input": "2021-11-03T02:00:09.378423Z",
     "iopub.status.busy": "2021-11-03T02:00:09.372405Z",
     "iopub.status.idle": "2021-11-03T02:00:09.395443Z",
     "shell.execute_reply": "2021-11-03T02:00:09.396821Z"
    },
    "papermill": {
     "duration": 0.072521,
     "end_time": "2021-11-03T02:00:09.397287",
     "exception": false,
     "start_time": "2021-11-03T02:00:09.324766",
     "status": "completed"
    },
    "tags": []
   },
   "outputs": [
    {
     "data": {
      "text/html": [
       "<div>\n",
       "<style scoped>\n",
       "    .dataframe tbody tr th:only-of-type {\n",
       "        vertical-align: middle;\n",
       "    }\n",
       "\n",
       "    .dataframe tbody tr th {\n",
       "        vertical-align: top;\n",
       "    }\n",
       "\n",
       "    .dataframe thead th {\n",
       "        text-align: right;\n",
       "    }\n",
       "</style>\n",
       "<table border=\"1\" class=\"dataframe\">\n",
       "  <thead>\n",
       "    <tr style=\"text-align: right;\">\n",
       "      <th></th>\n",
       "      <th>RECORD_TIME</th>\n",
       "    </tr>\n",
       "  </thead>\n",
       "  <tbody>\n",
       "    <tr>\n",
       "      <th>0</th>\n",
       "      <td>2021-11-03 03:00</td>\n",
       "    </tr>\n",
       "    <tr>\n",
       "      <th>1</th>\n",
       "      <td>2021-11-03 02:30</td>\n",
       "    </tr>\n",
       "  </tbody>\n",
       "</table>\n",
       "</div>"
      ],
      "text/plain": [
       "        RECORD_TIME\n",
       "0  2021-11-03 03:00\n",
       "1  2021-11-03 02:30"
      ]
     },
     "execution_count": 3,
     "metadata": {},
     "output_type": "execute_result"
    }
   ],
   "source": [
    "timestamps"
   ]
  },
  {
   "cell_type": "code",
   "execution_count": 4,
   "id": "alternate-victory",
   "metadata": {
    "execution": {
     "iopub.execute_input": "2021-11-03T02:00:09.450554Z",
     "iopub.status.busy": "2021-11-03T02:00:09.448332Z",
     "iopub.status.idle": "2021-11-03T02:00:10.504542Z",
     "shell.execute_reply": "2021-11-03T02:00:10.506247Z"
    },
    "papermill": {
     "duration": 1.088642,
     "end_time": "2021-11-03T02:00:10.506730",
     "exception": false,
     "start_time": "2021-11-03T02:00:09.418088",
     "status": "completed"
    },
    "tags": []
   },
   "outputs": [],
   "source": [
    "df = pd.read_sql(\"select * from EBAY_TOP_BERLIN where record_time in (select distinct record_time from EBAY_TOP_BERLIN order by record_time desc limit 2)\", sqlite3.connect(\"UsedObjects.db\"))"
   ]
  },
  {
   "cell_type": "code",
   "execution_count": 5,
   "id": "popular-active",
   "metadata": {
    "execution": {
     "iopub.execute_input": "2021-11-03T02:00:10.586087Z",
     "iopub.status.busy": "2021-11-03T02:00:10.571340Z",
     "iopub.status.idle": "2021-11-03T02:00:10.606850Z",
     "shell.execute_reply": "2021-11-03T02:00:10.608498Z"
    },
    "papermill": {
     "duration": 0.080369,
     "end_time": "2021-11-03T02:00:10.609027",
     "exception": false,
     "start_time": "2021-11-03T02:00:10.528658",
     "status": "completed"
    },
    "tags": []
   },
   "outputs": [],
   "source": [
    "df_pivot = df.pivot_table(index=\"PRODUCT\", columns = \"RECORD_TIME\", values = \"LISTING_COUNT\")"
   ]
  },
  {
   "cell_type": "code",
   "execution_count": 6,
   "id": "union-huntington",
   "metadata": {
    "execution": {
     "iopub.execute_input": "2021-11-03T02:00:10.671519Z",
     "iopub.status.busy": "2021-11-03T02:00:10.669217Z",
     "iopub.status.idle": "2021-11-03T02:00:10.674926Z",
     "shell.execute_reply": "2021-11-03T02:00:10.676509Z"
    },
    "papermill": {
     "duration": 0.046173,
     "end_time": "2021-11-03T02:00:10.677018",
     "exception": false,
     "start_time": "2021-11-03T02:00:10.630845",
     "status": "completed"
    },
    "tags": []
   },
   "outputs": [],
   "source": [
    "df_pivot.columns = [\"stamp_1\", \"stamp_2\"]\n",
    "df_pivot_diff = df_pivot.diff(axis=1)"
   ]
  },
  {
   "cell_type": "code",
   "execution_count": 7,
   "id": "fifth-motion",
   "metadata": {
    "execution": {
     "iopub.execute_input": "2021-11-03T02:00:10.739067Z",
     "iopub.status.busy": "2021-11-03T02:00:10.735995Z",
     "iopub.status.idle": "2021-11-03T02:00:12.530946Z",
     "shell.execute_reply": "2021-11-03T02:00:12.533704Z"
    },
    "papermill": {
     "duration": 1.835653,
     "end_time": "2021-11-03T02:00:12.534546",
     "exception": false,
     "start_time": "2021-11-03T02:00:10.698893",
     "status": "completed"
    },
    "tags": []
   },
   "outputs": [
    {
     "data": {
      "text/plain": [
       "<AxesSubplot:ylabel='PRODUCT'>"
      ]
     },
     "execution_count": 7,
     "metadata": {},
     "output_type": "execute_result"
    },
    {
     "data": {
      "image/png": "[encoded data removed]",
      "text/plain": [
       "<Figure size 432x288 with 1 Axes>"
      ]
     },
     "metadata": {
      "needs_background": "light"
     },
     "output_type": "display_data"
    }
   ],
   "source": [
    "df_pivot_diff.sort_values(\"stamp_2\", ascending = False)[\"stamp_2\"].head(10).plot.barh()"
   ]
  },
  {
   "cell_type": "code",
   "execution_count": null,
   "id": "extra-executive",
   "metadata": {
    "papermill": {
     "duration": 0.036756,
     "end_time": "2021-11-03T02:00:12.609040",
     "exception": false,
     "start_time": "2021-11-03T02:00:12.572284",
     "status": "completed"
    },
    "tags": []
   },
   "outputs": [],
   "source": []
  }
 ],
 "metadata": {
  "kernelspec": {
   "display_name": "Python 3",
   "language": "python",
   "name": "python3"
  },
  "language_info": {
   "codemirror_mode": {
    "name": "ipython",
    "version": 3
   },
   "file_extension": ".py",
   "mimetype": "text/x-python",
   "name": "python",
   "nbconvert_exporter": "python",
   "pygments_lexer": "ipython3",
   "version": "3.9.5"
  },
  "papermill": {
   "default_parameters": {},
   "duration": 8.696408,
   "end_time": "2021-11-03T02:00:13.468948",
   "environment_variables": {},
   "exception": null,
   "input_path": "eBay_Overview.ipynb",
   "output_path": "eBay_Overview.ipynb",
   "parameters": {},
   "start_time": "2021-11-03T02:00:04.772540",
   "version": "2.3.3"
  }
 },
 "nbformat": 4,
 "nbformat_minor": 5
}