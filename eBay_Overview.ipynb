{
 "cells": [
  {
   "cell_type": "code",
   "execution_count": 1,
   "id": "reverse-picking",
   "metadata": {
    "execution": {
     "iopub.execute_input": "2021-09-16T07:00:07.124615Z",
     "iopub.status.busy": "2021-09-16T07:00:07.122636Z",
     "iopub.status.idle": "2021-09-16T07:00:07.923197Z",
     "shell.execute_reply": "2021-09-16T07:00:07.924633Z"
    },
    "papermill": {
     "duration": 0.852828,
     "end_time": "2021-09-16T07:00:07.925317",
     "exception": false,
     "start_time": "2021-09-16T07:00:07.072489",
     "status": "completed"
    },
    "tags": []
   },
   "outputs": [],
   "source": [
    "import pandas as pd\n",
    "import sqlite3"
   ]
  },
  {
   "cell_type": "code",
   "execution_count": 2,
   "id": "innovative-syndrome",
   "metadata": {
    "execution": {
     "iopub.execute_input": "2021-09-16T07:00:07.976425Z",
     "iopub.status.busy": "2021-09-16T07:00:07.974057Z",
     "iopub.status.idle": "2021-09-16T07:00:08.274772Z",
     "shell.execute_reply": "2021-09-16T07:00:08.276098Z"
    },
    "papermill": {
     "duration": 0.330707,
     "end_time": "2021-09-16T07:00:08.276517",
     "exception": false,
     "start_time": "2021-09-16T07:00:07.945810",
     "status": "completed"
    },
    "tags": []
   },
   "outputs": [],
   "source": [
    "timestamps = pd.read_sql(\"select distinct record_time from EBAY_TOP_BERLIN order by record_time desc limit 2\", sqlite3.connect(\"UsedObjects.db\"))"
   ]
  },
  {
   "cell_type": "code",
   "execution_count": 3,
   "id": "periodic-identification",
   "metadata": {
    "execution": {
     "iopub.execute_input": "2021-09-16T07:00:08.341733Z",
     "iopub.status.busy": "2021-09-16T07:00:08.339747Z",
     "iopub.status.idle": "2021-09-16T07:00:08.359605Z",
     "shell.execute_reply": "2021-09-16T07:00:08.360890Z"
    },
    "papermill": {
     "duration": 0.064274,
     "end_time": "2021-09-16T07:00:08.361308",
     "exception": false,
     "start_time": "2021-09-16T07:00:08.297034",
     "status": "completed"
    },
    "tags": []
   },
   "outputs": [
    {
     "data": {
      "text/html": [
       "<div>\n",
       "<style scoped>\n",
       "    .dataframe tbody tr th:only-of-type {\n",
       "        vertical-align: middle;\n",
       "    }\n",
       "\n",
       "    .dataframe tbody tr th {\n",
       "        vertical-align: top;\n",
       "    }\n",
       "\n",
       "    .dataframe thead th {\n",
       "        text-align: right;\n",
       "    }\n",
       "</style>\n",
       "<table border=\"1\" class=\"dataframe\">\n",
       "  <thead>\n",
       "    <tr style=\"text-align: right;\">\n",
       "      <th></th>\n",
       "      <th>RECORD_TIME</th>\n",
       "    </tr>\n",
       "  </thead>\n",
       "  <tbody>\n",
       "    <tr>\n",
       "      <th>0</th>\n",
       "      <td>2021-09-16 09:00</td>\n",
       "    </tr>\n",
       "    <tr>\n",
       "      <th>1</th>\n",
       "      <td>2021-09-16 08:30</td>\n",
       "    </tr>\n",
       "  </tbody>\n",
       "</table>\n",
       "</div>"
      ],
      "text/plain": [
       "        RECORD_TIME\n",
       "0  2021-09-16 09:00\n",
       "1  2021-09-16 08:30"
      ]
     },
     "execution_count": 3,
     "metadata": {},
     "output_type": "execute_result"
    }
   ],
   "source": [
    "timestamps"
   ]
  },
  {
   "cell_type": "code",
   "execution_count": 4,
   "id": "alternate-victory",
   "metadata": {
    "execution": {
     "iopub.execute_input": "2021-09-16T07:00:08.413250Z",
     "iopub.status.busy": "2021-09-16T07:00:08.411104Z",
     "iopub.status.idle": "2021-09-16T07:00:08.844155Z",
     "shell.execute_reply": "2021-09-16T07:00:08.845404Z"
    },
    "papermill": {
     "duration": 0.463256,
     "end_time": "2021-09-16T07:00:08.845801",
     "exception": false,
     "start_time": "2021-09-16T07:00:08.382545",
     "status": "completed"
    },
    "tags": []
   },
   "outputs": [],
   "source": [
    "df = pd.read_sql(\"select * from EBAY_TOP_BERLIN where record_time in (select distinct record_time from EBAY_TOP_BERLIN order by record_time desc limit 2)\", sqlite3.connect(\"UsedObjects.db\"))"
   ]
  },
  {
   "cell_type": "code",
   "execution_count": 5,
   "id": "popular-active",
   "metadata": {
    "execution": {
     "iopub.execute_input": "2021-09-16T07:00:08.907294Z",
     "iopub.status.busy": "2021-09-16T07:00:08.905022Z",
     "iopub.status.idle": "2021-09-16T07:00:08.932416Z",
     "shell.execute_reply": "2021-09-16T07:00:08.933608Z"
    },
    "papermill": {
     "duration": 0.067393,
     "end_time": "2021-09-16T07:00:08.934003",
     "exception": false,
     "start_time": "2021-09-16T07:00:08.866610",
     "status": "completed"
    },
    "tags": []
   },
   "outputs": [],
   "source": [
    "df_pivot = df.pivot_table(index=\"PRODUCT\", columns = \"RECORD_TIME\", values = \"LISTING_COUNT\")"
   ]
  },
  {
   "cell_type": "code",
   "execution_count": 6,
   "id": "union-huntington",
   "metadata": {
    "execution": {
     "iopub.execute_input": "2021-09-16T07:00:08.991226Z",
     "iopub.status.busy": "2021-09-16T07:00:08.989014Z",
     "iopub.status.idle": "2021-09-16T07:00:08.994722Z",
     "shell.execute_reply": "2021-09-16T07:00:08.996330Z"
    },
    "papermill": {
     "duration": 0.04143,
     "end_time": "2021-09-16T07:00:08.996930",
     "exception": false,
     "start_time": "2021-09-16T07:00:08.955500",
     "status": "completed"
    },
    "tags": []
   },
   "outputs": [],
   "source": [
    "df_pivot.columns = [\"stamp_1\", \"stamp_2\"]\n",
    "df_pivot_diff = df_pivot.diff(axis=1)"
   ]
  },
  {
   "cell_type": "code",
   "execution_count": 7,
   "id": "fifth-motion",
   "metadata": {
    "execution": {
     "iopub.execute_input": "2021-09-16T07:00:09.053322Z",
     "iopub.status.busy": "2021-09-16T07:00:09.050958Z",
     "iopub.status.idle": "2021-09-16T07:00:10.526578Z",
     "shell.execute_reply": "2021-09-16T07:00:10.527918Z"
    },
    "papermill": {
     "duration": 1.509116,
     "end_time": "2021-09-16T07:00:10.528344",
     "exception": false,
     "start_time": "2021-09-16T07:00:09.019228",
     "status": "completed"
    },
    "tags": []
   },
   "outputs": [
    {
     "data": {
      "text/plain": [
       "<AxesSubplot:ylabel='PRODUCT'>"
      ]
     },
     "execution_count": 7,
     "metadata": {},
     "output_type": "execute_result"
    },
    {
     "data": {
      "image/png": "[encoded data removed]",
      "text/plain": [
       "<Figure size 432x288 with 1 Axes>"
      ]
     },
     "metadata": {
      "needs_background": "light"
     },
     "output_type": "display_data"
    }
   ],
   "source": [
    "df_pivot_diff.sort_values(\"stamp_2\", ascending = False)[\"stamp_2\"].head(10).plot.barh()"
   ]
  },
  {
   "cell_type": "code",
   "execution_count": null,
   "id": "extra-executive",
   "metadata": {
    "papermill": {
     "duration": 0.022284,
     "end_time": "2021-09-16T07:00:10.574765",
     "exception": false,
     "start_time": "2021-09-16T07:00:10.552481",
     "status": "completed"
    },
    "tags": []
   },
   "outputs": [],
   "source": []
  }
 ],
 "metadata": {
  "kernelspec": {
   "display_name": "Python 3",
   "language": "python",
   "name": "python3"
  },
  "language_info": {
   "codemirror_mode": {
    "name": "ipython",
    "version": 3
   },
   "file_extension": ".py",
   "mimetype": "text/x-python",
   "name": "python",
   "nbconvert_exporter": "python",
   "pygments_lexer": "ipython3",
   "version": "3.9.5"
  },
  "papermill": {
   "default_parameters": {},
   "duration": 6.53945,
   "end_time": "2021-09-16T07:00:11.217937",
   "environment_variables": {},
   "exception": null,
   "input_path": "eBay_Overview.ipynb",
   "output_path": "eBay_Overview.ipynb",
   "parameters": {},
   "start_time": "2021-09-16T07:00:04.678487",
   "version": "2.3.3"
  }
 },
 "nbformat": 4,
 "nbformat_minor": 5
}