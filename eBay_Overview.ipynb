{
 "cells": [
  {
   "cell_type": "code",
   "execution_count": 1,
   "id": "reverse-picking",
   "metadata": {
    "execution": {
     "iopub.execute_input": "2021-10-02T11:30:06.896080Z",
     "iopub.status.busy": "2021-10-02T11:30:06.894077Z",
     "iopub.status.idle": "2021-10-02T11:30:07.704407Z",
     "shell.execute_reply": "2021-10-02T11:30:07.701828Z"
    },
    "papermill": {
     "duration": 0.858583,
     "end_time": "2021-10-02T11:30:07.704897",
     "exception": false,
     "start_time": "2021-10-02T11:30:06.846314",
     "status": "completed"
    },
    "tags": []
   },
   "outputs": [],
   "source": [
    "import pandas as pd\n",
    "import sqlite3"
   ]
  },
  {
   "cell_type": "code",
   "execution_count": 2,
   "id": "innovative-syndrome",
   "metadata": {
    "execution": {
     "iopub.execute_input": "2021-10-02T11:30:07.757410Z",
     "iopub.status.busy": "2021-10-02T11:30:07.755122Z",
     "iopub.status.idle": "2021-10-02T11:30:08.188704Z",
     "shell.execute_reply": "2021-10-02T11:30:08.189907Z"
    },
    "papermill": {
     "duration": 0.463952,
     "end_time": "2021-10-02T11:30:08.190296",
     "exception": false,
     "start_time": "2021-10-02T11:30:07.726344",
     "status": "completed"
    },
    "tags": []
   },
   "outputs": [],
   "source": [
    "timestamps = pd.read_sql(\"select distinct record_time from EBAY_TOP_BERLIN order by record_time desc limit 2\", sqlite3.connect(\"UsedObjects.db\"))"
   ]
  },
  {
   "cell_type": "code",
   "execution_count": 3,
   "id": "periodic-identification",
   "metadata": {
    "execution": {
     "iopub.execute_input": "2021-10-02T11:30:08.254018Z",
     "iopub.status.busy": "2021-10-02T11:30:08.251636Z",
     "iopub.status.idle": "2021-10-02T11:30:08.273149Z",
     "shell.execute_reply": "2021-10-02T11:30:08.274360Z"
    },
    "papermill": {
     "duration": 0.065191,
     "end_time": "2021-10-02T11:30:08.274747",
     "exception": false,
     "start_time": "2021-10-02T11:30:08.209556",
     "status": "completed"
    },
    "tags": []
   },
   "outputs": [
    {
     "data": {
      "text/html": [
       "<div>\n",
       "<style scoped>\n",
       "    .dataframe tbody tr th:only-of-type {\n",
       "        vertical-align: middle;\n",
       "    }\n",
       "\n",
       "    .dataframe tbody tr th {\n",
       "        vertical-align: top;\n",
       "    }\n",
       "\n",
       "    .dataframe thead th {\n",
       "        text-align: right;\n",
       "    }\n",
       "</style>\n",
       "<table border=\"1\" class=\"dataframe\">\n",
       "  <thead>\n",
       "    <tr style=\"text-align: right;\">\n",
       "      <th></th>\n",
       "      <th>RECORD_TIME</th>\n",
       "    </tr>\n",
       "  </thead>\n",
       "  <tbody>\n",
       "    <tr>\n",
       "      <th>0</th>\n",
       "      <td>2021-10-02 13:30</td>\n",
       "    </tr>\n",
       "    <tr>\n",
       "      <th>1</th>\n",
       "      <td>2021-10-02 13:00</td>\n",
       "    </tr>\n",
       "  </tbody>\n",
       "</table>\n",
       "</div>"
      ],
      "text/plain": [
       "        RECORD_TIME\n",
       "0  2021-10-02 13:30\n",
       "1  2021-10-02 13:00"
      ]
     },
     "execution_count": 3,
     "metadata": {},
     "output_type": "execute_result"
    }
   ],
   "source": [
    "timestamps"
   ]
  },
  {
   "cell_type": "code",
   "execution_count": 4,
   "id": "alternate-victory",
   "metadata": {
    "execution": {
     "iopub.execute_input": "2021-10-02T11:30:08.335843Z",
     "iopub.status.busy": "2021-10-02T11:30:08.333748Z",
     "iopub.status.idle": "2021-10-02T11:30:08.976135Z",
     "shell.execute_reply": "2021-10-02T11:30:08.977381Z"
    },
    "papermill": {
     "duration": 0.681039,
     "end_time": "2021-10-02T11:30:08.977769",
     "exception": false,
     "start_time": "2021-10-02T11:30:08.296730",
     "status": "completed"
    },
    "tags": []
   },
   "outputs": [],
   "source": [
    "df = pd.read_sql(\"select * from EBAY_TOP_BERLIN where record_time in (select distinct record_time from EBAY_TOP_BERLIN order by record_time desc limit 2)\", sqlite3.connect(\"UsedObjects.db\"))"
   ]
  },
  {
   "cell_type": "code",
   "execution_count": 5,
   "id": "popular-active",
   "metadata": {
    "execution": {
     "iopub.execute_input": "2021-10-02T11:30:09.048763Z",
     "iopub.status.busy": "2021-10-02T11:30:09.038080Z",
     "iopub.status.idle": "2021-10-02T11:30:09.065037Z",
     "shell.execute_reply": "2021-10-02T11:30:09.066241Z"
    },
    "papermill": {
     "duration": 0.068255,
     "end_time": "2021-10-02T11:30:09.066630",
     "exception": false,
     "start_time": "2021-10-02T11:30:08.998375",
     "status": "completed"
    },
    "tags": []
   },
   "outputs": [],
   "source": [
    "df_pivot = df.pivot_table(index=\"PRODUCT\", columns = \"RECORD_TIME\", values = \"LISTING_COUNT\")"
   ]
  },
  {
   "cell_type": "code",
   "execution_count": 6,
   "id": "union-huntington",
   "metadata": {
    "execution": {
     "iopub.execute_input": "2021-10-02T11:30:09.122900Z",
     "iopub.status.busy": "2021-10-02T11:30:09.120843Z",
     "iopub.status.idle": "2021-10-02T11:30:09.126259Z",
     "shell.execute_reply": "2021-10-02T11:30:09.127749Z"
    },
    "papermill": {
     "duration": 0.040656,
     "end_time": "2021-10-02T11:30:09.128192",
     "exception": false,
     "start_time": "2021-10-02T11:30:09.087536",
     "status": "completed"
    },
    "tags": []
   },
   "outputs": [],
   "source": [
    "df_pivot.columns = [\"stamp_1\", \"stamp_2\"]\n",
    "df_pivot_diff = df_pivot.diff(axis=1)"
   ]
  },
  {
   "cell_type": "code",
   "execution_count": 7,
   "id": "fifth-motion",
   "metadata": {
    "execution": {
     "iopub.execute_input": "2021-10-02T11:30:09.184168Z",
     "iopub.status.busy": "2021-10-02T11:30:09.181483Z",
     "iopub.status.idle": "2021-10-02T11:30:10.695587Z",
     "shell.execute_reply": "2021-10-02T11:30:10.697197Z"
    },
    "papermill": {
     "duration": 1.548384,
     "end_time": "2021-10-02T11:30:10.697689",
     "exception": false,
     "start_time": "2021-10-02T11:30:09.149305",
     "status": "completed"
    },
    "tags": []
   },
   "outputs": [
    {
     "data": {
      "text/plain": [
       "<AxesSubplot:ylabel='PRODUCT'>"
      ]
     },
     "execution_count": 7,
     "metadata": {},
     "output_type": "execute_result"
    },
    {
     "data": {
      "image/png": "[encoded data removed]",
      "text/plain": [
       "<Figure size 432x288 with 1 Axes>"
      ]
     },
     "metadata": {
      "needs_background": "light"
     },
     "output_type": "display_data"
    }
   ],
   "source": [
    "df_pivot_diff.sort_values(\"stamp_2\", ascending = False)[\"stamp_2\"].head(10).plot.barh()"
   ]
  },
  {
   "cell_type": "code",
   "execution_count": null,
   "id": "extra-executive",
   "metadata": {
    "papermill": {
     "duration": 0.022331,
     "end_time": "2021-10-02T11:30:10.745577",
     "exception": false,
     "start_time": "2021-10-02T11:30:10.723246",
     "status": "completed"
    },
    "tags": []
   },
   "outputs": [],
   "source": []
  }
 ],
 "metadata": {
  "kernelspec": {
   "display_name": "Python 3",
   "language": "python",
   "name": "python3"
  },
  "language_info": {
   "codemirror_mode": {
    "name": "ipython",
    "version": 3
   },
   "file_extension": ".py",
   "mimetype": "text/x-python",
   "name": "python",
   "nbconvert_exporter": "python",
   "pygments_lexer": "ipython3",
   "version": "3.9.5"
  },
  "papermill": {
   "default_parameters": {},
   "duration": 7.826718,
   "end_time": "2021-10-02T11:30:12.257246",
   "environment_variables": {},
   "exception": null,
   "input_path": "eBay_Overview.ipynb",
   "output_path": "eBay_Overview.ipynb",
   "parameters": {},
   "start_time": "2021-10-02T11:30:04.430528",
   "version": "2.3.3"
  }
 },
 "nbformat": 4,
 "nbformat_minor": 5
}