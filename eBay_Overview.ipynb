{
 "cells": [
  {
   "cell_type": "code",
   "execution_count": 1,
   "id": "reverse-picking",
   "metadata": {
    "execution": {
     "iopub.execute_input": "2021-11-30T00:30:08.097727Z",
     "iopub.status.busy": "2021-11-30T00:30:08.095376Z",
     "iopub.status.idle": "2021-11-30T00:30:09.060815Z",
     "shell.execute_reply": "2021-11-30T00:30:09.058879Z"
    },
    "papermill": {
     "duration": 1.012925,
     "end_time": "2021-11-30T00:30:09.061331",
     "exception": false,
     "start_time": "2021-11-30T00:30:08.048406",
     "status": "completed"
    },
    "tags": []
   },
   "outputs": [],
   "source": [
    "import pandas as pd\n",
    "import sqlite3"
   ]
  },
  {
   "cell_type": "code",
   "execution_count": 2,
   "id": "innovative-syndrome",
   "metadata": {
    "execution": {
     "iopub.execute_input": "2021-11-30T00:30:09.185915Z",
     "iopub.status.busy": "2021-11-30T00:30:09.183360Z",
     "iopub.status.idle": "2021-11-30T00:30:10.119433Z",
     "shell.execute_reply": "2021-11-30T00:30:10.120665Z"
    },
    "papermill": {
     "duration": 0.971173,
     "end_time": "2021-11-30T00:30:10.121280",
     "exception": false,
     "start_time": "2021-11-30T00:30:09.150107",
     "status": "completed"
    },
    "tags": []
   },
   "outputs": [],
   "source": [
    "timestamps = pd.read_sql(\"select distinct record_time from EBAY_TOP_BERLIN order by record_time desc limit 2\", sqlite3.connect(\"UsedObjects.db\"))"
   ]
  },
  {
   "cell_type": "code",
   "execution_count": 3,
   "id": "periodic-identification",
   "metadata": {
    "execution": {
     "iopub.execute_input": "2021-11-30T00:30:10.190123Z",
     "iopub.status.busy": "2021-11-30T00:30:10.188027Z",
     "iopub.status.idle": "2021-11-30T00:30:10.208335Z",
     "shell.execute_reply": "2021-11-30T00:30:10.209824Z"
    },
    "papermill": {
     "duration": 0.067475,
     "end_time": "2021-11-30T00:30:10.210276",
     "exception": false,
     "start_time": "2021-11-30T00:30:10.142801",
     "status": "completed"
    },
    "tags": []
   },
   "outputs": [
    {
     "data": {
      "text/html": [
       "<div>\n",
       "<style scoped>\n",
       "    .dataframe tbody tr th:only-of-type {\n",
       "        vertical-align: middle;\n",
       "    }\n",
       "\n",
       "    .dataframe tbody tr th {\n",
       "        vertical-align: top;\n",
       "    }\n",
       "\n",
       "    .dataframe thead th {\n",
       "        text-align: right;\n",
       "    }\n",
       "</style>\n",
       "<table border=\"1\" class=\"dataframe\">\n",
       "  <thead>\n",
       "    <tr style=\"text-align: right;\">\n",
       "      <th></th>\n",
       "      <th>RECORD_TIME</th>\n",
       "    </tr>\n",
       "  </thead>\n",
       "  <tbody>\n",
       "    <tr>\n",
       "      <th>0</th>\n",
       "      <td>2021-11-30 01:30</td>\n",
       "    </tr>\n",
       "    <tr>\n",
       "      <th>1</th>\n",
       "      <td>2021-11-30 01:00</td>\n",
       "    </tr>\n",
       "  </tbody>\n",
       "</table>\n",
       "</div>"
      ],
      "text/plain": [
       "        RECORD_TIME\n",
       "0  2021-11-30 01:30\n",
       "1  2021-11-30 01:00"
      ]
     },
     "execution_count": 3,
     "metadata": {},
     "output_type": "execute_result"
    }
   ],
   "source": [
    "timestamps"
   ]
  },
  {
   "cell_type": "code",
   "execution_count": 4,
   "id": "alternate-victory",
   "metadata": {
    "execution": {
     "iopub.execute_input": "2021-11-30T00:30:10.265272Z",
     "iopub.status.busy": "2021-11-30T00:30:10.263085Z",
     "iopub.status.idle": "2021-11-30T00:30:11.668666Z",
     "shell.execute_reply": "2021-11-30T00:30:11.670354Z"
    },
    "papermill": {
     "duration": 1.439525,
     "end_time": "2021-11-30T00:30:11.670942",
     "exception": false,
     "start_time": "2021-11-30T00:30:10.231417",
     "status": "completed"
    },
    "tags": []
   },
   "outputs": [],
   "source": [
    "df = pd.read_sql(\"select * from EBAY_TOP_BERLIN where record_time in (select distinct record_time from EBAY_TOP_BERLIN order by record_time desc limit 2)\", sqlite3.connect(\"UsedObjects.db\"))"
   ]
  },
  {
   "cell_type": "code",
   "execution_count": 5,
   "id": "popular-active",
   "metadata": {
    "execution": {
     "iopub.execute_input": "2021-11-30T00:30:11.743092Z",
     "iopub.status.busy": "2021-11-30T00:30:11.740824Z",
     "iopub.status.idle": "2021-11-30T00:30:11.766045Z",
     "shell.execute_reply": "2021-11-30T00:30:11.767504Z"
    },
    "papermill": {
     "duration": 0.074401,
     "end_time": "2021-11-30T00:30:11.767959",
     "exception": false,
     "start_time": "2021-11-30T00:30:11.693558",
     "status": "completed"
    },
    "tags": []
   },
   "outputs": [],
   "source": [
    "df_pivot = df.pivot_table(index=\"PRODUCT\", columns = \"RECORD_TIME\", values = \"LISTING_COUNT\")"
   ]
  },
  {
   "cell_type": "code",
   "execution_count": 6,
   "id": "union-huntington",
   "metadata": {
    "execution": {
     "iopub.execute_input": "2021-11-30T00:30:11.827226Z",
     "iopub.status.busy": "2021-11-30T00:30:11.824902Z",
     "iopub.status.idle": "2021-11-30T00:30:11.833480Z",
     "shell.execute_reply": "2021-11-30T00:30:11.834919Z"
    },
    "papermill": {
     "duration": 0.047744,
     "end_time": "2021-11-30T00:30:11.835408",
     "exception": false,
     "start_time": "2021-11-30T00:30:11.787664",
     "status": "completed"
    },
    "tags": []
   },
   "outputs": [],
   "source": [
    "df_pivot.columns = [\"stamp_1\", \"stamp_2\"]\n",
    "df_pivot_diff = df_pivot.diff(axis=1)"
   ]
  },
  {
   "cell_type": "code",
   "execution_count": 7,
   "id": "fifth-motion",
   "metadata": {
    "execution": {
     "iopub.execute_input": "2021-11-30T00:30:11.893772Z",
     "iopub.status.busy": "2021-11-30T00:30:11.891244Z",
     "iopub.status.idle": "2021-11-30T00:30:13.921835Z",
     "shell.execute_reply": "2021-11-30T00:30:13.923253Z"
    },
    "papermill": {
     "duration": 2.06717,
     "end_time": "2021-11-30T00:30:13.923703",
     "exception": false,
     "start_time": "2021-11-30T00:30:11.856533",
     "status": "completed"
    },
    "tags": []
   },
   "outputs": [
    {
     "data": {
      "text/plain": [
       "<AxesSubplot:ylabel='PRODUCT'>"
      ]
     },
     "execution_count": 7,
     "metadata": {},
     "output_type": "execute_result"
    },
    {
     "data": {
      "image/png": "[encoded data removed]",
      "text/plain": [
       "<Figure size 432x288 with 1 Axes>"
      ]
     },
     "metadata": {
      "needs_background": "light"
     },
     "output_type": "display_data"
    }
   ],
   "source": [
    "df_pivot_diff.sort_values(\"stamp_2\", ascending = False)[\"stamp_2\"].head(10).plot.barh()"
   ]
  },
  {
   "cell_type": "code",
   "execution_count": null,
   "id": "extra-executive",
   "metadata": {
    "papermill": {
     "duration": 0.022075,
     "end_time": "2021-11-30T00:30:13.970791",
     "exception": false,
     "start_time": "2021-11-30T00:30:13.948716",
     "status": "completed"
    },
    "tags": []
   },
   "outputs": [],
   "source": []
  }
 ],
 "metadata": {
  "kernelspec": {
   "display_name": "Python 3",
   "language": "python",
   "name": "python3"
  },
  "language_info": {
   "codemirror_mode": {
    "name": "ipython",
    "version": 3
   },
   "file_extension": ".py",
   "mimetype": "text/x-python",
   "name": "python",
   "nbconvert_exporter": "python",
   "pygments_lexer": "ipython3",
   "version": "3.9.5"
  },
  "papermill": {
   "default_parameters": {},
   "duration": 9.946531,
   "end_time": "2021-11-30T00:30:15.253890",
   "environment_variables": {},
   "exception": null,
   "input_path": "eBay_Overview.ipynb",
   "output_path": "eBay_Overview.ipynb",
   "parameters": {},
   "start_time": "2021-11-30T00:30:05.307359",
   "version": "2.3.3"
  }
 },
 "nbformat": 4,
 "nbformat_minor": 5
}