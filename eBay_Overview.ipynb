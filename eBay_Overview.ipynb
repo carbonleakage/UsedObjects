{
 "cells": [
  {
   "cell_type": "code",
   "execution_count": 1,
   "id": "reverse-picking",
   "metadata": {
    "execution": {
     "iopub.execute_input": "2021-12-19T13:00:07.647498Z",
     "iopub.status.busy": "2021-12-19T13:00:07.645151Z",
     "iopub.status.idle": "2021-12-19T13:00:08.598691Z",
     "shell.execute_reply": "2021-12-19T13:00:08.600169Z"
    },
    "papermill": {
     "duration": 1.004052,
     "end_time": "2021-12-19T13:00:08.600971",
     "exception": false,
     "start_time": "2021-12-19T13:00:07.596919",
     "status": "completed"
    },
    "tags": []
   },
   "outputs": [],
   "source": [
    "import pandas as pd\n",
    "import sqlite3"
   ]
  },
  {
   "cell_type": "code",
   "execution_count": 2,
   "id": "innovative-syndrome",
   "metadata": {
    "execution": {
     "iopub.execute_input": "2021-12-19T13:00:08.662083Z",
     "iopub.status.busy": "2021-12-19T13:00:08.659697Z",
     "iopub.status.idle": "2021-12-19T13:00:09.799482Z",
     "shell.execute_reply": "2021-12-19T13:00:09.800892Z"
    },
    "papermill": {
     "duration": 1.173473,
     "end_time": "2021-12-19T13:00:09.801374",
     "exception": false,
     "start_time": "2021-12-19T13:00:08.627901",
     "status": "completed"
    },
    "tags": []
   },
   "outputs": [],
   "source": [
    "timestamps = pd.read_sql(\"select distinct record_time from EBAY_TOP_BERLIN order by record_time desc limit 2\", sqlite3.connect(\"UsedObjects.db\"))"
   ]
  },
  {
   "cell_type": "code",
   "execution_count": 3,
   "id": "periodic-identification",
   "metadata": {
    "execution": {
     "iopub.execute_input": "2021-12-19T13:00:09.873656Z",
     "iopub.status.busy": "2021-12-19T13:00:09.871132Z",
     "iopub.status.idle": "2021-12-19T13:00:09.895373Z",
     "shell.execute_reply": "2021-12-19T13:00:09.897158Z"
    },
    "papermill": {
     "duration": 0.072898,
     "end_time": "2021-12-19T13:00:09.897667",
     "exception": false,
     "start_time": "2021-12-19T13:00:09.824769",
     "status": "completed"
    },
    "tags": []
   },
   "outputs": [
    {
     "data": {
      "text/html": [
       "<div>\n",
       "<style scoped>\n",
       "    .dataframe tbody tr th:only-of-type {\n",
       "        vertical-align: middle;\n",
       "    }\n",
       "\n",
       "    .dataframe tbody tr th {\n",
       "        vertical-align: top;\n",
       "    }\n",
       "\n",
       "    .dataframe thead th {\n",
       "        text-align: right;\n",
       "    }\n",
       "</style>\n",
       "<table border=\"1\" class=\"dataframe\">\n",
       "  <thead>\n",
       "    <tr style=\"text-align: right;\">\n",
       "      <th></th>\n",
       "      <th>RECORD_TIME</th>\n",
       "    </tr>\n",
       "  </thead>\n",
       "  <tbody>\n",
       "    <tr>\n",
       "      <th>0</th>\n",
       "      <td>2021-12-19 14:00</td>\n",
       "    </tr>\n",
       "    <tr>\n",
       "      <th>1</th>\n",
       "      <td>2021-12-19 13:30</td>\n",
       "    </tr>\n",
       "  </tbody>\n",
       "</table>\n",
       "</div>"
      ],
      "text/plain": [
       "        RECORD_TIME\n",
       "0  2021-12-19 14:00\n",
       "1  2021-12-19 13:30"
      ]
     },
     "execution_count": 3,
     "metadata": {},
     "output_type": "execute_result"
    }
   ],
   "source": [
    "timestamps"
   ]
  },
  {
   "cell_type": "code",
   "execution_count": 4,
   "id": "alternate-victory",
   "metadata": {
    "execution": {
     "iopub.execute_input": "2021-12-19T13:00:09.948994Z",
     "iopub.status.busy": "2021-12-19T13:00:09.946558Z",
     "iopub.status.idle": "2021-12-19T13:00:11.611886Z",
     "shell.execute_reply": "2021-12-19T13:00:11.613830Z"
    },
    "papermill": {
     "duration": 1.695236,
     "end_time": "2021-12-19T13:00:11.614320",
     "exception": false,
     "start_time": "2021-12-19T13:00:09.919084",
     "status": "completed"
    },
    "tags": []
   },
   "outputs": [],
   "source": [
    "df = pd.read_sql(\"select * from EBAY_TOP_BERLIN where record_time in (select distinct record_time from EBAY_TOP_BERLIN order by record_time desc limit 2)\", sqlite3.connect(\"UsedObjects.db\"))"
   ]
  },
  {
   "cell_type": "code",
   "execution_count": 5,
   "id": "popular-active",
   "metadata": {
    "execution": {
     "iopub.execute_input": "2021-12-19T13:00:11.691487Z",
     "iopub.status.busy": "2021-12-19T13:00:11.677751Z",
     "iopub.status.idle": "2021-12-19T13:00:11.713649Z",
     "shell.execute_reply": "2021-12-19T13:00:11.715976Z"
    },
    "papermill": {
     "duration": 0.081575,
     "end_time": "2021-12-19T13:00:11.716490",
     "exception": false,
     "start_time": "2021-12-19T13:00:11.634915",
     "status": "completed"
    },
    "tags": []
   },
   "outputs": [],
   "source": [
    "df_pivot = df.pivot_table(index=\"PRODUCT\", columns = \"RECORD_TIME\", values = \"LISTING_COUNT\")"
   ]
  },
  {
   "cell_type": "code",
   "execution_count": 6,
   "id": "union-huntington",
   "metadata": {
    "execution": {
     "iopub.execute_input": "2021-12-19T13:00:11.776449Z",
     "iopub.status.busy": "2021-12-19T13:00:11.774195Z",
     "iopub.status.idle": "2021-12-19T13:00:11.780120Z",
     "shell.execute_reply": "2021-12-19T13:00:11.781662Z"
    },
    "papermill": {
     "duration": 0.044084,
     "end_time": "2021-12-19T13:00:11.782149",
     "exception": false,
     "start_time": "2021-12-19T13:00:11.738065",
     "status": "completed"
    },
    "tags": []
   },
   "outputs": [],
   "source": [
    "df_pivot.columns = [\"stamp_1\", \"stamp_2\"]\n",
    "df_pivot_diff = df_pivot.diff(axis=1)"
   ]
  },
  {
   "cell_type": "code",
   "execution_count": 7,
   "id": "fifth-motion",
   "metadata": {
    "execution": {
     "iopub.execute_input": "2021-12-19T13:00:11.839006Z",
     "iopub.status.busy": "2021-12-19T13:00:11.836409Z",
     "iopub.status.idle": "2021-12-19T13:00:13.834780Z",
     "shell.execute_reply": "2021-12-19T13:00:13.836077Z"
    },
    "papermill": {
     "duration": 2.034298,
     "end_time": "2021-12-19T13:00:13.836502",
     "exception": false,
     "start_time": "2021-12-19T13:00:11.802204",
     "status": "completed"
    },
    "tags": []
   },
   "outputs": [
    {
     "data": {
      "text/plain": [
       "<AxesSubplot:ylabel='PRODUCT'>"
      ]
     },
     "execution_count": 7,
     "metadata": {},
     "output_type": "execute_result"
    },
    {
     "data": {
      "image/png": "[encoded data removed]",
      "text/plain": [
       "<Figure size 432x288 with 1 Axes>"
      ]
     },
     "metadata": {
      "needs_background": "light"
     },
     "output_type": "display_data"
    }
   ],
   "source": [
    "df_pivot_diff.sort_values(\"stamp_2\", ascending = False)[\"stamp_2\"].head(10).plot.barh()"
   ]
  },
  {
   "cell_type": "code",
   "execution_count": null,
   "id": "extra-executive",
   "metadata": {
    "papermill": {
     "duration": 0.022177,
     "end_time": "2021-12-19T13:00:13.883564",
     "exception": false,
     "start_time": "2021-12-19T13:00:13.861387",
     "status": "completed"
    },
    "tags": []
   },
   "outputs": [],
   "source": []
  }
 ],
 "metadata": {
  "kernelspec": {
   "display_name": "Python 3",
   "language": "python",
   "name": "python3"
  },
  "language_info": {
   "codemirror_mode": {
    "name": "ipython",
    "version": 3
   },
   "file_extension": ".py",
   "mimetype": "text/x-python",
   "name": "python",
   "nbconvert_exporter": "python",
   "pygments_lexer": "ipython3",
   "version": "3.9.5"
  },
  "papermill": {
   "default_parameters": {},
   "duration": 9.649778,
   "end_time": "2021-12-19T13:00:14.524014",
   "environment_variables": {},
   "exception": null,
   "input_path": "eBay_Overview.ipynb",
   "output_path": "eBay_Overview.ipynb",
   "parameters": {},
   "start_time": "2021-12-19T13:00:04.874236",
   "version": "2.3.3"
  }
 },
 "nbformat": 4,
 "nbformat_minor": 5
}