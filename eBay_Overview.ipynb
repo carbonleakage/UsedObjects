{
 "cells": [
  {
   "cell_type": "code",
   "execution_count": 1,
   "id": "reverse-picking",
   "metadata": {
    "execution": {
     "iopub.execute_input": "2021-08-16T20:00:07.256080Z",
     "iopub.status.busy": "2021-08-16T20:00:07.254099Z",
     "iopub.status.idle": "2021-08-16T20:00:08.064219Z",
     "shell.execute_reply": "2021-08-16T20:00:08.066640Z"
    },
    "papermill": {
     "duration": 0.8643,
     "end_time": "2021-08-16T20:00:08.067323",
     "exception": false,
     "start_time": "2021-08-16T20:00:07.203023",
     "status": "completed"
    },
    "tags": []
   },
   "outputs": [],
   "source": [
    "import pandas as pd\n",
    "import sqlite3"
   ]
  },
  {
   "cell_type": "code",
   "execution_count": 2,
   "id": "innovative-syndrome",
   "metadata": {
    "execution": {
     "iopub.execute_input": "2021-08-16T20:00:08.119497Z",
     "iopub.status.busy": "2021-08-16T20:00:08.117409Z",
     "iopub.status.idle": "2021-08-16T20:00:08.183825Z",
     "shell.execute_reply": "2021-08-16T20:00:08.185101Z"
    },
    "papermill": {
     "duration": 0.096814,
     "end_time": "2021-08-16T20:00:08.185521",
     "exception": false,
     "start_time": "2021-08-16T20:00:08.088707",
     "status": "completed"
    },
    "tags": []
   },
   "outputs": [],
   "source": [
    "timestamps = pd.read_sql(\"select distinct record_time from EBAY_TOP_BERLIN order by record_time desc limit 2\", sqlite3.connect(\"UsedObjects.db\"))"
   ]
  },
  {
   "cell_type": "code",
   "execution_count": 3,
   "id": "periodic-identification",
   "metadata": {
    "execution": {
     "iopub.execute_input": "2021-08-16T20:00:08.253079Z",
     "iopub.status.busy": "2021-08-16T20:00:08.251046Z",
     "iopub.status.idle": "2021-08-16T20:00:08.271154Z",
     "shell.execute_reply": "2021-08-16T20:00:08.272370Z"
    },
    "papermill": {
     "duration": 0.067458,
     "end_time": "2021-08-16T20:00:08.272799",
     "exception": false,
     "start_time": "2021-08-16T20:00:08.205341",
     "status": "completed"
    },
    "tags": []
   },
   "outputs": [
    {
     "data": {
      "text/html": [
       "<div>\n",
       "<style scoped>\n",
       "    .dataframe tbody tr th:only-of-type {\n",
       "        vertical-align: middle;\n",
       "    }\n",
       "\n",
       "    .dataframe tbody tr th {\n",
       "        vertical-align: top;\n",
       "    }\n",
       "\n",
       "    .dataframe thead th {\n",
       "        text-align: right;\n",
       "    }\n",
       "</style>\n",
       "<table border=\"1\" class=\"dataframe\">\n",
       "  <thead>\n",
       "    <tr style=\"text-align: right;\">\n",
       "      <th></th>\n",
       "      <th>RECORD_TIME</th>\n",
       "    </tr>\n",
       "  </thead>\n",
       "  <tbody>\n",
       "    <tr>\n",
       "      <th>0</th>\n",
       "      <td>2021-08-16 22:00</td>\n",
       "    </tr>\n",
       "    <tr>\n",
       "      <th>1</th>\n",
       "      <td>2021-08-16 21:30</td>\n",
       "    </tr>\n",
       "  </tbody>\n",
       "</table>\n",
       "</div>"
      ],
      "text/plain": [
       "        RECORD_TIME\n",
       "0  2021-08-16 22:00\n",
       "1  2021-08-16 21:30"
      ]
     },
     "execution_count": 3,
     "metadata": {},
     "output_type": "execute_result"
    }
   ],
   "source": [
    "timestamps"
   ]
  },
  {
   "cell_type": "code",
   "execution_count": 4,
   "id": "alternate-victory",
   "metadata": {
    "execution": {
     "iopub.execute_input": "2021-08-16T20:00:08.324546Z",
     "iopub.status.busy": "2021-08-16T20:00:08.322378Z",
     "iopub.status.idle": "2021-08-16T20:00:08.417566Z",
     "shell.execute_reply": "2021-08-16T20:00:08.419054Z"
    },
    "papermill": {
     "duration": 0.126124,
     "end_time": "2021-08-16T20:00:08.419503",
     "exception": false,
     "start_time": "2021-08-16T20:00:08.293379",
     "status": "completed"
    },
    "tags": []
   },
   "outputs": [],
   "source": [
    "df = pd.read_sql(\"select * from EBAY_TOP_BERLIN where record_time in (select distinct record_time from EBAY_TOP_BERLIN order by record_time desc limit 2)\", sqlite3.connect(\"UsedObjects.db\"))"
   ]
  },
  {
   "cell_type": "code",
   "execution_count": 5,
   "id": "popular-active",
   "metadata": {
    "execution": {
     "iopub.execute_input": "2021-08-16T20:00:08.492591Z",
     "iopub.status.busy": "2021-08-16T20:00:08.481221Z",
     "iopub.status.idle": "2021-08-16T20:00:08.509828Z",
     "shell.execute_reply": "2021-08-16T20:00:08.511503Z"
    },
    "papermill": {
     "duration": 0.071249,
     "end_time": "2021-08-16T20:00:08.511981",
     "exception": false,
     "start_time": "2021-08-16T20:00:08.440732",
     "status": "completed"
    },
    "tags": []
   },
   "outputs": [],
   "source": [
    "df_pivot = df.pivot_table(index=\"PRODUCT\", columns = \"RECORD_TIME\", values = \"LISTING_COUNT\")"
   ]
  },
  {
   "cell_type": "code",
   "execution_count": 6,
   "id": "union-huntington",
   "metadata": {
    "execution": {
     "iopub.execute_input": "2021-08-16T20:00:08.570194Z",
     "iopub.status.busy": "2021-08-16T20:00:08.568052Z",
     "iopub.status.idle": "2021-08-16T20:00:08.573568Z",
     "shell.execute_reply": "2021-08-16T20:00:08.574905Z"
    },
    "papermill": {
     "duration": 0.041897,
     "end_time": "2021-08-16T20:00:08.575325",
     "exception": false,
     "start_time": "2021-08-16T20:00:08.533428",
     "status": "completed"
    },
    "tags": []
   },
   "outputs": [],
   "source": [
    "df_pivot.columns = [\"stamp_1\", \"stamp_2\"]\n",
    "df_pivot_diff = df_pivot.diff(axis=1)"
   ]
  },
  {
   "cell_type": "code",
   "execution_count": 7,
   "id": "fifth-motion",
   "metadata": {
    "execution": {
     "iopub.execute_input": "2021-08-16T20:00:08.634117Z",
     "iopub.status.busy": "2021-08-16T20:00:08.631378Z",
     "iopub.status.idle": "2021-08-16T20:00:10.141475Z",
     "shell.execute_reply": "2021-08-16T20:00:10.142807Z"
    },
    "papermill": {
     "duration": 1.544619,
     "end_time": "2021-08-16T20:00:10.143230",
     "exception": false,
     "start_time": "2021-08-16T20:00:08.598611",
     "status": "completed"
    },
    "tags": []
   },
   "outputs": [
    {
     "data": {
      "text/plain": [
       "<AxesSubplot:ylabel='PRODUCT'>"
      ]
     },
     "execution_count": 7,
     "metadata": {},
     "output_type": "execute_result"
    },
    {
     "data": {
      "image/png": "[encoded data removed]",
      "text/plain": [
       "<Figure size 432x288 with 1 Axes>"
      ]
     },
     "metadata": {
      "needs_background": "light"
     },
     "output_type": "display_data"
    }
   ],
   "source": [
    "df_pivot_diff.sort_values(\"stamp_2\", ascending = False)[\"stamp_2\"].head(10).plot.barh()"
   ]
  },
  {
   "cell_type": "code",
   "execution_count": null,
   "id": "extra-executive",
   "metadata": {
    "papermill": {
     "duration": 0.022769,
     "end_time": "2021-08-16T20:00:10.191255",
     "exception": false,
     "start_time": "2021-08-16T20:00:10.168486",
     "status": "completed"
    },
    "tags": []
   },
   "outputs": [],
   "source": []
  }
 ],
 "metadata": {
  "kernelspec": {
   "display_name": "Python 3",
   "language": "python",
   "name": "python3"
  },
  "language_info": {
   "codemirror_mode": {
    "name": "ipython",
    "version": 3
   },
   "file_extension": ".py",
   "mimetype": "text/x-python",
   "name": "python",
   "nbconvert_exporter": "python",
   "pygments_lexer": "ipython3",
   "version": "3.9.5"
  },
  "papermill": {
   "default_parameters": {},
   "duration": 6.840242,
   "end_time": "2021-08-16T20:00:11.621534",
   "environment_variables": {},
   "exception": null,
   "input_path": "eBay_Overview.ipynb",
   "output_path": "eBay_Overview.ipynb",
   "parameters": {},
   "start_time": "2021-08-16T20:00:04.781292",
   "version": "2.3.3"
  }
 },
 "nbformat": 4,
 "nbformat_minor": 5
}