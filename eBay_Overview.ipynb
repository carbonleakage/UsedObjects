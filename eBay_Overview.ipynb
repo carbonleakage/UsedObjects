{
 "cells": [
  {
   "cell_type": "code",
   "execution_count": 1,
   "id": "reverse-picking",
   "metadata": {
    "execution": {
     "iopub.execute_input": "2021-12-16T10:30:07.408350Z",
     "iopub.status.busy": "2021-12-16T10:30:07.406050Z",
     "iopub.status.idle": "2021-12-16T10:30:08.367128Z",
     "shell.execute_reply": "2021-12-16T10:30:08.368992Z"
    },
    "papermill": {
     "duration": 1.010857,
     "end_time": "2021-12-16T10:30:08.369730",
     "exception": false,
     "start_time": "2021-12-16T10:30:07.358873",
     "status": "completed"
    },
    "tags": []
   },
   "outputs": [],
   "source": [
    "import pandas as pd\n",
    "import sqlite3"
   ]
  },
  {
   "cell_type": "code",
   "execution_count": 2,
   "id": "innovative-syndrome",
   "metadata": {
    "execution": {
     "iopub.execute_input": "2021-12-16T10:30:08.433639Z",
     "iopub.status.busy": "2021-12-16T10:30:08.431338Z",
     "iopub.status.idle": "2021-12-16T10:30:09.547030Z",
     "shell.execute_reply": "2021-12-16T10:30:09.548493Z"
    },
    "papermill": {
     "duration": 1.150037,
     "end_time": "2021-12-16T10:30:09.549264",
     "exception": false,
     "start_time": "2021-12-16T10:30:08.399227",
     "status": "completed"
    },
    "tags": []
   },
   "outputs": [],
   "source": [
    "timestamps = pd.read_sql(\"select distinct record_time from EBAY_TOP_BERLIN order by record_time desc limit 2\", sqlite3.connect(\"UsedObjects.db\"))"
   ]
  },
  {
   "cell_type": "code",
   "execution_count": 3,
   "id": "periodic-identification",
   "metadata": {
    "execution": {
     "iopub.execute_input": "2021-12-16T10:30:09.623932Z",
     "iopub.status.busy": "2021-12-16T10:30:09.621519Z",
     "iopub.status.idle": "2021-12-16T10:30:09.644747Z",
     "shell.execute_reply": "2021-12-16T10:30:09.646252Z"
    },
    "papermill": {
     "duration": 0.075653,
     "end_time": "2021-12-16T10:30:09.646750",
     "exception": false,
     "start_time": "2021-12-16T10:30:09.571097",
     "status": "completed"
    },
    "tags": []
   },
   "outputs": [
    {
     "data": {
      "text/html": [
       "<div>\n",
       "<style scoped>\n",
       "    .dataframe tbody tr th:only-of-type {\n",
       "        vertical-align: middle;\n",
       "    }\n",
       "\n",
       "    .dataframe tbody tr th {\n",
       "        vertical-align: top;\n",
       "    }\n",
       "\n",
       "    .dataframe thead th {\n",
       "        text-align: right;\n",
       "    }\n",
       "</style>\n",
       "<table border=\"1\" class=\"dataframe\">\n",
       "  <thead>\n",
       "    <tr style=\"text-align: right;\">\n",
       "      <th></th>\n",
       "      <th>RECORD_TIME</th>\n",
       "    </tr>\n",
       "  </thead>\n",
       "  <tbody>\n",
       "    <tr>\n",
       "      <th>0</th>\n",
       "      <td>2021-12-16 11:30</td>\n",
       "    </tr>\n",
       "    <tr>\n",
       "      <th>1</th>\n",
       "      <td>2021-12-16 11:00</td>\n",
       "    </tr>\n",
       "  </tbody>\n",
       "</table>\n",
       "</div>"
      ],
      "text/plain": [
       "        RECORD_TIME\n",
       "0  2021-12-16 11:30\n",
       "1  2021-12-16 11:00"
      ]
     },
     "execution_count": 3,
     "metadata": {},
     "output_type": "execute_result"
    }
   ],
   "source": [
    "timestamps"
   ]
  },
  {
   "cell_type": "code",
   "execution_count": 4,
   "id": "alternate-victory",
   "metadata": {
    "execution": {
     "iopub.execute_input": "2021-12-16T10:30:09.704276Z",
     "iopub.status.busy": "2021-12-16T10:30:09.702160Z",
     "iopub.status.idle": "2021-12-16T10:30:11.295133Z",
     "shell.execute_reply": "2021-12-16T10:30:11.297361Z"
    },
    "papermill": {
     "duration": 1.62936,
     "end_time": "2021-12-16T10:30:11.297834",
     "exception": false,
     "start_time": "2021-12-16T10:30:09.668474",
     "status": "completed"
    },
    "tags": []
   },
   "outputs": [],
   "source": [
    "df = pd.read_sql(\"select * from EBAY_TOP_BERLIN where record_time in (select distinct record_time from EBAY_TOP_BERLIN order by record_time desc limit 2)\", sqlite3.connect(\"UsedObjects.db\"))"
   ]
  },
  {
   "cell_type": "code",
   "execution_count": 5,
   "id": "popular-active",
   "metadata": {
    "execution": {
     "iopub.execute_input": "2021-12-16T10:30:11.363180Z",
     "iopub.status.busy": "2021-12-16T10:30:11.355897Z",
     "iopub.status.idle": "2021-12-16T10:30:11.394134Z",
     "shell.execute_reply": "2021-12-16T10:30:11.395957Z"
    },
    "papermill": {
     "duration": 0.077072,
     "end_time": "2021-12-16T10:30:11.396462",
     "exception": false,
     "start_time": "2021-12-16T10:30:11.319390",
     "status": "completed"
    },
    "tags": []
   },
   "outputs": [],
   "source": [
    "df_pivot = df.pivot_table(index=\"PRODUCT\", columns = \"RECORD_TIME\", values = \"LISTING_COUNT\")"
   ]
  },
  {
   "cell_type": "code",
   "execution_count": 6,
   "id": "union-huntington",
   "metadata": {
    "execution": {
     "iopub.execute_input": "2021-12-16T10:30:11.456175Z",
     "iopub.status.busy": "2021-12-16T10:30:11.453958Z",
     "iopub.status.idle": "2021-12-16T10:30:11.459651Z",
     "shell.execute_reply": "2021-12-16T10:30:11.461058Z"
    },
    "papermill": {
     "duration": 0.043222,
     "end_time": "2021-12-16T10:30:11.461534",
     "exception": false,
     "start_time": "2021-12-16T10:30:11.418312",
     "status": "completed"
    },
    "tags": []
   },
   "outputs": [],
   "source": [
    "df_pivot.columns = [\"stamp_1\", \"stamp_2\"]\n",
    "df_pivot_diff = df_pivot.diff(axis=1)"
   ]
  },
  {
   "cell_type": "code",
   "execution_count": 7,
   "id": "fifth-motion",
   "metadata": {
    "execution": {
     "iopub.execute_input": "2021-12-16T10:30:11.518251Z",
     "iopub.status.busy": "2021-12-16T10:30:11.515764Z",
     "iopub.status.idle": "2021-12-16T10:30:13.463252Z",
     "shell.execute_reply": "2021-12-16T10:30:13.464439Z"
    },
    "papermill": {
     "duration": 1.982606,
     "end_time": "2021-12-16T10:30:13.464935",
     "exception": false,
     "start_time": "2021-12-16T10:30:11.482329",
     "status": "completed"
    },
    "tags": []
   },
   "outputs": [
    {
     "data": {
      "text/plain": [
       "<AxesSubplot:ylabel='PRODUCT'>"
      ]
     },
     "execution_count": 7,
     "metadata": {},
     "output_type": "execute_result"
    },
    {
     "data": {
      "image/png": "[encoded data removed]",
      "text/plain": [
       "<Figure size 432x288 with 1 Axes>"
      ]
     },
     "metadata": {
      "needs_background": "light"
     },
     "output_type": "display_data"
    }
   ],
   "source": [
    "df_pivot_diff.sort_values(\"stamp_2\", ascending = False)[\"stamp_2\"].head(10).plot.barh()"
   ]
  },
  {
   "cell_type": "code",
   "execution_count": null,
   "id": "extra-executive",
   "metadata": {
    "papermill": {
     "duration": 0.022116,
     "end_time": "2021-12-16T10:30:13.513329",
     "exception": false,
     "start_time": "2021-12-16T10:30:13.491213",
     "status": "completed"
    },
    "tags": []
   },
   "outputs": [],
   "source": []
  }
 ],
 "metadata": {
  "kernelspec": {
   "display_name": "Python 3",
   "language": "python",
   "name": "python3"
  },
  "language_info": {
   "codemirror_mode": {
    "name": "ipython",
    "version": 3
   },
   "file_extension": ".py",
   "mimetype": "text/x-python",
   "name": "python",
   "nbconvert_exporter": "python",
   "pygments_lexer": "ipython3",
   "version": "3.9.5"
  },
  "papermill": {
   "default_parameters": {},
   "duration": 9.530112,
   "end_time": "2021-12-16T10:30:14.156196",
   "environment_variables": {},
   "exception": null,
   "input_path": "eBay_Overview.ipynb",
   "output_path": "eBay_Overview.ipynb",
   "parameters": {},
   "start_time": "2021-12-16T10:30:04.626084",
   "version": "2.3.3"
  }
 },
 "nbformat": 4,
 "nbformat_minor": 5
}