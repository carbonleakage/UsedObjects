{
 "cells": [
  {
   "cell_type": "code",
   "execution_count": 1,
   "id": "reverse-picking",
   "metadata": {
    "execution": {
     "iopub.execute_input": "2021-12-19T00:30:08.004614Z",
     "iopub.status.busy": "2021-12-19T00:30:08.002327Z",
     "iopub.status.idle": "2021-12-19T00:30:08.957913Z",
     "shell.execute_reply": "2021-12-19T00:30:08.959438Z"
    },
    "papermill": {
     "duration": 1.006654,
     "end_time": "2021-12-19T00:30:08.960164",
     "exception": false,
     "start_time": "2021-12-19T00:30:07.953510",
     "status": "completed"
    },
    "tags": []
   },
   "outputs": [],
   "source": [
    "import pandas as pd\n",
    "import sqlite3"
   ]
  },
  {
   "cell_type": "code",
   "execution_count": 2,
   "id": "innovative-syndrome",
   "metadata": {
    "execution": {
     "iopub.execute_input": "2021-12-19T00:30:09.095987Z",
     "iopub.status.busy": "2021-12-19T00:30:09.092493Z",
     "iopub.status.idle": "2021-12-19T00:30:10.215457Z",
     "shell.execute_reply": "2021-12-19T00:30:10.216904Z"
    },
    "papermill": {
     "duration": 1.169801,
     "end_time": "2021-12-19T00:30:10.217383",
     "exception": false,
     "start_time": "2021-12-19T00:30:09.047582",
     "status": "completed"
    },
    "tags": []
   },
   "outputs": [],
   "source": [
    "timestamps = pd.read_sql(\"select distinct record_time from EBAY_TOP_BERLIN order by record_time desc limit 2\", sqlite3.connect(\"UsedObjects.db\"))"
   ]
  },
  {
   "cell_type": "code",
   "execution_count": 3,
   "id": "periodic-identification",
   "metadata": {
    "execution": {
     "iopub.execute_input": "2021-12-19T00:30:10.289023Z",
     "iopub.status.busy": "2021-12-19T00:30:10.286593Z",
     "iopub.status.idle": "2021-12-19T00:30:10.307333Z",
     "shell.execute_reply": "2021-12-19T00:30:10.309347Z"
    },
    "papermill": {
     "duration": 0.071556,
     "end_time": "2021-12-19T00:30:10.309849",
     "exception": false,
     "start_time": "2021-12-19T00:30:10.238293",
     "status": "completed"
    },
    "tags": []
   },
   "outputs": [
    {
     "data": {
      "text/html": [
       "<div>\n",
       "<style scoped>\n",
       "    .dataframe tbody tr th:only-of-type {\n",
       "        vertical-align: middle;\n",
       "    }\n",
       "\n",
       "    .dataframe tbody tr th {\n",
       "        vertical-align: top;\n",
       "    }\n",
       "\n",
       "    .dataframe thead th {\n",
       "        text-align: right;\n",
       "    }\n",
       "</style>\n",
       "<table border=\"1\" class=\"dataframe\">\n",
       "  <thead>\n",
       "    <tr style=\"text-align: right;\">\n",
       "      <th></th>\n",
       "      <th>RECORD_TIME</th>\n",
       "    </tr>\n",
       "  </thead>\n",
       "  <tbody>\n",
       "    <tr>\n",
       "      <th>0</th>\n",
       "      <td>2021-12-19 01:30</td>\n",
       "    </tr>\n",
       "    <tr>\n",
       "      <th>1</th>\n",
       "      <td>2021-12-19 01:00</td>\n",
       "    </tr>\n",
       "  </tbody>\n",
       "</table>\n",
       "</div>"
      ],
      "text/plain": [
       "        RECORD_TIME\n",
       "0  2021-12-19 01:30\n",
       "1  2021-12-19 01:00"
      ]
     },
     "execution_count": 3,
     "metadata": {},
     "output_type": "execute_result"
    }
   ],
   "source": [
    "timestamps"
   ]
  },
  {
   "cell_type": "code",
   "execution_count": 4,
   "id": "alternate-victory",
   "metadata": {
    "execution": {
     "iopub.execute_input": "2021-12-19T00:30:10.386501Z",
     "iopub.status.busy": "2021-12-19T00:30:10.384218Z",
     "iopub.status.idle": "2021-12-19T00:30:12.034715Z",
     "shell.execute_reply": "2021-12-19T00:30:12.036102Z"
    },
    "papermill": {
     "duration": 1.684172,
     "end_time": "2021-12-19T00:30:12.036577",
     "exception": false,
     "start_time": "2021-12-19T00:30:10.352405",
     "status": "completed"
    },
    "tags": []
   },
   "outputs": [],
   "source": [
    "df = pd.read_sql(\"select * from EBAY_TOP_BERLIN where record_time in (select distinct record_time from EBAY_TOP_BERLIN order by record_time desc limit 2)\", sqlite3.connect(\"UsedObjects.db\"))"
   ]
  },
  {
   "cell_type": "code",
   "execution_count": 5,
   "id": "popular-active",
   "metadata": {
    "execution": {
     "iopub.execute_input": "2021-12-19T00:30:12.102844Z",
     "iopub.status.busy": "2021-12-19T00:30:12.100267Z",
     "iopub.status.idle": "2021-12-19T00:30:12.133481Z",
     "shell.execute_reply": "2021-12-19T00:30:12.134862Z"
    },
    "papermill": {
     "duration": 0.076616,
     "end_time": "2021-12-19T00:30:12.135345",
     "exception": false,
     "start_time": "2021-12-19T00:30:12.058729",
     "status": "completed"
    },
    "tags": []
   },
   "outputs": [],
   "source": [
    "df_pivot = df.pivot_table(index=\"PRODUCT\", columns = \"RECORD_TIME\", values = \"LISTING_COUNT\")"
   ]
  },
  {
   "cell_type": "code",
   "execution_count": 6,
   "id": "union-huntington",
   "metadata": {
    "execution": {
     "iopub.execute_input": "2021-12-19T00:30:12.194748Z",
     "iopub.status.busy": "2021-12-19T00:30:12.192422Z",
     "iopub.status.idle": "2021-12-19T00:30:12.199798Z",
     "shell.execute_reply": "2021-12-19T00:30:12.198319Z"
    },
    "papermill": {
     "duration": 0.044221,
     "end_time": "2021-12-19T00:30:12.200213",
     "exception": false,
     "start_time": "2021-12-19T00:30:12.155992",
     "status": "completed"
    },
    "tags": []
   },
   "outputs": [],
   "source": [
    "df_pivot.columns = [\"stamp_1\", \"stamp_2\"]\n",
    "df_pivot_diff = df_pivot.diff(axis=1)"
   ]
  },
  {
   "cell_type": "code",
   "execution_count": 7,
   "id": "fifth-motion",
   "metadata": {
    "execution": {
     "iopub.execute_input": "2021-12-19T00:30:12.260731Z",
     "iopub.status.busy": "2021-12-19T00:30:12.258129Z",
     "iopub.status.idle": "2021-12-19T00:30:14.222875Z",
     "shell.execute_reply": "2021-12-19T00:30:14.224185Z"
    },
    "papermill": {
     "duration": 2.003631,
     "end_time": "2021-12-19T00:30:14.224610",
     "exception": false,
     "start_time": "2021-12-19T00:30:12.220979",
     "status": "completed"
    },
    "tags": []
   },
   "outputs": [
    {
     "data": {
      "text/plain": [
       "<AxesSubplot:ylabel='PRODUCT'>"
      ]
     },
     "execution_count": 7,
     "metadata": {},
     "output_type": "execute_result"
    },
    {
     "data": {
      "image/png": "[encoded data removed]",
      "text/plain": [
       "<Figure size 432x288 with 1 Axes>"
      ]
     },
     "metadata": {
      "needs_background": "light"
     },
     "output_type": "display_data"
    }
   ],
   "source": [
    "df_pivot_diff.sort_values(\"stamp_2\", ascending = False)[\"stamp_2\"].head(10).plot.barh()"
   ]
  },
  {
   "cell_type": "code",
   "execution_count": null,
   "id": "extra-executive",
   "metadata": {
    "papermill": {
     "duration": 0.08561,
     "end_time": "2021-12-19T00:30:14.334876",
     "exception": false,
     "start_time": "2021-12-19T00:30:14.249266",
     "status": "completed"
    },
    "tags": []
   },
   "outputs": [],
   "source": []
  }
 ],
 "metadata": {
  "kernelspec": {
   "display_name": "Python 3",
   "language": "python",
   "name": "python3"
  },
  "language_info": {
   "codemirror_mode": {
    "name": "ipython",
    "version": 3
   },
   "file_extension": ".py",
   "mimetype": "text/x-python",
   "name": "python",
   "nbconvert_exporter": "python",
   "pygments_lexer": "ipython3",
   "version": "3.9.5"
  },
  "papermill": {
   "default_parameters": {},
   "duration": 9.76379,
   "end_time": "2021-12-19T00:30:14.983165",
   "environment_variables": {},
   "exception": null,
   "input_path": "eBay_Overview.ipynb",
   "output_path": "eBay_Overview.ipynb",
   "parameters": {},
   "start_time": "2021-12-19T00:30:05.219375",
   "version": "2.3.3"
  }
 },
 "nbformat": 4,
 "nbformat_minor": 5
}