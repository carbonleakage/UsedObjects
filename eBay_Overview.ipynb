{
 "cells": [
  {
   "cell_type": "code",
   "execution_count": 1,
   "id": "reverse-picking",
   "metadata": {
    "execution": {
     "iopub.execute_input": "2021-11-23T06:30:07.973199Z",
     "iopub.status.busy": "2021-11-23T06:30:07.971096Z",
     "iopub.status.idle": "2021-11-23T06:30:08.937758Z",
     "shell.execute_reply": "2021-11-23T06:30:08.939268Z"
    },
    "papermill": {
     "duration": 1.016241,
     "end_time": "2021-11-23T06:30:08.939993",
     "exception": false,
     "start_time": "2021-11-23T06:30:07.923752",
     "status": "completed"
    },
    "tags": []
   },
   "outputs": [],
   "source": [
    "import pandas as pd\n",
    "import sqlite3"
   ]
  },
  {
   "cell_type": "code",
   "execution_count": 2,
   "id": "innovative-syndrome",
   "metadata": {
    "execution": {
     "iopub.execute_input": "2021-11-23T06:30:09.004289Z",
     "iopub.status.busy": "2021-11-23T06:30:09.002094Z",
     "iopub.status.idle": "2021-11-23T06:30:09.889913Z",
     "shell.execute_reply": "2021-11-23T06:30:09.891464Z"
    },
    "papermill": {
     "duration": 0.92148,
     "end_time": "2021-11-23T06:30:09.891958",
     "exception": false,
     "start_time": "2021-11-23T06:30:08.970478",
     "status": "completed"
    },
    "tags": []
   },
   "outputs": [],
   "source": [
    "timestamps = pd.read_sql(\"select distinct record_time from EBAY_TOP_BERLIN order by record_time desc limit 2\", sqlite3.connect(\"UsedObjects.db\"))"
   ]
  },
  {
   "cell_type": "code",
   "execution_count": 3,
   "id": "periodic-identification",
   "metadata": {
    "execution": {
     "iopub.execute_input": "2021-11-23T06:30:09.967413Z",
     "iopub.status.busy": "2021-11-23T06:30:09.965071Z",
     "iopub.status.idle": "2021-11-23T06:30:09.990084Z",
     "shell.execute_reply": "2021-11-23T06:30:09.988394Z"
    },
    "papermill": {
     "duration": 0.077433,
     "end_time": "2021-11-23T06:30:09.990491",
     "exception": false,
     "start_time": "2021-11-23T06:30:09.913058",
     "status": "completed"
    },
    "tags": []
   },
   "outputs": [
    {
     "data": {
      "text/html": [
       "<div>\n",
       "<style scoped>\n",
       "    .dataframe tbody tr th:only-of-type {\n",
       "        vertical-align: middle;\n",
       "    }\n",
       "\n",
       "    .dataframe tbody tr th {\n",
       "        vertical-align: top;\n",
       "    }\n",
       "\n",
       "    .dataframe thead th {\n",
       "        text-align: right;\n",
       "    }\n",
       "</style>\n",
       "<table border=\"1\" class=\"dataframe\">\n",
       "  <thead>\n",
       "    <tr style=\"text-align: right;\">\n",
       "      <th></th>\n",
       "      <th>RECORD_TIME</th>\n",
       "    </tr>\n",
       "  </thead>\n",
       "  <tbody>\n",
       "    <tr>\n",
       "      <th>0</th>\n",
       "      <td>2021-11-23 07:30</td>\n",
       "    </tr>\n",
       "    <tr>\n",
       "      <th>1</th>\n",
       "      <td>2021-11-23 07:00</td>\n",
       "    </tr>\n",
       "  </tbody>\n",
       "</table>\n",
       "</div>"
      ],
      "text/plain": [
       "        RECORD_TIME\n",
       "0  2021-11-23 07:30\n",
       "1  2021-11-23 07:00"
      ]
     },
     "execution_count": 3,
     "metadata": {},
     "output_type": "execute_result"
    }
   ],
   "source": [
    "timestamps"
   ]
  },
  {
   "cell_type": "code",
   "execution_count": 4,
   "id": "alternate-victory",
   "metadata": {
    "execution": {
     "iopub.execute_input": "2021-11-23T06:30:10.046081Z",
     "iopub.status.busy": "2021-11-23T06:30:10.043857Z",
     "iopub.status.idle": "2021-11-23T06:30:11.355168Z",
     "shell.execute_reply": "2021-11-23T06:30:11.358026Z"
    },
    "papermill": {
     "duration": 1.346443,
     "end_time": "2021-11-23T06:30:11.358932",
     "exception": false,
     "start_time": "2021-11-23T06:30:10.012489",
     "status": "completed"
    },
    "tags": []
   },
   "outputs": [],
   "source": [
    "df = pd.read_sql(\"select * from EBAY_TOP_BERLIN where record_time in (select distinct record_time from EBAY_TOP_BERLIN order by record_time desc limit 2)\", sqlite3.connect(\"UsedObjects.db\"))"
   ]
  },
  {
   "cell_type": "code",
   "execution_count": 5,
   "id": "popular-active",
   "metadata": {
    "execution": {
     "iopub.execute_input": "2021-11-23T06:30:11.433524Z",
     "iopub.status.busy": "2021-11-23T06:30:11.424456Z",
     "iopub.status.idle": "2021-11-23T06:30:11.460484Z",
     "shell.execute_reply": "2021-11-23T06:30:11.461823Z"
    },
    "papermill": {
     "duration": 0.079021,
     "end_time": "2021-11-23T06:30:11.462276",
     "exception": false,
     "start_time": "2021-11-23T06:30:11.383255",
     "status": "completed"
    },
    "tags": []
   },
   "outputs": [],
   "source": [
    "df_pivot = df.pivot_table(index=\"PRODUCT\", columns = \"RECORD_TIME\", values = \"LISTING_COUNT\")"
   ]
  },
  {
   "cell_type": "code",
   "execution_count": 6,
   "id": "union-huntington",
   "metadata": {
    "execution": {
     "iopub.execute_input": "2021-11-23T06:30:11.521024Z",
     "iopub.status.busy": "2021-11-23T06:30:11.518671Z",
     "iopub.status.idle": "2021-11-23T06:30:11.525636Z",
     "shell.execute_reply": "2021-11-23T06:30:11.524242Z"
    },
    "papermill": {
     "duration": 0.043573,
     "end_time": "2021-11-23T06:30:11.526017",
     "exception": false,
     "start_time": "2021-11-23T06:30:11.482444",
     "status": "completed"
    },
    "tags": []
   },
   "outputs": [],
   "source": [
    "df_pivot.columns = [\"stamp_1\", \"stamp_2\"]\n",
    "df_pivot_diff = df_pivot.diff(axis=1)"
   ]
  },
  {
   "cell_type": "code",
   "execution_count": 7,
   "id": "fifth-motion",
   "metadata": {
    "execution": {
     "iopub.execute_input": "2021-11-23T06:30:11.586581Z",
     "iopub.status.busy": "2021-11-23T06:30:11.582709Z",
     "iopub.status.idle": "2021-11-23T06:30:13.532251Z",
     "shell.execute_reply": "2021-11-23T06:30:13.533759Z"
    },
    "papermill": {
     "duration": 1.986962,
     "end_time": "2021-11-23T06:30:13.534247",
     "exception": false,
     "start_time": "2021-11-23T06:30:11.547285",
     "status": "completed"
    },
    "tags": []
   },
   "outputs": [
    {
     "data": {
      "text/plain": [
       "<AxesSubplot:ylabel='PRODUCT'>"
      ]
     },
     "execution_count": 7,
     "metadata": {},
     "output_type": "execute_result"
    },
    {
     "data": {
      "image/png": "[encoded data removed]",
      "text/plain": [
       "<Figure size 432x288 with 1 Axes>"
      ]
     },
     "metadata": {
      "needs_background": "light"
     },
     "output_type": "display_data"
    }
   ],
   "source": [
    "df_pivot_diff.sort_values(\"stamp_2\", ascending = False)[\"stamp_2\"].head(10).plot.barh()"
   ]
  },
  {
   "cell_type": "code",
   "execution_count": null,
   "id": "extra-executive",
   "metadata": {
    "papermill": {
     "duration": 0.02356,
     "end_time": "2021-11-23T06:30:13.581609",
     "exception": false,
     "start_time": "2021-11-23T06:30:13.558049",
     "status": "completed"
    },
    "tags": []
   },
   "outputs": [],
   "source": []
  }
 ],
 "metadata": {
  "kernelspec": {
   "display_name": "Python 3",
   "language": "python",
   "name": "python3"
  },
  "language_info": {
   "codemirror_mode": {
    "name": "ipython",
    "version": 3
   },
   "file_extension": ".py",
   "mimetype": "text/x-python",
   "name": "python",
   "nbconvert_exporter": "python",
   "pygments_lexer": "ipython3",
   "version": "3.9.5"
  },
  "papermill": {
   "default_parameters": {},
   "duration": 9.929603,
   "end_time": "2021-11-23T06:30:15.114247",
   "environment_variables": {},
   "exception": null,
   "input_path": "eBay_Overview.ipynb",
   "output_path": "eBay_Overview.ipynb",
   "parameters": {},
   "start_time": "2021-11-23T06:30:05.184644",
   "version": "2.3.3"
  }
 },
 "nbformat": 4,
 "nbformat_minor": 5
}