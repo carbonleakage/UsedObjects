{
 "cells": [
  {
   "cell_type": "code",
   "execution_count": 1,
   "id": "reverse-picking",
   "metadata": {
    "execution": {
     "iopub.execute_input": "2021-11-22T05:30:07.739764Z",
     "iopub.status.busy": "2021-11-22T05:30:07.737817Z",
     "iopub.status.idle": "2021-11-22T05:30:08.699169Z",
     "shell.execute_reply": "2021-11-22T05:30:08.701292Z"
    },
    "papermill": {
     "duration": 1.011604,
     "end_time": "2021-11-22T05:30:08.702044",
     "exception": false,
     "start_time": "2021-11-22T05:30:07.690440",
     "status": "completed"
    },
    "tags": []
   },
   "outputs": [],
   "source": [
    "import pandas as pd\n",
    "import sqlite3"
   ]
  },
  {
   "cell_type": "code",
   "execution_count": 2,
   "id": "innovative-syndrome",
   "metadata": {
    "execution": {
     "iopub.execute_input": "2021-11-22T05:30:08.778714Z",
     "iopub.status.busy": "2021-11-22T05:30:08.776273Z",
     "iopub.status.idle": "2021-11-22T05:30:09.652614Z",
     "shell.execute_reply": "2021-11-22T05:30:09.654101Z"
    },
    "papermill": {
     "duration": 0.911772,
     "end_time": "2021-11-22T05:30:09.654608",
     "exception": false,
     "start_time": "2021-11-22T05:30:08.742836",
     "status": "completed"
    },
    "tags": []
   },
   "outputs": [],
   "source": [
    "timestamps = pd.read_sql(\"select distinct record_time from EBAY_TOP_BERLIN order by record_time desc limit 2\", sqlite3.connect(\"UsedObjects.db\"))"
   ]
  },
  {
   "cell_type": "code",
   "execution_count": 3,
   "id": "periodic-identification",
   "metadata": {
    "execution": {
     "iopub.execute_input": "2021-11-22T05:30:09.723597Z",
     "iopub.status.busy": "2021-11-22T05:30:09.721506Z",
     "iopub.status.idle": "2021-11-22T05:30:09.749210Z",
     "shell.execute_reply": "2021-11-22T05:30:09.747581Z"
    },
    "papermill": {
     "duration": 0.074883,
     "end_time": "2021-11-22T05:30:09.749670",
     "exception": false,
     "start_time": "2021-11-22T05:30:09.674787",
     "status": "completed"
    },
    "tags": []
   },
   "outputs": [
    {
     "data": {
      "text/html": [
       "<div>\n",
       "<style scoped>\n",
       "    .dataframe tbody tr th:only-of-type {\n",
       "        vertical-align: middle;\n",
       "    }\n",
       "\n",
       "    .dataframe tbody tr th {\n",
       "        vertical-align: top;\n",
       "    }\n",
       "\n",
       "    .dataframe thead th {\n",
       "        text-align: right;\n",
       "    }\n",
       "</style>\n",
       "<table border=\"1\" class=\"dataframe\">\n",
       "  <thead>\n",
       "    <tr style=\"text-align: right;\">\n",
       "      <th></th>\n",
       "      <th>RECORD_TIME</th>\n",
       "    </tr>\n",
       "  </thead>\n",
       "  <tbody>\n",
       "    <tr>\n",
       "      <th>0</th>\n",
       "      <td>2021-11-22 06:30</td>\n",
       "    </tr>\n",
       "    <tr>\n",
       "      <th>1</th>\n",
       "      <td>2021-11-22 06:00</td>\n",
       "    </tr>\n",
       "  </tbody>\n",
       "</table>\n",
       "</div>"
      ],
      "text/plain": [
       "        RECORD_TIME\n",
       "0  2021-11-22 06:30\n",
       "1  2021-11-22 06:00"
      ]
     },
     "execution_count": 3,
     "metadata": {},
     "output_type": "execute_result"
    }
   ],
   "source": [
    "timestamps"
   ]
  },
  {
   "cell_type": "code",
   "execution_count": 4,
   "id": "alternate-victory",
   "metadata": {
    "execution": {
     "iopub.execute_input": "2021-11-22T05:30:09.806187Z",
     "iopub.status.busy": "2021-11-22T05:30:09.803892Z",
     "iopub.status.idle": "2021-11-22T05:30:11.077172Z",
     "shell.execute_reply": "2021-11-22T05:30:11.078784Z"
    },
    "papermill": {
     "duration": 1.308467,
     "end_time": "2021-11-22T05:30:11.079295",
     "exception": false,
     "start_time": "2021-11-22T05:30:09.770828",
     "status": "completed"
    },
    "tags": []
   },
   "outputs": [],
   "source": [
    "df = pd.read_sql(\"select * from EBAY_TOP_BERLIN where record_time in (select distinct record_time from EBAY_TOP_BERLIN order by record_time desc limit 2)\", sqlite3.connect(\"UsedObjects.db\"))"
   ]
  },
  {
   "cell_type": "code",
   "execution_count": 5,
   "id": "popular-active",
   "metadata": {
    "execution": {
     "iopub.execute_input": "2021-11-22T05:30:11.154240Z",
     "iopub.status.busy": "2021-11-22T05:30:11.141221Z",
     "iopub.status.idle": "2021-11-22T05:30:11.172504Z",
     "shell.execute_reply": "2021-11-22T05:30:11.173935Z"
    },
    "papermill": {
     "duration": 0.07329,
     "end_time": "2021-11-22T05:30:11.174410",
     "exception": false,
     "start_time": "2021-11-22T05:30:11.101120",
     "status": "completed"
    },
    "tags": []
   },
   "outputs": [],
   "source": [
    "df_pivot = df.pivot_table(index=\"PRODUCT\", columns = \"RECORD_TIME\", values = \"LISTING_COUNT\")"
   ]
  },
  {
   "cell_type": "code",
   "execution_count": 6,
   "id": "union-huntington",
   "metadata": {
    "execution": {
     "iopub.execute_input": "2021-11-22T05:30:11.246634Z",
     "iopub.status.busy": "2021-11-22T05:30:11.242829Z",
     "iopub.status.idle": "2021-11-22T05:30:11.256610Z",
     "shell.execute_reply": "2021-11-22T05:30:11.253672Z"
    },
    "papermill": {
     "duration": 0.061655,
     "end_time": "2021-11-22T05:30:11.257426",
     "exception": false,
     "start_time": "2021-11-22T05:30:11.195771",
     "status": "completed"
    },
    "tags": []
   },
   "outputs": [],
   "source": [
    "df_pivot.columns = [\"stamp_1\", \"stamp_2\"]\n",
    "df_pivot_diff = df_pivot.diff(axis=1)"
   ]
  },
  {
   "cell_type": "code",
   "execution_count": 7,
   "id": "fifth-motion",
   "metadata": {
    "execution": {
     "iopub.execute_input": "2021-11-22T05:30:11.344362Z",
     "iopub.status.busy": "2021-11-22T05:30:11.331065Z",
     "iopub.status.idle": "2021-11-22T05:30:13.117616Z",
     "shell.execute_reply": "2021-11-22T05:30:13.120536Z"
    },
    "papermill": {
     "duration": 1.832289,
     "end_time": "2021-11-22T05:30:13.121408",
     "exception": false,
     "start_time": "2021-11-22T05:30:11.289119",
     "status": "completed"
    },
    "tags": []
   },
   "outputs": [
    {
     "data": {
      "text/plain": [
       "<AxesSubplot:ylabel='PRODUCT'>"
      ]
     },
     "execution_count": 7,
     "metadata": {},
     "output_type": "execute_result"
    },
    {
     "data": {
      "image/png": "[encoded data removed]",
      "text/plain": [
       "<Figure size 432x288 with 1 Axes>"
      ]
     },
     "metadata": {
      "needs_background": "light"
     },
     "output_type": "display_data"
    }
   ],
   "source": [
    "df_pivot_diff.sort_values(\"stamp_2\", ascending = False)[\"stamp_2\"].head(10).plot.barh()"
   ]
  },
  {
   "cell_type": "code",
   "execution_count": null,
   "id": "extra-executive",
   "metadata": {
    "papermill": {
     "duration": 0.03232,
     "end_time": "2021-11-22T05:30:13.191475",
     "exception": false,
     "start_time": "2021-11-22T05:30:13.159155",
     "status": "completed"
    },
    "tags": []
   },
   "outputs": [],
   "source": []
  }
 ],
 "metadata": {
  "kernelspec": {
   "display_name": "Python 3",
   "language": "python",
   "name": "python3"
  },
  "language_info": {
   "codemirror_mode": {
    "name": "ipython",
    "version": 3
   },
   "file_extension": ".py",
   "mimetype": "text/x-python",
   "name": "python",
   "nbconvert_exporter": "python",
   "pygments_lexer": "ipython3",
   "version": "3.9.5"
  },
  "papermill": {
   "default_parameters": {},
   "duration": 9.969674,
   "end_time": "2021-11-22T05:30:14.886472",
   "environment_variables": {},
   "exception": null,
   "input_path": "eBay_Overview.ipynb",
   "output_path": "eBay_Overview.ipynb",
   "parameters": {},
   "start_time": "2021-11-22T05:30:04.916798",
   "version": "2.3.3"
  }
 },
 "nbformat": 4,
 "nbformat_minor": 5
}