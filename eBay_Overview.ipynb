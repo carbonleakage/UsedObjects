{
 "cells": [
  {
   "cell_type": "code",
   "execution_count": 1,
   "id": "reverse-picking",
   "metadata": {
    "execution": {
     "iopub.execute_input": "2021-11-06T22:30:08.160087Z",
     "iopub.status.busy": "2021-11-06T22:30:08.157478Z",
     "iopub.status.idle": "2021-11-06T22:30:09.102730Z",
     "shell.execute_reply": "2021-11-06T22:30:09.104237Z"
    },
    "papermill": {
     "duration": 0.993909,
     "end_time": "2021-11-06T22:30:09.105110",
     "exception": false,
     "start_time": "2021-11-06T22:30:08.111201",
     "status": "completed"
    },
    "tags": []
   },
   "outputs": [],
   "source": [
    "import pandas as pd\n",
    "import sqlite3"
   ]
  },
  {
   "cell_type": "code",
   "execution_count": 2,
   "id": "innovative-syndrome",
   "metadata": {
    "execution": {
     "iopub.execute_input": "2021-11-06T22:30:09.281913Z",
     "iopub.status.busy": "2021-11-06T22:30:09.279856Z",
     "iopub.status.idle": "2021-11-06T22:30:10.036154Z",
     "shell.execute_reply": "2021-11-06T22:30:10.037804Z"
    },
    "papermill": {
     "duration": 0.791096,
     "end_time": "2021-11-06T22:30:10.038343",
     "exception": false,
     "start_time": "2021-11-06T22:30:09.247247",
     "status": "completed"
    },
    "tags": []
   },
   "outputs": [],
   "source": [
    "timestamps = pd.read_sql(\"select distinct record_time from EBAY_TOP_BERLIN order by record_time desc limit 2\", sqlite3.connect(\"UsedObjects.db\"))"
   ]
  },
  {
   "cell_type": "code",
   "execution_count": 3,
   "id": "periodic-identification",
   "metadata": {
    "execution": {
     "iopub.execute_input": "2021-11-06T22:30:10.109185Z",
     "iopub.status.busy": "2021-11-06T22:30:10.106625Z",
     "iopub.status.idle": "2021-11-06T22:30:10.128316Z",
     "shell.execute_reply": "2021-11-06T22:30:10.129871Z"
    },
    "papermill": {
     "duration": 0.071232,
     "end_time": "2021-11-06T22:30:10.130358",
     "exception": false,
     "start_time": "2021-11-06T22:30:10.059126",
     "status": "completed"
    },
    "tags": []
   },
   "outputs": [
    {
     "data": {
      "text/html": [
       "<div>\n",
       "<style scoped>\n",
       "    .dataframe tbody tr th:only-of-type {\n",
       "        vertical-align: middle;\n",
       "    }\n",
       "\n",
       "    .dataframe tbody tr th {\n",
       "        vertical-align: top;\n",
       "    }\n",
       "\n",
       "    .dataframe thead th {\n",
       "        text-align: right;\n",
       "    }\n",
       "</style>\n",
       "<table border=\"1\" class=\"dataframe\">\n",
       "  <thead>\n",
       "    <tr style=\"text-align: right;\">\n",
       "      <th></th>\n",
       "      <th>RECORD_TIME</th>\n",
       "    </tr>\n",
       "  </thead>\n",
       "  <tbody>\n",
       "    <tr>\n",
       "      <th>0</th>\n",
       "      <td>2021-11-06 23:30</td>\n",
       "    </tr>\n",
       "    <tr>\n",
       "      <th>1</th>\n",
       "      <td>2021-11-06 23:00</td>\n",
       "    </tr>\n",
       "  </tbody>\n",
       "</table>\n",
       "</div>"
      ],
      "text/plain": [
       "        RECORD_TIME\n",
       "0  2021-11-06 23:30\n",
       "1  2021-11-06 23:00"
      ]
     },
     "execution_count": 3,
     "metadata": {},
     "output_type": "execute_result"
    }
   ],
   "source": [
    "timestamps"
   ]
  },
  {
   "cell_type": "code",
   "execution_count": 4,
   "id": "alternate-victory",
   "metadata": {
    "execution": {
     "iopub.execute_input": "2021-11-06T22:30:10.182670Z",
     "iopub.status.busy": "2021-11-06T22:30:10.180487Z",
     "iopub.status.idle": "2021-11-06T22:30:11.266733Z",
     "shell.execute_reply": "2021-11-06T22:30:11.268094Z"
    },
    "papermill": {
     "duration": 1.11827,
     "end_time": "2021-11-06T22:30:11.268611",
     "exception": false,
     "start_time": "2021-11-06T22:30:10.150341",
     "status": "completed"
    },
    "tags": []
   },
   "outputs": [],
   "source": [
    "df = pd.read_sql(\"select * from EBAY_TOP_BERLIN where record_time in (select distinct record_time from EBAY_TOP_BERLIN order by record_time desc limit 2)\", sqlite3.connect(\"UsedObjects.db\"))"
   ]
  },
  {
   "cell_type": "code",
   "execution_count": 5,
   "id": "popular-active",
   "metadata": {
    "execution": {
     "iopub.execute_input": "2021-11-06T22:30:11.348334Z",
     "iopub.status.busy": "2021-11-06T22:30:11.333768Z",
     "iopub.status.idle": "2021-11-06T22:30:11.368021Z",
     "shell.execute_reply": "2021-11-06T22:30:11.369582Z"
    },
    "papermill": {
     "duration": 0.079712,
     "end_time": "2021-11-06T22:30:11.370101",
     "exception": false,
     "start_time": "2021-11-06T22:30:11.290389",
     "status": "completed"
    },
    "tags": []
   },
   "outputs": [],
   "source": [
    "df_pivot = df.pivot_table(index=\"PRODUCT\", columns = \"RECORD_TIME\", values = \"LISTING_COUNT\")"
   ]
  },
  {
   "cell_type": "code",
   "execution_count": 6,
   "id": "union-huntington",
   "metadata": {
    "execution": {
     "iopub.execute_input": "2021-11-06T22:30:11.433446Z",
     "iopub.status.busy": "2021-11-06T22:30:11.431117Z",
     "iopub.status.idle": "2021-11-06T22:30:11.436988Z",
     "shell.execute_reply": "2021-11-06T22:30:11.438584Z"
    },
    "papermill": {
     "duration": 0.047347,
     "end_time": "2021-11-06T22:30:11.439063",
     "exception": false,
     "start_time": "2021-11-06T22:30:11.391716",
     "status": "completed"
    },
    "tags": []
   },
   "outputs": [],
   "source": [
    "df_pivot.columns = [\"stamp_1\", \"stamp_2\"]\n",
    "df_pivot_diff = df_pivot.diff(axis=1)"
   ]
  },
  {
   "cell_type": "code",
   "execution_count": 7,
   "id": "fifth-motion",
   "metadata": {
    "execution": {
     "iopub.execute_input": "2021-11-06T22:30:11.498673Z",
     "iopub.status.busy": "2021-11-06T22:30:11.496076Z",
     "iopub.status.idle": "2021-11-06T22:30:13.209587Z",
     "shell.execute_reply": "2021-11-06T22:30:13.210954Z"
    },
    "papermill": {
     "duration": 1.751568,
     "end_time": "2021-11-06T22:30:13.211434",
     "exception": false,
     "start_time": "2021-11-06T22:30:11.459866",
     "status": "completed"
    },
    "tags": []
   },
   "outputs": [
    {
     "data": {
      "text/plain": [
       "<AxesSubplot:ylabel='PRODUCT'>"
      ]
     },
     "execution_count": 7,
     "metadata": {},
     "output_type": "execute_result"
    },
    {
     "data": {
      "image/png": "[encoded data removed]",
      "text/plain": [
       "<Figure size 432x288 with 1 Axes>"
      ]
     },
     "metadata": {
      "needs_background": "light"
     },
     "output_type": "display_data"
    }
   ],
   "source": [
    "df_pivot_diff.sort_values(\"stamp_2\", ascending = False)[\"stamp_2\"].head(10).plot.barh()"
   ]
  },
  {
   "cell_type": "code",
   "execution_count": null,
   "id": "extra-executive",
   "metadata": {
    "papermill": {
     "duration": 0.02304,
     "end_time": "2021-11-06T22:30:13.258090",
     "exception": false,
     "start_time": "2021-11-06T22:30:13.235050",
     "status": "completed"
    },
    "tags": []
   },
   "outputs": [],
   "source": []
  }
 ],
 "metadata": {
  "kernelspec": {
   "display_name": "Python 3",
   "language": "python",
   "name": "python3"
  },
  "language_info": {
   "codemirror_mode": {
    "name": "ipython",
    "version": 3
   },
   "file_extension": ".py",
   "mimetype": "text/x-python",
   "name": "python",
   "nbconvert_exporter": "python",
   "pygments_lexer": "ipython3",
   "version": "3.9.5"
  },
  "papermill": {
   "default_parameters": {},
   "duration": 8.894876,
   "end_time": "2021-11-06T22:30:14.205397",
   "environment_variables": {},
   "exception": null,
   "input_path": "eBay_Overview.ipynb",
   "output_path": "eBay_Overview.ipynb",
   "parameters": {},
   "start_time": "2021-11-06T22:30:05.310521",
   "version": "2.3.3"
  }
 },
 "nbformat": 4,
 "nbformat_minor": 5
}