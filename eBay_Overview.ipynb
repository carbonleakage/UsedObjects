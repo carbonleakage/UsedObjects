{
 "cells": [
  {
   "cell_type": "code",
   "execution_count": 1,
   "id": "reverse-picking",
   "metadata": {
    "execution": {
     "iopub.execute_input": "2021-09-08T03:00:06.958137Z",
     "iopub.status.busy": "2021-09-08T03:00:06.956248Z",
     "iopub.status.idle": "2021-09-08T03:00:07.766787Z",
     "shell.execute_reply": "2021-09-08T03:00:07.768127Z"
    },
    "papermill": {
     "duration": 0.862808,
     "end_time": "2021-09-08T03:00:07.768754",
     "exception": false,
     "start_time": "2021-09-08T03:00:06.905946",
     "status": "completed"
    },
    "tags": []
   },
   "outputs": [],
   "source": [
    "import pandas as pd\n",
    "import sqlite3"
   ]
  },
  {
   "cell_type": "code",
   "execution_count": 2,
   "id": "innovative-syndrome",
   "metadata": {
    "execution": {
     "iopub.execute_input": "2021-09-08T03:00:07.818484Z",
     "iopub.status.busy": "2021-09-08T03:00:07.816647Z",
     "iopub.status.idle": "2021-09-08T03:00:08.059459Z",
     "shell.execute_reply": "2021-09-08T03:00:08.060906Z"
    },
    "papermill": {
     "duration": 0.272412,
     "end_time": "2021-09-08T03:00:08.061350",
     "exception": false,
     "start_time": "2021-09-08T03:00:07.788938",
     "status": "completed"
    },
    "tags": []
   },
   "outputs": [],
   "source": [
    "timestamps = pd.read_sql(\"select distinct record_time from EBAY_TOP_BERLIN order by record_time desc limit 2\", sqlite3.connect(\"UsedObjects.db\"))"
   ]
  },
  {
   "cell_type": "code",
   "execution_count": 3,
   "id": "periodic-identification",
   "metadata": {
    "execution": {
     "iopub.execute_input": "2021-09-08T03:00:08.127791Z",
     "iopub.status.busy": "2021-09-08T03:00:08.125711Z",
     "iopub.status.idle": "2021-09-08T03:00:08.145798Z",
     "shell.execute_reply": "2021-09-08T03:00:08.147045Z"
    },
    "papermill": {
     "duration": 0.066486,
     "end_time": "2021-09-08T03:00:08.147476",
     "exception": false,
     "start_time": "2021-09-08T03:00:08.080990",
     "status": "completed"
    },
    "tags": []
   },
   "outputs": [
    {
     "data": {
      "text/html": [
       "<div>\n",
       "<style scoped>\n",
       "    .dataframe tbody tr th:only-of-type {\n",
       "        vertical-align: middle;\n",
       "    }\n",
       "\n",
       "    .dataframe tbody tr th {\n",
       "        vertical-align: top;\n",
       "    }\n",
       "\n",
       "    .dataframe thead th {\n",
       "        text-align: right;\n",
       "    }\n",
       "</style>\n",
       "<table border=\"1\" class=\"dataframe\">\n",
       "  <thead>\n",
       "    <tr style=\"text-align: right;\">\n",
       "      <th></th>\n",
       "      <th>RECORD_TIME</th>\n",
       "    </tr>\n",
       "  </thead>\n",
       "  <tbody>\n",
       "    <tr>\n",
       "      <th>0</th>\n",
       "      <td>2021-09-08 05:00</td>\n",
       "    </tr>\n",
       "    <tr>\n",
       "      <th>1</th>\n",
       "      <td>2021-09-08 04:30</td>\n",
       "    </tr>\n",
       "  </tbody>\n",
       "</table>\n",
       "</div>"
      ],
      "text/plain": [
       "        RECORD_TIME\n",
       "0  2021-09-08 05:00\n",
       "1  2021-09-08 04:30"
      ]
     },
     "execution_count": 3,
     "metadata": {},
     "output_type": "execute_result"
    }
   ],
   "source": [
    "timestamps"
   ]
  },
  {
   "cell_type": "code",
   "execution_count": 4,
   "id": "alternate-victory",
   "metadata": {
    "execution": {
     "iopub.execute_input": "2021-09-08T03:00:08.200088Z",
     "iopub.status.busy": "2021-09-08T03:00:08.198165Z",
     "iopub.status.idle": "2021-09-08T03:00:08.544363Z",
     "shell.execute_reply": "2021-09-08T03:00:08.545574Z"
    },
    "papermill": {
     "duration": 0.37592,
     "end_time": "2021-09-08T03:00:08.545974",
     "exception": false,
     "start_time": "2021-09-08T03:00:08.170054",
     "status": "completed"
    },
    "tags": []
   },
   "outputs": [],
   "source": [
    "df = pd.read_sql(\"select * from EBAY_TOP_BERLIN where record_time in (select distinct record_time from EBAY_TOP_BERLIN order by record_time desc limit 2)\", sqlite3.connect(\"UsedObjects.db\"))"
   ]
  },
  {
   "cell_type": "code",
   "execution_count": 5,
   "id": "popular-active",
   "metadata": {
    "execution": {
     "iopub.execute_input": "2021-09-08T03:00:08.627618Z",
     "iopub.status.busy": "2021-09-08T03:00:08.616160Z",
     "iopub.status.idle": "2021-09-08T03:00:08.644467Z",
     "shell.execute_reply": "2021-09-08T03:00:08.645761Z"
    },
    "papermill": {
     "duration": 0.071665,
     "end_time": "2021-09-08T03:00:08.646177",
     "exception": false,
     "start_time": "2021-09-08T03:00:08.574512",
     "status": "completed"
    },
    "tags": []
   },
   "outputs": [],
   "source": [
    "df_pivot = df.pivot_table(index=\"PRODUCT\", columns = \"RECORD_TIME\", values = \"LISTING_COUNT\")"
   ]
  },
  {
   "cell_type": "code",
   "execution_count": 6,
   "id": "union-huntington",
   "metadata": {
    "execution": {
     "iopub.execute_input": "2021-09-08T03:00:08.702567Z",
     "iopub.status.busy": "2021-09-08T03:00:08.700153Z",
     "iopub.status.idle": "2021-09-08T03:00:08.705688Z",
     "shell.execute_reply": "2021-09-08T03:00:08.707005Z"
    },
    "papermill": {
     "duration": 0.0419,
     "end_time": "2021-09-08T03:00:08.707429",
     "exception": false,
     "start_time": "2021-09-08T03:00:08.665529",
     "status": "completed"
    },
    "tags": []
   },
   "outputs": [],
   "source": [
    "df_pivot.columns = [\"stamp_1\", \"stamp_2\"]\n",
    "df_pivot_diff = df_pivot.diff(axis=1)"
   ]
  },
  {
   "cell_type": "code",
   "execution_count": 7,
   "id": "fifth-motion",
   "metadata": {
    "execution": {
     "iopub.execute_input": "2021-09-08T03:00:08.761986Z",
     "iopub.status.busy": "2021-09-08T03:00:08.759651Z",
     "iopub.status.idle": "2021-09-08T03:00:10.255024Z",
     "shell.execute_reply": "2021-09-08T03:00:10.256395Z"
    },
    "papermill": {
     "duration": 1.528965,
     "end_time": "2021-09-08T03:00:10.256817",
     "exception": false,
     "start_time": "2021-09-08T03:00:08.727852",
     "status": "completed"
    },
    "tags": []
   },
   "outputs": [
    {
     "data": {
      "text/plain": [
       "<AxesSubplot:ylabel='PRODUCT'>"
      ]
     },
     "execution_count": 7,
     "metadata": {},
     "output_type": "execute_result"
    },
    {
     "data": {
      "image/png": "[encoded data removed]",
      "text/plain": [
       "<Figure size 432x288 with 1 Axes>"
      ]
     },
     "metadata": {
      "needs_background": "light"
     },
     "output_type": "display_data"
    }
   ],
   "source": [
    "df_pivot_diff.sort_values(\"stamp_2\", ascending = False)[\"stamp_2\"].head(10).plot.barh()"
   ]
  },
  {
   "cell_type": "code",
   "execution_count": null,
   "id": "extra-executive",
   "metadata": {
    "papermill": {
     "duration": 0.021969,
     "end_time": "2021-09-08T03:00:10.303256",
     "exception": false,
     "start_time": "2021-09-08T03:00:10.281287",
     "status": "completed"
    },
    "tags": []
   },
   "outputs": [],
   "source": []
  }
 ],
 "metadata": {
  "kernelspec": {
   "display_name": "Python 3",
   "language": "python",
   "name": "python3"
  },
  "language_info": {
   "codemirror_mode": {
    "name": "ipython",
    "version": 3
   },
   "file_extension": ".py",
   "mimetype": "text/x-python",
   "name": "python",
   "nbconvert_exporter": "python",
   "pygments_lexer": "ipython3",
   "version": "3.9.5"
  },
  "papermill": {
   "default_parameters": {},
   "duration": 6.444962,
   "end_time": "2021-09-08T03:00:10.945496",
   "environment_variables": {},
   "exception": null,
   "input_path": "eBay_Overview.ipynb",
   "output_path": "eBay_Overview.ipynb",
   "parameters": {},
   "start_time": "2021-09-08T03:00:04.500534",
   "version": "2.3.3"
  }
 },
 "nbformat": 4,
 "nbformat_minor": 5
}