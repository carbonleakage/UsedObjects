{
 "cells": [
  {
   "cell_type": "code",
   "execution_count": 1,
   "id": "reverse-picking",
   "metadata": {
    "execution": {
     "iopub.execute_input": "2021-11-02T04:00:07.779717Z",
     "iopub.status.busy": "2021-11-02T04:00:07.777452Z",
     "iopub.status.idle": "2021-11-02T04:00:08.732424Z",
     "shell.execute_reply": "2021-11-02T04:00:08.730386Z"
    },
    "papermill": {
     "duration": 1.003279,
     "end_time": "2021-11-02T04:00:08.732999",
     "exception": false,
     "start_time": "2021-11-02T04:00:07.729720",
     "status": "completed"
    },
    "tags": []
   },
   "outputs": [],
   "source": [
    "import pandas as pd\n",
    "import sqlite3"
   ]
  },
  {
   "cell_type": "code",
   "execution_count": 2,
   "id": "innovative-syndrome",
   "metadata": {
    "execution": {
     "iopub.execute_input": "2021-11-02T04:00:08.799974Z",
     "iopub.status.busy": "2021-11-02T04:00:08.797534Z",
     "iopub.status.idle": "2021-11-02T04:00:09.517075Z",
     "shell.execute_reply": "2021-11-02T04:00:09.518557Z"
    },
    "papermill": {
     "duration": 0.753091,
     "end_time": "2021-11-02T04:00:09.519010",
     "exception": false,
     "start_time": "2021-11-02T04:00:08.765919",
     "status": "completed"
    },
    "tags": []
   },
   "outputs": [],
   "source": [
    "timestamps = pd.read_sql(\"select distinct record_time from EBAY_TOP_BERLIN order by record_time desc limit 2\", sqlite3.connect(\"UsedObjects.db\"))"
   ]
  },
  {
   "cell_type": "code",
   "execution_count": 3,
   "id": "periodic-identification",
   "metadata": {
    "execution": {
     "iopub.execute_input": "2021-11-02T04:00:09.588574Z",
     "iopub.status.busy": "2021-11-02T04:00:09.586309Z",
     "iopub.status.idle": "2021-11-02T04:00:09.607789Z",
     "shell.execute_reply": "2021-11-02T04:00:09.609494Z"
    },
    "papermill": {
     "duration": 0.071085,
     "end_time": "2021-11-02T04:00:09.609965",
     "exception": false,
     "start_time": "2021-11-02T04:00:09.538880",
     "status": "completed"
    },
    "tags": []
   },
   "outputs": [
    {
     "data": {
      "text/html": [
       "<div>\n",
       "<style scoped>\n",
       "    .dataframe tbody tr th:only-of-type {\n",
       "        vertical-align: middle;\n",
       "    }\n",
       "\n",
       "    .dataframe tbody tr th {\n",
       "        vertical-align: top;\n",
       "    }\n",
       "\n",
       "    .dataframe thead th {\n",
       "        text-align: right;\n",
       "    }\n",
       "</style>\n",
       "<table border=\"1\" class=\"dataframe\">\n",
       "  <thead>\n",
       "    <tr style=\"text-align: right;\">\n",
       "      <th></th>\n",
       "      <th>RECORD_TIME</th>\n",
       "    </tr>\n",
       "  </thead>\n",
       "  <tbody>\n",
       "    <tr>\n",
       "      <th>0</th>\n",
       "      <td>2021-11-02 05:00</td>\n",
       "    </tr>\n",
       "    <tr>\n",
       "      <th>1</th>\n",
       "      <td>2021-11-02 04:30</td>\n",
       "    </tr>\n",
       "  </tbody>\n",
       "</table>\n",
       "</div>"
      ],
      "text/plain": [
       "        RECORD_TIME\n",
       "0  2021-11-02 05:00\n",
       "1  2021-11-02 04:30"
      ]
     },
     "execution_count": 3,
     "metadata": {},
     "output_type": "execute_result"
    }
   ],
   "source": [
    "timestamps"
   ]
  },
  {
   "cell_type": "code",
   "execution_count": 4,
   "id": "alternate-victory",
   "metadata": {
    "execution": {
     "iopub.execute_input": "2021-11-02T04:00:09.666244Z",
     "iopub.status.busy": "2021-11-02T04:00:09.663970Z",
     "iopub.status.idle": "2021-11-02T04:00:10.669108Z",
     "shell.execute_reply": "2021-11-02T04:00:10.670787Z"
    },
    "papermill": {
     "duration": 1.039833,
     "end_time": "2021-11-02T04:00:10.671279",
     "exception": false,
     "start_time": "2021-11-02T04:00:09.631446",
     "status": "completed"
    },
    "tags": []
   },
   "outputs": [],
   "source": [
    "df = pd.read_sql(\"select * from EBAY_TOP_BERLIN where record_time in (select distinct record_time from EBAY_TOP_BERLIN order by record_time desc limit 2)\", sqlite3.connect(\"UsedObjects.db\"))"
   ]
  },
  {
   "cell_type": "code",
   "execution_count": 5,
   "id": "popular-active",
   "metadata": {
    "execution": {
     "iopub.execute_input": "2021-11-02T04:00:10.752448Z",
     "iopub.status.busy": "2021-11-02T04:00:10.739538Z",
     "iopub.status.idle": "2021-11-02T04:00:10.771600Z",
     "shell.execute_reply": "2021-11-02T04:00:10.773324Z"
    },
    "papermill": {
     "duration": 0.079949,
     "end_time": "2021-11-02T04:00:10.773825",
     "exception": false,
     "start_time": "2021-11-02T04:00:10.693876",
     "status": "completed"
    },
    "tags": []
   },
   "outputs": [],
   "source": [
    "df_pivot = df.pivot_table(index=\"PRODUCT\", columns = \"RECORD_TIME\", values = \"LISTING_COUNT\")"
   ]
  },
  {
   "cell_type": "code",
   "execution_count": 6,
   "id": "union-huntington",
   "metadata": {
    "execution": {
     "iopub.execute_input": "2021-11-02T04:00:10.837688Z",
     "iopub.status.busy": "2021-11-02T04:00:10.835323Z",
     "iopub.status.idle": "2021-11-02T04:00:10.840557Z",
     "shell.execute_reply": "2021-11-02T04:00:10.842588Z"
    },
    "papermill": {
     "duration": 0.046221,
     "end_time": "2021-11-02T04:00:10.843088",
     "exception": false,
     "start_time": "2021-11-02T04:00:10.796867",
     "status": "completed"
    },
    "tags": []
   },
   "outputs": [],
   "source": [
    "df_pivot.columns = [\"stamp_1\", \"stamp_2\"]\n",
    "df_pivot_diff = df_pivot.diff(axis=1)"
   ]
  },
  {
   "cell_type": "code",
   "execution_count": 7,
   "id": "fifth-motion",
   "metadata": {
    "execution": {
     "iopub.execute_input": "2021-11-02T04:00:10.903608Z",
     "iopub.status.busy": "2021-11-02T04:00:10.901110Z",
     "iopub.status.idle": "2021-11-02T04:00:12.706958Z",
     "shell.execute_reply": "2021-11-02T04:00:12.709173Z"
    },
    "papermill": {
     "duration": 1.843646,
     "end_time": "2021-11-02T04:00:12.709817",
     "exception": false,
     "start_time": "2021-11-02T04:00:10.866171",
     "status": "completed"
    },
    "tags": []
   },
   "outputs": [
    {
     "data": {
      "text/plain": [
       "<AxesSubplot:ylabel='PRODUCT'>"
      ]
     },
     "execution_count": 7,
     "metadata": {},
     "output_type": "execute_result"
    },
    {
     "data": {
      "image/png": "[encoded data removed]",
      "text/plain": [
       "<Figure size 432x288 with 1 Axes>"
      ]
     },
     "metadata": {
      "needs_background": "light"
     },
     "output_type": "display_data"
    }
   ],
   "source": [
    "df_pivot_diff.sort_values(\"stamp_2\", ascending = False)[\"stamp_2\"].head(10).plot.barh()"
   ]
  },
  {
   "cell_type": "code",
   "execution_count": null,
   "id": "extra-executive",
   "metadata": {
    "papermill": {
     "duration": 0.028146,
     "end_time": "2021-11-02T04:00:12.772346",
     "exception": false,
     "start_time": "2021-11-02T04:00:12.744200",
     "status": "completed"
    },
    "tags": []
   },
   "outputs": [],
   "source": []
  }
 ],
 "metadata": {
  "kernelspec": {
   "display_name": "Python 3",
   "language": "python",
   "name": "python3"
  },
  "language_info": {
   "codemirror_mode": {
    "name": "ipython",
    "version": 3
   },
   "file_extension": ".py",
   "mimetype": "text/x-python",
   "name": "python",
   "nbconvert_exporter": "python",
   "pygments_lexer": "ipython3",
   "version": "3.9.5"
  },
  "papermill": {
   "default_parameters": {},
   "duration": 8.652586,
   "end_time": "2021-11-02T04:00:13.642260",
   "environment_variables": {},
   "exception": null,
   "input_path": "eBay_Overview.ipynb",
   "output_path": "eBay_Overview.ipynb",
   "parameters": {},
   "start_time": "2021-11-02T04:00:04.989674",
   "version": "2.3.3"
  }
 },
 "nbformat": 4,
 "nbformat_minor": 5
}