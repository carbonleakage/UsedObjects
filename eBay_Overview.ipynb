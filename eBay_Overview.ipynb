{
 "cells": [
  {
   "cell_type": "code",
   "execution_count": 1,
   "id": "reverse-picking",
   "metadata": {
    "execution": {
     "iopub.execute_input": "2021-12-04T19:30:08.194812Z",
     "iopub.status.busy": "2021-12-04T19:30:08.192447Z",
     "iopub.status.idle": "2021-12-04T19:30:09.117050Z",
     "shell.execute_reply": "2021-12-04T19:30:09.118508Z"
    },
    "papermill": {
     "duration": 0.975223,
     "end_time": "2021-12-04T19:30:09.119276",
     "exception": false,
     "start_time": "2021-12-04T19:30:08.144053",
     "status": "completed"
    },
    "tags": []
   },
   "outputs": [],
   "source": [
    "import pandas as pd\n",
    "import sqlite3"
   ]
  },
  {
   "cell_type": "code",
   "execution_count": 2,
   "id": "innovative-syndrome",
   "metadata": {
    "execution": {
     "iopub.execute_input": "2021-12-04T19:30:09.183853Z",
     "iopub.status.busy": "2021-12-04T19:30:09.181614Z",
     "iopub.status.idle": "2021-12-04T19:30:10.155385Z",
     "shell.execute_reply": "2021-12-04T19:30:10.156600Z"
    },
    "papermill": {
     "duration": 1.007338,
     "end_time": "2021-12-04T19:30:10.157099",
     "exception": false,
     "start_time": "2021-12-04T19:30:09.149761",
     "status": "completed"
    },
    "tags": []
   },
   "outputs": [],
   "source": [
    "timestamps = pd.read_sql(\"select distinct record_time from EBAY_TOP_BERLIN order by record_time desc limit 2\", sqlite3.connect(\"UsedObjects.db\"))"
   ]
  },
  {
   "cell_type": "code",
   "execution_count": 3,
   "id": "periodic-identification",
   "metadata": {
    "execution": {
     "iopub.execute_input": "2021-12-04T19:30:10.229408Z",
     "iopub.status.busy": "2021-12-04T19:30:10.226961Z",
     "iopub.status.idle": "2021-12-04T19:30:10.250678Z",
     "shell.execute_reply": "2021-12-04T19:30:10.252650Z"
    },
    "papermill": {
     "duration": 0.075374,
     "end_time": "2021-12-04T19:30:10.253212",
     "exception": false,
     "start_time": "2021-12-04T19:30:10.177838",
     "status": "completed"
    },
    "tags": []
   },
   "outputs": [
    {
     "data": {
      "text/html": [
       "<div>\n",
       "<style scoped>\n",
       "    .dataframe tbody tr th:only-of-type {\n",
       "        vertical-align: middle;\n",
       "    }\n",
       "\n",
       "    .dataframe tbody tr th {\n",
       "        vertical-align: top;\n",
       "    }\n",
       "\n",
       "    .dataframe thead th {\n",
       "        text-align: right;\n",
       "    }\n",
       "</style>\n",
       "<table border=\"1\" class=\"dataframe\">\n",
       "  <thead>\n",
       "    <tr style=\"text-align: right;\">\n",
       "      <th></th>\n",
       "      <th>RECORD_TIME</th>\n",
       "    </tr>\n",
       "  </thead>\n",
       "  <tbody>\n",
       "    <tr>\n",
       "      <th>0</th>\n",
       "      <td>2021-12-04 20:30</td>\n",
       "    </tr>\n",
       "    <tr>\n",
       "      <th>1</th>\n",
       "      <td>2021-12-04 20:00</td>\n",
       "    </tr>\n",
       "  </tbody>\n",
       "</table>\n",
       "</div>"
      ],
      "text/plain": [
       "        RECORD_TIME\n",
       "0  2021-12-04 20:30\n",
       "1  2021-12-04 20:00"
      ]
     },
     "execution_count": 3,
     "metadata": {},
     "output_type": "execute_result"
    }
   ],
   "source": [
    "timestamps"
   ]
  },
  {
   "cell_type": "code",
   "execution_count": 4,
   "id": "alternate-victory",
   "metadata": {
    "execution": {
     "iopub.execute_input": "2021-12-04T19:30:10.310001Z",
     "iopub.status.busy": "2021-12-04T19:30:10.307826Z",
     "iopub.status.idle": "2021-12-04T19:30:11.745233Z",
     "shell.execute_reply": "2021-12-04T19:30:11.746981Z"
    },
    "papermill": {
     "duration": 1.471529,
     "end_time": "2021-12-04T19:30:11.747504",
     "exception": false,
     "start_time": "2021-12-04T19:30:10.275975",
     "status": "completed"
    },
    "tags": []
   },
   "outputs": [],
   "source": [
    "df = pd.read_sql(\"select * from EBAY_TOP_BERLIN where record_time in (select distinct record_time from EBAY_TOP_BERLIN order by record_time desc limit 2)\", sqlite3.connect(\"UsedObjects.db\"))"
   ]
  },
  {
   "cell_type": "code",
   "execution_count": 5,
   "id": "popular-active",
   "metadata": {
    "execution": {
     "iopub.execute_input": "2021-12-04T19:30:11.827011Z",
     "iopub.status.busy": "2021-12-04T19:30:11.812414Z",
     "iopub.status.idle": "2021-12-04T19:30:11.846049Z",
     "shell.execute_reply": "2021-12-04T19:30:11.847466Z"
    },
    "papermill": {
     "duration": 0.078686,
     "end_time": "2021-12-04T19:30:11.847960",
     "exception": false,
     "start_time": "2021-12-04T19:30:11.769274",
     "status": "completed"
    },
    "tags": []
   },
   "outputs": [],
   "source": [
    "df_pivot = df.pivot_table(index=\"PRODUCT\", columns = \"RECORD_TIME\", values = \"LISTING_COUNT\")"
   ]
  },
  {
   "cell_type": "code",
   "execution_count": 6,
   "id": "union-huntington",
   "metadata": {
    "execution": {
     "iopub.execute_input": "2021-12-04T19:30:11.906503Z",
     "iopub.status.busy": "2021-12-04T19:30:11.904239Z",
     "iopub.status.idle": "2021-12-04T19:30:11.910175Z",
     "shell.execute_reply": "2021-12-04T19:30:11.911613Z"
    },
    "papermill": {
     "duration": 0.043694,
     "end_time": "2021-12-04T19:30:11.912079",
     "exception": false,
     "start_time": "2021-12-04T19:30:11.868385",
     "status": "completed"
    },
    "tags": []
   },
   "outputs": [],
   "source": [
    "df_pivot.columns = [\"stamp_1\", \"stamp_2\"]\n",
    "df_pivot_diff = df_pivot.diff(axis=1)"
   ]
  },
  {
   "cell_type": "code",
   "execution_count": 7,
   "id": "fifth-motion",
   "metadata": {
    "execution": {
     "iopub.execute_input": "2021-12-04T19:30:11.970884Z",
     "iopub.status.busy": "2021-12-04T19:30:11.968337Z",
     "iopub.status.idle": "2021-12-04T19:30:13.927118Z",
     "shell.execute_reply": "2021-12-04T19:30:13.929382Z"
    },
    "papermill": {
     "duration": 1.997291,
     "end_time": "2021-12-04T19:30:13.929963",
     "exception": false,
     "start_time": "2021-12-04T19:30:11.932672",
     "status": "completed"
    },
    "tags": []
   },
   "outputs": [
    {
     "data": {
      "text/plain": [
       "<AxesSubplot:ylabel='PRODUCT'>"
      ]
     },
     "execution_count": 7,
     "metadata": {},
     "output_type": "execute_result"
    },
    {
     "data": {
      "image/png": "[encoded data removed]",
      "text/plain": [
       "<Figure size 432x288 with 1 Axes>"
      ]
     },
     "metadata": {
      "needs_background": "light"
     },
     "output_type": "display_data"
    }
   ],
   "source": [
    "df_pivot_diff.sort_values(\"stamp_2\", ascending = False)[\"stamp_2\"].head(10).plot.barh()"
   ]
  },
  {
   "cell_type": "code",
   "execution_count": null,
   "id": "extra-executive",
   "metadata": {
    "papermill": {
     "duration": 0.036277,
     "end_time": "2021-12-04T19:30:14.005861",
     "exception": false,
     "start_time": "2021-12-04T19:30:13.969584",
     "status": "completed"
    },
    "tags": []
   },
   "outputs": [],
   "source": []
  }
 ],
 "metadata": {
  "kernelspec": {
   "display_name": "Python 3",
   "language": "python",
   "name": "python3"
  },
  "language_info": {
   "codemirror_mode": {
    "name": "ipython",
    "version": 3
   },
   "file_extension": ".py",
   "mimetype": "text/x-python",
   "name": "python",
   "nbconvert_exporter": "python",
   "pygments_lexer": "ipython3",
   "version": "3.9.5"
  },
  "papermill": {
   "default_parameters": {},
   "duration": 9.93385,
   "end_time": "2021-12-04T19:30:15.339242",
   "environment_variables": {},
   "exception": null,
   "input_path": "eBay_Overview.ipynb",
   "output_path": "eBay_Overview.ipynb",
   "parameters": {},
   "start_time": "2021-12-04T19:30:05.405392",
   "version": "2.3.3"
  }
 },
 "nbformat": 4,
 "nbformat_minor": 5
}