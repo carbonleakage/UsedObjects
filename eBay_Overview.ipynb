{
 "cells": [
  {
   "cell_type": "code",
   "execution_count": 1,
   "id": "reverse-picking",
   "metadata": {
    "execution": {
     "iopub.execute_input": "2021-12-02T13:00:08.265177Z",
     "iopub.status.busy": "2021-12-02T13:00:08.262738Z",
     "iopub.status.idle": "2021-12-02T13:00:09.234831Z",
     "shell.execute_reply": "2021-12-02T13:00:09.236439Z"
    },
    "papermill": {
     "duration": 1.02254,
     "end_time": "2021-12-02T13:00:09.237312",
     "exception": false,
     "start_time": "2021-12-02T13:00:08.214772",
     "status": "completed"
    },
    "tags": []
   },
   "outputs": [],
   "source": [
    "import pandas as pd\n",
    "import sqlite3"
   ]
  },
  {
   "cell_type": "code",
   "execution_count": 2,
   "id": "innovative-syndrome",
   "metadata": {
    "execution": {
     "iopub.execute_input": "2021-12-02T13:00:09.308925Z",
     "iopub.status.busy": "2021-12-02T13:00:09.306440Z",
     "iopub.status.idle": "2021-12-02T13:00:10.305835Z",
     "shell.execute_reply": "2021-12-02T13:00:10.307381Z"
    },
    "papermill": {
     "duration": 1.048618,
     "end_time": "2021-12-02T13:00:10.307959",
     "exception": false,
     "start_time": "2021-12-02T13:00:09.259341",
     "status": "completed"
    },
    "tags": []
   },
   "outputs": [],
   "source": [
    "timestamps = pd.read_sql(\"select distinct record_time from EBAY_TOP_BERLIN order by record_time desc limit 2\", sqlite3.connect(\"UsedObjects.db\"))"
   ]
  },
  {
   "cell_type": "code",
   "execution_count": 3,
   "id": "periodic-identification",
   "metadata": {
    "execution": {
     "iopub.execute_input": "2021-12-02T13:00:10.381080Z",
     "iopub.status.busy": "2021-12-02T13:00:10.378613Z",
     "iopub.status.idle": "2021-12-02T13:00:10.401735Z",
     "shell.execute_reply": "2021-12-02T13:00:10.403274Z"
    },
    "papermill": {
     "duration": 0.075031,
     "end_time": "2021-12-02T13:00:10.403771",
     "exception": false,
     "start_time": "2021-12-02T13:00:10.328740",
     "status": "completed"
    },
    "tags": []
   },
   "outputs": [
    {
     "data": {
      "text/html": [
       "<div>\n",
       "<style scoped>\n",
       "    .dataframe tbody tr th:only-of-type {\n",
       "        vertical-align: middle;\n",
       "    }\n",
       "\n",
       "    .dataframe tbody tr th {\n",
       "        vertical-align: top;\n",
       "    }\n",
       "\n",
       "    .dataframe thead th {\n",
       "        text-align: right;\n",
       "    }\n",
       "</style>\n",
       "<table border=\"1\" class=\"dataframe\">\n",
       "  <thead>\n",
       "    <tr style=\"text-align: right;\">\n",
       "      <th></th>\n",
       "      <th>RECORD_TIME</th>\n",
       "    </tr>\n",
       "  </thead>\n",
       "  <tbody>\n",
       "    <tr>\n",
       "      <th>0</th>\n",
       "      <td>2021-12-02 14:00</td>\n",
       "    </tr>\n",
       "    <tr>\n",
       "      <th>1</th>\n",
       "      <td>2021-12-02 13:30</td>\n",
       "    </tr>\n",
       "  </tbody>\n",
       "</table>\n",
       "</div>"
      ],
      "text/plain": [
       "        RECORD_TIME\n",
       "0  2021-12-02 14:00\n",
       "1  2021-12-02 13:30"
      ]
     },
     "execution_count": 3,
     "metadata": {},
     "output_type": "execute_result"
    }
   ],
   "source": [
    "timestamps"
   ]
  },
  {
   "cell_type": "code",
   "execution_count": 4,
   "id": "alternate-victory",
   "metadata": {
    "execution": {
     "iopub.execute_input": "2021-12-02T13:00:10.462066Z",
     "iopub.status.busy": "2021-12-02T13:00:10.459658Z",
     "iopub.status.idle": "2021-12-02T13:00:11.921500Z",
     "shell.execute_reply": "2021-12-02T13:00:11.923168Z"
    },
    "papermill": {
     "duration": 1.497971,
     "end_time": "2021-12-02T13:00:11.923657",
     "exception": false,
     "start_time": "2021-12-02T13:00:10.425686",
     "status": "completed"
    },
    "tags": []
   },
   "outputs": [],
   "source": [
    "df = pd.read_sql(\"select * from EBAY_TOP_BERLIN where record_time in (select distinct record_time from EBAY_TOP_BERLIN order by record_time desc limit 2)\", sqlite3.connect(\"UsedObjects.db\"))"
   ]
  },
  {
   "cell_type": "code",
   "execution_count": 5,
   "id": "popular-active",
   "metadata": {
    "execution": {
     "iopub.execute_input": "2021-12-02T13:00:12.002986Z",
     "iopub.status.busy": "2021-12-02T13:00:11.994024Z",
     "iopub.status.idle": "2021-12-02T13:00:12.023391Z",
     "shell.execute_reply": "2021-12-02T13:00:12.021647Z"
    },
    "papermill": {
     "duration": 0.078797,
     "end_time": "2021-12-02T13:00:12.023842",
     "exception": false,
     "start_time": "2021-12-02T13:00:11.945045",
     "status": "completed"
    },
    "tags": []
   },
   "outputs": [],
   "source": [
    "df_pivot = df.pivot_table(index=\"PRODUCT\", columns = \"RECORD_TIME\", values = \"LISTING_COUNT\")"
   ]
  },
  {
   "cell_type": "code",
   "execution_count": 6,
   "id": "union-huntington",
   "metadata": {
    "execution": {
     "iopub.execute_input": "2021-12-02T13:00:12.085494Z",
     "iopub.status.busy": "2021-12-02T13:00:12.083239Z",
     "iopub.status.idle": "2021-12-02T13:00:12.089063Z",
     "shell.execute_reply": "2021-12-02T13:00:12.090572Z"
    },
    "papermill": {
     "duration": 0.044086,
     "end_time": "2021-12-02T13:00:12.091042",
     "exception": false,
     "start_time": "2021-12-02T13:00:12.046956",
     "status": "completed"
    },
    "tags": []
   },
   "outputs": [],
   "source": [
    "df_pivot.columns = [\"stamp_1\", \"stamp_2\"]\n",
    "df_pivot_diff = df_pivot.diff(axis=1)"
   ]
  },
  {
   "cell_type": "code",
   "execution_count": 7,
   "id": "fifth-motion",
   "metadata": {
    "execution": {
     "iopub.execute_input": "2021-12-02T13:00:12.147215Z",
     "iopub.status.busy": "2021-12-02T13:00:12.144786Z",
     "iopub.status.idle": "2021-12-02T13:00:14.162354Z",
     "shell.execute_reply": "2021-12-02T13:00:14.163720Z"
    },
    "papermill": {
     "duration": 2.052969,
     "end_time": "2021-12-02T13:00:14.164154",
     "exception": false,
     "start_time": "2021-12-02T13:00:12.111185",
     "status": "completed"
    },
    "tags": []
   },
   "outputs": [
    {
     "data": {
      "text/plain": [
       "<AxesSubplot:ylabel='PRODUCT'>"
      ]
     },
     "execution_count": 7,
     "metadata": {},
     "output_type": "execute_result"
    },
    {
     "data": {
      "image/png": "[encoded data removed]",
      "text/plain": [
       "<Figure size 432x288 with 1 Axes>"
      ]
     },
     "metadata": {
      "needs_background": "light"
     },
     "output_type": "display_data"
    }
   ],
   "source": [
    "df_pivot_diff.sort_values(\"stamp_2\", ascending = False)[\"stamp_2\"].head(10).plot.barh()"
   ]
  },
  {
   "cell_type": "code",
   "execution_count": null,
   "id": "extra-executive",
   "metadata": {
    "papermill": {
     "duration": 0.022621,
     "end_time": "2021-12-02T13:00:14.211126",
     "exception": false,
     "start_time": "2021-12-02T13:00:14.188505",
     "status": "completed"
    },
    "tags": []
   },
   "outputs": [],
   "source": []
  }
 ],
 "metadata": {
  "kernelspec": {
   "display_name": "Python 3",
   "language": "python",
   "name": "python3"
  },
  "language_info": {
   "codemirror_mode": {
    "name": "ipython",
    "version": 3
   },
   "file_extension": ".py",
   "mimetype": "text/x-python",
   "name": "python",
   "nbconvert_exporter": "python",
   "pygments_lexer": "ipython3",
   "version": "3.9.5"
  },
  "papermill": {
   "default_parameters": {},
   "duration": 9.937224,
   "end_time": "2021-12-02T13:00:15.394853",
   "environment_variables": {},
   "exception": null,
   "input_path": "eBay_Overview.ipynb",
   "output_path": "eBay_Overview.ipynb",
   "parameters": {},
   "start_time": "2021-12-02T13:00:05.457629",
   "version": "2.3.3"
  }
 },
 "nbformat": 4,
 "nbformat_minor": 5
}