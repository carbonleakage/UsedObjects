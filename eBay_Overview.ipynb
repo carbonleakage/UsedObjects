{
 "cells": [
  {
   "cell_type": "code",
   "execution_count": 1,
   "id": "reverse-picking",
   "metadata": {
    "execution": {
     "iopub.execute_input": "2021-10-03T20:00:07.350233Z",
     "iopub.status.busy": "2021-10-03T20:00:07.348290Z",
     "iopub.status.idle": "2021-10-03T20:00:08.152075Z",
     "shell.execute_reply": "2021-10-03T20:00:08.153499Z"
    },
    "papermill": {
     "duration": 0.856675,
     "end_time": "2021-10-03T20:00:08.154184",
     "exception": false,
     "start_time": "2021-10-03T20:00:07.297509",
     "status": "completed"
    },
    "tags": []
   },
   "outputs": [],
   "source": [
    "import pandas as pd\n",
    "import sqlite3"
   ]
  },
  {
   "cell_type": "code",
   "execution_count": 2,
   "id": "innovative-syndrome",
   "metadata": {
    "execution": {
     "iopub.execute_input": "2021-10-03T20:00:08.206008Z",
     "iopub.status.busy": "2021-10-03T20:00:08.203934Z",
     "iopub.status.idle": "2021-10-03T20:00:08.639462Z",
     "shell.execute_reply": "2021-10-03T20:00:08.640614Z"
    },
    "papermill": {
     "duration": 0.465853,
     "end_time": "2021-10-03T20:00:08.641029",
     "exception": false,
     "start_time": "2021-10-03T20:00:08.175176",
     "status": "completed"
    },
    "tags": []
   },
   "outputs": [],
   "source": [
    "timestamps = pd.read_sql(\"select distinct record_time from EBAY_TOP_BERLIN order by record_time desc limit 2\", sqlite3.connect(\"UsedObjects.db\"))"
   ]
  },
  {
   "cell_type": "code",
   "execution_count": 3,
   "id": "periodic-identification",
   "metadata": {
    "execution": {
     "iopub.execute_input": "2021-10-03T20:00:08.710021Z",
     "iopub.status.busy": "2021-10-03T20:00:08.707997Z",
     "iopub.status.idle": "2021-10-03T20:00:08.729994Z",
     "shell.execute_reply": "2021-10-03T20:00:08.731361Z"
    },
    "papermill": {
     "duration": 0.06824,
     "end_time": "2021-10-03T20:00:08.731783",
     "exception": false,
     "start_time": "2021-10-03T20:00:08.663543",
     "status": "completed"
    },
    "tags": []
   },
   "outputs": [
    {
     "data": {
      "text/html": [
       "<div>\n",
       "<style scoped>\n",
       "    .dataframe tbody tr th:only-of-type {\n",
       "        vertical-align: middle;\n",
       "    }\n",
       "\n",
       "    .dataframe tbody tr th {\n",
       "        vertical-align: top;\n",
       "    }\n",
       "\n",
       "    .dataframe thead th {\n",
       "        text-align: right;\n",
       "    }\n",
       "</style>\n",
       "<table border=\"1\" class=\"dataframe\">\n",
       "  <thead>\n",
       "    <tr style=\"text-align: right;\">\n",
       "      <th></th>\n",
       "      <th>RECORD_TIME</th>\n",
       "    </tr>\n",
       "  </thead>\n",
       "  <tbody>\n",
       "    <tr>\n",
       "      <th>0</th>\n",
       "      <td>2021-10-03 22:00</td>\n",
       "    </tr>\n",
       "    <tr>\n",
       "      <th>1</th>\n",
       "      <td>2021-10-03 21:30</td>\n",
       "    </tr>\n",
       "  </tbody>\n",
       "</table>\n",
       "</div>"
      ],
      "text/plain": [
       "        RECORD_TIME\n",
       "0  2021-10-03 22:00\n",
       "1  2021-10-03 21:30"
      ]
     },
     "execution_count": 3,
     "metadata": {},
     "output_type": "execute_result"
    }
   ],
   "source": [
    "timestamps"
   ]
  },
  {
   "cell_type": "code",
   "execution_count": 4,
   "id": "alternate-victory",
   "metadata": {
    "execution": {
     "iopub.execute_input": "2021-10-03T20:00:08.791254Z",
     "iopub.status.busy": "2021-10-03T20:00:08.789138Z",
     "iopub.status.idle": "2021-10-03T20:00:09.427736Z",
     "shell.execute_reply": "2021-10-03T20:00:09.429034Z"
    },
    "papermill": {
     "duration": 0.677133,
     "end_time": "2021-10-03T20:00:09.429431",
     "exception": false,
     "start_time": "2021-10-03T20:00:08.752298",
     "status": "completed"
    },
    "tags": []
   },
   "outputs": [],
   "source": [
    "df = pd.read_sql(\"select * from EBAY_TOP_BERLIN where record_time in (select distinct record_time from EBAY_TOP_BERLIN order by record_time desc limit 2)\", sqlite3.connect(\"UsedObjects.db\"))"
   ]
  },
  {
   "cell_type": "code",
   "execution_count": 5,
   "id": "popular-active",
   "metadata": {
    "execution": {
     "iopub.execute_input": "2021-10-03T20:00:09.499361Z",
     "iopub.status.busy": "2021-10-03T20:00:09.487696Z",
     "iopub.status.idle": "2021-10-03T20:00:09.518472Z",
     "shell.execute_reply": "2021-10-03T20:00:09.519856Z"
    },
    "papermill": {
     "duration": 0.070495,
     "end_time": "2021-10-03T20:00:09.520276",
     "exception": false,
     "start_time": "2021-10-03T20:00:09.449781",
     "status": "completed"
    },
    "tags": []
   },
   "outputs": [],
   "source": [
    "df_pivot = df.pivot_table(index=\"PRODUCT\", columns = \"RECORD_TIME\", values = \"LISTING_COUNT\")"
   ]
  },
  {
   "cell_type": "code",
   "execution_count": 6,
   "id": "union-huntington",
   "metadata": {
    "execution": {
     "iopub.execute_input": "2021-10-03T20:00:09.576086Z",
     "iopub.status.busy": "2021-10-03T20:00:09.573947Z",
     "iopub.status.idle": "2021-10-03T20:00:09.579237Z",
     "shell.execute_reply": "2021-10-03T20:00:09.580546Z"
    },
    "papermill": {
     "duration": 0.040422,
     "end_time": "2021-10-03T20:00:09.580966",
     "exception": false,
     "start_time": "2021-10-03T20:00:09.540544",
     "status": "completed"
    },
    "tags": []
   },
   "outputs": [],
   "source": [
    "df_pivot.columns = [\"stamp_1\", \"stamp_2\"]\n",
    "df_pivot_diff = df_pivot.diff(axis=1)"
   ]
  },
  {
   "cell_type": "code",
   "execution_count": 7,
   "id": "fifth-motion",
   "metadata": {
    "execution": {
     "iopub.execute_input": "2021-10-03T20:00:09.636709Z",
     "iopub.status.busy": "2021-10-03T20:00:09.634078Z",
     "iopub.status.idle": "2021-10-03T20:00:11.131066Z",
     "shell.execute_reply": "2021-10-03T20:00:11.132376Z"
    },
    "papermill": {
     "duration": 1.53055,
     "end_time": "2021-10-03T20:00:11.132794",
     "exception": false,
     "start_time": "2021-10-03T20:00:09.602244",
     "status": "completed"
    },
    "tags": []
   },
   "outputs": [
    {
     "data": {
      "text/plain": [
       "<AxesSubplot:ylabel='PRODUCT'>"
      ]
     },
     "execution_count": 7,
     "metadata": {},
     "output_type": "execute_result"
    },
    {
     "data": {
      "image/png": "[encoded data removed]",
      "text/plain": [
       "<Figure size 432x288 with 1 Axes>"
      ]
     },
     "metadata": {
      "needs_background": "light"
     },
     "output_type": "display_data"
    }
   ],
   "source": [
    "df_pivot_diff.sort_values(\"stamp_2\", ascending = False)[\"stamp_2\"].head(10).plot.barh()"
   ]
  },
  {
   "cell_type": "code",
   "execution_count": null,
   "id": "extra-executive",
   "metadata": {
    "papermill": {
     "duration": 0.022341,
     "end_time": "2021-10-03T20:00:11.179933",
     "exception": false,
     "start_time": "2021-10-03T20:00:11.157592",
     "status": "completed"
    },
    "tags": []
   },
   "outputs": [],
   "source": []
  }
 ],
 "metadata": {
  "kernelspec": {
   "display_name": "Python 3",
   "language": "python",
   "name": "python3"
  },
  "language_info": {
   "codemirror_mode": {
    "name": "ipython",
    "version": 3
   },
   "file_extension": ".py",
   "mimetype": "text/x-python",
   "name": "python",
   "nbconvert_exporter": "python",
   "pygments_lexer": "ipython3",
   "version": "3.9.5"
  },
  "papermill": {
   "default_parameters": {},
   "duration": 7.817921,
   "end_time": "2021-10-03T20:00:12.710186",
   "environment_variables": {},
   "exception": null,
   "input_path": "eBay_Overview.ipynb",
   "output_path": "eBay_Overview.ipynb",
   "parameters": {},
   "start_time": "2021-10-03T20:00:04.892265",
   "version": "2.3.3"
  }
 },
 "nbformat": 4,
 "nbformat_minor": 5
}