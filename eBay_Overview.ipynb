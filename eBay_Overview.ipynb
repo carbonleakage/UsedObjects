{
 "cells": [
  {
   "cell_type": "code",
   "execution_count": 1,
   "id": "reverse-picking",
   "metadata": {
    "execution": {
     "iopub.execute_input": "2021-09-24T05:30:06.753787Z",
     "iopub.status.busy": "2021-09-24T05:30:06.751873Z",
     "iopub.status.idle": "2021-09-24T05:30:07.555203Z",
     "shell.execute_reply": "2021-09-24T05:30:07.553486Z"
    },
    "papermill": {
     "duration": 0.851694,
     "end_time": "2021-09-24T05:30:07.555643",
     "exception": false,
     "start_time": "2021-09-24T05:30:06.703949",
     "status": "completed"
    },
    "tags": []
   },
   "outputs": [],
   "source": [
    "import pandas as pd\n",
    "import sqlite3"
   ]
  },
  {
   "cell_type": "code",
   "execution_count": 2,
   "id": "innovative-syndrome",
   "metadata": {
    "execution": {
     "iopub.execute_input": "2021-09-24T05:30:07.606033Z",
     "iopub.status.busy": "2021-09-24T05:30:07.603782Z",
     "iopub.status.idle": "2021-09-24T05:30:07.962972Z",
     "shell.execute_reply": "2021-09-24T05:30:07.964102Z"
    },
    "papermill": {
     "duration": 0.389055,
     "end_time": "2021-09-24T05:30:07.964515",
     "exception": false,
     "start_time": "2021-09-24T05:30:07.575460",
     "status": "completed"
    },
    "tags": []
   },
   "outputs": [],
   "source": [
    "timestamps = pd.read_sql(\"select distinct record_time from EBAY_TOP_BERLIN order by record_time desc limit 2\", sqlite3.connect(\"UsedObjects.db\"))"
   ]
  },
  {
   "cell_type": "code",
   "execution_count": 3,
   "id": "periodic-identification",
   "metadata": {
    "execution": {
     "iopub.execute_input": "2021-09-24T05:30:08.028665Z",
     "iopub.status.busy": "2021-09-24T05:30:08.026566Z",
     "iopub.status.idle": "2021-09-24T05:30:08.047157Z",
     "shell.execute_reply": "2021-09-24T05:30:08.048362Z"
    },
    "papermill": {
     "duration": 0.064887,
     "end_time": "2021-09-24T05:30:08.048755",
     "exception": false,
     "start_time": "2021-09-24T05:30:07.983868",
     "status": "completed"
    },
    "tags": []
   },
   "outputs": [
    {
     "data": {
      "text/html": [
       "<div>\n",
       "<style scoped>\n",
       "    .dataframe tbody tr th:only-of-type {\n",
       "        vertical-align: middle;\n",
       "    }\n",
       "\n",
       "    .dataframe tbody tr th {\n",
       "        vertical-align: top;\n",
       "    }\n",
       "\n",
       "    .dataframe thead th {\n",
       "        text-align: right;\n",
       "    }\n",
       "</style>\n",
       "<table border=\"1\" class=\"dataframe\">\n",
       "  <thead>\n",
       "    <tr style=\"text-align: right;\">\n",
       "      <th></th>\n",
       "      <th>RECORD_TIME</th>\n",
       "    </tr>\n",
       "  </thead>\n",
       "  <tbody>\n",
       "    <tr>\n",
       "      <th>0</th>\n",
       "      <td>2021-09-24 07:30</td>\n",
       "    </tr>\n",
       "    <tr>\n",
       "      <th>1</th>\n",
       "      <td>2021-09-24 07:00</td>\n",
       "    </tr>\n",
       "  </tbody>\n",
       "</table>\n",
       "</div>"
      ],
      "text/plain": [
       "        RECORD_TIME\n",
       "0  2021-09-24 07:30\n",
       "1  2021-09-24 07:00"
      ]
     },
     "execution_count": 3,
     "metadata": {},
     "output_type": "execute_result"
    }
   ],
   "source": [
    "timestamps"
   ]
  },
  {
   "cell_type": "code",
   "execution_count": 4,
   "id": "alternate-victory",
   "metadata": {
    "execution": {
     "iopub.execute_input": "2021-09-24T05:30:08.099502Z",
     "iopub.status.busy": "2021-09-24T05:30:08.097565Z",
     "iopub.status.idle": "2021-09-24T05:30:08.625092Z",
     "shell.execute_reply": "2021-09-24T05:30:08.626287Z"
    },
    "papermill": {
     "duration": 0.557145,
     "end_time": "2021-09-24T05:30:08.626681",
     "exception": false,
     "start_time": "2021-09-24T05:30:08.069536",
     "status": "completed"
    },
    "tags": []
   },
   "outputs": [],
   "source": [
    "df = pd.read_sql(\"select * from EBAY_TOP_BERLIN where record_time in (select distinct record_time from EBAY_TOP_BERLIN order by record_time desc limit 2)\", sqlite3.connect(\"UsedObjects.db\"))"
   ]
  },
  {
   "cell_type": "code",
   "execution_count": 5,
   "id": "popular-active",
   "metadata": {
    "execution": {
     "iopub.execute_input": "2021-09-24T05:30:08.696466Z",
     "iopub.status.busy": "2021-09-24T05:30:08.684832Z",
     "iopub.status.idle": "2021-09-24T05:30:08.712965Z",
     "shell.execute_reply": "2021-09-24T05:30:08.714152Z"
    },
    "papermill": {
     "duration": 0.067674,
     "end_time": "2021-09-24T05:30:08.714550",
     "exception": false,
     "start_time": "2021-09-24T05:30:08.646876",
     "status": "completed"
    },
    "tags": []
   },
   "outputs": [],
   "source": [
    "df_pivot = df.pivot_table(index=\"PRODUCT\", columns = \"RECORD_TIME\", values = \"LISTING_COUNT\")"
   ]
  },
  {
   "cell_type": "code",
   "execution_count": 6,
   "id": "union-huntington",
   "metadata": {
    "execution": {
     "iopub.execute_input": "2021-09-24T05:30:08.771357Z",
     "iopub.status.busy": "2021-09-24T05:30:08.769160Z",
     "iopub.status.idle": "2021-09-24T05:30:08.774687Z",
     "shell.execute_reply": "2021-09-24T05:30:08.776184Z"
    },
    "papermill": {
     "duration": 0.040811,
     "end_time": "2021-09-24T05:30:08.776629",
     "exception": false,
     "start_time": "2021-09-24T05:30:08.735818",
     "status": "completed"
    },
    "tags": []
   },
   "outputs": [],
   "source": [
    "df_pivot.columns = [\"stamp_1\", \"stamp_2\"]\n",
    "df_pivot_diff = df_pivot.diff(axis=1)"
   ]
  },
  {
   "cell_type": "code",
   "execution_count": 7,
   "id": "fifth-motion",
   "metadata": {
    "execution": {
     "iopub.execute_input": "2021-09-24T05:30:08.831572Z",
     "iopub.status.busy": "2021-09-24T05:30:08.828835Z",
     "iopub.status.idle": "2021-09-24T05:30:10.316683Z",
     "shell.execute_reply": "2021-09-24T05:30:10.317935Z"
    },
    "papermill": {
     "duration": 1.521129,
     "end_time": "2021-09-24T05:30:10.318348",
     "exception": false,
     "start_time": "2021-09-24T05:30:08.797219",
     "status": "completed"
    },
    "tags": []
   },
   "outputs": [
    {
     "data": {
      "text/plain": [
       "<AxesSubplot:ylabel='PRODUCT'>"
      ]
     },
     "execution_count": 7,
     "metadata": {},
     "output_type": "execute_result"
    },
    {
     "data": {
      "image/png": "[encoded data removed]",
      "text/plain": [
       "<Figure size 432x288 with 1 Axes>"
      ]
     },
     "metadata": {
      "needs_background": "light"
     },
     "output_type": "display_data"
    }
   ],
   "source": [
    "df_pivot_diff.sort_values(\"stamp_2\", ascending = False)[\"stamp_2\"].head(10).plot.barh()"
   ]
  },
  {
   "cell_type": "code",
   "execution_count": null,
   "id": "extra-executive",
   "metadata": {
    "papermill": {
     "duration": 0.021861,
     "end_time": "2021-09-24T05:30:10.364275",
     "exception": false,
     "start_time": "2021-09-24T05:30:10.342414",
     "status": "completed"
    },
    "tags": []
   },
   "outputs": [],
   "source": []
  }
 ],
 "metadata": {
  "kernelspec": {
   "display_name": "Python 3",
   "language": "python",
   "name": "python3"
  },
  "language_info": {
   "codemirror_mode": {
    "name": "ipython",
    "version": 3
   },
   "file_extension": ".py",
   "mimetype": "text/x-python",
   "name": "python",
   "nbconvert_exporter": "python",
   "pygments_lexer": "ipython3",
   "version": "3.9.5"
  },
  "papermill": {
   "default_parameters": {},
   "duration": 6.705854,
   "end_time": "2021-09-24T05:30:11.007586",
   "environment_variables": {},
   "exception": null,
   "input_path": "eBay_Overview.ipynb",
   "output_path": "eBay_Overview.ipynb",
   "parameters": {},
   "start_time": "2021-09-24T05:30:04.301732",
   "version": "2.3.3"
  }
 },
 "nbformat": 4,
 "nbformat_minor": 5
}