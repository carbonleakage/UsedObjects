{
 "cells": [
  {
   "cell_type": "code",
   "execution_count": 1,
   "id": "reverse-picking",
   "metadata": {
    "execution": {
     "iopub.execute_input": "2021-10-18T22:30:07.207009Z",
     "iopub.status.busy": "2021-10-18T22:30:07.205071Z",
     "iopub.status.idle": "2021-10-18T22:30:08.011725Z",
     "shell.execute_reply": "2021-10-18T22:30:08.010166Z"
    },
    "papermill": {
     "duration": 0.85076,
     "end_time": "2021-10-18T22:30:08.012115",
     "exception": false,
     "start_time": "2021-10-18T22:30:07.161355",
     "status": "completed"
    },
    "tags": []
   },
   "outputs": [],
   "source": [
    "import pandas as pd\n",
    "import sqlite3"
   ]
  },
  {
   "cell_type": "code",
   "execution_count": 2,
   "id": "innovative-syndrome",
   "metadata": {
    "execution": {
     "iopub.execute_input": "2021-10-18T22:30:08.061786Z",
     "iopub.status.busy": "2021-10-18T22:30:08.059738Z",
     "iopub.status.idle": "2021-10-18T22:30:08.639850Z",
     "shell.execute_reply": "2021-10-18T22:30:08.641217Z"
    },
    "papermill": {
     "duration": 0.609555,
     "end_time": "2021-10-18T22:30:08.641649",
     "exception": false,
     "start_time": "2021-10-18T22:30:08.032094",
     "status": "completed"
    },
    "tags": []
   },
   "outputs": [],
   "source": [
    "timestamps = pd.read_sql(\"select distinct record_time from EBAY_TOP_BERLIN order by record_time desc limit 2\", sqlite3.connect(\"UsedObjects.db\"))"
   ]
  },
  {
   "cell_type": "code",
   "execution_count": 3,
   "id": "periodic-identification",
   "metadata": {
    "execution": {
     "iopub.execute_input": "2021-10-18T22:30:08.723514Z",
     "iopub.status.busy": "2021-10-18T22:30:08.718415Z",
     "iopub.status.idle": "2021-10-18T22:30:08.738017Z",
     "shell.execute_reply": "2021-10-18T22:30:08.739231Z"
    },
    "papermill": {
     "duration": 0.069841,
     "end_time": "2021-10-18T22:30:08.739622",
     "exception": false,
     "start_time": "2021-10-18T22:30:08.669781",
     "status": "completed"
    },
    "tags": []
   },
   "outputs": [
    {
     "data": {
      "text/html": [
       "<div>\n",
       "<style scoped>\n",
       "    .dataframe tbody tr th:only-of-type {\n",
       "        vertical-align: middle;\n",
       "    }\n",
       "\n",
       "    .dataframe tbody tr th {\n",
       "        vertical-align: top;\n",
       "    }\n",
       "\n",
       "    .dataframe thead th {\n",
       "        text-align: right;\n",
       "    }\n",
       "</style>\n",
       "<table border=\"1\" class=\"dataframe\">\n",
       "  <thead>\n",
       "    <tr style=\"text-align: right;\">\n",
       "      <th></th>\n",
       "      <th>RECORD_TIME</th>\n",
       "    </tr>\n",
       "  </thead>\n",
       "  <tbody>\n",
       "    <tr>\n",
       "      <th>0</th>\n",
       "      <td>2021-10-19 00:30</td>\n",
       "    </tr>\n",
       "    <tr>\n",
       "      <th>1</th>\n",
       "      <td>2021-10-19 00:00</td>\n",
       "    </tr>\n",
       "  </tbody>\n",
       "</table>\n",
       "</div>"
      ],
      "text/plain": [
       "        RECORD_TIME\n",
       "0  2021-10-19 00:30\n",
       "1  2021-10-19 00:00"
      ]
     },
     "execution_count": 3,
     "metadata": {},
     "output_type": "execute_result"
    }
   ],
   "source": [
    "timestamps"
   ]
  },
  {
   "cell_type": "code",
   "execution_count": 4,
   "id": "alternate-victory",
   "metadata": {
    "execution": {
     "iopub.execute_input": "2021-10-18T22:30:08.795880Z",
     "iopub.status.busy": "2021-10-18T22:30:08.794059Z",
     "iopub.status.idle": "2021-10-18T22:30:09.630511Z",
     "shell.execute_reply": "2021-10-18T22:30:09.631708Z"
    },
    "papermill": {
     "duration": 0.868327,
     "end_time": "2021-10-18T22:30:09.632102",
     "exception": false,
     "start_time": "2021-10-18T22:30:08.763775",
     "status": "completed"
    },
    "tags": []
   },
   "outputs": [],
   "source": [
    "df = pd.read_sql(\"select * from EBAY_TOP_BERLIN where record_time in (select distinct record_time from EBAY_TOP_BERLIN order by record_time desc limit 2)\", sqlite3.connect(\"UsedObjects.db\"))"
   ]
  },
  {
   "cell_type": "code",
   "execution_count": 5,
   "id": "popular-active",
   "metadata": {
    "execution": {
     "iopub.execute_input": "2021-10-18T22:30:09.700520Z",
     "iopub.status.busy": "2021-10-18T22:30:09.689009Z",
     "iopub.status.idle": "2021-10-18T22:30:09.716419Z",
     "shell.execute_reply": "2021-10-18T22:30:09.717876Z"
    },
    "papermill": {
     "duration": 0.06571,
     "end_time": "2021-10-18T22:30:09.718288",
     "exception": false,
     "start_time": "2021-10-18T22:30:09.652578",
     "status": "completed"
    },
    "tags": []
   },
   "outputs": [],
   "source": [
    "df_pivot = df.pivot_table(index=\"PRODUCT\", columns = \"RECORD_TIME\", values = \"LISTING_COUNT\")"
   ]
  },
  {
   "cell_type": "code",
   "execution_count": 6,
   "id": "union-huntington",
   "metadata": {
    "execution": {
     "iopub.execute_input": "2021-10-18T22:30:09.776797Z",
     "iopub.status.busy": "2021-10-18T22:30:09.774333Z",
     "iopub.status.idle": "2021-10-18T22:30:09.780175Z",
     "shell.execute_reply": "2021-10-18T22:30:09.781443Z"
    },
    "papermill": {
     "duration": 0.0422,
     "end_time": "2021-10-18T22:30:09.781879",
     "exception": false,
     "start_time": "2021-10-18T22:30:09.739679",
     "status": "completed"
    },
    "tags": []
   },
   "outputs": [],
   "source": [
    "df_pivot.columns = [\"stamp_1\", \"stamp_2\"]\n",
    "df_pivot_diff = df_pivot.diff(axis=1)"
   ]
  },
  {
   "cell_type": "code",
   "execution_count": 7,
   "id": "fifth-motion",
   "metadata": {
    "execution": {
     "iopub.execute_input": "2021-10-18T22:30:09.836043Z",
     "iopub.status.busy": "2021-10-18T22:30:09.833783Z",
     "iopub.status.idle": "2021-10-18T22:30:11.326953Z",
     "shell.execute_reply": "2021-10-18T22:30:11.328230Z"
    },
    "papermill": {
     "duration": 1.526246,
     "end_time": "2021-10-18T22:30:11.328660",
     "exception": false,
     "start_time": "2021-10-18T22:30:09.802414",
     "status": "completed"
    },
    "tags": []
   },
   "outputs": [
    {
     "data": {
      "text/plain": [
       "<AxesSubplot:ylabel='PRODUCT'>"
      ]
     },
     "execution_count": 7,
     "metadata": {},
     "output_type": "execute_result"
    },
    {
     "data": {
      "image/png": "[encoded data removed]",
      "text/plain": [
       "<Figure size 432x288 with 1 Axes>"
      ]
     },
     "metadata": {
      "needs_background": "light"
     },
     "output_type": "display_data"
    }
   ],
   "source": [
    "df_pivot_diff.sort_values(\"stamp_2\", ascending = False)[\"stamp_2\"].head(10).plot.barh()"
   ]
  },
  {
   "cell_type": "code",
   "execution_count": null,
   "id": "extra-executive",
   "metadata": {
    "papermill": {
     "duration": 0.021981,
     "end_time": "2021-10-18T22:30:11.375299",
     "exception": false,
     "start_time": "2021-10-18T22:30:11.353318",
     "status": "completed"
    },
    "tags": []
   },
   "outputs": [],
   "source": []
  }
 ],
 "metadata": {
  "kernelspec": {
   "display_name": "Python 3",
   "language": "python",
   "name": "python3"
  },
  "language_info": {
   "codemirror_mode": {
    "name": "ipython",
    "version": 3
   },
   "file_extension": ".py",
   "mimetype": "text/x-python",
   "name": "python",
   "nbconvert_exporter": "python",
   "pygments_lexer": "ipython3",
   "version": "3.9.5"
  },
  "papermill": {
   "default_parameters": {},
   "duration": 7.823089,
   "end_time": "2021-10-18T22:30:12.581109",
   "environment_variables": {},
   "exception": null,
   "input_path": "eBay_Overview.ipynb",
   "output_path": "eBay_Overview.ipynb",
   "parameters": {},
   "start_time": "2021-10-18T22:30:04.758020",
   "version": "2.3.3"
  }
 },
 "nbformat": 4,
 "nbformat_minor": 5
}