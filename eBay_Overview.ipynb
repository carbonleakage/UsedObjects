{
 "cells": [
  {
   "cell_type": "code",
   "execution_count": 1,
   "id": "reverse-picking",
   "metadata": {
    "execution": {
     "iopub.execute_input": "2021-12-08T18:30:07.414765Z",
     "iopub.status.busy": "2021-12-08T18:30:07.412403Z",
     "iopub.status.idle": "2021-12-08T18:30:08.364735Z",
     "shell.execute_reply": "2021-12-08T18:30:08.366200Z"
    },
    "papermill": {
     "duration": 1.001028,
     "end_time": "2021-12-08T18:30:08.366899",
     "exception": false,
     "start_time": "2021-12-08T18:30:07.365871",
     "status": "completed"
    },
    "tags": []
   },
   "outputs": [],
   "source": [
    "import pandas as pd\n",
    "import sqlite3"
   ]
  },
  {
   "cell_type": "code",
   "execution_count": 2,
   "id": "innovative-syndrome",
   "metadata": {
    "execution": {
     "iopub.execute_input": "2021-12-08T18:30:08.429347Z",
     "iopub.status.busy": "2021-12-08T18:30:08.427037Z",
     "iopub.status.idle": "2021-12-08T18:30:09.467880Z",
     "shell.execute_reply": "2021-12-08T18:30:09.470973Z"
    },
    "papermill": {
     "duration": 1.078491,
     "end_time": "2021-12-08T18:30:09.471774",
     "exception": false,
     "start_time": "2021-12-08T18:30:08.393283",
     "status": "completed"
    },
    "tags": []
   },
   "outputs": [],
   "source": [
    "timestamps = pd.read_sql(\"select distinct record_time from EBAY_TOP_BERLIN order by record_time desc limit 2\", sqlite3.connect(\"UsedObjects.db\"))"
   ]
  },
  {
   "cell_type": "code",
   "execution_count": 3,
   "id": "periodic-identification",
   "metadata": {
    "execution": {
     "iopub.execute_input": "2021-12-08T18:30:09.558790Z",
     "iopub.status.busy": "2021-12-08T18:30:09.551922Z",
     "iopub.status.idle": "2021-12-08T18:30:09.575671Z",
     "shell.execute_reply": "2021-12-08T18:30:09.577300Z"
    },
    "papermill": {
     "duration": 0.076083,
     "end_time": "2021-12-08T18:30:09.577841",
     "exception": false,
     "start_time": "2021-12-08T18:30:09.501758",
     "status": "completed"
    },
    "tags": []
   },
   "outputs": [
    {
     "data": {
      "text/html": [
       "<div>\n",
       "<style scoped>\n",
       "    .dataframe tbody tr th:only-of-type {\n",
       "        vertical-align: middle;\n",
       "    }\n",
       "\n",
       "    .dataframe tbody tr th {\n",
       "        vertical-align: top;\n",
       "    }\n",
       "\n",
       "    .dataframe thead th {\n",
       "        text-align: right;\n",
       "    }\n",
       "</style>\n",
       "<table border=\"1\" class=\"dataframe\">\n",
       "  <thead>\n",
       "    <tr style=\"text-align: right;\">\n",
       "      <th></th>\n",
       "      <th>RECORD_TIME</th>\n",
       "    </tr>\n",
       "  </thead>\n",
       "  <tbody>\n",
       "    <tr>\n",
       "      <th>0</th>\n",
       "      <td>2021-12-08 19:30</td>\n",
       "    </tr>\n",
       "    <tr>\n",
       "      <th>1</th>\n",
       "      <td>2021-12-08 19:00</td>\n",
       "    </tr>\n",
       "  </tbody>\n",
       "</table>\n",
       "</div>"
      ],
      "text/plain": [
       "        RECORD_TIME\n",
       "0  2021-12-08 19:30\n",
       "1  2021-12-08 19:00"
      ]
     },
     "execution_count": 3,
     "metadata": {},
     "output_type": "execute_result"
    }
   ],
   "source": [
    "timestamps"
   ]
  },
  {
   "cell_type": "code",
   "execution_count": 4,
   "id": "alternate-victory",
   "metadata": {
    "execution": {
     "iopub.execute_input": "2021-12-08T18:30:09.634431Z",
     "iopub.status.busy": "2021-12-08T18:30:09.632355Z",
     "iopub.status.idle": "2021-12-08T18:30:11.121044Z",
     "shell.execute_reply": "2021-12-08T18:30:11.124406Z"
    },
    "papermill": {
     "duration": 1.523746,
     "end_time": "2021-12-08T18:30:11.125434",
     "exception": false,
     "start_time": "2021-12-08T18:30:09.601688",
     "status": "completed"
    },
    "tags": []
   },
   "outputs": [],
   "source": [
    "df = pd.read_sql(\"select * from EBAY_TOP_BERLIN where record_time in (select distinct record_time from EBAY_TOP_BERLIN order by record_time desc limit 2)\", sqlite3.connect(\"UsedObjects.db\"))"
   ]
  },
  {
   "cell_type": "code",
   "execution_count": 5,
   "id": "popular-active",
   "metadata": {
    "execution": {
     "iopub.execute_input": "2021-12-08T18:30:11.237949Z",
     "iopub.status.busy": "2021-12-08T18:30:11.223833Z",
     "iopub.status.idle": "2021-12-08T18:30:11.268612Z",
     "shell.execute_reply": "2021-12-08T18:30:11.270514Z"
    },
    "papermill": {
     "duration": 0.111607,
     "end_time": "2021-12-08T18:30:11.271147",
     "exception": false,
     "start_time": "2021-12-08T18:30:11.159540",
     "status": "completed"
    },
    "tags": []
   },
   "outputs": [],
   "source": [
    "df_pivot = df.pivot_table(index=\"PRODUCT\", columns = \"RECORD_TIME\", values = \"LISTING_COUNT\")"
   ]
  },
  {
   "cell_type": "code",
   "execution_count": 6,
   "id": "union-huntington",
   "metadata": {
    "execution": {
     "iopub.execute_input": "2021-12-08T18:30:11.363865Z",
     "iopub.status.busy": "2021-12-08T18:30:11.360565Z",
     "iopub.status.idle": "2021-12-08T18:30:11.370567Z",
     "shell.execute_reply": "2021-12-08T18:30:11.373017Z"
    },
    "papermill": {
     "duration": 0.069014,
     "end_time": "2021-12-08T18:30:11.373840",
     "exception": false,
     "start_time": "2021-12-08T18:30:11.304826",
     "status": "completed"
    },
    "tags": []
   },
   "outputs": [],
   "source": [
    "df_pivot.columns = [\"stamp_1\", \"stamp_2\"]\n",
    "df_pivot_diff = df_pivot.diff(axis=1)"
   ]
  },
  {
   "cell_type": "code",
   "execution_count": 7,
   "id": "fifth-motion",
   "metadata": {
    "execution": {
     "iopub.execute_input": "2021-12-08T18:30:11.460588Z",
     "iopub.status.busy": "2021-12-08T18:30:11.447772Z",
     "iopub.status.idle": "2021-12-08T18:30:13.147781Z",
     "shell.execute_reply": "2021-12-08T18:30:13.149228Z"
    },
    "papermill": {
     "duration": 1.744363,
     "end_time": "2021-12-08T18:30:13.149684",
     "exception": false,
     "start_time": "2021-12-08T18:30:11.405321",
     "status": "completed"
    },
    "tags": []
   },
   "outputs": [
    {
     "data": {
      "text/plain": [
       "<AxesSubplot:ylabel='PRODUCT'>"
      ]
     },
     "execution_count": 7,
     "metadata": {},
     "output_type": "execute_result"
    },
    {
     "data": {
      "image/png": "[encoded data removed]",
      "text/plain": [
       "<Figure size 432x288 with 1 Axes>"
      ]
     },
     "metadata": {
      "needs_background": "light"
     },
     "output_type": "display_data"
    }
   ],
   "source": [
    "df_pivot_diff.sort_values(\"stamp_2\", ascending = False)[\"stamp_2\"].head(10).plot.barh()"
   ]
  },
  {
   "cell_type": "code",
   "execution_count": null,
   "id": "extra-executive",
   "metadata": {
    "papermill": {
     "duration": 0.022225,
     "end_time": "2021-12-08T18:30:13.196826",
     "exception": false,
     "start_time": "2021-12-08T18:30:13.174601",
     "status": "completed"
    },
    "tags": []
   },
   "outputs": [],
   "source": []
  }
 ],
 "metadata": {
  "kernelspec": {
   "display_name": "Python 3",
   "language": "python",
   "name": "python3"
  },
  "language_info": {
   "codemirror_mode": {
    "name": "ipython",
    "version": 3
   },
   "file_extension": ".py",
   "mimetype": "text/x-python",
   "name": "python",
   "nbconvert_exporter": "python",
   "pygments_lexer": "ipython3",
   "version": "3.9.5"
  },
  "papermill": {
   "default_parameters": {},
   "duration": 9.955479,
   "end_time": "2021-12-08T18:30:14.593594",
   "environment_variables": {},
   "exception": null,
   "input_path": "eBay_Overview.ipynb",
   "output_path": "eBay_Overview.ipynb",
   "parameters": {},
   "start_time": "2021-12-08T18:30:04.638115",
   "version": "2.3.3"
  }
 },
 "nbformat": 4,
 "nbformat_minor": 5
}