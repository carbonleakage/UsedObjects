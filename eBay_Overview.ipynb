{
 "cells": [
  {
   "cell_type": "code",
   "execution_count": 1,
   "id": "reverse-picking",
   "metadata": {
    "execution": {
     "iopub.execute_input": "2021-09-28T01:00:07.125082Z",
     "iopub.status.busy": "2021-09-28T01:00:07.123112Z",
     "iopub.status.idle": "2021-09-28T01:00:07.934318Z",
     "shell.execute_reply": "2021-09-28T01:00:07.935797Z"
    },
    "papermill": {
     "duration": 0.865478,
     "end_time": "2021-09-28T01:00:07.936446",
     "exception": false,
     "start_time": "2021-09-28T01:00:07.070968",
     "status": "completed"
    },
    "tags": []
   },
   "outputs": [],
   "source": [
    "import pandas as pd\n",
    "import sqlite3"
   ]
  },
  {
   "cell_type": "code",
   "execution_count": 2,
   "id": "innovative-syndrome",
   "metadata": {
    "execution": {
     "iopub.execute_input": "2021-09-28T01:00:07.988544Z",
     "iopub.status.busy": "2021-09-28T01:00:07.986141Z",
     "iopub.status.idle": "2021-09-28T01:00:08.387841Z",
     "shell.execute_reply": "2021-09-28T01:00:08.389047Z"
    },
    "papermill": {
     "duration": 0.431604,
     "end_time": "2021-09-28T01:00:08.389442",
     "exception": false,
     "start_time": "2021-09-28T01:00:07.957838",
     "status": "completed"
    },
    "tags": []
   },
   "outputs": [],
   "source": [
    "timestamps = pd.read_sql(\"select distinct record_time from EBAY_TOP_BERLIN order by record_time desc limit 2\", sqlite3.connect(\"UsedObjects.db\"))"
   ]
  },
  {
   "cell_type": "code",
   "execution_count": 3,
   "id": "periodic-identification",
   "metadata": {
    "execution": {
     "iopub.execute_input": "2021-09-28T01:00:08.457905Z",
     "iopub.status.busy": "2021-09-28T01:00:08.455873Z",
     "iopub.status.idle": "2021-09-28T01:00:08.476077Z",
     "shell.execute_reply": "2021-09-28T01:00:08.478171Z"
    },
    "papermill": {
     "duration": 0.066976,
     "end_time": "2021-09-28T01:00:08.478850",
     "exception": false,
     "start_time": "2021-09-28T01:00:08.411874",
     "status": "completed"
    },
    "tags": []
   },
   "outputs": [
    {
     "data": {
      "text/html": [
       "<div>\n",
       "<style scoped>\n",
       "    .dataframe tbody tr th:only-of-type {\n",
       "        vertical-align: middle;\n",
       "    }\n",
       "\n",
       "    .dataframe tbody tr th {\n",
       "        vertical-align: top;\n",
       "    }\n",
       "\n",
       "    .dataframe thead th {\n",
       "        text-align: right;\n",
       "    }\n",
       "</style>\n",
       "<table border=\"1\" class=\"dataframe\">\n",
       "  <thead>\n",
       "    <tr style=\"text-align: right;\">\n",
       "      <th></th>\n",
       "      <th>RECORD_TIME</th>\n",
       "    </tr>\n",
       "  </thead>\n",
       "  <tbody>\n",
       "    <tr>\n",
       "      <th>0</th>\n",
       "      <td>2021-09-28 03:00</td>\n",
       "    </tr>\n",
       "    <tr>\n",
       "      <th>1</th>\n",
       "      <td>2021-09-28 02:30</td>\n",
       "    </tr>\n",
       "  </tbody>\n",
       "</table>\n",
       "</div>"
      ],
      "text/plain": [
       "        RECORD_TIME\n",
       "0  2021-09-28 03:00\n",
       "1  2021-09-28 02:30"
      ]
     },
     "execution_count": 3,
     "metadata": {},
     "output_type": "execute_result"
    }
   ],
   "source": [
    "timestamps"
   ]
  },
  {
   "cell_type": "code",
   "execution_count": 4,
   "id": "alternate-victory",
   "metadata": {
    "execution": {
     "iopub.execute_input": "2021-09-28T01:00:08.530516Z",
     "iopub.status.busy": "2021-09-28T01:00:08.528673Z",
     "iopub.status.idle": "2021-09-28T01:00:09.114847Z",
     "shell.execute_reply": "2021-09-28T01:00:09.116090Z"
    },
    "papermill": {
     "duration": 0.616037,
     "end_time": "2021-09-28T01:00:09.116480",
     "exception": false,
     "start_time": "2021-09-28T01:00:08.500443",
     "status": "completed"
    },
    "tags": []
   },
   "outputs": [],
   "source": [
    "df = pd.read_sql(\"select * from EBAY_TOP_BERLIN where record_time in (select distinct record_time from EBAY_TOP_BERLIN order by record_time desc limit 2)\", sqlite3.connect(\"UsedObjects.db\"))"
   ]
  },
  {
   "cell_type": "code",
   "execution_count": 5,
   "id": "popular-active",
   "metadata": {
    "execution": {
     "iopub.execute_input": "2021-09-28T01:00:09.192007Z",
     "iopub.status.busy": "2021-09-28T01:00:09.179171Z",
     "iopub.status.idle": "2021-09-28T01:00:09.208421Z",
     "shell.execute_reply": "2021-09-28T01:00:09.209773Z"
    },
    "papermill": {
     "duration": 0.070216,
     "end_time": "2021-09-28T01:00:09.210208",
     "exception": false,
     "start_time": "2021-09-28T01:00:09.139992",
     "status": "completed"
    },
    "tags": []
   },
   "outputs": [],
   "source": [
    "df_pivot = df.pivot_table(index=\"PRODUCT\", columns = \"RECORD_TIME\", values = \"LISTING_COUNT\")"
   ]
  },
  {
   "cell_type": "code",
   "execution_count": 6,
   "id": "union-huntington",
   "metadata": {
    "execution": {
     "iopub.execute_input": "2021-09-28T01:00:09.270535Z",
     "iopub.status.busy": "2021-09-28T01:00:09.268106Z",
     "iopub.status.idle": "2021-09-28T01:00:09.273987Z",
     "shell.execute_reply": "2021-09-28T01:00:09.275350Z"
    },
    "papermill": {
     "duration": 0.042345,
     "end_time": "2021-09-28T01:00:09.275769",
     "exception": false,
     "start_time": "2021-09-28T01:00:09.233424",
     "status": "completed"
    },
    "tags": []
   },
   "outputs": [],
   "source": [
    "df_pivot.columns = [\"stamp_1\", \"stamp_2\"]\n",
    "df_pivot_diff = df_pivot.diff(axis=1)"
   ]
  },
  {
   "cell_type": "code",
   "execution_count": 7,
   "id": "fifth-motion",
   "metadata": {
    "execution": {
     "iopub.execute_input": "2021-09-28T01:00:09.330218Z",
     "iopub.status.busy": "2021-09-28T01:00:09.327903Z",
     "iopub.status.idle": "2021-09-28T01:00:10.824586Z",
     "shell.execute_reply": "2021-09-28T01:00:10.825862Z"
    },
    "papermill": {
     "duration": 1.530002,
     "end_time": "2021-09-28T01:00:10.826275",
     "exception": false,
     "start_time": "2021-09-28T01:00:09.296273",
     "status": "completed"
    },
    "tags": []
   },
   "outputs": [
    {
     "data": {
      "text/plain": [
       "<AxesSubplot:ylabel='PRODUCT'>"
      ]
     },
     "execution_count": 7,
     "metadata": {},
     "output_type": "execute_result"
    },
    {
     "data": {
      "image/png": "[encoded data removed]",
      "text/plain": [
       "<Figure size 432x288 with 1 Axes>"
      ]
     },
     "metadata": {
      "needs_background": "light"
     },
     "output_type": "display_data"
    }
   ],
   "source": [
    "df_pivot_diff.sort_values(\"stamp_2\", ascending = False)[\"stamp_2\"].head(10).plot.barh()"
   ]
  },
  {
   "cell_type": "code",
   "execution_count": null,
   "id": "extra-executive",
   "metadata": {
    "papermill": {
     "duration": 0.022118,
     "end_time": "2021-09-28T01:00:10.874540",
     "exception": false,
     "start_time": "2021-09-28T01:00:10.852422",
     "status": "completed"
    },
    "tags": []
   },
   "outputs": [],
   "source": []
  }
 ],
 "metadata": {
  "kernelspec": {
   "display_name": "Python 3",
   "language": "python",
   "name": "python3"
  },
  "language_info": {
   "codemirror_mode": {
    "name": "ipython",
    "version": 3
   },
   "file_extension": ".py",
   "mimetype": "text/x-python",
   "name": "python",
   "nbconvert_exporter": "python",
   "pygments_lexer": "ipython3",
   "version": "3.9.5"
  },
  "papermill": {
   "default_parameters": {},
   "duration": 7.82723,
   "end_time": "2021-09-28T01:00:12.488900",
   "environment_variables": {},
   "exception": null,
   "input_path": "eBay_Overview.ipynb",
   "output_path": "eBay_Overview.ipynb",
   "parameters": {},
   "start_time": "2021-09-28T01:00:04.661670",
   "version": "2.3.3"
  }
 },
 "nbformat": 4,
 "nbformat_minor": 5
}