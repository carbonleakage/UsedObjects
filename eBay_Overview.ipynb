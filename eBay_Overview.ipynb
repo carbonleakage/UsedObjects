{
 "cells": [
  {
   "cell_type": "code",
   "execution_count": 1,
   "id": "reverse-picking",
   "metadata": {
    "execution": {
     "iopub.execute_input": "2021-12-08T10:00:07.976449Z",
     "iopub.status.busy": "2021-12-08T10:00:07.974444Z",
     "iopub.status.idle": "2021-12-08T10:00:08.930411Z",
     "shell.execute_reply": "2021-12-08T10:00:08.931993Z"
    },
    "papermill": {
     "duration": 1.004327,
     "end_time": "2021-12-08T10:00:08.932754",
     "exception": false,
     "start_time": "2021-12-08T10:00:07.928427",
     "status": "completed"
    },
    "tags": []
   },
   "outputs": [],
   "source": [
    "import pandas as pd\n",
    "import sqlite3"
   ]
  },
  {
   "cell_type": "code",
   "execution_count": 2,
   "id": "innovative-syndrome",
   "metadata": {
    "execution": {
     "iopub.execute_input": "2021-12-08T10:00:08.994354Z",
     "iopub.status.busy": "2021-12-08T10:00:08.992044Z",
     "iopub.status.idle": "2021-12-08T10:00:10.001668Z",
     "shell.execute_reply": "2021-12-08T10:00:10.003373Z"
    },
    "papermill": {
     "duration": 1.044256,
     "end_time": "2021-12-08T10:00:10.003874",
     "exception": false,
     "start_time": "2021-12-08T10:00:08.959618",
     "status": "completed"
    },
    "tags": []
   },
   "outputs": [],
   "source": [
    "timestamps = pd.read_sql(\"select distinct record_time from EBAY_TOP_BERLIN order by record_time desc limit 2\", sqlite3.connect(\"UsedObjects.db\"))"
   ]
  },
  {
   "cell_type": "code",
   "execution_count": 3,
   "id": "periodic-identification",
   "metadata": {
    "execution": {
     "iopub.execute_input": "2021-12-08T10:00:10.076724Z",
     "iopub.status.busy": "2021-12-08T10:00:10.074415Z",
     "iopub.status.idle": "2021-12-08T10:00:10.095902Z",
     "shell.execute_reply": "2021-12-08T10:00:10.097376Z"
    },
    "papermill": {
     "duration": 0.072809,
     "end_time": "2021-12-08T10:00:10.097855",
     "exception": false,
     "start_time": "2021-12-08T10:00:10.025046",
     "status": "completed"
    },
    "tags": []
   },
   "outputs": [
    {
     "data": {
      "text/html": [
       "<div>\n",
       "<style scoped>\n",
       "    .dataframe tbody tr th:only-of-type {\n",
       "        vertical-align: middle;\n",
       "    }\n",
       "\n",
       "    .dataframe tbody tr th {\n",
       "        vertical-align: top;\n",
       "    }\n",
       "\n",
       "    .dataframe thead th {\n",
       "        text-align: right;\n",
       "    }\n",
       "</style>\n",
       "<table border=\"1\" class=\"dataframe\">\n",
       "  <thead>\n",
       "    <tr style=\"text-align: right;\">\n",
       "      <th></th>\n",
       "      <th>RECORD_TIME</th>\n",
       "    </tr>\n",
       "  </thead>\n",
       "  <tbody>\n",
       "    <tr>\n",
       "      <th>0</th>\n",
       "      <td>2021-12-08 11:00</td>\n",
       "    </tr>\n",
       "    <tr>\n",
       "      <th>1</th>\n",
       "      <td>2021-12-08 10:30</td>\n",
       "    </tr>\n",
       "  </tbody>\n",
       "</table>\n",
       "</div>"
      ],
      "text/plain": [
       "        RECORD_TIME\n",
       "0  2021-12-08 11:00\n",
       "1  2021-12-08 10:30"
      ]
     },
     "execution_count": 3,
     "metadata": {},
     "output_type": "execute_result"
    }
   ],
   "source": [
    "timestamps"
   ]
  },
  {
   "cell_type": "code",
   "execution_count": 4,
   "id": "alternate-victory",
   "metadata": {
    "execution": {
     "iopub.execute_input": "2021-12-08T10:00:10.150223Z",
     "iopub.status.busy": "2021-12-08T10:00:10.148079Z",
     "iopub.status.idle": "2021-12-08T10:00:11.653368Z",
     "shell.execute_reply": "2021-12-08T10:00:11.655391Z"
    },
    "papermill": {
     "duration": 1.537882,
     "end_time": "2021-12-08T10:00:11.655858",
     "exception": false,
     "start_time": "2021-12-08T10:00:10.117976",
     "status": "completed"
    },
    "tags": []
   },
   "outputs": [],
   "source": [
    "df = pd.read_sql(\"select * from EBAY_TOP_BERLIN where record_time in (select distinct record_time from EBAY_TOP_BERLIN order by record_time desc limit 2)\", sqlite3.connect(\"UsedObjects.db\"))"
   ]
  },
  {
   "cell_type": "code",
   "execution_count": 5,
   "id": "popular-active",
   "metadata": {
    "execution": {
     "iopub.execute_input": "2021-12-08T10:00:11.758390Z",
     "iopub.status.busy": "2021-12-08T10:00:11.732011Z",
     "iopub.status.idle": "2021-12-08T10:00:11.790901Z",
     "shell.execute_reply": "2021-12-08T10:00:11.793272Z"
    },
    "papermill": {
     "duration": 0.117584,
     "end_time": "2021-12-08T10:00:11.793957",
     "exception": false,
     "start_time": "2021-12-08T10:00:11.676373",
     "status": "completed"
    },
    "tags": []
   },
   "outputs": [],
   "source": [
    "df_pivot = df.pivot_table(index=\"PRODUCT\", columns = \"RECORD_TIME\", values = \"LISTING_COUNT\")"
   ]
  },
  {
   "cell_type": "code",
   "execution_count": 6,
   "id": "union-huntington",
   "metadata": {
    "execution": {
     "iopub.execute_input": "2021-12-08T10:00:11.885508Z",
     "iopub.status.busy": "2021-12-08T10:00:11.882034Z",
     "iopub.status.idle": "2021-12-08T10:00:11.890766Z",
     "shell.execute_reply": "2021-12-08T10:00:11.892982Z"
    },
    "papermill": {
     "duration": 0.070155,
     "end_time": "2021-12-08T10:00:11.893705",
     "exception": false,
     "start_time": "2021-12-08T10:00:11.823550",
     "status": "completed"
    },
    "tags": []
   },
   "outputs": [],
   "source": [
    "df_pivot.columns = [\"stamp_1\", \"stamp_2\"]\n",
    "df_pivot_diff = df_pivot.diff(axis=1)"
   ]
  },
  {
   "cell_type": "code",
   "execution_count": 7,
   "id": "fifth-motion",
   "metadata": {
    "execution": {
     "iopub.execute_input": "2021-12-08T10:00:11.983930Z",
     "iopub.status.busy": "2021-12-08T10:00:11.979100Z",
     "iopub.status.idle": "2021-12-08T10:00:13.739079Z",
     "shell.execute_reply": "2021-12-08T10:00:13.740365Z"
    },
    "papermill": {
     "duration": 1.814258,
     "end_time": "2021-12-08T10:00:13.740844",
     "exception": false,
     "start_time": "2021-12-08T10:00:11.926586",
     "status": "completed"
    },
    "tags": []
   },
   "outputs": [
    {
     "data": {
      "text/plain": [
       "<AxesSubplot:ylabel='PRODUCT'>"
      ]
     },
     "execution_count": 7,
     "metadata": {},
     "output_type": "execute_result"
    },
    {
     "data": {
      "image/png": "[encoded data removed]",
      "text/plain": [
       "<Figure size 432x288 with 1 Axes>"
      ]
     },
     "metadata": {
      "needs_background": "light"
     },
     "output_type": "display_data"
    }
   ],
   "source": [
    "df_pivot_diff.sort_values(\"stamp_2\", ascending = False)[\"stamp_2\"].head(10).plot.barh()"
   ]
  },
  {
   "cell_type": "code",
   "execution_count": null,
   "id": "extra-executive",
   "metadata": {
    "papermill": {
     "duration": 0.022161,
     "end_time": "2021-12-08T10:00:13.787805",
     "exception": false,
     "start_time": "2021-12-08T10:00:13.765644",
     "status": "completed"
    },
    "tags": []
   },
   "outputs": [],
   "source": []
  }
 ],
 "metadata": {
  "kernelspec": {
   "display_name": "Python 3",
   "language": "python",
   "name": "python3"
  },
  "language_info": {
   "codemirror_mode": {
    "name": "ipython",
    "version": 3
   },
   "file_extension": ".py",
   "mimetype": "text/x-python",
   "name": "python",
   "nbconvert_exporter": "python",
   "pygments_lexer": "ipython3",
   "version": "3.9.5"
  },
  "papermill": {
   "default_parameters": {},
   "duration": 9.937258,
   "end_time": "2021-12-08T10:00:15.145434",
   "environment_variables": {},
   "exception": null,
   "input_path": "eBay_Overview.ipynb",
   "output_path": "eBay_Overview.ipynb",
   "parameters": {},
   "start_time": "2021-12-08T10:00:05.208176",
   "version": "2.3.3"
  }
 },
 "nbformat": 4,
 "nbformat_minor": 5
}