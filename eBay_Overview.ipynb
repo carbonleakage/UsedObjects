{
 "cells": [
  {
   "cell_type": "code",
   "execution_count": 1,
   "id": "reverse-picking",
   "metadata": {
    "execution": {
     "iopub.execute_input": "2021-11-18T10:00:07.141597Z",
     "iopub.status.busy": "2021-11-18T10:00:07.139177Z",
     "iopub.status.idle": "2021-11-18T10:00:08.081147Z",
     "shell.execute_reply": "2021-11-18T10:00:08.082742Z"
    },
    "papermill": {
     "duration": 0.990554,
     "end_time": "2021-11-18T10:00:08.083476",
     "exception": false,
     "start_time": "2021-11-18T10:00:07.092922",
     "status": "completed"
    },
    "tags": []
   },
   "outputs": [],
   "source": [
    "import pandas as pd\n",
    "import sqlite3"
   ]
  },
  {
   "cell_type": "code",
   "execution_count": 2,
   "id": "innovative-syndrome",
   "metadata": {
    "execution": {
     "iopub.execute_input": "2021-11-18T10:00:08.149475Z",
     "iopub.status.busy": "2021-11-18T10:00:08.147027Z",
     "iopub.status.idle": "2021-11-18T10:00:08.992047Z",
     "shell.execute_reply": "2021-11-18T10:00:08.993788Z"
    },
    "papermill": {
     "duration": 0.888965,
     "end_time": "2021-11-18T10:00:08.994313",
     "exception": false,
     "start_time": "2021-11-18T10:00:08.105348",
     "status": "completed"
    },
    "tags": []
   },
   "outputs": [],
   "source": [
    "timestamps = pd.read_sql(\"select distinct record_time from EBAY_TOP_BERLIN order by record_time desc limit 2\", sqlite3.connect(\"UsedObjects.db\"))"
   ]
  },
  {
   "cell_type": "code",
   "execution_count": 3,
   "id": "periodic-identification",
   "metadata": {
    "execution": {
     "iopub.execute_input": "2021-11-18T10:00:09.071113Z",
     "iopub.status.busy": "2021-11-18T10:00:09.067117Z",
     "iopub.status.idle": "2021-11-18T10:00:09.105155Z",
     "shell.execute_reply": "2021-11-18T10:00:09.106772Z"
    },
    "papermill": {
     "duration": 0.091917,
     "end_time": "2021-11-18T10:00:09.107299",
     "exception": false,
     "start_time": "2021-11-18T10:00:09.015382",
     "status": "completed"
    },
    "tags": []
   },
   "outputs": [
    {
     "data": {
      "text/html": [
       "<div>\n",
       "<style scoped>\n",
       "    .dataframe tbody tr th:only-of-type {\n",
       "        vertical-align: middle;\n",
       "    }\n",
       "\n",
       "    .dataframe tbody tr th {\n",
       "        vertical-align: top;\n",
       "    }\n",
       "\n",
       "    .dataframe thead th {\n",
       "        text-align: right;\n",
       "    }\n",
       "</style>\n",
       "<table border=\"1\" class=\"dataframe\">\n",
       "  <thead>\n",
       "    <tr style=\"text-align: right;\">\n",
       "      <th></th>\n",
       "      <th>RECORD_TIME</th>\n",
       "    </tr>\n",
       "  </thead>\n",
       "  <tbody>\n",
       "    <tr>\n",
       "      <th>0</th>\n",
       "      <td>2021-11-18 11:00</td>\n",
       "    </tr>\n",
       "    <tr>\n",
       "      <th>1</th>\n",
       "      <td>2021-11-18 10:30</td>\n",
       "    </tr>\n",
       "  </tbody>\n",
       "</table>\n",
       "</div>"
      ],
      "text/plain": [
       "        RECORD_TIME\n",
       "0  2021-11-18 11:00\n",
       "1  2021-11-18 10:30"
      ]
     },
     "execution_count": 3,
     "metadata": {},
     "output_type": "execute_result"
    }
   ],
   "source": [
    "timestamps"
   ]
  },
  {
   "cell_type": "code",
   "execution_count": 4,
   "id": "alternate-victory",
   "metadata": {
    "execution": {
     "iopub.execute_input": "2021-11-18T10:00:09.163605Z",
     "iopub.status.busy": "2021-11-18T10:00:09.161429Z",
     "iopub.status.idle": "2021-11-18T10:00:10.385088Z",
     "shell.execute_reply": "2021-11-18T10:00:10.386495Z"
    },
    "papermill": {
     "duration": 1.257532,
     "end_time": "2021-11-18T10:00:10.386973",
     "exception": false,
     "start_time": "2021-11-18T10:00:09.129441",
     "status": "completed"
    },
    "tags": []
   },
   "outputs": [],
   "source": [
    "df = pd.read_sql(\"select * from EBAY_TOP_BERLIN where record_time in (select distinct record_time from EBAY_TOP_BERLIN order by record_time desc limit 2)\", sqlite3.connect(\"UsedObjects.db\"))"
   ]
  },
  {
   "cell_type": "code",
   "execution_count": 5,
   "id": "popular-active",
   "metadata": {
    "execution": {
     "iopub.execute_input": "2021-11-18T10:00:10.466325Z",
     "iopub.status.busy": "2021-11-18T10:00:10.458888Z",
     "iopub.status.idle": "2021-11-18T10:00:10.485152Z",
     "shell.execute_reply": "2021-11-18T10:00:10.486939Z"
    },
    "papermill": {
     "duration": 0.078059,
     "end_time": "2021-11-18T10:00:10.487442",
     "exception": false,
     "start_time": "2021-11-18T10:00:10.409383",
     "status": "completed"
    },
    "tags": []
   },
   "outputs": [],
   "source": [
    "df_pivot = df.pivot_table(index=\"PRODUCT\", columns = \"RECORD_TIME\", values = \"LISTING_COUNT\")"
   ]
  },
  {
   "cell_type": "code",
   "execution_count": 6,
   "id": "union-huntington",
   "metadata": {
    "execution": {
     "iopub.execute_input": "2021-11-18T10:00:10.550933Z",
     "iopub.status.busy": "2021-11-18T10:00:10.547838Z",
     "iopub.status.idle": "2021-11-18T10:00:10.554583Z",
     "shell.execute_reply": "2021-11-18T10:00:10.556183Z"
    },
    "papermill": {
     "duration": 0.047872,
     "end_time": "2021-11-18T10:00:10.556721",
     "exception": false,
     "start_time": "2021-11-18T10:00:10.508849",
     "status": "completed"
    },
    "tags": []
   },
   "outputs": [],
   "source": [
    "df_pivot.columns = [\"stamp_1\", \"stamp_2\"]\n",
    "df_pivot_diff = df_pivot.diff(axis=1)"
   ]
  },
  {
   "cell_type": "code",
   "execution_count": 7,
   "id": "fifth-motion",
   "metadata": {
    "execution": {
     "iopub.execute_input": "2021-11-18T10:00:10.615833Z",
     "iopub.status.busy": "2021-11-18T10:00:10.613179Z",
     "iopub.status.idle": "2021-11-18T10:00:12.384407Z",
     "shell.execute_reply": "2021-11-18T10:00:12.386076Z"
    },
    "papermill": {
     "duration": 1.808612,
     "end_time": "2021-11-18T10:00:12.386604",
     "exception": false,
     "start_time": "2021-11-18T10:00:10.577992",
     "status": "completed"
    },
    "tags": []
   },
   "outputs": [
    {
     "data": {
      "text/plain": [
       "<AxesSubplot:ylabel='PRODUCT'>"
      ]
     },
     "execution_count": 7,
     "metadata": {},
     "output_type": "execute_result"
    },
    {
     "data": {
      "image/png": "[encoded data removed]",
      "text/plain": [
       "<Figure size 432x288 with 1 Axes>"
      ]
     },
     "metadata": {
      "needs_background": "light"
     },
     "output_type": "display_data"
    }
   ],
   "source": [
    "df_pivot_diff.sort_values(\"stamp_2\", ascending = False)[\"stamp_2\"].head(10).plot.barh()"
   ]
  },
  {
   "cell_type": "code",
   "execution_count": null,
   "id": "extra-executive",
   "metadata": {
    "papermill": {
     "duration": 0.024872,
     "end_time": "2021-11-18T10:00:12.437002",
     "exception": false,
     "start_time": "2021-11-18T10:00:12.412130",
     "status": "completed"
    },
    "tags": []
   },
   "outputs": [],
   "source": []
  }
 ],
 "metadata": {
  "kernelspec": {
   "display_name": "Python 3",
   "language": "python",
   "name": "python3"
  },
  "language_info": {
   "codemirror_mode": {
    "name": "ipython",
    "version": 3
   },
   "file_extension": ".py",
   "mimetype": "text/x-python",
   "name": "python",
   "nbconvert_exporter": "python",
   "pygments_lexer": "ipython3",
   "version": "3.9.5"
  },
  "papermill": {
   "default_parameters": {},
   "duration": 8.995991,
   "end_time": "2021-11-18T10:00:13.288497",
   "environment_variables": {},
   "exception": null,
   "input_path": "eBay_Overview.ipynb",
   "output_path": "eBay_Overview.ipynb",
   "parameters": {},
   "start_time": "2021-11-18T10:00:04.292506",
   "version": "2.3.3"
  }
 },
 "nbformat": 4,
 "nbformat_minor": 5
}