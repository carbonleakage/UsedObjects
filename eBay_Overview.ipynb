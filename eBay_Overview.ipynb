{
 "cells": [
  {
   "cell_type": "code",
   "execution_count": 1,
   "id": "reverse-picking",
   "metadata": {
    "execution": {
     "iopub.execute_input": "2021-08-10T19:30:03.738442Z",
     "iopub.status.busy": "2021-08-10T19:30:03.737680Z",
     "iopub.status.idle": "2021-08-10T19:30:04.385471Z",
     "shell.execute_reply": "2021-08-10T19:30:04.384298Z"
    },
    "papermill": {
     "duration": 0.66682,
     "end_time": "2021-08-10T19:30:04.385733",
     "exception": false,
     "start_time": "2021-08-10T19:30:03.718913",
     "status": "completed"
    },
    "tags": []
   },
   "outputs": [],
   "source": [
    "import pandas as pd\n",
    "import sqlite3"
   ]
  },
  {
   "cell_type": "code",
   "execution_count": 2,
   "id": "innovative-syndrome",
   "metadata": {
    "execution": {
     "iopub.execute_input": "2021-08-10T19:30:04.409788Z",
     "iopub.status.busy": "2021-08-10T19:30:04.409032Z",
     "iopub.status.idle": "2021-08-10T19:30:04.742073Z",
     "shell.execute_reply": "2021-08-10T19:30:04.742639Z"
    },
    "papermill": {
     "duration": 0.347325,
     "end_time": "2021-08-10T19:30:04.742831",
     "exception": false,
     "start_time": "2021-08-10T19:30:04.395506",
     "status": "completed"
    },
    "tags": []
   },
   "outputs": [],
   "source": [
    "timestamps = pd.read_sql(\"select distinct record_time from EBAY_TOP_BERLIN order by record_time desc limit 2\", sqlite3.connect(\"UsedObjects.db\"))"
   ]
  },
  {
   "cell_type": "code",
   "execution_count": 3,
   "id": "periodic-identification",
   "metadata": {
    "execution": {
     "iopub.execute_input": "2021-08-10T19:30:04.772070Z",
     "iopub.status.busy": "2021-08-10T19:30:04.771290Z",
     "iopub.status.idle": "2021-08-10T19:30:04.784695Z",
     "shell.execute_reply": "2021-08-10T19:30:04.783660Z"
    },
    "papermill": {
     "duration": 0.033986,
     "end_time": "2021-08-10T19:30:04.784910",
     "exception": false,
     "start_time": "2021-08-10T19:30:04.750924",
     "status": "completed"
    },
    "tags": []
   },
   "outputs": [
    {
     "data": {
      "text/html": [
       "<div>\n",
       "<style scoped>\n",
       "    .dataframe tbody tr th:only-of-type {\n",
       "        vertical-align: middle;\n",
       "    }\n",
       "\n",
       "    .dataframe tbody tr th {\n",
       "        vertical-align: top;\n",
       "    }\n",
       "\n",
       "    .dataframe thead th {\n",
       "        text-align: right;\n",
       "    }\n",
       "</style>\n",
       "<table border=\"1\" class=\"dataframe\">\n",
       "  <thead>\n",
       "    <tr style=\"text-align: right;\">\n",
       "      <th></th>\n",
       "      <th>RECORD_TIME</th>\n",
       "    </tr>\n",
       "  </thead>\n",
       "  <tbody>\n",
       "    <tr>\n",
       "      <th>0</th>\n",
       "      <td>2021-08-10 21:30</td>\n",
       "    </tr>\n",
       "    <tr>\n",
       "      <th>1</th>\n",
       "      <td>2021-08-10 21:00</td>\n",
       "    </tr>\n",
       "  </tbody>\n",
       "</table>\n",
       "</div>"
      ],
      "text/plain": [
       "        RECORD_TIME\n",
       "0  2021-08-10 21:30\n",
       "1  2021-08-10 21:00"
      ]
     },
     "execution_count": 3,
     "metadata": {},
     "output_type": "execute_result"
    }
   ],
   "source": [
    "timestamps"
   ]
  },
  {
   "cell_type": "code",
   "execution_count": 4,
   "id": "alternate-victory",
   "metadata": {
    "execution": {
     "iopub.execute_input": "2021-08-10T19:30:04.807641Z",
     "iopub.status.busy": "2021-08-10T19:30:04.806876Z",
     "iopub.status.idle": "2021-08-10T19:30:04.824639Z",
     "shell.execute_reply": "2021-08-10T19:30:04.823884Z"
    },
    "papermill": {
     "duration": 0.031339,
     "end_time": "2021-08-10T19:30:04.824800",
     "exception": false,
     "start_time": "2021-08-10T19:30:04.793461",
     "status": "completed"
    },
    "tags": []
   },
   "outputs": [],
   "source": [
    "df = pd.read_sql(\"select * from EBAY_TOP_BERLIN where record_time in (select distinct record_time from EBAY_TOP_BERLIN order by record_time desc limit 2)\", sqlite3.connect(\"UsedObjects.db\"))"
   ]
  },
  {
   "cell_type": "code",
   "execution_count": 5,
   "id": "popular-active",
   "metadata": {
    "execution": {
     "iopub.execute_input": "2021-08-10T19:30:04.857760Z",
     "iopub.status.busy": "2021-08-10T19:30:04.854199Z",
     "iopub.status.idle": "2021-08-10T19:30:04.872903Z",
     "shell.execute_reply": "2021-08-10T19:30:04.872296Z"
    },
    "papermill": {
     "duration": 0.037893,
     "end_time": "2021-08-10T19:30:04.873053",
     "exception": false,
     "start_time": "2021-08-10T19:30:04.835160",
     "status": "completed"
    },
    "tags": []
   },
   "outputs": [],
   "source": [
    "df_pivot = df.pivot_table(index=\"PRODUCT\", columns = \"RECORD_TIME\", values = \"LISTING_COUNT\")"
   ]
  },
  {
   "cell_type": "code",
   "execution_count": 6,
   "id": "union-huntington",
   "metadata": {
    "execution": {
     "iopub.execute_input": "2021-08-10T19:30:04.902573Z",
     "iopub.status.busy": "2021-08-10T19:30:04.901692Z",
     "iopub.status.idle": "2021-08-10T19:30:04.905622Z",
     "shell.execute_reply": "2021-08-10T19:30:04.905063Z"
    },
    "papermill": {
     "duration": 0.020646,
     "end_time": "2021-08-10T19:30:04.905772",
     "exception": false,
     "start_time": "2021-08-10T19:30:04.885126",
     "status": "completed"
    },
    "tags": []
   },
   "outputs": [],
   "source": [
    "df_pivot.columns = [\"stamp_1\", \"stamp_2\"]\n",
    "df_pivot_diff = df_pivot.diff(axis=1)"
   ]
  },
  {
   "cell_type": "code",
   "execution_count": 7,
   "id": "fifth-motion",
   "metadata": {
    "execution": {
     "iopub.execute_input": "2021-08-10T19:30:04.936922Z",
     "iopub.status.busy": "2021-08-10T19:30:04.936101Z",
     "iopub.status.idle": "2021-08-10T19:30:05.775328Z",
     "shell.execute_reply": "2021-08-10T19:30:05.775988Z"
    },
    "papermill": {
     "duration": 0.860845,
     "end_time": "2021-08-10T19:30:05.776209",
     "exception": false,
     "start_time": "2021-08-10T19:30:04.915364",
     "status": "completed"
    },
    "tags": []
   },
   "outputs": [
    {
     "data": {
      "text/plain": [
       "<AxesSubplot:ylabel='PRODUCT'>"
      ]
     },
     "execution_count": 7,
     "metadata": {},
     "output_type": "execute_result"
    },
    {
     "data": {
      "image/png": "[encoded data removed]",
      "text/plain": [
       "<Figure size 432x288 with 1 Axes>"
      ]
     },
     "metadata": {
      "needs_background": "light"
     },
     "output_type": "display_data"
    }
   ],
   "source": [
    "df_pivot_diff.sort_values(\"stamp_2\", ascending = False)[\"stamp_2\"].head(10).plot.barh()"
   ]
  },
  {
   "cell_type": "code",
   "execution_count": null,
   "id": "extra-executive",
   "metadata": {
    "papermill": {
     "duration": 0.009415,
     "end_time": "2021-08-10T19:30:05.795475",
     "exception": false,
     "start_time": "2021-08-10T19:30:05.786060",
     "status": "completed"
    },
    "tags": []
   },
   "outputs": [],
   "source": []
  }
 ],
 "metadata": {
  "kernelspec": {
   "display_name": "Python 3",
   "language": "python",
   "name": "python3"
  },
  "language_info": {
   "codemirror_mode": {
    "name": "ipython",
    "version": 3
   },
   "file_extension": ".py",
   "mimetype": "text/x-python",
   "name": "python",
   "nbconvert_exporter": "python",
   "pygments_lexer": "ipython3",
   "version": "3.8.8"
  },
  "papermill": {
   "default_parameters": {},
   "duration": 4.545475,
   "end_time": "2021-08-10T19:30:06.549891",
   "environment_variables": {},
   "exception": null,
   "input_path": "/Users/saravananshanmugam/Carbonleakage_Git/UsedObjects/eBay_Overview.ipynb",
   "output_path": "/Users/saravananshanmugam/Carbonleakage_Git/UsedObjects/eBay_Overview.ipynb",
   "parameters": {},
   "start_time": "2021-08-10T19:30:02.004416",
   "version": "2.3.3"
  }
 },
 "nbformat": 4,
 "nbformat_minor": 5
}