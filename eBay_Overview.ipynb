{
 "cells": [
  {
   "cell_type": "code",
   "execution_count": 1,
   "id": "reverse-picking",
   "metadata": {
    "execution": {
     "iopub.execute_input": "2021-10-10T00:30:06.820526Z",
     "iopub.status.busy": "2021-10-10T00:30:06.818479Z",
     "iopub.status.idle": "2021-10-10T00:30:07.623878Z",
     "shell.execute_reply": "2021-10-10T00:30:07.625129Z"
    },
    "papermill": {
     "duration": 0.857815,
     "end_time": "2021-10-10T00:30:07.625738",
     "exception": false,
     "start_time": "2021-10-10T00:30:06.767923",
     "status": "completed"
    },
    "tags": []
   },
   "outputs": [],
   "source": [
    "import pandas as pd\n",
    "import sqlite3"
   ]
  },
  {
   "cell_type": "code",
   "execution_count": 2,
   "id": "innovative-syndrome",
   "metadata": {
    "execution": {
     "iopub.execute_input": "2021-10-10T00:30:07.676958Z",
     "iopub.status.busy": "2021-10-10T00:30:07.675088Z",
     "iopub.status.idle": "2021-10-10T00:30:08.163264Z",
     "shell.execute_reply": "2021-10-10T00:30:08.164478Z"
    },
    "papermill": {
     "duration": 0.517546,
     "end_time": "2021-10-10T00:30:08.164863",
     "exception": false,
     "start_time": "2021-10-10T00:30:07.647317",
     "status": "completed"
    },
    "tags": []
   },
   "outputs": [],
   "source": [
    "timestamps = pd.read_sql(\"select distinct record_time from EBAY_TOP_BERLIN order by record_time desc limit 2\", sqlite3.connect(\"UsedObjects.db\"))"
   ]
  },
  {
   "cell_type": "code",
   "execution_count": 3,
   "id": "periodic-identification",
   "metadata": {
    "execution": {
     "iopub.execute_input": "2021-10-10T00:30:08.232110Z",
     "iopub.status.busy": "2021-10-10T00:30:08.230048Z",
     "iopub.status.idle": "2021-10-10T00:30:08.250150Z",
     "shell.execute_reply": "2021-10-10T00:30:08.251799Z"
    },
    "papermill": {
     "duration": 0.065434,
     "end_time": "2021-10-10T00:30:08.252287",
     "exception": false,
     "start_time": "2021-10-10T00:30:08.186853",
     "status": "completed"
    },
    "tags": []
   },
   "outputs": [
    {
     "data": {
      "text/html": [
       "<div>\n",
       "<style scoped>\n",
       "    .dataframe tbody tr th:only-of-type {\n",
       "        vertical-align: middle;\n",
       "    }\n",
       "\n",
       "    .dataframe tbody tr th {\n",
       "        vertical-align: top;\n",
       "    }\n",
       "\n",
       "    .dataframe thead th {\n",
       "        text-align: right;\n",
       "    }\n",
       "</style>\n",
       "<table border=\"1\" class=\"dataframe\">\n",
       "  <thead>\n",
       "    <tr style=\"text-align: right;\">\n",
       "      <th></th>\n",
       "      <th>RECORD_TIME</th>\n",
       "    </tr>\n",
       "  </thead>\n",
       "  <tbody>\n",
       "    <tr>\n",
       "      <th>0</th>\n",
       "      <td>2021-10-10 02:30</td>\n",
       "    </tr>\n",
       "    <tr>\n",
       "      <th>1</th>\n",
       "      <td>2021-10-10 02:00</td>\n",
       "    </tr>\n",
       "  </tbody>\n",
       "</table>\n",
       "</div>"
      ],
      "text/plain": [
       "        RECORD_TIME\n",
       "0  2021-10-10 02:30\n",
       "1  2021-10-10 02:00"
      ]
     },
     "execution_count": 3,
     "metadata": {},
     "output_type": "execute_result"
    }
   ],
   "source": [
    "timestamps"
   ]
  },
  {
   "cell_type": "code",
   "execution_count": 4,
   "id": "alternate-victory",
   "metadata": {
    "execution": {
     "iopub.execute_input": "2021-10-10T00:30:08.318714Z",
     "iopub.status.busy": "2021-10-10T00:30:08.316812Z",
     "iopub.status.idle": "2021-10-10T00:30:09.054526Z",
     "shell.execute_reply": "2021-10-10T00:30:09.055789Z"
    },
    "papermill": {
     "duration": 0.773676,
     "end_time": "2021-10-10T00:30:09.056182",
     "exception": false,
     "start_time": "2021-10-10T00:30:08.282506",
     "status": "completed"
    },
    "tags": []
   },
   "outputs": [],
   "source": [
    "df = pd.read_sql(\"select * from EBAY_TOP_BERLIN where record_time in (select distinct record_time from EBAY_TOP_BERLIN order by record_time desc limit 2)\", sqlite3.connect(\"UsedObjects.db\"))"
   ]
  },
  {
   "cell_type": "code",
   "execution_count": 5,
   "id": "popular-active",
   "metadata": {
    "execution": {
     "iopub.execute_input": "2021-10-10T00:30:09.125478Z",
     "iopub.status.busy": "2021-10-10T00:30:09.113662Z",
     "iopub.status.idle": "2021-10-10T00:30:09.143291Z",
     "shell.execute_reply": "2021-10-10T00:30:09.144711Z"
    },
    "papermill": {
     "duration": 0.068041,
     "end_time": "2021-10-10T00:30:09.145148",
     "exception": false,
     "start_time": "2021-10-10T00:30:09.077107",
     "status": "completed"
    },
    "tags": []
   },
   "outputs": [],
   "source": [
    "df_pivot = df.pivot_table(index=\"PRODUCT\", columns = \"RECORD_TIME\", values = \"LISTING_COUNT\")"
   ]
  },
  {
   "cell_type": "code",
   "execution_count": 6,
   "id": "union-huntington",
   "metadata": {
    "execution": {
     "iopub.execute_input": "2021-10-10T00:30:09.201883Z",
     "iopub.status.busy": "2021-10-10T00:30:09.199624Z",
     "iopub.status.idle": "2021-10-10T00:30:09.205333Z",
     "shell.execute_reply": "2021-10-10T00:30:09.206610Z"
    },
    "papermill": {
     "duration": 0.041604,
     "end_time": "2021-10-10T00:30:09.207069",
     "exception": false,
     "start_time": "2021-10-10T00:30:09.165465",
     "status": "completed"
    },
    "tags": []
   },
   "outputs": [],
   "source": [
    "df_pivot.columns = [\"stamp_1\", \"stamp_2\"]\n",
    "df_pivot_diff = df_pivot.diff(axis=1)"
   ]
  },
  {
   "cell_type": "code",
   "execution_count": 7,
   "id": "fifth-motion",
   "metadata": {
    "execution": {
     "iopub.execute_input": "2021-10-10T00:30:09.261471Z",
     "iopub.status.busy": "2021-10-10T00:30:09.259221Z",
     "iopub.status.idle": "2021-10-10T00:30:10.719518Z",
     "shell.execute_reply": "2021-10-10T00:30:10.720942Z"
    },
    "papermill": {
     "duration": 1.49371,
     "end_time": "2021-10-10T00:30:10.721359",
     "exception": false,
     "start_time": "2021-10-10T00:30:09.227649",
     "status": "completed"
    },
    "tags": []
   },
   "outputs": [
    {
     "data": {
      "text/plain": [
       "<AxesSubplot:ylabel='PRODUCT'>"
      ]
     },
     "execution_count": 7,
     "metadata": {},
     "output_type": "execute_result"
    },
    {
     "data": {
      "image/png": "[encoded data removed]",
      "text/plain": [
       "<Figure size 432x288 with 1 Axes>"
      ]
     },
     "metadata": {
      "needs_background": "light"
     },
     "output_type": "display_data"
    }
   ],
   "source": [
    "df_pivot_diff.sort_values(\"stamp_2\", ascending = False)[\"stamp_2\"].head(10).plot.barh()"
   ]
  },
  {
   "cell_type": "code",
   "execution_count": null,
   "id": "extra-executive",
   "metadata": {
    "papermill": {
     "duration": 0.022251,
     "end_time": "2021-10-10T00:30:10.768095",
     "exception": false,
     "start_time": "2021-10-10T00:30:10.745844",
     "status": "completed"
    },
    "tags": []
   },
   "outputs": [],
   "source": []
  }
 ],
 "metadata": {
  "kernelspec": {
   "display_name": "Python 3",
   "language": "python",
   "name": "python3"
  },
  "language_info": {
   "codemirror_mode": {
    "name": "ipython",
    "version": 3
   },
   "file_extension": ".py",
   "mimetype": "text/x-python",
   "name": "python",
   "nbconvert_exporter": "python",
   "pygments_lexer": "ipython3",
   "version": "3.9.5"
  },
  "papermill": {
   "default_parameters": {},
   "duration": 7.8258,
   "end_time": "2021-10-10T00:30:12.190438",
   "environment_variables": {},
   "exception": null,
   "input_path": "eBay_Overview.ipynb",
   "output_path": "eBay_Overview.ipynb",
   "parameters": {},
   "start_time": "2021-10-10T00:30:04.364638",
   "version": "2.3.3"
  }
 },
 "nbformat": 4,
 "nbformat_minor": 5
}