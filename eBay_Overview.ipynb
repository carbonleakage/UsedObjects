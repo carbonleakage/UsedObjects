{
 "cells": [
  {
   "cell_type": "code",
   "execution_count": 1,
   "id": "reverse-picking",
   "metadata": {
    "execution": {
     "iopub.execute_input": "2021-08-27T19:30:06.982552Z",
     "iopub.status.busy": "2021-08-27T19:30:06.980603Z",
     "iopub.status.idle": "2021-08-27T19:30:07.781844Z",
     "shell.execute_reply": "2021-08-27T19:30:07.783182Z"
    },
    "papermill": {
     "duration": 0.852663,
     "end_time": "2021-08-27T19:30:07.783829",
     "exception": false,
     "start_time": "2021-08-27T19:30:06.931166",
     "status": "completed"
    },
    "tags": []
   },
   "outputs": [],
   "source": [
    "import pandas as pd\n",
    "import sqlite3"
   ]
  },
  {
   "cell_type": "code",
   "execution_count": 2,
   "id": "innovative-syndrome",
   "metadata": {
    "execution": {
     "iopub.execute_input": "2021-08-27T19:30:07.834366Z",
     "iopub.status.busy": "2021-08-27T19:30:07.831956Z",
     "iopub.status.idle": "2021-08-27T19:30:07.977926Z",
     "shell.execute_reply": "2021-08-27T19:30:07.976589Z"
    },
    "papermill": {
     "duration": 0.174596,
     "end_time": "2021-08-27T19:30:07.978267",
     "exception": false,
     "start_time": "2021-08-27T19:30:07.803671",
     "status": "completed"
    },
    "tags": []
   },
   "outputs": [],
   "source": [
    "timestamps = pd.read_sql(\"select distinct record_time from EBAY_TOP_BERLIN order by record_time desc limit 2\", sqlite3.connect(\"UsedObjects.db\"))"
   ]
  },
  {
   "cell_type": "code",
   "execution_count": 3,
   "id": "periodic-identification",
   "metadata": {
    "execution": {
     "iopub.execute_input": "2021-08-27T19:30:08.042743Z",
     "iopub.status.busy": "2021-08-27T19:30:08.040723Z",
     "iopub.status.idle": "2021-08-27T19:30:08.060735Z",
     "shell.execute_reply": "2021-08-27T19:30:08.061957Z"
    },
    "papermill": {
     "duration": 0.063364,
     "end_time": "2021-08-27T19:30:08.062395",
     "exception": false,
     "start_time": "2021-08-27T19:30:07.999031",
     "status": "completed"
    },
    "tags": []
   },
   "outputs": [
    {
     "data": {
      "text/html": [
       "<div>\n",
       "<style scoped>\n",
       "    .dataframe tbody tr th:only-of-type {\n",
       "        vertical-align: middle;\n",
       "    }\n",
       "\n",
       "    .dataframe tbody tr th {\n",
       "        vertical-align: top;\n",
       "    }\n",
       "\n",
       "    .dataframe thead th {\n",
       "        text-align: right;\n",
       "    }\n",
       "</style>\n",
       "<table border=\"1\" class=\"dataframe\">\n",
       "  <thead>\n",
       "    <tr style=\"text-align: right;\">\n",
       "      <th></th>\n",
       "      <th>RECORD_TIME</th>\n",
       "    </tr>\n",
       "  </thead>\n",
       "  <tbody>\n",
       "    <tr>\n",
       "      <th>0</th>\n",
       "      <td>2021-08-27 21:30</td>\n",
       "    </tr>\n",
       "    <tr>\n",
       "      <th>1</th>\n",
       "      <td>2021-08-27 21:00</td>\n",
       "    </tr>\n",
       "  </tbody>\n",
       "</table>\n",
       "</div>"
      ],
      "text/plain": [
       "        RECORD_TIME\n",
       "0  2021-08-27 21:30\n",
       "1  2021-08-27 21:00"
      ]
     },
     "execution_count": 3,
     "metadata": {},
     "output_type": "execute_result"
    }
   ],
   "source": [
    "timestamps"
   ]
  },
  {
   "cell_type": "code",
   "execution_count": 4,
   "id": "alternate-victory",
   "metadata": {
    "execution": {
     "iopub.execute_input": "2021-08-27T19:30:08.116560Z",
     "iopub.status.busy": "2021-08-27T19:30:08.114212Z",
     "iopub.status.idle": "2021-08-27T19:30:08.331354Z",
     "shell.execute_reply": "2021-08-27T19:30:08.332648Z"
    },
    "papermill": {
     "duration": 0.247789,
     "end_time": "2021-08-27T19:30:08.333108",
     "exception": false,
     "start_time": "2021-08-27T19:30:08.085319",
     "status": "completed"
    },
    "tags": []
   },
   "outputs": [],
   "source": [
    "df = pd.read_sql(\"select * from EBAY_TOP_BERLIN where record_time in (select distinct record_time from EBAY_TOP_BERLIN order by record_time desc limit 2)\", sqlite3.connect(\"UsedObjects.db\"))"
   ]
  },
  {
   "cell_type": "code",
   "execution_count": 5,
   "id": "popular-active",
   "metadata": {
    "execution": {
     "iopub.execute_input": "2021-08-27T19:30:08.403488Z",
     "iopub.status.busy": "2021-08-27T19:30:08.391897Z",
     "iopub.status.idle": "2021-08-27T19:30:08.421151Z",
     "shell.execute_reply": "2021-08-27T19:30:08.422603Z"
    },
    "papermill": {
     "duration": 0.069027,
     "end_time": "2021-08-27T19:30:08.423046",
     "exception": false,
     "start_time": "2021-08-27T19:30:08.354019",
     "status": "completed"
    },
    "tags": []
   },
   "outputs": [],
   "source": [
    "df_pivot = df.pivot_table(index=\"PRODUCT\", columns = \"RECORD_TIME\", values = \"LISTING_COUNT\")"
   ]
  },
  {
   "cell_type": "code",
   "execution_count": 6,
   "id": "union-huntington",
   "metadata": {
    "execution": {
     "iopub.execute_input": "2021-08-27T19:30:08.498300Z",
     "iopub.status.busy": "2021-08-27T19:30:08.495798Z",
     "iopub.status.idle": "2021-08-27T19:30:08.501872Z",
     "shell.execute_reply": "2021-08-27T19:30:08.503139Z"
    },
    "papermill": {
     "duration": 0.048775,
     "end_time": "2021-08-27T19:30:08.503596",
     "exception": false,
     "start_time": "2021-08-27T19:30:08.454821",
     "status": "completed"
    },
    "tags": []
   },
   "outputs": [],
   "source": [
    "df_pivot.columns = [\"stamp_1\", \"stamp_2\"]\n",
    "df_pivot_diff = df_pivot.diff(axis=1)"
   ]
  },
  {
   "cell_type": "code",
   "execution_count": 7,
   "id": "fifth-motion",
   "metadata": {
    "execution": {
     "iopub.execute_input": "2021-08-27T19:30:08.559563Z",
     "iopub.status.busy": "2021-08-27T19:30:08.555374Z",
     "iopub.status.idle": "2021-08-27T19:30:10.053388Z",
     "shell.execute_reply": "2021-08-27T19:30:10.054692Z"
    },
    "papermill": {
     "duration": 1.530751,
     "end_time": "2021-08-27T19:30:10.055115",
     "exception": false,
     "start_time": "2021-08-27T19:30:08.524364",
     "status": "completed"
    },
    "tags": []
   },
   "outputs": [
    {
     "data": {
      "text/plain": [
       "<AxesSubplot:ylabel='PRODUCT'>"
      ]
     },
     "execution_count": 7,
     "metadata": {},
     "output_type": "execute_result"
    },
    {
     "data": {
      "image/png": "[encoded data removed]",
      "text/plain": [
       "<Figure size 432x288 with 1 Axes>"
      ]
     },
     "metadata": {
      "needs_background": "light"
     },
     "output_type": "display_data"
    }
   ],
   "source": [
    "df_pivot_diff.sort_values(\"stamp_2\", ascending = False)[\"stamp_2\"].head(10).plot.barh()"
   ]
  },
  {
   "cell_type": "code",
   "execution_count": null,
   "id": "extra-executive",
   "metadata": {
    "papermill": {
     "duration": 0.022193,
     "end_time": "2021-08-27T19:30:10.101847",
     "exception": false,
     "start_time": "2021-08-27T19:30:10.079654",
     "status": "completed"
    },
    "tags": []
   },
   "outputs": [],
   "source": []
  }
 ],
 "metadata": {
  "kernelspec": {
   "display_name": "Python 3",
   "language": "python",
   "name": "python3"
  },
  "language_info": {
   "codemirror_mode": {
    "name": "ipython",
    "version": 3
   },
   "file_extension": ".py",
   "mimetype": "text/x-python",
   "name": "python",
   "nbconvert_exporter": "python",
   "pygments_lexer": "ipython3",
   "version": "3.9.5"
  },
  "papermill": {
   "default_parameters": {},
   "duration": 6.821985,
   "end_time": "2021-08-27T19:30:11.357097",
   "environment_variables": {},
   "exception": null,
   "input_path": "eBay_Overview.ipynb",
   "output_path": "eBay_Overview.ipynb",
   "parameters": {},
   "start_time": "2021-08-27T19:30:04.535112",
   "version": "2.3.3"
  }
 },
 "nbformat": 4,
 "nbformat_minor": 5
}