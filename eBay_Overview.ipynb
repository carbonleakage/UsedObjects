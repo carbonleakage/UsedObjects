{
 "cells": [
  {
   "cell_type": "code",
   "execution_count": 1,
   "id": "reverse-picking",
   "metadata": {
    "execution": {
     "iopub.execute_input": "2021-10-01T03:30:06.664395Z",
     "iopub.status.busy": "2021-10-01T03:30:06.662298Z",
     "iopub.status.idle": "2021-10-01T03:30:07.471438Z",
     "shell.execute_reply": "2021-10-01T03:30:07.469631Z"
    },
    "papermill": {
     "duration": 0.858836,
     "end_time": "2021-10-01T03:30:07.471882",
     "exception": false,
     "start_time": "2021-10-01T03:30:06.613046",
     "status": "completed"
    },
    "tags": []
   },
   "outputs": [],
   "source": [
    "import pandas as pd\n",
    "import sqlite3"
   ]
  },
  {
   "cell_type": "code",
   "execution_count": 2,
   "id": "innovative-syndrome",
   "metadata": {
    "execution": {
     "iopub.execute_input": "2021-10-01T03:30:07.525641Z",
     "iopub.status.busy": "2021-10-01T03:30:07.523364Z",
     "iopub.status.idle": "2021-10-01T03:30:07.942724Z",
     "shell.execute_reply": "2021-10-01T03:30:07.944073Z"
    },
    "papermill": {
     "duration": 0.450121,
     "end_time": "2021-10-01T03:30:07.944490",
     "exception": false,
     "start_time": "2021-10-01T03:30:07.494369",
     "status": "completed"
    },
    "tags": []
   },
   "outputs": [],
   "source": [
    "timestamps = pd.read_sql(\"select distinct record_time from EBAY_TOP_BERLIN order by record_time desc limit 2\", sqlite3.connect(\"UsedObjects.db\"))"
   ]
  },
  {
   "cell_type": "code",
   "execution_count": 3,
   "id": "periodic-identification",
   "metadata": {
    "execution": {
     "iopub.execute_input": "2021-10-01T03:30:08.010396Z",
     "iopub.status.busy": "2021-10-01T03:30:08.008388Z",
     "iopub.status.idle": "2021-10-01T03:30:08.028423Z",
     "shell.execute_reply": "2021-10-01T03:30:08.029712Z"
    },
    "papermill": {
     "duration": 0.065494,
     "end_time": "2021-10-01T03:30:08.030124",
     "exception": false,
     "start_time": "2021-10-01T03:30:07.964630",
     "status": "completed"
    },
    "tags": []
   },
   "outputs": [
    {
     "data": {
      "text/html": [
       "<div>\n",
       "<style scoped>\n",
       "    .dataframe tbody tr th:only-of-type {\n",
       "        vertical-align: middle;\n",
       "    }\n",
       "\n",
       "    .dataframe tbody tr th {\n",
       "        vertical-align: top;\n",
       "    }\n",
       "\n",
       "    .dataframe thead th {\n",
       "        text-align: right;\n",
       "    }\n",
       "</style>\n",
       "<table border=\"1\" class=\"dataframe\">\n",
       "  <thead>\n",
       "    <tr style=\"text-align: right;\">\n",
       "      <th></th>\n",
       "      <th>RECORD_TIME</th>\n",
       "    </tr>\n",
       "  </thead>\n",
       "  <tbody>\n",
       "    <tr>\n",
       "      <th>0</th>\n",
       "      <td>2021-10-01 05:30</td>\n",
       "    </tr>\n",
       "    <tr>\n",
       "      <th>1</th>\n",
       "      <td>2021-10-01 05:00</td>\n",
       "    </tr>\n",
       "  </tbody>\n",
       "</table>\n",
       "</div>"
      ],
      "text/plain": [
       "        RECORD_TIME\n",
       "0  2021-10-01 05:30\n",
       "1  2021-10-01 05:00"
      ]
     },
     "execution_count": 3,
     "metadata": {},
     "output_type": "execute_result"
    }
   ],
   "source": [
    "timestamps"
   ]
  },
  {
   "cell_type": "code",
   "execution_count": 4,
   "id": "alternate-victory",
   "metadata": {
    "execution": {
     "iopub.execute_input": "2021-10-01T03:30:08.084552Z",
     "iopub.status.busy": "2021-10-01T03:30:08.082159Z",
     "iopub.status.idle": "2021-10-01T03:30:08.692052Z",
     "shell.execute_reply": "2021-10-01T03:30:08.693436Z"
    },
    "papermill": {
     "duration": 0.640818,
     "end_time": "2021-10-01T03:30:08.693876",
     "exception": false,
     "start_time": "2021-10-01T03:30:08.053058",
     "status": "completed"
    },
    "tags": []
   },
   "outputs": [],
   "source": [
    "df = pd.read_sql(\"select * from EBAY_TOP_BERLIN where record_time in (select distinct record_time from EBAY_TOP_BERLIN order by record_time desc limit 2)\", sqlite3.connect(\"UsedObjects.db\"))"
   ]
  },
  {
   "cell_type": "code",
   "execution_count": 5,
   "id": "popular-active",
   "metadata": {
    "execution": {
     "iopub.execute_input": "2021-10-01T03:30:08.765647Z",
     "iopub.status.busy": "2021-10-01T03:30:08.753241Z",
     "iopub.status.idle": "2021-10-01T03:30:08.785220Z",
     "shell.execute_reply": "2021-10-01T03:30:08.783722Z"
    },
    "papermill": {
     "duration": 0.070684,
     "end_time": "2021-10-01T03:30:08.785589",
     "exception": false,
     "start_time": "2021-10-01T03:30:08.714905",
     "status": "completed"
    },
    "tags": []
   },
   "outputs": [],
   "source": [
    "df_pivot = df.pivot_table(index=\"PRODUCT\", columns = \"RECORD_TIME\", values = \"LISTING_COUNT\")"
   ]
  },
  {
   "cell_type": "code",
   "execution_count": 6,
   "id": "union-huntington",
   "metadata": {
    "execution": {
     "iopub.execute_input": "2021-10-01T03:30:08.842565Z",
     "iopub.status.busy": "2021-10-01T03:30:08.840461Z",
     "iopub.status.idle": "2021-10-01T03:30:08.845886Z",
     "shell.execute_reply": "2021-10-01T03:30:08.847318Z"
    },
    "papermill": {
     "duration": 0.041737,
     "end_time": "2021-10-01T03:30:08.847781",
     "exception": false,
     "start_time": "2021-10-01T03:30:08.806044",
     "status": "completed"
    },
    "tags": []
   },
   "outputs": [],
   "source": [
    "df_pivot.columns = [\"stamp_1\", \"stamp_2\"]\n",
    "df_pivot_diff = df_pivot.diff(axis=1)"
   ]
  },
  {
   "cell_type": "code",
   "execution_count": 7,
   "id": "fifth-motion",
   "metadata": {
    "execution": {
     "iopub.execute_input": "2021-10-01T03:30:08.902110Z",
     "iopub.status.busy": "2021-10-01T03:30:08.899755Z",
     "iopub.status.idle": "2021-10-01T03:30:10.381714Z",
     "shell.execute_reply": "2021-10-01T03:30:10.383258Z"
    },
    "papermill": {
     "duration": 1.515225,
     "end_time": "2021-10-01T03:30:10.383726",
     "exception": false,
     "start_time": "2021-10-01T03:30:08.868501",
     "status": "completed"
    },
    "tags": []
   },
   "outputs": [
    {
     "data": {
      "text/plain": [
       "<AxesSubplot:ylabel='PRODUCT'>"
      ]
     },
     "execution_count": 7,
     "metadata": {},
     "output_type": "execute_result"
    },
    {
     "data": {
      "image/png": "[encoded data removed]",
      "text/plain": [
       "<Figure size 432x288 with 1 Axes>"
      ]
     },
     "metadata": {
      "needs_background": "light"
     },
     "output_type": "display_data"
    }
   ],
   "source": [
    "df_pivot_diff.sort_values(\"stamp_2\", ascending = False)[\"stamp_2\"].head(10).plot.barh()"
   ]
  },
  {
   "cell_type": "code",
   "execution_count": null,
   "id": "extra-executive",
   "metadata": {
    "papermill": {
     "duration": 0.022387,
     "end_time": "2021-10-01T03:30:10.431520",
     "exception": false,
     "start_time": "2021-10-01T03:30:10.409133",
     "status": "completed"
    },
    "tags": []
   },
   "outputs": [],
   "source": []
  }
 ],
 "metadata": {
  "kernelspec": {
   "display_name": "Python 3",
   "language": "python",
   "name": "python3"
  },
  "language_info": {
   "codemirror_mode": {
    "name": "ipython",
    "version": 3
   },
   "file_extension": ".py",
   "mimetype": "text/x-python",
   "name": "python",
   "nbconvert_exporter": "python",
   "pygments_lexer": "ipython3",
   "version": "3.9.5"
  },
  "papermill": {
   "default_parameters": {},
   "duration": 7.823228,
   "end_time": "2021-10-01T03:30:12.030693",
   "environment_variables": {},
   "exception": null,
   "input_path": "eBay_Overview.ipynb",
   "output_path": "eBay_Overview.ipynb",
   "parameters": {},
   "start_time": "2021-10-01T03:30:04.207465",
   "version": "2.3.3"
  }
 },
 "nbformat": 4,
 "nbformat_minor": 5
}