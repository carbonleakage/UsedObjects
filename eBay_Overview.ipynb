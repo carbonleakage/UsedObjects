{
 "cells": [
  {
   "cell_type": "code",
   "execution_count": 1,
   "id": "reverse-picking",
   "metadata": {
    "execution": {
     "iopub.execute_input": "2021-10-29T02:00:07.315833Z",
     "iopub.status.busy": "2021-10-29T02:00:07.313893Z",
     "iopub.status.idle": "2021-10-29T02:00:08.117173Z",
     "shell.execute_reply": "2021-10-29T02:00:08.118495Z"
    },
    "papermill": {
     "duration": 0.85358,
     "end_time": "2021-10-29T02:00:08.119145",
     "exception": false,
     "start_time": "2021-10-29T02:00:07.265565",
     "status": "completed"
    },
    "tags": []
   },
   "outputs": [],
   "source": [
    "import pandas as pd\n",
    "import sqlite3"
   ]
  },
  {
   "cell_type": "code",
   "execution_count": 2,
   "id": "innovative-syndrome",
   "metadata": {
    "execution": {
     "iopub.execute_input": "2021-10-29T02:00:08.169548Z",
     "iopub.status.busy": "2021-10-29T02:00:08.167602Z",
     "iopub.status.idle": "2021-10-29T02:00:08.829347Z",
     "shell.execute_reply": "2021-10-29T02:00:08.830779Z"
    },
    "papermill": {
     "duration": 0.691261,
     "end_time": "2021-10-29T02:00:08.831231",
     "exception": false,
     "start_time": "2021-10-29T02:00:08.139970",
     "status": "completed"
    },
    "tags": []
   },
   "outputs": [],
   "source": [
    "timestamps = pd.read_sql(\"select distinct record_time from EBAY_TOP_BERLIN order by record_time desc limit 2\", sqlite3.connect(\"UsedObjects.db\"))"
   ]
  },
  {
   "cell_type": "code",
   "execution_count": 3,
   "id": "periodic-identification",
   "metadata": {
    "execution": {
     "iopub.execute_input": "2021-10-29T02:00:08.963778Z",
     "iopub.status.busy": "2021-10-29T02:00:08.961789Z",
     "iopub.status.idle": "2021-10-29T02:00:08.981812Z",
     "shell.execute_reply": "2021-10-29T02:00:08.983390Z"
    },
    "papermill": {
     "duration": 0.072047,
     "end_time": "2021-10-29T02:00:08.983888",
     "exception": false,
     "start_time": "2021-10-29T02:00:08.911841",
     "status": "completed"
    },
    "tags": []
   },
   "outputs": [
    {
     "data": {
      "text/html": [
       "<div>\n",
       "<style scoped>\n",
       "    .dataframe tbody tr th:only-of-type {\n",
       "        vertical-align: middle;\n",
       "    }\n",
       "\n",
       "    .dataframe tbody tr th {\n",
       "        vertical-align: top;\n",
       "    }\n",
       "\n",
       "    .dataframe thead th {\n",
       "        text-align: right;\n",
       "    }\n",
       "</style>\n",
       "<table border=\"1\" class=\"dataframe\">\n",
       "  <thead>\n",
       "    <tr style=\"text-align: right;\">\n",
       "      <th></th>\n",
       "      <th>RECORD_TIME</th>\n",
       "    </tr>\n",
       "  </thead>\n",
       "  <tbody>\n",
       "    <tr>\n",
       "      <th>0</th>\n",
       "      <td>2021-10-29 04:00</td>\n",
       "    </tr>\n",
       "    <tr>\n",
       "      <th>1</th>\n",
       "      <td>2021-10-29 03:30</td>\n",
       "    </tr>\n",
       "  </tbody>\n",
       "</table>\n",
       "</div>"
      ],
      "text/plain": [
       "        RECORD_TIME\n",
       "0  2021-10-29 04:00\n",
       "1  2021-10-29 03:30"
      ]
     },
     "execution_count": 3,
     "metadata": {},
     "output_type": "execute_result"
    }
   ],
   "source": [
    "timestamps"
   ]
  },
  {
   "cell_type": "code",
   "execution_count": 4,
   "id": "alternate-victory",
   "metadata": {
    "execution": {
     "iopub.execute_input": "2021-10-29T02:00:09.036231Z",
     "iopub.status.busy": "2021-10-29T02:00:09.034336Z",
     "iopub.status.idle": "2021-10-29T02:00:09.988927Z",
     "shell.execute_reply": "2021-10-29T02:00:09.990219Z"
    },
    "papermill": {
     "duration": 0.985064,
     "end_time": "2021-10-29T02:00:09.990684",
     "exception": false,
     "start_time": "2021-10-29T02:00:09.005620",
     "status": "completed"
    },
    "tags": []
   },
   "outputs": [],
   "source": [
    "df = pd.read_sql(\"select * from EBAY_TOP_BERLIN where record_time in (select distinct record_time from EBAY_TOP_BERLIN order by record_time desc limit 2)\", sqlite3.connect(\"UsedObjects.db\"))"
   ]
  },
  {
   "cell_type": "code",
   "execution_count": 5,
   "id": "popular-active",
   "metadata": {
    "execution": {
     "iopub.execute_input": "2021-10-29T02:00:10.062676Z",
     "iopub.status.busy": "2021-10-29T02:00:10.055623Z",
     "iopub.status.idle": "2021-10-29T02:00:10.079355Z",
     "shell.execute_reply": "2021-10-29T02:00:10.081001Z"
    },
    "papermill": {
     "duration": 0.069838,
     "end_time": "2021-10-29T02:00:10.081491",
     "exception": false,
     "start_time": "2021-10-29T02:00:10.011653",
     "status": "completed"
    },
    "tags": []
   },
   "outputs": [],
   "source": [
    "df_pivot = df.pivot_table(index=\"PRODUCT\", columns = \"RECORD_TIME\", values = \"LISTING_COUNT\")"
   ]
  },
  {
   "cell_type": "code",
   "execution_count": 6,
   "id": "union-huntington",
   "metadata": {
    "execution": {
     "iopub.execute_input": "2021-10-29T02:00:10.140098Z",
     "iopub.status.busy": "2021-10-29T02:00:10.137834Z",
     "iopub.status.idle": "2021-10-29T02:00:10.143575Z",
     "shell.execute_reply": "2021-10-29T02:00:10.144892Z"
    },
    "papermill": {
     "duration": 0.041653,
     "end_time": "2021-10-29T02:00:10.145319",
     "exception": false,
     "start_time": "2021-10-29T02:00:10.103666",
     "status": "completed"
    },
    "tags": []
   },
   "outputs": [],
   "source": [
    "df_pivot.columns = [\"stamp_1\", \"stamp_2\"]\n",
    "df_pivot_diff = df_pivot.diff(axis=1)"
   ]
  },
  {
   "cell_type": "code",
   "execution_count": 7,
   "id": "fifth-motion",
   "metadata": {
    "execution": {
     "iopub.execute_input": "2021-10-29T02:00:10.199451Z",
     "iopub.status.busy": "2021-10-29T02:00:10.197215Z",
     "iopub.status.idle": "2021-10-29T02:00:11.651804Z",
     "shell.execute_reply": "2021-10-29T02:00:11.653214Z"
    },
    "papermill": {
     "duration": 1.487896,
     "end_time": "2021-10-29T02:00:11.653661",
     "exception": false,
     "start_time": "2021-10-29T02:00:10.165765",
     "status": "completed"
    },
    "tags": []
   },
   "outputs": [
    {
     "data": {
      "text/plain": [
       "<AxesSubplot:ylabel='PRODUCT'>"
      ]
     },
     "execution_count": 7,
     "metadata": {},
     "output_type": "execute_result"
    },
    {
     "data": {
      "image/png": "[encoded data removed]",
      "text/plain": [
       "<Figure size 432x288 with 1 Axes>"
      ]
     },
     "metadata": {
      "needs_background": "light"
     },
     "output_type": "display_data"
    }
   ],
   "source": [
    "df_pivot_diff.sort_values(\"stamp_2\", ascending = False)[\"stamp_2\"].head(10).plot.barh()"
   ]
  },
  {
   "cell_type": "code",
   "execution_count": null,
   "id": "extra-executive",
   "metadata": {
    "papermill": {
     "duration": 0.022876,
     "end_time": "2021-10-29T02:00:11.701069",
     "exception": false,
     "start_time": "2021-10-29T02:00:11.678193",
     "status": "completed"
    },
    "tags": []
   },
   "outputs": [],
   "source": []
  }
 ],
 "metadata": {
  "kernelspec": {
   "display_name": "Python 3",
   "language": "python",
   "name": "python3"
  },
  "language_info": {
   "codemirror_mode": {
    "name": "ipython",
    "version": 3
   },
   "file_extension": ".py",
   "mimetype": "text/x-python",
   "name": "python",
   "nbconvert_exporter": "python",
   "pygments_lexer": "ipython3",
   "version": "3.9.5"
  },
  "papermill": {
   "default_parameters": {},
   "duration": 7.477972,
   "end_time": "2021-10-29T02:00:12.343213",
   "environment_variables": {},
   "exception": null,
   "input_path": "eBay_Overview.ipynb",
   "output_path": "eBay_Overview.ipynb",
   "parameters": {},
   "start_time": "2021-10-29T02:00:04.865241",
   "version": "2.3.3"
  }
 },
 "nbformat": 4,
 "nbformat_minor": 5
}