{
 "cells": [
  {
   "cell_type": "code",
   "execution_count": 1,
   "id": "reverse-picking",
   "metadata": {
    "execution": {
     "iopub.execute_input": "2021-11-16T08:30:07.766515Z",
     "iopub.status.busy": "2021-11-16T08:30:07.764458Z",
     "iopub.status.idle": "2021-11-16T08:30:08.744983Z",
     "shell.execute_reply": "2021-11-16T08:30:08.746284Z"
    },
    "papermill": {
     "duration": 1.029049,
     "end_time": "2021-11-16T08:30:08.746933",
     "exception": false,
     "start_time": "2021-11-16T08:30:07.717884",
     "status": "completed"
    },
    "tags": []
   },
   "outputs": [],
   "source": [
    "import pandas as pd\n",
    "import sqlite3"
   ]
  },
  {
   "cell_type": "code",
   "execution_count": 2,
   "id": "innovative-syndrome",
   "metadata": {
    "execution": {
     "iopub.execute_input": "2021-11-16T08:30:08.800420Z",
     "iopub.status.busy": "2021-11-16T08:30:08.798338Z",
     "iopub.status.idle": "2021-11-16T08:30:09.600784Z",
     "shell.execute_reply": "2021-11-16T08:30:09.602639Z"
    },
    "papermill": {
     "duration": 0.835754,
     "end_time": "2021-11-16T08:30:09.603114",
     "exception": false,
     "start_time": "2021-11-16T08:30:08.767360",
     "status": "completed"
    },
    "tags": []
   },
   "outputs": [],
   "source": [
    "timestamps = pd.read_sql(\"select distinct record_time from EBAY_TOP_BERLIN order by record_time desc limit 2\", sqlite3.connect(\"UsedObjects.db\"))"
   ]
  },
  {
   "cell_type": "code",
   "execution_count": 3,
   "id": "periodic-identification",
   "metadata": {
    "execution": {
     "iopub.execute_input": "2021-11-16T08:30:09.698507Z",
     "iopub.status.busy": "2021-11-16T08:30:09.696015Z",
     "iopub.status.idle": "2021-11-16T08:30:09.721966Z",
     "shell.execute_reply": "2021-11-16T08:30:09.720207Z"
    },
    "papermill": {
     "duration": 0.086527,
     "end_time": "2021-11-16T08:30:09.722394",
     "exception": false,
     "start_time": "2021-11-16T08:30:09.635867",
     "status": "completed"
    },
    "tags": []
   },
   "outputs": [
    {
     "data": {
      "text/html": [
       "<div>\n",
       "<style scoped>\n",
       "    .dataframe tbody tr th:only-of-type {\n",
       "        vertical-align: middle;\n",
       "    }\n",
       "\n",
       "    .dataframe tbody tr th {\n",
       "        vertical-align: top;\n",
       "    }\n",
       "\n",
       "    .dataframe thead th {\n",
       "        text-align: right;\n",
       "    }\n",
       "</style>\n",
       "<table border=\"1\" class=\"dataframe\">\n",
       "  <thead>\n",
       "    <tr style=\"text-align: right;\">\n",
       "      <th></th>\n",
       "      <th>RECORD_TIME</th>\n",
       "    </tr>\n",
       "  </thead>\n",
       "  <tbody>\n",
       "    <tr>\n",
       "      <th>0</th>\n",
       "      <td>2021-11-16 09:30</td>\n",
       "    </tr>\n",
       "    <tr>\n",
       "      <th>1</th>\n",
       "      <td>2021-11-16 09:00</td>\n",
       "    </tr>\n",
       "  </tbody>\n",
       "</table>\n",
       "</div>"
      ],
      "text/plain": [
       "        RECORD_TIME\n",
       "0  2021-11-16 09:30\n",
       "1  2021-11-16 09:00"
      ]
     },
     "execution_count": 3,
     "metadata": {},
     "output_type": "execute_result"
    }
   ],
   "source": [
    "timestamps"
   ]
  },
  {
   "cell_type": "code",
   "execution_count": 4,
   "id": "alternate-victory",
   "metadata": {
    "execution": {
     "iopub.execute_input": "2021-11-16T08:30:09.778744Z",
     "iopub.status.busy": "2021-11-16T08:30:09.776299Z",
     "iopub.status.idle": "2021-11-16T08:30:10.991482Z",
     "shell.execute_reply": "2021-11-16T08:30:10.993658Z"
    },
    "papermill": {
     "duration": 1.249995,
     "end_time": "2021-11-16T08:30:10.994133",
     "exception": false,
     "start_time": "2021-11-16T08:30:09.744138",
     "status": "completed"
    },
    "tags": []
   },
   "outputs": [],
   "source": [
    "df = pd.read_sql(\"select * from EBAY_TOP_BERLIN where record_time in (select distinct record_time from EBAY_TOP_BERLIN order by record_time desc limit 2)\", sqlite3.connect(\"UsedObjects.db\"))"
   ]
  },
  {
   "cell_type": "code",
   "execution_count": 5,
   "id": "popular-active",
   "metadata": {
    "execution": {
     "iopub.execute_input": "2021-11-16T08:30:11.069122Z",
     "iopub.status.busy": "2021-11-16T08:30:11.058507Z",
     "iopub.status.idle": "2021-11-16T08:30:11.090268Z",
     "shell.execute_reply": "2021-11-16T08:30:11.091617Z"
    },
    "papermill": {
     "duration": 0.077702,
     "end_time": "2021-11-16T08:30:11.092088",
     "exception": false,
     "start_time": "2021-11-16T08:30:11.014386",
     "status": "completed"
    },
    "tags": []
   },
   "outputs": [],
   "source": [
    "df_pivot = df.pivot_table(index=\"PRODUCT\", columns = \"RECORD_TIME\", values = \"LISTING_COUNT\")"
   ]
  },
  {
   "cell_type": "code",
   "execution_count": 6,
   "id": "union-huntington",
   "metadata": {
    "execution": {
     "iopub.execute_input": "2021-11-16T08:30:11.150171Z",
     "iopub.status.busy": "2021-11-16T08:30:11.147889Z",
     "iopub.status.idle": "2021-11-16T08:30:11.155231Z",
     "shell.execute_reply": "2021-11-16T08:30:11.153646Z"
    },
    "papermill": {
     "duration": 0.043741,
     "end_time": "2021-11-16T08:30:11.155634",
     "exception": false,
     "start_time": "2021-11-16T08:30:11.111893",
     "status": "completed"
    },
    "tags": []
   },
   "outputs": [],
   "source": [
    "df_pivot.columns = [\"stamp_1\", \"stamp_2\"]\n",
    "df_pivot_diff = df_pivot.diff(axis=1)"
   ]
  },
  {
   "cell_type": "code",
   "execution_count": 7,
   "id": "fifth-motion",
   "metadata": {
    "execution": {
     "iopub.execute_input": "2021-11-16T08:30:11.217681Z",
     "iopub.status.busy": "2021-11-16T08:30:11.215019Z",
     "iopub.status.idle": "2021-11-16T08:30:13.231138Z",
     "shell.execute_reply": "2021-11-16T08:30:13.232491Z"
    },
    "papermill": {
     "duration": 2.057052,
     "end_time": "2021-11-16T08:30:13.233036",
     "exception": false,
     "start_time": "2021-11-16T08:30:11.175984",
     "status": "completed"
    },
    "tags": []
   },
   "outputs": [
    {
     "data": {
      "text/plain": [
       "<AxesSubplot:ylabel='PRODUCT'>"
      ]
     },
     "execution_count": 7,
     "metadata": {},
     "output_type": "execute_result"
    },
    {
     "data": {
      "image/png": "[encoded data removed]",
      "text/plain": [
       "<Figure size 432x288 with 1 Axes>"
      ]
     },
     "metadata": {
      "needs_background": "light"
     },
     "output_type": "display_data"
    }
   ],
   "source": [
    "df_pivot_diff.sort_values(\"stamp_2\", ascending = False)[\"stamp_2\"].head(10).plot.barh()"
   ]
  },
  {
   "cell_type": "code",
   "execution_count": null,
   "id": "extra-executive",
   "metadata": {
    "papermill": {
     "duration": 0.022152,
     "end_time": "2021-11-16T08:30:13.279830",
     "exception": false,
     "start_time": "2021-11-16T08:30:13.257678",
     "status": "completed"
    },
    "tags": []
   },
   "outputs": [],
   "source": []
  }
 ],
 "metadata": {
  "kernelspec": {
   "display_name": "Python 3",
   "language": "python",
   "name": "python3"
  },
  "language_info": {
   "codemirror_mode": {
    "name": "ipython",
    "version": 3
   },
   "file_extension": ".py",
   "mimetype": "text/x-python",
   "name": "python",
   "nbconvert_exporter": "python",
   "pygments_lexer": "ipython3",
   "version": "3.9.5"
  },
  "papermill": {
   "default_parameters": {},
   "duration": 9.940449,
   "end_time": "2021-11-16T08:30:14.914519",
   "environment_variables": {},
   "exception": null,
   "input_path": "eBay_Overview.ipynb",
   "output_path": "eBay_Overview.ipynb",
   "parameters": {},
   "start_time": "2021-11-16T08:30:04.974070",
   "version": "2.3.3"
  }
 },
 "nbformat": 4,
 "nbformat_minor": 5
}