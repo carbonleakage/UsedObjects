{
 "cells": [
  {
   "cell_type": "code",
   "execution_count": 1,
   "id": "reverse-picking",
   "metadata": {
    "execution": {
     "iopub.execute_input": "2021-10-18T21:30:08.132361Z",
     "iopub.status.busy": "2021-10-18T21:30:08.130422Z",
     "iopub.status.idle": "2021-10-18T21:30:08.937784Z",
     "shell.execute_reply": "2021-10-18T21:30:08.939086Z"
    },
    "papermill": {
     "duration": 0.860033,
     "end_time": "2021-10-18T21:30:08.939690",
     "exception": false,
     "start_time": "2021-10-18T21:30:08.079657",
     "status": "completed"
    },
    "tags": []
   },
   "outputs": [],
   "source": [
    "import pandas as pd\n",
    "import sqlite3"
   ]
  },
  {
   "cell_type": "code",
   "execution_count": 2,
   "id": "innovative-syndrome",
   "metadata": {
    "execution": {
     "iopub.execute_input": "2021-10-18T21:30:08.991174Z",
     "iopub.status.busy": "2021-10-18T21:30:08.989318Z",
     "iopub.status.idle": "2021-10-18T21:30:09.579038Z",
     "shell.execute_reply": "2021-10-18T21:30:09.580259Z"
    },
    "papermill": {
     "duration": 0.619216,
     "end_time": "2021-10-18T21:30:09.580650",
     "exception": false,
     "start_time": "2021-10-18T21:30:08.961434",
     "status": "completed"
    },
    "tags": []
   },
   "outputs": [],
   "source": [
    "timestamps = pd.read_sql(\"select distinct record_time from EBAY_TOP_BERLIN order by record_time desc limit 2\", sqlite3.connect(\"UsedObjects.db\"))"
   ]
  },
  {
   "cell_type": "code",
   "execution_count": 3,
   "id": "periodic-identification",
   "metadata": {
    "execution": {
     "iopub.execute_input": "2021-10-18T21:30:09.656954Z",
     "iopub.status.busy": "2021-10-18T21:30:09.654888Z",
     "iopub.status.idle": "2021-10-18T21:30:09.674856Z",
     "shell.execute_reply": "2021-10-18T21:30:09.676144Z"
    },
    "papermill": {
     "duration": 0.068374,
     "end_time": "2021-10-18T21:30:09.676553",
     "exception": false,
     "start_time": "2021-10-18T21:30:09.608179",
     "status": "completed"
    },
    "tags": []
   },
   "outputs": [
    {
     "data": {
      "text/html": [
       "<div>\n",
       "<style scoped>\n",
       "    .dataframe tbody tr th:only-of-type {\n",
       "        vertical-align: middle;\n",
       "    }\n",
       "\n",
       "    .dataframe tbody tr th {\n",
       "        vertical-align: top;\n",
       "    }\n",
       "\n",
       "    .dataframe thead th {\n",
       "        text-align: right;\n",
       "    }\n",
       "</style>\n",
       "<table border=\"1\" class=\"dataframe\">\n",
       "  <thead>\n",
       "    <tr style=\"text-align: right;\">\n",
       "      <th></th>\n",
       "      <th>RECORD_TIME</th>\n",
       "    </tr>\n",
       "  </thead>\n",
       "  <tbody>\n",
       "    <tr>\n",
       "      <th>0</th>\n",
       "      <td>2021-10-18 23:30</td>\n",
       "    </tr>\n",
       "    <tr>\n",
       "      <th>1</th>\n",
       "      <td>2021-10-18 23:00</td>\n",
       "    </tr>\n",
       "  </tbody>\n",
       "</table>\n",
       "</div>"
      ],
      "text/plain": [
       "        RECORD_TIME\n",
       "0  2021-10-18 23:30\n",
       "1  2021-10-18 23:00"
      ]
     },
     "execution_count": 3,
     "metadata": {},
     "output_type": "execute_result"
    }
   ],
   "source": [
    "timestamps"
   ]
  },
  {
   "cell_type": "code",
   "execution_count": 4,
   "id": "alternate-victory",
   "metadata": {
    "execution": {
     "iopub.execute_input": "2021-10-18T21:30:09.727910Z",
     "iopub.status.busy": "2021-10-18T21:30:09.726082Z",
     "iopub.status.idle": "2021-10-18T21:30:10.576673Z",
     "shell.execute_reply": "2021-10-18T21:30:10.578137Z"
    },
    "papermill": {
     "duration": 0.880638,
     "end_time": "2021-10-18T21:30:10.578553",
     "exception": false,
     "start_time": "2021-10-18T21:30:09.697915",
     "status": "completed"
    },
    "tags": []
   },
   "outputs": [],
   "source": [
    "df = pd.read_sql(\"select * from EBAY_TOP_BERLIN where record_time in (select distinct record_time from EBAY_TOP_BERLIN order by record_time desc limit 2)\", sqlite3.connect(\"UsedObjects.db\"))"
   ]
  },
  {
   "cell_type": "code",
   "execution_count": 5,
   "id": "popular-active",
   "metadata": {
    "execution": {
     "iopub.execute_input": "2021-10-18T21:30:10.647578Z",
     "iopub.status.busy": "2021-10-18T21:30:10.636320Z",
     "iopub.status.idle": "2021-10-18T21:30:10.664200Z",
     "shell.execute_reply": "2021-10-18T21:30:10.665659Z"
    },
    "papermill": {
     "duration": 0.067068,
     "end_time": "2021-10-18T21:30:10.666099",
     "exception": false,
     "start_time": "2021-10-18T21:30:10.599031",
     "status": "completed"
    },
    "tags": []
   },
   "outputs": [],
   "source": [
    "df_pivot = df.pivot_table(index=\"PRODUCT\", columns = \"RECORD_TIME\", values = \"LISTING_COUNT\")"
   ]
  },
  {
   "cell_type": "code",
   "execution_count": 6,
   "id": "union-huntington",
   "metadata": {
    "execution": {
     "iopub.execute_input": "2021-10-18T21:30:10.723496Z",
     "iopub.status.busy": "2021-10-18T21:30:10.721047Z",
     "iopub.status.idle": "2021-10-18T21:30:10.726765Z",
     "shell.execute_reply": "2021-10-18T21:30:10.728045Z"
    },
    "papermill": {
     "duration": 0.041866,
     "end_time": "2021-10-18T21:30:10.728455",
     "exception": false,
     "start_time": "2021-10-18T21:30:10.686589",
     "status": "completed"
    },
    "tags": []
   },
   "outputs": [],
   "source": [
    "df_pivot.columns = [\"stamp_1\", \"stamp_2\"]\n",
    "df_pivot_diff = df_pivot.diff(axis=1)"
   ]
  },
  {
   "cell_type": "code",
   "execution_count": 7,
   "id": "fifth-motion",
   "metadata": {
    "execution": {
     "iopub.execute_input": "2021-10-18T21:30:10.784336Z",
     "iopub.status.busy": "2021-10-18T21:30:10.779841Z",
     "iopub.status.idle": "2021-10-18T21:30:12.290751Z",
     "shell.execute_reply": "2021-10-18T21:30:12.292039Z"
    },
    "papermill": {
     "duration": 1.54338,
     "end_time": "2021-10-18T21:30:12.292450",
     "exception": false,
     "start_time": "2021-10-18T21:30:10.749070",
     "status": "completed"
    },
    "tags": []
   },
   "outputs": [
    {
     "data": {
      "text/plain": [
       "<AxesSubplot:ylabel='PRODUCT'>"
      ]
     },
     "execution_count": 7,
     "metadata": {},
     "output_type": "execute_result"
    },
    {
     "data": {
      "image/png": "[encoded data removed]",
      "text/plain": [
       "<Figure size 432x288 with 1 Axes>"
      ]
     },
     "metadata": {
      "needs_background": "light"
     },
     "output_type": "display_data"
    }
   ],
   "source": [
    "df_pivot_diff.sort_values(\"stamp_2\", ascending = False)[\"stamp_2\"].head(10).plot.barh()"
   ]
  },
  {
   "cell_type": "code",
   "execution_count": null,
   "id": "extra-executive",
   "metadata": {
    "papermill": {
     "duration": 0.022466,
     "end_time": "2021-10-18T21:30:12.338604",
     "exception": false,
     "start_time": "2021-10-18T21:30:12.316138",
     "status": "completed"
    },
    "tags": []
   },
   "outputs": [],
   "source": []
  }
 ],
 "metadata": {
  "kernelspec": {
   "display_name": "Python 3",
   "language": "python",
   "name": "python3"
  },
  "language_info": {
   "codemirror_mode": {
    "name": "ipython",
    "version": 3
   },
   "file_extension": ".py",
   "mimetype": "text/x-python",
   "name": "python",
   "nbconvert_exporter": "python",
   "pygments_lexer": "ipython3",
   "version": "3.9.5"
  },
  "papermill": {
   "default_parameters": {},
   "duration": 7.818793,
   "end_time": "2021-10-18T21:30:13.493769",
   "environment_variables": {},
   "exception": null,
   "input_path": "eBay_Overview.ipynb",
   "output_path": "eBay_Overview.ipynb",
   "parameters": {},
   "start_time": "2021-10-18T21:30:05.674976",
   "version": "2.3.3"
  }
 },
 "nbformat": 4,
 "nbformat_minor": 5
}