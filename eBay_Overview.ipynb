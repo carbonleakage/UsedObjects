{
 "cells": [
  {
   "cell_type": "code",
   "execution_count": 1,
   "id": "reverse-picking",
   "metadata": {
    "execution": {
     "iopub.execute_input": "2021-08-22T14:00:07.084120Z",
     "iopub.status.busy": "2021-08-22T14:00:07.082179Z",
     "iopub.status.idle": "2021-08-22T14:00:07.888563Z",
     "shell.execute_reply": "2021-08-22T14:00:07.889807Z"
    },
    "papermill": {
     "duration": 0.857985,
     "end_time": "2021-08-22T14:00:07.890483",
     "exception": false,
     "start_time": "2021-08-22T14:00:07.032498",
     "status": "completed"
    },
    "tags": []
   },
   "outputs": [],
   "source": [
    "import pandas as pd\n",
    "import sqlite3"
   ]
  },
  {
   "cell_type": "code",
   "execution_count": 2,
   "id": "innovative-syndrome",
   "metadata": {
    "execution": {
     "iopub.execute_input": "2021-08-22T14:00:07.942117Z",
     "iopub.status.busy": "2021-08-22T14:00:07.940190Z",
     "iopub.status.idle": "2021-08-22T14:00:08.058211Z",
     "shell.execute_reply": "2021-08-22T14:00:08.059417Z"
    },
    "papermill": {
     "duration": 0.147283,
     "end_time": "2021-08-22T14:00:08.059813",
     "exception": false,
     "start_time": "2021-08-22T14:00:07.912530",
     "status": "completed"
    },
    "tags": []
   },
   "outputs": [],
   "source": [
    "timestamps = pd.read_sql(\"select distinct record_time from EBAY_TOP_BERLIN order by record_time desc limit 2\", sqlite3.connect(\"UsedObjects.db\"))"
   ]
  },
  {
   "cell_type": "code",
   "execution_count": 3,
   "id": "periodic-identification",
   "metadata": {
    "execution": {
     "iopub.execute_input": "2021-08-22T14:00:08.127187Z",
     "iopub.status.busy": "2021-08-22T14:00:08.125081Z",
     "iopub.status.idle": "2021-08-22T14:00:08.145244Z",
     "shell.execute_reply": "2021-08-22T14:00:08.146807Z"
    },
    "papermill": {
     "duration": 0.06527,
     "end_time": "2021-08-22T14:00:08.147297",
     "exception": false,
     "start_time": "2021-08-22T14:00:08.082027",
     "status": "completed"
    },
    "tags": []
   },
   "outputs": [
    {
     "data": {
      "text/html": [
       "<div>\n",
       "<style scoped>\n",
       "    .dataframe tbody tr th:only-of-type {\n",
       "        vertical-align: middle;\n",
       "    }\n",
       "\n",
       "    .dataframe tbody tr th {\n",
       "        vertical-align: top;\n",
       "    }\n",
       "\n",
       "    .dataframe thead th {\n",
       "        text-align: right;\n",
       "    }\n",
       "</style>\n",
       "<table border=\"1\" class=\"dataframe\">\n",
       "  <thead>\n",
       "    <tr style=\"text-align: right;\">\n",
       "      <th></th>\n",
       "      <th>RECORD_TIME</th>\n",
       "    </tr>\n",
       "  </thead>\n",
       "  <tbody>\n",
       "    <tr>\n",
       "      <th>0</th>\n",
       "      <td>2021-08-22 16:00</td>\n",
       "    </tr>\n",
       "    <tr>\n",
       "      <th>1</th>\n",
       "      <td>2021-08-22 15:30</td>\n",
       "    </tr>\n",
       "  </tbody>\n",
       "</table>\n",
       "</div>"
      ],
      "text/plain": [
       "        RECORD_TIME\n",
       "0  2021-08-22 16:00\n",
       "1  2021-08-22 15:30"
      ]
     },
     "execution_count": 3,
     "metadata": {},
     "output_type": "execute_result"
    }
   ],
   "source": [
    "timestamps"
   ]
  },
  {
   "cell_type": "code",
   "execution_count": 4,
   "id": "alternate-victory",
   "metadata": {
    "execution": {
     "iopub.execute_input": "2021-08-22T14:00:08.198895Z",
     "iopub.status.busy": "2021-08-22T14:00:08.196952Z",
     "iopub.status.idle": "2021-08-22T14:00:08.352981Z",
     "shell.execute_reply": "2021-08-22T14:00:08.354395Z"
    },
    "papermill": {
     "duration": 0.185925,
     "end_time": "2021-08-22T14:00:08.354812",
     "exception": false,
     "start_time": "2021-08-22T14:00:08.168887",
     "status": "completed"
    },
    "tags": []
   },
   "outputs": [],
   "source": [
    "df = pd.read_sql(\"select * from EBAY_TOP_BERLIN where record_time in (select distinct record_time from EBAY_TOP_BERLIN order by record_time desc limit 2)\", sqlite3.connect(\"UsedObjects.db\"))"
   ]
  },
  {
   "cell_type": "code",
   "execution_count": 5,
   "id": "popular-active",
   "metadata": {
    "execution": {
     "iopub.execute_input": "2021-08-22T14:00:08.427480Z",
     "iopub.status.busy": "2021-08-22T14:00:08.415378Z",
     "iopub.status.idle": "2021-08-22T14:00:08.443840Z",
     "shell.execute_reply": "2021-08-22T14:00:08.445185Z"
    },
    "papermill": {
     "duration": 0.069196,
     "end_time": "2021-08-22T14:00:08.445621",
     "exception": false,
     "start_time": "2021-08-22T14:00:08.376425",
     "status": "completed"
    },
    "tags": []
   },
   "outputs": [],
   "source": [
    "df_pivot = df.pivot_table(index=\"PRODUCT\", columns = \"RECORD_TIME\", values = \"LISTING_COUNT\")"
   ]
  },
  {
   "cell_type": "code",
   "execution_count": 6,
   "id": "union-huntington",
   "metadata": {
    "execution": {
     "iopub.execute_input": "2021-08-22T14:00:08.506037Z",
     "iopub.status.busy": "2021-08-22T14:00:08.503566Z",
     "iopub.status.idle": "2021-08-22T14:00:08.509478Z",
     "shell.execute_reply": "2021-08-22T14:00:08.510882Z"
    },
    "papermill": {
     "duration": 0.042581,
     "end_time": "2021-08-22T14:00:08.511317",
     "exception": false,
     "start_time": "2021-08-22T14:00:08.468736",
     "status": "completed"
    },
    "tags": []
   },
   "outputs": [],
   "source": [
    "df_pivot.columns = [\"stamp_1\", \"stamp_2\"]\n",
    "df_pivot_diff = df_pivot.diff(axis=1)"
   ]
  },
  {
   "cell_type": "code",
   "execution_count": 7,
   "id": "fifth-motion",
   "metadata": {
    "execution": {
     "iopub.execute_input": "2021-08-22T14:00:08.572575Z",
     "iopub.status.busy": "2021-08-22T14:00:08.569857Z",
     "iopub.status.idle": "2021-08-22T14:00:10.075648Z",
     "shell.execute_reply": "2021-08-22T14:00:10.076925Z"
    },
    "papermill": {
     "duration": 1.542236,
     "end_time": "2021-08-22T14:00:10.077340",
     "exception": false,
     "start_time": "2021-08-22T14:00:08.535104",
     "status": "completed"
    },
    "tags": []
   },
   "outputs": [
    {
     "data": {
      "text/plain": [
       "<AxesSubplot:ylabel='PRODUCT'>"
      ]
     },
     "execution_count": 7,
     "metadata": {},
     "output_type": "execute_result"
    },
    {
     "data": {
      "image/png": "[encoded data removed]",
      "text/plain": [
       "<Figure size 432x288 with 1 Axes>"
      ]
     },
     "metadata": {
      "needs_background": "light"
     },
     "output_type": "display_data"
    }
   ],
   "source": [
    "df_pivot_diff.sort_values(\"stamp_2\", ascending = False)[\"stamp_2\"].head(10).plot.barh()"
   ]
  },
  {
   "cell_type": "code",
   "execution_count": null,
   "id": "extra-executive",
   "metadata": {
    "papermill": {
     "duration": 0.022214,
     "end_time": "2021-08-22T14:00:10.123290",
     "exception": false,
     "start_time": "2021-08-22T14:00:10.101076",
     "status": "completed"
    },
    "tags": []
   },
   "outputs": [],
   "source": []
  }
 ],
 "metadata": {
  "kernelspec": {
   "display_name": "Python 3",
   "language": "python",
   "name": "python3"
  },
  "language_info": {
   "codemirror_mode": {
    "name": "ipython",
    "version": 3
   },
   "file_extension": ".py",
   "mimetype": "text/x-python",
   "name": "python",
   "nbconvert_exporter": "python",
   "pygments_lexer": "ipython3",
   "version": "3.9.5"
  },
  "papermill": {
   "default_parameters": {},
   "duration": 6.828868,
   "end_time": "2021-08-22T14:00:11.463308",
   "environment_variables": {},
   "exception": null,
   "input_path": "eBay_Overview.ipynb",
   "output_path": "eBay_Overview.ipynb",
   "parameters": {},
   "start_time": "2021-08-22T14:00:04.634440",
   "version": "2.3.3"
  }
 },
 "nbformat": 4,
 "nbformat_minor": 5
}