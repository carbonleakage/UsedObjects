{
 "cells": [
  {
   "cell_type": "code",
   "execution_count": 1,
   "id": "reverse-picking",
   "metadata": {
    "execution": {
     "iopub.execute_input": "2021-08-16T11:30:08.952510Z",
     "iopub.status.busy": "2021-08-16T11:30:08.950573Z",
     "iopub.status.idle": "2021-08-16T11:30:11.067778Z",
     "shell.execute_reply": "2021-08-16T11:30:11.069384Z"
    },
    "papermill": {
     "duration": 2.171239,
     "end_time": "2021-08-16T11:30:11.070329",
     "exception": false,
     "start_time": "2021-08-16T11:30:08.899090",
     "status": "completed"
    },
    "tags": []
   },
   "outputs": [],
   "source": [
    "import pandas as pd\n",
    "import sqlite3"
   ]
  },
  {
   "cell_type": "code",
   "execution_count": 2,
   "id": "innovative-syndrome",
   "metadata": {
    "execution": {
     "iopub.execute_input": "2021-08-16T11:30:11.123823Z",
     "iopub.status.busy": "2021-08-16T11:30:11.121444Z",
     "iopub.status.idle": "2021-08-16T11:30:11.222281Z",
     "shell.execute_reply": "2021-08-16T11:30:11.223991Z"
    },
    "papermill": {
     "duration": 0.131205,
     "end_time": "2021-08-16T11:30:11.224522",
     "exception": false,
     "start_time": "2021-08-16T11:30:11.093317",
     "status": "completed"
    },
    "tags": []
   },
   "outputs": [],
   "source": [
    "timestamps = pd.read_sql(\"select distinct record_time from EBAY_TOP_BERLIN order by record_time desc limit 2\", sqlite3.connect(\"UsedObjects.db\"))"
   ]
  },
  {
   "cell_type": "code",
   "execution_count": 3,
   "id": "periodic-identification",
   "metadata": {
    "execution": {
     "iopub.execute_input": "2021-08-16T11:30:11.290818Z",
     "iopub.status.busy": "2021-08-16T11:30:11.288662Z",
     "iopub.status.idle": "2021-08-16T11:30:11.311946Z",
     "shell.execute_reply": "2021-08-16T11:30:11.313386Z"
    },
    "papermill": {
     "duration": 0.067992,
     "end_time": "2021-08-16T11:30:11.313849",
     "exception": false,
     "start_time": "2021-08-16T11:30:11.245857",
     "status": "completed"
    },
    "tags": []
   },
   "outputs": [
    {
     "data": {
      "text/html": [
       "<div>\n",
       "<style scoped>\n",
       "    .dataframe tbody tr th:only-of-type {\n",
       "        vertical-align: middle;\n",
       "    }\n",
       "\n",
       "    .dataframe tbody tr th {\n",
       "        vertical-align: top;\n",
       "    }\n",
       "\n",
       "    .dataframe thead th {\n",
       "        text-align: right;\n",
       "    }\n",
       "</style>\n",
       "<table border=\"1\" class=\"dataframe\">\n",
       "  <thead>\n",
       "    <tr style=\"text-align: right;\">\n",
       "      <th></th>\n",
       "      <th>RECORD_TIME</th>\n",
       "    </tr>\n",
       "  </thead>\n",
       "  <tbody>\n",
       "    <tr>\n",
       "      <th>0</th>\n",
       "      <td>2021-08-16 13:30</td>\n",
       "    </tr>\n",
       "    <tr>\n",
       "      <th>1</th>\n",
       "      <td>2021-08-16 13:00</td>\n",
       "    </tr>\n",
       "  </tbody>\n",
       "</table>\n",
       "</div>"
      ],
      "text/plain": [
       "        RECORD_TIME\n",
       "0  2021-08-16 13:30\n",
       "1  2021-08-16 13:00"
      ]
     },
     "execution_count": 3,
     "metadata": {},
     "output_type": "execute_result"
    }
   ],
   "source": [
    "timestamps"
   ]
  },
  {
   "cell_type": "code",
   "execution_count": 4,
   "id": "alternate-victory",
   "metadata": {
    "execution": {
     "iopub.execute_input": "2021-08-16T11:30:11.365719Z",
     "iopub.status.busy": "2021-08-16T11:30:11.363796Z",
     "iopub.status.idle": "2021-08-16T11:30:11.452454Z",
     "shell.execute_reply": "2021-08-16T11:30:11.453674Z"
    },
    "papermill": {
     "duration": 0.119026,
     "end_time": "2021-08-16T11:30:11.454264",
     "exception": false,
     "start_time": "2021-08-16T11:30:11.335238",
     "status": "completed"
    },
    "tags": []
   },
   "outputs": [],
   "source": [
    "df = pd.read_sql(\"select * from EBAY_TOP_BERLIN where record_time in (select distinct record_time from EBAY_TOP_BERLIN order by record_time desc limit 2)\", sqlite3.connect(\"UsedObjects.db\"))"
   ]
  },
  {
   "cell_type": "code",
   "execution_count": 5,
   "id": "popular-active",
   "metadata": {
    "execution": {
     "iopub.execute_input": "2021-08-16T11:30:11.536184Z",
     "iopub.status.busy": "2021-08-16T11:30:11.525160Z",
     "iopub.status.idle": "2021-08-16T11:30:11.591177Z",
     "shell.execute_reply": "2021-08-16T11:30:11.592449Z"
    },
    "papermill": {
     "duration": 0.118538,
     "end_time": "2021-08-16T11:30:11.592866",
     "exception": false,
     "start_time": "2021-08-16T11:30:11.474328",
     "status": "completed"
    },
    "tags": []
   },
   "outputs": [],
   "source": [
    "df_pivot = df.pivot_table(index=\"PRODUCT\", columns = \"RECORD_TIME\", values = \"LISTING_COUNT\")"
   ]
  },
  {
   "cell_type": "code",
   "execution_count": 6,
   "id": "union-huntington",
   "metadata": {
    "execution": {
     "iopub.execute_input": "2021-08-16T11:30:11.650728Z",
     "iopub.status.busy": "2021-08-16T11:30:11.648488Z",
     "iopub.status.idle": "2021-08-16T11:30:11.654432Z",
     "shell.execute_reply": "2021-08-16T11:30:11.655982Z"
    },
    "papermill": {
     "duration": 0.041424,
     "end_time": "2021-08-16T11:30:11.656459",
     "exception": false,
     "start_time": "2021-08-16T11:30:11.615035",
     "status": "completed"
    },
    "tags": []
   },
   "outputs": [],
   "source": [
    "df_pivot.columns = [\"stamp_1\", \"stamp_2\"]\n",
    "df_pivot_diff = df_pivot.diff(axis=1)"
   ]
  },
  {
   "cell_type": "code",
   "execution_count": 7,
   "id": "fifth-motion",
   "metadata": {
    "execution": {
     "iopub.execute_input": "2021-08-16T11:30:11.711547Z",
     "iopub.status.busy": "2021-08-16T11:30:11.709498Z",
     "iopub.status.idle": "2021-08-16T11:30:13.701997Z",
     "shell.execute_reply": "2021-08-16T11:30:13.703282Z"
    },
    "papermill": {
     "duration": 2.026389,
     "end_time": "2021-08-16T11:30:13.703733",
     "exception": false,
     "start_time": "2021-08-16T11:30:11.677344",
     "status": "completed"
    },
    "tags": []
   },
   "outputs": [
    {
     "data": {
      "text/plain": [
       "<AxesSubplot:ylabel='PRODUCT'>"
      ]
     },
     "execution_count": 7,
     "metadata": {},
     "output_type": "execute_result"
    },
    {
     "data": {
      "image/png": "[encoded data removed]",
      "text/plain": [
       "<Figure size 432x288 with 1 Axes>"
      ]
     },
     "metadata": {
      "needs_background": "light"
     },
     "output_type": "display_data"
    }
   ],
   "source": [
    "df_pivot_diff.sort_values(\"stamp_2\", ascending = False)[\"stamp_2\"].head(10).plot.barh()"
   ]
  },
  {
   "cell_type": "code",
   "execution_count": null,
   "id": "extra-executive",
   "metadata": {
    "papermill": {
     "duration": 0.021938,
     "end_time": "2021-08-16T11:30:13.750621",
     "exception": false,
     "start_time": "2021-08-16T11:30:13.728683",
     "status": "completed"
    },
    "tags": []
   },
   "outputs": [],
   "source": []
  }
 ],
 "metadata": {
  "kernelspec": {
   "display_name": "Python 3",
   "language": "python",
   "name": "python3"
  },
  "language_info": {
   "codemirror_mode": {
    "name": "ipython",
    "version": 3
   },
   "file_extension": ".py",
   "mimetype": "text/x-python",
   "name": "python",
   "nbconvert_exporter": "python",
   "pygments_lexer": "ipython3",
   "version": "3.9.5"
  },
  "papermill": {
   "default_parameters": {},
   "duration": 9.294892,
   "end_time": "2021-08-16T11:30:15.286650",
   "environment_variables": {},
   "exception": null,
   "input_path": "eBay_Overview.ipynb",
   "output_path": "eBay_Overview.ipynb",
   "parameters": {},
   "start_time": "2021-08-16T11:30:05.991758",
   "version": "2.3.3"
  }
 },
 "nbformat": 4,
 "nbformat_minor": 5
}