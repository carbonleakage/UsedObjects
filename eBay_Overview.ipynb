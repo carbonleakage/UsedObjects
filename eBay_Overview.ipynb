{
 "cells": [
  {
   "cell_type": "code",
   "execution_count": 1,
   "id": "reverse-picking",
   "metadata": {
    "execution": {
     "iopub.execute_input": "2021-11-25T11:30:07.472287Z",
     "iopub.status.busy": "2021-11-25T11:30:07.468649Z",
     "iopub.status.idle": "2021-11-25T11:30:08.387722Z",
     "shell.execute_reply": "2021-11-25T11:30:08.389371Z"
    },
    "papermill": {
     "duration": 0.968943,
     "end_time": "2021-11-25T11:30:08.390181",
     "exception": false,
     "start_time": "2021-11-25T11:30:07.421238",
     "status": "completed"
    },
    "tags": []
   },
   "outputs": [],
   "source": [
    "import pandas as pd\n",
    "import sqlite3"
   ]
  },
  {
   "cell_type": "code",
   "execution_count": 2,
   "id": "innovative-syndrome",
   "metadata": {
    "execution": {
     "iopub.execute_input": "2021-11-25T11:30:08.451777Z",
     "iopub.status.busy": "2021-11-25T11:30:08.449424Z",
     "iopub.status.idle": "2021-11-25T11:30:09.365696Z",
     "shell.execute_reply": "2021-11-25T11:30:09.368109Z"
    },
    "papermill": {
     "duration": 0.950791,
     "end_time": "2021-11-25T11:30:09.368611",
     "exception": false,
     "start_time": "2021-11-25T11:30:08.417820",
     "status": "completed"
    },
    "tags": []
   },
   "outputs": [],
   "source": [
    "timestamps = pd.read_sql(\"select distinct record_time from EBAY_TOP_BERLIN order by record_time desc limit 2\", sqlite3.connect(\"UsedObjects.db\"))"
   ]
  },
  {
   "cell_type": "code",
   "execution_count": 3,
   "id": "periodic-identification",
   "metadata": {
    "execution": {
     "iopub.execute_input": "2021-11-25T11:30:09.440648Z",
     "iopub.status.busy": "2021-11-25T11:30:09.438291Z",
     "iopub.status.idle": "2021-11-25T11:30:09.463714Z",
     "shell.execute_reply": "2021-11-25T11:30:09.465310Z"
    },
    "papermill": {
     "duration": 0.076272,
     "end_time": "2021-11-25T11:30:09.465802",
     "exception": false,
     "start_time": "2021-11-25T11:30:09.389530",
     "status": "completed"
    },
    "tags": []
   },
   "outputs": [
    {
     "data": {
      "text/html": [
       "<div>\n",
       "<style scoped>\n",
       "    .dataframe tbody tr th:only-of-type {\n",
       "        vertical-align: middle;\n",
       "    }\n",
       "\n",
       "    .dataframe tbody tr th {\n",
       "        vertical-align: top;\n",
       "    }\n",
       "\n",
       "    .dataframe thead th {\n",
       "        text-align: right;\n",
       "    }\n",
       "</style>\n",
       "<table border=\"1\" class=\"dataframe\">\n",
       "  <thead>\n",
       "    <tr style=\"text-align: right;\">\n",
       "      <th></th>\n",
       "      <th>RECORD_TIME</th>\n",
       "    </tr>\n",
       "  </thead>\n",
       "  <tbody>\n",
       "    <tr>\n",
       "      <th>0</th>\n",
       "      <td>2021-11-25 12:30</td>\n",
       "    </tr>\n",
       "    <tr>\n",
       "      <th>1</th>\n",
       "      <td>2021-11-25 12:00</td>\n",
       "    </tr>\n",
       "  </tbody>\n",
       "</table>\n",
       "</div>"
      ],
      "text/plain": [
       "        RECORD_TIME\n",
       "0  2021-11-25 12:30\n",
       "1  2021-11-25 12:00"
      ]
     },
     "execution_count": 3,
     "metadata": {},
     "output_type": "execute_result"
    }
   ],
   "source": [
    "timestamps"
   ]
  },
  {
   "cell_type": "code",
   "execution_count": 4,
   "id": "alternate-victory",
   "metadata": {
    "execution": {
     "iopub.execute_input": "2021-11-25T11:30:09.521718Z",
     "iopub.status.busy": "2021-11-25T11:30:09.519383Z",
     "iopub.status.idle": "2021-11-25T11:30:10.862893Z",
     "shell.execute_reply": "2021-11-25T11:30:10.864429Z"
    },
    "papermill": {
     "duration": 1.377833,
     "end_time": "2021-11-25T11:30:10.864956",
     "exception": false,
     "start_time": "2021-11-25T11:30:09.487123",
     "status": "completed"
    },
    "tags": []
   },
   "outputs": [],
   "source": [
    "df = pd.read_sql(\"select * from EBAY_TOP_BERLIN where record_time in (select distinct record_time from EBAY_TOP_BERLIN order by record_time desc limit 2)\", sqlite3.connect(\"UsedObjects.db\"))"
   ]
  },
  {
   "cell_type": "code",
   "execution_count": 5,
   "id": "popular-active",
   "metadata": {
    "execution": {
     "iopub.execute_input": "2021-11-25T11:30:10.942235Z",
     "iopub.status.busy": "2021-11-25T11:30:10.929260Z",
     "iopub.status.idle": "2021-11-25T11:30:10.960164Z",
     "shell.execute_reply": "2021-11-25T11:30:10.961759Z"
    },
    "papermill": {
     "duration": 0.074162,
     "end_time": "2021-11-25T11:30:10.962266",
     "exception": false,
     "start_time": "2021-11-25T11:30:10.888104",
     "status": "completed"
    },
    "tags": []
   },
   "outputs": [],
   "source": [
    "df_pivot = df.pivot_table(index=\"PRODUCT\", columns = \"RECORD_TIME\", values = \"LISTING_COUNT\")"
   ]
  },
  {
   "cell_type": "code",
   "execution_count": 6,
   "id": "union-huntington",
   "metadata": {
    "execution": {
     "iopub.execute_input": "2021-11-25T11:30:11.025392Z",
     "iopub.status.busy": "2021-11-25T11:30:11.022999Z",
     "iopub.status.idle": "2021-11-25T11:30:11.028065Z",
     "shell.execute_reply": "2021-11-25T11:30:11.029528Z"
    },
    "papermill": {
     "duration": 0.046812,
     "end_time": "2021-11-25T11:30:11.029968",
     "exception": false,
     "start_time": "2021-11-25T11:30:10.983156",
     "status": "completed"
    },
    "tags": []
   },
   "outputs": [],
   "source": [
    "df_pivot.columns = [\"stamp_1\", \"stamp_2\"]\n",
    "df_pivot_diff = df_pivot.diff(axis=1)"
   ]
  },
  {
   "cell_type": "code",
   "execution_count": 7,
   "id": "fifth-motion",
   "metadata": {
    "execution": {
     "iopub.execute_input": "2021-11-25T11:30:11.099535Z",
     "iopub.status.busy": "2021-11-25T11:30:11.087857Z",
     "iopub.status.idle": "2021-11-25T11:30:12.985787Z",
     "shell.execute_reply": "2021-11-25T11:30:12.987137Z"
    },
    "papermill": {
     "duration": 1.935489,
     "end_time": "2021-11-25T11:30:12.987598",
     "exception": false,
     "start_time": "2021-11-25T11:30:11.052109",
     "status": "completed"
    },
    "tags": []
   },
   "outputs": [
    {
     "data": {
      "text/plain": [
       "<AxesSubplot:ylabel='PRODUCT'>"
      ]
     },
     "execution_count": 7,
     "metadata": {},
     "output_type": "execute_result"
    },
    {
     "data": {
      "image/png": "[encoded data removed]",
      "text/plain": [
       "<Figure size 432x288 with 1 Axes>"
      ]
     },
     "metadata": {
      "needs_background": "light"
     },
     "output_type": "display_data"
    }
   ],
   "source": [
    "df_pivot_diff.sort_values(\"stamp_2\", ascending = False)[\"stamp_2\"].head(10).plot.barh()"
   ]
  },
  {
   "cell_type": "code",
   "execution_count": null,
   "id": "extra-executive",
   "metadata": {
    "papermill": {
     "duration": 0.024049,
     "end_time": "2021-11-25T11:30:13.035952",
     "exception": false,
     "start_time": "2021-11-25T11:30:13.011903",
     "status": "completed"
    },
    "tags": []
   },
   "outputs": [],
   "source": []
  }
 ],
 "metadata": {
  "kernelspec": {
   "display_name": "Python 3",
   "language": "python",
   "name": "python3"
  },
  "language_info": {
   "codemirror_mode": {
    "name": "ipython",
    "version": 3
   },
   "file_extension": ".py",
   "mimetype": "text/x-python",
   "name": "python",
   "nbconvert_exporter": "python",
   "pygments_lexer": "ipython3",
   "version": "3.9.5"
  },
  "papermill": {
   "default_parameters": {},
   "duration": 9.926088,
   "end_time": "2021-11-25T11:30:14.622824",
   "environment_variables": {},
   "exception": null,
   "input_path": "eBay_Overview.ipynb",
   "output_path": "eBay_Overview.ipynb",
   "parameters": {},
   "start_time": "2021-11-25T11:30:04.696736",
   "version": "2.3.3"
  }
 },
 "nbformat": 4,
 "nbformat_minor": 5
}