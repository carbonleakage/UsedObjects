{
 "cells": [
  {
   "cell_type": "code",
   "execution_count": 1,
   "id": "reverse-picking",
   "metadata": {
    "execution": {
     "iopub.execute_input": "2021-09-17T00:30:07.434457Z",
     "iopub.status.busy": "2021-09-17T00:30:07.432550Z",
     "iopub.status.idle": "2021-09-17T00:30:08.234563Z",
     "shell.execute_reply": "2021-09-17T00:30:08.236062Z"
    },
    "papermill": {
     "duration": 0.853366,
     "end_time": "2021-09-17T00:30:08.236845",
     "exception": false,
     "start_time": "2021-09-17T00:30:07.383479",
     "status": "completed"
    },
    "tags": []
   },
   "outputs": [],
   "source": [
    "import pandas as pd\n",
    "import sqlite3"
   ]
  },
  {
   "cell_type": "code",
   "execution_count": 2,
   "id": "innovative-syndrome",
   "metadata": {
    "execution": {
     "iopub.execute_input": "2021-09-17T00:30:08.287887Z",
     "iopub.status.busy": "2021-09-17T00:30:08.285516Z",
     "iopub.status.idle": "2021-09-17T00:30:08.593238Z",
     "shell.execute_reply": "2021-09-17T00:30:08.591895Z"
    },
    "papermill": {
     "duration": 0.335886,
     "end_time": "2021-09-17T00:30:08.593573",
     "exception": false,
     "start_time": "2021-09-17T00:30:08.257687",
     "status": "completed"
    },
    "tags": []
   },
   "outputs": [],
   "source": [
    "timestamps = pd.read_sql(\"select distinct record_time from EBAY_TOP_BERLIN order by record_time desc limit 2\", sqlite3.connect(\"UsedObjects.db\"))"
   ]
  },
  {
   "cell_type": "code",
   "execution_count": 3,
   "id": "periodic-identification",
   "metadata": {
    "execution": {
     "iopub.execute_input": "2021-09-17T00:30:08.656478Z",
     "iopub.status.busy": "2021-09-17T00:30:08.654315Z",
     "iopub.status.idle": "2021-09-17T00:30:08.674297Z",
     "shell.execute_reply": "2021-09-17T00:30:08.675675Z"
    },
    "papermill": {
     "duration": 0.063449,
     "end_time": "2021-09-17T00:30:08.676109",
     "exception": false,
     "start_time": "2021-09-17T00:30:08.612660",
     "status": "completed"
    },
    "tags": []
   },
   "outputs": [
    {
     "data": {
      "text/html": [
       "<div>\n",
       "<style scoped>\n",
       "    .dataframe tbody tr th:only-of-type {\n",
       "        vertical-align: middle;\n",
       "    }\n",
       "\n",
       "    .dataframe tbody tr th {\n",
       "        vertical-align: top;\n",
       "    }\n",
       "\n",
       "    .dataframe thead th {\n",
       "        text-align: right;\n",
       "    }\n",
       "</style>\n",
       "<table border=\"1\" class=\"dataframe\">\n",
       "  <thead>\n",
       "    <tr style=\"text-align: right;\">\n",
       "      <th></th>\n",
       "      <th>RECORD_TIME</th>\n",
       "    </tr>\n",
       "  </thead>\n",
       "  <tbody>\n",
       "    <tr>\n",
       "      <th>0</th>\n",
       "      <td>2021-09-17 02:30</td>\n",
       "    </tr>\n",
       "    <tr>\n",
       "      <th>1</th>\n",
       "      <td>2021-09-17 02:00</td>\n",
       "    </tr>\n",
       "  </tbody>\n",
       "</table>\n",
       "</div>"
      ],
      "text/plain": [
       "        RECORD_TIME\n",
       "0  2021-09-17 02:30\n",
       "1  2021-09-17 02:00"
      ]
     },
     "execution_count": 3,
     "metadata": {},
     "output_type": "execute_result"
    }
   ],
   "source": [
    "timestamps"
   ]
  },
  {
   "cell_type": "code",
   "execution_count": 4,
   "id": "alternate-victory",
   "metadata": {
    "execution": {
     "iopub.execute_input": "2021-09-17T00:30:08.727246Z",
     "iopub.status.busy": "2021-09-17T00:30:08.725316Z",
     "iopub.status.idle": "2021-09-17T00:30:09.177979Z",
     "shell.execute_reply": "2021-09-17T00:30:09.179222Z"
    },
    "papermill": {
     "duration": 0.482176,
     "end_time": "2021-09-17T00:30:09.179626",
     "exception": false,
     "start_time": "2021-09-17T00:30:08.697450",
     "status": "completed"
    },
    "tags": []
   },
   "outputs": [],
   "source": [
    "df = pd.read_sql(\"select * from EBAY_TOP_BERLIN where record_time in (select distinct record_time from EBAY_TOP_BERLIN order by record_time desc limit 2)\", sqlite3.connect(\"UsedObjects.db\"))"
   ]
  },
  {
   "cell_type": "code",
   "execution_count": 5,
   "id": "popular-active",
   "metadata": {
    "execution": {
     "iopub.execute_input": "2021-09-17T00:30:09.258537Z",
     "iopub.status.busy": "2021-09-17T00:30:09.245864Z",
     "iopub.status.idle": "2021-09-17T00:30:09.274957Z",
     "shell.execute_reply": "2021-09-17T00:30:09.276333Z"
    },
    "papermill": {
     "duration": 0.071614,
     "end_time": "2021-09-17T00:30:09.276768",
     "exception": false,
     "start_time": "2021-09-17T00:30:09.205154",
     "status": "completed"
    },
    "tags": []
   },
   "outputs": [],
   "source": [
    "df_pivot = df.pivot_table(index=\"PRODUCT\", columns = \"RECORD_TIME\", values = \"LISTING_COUNT\")"
   ]
  },
  {
   "cell_type": "code",
   "execution_count": 6,
   "id": "union-huntington",
   "metadata": {
    "execution": {
     "iopub.execute_input": "2021-09-17T00:30:09.333087Z",
     "iopub.status.busy": "2021-09-17T00:30:09.330665Z",
     "iopub.status.idle": "2021-09-17T00:30:09.337035Z",
     "shell.execute_reply": "2021-09-17T00:30:09.338452Z"
    },
    "papermill": {
     "duration": 0.042204,
     "end_time": "2021-09-17T00:30:09.338976",
     "exception": false,
     "start_time": "2021-09-17T00:30:09.296772",
     "status": "completed"
    },
    "tags": []
   },
   "outputs": [],
   "source": [
    "df_pivot.columns = [\"stamp_1\", \"stamp_2\"]\n",
    "df_pivot_diff = df_pivot.diff(axis=1)"
   ]
  },
  {
   "cell_type": "code",
   "execution_count": 7,
   "id": "fifth-motion",
   "metadata": {
    "execution": {
     "iopub.execute_input": "2021-09-17T00:30:09.394000Z",
     "iopub.status.busy": "2021-09-17T00:30:09.391779Z",
     "iopub.status.idle": "2021-09-17T00:30:10.854433Z",
     "shell.execute_reply": "2021-09-17T00:30:10.853058Z"
    },
    "papermill": {
     "duration": 1.494118,
     "end_time": "2021-09-17T00:30:10.854967",
     "exception": false,
     "start_time": "2021-09-17T00:30:09.360849",
     "status": "completed"
    },
    "tags": []
   },
   "outputs": [
    {
     "data": {
      "text/plain": [
       "<AxesSubplot:ylabel='PRODUCT'>"
      ]
     },
     "execution_count": 7,
     "metadata": {},
     "output_type": "execute_result"
    },
    {
     "data": {
      "image/png": "[encoded data removed]",
      "text/plain": [
       "<Figure size 432x288 with 1 Axes>"
      ]
     },
     "metadata": {
      "needs_background": "light"
     },
     "output_type": "display_data"
    }
   ],
   "source": [
    "df_pivot_diff.sort_values(\"stamp_2\", ascending = False)[\"stamp_2\"].head(10).plot.barh()"
   ]
  },
  {
   "cell_type": "code",
   "execution_count": null,
   "id": "extra-executive",
   "metadata": {
    "papermill": {
     "duration": 0.021551,
     "end_time": "2021-09-17T00:30:10.901924",
     "exception": false,
     "start_time": "2021-09-17T00:30:10.880373",
     "status": "completed"
    },
    "tags": []
   },
   "outputs": [],
   "source": []
  }
 ],
 "metadata": {
  "kernelspec": {
   "display_name": "Python 3",
   "language": "python",
   "name": "python3"
  },
  "language_info": {
   "codemirror_mode": {
    "name": "ipython",
    "version": 3
   },
   "file_extension": ".py",
   "mimetype": "text/x-python",
   "name": "python",
   "nbconvert_exporter": "python",
   "pygments_lexer": "ipython3",
   "version": "3.9.5"
  },
  "papermill": {
   "default_parameters": {},
   "duration": 6.54086,
   "end_time": "2021-09-17T00:30:11.541912",
   "environment_variables": {},
   "exception": null,
   "input_path": "eBay_Overview.ipynb",
   "output_path": "eBay_Overview.ipynb",
   "parameters": {},
   "start_time": "2021-09-17T00:30:05.001052",
   "version": "2.3.3"
  }
 },
 "nbformat": 4,
 "nbformat_minor": 5
}