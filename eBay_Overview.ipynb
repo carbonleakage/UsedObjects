{
 "cells": [
  {
   "cell_type": "code",
   "execution_count": 1,
   "id": "reverse-picking",
   "metadata": {
    "execution": {
     "iopub.execute_input": "2021-09-21T06:00:07.258887Z",
     "iopub.status.busy": "2021-09-21T06:00:07.256867Z",
     "iopub.status.idle": "2021-09-21T06:00:08.061984Z",
     "shell.execute_reply": "2021-09-21T06:00:08.063321Z"
    },
    "papermill": {
     "duration": 0.855619,
     "end_time": "2021-09-21T06:00:08.063937",
     "exception": false,
     "start_time": "2021-09-21T06:00:07.208318",
     "status": "completed"
    },
    "tags": []
   },
   "outputs": [],
   "source": [
    "import pandas as pd\n",
    "import sqlite3"
   ]
  },
  {
   "cell_type": "code",
   "execution_count": 2,
   "id": "innovative-syndrome",
   "metadata": {
    "execution": {
     "iopub.execute_input": "2021-09-21T06:00:08.116499Z",
     "iopub.status.busy": "2021-09-21T06:00:08.114234Z",
     "iopub.status.idle": "2021-09-21T06:00:08.454178Z",
     "shell.execute_reply": "2021-09-21T06:00:08.455421Z"
    },
    "papermill": {
     "duration": 0.369468,
     "end_time": "2021-09-21T06:00:08.455823",
     "exception": false,
     "start_time": "2021-09-21T06:00:08.086355",
     "status": "completed"
    },
    "tags": []
   },
   "outputs": [],
   "source": [
    "timestamps = pd.read_sql(\"select distinct record_time from EBAY_TOP_BERLIN order by record_time desc limit 2\", sqlite3.connect(\"UsedObjects.db\"))"
   ]
  },
  {
   "cell_type": "code",
   "execution_count": 3,
   "id": "periodic-identification",
   "metadata": {
    "execution": {
     "iopub.execute_input": "2021-09-21T06:00:08.525035Z",
     "iopub.status.busy": "2021-09-21T06:00:08.520233Z",
     "iopub.status.idle": "2021-09-21T06:00:08.542348Z",
     "shell.execute_reply": "2021-09-21T06:00:08.543774Z"
    },
    "papermill": {
     "duration": 0.066854,
     "end_time": "2021-09-21T06:00:08.544223",
     "exception": false,
     "start_time": "2021-09-21T06:00:08.477369",
     "status": "completed"
    },
    "tags": []
   },
   "outputs": [
    {
     "data": {
      "text/html": [
       "<div>\n",
       "<style scoped>\n",
       "    .dataframe tbody tr th:only-of-type {\n",
       "        vertical-align: middle;\n",
       "    }\n",
       "\n",
       "    .dataframe tbody tr th {\n",
       "        vertical-align: top;\n",
       "    }\n",
       "\n",
       "    .dataframe thead th {\n",
       "        text-align: right;\n",
       "    }\n",
       "</style>\n",
       "<table border=\"1\" class=\"dataframe\">\n",
       "  <thead>\n",
       "    <tr style=\"text-align: right;\">\n",
       "      <th></th>\n",
       "      <th>RECORD_TIME</th>\n",
       "    </tr>\n",
       "  </thead>\n",
       "  <tbody>\n",
       "    <tr>\n",
       "      <th>0</th>\n",
       "      <td>2021-09-21 08:00</td>\n",
       "    </tr>\n",
       "    <tr>\n",
       "      <th>1</th>\n",
       "      <td>2021-09-21 07:30</td>\n",
       "    </tr>\n",
       "  </tbody>\n",
       "</table>\n",
       "</div>"
      ],
      "text/plain": [
       "        RECORD_TIME\n",
       "0  2021-09-21 08:00\n",
       "1  2021-09-21 07:30"
      ]
     },
     "execution_count": 3,
     "metadata": {},
     "output_type": "execute_result"
    }
   ],
   "source": [
    "timestamps"
   ]
  },
  {
   "cell_type": "code",
   "execution_count": 4,
   "id": "alternate-victory",
   "metadata": {
    "execution": {
     "iopub.execute_input": "2021-09-21T06:00:08.598462Z",
     "iopub.status.busy": "2021-09-21T06:00:08.596459Z",
     "iopub.status.idle": "2021-09-21T06:00:09.098672Z",
     "shell.execute_reply": "2021-09-21T06:00:09.099954Z"
    },
    "papermill": {
     "duration": 0.532893,
     "end_time": "2021-09-21T06:00:09.100354",
     "exception": false,
     "start_time": "2021-09-21T06:00:08.567461",
     "status": "completed"
    },
    "tags": []
   },
   "outputs": [],
   "source": [
    "df = pd.read_sql(\"select * from EBAY_TOP_BERLIN where record_time in (select distinct record_time from EBAY_TOP_BERLIN order by record_time desc limit 2)\", sqlite3.connect(\"UsedObjects.db\"))"
   ]
  },
  {
   "cell_type": "code",
   "execution_count": 5,
   "id": "popular-active",
   "metadata": {
    "execution": {
     "iopub.execute_input": "2021-09-21T06:00:09.181132Z",
     "iopub.status.busy": "2021-09-21T06:00:09.168817Z",
     "iopub.status.idle": "2021-09-21T06:00:09.198546Z",
     "shell.execute_reply": "2021-09-21T06:00:09.200162Z"
    },
    "papermill": {
     "duration": 0.073764,
     "end_time": "2021-09-21T06:00:09.200631",
     "exception": false,
     "start_time": "2021-09-21T06:00:09.126867",
     "status": "completed"
    },
    "tags": []
   },
   "outputs": [],
   "source": [
    "df_pivot = df.pivot_table(index=\"PRODUCT\", columns = \"RECORD_TIME\", values = \"LISTING_COUNT\")"
   ]
  },
  {
   "cell_type": "code",
   "execution_count": 6,
   "id": "union-huntington",
   "metadata": {
    "execution": {
     "iopub.execute_input": "2021-09-21T06:00:09.261081Z",
     "iopub.status.busy": "2021-09-21T06:00:09.258950Z",
     "iopub.status.idle": "2021-09-21T06:00:09.263978Z",
     "shell.execute_reply": "2021-09-21T06:00:09.265229Z"
    },
    "papermill": {
     "duration": 0.043683,
     "end_time": "2021-09-21T06:00:09.265627",
     "exception": false,
     "start_time": "2021-09-21T06:00:09.221944",
     "status": "completed"
    },
    "tags": []
   },
   "outputs": [],
   "source": [
    "df_pivot.columns = [\"stamp_1\", \"stamp_2\"]\n",
    "df_pivot_diff = df_pivot.diff(axis=1)"
   ]
  },
  {
   "cell_type": "code",
   "execution_count": 7,
   "id": "fifth-motion",
   "metadata": {
    "execution": {
     "iopub.execute_input": "2021-09-21T06:00:09.319059Z",
     "iopub.status.busy": "2021-09-21T06:00:09.316814Z",
     "iopub.status.idle": "2021-09-21T06:00:10.808000Z",
     "shell.execute_reply": "2021-09-21T06:00:10.809292Z"
    },
    "papermill": {
     "duration": 1.523763,
     "end_time": "2021-09-21T06:00:10.809706",
     "exception": false,
     "start_time": "2021-09-21T06:00:09.285943",
     "status": "completed"
    },
    "tags": []
   },
   "outputs": [
    {
     "data": {
      "text/plain": [
       "<AxesSubplot:ylabel='PRODUCT'>"
      ]
     },
     "execution_count": 7,
     "metadata": {},
     "output_type": "execute_result"
    },
    {
     "data": {
      "image/png": "[encoded data removed]",
      "text/plain": [
       "<Figure size 432x288 with 1 Axes>"
      ]
     },
     "metadata": {
      "needs_background": "light"
     },
     "output_type": "display_data"
    }
   ],
   "source": [
    "df_pivot_diff.sort_values(\"stamp_2\", ascending = False)[\"stamp_2\"].head(10).plot.barh()"
   ]
  },
  {
   "cell_type": "code",
   "execution_count": null,
   "id": "extra-executive",
   "metadata": {
    "papermill": {
     "duration": 0.022466,
     "end_time": "2021-09-21T06:00:10.856170",
     "exception": false,
     "start_time": "2021-09-21T06:00:10.833704",
     "status": "completed"
    },
    "tags": []
   },
   "outputs": [],
   "source": []
  }
 ],
 "metadata": {
  "kernelspec": {
   "display_name": "Python 3",
   "language": "python",
   "name": "python3"
  },
  "language_info": {
   "codemirror_mode": {
    "name": "ipython",
    "version": 3
   },
   "file_extension": ".py",
   "mimetype": "text/x-python",
   "name": "python",
   "nbconvert_exporter": "python",
   "pygments_lexer": "ipython3",
   "version": "3.9.5"
  },
  "papermill": {
   "default_parameters": {},
   "duration": 6.689272,
   "end_time": "2021-09-21T06:00:11.499286",
   "environment_variables": {},
   "exception": null,
   "input_path": "eBay_Overview.ipynb",
   "output_path": "eBay_Overview.ipynb",
   "parameters": {},
   "start_time": "2021-09-21T06:00:04.810014",
   "version": "2.3.3"
  }
 },
 "nbformat": 4,
 "nbformat_minor": 5
}