{
 "cells": [
  {
   "cell_type": "code",
   "execution_count": 1,
   "id": "reverse-picking",
   "metadata": {
    "execution": {
     "iopub.execute_input": "2021-10-01T14:00:07.550439Z",
     "iopub.status.busy": "2021-10-01T14:00:07.548496Z",
     "iopub.status.idle": "2021-10-01T14:00:08.353373Z",
     "shell.execute_reply": "2021-10-01T14:00:08.354691Z"
    },
    "papermill": {
     "duration": 0.857587,
     "end_time": "2021-10-01T14:00:08.355415",
     "exception": false,
     "start_time": "2021-10-01T14:00:07.497828",
     "status": "completed"
    },
    "tags": []
   },
   "outputs": [],
   "source": [
    "import pandas as pd\n",
    "import sqlite3"
   ]
  },
  {
   "cell_type": "code",
   "execution_count": 2,
   "id": "innovative-syndrome",
   "metadata": {
    "execution": {
     "iopub.execute_input": "2021-10-01T14:00:08.406326Z",
     "iopub.status.busy": "2021-10-01T14:00:08.404292Z",
     "iopub.status.idle": "2021-10-01T14:00:08.831114Z",
     "shell.execute_reply": "2021-10-01T14:00:08.832493Z"
    },
    "papermill": {
     "duration": 0.457277,
     "end_time": "2021-10-01T14:00:08.832932",
     "exception": false,
     "start_time": "2021-10-01T14:00:08.375655",
     "status": "completed"
    },
    "tags": []
   },
   "outputs": [],
   "source": [
    "timestamps = pd.read_sql(\"select distinct record_time from EBAY_TOP_BERLIN order by record_time desc limit 2\", sqlite3.connect(\"UsedObjects.db\"))"
   ]
  },
  {
   "cell_type": "code",
   "execution_count": 3,
   "id": "periodic-identification",
   "metadata": {
    "execution": {
     "iopub.execute_input": "2021-10-01T14:00:08.899139Z",
     "iopub.status.busy": "2021-10-01T14:00:08.897059Z",
     "iopub.status.idle": "2021-10-01T14:00:08.917562Z",
     "shell.execute_reply": "2021-10-01T14:00:08.918873Z"
    },
    "papermill": {
     "duration": 0.066624,
     "end_time": "2021-10-01T14:00:08.919347",
     "exception": false,
     "start_time": "2021-10-01T14:00:08.852723",
     "status": "completed"
    },
    "tags": []
   },
   "outputs": [
    {
     "data": {
      "text/html": [
       "<div>\n",
       "<style scoped>\n",
       "    .dataframe tbody tr th:only-of-type {\n",
       "        vertical-align: middle;\n",
       "    }\n",
       "\n",
       "    .dataframe tbody tr th {\n",
       "        vertical-align: top;\n",
       "    }\n",
       "\n",
       "    .dataframe thead th {\n",
       "        text-align: right;\n",
       "    }\n",
       "</style>\n",
       "<table border=\"1\" class=\"dataframe\">\n",
       "  <thead>\n",
       "    <tr style=\"text-align: right;\">\n",
       "      <th></th>\n",
       "      <th>RECORD_TIME</th>\n",
       "    </tr>\n",
       "  </thead>\n",
       "  <tbody>\n",
       "    <tr>\n",
       "      <th>0</th>\n",
       "      <td>2021-10-01 16:00</td>\n",
       "    </tr>\n",
       "    <tr>\n",
       "      <th>1</th>\n",
       "      <td>2021-10-01 15:30</td>\n",
       "    </tr>\n",
       "  </tbody>\n",
       "</table>\n",
       "</div>"
      ],
      "text/plain": [
       "        RECORD_TIME\n",
       "0  2021-10-01 16:00\n",
       "1  2021-10-01 15:30"
      ]
     },
     "execution_count": 3,
     "metadata": {},
     "output_type": "execute_result"
    }
   ],
   "source": [
    "timestamps"
   ]
  },
  {
   "cell_type": "code",
   "execution_count": 4,
   "id": "alternate-victory",
   "metadata": {
    "execution": {
     "iopub.execute_input": "2021-10-01T14:00:08.970434Z",
     "iopub.status.busy": "2021-10-01T14:00:08.968621Z",
     "iopub.status.idle": "2021-10-01T14:00:09.600202Z",
     "shell.execute_reply": "2021-10-01T14:00:09.601412Z"
    },
    "papermill": {
     "duration": 0.661427,
     "end_time": "2021-10-01T14:00:09.601811",
     "exception": false,
     "start_time": "2021-10-01T14:00:08.940384",
     "status": "completed"
    },
    "tags": []
   },
   "outputs": [],
   "source": [
    "df = pd.read_sql(\"select * from EBAY_TOP_BERLIN where record_time in (select distinct record_time from EBAY_TOP_BERLIN order by record_time desc limit 2)\", sqlite3.connect(\"UsedObjects.db\"))"
   ]
  },
  {
   "cell_type": "code",
   "execution_count": 5,
   "id": "popular-active",
   "metadata": {
    "execution": {
     "iopub.execute_input": "2021-10-01T14:00:09.679908Z",
     "iopub.status.busy": "2021-10-01T14:00:09.669218Z",
     "iopub.status.idle": "2021-10-01T14:00:09.696597Z",
     "shell.execute_reply": "2021-10-01T14:00:09.697790Z"
    },
    "papermill": {
     "duration": 0.070509,
     "end_time": "2021-10-01T14:00:09.698190",
     "exception": false,
     "start_time": "2021-10-01T14:00:09.627681",
     "status": "completed"
    },
    "tags": []
   },
   "outputs": [],
   "source": [
    "df_pivot = df.pivot_table(index=\"PRODUCT\", columns = \"RECORD_TIME\", values = \"LISTING_COUNT\")"
   ]
  },
  {
   "cell_type": "code",
   "execution_count": 6,
   "id": "union-huntington",
   "metadata": {
    "execution": {
     "iopub.execute_input": "2021-10-01T14:00:09.757343Z",
     "iopub.status.busy": "2021-10-01T14:00:09.754917Z",
     "iopub.status.idle": "2021-10-01T14:00:09.761088Z",
     "shell.execute_reply": "2021-10-01T14:00:09.762524Z"
    },
    "papermill": {
     "duration": 0.042627,
     "end_time": "2021-10-01T14:00:09.763047",
     "exception": false,
     "start_time": "2021-10-01T14:00:09.720420",
     "status": "completed"
    },
    "tags": []
   },
   "outputs": [],
   "source": [
    "df_pivot.columns = [\"stamp_1\", \"stamp_2\"]\n",
    "df_pivot_diff = df_pivot.diff(axis=1)"
   ]
  },
  {
   "cell_type": "code",
   "execution_count": 7,
   "id": "fifth-motion",
   "metadata": {
    "execution": {
     "iopub.execute_input": "2021-10-01T14:00:09.818014Z",
     "iopub.status.busy": "2021-10-01T14:00:09.815548Z",
     "iopub.status.idle": "2021-10-01T14:00:11.284242Z",
     "shell.execute_reply": "2021-10-01T14:00:11.285521Z"
    },
    "papermill": {
     "duration": 1.50154,
     "end_time": "2021-10-01T14:00:11.285941",
     "exception": false,
     "start_time": "2021-10-01T14:00:09.784401",
     "status": "completed"
    },
    "tags": []
   },
   "outputs": [
    {
     "data": {
      "text/plain": [
       "<AxesSubplot:ylabel='PRODUCT'>"
      ]
     },
     "execution_count": 7,
     "metadata": {},
     "output_type": "execute_result"
    },
    {
     "data": {
      "image/png": "[encoded data removed]",
      "text/plain": [
       "<Figure size 432x288 with 1 Axes>"
      ]
     },
     "metadata": {
      "needs_background": "light"
     },
     "output_type": "display_data"
    }
   ],
   "source": [
    "df_pivot_diff.sort_values(\"stamp_2\", ascending = False)[\"stamp_2\"].head(10).plot.barh()"
   ]
  },
  {
   "cell_type": "code",
   "execution_count": null,
   "id": "extra-executive",
   "metadata": {
    "papermill": {
     "duration": 0.022233,
     "end_time": "2021-10-01T14:00:11.332239",
     "exception": false,
     "start_time": "2021-10-01T14:00:11.310006",
     "status": "completed"
    },
    "tags": []
   },
   "outputs": [],
   "source": []
  }
 ],
 "metadata": {
  "kernelspec": {
   "display_name": "Python 3",
   "language": "python",
   "name": "python3"
  },
  "language_info": {
   "codemirror_mode": {
    "name": "ipython",
    "version": 3
   },
   "file_extension": ".py",
   "mimetype": "text/x-python",
   "name": "python",
   "nbconvert_exporter": "python",
   "pygments_lexer": "ipython3",
   "version": "3.9.5"
  },
  "papermill": {
   "default_parameters": {},
   "duration": 7.820454,
   "end_time": "2021-10-01T14:00:12.919825",
   "environment_variables": {},
   "exception": null,
   "input_path": "eBay_Overview.ipynb",
   "output_path": "eBay_Overview.ipynb",
   "parameters": {},
   "start_time": "2021-10-01T14:00:05.099371",
   "version": "2.3.3"
  }
 },
 "nbformat": 4,
 "nbformat_minor": 5
}