{
 "cells": [
  {
   "cell_type": "code",
   "execution_count": 1,
   "id": "reverse-picking",
   "metadata": {
    "execution": {
     "iopub.execute_input": "2021-08-12T16:30:03.754562Z",
     "iopub.status.busy": "2021-08-12T16:30:03.753781Z",
     "iopub.status.idle": "2021-08-12T16:30:04.559048Z",
     "shell.execute_reply": "2021-08-12T16:30:04.557690Z"
    },
    "papermill": {
     "duration": 0.82301,
     "end_time": "2021-08-12T16:30:04.559329",
     "exception": false,
     "start_time": "2021-08-12T16:30:03.736319",
     "status": "completed"
    },
    "tags": []
   },
   "outputs": [],
   "source": [
    "import pandas as pd\n",
    "import sqlite3"
   ]
  },
  {
   "cell_type": "code",
   "execution_count": 2,
   "id": "innovative-syndrome",
   "metadata": {
    "execution": {
     "iopub.execute_input": "2021-08-12T16:30:04.583297Z",
     "iopub.status.busy": "2021-08-12T16:30:04.582514Z",
     "iopub.status.idle": "2021-08-12T16:30:04.832205Z",
     "shell.execute_reply": "2021-08-12T16:30:04.832777Z"
    },
    "papermill": {
     "duration": 0.263875,
     "end_time": "2021-08-12T16:30:04.832963",
     "exception": false,
     "start_time": "2021-08-12T16:30:04.569088",
     "status": "completed"
    },
    "tags": []
   },
   "outputs": [],
   "source": [
    "timestamps = pd.read_sql(\"select distinct record_time from EBAY_TOP_BERLIN order by record_time desc limit 2\", sqlite3.connect(\"UsedObjects.db\"))"
   ]
  },
  {
   "cell_type": "code",
   "execution_count": 3,
   "id": "periodic-identification",
   "metadata": {
    "execution": {
     "iopub.execute_input": "2021-08-12T16:30:04.860755Z",
     "iopub.status.busy": "2021-08-12T16:30:04.859855Z",
     "iopub.status.idle": "2021-08-12T16:30:04.871764Z",
     "shell.execute_reply": "2021-08-12T16:30:04.872346Z"
    },
    "papermill": {
     "duration": 0.031627,
     "end_time": "2021-08-12T16:30:04.872543",
     "exception": false,
     "start_time": "2021-08-12T16:30:04.840916",
     "status": "completed"
    },
    "tags": []
   },
   "outputs": [
    {
     "data": {
      "text/html": [
       "<div>\n",
       "<style scoped>\n",
       "    .dataframe tbody tr th:only-of-type {\n",
       "        vertical-align: middle;\n",
       "    }\n",
       "\n",
       "    .dataframe tbody tr th {\n",
       "        vertical-align: top;\n",
       "    }\n",
       "\n",
       "    .dataframe thead th {\n",
       "        text-align: right;\n",
       "    }\n",
       "</style>\n",
       "<table border=\"1\" class=\"dataframe\">\n",
       "  <thead>\n",
       "    <tr style=\"text-align: right;\">\n",
       "      <th></th>\n",
       "      <th>RECORD_TIME</th>\n",
       "    </tr>\n",
       "  </thead>\n",
       "  <tbody>\n",
       "    <tr>\n",
       "      <th>0</th>\n",
       "      <td>2021-08-12 18:30</td>\n",
       "    </tr>\n",
       "    <tr>\n",
       "      <th>1</th>\n",
       "      <td>2021-08-12 18:00</td>\n",
       "    </tr>\n",
       "  </tbody>\n",
       "</table>\n",
       "</div>"
      ],
      "text/plain": [
       "        RECORD_TIME\n",
       "0  2021-08-12 18:30\n",
       "1  2021-08-12 18:00"
      ]
     },
     "execution_count": 3,
     "metadata": {},
     "output_type": "execute_result"
    }
   ],
   "source": [
    "timestamps"
   ]
  },
  {
   "cell_type": "code",
   "execution_count": 4,
   "id": "alternate-victory",
   "metadata": {
    "execution": {
     "iopub.execute_input": "2021-08-12T16:30:04.901313Z",
     "iopub.status.busy": "2021-08-12T16:30:04.900561Z",
     "iopub.status.idle": "2021-08-12T16:30:04.933005Z",
     "shell.execute_reply": "2021-08-12T16:30:04.933577Z"
    },
    "papermill": {
     "duration": 0.052839,
     "end_time": "2021-08-12T16:30:04.933775",
     "exception": false,
     "start_time": "2021-08-12T16:30:04.880936",
     "status": "completed"
    },
    "tags": []
   },
   "outputs": [],
   "source": [
    "df = pd.read_sql(\"select * from EBAY_TOP_BERLIN where record_time in (select distinct record_time from EBAY_TOP_BERLIN order by record_time desc limit 2)\", sqlite3.connect(\"UsedObjects.db\"))"
   ]
  },
  {
   "cell_type": "code",
   "execution_count": 5,
   "id": "popular-active",
   "metadata": {
    "execution": {
     "iopub.execute_input": "2021-08-12T16:30:04.963777Z",
     "iopub.status.busy": "2021-08-12T16:30:04.962994Z",
     "iopub.status.idle": "2021-08-12T16:30:04.984167Z",
     "shell.execute_reply": "2021-08-12T16:30:04.983313Z"
    },
    "papermill": {
     "duration": 0.039817,
     "end_time": "2021-08-12T16:30:04.984398",
     "exception": false,
     "start_time": "2021-08-12T16:30:04.944581",
     "status": "completed"
    },
    "tags": []
   },
   "outputs": [],
   "source": [
    "df_pivot = df.pivot_table(index=\"PRODUCT\", columns = \"RECORD_TIME\", values = \"LISTING_COUNT\")"
   ]
  },
  {
   "cell_type": "code",
   "execution_count": 6,
   "id": "union-huntington",
   "metadata": {
    "execution": {
     "iopub.execute_input": "2021-08-12T16:30:05.009719Z",
     "iopub.status.busy": "2021-08-12T16:30:05.009005Z",
     "iopub.status.idle": "2021-08-12T16:30:05.015438Z",
     "shell.execute_reply": "2021-08-12T16:30:05.016134Z"
    },
    "papermill": {
     "duration": 0.022559,
     "end_time": "2021-08-12T16:30:05.016352",
     "exception": false,
     "start_time": "2021-08-12T16:30:04.993793",
     "status": "completed"
    },
    "tags": []
   },
   "outputs": [],
   "source": [
    "df_pivot.columns = [\"stamp_1\", \"stamp_2\"]\n",
    "df_pivot_diff = df_pivot.diff(axis=1)"
   ]
  },
  {
   "cell_type": "code",
   "execution_count": 7,
   "id": "fifth-motion",
   "metadata": {
    "execution": {
     "iopub.execute_input": "2021-08-12T16:30:05.046578Z",
     "iopub.status.busy": "2021-08-12T16:30:05.045231Z",
     "iopub.status.idle": "2021-08-12T16:30:05.862931Z",
     "shell.execute_reply": "2021-08-12T16:30:05.863468Z"
    },
    "papermill": {
     "duration": 0.833251,
     "end_time": "2021-08-12T16:30:05.863654",
     "exception": false,
     "start_time": "2021-08-12T16:30:05.030403",
     "status": "completed"
    },
    "tags": []
   },
   "outputs": [
    {
     "data": {
      "text/plain": [
       "<AxesSubplot:ylabel='PRODUCT'>"
      ]
     },
     "execution_count": 7,
     "metadata": {},
     "output_type": "execute_result"
    },
    {
     "data": {
      "image/png": "[encoded data removed]",
      "text/plain": [
       "<Figure size 432x288 with 1 Axes>"
      ]
     },
     "metadata": {
      "needs_background": "light"
     },
     "output_type": "display_data"
    }
   ],
   "source": [
    "df_pivot_diff.sort_values(\"stamp_2\", ascending = False)[\"stamp_2\"].head(10).plot.barh()"
   ]
  },
  {
   "cell_type": "code",
   "execution_count": null,
   "id": "extra-executive",
   "metadata": {
    "papermill": {
     "duration": 0.012115,
     "end_time": "2021-08-12T16:30:05.888969",
     "exception": false,
     "start_time": "2021-08-12T16:30:05.876854",
     "status": "completed"
    },
    "tags": []
   },
   "outputs": [],
   "source": []
  }
 ],
 "metadata": {
  "kernelspec": {
   "display_name": "Python 3",
   "language": "python",
   "name": "python3"
  },
  "language_info": {
   "codemirror_mode": {
    "name": "ipython",
    "version": 3
   },
   "file_extension": ".py",
   "mimetype": "text/x-python",
   "name": "python",
   "nbconvert_exporter": "python",
   "pygments_lexer": "ipython3",
   "version": "3.8.8"
  },
  "papermill": {
   "default_parameters": {},
   "duration": 4.570506,
   "end_time": "2021-08-12T16:30:06.619301",
   "environment_variables": {},
   "exception": null,
   "input_path": "/Users/saravananshanmugam/Carbonleakage_Git/UsedObjects/eBay_Overview.ipynb",
   "output_path": "/Users/saravananshanmugam/Carbonleakage_Git/UsedObjects/eBay_Overview.ipynb",
   "parameters": {},
   "start_time": "2021-08-12T16:30:02.048795",
   "version": "2.3.3"
  }
 },
 "nbformat": 4,
 "nbformat_minor": 5
}