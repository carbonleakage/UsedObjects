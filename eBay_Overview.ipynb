{
 "cells": [
  {
   "cell_type": "code",
   "execution_count": 1,
   "id": "reverse-picking",
   "metadata": {
    "execution": {
     "iopub.execute_input": "2021-09-27T00:30:06.844725Z",
     "iopub.status.busy": "2021-09-27T00:30:06.842715Z",
     "iopub.status.idle": "2021-09-27T00:30:07.651703Z",
     "shell.execute_reply": "2021-09-27T00:30:07.653132Z"
    },
    "papermill": {
     "duration": 0.860061,
     "end_time": "2021-09-27T00:30:07.653816",
     "exception": false,
     "start_time": "2021-09-27T00:30:06.793755",
     "status": "completed"
    },
    "tags": []
   },
   "outputs": [],
   "source": [
    "import pandas as pd\n",
    "import sqlite3"
   ]
  },
  {
   "cell_type": "code",
   "execution_count": 2,
   "id": "innovative-syndrome",
   "metadata": {
    "execution": {
     "iopub.execute_input": "2021-09-27T00:30:07.703946Z",
     "iopub.status.busy": "2021-09-27T00:30:07.701919Z",
     "iopub.status.idle": "2021-09-27T00:30:08.092035Z",
     "shell.execute_reply": "2021-09-27T00:30:08.093396Z"
    },
    "papermill": {
     "duration": 0.420304,
     "end_time": "2021-09-27T00:30:08.093832",
     "exception": false,
     "start_time": "2021-09-27T00:30:07.673528",
     "status": "completed"
    },
    "tags": []
   },
   "outputs": [],
   "source": [
    "timestamps = pd.read_sql(\"select distinct record_time from EBAY_TOP_BERLIN order by record_time desc limit 2\", sqlite3.connect(\"UsedObjects.db\"))"
   ]
  },
  {
   "cell_type": "code",
   "execution_count": 3,
   "id": "periodic-identification",
   "metadata": {
    "execution": {
     "iopub.execute_input": "2021-09-27T00:30:08.161620Z",
     "iopub.status.busy": "2021-09-27T00:30:08.159610Z",
     "iopub.status.idle": "2021-09-27T00:30:08.179615Z",
     "shell.execute_reply": "2021-09-27T00:30:08.180914Z"
    },
    "papermill": {
     "duration": 0.067001,
     "end_time": "2021-09-27T00:30:08.181331",
     "exception": false,
     "start_time": "2021-09-27T00:30:08.114330",
     "status": "completed"
    },
    "tags": []
   },
   "outputs": [
    {
     "data": {
      "text/html": [
       "<div>\n",
       "<style scoped>\n",
       "    .dataframe tbody tr th:only-of-type {\n",
       "        vertical-align: middle;\n",
       "    }\n",
       "\n",
       "    .dataframe tbody tr th {\n",
       "        vertical-align: top;\n",
       "    }\n",
       "\n",
       "    .dataframe thead th {\n",
       "        text-align: right;\n",
       "    }\n",
       "</style>\n",
       "<table border=\"1\" class=\"dataframe\">\n",
       "  <thead>\n",
       "    <tr style=\"text-align: right;\">\n",
       "      <th></th>\n",
       "      <th>RECORD_TIME</th>\n",
       "    </tr>\n",
       "  </thead>\n",
       "  <tbody>\n",
       "    <tr>\n",
       "      <th>0</th>\n",
       "      <td>2021-09-27 02:30</td>\n",
       "    </tr>\n",
       "    <tr>\n",
       "      <th>1</th>\n",
       "      <td>2021-09-27 02:00</td>\n",
       "    </tr>\n",
       "  </tbody>\n",
       "</table>\n",
       "</div>"
      ],
      "text/plain": [
       "        RECORD_TIME\n",
       "0  2021-09-27 02:30\n",
       "1  2021-09-27 02:00"
      ]
     },
     "execution_count": 3,
     "metadata": {},
     "output_type": "execute_result"
    }
   ],
   "source": [
    "timestamps"
   ]
  },
  {
   "cell_type": "code",
   "execution_count": 4,
   "id": "alternate-victory",
   "metadata": {
    "execution": {
     "iopub.execute_input": "2021-09-27T00:30:08.234473Z",
     "iopub.status.busy": "2021-09-27T00:30:08.232198Z",
     "iopub.status.idle": "2021-09-27T00:30:08.812847Z",
     "shell.execute_reply": "2021-09-27T00:30:08.813968Z"
    },
    "papermill": {
     "duration": 0.611725,
     "end_time": "2021-09-27T00:30:08.814381",
     "exception": false,
     "start_time": "2021-09-27T00:30:08.202656",
     "status": "completed"
    },
    "tags": []
   },
   "outputs": [],
   "source": [
    "df = pd.read_sql(\"select * from EBAY_TOP_BERLIN where record_time in (select distinct record_time from EBAY_TOP_BERLIN order by record_time desc limit 2)\", sqlite3.connect(\"UsedObjects.db\"))"
   ]
  },
  {
   "cell_type": "code",
   "execution_count": 5,
   "id": "popular-active",
   "metadata": {
    "execution": {
     "iopub.execute_input": "2021-09-27T00:30:08.886588Z",
     "iopub.status.busy": "2021-09-27T00:30:08.875401Z",
     "iopub.status.idle": "2021-09-27T00:30:08.903427Z",
     "shell.execute_reply": "2021-09-27T00:30:08.904708Z"
    },
    "papermill": {
     "duration": 0.068639,
     "end_time": "2021-09-27T00:30:08.905124",
     "exception": false,
     "start_time": "2021-09-27T00:30:08.836485",
     "status": "completed"
    },
    "tags": []
   },
   "outputs": [],
   "source": [
    "df_pivot = df.pivot_table(index=\"PRODUCT\", columns = \"RECORD_TIME\", values = \"LISTING_COUNT\")"
   ]
  },
  {
   "cell_type": "code",
   "execution_count": 6,
   "id": "union-huntington",
   "metadata": {
    "execution": {
     "iopub.execute_input": "2021-09-27T00:30:08.960126Z",
     "iopub.status.busy": "2021-09-27T00:30:08.958135Z",
     "iopub.status.idle": "2021-09-27T00:30:08.963360Z",
     "shell.execute_reply": "2021-09-27T00:30:08.964525Z"
    },
    "papermill": {
     "duration": 0.039664,
     "end_time": "2021-09-27T00:30:08.964942",
     "exception": false,
     "start_time": "2021-09-27T00:30:08.925278",
     "status": "completed"
    },
    "tags": []
   },
   "outputs": [],
   "source": [
    "df_pivot.columns = [\"stamp_1\", \"stamp_2\"]\n",
    "df_pivot_diff = df_pivot.diff(axis=1)"
   ]
  },
  {
   "cell_type": "code",
   "execution_count": 7,
   "id": "fifth-motion",
   "metadata": {
    "execution": {
     "iopub.execute_input": "2021-09-27T00:30:09.018927Z",
     "iopub.status.busy": "2021-09-27T00:30:09.016494Z",
     "iopub.status.idle": "2021-09-27T00:30:10.511477Z",
     "shell.execute_reply": "2021-09-27T00:30:10.512842Z"
    },
    "papermill": {
     "duration": 1.527911,
     "end_time": "2021-09-27T00:30:10.513283",
     "exception": false,
     "start_time": "2021-09-27T00:30:08.985372",
     "status": "completed"
    },
    "tags": []
   },
   "outputs": [
    {
     "data": {
      "text/plain": [
       "<AxesSubplot:ylabel='PRODUCT'>"
      ]
     },
     "execution_count": 7,
     "metadata": {},
     "output_type": "execute_result"
    },
    {
     "data": {
      "image/png": "[encoded data removed]",
      "text/plain": [
       "<Figure size 432x288 with 1 Axes>"
      ]
     },
     "metadata": {
      "needs_background": "light"
     },
     "output_type": "display_data"
    }
   ],
   "source": [
    "df_pivot_diff.sort_values(\"stamp_2\", ascending = False)[\"stamp_2\"].head(10).plot.barh()"
   ]
  },
  {
   "cell_type": "code",
   "execution_count": null,
   "id": "extra-executive",
   "metadata": {
    "papermill": {
     "duration": 0.022234,
     "end_time": "2021-09-27T00:30:10.560011",
     "exception": false,
     "start_time": "2021-09-27T00:30:10.537777",
     "status": "completed"
    },
    "tags": []
   },
   "outputs": [],
   "source": []
  }
 ],
 "metadata": {
  "kernelspec": {
   "display_name": "Python 3",
   "language": "python",
   "name": "python3"
  },
  "language_info": {
   "codemirror_mode": {
    "name": "ipython",
    "version": 3
   },
   "file_extension": ".py",
   "mimetype": "text/x-python",
   "name": "python",
   "nbconvert_exporter": "python",
   "pygments_lexer": "ipython3",
   "version": "3.9.5"
  },
  "papermill": {
   "default_parameters": {},
   "duration": 6.811572,
   "end_time": "2021-09-27T00:30:11.201217",
   "environment_variables": {},
   "exception": null,
   "input_path": "eBay_Overview.ipynb",
   "output_path": "eBay_Overview.ipynb",
   "parameters": {},
   "start_time": "2021-09-27T00:30:04.389645",
   "version": "2.3.3"
  }
 },
 "nbformat": 4,
 "nbformat_minor": 5
}