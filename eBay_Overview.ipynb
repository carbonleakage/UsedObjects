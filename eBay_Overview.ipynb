{
 "cells": [
  {
   "cell_type": "code",
   "execution_count": 1,
   "id": "reverse-picking",
   "metadata": {
    "execution": {
     "iopub.execute_input": "2021-09-02T13:30:06.925136Z",
     "iopub.status.busy": "2021-09-02T13:30:06.923213Z",
     "iopub.status.idle": "2021-09-02T13:30:07.724837Z",
     "shell.execute_reply": "2021-09-02T13:30:07.726149Z"
    },
    "papermill": {
     "duration": 0.855223,
     "end_time": "2021-09-02T13:30:07.726792",
     "exception": false,
     "start_time": "2021-09-02T13:30:06.871569",
     "status": "completed"
    },
    "tags": []
   },
   "outputs": [],
   "source": [
    "import pandas as pd\n",
    "import sqlite3"
   ]
  },
  {
   "cell_type": "code",
   "execution_count": 2,
   "id": "innovative-syndrome",
   "metadata": {
    "execution": {
     "iopub.execute_input": "2021-09-02T13:30:07.777132Z",
     "iopub.status.busy": "2021-09-02T13:30:07.774734Z",
     "iopub.status.idle": "2021-09-02T13:30:07.963489Z",
     "shell.execute_reply": "2021-09-02T13:30:07.964944Z"
    },
    "papermill": {
     "duration": 0.218676,
     "end_time": "2021-09-02T13:30:07.965379",
     "exception": false,
     "start_time": "2021-09-02T13:30:07.746703",
     "status": "completed"
    },
    "tags": []
   },
   "outputs": [],
   "source": [
    "timestamps = pd.read_sql(\"select distinct record_time from EBAY_TOP_BERLIN order by record_time desc limit 2\", sqlite3.connect(\"UsedObjects.db\"))"
   ]
  },
  {
   "cell_type": "code",
   "execution_count": 3,
   "id": "periodic-identification",
   "metadata": {
    "execution": {
     "iopub.execute_input": "2021-09-02T13:30:08.030734Z",
     "iopub.status.busy": "2021-09-02T13:30:08.028749Z",
     "iopub.status.idle": "2021-09-02T13:30:08.048243Z",
     "shell.execute_reply": "2021-09-02T13:30:08.049605Z"
    },
    "papermill": {
     "duration": 0.065071,
     "end_time": "2021-09-02T13:30:08.050040",
     "exception": false,
     "start_time": "2021-09-02T13:30:07.984969",
     "status": "completed"
    },
    "tags": []
   },
   "outputs": [
    {
     "data": {
      "text/html": [
       "<div>\n",
       "<style scoped>\n",
       "    .dataframe tbody tr th:only-of-type {\n",
       "        vertical-align: middle;\n",
       "    }\n",
       "\n",
       "    .dataframe tbody tr th {\n",
       "        vertical-align: top;\n",
       "    }\n",
       "\n",
       "    .dataframe thead th {\n",
       "        text-align: right;\n",
       "    }\n",
       "</style>\n",
       "<table border=\"1\" class=\"dataframe\">\n",
       "  <thead>\n",
       "    <tr style=\"text-align: right;\">\n",
       "      <th></th>\n",
       "      <th>RECORD_TIME</th>\n",
       "    </tr>\n",
       "  </thead>\n",
       "  <tbody>\n",
       "    <tr>\n",
       "      <th>0</th>\n",
       "      <td>2021-09-02 15:30</td>\n",
       "    </tr>\n",
       "    <tr>\n",
       "      <th>1</th>\n",
       "      <td>2021-09-02 15:00</td>\n",
       "    </tr>\n",
       "  </tbody>\n",
       "</table>\n",
       "</div>"
      ],
      "text/plain": [
       "        RECORD_TIME\n",
       "0  2021-09-02 15:30\n",
       "1  2021-09-02 15:00"
      ]
     },
     "execution_count": 3,
     "metadata": {},
     "output_type": "execute_result"
    }
   ],
   "source": [
    "timestamps"
   ]
  },
  {
   "cell_type": "code",
   "execution_count": 4,
   "id": "alternate-victory",
   "metadata": {
    "execution": {
     "iopub.execute_input": "2021-09-02T13:30:08.101422Z",
     "iopub.status.busy": "2021-09-02T13:30:08.099413Z",
     "iopub.status.idle": "2021-09-02T13:30:08.381173Z",
     "shell.execute_reply": "2021-09-02T13:30:08.382370Z"
    },
    "papermill": {
     "duration": 0.311956,
     "end_time": "2021-09-02T13:30:08.382765",
     "exception": false,
     "start_time": "2021-09-02T13:30:08.070809",
     "status": "completed"
    },
    "tags": []
   },
   "outputs": [],
   "source": [
    "df = pd.read_sql(\"select * from EBAY_TOP_BERLIN where record_time in (select distinct record_time from EBAY_TOP_BERLIN order by record_time desc limit 2)\", sqlite3.connect(\"UsedObjects.db\"))"
   ]
  },
  {
   "cell_type": "code",
   "execution_count": 5,
   "id": "popular-active",
   "metadata": {
    "execution": {
     "iopub.execute_input": "2021-09-02T13:30:08.460935Z",
     "iopub.status.busy": "2021-09-02T13:30:08.448846Z",
     "iopub.status.idle": "2021-09-02T13:30:08.477264Z",
     "shell.execute_reply": "2021-09-02T13:30:08.478531Z"
    },
    "papermill": {
     "duration": 0.070821,
     "end_time": "2021-09-02T13:30:08.478994",
     "exception": false,
     "start_time": "2021-09-02T13:30:08.408173",
     "status": "completed"
    },
    "tags": []
   },
   "outputs": [],
   "source": [
    "df_pivot = df.pivot_table(index=\"PRODUCT\", columns = \"RECORD_TIME\", values = \"LISTING_COUNT\")"
   ]
  },
  {
   "cell_type": "code",
   "execution_count": 6,
   "id": "union-huntington",
   "metadata": {
    "execution": {
     "iopub.execute_input": "2021-09-02T13:30:08.534808Z",
     "iopub.status.busy": "2021-09-02T13:30:08.532710Z",
     "iopub.status.idle": "2021-09-02T13:30:08.538008Z",
     "shell.execute_reply": "2021-09-02T13:30:08.539254Z"
    },
    "papermill": {
     "duration": 0.040881,
     "end_time": "2021-09-02T13:30:08.539684",
     "exception": false,
     "start_time": "2021-09-02T13:30:08.498803",
     "status": "completed"
    },
    "tags": []
   },
   "outputs": [],
   "source": [
    "df_pivot.columns = [\"stamp_1\", \"stamp_2\"]\n",
    "df_pivot_diff = df_pivot.diff(axis=1)"
   ]
  },
  {
   "cell_type": "code",
   "execution_count": 7,
   "id": "fifth-motion",
   "metadata": {
    "execution": {
     "iopub.execute_input": "2021-09-02T13:30:08.594417Z",
     "iopub.status.busy": "2021-09-02T13:30:08.592071Z",
     "iopub.status.idle": "2021-09-02T13:30:10.066134Z",
     "shell.execute_reply": "2021-09-02T13:30:10.067581Z"
    },
    "papermill": {
     "duration": 1.506577,
     "end_time": "2021-09-02T13:30:10.068038",
     "exception": false,
     "start_time": "2021-09-02T13:30:08.561461",
     "status": "completed"
    },
    "tags": []
   },
   "outputs": [
    {
     "data": {
      "text/plain": [
       "<AxesSubplot:ylabel='PRODUCT'>"
      ]
     },
     "execution_count": 7,
     "metadata": {},
     "output_type": "execute_result"
    },
    {
     "data": {
      "image/png": "[encoded data removed]",
      "text/plain": [
       "<Figure size 432x288 with 1 Axes>"
      ]
     },
     "metadata": {
      "needs_background": "light"
     },
     "output_type": "display_data"
    }
   ],
   "source": [
    "df_pivot_diff.sort_values(\"stamp_2\", ascending = False)[\"stamp_2\"].head(10).plot.barh()"
   ]
  },
  {
   "cell_type": "code",
   "execution_count": null,
   "id": "extra-executive",
   "metadata": {
    "papermill": {
     "duration": 0.02177,
     "end_time": "2021-09-02T13:30:10.113493",
     "exception": false,
     "start_time": "2021-09-02T13:30:10.091723",
     "status": "completed"
    },
    "tags": []
   },
   "outputs": [],
   "source": []
  }
 ],
 "metadata": {
  "kernelspec": {
   "display_name": "Python 3",
   "language": "python",
   "name": "python3"
  },
  "language_info": {
   "codemirror_mode": {
    "name": "ipython",
    "version": 3
   },
   "file_extension": ".py",
   "mimetype": "text/x-python",
   "name": "python",
   "nbconvert_exporter": "python",
   "pygments_lexer": "ipython3",
   "version": "3.9.5"
  },
  "papermill": {
   "default_parameters": {},
   "duration": 6.818801,
   "end_time": "2021-09-02T13:30:11.298595",
   "environment_variables": {},
   "exception": null,
   "input_path": "eBay_Overview.ipynb",
   "output_path": "eBay_Overview.ipynb",
   "parameters": {},
   "start_time": "2021-09-02T13:30:04.479794",
   "version": "2.3.3"
  }
 },
 "nbformat": 4,
 "nbformat_minor": 5
}