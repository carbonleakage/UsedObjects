{
 "cells": [
  {
   "cell_type": "code",
   "execution_count": 1,
   "id": "reverse-picking",
   "metadata": {
    "execution": {
     "iopub.execute_input": "2021-11-21T22:00:08.025401Z",
     "iopub.status.busy": "2021-11-21T22:00:08.022966Z",
     "iopub.status.idle": "2021-11-21T22:00:08.980870Z",
     "shell.execute_reply": "2021-11-21T22:00:08.983052Z"
    },
    "papermill": {
     "duration": 1.007493,
     "end_time": "2021-11-21T22:00:08.983778",
     "exception": false,
     "start_time": "2021-11-21T22:00:07.976285",
     "status": "completed"
    },
    "tags": []
   },
   "outputs": [],
   "source": [
    "import pandas as pd\n",
    "import sqlite3"
   ]
  },
  {
   "cell_type": "code",
   "execution_count": 2,
   "id": "innovative-syndrome",
   "metadata": {
    "execution": {
     "iopub.execute_input": "2021-11-21T22:00:09.063412Z",
     "iopub.status.busy": "2021-11-21T22:00:09.060862Z",
     "iopub.status.idle": "2021-11-21T22:00:09.942983Z",
     "shell.execute_reply": "2021-11-21T22:00:09.944515Z"
    },
    "papermill": {
     "duration": 0.920573,
     "end_time": "2021-11-21T22:00:09.945086",
     "exception": false,
     "start_time": "2021-11-21T22:00:09.024513",
     "status": "completed"
    },
    "tags": []
   },
   "outputs": [],
   "source": [
    "timestamps = pd.read_sql(\"select distinct record_time from EBAY_TOP_BERLIN order by record_time desc limit 2\", sqlite3.connect(\"UsedObjects.db\"))"
   ]
  },
  {
   "cell_type": "code",
   "execution_count": 3,
   "id": "periodic-identification",
   "metadata": {
    "execution": {
     "iopub.execute_input": "2021-11-21T22:00:10.015907Z",
     "iopub.status.busy": "2021-11-21T22:00:10.013751Z",
     "iopub.status.idle": "2021-11-21T22:00:10.036310Z",
     "shell.execute_reply": "2021-11-21T22:00:10.037968Z"
    },
    "papermill": {
     "duration": 0.072955,
     "end_time": "2021-11-21T22:00:10.038494",
     "exception": false,
     "start_time": "2021-11-21T22:00:09.965539",
     "status": "completed"
    },
    "tags": []
   },
   "outputs": [
    {
     "data": {
      "text/html": [
       "<div>\n",
       "<style scoped>\n",
       "    .dataframe tbody tr th:only-of-type {\n",
       "        vertical-align: middle;\n",
       "    }\n",
       "\n",
       "    .dataframe tbody tr th {\n",
       "        vertical-align: top;\n",
       "    }\n",
       "\n",
       "    .dataframe thead th {\n",
       "        text-align: right;\n",
       "    }\n",
       "</style>\n",
       "<table border=\"1\" class=\"dataframe\">\n",
       "  <thead>\n",
       "    <tr style=\"text-align: right;\">\n",
       "      <th></th>\n",
       "      <th>RECORD_TIME</th>\n",
       "    </tr>\n",
       "  </thead>\n",
       "  <tbody>\n",
       "    <tr>\n",
       "      <th>0</th>\n",
       "      <td>2021-11-21 23:00</td>\n",
       "    </tr>\n",
       "    <tr>\n",
       "      <th>1</th>\n",
       "      <td>2021-11-21 22:30</td>\n",
       "    </tr>\n",
       "  </tbody>\n",
       "</table>\n",
       "</div>"
      ],
      "text/plain": [
       "        RECORD_TIME\n",
       "0  2021-11-21 23:00\n",
       "1  2021-11-21 22:30"
      ]
     },
     "execution_count": 3,
     "metadata": {},
     "output_type": "execute_result"
    }
   ],
   "source": [
    "timestamps"
   ]
  },
  {
   "cell_type": "code",
   "execution_count": 4,
   "id": "alternate-victory",
   "metadata": {
    "execution": {
     "iopub.execute_input": "2021-11-21T22:00:10.092159Z",
     "iopub.status.busy": "2021-11-21T22:00:10.090195Z",
     "iopub.status.idle": "2021-11-21T22:00:11.335360Z",
     "shell.execute_reply": "2021-11-21T22:00:11.337075Z"
    },
    "papermill": {
     "duration": 1.277924,
     "end_time": "2021-11-21T22:00:11.337579",
     "exception": false,
     "start_time": "2021-11-21T22:00:10.059655",
     "status": "completed"
    },
    "tags": []
   },
   "outputs": [],
   "source": [
    "df = pd.read_sql(\"select * from EBAY_TOP_BERLIN where record_time in (select distinct record_time from EBAY_TOP_BERLIN order by record_time desc limit 2)\", sqlite3.connect(\"UsedObjects.db\"))"
   ]
  },
  {
   "cell_type": "code",
   "execution_count": 5,
   "id": "popular-active",
   "metadata": {
    "execution": {
     "iopub.execute_input": "2021-11-21T22:00:11.405741Z",
     "iopub.status.busy": "2021-11-21T22:00:11.403254Z",
     "iopub.status.idle": "2021-11-21T22:00:11.437805Z",
     "shell.execute_reply": "2021-11-21T22:00:11.439368Z"
    },
    "papermill": {
     "duration": 0.079565,
     "end_time": "2021-11-21T22:00:11.439842",
     "exception": false,
     "start_time": "2021-11-21T22:00:11.360277",
     "status": "completed"
    },
    "tags": []
   },
   "outputs": [],
   "source": [
    "df_pivot = df.pivot_table(index=\"PRODUCT\", columns = \"RECORD_TIME\", values = \"LISTING_COUNT\")"
   ]
  },
  {
   "cell_type": "code",
   "execution_count": 6,
   "id": "union-huntington",
   "metadata": {
    "execution": {
     "iopub.execute_input": "2021-11-21T22:00:11.503232Z",
     "iopub.status.busy": "2021-11-21T22:00:11.500861Z",
     "iopub.status.idle": "2021-11-21T22:00:11.506449Z",
     "shell.execute_reply": "2021-11-21T22:00:11.507919Z"
    },
    "papermill": {
     "duration": 0.047259,
     "end_time": "2021-11-21T22:00:11.508391",
     "exception": false,
     "start_time": "2021-11-21T22:00:11.461132",
     "status": "completed"
    },
    "tags": []
   },
   "outputs": [],
   "source": [
    "df_pivot.columns = [\"stamp_1\", \"stamp_2\"]\n",
    "df_pivot_diff = df_pivot.diff(axis=1)"
   ]
  },
  {
   "cell_type": "code",
   "execution_count": 7,
   "id": "fifth-motion",
   "metadata": {
    "execution": {
     "iopub.execute_input": "2021-11-21T22:00:11.570531Z",
     "iopub.status.busy": "2021-11-21T22:00:11.566452Z",
     "iopub.status.idle": "2021-11-21T22:00:13.295629Z",
     "shell.execute_reply": "2021-11-21T22:00:13.297103Z"
    },
    "papermill": {
     "duration": 1.767839,
     "end_time": "2021-11-21T22:00:13.297594",
     "exception": false,
     "start_time": "2021-11-21T22:00:11.529755",
     "status": "completed"
    },
    "tags": []
   },
   "outputs": [
    {
     "data": {
      "text/plain": [
       "<AxesSubplot:ylabel='PRODUCT'>"
      ]
     },
     "execution_count": 7,
     "metadata": {},
     "output_type": "execute_result"
    },
    {
     "data": {
      "image/png": "[encoded data removed]",
      "text/plain": [
       "<Figure size 432x288 with 1 Axes>"
      ]
     },
     "metadata": {
      "needs_background": "light"
     },
     "output_type": "display_data"
    }
   ],
   "source": [
    "df_pivot_diff.sort_values(\"stamp_2\", ascending = False)[\"stamp_2\"].head(10).plot.barh()"
   ]
  },
  {
   "cell_type": "code",
   "execution_count": null,
   "id": "extra-executive",
   "metadata": {
    "papermill": {
     "duration": 0.058457,
     "end_time": "2021-11-21T22:00:13.380483",
     "exception": false,
     "start_time": "2021-11-21T22:00:13.322026",
     "status": "completed"
    },
    "tags": []
   },
   "outputs": [],
   "source": []
  }
 ],
 "metadata": {
  "kernelspec": {
   "display_name": "Python 3",
   "language": "python",
   "name": "python3"
  },
  "language_info": {
   "codemirror_mode": {
    "name": "ipython",
    "version": 3
   },
   "file_extension": ".py",
   "mimetype": "text/x-python",
   "name": "python",
   "nbconvert_exporter": "python",
   "pygments_lexer": "ipython3",
   "version": "3.9.5"
  },
  "papermill": {
   "default_parameters": {},
   "duration": 10.00612,
   "end_time": "2021-11-21T22:00:15.166132",
   "environment_variables": {},
   "exception": null,
   "input_path": "eBay_Overview.ipynb",
   "output_path": "eBay_Overview.ipynb",
   "parameters": {},
   "start_time": "2021-11-21T22:00:05.160012",
   "version": "2.3.3"
  }
 },
 "nbformat": 4,
 "nbformat_minor": 5
}