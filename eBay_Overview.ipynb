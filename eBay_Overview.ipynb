{
 "cells": [
  {
   "cell_type": "code",
   "execution_count": 1,
   "id": "reverse-picking",
   "metadata": {
    "execution": {
     "iopub.execute_input": "2021-08-10T14:30:04.412986Z",
     "iopub.status.busy": "2021-08-10T14:30:04.412151Z",
     "iopub.status.idle": "2021-08-10T14:30:05.059459Z",
     "shell.execute_reply": "2021-08-10T14:30:05.058092Z"
    },
    "papermill": {
     "duration": 0.666159,
     "end_time": "2021-08-10T14:30:05.059767",
     "exception": false,
     "start_time": "2021-08-10T14:30:04.393608",
     "status": "completed"
    },
    "tags": []
   },
   "outputs": [],
   "source": [
    "import pandas as pd\n",
    "import sqlite3"
   ]
  },
  {
   "cell_type": "code",
   "execution_count": 2,
   "id": "innovative-syndrome",
   "metadata": {
    "execution": {
     "iopub.execute_input": "2021-08-10T14:30:05.088723Z",
     "iopub.status.busy": "2021-08-10T14:30:05.087408Z",
     "iopub.status.idle": "2021-08-10T14:30:05.344209Z",
     "shell.execute_reply": "2021-08-10T14:30:05.344742Z"
    },
    "papermill": {
     "duration": 0.271175,
     "end_time": "2021-08-10T14:30:05.344924",
     "exception": false,
     "start_time": "2021-08-10T14:30:05.073749",
     "status": "completed"
    },
    "tags": []
   },
   "outputs": [],
   "source": [
    "timestamps = pd.read_sql(\"select distinct record_time from EBAY_TOP_BERLIN order by record_time desc limit 2\", sqlite3.connect(\"UsedObjects.db\"))"
   ]
  },
  {
   "cell_type": "code",
   "execution_count": 3,
   "id": "periodic-identification",
   "metadata": {
    "execution": {
     "iopub.execute_input": "2021-08-10T14:30:05.380510Z",
     "iopub.status.busy": "2021-08-10T14:30:05.379736Z",
     "iopub.status.idle": "2021-08-10T14:30:05.392248Z",
     "shell.execute_reply": "2021-08-10T14:30:05.392805Z"
    },
    "papermill": {
     "duration": 0.039641,
     "end_time": "2021-08-10T14:30:05.392993",
     "exception": false,
     "start_time": "2021-08-10T14:30:05.353352",
     "status": "completed"
    },
    "tags": []
   },
   "outputs": [
    {
     "data": {
      "text/html": [
       "<div>\n",
       "<style scoped>\n",
       "    .dataframe tbody tr th:only-of-type {\n",
       "        vertical-align: middle;\n",
       "    }\n",
       "\n",
       "    .dataframe tbody tr th {\n",
       "        vertical-align: top;\n",
       "    }\n",
       "\n",
       "    .dataframe thead th {\n",
       "        text-align: right;\n",
       "    }\n",
       "</style>\n",
       "<table border=\"1\" class=\"dataframe\">\n",
       "  <thead>\n",
       "    <tr style=\"text-align: right;\">\n",
       "      <th></th>\n",
       "      <th>RECORD_TIME</th>\n",
       "    </tr>\n",
       "  </thead>\n",
       "  <tbody>\n",
       "    <tr>\n",
       "      <th>0</th>\n",
       "      <td>2021-08-10 16:30</td>\n",
       "    </tr>\n",
       "    <tr>\n",
       "      <th>1</th>\n",
       "      <td>2021-08-10 16:00</td>\n",
       "    </tr>\n",
       "  </tbody>\n",
       "</table>\n",
       "</div>"
      ],
      "text/plain": [
       "        RECORD_TIME\n",
       "0  2021-08-10 16:30\n",
       "1  2021-08-10 16:00"
      ]
     },
     "execution_count": 3,
     "metadata": {},
     "output_type": "execute_result"
    }
   ],
   "source": [
    "timestamps"
   ]
  },
  {
   "cell_type": "code",
   "execution_count": 4,
   "id": "alternate-victory",
   "metadata": {
    "execution": {
     "iopub.execute_input": "2021-08-10T14:30:05.417314Z",
     "iopub.status.busy": "2021-08-10T14:30:05.416557Z",
     "iopub.status.idle": "2021-08-10T14:30:05.432408Z",
     "shell.execute_reply": "2021-08-10T14:30:05.433449Z"
    },
    "papermill": {
     "duration": 0.030764,
     "end_time": "2021-08-10T14:30:05.433871",
     "exception": false,
     "start_time": "2021-08-10T14:30:05.403107",
     "status": "completed"
    },
    "tags": []
   },
   "outputs": [],
   "source": [
    "df = pd.read_sql(\"select * from EBAY_TOP_BERLIN where record_time in (select distinct record_time from EBAY_TOP_BERLIN order by record_time desc limit 2)\", sqlite3.connect(\"UsedObjects.db\"))"
   ]
  },
  {
   "cell_type": "code",
   "execution_count": 5,
   "id": "popular-active",
   "metadata": {
    "execution": {
     "iopub.execute_input": "2021-08-10T14:30:05.463662Z",
     "iopub.status.busy": "2021-08-10T14:30:05.462892Z",
     "iopub.status.idle": "2021-08-10T14:30:05.492259Z",
     "shell.execute_reply": "2021-08-10T14:30:05.491159Z"
    },
    "papermill": {
     "duration": 0.048101,
     "end_time": "2021-08-10T14:30:05.492534",
     "exception": false,
     "start_time": "2021-08-10T14:30:05.444433",
     "status": "completed"
    },
    "tags": []
   },
   "outputs": [],
   "source": [
    "df_pivot = df.pivot_table(index=\"PRODUCT\", columns = \"RECORD_TIME\", values = \"LISTING_COUNT\")"
   ]
  },
  {
   "cell_type": "code",
   "execution_count": 6,
   "id": "union-huntington",
   "metadata": {
    "execution": {
     "iopub.execute_input": "2021-08-10T14:30:05.522162Z",
     "iopub.status.busy": "2021-08-10T14:30:05.520971Z",
     "iopub.status.idle": "2021-08-10T14:30:05.525613Z",
     "shell.execute_reply": "2021-08-10T14:30:05.527036Z"
    },
    "papermill": {
     "duration": 0.02443,
     "end_time": "2021-08-10T14:30:05.527382",
     "exception": false,
     "start_time": "2021-08-10T14:30:05.502952",
     "status": "completed"
    },
    "tags": []
   },
   "outputs": [],
   "source": [
    "df_pivot.columns = [\"stamp_1\", \"stamp_2\"]\n",
    "df_pivot_diff = df_pivot.diff(axis=1)"
   ]
  },
  {
   "cell_type": "code",
   "execution_count": 7,
   "id": "fifth-motion",
   "metadata": {
    "execution": {
     "iopub.execute_input": "2021-08-10T14:30:05.553201Z",
     "iopub.status.busy": "2021-08-10T14:30:05.552326Z",
     "iopub.status.idle": "2021-08-10T14:30:06.202905Z",
     "shell.execute_reply": "2021-08-10T14:30:06.203433Z"
    },
    "papermill": {
     "duration": 0.666608,
     "end_time": "2021-08-10T14:30:06.203612",
     "exception": false,
     "start_time": "2021-08-10T14:30:05.537004",
     "status": "completed"
    },
    "tags": []
   },
   "outputs": [
    {
     "data": {
      "text/plain": [
       "<AxesSubplot:ylabel='PRODUCT'>"
      ]
     },
     "execution_count": 7,
     "metadata": {},
     "output_type": "execute_result"
    },
    {
     "data": {
      "image/png": "[encoded data removed]",
      "text/plain": [
       "<Figure size 432x288 with 1 Axes>"
      ]
     },
     "metadata": {
      "needs_background": "light"
     },
     "output_type": "display_data"
    }
   ],
   "source": [
    "df_pivot_diff.sort_values(\"stamp_2\", ascending = False)[\"stamp_2\"].head(10).plot.barh()"
   ]
  },
  {
   "cell_type": "code",
   "execution_count": null,
   "id": "extra-executive",
   "metadata": {
    "papermill": {
     "duration": 0.009449,
     "end_time": "2021-08-10T14:30:06.223668",
     "exception": false,
     "start_time": "2021-08-10T14:30:06.214219",
     "status": "completed"
    },
    "tags": []
   },
   "outputs": [],
   "source": []
  }
 ],
 "metadata": {
  "kernelspec": {
   "display_name": "Python 3",
   "language": "python",
   "name": "python3"
  },
  "language_info": {
   "codemirror_mode": {
    "name": "ipython",
    "version": 3
   },
   "file_extension": ".py",
   "mimetype": "text/x-python",
   "name": "python",
   "nbconvert_exporter": "python",
   "pygments_lexer": "ipython3",
   "version": "3.8.8"
  },
  "papermill": {
   "default_parameters": {},
   "duration": 5.02116,
   "end_time": "2021-08-10T14:30:07.735376",
   "environment_variables": {},
   "exception": null,
   "input_path": "/Users/saravananshanmugam/Carbonleakage_Git/UsedObjects/eBay_Overview.ipynb",
   "output_path": "/Users/saravananshanmugam/Carbonleakage_Git/UsedObjects/eBay_Overview.ipynb",
   "parameters": {},
   "start_time": "2021-08-10T14:30:02.714216",
   "version": "2.3.3"
  }
 },
 "nbformat": 4,
 "nbformat_minor": 5
}