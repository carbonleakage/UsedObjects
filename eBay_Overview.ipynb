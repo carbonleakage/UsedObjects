{
 "cells": [
  {
   "cell_type": "code",
   "execution_count": 1,
   "id": "reverse-picking",
   "metadata": {
    "execution": {
     "iopub.execute_input": "2021-10-20T10:30:07.190765Z",
     "iopub.status.busy": "2021-10-20T10:30:07.188814Z",
     "iopub.status.idle": "2021-10-20T10:30:07.999854Z",
     "shell.execute_reply": "2021-10-20T10:30:08.001244Z"
    },
    "papermill": {
     "duration": 0.862349,
     "end_time": "2021-10-20T10:30:08.001912",
     "exception": false,
     "start_time": "2021-10-20T10:30:07.139563",
     "status": "completed"
    },
    "tags": []
   },
   "outputs": [],
   "source": [
    "import pandas as pd\n",
    "import sqlite3"
   ]
  },
  {
   "cell_type": "code",
   "execution_count": 2,
   "id": "innovative-syndrome",
   "metadata": {
    "execution": {
     "iopub.execute_input": "2021-10-20T10:30:08.053088Z",
     "iopub.status.busy": "2021-10-20T10:30:08.051040Z",
     "iopub.status.idle": "2021-10-20T10:30:08.639450Z",
     "shell.execute_reply": "2021-10-20T10:30:08.640642Z"
    },
    "papermill": {
     "duration": 0.618796,
     "end_time": "2021-10-20T10:30:08.641137",
     "exception": false,
     "start_time": "2021-10-20T10:30:08.022341",
     "status": "completed"
    },
    "tags": []
   },
   "outputs": [],
   "source": [
    "timestamps = pd.read_sql(\"select distinct record_time from EBAY_TOP_BERLIN order by record_time desc limit 2\", sqlite3.connect(\"UsedObjects.db\"))"
   ]
  },
  {
   "cell_type": "code",
   "execution_count": 3,
   "id": "periodic-identification",
   "metadata": {
    "execution": {
     "iopub.execute_input": "2021-10-20T10:30:08.716399Z",
     "iopub.status.busy": "2021-10-20T10:30:08.714371Z",
     "iopub.status.idle": "2021-10-20T10:30:08.734696Z",
     "shell.execute_reply": "2021-10-20T10:30:08.736165Z"
    },
    "papermill": {
     "duration": 0.070315,
     "end_time": "2021-10-20T10:30:08.736676",
     "exception": false,
     "start_time": "2021-10-20T10:30:08.666361",
     "status": "completed"
    },
    "tags": []
   },
   "outputs": [
    {
     "data": {
      "text/html": [
       "<div>\n",
       "<style scoped>\n",
       "    .dataframe tbody tr th:only-of-type {\n",
       "        vertical-align: middle;\n",
       "    }\n",
       "\n",
       "    .dataframe tbody tr th {\n",
       "        vertical-align: top;\n",
       "    }\n",
       "\n",
       "    .dataframe thead th {\n",
       "        text-align: right;\n",
       "    }\n",
       "</style>\n",
       "<table border=\"1\" class=\"dataframe\">\n",
       "  <thead>\n",
       "    <tr style=\"text-align: right;\">\n",
       "      <th></th>\n",
       "      <th>RECORD_TIME</th>\n",
       "    </tr>\n",
       "  </thead>\n",
       "  <tbody>\n",
       "    <tr>\n",
       "      <th>0</th>\n",
       "      <td>2021-10-20 12:30</td>\n",
       "    </tr>\n",
       "    <tr>\n",
       "      <th>1</th>\n",
       "      <td>2021-10-20 12:00</td>\n",
       "    </tr>\n",
       "  </tbody>\n",
       "</table>\n",
       "</div>"
      ],
      "text/plain": [
       "        RECORD_TIME\n",
       "0  2021-10-20 12:30\n",
       "1  2021-10-20 12:00"
      ]
     },
     "execution_count": 3,
     "metadata": {},
     "output_type": "execute_result"
    }
   ],
   "source": [
    "timestamps"
   ]
  },
  {
   "cell_type": "code",
   "execution_count": 4,
   "id": "alternate-victory",
   "metadata": {
    "execution": {
     "iopub.execute_input": "2021-10-20T10:30:08.789945Z",
     "iopub.status.busy": "2021-10-20T10:30:08.788035Z",
     "iopub.status.idle": "2021-10-20T10:30:09.653853Z",
     "shell.execute_reply": "2021-10-20T10:30:09.655285Z"
    },
    "papermill": {
     "duration": 0.896303,
     "end_time": "2021-10-20T10:30:09.655724",
     "exception": false,
     "start_time": "2021-10-20T10:30:08.759421",
     "status": "completed"
    },
    "tags": []
   },
   "outputs": [],
   "source": [
    "df = pd.read_sql(\"select * from EBAY_TOP_BERLIN where record_time in (select distinct record_time from EBAY_TOP_BERLIN order by record_time desc limit 2)\", sqlite3.connect(\"UsedObjects.db\"))"
   ]
  },
  {
   "cell_type": "code",
   "execution_count": 5,
   "id": "popular-active",
   "metadata": {
    "execution": {
     "iopub.execute_input": "2021-10-20T10:30:09.724221Z",
     "iopub.status.busy": "2021-10-20T10:30:09.715939Z",
     "iopub.status.idle": "2021-10-20T10:30:09.745887Z",
     "shell.execute_reply": "2021-10-20T10:30:09.747298Z"
    },
    "papermill": {
     "duration": 0.07072,
     "end_time": "2021-10-20T10:30:09.747731",
     "exception": false,
     "start_time": "2021-10-20T10:30:09.677011",
     "status": "completed"
    },
    "tags": []
   },
   "outputs": [],
   "source": [
    "df_pivot = df.pivot_table(index=\"PRODUCT\", columns = \"RECORD_TIME\", values = \"LISTING_COUNT\")"
   ]
  },
  {
   "cell_type": "code",
   "execution_count": 6,
   "id": "union-huntington",
   "metadata": {
    "execution": {
     "iopub.execute_input": "2021-10-20T10:30:09.805563Z",
     "iopub.status.busy": "2021-10-20T10:30:09.803426Z",
     "iopub.status.idle": "2021-10-20T10:30:09.808831Z",
     "shell.execute_reply": "2021-10-20T10:30:09.810022Z"
    },
    "papermill": {
     "duration": 0.041238,
     "end_time": "2021-10-20T10:30:09.810445",
     "exception": false,
     "start_time": "2021-10-20T10:30:09.769207",
     "status": "completed"
    },
    "tags": []
   },
   "outputs": [],
   "source": [
    "df_pivot.columns = [\"stamp_1\", \"stamp_2\"]\n",
    "df_pivot_diff = df_pivot.diff(axis=1)"
   ]
  },
  {
   "cell_type": "code",
   "execution_count": 7,
   "id": "fifth-motion",
   "metadata": {
    "execution": {
     "iopub.execute_input": "2021-10-20T10:30:09.865013Z",
     "iopub.status.busy": "2021-10-20T10:30:09.862527Z",
     "iopub.status.idle": "2021-10-20T10:30:11.345558Z",
     "shell.execute_reply": "2021-10-20T10:30:11.346989Z"
    },
    "papermill": {
     "duration": 1.516282,
     "end_time": "2021-10-20T10:30:11.347430",
     "exception": false,
     "start_time": "2021-10-20T10:30:09.831148",
     "status": "completed"
    },
    "tags": []
   },
   "outputs": [
    {
     "data": {
      "text/plain": [
       "<AxesSubplot:ylabel='PRODUCT'>"
      ]
     },
     "execution_count": 7,
     "metadata": {},
     "output_type": "execute_result"
    },
    {
     "data": {
      "image/png": "[encoded data removed]",
      "text/plain": [
       "<Figure size 432x288 with 1 Axes>"
      ]
     },
     "metadata": {
      "needs_background": "light"
     },
     "output_type": "display_data"
    }
   ],
   "source": [
    "df_pivot_diff.sort_values(\"stamp_2\", ascending = False)[\"stamp_2\"].head(10).plot.barh()"
   ]
  },
  {
   "cell_type": "code",
   "execution_count": null,
   "id": "extra-executive",
   "metadata": {
    "papermill": {
     "duration": 0.022322,
     "end_time": "2021-10-20T10:30:11.394540",
     "exception": false,
     "start_time": "2021-10-20T10:30:11.372218",
     "status": "completed"
    },
    "tags": []
   },
   "outputs": [],
   "source": []
  }
 ],
 "metadata": {
  "kernelspec": {
   "display_name": "Python 3",
   "language": "python",
   "name": "python3"
  },
  "language_info": {
   "codemirror_mode": {
    "name": "ipython",
    "version": 3
   },
   "file_extension": ".py",
   "mimetype": "text/x-python",
   "name": "python",
   "nbconvert_exporter": "python",
   "pygments_lexer": "ipython3",
   "version": "3.9.5"
  },
  "papermill": {
   "default_parameters": {},
   "duration": 7.82416,
   "end_time": "2021-10-20T10:30:12.545020",
   "environment_variables": {},
   "exception": null,
   "input_path": "eBay_Overview.ipynb",
   "output_path": "eBay_Overview.ipynb",
   "parameters": {},
   "start_time": "2021-10-20T10:30:04.720860",
   "version": "2.3.3"
  }
 },
 "nbformat": 4,
 "nbformat_minor": 5
}