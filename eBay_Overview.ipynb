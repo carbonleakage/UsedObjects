{
 "cells": [
  {
   "cell_type": "code",
   "execution_count": 1,
   "id": "reverse-picking",
   "metadata": {
    "execution": {
     "iopub.execute_input": "2021-09-14T14:30:07.229439Z",
     "iopub.status.busy": "2021-09-14T14:30:07.227371Z",
     "iopub.status.idle": "2021-09-14T14:30:08.034064Z",
     "shell.execute_reply": "2021-09-14T14:30:08.035555Z"
    },
    "papermill": {
     "duration": 0.858105,
     "end_time": "2021-09-14T14:30:08.036193",
     "exception": false,
     "start_time": "2021-09-14T14:30:07.178088",
     "status": "completed"
    },
    "tags": []
   },
   "outputs": [],
   "source": [
    "import pandas as pd\n",
    "import sqlite3"
   ]
  },
  {
   "cell_type": "code",
   "execution_count": 2,
   "id": "innovative-syndrome",
   "metadata": {
    "execution": {
     "iopub.execute_input": "2021-09-14T14:30:08.088622Z",
     "iopub.status.busy": "2021-09-14T14:30:08.086208Z",
     "iopub.status.idle": "2021-09-14T14:30:08.373822Z",
     "shell.execute_reply": "2021-09-14T14:30:08.375166Z"
    },
    "papermill": {
     "duration": 0.317849,
     "end_time": "2021-09-14T14:30:08.375606",
     "exception": false,
     "start_time": "2021-09-14T14:30:08.057757",
     "status": "completed"
    },
    "tags": []
   },
   "outputs": [],
   "source": [
    "timestamps = pd.read_sql(\"select distinct record_time from EBAY_TOP_BERLIN order by record_time desc limit 2\", sqlite3.connect(\"UsedObjects.db\"))"
   ]
  },
  {
   "cell_type": "code",
   "execution_count": 3,
   "id": "periodic-identification",
   "metadata": {
    "execution": {
     "iopub.execute_input": "2021-09-14T14:30:08.441226Z",
     "iopub.status.busy": "2021-09-14T14:30:08.438823Z",
     "iopub.status.idle": "2021-09-14T14:30:08.459420Z",
     "shell.execute_reply": "2021-09-14T14:30:08.460645Z"
    },
    "papermill": {
     "duration": 0.065746,
     "end_time": "2021-09-14T14:30:08.461042",
     "exception": false,
     "start_time": "2021-09-14T14:30:08.395296",
     "status": "completed"
    },
    "tags": []
   },
   "outputs": [
    {
     "data": {
      "text/html": [
       "<div>\n",
       "<style scoped>\n",
       "    .dataframe tbody tr th:only-of-type {\n",
       "        vertical-align: middle;\n",
       "    }\n",
       "\n",
       "    .dataframe tbody tr th {\n",
       "        vertical-align: top;\n",
       "    }\n",
       "\n",
       "    .dataframe thead th {\n",
       "        text-align: right;\n",
       "    }\n",
       "</style>\n",
       "<table border=\"1\" class=\"dataframe\">\n",
       "  <thead>\n",
       "    <tr style=\"text-align: right;\">\n",
       "      <th></th>\n",
       "      <th>RECORD_TIME</th>\n",
       "    </tr>\n",
       "  </thead>\n",
       "  <tbody>\n",
       "    <tr>\n",
       "      <th>0</th>\n",
       "      <td>2021-09-14 16:30</td>\n",
       "    </tr>\n",
       "    <tr>\n",
       "      <th>1</th>\n",
       "      <td>2021-09-14 16:00</td>\n",
       "    </tr>\n",
       "  </tbody>\n",
       "</table>\n",
       "</div>"
      ],
      "text/plain": [
       "        RECORD_TIME\n",
       "0  2021-09-14 16:30\n",
       "1  2021-09-14 16:00"
      ]
     },
     "execution_count": 3,
     "metadata": {},
     "output_type": "execute_result"
    }
   ],
   "source": [
    "timestamps"
   ]
  },
  {
   "cell_type": "code",
   "execution_count": 4,
   "id": "alternate-victory",
   "metadata": {
    "execution": {
     "iopub.execute_input": "2021-09-14T14:30:08.513810Z",
     "iopub.status.busy": "2021-09-14T14:30:08.511545Z",
     "iopub.status.idle": "2021-09-14T14:30:08.958409Z",
     "shell.execute_reply": "2021-09-14T14:30:08.959763Z"
    },
    "papermill": {
     "duration": 0.477414,
     "end_time": "2021-09-14T14:30:08.960194",
     "exception": false,
     "start_time": "2021-09-14T14:30:08.482780",
     "status": "completed"
    },
    "tags": []
   },
   "outputs": [],
   "source": [
    "df = pd.read_sql(\"select * from EBAY_TOP_BERLIN where record_time in (select distinct record_time from EBAY_TOP_BERLIN order by record_time desc limit 2)\", sqlite3.connect(\"UsedObjects.db\"))"
   ]
  },
  {
   "cell_type": "code",
   "execution_count": 5,
   "id": "popular-active",
   "metadata": {
    "execution": {
     "iopub.execute_input": "2021-09-14T14:30:09.043430Z",
     "iopub.status.busy": "2021-09-14T14:30:09.029990Z",
     "iopub.status.idle": "2021-09-14T14:30:09.060131Z",
     "shell.execute_reply": "2021-09-14T14:30:09.061493Z"
    },
    "papermill": {
     "duration": 0.074651,
     "end_time": "2021-09-14T14:30:09.061930",
     "exception": false,
     "start_time": "2021-09-14T14:30:08.987279",
     "status": "completed"
    },
    "tags": []
   },
   "outputs": [],
   "source": [
    "df_pivot = df.pivot_table(index=\"PRODUCT\", columns = \"RECORD_TIME\", values = \"LISTING_COUNT\")"
   ]
  },
  {
   "cell_type": "code",
   "execution_count": 6,
   "id": "union-huntington",
   "metadata": {
    "execution": {
     "iopub.execute_input": "2021-09-14T14:30:09.119400Z",
     "iopub.status.busy": "2021-09-14T14:30:09.117320Z",
     "iopub.status.idle": "2021-09-14T14:30:09.122702Z",
     "shell.execute_reply": "2021-09-14T14:30:09.123961Z"
    },
    "papermill": {
     "duration": 0.041398,
     "end_time": "2021-09-14T14:30:09.124394",
     "exception": false,
     "start_time": "2021-09-14T14:30:09.082996",
     "status": "completed"
    },
    "tags": []
   },
   "outputs": [],
   "source": [
    "df_pivot.columns = [\"stamp_1\", \"stamp_2\"]\n",
    "df_pivot_diff = df_pivot.diff(axis=1)"
   ]
  },
  {
   "cell_type": "code",
   "execution_count": 7,
   "id": "fifth-motion",
   "metadata": {
    "execution": {
     "iopub.execute_input": "2021-09-14T14:30:09.181966Z",
     "iopub.status.busy": "2021-09-14T14:30:09.179347Z",
     "iopub.status.idle": "2021-09-14T14:30:10.651669Z",
     "shell.execute_reply": "2021-09-14T14:30:10.652973Z"
    },
    "papermill": {
     "duration": 1.505959,
     "end_time": "2021-09-14T14:30:10.653394",
     "exception": false,
     "start_time": "2021-09-14T14:30:09.147435",
     "status": "completed"
    },
    "tags": []
   },
   "outputs": [
    {
     "data": {
      "text/plain": [
       "<AxesSubplot:ylabel='PRODUCT'>"
      ]
     },
     "execution_count": 7,
     "metadata": {},
     "output_type": "execute_result"
    },
    {
     "data": {
      "image/png": "[encoded data removed]",
      "text/plain": [
       "<Figure size 432x288 with 1 Axes>"
      ]
     },
     "metadata": {
      "needs_background": "light"
     },
     "output_type": "display_data"
    }
   ],
   "source": [
    "df_pivot_diff.sort_values(\"stamp_2\", ascending = False)[\"stamp_2\"].head(10).plot.barh()"
   ]
  },
  {
   "cell_type": "code",
   "execution_count": null,
   "id": "extra-executive",
   "metadata": {
    "papermill": {
     "duration": 0.022193,
     "end_time": "2021-09-14T14:30:10.699329",
     "exception": false,
     "start_time": "2021-09-14T14:30:10.677136",
     "status": "completed"
    },
    "tags": []
   },
   "outputs": [],
   "source": []
  }
 ],
 "metadata": {
  "kernelspec": {
   "display_name": "Python 3",
   "language": "python",
   "name": "python3"
  },
  "language_info": {
   "codemirror_mode": {
    "name": "ipython",
    "version": 3
   },
   "file_extension": ".py",
   "mimetype": "text/x-python",
   "name": "python",
   "nbconvert_exporter": "python",
   "pygments_lexer": "ipython3",
   "version": "3.9.5"
  },
  "papermill": {
   "default_parameters": {},
   "duration": 6.566546,
   "end_time": "2021-09-14T14:30:11.343026",
   "environment_variables": {},
   "exception": null,
   "input_path": "eBay_Overview.ipynb",
   "output_path": "eBay_Overview.ipynb",
   "parameters": {},
   "start_time": "2021-09-14T14:30:04.776480",
   "version": "2.3.3"
  }
 },
 "nbformat": 4,
 "nbformat_minor": 5
}