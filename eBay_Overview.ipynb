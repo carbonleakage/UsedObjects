{
 "cells": [
  {
   "cell_type": "code",
   "execution_count": 1,
   "id": "reverse-picking",
   "metadata": {
    "execution": {
     "iopub.execute_input": "2021-11-25T16:30:07.689956Z",
     "iopub.status.busy": "2021-11-25T16:30:07.684477Z",
     "iopub.status.idle": "2021-11-25T16:30:08.643341Z",
     "shell.execute_reply": "2021-11-25T16:30:08.644858Z"
    },
    "papermill": {
     "duration": 1.005031,
     "end_time": "2021-11-25T16:30:08.645617",
     "exception": false,
     "start_time": "2021-11-25T16:30:07.640586",
     "status": "completed"
    },
    "tags": []
   },
   "outputs": [],
   "source": [
    "import pandas as pd\n",
    "import sqlite3"
   ]
  },
  {
   "cell_type": "code",
   "execution_count": 2,
   "id": "innovative-syndrome",
   "metadata": {
    "execution": {
     "iopub.execute_input": "2021-11-25T16:30:08.706522Z",
     "iopub.status.busy": "2021-11-25T16:30:08.704206Z",
     "iopub.status.idle": "2021-11-25T16:30:09.617429Z",
     "shell.execute_reply": "2021-11-25T16:30:09.619190Z"
    },
    "papermill": {
     "duration": 0.94636,
     "end_time": "2021-11-25T16:30:09.619698",
     "exception": false,
     "start_time": "2021-11-25T16:30:08.673338",
     "status": "completed"
    },
    "tags": []
   },
   "outputs": [],
   "source": [
    "timestamps = pd.read_sql(\"select distinct record_time from EBAY_TOP_BERLIN order by record_time desc limit 2\", sqlite3.connect(\"UsedObjects.db\"))"
   ]
  },
  {
   "cell_type": "code",
   "execution_count": 3,
   "id": "periodic-identification",
   "metadata": {
    "execution": {
     "iopub.execute_input": "2021-11-25T16:30:09.692039Z",
     "iopub.status.busy": "2021-11-25T16:30:09.689694Z",
     "iopub.status.idle": "2021-11-25T16:30:09.712373Z",
     "shell.execute_reply": "2021-11-25T16:30:09.713937Z"
    },
    "papermill": {
     "duration": 0.073663,
     "end_time": "2021-11-25T16:30:09.714458",
     "exception": false,
     "start_time": "2021-11-25T16:30:09.640795",
     "status": "completed"
    },
    "tags": []
   },
   "outputs": [
    {
     "data": {
      "text/html": [
       "<div>\n",
       "<style scoped>\n",
       "    .dataframe tbody tr th:only-of-type {\n",
       "        vertical-align: middle;\n",
       "    }\n",
       "\n",
       "    .dataframe tbody tr th {\n",
       "        vertical-align: top;\n",
       "    }\n",
       "\n",
       "    .dataframe thead th {\n",
       "        text-align: right;\n",
       "    }\n",
       "</style>\n",
       "<table border=\"1\" class=\"dataframe\">\n",
       "  <thead>\n",
       "    <tr style=\"text-align: right;\">\n",
       "      <th></th>\n",
       "      <th>RECORD_TIME</th>\n",
       "    </tr>\n",
       "  </thead>\n",
       "  <tbody>\n",
       "    <tr>\n",
       "      <th>0</th>\n",
       "      <td>2021-11-25 17:30</td>\n",
       "    </tr>\n",
       "    <tr>\n",
       "      <th>1</th>\n",
       "      <td>2021-11-25 17:00</td>\n",
       "    </tr>\n",
       "  </tbody>\n",
       "</table>\n",
       "</div>"
      ],
      "text/plain": [
       "        RECORD_TIME\n",
       "0  2021-11-25 17:30\n",
       "1  2021-11-25 17:00"
      ]
     },
     "execution_count": 3,
     "metadata": {},
     "output_type": "execute_result"
    }
   ],
   "source": [
    "timestamps"
   ]
  },
  {
   "cell_type": "code",
   "execution_count": 4,
   "id": "alternate-victory",
   "metadata": {
    "execution": {
     "iopub.execute_input": "2021-11-25T16:30:09.770086Z",
     "iopub.status.busy": "2021-11-25T16:30:09.767297Z",
     "iopub.status.idle": "2021-11-25T16:30:11.074591Z",
     "shell.execute_reply": "2021-11-25T16:30:11.076153Z"
    },
    "papermill": {
     "duration": 1.341314,
     "end_time": "2021-11-25T16:30:11.076624",
     "exception": false,
     "start_time": "2021-11-25T16:30:09.735310",
     "status": "completed"
    },
    "tags": []
   },
   "outputs": [],
   "source": [
    "df = pd.read_sql(\"select * from EBAY_TOP_BERLIN where record_time in (select distinct record_time from EBAY_TOP_BERLIN order by record_time desc limit 2)\", sqlite3.connect(\"UsedObjects.db\"))"
   ]
  },
  {
   "cell_type": "code",
   "execution_count": 5,
   "id": "popular-active",
   "metadata": {
    "execution": {
     "iopub.execute_input": "2021-11-25T16:30:11.153347Z",
     "iopub.status.busy": "2021-11-25T16:30:11.141047Z",
     "iopub.status.idle": "2021-11-25T16:30:11.173326Z",
     "shell.execute_reply": "2021-11-25T16:30:11.174621Z"
    },
    "papermill": {
     "duration": 0.076527,
     "end_time": "2021-11-25T16:30:11.175156",
     "exception": false,
     "start_time": "2021-11-25T16:30:11.098629",
     "status": "completed"
    },
    "tags": []
   },
   "outputs": [],
   "source": [
    "df_pivot = df.pivot_table(index=\"PRODUCT\", columns = \"RECORD_TIME\", values = \"LISTING_COUNT\")"
   ]
  },
  {
   "cell_type": "code",
   "execution_count": 6,
   "id": "union-huntington",
   "metadata": {
    "execution": {
     "iopub.execute_input": "2021-11-25T16:30:11.233748Z",
     "iopub.status.busy": "2021-11-25T16:30:11.231404Z",
     "iopub.status.idle": "2021-11-25T16:30:11.237367Z",
     "shell.execute_reply": "2021-11-25T16:30:11.239143Z"
    },
    "papermill": {
     "duration": 0.044236,
     "end_time": "2021-11-25T16:30:11.239644",
     "exception": false,
     "start_time": "2021-11-25T16:30:11.195408",
     "status": "completed"
    },
    "tags": []
   },
   "outputs": [],
   "source": [
    "df_pivot.columns = [\"stamp_1\", \"stamp_2\"]\n",
    "df_pivot_diff = df_pivot.diff(axis=1)"
   ]
  },
  {
   "cell_type": "code",
   "execution_count": 7,
   "id": "fifth-motion",
   "metadata": {
    "execution": {
     "iopub.execute_input": "2021-11-25T16:30:11.308190Z",
     "iopub.status.busy": "2021-11-25T16:30:11.297310Z",
     "iopub.status.idle": "2021-11-25T16:30:13.177643Z",
     "shell.execute_reply": "2021-11-25T16:30:13.179281Z"
    },
    "papermill": {
     "duration": 1.917531,
     "end_time": "2021-11-25T16:30:13.179795",
     "exception": false,
     "start_time": "2021-11-25T16:30:11.262264",
     "status": "completed"
    },
    "tags": []
   },
   "outputs": [
    {
     "data": {
      "text/plain": [
       "<AxesSubplot:ylabel='PRODUCT'>"
      ]
     },
     "execution_count": 7,
     "metadata": {},
     "output_type": "execute_result"
    },
    {
     "data": {
      "image/png": "[encoded data removed]",
      "text/plain": [
       "<Figure size 432x288 with 1 Axes>"
      ]
     },
     "metadata": {
      "needs_background": "light"
     },
     "output_type": "display_data"
    }
   ],
   "source": [
    "df_pivot_diff.sort_values(\"stamp_2\", ascending = False)[\"stamp_2\"].head(10).plot.barh()"
   ]
  },
  {
   "cell_type": "code",
   "execution_count": null,
   "id": "extra-executive",
   "metadata": {
    "papermill": {
     "duration": 0.025559,
     "end_time": "2021-11-25T16:30:13.230812",
     "exception": false,
     "start_time": "2021-11-25T16:30:13.205253",
     "status": "completed"
    },
    "tags": []
   },
   "outputs": [],
   "source": []
  }
 ],
 "metadata": {
  "kernelspec": {
   "display_name": "Python 3",
   "language": "python",
   "name": "python3"
  },
  "language_info": {
   "codemirror_mode": {
    "name": "ipython",
    "version": 3
   },
   "file_extension": ".py",
   "mimetype": "text/x-python",
   "name": "python",
   "nbconvert_exporter": "python",
   "pygments_lexer": "ipython3",
   "version": "3.9.5"
  },
  "papermill": {
   "default_parameters": {},
   "duration": 9.923517,
   "end_time": "2021-11-25T16:30:14.849317",
   "environment_variables": {},
   "exception": null,
   "input_path": "eBay_Overview.ipynb",
   "output_path": "eBay_Overview.ipynb",
   "parameters": {},
   "start_time": "2021-11-25T16:30:04.925800",
   "version": "2.3.3"
  }
 },
 "nbformat": 4,
 "nbformat_minor": 5
}