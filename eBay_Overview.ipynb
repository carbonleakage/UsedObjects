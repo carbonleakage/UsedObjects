{
 "cells": [
  {
   "cell_type": "code",
   "execution_count": 1,
   "id": "reverse-picking",
   "metadata": {
    "execution": {
     "iopub.execute_input": "2021-10-15T02:30:06.966816Z",
     "iopub.status.busy": "2021-10-15T02:30:06.964775Z",
     "iopub.status.idle": "2021-10-15T02:30:07.771478Z",
     "shell.execute_reply": "2021-10-15T02:30:07.772912Z"
    },
    "papermill": {
     "duration": 0.858097,
     "end_time": "2021-10-15T02:30:07.773551",
     "exception": false,
     "start_time": "2021-10-15T02:30:06.915454",
     "status": "completed"
    },
    "tags": []
   },
   "outputs": [],
   "source": [
    "import pandas as pd\n",
    "import sqlite3"
   ]
  },
  {
   "cell_type": "code",
   "execution_count": 2,
   "id": "innovative-syndrome",
   "metadata": {
    "execution": {
     "iopub.execute_input": "2021-10-15T02:30:07.826200Z",
     "iopub.status.busy": "2021-10-15T02:30:07.823772Z",
     "iopub.status.idle": "2021-10-15T02:30:08.390805Z",
     "shell.execute_reply": "2021-10-15T02:30:08.392025Z"
    },
    "papermill": {
     "duration": 0.59691,
     "end_time": "2021-10-15T02:30:08.392417",
     "exception": false,
     "start_time": "2021-10-15T02:30:07.795507",
     "status": "completed"
    },
    "tags": []
   },
   "outputs": [],
   "source": [
    "timestamps = pd.read_sql(\"select distinct record_time from EBAY_TOP_BERLIN order by record_time desc limit 2\", sqlite3.connect(\"UsedObjects.db\"))"
   ]
  },
  {
   "cell_type": "code",
   "execution_count": 3,
   "id": "periodic-identification",
   "metadata": {
    "execution": {
     "iopub.execute_input": "2021-10-15T02:30:08.470681Z",
     "iopub.status.busy": "2021-10-15T02:30:08.465427Z",
     "iopub.status.idle": "2021-10-15T02:30:08.487288Z",
     "shell.execute_reply": "2021-10-15T02:30:08.489127Z"
    },
    "papermill": {
     "duration": 0.072049,
     "end_time": "2021-10-15T02:30:08.489657",
     "exception": false,
     "start_time": "2021-10-15T02:30:08.417608",
     "status": "completed"
    },
    "tags": []
   },
   "outputs": [
    {
     "data": {
      "text/html": [
       "<div>\n",
       "<style scoped>\n",
       "    .dataframe tbody tr th:only-of-type {\n",
       "        vertical-align: middle;\n",
       "    }\n",
       "\n",
       "    .dataframe tbody tr th {\n",
       "        vertical-align: top;\n",
       "    }\n",
       "\n",
       "    .dataframe thead th {\n",
       "        text-align: right;\n",
       "    }\n",
       "</style>\n",
       "<table border=\"1\" class=\"dataframe\">\n",
       "  <thead>\n",
       "    <tr style=\"text-align: right;\">\n",
       "      <th></th>\n",
       "      <th>RECORD_TIME</th>\n",
       "    </tr>\n",
       "  </thead>\n",
       "  <tbody>\n",
       "    <tr>\n",
       "      <th>0</th>\n",
       "      <td>2021-10-15 04:30</td>\n",
       "    </tr>\n",
       "    <tr>\n",
       "      <th>1</th>\n",
       "      <td>2021-10-15 04:00</td>\n",
       "    </tr>\n",
       "  </tbody>\n",
       "</table>\n",
       "</div>"
      ],
      "text/plain": [
       "        RECORD_TIME\n",
       "0  2021-10-15 04:30\n",
       "1  2021-10-15 04:00"
      ]
     },
     "execution_count": 3,
     "metadata": {},
     "output_type": "execute_result"
    }
   ],
   "source": [
    "timestamps"
   ]
  },
  {
   "cell_type": "code",
   "execution_count": 4,
   "id": "alternate-victory",
   "metadata": {
    "execution": {
     "iopub.execute_input": "2021-10-15T02:30:08.542659Z",
     "iopub.status.busy": "2021-10-15T02:30:08.540252Z",
     "iopub.status.idle": "2021-10-15T02:30:09.349008Z",
     "shell.execute_reply": "2021-10-15T02:30:09.350414Z"
    },
    "papermill": {
     "duration": 0.839369,
     "end_time": "2021-10-15T02:30:09.350825",
     "exception": false,
     "start_time": "2021-10-15T02:30:08.511456",
     "status": "completed"
    },
    "tags": []
   },
   "outputs": [],
   "source": [
    "df = pd.read_sql(\"select * from EBAY_TOP_BERLIN where record_time in (select distinct record_time from EBAY_TOP_BERLIN order by record_time desc limit 2)\", sqlite3.connect(\"UsedObjects.db\"))"
   ]
  },
  {
   "cell_type": "code",
   "execution_count": 5,
   "id": "popular-active",
   "metadata": {
    "execution": {
     "iopub.execute_input": "2021-10-15T02:30:09.421225Z",
     "iopub.status.busy": "2021-10-15T02:30:09.409940Z",
     "iopub.status.idle": "2021-10-15T02:30:09.436458Z",
     "shell.execute_reply": "2021-10-15T02:30:09.437778Z"
    },
    "papermill": {
     "duration": 0.066898,
     "end_time": "2021-10-15T02:30:09.438175",
     "exception": false,
     "start_time": "2021-10-15T02:30:09.371277",
     "status": "completed"
    },
    "tags": []
   },
   "outputs": [],
   "source": [
    "df_pivot = df.pivot_table(index=\"PRODUCT\", columns = \"RECORD_TIME\", values = \"LISTING_COUNT\")"
   ]
  },
  {
   "cell_type": "code",
   "execution_count": 6,
   "id": "union-huntington",
   "metadata": {
    "execution": {
     "iopub.execute_input": "2021-10-15T02:30:09.493871Z",
     "iopub.status.busy": "2021-10-15T02:30:09.491734Z",
     "iopub.status.idle": "2021-10-15T02:30:09.496928Z",
     "shell.execute_reply": "2021-10-15T02:30:09.498238Z"
    },
    "papermill": {
     "duration": 0.040651,
     "end_time": "2021-10-15T02:30:09.498652",
     "exception": false,
     "start_time": "2021-10-15T02:30:09.458001",
     "status": "completed"
    },
    "tags": []
   },
   "outputs": [],
   "source": [
    "df_pivot.columns = [\"stamp_1\", \"stamp_2\"]\n",
    "df_pivot_diff = df_pivot.diff(axis=1)"
   ]
  },
  {
   "cell_type": "code",
   "execution_count": 7,
   "id": "fifth-motion",
   "metadata": {
    "execution": {
     "iopub.execute_input": "2021-10-15T02:30:09.552542Z",
     "iopub.status.busy": "2021-10-15T02:30:09.550092Z",
     "iopub.status.idle": "2021-10-15T02:30:11.032366Z",
     "shell.execute_reply": "2021-10-15T02:30:11.033903Z"
    },
    "papermill": {
     "duration": 1.515354,
     "end_time": "2021-10-15T02:30:11.034351",
     "exception": false,
     "start_time": "2021-10-15T02:30:09.518997",
     "status": "completed"
    },
    "tags": []
   },
   "outputs": [
    {
     "data": {
      "text/plain": [
       "<AxesSubplot:ylabel='PRODUCT'>"
      ]
     },
     "execution_count": 7,
     "metadata": {},
     "output_type": "execute_result"
    },
    {
     "data": {
      "image/png": "[encoded data removed]",
      "text/plain": [
       "<Figure size 432x288 with 1 Axes>"
      ]
     },
     "metadata": {
      "needs_background": "light"
     },
     "output_type": "display_data"
    }
   ],
   "source": [
    "df_pivot_diff.sort_values(\"stamp_2\", ascending = False)[\"stamp_2\"].head(10).plot.barh()"
   ]
  },
  {
   "cell_type": "code",
   "execution_count": null,
   "id": "extra-executive",
   "metadata": {
    "papermill": {
     "duration": 0.022062,
     "end_time": "2021-10-15T02:30:11.080931",
     "exception": false,
     "start_time": "2021-10-15T02:30:11.058869",
     "status": "completed"
    },
    "tags": []
   },
   "outputs": [],
   "source": []
  }
 ],
 "metadata": {
  "kernelspec": {
   "display_name": "Python 3",
   "language": "python",
   "name": "python3"
  },
  "language_info": {
   "codemirror_mode": {
    "name": "ipython",
    "version": 3
   },
   "file_extension": ".py",
   "mimetype": "text/x-python",
   "name": "python",
   "nbconvert_exporter": "python",
   "pygments_lexer": "ipython3",
   "version": "3.9.5"
  },
  "papermill": {
   "default_parameters": {},
   "duration": 7.823471,
   "end_time": "2021-10-15T02:30:12.325525",
   "environment_variables": {},
   "exception": null,
   "input_path": "eBay_Overview.ipynb",
   "output_path": "eBay_Overview.ipynb",
   "parameters": {},
   "start_time": "2021-10-15T02:30:04.502054",
   "version": "2.3.3"
  }
 },
 "nbformat": 4,
 "nbformat_minor": 5
}