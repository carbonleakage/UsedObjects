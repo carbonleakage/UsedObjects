{
 "cells": [
  {
   "cell_type": "code",
   "execution_count": 1,
   "id": "reverse-picking",
   "metadata": {
    "execution": {
     "iopub.execute_input": "2021-09-26T18:00:06.997222Z",
     "iopub.status.busy": "2021-09-26T18:00:06.995295Z",
     "iopub.status.idle": "2021-09-26T18:00:07.798898Z",
     "shell.execute_reply": "2021-09-26T18:00:07.800190Z"
    },
    "papermill": {
     "duration": 0.855397,
     "end_time": "2021-09-26T18:00:07.800840",
     "exception": false,
     "start_time": "2021-09-26T18:00:06.945443",
     "status": "completed"
    },
    "tags": []
   },
   "outputs": [],
   "source": [
    "import pandas as pd\n",
    "import sqlite3"
   ]
  },
  {
   "cell_type": "code",
   "execution_count": 2,
   "id": "innovative-syndrome",
   "metadata": {
    "execution": {
     "iopub.execute_input": "2021-09-26T18:00:07.851250Z",
     "iopub.status.busy": "2021-09-26T18:00:07.849313Z",
     "iopub.status.idle": "2021-09-26T18:00:08.232857Z",
     "shell.execute_reply": "2021-09-26T18:00:08.231630Z"
    },
    "papermill": {
     "duration": 0.411845,
     "end_time": "2021-09-26T18:00:08.233202",
     "exception": false,
     "start_time": "2021-09-26T18:00:07.821357",
     "status": "completed"
    },
    "tags": []
   },
   "outputs": [],
   "source": [
    "timestamps = pd.read_sql(\"select distinct record_time from EBAY_TOP_BERLIN order by record_time desc limit 2\", sqlite3.connect(\"UsedObjects.db\"))"
   ]
  },
  {
   "cell_type": "code",
   "execution_count": 3,
   "id": "periodic-identification",
   "metadata": {
    "execution": {
     "iopub.execute_input": "2021-09-26T18:00:08.301974Z",
     "iopub.status.busy": "2021-09-26T18:00:08.300001Z",
     "iopub.status.idle": "2021-09-26T18:00:08.319732Z",
     "shell.execute_reply": "2021-09-26T18:00:08.321230Z"
    },
    "papermill": {
     "duration": 0.065839,
     "end_time": "2021-09-26T18:00:08.321689",
     "exception": false,
     "start_time": "2021-09-26T18:00:08.255850",
     "status": "completed"
    },
    "tags": []
   },
   "outputs": [
    {
     "data": {
      "text/html": [
       "<div>\n",
       "<style scoped>\n",
       "    .dataframe tbody tr th:only-of-type {\n",
       "        vertical-align: middle;\n",
       "    }\n",
       "\n",
       "    .dataframe tbody tr th {\n",
       "        vertical-align: top;\n",
       "    }\n",
       "\n",
       "    .dataframe thead th {\n",
       "        text-align: right;\n",
       "    }\n",
       "</style>\n",
       "<table border=\"1\" class=\"dataframe\">\n",
       "  <thead>\n",
       "    <tr style=\"text-align: right;\">\n",
       "      <th></th>\n",
       "      <th>RECORD_TIME</th>\n",
       "    </tr>\n",
       "  </thead>\n",
       "  <tbody>\n",
       "    <tr>\n",
       "      <th>0</th>\n",
       "      <td>2021-09-26 20:00</td>\n",
       "    </tr>\n",
       "    <tr>\n",
       "      <th>1</th>\n",
       "      <td>2021-09-26 19:30</td>\n",
       "    </tr>\n",
       "  </tbody>\n",
       "</table>\n",
       "</div>"
      ],
      "text/plain": [
       "        RECORD_TIME\n",
       "0  2021-09-26 20:00\n",
       "1  2021-09-26 19:30"
      ]
     },
     "execution_count": 3,
     "metadata": {},
     "output_type": "execute_result"
    }
   ],
   "source": [
    "timestamps"
   ]
  },
  {
   "cell_type": "code",
   "execution_count": 4,
   "id": "alternate-victory",
   "metadata": {
    "execution": {
     "iopub.execute_input": "2021-09-26T18:00:08.374162Z",
     "iopub.status.busy": "2021-09-26T18:00:08.372275Z",
     "iopub.status.idle": "2021-09-26T18:00:08.972996Z",
     "shell.execute_reply": "2021-09-26T18:00:08.974178Z"
    },
    "papermill": {
     "duration": 0.631339,
     "end_time": "2021-09-26T18:00:08.974569",
     "exception": false,
     "start_time": "2021-09-26T18:00:08.343230",
     "status": "completed"
    },
    "tags": []
   },
   "outputs": [],
   "source": [
    "df = pd.read_sql(\"select * from EBAY_TOP_BERLIN where record_time in (select distinct record_time from EBAY_TOP_BERLIN order by record_time desc limit 2)\", sqlite3.connect(\"UsedObjects.db\"))"
   ]
  },
  {
   "cell_type": "code",
   "execution_count": 5,
   "id": "popular-active",
   "metadata": {
    "execution": {
     "iopub.execute_input": "2021-09-26T18:00:09.047198Z",
     "iopub.status.busy": "2021-09-26T18:00:09.034655Z",
     "iopub.status.idle": "2021-09-26T18:00:09.062692Z",
     "shell.execute_reply": "2021-09-26T18:00:09.064024Z"
    },
    "papermill": {
     "duration": 0.067613,
     "end_time": "2021-09-26T18:00:09.064433",
     "exception": false,
     "start_time": "2021-09-26T18:00:08.996820",
     "status": "completed"
    },
    "tags": []
   },
   "outputs": [],
   "source": [
    "df_pivot = df.pivot_table(index=\"PRODUCT\", columns = \"RECORD_TIME\", values = \"LISTING_COUNT\")"
   ]
  },
  {
   "cell_type": "code",
   "execution_count": 6,
   "id": "union-huntington",
   "metadata": {
    "execution": {
     "iopub.execute_input": "2021-09-26T18:00:09.120557Z",
     "iopub.status.busy": "2021-09-26T18:00:09.118499Z",
     "iopub.status.idle": "2021-09-26T18:00:09.123885Z",
     "shell.execute_reply": "2021-09-26T18:00:09.125153Z"
    },
    "papermill": {
     "duration": 0.04068,
     "end_time": "2021-09-26T18:00:09.125563",
     "exception": false,
     "start_time": "2021-09-26T18:00:09.084883",
     "status": "completed"
    },
    "tags": []
   },
   "outputs": [],
   "source": [
    "df_pivot.columns = [\"stamp_1\", \"stamp_2\"]\n",
    "df_pivot_diff = df_pivot.diff(axis=1)"
   ]
  },
  {
   "cell_type": "code",
   "execution_count": 7,
   "id": "fifth-motion",
   "metadata": {
    "execution": {
     "iopub.execute_input": "2021-09-26T18:00:09.181941Z",
     "iopub.status.busy": "2021-09-26T18:00:09.179361Z",
     "iopub.status.idle": "2021-09-26T18:00:10.652749Z",
     "shell.execute_reply": "2021-09-26T18:00:10.654006Z"
    },
    "papermill": {
     "duration": 1.50727,
     "end_time": "2021-09-26T18:00:10.654418",
     "exception": false,
     "start_time": "2021-09-26T18:00:09.147148",
     "status": "completed"
    },
    "tags": []
   },
   "outputs": [
    {
     "data": {
      "text/plain": [
       "<AxesSubplot:ylabel='PRODUCT'>"
      ]
     },
     "execution_count": 7,
     "metadata": {},
     "output_type": "execute_result"
    },
    {
     "data": {
      "image/png": "[encoded data removed]",
      "text/plain": [
       "<Figure size 432x288 with 1 Axes>"
      ]
     },
     "metadata": {
      "needs_background": "light"
     },
     "output_type": "display_data"
    }
   ],
   "source": [
    "df_pivot_diff.sort_values(\"stamp_2\", ascending = False)[\"stamp_2\"].head(10).plot.barh()"
   ]
  },
  {
   "cell_type": "code",
   "execution_count": null,
   "id": "extra-executive",
   "metadata": {
    "papermill": {
     "duration": 0.022463,
     "end_time": "2021-09-26T18:00:10.703313",
     "exception": false,
     "start_time": "2021-09-26T18:00:10.680850",
     "status": "completed"
    },
    "tags": []
   },
   "outputs": [],
   "source": []
  }
 ],
 "metadata": {
  "kernelspec": {
   "display_name": "Python 3",
   "language": "python",
   "name": "python3"
  },
  "language_info": {
   "codemirror_mode": {
    "name": "ipython",
    "version": 3
   },
   "file_extension": ".py",
   "mimetype": "text/x-python",
   "name": "python",
   "nbconvert_exporter": "python",
   "pygments_lexer": "ipython3",
   "version": "3.9.5"
  },
  "papermill": {
   "default_parameters": {},
   "duration": 6.795072,
   "end_time": "2021-09-26T18:00:11.346377",
   "environment_variables": {},
   "exception": null,
   "input_path": "eBay_Overview.ipynb",
   "output_path": "eBay_Overview.ipynb",
   "parameters": {},
   "start_time": "2021-09-26T18:00:04.551305",
   "version": "2.3.3"
  }
 },
 "nbformat": 4,
 "nbformat_minor": 5
}