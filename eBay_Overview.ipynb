{
 "cells": [
  {
   "cell_type": "code",
   "execution_count": 1,
   "id": "reverse-picking",
   "metadata": {
    "execution": {
     "iopub.execute_input": "2021-10-25T15:30:07.310271Z",
     "iopub.status.busy": "2021-10-25T15:30:07.308199Z",
     "iopub.status.idle": "2021-10-25T15:30:08.114542Z",
     "shell.execute_reply": "2021-10-25T15:30:08.115797Z"
    },
    "papermill": {
     "duration": 0.857099,
     "end_time": "2021-10-25T15:30:08.116417",
     "exception": false,
     "start_time": "2021-10-25T15:30:07.259318",
     "status": "completed"
    },
    "tags": []
   },
   "outputs": [],
   "source": [
    "import pandas as pd\n",
    "import sqlite3"
   ]
  },
  {
   "cell_type": "code",
   "execution_count": 2,
   "id": "innovative-syndrome",
   "metadata": {
    "execution": {
     "iopub.execute_input": "2021-10-25T15:30:08.169490Z",
     "iopub.status.busy": "2021-10-25T15:30:08.167103Z",
     "iopub.status.idle": "2021-10-25T15:30:08.803647Z",
     "shell.execute_reply": "2021-10-25T15:30:08.805009Z"
    },
    "papermill": {
     "duration": 0.666638,
     "end_time": "2021-10-25T15:30:08.805443",
     "exception": false,
     "start_time": "2021-10-25T15:30:08.138805",
     "status": "completed"
    },
    "tags": []
   },
   "outputs": [],
   "source": [
    "timestamps = pd.read_sql(\"select distinct record_time from EBAY_TOP_BERLIN order by record_time desc limit 2\", sqlite3.connect(\"UsedObjects.db\"))"
   ]
  },
  {
   "cell_type": "code",
   "execution_count": 3,
   "id": "periodic-identification",
   "metadata": {
    "execution": {
     "iopub.execute_input": "2021-10-25T15:30:08.879088Z",
     "iopub.status.busy": "2021-10-25T15:30:08.877066Z",
     "iopub.status.idle": "2021-10-25T15:30:08.899141Z",
     "shell.execute_reply": "2021-10-25T15:30:08.900336Z"
    },
    "papermill": {
     "duration": 0.070449,
     "end_time": "2021-10-25T15:30:08.900817",
     "exception": false,
     "start_time": "2021-10-25T15:30:08.830368",
     "status": "completed"
    },
    "tags": []
   },
   "outputs": [
    {
     "data": {
      "text/html": [
       "<div>\n",
       "<style scoped>\n",
       "    .dataframe tbody tr th:only-of-type {\n",
       "        vertical-align: middle;\n",
       "    }\n",
       "\n",
       "    .dataframe tbody tr th {\n",
       "        vertical-align: top;\n",
       "    }\n",
       "\n",
       "    .dataframe thead th {\n",
       "        text-align: right;\n",
       "    }\n",
       "</style>\n",
       "<table border=\"1\" class=\"dataframe\">\n",
       "  <thead>\n",
       "    <tr style=\"text-align: right;\">\n",
       "      <th></th>\n",
       "      <th>RECORD_TIME</th>\n",
       "    </tr>\n",
       "  </thead>\n",
       "  <tbody>\n",
       "    <tr>\n",
       "      <th>0</th>\n",
       "      <td>2021-10-25 17:30</td>\n",
       "    </tr>\n",
       "    <tr>\n",
       "      <th>1</th>\n",
       "      <td>2021-10-25 17:00</td>\n",
       "    </tr>\n",
       "  </tbody>\n",
       "</table>\n",
       "</div>"
      ],
      "text/plain": [
       "        RECORD_TIME\n",
       "0  2021-10-25 17:30\n",
       "1  2021-10-25 17:00"
      ]
     },
     "execution_count": 3,
     "metadata": {},
     "output_type": "execute_result"
    }
   ],
   "source": [
    "timestamps"
   ]
  },
  {
   "cell_type": "code",
   "execution_count": 4,
   "id": "alternate-victory",
   "metadata": {
    "execution": {
     "iopub.execute_input": "2021-10-25T15:30:08.953438Z",
     "iopub.status.busy": "2021-10-25T15:30:08.951470Z",
     "iopub.status.idle": "2021-10-25T15:30:09.889726Z",
     "shell.execute_reply": "2021-10-25T15:30:09.891115Z"
    },
    "papermill": {
     "duration": 0.968083,
     "end_time": "2021-10-25T15:30:09.891551",
     "exception": false,
     "start_time": "2021-10-25T15:30:08.923468",
     "status": "completed"
    },
    "tags": []
   },
   "outputs": [],
   "source": [
    "df = pd.read_sql(\"select * from EBAY_TOP_BERLIN where record_time in (select distinct record_time from EBAY_TOP_BERLIN order by record_time desc limit 2)\", sqlite3.connect(\"UsedObjects.db\"))"
   ]
  },
  {
   "cell_type": "code",
   "execution_count": 5,
   "id": "popular-active",
   "metadata": {
    "execution": {
     "iopub.execute_input": "2021-10-25T15:30:09.961927Z",
     "iopub.status.busy": "2021-10-25T15:30:09.950780Z",
     "iopub.status.idle": "2021-10-25T15:30:09.978389Z",
     "shell.execute_reply": "2021-10-25T15:30:09.979583Z"
    },
    "papermill": {
     "duration": 0.067714,
     "end_time": "2021-10-25T15:30:09.979978",
     "exception": false,
     "start_time": "2021-10-25T15:30:09.912264",
     "status": "completed"
    },
    "tags": []
   },
   "outputs": [],
   "source": [
    "df_pivot = df.pivot_table(index=\"PRODUCT\", columns = \"RECORD_TIME\", values = \"LISTING_COUNT\")"
   ]
  },
  {
   "cell_type": "code",
   "execution_count": 6,
   "id": "union-huntington",
   "metadata": {
    "execution": {
     "iopub.execute_input": "2021-10-25T15:30:10.035913Z",
     "iopub.status.busy": "2021-10-25T15:30:10.033653Z",
     "iopub.status.idle": "2021-10-25T15:30:10.039534Z",
     "shell.execute_reply": "2021-10-25T15:30:10.041797Z"
    },
    "papermill": {
     "duration": 0.042371,
     "end_time": "2021-10-25T15:30:10.042300",
     "exception": false,
     "start_time": "2021-10-25T15:30:09.999929",
     "status": "completed"
    },
    "tags": []
   },
   "outputs": [],
   "source": [
    "df_pivot.columns = [\"stamp_1\", \"stamp_2\"]\n",
    "df_pivot_diff = df_pivot.diff(axis=1)"
   ]
  },
  {
   "cell_type": "code",
   "execution_count": 7,
   "id": "fifth-motion",
   "metadata": {
    "execution": {
     "iopub.execute_input": "2021-10-25T15:30:10.098383Z",
     "iopub.status.busy": "2021-10-25T15:30:10.095675Z",
     "iopub.status.idle": "2021-10-25T15:30:11.588906Z",
     "shell.execute_reply": "2021-10-25T15:30:11.590413Z"
    },
    "papermill": {
     "duration": 1.527024,
     "end_time": "2021-10-25T15:30:11.590869",
     "exception": false,
     "start_time": "2021-10-25T15:30:10.063845",
     "status": "completed"
    },
    "tags": []
   },
   "outputs": [
    {
     "data": {
      "text/plain": [
       "<AxesSubplot:ylabel='PRODUCT'>"
      ]
     },
     "execution_count": 7,
     "metadata": {},
     "output_type": "execute_result"
    },
    {
     "data": {
      "image/png": "[encoded data removed]",
      "text/plain": [
       "<Figure size 432x288 with 1 Axes>"
      ]
     },
     "metadata": {
      "needs_background": "light"
     },
     "output_type": "display_data"
    }
   ],
   "source": [
    "df_pivot_diff.sort_values(\"stamp_2\", ascending = False)[\"stamp_2\"].head(10).plot.barh()"
   ]
  },
  {
   "cell_type": "code",
   "execution_count": null,
   "id": "extra-executive",
   "metadata": {
    "papermill": {
     "duration": 0.02201,
     "end_time": "2021-10-25T15:30:11.637217",
     "exception": false,
     "start_time": "2021-10-25T15:30:11.615207",
     "status": "completed"
    },
    "tags": []
   },
   "outputs": [],
   "source": []
  }
 ],
 "metadata": {
  "kernelspec": {
   "display_name": "Python 3",
   "language": "python",
   "name": "python3"
  },
  "language_info": {
   "codemirror_mode": {
    "name": "ipython",
    "version": 3
   },
   "file_extension": ".py",
   "mimetype": "text/x-python",
   "name": "python",
   "nbconvert_exporter": "python",
   "pygments_lexer": "ipython3",
   "version": "3.9.5"
  },
  "papermill": {
   "default_parameters": {},
   "duration": 7.429261,
   "end_time": "2021-10-25T15:30:12.279810",
   "environment_variables": {},
   "exception": null,
   "input_path": "eBay_Overview.ipynb",
   "output_path": "eBay_Overview.ipynb",
   "parameters": {},
   "start_time": "2021-10-25T15:30:04.850549",
   "version": "2.3.3"
  }
 },
 "nbformat": 4,
 "nbformat_minor": 5
}