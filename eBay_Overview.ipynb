{
 "cells": [
  {
   "cell_type": "code",
   "execution_count": 1,
   "id": "reverse-picking",
   "metadata": {
    "execution": {
     "iopub.execute_input": "2021-10-17T22:00:06.698664Z",
     "iopub.status.busy": "2021-10-17T22:00:06.696635Z",
     "iopub.status.idle": "2021-10-17T22:00:07.504476Z",
     "shell.execute_reply": "2021-10-17T22:00:07.505954Z"
    },
    "papermill": {
     "duration": 0.860156,
     "end_time": "2021-10-17T22:00:07.506608",
     "exception": false,
     "start_time": "2021-10-17T22:00:06.646452",
     "status": "completed"
    },
    "tags": []
   },
   "outputs": [],
   "source": [
    "import pandas as pd\n",
    "import sqlite3"
   ]
  },
  {
   "cell_type": "code",
   "execution_count": 2,
   "id": "innovative-syndrome",
   "metadata": {
    "execution": {
     "iopub.execute_input": "2021-10-17T22:00:07.557288Z",
     "iopub.status.busy": "2021-10-17T22:00:07.555132Z",
     "iopub.status.idle": "2021-10-17T22:00:08.120544Z",
     "shell.execute_reply": "2021-10-17T22:00:08.122013Z"
    },
    "papermill": {
     "duration": 0.595434,
     "end_time": "2021-10-17T22:00:08.122550",
     "exception": false,
     "start_time": "2021-10-17T22:00:07.527116",
     "status": "completed"
    },
    "tags": []
   },
   "outputs": [],
   "source": [
    "timestamps = pd.read_sql(\"select distinct record_time from EBAY_TOP_BERLIN order by record_time desc limit 2\", sqlite3.connect(\"UsedObjects.db\"))"
   ]
  },
  {
   "cell_type": "code",
   "execution_count": 3,
   "id": "periodic-identification",
   "metadata": {
    "execution": {
     "iopub.execute_input": "2021-10-17T22:00:08.202575Z",
     "iopub.status.busy": "2021-10-17T22:00:08.200449Z",
     "iopub.status.idle": "2021-10-17T22:00:08.220389Z",
     "shell.execute_reply": "2021-10-17T22:00:08.221634Z"
    },
    "papermill": {
     "duration": 0.070069,
     "end_time": "2021-10-17T22:00:08.222057",
     "exception": false,
     "start_time": "2021-10-17T22:00:08.151988",
     "status": "completed"
    },
    "tags": []
   },
   "outputs": [
    {
     "data": {
      "text/html": [
       "<div>\n",
       "<style scoped>\n",
       "    .dataframe tbody tr th:only-of-type {\n",
       "        vertical-align: middle;\n",
       "    }\n",
       "\n",
       "    .dataframe tbody tr th {\n",
       "        vertical-align: top;\n",
       "    }\n",
       "\n",
       "    .dataframe thead th {\n",
       "        text-align: right;\n",
       "    }\n",
       "</style>\n",
       "<table border=\"1\" class=\"dataframe\">\n",
       "  <thead>\n",
       "    <tr style=\"text-align: right;\">\n",
       "      <th></th>\n",
       "      <th>RECORD_TIME</th>\n",
       "    </tr>\n",
       "  </thead>\n",
       "  <tbody>\n",
       "    <tr>\n",
       "      <th>0</th>\n",
       "      <td>2021-10-18 00:00</td>\n",
       "    </tr>\n",
       "    <tr>\n",
       "      <th>1</th>\n",
       "      <td>2021-10-17 23:30</td>\n",
       "    </tr>\n",
       "  </tbody>\n",
       "</table>\n",
       "</div>"
      ],
      "text/plain": [
       "        RECORD_TIME\n",
       "0  2021-10-18 00:00\n",
       "1  2021-10-17 23:30"
      ]
     },
     "execution_count": 3,
     "metadata": {},
     "output_type": "execute_result"
    }
   ],
   "source": [
    "timestamps"
   ]
  },
  {
   "cell_type": "code",
   "execution_count": 4,
   "id": "alternate-victory",
   "metadata": {
    "execution": {
     "iopub.execute_input": "2021-10-17T22:00:08.276805Z",
     "iopub.status.busy": "2021-10-17T22:00:08.274439Z",
     "iopub.status.idle": "2021-10-17T22:00:09.132183Z",
     "shell.execute_reply": "2021-10-17T22:00:09.133380Z"
    },
    "papermill": {
     "duration": 0.888664,
     "end_time": "2021-10-17T22:00:09.133795",
     "exception": false,
     "start_time": "2021-10-17T22:00:08.245131",
     "status": "completed"
    },
    "tags": []
   },
   "outputs": [],
   "source": [
    "df = pd.read_sql(\"select * from EBAY_TOP_BERLIN where record_time in (select distinct record_time from EBAY_TOP_BERLIN order by record_time desc limit 2)\", sqlite3.connect(\"UsedObjects.db\"))"
   ]
  },
  {
   "cell_type": "code",
   "execution_count": 5,
   "id": "popular-active",
   "metadata": {
    "execution": {
     "iopub.execute_input": "2021-10-17T22:00:09.206909Z",
     "iopub.status.busy": "2021-10-17T22:00:09.196054Z",
     "iopub.status.idle": "2021-10-17T22:00:09.223380Z",
     "shell.execute_reply": "2021-10-17T22:00:09.224606Z"
    },
    "papermill": {
     "duration": 0.068007,
     "end_time": "2021-10-17T22:00:09.225069",
     "exception": false,
     "start_time": "2021-10-17T22:00:09.157062",
     "status": "completed"
    },
    "tags": []
   },
   "outputs": [],
   "source": [
    "df_pivot = df.pivot_table(index=\"PRODUCT\", columns = \"RECORD_TIME\", values = \"LISTING_COUNT\")"
   ]
  },
  {
   "cell_type": "code",
   "execution_count": 6,
   "id": "union-huntington",
   "metadata": {
    "execution": {
     "iopub.execute_input": "2021-10-17T22:00:09.282382Z",
     "iopub.status.busy": "2021-10-17T22:00:09.280128Z",
     "iopub.status.idle": "2021-10-17T22:00:09.285694Z",
     "shell.execute_reply": "2021-10-17T22:00:09.287077Z"
    },
    "papermill": {
     "duration": 0.041312,
     "end_time": "2021-10-17T22:00:09.287522",
     "exception": false,
     "start_time": "2021-10-17T22:00:09.246210",
     "status": "completed"
    },
    "tags": []
   },
   "outputs": [],
   "source": [
    "df_pivot.columns = [\"stamp_1\", \"stamp_2\"]\n",
    "df_pivot_diff = df_pivot.diff(axis=1)"
   ]
  },
  {
   "cell_type": "code",
   "execution_count": 7,
   "id": "fifth-motion",
   "metadata": {
    "execution": {
     "iopub.execute_input": "2021-10-17T22:00:09.343561Z",
     "iopub.status.busy": "2021-10-17T22:00:09.340874Z",
     "iopub.status.idle": "2021-10-17T22:00:10.820536Z",
     "shell.execute_reply": "2021-10-17T22:00:10.819112Z"
    },
    "papermill": {
     "duration": 1.512491,
     "end_time": "2021-10-17T22:00:10.820954",
     "exception": false,
     "start_time": "2021-10-17T22:00:09.308463",
     "status": "completed"
    },
    "tags": []
   },
   "outputs": [
    {
     "data": {
      "text/plain": [
       "<AxesSubplot:ylabel='PRODUCT'>"
      ]
     },
     "execution_count": 7,
     "metadata": {},
     "output_type": "execute_result"
    },
    {
     "data": {
      "image/png": "[encoded data removed]",
      "text/plain": [
       "<Figure size 432x288 with 1 Axes>"
      ]
     },
     "metadata": {
      "needs_background": "light"
     },
     "output_type": "display_data"
    }
   ],
   "source": [
    "df_pivot_diff.sort_values(\"stamp_2\", ascending = False)[\"stamp_2\"].head(10).plot.barh()"
   ]
  },
  {
   "cell_type": "code",
   "execution_count": null,
   "id": "extra-executive",
   "metadata": {
    "papermill": {
     "duration": 0.022548,
     "end_time": "2021-10-17T22:00:10.868762",
     "exception": false,
     "start_time": "2021-10-17T22:00:10.846214",
     "status": "completed"
    },
    "tags": []
   },
   "outputs": [],
   "source": []
  }
 ],
 "metadata": {
  "kernelspec": {
   "display_name": "Python 3",
   "language": "python",
   "name": "python3"
  },
  "language_info": {
   "codemirror_mode": {
    "name": "ipython",
    "version": 3
   },
   "file_extension": ".py",
   "mimetype": "text/x-python",
   "name": "python",
   "nbconvert_exporter": "python",
   "pygments_lexer": "ipython3",
   "version": "3.9.5"
  },
  "papermill": {
   "default_parameters": {},
   "duration": 7.823825,
   "end_time": "2021-10-17T22:00:12.061919",
   "environment_variables": {},
   "exception": null,
   "input_path": "eBay_Overview.ipynb",
   "output_path": "eBay_Overview.ipynb",
   "parameters": {},
   "start_time": "2021-10-17T22:00:04.238094",
   "version": "2.3.3"
  }
 },
 "nbformat": 4,
 "nbformat_minor": 5
}