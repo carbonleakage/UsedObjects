{
 "cells": [
  {
   "cell_type": "code",
   "execution_count": 1,
   "id": "reverse-picking",
   "metadata": {
    "execution": {
     "iopub.execute_input": "2021-11-07T22:00:07.625938Z",
     "iopub.status.busy": "2021-11-07T22:00:07.623664Z",
     "iopub.status.idle": "2021-11-07T22:00:08.576810Z",
     "shell.execute_reply": "2021-11-07T22:00:08.579178Z"
    },
    "papermill": {
     "duration": 1.003356,
     "end_time": "2021-11-07T22:00:08.579944",
     "exception": false,
     "start_time": "2021-11-07T22:00:07.576588",
     "status": "completed"
    },
    "tags": []
   },
   "outputs": [],
   "source": [
    "import pandas as pd\n",
    "import sqlite3"
   ]
  },
  {
   "cell_type": "code",
   "execution_count": 2,
   "id": "innovative-syndrome",
   "metadata": {
    "execution": {
     "iopub.execute_input": "2021-11-07T22:00:08.644559Z",
     "iopub.status.busy": "2021-11-07T22:00:08.642342Z",
     "iopub.status.idle": "2021-11-07T22:00:09.387254Z",
     "shell.execute_reply": "2021-11-07T22:00:09.388836Z"
    },
    "papermill": {
     "duration": 0.779462,
     "end_time": "2021-11-07T22:00:09.389316",
     "exception": false,
     "start_time": "2021-11-07T22:00:08.609854",
     "status": "completed"
    },
    "tags": []
   },
   "outputs": [],
   "source": [
    "timestamps = pd.read_sql(\"select distinct record_time from EBAY_TOP_BERLIN order by record_time desc limit 2\", sqlite3.connect(\"UsedObjects.db\"))"
   ]
  },
  {
   "cell_type": "code",
   "execution_count": 3,
   "id": "periodic-identification",
   "metadata": {
    "execution": {
     "iopub.execute_input": "2021-11-07T22:00:09.460262Z",
     "iopub.status.busy": "2021-11-07T22:00:09.448977Z",
     "iopub.status.idle": "2021-11-07T22:00:09.482244Z",
     "shell.execute_reply": "2021-11-07T22:00:09.483664Z"
    },
    "papermill": {
     "duration": 0.074284,
     "end_time": "2021-11-07T22:00:09.484145",
     "exception": false,
     "start_time": "2021-11-07T22:00:09.409861",
     "status": "completed"
    },
    "tags": []
   },
   "outputs": [
    {
     "data": {
      "text/html": [
       "<div>\n",
       "<style scoped>\n",
       "    .dataframe tbody tr th:only-of-type {\n",
       "        vertical-align: middle;\n",
       "    }\n",
       "\n",
       "    .dataframe tbody tr th {\n",
       "        vertical-align: top;\n",
       "    }\n",
       "\n",
       "    .dataframe thead th {\n",
       "        text-align: right;\n",
       "    }\n",
       "</style>\n",
       "<table border=\"1\" class=\"dataframe\">\n",
       "  <thead>\n",
       "    <tr style=\"text-align: right;\">\n",
       "      <th></th>\n",
       "      <th>RECORD_TIME</th>\n",
       "    </tr>\n",
       "  </thead>\n",
       "  <tbody>\n",
       "    <tr>\n",
       "      <th>0</th>\n",
       "      <td>2021-11-07 23:00</td>\n",
       "    </tr>\n",
       "    <tr>\n",
       "      <th>1</th>\n",
       "      <td>2021-11-07 22:30</td>\n",
       "    </tr>\n",
       "  </tbody>\n",
       "</table>\n",
       "</div>"
      ],
      "text/plain": [
       "        RECORD_TIME\n",
       "0  2021-11-07 23:00\n",
       "1  2021-11-07 22:30"
      ]
     },
     "execution_count": 3,
     "metadata": {},
     "output_type": "execute_result"
    }
   ],
   "source": [
    "timestamps"
   ]
  },
  {
   "cell_type": "code",
   "execution_count": 4,
   "id": "alternate-victory",
   "metadata": {
    "execution": {
     "iopub.execute_input": "2021-11-07T22:00:09.539600Z",
     "iopub.status.busy": "2021-11-07T22:00:09.537415Z",
     "iopub.status.idle": "2021-11-07T22:00:10.638774Z",
     "shell.execute_reply": "2021-11-07T22:00:10.640284Z"
    },
    "papermill": {
     "duration": 1.13537,
     "end_time": "2021-11-07T22:00:10.640833",
     "exception": false,
     "start_time": "2021-11-07T22:00:09.505463",
     "status": "completed"
    },
    "tags": []
   },
   "outputs": [],
   "source": [
    "df = pd.read_sql(\"select * from EBAY_TOP_BERLIN where record_time in (select distinct record_time from EBAY_TOP_BERLIN order by record_time desc limit 2)\", sqlite3.connect(\"UsedObjects.db\"))"
   ]
  },
  {
   "cell_type": "code",
   "execution_count": 5,
   "id": "popular-active",
   "metadata": {
    "execution": {
     "iopub.execute_input": "2021-11-07T22:00:10.720618Z",
     "iopub.status.busy": "2021-11-07T22:00:10.706753Z",
     "iopub.status.idle": "2021-11-07T22:00:10.739308Z",
     "shell.execute_reply": "2021-11-07T22:00:10.740752Z"
    },
    "papermill": {
     "duration": 0.077938,
     "end_time": "2021-11-07T22:00:10.741283",
     "exception": false,
     "start_time": "2021-11-07T22:00:10.663345",
     "status": "completed"
    },
    "tags": []
   },
   "outputs": [],
   "source": [
    "df_pivot = df.pivot_table(index=\"PRODUCT\", columns = \"RECORD_TIME\", values = \"LISTING_COUNT\")"
   ]
  },
  {
   "cell_type": "code",
   "execution_count": 6,
   "id": "union-huntington",
   "metadata": {
    "execution": {
     "iopub.execute_input": "2021-11-07T22:00:10.803557Z",
     "iopub.status.busy": "2021-11-07T22:00:10.801320Z",
     "iopub.status.idle": "2021-11-07T22:00:10.806442Z",
     "shell.execute_reply": "2021-11-07T22:00:10.808466Z"
    },
    "papermill": {
     "duration": 0.046278,
     "end_time": "2021-11-07T22:00:10.809031",
     "exception": false,
     "start_time": "2021-11-07T22:00:10.762753",
     "status": "completed"
    },
    "tags": []
   },
   "outputs": [],
   "source": [
    "df_pivot.columns = [\"stamp_1\", \"stamp_2\"]\n",
    "df_pivot_diff = df_pivot.diff(axis=1)"
   ]
  },
  {
   "cell_type": "code",
   "execution_count": 7,
   "id": "fifth-motion",
   "metadata": {
    "execution": {
     "iopub.execute_input": "2021-11-07T22:00:10.876761Z",
     "iopub.status.busy": "2021-11-07T22:00:10.866803Z",
     "iopub.status.idle": "2021-11-07T22:00:12.596132Z",
     "shell.execute_reply": "2021-11-07T22:00:12.597575Z"
    },
    "papermill": {
     "duration": 1.766225,
     "end_time": "2021-11-07T22:00:12.598062",
     "exception": false,
     "start_time": "2021-11-07T22:00:10.831837",
     "status": "completed"
    },
    "tags": []
   },
   "outputs": [
    {
     "data": {
      "text/plain": [
       "<AxesSubplot:ylabel='PRODUCT'>"
      ]
     },
     "execution_count": 7,
     "metadata": {},
     "output_type": "execute_result"
    },
    {
     "data": {
      "image/png": "[encoded data removed]",
      "text/plain": [
       "<Figure size 432x288 with 1 Axes>"
      ]
     },
     "metadata": {
      "needs_background": "light"
     },
     "output_type": "display_data"
    }
   ],
   "source": [
    "df_pivot_diff.sort_values(\"stamp_2\", ascending = False)[\"stamp_2\"].head(10).plot.barh()"
   ]
  },
  {
   "cell_type": "code",
   "execution_count": null,
   "id": "extra-executive",
   "metadata": {
    "papermill": {
     "duration": 0.023809,
     "end_time": "2021-11-07T22:00:12.645363",
     "exception": false,
     "start_time": "2021-11-07T22:00:12.621554",
     "status": "completed"
    },
    "tags": []
   },
   "outputs": [],
   "source": []
  }
 ],
 "metadata": {
  "kernelspec": {
   "display_name": "Python 3",
   "language": "python",
   "name": "python3"
  },
  "language_info": {
   "codemirror_mode": {
    "name": "ipython",
    "version": 3
   },
   "file_extension": ".py",
   "mimetype": "text/x-python",
   "name": "python",
   "nbconvert_exporter": "python",
   "pygments_lexer": "ipython3",
   "version": "3.9.5"
  },
  "papermill": {
   "default_parameters": {},
   "duration": 8.75512,
   "end_time": "2021-11-07T22:00:13.496577",
   "environment_variables": {},
   "exception": null,
   "input_path": "eBay_Overview.ipynb",
   "output_path": "eBay_Overview.ipynb",
   "parameters": {},
   "start_time": "2021-11-07T22:00:04.741457",
   "version": "2.3.3"
  }
 },
 "nbformat": 4,
 "nbformat_minor": 5
}