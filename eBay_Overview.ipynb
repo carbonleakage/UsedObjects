{
 "cells": [
  {
   "cell_type": "code",
   "execution_count": 1,
   "id": "reverse-picking",
   "metadata": {
    "execution": {
     "iopub.execute_input": "2021-11-07T23:00:07.187060Z",
     "iopub.status.busy": "2021-11-07T23:00:07.184807Z",
     "iopub.status.idle": "2021-11-07T23:00:08.126376Z",
     "shell.execute_reply": "2021-11-07T23:00:08.128567Z"
    },
    "papermill": {
     "duration": 0.99234,
     "end_time": "2021-11-07T23:00:08.129355",
     "exception": false,
     "start_time": "2021-11-07T23:00:07.137015",
     "status": "completed"
    },
    "tags": []
   },
   "outputs": [],
   "source": [
    "import pandas as pd\n",
    "import sqlite3"
   ]
  },
  {
   "cell_type": "code",
   "execution_count": 2,
   "id": "innovative-syndrome",
   "metadata": {
    "execution": {
     "iopub.execute_input": "2021-11-07T23:00:08.187435Z",
     "iopub.status.busy": "2021-11-07T23:00:08.185148Z",
     "iopub.status.idle": "2021-11-07T23:00:08.935645Z",
     "shell.execute_reply": "2021-11-07T23:00:08.937549Z"
    },
    "papermill": {
     "duration": 0.787028,
     "end_time": "2021-11-07T23:00:08.938059",
     "exception": false,
     "start_time": "2021-11-07T23:00:08.151031",
     "status": "completed"
    },
    "tags": []
   },
   "outputs": [],
   "source": [
    "timestamps = pd.read_sql(\"select distinct record_time from EBAY_TOP_BERLIN order by record_time desc limit 2\", sqlite3.connect(\"UsedObjects.db\"))"
   ]
  },
  {
   "cell_type": "code",
   "execution_count": 3,
   "id": "periodic-identification",
   "metadata": {
    "execution": {
     "iopub.execute_input": "2021-11-07T23:00:09.011690Z",
     "iopub.status.busy": "2021-11-07T23:00:09.009279Z",
     "iopub.status.idle": "2021-11-07T23:00:09.031706Z",
     "shell.execute_reply": "2021-11-07T23:00:09.033300Z"
    },
    "papermill": {
     "duration": 0.074155,
     "end_time": "2021-11-07T23:00:09.033848",
     "exception": false,
     "start_time": "2021-11-07T23:00:08.959693",
     "status": "completed"
    },
    "tags": []
   },
   "outputs": [
    {
     "data": {
      "text/html": [
       "<div>\n",
       "<style scoped>\n",
       "    .dataframe tbody tr th:only-of-type {\n",
       "        vertical-align: middle;\n",
       "    }\n",
       "\n",
       "    .dataframe tbody tr th {\n",
       "        vertical-align: top;\n",
       "    }\n",
       "\n",
       "    .dataframe thead th {\n",
       "        text-align: right;\n",
       "    }\n",
       "</style>\n",
       "<table border=\"1\" class=\"dataframe\">\n",
       "  <thead>\n",
       "    <tr style=\"text-align: right;\">\n",
       "      <th></th>\n",
       "      <th>RECORD_TIME</th>\n",
       "    </tr>\n",
       "  </thead>\n",
       "  <tbody>\n",
       "    <tr>\n",
       "      <th>0</th>\n",
       "      <td>2021-11-08 00:00</td>\n",
       "    </tr>\n",
       "    <tr>\n",
       "      <th>1</th>\n",
       "      <td>2021-11-07 23:30</td>\n",
       "    </tr>\n",
       "  </tbody>\n",
       "</table>\n",
       "</div>"
      ],
      "text/plain": [
       "        RECORD_TIME\n",
       "0  2021-11-08 00:00\n",
       "1  2021-11-07 23:30"
      ]
     },
     "execution_count": 3,
     "metadata": {},
     "output_type": "execute_result"
    }
   ],
   "source": [
    "timestamps"
   ]
  },
  {
   "cell_type": "code",
   "execution_count": 4,
   "id": "alternate-victory",
   "metadata": {
    "execution": {
     "iopub.execute_input": "2021-11-07T23:00:09.090604Z",
     "iopub.status.busy": "2021-11-07T23:00:09.088091Z",
     "iopub.status.idle": "2021-11-07T23:00:10.173879Z",
     "shell.execute_reply": "2021-11-07T23:00:10.175775Z"
    },
    "papermill": {
     "duration": 1.120953,
     "end_time": "2021-11-07T23:00:10.176247",
     "exception": false,
     "start_time": "2021-11-07T23:00:09.055294",
     "status": "completed"
    },
    "tags": []
   },
   "outputs": [],
   "source": [
    "df = pd.read_sql(\"select * from EBAY_TOP_BERLIN where record_time in (select distinct record_time from EBAY_TOP_BERLIN order by record_time desc limit 2)\", sqlite3.connect(\"UsedObjects.db\"))"
   ]
  },
  {
   "cell_type": "code",
   "execution_count": 5,
   "id": "popular-active",
   "metadata": {
    "execution": {
     "iopub.execute_input": "2021-11-07T23:00:10.241226Z",
     "iopub.status.busy": "2021-11-07T23:00:10.238886Z",
     "iopub.status.idle": "2021-11-07T23:00:10.270651Z",
     "shell.execute_reply": "2021-11-07T23:00:10.272244Z"
    },
    "papermill": {
     "duration": 0.075007,
     "end_time": "2021-11-07T23:00:10.272782",
     "exception": false,
     "start_time": "2021-11-07T23:00:10.197775",
     "status": "completed"
    },
    "tags": []
   },
   "outputs": [],
   "source": [
    "df_pivot = df.pivot_table(index=\"PRODUCT\", columns = \"RECORD_TIME\", values = \"LISTING_COUNT\")"
   ]
  },
  {
   "cell_type": "code",
   "execution_count": 6,
   "id": "union-huntington",
   "metadata": {
    "execution": {
     "iopub.execute_input": "2021-11-07T23:00:10.335005Z",
     "iopub.status.busy": "2021-11-07T23:00:10.332760Z",
     "iopub.status.idle": "2021-11-07T23:00:10.338584Z",
     "shell.execute_reply": "2021-11-07T23:00:10.340104Z"
    },
    "papermill": {
     "duration": 0.044241,
     "end_time": "2021-11-07T23:00:10.340577",
     "exception": false,
     "start_time": "2021-11-07T23:00:10.296336",
     "status": "completed"
    },
    "tags": []
   },
   "outputs": [],
   "source": [
    "df_pivot.columns = [\"stamp_1\", \"stamp_2\"]\n",
    "df_pivot_diff = df_pivot.diff(axis=1)"
   ]
  },
  {
   "cell_type": "code",
   "execution_count": 7,
   "id": "fifth-motion",
   "metadata": {
    "execution": {
     "iopub.execute_input": "2021-11-07T23:00:10.395977Z",
     "iopub.status.busy": "2021-11-07T23:00:10.393752Z",
     "iopub.status.idle": "2021-11-07T23:00:12.113320Z",
     "shell.execute_reply": "2021-11-07T23:00:12.114703Z"
    },
    "papermill": {
     "duration": 1.752689,
     "end_time": "2021-11-07T23:00:12.115181",
     "exception": false,
     "start_time": "2021-11-07T23:00:10.362492",
     "status": "completed"
    },
    "tags": []
   },
   "outputs": [
    {
     "data": {
      "text/plain": [
       "<AxesSubplot:ylabel='PRODUCT'>"
      ]
     },
     "execution_count": 7,
     "metadata": {},
     "output_type": "execute_result"
    },
    {
     "data": {
      "image/png": "[encoded data removed]",
      "text/plain": [
       "<Figure size 432x288 with 1 Axes>"
      ]
     },
     "metadata": {
      "needs_background": "light"
     },
     "output_type": "display_data"
    }
   ],
   "source": [
    "df_pivot_diff.sort_values(\"stamp_2\", ascending = False)[\"stamp_2\"].head(10).plot.barh()"
   ]
  },
  {
   "cell_type": "code",
   "execution_count": null,
   "id": "extra-executive",
   "metadata": {
    "papermill": {
     "duration": 0.023718,
     "end_time": "2021-11-07T23:00:12.162842",
     "exception": false,
     "start_time": "2021-11-07T23:00:12.139124",
     "status": "completed"
    },
    "tags": []
   },
   "outputs": [],
   "source": []
  }
 ],
 "metadata": {
  "kernelspec": {
   "display_name": "Python 3",
   "language": "python",
   "name": "python3"
  },
  "language_info": {
   "codemirror_mode": {
    "name": "ipython",
    "version": 3
   },
   "file_extension": ".py",
   "mimetype": "text/x-python",
   "name": "python",
   "nbconvert_exporter": "python",
   "pygments_lexer": "ipython3",
   "version": "3.9.5"
  },
  "papermill": {
   "default_parameters": {},
   "duration": 9.01117,
   "end_time": "2021-11-07T23:00:13.366522",
   "environment_variables": {},
   "exception": null,
   "input_path": "eBay_Overview.ipynb",
   "output_path": "eBay_Overview.ipynb",
   "parameters": {},
   "start_time": "2021-11-07T23:00:04.355352",
   "version": "2.3.3"
  }
 },
 "nbformat": 4,
 "nbformat_minor": 5
}