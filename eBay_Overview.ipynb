{
 "cells": [
  {
   "cell_type": "code",
   "execution_count": 1,
   "id": "reverse-picking",
   "metadata": {
    "execution": {
     "iopub.execute_input": "2021-12-03T17:00:07.855669Z",
     "iopub.status.busy": "2021-12-03T17:00:07.846198Z",
     "iopub.status.idle": "2021-12-03T17:00:08.782835Z",
     "shell.execute_reply": "2021-12-03T17:00:08.784258Z"
    },
    "papermill": {
     "duration": 0.986821,
     "end_time": "2021-12-03T17:00:08.785073",
     "exception": false,
     "start_time": "2021-12-03T17:00:07.798252",
     "status": "completed"
    },
    "tags": []
   },
   "outputs": [],
   "source": [
    "import pandas as pd\n",
    "import sqlite3"
   ]
  },
  {
   "cell_type": "code",
   "execution_count": 2,
   "id": "innovative-syndrome",
   "metadata": {
    "execution": {
     "iopub.execute_input": "2021-12-03T17:00:08.846779Z",
     "iopub.status.busy": "2021-12-03T17:00:08.844478Z",
     "iopub.status.idle": "2021-12-03T17:00:09.826366Z",
     "shell.execute_reply": "2021-12-03T17:00:09.828650Z"
    },
    "papermill": {
     "duration": 1.016968,
     "end_time": "2021-12-03T17:00:09.829238",
     "exception": false,
     "start_time": "2021-12-03T17:00:08.812270",
     "status": "completed"
    },
    "tags": []
   },
   "outputs": [],
   "source": [
    "timestamps = pd.read_sql(\"select distinct record_time from EBAY_TOP_BERLIN order by record_time desc limit 2\", sqlite3.connect(\"UsedObjects.db\"))"
   ]
  },
  {
   "cell_type": "code",
   "execution_count": 3,
   "id": "periodic-identification",
   "metadata": {
    "execution": {
     "iopub.execute_input": "2021-12-03T17:00:09.901655Z",
     "iopub.status.busy": "2021-12-03T17:00:09.898450Z",
     "iopub.status.idle": "2021-12-03T17:00:09.924749Z",
     "shell.execute_reply": "2021-12-03T17:00:09.926385Z"
    },
    "papermill": {
     "duration": 0.076247,
     "end_time": "2021-12-03T17:00:09.926886",
     "exception": false,
     "start_time": "2021-12-03T17:00:09.850639",
     "status": "completed"
    },
    "tags": []
   },
   "outputs": [
    {
     "data": {
      "text/html": [
       "<div>\n",
       "<style scoped>\n",
       "    .dataframe tbody tr th:only-of-type {\n",
       "        vertical-align: middle;\n",
       "    }\n",
       "\n",
       "    .dataframe tbody tr th {\n",
       "        vertical-align: top;\n",
       "    }\n",
       "\n",
       "    .dataframe thead th {\n",
       "        text-align: right;\n",
       "    }\n",
       "</style>\n",
       "<table border=\"1\" class=\"dataframe\">\n",
       "  <thead>\n",
       "    <tr style=\"text-align: right;\">\n",
       "      <th></th>\n",
       "      <th>RECORD_TIME</th>\n",
       "    </tr>\n",
       "  </thead>\n",
       "  <tbody>\n",
       "    <tr>\n",
       "      <th>0</th>\n",
       "      <td>2021-12-03 18:00</td>\n",
       "    </tr>\n",
       "    <tr>\n",
       "      <th>1</th>\n",
       "      <td>2021-12-03 17:30</td>\n",
       "    </tr>\n",
       "  </tbody>\n",
       "</table>\n",
       "</div>"
      ],
      "text/plain": [
       "        RECORD_TIME\n",
       "0  2021-12-03 18:00\n",
       "1  2021-12-03 17:30"
      ]
     },
     "execution_count": 3,
     "metadata": {},
     "output_type": "execute_result"
    }
   ],
   "source": [
    "timestamps"
   ]
  },
  {
   "cell_type": "code",
   "execution_count": 4,
   "id": "alternate-victory",
   "metadata": {
    "execution": {
     "iopub.execute_input": "2021-12-03T17:00:09.982828Z",
     "iopub.status.busy": "2021-12-03T17:00:09.980445Z",
     "iopub.status.idle": "2021-12-03T17:00:11.424225Z",
     "shell.execute_reply": "2021-12-03T17:00:11.425825Z"
    },
    "papermill": {
     "duration": 1.476959,
     "end_time": "2021-12-03T17:00:11.426319",
     "exception": false,
     "start_time": "2021-12-03T17:00:09.949360",
     "status": "completed"
    },
    "tags": []
   },
   "outputs": [],
   "source": [
    "df = pd.read_sql(\"select * from EBAY_TOP_BERLIN where record_time in (select distinct record_time from EBAY_TOP_BERLIN order by record_time desc limit 2)\", sqlite3.connect(\"UsedObjects.db\"))"
   ]
  },
  {
   "cell_type": "code",
   "execution_count": 5,
   "id": "popular-active",
   "metadata": {
    "execution": {
     "iopub.execute_input": "2021-12-03T17:00:11.504922Z",
     "iopub.status.busy": "2021-12-03T17:00:11.491024Z",
     "iopub.status.idle": "2021-12-03T17:00:11.523394Z",
     "shell.execute_reply": "2021-12-03T17:00:11.524812Z"
    },
    "papermill": {
     "duration": 0.077629,
     "end_time": "2021-12-03T17:00:11.525284",
     "exception": false,
     "start_time": "2021-12-03T17:00:11.447655",
     "status": "completed"
    },
    "tags": []
   },
   "outputs": [],
   "source": [
    "df_pivot = df.pivot_table(index=\"PRODUCT\", columns = \"RECORD_TIME\", values = \"LISTING_COUNT\")"
   ]
  },
  {
   "cell_type": "code",
   "execution_count": 6,
   "id": "union-huntington",
   "metadata": {
    "execution": {
     "iopub.execute_input": "2021-12-03T17:00:11.582514Z",
     "iopub.status.busy": "2021-12-03T17:00:11.580295Z",
     "iopub.status.idle": "2021-12-03T17:00:11.586520Z",
     "shell.execute_reply": "2021-12-03T17:00:11.587869Z"
    },
    "papermill": {
     "duration": 0.043523,
     "end_time": "2021-12-03T17:00:11.588339",
     "exception": false,
     "start_time": "2021-12-03T17:00:11.544816",
     "status": "completed"
    },
    "tags": []
   },
   "outputs": [],
   "source": [
    "df_pivot.columns = [\"stamp_1\", \"stamp_2\"]\n",
    "df_pivot_diff = df_pivot.diff(axis=1)"
   ]
  },
  {
   "cell_type": "code",
   "execution_count": 7,
   "id": "fifth-motion",
   "metadata": {
    "execution": {
     "iopub.execute_input": "2021-12-03T17:00:11.648058Z",
     "iopub.status.busy": "2021-12-03T17:00:11.645353Z",
     "iopub.status.idle": "2021-12-03T17:00:13.589764Z",
     "shell.execute_reply": "2021-12-03T17:00:13.586712Z"
    },
    "papermill": {
     "duration": 1.982074,
     "end_time": "2021-12-03T17:00:13.590439",
     "exception": false,
     "start_time": "2021-12-03T17:00:11.608365",
     "status": "completed"
    },
    "tags": []
   },
   "outputs": [
    {
     "data": {
      "text/plain": [
       "<AxesSubplot:ylabel='PRODUCT'>"
      ]
     },
     "execution_count": 7,
     "metadata": {},
     "output_type": "execute_result"
    },
    {
     "data": {
      "image/png": "[encoded data removed]",
      "text/plain": [
       "<Figure size 432x288 with 1 Axes>"
      ]
     },
     "metadata": {
      "needs_background": "light"
     },
     "output_type": "display_data"
    }
   ],
   "source": [
    "df_pivot_diff.sort_values(\"stamp_2\", ascending = False)[\"stamp_2\"].head(10).plot.barh()"
   ]
  },
  {
   "cell_type": "code",
   "execution_count": null,
   "id": "extra-executive",
   "metadata": {
    "papermill": {
     "duration": 0.030907,
     "end_time": "2021-12-03T17:00:13.657148",
     "exception": false,
     "start_time": "2021-12-03T17:00:13.626241",
     "status": "completed"
    },
    "tags": []
   },
   "outputs": [],
   "source": []
  }
 ],
 "metadata": {
  "kernelspec": {
   "display_name": "Python 3",
   "language": "python",
   "name": "python3"
  },
  "language_info": {
   "codemirror_mode": {
    "name": "ipython",
    "version": 3
   },
   "file_extension": ".py",
   "mimetype": "text/x-python",
   "name": "python",
   "nbconvert_exporter": "python",
   "pygments_lexer": "ipython3",
   "version": "3.9.5"
  },
  "papermill": {
   "default_parameters": {},
   "duration": 9.928512,
   "end_time": "2021-12-03T17:00:15.005038",
   "environment_variables": {},
   "exception": null,
   "input_path": "eBay_Overview.ipynb",
   "output_path": "eBay_Overview.ipynb",
   "parameters": {},
   "start_time": "2021-12-03T17:00:05.076526",
   "version": "2.3.3"
  }
 },
 "nbformat": 4,
 "nbformat_minor": 5
}