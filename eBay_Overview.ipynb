{
 "cells": [
  {
   "cell_type": "code",
   "execution_count": 1,
   "id": "reverse-picking",
   "metadata": {
    "execution": {
     "iopub.execute_input": "2021-11-14T21:30:07.714854Z",
     "iopub.status.busy": "2021-11-14T21:30:07.712508Z",
     "iopub.status.idle": "2021-11-14T21:30:08.623069Z",
     "shell.execute_reply": "2021-11-14T21:30:08.625416Z"
    },
    "papermill": {
     "duration": 0.962859,
     "end_time": "2021-11-14T21:30:08.626160",
     "exception": false,
     "start_time": "2021-11-14T21:30:07.663301",
     "status": "completed"
    },
    "tags": []
   },
   "outputs": [],
   "source": [
    "import pandas as pd\n",
    "import sqlite3"
   ]
  },
  {
   "cell_type": "code",
   "execution_count": 2,
   "id": "innovative-syndrome",
   "metadata": {
    "execution": {
     "iopub.execute_input": "2021-11-14T21:30:08.687095Z",
     "iopub.status.busy": "2021-11-14T21:30:08.684824Z",
     "iopub.status.idle": "2021-11-14T21:30:09.489383Z",
     "shell.execute_reply": "2021-11-14T21:30:09.491545Z"
    },
    "papermill": {
     "duration": 0.838852,
     "end_time": "2021-11-14T21:30:09.492056",
     "exception": false,
     "start_time": "2021-11-14T21:30:08.653204",
     "status": "completed"
    },
    "tags": []
   },
   "outputs": [],
   "source": [
    "timestamps = pd.read_sql(\"select distinct record_time from EBAY_TOP_BERLIN order by record_time desc limit 2\", sqlite3.connect(\"UsedObjects.db\"))"
   ]
  },
  {
   "cell_type": "code",
   "execution_count": 3,
   "id": "periodic-identification",
   "metadata": {
    "execution": {
     "iopub.execute_input": "2021-11-14T21:30:09.563775Z",
     "iopub.status.busy": "2021-11-14T21:30:09.561467Z",
     "iopub.status.idle": "2021-11-14T21:30:09.585602Z",
     "shell.execute_reply": "2021-11-14T21:30:09.587030Z"
    },
    "papermill": {
     "duration": 0.075406,
     "end_time": "2021-11-14T21:30:09.587507",
     "exception": false,
     "start_time": "2021-11-14T21:30:09.512101",
     "status": "completed"
    },
    "tags": []
   },
   "outputs": [
    {
     "data": {
      "text/html": [
       "<div>\n",
       "<style scoped>\n",
       "    .dataframe tbody tr th:only-of-type {\n",
       "        vertical-align: middle;\n",
       "    }\n",
       "\n",
       "    .dataframe tbody tr th {\n",
       "        vertical-align: top;\n",
       "    }\n",
       "\n",
       "    .dataframe thead th {\n",
       "        text-align: right;\n",
       "    }\n",
       "</style>\n",
       "<table border=\"1\" class=\"dataframe\">\n",
       "  <thead>\n",
       "    <tr style=\"text-align: right;\">\n",
       "      <th></th>\n",
       "      <th>RECORD_TIME</th>\n",
       "    </tr>\n",
       "  </thead>\n",
       "  <tbody>\n",
       "    <tr>\n",
       "      <th>0</th>\n",
       "      <td>2021-11-14 22:30</td>\n",
       "    </tr>\n",
       "    <tr>\n",
       "      <th>1</th>\n",
       "      <td>2021-11-14 22:00</td>\n",
       "    </tr>\n",
       "  </tbody>\n",
       "</table>\n",
       "</div>"
      ],
      "text/plain": [
       "        RECORD_TIME\n",
       "0  2021-11-14 22:30\n",
       "1  2021-11-14 22:00"
      ]
     },
     "execution_count": 3,
     "metadata": {},
     "output_type": "execute_result"
    }
   ],
   "source": [
    "timestamps"
   ]
  },
  {
   "cell_type": "code",
   "execution_count": 4,
   "id": "alternate-victory",
   "metadata": {
    "execution": {
     "iopub.execute_input": "2021-11-14T21:30:09.641869Z",
     "iopub.status.busy": "2021-11-14T21:30:09.639783Z",
     "iopub.status.idle": "2021-11-14T21:30:10.808533Z",
     "shell.execute_reply": "2021-11-14T21:30:10.811376Z"
    },
    "papermill": {
     "duration": 1.204076,
     "end_time": "2021-11-14T21:30:10.812211",
     "exception": false,
     "start_time": "2021-11-14T21:30:09.608135",
     "status": "completed"
    },
    "tags": []
   },
   "outputs": [],
   "source": [
    "df = pd.read_sql(\"select * from EBAY_TOP_BERLIN where record_time in (select distinct record_time from EBAY_TOP_BERLIN order by record_time desc limit 2)\", sqlite3.connect(\"UsedObjects.db\"))"
   ]
  },
  {
   "cell_type": "code",
   "execution_count": 5,
   "id": "popular-active",
   "metadata": {
    "execution": {
     "iopub.execute_input": "2021-11-14T21:30:10.895888Z",
     "iopub.status.busy": "2021-11-14T21:30:10.881443Z",
     "iopub.status.idle": "2021-11-14T21:30:10.915853Z",
     "shell.execute_reply": "2021-11-14T21:30:10.917426Z"
    },
    "papermill": {
     "duration": 0.079636,
     "end_time": "2021-11-14T21:30:10.917916",
     "exception": false,
     "start_time": "2021-11-14T21:30:10.838280",
     "status": "completed"
    },
    "tags": []
   },
   "outputs": [],
   "source": [
    "df_pivot = df.pivot_table(index=\"PRODUCT\", columns = \"RECORD_TIME\", values = \"LISTING_COUNT\")"
   ]
  },
  {
   "cell_type": "code",
   "execution_count": 6,
   "id": "union-huntington",
   "metadata": {
    "execution": {
     "iopub.execute_input": "2021-11-14T21:30:10.975616Z",
     "iopub.status.busy": "2021-11-14T21:30:10.973485Z",
     "iopub.status.idle": "2021-11-14T21:30:10.979031Z",
     "shell.execute_reply": "2021-11-14T21:30:10.980357Z"
    },
    "papermill": {
     "duration": 0.043189,
     "end_time": "2021-11-14T21:30:10.980826",
     "exception": false,
     "start_time": "2021-11-14T21:30:10.937637",
     "status": "completed"
    },
    "tags": []
   },
   "outputs": [],
   "source": [
    "df_pivot.columns = [\"stamp_1\", \"stamp_2\"]\n",
    "df_pivot_diff = df_pivot.diff(axis=1)"
   ]
  },
  {
   "cell_type": "code",
   "execution_count": 7,
   "id": "fifth-motion",
   "metadata": {
    "execution": {
     "iopub.execute_input": "2021-11-14T21:30:11.038646Z",
     "iopub.status.busy": "2021-11-14T21:30:11.036104Z",
     "iopub.status.idle": "2021-11-14T21:30:12.973603Z",
     "shell.execute_reply": "2021-11-14T21:30:12.975045Z"
    },
    "papermill": {
     "duration": 1.973853,
     "end_time": "2021-11-14T21:30:12.975541",
     "exception": false,
     "start_time": "2021-11-14T21:30:11.001688",
     "status": "completed"
    },
    "tags": []
   },
   "outputs": [
    {
     "data": {
      "text/plain": [
       "<AxesSubplot:ylabel='PRODUCT'>"
      ]
     },
     "execution_count": 7,
     "metadata": {},
     "output_type": "execute_result"
    },
    {
     "data": {
      "image/png": "[encoded data removed]",
      "text/plain": [
       "<Figure size 432x288 with 1 Axes>"
      ]
     },
     "metadata": {
      "needs_background": "light"
     },
     "output_type": "display_data"
    }
   ],
   "source": [
    "df_pivot_diff.sort_values(\"stamp_2\", ascending = False)[\"stamp_2\"].head(10).plot.barh()"
   ]
  },
  {
   "cell_type": "code",
   "execution_count": null,
   "id": "extra-executive",
   "metadata": {
    "papermill": {
     "duration": 0.023026,
     "end_time": "2021-11-14T21:30:13.022601",
     "exception": false,
     "start_time": "2021-11-14T21:30:12.999575",
     "status": "completed"
    },
    "tags": []
   },
   "outputs": [],
   "source": []
  }
 ],
 "metadata": {
  "kernelspec": {
   "display_name": "Python 3",
   "language": "python",
   "name": "python3"
  },
  "language_info": {
   "codemirror_mode": {
    "name": "ipython",
    "version": 3
   },
   "file_extension": ".py",
   "mimetype": "text/x-python",
   "name": "python",
   "nbconvert_exporter": "python",
   "pygments_lexer": "ipython3",
   "version": "3.9.5"
  },
  "papermill": {
   "default_parameters": {},
   "duration": 8.922793,
   "end_time": "2021-11-14T21:30:13.871684",
   "environment_variables": {},
   "exception": null,
   "input_path": "eBay_Overview.ipynb",
   "output_path": "eBay_Overview.ipynb",
   "parameters": {},
   "start_time": "2021-11-14T21:30:04.948891",
   "version": "2.3.3"
  }
 },
 "nbformat": 4,
 "nbformat_minor": 5
}