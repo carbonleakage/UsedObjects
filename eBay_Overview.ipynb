{
 "cells": [
  {
   "cell_type": "code",
   "execution_count": 1,
   "id": "reverse-picking",
   "metadata": {
    "execution": {
     "iopub.execute_input": "2021-09-22T12:30:07.183506Z",
     "iopub.status.busy": "2021-09-22T12:30:07.181500Z",
     "iopub.status.idle": "2021-09-22T12:30:07.986959Z",
     "shell.execute_reply": "2021-09-22T12:30:07.988214Z"
    },
    "papermill": {
     "duration": 0.857709,
     "end_time": "2021-09-22T12:30:07.988868",
     "exception": false,
     "start_time": "2021-09-22T12:30:07.131159",
     "status": "completed"
    },
    "tags": []
   },
   "outputs": [],
   "source": [
    "import pandas as pd\n",
    "import sqlite3"
   ]
  },
  {
   "cell_type": "code",
   "execution_count": 2,
   "id": "innovative-syndrome",
   "metadata": {
    "execution": {
     "iopub.execute_input": "2021-09-22T12:30:08.039863Z",
     "iopub.status.busy": "2021-09-22T12:30:08.037935Z",
     "iopub.status.idle": "2021-09-22T12:30:08.381665Z",
     "shell.execute_reply": "2021-09-22T12:30:08.382910Z"
    },
    "papermill": {
     "duration": 0.37329,
     "end_time": "2021-09-22T12:30:08.383325",
     "exception": false,
     "start_time": "2021-09-22T12:30:08.010035",
     "status": "completed"
    },
    "tags": []
   },
   "outputs": [],
   "source": [
    "timestamps = pd.read_sql(\"select distinct record_time from EBAY_TOP_BERLIN order by record_time desc limit 2\", sqlite3.connect(\"UsedObjects.db\"))"
   ]
  },
  {
   "cell_type": "code",
   "execution_count": 3,
   "id": "periodic-identification",
   "metadata": {
    "execution": {
     "iopub.execute_input": "2021-09-22T12:30:08.449880Z",
     "iopub.status.busy": "2021-09-22T12:30:08.447879Z",
     "iopub.status.idle": "2021-09-22T12:30:08.467694Z",
     "shell.execute_reply": "2021-09-22T12:30:08.468839Z"
    },
    "papermill": {
     "duration": 0.064053,
     "end_time": "2021-09-22T12:30:08.469249",
     "exception": false,
     "start_time": "2021-09-22T12:30:08.405196",
     "status": "completed"
    },
    "tags": []
   },
   "outputs": [
    {
     "data": {
      "text/html": [
       "<div>\n",
       "<style scoped>\n",
       "    .dataframe tbody tr th:only-of-type {\n",
       "        vertical-align: middle;\n",
       "    }\n",
       "\n",
       "    .dataframe tbody tr th {\n",
       "        vertical-align: top;\n",
       "    }\n",
       "\n",
       "    .dataframe thead th {\n",
       "        text-align: right;\n",
       "    }\n",
       "</style>\n",
       "<table border=\"1\" class=\"dataframe\">\n",
       "  <thead>\n",
       "    <tr style=\"text-align: right;\">\n",
       "      <th></th>\n",
       "      <th>RECORD_TIME</th>\n",
       "    </tr>\n",
       "  </thead>\n",
       "  <tbody>\n",
       "    <tr>\n",
       "      <th>0</th>\n",
       "      <td>2021-09-22 14:30</td>\n",
       "    </tr>\n",
       "    <tr>\n",
       "      <th>1</th>\n",
       "      <td>2021-09-22 14:00</td>\n",
       "    </tr>\n",
       "  </tbody>\n",
       "</table>\n",
       "</div>"
      ],
      "text/plain": [
       "        RECORD_TIME\n",
       "0  2021-09-22 14:30\n",
       "1  2021-09-22 14:00"
      ]
     },
     "execution_count": 3,
     "metadata": {},
     "output_type": "execute_result"
    }
   ],
   "source": [
    "timestamps"
   ]
  },
  {
   "cell_type": "code",
   "execution_count": 4,
   "id": "alternate-victory",
   "metadata": {
    "execution": {
     "iopub.execute_input": "2021-09-22T12:30:08.523036Z",
     "iopub.status.busy": "2021-09-22T12:30:08.520679Z",
     "iopub.status.idle": "2021-09-22T12:30:09.031672Z",
     "shell.execute_reply": "2021-09-22T12:30:09.032888Z"
    },
    "papermill": {
     "duration": 0.541307,
     "end_time": "2021-09-22T12:30:09.033282",
     "exception": false,
     "start_time": "2021-09-22T12:30:08.491975",
     "status": "completed"
    },
    "tags": []
   },
   "outputs": [],
   "source": [
    "df = pd.read_sql(\"select * from EBAY_TOP_BERLIN where record_time in (select distinct record_time from EBAY_TOP_BERLIN order by record_time desc limit 2)\", sqlite3.connect(\"UsedObjects.db\"))"
   ]
  },
  {
   "cell_type": "code",
   "execution_count": 5,
   "id": "popular-active",
   "metadata": {
    "execution": {
     "iopub.execute_input": "2021-09-22T12:30:09.115751Z",
     "iopub.status.busy": "2021-09-22T12:30:09.108756Z",
     "iopub.status.idle": "2021-09-22T12:30:09.131636Z",
     "shell.execute_reply": "2021-09-22T12:30:09.132956Z"
    },
    "papermill": {
     "duration": 0.071148,
     "end_time": "2021-09-22T12:30:09.133367",
     "exception": false,
     "start_time": "2021-09-22T12:30:09.062219",
     "status": "completed"
    },
    "tags": []
   },
   "outputs": [],
   "source": [
    "df_pivot = df.pivot_table(index=\"PRODUCT\", columns = \"RECORD_TIME\", values = \"LISTING_COUNT\")"
   ]
  },
  {
   "cell_type": "code",
   "execution_count": 6,
   "id": "union-huntington",
   "metadata": {
    "execution": {
     "iopub.execute_input": "2021-09-22T12:30:09.188657Z",
     "iopub.status.busy": "2021-09-22T12:30:09.186667Z",
     "iopub.status.idle": "2021-09-22T12:30:09.191749Z",
     "shell.execute_reply": "2021-09-22T12:30:09.192867Z"
    },
    "papermill": {
     "duration": 0.039465,
     "end_time": "2021-09-22T12:30:09.193273",
     "exception": false,
     "start_time": "2021-09-22T12:30:09.153808",
     "status": "completed"
    },
    "tags": []
   },
   "outputs": [],
   "source": [
    "df_pivot.columns = [\"stamp_1\", \"stamp_2\"]\n",
    "df_pivot_diff = df_pivot.diff(axis=1)"
   ]
  },
  {
   "cell_type": "code",
   "execution_count": 7,
   "id": "fifth-motion",
   "metadata": {
    "execution": {
     "iopub.execute_input": "2021-09-22T12:30:09.247597Z",
     "iopub.status.busy": "2021-09-22T12:30:09.245038Z",
     "iopub.status.idle": "2021-09-22T12:30:10.735440Z",
     "shell.execute_reply": "2021-09-22T12:30:10.736817Z"
    },
    "papermill": {
     "duration": 1.523491,
     "end_time": "2021-09-22T12:30:10.737232",
     "exception": false,
     "start_time": "2021-09-22T12:30:09.213741",
     "status": "completed"
    },
    "tags": []
   },
   "outputs": [
    {
     "data": {
      "text/plain": [
       "<AxesSubplot:ylabel='PRODUCT'>"
      ]
     },
     "execution_count": 7,
     "metadata": {},
     "output_type": "execute_result"
    },
    {
     "data": {
      "image/png": "[encoded data removed]",
      "text/plain": [
       "<Figure size 432x288 with 1 Axes>"
      ]
     },
     "metadata": {
      "needs_background": "light"
     },
     "output_type": "display_data"
    }
   ],
   "source": [
    "df_pivot_diff.sort_values(\"stamp_2\", ascending = False)[\"stamp_2\"].head(10).plot.barh()"
   ]
  },
  {
   "cell_type": "code",
   "execution_count": null,
   "id": "extra-executive",
   "metadata": {
    "papermill": {
     "duration": 0.02236,
     "end_time": "2021-09-22T12:30:10.784423",
     "exception": false,
     "start_time": "2021-09-22T12:30:10.762063",
     "status": "completed"
    },
    "tags": []
   },
   "outputs": [],
   "source": []
  }
 ],
 "metadata": {
  "kernelspec": {
   "display_name": "Python 3",
   "language": "python",
   "name": "python3"
  },
  "language_info": {
   "codemirror_mode": {
    "name": "ipython",
    "version": 3
   },
   "file_extension": ".py",
   "mimetype": "text/x-python",
   "name": "python",
   "nbconvert_exporter": "python",
   "pygments_lexer": "ipython3",
   "version": "3.9.5"
  },
  "papermill": {
   "default_parameters": {},
   "duration": 6.704388,
   "end_time": "2021-09-22T12:30:11.429028",
   "environment_variables": {},
   "exception": null,
   "input_path": "eBay_Overview.ipynb",
   "output_path": "eBay_Overview.ipynb",
   "parameters": {},
   "start_time": "2021-09-22T12:30:04.724640",
   "version": "2.3.3"
  }
 },
 "nbformat": 4,
 "nbformat_minor": 5
}