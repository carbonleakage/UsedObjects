{
 "cells": [
  {
   "cell_type": "code",
   "execution_count": 1,
   "id": "reverse-picking",
   "metadata": {
    "execution": {
     "iopub.execute_input": "2021-11-10T21:00:07.323143Z",
     "iopub.status.busy": "2021-11-10T21:00:07.313995Z",
     "iopub.status.idle": "2021-11-10T21:00:08.270570Z",
     "shell.execute_reply": "2021-11-10T21:00:08.272098Z"
    },
    "papermill": {
     "duration": 1.003376,
     "end_time": "2021-11-10T21:00:08.272958",
     "exception": false,
     "start_time": "2021-11-10T21:00:07.269582",
     "status": "completed"
    },
    "tags": []
   },
   "outputs": [],
   "source": [
    "import pandas as pd\n",
    "import sqlite3"
   ]
  },
  {
   "cell_type": "code",
   "execution_count": 2,
   "id": "innovative-syndrome",
   "metadata": {
    "execution": {
     "iopub.execute_input": "2021-11-10T21:00:08.342225Z",
     "iopub.status.busy": "2021-11-10T21:00:08.339666Z",
     "iopub.status.idle": "2021-11-10T21:00:09.119592Z",
     "shell.execute_reply": "2021-11-10T21:00:09.121051Z"
    },
    "papermill": {
     "duration": 0.814065,
     "end_time": "2021-11-10T21:00:09.121500",
     "exception": false,
     "start_time": "2021-11-10T21:00:08.307435",
     "status": "completed"
    },
    "tags": []
   },
   "outputs": [],
   "source": [
    "timestamps = pd.read_sql(\"select distinct record_time from EBAY_TOP_BERLIN order by record_time desc limit 2\", sqlite3.connect(\"UsedObjects.db\"))"
   ]
  },
  {
   "cell_type": "code",
   "execution_count": 3,
   "id": "periodic-identification",
   "metadata": {
    "execution": {
     "iopub.execute_input": "2021-11-10T21:00:09.194751Z",
     "iopub.status.busy": "2021-11-10T21:00:09.189085Z",
     "iopub.status.idle": "2021-11-10T21:00:09.212432Z",
     "shell.execute_reply": "2021-11-10T21:00:09.210825Z"
    },
    "papermill": {
     "duration": 0.07106,
     "end_time": "2021-11-10T21:00:09.212895",
     "exception": false,
     "start_time": "2021-11-10T21:00:09.141835",
     "status": "completed"
    },
    "tags": []
   },
   "outputs": [
    {
     "data": {
      "text/html": [
       "<div>\n",
       "<style scoped>\n",
       "    .dataframe tbody tr th:only-of-type {\n",
       "        vertical-align: middle;\n",
       "    }\n",
       "\n",
       "    .dataframe tbody tr th {\n",
       "        vertical-align: top;\n",
       "    }\n",
       "\n",
       "    .dataframe thead th {\n",
       "        text-align: right;\n",
       "    }\n",
       "</style>\n",
       "<table border=\"1\" class=\"dataframe\">\n",
       "  <thead>\n",
       "    <tr style=\"text-align: right;\">\n",
       "      <th></th>\n",
       "      <th>RECORD_TIME</th>\n",
       "    </tr>\n",
       "  </thead>\n",
       "  <tbody>\n",
       "    <tr>\n",
       "      <th>0</th>\n",
       "      <td>2021-11-10 22:00</td>\n",
       "    </tr>\n",
       "    <tr>\n",
       "      <th>1</th>\n",
       "      <td>2021-11-10 21:30</td>\n",
       "    </tr>\n",
       "  </tbody>\n",
       "</table>\n",
       "</div>"
      ],
      "text/plain": [
       "        RECORD_TIME\n",
       "0  2021-11-10 22:00\n",
       "1  2021-11-10 21:30"
      ]
     },
     "execution_count": 3,
     "metadata": {},
     "output_type": "execute_result"
    }
   ],
   "source": [
    "timestamps"
   ]
  },
  {
   "cell_type": "code",
   "execution_count": 4,
   "id": "alternate-victory",
   "metadata": {
    "execution": {
     "iopub.execute_input": "2021-11-10T21:00:09.265859Z",
     "iopub.status.busy": "2021-11-10T21:00:09.263687Z",
     "iopub.status.idle": "2021-11-10T21:00:10.406562Z",
     "shell.execute_reply": "2021-11-10T21:00:10.408796Z"
    },
    "papermill": {
     "duration": 1.176334,
     "end_time": "2021-11-10T21:00:10.409301",
     "exception": false,
     "start_time": "2021-11-10T21:00:09.232967",
     "status": "completed"
    },
    "tags": []
   },
   "outputs": [],
   "source": [
    "df = pd.read_sql(\"select * from EBAY_TOP_BERLIN where record_time in (select distinct record_time from EBAY_TOP_BERLIN order by record_time desc limit 2)\", sqlite3.connect(\"UsedObjects.db\"))"
   ]
  },
  {
   "cell_type": "code",
   "execution_count": 5,
   "id": "popular-active",
   "metadata": {
    "execution": {
     "iopub.execute_input": "2021-11-10T21:00:10.489226Z",
     "iopub.status.busy": "2021-11-10T21:00:10.474310Z",
     "iopub.status.idle": "2021-11-10T21:00:10.509870Z",
     "shell.execute_reply": "2021-11-10T21:00:10.511360Z"
    },
    "papermill": {
     "duration": 0.080304,
     "end_time": "2021-11-10T21:00:10.511853",
     "exception": false,
     "start_time": "2021-11-10T21:00:10.431549",
     "status": "completed"
    },
    "tags": []
   },
   "outputs": [],
   "source": [
    "df_pivot = df.pivot_table(index=\"PRODUCT\", columns = \"RECORD_TIME\", values = \"LISTING_COUNT\")"
   ]
  },
  {
   "cell_type": "code",
   "execution_count": 6,
   "id": "union-huntington",
   "metadata": {
    "execution": {
     "iopub.execute_input": "2021-11-10T21:00:10.573782Z",
     "iopub.status.busy": "2021-11-10T21:00:10.571327Z",
     "iopub.status.idle": "2021-11-10T21:00:10.577842Z",
     "shell.execute_reply": "2021-11-10T21:00:10.579310Z"
    },
    "papermill": {
     "duration": 0.045636,
     "end_time": "2021-11-10T21:00:10.579825",
     "exception": false,
     "start_time": "2021-11-10T21:00:10.534189",
     "status": "completed"
    },
    "tags": []
   },
   "outputs": [],
   "source": [
    "df_pivot.columns = [\"stamp_1\", \"stamp_2\"]\n",
    "df_pivot_diff = df_pivot.diff(axis=1)"
   ]
  },
  {
   "cell_type": "code",
   "execution_count": 7,
   "id": "fifth-motion",
   "metadata": {
    "execution": {
     "iopub.execute_input": "2021-11-10T21:00:10.640127Z",
     "iopub.status.busy": "2021-11-10T21:00:10.637516Z",
     "iopub.status.idle": "2021-11-10T21:00:12.357787Z",
     "shell.execute_reply": "2021-11-10T21:00:12.359180Z"
    },
    "papermill": {
     "duration": 1.758392,
     "end_time": "2021-11-10T21:00:12.359664",
     "exception": false,
     "start_time": "2021-11-10T21:00:10.601272",
     "status": "completed"
    },
    "tags": []
   },
   "outputs": [
    {
     "data": {
      "text/plain": [
       "<AxesSubplot:ylabel='PRODUCT'>"
      ]
     },
     "execution_count": 7,
     "metadata": {},
     "output_type": "execute_result"
    },
    {
     "data": {
      "image/png": "[encoded data removed]",
      "text/plain": [
       "<Figure size 432x288 with 1 Axes>"
      ]
     },
     "metadata": {
      "needs_background": "light"
     },
     "output_type": "display_data"
    }
   ],
   "source": [
    "df_pivot_diff.sort_values(\"stamp_2\", ascending = False)[\"stamp_2\"].head(10).plot.barh()"
   ]
  },
  {
   "cell_type": "code",
   "execution_count": null,
   "id": "extra-executive",
   "metadata": {
    "papermill": {
     "duration": 0.023322,
     "end_time": "2021-11-10T21:00:12.406705",
     "exception": false,
     "start_time": "2021-11-10T21:00:12.383383",
     "status": "completed"
    },
    "tags": []
   },
   "outputs": [],
   "source": []
  }
 ],
 "metadata": {
  "kernelspec": {
   "display_name": "Python 3",
   "language": "python",
   "name": "python3"
  },
  "language_info": {
   "codemirror_mode": {
    "name": "ipython",
    "version": 3
   },
   "file_extension": ".py",
   "mimetype": "text/x-python",
   "name": "python",
   "nbconvert_exporter": "python",
   "pygments_lexer": "ipython3",
   "version": "3.9.5"
  },
  "papermill": {
   "default_parameters": {},
   "duration": 8.844395,
   "end_time": "2021-11-10T21:00:13.367591",
   "environment_variables": {},
   "exception": null,
   "input_path": "eBay_Overview.ipynb",
   "output_path": "eBay_Overview.ipynb",
   "parameters": {},
   "start_time": "2021-11-10T21:00:04.523196",
   "version": "2.3.3"
  }
 },
 "nbformat": 4,
 "nbformat_minor": 5
}