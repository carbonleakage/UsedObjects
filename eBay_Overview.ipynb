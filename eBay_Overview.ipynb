{
 "cells": [
  {
   "cell_type": "code",
   "execution_count": 1,
   "id": "reverse-picking",
   "metadata": {
    "execution": {
     "iopub.execute_input": "2021-10-25T20:00:07.698951Z",
     "iopub.status.busy": "2021-10-25T20:00:07.696908Z",
     "iopub.status.idle": "2021-10-25T20:00:08.509362Z",
     "shell.execute_reply": "2021-10-25T20:00:08.510696Z"
    },
    "papermill": {
     "duration": 0.863503,
     "end_time": "2021-10-25T20:00:08.511310",
     "exception": false,
     "start_time": "2021-10-25T20:00:07.647807",
     "status": "completed"
    },
    "tags": []
   },
   "outputs": [],
   "source": [
    "import pandas as pd\n",
    "import sqlite3"
   ]
  },
  {
   "cell_type": "code",
   "execution_count": 2,
   "id": "innovative-syndrome",
   "metadata": {
    "execution": {
     "iopub.execute_input": "2021-10-25T20:00:08.561688Z",
     "iopub.status.busy": "2021-10-25T20:00:08.559661Z",
     "iopub.status.idle": "2021-10-25T20:00:09.186522Z",
     "shell.execute_reply": "2021-10-25T20:00:09.187782Z"
    },
    "papermill": {
     "duration": 0.656942,
     "end_time": "2021-10-25T20:00:09.188198",
     "exception": false,
     "start_time": "2021-10-25T20:00:08.531256",
     "status": "completed"
    },
    "tags": []
   },
   "outputs": [],
   "source": [
    "timestamps = pd.read_sql(\"select distinct record_time from EBAY_TOP_BERLIN order by record_time desc limit 2\", sqlite3.connect(\"UsedObjects.db\"))"
   ]
  },
  {
   "cell_type": "code",
   "execution_count": 3,
   "id": "periodic-identification",
   "metadata": {
    "execution": {
     "iopub.execute_input": "2021-10-25T20:00:09.263266Z",
     "iopub.status.busy": "2021-10-25T20:00:09.261265Z",
     "iopub.status.idle": "2021-10-25T20:00:09.281043Z",
     "shell.execute_reply": "2021-10-25T20:00:09.282341Z"
    },
    "papermill": {
     "duration": 0.069686,
     "end_time": "2021-10-25T20:00:09.282755",
     "exception": false,
     "start_time": "2021-10-25T20:00:09.213069",
     "status": "completed"
    },
    "tags": []
   },
   "outputs": [
    {
     "data": {
      "text/html": [
       "<div>\n",
       "<style scoped>\n",
       "    .dataframe tbody tr th:only-of-type {\n",
       "        vertical-align: middle;\n",
       "    }\n",
       "\n",
       "    .dataframe tbody tr th {\n",
       "        vertical-align: top;\n",
       "    }\n",
       "\n",
       "    .dataframe thead th {\n",
       "        text-align: right;\n",
       "    }\n",
       "</style>\n",
       "<table border=\"1\" class=\"dataframe\">\n",
       "  <thead>\n",
       "    <tr style=\"text-align: right;\">\n",
       "      <th></th>\n",
       "      <th>RECORD_TIME</th>\n",
       "    </tr>\n",
       "  </thead>\n",
       "  <tbody>\n",
       "    <tr>\n",
       "      <th>0</th>\n",
       "      <td>2021-10-25 22:00</td>\n",
       "    </tr>\n",
       "    <tr>\n",
       "      <th>1</th>\n",
       "      <td>2021-10-25 21:30</td>\n",
       "    </tr>\n",
       "  </tbody>\n",
       "</table>\n",
       "</div>"
      ],
      "text/plain": [
       "        RECORD_TIME\n",
       "0  2021-10-25 22:00\n",
       "1  2021-10-25 21:30"
      ]
     },
     "execution_count": 3,
     "metadata": {},
     "output_type": "execute_result"
    }
   ],
   "source": [
    "timestamps"
   ]
  },
  {
   "cell_type": "code",
   "execution_count": 4,
   "id": "alternate-victory",
   "metadata": {
    "execution": {
     "iopub.execute_input": "2021-10-25T20:00:09.334620Z",
     "iopub.status.busy": "2021-10-25T20:00:09.332389Z",
     "iopub.status.idle": "2021-10-25T20:00:10.263925Z",
     "shell.execute_reply": "2021-10-25T20:00:10.265180Z"
    },
    "papermill": {
     "duration": 0.961612,
     "end_time": "2021-10-25T20:00:10.265586",
     "exception": false,
     "start_time": "2021-10-25T20:00:09.303974",
     "status": "completed"
    },
    "tags": []
   },
   "outputs": [],
   "source": [
    "df = pd.read_sql(\"select * from EBAY_TOP_BERLIN where record_time in (select distinct record_time from EBAY_TOP_BERLIN order by record_time desc limit 2)\", sqlite3.connect(\"UsedObjects.db\"))"
   ]
  },
  {
   "cell_type": "code",
   "execution_count": 5,
   "id": "popular-active",
   "metadata": {
    "execution": {
     "iopub.execute_input": "2021-10-25T20:00:10.328628Z",
     "iopub.status.busy": "2021-10-25T20:00:10.326407Z",
     "iopub.status.idle": "2021-10-25T20:00:10.353650Z",
     "shell.execute_reply": "2021-10-25T20:00:10.354883Z"
    },
    "papermill": {
     "duration": 0.066816,
     "end_time": "2021-10-25T20:00:10.355279",
     "exception": false,
     "start_time": "2021-10-25T20:00:10.288463",
     "status": "completed"
    },
    "tags": []
   },
   "outputs": [],
   "source": [
    "df_pivot = df.pivot_table(index=\"PRODUCT\", columns = \"RECORD_TIME\", values = \"LISTING_COUNT\")"
   ]
  },
  {
   "cell_type": "code",
   "execution_count": 6,
   "id": "union-huntington",
   "metadata": {
    "execution": {
     "iopub.execute_input": "2021-10-25T20:00:10.411951Z",
     "iopub.status.busy": "2021-10-25T20:00:10.409918Z",
     "iopub.status.idle": "2021-10-25T20:00:10.415142Z",
     "shell.execute_reply": "2021-10-25T20:00:10.416416Z"
    },
    "papermill": {
     "duration": 0.040099,
     "end_time": "2021-10-25T20:00:10.416947",
     "exception": false,
     "start_time": "2021-10-25T20:00:10.376848",
     "status": "completed"
    },
    "tags": []
   },
   "outputs": [],
   "source": [
    "df_pivot.columns = [\"stamp_1\", \"stamp_2\"]\n",
    "df_pivot_diff = df_pivot.diff(axis=1)"
   ]
  },
  {
   "cell_type": "code",
   "execution_count": 7,
   "id": "fifth-motion",
   "metadata": {
    "execution": {
     "iopub.execute_input": "2021-10-25T20:00:10.471729Z",
     "iopub.status.busy": "2021-10-25T20:00:10.469128Z",
     "iopub.status.idle": "2021-10-25T20:00:11.943005Z",
     "shell.execute_reply": "2021-10-25T20:00:11.944189Z"
    },
    "papermill": {
     "duration": 1.507392,
     "end_time": "2021-10-25T20:00:11.944617",
     "exception": false,
     "start_time": "2021-10-25T20:00:10.437225",
     "status": "completed"
    },
    "tags": []
   },
   "outputs": [
    {
     "data": {
      "text/plain": [
       "<AxesSubplot:ylabel='PRODUCT'>"
      ]
     },
     "execution_count": 7,
     "metadata": {},
     "output_type": "execute_result"
    },
    {
     "data": {
      "image/png": "[encoded data removed]",
      "text/plain": [
       "<Figure size 432x288 with 1 Axes>"
      ]
     },
     "metadata": {
      "needs_background": "light"
     },
     "output_type": "display_data"
    }
   ],
   "source": [
    "df_pivot_diff.sort_values(\"stamp_2\", ascending = False)[\"stamp_2\"].head(10).plot.barh()"
   ]
  },
  {
   "cell_type": "code",
   "execution_count": null,
   "id": "extra-executive",
   "metadata": {
    "papermill": {
     "duration": 0.022249,
     "end_time": "2021-10-25T20:00:11.993273",
     "exception": false,
     "start_time": "2021-10-25T20:00:11.971024",
     "status": "completed"
    },
    "tags": []
   },
   "outputs": [],
   "source": []
  }
 ],
 "metadata": {
  "kernelspec": {
   "display_name": "Python 3",
   "language": "python",
   "name": "python3"
  },
  "language_info": {
   "codemirror_mode": {
    "name": "ipython",
    "version": 3
   },
   "file_extension": ".py",
   "mimetype": "text/x-python",
   "name": "python",
   "nbconvert_exporter": "python",
   "pygments_lexer": "ipython3",
   "version": "3.9.5"
  },
  "papermill": {
   "default_parameters": {},
   "duration": 7.405751,
   "end_time": "2021-10-25T20:00:12.634428",
   "environment_variables": {},
   "exception": null,
   "input_path": "eBay_Overview.ipynb",
   "output_path": "eBay_Overview.ipynb",
   "parameters": {},
   "start_time": "2021-10-25T20:00:05.228677",
   "version": "2.3.3"
  }
 },
 "nbformat": 4,
 "nbformat_minor": 5
}