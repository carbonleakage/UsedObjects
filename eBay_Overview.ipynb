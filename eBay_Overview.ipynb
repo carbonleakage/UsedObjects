{
 "cells": [
  {
   "cell_type": "code",
   "execution_count": 1,
   "id": "reverse-picking",
   "metadata": {
    "execution": {
     "iopub.execute_input": "2021-12-16T19:30:07.673033Z",
     "iopub.status.busy": "2021-12-16T19:30:07.670743Z",
     "iopub.status.idle": "2021-12-16T19:30:08.640652Z",
     "shell.execute_reply": "2021-12-16T19:30:08.642394Z"
    },
    "papermill": {
     "duration": 1.021496,
     "end_time": "2021-12-16T19:30:08.643111",
     "exception": false,
     "start_time": "2021-12-16T19:30:07.621615",
     "status": "completed"
    },
    "tags": []
   },
   "outputs": [],
   "source": [
    "import pandas as pd\n",
    "import sqlite3"
   ]
  },
  {
   "cell_type": "code",
   "execution_count": 2,
   "id": "innovative-syndrome",
   "metadata": {
    "execution": {
     "iopub.execute_input": "2021-12-16T19:30:08.707126Z",
     "iopub.status.busy": "2021-12-16T19:30:08.704821Z",
     "iopub.status.idle": "2021-12-16T19:30:09.787390Z",
     "shell.execute_reply": "2021-12-16T19:30:09.789659Z"
    },
    "papermill": {
     "duration": 1.117531,
     "end_time": "2021-12-16T19:30:09.790145",
     "exception": false,
     "start_time": "2021-12-16T19:30:08.672614",
     "status": "completed"
    },
    "tags": []
   },
   "outputs": [],
   "source": [
    "timestamps = pd.read_sql(\"select distinct record_time from EBAY_TOP_BERLIN order by record_time desc limit 2\", sqlite3.connect(\"UsedObjects.db\"))"
   ]
  },
  {
   "cell_type": "code",
   "execution_count": 3,
   "id": "periodic-identification",
   "metadata": {
    "execution": {
     "iopub.execute_input": "2021-12-16T19:30:09.845673Z",
     "iopub.status.busy": "2021-12-16T19:30:09.843552Z",
     "iopub.status.idle": "2021-12-16T19:30:09.898284Z",
     "shell.execute_reply": "2021-12-16T19:30:09.899812Z"
    },
    "papermill": {
     "duration": 0.088715,
     "end_time": "2021-12-16T19:30:09.900316",
     "exception": false,
     "start_time": "2021-12-16T19:30:09.811601",
     "status": "completed"
    },
    "tags": []
   },
   "outputs": [
    {
     "data": {
      "text/html": [
       "<div>\n",
       "<style scoped>\n",
       "    .dataframe tbody tr th:only-of-type {\n",
       "        vertical-align: middle;\n",
       "    }\n",
       "\n",
       "    .dataframe tbody tr th {\n",
       "        vertical-align: top;\n",
       "    }\n",
       "\n",
       "    .dataframe thead th {\n",
       "        text-align: right;\n",
       "    }\n",
       "</style>\n",
       "<table border=\"1\" class=\"dataframe\">\n",
       "  <thead>\n",
       "    <tr style=\"text-align: right;\">\n",
       "      <th></th>\n",
       "      <th>RECORD_TIME</th>\n",
       "    </tr>\n",
       "  </thead>\n",
       "  <tbody>\n",
       "    <tr>\n",
       "      <th>0</th>\n",
       "      <td>2021-12-16 20:30</td>\n",
       "    </tr>\n",
       "    <tr>\n",
       "      <th>1</th>\n",
       "      <td>2021-12-16 20:00</td>\n",
       "    </tr>\n",
       "  </tbody>\n",
       "</table>\n",
       "</div>"
      ],
      "text/plain": [
       "        RECORD_TIME\n",
       "0  2021-12-16 20:30\n",
       "1  2021-12-16 20:00"
      ]
     },
     "execution_count": 3,
     "metadata": {},
     "output_type": "execute_result"
    }
   ],
   "source": [
    "timestamps"
   ]
  },
  {
   "cell_type": "code",
   "execution_count": 4,
   "id": "alternate-victory",
   "metadata": {
    "execution": {
     "iopub.execute_input": "2021-12-16T19:30:09.956836Z",
     "iopub.status.busy": "2021-12-16T19:30:09.954494Z",
     "iopub.status.idle": "2021-12-16T19:30:11.553455Z",
     "shell.execute_reply": "2021-12-16T19:30:11.555580Z"
    },
    "papermill": {
     "duration": 1.633664,
     "end_time": "2021-12-16T19:30:11.556054",
     "exception": false,
     "start_time": "2021-12-16T19:30:09.922390",
     "status": "completed"
    },
    "tags": []
   },
   "outputs": [],
   "source": [
    "df = pd.read_sql(\"select * from EBAY_TOP_BERLIN where record_time in (select distinct record_time from EBAY_TOP_BERLIN order by record_time desc limit 2)\", sqlite3.connect(\"UsedObjects.db\"))"
   ]
  },
  {
   "cell_type": "code",
   "execution_count": 5,
   "id": "popular-active",
   "metadata": {
    "execution": {
     "iopub.execute_input": "2021-12-16T19:30:11.630745Z",
     "iopub.status.busy": "2021-12-16T19:30:11.621356Z",
     "iopub.status.idle": "2021-12-16T19:30:11.655705Z",
     "shell.execute_reply": "2021-12-16T19:30:11.657246Z"
    },
    "papermill": {
     "duration": 0.080049,
     "end_time": "2021-12-16T19:30:11.657717",
     "exception": false,
     "start_time": "2021-12-16T19:30:11.577668",
     "status": "completed"
    },
    "tags": []
   },
   "outputs": [],
   "source": [
    "df_pivot = df.pivot_table(index=\"PRODUCT\", columns = \"RECORD_TIME\", values = \"LISTING_COUNT\")"
   ]
  },
  {
   "cell_type": "code",
   "execution_count": 6,
   "id": "union-huntington",
   "metadata": {
    "execution": {
     "iopub.execute_input": "2021-12-16T19:30:11.716995Z",
     "iopub.status.busy": "2021-12-16T19:30:11.714717Z",
     "iopub.status.idle": "2021-12-16T19:30:11.722289Z",
     "shell.execute_reply": "2021-12-16T19:30:11.720759Z"
    },
    "papermill": {
     "duration": 0.044371,
     "end_time": "2021-12-16T19:30:11.722695",
     "exception": false,
     "start_time": "2021-12-16T19:30:11.678324",
     "status": "completed"
    },
    "tags": []
   },
   "outputs": [],
   "source": [
    "df_pivot.columns = [\"stamp_1\", \"stamp_2\"]\n",
    "df_pivot_diff = df_pivot.diff(axis=1)"
   ]
  },
  {
   "cell_type": "code",
   "execution_count": 7,
   "id": "fifth-motion",
   "metadata": {
    "execution": {
     "iopub.execute_input": "2021-12-16T19:30:11.779411Z",
     "iopub.status.busy": "2021-12-16T19:30:11.776899Z",
     "iopub.status.idle": "2021-12-16T19:30:13.742832Z",
     "shell.execute_reply": "2021-12-16T19:30:13.744155Z"
    },
    "papermill": {
     "duration": 2.001851,
     "end_time": "2021-12-16T19:30:13.744623",
     "exception": false,
     "start_time": "2021-12-16T19:30:11.742772",
     "status": "completed"
    },
    "tags": []
   },
   "outputs": [
    {
     "data": {
      "text/plain": [
       "<AxesSubplot:ylabel='PRODUCT'>"
      ]
     },
     "execution_count": 7,
     "metadata": {},
     "output_type": "execute_result"
    },
    {
     "data": {
      "image/png": "[encoded data removed]",
      "text/plain": [
       "<Figure size 432x288 with 1 Axes>"
      ]
     },
     "metadata": {
      "needs_background": "light"
     },
     "output_type": "display_data"
    }
   ],
   "source": [
    "df_pivot_diff.sort_values(\"stamp_2\", ascending = False)[\"stamp_2\"].head(10).plot.barh()"
   ]
  },
  {
   "cell_type": "code",
   "execution_count": null,
   "id": "extra-executive",
   "metadata": {
    "papermill": {
     "duration": 0.022276,
     "end_time": "2021-12-16T19:30:13.791893",
     "exception": false,
     "start_time": "2021-12-16T19:30:13.769617",
     "status": "completed"
    },
    "tags": []
   },
   "outputs": [],
   "source": []
  }
 ],
 "metadata": {
  "kernelspec": {
   "display_name": "Python 3",
   "language": "python",
   "name": "python3"
  },
  "language_info": {
   "codemirror_mode": {
    "name": "ipython",
    "version": 3
   },
   "file_extension": ".py",
   "mimetype": "text/x-python",
   "name": "python",
   "nbconvert_exporter": "python",
   "pygments_lexer": "ipython3",
   "version": "3.9.5"
  },
  "papermill": {
   "default_parameters": {},
   "duration": 9.562475,
   "end_time": "2021-12-16T19:30:14.433539",
   "environment_variables": {},
   "exception": null,
   "input_path": "eBay_Overview.ipynb",
   "output_path": "eBay_Overview.ipynb",
   "parameters": {},
   "start_time": "2021-12-16T19:30:04.871064",
   "version": "2.3.3"
  }
 },
 "nbformat": 4,
 "nbformat_minor": 5
}