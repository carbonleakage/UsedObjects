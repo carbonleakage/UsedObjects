{
 "cells": [
  {
   "cell_type": "code",
   "execution_count": 1,
   "id": "reverse-picking",
   "metadata": {
    "execution": {
     "iopub.execute_input": "2021-09-20T17:30:06.817486Z",
     "iopub.status.busy": "2021-09-20T17:30:06.815498Z",
     "iopub.status.idle": "2021-09-20T17:30:07.617392Z",
     "shell.execute_reply": "2021-09-20T17:30:07.618608Z"
    },
    "papermill": {
     "duration": 0.854593,
     "end_time": "2021-09-20T17:30:07.619384",
     "exception": false,
     "start_time": "2021-09-20T17:30:06.764791",
     "status": "completed"
    },
    "tags": []
   },
   "outputs": [],
   "source": [
    "import pandas as pd\n",
    "import sqlite3"
   ]
  },
  {
   "cell_type": "code",
   "execution_count": 2,
   "id": "innovative-syndrome",
   "metadata": {
    "execution": {
     "iopub.execute_input": "2021-09-20T17:30:07.670836Z",
     "iopub.status.busy": "2021-09-20T17:30:07.668731Z",
     "iopub.status.idle": "2021-09-20T17:30:08.003125Z",
     "shell.execute_reply": "2021-09-20T17:30:08.004447Z"
    },
    "papermill": {
     "duration": 0.365033,
     "end_time": "2021-09-20T17:30:08.004872",
     "exception": false,
     "start_time": "2021-09-20T17:30:07.639839",
     "status": "completed"
    },
    "tags": []
   },
   "outputs": [],
   "source": [
    "timestamps = pd.read_sql(\"select distinct record_time from EBAY_TOP_BERLIN order by record_time desc limit 2\", sqlite3.connect(\"UsedObjects.db\"))"
   ]
  },
  {
   "cell_type": "code",
   "execution_count": 3,
   "id": "periodic-identification",
   "metadata": {
    "execution": {
     "iopub.execute_input": "2021-09-20T17:30:08.070460Z",
     "iopub.status.busy": "2021-09-20T17:30:08.068425Z",
     "iopub.status.idle": "2021-09-20T17:30:08.088497Z",
     "shell.execute_reply": "2021-09-20T17:30:08.089779Z"
    },
    "papermill": {
     "duration": 0.064765,
     "end_time": "2021-09-20T17:30:08.090197",
     "exception": false,
     "start_time": "2021-09-20T17:30:08.025432",
     "status": "completed"
    },
    "tags": []
   },
   "outputs": [
    {
     "data": {
      "text/html": [
       "<div>\n",
       "<style scoped>\n",
       "    .dataframe tbody tr th:only-of-type {\n",
       "        vertical-align: middle;\n",
       "    }\n",
       "\n",
       "    .dataframe tbody tr th {\n",
       "        vertical-align: top;\n",
       "    }\n",
       "\n",
       "    .dataframe thead th {\n",
       "        text-align: right;\n",
       "    }\n",
       "</style>\n",
       "<table border=\"1\" class=\"dataframe\">\n",
       "  <thead>\n",
       "    <tr style=\"text-align: right;\">\n",
       "      <th></th>\n",
       "      <th>RECORD_TIME</th>\n",
       "    </tr>\n",
       "  </thead>\n",
       "  <tbody>\n",
       "    <tr>\n",
       "      <th>0</th>\n",
       "      <td>2021-09-20 19:30</td>\n",
       "    </tr>\n",
       "    <tr>\n",
       "      <th>1</th>\n",
       "      <td>2021-09-20 19:00</td>\n",
       "    </tr>\n",
       "  </tbody>\n",
       "</table>\n",
       "</div>"
      ],
      "text/plain": [
       "        RECORD_TIME\n",
       "0  2021-09-20 19:30\n",
       "1  2021-09-20 19:00"
      ]
     },
     "execution_count": 3,
     "metadata": {},
     "output_type": "execute_result"
    }
   ],
   "source": [
    "timestamps"
   ]
  },
  {
   "cell_type": "code",
   "execution_count": 4,
   "id": "alternate-victory",
   "metadata": {
    "execution": {
     "iopub.execute_input": "2021-09-20T17:30:08.142775Z",
     "iopub.status.busy": "2021-09-20T17:30:08.140481Z",
     "iopub.status.idle": "2021-09-20T17:30:08.623993Z",
     "shell.execute_reply": "2021-09-20T17:30:08.625212Z"
    },
    "papermill": {
     "duration": 0.514037,
     "end_time": "2021-09-20T17:30:08.625609",
     "exception": false,
     "start_time": "2021-09-20T17:30:08.111572",
     "status": "completed"
    },
    "tags": []
   },
   "outputs": [],
   "source": [
    "df = pd.read_sql(\"select * from EBAY_TOP_BERLIN where record_time in (select distinct record_time from EBAY_TOP_BERLIN order by record_time desc limit 2)\", sqlite3.connect(\"UsedObjects.db\"))"
   ]
  },
  {
   "cell_type": "code",
   "execution_count": 5,
   "id": "popular-active",
   "metadata": {
    "execution": {
     "iopub.execute_input": "2021-09-20T17:30:08.698851Z",
     "iopub.status.busy": "2021-09-20T17:30:08.686404Z",
     "iopub.status.idle": "2021-09-20T17:30:08.714465Z",
     "shell.execute_reply": "2021-09-20T17:30:08.715848Z"
    },
    "papermill": {
     "duration": 0.068047,
     "end_time": "2021-09-20T17:30:08.716281",
     "exception": false,
     "start_time": "2021-09-20T17:30:08.648234",
     "status": "completed"
    },
    "tags": []
   },
   "outputs": [],
   "source": [
    "df_pivot = df.pivot_table(index=\"PRODUCT\", columns = \"RECORD_TIME\", values = \"LISTING_COUNT\")"
   ]
  },
  {
   "cell_type": "code",
   "execution_count": 6,
   "id": "union-huntington",
   "metadata": {
    "execution": {
     "iopub.execute_input": "2021-09-20T17:30:08.772369Z",
     "iopub.status.busy": "2021-09-20T17:30:08.770232Z",
     "iopub.status.idle": "2021-09-20T17:30:08.775630Z",
     "shell.execute_reply": "2021-09-20T17:30:08.776978Z"
    },
    "papermill": {
     "duration": 0.040718,
     "end_time": "2021-09-20T17:30:08.777393",
     "exception": false,
     "start_time": "2021-09-20T17:30:08.736675",
     "status": "completed"
    },
    "tags": []
   },
   "outputs": [],
   "source": [
    "df_pivot.columns = [\"stamp_1\", \"stamp_2\"]\n",
    "df_pivot_diff = df_pivot.diff(axis=1)"
   ]
  },
  {
   "cell_type": "code",
   "execution_count": 7,
   "id": "fifth-motion",
   "metadata": {
    "execution": {
     "iopub.execute_input": "2021-09-20T17:30:08.833702Z",
     "iopub.status.busy": "2021-09-20T17:30:08.831025Z",
     "iopub.status.idle": "2021-09-20T17:30:10.326066Z",
     "shell.execute_reply": "2021-09-20T17:30:10.327635Z"
    },
    "papermill": {
     "duration": 1.529153,
     "end_time": "2021-09-20T17:30:10.328120",
     "exception": false,
     "start_time": "2021-09-20T17:30:08.798967",
     "status": "completed"
    },
    "tags": []
   },
   "outputs": [
    {
     "data": {
      "text/plain": [
       "<AxesSubplot:ylabel='PRODUCT'>"
      ]
     },
     "execution_count": 7,
     "metadata": {},
     "output_type": "execute_result"
    },
    {
     "data": {
      "image/png": "[encoded data removed]",
      "text/plain": [
       "<Figure size 432x288 with 1 Axes>"
      ]
     },
     "metadata": {
      "needs_background": "light"
     },
     "output_type": "display_data"
    }
   ],
   "source": [
    "df_pivot_diff.sort_values(\"stamp_2\", ascending = False)[\"stamp_2\"].head(10).plot.barh()"
   ]
  },
  {
   "cell_type": "code",
   "execution_count": null,
   "id": "extra-executive",
   "metadata": {
    "papermill": {
     "duration": 0.022583,
     "end_time": "2021-09-20T17:30:10.375692",
     "exception": false,
     "start_time": "2021-09-20T17:30:10.353109",
     "status": "completed"
    },
    "tags": []
   },
   "outputs": [],
   "source": []
  }
 ],
 "metadata": {
  "kernelspec": {
   "display_name": "Python 3",
   "language": "python",
   "name": "python3"
  },
  "language_info": {
   "codemirror_mode": {
    "name": "ipython",
    "version": 3
   },
   "file_extension": ".py",
   "mimetype": "text/x-python",
   "name": "python",
   "nbconvert_exporter": "python",
   "pygments_lexer": "ipython3",
   "version": "3.9.5"
  },
  "papermill": {
   "default_parameters": {},
   "duration": 6.648095,
   "end_time": "2021-09-20T17:30:11.017756",
   "environment_variables": {},
   "exception": null,
   "input_path": "eBay_Overview.ipynb",
   "output_path": "eBay_Overview.ipynb",
   "parameters": {},
   "start_time": "2021-09-20T17:30:04.369661",
   "version": "2.3.3"
  }
 },
 "nbformat": 4,
 "nbformat_minor": 5
}