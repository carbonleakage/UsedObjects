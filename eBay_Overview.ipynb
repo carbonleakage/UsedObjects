{
 "cells": [
  {
   "cell_type": "code",
   "execution_count": 1,
   "id": "reverse-picking",
   "metadata": {
    "execution": {
     "iopub.execute_input": "2021-09-03T17:30:07.293257Z",
     "iopub.status.busy": "2021-09-03T17:30:07.291308Z",
     "iopub.status.idle": "2021-09-03T17:30:08.096651Z",
     "shell.execute_reply": "2021-09-03T17:30:08.097899Z"
    },
    "papermill": {
     "duration": 0.857188,
     "end_time": "2021-09-03T17:30:08.098528",
     "exception": false,
     "start_time": "2021-09-03T17:30:07.241340",
     "status": "completed"
    },
    "tags": []
   },
   "outputs": [],
   "source": [
    "import pandas as pd\n",
    "import sqlite3"
   ]
  },
  {
   "cell_type": "code",
   "execution_count": 2,
   "id": "innovative-syndrome",
   "metadata": {
    "execution": {
     "iopub.execute_input": "2021-09-03T17:30:08.149780Z",
     "iopub.status.busy": "2021-09-03T17:30:08.147927Z",
     "iopub.status.idle": "2021-09-03T17:30:08.351695Z",
     "shell.execute_reply": "2021-09-03T17:30:08.352914Z"
    },
    "papermill": {
     "duration": 0.233553,
     "end_time": "2021-09-03T17:30:08.353312",
     "exception": false,
     "start_time": "2021-09-03T17:30:08.119759",
     "status": "completed"
    },
    "tags": []
   },
   "outputs": [],
   "source": [
    "timestamps = pd.read_sql(\"select distinct record_time from EBAY_TOP_BERLIN order by record_time desc limit 2\", sqlite3.connect(\"UsedObjects.db\"))"
   ]
  },
  {
   "cell_type": "code",
   "execution_count": 3,
   "id": "periodic-identification",
   "metadata": {
    "execution": {
     "iopub.execute_input": "2021-09-03T17:30:08.422702Z",
     "iopub.status.busy": "2021-09-03T17:30:08.417658Z",
     "iopub.status.idle": "2021-09-03T17:30:08.437615Z",
     "shell.execute_reply": "2021-09-03T17:30:08.438954Z"
    },
    "papermill": {
     "duration": 0.065334,
     "end_time": "2021-09-03T17:30:08.439380",
     "exception": false,
     "start_time": "2021-09-03T17:30:08.374046",
     "status": "completed"
    },
    "tags": []
   },
   "outputs": [
    {
     "data": {
      "text/html": [
       "<div>\n",
       "<style scoped>\n",
       "    .dataframe tbody tr th:only-of-type {\n",
       "        vertical-align: middle;\n",
       "    }\n",
       "\n",
       "    .dataframe tbody tr th {\n",
       "        vertical-align: top;\n",
       "    }\n",
       "\n",
       "    .dataframe thead th {\n",
       "        text-align: right;\n",
       "    }\n",
       "</style>\n",
       "<table border=\"1\" class=\"dataframe\">\n",
       "  <thead>\n",
       "    <tr style=\"text-align: right;\">\n",
       "      <th></th>\n",
       "      <th>RECORD_TIME</th>\n",
       "    </tr>\n",
       "  </thead>\n",
       "  <tbody>\n",
       "    <tr>\n",
       "      <th>0</th>\n",
       "      <td>2021-09-03 19:30</td>\n",
       "    </tr>\n",
       "    <tr>\n",
       "      <th>1</th>\n",
       "      <td>2021-09-03 19:00</td>\n",
       "    </tr>\n",
       "  </tbody>\n",
       "</table>\n",
       "</div>"
      ],
      "text/plain": [
       "        RECORD_TIME\n",
       "0  2021-09-03 19:30\n",
       "1  2021-09-03 19:00"
      ]
     },
     "execution_count": 3,
     "metadata": {},
     "output_type": "execute_result"
    }
   ],
   "source": [
    "timestamps"
   ]
  },
  {
   "cell_type": "code",
   "execution_count": 4,
   "id": "alternate-victory",
   "metadata": {
    "execution": {
     "iopub.execute_input": "2021-09-03T17:30:08.490590Z",
     "iopub.status.busy": "2021-09-03T17:30:08.488772Z",
     "iopub.status.idle": "2021-09-03T17:30:08.788749Z",
     "shell.execute_reply": "2021-09-03T17:30:08.789957Z"
    },
    "papermill": {
     "duration": 0.330165,
     "end_time": "2021-09-03T17:30:08.790356",
     "exception": false,
     "start_time": "2021-09-03T17:30:08.460191",
     "status": "completed"
    },
    "tags": []
   },
   "outputs": [],
   "source": [
    "df = pd.read_sql(\"select * from EBAY_TOP_BERLIN where record_time in (select distinct record_time from EBAY_TOP_BERLIN order by record_time desc limit 2)\", sqlite3.connect(\"UsedObjects.db\"))"
   ]
  },
  {
   "cell_type": "code",
   "execution_count": 5,
   "id": "popular-active",
   "metadata": {
    "execution": {
     "iopub.execute_input": "2021-09-03T17:30:08.871739Z",
     "iopub.status.busy": "2021-09-03T17:30:08.859765Z",
     "iopub.status.idle": "2021-09-03T17:30:08.887303Z",
     "shell.execute_reply": "2021-09-03T17:30:08.888506Z"
    },
    "papermill": {
     "duration": 0.070344,
     "end_time": "2021-09-03T17:30:08.888904",
     "exception": false,
     "start_time": "2021-09-03T17:30:08.818560",
     "status": "completed"
    },
    "tags": []
   },
   "outputs": [],
   "source": [
    "df_pivot = df.pivot_table(index=\"PRODUCT\", columns = \"RECORD_TIME\", values = \"LISTING_COUNT\")"
   ]
  },
  {
   "cell_type": "code",
   "execution_count": 6,
   "id": "union-huntington",
   "metadata": {
    "execution": {
     "iopub.execute_input": "2021-09-03T17:30:08.948425Z",
     "iopub.status.busy": "2021-09-03T17:30:08.945937Z",
     "iopub.status.idle": "2021-09-03T17:30:08.952233Z",
     "shell.execute_reply": "2021-09-03T17:30:08.953676Z"
    },
    "papermill": {
     "duration": 0.042759,
     "end_time": "2021-09-03T17:30:08.954138",
     "exception": false,
     "start_time": "2021-09-03T17:30:08.911379",
     "status": "completed"
    },
    "tags": []
   },
   "outputs": [],
   "source": [
    "df_pivot.columns = [\"stamp_1\", \"stamp_2\"]\n",
    "df_pivot_diff = df_pivot.diff(axis=1)"
   ]
  },
  {
   "cell_type": "code",
   "execution_count": 7,
   "id": "fifth-motion",
   "metadata": {
    "execution": {
     "iopub.execute_input": "2021-09-03T17:30:09.011242Z",
     "iopub.status.busy": "2021-09-03T17:30:09.007127Z",
     "iopub.status.idle": "2021-09-03T17:30:10.484068Z",
     "shell.execute_reply": "2021-09-03T17:30:10.485440Z"
    },
    "papermill": {
     "duration": 1.510103,
     "end_time": "2021-09-03T17:30:10.485886",
     "exception": false,
     "start_time": "2021-09-03T17:30:08.975783",
     "status": "completed"
    },
    "tags": []
   },
   "outputs": [
    {
     "data": {
      "text/plain": [
       "<AxesSubplot:ylabel='PRODUCT'>"
      ]
     },
     "execution_count": 7,
     "metadata": {},
     "output_type": "execute_result"
    },
    {
     "data": {
      "image/png": "[encoded data removed]",
      "text/plain": [
       "<Figure size 432x288 with 1 Axes>"
      ]
     },
     "metadata": {
      "needs_background": "light"
     },
     "output_type": "display_data"
    }
   ],
   "source": [
    "df_pivot_diff.sort_values(\"stamp_2\", ascending = False)[\"stamp_2\"].head(10).plot.barh()"
   ]
  },
  {
   "cell_type": "code",
   "execution_count": null,
   "id": "extra-executive",
   "metadata": {
    "papermill": {
     "duration": 0.022041,
     "end_time": "2021-09-03T17:30:10.531438",
     "exception": false,
     "start_time": "2021-09-03T17:30:10.509397",
     "status": "completed"
    },
    "tags": []
   },
   "outputs": [],
   "source": []
  }
 ],
 "metadata": {
  "kernelspec": {
   "display_name": "Python 3",
   "language": "python",
   "name": "python3"
  },
  "language_info": {
   "codemirror_mode": {
    "name": "ipython",
    "version": 3
   },
   "file_extension": ".py",
   "mimetype": "text/x-python",
   "name": "python",
   "nbconvert_exporter": "python",
   "pygments_lexer": "ipython3",
   "version": "3.9.5"
  },
  "papermill": {
   "default_parameters": {},
   "duration": 6.341141,
   "end_time": "2021-09-03T17:30:11.172834",
   "environment_variables": {},
   "exception": null,
   "input_path": "eBay_Overview.ipynb",
   "output_path": "eBay_Overview.ipynb",
   "parameters": {},
   "start_time": "2021-09-03T17:30:04.831693",
   "version": "2.3.3"
  }
 },
 "nbformat": 4,
 "nbformat_minor": 5
}