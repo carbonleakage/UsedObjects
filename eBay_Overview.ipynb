{
 "cells": [
  {
   "cell_type": "code",
   "execution_count": 1,
   "id": "reverse-picking",
   "metadata": {
    "execution": {
     "iopub.execute_input": "2021-09-10T16:30:07.236274Z",
     "iopub.status.busy": "2021-09-10T16:30:07.234212Z",
     "iopub.status.idle": "2021-09-10T16:30:08.044733Z",
     "shell.execute_reply": "2021-09-10T16:30:08.046758Z"
    },
    "papermill": {
     "duration": 0.861331,
     "end_time": "2021-09-10T16:30:08.047511",
     "exception": false,
     "start_time": "2021-09-10T16:30:07.186180",
     "status": "completed"
    },
    "tags": []
   },
   "outputs": [],
   "source": [
    "import pandas as pd\n",
    "import sqlite3"
   ]
  },
  {
   "cell_type": "code",
   "execution_count": 2,
   "id": "innovative-syndrome",
   "metadata": {
    "execution": {
     "iopub.execute_input": "2021-09-10T16:30:08.099618Z",
     "iopub.status.busy": "2021-09-10T16:30:08.097560Z",
     "iopub.status.idle": "2021-09-10T16:30:08.353995Z",
     "shell.execute_reply": "2021-09-10T16:30:08.355396Z"
    },
    "papermill": {
     "duration": 0.286625,
     "end_time": "2021-09-10T16:30:08.355817",
     "exception": false,
     "start_time": "2021-09-10T16:30:08.069192",
     "status": "completed"
    },
    "tags": []
   },
   "outputs": [],
   "source": [
    "timestamps = pd.read_sql(\"select distinct record_time from EBAY_TOP_BERLIN order by record_time desc limit 2\", sqlite3.connect(\"UsedObjects.db\"))"
   ]
  },
  {
   "cell_type": "code",
   "execution_count": 3,
   "id": "periodic-identification",
   "metadata": {
    "execution": {
     "iopub.execute_input": "2021-09-10T16:30:08.422503Z",
     "iopub.status.busy": "2021-09-10T16:30:08.420461Z",
     "iopub.status.idle": "2021-09-10T16:30:08.442580Z",
     "shell.execute_reply": "2021-09-10T16:30:08.444300Z"
    },
    "papermill": {
     "duration": 0.06817,
     "end_time": "2021-09-10T16:30:08.444799",
     "exception": false,
     "start_time": "2021-09-10T16:30:08.376629",
     "status": "completed"
    },
    "tags": []
   },
   "outputs": [
    {
     "data": {
      "text/html": [
       "<div>\n",
       "<style scoped>\n",
       "    .dataframe tbody tr th:only-of-type {\n",
       "        vertical-align: middle;\n",
       "    }\n",
       "\n",
       "    .dataframe tbody tr th {\n",
       "        vertical-align: top;\n",
       "    }\n",
       "\n",
       "    .dataframe thead th {\n",
       "        text-align: right;\n",
       "    }\n",
       "</style>\n",
       "<table border=\"1\" class=\"dataframe\">\n",
       "  <thead>\n",
       "    <tr style=\"text-align: right;\">\n",
       "      <th></th>\n",
       "      <th>RECORD_TIME</th>\n",
       "    </tr>\n",
       "  </thead>\n",
       "  <tbody>\n",
       "    <tr>\n",
       "      <th>0</th>\n",
       "      <td>2021-09-10 18:30</td>\n",
       "    </tr>\n",
       "    <tr>\n",
       "      <th>1</th>\n",
       "      <td>2021-09-10 18:00</td>\n",
       "    </tr>\n",
       "  </tbody>\n",
       "</table>\n",
       "</div>"
      ],
      "text/plain": [
       "        RECORD_TIME\n",
       "0  2021-09-10 18:30\n",
       "1  2021-09-10 18:00"
      ]
     },
     "execution_count": 3,
     "metadata": {},
     "output_type": "execute_result"
    }
   ],
   "source": [
    "timestamps"
   ]
  },
  {
   "cell_type": "code",
   "execution_count": 4,
   "id": "alternate-victory",
   "metadata": {
    "execution": {
     "iopub.execute_input": "2021-09-10T16:30:08.496712Z",
     "iopub.status.busy": "2021-09-10T16:30:08.494779Z",
     "iopub.status.idle": "2021-09-10T16:30:08.880448Z",
     "shell.execute_reply": "2021-09-10T16:30:08.881682Z"
    },
    "papermill": {
     "duration": 0.415674,
     "end_time": "2021-09-10T16:30:08.882074",
     "exception": false,
     "start_time": "2021-09-10T16:30:08.466400",
     "status": "completed"
    },
    "tags": []
   },
   "outputs": [],
   "source": [
    "df = pd.read_sql(\"select * from EBAY_TOP_BERLIN where record_time in (select distinct record_time from EBAY_TOP_BERLIN order by record_time desc limit 2)\", sqlite3.connect(\"UsedObjects.db\"))"
   ]
  },
  {
   "cell_type": "code",
   "execution_count": 5,
   "id": "popular-active",
   "metadata": {
    "execution": {
     "iopub.execute_input": "2021-09-10T16:30:08.961813Z",
     "iopub.status.busy": "2021-09-10T16:30:08.955818Z",
     "iopub.status.idle": "2021-09-10T16:30:08.977408Z",
     "shell.execute_reply": "2021-09-10T16:30:08.978690Z"
    },
    "papermill": {
     "duration": 0.071109,
     "end_time": "2021-09-10T16:30:08.979157",
     "exception": false,
     "start_time": "2021-09-10T16:30:08.908048",
     "status": "completed"
    },
    "tags": []
   },
   "outputs": [],
   "source": [
    "df_pivot = df.pivot_table(index=\"PRODUCT\", columns = \"RECORD_TIME\", values = \"LISTING_COUNT\")"
   ]
  },
  {
   "cell_type": "code",
   "execution_count": 6,
   "id": "union-huntington",
   "metadata": {
    "execution": {
     "iopub.execute_input": "2021-09-10T16:30:09.035262Z",
     "iopub.status.busy": "2021-09-10T16:30:09.033152Z",
     "iopub.status.idle": "2021-09-10T16:30:09.038319Z",
     "shell.execute_reply": "2021-09-10T16:30:09.039678Z"
    },
    "papermill": {
     "duration": 0.040827,
     "end_time": "2021-09-10T16:30:09.040105",
     "exception": false,
     "start_time": "2021-09-10T16:30:08.999278",
     "status": "completed"
    },
    "tags": []
   },
   "outputs": [],
   "source": [
    "df_pivot.columns = [\"stamp_1\", \"stamp_2\"]\n",
    "df_pivot_diff = df_pivot.diff(axis=1)"
   ]
  },
  {
   "cell_type": "code",
   "execution_count": 7,
   "id": "fifth-motion",
   "metadata": {
    "execution": {
     "iopub.execute_input": "2021-09-10T16:30:09.095360Z",
     "iopub.status.busy": "2021-09-10T16:30:09.092876Z",
     "iopub.status.idle": "2021-09-10T16:30:10.598151Z",
     "shell.execute_reply": "2021-09-10T16:30:10.599744Z"
    },
    "papermill": {
     "duration": 1.53868,
     "end_time": "2021-09-10T16:30:10.600227",
     "exception": false,
     "start_time": "2021-09-10T16:30:09.061547",
     "status": "completed"
    },
    "tags": []
   },
   "outputs": [
    {
     "data": {
      "text/plain": [
       "<AxesSubplot:ylabel='PRODUCT'>"
      ]
     },
     "execution_count": 7,
     "metadata": {},
     "output_type": "execute_result"
    },
    {
     "data": {
      "image/png": "[encoded data removed]",
      "text/plain": [
       "<Figure size 432x288 with 1 Axes>"
      ]
     },
     "metadata": {
      "needs_background": "light"
     },
     "output_type": "display_data"
    }
   ],
   "source": [
    "df_pivot_diff.sort_values(\"stamp_2\", ascending = False)[\"stamp_2\"].head(10).plot.barh()"
   ]
  },
  {
   "cell_type": "code",
   "execution_count": null,
   "id": "extra-executive",
   "metadata": {
    "papermill": {
     "duration": 0.022197,
     "end_time": "2021-09-10T16:30:10.646172",
     "exception": false,
     "start_time": "2021-09-10T16:30:10.623975",
     "status": "completed"
    },
    "tags": []
   },
   "outputs": [],
   "source": []
  }
 ],
 "metadata": {
  "kernelspec": {
   "display_name": "Python 3",
   "language": "python",
   "name": "python3"
  },
  "language_info": {
   "codemirror_mode": {
    "name": "ipython",
    "version": 3
   },
   "file_extension": ".py",
   "mimetype": "text/x-python",
   "name": "python",
   "nbconvert_exporter": "python",
   "pygments_lexer": "ipython3",
   "version": "3.9.5"
  },
  "papermill": {
   "default_parameters": {},
   "duration": 6.521833,
   "end_time": "2021-09-10T16:30:11.286640",
   "environment_variables": {},
   "exception": null,
   "input_path": "eBay_Overview.ipynb",
   "output_path": "eBay_Overview.ipynb",
   "parameters": {},
   "start_time": "2021-09-10T16:30:04.764807",
   "version": "2.3.3"
  }
 },
 "nbformat": 4,
 "nbformat_minor": 5
}