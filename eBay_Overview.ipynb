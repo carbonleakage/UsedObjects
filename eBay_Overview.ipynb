{
 "cells": [
  {
   "cell_type": "code",
   "execution_count": 1,
   "id": "reverse-picking",
   "metadata": {
    "execution": {
     "iopub.execute_input": "2021-10-20T03:30:06.714932Z",
     "iopub.status.busy": "2021-10-20T03:30:06.712954Z",
     "iopub.status.idle": "2021-10-20T03:30:07.522312Z",
     "shell.execute_reply": "2021-10-20T03:30:07.523645Z"
    },
    "papermill": {
     "duration": 0.863536,
     "end_time": "2021-10-20T03:30:07.524338",
     "exception": false,
     "start_time": "2021-10-20T03:30:06.660802",
     "status": "completed"
    },
    "tags": []
   },
   "outputs": [],
   "source": [
    "import pandas as pd\n",
    "import sqlite3"
   ]
  },
  {
   "cell_type": "code",
   "execution_count": 2,
   "id": "innovative-syndrome",
   "metadata": {
    "execution": {
     "iopub.execute_input": "2021-10-20T03:30:07.577322Z",
     "iopub.status.busy": "2021-10-20T03:30:07.574868Z",
     "iopub.status.idle": "2021-10-20T03:30:08.169636Z",
     "shell.execute_reply": "2021-10-20T03:30:08.170916Z"
    },
    "papermill": {
     "duration": 0.624673,
     "end_time": "2021-10-20T03:30:08.171315",
     "exception": false,
     "start_time": "2021-10-20T03:30:07.546642",
     "status": "completed"
    },
    "tags": []
   },
   "outputs": [],
   "source": [
    "timestamps = pd.read_sql(\"select distinct record_time from EBAY_TOP_BERLIN order by record_time desc limit 2\", sqlite3.connect(\"UsedObjects.db\"))"
   ]
  },
  {
   "cell_type": "code",
   "execution_count": 3,
   "id": "periodic-identification",
   "metadata": {
    "execution": {
     "iopub.execute_input": "2021-10-20T03:30:08.249782Z",
     "iopub.status.busy": "2021-10-20T03:30:08.247651Z",
     "iopub.status.idle": "2021-10-20T03:30:08.267435Z",
     "shell.execute_reply": "2021-10-20T03:30:08.268654Z"
    },
    "papermill": {
     "duration": 0.06994,
     "end_time": "2021-10-20T03:30:08.269279",
     "exception": false,
     "start_time": "2021-10-20T03:30:08.199339",
     "status": "completed"
    },
    "tags": []
   },
   "outputs": [
    {
     "data": {
      "text/html": [
       "<div>\n",
       "<style scoped>\n",
       "    .dataframe tbody tr th:only-of-type {\n",
       "        vertical-align: middle;\n",
       "    }\n",
       "\n",
       "    .dataframe tbody tr th {\n",
       "        vertical-align: top;\n",
       "    }\n",
       "\n",
       "    .dataframe thead th {\n",
       "        text-align: right;\n",
       "    }\n",
       "</style>\n",
       "<table border=\"1\" class=\"dataframe\">\n",
       "  <thead>\n",
       "    <tr style=\"text-align: right;\">\n",
       "      <th></th>\n",
       "      <th>RECORD_TIME</th>\n",
       "    </tr>\n",
       "  </thead>\n",
       "  <tbody>\n",
       "    <tr>\n",
       "      <th>0</th>\n",
       "      <td>2021-10-20 05:30</td>\n",
       "    </tr>\n",
       "    <tr>\n",
       "      <th>1</th>\n",
       "      <td>2021-10-20 05:00</td>\n",
       "    </tr>\n",
       "  </tbody>\n",
       "</table>\n",
       "</div>"
      ],
      "text/plain": [
       "        RECORD_TIME\n",
       "0  2021-10-20 05:30\n",
       "1  2021-10-20 05:00"
      ]
     },
     "execution_count": 3,
     "metadata": {},
     "output_type": "execute_result"
    }
   ],
   "source": [
    "timestamps"
   ]
  },
  {
   "cell_type": "code",
   "execution_count": 4,
   "id": "alternate-victory",
   "metadata": {
    "execution": {
     "iopub.execute_input": "2021-10-20T03:30:08.321597Z",
     "iopub.status.busy": "2021-10-20T03:30:08.319654Z",
     "iopub.status.idle": "2021-10-20T03:30:09.208643Z",
     "shell.execute_reply": "2021-10-20T03:30:09.209941Z"
    },
    "papermill": {
     "duration": 0.920053,
     "end_time": "2021-10-20T03:30:09.210340",
     "exception": false,
     "start_time": "2021-10-20T03:30:08.290287",
     "status": "completed"
    },
    "tags": []
   },
   "outputs": [],
   "source": [
    "df = pd.read_sql(\"select * from EBAY_TOP_BERLIN where record_time in (select distinct record_time from EBAY_TOP_BERLIN order by record_time desc limit 2)\", sqlite3.connect(\"UsedObjects.db\"))"
   ]
  },
  {
   "cell_type": "code",
   "execution_count": 5,
   "id": "popular-active",
   "metadata": {
    "execution": {
     "iopub.execute_input": "2021-10-20T03:30:09.278138Z",
     "iopub.status.busy": "2021-10-20T03:30:09.267203Z",
     "iopub.status.idle": "2021-10-20T03:30:09.294610Z",
     "shell.execute_reply": "2021-10-20T03:30:09.295822Z"
    },
    "papermill": {
     "duration": 0.065414,
     "end_time": "2021-10-20T03:30:09.296216",
     "exception": false,
     "start_time": "2021-10-20T03:30:09.230802",
     "status": "completed"
    },
    "tags": []
   },
   "outputs": [],
   "source": [
    "df_pivot = df.pivot_table(index=\"PRODUCT\", columns = \"RECORD_TIME\", values = \"LISTING_COUNT\")"
   ]
  },
  {
   "cell_type": "code",
   "execution_count": 6,
   "id": "union-huntington",
   "metadata": {
    "execution": {
     "iopub.execute_input": "2021-10-20T03:30:09.355029Z",
     "iopub.status.busy": "2021-10-20T03:30:09.353024Z",
     "iopub.status.idle": "2021-10-20T03:30:09.358436Z",
     "shell.execute_reply": "2021-10-20T03:30:09.359715Z"
    },
    "papermill": {
     "duration": 0.041525,
     "end_time": "2021-10-20T03:30:09.360160",
     "exception": false,
     "start_time": "2021-10-20T03:30:09.318635",
     "status": "completed"
    },
    "tags": []
   },
   "outputs": [],
   "source": [
    "df_pivot.columns = [\"stamp_1\", \"stamp_2\"]\n",
    "df_pivot_diff = df_pivot.diff(axis=1)"
   ]
  },
  {
   "cell_type": "code",
   "execution_count": 7,
   "id": "fifth-motion",
   "metadata": {
    "execution": {
     "iopub.execute_input": "2021-10-20T03:30:09.414990Z",
     "iopub.status.busy": "2021-10-20T03:30:09.412492Z",
     "iopub.status.idle": "2021-10-20T03:30:10.895354Z",
     "shell.execute_reply": "2021-10-20T03:30:10.896800Z"
    },
    "papermill": {
     "duration": 1.516361,
     "end_time": "2021-10-20T03:30:10.897247",
     "exception": false,
     "start_time": "2021-10-20T03:30:09.380886",
     "status": "completed"
    },
    "tags": []
   },
   "outputs": [
    {
     "data": {
      "text/plain": [
       "<AxesSubplot:ylabel='PRODUCT'>"
      ]
     },
     "execution_count": 7,
     "metadata": {},
     "output_type": "execute_result"
    },
    {
     "data": {
      "image/png": "[encoded data removed]",
      "text/plain": [
       "<Figure size 432x288 with 1 Axes>"
      ]
     },
     "metadata": {
      "needs_background": "light"
     },
     "output_type": "display_data"
    }
   ],
   "source": [
    "df_pivot_diff.sort_values(\"stamp_2\", ascending = False)[\"stamp_2\"].head(10).plot.barh()"
   ]
  },
  {
   "cell_type": "code",
   "execution_count": null,
   "id": "extra-executive",
   "metadata": {
    "papermill": {
     "duration": 0.021878,
     "end_time": "2021-10-20T03:30:10.943835",
     "exception": false,
     "start_time": "2021-10-20T03:30:10.921957",
     "status": "completed"
    },
    "tags": []
   },
   "outputs": [],
   "source": []
  }
 ],
 "metadata": {
  "kernelspec": {
   "display_name": "Python 3",
   "language": "python",
   "name": "python3"
  },
  "language_info": {
   "codemirror_mode": {
    "name": "ipython",
    "version": 3
   },
   "file_extension": ".py",
   "mimetype": "text/x-python",
   "name": "python",
   "nbconvert_exporter": "python",
   "pygments_lexer": "ipython3",
   "version": "3.9.5"
  },
  "papermill": {
   "default_parameters": {},
   "duration": 7.337605,
   "end_time": "2021-10-20T03:30:11.584041",
   "environment_variables": {},
   "exception": null,
   "input_path": "eBay_Overview.ipynb",
   "output_path": "eBay_Overview.ipynb",
   "parameters": {},
   "start_time": "2021-10-20T03:30:04.246436",
   "version": "2.3.3"
  }
 },
 "nbformat": 4,
 "nbformat_minor": 5
}