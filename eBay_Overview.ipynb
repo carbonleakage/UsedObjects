{
 "cells": [
  {
   "cell_type": "code",
   "execution_count": 1,
   "id": "reverse-picking",
   "metadata": {
    "execution": {
     "iopub.execute_input": "2021-08-24T06:00:07.348612Z",
     "iopub.status.busy": "2021-08-24T06:00:07.346655Z",
     "iopub.status.idle": "2021-08-24T06:00:08.151687Z",
     "shell.execute_reply": "2021-08-24T06:00:08.152940Z"
    },
    "papermill": {
     "duration": 0.857203,
     "end_time": "2021-08-24T06:00:08.153574",
     "exception": false,
     "start_time": "2021-08-24T06:00:07.296371",
     "status": "completed"
    },
    "tags": []
   },
   "outputs": [],
   "source": [
    "import pandas as pd\n",
    "import sqlite3"
   ]
  },
  {
   "cell_type": "code",
   "execution_count": 2,
   "id": "innovative-syndrome",
   "metadata": {
    "execution": {
     "iopub.execute_input": "2021-08-24T06:00:08.204875Z",
     "iopub.status.busy": "2021-08-24T06:00:08.203029Z",
     "iopub.status.idle": "2021-08-24T06:00:08.318753Z",
     "shell.execute_reply": "2021-08-24T06:00:08.319976Z"
    },
    "papermill": {
     "duration": 0.145123,
     "end_time": "2021-08-24T06:00:08.320377",
     "exception": false,
     "start_time": "2021-08-24T06:00:08.175254",
     "status": "completed"
    },
    "tags": []
   },
   "outputs": [],
   "source": [
    "timestamps = pd.read_sql(\"select distinct record_time from EBAY_TOP_BERLIN order by record_time desc limit 2\", sqlite3.connect(\"UsedObjects.db\"))"
   ]
  },
  {
   "cell_type": "code",
   "execution_count": 3,
   "id": "periodic-identification",
   "metadata": {
    "execution": {
     "iopub.execute_input": "2021-08-24T06:00:08.385477Z",
     "iopub.status.busy": "2021-08-24T06:00:08.383452Z",
     "iopub.status.idle": "2021-08-24T06:00:08.403423Z",
     "shell.execute_reply": "2021-08-24T06:00:08.404711Z"
    },
    "papermill": {
     "duration": 0.063621,
     "end_time": "2021-08-24T06:00:08.405130",
     "exception": false,
     "start_time": "2021-08-24T06:00:08.341509",
     "status": "completed"
    },
    "tags": []
   },
   "outputs": [
    {
     "data": {
      "text/html": [
       "<div>\n",
       "<style scoped>\n",
       "    .dataframe tbody tr th:only-of-type {\n",
       "        vertical-align: middle;\n",
       "    }\n",
       "\n",
       "    .dataframe tbody tr th {\n",
       "        vertical-align: top;\n",
       "    }\n",
       "\n",
       "    .dataframe thead th {\n",
       "        text-align: right;\n",
       "    }\n",
       "</style>\n",
       "<table border=\"1\" class=\"dataframe\">\n",
       "  <thead>\n",
       "    <tr style=\"text-align: right;\">\n",
       "      <th></th>\n",
       "      <th>RECORD_TIME</th>\n",
       "    </tr>\n",
       "  </thead>\n",
       "  <tbody>\n",
       "    <tr>\n",
       "      <th>0</th>\n",
       "      <td>2021-08-24 08:00</td>\n",
       "    </tr>\n",
       "    <tr>\n",
       "      <th>1</th>\n",
       "      <td>2021-08-24 07:30</td>\n",
       "    </tr>\n",
       "  </tbody>\n",
       "</table>\n",
       "</div>"
      ],
      "text/plain": [
       "        RECORD_TIME\n",
       "0  2021-08-24 08:00\n",
       "1  2021-08-24 07:30"
      ]
     },
     "execution_count": 3,
     "metadata": {},
     "output_type": "execute_result"
    }
   ],
   "source": [
    "timestamps"
   ]
  },
  {
   "cell_type": "code",
   "execution_count": 4,
   "id": "alternate-victory",
   "metadata": {
    "execution": {
     "iopub.execute_input": "2021-08-24T06:00:08.458117Z",
     "iopub.status.busy": "2021-08-24T06:00:08.455793Z",
     "iopub.status.idle": "2021-08-24T06:00:08.629977Z",
     "shell.execute_reply": "2021-08-24T06:00:08.631387Z"
    },
    "papermill": {
     "duration": 0.204751,
     "end_time": "2021-08-24T06:00:08.631822",
     "exception": false,
     "start_time": "2021-08-24T06:00:08.427071",
     "status": "completed"
    },
    "tags": []
   },
   "outputs": [],
   "source": [
    "df = pd.read_sql(\"select * from EBAY_TOP_BERLIN where record_time in (select distinct record_time from EBAY_TOP_BERLIN order by record_time desc limit 2)\", sqlite3.connect(\"UsedObjects.db\"))"
   ]
  },
  {
   "cell_type": "code",
   "execution_count": 5,
   "id": "popular-active",
   "metadata": {
    "execution": {
     "iopub.execute_input": "2021-08-24T06:00:08.701853Z",
     "iopub.status.busy": "2021-08-24T06:00:08.690861Z",
     "iopub.status.idle": "2021-08-24T06:00:08.718019Z",
     "shell.execute_reply": "2021-08-24T06:00:08.719258Z"
    },
    "papermill": {
     "duration": 0.067693,
     "end_time": "2021-08-24T06:00:08.719701",
     "exception": false,
     "start_time": "2021-08-24T06:00:08.652008",
     "status": "completed"
    },
    "tags": []
   },
   "outputs": [],
   "source": [
    "df_pivot = df.pivot_table(index=\"PRODUCT\", columns = \"RECORD_TIME\", values = \"LISTING_COUNT\")"
   ]
  },
  {
   "cell_type": "code",
   "execution_count": 6,
   "id": "union-huntington",
   "metadata": {
    "execution": {
     "iopub.execute_input": "2021-08-24T06:00:08.775913Z",
     "iopub.status.busy": "2021-08-24T06:00:08.773778Z",
     "iopub.status.idle": "2021-08-24T06:00:08.779151Z",
     "shell.execute_reply": "2021-08-24T06:00:08.780453Z"
    },
    "papermill": {
     "duration": 0.040001,
     "end_time": "2021-08-24T06:00:08.780873",
     "exception": false,
     "start_time": "2021-08-24T06:00:08.740872",
     "status": "completed"
    },
    "tags": []
   },
   "outputs": [],
   "source": [
    "df_pivot.columns = [\"stamp_1\", \"stamp_2\"]\n",
    "df_pivot_diff = df_pivot.diff(axis=1)"
   ]
  },
  {
   "cell_type": "code",
   "execution_count": 7,
   "id": "fifth-motion",
   "metadata": {
    "execution": {
     "iopub.execute_input": "2021-08-24T06:00:08.837779Z",
     "iopub.status.busy": "2021-08-24T06:00:08.835128Z",
     "iopub.status.idle": "2021-08-24T06:00:10.322872Z",
     "shell.execute_reply": "2021-08-24T06:00:10.324179Z"
    },
    "papermill": {
     "duration": 1.521556,
     "end_time": "2021-08-24T06:00:10.324606",
     "exception": false,
     "start_time": "2021-08-24T06:00:08.803050",
     "status": "completed"
    },
    "tags": []
   },
   "outputs": [
    {
     "data": {
      "text/plain": [
       "<AxesSubplot:ylabel='PRODUCT'>"
      ]
     },
     "execution_count": 7,
     "metadata": {},
     "output_type": "execute_result"
    },
    {
     "data": {
      "image/png": "[encoded data removed]",
      "text/plain": [
       "<Figure size 432x288 with 1 Axes>"
      ]
     },
     "metadata": {
      "needs_background": "light"
     },
     "output_type": "display_data"
    }
   ],
   "source": [
    "df_pivot_diff.sort_values(\"stamp_2\", ascending = False)[\"stamp_2\"].head(10).plot.barh()"
   ]
  },
  {
   "cell_type": "code",
   "execution_count": null,
   "id": "extra-executive",
   "metadata": {
    "papermill": {
     "duration": 0.022165,
     "end_time": "2021-08-24T06:00:10.372301",
     "exception": false,
     "start_time": "2021-08-24T06:00:10.350136",
     "status": "completed"
    },
    "tags": []
   },
   "outputs": [],
   "source": []
  }
 ],
 "metadata": {
  "kernelspec": {
   "display_name": "Python 3",
   "language": "python",
   "name": "python3"
  },
  "language_info": {
   "codemirror_mode": {
    "name": "ipython",
    "version": 3
   },
   "file_extension": ".py",
   "mimetype": "text/x-python",
   "name": "python",
   "nbconvert_exporter": "python",
   "pygments_lexer": "ipython3",
   "version": "3.9.5"
  },
  "papermill": {
   "default_parameters": {},
   "duration": 6.827901,
   "end_time": "2021-08-24T06:00:11.707346",
   "environment_variables": {},
   "exception": null,
   "input_path": "eBay_Overview.ipynb",
   "output_path": "eBay_Overview.ipynb",
   "parameters": {},
   "start_time": "2021-08-24T06:00:04.879445",
   "version": "2.3.3"
  }
 },
 "nbformat": 4,
 "nbformat_minor": 5
}