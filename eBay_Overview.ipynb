{
 "cells": [
  {
   "cell_type": "code",
   "execution_count": 1,
   "id": "reverse-picking",
   "metadata": {
    "execution": {
     "iopub.execute_input": "2021-10-28T16:30:07.294415Z",
     "iopub.status.busy": "2021-10-28T16:30:07.292419Z",
     "iopub.status.idle": "2021-10-28T16:30:08.095823Z",
     "shell.execute_reply": "2021-10-28T16:30:08.097211Z"
    },
    "papermill": {
     "duration": 0.855924,
     "end_time": "2021-10-28T16:30:08.097866",
     "exception": false,
     "start_time": "2021-10-28T16:30:07.241942",
     "status": "completed"
    },
    "tags": []
   },
   "outputs": [],
   "source": [
    "import pandas as pd\n",
    "import sqlite3"
   ]
  },
  {
   "cell_type": "code",
   "execution_count": 2,
   "id": "innovative-syndrome",
   "metadata": {
    "execution": {
     "iopub.execute_input": "2021-10-28T16:30:08.148833Z",
     "iopub.status.busy": "2021-10-28T16:30:08.146725Z",
     "iopub.status.idle": "2021-10-28T16:30:08.814629Z",
     "shell.execute_reply": "2021-10-28T16:30:08.815832Z"
    },
    "papermill": {
     "duration": 0.698127,
     "end_time": "2021-10-28T16:30:08.816221",
     "exception": false,
     "start_time": "2021-10-28T16:30:08.118094",
     "status": "completed"
    },
    "tags": []
   },
   "outputs": [],
   "source": [
    "timestamps = pd.read_sql(\"select distinct record_time from EBAY_TOP_BERLIN order by record_time desc limit 2\", sqlite3.connect(\"UsedObjects.db\"))"
   ]
  },
  {
   "cell_type": "code",
   "execution_count": 3,
   "id": "periodic-identification",
   "metadata": {
    "execution": {
     "iopub.execute_input": "2021-10-28T16:30:08.891225Z",
     "iopub.status.busy": "2021-10-28T16:30:08.889212Z",
     "iopub.status.idle": "2021-10-28T16:30:08.909107Z",
     "shell.execute_reply": "2021-10-28T16:30:08.910416Z"
    },
    "papermill": {
     "duration": 0.069543,
     "end_time": "2021-10-28T16:30:08.910825",
     "exception": false,
     "start_time": "2021-10-28T16:30:08.841282",
     "status": "completed"
    },
    "tags": []
   },
   "outputs": [
    {
     "data": {
      "text/html": [
       "<div>\n",
       "<style scoped>\n",
       "    .dataframe tbody tr th:only-of-type {\n",
       "        vertical-align: middle;\n",
       "    }\n",
       "\n",
       "    .dataframe tbody tr th {\n",
       "        vertical-align: top;\n",
       "    }\n",
       "\n",
       "    .dataframe thead th {\n",
       "        text-align: right;\n",
       "    }\n",
       "</style>\n",
       "<table border=\"1\" class=\"dataframe\">\n",
       "  <thead>\n",
       "    <tr style=\"text-align: right;\">\n",
       "      <th></th>\n",
       "      <th>RECORD_TIME</th>\n",
       "    </tr>\n",
       "  </thead>\n",
       "  <tbody>\n",
       "    <tr>\n",
       "      <th>0</th>\n",
       "      <td>2021-10-28 18:30</td>\n",
       "    </tr>\n",
       "    <tr>\n",
       "      <th>1</th>\n",
       "      <td>2021-10-28 18:00</td>\n",
       "    </tr>\n",
       "  </tbody>\n",
       "</table>\n",
       "</div>"
      ],
      "text/plain": [
       "        RECORD_TIME\n",
       "0  2021-10-28 18:30\n",
       "1  2021-10-28 18:00"
      ]
     },
     "execution_count": 3,
     "metadata": {},
     "output_type": "execute_result"
    }
   ],
   "source": [
    "timestamps"
   ]
  },
  {
   "cell_type": "code",
   "execution_count": 4,
   "id": "alternate-victory",
   "metadata": {
    "execution": {
     "iopub.execute_input": "2021-10-28T16:30:08.962184Z",
     "iopub.status.busy": "2021-10-28T16:30:08.960260Z",
     "iopub.status.idle": "2021-10-28T16:30:09.930374Z",
     "shell.execute_reply": "2021-10-28T16:30:09.931573Z"
    },
    "papermill": {
     "duration": 0.999871,
     "end_time": "2021-10-28T16:30:09.931963",
     "exception": false,
     "start_time": "2021-10-28T16:30:08.932092",
     "status": "completed"
    },
    "tags": []
   },
   "outputs": [],
   "source": [
    "df = pd.read_sql(\"select * from EBAY_TOP_BERLIN where record_time in (select distinct record_time from EBAY_TOP_BERLIN order by record_time desc limit 2)\", sqlite3.connect(\"UsedObjects.db\"))"
   ]
  },
  {
   "cell_type": "code",
   "execution_count": 5,
   "id": "popular-active",
   "metadata": {
    "execution": {
     "iopub.execute_input": "2021-10-28T16:30:10.003042Z",
     "iopub.status.busy": "2021-10-28T16:30:09.990772Z",
     "iopub.status.idle": "2021-10-28T16:30:10.018776Z",
     "shell.execute_reply": "2021-10-28T16:30:10.019973Z"
    },
    "papermill": {
     "duration": 0.067786,
     "end_time": "2021-10-28T16:30:10.020369",
     "exception": false,
     "start_time": "2021-10-28T16:30:09.952583",
     "status": "completed"
    },
    "tags": []
   },
   "outputs": [],
   "source": [
    "df_pivot = df.pivot_table(index=\"PRODUCT\", columns = \"RECORD_TIME\", values = \"LISTING_COUNT\")"
   ]
  },
  {
   "cell_type": "code",
   "execution_count": 6,
   "id": "union-huntington",
   "metadata": {
    "execution": {
     "iopub.execute_input": "2021-10-28T16:30:10.077632Z",
     "iopub.status.busy": "2021-10-28T16:30:10.075466Z",
     "iopub.status.idle": "2021-10-28T16:30:10.081277Z",
     "shell.execute_reply": "2021-10-28T16:30:10.082745Z"
    },
    "papermill": {
     "duration": 0.04134,
     "end_time": "2021-10-28T16:30:10.083258",
     "exception": false,
     "start_time": "2021-10-28T16:30:10.041918",
     "status": "completed"
    },
    "tags": []
   },
   "outputs": [],
   "source": [
    "df_pivot.columns = [\"stamp_1\", \"stamp_2\"]\n",
    "df_pivot_diff = df_pivot.diff(axis=1)"
   ]
  },
  {
   "cell_type": "code",
   "execution_count": 7,
   "id": "fifth-motion",
   "metadata": {
    "execution": {
     "iopub.execute_input": "2021-10-28T16:30:10.139326Z",
     "iopub.status.busy": "2021-10-28T16:30:10.137077Z",
     "iopub.status.idle": "2021-10-28T16:30:11.646300Z",
     "shell.execute_reply": "2021-10-28T16:30:11.647599Z"
    },
    "papermill": {
     "duration": 1.542446,
     "end_time": "2021-10-28T16:30:11.648010",
     "exception": false,
     "start_time": "2021-10-28T16:30:10.105564",
     "status": "completed"
    },
    "tags": []
   },
   "outputs": [
    {
     "data": {
      "text/plain": [
       "<AxesSubplot:ylabel='PRODUCT'>"
      ]
     },
     "execution_count": 7,
     "metadata": {},
     "output_type": "execute_result"
    },
    {
     "data": {
      "image/png": "[encoded data removed]",
      "text/plain": [
       "<Figure size 432x288 with 1 Axes>"
      ]
     },
     "metadata": {
      "needs_background": "light"
     },
     "output_type": "display_data"
    }
   ],
   "source": [
    "df_pivot_diff.sort_values(\"stamp_2\", ascending = False)[\"stamp_2\"].head(10).plot.barh()"
   ]
  },
  {
   "cell_type": "code",
   "execution_count": null,
   "id": "extra-executive",
   "metadata": {
    "papermill": {
     "duration": 0.022529,
     "end_time": "2021-10-28T16:30:11.694544",
     "exception": false,
     "start_time": "2021-10-28T16:30:11.672015",
     "status": "completed"
    },
    "tags": []
   },
   "outputs": [],
   "source": []
  }
 ],
 "metadata": {
  "kernelspec": {
   "display_name": "Python 3",
   "language": "python",
   "name": "python3"
  },
  "language_info": {
   "codemirror_mode": {
    "name": "ipython",
    "version": 3
   },
   "file_extension": ".py",
   "mimetype": "text/x-python",
   "name": "python",
   "nbconvert_exporter": "python",
   "pygments_lexer": "ipython3",
   "version": "3.9.5"
  },
  "papermill": {
   "default_parameters": {},
   "duration": 7.494669,
   "end_time": "2021-10-28T16:30:12.337885",
   "environment_variables": {},
   "exception": null,
   "input_path": "eBay_Overview.ipynb",
   "output_path": "eBay_Overview.ipynb",
   "parameters": {},
   "start_time": "2021-10-28T16:30:04.843216",
   "version": "2.3.3"
  }
 },
 "nbformat": 4,
 "nbformat_minor": 5
}