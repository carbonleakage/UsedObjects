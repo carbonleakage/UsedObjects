{
 "cells": [
  {
   "cell_type": "code",
   "execution_count": 1,
   "id": "reverse-picking",
   "metadata": {
    "execution": {
     "iopub.execute_input": "2021-09-03T23:30:06.848566Z",
     "iopub.status.busy": "2021-09-03T23:30:06.846581Z",
     "iopub.status.idle": "2021-09-03T23:30:07.650338Z",
     "shell.execute_reply": "2021-09-03T23:30:07.648784Z"
    },
    "papermill": {
     "duration": 0.851983,
     "end_time": "2021-09-03T23:30:07.650725",
     "exception": false,
     "start_time": "2021-09-03T23:30:06.798742",
     "status": "completed"
    },
    "tags": []
   },
   "outputs": [],
   "source": [
    "import pandas as pd\n",
    "import sqlite3"
   ]
  },
  {
   "cell_type": "code",
   "execution_count": 2,
   "id": "innovative-syndrome",
   "metadata": {
    "execution": {
     "iopub.execute_input": "2021-09-03T23:30:07.700364Z",
     "iopub.status.busy": "2021-09-03T23:30:07.698399Z",
     "iopub.status.idle": "2021-09-03T23:30:07.895614Z",
     "shell.execute_reply": "2021-09-03T23:30:07.896887Z"
    },
    "papermill": {
     "duration": 0.226121,
     "end_time": "2021-09-03T23:30:07.897287",
     "exception": false,
     "start_time": "2021-09-03T23:30:07.671166",
     "status": "completed"
    },
    "tags": []
   },
   "outputs": [],
   "source": [
    "timestamps = pd.read_sql(\"select distinct record_time from EBAY_TOP_BERLIN order by record_time desc limit 2\", sqlite3.connect(\"UsedObjects.db\"))"
   ]
  },
  {
   "cell_type": "code",
   "execution_count": 3,
   "id": "periodic-identification",
   "metadata": {
    "execution": {
     "iopub.execute_input": "2021-09-03T23:30:07.961044Z",
     "iopub.status.busy": "2021-09-03T23:30:07.959059Z",
     "iopub.status.idle": "2021-09-03T23:30:07.978727Z",
     "shell.execute_reply": "2021-09-03T23:30:07.980024Z"
    },
    "papermill": {
     "duration": 0.064152,
     "end_time": "2021-09-03T23:30:07.980428",
     "exception": false,
     "start_time": "2021-09-03T23:30:07.916276",
     "status": "completed"
    },
    "tags": []
   },
   "outputs": [
    {
     "data": {
      "text/html": [
       "<div>\n",
       "<style scoped>\n",
       "    .dataframe tbody tr th:only-of-type {\n",
       "        vertical-align: middle;\n",
       "    }\n",
       "\n",
       "    .dataframe tbody tr th {\n",
       "        vertical-align: top;\n",
       "    }\n",
       "\n",
       "    .dataframe thead th {\n",
       "        text-align: right;\n",
       "    }\n",
       "</style>\n",
       "<table border=\"1\" class=\"dataframe\">\n",
       "  <thead>\n",
       "    <tr style=\"text-align: right;\">\n",
       "      <th></th>\n",
       "      <th>RECORD_TIME</th>\n",
       "    </tr>\n",
       "  </thead>\n",
       "  <tbody>\n",
       "    <tr>\n",
       "      <th>0</th>\n",
       "      <td>2021-09-04 01:30</td>\n",
       "    </tr>\n",
       "    <tr>\n",
       "      <th>1</th>\n",
       "      <td>2021-09-04 01:00</td>\n",
       "    </tr>\n",
       "  </tbody>\n",
       "</table>\n",
       "</div>"
      ],
      "text/plain": [
       "        RECORD_TIME\n",
       "0  2021-09-04 01:30\n",
       "1  2021-09-04 01:00"
      ]
     },
     "execution_count": 3,
     "metadata": {},
     "output_type": "execute_result"
    }
   ],
   "source": [
    "timestamps"
   ]
  },
  {
   "cell_type": "code",
   "execution_count": 4,
   "id": "alternate-victory",
   "metadata": {
    "execution": {
     "iopub.execute_input": "2021-09-03T23:30:08.031303Z",
     "iopub.status.busy": "2021-09-03T23:30:08.029397Z",
     "iopub.status.idle": "2021-09-03T23:30:08.324822Z",
     "shell.execute_reply": "2021-09-03T23:30:08.326028Z"
    },
    "papermill": {
     "duration": 0.324802,
     "end_time": "2021-09-03T23:30:08.326423",
     "exception": false,
     "start_time": "2021-09-03T23:30:08.001621",
     "status": "completed"
    },
    "tags": []
   },
   "outputs": [],
   "source": [
    "df = pd.read_sql(\"select * from EBAY_TOP_BERLIN where record_time in (select distinct record_time from EBAY_TOP_BERLIN order by record_time desc limit 2)\", sqlite3.connect(\"UsedObjects.db\"))"
   ]
  },
  {
   "cell_type": "code",
   "execution_count": 5,
   "id": "popular-active",
   "metadata": {
    "execution": {
     "iopub.execute_input": "2021-09-03T23:30:08.410721Z",
     "iopub.status.busy": "2021-09-03T23:30:08.398370Z",
     "iopub.status.idle": "2021-09-03T23:30:08.426417Z",
     "shell.execute_reply": "2021-09-03T23:30:08.427806Z"
    },
    "papermill": {
     "duration": 0.073426,
     "end_time": "2021-09-03T23:30:08.428236",
     "exception": false,
     "start_time": "2021-09-03T23:30:08.354810",
     "status": "completed"
    },
    "tags": []
   },
   "outputs": [],
   "source": [
    "df_pivot = df.pivot_table(index=\"PRODUCT\", columns = \"RECORD_TIME\", values = \"LISTING_COUNT\")"
   ]
  },
  {
   "cell_type": "code",
   "execution_count": 6,
   "id": "union-huntington",
   "metadata": {
    "execution": {
     "iopub.execute_input": "2021-09-03T23:30:08.483150Z",
     "iopub.status.busy": "2021-09-03T23:30:08.481106Z",
     "iopub.status.idle": "2021-09-03T23:30:08.486483Z",
     "shell.execute_reply": "2021-09-03T23:30:08.487742Z"
    },
    "papermill": {
     "duration": 0.040295,
     "end_time": "2021-09-03T23:30:08.488177",
     "exception": false,
     "start_time": "2021-09-03T23:30:08.447882",
     "status": "completed"
    },
    "tags": []
   },
   "outputs": [],
   "source": [
    "df_pivot.columns = [\"stamp_1\", \"stamp_2\"]\n",
    "df_pivot_diff = df_pivot.diff(axis=1)"
   ]
  },
  {
   "cell_type": "code",
   "execution_count": 7,
   "id": "fifth-motion",
   "metadata": {
    "execution": {
     "iopub.execute_input": "2021-09-03T23:30:08.544016Z",
     "iopub.status.busy": "2021-09-03T23:30:08.541453Z",
     "iopub.status.idle": "2021-09-03T23:30:10.013991Z",
     "shell.execute_reply": "2021-09-03T23:30:10.015505Z"
    },
    "papermill": {
     "duration": 1.505444,
     "end_time": "2021-09-03T23:30:10.015989",
     "exception": false,
     "start_time": "2021-09-03T23:30:08.510545",
     "status": "completed"
    },
    "tags": []
   },
   "outputs": [
    {
     "data": {
      "text/plain": [
       "<AxesSubplot:ylabel='PRODUCT'>"
      ]
     },
     "execution_count": 7,
     "metadata": {},
     "output_type": "execute_result"
    },
    {
     "data": {
      "image/png": "[encoded data removed]",
      "text/plain": [
       "<Figure size 432x288 with 1 Axes>"
      ]
     },
     "metadata": {
      "needs_background": "light"
     },
     "output_type": "display_data"
    }
   ],
   "source": [
    "df_pivot_diff.sort_values(\"stamp_2\", ascending = False)[\"stamp_2\"].head(10).plot.barh()"
   ]
  },
  {
   "cell_type": "code",
   "execution_count": null,
   "id": "extra-executive",
   "metadata": {
    "papermill": {
     "duration": 0.021697,
     "end_time": "2021-09-03T23:30:10.061979",
     "exception": false,
     "start_time": "2021-09-03T23:30:10.040282",
     "status": "completed"
    },
    "tags": []
   },
   "outputs": [],
   "source": []
  }
 ],
 "metadata": {
  "kernelspec": {
   "display_name": "Python 3",
   "language": "python",
   "name": "python3"
  },
  "language_info": {
   "codemirror_mode": {
    "name": "ipython",
    "version": 3
   },
   "file_extension": ".py",
   "mimetype": "text/x-python",
   "name": "python",
   "nbconvert_exporter": "python",
   "pygments_lexer": "ipython3",
   "version": "3.9.5"
  },
  "papermill": {
   "default_parameters": {},
   "duration": 6.820175,
   "end_time": "2021-09-03T23:30:11.219551",
   "environment_variables": {},
   "exception": null,
   "input_path": "eBay_Overview.ipynb",
   "output_path": "eBay_Overview.ipynb",
   "parameters": {},
   "start_time": "2021-09-03T23:30:04.399376",
   "version": "2.3.3"
  }
 },
 "nbformat": 4,
 "nbformat_minor": 5
}