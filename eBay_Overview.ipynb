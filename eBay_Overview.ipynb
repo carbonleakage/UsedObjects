{
 "cells": [
  {
   "cell_type": "code",
   "execution_count": 1,
   "id": "reverse-picking",
   "metadata": {
    "execution": {
     "iopub.execute_input": "2021-09-03T01:30:06.938925Z",
     "iopub.status.busy": "2021-09-03T01:30:06.936930Z",
     "iopub.status.idle": "2021-09-03T01:30:07.740315Z",
     "shell.execute_reply": "2021-09-03T01:30:07.741647Z"
    },
    "papermill": {
     "duration": 0.855707,
     "end_time": "2021-09-03T01:30:07.742321",
     "exception": false,
     "start_time": "2021-09-03T01:30:06.886614",
     "status": "completed"
    },
    "tags": []
   },
   "outputs": [],
   "source": [
    "import pandas as pd\n",
    "import sqlite3"
   ]
  },
  {
   "cell_type": "code",
   "execution_count": 2,
   "id": "innovative-syndrome",
   "metadata": {
    "execution": {
     "iopub.execute_input": "2021-09-03T01:30:07.793374Z",
     "iopub.status.busy": "2021-09-03T01:30:07.791016Z",
     "iopub.status.idle": "2021-09-03T01:30:07.983537Z",
     "shell.execute_reply": "2021-09-03T01:30:07.984753Z"
    },
    "papermill": {
     "duration": 0.222395,
     "end_time": "2021-09-03T01:30:07.985147",
     "exception": false,
     "start_time": "2021-09-03T01:30:07.762752",
     "status": "completed"
    },
    "tags": []
   },
   "outputs": [],
   "source": [
    "timestamps = pd.read_sql(\"select distinct record_time from EBAY_TOP_BERLIN order by record_time desc limit 2\", sqlite3.connect(\"UsedObjects.db\"))"
   ]
  },
  {
   "cell_type": "code",
   "execution_count": 3,
   "id": "periodic-identification",
   "metadata": {
    "execution": {
     "iopub.execute_input": "2021-09-03T01:30:08.049600Z",
     "iopub.status.busy": "2021-09-03T01:30:08.047584Z",
     "iopub.status.idle": "2021-09-03T01:30:08.067261Z",
     "shell.execute_reply": "2021-09-03T01:30:08.068498Z"
    },
    "papermill": {
     "duration": 0.06429,
     "end_time": "2021-09-03T01:30:08.068890",
     "exception": false,
     "start_time": "2021-09-03T01:30:08.004600",
     "status": "completed"
    },
    "tags": []
   },
   "outputs": [
    {
     "data": {
      "text/html": [
       "<div>\n",
       "<style scoped>\n",
       "    .dataframe tbody tr th:only-of-type {\n",
       "        vertical-align: middle;\n",
       "    }\n",
       "\n",
       "    .dataframe tbody tr th {\n",
       "        vertical-align: top;\n",
       "    }\n",
       "\n",
       "    .dataframe thead th {\n",
       "        text-align: right;\n",
       "    }\n",
       "</style>\n",
       "<table border=\"1\" class=\"dataframe\">\n",
       "  <thead>\n",
       "    <tr style=\"text-align: right;\">\n",
       "      <th></th>\n",
       "      <th>RECORD_TIME</th>\n",
       "    </tr>\n",
       "  </thead>\n",
       "  <tbody>\n",
       "    <tr>\n",
       "      <th>0</th>\n",
       "      <td>2021-09-03 03:30</td>\n",
       "    </tr>\n",
       "    <tr>\n",
       "      <th>1</th>\n",
       "      <td>2021-09-03 03:00</td>\n",
       "    </tr>\n",
       "  </tbody>\n",
       "</table>\n",
       "</div>"
      ],
      "text/plain": [
       "        RECORD_TIME\n",
       "0  2021-09-03 03:30\n",
       "1  2021-09-03 03:00"
      ]
     },
     "execution_count": 3,
     "metadata": {},
     "output_type": "execute_result"
    }
   ],
   "source": [
    "timestamps"
   ]
  },
  {
   "cell_type": "code",
   "execution_count": 4,
   "id": "alternate-victory",
   "metadata": {
    "execution": {
     "iopub.execute_input": "2021-09-03T01:30:08.121489Z",
     "iopub.status.busy": "2021-09-03T01:30:08.119323Z",
     "iopub.status.idle": "2021-09-03T01:30:08.409072Z",
     "shell.execute_reply": "2021-09-03T01:30:08.410368Z"
    },
    "papermill": {
     "duration": 0.320096,
     "end_time": "2021-09-03T01:30:08.410784",
     "exception": false,
     "start_time": "2021-09-03T01:30:08.090688",
     "status": "completed"
    },
    "tags": []
   },
   "outputs": [],
   "source": [
    "df = pd.read_sql(\"select * from EBAY_TOP_BERLIN where record_time in (select distinct record_time from EBAY_TOP_BERLIN order by record_time desc limit 2)\", sqlite3.connect(\"UsedObjects.db\"))"
   ]
  },
  {
   "cell_type": "code",
   "execution_count": 5,
   "id": "popular-active",
   "metadata": {
    "execution": {
     "iopub.execute_input": "2021-09-03T01:30:08.494784Z",
     "iopub.status.busy": "2021-09-03T01:30:08.483574Z",
     "iopub.status.idle": "2021-09-03T01:30:08.510546Z",
     "shell.execute_reply": "2021-09-03T01:30:08.511927Z"
    },
    "papermill": {
     "duration": 0.072941,
     "end_time": "2021-09-03T01:30:08.512350",
     "exception": false,
     "start_time": "2021-09-03T01:30:08.439409",
     "status": "completed"
    },
    "tags": []
   },
   "outputs": [],
   "source": [
    "df_pivot = df.pivot_table(index=\"PRODUCT\", columns = \"RECORD_TIME\", values = \"LISTING_COUNT\")"
   ]
  },
  {
   "cell_type": "code",
   "execution_count": 6,
   "id": "union-huntington",
   "metadata": {
    "execution": {
     "iopub.execute_input": "2021-09-03T01:30:08.568450Z",
     "iopub.status.busy": "2021-09-03T01:30:08.566334Z",
     "iopub.status.idle": "2021-09-03T01:30:08.571656Z",
     "shell.execute_reply": "2021-09-03T01:30:08.572965Z"
    },
    "papermill": {
     "duration": 0.040765,
     "end_time": "2021-09-03T01:30:08.573379",
     "exception": false,
     "start_time": "2021-09-03T01:30:08.532614",
     "status": "completed"
    },
    "tags": []
   },
   "outputs": [],
   "source": [
    "df_pivot.columns = [\"stamp_1\", \"stamp_2\"]\n",
    "df_pivot_diff = df_pivot.diff(axis=1)"
   ]
  },
  {
   "cell_type": "code",
   "execution_count": 7,
   "id": "fifth-motion",
   "metadata": {
    "execution": {
     "iopub.execute_input": "2021-09-03T01:30:08.628766Z",
     "iopub.status.busy": "2021-09-03T01:30:08.626180Z",
     "iopub.status.idle": "2021-09-03T01:30:10.143073Z",
     "shell.execute_reply": "2021-09-03T01:30:10.144266Z"
    },
    "papermill": {
     "duration": 1.549912,
     "end_time": "2021-09-03T01:30:10.144698",
     "exception": false,
     "start_time": "2021-09-03T01:30:08.594786",
     "status": "completed"
    },
    "tags": []
   },
   "outputs": [
    {
     "data": {
      "text/plain": [
       "<AxesSubplot:ylabel='PRODUCT'>"
      ]
     },
     "execution_count": 7,
     "metadata": {},
     "output_type": "execute_result"
    },
    {
     "data": {
      "image/png": "[encoded data removed]",
      "text/plain": [
       "<Figure size 432x288 with 1 Axes>"
      ]
     },
     "metadata": {
      "needs_background": "light"
     },
     "output_type": "display_data"
    }
   ],
   "source": [
    "df_pivot_diff.sort_values(\"stamp_2\", ascending = False)[\"stamp_2\"].head(10).plot.barh()"
   ]
  },
  {
   "cell_type": "code",
   "execution_count": null,
   "id": "extra-executive",
   "metadata": {
    "papermill": {
     "duration": 0.022291,
     "end_time": "2021-09-03T01:30:10.192051",
     "exception": false,
     "start_time": "2021-09-03T01:30:10.169760",
     "status": "completed"
    },
    "tags": []
   },
   "outputs": [],
   "source": []
  }
 ],
 "metadata": {
  "kernelspec": {
   "display_name": "Python 3",
   "language": "python",
   "name": "python3"
  },
  "language_info": {
   "codemirror_mode": {
    "name": "ipython",
    "version": 3
   },
   "file_extension": ".py",
   "mimetype": "text/x-python",
   "name": "python",
   "nbconvert_exporter": "python",
   "pygments_lexer": "ipython3",
   "version": "3.9.5"
  },
  "papermill": {
   "default_parameters": {},
   "duration": 6.346164,
   "end_time": "2021-09-03T01:30:10.834806",
   "environment_variables": {},
   "exception": null,
   "input_path": "eBay_Overview.ipynb",
   "output_path": "eBay_Overview.ipynb",
   "parameters": {},
   "start_time": "2021-09-03T01:30:04.488642",
   "version": "2.3.3"
  }
 },
 "nbformat": 4,
 "nbformat_minor": 5
}