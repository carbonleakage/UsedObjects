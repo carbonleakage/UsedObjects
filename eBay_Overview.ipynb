{
 "cells": [
  {
   "cell_type": "code",
   "execution_count": 1,
   "id": "reverse-picking",
   "metadata": {
    "execution": {
     "iopub.execute_input": "2021-09-03T15:30:07.386815Z",
     "iopub.status.busy": "2021-09-03T15:30:07.384902Z",
     "iopub.status.idle": "2021-09-03T15:30:08.189343Z",
     "shell.execute_reply": "2021-09-03T15:30:08.190662Z"
    },
    "papermill": {
     "duration": 0.856071,
     "end_time": "2021-09-03T15:30:08.191390",
     "exception": false,
     "start_time": "2021-09-03T15:30:07.335319",
     "status": "completed"
    },
    "tags": []
   },
   "outputs": [],
   "source": [
    "import pandas as pd\n",
    "import sqlite3"
   ]
  },
  {
   "cell_type": "code",
   "execution_count": 2,
   "id": "innovative-syndrome",
   "metadata": {
    "execution": {
     "iopub.execute_input": "2021-09-03T15:30:08.242287Z",
     "iopub.status.busy": "2021-09-03T15:30:08.240257Z",
     "iopub.status.idle": "2021-09-03T15:30:08.439400Z",
     "shell.execute_reply": "2021-09-03T15:30:08.440777Z"
    },
    "papermill": {
     "duration": 0.229622,
     "end_time": "2021-09-03T15:30:08.441217",
     "exception": false,
     "start_time": "2021-09-03T15:30:08.211595",
     "status": "completed"
    },
    "tags": []
   },
   "outputs": [],
   "source": [
    "timestamps = pd.read_sql(\"select distinct record_time from EBAY_TOP_BERLIN order by record_time desc limit 2\", sqlite3.connect(\"UsedObjects.db\"))"
   ]
  },
  {
   "cell_type": "code",
   "execution_count": 3,
   "id": "periodic-identification",
   "metadata": {
    "execution": {
     "iopub.execute_input": "2021-09-03T15:30:08.507829Z",
     "iopub.status.busy": "2021-09-03T15:30:08.505721Z",
     "iopub.status.idle": "2021-09-03T15:30:08.526220Z",
     "shell.execute_reply": "2021-09-03T15:30:08.527704Z"
    },
    "papermill": {
     "duration": 0.067172,
     "end_time": "2021-09-03T15:30:08.528156",
     "exception": false,
     "start_time": "2021-09-03T15:30:08.460984",
     "status": "completed"
    },
    "tags": []
   },
   "outputs": [
    {
     "data": {
      "text/html": [
       "<div>\n",
       "<style scoped>\n",
       "    .dataframe tbody tr th:only-of-type {\n",
       "        vertical-align: middle;\n",
       "    }\n",
       "\n",
       "    .dataframe tbody tr th {\n",
       "        vertical-align: top;\n",
       "    }\n",
       "\n",
       "    .dataframe thead th {\n",
       "        text-align: right;\n",
       "    }\n",
       "</style>\n",
       "<table border=\"1\" class=\"dataframe\">\n",
       "  <thead>\n",
       "    <tr style=\"text-align: right;\">\n",
       "      <th></th>\n",
       "      <th>RECORD_TIME</th>\n",
       "    </tr>\n",
       "  </thead>\n",
       "  <tbody>\n",
       "    <tr>\n",
       "      <th>0</th>\n",
       "      <td>2021-09-03 17:30</td>\n",
       "    </tr>\n",
       "    <tr>\n",
       "      <th>1</th>\n",
       "      <td>2021-09-03 17:00</td>\n",
       "    </tr>\n",
       "  </tbody>\n",
       "</table>\n",
       "</div>"
      ],
      "text/plain": [
       "        RECORD_TIME\n",
       "0  2021-09-03 17:30\n",
       "1  2021-09-03 17:00"
      ]
     },
     "execution_count": 3,
     "metadata": {},
     "output_type": "execute_result"
    }
   ],
   "source": [
    "timestamps"
   ]
  },
  {
   "cell_type": "code",
   "execution_count": 4,
   "id": "alternate-victory",
   "metadata": {
    "execution": {
     "iopub.execute_input": "2021-09-03T15:30:08.579423Z",
     "iopub.status.busy": "2021-09-03T15:30:08.577486Z",
     "iopub.status.idle": "2021-09-03T15:30:08.873477Z",
     "shell.execute_reply": "2021-09-03T15:30:08.874689Z"
    },
    "papermill": {
     "duration": 0.32587,
     "end_time": "2021-09-03T15:30:08.875139",
     "exception": false,
     "start_time": "2021-09-03T15:30:08.549269",
     "status": "completed"
    },
    "tags": []
   },
   "outputs": [],
   "source": [
    "df = pd.read_sql(\"select * from EBAY_TOP_BERLIN where record_time in (select distinct record_time from EBAY_TOP_BERLIN order by record_time desc limit 2)\", sqlite3.connect(\"UsedObjects.db\"))"
   ]
  },
  {
   "cell_type": "code",
   "execution_count": 5,
   "id": "popular-active",
   "metadata": {
    "execution": {
     "iopub.execute_input": "2021-09-03T15:30:08.954211Z",
     "iopub.status.busy": "2021-09-03T15:30:08.943359Z",
     "iopub.status.idle": "2021-09-03T15:30:08.971514Z",
     "shell.execute_reply": "2021-09-03T15:30:08.972907Z"
    },
    "papermill": {
     "duration": 0.072779,
     "end_time": "2021-09-03T15:30:08.973342",
     "exception": false,
     "start_time": "2021-09-03T15:30:08.900563",
     "status": "completed"
    },
    "tags": []
   },
   "outputs": [],
   "source": [
    "df_pivot = df.pivot_table(index=\"PRODUCT\", columns = \"RECORD_TIME\", values = \"LISTING_COUNT\")"
   ]
  },
  {
   "cell_type": "code",
   "execution_count": 6,
   "id": "union-huntington",
   "metadata": {
    "execution": {
     "iopub.execute_input": "2021-09-03T15:30:09.030512Z",
     "iopub.status.busy": "2021-09-03T15:30:09.028122Z",
     "iopub.status.idle": "2021-09-03T15:30:09.033943Z",
     "shell.execute_reply": "2021-09-03T15:30:09.035275Z"
    },
    "papermill": {
     "duration": 0.042066,
     "end_time": "2021-09-03T15:30:09.035696",
     "exception": false,
     "start_time": "2021-09-03T15:30:08.993630",
     "status": "completed"
    },
    "tags": []
   },
   "outputs": [],
   "source": [
    "df_pivot.columns = [\"stamp_1\", \"stamp_2\"]\n",
    "df_pivot_diff = df_pivot.diff(axis=1)"
   ]
  },
  {
   "cell_type": "code",
   "execution_count": 7,
   "id": "fifth-motion",
   "metadata": {
    "execution": {
     "iopub.execute_input": "2021-09-03T15:30:09.091921Z",
     "iopub.status.busy": "2021-09-03T15:30:09.087587Z",
     "iopub.status.idle": "2021-09-03T15:30:10.601238Z",
     "shell.execute_reply": "2021-09-03T15:30:10.602523Z"
    },
    "papermill": {
     "duration": 1.546733,
     "end_time": "2021-09-03T15:30:10.602989",
     "exception": false,
     "start_time": "2021-09-03T15:30:09.056256",
     "status": "completed"
    },
    "tags": []
   },
   "outputs": [
    {
     "data": {
      "text/plain": [
       "<AxesSubplot:ylabel='PRODUCT'>"
      ]
     },
     "execution_count": 7,
     "metadata": {},
     "output_type": "execute_result"
    },
    {
     "data": {
      "image/png": "[encoded data removed]",
      "text/plain": [
       "<Figure size 432x288 with 1 Axes>"
      ]
     },
     "metadata": {
      "needs_background": "light"
     },
     "output_type": "display_data"
    }
   ],
   "source": [
    "df_pivot_diff.sort_values(\"stamp_2\", ascending = False)[\"stamp_2\"].head(10).plot.barh()"
   ]
  },
  {
   "cell_type": "code",
   "execution_count": null,
   "id": "extra-executive",
   "metadata": {
    "papermill": {
     "duration": 0.022087,
     "end_time": "2021-09-03T15:30:10.649342",
     "exception": false,
     "start_time": "2021-09-03T15:30:10.627255",
     "status": "completed"
    },
    "tags": []
   },
   "outputs": [],
   "source": []
  }
 ],
 "metadata": {
  "kernelspec": {
   "display_name": "Python 3",
   "language": "python",
   "name": "python3"
  },
  "language_info": {
   "codemirror_mode": {
    "name": "ipython",
    "version": 3
   },
   "file_extension": ".py",
   "mimetype": "text/x-python",
   "name": "python",
   "nbconvert_exporter": "python",
   "pygments_lexer": "ipython3",
   "version": "3.9.5"
  },
  "papermill": {
   "default_parameters": {},
   "duration": 6.361013,
   "end_time": "2021-09-03T15:30:11.289637",
   "environment_variables": {},
   "exception": null,
   "input_path": "eBay_Overview.ipynb",
   "output_path": "eBay_Overview.ipynb",
   "parameters": {},
   "start_time": "2021-09-03T15:30:04.928624",
   "version": "2.3.3"
  }
 },
 "nbformat": 4,
 "nbformat_minor": 5
}