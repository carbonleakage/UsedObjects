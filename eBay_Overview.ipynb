{
 "cells": [
  {
   "cell_type": "code",
   "execution_count": 1,
   "id": "reverse-picking",
   "metadata": {
    "execution": {
     "iopub.execute_input": "2021-10-07T17:30:07.152919Z",
     "iopub.status.busy": "2021-10-07T17:30:07.150925Z",
     "iopub.status.idle": "2021-10-07T17:30:07.962045Z",
     "shell.execute_reply": "2021-10-07T17:30:07.963508Z"
    },
    "papermill": {
     "duration": 0.864035,
     "end_time": "2021-10-07T17:30:07.964155",
     "exception": false,
     "start_time": "2021-10-07T17:30:07.100120",
     "status": "completed"
    },
    "tags": []
   },
   "outputs": [],
   "source": [
    "import pandas as pd\n",
    "import sqlite3"
   ]
  },
  {
   "cell_type": "code",
   "execution_count": 2,
   "id": "innovative-syndrome",
   "metadata": {
    "execution": {
     "iopub.execute_input": "2021-10-07T17:30:08.016504Z",
     "iopub.status.busy": "2021-10-07T17:30:08.014098Z",
     "iopub.status.idle": "2021-10-07T17:30:08.500801Z",
     "shell.execute_reply": "2021-10-07T17:30:08.502017Z"
    },
    "papermill": {
     "duration": 0.516687,
     "end_time": "2021-10-07T17:30:08.502418",
     "exception": false,
     "start_time": "2021-10-07T17:30:07.985731",
     "status": "completed"
    },
    "tags": []
   },
   "outputs": [],
   "source": [
    "timestamps = pd.read_sql(\"select distinct record_time from EBAY_TOP_BERLIN order by record_time desc limit 2\", sqlite3.connect(\"UsedObjects.db\"))"
   ]
  },
  {
   "cell_type": "code",
   "execution_count": 3,
   "id": "periodic-identification",
   "metadata": {
    "execution": {
     "iopub.execute_input": "2021-10-07T17:30:08.568614Z",
     "iopub.status.busy": "2021-10-07T17:30:08.566506Z",
     "iopub.status.idle": "2021-10-07T17:30:08.586490Z",
     "shell.execute_reply": "2021-10-07T17:30:08.587868Z"
    },
    "papermill": {
     "duration": 0.065585,
     "end_time": "2021-10-07T17:30:08.588342",
     "exception": false,
     "start_time": "2021-10-07T17:30:08.522757",
     "status": "completed"
    },
    "tags": []
   },
   "outputs": [
    {
     "data": {
      "text/html": [
       "<div>\n",
       "<style scoped>\n",
       "    .dataframe tbody tr th:only-of-type {\n",
       "        vertical-align: middle;\n",
       "    }\n",
       "\n",
       "    .dataframe tbody tr th {\n",
       "        vertical-align: top;\n",
       "    }\n",
       "\n",
       "    .dataframe thead th {\n",
       "        text-align: right;\n",
       "    }\n",
       "</style>\n",
       "<table border=\"1\" class=\"dataframe\">\n",
       "  <thead>\n",
       "    <tr style=\"text-align: right;\">\n",
       "      <th></th>\n",
       "      <th>RECORD_TIME</th>\n",
       "    </tr>\n",
       "  </thead>\n",
       "  <tbody>\n",
       "    <tr>\n",
       "      <th>0</th>\n",
       "      <td>2021-10-07 19:30</td>\n",
       "    </tr>\n",
       "    <tr>\n",
       "      <th>1</th>\n",
       "      <td>2021-10-07 19:00</td>\n",
       "    </tr>\n",
       "  </tbody>\n",
       "</table>\n",
       "</div>"
      ],
      "text/plain": [
       "        RECORD_TIME\n",
       "0  2021-10-07 19:30\n",
       "1  2021-10-07 19:00"
      ]
     },
     "execution_count": 3,
     "metadata": {},
     "output_type": "execute_result"
    }
   ],
   "source": [
    "timestamps"
   ]
  },
  {
   "cell_type": "code",
   "execution_count": 4,
   "id": "alternate-victory",
   "metadata": {
    "execution": {
     "iopub.execute_input": "2021-10-07T17:30:08.651329Z",
     "iopub.status.busy": "2021-10-07T17:30:08.649233Z",
     "iopub.status.idle": "2021-10-07T17:30:09.348610Z",
     "shell.execute_reply": "2021-10-07T17:30:09.349829Z"
    },
    "papermill": {
     "duration": 0.734788,
     "end_time": "2021-10-07T17:30:09.350231",
     "exception": false,
     "start_time": "2021-10-07T17:30:08.615443",
     "status": "completed"
    },
    "tags": []
   },
   "outputs": [],
   "source": [
    "df = pd.read_sql(\"select * from EBAY_TOP_BERLIN where record_time in (select distinct record_time from EBAY_TOP_BERLIN order by record_time desc limit 2)\", sqlite3.connect(\"UsedObjects.db\"))"
   ]
  },
  {
   "cell_type": "code",
   "execution_count": 5,
   "id": "popular-active",
   "metadata": {
    "execution": {
     "iopub.execute_input": "2021-10-07T17:30:09.420618Z",
     "iopub.status.busy": "2021-10-07T17:30:09.410144Z",
     "iopub.status.idle": "2021-10-07T17:30:09.437164Z",
     "shell.execute_reply": "2021-10-07T17:30:09.438383Z"
    },
    "papermill": {
     "duration": 0.068184,
     "end_time": "2021-10-07T17:30:09.438818",
     "exception": false,
     "start_time": "2021-10-07T17:30:09.370634",
     "status": "completed"
    },
    "tags": []
   },
   "outputs": [],
   "source": [
    "df_pivot = df.pivot_table(index=\"PRODUCT\", columns = \"RECORD_TIME\", values = \"LISTING_COUNT\")"
   ]
  },
  {
   "cell_type": "code",
   "execution_count": 6,
   "id": "union-huntington",
   "metadata": {
    "execution": {
     "iopub.execute_input": "2021-10-07T17:30:09.496315Z",
     "iopub.status.busy": "2021-10-07T17:30:09.494098Z",
     "iopub.status.idle": "2021-10-07T17:30:09.499699Z",
     "shell.execute_reply": "2021-10-07T17:30:09.501101Z"
    },
    "papermill": {
     "duration": 0.041144,
     "end_time": "2021-10-07T17:30:09.501550",
     "exception": false,
     "start_time": "2021-10-07T17:30:09.460406",
     "status": "completed"
    },
    "tags": []
   },
   "outputs": [],
   "source": [
    "df_pivot.columns = [\"stamp_1\", \"stamp_2\"]\n",
    "df_pivot_diff = df_pivot.diff(axis=1)"
   ]
  },
  {
   "cell_type": "code",
   "execution_count": 7,
   "id": "fifth-motion",
   "metadata": {
    "execution": {
     "iopub.execute_input": "2021-10-07T17:30:09.559309Z",
     "iopub.status.busy": "2021-10-07T17:30:09.556544Z",
     "iopub.status.idle": "2021-10-07T17:30:11.066513Z",
     "shell.execute_reply": "2021-10-07T17:30:11.068019Z"
    },
    "papermill": {
     "duration": 1.544067,
     "end_time": "2021-10-07T17:30:11.068483",
     "exception": false,
     "start_time": "2021-10-07T17:30:09.524416",
     "status": "completed"
    },
    "tags": []
   },
   "outputs": [
    {
     "data": {
      "text/plain": [
       "<AxesSubplot:ylabel='PRODUCT'>"
      ]
     },
     "execution_count": 7,
     "metadata": {},
     "output_type": "execute_result"
    },
    {
     "data": {
      "image/png": "[encoded data removed]",
      "text/plain": [
       "<Figure size 432x288 with 1 Axes>"
      ]
     },
     "metadata": {
      "needs_background": "light"
     },
     "output_type": "display_data"
    }
   ],
   "source": [
    "df_pivot_diff.sort_values(\"stamp_2\", ascending = False)[\"stamp_2\"].head(10).plot.barh()"
   ]
  },
  {
   "cell_type": "code",
   "execution_count": null,
   "id": "extra-executive",
   "metadata": {
    "papermill": {
     "duration": 0.022385,
     "end_time": "2021-10-07T17:30:11.115680",
     "exception": false,
     "start_time": "2021-10-07T17:30:11.093295",
     "status": "completed"
    },
    "tags": []
   },
   "outputs": [],
   "source": []
  }
 ],
 "metadata": {
  "kernelspec": {
   "display_name": "Python 3",
   "language": "python",
   "name": "python3"
  },
  "language_info": {
   "codemirror_mode": {
    "name": "ipython",
    "version": 3
   },
   "file_extension": ".py",
   "mimetype": "text/x-python",
   "name": "python",
   "nbconvert_exporter": "python",
   "pygments_lexer": "ipython3",
   "version": "3.9.5"
  },
  "papermill": {
   "default_parameters": {},
   "duration": 7.846196,
   "end_time": "2021-10-07T17:30:12.527541",
   "environment_variables": {},
   "exception": null,
   "input_path": "eBay_Overview.ipynb",
   "output_path": "eBay_Overview.ipynb",
   "parameters": {},
   "start_time": "2021-10-07T17:30:04.681345",
   "version": "2.3.3"
  }
 },
 "nbformat": 4,
 "nbformat_minor": 5
}