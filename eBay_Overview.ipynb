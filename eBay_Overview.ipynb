{
 "cells": [
  {
   "cell_type": "code",
   "execution_count": 1,
   "id": "reverse-picking",
   "metadata": {
    "execution": {
     "iopub.execute_input": "2021-10-02T02:30:06.652892Z",
     "iopub.status.busy": "2021-10-02T02:30:06.650946Z",
     "iopub.status.idle": "2021-10-02T02:30:07.454237Z",
     "shell.execute_reply": "2021-10-02T02:30:07.455638Z"
    },
    "papermill": {
     "duration": 0.857366,
     "end_time": "2021-10-02T02:30:07.456302",
     "exception": false,
     "start_time": "2021-10-02T02:30:06.598936",
     "status": "completed"
    },
    "tags": []
   },
   "outputs": [],
   "source": [
    "import pandas as pd\n",
    "import sqlite3"
   ]
  },
  {
   "cell_type": "code",
   "execution_count": 2,
   "id": "innovative-syndrome",
   "metadata": {
    "execution": {
     "iopub.execute_input": "2021-10-02T02:30:07.507309Z",
     "iopub.status.busy": "2021-10-02T02:30:07.505343Z",
     "iopub.status.idle": "2021-10-02T02:30:07.930281Z",
     "shell.execute_reply": "2021-10-02T02:30:07.931627Z"
    },
    "papermill": {
     "duration": 0.454587,
     "end_time": "2021-10-02T02:30:07.932047",
     "exception": false,
     "start_time": "2021-10-02T02:30:07.477460",
     "status": "completed"
    },
    "tags": []
   },
   "outputs": [],
   "source": [
    "timestamps = pd.read_sql(\"select distinct record_time from EBAY_TOP_BERLIN order by record_time desc limit 2\", sqlite3.connect(\"UsedObjects.db\"))"
   ]
  },
  {
   "cell_type": "code",
   "execution_count": 3,
   "id": "periodic-identification",
   "metadata": {
    "execution": {
     "iopub.execute_input": "2021-10-02T02:30:07.999815Z",
     "iopub.status.busy": "2021-10-02T02:30:07.994692Z",
     "iopub.status.idle": "2021-10-02T02:30:08.015220Z",
     "shell.execute_reply": "2021-10-02T02:30:08.016528Z"
    },
    "papermill": {
     "duration": 0.065214,
     "end_time": "2021-10-02T02:30:08.016980",
     "exception": false,
     "start_time": "2021-10-02T02:30:07.951766",
     "status": "completed"
    },
    "tags": []
   },
   "outputs": [
    {
     "data": {
      "text/html": [
       "<div>\n",
       "<style scoped>\n",
       "    .dataframe tbody tr th:only-of-type {\n",
       "        vertical-align: middle;\n",
       "    }\n",
       "\n",
       "    .dataframe tbody tr th {\n",
       "        vertical-align: top;\n",
       "    }\n",
       "\n",
       "    .dataframe thead th {\n",
       "        text-align: right;\n",
       "    }\n",
       "</style>\n",
       "<table border=\"1\" class=\"dataframe\">\n",
       "  <thead>\n",
       "    <tr style=\"text-align: right;\">\n",
       "      <th></th>\n",
       "      <th>RECORD_TIME</th>\n",
       "    </tr>\n",
       "  </thead>\n",
       "  <tbody>\n",
       "    <tr>\n",
       "      <th>0</th>\n",
       "      <td>2021-10-02 04:30</td>\n",
       "    </tr>\n",
       "    <tr>\n",
       "      <th>1</th>\n",
       "      <td>2021-10-02 04:00</td>\n",
       "    </tr>\n",
       "  </tbody>\n",
       "</table>\n",
       "</div>"
      ],
      "text/plain": [
       "        RECORD_TIME\n",
       "0  2021-10-02 04:30\n",
       "1  2021-10-02 04:00"
      ]
     },
     "execution_count": 3,
     "metadata": {},
     "output_type": "execute_result"
    }
   ],
   "source": [
    "timestamps"
   ]
  },
  {
   "cell_type": "code",
   "execution_count": 4,
   "id": "alternate-victory",
   "metadata": {
    "execution": {
     "iopub.execute_input": "2021-10-02T02:30:08.070202Z",
     "iopub.status.busy": "2021-10-02T02:30:08.068178Z",
     "iopub.status.idle": "2021-10-02T02:30:08.703514Z",
     "shell.execute_reply": "2021-10-02T02:30:08.704765Z"
    },
    "papermill": {
     "duration": 0.665925,
     "end_time": "2021-10-02T02:30:08.705158",
     "exception": false,
     "start_time": "2021-10-02T02:30:08.039233",
     "status": "completed"
    },
    "tags": []
   },
   "outputs": [],
   "source": [
    "df = pd.read_sql(\"select * from EBAY_TOP_BERLIN where record_time in (select distinct record_time from EBAY_TOP_BERLIN order by record_time desc limit 2)\", sqlite3.connect(\"UsedObjects.db\"))"
   ]
  },
  {
   "cell_type": "code",
   "execution_count": 5,
   "id": "popular-active",
   "metadata": {
    "execution": {
     "iopub.execute_input": "2021-10-02T02:30:08.786179Z",
     "iopub.status.busy": "2021-10-02T02:30:08.775043Z",
     "iopub.status.idle": "2021-10-02T02:30:08.801329Z",
     "shell.execute_reply": "2021-10-02T02:30:08.802543Z"
    },
    "papermill": {
     "duration": 0.070886,
     "end_time": "2021-10-02T02:30:08.803122",
     "exception": false,
     "start_time": "2021-10-02T02:30:08.732236",
     "status": "completed"
    },
    "tags": []
   },
   "outputs": [],
   "source": [
    "df_pivot = df.pivot_table(index=\"PRODUCT\", columns = \"RECORD_TIME\", values = \"LISTING_COUNT\")"
   ]
  },
  {
   "cell_type": "code",
   "execution_count": 6,
   "id": "union-huntington",
   "metadata": {
    "execution": {
     "iopub.execute_input": "2021-10-02T02:30:08.862480Z",
     "iopub.status.busy": "2021-10-02T02:30:08.860034Z",
     "iopub.status.idle": "2021-10-02T02:30:08.865852Z",
     "shell.execute_reply": "2021-10-02T02:30:08.867211Z"
    },
    "papermill": {
     "duration": 0.042228,
     "end_time": "2021-10-02T02:30:08.867633",
     "exception": false,
     "start_time": "2021-10-02T02:30:08.825405",
     "status": "completed"
    },
    "tags": []
   },
   "outputs": [],
   "source": [
    "df_pivot.columns = [\"stamp_1\", \"stamp_2\"]\n",
    "df_pivot_diff = df_pivot.diff(axis=1)"
   ]
  },
  {
   "cell_type": "code",
   "execution_count": 7,
   "id": "fifth-motion",
   "metadata": {
    "execution": {
     "iopub.execute_input": "2021-10-02T02:30:08.921750Z",
     "iopub.status.busy": "2021-10-02T02:30:08.919479Z",
     "iopub.status.idle": "2021-10-02T02:30:10.402381Z",
     "shell.execute_reply": "2021-10-02T02:30:10.403795Z"
    },
    "papermill": {
     "duration": 1.516192,
     "end_time": "2021-10-02T02:30:10.404232",
     "exception": false,
     "start_time": "2021-10-02T02:30:08.888040",
     "status": "completed"
    },
    "tags": []
   },
   "outputs": [
    {
     "data": {
      "text/plain": [
       "<AxesSubplot:ylabel='PRODUCT'>"
      ]
     },
     "execution_count": 7,
     "metadata": {},
     "output_type": "execute_result"
    },
    {
     "data": {
      "image/png": "[encoded data removed]",
      "text/plain": [
       "<Figure size 432x288 with 1 Axes>"
      ]
     },
     "metadata": {
      "needs_background": "light"
     },
     "output_type": "display_data"
    }
   ],
   "source": [
    "df_pivot_diff.sort_values(\"stamp_2\", ascending = False)[\"stamp_2\"].head(10).plot.barh()"
   ]
  },
  {
   "cell_type": "code",
   "execution_count": null,
   "id": "extra-executive",
   "metadata": {
    "papermill": {
     "duration": 0.021991,
     "end_time": "2021-10-02T02:30:10.450579",
     "exception": false,
     "start_time": "2021-10-02T02:30:10.428588",
     "status": "completed"
    },
    "tags": []
   },
   "outputs": [],
   "source": []
  }
 ],
 "metadata": {
  "kernelspec": {
   "display_name": "Python 3",
   "language": "python",
   "name": "python3"
  },
  "language_info": {
   "codemirror_mode": {
    "name": "ipython",
    "version": 3
   },
   "file_extension": ".py",
   "mimetype": "text/x-python",
   "name": "python",
   "nbconvert_exporter": "python",
   "pygments_lexer": "ipython3",
   "version": "3.9.5"
  },
  "papermill": {
   "default_parameters": {},
   "duration": 7.833652,
   "end_time": "2021-10-02T02:30:12.033697",
   "environment_variables": {},
   "exception": null,
   "input_path": "eBay_Overview.ipynb",
   "output_path": "eBay_Overview.ipynb",
   "parameters": {},
   "start_time": "2021-10-02T02:30:04.200045",
   "version": "2.3.3"
  }
 },
 "nbformat": 4,
 "nbformat_minor": 5
}