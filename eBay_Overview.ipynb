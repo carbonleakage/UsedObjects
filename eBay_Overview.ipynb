{
 "cells": [
  {
   "cell_type": "code",
   "execution_count": 1,
   "id": "reverse-picking",
   "metadata": {
    "execution": {
     "iopub.execute_input": "2021-11-26T00:30:07.540044Z",
     "iopub.status.busy": "2021-11-26T00:30:07.537514Z",
     "iopub.status.idle": "2021-11-26T00:30:08.455281Z",
     "shell.execute_reply": "2021-11-26T00:30:08.453016Z"
    },
    "papermill": {
     "duration": 0.968334,
     "end_time": "2021-11-26T00:30:08.455801",
     "exception": false,
     "start_time": "2021-11-26T00:30:07.487467",
     "status": "completed"
    },
    "tags": []
   },
   "outputs": [],
   "source": [
    "import pandas as pd\n",
    "import sqlite3"
   ]
  },
  {
   "cell_type": "code",
   "execution_count": 2,
   "id": "innovative-syndrome",
   "metadata": {
    "execution": {
     "iopub.execute_input": "2021-11-26T00:30:08.525966Z",
     "iopub.status.busy": "2021-11-26T00:30:08.523587Z",
     "iopub.status.idle": "2021-11-26T00:30:09.466872Z",
     "shell.execute_reply": "2021-11-26T00:30:09.468370Z"
    },
    "papermill": {
     "duration": 0.977397,
     "end_time": "2021-11-26T00:30:09.468918",
     "exception": false,
     "start_time": "2021-11-26T00:30:08.491521",
     "status": "completed"
    },
    "tags": []
   },
   "outputs": [],
   "source": [
    "timestamps = pd.read_sql(\"select distinct record_time from EBAY_TOP_BERLIN order by record_time desc limit 2\", sqlite3.connect(\"UsedObjects.db\"))"
   ]
  },
  {
   "cell_type": "code",
   "execution_count": 3,
   "id": "periodic-identification",
   "metadata": {
    "execution": {
     "iopub.execute_input": "2021-11-26T00:30:09.543510Z",
     "iopub.status.busy": "2021-11-26T00:30:09.537246Z",
     "iopub.status.idle": "2021-11-26T00:30:09.560504Z",
     "shell.execute_reply": "2021-11-26T00:30:09.562429Z"
    },
    "papermill": {
     "duration": 0.073869,
     "end_time": "2021-11-26T00:30:09.562997",
     "exception": false,
     "start_time": "2021-11-26T00:30:09.489128",
     "status": "completed"
    },
    "tags": []
   },
   "outputs": [
    {
     "data": {
      "text/html": [
       "<div>\n",
       "<style scoped>\n",
       "    .dataframe tbody tr th:only-of-type {\n",
       "        vertical-align: middle;\n",
       "    }\n",
       "\n",
       "    .dataframe tbody tr th {\n",
       "        vertical-align: top;\n",
       "    }\n",
       "\n",
       "    .dataframe thead th {\n",
       "        text-align: right;\n",
       "    }\n",
       "</style>\n",
       "<table border=\"1\" class=\"dataframe\">\n",
       "  <thead>\n",
       "    <tr style=\"text-align: right;\">\n",
       "      <th></th>\n",
       "      <th>RECORD_TIME</th>\n",
       "    </tr>\n",
       "  </thead>\n",
       "  <tbody>\n",
       "    <tr>\n",
       "      <th>0</th>\n",
       "      <td>2021-11-26 01:30</td>\n",
       "    </tr>\n",
       "    <tr>\n",
       "      <th>1</th>\n",
       "      <td>2021-11-26 01:00</td>\n",
       "    </tr>\n",
       "  </tbody>\n",
       "</table>\n",
       "</div>"
      ],
      "text/plain": [
       "        RECORD_TIME\n",
       "0  2021-11-26 01:30\n",
       "1  2021-11-26 01:00"
      ]
     },
     "execution_count": 3,
     "metadata": {},
     "output_type": "execute_result"
    }
   ],
   "source": [
    "timestamps"
   ]
  },
  {
   "cell_type": "code",
   "execution_count": 4,
   "id": "alternate-victory",
   "metadata": {
    "execution": {
     "iopub.execute_input": "2021-11-26T00:30:09.617081Z",
     "iopub.status.busy": "2021-11-26T00:30:09.615115Z",
     "iopub.status.idle": "2021-11-26T00:30:10.955472Z",
     "shell.execute_reply": "2021-11-26T00:30:10.957364Z"
    },
    "papermill": {
     "duration": 1.371047,
     "end_time": "2021-11-26T00:30:10.957922",
     "exception": false,
     "start_time": "2021-11-26T00:30:09.586875",
     "status": "completed"
    },
    "tags": []
   },
   "outputs": [],
   "source": [
    "df = pd.read_sql(\"select * from EBAY_TOP_BERLIN where record_time in (select distinct record_time from EBAY_TOP_BERLIN order by record_time desc limit 2)\", sqlite3.connect(\"UsedObjects.db\"))"
   ]
  },
  {
   "cell_type": "code",
   "execution_count": 5,
   "id": "popular-active",
   "metadata": {
    "execution": {
     "iopub.execute_input": "2021-11-26T00:30:11.034175Z",
     "iopub.status.busy": "2021-11-26T00:30:11.021481Z",
     "iopub.status.idle": "2021-11-26T00:30:11.053018Z",
     "shell.execute_reply": "2021-11-26T00:30:11.054391Z"
    },
    "papermill": {
     "duration": 0.074672,
     "end_time": "2021-11-26T00:30:11.054861",
     "exception": false,
     "start_time": "2021-11-26T00:30:10.980189",
     "status": "completed"
    },
    "tags": []
   },
   "outputs": [],
   "source": [
    "df_pivot = df.pivot_table(index=\"PRODUCT\", columns = \"RECORD_TIME\", values = \"LISTING_COUNT\")"
   ]
  },
  {
   "cell_type": "code",
   "execution_count": 6,
   "id": "union-huntington",
   "metadata": {
    "execution": {
     "iopub.execute_input": "2021-11-26T00:30:11.113055Z",
     "iopub.status.busy": "2021-11-26T00:30:11.110804Z",
     "iopub.status.idle": "2021-11-26T00:30:11.116414Z",
     "shell.execute_reply": "2021-11-26T00:30:11.117895Z"
    },
    "papermill": {
     "duration": 0.043601,
     "end_time": "2021-11-26T00:30:11.118398",
     "exception": false,
     "start_time": "2021-11-26T00:30:11.074797",
     "status": "completed"
    },
    "tags": []
   },
   "outputs": [],
   "source": [
    "df_pivot.columns = [\"stamp_1\", \"stamp_2\"]\n",
    "df_pivot_diff = df_pivot.diff(axis=1)"
   ]
  },
  {
   "cell_type": "code",
   "execution_count": 7,
   "id": "fifth-motion",
   "metadata": {
    "execution": {
     "iopub.execute_input": "2021-11-26T00:30:11.179563Z",
     "iopub.status.busy": "2021-11-26T00:30:11.176964Z",
     "iopub.status.idle": "2021-11-26T00:30:13.164808Z",
     "shell.execute_reply": "2021-11-26T00:30:13.167270Z"
    },
    "papermill": {
     "duration": 2.026526,
     "end_time": "2021-11-26T00:30:13.168117",
     "exception": false,
     "start_time": "2021-11-26T00:30:11.141591",
     "status": "completed"
    },
    "tags": []
   },
   "outputs": [
    {
     "data": {
      "text/plain": [
       "<AxesSubplot:ylabel='PRODUCT'>"
      ]
     },
     "execution_count": 7,
     "metadata": {},
     "output_type": "execute_result"
    },
    {
     "data": {
      "image/png": "[encoded data removed]",
      "text/plain": [
       "<Figure size 432x288 with 1 Axes>"
      ]
     },
     "metadata": {
      "needs_background": "light"
     },
     "output_type": "display_data"
    }
   ],
   "source": [
    "df_pivot_diff.sort_values(\"stamp_2\", ascending = False)[\"stamp_2\"].head(10).plot.barh()"
   ]
  },
  {
   "cell_type": "code",
   "execution_count": null,
   "id": "extra-executive",
   "metadata": {
    "papermill": {
     "duration": 0.027145,
     "end_time": "2021-11-26T00:30:13.227490",
     "exception": false,
     "start_time": "2021-11-26T00:30:13.200345",
     "status": "completed"
    },
    "tags": []
   },
   "outputs": [],
   "source": []
  }
 ],
 "metadata": {
  "kernelspec": {
   "display_name": "Python 3",
   "language": "python",
   "name": "python3"
  },
  "language_info": {
   "codemirror_mode": {
    "name": "ipython",
    "version": 3
   },
   "file_extension": ".py",
   "mimetype": "text/x-python",
   "name": "python",
   "nbconvert_exporter": "python",
   "pygments_lexer": "ipython3",
   "version": "3.9.5"
  },
  "papermill": {
   "default_parameters": {},
   "duration": 9.945918,
   "end_time": "2021-11-26T00:30:14.691955",
   "environment_variables": {},
   "exception": null,
   "input_path": "eBay_Overview.ipynb",
   "output_path": "eBay_Overview.ipynb",
   "parameters": {},
   "start_time": "2021-11-26T00:30:04.746037",
   "version": "2.3.3"
  }
 },
 "nbformat": 4,
 "nbformat_minor": 5
}