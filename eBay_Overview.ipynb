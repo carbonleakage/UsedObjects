{
 "cells": [
  {
   "cell_type": "code",
   "execution_count": 1,
   "id": "reverse-picking",
   "metadata": {
    "execution": {
     "iopub.execute_input": "2021-08-14T00:30:07.488217Z",
     "iopub.status.busy": "2021-08-14T00:30:07.486236Z",
     "iopub.status.idle": "2021-08-14T00:30:08.292473Z",
     "shell.execute_reply": "2021-08-14T00:30:08.293717Z"
    },
    "papermill": {
     "duration": 0.85798,
     "end_time": "2021-08-14T00:30:08.294394",
     "exception": false,
     "start_time": "2021-08-14T00:30:07.436414",
     "status": "completed"
    },
    "tags": []
   },
   "outputs": [],
   "source": [
    "import pandas as pd\n",
    "import sqlite3"
   ]
  },
  {
   "cell_type": "code",
   "execution_count": 2,
   "id": "innovative-syndrome",
   "metadata": {
    "execution": {
     "iopub.execute_input": "2021-08-14T00:30:08.344998Z",
     "iopub.status.busy": "2021-08-14T00:30:08.343104Z",
     "iopub.status.idle": "2021-08-14T00:30:08.386837Z",
     "shell.execute_reply": "2021-08-14T00:30:08.388035Z"
    },
    "papermill": {
     "duration": 0.07319,
     "end_time": "2021-08-14T00:30:08.388429",
     "exception": false,
     "start_time": "2021-08-14T00:30:08.315239",
     "status": "completed"
    },
    "tags": []
   },
   "outputs": [],
   "source": [
    "timestamps = pd.read_sql(\"select distinct record_time from EBAY_TOP_BERLIN order by record_time desc limit 2\", sqlite3.connect(\"UsedObjects.db\"))"
   ]
  },
  {
   "cell_type": "code",
   "execution_count": 3,
   "id": "periodic-identification",
   "metadata": {
    "execution": {
     "iopub.execute_input": "2021-08-14T00:30:08.452568Z",
     "iopub.status.busy": "2021-08-14T00:30:08.450514Z",
     "iopub.status.idle": "2021-08-14T00:30:08.471435Z",
     "shell.execute_reply": "2021-08-14T00:30:08.472636Z"
    },
    "papermill": {
     "duration": 0.064088,
     "end_time": "2021-08-14T00:30:08.473067",
     "exception": false,
     "start_time": "2021-08-14T00:30:08.408979",
     "status": "completed"
    },
    "tags": []
   },
   "outputs": [
    {
     "data": {
      "text/html": [
       "<div>\n",
       "<style scoped>\n",
       "    .dataframe tbody tr th:only-of-type {\n",
       "        vertical-align: middle;\n",
       "    }\n",
       "\n",
       "    .dataframe tbody tr th {\n",
       "        vertical-align: top;\n",
       "    }\n",
       "\n",
       "    .dataframe thead th {\n",
       "        text-align: right;\n",
       "    }\n",
       "</style>\n",
       "<table border=\"1\" class=\"dataframe\">\n",
       "  <thead>\n",
       "    <tr style=\"text-align: right;\">\n",
       "      <th></th>\n",
       "      <th>RECORD_TIME</th>\n",
       "    </tr>\n",
       "  </thead>\n",
       "  <tbody>\n",
       "    <tr>\n",
       "      <th>0</th>\n",
       "      <td>2021-08-14 02:30</td>\n",
       "    </tr>\n",
       "    <tr>\n",
       "      <th>1</th>\n",
       "      <td>2021-08-14 02:00</td>\n",
       "    </tr>\n",
       "  </tbody>\n",
       "</table>\n",
       "</div>"
      ],
      "text/plain": [
       "        RECORD_TIME\n",
       "0  2021-08-14 02:30\n",
       "1  2021-08-14 02:00"
      ]
     },
     "execution_count": 3,
     "metadata": {},
     "output_type": "execute_result"
    }
   ],
   "source": [
    "timestamps"
   ]
  },
  {
   "cell_type": "code",
   "execution_count": 4,
   "id": "alternate-victory",
   "metadata": {
    "execution": {
     "iopub.execute_input": "2021-08-14T00:30:08.528110Z",
     "iopub.status.busy": "2021-08-14T00:30:08.525729Z",
     "iopub.status.idle": "2021-08-14T00:30:08.592272Z",
     "shell.execute_reply": "2021-08-14T00:30:08.593467Z"
    },
    "papermill": {
     "duration": 0.09712,
     "end_time": "2021-08-14T00:30:08.593911",
     "exception": false,
     "start_time": "2021-08-14T00:30:08.496791",
     "status": "completed"
    },
    "tags": []
   },
   "outputs": [],
   "source": [
    "df = pd.read_sql(\"select * from EBAY_TOP_BERLIN where record_time in (select distinct record_time from EBAY_TOP_BERLIN order by record_time desc limit 2)\", sqlite3.connect(\"UsedObjects.db\"))"
   ]
  },
  {
   "cell_type": "code",
   "execution_count": 5,
   "id": "popular-active",
   "metadata": {
    "execution": {
     "iopub.execute_input": "2021-08-14T00:30:08.664101Z",
     "iopub.status.busy": "2021-08-14T00:30:08.654214Z",
     "iopub.status.idle": "2021-08-14T00:30:08.680277Z",
     "shell.execute_reply": "2021-08-14T00:30:08.681482Z"
    },
    "papermill": {
     "duration": 0.067749,
     "end_time": "2021-08-14T00:30:08.681984",
     "exception": false,
     "start_time": "2021-08-14T00:30:08.614235",
     "status": "completed"
    },
    "tags": []
   },
   "outputs": [],
   "source": [
    "df_pivot = df.pivot_table(index=\"PRODUCT\", columns = \"RECORD_TIME\", values = \"LISTING_COUNT\")"
   ]
  },
  {
   "cell_type": "code",
   "execution_count": 6,
   "id": "union-huntington",
   "metadata": {
    "execution": {
     "iopub.execute_input": "2021-08-14T00:30:08.738940Z",
     "iopub.status.busy": "2021-08-14T00:30:08.736798Z",
     "iopub.status.idle": "2021-08-14T00:30:08.742052Z",
     "shell.execute_reply": "2021-08-14T00:30:08.743375Z"
    },
    "papermill": {
     "duration": 0.040282,
     "end_time": "2021-08-14T00:30:08.743799",
     "exception": false,
     "start_time": "2021-08-14T00:30:08.703517",
     "status": "completed"
    },
    "tags": []
   },
   "outputs": [],
   "source": [
    "df_pivot.columns = [\"stamp_1\", \"stamp_2\"]\n",
    "df_pivot_diff = df_pivot.diff(axis=1)"
   ]
  },
  {
   "cell_type": "code",
   "execution_count": 7,
   "id": "fifth-motion",
   "metadata": {
    "execution": {
     "iopub.execute_input": "2021-08-14T00:30:08.799350Z",
     "iopub.status.busy": "2021-08-14T00:30:08.796723Z",
     "iopub.status.idle": "2021-08-14T00:30:10.276082Z",
     "shell.execute_reply": "2021-08-14T00:30:10.277383Z"
    },
    "papermill": {
     "duration": 1.512507,
     "end_time": "2021-08-14T00:30:10.277801",
     "exception": false,
     "start_time": "2021-08-14T00:30:08.765294",
     "status": "completed"
    },
    "tags": []
   },
   "outputs": [
    {
     "data": {
      "text/plain": [
       "<AxesSubplot:ylabel='PRODUCT'>"
      ]
     },
     "execution_count": 7,
     "metadata": {},
     "output_type": "execute_result"
    },
    {
     "data": {
      "image/png": "[encoded data removed]",
      "text/plain": [
       "<Figure size 432x288 with 1 Axes>"
      ]
     },
     "metadata": {
      "needs_background": "light"
     },
     "output_type": "display_data"
    }
   ],
   "source": [
    "df_pivot_diff.sort_values(\"stamp_2\", ascending = False)[\"stamp_2\"].head(10).plot.barh()"
   ]
  },
  {
   "cell_type": "code",
   "execution_count": null,
   "id": "extra-executive",
   "metadata": {
    "papermill": {
     "duration": 0.021959,
     "end_time": "2021-08-14T00:30:10.324258",
     "exception": false,
     "start_time": "2021-08-14T00:30:10.302299",
     "status": "completed"
    },
    "tags": []
   },
   "outputs": [],
   "source": []
  }
 ],
 "metadata": {
  "kernelspec": {
   "display_name": "Python 3",
   "language": "python",
   "name": "python3"
  },
  "language_info": {
   "codemirror_mode": {
    "name": "ipython",
    "version": 3
   },
   "file_extension": ".py",
   "mimetype": "text/x-python",
   "name": "python",
   "nbconvert_exporter": "python",
   "pygments_lexer": "ipython3",
   "version": "3.9.5"
  },
  "papermill": {
   "default_parameters": {},
   "duration": 6.833672,
   "end_time": "2021-08-14T00:30:11.847225",
   "environment_variables": {},
   "exception": null,
   "input_path": "eBay_Overview.ipynb",
   "output_path": "eBay_Overview.ipynb",
   "parameters": {},
   "start_time": "2021-08-14T00:30:05.013553",
   "version": "2.3.3"
  }
 },
 "nbformat": 4,
 "nbformat_minor": 5
}