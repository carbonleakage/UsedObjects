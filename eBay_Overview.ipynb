{
 "cells": [
  {
   "cell_type": "code",
   "execution_count": 1,
   "id": "reverse-picking",
   "metadata": {
    "execution": {
     "iopub.execute_input": "2021-11-24T12:30:07.600034Z",
     "iopub.status.busy": "2021-11-24T12:30:07.597822Z",
     "iopub.status.idle": "2021-11-24T12:30:08.569293Z",
     "shell.execute_reply": "2021-11-24T12:30:08.570853Z"
    },
    "papermill": {
     "duration": 1.017948,
     "end_time": "2021-11-24T12:30:08.571598",
     "exception": false,
     "start_time": "2021-11-24T12:30:07.553650",
     "status": "completed"
    },
    "tags": []
   },
   "outputs": [],
   "source": [
    "import pandas as pd\n",
    "import sqlite3"
   ]
  },
  {
   "cell_type": "code",
   "execution_count": 2,
   "id": "innovative-syndrome",
   "metadata": {
    "execution": {
     "iopub.execute_input": "2021-11-24T12:30:08.635635Z",
     "iopub.status.busy": "2021-11-24T12:30:08.633318Z",
     "iopub.status.idle": "2021-11-24T12:30:09.537267Z",
     "shell.execute_reply": "2021-11-24T12:30:09.538881Z"
    },
    "papermill": {
     "duration": 0.937873,
     "end_time": "2021-11-24T12:30:09.539365",
     "exception": false,
     "start_time": "2021-11-24T12:30:08.601492",
     "status": "completed"
    },
    "tags": []
   },
   "outputs": [],
   "source": [
    "timestamps = pd.read_sql(\"select distinct record_time from EBAY_TOP_BERLIN order by record_time desc limit 2\", sqlite3.connect(\"UsedObjects.db\"))"
   ]
  },
  {
   "cell_type": "code",
   "execution_count": 3,
   "id": "periodic-identification",
   "metadata": {
    "execution": {
     "iopub.execute_input": "2021-11-24T12:30:09.614335Z",
     "iopub.status.busy": "2021-11-24T12:30:09.611853Z",
     "iopub.status.idle": "2021-11-24T12:30:09.635712Z",
     "shell.execute_reply": "2021-11-24T12:30:09.637437Z"
    },
    "papermill": {
     "duration": 0.078024,
     "end_time": "2021-11-24T12:30:09.637957",
     "exception": false,
     "start_time": "2021-11-24T12:30:09.559933",
     "status": "completed"
    },
    "tags": []
   },
   "outputs": [
    {
     "data": {
      "text/html": [
       "<div>\n",
       "<style scoped>\n",
       "    .dataframe tbody tr th:only-of-type {\n",
       "        vertical-align: middle;\n",
       "    }\n",
       "\n",
       "    .dataframe tbody tr th {\n",
       "        vertical-align: top;\n",
       "    }\n",
       "\n",
       "    .dataframe thead th {\n",
       "        text-align: right;\n",
       "    }\n",
       "</style>\n",
       "<table border=\"1\" class=\"dataframe\">\n",
       "  <thead>\n",
       "    <tr style=\"text-align: right;\">\n",
       "      <th></th>\n",
       "      <th>RECORD_TIME</th>\n",
       "    </tr>\n",
       "  </thead>\n",
       "  <tbody>\n",
       "    <tr>\n",
       "      <th>0</th>\n",
       "      <td>2021-11-24 13:30</td>\n",
       "    </tr>\n",
       "    <tr>\n",
       "      <th>1</th>\n",
       "      <td>2021-11-24 13:00</td>\n",
       "    </tr>\n",
       "  </tbody>\n",
       "</table>\n",
       "</div>"
      ],
      "text/plain": [
       "        RECORD_TIME\n",
       "0  2021-11-24 13:30\n",
       "1  2021-11-24 13:00"
      ]
     },
     "execution_count": 3,
     "metadata": {},
     "output_type": "execute_result"
    }
   ],
   "source": [
    "timestamps"
   ]
  },
  {
   "cell_type": "code",
   "execution_count": 4,
   "id": "alternate-victory",
   "metadata": {
    "execution": {
     "iopub.execute_input": "2021-11-24T12:30:09.695066Z",
     "iopub.status.busy": "2021-11-24T12:30:09.692961Z",
     "iopub.status.idle": "2021-11-24T12:30:11.004082Z",
     "shell.execute_reply": "2021-11-24T12:30:11.007711Z"
    },
    "papermill": {
     "duration": 1.348359,
     "end_time": "2021-11-24T12:30:11.008402",
     "exception": false,
     "start_time": "2021-11-24T12:30:09.660043",
     "status": "completed"
    },
    "tags": []
   },
   "outputs": [],
   "source": [
    "df = pd.read_sql(\"select * from EBAY_TOP_BERLIN where record_time in (select distinct record_time from EBAY_TOP_BERLIN order by record_time desc limit 2)\", sqlite3.connect(\"UsedObjects.db\"))"
   ]
  },
  {
   "cell_type": "code",
   "execution_count": 5,
   "id": "popular-active",
   "metadata": {
    "execution": {
     "iopub.execute_input": "2021-11-24T12:30:11.087582Z",
     "iopub.status.busy": "2021-11-24T12:30:11.079763Z",
     "iopub.status.idle": "2021-11-24T12:30:11.114632Z",
     "shell.execute_reply": "2021-11-24T12:30:11.115949Z"
    },
    "papermill": {
     "duration": 0.08002,
     "end_time": "2021-11-24T12:30:11.116432",
     "exception": false,
     "start_time": "2021-11-24T12:30:11.036412",
     "status": "completed"
    },
    "tags": []
   },
   "outputs": [],
   "source": [
    "df_pivot = df.pivot_table(index=\"PRODUCT\", columns = \"RECORD_TIME\", values = \"LISTING_COUNT\")"
   ]
  },
  {
   "cell_type": "code",
   "execution_count": 6,
   "id": "union-huntington",
   "metadata": {
    "execution": {
     "iopub.execute_input": "2021-11-24T12:30:11.177387Z",
     "iopub.status.busy": "2021-11-24T12:30:11.175216Z",
     "iopub.status.idle": "2021-11-24T12:30:11.180185Z",
     "shell.execute_reply": "2021-11-24T12:30:11.181792Z"
    },
    "papermill": {
     "duration": 0.045179,
     "end_time": "2021-11-24T12:30:11.182287",
     "exception": false,
     "start_time": "2021-11-24T12:30:11.137108",
     "status": "completed"
    },
    "tags": []
   },
   "outputs": [],
   "source": [
    "df_pivot.columns = [\"stamp_1\", \"stamp_2\"]\n",
    "df_pivot_diff = df_pivot.diff(axis=1)"
   ]
  },
  {
   "cell_type": "code",
   "execution_count": 7,
   "id": "fifth-motion",
   "metadata": {
    "execution": {
     "iopub.execute_input": "2021-11-24T12:30:11.240061Z",
     "iopub.status.busy": "2021-11-24T12:30:11.237430Z",
     "iopub.status.idle": "2021-11-24T12:30:12.964799Z",
     "shell.execute_reply": "2021-11-24T12:30:12.966397Z"
    },
    "papermill": {
     "duration": 1.76413,
     "end_time": "2021-11-24T12:30:12.966907",
     "exception": false,
     "start_time": "2021-11-24T12:30:11.202777",
     "status": "completed"
    },
    "tags": []
   },
   "outputs": [
    {
     "data": {
      "text/plain": [
       "<AxesSubplot:ylabel='PRODUCT'>"
      ]
     },
     "execution_count": 7,
     "metadata": {},
     "output_type": "execute_result"
    },
    {
     "data": {
      "image/png": "[encoded data removed]",
      "text/plain": [
       "<Figure size 432x288 with 1 Axes>"
      ]
     },
     "metadata": {
      "needs_background": "light"
     },
     "output_type": "display_data"
    }
   ],
   "source": [
    "df_pivot_diff.sort_values(\"stamp_2\", ascending = False)[\"stamp_2\"].head(10).plot.barh()"
   ]
  },
  {
   "cell_type": "code",
   "execution_count": null,
   "id": "extra-executive",
   "metadata": {
    "papermill": {
     "duration": 0.022325,
     "end_time": "2021-11-24T12:30:13.014161",
     "exception": false,
     "start_time": "2021-11-24T12:30:12.991836",
     "status": "completed"
    },
    "tags": []
   },
   "outputs": [],
   "source": []
  }
 ],
 "metadata": {
  "kernelspec": {
   "display_name": "Python 3",
   "language": "python",
   "name": "python3"
  },
  "language_info": {
   "codemirror_mode": {
    "name": "ipython",
    "version": 3
   },
   "file_extension": ".py",
   "mimetype": "text/x-python",
   "name": "python",
   "nbconvert_exporter": "python",
   "pygments_lexer": "ipython3",
   "version": "3.9.5"
  },
  "papermill": {
   "default_parameters": {},
   "duration": 8.893726,
   "end_time": "2021-11-24T12:30:13.659295",
   "environment_variables": {},
   "exception": null,
   "input_path": "eBay_Overview.ipynb",
   "output_path": "eBay_Overview.ipynb",
   "parameters": {},
   "start_time": "2021-11-24T12:30:04.765569",
   "version": "2.3.3"
  }
 },
 "nbformat": 4,
 "nbformat_minor": 5
}