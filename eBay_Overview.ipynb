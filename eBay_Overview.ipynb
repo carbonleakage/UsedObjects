{
 "cells": [
  {
   "cell_type": "code",
   "execution_count": 1,
   "id": "reverse-picking",
   "metadata": {
    "execution": {
     "iopub.execute_input": "2021-10-05T15:30:06.964526Z",
     "iopub.status.busy": "2021-10-05T15:30:06.962576Z",
     "iopub.status.idle": "2021-10-05T15:30:07.772155Z",
     "shell.execute_reply": "2021-10-05T15:30:07.770387Z"
    },
    "papermill": {
     "duration": 0.861721,
     "end_time": "2021-10-05T15:30:07.772593",
     "exception": false,
     "start_time": "2021-10-05T15:30:06.910872",
     "status": "completed"
    },
    "tags": []
   },
   "outputs": [],
   "source": [
    "import pandas as pd\n",
    "import sqlite3"
   ]
  },
  {
   "cell_type": "code",
   "execution_count": 2,
   "id": "innovative-syndrome",
   "metadata": {
    "execution": {
     "iopub.execute_input": "2021-10-05T15:30:07.822744Z",
     "iopub.status.busy": "2021-10-05T15:30:07.820899Z",
     "iopub.status.idle": "2021-10-05T15:30:08.273087Z",
     "shell.execute_reply": "2021-10-05T15:30:08.274275Z"
    },
    "papermill": {
     "duration": 0.481349,
     "end_time": "2021-10-05T15:30:08.274670",
     "exception": false,
     "start_time": "2021-10-05T15:30:07.793321",
     "status": "completed"
    },
    "tags": []
   },
   "outputs": [],
   "source": [
    "timestamps = pd.read_sql(\"select distinct record_time from EBAY_TOP_BERLIN order by record_time desc limit 2\", sqlite3.connect(\"UsedObjects.db\"))"
   ]
  },
  {
   "cell_type": "code",
   "execution_count": 3,
   "id": "periodic-identification",
   "metadata": {
    "execution": {
     "iopub.execute_input": "2021-10-05T15:30:08.337819Z",
     "iopub.status.busy": "2021-10-05T15:30:08.335820Z",
     "iopub.status.idle": "2021-10-05T15:30:08.356143Z",
     "shell.execute_reply": "2021-10-05T15:30:08.357416Z"
    },
    "papermill": {
     "duration": 0.063697,
     "end_time": "2021-10-05T15:30:08.357829",
     "exception": false,
     "start_time": "2021-10-05T15:30:08.294132",
     "status": "completed"
    },
    "tags": []
   },
   "outputs": [
    {
     "data": {
      "text/html": [
       "<div>\n",
       "<style scoped>\n",
       "    .dataframe tbody tr th:only-of-type {\n",
       "        vertical-align: middle;\n",
       "    }\n",
       "\n",
       "    .dataframe tbody tr th {\n",
       "        vertical-align: top;\n",
       "    }\n",
       "\n",
       "    .dataframe thead th {\n",
       "        text-align: right;\n",
       "    }\n",
       "</style>\n",
       "<table border=\"1\" class=\"dataframe\">\n",
       "  <thead>\n",
       "    <tr style=\"text-align: right;\">\n",
       "      <th></th>\n",
       "      <th>RECORD_TIME</th>\n",
       "    </tr>\n",
       "  </thead>\n",
       "  <tbody>\n",
       "    <tr>\n",
       "      <th>0</th>\n",
       "      <td>2021-10-05 17:30</td>\n",
       "    </tr>\n",
       "    <tr>\n",
       "      <th>1</th>\n",
       "      <td>2021-10-05 17:00</td>\n",
       "    </tr>\n",
       "  </tbody>\n",
       "</table>\n",
       "</div>"
      ],
      "text/plain": [
       "        RECORD_TIME\n",
       "0  2021-10-05 17:30\n",
       "1  2021-10-05 17:00"
      ]
     },
     "execution_count": 3,
     "metadata": {},
     "output_type": "execute_result"
    }
   ],
   "source": [
    "timestamps"
   ]
  },
  {
   "cell_type": "code",
   "execution_count": 4,
   "id": "alternate-victory",
   "metadata": {
    "execution": {
     "iopub.execute_input": "2021-10-05T15:30:08.418418Z",
     "iopub.status.busy": "2021-10-05T15:30:08.416586Z",
     "iopub.status.idle": "2021-10-05T15:30:09.085013Z",
     "shell.execute_reply": "2021-10-05T15:30:09.086219Z"
    },
    "papermill": {
     "duration": 0.701417,
     "end_time": "2021-10-05T15:30:09.086608",
     "exception": false,
     "start_time": "2021-10-05T15:30:08.385191",
     "status": "completed"
    },
    "tags": []
   },
   "outputs": [],
   "source": [
    "df = pd.read_sql(\"select * from EBAY_TOP_BERLIN where record_time in (select distinct record_time from EBAY_TOP_BERLIN order by record_time desc limit 2)\", sqlite3.connect(\"UsedObjects.db\"))"
   ]
  },
  {
   "cell_type": "code",
   "execution_count": 5,
   "id": "popular-active",
   "metadata": {
    "execution": {
     "iopub.execute_input": "2021-10-05T15:30:09.158772Z",
     "iopub.status.busy": "2021-10-05T15:30:09.145679Z",
     "iopub.status.idle": "2021-10-05T15:30:09.174383Z",
     "shell.execute_reply": "2021-10-05T15:30:09.175736Z"
    },
    "papermill": {
     "duration": 0.068527,
     "end_time": "2021-10-05T15:30:09.176158",
     "exception": false,
     "start_time": "2021-10-05T15:30:09.107631",
     "status": "completed"
    },
    "tags": []
   },
   "outputs": [],
   "source": [
    "df_pivot = df.pivot_table(index=\"PRODUCT\", columns = \"RECORD_TIME\", values = \"LISTING_COUNT\")"
   ]
  },
  {
   "cell_type": "code",
   "execution_count": 6,
   "id": "union-huntington",
   "metadata": {
    "execution": {
     "iopub.execute_input": "2021-10-05T15:30:09.231883Z",
     "iopub.status.busy": "2021-10-05T15:30:09.229807Z",
     "iopub.status.idle": "2021-10-05T15:30:09.235095Z",
     "shell.execute_reply": "2021-10-05T15:30:09.236381Z"
    },
    "papermill": {
     "duration": 0.040576,
     "end_time": "2021-10-05T15:30:09.236796",
     "exception": false,
     "start_time": "2021-10-05T15:30:09.196220",
     "status": "completed"
    },
    "tags": []
   },
   "outputs": [],
   "source": [
    "df_pivot.columns = [\"stamp_1\", \"stamp_2\"]\n",
    "df_pivot_diff = df_pivot.diff(axis=1)"
   ]
  },
  {
   "cell_type": "code",
   "execution_count": 7,
   "id": "fifth-motion",
   "metadata": {
    "execution": {
     "iopub.execute_input": "2021-10-05T15:30:09.291680Z",
     "iopub.status.busy": "2021-10-05T15:30:09.289157Z",
     "iopub.status.idle": "2021-10-05T15:30:10.759469Z",
     "shell.execute_reply": "2021-10-05T15:30:10.760664Z"
    },
    "papermill": {
     "duration": 1.503056,
     "end_time": "2021-10-05T15:30:10.761094",
     "exception": false,
     "start_time": "2021-10-05T15:30:09.258038",
     "status": "completed"
    },
    "tags": []
   },
   "outputs": [
    {
     "data": {
      "text/plain": [
       "<AxesSubplot:ylabel='PRODUCT'>"
      ]
     },
     "execution_count": 7,
     "metadata": {},
     "output_type": "execute_result"
    },
    {
     "data": {
      "image/png": "[encoded data removed]",
      "text/plain": [
       "<Figure size 432x288 with 1 Axes>"
      ]
     },
     "metadata": {
      "needs_background": "light"
     },
     "output_type": "display_data"
    }
   ],
   "source": [
    "df_pivot_diff.sort_values(\"stamp_2\", ascending = False)[\"stamp_2\"].head(10).plot.barh()"
   ]
  },
  {
   "cell_type": "code",
   "execution_count": null,
   "id": "extra-executive",
   "metadata": {
    "papermill": {
     "duration": 0.021989,
     "end_time": "2021-10-05T15:30:10.806834",
     "exception": false,
     "start_time": "2021-10-05T15:30:10.784845",
     "status": "completed"
    },
    "tags": []
   },
   "outputs": [],
   "source": []
  }
 ],
 "metadata": {
  "kernelspec": {
   "display_name": "Python 3",
   "language": "python",
   "name": "python3"
  },
  "language_info": {
   "codemirror_mode": {
    "name": "ipython",
    "version": 3
   },
   "file_extension": ".py",
   "mimetype": "text/x-python",
   "name": "python",
   "nbconvert_exporter": "python",
   "pygments_lexer": "ipython3",
   "version": "3.9.5"
  },
  "papermill": {
   "default_parameters": {},
   "duration": 7.826639,
   "end_time": "2021-10-05T15:30:12.325679",
   "environment_variables": {},
   "exception": null,
   "input_path": "eBay_Overview.ipynb",
   "output_path": "eBay_Overview.ipynb",
   "parameters": {},
   "start_time": "2021-10-05T15:30:04.499040",
   "version": "2.3.3"
  }
 },
 "nbformat": 4,
 "nbformat_minor": 5
}