{
 "cells": [
  {
   "cell_type": "code",
   "execution_count": 1,
   "id": "reverse-picking",
   "metadata": {
    "execution": {
     "iopub.execute_input": "2021-08-22T19:00:06.554494Z",
     "iopub.status.busy": "2021-08-22T19:00:06.552482Z",
     "iopub.status.idle": "2021-08-22T19:00:07.358781Z",
     "shell.execute_reply": "2021-08-22T19:00:07.360079Z"
    },
    "papermill": {
     "duration": 0.858062,
     "end_time": "2021-08-22T19:00:07.360705",
     "exception": false,
     "start_time": "2021-08-22T19:00:06.502643",
     "status": "completed"
    },
    "tags": []
   },
   "outputs": [],
   "source": [
    "import pandas as pd\n",
    "import sqlite3"
   ]
  },
  {
   "cell_type": "code",
   "execution_count": 2,
   "id": "innovative-syndrome",
   "metadata": {
    "execution": {
     "iopub.execute_input": "2021-08-22T19:00:07.410597Z",
     "iopub.status.busy": "2021-08-22T19:00:07.408631Z",
     "iopub.status.idle": "2021-08-22T19:00:07.516781Z",
     "shell.execute_reply": "2021-08-22T19:00:07.518123Z"
    },
    "papermill": {
     "duration": 0.137713,
     "end_time": "2021-08-22T19:00:07.518551",
     "exception": false,
     "start_time": "2021-08-22T19:00:07.380838",
     "status": "completed"
    },
    "tags": []
   },
   "outputs": [],
   "source": [
    "timestamps = pd.read_sql(\"select distinct record_time from EBAY_TOP_BERLIN order by record_time desc limit 2\", sqlite3.connect(\"UsedObjects.db\"))"
   ]
  },
  {
   "cell_type": "code",
   "execution_count": 3,
   "id": "periodic-identification",
   "metadata": {
    "execution": {
     "iopub.execute_input": "2021-08-22T19:00:07.586920Z",
     "iopub.status.busy": "2021-08-22T19:00:07.584820Z",
     "iopub.status.idle": "2021-08-22T19:00:07.604731Z",
     "shell.execute_reply": "2021-08-22T19:00:07.606272Z"
    },
    "papermill": {
     "duration": 0.066582,
     "end_time": "2021-08-22T19:00:07.606714",
     "exception": false,
     "start_time": "2021-08-22T19:00:07.540132",
     "status": "completed"
    },
    "tags": []
   },
   "outputs": [
    {
     "data": {
      "text/html": [
       "<div>\n",
       "<style scoped>\n",
       "    .dataframe tbody tr th:only-of-type {\n",
       "        vertical-align: middle;\n",
       "    }\n",
       "\n",
       "    .dataframe tbody tr th {\n",
       "        vertical-align: top;\n",
       "    }\n",
       "\n",
       "    .dataframe thead th {\n",
       "        text-align: right;\n",
       "    }\n",
       "</style>\n",
       "<table border=\"1\" class=\"dataframe\">\n",
       "  <thead>\n",
       "    <tr style=\"text-align: right;\">\n",
       "      <th></th>\n",
       "      <th>RECORD_TIME</th>\n",
       "    </tr>\n",
       "  </thead>\n",
       "  <tbody>\n",
       "    <tr>\n",
       "      <th>0</th>\n",
       "      <td>2021-08-22 21:00</td>\n",
       "    </tr>\n",
       "    <tr>\n",
       "      <th>1</th>\n",
       "      <td>2021-08-22 20:30</td>\n",
       "    </tr>\n",
       "  </tbody>\n",
       "</table>\n",
       "</div>"
      ],
      "text/plain": [
       "        RECORD_TIME\n",
       "0  2021-08-22 21:00\n",
       "1  2021-08-22 20:30"
      ]
     },
     "execution_count": 3,
     "metadata": {},
     "output_type": "execute_result"
    }
   ],
   "source": [
    "timestamps"
   ]
  },
  {
   "cell_type": "code",
   "execution_count": 4,
   "id": "alternate-victory",
   "metadata": {
    "execution": {
     "iopub.execute_input": "2021-08-22T19:00:07.658090Z",
     "iopub.status.busy": "2021-08-22T19:00:07.656235Z",
     "iopub.status.idle": "2021-08-22T19:00:07.816787Z",
     "shell.execute_reply": "2021-08-22T19:00:07.818195Z"
    },
    "papermill": {
     "duration": 0.190637,
     "end_time": "2021-08-22T19:00:07.818649",
     "exception": false,
     "start_time": "2021-08-22T19:00:07.628012",
     "status": "completed"
    },
    "tags": []
   },
   "outputs": [],
   "source": [
    "df = pd.read_sql(\"select * from EBAY_TOP_BERLIN where record_time in (select distinct record_time from EBAY_TOP_BERLIN order by record_time desc limit 2)\", sqlite3.connect(\"UsedObjects.db\"))"
   ]
  },
  {
   "cell_type": "code",
   "execution_count": 5,
   "id": "popular-active",
   "metadata": {
    "execution": {
     "iopub.execute_input": "2021-08-22T19:00:07.879775Z",
     "iopub.status.busy": "2021-08-22T19:00:07.877460Z",
     "iopub.status.idle": "2021-08-22T19:00:07.905010Z",
     "shell.execute_reply": "2021-08-22T19:00:07.906331Z"
    },
    "papermill": {
     "duration": 0.067822,
     "end_time": "2021-08-22T19:00:07.906751",
     "exception": false,
     "start_time": "2021-08-22T19:00:07.838929",
     "status": "completed"
    },
    "tags": []
   },
   "outputs": [],
   "source": [
    "df_pivot = df.pivot_table(index=\"PRODUCT\", columns = \"RECORD_TIME\", values = \"LISTING_COUNT\")"
   ]
  },
  {
   "cell_type": "code",
   "execution_count": 6,
   "id": "union-huntington",
   "metadata": {
    "execution": {
     "iopub.execute_input": "2021-08-22T19:00:07.963957Z",
     "iopub.status.busy": "2021-08-22T19:00:07.961759Z",
     "iopub.status.idle": "2021-08-22T19:00:07.967260Z",
     "shell.execute_reply": "2021-08-22T19:00:07.968523Z"
    },
    "papermill": {
     "duration": 0.040829,
     "end_time": "2021-08-22T19:00:07.968968",
     "exception": false,
     "start_time": "2021-08-22T19:00:07.928139",
     "status": "completed"
    },
    "tags": []
   },
   "outputs": [],
   "source": [
    "df_pivot.columns = [\"stamp_1\", \"stamp_2\"]\n",
    "df_pivot_diff = df_pivot.diff(axis=1)"
   ]
  },
  {
   "cell_type": "code",
   "execution_count": 7,
   "id": "fifth-motion",
   "metadata": {
    "execution": {
     "iopub.execute_input": "2021-08-22T19:00:08.034883Z",
     "iopub.status.busy": "2021-08-22T19:00:08.032267Z",
     "iopub.status.idle": "2021-08-22T19:00:09.504474Z",
     "shell.execute_reply": "2021-08-22T19:00:09.505742Z"
    },
    "papermill": {
     "duration": 1.508131,
     "end_time": "2021-08-22T19:00:09.506243",
     "exception": false,
     "start_time": "2021-08-22T19:00:07.998112",
     "status": "completed"
    },
    "tags": []
   },
   "outputs": [
    {
     "data": {
      "text/plain": [
       "<AxesSubplot:ylabel='PRODUCT'>"
      ]
     },
     "execution_count": 7,
     "metadata": {},
     "output_type": "execute_result"
    },
    {
     "data": {
      "image/png": "[encoded data removed]",
      "text/plain": [
       "<Figure size 432x288 with 1 Axes>"
      ]
     },
     "metadata": {
      "needs_background": "light"
     },
     "output_type": "display_data"
    }
   ],
   "source": [
    "df_pivot_diff.sort_values(\"stamp_2\", ascending = False)[\"stamp_2\"].head(10).plot.barh()"
   ]
  },
  {
   "cell_type": "code",
   "execution_count": null,
   "id": "extra-executive",
   "metadata": {
    "papermill": {
     "duration": 0.022169,
     "end_time": "2021-08-22T19:00:09.552805",
     "exception": false,
     "start_time": "2021-08-22T19:00:09.530636",
     "status": "completed"
    },
    "tags": []
   },
   "outputs": [],
   "source": []
  }
 ],
 "metadata": {
  "kernelspec": {
   "display_name": "Python 3",
   "language": "python",
   "name": "python3"
  },
  "language_info": {
   "codemirror_mode": {
    "name": "ipython",
    "version": 3
   },
   "file_extension": ".py",
   "mimetype": "text/x-python",
   "name": "python",
   "nbconvert_exporter": "python",
   "pygments_lexer": "ipython3",
   "version": "3.9.5"
  },
  "papermill": {
   "default_parameters": {},
   "duration": 6.837905,
   "end_time": "2021-08-22T19:00:10.926825",
   "environment_variables": {},
   "exception": null,
   "input_path": "eBay_Overview.ipynb",
   "output_path": "eBay_Overview.ipynb",
   "parameters": {},
   "start_time": "2021-08-22T19:00:04.088920",
   "version": "2.3.3"
  }
 },
 "nbformat": 4,
 "nbformat_minor": 5
}