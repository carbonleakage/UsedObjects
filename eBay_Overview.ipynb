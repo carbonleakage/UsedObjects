{
 "cells": [
  {
   "cell_type": "code",
   "execution_count": 1,
   "id": "reverse-picking",
   "metadata": {
    "execution": {
     "iopub.execute_input": "2021-09-05T18:30:06.795680Z",
     "iopub.status.busy": "2021-09-05T18:30:06.793689Z",
     "iopub.status.idle": "2021-09-05T18:30:07.598044Z",
     "shell.execute_reply": "2021-09-05T18:30:07.599369Z"
    },
    "papermill": {
     "duration": 0.855148,
     "end_time": "2021-09-05T18:30:07.599996",
     "exception": false,
     "start_time": "2021-09-05T18:30:06.744848",
     "status": "completed"
    },
    "tags": []
   },
   "outputs": [],
   "source": [
    "import pandas as pd\n",
    "import sqlite3"
   ]
  },
  {
   "cell_type": "code",
   "execution_count": 2,
   "id": "innovative-syndrome",
   "metadata": {
    "execution": {
     "iopub.execute_input": "2021-09-05T18:30:07.650780Z",
     "iopub.status.busy": "2021-09-05T18:30:07.648929Z",
     "iopub.status.idle": "2021-09-05T18:30:07.858726Z",
     "shell.execute_reply": "2021-09-05T18:30:07.860088Z"
    },
    "papermill": {
     "duration": 0.239545,
     "end_time": "2021-09-05T18:30:07.860504",
     "exception": false,
     "start_time": "2021-09-05T18:30:07.620959",
     "status": "completed"
    },
    "tags": []
   },
   "outputs": [],
   "source": [
    "timestamps = pd.read_sql(\"select distinct record_time from EBAY_TOP_BERLIN order by record_time desc limit 2\", sqlite3.connect(\"UsedObjects.db\"))"
   ]
  },
  {
   "cell_type": "code",
   "execution_count": 3,
   "id": "periodic-identification",
   "metadata": {
    "execution": {
     "iopub.execute_input": "2021-09-05T18:30:07.925271Z",
     "iopub.status.busy": "2021-09-05T18:30:07.923241Z",
     "iopub.status.idle": "2021-09-05T18:30:07.943123Z",
     "shell.execute_reply": "2021-09-05T18:30:07.944271Z"
    },
    "papermill": {
     "duration": 0.064518,
     "end_time": "2021-09-05T18:30:07.944684",
     "exception": false,
     "start_time": "2021-09-05T18:30:07.880166",
     "status": "completed"
    },
    "tags": []
   },
   "outputs": [
    {
     "data": {
      "text/html": [
       "<div>\n",
       "<style scoped>\n",
       "    .dataframe tbody tr th:only-of-type {\n",
       "        vertical-align: middle;\n",
       "    }\n",
       "\n",
       "    .dataframe tbody tr th {\n",
       "        vertical-align: top;\n",
       "    }\n",
       "\n",
       "    .dataframe thead th {\n",
       "        text-align: right;\n",
       "    }\n",
       "</style>\n",
       "<table border=\"1\" class=\"dataframe\">\n",
       "  <thead>\n",
       "    <tr style=\"text-align: right;\">\n",
       "      <th></th>\n",
       "      <th>RECORD_TIME</th>\n",
       "    </tr>\n",
       "  </thead>\n",
       "  <tbody>\n",
       "    <tr>\n",
       "      <th>0</th>\n",
       "      <td>2021-09-05 20:30</td>\n",
       "    </tr>\n",
       "    <tr>\n",
       "      <th>1</th>\n",
       "      <td>2021-09-05 20:00</td>\n",
       "    </tr>\n",
       "  </tbody>\n",
       "</table>\n",
       "</div>"
      ],
      "text/plain": [
       "        RECORD_TIME\n",
       "0  2021-09-05 20:30\n",
       "1  2021-09-05 20:00"
      ]
     },
     "execution_count": 3,
     "metadata": {},
     "output_type": "execute_result"
    }
   ],
   "source": [
    "timestamps"
   ]
  },
  {
   "cell_type": "code",
   "execution_count": 4,
   "id": "alternate-victory",
   "metadata": {
    "execution": {
     "iopub.execute_input": "2021-09-05T18:30:07.999143Z",
     "iopub.status.busy": "2021-09-05T18:30:07.996815Z",
     "iopub.status.idle": "2021-09-05T18:30:08.315711Z",
     "shell.execute_reply": "2021-09-05T18:30:08.316943Z"
    },
    "papermill": {
     "duration": 0.349347,
     "end_time": "2021-09-05T18:30:08.317342",
     "exception": false,
     "start_time": "2021-09-05T18:30:07.967995",
     "status": "completed"
    },
    "tags": []
   },
   "outputs": [],
   "source": [
    "df = pd.read_sql(\"select * from EBAY_TOP_BERLIN where record_time in (select distinct record_time from EBAY_TOP_BERLIN order by record_time desc limit 2)\", sqlite3.connect(\"UsedObjects.db\"))"
   ]
  },
  {
   "cell_type": "code",
   "execution_count": 5,
   "id": "popular-active",
   "metadata": {
    "execution": {
     "iopub.execute_input": "2021-09-05T18:30:08.399756Z",
     "iopub.status.busy": "2021-09-05T18:30:08.388226Z",
     "iopub.status.idle": "2021-09-05T18:30:08.415091Z",
     "shell.execute_reply": "2021-09-05T18:30:08.416327Z"
    },
    "papermill": {
     "duration": 0.070554,
     "end_time": "2021-09-05T18:30:08.416726",
     "exception": false,
     "start_time": "2021-09-05T18:30:08.346172",
     "status": "completed"
    },
    "tags": []
   },
   "outputs": [],
   "source": [
    "df_pivot = df.pivot_table(index=\"PRODUCT\", columns = \"RECORD_TIME\", values = \"LISTING_COUNT\")"
   ]
  },
  {
   "cell_type": "code",
   "execution_count": 6,
   "id": "union-huntington",
   "metadata": {
    "execution": {
     "iopub.execute_input": "2021-09-05T18:30:08.473279Z",
     "iopub.status.busy": "2021-09-05T18:30:08.471111Z",
     "iopub.status.idle": "2021-09-05T18:30:08.476469Z",
     "shell.execute_reply": "2021-09-05T18:30:08.477824Z"
    },
    "papermill": {
     "duration": 0.040852,
     "end_time": "2021-09-05T18:30:08.478264",
     "exception": false,
     "start_time": "2021-09-05T18:30:08.437412",
     "status": "completed"
    },
    "tags": []
   },
   "outputs": [],
   "source": [
    "df_pivot.columns = [\"stamp_1\", \"stamp_2\"]\n",
    "df_pivot_diff = df_pivot.diff(axis=1)"
   ]
  },
  {
   "cell_type": "code",
   "execution_count": 7,
   "id": "fifth-motion",
   "metadata": {
    "execution": {
     "iopub.execute_input": "2021-09-05T18:30:08.535324Z",
     "iopub.status.busy": "2021-09-05T18:30:08.532621Z",
     "iopub.status.idle": "2021-09-05T18:30:10.019724Z",
     "shell.execute_reply": "2021-09-05T18:30:10.021129Z"
    },
    "papermill": {
     "duration": 1.521117,
     "end_time": "2021-09-05T18:30:10.021580",
     "exception": false,
     "start_time": "2021-09-05T18:30:08.500463",
     "status": "completed"
    },
    "tags": []
   },
   "outputs": [
    {
     "data": {
      "text/plain": [
       "<AxesSubplot:ylabel='PRODUCT'>"
      ]
     },
     "execution_count": 7,
     "metadata": {},
     "output_type": "execute_result"
    },
    {
     "data": {
      "image/png": "[encoded data removed]",
      "text/plain": [
       "<Figure size 432x288 with 1 Axes>"
      ]
     },
     "metadata": {
      "needs_background": "light"
     },
     "output_type": "display_data"
    }
   ],
   "source": [
    "df_pivot_diff.sort_values(\"stamp_2\", ascending = False)[\"stamp_2\"].head(10).plot.barh()"
   ]
  },
  {
   "cell_type": "code",
   "execution_count": null,
   "id": "extra-executive",
   "metadata": {
    "papermill": {
     "duration": 0.022407,
     "end_time": "2021-09-05T18:30:10.067686",
     "exception": false,
     "start_time": "2021-09-05T18:30:10.045279",
     "status": "completed"
    },
    "tags": []
   },
   "outputs": [],
   "source": []
  }
 ],
 "metadata": {
  "kernelspec": {
   "display_name": "Python 3",
   "language": "python",
   "name": "python3"
  },
  "language_info": {
   "codemirror_mode": {
    "name": "ipython",
    "version": 3
   },
   "file_extension": ".py",
   "mimetype": "text/x-python",
   "name": "python",
   "nbconvert_exporter": "python",
   "pygments_lexer": "ipython3",
   "version": "3.9.5"
  },
  "papermill": {
   "default_parameters": {},
   "duration": 6.367476,
   "end_time": "2021-09-05T18:30:10.708636",
   "environment_variables": {},
   "exception": null,
   "input_path": "eBay_Overview.ipynb",
   "output_path": "eBay_Overview.ipynb",
   "parameters": {},
   "start_time": "2021-09-05T18:30:04.341160",
   "version": "2.3.3"
  }
 },
 "nbformat": 4,
 "nbformat_minor": 5
}