{
 "cells": [
  {
   "cell_type": "code",
   "execution_count": 1,
   "id": "reverse-picking",
   "metadata": {
    "execution": {
     "iopub.execute_input": "2021-09-14T08:00:07.085532Z",
     "iopub.status.busy": "2021-09-14T08:00:07.083584Z",
     "iopub.status.idle": "2021-09-14T08:00:07.888945Z",
     "shell.execute_reply": "2021-09-14T08:00:07.887288Z"
    },
    "papermill": {
     "duration": 0.857813,
     "end_time": "2021-09-14T08:00:07.889368",
     "exception": false,
     "start_time": "2021-09-14T08:00:07.031555",
     "status": "completed"
    },
    "tags": []
   },
   "outputs": [],
   "source": [
    "import pandas as pd\n",
    "import sqlite3"
   ]
  },
  {
   "cell_type": "code",
   "execution_count": 2,
   "id": "innovative-syndrome",
   "metadata": {
    "execution": {
     "iopub.execute_input": "2021-09-14T08:00:07.941143Z",
     "iopub.status.busy": "2021-09-14T08:00:07.939254Z",
     "iopub.status.idle": "2021-09-14T08:00:08.219938Z",
     "shell.execute_reply": "2021-09-14T08:00:08.221330Z"
    },
    "papermill": {
     "duration": 0.310325,
     "end_time": "2021-09-14T08:00:08.221762",
     "exception": false,
     "start_time": "2021-09-14T08:00:07.911437",
     "status": "completed"
    },
    "tags": []
   },
   "outputs": [],
   "source": [
    "timestamps = pd.read_sql(\"select distinct record_time from EBAY_TOP_BERLIN order by record_time desc limit 2\", sqlite3.connect(\"UsedObjects.db\"))"
   ]
  },
  {
   "cell_type": "code",
   "execution_count": 3,
   "id": "periodic-identification",
   "metadata": {
    "execution": {
     "iopub.execute_input": "2021-09-14T08:00:08.288673Z",
     "iopub.status.busy": "2021-09-14T08:00:08.286564Z",
     "iopub.status.idle": "2021-09-14T08:00:08.306767Z",
     "shell.execute_reply": "2021-09-14T08:00:08.308281Z"
    },
    "papermill": {
     "duration": 0.067162,
     "end_time": "2021-09-14T08:00:08.308719",
     "exception": false,
     "start_time": "2021-09-14T08:00:08.241557",
     "status": "completed"
    },
    "tags": []
   },
   "outputs": [
    {
     "data": {
      "text/html": [
       "<div>\n",
       "<style scoped>\n",
       "    .dataframe tbody tr th:only-of-type {\n",
       "        vertical-align: middle;\n",
       "    }\n",
       "\n",
       "    .dataframe tbody tr th {\n",
       "        vertical-align: top;\n",
       "    }\n",
       "\n",
       "    .dataframe thead th {\n",
       "        text-align: right;\n",
       "    }\n",
       "</style>\n",
       "<table border=\"1\" class=\"dataframe\">\n",
       "  <thead>\n",
       "    <tr style=\"text-align: right;\">\n",
       "      <th></th>\n",
       "      <th>RECORD_TIME</th>\n",
       "    </tr>\n",
       "  </thead>\n",
       "  <tbody>\n",
       "    <tr>\n",
       "      <th>0</th>\n",
       "      <td>2021-09-14 10:00</td>\n",
       "    </tr>\n",
       "    <tr>\n",
       "      <th>1</th>\n",
       "      <td>2021-09-14 09:30</td>\n",
       "    </tr>\n",
       "  </tbody>\n",
       "</table>\n",
       "</div>"
      ],
      "text/plain": [
       "        RECORD_TIME\n",
       "0  2021-09-14 10:00\n",
       "1  2021-09-14 09:30"
      ]
     },
     "execution_count": 3,
     "metadata": {},
     "output_type": "execute_result"
    }
   ],
   "source": [
    "timestamps"
   ]
  },
  {
   "cell_type": "code",
   "execution_count": 4,
   "id": "alternate-victory",
   "metadata": {
    "execution": {
     "iopub.execute_input": "2021-09-14T08:00:08.360179Z",
     "iopub.status.busy": "2021-09-14T08:00:08.358194Z",
     "iopub.status.idle": "2021-09-14T08:00:08.773333Z",
     "shell.execute_reply": "2021-09-14T08:00:08.774547Z"
    },
    "papermill": {
     "duration": 0.444995,
     "end_time": "2021-09-14T08:00:08.774987",
     "exception": false,
     "start_time": "2021-09-14T08:00:08.329992",
     "status": "completed"
    },
    "tags": []
   },
   "outputs": [],
   "source": [
    "df = pd.read_sql(\"select * from EBAY_TOP_BERLIN where record_time in (select distinct record_time from EBAY_TOP_BERLIN order by record_time desc limit 2)\", sqlite3.connect(\"UsedObjects.db\"))"
   ]
  },
  {
   "cell_type": "code",
   "execution_count": 5,
   "id": "popular-active",
   "metadata": {
    "execution": {
     "iopub.execute_input": "2021-09-14T08:00:08.846846Z",
     "iopub.status.busy": "2021-09-14T08:00:08.835859Z",
     "iopub.status.idle": "2021-09-14T08:00:08.862801Z",
     "shell.execute_reply": "2021-09-14T08:00:08.864332Z"
    },
    "papermill": {
     "duration": 0.067962,
     "end_time": "2021-09-14T08:00:08.864769",
     "exception": false,
     "start_time": "2021-09-14T08:00:08.796807",
     "status": "completed"
    },
    "tags": []
   },
   "outputs": [],
   "source": [
    "df_pivot = df.pivot_table(index=\"PRODUCT\", columns = \"RECORD_TIME\", values = \"LISTING_COUNT\")"
   ]
  },
  {
   "cell_type": "code",
   "execution_count": 6,
   "id": "union-huntington",
   "metadata": {
    "execution": {
     "iopub.execute_input": "2021-09-14T08:00:08.919956Z",
     "iopub.status.busy": "2021-09-14T08:00:08.917919Z",
     "iopub.status.idle": "2021-09-14T08:00:08.923086Z",
     "shell.execute_reply": "2021-09-14T08:00:08.924231Z"
    },
    "papermill": {
     "duration": 0.039747,
     "end_time": "2021-09-14T08:00:08.924640",
     "exception": false,
     "start_time": "2021-09-14T08:00:08.884893",
     "status": "completed"
    },
    "tags": []
   },
   "outputs": [],
   "source": [
    "df_pivot.columns = [\"stamp_1\", \"stamp_2\"]\n",
    "df_pivot_diff = df_pivot.diff(axis=1)"
   ]
  },
  {
   "cell_type": "code",
   "execution_count": 7,
   "id": "fifth-motion",
   "metadata": {
    "execution": {
     "iopub.execute_input": "2021-09-14T08:00:08.978349Z",
     "iopub.status.busy": "2021-09-14T08:00:08.975979Z",
     "iopub.status.idle": "2021-09-14T08:00:10.462053Z",
     "shell.execute_reply": "2021-09-14T08:00:10.463706Z"
    },
    "papermill": {
     "duration": 1.519165,
     "end_time": "2021-09-14T08:00:10.464161",
     "exception": false,
     "start_time": "2021-09-14T08:00:08.944996",
     "status": "completed"
    },
    "tags": []
   },
   "outputs": [
    {
     "data": {
      "text/plain": [
       "<AxesSubplot:ylabel='PRODUCT'>"
      ]
     },
     "execution_count": 7,
     "metadata": {},
     "output_type": "execute_result"
    },
    {
     "data": {
      "image/png": "[encoded data removed]",
      "text/plain": [
       "<Figure size 432x288 with 1 Axes>"
      ]
     },
     "metadata": {
      "needs_background": "light"
     },
     "output_type": "display_data"
    }
   ],
   "source": [
    "df_pivot_diff.sort_values(\"stamp_2\", ascending = False)[\"stamp_2\"].head(10).plot.barh()"
   ]
  },
  {
   "cell_type": "code",
   "execution_count": null,
   "id": "extra-executive",
   "metadata": {
    "papermill": {
     "duration": 0.022177,
     "end_time": "2021-09-14T08:00:10.510550",
     "exception": false,
     "start_time": "2021-09-14T08:00:10.488373",
     "status": "completed"
    },
    "tags": []
   },
   "outputs": [],
   "source": []
  }
 ],
 "metadata": {
  "kernelspec": {
   "display_name": "Python 3",
   "language": "python",
   "name": "python3"
  },
  "language_info": {
   "codemirror_mode": {
    "name": "ipython",
    "version": 3
   },
   "file_extension": ".py",
   "mimetype": "text/x-python",
   "name": "python",
   "nbconvert_exporter": "python",
   "pygments_lexer": "ipython3",
   "version": "3.9.5"
  },
  "papermill": {
   "default_parameters": {},
   "duration": 6.529193,
   "end_time": "2021-09-14T08:00:11.153215",
   "environment_variables": {},
   "exception": null,
   "input_path": "eBay_Overview.ipynb",
   "output_path": "eBay_Overview.ipynb",
   "parameters": {},
   "start_time": "2021-09-14T08:00:04.624022",
   "version": "2.3.3"
  }
 },
 "nbformat": 4,
 "nbformat_minor": 5
}