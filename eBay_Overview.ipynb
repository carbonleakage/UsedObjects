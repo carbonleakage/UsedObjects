{
 "cells": [
  {
   "cell_type": "code",
   "execution_count": 1,
   "id": "reverse-picking",
   "metadata": {
    "execution": {
     "iopub.execute_input": "2021-08-26T18:00:07.406547Z",
     "iopub.status.busy": "2021-08-26T18:00:07.404665Z",
     "iopub.status.idle": "2021-08-26T18:00:08.204973Z",
     "shell.execute_reply": "2021-08-26T18:00:08.206452Z"
    },
    "papermill": {
     "duration": 0.853117,
     "end_time": "2021-08-26T18:00:08.207126",
     "exception": false,
     "start_time": "2021-08-26T18:00:07.354009",
     "status": "completed"
    },
    "tags": []
   },
   "outputs": [],
   "source": [
    "import pandas as pd\n",
    "import sqlite3"
   ]
  },
  {
   "cell_type": "code",
   "execution_count": 2,
   "id": "innovative-syndrome",
   "metadata": {
    "execution": {
     "iopub.execute_input": "2021-08-26T18:00:08.258989Z",
     "iopub.status.busy": "2021-08-26T18:00:08.256709Z",
     "iopub.status.idle": "2021-08-26T18:00:08.395709Z",
     "shell.execute_reply": "2021-08-26T18:00:08.397701Z"
    },
    "papermill": {
     "duration": 0.170351,
     "end_time": "2021-08-26T18:00:08.398241",
     "exception": false,
     "start_time": "2021-08-26T18:00:08.227890",
     "status": "completed"
    },
    "tags": []
   },
   "outputs": [],
   "source": [
    "timestamps = pd.read_sql(\"select distinct record_time from EBAY_TOP_BERLIN order by record_time desc limit 2\", sqlite3.connect(\"UsedObjects.db\"))"
   ]
  },
  {
   "cell_type": "code",
   "execution_count": 3,
   "id": "periodic-identification",
   "metadata": {
    "execution": {
     "iopub.execute_input": "2021-08-26T18:00:08.463892Z",
     "iopub.status.busy": "2021-08-26T18:00:08.461913Z",
     "iopub.status.idle": "2021-08-26T18:00:08.483349Z",
     "shell.execute_reply": "2021-08-26T18:00:08.481629Z"
    },
    "papermill": {
     "duration": 0.066099,
     "end_time": "2021-08-26T18:00:08.483765",
     "exception": false,
     "start_time": "2021-08-26T18:00:08.417666",
     "status": "completed"
    },
    "tags": []
   },
   "outputs": [
    {
     "data": {
      "text/html": [
       "<div>\n",
       "<style scoped>\n",
       "    .dataframe tbody tr th:only-of-type {\n",
       "        vertical-align: middle;\n",
       "    }\n",
       "\n",
       "    .dataframe tbody tr th {\n",
       "        vertical-align: top;\n",
       "    }\n",
       "\n",
       "    .dataframe thead th {\n",
       "        text-align: right;\n",
       "    }\n",
       "</style>\n",
       "<table border=\"1\" class=\"dataframe\">\n",
       "  <thead>\n",
       "    <tr style=\"text-align: right;\">\n",
       "      <th></th>\n",
       "      <th>RECORD_TIME</th>\n",
       "    </tr>\n",
       "  </thead>\n",
       "  <tbody>\n",
       "    <tr>\n",
       "      <th>0</th>\n",
       "      <td>2021-08-26 20:00</td>\n",
       "    </tr>\n",
       "    <tr>\n",
       "      <th>1</th>\n",
       "      <td>2021-08-26 19:30</td>\n",
       "    </tr>\n",
       "  </tbody>\n",
       "</table>\n",
       "</div>"
      ],
      "text/plain": [
       "        RECORD_TIME\n",
       "0  2021-08-26 20:00\n",
       "1  2021-08-26 19:30"
      ]
     },
     "execution_count": 3,
     "metadata": {},
     "output_type": "execute_result"
    }
   ],
   "source": [
    "timestamps"
   ]
  },
  {
   "cell_type": "code",
   "execution_count": 4,
   "id": "alternate-victory",
   "metadata": {
    "execution": {
     "iopub.execute_input": "2021-08-26T18:00:08.536182Z",
     "iopub.status.busy": "2021-08-26T18:00:08.534369Z",
     "iopub.status.idle": "2021-08-26T18:00:08.744085Z",
     "shell.execute_reply": "2021-08-26T18:00:08.745437Z"
    },
    "papermill": {
     "duration": 0.239986,
     "end_time": "2021-08-26T18:00:08.745854",
     "exception": false,
     "start_time": "2021-08-26T18:00:08.505868",
     "status": "completed"
    },
    "tags": []
   },
   "outputs": [],
   "source": [
    "df = pd.read_sql(\"select * from EBAY_TOP_BERLIN where record_time in (select distinct record_time from EBAY_TOP_BERLIN order by record_time desc limit 2)\", sqlite3.connect(\"UsedObjects.db\"))"
   ]
  },
  {
   "cell_type": "code",
   "execution_count": 5,
   "id": "popular-active",
   "metadata": {
    "execution": {
     "iopub.execute_input": "2021-08-26T18:00:08.815483Z",
     "iopub.status.busy": "2021-08-26T18:00:08.803629Z",
     "iopub.status.idle": "2021-08-26T18:00:08.830844Z",
     "shell.execute_reply": "2021-08-26T18:00:08.832050Z"
    },
    "papermill": {
     "duration": 0.066601,
     "end_time": "2021-08-26T18:00:08.832637",
     "exception": false,
     "start_time": "2021-08-26T18:00:08.766036",
     "status": "completed"
    },
    "tags": []
   },
   "outputs": [],
   "source": [
    "df_pivot = df.pivot_table(index=\"PRODUCT\", columns = \"RECORD_TIME\", values = \"LISTING_COUNT\")"
   ]
  },
  {
   "cell_type": "code",
   "execution_count": 6,
   "id": "union-huntington",
   "metadata": {
    "execution": {
     "iopub.execute_input": "2021-08-26T18:00:08.901962Z",
     "iopub.status.busy": "2021-08-26T18:00:08.899471Z",
     "iopub.status.idle": "2021-08-26T18:00:08.905711Z",
     "shell.execute_reply": "2021-08-26T18:00:08.907153Z"
    },
    "papermill": {
     "duration": 0.046811,
     "end_time": "2021-08-26T18:00:08.907616",
     "exception": false,
     "start_time": "2021-08-26T18:00:08.860805",
     "status": "completed"
    },
    "tags": []
   },
   "outputs": [],
   "source": [
    "df_pivot.columns = [\"stamp_1\", \"stamp_2\"]\n",
    "df_pivot_diff = df_pivot.diff(axis=1)"
   ]
  },
  {
   "cell_type": "code",
   "execution_count": 7,
   "id": "fifth-motion",
   "metadata": {
    "execution": {
     "iopub.execute_input": "2021-08-26T18:00:08.962299Z",
     "iopub.status.busy": "2021-08-26T18:00:08.959876Z",
     "iopub.status.idle": "2021-08-26T18:00:10.406492Z",
     "shell.execute_reply": "2021-08-26T18:00:10.407940Z"
    },
    "papermill": {
     "duration": 1.479919,
     "end_time": "2021-08-26T18:00:10.408449",
     "exception": false,
     "start_time": "2021-08-26T18:00:08.928530",
     "status": "completed"
    },
    "tags": []
   },
   "outputs": [
    {
     "data": {
      "text/plain": [
       "<AxesSubplot:ylabel='PRODUCT'>"
      ]
     },
     "execution_count": 7,
     "metadata": {},
     "output_type": "execute_result"
    },
    {
     "data": {
      "image/png": "[encoded data removed]",
      "text/plain": [
       "<Figure size 432x288 with 1 Axes>"
      ]
     },
     "metadata": {
      "needs_background": "light"
     },
     "output_type": "display_data"
    }
   ],
   "source": [
    "df_pivot_diff.sort_values(\"stamp_2\", ascending = False)[\"stamp_2\"].head(10).plot.barh()"
   ]
  },
  {
   "cell_type": "code",
   "execution_count": null,
   "id": "extra-executive",
   "metadata": {
    "papermill": {
     "duration": 0.022301,
     "end_time": "2021-08-26T18:00:10.454744",
     "exception": false,
     "start_time": "2021-08-26T18:00:10.432443",
     "status": "completed"
    },
    "tags": []
   },
   "outputs": [],
   "source": []
  }
 ],
 "metadata": {
  "kernelspec": {
   "display_name": "Python 3",
   "language": "python",
   "name": "python3"
  },
  "language_info": {
   "codemirror_mode": {
    "name": "ipython",
    "version": 3
   },
   "file_extension": ".py",
   "mimetype": "text/x-python",
   "name": "python",
   "nbconvert_exporter": "python",
   "pygments_lexer": "ipython3",
   "version": "3.9.5"
  },
  "papermill": {
   "default_parameters": {},
   "duration": 6.828732,
   "end_time": "2021-08-26T18:00:11.785568",
   "environment_variables": {},
   "exception": null,
   "input_path": "eBay_Overview.ipynb",
   "output_path": "eBay_Overview.ipynb",
   "parameters": {},
   "start_time": "2021-08-26T18:00:04.956836",
   "version": "2.3.3"
  }
 },
 "nbformat": 4,
 "nbformat_minor": 5
}