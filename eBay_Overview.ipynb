{
 "cells": [
  {
   "cell_type": "code",
   "execution_count": 1,
   "id": "reverse-picking",
   "metadata": {
    "execution": {
     "iopub.execute_input": "2021-09-11T07:00:06.821044Z",
     "iopub.status.busy": "2021-09-11T07:00:06.819070Z",
     "iopub.status.idle": "2021-09-11T07:00:07.630802Z",
     "shell.execute_reply": "2021-09-11T07:00:07.632346Z"
    },
    "papermill": {
     "duration": 0.86467,
     "end_time": "2021-09-11T07:00:07.633043",
     "exception": false,
     "start_time": "2021-09-11T07:00:06.768373",
     "status": "completed"
    },
    "tags": []
   },
   "outputs": [],
   "source": [
    "import pandas as pd\n",
    "import sqlite3"
   ]
  },
  {
   "cell_type": "code",
   "execution_count": 2,
   "id": "innovative-syndrome",
   "metadata": {
    "execution": {
     "iopub.execute_input": "2021-09-11T07:00:07.684838Z",
     "iopub.status.busy": "2021-09-11T07:00:07.682444Z",
     "iopub.status.idle": "2021-09-11T07:00:07.959661Z",
     "shell.execute_reply": "2021-09-11T07:00:07.960889Z"
    },
    "papermill": {
     "duration": 0.307398,
     "end_time": "2021-09-11T07:00:07.961286",
     "exception": false,
     "start_time": "2021-09-11T07:00:07.653888",
     "status": "completed"
    },
    "tags": []
   },
   "outputs": [],
   "source": [
    "timestamps = pd.read_sql(\"select distinct record_time from EBAY_TOP_BERLIN order by record_time desc limit 2\", sqlite3.connect(\"UsedObjects.db\"))"
   ]
  },
  {
   "cell_type": "code",
   "execution_count": 3,
   "id": "periodic-identification",
   "metadata": {
    "execution": {
     "iopub.execute_input": "2021-09-11T07:00:08.026345Z",
     "iopub.status.busy": "2021-09-11T07:00:08.024327Z",
     "iopub.status.idle": "2021-09-11T07:00:08.044310Z",
     "shell.execute_reply": "2021-09-11T07:00:08.045610Z"
    },
    "papermill": {
     "duration": 0.064607,
     "end_time": "2021-09-11T07:00:08.046021",
     "exception": false,
     "start_time": "2021-09-11T07:00:07.981414",
     "status": "completed"
    },
    "tags": []
   },
   "outputs": [
    {
     "data": {
      "text/html": [
       "<div>\n",
       "<style scoped>\n",
       "    .dataframe tbody tr th:only-of-type {\n",
       "        vertical-align: middle;\n",
       "    }\n",
       "\n",
       "    .dataframe tbody tr th {\n",
       "        vertical-align: top;\n",
       "    }\n",
       "\n",
       "    .dataframe thead th {\n",
       "        text-align: right;\n",
       "    }\n",
       "</style>\n",
       "<table border=\"1\" class=\"dataframe\">\n",
       "  <thead>\n",
       "    <tr style=\"text-align: right;\">\n",
       "      <th></th>\n",
       "      <th>RECORD_TIME</th>\n",
       "    </tr>\n",
       "  </thead>\n",
       "  <tbody>\n",
       "    <tr>\n",
       "      <th>0</th>\n",
       "      <td>2021-09-11 09:00</td>\n",
       "    </tr>\n",
       "    <tr>\n",
       "      <th>1</th>\n",
       "      <td>2021-09-11 08:30</td>\n",
       "    </tr>\n",
       "  </tbody>\n",
       "</table>\n",
       "</div>"
      ],
      "text/plain": [
       "        RECORD_TIME\n",
       "0  2021-09-11 09:00\n",
       "1  2021-09-11 08:30"
      ]
     },
     "execution_count": 3,
     "metadata": {},
     "output_type": "execute_result"
    }
   ],
   "source": [
    "timestamps"
   ]
  },
  {
   "cell_type": "code",
   "execution_count": 4,
   "id": "alternate-victory",
   "metadata": {
    "execution": {
     "iopub.execute_input": "2021-09-11T07:00:08.099471Z",
     "iopub.status.busy": "2021-09-11T07:00:08.097151Z",
     "iopub.status.idle": "2021-09-11T07:00:08.481530Z",
     "shell.execute_reply": "2021-09-11T07:00:08.482801Z"
    },
    "papermill": {
     "duration": 0.415182,
     "end_time": "2021-09-11T07:00:08.483331",
     "exception": false,
     "start_time": "2021-09-11T07:00:08.068149",
     "status": "completed"
    },
    "tags": []
   },
   "outputs": [],
   "source": [
    "df = pd.read_sql(\"select * from EBAY_TOP_BERLIN where record_time in (select distinct record_time from EBAY_TOP_BERLIN order by record_time desc limit 2)\", sqlite3.connect(\"UsedObjects.db\"))"
   ]
  },
  {
   "cell_type": "code",
   "execution_count": 5,
   "id": "popular-active",
   "metadata": {
    "execution": {
     "iopub.execute_input": "2021-09-11T07:00:08.564674Z",
     "iopub.status.busy": "2021-09-11T07:00:08.562396Z",
     "iopub.status.idle": "2021-09-11T07:00:08.579701Z",
     "shell.execute_reply": "2021-09-11T07:00:08.580914Z"
    },
    "papermill": {
     "duration": 0.071642,
     "end_time": "2021-09-11T07:00:08.581306",
     "exception": false,
     "start_time": "2021-09-11T07:00:08.509664",
     "status": "completed"
    },
    "tags": []
   },
   "outputs": [],
   "source": [
    "df_pivot = df.pivot_table(index=\"PRODUCT\", columns = \"RECORD_TIME\", values = \"LISTING_COUNT\")"
   ]
  },
  {
   "cell_type": "code",
   "execution_count": 6,
   "id": "union-huntington",
   "metadata": {
    "execution": {
     "iopub.execute_input": "2021-09-11T07:00:08.641801Z",
     "iopub.status.busy": "2021-09-11T07:00:08.639373Z",
     "iopub.status.idle": "2021-09-11T07:00:08.644970Z",
     "shell.execute_reply": "2021-09-11T07:00:08.646240Z"
    },
    "papermill": {
     "duration": 0.042129,
     "end_time": "2021-09-11T07:00:08.646657",
     "exception": false,
     "start_time": "2021-09-11T07:00:08.604528",
     "status": "completed"
    },
    "tags": []
   },
   "outputs": [],
   "source": [
    "df_pivot.columns = [\"stamp_1\", \"stamp_2\"]\n",
    "df_pivot_diff = df_pivot.diff(axis=1)"
   ]
  },
  {
   "cell_type": "code",
   "execution_count": 7,
   "id": "fifth-motion",
   "metadata": {
    "execution": {
     "iopub.execute_input": "2021-09-11T07:00:08.700760Z",
     "iopub.status.busy": "2021-09-11T07:00:08.698272Z",
     "iopub.status.idle": "2021-09-11T07:00:10.211200Z",
     "shell.execute_reply": "2021-09-11T07:00:10.212489Z"
    },
    "papermill": {
     "duration": 1.546276,
     "end_time": "2021-09-11T07:00:10.212905",
     "exception": false,
     "start_time": "2021-09-11T07:00:08.666629",
     "status": "completed"
    },
    "tags": []
   },
   "outputs": [
    {
     "data": {
      "text/plain": [
       "<AxesSubplot:ylabel='PRODUCT'>"
      ]
     },
     "execution_count": 7,
     "metadata": {},
     "output_type": "execute_result"
    },
    {
     "data": {
      "image/png": "[encoded data removed]",
      "text/plain": [
       "<Figure size 432x288 with 1 Axes>"
      ]
     },
     "metadata": {
      "needs_background": "light"
     },
     "output_type": "display_data"
    }
   ],
   "source": [
    "df_pivot_diff.sort_values(\"stamp_2\", ascending = False)[\"stamp_2\"].head(10).plot.barh()"
   ]
  },
  {
   "cell_type": "code",
   "execution_count": null,
   "id": "extra-executive",
   "metadata": {
    "papermill": {
     "duration": 0.022254,
     "end_time": "2021-09-11T07:00:10.260052",
     "exception": false,
     "start_time": "2021-09-11T07:00:10.237798",
     "status": "completed"
    },
    "tags": []
   },
   "outputs": [],
   "source": []
  }
 ],
 "metadata": {
  "kernelspec": {
   "display_name": "Python 3",
   "language": "python",
   "name": "python3"
  },
  "language_info": {
   "codemirror_mode": {
    "name": "ipython",
    "version": 3
   },
   "file_extension": ".py",
   "mimetype": "text/x-python",
   "name": "python",
   "nbconvert_exporter": "python",
   "pygments_lexer": "ipython3",
   "version": "3.9.5"
  },
  "papermill": {
   "default_parameters": {},
   "duration": 6.543086,
   "end_time": "2021-09-11T07:00:10.901262",
   "environment_variables": {},
   "exception": null,
   "input_path": "eBay_Overview.ipynb",
   "output_path": "eBay_Overview.ipynb",
   "parameters": {},
   "start_time": "2021-09-11T07:00:04.358176",
   "version": "2.3.3"
  }
 },
 "nbformat": 4,
 "nbformat_minor": 5
}