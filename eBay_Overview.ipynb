{
 "cells": [
  {
   "cell_type": "code",
   "execution_count": 1,
   "id": "reverse-picking",
   "metadata": {
    "execution": {
     "iopub.execute_input": "2021-11-07T22:30:07.392100Z",
     "iopub.status.busy": "2021-11-07T22:30:07.390041Z",
     "iopub.status.idle": "2021-11-07T22:30:08.344954Z",
     "shell.execute_reply": "2021-11-07T22:30:08.346648Z"
    },
    "papermill": {
     "duration": 1.005081,
     "end_time": "2021-11-07T22:30:08.347460",
     "exception": false,
     "start_time": "2021-11-07T22:30:07.342379",
     "status": "completed"
    },
    "tags": []
   },
   "outputs": [],
   "source": [
    "import pandas as pd\n",
    "import sqlite3"
   ]
  },
  {
   "cell_type": "code",
   "execution_count": 2,
   "id": "innovative-syndrome",
   "metadata": {
    "execution": {
     "iopub.execute_input": "2021-11-07T22:30:08.417616Z",
     "iopub.status.busy": "2021-11-07T22:30:08.415467Z",
     "iopub.status.idle": "2021-11-07T22:30:09.183808Z",
     "shell.execute_reply": "2021-11-07T22:30:09.185642Z"
    },
    "papermill": {
     "duration": 0.803419,
     "end_time": "2021-11-07T22:30:09.186152",
     "exception": false,
     "start_time": "2021-11-07T22:30:08.382733",
     "status": "completed"
    },
    "tags": []
   },
   "outputs": [],
   "source": [
    "timestamps = pd.read_sql(\"select distinct record_time from EBAY_TOP_BERLIN order by record_time desc limit 2\", sqlite3.connect(\"UsedObjects.db\"))"
   ]
  },
  {
   "cell_type": "code",
   "execution_count": 3,
   "id": "periodic-identification",
   "metadata": {
    "execution": {
     "iopub.execute_input": "2021-11-07T22:30:09.263484Z",
     "iopub.status.busy": "2021-11-07T22:30:09.257599Z",
     "iopub.status.idle": "2021-11-07T22:30:09.280384Z",
     "shell.execute_reply": "2021-11-07T22:30:09.282283Z"
    },
    "papermill": {
     "duration": 0.074516,
     "end_time": "2021-11-07T22:30:09.282880",
     "exception": false,
     "start_time": "2021-11-07T22:30:09.208364",
     "status": "completed"
    },
    "tags": []
   },
   "outputs": [
    {
     "data": {
      "text/html": [
       "<div>\n",
       "<style scoped>\n",
       "    .dataframe tbody tr th:only-of-type {\n",
       "        vertical-align: middle;\n",
       "    }\n",
       "\n",
       "    .dataframe tbody tr th {\n",
       "        vertical-align: top;\n",
       "    }\n",
       "\n",
       "    .dataframe thead th {\n",
       "        text-align: right;\n",
       "    }\n",
       "</style>\n",
       "<table border=\"1\" class=\"dataframe\">\n",
       "  <thead>\n",
       "    <tr style=\"text-align: right;\">\n",
       "      <th></th>\n",
       "      <th>RECORD_TIME</th>\n",
       "    </tr>\n",
       "  </thead>\n",
       "  <tbody>\n",
       "    <tr>\n",
       "      <th>0</th>\n",
       "      <td>2021-11-07 23:30</td>\n",
       "    </tr>\n",
       "    <tr>\n",
       "      <th>1</th>\n",
       "      <td>2021-11-07 23:00</td>\n",
       "    </tr>\n",
       "  </tbody>\n",
       "</table>\n",
       "</div>"
      ],
      "text/plain": [
       "        RECORD_TIME\n",
       "0  2021-11-07 23:30\n",
       "1  2021-11-07 23:00"
      ]
     },
     "execution_count": 3,
     "metadata": {},
     "output_type": "execute_result"
    }
   ],
   "source": [
    "timestamps"
   ]
  },
  {
   "cell_type": "code",
   "execution_count": 4,
   "id": "alternate-victory",
   "metadata": {
    "execution": {
     "iopub.execute_input": "2021-11-07T22:30:09.354857Z",
     "iopub.status.busy": "2021-11-07T22:30:09.352510Z",
     "iopub.status.idle": "2021-11-07T22:30:10.445281Z",
     "shell.execute_reply": "2021-11-07T22:30:10.446644Z"
    },
    "papermill": {
     "duration": 1.139551,
     "end_time": "2021-11-07T22:30:10.447117",
     "exception": false,
     "start_time": "2021-11-07T22:30:09.307566",
     "status": "completed"
    },
    "tags": []
   },
   "outputs": [],
   "source": [
    "df = pd.read_sql(\"select * from EBAY_TOP_BERLIN where record_time in (select distinct record_time from EBAY_TOP_BERLIN order by record_time desc limit 2)\", sqlite3.connect(\"UsedObjects.db\"))"
   ]
  },
  {
   "cell_type": "code",
   "execution_count": 5,
   "id": "popular-active",
   "metadata": {
    "execution": {
     "iopub.execute_input": "2021-11-07T22:30:10.513594Z",
     "iopub.status.busy": "2021-11-07T22:30:10.511301Z",
     "iopub.status.idle": "2021-11-07T22:30:10.542294Z",
     "shell.execute_reply": "2021-11-07T22:30:10.543876Z"
    },
    "papermill": {
     "duration": 0.076164,
     "end_time": "2021-11-07T22:30:10.544281",
     "exception": false,
     "start_time": "2021-11-07T22:30:10.468117",
     "status": "completed"
    },
    "tags": []
   },
   "outputs": [],
   "source": [
    "df_pivot = df.pivot_table(index=\"PRODUCT\", columns = \"RECORD_TIME\", values = \"LISTING_COUNT\")"
   ]
  },
  {
   "cell_type": "code",
   "execution_count": 6,
   "id": "union-huntington",
   "metadata": {
    "execution": {
     "iopub.execute_input": "2021-11-07T22:30:10.602954Z",
     "iopub.status.busy": "2021-11-07T22:30:10.601051Z",
     "iopub.status.idle": "2021-11-07T22:30:10.611034Z",
     "shell.execute_reply": "2021-11-07T22:30:10.612672Z"
    },
    "papermill": {
     "duration": 0.048151,
     "end_time": "2021-11-07T22:30:10.613269",
     "exception": false,
     "start_time": "2021-11-07T22:30:10.565118",
     "status": "completed"
    },
    "tags": []
   },
   "outputs": [],
   "source": [
    "df_pivot.columns = [\"stamp_1\", \"stamp_2\"]\n",
    "df_pivot_diff = df_pivot.diff(axis=1)"
   ]
  },
  {
   "cell_type": "code",
   "execution_count": 7,
   "id": "fifth-motion",
   "metadata": {
    "execution": {
     "iopub.execute_input": "2021-11-07T22:30:10.673863Z",
     "iopub.status.busy": "2021-11-07T22:30:10.671166Z",
     "iopub.status.idle": "2021-11-07T22:30:12.467538Z",
     "shell.execute_reply": "2021-11-07T22:30:12.469002Z"
    },
    "papermill": {
     "duration": 1.83327,
     "end_time": "2021-11-07T22:30:12.469485",
     "exception": false,
     "start_time": "2021-11-07T22:30:10.636215",
     "status": "completed"
    },
    "tags": []
   },
   "outputs": [
    {
     "data": {
      "text/plain": [
       "<AxesSubplot:ylabel='PRODUCT'>"
      ]
     },
     "execution_count": 7,
     "metadata": {},
     "output_type": "execute_result"
    },
    {
     "data": {
      "image/png": "[encoded data removed]",
      "text/plain": [
       "<Figure size 432x288 with 1 Axes>"
      ]
     },
     "metadata": {
      "needs_background": "light"
     },
     "output_type": "display_data"
    }
   ],
   "source": [
    "df_pivot_diff.sort_values(\"stamp_2\", ascending = False)[\"stamp_2\"].head(10).plot.barh()"
   ]
  },
  {
   "cell_type": "code",
   "execution_count": null,
   "id": "extra-executive",
   "metadata": {
    "papermill": {
     "duration": 0.024114,
     "end_time": "2021-11-07T22:30:12.519109",
     "exception": false,
     "start_time": "2021-11-07T22:30:12.494995",
     "status": "completed"
    },
    "tags": []
   },
   "outputs": [],
   "source": []
  }
 ],
 "metadata": {
  "kernelspec": {
   "display_name": "Python 3",
   "language": "python",
   "name": "python3"
  },
  "language_info": {
   "codemirror_mode": {
    "name": "ipython",
    "version": 3
   },
   "file_extension": ".py",
   "mimetype": "text/x-python",
   "name": "python",
   "nbconvert_exporter": "python",
   "pygments_lexer": "ipython3",
   "version": "3.9.5"
  },
  "papermill": {
   "default_parameters": {},
   "duration": 8.78023,
   "end_time": "2021-11-07T22:30:13.269385",
   "environment_variables": {},
   "exception": null,
   "input_path": "eBay_Overview.ipynb",
   "output_path": "eBay_Overview.ipynb",
   "parameters": {},
   "start_time": "2021-11-07T22:30:04.489155",
   "version": "2.3.3"
  }
 },
 "nbformat": 4,
 "nbformat_minor": 5
}