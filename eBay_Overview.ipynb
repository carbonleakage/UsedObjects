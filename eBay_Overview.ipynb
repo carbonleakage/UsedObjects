{
 "cells": [
  {
   "cell_type": "code",
   "execution_count": 1,
   "id": "reverse-picking",
   "metadata": {
    "execution": {
     "iopub.execute_input": "2021-10-27T09:30:07.388986Z",
     "iopub.status.busy": "2021-10-27T09:30:07.386941Z",
     "iopub.status.idle": "2021-10-27T09:30:08.192617Z",
     "shell.execute_reply": "2021-10-27T09:30:08.191049Z"
    },
    "papermill": {
     "duration": 0.854876,
     "end_time": "2021-10-27T09:30:08.193097",
     "exception": false,
     "start_time": "2021-10-27T09:30:07.338221",
     "status": "completed"
    },
    "tags": []
   },
   "outputs": [],
   "source": [
    "import pandas as pd\n",
    "import sqlite3"
   ]
  },
  {
   "cell_type": "code",
   "execution_count": 2,
   "id": "innovative-syndrome",
   "metadata": {
    "execution": {
     "iopub.execute_input": "2021-10-27T09:30:08.243725Z",
     "iopub.status.busy": "2021-10-27T09:30:08.241837Z",
     "iopub.status.idle": "2021-10-27T09:30:08.887043Z",
     "shell.execute_reply": "2021-10-27T09:30:08.888142Z"
    },
    "papermill": {
     "duration": 0.674509,
     "end_time": "2021-10-27T09:30:08.888543",
     "exception": false,
     "start_time": "2021-10-27T09:30:08.214034",
     "status": "completed"
    },
    "tags": []
   },
   "outputs": [],
   "source": [
    "timestamps = pd.read_sql(\"select distinct record_time from EBAY_TOP_BERLIN order by record_time desc limit 2\", sqlite3.connect(\"UsedObjects.db\"))"
   ]
  },
  {
   "cell_type": "code",
   "execution_count": 3,
   "id": "periodic-identification",
   "metadata": {
    "execution": {
     "iopub.execute_input": "2021-10-27T09:30:08.964631Z",
     "iopub.status.busy": "2021-10-27T09:30:08.962597Z",
     "iopub.status.idle": "2021-10-27T09:30:08.983569Z",
     "shell.execute_reply": "2021-10-27T09:30:08.982239Z"
    },
    "papermill": {
     "duration": 0.068451,
     "end_time": "2021-10-27T09:30:08.983906",
     "exception": false,
     "start_time": "2021-10-27T09:30:08.915455",
     "status": "completed"
    },
    "tags": []
   },
   "outputs": [
    {
     "data": {
      "text/html": [
       "<div>\n",
       "<style scoped>\n",
       "    .dataframe tbody tr th:only-of-type {\n",
       "        vertical-align: middle;\n",
       "    }\n",
       "\n",
       "    .dataframe tbody tr th {\n",
       "        vertical-align: top;\n",
       "    }\n",
       "\n",
       "    .dataframe thead th {\n",
       "        text-align: right;\n",
       "    }\n",
       "</style>\n",
       "<table border=\"1\" class=\"dataframe\">\n",
       "  <thead>\n",
       "    <tr style=\"text-align: right;\">\n",
       "      <th></th>\n",
       "      <th>RECORD_TIME</th>\n",
       "    </tr>\n",
       "  </thead>\n",
       "  <tbody>\n",
       "    <tr>\n",
       "      <th>0</th>\n",
       "      <td>2021-10-27 11:30</td>\n",
       "    </tr>\n",
       "    <tr>\n",
       "      <th>1</th>\n",
       "      <td>2021-10-27 11:00</td>\n",
       "    </tr>\n",
       "  </tbody>\n",
       "</table>\n",
       "</div>"
      ],
      "text/plain": [
       "        RECORD_TIME\n",
       "0  2021-10-27 11:30\n",
       "1  2021-10-27 11:00"
      ]
     },
     "execution_count": 3,
     "metadata": {},
     "output_type": "execute_result"
    }
   ],
   "source": [
    "timestamps"
   ]
  },
  {
   "cell_type": "code",
   "execution_count": 4,
   "id": "alternate-victory",
   "metadata": {
    "execution": {
     "iopub.execute_input": "2021-10-27T09:30:09.036662Z",
     "iopub.status.busy": "2021-10-27T09:30:09.034372Z",
     "iopub.status.idle": "2021-10-27T09:30:09.977586Z",
     "shell.execute_reply": "2021-10-27T09:30:09.978871Z"
    },
    "papermill": {
     "duration": 0.974138,
     "end_time": "2021-10-27T09:30:09.979266",
     "exception": false,
     "start_time": "2021-10-27T09:30:09.005128",
     "status": "completed"
    },
    "tags": []
   },
   "outputs": [],
   "source": [
    "df = pd.read_sql(\"select * from EBAY_TOP_BERLIN where record_time in (select distinct record_time from EBAY_TOP_BERLIN order by record_time desc limit 2)\", sqlite3.connect(\"UsedObjects.db\"))"
   ]
  },
  {
   "cell_type": "code",
   "execution_count": 5,
   "id": "popular-active",
   "metadata": {
    "execution": {
     "iopub.execute_input": "2021-10-27T09:30:10.050492Z",
     "iopub.status.busy": "2021-10-27T09:30:10.038133Z",
     "iopub.status.idle": "2021-10-27T09:30:10.066142Z",
     "shell.execute_reply": "2021-10-27T09:30:10.067346Z"
    },
    "papermill": {
     "duration": 0.067807,
     "end_time": "2021-10-27T09:30:10.067735",
     "exception": false,
     "start_time": "2021-10-27T09:30:09.999928",
     "status": "completed"
    },
    "tags": []
   },
   "outputs": [],
   "source": [
    "df_pivot = df.pivot_table(index=\"PRODUCT\", columns = \"RECORD_TIME\", values = \"LISTING_COUNT\")"
   ]
  },
  {
   "cell_type": "code",
   "execution_count": 6,
   "id": "union-huntington",
   "metadata": {
    "execution": {
     "iopub.execute_input": "2021-10-27T09:30:10.124833Z",
     "iopub.status.busy": "2021-10-27T09:30:10.122753Z",
     "iopub.status.idle": "2021-10-27T09:30:10.129323Z",
     "shell.execute_reply": "2021-10-27T09:30:10.127876Z"
    },
    "papermill": {
     "duration": 0.04026,
     "end_time": "2021-10-27T09:30:10.129673",
     "exception": false,
     "start_time": "2021-10-27T09:30:10.089413",
     "status": "completed"
    },
    "tags": []
   },
   "outputs": [],
   "source": [
    "df_pivot.columns = [\"stamp_1\", \"stamp_2\"]\n",
    "df_pivot_diff = df_pivot.diff(axis=1)"
   ]
  },
  {
   "cell_type": "code",
   "execution_count": 7,
   "id": "fifth-motion",
   "metadata": {
    "execution": {
     "iopub.execute_input": "2021-10-27T09:30:10.183930Z",
     "iopub.status.busy": "2021-10-27T09:30:10.181559Z",
     "iopub.status.idle": "2021-10-27T09:30:11.689396Z",
     "shell.execute_reply": "2021-10-27T09:30:11.690723Z"
    },
    "papermill": {
     "duration": 1.540889,
     "end_time": "2021-10-27T09:30:11.691133",
     "exception": false,
     "start_time": "2021-10-27T09:30:10.150244",
     "status": "completed"
    },
    "tags": []
   },
   "outputs": [
    {
     "data": {
      "text/plain": [
       "<AxesSubplot:ylabel='PRODUCT'>"
      ]
     },
     "execution_count": 7,
     "metadata": {},
     "output_type": "execute_result"
    },
    {
     "data": {
      "image/png": "[encoded data removed]",
      "text/plain": [
       "<Figure size 432x288 with 1 Axes>"
      ]
     },
     "metadata": {
      "needs_background": "light"
     },
     "output_type": "display_data"
    }
   ],
   "source": [
    "df_pivot_diff.sort_values(\"stamp_2\", ascending = False)[\"stamp_2\"].head(10).plot.barh()"
   ]
  },
  {
   "cell_type": "code",
   "execution_count": null,
   "id": "extra-executive",
   "metadata": {
    "papermill": {
     "duration": 0.022181,
     "end_time": "2021-10-27T09:30:11.737387",
     "exception": false,
     "start_time": "2021-10-27T09:30:11.715206",
     "status": "completed"
    },
    "tags": []
   },
   "outputs": [],
   "source": []
  }
 ],
 "metadata": {
  "kernelspec": {
   "display_name": "Python 3",
   "language": "python",
   "name": "python3"
  },
  "language_info": {
   "codemirror_mode": {
    "name": "ipython",
    "version": 3
   },
   "file_extension": ".py",
   "mimetype": "text/x-python",
   "name": "python",
   "nbconvert_exporter": "python",
   "pygments_lexer": "ipython3",
   "version": "3.9.5"
  },
  "papermill": {
   "default_parameters": {},
   "duration": 7.450697,
   "end_time": "2021-10-27T09:30:12.381634",
   "environment_variables": {},
   "exception": null,
   "input_path": "eBay_Overview.ipynb",
   "output_path": "eBay_Overview.ipynb",
   "parameters": {},
   "start_time": "2021-10-27T09:30:04.930937",
   "version": "2.3.3"
  }
 },
 "nbformat": 4,
 "nbformat_minor": 5
}