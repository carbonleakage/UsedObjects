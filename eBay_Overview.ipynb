{
 "cells": [
  {
   "cell_type": "code",
   "execution_count": 1,
   "id": "reverse-picking",
   "metadata": {
    "execution": {
     "iopub.execute_input": "2021-12-09T15:00:07.751173Z",
     "iopub.status.busy": "2021-12-09T15:00:07.749154Z",
     "iopub.status.idle": "2021-12-09T15:00:08.721994Z",
     "shell.execute_reply": "2021-12-09T15:00:08.724206Z"
    },
    "papermill": {
     "duration": 1.0229,
     "end_time": "2021-12-09T15:00:08.725026",
     "exception": false,
     "start_time": "2021-12-09T15:00:07.702126",
     "status": "completed"
    },
    "tags": []
   },
   "outputs": [],
   "source": [
    "import pandas as pd\n",
    "import sqlite3"
   ]
  },
  {
   "cell_type": "code",
   "execution_count": 2,
   "id": "innovative-syndrome",
   "metadata": {
    "execution": {
     "iopub.execute_input": "2021-12-09T15:00:08.781406Z",
     "iopub.status.busy": "2021-12-09T15:00:08.778932Z",
     "iopub.status.idle": "2021-12-09T15:00:09.842225Z",
     "shell.execute_reply": "2021-12-09T15:00:09.843546Z"
    },
    "papermill": {
     "duration": 1.097072,
     "end_time": "2021-12-09T15:00:09.844014",
     "exception": false,
     "start_time": "2021-12-09T15:00:08.746942",
     "status": "completed"
    },
    "tags": []
   },
   "outputs": [],
   "source": [
    "timestamps = pd.read_sql(\"select distinct record_time from EBAY_TOP_BERLIN order by record_time desc limit 2\", sqlite3.connect(\"UsedObjects.db\"))"
   ]
  },
  {
   "cell_type": "code",
   "execution_count": 3,
   "id": "periodic-identification",
   "metadata": {
    "execution": {
     "iopub.execute_input": "2021-12-09T15:00:09.917904Z",
     "iopub.status.busy": "2021-12-09T15:00:09.908918Z",
     "iopub.status.idle": "2021-12-09T15:00:09.934969Z",
     "shell.execute_reply": "2021-12-09T15:00:09.937403Z"
    },
    "papermill": {
     "duration": 0.075068,
     "end_time": "2021-12-09T15:00:09.938283",
     "exception": false,
     "start_time": "2021-12-09T15:00:09.863215",
     "status": "completed"
    },
    "tags": []
   },
   "outputs": [
    {
     "data": {
      "text/html": [
       "<div>\n",
       "<style scoped>\n",
       "    .dataframe tbody tr th:only-of-type {\n",
       "        vertical-align: middle;\n",
       "    }\n",
       "\n",
       "    .dataframe tbody tr th {\n",
       "        vertical-align: top;\n",
       "    }\n",
       "\n",
       "    .dataframe thead th {\n",
       "        text-align: right;\n",
       "    }\n",
       "</style>\n",
       "<table border=\"1\" class=\"dataframe\">\n",
       "  <thead>\n",
       "    <tr style=\"text-align: right;\">\n",
       "      <th></th>\n",
       "      <th>RECORD_TIME</th>\n",
       "    </tr>\n",
       "  </thead>\n",
       "  <tbody>\n",
       "    <tr>\n",
       "      <th>0</th>\n",
       "      <td>2021-12-09 16:00</td>\n",
       "    </tr>\n",
       "    <tr>\n",
       "      <th>1</th>\n",
       "      <td>2021-12-09 15:30</td>\n",
       "    </tr>\n",
       "  </tbody>\n",
       "</table>\n",
       "</div>"
      ],
      "text/plain": [
       "        RECORD_TIME\n",
       "0  2021-12-09 16:00\n",
       "1  2021-12-09 15:30"
      ]
     },
     "execution_count": 3,
     "metadata": {},
     "output_type": "execute_result"
    }
   ],
   "source": [
    "timestamps"
   ]
  },
  {
   "cell_type": "code",
   "execution_count": 4,
   "id": "alternate-victory",
   "metadata": {
    "execution": {
     "iopub.execute_input": "2021-12-09T15:00:10.015920Z",
     "iopub.status.busy": "2021-12-09T15:00:10.012548Z",
     "iopub.status.idle": "2021-12-09T15:00:11.532122Z",
     "shell.execute_reply": "2021-12-09T15:00:11.535888Z"
    },
    "papermill": {
     "duration": 1.572809,
     "end_time": "2021-12-09T15:00:11.536716",
     "exception": false,
     "start_time": "2021-12-09T15:00:09.963907",
     "status": "completed"
    },
    "tags": []
   },
   "outputs": [],
   "source": [
    "df = pd.read_sql(\"select * from EBAY_TOP_BERLIN where record_time in (select distinct record_time from EBAY_TOP_BERLIN order by record_time desc limit 2)\", sqlite3.connect(\"UsedObjects.db\"))"
   ]
  },
  {
   "cell_type": "code",
   "execution_count": 5,
   "id": "popular-active",
   "metadata": {
    "execution": {
     "iopub.execute_input": "2021-12-09T15:00:11.647222Z",
     "iopub.status.busy": "2021-12-09T15:00:11.632436Z",
     "iopub.status.idle": "2021-12-09T15:00:11.690807Z",
     "shell.execute_reply": "2021-12-09T15:00:11.693789Z"
    },
    "papermill": {
     "duration": 0.128226,
     "end_time": "2021-12-09T15:00:11.694698",
     "exception": false,
     "start_time": "2021-12-09T15:00:11.566472",
     "status": "completed"
    },
    "tags": []
   },
   "outputs": [],
   "source": [
    "df_pivot = df.pivot_table(index=\"PRODUCT\", columns = \"RECORD_TIME\", values = \"LISTING_COUNT\")"
   ]
  },
  {
   "cell_type": "code",
   "execution_count": 6,
   "id": "union-huntington",
   "metadata": {
    "execution": {
     "iopub.execute_input": "2021-12-09T15:00:11.787614Z",
     "iopub.status.busy": "2021-12-09T15:00:11.784661Z",
     "iopub.status.idle": "2021-12-09T15:00:11.792852Z",
     "shell.execute_reply": "2021-12-09T15:00:11.795041Z"
    },
    "papermill": {
     "duration": 0.068761,
     "end_time": "2021-12-09T15:00:11.795796",
     "exception": false,
     "start_time": "2021-12-09T15:00:11.727035",
     "status": "completed"
    },
    "tags": []
   },
   "outputs": [],
   "source": [
    "df_pivot.columns = [\"stamp_1\", \"stamp_2\"]\n",
    "df_pivot_diff = df_pivot.diff(axis=1)"
   ]
  },
  {
   "cell_type": "code",
   "execution_count": 7,
   "id": "fifth-motion",
   "metadata": {
    "execution": {
     "iopub.execute_input": "2021-12-09T15:00:11.882555Z",
     "iopub.status.busy": "2021-12-09T15:00:11.872427Z",
     "iopub.status.idle": "2021-12-09T15:00:13.613498Z",
     "shell.execute_reply": "2021-12-09T15:00:13.614986Z"
    },
    "papermill": {
     "duration": 1.795332,
     "end_time": "2021-12-09T15:00:13.615506",
     "exception": false,
     "start_time": "2021-12-09T15:00:11.820174",
     "status": "completed"
    },
    "tags": []
   },
   "outputs": [
    {
     "data": {
      "text/plain": [
       "<AxesSubplot:ylabel='PRODUCT'>"
      ]
     },
     "execution_count": 7,
     "metadata": {},
     "output_type": "execute_result"
    },
    {
     "data": {
      "image/png": "[encoded data removed]",
      "text/plain": [
       "<Figure size 432x288 with 1 Axes>"
      ]
     },
     "metadata": {
      "needs_background": "light"
     },
     "output_type": "display_data"
    }
   ],
   "source": [
    "df_pivot_diff.sort_values(\"stamp_2\", ascending = False)[\"stamp_2\"].head(10).plot.barh()"
   ]
  },
  {
   "cell_type": "code",
   "execution_count": null,
   "id": "extra-executive",
   "metadata": {
    "papermill": {
     "duration": 0.021865,
     "end_time": "2021-12-09T15:00:13.662438",
     "exception": false,
     "start_time": "2021-12-09T15:00:13.640573",
     "status": "completed"
    },
    "tags": []
   },
   "outputs": [],
   "source": []
  }
 ],
 "metadata": {
  "kernelspec": {
   "display_name": "Python 3",
   "language": "python",
   "name": "python3"
  },
  "language_info": {
   "codemirror_mode": {
    "name": "ipython",
    "version": 3
   },
   "file_extension": ".py",
   "mimetype": "text/x-python",
   "name": "python",
   "nbconvert_exporter": "python",
   "pygments_lexer": "ipython3",
   "version": "3.9.5"
  },
  "papermill": {
   "default_parameters": {},
   "duration": 9.946609,
   "end_time": "2021-12-09T15:00:14.902114",
   "environment_variables": {},
   "exception": null,
   "input_path": "eBay_Overview.ipynb",
   "output_path": "eBay_Overview.ipynb",
   "parameters": {},
   "start_time": "2021-12-09T15:00:04.955505",
   "version": "2.3.3"
  }
 },
 "nbformat": 4,
 "nbformat_minor": 5
}