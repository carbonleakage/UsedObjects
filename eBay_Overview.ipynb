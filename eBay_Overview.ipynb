{
 "cells": [
  {
   "cell_type": "code",
   "execution_count": 1,
   "id": "reverse-picking",
   "metadata": {
    "execution": {
     "iopub.execute_input": "2021-12-08T23:00:08.045393Z",
     "iopub.status.busy": "2021-12-08T23:00:08.042315Z",
     "iopub.status.idle": "2021-12-08T23:00:09.003698Z",
     "shell.execute_reply": "2021-12-08T23:00:09.005250Z"
    },
    "papermill": {
     "duration": 1.010471,
     "end_time": "2021-12-08T23:00:09.006000",
     "exception": false,
     "start_time": "2021-12-08T23:00:07.995529",
     "status": "completed"
    },
    "tags": []
   },
   "outputs": [],
   "source": [
    "import pandas as pd\n",
    "import sqlite3"
   ]
  },
  {
   "cell_type": "code",
   "execution_count": 2,
   "id": "innovative-syndrome",
   "metadata": {
    "execution": {
     "iopub.execute_input": "2021-12-08T23:00:09.073183Z",
     "iopub.status.busy": "2021-12-08T23:00:09.071026Z",
     "iopub.status.idle": "2021-12-08T23:00:10.123805Z",
     "shell.execute_reply": "2021-12-08T23:00:10.126542Z"
    },
    "papermill": {
     "duration": 1.086549,
     "end_time": "2021-12-08T23:00:10.127409",
     "exception": false,
     "start_time": "2021-12-08T23:00:09.040860",
     "status": "completed"
    },
    "tags": []
   },
   "outputs": [],
   "source": [
    "timestamps = pd.read_sql(\"select distinct record_time from EBAY_TOP_BERLIN order by record_time desc limit 2\", sqlite3.connect(\"UsedObjects.db\"))"
   ]
  },
  {
   "cell_type": "code",
   "execution_count": 3,
   "id": "periodic-identification",
   "metadata": {
    "execution": {
     "iopub.execute_input": "2021-12-08T23:00:10.201896Z",
     "iopub.status.busy": "2021-12-08T23:00:10.199609Z",
     "iopub.status.idle": "2021-12-08T23:00:10.226042Z",
     "shell.execute_reply": "2021-12-08T23:00:10.227328Z"
    },
    "papermill": {
     "duration": 0.077935,
     "end_time": "2021-12-08T23:00:10.227784",
     "exception": false,
     "start_time": "2021-12-08T23:00:10.149849",
     "status": "completed"
    },
    "tags": []
   },
   "outputs": [
    {
     "data": {
      "text/html": [
       "<div>\n",
       "<style scoped>\n",
       "    .dataframe tbody tr th:only-of-type {\n",
       "        vertical-align: middle;\n",
       "    }\n",
       "\n",
       "    .dataframe tbody tr th {\n",
       "        vertical-align: top;\n",
       "    }\n",
       "\n",
       "    .dataframe thead th {\n",
       "        text-align: right;\n",
       "    }\n",
       "</style>\n",
       "<table border=\"1\" class=\"dataframe\">\n",
       "  <thead>\n",
       "    <tr style=\"text-align: right;\">\n",
       "      <th></th>\n",
       "      <th>RECORD_TIME</th>\n",
       "    </tr>\n",
       "  </thead>\n",
       "  <tbody>\n",
       "    <tr>\n",
       "      <th>0</th>\n",
       "      <td>2021-12-09 00:00</td>\n",
       "    </tr>\n",
       "    <tr>\n",
       "      <th>1</th>\n",
       "      <td>2021-12-08 23:30</td>\n",
       "    </tr>\n",
       "  </tbody>\n",
       "</table>\n",
       "</div>"
      ],
      "text/plain": [
       "        RECORD_TIME\n",
       "0  2021-12-09 00:00\n",
       "1  2021-12-08 23:30"
      ]
     },
     "execution_count": 3,
     "metadata": {},
     "output_type": "execute_result"
    }
   ],
   "source": [
    "timestamps"
   ]
  },
  {
   "cell_type": "code",
   "execution_count": 4,
   "id": "alternate-victory",
   "metadata": {
    "execution": {
     "iopub.execute_input": "2021-12-08T23:00:10.281395Z",
     "iopub.status.busy": "2021-12-08T23:00:10.279329Z",
     "iopub.status.idle": "2021-12-08T23:00:11.789932Z",
     "shell.execute_reply": "2021-12-08T23:00:11.792966Z"
    },
    "papermill": {
     "duration": 1.545666,
     "end_time": "2021-12-08T23:00:11.793862",
     "exception": false,
     "start_time": "2021-12-08T23:00:10.248196",
     "status": "completed"
    },
    "tags": []
   },
   "outputs": [],
   "source": [
    "df = pd.read_sql(\"select * from EBAY_TOP_BERLIN where record_time in (select distinct record_time from EBAY_TOP_BERLIN order by record_time desc limit 2)\", sqlite3.connect(\"UsedObjects.db\"))"
   ]
  },
  {
   "cell_type": "code",
   "execution_count": 5,
   "id": "popular-active",
   "metadata": {
    "execution": {
     "iopub.execute_input": "2021-12-08T23:00:11.900135Z",
     "iopub.status.busy": "2021-12-08T23:00:11.890295Z",
     "iopub.status.idle": "2021-12-08T23:00:11.937689Z",
     "shell.execute_reply": "2021-12-08T23:00:11.940832Z"
    },
    "papermill": {
     "duration": 0.113345,
     "end_time": "2021-12-08T23:00:11.941754",
     "exception": false,
     "start_time": "2021-12-08T23:00:11.828409",
     "status": "completed"
    },
    "tags": []
   },
   "outputs": [],
   "source": [
    "df_pivot = df.pivot_table(index=\"PRODUCT\", columns = \"RECORD_TIME\", values = \"LISTING_COUNT\")"
   ]
  },
  {
   "cell_type": "code",
   "execution_count": 6,
   "id": "union-huntington",
   "metadata": {
    "execution": {
     "iopub.execute_input": "2021-12-08T23:00:12.037080Z",
     "iopub.status.busy": "2021-12-08T23:00:12.032896Z",
     "iopub.status.idle": "2021-12-08T23:00:12.044609Z",
     "shell.execute_reply": "2021-12-08T23:00:12.046952Z"
    },
    "papermill": {
     "duration": 0.071236,
     "end_time": "2021-12-08T23:00:12.047742",
     "exception": false,
     "start_time": "2021-12-08T23:00:11.976506",
     "status": "completed"
    },
    "tags": []
   },
   "outputs": [],
   "source": [
    "df_pivot.columns = [\"stamp_1\", \"stamp_2\"]\n",
    "df_pivot_diff = df_pivot.diff(axis=1)"
   ]
  },
  {
   "cell_type": "code",
   "execution_count": 7,
   "id": "fifth-motion",
   "metadata": {
    "execution": {
     "iopub.execute_input": "2021-12-08T23:00:12.123571Z",
     "iopub.status.busy": "2021-12-08T23:00:12.116764Z",
     "iopub.status.idle": "2021-12-08T23:00:13.857666Z",
     "shell.execute_reply": "2021-12-08T23:00:13.858868Z"
    },
    "papermill": {
     "duration": 1.785821,
     "end_time": "2021-12-08T23:00:13.859301",
     "exception": false,
     "start_time": "2021-12-08T23:00:12.073480",
     "status": "completed"
    },
    "tags": []
   },
   "outputs": [
    {
     "data": {
      "text/plain": [
       "<AxesSubplot:ylabel='PRODUCT'>"
      ]
     },
     "execution_count": 7,
     "metadata": {},
     "output_type": "execute_result"
    },
    {
     "data": {
      "image/png": "[encoded data removed]",
      "text/plain": [
       "<Figure size 432x288 with 1 Axes>"
      ]
     },
     "metadata": {
      "needs_background": "light"
     },
     "output_type": "display_data"
    }
   ],
   "source": [
    "df_pivot_diff.sort_values(\"stamp_2\", ascending = False)[\"stamp_2\"].head(10).plot.barh()"
   ]
  },
  {
   "cell_type": "code",
   "execution_count": null,
   "id": "extra-executive",
   "metadata": {
    "papermill": {
     "duration": 0.022472,
     "end_time": "2021-12-08T23:00:13.908945",
     "exception": false,
     "start_time": "2021-12-08T23:00:13.886473",
     "status": "completed"
    },
    "tags": []
   },
   "outputs": [],
   "source": []
  }
 ],
 "metadata": {
  "kernelspec": {
   "display_name": "Python 3",
   "language": "python",
   "name": "python3"
  },
  "language_info": {
   "codemirror_mode": {
    "name": "ipython",
    "version": 3
   },
   "file_extension": ".py",
   "mimetype": "text/x-python",
   "name": "python",
   "nbconvert_exporter": "python",
   "pygments_lexer": "ipython3",
   "version": "3.9.5"
  },
  "papermill": {
   "default_parameters": {},
   "duration": 9.933512,
   "end_time": "2021-12-08T23:00:15.183849",
   "environment_variables": {},
   "exception": null,
   "input_path": "eBay_Overview.ipynb",
   "output_path": "eBay_Overview.ipynb",
   "parameters": {},
   "start_time": "2021-12-08T23:00:05.250337",
   "version": "2.3.3"
  }
 },
 "nbformat": 4,
 "nbformat_minor": 5
}