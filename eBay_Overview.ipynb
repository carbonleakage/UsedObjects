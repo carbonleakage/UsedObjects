{
 "cells": [
  {
   "cell_type": "code",
   "execution_count": 1,
   "id": "reverse-picking",
   "metadata": {
    "execution": {
     "iopub.execute_input": "2021-09-22T16:30:07.058749Z",
     "iopub.status.busy": "2021-09-22T16:30:07.056815Z",
     "iopub.status.idle": "2021-09-22T16:30:07.863888Z",
     "shell.execute_reply": "2021-09-22T16:30:07.865157Z"
    },
    "papermill": {
     "duration": 0.859412,
     "end_time": "2021-09-22T16:30:07.865760",
     "exception": false,
     "start_time": "2021-09-22T16:30:07.006348",
     "status": "completed"
    },
    "tags": []
   },
   "outputs": [],
   "source": [
    "import pandas as pd\n",
    "import sqlite3"
   ]
  },
  {
   "cell_type": "code",
   "execution_count": 2,
   "id": "innovative-syndrome",
   "metadata": {
    "execution": {
     "iopub.execute_input": "2021-09-22T16:30:07.917022Z",
     "iopub.status.busy": "2021-09-22T16:30:07.915165Z",
     "iopub.status.idle": "2021-09-22T16:30:08.261679Z",
     "shell.execute_reply": "2021-09-22T16:30:08.262956Z"
    },
    "papermill": {
     "duration": 0.37605,
     "end_time": "2021-09-22T16:30:08.263404",
     "exception": false,
     "start_time": "2021-09-22T16:30:07.887354",
     "status": "completed"
    },
    "tags": []
   },
   "outputs": [],
   "source": [
    "timestamps = pd.read_sql(\"select distinct record_time from EBAY_TOP_BERLIN order by record_time desc limit 2\", sqlite3.connect(\"UsedObjects.db\"))"
   ]
  },
  {
   "cell_type": "code",
   "execution_count": 3,
   "id": "periodic-identification",
   "metadata": {
    "execution": {
     "iopub.execute_input": "2021-09-22T16:30:08.326287Z",
     "iopub.status.busy": "2021-09-22T16:30:08.324298Z",
     "iopub.status.idle": "2021-09-22T16:30:08.345176Z",
     "shell.execute_reply": "2021-09-22T16:30:08.346454Z"
    },
    "papermill": {
     "duration": 0.064057,
     "end_time": "2021-09-22T16:30:08.346921",
     "exception": false,
     "start_time": "2021-09-22T16:30:08.282864",
     "status": "completed"
    },
    "tags": []
   },
   "outputs": [
    {
     "data": {
      "text/html": [
       "<div>\n",
       "<style scoped>\n",
       "    .dataframe tbody tr th:only-of-type {\n",
       "        vertical-align: middle;\n",
       "    }\n",
       "\n",
       "    .dataframe tbody tr th {\n",
       "        vertical-align: top;\n",
       "    }\n",
       "\n",
       "    .dataframe thead th {\n",
       "        text-align: right;\n",
       "    }\n",
       "</style>\n",
       "<table border=\"1\" class=\"dataframe\">\n",
       "  <thead>\n",
       "    <tr style=\"text-align: right;\">\n",
       "      <th></th>\n",
       "      <th>RECORD_TIME</th>\n",
       "    </tr>\n",
       "  </thead>\n",
       "  <tbody>\n",
       "    <tr>\n",
       "      <th>0</th>\n",
       "      <td>2021-09-22 18:30</td>\n",
       "    </tr>\n",
       "    <tr>\n",
       "      <th>1</th>\n",
       "      <td>2021-09-22 18:00</td>\n",
       "    </tr>\n",
       "  </tbody>\n",
       "</table>\n",
       "</div>"
      ],
      "text/plain": [
       "        RECORD_TIME\n",
       "0  2021-09-22 18:30\n",
       "1  2021-09-22 18:00"
      ]
     },
     "execution_count": 3,
     "metadata": {},
     "output_type": "execute_result"
    }
   ],
   "source": [
    "timestamps"
   ]
  },
  {
   "cell_type": "code",
   "execution_count": 4,
   "id": "alternate-victory",
   "metadata": {
    "execution": {
     "iopub.execute_input": "2021-09-22T16:30:08.399415Z",
     "iopub.status.busy": "2021-09-22T16:30:08.397068Z",
     "iopub.status.idle": "2021-09-22T16:30:08.910226Z",
     "shell.execute_reply": "2021-09-22T16:30:08.911640Z"
    },
    "papermill": {
     "duration": 0.543512,
     "end_time": "2021-09-22T16:30:08.912058",
     "exception": false,
     "start_time": "2021-09-22T16:30:08.368546",
     "status": "completed"
    },
    "tags": []
   },
   "outputs": [],
   "source": [
    "df = pd.read_sql(\"select * from EBAY_TOP_BERLIN where record_time in (select distinct record_time from EBAY_TOP_BERLIN order by record_time desc limit 2)\", sqlite3.connect(\"UsedObjects.db\"))"
   ]
  },
  {
   "cell_type": "code",
   "execution_count": 5,
   "id": "popular-active",
   "metadata": {
    "execution": {
     "iopub.execute_input": "2021-09-22T16:30:08.984580Z",
     "iopub.status.busy": "2021-09-22T16:30:08.972654Z",
     "iopub.status.idle": "2021-09-22T16:30:08.999874Z",
     "shell.execute_reply": "2021-09-22T16:30:09.001090Z"
    },
    "papermill": {
     "duration": 0.067614,
     "end_time": "2021-09-22T16:30:09.001481",
     "exception": false,
     "start_time": "2021-09-22T16:30:08.933867",
     "status": "completed"
    },
    "tags": []
   },
   "outputs": [],
   "source": [
    "df_pivot = df.pivot_table(index=\"PRODUCT\", columns = \"RECORD_TIME\", values = \"LISTING_COUNT\")"
   ]
  },
  {
   "cell_type": "code",
   "execution_count": 6,
   "id": "union-huntington",
   "metadata": {
    "execution": {
     "iopub.execute_input": "2021-09-22T16:30:09.059643Z",
     "iopub.status.busy": "2021-09-22T16:30:09.057546Z",
     "iopub.status.idle": "2021-09-22T16:30:09.062888Z",
     "shell.execute_reply": "2021-09-22T16:30:09.064178Z"
    },
    "papermill": {
     "duration": 0.040709,
     "end_time": "2021-09-22T16:30:09.064584",
     "exception": false,
     "start_time": "2021-09-22T16:30:09.023875",
     "status": "completed"
    },
    "tags": []
   },
   "outputs": [],
   "source": [
    "df_pivot.columns = [\"stamp_1\", \"stamp_2\"]\n",
    "df_pivot_diff = df_pivot.diff(axis=1)"
   ]
  },
  {
   "cell_type": "code",
   "execution_count": 7,
   "id": "fifth-motion",
   "metadata": {
    "execution": {
     "iopub.execute_input": "2021-09-22T16:30:09.118256Z",
     "iopub.status.busy": "2021-09-22T16:30:09.115877Z",
     "iopub.status.idle": "2021-09-22T16:30:10.621800Z",
     "shell.execute_reply": "2021-09-22T16:30:10.623381Z"
    },
    "papermill": {
     "duration": 1.538866,
     "end_time": "2021-09-22T16:30:10.623842",
     "exception": false,
     "start_time": "2021-09-22T16:30:09.084976",
     "status": "completed"
    },
    "tags": []
   },
   "outputs": [
    {
     "data": {
      "text/plain": [
       "<AxesSubplot:ylabel='PRODUCT'>"
      ]
     },
     "execution_count": 7,
     "metadata": {},
     "output_type": "execute_result"
    },
    {
     "data": {
      "image/png": "[encoded data removed]",
      "text/plain": [
       "<Figure size 432x288 with 1 Axes>"
      ]
     },
     "metadata": {
      "needs_background": "light"
     },
     "output_type": "display_data"
    }
   ],
   "source": [
    "df_pivot_diff.sort_values(\"stamp_2\", ascending = False)[\"stamp_2\"].head(10).plot.barh()"
   ]
  },
  {
   "cell_type": "code",
   "execution_count": null,
   "id": "extra-executive",
   "metadata": {
    "papermill": {
     "duration": 0.022085,
     "end_time": "2021-09-22T16:30:10.670260",
     "exception": false,
     "start_time": "2021-09-22T16:30:10.648175",
     "status": "completed"
    },
    "tags": []
   },
   "outputs": [],
   "source": []
  }
 ],
 "metadata": {
  "kernelspec": {
   "display_name": "Python 3",
   "language": "python",
   "name": "python3"
  },
  "language_info": {
   "codemirror_mode": {
    "name": "ipython",
    "version": 3
   },
   "file_extension": ".py",
   "mimetype": "text/x-python",
   "name": "python",
   "nbconvert_exporter": "python",
   "pygments_lexer": "ipython3",
   "version": "3.9.5"
  },
  "papermill": {
   "default_parameters": {},
   "duration": 6.715356,
   "end_time": "2021-09-22T16:30:11.312922",
   "environment_variables": {},
   "exception": null,
   "input_path": "eBay_Overview.ipynb",
   "output_path": "eBay_Overview.ipynb",
   "parameters": {},
   "start_time": "2021-09-22T16:30:04.597566",
   "version": "2.3.3"
  }
 },
 "nbformat": 4,
 "nbformat_minor": 5
}