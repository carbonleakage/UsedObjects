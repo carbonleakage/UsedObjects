{
 "cells": [
  {
   "cell_type": "code",
   "execution_count": 1,
   "id": "reverse-picking",
   "metadata": {
    "execution": {
     "iopub.execute_input": "2021-10-16T16:00:08.443229Z",
     "iopub.status.busy": "2021-10-16T16:00:08.441245Z",
     "iopub.status.idle": "2021-10-16T16:00:09.247839Z",
     "shell.execute_reply": "2021-10-16T16:00:09.246265Z"
    },
    "papermill": {
     "duration": 0.859072,
     "end_time": "2021-10-16T16:00:09.248235",
     "exception": false,
     "start_time": "2021-10-16T16:00:08.389163",
     "status": "completed"
    },
    "tags": []
   },
   "outputs": [],
   "source": [
    "import pandas as pd\n",
    "import sqlite3"
   ]
  },
  {
   "cell_type": "code",
   "execution_count": 2,
   "id": "innovative-syndrome",
   "metadata": {
    "execution": {
     "iopub.execute_input": "2021-10-16T16:00:09.299772Z",
     "iopub.status.busy": "2021-10-16T16:00:09.297872Z",
     "iopub.status.idle": "2021-10-16T16:00:09.853478Z",
     "shell.execute_reply": "2021-10-16T16:00:09.854872Z"
    },
    "papermill": {
     "duration": 0.585485,
     "end_time": "2021-10-16T16:00:09.855311",
     "exception": false,
     "start_time": "2021-10-16T16:00:09.269826",
     "status": "completed"
    },
    "tags": []
   },
   "outputs": [],
   "source": [
    "timestamps = pd.read_sql(\"select distinct record_time from EBAY_TOP_BERLIN order by record_time desc limit 2\", sqlite3.connect(\"UsedObjects.db\"))"
   ]
  },
  {
   "cell_type": "code",
   "execution_count": 3,
   "id": "periodic-identification",
   "metadata": {
    "execution": {
     "iopub.execute_input": "2021-10-16T16:00:09.929422Z",
     "iopub.status.busy": "2021-10-16T16:00:09.927291Z",
     "iopub.status.idle": "2021-10-16T16:00:09.947269Z",
     "shell.execute_reply": "2021-10-16T16:00:09.948492Z"
    },
    "papermill": {
     "duration": 0.068022,
     "end_time": "2021-10-16T16:00:09.948946",
     "exception": false,
     "start_time": "2021-10-16T16:00:09.880924",
     "status": "completed"
    },
    "tags": []
   },
   "outputs": [
    {
     "data": {
      "text/html": [
       "<div>\n",
       "<style scoped>\n",
       "    .dataframe tbody tr th:only-of-type {\n",
       "        vertical-align: middle;\n",
       "    }\n",
       "\n",
       "    .dataframe tbody tr th {\n",
       "        vertical-align: top;\n",
       "    }\n",
       "\n",
       "    .dataframe thead th {\n",
       "        text-align: right;\n",
       "    }\n",
       "</style>\n",
       "<table border=\"1\" class=\"dataframe\">\n",
       "  <thead>\n",
       "    <tr style=\"text-align: right;\">\n",
       "      <th></th>\n",
       "      <th>RECORD_TIME</th>\n",
       "    </tr>\n",
       "  </thead>\n",
       "  <tbody>\n",
       "    <tr>\n",
       "      <th>0</th>\n",
       "      <td>2021-10-16 18:00</td>\n",
       "    </tr>\n",
       "    <tr>\n",
       "      <th>1</th>\n",
       "      <td>2021-10-16 17:30</td>\n",
       "    </tr>\n",
       "  </tbody>\n",
       "</table>\n",
       "</div>"
      ],
      "text/plain": [
       "        RECORD_TIME\n",
       "0  2021-10-16 18:00\n",
       "1  2021-10-16 17:30"
      ]
     },
     "execution_count": 3,
     "metadata": {},
     "output_type": "execute_result"
    }
   ],
   "source": [
    "timestamps"
   ]
  },
  {
   "cell_type": "code",
   "execution_count": 4,
   "id": "alternate-victory",
   "metadata": {
    "execution": {
     "iopub.execute_input": "2021-10-16T16:00:10.022442Z",
     "iopub.status.busy": "2021-10-16T16:00:10.019413Z",
     "iopub.status.idle": "2021-10-16T16:00:10.841500Z",
     "shell.execute_reply": "2021-10-16T16:00:10.842810Z"
    },
    "papermill": {
     "duration": 0.871742,
     "end_time": "2021-10-16T16:00:10.843207",
     "exception": false,
     "start_time": "2021-10-16T16:00:09.971465",
     "status": "completed"
    },
    "tags": []
   },
   "outputs": [],
   "source": [
    "df = pd.read_sql(\"select * from EBAY_TOP_BERLIN where record_time in (select distinct record_time from EBAY_TOP_BERLIN order by record_time desc limit 2)\", sqlite3.connect(\"UsedObjects.db\"))"
   ]
  },
  {
   "cell_type": "code",
   "execution_count": 5,
   "id": "popular-active",
   "metadata": {
    "execution": {
     "iopub.execute_input": "2021-10-16T16:00:10.913304Z",
     "iopub.status.busy": "2021-10-16T16:00:10.901633Z",
     "iopub.status.idle": "2021-10-16T16:00:10.930901Z",
     "shell.execute_reply": "2021-10-16T16:00:10.932281Z"
    },
    "papermill": {
     "duration": 0.068852,
     "end_time": "2021-10-16T16:00:10.932761",
     "exception": false,
     "start_time": "2021-10-16T16:00:10.863909",
     "status": "completed"
    },
    "tags": []
   },
   "outputs": [],
   "source": [
    "df_pivot = df.pivot_table(index=\"PRODUCT\", columns = \"RECORD_TIME\", values = \"LISTING_COUNT\")"
   ]
  },
  {
   "cell_type": "code",
   "execution_count": 6,
   "id": "union-huntington",
   "metadata": {
    "execution": {
     "iopub.execute_input": "2021-10-16T16:00:10.988819Z",
     "iopub.status.busy": "2021-10-16T16:00:10.986678Z",
     "iopub.status.idle": "2021-10-16T16:00:10.991965Z",
     "shell.execute_reply": "2021-10-16T16:00:10.993342Z"
    },
    "papermill": {
     "duration": 0.040607,
     "end_time": "2021-10-16T16:00:10.993763",
     "exception": false,
     "start_time": "2021-10-16T16:00:10.953156",
     "status": "completed"
    },
    "tags": []
   },
   "outputs": [],
   "source": [
    "df_pivot.columns = [\"stamp_1\", \"stamp_2\"]\n",
    "df_pivot_diff = df_pivot.diff(axis=1)"
   ]
  },
  {
   "cell_type": "code",
   "execution_count": 7,
   "id": "fifth-motion",
   "metadata": {
    "execution": {
     "iopub.execute_input": "2021-10-16T16:00:11.049140Z",
     "iopub.status.busy": "2021-10-16T16:00:11.046679Z",
     "iopub.status.idle": "2021-10-16T16:00:12.568016Z",
     "shell.execute_reply": "2021-10-16T16:00:12.569579Z"
    },
    "papermill": {
     "duration": 1.554676,
     "end_time": "2021-10-16T16:00:12.570049",
     "exception": false,
     "start_time": "2021-10-16T16:00:11.015373",
     "status": "completed"
    },
    "tags": []
   },
   "outputs": [
    {
     "data": {
      "text/plain": [
       "<AxesSubplot:ylabel='PRODUCT'>"
      ]
     },
     "execution_count": 7,
     "metadata": {},
     "output_type": "execute_result"
    },
    {
     "data": {
      "image/png": "[encoded data removed]",
      "text/plain": [
       "<Figure size 432x288 with 1 Axes>"
      ]
     },
     "metadata": {
      "needs_background": "light"
     },
     "output_type": "display_data"
    }
   ],
   "source": [
    "df_pivot_diff.sort_values(\"stamp_2\", ascending = False)[\"stamp_2\"].head(10).plot.barh()"
   ]
  },
  {
   "cell_type": "code",
   "execution_count": null,
   "id": "extra-executive",
   "metadata": {
    "papermill": {
     "duration": 0.022476,
     "end_time": "2021-10-16T16:00:12.616654",
     "exception": false,
     "start_time": "2021-10-16T16:00:12.594178",
     "status": "completed"
    },
    "tags": []
   },
   "outputs": [],
   "source": []
  }
 ],
 "metadata": {
  "kernelspec": {
   "display_name": "Python 3",
   "language": "python",
   "name": "python3"
  },
  "language_info": {
   "codemirror_mode": {
    "name": "ipython",
    "version": 3
   },
   "file_extension": ".py",
   "mimetype": "text/x-python",
   "name": "python",
   "nbconvert_exporter": "python",
   "pygments_lexer": "ipython3",
   "version": "3.9.5"
  },
  "papermill": {
   "default_parameters": {},
   "duration": 7.826887,
   "end_time": "2021-10-16T16:00:13.802372",
   "environment_variables": {},
   "exception": null,
   "input_path": "eBay_Overview.ipynb",
   "output_path": "eBay_Overview.ipynb",
   "parameters": {},
   "start_time": "2021-10-16T16:00:05.975485",
   "version": "2.3.3"
  }
 },
 "nbformat": 4,
 "nbformat_minor": 5
}