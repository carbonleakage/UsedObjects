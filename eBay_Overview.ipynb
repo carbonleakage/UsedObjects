{
 "cells": [
  {
   "cell_type": "code",
   "execution_count": 1,
   "id": "reverse-picking",
   "metadata": {
    "execution": {
     "iopub.execute_input": "2021-12-07T02:30:07.818605Z",
     "iopub.status.busy": "2021-12-07T02:30:07.816105Z",
     "iopub.status.idle": "2021-12-07T02:30:08.753770Z",
     "shell.execute_reply": "2021-12-07T02:30:08.755057Z"
    },
    "papermill": {
     "duration": 0.998899,
     "end_time": "2021-12-07T02:30:08.755680",
     "exception": false,
     "start_time": "2021-12-07T02:30:07.756781",
     "status": "completed"
    },
    "tags": []
   },
   "outputs": [],
   "source": [
    "import pandas as pd\n",
    "import sqlite3"
   ]
  },
  {
   "cell_type": "code",
   "execution_count": 2,
   "id": "innovative-syndrome",
   "metadata": {
    "execution": {
     "iopub.execute_input": "2021-12-07T02:30:08.840399Z",
     "iopub.status.busy": "2021-12-07T02:30:08.838068Z",
     "iopub.status.idle": "2021-12-07T02:30:09.841519Z",
     "shell.execute_reply": "2021-12-07T02:30:09.842899Z"
    },
    "papermill": {
     "duration": 1.041969,
     "end_time": "2021-12-07T02:30:09.843376",
     "exception": false,
     "start_time": "2021-12-07T02:30:08.801407",
     "status": "completed"
    },
    "tags": []
   },
   "outputs": [],
   "source": [
    "timestamps = pd.read_sql(\"select distinct record_time from EBAY_TOP_BERLIN order by record_time desc limit 2\", sqlite3.connect(\"UsedObjects.db\"))"
   ]
  },
  {
   "cell_type": "code",
   "execution_count": 3,
   "id": "periodic-identification",
   "metadata": {
    "execution": {
     "iopub.execute_input": "2021-12-07T02:30:09.914912Z",
     "iopub.status.busy": "2021-12-07T02:30:09.908993Z",
     "iopub.status.idle": "2021-12-07T02:30:09.931492Z",
     "shell.execute_reply": "2021-12-07T02:30:09.933195Z"
    },
    "papermill": {
     "duration": 0.070851,
     "end_time": "2021-12-07T02:30:09.933737",
     "exception": false,
     "start_time": "2021-12-07T02:30:09.862886",
     "status": "completed"
    },
    "tags": []
   },
   "outputs": [
    {
     "data": {
      "text/html": [
       "<div>\n",
       "<style scoped>\n",
       "    .dataframe tbody tr th:only-of-type {\n",
       "        vertical-align: middle;\n",
       "    }\n",
       "\n",
       "    .dataframe tbody tr th {\n",
       "        vertical-align: top;\n",
       "    }\n",
       "\n",
       "    .dataframe thead th {\n",
       "        text-align: right;\n",
       "    }\n",
       "</style>\n",
       "<table border=\"1\" class=\"dataframe\">\n",
       "  <thead>\n",
       "    <tr style=\"text-align: right;\">\n",
       "      <th></th>\n",
       "      <th>RECORD_TIME</th>\n",
       "    </tr>\n",
       "  </thead>\n",
       "  <tbody>\n",
       "    <tr>\n",
       "      <th>0</th>\n",
       "      <td>2021-12-07 03:30</td>\n",
       "    </tr>\n",
       "    <tr>\n",
       "      <th>1</th>\n",
       "      <td>2021-12-07 03:00</td>\n",
       "    </tr>\n",
       "  </tbody>\n",
       "</table>\n",
       "</div>"
      ],
      "text/plain": [
       "        RECORD_TIME\n",
       "0  2021-12-07 03:30\n",
       "1  2021-12-07 03:00"
      ]
     },
     "execution_count": 3,
     "metadata": {},
     "output_type": "execute_result"
    }
   ],
   "source": [
    "timestamps"
   ]
  },
  {
   "cell_type": "code",
   "execution_count": 4,
   "id": "alternate-victory",
   "metadata": {
    "execution": {
     "iopub.execute_input": "2021-12-07T02:30:10.012558Z",
     "iopub.status.busy": "2021-12-07T02:30:10.009258Z",
     "iopub.status.idle": "2021-12-07T02:30:11.457926Z",
     "shell.execute_reply": "2021-12-07T02:30:11.460864Z"
    },
    "papermill": {
     "duration": 1.502834,
     "end_time": "2021-12-07T02:30:11.461443",
     "exception": false,
     "start_time": "2021-12-07T02:30:09.958609",
     "status": "completed"
    },
    "tags": []
   },
   "outputs": [],
   "source": [
    "df = pd.read_sql(\"select * from EBAY_TOP_BERLIN where record_time in (select distinct record_time from EBAY_TOP_BERLIN order by record_time desc limit 2)\", sqlite3.connect(\"UsedObjects.db\"))"
   ]
  },
  {
   "cell_type": "code",
   "execution_count": 5,
   "id": "popular-active",
   "metadata": {
    "execution": {
     "iopub.execute_input": "2021-12-07T02:30:11.567488Z",
     "iopub.status.busy": "2021-12-07T02:30:11.564262Z",
     "iopub.status.idle": "2021-12-07T02:30:11.634340Z",
     "shell.execute_reply": "2021-12-07T02:30:11.636923Z"
    },
    "papermill": {
     "duration": 0.145271,
     "end_time": "2021-12-07T02:30:11.637764",
     "exception": false,
     "start_time": "2021-12-07T02:30:11.492493",
     "status": "completed"
    },
    "tags": []
   },
   "outputs": [],
   "source": [
    "df_pivot = df.pivot_table(index=\"PRODUCT\", columns = \"RECORD_TIME\", values = \"LISTING_COUNT\")"
   ]
  },
  {
   "cell_type": "code",
   "execution_count": 6,
   "id": "union-huntington",
   "metadata": {
    "execution": {
     "iopub.execute_input": "2021-12-07T02:30:11.732226Z",
     "iopub.status.busy": "2021-12-07T02:30:11.728459Z",
     "iopub.status.idle": "2021-12-07T02:30:11.739832Z",
     "shell.execute_reply": "2021-12-07T02:30:11.742757Z"
    },
    "papermill": {
     "duration": 0.075461,
     "end_time": "2021-12-07T02:30:11.743562",
     "exception": false,
     "start_time": "2021-12-07T02:30:11.668101",
     "status": "completed"
    },
    "tags": []
   },
   "outputs": [],
   "source": [
    "df_pivot.columns = [\"stamp_1\", \"stamp_2\"]\n",
    "df_pivot_diff = df_pivot.diff(axis=1)"
   ]
  },
  {
   "cell_type": "code",
   "execution_count": 7,
   "id": "fifth-motion",
   "metadata": {
    "execution": {
     "iopub.execute_input": "2021-12-07T02:30:11.820423Z",
     "iopub.status.busy": "2021-12-07T02:30:11.816477Z",
     "iopub.status.idle": "2021-12-07T02:30:13.537044Z",
     "shell.execute_reply": "2021-12-07T02:30:13.538569Z"
    },
    "papermill": {
     "duration": 1.765306,
     "end_time": "2021-12-07T02:30:13.539038",
     "exception": false,
     "start_time": "2021-12-07T02:30:11.773732",
     "status": "completed"
    },
    "tags": []
   },
   "outputs": [
    {
     "data": {
      "text/plain": [
       "<AxesSubplot:ylabel='PRODUCT'>"
      ]
     },
     "execution_count": 7,
     "metadata": {},
     "output_type": "execute_result"
    },
    {
     "data": {
      "image/png": "[encoded data removed]",
      "text/plain": [
       "<Figure size 432x288 with 1 Axes>"
      ]
     },
     "metadata": {
      "needs_background": "light"
     },
     "output_type": "display_data"
    }
   ],
   "source": [
    "df_pivot_diff.sort_values(\"stamp_2\", ascending = False)[\"stamp_2\"].head(10).plot.barh()"
   ]
  },
  {
   "cell_type": "code",
   "execution_count": null,
   "id": "extra-executive",
   "metadata": {
    "papermill": {
     "duration": 0.022052,
     "end_time": "2021-12-07T02:30:13.585135",
     "exception": false,
     "start_time": "2021-12-07T02:30:13.563083",
     "status": "completed"
    },
    "tags": []
   },
   "outputs": [],
   "source": []
  }
 ],
 "metadata": {
  "kernelspec": {
   "display_name": "Python 3",
   "language": "python",
   "name": "python3"
  },
  "language_info": {
   "codemirror_mode": {
    "name": "ipython",
    "version": 3
   },
   "file_extension": ".py",
   "mimetype": "text/x-python",
   "name": "python",
   "nbconvert_exporter": "python",
   "pygments_lexer": "ipython3",
   "version": "3.9.5"
  },
  "papermill": {
   "default_parameters": {},
   "duration": 9.952385,
   "end_time": "2021-12-07T02:30:14.985646",
   "environment_variables": {},
   "exception": null,
   "input_path": "eBay_Overview.ipynb",
   "output_path": "eBay_Overview.ipynb",
   "parameters": {},
   "start_time": "2021-12-07T02:30:05.033261",
   "version": "2.3.3"
  }
 },
 "nbformat": 4,
 "nbformat_minor": 5
}