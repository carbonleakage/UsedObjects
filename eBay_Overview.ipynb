{
 "cells": [
  {
   "cell_type": "code",
   "execution_count": 1,
   "id": "reverse-picking",
   "metadata": {
    "execution": {
     "iopub.execute_input": "2021-11-27T05:30:07.894138Z",
     "iopub.status.busy": "2021-11-27T05:30:07.891807Z",
     "iopub.status.idle": "2021-11-27T05:30:08.833747Z",
     "shell.execute_reply": "2021-11-27T05:30:08.835261Z"
    },
    "papermill": {
     "duration": 0.992891,
     "end_time": "2021-11-27T05:30:08.836014",
     "exception": false,
     "start_time": "2021-11-27T05:30:07.843123",
     "status": "completed"
    },
    "tags": []
   },
   "outputs": [],
   "source": [
    "import pandas as pd\n",
    "import sqlite3"
   ]
  },
  {
   "cell_type": "code",
   "execution_count": 2,
   "id": "innovative-syndrome",
   "metadata": {
    "execution": {
     "iopub.execute_input": "2021-11-27T05:30:08.897914Z",
     "iopub.status.busy": "2021-11-27T05:30:08.895499Z",
     "iopub.status.idle": "2021-11-27T05:30:09.826751Z",
     "shell.execute_reply": "2021-11-27T05:30:09.828136Z"
    },
    "papermill": {
     "duration": 0.965902,
     "end_time": "2021-11-27T05:30:09.828621",
     "exception": false,
     "start_time": "2021-11-27T05:30:08.862719",
     "status": "completed"
    },
    "tags": []
   },
   "outputs": [],
   "source": [
    "timestamps = pd.read_sql(\"select distinct record_time from EBAY_TOP_BERLIN order by record_time desc limit 2\", sqlite3.connect(\"UsedObjects.db\"))"
   ]
  },
  {
   "cell_type": "code",
   "execution_count": 3,
   "id": "periodic-identification",
   "metadata": {
    "execution": {
     "iopub.execute_input": "2021-11-27T05:30:09.899422Z",
     "iopub.status.busy": "2021-11-27T05:30:09.897049Z",
     "iopub.status.idle": "2021-11-27T05:30:09.919840Z",
     "shell.execute_reply": "2021-11-27T05:30:09.922133Z"
    },
    "papermill": {
     "duration": 0.073377,
     "end_time": "2021-11-27T05:30:09.922825",
     "exception": false,
     "start_time": "2021-11-27T05:30:09.849448",
     "status": "completed"
    },
    "tags": []
   },
   "outputs": [
    {
     "data": {
      "text/html": [
       "<div>\n",
       "<style scoped>\n",
       "    .dataframe tbody tr th:only-of-type {\n",
       "        vertical-align: middle;\n",
       "    }\n",
       "\n",
       "    .dataframe tbody tr th {\n",
       "        vertical-align: top;\n",
       "    }\n",
       "\n",
       "    .dataframe thead th {\n",
       "        text-align: right;\n",
       "    }\n",
       "</style>\n",
       "<table border=\"1\" class=\"dataframe\">\n",
       "  <thead>\n",
       "    <tr style=\"text-align: right;\">\n",
       "      <th></th>\n",
       "      <th>RECORD_TIME</th>\n",
       "    </tr>\n",
       "  </thead>\n",
       "  <tbody>\n",
       "    <tr>\n",
       "      <th>0</th>\n",
       "      <td>2021-11-27 06:30</td>\n",
       "    </tr>\n",
       "    <tr>\n",
       "      <th>1</th>\n",
       "      <td>2021-11-27 06:00</td>\n",
       "    </tr>\n",
       "  </tbody>\n",
       "</table>\n",
       "</div>"
      ],
      "text/plain": [
       "        RECORD_TIME\n",
       "0  2021-11-27 06:30\n",
       "1  2021-11-27 06:00"
      ]
     },
     "execution_count": 3,
     "metadata": {},
     "output_type": "execute_result"
    }
   ],
   "source": [
    "timestamps"
   ]
  },
  {
   "cell_type": "code",
   "execution_count": 4,
   "id": "alternate-victory",
   "metadata": {
    "execution": {
     "iopub.execute_input": "2021-11-27T05:30:09.981022Z",
     "iopub.status.busy": "2021-11-27T05:30:09.978734Z",
     "iopub.status.idle": "2021-11-27T05:30:11.326221Z",
     "shell.execute_reply": "2021-11-27T05:30:11.327709Z"
    },
    "papermill": {
     "duration": 1.383283,
     "end_time": "2021-11-27T05:30:11.328208",
     "exception": false,
     "start_time": "2021-11-27T05:30:09.944925",
     "status": "completed"
    },
    "tags": []
   },
   "outputs": [],
   "source": [
    "df = pd.read_sql(\"select * from EBAY_TOP_BERLIN where record_time in (select distinct record_time from EBAY_TOP_BERLIN order by record_time desc limit 2)\", sqlite3.connect(\"UsedObjects.db\"))"
   ]
  },
  {
   "cell_type": "code",
   "execution_count": 5,
   "id": "popular-active",
   "metadata": {
    "execution": {
     "iopub.execute_input": "2021-11-27T05:30:11.404120Z",
     "iopub.status.busy": "2021-11-27T05:30:11.389738Z",
     "iopub.status.idle": "2021-11-27T05:30:11.423605Z",
     "shell.execute_reply": "2021-11-27T05:30:11.426392Z"
    },
    "papermill": {
     "duration": 0.078379,
     "end_time": "2021-11-27T05:30:11.427250",
     "exception": false,
     "start_time": "2021-11-27T05:30:11.348871",
     "status": "completed"
    },
    "tags": []
   },
   "outputs": [],
   "source": [
    "df_pivot = df.pivot_table(index=\"PRODUCT\", columns = \"RECORD_TIME\", values = \"LISTING_COUNT\")"
   ]
  },
  {
   "cell_type": "code",
   "execution_count": 6,
   "id": "union-huntington",
   "metadata": {
    "execution": {
     "iopub.execute_input": "2021-11-27T05:30:11.488556Z",
     "iopub.status.busy": "2021-11-27T05:30:11.486103Z",
     "iopub.status.idle": "2021-11-27T05:30:11.492423Z",
     "shell.execute_reply": "2021-11-27T05:30:11.494224Z"
    },
    "papermill": {
     "duration": 0.045839,
     "end_time": "2021-11-27T05:30:11.494737",
     "exception": false,
     "start_time": "2021-11-27T05:30:11.448898",
     "status": "completed"
    },
    "tags": []
   },
   "outputs": [],
   "source": [
    "df_pivot.columns = [\"stamp_1\", \"stamp_2\"]\n",
    "df_pivot_diff = df_pivot.diff(axis=1)"
   ]
  },
  {
   "cell_type": "code",
   "execution_count": 7,
   "id": "fifth-motion",
   "metadata": {
    "execution": {
     "iopub.execute_input": "2021-11-27T05:30:11.553281Z",
     "iopub.status.busy": "2021-11-27T05:30:11.550718Z",
     "iopub.status.idle": "2021-11-27T05:30:13.468790Z",
     "shell.execute_reply": "2021-11-27T05:30:13.470215Z"
    },
    "papermill": {
     "duration": 1.954894,
     "end_time": "2021-11-27T05:30:13.470705",
     "exception": false,
     "start_time": "2021-11-27T05:30:11.515811",
     "status": "completed"
    },
    "tags": []
   },
   "outputs": [
    {
     "data": {
      "text/plain": [
       "<AxesSubplot:ylabel='PRODUCT'>"
      ]
     },
     "execution_count": 7,
     "metadata": {},
     "output_type": "execute_result"
    },
    {
     "data": {
      "image/png": "[encoded data removed]",
      "text/plain": [
       "<Figure size 432x288 with 1 Axes>"
      ]
     },
     "metadata": {
      "needs_background": "light"
     },
     "output_type": "display_data"
    }
   ],
   "source": [
    "df_pivot_diff.sort_values(\"stamp_2\", ascending = False)[\"stamp_2\"].head(10).plot.barh()"
   ]
  },
  {
   "cell_type": "code",
   "execution_count": null,
   "id": "extra-executive",
   "metadata": {
    "papermill": {
     "duration": 0.025263,
     "end_time": "2021-11-27T05:30:13.519447",
     "exception": false,
     "start_time": "2021-11-27T05:30:13.494184",
     "status": "completed"
    },
    "tags": []
   },
   "outputs": [],
   "source": []
  }
 ],
 "metadata": {
  "kernelspec": {
   "display_name": "Python 3",
   "language": "python",
   "name": "python3"
  },
  "language_info": {
   "codemirror_mode": {
    "name": "ipython",
    "version": 3
   },
   "file_extension": ".py",
   "mimetype": "text/x-python",
   "name": "python",
   "nbconvert_exporter": "python",
   "pygments_lexer": "ipython3",
   "version": "3.9.5"
  },
  "papermill": {
   "default_parameters": {},
   "duration": 9.931082,
   "end_time": "2021-11-27T05:30:15.025253",
   "environment_variables": {},
   "exception": null,
   "input_path": "eBay_Overview.ipynb",
   "output_path": "eBay_Overview.ipynb",
   "parameters": {},
   "start_time": "2021-11-27T05:30:05.094171",
   "version": "2.3.3"
  }
 },
 "nbformat": 4,
 "nbformat_minor": 5
}