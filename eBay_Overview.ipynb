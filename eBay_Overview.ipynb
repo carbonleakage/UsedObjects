{
 "cells": [
  {
   "cell_type": "code",
   "execution_count": 1,
   "id": "reverse-picking",
   "metadata": {
    "execution": {
     "iopub.execute_input": "2021-12-01T07:30:07.596407Z",
     "iopub.status.busy": "2021-12-01T07:30:07.593725Z",
     "iopub.status.idle": "2021-12-01T07:30:08.505708Z",
     "shell.execute_reply": "2021-12-01T07:30:08.508015Z"
    },
    "papermill": {
     "duration": 0.963815,
     "end_time": "2021-12-01T07:30:08.508799",
     "exception": false,
     "start_time": "2021-12-01T07:30:07.544984",
     "status": "completed"
    },
    "tags": []
   },
   "outputs": [],
   "source": [
    "import pandas as pd\n",
    "import sqlite3"
   ]
  },
  {
   "cell_type": "code",
   "execution_count": 2,
   "id": "innovative-syndrome",
   "metadata": {
    "execution": {
     "iopub.execute_input": "2021-12-01T07:30:08.571641Z",
     "iopub.status.busy": "2021-12-01T07:30:08.569406Z",
     "iopub.status.idle": "2021-12-01T07:30:09.522258Z",
     "shell.execute_reply": "2021-12-01T07:30:09.523687Z"
    },
    "papermill": {
     "duration": 0.987698,
     "end_time": "2021-12-01T07:30:09.524179",
     "exception": false,
     "start_time": "2021-12-01T07:30:08.536481",
     "status": "completed"
    },
    "tags": []
   },
   "outputs": [],
   "source": [
    "timestamps = pd.read_sql(\"select distinct record_time from EBAY_TOP_BERLIN order by record_time desc limit 2\", sqlite3.connect(\"UsedObjects.db\"))"
   ]
  },
  {
   "cell_type": "code",
   "execution_count": 3,
   "id": "periodic-identification",
   "metadata": {
    "execution": {
     "iopub.execute_input": "2021-12-01T07:30:09.595291Z",
     "iopub.status.busy": "2021-12-01T07:30:09.592807Z",
     "iopub.status.idle": "2021-12-01T07:30:09.617024Z",
     "shell.execute_reply": "2021-12-01T07:30:09.618650Z"
    },
    "papermill": {
     "duration": 0.074743,
     "end_time": "2021-12-01T07:30:09.619194",
     "exception": false,
     "start_time": "2021-12-01T07:30:09.544451",
     "status": "completed"
    },
    "tags": []
   },
   "outputs": [
    {
     "data": {
      "text/html": [
       "<div>\n",
       "<style scoped>\n",
       "    .dataframe tbody tr th:only-of-type {\n",
       "        vertical-align: middle;\n",
       "    }\n",
       "\n",
       "    .dataframe tbody tr th {\n",
       "        vertical-align: top;\n",
       "    }\n",
       "\n",
       "    .dataframe thead th {\n",
       "        text-align: right;\n",
       "    }\n",
       "</style>\n",
       "<table border=\"1\" class=\"dataframe\">\n",
       "  <thead>\n",
       "    <tr style=\"text-align: right;\">\n",
       "      <th></th>\n",
       "      <th>RECORD_TIME</th>\n",
       "    </tr>\n",
       "  </thead>\n",
       "  <tbody>\n",
       "    <tr>\n",
       "      <th>0</th>\n",
       "      <td>2021-12-01 08:30</td>\n",
       "    </tr>\n",
       "    <tr>\n",
       "      <th>1</th>\n",
       "      <td>2021-12-01 08:00</td>\n",
       "    </tr>\n",
       "  </tbody>\n",
       "</table>\n",
       "</div>"
      ],
      "text/plain": [
       "        RECORD_TIME\n",
       "0  2021-12-01 08:30\n",
       "1  2021-12-01 08:00"
      ]
     },
     "execution_count": 3,
     "metadata": {},
     "output_type": "execute_result"
    }
   ],
   "source": [
    "timestamps"
   ]
  },
  {
   "cell_type": "code",
   "execution_count": 4,
   "id": "alternate-victory",
   "metadata": {
    "execution": {
     "iopub.execute_input": "2021-12-01T07:30:09.676495Z",
     "iopub.status.busy": "2021-12-01T07:30:09.674340Z",
     "iopub.status.idle": "2021-12-01T07:30:11.059545Z",
     "shell.execute_reply": "2021-12-01T07:30:11.060981Z"
    },
    "papermill": {
     "duration": 1.418615,
     "end_time": "2021-12-01T07:30:11.061478",
     "exception": false,
     "start_time": "2021-12-01T07:30:09.642863",
     "status": "completed"
    },
    "tags": []
   },
   "outputs": [],
   "source": [
    "df = pd.read_sql(\"select * from EBAY_TOP_BERLIN where record_time in (select distinct record_time from EBAY_TOP_BERLIN order by record_time desc limit 2)\", sqlite3.connect(\"UsedObjects.db\"))"
   ]
  },
  {
   "cell_type": "code",
   "execution_count": 5,
   "id": "popular-active",
   "metadata": {
    "execution": {
     "iopub.execute_input": "2021-12-01T07:30:11.141123Z",
     "iopub.status.busy": "2021-12-01T07:30:11.126078Z",
     "iopub.status.idle": "2021-12-01T07:30:11.160290Z",
     "shell.execute_reply": "2021-12-01T07:30:11.161923Z"
    },
    "papermill": {
     "duration": 0.077713,
     "end_time": "2021-12-01T07:30:11.162449",
     "exception": false,
     "start_time": "2021-12-01T07:30:11.084736",
     "status": "completed"
    },
    "tags": []
   },
   "outputs": [],
   "source": [
    "df_pivot = df.pivot_table(index=\"PRODUCT\", columns = \"RECORD_TIME\", values = \"LISTING_COUNT\")"
   ]
  },
  {
   "cell_type": "code",
   "execution_count": 6,
   "id": "union-huntington",
   "metadata": {
    "execution": {
     "iopub.execute_input": "2021-12-01T07:30:11.221291Z",
     "iopub.status.busy": "2021-12-01T07:30:11.219035Z",
     "iopub.status.idle": "2021-12-01T07:30:11.224846Z",
     "shell.execute_reply": "2021-12-01T07:30:11.226338Z"
    },
    "papermill": {
     "duration": 0.043239,
     "end_time": "2021-12-01T07:30:11.226801",
     "exception": false,
     "start_time": "2021-12-01T07:30:11.183562",
     "status": "completed"
    },
    "tags": []
   },
   "outputs": [],
   "source": [
    "df_pivot.columns = [\"stamp_1\", \"stamp_2\"]\n",
    "df_pivot_diff = df_pivot.diff(axis=1)"
   ]
  },
  {
   "cell_type": "code",
   "execution_count": 7,
   "id": "fifth-motion",
   "metadata": {
    "execution": {
     "iopub.execute_input": "2021-12-01T07:30:11.283260Z",
     "iopub.status.busy": "2021-12-01T07:30:11.280822Z",
     "iopub.status.idle": "2021-12-01T07:30:13.187061Z",
     "shell.execute_reply": "2021-12-01T07:30:13.189652Z"
    },
    "papermill": {
     "duration": 1.942992,
     "end_time": "2021-12-01T07:30:13.190457",
     "exception": false,
     "start_time": "2021-12-01T07:30:11.247465",
     "status": "completed"
    },
    "tags": []
   },
   "outputs": [
    {
     "data": {
      "text/plain": [
       "<AxesSubplot:ylabel='PRODUCT'>"
      ]
     },
     "execution_count": 7,
     "metadata": {},
     "output_type": "execute_result"
    },
    {
     "data": {
      "image/png": "[encoded data removed]",
      "text/plain": [
       "<Figure size 432x288 with 1 Axes>"
      ]
     },
     "metadata": {
      "needs_background": "light"
     },
     "output_type": "display_data"
    }
   ],
   "source": [
    "df_pivot_diff.sort_values(\"stamp_2\", ascending = False)[\"stamp_2\"].head(10).plot.barh()"
   ]
  },
  {
   "cell_type": "code",
   "execution_count": null,
   "id": "extra-executive",
   "metadata": {
    "papermill": {
     "duration": 0.037726,
     "end_time": "2021-12-01T07:30:13.263092",
     "exception": false,
     "start_time": "2021-12-01T07:30:13.225366",
     "status": "completed"
    },
    "tags": []
   },
   "outputs": [],
   "source": []
  }
 ],
 "metadata": {
  "kernelspec": {
   "display_name": "Python 3",
   "language": "python",
   "name": "python3"
  },
  "language_info": {
   "codemirror_mode": {
    "name": "ipython",
    "version": 3
   },
   "file_extension": ".py",
   "mimetype": "text/x-python",
   "name": "python",
   "nbconvert_exporter": "python",
   "pygments_lexer": "ipython3",
   "version": "3.9.5"
  },
  "papermill": {
   "default_parameters": {},
   "duration": 9.93294,
   "end_time": "2021-12-01T07:30:14.753317",
   "environment_variables": {},
   "exception": null,
   "input_path": "eBay_Overview.ipynb",
   "output_path": "eBay_Overview.ipynb",
   "parameters": {},
   "start_time": "2021-12-01T07:30:04.820377",
   "version": "2.3.3"
  }
 },
 "nbformat": 4,
 "nbformat_minor": 5
}