{
 "cells": [
  {
   "cell_type": "code",
   "execution_count": 1,
   "id": "reverse-picking",
   "metadata": {
    "execution": {
     "iopub.execute_input": "2021-12-01T00:30:08.420085Z",
     "iopub.status.busy": "2021-12-01T00:30:08.412478Z",
     "iopub.status.idle": "2021-12-01T00:30:09.385111Z",
     "shell.execute_reply": "2021-12-01T00:30:09.386443Z"
    },
    "papermill": {
     "duration": 1.02222,
     "end_time": "2021-12-01T00:30:09.387146",
     "exception": false,
     "start_time": "2021-12-01T00:30:08.364926",
     "status": "completed"
    },
    "tags": []
   },
   "outputs": [],
   "source": [
    "import pandas as pd\n",
    "import sqlite3"
   ]
  },
  {
   "cell_type": "code",
   "execution_count": 2,
   "id": "innovative-syndrome",
   "metadata": {
    "execution": {
     "iopub.execute_input": "2021-12-01T00:30:09.458215Z",
     "iopub.status.busy": "2021-12-01T00:30:09.455734Z",
     "iopub.status.idle": "2021-12-01T00:30:10.426531Z",
     "shell.execute_reply": "2021-12-01T00:30:10.428253Z"
    },
    "papermill": {
     "duration": 1.004326,
     "end_time": "2021-12-01T00:30:10.428848",
     "exception": false,
     "start_time": "2021-12-01T00:30:09.424522",
     "status": "completed"
    },
    "tags": []
   },
   "outputs": [],
   "source": [
    "timestamps = pd.read_sql(\"select distinct record_time from EBAY_TOP_BERLIN order by record_time desc limit 2\", sqlite3.connect(\"UsedObjects.db\"))"
   ]
  },
  {
   "cell_type": "code",
   "execution_count": 3,
   "id": "periodic-identification",
   "metadata": {
    "execution": {
     "iopub.execute_input": "2021-12-01T00:30:10.488470Z",
     "iopub.status.busy": "2021-12-01T00:30:10.486521Z",
     "iopub.status.idle": "2021-12-01T00:30:10.524744Z",
     "shell.execute_reply": "2021-12-01T00:30:10.527015Z"
    },
    "papermill": {
     "duration": 0.078524,
     "end_time": "2021-12-01T00:30:10.527435",
     "exception": false,
     "start_time": "2021-12-01T00:30:10.448911",
     "status": "completed"
    },
    "tags": []
   },
   "outputs": [
    {
     "data": {
      "text/html": [
       "<div>\n",
       "<style scoped>\n",
       "    .dataframe tbody tr th:only-of-type {\n",
       "        vertical-align: middle;\n",
       "    }\n",
       "\n",
       "    .dataframe tbody tr th {\n",
       "        vertical-align: top;\n",
       "    }\n",
       "\n",
       "    .dataframe thead th {\n",
       "        text-align: right;\n",
       "    }\n",
       "</style>\n",
       "<table border=\"1\" class=\"dataframe\">\n",
       "  <thead>\n",
       "    <tr style=\"text-align: right;\">\n",
       "      <th></th>\n",
       "      <th>RECORD_TIME</th>\n",
       "    </tr>\n",
       "  </thead>\n",
       "  <tbody>\n",
       "    <tr>\n",
       "      <th>0</th>\n",
       "      <td>2021-12-01 01:30</td>\n",
       "    </tr>\n",
       "    <tr>\n",
       "      <th>1</th>\n",
       "      <td>2021-12-01 01:00</td>\n",
       "    </tr>\n",
       "  </tbody>\n",
       "</table>\n",
       "</div>"
      ],
      "text/plain": [
       "        RECORD_TIME\n",
       "0  2021-12-01 01:30\n",
       "1  2021-12-01 01:00"
      ]
     },
     "execution_count": 3,
     "metadata": {},
     "output_type": "execute_result"
    }
   ],
   "source": [
    "timestamps"
   ]
  },
  {
   "cell_type": "code",
   "execution_count": 4,
   "id": "alternate-victory",
   "metadata": {
    "execution": {
     "iopub.execute_input": "2021-12-01T00:30:10.585262Z",
     "iopub.status.busy": "2021-12-01T00:30:10.582904Z",
     "iopub.status.idle": "2021-12-01T00:30:12.008661Z",
     "shell.execute_reply": "2021-12-01T00:30:12.010195Z"
    },
    "papermill": {
     "duration": 1.461281,
     "end_time": "2021-12-01T00:30:12.010656",
     "exception": false,
     "start_time": "2021-12-01T00:30:10.549375",
     "status": "completed"
    },
    "tags": []
   },
   "outputs": [],
   "source": [
    "df = pd.read_sql(\"select * from EBAY_TOP_BERLIN where record_time in (select distinct record_time from EBAY_TOP_BERLIN order by record_time desc limit 2)\", sqlite3.connect(\"UsedObjects.db\"))"
   ]
  },
  {
   "cell_type": "code",
   "execution_count": 5,
   "id": "popular-active",
   "metadata": {
    "execution": {
     "iopub.execute_input": "2021-12-01T00:30:12.085683Z",
     "iopub.status.busy": "2021-12-01T00:30:12.071991Z",
     "iopub.status.idle": "2021-12-01T00:30:12.104174Z",
     "shell.execute_reply": "2021-12-01T00:30:12.105617Z"
    },
    "papermill": {
     "duration": 0.0744,
     "end_time": "2021-12-01T00:30:12.106060",
     "exception": false,
     "start_time": "2021-12-01T00:30:12.031660",
     "status": "completed"
    },
    "tags": []
   },
   "outputs": [],
   "source": [
    "df_pivot = df.pivot_table(index=\"PRODUCT\", columns = \"RECORD_TIME\", values = \"LISTING_COUNT\")"
   ]
  },
  {
   "cell_type": "code",
   "execution_count": 6,
   "id": "union-huntington",
   "metadata": {
    "execution": {
     "iopub.execute_input": "2021-12-01T00:30:12.168804Z",
     "iopub.status.busy": "2021-12-01T00:30:12.166919Z",
     "iopub.status.idle": "2021-12-01T00:30:12.175861Z",
     "shell.execute_reply": "2021-12-01T00:30:12.177294Z"
    },
    "papermill": {
     "duration": 0.049165,
     "end_time": "2021-12-01T00:30:12.177780",
     "exception": false,
     "start_time": "2021-12-01T00:30:12.128615",
     "status": "completed"
    },
    "tags": []
   },
   "outputs": [],
   "source": [
    "df_pivot.columns = [\"stamp_1\", \"stamp_2\"]\n",
    "df_pivot_diff = df_pivot.diff(axis=1)"
   ]
  },
  {
   "cell_type": "code",
   "execution_count": 7,
   "id": "fifth-motion",
   "metadata": {
    "execution": {
     "iopub.execute_input": "2021-12-01T00:30:12.234786Z",
     "iopub.status.busy": "2021-12-01T00:30:12.232212Z",
     "iopub.status.idle": "2021-12-01T00:30:14.276151Z",
     "shell.execute_reply": "2021-12-01T00:30:14.277483Z"
    },
    "papermill": {
     "duration": 2.079882,
     "end_time": "2021-12-01T00:30:14.277902",
     "exception": false,
     "start_time": "2021-12-01T00:30:12.198020",
     "status": "completed"
    },
    "tags": []
   },
   "outputs": [
    {
     "data": {
      "text/plain": [
       "<AxesSubplot:ylabel='PRODUCT'>"
      ]
     },
     "execution_count": 7,
     "metadata": {},
     "output_type": "execute_result"
    },
    {
     "data": {
      "image/png": "[encoded data removed]",
      "text/plain": [
       "<Figure size 432x288 with 1 Axes>"
      ]
     },
     "metadata": {
      "needs_background": "light"
     },
     "output_type": "display_data"
    }
   ],
   "source": [
    "df_pivot_diff.sort_values(\"stamp_2\", ascending = False)[\"stamp_2\"].head(10).plot.barh()"
   ]
  },
  {
   "cell_type": "code",
   "execution_count": null,
   "id": "extra-executive",
   "metadata": {
    "papermill": {
     "duration": 0.022229,
     "end_time": "2021-12-01T00:30:14.325018",
     "exception": false,
     "start_time": "2021-12-01T00:30:14.302789",
     "status": "completed"
    },
    "tags": []
   },
   "outputs": [],
   "source": []
  }
 ],
 "metadata": {
  "kernelspec": {
   "display_name": "Python 3",
   "language": "python",
   "name": "python3"
  },
  "language_info": {
   "codemirror_mode": {
    "name": "ipython",
    "version": 3
   },
   "file_extension": ".py",
   "mimetype": "text/x-python",
   "name": "python",
   "nbconvert_exporter": "python",
   "pygments_lexer": "ipython3",
   "version": "3.9.5"
  },
  "papermill": {
   "default_parameters": {},
   "duration": 9.955105,
   "end_time": "2021-12-01T00:30:15.553306",
   "environment_variables": {},
   "exception": null,
   "input_path": "eBay_Overview.ipynb",
   "output_path": "eBay_Overview.ipynb",
   "parameters": {},
   "start_time": "2021-12-01T00:30:05.598201",
   "version": "2.3.3"
  }
 },
 "nbformat": 4,
 "nbformat_minor": 5
}