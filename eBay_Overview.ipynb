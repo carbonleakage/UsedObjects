{
 "cells": [
  {
   "cell_type": "code",
   "execution_count": 1,
   "id": "reverse-picking",
   "metadata": {
    "execution": {
     "iopub.execute_input": "2021-09-26T15:00:07.338118Z",
     "iopub.status.busy": "2021-09-26T15:00:07.336201Z",
     "iopub.status.idle": "2021-09-26T15:00:08.143130Z",
     "shell.execute_reply": "2021-09-26T15:00:08.144573Z"
    },
    "papermill": {
     "duration": 0.859335,
     "end_time": "2021-09-26T15:00:08.145218",
     "exception": false,
     "start_time": "2021-09-26T15:00:07.285883",
     "status": "completed"
    },
    "tags": []
   },
   "outputs": [],
   "source": [
    "import pandas as pd\n",
    "import sqlite3"
   ]
  },
  {
   "cell_type": "code",
   "execution_count": 2,
   "id": "innovative-syndrome",
   "metadata": {
    "execution": {
     "iopub.execute_input": "2021-09-26T15:00:08.195279Z",
     "iopub.status.busy": "2021-09-26T15:00:08.193291Z",
     "iopub.status.idle": "2021-09-26T15:00:08.577438Z",
     "shell.execute_reply": "2021-09-26T15:00:08.578611Z"
    },
    "papermill": {
     "duration": 0.413613,
     "end_time": "2021-09-26T15:00:08.579176",
     "exception": false,
     "start_time": "2021-09-26T15:00:08.165563",
     "status": "completed"
    },
    "tags": []
   },
   "outputs": [],
   "source": [
    "timestamps = pd.read_sql(\"select distinct record_time from EBAY_TOP_BERLIN order by record_time desc limit 2\", sqlite3.connect(\"UsedObjects.db\"))"
   ]
  },
  {
   "cell_type": "code",
   "execution_count": 3,
   "id": "periodic-identification",
   "metadata": {
    "execution": {
     "iopub.execute_input": "2021-09-26T15:00:08.648169Z",
     "iopub.status.busy": "2021-09-26T15:00:08.646062Z",
     "iopub.status.idle": "2021-09-26T15:00:08.665906Z",
     "shell.execute_reply": "2021-09-26T15:00:08.667233Z"
    },
    "papermill": {
     "duration": 0.066789,
     "end_time": "2021-09-26T15:00:08.667651",
     "exception": false,
     "start_time": "2021-09-26T15:00:08.600862",
     "status": "completed"
    },
    "tags": []
   },
   "outputs": [
    {
     "data": {
      "text/html": [
       "<div>\n",
       "<style scoped>\n",
       "    .dataframe tbody tr th:only-of-type {\n",
       "        vertical-align: middle;\n",
       "    }\n",
       "\n",
       "    .dataframe tbody tr th {\n",
       "        vertical-align: top;\n",
       "    }\n",
       "\n",
       "    .dataframe thead th {\n",
       "        text-align: right;\n",
       "    }\n",
       "</style>\n",
       "<table border=\"1\" class=\"dataframe\">\n",
       "  <thead>\n",
       "    <tr style=\"text-align: right;\">\n",
       "      <th></th>\n",
       "      <th>RECORD_TIME</th>\n",
       "    </tr>\n",
       "  </thead>\n",
       "  <tbody>\n",
       "    <tr>\n",
       "      <th>0</th>\n",
       "      <td>2021-09-26 17:00</td>\n",
       "    </tr>\n",
       "    <tr>\n",
       "      <th>1</th>\n",
       "      <td>2021-09-26 16:30</td>\n",
       "    </tr>\n",
       "  </tbody>\n",
       "</table>\n",
       "</div>"
      ],
      "text/plain": [
       "        RECORD_TIME\n",
       "0  2021-09-26 17:00\n",
       "1  2021-09-26 16:30"
      ]
     },
     "execution_count": 3,
     "metadata": {},
     "output_type": "execute_result"
    }
   ],
   "source": [
    "timestamps"
   ]
  },
  {
   "cell_type": "code",
   "execution_count": 4,
   "id": "alternate-victory",
   "metadata": {
    "execution": {
     "iopub.execute_input": "2021-09-26T15:00:08.719559Z",
     "iopub.status.busy": "2021-09-26T15:00:08.717510Z",
     "iopub.status.idle": "2021-09-26T15:00:09.283447Z",
     "shell.execute_reply": "2021-09-26T15:00:09.284906Z"
    },
    "papermill": {
     "duration": 0.596292,
     "end_time": "2021-09-26T15:00:09.285345",
     "exception": false,
     "start_time": "2021-09-26T15:00:08.689053",
     "status": "completed"
    },
    "tags": []
   },
   "outputs": [],
   "source": [
    "df = pd.read_sql(\"select * from EBAY_TOP_BERLIN where record_time in (select distinct record_time from EBAY_TOP_BERLIN order by record_time desc limit 2)\", sqlite3.connect(\"UsedObjects.db\"))"
   ]
  },
  {
   "cell_type": "code",
   "execution_count": 5,
   "id": "popular-active",
   "metadata": {
    "execution": {
     "iopub.execute_input": "2021-09-26T15:00:09.365536Z",
     "iopub.status.busy": "2021-09-26T15:00:09.353081Z",
     "iopub.status.idle": "2021-09-26T15:00:09.381255Z",
     "shell.execute_reply": "2021-09-26T15:00:09.382441Z"
    },
    "papermill": {
     "duration": 0.071351,
     "end_time": "2021-09-26T15:00:09.382884",
     "exception": false,
     "start_time": "2021-09-26T15:00:09.311533",
     "status": "completed"
    },
    "tags": []
   },
   "outputs": [],
   "source": [
    "df_pivot = df.pivot_table(index=\"PRODUCT\", columns = \"RECORD_TIME\", values = \"LISTING_COUNT\")"
   ]
  },
  {
   "cell_type": "code",
   "execution_count": 6,
   "id": "union-huntington",
   "metadata": {
    "execution": {
     "iopub.execute_input": "2021-09-26T15:00:09.438739Z",
     "iopub.status.busy": "2021-09-26T15:00:09.436719Z",
     "iopub.status.idle": "2021-09-26T15:00:09.441915Z",
     "shell.execute_reply": "2021-09-26T15:00:09.443236Z"
    },
    "papermill": {
     "duration": 0.040137,
     "end_time": "2021-09-26T15:00:09.443656",
     "exception": false,
     "start_time": "2021-09-26T15:00:09.403519",
     "status": "completed"
    },
    "tags": []
   },
   "outputs": [],
   "source": [
    "df_pivot.columns = [\"stamp_1\", \"stamp_2\"]\n",
    "df_pivot_diff = df_pivot.diff(axis=1)"
   ]
  },
  {
   "cell_type": "code",
   "execution_count": 7,
   "id": "fifth-motion",
   "metadata": {
    "execution": {
     "iopub.execute_input": "2021-09-26T15:00:09.498396Z",
     "iopub.status.busy": "2021-09-26T15:00:09.496059Z",
     "iopub.status.idle": "2021-09-26T15:00:10.999735Z",
     "shell.execute_reply": "2021-09-26T15:00:11.000994Z"
    },
    "papermill": {
     "duration": 1.536373,
     "end_time": "2021-09-26T15:00:11.001409",
     "exception": false,
     "start_time": "2021-09-26T15:00:09.465036",
     "status": "completed"
    },
    "tags": []
   },
   "outputs": [
    {
     "data": {
      "text/plain": [
       "<AxesSubplot:ylabel='PRODUCT'>"
      ]
     },
     "execution_count": 7,
     "metadata": {},
     "output_type": "execute_result"
    },
    {
     "data": {
      "image/png": "[encoded data removed]",
      "text/plain": [
       "<Figure size 432x288 with 1 Axes>"
      ]
     },
     "metadata": {
      "needs_background": "light"
     },
     "output_type": "display_data"
    }
   ],
   "source": [
    "df_pivot_diff.sort_values(\"stamp_2\", ascending = False)[\"stamp_2\"].head(10).plot.barh()"
   ]
  },
  {
   "cell_type": "code",
   "execution_count": null,
   "id": "extra-executive",
   "metadata": {
    "papermill": {
     "duration": 0.022183,
     "end_time": "2021-09-26T15:00:11.048322",
     "exception": false,
     "start_time": "2021-09-26T15:00:11.026139",
     "status": "completed"
    },
    "tags": []
   },
   "outputs": [],
   "source": []
  }
 ],
 "metadata": {
  "kernelspec": {
   "display_name": "Python 3",
   "language": "python",
   "name": "python3"
  },
  "language_info": {
   "codemirror_mode": {
    "name": "ipython",
    "version": 3
   },
   "file_extension": ".py",
   "mimetype": "text/x-python",
   "name": "python",
   "nbconvert_exporter": "python",
   "pygments_lexer": "ipython3",
   "version": "3.9.5"
  },
  "papermill": {
   "default_parameters": {},
   "duration": 6.803693,
   "end_time": "2021-09-26T15:00:11.691999",
   "environment_variables": {},
   "exception": null,
   "input_path": "eBay_Overview.ipynb",
   "output_path": "eBay_Overview.ipynb",
   "parameters": {},
   "start_time": "2021-09-26T15:00:04.888306",
   "version": "2.3.3"
  }
 },
 "nbformat": 4,
 "nbformat_minor": 5
}