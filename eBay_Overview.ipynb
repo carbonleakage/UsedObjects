{
 "cells": [
  {
   "cell_type": "code",
   "execution_count": 1,
   "id": "reverse-picking",
   "metadata": {
    "execution": {
     "iopub.execute_input": "2021-08-18T15:30:07.634795Z",
     "iopub.status.busy": "2021-08-18T15:30:07.632809Z",
     "iopub.status.idle": "2021-08-18T15:30:08.435131Z",
     "shell.execute_reply": "2021-08-18T15:30:08.436386Z"
    },
    "papermill": {
     "duration": 0.852059,
     "end_time": "2021-08-18T15:30:08.437005",
     "exception": false,
     "start_time": "2021-08-18T15:30:07.584946",
     "status": "completed"
    },
    "tags": []
   },
   "outputs": [],
   "source": [
    "import pandas as pd\n",
    "import sqlite3"
   ]
  },
  {
   "cell_type": "code",
   "execution_count": 2,
   "id": "innovative-syndrome",
   "metadata": {
    "execution": {
     "iopub.execute_input": "2021-08-18T15:30:08.487809Z",
     "iopub.status.busy": "2021-08-18T15:30:08.485849Z",
     "iopub.status.idle": "2021-08-18T15:30:08.560888Z",
     "shell.execute_reply": "2021-08-18T15:30:08.562269Z"
    },
    "papermill": {
     "duration": 0.10465,
     "end_time": "2021-08-18T15:30:08.562690",
     "exception": false,
     "start_time": "2021-08-18T15:30:08.458040",
     "status": "completed"
    },
    "tags": []
   },
   "outputs": [],
   "source": [
    "timestamps = pd.read_sql(\"select distinct record_time from EBAY_TOP_BERLIN order by record_time desc limit 2\", sqlite3.connect(\"UsedObjects.db\"))"
   ]
  },
  {
   "cell_type": "code",
   "execution_count": 3,
   "id": "periodic-identification",
   "metadata": {
    "execution": {
     "iopub.execute_input": "2021-08-18T15:30:08.634032Z",
     "iopub.status.busy": "2021-08-18T15:30:08.628804Z",
     "iopub.status.idle": "2021-08-18T15:30:08.648706Z",
     "shell.execute_reply": "2021-08-18T15:30:08.650073Z"
    },
    "papermill": {
     "duration": 0.066945,
     "end_time": "2021-08-18T15:30:08.650503",
     "exception": false,
     "start_time": "2021-08-18T15:30:08.583558",
     "status": "completed"
    },
    "tags": []
   },
   "outputs": [
    {
     "data": {
      "text/html": [
       "<div>\n",
       "<style scoped>\n",
       "    .dataframe tbody tr th:only-of-type {\n",
       "        vertical-align: middle;\n",
       "    }\n",
       "\n",
       "    .dataframe tbody tr th {\n",
       "        vertical-align: top;\n",
       "    }\n",
       "\n",
       "    .dataframe thead th {\n",
       "        text-align: right;\n",
       "    }\n",
       "</style>\n",
       "<table border=\"1\" class=\"dataframe\">\n",
       "  <thead>\n",
       "    <tr style=\"text-align: right;\">\n",
       "      <th></th>\n",
       "      <th>RECORD_TIME</th>\n",
       "    </tr>\n",
       "  </thead>\n",
       "  <tbody>\n",
       "    <tr>\n",
       "      <th>0</th>\n",
       "      <td>2021-08-18 17:30</td>\n",
       "    </tr>\n",
       "    <tr>\n",
       "      <th>1</th>\n",
       "      <td>2021-08-18 17:00</td>\n",
       "    </tr>\n",
       "  </tbody>\n",
       "</table>\n",
       "</div>"
      ],
      "text/plain": [
       "        RECORD_TIME\n",
       "0  2021-08-18 17:30\n",
       "1  2021-08-18 17:00"
      ]
     },
     "execution_count": 3,
     "metadata": {},
     "output_type": "execute_result"
    }
   ],
   "source": [
    "timestamps"
   ]
  },
  {
   "cell_type": "code",
   "execution_count": 4,
   "id": "alternate-victory",
   "metadata": {
    "execution": {
     "iopub.execute_input": "2021-08-18T15:30:08.701795Z",
     "iopub.status.busy": "2021-08-18T15:30:08.699985Z",
     "iopub.status.idle": "2021-08-18T15:30:08.818321Z",
     "shell.execute_reply": "2021-08-18T15:30:08.816869Z"
    },
    "papermill": {
     "duration": 0.146906,
     "end_time": "2021-08-18T15:30:08.818715",
     "exception": false,
     "start_time": "2021-08-18T15:30:08.671809",
     "status": "completed"
    },
    "tags": []
   },
   "outputs": [],
   "source": [
    "df = pd.read_sql(\"select * from EBAY_TOP_BERLIN where record_time in (select distinct record_time from EBAY_TOP_BERLIN order by record_time desc limit 2)\", sqlite3.connect(\"UsedObjects.db\"))"
   ]
  },
  {
   "cell_type": "code",
   "execution_count": 5,
   "id": "popular-active",
   "metadata": {
    "execution": {
     "iopub.execute_input": "2021-08-18T15:30:08.888611Z",
     "iopub.status.busy": "2021-08-18T15:30:08.876265Z",
     "iopub.status.idle": "2021-08-18T15:30:08.904675Z",
     "shell.execute_reply": "2021-08-18T15:30:08.905899Z"
    },
    "papermill": {
     "duration": 0.067367,
     "end_time": "2021-08-18T15:30:08.906500",
     "exception": false,
     "start_time": "2021-08-18T15:30:08.839133",
     "status": "completed"
    },
    "tags": []
   },
   "outputs": [],
   "source": [
    "df_pivot = df.pivot_table(index=\"PRODUCT\", columns = \"RECORD_TIME\", values = \"LISTING_COUNT\")"
   ]
  },
  {
   "cell_type": "code",
   "execution_count": 6,
   "id": "union-huntington",
   "metadata": {
    "execution": {
     "iopub.execute_input": "2021-08-18T15:30:08.965908Z",
     "iopub.status.busy": "2021-08-18T15:30:08.963434Z",
     "iopub.status.idle": "2021-08-18T15:30:08.969295Z",
     "shell.execute_reply": "2021-08-18T15:30:08.970653Z"
    },
    "papermill": {
     "duration": 0.042418,
     "end_time": "2021-08-18T15:30:08.971075",
     "exception": false,
     "start_time": "2021-08-18T15:30:08.928657",
     "status": "completed"
    },
    "tags": []
   },
   "outputs": [],
   "source": [
    "df_pivot.columns = [\"stamp_1\", \"stamp_2\"]\n",
    "df_pivot_diff = df_pivot.diff(axis=1)"
   ]
  },
  {
   "cell_type": "code",
   "execution_count": 7,
   "id": "fifth-motion",
   "metadata": {
    "execution": {
     "iopub.execute_input": "2021-08-18T15:30:09.026586Z",
     "iopub.status.busy": "2021-08-18T15:30:09.024333Z",
     "iopub.status.idle": "2021-08-18T15:30:10.514674Z",
     "shell.execute_reply": "2021-08-18T15:30:10.516066Z"
    },
    "papermill": {
     "duration": 1.523802,
     "end_time": "2021-08-18T15:30:10.516505",
     "exception": false,
     "start_time": "2021-08-18T15:30:08.992703",
     "status": "completed"
    },
    "tags": []
   },
   "outputs": [
    {
     "data": {
      "text/plain": [
       "<AxesSubplot:ylabel='PRODUCT'>"
      ]
     },
     "execution_count": 7,
     "metadata": {},
     "output_type": "execute_result"
    },
    {
     "data": {
      "image/png": "[encoded data removed]",
      "text/plain": [
       "<Figure size 432x288 with 1 Axes>"
      ]
     },
     "metadata": {
      "needs_background": "light"
     },
     "output_type": "display_data"
    }
   ],
   "source": [
    "df_pivot_diff.sort_values(\"stamp_2\", ascending = False)[\"stamp_2\"].head(10).plot.barh()"
   ]
  },
  {
   "cell_type": "code",
   "execution_count": null,
   "id": "extra-executive",
   "metadata": {
    "papermill": {
     "duration": 0.022398,
     "end_time": "2021-08-18T15:30:10.563475",
     "exception": false,
     "start_time": "2021-08-18T15:30:10.541077",
     "status": "completed"
    },
    "tags": []
   },
   "outputs": [],
   "source": []
  }
 ],
 "metadata": {
  "kernelspec": {
   "display_name": "Python 3",
   "language": "python",
   "name": "python3"
  },
  "language_info": {
   "codemirror_mode": {
    "name": "ipython",
    "version": 3
   },
   "file_extension": ".py",
   "mimetype": "text/x-python",
   "name": "python",
   "nbconvert_exporter": "python",
   "pygments_lexer": "ipython3",
   "version": "3.9.5"
  },
  "papermill": {
   "default_parameters": {},
   "duration": 6.836138,
   "end_time": "2021-08-18T15:30:12.012526",
   "environment_variables": {},
   "exception": null,
   "input_path": "eBay_Overview.ipynb",
   "output_path": "eBay_Overview.ipynb",
   "parameters": {},
   "start_time": "2021-08-18T15:30:05.176388",
   "version": "2.3.3"
  }
 },
 "nbformat": 4,
 "nbformat_minor": 5
}