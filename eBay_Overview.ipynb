{
 "cells": [
  {
   "cell_type": "code",
   "execution_count": 1,
   "id": "reverse-picking",
   "metadata": {
    "execution": {
     "iopub.execute_input": "2021-11-17T10:00:07.856953Z",
     "iopub.status.busy": "2021-11-17T10:00:07.850988Z",
     "iopub.status.idle": "2021-11-17T10:00:08.824921Z",
     "shell.execute_reply": "2021-11-17T10:00:08.826367Z"
    },
    "papermill": {
     "duration": 1.018658,
     "end_time": "2021-11-17T10:00:08.827070",
     "exception": false,
     "start_time": "2021-11-17T10:00:07.808412",
     "status": "completed"
    },
    "tags": []
   },
   "outputs": [],
   "source": [
    "import pandas as pd\n",
    "import sqlite3"
   ]
  },
  {
   "cell_type": "code",
   "execution_count": 2,
   "id": "innovative-syndrome",
   "metadata": {
    "execution": {
     "iopub.execute_input": "2021-11-17T10:00:08.878493Z",
     "iopub.status.busy": "2021-11-17T10:00:08.876257Z",
     "iopub.status.idle": "2021-11-17T10:00:09.729028Z",
     "shell.execute_reply": "2021-11-17T10:00:09.731316Z"
    },
    "papermill": {
     "duration": 0.884836,
     "end_time": "2021-11-17T10:00:09.731876",
     "exception": false,
     "start_time": "2021-11-17T10:00:08.847040",
     "status": "completed"
    },
    "tags": []
   },
   "outputs": [],
   "source": [
    "timestamps = pd.read_sql(\"select distinct record_time from EBAY_TOP_BERLIN order by record_time desc limit 2\", sqlite3.connect(\"UsedObjects.db\"))"
   ]
  },
  {
   "cell_type": "code",
   "execution_count": 3,
   "id": "periodic-identification",
   "metadata": {
    "execution": {
     "iopub.execute_input": "2021-11-17T10:00:09.804533Z",
     "iopub.status.busy": "2021-11-17T10:00:09.802234Z",
     "iopub.status.idle": "2021-11-17T10:00:09.826118Z",
     "shell.execute_reply": "2021-11-17T10:00:09.827588Z"
    },
    "papermill": {
     "duration": 0.075806,
     "end_time": "2021-11-17T10:00:09.828083",
     "exception": false,
     "start_time": "2021-11-17T10:00:09.752277",
     "status": "completed"
    },
    "tags": []
   },
   "outputs": [
    {
     "data": {
      "text/html": [
       "<div>\n",
       "<style scoped>\n",
       "    .dataframe tbody tr th:only-of-type {\n",
       "        vertical-align: middle;\n",
       "    }\n",
       "\n",
       "    .dataframe tbody tr th {\n",
       "        vertical-align: top;\n",
       "    }\n",
       "\n",
       "    .dataframe thead th {\n",
       "        text-align: right;\n",
       "    }\n",
       "</style>\n",
       "<table border=\"1\" class=\"dataframe\">\n",
       "  <thead>\n",
       "    <tr style=\"text-align: right;\">\n",
       "      <th></th>\n",
       "      <th>RECORD_TIME</th>\n",
       "    </tr>\n",
       "  </thead>\n",
       "  <tbody>\n",
       "    <tr>\n",
       "      <th>0</th>\n",
       "      <td>2021-11-17 11:00</td>\n",
       "    </tr>\n",
       "    <tr>\n",
       "      <th>1</th>\n",
       "      <td>2021-11-17 10:30</td>\n",
       "    </tr>\n",
       "  </tbody>\n",
       "</table>\n",
       "</div>"
      ],
      "text/plain": [
       "        RECORD_TIME\n",
       "0  2021-11-17 11:00\n",
       "1  2021-11-17 10:30"
      ]
     },
     "execution_count": 3,
     "metadata": {},
     "output_type": "execute_result"
    }
   ],
   "source": [
    "timestamps"
   ]
  },
  {
   "cell_type": "code",
   "execution_count": 4,
   "id": "alternate-victory",
   "metadata": {
    "execution": {
     "iopub.execute_input": "2021-11-17T10:00:09.883692Z",
     "iopub.status.busy": "2021-11-17T10:00:09.881513Z",
     "iopub.status.idle": "2021-11-17T10:00:11.082434Z",
     "shell.execute_reply": "2021-11-17T10:00:11.083855Z"
    },
    "papermill": {
     "duration": 1.234836,
     "end_time": "2021-11-17T10:00:11.084349",
     "exception": false,
     "start_time": "2021-11-17T10:00:09.849513",
     "status": "completed"
    },
    "tags": []
   },
   "outputs": [],
   "source": [
    "df = pd.read_sql(\"select * from EBAY_TOP_BERLIN where record_time in (select distinct record_time from EBAY_TOP_BERLIN order by record_time desc limit 2)\", sqlite3.connect(\"UsedObjects.db\"))"
   ]
  },
  {
   "cell_type": "code",
   "execution_count": 5,
   "id": "popular-active",
   "metadata": {
    "execution": {
     "iopub.execute_input": "2021-11-17T10:00:11.142516Z",
     "iopub.status.busy": "2021-11-17T10:00:11.140080Z",
     "iopub.status.idle": "2021-11-17T10:00:11.178890Z",
     "shell.execute_reply": "2021-11-17T10:00:11.180182Z"
    },
    "papermill": {
     "duration": 0.075513,
     "end_time": "2021-11-17T10:00:11.180600",
     "exception": false,
     "start_time": "2021-11-17T10:00:11.105087",
     "status": "completed"
    },
    "tags": []
   },
   "outputs": [],
   "source": [
    "df_pivot = df.pivot_table(index=\"PRODUCT\", columns = \"RECORD_TIME\", values = \"LISTING_COUNT\")"
   ]
  },
  {
   "cell_type": "code",
   "execution_count": 6,
   "id": "union-huntington",
   "metadata": {
    "execution": {
     "iopub.execute_input": "2021-11-17T10:00:11.238331Z",
     "iopub.status.busy": "2021-11-17T10:00:11.236104Z",
     "iopub.status.idle": "2021-11-17T10:00:11.241569Z",
     "shell.execute_reply": "2021-11-17T10:00:11.242864Z"
    },
    "papermill": {
     "duration": 0.040731,
     "end_time": "2021-11-17T10:00:11.243327",
     "exception": false,
     "start_time": "2021-11-17T10:00:11.202596",
     "status": "completed"
    },
    "tags": []
   },
   "outputs": [],
   "source": [
    "df_pivot.columns = [\"stamp_1\", \"stamp_2\"]\n",
    "df_pivot_diff = df_pivot.diff(axis=1)"
   ]
  },
  {
   "cell_type": "code",
   "execution_count": 7,
   "id": "fifth-motion",
   "metadata": {
    "execution": {
     "iopub.execute_input": "2021-11-17T10:00:11.300460Z",
     "iopub.status.busy": "2021-11-17T10:00:11.297807Z",
     "iopub.status.idle": "2021-11-17T10:00:13.033256Z",
     "shell.execute_reply": "2021-11-17T10:00:13.034618Z"
    },
    "papermill": {
     "duration": 1.769364,
     "end_time": "2021-11-17T10:00:13.035099",
     "exception": false,
     "start_time": "2021-11-17T10:00:11.265735",
     "status": "completed"
    },
    "tags": []
   },
   "outputs": [
    {
     "data": {
      "text/plain": [
       "<AxesSubplot:ylabel='PRODUCT'>"
      ]
     },
     "execution_count": 7,
     "metadata": {},
     "output_type": "execute_result"
    },
    {
     "data": {
      "image/png": "[encoded data removed]",
      "text/plain": [
       "<Figure size 432x288 with 1 Axes>"
      ]
     },
     "metadata": {
      "needs_background": "light"
     },
     "output_type": "display_data"
    }
   ],
   "source": [
    "df_pivot_diff.sort_values(\"stamp_2\", ascending = False)[\"stamp_2\"].head(10).plot.barh()"
   ]
  },
  {
   "cell_type": "code",
   "execution_count": null,
   "id": "extra-executive",
   "metadata": {
    "papermill": {
     "duration": 0.024519,
     "end_time": "2021-11-17T10:00:13.084742",
     "exception": false,
     "start_time": "2021-11-17T10:00:13.060223",
     "status": "completed"
    },
    "tags": []
   },
   "outputs": [],
   "source": []
  }
 ],
 "metadata": {
  "kernelspec": {
   "display_name": "Python 3",
   "language": "python",
   "name": "python3"
  },
  "language_info": {
   "codemirror_mode": {
    "name": "ipython",
    "version": 3
   },
   "file_extension": ".py",
   "mimetype": "text/x-python",
   "name": "python",
   "nbconvert_exporter": "python",
   "pygments_lexer": "ipython3",
   "version": "3.9.5"
  },
  "papermill": {
   "default_parameters": {},
   "duration": 8.757898,
   "end_time": "2021-11-17T10:00:13.829901",
   "environment_variables": {},
   "exception": null,
   "input_path": "eBay_Overview.ipynb",
   "output_path": "eBay_Overview.ipynb",
   "parameters": {},
   "start_time": "2021-11-17T10:00:05.072003",
   "version": "2.3.3"
  }
 },
 "nbformat": 4,
 "nbformat_minor": 5
}