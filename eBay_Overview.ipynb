{
 "cells": [
  {
   "cell_type": "code",
   "execution_count": 1,
   "id": "reverse-picking",
   "metadata": {
    "execution": {
     "iopub.execute_input": "2021-12-15T06:00:07.814760Z",
     "iopub.status.busy": "2021-12-15T06:00:07.802541Z",
     "iopub.status.idle": "2021-12-15T06:00:08.761502Z",
     "shell.execute_reply": "2021-12-15T06:00:08.762898Z"
    },
    "papermill": {
     "duration": 0.999007,
     "end_time": "2021-12-15T06:00:08.763678",
     "exception": false,
     "start_time": "2021-12-15T06:00:07.764671",
     "status": "completed"
    },
    "tags": []
   },
   "outputs": [],
   "source": [
    "import pandas as pd\n",
    "import sqlite3"
   ]
  },
  {
   "cell_type": "code",
   "execution_count": 2,
   "id": "innovative-syndrome",
   "metadata": {
    "execution": {
     "iopub.execute_input": "2021-12-15T06:00:08.830988Z",
     "iopub.status.busy": "2021-12-15T06:00:08.827572Z",
     "iopub.status.idle": "2021-12-15T06:00:09.959993Z",
     "shell.execute_reply": "2021-12-15T06:00:09.961387Z"
    },
    "papermill": {
     "duration": 1.168344,
     "end_time": "2021-12-15T06:00:09.961825",
     "exception": false,
     "start_time": "2021-12-15T06:00:08.793481",
     "status": "completed"
    },
    "tags": []
   },
   "outputs": [],
   "source": [
    "timestamps = pd.read_sql(\"select distinct record_time from EBAY_TOP_BERLIN order by record_time desc limit 2\", sqlite3.connect(\"UsedObjects.db\"))"
   ]
  },
  {
   "cell_type": "code",
   "execution_count": 3,
   "id": "periodic-identification",
   "metadata": {
    "execution": {
     "iopub.execute_input": "2021-12-15T06:00:10.025841Z",
     "iopub.status.busy": "2021-12-15T06:00:10.023755Z",
     "iopub.status.idle": "2021-12-15T06:00:10.047561Z",
     "shell.execute_reply": "2021-12-15T06:00:10.046046Z"
    },
    "papermill": {
     "duration": 0.067541,
     "end_time": "2021-12-15T06:00:10.047935",
     "exception": false,
     "start_time": "2021-12-15T06:00:09.980394",
     "status": "completed"
    },
    "tags": []
   },
   "outputs": [
    {
     "data": {
      "text/html": [
       "<div>\n",
       "<style scoped>\n",
       "    .dataframe tbody tr th:only-of-type {\n",
       "        vertical-align: middle;\n",
       "    }\n",
       "\n",
       "    .dataframe tbody tr th {\n",
       "        vertical-align: top;\n",
       "    }\n",
       "\n",
       "    .dataframe thead th {\n",
       "        text-align: right;\n",
       "    }\n",
       "</style>\n",
       "<table border=\"1\" class=\"dataframe\">\n",
       "  <thead>\n",
       "    <tr style=\"text-align: right;\">\n",
       "      <th></th>\n",
       "      <th>RECORD_TIME</th>\n",
       "    </tr>\n",
       "  </thead>\n",
       "  <tbody>\n",
       "    <tr>\n",
       "      <th>0</th>\n",
       "      <td>2021-12-15 07:00</td>\n",
       "    </tr>\n",
       "    <tr>\n",
       "      <th>1</th>\n",
       "      <td>2021-12-15 06:30</td>\n",
       "    </tr>\n",
       "  </tbody>\n",
       "</table>\n",
       "</div>"
      ],
      "text/plain": [
       "        RECORD_TIME\n",
       "0  2021-12-15 07:00\n",
       "1  2021-12-15 06:30"
      ]
     },
     "execution_count": 3,
     "metadata": {},
     "output_type": "execute_result"
    }
   ],
   "source": [
    "timestamps"
   ]
  },
  {
   "cell_type": "code",
   "execution_count": 4,
   "id": "alternate-victory",
   "metadata": {
    "execution": {
     "iopub.execute_input": "2021-12-15T06:00:10.099498Z",
     "iopub.status.busy": "2021-12-15T06:00:10.097474Z",
     "iopub.status.idle": "2021-12-15T06:00:11.730115Z",
     "shell.execute_reply": "2021-12-15T06:00:11.731562Z"
    },
    "papermill": {
     "duration": 1.663338,
     "end_time": "2021-12-15T06:00:11.732015",
     "exception": false,
     "start_time": "2021-12-15T06:00:10.068677",
     "status": "completed"
    },
    "tags": []
   },
   "outputs": [],
   "source": [
    "df = pd.read_sql(\"select * from EBAY_TOP_BERLIN where record_time in (select distinct record_time from EBAY_TOP_BERLIN order by record_time desc limit 2)\", sqlite3.connect(\"UsedObjects.db\"))"
   ]
  },
  {
   "cell_type": "code",
   "execution_count": 5,
   "id": "popular-active",
   "metadata": {
    "execution": {
     "iopub.execute_input": "2021-12-15T06:00:11.798481Z",
     "iopub.status.busy": "2021-12-15T06:00:11.795954Z",
     "iopub.status.idle": "2021-12-15T06:00:11.831822Z",
     "shell.execute_reply": "2021-12-15T06:00:11.833308Z"
    },
    "papermill": {
     "duration": 0.07926,
     "end_time": "2021-12-15T06:00:11.833783",
     "exception": false,
     "start_time": "2021-12-15T06:00:11.754523",
     "status": "completed"
    },
    "tags": []
   },
   "outputs": [],
   "source": [
    "df_pivot = df.pivot_table(index=\"PRODUCT\", columns = \"RECORD_TIME\", values = \"LISTING_COUNT\")"
   ]
  },
  {
   "cell_type": "code",
   "execution_count": 6,
   "id": "union-huntington",
   "metadata": {
    "execution": {
     "iopub.execute_input": "2021-12-15T06:00:11.892314Z",
     "iopub.status.busy": "2021-12-15T06:00:11.890117Z",
     "iopub.status.idle": "2021-12-15T06:00:11.897494Z",
     "shell.execute_reply": "2021-12-15T06:00:11.895949Z"
    },
    "papermill": {
     "duration": 0.044033,
     "end_time": "2021-12-15T06:00:11.897910",
     "exception": false,
     "start_time": "2021-12-15T06:00:11.853877",
     "status": "completed"
    },
    "tags": []
   },
   "outputs": [],
   "source": [
    "df_pivot.columns = [\"stamp_1\", \"stamp_2\"]\n",
    "df_pivot_diff = df_pivot.diff(axis=1)"
   ]
  },
  {
   "cell_type": "code",
   "execution_count": 7,
   "id": "fifth-motion",
   "metadata": {
    "execution": {
     "iopub.execute_input": "2021-12-15T06:00:11.956557Z",
     "iopub.status.busy": "2021-12-15T06:00:11.954180Z",
     "iopub.status.idle": "2021-12-15T06:00:13.934818Z",
     "shell.execute_reply": "2021-12-15T06:00:13.936373Z"
    },
    "papermill": {
     "duration": 2.017958,
     "end_time": "2021-12-15T06:00:13.936915",
     "exception": false,
     "start_time": "2021-12-15T06:00:11.918957",
     "status": "completed"
    },
    "tags": []
   },
   "outputs": [
    {
     "data": {
      "text/plain": [
       "<AxesSubplot:ylabel='PRODUCT'>"
      ]
     },
     "execution_count": 7,
     "metadata": {},
     "output_type": "execute_result"
    },
    {
     "data": {
      "image/png": "[encoded data removed]",
      "text/plain": [
       "<Figure size 432x288 with 1 Axes>"
      ]
     },
     "metadata": {
      "needs_background": "light"
     },
     "output_type": "display_data"
    }
   ],
   "source": [
    "df_pivot_diff.sort_values(\"stamp_2\", ascending = False)[\"stamp_2\"].head(10).plot.barh()"
   ]
  },
  {
   "cell_type": "code",
   "execution_count": null,
   "id": "extra-executive",
   "metadata": {
    "papermill": {
     "duration": 0.022204,
     "end_time": "2021-12-15T06:00:13.984996",
     "exception": false,
     "start_time": "2021-12-15T06:00:13.962792",
     "status": "completed"
    },
    "tags": []
   },
   "outputs": [],
   "source": []
  }
 ],
 "metadata": {
  "kernelspec": {
   "display_name": "Python 3",
   "language": "python",
   "name": "python3"
  },
  "language_info": {
   "codemirror_mode": {
    "name": "ipython",
    "version": 3
   },
   "file_extension": ".py",
   "mimetype": "text/x-python",
   "name": "python",
   "nbconvert_exporter": "python",
   "pygments_lexer": "ipython3",
   "version": "3.9.5"
  },
  "papermill": {
   "default_parameters": {},
   "duration": 9.565936,
   "end_time": "2021-12-15T06:00:14.628472",
   "environment_variables": {},
   "exception": null,
   "input_path": "eBay_Overview.ipynb",
   "output_path": "eBay_Overview.ipynb",
   "parameters": {},
   "start_time": "2021-12-15T06:00:05.062536",
   "version": "2.3.3"
  }
 },
 "nbformat": 4,
 "nbformat_minor": 5
}