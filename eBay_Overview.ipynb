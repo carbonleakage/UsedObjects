{
 "cells": [
  {
   "cell_type": "code",
   "execution_count": 1,
   "id": "reverse-picking",
   "metadata": {
    "execution": {
     "iopub.execute_input": "2021-11-29T08:30:08.740026Z",
     "iopub.status.busy": "2021-11-29T08:30:08.737722Z",
     "iopub.status.idle": "2021-11-29T08:30:09.703502Z",
     "shell.execute_reply": "2021-11-29T08:30:09.705126Z"
    },
    "papermill": {
     "duration": 1.016732,
     "end_time": "2021-11-29T08:30:09.705942",
     "exception": false,
     "start_time": "2021-11-29T08:30:08.689210",
     "status": "completed"
    },
    "tags": []
   },
   "outputs": [],
   "source": [
    "import pandas as pd\n",
    "import sqlite3"
   ]
  },
  {
   "cell_type": "code",
   "execution_count": 2,
   "id": "innovative-syndrome",
   "metadata": {
    "execution": {
     "iopub.execute_input": "2021-11-29T08:30:09.761471Z",
     "iopub.status.busy": "2021-11-29T08:30:09.759125Z",
     "iopub.status.idle": "2021-11-29T08:30:10.676013Z",
     "shell.execute_reply": "2021-11-29T08:30:10.677613Z"
    },
    "papermill": {
     "duration": 0.950918,
     "end_time": "2021-11-29T08:30:10.678094",
     "exception": false,
     "start_time": "2021-11-29T08:30:09.727176",
     "status": "completed"
    },
    "tags": []
   },
   "outputs": [],
   "source": [
    "timestamps = pd.read_sql(\"select distinct record_time from EBAY_TOP_BERLIN order by record_time desc limit 2\", sqlite3.connect(\"UsedObjects.db\"))"
   ]
  },
  {
   "cell_type": "code",
   "execution_count": 3,
   "id": "periodic-identification",
   "metadata": {
    "execution": {
     "iopub.execute_input": "2021-11-29T08:30:10.758867Z",
     "iopub.status.busy": "2021-11-29T08:30:10.752234Z",
     "iopub.status.idle": "2021-11-29T08:30:10.775485Z",
     "shell.execute_reply": "2021-11-29T08:30:10.777023Z"
    },
    "papermill": {
     "duration": 0.073802,
     "end_time": "2021-11-29T08:30:10.777514",
     "exception": false,
     "start_time": "2021-11-29T08:30:10.703712",
     "status": "completed"
    },
    "tags": []
   },
   "outputs": [
    {
     "data": {
      "text/html": [
       "<div>\n",
       "<style scoped>\n",
       "    .dataframe tbody tr th:only-of-type {\n",
       "        vertical-align: middle;\n",
       "    }\n",
       "\n",
       "    .dataframe tbody tr th {\n",
       "        vertical-align: top;\n",
       "    }\n",
       "\n",
       "    .dataframe thead th {\n",
       "        text-align: right;\n",
       "    }\n",
       "</style>\n",
       "<table border=\"1\" class=\"dataframe\">\n",
       "  <thead>\n",
       "    <tr style=\"text-align: right;\">\n",
       "      <th></th>\n",
       "      <th>RECORD_TIME</th>\n",
       "    </tr>\n",
       "  </thead>\n",
       "  <tbody>\n",
       "    <tr>\n",
       "      <th>0</th>\n",
       "      <td>2021-11-29 09:30</td>\n",
       "    </tr>\n",
       "    <tr>\n",
       "      <th>1</th>\n",
       "      <td>2021-11-29 09:00</td>\n",
       "    </tr>\n",
       "  </tbody>\n",
       "</table>\n",
       "</div>"
      ],
      "text/plain": [
       "        RECORD_TIME\n",
       "0  2021-11-29 09:30\n",
       "1  2021-11-29 09:00"
      ]
     },
     "execution_count": 3,
     "metadata": {},
     "output_type": "execute_result"
    }
   ],
   "source": [
    "timestamps"
   ]
  },
  {
   "cell_type": "code",
   "execution_count": 4,
   "id": "alternate-victory",
   "metadata": {
    "execution": {
     "iopub.execute_input": "2021-11-29T08:30:10.833526Z",
     "iopub.status.busy": "2021-11-29T08:30:10.831148Z",
     "iopub.status.idle": "2021-11-29T08:30:12.169462Z",
     "shell.execute_reply": "2021-11-29T08:30:12.171571Z"
    },
    "papermill": {
     "duration": 1.373224,
     "end_time": "2021-11-29T08:30:12.172037",
     "exception": false,
     "start_time": "2021-11-29T08:30:10.798813",
     "status": "completed"
    },
    "tags": []
   },
   "outputs": [],
   "source": [
    "df = pd.read_sql(\"select * from EBAY_TOP_BERLIN where record_time in (select distinct record_time from EBAY_TOP_BERLIN order by record_time desc limit 2)\", sqlite3.connect(\"UsedObjects.db\"))"
   ]
  },
  {
   "cell_type": "code",
   "execution_count": 5,
   "id": "popular-active",
   "metadata": {
    "execution": {
     "iopub.execute_input": "2021-11-29T08:30:12.235604Z",
     "iopub.status.busy": "2021-11-29T08:30:12.233296Z",
     "iopub.status.idle": "2021-11-29T08:30:12.263834Z",
     "shell.execute_reply": "2021-11-29T08:30:12.265437Z"
    },
    "papermill": {
     "duration": 0.073467,
     "end_time": "2021-11-29T08:30:12.265928",
     "exception": false,
     "start_time": "2021-11-29T08:30:12.192461",
     "status": "completed"
    },
    "tags": []
   },
   "outputs": [],
   "source": [
    "df_pivot = df.pivot_table(index=\"PRODUCT\", columns = \"RECORD_TIME\", values = \"LISTING_COUNT\")"
   ]
  },
  {
   "cell_type": "code",
   "execution_count": 6,
   "id": "union-huntington",
   "metadata": {
    "execution": {
     "iopub.execute_input": "2021-11-29T08:30:12.326994Z",
     "iopub.status.busy": "2021-11-29T08:30:12.324722Z",
     "iopub.status.idle": "2021-11-29T08:30:12.332159Z",
     "shell.execute_reply": "2021-11-29T08:30:12.330597Z"
    },
    "papermill": {
     "duration": 0.044224,
     "end_time": "2021-11-29T08:30:12.332559",
     "exception": false,
     "start_time": "2021-11-29T08:30:12.288335",
     "status": "completed"
    },
    "tags": []
   },
   "outputs": [],
   "source": [
    "df_pivot.columns = [\"stamp_1\", \"stamp_2\"]\n",
    "df_pivot_diff = df_pivot.diff(axis=1)"
   ]
  },
  {
   "cell_type": "code",
   "execution_count": 7,
   "id": "fifth-motion",
   "metadata": {
    "execution": {
     "iopub.execute_input": "2021-11-29T08:30:12.388485Z",
     "iopub.status.busy": "2021-11-29T08:30:12.386023Z",
     "iopub.status.idle": "2021-11-29T08:30:14.413296Z",
     "shell.execute_reply": "2021-11-29T08:30:14.414691Z"
    },
    "papermill": {
     "duration": 2.062222,
     "end_time": "2021-11-29T08:30:14.415131",
     "exception": false,
     "start_time": "2021-11-29T08:30:12.352909",
     "status": "completed"
    },
    "tags": []
   },
   "outputs": [
    {
     "data": {
      "text/plain": [
       "<AxesSubplot:ylabel='PRODUCT'>"
      ]
     },
     "execution_count": 7,
     "metadata": {},
     "output_type": "execute_result"
    },
    {
     "data": {
      "image/png": "[encoded data removed]",
      "text/plain": [
       "<Figure size 432x288 with 1 Axes>"
      ]
     },
     "metadata": {
      "needs_background": "light"
     },
     "output_type": "display_data"
    }
   ],
   "source": [
    "df_pivot_diff.sort_values(\"stamp_2\", ascending = False)[\"stamp_2\"].head(10).plot.barh()"
   ]
  },
  {
   "cell_type": "code",
   "execution_count": null,
   "id": "extra-executive",
   "metadata": {
    "papermill": {
     "duration": 0.022203,
     "end_time": "2021-11-29T08:30:14.461827",
     "exception": false,
     "start_time": "2021-11-29T08:30:14.439624",
     "status": "completed"
    },
    "tags": []
   },
   "outputs": [],
   "source": []
  }
 ],
 "metadata": {
  "kernelspec": {
   "display_name": "Python 3",
   "language": "python",
   "name": "python3"
  },
  "language_info": {
   "codemirror_mode": {
    "name": "ipython",
    "version": 3
   },
   "file_extension": ".py",
   "mimetype": "text/x-python",
   "name": "python",
   "nbconvert_exporter": "python",
   "pygments_lexer": "ipython3",
   "version": "3.9.5"
  },
  "papermill": {
   "default_parameters": {},
   "duration": 9.948435,
   "end_time": "2021-11-29T08:30:15.888272",
   "environment_variables": {},
   "exception": null,
   "input_path": "eBay_Overview.ipynb",
   "output_path": "eBay_Overview.ipynb",
   "parameters": {},
   "start_time": "2021-11-29T08:30:05.939837",
   "version": "2.3.3"
  }
 },
 "nbformat": 4,
 "nbformat_minor": 5
}