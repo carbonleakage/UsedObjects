{
 "cells": [
  {
   "cell_type": "code",
   "execution_count": 1,
   "id": "reverse-picking",
   "metadata": {
    "execution": {
     "iopub.execute_input": "2021-08-25T03:30:07.416025Z",
     "iopub.status.busy": "2021-08-25T03:30:07.414079Z",
     "iopub.status.idle": "2021-08-25T03:30:08.220591Z",
     "shell.execute_reply": "2021-08-25T03:30:08.221824Z"
    },
    "papermill": {
     "duration": 0.85856,
     "end_time": "2021-08-25T03:30:08.222503",
     "exception": false,
     "start_time": "2021-08-25T03:30:07.363943",
     "status": "completed"
    },
    "tags": []
   },
   "outputs": [],
   "source": [
    "import pandas as pd\n",
    "import sqlite3"
   ]
  },
  {
   "cell_type": "code",
   "execution_count": 2,
   "id": "innovative-syndrome",
   "metadata": {
    "execution": {
     "iopub.execute_input": "2021-08-25T03:30:08.274453Z",
     "iopub.status.busy": "2021-08-25T03:30:08.272481Z",
     "iopub.status.idle": "2021-08-25T03:30:08.397320Z",
     "shell.execute_reply": "2021-08-25T03:30:08.398660Z"
    },
    "papermill": {
     "duration": 0.154337,
     "end_time": "2021-08-25T03:30:08.399085",
     "exception": false,
     "start_time": "2021-08-25T03:30:08.244748",
     "status": "completed"
    },
    "tags": []
   },
   "outputs": [],
   "source": [
    "timestamps = pd.read_sql(\"select distinct record_time from EBAY_TOP_BERLIN order by record_time desc limit 2\", sqlite3.connect(\"UsedObjects.db\"))"
   ]
  },
  {
   "cell_type": "code",
   "execution_count": 3,
   "id": "periodic-identification",
   "metadata": {
    "execution": {
     "iopub.execute_input": "2021-08-25T03:30:08.466632Z",
     "iopub.status.busy": "2021-08-25T03:30:08.461578Z",
     "iopub.status.idle": "2021-08-25T03:30:08.481383Z",
     "shell.execute_reply": "2021-08-25T03:30:08.482570Z"
    },
    "papermill": {
     "duration": 0.064502,
     "end_time": "2021-08-25T03:30:08.482988",
     "exception": false,
     "start_time": "2021-08-25T03:30:08.418486",
     "status": "completed"
    },
    "tags": []
   },
   "outputs": [
    {
     "data": {
      "text/html": [
       "<div>\n",
       "<style scoped>\n",
       "    .dataframe tbody tr th:only-of-type {\n",
       "        vertical-align: middle;\n",
       "    }\n",
       "\n",
       "    .dataframe tbody tr th {\n",
       "        vertical-align: top;\n",
       "    }\n",
       "\n",
       "    .dataframe thead th {\n",
       "        text-align: right;\n",
       "    }\n",
       "</style>\n",
       "<table border=\"1\" class=\"dataframe\">\n",
       "  <thead>\n",
       "    <tr style=\"text-align: right;\">\n",
       "      <th></th>\n",
       "      <th>RECORD_TIME</th>\n",
       "    </tr>\n",
       "  </thead>\n",
       "  <tbody>\n",
       "    <tr>\n",
       "      <th>0</th>\n",
       "      <td>2021-08-25 05:30</td>\n",
       "    </tr>\n",
       "    <tr>\n",
       "      <th>1</th>\n",
       "      <td>2021-08-25 05:00</td>\n",
       "    </tr>\n",
       "  </tbody>\n",
       "</table>\n",
       "</div>"
      ],
      "text/plain": [
       "        RECORD_TIME\n",
       "0  2021-08-25 05:30\n",
       "1  2021-08-25 05:00"
      ]
     },
     "execution_count": 3,
     "metadata": {},
     "output_type": "execute_result"
    }
   ],
   "source": [
    "timestamps"
   ]
  },
  {
   "cell_type": "code",
   "execution_count": 4,
   "id": "alternate-victory",
   "metadata": {
    "execution": {
     "iopub.execute_input": "2021-08-25T03:30:08.535475Z",
     "iopub.status.busy": "2021-08-25T03:30:08.533398Z",
     "iopub.status.idle": "2021-08-25T03:30:08.716756Z",
     "shell.execute_reply": "2021-08-25T03:30:08.718119Z"
    },
    "papermill": {
     "duration": 0.213376,
     "end_time": "2021-08-25T03:30:08.718599",
     "exception": false,
     "start_time": "2021-08-25T03:30:08.505223",
     "status": "completed"
    },
    "tags": []
   },
   "outputs": [],
   "source": [
    "df = pd.read_sql(\"select * from EBAY_TOP_BERLIN where record_time in (select distinct record_time from EBAY_TOP_BERLIN order by record_time desc limit 2)\", sqlite3.connect(\"UsedObjects.db\"))"
   ]
  },
  {
   "cell_type": "code",
   "execution_count": 5,
   "id": "popular-active",
   "metadata": {
    "execution": {
     "iopub.execute_input": "2021-08-25T03:30:08.789491Z",
     "iopub.status.busy": "2021-08-25T03:30:08.778269Z",
     "iopub.status.idle": "2021-08-25T03:30:08.805281Z",
     "shell.execute_reply": "2021-08-25T03:30:08.806709Z"
    },
    "papermill": {
     "duration": 0.067987,
     "end_time": "2021-08-25T03:30:08.807124",
     "exception": false,
     "start_time": "2021-08-25T03:30:08.739137",
     "status": "completed"
    },
    "tags": []
   },
   "outputs": [],
   "source": [
    "df_pivot = df.pivot_table(index=\"PRODUCT\", columns = \"RECORD_TIME\", values = \"LISTING_COUNT\")"
   ]
  },
  {
   "cell_type": "code",
   "execution_count": 6,
   "id": "union-huntington",
   "metadata": {
    "execution": {
     "iopub.execute_input": "2021-08-25T03:30:08.872011Z",
     "iopub.status.busy": "2021-08-25T03:30:08.869815Z",
     "iopub.status.idle": "2021-08-25T03:30:08.875704Z",
     "shell.execute_reply": "2021-08-25T03:30:08.877192Z"
    },
    "papermill": {
     "duration": 0.043815,
     "end_time": "2021-08-25T03:30:08.877640",
     "exception": false,
     "start_time": "2021-08-25T03:30:08.833825",
     "status": "completed"
    },
    "tags": []
   },
   "outputs": [],
   "source": [
    "df_pivot.columns = [\"stamp_1\", \"stamp_2\"]\n",
    "df_pivot_diff = df_pivot.diff(axis=1)"
   ]
  },
  {
   "cell_type": "code",
   "execution_count": 7,
   "id": "fifth-motion",
   "metadata": {
    "execution": {
     "iopub.execute_input": "2021-08-25T03:30:08.932245Z",
     "iopub.status.busy": "2021-08-25T03:30:08.929776Z",
     "iopub.status.idle": "2021-08-25T03:30:10.395896Z",
     "shell.execute_reply": "2021-08-25T03:30:10.397255Z"
    },
    "papermill": {
     "duration": 1.499508,
     "end_time": "2021-08-25T03:30:10.397693",
     "exception": false,
     "start_time": "2021-08-25T03:30:08.898185",
     "status": "completed"
    },
    "tags": []
   },
   "outputs": [
    {
     "data": {
      "text/plain": [
       "<AxesSubplot:ylabel='PRODUCT'>"
      ]
     },
     "execution_count": 7,
     "metadata": {},
     "output_type": "execute_result"
    },
    {
     "data": {
      "image/png": "[encoded data removed]",
      "text/plain": [
       "<Figure size 432x288 with 1 Axes>"
      ]
     },
     "metadata": {
      "needs_background": "light"
     },
     "output_type": "display_data"
    }
   ],
   "source": [
    "df_pivot_diff.sort_values(\"stamp_2\", ascending = False)[\"stamp_2\"].head(10).plot.barh()"
   ]
  },
  {
   "cell_type": "code",
   "execution_count": null,
   "id": "extra-executive",
   "metadata": {
    "papermill": {
     "duration": 0.021973,
     "end_time": "2021-08-25T03:30:10.443402",
     "exception": false,
     "start_time": "2021-08-25T03:30:10.421429",
     "status": "completed"
    },
    "tags": []
   },
   "outputs": [],
   "source": []
  }
 ],
 "metadata": {
  "kernelspec": {
   "display_name": "Python 3",
   "language": "python",
   "name": "python3"
  },
  "language_info": {
   "codemirror_mode": {
    "name": "ipython",
    "version": 3
   },
   "file_extension": ".py",
   "mimetype": "text/x-python",
   "name": "python",
   "nbconvert_exporter": "python",
   "pygments_lexer": "ipython3",
   "version": "3.9.5"
  },
  "papermill": {
   "default_parameters": {},
   "duration": 6.825137,
   "end_time": "2021-08-25T03:30:11.772472",
   "environment_variables": {},
   "exception": null,
   "input_path": "eBay_Overview.ipynb",
   "output_path": "eBay_Overview.ipynb",
   "parameters": {},
   "start_time": "2021-08-25T03:30:04.947335",
   "version": "2.3.3"
  }
 },
 "nbformat": 4,
 "nbformat_minor": 5
}