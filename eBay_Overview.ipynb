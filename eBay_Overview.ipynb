{
 "cells": [
  {
   "cell_type": "code",
   "execution_count": 1,
   "id": "reverse-picking",
   "metadata": {
    "execution": {
     "iopub.execute_input": "2021-12-17T18:30:07.510405Z",
     "iopub.status.busy": "2021-12-17T18:30:07.507994Z",
     "iopub.status.idle": "2021-12-17T18:30:08.464134Z",
     "shell.execute_reply": "2021-12-17T18:30:08.465818Z"
    },
    "papermill": {
     "duration": 1.005444,
     "end_time": "2021-12-17T18:30:08.466591",
     "exception": false,
     "start_time": "2021-12-17T18:30:07.461147",
     "status": "completed"
    },
    "tags": []
   },
   "outputs": [],
   "source": [
    "import pandas as pd\n",
    "import sqlite3"
   ]
  },
  {
   "cell_type": "code",
   "execution_count": 2,
   "id": "innovative-syndrome",
   "metadata": {
    "execution": {
     "iopub.execute_input": "2021-12-17T18:30:08.529526Z",
     "iopub.status.busy": "2021-12-17T18:30:08.526517Z",
     "iopub.status.idle": "2021-12-17T18:30:09.621039Z",
     "shell.execute_reply": "2021-12-17T18:30:09.622553Z"
    },
    "papermill": {
     "duration": 1.128684,
     "end_time": "2021-12-17T18:30:09.623006",
     "exception": false,
     "start_time": "2021-12-17T18:30:08.494322",
     "status": "completed"
    },
    "tags": []
   },
   "outputs": [],
   "source": [
    "timestamps = pd.read_sql(\"select distinct record_time from EBAY_TOP_BERLIN order by record_time desc limit 2\", sqlite3.connect(\"UsedObjects.db\"))"
   ]
  },
  {
   "cell_type": "code",
   "execution_count": 3,
   "id": "periodic-identification",
   "metadata": {
    "execution": {
     "iopub.execute_input": "2021-12-17T18:30:09.693997Z",
     "iopub.status.busy": "2021-12-17T18:30:09.691606Z",
     "iopub.status.idle": "2021-12-17T18:30:09.713717Z",
     "shell.execute_reply": "2021-12-17T18:30:09.715089Z"
    },
    "papermill": {
     "duration": 0.072324,
     "end_time": "2021-12-17T18:30:09.715563",
     "exception": false,
     "start_time": "2021-12-17T18:30:09.643239",
     "status": "completed"
    },
    "tags": []
   },
   "outputs": [
    {
     "data": {
      "text/html": [
       "<div>\n",
       "<style scoped>\n",
       "    .dataframe tbody tr th:only-of-type {\n",
       "        vertical-align: middle;\n",
       "    }\n",
       "\n",
       "    .dataframe tbody tr th {\n",
       "        vertical-align: top;\n",
       "    }\n",
       "\n",
       "    .dataframe thead th {\n",
       "        text-align: right;\n",
       "    }\n",
       "</style>\n",
       "<table border=\"1\" class=\"dataframe\">\n",
       "  <thead>\n",
       "    <tr style=\"text-align: right;\">\n",
       "      <th></th>\n",
       "      <th>RECORD_TIME</th>\n",
       "    </tr>\n",
       "  </thead>\n",
       "  <tbody>\n",
       "    <tr>\n",
       "      <th>0</th>\n",
       "      <td>2021-12-17 19:30</td>\n",
       "    </tr>\n",
       "    <tr>\n",
       "      <th>1</th>\n",
       "      <td>2021-12-17 19:00</td>\n",
       "    </tr>\n",
       "  </tbody>\n",
       "</table>\n",
       "</div>"
      ],
      "text/plain": [
       "        RECORD_TIME\n",
       "0  2021-12-17 19:30\n",
       "1  2021-12-17 19:00"
      ]
     },
     "execution_count": 3,
     "metadata": {},
     "output_type": "execute_result"
    }
   ],
   "source": [
    "timestamps"
   ]
  },
  {
   "cell_type": "code",
   "execution_count": 4,
   "id": "alternate-victory",
   "metadata": {
    "execution": {
     "iopub.execute_input": "2021-12-17T18:30:09.771108Z",
     "iopub.status.busy": "2021-12-17T18:30:09.768831Z",
     "iopub.status.idle": "2021-12-17T18:30:11.356789Z",
     "shell.execute_reply": "2021-12-17T18:30:11.358846Z"
    },
    "papermill": {
     "duration": 1.623078,
     "end_time": "2021-12-17T18:30:11.359308",
     "exception": false,
     "start_time": "2021-12-17T18:30:09.736230",
     "status": "completed"
    },
    "tags": []
   },
   "outputs": [],
   "source": [
    "df = pd.read_sql(\"select * from EBAY_TOP_BERLIN where record_time in (select distinct record_time from EBAY_TOP_BERLIN order by record_time desc limit 2)\", sqlite3.connect(\"UsedObjects.db\"))"
   ]
  },
  {
   "cell_type": "code",
   "execution_count": 5,
   "id": "popular-active",
   "metadata": {
    "execution": {
     "iopub.execute_input": "2021-12-17T18:30:11.435366Z",
     "iopub.status.busy": "2021-12-17T18:30:11.420625Z",
     "iopub.status.idle": "2021-12-17T18:30:11.454520Z",
     "shell.execute_reply": "2021-12-17T18:30:11.456194Z"
    },
    "papermill": {
     "duration": 0.077156,
     "end_time": "2021-12-17T18:30:11.457051",
     "exception": false,
     "start_time": "2021-12-17T18:30:11.379895",
     "status": "completed"
    },
    "tags": []
   },
   "outputs": [],
   "source": [
    "df_pivot = df.pivot_table(index=\"PRODUCT\", columns = \"RECORD_TIME\", values = \"LISTING_COUNT\")"
   ]
  },
  {
   "cell_type": "code",
   "execution_count": 6,
   "id": "union-huntington",
   "metadata": {
    "execution": {
     "iopub.execute_input": "2021-12-17T18:30:11.519016Z",
     "iopub.status.busy": "2021-12-17T18:30:11.516775Z",
     "iopub.status.idle": "2021-12-17T18:30:11.522717Z",
     "shell.execute_reply": "2021-12-17T18:30:11.524044Z"
    },
    "papermill": {
     "duration": 0.04394,
     "end_time": "2021-12-17T18:30:11.524507",
     "exception": false,
     "start_time": "2021-12-17T18:30:11.480567",
     "status": "completed"
    },
    "tags": []
   },
   "outputs": [],
   "source": [
    "df_pivot.columns = [\"stamp_1\", \"stamp_2\"]\n",
    "df_pivot_diff = df_pivot.diff(axis=1)"
   ]
  },
  {
   "cell_type": "code",
   "execution_count": 7,
   "id": "fifth-motion",
   "metadata": {
    "execution": {
     "iopub.execute_input": "2021-12-17T18:30:11.581301Z",
     "iopub.status.busy": "2021-12-17T18:30:11.578736Z",
     "iopub.status.idle": "2021-12-17T18:30:13.566441Z",
     "shell.execute_reply": "2021-12-17T18:30:13.567727Z"
    },
    "papermill": {
     "duration": 2.023327,
     "end_time": "2021-12-17T18:30:13.568142",
     "exception": false,
     "start_time": "2021-12-17T18:30:11.544815",
     "status": "completed"
    },
    "tags": []
   },
   "outputs": [
    {
     "data": {
      "text/plain": [
       "<AxesSubplot:ylabel='PRODUCT'>"
      ]
     },
     "execution_count": 7,
     "metadata": {},
     "output_type": "execute_result"
    },
    {
     "data": {
      "image/png": "[encoded data removed]",
      "text/plain": [
       "<Figure size 432x288 with 1 Axes>"
      ]
     },
     "metadata": {
      "needs_background": "light"
     },
     "output_type": "display_data"
    }
   ],
   "source": [
    "df_pivot_diff.sort_values(\"stamp_2\", ascending = False)[\"stamp_2\"].head(10).plot.barh()"
   ]
  },
  {
   "cell_type": "code",
   "execution_count": null,
   "id": "extra-executive",
   "metadata": {
    "papermill": {
     "duration": 0.029287,
     "end_time": "2021-12-17T18:30:13.631972",
     "exception": false,
     "start_time": "2021-12-17T18:30:13.602685",
     "status": "completed"
    },
    "tags": []
   },
   "outputs": [],
   "source": []
  }
 ],
 "metadata": {
  "kernelspec": {
   "display_name": "Python 3",
   "language": "python",
   "name": "python3"
  },
  "language_info": {
   "codemirror_mode": {
    "name": "ipython",
    "version": 3
   },
   "file_extension": ".py",
   "mimetype": "text/x-python",
   "name": "python",
   "nbconvert_exporter": "python",
   "pygments_lexer": "ipython3",
   "version": "3.9.5"
  },
  "papermill": {
   "default_parameters": {},
   "duration": 9.543676,
   "end_time": "2021-12-17T18:30:14.275555",
   "environment_variables": {},
   "exception": null,
   "input_path": "eBay_Overview.ipynb",
   "output_path": "eBay_Overview.ipynb",
   "parameters": {},
   "start_time": "2021-12-17T18:30:04.731879",
   "version": "2.3.3"
  }
 },
 "nbformat": 4,
 "nbformat_minor": 5
}