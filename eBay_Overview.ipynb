{
 "cells": [
  {
   "cell_type": "code",
   "execution_count": 1,
   "id": "reverse-picking",
   "metadata": {
    "execution": {
     "iopub.execute_input": "2021-11-16T12:30:07.766999Z",
     "iopub.status.busy": "2021-11-16T12:30:07.764772Z",
     "iopub.status.idle": "2021-11-16T12:30:08.710055Z",
     "shell.execute_reply": "2021-11-16T12:30:08.712255Z"
    },
    "papermill": {
     "duration": 0.995777,
     "end_time": "2021-11-16T12:30:08.713042",
     "exception": false,
     "start_time": "2021-11-16T12:30:07.717265",
     "status": "completed"
    },
    "tags": []
   },
   "outputs": [],
   "source": [
    "import pandas as pd\n",
    "import sqlite3"
   ]
  },
  {
   "cell_type": "code",
   "execution_count": 2,
   "id": "innovative-syndrome",
   "metadata": {
    "execution": {
     "iopub.execute_input": "2021-11-16T12:30:08.786172Z",
     "iopub.status.busy": "2021-11-16T12:30:08.782301Z",
     "iopub.status.idle": "2021-11-16T12:30:09.626283Z",
     "shell.execute_reply": "2021-11-16T12:30:09.628392Z"
    },
    "papermill": {
     "duration": 0.888706,
     "end_time": "2021-11-16T12:30:09.628952",
     "exception": false,
     "start_time": "2021-11-16T12:30:08.740246",
     "status": "completed"
    },
    "tags": []
   },
   "outputs": [],
   "source": [
    "timestamps = pd.read_sql(\"select distinct record_time from EBAY_TOP_BERLIN order by record_time desc limit 2\", sqlite3.connect(\"UsedObjects.db\"))"
   ]
  },
  {
   "cell_type": "code",
   "execution_count": 3,
   "id": "periodic-identification",
   "metadata": {
    "execution": {
     "iopub.execute_input": "2021-11-16T12:30:09.700366Z",
     "iopub.status.busy": "2021-11-16T12:30:09.698347Z",
     "iopub.status.idle": "2021-11-16T12:30:09.718330Z",
     "shell.execute_reply": "2021-11-16T12:30:09.719553Z"
    },
    "papermill": {
     "duration": 0.070251,
     "end_time": "2021-11-16T12:30:09.719952",
     "exception": false,
     "start_time": "2021-11-16T12:30:09.649701",
     "status": "completed"
    },
    "tags": []
   },
   "outputs": [
    {
     "data": {
      "text/html": [
       "<div>\n",
       "<style scoped>\n",
       "    .dataframe tbody tr th:only-of-type {\n",
       "        vertical-align: middle;\n",
       "    }\n",
       "\n",
       "    .dataframe tbody tr th {\n",
       "        vertical-align: top;\n",
       "    }\n",
       "\n",
       "    .dataframe thead th {\n",
       "        text-align: right;\n",
       "    }\n",
       "</style>\n",
       "<table border=\"1\" class=\"dataframe\">\n",
       "  <thead>\n",
       "    <tr style=\"text-align: right;\">\n",
       "      <th></th>\n",
       "      <th>RECORD_TIME</th>\n",
       "    </tr>\n",
       "  </thead>\n",
       "  <tbody>\n",
       "    <tr>\n",
       "      <th>0</th>\n",
       "      <td>2021-11-16 13:30</td>\n",
       "    </tr>\n",
       "    <tr>\n",
       "      <th>1</th>\n",
       "      <td>2021-11-16 13:00</td>\n",
       "    </tr>\n",
       "  </tbody>\n",
       "</table>\n",
       "</div>"
      ],
      "text/plain": [
       "        RECORD_TIME\n",
       "0  2021-11-16 13:30\n",
       "1  2021-11-16 13:00"
      ]
     },
     "execution_count": 3,
     "metadata": {},
     "output_type": "execute_result"
    }
   ],
   "source": [
    "timestamps"
   ]
  },
  {
   "cell_type": "code",
   "execution_count": 4,
   "id": "alternate-victory",
   "metadata": {
    "execution": {
     "iopub.execute_input": "2021-11-16T12:30:09.772945Z",
     "iopub.status.busy": "2021-11-16T12:30:09.770614Z",
     "iopub.status.idle": "2021-11-16T12:30:10.974039Z",
     "shell.execute_reply": "2021-11-16T12:30:10.975492Z"
    },
    "papermill": {
     "duration": 1.234229,
     "end_time": "2021-11-16T12:30:10.976079",
     "exception": false,
     "start_time": "2021-11-16T12:30:09.741850",
     "status": "completed"
    },
    "tags": []
   },
   "outputs": [],
   "source": [
    "df = pd.read_sql(\"select * from EBAY_TOP_BERLIN where record_time in (select distinct record_time from EBAY_TOP_BERLIN order by record_time desc limit 2)\", sqlite3.connect(\"UsedObjects.db\"))"
   ]
  },
  {
   "cell_type": "code",
   "execution_count": 5,
   "id": "popular-active",
   "metadata": {
    "execution": {
     "iopub.execute_input": "2021-11-16T12:30:11.057552Z",
     "iopub.status.busy": "2021-11-16T12:30:11.054969Z",
     "iopub.status.idle": "2021-11-16T12:30:11.075831Z",
     "shell.execute_reply": "2021-11-16T12:30:11.077428Z"
    },
    "papermill": {
     "duration": 0.079206,
     "end_time": "2021-11-16T12:30:11.077916",
     "exception": false,
     "start_time": "2021-11-16T12:30:10.998710",
     "status": "completed"
    },
    "tags": []
   },
   "outputs": [],
   "source": [
    "df_pivot = df.pivot_table(index=\"PRODUCT\", columns = \"RECORD_TIME\", values = \"LISTING_COUNT\")"
   ]
  },
  {
   "cell_type": "code",
   "execution_count": 6,
   "id": "union-huntington",
   "metadata": {
    "execution": {
     "iopub.execute_input": "2021-11-16T12:30:11.138849Z",
     "iopub.status.busy": "2021-11-16T12:30:11.136585Z",
     "iopub.status.idle": "2021-11-16T12:30:11.141450Z",
     "shell.execute_reply": "2021-11-16T12:30:11.142918Z"
    },
    "papermill": {
     "duration": 0.043462,
     "end_time": "2021-11-16T12:30:11.143382",
     "exception": false,
     "start_time": "2021-11-16T12:30:11.099920",
     "status": "completed"
    },
    "tags": []
   },
   "outputs": [],
   "source": [
    "df_pivot.columns = [\"stamp_1\", \"stamp_2\"]\n",
    "df_pivot_diff = df_pivot.diff(axis=1)"
   ]
  },
  {
   "cell_type": "code",
   "execution_count": 7,
   "id": "fifth-motion",
   "metadata": {
    "execution": {
     "iopub.execute_input": "2021-11-16T12:30:11.199739Z",
     "iopub.status.busy": "2021-11-16T12:30:11.197311Z",
     "iopub.status.idle": "2021-11-16T12:30:13.163976Z",
     "shell.execute_reply": "2021-11-16T12:30:13.167068Z"
    },
    "papermill": {
     "duration": 2.004513,
     "end_time": "2021-11-16T12:30:13.168002",
     "exception": false,
     "start_time": "2021-11-16T12:30:11.163489",
     "status": "completed"
    },
    "tags": []
   },
   "outputs": [
    {
     "data": {
      "text/plain": [
       "<AxesSubplot:ylabel='PRODUCT'>"
      ]
     },
     "execution_count": 7,
     "metadata": {},
     "output_type": "execute_result"
    },
    {
     "data": {
      "image/png": "[encoded data removed]",
      "text/plain": [
       "<Figure size 432x288 with 1 Axes>"
      ]
     },
     "metadata": {
      "needs_background": "light"
     },
     "output_type": "display_data"
    }
   ],
   "source": [
    "df_pivot_diff.sort_values(\"stamp_2\", ascending = False)[\"stamp_2\"].head(10).plot.barh()"
   ]
  },
  {
   "cell_type": "code",
   "execution_count": null,
   "id": "extra-executive",
   "metadata": {
    "papermill": {
     "duration": 0.033424,
     "end_time": "2021-11-16T12:30:13.238261",
     "exception": false,
     "start_time": "2021-11-16T12:30:13.204837",
     "status": "completed"
    },
    "tags": []
   },
   "outputs": [],
   "source": []
  }
 ],
 "metadata": {
  "kernelspec": {
   "display_name": "Python 3",
   "language": "python",
   "name": "python3"
  },
  "language_info": {
   "codemirror_mode": {
    "name": "ipython",
    "version": 3
   },
   "file_extension": ".py",
   "mimetype": "text/x-python",
   "name": "python",
   "nbconvert_exporter": "python",
   "pygments_lexer": "ipython3",
   "version": "3.9.5"
  },
  "papermill": {
   "default_parameters": {},
   "duration": 9.930847,
   "end_time": "2021-11-16T12:30:14.928997",
   "environment_variables": {},
   "exception": null,
   "input_path": "eBay_Overview.ipynb",
   "output_path": "eBay_Overview.ipynb",
   "parameters": {},
   "start_time": "2021-11-16T12:30:04.998150",
   "version": "2.3.3"
  }
 },
 "nbformat": 4,
 "nbformat_minor": 5
}