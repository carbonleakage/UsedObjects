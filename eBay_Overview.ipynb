{
 "cells": [
  {
   "cell_type": "code",
   "execution_count": 1,
   "id": "reverse-picking",
   "metadata": {
    "execution": {
     "iopub.execute_input": "2021-10-29T17:00:06.752975Z",
     "iopub.status.busy": "2021-10-29T17:00:06.750951Z",
     "iopub.status.idle": "2021-10-29T17:00:07.555817Z",
     "shell.execute_reply": "2021-10-29T17:00:07.557229Z"
    },
    "papermill": {
     "duration": 0.857298,
     "end_time": "2021-10-29T17:00:07.557898",
     "exception": false,
     "start_time": "2021-10-29T17:00:06.700600",
     "status": "completed"
    },
    "tags": []
   },
   "outputs": [],
   "source": [
    "import pandas as pd\n",
    "import sqlite3"
   ]
  },
  {
   "cell_type": "code",
   "execution_count": 2,
   "id": "innovative-syndrome",
   "metadata": {
    "execution": {
     "iopub.execute_input": "2021-10-29T17:00:07.608864Z",
     "iopub.status.busy": "2021-10-29T17:00:07.606850Z",
     "iopub.status.idle": "2021-10-29T17:00:08.257759Z",
     "shell.execute_reply": "2021-10-29T17:00:08.259159Z"
    },
    "papermill": {
     "duration": 0.681283,
     "end_time": "2021-10-29T17:00:08.259603",
     "exception": false,
     "start_time": "2021-10-29T17:00:07.578320",
     "status": "completed"
    },
    "tags": []
   },
   "outputs": [],
   "source": [
    "timestamps = pd.read_sql(\"select distinct record_time from EBAY_TOP_BERLIN order by record_time desc limit 2\", sqlite3.connect(\"UsedObjects.db\"))"
   ]
  },
  {
   "cell_type": "code",
   "execution_count": 3,
   "id": "periodic-identification",
   "metadata": {
    "execution": {
     "iopub.execute_input": "2021-10-29T17:00:08.333411Z",
     "iopub.status.busy": "2021-10-29T17:00:08.331271Z",
     "iopub.status.idle": "2021-10-29T17:00:08.353379Z",
     "shell.execute_reply": "2021-10-29T17:00:08.351642Z"
    },
    "papermill": {
     "duration": 0.068861,
     "end_time": "2021-10-29T17:00:08.353807",
     "exception": false,
     "start_time": "2021-10-29T17:00:08.284946",
     "status": "completed"
    },
    "tags": []
   },
   "outputs": [
    {
     "data": {
      "text/html": [
       "<div>\n",
       "<style scoped>\n",
       "    .dataframe tbody tr th:only-of-type {\n",
       "        vertical-align: middle;\n",
       "    }\n",
       "\n",
       "    .dataframe tbody tr th {\n",
       "        vertical-align: top;\n",
       "    }\n",
       "\n",
       "    .dataframe thead th {\n",
       "        text-align: right;\n",
       "    }\n",
       "</style>\n",
       "<table border=\"1\" class=\"dataframe\">\n",
       "  <thead>\n",
       "    <tr style=\"text-align: right;\">\n",
       "      <th></th>\n",
       "      <th>RECORD_TIME</th>\n",
       "    </tr>\n",
       "  </thead>\n",
       "  <tbody>\n",
       "    <tr>\n",
       "      <th>0</th>\n",
       "      <td>2021-10-29 19:00</td>\n",
       "    </tr>\n",
       "    <tr>\n",
       "      <th>1</th>\n",
       "      <td>2021-10-29 18:30</td>\n",
       "    </tr>\n",
       "  </tbody>\n",
       "</table>\n",
       "</div>"
      ],
      "text/plain": [
       "        RECORD_TIME\n",
       "0  2021-10-29 19:00\n",
       "1  2021-10-29 18:30"
      ]
     },
     "execution_count": 3,
     "metadata": {},
     "output_type": "execute_result"
    }
   ],
   "source": [
    "timestamps"
   ]
  },
  {
   "cell_type": "code",
   "execution_count": 4,
   "id": "alternate-victory",
   "metadata": {
    "execution": {
     "iopub.execute_input": "2021-10-29T17:00:08.405775Z",
     "iopub.status.busy": "2021-10-29T17:00:08.403833Z",
     "iopub.status.idle": "2021-10-29T17:00:09.382012Z",
     "shell.execute_reply": "2021-10-29T17:00:09.383288Z"
    },
    "papermill": {
     "duration": 1.008104,
     "end_time": "2021-10-29T17:00:09.383690",
     "exception": false,
     "start_time": "2021-10-29T17:00:08.375586",
     "status": "completed"
    },
    "tags": []
   },
   "outputs": [],
   "source": [
    "df = pd.read_sql(\"select * from EBAY_TOP_BERLIN where record_time in (select distinct record_time from EBAY_TOP_BERLIN order by record_time desc limit 2)\", sqlite3.connect(\"UsedObjects.db\"))"
   ]
  },
  {
   "cell_type": "code",
   "execution_count": 5,
   "id": "popular-active",
   "metadata": {
    "execution": {
     "iopub.execute_input": "2021-10-29T17:00:09.453737Z",
     "iopub.status.busy": "2021-10-29T17:00:09.442251Z",
     "iopub.status.idle": "2021-10-29T17:00:09.469793Z",
     "shell.execute_reply": "2021-10-29T17:00:09.471113Z"
    },
    "papermill": {
     "duration": 0.067216,
     "end_time": "2021-10-29T17:00:09.471529",
     "exception": false,
     "start_time": "2021-10-29T17:00:09.404313",
     "status": "completed"
    },
    "tags": []
   },
   "outputs": [],
   "source": [
    "df_pivot = df.pivot_table(index=\"PRODUCT\", columns = \"RECORD_TIME\", values = \"LISTING_COUNT\")"
   ]
  },
  {
   "cell_type": "code",
   "execution_count": 6,
   "id": "union-huntington",
   "metadata": {
    "execution": {
     "iopub.execute_input": "2021-10-29T17:00:09.526912Z",
     "iopub.status.busy": "2021-10-29T17:00:09.524931Z",
     "iopub.status.idle": "2021-10-29T17:00:09.529971Z",
     "shell.execute_reply": "2021-10-29T17:00:09.531186Z"
    },
    "papermill": {
     "duration": 0.039794,
     "end_time": "2021-10-29T17:00:09.531587",
     "exception": false,
     "start_time": "2021-10-29T17:00:09.491793",
     "status": "completed"
    },
    "tags": []
   },
   "outputs": [],
   "source": [
    "df_pivot.columns = [\"stamp_1\", \"stamp_2\"]\n",
    "df_pivot_diff = df_pivot.diff(axis=1)"
   ]
  },
  {
   "cell_type": "code",
   "execution_count": 7,
   "id": "fifth-motion",
   "metadata": {
    "execution": {
     "iopub.execute_input": "2021-10-29T17:00:09.586133Z",
     "iopub.status.busy": "2021-10-29T17:00:09.583562Z",
     "iopub.status.idle": "2021-10-29T17:00:11.074182Z",
     "shell.execute_reply": "2021-10-29T17:00:11.075467Z"
    },
    "papermill": {
     "duration": 1.523885,
     "end_time": "2021-10-29T17:00:11.075923",
     "exception": false,
     "start_time": "2021-10-29T17:00:09.552038",
     "status": "completed"
    },
    "tags": []
   },
   "outputs": [
    {
     "data": {
      "text/plain": [
       "<AxesSubplot:ylabel='PRODUCT'>"
      ]
     },
     "execution_count": 7,
     "metadata": {},
     "output_type": "execute_result"
    },
    {
     "data": {
      "image/png": "[encoded data removed]",
      "text/plain": [
       "<Figure size 432x288 with 1 Axes>"
      ]
     },
     "metadata": {
      "needs_background": "light"
     },
     "output_type": "display_data"
    }
   ],
   "source": [
    "df_pivot_diff.sort_values(\"stamp_2\", ascending = False)[\"stamp_2\"].head(10).plot.barh()"
   ]
  },
  {
   "cell_type": "code",
   "execution_count": null,
   "id": "extra-executive",
   "metadata": {
    "papermill": {
     "duration": 0.022629,
     "end_time": "2021-10-29T17:00:11.122953",
     "exception": false,
     "start_time": "2021-10-29T17:00:11.100324",
     "status": "completed"
    },
    "tags": []
   },
   "outputs": [],
   "source": []
  }
 ],
 "metadata": {
  "kernelspec": {
   "display_name": "Python 3",
   "language": "python",
   "name": "python3"
  },
  "language_info": {
   "codemirror_mode": {
    "name": "ipython",
    "version": 3
   },
   "file_extension": ".py",
   "mimetype": "text/x-python",
   "name": "python",
   "nbconvert_exporter": "python",
   "pygments_lexer": "ipython3",
   "version": "3.9.5"
  },
  "papermill": {
   "default_parameters": {},
   "duration": 7.476254,
   "end_time": "2021-10-29T17:00:11.767785",
   "environment_variables": {},
   "exception": null,
   "input_path": "eBay_Overview.ipynb",
   "output_path": "eBay_Overview.ipynb",
   "parameters": {},
   "start_time": "2021-10-29T17:00:04.291531",
   "version": "2.3.3"
  }
 },
 "nbformat": 4,
 "nbformat_minor": 5
}