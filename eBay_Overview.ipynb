{
 "cells": [
  {
   "cell_type": "code",
   "execution_count": 1,
   "id": "reverse-picking",
   "metadata": {
    "execution": {
     "iopub.execute_input": "2021-09-05T04:00:06.868547Z",
     "iopub.status.busy": "2021-09-05T04:00:06.866472Z",
     "iopub.status.idle": "2021-09-05T04:00:07.672209Z",
     "shell.execute_reply": "2021-09-05T04:00:07.673490Z"
    },
    "papermill": {
     "duration": 0.856119,
     "end_time": "2021-09-05T04:00:07.674110",
     "exception": false,
     "start_time": "2021-09-05T04:00:06.817991",
     "status": "completed"
    },
    "tags": []
   },
   "outputs": [],
   "source": [
    "import pandas as pd\n",
    "import sqlite3"
   ]
  },
  {
   "cell_type": "code",
   "execution_count": 2,
   "id": "innovative-syndrome",
   "metadata": {
    "execution": {
     "iopub.execute_input": "2021-09-05T04:00:07.727908Z",
     "iopub.status.busy": "2021-09-05T04:00:07.725527Z",
     "iopub.status.idle": "2021-09-05T04:00:07.936794Z",
     "shell.execute_reply": "2021-09-05T04:00:07.937998Z"
    },
    "papermill": {
     "duration": 0.241205,
     "end_time": "2021-09-05T04:00:07.938393",
     "exception": false,
     "start_time": "2021-09-05T04:00:07.697188",
     "status": "completed"
    },
    "tags": []
   },
   "outputs": [],
   "source": [
    "timestamps = pd.read_sql(\"select distinct record_time from EBAY_TOP_BERLIN order by record_time desc limit 2\", sqlite3.connect(\"UsedObjects.db\"))"
   ]
  },
  {
   "cell_type": "code",
   "execution_count": 3,
   "id": "periodic-identification",
   "metadata": {
    "execution": {
     "iopub.execute_input": "2021-09-05T04:00:08.002746Z",
     "iopub.status.busy": "2021-09-05T04:00:08.000720Z",
     "iopub.status.idle": "2021-09-05T04:00:08.020391Z",
     "shell.execute_reply": "2021-09-05T04:00:08.021611Z"
    },
    "papermill": {
     "duration": 0.064443,
     "end_time": "2021-09-05T04:00:08.022010",
     "exception": false,
     "start_time": "2021-09-05T04:00:07.957567",
     "status": "completed"
    },
    "tags": []
   },
   "outputs": [
    {
     "data": {
      "text/html": [
       "<div>\n",
       "<style scoped>\n",
       "    .dataframe tbody tr th:only-of-type {\n",
       "        vertical-align: middle;\n",
       "    }\n",
       "\n",
       "    .dataframe tbody tr th {\n",
       "        vertical-align: top;\n",
       "    }\n",
       "\n",
       "    .dataframe thead th {\n",
       "        text-align: right;\n",
       "    }\n",
       "</style>\n",
       "<table border=\"1\" class=\"dataframe\">\n",
       "  <thead>\n",
       "    <tr style=\"text-align: right;\">\n",
       "      <th></th>\n",
       "      <th>RECORD_TIME</th>\n",
       "    </tr>\n",
       "  </thead>\n",
       "  <tbody>\n",
       "    <tr>\n",
       "      <th>0</th>\n",
       "      <td>2021-09-05 06:00</td>\n",
       "    </tr>\n",
       "    <tr>\n",
       "      <th>1</th>\n",
       "      <td>2021-09-05 05:30</td>\n",
       "    </tr>\n",
       "  </tbody>\n",
       "</table>\n",
       "</div>"
      ],
      "text/plain": [
       "        RECORD_TIME\n",
       "0  2021-09-05 06:00\n",
       "1  2021-09-05 05:30"
      ]
     },
     "execution_count": 3,
     "metadata": {},
     "output_type": "execute_result"
    }
   ],
   "source": [
    "timestamps"
   ]
  },
  {
   "cell_type": "code",
   "execution_count": 4,
   "id": "alternate-victory",
   "metadata": {
    "execution": {
     "iopub.execute_input": "2021-09-05T04:00:08.073821Z",
     "iopub.status.busy": "2021-09-05T04:00:08.071531Z",
     "iopub.status.idle": "2021-09-05T04:00:08.381054Z",
     "shell.execute_reply": "2021-09-05T04:00:08.382278Z"
    },
    "papermill": {
     "duration": 0.339631,
     "end_time": "2021-09-05T04:00:08.382673",
     "exception": false,
     "start_time": "2021-09-05T04:00:08.043042",
     "status": "completed"
    },
    "tags": []
   },
   "outputs": [],
   "source": [
    "df = pd.read_sql(\"select * from EBAY_TOP_BERLIN where record_time in (select distinct record_time from EBAY_TOP_BERLIN order by record_time desc limit 2)\", sqlite3.connect(\"UsedObjects.db\"))"
   ]
  },
  {
   "cell_type": "code",
   "execution_count": 5,
   "id": "popular-active",
   "metadata": {
    "execution": {
     "iopub.execute_input": "2021-09-05T04:00:08.462238Z",
     "iopub.status.busy": "2021-09-05T04:00:08.450083Z",
     "iopub.status.idle": "2021-09-05T04:00:08.477440Z",
     "shell.execute_reply": "2021-09-05T04:00:08.478741Z"
    },
    "papermill": {
     "duration": 0.070585,
     "end_time": "2021-09-05T04:00:08.479217",
     "exception": false,
     "start_time": "2021-09-05T04:00:08.408632",
     "status": "completed"
    },
    "tags": []
   },
   "outputs": [],
   "source": [
    "df_pivot = df.pivot_table(index=\"PRODUCT\", columns = \"RECORD_TIME\", values = \"LISTING_COUNT\")"
   ]
  },
  {
   "cell_type": "code",
   "execution_count": 6,
   "id": "union-huntington",
   "metadata": {
    "execution": {
     "iopub.execute_input": "2021-09-05T04:00:08.534971Z",
     "iopub.status.busy": "2021-09-05T04:00:08.532872Z",
     "iopub.status.idle": "2021-09-05T04:00:08.538130Z",
     "shell.execute_reply": "2021-09-05T04:00:08.539394Z"
    },
    "papermill": {
     "duration": 0.040586,
     "end_time": "2021-09-05T04:00:08.539831",
     "exception": false,
     "start_time": "2021-09-05T04:00:08.499245",
     "status": "completed"
    },
    "tags": []
   },
   "outputs": [],
   "source": [
    "df_pivot.columns = [\"stamp_1\", \"stamp_2\"]\n",
    "df_pivot_diff = df_pivot.diff(axis=1)"
   ]
  },
  {
   "cell_type": "code",
   "execution_count": 7,
   "id": "fifth-motion",
   "metadata": {
    "execution": {
     "iopub.execute_input": "2021-09-05T04:00:08.596545Z",
     "iopub.status.busy": "2021-09-05T04:00:08.593887Z",
     "iopub.status.idle": "2021-09-05T04:00:10.074256Z",
     "shell.execute_reply": "2021-09-05T04:00:10.075758Z"
    },
    "papermill": {
     "duration": 1.513618,
     "end_time": "2021-09-05T04:00:10.076211",
     "exception": false,
     "start_time": "2021-09-05T04:00:08.562593",
     "status": "completed"
    },
    "tags": []
   },
   "outputs": [
    {
     "data": {
      "text/plain": [
       "<AxesSubplot:ylabel='PRODUCT'>"
      ]
     },
     "execution_count": 7,
     "metadata": {},
     "output_type": "execute_result"
    },
    {
     "data": {
      "image/png": "[encoded data removed]",
      "text/plain": [
       "<Figure size 432x288 with 1 Axes>"
      ]
     },
     "metadata": {
      "needs_background": "light"
     },
     "output_type": "display_data"
    }
   ],
   "source": [
    "df_pivot_diff.sort_values(\"stamp_2\", ascending = False)[\"stamp_2\"].head(10).plot.barh()"
   ]
  },
  {
   "cell_type": "code",
   "execution_count": null,
   "id": "extra-executive",
   "metadata": {
    "papermill": {
     "duration": 0.021966,
     "end_time": "2021-09-05T04:00:10.121746",
     "exception": false,
     "start_time": "2021-09-05T04:00:10.099780",
     "status": "completed"
    },
    "tags": []
   },
   "outputs": [],
   "source": []
  }
 ],
 "metadata": {
  "kernelspec": {
   "display_name": "Python 3",
   "language": "python",
   "name": "python3"
  },
  "language_info": {
   "codemirror_mode": {
    "name": "ipython",
    "version": 3
   },
   "file_extension": ".py",
   "mimetype": "text/x-python",
   "name": "python",
   "nbconvert_exporter": "python",
   "pygments_lexer": "ipython3",
   "version": "3.9.5"
  },
  "papermill": {
   "default_parameters": {},
   "duration": 6.345022,
   "end_time": "2021-09-05T04:00:10.762049",
   "environment_variables": {},
   "exception": null,
   "input_path": "eBay_Overview.ipynb",
   "output_path": "eBay_Overview.ipynb",
   "parameters": {},
   "start_time": "2021-09-05T04:00:04.417027",
   "version": "2.3.3"
  }
 },
 "nbformat": 4,
 "nbformat_minor": 5
}