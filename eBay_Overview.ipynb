{
 "cells": [
  {
   "cell_type": "code",
   "execution_count": 1,
   "id": "reverse-picking",
   "metadata": {
    "execution": {
     "iopub.execute_input": "2021-11-22T21:00:07.594424Z",
     "iopub.status.busy": "2021-11-22T21:00:07.591749Z",
     "iopub.status.idle": "2021-11-22T21:00:08.551079Z",
     "shell.execute_reply": "2021-11-22T21:00:08.552602Z"
    },
    "papermill": {
     "duration": 1.013253,
     "end_time": "2021-11-22T21:00:08.553438",
     "exception": false,
     "start_time": "2021-11-22T21:00:07.540185",
     "status": "completed"
    },
    "tags": []
   },
   "outputs": [],
   "source": [
    "import pandas as pd\n",
    "import sqlite3"
   ]
  },
  {
   "cell_type": "code",
   "execution_count": 2,
   "id": "innovative-syndrome",
   "metadata": {
    "execution": {
     "iopub.execute_input": "2021-11-22T21:00:08.673971Z",
     "iopub.status.busy": "2021-11-22T21:00:08.671637Z",
     "iopub.status.idle": "2021-11-22T21:00:09.566514Z",
     "shell.execute_reply": "2021-11-22T21:00:09.567864Z"
    },
    "papermill": {
     "duration": 0.928845,
     "end_time": "2021-11-22T21:00:09.568333",
     "exception": false,
     "start_time": "2021-11-22T21:00:08.639488",
     "status": "completed"
    },
    "tags": []
   },
   "outputs": [],
   "source": [
    "timestamps = pd.read_sql(\"select distinct record_time from EBAY_TOP_BERLIN order by record_time desc limit 2\", sqlite3.connect(\"UsedObjects.db\"))"
   ]
  },
  {
   "cell_type": "code",
   "execution_count": 3,
   "id": "periodic-identification",
   "metadata": {
    "execution": {
     "iopub.execute_input": "2021-11-22T21:00:09.641530Z",
     "iopub.status.busy": "2021-11-22T21:00:09.639198Z",
     "iopub.status.idle": "2021-11-22T21:00:09.660337Z",
     "shell.execute_reply": "2021-11-22T21:00:09.661886Z"
    },
    "papermill": {
     "duration": 0.073971,
     "end_time": "2021-11-22T21:00:09.662322",
     "exception": false,
     "start_time": "2021-11-22T21:00:09.588351",
     "status": "completed"
    },
    "tags": []
   },
   "outputs": [
    {
     "data": {
      "text/html": [
       "<div>\n",
       "<style scoped>\n",
       "    .dataframe tbody tr th:only-of-type {\n",
       "        vertical-align: middle;\n",
       "    }\n",
       "\n",
       "    .dataframe tbody tr th {\n",
       "        vertical-align: top;\n",
       "    }\n",
       "\n",
       "    .dataframe thead th {\n",
       "        text-align: right;\n",
       "    }\n",
       "</style>\n",
       "<table border=\"1\" class=\"dataframe\">\n",
       "  <thead>\n",
       "    <tr style=\"text-align: right;\">\n",
       "      <th></th>\n",
       "      <th>RECORD_TIME</th>\n",
       "    </tr>\n",
       "  </thead>\n",
       "  <tbody>\n",
       "    <tr>\n",
       "      <th>0</th>\n",
       "      <td>2021-11-22 22:00</td>\n",
       "    </tr>\n",
       "    <tr>\n",
       "      <th>1</th>\n",
       "      <td>2021-11-22 21:30</td>\n",
       "    </tr>\n",
       "  </tbody>\n",
       "</table>\n",
       "</div>"
      ],
      "text/plain": [
       "        RECORD_TIME\n",
       "0  2021-11-22 22:00\n",
       "1  2021-11-22 21:30"
      ]
     },
     "execution_count": 3,
     "metadata": {},
     "output_type": "execute_result"
    }
   ],
   "source": [
    "timestamps"
   ]
  },
  {
   "cell_type": "code",
   "execution_count": 4,
   "id": "alternate-victory",
   "metadata": {
    "execution": {
     "iopub.execute_input": "2021-11-22T21:00:09.714301Z",
     "iopub.status.busy": "2021-11-22T21:00:09.711953Z",
     "iopub.status.idle": "2021-11-22T21:00:11.000434Z",
     "shell.execute_reply": "2021-11-22T21:00:11.002058Z"
    },
    "papermill": {
     "duration": 1.319367,
     "end_time": "2021-11-22T21:00:11.002554",
     "exception": false,
     "start_time": "2021-11-22T21:00:09.683187",
     "status": "completed"
    },
    "tags": []
   },
   "outputs": [],
   "source": [
    "df = pd.read_sql(\"select * from EBAY_TOP_BERLIN where record_time in (select distinct record_time from EBAY_TOP_BERLIN order by record_time desc limit 2)\", sqlite3.connect(\"UsedObjects.db\"))"
   ]
  },
  {
   "cell_type": "code",
   "execution_count": 5,
   "id": "popular-active",
   "metadata": {
    "execution": {
     "iopub.execute_input": "2021-11-22T21:00:11.077318Z",
     "iopub.status.busy": "2021-11-22T21:00:11.067248Z",
     "iopub.status.idle": "2021-11-22T21:00:11.101921Z",
     "shell.execute_reply": "2021-11-22T21:00:11.100373Z"
    },
    "papermill": {
     "duration": 0.078135,
     "end_time": "2021-11-22T21:00:11.102329",
     "exception": false,
     "start_time": "2021-11-22T21:00:11.024194",
     "status": "completed"
    },
    "tags": []
   },
   "outputs": [],
   "source": [
    "df_pivot = df.pivot_table(index=\"PRODUCT\", columns = \"RECORD_TIME\", values = \"LISTING_COUNT\")"
   ]
  },
  {
   "cell_type": "code",
   "execution_count": 6,
   "id": "union-huntington",
   "metadata": {
    "execution": {
     "iopub.execute_input": "2021-11-22T21:00:11.160229Z",
     "iopub.status.busy": "2021-11-22T21:00:11.158024Z",
     "iopub.status.idle": "2021-11-22T21:00:11.163659Z",
     "shell.execute_reply": "2021-11-22T21:00:11.165056Z"
    },
    "papermill": {
     "duration": 0.043466,
     "end_time": "2021-11-22T21:00:11.165518",
     "exception": false,
     "start_time": "2021-11-22T21:00:11.122052",
     "status": "completed"
    },
    "tags": []
   },
   "outputs": [],
   "source": [
    "df_pivot.columns = [\"stamp_1\", \"stamp_2\"]\n",
    "df_pivot_diff = df_pivot.diff(axis=1)"
   ]
  },
  {
   "cell_type": "code",
   "execution_count": 7,
   "id": "fifth-motion",
   "metadata": {
    "execution": {
     "iopub.execute_input": "2021-11-22T21:00:11.234704Z",
     "iopub.status.busy": "2021-11-22T21:00:11.224505Z",
     "iopub.status.idle": "2021-11-22T21:00:13.170323Z",
     "shell.execute_reply": "2021-11-22T21:00:13.173057Z"
    },
    "papermill": {
     "duration": 1.987198,
     "end_time": "2021-11-22T21:00:13.173913",
     "exception": false,
     "start_time": "2021-11-22T21:00:11.186715",
     "status": "completed"
    },
    "tags": []
   },
   "outputs": [
    {
     "data": {
      "text/plain": [
       "<AxesSubplot:ylabel='PRODUCT'>"
      ]
     },
     "execution_count": 7,
     "metadata": {},
     "output_type": "execute_result"
    },
    {
     "data": {
      "image/png": "[encoded data removed]",
      "text/plain": [
       "<Figure size 432x288 with 1 Axes>"
      ]
     },
     "metadata": {
      "needs_background": "light"
     },
     "output_type": "display_data"
    }
   ],
   "source": [
    "df_pivot_diff.sort_values(\"stamp_2\", ascending = False)[\"stamp_2\"].head(10).plot.barh()"
   ]
  },
  {
   "cell_type": "code",
   "execution_count": null,
   "id": "extra-executive",
   "metadata": {
    "papermill": {
     "duration": 0.031258,
     "end_time": "2021-11-22T21:00:13.241328",
     "exception": false,
     "start_time": "2021-11-22T21:00:13.210070",
     "status": "completed"
    },
    "tags": []
   },
   "outputs": [],
   "source": []
  }
 ],
 "metadata": {
  "kernelspec": {
   "display_name": "Python 3",
   "language": "python",
   "name": "python3"
  },
  "language_info": {
   "codemirror_mode": {
    "name": "ipython",
    "version": 3
   },
   "file_extension": ".py",
   "mimetype": "text/x-python",
   "name": "python",
   "nbconvert_exporter": "python",
   "pygments_lexer": "ipython3",
   "version": "3.9.5"
  },
  "papermill": {
   "default_parameters": {},
   "duration": 9.935997,
   "end_time": "2021-11-22T21:00:14.757834",
   "environment_variables": {},
   "exception": null,
   "input_path": "eBay_Overview.ipynb",
   "output_path": "eBay_Overview.ipynb",
   "parameters": {},
   "start_time": "2021-11-22T21:00:04.821837",
   "version": "2.3.3"
  }
 },
 "nbformat": 4,
 "nbformat_minor": 5
}