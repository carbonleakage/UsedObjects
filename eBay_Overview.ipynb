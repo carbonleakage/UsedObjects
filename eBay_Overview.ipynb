{
 "cells": [
  {
   "cell_type": "code",
   "execution_count": 1,
   "id": "reverse-picking",
   "metadata": {
    "execution": {
     "iopub.execute_input": "2021-09-07T02:00:06.757375Z",
     "iopub.status.busy": "2021-09-07T02:00:06.755400Z",
     "iopub.status.idle": "2021-09-07T02:00:07.567557Z",
     "shell.execute_reply": "2021-09-07T02:00:07.565768Z"
    },
    "papermill": {
     "duration": 0.861867,
     "end_time": "2021-09-07T02:00:07.567995",
     "exception": false,
     "start_time": "2021-09-07T02:00:06.706128",
     "status": "completed"
    },
    "tags": []
   },
   "outputs": [],
   "source": [
    "import pandas as pd\n",
    "import sqlite3"
   ]
  },
  {
   "cell_type": "code",
   "execution_count": 2,
   "id": "innovative-syndrome",
   "metadata": {
    "execution": {
     "iopub.execute_input": "2021-09-07T02:00:07.621140Z",
     "iopub.status.busy": "2021-09-07T02:00:07.618689Z",
     "iopub.status.idle": "2021-09-07T02:00:07.846448Z",
     "shell.execute_reply": "2021-09-07T02:00:07.847727Z"
    },
    "papermill": {
     "duration": 0.257985,
     "end_time": "2021-09-07T02:00:07.848175",
     "exception": false,
     "start_time": "2021-09-07T02:00:07.590190",
     "status": "completed"
    },
    "tags": []
   },
   "outputs": [],
   "source": [
    "timestamps = pd.read_sql(\"select distinct record_time from EBAY_TOP_BERLIN order by record_time desc limit 2\", sqlite3.connect(\"UsedObjects.db\"))"
   ]
  },
  {
   "cell_type": "code",
   "execution_count": 3,
   "id": "periodic-identification",
   "metadata": {
    "execution": {
     "iopub.execute_input": "2021-09-07T02:00:07.914346Z",
     "iopub.status.busy": "2021-09-07T02:00:07.912197Z",
     "iopub.status.idle": "2021-09-07T02:00:07.933104Z",
     "shell.execute_reply": "2021-09-07T02:00:07.934325Z"
    },
    "papermill": {
     "duration": 0.066255,
     "end_time": "2021-09-07T02:00:07.934731",
     "exception": false,
     "start_time": "2021-09-07T02:00:07.868476",
     "status": "completed"
    },
    "tags": []
   },
   "outputs": [
    {
     "data": {
      "text/html": [
       "<div>\n",
       "<style scoped>\n",
       "    .dataframe tbody tr th:only-of-type {\n",
       "        vertical-align: middle;\n",
       "    }\n",
       "\n",
       "    .dataframe tbody tr th {\n",
       "        vertical-align: top;\n",
       "    }\n",
       "\n",
       "    .dataframe thead th {\n",
       "        text-align: right;\n",
       "    }\n",
       "</style>\n",
       "<table border=\"1\" class=\"dataframe\">\n",
       "  <thead>\n",
       "    <tr style=\"text-align: right;\">\n",
       "      <th></th>\n",
       "      <th>RECORD_TIME</th>\n",
       "    </tr>\n",
       "  </thead>\n",
       "  <tbody>\n",
       "    <tr>\n",
       "      <th>0</th>\n",
       "      <td>2021-09-07 04:00</td>\n",
       "    </tr>\n",
       "    <tr>\n",
       "      <th>1</th>\n",
       "      <td>2021-09-07 03:30</td>\n",
       "    </tr>\n",
       "  </tbody>\n",
       "</table>\n",
       "</div>"
      ],
      "text/plain": [
       "        RECORD_TIME\n",
       "0  2021-09-07 04:00\n",
       "1  2021-09-07 03:30"
      ]
     },
     "execution_count": 3,
     "metadata": {},
     "output_type": "execute_result"
    }
   ],
   "source": [
    "timestamps"
   ]
  },
  {
   "cell_type": "code",
   "execution_count": 4,
   "id": "alternate-victory",
   "metadata": {
    "execution": {
     "iopub.execute_input": "2021-09-07T02:00:07.988681Z",
     "iopub.status.busy": "2021-09-07T02:00:07.986262Z",
     "iopub.status.idle": "2021-09-07T02:00:08.324589Z",
     "shell.execute_reply": "2021-09-07T02:00:08.325808Z"
    },
    "papermill": {
     "duration": 0.368895,
     "end_time": "2021-09-07T02:00:08.326213",
     "exception": false,
     "start_time": "2021-09-07T02:00:07.957318",
     "status": "completed"
    },
    "tags": []
   },
   "outputs": [],
   "source": [
    "df = pd.read_sql(\"select * from EBAY_TOP_BERLIN where record_time in (select distinct record_time from EBAY_TOP_BERLIN order by record_time desc limit 2)\", sqlite3.connect(\"UsedObjects.db\"))"
   ]
  },
  {
   "cell_type": "code",
   "execution_count": 5,
   "id": "popular-active",
   "metadata": {
    "execution": {
     "iopub.execute_input": "2021-09-07T02:00:08.412211Z",
     "iopub.status.busy": "2021-09-07T02:00:08.400808Z",
     "iopub.status.idle": "2021-09-07T02:00:08.427733Z",
     "shell.execute_reply": "2021-09-07T02:00:08.429004Z"
    },
    "papermill": {
     "duration": 0.074274,
     "end_time": "2021-09-07T02:00:08.429413",
     "exception": false,
     "start_time": "2021-09-07T02:00:08.355139",
     "status": "completed"
    },
    "tags": []
   },
   "outputs": [],
   "source": [
    "df_pivot = df.pivot_table(index=\"PRODUCT\", columns = \"RECORD_TIME\", values = \"LISTING_COUNT\")"
   ]
  },
  {
   "cell_type": "code",
   "execution_count": 6,
   "id": "union-huntington",
   "metadata": {
    "execution": {
     "iopub.execute_input": "2021-09-07T02:00:08.485396Z",
     "iopub.status.busy": "2021-09-07T02:00:08.483366Z",
     "iopub.status.idle": "2021-09-07T02:00:08.488256Z",
     "shell.execute_reply": "2021-09-07T02:00:08.489465Z"
    },
    "papermill": {
     "duration": 0.039732,
     "end_time": "2021-09-07T02:00:08.489873",
     "exception": false,
     "start_time": "2021-09-07T02:00:08.450141",
     "status": "completed"
    },
    "tags": []
   },
   "outputs": [],
   "source": [
    "df_pivot.columns = [\"stamp_1\", \"stamp_2\"]\n",
    "df_pivot_diff = df_pivot.diff(axis=1)"
   ]
  },
  {
   "cell_type": "code",
   "execution_count": 7,
   "id": "fifth-motion",
   "metadata": {
    "execution": {
     "iopub.execute_input": "2021-09-07T02:00:08.544945Z",
     "iopub.status.busy": "2021-09-07T02:00:08.542294Z",
     "iopub.status.idle": "2021-09-07T02:00:10.021426Z",
     "shell.execute_reply": "2021-09-07T02:00:10.022727Z"
    },
    "papermill": {
     "duration": 1.513026,
     "end_time": "2021-09-07T02:00:10.023394",
     "exception": false,
     "start_time": "2021-09-07T02:00:08.510368",
     "status": "completed"
    },
    "tags": []
   },
   "outputs": [
    {
     "data": {
      "text/plain": [
       "<AxesSubplot:ylabel='PRODUCT'>"
      ]
     },
     "execution_count": 7,
     "metadata": {},
     "output_type": "execute_result"
    },
    {
     "data": {
      "image/png": "[encoded data removed]",
      "text/plain": [
       "<Figure size 432x288 with 1 Axes>"
      ]
     },
     "metadata": {
      "needs_background": "light"
     },
     "output_type": "display_data"
    }
   ],
   "source": [
    "df_pivot_diff.sort_values(\"stamp_2\", ascending = False)[\"stamp_2\"].head(10).plot.barh()"
   ]
  },
  {
   "cell_type": "code",
   "execution_count": null,
   "id": "extra-executive",
   "metadata": {
    "papermill": {
     "duration": 0.022309,
     "end_time": "2021-09-07T02:00:10.071072",
     "exception": false,
     "start_time": "2021-09-07T02:00:10.048763",
     "status": "completed"
    },
    "tags": []
   },
   "outputs": [],
   "source": []
  }
 ],
 "metadata": {
  "kernelspec": {
   "display_name": "Python 3",
   "language": "python",
   "name": "python3"
  },
  "language_info": {
   "codemirror_mode": {
    "name": "ipython",
    "version": 3
   },
   "file_extension": ".py",
   "mimetype": "text/x-python",
   "name": "python",
   "nbconvert_exporter": "python",
   "pygments_lexer": "ipython3",
   "version": "3.9.5"
  },
  "papermill": {
   "default_parameters": {},
   "duration": 6.424865,
   "end_time": "2021-09-07T02:00:10.711661",
   "environment_variables": {},
   "exception": null,
   "input_path": "eBay_Overview.ipynb",
   "output_path": "eBay_Overview.ipynb",
   "parameters": {},
   "start_time": "2021-09-07T02:00:04.286796",
   "version": "2.3.3"
  }
 },
 "nbformat": 4,
 "nbformat_minor": 5
}