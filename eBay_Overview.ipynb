{
 "cells": [
  {
   "cell_type": "code",
   "execution_count": 1,
   "id": "reverse-picking",
   "metadata": {
    "execution": {
     "iopub.execute_input": "2021-11-30T22:30:07.308575Z",
     "iopub.status.busy": "2021-11-30T22:30:07.306152Z",
     "iopub.status.idle": "2021-11-30T22:30:08.261561Z",
     "shell.execute_reply": "2021-11-30T22:30:08.263281Z"
    },
    "papermill": {
     "duration": 1.006389,
     "end_time": "2021-11-30T22:30:08.264027",
     "exception": false,
     "start_time": "2021-11-30T22:30:07.257638",
     "status": "completed"
    },
    "tags": []
   },
   "outputs": [],
   "source": [
    "import pandas as pd\n",
    "import sqlite3"
   ]
  },
  {
   "cell_type": "code",
   "execution_count": 2,
   "id": "innovative-syndrome",
   "metadata": {
    "execution": {
     "iopub.execute_input": "2021-11-30T22:30:08.356068Z",
     "iopub.status.busy": "2021-11-30T22:30:08.353859Z",
     "iopub.status.idle": "2021-11-30T22:30:09.299641Z",
     "shell.execute_reply": "2021-11-30T22:30:09.300985Z"
    },
    "papermill": {
     "duration": 0.980337,
     "end_time": "2021-11-30T22:30:09.301416",
     "exception": false,
     "start_time": "2021-11-30T22:30:08.321079",
     "status": "completed"
    },
    "tags": []
   },
   "outputs": [],
   "source": [
    "timestamps = pd.read_sql(\"select distinct record_time from EBAY_TOP_BERLIN order by record_time desc limit 2\", sqlite3.connect(\"UsedObjects.db\"))"
   ]
  },
  {
   "cell_type": "code",
   "execution_count": 3,
   "id": "periodic-identification",
   "metadata": {
    "execution": {
     "iopub.execute_input": "2021-11-30T22:30:09.369144Z",
     "iopub.status.busy": "2021-11-30T22:30:09.364117Z",
     "iopub.status.idle": "2021-11-30T22:30:09.386548Z",
     "shell.execute_reply": "2021-11-30T22:30:09.388020Z"
    },
    "papermill": {
     "duration": 0.067499,
     "end_time": "2021-11-30T22:30:09.388482",
     "exception": false,
     "start_time": "2021-11-30T22:30:09.320983",
     "status": "completed"
    },
    "tags": []
   },
   "outputs": [
    {
     "data": {
      "text/html": [
       "<div>\n",
       "<style scoped>\n",
       "    .dataframe tbody tr th:only-of-type {\n",
       "        vertical-align: middle;\n",
       "    }\n",
       "\n",
       "    .dataframe tbody tr th {\n",
       "        vertical-align: top;\n",
       "    }\n",
       "\n",
       "    .dataframe thead th {\n",
       "        text-align: right;\n",
       "    }\n",
       "</style>\n",
       "<table border=\"1\" class=\"dataframe\">\n",
       "  <thead>\n",
       "    <tr style=\"text-align: right;\">\n",
       "      <th></th>\n",
       "      <th>RECORD_TIME</th>\n",
       "    </tr>\n",
       "  </thead>\n",
       "  <tbody>\n",
       "    <tr>\n",
       "      <th>0</th>\n",
       "      <td>2021-11-30 23:30</td>\n",
       "    </tr>\n",
       "    <tr>\n",
       "      <th>1</th>\n",
       "      <td>2021-11-30 23:00</td>\n",
       "    </tr>\n",
       "  </tbody>\n",
       "</table>\n",
       "</div>"
      ],
      "text/plain": [
       "        RECORD_TIME\n",
       "0  2021-11-30 23:30\n",
       "1  2021-11-30 23:00"
      ]
     },
     "execution_count": 3,
     "metadata": {},
     "output_type": "execute_result"
    }
   ],
   "source": [
    "timestamps"
   ]
  },
  {
   "cell_type": "code",
   "execution_count": 4,
   "id": "alternate-victory",
   "metadata": {
    "execution": {
     "iopub.execute_input": "2021-11-30T22:30:09.444954Z",
     "iopub.status.busy": "2021-11-30T22:30:09.442776Z",
     "iopub.status.idle": "2021-11-30T22:30:10.839253Z",
     "shell.execute_reply": "2021-11-30T22:30:10.840992Z"
    },
    "papermill": {
     "duration": 1.429276,
     "end_time": "2021-11-30T22:30:10.841497",
     "exception": false,
     "start_time": "2021-11-30T22:30:09.412221",
     "status": "completed"
    },
    "tags": []
   },
   "outputs": [],
   "source": [
    "df = pd.read_sql(\"select * from EBAY_TOP_BERLIN where record_time in (select distinct record_time from EBAY_TOP_BERLIN order by record_time desc limit 2)\", sqlite3.connect(\"UsedObjects.db\"))"
   ]
  },
  {
   "cell_type": "code",
   "execution_count": 5,
   "id": "popular-active",
   "metadata": {
    "execution": {
     "iopub.execute_input": "2021-11-30T22:30:10.920392Z",
     "iopub.status.busy": "2021-11-30T22:30:10.907170Z",
     "iopub.status.idle": "2021-11-30T22:30:10.939872Z",
     "shell.execute_reply": "2021-11-30T22:30:10.938463Z"
    },
    "papermill": {
     "duration": 0.076772,
     "end_time": "2021-11-30T22:30:10.940280",
     "exception": false,
     "start_time": "2021-11-30T22:30:10.863508",
     "status": "completed"
    },
    "tags": []
   },
   "outputs": [],
   "source": [
    "df_pivot = df.pivot_table(index=\"PRODUCT\", columns = \"RECORD_TIME\", values = \"LISTING_COUNT\")"
   ]
  },
  {
   "cell_type": "code",
   "execution_count": 6,
   "id": "union-huntington",
   "metadata": {
    "execution": {
     "iopub.execute_input": "2021-11-30T22:30:10.999353Z",
     "iopub.status.busy": "2021-11-30T22:30:10.997081Z",
     "iopub.status.idle": "2021-11-30T22:30:11.003729Z",
     "shell.execute_reply": "2021-11-30T22:30:11.005553Z"
    },
    "papermill": {
     "duration": 0.045664,
     "end_time": "2021-11-30T22:30:11.006080",
     "exception": false,
     "start_time": "2021-11-30T22:30:10.960416",
     "status": "completed"
    },
    "tags": []
   },
   "outputs": [],
   "source": [
    "df_pivot.columns = [\"stamp_1\", \"stamp_2\"]\n",
    "df_pivot_diff = df_pivot.diff(axis=1)"
   ]
  },
  {
   "cell_type": "code",
   "execution_count": 7,
   "id": "fifth-motion",
   "metadata": {
    "execution": {
     "iopub.execute_input": "2021-11-30T22:30:11.065553Z",
     "iopub.status.busy": "2021-11-30T22:30:11.063001Z",
     "iopub.status.idle": "2021-11-30T22:30:13.126155Z",
     "shell.execute_reply": "2021-11-30T22:30:13.127351Z"
    },
    "papermill": {
     "duration": 2.100397,
     "end_time": "2021-11-30T22:30:13.127787",
     "exception": false,
     "start_time": "2021-11-30T22:30:11.027390",
     "status": "completed"
    },
    "tags": []
   },
   "outputs": [
    {
     "data": {
      "text/plain": [
       "<AxesSubplot:ylabel='PRODUCT'>"
      ]
     },
     "execution_count": 7,
     "metadata": {},
     "output_type": "execute_result"
    },
    {
     "data": {
      "image/png": "[encoded data removed]",
      "text/plain": [
       "<Figure size 432x288 with 1 Axes>"
      ]
     },
     "metadata": {
      "needs_background": "light"
     },
     "output_type": "display_data"
    }
   ],
   "source": [
    "df_pivot_diff.sort_values(\"stamp_2\", ascending = False)[\"stamp_2\"].head(10).plot.barh()"
   ]
  },
  {
   "cell_type": "code",
   "execution_count": null,
   "id": "extra-executive",
   "metadata": {
    "papermill": {
     "duration": 0.059303,
     "end_time": "2021-11-30T22:30:13.214274",
     "exception": false,
     "start_time": "2021-11-30T22:30:13.154971",
     "status": "completed"
    },
    "tags": []
   },
   "outputs": [],
   "source": []
  }
 ],
 "metadata": {
  "kernelspec": {
   "display_name": "Python 3",
   "language": "python",
   "name": "python3"
  },
  "language_info": {
   "codemirror_mode": {
    "name": "ipython",
    "version": 3
   },
   "file_extension": ".py",
   "mimetype": "text/x-python",
   "name": "python",
   "nbconvert_exporter": "python",
   "pygments_lexer": "ipython3",
   "version": "3.9.5"
  },
  "papermill": {
   "default_parameters": {},
   "duration": 9.932663,
   "end_time": "2021-11-30T22:30:14.455184",
   "environment_variables": {},
   "exception": null,
   "input_path": "eBay_Overview.ipynb",
   "output_path": "eBay_Overview.ipynb",
   "parameters": {},
   "start_time": "2021-11-30T22:30:04.522521",
   "version": "2.3.3"
  }
 },
 "nbformat": 4,
 "nbformat_minor": 5
}