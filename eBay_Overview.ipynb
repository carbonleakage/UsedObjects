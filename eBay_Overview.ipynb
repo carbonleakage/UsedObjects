{
 "cells": [
  {
   "cell_type": "code",
   "execution_count": 1,
   "id": "reverse-picking",
   "metadata": {
    "execution": {
     "iopub.execute_input": "2021-11-01T01:30:07.751023Z",
     "iopub.status.busy": "2021-11-01T01:30:07.749091Z",
     "iopub.status.idle": "2021-11-01T01:30:08.553254Z",
     "shell.execute_reply": "2021-11-01T01:30:08.554535Z"
    },
    "papermill": {
     "duration": 0.857311,
     "end_time": "2021-11-01T01:30:08.555150",
     "exception": false,
     "start_time": "2021-11-01T01:30:07.697839",
     "status": "completed"
    },
    "tags": []
   },
   "outputs": [],
   "source": [
    "import pandas as pd\n",
    "import sqlite3"
   ]
  },
  {
   "cell_type": "code",
   "execution_count": 2,
   "id": "innovative-syndrome",
   "metadata": {
    "execution": {
     "iopub.execute_input": "2021-11-01T01:30:08.607166Z",
     "iopub.status.busy": "2021-11-01T01:30:08.605311Z",
     "iopub.status.idle": "2021-11-01T01:30:09.275838Z",
     "shell.execute_reply": "2021-11-01T01:30:09.277105Z"
    },
    "papermill": {
     "duration": 0.700376,
     "end_time": "2021-11-01T01:30:09.277515",
     "exception": false,
     "start_time": "2021-11-01T01:30:08.577139",
     "status": "completed"
    },
    "tags": []
   },
   "outputs": [],
   "source": [
    "timestamps = pd.read_sql(\"select distinct record_time from EBAY_TOP_BERLIN order by record_time desc limit 2\", sqlite3.connect(\"UsedObjects.db\"))"
   ]
  },
  {
   "cell_type": "code",
   "execution_count": 3,
   "id": "periodic-identification",
   "metadata": {
    "execution": {
     "iopub.execute_input": "2021-11-01T01:30:09.358938Z",
     "iopub.status.busy": "2021-11-01T01:30:09.356938Z",
     "iopub.status.idle": "2021-11-01T01:30:09.376600Z",
     "shell.execute_reply": "2021-11-01T01:30:09.378213Z"
    },
    "papermill": {
     "duration": 0.070244,
     "end_time": "2021-11-01T01:30:09.378737",
     "exception": false,
     "start_time": "2021-11-01T01:30:09.308493",
     "status": "completed"
    },
    "tags": []
   },
   "outputs": [
    {
     "data": {
      "text/html": [
       "<div>\n",
       "<style scoped>\n",
       "    .dataframe tbody tr th:only-of-type {\n",
       "        vertical-align: middle;\n",
       "    }\n",
       "\n",
       "    .dataframe tbody tr th {\n",
       "        vertical-align: top;\n",
       "    }\n",
       "\n",
       "    .dataframe thead th {\n",
       "        text-align: right;\n",
       "    }\n",
       "</style>\n",
       "<table border=\"1\" class=\"dataframe\">\n",
       "  <thead>\n",
       "    <tr style=\"text-align: right;\">\n",
       "      <th></th>\n",
       "      <th>RECORD_TIME</th>\n",
       "    </tr>\n",
       "  </thead>\n",
       "  <tbody>\n",
       "    <tr>\n",
       "      <th>0</th>\n",
       "      <td>2021-11-01 02:30</td>\n",
       "    </tr>\n",
       "    <tr>\n",
       "      <th>1</th>\n",
       "      <td>2021-11-01 02:00</td>\n",
       "    </tr>\n",
       "  </tbody>\n",
       "</table>\n",
       "</div>"
      ],
      "text/plain": [
       "        RECORD_TIME\n",
       "0  2021-11-01 02:30\n",
       "1  2021-11-01 02:00"
      ]
     },
     "execution_count": 3,
     "metadata": {},
     "output_type": "execute_result"
    }
   ],
   "source": [
    "timestamps"
   ]
  },
  {
   "cell_type": "code",
   "execution_count": 4,
   "id": "alternate-victory",
   "metadata": {
    "execution": {
     "iopub.execute_input": "2021-11-01T01:30:09.432498Z",
     "iopub.status.busy": "2021-11-01T01:30:09.430504Z",
     "iopub.status.idle": "2021-11-01T01:30:10.482962Z",
     "shell.execute_reply": "2021-11-01T01:30:10.484227Z"
    },
    "papermill": {
     "duration": 1.083377,
     "end_time": "2021-11-01T01:30:10.484644",
     "exception": false,
     "start_time": "2021-11-01T01:30:09.401267",
     "status": "completed"
    },
    "tags": []
   },
   "outputs": [],
   "source": [
    "df = pd.read_sql(\"select * from EBAY_TOP_BERLIN where record_time in (select distinct record_time from EBAY_TOP_BERLIN order by record_time desc limit 2)\", sqlite3.connect(\"UsedObjects.db\"))"
   ]
  },
  {
   "cell_type": "code",
   "execution_count": 5,
   "id": "popular-active",
   "metadata": {
    "execution": {
     "iopub.execute_input": "2021-11-01T01:30:10.549272Z",
     "iopub.status.busy": "2021-11-01T01:30:10.541886Z",
     "iopub.status.idle": "2021-11-01T01:30:10.570131Z",
     "shell.execute_reply": "2021-11-01T01:30:10.571335Z"
    },
    "papermill": {
     "duration": 0.066339,
     "end_time": "2021-11-01T01:30:10.571733",
     "exception": false,
     "start_time": "2021-11-01T01:30:10.505394",
     "status": "completed"
    },
    "tags": []
   },
   "outputs": [],
   "source": [
    "df_pivot = df.pivot_table(index=\"PRODUCT\", columns = \"RECORD_TIME\", values = \"LISTING_COUNT\")"
   ]
  },
  {
   "cell_type": "code",
   "execution_count": 6,
   "id": "union-huntington",
   "metadata": {
    "execution": {
     "iopub.execute_input": "2021-11-01T01:30:10.631865Z",
     "iopub.status.busy": "2021-11-01T01:30:10.629461Z",
     "iopub.status.idle": "2021-11-01T01:30:10.636854Z",
     "shell.execute_reply": "2021-11-01T01:30:10.635303Z"
    },
    "papermill": {
     "duration": 0.042742,
     "end_time": "2021-11-01T01:30:10.637218",
     "exception": false,
     "start_time": "2021-11-01T01:30:10.594476",
     "status": "completed"
    },
    "tags": []
   },
   "outputs": [],
   "source": [
    "df_pivot.columns = [\"stamp_1\", \"stamp_2\"]\n",
    "df_pivot_diff = df_pivot.diff(axis=1)"
   ]
  },
  {
   "cell_type": "code",
   "execution_count": 7,
   "id": "fifth-motion",
   "metadata": {
    "execution": {
     "iopub.execute_input": "2021-11-01T01:30:10.691814Z",
     "iopub.status.busy": "2021-11-01T01:30:10.689647Z",
     "iopub.status.idle": "2021-11-01T01:30:12.184324Z",
     "shell.execute_reply": "2021-11-01T01:30:12.185661Z"
    },
    "papermill": {
     "duration": 1.52798,
     "end_time": "2021-11-01T01:30:12.186084",
     "exception": false,
     "start_time": "2021-11-01T01:30:10.658104",
     "status": "completed"
    },
    "tags": []
   },
   "outputs": [
    {
     "data": {
      "text/plain": [
       "<AxesSubplot:ylabel='PRODUCT'>"
      ]
     },
     "execution_count": 7,
     "metadata": {},
     "output_type": "execute_result"
    },
    {
     "data": {
      "image/png": "[encoded data removed]",
      "text/plain": [
       "<Figure size 432x288 with 1 Axes>"
      ]
     },
     "metadata": {
      "needs_background": "light"
     },
     "output_type": "display_data"
    }
   ],
   "source": [
    "df_pivot_diff.sort_values(\"stamp_2\", ascending = False)[\"stamp_2\"].head(10).plot.barh()"
   ]
  },
  {
   "cell_type": "code",
   "execution_count": null,
   "id": "extra-executive",
   "metadata": {
    "papermill": {
     "duration": 0.022427,
     "end_time": "2021-11-01T01:30:12.233642",
     "exception": false,
     "start_time": "2021-11-01T01:30:12.211215",
     "status": "completed"
    },
    "tags": []
   },
   "outputs": [],
   "source": []
  }
 ],
 "metadata": {
  "kernelspec": {
   "display_name": "Python 3",
   "language": "python",
   "name": "python3"
  },
  "language_info": {
   "codemirror_mode": {
    "name": "ipython",
    "version": 3
   },
   "file_extension": ".py",
   "mimetype": "text/x-python",
   "name": "python",
   "nbconvert_exporter": "python",
   "pygments_lexer": "ipython3",
   "version": "3.9.5"
  },
  "papermill": {
   "default_parameters": {},
   "duration": 7.714248,
   "end_time": "2021-11-01T01:30:12.876544",
   "environment_variables": {},
   "exception": null,
   "input_path": "eBay_Overview.ipynb",
   "output_path": "eBay_Overview.ipynb",
   "parameters": {},
   "start_time": "2021-11-01T01:30:05.162296",
   "version": "2.3.3"
  }
 },
 "nbformat": 4,
 "nbformat_minor": 5
}