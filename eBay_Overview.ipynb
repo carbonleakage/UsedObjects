{
 "cells": [
  {
   "cell_type": "code",
   "execution_count": 1,
   "id": "reverse-picking",
   "metadata": {
    "execution": {
     "iopub.execute_input": "2021-09-25T16:30:06.520357Z",
     "iopub.status.busy": "2021-09-25T16:30:06.518330Z",
     "iopub.status.idle": "2021-09-25T16:30:07.323396Z",
     "shell.execute_reply": "2021-09-25T16:30:07.324665Z"
    },
    "papermill": {
     "duration": 0.857075,
     "end_time": "2021-09-25T16:30:07.325282",
     "exception": false,
     "start_time": "2021-09-25T16:30:06.468207",
     "status": "completed"
    },
    "tags": []
   },
   "outputs": [],
   "source": [
    "import pandas as pd\n",
    "import sqlite3"
   ]
  },
  {
   "cell_type": "code",
   "execution_count": 2,
   "id": "innovative-syndrome",
   "metadata": {
    "execution": {
     "iopub.execute_input": "2021-09-25T16:30:07.375615Z",
     "iopub.status.busy": "2021-09-25T16:30:07.373536Z",
     "iopub.status.idle": "2021-09-25T16:30:07.745055Z",
     "shell.execute_reply": "2021-09-25T16:30:07.746264Z"
    },
    "papermill": {
     "duration": 0.401018,
     "end_time": "2021-09-25T16:30:07.746656",
     "exception": false,
     "start_time": "2021-09-25T16:30:07.345638",
     "status": "completed"
    },
    "tags": []
   },
   "outputs": [],
   "source": [
    "timestamps = pd.read_sql(\"select distinct record_time from EBAY_TOP_BERLIN order by record_time desc limit 2\", sqlite3.connect(\"UsedObjects.db\"))"
   ]
  },
  {
   "cell_type": "code",
   "execution_count": 3,
   "id": "periodic-identification",
   "metadata": {
    "execution": {
     "iopub.execute_input": "2021-09-25T16:30:07.810068Z",
     "iopub.status.busy": "2021-09-25T16:30:07.808060Z",
     "iopub.status.idle": "2021-09-25T16:30:07.827893Z",
     "shell.execute_reply": "2021-09-25T16:30:07.829234Z"
    },
    "papermill": {
     "duration": 0.063452,
     "end_time": "2021-09-25T16:30:07.829647",
     "exception": false,
     "start_time": "2021-09-25T16:30:07.766195",
     "status": "completed"
    },
    "tags": []
   },
   "outputs": [
    {
     "data": {
      "text/html": [
       "<div>\n",
       "<style scoped>\n",
       "    .dataframe tbody tr th:only-of-type {\n",
       "        vertical-align: middle;\n",
       "    }\n",
       "\n",
       "    .dataframe tbody tr th {\n",
       "        vertical-align: top;\n",
       "    }\n",
       "\n",
       "    .dataframe thead th {\n",
       "        text-align: right;\n",
       "    }\n",
       "</style>\n",
       "<table border=\"1\" class=\"dataframe\">\n",
       "  <thead>\n",
       "    <tr style=\"text-align: right;\">\n",
       "      <th></th>\n",
       "      <th>RECORD_TIME</th>\n",
       "    </tr>\n",
       "  </thead>\n",
       "  <tbody>\n",
       "    <tr>\n",
       "      <th>0</th>\n",
       "      <td>2021-09-25 18:30</td>\n",
       "    </tr>\n",
       "    <tr>\n",
       "      <th>1</th>\n",
       "      <td>2021-09-25 18:00</td>\n",
       "    </tr>\n",
       "  </tbody>\n",
       "</table>\n",
       "</div>"
      ],
      "text/plain": [
       "        RECORD_TIME\n",
       "0  2021-09-25 18:30\n",
       "1  2021-09-25 18:00"
      ]
     },
     "execution_count": 3,
     "metadata": {},
     "output_type": "execute_result"
    }
   ],
   "source": [
    "timestamps"
   ]
  },
  {
   "cell_type": "code",
   "execution_count": 4,
   "id": "alternate-victory",
   "metadata": {
    "execution": {
     "iopub.execute_input": "2021-09-25T16:30:07.881060Z",
     "iopub.status.busy": "2021-09-25T16:30:07.878867Z",
     "iopub.status.idle": "2021-09-25T16:30:08.423176Z",
     "shell.execute_reply": "2021-09-25T16:30:08.424544Z"
    },
    "papermill": {
     "duration": 0.574245,
     "end_time": "2021-09-25T16:30:08.424949",
     "exception": false,
     "start_time": "2021-09-25T16:30:07.850704",
     "status": "completed"
    },
    "tags": []
   },
   "outputs": [],
   "source": [
    "df = pd.read_sql(\"select * from EBAY_TOP_BERLIN where record_time in (select distinct record_time from EBAY_TOP_BERLIN order by record_time desc limit 2)\", sqlite3.connect(\"UsedObjects.db\"))"
   ]
  },
  {
   "cell_type": "code",
   "execution_count": 5,
   "id": "popular-active",
   "metadata": {
    "execution": {
     "iopub.execute_input": "2021-09-25T16:30:08.506280Z",
     "iopub.status.busy": "2021-09-25T16:30:08.493603Z",
     "iopub.status.idle": "2021-09-25T16:30:08.522417Z",
     "shell.execute_reply": "2021-09-25T16:30:08.523873Z"
    },
    "papermill": {
     "duration": 0.073795,
     "end_time": "2021-09-25T16:30:08.524285",
     "exception": false,
     "start_time": "2021-09-25T16:30:08.450490",
     "status": "completed"
    },
    "tags": []
   },
   "outputs": [],
   "source": [
    "df_pivot = df.pivot_table(index=\"PRODUCT\", columns = \"RECORD_TIME\", values = \"LISTING_COUNT\")"
   ]
  },
  {
   "cell_type": "code",
   "execution_count": 6,
   "id": "union-huntington",
   "metadata": {
    "execution": {
     "iopub.execute_input": "2021-09-25T16:30:08.582391Z",
     "iopub.status.busy": "2021-09-25T16:30:08.579958Z",
     "iopub.status.idle": "2021-09-25T16:30:08.585921Z",
     "shell.execute_reply": "2021-09-25T16:30:08.587351Z"
    },
    "papermill": {
     "duration": 0.042298,
     "end_time": "2021-09-25T16:30:08.587796",
     "exception": false,
     "start_time": "2021-09-25T16:30:08.545498",
     "status": "completed"
    },
    "tags": []
   },
   "outputs": [],
   "source": [
    "df_pivot.columns = [\"stamp_1\", \"stamp_2\"]\n",
    "df_pivot_diff = df_pivot.diff(axis=1)"
   ]
  },
  {
   "cell_type": "code",
   "execution_count": 7,
   "id": "fifth-motion",
   "metadata": {
    "execution": {
     "iopub.execute_input": "2021-09-25T16:30:08.641957Z",
     "iopub.status.busy": "2021-09-25T16:30:08.639781Z",
     "iopub.status.idle": "2021-09-25T16:30:10.132302Z",
     "shell.execute_reply": "2021-09-25T16:30:10.133587Z"
    },
    "papermill": {
     "duration": 1.524887,
     "end_time": "2021-09-25T16:30:10.134005",
     "exception": false,
     "start_time": "2021-09-25T16:30:08.609118",
     "status": "completed"
    },
    "tags": []
   },
   "outputs": [
    {
     "data": {
      "text/plain": [
       "<AxesSubplot:ylabel='PRODUCT'>"
      ]
     },
     "execution_count": 7,
     "metadata": {},
     "output_type": "execute_result"
    },
    {
     "data": {
      "image/png": "[encoded data removed]",
      "text/plain": [
       "<Figure size 432x288 with 1 Axes>"
      ]
     },
     "metadata": {
      "needs_background": "light"
     },
     "output_type": "display_data"
    }
   ],
   "source": [
    "df_pivot_diff.sort_values(\"stamp_2\", ascending = False)[\"stamp_2\"].head(10).plot.barh()"
   ]
  },
  {
   "cell_type": "code",
   "execution_count": null,
   "id": "extra-executive",
   "metadata": {
    "papermill": {
     "duration": 0.022017,
     "end_time": "2021-09-25T16:30:10.180305",
     "exception": false,
     "start_time": "2021-09-25T16:30:10.158288",
     "status": "completed"
    },
    "tags": []
   },
   "outputs": [],
   "source": []
  }
 ],
 "metadata": {
  "kernelspec": {
   "display_name": "Python 3",
   "language": "python",
   "name": "python3"
  },
  "language_info": {
   "codemirror_mode": {
    "name": "ipython",
    "version": 3
   },
   "file_extension": ".py",
   "mimetype": "text/x-python",
   "name": "python",
   "nbconvert_exporter": "python",
   "pygments_lexer": "ipython3",
   "version": "3.9.5"
  },
  "papermill": {
   "default_parameters": {},
   "duration": 6.757786,
   "end_time": "2021-09-25T16:30:10.823723",
   "environment_variables": {},
   "exception": null,
   "input_path": "eBay_Overview.ipynb",
   "output_path": "eBay_Overview.ipynb",
   "parameters": {},
   "start_time": "2021-09-25T16:30:04.065937",
   "version": "2.3.3"
  }
 },
 "nbformat": 4,
 "nbformat_minor": 5
}