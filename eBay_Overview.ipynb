{
 "cells": [
  {
   "cell_type": "code",
   "execution_count": 1,
   "id": "reverse-picking",
   "metadata": {
    "execution": {
     "iopub.execute_input": "2021-08-23T19:00:07.740652Z",
     "iopub.status.busy": "2021-08-23T19:00:07.738737Z",
     "iopub.status.idle": "2021-08-23T19:00:08.545106Z",
     "shell.execute_reply": "2021-08-23T19:00:08.546344Z"
    },
    "papermill": {
     "duration": 0.85774,
     "end_time": "2021-08-23T19:00:08.547000",
     "exception": false,
     "start_time": "2021-08-23T19:00:07.689260",
     "status": "completed"
    },
    "tags": []
   },
   "outputs": [],
   "source": [
    "import pandas as pd\n",
    "import sqlite3"
   ]
  },
  {
   "cell_type": "code",
   "execution_count": 2,
   "id": "innovative-syndrome",
   "metadata": {
    "execution": {
     "iopub.execute_input": "2021-08-23T19:00:08.598675Z",
     "iopub.status.busy": "2021-08-23T19:00:08.596700Z",
     "iopub.status.idle": "2021-08-23T19:00:08.710058Z",
     "shell.execute_reply": "2021-08-23T19:00:08.711416Z"
    },
    "papermill": {
     "duration": 0.142617,
     "end_time": "2021-08-23T19:00:08.711838",
     "exception": false,
     "start_time": "2021-08-23T19:00:08.569221",
     "status": "completed"
    },
    "tags": []
   },
   "outputs": [],
   "source": [
    "timestamps = pd.read_sql(\"select distinct record_time from EBAY_TOP_BERLIN order by record_time desc limit 2\", sqlite3.connect(\"UsedObjects.db\"))"
   ]
  },
  {
   "cell_type": "code",
   "execution_count": 3,
   "id": "periodic-identification",
   "metadata": {
    "execution": {
     "iopub.execute_input": "2021-08-23T19:00:08.778835Z",
     "iopub.status.busy": "2021-08-23T19:00:08.773640Z",
     "iopub.status.idle": "2021-08-23T19:00:08.794490Z",
     "shell.execute_reply": "2021-08-23T19:00:08.795756Z"
    },
    "papermill": {
     "duration": 0.065374,
     "end_time": "2021-08-23T19:00:08.796209",
     "exception": false,
     "start_time": "2021-08-23T19:00:08.730835",
     "status": "completed"
    },
    "tags": []
   },
   "outputs": [
    {
     "data": {
      "text/html": [
       "<div>\n",
       "<style scoped>\n",
       "    .dataframe tbody tr th:only-of-type {\n",
       "        vertical-align: middle;\n",
       "    }\n",
       "\n",
       "    .dataframe tbody tr th {\n",
       "        vertical-align: top;\n",
       "    }\n",
       "\n",
       "    .dataframe thead th {\n",
       "        text-align: right;\n",
       "    }\n",
       "</style>\n",
       "<table border=\"1\" class=\"dataframe\">\n",
       "  <thead>\n",
       "    <tr style=\"text-align: right;\">\n",
       "      <th></th>\n",
       "      <th>RECORD_TIME</th>\n",
       "    </tr>\n",
       "  </thead>\n",
       "  <tbody>\n",
       "    <tr>\n",
       "      <th>0</th>\n",
       "      <td>2021-08-23 21:00</td>\n",
       "    </tr>\n",
       "    <tr>\n",
       "      <th>1</th>\n",
       "      <td>2021-08-23 20:30</td>\n",
       "    </tr>\n",
       "  </tbody>\n",
       "</table>\n",
       "</div>"
      ],
      "text/plain": [
       "        RECORD_TIME\n",
       "0  2021-08-23 21:00\n",
       "1  2021-08-23 20:30"
      ]
     },
     "execution_count": 3,
     "metadata": {},
     "output_type": "execute_result"
    }
   ],
   "source": [
    "timestamps"
   ]
  },
  {
   "cell_type": "code",
   "execution_count": 4,
   "id": "alternate-victory",
   "metadata": {
    "execution": {
     "iopub.execute_input": "2021-08-23T19:00:08.848103Z",
     "iopub.status.busy": "2021-08-23T19:00:08.845897Z",
     "iopub.status.idle": "2021-08-23T19:00:09.015943Z",
     "shell.execute_reply": "2021-08-23T19:00:09.017397Z"
    },
    "papermill": {
     "duration": 0.199961,
     "end_time": "2021-08-23T19:00:09.017870",
     "exception": false,
     "start_time": "2021-08-23T19:00:08.817909",
     "status": "completed"
    },
    "tags": []
   },
   "outputs": [],
   "source": [
    "df = pd.read_sql(\"select * from EBAY_TOP_BERLIN where record_time in (select distinct record_time from EBAY_TOP_BERLIN order by record_time desc limit 2)\", sqlite3.connect(\"UsedObjects.db\"))"
   ]
  },
  {
   "cell_type": "code",
   "execution_count": 5,
   "id": "popular-active",
   "metadata": {
    "execution": {
     "iopub.execute_input": "2021-08-23T19:00:09.087021Z",
     "iopub.status.busy": "2021-08-23T19:00:09.077463Z",
     "iopub.status.idle": "2021-08-23T19:00:09.105383Z",
     "shell.execute_reply": "2021-08-23T19:00:09.103894Z"
    },
    "papermill": {
     "duration": 0.066771,
     "end_time": "2021-08-23T19:00:09.105758",
     "exception": false,
     "start_time": "2021-08-23T19:00:09.038987",
     "status": "completed"
    },
    "tags": []
   },
   "outputs": [],
   "source": [
    "df_pivot = df.pivot_table(index=\"PRODUCT\", columns = \"RECORD_TIME\", values = \"LISTING_COUNT\")"
   ]
  },
  {
   "cell_type": "code",
   "execution_count": 6,
   "id": "union-huntington",
   "metadata": {
    "execution": {
     "iopub.execute_input": "2021-08-23T19:00:09.169753Z",
     "iopub.status.busy": "2021-08-23T19:00:09.167613Z",
     "iopub.status.idle": "2021-08-23T19:00:09.173724Z",
     "shell.execute_reply": "2021-08-23T19:00:09.175419Z"
    },
    "papermill": {
     "duration": 0.05071,
     "end_time": "2021-08-23T19:00:09.175931",
     "exception": false,
     "start_time": "2021-08-23T19:00:09.125221",
     "status": "completed"
    },
    "tags": []
   },
   "outputs": [],
   "source": [
    "df_pivot.columns = [\"stamp_1\", \"stamp_2\"]\n",
    "df_pivot_diff = df_pivot.diff(axis=1)"
   ]
  },
  {
   "cell_type": "code",
   "execution_count": 7,
   "id": "fifth-motion",
   "metadata": {
    "execution": {
     "iopub.execute_input": "2021-08-23T19:00:09.229682Z",
     "iopub.status.busy": "2021-08-23T19:00:09.227405Z",
     "iopub.status.idle": "2021-08-23T19:00:10.702258Z",
     "shell.execute_reply": "2021-08-23T19:00:10.703555Z"
    },
    "papermill": {
     "duration": 1.50703,
     "end_time": "2021-08-23T19:00:10.703978",
     "exception": false,
     "start_time": "2021-08-23T19:00:09.196948",
     "status": "completed"
    },
    "tags": []
   },
   "outputs": [
    {
     "data": {
      "text/plain": [
       "<AxesSubplot:ylabel='PRODUCT'>"
      ]
     },
     "execution_count": 7,
     "metadata": {},
     "output_type": "execute_result"
    },
    {
     "data": {
      "image/png": "[encoded data removed]",
      "text/plain": [
       "<Figure size 432x288 with 1 Axes>"
      ]
     },
     "metadata": {
      "needs_background": "light"
     },
     "output_type": "display_data"
    }
   ],
   "source": [
    "df_pivot_diff.sort_values(\"stamp_2\", ascending = False)[\"stamp_2\"].head(10).plot.barh()"
   ]
  },
  {
   "cell_type": "code",
   "execution_count": null,
   "id": "extra-executive",
   "metadata": {
    "papermill": {
     "duration": 0.021887,
     "end_time": "2021-08-23T19:00:10.748802",
     "exception": false,
     "start_time": "2021-08-23T19:00:10.726915",
     "status": "completed"
    },
    "tags": []
   },
   "outputs": [],
   "source": []
  }
 ],
 "metadata": {
  "kernelspec": {
   "display_name": "Python 3",
   "language": "python",
   "name": "python3"
  },
  "language_info": {
   "codemirror_mode": {
    "name": "ipython",
    "version": 3
   },
   "file_extension": ".py",
   "mimetype": "text/x-python",
   "name": "python",
   "nbconvert_exporter": "python",
   "pygments_lexer": "ipython3",
   "version": "3.9.5"
  },
  "papermill": {
   "default_parameters": {},
   "duration": 6.826653,
   "end_time": "2021-08-23T19:00:12.094997",
   "environment_variables": {},
   "exception": null,
   "input_path": "eBay_Overview.ipynb",
   "output_path": "eBay_Overview.ipynb",
   "parameters": {},
   "start_time": "2021-08-23T19:00:05.268344",
   "version": "2.3.3"
  }
 },
 "nbformat": 4,
 "nbformat_minor": 5
}