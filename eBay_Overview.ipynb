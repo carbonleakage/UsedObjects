{
 "cells": [
  {
   "cell_type": "code",
   "execution_count": 1,
   "id": "reverse-picking",
   "metadata": {
    "execution": {
     "iopub.execute_input": "2021-10-18T19:00:07.466084Z",
     "iopub.status.busy": "2021-10-18T19:00:07.464032Z",
     "iopub.status.idle": "2021-10-18T19:00:08.265725Z",
     "shell.execute_reply": "2021-10-18T19:00:08.266904Z"
    },
    "papermill": {
     "duration": 0.852065,
     "end_time": "2021-10-18T19:00:08.267537",
     "exception": false,
     "start_time": "2021-10-18T19:00:07.415472",
     "status": "completed"
    },
    "tags": []
   },
   "outputs": [],
   "source": [
    "import pandas as pd\n",
    "import sqlite3"
   ]
  },
  {
   "cell_type": "code",
   "execution_count": 2,
   "id": "innovative-syndrome",
   "metadata": {
    "execution": {
     "iopub.execute_input": "2021-10-18T19:00:08.319128Z",
     "iopub.status.busy": "2021-10-18T19:00:08.317225Z",
     "iopub.status.idle": "2021-10-18T19:00:08.888568Z",
     "shell.execute_reply": "2021-10-18T19:00:08.887195Z"
    },
    "papermill": {
     "duration": 0.59972,
     "end_time": "2021-10-18T19:00:08.888985",
     "exception": false,
     "start_time": "2021-10-18T19:00:08.289265",
     "status": "completed"
    },
    "tags": []
   },
   "outputs": [],
   "source": [
    "timestamps = pd.read_sql(\"select distinct record_time from EBAY_TOP_BERLIN order by record_time desc limit 2\", sqlite3.connect(\"UsedObjects.db\"))"
   ]
  },
  {
   "cell_type": "code",
   "execution_count": 3,
   "id": "periodic-identification",
   "metadata": {
    "execution": {
     "iopub.execute_input": "2021-10-18T19:00:08.965826Z",
     "iopub.status.busy": "2021-10-18T19:00:08.960978Z",
     "iopub.status.idle": "2021-10-18T19:00:08.982852Z",
     "shell.execute_reply": "2021-10-18T19:00:08.984134Z"
    },
    "papermill": {
     "duration": 0.070644,
     "end_time": "2021-10-18T19:00:08.984556",
     "exception": false,
     "start_time": "2021-10-18T19:00:08.913912",
     "status": "completed"
    },
    "tags": []
   },
   "outputs": [
    {
     "data": {
      "text/html": [
       "<div>\n",
       "<style scoped>\n",
       "    .dataframe tbody tr th:only-of-type {\n",
       "        vertical-align: middle;\n",
       "    }\n",
       "\n",
       "    .dataframe tbody tr th {\n",
       "        vertical-align: top;\n",
       "    }\n",
       "\n",
       "    .dataframe thead th {\n",
       "        text-align: right;\n",
       "    }\n",
       "</style>\n",
       "<table border=\"1\" class=\"dataframe\">\n",
       "  <thead>\n",
       "    <tr style=\"text-align: right;\">\n",
       "      <th></th>\n",
       "      <th>RECORD_TIME</th>\n",
       "    </tr>\n",
       "  </thead>\n",
       "  <tbody>\n",
       "    <tr>\n",
       "      <th>0</th>\n",
       "      <td>2021-10-18 21:00</td>\n",
       "    </tr>\n",
       "    <tr>\n",
       "      <th>1</th>\n",
       "      <td>2021-10-18 20:30</td>\n",
       "    </tr>\n",
       "  </tbody>\n",
       "</table>\n",
       "</div>"
      ],
      "text/plain": [
       "        RECORD_TIME\n",
       "0  2021-10-18 21:00\n",
       "1  2021-10-18 20:30"
      ]
     },
     "execution_count": 3,
     "metadata": {},
     "output_type": "execute_result"
    }
   ],
   "source": [
    "timestamps"
   ]
  },
  {
   "cell_type": "code",
   "execution_count": 4,
   "id": "alternate-victory",
   "metadata": {
    "execution": {
     "iopub.execute_input": "2021-10-18T19:00:09.037336Z",
     "iopub.status.busy": "2021-10-18T19:00:09.034983Z",
     "iopub.status.idle": "2021-10-18T19:00:09.861216Z",
     "shell.execute_reply": "2021-10-18T19:00:09.862636Z"
    },
    "papermill": {
     "duration": 0.856669,
     "end_time": "2021-10-18T19:00:09.863092",
     "exception": false,
     "start_time": "2021-10-18T19:00:09.006423",
     "status": "completed"
    },
    "tags": []
   },
   "outputs": [],
   "source": [
    "df = pd.read_sql(\"select * from EBAY_TOP_BERLIN where record_time in (select distinct record_time from EBAY_TOP_BERLIN order by record_time desc limit 2)\", sqlite3.connect(\"UsedObjects.db\"))"
   ]
  },
  {
   "cell_type": "code",
   "execution_count": 5,
   "id": "popular-active",
   "metadata": {
    "execution": {
     "iopub.execute_input": "2021-10-18T19:00:09.931623Z",
     "iopub.status.busy": "2021-10-18T19:00:09.920344Z",
     "iopub.status.idle": "2021-10-18T19:00:09.947924Z",
     "shell.execute_reply": "2021-10-18T19:00:09.949368Z"
    },
    "papermill": {
     "duration": 0.066873,
     "end_time": "2021-10-18T19:00:09.949794",
     "exception": false,
     "start_time": "2021-10-18T19:00:09.882921",
     "status": "completed"
    },
    "tags": []
   },
   "outputs": [],
   "source": [
    "df_pivot = df.pivot_table(index=\"PRODUCT\", columns = \"RECORD_TIME\", values = \"LISTING_COUNT\")"
   ]
  },
  {
   "cell_type": "code",
   "execution_count": 6,
   "id": "union-huntington",
   "metadata": {
    "execution": {
     "iopub.execute_input": "2021-10-18T19:00:10.008287Z",
     "iopub.status.busy": "2021-10-18T19:00:10.005864Z",
     "iopub.status.idle": "2021-10-18T19:00:10.012046Z",
     "shell.execute_reply": "2021-10-18T19:00:10.013397Z"
    },
    "papermill": {
     "duration": 0.042706,
     "end_time": "2021-10-18T19:00:10.013872",
     "exception": false,
     "start_time": "2021-10-18T19:00:09.971166",
     "status": "completed"
    },
    "tags": []
   },
   "outputs": [],
   "source": [
    "df_pivot.columns = [\"stamp_1\", \"stamp_2\"]\n",
    "df_pivot_diff = df_pivot.diff(axis=1)"
   ]
  },
  {
   "cell_type": "code",
   "execution_count": 7,
   "id": "fifth-motion",
   "metadata": {
    "execution": {
     "iopub.execute_input": "2021-10-18T19:00:10.068876Z",
     "iopub.status.busy": "2021-10-18T19:00:10.066549Z",
     "iopub.status.idle": "2021-10-18T19:00:11.534523Z",
     "shell.execute_reply": "2021-10-18T19:00:11.535797Z"
    },
    "papermill": {
     "duration": 1.50039,
     "end_time": "2021-10-18T19:00:11.536222",
     "exception": false,
     "start_time": "2021-10-18T19:00:10.035832",
     "status": "completed"
    },
    "tags": []
   },
   "outputs": [
    {
     "data": {
      "text/plain": [
       "<AxesSubplot:ylabel='PRODUCT'>"
      ]
     },
     "execution_count": 7,
     "metadata": {},
     "output_type": "execute_result"
    },
    {
     "data": {
      "image/png": "[encoded data removed]",
      "text/plain": [
       "<Figure size 432x288 with 1 Axes>"
      ]
     },
     "metadata": {
      "needs_background": "light"
     },
     "output_type": "display_data"
    }
   ],
   "source": [
    "df_pivot_diff.sort_values(\"stamp_2\", ascending = False)[\"stamp_2\"].head(10).plot.barh()"
   ]
  },
  {
   "cell_type": "code",
   "execution_count": null,
   "id": "extra-executive",
   "metadata": {
    "papermill": {
     "duration": 0.021989,
     "end_time": "2021-10-18T19:00:11.581768",
     "exception": false,
     "start_time": "2021-10-18T19:00:11.559779",
     "status": "completed"
    },
    "tags": []
   },
   "outputs": [],
   "source": []
  }
 ],
 "metadata": {
  "kernelspec": {
   "display_name": "Python 3",
   "language": "python",
   "name": "python3"
  },
  "language_info": {
   "codemirror_mode": {
    "name": "ipython",
    "version": 3
   },
   "file_extension": ".py",
   "mimetype": "text/x-python",
   "name": "python",
   "nbconvert_exporter": "python",
   "pygments_lexer": "ipython3",
   "version": "3.9.5"
  },
  "papermill": {
   "default_parameters": {},
   "duration": 7.819402,
   "end_time": "2021-10-18T19:00:12.838159",
   "environment_variables": {},
   "exception": null,
   "input_path": "eBay_Overview.ipynb",
   "output_path": "eBay_Overview.ipynb",
   "parameters": {},
   "start_time": "2021-10-18T19:00:05.018757",
   "version": "2.3.3"
  }
 },
 "nbformat": 4,
 "nbformat_minor": 5
}