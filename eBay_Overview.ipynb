{
 "cells": [
  {
   "cell_type": "code",
   "execution_count": 1,
   "id": "reverse-picking",
   "metadata": {
    "execution": {
     "iopub.execute_input": "2021-08-17T10:30:06.900399Z",
     "iopub.status.busy": "2021-08-17T10:30:06.898333Z",
     "iopub.status.idle": "2021-08-17T10:30:07.704210Z",
     "shell.execute_reply": "2021-08-17T10:30:07.705448Z"
    },
    "papermill": {
     "duration": 0.857148,
     "end_time": "2021-08-17T10:30:07.706272",
     "exception": false,
     "start_time": "2021-08-17T10:30:06.849124",
     "status": "completed"
    },
    "tags": []
   },
   "outputs": [],
   "source": [
    "import pandas as pd\n",
    "import sqlite3"
   ]
  },
  {
   "cell_type": "code",
   "execution_count": 2,
   "id": "innovative-syndrome",
   "metadata": {
    "execution": {
     "iopub.execute_input": "2021-08-17T10:30:07.759593Z",
     "iopub.status.busy": "2021-08-17T10:30:07.757213Z",
     "iopub.status.idle": "2021-08-17T10:30:07.828220Z",
     "shell.execute_reply": "2021-08-17T10:30:07.829388Z"
    },
    "papermill": {
     "duration": 0.10105,
     "end_time": "2021-08-17T10:30:07.829816",
     "exception": false,
     "start_time": "2021-08-17T10:30:07.728766",
     "status": "completed"
    },
    "tags": []
   },
   "outputs": [],
   "source": [
    "timestamps = pd.read_sql(\"select distinct record_time from EBAY_TOP_BERLIN order by record_time desc limit 2\", sqlite3.connect(\"UsedObjects.db\"))"
   ]
  },
  {
   "cell_type": "code",
   "execution_count": 3,
   "id": "periodic-identification",
   "metadata": {
    "execution": {
     "iopub.execute_input": "2021-08-17T10:30:07.897184Z",
     "iopub.status.busy": "2021-08-17T10:30:07.895151Z",
     "iopub.status.idle": "2021-08-17T10:30:07.914944Z",
     "shell.execute_reply": "2021-08-17T10:30:07.916245Z"
    },
    "papermill": {
     "duration": 0.067093,
     "end_time": "2021-08-17T10:30:07.916657",
     "exception": false,
     "start_time": "2021-08-17T10:30:07.849564",
     "status": "completed"
    },
    "tags": []
   },
   "outputs": [
    {
     "data": {
      "text/html": [
       "<div>\n",
       "<style scoped>\n",
       "    .dataframe tbody tr th:only-of-type {\n",
       "        vertical-align: middle;\n",
       "    }\n",
       "\n",
       "    .dataframe tbody tr th {\n",
       "        vertical-align: top;\n",
       "    }\n",
       "\n",
       "    .dataframe thead th {\n",
       "        text-align: right;\n",
       "    }\n",
       "</style>\n",
       "<table border=\"1\" class=\"dataframe\">\n",
       "  <thead>\n",
       "    <tr style=\"text-align: right;\">\n",
       "      <th></th>\n",
       "      <th>RECORD_TIME</th>\n",
       "    </tr>\n",
       "  </thead>\n",
       "  <tbody>\n",
       "    <tr>\n",
       "      <th>0</th>\n",
       "      <td>2021-08-17 12:30</td>\n",
       "    </tr>\n",
       "    <tr>\n",
       "      <th>1</th>\n",
       "      <td>2021-08-17 12:00</td>\n",
       "    </tr>\n",
       "  </tbody>\n",
       "</table>\n",
       "</div>"
      ],
      "text/plain": [
       "        RECORD_TIME\n",
       "0  2021-08-17 12:30\n",
       "1  2021-08-17 12:00"
      ]
     },
     "execution_count": 3,
     "metadata": {},
     "output_type": "execute_result"
    }
   ],
   "source": [
    "timestamps"
   ]
  },
  {
   "cell_type": "code",
   "execution_count": 4,
   "id": "alternate-victory",
   "metadata": {
    "execution": {
     "iopub.execute_input": "2021-08-17T10:30:07.969394Z",
     "iopub.status.busy": "2021-08-17T10:30:07.967091Z",
     "iopub.status.idle": "2021-08-17T10:30:08.071694Z",
     "shell.execute_reply": "2021-08-17T10:30:08.072910Z"
    },
    "papermill": {
     "duration": 0.135276,
     "end_time": "2021-08-17T10:30:08.073309",
     "exception": false,
     "start_time": "2021-08-17T10:30:07.938033",
     "status": "completed"
    },
    "tags": []
   },
   "outputs": [],
   "source": [
    "df = pd.read_sql(\"select * from EBAY_TOP_BERLIN where record_time in (select distinct record_time from EBAY_TOP_BERLIN order by record_time desc limit 2)\", sqlite3.connect(\"UsedObjects.db\"))"
   ]
  },
  {
   "cell_type": "code",
   "execution_count": 5,
   "id": "popular-active",
   "metadata": {
    "execution": {
     "iopub.execute_input": "2021-08-17T10:30:08.134694Z",
     "iopub.status.busy": "2021-08-17T10:30:08.132410Z",
     "iopub.status.idle": "2021-08-17T10:30:08.159134Z",
     "shell.execute_reply": "2021-08-17T10:30:08.160346Z"
    },
    "papermill": {
     "duration": 0.066762,
     "end_time": "2021-08-17T10:30:08.160740",
     "exception": false,
     "start_time": "2021-08-17T10:30:08.093978",
     "status": "completed"
    },
    "tags": []
   },
   "outputs": [],
   "source": [
    "df_pivot = df.pivot_table(index=\"PRODUCT\", columns = \"RECORD_TIME\", values = \"LISTING_COUNT\")"
   ]
  },
  {
   "cell_type": "code",
   "execution_count": 6,
   "id": "union-huntington",
   "metadata": {
    "execution": {
     "iopub.execute_input": "2021-08-17T10:30:08.218450Z",
     "iopub.status.busy": "2021-08-17T10:30:08.216230Z",
     "iopub.status.idle": "2021-08-17T10:30:08.221793Z",
     "shell.execute_reply": "2021-08-17T10:30:08.223389Z"
    },
    "papermill": {
     "duration": 0.04143,
     "end_time": "2021-08-17T10:30:08.223864",
     "exception": false,
     "start_time": "2021-08-17T10:30:08.182434",
     "status": "completed"
    },
    "tags": []
   },
   "outputs": [],
   "source": [
    "df_pivot.columns = [\"stamp_1\", \"stamp_2\"]\n",
    "df_pivot_diff = df_pivot.diff(axis=1)"
   ]
  },
  {
   "cell_type": "code",
   "execution_count": 7,
   "id": "fifth-motion",
   "metadata": {
    "execution": {
     "iopub.execute_input": "2021-08-17T10:30:08.280138Z",
     "iopub.status.busy": "2021-08-17T10:30:08.277408Z",
     "iopub.status.idle": "2021-08-17T10:30:09.754548Z",
     "shell.execute_reply": "2021-08-17T10:30:09.752966Z"
    },
    "papermill": {
     "duration": 1.509984,
     "end_time": "2021-08-17T10:30:09.754932",
     "exception": false,
     "start_time": "2021-08-17T10:30:08.244948",
     "status": "completed"
    },
    "tags": []
   },
   "outputs": [
    {
     "data": {
      "text/plain": [
       "<AxesSubplot:ylabel='PRODUCT'>"
      ]
     },
     "execution_count": 7,
     "metadata": {},
     "output_type": "execute_result"
    },
    {
     "data": {
      "image/png": "[encoded data removed]",
      "text/plain": [
       "<Figure size 432x288 with 1 Axes>"
      ]
     },
     "metadata": {
      "needs_background": "light"
     },
     "output_type": "display_data"
    }
   ],
   "source": [
    "df_pivot_diff.sort_values(\"stamp_2\", ascending = False)[\"stamp_2\"].head(10).plot.barh()"
   ]
  },
  {
   "cell_type": "code",
   "execution_count": null,
   "id": "extra-executive",
   "metadata": {
    "papermill": {
     "duration": 0.022547,
     "end_time": "2021-08-17T10:30:09.801482",
     "exception": false,
     "start_time": "2021-08-17T10:30:09.778935",
     "status": "completed"
    },
    "tags": []
   },
   "outputs": [],
   "source": []
  }
 ],
 "metadata": {
  "kernelspec": {
   "display_name": "Python 3",
   "language": "python",
   "name": "python3"
  },
  "language_info": {
   "codemirror_mode": {
    "name": "ipython",
    "version": 3
   },
   "file_extension": ".py",
   "mimetype": "text/x-python",
   "name": "python",
   "nbconvert_exporter": "python",
   "pygments_lexer": "ipython3",
   "version": "3.9.5"
  },
  "papermill": {
   "default_parameters": {},
   "duration": 6.827716,
   "end_time": "2021-08-17T10:30:11.267486",
   "environment_variables": {},
   "exception": null,
   "input_path": "eBay_Overview.ipynb",
   "output_path": "eBay_Overview.ipynb",
   "parameters": {},
   "start_time": "2021-08-17T10:30:04.439770",
   "version": "2.3.3"
  }
 },
 "nbformat": 4,
 "nbformat_minor": 5
}