{
 "cells": [
  {
   "cell_type": "code",
   "execution_count": 1,
   "id": "reverse-picking",
   "metadata": {
    "execution": {
     "iopub.execute_input": "2021-12-06T19:00:07.693409Z",
     "iopub.status.busy": "2021-12-06T19:00:07.691123Z",
     "iopub.status.idle": "2021-12-06T19:00:08.630982Z",
     "shell.execute_reply": "2021-12-06T19:00:08.632232Z"
    },
    "papermill": {
     "duration": 0.988939,
     "end_time": "2021-12-06T19:00:08.632915",
     "exception": false,
     "start_time": "2021-12-06T19:00:07.643976",
     "status": "completed"
    },
    "tags": []
   },
   "outputs": [],
   "source": [
    "import pandas as pd\n",
    "import sqlite3"
   ]
  },
  {
   "cell_type": "code",
   "execution_count": 2,
   "id": "innovative-syndrome",
   "metadata": {
    "execution": {
     "iopub.execute_input": "2021-12-06T19:00:08.753218Z",
     "iopub.status.busy": "2021-12-06T19:00:08.751195Z",
     "iopub.status.idle": "2021-12-06T19:00:09.771936Z",
     "shell.execute_reply": "2021-12-06T19:00:09.773971Z"
    },
    "papermill": {
     "duration": 1.057902,
     "end_time": "2021-12-06T19:00:09.774424",
     "exception": false,
     "start_time": "2021-12-06T19:00:08.716522",
     "status": "completed"
    },
    "tags": []
   },
   "outputs": [],
   "source": [
    "timestamps = pd.read_sql(\"select distinct record_time from EBAY_TOP_BERLIN order by record_time desc limit 2\", sqlite3.connect(\"UsedObjects.db\"))"
   ]
  },
  {
   "cell_type": "code",
   "execution_count": 3,
   "id": "periodic-identification",
   "metadata": {
    "execution": {
     "iopub.execute_input": "2021-12-06T19:00:09.842825Z",
     "iopub.status.busy": "2021-12-06T19:00:09.840341Z",
     "iopub.status.idle": "2021-12-06T19:00:09.863516Z",
     "shell.execute_reply": "2021-12-06T19:00:09.864921Z"
    },
    "papermill": {
     "duration": 0.071379,
     "end_time": "2021-12-06T19:00:09.865405",
     "exception": false,
     "start_time": "2021-12-06T19:00:09.794026",
     "status": "completed"
    },
    "tags": []
   },
   "outputs": [
    {
     "data": {
      "text/html": [
       "<div>\n",
       "<style scoped>\n",
       "    .dataframe tbody tr th:only-of-type {\n",
       "        vertical-align: middle;\n",
       "    }\n",
       "\n",
       "    .dataframe tbody tr th {\n",
       "        vertical-align: top;\n",
       "    }\n",
       "\n",
       "    .dataframe thead th {\n",
       "        text-align: right;\n",
       "    }\n",
       "</style>\n",
       "<table border=\"1\" class=\"dataframe\">\n",
       "  <thead>\n",
       "    <tr style=\"text-align: right;\">\n",
       "      <th></th>\n",
       "      <th>RECORD_TIME</th>\n",
       "    </tr>\n",
       "  </thead>\n",
       "  <tbody>\n",
       "    <tr>\n",
       "      <th>0</th>\n",
       "      <td>2021-12-06 20:00</td>\n",
       "    </tr>\n",
       "    <tr>\n",
       "      <th>1</th>\n",
       "      <td>2021-12-06 19:30</td>\n",
       "    </tr>\n",
       "  </tbody>\n",
       "</table>\n",
       "</div>"
      ],
      "text/plain": [
       "        RECORD_TIME\n",
       "0  2021-12-06 20:00\n",
       "1  2021-12-06 19:30"
      ]
     },
     "execution_count": 3,
     "metadata": {},
     "output_type": "execute_result"
    }
   ],
   "source": [
    "timestamps"
   ]
  },
  {
   "cell_type": "code",
   "execution_count": 4,
   "id": "alternate-victory",
   "metadata": {
    "execution": {
     "iopub.execute_input": "2021-12-06T19:00:09.922554Z",
     "iopub.status.busy": "2021-12-06T19:00:09.920245Z",
     "iopub.status.idle": "2021-12-06T19:00:11.430920Z",
     "shell.execute_reply": "2021-12-06T19:00:11.433336Z"
    },
    "papermill": {
     "duration": 1.547168,
     "end_time": "2021-12-06T19:00:11.434066",
     "exception": false,
     "start_time": "2021-12-06T19:00:09.886898",
     "status": "completed"
    },
    "tags": []
   },
   "outputs": [],
   "source": [
    "df = pd.read_sql(\"select * from EBAY_TOP_BERLIN where record_time in (select distinct record_time from EBAY_TOP_BERLIN order by record_time desc limit 2)\", sqlite3.connect(\"UsedObjects.db\"))"
   ]
  },
  {
   "cell_type": "code",
   "execution_count": 5,
   "id": "popular-active",
   "metadata": {
    "execution": {
     "iopub.execute_input": "2021-12-06T19:00:11.541533Z",
     "iopub.status.busy": "2021-12-06T19:00:11.524043Z",
     "iopub.status.idle": "2021-12-06T19:00:11.586187Z",
     "shell.execute_reply": "2021-12-06T19:00:11.583966Z"
    },
    "papermill": {
     "duration": 0.122591,
     "end_time": "2021-12-06T19:00:11.586787",
     "exception": false,
     "start_time": "2021-12-06T19:00:11.464196",
     "status": "completed"
    },
    "tags": []
   },
   "outputs": [],
   "source": [
    "df_pivot = df.pivot_table(index=\"PRODUCT\", columns = \"RECORD_TIME\", values = \"LISTING_COUNT\")"
   ]
  },
  {
   "cell_type": "code",
   "execution_count": 6,
   "id": "union-huntington",
   "metadata": {
    "execution": {
     "iopub.execute_input": "2021-12-06T19:00:11.669477Z",
     "iopub.status.busy": "2021-12-06T19:00:11.666445Z",
     "iopub.status.idle": "2021-12-06T19:00:11.676345Z",
     "shell.execute_reply": "2021-12-06T19:00:11.674156Z"
    },
    "papermill": {
     "duration": 0.057678,
     "end_time": "2021-12-06T19:00:11.677127",
     "exception": false,
     "start_time": "2021-12-06T19:00:11.619449",
     "status": "completed"
    },
    "tags": []
   },
   "outputs": [],
   "source": [
    "df_pivot.columns = [\"stamp_1\", \"stamp_2\"]\n",
    "df_pivot_diff = df_pivot.diff(axis=1)"
   ]
  },
  {
   "cell_type": "code",
   "execution_count": 7,
   "id": "fifth-motion",
   "metadata": {
    "execution": {
     "iopub.execute_input": "2021-12-06T19:00:11.736548Z",
     "iopub.status.busy": "2021-12-06T19:00:11.734903Z",
     "iopub.status.idle": "2021-12-06T19:00:13.439579Z",
     "shell.execute_reply": "2021-12-06T19:00:13.440823Z"
    },
    "papermill": {
     "duration": 1.739776,
     "end_time": "2021-12-06T19:00:13.441279",
     "exception": false,
     "start_time": "2021-12-06T19:00:11.701503",
     "status": "completed"
    },
    "tags": []
   },
   "outputs": [
    {
     "data": {
      "text/plain": [
       "<AxesSubplot:ylabel='PRODUCT'>"
      ]
     },
     "execution_count": 7,
     "metadata": {},
     "output_type": "execute_result"
    },
    {
     "data": {
      "image/png": "[encoded data removed]",
      "text/plain": [
       "<Figure size 432x288 with 1 Axes>"
      ]
     },
     "metadata": {
      "needs_background": "light"
     },
     "output_type": "display_data"
    }
   ],
   "source": [
    "df_pivot_diff.sort_values(\"stamp_2\", ascending = False)[\"stamp_2\"].head(10).plot.barh()"
   ]
  },
  {
   "cell_type": "code",
   "execution_count": null,
   "id": "extra-executive",
   "metadata": {
    "papermill": {
     "duration": 0.022167,
     "end_time": "2021-12-06T19:00:13.489815",
     "exception": false,
     "start_time": "2021-12-06T19:00:13.467648",
     "status": "completed"
    },
    "tags": []
   },
   "outputs": [],
   "source": []
  }
 ],
 "metadata": {
  "kernelspec": {
   "display_name": "Python 3",
   "language": "python",
   "name": "python3"
  },
  "language_info": {
   "codemirror_mode": {
    "name": "ipython",
    "version": 3
   },
   "file_extension": ".py",
   "mimetype": "text/x-python",
   "name": "python",
   "nbconvert_exporter": "python",
   "pygments_lexer": "ipython3",
   "version": "3.9.5"
  },
  "papermill": {
   "default_parameters": {},
   "duration": 9.948306,
   "end_time": "2021-12-06T19:00:14.831931",
   "environment_variables": {},
   "exception": null,
   "input_path": "eBay_Overview.ipynb",
   "output_path": "eBay_Overview.ipynb",
   "parameters": {},
   "start_time": "2021-12-06T19:00:04.883625",
   "version": "2.3.3"
  }
 },
 "nbformat": 4,
 "nbformat_minor": 5
}