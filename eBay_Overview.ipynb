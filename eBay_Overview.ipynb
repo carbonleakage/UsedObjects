{
 "cells": [
  {
   "cell_type": "code",
   "execution_count": 1,
   "id": "reverse-picking",
   "metadata": {
    "execution": {
     "iopub.execute_input": "2021-08-10T08:30:03.769444Z",
     "iopub.status.busy": "2021-08-10T08:30:03.768683Z",
     "iopub.status.idle": "2021-08-10T08:30:04.385266Z",
     "shell.execute_reply": "2021-08-10T08:30:04.384439Z"
    },
    "papermill": {
     "duration": 0.636314,
     "end_time": "2021-08-10T08:30:04.385454",
     "exception": false,
     "start_time": "2021-08-10T08:30:03.749140",
     "status": "completed"
    },
    "tags": []
   },
   "outputs": [],
   "source": [
    "import pandas as pd\n",
    "import sqlite3"
   ]
  },
  {
   "cell_type": "code",
   "execution_count": 2,
   "id": "innovative-syndrome",
   "metadata": {
    "execution": {
     "iopub.execute_input": "2021-08-10T08:30:04.408632Z",
     "iopub.status.busy": "2021-08-10T08:30:04.407853Z",
     "iopub.status.idle": "2021-08-10T08:30:04.680225Z",
     "shell.execute_reply": "2021-08-10T08:30:04.680793Z"
    },
    "papermill": {
     "duration": 0.287041,
     "end_time": "2021-08-10T08:30:04.680988",
     "exception": false,
     "start_time": "2021-08-10T08:30:04.393947",
     "status": "completed"
    },
    "tags": []
   },
   "outputs": [],
   "source": [
    "timestamps = pd.read_sql(\"select distinct record_time from EBAY_TOP_BERLIN order by record_time desc limit 2\", sqlite3.connect(\"UsedObjects.db\"))"
   ]
  },
  {
   "cell_type": "code",
   "execution_count": 3,
   "id": "periodic-identification",
   "metadata": {
    "execution": {
     "iopub.execute_input": "2021-08-10T08:30:04.713392Z",
     "iopub.status.busy": "2021-08-10T08:30:04.712626Z",
     "iopub.status.idle": "2021-08-10T08:30:04.727947Z",
     "shell.execute_reply": "2021-08-10T08:30:04.727215Z"
    },
    "papermill": {
     "duration": 0.037355,
     "end_time": "2021-08-10T08:30:04.728115",
     "exception": false,
     "start_time": "2021-08-10T08:30:04.690760",
     "status": "completed"
    },
    "tags": []
   },
   "outputs": [
    {
     "data": {
      "text/html": [
       "<div>\n",
       "<style scoped>\n",
       "    .dataframe tbody tr th:only-of-type {\n",
       "        vertical-align: middle;\n",
       "    }\n",
       "\n",
       "    .dataframe tbody tr th {\n",
       "        vertical-align: top;\n",
       "    }\n",
       "\n",
       "    .dataframe thead th {\n",
       "        text-align: right;\n",
       "    }\n",
       "</style>\n",
       "<table border=\"1\" class=\"dataframe\">\n",
       "  <thead>\n",
       "    <tr style=\"text-align: right;\">\n",
       "      <th></th>\n",
       "      <th>RECORD_TIME</th>\n",
       "    </tr>\n",
       "  </thead>\n",
       "  <tbody>\n",
       "    <tr>\n",
       "      <th>0</th>\n",
       "      <td>2021-08-10 10:30</td>\n",
       "    </tr>\n",
       "    <tr>\n",
       "      <th>1</th>\n",
       "      <td>2021-08-10 10:00</td>\n",
       "    </tr>\n",
       "  </tbody>\n",
       "</table>\n",
       "</div>"
      ],
      "text/plain": [
       "        RECORD_TIME\n",
       "0  2021-08-10 10:30\n",
       "1  2021-08-10 10:00"
      ]
     },
     "execution_count": 3,
     "metadata": {},
     "output_type": "execute_result"
    }
   ],
   "source": [
    "timestamps"
   ]
  },
  {
   "cell_type": "code",
   "execution_count": 4,
   "id": "alternate-victory",
   "metadata": {
    "execution": {
     "iopub.execute_input": "2021-08-10T08:30:04.749541Z",
     "iopub.status.busy": "2021-08-10T08:30:04.748776Z",
     "iopub.status.idle": "2021-08-10T08:30:04.762980Z",
     "shell.execute_reply": "2021-08-10T08:30:04.763591Z"
    },
    "papermill": {
     "duration": 0.027251,
     "end_time": "2021-08-10T08:30:04.763794",
     "exception": false,
     "start_time": "2021-08-10T08:30:04.736543",
     "status": "completed"
    },
    "tags": []
   },
   "outputs": [],
   "source": [
    "df = pd.read_sql(\"select * from EBAY_TOP_BERLIN where record_time in (select distinct record_time from EBAY_TOP_BERLIN order by record_time desc limit 2)\", sqlite3.connect(\"UsedObjects.db\"))"
   ]
  },
  {
   "cell_type": "code",
   "execution_count": 5,
   "id": "popular-active",
   "metadata": {
    "execution": {
     "iopub.execute_input": "2021-08-10T08:30:04.794343Z",
     "iopub.status.busy": "2021-08-10T08:30:04.793235Z",
     "iopub.status.idle": "2021-08-10T08:30:04.810642Z",
     "shell.execute_reply": "2021-08-10T08:30:04.811174Z"
    },
    "papermill": {
     "duration": 0.034578,
     "end_time": "2021-08-10T08:30:04.811358",
     "exception": false,
     "start_time": "2021-08-10T08:30:04.776780",
     "status": "completed"
    },
    "tags": []
   },
   "outputs": [],
   "source": [
    "df_pivot = df.pivot_table(index=\"PRODUCT\", columns = \"RECORD_TIME\", values = \"LISTING_COUNT\")"
   ]
  },
  {
   "cell_type": "code",
   "execution_count": 6,
   "id": "union-huntington",
   "metadata": {
    "execution": {
     "iopub.execute_input": "2021-08-10T08:30:04.840607Z",
     "iopub.status.busy": "2021-08-10T08:30:04.839928Z",
     "iopub.status.idle": "2021-08-10T08:30:04.850021Z",
     "shell.execute_reply": "2021-08-10T08:30:04.851226Z"
    },
    "papermill": {
     "duration": 0.027727,
     "end_time": "2021-08-10T08:30:04.851554",
     "exception": false,
     "start_time": "2021-08-10T08:30:04.823827",
     "status": "completed"
    },
    "tags": []
   },
   "outputs": [],
   "source": [
    "df_pivot.columns = [\"stamp_1\", \"stamp_2\"]\n",
    "df_pivot_diff = df_pivot.diff(axis=1)"
   ]
  },
  {
   "cell_type": "code",
   "execution_count": 7,
   "id": "fifth-motion",
   "metadata": {
    "execution": {
     "iopub.execute_input": "2021-08-10T08:30:04.881445Z",
     "iopub.status.busy": "2021-08-10T08:30:04.880689Z",
     "iopub.status.idle": "2021-08-10T08:30:05.575517Z",
     "shell.execute_reply": "2021-08-10T08:30:05.576052Z"
    },
    "papermill": {
     "duration": 0.714413,
     "end_time": "2021-08-10T08:30:05.576233",
     "exception": false,
     "start_time": "2021-08-10T08:30:04.861820",
     "status": "completed"
    },
    "tags": []
   },
   "outputs": [
    {
     "data": {
      "text/plain": [
       "<AxesSubplot:ylabel='PRODUCT'>"
      ]
     },
     "execution_count": 7,
     "metadata": {},
     "output_type": "execute_result"
    },
    {
     "data": {
      "image/png": "[encoded data removed]",
      "text/plain": [
       "<Figure size 432x288 with 1 Axes>"
      ]
     },
     "metadata": {
      "needs_background": "light"
     },
     "output_type": "display_data"
    }
   ],
   "source": [
    "df_pivot_diff.sort_values(\"stamp_2\", ascending = False)[\"stamp_2\"].head(10).plot.barh()"
   ]
  },
  {
   "cell_type": "code",
   "execution_count": null,
   "id": "extra-executive",
   "metadata": {
    "papermill": {
     "duration": 0.010648,
     "end_time": "2021-08-10T08:30:05.600895",
     "exception": false,
     "start_time": "2021-08-10T08:30:05.590247",
     "status": "completed"
    },
    "tags": []
   },
   "outputs": [],
   "source": []
  }
 ],
 "metadata": {
  "kernelspec": {
   "display_name": "Python 3",
   "language": "python",
   "name": "python3"
  },
  "language_info": {
   "codemirror_mode": {
    "name": "ipython",
    "version": 3
   },
   "file_extension": ".py",
   "mimetype": "text/x-python",
   "name": "python",
   "nbconvert_exporter": "python",
   "pygments_lexer": "ipython3",
   "version": "3.8.8"
  },
  "papermill": {
   "default_parameters": {},
   "duration": 5.006777,
   "end_time": "2021-08-10T08:30:07.070813",
   "environment_variables": {},
   "exception": null,
   "input_path": "/Users/saravananshanmugam/Carbonleakage_Git/UsedObjects/eBay_Overview.ipynb",
   "output_path": "/Users/saravananshanmugam/Carbonleakage_Git/UsedObjects/eBay_Overview.ipynb",
   "parameters": {},
   "start_time": "2021-08-10T08:30:02.064036",
   "version": "2.3.3"
  }
 },
 "nbformat": 4,
 "nbformat_minor": 5
}