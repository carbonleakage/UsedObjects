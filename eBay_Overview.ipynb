{
 "cells": [
  {
   "cell_type": "code",
   "execution_count": 1,
   "id": "reverse-picking",
   "metadata": {
    "execution": {
     "iopub.execute_input": "2021-08-18T20:30:06.668229Z",
     "iopub.status.busy": "2021-08-18T20:30:06.666324Z",
     "iopub.status.idle": "2021-08-18T20:30:07.472646Z",
     "shell.execute_reply": "2021-08-18T20:30:07.473903Z"
    },
    "papermill": {
     "duration": 0.858505,
     "end_time": "2021-08-18T20:30:07.474715",
     "exception": false,
     "start_time": "2021-08-18T20:30:06.616210",
     "status": "completed"
    },
    "tags": []
   },
   "outputs": [],
   "source": [
    "import pandas as pd\n",
    "import sqlite3"
   ]
  },
  {
   "cell_type": "code",
   "execution_count": 2,
   "id": "innovative-syndrome",
   "metadata": {
    "execution": {
     "iopub.execute_input": "2021-08-18T20:30:07.527386Z",
     "iopub.status.busy": "2021-08-18T20:30:07.525454Z",
     "iopub.status.idle": "2021-08-18T20:30:07.601377Z",
     "shell.execute_reply": "2021-08-18T20:30:07.602723Z"
    },
    "papermill": {
     "duration": 0.105858,
     "end_time": "2021-08-18T20:30:07.603150",
     "exception": false,
     "start_time": "2021-08-18T20:30:07.497292",
     "status": "completed"
    },
    "tags": []
   },
   "outputs": [],
   "source": [
    "timestamps = pd.read_sql(\"select distinct record_time from EBAY_TOP_BERLIN order by record_time desc limit 2\", sqlite3.connect(\"UsedObjects.db\"))"
   ]
  },
  {
   "cell_type": "code",
   "execution_count": 3,
   "id": "periodic-identification",
   "metadata": {
    "execution": {
     "iopub.execute_input": "2021-08-18T20:30:07.668290Z",
     "iopub.status.busy": "2021-08-18T20:30:07.666222Z",
     "iopub.status.idle": "2021-08-18T20:30:07.686840Z",
     "shell.execute_reply": "2021-08-18T20:30:07.688073Z"
    },
    "papermill": {
     "duration": 0.06541,
     "end_time": "2021-08-18T20:30:07.688475",
     "exception": false,
     "start_time": "2021-08-18T20:30:07.623065",
     "status": "completed"
    },
    "tags": []
   },
   "outputs": [
    {
     "data": {
      "text/html": [
       "<div>\n",
       "<style scoped>\n",
       "    .dataframe tbody tr th:only-of-type {\n",
       "        vertical-align: middle;\n",
       "    }\n",
       "\n",
       "    .dataframe tbody tr th {\n",
       "        vertical-align: top;\n",
       "    }\n",
       "\n",
       "    .dataframe thead th {\n",
       "        text-align: right;\n",
       "    }\n",
       "</style>\n",
       "<table border=\"1\" class=\"dataframe\">\n",
       "  <thead>\n",
       "    <tr style=\"text-align: right;\">\n",
       "      <th></th>\n",
       "      <th>RECORD_TIME</th>\n",
       "    </tr>\n",
       "  </thead>\n",
       "  <tbody>\n",
       "    <tr>\n",
       "      <th>0</th>\n",
       "      <td>2021-08-18 22:30</td>\n",
       "    </tr>\n",
       "    <tr>\n",
       "      <th>1</th>\n",
       "      <td>2021-08-18 22:00</td>\n",
       "    </tr>\n",
       "  </tbody>\n",
       "</table>\n",
       "</div>"
      ],
      "text/plain": [
       "        RECORD_TIME\n",
       "0  2021-08-18 22:30\n",
       "1  2021-08-18 22:00"
      ]
     },
     "execution_count": 3,
     "metadata": {},
     "output_type": "execute_result"
    }
   ],
   "source": [
    "timestamps"
   ]
  },
  {
   "cell_type": "code",
   "execution_count": 4,
   "id": "alternate-victory",
   "metadata": {
    "execution": {
     "iopub.execute_input": "2021-08-18T20:30:07.741668Z",
     "iopub.status.busy": "2021-08-18T20:30:07.739401Z",
     "iopub.status.idle": "2021-08-18T20:30:07.858536Z",
     "shell.execute_reply": "2021-08-18T20:30:07.860038Z"
    },
    "papermill": {
     "duration": 0.15015,
     "end_time": "2021-08-18T20:30:07.860485",
     "exception": false,
     "start_time": "2021-08-18T20:30:07.710335",
     "status": "completed"
    },
    "tags": []
   },
   "outputs": [],
   "source": [
    "df = pd.read_sql(\"select * from EBAY_TOP_BERLIN where record_time in (select distinct record_time from EBAY_TOP_BERLIN order by record_time desc limit 2)\", sqlite3.connect(\"UsedObjects.db\"))"
   ]
  },
  {
   "cell_type": "code",
   "execution_count": 5,
   "id": "popular-active",
   "metadata": {
    "execution": {
     "iopub.execute_input": "2021-08-18T20:30:07.930682Z",
     "iopub.status.busy": "2021-08-18T20:30:07.919813Z",
     "iopub.status.idle": "2021-08-18T20:30:07.946968Z",
     "shell.execute_reply": "2021-08-18T20:30:07.948182Z"
    },
    "papermill": {
     "duration": 0.067086,
     "end_time": "2021-08-18T20:30:07.948586",
     "exception": false,
     "start_time": "2021-08-18T20:30:07.881500",
     "status": "completed"
    },
    "tags": []
   },
   "outputs": [],
   "source": [
    "df_pivot = df.pivot_table(index=\"PRODUCT\", columns = \"RECORD_TIME\", values = \"LISTING_COUNT\")"
   ]
  },
  {
   "cell_type": "code",
   "execution_count": 6,
   "id": "union-huntington",
   "metadata": {
    "execution": {
     "iopub.execute_input": "2021-08-18T20:30:08.008515Z",
     "iopub.status.busy": "2021-08-18T20:30:08.006072Z",
     "iopub.status.idle": "2021-08-18T20:30:08.011777Z",
     "shell.execute_reply": "2021-08-18T20:30:08.013050Z"
    },
    "papermill": {
     "duration": 0.042507,
     "end_time": "2021-08-18T20:30:08.013464",
     "exception": false,
     "start_time": "2021-08-18T20:30:07.970957",
     "status": "completed"
    },
    "tags": []
   },
   "outputs": [],
   "source": [
    "df_pivot.columns = [\"stamp_1\", \"stamp_2\"]\n",
    "df_pivot_diff = df_pivot.diff(axis=1)"
   ]
  },
  {
   "cell_type": "code",
   "execution_count": 7,
   "id": "fifth-motion",
   "metadata": {
    "execution": {
     "iopub.execute_input": "2021-08-18T20:30:08.067952Z",
     "iopub.status.busy": "2021-08-18T20:30:08.065536Z",
     "iopub.status.idle": "2021-08-18T20:30:09.569425Z",
     "shell.execute_reply": "2021-08-18T20:30:09.571007Z"
    },
    "papermill": {
     "duration": 1.537205,
     "end_time": "2021-08-18T20:30:09.571462",
     "exception": false,
     "start_time": "2021-08-18T20:30:08.034257",
     "status": "completed"
    },
    "tags": []
   },
   "outputs": [
    {
     "data": {
      "text/plain": [
       "<AxesSubplot:ylabel='PRODUCT'>"
      ]
     },
     "execution_count": 7,
     "metadata": {},
     "output_type": "execute_result"
    },
    {
     "data": {
      "image/png": "[encoded data removed]",
      "text/plain": [
       "<Figure size 432x288 with 1 Axes>"
      ]
     },
     "metadata": {
      "needs_background": "light"
     },
     "output_type": "display_data"
    }
   ],
   "source": [
    "df_pivot_diff.sort_values(\"stamp_2\", ascending = False)[\"stamp_2\"].head(10).plot.barh()"
   ]
  },
  {
   "cell_type": "code",
   "execution_count": null,
   "id": "extra-executive",
   "metadata": {
    "papermill": {
     "duration": 0.022615,
     "end_time": "2021-08-18T20:30:09.620190",
     "exception": false,
     "start_time": "2021-08-18T20:30:09.597575",
     "status": "completed"
    },
    "tags": []
   },
   "outputs": [],
   "source": []
  }
 ],
 "metadata": {
  "kernelspec": {
   "display_name": "Python 3",
   "language": "python",
   "name": "python3"
  },
  "language_info": {
   "codemirror_mode": {
    "name": "ipython",
    "version": 3
   },
   "file_extension": ".py",
   "mimetype": "text/x-python",
   "name": "python",
   "nbconvert_exporter": "python",
   "pygments_lexer": "ipython3",
   "version": "3.9.5"
  },
  "papermill": {
   "default_parameters": {},
   "duration": 6.831736,
   "end_time": "2021-08-18T20:30:11.034761",
   "environment_variables": {},
   "exception": null,
   "input_path": "eBay_Overview.ipynb",
   "output_path": "eBay_Overview.ipynb",
   "parameters": {},
   "start_time": "2021-08-18T20:30:04.203025",
   "version": "2.3.3"
  }
 },
 "nbformat": 4,
 "nbformat_minor": 5
}