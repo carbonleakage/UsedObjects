{
 "cells": [
  {
   "cell_type": "code",
   "execution_count": 1,
   "id": "reverse-picking",
   "metadata": {
    "execution": {
     "iopub.execute_input": "2021-08-30T05:30:07.536710Z",
     "iopub.status.busy": "2021-08-30T05:30:07.534704Z",
     "iopub.status.idle": "2021-08-30T05:30:08.338988Z",
     "shell.execute_reply": "2021-08-30T05:30:08.337449Z"
    },
    "papermill": {
     "duration": 0.852955,
     "end_time": "2021-08-30T05:30:08.339384",
     "exception": false,
     "start_time": "2021-08-30T05:30:07.486429",
     "status": "completed"
    },
    "tags": []
   },
   "outputs": [],
   "source": [
    "import pandas as pd\n",
    "import sqlite3"
   ]
  },
  {
   "cell_type": "code",
   "execution_count": 2,
   "id": "innovative-syndrome",
   "metadata": {
    "execution": {
     "iopub.execute_input": "2021-08-30T05:30:08.389763Z",
     "iopub.status.busy": "2021-08-30T05:30:08.387804Z",
     "iopub.status.idle": "2021-08-30T05:30:08.548466Z",
     "shell.execute_reply": "2021-08-30T05:30:08.549600Z"
    },
    "papermill": {
     "duration": 0.189887,
     "end_time": "2021-08-30T05:30:08.550009",
     "exception": false,
     "start_time": "2021-08-30T05:30:08.360122",
     "status": "completed"
    },
    "tags": []
   },
   "outputs": [],
   "source": [
    "timestamps = pd.read_sql(\"select distinct record_time from EBAY_TOP_BERLIN order by record_time desc limit 2\", sqlite3.connect(\"UsedObjects.db\"))"
   ]
  },
  {
   "cell_type": "code",
   "execution_count": 3,
   "id": "periodic-identification",
   "metadata": {
    "execution": {
     "iopub.execute_input": "2021-08-30T05:30:08.618353Z",
     "iopub.status.busy": "2021-08-30T05:30:08.613226Z",
     "iopub.status.idle": "2021-08-30T05:30:08.633946Z",
     "shell.execute_reply": "2021-08-30T05:30:08.635208Z"
    },
    "papermill": {
     "duration": 0.064909,
     "end_time": "2021-08-30T05:30:08.635661",
     "exception": false,
     "start_time": "2021-08-30T05:30:08.570752",
     "status": "completed"
    },
    "tags": []
   },
   "outputs": [
    {
     "data": {
      "text/html": [
       "<div>\n",
       "<style scoped>\n",
       "    .dataframe tbody tr th:only-of-type {\n",
       "        vertical-align: middle;\n",
       "    }\n",
       "\n",
       "    .dataframe tbody tr th {\n",
       "        vertical-align: top;\n",
       "    }\n",
       "\n",
       "    .dataframe thead th {\n",
       "        text-align: right;\n",
       "    }\n",
       "</style>\n",
       "<table border=\"1\" class=\"dataframe\">\n",
       "  <thead>\n",
       "    <tr style=\"text-align: right;\">\n",
       "      <th></th>\n",
       "      <th>RECORD_TIME</th>\n",
       "    </tr>\n",
       "  </thead>\n",
       "  <tbody>\n",
       "    <tr>\n",
       "      <th>0</th>\n",
       "      <td>2021-08-30 07:30</td>\n",
       "    </tr>\n",
       "    <tr>\n",
       "      <th>1</th>\n",
       "      <td>2021-08-30 07:00</td>\n",
       "    </tr>\n",
       "  </tbody>\n",
       "</table>\n",
       "</div>"
      ],
      "text/plain": [
       "        RECORD_TIME\n",
       "0  2021-08-30 07:30\n",
       "1  2021-08-30 07:00"
      ]
     },
     "execution_count": 3,
     "metadata": {},
     "output_type": "execute_result"
    }
   ],
   "source": [
    "timestamps"
   ]
  },
  {
   "cell_type": "code",
   "execution_count": 4,
   "id": "alternate-victory",
   "metadata": {
    "execution": {
     "iopub.execute_input": "2021-08-30T05:30:08.688939Z",
     "iopub.status.busy": "2021-08-30T05:30:08.686577Z",
     "iopub.status.idle": "2021-08-30T05:30:08.929774Z",
     "shell.execute_reply": "2021-08-30T05:30:08.930992Z"
    },
    "papermill": {
     "duration": 0.273618,
     "end_time": "2021-08-30T05:30:08.931391",
     "exception": false,
     "start_time": "2021-08-30T05:30:08.657773",
     "status": "completed"
    },
    "tags": []
   },
   "outputs": [],
   "source": [
    "df = pd.read_sql(\"select * from EBAY_TOP_BERLIN where record_time in (select distinct record_time from EBAY_TOP_BERLIN order by record_time desc limit 2)\", sqlite3.connect(\"UsedObjects.db\"))"
   ]
  },
  {
   "cell_type": "code",
   "execution_count": 5,
   "id": "popular-active",
   "metadata": {
    "execution": {
     "iopub.execute_input": "2021-08-30T05:30:09.010268Z",
     "iopub.status.busy": "2021-08-30T05:30:08.999359Z",
     "iopub.status.idle": "2021-08-30T05:30:09.026888Z",
     "shell.execute_reply": "2021-08-30T05:30:09.028341Z"
    },
    "papermill": {
     "duration": 0.07544,
     "end_time": "2021-08-30T05:30:09.028783",
     "exception": false,
     "start_time": "2021-08-30T05:30:08.953343",
     "status": "completed"
    },
    "tags": []
   },
   "outputs": [],
   "source": [
    "df_pivot = df.pivot_table(index=\"PRODUCT\", columns = \"RECORD_TIME\", values = \"LISTING_COUNT\")"
   ]
  },
  {
   "cell_type": "code",
   "execution_count": 6,
   "id": "union-huntington",
   "metadata": {
    "execution": {
     "iopub.execute_input": "2021-08-30T05:30:09.084700Z",
     "iopub.status.busy": "2021-08-30T05:30:09.082606Z",
     "iopub.status.idle": "2021-08-30T05:30:09.087958Z",
     "shell.execute_reply": "2021-08-30T05:30:09.089229Z"
    },
    "papermill": {
     "duration": 0.040671,
     "end_time": "2021-08-30T05:30:09.089661",
     "exception": false,
     "start_time": "2021-08-30T05:30:09.048990",
     "status": "completed"
    },
    "tags": []
   },
   "outputs": [],
   "source": [
    "df_pivot.columns = [\"stamp_1\", \"stamp_2\"]\n",
    "df_pivot_diff = df_pivot.diff(axis=1)"
   ]
  },
  {
   "cell_type": "code",
   "execution_count": 7,
   "id": "fifth-motion",
   "metadata": {
    "execution": {
     "iopub.execute_input": "2021-08-30T05:30:09.143514Z",
     "iopub.status.busy": "2021-08-30T05:30:09.141139Z",
     "iopub.status.idle": "2021-08-30T05:30:10.616803Z",
     "shell.execute_reply": "2021-08-30T05:30:10.617999Z"
    },
    "papermill": {
     "duration": 1.508316,
     "end_time": "2021-08-30T05:30:10.618428",
     "exception": false,
     "start_time": "2021-08-30T05:30:09.110112",
     "status": "completed"
    },
    "tags": []
   },
   "outputs": [
    {
     "data": {
      "text/plain": [
       "<AxesSubplot:ylabel='PRODUCT'>"
      ]
     },
     "execution_count": 7,
     "metadata": {},
     "output_type": "execute_result"
    },
    {
     "data": {
      "image/png": "[encoded data removed]",
      "text/plain": [
       "<Figure size 432x288 with 1 Axes>"
      ]
     },
     "metadata": {
      "needs_background": "light"
     },
     "output_type": "display_data"
    }
   ],
   "source": [
    "df_pivot_diff.sort_values(\"stamp_2\", ascending = False)[\"stamp_2\"].head(10).plot.barh()"
   ]
  },
  {
   "cell_type": "code",
   "execution_count": null,
   "id": "extra-executive",
   "metadata": {
    "papermill": {
     "duration": 0.022261,
     "end_time": "2021-08-30T05:30:10.664566",
     "exception": false,
     "start_time": "2021-08-30T05:30:10.642305",
     "status": "completed"
    },
    "tags": []
   },
   "outputs": [],
   "source": []
  }
 ],
 "metadata": {
  "kernelspec": {
   "display_name": "Python 3",
   "language": "python",
   "name": "python3"
  },
  "language_info": {
   "codemirror_mode": {
    "name": "ipython",
    "version": 3
   },
   "file_extension": ".py",
   "mimetype": "text/x-python",
   "name": "python",
   "nbconvert_exporter": "python",
   "pygments_lexer": "ipython3",
   "version": "3.9.5"
  },
  "papermill": {
   "default_parameters": {},
   "duration": 6.818232,
   "end_time": "2021-08-30T05:30:11.903627",
   "environment_variables": {},
   "exception": null,
   "input_path": "eBay_Overview.ipynb",
   "output_path": "eBay_Overview.ipynb",
   "parameters": {},
   "start_time": "2021-08-30T05:30:05.085395",
   "version": "2.3.3"
  }
 },
 "nbformat": 4,
 "nbformat_minor": 5
}