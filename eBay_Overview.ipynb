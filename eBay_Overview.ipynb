{
 "cells": [
  {
   "cell_type": "code",
   "execution_count": 1,
   "id": "reverse-picking",
   "metadata": {
    "execution": {
     "iopub.execute_input": "2021-10-07T15:30:06.891958Z",
     "iopub.status.busy": "2021-10-07T15:30:06.889931Z",
     "iopub.status.idle": "2021-10-07T15:30:07.702143Z",
     "shell.execute_reply": "2021-10-07T15:30:07.703460Z"
    },
    "papermill": {
     "duration": 0.861696,
     "end_time": "2021-10-07T15:30:07.704129",
     "exception": false,
     "start_time": "2021-10-07T15:30:06.842433",
     "status": "completed"
    },
    "tags": []
   },
   "outputs": [],
   "source": [
    "import pandas as pd\n",
    "import sqlite3"
   ]
  },
  {
   "cell_type": "code",
   "execution_count": 2,
   "id": "innovative-syndrome",
   "metadata": {
    "execution": {
     "iopub.execute_input": "2021-10-07T15:30:07.754864Z",
     "iopub.status.busy": "2021-10-07T15:30:07.752886Z",
     "iopub.status.idle": "2021-10-07T15:30:08.225046Z",
     "shell.execute_reply": "2021-10-07T15:30:08.226237Z"
    },
    "papermill": {
     "duration": 0.502388,
     "end_time": "2021-10-07T15:30:08.226631",
     "exception": false,
     "start_time": "2021-10-07T15:30:07.724243",
     "status": "completed"
    },
    "tags": []
   },
   "outputs": [],
   "source": [
    "timestamps = pd.read_sql(\"select distinct record_time from EBAY_TOP_BERLIN order by record_time desc limit 2\", sqlite3.connect(\"UsedObjects.db\"))"
   ]
  },
  {
   "cell_type": "code",
   "execution_count": 3,
   "id": "periodic-identification",
   "metadata": {
    "execution": {
     "iopub.execute_input": "2021-10-07T15:30:08.296661Z",
     "iopub.status.busy": "2021-10-07T15:30:08.294573Z",
     "iopub.status.idle": "2021-10-07T15:30:08.315203Z",
     "shell.execute_reply": "2021-10-07T15:30:08.316497Z"
    },
    "papermill": {
     "duration": 0.067786,
     "end_time": "2021-10-07T15:30:08.316907",
     "exception": false,
     "start_time": "2021-10-07T15:30:08.249121",
     "status": "completed"
    },
    "tags": []
   },
   "outputs": [
    {
     "data": {
      "text/html": [
       "<div>\n",
       "<style scoped>\n",
       "    .dataframe tbody tr th:only-of-type {\n",
       "        vertical-align: middle;\n",
       "    }\n",
       "\n",
       "    .dataframe tbody tr th {\n",
       "        vertical-align: top;\n",
       "    }\n",
       "\n",
       "    .dataframe thead th {\n",
       "        text-align: right;\n",
       "    }\n",
       "</style>\n",
       "<table border=\"1\" class=\"dataframe\">\n",
       "  <thead>\n",
       "    <tr style=\"text-align: right;\">\n",
       "      <th></th>\n",
       "      <th>RECORD_TIME</th>\n",
       "    </tr>\n",
       "  </thead>\n",
       "  <tbody>\n",
       "    <tr>\n",
       "      <th>0</th>\n",
       "      <td>2021-10-07 17:30</td>\n",
       "    </tr>\n",
       "    <tr>\n",
       "      <th>1</th>\n",
       "      <td>2021-10-07 17:00</td>\n",
       "    </tr>\n",
       "  </tbody>\n",
       "</table>\n",
       "</div>"
      ],
      "text/plain": [
       "        RECORD_TIME\n",
       "0  2021-10-07 17:30\n",
       "1  2021-10-07 17:00"
      ]
     },
     "execution_count": 3,
     "metadata": {},
     "output_type": "execute_result"
    }
   ],
   "source": [
    "timestamps"
   ]
  },
  {
   "cell_type": "code",
   "execution_count": 4,
   "id": "alternate-victory",
   "metadata": {
    "execution": {
     "iopub.execute_input": "2021-10-07T15:30:08.376801Z",
     "iopub.status.busy": "2021-10-07T15:30:08.374897Z",
     "iopub.status.idle": "2021-10-07T15:30:09.063842Z",
     "shell.execute_reply": "2021-10-07T15:30:09.065106Z"
    },
    "papermill": {
     "duration": 0.722275,
     "end_time": "2021-10-07T15:30:09.065504",
     "exception": false,
     "start_time": "2021-10-07T15:30:08.343229",
     "status": "completed"
    },
    "tags": []
   },
   "outputs": [],
   "source": [
    "df = pd.read_sql(\"select * from EBAY_TOP_BERLIN where record_time in (select distinct record_time from EBAY_TOP_BERLIN order by record_time desc limit 2)\", sqlite3.connect(\"UsedObjects.db\"))"
   ]
  },
  {
   "cell_type": "code",
   "execution_count": 5,
   "id": "popular-active",
   "metadata": {
    "execution": {
     "iopub.execute_input": "2021-10-07T15:30:09.135057Z",
     "iopub.status.busy": "2021-10-07T15:30:09.122553Z",
     "iopub.status.idle": "2021-10-07T15:30:09.151095Z",
     "shell.execute_reply": "2021-10-07T15:30:09.152481Z"
    },
    "papermill": {
     "duration": 0.067169,
     "end_time": "2021-10-07T15:30:09.152920",
     "exception": false,
     "start_time": "2021-10-07T15:30:09.085751",
     "status": "completed"
    },
    "tags": []
   },
   "outputs": [],
   "source": [
    "df_pivot = df.pivot_table(index=\"PRODUCT\", columns = \"RECORD_TIME\", values = \"LISTING_COUNT\")"
   ]
  },
  {
   "cell_type": "code",
   "execution_count": 6,
   "id": "union-huntington",
   "metadata": {
    "execution": {
     "iopub.execute_input": "2021-10-07T15:30:09.210361Z",
     "iopub.status.busy": "2021-10-07T15:30:09.207924Z",
     "iopub.status.idle": "2021-10-07T15:30:09.213771Z",
     "shell.execute_reply": "2021-10-07T15:30:09.215103Z"
    },
    "papermill": {
     "duration": 0.042233,
     "end_time": "2021-10-07T15:30:09.215524",
     "exception": false,
     "start_time": "2021-10-07T15:30:09.173291",
     "status": "completed"
    },
    "tags": []
   },
   "outputs": [],
   "source": [
    "df_pivot.columns = [\"stamp_1\", \"stamp_2\"]\n",
    "df_pivot_diff = df_pivot.diff(axis=1)"
   ]
  },
  {
   "cell_type": "code",
   "execution_count": 7,
   "id": "fifth-motion",
   "metadata": {
    "execution": {
     "iopub.execute_input": "2021-10-07T15:30:09.269792Z",
     "iopub.status.busy": "2021-10-07T15:30:09.267467Z",
     "iopub.status.idle": "2021-10-07T15:30:10.747570Z",
     "shell.execute_reply": "2021-10-07T15:30:10.748756Z"
    },
    "papermill": {
     "duration": 1.513165,
     "end_time": "2021-10-07T15:30:10.749181",
     "exception": false,
     "start_time": "2021-10-07T15:30:09.236016",
     "status": "completed"
    },
    "tags": []
   },
   "outputs": [
    {
     "data": {
      "text/plain": [
       "<AxesSubplot:ylabel='PRODUCT'>"
      ]
     },
     "execution_count": 7,
     "metadata": {},
     "output_type": "execute_result"
    },
    {
     "data": {
      "image/png": "[encoded data removed]",
      "text/plain": [
       "<Figure size 432x288 with 1 Axes>"
      ]
     },
     "metadata": {
      "needs_background": "light"
     },
     "output_type": "display_data"
    }
   ],
   "source": [
    "df_pivot_diff.sort_values(\"stamp_2\", ascending = False)[\"stamp_2\"].head(10).plot.barh()"
   ]
  },
  {
   "cell_type": "code",
   "execution_count": null,
   "id": "extra-executive",
   "metadata": {
    "papermill": {
     "duration": 0.022049,
     "end_time": "2021-10-07T15:30:10.798046",
     "exception": false,
     "start_time": "2021-10-07T15:30:10.775997",
     "status": "completed"
    },
    "tags": []
   },
   "outputs": [],
   "source": []
  }
 ],
 "metadata": {
  "kernelspec": {
   "display_name": "Python 3",
   "language": "python",
   "name": "python3"
  },
  "language_info": {
   "codemirror_mode": {
    "name": "ipython",
    "version": 3
   },
   "file_extension": ".py",
   "mimetype": "text/x-python",
   "name": "python",
   "nbconvert_exporter": "python",
   "pygments_lexer": "ipython3",
   "version": "3.9.5"
  },
  "papermill": {
   "default_parameters": {},
   "duration": 7.84369,
   "end_time": "2021-10-07T15:30:12.258624",
   "environment_variables": {},
   "exception": null,
   "input_path": "eBay_Overview.ipynb",
   "output_path": "eBay_Overview.ipynb",
   "parameters": {},
   "start_time": "2021-10-07T15:30:04.414934",
   "version": "2.3.3"
  }
 },
 "nbformat": 4,
 "nbformat_minor": 5
}