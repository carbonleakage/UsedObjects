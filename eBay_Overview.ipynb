{
 "cells": [
  {
   "cell_type": "code",
   "execution_count": 1,
   "id": "reverse-picking",
   "metadata": {
    "execution": {
     "iopub.execute_input": "2021-11-30T15:00:07.581239Z",
     "iopub.status.busy": "2021-11-30T15:00:07.577916Z",
     "iopub.status.idle": "2021-11-30T15:00:08.540175Z",
     "shell.execute_reply": "2021-11-30T15:00:08.538386Z"
    },
    "papermill": {
     "duration": 1.010092,
     "end_time": "2021-11-30T15:00:08.540659",
     "exception": false,
     "start_time": "2021-11-30T15:00:07.530567",
     "status": "completed"
    },
    "tags": []
   },
   "outputs": [],
   "source": [
    "import pandas as pd\n",
    "import sqlite3"
   ]
  },
  {
   "cell_type": "code",
   "execution_count": 2,
   "id": "innovative-syndrome",
   "metadata": {
    "execution": {
     "iopub.execute_input": "2021-11-30T15:00:08.603558Z",
     "iopub.status.busy": "2021-11-30T15:00:08.601429Z",
     "iopub.status.idle": "2021-11-30T15:00:09.551548Z",
     "shell.execute_reply": "2021-11-30T15:00:09.552836Z"
    },
    "papermill": {
     "duration": 0.983933,
     "end_time": "2021-11-30T15:00:09.553259",
     "exception": false,
     "start_time": "2021-11-30T15:00:08.569326",
     "status": "completed"
    },
    "tags": []
   },
   "outputs": [],
   "source": [
    "timestamps = pd.read_sql(\"select distinct record_time from EBAY_TOP_BERLIN order by record_time desc limit 2\", sqlite3.connect(\"UsedObjects.db\"))"
   ]
  },
  {
   "cell_type": "code",
   "execution_count": 3,
   "id": "periodic-identification",
   "metadata": {
    "execution": {
     "iopub.execute_input": "2021-11-30T15:00:09.627738Z",
     "iopub.status.busy": "2021-11-30T15:00:09.621706Z",
     "iopub.status.idle": "2021-11-30T15:00:09.644482Z",
     "shell.execute_reply": "2021-11-30T15:00:09.645953Z"
    },
    "papermill": {
     "duration": 0.072566,
     "end_time": "2021-11-30T15:00:09.646440",
     "exception": false,
     "start_time": "2021-11-30T15:00:09.573874",
     "status": "completed"
    },
    "tags": []
   },
   "outputs": [
    {
     "data": {
      "text/html": [
       "<div>\n",
       "<style scoped>\n",
       "    .dataframe tbody tr th:only-of-type {\n",
       "        vertical-align: middle;\n",
       "    }\n",
       "\n",
       "    .dataframe tbody tr th {\n",
       "        vertical-align: top;\n",
       "    }\n",
       "\n",
       "    .dataframe thead th {\n",
       "        text-align: right;\n",
       "    }\n",
       "</style>\n",
       "<table border=\"1\" class=\"dataframe\">\n",
       "  <thead>\n",
       "    <tr style=\"text-align: right;\">\n",
       "      <th></th>\n",
       "      <th>RECORD_TIME</th>\n",
       "    </tr>\n",
       "  </thead>\n",
       "  <tbody>\n",
       "    <tr>\n",
       "      <th>0</th>\n",
       "      <td>2021-11-30 16:00</td>\n",
       "    </tr>\n",
       "    <tr>\n",
       "      <th>1</th>\n",
       "      <td>2021-11-30 15:30</td>\n",
       "    </tr>\n",
       "  </tbody>\n",
       "</table>\n",
       "</div>"
      ],
      "text/plain": [
       "        RECORD_TIME\n",
       "0  2021-11-30 16:00\n",
       "1  2021-11-30 15:30"
      ]
     },
     "execution_count": 3,
     "metadata": {},
     "output_type": "execute_result"
    }
   ],
   "source": [
    "timestamps"
   ]
  },
  {
   "cell_type": "code",
   "execution_count": 4,
   "id": "alternate-victory",
   "metadata": {
    "execution": {
     "iopub.execute_input": "2021-11-30T15:00:09.702467Z",
     "iopub.status.busy": "2021-11-30T15:00:09.700145Z",
     "iopub.status.idle": "2021-11-30T15:00:11.126364Z",
     "shell.execute_reply": "2021-11-30T15:00:11.127994Z"
    },
    "papermill": {
     "duration": 1.460747,
     "end_time": "2021-11-30T15:00:11.128495",
     "exception": false,
     "start_time": "2021-11-30T15:00:09.667748",
     "status": "completed"
    },
    "tags": []
   },
   "outputs": [],
   "source": [
    "df = pd.read_sql(\"select * from EBAY_TOP_BERLIN where record_time in (select distinct record_time from EBAY_TOP_BERLIN order by record_time desc limit 2)\", sqlite3.connect(\"UsedObjects.db\"))"
   ]
  },
  {
   "cell_type": "code",
   "execution_count": 5,
   "id": "popular-active",
   "metadata": {
    "execution": {
     "iopub.execute_input": "2021-11-30T15:00:11.204027Z",
     "iopub.status.busy": "2021-11-30T15:00:11.191568Z",
     "iopub.status.idle": "2021-11-30T15:00:11.223736Z",
     "shell.execute_reply": "2021-11-30T15:00:11.225164Z"
    },
    "papermill": {
     "duration": 0.075275,
     "end_time": "2021-11-30T15:00:11.225642",
     "exception": false,
     "start_time": "2021-11-30T15:00:11.150367",
     "status": "completed"
    },
    "tags": []
   },
   "outputs": [],
   "source": [
    "df_pivot = df.pivot_table(index=\"PRODUCT\", columns = \"RECORD_TIME\", values = \"LISTING_COUNT\")"
   ]
  },
  {
   "cell_type": "code",
   "execution_count": 6,
   "id": "union-huntington",
   "metadata": {
    "execution": {
     "iopub.execute_input": "2021-11-30T15:00:11.286708Z",
     "iopub.status.busy": "2021-11-30T15:00:11.284341Z",
     "iopub.status.idle": "2021-11-30T15:00:11.291366Z",
     "shell.execute_reply": "2021-11-30T15:00:11.293214Z"
    },
    "papermill": {
     "duration": 0.047696,
     "end_time": "2021-11-30T15:00:11.293727",
     "exception": false,
     "start_time": "2021-11-30T15:00:11.246031",
     "status": "completed"
    },
    "tags": []
   },
   "outputs": [],
   "source": [
    "df_pivot.columns = [\"stamp_1\", \"stamp_2\"]\n",
    "df_pivot_diff = df_pivot.diff(axis=1)"
   ]
  },
  {
   "cell_type": "code",
   "execution_count": 7,
   "id": "fifth-motion",
   "metadata": {
    "execution": {
     "iopub.execute_input": "2021-11-30T15:00:11.353213Z",
     "iopub.status.busy": "2021-11-30T15:00:11.350677Z",
     "iopub.status.idle": "2021-11-30T15:00:13.314451Z",
     "shell.execute_reply": "2021-11-30T15:00:13.316021Z"
    },
    "papermill": {
     "duration": 1.999619,
     "end_time": "2021-11-30T15:00:13.316526",
     "exception": false,
     "start_time": "2021-11-30T15:00:11.316907",
     "status": "completed"
    },
    "tags": []
   },
   "outputs": [
    {
     "data": {
      "text/plain": [
       "<AxesSubplot:ylabel='PRODUCT'>"
      ]
     },
     "execution_count": 7,
     "metadata": {},
     "output_type": "execute_result"
    },
    {
     "data": {
      "image/png": "[encoded data removed]",
      "text/plain": [
       "<Figure size 432x288 with 1 Axes>"
      ]
     },
     "metadata": {
      "needs_background": "light"
     },
     "output_type": "display_data"
    }
   ],
   "source": [
    "df_pivot_diff.sort_values(\"stamp_2\", ascending = False)[\"stamp_2\"].head(10).plot.barh()"
   ]
  },
  {
   "cell_type": "code",
   "execution_count": null,
   "id": "extra-executive",
   "metadata": {
    "papermill": {
     "duration": 0.022078,
     "end_time": "2021-11-30T15:00:13.363812",
     "exception": false,
     "start_time": "2021-11-30T15:00:13.341734",
     "status": "completed"
    },
    "tags": []
   },
   "outputs": [],
   "source": []
  }
 ],
 "metadata": {
  "kernelspec": {
   "display_name": "Python 3",
   "language": "python",
   "name": "python3"
  },
  "language_info": {
   "codemirror_mode": {
    "name": "ipython",
    "version": 3
   },
   "file_extension": ".py",
   "mimetype": "text/x-python",
   "name": "python",
   "nbconvert_exporter": "python",
   "pygments_lexer": "ipython3",
   "version": "3.9.5"
  },
  "papermill": {
   "default_parameters": {},
   "duration": 9.928437,
   "end_time": "2021-11-30T15:00:14.731383",
   "environment_variables": {},
   "exception": null,
   "input_path": "eBay_Overview.ipynb",
   "output_path": "eBay_Overview.ipynb",
   "parameters": {},
   "start_time": "2021-11-30T15:00:04.802946",
   "version": "2.3.3"
  }
 },
 "nbformat": 4,
 "nbformat_minor": 5
}