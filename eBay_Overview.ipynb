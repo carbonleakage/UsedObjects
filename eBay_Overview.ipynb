{
 "cells": [
  {
   "cell_type": "code",
   "execution_count": 1,
   "id": "reverse-picking",
   "metadata": {
    "execution": {
     "iopub.execute_input": "2021-09-22T01:00:07.046939Z",
     "iopub.status.busy": "2021-09-22T01:00:07.044924Z",
     "iopub.status.idle": "2021-09-22T01:00:07.848860Z",
     "shell.execute_reply": "2021-09-22T01:00:07.850162Z"
    },
    "papermill": {
     "duration": 0.855133,
     "end_time": "2021-09-22T01:00:07.850835",
     "exception": false,
     "start_time": "2021-09-22T01:00:06.995702",
     "status": "completed"
    },
    "tags": []
   },
   "outputs": [],
   "source": [
    "import pandas as pd\n",
    "import sqlite3"
   ]
  },
  {
   "cell_type": "code",
   "execution_count": 2,
   "id": "innovative-syndrome",
   "metadata": {
    "execution": {
     "iopub.execute_input": "2021-09-22T01:00:07.901458Z",
     "iopub.status.busy": "2021-09-22T01:00:07.899201Z",
     "iopub.status.idle": "2021-09-22T01:00:08.252618Z",
     "shell.execute_reply": "2021-09-22T01:00:08.253795Z"
    },
    "papermill": {
     "duration": 0.383299,
     "end_time": "2021-09-22T01:00:08.254184",
     "exception": false,
     "start_time": "2021-09-22T01:00:07.870885",
     "status": "completed"
    },
    "tags": []
   },
   "outputs": [],
   "source": [
    "timestamps = pd.read_sql(\"select distinct record_time from EBAY_TOP_BERLIN order by record_time desc limit 2\", sqlite3.connect(\"UsedObjects.db\"))"
   ]
  },
  {
   "cell_type": "code",
   "execution_count": 3,
   "id": "periodic-identification",
   "metadata": {
    "execution": {
     "iopub.execute_input": "2021-09-22T01:00:08.321501Z",
     "iopub.status.busy": "2021-09-22T01:00:08.319503Z",
     "iopub.status.idle": "2021-09-22T01:00:08.338987Z",
     "shell.execute_reply": "2021-09-22T01:00:08.340358Z"
    },
    "papermill": {
     "duration": 0.065125,
     "end_time": "2021-09-22T01:00:08.340828",
     "exception": false,
     "start_time": "2021-09-22T01:00:08.275703",
     "status": "completed"
    },
    "tags": []
   },
   "outputs": [
    {
     "data": {
      "text/html": [
       "<div>\n",
       "<style scoped>\n",
       "    .dataframe tbody tr th:only-of-type {\n",
       "        vertical-align: middle;\n",
       "    }\n",
       "\n",
       "    .dataframe tbody tr th {\n",
       "        vertical-align: top;\n",
       "    }\n",
       "\n",
       "    .dataframe thead th {\n",
       "        text-align: right;\n",
       "    }\n",
       "</style>\n",
       "<table border=\"1\" class=\"dataframe\">\n",
       "  <thead>\n",
       "    <tr style=\"text-align: right;\">\n",
       "      <th></th>\n",
       "      <th>RECORD_TIME</th>\n",
       "    </tr>\n",
       "  </thead>\n",
       "  <tbody>\n",
       "    <tr>\n",
       "      <th>0</th>\n",
       "      <td>2021-09-22 03:00</td>\n",
       "    </tr>\n",
       "    <tr>\n",
       "      <th>1</th>\n",
       "      <td>2021-09-22 02:30</td>\n",
       "    </tr>\n",
       "  </tbody>\n",
       "</table>\n",
       "</div>"
      ],
      "text/plain": [
       "        RECORD_TIME\n",
       "0  2021-09-22 03:00\n",
       "1  2021-09-22 02:30"
      ]
     },
     "execution_count": 3,
     "metadata": {},
     "output_type": "execute_result"
    }
   ],
   "source": [
    "timestamps"
   ]
  },
  {
   "cell_type": "code",
   "execution_count": 4,
   "id": "alternate-victory",
   "metadata": {
    "execution": {
     "iopub.execute_input": "2021-09-22T01:00:08.392940Z",
     "iopub.status.busy": "2021-09-22T01:00:08.390734Z",
     "iopub.status.idle": "2021-09-22T01:00:08.908175Z",
     "shell.execute_reply": "2021-09-22T01:00:08.909406Z"
    },
    "papermill": {
     "duration": 0.547619,
     "end_time": "2021-09-22T01:00:08.909800",
     "exception": false,
     "start_time": "2021-09-22T01:00:08.362181",
     "status": "completed"
    },
    "tags": []
   },
   "outputs": [],
   "source": [
    "df = pd.read_sql(\"select * from EBAY_TOP_BERLIN where record_time in (select distinct record_time from EBAY_TOP_BERLIN order by record_time desc limit 2)\", sqlite3.connect(\"UsedObjects.db\"))"
   ]
  },
  {
   "cell_type": "code",
   "execution_count": 5,
   "id": "popular-active",
   "metadata": {
    "execution": {
     "iopub.execute_input": "2021-09-22T01:00:08.979086Z",
     "iopub.status.busy": "2021-09-22T01:00:08.966932Z",
     "iopub.status.idle": "2021-09-22T01:00:08.995039Z",
     "shell.execute_reply": "2021-09-22T01:00:08.996425Z"
    },
    "papermill": {
     "duration": 0.067041,
     "end_time": "2021-09-22T01:00:08.996860",
     "exception": false,
     "start_time": "2021-09-22T01:00:08.929819",
     "status": "completed"
    },
    "tags": []
   },
   "outputs": [],
   "source": [
    "df_pivot = df.pivot_table(index=\"PRODUCT\", columns = \"RECORD_TIME\", values = \"LISTING_COUNT\")"
   ]
  },
  {
   "cell_type": "code",
   "execution_count": 6,
   "id": "union-huntington",
   "metadata": {
    "execution": {
     "iopub.execute_input": "2021-09-22T01:00:09.053620Z",
     "iopub.status.busy": "2021-09-22T01:00:09.051199Z",
     "iopub.status.idle": "2021-09-22T01:00:09.057356Z",
     "shell.execute_reply": "2021-09-22T01:00:09.058702Z"
    },
    "papermill": {
     "duration": 0.042083,
     "end_time": "2021-09-22T01:00:09.059194",
     "exception": false,
     "start_time": "2021-09-22T01:00:09.017111",
     "status": "completed"
    },
    "tags": []
   },
   "outputs": [],
   "source": [
    "df_pivot.columns = [\"stamp_1\", \"stamp_2\"]\n",
    "df_pivot_diff = df_pivot.diff(axis=1)"
   ]
  },
  {
   "cell_type": "code",
   "execution_count": 7,
   "id": "fifth-motion",
   "metadata": {
    "execution": {
     "iopub.execute_input": "2021-09-22T01:00:09.112896Z",
     "iopub.status.busy": "2021-09-22T01:00:09.110603Z",
     "iopub.status.idle": "2021-09-22T01:00:10.594765Z",
     "shell.execute_reply": "2021-09-22T01:00:10.593377Z"
    },
    "papermill": {
     "duration": 1.515647,
     "end_time": "2021-09-22T01:00:10.595214",
     "exception": false,
     "start_time": "2021-09-22T01:00:09.079567",
     "status": "completed"
    },
    "tags": []
   },
   "outputs": [
    {
     "data": {
      "text/plain": [
       "<AxesSubplot:ylabel='PRODUCT'>"
      ]
     },
     "execution_count": 7,
     "metadata": {},
     "output_type": "execute_result"
    },
    {
     "data": {
      "image/png": "[encoded data removed]",
      "text/plain": [
       "<Figure size 432x288 with 1 Axes>"
      ]
     },
     "metadata": {
      "needs_background": "light"
     },
     "output_type": "display_data"
    }
   ],
   "source": [
    "df_pivot_diff.sort_values(\"stamp_2\", ascending = False)[\"stamp_2\"].head(10).plot.barh()"
   ]
  },
  {
   "cell_type": "code",
   "execution_count": null,
   "id": "extra-executive",
   "metadata": {
    "papermill": {
     "duration": 0.022154,
     "end_time": "2021-09-22T01:00:10.642065",
     "exception": false,
     "start_time": "2021-09-22T01:00:10.619911",
     "status": "completed"
    },
    "tags": []
   },
   "outputs": [],
   "source": []
  }
 ],
 "metadata": {
  "kernelspec": {
   "display_name": "Python 3",
   "language": "python",
   "name": "python3"
  },
  "language_info": {
   "codemirror_mode": {
    "name": "ipython",
    "version": 3
   },
   "file_extension": ".py",
   "mimetype": "text/x-python",
   "name": "python",
   "nbconvert_exporter": "python",
   "pygments_lexer": "ipython3",
   "version": "3.9.5"
  },
  "papermill": {
   "default_parameters": {},
   "duration": 6.691259,
   "end_time": "2021-09-22T01:00:11.284388",
   "environment_variables": {},
   "exception": null,
   "input_path": "eBay_Overview.ipynb",
   "output_path": "eBay_Overview.ipynb",
   "parameters": {},
   "start_time": "2021-09-22T01:00:04.593129",
   "version": "2.3.3"
  }
 },
 "nbformat": 4,
 "nbformat_minor": 5
}