{
 "cells": [
  {
   "cell_type": "code",
   "execution_count": 1,
   "id": "reverse-picking",
   "metadata": {
    "execution": {
     "iopub.execute_input": "2021-11-21T10:30:08.128944Z",
     "iopub.status.busy": "2021-11-21T10:30:08.126533Z",
     "iopub.status.idle": "2021-11-21T10:30:09.080255Z",
     "shell.execute_reply": "2021-11-21T10:30:09.081854Z"
    },
    "papermill": {
     "duration": 1.003641,
     "end_time": "2021-11-21T10:30:09.082588",
     "exception": false,
     "start_time": "2021-11-21T10:30:08.078947",
     "status": "completed"
    },
    "tags": []
   },
   "outputs": [],
   "source": [
    "import pandas as pd\n",
    "import sqlite3"
   ]
  },
  {
   "cell_type": "code",
   "execution_count": 2,
   "id": "innovative-syndrome",
   "metadata": {
    "execution": {
     "iopub.execute_input": "2021-11-21T10:30:09.144343Z",
     "iopub.status.busy": "2021-11-21T10:30:09.142130Z",
     "iopub.status.idle": "2021-11-21T10:30:10.025857Z",
     "shell.execute_reply": "2021-11-21T10:30:10.027434Z"
    },
    "papermill": {
     "duration": 0.917437,
     "end_time": "2021-11-21T10:30:10.027934",
     "exception": false,
     "start_time": "2021-11-21T10:30:09.110497",
     "status": "completed"
    },
    "tags": []
   },
   "outputs": [],
   "source": [
    "timestamps = pd.read_sql(\"select distinct record_time from EBAY_TOP_BERLIN order by record_time desc limit 2\", sqlite3.connect(\"UsedObjects.db\"))"
   ]
  },
  {
   "cell_type": "code",
   "execution_count": 3,
   "id": "periodic-identification",
   "metadata": {
    "execution": {
     "iopub.execute_input": "2021-11-21T10:30:10.102541Z",
     "iopub.status.busy": "2021-11-21T10:30:10.099968Z",
     "iopub.status.idle": "2021-11-21T10:30:10.122659Z",
     "shell.execute_reply": "2021-11-21T10:30:10.124154Z"
    },
    "papermill": {
     "duration": 0.076166,
     "end_time": "2021-11-21T10:30:10.124638",
     "exception": false,
     "start_time": "2021-11-21T10:30:10.048472",
     "status": "completed"
    },
    "tags": []
   },
   "outputs": [
    {
     "data": {
      "text/html": [
       "<div>\n",
       "<style scoped>\n",
       "    .dataframe tbody tr th:only-of-type {\n",
       "        vertical-align: middle;\n",
       "    }\n",
       "\n",
       "    .dataframe tbody tr th {\n",
       "        vertical-align: top;\n",
       "    }\n",
       "\n",
       "    .dataframe thead th {\n",
       "        text-align: right;\n",
       "    }\n",
       "</style>\n",
       "<table border=\"1\" class=\"dataframe\">\n",
       "  <thead>\n",
       "    <tr style=\"text-align: right;\">\n",
       "      <th></th>\n",
       "      <th>RECORD_TIME</th>\n",
       "    </tr>\n",
       "  </thead>\n",
       "  <tbody>\n",
       "    <tr>\n",
       "      <th>0</th>\n",
       "      <td>2021-11-21 11:30</td>\n",
       "    </tr>\n",
       "    <tr>\n",
       "      <th>1</th>\n",
       "      <td>2021-11-21 11:00</td>\n",
       "    </tr>\n",
       "  </tbody>\n",
       "</table>\n",
       "</div>"
      ],
      "text/plain": [
       "        RECORD_TIME\n",
       "0  2021-11-21 11:30\n",
       "1  2021-11-21 11:00"
      ]
     },
     "execution_count": 3,
     "metadata": {},
     "output_type": "execute_result"
    }
   ],
   "source": [
    "timestamps"
   ]
  },
  {
   "cell_type": "code",
   "execution_count": 4,
   "id": "alternate-victory",
   "metadata": {
    "execution": {
     "iopub.execute_input": "2021-11-21T10:30:10.181701Z",
     "iopub.status.busy": "2021-11-21T10:30:10.179518Z",
     "iopub.status.idle": "2021-11-21T10:30:11.487487Z",
     "shell.execute_reply": "2021-11-21T10:30:11.491204Z"
    },
    "papermill": {
     "duration": 1.344757,
     "end_time": "2021-11-21T10:30:11.491843",
     "exception": false,
     "start_time": "2021-11-21T10:30:10.147086",
     "status": "completed"
    },
    "tags": []
   },
   "outputs": [],
   "source": [
    "df = pd.read_sql(\"select * from EBAY_TOP_BERLIN where record_time in (select distinct record_time from EBAY_TOP_BERLIN order by record_time desc limit 2)\", sqlite3.connect(\"UsedObjects.db\"))"
   ]
  },
  {
   "cell_type": "code",
   "execution_count": 5,
   "id": "popular-active",
   "metadata": {
    "execution": {
     "iopub.execute_input": "2021-11-21T10:30:11.560760Z",
     "iopub.status.busy": "2021-11-21T10:30:11.558358Z",
     "iopub.status.idle": "2021-11-21T10:30:11.591858Z",
     "shell.execute_reply": "2021-11-21T10:30:11.593212Z"
    },
    "papermill": {
     "duration": 0.078434,
     "end_time": "2021-11-21T10:30:11.593673",
     "exception": false,
     "start_time": "2021-11-21T10:30:11.515239",
     "status": "completed"
    },
    "tags": []
   },
   "outputs": [],
   "source": [
    "df_pivot = df.pivot_table(index=\"PRODUCT\", columns = \"RECORD_TIME\", values = \"LISTING_COUNT\")"
   ]
  },
  {
   "cell_type": "code",
   "execution_count": 6,
   "id": "union-huntington",
   "metadata": {
    "execution": {
     "iopub.execute_input": "2021-11-21T10:30:11.652654Z",
     "iopub.status.busy": "2021-11-21T10:30:11.650610Z",
     "iopub.status.idle": "2021-11-21T10:30:11.657237Z",
     "shell.execute_reply": "2021-11-21T10:30:11.655448Z"
    },
    "papermill": {
     "duration": 0.043376,
     "end_time": "2021-11-21T10:30:11.657608",
     "exception": false,
     "start_time": "2021-11-21T10:30:11.614232",
     "status": "completed"
    },
    "tags": []
   },
   "outputs": [],
   "source": [
    "df_pivot.columns = [\"stamp_1\", \"stamp_2\"]\n",
    "df_pivot_diff = df_pivot.diff(axis=1)"
   ]
  },
  {
   "cell_type": "code",
   "execution_count": 7,
   "id": "fifth-motion",
   "metadata": {
    "execution": {
     "iopub.execute_input": "2021-11-21T10:30:11.725755Z",
     "iopub.status.busy": "2021-11-21T10:30:11.715816Z",
     "iopub.status.idle": "2021-11-21T10:30:13.608849Z",
     "shell.execute_reply": "2021-11-21T10:30:13.610398Z"
    },
    "papermill": {
     "duration": 1.931716,
     "end_time": "2021-11-21T10:30:13.610895",
     "exception": false,
     "start_time": "2021-11-21T10:30:11.679179",
     "status": "completed"
    },
    "tags": []
   },
   "outputs": [
    {
     "data": {
      "text/plain": [
       "<AxesSubplot:ylabel='PRODUCT'>"
      ]
     },
     "execution_count": 7,
     "metadata": {},
     "output_type": "execute_result"
    },
    {
     "data": {
      "image/png": "[encoded data removed]",
      "text/plain": [
       "<Figure size 432x288 with 1 Axes>"
      ]
     },
     "metadata": {
      "needs_background": "light"
     },
     "output_type": "display_data"
    }
   ],
   "source": [
    "df_pivot_diff.sort_values(\"stamp_2\", ascending = False)[\"stamp_2\"].head(10).plot.barh()"
   ]
  },
  {
   "cell_type": "code",
   "execution_count": null,
   "id": "extra-executive",
   "metadata": {
    "papermill": {
     "duration": 0.024476,
     "end_time": "2021-11-21T10:30:13.659590",
     "exception": false,
     "start_time": "2021-11-21T10:30:13.635114",
     "status": "completed"
    },
    "tags": []
   },
   "outputs": [],
   "source": []
  }
 ],
 "metadata": {
  "kernelspec": {
   "display_name": "Python 3",
   "language": "python",
   "name": "python3"
  },
  "language_info": {
   "codemirror_mode": {
    "name": "ipython",
    "version": 3
   },
   "file_extension": ".py",
   "mimetype": "text/x-python",
   "name": "python",
   "nbconvert_exporter": "python",
   "pygments_lexer": "ipython3",
   "version": "3.9.5"
  },
  "papermill": {
   "default_parameters": {},
   "duration": 9.927145,
   "end_time": "2021-11-21T10:30:15.281062",
   "environment_variables": {},
   "exception": null,
   "input_path": "eBay_Overview.ipynb",
   "output_path": "eBay_Overview.ipynb",
   "parameters": {},
   "start_time": "2021-11-21T10:30:05.353917",
   "version": "2.3.3"
  }
 },
 "nbformat": 4,
 "nbformat_minor": 5
}