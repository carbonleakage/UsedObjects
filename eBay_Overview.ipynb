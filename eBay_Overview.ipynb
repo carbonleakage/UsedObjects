{
 "cells": [
  {
   "cell_type": "code",
   "execution_count": 1,
   "id": "reverse-picking",
   "metadata": {
    "execution": {
     "iopub.execute_input": "2021-08-25T09:30:07.192251Z",
     "iopub.status.busy": "2021-08-25T09:30:07.190290Z",
     "iopub.status.idle": "2021-08-25T09:30:07.998286Z",
     "shell.execute_reply": "2021-08-25T09:30:07.999579Z"
    },
    "papermill": {
     "duration": 0.860221,
     "end_time": "2021-08-25T09:30:08.000215",
     "exception": false,
     "start_time": "2021-08-25T09:30:07.139994",
     "status": "completed"
    },
    "tags": []
   },
   "outputs": [],
   "source": [
    "import pandas as pd\n",
    "import sqlite3"
   ]
  },
  {
   "cell_type": "code",
   "execution_count": 2,
   "id": "innovative-syndrome",
   "metadata": {
    "execution": {
     "iopub.execute_input": "2021-08-25T09:30:08.054135Z",
     "iopub.status.busy": "2021-08-25T09:30:08.051784Z",
     "iopub.status.idle": "2021-08-25T09:30:08.179818Z",
     "shell.execute_reply": "2021-08-25T09:30:08.181022Z"
    },
    "papermill": {
     "duration": 0.158075,
     "end_time": "2021-08-25T09:30:08.181423",
     "exception": false,
     "start_time": "2021-08-25T09:30:08.023348",
     "status": "completed"
    },
    "tags": []
   },
   "outputs": [],
   "source": [
    "timestamps = pd.read_sql(\"select distinct record_time from EBAY_TOP_BERLIN order by record_time desc limit 2\", sqlite3.connect(\"UsedObjects.db\"))"
   ]
  },
  {
   "cell_type": "code",
   "execution_count": 3,
   "id": "periodic-identification",
   "metadata": {
    "execution": {
     "iopub.execute_input": "2021-08-25T09:30:08.251553Z",
     "iopub.status.busy": "2021-08-25T09:30:08.246774Z",
     "iopub.status.idle": "2021-08-25T09:30:08.270038Z",
     "shell.execute_reply": "2021-08-25T09:30:08.268555Z"
    },
    "papermill": {
     "duration": 0.067375,
     "end_time": "2021-08-25T09:30:08.270406",
     "exception": false,
     "start_time": "2021-08-25T09:30:08.203031",
     "status": "completed"
    },
    "tags": []
   },
   "outputs": [
    {
     "data": {
      "text/html": [
       "<div>\n",
       "<style scoped>\n",
       "    .dataframe tbody tr th:only-of-type {\n",
       "        vertical-align: middle;\n",
       "    }\n",
       "\n",
       "    .dataframe tbody tr th {\n",
       "        vertical-align: top;\n",
       "    }\n",
       "\n",
       "    .dataframe thead th {\n",
       "        text-align: right;\n",
       "    }\n",
       "</style>\n",
       "<table border=\"1\" class=\"dataframe\">\n",
       "  <thead>\n",
       "    <tr style=\"text-align: right;\">\n",
       "      <th></th>\n",
       "      <th>RECORD_TIME</th>\n",
       "    </tr>\n",
       "  </thead>\n",
       "  <tbody>\n",
       "    <tr>\n",
       "      <th>0</th>\n",
       "      <td>2021-08-25 11:30</td>\n",
       "    </tr>\n",
       "    <tr>\n",
       "      <th>1</th>\n",
       "      <td>2021-08-25 11:00</td>\n",
       "    </tr>\n",
       "  </tbody>\n",
       "</table>\n",
       "</div>"
      ],
      "text/plain": [
       "        RECORD_TIME\n",
       "0  2021-08-25 11:30\n",
       "1  2021-08-25 11:00"
      ]
     },
     "execution_count": 3,
     "metadata": {},
     "output_type": "execute_result"
    }
   ],
   "source": [
    "timestamps"
   ]
  },
  {
   "cell_type": "code",
   "execution_count": 4,
   "id": "alternate-victory",
   "metadata": {
    "execution": {
     "iopub.execute_input": "2021-08-25T09:30:08.320900Z",
     "iopub.status.busy": "2021-08-25T09:30:08.319057Z",
     "iopub.status.idle": "2021-08-25T09:30:08.512478Z",
     "shell.execute_reply": "2021-08-25T09:30:08.513710Z"
    },
    "papermill": {
     "duration": 0.223404,
     "end_time": "2021-08-25T09:30:08.514198",
     "exception": false,
     "start_time": "2021-08-25T09:30:08.290794",
     "status": "completed"
    },
    "tags": []
   },
   "outputs": [],
   "source": [
    "df = pd.read_sql(\"select * from EBAY_TOP_BERLIN where record_time in (select distinct record_time from EBAY_TOP_BERLIN order by record_time desc limit 2)\", sqlite3.connect(\"UsedObjects.db\"))"
   ]
  },
  {
   "cell_type": "code",
   "execution_count": 5,
   "id": "popular-active",
   "metadata": {
    "execution": {
     "iopub.execute_input": "2021-08-25T09:30:08.585716Z",
     "iopub.status.busy": "2021-08-25T09:30:08.573515Z",
     "iopub.status.idle": "2021-08-25T09:30:08.601136Z",
     "shell.execute_reply": "2021-08-25T09:30:08.602438Z"
    },
    "papermill": {
     "duration": 0.068323,
     "end_time": "2021-08-25T09:30:08.602845",
     "exception": false,
     "start_time": "2021-08-25T09:30:08.534522",
     "status": "completed"
    },
    "tags": []
   },
   "outputs": [],
   "source": [
    "df_pivot = df.pivot_table(index=\"PRODUCT\", columns = \"RECORD_TIME\", values = \"LISTING_COUNT\")"
   ]
  },
  {
   "cell_type": "code",
   "execution_count": 6,
   "id": "union-huntington",
   "metadata": {
    "execution": {
     "iopub.execute_input": "2021-08-25T09:30:08.668331Z",
     "iopub.status.busy": "2021-08-25T09:30:08.666360Z",
     "iopub.status.idle": "2021-08-25T09:30:08.671364Z",
     "shell.execute_reply": "2021-08-25T09:30:08.672595Z"
    },
    "papermill": {
     "duration": 0.044434,
     "end_time": "2021-08-25T09:30:08.672996",
     "exception": false,
     "start_time": "2021-08-25T09:30:08.628562",
     "status": "completed"
    },
    "tags": []
   },
   "outputs": [],
   "source": [
    "df_pivot.columns = [\"stamp_1\", \"stamp_2\"]\n",
    "df_pivot_diff = df_pivot.diff(axis=1)"
   ]
  },
  {
   "cell_type": "code",
   "execution_count": 7,
   "id": "fifth-motion",
   "metadata": {
    "execution": {
     "iopub.execute_input": "2021-08-25T09:30:08.727967Z",
     "iopub.status.busy": "2021-08-25T09:30:08.725367Z",
     "iopub.status.idle": "2021-08-25T09:30:10.233086Z",
     "shell.execute_reply": "2021-08-25T09:30:10.234627Z"
    },
    "papermill": {
     "duration": 1.541066,
     "end_time": "2021-08-25T09:30:10.235102",
     "exception": false,
     "start_time": "2021-08-25T09:30:08.694036",
     "status": "completed"
    },
    "tags": []
   },
   "outputs": [
    {
     "data": {
      "text/plain": [
       "<AxesSubplot:ylabel='PRODUCT'>"
      ]
     },
     "execution_count": 7,
     "metadata": {},
     "output_type": "execute_result"
    },
    {
     "data": {
      "image/png": "[encoded data removed]",
      "text/plain": [
       "<Figure size 432x288 with 1 Axes>"
      ]
     },
     "metadata": {
      "needs_background": "light"
     },
     "output_type": "display_data"
    }
   ],
   "source": [
    "df_pivot_diff.sort_values(\"stamp_2\", ascending = False)[\"stamp_2\"].head(10).plot.barh()"
   ]
  },
  {
   "cell_type": "code",
   "execution_count": null,
   "id": "extra-executive",
   "metadata": {
    "papermill": {
     "duration": 0.022445,
     "end_time": "2021-08-25T09:30:10.282228",
     "exception": false,
     "start_time": "2021-08-25T09:30:10.259783",
     "status": "completed"
    },
    "tags": []
   },
   "outputs": [],
   "source": []
  }
 ],
 "metadata": {
  "kernelspec": {
   "display_name": "Python 3",
   "language": "python",
   "name": "python3"
  },
  "language_info": {
   "codemirror_mode": {
    "name": "ipython",
    "version": 3
   },
   "file_extension": ".py",
   "mimetype": "text/x-python",
   "name": "python",
   "nbconvert_exporter": "python",
   "pygments_lexer": "ipython3",
   "version": "3.9.5"
  },
  "papermill": {
   "default_parameters": {},
   "duration": 6.83056,
   "end_time": "2021-08-25T09:30:11.557157",
   "environment_variables": {},
   "exception": null,
   "input_path": "eBay_Overview.ipynb",
   "output_path": "eBay_Overview.ipynb",
   "parameters": {},
   "start_time": "2021-08-25T09:30:04.726597",
   "version": "2.3.3"
  }
 },
 "nbformat": 4,
 "nbformat_minor": 5
}