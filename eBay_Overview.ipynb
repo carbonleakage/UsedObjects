{
 "cells": [
  {
   "cell_type": "code",
   "execution_count": 1,
   "id": "reverse-picking",
   "metadata": {
    "execution": {
     "iopub.execute_input": "2021-10-17T02:30:07.163213Z",
     "iopub.status.busy": "2021-10-17T02:30:07.161224Z",
     "iopub.status.idle": "2021-10-17T02:30:07.973916Z",
     "shell.execute_reply": "2021-10-17T02:30:07.975246Z"
    },
    "papermill": {
     "duration": 0.865278,
     "end_time": "2021-10-17T02:30:07.975933",
     "exception": false,
     "start_time": "2021-10-17T02:30:07.110655",
     "status": "completed"
    },
    "tags": []
   },
   "outputs": [],
   "source": [
    "import pandas as pd\n",
    "import sqlite3"
   ]
  },
  {
   "cell_type": "code",
   "execution_count": 2,
   "id": "innovative-syndrome",
   "metadata": {
    "execution": {
     "iopub.execute_input": "2021-10-17T02:30:08.027425Z",
     "iopub.status.busy": "2021-10-17T02:30:08.025104Z",
     "iopub.status.idle": "2021-10-17T02:30:08.589907Z",
     "shell.execute_reply": "2021-10-17T02:30:08.591115Z"
    },
    "papermill": {
     "duration": 0.59505,
     "end_time": "2021-10-17T02:30:08.591516",
     "exception": false,
     "start_time": "2021-10-17T02:30:07.996466",
     "status": "completed"
    },
    "tags": []
   },
   "outputs": [],
   "source": [
    "timestamps = pd.read_sql(\"select distinct record_time from EBAY_TOP_BERLIN order by record_time desc limit 2\", sqlite3.connect(\"UsedObjects.db\"))"
   ]
  },
  {
   "cell_type": "code",
   "execution_count": 3,
   "id": "periodic-identification",
   "metadata": {
    "execution": {
     "iopub.execute_input": "2021-10-17T02:30:08.672648Z",
     "iopub.status.busy": "2021-10-17T02:30:08.670604Z",
     "iopub.status.idle": "2021-10-17T02:30:08.691776Z",
     "shell.execute_reply": "2021-10-17T02:30:08.690445Z"
    },
    "papermill": {
     "duration": 0.07062,
     "end_time": "2021-10-17T02:30:08.692112",
     "exception": false,
     "start_time": "2021-10-17T02:30:08.621492",
     "status": "completed"
    },
    "tags": []
   },
   "outputs": [
    {
     "data": {
      "text/html": [
       "<div>\n",
       "<style scoped>\n",
       "    .dataframe tbody tr th:only-of-type {\n",
       "        vertical-align: middle;\n",
       "    }\n",
       "\n",
       "    .dataframe tbody tr th {\n",
       "        vertical-align: top;\n",
       "    }\n",
       "\n",
       "    .dataframe thead th {\n",
       "        text-align: right;\n",
       "    }\n",
       "</style>\n",
       "<table border=\"1\" class=\"dataframe\">\n",
       "  <thead>\n",
       "    <tr style=\"text-align: right;\">\n",
       "      <th></th>\n",
       "      <th>RECORD_TIME</th>\n",
       "    </tr>\n",
       "  </thead>\n",
       "  <tbody>\n",
       "    <tr>\n",
       "      <th>0</th>\n",
       "      <td>2021-10-17 04:30</td>\n",
       "    </tr>\n",
       "    <tr>\n",
       "      <th>1</th>\n",
       "      <td>2021-10-17 04:00</td>\n",
       "    </tr>\n",
       "  </tbody>\n",
       "</table>\n",
       "</div>"
      ],
      "text/plain": [
       "        RECORD_TIME\n",
       "0  2021-10-17 04:30\n",
       "1  2021-10-17 04:00"
      ]
     },
     "execution_count": 3,
     "metadata": {},
     "output_type": "execute_result"
    }
   ],
   "source": [
    "timestamps"
   ]
  },
  {
   "cell_type": "code",
   "execution_count": 4,
   "id": "alternate-victory",
   "metadata": {
    "execution": {
     "iopub.execute_input": "2021-10-17T02:30:08.744000Z",
     "iopub.status.busy": "2021-10-17T02:30:08.741716Z",
     "iopub.status.idle": "2021-10-17T02:30:09.568418Z",
     "shell.execute_reply": "2021-10-17T02:30:09.570001Z"
    },
    "papermill": {
     "duration": 0.857451,
     "end_time": "2021-10-17T02:30:09.570563",
     "exception": false,
     "start_time": "2021-10-17T02:30:08.713112",
     "status": "completed"
    },
    "tags": []
   },
   "outputs": [],
   "source": [
    "df = pd.read_sql(\"select * from EBAY_TOP_BERLIN where record_time in (select distinct record_time from EBAY_TOP_BERLIN order by record_time desc limit 2)\", sqlite3.connect(\"UsedObjects.db\"))"
   ]
  },
  {
   "cell_type": "code",
   "execution_count": 5,
   "id": "popular-active",
   "metadata": {
    "execution": {
     "iopub.execute_input": "2021-10-17T02:30:09.642010Z",
     "iopub.status.busy": "2021-10-17T02:30:09.629900Z",
     "iopub.status.idle": "2021-10-17T02:30:09.657605Z",
     "shell.execute_reply": "2021-10-17T02:30:09.658821Z"
    },
    "papermill": {
     "duration": 0.068318,
     "end_time": "2021-10-17T02:30:09.659219",
     "exception": false,
     "start_time": "2021-10-17T02:30:09.590901",
     "status": "completed"
    },
    "tags": []
   },
   "outputs": [],
   "source": [
    "df_pivot = df.pivot_table(index=\"PRODUCT\", columns = \"RECORD_TIME\", values = \"LISTING_COUNT\")"
   ]
  },
  {
   "cell_type": "code",
   "execution_count": 6,
   "id": "union-huntington",
   "metadata": {
    "execution": {
     "iopub.execute_input": "2021-10-17T02:30:09.719591Z",
     "iopub.status.busy": "2021-10-17T02:30:09.717102Z",
     "iopub.status.idle": "2021-10-17T02:30:09.722936Z",
     "shell.execute_reply": "2021-10-17T02:30:09.724141Z"
    },
    "papermill": {
     "duration": 0.042172,
     "end_time": "2021-10-17T02:30:09.724569",
     "exception": false,
     "start_time": "2021-10-17T02:30:09.682397",
     "status": "completed"
    },
    "tags": []
   },
   "outputs": [],
   "source": [
    "df_pivot.columns = [\"stamp_1\", \"stamp_2\"]\n",
    "df_pivot_diff = df_pivot.diff(axis=1)"
   ]
  },
  {
   "cell_type": "code",
   "execution_count": 7,
   "id": "fifth-motion",
   "metadata": {
    "execution": {
     "iopub.execute_input": "2021-10-17T02:30:09.779848Z",
     "iopub.status.busy": "2021-10-17T02:30:09.777446Z",
     "iopub.status.idle": "2021-10-17T02:30:11.299553Z",
     "shell.execute_reply": "2021-10-17T02:30:11.300925Z"
    },
    "papermill": {
     "duration": 1.556119,
     "end_time": "2021-10-17T02:30:11.301395",
     "exception": false,
     "start_time": "2021-10-17T02:30:09.745276",
     "status": "completed"
    },
    "tags": []
   },
   "outputs": [
    {
     "data": {
      "text/plain": [
       "<AxesSubplot:ylabel='PRODUCT'>"
      ]
     },
     "execution_count": 7,
     "metadata": {},
     "output_type": "execute_result"
    },
    {
     "data": {
      "image/png": "[encoded data removed]",
      "text/plain": [
       "<Figure size 432x288 with 1 Axes>"
      ]
     },
     "metadata": {
      "needs_background": "light"
     },
     "output_type": "display_data"
    }
   ],
   "source": [
    "df_pivot_diff.sort_values(\"stamp_2\", ascending = False)[\"stamp_2\"].head(10).plot.barh()"
   ]
  },
  {
   "cell_type": "code",
   "execution_count": null,
   "id": "extra-executive",
   "metadata": {
    "papermill": {
     "duration": 0.022131,
     "end_time": "2021-10-17T02:30:11.348370",
     "exception": false,
     "start_time": "2021-10-17T02:30:11.326239",
     "status": "completed"
    },
    "tags": []
   },
   "outputs": [],
   "source": []
  }
 ],
 "metadata": {
  "kernelspec": {
   "display_name": "Python 3",
   "language": "python",
   "name": "python3"
  },
  "language_info": {
   "codemirror_mode": {
    "name": "ipython",
    "version": 3
   },
   "file_extension": ".py",
   "mimetype": "text/x-python",
   "name": "python",
   "nbconvert_exporter": "python",
   "pygments_lexer": "ipython3",
   "version": "3.9.5"
  },
  "papermill": {
   "default_parameters": {},
   "duration": 7.827671,
   "end_time": "2021-10-17T02:30:12.523146",
   "environment_variables": {},
   "exception": null,
   "input_path": "eBay_Overview.ipynb",
   "output_path": "eBay_Overview.ipynb",
   "parameters": {},
   "start_time": "2021-10-17T02:30:04.695475",
   "version": "2.3.3"
  }
 },
 "nbformat": 4,
 "nbformat_minor": 5
}