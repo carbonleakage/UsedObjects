{
 "cells": [
  {
   "cell_type": "code",
   "execution_count": 1,
   "id": "reverse-picking",
   "metadata": {
    "execution": {
     "iopub.execute_input": "2021-10-23T10:30:07.310477Z",
     "iopub.status.busy": "2021-10-23T10:30:07.308421Z",
     "iopub.status.idle": "2021-10-23T10:30:08.113602Z",
     "shell.execute_reply": "2021-10-23T10:30:08.114951Z"
    },
    "papermill": {
     "duration": 0.857272,
     "end_time": "2021-10-23T10:30:08.115600",
     "exception": false,
     "start_time": "2021-10-23T10:30:07.258328",
     "status": "completed"
    },
    "tags": []
   },
   "outputs": [],
   "source": [
    "import pandas as pd\n",
    "import sqlite3"
   ]
  },
  {
   "cell_type": "code",
   "execution_count": 2,
   "id": "innovative-syndrome",
   "metadata": {
    "execution": {
     "iopub.execute_input": "2021-10-23T10:30:08.166933Z",
     "iopub.status.busy": "2021-10-23T10:30:08.165036Z",
     "iopub.status.idle": "2021-10-23T10:30:08.782786Z",
     "shell.execute_reply": "2021-10-23T10:30:08.784066Z"
    },
    "papermill": {
     "duration": 0.647167,
     "end_time": "2021-10-23T10:30:08.784483",
     "exception": false,
     "start_time": "2021-10-23T10:30:08.137316",
     "status": "completed"
    },
    "tags": []
   },
   "outputs": [],
   "source": [
    "timestamps = pd.read_sql(\"select distinct record_time from EBAY_TOP_BERLIN order by record_time desc limit 2\", sqlite3.connect(\"UsedObjects.db\"))"
   ]
  },
  {
   "cell_type": "code",
   "execution_count": 3,
   "id": "periodic-identification",
   "metadata": {
    "execution": {
     "iopub.execute_input": "2021-10-23T10:30:08.861059Z",
     "iopub.status.busy": "2021-10-23T10:30:08.855965Z",
     "iopub.status.idle": "2021-10-23T10:30:08.876212Z",
     "shell.execute_reply": "2021-10-23T10:30:08.877583Z"
    },
    "papermill": {
     "duration": 0.068578,
     "end_time": "2021-10-23T10:30:08.878043",
     "exception": false,
     "start_time": "2021-10-23T10:30:08.809465",
     "status": "completed"
    },
    "tags": []
   },
   "outputs": [
    {
     "data": {
      "text/html": [
       "<div>\n",
       "<style scoped>\n",
       "    .dataframe tbody tr th:only-of-type {\n",
       "        vertical-align: middle;\n",
       "    }\n",
       "\n",
       "    .dataframe tbody tr th {\n",
       "        vertical-align: top;\n",
       "    }\n",
       "\n",
       "    .dataframe thead th {\n",
       "        text-align: right;\n",
       "    }\n",
       "</style>\n",
       "<table border=\"1\" class=\"dataframe\">\n",
       "  <thead>\n",
       "    <tr style=\"text-align: right;\">\n",
       "      <th></th>\n",
       "      <th>RECORD_TIME</th>\n",
       "    </tr>\n",
       "  </thead>\n",
       "  <tbody>\n",
       "    <tr>\n",
       "      <th>0</th>\n",
       "      <td>2021-10-23 12:30</td>\n",
       "    </tr>\n",
       "    <tr>\n",
       "      <th>1</th>\n",
       "      <td>2021-10-23 12:00</td>\n",
       "    </tr>\n",
       "  </tbody>\n",
       "</table>\n",
       "</div>"
      ],
      "text/plain": [
       "        RECORD_TIME\n",
       "0  2021-10-23 12:30\n",
       "1  2021-10-23 12:00"
      ]
     },
     "execution_count": 3,
     "metadata": {},
     "output_type": "execute_result"
    }
   ],
   "source": [
    "timestamps"
   ]
  },
  {
   "cell_type": "code",
   "execution_count": 4,
   "id": "alternate-victory",
   "metadata": {
    "execution": {
     "iopub.execute_input": "2021-10-23T10:30:08.929749Z",
     "iopub.status.busy": "2021-10-23T10:30:08.927796Z",
     "iopub.status.idle": "2021-10-23T10:30:09.842529Z",
     "shell.execute_reply": "2021-10-23T10:30:09.843827Z"
    },
    "papermill": {
     "duration": 0.944434,
     "end_time": "2021-10-23T10:30:09.844248",
     "exception": false,
     "start_time": "2021-10-23T10:30:08.899814",
     "status": "completed"
    },
    "tags": []
   },
   "outputs": [],
   "source": [
    "df = pd.read_sql(\"select * from EBAY_TOP_BERLIN where record_time in (select distinct record_time from EBAY_TOP_BERLIN order by record_time desc limit 2)\", sqlite3.connect(\"UsedObjects.db\"))"
   ]
  },
  {
   "cell_type": "code",
   "execution_count": 5,
   "id": "popular-active",
   "metadata": {
    "execution": {
     "iopub.execute_input": "2021-10-23T10:30:09.912939Z",
     "iopub.status.busy": "2021-10-23T10:30:09.901953Z",
     "iopub.status.idle": "2021-10-23T10:30:09.929337Z",
     "shell.execute_reply": "2021-10-23T10:30:09.930562Z"
    },
    "papermill": {
     "duration": 0.06661,
     "end_time": "2021-10-23T10:30:09.930958",
     "exception": false,
     "start_time": "2021-10-23T10:30:09.864348",
     "status": "completed"
    },
    "tags": []
   },
   "outputs": [],
   "source": [
    "df_pivot = df.pivot_table(index=\"PRODUCT\", columns = \"RECORD_TIME\", values = \"LISTING_COUNT\")"
   ]
  },
  {
   "cell_type": "code",
   "execution_count": 6,
   "id": "union-huntington",
   "metadata": {
    "execution": {
     "iopub.execute_input": "2021-10-23T10:30:09.990639Z",
     "iopub.status.busy": "2021-10-23T10:30:09.988133Z",
     "iopub.status.idle": "2021-10-23T10:30:09.994222Z",
     "shell.execute_reply": "2021-10-23T10:30:09.995687Z"
    },
    "papermill": {
     "duration": 0.042094,
     "end_time": "2021-10-23T10:30:09.996150",
     "exception": false,
     "start_time": "2021-10-23T10:30:09.954056",
     "status": "completed"
    },
    "tags": []
   },
   "outputs": [],
   "source": [
    "df_pivot.columns = [\"stamp_1\", \"stamp_2\"]\n",
    "df_pivot_diff = df_pivot.diff(axis=1)"
   ]
  },
  {
   "cell_type": "code",
   "execution_count": 7,
   "id": "fifth-motion",
   "metadata": {
    "execution": {
     "iopub.execute_input": "2021-10-23T10:30:10.052031Z",
     "iopub.status.busy": "2021-10-23T10:30:10.049744Z",
     "iopub.status.idle": "2021-10-23T10:30:11.550356Z",
     "shell.execute_reply": "2021-10-23T10:30:11.551722Z"
    },
    "papermill": {
     "duration": 1.533929,
     "end_time": "2021-10-23T10:30:11.552160",
     "exception": false,
     "start_time": "2021-10-23T10:30:10.018231",
     "status": "completed"
    },
    "tags": []
   },
   "outputs": [
    {
     "data": {
      "text/plain": [
       "<AxesSubplot:ylabel='PRODUCT'>"
      ]
     },
     "execution_count": 7,
     "metadata": {},
     "output_type": "execute_result"
    },
    {
     "data": {
      "image/png": "[encoded data removed]",
      "text/plain": [
       "<Figure size 432x288 with 1 Axes>"
      ]
     },
     "metadata": {
      "needs_background": "light"
     },
     "output_type": "display_data"
    }
   ],
   "source": [
    "df_pivot_diff.sort_values(\"stamp_2\", ascending = False)[\"stamp_2\"].head(10).plot.barh()"
   ]
  },
  {
   "cell_type": "code",
   "execution_count": null,
   "id": "extra-executive",
   "metadata": {
    "papermill": {
     "duration": 0.022299,
     "end_time": "2021-10-23T10:30:11.599166",
     "exception": false,
     "start_time": "2021-10-23T10:30:11.576867",
     "status": "completed"
    },
    "tags": []
   },
   "outputs": [],
   "source": []
  }
 ],
 "metadata": {
  "kernelspec": {
   "display_name": "Python 3",
   "language": "python",
   "name": "python3"
  },
  "language_info": {
   "codemirror_mode": {
    "name": "ipython",
    "version": 3
   },
   "file_extension": ".py",
   "mimetype": "text/x-python",
   "name": "python",
   "nbconvert_exporter": "python",
   "pygments_lexer": "ipython3",
   "version": "3.9.5"
  },
  "papermill": {
   "default_parameters": {},
   "duration": 7.38355,
   "end_time": "2021-10-23T10:30:12.243285",
   "environment_variables": {},
   "exception": null,
   "input_path": "eBay_Overview.ipynb",
   "output_path": "eBay_Overview.ipynb",
   "parameters": {},
   "start_time": "2021-10-23T10:30:04.859735",
   "version": "2.3.3"
  }
 },
 "nbformat": 4,
 "nbformat_minor": 5
}