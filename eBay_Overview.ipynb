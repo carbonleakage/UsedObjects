{
 "cells": [
  {
   "cell_type": "code",
   "execution_count": 1,
   "id": "reverse-picking",
   "metadata": {
    "execution": {
     "iopub.execute_input": "2021-10-26T05:00:07.078720Z",
     "iopub.status.busy": "2021-10-26T05:00:07.076802Z",
     "iopub.status.idle": "2021-10-26T05:00:07.888006Z",
     "shell.execute_reply": "2021-10-26T05:00:07.889475Z"
    },
    "papermill": {
     "duration": 0.86478,
     "end_time": "2021-10-26T05:00:07.890133",
     "exception": false,
     "start_time": "2021-10-26T05:00:07.025353",
     "status": "completed"
    },
    "tags": []
   },
   "outputs": [],
   "source": [
    "import pandas as pd\n",
    "import sqlite3"
   ]
  },
  {
   "cell_type": "code",
   "execution_count": 2,
   "id": "innovative-syndrome",
   "metadata": {
    "execution": {
     "iopub.execute_input": "2021-10-26T05:00:07.941818Z",
     "iopub.status.busy": "2021-10-26T05:00:07.939434Z",
     "iopub.status.idle": "2021-10-26T05:00:08.581774Z",
     "shell.execute_reply": "2021-10-26T05:00:08.583000Z"
    },
    "papermill": {
     "duration": 0.672067,
     "end_time": "2021-10-26T05:00:08.583402",
     "exception": false,
     "start_time": "2021-10-26T05:00:07.911335",
     "status": "completed"
    },
    "tags": []
   },
   "outputs": [],
   "source": [
    "timestamps = pd.read_sql(\"select distinct record_time from EBAY_TOP_BERLIN order by record_time desc limit 2\", sqlite3.connect(\"UsedObjects.db\"))"
   ]
  },
  {
   "cell_type": "code",
   "execution_count": 3,
   "id": "periodic-identification",
   "metadata": {
    "execution": {
     "iopub.execute_input": "2021-10-26T05:00:08.647452Z",
     "iopub.status.busy": "2021-10-26T05:00:08.645443Z",
     "iopub.status.idle": "2021-10-26T05:00:08.665039Z",
     "shell.execute_reply": "2021-10-26T05:00:08.666378Z"
    },
    "papermill": {
     "duration": 0.064207,
     "end_time": "2021-10-26T05:00:08.666786",
     "exception": false,
     "start_time": "2021-10-26T05:00:08.602579",
     "status": "completed"
    },
    "tags": []
   },
   "outputs": [
    {
     "data": {
      "text/html": [
       "<div>\n",
       "<style scoped>\n",
       "    .dataframe tbody tr th:only-of-type {\n",
       "        vertical-align: middle;\n",
       "    }\n",
       "\n",
       "    .dataframe tbody tr th {\n",
       "        vertical-align: top;\n",
       "    }\n",
       "\n",
       "    .dataframe thead th {\n",
       "        text-align: right;\n",
       "    }\n",
       "</style>\n",
       "<table border=\"1\" class=\"dataframe\">\n",
       "  <thead>\n",
       "    <tr style=\"text-align: right;\">\n",
       "      <th></th>\n",
       "      <th>RECORD_TIME</th>\n",
       "    </tr>\n",
       "  </thead>\n",
       "  <tbody>\n",
       "    <tr>\n",
       "      <th>0</th>\n",
       "      <td>2021-10-26 07:00</td>\n",
       "    </tr>\n",
       "    <tr>\n",
       "      <th>1</th>\n",
       "      <td>2021-10-26 06:30</td>\n",
       "    </tr>\n",
       "  </tbody>\n",
       "</table>\n",
       "</div>"
      ],
      "text/plain": [
       "        RECORD_TIME\n",
       "0  2021-10-26 07:00\n",
       "1  2021-10-26 06:30"
      ]
     },
     "execution_count": 3,
     "metadata": {},
     "output_type": "execute_result"
    }
   ],
   "source": [
    "timestamps"
   ]
  },
  {
   "cell_type": "code",
   "execution_count": 4,
   "id": "alternate-victory",
   "metadata": {
    "execution": {
     "iopub.execute_input": "2021-10-26T05:00:08.718697Z",
     "iopub.status.busy": "2021-10-26T05:00:08.716484Z",
     "iopub.status.idle": "2021-10-26T05:00:09.708813Z",
     "shell.execute_reply": "2021-10-26T05:00:09.710069Z"
    },
    "papermill": {
     "duration": 1.022271,
     "end_time": "2021-10-26T05:00:09.710619",
     "exception": false,
     "start_time": "2021-10-26T05:00:08.688348",
     "status": "completed"
    },
    "tags": []
   },
   "outputs": [],
   "source": [
    "df = pd.read_sql(\"select * from EBAY_TOP_BERLIN where record_time in (select distinct record_time from EBAY_TOP_BERLIN order by record_time desc limit 2)\", sqlite3.connect(\"UsedObjects.db\"))"
   ]
  },
  {
   "cell_type": "code",
   "execution_count": 5,
   "id": "popular-active",
   "metadata": {
    "execution": {
     "iopub.execute_input": "2021-10-26T05:00:09.779706Z",
     "iopub.status.busy": "2021-10-26T05:00:09.772194Z",
     "iopub.status.idle": "2021-10-26T05:00:09.800145Z",
     "shell.execute_reply": "2021-10-26T05:00:09.801426Z"
    },
    "papermill": {
     "duration": 0.067868,
     "end_time": "2021-10-26T05:00:09.801830",
     "exception": false,
     "start_time": "2021-10-26T05:00:09.733962",
     "status": "completed"
    },
    "tags": []
   },
   "outputs": [],
   "source": [
    "df_pivot = df.pivot_table(index=\"PRODUCT\", columns = \"RECORD_TIME\", values = \"LISTING_COUNT\")"
   ]
  },
  {
   "cell_type": "code",
   "execution_count": 6,
   "id": "union-huntington",
   "metadata": {
    "execution": {
     "iopub.execute_input": "2021-10-26T05:00:09.858563Z",
     "iopub.status.busy": "2021-10-26T05:00:09.856353Z",
     "iopub.status.idle": "2021-10-26T05:00:09.861958Z",
     "shell.execute_reply": "2021-10-26T05:00:09.863340Z"
    },
    "papermill": {
     "duration": 0.040693,
     "end_time": "2021-10-26T05:00:09.863783",
     "exception": false,
     "start_time": "2021-10-26T05:00:09.823090",
     "status": "completed"
    },
    "tags": []
   },
   "outputs": [],
   "source": [
    "df_pivot.columns = [\"stamp_1\", \"stamp_2\"]\n",
    "df_pivot_diff = df_pivot.diff(axis=1)"
   ]
  },
  {
   "cell_type": "code",
   "execution_count": 7,
   "id": "fifth-motion",
   "metadata": {
    "execution": {
     "iopub.execute_input": "2021-10-26T05:00:09.920784Z",
     "iopub.status.busy": "2021-10-26T05:00:09.918113Z",
     "iopub.status.idle": "2021-10-26T05:00:11.388780Z",
     "shell.execute_reply": "2021-10-26T05:00:11.390269Z"
    },
    "papermill": {
     "duration": 1.504417,
     "end_time": "2021-10-26T05:00:11.390744",
     "exception": false,
     "start_time": "2021-10-26T05:00:09.886327",
     "status": "completed"
    },
    "tags": []
   },
   "outputs": [
    {
     "data": {
      "text/plain": [
       "<AxesSubplot:ylabel='PRODUCT'>"
      ]
     },
     "execution_count": 7,
     "metadata": {},
     "output_type": "execute_result"
    },
    {
     "data": {
      "image/png": "[encoded data removed]",
      "text/plain": [
       "<Figure size 432x288 with 1 Axes>"
      ]
     },
     "metadata": {
      "needs_background": "light"
     },
     "output_type": "display_data"
    }
   ],
   "source": [
    "df_pivot_diff.sort_values(\"stamp_2\", ascending = False)[\"stamp_2\"].head(10).plot.barh()"
   ]
  },
  {
   "cell_type": "code",
   "execution_count": null,
   "id": "extra-executive",
   "metadata": {
    "papermill": {
     "duration": 0.021829,
     "end_time": "2021-10-26T05:00:11.436302",
     "exception": false,
     "start_time": "2021-10-26T05:00:11.414473",
     "status": "completed"
    },
    "tags": []
   },
   "outputs": [],
   "source": []
  }
 ],
 "metadata": {
  "kernelspec": {
   "display_name": "Python 3",
   "language": "python",
   "name": "python3"
  },
  "language_info": {
   "codemirror_mode": {
    "name": "ipython",
    "version": 3
   },
   "file_extension": ".py",
   "mimetype": "text/x-python",
   "name": "python",
   "nbconvert_exporter": "python",
   "pygments_lexer": "ipython3",
   "version": "3.9.5"
  },
  "papermill": {
   "default_parameters": {},
   "duration": 7.469118,
   "end_time": "2021-10-26T05:00:12.078891",
   "environment_variables": {},
   "exception": null,
   "input_path": "eBay_Overview.ipynb",
   "output_path": "eBay_Overview.ipynb",
   "parameters": {},
   "start_time": "2021-10-26T05:00:04.609773",
   "version": "2.3.3"
  }
 },
 "nbformat": 4,
 "nbformat_minor": 5
}