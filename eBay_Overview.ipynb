{
 "cells": [
  {
   "cell_type": "code",
   "execution_count": 1,
   "id": "reverse-picking",
   "metadata": {
    "execution": {
     "iopub.execute_input": "2021-09-15T10:30:06.989807Z",
     "iopub.status.busy": "2021-09-15T10:30:06.987801Z",
     "iopub.status.idle": "2021-09-15T10:30:07.796098Z",
     "shell.execute_reply": "2021-09-15T10:30:07.797336Z"
    },
    "papermill": {
     "duration": 0.860269,
     "end_time": "2021-09-15T10:30:07.797963",
     "exception": false,
     "start_time": "2021-09-15T10:30:06.937694",
     "status": "completed"
    },
    "tags": []
   },
   "outputs": [],
   "source": [
    "import pandas as pd\n",
    "import sqlite3"
   ]
  },
  {
   "cell_type": "code",
   "execution_count": 2,
   "id": "innovative-syndrome",
   "metadata": {
    "execution": {
     "iopub.execute_input": "2021-09-15T10:30:07.851376Z",
     "iopub.status.busy": "2021-09-15T10:30:07.848967Z",
     "iopub.status.idle": "2021-09-15T10:30:08.140155Z",
     "shell.execute_reply": "2021-09-15T10:30:08.141351Z"
    },
    "papermill": {
     "duration": 0.321285,
     "end_time": "2021-09-15T10:30:08.141744",
     "exception": false,
     "start_time": "2021-09-15T10:30:07.820459",
     "status": "completed"
    },
    "tags": []
   },
   "outputs": [],
   "source": [
    "timestamps = pd.read_sql(\"select distinct record_time from EBAY_TOP_BERLIN order by record_time desc limit 2\", sqlite3.connect(\"UsedObjects.db\"))"
   ]
  },
  {
   "cell_type": "code",
   "execution_count": 3,
   "id": "periodic-identification",
   "metadata": {
    "execution": {
     "iopub.execute_input": "2021-09-15T10:30:08.205495Z",
     "iopub.status.busy": "2021-09-15T10:30:08.203457Z",
     "iopub.status.idle": "2021-09-15T10:30:08.223753Z",
     "shell.execute_reply": "2021-09-15T10:30:08.225053Z"
    },
    "papermill": {
     "duration": 0.064056,
     "end_time": "2021-09-15T10:30:08.225471",
     "exception": false,
     "start_time": "2021-09-15T10:30:08.161415",
     "status": "completed"
    },
    "tags": []
   },
   "outputs": [
    {
     "data": {
      "text/html": [
       "<div>\n",
       "<style scoped>\n",
       "    .dataframe tbody tr th:only-of-type {\n",
       "        vertical-align: middle;\n",
       "    }\n",
       "\n",
       "    .dataframe tbody tr th {\n",
       "        vertical-align: top;\n",
       "    }\n",
       "\n",
       "    .dataframe thead th {\n",
       "        text-align: right;\n",
       "    }\n",
       "</style>\n",
       "<table border=\"1\" class=\"dataframe\">\n",
       "  <thead>\n",
       "    <tr style=\"text-align: right;\">\n",
       "      <th></th>\n",
       "      <th>RECORD_TIME</th>\n",
       "    </tr>\n",
       "  </thead>\n",
       "  <tbody>\n",
       "    <tr>\n",
       "      <th>0</th>\n",
       "      <td>2021-09-15 12:30</td>\n",
       "    </tr>\n",
       "    <tr>\n",
       "      <th>1</th>\n",
       "      <td>2021-09-15 12:00</td>\n",
       "    </tr>\n",
       "  </tbody>\n",
       "</table>\n",
       "</div>"
      ],
      "text/plain": [
       "        RECORD_TIME\n",
       "0  2021-09-15 12:30\n",
       "1  2021-09-15 12:00"
      ]
     },
     "execution_count": 3,
     "metadata": {},
     "output_type": "execute_result"
    }
   ],
   "source": [
    "timestamps"
   ]
  },
  {
   "cell_type": "code",
   "execution_count": 4,
   "id": "alternate-victory",
   "metadata": {
    "execution": {
     "iopub.execute_input": "2021-09-15T10:30:08.279294Z",
     "iopub.status.busy": "2021-09-15T10:30:08.276943Z",
     "iopub.status.idle": "2021-09-15T10:30:08.711573Z",
     "shell.execute_reply": "2021-09-15T10:30:08.712824Z"
    },
    "papermill": {
     "duration": 0.465427,
     "end_time": "2021-09-15T10:30:08.713230",
     "exception": false,
     "start_time": "2021-09-15T10:30:08.247803",
     "status": "completed"
    },
    "tags": []
   },
   "outputs": [],
   "source": [
    "df = pd.read_sql(\"select * from EBAY_TOP_BERLIN where record_time in (select distinct record_time from EBAY_TOP_BERLIN order by record_time desc limit 2)\", sqlite3.connect(\"UsedObjects.db\"))"
   ]
  },
  {
   "cell_type": "code",
   "execution_count": 5,
   "id": "popular-active",
   "metadata": {
    "execution": {
     "iopub.execute_input": "2021-09-15T10:30:08.794551Z",
     "iopub.status.busy": "2021-09-15T10:30:08.787685Z",
     "iopub.status.idle": "2021-09-15T10:30:08.812664Z",
     "shell.execute_reply": "2021-09-15T10:30:08.814033Z"
    },
    "papermill": {
     "duration": 0.075141,
     "end_time": "2021-09-15T10:30:08.814475",
     "exception": false,
     "start_time": "2021-09-15T10:30:08.739334",
     "status": "completed"
    },
    "tags": []
   },
   "outputs": [],
   "source": [
    "df_pivot = df.pivot_table(index=\"PRODUCT\", columns = \"RECORD_TIME\", values = \"LISTING_COUNT\")"
   ]
  },
  {
   "cell_type": "code",
   "execution_count": 6,
   "id": "union-huntington",
   "metadata": {
    "execution": {
     "iopub.execute_input": "2021-09-15T10:30:08.871112Z",
     "iopub.status.busy": "2021-09-15T10:30:08.869029Z",
     "iopub.status.idle": "2021-09-15T10:30:08.874335Z",
     "shell.execute_reply": "2021-09-15T10:30:08.875583Z"
    },
    "papermill": {
     "duration": 0.040929,
     "end_time": "2021-09-15T10:30:08.876022",
     "exception": false,
     "start_time": "2021-09-15T10:30:08.835093",
     "status": "completed"
    },
    "tags": []
   },
   "outputs": [],
   "source": [
    "df_pivot.columns = [\"stamp_1\", \"stamp_2\"]\n",
    "df_pivot_diff = df_pivot.diff(axis=1)"
   ]
  },
  {
   "cell_type": "code",
   "execution_count": 7,
   "id": "fifth-motion",
   "metadata": {
    "execution": {
     "iopub.execute_input": "2021-09-15T10:30:08.930576Z",
     "iopub.status.busy": "2021-09-15T10:30:08.928159Z",
     "iopub.status.idle": "2021-09-15T10:30:10.417966Z",
     "shell.execute_reply": "2021-09-15T10:30:10.419387Z"
    },
    "papermill": {
     "duration": 1.523133,
     "end_time": "2021-09-15T10:30:10.419857",
     "exception": false,
     "start_time": "2021-09-15T10:30:08.896724",
     "status": "completed"
    },
    "tags": []
   },
   "outputs": [
    {
     "data": {
      "text/plain": [
       "<AxesSubplot:ylabel='PRODUCT'>"
      ]
     },
     "execution_count": 7,
     "metadata": {},
     "output_type": "execute_result"
    },
    {
     "data": {
      "image/png": "[encoded data removed]",
      "text/plain": [
       "<Figure size 432x288 with 1 Axes>"
      ]
     },
     "metadata": {
      "needs_background": "light"
     },
     "output_type": "display_data"
    }
   ],
   "source": [
    "df_pivot_diff.sort_values(\"stamp_2\", ascending = False)[\"stamp_2\"].head(10).plot.barh()"
   ]
  },
  {
   "cell_type": "code",
   "execution_count": null,
   "id": "extra-executive",
   "metadata": {
    "papermill": {
     "duration": 0.022804,
     "end_time": "2021-09-15T10:30:10.467913",
     "exception": false,
     "start_time": "2021-09-15T10:30:10.445109",
     "status": "completed"
    },
    "tags": []
   },
   "outputs": [],
   "source": []
  }
 ],
 "metadata": {
  "kernelspec": {
   "display_name": "Python 3",
   "language": "python",
   "name": "python3"
  },
  "language_info": {
   "codemirror_mode": {
    "name": "ipython",
    "version": 3
   },
   "file_extension": ".py",
   "mimetype": "text/x-python",
   "name": "python",
   "nbconvert_exporter": "python",
   "pygments_lexer": "ipython3",
   "version": "3.9.5"
  },
  "papermill": {
   "default_parameters": {},
   "duration": 6.576499,
   "end_time": "2021-09-15T10:30:11.109202",
   "environment_variables": {},
   "exception": null,
   "input_path": "eBay_Overview.ipynb",
   "output_path": "eBay_Overview.ipynb",
   "parameters": {},
   "start_time": "2021-09-15T10:30:04.532703",
   "version": "2.3.3"
  }
 },
 "nbformat": 4,
 "nbformat_minor": 5
}