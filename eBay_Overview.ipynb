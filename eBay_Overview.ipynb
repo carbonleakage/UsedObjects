{
 "cells": [
  {
   "cell_type": "code",
   "execution_count": 1,
   "id": "reverse-picking",
   "metadata": {
    "execution": {
     "iopub.execute_input": "2021-12-04T17:00:07.379273Z",
     "iopub.status.busy": "2021-12-04T17:00:07.376737Z",
     "iopub.status.idle": "2021-12-04T17:00:08.336996Z",
     "shell.execute_reply": "2021-12-04T17:00:08.338631Z"
    },
    "papermill": {
     "duration": 1.010737,
     "end_time": "2021-12-04T17:00:08.339397",
     "exception": false,
     "start_time": "2021-12-04T17:00:07.328660",
     "status": "completed"
    },
    "tags": []
   },
   "outputs": [],
   "source": [
    "import pandas as pd\n",
    "import sqlite3"
   ]
  },
  {
   "cell_type": "code",
   "execution_count": 2,
   "id": "innovative-syndrome",
   "metadata": {
    "execution": {
     "iopub.execute_input": "2021-12-04T17:00:08.448086Z",
     "iopub.status.busy": "2021-12-04T17:00:08.445740Z",
     "iopub.status.idle": "2021-12-04T17:00:09.452749Z",
     "shell.execute_reply": "2021-12-04T17:00:09.454375Z"
    },
    "papermill": {
     "duration": 1.040473,
     "end_time": "2021-12-04T17:00:09.454925",
     "exception": false,
     "start_time": "2021-12-04T17:00:08.414452",
     "status": "completed"
    },
    "tags": []
   },
   "outputs": [],
   "source": [
    "timestamps = pd.read_sql(\"select distinct record_time from EBAY_TOP_BERLIN order by record_time desc limit 2\", sqlite3.connect(\"UsedObjects.db\"))"
   ]
  },
  {
   "cell_type": "code",
   "execution_count": 3,
   "id": "periodic-identification",
   "metadata": {
    "execution": {
     "iopub.execute_input": "2021-12-04T17:00:09.528086Z",
     "iopub.status.busy": "2021-12-04T17:00:09.525811Z",
     "iopub.status.idle": "2021-12-04T17:00:09.548162Z",
     "shell.execute_reply": "2021-12-04T17:00:09.549685Z"
    },
    "papermill": {
     "duration": 0.072399,
     "end_time": "2021-12-04T17:00:09.550175",
     "exception": false,
     "start_time": "2021-12-04T17:00:09.477776",
     "status": "completed"
    },
    "tags": []
   },
   "outputs": [
    {
     "data": {
      "text/html": [
       "<div>\n",
       "<style scoped>\n",
       "    .dataframe tbody tr th:only-of-type {\n",
       "        vertical-align: middle;\n",
       "    }\n",
       "\n",
       "    .dataframe tbody tr th {\n",
       "        vertical-align: top;\n",
       "    }\n",
       "\n",
       "    .dataframe thead th {\n",
       "        text-align: right;\n",
       "    }\n",
       "</style>\n",
       "<table border=\"1\" class=\"dataframe\">\n",
       "  <thead>\n",
       "    <tr style=\"text-align: right;\">\n",
       "      <th></th>\n",
       "      <th>RECORD_TIME</th>\n",
       "    </tr>\n",
       "  </thead>\n",
       "  <tbody>\n",
       "    <tr>\n",
       "      <th>0</th>\n",
       "      <td>2021-12-04 18:00</td>\n",
       "    </tr>\n",
       "    <tr>\n",
       "      <th>1</th>\n",
       "      <td>2021-12-04 17:30</td>\n",
       "    </tr>\n",
       "  </tbody>\n",
       "</table>\n",
       "</div>"
      ],
      "text/plain": [
       "        RECORD_TIME\n",
       "0  2021-12-04 18:00\n",
       "1  2021-12-04 17:30"
      ]
     },
     "execution_count": 3,
     "metadata": {},
     "output_type": "execute_result"
    }
   ],
   "source": [
    "timestamps"
   ]
  },
  {
   "cell_type": "code",
   "execution_count": 4,
   "id": "alternate-victory",
   "metadata": {
    "execution": {
     "iopub.execute_input": "2021-12-04T17:00:09.608227Z",
     "iopub.status.busy": "2021-12-04T17:00:09.606323Z",
     "iopub.status.idle": "2021-12-04T17:00:11.043220Z",
     "shell.execute_reply": "2021-12-04T17:00:11.044474Z"
    },
    "papermill": {
     "duration": 1.474039,
     "end_time": "2021-12-04T17:00:11.044952",
     "exception": false,
     "start_time": "2021-12-04T17:00:09.570913",
     "status": "completed"
    },
    "tags": []
   },
   "outputs": [],
   "source": [
    "df = pd.read_sql(\"select * from EBAY_TOP_BERLIN where record_time in (select distinct record_time from EBAY_TOP_BERLIN order by record_time desc limit 2)\", sqlite3.connect(\"UsedObjects.db\"))"
   ]
  },
  {
   "cell_type": "code",
   "execution_count": 5,
   "id": "popular-active",
   "metadata": {
    "execution": {
     "iopub.execute_input": "2021-12-04T17:00:11.119336Z",
     "iopub.status.busy": "2021-12-04T17:00:11.106262Z",
     "iopub.status.idle": "2021-12-04T17:00:11.136917Z",
     "shell.execute_reply": "2021-12-04T17:00:11.138316Z"
    },
    "papermill": {
     "duration": 0.073407,
     "end_time": "2021-12-04T17:00:11.138797",
     "exception": false,
     "start_time": "2021-12-04T17:00:11.065390",
     "status": "completed"
    },
    "tags": []
   },
   "outputs": [],
   "source": [
    "df_pivot = df.pivot_table(index=\"PRODUCT\", columns = \"RECORD_TIME\", values = \"LISTING_COUNT\")"
   ]
  },
  {
   "cell_type": "code",
   "execution_count": 6,
   "id": "union-huntington",
   "metadata": {
    "execution": {
     "iopub.execute_input": "2021-12-04T17:00:11.202256Z",
     "iopub.status.busy": "2021-12-04T17:00:11.199854Z",
     "iopub.status.idle": "2021-12-04T17:00:11.205875Z",
     "shell.execute_reply": "2021-12-04T17:00:11.207456Z"
    },
    "papermill": {
     "duration": 0.047694,
     "end_time": "2021-12-04T17:00:11.207981",
     "exception": false,
     "start_time": "2021-12-04T17:00:11.160287",
     "status": "completed"
    },
    "tags": []
   },
   "outputs": [],
   "source": [
    "df_pivot.columns = [\"stamp_1\", \"stamp_2\"]\n",
    "df_pivot_diff = df_pivot.diff(axis=1)"
   ]
  },
  {
   "cell_type": "code",
   "execution_count": 7,
   "id": "fifth-motion",
   "metadata": {
    "execution": {
     "iopub.execute_input": "2021-12-04T17:00:11.271837Z",
     "iopub.status.busy": "2021-12-04T17:00:11.269246Z",
     "iopub.status.idle": "2021-12-04T17:00:13.184020Z",
     "shell.execute_reply": "2021-12-04T17:00:13.186417Z"
    },
    "papermill": {
     "duration": 1.95768,
     "end_time": "2021-12-04T17:00:13.187080",
     "exception": false,
     "start_time": "2021-12-04T17:00:11.229400",
     "status": "completed"
    },
    "tags": []
   },
   "outputs": [
    {
     "data": {
      "text/plain": [
       "<AxesSubplot:ylabel='PRODUCT'>"
      ]
     },
     "execution_count": 7,
     "metadata": {},
     "output_type": "execute_result"
    },
    {
     "data": {
      "image/png": "[encoded data removed]",
      "text/plain": [
       "<Figure size 432x288 with 1 Axes>"
      ]
     },
     "metadata": {
      "needs_background": "light"
     },
     "output_type": "display_data"
    }
   ],
   "source": [
    "df_pivot_diff.sort_values(\"stamp_2\", ascending = False)[\"stamp_2\"].head(10).plot.barh()"
   ]
  },
  {
   "cell_type": "code",
   "execution_count": null,
   "id": "extra-executive",
   "metadata": {
    "papermill": {
     "duration": 0.027493,
     "end_time": "2021-12-04T17:00:13.249108",
     "exception": false,
     "start_time": "2021-12-04T17:00:13.221615",
     "status": "completed"
    },
    "tags": []
   },
   "outputs": [],
   "source": []
  }
 ],
 "metadata": {
  "kernelspec": {
   "display_name": "Python 3",
   "language": "python",
   "name": "python3"
  },
  "language_info": {
   "codemirror_mode": {
    "name": "ipython",
    "version": 3
   },
   "file_extension": ".py",
   "mimetype": "text/x-python",
   "name": "python",
   "nbconvert_exporter": "python",
   "pygments_lexer": "ipython3",
   "version": "3.9.5"
  },
  "papermill": {
   "default_parameters": {},
   "duration": 9.935392,
   "end_time": "2021-12-04T17:00:14.525561",
   "environment_variables": {},
   "exception": null,
   "input_path": "eBay_Overview.ipynb",
   "output_path": "eBay_Overview.ipynb",
   "parameters": {},
   "start_time": "2021-12-04T17:00:04.590169",
   "version": "2.3.3"
  }
 },
 "nbformat": 4,
 "nbformat_minor": 5
}