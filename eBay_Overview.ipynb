{
 "cells": [
  {
   "cell_type": "code",
   "execution_count": 1,
   "id": "reverse-picking",
   "metadata": {
    "execution": {
     "iopub.execute_input": "2021-10-10T01:30:07.395695Z",
     "iopub.status.busy": "2021-10-10T01:30:07.393678Z",
     "iopub.status.idle": "2021-10-10T01:30:08.201698Z",
     "shell.execute_reply": "2021-10-10T01:30:08.200154Z"
    },
    "papermill": {
     "duration": 0.855823,
     "end_time": "2021-10-10T01:30:08.202085",
     "exception": false,
     "start_time": "2021-10-10T01:30:07.346262",
     "status": "completed"
    },
    "tags": []
   },
   "outputs": [],
   "source": [
    "import pandas as pd\n",
    "import sqlite3"
   ]
  },
  {
   "cell_type": "code",
   "execution_count": 2,
   "id": "innovative-syndrome",
   "metadata": {
    "execution": {
     "iopub.execute_input": "2021-10-10T01:30:08.255631Z",
     "iopub.status.busy": "2021-10-10T01:30:08.253219Z",
     "iopub.status.idle": "2021-10-10T01:30:08.762650Z",
     "shell.execute_reply": "2021-10-10T01:30:08.763979Z"
    },
    "papermill": {
     "duration": 0.539334,
     "end_time": "2021-10-10T01:30:08.764380",
     "exception": false,
     "start_time": "2021-10-10T01:30:08.225046",
     "status": "completed"
    },
    "tags": []
   },
   "outputs": [],
   "source": [
    "timestamps = pd.read_sql(\"select distinct record_time from EBAY_TOP_BERLIN order by record_time desc limit 2\", sqlite3.connect(\"UsedObjects.db\"))"
   ]
  },
  {
   "cell_type": "code",
   "execution_count": 3,
   "id": "periodic-identification",
   "metadata": {
    "execution": {
     "iopub.execute_input": "2021-10-10T01:30:08.833069Z",
     "iopub.status.busy": "2021-10-10T01:30:08.831075Z",
     "iopub.status.idle": "2021-10-10T01:30:08.851408Z",
     "shell.execute_reply": "2021-10-10T01:30:08.852845Z"
    },
    "papermill": {
     "duration": 0.066232,
     "end_time": "2021-10-10T01:30:08.853306",
     "exception": false,
     "start_time": "2021-10-10T01:30:08.787074",
     "status": "completed"
    },
    "tags": []
   },
   "outputs": [
    {
     "data": {
      "text/html": [
       "<div>\n",
       "<style scoped>\n",
       "    .dataframe tbody tr th:only-of-type {\n",
       "        vertical-align: middle;\n",
       "    }\n",
       "\n",
       "    .dataframe tbody tr th {\n",
       "        vertical-align: top;\n",
       "    }\n",
       "\n",
       "    .dataframe thead th {\n",
       "        text-align: right;\n",
       "    }\n",
       "</style>\n",
       "<table border=\"1\" class=\"dataframe\">\n",
       "  <thead>\n",
       "    <tr style=\"text-align: right;\">\n",
       "      <th></th>\n",
       "      <th>RECORD_TIME</th>\n",
       "    </tr>\n",
       "  </thead>\n",
       "  <tbody>\n",
       "    <tr>\n",
       "      <th>0</th>\n",
       "      <td>2021-10-10 03:30</td>\n",
       "    </tr>\n",
       "    <tr>\n",
       "      <th>1</th>\n",
       "      <td>2021-10-10 03:00</td>\n",
       "    </tr>\n",
       "  </tbody>\n",
       "</table>\n",
       "</div>"
      ],
      "text/plain": [
       "        RECORD_TIME\n",
       "0  2021-10-10 03:30\n",
       "1  2021-10-10 03:00"
      ]
     },
     "execution_count": 3,
     "metadata": {},
     "output_type": "execute_result"
    }
   ],
   "source": [
    "timestamps"
   ]
  },
  {
   "cell_type": "code",
   "execution_count": 4,
   "id": "alternate-victory",
   "metadata": {
    "execution": {
     "iopub.execute_input": "2021-10-10T01:30:08.919269Z",
     "iopub.status.busy": "2021-10-10T01:30:08.917260Z",
     "iopub.status.idle": "2021-10-10T01:30:09.661568Z",
     "shell.execute_reply": "2021-10-10T01:30:09.662766Z"
    },
    "papermill": {
     "duration": 0.779318,
     "end_time": "2021-10-10T01:30:09.663469",
     "exception": false,
     "start_time": "2021-10-10T01:30:08.884151",
     "status": "completed"
    },
    "tags": []
   },
   "outputs": [],
   "source": [
    "df = pd.read_sql(\"select * from EBAY_TOP_BERLIN where record_time in (select distinct record_time from EBAY_TOP_BERLIN order by record_time desc limit 2)\", sqlite3.connect(\"UsedObjects.db\"))"
   ]
  },
  {
   "cell_type": "code",
   "execution_count": 5,
   "id": "popular-active",
   "metadata": {
    "execution": {
     "iopub.execute_input": "2021-10-10T01:30:09.736170Z",
     "iopub.status.busy": "2021-10-10T01:30:09.724264Z",
     "iopub.status.idle": "2021-10-10T01:30:09.751663Z",
     "shell.execute_reply": "2021-10-10T01:30:09.752924Z"
    },
    "papermill": {
     "duration": 0.067387,
     "end_time": "2021-10-10T01:30:09.753649",
     "exception": false,
     "start_time": "2021-10-10T01:30:09.686262",
     "status": "completed"
    },
    "tags": []
   },
   "outputs": [],
   "source": [
    "df_pivot = df.pivot_table(index=\"PRODUCT\", columns = \"RECORD_TIME\", values = \"LISTING_COUNT\")"
   ]
  },
  {
   "cell_type": "code",
   "execution_count": 6,
   "id": "union-huntington",
   "metadata": {
    "execution": {
     "iopub.execute_input": "2021-10-10T01:30:09.811889Z",
     "iopub.status.busy": "2021-10-10T01:30:09.809835Z",
     "iopub.status.idle": "2021-10-10T01:30:09.815205Z",
     "shell.execute_reply": "2021-10-10T01:30:09.816381Z"
    },
    "papermill": {
     "duration": 0.040672,
     "end_time": "2021-10-10T01:30:09.816807",
     "exception": false,
     "start_time": "2021-10-10T01:30:09.776135",
     "status": "completed"
    },
    "tags": []
   },
   "outputs": [],
   "source": [
    "df_pivot.columns = [\"stamp_1\", \"stamp_2\"]\n",
    "df_pivot_diff = df_pivot.diff(axis=1)"
   ]
  },
  {
   "cell_type": "code",
   "execution_count": 7,
   "id": "fifth-motion",
   "metadata": {
    "execution": {
     "iopub.execute_input": "2021-10-10T01:30:09.874328Z",
     "iopub.status.busy": "2021-10-10T01:30:09.871738Z",
     "iopub.status.idle": "2021-10-10T01:30:11.356612Z",
     "shell.execute_reply": "2021-10-10T01:30:11.357873Z"
    },
    "papermill": {
     "duration": 1.518628,
     "end_time": "2021-10-10T01:30:11.358286",
     "exception": false,
     "start_time": "2021-10-10T01:30:09.839658",
     "status": "completed"
    },
    "tags": []
   },
   "outputs": [
    {
     "data": {
      "text/plain": [
       "<AxesSubplot:ylabel='PRODUCT'>"
      ]
     },
     "execution_count": 7,
     "metadata": {},
     "output_type": "execute_result"
    },
    {
     "data": {
      "image/png": "[encoded data removed]",
      "text/plain": [
       "<Figure size 432x288 with 1 Axes>"
      ]
     },
     "metadata": {
      "needs_background": "light"
     },
     "output_type": "display_data"
    }
   ],
   "source": [
    "df_pivot_diff.sort_values(\"stamp_2\", ascending = False)[\"stamp_2\"].head(10).plot.barh()"
   ]
  },
  {
   "cell_type": "code",
   "execution_count": null,
   "id": "extra-executive",
   "metadata": {
    "papermill": {
     "duration": 0.022301,
     "end_time": "2021-10-10T01:30:11.405026",
     "exception": false,
     "start_time": "2021-10-10T01:30:11.382725",
     "status": "completed"
    },
    "tags": []
   },
   "outputs": [],
   "source": []
  }
 ],
 "metadata": {
  "kernelspec": {
   "display_name": "Python 3",
   "language": "python",
   "name": "python3"
  },
  "language_info": {
   "codemirror_mode": {
    "name": "ipython",
    "version": 3
   },
   "file_extension": ".py",
   "mimetype": "text/x-python",
   "name": "python",
   "nbconvert_exporter": "python",
   "pygments_lexer": "ipython3",
   "version": "3.9.5"
  },
  "papermill": {
   "default_parameters": {},
   "duration": 7.829848,
   "end_time": "2021-10-10T01:30:12.763220",
   "environment_variables": {},
   "exception": null,
   "input_path": "eBay_Overview.ipynb",
   "output_path": "eBay_Overview.ipynb",
   "parameters": {},
   "start_time": "2021-10-10T01:30:04.933372",
   "version": "2.3.3"
  }
 },
 "nbformat": 4,
 "nbformat_minor": 5
}