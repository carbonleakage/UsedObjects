{
 "cells": [
  {
   "cell_type": "code",
   "execution_count": 1,
   "id": "reverse-picking",
   "metadata": {
    "execution": {
     "iopub.execute_input": "2021-12-22T20:30:08.449878Z",
     "iopub.status.busy": "2021-12-22T20:30:08.447196Z",
     "iopub.status.idle": "2021-12-22T20:30:09.404345Z",
     "shell.execute_reply": "2021-12-22T20:30:09.407675Z"
    },
    "papermill": {
     "duration": 1.011741,
     "end_time": "2021-12-22T20:30:09.408485",
     "exception": false,
     "start_time": "2021-12-22T20:30:08.396744",
     "status": "completed"
    },
    "tags": []
   },
   "outputs": [],
   "source": [
    "import pandas as pd\n",
    "import sqlite3"
   ]
  },
  {
   "cell_type": "code",
   "execution_count": 2,
   "id": "innovative-syndrome",
   "metadata": {
    "execution": {
     "iopub.execute_input": "2021-12-22T20:30:09.473706Z",
     "iopub.status.busy": "2021-12-22T20:30:09.471346Z",
     "iopub.status.idle": "2021-12-22T20:30:10.638056Z",
     "shell.execute_reply": "2021-12-22T20:30:10.639350Z"
    },
    "papermill": {
     "duration": 1.201578,
     "end_time": "2021-12-22T20:30:10.639754",
     "exception": false,
     "start_time": "2021-12-22T20:30:09.438176",
     "status": "completed"
    },
    "tags": []
   },
   "outputs": [],
   "source": [
    "timestamps = pd.read_sql(\"select distinct record_time from EBAY_TOP_BERLIN order by record_time desc limit 2\", sqlite3.connect(\"UsedObjects.db\"))"
   ]
  },
  {
   "cell_type": "code",
   "execution_count": 3,
   "id": "periodic-identification",
   "metadata": {
    "execution": {
     "iopub.execute_input": "2021-12-22T20:30:10.704585Z",
     "iopub.status.busy": "2021-12-22T20:30:10.702527Z",
     "iopub.status.idle": "2021-12-22T20:30:10.725915Z",
     "shell.execute_reply": "2021-12-22T20:30:10.724096Z"
    },
    "papermill": {
     "duration": 0.06699,
     "end_time": "2021-12-22T20:30:10.726338",
     "exception": false,
     "start_time": "2021-12-22T20:30:10.659348",
     "status": "completed"
    },
    "tags": []
   },
   "outputs": [
    {
     "data": {
      "text/html": [
       "<div>\n",
       "<style scoped>\n",
       "    .dataframe tbody tr th:only-of-type {\n",
       "        vertical-align: middle;\n",
       "    }\n",
       "\n",
       "    .dataframe tbody tr th {\n",
       "        vertical-align: top;\n",
       "    }\n",
       "\n",
       "    .dataframe thead th {\n",
       "        text-align: right;\n",
       "    }\n",
       "</style>\n",
       "<table border=\"1\" class=\"dataframe\">\n",
       "  <thead>\n",
       "    <tr style=\"text-align: right;\">\n",
       "      <th></th>\n",
       "      <th>RECORD_TIME</th>\n",
       "    </tr>\n",
       "  </thead>\n",
       "  <tbody>\n",
       "    <tr>\n",
       "      <th>0</th>\n",
       "      <td>2021-12-22 21:30</td>\n",
       "    </tr>\n",
       "    <tr>\n",
       "      <th>1</th>\n",
       "      <td>2021-12-22 21:00</td>\n",
       "    </tr>\n",
       "  </tbody>\n",
       "</table>\n",
       "</div>"
      ],
      "text/plain": [
       "        RECORD_TIME\n",
       "0  2021-12-22 21:30\n",
       "1  2021-12-22 21:00"
      ]
     },
     "execution_count": 3,
     "metadata": {},
     "output_type": "execute_result"
    }
   ],
   "source": [
    "timestamps"
   ]
  },
  {
   "cell_type": "code",
   "execution_count": 4,
   "id": "alternate-victory",
   "metadata": {
    "execution": {
     "iopub.execute_input": "2021-12-22T20:30:10.782218Z",
     "iopub.status.busy": "2021-12-22T20:30:10.779699Z",
     "iopub.status.idle": "2021-12-22T20:30:12.491147Z",
     "shell.execute_reply": "2021-12-22T20:30:12.492316Z"
    },
    "papermill": {
     "duration": 1.745085,
     "end_time": "2021-12-22T20:30:12.492786",
     "exception": false,
     "start_time": "2021-12-22T20:30:10.747701",
     "status": "completed"
    },
    "tags": []
   },
   "outputs": [],
   "source": [
    "df = pd.read_sql(\"select * from EBAY_TOP_BERLIN where record_time in (select distinct record_time from EBAY_TOP_BERLIN order by record_time desc limit 2)\", sqlite3.connect(\"UsedObjects.db\"))"
   ]
  },
  {
   "cell_type": "code",
   "execution_count": 5,
   "id": "popular-active",
   "metadata": {
    "execution": {
     "iopub.execute_input": "2021-12-22T20:30:12.569473Z",
     "iopub.status.busy": "2021-12-22T20:30:12.556184Z",
     "iopub.status.idle": "2021-12-22T20:30:12.587231Z",
     "shell.execute_reply": "2021-12-22T20:30:12.588633Z"
    },
    "papermill": {
     "duration": 0.075026,
     "end_time": "2021-12-22T20:30:12.589232",
     "exception": false,
     "start_time": "2021-12-22T20:30:12.514206",
     "status": "completed"
    },
    "tags": []
   },
   "outputs": [],
   "source": [
    "df_pivot = df.pivot_table(index=\"PRODUCT\", columns = \"RECORD_TIME\", values = \"LISTING_COUNT\")"
   ]
  },
  {
   "cell_type": "code",
   "execution_count": 6,
   "id": "union-huntington",
   "metadata": {
    "execution": {
     "iopub.execute_input": "2021-12-22T20:30:12.650777Z",
     "iopub.status.busy": "2021-12-22T20:30:12.648191Z",
     "iopub.status.idle": "2021-12-22T20:30:12.656759Z",
     "shell.execute_reply": "2021-12-22T20:30:12.654586Z"
    },
    "papermill": {
     "duration": 0.046744,
     "end_time": "2021-12-22T20:30:12.657241",
     "exception": false,
     "start_time": "2021-12-22T20:30:12.610497",
     "status": "completed"
    },
    "tags": []
   },
   "outputs": [],
   "source": [
    "df_pivot.columns = [\"stamp_1\", \"stamp_2\"]\n",
    "df_pivot_diff = df_pivot.diff(axis=1)"
   ]
  },
  {
   "cell_type": "code",
   "execution_count": 7,
   "id": "fifth-motion",
   "metadata": {
    "execution": {
     "iopub.execute_input": "2021-12-22T20:30:12.717794Z",
     "iopub.status.busy": "2021-12-22T20:30:12.715160Z",
     "iopub.status.idle": "2021-12-22T20:30:14.733374Z",
     "shell.execute_reply": "2021-12-22T20:30:14.734690Z"
    },
    "papermill": {
     "duration": 2.053992,
     "end_time": "2021-12-22T20:30:14.735154",
     "exception": false,
     "start_time": "2021-12-22T20:30:12.681162",
     "status": "completed"
    },
    "tags": []
   },
   "outputs": [
    {
     "data": {
      "text/plain": [
       "<AxesSubplot:ylabel='PRODUCT'>"
      ]
     },
     "execution_count": 7,
     "metadata": {},
     "output_type": "execute_result"
    },
    {
     "data": {
      "image/png": "[encoded data removed]",
      "text/plain": [
       "<Figure size 432x288 with 1 Axes>"
      ]
     },
     "metadata": {
      "needs_background": "light"
     },
     "output_type": "display_data"
    }
   ],
   "source": [
    "df_pivot_diff.sort_values(\"stamp_2\", ascending = False)[\"stamp_2\"].head(10).plot.barh()"
   ]
  },
  {
   "cell_type": "code",
   "execution_count": null,
   "id": "extra-executive",
   "metadata": {
    "papermill": {
     "duration": 0.022306,
     "end_time": "2021-12-22T20:30:14.782394",
     "exception": false,
     "start_time": "2021-12-22T20:30:14.760088",
     "status": "completed"
    },
    "tags": []
   },
   "outputs": [],
   "source": []
  }
 ],
 "metadata": {
  "kernelspec": {
   "display_name": "Python 3",
   "language": "python",
   "name": "python3"
  },
  "language_info": {
   "codemirror_mode": {
    "name": "ipython",
    "version": 3
   },
   "file_extension": ".py",
   "mimetype": "text/x-python",
   "name": "python",
   "nbconvert_exporter": "python",
   "pygments_lexer": "ipython3",
   "version": "3.9.5"
  },
  "papermill": {
   "default_parameters": {},
   "duration": 9.782477,
   "end_time": "2021-12-22T20:30:15.425542",
   "environment_variables": {},
   "exception": null,
   "input_path": "eBay_Overview.ipynb",
   "output_path": "eBay_Overview.ipynb",
   "parameters": {},
   "start_time": "2021-12-22T20:30:05.643065",
   "version": "2.3.3"
  }
 },
 "nbformat": 4,
 "nbformat_minor": 5
}