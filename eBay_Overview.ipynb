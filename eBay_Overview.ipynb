{
 "cells": [
  {
   "cell_type": "code",
   "execution_count": 1,
   "id": "reverse-picking",
   "metadata": {
    "execution": {
     "iopub.execute_input": "2021-08-31T17:00:07.449413Z",
     "iopub.status.busy": "2021-08-31T17:00:07.447409Z",
     "iopub.status.idle": "2021-08-31T17:00:08.250074Z",
     "shell.execute_reply": "2021-08-31T17:00:08.251396Z"
    },
    "papermill": {
     "duration": 0.853923,
     "end_time": "2021-08-31T17:00:08.252027",
     "exception": false,
     "start_time": "2021-08-31T17:00:07.398104",
     "status": "completed"
    },
    "tags": []
   },
   "outputs": [],
   "source": [
    "import pandas as pd\n",
    "import sqlite3"
   ]
  },
  {
   "cell_type": "code",
   "execution_count": 2,
   "id": "innovative-syndrome",
   "metadata": {
    "execution": {
     "iopub.execute_input": "2021-08-31T17:00:08.302454Z",
     "iopub.status.busy": "2021-08-31T17:00:08.300591Z",
     "iopub.status.idle": "2021-08-31T17:00:08.474812Z",
     "shell.execute_reply": "2021-08-31T17:00:08.476153Z"
    },
    "papermill": {
     "duration": 0.203706,
     "end_time": "2021-08-31T17:00:08.476566",
     "exception": false,
     "start_time": "2021-08-31T17:00:08.272860",
     "status": "completed"
    },
    "tags": []
   },
   "outputs": [],
   "source": [
    "timestamps = pd.read_sql(\"select distinct record_time from EBAY_TOP_BERLIN order by record_time desc limit 2\", sqlite3.connect(\"UsedObjects.db\"))"
   ]
  },
  {
   "cell_type": "code",
   "execution_count": 3,
   "id": "periodic-identification",
   "metadata": {
    "execution": {
     "iopub.execute_input": "2021-08-31T17:00:08.544169Z",
     "iopub.status.busy": "2021-08-31T17:00:08.538720Z",
     "iopub.status.idle": "2021-08-31T17:00:08.559028Z",
     "shell.execute_reply": "2021-08-31T17:00:08.560276Z"
    },
    "papermill": {
     "duration": 0.064592,
     "end_time": "2021-08-31T17:00:08.560669",
     "exception": false,
     "start_time": "2021-08-31T17:00:08.496077",
     "status": "completed"
    },
    "tags": []
   },
   "outputs": [
    {
     "data": {
      "text/html": [
       "<div>\n",
       "<style scoped>\n",
       "    .dataframe tbody tr th:only-of-type {\n",
       "        vertical-align: middle;\n",
       "    }\n",
       "\n",
       "    .dataframe tbody tr th {\n",
       "        vertical-align: top;\n",
       "    }\n",
       "\n",
       "    .dataframe thead th {\n",
       "        text-align: right;\n",
       "    }\n",
       "</style>\n",
       "<table border=\"1\" class=\"dataframe\">\n",
       "  <thead>\n",
       "    <tr style=\"text-align: right;\">\n",
       "      <th></th>\n",
       "      <th>RECORD_TIME</th>\n",
       "    </tr>\n",
       "  </thead>\n",
       "  <tbody>\n",
       "    <tr>\n",
       "      <th>0</th>\n",
       "      <td>2021-08-31 19:00</td>\n",
       "    </tr>\n",
       "    <tr>\n",
       "      <th>1</th>\n",
       "      <td>2021-08-31 18:30</td>\n",
       "    </tr>\n",
       "  </tbody>\n",
       "</table>\n",
       "</div>"
      ],
      "text/plain": [
       "        RECORD_TIME\n",
       "0  2021-08-31 19:00\n",
       "1  2021-08-31 18:30"
      ]
     },
     "execution_count": 3,
     "metadata": {},
     "output_type": "execute_result"
    }
   ],
   "source": [
    "timestamps"
   ]
  },
  {
   "cell_type": "code",
   "execution_count": 4,
   "id": "alternate-victory",
   "metadata": {
    "execution": {
     "iopub.execute_input": "2021-08-31T17:00:08.613214Z",
     "iopub.status.busy": "2021-08-31T17:00:08.611081Z",
     "iopub.status.idle": "2021-08-31T17:00:08.870362Z",
     "shell.execute_reply": "2021-08-31T17:00:08.871800Z"
    },
    "papermill": {
     "duration": 0.289682,
     "end_time": "2021-08-31T17:00:08.872216",
     "exception": false,
     "start_time": "2021-08-31T17:00:08.582534",
     "status": "completed"
    },
    "tags": []
   },
   "outputs": [],
   "source": [
    "df = pd.read_sql(\"select * from EBAY_TOP_BERLIN where record_time in (select distinct record_time from EBAY_TOP_BERLIN order by record_time desc limit 2)\", sqlite3.connect(\"UsedObjects.db\"))"
   ]
  },
  {
   "cell_type": "code",
   "execution_count": 5,
   "id": "popular-active",
   "metadata": {
    "execution": {
     "iopub.execute_input": "2021-08-31T17:00:08.954150Z",
     "iopub.status.busy": "2021-08-31T17:00:08.941495Z",
     "iopub.status.idle": "2021-08-31T17:00:08.969921Z",
     "shell.execute_reply": "2021-08-31T17:00:08.971286Z"
    },
    "papermill": {
     "duration": 0.07221,
     "end_time": "2021-08-31T17:00:08.971696",
     "exception": false,
     "start_time": "2021-08-31T17:00:08.899486",
     "status": "completed"
    },
    "tags": []
   },
   "outputs": [],
   "source": [
    "df_pivot = df.pivot_table(index=\"PRODUCT\", columns = \"RECORD_TIME\", values = \"LISTING_COUNT\")"
   ]
  },
  {
   "cell_type": "code",
   "execution_count": 6,
   "id": "union-huntington",
   "metadata": {
    "execution": {
     "iopub.execute_input": "2021-08-31T17:00:09.028360Z",
     "iopub.status.busy": "2021-08-31T17:00:09.026150Z",
     "iopub.status.idle": "2021-08-31T17:00:09.031818Z",
     "shell.execute_reply": "2021-08-31T17:00:09.033251Z"
    },
    "papermill": {
     "duration": 0.041041,
     "end_time": "2021-08-31T17:00:09.033687",
     "exception": false,
     "start_time": "2021-08-31T17:00:08.992646",
     "status": "completed"
    },
    "tags": []
   },
   "outputs": [],
   "source": [
    "df_pivot.columns = [\"stamp_1\", \"stamp_2\"]\n",
    "df_pivot_diff = df_pivot.diff(axis=1)"
   ]
  },
  {
   "cell_type": "code",
   "execution_count": 7,
   "id": "fifth-motion",
   "metadata": {
    "execution": {
     "iopub.execute_input": "2021-08-31T17:00:09.090843Z",
     "iopub.status.busy": "2021-08-31T17:00:09.088194Z",
     "iopub.status.idle": "2021-08-31T17:00:10.564537Z",
     "shell.execute_reply": "2021-08-31T17:00:10.565819Z"
    },
    "papermill": {
     "duration": 1.510202,
     "end_time": "2021-08-31T17:00:10.566236",
     "exception": false,
     "start_time": "2021-08-31T17:00:09.056034",
     "status": "completed"
    },
    "tags": []
   },
   "outputs": [
    {
     "data": {
      "text/plain": [
       "<AxesSubplot:ylabel='PRODUCT'>"
      ]
     },
     "execution_count": 7,
     "metadata": {},
     "output_type": "execute_result"
    },
    {
     "data": {
      "image/png": "[encoded data removed]",
      "text/plain": [
       "<Figure size 432x288 with 1 Axes>"
      ]
     },
     "metadata": {
      "needs_background": "light"
     },
     "output_type": "display_data"
    }
   ],
   "source": [
    "df_pivot_diff.sort_values(\"stamp_2\", ascending = False)[\"stamp_2\"].head(10).plot.barh()"
   ]
  },
  {
   "cell_type": "code",
   "execution_count": null,
   "id": "extra-executive",
   "metadata": {
    "papermill": {
     "duration": 0.022162,
     "end_time": "2021-08-31T17:00:10.614757",
     "exception": false,
     "start_time": "2021-08-31T17:00:10.592595",
     "status": "completed"
    },
    "tags": []
   },
   "outputs": [],
   "source": []
  }
 ],
 "metadata": {
  "kernelspec": {
   "display_name": "Python 3",
   "language": "python",
   "name": "python3"
  },
  "language_info": {
   "codemirror_mode": {
    "name": "ipython",
    "version": 3
   },
   "file_extension": ".py",
   "mimetype": "text/x-python",
   "name": "python",
   "nbconvert_exporter": "python",
   "pygments_lexer": "ipython3",
   "version": "3.9.5"
  },
  "papermill": {
   "default_parameters": {},
   "duration": 6.821963,
   "end_time": "2021-08-31T17:00:11.815470",
   "environment_variables": {},
   "exception": null,
   "input_path": "eBay_Overview.ipynb",
   "output_path": "eBay_Overview.ipynb",
   "parameters": {},
   "start_time": "2021-08-31T17:00:04.993507",
   "version": "2.3.3"
  }
 },
 "nbformat": 4,
 "nbformat_minor": 5
}