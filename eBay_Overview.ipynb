{
 "cells": [
  {
   "cell_type": "code",
   "execution_count": 1,
   "id": "reverse-picking",
   "metadata": {
    "execution": {
     "iopub.execute_input": "2021-12-02T07:30:07.504787Z",
     "iopub.status.busy": "2021-12-02T07:30:07.502376Z",
     "iopub.status.idle": "2021-12-02T07:30:08.463243Z",
     "shell.execute_reply": "2021-12-02T07:30:08.464823Z"
    },
    "papermill": {
     "duration": 1.010366,
     "end_time": "2021-12-02T07:30:08.465547",
     "exception": false,
     "start_time": "2021-12-02T07:30:07.455181",
     "status": "completed"
    },
    "tags": []
   },
   "outputs": [],
   "source": [
    "import pandas as pd\n",
    "import sqlite3"
   ]
  },
  {
   "cell_type": "code",
   "execution_count": 2,
   "id": "innovative-syndrome",
   "metadata": {
    "execution": {
     "iopub.execute_input": "2021-12-02T07:30:08.531420Z",
     "iopub.status.busy": "2021-12-02T07:30:08.527870Z",
     "iopub.status.idle": "2021-12-02T07:30:09.514664Z",
     "shell.execute_reply": "2021-12-02T07:30:09.515956Z"
    },
    "papermill": {
     "duration": 1.022795,
     "end_time": "2021-12-02T07:30:09.516375",
     "exception": false,
     "start_time": "2021-12-02T07:30:08.493580",
     "status": "completed"
    },
    "tags": []
   },
   "outputs": [],
   "source": [
    "timestamps = pd.read_sql(\"select distinct record_time from EBAY_TOP_BERLIN order by record_time desc limit 2\", sqlite3.connect(\"UsedObjects.db\"))"
   ]
  },
  {
   "cell_type": "code",
   "execution_count": 3,
   "id": "periodic-identification",
   "metadata": {
    "execution": {
     "iopub.execute_input": "2021-12-02T07:30:09.584026Z",
     "iopub.status.busy": "2021-12-02T07:30:09.582016Z",
     "iopub.status.idle": "2021-12-02T07:30:09.602939Z",
     "shell.execute_reply": "2021-12-02T07:30:09.604210Z"
    },
    "papermill": {
     "duration": 0.068283,
     "end_time": "2021-12-02T07:30:09.604625",
     "exception": false,
     "start_time": "2021-12-02T07:30:09.536342",
     "status": "completed"
    },
    "tags": []
   },
   "outputs": [
    {
     "data": {
      "text/html": [
       "<div>\n",
       "<style scoped>\n",
       "    .dataframe tbody tr th:only-of-type {\n",
       "        vertical-align: middle;\n",
       "    }\n",
       "\n",
       "    .dataframe tbody tr th {\n",
       "        vertical-align: top;\n",
       "    }\n",
       "\n",
       "    .dataframe thead th {\n",
       "        text-align: right;\n",
       "    }\n",
       "</style>\n",
       "<table border=\"1\" class=\"dataframe\">\n",
       "  <thead>\n",
       "    <tr style=\"text-align: right;\">\n",
       "      <th></th>\n",
       "      <th>RECORD_TIME</th>\n",
       "    </tr>\n",
       "  </thead>\n",
       "  <tbody>\n",
       "    <tr>\n",
       "      <th>0</th>\n",
       "      <td>2021-12-02 08:30</td>\n",
       "    </tr>\n",
       "    <tr>\n",
       "      <th>1</th>\n",
       "      <td>2021-12-02 08:00</td>\n",
       "    </tr>\n",
       "  </tbody>\n",
       "</table>\n",
       "</div>"
      ],
      "text/plain": [
       "        RECORD_TIME\n",
       "0  2021-12-02 08:30\n",
       "1  2021-12-02 08:00"
      ]
     },
     "execution_count": 3,
     "metadata": {},
     "output_type": "execute_result"
    }
   ],
   "source": [
    "timestamps"
   ]
  },
  {
   "cell_type": "code",
   "execution_count": 4,
   "id": "alternate-victory",
   "metadata": {
    "execution": {
     "iopub.execute_input": "2021-12-02T07:30:09.659473Z",
     "iopub.status.busy": "2021-12-02T07:30:09.656948Z",
     "iopub.status.idle": "2021-12-02T07:30:11.068813Z",
     "shell.execute_reply": "2021-12-02T07:30:11.071801Z"
    },
    "papermill": {
     "duration": 1.445685,
     "end_time": "2021-12-02T07:30:11.072406",
     "exception": false,
     "start_time": "2021-12-02T07:30:09.626721",
     "status": "completed"
    },
    "tags": []
   },
   "outputs": [],
   "source": [
    "df = pd.read_sql(\"select * from EBAY_TOP_BERLIN where record_time in (select distinct record_time from EBAY_TOP_BERLIN order by record_time desc limit 2)\", sqlite3.connect(\"UsedObjects.db\"))"
   ]
  },
  {
   "cell_type": "code",
   "execution_count": 5,
   "id": "popular-active",
   "metadata": {
    "execution": {
     "iopub.execute_input": "2021-12-02T07:30:11.141029Z",
     "iopub.status.busy": "2021-12-02T07:30:11.132321Z",
     "iopub.status.idle": "2021-12-02T07:30:11.171678Z",
     "shell.execute_reply": "2021-12-02T07:30:11.170048Z"
    },
    "papermill": {
     "duration": 0.076334,
     "end_time": "2021-12-02T07:30:11.172094",
     "exception": false,
     "start_time": "2021-12-02T07:30:11.095760",
     "status": "completed"
    },
    "tags": []
   },
   "outputs": [],
   "source": [
    "df_pivot = df.pivot_table(index=\"PRODUCT\", columns = \"RECORD_TIME\", values = \"LISTING_COUNT\")"
   ]
  },
  {
   "cell_type": "code",
   "execution_count": 6,
   "id": "union-huntington",
   "metadata": {
    "execution": {
     "iopub.execute_input": "2021-12-02T07:30:11.230510Z",
     "iopub.status.busy": "2021-12-02T07:30:11.228209Z",
     "iopub.status.idle": "2021-12-02T07:30:11.234134Z",
     "shell.execute_reply": "2021-12-02T07:30:11.235500Z"
    },
    "papermill": {
     "duration": 0.04369,
     "end_time": "2021-12-02T07:30:11.235974",
     "exception": false,
     "start_time": "2021-12-02T07:30:11.192284",
     "status": "completed"
    },
    "tags": []
   },
   "outputs": [],
   "source": [
    "df_pivot.columns = [\"stamp_1\", \"stamp_2\"]\n",
    "df_pivot_diff = df_pivot.diff(axis=1)"
   ]
  },
  {
   "cell_type": "code",
   "execution_count": 7,
   "id": "fifth-motion",
   "metadata": {
    "execution": {
     "iopub.execute_input": "2021-12-02T07:30:11.295813Z",
     "iopub.status.busy": "2021-12-02T07:30:11.293484Z",
     "iopub.status.idle": "2021-12-02T07:30:13.356232Z",
     "shell.execute_reply": "2021-12-02T07:30:13.357715Z"
    },
    "papermill": {
     "duration": 2.10058,
     "end_time": "2021-12-02T07:30:13.358216",
     "exception": false,
     "start_time": "2021-12-02T07:30:11.257636",
     "status": "completed"
    },
    "tags": []
   },
   "outputs": [
    {
     "data": {
      "text/plain": [
       "<AxesSubplot:ylabel='PRODUCT'>"
      ]
     },
     "execution_count": 7,
     "metadata": {},
     "output_type": "execute_result"
    },
    {
     "data": {
      "image/png": "[encoded data removed]",
      "text/plain": [
       "<Figure size 432x288 with 1 Axes>"
      ]
     },
     "metadata": {
      "needs_background": "light"
     },
     "output_type": "display_data"
    }
   ],
   "source": [
    "df_pivot_diff.sort_values(\"stamp_2\", ascending = False)[\"stamp_2\"].head(10).plot.barh()"
   ]
  },
  {
   "cell_type": "code",
   "execution_count": null,
   "id": "extra-executive",
   "metadata": {
    "papermill": {
     "duration": 0.022301,
     "end_time": "2021-12-02T07:30:13.405843",
     "exception": false,
     "start_time": "2021-12-02T07:30:13.383542",
     "status": "completed"
    },
    "tags": []
   },
   "outputs": [],
   "source": []
  }
 ],
 "metadata": {
  "kernelspec": {
   "display_name": "Python 3",
   "language": "python",
   "name": "python3"
  },
  "language_info": {
   "codemirror_mode": {
    "name": "ipython",
    "version": 3
   },
   "file_extension": ".py",
   "mimetype": "text/x-python",
   "name": "python",
   "nbconvert_exporter": "python",
   "pygments_lexer": "ipython3",
   "version": "3.9.5"
  },
  "papermill": {
   "default_parameters": {},
   "duration": 9.934099,
   "end_time": "2021-12-02T07:30:14.653160",
   "environment_variables": {},
   "exception": null,
   "input_path": "eBay_Overview.ipynb",
   "output_path": "eBay_Overview.ipynb",
   "parameters": {},
   "start_time": "2021-12-02T07:30:04.719061",
   "version": "2.3.3"
  }
 },
 "nbformat": 4,
 "nbformat_minor": 5
}