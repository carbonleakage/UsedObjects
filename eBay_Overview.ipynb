{
 "cells": [
  {
   "cell_type": "code",
   "execution_count": 1,
   "id": "reverse-picking",
   "metadata": {
    "execution": {
     "iopub.execute_input": "2021-12-19T09:30:07.582284Z",
     "iopub.status.busy": "2021-12-19T09:30:07.579913Z",
     "iopub.status.idle": "2021-12-19T09:30:08.536813Z",
     "shell.execute_reply": "2021-12-19T09:30:08.538574Z"
    },
    "papermill": {
     "duration": 1.005905,
     "end_time": "2021-12-19T09:30:08.539346",
     "exception": false,
     "start_time": "2021-12-19T09:30:07.533441",
     "status": "completed"
    },
    "tags": []
   },
   "outputs": [],
   "source": [
    "import pandas as pd\n",
    "import sqlite3"
   ]
  },
  {
   "cell_type": "code",
   "execution_count": 2,
   "id": "innovative-syndrome",
   "metadata": {
    "execution": {
     "iopub.execute_input": "2021-12-19T09:30:08.604088Z",
     "iopub.status.busy": "2021-12-19T09:30:08.601769Z",
     "iopub.status.idle": "2021-12-19T09:30:09.698564Z",
     "shell.execute_reply": "2021-12-19T09:30:09.699791Z"
    },
    "papermill": {
     "duration": 1.131597,
     "end_time": "2021-12-19T09:30:09.700196",
     "exception": false,
     "start_time": "2021-12-19T09:30:08.568599",
     "status": "completed"
    },
    "tags": []
   },
   "outputs": [],
   "source": [
    "timestamps = pd.read_sql(\"select distinct record_time from EBAY_TOP_BERLIN order by record_time desc limit 2\", sqlite3.connect(\"UsedObjects.db\"))"
   ]
  },
  {
   "cell_type": "code",
   "execution_count": 3,
   "id": "periodic-identification",
   "metadata": {
    "execution": {
     "iopub.execute_input": "2021-12-19T09:30:09.769168Z",
     "iopub.status.busy": "2021-12-19T09:30:09.766790Z",
     "iopub.status.idle": "2021-12-19T09:30:09.788782Z",
     "shell.execute_reply": "2021-12-19T09:30:09.790197Z"
    },
    "papermill": {
     "duration": 0.070795,
     "end_time": "2021-12-19T09:30:09.790665",
     "exception": false,
     "start_time": "2021-12-19T09:30:09.719870",
     "status": "completed"
    },
    "tags": []
   },
   "outputs": [
    {
     "data": {
      "text/html": [
       "<div>\n",
       "<style scoped>\n",
       "    .dataframe tbody tr th:only-of-type {\n",
       "        vertical-align: middle;\n",
       "    }\n",
       "\n",
       "    .dataframe tbody tr th {\n",
       "        vertical-align: top;\n",
       "    }\n",
       "\n",
       "    .dataframe thead th {\n",
       "        text-align: right;\n",
       "    }\n",
       "</style>\n",
       "<table border=\"1\" class=\"dataframe\">\n",
       "  <thead>\n",
       "    <tr style=\"text-align: right;\">\n",
       "      <th></th>\n",
       "      <th>RECORD_TIME</th>\n",
       "    </tr>\n",
       "  </thead>\n",
       "  <tbody>\n",
       "    <tr>\n",
       "      <th>0</th>\n",
       "      <td>2021-12-19 10:30</td>\n",
       "    </tr>\n",
       "    <tr>\n",
       "      <th>1</th>\n",
       "      <td>2021-12-19 10:00</td>\n",
       "    </tr>\n",
       "  </tbody>\n",
       "</table>\n",
       "</div>"
      ],
      "text/plain": [
       "        RECORD_TIME\n",
       "0  2021-12-19 10:30\n",
       "1  2021-12-19 10:00"
      ]
     },
     "execution_count": 3,
     "metadata": {},
     "output_type": "execute_result"
    }
   ],
   "source": [
    "timestamps"
   ]
  },
  {
   "cell_type": "code",
   "execution_count": 4,
   "id": "alternate-victory",
   "metadata": {
    "execution": {
     "iopub.execute_input": "2021-12-19T09:30:09.847786Z",
     "iopub.status.busy": "2021-12-19T09:30:09.845747Z",
     "iopub.status.idle": "2021-12-19T09:30:11.448939Z",
     "shell.execute_reply": "2021-12-19T09:30:11.450379Z"
    },
    "papermill": {
     "duration": 1.638388,
     "end_time": "2021-12-19T09:30:11.450844",
     "exception": false,
     "start_time": "2021-12-19T09:30:09.812456",
     "status": "completed"
    },
    "tags": []
   },
   "outputs": [],
   "source": [
    "df = pd.read_sql(\"select * from EBAY_TOP_BERLIN where record_time in (select distinct record_time from EBAY_TOP_BERLIN order by record_time desc limit 2)\", sqlite3.connect(\"UsedObjects.db\"))"
   ]
  },
  {
   "cell_type": "code",
   "execution_count": 5,
   "id": "popular-active",
   "metadata": {
    "execution": {
     "iopub.execute_input": "2021-12-19T09:30:11.528267Z",
     "iopub.status.busy": "2021-12-19T09:30:11.513283Z",
     "iopub.status.idle": "2021-12-19T09:30:11.548405Z",
     "shell.execute_reply": "2021-12-19T09:30:11.549874Z"
    },
    "papermill": {
     "duration": 0.078084,
     "end_time": "2021-12-19T09:30:11.550358",
     "exception": false,
     "start_time": "2021-12-19T09:30:11.472274",
     "status": "completed"
    },
    "tags": []
   },
   "outputs": [],
   "source": [
    "df_pivot = df.pivot_table(index=\"PRODUCT\", columns = \"RECORD_TIME\", values = \"LISTING_COUNT\")"
   ]
  },
  {
   "cell_type": "code",
   "execution_count": 6,
   "id": "union-huntington",
   "metadata": {
    "execution": {
     "iopub.execute_input": "2021-12-19T09:30:11.608384Z",
     "iopub.status.busy": "2021-12-19T09:30:11.606112Z",
     "iopub.status.idle": "2021-12-19T09:30:11.612089Z",
     "shell.execute_reply": "2021-12-19T09:30:11.613681Z"
    },
    "papermill": {
     "duration": 0.043944,
     "end_time": "2021-12-19T09:30:11.614165",
     "exception": false,
     "start_time": "2021-12-19T09:30:11.570221",
     "status": "completed"
    },
    "tags": []
   },
   "outputs": [],
   "source": [
    "df_pivot.columns = [\"stamp_1\", \"stamp_2\"]\n",
    "df_pivot_diff = df_pivot.diff(axis=1)"
   ]
  },
  {
   "cell_type": "code",
   "execution_count": 7,
   "id": "fifth-motion",
   "metadata": {
    "execution": {
     "iopub.execute_input": "2021-12-19T09:30:11.672506Z",
     "iopub.status.busy": "2021-12-19T09:30:11.669476Z",
     "iopub.status.idle": "2021-12-19T09:30:13.687617Z",
     "shell.execute_reply": "2021-12-19T09:30:13.689028Z"
    },
    "papermill": {
     "duration": 2.054899,
     "end_time": "2021-12-19T09:30:13.689511",
     "exception": false,
     "start_time": "2021-12-19T09:30:11.634612",
     "status": "completed"
    },
    "tags": []
   },
   "outputs": [
    {
     "data": {
      "text/plain": [
       "<AxesSubplot:ylabel='PRODUCT'>"
      ]
     },
     "execution_count": 7,
     "metadata": {},
     "output_type": "execute_result"
    },
    {
     "data": {
      "image/png": "[encoded data removed]",
      "text/plain": [
       "<Figure size 432x288 with 1 Axes>"
      ]
     },
     "metadata": {
      "needs_background": "light"
     },
     "output_type": "display_data"
    }
   ],
   "source": [
    "df_pivot_diff.sort_values(\"stamp_2\", ascending = False)[\"stamp_2\"].head(10).plot.barh()"
   ]
  },
  {
   "cell_type": "code",
   "execution_count": null,
   "id": "extra-executive",
   "metadata": {
    "papermill": {
     "duration": 0.026393,
     "end_time": "2021-12-19T09:30:13.750170",
     "exception": false,
     "start_time": "2021-12-19T09:30:13.723777",
     "status": "completed"
    },
    "tags": []
   },
   "outputs": [],
   "source": []
  }
 ],
 "metadata": {
  "kernelspec": {
   "display_name": "Python 3",
   "language": "python",
   "name": "python3"
  },
  "language_info": {
   "codemirror_mode": {
    "name": "ipython",
    "version": 3
   },
   "file_extension": ".py",
   "mimetype": "text/x-python",
   "name": "python",
   "nbconvert_exporter": "python",
   "pygments_lexer": "ipython3",
   "version": "3.9.5"
  },
  "papermill": {
   "default_parameters": {},
   "duration": 9.628032,
   "end_time": "2021-12-19T09:30:14.409458",
   "environment_variables": {},
   "exception": null,
   "input_path": "eBay_Overview.ipynb",
   "output_path": "eBay_Overview.ipynb",
   "parameters": {},
   "start_time": "2021-12-19T09:30:04.781426",
   "version": "2.3.3"
  }
 },
 "nbformat": 4,
 "nbformat_minor": 5
}