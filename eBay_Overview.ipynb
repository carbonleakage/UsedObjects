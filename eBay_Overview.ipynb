{
 "cells": [
  {
   "cell_type": "code",
   "execution_count": 1,
   "id": "reverse-picking",
   "metadata": {
    "execution": {
     "iopub.execute_input": "2021-09-30T11:00:07.156393Z",
     "iopub.status.busy": "2021-09-30T11:00:07.154370Z",
     "iopub.status.idle": "2021-09-30T11:00:07.961359Z",
     "shell.execute_reply": "2021-09-30T11:00:07.962594Z"
    },
    "papermill": {
     "duration": 0.857239,
     "end_time": "2021-09-30T11:00:07.963398",
     "exception": false,
     "start_time": "2021-09-30T11:00:07.106159",
     "status": "completed"
    },
    "tags": []
   },
   "outputs": [],
   "source": [
    "import pandas as pd\n",
    "import sqlite3"
   ]
  },
  {
   "cell_type": "code",
   "execution_count": 2,
   "id": "innovative-syndrome",
   "metadata": {
    "execution": {
     "iopub.execute_input": "2021-09-30T11:00:08.015972Z",
     "iopub.status.busy": "2021-09-30T11:00:08.013565Z",
     "iopub.status.idle": "2021-09-30T11:00:08.425799Z",
     "shell.execute_reply": "2021-09-30T11:00:08.427077Z"
    },
    "papermill": {
     "duration": 0.442084,
     "end_time": "2021-09-30T11:00:08.427485",
     "exception": false,
     "start_time": "2021-09-30T11:00:07.985401",
     "status": "completed"
    },
    "tags": []
   },
   "outputs": [],
   "source": [
    "timestamps = pd.read_sql(\"select distinct record_time from EBAY_TOP_BERLIN order by record_time desc limit 2\", sqlite3.connect(\"UsedObjects.db\"))"
   ]
  },
  {
   "cell_type": "code",
   "execution_count": 3,
   "id": "periodic-identification",
   "metadata": {
    "execution": {
     "iopub.execute_input": "2021-09-30T11:00:08.489758Z",
     "iopub.status.busy": "2021-09-30T11:00:08.487765Z",
     "iopub.status.idle": "2021-09-30T11:00:08.507480Z",
     "shell.execute_reply": "2021-09-30T11:00:08.508616Z"
    },
    "papermill": {
     "duration": 0.062406,
     "end_time": "2021-09-30T11:00:08.509020",
     "exception": false,
     "start_time": "2021-09-30T11:00:08.446614",
     "status": "completed"
    },
    "tags": []
   },
   "outputs": [
    {
     "data": {
      "text/html": [
       "<div>\n",
       "<style scoped>\n",
       "    .dataframe tbody tr th:only-of-type {\n",
       "        vertical-align: middle;\n",
       "    }\n",
       "\n",
       "    .dataframe tbody tr th {\n",
       "        vertical-align: top;\n",
       "    }\n",
       "\n",
       "    .dataframe thead th {\n",
       "        text-align: right;\n",
       "    }\n",
       "</style>\n",
       "<table border=\"1\" class=\"dataframe\">\n",
       "  <thead>\n",
       "    <tr style=\"text-align: right;\">\n",
       "      <th></th>\n",
       "      <th>RECORD_TIME</th>\n",
       "    </tr>\n",
       "  </thead>\n",
       "  <tbody>\n",
       "    <tr>\n",
       "      <th>0</th>\n",
       "      <td>2021-09-30 13:00</td>\n",
       "    </tr>\n",
       "    <tr>\n",
       "      <th>1</th>\n",
       "      <td>2021-09-30 12:30</td>\n",
       "    </tr>\n",
       "  </tbody>\n",
       "</table>\n",
       "</div>"
      ],
      "text/plain": [
       "        RECORD_TIME\n",
       "0  2021-09-30 13:00\n",
       "1  2021-09-30 12:30"
      ]
     },
     "execution_count": 3,
     "metadata": {},
     "output_type": "execute_result"
    }
   ],
   "source": [
    "timestamps"
   ]
  },
  {
   "cell_type": "code",
   "execution_count": 4,
   "id": "alternate-victory",
   "metadata": {
    "execution": {
     "iopub.execute_input": "2021-09-30T11:00:08.562041Z",
     "iopub.status.busy": "2021-09-30T11:00:08.559798Z",
     "iopub.status.idle": "2021-09-30T11:00:09.185121Z",
     "shell.execute_reply": "2021-09-30T11:00:09.186389Z"
    },
    "papermill": {
     "duration": 0.655366,
     "end_time": "2021-09-30T11:00:09.186845",
     "exception": false,
     "start_time": "2021-09-30T11:00:08.531479",
     "status": "completed"
    },
    "tags": []
   },
   "outputs": [],
   "source": [
    "df = pd.read_sql(\"select * from EBAY_TOP_BERLIN where record_time in (select distinct record_time from EBAY_TOP_BERLIN order by record_time desc limit 2)\", sqlite3.connect(\"UsedObjects.db\"))"
   ]
  },
  {
   "cell_type": "code",
   "execution_count": 5,
   "id": "popular-active",
   "metadata": {
    "execution": {
     "iopub.execute_input": "2021-09-30T11:00:09.255944Z",
     "iopub.status.busy": "2021-09-30T11:00:09.244420Z",
     "iopub.status.idle": "2021-09-30T11:00:09.271662Z",
     "shell.execute_reply": "2021-09-30T11:00:09.272859Z"
    },
    "papermill": {
     "duration": 0.066631,
     "end_time": "2021-09-30T11:00:09.273248",
     "exception": false,
     "start_time": "2021-09-30T11:00:09.206617",
     "status": "completed"
    },
    "tags": []
   },
   "outputs": [],
   "source": [
    "df_pivot = df.pivot_table(index=\"PRODUCT\", columns = \"RECORD_TIME\", values = \"LISTING_COUNT\")"
   ]
  },
  {
   "cell_type": "code",
   "execution_count": 6,
   "id": "union-huntington",
   "metadata": {
    "execution": {
     "iopub.execute_input": "2021-09-30T11:00:09.332883Z",
     "iopub.status.busy": "2021-09-30T11:00:09.330397Z",
     "iopub.status.idle": "2021-09-30T11:00:09.336431Z",
     "shell.execute_reply": "2021-09-30T11:00:09.337859Z"
    },
    "papermill": {
     "duration": 0.042193,
     "end_time": "2021-09-30T11:00:09.338313",
     "exception": false,
     "start_time": "2021-09-30T11:00:09.296120",
     "status": "completed"
    },
    "tags": []
   },
   "outputs": [],
   "source": [
    "df_pivot.columns = [\"stamp_1\", \"stamp_2\"]\n",
    "df_pivot_diff = df_pivot.diff(axis=1)"
   ]
  },
  {
   "cell_type": "code",
   "execution_count": 7,
   "id": "fifth-motion",
   "metadata": {
    "execution": {
     "iopub.execute_input": "2021-09-30T11:00:09.392581Z",
     "iopub.status.busy": "2021-09-30T11:00:09.390132Z",
     "iopub.status.idle": "2021-09-30T11:00:10.857646Z",
     "shell.execute_reply": "2021-09-30T11:00:10.859157Z"
    },
    "papermill": {
     "duration": 1.50012,
     "end_time": "2021-09-30T11:00:10.859627",
     "exception": false,
     "start_time": "2021-09-30T11:00:09.359507",
     "status": "completed"
    },
    "tags": []
   },
   "outputs": [
    {
     "data": {
      "text/plain": [
       "<AxesSubplot:ylabel='PRODUCT'>"
      ]
     },
     "execution_count": 7,
     "metadata": {},
     "output_type": "execute_result"
    },
    {
     "data": {
      "image/png": "[encoded data removed]",
      "text/plain": [
       "<Figure size 432x288 with 1 Axes>"
      ]
     },
     "metadata": {
      "needs_background": "light"
     },
     "output_type": "display_data"
    }
   ],
   "source": [
    "df_pivot_diff.sort_values(\"stamp_2\", ascending = False)[\"stamp_2\"].head(10).plot.barh()"
   ]
  },
  {
   "cell_type": "code",
   "execution_count": null,
   "id": "extra-executive",
   "metadata": {
    "papermill": {
     "duration": 0.021782,
     "end_time": "2021-09-30T11:00:10.905510",
     "exception": false,
     "start_time": "2021-09-30T11:00:10.883728",
     "status": "completed"
    },
    "tags": []
   },
   "outputs": [],
   "source": []
  }
 ],
 "metadata": {
  "kernelspec": {
   "display_name": "Python 3",
   "language": "python",
   "name": "python3"
  },
  "language_info": {
   "codemirror_mode": {
    "name": "ipython",
    "version": 3
   },
   "file_extension": ".py",
   "mimetype": "text/x-python",
   "name": "python",
   "nbconvert_exporter": "python",
   "pygments_lexer": "ipython3",
   "version": "3.9.5"
  },
  "papermill": {
   "default_parameters": {},
   "duration": 7.83437,
   "end_time": "2021-09-30T11:00:12.530501",
   "environment_variables": {},
   "exception": null,
   "input_path": "eBay_Overview.ipynb",
   "output_path": "eBay_Overview.ipynb",
   "parameters": {},
   "start_time": "2021-09-30T11:00:04.696131",
   "version": "2.3.3"
  }
 },
 "nbformat": 4,
 "nbformat_minor": 5
}