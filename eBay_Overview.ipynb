{
 "cells": [
  {
   "cell_type": "code",
   "execution_count": 1,
   "id": "reverse-picking",
   "metadata": {
    "execution": {
     "iopub.execute_input": "2021-08-17T23:30:07.391284Z",
     "iopub.status.busy": "2021-08-17T23:30:07.389570Z",
     "iopub.status.idle": "2021-08-17T23:30:08.199122Z",
     "shell.execute_reply": "2021-08-17T23:30:08.200395Z"
    },
    "papermill": {
     "duration": 0.861177,
     "end_time": "2021-08-17T23:30:08.201011",
     "exception": false,
     "start_time": "2021-08-17T23:30:07.339834",
     "status": "completed"
    },
    "tags": []
   },
   "outputs": [],
   "source": [
    "import pandas as pd\n",
    "import sqlite3"
   ]
  },
  {
   "cell_type": "code",
   "execution_count": 2,
   "id": "innovative-syndrome",
   "metadata": {
    "execution": {
     "iopub.execute_input": "2021-08-17T23:30:08.254913Z",
     "iopub.status.busy": "2021-08-17T23:30:08.252529Z",
     "iopub.status.idle": "2021-08-17T23:30:08.327589Z",
     "shell.execute_reply": "2021-08-17T23:30:08.328795Z"
    },
    "papermill": {
     "duration": 0.105074,
     "end_time": "2021-08-17T23:30:08.329189",
     "exception": false,
     "start_time": "2021-08-17T23:30:08.224115",
     "status": "completed"
    },
    "tags": []
   },
   "outputs": [],
   "source": [
    "timestamps = pd.read_sql(\"select distinct record_time from EBAY_TOP_BERLIN order by record_time desc limit 2\", sqlite3.connect(\"UsedObjects.db\"))"
   ]
  },
  {
   "cell_type": "code",
   "execution_count": 3,
   "id": "periodic-identification",
   "metadata": {
    "execution": {
     "iopub.execute_input": "2021-08-17T23:30:08.392342Z",
     "iopub.status.busy": "2021-08-17T23:30:08.390331Z",
     "iopub.status.idle": "2021-08-17T23:30:08.410414Z",
     "shell.execute_reply": "2021-08-17T23:30:08.411807Z"
    },
    "papermill": {
     "duration": 0.063539,
     "end_time": "2021-08-17T23:30:08.412223",
     "exception": false,
     "start_time": "2021-08-17T23:30:08.348684",
     "status": "completed"
    },
    "tags": []
   },
   "outputs": [
    {
     "data": {
      "text/html": [
       "<div>\n",
       "<style scoped>\n",
       "    .dataframe tbody tr th:only-of-type {\n",
       "        vertical-align: middle;\n",
       "    }\n",
       "\n",
       "    .dataframe tbody tr th {\n",
       "        vertical-align: top;\n",
       "    }\n",
       "\n",
       "    .dataframe thead th {\n",
       "        text-align: right;\n",
       "    }\n",
       "</style>\n",
       "<table border=\"1\" class=\"dataframe\">\n",
       "  <thead>\n",
       "    <tr style=\"text-align: right;\">\n",
       "      <th></th>\n",
       "      <th>RECORD_TIME</th>\n",
       "    </tr>\n",
       "  </thead>\n",
       "  <tbody>\n",
       "    <tr>\n",
       "      <th>0</th>\n",
       "      <td>2021-08-18 01:30</td>\n",
       "    </tr>\n",
       "    <tr>\n",
       "      <th>1</th>\n",
       "      <td>2021-08-18 01:00</td>\n",
       "    </tr>\n",
       "  </tbody>\n",
       "</table>\n",
       "</div>"
      ],
      "text/plain": [
       "        RECORD_TIME\n",
       "0  2021-08-18 01:30\n",
       "1  2021-08-18 01:00"
      ]
     },
     "execution_count": 3,
     "metadata": {},
     "output_type": "execute_result"
    }
   ],
   "source": [
    "timestamps"
   ]
  },
  {
   "cell_type": "code",
   "execution_count": 4,
   "id": "alternate-victory",
   "metadata": {
    "execution": {
     "iopub.execute_input": "2021-08-17T23:30:08.464027Z",
     "iopub.status.busy": "2021-08-17T23:30:08.461819Z",
     "iopub.status.idle": "2021-08-17T23:30:08.571088Z",
     "shell.execute_reply": "2021-08-17T23:30:08.572489Z"
    },
    "papermill": {
     "duration": 0.139468,
     "end_time": "2021-08-17T23:30:08.572919",
     "exception": false,
     "start_time": "2021-08-17T23:30:08.433451",
     "status": "completed"
    },
    "tags": []
   },
   "outputs": [],
   "source": [
    "df = pd.read_sql(\"select * from EBAY_TOP_BERLIN where record_time in (select distinct record_time from EBAY_TOP_BERLIN order by record_time desc limit 2)\", sqlite3.connect(\"UsedObjects.db\"))"
   ]
  },
  {
   "cell_type": "code",
   "execution_count": 5,
   "id": "popular-active",
   "metadata": {
    "execution": {
     "iopub.execute_input": "2021-08-17T23:30:08.642636Z",
     "iopub.status.busy": "2021-08-17T23:30:08.631729Z",
     "iopub.status.idle": "2021-08-17T23:30:08.658921Z",
     "shell.execute_reply": "2021-08-17T23:30:08.660145Z"
    },
    "papermill": {
     "duration": 0.066861,
     "end_time": "2021-08-17T23:30:08.660539",
     "exception": false,
     "start_time": "2021-08-17T23:30:08.593678",
     "status": "completed"
    },
    "tags": []
   },
   "outputs": [],
   "source": [
    "df_pivot = df.pivot_table(index=\"PRODUCT\", columns = \"RECORD_TIME\", values = \"LISTING_COUNT\")"
   ]
  },
  {
   "cell_type": "code",
   "execution_count": 6,
   "id": "union-huntington",
   "metadata": {
    "execution": {
     "iopub.execute_input": "2021-08-17T23:30:08.720695Z",
     "iopub.status.busy": "2021-08-17T23:30:08.718274Z",
     "iopub.status.idle": "2021-08-17T23:30:08.724286Z",
     "shell.execute_reply": "2021-08-17T23:30:08.725656Z"
    },
    "papermill": {
     "duration": 0.042493,
     "end_time": "2021-08-17T23:30:08.726139",
     "exception": false,
     "start_time": "2021-08-17T23:30:08.683646",
     "status": "completed"
    },
    "tags": []
   },
   "outputs": [],
   "source": [
    "df_pivot.columns = [\"stamp_1\", \"stamp_2\"]\n",
    "df_pivot_diff = df_pivot.diff(axis=1)"
   ]
  },
  {
   "cell_type": "code",
   "execution_count": 7,
   "id": "fifth-motion",
   "metadata": {
    "execution": {
     "iopub.execute_input": "2021-08-17T23:30:08.780558Z",
     "iopub.status.busy": "2021-08-17T23:30:08.778267Z",
     "iopub.status.idle": "2021-08-17T23:30:10.271763Z",
     "shell.execute_reply": "2021-08-17T23:30:10.273043Z"
    },
    "papermill": {
     "duration": 1.526591,
     "end_time": "2021-08-17T23:30:10.273460",
     "exception": false,
     "start_time": "2021-08-17T23:30:08.746869",
     "status": "completed"
    },
    "tags": []
   },
   "outputs": [
    {
     "data": {
      "text/plain": [
       "<AxesSubplot:ylabel='PRODUCT'>"
      ]
     },
     "execution_count": 7,
     "metadata": {},
     "output_type": "execute_result"
    },
    {
     "data": {
      "image/png": "[encoded data removed]",
      "text/plain": [
       "<Figure size 432x288 with 1 Axes>"
      ]
     },
     "metadata": {
      "needs_background": "light"
     },
     "output_type": "display_data"
    }
   ],
   "source": [
    "df_pivot_diff.sort_values(\"stamp_2\", ascending = False)[\"stamp_2\"].head(10).plot.barh()"
   ]
  },
  {
   "cell_type": "code",
   "execution_count": null,
   "id": "extra-executive",
   "metadata": {
    "papermill": {
     "duration": 0.022121,
     "end_time": "2021-08-17T23:30:10.321737",
     "exception": false,
     "start_time": "2021-08-17T23:30:10.299616",
     "status": "completed"
    },
    "tags": []
   },
   "outputs": [],
   "source": []
  }
 ],
 "metadata": {
  "kernelspec": {
   "display_name": "Python 3",
   "language": "python",
   "name": "python3"
  },
  "language_info": {
   "codemirror_mode": {
    "name": "ipython",
    "version": 3
   },
   "file_extension": ".py",
   "mimetype": "text/x-python",
   "name": "python",
   "nbconvert_exporter": "python",
   "pygments_lexer": "ipython3",
   "version": "3.9.5"
  },
  "papermill": {
   "default_parameters": {},
   "duration": 6.834251,
   "end_time": "2021-08-17T23:30:11.765568",
   "environment_variables": {},
   "exception": null,
   "input_path": "eBay_Overview.ipynb",
   "output_path": "eBay_Overview.ipynb",
   "parameters": {},
   "start_time": "2021-08-17T23:30:04.931317",
   "version": "2.3.3"
  }
 },
 "nbformat": 4,
 "nbformat_minor": 5
}