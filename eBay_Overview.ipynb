{
 "cells": [
  {
   "cell_type": "code",
   "execution_count": 1,
   "id": "reverse-picking",
   "metadata": {
    "execution": {
     "iopub.execute_input": "2021-10-06T21:30:06.860422Z",
     "iopub.status.busy": "2021-10-06T21:30:06.858409Z",
     "iopub.status.idle": "2021-10-06T21:30:07.664559Z",
     "shell.execute_reply": "2021-10-06T21:30:07.665805Z"
    },
    "papermill": {
     "duration": 0.857833,
     "end_time": "2021-10-06T21:30:07.666431",
     "exception": false,
     "start_time": "2021-10-06T21:30:06.808598",
     "status": "completed"
    },
    "tags": []
   },
   "outputs": [],
   "source": [
    "import pandas as pd\n",
    "import sqlite3"
   ]
  },
  {
   "cell_type": "code",
   "execution_count": 2,
   "id": "innovative-syndrome",
   "metadata": {
    "execution": {
     "iopub.execute_input": "2021-10-06T21:30:07.717676Z",
     "iopub.status.busy": "2021-10-06T21:30:07.715804Z",
     "iopub.status.idle": "2021-10-06T21:30:08.177954Z",
     "shell.execute_reply": "2021-10-06T21:30:08.179309Z"
    },
    "papermill": {
     "duration": 0.492276,
     "end_time": "2021-10-06T21:30:08.179762",
     "exception": false,
     "start_time": "2021-10-06T21:30:07.687486",
     "status": "completed"
    },
    "tags": []
   },
   "outputs": [],
   "source": [
    "timestamps = pd.read_sql(\"select distinct record_time from EBAY_TOP_BERLIN order by record_time desc limit 2\", sqlite3.connect(\"UsedObjects.db\"))"
   ]
  },
  {
   "cell_type": "code",
   "execution_count": 3,
   "id": "periodic-identification",
   "metadata": {
    "execution": {
     "iopub.execute_input": "2021-10-06T21:30:08.245710Z",
     "iopub.status.busy": "2021-10-06T21:30:08.243686Z",
     "iopub.status.idle": "2021-10-06T21:30:08.264349Z",
     "shell.execute_reply": "2021-10-06T21:30:08.265959Z"
    },
    "papermill": {
     "duration": 0.065425,
     "end_time": "2021-10-06T21:30:08.266473",
     "exception": false,
     "start_time": "2021-10-06T21:30:08.201048",
     "status": "completed"
    },
    "tags": []
   },
   "outputs": [
    {
     "data": {
      "text/html": [
       "<div>\n",
       "<style scoped>\n",
       "    .dataframe tbody tr th:only-of-type {\n",
       "        vertical-align: middle;\n",
       "    }\n",
       "\n",
       "    .dataframe tbody tr th {\n",
       "        vertical-align: top;\n",
       "    }\n",
       "\n",
       "    .dataframe thead th {\n",
       "        text-align: right;\n",
       "    }\n",
       "</style>\n",
       "<table border=\"1\" class=\"dataframe\">\n",
       "  <thead>\n",
       "    <tr style=\"text-align: right;\">\n",
       "      <th></th>\n",
       "      <th>RECORD_TIME</th>\n",
       "    </tr>\n",
       "  </thead>\n",
       "  <tbody>\n",
       "    <tr>\n",
       "      <th>0</th>\n",
       "      <td>2021-10-06 23:30</td>\n",
       "    </tr>\n",
       "    <tr>\n",
       "      <th>1</th>\n",
       "      <td>2021-10-06 23:00</td>\n",
       "    </tr>\n",
       "  </tbody>\n",
       "</table>\n",
       "</div>"
      ],
      "text/plain": [
       "        RECORD_TIME\n",
       "0  2021-10-06 23:30\n",
       "1  2021-10-06 23:00"
      ]
     },
     "execution_count": 3,
     "metadata": {},
     "output_type": "execute_result"
    }
   ],
   "source": [
    "timestamps"
   ]
  },
  {
   "cell_type": "code",
   "execution_count": 4,
   "id": "alternate-victory",
   "metadata": {
    "execution": {
     "iopub.execute_input": "2021-10-06T21:30:08.333632Z",
     "iopub.status.busy": "2021-10-06T21:30:08.331766Z",
     "iopub.status.idle": "2021-10-06T21:30:09.019240Z",
     "shell.execute_reply": "2021-10-06T21:30:09.020780Z"
    },
    "papermill": {
     "duration": 0.724084,
     "end_time": "2021-10-06T21:30:09.021244",
     "exception": false,
     "start_time": "2021-10-06T21:30:08.297160",
     "status": "completed"
    },
    "tags": []
   },
   "outputs": [],
   "source": [
    "df = pd.read_sql(\"select * from EBAY_TOP_BERLIN where record_time in (select distinct record_time from EBAY_TOP_BERLIN order by record_time desc limit 2)\", sqlite3.connect(\"UsedObjects.db\"))"
   ]
  },
  {
   "cell_type": "code",
   "execution_count": 5,
   "id": "popular-active",
   "metadata": {
    "execution": {
     "iopub.execute_input": "2021-10-06T21:30:09.090994Z",
     "iopub.status.busy": "2021-10-06T21:30:09.080228Z",
     "iopub.status.idle": "2021-10-06T21:30:09.107495Z",
     "shell.execute_reply": "2021-10-06T21:30:09.108723Z"
    },
    "papermill": {
     "duration": 0.066924,
     "end_time": "2021-10-06T21:30:09.109132",
     "exception": false,
     "start_time": "2021-10-06T21:30:09.042208",
     "status": "completed"
    },
    "tags": []
   },
   "outputs": [],
   "source": [
    "df_pivot = df.pivot_table(index=\"PRODUCT\", columns = \"RECORD_TIME\", values = \"LISTING_COUNT\")"
   ]
  },
  {
   "cell_type": "code",
   "execution_count": 6,
   "id": "union-huntington",
   "metadata": {
    "execution": {
     "iopub.execute_input": "2021-10-06T21:30:09.167970Z",
     "iopub.status.busy": "2021-10-06T21:30:09.165435Z",
     "iopub.status.idle": "2021-10-06T21:30:09.171473Z",
     "shell.execute_reply": "2021-10-06T21:30:09.172661Z"
    },
    "papermill": {
     "duration": 0.042386,
     "end_time": "2021-10-06T21:30:09.173106",
     "exception": false,
     "start_time": "2021-10-06T21:30:09.130720",
     "status": "completed"
    },
    "tags": []
   },
   "outputs": [],
   "source": [
    "df_pivot.columns = [\"stamp_1\", \"stamp_2\"]\n",
    "df_pivot_diff = df_pivot.diff(axis=1)"
   ]
  },
  {
   "cell_type": "code",
   "execution_count": 7,
   "id": "fifth-motion",
   "metadata": {
    "execution": {
     "iopub.execute_input": "2021-10-06T21:30:09.227184Z",
     "iopub.status.busy": "2021-10-06T21:30:09.224807Z",
     "iopub.status.idle": "2021-10-06T21:30:10.723569Z",
     "shell.execute_reply": "2021-10-06T21:30:10.724874Z"
    },
    "papermill": {
     "duration": 1.531563,
     "end_time": "2021-10-06T21:30:10.725307",
     "exception": false,
     "start_time": "2021-10-06T21:30:09.193744",
     "status": "completed"
    },
    "tags": []
   },
   "outputs": [
    {
     "data": {
      "text/plain": [
       "<AxesSubplot:ylabel='PRODUCT'>"
      ]
     },
     "execution_count": 7,
     "metadata": {},
     "output_type": "execute_result"
    },
    {
     "data": {
      "image/png": "[encoded data removed]",
      "text/plain": [
       "<Figure size 432x288 with 1 Axes>"
      ]
     },
     "metadata": {
      "needs_background": "light"
     },
     "output_type": "display_data"
    }
   ],
   "source": [
    "df_pivot_diff.sort_values(\"stamp_2\", ascending = False)[\"stamp_2\"].head(10).plot.barh()"
   ]
  },
  {
   "cell_type": "code",
   "execution_count": null,
   "id": "extra-executive",
   "metadata": {
    "papermill": {
     "duration": 0.022482,
     "end_time": "2021-10-06T21:30:10.774182",
     "exception": false,
     "start_time": "2021-10-06T21:30:10.751700",
     "status": "completed"
    },
    "tags": []
   },
   "outputs": [],
   "source": []
  }
 ],
 "metadata": {
  "kernelspec": {
   "display_name": "Python 3",
   "language": "python",
   "name": "python3"
  },
  "language_info": {
   "codemirror_mode": {
    "name": "ipython",
    "version": 3
   },
   "file_extension": ".py",
   "mimetype": "text/x-python",
   "name": "python",
   "nbconvert_exporter": "python",
   "pygments_lexer": "ipython3",
   "version": "3.9.5"
  },
  "papermill": {
   "default_parameters": {},
   "duration": 7.822271,
   "end_time": "2021-10-06T21:30:12.224977",
   "environment_variables": {},
   "exception": null,
   "input_path": "eBay_Overview.ipynb",
   "output_path": "eBay_Overview.ipynb",
   "parameters": {},
   "start_time": "2021-10-06T21:30:04.402706",
   "version": "2.3.3"
  }
 },
 "nbformat": 4,
 "nbformat_minor": 5
}