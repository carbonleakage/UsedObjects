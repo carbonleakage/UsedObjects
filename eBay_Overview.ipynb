{
 "cells": [
  {
   "cell_type": "code",
   "execution_count": 1,
   "id": "reverse-picking",
   "metadata": {
    "execution": {
     "iopub.execute_input": "2021-10-26T01:30:07.602720Z",
     "iopub.status.busy": "2021-10-26T01:30:07.600670Z",
     "iopub.status.idle": "2021-10-26T01:30:08.405747Z",
     "shell.execute_reply": "2021-10-26T01:30:08.407029Z"
    },
    "papermill": {
     "duration": 0.855483,
     "end_time": "2021-10-26T01:30:08.407652",
     "exception": false,
     "start_time": "2021-10-26T01:30:07.552169",
     "status": "completed"
    },
    "tags": []
   },
   "outputs": [],
   "source": [
    "import pandas as pd\n",
    "import sqlite3"
   ]
  },
  {
   "cell_type": "code",
   "execution_count": 2,
   "id": "innovative-syndrome",
   "metadata": {
    "execution": {
     "iopub.execute_input": "2021-10-26T01:30:08.461085Z",
     "iopub.status.busy": "2021-10-26T01:30:08.458730Z",
     "iopub.status.idle": "2021-10-26T01:30:09.098359Z",
     "shell.execute_reply": "2021-10-26T01:30:09.099566Z"
    },
    "papermill": {
     "duration": 0.669949,
     "end_time": "2021-10-26T01:30:09.099957",
     "exception": false,
     "start_time": "2021-10-26T01:30:08.430008",
     "status": "completed"
    },
    "tags": []
   },
   "outputs": [],
   "source": [
    "timestamps = pd.read_sql(\"select distinct record_time from EBAY_TOP_BERLIN order by record_time desc limit 2\", sqlite3.connect(\"UsedObjects.db\"))"
   ]
  },
  {
   "cell_type": "code",
   "execution_count": 3,
   "id": "periodic-identification",
   "metadata": {
    "execution": {
     "iopub.execute_input": "2021-10-26T01:30:09.175375Z",
     "iopub.status.busy": "2021-10-26T01:30:09.173143Z",
     "iopub.status.idle": "2021-10-26T01:30:09.194795Z",
     "shell.execute_reply": "2021-10-26T01:30:09.193446Z"
    },
    "papermill": {
     "duration": 0.069812,
     "end_time": "2021-10-26T01:30:09.195136",
     "exception": false,
     "start_time": "2021-10-26T01:30:09.125324",
     "status": "completed"
    },
    "tags": []
   },
   "outputs": [
    {
     "data": {
      "text/html": [
       "<div>\n",
       "<style scoped>\n",
       "    .dataframe tbody tr th:only-of-type {\n",
       "        vertical-align: middle;\n",
       "    }\n",
       "\n",
       "    .dataframe tbody tr th {\n",
       "        vertical-align: top;\n",
       "    }\n",
       "\n",
       "    .dataframe thead th {\n",
       "        text-align: right;\n",
       "    }\n",
       "</style>\n",
       "<table border=\"1\" class=\"dataframe\">\n",
       "  <thead>\n",
       "    <tr style=\"text-align: right;\">\n",
       "      <th></th>\n",
       "      <th>RECORD_TIME</th>\n",
       "    </tr>\n",
       "  </thead>\n",
       "  <tbody>\n",
       "    <tr>\n",
       "      <th>0</th>\n",
       "      <td>2021-10-26 03:30</td>\n",
       "    </tr>\n",
       "    <tr>\n",
       "      <th>1</th>\n",
       "      <td>2021-10-26 03:00</td>\n",
       "    </tr>\n",
       "  </tbody>\n",
       "</table>\n",
       "</div>"
      ],
      "text/plain": [
       "        RECORD_TIME\n",
       "0  2021-10-26 03:30\n",
       "1  2021-10-26 03:00"
      ]
     },
     "execution_count": 3,
     "metadata": {},
     "output_type": "execute_result"
    }
   ],
   "source": [
    "timestamps"
   ]
  },
  {
   "cell_type": "code",
   "execution_count": 4,
   "id": "alternate-victory",
   "metadata": {
    "execution": {
     "iopub.execute_input": "2021-10-26T01:30:09.246664Z",
     "iopub.status.busy": "2021-10-26T01:30:09.244435Z",
     "iopub.status.idle": "2021-10-26T01:30:10.210568Z",
     "shell.execute_reply": "2021-10-26T01:30:10.211787Z"
    },
    "papermill": {
     "duration": 0.995966,
     "end_time": "2021-10-26T01:30:10.212185",
     "exception": false,
     "start_time": "2021-10-26T01:30:09.216219",
     "status": "completed"
    },
    "tags": []
   },
   "outputs": [],
   "source": [
    "df = pd.read_sql(\"select * from EBAY_TOP_BERLIN where record_time in (select distinct record_time from EBAY_TOP_BERLIN order by record_time desc limit 2)\", sqlite3.connect(\"UsedObjects.db\"))"
   ]
  },
  {
   "cell_type": "code",
   "execution_count": 5,
   "id": "popular-active",
   "metadata": {
    "execution": {
     "iopub.execute_input": "2021-10-26T01:30:10.278008Z",
     "iopub.status.busy": "2021-10-26T01:30:10.270409Z",
     "iopub.status.idle": "2021-10-26T01:30:10.298125Z",
     "shell.execute_reply": "2021-10-26T01:30:10.299413Z"
    },
    "papermill": {
     "duration": 0.066214,
     "end_time": "2021-10-26T01:30:10.299827",
     "exception": false,
     "start_time": "2021-10-26T01:30:10.233613",
     "status": "completed"
    },
    "tags": []
   },
   "outputs": [],
   "source": [
    "df_pivot = df.pivot_table(index=\"PRODUCT\", columns = \"RECORD_TIME\", values = \"LISTING_COUNT\")"
   ]
  },
  {
   "cell_type": "code",
   "execution_count": 6,
   "id": "union-huntington",
   "metadata": {
    "execution": {
     "iopub.execute_input": "2021-10-26T01:30:10.355946Z",
     "iopub.status.busy": "2021-10-26T01:30:10.353908Z",
     "iopub.status.idle": "2021-10-26T01:30:10.360820Z",
     "shell.execute_reply": "2021-10-26T01:30:10.359452Z"
    },
    "papermill": {
     "duration": 0.041591,
     "end_time": "2021-10-26T01:30:10.361198",
     "exception": false,
     "start_time": "2021-10-26T01:30:10.319607",
     "status": "completed"
    },
    "tags": []
   },
   "outputs": [],
   "source": [
    "df_pivot.columns = [\"stamp_1\", \"stamp_2\"]\n",
    "df_pivot_diff = df_pivot.diff(axis=1)"
   ]
  },
  {
   "cell_type": "code",
   "execution_count": 7,
   "id": "fifth-motion",
   "metadata": {
    "execution": {
     "iopub.execute_input": "2021-10-26T01:30:10.417597Z",
     "iopub.status.busy": "2021-10-26T01:30:10.415026Z",
     "iopub.status.idle": "2021-10-26T01:30:11.910991Z",
     "shell.execute_reply": "2021-10-26T01:30:11.912467Z"
    },
    "papermill": {
     "duration": 1.529244,
     "end_time": "2021-10-26T01:30:11.912980",
     "exception": false,
     "start_time": "2021-10-26T01:30:10.383736",
     "status": "completed"
    },
    "tags": []
   },
   "outputs": [
    {
     "data": {
      "text/plain": [
       "<AxesSubplot:ylabel='PRODUCT'>"
      ]
     },
     "execution_count": 7,
     "metadata": {},
     "output_type": "execute_result"
    },
    {
     "data": {
      "image/png": "[encoded data removed]",
      "text/plain": [
       "<Figure size 432x288 with 1 Axes>"
      ]
     },
     "metadata": {
      "needs_background": "light"
     },
     "output_type": "display_data"
    }
   ],
   "source": [
    "df_pivot_diff.sort_values(\"stamp_2\", ascending = False)[\"stamp_2\"].head(10).plot.barh()"
   ]
  },
  {
   "cell_type": "code",
   "execution_count": null,
   "id": "extra-executive",
   "metadata": {
    "papermill": {
     "duration": 0.022053,
     "end_time": "2021-10-26T01:30:11.960348",
     "exception": false,
     "start_time": "2021-10-26T01:30:11.938295",
     "status": "completed"
    },
    "tags": []
   },
   "outputs": [],
   "source": []
  }
 ],
 "metadata": {
  "kernelspec": {
   "display_name": "Python 3",
   "language": "python",
   "name": "python3"
  },
  "language_info": {
   "codemirror_mode": {
    "name": "ipython",
    "version": 3
   },
   "file_extension": ".py",
   "mimetype": "text/x-python",
   "name": "python",
   "nbconvert_exporter": "python",
   "pygments_lexer": "ipython3",
   "version": "3.9.5"
  },
  "papermill": {
   "default_parameters": {},
   "duration": 7.46041,
   "end_time": "2021-10-26T01:30:12.605467",
   "environment_variables": {},
   "exception": null,
   "input_path": "eBay_Overview.ipynb",
   "output_path": "eBay_Overview.ipynb",
   "parameters": {},
   "start_time": "2021-10-26T01:30:05.145057",
   "version": "2.3.3"
  }
 },
 "nbformat": 4,
 "nbformat_minor": 5
}