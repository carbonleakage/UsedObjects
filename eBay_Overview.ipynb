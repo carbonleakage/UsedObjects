{
 "cells": [
  {
   "cell_type": "code",
   "execution_count": 1,
   "id": "reverse-picking",
   "metadata": {
    "execution": {
     "iopub.execute_input": "2021-10-04T14:30:07.176936Z",
     "iopub.status.busy": "2021-10-04T14:30:07.174972Z",
     "iopub.status.idle": "2021-10-04T14:30:07.982931Z",
     "shell.execute_reply": "2021-10-04T14:30:07.984220Z"
    },
    "papermill": {
     "duration": 0.860725,
     "end_time": "2021-10-04T14:30:07.984847",
     "exception": false,
     "start_time": "2021-10-04T14:30:07.124122",
     "status": "completed"
    },
    "tags": []
   },
   "outputs": [],
   "source": [
    "import pandas as pd\n",
    "import sqlite3"
   ]
  },
  {
   "cell_type": "code",
   "execution_count": 2,
   "id": "innovative-syndrome",
   "metadata": {
    "execution": {
     "iopub.execute_input": "2021-10-04T14:30:08.039118Z",
     "iopub.status.busy": "2021-10-04T14:30:08.036729Z",
     "iopub.status.idle": "2021-10-04T14:30:08.488462Z",
     "shell.execute_reply": "2021-10-04T14:30:08.489654Z"
    },
    "papermill": {
     "duration": 0.481904,
     "end_time": "2021-10-04T14:30:08.490050",
     "exception": false,
     "start_time": "2021-10-04T14:30:08.008146",
     "status": "completed"
    },
    "tags": []
   },
   "outputs": [],
   "source": [
    "timestamps = pd.read_sql(\"select distinct record_time from EBAY_TOP_BERLIN order by record_time desc limit 2\", sqlite3.connect(\"UsedObjects.db\"))"
   ]
  },
  {
   "cell_type": "code",
   "execution_count": 3,
   "id": "periodic-identification",
   "metadata": {
    "execution": {
     "iopub.execute_input": "2021-10-04T14:30:08.558487Z",
     "iopub.status.busy": "2021-10-04T14:30:08.556479Z",
     "iopub.status.idle": "2021-10-04T14:30:08.576683Z",
     "shell.execute_reply": "2021-10-04T14:30:08.578280Z"
    },
    "papermill": {
     "duration": 0.066983,
     "end_time": "2021-10-04T14:30:08.578842",
     "exception": false,
     "start_time": "2021-10-04T14:30:08.511859",
     "status": "completed"
    },
    "tags": []
   },
   "outputs": [
    {
     "data": {
      "text/html": [
       "<div>\n",
       "<style scoped>\n",
       "    .dataframe tbody tr th:only-of-type {\n",
       "        vertical-align: middle;\n",
       "    }\n",
       "\n",
       "    .dataframe tbody tr th {\n",
       "        vertical-align: top;\n",
       "    }\n",
       "\n",
       "    .dataframe thead th {\n",
       "        text-align: right;\n",
       "    }\n",
       "</style>\n",
       "<table border=\"1\" class=\"dataframe\">\n",
       "  <thead>\n",
       "    <tr style=\"text-align: right;\">\n",
       "      <th></th>\n",
       "      <th>RECORD_TIME</th>\n",
       "    </tr>\n",
       "  </thead>\n",
       "  <tbody>\n",
       "    <tr>\n",
       "      <th>0</th>\n",
       "      <td>2021-10-04 16:30</td>\n",
       "    </tr>\n",
       "    <tr>\n",
       "      <th>1</th>\n",
       "      <td>2021-10-04 16:00</td>\n",
       "    </tr>\n",
       "  </tbody>\n",
       "</table>\n",
       "</div>"
      ],
      "text/plain": [
       "        RECORD_TIME\n",
       "0  2021-10-04 16:30\n",
       "1  2021-10-04 16:00"
      ]
     },
     "execution_count": 3,
     "metadata": {},
     "output_type": "execute_result"
    }
   ],
   "source": [
    "timestamps"
   ]
  },
  {
   "cell_type": "code",
   "execution_count": 4,
   "id": "alternate-victory",
   "metadata": {
    "execution": {
     "iopub.execute_input": "2021-10-04T14:30:08.641071Z",
     "iopub.status.busy": "2021-10-04T14:30:08.638681Z",
     "iopub.status.idle": "2021-10-04T14:30:09.303262Z",
     "shell.execute_reply": "2021-10-04T14:30:09.304503Z"
    },
    "papermill": {
     "duration": 0.698705,
     "end_time": "2021-10-04T14:30:09.304902",
     "exception": false,
     "start_time": "2021-10-04T14:30:08.606197",
     "status": "completed"
    },
    "tags": []
   },
   "outputs": [],
   "source": [
    "df = pd.read_sql(\"select * from EBAY_TOP_BERLIN where record_time in (select distinct record_time from EBAY_TOP_BERLIN order by record_time desc limit 2)\", sqlite3.connect(\"UsedObjects.db\"))"
   ]
  },
  {
   "cell_type": "code",
   "execution_count": 5,
   "id": "popular-active",
   "metadata": {
    "execution": {
     "iopub.execute_input": "2021-10-04T14:30:09.379587Z",
     "iopub.status.busy": "2021-10-04T14:30:09.364062Z",
     "iopub.status.idle": "2021-10-04T14:30:09.395924Z",
     "shell.execute_reply": "2021-10-04T14:30:09.397302Z"
    },
    "papermill": {
     "duration": 0.071862,
     "end_time": "2021-10-04T14:30:09.397738",
     "exception": false,
     "start_time": "2021-10-04T14:30:09.325876",
     "status": "completed"
    },
    "tags": []
   },
   "outputs": [],
   "source": [
    "df_pivot = df.pivot_table(index=\"PRODUCT\", columns = \"RECORD_TIME\", values = \"LISTING_COUNT\")"
   ]
  },
  {
   "cell_type": "code",
   "execution_count": 6,
   "id": "union-huntington",
   "metadata": {
    "execution": {
     "iopub.execute_input": "2021-10-04T14:30:09.458620Z",
     "iopub.status.busy": "2021-10-04T14:30:09.456188Z",
     "iopub.status.idle": "2021-10-04T14:30:09.462008Z",
     "shell.execute_reply": "2021-10-04T14:30:09.463441Z"
    },
    "papermill": {
     "duration": 0.042575,
     "end_time": "2021-10-04T14:30:09.463896",
     "exception": false,
     "start_time": "2021-10-04T14:30:09.421321",
     "status": "completed"
    },
    "tags": []
   },
   "outputs": [],
   "source": [
    "df_pivot.columns = [\"stamp_1\", \"stamp_2\"]\n",
    "df_pivot_diff = df_pivot.diff(axis=1)"
   ]
  },
  {
   "cell_type": "code",
   "execution_count": 7,
   "id": "fifth-motion",
   "metadata": {
    "execution": {
     "iopub.execute_input": "2021-10-04T14:30:09.518272Z",
     "iopub.status.busy": "2021-10-04T14:30:09.515869Z",
     "iopub.status.idle": "2021-10-04T14:30:11.012323Z",
     "shell.execute_reply": "2021-10-04T14:30:11.013618Z"
    },
    "papermill": {
     "duration": 1.52928,
     "end_time": "2021-10-04T14:30:11.014041",
     "exception": false,
     "start_time": "2021-10-04T14:30:09.484761",
     "status": "completed"
    },
    "tags": []
   },
   "outputs": [
    {
     "data": {
      "text/plain": [
       "<AxesSubplot:ylabel='PRODUCT'>"
      ]
     },
     "execution_count": 7,
     "metadata": {},
     "output_type": "execute_result"
    },
    {
     "data": {
      "image/png": "[encoded data removed]",
      "text/plain": [
       "<Figure size 432x288 with 1 Axes>"
      ]
     },
     "metadata": {
      "needs_background": "light"
     },
     "output_type": "display_data"
    }
   ],
   "source": [
    "df_pivot_diff.sort_values(\"stamp_2\", ascending = False)[\"stamp_2\"].head(10).plot.barh()"
   ]
  },
  {
   "cell_type": "code",
   "execution_count": null,
   "id": "extra-executive",
   "metadata": {
    "papermill": {
     "duration": 0.022253,
     "end_time": "2021-10-04T14:30:11.061373",
     "exception": false,
     "start_time": "2021-10-04T14:30:11.039120",
     "status": "completed"
    },
    "tags": []
   },
   "outputs": [],
   "source": []
  }
 ],
 "metadata": {
  "kernelspec": {
   "display_name": "Python 3",
   "language": "python",
   "name": "python3"
  },
  "language_info": {
   "codemirror_mode": {
    "name": "ipython",
    "version": 3
   },
   "file_extension": ".py",
   "mimetype": "text/x-python",
   "name": "python",
   "nbconvert_exporter": "python",
   "pygments_lexer": "ipython3",
   "version": "3.9.5"
  },
  "papermill": {
   "default_parameters": {},
   "duration": 7.825769,
   "end_time": "2021-10-04T14:30:12.537890",
   "environment_variables": {},
   "exception": null,
   "input_path": "eBay_Overview.ipynb",
   "output_path": "eBay_Overview.ipynb",
   "parameters": {},
   "start_time": "2021-10-04T14:30:04.712121",
   "version": "2.3.3"
  }
 },
 "nbformat": 4,
 "nbformat_minor": 5
}