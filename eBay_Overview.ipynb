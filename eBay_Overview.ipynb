{
 "cells": [
  {
   "cell_type": "code",
   "execution_count": 1,
   "id": "reverse-picking",
   "metadata": {
    "execution": {
     "iopub.execute_input": "2021-11-17T00:00:07.845306Z",
     "iopub.status.busy": "2021-11-17T00:00:07.841709Z",
     "iopub.status.idle": "2021-11-17T00:00:08.748182Z",
     "shell.execute_reply": "2021-11-17T00:00:08.750453Z"
    },
    "papermill": {
     "duration": 0.957248,
     "end_time": "2021-11-17T00:00:08.751173",
     "exception": false,
     "start_time": "2021-11-17T00:00:07.793925",
     "status": "completed"
    },
    "tags": []
   },
   "outputs": [],
   "source": [
    "import pandas as pd\n",
    "import sqlite3"
   ]
  },
  {
   "cell_type": "code",
   "execution_count": 2,
   "id": "innovative-syndrome",
   "metadata": {
    "execution": {
     "iopub.execute_input": "2021-11-17T00:00:08.819134Z",
     "iopub.status.busy": "2021-11-17T00:00:08.816626Z",
     "iopub.status.idle": "2021-11-17T00:00:09.637471Z",
     "shell.execute_reply": "2021-11-17T00:00:09.639029Z"
    },
    "papermill": {
     "duration": 0.854855,
     "end_time": "2021-11-17T00:00:09.639479",
     "exception": false,
     "start_time": "2021-11-17T00:00:08.784624",
     "status": "completed"
    },
    "tags": []
   },
   "outputs": [],
   "source": [
    "timestamps = pd.read_sql(\"select distinct record_time from EBAY_TOP_BERLIN order by record_time desc limit 2\", sqlite3.connect(\"UsedObjects.db\"))"
   ]
  },
  {
   "cell_type": "code",
   "execution_count": 3,
   "id": "periodic-identification",
   "metadata": {
    "execution": {
     "iopub.execute_input": "2021-11-17T00:00:09.718253Z",
     "iopub.status.busy": "2021-11-17T00:00:09.712043Z",
     "iopub.status.idle": "2021-11-17T00:00:09.734444Z",
     "shell.execute_reply": "2021-11-17T00:00:09.735859Z"
    },
    "papermill": {
     "duration": 0.0757,
     "end_time": "2021-11-17T00:00:09.736338",
     "exception": false,
     "start_time": "2021-11-17T00:00:09.660638",
     "status": "completed"
    },
    "tags": []
   },
   "outputs": [
    {
     "data": {
      "text/html": [
       "<div>\n",
       "<style scoped>\n",
       "    .dataframe tbody tr th:only-of-type {\n",
       "        vertical-align: middle;\n",
       "    }\n",
       "\n",
       "    .dataframe tbody tr th {\n",
       "        vertical-align: top;\n",
       "    }\n",
       "\n",
       "    .dataframe thead th {\n",
       "        text-align: right;\n",
       "    }\n",
       "</style>\n",
       "<table border=\"1\" class=\"dataframe\">\n",
       "  <thead>\n",
       "    <tr style=\"text-align: right;\">\n",
       "      <th></th>\n",
       "      <th>RECORD_TIME</th>\n",
       "    </tr>\n",
       "  </thead>\n",
       "  <tbody>\n",
       "    <tr>\n",
       "      <th>0</th>\n",
       "      <td>2021-11-17 01:00</td>\n",
       "    </tr>\n",
       "    <tr>\n",
       "      <th>1</th>\n",
       "      <td>2021-11-17 00:30</td>\n",
       "    </tr>\n",
       "  </tbody>\n",
       "</table>\n",
       "</div>"
      ],
      "text/plain": [
       "        RECORD_TIME\n",
       "0  2021-11-17 01:00\n",
       "1  2021-11-17 00:30"
      ]
     },
     "execution_count": 3,
     "metadata": {},
     "output_type": "execute_result"
    }
   ],
   "source": [
    "timestamps"
   ]
  },
  {
   "cell_type": "code",
   "execution_count": 4,
   "id": "alternate-victory",
   "metadata": {
    "execution": {
     "iopub.execute_input": "2021-11-17T00:00:09.790892Z",
     "iopub.status.busy": "2021-11-17T00:00:09.788781Z",
     "iopub.status.idle": "2021-11-17T00:00:10.986978Z",
     "shell.execute_reply": "2021-11-17T00:00:10.988433Z"
    },
    "papermill": {
     "duration": 1.231335,
     "end_time": "2021-11-17T00:00:10.988971",
     "exception": false,
     "start_time": "2021-11-17T00:00:09.757636",
     "status": "completed"
    },
    "tags": []
   },
   "outputs": [],
   "source": [
    "df = pd.read_sql(\"select * from EBAY_TOP_BERLIN where record_time in (select distinct record_time from EBAY_TOP_BERLIN order by record_time desc limit 2)\", sqlite3.connect(\"UsedObjects.db\"))"
   ]
  },
  {
   "cell_type": "code",
   "execution_count": 5,
   "id": "popular-active",
   "metadata": {
    "execution": {
     "iopub.execute_input": "2021-11-17T00:00:11.057029Z",
     "iopub.status.busy": "2021-11-17T00:00:11.054768Z",
     "iopub.status.idle": "2021-11-17T00:00:11.085473Z",
     "shell.execute_reply": "2021-11-17T00:00:11.086788Z"
    },
    "papermill": {
     "duration": 0.076248,
     "end_time": "2021-11-17T00:00:11.087272",
     "exception": false,
     "start_time": "2021-11-17T00:00:11.011024",
     "status": "completed"
    },
    "tags": []
   },
   "outputs": [],
   "source": [
    "df_pivot = df.pivot_table(index=\"PRODUCT\", columns = \"RECORD_TIME\", values = \"LISTING_COUNT\")"
   ]
  },
  {
   "cell_type": "code",
   "execution_count": 6,
   "id": "union-huntington",
   "metadata": {
    "execution": {
     "iopub.execute_input": "2021-11-17T00:00:11.146090Z",
     "iopub.status.busy": "2021-11-17T00:00:11.143773Z",
     "iopub.status.idle": "2021-11-17T00:00:11.149064Z",
     "shell.execute_reply": "2021-11-17T00:00:11.150902Z"
    },
    "papermill": {
     "duration": 0.043965,
     "end_time": "2021-11-17T00:00:11.151456",
     "exception": false,
     "start_time": "2021-11-17T00:00:11.107491",
     "status": "completed"
    },
    "tags": []
   },
   "outputs": [],
   "source": [
    "df_pivot.columns = [\"stamp_1\", \"stamp_2\"]\n",
    "df_pivot_diff = df_pivot.diff(axis=1)"
   ]
  },
  {
   "cell_type": "code",
   "execution_count": 7,
   "id": "fifth-motion",
   "metadata": {
    "execution": {
     "iopub.execute_input": "2021-11-17T00:00:11.211682Z",
     "iopub.status.busy": "2021-11-17T00:00:11.209159Z",
     "iopub.status.idle": "2021-11-17T00:00:13.064426Z",
     "shell.execute_reply": "2021-11-17T00:00:13.066004Z"
    },
    "papermill": {
     "duration": 1.892747,
     "end_time": "2021-11-17T00:00:13.066523",
     "exception": false,
     "start_time": "2021-11-17T00:00:11.173776",
     "status": "completed"
    },
    "tags": []
   },
   "outputs": [
    {
     "data": {
      "text/plain": [
       "<AxesSubplot:ylabel='PRODUCT'>"
      ]
     },
     "execution_count": 7,
     "metadata": {},
     "output_type": "execute_result"
    },
    {
     "data": {
      "image/png": "[encoded data removed]",
      "text/plain": [
       "<Figure size 432x288 with 1 Axes>"
      ]
     },
     "metadata": {
      "needs_background": "light"
     },
     "output_type": "display_data"
    }
   ],
   "source": [
    "df_pivot_diff.sort_values(\"stamp_2\", ascending = False)[\"stamp_2\"].head(10).plot.barh()"
   ]
  },
  {
   "cell_type": "code",
   "execution_count": null,
   "id": "extra-executive",
   "metadata": {
    "papermill": {
     "duration": 0.023054,
     "end_time": "2021-11-17T00:00:13.115577",
     "exception": false,
     "start_time": "2021-11-17T00:00:13.092523",
     "status": "completed"
    },
    "tags": []
   },
   "outputs": [],
   "source": []
  }
 ],
 "metadata": {
  "kernelspec": {
   "display_name": "Python 3",
   "language": "python",
   "name": "python3"
  },
  "language_info": {
   "codemirror_mode": {
    "name": "ipython",
    "version": 3
   },
   "file_extension": ".py",
   "mimetype": "text/x-python",
   "name": "python",
   "nbconvert_exporter": "python",
   "pygments_lexer": "ipython3",
   "version": "3.9.5"
  },
  "papermill": {
   "default_parameters": {},
   "duration": 8.879714,
   "end_time": "2021-11-17T00:00:13.962821",
   "environment_variables": {},
   "exception": null,
   "input_path": "eBay_Overview.ipynb",
   "output_path": "eBay_Overview.ipynb",
   "parameters": {},
   "start_time": "2021-11-17T00:00:05.083107",
   "version": "2.3.3"
  }
 },
 "nbformat": 4,
 "nbformat_minor": 5
}