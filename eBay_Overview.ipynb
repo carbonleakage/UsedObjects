{
 "cells": [
  {
   "cell_type": "code",
   "execution_count": 1,
   "id": "reverse-picking",
   "metadata": {
    "execution": {
     "iopub.execute_input": "2021-09-30T05:00:07.157441Z",
     "iopub.status.busy": "2021-09-30T05:00:07.155501Z",
     "iopub.status.idle": "2021-09-30T05:00:07.963666Z",
     "shell.execute_reply": "2021-09-30T05:00:07.964987Z"
    },
    "papermill": {
     "duration": 0.860827,
     "end_time": "2021-09-30T05:00:07.965607",
     "exception": false,
     "start_time": "2021-09-30T05:00:07.104780",
     "status": "completed"
    },
    "tags": []
   },
   "outputs": [],
   "source": [
    "import pandas as pd\n",
    "import sqlite3"
   ]
  },
  {
   "cell_type": "code",
   "execution_count": 2,
   "id": "innovative-syndrome",
   "metadata": {
    "execution": {
     "iopub.execute_input": "2021-09-30T05:00:08.015729Z",
     "iopub.status.busy": "2021-09-30T05:00:08.013733Z",
     "iopub.status.idle": "2021-09-30T05:00:08.424814Z",
     "shell.execute_reply": "2021-09-30T05:00:08.426003Z"
    },
    "papermill": {
     "duration": 0.440627,
     "end_time": "2021-09-30T05:00:08.426433",
     "exception": false,
     "start_time": "2021-09-30T05:00:07.985806",
     "status": "completed"
    },
    "tags": []
   },
   "outputs": [],
   "source": [
    "timestamps = pd.read_sql(\"select distinct record_time from EBAY_TOP_BERLIN order by record_time desc limit 2\", sqlite3.connect(\"UsedObjects.db\"))"
   ]
  },
  {
   "cell_type": "code",
   "execution_count": 3,
   "id": "periodic-identification",
   "metadata": {
    "execution": {
     "iopub.execute_input": "2021-09-30T05:00:08.493684Z",
     "iopub.status.busy": "2021-09-30T05:00:08.491692Z",
     "iopub.status.idle": "2021-09-30T05:00:08.513342Z",
     "shell.execute_reply": "2021-09-30T05:00:08.511802Z"
    },
    "papermill": {
     "duration": 0.067578,
     "end_time": "2021-09-30T05:00:08.513701",
     "exception": false,
     "start_time": "2021-09-30T05:00:08.446123",
     "status": "completed"
    },
    "tags": []
   },
   "outputs": [
    {
     "data": {
      "text/html": [
       "<div>\n",
       "<style scoped>\n",
       "    .dataframe tbody tr th:only-of-type {\n",
       "        vertical-align: middle;\n",
       "    }\n",
       "\n",
       "    .dataframe tbody tr th {\n",
       "        vertical-align: top;\n",
       "    }\n",
       "\n",
       "    .dataframe thead th {\n",
       "        text-align: right;\n",
       "    }\n",
       "</style>\n",
       "<table border=\"1\" class=\"dataframe\">\n",
       "  <thead>\n",
       "    <tr style=\"text-align: right;\">\n",
       "      <th></th>\n",
       "      <th>RECORD_TIME</th>\n",
       "    </tr>\n",
       "  </thead>\n",
       "  <tbody>\n",
       "    <tr>\n",
       "      <th>0</th>\n",
       "      <td>2021-09-30 07:00</td>\n",
       "    </tr>\n",
       "    <tr>\n",
       "      <th>1</th>\n",
       "      <td>2021-09-30 06:30</td>\n",
       "    </tr>\n",
       "  </tbody>\n",
       "</table>\n",
       "</div>"
      ],
      "text/plain": [
       "        RECORD_TIME\n",
       "0  2021-09-30 07:00\n",
       "1  2021-09-30 06:30"
      ]
     },
     "execution_count": 3,
     "metadata": {},
     "output_type": "execute_result"
    }
   ],
   "source": [
    "timestamps"
   ]
  },
  {
   "cell_type": "code",
   "execution_count": 4,
   "id": "alternate-victory",
   "metadata": {
    "execution": {
     "iopub.execute_input": "2021-09-30T05:00:08.565622Z",
     "iopub.status.busy": "2021-09-30T05:00:08.563333Z",
     "iopub.status.idle": "2021-09-30T05:00:09.175887Z",
     "shell.execute_reply": "2021-09-30T05:00:09.177296Z"
    },
    "papermill": {
     "duration": 0.642799,
     "end_time": "2021-09-30T05:00:09.177734",
     "exception": false,
     "start_time": "2021-09-30T05:00:08.534935",
     "status": "completed"
    },
    "tags": []
   },
   "outputs": [],
   "source": [
    "df = pd.read_sql(\"select * from EBAY_TOP_BERLIN where record_time in (select distinct record_time from EBAY_TOP_BERLIN order by record_time desc limit 2)\", sqlite3.connect(\"UsedObjects.db\"))"
   ]
  },
  {
   "cell_type": "code",
   "execution_count": 5,
   "id": "popular-active",
   "metadata": {
    "execution": {
     "iopub.execute_input": "2021-09-30T05:00:09.248059Z",
     "iopub.status.busy": "2021-09-30T05:00:09.236457Z",
     "iopub.status.idle": "2021-09-30T05:00:09.263757Z",
     "shell.execute_reply": "2021-09-30T05:00:09.264997Z"
    },
    "papermill": {
     "duration": 0.066769,
     "end_time": "2021-09-30T05:00:09.265390",
     "exception": false,
     "start_time": "2021-09-30T05:00:09.198621",
     "status": "completed"
    },
    "tags": []
   },
   "outputs": [],
   "source": [
    "df_pivot = df.pivot_table(index=\"PRODUCT\", columns = \"RECORD_TIME\", values = \"LISTING_COUNT\")"
   ]
  },
  {
   "cell_type": "code",
   "execution_count": 6,
   "id": "union-huntington",
   "metadata": {
    "execution": {
     "iopub.execute_input": "2021-09-30T05:00:09.324961Z",
     "iopub.status.busy": "2021-09-30T05:00:09.322474Z",
     "iopub.status.idle": "2021-09-30T05:00:09.328487Z",
     "shell.execute_reply": "2021-09-30T05:00:09.329772Z"
    },
    "papermill": {
     "duration": 0.0425,
     "end_time": "2021-09-30T05:00:09.330185",
     "exception": false,
     "start_time": "2021-09-30T05:00:09.287685",
     "status": "completed"
    },
    "tags": []
   },
   "outputs": [],
   "source": [
    "df_pivot.columns = [\"stamp_1\", \"stamp_2\"]\n",
    "df_pivot_diff = df_pivot.diff(axis=1)"
   ]
  },
  {
   "cell_type": "code",
   "execution_count": 7,
   "id": "fifth-motion",
   "metadata": {
    "execution": {
     "iopub.execute_input": "2021-09-30T05:00:09.384591Z",
     "iopub.status.busy": "2021-09-30T05:00:09.382089Z",
     "iopub.status.idle": "2021-09-30T05:00:10.897012Z",
     "shell.execute_reply": "2021-09-30T05:00:10.898216Z"
    },
    "papermill": {
     "duration": 1.547866,
     "end_time": "2021-09-30T05:00:10.898645",
     "exception": false,
     "start_time": "2021-09-30T05:00:09.350779",
     "status": "completed"
    },
    "tags": []
   },
   "outputs": [
    {
     "data": {
      "text/plain": [
       "<AxesSubplot:ylabel='PRODUCT'>"
      ]
     },
     "execution_count": 7,
     "metadata": {},
     "output_type": "execute_result"
    },
    {
     "data": {
      "image/png": "[encoded data removed]",
      "text/plain": [
       "<Figure size 432x288 with 1 Axes>"
      ]
     },
     "metadata": {
      "needs_background": "light"
     },
     "output_type": "display_data"
    }
   ],
   "source": [
    "df_pivot_diff.sort_values(\"stamp_2\", ascending = False)[\"stamp_2\"].head(10).plot.barh()"
   ]
  },
  {
   "cell_type": "code",
   "execution_count": null,
   "id": "extra-executive",
   "metadata": {
    "papermill": {
     "duration": 0.022458,
     "end_time": "2021-09-30T05:00:10.947482",
     "exception": false,
     "start_time": "2021-09-30T05:00:10.925024",
     "status": "completed"
    },
    "tags": []
   },
   "outputs": [],
   "source": []
  }
 ],
 "metadata": {
  "kernelspec": {
   "display_name": "Python 3",
   "language": "python",
   "name": "python3"
  },
  "language_info": {
   "codemirror_mode": {
    "name": "ipython",
    "version": 3
   },
   "file_extension": ".py",
   "mimetype": "text/x-python",
   "name": "python",
   "nbconvert_exporter": "python",
   "pygments_lexer": "ipython3",
   "version": "3.9.5"
  },
  "papermill": {
   "default_parameters": {},
   "duration": 7.827083,
   "end_time": "2021-09-30T05:00:12.513459",
   "environment_variables": {},
   "exception": null,
   "input_path": "eBay_Overview.ipynb",
   "output_path": "eBay_Overview.ipynb",
   "parameters": {},
   "start_time": "2021-09-30T05:00:04.686376",
   "version": "2.3.3"
  }
 },
 "nbformat": 4,
 "nbformat_minor": 5
}