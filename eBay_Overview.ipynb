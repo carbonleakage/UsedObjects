{
 "cells": [
  {
   "cell_type": "code",
   "execution_count": 1,
   "id": "reverse-picking",
   "metadata": {
    "execution": {
     "iopub.execute_input": "2021-08-28T12:30:06.785334Z",
     "iopub.status.busy": "2021-08-28T12:30:06.783253Z",
     "iopub.status.idle": "2021-08-28T12:30:07.587883Z",
     "shell.execute_reply": "2021-08-28T12:30:07.589224Z"
    },
    "papermill": {
     "duration": 0.855141,
     "end_time": "2021-08-28T12:30:07.589857",
     "exception": false,
     "start_time": "2021-08-28T12:30:06.734716",
     "status": "completed"
    },
    "tags": []
   },
   "outputs": [],
   "source": [
    "import pandas as pd\n",
    "import sqlite3"
   ]
  },
  {
   "cell_type": "code",
   "execution_count": 2,
   "id": "innovative-syndrome",
   "metadata": {
    "execution": {
     "iopub.execute_input": "2021-08-28T12:30:07.641402Z",
     "iopub.status.busy": "2021-08-28T12:30:07.639297Z",
     "iopub.status.idle": "2021-08-28T12:30:07.788607Z",
     "shell.execute_reply": "2021-08-28T12:30:07.789748Z"
    },
    "papermill": {
     "duration": 0.178762,
     "end_time": "2021-08-28T12:30:07.790153",
     "exception": false,
     "start_time": "2021-08-28T12:30:07.611391",
     "status": "completed"
    },
    "tags": []
   },
   "outputs": [],
   "source": [
    "timestamps = pd.read_sql(\"select distinct record_time from EBAY_TOP_BERLIN order by record_time desc limit 2\", sqlite3.connect(\"UsedObjects.db\"))"
   ]
  },
  {
   "cell_type": "code",
   "execution_count": 3,
   "id": "periodic-identification",
   "metadata": {
    "execution": {
     "iopub.execute_input": "2021-08-28T12:30:07.854558Z",
     "iopub.status.busy": "2021-08-28T12:30:07.852535Z",
     "iopub.status.idle": "2021-08-28T12:30:07.872585Z",
     "shell.execute_reply": "2021-08-28T12:30:07.873792Z"
    },
    "papermill": {
     "duration": 0.063309,
     "end_time": "2021-08-28T12:30:07.874221",
     "exception": false,
     "start_time": "2021-08-28T12:30:07.810912",
     "status": "completed"
    },
    "tags": []
   },
   "outputs": [
    {
     "data": {
      "text/html": [
       "<div>\n",
       "<style scoped>\n",
       "    .dataframe tbody tr th:only-of-type {\n",
       "        vertical-align: middle;\n",
       "    }\n",
       "\n",
       "    .dataframe tbody tr th {\n",
       "        vertical-align: top;\n",
       "    }\n",
       "\n",
       "    .dataframe thead th {\n",
       "        text-align: right;\n",
       "    }\n",
       "</style>\n",
       "<table border=\"1\" class=\"dataframe\">\n",
       "  <thead>\n",
       "    <tr style=\"text-align: right;\">\n",
       "      <th></th>\n",
       "      <th>RECORD_TIME</th>\n",
       "    </tr>\n",
       "  </thead>\n",
       "  <tbody>\n",
       "    <tr>\n",
       "      <th>0</th>\n",
       "      <td>2021-08-28 14:30</td>\n",
       "    </tr>\n",
       "    <tr>\n",
       "      <th>1</th>\n",
       "      <td>2021-08-28 14:00</td>\n",
       "    </tr>\n",
       "  </tbody>\n",
       "</table>\n",
       "</div>"
      ],
      "text/plain": [
       "        RECORD_TIME\n",
       "0  2021-08-28 14:30\n",
       "1  2021-08-28 14:00"
      ]
     },
     "execution_count": 3,
     "metadata": {},
     "output_type": "execute_result"
    }
   ],
   "source": [
    "timestamps"
   ]
  },
  {
   "cell_type": "code",
   "execution_count": 4,
   "id": "alternate-victory",
   "metadata": {
    "execution": {
     "iopub.execute_input": "2021-08-28T12:30:07.925896Z",
     "iopub.status.busy": "2021-08-28T12:30:07.923774Z",
     "iopub.status.idle": "2021-08-28T12:30:08.144555Z",
     "shell.execute_reply": "2021-08-28T12:30:08.145889Z"
    },
    "papermill": {
     "duration": 0.250884,
     "end_time": "2021-08-28T12:30:08.146305",
     "exception": false,
     "start_time": "2021-08-28T12:30:07.895421",
     "status": "completed"
    },
    "tags": []
   },
   "outputs": [],
   "source": [
    "df = pd.read_sql(\"select * from EBAY_TOP_BERLIN where record_time in (select distinct record_time from EBAY_TOP_BERLIN order by record_time desc limit 2)\", sqlite3.connect(\"UsedObjects.db\"))"
   ]
  },
  {
   "cell_type": "code",
   "execution_count": 5,
   "id": "popular-active",
   "metadata": {
    "execution": {
     "iopub.execute_input": "2021-08-28T12:30:08.217215Z",
     "iopub.status.busy": "2021-08-28T12:30:08.204465Z",
     "iopub.status.idle": "2021-08-28T12:30:08.233297Z",
     "shell.execute_reply": "2021-08-28T12:30:08.234753Z"
    },
    "papermill": {
     "duration": 0.067613,
     "end_time": "2021-08-28T12:30:08.235196",
     "exception": false,
     "start_time": "2021-08-28T12:30:08.167583",
     "status": "completed"
    },
    "tags": []
   },
   "outputs": [],
   "source": [
    "df_pivot = df.pivot_table(index=\"PRODUCT\", columns = \"RECORD_TIME\", values = \"LISTING_COUNT\")"
   ]
  },
  {
   "cell_type": "code",
   "execution_count": 6,
   "id": "union-huntington",
   "metadata": {
    "execution": {
     "iopub.execute_input": "2021-08-28T12:30:08.299844Z",
     "iopub.status.busy": "2021-08-28T12:30:08.297522Z",
     "iopub.status.idle": "2021-08-28T12:30:08.302984Z",
     "shell.execute_reply": "2021-08-28T12:30:08.304352Z"
    },
    "papermill": {
     "duration": 0.044154,
     "end_time": "2021-08-28T12:30:08.304785",
     "exception": false,
     "start_time": "2021-08-28T12:30:08.260631",
     "status": "completed"
    },
    "tags": []
   },
   "outputs": [],
   "source": [
    "df_pivot.columns = [\"stamp_1\", \"stamp_2\"]\n",
    "df_pivot_diff = df_pivot.diff(axis=1)"
   ]
  },
  {
   "cell_type": "code",
   "execution_count": 7,
   "id": "fifth-motion",
   "metadata": {
    "execution": {
     "iopub.execute_input": "2021-08-28T12:30:08.358806Z",
     "iopub.status.busy": "2021-08-28T12:30:08.356524Z",
     "iopub.status.idle": "2021-08-28T12:30:09.838100Z",
     "shell.execute_reply": "2021-08-28T12:30:09.839302Z"
    },
    "papermill": {
     "duration": 1.514835,
     "end_time": "2021-08-28T12:30:09.839732",
     "exception": false,
     "start_time": "2021-08-28T12:30:08.324897",
     "status": "completed"
    },
    "tags": []
   },
   "outputs": [
    {
     "data": {
      "text/plain": [
       "<AxesSubplot:ylabel='PRODUCT'>"
      ]
     },
     "execution_count": 7,
     "metadata": {},
     "output_type": "execute_result"
    },
    {
     "data": {
      "image/png": "[encoded data removed]",
      "text/plain": [
       "<Figure size 432x288 with 1 Axes>"
      ]
     },
     "metadata": {
      "needs_background": "light"
     },
     "output_type": "display_data"
    }
   ],
   "source": [
    "df_pivot_diff.sort_values(\"stamp_2\", ascending = False)[\"stamp_2\"].head(10).plot.barh()"
   ]
  },
  {
   "cell_type": "code",
   "execution_count": null,
   "id": "extra-executive",
   "metadata": {
    "papermill": {
     "duration": 0.022453,
     "end_time": "2021-08-28T12:30:09.885987",
     "exception": false,
     "start_time": "2021-08-28T12:30:09.863534",
     "status": "completed"
    },
    "tags": []
   },
   "outputs": [],
   "source": []
  }
 ],
 "metadata": {
  "kernelspec": {
   "display_name": "Python 3",
   "language": "python",
   "name": "python3"
  },
  "language_info": {
   "codemirror_mode": {
    "name": "ipython",
    "version": 3
   },
   "file_extension": ".py",
   "mimetype": "text/x-python",
   "name": "python",
   "nbconvert_exporter": "python",
   "pygments_lexer": "ipython3",
   "version": "3.9.5"
  },
  "papermill": {
   "default_parameters": {},
   "duration": 6.830141,
   "end_time": "2021-08-28T12:30:11.162536",
   "environment_variables": {},
   "exception": null,
   "input_path": "eBay_Overview.ipynb",
   "output_path": "eBay_Overview.ipynb",
   "parameters": {},
   "start_time": "2021-08-28T12:30:04.332395",
   "version": "2.3.3"
  }
 },
 "nbformat": 4,
 "nbformat_minor": 5
}