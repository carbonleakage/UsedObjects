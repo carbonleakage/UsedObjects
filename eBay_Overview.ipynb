{
 "cells": [
  {
   "cell_type": "code",
   "execution_count": 1,
   "id": "reverse-picking",
   "metadata": {
    "execution": {
     "iopub.execute_input": "2021-12-02T12:30:08.210108Z",
     "iopub.status.busy": "2021-12-02T12:30:08.207708Z",
     "iopub.status.idle": "2021-12-02T12:30:09.189609Z",
     "shell.execute_reply": "2021-12-02T12:30:09.187656Z"
    },
    "papermill": {
     "duration": 1.028814,
     "end_time": "2021-12-02T12:30:09.190094",
     "exception": false,
     "start_time": "2021-12-02T12:30:08.161280",
     "status": "completed"
    },
    "tags": []
   },
   "outputs": [],
   "source": [
    "import pandas as pd\n",
    "import sqlite3"
   ]
  },
  {
   "cell_type": "code",
   "execution_count": 2,
   "id": "innovative-syndrome",
   "metadata": {
    "execution": {
     "iopub.execute_input": "2021-12-02T12:30:09.243715Z",
     "iopub.status.busy": "2021-12-02T12:30:09.241603Z",
     "iopub.status.idle": "2021-12-02T12:30:10.185934Z",
     "shell.execute_reply": "2021-12-02T12:30:10.188147Z"
    },
    "papermill": {
     "duration": 0.978036,
     "end_time": "2021-12-02T12:30:10.188634",
     "exception": false,
     "start_time": "2021-12-02T12:30:09.210598",
     "status": "completed"
    },
    "tags": []
   },
   "outputs": [],
   "source": [
    "timestamps = pd.read_sql(\"select distinct record_time from EBAY_TOP_BERLIN order by record_time desc limit 2\", sqlite3.connect(\"UsedObjects.db\"))"
   ]
  },
  {
   "cell_type": "code",
   "execution_count": 3,
   "id": "periodic-identification",
   "metadata": {
    "execution": {
     "iopub.execute_input": "2021-12-02T12:30:10.260627Z",
     "iopub.status.busy": "2021-12-02T12:30:10.258316Z",
     "iopub.status.idle": "2021-12-02T12:30:10.282621Z",
     "shell.execute_reply": "2021-12-02T12:30:10.284008Z"
    },
    "papermill": {
     "duration": 0.075162,
     "end_time": "2021-12-02T12:30:10.284490",
     "exception": false,
     "start_time": "2021-12-02T12:30:10.209328",
     "status": "completed"
    },
    "tags": []
   },
   "outputs": [
    {
     "data": {
      "text/html": [
       "<div>\n",
       "<style scoped>\n",
       "    .dataframe tbody tr th:only-of-type {\n",
       "        vertical-align: middle;\n",
       "    }\n",
       "\n",
       "    .dataframe tbody tr th {\n",
       "        vertical-align: top;\n",
       "    }\n",
       "\n",
       "    .dataframe thead th {\n",
       "        text-align: right;\n",
       "    }\n",
       "</style>\n",
       "<table border=\"1\" class=\"dataframe\">\n",
       "  <thead>\n",
       "    <tr style=\"text-align: right;\">\n",
       "      <th></th>\n",
       "      <th>RECORD_TIME</th>\n",
       "    </tr>\n",
       "  </thead>\n",
       "  <tbody>\n",
       "    <tr>\n",
       "      <th>0</th>\n",
       "      <td>2021-12-02 13:30</td>\n",
       "    </tr>\n",
       "    <tr>\n",
       "      <th>1</th>\n",
       "      <td>2021-12-02 13:00</td>\n",
       "    </tr>\n",
       "  </tbody>\n",
       "</table>\n",
       "</div>"
      ],
      "text/plain": [
       "        RECORD_TIME\n",
       "0  2021-12-02 13:30\n",
       "1  2021-12-02 13:00"
      ]
     },
     "execution_count": 3,
     "metadata": {},
     "output_type": "execute_result"
    }
   ],
   "source": [
    "timestamps"
   ]
  },
  {
   "cell_type": "code",
   "execution_count": 4,
   "id": "alternate-victory",
   "metadata": {
    "execution": {
     "iopub.execute_input": "2021-12-02T12:30:10.341509Z",
     "iopub.status.busy": "2021-12-02T12:30:10.339250Z",
     "iopub.status.idle": "2021-12-02T12:30:11.747773Z",
     "shell.execute_reply": "2021-12-02T12:30:11.749979Z"
    },
    "papermill": {
     "duration": 1.444174,
     "end_time": "2021-12-02T12:30:11.750456",
     "exception": false,
     "start_time": "2021-12-02T12:30:10.306282",
     "status": "completed"
    },
    "tags": []
   },
   "outputs": [],
   "source": [
    "df = pd.read_sql(\"select * from EBAY_TOP_BERLIN where record_time in (select distinct record_time from EBAY_TOP_BERLIN order by record_time desc limit 2)\", sqlite3.connect(\"UsedObjects.db\"))"
   ]
  },
  {
   "cell_type": "code",
   "execution_count": 5,
   "id": "popular-active",
   "metadata": {
    "execution": {
     "iopub.execute_input": "2021-12-02T12:30:11.819067Z",
     "iopub.status.busy": "2021-12-02T12:30:11.812663Z",
     "iopub.status.idle": "2021-12-02T12:30:11.850113Z",
     "shell.execute_reply": "2021-12-02T12:30:11.852318Z"
    },
    "papermill": {
     "duration": 0.082188,
     "end_time": "2021-12-02T12:30:11.852956",
     "exception": false,
     "start_time": "2021-12-02T12:30:11.770768",
     "status": "completed"
    },
    "tags": []
   },
   "outputs": [],
   "source": [
    "df_pivot = df.pivot_table(index=\"PRODUCT\", columns = \"RECORD_TIME\", values = \"LISTING_COUNT\")"
   ]
  },
  {
   "cell_type": "code",
   "execution_count": 6,
   "id": "union-huntington",
   "metadata": {
    "execution": {
     "iopub.execute_input": "2021-12-02T12:30:11.915950Z",
     "iopub.status.busy": "2021-12-02T12:30:11.913721Z",
     "iopub.status.idle": "2021-12-02T12:30:11.918616Z",
     "shell.execute_reply": "2021-12-02T12:30:11.920048Z"
    },
    "papermill": {
     "duration": 0.044621,
     "end_time": "2021-12-02T12:30:11.920511",
     "exception": false,
     "start_time": "2021-12-02T12:30:11.875890",
     "status": "completed"
    },
    "tags": []
   },
   "outputs": [],
   "source": [
    "df_pivot.columns = [\"stamp_1\", \"stamp_2\"]\n",
    "df_pivot_diff = df_pivot.diff(axis=1)"
   ]
  },
  {
   "cell_type": "code",
   "execution_count": 7,
   "id": "fifth-motion",
   "metadata": {
    "execution": {
     "iopub.execute_input": "2021-12-02T12:30:11.977221Z",
     "iopub.status.busy": "2021-12-02T12:30:11.974638Z",
     "iopub.status.idle": "2021-12-02T12:30:13.936664Z",
     "shell.execute_reply": "2021-12-02T12:30:13.938117Z"
    },
    "papermill": {
     "duration": 1.997512,
     "end_time": "2021-12-02T12:30:13.938554",
     "exception": false,
     "start_time": "2021-12-02T12:30:11.941042",
     "status": "completed"
    },
    "tags": []
   },
   "outputs": [
    {
     "data": {
      "text/plain": [
       "<AxesSubplot:ylabel='PRODUCT'>"
      ]
     },
     "execution_count": 7,
     "metadata": {},
     "output_type": "execute_result"
    },
    {
     "data": {
      "image/png": "[encoded data removed]",
      "text/plain": [
       "<Figure size 432x288 with 1 Axes>"
      ]
     },
     "metadata": {
      "needs_background": "light"
     },
     "output_type": "display_data"
    }
   ],
   "source": [
    "df_pivot_diff.sort_values(\"stamp_2\", ascending = False)[\"stamp_2\"].head(10).plot.barh()"
   ]
  },
  {
   "cell_type": "code",
   "execution_count": null,
   "id": "extra-executive",
   "metadata": {
    "papermill": {
     "duration": 0.022292,
     "end_time": "2021-12-02T12:30:13.985352",
     "exception": false,
     "start_time": "2021-12-02T12:30:13.963060",
     "status": "completed"
    },
    "tags": []
   },
   "outputs": [],
   "source": []
  }
 ],
 "metadata": {
  "kernelspec": {
   "display_name": "Python 3",
   "language": "python",
   "name": "python3"
  },
  "language_info": {
   "codemirror_mode": {
    "name": "ipython",
    "version": 3
   },
   "file_extension": ".py",
   "mimetype": "text/x-python",
   "name": "python",
   "nbconvert_exporter": "python",
   "pygments_lexer": "ipython3",
   "version": "3.9.5"
  },
  "papermill": {
   "default_parameters": {},
   "duration": 9.936828,
   "end_time": "2021-12-02T12:30:15.335092",
   "environment_variables": {},
   "exception": null,
   "input_path": "eBay_Overview.ipynb",
   "output_path": "eBay_Overview.ipynb",
   "parameters": {},
   "start_time": "2021-12-02T12:30:05.398264",
   "version": "2.3.3"
  }
 },
 "nbformat": 4,
 "nbformat_minor": 5
}