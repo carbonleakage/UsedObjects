{
 "cells": [
  {
   "cell_type": "code",
   "execution_count": 1,
   "id": "reverse-picking",
   "metadata": {
    "execution": {
     "iopub.execute_input": "2021-09-09T23:30:07.308916Z",
     "iopub.status.busy": "2021-09-09T23:30:07.306982Z",
     "iopub.status.idle": "2021-09-09T23:30:08.118448Z",
     "shell.execute_reply": "2021-09-09T23:30:08.120040Z"
    },
    "papermill": {
     "duration": 0.864689,
     "end_time": "2021-09-09T23:30:08.120821",
     "exception": false,
     "start_time": "2021-09-09T23:30:07.256132",
     "status": "completed"
    },
    "tags": []
   },
   "outputs": [],
   "source": [
    "import pandas as pd\n",
    "import sqlite3"
   ]
  },
  {
   "cell_type": "code",
   "execution_count": 2,
   "id": "innovative-syndrome",
   "metadata": {
    "execution": {
     "iopub.execute_input": "2021-09-09T23:30:08.172402Z",
     "iopub.status.busy": "2021-09-09T23:30:08.169993Z",
     "iopub.status.idle": "2021-09-09T23:30:08.417415Z",
     "shell.execute_reply": "2021-09-09T23:30:08.418610Z"
    },
    "papermill": {
     "duration": 0.277517,
     "end_time": "2021-09-09T23:30:08.419067",
     "exception": false,
     "start_time": "2021-09-09T23:30:08.141550",
     "status": "completed"
    },
    "tags": []
   },
   "outputs": [],
   "source": [
    "timestamps = pd.read_sql(\"select distinct record_time from EBAY_TOP_BERLIN order by record_time desc limit 2\", sqlite3.connect(\"UsedObjects.db\"))"
   ]
  },
  {
   "cell_type": "code",
   "execution_count": 3,
   "id": "periodic-identification",
   "metadata": {
    "execution": {
     "iopub.execute_input": "2021-09-09T23:30:08.484092Z",
     "iopub.status.busy": "2021-09-09T23:30:08.482008Z",
     "iopub.status.idle": "2021-09-09T23:30:08.502934Z",
     "shell.execute_reply": "2021-09-09T23:30:08.504246Z"
    },
    "papermill": {
     "duration": 0.066159,
     "end_time": "2021-09-09T23:30:08.504694",
     "exception": false,
     "start_time": "2021-09-09T23:30:08.438535",
     "status": "completed"
    },
    "tags": []
   },
   "outputs": [
    {
     "data": {
      "text/html": [
       "<div>\n",
       "<style scoped>\n",
       "    .dataframe tbody tr th:only-of-type {\n",
       "        vertical-align: middle;\n",
       "    }\n",
       "\n",
       "    .dataframe tbody tr th {\n",
       "        vertical-align: top;\n",
       "    }\n",
       "\n",
       "    .dataframe thead th {\n",
       "        text-align: right;\n",
       "    }\n",
       "</style>\n",
       "<table border=\"1\" class=\"dataframe\">\n",
       "  <thead>\n",
       "    <tr style=\"text-align: right;\">\n",
       "      <th></th>\n",
       "      <th>RECORD_TIME</th>\n",
       "    </tr>\n",
       "  </thead>\n",
       "  <tbody>\n",
       "    <tr>\n",
       "      <th>0</th>\n",
       "      <td>2021-09-10 01:30</td>\n",
       "    </tr>\n",
       "    <tr>\n",
       "      <th>1</th>\n",
       "      <td>2021-09-10 01:00</td>\n",
       "    </tr>\n",
       "  </tbody>\n",
       "</table>\n",
       "</div>"
      ],
      "text/plain": [
       "        RECORD_TIME\n",
       "0  2021-09-10 01:30\n",
       "1  2021-09-10 01:00"
      ]
     },
     "execution_count": 3,
     "metadata": {},
     "output_type": "execute_result"
    }
   ],
   "source": [
    "timestamps"
   ]
  },
  {
   "cell_type": "code",
   "execution_count": 4,
   "id": "alternate-victory",
   "metadata": {
    "execution": {
     "iopub.execute_input": "2021-09-09T23:30:08.557257Z",
     "iopub.status.busy": "2021-09-09T23:30:08.555423Z",
     "iopub.status.idle": "2021-09-09T23:30:08.922450Z",
     "shell.execute_reply": "2021-09-09T23:30:08.923826Z"
    },
    "papermill": {
     "duration": 0.397485,
     "end_time": "2021-09-09T23:30:08.924253",
     "exception": false,
     "start_time": "2021-09-09T23:30:08.526768",
     "status": "completed"
    },
    "tags": []
   },
   "outputs": [],
   "source": [
    "df = pd.read_sql(\"select * from EBAY_TOP_BERLIN where record_time in (select distinct record_time from EBAY_TOP_BERLIN order by record_time desc limit 2)\", sqlite3.connect(\"UsedObjects.db\"))"
   ]
  },
  {
   "cell_type": "code",
   "execution_count": 5,
   "id": "popular-active",
   "metadata": {
    "execution": {
     "iopub.execute_input": "2021-09-09T23:30:09.011617Z",
     "iopub.status.busy": "2021-09-09T23:30:08.999864Z",
     "iopub.status.idle": "2021-09-09T23:30:09.026982Z",
     "shell.execute_reply": "2021-09-09T23:30:09.028333Z"
    },
    "papermill": {
     "duration": 0.074196,
     "end_time": "2021-09-09T23:30:09.028734",
     "exception": false,
     "start_time": "2021-09-09T23:30:08.954538",
     "status": "completed"
    },
    "tags": []
   },
   "outputs": [],
   "source": [
    "df_pivot = df.pivot_table(index=\"PRODUCT\", columns = \"RECORD_TIME\", values = \"LISTING_COUNT\")"
   ]
  },
  {
   "cell_type": "code",
   "execution_count": 6,
   "id": "union-huntington",
   "metadata": {
    "execution": {
     "iopub.execute_input": "2021-09-09T23:30:09.086619Z",
     "iopub.status.busy": "2021-09-09T23:30:09.084385Z",
     "iopub.status.idle": "2021-09-09T23:30:09.090206Z",
     "shell.execute_reply": "2021-09-09T23:30:09.091583Z"
    },
    "papermill": {
     "duration": 0.04201,
     "end_time": "2021-09-09T23:30:09.092014",
     "exception": false,
     "start_time": "2021-09-09T23:30:09.050004",
     "status": "completed"
    },
    "tags": []
   },
   "outputs": [],
   "source": [
    "df_pivot.columns = [\"stamp_1\", \"stamp_2\"]\n",
    "df_pivot_diff = df_pivot.diff(axis=1)"
   ]
  },
  {
   "cell_type": "code",
   "execution_count": 7,
   "id": "fifth-motion",
   "metadata": {
    "execution": {
     "iopub.execute_input": "2021-09-09T23:30:09.146132Z",
     "iopub.status.busy": "2021-09-09T23:30:09.143955Z",
     "iopub.status.idle": "2021-09-09T23:30:10.620198Z",
     "shell.execute_reply": "2021-09-09T23:30:10.621583Z"
    },
    "papermill": {
     "duration": 1.509183,
     "end_time": "2021-09-09T23:30:10.622040",
     "exception": false,
     "start_time": "2021-09-09T23:30:09.112857",
     "status": "completed"
    },
    "tags": []
   },
   "outputs": [
    {
     "data": {
      "text/plain": [
       "<AxesSubplot:ylabel='PRODUCT'>"
      ]
     },
     "execution_count": 7,
     "metadata": {},
     "output_type": "execute_result"
    },
    {
     "data": {
      "image/png": "[encoded data removed]",
      "text/plain": [
       "<Figure size 432x288 with 1 Axes>"
      ]
     },
     "metadata": {
      "needs_background": "light"
     },
     "output_type": "display_data"
    }
   ],
   "source": [
    "df_pivot_diff.sort_values(\"stamp_2\", ascending = False)[\"stamp_2\"].head(10).plot.barh()"
   ]
  },
  {
   "cell_type": "code",
   "execution_count": null,
   "id": "extra-executive",
   "metadata": {
    "papermill": {
     "duration": 0.022825,
     "end_time": "2021-09-09T23:30:10.668685",
     "exception": false,
     "start_time": "2021-09-09T23:30:10.645860",
     "status": "completed"
    },
    "tags": []
   },
   "outputs": [],
   "source": []
  }
 ],
 "metadata": {
  "kernelspec": {
   "display_name": "Python 3",
   "language": "python",
   "name": "python3"
  },
  "language_info": {
   "codemirror_mode": {
    "name": "ipython",
    "version": 3
   },
   "file_extension": ".py",
   "mimetype": "text/x-python",
   "name": "python",
   "nbconvert_exporter": "python",
   "pygments_lexer": "ipython3",
   "version": "3.9.5"
  },
  "papermill": {
   "default_parameters": {},
   "duration": 6.46604,
   "end_time": "2021-09-09T23:30:11.309491",
   "environment_variables": {},
   "exception": null,
   "input_path": "eBay_Overview.ipynb",
   "output_path": "eBay_Overview.ipynb",
   "parameters": {},
   "start_time": "2021-09-09T23:30:04.843451",
   "version": "2.3.3"
  }
 },
 "nbformat": 4,
 "nbformat_minor": 5
}