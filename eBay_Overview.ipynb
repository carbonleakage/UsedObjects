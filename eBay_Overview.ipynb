{
 "cells": [
  {
   "cell_type": "code",
   "execution_count": 1,
   "id": "reverse-picking",
   "metadata": {
    "execution": {
     "iopub.execute_input": "2021-12-13T19:30:08.042943Z",
     "iopub.status.busy": "2021-12-13T19:30:08.034081Z",
     "iopub.status.idle": "2021-12-13T19:30:08.999841Z",
     "shell.execute_reply": "2021-12-13T19:30:09.001839Z"
    },
    "papermill": {
     "duration": 1.015803,
     "end_time": "2021-12-13T19:30:09.002579",
     "exception": false,
     "start_time": "2021-12-13T19:30:07.986776",
     "status": "completed"
    },
    "tags": []
   },
   "outputs": [],
   "source": [
    "import pandas as pd\n",
    "import sqlite3"
   ]
  },
  {
   "cell_type": "code",
   "execution_count": 2,
   "id": "innovative-syndrome",
   "metadata": {
    "execution": {
     "iopub.execute_input": "2021-12-13T19:30:09.067032Z",
     "iopub.status.busy": "2021-12-13T19:30:09.064617Z",
     "iopub.status.idle": "2021-12-13T19:30:10.125966Z",
     "shell.execute_reply": "2021-12-13T19:30:10.127417Z"
    },
    "papermill": {
     "duration": 1.096016,
     "end_time": "2021-12-13T19:30:10.127922",
     "exception": false,
     "start_time": "2021-12-13T19:30:09.031906",
     "status": "completed"
    },
    "tags": []
   },
   "outputs": [],
   "source": [
    "timestamps = pd.read_sql(\"select distinct record_time from EBAY_TOP_BERLIN order by record_time desc limit 2\", sqlite3.connect(\"UsedObjects.db\"))"
   ]
  },
  {
   "cell_type": "code",
   "execution_count": 3,
   "id": "periodic-identification",
   "metadata": {
    "execution": {
     "iopub.execute_input": "2021-12-13T19:30:10.201519Z",
     "iopub.status.busy": "2021-12-13T19:30:10.195107Z",
     "iopub.status.idle": "2021-12-13T19:30:10.218433Z",
     "shell.execute_reply": "2021-12-13T19:30:10.219850Z"
    },
    "papermill": {
     "duration": 0.072548,
     "end_time": "2021-12-13T19:30:10.220344",
     "exception": false,
     "start_time": "2021-12-13T19:30:10.147796",
     "status": "completed"
    },
    "tags": []
   },
   "outputs": [
    {
     "data": {
      "text/html": [
       "<div>\n",
       "<style scoped>\n",
       "    .dataframe tbody tr th:only-of-type {\n",
       "        vertical-align: middle;\n",
       "    }\n",
       "\n",
       "    .dataframe tbody tr th {\n",
       "        vertical-align: top;\n",
       "    }\n",
       "\n",
       "    .dataframe thead th {\n",
       "        text-align: right;\n",
       "    }\n",
       "</style>\n",
       "<table border=\"1\" class=\"dataframe\">\n",
       "  <thead>\n",
       "    <tr style=\"text-align: right;\">\n",
       "      <th></th>\n",
       "      <th>RECORD_TIME</th>\n",
       "    </tr>\n",
       "  </thead>\n",
       "  <tbody>\n",
       "    <tr>\n",
       "      <th>0</th>\n",
       "      <td>2021-12-13 20:30</td>\n",
       "    </tr>\n",
       "    <tr>\n",
       "      <th>1</th>\n",
       "      <td>2021-12-13 20:00</td>\n",
       "    </tr>\n",
       "  </tbody>\n",
       "</table>\n",
       "</div>"
      ],
      "text/plain": [
       "        RECORD_TIME\n",
       "0  2021-12-13 20:30\n",
       "1  2021-12-13 20:00"
      ]
     },
     "execution_count": 3,
     "metadata": {},
     "output_type": "execute_result"
    }
   ],
   "source": [
    "timestamps"
   ]
  },
  {
   "cell_type": "code",
   "execution_count": 4,
   "id": "alternate-victory",
   "metadata": {
    "execution": {
     "iopub.execute_input": "2021-12-13T19:30:10.276443Z",
     "iopub.status.busy": "2021-12-13T19:30:10.274595Z",
     "iopub.status.idle": "2021-12-13T19:30:11.831989Z",
     "shell.execute_reply": "2021-12-13T19:30:11.833702Z"
    },
    "papermill": {
     "duration": 1.59202,
     "end_time": "2021-12-13T19:30:11.834198",
     "exception": false,
     "start_time": "2021-12-13T19:30:10.242178",
     "status": "completed"
    },
    "tags": []
   },
   "outputs": [],
   "source": [
    "df = pd.read_sql(\"select * from EBAY_TOP_BERLIN where record_time in (select distinct record_time from EBAY_TOP_BERLIN order by record_time desc limit 2)\", sqlite3.connect(\"UsedObjects.db\"))"
   ]
  },
  {
   "cell_type": "code",
   "execution_count": 5,
   "id": "popular-active",
   "metadata": {
    "execution": {
     "iopub.execute_input": "2021-12-13T19:30:11.896406Z",
     "iopub.status.busy": "2021-12-13T19:30:11.893953Z",
     "iopub.status.idle": "2021-12-13T19:30:11.935910Z",
     "shell.execute_reply": "2021-12-13T19:30:11.937465Z"
    },
    "papermill": {
     "duration": 0.082689,
     "end_time": "2021-12-13T19:30:11.937983",
     "exception": false,
     "start_time": "2021-12-13T19:30:11.855294",
     "status": "completed"
    },
    "tags": []
   },
   "outputs": [],
   "source": [
    "df_pivot = df.pivot_table(index=\"PRODUCT\", columns = \"RECORD_TIME\", values = \"LISTING_COUNT\")"
   ]
  },
  {
   "cell_type": "code",
   "execution_count": 6,
   "id": "union-huntington",
   "metadata": {
    "execution": {
     "iopub.execute_input": "2021-12-13T19:30:11.998734Z",
     "iopub.status.busy": "2021-12-13T19:30:11.996389Z",
     "iopub.status.idle": "2021-12-13T19:30:12.001508Z",
     "shell.execute_reply": "2021-12-13T19:30:12.002992Z"
    },
    "papermill": {
     "duration": 0.043036,
     "end_time": "2021-12-13T19:30:12.003459",
     "exception": false,
     "start_time": "2021-12-13T19:30:11.960423",
     "status": "completed"
    },
    "tags": []
   },
   "outputs": [],
   "source": [
    "df_pivot.columns = [\"stamp_1\", \"stamp_2\"]\n",
    "df_pivot_diff = df_pivot.diff(axis=1)"
   ]
  },
  {
   "cell_type": "code",
   "execution_count": 7,
   "id": "fifth-motion",
   "metadata": {
    "execution": {
     "iopub.execute_input": "2021-12-13T19:30:12.058781Z",
     "iopub.status.busy": "2021-12-13T19:30:12.056150Z",
     "iopub.status.idle": "2021-12-13T19:30:14.144428Z",
     "shell.execute_reply": "2021-12-13T19:30:14.146015Z"
    },
    "papermill": {
     "duration": 2.123361,
     "end_time": "2021-12-13T19:30:14.146546",
     "exception": false,
     "start_time": "2021-12-13T19:30:12.023185",
     "status": "completed"
    },
    "tags": []
   },
   "outputs": [
    {
     "data": {
      "text/plain": [
       "<AxesSubplot:ylabel='PRODUCT'>"
      ]
     },
     "execution_count": 7,
     "metadata": {},
     "output_type": "execute_result"
    },
    {
     "data": {
      "image/png": "[encoded data removed]",
      "text/plain": [
       "<Figure size 432x288 with 1 Axes>"
      ]
     },
     "metadata": {
      "needs_background": "light"
     },
     "output_type": "display_data"
    }
   ],
   "source": [
    "df_pivot_diff.sort_values(\"stamp_2\", ascending = False)[\"stamp_2\"].head(10).plot.barh()"
   ]
  },
  {
   "cell_type": "code",
   "execution_count": null,
   "id": "extra-executive",
   "metadata": {
    "papermill": {
     "duration": 0.025031,
     "end_time": "2021-12-13T19:30:14.194765",
     "exception": false,
     "start_time": "2021-12-13T19:30:14.169734",
     "status": "completed"
    },
    "tags": []
   },
   "outputs": [],
   "source": []
  }
 ],
 "metadata": {
  "kernelspec": {
   "display_name": "Python 3",
   "language": "python",
   "name": "python3"
  },
  "language_info": {
   "codemirror_mode": {
    "name": "ipython",
    "version": 3
   },
   "file_extension": ".py",
   "mimetype": "text/x-python",
   "name": "python",
   "nbconvert_exporter": "python",
   "pygments_lexer": "ipython3",
   "version": "3.9.5"
  },
  "papermill": {
   "default_parameters": {},
   "duration": 9.595972,
   "end_time": "2021-12-13T19:30:14.835685",
   "environment_variables": {},
   "exception": null,
   "input_path": "eBay_Overview.ipynb",
   "output_path": "eBay_Overview.ipynb",
   "parameters": {},
   "start_time": "2021-12-13T19:30:05.239713",
   "version": "2.3.3"
  }
 },
 "nbformat": 4,
 "nbformat_minor": 5
}