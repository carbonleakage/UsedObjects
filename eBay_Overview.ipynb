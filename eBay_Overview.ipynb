{
 "cells": [
  {
   "cell_type": "code",
   "execution_count": 1,
   "id": "reverse-picking",
   "metadata": {
    "execution": {
     "iopub.execute_input": "2021-11-11T09:30:07.468529Z",
     "iopub.status.busy": "2021-11-11T09:30:07.466317Z",
     "iopub.status.idle": "2021-11-11T09:30:08.413306Z",
     "shell.execute_reply": "2021-11-11T09:30:08.414765Z"
    },
    "papermill": {
     "duration": 0.999015,
     "end_time": "2021-11-11T09:30:08.415443",
     "exception": false,
     "start_time": "2021-11-11T09:30:07.416428",
     "status": "completed"
    },
    "tags": []
   },
   "outputs": [],
   "source": [
    "import pandas as pd\n",
    "import sqlite3"
   ]
  },
  {
   "cell_type": "code",
   "execution_count": 2,
   "id": "innovative-syndrome",
   "metadata": {
    "execution": {
     "iopub.execute_input": "2021-11-11T09:30:08.476638Z",
     "iopub.status.busy": "2021-11-11T09:30:08.474263Z",
     "iopub.status.idle": "2021-11-11T09:30:09.255709Z",
     "shell.execute_reply": "2021-11-11T09:30:09.257335Z"
    },
    "papermill": {
     "duration": 0.815507,
     "end_time": "2021-11-11T09:30:09.257963",
     "exception": false,
     "start_time": "2021-11-11T09:30:08.442456",
     "status": "completed"
    },
    "tags": []
   },
   "outputs": [],
   "source": [
    "timestamps = pd.read_sql(\"select distinct record_time from EBAY_TOP_BERLIN order by record_time desc limit 2\", sqlite3.connect(\"UsedObjects.db\"))"
   ]
  },
  {
   "cell_type": "code",
   "execution_count": 3,
   "id": "periodic-identification",
   "metadata": {
    "execution": {
     "iopub.execute_input": "2021-11-11T09:30:09.331881Z",
     "iopub.status.busy": "2021-11-11T09:30:09.329432Z",
     "iopub.status.idle": "2021-11-11T09:30:09.353150Z",
     "shell.execute_reply": "2021-11-11T09:30:09.354780Z"
    },
    "papermill": {
     "duration": 0.076217,
     "end_time": "2021-11-11T09:30:09.355312",
     "exception": false,
     "start_time": "2021-11-11T09:30:09.279095",
     "status": "completed"
    },
    "tags": []
   },
   "outputs": [
    {
     "data": {
      "text/html": [
       "<div>\n",
       "<style scoped>\n",
       "    .dataframe tbody tr th:only-of-type {\n",
       "        vertical-align: middle;\n",
       "    }\n",
       "\n",
       "    .dataframe tbody tr th {\n",
       "        vertical-align: top;\n",
       "    }\n",
       "\n",
       "    .dataframe thead th {\n",
       "        text-align: right;\n",
       "    }\n",
       "</style>\n",
       "<table border=\"1\" class=\"dataframe\">\n",
       "  <thead>\n",
       "    <tr style=\"text-align: right;\">\n",
       "      <th></th>\n",
       "      <th>RECORD_TIME</th>\n",
       "    </tr>\n",
       "  </thead>\n",
       "  <tbody>\n",
       "    <tr>\n",
       "      <th>0</th>\n",
       "      <td>2021-11-11 10:30</td>\n",
       "    </tr>\n",
       "    <tr>\n",
       "      <th>1</th>\n",
       "      <td>2021-11-11 10:00</td>\n",
       "    </tr>\n",
       "  </tbody>\n",
       "</table>\n",
       "</div>"
      ],
      "text/plain": [
       "        RECORD_TIME\n",
       "0  2021-11-11 10:30\n",
       "1  2021-11-11 10:00"
      ]
     },
     "execution_count": 3,
     "metadata": {},
     "output_type": "execute_result"
    }
   ],
   "source": [
    "timestamps"
   ]
  },
  {
   "cell_type": "code",
   "execution_count": 4,
   "id": "alternate-victory",
   "metadata": {
    "execution": {
     "iopub.execute_input": "2021-11-11T09:30:09.412072Z",
     "iopub.status.busy": "2021-11-11T09:30:09.409895Z",
     "iopub.status.idle": "2021-11-11T09:30:10.561399Z",
     "shell.execute_reply": "2021-11-11T09:30:10.562859Z"
    },
    "papermill": {
     "duration": 1.185325,
     "end_time": "2021-11-11T09:30:10.563312",
     "exception": false,
     "start_time": "2021-11-11T09:30:09.377987",
     "status": "completed"
    },
    "tags": []
   },
   "outputs": [],
   "source": [
    "df = pd.read_sql(\"select * from EBAY_TOP_BERLIN where record_time in (select distinct record_time from EBAY_TOP_BERLIN order by record_time desc limit 2)\", sqlite3.connect(\"UsedObjects.db\"))"
   ]
  },
  {
   "cell_type": "code",
   "execution_count": 5,
   "id": "popular-active",
   "metadata": {
    "execution": {
     "iopub.execute_input": "2021-11-11T09:30:10.649497Z",
     "iopub.status.busy": "2021-11-11T09:30:10.629770Z",
     "iopub.status.idle": "2021-11-11T09:30:10.683096Z",
     "shell.execute_reply": "2021-11-11T09:30:10.685999Z"
    },
    "papermill": {
     "duration": 0.101771,
     "end_time": "2021-11-11T09:30:10.686812",
     "exception": false,
     "start_time": "2021-11-11T09:30:10.585041",
     "status": "completed"
    },
    "tags": []
   },
   "outputs": [],
   "source": [
    "df_pivot = df.pivot_table(index=\"PRODUCT\", columns = \"RECORD_TIME\", values = \"LISTING_COUNT\")"
   ]
  },
  {
   "cell_type": "code",
   "execution_count": 6,
   "id": "union-huntington",
   "metadata": {
    "execution": {
     "iopub.execute_input": "2021-11-11T09:30:10.758990Z",
     "iopub.status.busy": "2021-11-11T09:30:10.756611Z",
     "iopub.status.idle": "2021-11-11T09:30:10.761853Z",
     "shell.execute_reply": "2021-11-11T09:30:10.763863Z"
    },
    "papermill": {
     "duration": 0.04708,
     "end_time": "2021-11-11T09:30:10.764382",
     "exception": false,
     "start_time": "2021-11-11T09:30:10.717302",
     "status": "completed"
    },
    "tags": []
   },
   "outputs": [],
   "source": [
    "df_pivot.columns = [\"stamp_1\", \"stamp_2\"]\n",
    "df_pivot_diff = df_pivot.diff(axis=1)"
   ]
  },
  {
   "cell_type": "code",
   "execution_count": 7,
   "id": "fifth-motion",
   "metadata": {
    "execution": {
     "iopub.execute_input": "2021-11-11T09:30:10.823770Z",
     "iopub.status.busy": "2021-11-11T09:30:10.821318Z",
     "iopub.status.idle": "2021-11-11T09:30:12.706462Z",
     "shell.execute_reply": "2021-11-11T09:30:12.709024Z"
    },
    "papermill": {
     "duration": 1.923888,
     "end_time": "2021-11-11T09:30:12.709849",
     "exception": false,
     "start_time": "2021-11-11T09:30:10.785961",
     "status": "completed"
    },
    "tags": []
   },
   "outputs": [
    {
     "data": {
      "text/plain": [
       "<AxesSubplot:ylabel='PRODUCT'>"
      ]
     },
     "execution_count": 7,
     "metadata": {},
     "output_type": "execute_result"
    },
    {
     "data": {
      "image/png": "[encoded data removed]",
      "text/plain": [
       "<Figure size 432x288 with 1 Axes>"
      ]
     },
     "metadata": {
      "needs_background": "light"
     },
     "output_type": "display_data"
    }
   ],
   "source": [
    "df_pivot_diff.sort_values(\"stamp_2\", ascending = False)[\"stamp_2\"].head(10).plot.barh()"
   ]
  },
  {
   "cell_type": "code",
   "execution_count": null,
   "id": "extra-executive",
   "metadata": {
    "papermill": {
     "duration": 0.028731,
     "end_time": "2021-11-11T09:30:12.775547",
     "exception": false,
     "start_time": "2021-11-11T09:30:12.746816",
     "status": "completed"
    },
    "tags": []
   },
   "outputs": [],
   "source": []
  }
 ],
 "metadata": {
  "kernelspec": {
   "display_name": "Python 3",
   "language": "python",
   "name": "python3"
  },
  "language_info": {
   "codemirror_mode": {
    "name": "ipython",
    "version": 3
   },
   "file_extension": ".py",
   "mimetype": "text/x-python",
   "name": "python",
   "nbconvert_exporter": "python",
   "pygments_lexer": "ipython3",
   "version": "3.9.5"
  },
  "papermill": {
   "default_parameters": {},
   "duration": 9.938416,
   "end_time": "2021-11-11T09:30:14.630498",
   "environment_variables": {},
   "exception": null,
   "input_path": "eBay_Overview.ipynb",
   "output_path": "eBay_Overview.ipynb",
   "parameters": {},
   "start_time": "2021-11-11T09:30:04.692082",
   "version": "2.3.3"
  }
 },
 "nbformat": 4,
 "nbformat_minor": 5
}