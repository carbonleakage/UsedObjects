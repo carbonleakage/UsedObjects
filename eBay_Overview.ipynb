{
 "cells": [
  {
   "cell_type": "code",
   "execution_count": 1,
   "id": "reverse-picking",
   "metadata": {
    "execution": {
     "iopub.execute_input": "2021-11-24T21:30:07.160604Z",
     "iopub.status.busy": "2021-11-24T21:30:07.158472Z",
     "iopub.status.idle": "2021-11-24T21:30:08.118160Z",
     "shell.execute_reply": "2021-11-24T21:30:08.116115Z"
    },
    "papermill": {
     "duration": 1.004905,
     "end_time": "2021-11-24T21:30:08.118637",
     "exception": false,
     "start_time": "2021-11-24T21:30:07.113732",
     "status": "completed"
    },
    "tags": []
   },
   "outputs": [],
   "source": [
    "import pandas as pd\n",
    "import sqlite3"
   ]
  },
  {
   "cell_type": "code",
   "execution_count": 2,
   "id": "innovative-syndrome",
   "metadata": {
    "execution": {
     "iopub.execute_input": "2021-11-24T21:30:08.219616Z",
     "iopub.status.busy": "2021-11-24T21:30:08.217463Z",
     "iopub.status.idle": "2021-11-24T21:30:09.128398Z",
     "shell.execute_reply": "2021-11-24T21:30:09.129893Z"
    },
    "papermill": {
     "duration": 0.97895,
     "end_time": "2021-11-24T21:30:09.130831",
     "exception": false,
     "start_time": "2021-11-24T21:30:08.151881",
     "status": "completed"
    },
    "tags": []
   },
   "outputs": [],
   "source": [
    "timestamps = pd.read_sql(\"select distinct record_time from EBAY_TOP_BERLIN order by record_time desc limit 2\", sqlite3.connect(\"UsedObjects.db\"))"
   ]
  },
  {
   "cell_type": "code",
   "execution_count": 3,
   "id": "periodic-identification",
   "metadata": {
    "execution": {
     "iopub.execute_input": "2021-11-24T21:30:09.200845Z",
     "iopub.status.busy": "2021-11-24T21:30:09.198383Z",
     "iopub.status.idle": "2021-11-24T21:30:09.220947Z",
     "shell.execute_reply": "2021-11-24T21:30:09.222424Z"
    },
    "papermill": {
     "duration": 0.071903,
     "end_time": "2021-11-24T21:30:09.222918",
     "exception": false,
     "start_time": "2021-11-24T21:30:09.151015",
     "status": "completed"
    },
    "tags": []
   },
   "outputs": [
    {
     "data": {
      "text/html": [
       "<div>\n",
       "<style scoped>\n",
       "    .dataframe tbody tr th:only-of-type {\n",
       "        vertical-align: middle;\n",
       "    }\n",
       "\n",
       "    .dataframe tbody tr th {\n",
       "        vertical-align: top;\n",
       "    }\n",
       "\n",
       "    .dataframe thead th {\n",
       "        text-align: right;\n",
       "    }\n",
       "</style>\n",
       "<table border=\"1\" class=\"dataframe\">\n",
       "  <thead>\n",
       "    <tr style=\"text-align: right;\">\n",
       "      <th></th>\n",
       "      <th>RECORD_TIME</th>\n",
       "    </tr>\n",
       "  </thead>\n",
       "  <tbody>\n",
       "    <tr>\n",
       "      <th>0</th>\n",
       "      <td>2021-11-24 22:30</td>\n",
       "    </tr>\n",
       "    <tr>\n",
       "      <th>1</th>\n",
       "      <td>2021-11-24 22:00</td>\n",
       "    </tr>\n",
       "  </tbody>\n",
       "</table>\n",
       "</div>"
      ],
      "text/plain": [
       "        RECORD_TIME\n",
       "0  2021-11-24 22:30\n",
       "1  2021-11-24 22:00"
      ]
     },
     "execution_count": 3,
     "metadata": {},
     "output_type": "execute_result"
    }
   ],
   "source": [
    "timestamps"
   ]
  },
  {
   "cell_type": "code",
   "execution_count": 4,
   "id": "alternate-victory",
   "metadata": {
    "execution": {
     "iopub.execute_input": "2021-11-24T21:30:09.281196Z",
     "iopub.status.busy": "2021-11-24T21:30:09.277364Z",
     "iopub.status.idle": "2021-11-24T21:30:10.565578Z",
     "shell.execute_reply": "2021-11-24T21:30:10.567287Z"
    },
    "papermill": {
     "duration": 1.32346,
     "end_time": "2021-11-24T21:30:10.567831",
     "exception": false,
     "start_time": "2021-11-24T21:30:09.244371",
     "status": "completed"
    },
    "tags": []
   },
   "outputs": [],
   "source": [
    "df = pd.read_sql(\"select * from EBAY_TOP_BERLIN where record_time in (select distinct record_time from EBAY_TOP_BERLIN order by record_time desc limit 2)\", sqlite3.connect(\"UsedObjects.db\"))"
   ]
  },
  {
   "cell_type": "code",
   "execution_count": 5,
   "id": "popular-active",
   "metadata": {
    "execution": {
     "iopub.execute_input": "2021-11-24T21:30:10.665584Z",
     "iopub.status.busy": "2021-11-24T21:30:10.641410Z",
     "iopub.status.idle": "2021-11-24T21:30:10.700535Z",
     "shell.execute_reply": "2021-11-24T21:30:10.702703Z"
    },
    "papermill": {
     "duration": 0.114266,
     "end_time": "2021-11-24T21:30:10.703428",
     "exception": false,
     "start_time": "2021-11-24T21:30:10.589162",
     "status": "completed"
    },
    "tags": []
   },
   "outputs": [],
   "source": [
    "df_pivot = df.pivot_table(index=\"PRODUCT\", columns = \"RECORD_TIME\", values = \"LISTING_COUNT\")"
   ]
  },
  {
   "cell_type": "code",
   "execution_count": 6,
   "id": "union-huntington",
   "metadata": {
    "execution": {
     "iopub.execute_input": "2021-11-24T21:30:10.766655Z",
     "iopub.status.busy": "2021-11-24T21:30:10.764305Z",
     "iopub.status.idle": "2021-11-24T21:30:10.769503Z",
     "shell.execute_reply": "2021-11-24T21:30:10.771500Z"
    },
    "papermill": {
     "duration": 0.046337,
     "end_time": "2021-11-24T21:30:10.772016",
     "exception": false,
     "start_time": "2021-11-24T21:30:10.725679",
     "status": "completed"
    },
    "tags": []
   },
   "outputs": [],
   "source": [
    "df_pivot.columns = [\"stamp_1\", \"stamp_2\"]\n",
    "df_pivot_diff = df_pivot.diff(axis=1)"
   ]
  },
  {
   "cell_type": "code",
   "execution_count": 7,
   "id": "fifth-motion",
   "metadata": {
    "execution": {
     "iopub.execute_input": "2021-11-24T21:30:10.830232Z",
     "iopub.status.busy": "2021-11-24T21:30:10.827656Z",
     "iopub.status.idle": "2021-11-24T21:30:12.719060Z",
     "shell.execute_reply": "2021-11-24T21:30:12.722385Z"
    },
    "papermill": {
     "duration": 1.929492,
     "end_time": "2021-11-24T21:30:12.723341",
     "exception": false,
     "start_time": "2021-11-24T21:30:10.793849",
     "status": "completed"
    },
    "tags": []
   },
   "outputs": [
    {
     "data": {
      "text/plain": [
       "<AxesSubplot:ylabel='PRODUCT'>"
      ]
     },
     "execution_count": 7,
     "metadata": {},
     "output_type": "execute_result"
    },
    {
     "data": {
      "image/png": "[encoded data removed]",
      "text/plain": [
       "<Figure size 432x288 with 1 Axes>"
      ]
     },
     "metadata": {
      "needs_background": "light"
     },
     "output_type": "display_data"
    }
   ],
   "source": [
    "df_pivot_diff.sort_values(\"stamp_2\", ascending = False)[\"stamp_2\"].head(10).plot.barh()"
   ]
  },
  {
   "cell_type": "code",
   "execution_count": null,
   "id": "extra-executive",
   "metadata": {
    "papermill": {
     "duration": 0.027506,
     "end_time": "2021-11-24T21:30:12.784071",
     "exception": false,
     "start_time": "2021-11-24T21:30:12.756565",
     "status": "completed"
    },
    "tags": []
   },
   "outputs": [],
   "source": []
  }
 ],
 "metadata": {
  "kernelspec": {
   "display_name": "Python 3",
   "language": "python",
   "name": "python3"
  },
  "language_info": {
   "codemirror_mode": {
    "name": "ipython",
    "version": 3
   },
   "file_extension": ".py",
   "mimetype": "text/x-python",
   "name": "python",
   "nbconvert_exporter": "python",
   "pygments_lexer": "ipython3",
   "version": "3.9.5"
  },
  "papermill": {
   "default_parameters": {},
   "duration": 9.959289,
   "end_time": "2021-11-24T21:30:14.320144",
   "environment_variables": {},
   "exception": null,
   "input_path": "eBay_Overview.ipynb",
   "output_path": "eBay_Overview.ipynb",
   "parameters": {},
   "start_time": "2021-11-24T21:30:04.360855",
   "version": "2.3.3"
  }
 },
 "nbformat": 4,
 "nbformat_minor": 5
}