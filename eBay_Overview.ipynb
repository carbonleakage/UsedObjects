{
 "cells": [
  {
   "cell_type": "code",
   "execution_count": 1,
   "id": "reverse-picking",
   "metadata": {
    "execution": {
     "iopub.execute_input": "2021-11-06T14:00:07.840893Z",
     "iopub.status.busy": "2021-11-06T14:00:07.838635Z",
     "iopub.status.idle": "2021-11-06T14:00:08.795764Z",
     "shell.execute_reply": "2021-11-06T14:00:08.797438Z"
    },
    "papermill": {
     "duration": 1.006947,
     "end_time": "2021-11-06T14:00:08.798217",
     "exception": false,
     "start_time": "2021-11-06T14:00:07.791270",
     "status": "completed"
    },
    "tags": []
   },
   "outputs": [],
   "source": [
    "import pandas as pd\n",
    "import sqlite3"
   ]
  },
  {
   "cell_type": "code",
   "execution_count": 2,
   "id": "innovative-syndrome",
   "metadata": {
    "execution": {
     "iopub.execute_input": "2021-11-06T14:00:08.860004Z",
     "iopub.status.busy": "2021-11-06T14:00:08.857786Z",
     "iopub.status.idle": "2021-11-06T14:00:09.619679Z",
     "shell.execute_reply": "2021-11-06T14:00:09.621224Z"
    },
    "papermill": {
     "duration": 0.796255,
     "end_time": "2021-11-06T14:00:09.621721",
     "exception": false,
     "start_time": "2021-11-06T14:00:08.825466",
     "status": "completed"
    },
    "tags": []
   },
   "outputs": [],
   "source": [
    "timestamps = pd.read_sql(\"select distinct record_time from EBAY_TOP_BERLIN order by record_time desc limit 2\", sqlite3.connect(\"UsedObjects.db\"))"
   ]
  },
  {
   "cell_type": "code",
   "execution_count": 3,
   "id": "periodic-identification",
   "metadata": {
    "execution": {
     "iopub.execute_input": "2021-11-06T14:00:09.692779Z",
     "iopub.status.busy": "2021-11-06T14:00:09.690619Z",
     "iopub.status.idle": "2021-11-06T14:00:09.715007Z",
     "shell.execute_reply": "2021-11-06T14:00:09.713378Z"
    },
    "papermill": {
     "duration": 0.073216,
     "end_time": "2021-11-06T14:00:09.715429",
     "exception": false,
     "start_time": "2021-11-06T14:00:09.642213",
     "status": "completed"
    },
    "tags": []
   },
   "outputs": [
    {
     "data": {
      "text/html": [
       "<div>\n",
       "<style scoped>\n",
       "    .dataframe tbody tr th:only-of-type {\n",
       "        vertical-align: middle;\n",
       "    }\n",
       "\n",
       "    .dataframe tbody tr th {\n",
       "        vertical-align: top;\n",
       "    }\n",
       "\n",
       "    .dataframe thead th {\n",
       "        text-align: right;\n",
       "    }\n",
       "</style>\n",
       "<table border=\"1\" class=\"dataframe\">\n",
       "  <thead>\n",
       "    <tr style=\"text-align: right;\">\n",
       "      <th></th>\n",
       "      <th>RECORD_TIME</th>\n",
       "    </tr>\n",
       "  </thead>\n",
       "  <tbody>\n",
       "    <tr>\n",
       "      <th>0</th>\n",
       "      <td>2021-11-06 15:00</td>\n",
       "    </tr>\n",
       "    <tr>\n",
       "      <th>1</th>\n",
       "      <td>2021-11-06 14:30</td>\n",
       "    </tr>\n",
       "  </tbody>\n",
       "</table>\n",
       "</div>"
      ],
      "text/plain": [
       "        RECORD_TIME\n",
       "0  2021-11-06 15:00\n",
       "1  2021-11-06 14:30"
      ]
     },
     "execution_count": 3,
     "metadata": {},
     "output_type": "execute_result"
    }
   ],
   "source": [
    "timestamps"
   ]
  },
  {
   "cell_type": "code",
   "execution_count": 4,
   "id": "alternate-victory",
   "metadata": {
    "execution": {
     "iopub.execute_input": "2021-11-06T14:00:09.768815Z",
     "iopub.status.busy": "2021-11-06T14:00:09.766810Z",
     "iopub.status.idle": "2021-11-06T14:00:10.925834Z",
     "shell.execute_reply": "2021-11-06T14:00:10.927419Z"
    },
    "papermill": {
     "duration": 1.191536,
     "end_time": "2021-11-06T14:00:10.927906",
     "exception": false,
     "start_time": "2021-11-06T14:00:09.736370",
     "status": "completed"
    },
    "tags": []
   },
   "outputs": [],
   "source": [
    "df = pd.read_sql(\"select * from EBAY_TOP_BERLIN where record_time in (select distinct record_time from EBAY_TOP_BERLIN order by record_time desc limit 2)\", sqlite3.connect(\"UsedObjects.db\"))"
   ]
  },
  {
   "cell_type": "code",
   "execution_count": 5,
   "id": "popular-active",
   "metadata": {
    "execution": {
     "iopub.execute_input": "2021-11-06T14:00:11.008376Z",
     "iopub.status.busy": "2021-11-06T14:00:10.994382Z",
     "iopub.status.idle": "2021-11-06T14:00:11.028083Z",
     "shell.execute_reply": "2021-11-06T14:00:11.029780Z"
    },
    "papermill": {
     "duration": 0.080477,
     "end_time": "2021-11-06T14:00:11.030271",
     "exception": false,
     "start_time": "2021-11-06T14:00:10.949794",
     "status": "completed"
    },
    "tags": []
   },
   "outputs": [],
   "source": [
    "df_pivot = df.pivot_table(index=\"PRODUCT\", columns = \"RECORD_TIME\", values = \"LISTING_COUNT\")"
   ]
  },
  {
   "cell_type": "code",
   "execution_count": 6,
   "id": "union-huntington",
   "metadata": {
    "execution": {
     "iopub.execute_input": "2021-11-06T14:00:11.093503Z",
     "iopub.status.busy": "2021-11-06T14:00:11.091167Z",
     "iopub.status.idle": "2021-11-06T14:00:11.098830Z",
     "shell.execute_reply": "2021-11-06T14:00:11.097234Z"
    },
    "papermill": {
     "duration": 0.046047,
     "end_time": "2021-11-06T14:00:11.099276",
     "exception": false,
     "start_time": "2021-11-06T14:00:11.053229",
     "status": "completed"
    },
    "tags": []
   },
   "outputs": [],
   "source": [
    "df_pivot.columns = [\"stamp_1\", \"stamp_2\"]\n",
    "df_pivot_diff = df_pivot.diff(axis=1)"
   ]
  },
  {
   "cell_type": "code",
   "execution_count": 7,
   "id": "fifth-motion",
   "metadata": {
    "execution": {
     "iopub.execute_input": "2021-11-06T14:00:11.159060Z",
     "iopub.status.busy": "2021-11-06T14:00:11.156470Z",
     "iopub.status.idle": "2021-11-06T14:00:13.036605Z",
     "shell.execute_reply": "2021-11-06T14:00:13.038046Z"
    },
    "papermill": {
     "duration": 1.91675,
     "end_time": "2021-11-06T14:00:13.038537",
     "exception": false,
     "start_time": "2021-11-06T14:00:11.121787",
     "status": "completed"
    },
    "tags": []
   },
   "outputs": [
    {
     "data": {
      "text/plain": [
       "<AxesSubplot:ylabel='PRODUCT'>"
      ]
     },
     "execution_count": 7,
     "metadata": {},
     "output_type": "execute_result"
    },
    {
     "data": {
      "image/png": "[encoded data removed]",
      "text/plain": [
       "<Figure size 432x288 with 1 Axes>"
      ]
     },
     "metadata": {
      "needs_background": "light"
     },
     "output_type": "display_data"
    }
   ],
   "source": [
    "df_pivot_diff.sort_values(\"stamp_2\", ascending = False)[\"stamp_2\"].head(10).plot.barh()"
   ]
  },
  {
   "cell_type": "code",
   "execution_count": null,
   "id": "extra-executive",
   "metadata": {
    "papermill": {
     "duration": 0.026696,
     "end_time": "2021-11-06T14:00:13.089090",
     "exception": false,
     "start_time": "2021-11-06T14:00:13.062394",
     "status": "completed"
    },
    "tags": []
   },
   "outputs": [],
   "source": []
  }
 ],
 "metadata": {
  "kernelspec": {
   "display_name": "Python 3",
   "language": "python",
   "name": "python3"
  },
  "language_info": {
   "codemirror_mode": {
    "name": "ipython",
    "version": 3
   },
   "file_extension": ".py",
   "mimetype": "text/x-python",
   "name": "python",
   "nbconvert_exporter": "python",
   "pygments_lexer": "ipython3",
   "version": "3.9.5"
  },
  "papermill": {
   "default_parameters": {},
   "duration": 9.992523,
   "end_time": "2021-11-06T14:00:14.976463",
   "environment_variables": {},
   "exception": null,
   "input_path": "eBay_Overview.ipynb",
   "output_path": "eBay_Overview.ipynb",
   "parameters": {},
   "start_time": "2021-11-06T14:00:04.983940",
   "version": "2.3.3"
  }
 },
 "nbformat": 4,
 "nbformat_minor": 5
}