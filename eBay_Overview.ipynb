{
 "cells": [
  {
   "cell_type": "code",
   "execution_count": 1,
   "id": "reverse-picking",
   "metadata": {
    "execution": {
     "iopub.execute_input": "2021-10-13T08:30:06.823183Z",
     "iopub.status.busy": "2021-10-13T08:30:06.820734Z",
     "iopub.status.idle": "2021-10-13T08:30:07.621828Z",
     "shell.execute_reply": "2021-10-13T08:30:07.623263Z"
    },
    "papermill": {
     "duration": 0.853695,
     "end_time": "2021-10-13T08:30:07.623932",
     "exception": false,
     "start_time": "2021-10-13T08:30:06.770237",
     "status": "completed"
    },
    "tags": []
   },
   "outputs": [],
   "source": [
    "import pandas as pd\n",
    "import sqlite3"
   ]
  },
  {
   "cell_type": "code",
   "execution_count": 2,
   "id": "innovative-syndrome",
   "metadata": {
    "execution": {
     "iopub.execute_input": "2021-10-13T08:30:07.674636Z",
     "iopub.status.busy": "2021-10-13T08:30:07.672178Z",
     "iopub.status.idle": "2021-10-13T08:30:08.193018Z",
     "shell.execute_reply": "2021-10-13T08:30:08.194230Z"
    },
    "papermill": {
     "duration": 0.55058,
     "end_time": "2021-10-13T08:30:08.194621",
     "exception": false,
     "start_time": "2021-10-13T08:30:07.644041",
     "status": "completed"
    },
    "tags": []
   },
   "outputs": [],
   "source": [
    "timestamps = pd.read_sql(\"select distinct record_time from EBAY_TOP_BERLIN order by record_time desc limit 2\", sqlite3.connect(\"UsedObjects.db\"))"
   ]
  },
  {
   "cell_type": "code",
   "execution_count": 3,
   "id": "periodic-identification",
   "metadata": {
    "execution": {
     "iopub.execute_input": "2021-10-13T08:30:08.263864Z",
     "iopub.status.busy": "2021-10-13T08:30:08.261858Z",
     "iopub.status.idle": "2021-10-13T08:30:08.281210Z",
     "shell.execute_reply": "2021-10-13T08:30:08.282628Z"
    },
    "papermill": {
     "duration": 0.065041,
     "end_time": "2021-10-13T08:30:08.283065",
     "exception": false,
     "start_time": "2021-10-13T08:30:08.218024",
     "status": "completed"
    },
    "tags": []
   },
   "outputs": [
    {
     "data": {
      "text/html": [
       "<div>\n",
       "<style scoped>\n",
       "    .dataframe tbody tr th:only-of-type {\n",
       "        vertical-align: middle;\n",
       "    }\n",
       "\n",
       "    .dataframe tbody tr th {\n",
       "        vertical-align: top;\n",
       "    }\n",
       "\n",
       "    .dataframe thead th {\n",
       "        text-align: right;\n",
       "    }\n",
       "</style>\n",
       "<table border=\"1\" class=\"dataframe\">\n",
       "  <thead>\n",
       "    <tr style=\"text-align: right;\">\n",
       "      <th></th>\n",
       "      <th>RECORD_TIME</th>\n",
       "    </tr>\n",
       "  </thead>\n",
       "  <tbody>\n",
       "    <tr>\n",
       "      <th>0</th>\n",
       "      <td>2021-10-13 10:30</td>\n",
       "    </tr>\n",
       "    <tr>\n",
       "      <th>1</th>\n",
       "      <td>2021-10-13 10:00</td>\n",
       "    </tr>\n",
       "  </tbody>\n",
       "</table>\n",
       "</div>"
      ],
      "text/plain": [
       "        RECORD_TIME\n",
       "0  2021-10-13 10:30\n",
       "1  2021-10-13 10:00"
      ]
     },
     "execution_count": 3,
     "metadata": {},
     "output_type": "execute_result"
    }
   ],
   "source": [
    "timestamps"
   ]
  },
  {
   "cell_type": "code",
   "execution_count": 4,
   "id": "alternate-victory",
   "metadata": {
    "execution": {
     "iopub.execute_input": "2021-10-13T08:30:08.346981Z",
     "iopub.status.busy": "2021-10-13T08:30:08.344779Z",
     "iopub.status.idle": "2021-10-13T08:30:09.131176Z",
     "shell.execute_reply": "2021-10-13T08:30:09.129859Z"
    },
    "papermill": {
     "duration": 0.819984,
     "end_time": "2021-10-13T08:30:09.131502",
     "exception": false,
     "start_time": "2021-10-13T08:30:08.311518",
     "status": "completed"
    },
    "tags": []
   },
   "outputs": [],
   "source": [
    "df = pd.read_sql(\"select * from EBAY_TOP_BERLIN where record_time in (select distinct record_time from EBAY_TOP_BERLIN order by record_time desc limit 2)\", sqlite3.connect(\"UsedObjects.db\"))"
   ]
  },
  {
   "cell_type": "code",
   "execution_count": 5,
   "id": "popular-active",
   "metadata": {
    "execution": {
     "iopub.execute_input": "2021-10-13T08:30:09.200245Z",
     "iopub.status.busy": "2021-10-13T08:30:09.191233Z",
     "iopub.status.idle": "2021-10-13T08:30:09.221076Z",
     "shell.execute_reply": "2021-10-13T08:30:09.222299Z"
    },
    "papermill": {
     "duration": 0.068652,
     "end_time": "2021-10-13T08:30:09.222689",
     "exception": false,
     "start_time": "2021-10-13T08:30:09.154037",
     "status": "completed"
    },
    "tags": []
   },
   "outputs": [],
   "source": [
    "df_pivot = df.pivot_table(index=\"PRODUCT\", columns = \"RECORD_TIME\", values = \"LISTING_COUNT\")"
   ]
  },
  {
   "cell_type": "code",
   "execution_count": 6,
   "id": "union-huntington",
   "metadata": {
    "execution": {
     "iopub.execute_input": "2021-10-13T08:30:09.282662Z",
     "iopub.status.busy": "2021-10-13T08:30:09.280132Z",
     "iopub.status.idle": "2021-10-13T08:30:09.286257Z",
     "shell.execute_reply": "2021-10-13T08:30:09.287714Z"
    },
    "papermill": {
     "duration": 0.042355,
     "end_time": "2021-10-13T08:30:09.288170",
     "exception": false,
     "start_time": "2021-10-13T08:30:09.245815",
     "status": "completed"
    },
    "tags": []
   },
   "outputs": [],
   "source": [
    "df_pivot.columns = [\"stamp_1\", \"stamp_2\"]\n",
    "df_pivot_diff = df_pivot.diff(axis=1)"
   ]
  },
  {
   "cell_type": "code",
   "execution_count": 7,
   "id": "fifth-motion",
   "metadata": {
    "execution": {
     "iopub.execute_input": "2021-10-13T08:30:09.343624Z",
     "iopub.status.busy": "2021-10-13T08:30:09.341233Z",
     "iopub.status.idle": "2021-10-13T08:30:10.809865Z",
     "shell.execute_reply": "2021-10-13T08:30:10.811246Z"
    },
    "papermill": {
     "duration": 1.501862,
     "end_time": "2021-10-13T08:30:10.811680",
     "exception": false,
     "start_time": "2021-10-13T08:30:09.309818",
     "status": "completed"
    },
    "tags": []
   },
   "outputs": [
    {
     "data": {
      "text/plain": [
       "<AxesSubplot:ylabel='PRODUCT'>"
      ]
     },
     "execution_count": 7,
     "metadata": {},
     "output_type": "execute_result"
    },
    {
     "data": {
      "image/png": "[encoded data removed]",
      "text/plain": [
       "<Figure size 432x288 with 1 Axes>"
      ]
     },
     "metadata": {
      "needs_background": "light"
     },
     "output_type": "display_data"
    }
   ],
   "source": [
    "df_pivot_diff.sort_values(\"stamp_2\", ascending = False)[\"stamp_2\"].head(10).plot.barh()"
   ]
  },
  {
   "cell_type": "code",
   "execution_count": null,
   "id": "extra-executive",
   "metadata": {
    "papermill": {
     "duration": 0.022392,
     "end_time": "2021-10-13T08:30:10.857694",
     "exception": false,
     "start_time": "2021-10-13T08:30:10.835302",
     "status": "completed"
    },
    "tags": []
   },
   "outputs": [],
   "source": []
  }
 ],
 "metadata": {
  "kernelspec": {
   "display_name": "Python 3",
   "language": "python",
   "name": "python3"
  },
  "language_info": {
   "codemirror_mode": {
    "name": "ipython",
    "version": 3
   },
   "file_extension": ".py",
   "mimetype": "text/x-python",
   "name": "python",
   "nbconvert_exporter": "python",
   "pygments_lexer": "ipython3",
   "version": "3.9.5"
  },
  "papermill": {
   "default_parameters": {},
   "duration": 7.827461,
   "end_time": "2021-10-13T08:30:12.213754",
   "environment_variables": {},
   "exception": null,
   "input_path": "eBay_Overview.ipynb",
   "output_path": "eBay_Overview.ipynb",
   "parameters": {},
   "start_time": "2021-10-13T08:30:04.386293",
   "version": "2.3.3"
  }
 },
 "nbformat": 4,
 "nbformat_minor": 5
}