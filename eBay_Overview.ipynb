{
 "cells": [
  {
   "cell_type": "code",
   "execution_count": 1,
   "id": "reverse-picking",
   "metadata": {
    "execution": {
     "iopub.execute_input": "2021-11-24T18:30:08.367576Z",
     "iopub.status.busy": "2021-11-24T18:30:08.365294Z",
     "iopub.status.idle": "2021-11-24T18:30:09.375991Z",
     "shell.execute_reply": "2021-11-24T18:30:09.378402Z"
    },
    "papermill": {
     "duration": 1.060962,
     "end_time": "2021-11-24T18:30:09.379156",
     "exception": false,
     "start_time": "2021-11-24T18:30:08.318194",
     "status": "completed"
    },
    "tags": []
   },
   "outputs": [],
   "source": [
    "import pandas as pd\n",
    "import sqlite3"
   ]
  },
  {
   "cell_type": "code",
   "execution_count": 2,
   "id": "innovative-syndrome",
   "metadata": {
    "execution": {
     "iopub.execute_input": "2021-11-24T18:30:09.456587Z",
     "iopub.status.busy": "2021-11-24T18:30:09.454363Z",
     "iopub.status.idle": "2021-11-24T18:30:10.352529Z",
     "shell.execute_reply": "2021-11-24T18:30:10.353939Z"
    },
    "papermill": {
     "duration": 0.947063,
     "end_time": "2021-11-24T18:30:10.354399",
     "exception": false,
     "start_time": "2021-11-24T18:30:09.407336",
     "status": "completed"
    },
    "tags": []
   },
   "outputs": [],
   "source": [
    "timestamps = pd.read_sql(\"select distinct record_time from EBAY_TOP_BERLIN order by record_time desc limit 2\", sqlite3.connect(\"UsedObjects.db\"))"
   ]
  },
  {
   "cell_type": "code",
   "execution_count": 3,
   "id": "periodic-identification",
   "metadata": {
    "execution": {
     "iopub.execute_input": "2021-11-24T18:30:10.418448Z",
     "iopub.status.busy": "2021-11-24T18:30:10.416293Z",
     "iopub.status.idle": "2021-11-24T18:30:10.436388Z",
     "shell.execute_reply": "2021-11-24T18:30:10.437747Z"
    },
    "papermill": {
     "duration": 0.063971,
     "end_time": "2021-11-24T18:30:10.438158",
     "exception": false,
     "start_time": "2021-11-24T18:30:10.374187",
     "status": "completed"
    },
    "tags": []
   },
   "outputs": [
    {
     "data": {
      "text/html": [
       "<div>\n",
       "<style scoped>\n",
       "    .dataframe tbody tr th:only-of-type {\n",
       "        vertical-align: middle;\n",
       "    }\n",
       "\n",
       "    .dataframe tbody tr th {\n",
       "        vertical-align: top;\n",
       "    }\n",
       "\n",
       "    .dataframe thead th {\n",
       "        text-align: right;\n",
       "    }\n",
       "</style>\n",
       "<table border=\"1\" class=\"dataframe\">\n",
       "  <thead>\n",
       "    <tr style=\"text-align: right;\">\n",
       "      <th></th>\n",
       "      <th>RECORD_TIME</th>\n",
       "    </tr>\n",
       "  </thead>\n",
       "  <tbody>\n",
       "    <tr>\n",
       "      <th>0</th>\n",
       "      <td>2021-11-24 19:30</td>\n",
       "    </tr>\n",
       "    <tr>\n",
       "      <th>1</th>\n",
       "      <td>2021-11-24 19:00</td>\n",
       "    </tr>\n",
       "  </tbody>\n",
       "</table>\n",
       "</div>"
      ],
      "text/plain": [
       "        RECORD_TIME\n",
       "0  2021-11-24 19:30\n",
       "1  2021-11-24 19:00"
      ]
     },
     "execution_count": 3,
     "metadata": {},
     "output_type": "execute_result"
    }
   ],
   "source": [
    "timestamps"
   ]
  },
  {
   "cell_type": "code",
   "execution_count": 4,
   "id": "alternate-victory",
   "metadata": {
    "execution": {
     "iopub.execute_input": "2021-11-24T18:30:10.489216Z",
     "iopub.status.busy": "2021-11-24T18:30:10.487097Z",
     "iopub.status.idle": "2021-11-24T18:30:11.808259Z",
     "shell.execute_reply": "2021-11-24T18:30:11.810454Z"
    },
    "papermill": {
     "duration": 1.352018,
     "end_time": "2021-11-24T18:30:11.810936",
     "exception": false,
     "start_time": "2021-11-24T18:30:10.458918",
     "status": "completed"
    },
    "tags": []
   },
   "outputs": [],
   "source": [
    "df = pd.read_sql(\"select * from EBAY_TOP_BERLIN where record_time in (select distinct record_time from EBAY_TOP_BERLIN order by record_time desc limit 2)\", sqlite3.connect(\"UsedObjects.db\"))"
   ]
  },
  {
   "cell_type": "code",
   "execution_count": 5,
   "id": "popular-active",
   "metadata": {
    "execution": {
     "iopub.execute_input": "2021-11-24T18:30:11.885414Z",
     "iopub.status.busy": "2021-11-24T18:30:11.876756Z",
     "iopub.status.idle": "2021-11-24T18:30:11.910164Z",
     "shell.execute_reply": "2021-11-24T18:30:11.911601Z"
    },
    "papermill": {
     "duration": 0.0806,
     "end_time": "2021-11-24T18:30:11.912043",
     "exception": false,
     "start_time": "2021-11-24T18:30:11.831443",
     "status": "completed"
    },
    "tags": []
   },
   "outputs": [],
   "source": [
    "df_pivot = df.pivot_table(index=\"PRODUCT\", columns = \"RECORD_TIME\", values = \"LISTING_COUNT\")"
   ]
  },
  {
   "cell_type": "code",
   "execution_count": 6,
   "id": "union-huntington",
   "metadata": {
    "execution": {
     "iopub.execute_input": "2021-11-24T18:30:11.969004Z",
     "iopub.status.busy": "2021-11-24T18:30:11.966300Z",
     "iopub.status.idle": "2021-11-24T18:30:11.983571Z",
     "shell.execute_reply": "2021-11-24T18:30:11.981780Z"
    },
    "papermill": {
     "duration": 0.050372,
     "end_time": "2021-11-24T18:30:11.984222",
     "exception": false,
     "start_time": "2021-11-24T18:30:11.933850",
     "status": "completed"
    },
    "tags": []
   },
   "outputs": [],
   "source": [
    "df_pivot.columns = [\"stamp_1\", \"stamp_2\"]\n",
    "df_pivot_diff = df_pivot.diff(axis=1)"
   ]
  },
  {
   "cell_type": "code",
   "execution_count": 7,
   "id": "fifth-motion",
   "metadata": {
    "execution": {
     "iopub.execute_input": "2021-11-24T18:30:12.041939Z",
     "iopub.status.busy": "2021-11-24T18:30:12.039328Z",
     "iopub.status.idle": "2021-11-24T18:30:14.043900Z",
     "shell.execute_reply": "2021-11-24T18:30:14.046477Z"
    },
    "papermill": {
     "duration": 2.041314,
     "end_time": "2021-11-24T18:30:14.047181",
     "exception": false,
     "start_time": "2021-11-24T18:30:12.005867",
     "status": "completed"
    },
    "tags": []
   },
   "outputs": [
    {
     "data": {
      "text/plain": [
       "<AxesSubplot:ylabel='PRODUCT'>"
      ]
     },
     "execution_count": 7,
     "metadata": {},
     "output_type": "execute_result"
    },
    {
     "data": {
      "image/png": "[encoded data removed]",
      "text/plain": [
       "<Figure size 432x288 with 1 Axes>"
      ]
     },
     "metadata": {
      "needs_background": "light"
     },
     "output_type": "display_data"
    }
   ],
   "source": [
    "df_pivot_diff.sort_values(\"stamp_2\", ascending = False)[\"stamp_2\"].head(10).plot.barh()"
   ]
  },
  {
   "cell_type": "code",
   "execution_count": null,
   "id": "extra-executive",
   "metadata": {
    "papermill": {
     "duration": 0.027611,
     "end_time": "2021-11-24T18:30:14.104657",
     "exception": false,
     "start_time": "2021-11-24T18:30:14.077046",
     "status": "completed"
    },
    "tags": []
   },
   "outputs": [],
   "source": []
  }
 ],
 "metadata": {
  "kernelspec": {
   "display_name": "Python 3",
   "language": "python",
   "name": "python3"
  },
  "language_info": {
   "codemirror_mode": {
    "name": "ipython",
    "version": 3
   },
   "file_extension": ".py",
   "mimetype": "text/x-python",
   "name": "python",
   "nbconvert_exporter": "python",
   "pygments_lexer": "ipython3",
   "version": "3.9.5"
  },
  "papermill": {
   "default_parameters": {},
   "duration": 9.947898,
   "end_time": "2021-11-24T18:30:15.517629",
   "environment_variables": {},
   "exception": null,
   "input_path": "eBay_Overview.ipynb",
   "output_path": "eBay_Overview.ipynb",
   "parameters": {},
   "start_time": "2021-11-24T18:30:05.569731",
   "version": "2.3.3"
  }
 },
 "nbformat": 4,
 "nbformat_minor": 5
}