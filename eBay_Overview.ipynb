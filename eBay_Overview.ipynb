{
 "cells": [
  {
   "cell_type": "code",
   "execution_count": 1,
   "id": "reverse-picking",
   "metadata": {
    "execution": {
     "iopub.execute_input": "2021-11-05T08:00:07.270277Z",
     "iopub.status.busy": "2021-11-05T08:00:07.267265Z",
     "iopub.status.idle": "2021-11-05T08:00:08.229617Z",
     "shell.execute_reply": "2021-11-05T08:00:08.231122Z"
    },
    "papermill": {
     "duration": 1.010702,
     "end_time": "2021-11-05T08:00:08.231856",
     "exception": false,
     "start_time": "2021-11-05T08:00:07.221154",
     "status": "completed"
    },
    "tags": []
   },
   "outputs": [],
   "source": [
    "import pandas as pd\n",
    "import sqlite3"
   ]
  },
  {
   "cell_type": "code",
   "execution_count": 2,
   "id": "innovative-syndrome",
   "metadata": {
    "execution": {
     "iopub.execute_input": "2021-11-05T08:00:08.286527Z",
     "iopub.status.busy": "2021-11-05T08:00:08.284151Z",
     "iopub.status.idle": "2021-11-05T08:00:09.036542Z",
     "shell.execute_reply": "2021-11-05T08:00:09.034835Z"
    },
    "papermill": {
     "duration": 0.783502,
     "end_time": "2021-11-05T08:00:09.036996",
     "exception": false,
     "start_time": "2021-11-05T08:00:08.253494",
     "status": "completed"
    },
    "tags": []
   },
   "outputs": [],
   "source": [
    "timestamps = pd.read_sql(\"select distinct record_time from EBAY_TOP_BERLIN order by record_time desc limit 2\", sqlite3.connect(\"UsedObjects.db\"))"
   ]
  },
  {
   "cell_type": "code",
   "execution_count": 3,
   "id": "periodic-identification",
   "metadata": {
    "execution": {
     "iopub.execute_input": "2021-11-05T08:00:09.110333Z",
     "iopub.status.busy": "2021-11-05T08:00:09.106634Z",
     "iopub.status.idle": "2021-11-05T08:00:09.130999Z",
     "shell.execute_reply": "2021-11-05T08:00:09.132397Z"
    },
    "papermill": {
     "duration": 0.075245,
     "end_time": "2021-11-05T08:00:09.132900",
     "exception": false,
     "start_time": "2021-11-05T08:00:09.057655",
     "status": "completed"
    },
    "tags": []
   },
   "outputs": [
    {
     "data": {
      "text/html": [
       "<div>\n",
       "<style scoped>\n",
       "    .dataframe tbody tr th:only-of-type {\n",
       "        vertical-align: middle;\n",
       "    }\n",
       "\n",
       "    .dataframe tbody tr th {\n",
       "        vertical-align: top;\n",
       "    }\n",
       "\n",
       "    .dataframe thead th {\n",
       "        text-align: right;\n",
       "    }\n",
       "</style>\n",
       "<table border=\"1\" class=\"dataframe\">\n",
       "  <thead>\n",
       "    <tr style=\"text-align: right;\">\n",
       "      <th></th>\n",
       "      <th>RECORD_TIME</th>\n",
       "    </tr>\n",
       "  </thead>\n",
       "  <tbody>\n",
       "    <tr>\n",
       "      <th>0</th>\n",
       "      <td>2021-11-05 09:00</td>\n",
       "    </tr>\n",
       "    <tr>\n",
       "      <th>1</th>\n",
       "      <td>2021-11-05 08:30</td>\n",
       "    </tr>\n",
       "  </tbody>\n",
       "</table>\n",
       "</div>"
      ],
      "text/plain": [
       "        RECORD_TIME\n",
       "0  2021-11-05 09:00\n",
       "1  2021-11-05 08:30"
      ]
     },
     "execution_count": 3,
     "metadata": {},
     "output_type": "execute_result"
    }
   ],
   "source": [
    "timestamps"
   ]
  },
  {
   "cell_type": "code",
   "execution_count": 4,
   "id": "alternate-victory",
   "metadata": {
    "execution": {
     "iopub.execute_input": "2021-11-05T08:00:09.188637Z",
     "iopub.status.busy": "2021-11-05T08:00:09.186484Z",
     "iopub.status.idle": "2021-11-05T08:00:10.278591Z",
     "shell.execute_reply": "2021-11-05T08:00:10.279902Z"
    },
    "papermill": {
     "duration": 1.126222,
     "end_time": "2021-11-05T08:00:10.280345",
     "exception": false,
     "start_time": "2021-11-05T08:00:09.154123",
     "status": "completed"
    },
    "tags": []
   },
   "outputs": [],
   "source": [
    "df = pd.read_sql(\"select * from EBAY_TOP_BERLIN where record_time in (select distinct record_time from EBAY_TOP_BERLIN order by record_time desc limit 2)\", sqlite3.connect(\"UsedObjects.db\"))"
   ]
  },
  {
   "cell_type": "code",
   "execution_count": 5,
   "id": "popular-active",
   "metadata": {
    "execution": {
     "iopub.execute_input": "2021-11-05T08:00:10.357306Z",
     "iopub.status.busy": "2021-11-05T08:00:10.343061Z",
     "iopub.status.idle": "2021-11-05T08:00:10.374167Z",
     "shell.execute_reply": "2021-11-05T08:00:10.375665Z"
    },
    "papermill": {
     "duration": 0.075065,
     "end_time": "2021-11-05T08:00:10.376135",
     "exception": false,
     "start_time": "2021-11-05T08:00:10.301070",
     "status": "completed"
    },
    "tags": []
   },
   "outputs": [],
   "source": [
    "df_pivot = df.pivot_table(index=\"PRODUCT\", columns = \"RECORD_TIME\", values = \"LISTING_COUNT\")"
   ]
  },
  {
   "cell_type": "code",
   "execution_count": 6,
   "id": "union-huntington",
   "metadata": {
    "execution": {
     "iopub.execute_input": "2021-11-05T08:00:10.434496Z",
     "iopub.status.busy": "2021-11-05T08:00:10.432234Z",
     "iopub.status.idle": "2021-11-05T08:00:10.437996Z",
     "shell.execute_reply": "2021-11-05T08:00:10.439385Z"
    },
    "papermill": {
     "duration": 0.044016,
     "end_time": "2021-11-05T08:00:10.439814",
     "exception": false,
     "start_time": "2021-11-05T08:00:10.395798",
     "status": "completed"
    },
    "tags": []
   },
   "outputs": [],
   "source": [
    "df_pivot.columns = [\"stamp_1\", \"stamp_2\"]\n",
    "df_pivot_diff = df_pivot.diff(axis=1)"
   ]
  },
  {
   "cell_type": "code",
   "execution_count": 7,
   "id": "fifth-motion",
   "metadata": {
    "execution": {
     "iopub.execute_input": "2021-11-05T08:00:10.497830Z",
     "iopub.status.busy": "2021-11-05T08:00:10.494988Z",
     "iopub.status.idle": "2021-11-05T08:00:12.261220Z",
     "shell.execute_reply": "2021-11-05T08:00:12.262796Z"
    },
    "papermill": {
     "duration": 1.801968,
     "end_time": "2021-11-05T08:00:12.263284",
     "exception": false,
     "start_time": "2021-11-05T08:00:10.461316",
     "status": "completed"
    },
    "tags": []
   },
   "outputs": [
    {
     "data": {
      "text/plain": [
       "<AxesSubplot:ylabel='PRODUCT'>"
      ]
     },
     "execution_count": 7,
     "metadata": {},
     "output_type": "execute_result"
    },
    {
     "data": {
      "image/png": "[encoded data removed]",
      "text/plain": [
       "<Figure size 432x288 with 1 Axes>"
      ]
     },
     "metadata": {
      "needs_background": "light"
     },
     "output_type": "display_data"
    }
   ],
   "source": [
    "df_pivot_diff.sort_values(\"stamp_2\", ascending = False)[\"stamp_2\"].head(10).plot.barh()"
   ]
  },
  {
   "cell_type": "code",
   "execution_count": null,
   "id": "extra-executive",
   "metadata": {
    "papermill": {
     "duration": 0.026003,
     "end_time": "2021-11-05T08:00:12.314614",
     "exception": false,
     "start_time": "2021-11-05T08:00:12.288611",
     "status": "completed"
    },
    "tags": []
   },
   "outputs": [],
   "source": []
  }
 ],
 "metadata": {
  "kernelspec": {
   "display_name": "Python 3",
   "language": "python",
   "name": "python3"
  },
  "language_info": {
   "codemirror_mode": {
    "name": "ipython",
    "version": 3
   },
   "file_extension": ".py",
   "mimetype": "text/x-python",
   "name": "python",
   "nbconvert_exporter": "python",
   "pygments_lexer": "ipython3",
   "version": "3.9.5"
  },
  "papermill": {
   "default_parameters": {},
   "duration": 8.554721,
   "end_time": "2021-11-05T08:00:13.060202",
   "environment_variables": {},
   "exception": null,
   "input_path": "eBay_Overview.ipynb",
   "output_path": "eBay_Overview.ipynb",
   "parameters": {},
   "start_time": "2021-11-05T08:00:04.505481",
   "version": "2.3.3"
  }
 },
 "nbformat": 4,
 "nbformat_minor": 5
}