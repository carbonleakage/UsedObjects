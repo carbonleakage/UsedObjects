{
 "cells": [
  {
   "cell_type": "code",
   "execution_count": 1,
   "id": "reverse-picking",
   "metadata": {
    "execution": {
     "iopub.execute_input": "2021-09-16T17:30:06.683012Z",
     "iopub.status.busy": "2021-09-16T17:30:06.680998Z",
     "iopub.status.idle": "2021-09-16T17:30:07.483531Z",
     "shell.execute_reply": "2021-09-16T17:30:07.485017Z"
    },
    "papermill": {
     "duration": 0.855141,
     "end_time": "2021-09-16T17:30:07.485688",
     "exception": false,
     "start_time": "2021-09-16T17:30:06.630547",
     "status": "completed"
    },
    "tags": []
   },
   "outputs": [],
   "source": [
    "import pandas as pd\n",
    "import sqlite3"
   ]
  },
  {
   "cell_type": "code",
   "execution_count": 2,
   "id": "innovative-syndrome",
   "metadata": {
    "execution": {
     "iopub.execute_input": "2021-09-16T17:30:07.537150Z",
     "iopub.status.busy": "2021-09-16T17:30:07.534760Z",
     "iopub.status.idle": "2021-09-16T17:30:07.847943Z",
     "shell.execute_reply": "2021-09-16T17:30:07.849147Z"
    },
    "papermill": {
     "duration": 0.343218,
     "end_time": "2021-09-16T17:30:07.849538",
     "exception": false,
     "start_time": "2021-09-16T17:30:07.506320",
     "status": "completed"
    },
    "tags": []
   },
   "outputs": [],
   "source": [
    "timestamps = pd.read_sql(\"select distinct record_time from EBAY_TOP_BERLIN order by record_time desc limit 2\", sqlite3.connect(\"UsedObjects.db\"))"
   ]
  },
  {
   "cell_type": "code",
   "execution_count": 3,
   "id": "periodic-identification",
   "metadata": {
    "execution": {
     "iopub.execute_input": "2021-09-16T17:30:07.913893Z",
     "iopub.status.busy": "2021-09-16T17:30:07.911873Z",
     "iopub.status.idle": "2021-09-16T17:30:07.932420Z",
     "shell.execute_reply": "2021-09-16T17:30:07.933610Z"
    },
    "papermill": {
     "duration": 0.063425,
     "end_time": "2021-09-16T17:30:07.934038",
     "exception": false,
     "start_time": "2021-09-16T17:30:07.870613",
     "status": "completed"
    },
    "tags": []
   },
   "outputs": [
    {
     "data": {
      "text/html": [
       "<div>\n",
       "<style scoped>\n",
       "    .dataframe tbody tr th:only-of-type {\n",
       "        vertical-align: middle;\n",
       "    }\n",
       "\n",
       "    .dataframe tbody tr th {\n",
       "        vertical-align: top;\n",
       "    }\n",
       "\n",
       "    .dataframe thead th {\n",
       "        text-align: right;\n",
       "    }\n",
       "</style>\n",
       "<table border=\"1\" class=\"dataframe\">\n",
       "  <thead>\n",
       "    <tr style=\"text-align: right;\">\n",
       "      <th></th>\n",
       "      <th>RECORD_TIME</th>\n",
       "    </tr>\n",
       "  </thead>\n",
       "  <tbody>\n",
       "    <tr>\n",
       "      <th>0</th>\n",
       "      <td>2021-09-16 19:30</td>\n",
       "    </tr>\n",
       "    <tr>\n",
       "      <th>1</th>\n",
       "      <td>2021-09-16 19:00</td>\n",
       "    </tr>\n",
       "  </tbody>\n",
       "</table>\n",
       "</div>"
      ],
      "text/plain": [
       "        RECORD_TIME\n",
       "0  2021-09-16 19:30\n",
       "1  2021-09-16 19:00"
      ]
     },
     "execution_count": 3,
     "metadata": {},
     "output_type": "execute_result"
    }
   ],
   "source": [
    "timestamps"
   ]
  },
  {
   "cell_type": "code",
   "execution_count": 4,
   "id": "alternate-victory",
   "metadata": {
    "execution": {
     "iopub.execute_input": "2021-09-16T17:30:07.988538Z",
     "iopub.status.busy": "2021-09-16T17:30:07.986163Z",
     "iopub.status.idle": "2021-09-16T17:30:08.442654Z",
     "shell.execute_reply": "2021-09-16T17:30:08.444178Z"
    },
    "papermill": {
     "duration": 0.487235,
     "end_time": "2021-09-16T17:30:08.444627",
     "exception": false,
     "start_time": "2021-09-16T17:30:07.957392",
     "status": "completed"
    },
    "tags": []
   },
   "outputs": [],
   "source": [
    "df = pd.read_sql(\"select * from EBAY_TOP_BERLIN where record_time in (select distinct record_time from EBAY_TOP_BERLIN order by record_time desc limit 2)\", sqlite3.connect(\"UsedObjects.db\"))"
   ]
  },
  {
   "cell_type": "code",
   "execution_count": 5,
   "id": "popular-active",
   "metadata": {
    "execution": {
     "iopub.execute_input": "2021-09-16T17:30:08.524881Z",
     "iopub.status.busy": "2021-09-16T17:30:08.513616Z",
     "iopub.status.idle": "2021-09-16T17:30:08.540324Z",
     "shell.execute_reply": "2021-09-16T17:30:08.541549Z"
    },
    "papermill": {
     "duration": 0.071197,
     "end_time": "2021-09-16T17:30:08.541943",
     "exception": false,
     "start_time": "2021-09-16T17:30:08.470746",
     "status": "completed"
    },
    "tags": []
   },
   "outputs": [],
   "source": [
    "df_pivot = df.pivot_table(index=\"PRODUCT\", columns = \"RECORD_TIME\", values = \"LISTING_COUNT\")"
   ]
  },
  {
   "cell_type": "code",
   "execution_count": 6,
   "id": "union-huntington",
   "metadata": {
    "execution": {
     "iopub.execute_input": "2021-09-16T17:30:08.601128Z",
     "iopub.status.busy": "2021-09-16T17:30:08.598670Z",
     "iopub.status.idle": "2021-09-16T17:30:08.604905Z",
     "shell.execute_reply": "2021-09-16T17:30:08.606365Z"
    },
    "papermill": {
     "duration": 0.042844,
     "end_time": "2021-09-16T17:30:08.606865",
     "exception": false,
     "start_time": "2021-09-16T17:30:08.564021",
     "status": "completed"
    },
    "tags": []
   },
   "outputs": [],
   "source": [
    "df_pivot.columns = [\"stamp_1\", \"stamp_2\"]\n",
    "df_pivot_diff = df_pivot.diff(axis=1)"
   ]
  },
  {
   "cell_type": "code",
   "execution_count": 7,
   "id": "fifth-motion",
   "metadata": {
    "execution": {
     "iopub.execute_input": "2021-09-16T17:30:08.662222Z",
     "iopub.status.busy": "2021-09-16T17:30:08.659952Z",
     "iopub.status.idle": "2021-09-16T17:30:10.133247Z",
     "shell.execute_reply": "2021-09-16T17:30:10.134525Z"
    },
    "papermill": {
     "duration": 1.506806,
     "end_time": "2021-09-16T17:30:10.135009",
     "exception": false,
     "start_time": "2021-09-16T17:30:08.628203",
     "status": "completed"
    },
    "tags": []
   },
   "outputs": [
    {
     "data": {
      "text/plain": [
       "<AxesSubplot:ylabel='PRODUCT'>"
      ]
     },
     "execution_count": 7,
     "metadata": {},
     "output_type": "execute_result"
    },
    {
     "data": {
      "image/png": "[encoded data removed]",
      "text/plain": [
       "<Figure size 432x288 with 1 Axes>"
      ]
     },
     "metadata": {
      "needs_background": "light"
     },
     "output_type": "display_data"
    }
   ],
   "source": [
    "df_pivot_diff.sort_values(\"stamp_2\", ascending = False)[\"stamp_2\"].head(10).plot.barh()"
   ]
  },
  {
   "cell_type": "code",
   "execution_count": null,
   "id": "extra-executive",
   "metadata": {
    "papermill": {
     "duration": 0.022362,
     "end_time": "2021-09-16T17:30:10.181642",
     "exception": false,
     "start_time": "2021-09-16T17:30:10.159280",
     "status": "completed"
    },
    "tags": []
   },
   "outputs": [],
   "source": []
  }
 ],
 "metadata": {
  "kernelspec": {
   "display_name": "Python 3",
   "language": "python",
   "name": "python3"
  },
  "language_info": {
   "codemirror_mode": {
    "name": "ipython",
    "version": 3
   },
   "file_extension": ".py",
   "mimetype": "text/x-python",
   "name": "python",
   "nbconvert_exporter": "python",
   "pygments_lexer": "ipython3",
   "version": "3.9.5"
  },
  "papermill": {
   "default_parameters": {},
   "duration": 6.574795,
   "end_time": "2021-09-16T17:30:10.824014",
   "environment_variables": {},
   "exception": null,
   "input_path": "eBay_Overview.ipynb",
   "output_path": "eBay_Overview.ipynb",
   "parameters": {},
   "start_time": "2021-09-16T17:30:04.249219",
   "version": "2.3.3"
  }
 },
 "nbformat": 4,
 "nbformat_minor": 5
}