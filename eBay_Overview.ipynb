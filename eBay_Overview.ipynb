{
 "cells": [
  {
   "cell_type": "code",
   "execution_count": 1,
   "id": "reverse-picking",
   "metadata": {
    "execution": {
     "iopub.execute_input": "2021-10-12T04:00:06.637068Z",
     "iopub.status.busy": "2021-10-12T04:00:06.635061Z",
     "iopub.status.idle": "2021-10-12T04:00:07.436862Z",
     "shell.execute_reply": "2021-10-12T04:00:07.438326Z"
    },
    "papermill": {
     "duration": 0.853111,
     "end_time": "2021-10-12T04:00:07.439006",
     "exception": false,
     "start_time": "2021-10-12T04:00:06.585895",
     "status": "completed"
    },
    "tags": []
   },
   "outputs": [],
   "source": [
    "import pandas as pd\n",
    "import sqlite3"
   ]
  },
  {
   "cell_type": "code",
   "execution_count": 2,
   "id": "innovative-syndrome",
   "metadata": {
    "execution": {
     "iopub.execute_input": "2021-10-12T04:00:07.489749Z",
     "iopub.status.busy": "2021-10-12T04:00:07.487369Z",
     "iopub.status.idle": "2021-10-12T04:00:08.009563Z",
     "shell.execute_reply": "2021-10-12T04:00:08.010858Z"
    },
    "papermill": {
     "duration": 0.551971,
     "end_time": "2021-10-12T04:00:08.011298",
     "exception": false,
     "start_time": "2021-10-12T04:00:07.459327",
     "status": "completed"
    },
    "tags": []
   },
   "outputs": [],
   "source": [
    "timestamps = pd.read_sql(\"select distinct record_time from EBAY_TOP_BERLIN order by record_time desc limit 2\", sqlite3.connect(\"UsedObjects.db\"))"
   ]
  },
  {
   "cell_type": "code",
   "execution_count": 3,
   "id": "periodic-identification",
   "metadata": {
    "execution": {
     "iopub.execute_input": "2021-10-12T04:00:08.077400Z",
     "iopub.status.busy": "2021-10-12T04:00:08.075301Z",
     "iopub.status.idle": "2021-10-12T04:00:08.095878Z",
     "shell.execute_reply": "2021-10-12T04:00:08.097222Z"
    },
    "papermill": {
     "duration": 0.066797,
     "end_time": "2021-10-12T04:00:08.097678",
     "exception": false,
     "start_time": "2021-10-12T04:00:08.030881",
     "status": "completed"
    },
    "tags": []
   },
   "outputs": [
    {
     "data": {
      "text/html": [
       "<div>\n",
       "<style scoped>\n",
       "    .dataframe tbody tr th:only-of-type {\n",
       "        vertical-align: middle;\n",
       "    }\n",
       "\n",
       "    .dataframe tbody tr th {\n",
       "        vertical-align: top;\n",
       "    }\n",
       "\n",
       "    .dataframe thead th {\n",
       "        text-align: right;\n",
       "    }\n",
       "</style>\n",
       "<table border=\"1\" class=\"dataframe\">\n",
       "  <thead>\n",
       "    <tr style=\"text-align: right;\">\n",
       "      <th></th>\n",
       "      <th>RECORD_TIME</th>\n",
       "    </tr>\n",
       "  </thead>\n",
       "  <tbody>\n",
       "    <tr>\n",
       "      <th>0</th>\n",
       "      <td>2021-10-12 06:00</td>\n",
       "    </tr>\n",
       "    <tr>\n",
       "      <th>1</th>\n",
       "      <td>2021-10-12 05:30</td>\n",
       "    </tr>\n",
       "  </tbody>\n",
       "</table>\n",
       "</div>"
      ],
      "text/plain": [
       "        RECORD_TIME\n",
       "0  2021-10-12 06:00\n",
       "1  2021-10-12 05:30"
      ]
     },
     "execution_count": 3,
     "metadata": {},
     "output_type": "execute_result"
    }
   ],
   "source": [
    "timestamps"
   ]
  },
  {
   "cell_type": "code",
   "execution_count": 4,
   "id": "alternate-victory",
   "metadata": {
    "execution": {
     "iopub.execute_input": "2021-10-12T04:00:08.149751Z",
     "iopub.status.busy": "2021-10-12T04:00:08.147669Z",
     "iopub.status.idle": "2021-10-12T04:00:08.901052Z",
     "shell.execute_reply": "2021-10-12T04:00:08.902259Z"
    },
    "papermill": {
     "duration": 0.782917,
     "end_time": "2021-10-12T04:00:08.902650",
     "exception": false,
     "start_time": "2021-10-12T04:00:08.119733",
     "status": "completed"
    },
    "tags": []
   },
   "outputs": [],
   "source": [
    "df = pd.read_sql(\"select * from EBAY_TOP_BERLIN where record_time in (select distinct record_time from EBAY_TOP_BERLIN order by record_time desc limit 2)\", sqlite3.connect(\"UsedObjects.db\"))"
   ]
  },
  {
   "cell_type": "code",
   "execution_count": 5,
   "id": "popular-active",
   "metadata": {
    "execution": {
     "iopub.execute_input": "2021-10-12T04:00:08.971861Z",
     "iopub.status.busy": "2021-10-12T04:00:08.960290Z",
     "iopub.status.idle": "2021-10-12T04:00:08.989534Z",
     "shell.execute_reply": "2021-10-12T04:00:08.990962Z"
    },
    "papermill": {
     "duration": 0.068723,
     "end_time": "2021-10-12T04:00:08.991390",
     "exception": false,
     "start_time": "2021-10-12T04:00:08.922667",
     "status": "completed"
    },
    "tags": []
   },
   "outputs": [],
   "source": [
    "df_pivot = df.pivot_table(index=\"PRODUCT\", columns = \"RECORD_TIME\", values = \"LISTING_COUNT\")"
   ]
  },
  {
   "cell_type": "code",
   "execution_count": 6,
   "id": "union-huntington",
   "metadata": {
    "execution": {
     "iopub.execute_input": "2021-10-12T04:00:09.046940Z",
     "iopub.status.busy": "2021-10-12T04:00:09.044905Z",
     "iopub.status.idle": "2021-10-12T04:00:09.049991Z",
     "shell.execute_reply": "2021-10-12T04:00:09.051258Z"
    },
    "papermill": {
     "duration": 0.039691,
     "end_time": "2021-10-12T04:00:09.051668",
     "exception": false,
     "start_time": "2021-10-12T04:00:09.011977",
     "status": "completed"
    },
    "tags": []
   },
   "outputs": [],
   "source": [
    "df_pivot.columns = [\"stamp_1\", \"stamp_2\"]\n",
    "df_pivot_diff = df_pivot.diff(axis=1)"
   ]
  },
  {
   "cell_type": "code",
   "execution_count": 7,
   "id": "fifth-motion",
   "metadata": {
    "execution": {
     "iopub.execute_input": "2021-10-12T04:00:09.105005Z",
     "iopub.status.busy": "2021-10-12T04:00:09.102563Z",
     "iopub.status.idle": "2021-10-12T04:00:10.584138Z",
     "shell.execute_reply": "2021-10-12T04:00:10.585623Z"
    },
    "papermill": {
     "duration": 1.514248,
     "end_time": "2021-10-12T04:00:10.586072",
     "exception": false,
     "start_time": "2021-10-12T04:00:09.071824",
     "status": "completed"
    },
    "tags": []
   },
   "outputs": [
    {
     "data": {
      "text/plain": [
       "<AxesSubplot:ylabel='PRODUCT'>"
      ]
     },
     "execution_count": 7,
     "metadata": {},
     "output_type": "execute_result"
    },
    {
     "data": {
      "image/png": "[encoded data removed]",
      "text/plain": [
       "<Figure size 432x288 with 1 Axes>"
      ]
     },
     "metadata": {
      "needs_background": "light"
     },
     "output_type": "display_data"
    }
   ],
   "source": [
    "df_pivot_diff.sort_values(\"stamp_2\", ascending = False)[\"stamp_2\"].head(10).plot.barh()"
   ]
  },
  {
   "cell_type": "code",
   "execution_count": null,
   "id": "extra-executive",
   "metadata": {
    "papermill": {
     "duration": 0.022264,
     "end_time": "2021-10-12T04:00:10.632755",
     "exception": false,
     "start_time": "2021-10-12T04:00:10.610491",
     "status": "completed"
    },
    "tags": []
   },
   "outputs": [],
   "source": []
  }
 ],
 "metadata": {
  "kernelspec": {
   "display_name": "Python 3",
   "language": "python",
   "name": "python3"
  },
  "language_info": {
   "codemirror_mode": {
    "name": "ipython",
    "version": 3
   },
   "file_extension": ".py",
   "mimetype": "text/x-python",
   "name": "python",
   "nbconvert_exporter": "python",
   "pygments_lexer": "ipython3",
   "version": "3.9.5"
  },
  "papermill": {
   "default_parameters": {},
   "duration": 7.825231,
   "end_time": "2021-10-12T04:00:12.013437",
   "environment_variables": {},
   "exception": null,
   "input_path": "eBay_Overview.ipynb",
   "output_path": "eBay_Overview.ipynb",
   "parameters": {},
   "start_time": "2021-10-12T04:00:04.188206",
   "version": "2.3.3"
  }
 },
 "nbformat": 4,
 "nbformat_minor": 5
}