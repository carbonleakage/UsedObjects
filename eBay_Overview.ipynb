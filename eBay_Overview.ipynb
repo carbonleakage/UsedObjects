{
 "cells": [
  {
   "cell_type": "code",
   "execution_count": 1,
   "id": "reverse-picking",
   "metadata": {
    "execution": {
     "iopub.execute_input": "2021-08-15T11:30:06.652329Z",
     "iopub.status.busy": "2021-08-15T11:30:06.650333Z",
     "iopub.status.idle": "2021-08-15T11:30:07.464886Z",
     "shell.execute_reply": "2021-08-15T11:30:07.466309Z"
    },
    "papermill": {
     "duration": 0.867394,
     "end_time": "2021-08-15T11:30:07.466980",
     "exception": false,
     "start_time": "2021-08-15T11:30:06.599586",
     "status": "completed"
    },
    "tags": []
   },
   "outputs": [],
   "source": [
    "import pandas as pd\n",
    "import sqlite3"
   ]
  },
  {
   "cell_type": "code",
   "execution_count": 2,
   "id": "innovative-syndrome",
   "metadata": {
    "execution": {
     "iopub.execute_input": "2021-08-15T11:30:07.517995Z",
     "iopub.status.busy": "2021-08-15T11:30:07.515867Z",
     "iopub.status.idle": "2021-08-15T11:30:07.570542Z",
     "shell.execute_reply": "2021-08-15T11:30:07.571823Z"
    },
    "papermill": {
     "duration": 0.084989,
     "end_time": "2021-08-15T11:30:07.572228",
     "exception": false,
     "start_time": "2021-08-15T11:30:07.487239",
     "status": "completed"
    },
    "tags": []
   },
   "outputs": [],
   "source": [
    "timestamps = pd.read_sql(\"select distinct record_time from EBAY_TOP_BERLIN order by record_time desc limit 2\", sqlite3.connect(\"UsedObjects.db\"))"
   ]
  },
  {
   "cell_type": "code",
   "execution_count": 3,
   "id": "periodic-identification",
   "metadata": {
    "execution": {
     "iopub.execute_input": "2021-08-15T11:30:07.636808Z",
     "iopub.status.busy": "2021-08-15T11:30:07.634686Z",
     "iopub.status.idle": "2021-08-15T11:30:07.656813Z",
     "shell.execute_reply": "2021-08-15T11:30:07.655484Z"
    },
    "papermill": {
     "duration": 0.065457,
     "end_time": "2021-08-15T11:30:07.657158",
     "exception": false,
     "start_time": "2021-08-15T11:30:07.591701",
     "status": "completed"
    },
    "tags": []
   },
   "outputs": [
    {
     "data": {
      "text/html": [
       "<div>\n",
       "<style scoped>\n",
       "    .dataframe tbody tr th:only-of-type {\n",
       "        vertical-align: middle;\n",
       "    }\n",
       "\n",
       "    .dataframe tbody tr th {\n",
       "        vertical-align: top;\n",
       "    }\n",
       "\n",
       "    .dataframe thead th {\n",
       "        text-align: right;\n",
       "    }\n",
       "</style>\n",
       "<table border=\"1\" class=\"dataframe\">\n",
       "  <thead>\n",
       "    <tr style=\"text-align: right;\">\n",
       "      <th></th>\n",
       "      <th>RECORD_TIME</th>\n",
       "    </tr>\n",
       "  </thead>\n",
       "  <tbody>\n",
       "    <tr>\n",
       "      <th>0</th>\n",
       "      <td>2021-08-15 13:30</td>\n",
       "    </tr>\n",
       "    <tr>\n",
       "      <th>1</th>\n",
       "      <td>2021-08-15 13:00</td>\n",
       "    </tr>\n",
       "  </tbody>\n",
       "</table>\n",
       "</div>"
      ],
      "text/plain": [
       "        RECORD_TIME\n",
       "0  2021-08-15 13:30\n",
       "1  2021-08-15 13:00"
      ]
     },
     "execution_count": 3,
     "metadata": {},
     "output_type": "execute_result"
    }
   ],
   "source": [
    "timestamps"
   ]
  },
  {
   "cell_type": "code",
   "execution_count": 4,
   "id": "alternate-victory",
   "metadata": {
    "execution": {
     "iopub.execute_input": "2021-08-15T11:30:07.710482Z",
     "iopub.status.busy": "2021-08-15T11:30:07.708113Z",
     "iopub.status.idle": "2021-08-15T11:30:07.789090Z",
     "shell.execute_reply": "2021-08-15T11:30:07.790409Z"
    },
    "papermill": {
     "duration": 0.11173,
     "end_time": "2021-08-15T11:30:07.790843",
     "exception": false,
     "start_time": "2021-08-15T11:30:07.679113",
     "status": "completed"
    },
    "tags": []
   },
   "outputs": [],
   "source": [
    "df = pd.read_sql(\"select * from EBAY_TOP_BERLIN where record_time in (select distinct record_time from EBAY_TOP_BERLIN order by record_time desc limit 2)\", sqlite3.connect(\"UsedObjects.db\"))"
   ]
  },
  {
   "cell_type": "code",
   "execution_count": 5,
   "id": "popular-active",
   "metadata": {
    "execution": {
     "iopub.execute_input": "2021-08-15T11:30:07.862941Z",
     "iopub.status.busy": "2021-08-15T11:30:07.851775Z",
     "iopub.status.idle": "2021-08-15T11:30:07.878630Z",
     "shell.execute_reply": "2021-08-15T11:30:07.879864Z"
    },
    "papermill": {
     "duration": 0.067442,
     "end_time": "2021-08-15T11:30:07.880269",
     "exception": false,
     "start_time": "2021-08-15T11:30:07.812827",
     "status": "completed"
    },
    "tags": []
   },
   "outputs": [],
   "source": [
    "df_pivot = df.pivot_table(index=\"PRODUCT\", columns = \"RECORD_TIME\", values = \"LISTING_COUNT\")"
   ]
  },
  {
   "cell_type": "code",
   "execution_count": 6,
   "id": "union-huntington",
   "metadata": {
    "execution": {
     "iopub.execute_input": "2021-08-15T11:30:07.938643Z",
     "iopub.status.busy": "2021-08-15T11:30:07.936278Z",
     "iopub.status.idle": "2021-08-15T11:30:07.942198Z",
     "shell.execute_reply": "2021-08-15T11:30:07.943491Z"
    },
    "papermill": {
     "duration": 0.041957,
     "end_time": "2021-08-15T11:30:07.943913",
     "exception": false,
     "start_time": "2021-08-15T11:30:07.901956",
     "status": "completed"
    },
    "tags": []
   },
   "outputs": [],
   "source": [
    "df_pivot.columns = [\"stamp_1\", \"stamp_2\"]\n",
    "df_pivot_diff = df_pivot.diff(axis=1)"
   ]
  },
  {
   "cell_type": "code",
   "execution_count": 7,
   "id": "fifth-motion",
   "metadata": {
    "execution": {
     "iopub.execute_input": "2021-08-15T11:30:07.997126Z",
     "iopub.status.busy": "2021-08-15T11:30:07.994904Z",
     "iopub.status.idle": "2021-08-15T11:30:09.488764Z",
     "shell.execute_reply": "2021-08-15T11:30:09.490153Z"
    },
    "papermill": {
     "duration": 1.526756,
     "end_time": "2021-08-15T11:30:09.490629",
     "exception": false,
     "start_time": "2021-08-15T11:30:07.963873",
     "status": "completed"
    },
    "tags": []
   },
   "outputs": [
    {
     "data": {
      "text/plain": [
       "<AxesSubplot:ylabel='PRODUCT'>"
      ]
     },
     "execution_count": 7,
     "metadata": {},
     "output_type": "execute_result"
    },
    {
     "data": {
      "image/png": "[encoded data removed]",
      "text/plain": [
       "<Figure size 432x288 with 1 Axes>"
      ]
     },
     "metadata": {
      "needs_background": "light"
     },
     "output_type": "display_data"
    }
   ],
   "source": [
    "df_pivot_diff.sort_values(\"stamp_2\", ascending = False)[\"stamp_2\"].head(10).plot.barh()"
   ]
  },
  {
   "cell_type": "code",
   "execution_count": null,
   "id": "extra-executive",
   "metadata": {
    "papermill": {
     "duration": 0.022393,
     "end_time": "2021-08-15T11:30:09.538040",
     "exception": false,
     "start_time": "2021-08-15T11:30:09.515647",
     "status": "completed"
    },
    "tags": []
   },
   "outputs": [],
   "source": []
  }
 ],
 "metadata": {
  "kernelspec": {
   "display_name": "Python 3",
   "language": "python",
   "name": "python3"
  },
  "language_info": {
   "codemirror_mode": {
    "name": "ipython",
    "version": 3
   },
   "file_extension": ".py",
   "mimetype": "text/x-python",
   "name": "python",
   "nbconvert_exporter": "python",
   "pygments_lexer": "ipython3",
   "version": "3.9.5"
  },
  "papermill": {
   "default_parameters": {},
   "duration": 6.829066,
   "end_time": "2021-08-15T11:30:11.002425",
   "environment_variables": {},
   "exception": null,
   "input_path": "eBay_Overview.ipynb",
   "output_path": "eBay_Overview.ipynb",
   "parameters": {},
   "start_time": "2021-08-15T11:30:04.173359",
   "version": "2.3.3"
  }
 },
 "nbformat": 4,
 "nbformat_minor": 5
}