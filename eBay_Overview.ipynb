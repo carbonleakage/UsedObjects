{
 "cells": [
  {
   "cell_type": "code",
   "execution_count": 1,
   "id": "reverse-picking",
   "metadata": {
    "execution": {
     "iopub.execute_input": "2021-09-26T17:00:07.122929Z",
     "iopub.status.busy": "2021-09-26T17:00:07.120981Z",
     "iopub.status.idle": "2021-09-26T17:00:07.928658Z",
     "shell.execute_reply": "2021-09-26T17:00:07.929900Z"
    },
    "papermill": {
     "duration": 0.859339,
     "end_time": "2021-09-26T17:00:07.930523",
     "exception": false,
     "start_time": "2021-09-26T17:00:07.071184",
     "status": "completed"
    },
    "tags": []
   },
   "outputs": [],
   "source": [
    "import pandas as pd\n",
    "import sqlite3"
   ]
  },
  {
   "cell_type": "code",
   "execution_count": 2,
   "id": "innovative-syndrome",
   "metadata": {
    "execution": {
     "iopub.execute_input": "2021-09-26T17:00:07.981684Z",
     "iopub.status.busy": "2021-09-26T17:00:07.979817Z",
     "iopub.status.idle": "2021-09-26T17:00:08.367184Z",
     "shell.execute_reply": "2021-09-26T17:00:08.368561Z"
    },
    "papermill": {
     "duration": 0.416896,
     "end_time": "2021-09-26T17:00:08.368995",
     "exception": false,
     "start_time": "2021-09-26T17:00:07.952099",
     "status": "completed"
    },
    "tags": []
   },
   "outputs": [],
   "source": [
    "timestamps = pd.read_sql(\"select distinct record_time from EBAY_TOP_BERLIN order by record_time desc limit 2\", sqlite3.connect(\"UsedObjects.db\"))"
   ]
  },
  {
   "cell_type": "code",
   "execution_count": 3,
   "id": "periodic-identification",
   "metadata": {
    "execution": {
     "iopub.execute_input": "2021-09-26T17:00:08.437587Z",
     "iopub.status.busy": "2021-09-26T17:00:08.432685Z",
     "iopub.status.idle": "2021-09-26T17:00:08.454727Z",
     "shell.execute_reply": "2021-09-26T17:00:08.456006Z"
    },
    "papermill": {
     "duration": 0.067715,
     "end_time": "2021-09-26T17:00:08.456436",
     "exception": false,
     "start_time": "2021-09-26T17:00:08.388721",
     "status": "completed"
    },
    "tags": []
   },
   "outputs": [
    {
     "data": {
      "text/html": [
       "<div>\n",
       "<style scoped>\n",
       "    .dataframe tbody tr th:only-of-type {\n",
       "        vertical-align: middle;\n",
       "    }\n",
       "\n",
       "    .dataframe tbody tr th {\n",
       "        vertical-align: top;\n",
       "    }\n",
       "\n",
       "    .dataframe thead th {\n",
       "        text-align: right;\n",
       "    }\n",
       "</style>\n",
       "<table border=\"1\" class=\"dataframe\">\n",
       "  <thead>\n",
       "    <tr style=\"text-align: right;\">\n",
       "      <th></th>\n",
       "      <th>RECORD_TIME</th>\n",
       "    </tr>\n",
       "  </thead>\n",
       "  <tbody>\n",
       "    <tr>\n",
       "      <th>0</th>\n",
       "      <td>2021-09-26 19:00</td>\n",
       "    </tr>\n",
       "    <tr>\n",
       "      <th>1</th>\n",
       "      <td>2021-09-26 18:30</td>\n",
       "    </tr>\n",
       "  </tbody>\n",
       "</table>\n",
       "</div>"
      ],
      "text/plain": [
       "        RECORD_TIME\n",
       "0  2021-09-26 19:00\n",
       "1  2021-09-26 18:30"
      ]
     },
     "execution_count": 3,
     "metadata": {},
     "output_type": "execute_result"
    }
   ],
   "source": [
    "timestamps"
   ]
  },
  {
   "cell_type": "code",
   "execution_count": 4,
   "id": "alternate-victory",
   "metadata": {
    "execution": {
     "iopub.execute_input": "2021-09-26T17:00:08.510589Z",
     "iopub.status.busy": "2021-09-26T17:00:08.508522Z",
     "iopub.status.idle": "2021-09-26T17:00:09.075471Z",
     "shell.execute_reply": "2021-09-26T17:00:09.076696Z"
    },
    "papermill": {
     "duration": 0.59813,
     "end_time": "2021-09-26T17:00:09.077089",
     "exception": false,
     "start_time": "2021-09-26T17:00:08.478959",
     "status": "completed"
    },
    "tags": []
   },
   "outputs": [],
   "source": [
    "df = pd.read_sql(\"select * from EBAY_TOP_BERLIN where record_time in (select distinct record_time from EBAY_TOP_BERLIN order by record_time desc limit 2)\", sqlite3.connect(\"UsedObjects.db\"))"
   ]
  },
  {
   "cell_type": "code",
   "execution_count": 5,
   "id": "popular-active",
   "metadata": {
    "execution": {
     "iopub.execute_input": "2021-09-26T17:00:09.146580Z",
     "iopub.status.busy": "2021-09-26T17:00:09.139379Z",
     "iopub.status.idle": "2021-09-26T17:00:09.167603Z",
     "shell.execute_reply": "2021-09-26T17:00:09.168872Z"
    },
    "papermill": {
     "duration": 0.068716,
     "end_time": "2021-09-26T17:00:09.169269",
     "exception": false,
     "start_time": "2021-09-26T17:00:09.100553",
     "status": "completed"
    },
    "tags": []
   },
   "outputs": [],
   "source": [
    "df_pivot = df.pivot_table(index=\"PRODUCT\", columns = \"RECORD_TIME\", values = \"LISTING_COUNT\")"
   ]
  },
  {
   "cell_type": "code",
   "execution_count": 6,
   "id": "union-huntington",
   "metadata": {
    "execution": {
     "iopub.execute_input": "2021-09-26T17:00:09.224375Z",
     "iopub.status.busy": "2021-09-26T17:00:09.222167Z",
     "iopub.status.idle": "2021-09-26T17:00:09.227731Z",
     "shell.execute_reply": "2021-09-26T17:00:09.229150Z"
    },
    "papermill": {
     "duration": 0.040605,
     "end_time": "2021-09-26T17:00:09.229583",
     "exception": false,
     "start_time": "2021-09-26T17:00:09.188978",
     "status": "completed"
    },
    "tags": []
   },
   "outputs": [],
   "source": [
    "df_pivot.columns = [\"stamp_1\", \"stamp_2\"]\n",
    "df_pivot_diff = df_pivot.diff(axis=1)"
   ]
  },
  {
   "cell_type": "code",
   "execution_count": 7,
   "id": "fifth-motion",
   "metadata": {
    "execution": {
     "iopub.execute_input": "2021-09-26T17:00:09.286197Z",
     "iopub.status.busy": "2021-09-26T17:00:09.283576Z",
     "iopub.status.idle": "2021-09-26T17:00:10.795216Z",
     "shell.execute_reply": "2021-09-26T17:00:10.796510Z"
    },
    "papermill": {
     "duration": 1.545166,
     "end_time": "2021-09-26T17:00:10.796928",
     "exception": false,
     "start_time": "2021-09-26T17:00:09.251762",
     "status": "completed"
    },
    "tags": []
   },
   "outputs": [
    {
     "data": {
      "text/plain": [
       "<AxesSubplot:ylabel='PRODUCT'>"
      ]
     },
     "execution_count": 7,
     "metadata": {},
     "output_type": "execute_result"
    },
    {
     "data": {
      "image/png": "[encoded data removed]",
      "text/plain": [
       "<Figure size 432x288 with 1 Axes>"
      ]
     },
     "metadata": {
      "needs_background": "light"
     },
     "output_type": "display_data"
    }
   ],
   "source": [
    "df_pivot_diff.sort_values(\"stamp_2\", ascending = False)[\"stamp_2\"].head(10).plot.barh()"
   ]
  },
  {
   "cell_type": "code",
   "execution_count": null,
   "id": "extra-executive",
   "metadata": {
    "papermill": {
     "duration": 0.022115,
     "end_time": "2021-09-26T17:00:10.843687",
     "exception": false,
     "start_time": "2021-09-26T17:00:10.821572",
     "status": "completed"
    },
    "tags": []
   },
   "outputs": [],
   "source": []
  }
 ],
 "metadata": {
  "kernelspec": {
   "display_name": "Python 3",
   "language": "python",
   "name": "python3"
  },
  "language_info": {
   "codemirror_mode": {
    "name": "ipython",
    "version": 3
   },
   "file_extension": ".py",
   "mimetype": "text/x-python",
   "name": "python",
   "nbconvert_exporter": "python",
   "pygments_lexer": "ipython3",
   "version": "3.9.5"
  },
  "papermill": {
   "default_parameters": {},
   "duration": 6.816786,
   "end_time": "2021-09-26T17:00:11.486723",
   "environment_variables": {},
   "exception": null,
   "input_path": "eBay_Overview.ipynb",
   "output_path": "eBay_Overview.ipynb",
   "parameters": {},
   "start_time": "2021-09-26T17:00:04.669937",
   "version": "2.3.3"
  }
 },
 "nbformat": 4,
 "nbformat_minor": 5
}