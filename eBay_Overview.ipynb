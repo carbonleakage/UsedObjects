{
 "cells": [
  {
   "cell_type": "code",
   "execution_count": 1,
   "id": "reverse-picking",
   "metadata": {
    "execution": {
     "iopub.execute_input": "2021-08-09T23:00:04.421397Z",
     "iopub.status.busy": "2021-08-09T23:00:04.420635Z",
     "iopub.status.idle": "2021-08-09T23:00:05.120160Z",
     "shell.execute_reply": "2021-08-09T23:00:05.118997Z"
    },
    "papermill": {
     "duration": 0.718258,
     "end_time": "2021-08-09T23:00:05.120524",
     "exception": false,
     "start_time": "2021-08-09T23:00:04.402266",
     "status": "completed"
    },
    "tags": []
   },
   "outputs": [],
   "source": [
    "import pandas as pd\n",
    "import sqlite3"
   ]
  },
  {
   "cell_type": "code",
   "execution_count": 2,
   "id": "innovative-syndrome",
   "metadata": {
    "execution": {
     "iopub.execute_input": "2021-08-09T23:00:05.144935Z",
     "iopub.status.busy": "2021-08-09T23:00:05.144149Z",
     "iopub.status.idle": "2021-08-09T23:00:05.424126Z",
     "shell.execute_reply": "2021-08-09T23:00:05.424656Z"
    },
    "papermill": {
     "duration": 0.294526,
     "end_time": "2021-08-09T23:00:05.424840",
     "exception": false,
     "start_time": "2021-08-09T23:00:05.130314",
     "status": "completed"
    },
    "tags": []
   },
   "outputs": [],
   "source": [
    "timestamps = pd.read_sql(\"select distinct record_time from EBAY_TOP_BERLIN order by record_time desc limit 2\", sqlite3.connect(\"UsedObjects.db\"))"
   ]
  },
  {
   "cell_type": "code",
   "execution_count": 3,
   "id": "periodic-identification",
   "metadata": {
    "execution": {
     "iopub.execute_input": "2021-08-09T23:00:05.457557Z",
     "iopub.status.busy": "2021-08-09T23:00:05.456507Z",
     "iopub.status.idle": "2021-08-09T23:00:05.472518Z",
     "shell.execute_reply": "2021-08-09T23:00:05.473087Z"
    },
    "papermill": {
     "duration": 0.040325,
     "end_time": "2021-08-09T23:00:05.473282",
     "exception": false,
     "start_time": "2021-08-09T23:00:05.432957",
     "status": "completed"
    },
    "tags": []
   },
   "outputs": [
    {
     "data": {
      "text/html": [
       "<div>\n",
       "<style scoped>\n",
       "    .dataframe tbody tr th:only-of-type {\n",
       "        vertical-align: middle;\n",
       "    }\n",
       "\n",
       "    .dataframe tbody tr th {\n",
       "        vertical-align: top;\n",
       "    }\n",
       "\n",
       "    .dataframe thead th {\n",
       "        text-align: right;\n",
       "    }\n",
       "</style>\n",
       "<table border=\"1\" class=\"dataframe\">\n",
       "  <thead>\n",
       "    <tr style=\"text-align: right;\">\n",
       "      <th></th>\n",
       "      <th>RECORD_TIME</th>\n",
       "    </tr>\n",
       "  </thead>\n",
       "  <tbody>\n",
       "    <tr>\n",
       "      <th>0</th>\n",
       "      <td>2021-08-10 01:00</td>\n",
       "    </tr>\n",
       "    <tr>\n",
       "      <th>1</th>\n",
       "      <td>2021-08-10 00:30</td>\n",
       "    </tr>\n",
       "  </tbody>\n",
       "</table>\n",
       "</div>"
      ],
      "text/plain": [
       "        RECORD_TIME\n",
       "0  2021-08-10 01:00\n",
       "1  2021-08-10 00:30"
      ]
     },
     "execution_count": 3,
     "metadata": {},
     "output_type": "execute_result"
    }
   ],
   "source": [
    "timestamps"
   ]
  },
  {
   "cell_type": "code",
   "execution_count": 4,
   "id": "alternate-victory",
   "metadata": {
    "execution": {
     "iopub.execute_input": "2021-08-09T23:00:05.497661Z",
     "iopub.status.busy": "2021-08-09T23:00:05.496903Z",
     "iopub.status.idle": "2021-08-09T23:00:05.510890Z",
     "shell.execute_reply": "2021-08-09T23:00:05.511908Z"
    },
    "papermill": {
     "duration": 0.027655,
     "end_time": "2021-08-09T23:00:05.512169",
     "exception": false,
     "start_time": "2021-08-09T23:00:05.484514",
     "status": "completed"
    },
    "tags": []
   },
   "outputs": [],
   "source": [
    "df = pd.read_sql(\"select * from EBAY_TOP_BERLIN where record_time in (select distinct record_time from EBAY_TOP_BERLIN order by record_time desc limit 2)\", sqlite3.connect(\"UsedObjects.db\"))"
   ]
  },
  {
   "cell_type": "code",
   "execution_count": 5,
   "id": "popular-active",
   "metadata": {
    "execution": {
     "iopub.execute_input": "2021-08-09T23:00:05.538917Z",
     "iopub.status.busy": "2021-08-09T23:00:05.537903Z",
     "iopub.status.idle": "2021-08-09T23:00:05.604935Z",
     "shell.execute_reply": "2021-08-09T23:00:05.604154Z"
    },
    "papermill": {
     "duration": 0.08306,
     "end_time": "2021-08-09T23:00:05.605219",
     "exception": false,
     "start_time": "2021-08-09T23:00:05.522159",
     "status": "completed"
    },
    "tags": []
   },
   "outputs": [],
   "source": [
    "df_pivot = df.pivot_table(index=\"PRODUCT\", columns = \"RECORD_TIME\", values = \"LISTING_COUNT\")"
   ]
  },
  {
   "cell_type": "code",
   "execution_count": 6,
   "id": "union-huntington",
   "metadata": {
    "execution": {
     "iopub.execute_input": "2021-08-09T23:00:05.633855Z",
     "iopub.status.busy": "2021-08-09T23:00:05.633157Z",
     "iopub.status.idle": "2021-08-09T23:00:05.636499Z",
     "shell.execute_reply": "2021-08-09T23:00:05.637028Z"
    },
    "papermill": {
     "duration": 0.020344,
     "end_time": "2021-08-09T23:00:05.637210",
     "exception": false,
     "start_time": "2021-08-09T23:00:05.616866",
     "status": "completed"
    },
    "tags": []
   },
   "outputs": [],
   "source": [
    "df_pivot.columns = [\"stamp_1\", \"stamp_2\"]\n",
    "df_pivot_diff = df_pivot.diff(axis=1)"
   ]
  },
  {
   "cell_type": "code",
   "execution_count": 7,
   "id": "fifth-motion",
   "metadata": {
    "execution": {
     "iopub.execute_input": "2021-08-09T23:00:05.661492Z",
     "iopub.status.busy": "2021-08-09T23:00:05.660733Z",
     "iopub.status.idle": "2021-08-09T23:00:06.492929Z",
     "shell.execute_reply": "2021-08-09T23:00:06.493457Z"
    },
    "papermill": {
     "duration": 0.847306,
     "end_time": "2021-08-09T23:00:06.493642",
     "exception": false,
     "start_time": "2021-08-09T23:00:05.646336",
     "status": "completed"
    },
    "tags": []
   },
   "outputs": [
    {
     "data": {
      "text/plain": [
       "<AxesSubplot:ylabel='PRODUCT'>"
      ]
     },
     "execution_count": 7,
     "metadata": {},
     "output_type": "execute_result"
    },
    {
     "data": {
      "image/png": "[encoded data removed]",
      "text/plain": [
       "<Figure size 432x288 with 1 Axes>"
      ]
     },
     "metadata": {
      "needs_background": "light"
     },
     "output_type": "display_data"
    }
   ],
   "source": [
    "df_pivot_diff.sort_values(\"stamp_2\", ascending = False)[\"stamp_2\"].head(10).plot.barh()"
   ]
  },
  {
   "cell_type": "code",
   "execution_count": null,
   "id": "extra-executive",
   "metadata": {
    "papermill": {
     "duration": 0.009904,
     "end_time": "2021-08-09T23:00:06.515766",
     "exception": false,
     "start_time": "2021-08-09T23:00:06.505862",
     "status": "completed"
    },
    "tags": []
   },
   "outputs": [],
   "source": []
  }
 ],
 "metadata": {
  "kernelspec": {
   "display_name": "Python 3",
   "language": "python",
   "name": "python3"
  },
  "language_info": {
   "codemirror_mode": {
    "name": "ipython",
    "version": 3
   },
   "file_extension": ".py",
   "mimetype": "text/x-python",
   "name": "python",
   "nbconvert_exporter": "python",
   "pygments_lexer": "ipython3",
   "version": "3.8.8"
  },
  "papermill": {
   "default_parameters": {},
   "duration": 4.500375,
   "end_time": "2021-08-09T23:00:07.239138",
   "environment_variables": {},
   "exception": null,
   "input_path": "/Users/saravananshanmugam/Carbonleakage_Git/UsedObjects/eBay_Overview.ipynb",
   "output_path": "/Users/saravananshanmugam/Carbonleakage_Git/UsedObjects/eBay_Overview.ipynb",
   "parameters": {},
   "start_time": "2021-08-09T23:00:02.738763",
   "version": "2.3.3"
  }
 },
 "nbformat": 4,
 "nbformat_minor": 5
}