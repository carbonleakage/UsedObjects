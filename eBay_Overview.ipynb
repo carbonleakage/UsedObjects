{
 "cells": [
  {
   "cell_type": "code",
   "execution_count": 1,
   "id": "reverse-picking",
   "metadata": {
    "execution": {
     "iopub.execute_input": "2021-08-17T17:00:06.676048Z",
     "iopub.status.busy": "2021-08-17T17:00:06.674040Z",
     "iopub.status.idle": "2021-08-17T17:00:07.482299Z",
     "shell.execute_reply": "2021-08-17T17:00:07.483699Z"
    },
    "papermill": {
     "duration": 0.861337,
     "end_time": "2021-08-17T17:00:07.484338",
     "exception": false,
     "start_time": "2021-08-17T17:00:06.623001",
     "status": "completed"
    },
    "tags": []
   },
   "outputs": [],
   "source": [
    "import pandas as pd\n",
    "import sqlite3"
   ]
  },
  {
   "cell_type": "code",
   "execution_count": 2,
   "id": "innovative-syndrome",
   "metadata": {
    "execution": {
     "iopub.execute_input": "2021-08-17T17:00:07.534777Z",
     "iopub.status.busy": "2021-08-17T17:00:07.532818Z",
     "iopub.status.idle": "2021-08-17T17:00:07.602836Z",
     "shell.execute_reply": "2021-08-17T17:00:07.604044Z"
    },
    "papermill": {
     "duration": 0.099795,
     "end_time": "2021-08-17T17:00:07.604444",
     "exception": false,
     "start_time": "2021-08-17T17:00:07.504649",
     "status": "completed"
    },
    "tags": []
   },
   "outputs": [],
   "source": [
    "timestamps = pd.read_sql(\"select distinct record_time from EBAY_TOP_BERLIN order by record_time desc limit 2\", sqlite3.connect(\"UsedObjects.db\"))"
   ]
  },
  {
   "cell_type": "code",
   "execution_count": 3,
   "id": "periodic-identification",
   "metadata": {
    "execution": {
     "iopub.execute_input": "2021-08-17T17:00:07.676110Z",
     "iopub.status.busy": "2021-08-17T17:00:07.671316Z",
     "iopub.status.idle": "2021-08-17T17:00:07.693240Z",
     "shell.execute_reply": "2021-08-17T17:00:07.694530Z"
    },
    "papermill": {
     "duration": 0.067911,
     "end_time": "2021-08-17T17:00:07.694983",
     "exception": false,
     "start_time": "2021-08-17T17:00:07.627072",
     "status": "completed"
    },
    "tags": []
   },
   "outputs": [
    {
     "data": {
      "text/html": [
       "<div>\n",
       "<style scoped>\n",
       "    .dataframe tbody tr th:only-of-type {\n",
       "        vertical-align: middle;\n",
       "    }\n",
       "\n",
       "    .dataframe tbody tr th {\n",
       "        vertical-align: top;\n",
       "    }\n",
       "\n",
       "    .dataframe thead th {\n",
       "        text-align: right;\n",
       "    }\n",
       "</style>\n",
       "<table border=\"1\" class=\"dataframe\">\n",
       "  <thead>\n",
       "    <tr style=\"text-align: right;\">\n",
       "      <th></th>\n",
       "      <th>RECORD_TIME</th>\n",
       "    </tr>\n",
       "  </thead>\n",
       "  <tbody>\n",
       "    <tr>\n",
       "      <th>0</th>\n",
       "      <td>2021-08-17 19:00</td>\n",
       "    </tr>\n",
       "    <tr>\n",
       "      <th>1</th>\n",
       "      <td>2021-08-17 18:30</td>\n",
       "    </tr>\n",
       "  </tbody>\n",
       "</table>\n",
       "</div>"
      ],
      "text/plain": [
       "        RECORD_TIME\n",
       "0  2021-08-17 19:00\n",
       "1  2021-08-17 18:30"
      ]
     },
     "execution_count": 3,
     "metadata": {},
     "output_type": "execute_result"
    }
   ],
   "source": [
    "timestamps"
   ]
  },
  {
   "cell_type": "code",
   "execution_count": 4,
   "id": "alternate-victory",
   "metadata": {
    "execution": {
     "iopub.execute_input": "2021-08-17T17:00:07.748027Z",
     "iopub.status.busy": "2021-08-17T17:00:07.745765Z",
     "iopub.status.idle": "2021-08-17T17:00:07.851555Z",
     "shell.execute_reply": "2021-08-17T17:00:07.852777Z"
    },
    "papermill": {
     "duration": 0.136109,
     "end_time": "2021-08-17T17:00:07.853174",
     "exception": false,
     "start_time": "2021-08-17T17:00:07.717065",
     "status": "completed"
    },
    "tags": []
   },
   "outputs": [],
   "source": [
    "df = pd.read_sql(\"select * from EBAY_TOP_BERLIN where record_time in (select distinct record_time from EBAY_TOP_BERLIN order by record_time desc limit 2)\", sqlite3.connect(\"UsedObjects.db\"))"
   ]
  },
  {
   "cell_type": "code",
   "execution_count": 5,
   "id": "popular-active",
   "metadata": {
    "execution": {
     "iopub.execute_input": "2021-08-17T17:00:07.925544Z",
     "iopub.status.busy": "2021-08-17T17:00:07.913390Z",
     "iopub.status.idle": "2021-08-17T17:00:07.941057Z",
     "shell.execute_reply": "2021-08-17T17:00:07.942331Z"
    },
    "papermill": {
     "duration": 0.068755,
     "end_time": "2021-08-17T17:00:07.942738",
     "exception": false,
     "start_time": "2021-08-17T17:00:07.873983",
     "status": "completed"
    },
    "tags": []
   },
   "outputs": [],
   "source": [
    "df_pivot = df.pivot_table(index=\"PRODUCT\", columns = \"RECORD_TIME\", values = \"LISTING_COUNT\")"
   ]
  },
  {
   "cell_type": "code",
   "execution_count": 6,
   "id": "union-huntington",
   "metadata": {
    "execution": {
     "iopub.execute_input": "2021-08-17T17:00:08.002228Z",
     "iopub.status.busy": "2021-08-17T17:00:07.999892Z",
     "iopub.status.idle": "2021-08-17T17:00:08.005760Z",
     "shell.execute_reply": "2021-08-17T17:00:08.007124Z"
    },
    "papermill": {
     "duration": 0.042256,
     "end_time": "2021-08-17T17:00:08.007547",
     "exception": false,
     "start_time": "2021-08-17T17:00:07.965291",
     "status": "completed"
    },
    "tags": []
   },
   "outputs": [],
   "source": [
    "df_pivot.columns = [\"stamp_1\", \"stamp_2\"]\n",
    "df_pivot_diff = df_pivot.diff(axis=1)"
   ]
  },
  {
   "cell_type": "code",
   "execution_count": 7,
   "id": "fifth-motion",
   "metadata": {
    "execution": {
     "iopub.execute_input": "2021-08-17T17:00:08.062247Z",
     "iopub.status.busy": "2021-08-17T17:00:08.059823Z",
     "iopub.status.idle": "2021-08-17T17:00:09.523510Z",
     "shell.execute_reply": "2021-08-17T17:00:09.524838Z"
    },
    "papermill": {
     "duration": 1.497473,
     "end_time": "2021-08-17T17:00:09.525265",
     "exception": false,
     "start_time": "2021-08-17T17:00:08.027792",
     "status": "completed"
    },
    "tags": []
   },
   "outputs": [
    {
     "data": {
      "text/plain": [
       "<AxesSubplot:ylabel='PRODUCT'>"
      ]
     },
     "execution_count": 7,
     "metadata": {},
     "output_type": "execute_result"
    },
    {
     "data": {
      "image/png": "[encoded data removed]",
      "text/plain": [
       "<Figure size 432x288 with 1 Axes>"
      ]
     },
     "metadata": {
      "needs_background": "light"
     },
     "output_type": "display_data"
    }
   ],
   "source": [
    "df_pivot_diff.sort_values(\"stamp_2\", ascending = False)[\"stamp_2\"].head(10).plot.barh()"
   ]
  },
  {
   "cell_type": "code",
   "execution_count": null,
   "id": "extra-executive",
   "metadata": {
    "papermill": {
     "duration": 0.022497,
     "end_time": "2021-08-17T17:00:09.572657",
     "exception": false,
     "start_time": "2021-08-17T17:00:09.550160",
     "status": "completed"
    },
    "tags": []
   },
   "outputs": [],
   "source": []
  }
 ],
 "metadata": {
  "kernelspec": {
   "display_name": "Python 3",
   "language": "python",
   "name": "python3"
  },
  "language_info": {
   "codemirror_mode": {
    "name": "ipython",
    "version": 3
   },
   "file_extension": ".py",
   "mimetype": "text/x-python",
   "name": "python",
   "nbconvert_exporter": "python",
   "pygments_lexer": "ipython3",
   "version": "3.9.5"
  },
  "papermill": {
   "default_parameters": {},
   "duration": 6.83911,
   "end_time": "2021-08-17T17:00:11.044075",
   "environment_variables": {},
   "exception": null,
   "input_path": "eBay_Overview.ipynb",
   "output_path": "eBay_Overview.ipynb",
   "parameters": {},
   "start_time": "2021-08-17T17:00:04.204965",
   "version": "2.3.3"
  }
 },
 "nbformat": 4,
 "nbformat_minor": 5
}