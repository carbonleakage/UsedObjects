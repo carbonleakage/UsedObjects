{
 "cells": [
  {
   "cell_type": "code",
   "execution_count": 1,
   "id": "reverse-picking",
   "metadata": {
    "execution": {
     "iopub.execute_input": "2021-09-09T07:00:07.593270Z",
     "iopub.status.busy": "2021-09-09T07:00:07.591340Z",
     "iopub.status.idle": "2021-09-09T07:00:08.404234Z",
     "shell.execute_reply": "2021-09-09T07:00:08.402499Z"
    },
    "papermill": {
     "duration": 0.862676,
     "end_time": "2021-09-09T07:00:08.404648",
     "exception": false,
     "start_time": "2021-09-09T07:00:07.541972",
     "status": "completed"
    },
    "tags": []
   },
   "outputs": [],
   "source": [
    "import pandas as pd\n",
    "import sqlite3"
   ]
  },
  {
   "cell_type": "code",
   "execution_count": 2,
   "id": "innovative-syndrome",
   "metadata": {
    "execution": {
     "iopub.execute_input": "2021-09-09T07:00:08.455305Z",
     "iopub.status.busy": "2021-09-09T07:00:08.453244Z",
     "iopub.status.idle": "2021-09-09T07:00:08.694922Z",
     "shell.execute_reply": "2021-09-09T07:00:08.696194Z"
    },
    "papermill": {
     "duration": 0.271698,
     "end_time": "2021-09-09T07:00:08.696595",
     "exception": false,
     "start_time": "2021-09-09T07:00:08.424897",
     "status": "completed"
    },
    "tags": []
   },
   "outputs": [],
   "source": [
    "timestamps = pd.read_sql(\"select distinct record_time from EBAY_TOP_BERLIN order by record_time desc limit 2\", sqlite3.connect(\"UsedObjects.db\"))"
   ]
  },
  {
   "cell_type": "code",
   "execution_count": 3,
   "id": "periodic-identification",
   "metadata": {
    "execution": {
     "iopub.execute_input": "2021-09-09T07:00:08.761773Z",
     "iopub.status.busy": "2021-09-09T07:00:08.759737Z",
     "iopub.status.idle": "2021-09-09T07:00:08.780027Z",
     "shell.execute_reply": "2021-09-09T07:00:08.781312Z"
    },
    "papermill": {
     "duration": 0.064317,
     "end_time": "2021-09-09T07:00:08.781726",
     "exception": false,
     "start_time": "2021-09-09T07:00:08.717409",
     "status": "completed"
    },
    "tags": []
   },
   "outputs": [
    {
     "data": {
      "text/html": [
       "<div>\n",
       "<style scoped>\n",
       "    .dataframe tbody tr th:only-of-type {\n",
       "        vertical-align: middle;\n",
       "    }\n",
       "\n",
       "    .dataframe tbody tr th {\n",
       "        vertical-align: top;\n",
       "    }\n",
       "\n",
       "    .dataframe thead th {\n",
       "        text-align: right;\n",
       "    }\n",
       "</style>\n",
       "<table border=\"1\" class=\"dataframe\">\n",
       "  <thead>\n",
       "    <tr style=\"text-align: right;\">\n",
       "      <th></th>\n",
       "      <th>RECORD_TIME</th>\n",
       "    </tr>\n",
       "  </thead>\n",
       "  <tbody>\n",
       "    <tr>\n",
       "      <th>0</th>\n",
       "      <td>2021-09-09 09:00</td>\n",
       "    </tr>\n",
       "    <tr>\n",
       "      <th>1</th>\n",
       "      <td>2021-09-09 08:30</td>\n",
       "    </tr>\n",
       "  </tbody>\n",
       "</table>\n",
       "</div>"
      ],
      "text/plain": [
       "        RECORD_TIME\n",
       "0  2021-09-09 09:00\n",
       "1  2021-09-09 08:30"
      ]
     },
     "execution_count": 3,
     "metadata": {},
     "output_type": "execute_result"
    }
   ],
   "source": [
    "timestamps"
   ]
  },
  {
   "cell_type": "code",
   "execution_count": 4,
   "id": "alternate-victory",
   "metadata": {
    "execution": {
     "iopub.execute_input": "2021-09-09T07:00:08.834630Z",
     "iopub.status.busy": "2021-09-09T07:00:08.832346Z",
     "iopub.status.idle": "2021-09-09T07:00:09.206261Z",
     "shell.execute_reply": "2021-09-09T07:00:09.207604Z"
    },
    "papermill": {
     "duration": 0.404545,
     "end_time": "2021-09-09T07:00:09.208026",
     "exception": false,
     "start_time": "2021-09-09T07:00:08.803481",
     "status": "completed"
    },
    "tags": []
   },
   "outputs": [],
   "source": [
    "df = pd.read_sql(\"select * from EBAY_TOP_BERLIN where record_time in (select distinct record_time from EBAY_TOP_BERLIN order by record_time desc limit 2)\", sqlite3.connect(\"UsedObjects.db\"))"
   ]
  },
  {
   "cell_type": "code",
   "execution_count": 5,
   "id": "popular-active",
   "metadata": {
    "execution": {
     "iopub.execute_input": "2021-09-09T07:00:09.289667Z",
     "iopub.status.busy": "2021-09-09T07:00:09.282299Z",
     "iopub.status.idle": "2021-09-09T07:00:09.304964Z",
     "shell.execute_reply": "2021-09-09T07:00:09.306174Z"
    },
    "papermill": {
     "duration": 0.073079,
     "end_time": "2021-09-09T07:00:09.306573",
     "exception": false,
     "start_time": "2021-09-09T07:00:09.233494",
     "status": "completed"
    },
    "tags": []
   },
   "outputs": [],
   "source": [
    "df_pivot = df.pivot_table(index=\"PRODUCT\", columns = \"RECORD_TIME\", values = \"LISTING_COUNT\")"
   ]
  },
  {
   "cell_type": "code",
   "execution_count": 6,
   "id": "union-huntington",
   "metadata": {
    "execution": {
     "iopub.execute_input": "2021-09-09T07:00:09.363520Z",
     "iopub.status.busy": "2021-09-09T07:00:09.361504Z",
     "iopub.status.idle": "2021-09-09T07:00:09.366572Z",
     "shell.execute_reply": "2021-09-09T07:00:09.367875Z"
    },
    "papermill": {
     "duration": 0.039746,
     "end_time": "2021-09-09T07:00:09.368278",
     "exception": false,
     "start_time": "2021-09-09T07:00:09.328532",
     "status": "completed"
    },
    "tags": []
   },
   "outputs": [],
   "source": [
    "df_pivot.columns = [\"stamp_1\", \"stamp_2\"]\n",
    "df_pivot_diff = df_pivot.diff(axis=1)"
   ]
  },
  {
   "cell_type": "code",
   "execution_count": 7,
   "id": "fifth-motion",
   "metadata": {
    "execution": {
     "iopub.execute_input": "2021-09-09T07:00:09.423177Z",
     "iopub.status.busy": "2021-09-09T07:00:09.420703Z",
     "iopub.status.idle": "2021-09-09T07:00:10.913141Z",
     "shell.execute_reply": "2021-09-09T07:00:10.914427Z"
    },
    "papermill": {
     "duration": 1.525479,
     "end_time": "2021-09-09T07:00:10.914845",
     "exception": false,
     "start_time": "2021-09-09T07:00:09.389366",
     "status": "completed"
    },
    "tags": []
   },
   "outputs": [
    {
     "data": {
      "text/plain": [
       "<AxesSubplot:ylabel='PRODUCT'>"
      ]
     },
     "execution_count": 7,
     "metadata": {},
     "output_type": "execute_result"
    },
    {
     "data": {
      "image/png": "[encoded data removed]",
      "text/plain": [
       "<Figure size 432x288 with 1 Axes>"
      ]
     },
     "metadata": {
      "needs_background": "light"
     },
     "output_type": "display_data"
    }
   ],
   "source": [
    "df_pivot_diff.sort_values(\"stamp_2\", ascending = False)[\"stamp_2\"].head(10).plot.barh()"
   ]
  },
  {
   "cell_type": "code",
   "execution_count": null,
   "id": "extra-executive",
   "metadata": {
    "papermill": {
     "duration": 0.022962,
     "end_time": "2021-09-09T07:00:10.962530",
     "exception": false,
     "start_time": "2021-09-09T07:00:10.939568",
     "status": "completed"
    },
    "tags": []
   },
   "outputs": [],
   "source": []
  }
 ],
 "metadata": {
  "kernelspec": {
   "display_name": "Python 3",
   "language": "python",
   "name": "python3"
  },
  "language_info": {
   "codemirror_mode": {
    "name": "ipython",
    "version": 3
   },
   "file_extension": ".py",
   "mimetype": "text/x-python",
   "name": "python",
   "nbconvert_exporter": "python",
   "pygments_lexer": "ipython3",
   "version": "3.9.5"
  },
  "papermill": {
   "default_parameters": {},
   "duration": 6.475593,
   "end_time": "2021-09-09T07:00:11.603110",
   "environment_variables": {},
   "exception": null,
   "input_path": "eBay_Overview.ipynb",
   "output_path": "eBay_Overview.ipynb",
   "parameters": {},
   "start_time": "2021-09-09T07:00:05.127517",
   "version": "2.3.3"
  }
 },
 "nbformat": 4,
 "nbformat_minor": 5
}