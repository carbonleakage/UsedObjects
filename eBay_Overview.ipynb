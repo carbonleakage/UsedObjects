{
 "cells": [
  {
   "cell_type": "code",
   "execution_count": 1,
   "id": "reverse-picking",
   "metadata": {
    "execution": {
     "iopub.execute_input": "2021-09-13T00:30:06.689276Z",
     "iopub.status.busy": "2021-09-13T00:30:06.687330Z",
     "iopub.status.idle": "2021-09-13T00:30:07.495235Z",
     "shell.execute_reply": "2021-09-13T00:30:07.493580Z"
    },
    "papermill": {
     "duration": 0.858938,
     "end_time": "2021-09-13T00:30:07.495648",
     "exception": false,
     "start_time": "2021-09-13T00:30:06.636710",
     "status": "completed"
    },
    "tags": []
   },
   "outputs": [],
   "source": [
    "import pandas as pd\n",
    "import sqlite3"
   ]
  },
  {
   "cell_type": "code",
   "execution_count": 2,
   "id": "innovative-syndrome",
   "metadata": {
    "execution": {
     "iopub.execute_input": "2021-09-13T00:30:07.546487Z",
     "iopub.status.busy": "2021-09-13T00:30:07.544616Z",
     "iopub.status.idle": "2021-09-13T00:30:07.816630Z",
     "shell.execute_reply": "2021-09-13T00:30:07.817826Z"
    },
    "papermill": {
     "duration": 0.301652,
     "end_time": "2021-09-13T00:30:07.818229",
     "exception": false,
     "start_time": "2021-09-13T00:30:07.516577",
     "status": "completed"
    },
    "tags": []
   },
   "outputs": [],
   "source": [
    "timestamps = pd.read_sql(\"select distinct record_time from EBAY_TOP_BERLIN order by record_time desc limit 2\", sqlite3.connect(\"UsedObjects.db\"))"
   ]
  },
  {
   "cell_type": "code",
   "execution_count": 3,
   "id": "periodic-identification",
   "metadata": {
    "execution": {
     "iopub.execute_input": "2021-09-13T00:30:07.883114Z",
     "iopub.status.busy": "2021-09-13T00:30:07.881044Z",
     "iopub.status.idle": "2021-09-13T00:30:07.900927Z",
     "shell.execute_reply": "2021-09-13T00:30:07.902207Z"
    },
    "papermill": {
     "duration": 0.063659,
     "end_time": "2021-09-13T00:30:07.902622",
     "exception": false,
     "start_time": "2021-09-13T00:30:07.838963",
     "status": "completed"
    },
    "tags": []
   },
   "outputs": [
    {
     "data": {
      "text/html": [
       "<div>\n",
       "<style scoped>\n",
       "    .dataframe tbody tr th:only-of-type {\n",
       "        vertical-align: middle;\n",
       "    }\n",
       "\n",
       "    .dataframe tbody tr th {\n",
       "        vertical-align: top;\n",
       "    }\n",
       "\n",
       "    .dataframe thead th {\n",
       "        text-align: right;\n",
       "    }\n",
       "</style>\n",
       "<table border=\"1\" class=\"dataframe\">\n",
       "  <thead>\n",
       "    <tr style=\"text-align: right;\">\n",
       "      <th></th>\n",
       "      <th>RECORD_TIME</th>\n",
       "    </tr>\n",
       "  </thead>\n",
       "  <tbody>\n",
       "    <tr>\n",
       "      <th>0</th>\n",
       "      <td>2021-09-13 02:30</td>\n",
       "    </tr>\n",
       "    <tr>\n",
       "      <th>1</th>\n",
       "      <td>2021-09-13 02:00</td>\n",
       "    </tr>\n",
       "  </tbody>\n",
       "</table>\n",
       "</div>"
      ],
      "text/plain": [
       "        RECORD_TIME\n",
       "0  2021-09-13 02:30\n",
       "1  2021-09-13 02:00"
      ]
     },
     "execution_count": 3,
     "metadata": {},
     "output_type": "execute_result"
    }
   ],
   "source": [
    "timestamps"
   ]
  },
  {
   "cell_type": "code",
   "execution_count": 4,
   "id": "alternate-victory",
   "metadata": {
    "execution": {
     "iopub.execute_input": "2021-09-13T00:30:07.954567Z",
     "iopub.status.busy": "2021-09-13T00:30:07.952743Z",
     "iopub.status.idle": "2021-09-13T00:30:08.355125Z",
     "shell.execute_reply": "2021-09-13T00:30:08.356500Z"
    },
    "papermill": {
     "duration": 0.432702,
     "end_time": "2021-09-13T00:30:08.356922",
     "exception": false,
     "start_time": "2021-09-13T00:30:07.924220",
     "status": "completed"
    },
    "tags": []
   },
   "outputs": [],
   "source": [
    "df = pd.read_sql(\"select * from EBAY_TOP_BERLIN where record_time in (select distinct record_time from EBAY_TOP_BERLIN order by record_time desc limit 2)\", sqlite3.connect(\"UsedObjects.db\"))"
   ]
  },
  {
   "cell_type": "code",
   "execution_count": 5,
   "id": "popular-active",
   "metadata": {
    "execution": {
     "iopub.execute_input": "2021-09-13T00:30:08.436985Z",
     "iopub.status.busy": "2021-09-13T00:30:08.425489Z",
     "iopub.status.idle": "2021-09-13T00:30:08.452360Z",
     "shell.execute_reply": "2021-09-13T00:30:08.453633Z"
    },
    "papermill": {
     "duration": 0.071211,
     "end_time": "2021-09-13T00:30:08.454062",
     "exception": false,
     "start_time": "2021-09-13T00:30:08.382851",
     "status": "completed"
    },
    "tags": []
   },
   "outputs": [],
   "source": [
    "df_pivot = df.pivot_table(index=\"PRODUCT\", columns = \"RECORD_TIME\", values = \"LISTING_COUNT\")"
   ]
  },
  {
   "cell_type": "code",
   "execution_count": 6,
   "id": "union-huntington",
   "metadata": {
    "execution": {
     "iopub.execute_input": "2021-09-13T00:30:08.513973Z",
     "iopub.status.busy": "2021-09-13T00:30:08.511555Z",
     "iopub.status.idle": "2021-09-13T00:30:08.517691Z",
     "shell.execute_reply": "2021-09-13T00:30:08.519118Z"
    },
    "papermill": {
     "duration": 0.042846,
     "end_time": "2021-09-13T00:30:08.519614",
     "exception": false,
     "start_time": "2021-09-13T00:30:08.476768",
     "status": "completed"
    },
    "tags": []
   },
   "outputs": [],
   "source": [
    "df_pivot.columns = [\"stamp_1\", \"stamp_2\"]\n",
    "df_pivot_diff = df_pivot.diff(axis=1)"
   ]
  },
  {
   "cell_type": "code",
   "execution_count": 7,
   "id": "fifth-motion",
   "metadata": {
    "execution": {
     "iopub.execute_input": "2021-09-13T00:30:08.575006Z",
     "iopub.status.busy": "2021-09-13T00:30:08.572722Z",
     "iopub.status.idle": "2021-09-13T00:30:10.049811Z",
     "shell.execute_reply": "2021-09-13T00:30:10.048316Z"
    },
    "papermill": {
     "duration": 1.508506,
     "end_time": "2021-09-13T00:30:10.050184",
     "exception": false,
     "start_time": "2021-09-13T00:30:08.541678",
     "status": "completed"
    },
    "tags": []
   },
   "outputs": [
    {
     "data": {
      "text/plain": [
       "<AxesSubplot:ylabel='PRODUCT'>"
      ]
     },
     "execution_count": 7,
     "metadata": {},
     "output_type": "execute_result"
    },
    {
     "data": {
      "image/png": "[encoded data removed]",
      "text/plain": [
       "<Figure size 432x288 with 1 Axes>"
      ]
     },
     "metadata": {
      "needs_background": "light"
     },
     "output_type": "display_data"
    }
   ],
   "source": [
    "df_pivot_diff.sort_values(\"stamp_2\", ascending = False)[\"stamp_2\"].head(10).plot.barh()"
   ]
  },
  {
   "cell_type": "code",
   "execution_count": null,
   "id": "extra-executive",
   "metadata": {
    "papermill": {
     "duration": 0.02243,
     "end_time": "2021-09-13T00:30:10.096285",
     "exception": false,
     "start_time": "2021-09-13T00:30:10.073855",
     "status": "completed"
    },
    "tags": []
   },
   "outputs": [],
   "source": []
  }
 ],
 "metadata": {
  "kernelspec": {
   "display_name": "Python 3",
   "language": "python",
   "name": "python3"
  },
  "language_info": {
   "codemirror_mode": {
    "name": "ipython",
    "version": 3
   },
   "file_extension": ".py",
   "mimetype": "text/x-python",
   "name": "python",
   "nbconvert_exporter": "python",
   "pygments_lexer": "ipython3",
   "version": "3.9.5"
  },
  "papermill": {
   "default_parameters": {},
   "duration": 6.519586,
   "end_time": "2021-09-13T00:30:10.740429",
   "environment_variables": {},
   "exception": null,
   "input_path": "eBay_Overview.ipynb",
   "output_path": "eBay_Overview.ipynb",
   "parameters": {},
   "start_time": "2021-09-13T00:30:04.220843",
   "version": "2.3.3"
  }
 },
 "nbformat": 4,
 "nbformat_minor": 5
}