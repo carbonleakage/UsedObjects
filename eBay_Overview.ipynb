{
 "cells": [
  {
   "cell_type": "code",
   "execution_count": 1,
   "id": "reverse-picking",
   "metadata": {
    "execution": {
     "iopub.execute_input": "2021-11-03T01:30:08.021538Z",
     "iopub.status.busy": "2021-11-03T01:30:08.019383Z",
     "iopub.status.idle": "2021-11-03T01:30:08.967264Z",
     "shell.execute_reply": "2021-11-03T01:30:08.968821Z"
    },
    "papermill": {
     "duration": 0.994816,
     "end_time": "2021-11-03T01:30:08.969563",
     "exception": false,
     "start_time": "2021-11-03T01:30:07.974747",
     "status": "completed"
    },
    "tags": []
   },
   "outputs": [],
   "source": [
    "import pandas as pd\n",
    "import sqlite3"
   ]
  },
  {
   "cell_type": "code",
   "execution_count": 2,
   "id": "innovative-syndrome",
   "metadata": {
    "execution": {
     "iopub.execute_input": "2021-11-03T01:30:09.034074Z",
     "iopub.status.busy": "2021-11-03T01:30:09.031754Z",
     "iopub.status.idle": "2021-11-03T01:30:09.734076Z",
     "shell.execute_reply": "2021-11-03T01:30:09.735621Z"
    },
    "papermill": {
     "duration": 0.743761,
     "end_time": "2021-11-03T01:30:09.736149",
     "exception": false,
     "start_time": "2021-11-03T01:30:08.992388",
     "status": "completed"
    },
    "tags": []
   },
   "outputs": [],
   "source": [
    "timestamps = pd.read_sql(\"select distinct record_time from EBAY_TOP_BERLIN order by record_time desc limit 2\", sqlite3.connect(\"UsedObjects.db\"))"
   ]
  },
  {
   "cell_type": "code",
   "execution_count": 3,
   "id": "periodic-identification",
   "metadata": {
    "execution": {
     "iopub.execute_input": "2021-11-03T01:30:09.811362Z",
     "iopub.status.busy": "2021-11-03T01:30:09.805554Z",
     "iopub.status.idle": "2021-11-03T01:30:09.828261Z",
     "shell.execute_reply": "2021-11-03T01:30:09.829736Z"
    },
    "papermill": {
     "duration": 0.073328,
     "end_time": "2021-11-03T01:30:09.830214",
     "exception": false,
     "start_time": "2021-11-03T01:30:09.756886",
     "status": "completed"
    },
    "tags": []
   },
   "outputs": [
    {
     "data": {
      "text/html": [
       "<div>\n",
       "<style scoped>\n",
       "    .dataframe tbody tr th:only-of-type {\n",
       "        vertical-align: middle;\n",
       "    }\n",
       "\n",
       "    .dataframe tbody tr th {\n",
       "        vertical-align: top;\n",
       "    }\n",
       "\n",
       "    .dataframe thead th {\n",
       "        text-align: right;\n",
       "    }\n",
       "</style>\n",
       "<table border=\"1\" class=\"dataframe\">\n",
       "  <thead>\n",
       "    <tr style=\"text-align: right;\">\n",
       "      <th></th>\n",
       "      <th>RECORD_TIME</th>\n",
       "    </tr>\n",
       "  </thead>\n",
       "  <tbody>\n",
       "    <tr>\n",
       "      <th>0</th>\n",
       "      <td>2021-11-03 02:30</td>\n",
       "    </tr>\n",
       "    <tr>\n",
       "      <th>1</th>\n",
       "      <td>2021-11-03 02:00</td>\n",
       "    </tr>\n",
       "  </tbody>\n",
       "</table>\n",
       "</div>"
      ],
      "text/plain": [
       "        RECORD_TIME\n",
       "0  2021-11-03 02:30\n",
       "1  2021-11-03 02:00"
      ]
     },
     "execution_count": 3,
     "metadata": {},
     "output_type": "execute_result"
    }
   ],
   "source": [
    "timestamps"
   ]
  },
  {
   "cell_type": "code",
   "execution_count": 4,
   "id": "alternate-victory",
   "metadata": {
    "execution": {
     "iopub.execute_input": "2021-11-03T01:30:09.884124Z",
     "iopub.status.busy": "2021-11-03T01:30:09.882052Z",
     "iopub.status.idle": "2021-11-03T01:30:10.886714Z",
     "shell.execute_reply": "2021-11-03T01:30:10.888387Z"
    },
    "papermill": {
     "duration": 1.037884,
     "end_time": "2021-11-03T01:30:10.888935",
     "exception": false,
     "start_time": "2021-11-03T01:30:09.851051",
     "status": "completed"
    },
    "tags": []
   },
   "outputs": [],
   "source": [
    "df = pd.read_sql(\"select * from EBAY_TOP_BERLIN where record_time in (select distinct record_time from EBAY_TOP_BERLIN order by record_time desc limit 2)\", sqlite3.connect(\"UsedObjects.db\"))"
   ]
  },
  {
   "cell_type": "code",
   "execution_count": 5,
   "id": "popular-active",
   "metadata": {
    "execution": {
     "iopub.execute_input": "2021-11-03T01:30:10.957277Z",
     "iopub.status.busy": "2021-11-03T01:30:10.954850Z",
     "iopub.status.idle": "2021-11-03T01:30:10.986785Z",
     "shell.execute_reply": "2021-11-03T01:30:10.988224Z"
    },
    "papermill": {
     "duration": 0.077334,
     "end_time": "2021-11-03T01:30:10.988744",
     "exception": false,
     "start_time": "2021-11-03T01:30:10.911410",
     "status": "completed"
    },
    "tags": []
   },
   "outputs": [],
   "source": [
    "df_pivot = df.pivot_table(index=\"PRODUCT\", columns = \"RECORD_TIME\", values = \"LISTING_COUNT\")"
   ]
  },
  {
   "cell_type": "code",
   "execution_count": 6,
   "id": "union-huntington",
   "metadata": {
    "execution": {
     "iopub.execute_input": "2021-11-03T01:30:11.053063Z",
     "iopub.status.busy": "2021-11-03T01:30:11.050690Z",
     "iopub.status.idle": "2021-11-03T01:30:11.056425Z",
     "shell.execute_reply": "2021-11-03T01:30:11.058109Z"
    },
    "papermill": {
     "duration": 0.048175,
     "end_time": "2021-11-03T01:30:11.058613",
     "exception": false,
     "start_time": "2021-11-03T01:30:11.010438",
     "status": "completed"
    },
    "tags": []
   },
   "outputs": [],
   "source": [
    "df_pivot.columns = [\"stamp_1\", \"stamp_2\"]\n",
    "df_pivot_diff = df_pivot.diff(axis=1)"
   ]
  },
  {
   "cell_type": "code",
   "execution_count": 7,
   "id": "fifth-motion",
   "metadata": {
    "execution": {
     "iopub.execute_input": "2021-11-03T01:30:11.118698Z",
     "iopub.status.busy": "2021-11-03T01:30:11.115623Z",
     "iopub.status.idle": "2021-11-03T01:30:12.933901Z",
     "shell.execute_reply": "2021-11-03T01:30:12.936910Z"
    },
    "papermill": {
     "duration": 1.856938,
     "end_time": "2021-11-03T01:30:12.937677",
     "exception": false,
     "start_time": "2021-11-03T01:30:11.080739",
     "status": "completed"
    },
    "tags": []
   },
   "outputs": [
    {
     "data": {
      "text/plain": [
       "<AxesSubplot:ylabel='PRODUCT'>"
      ]
     },
     "execution_count": 7,
     "metadata": {},
     "output_type": "execute_result"
    },
    {
     "data": {
      "image/png": "[encoded data removed]",
      "text/plain": [
       "<Figure size 432x288 with 1 Axes>"
      ]
     },
     "metadata": {
      "needs_background": "light"
     },
     "output_type": "display_data"
    }
   ],
   "source": [
    "df_pivot_diff.sort_values(\"stamp_2\", ascending = False)[\"stamp_2\"].head(10).plot.barh()"
   ]
  },
  {
   "cell_type": "code",
   "execution_count": null,
   "id": "extra-executive",
   "metadata": {
    "papermill": {
     "duration": 0.036581,
     "end_time": "2021-11-03T01:30:13.009160",
     "exception": false,
     "start_time": "2021-11-03T01:30:12.972579",
     "status": "completed"
    },
    "tags": []
   },
   "outputs": [],
   "source": []
  }
 ],
 "metadata": {
  "kernelspec": {
   "display_name": "Python 3",
   "language": "python",
   "name": "python3"
  },
  "language_info": {
   "codemirror_mode": {
    "name": "ipython",
    "version": 3
   },
   "file_extension": ".py",
   "mimetype": "text/x-python",
   "name": "python",
   "nbconvert_exporter": "python",
   "pygments_lexer": "ipython3",
   "version": "3.9.5"
  },
  "papermill": {
   "default_parameters": {},
   "duration": 8.641401,
   "end_time": "2021-11-03T01:30:13.873825",
   "environment_variables": {},
   "exception": null,
   "input_path": "eBay_Overview.ipynb",
   "output_path": "eBay_Overview.ipynb",
   "parameters": {},
   "start_time": "2021-11-03T01:30:05.232424",
   "version": "2.3.3"
  }
 },
 "nbformat": 4,
 "nbformat_minor": 5
}