{
 "cells": [
  {
   "cell_type": "code",
   "execution_count": 1,
   "id": "reverse-picking",
   "metadata": {
    "execution": {
     "iopub.execute_input": "2021-11-11T16:30:07.405469Z",
     "iopub.status.busy": "2021-11-11T16:30:07.403336Z",
     "iopub.status.idle": "2021-11-11T16:30:08.351468Z",
     "shell.execute_reply": "2021-11-11T16:30:08.349457Z"
    },
    "papermill": {
     "duration": 0.994162,
     "end_time": "2021-11-11T16:30:08.351965",
     "exception": false,
     "start_time": "2021-11-11T16:30:07.357803",
     "status": "completed"
    },
    "tags": []
   },
   "outputs": [],
   "source": [
    "import pandas as pd\n",
    "import sqlite3"
   ]
  },
  {
   "cell_type": "code",
   "execution_count": 2,
   "id": "innovative-syndrome",
   "metadata": {
    "execution": {
     "iopub.execute_input": "2021-11-11T16:30:08.412956Z",
     "iopub.status.busy": "2021-11-11T16:30:08.410556Z",
     "iopub.status.idle": "2021-11-11T16:30:09.202398Z",
     "shell.execute_reply": "2021-11-11T16:30:09.203749Z"
    },
    "papermill": {
     "duration": 0.830526,
     "end_time": "2021-11-11T16:30:09.204238",
     "exception": false,
     "start_time": "2021-11-11T16:30:08.373712",
     "status": "completed"
    },
    "tags": []
   },
   "outputs": [],
   "source": [
    "timestamps = pd.read_sql(\"select distinct record_time from EBAY_TOP_BERLIN order by record_time desc limit 2\", sqlite3.connect(\"UsedObjects.db\"))"
   ]
  },
  {
   "cell_type": "code",
   "execution_count": 3,
   "id": "periodic-identification",
   "metadata": {
    "execution": {
     "iopub.execute_input": "2021-11-11T16:30:09.279870Z",
     "iopub.status.busy": "2021-11-11T16:30:09.274377Z",
     "iopub.status.idle": "2021-11-11T16:30:09.296073Z",
     "shell.execute_reply": "2021-11-11T16:30:09.297594Z"
    },
    "papermill": {
     "duration": 0.073705,
     "end_time": "2021-11-11T16:30:09.298176",
     "exception": false,
     "start_time": "2021-11-11T16:30:09.224471",
     "status": "completed"
    },
    "tags": []
   },
   "outputs": [
    {
     "data": {
      "text/html": [
       "<div>\n",
       "<style scoped>\n",
       "    .dataframe tbody tr th:only-of-type {\n",
       "        vertical-align: middle;\n",
       "    }\n",
       "\n",
       "    .dataframe tbody tr th {\n",
       "        vertical-align: top;\n",
       "    }\n",
       "\n",
       "    .dataframe thead th {\n",
       "        text-align: right;\n",
       "    }\n",
       "</style>\n",
       "<table border=\"1\" class=\"dataframe\">\n",
       "  <thead>\n",
       "    <tr style=\"text-align: right;\">\n",
       "      <th></th>\n",
       "      <th>RECORD_TIME</th>\n",
       "    </tr>\n",
       "  </thead>\n",
       "  <tbody>\n",
       "    <tr>\n",
       "      <th>0</th>\n",
       "      <td>2021-11-11 17:30</td>\n",
       "    </tr>\n",
       "    <tr>\n",
       "      <th>1</th>\n",
       "      <td>2021-11-11 17:00</td>\n",
       "    </tr>\n",
       "  </tbody>\n",
       "</table>\n",
       "</div>"
      ],
      "text/plain": [
       "        RECORD_TIME\n",
       "0  2021-11-11 17:30\n",
       "1  2021-11-11 17:00"
      ]
     },
     "execution_count": 3,
     "metadata": {},
     "output_type": "execute_result"
    }
   ],
   "source": [
    "timestamps"
   ]
  },
  {
   "cell_type": "code",
   "execution_count": 4,
   "id": "alternate-victory",
   "metadata": {
    "execution": {
     "iopub.execute_input": "2021-11-11T16:30:09.352129Z",
     "iopub.status.busy": "2021-11-11T16:30:09.350067Z",
     "iopub.status.idle": "2021-11-11T16:30:10.511418Z",
     "shell.execute_reply": "2021-11-11T16:30:10.513223Z"
    },
    "papermill": {
     "duration": 1.194243,
     "end_time": "2021-11-11T16:30:10.513748",
     "exception": false,
     "start_time": "2021-11-11T16:30:09.319505",
     "status": "completed"
    },
    "tags": []
   },
   "outputs": [],
   "source": [
    "df = pd.read_sql(\"select * from EBAY_TOP_BERLIN where record_time in (select distinct record_time from EBAY_TOP_BERLIN order by record_time desc limit 2)\", sqlite3.connect(\"UsedObjects.db\"))"
   ]
  },
  {
   "cell_type": "code",
   "execution_count": 5,
   "id": "popular-active",
   "metadata": {
    "execution": {
     "iopub.execute_input": "2021-11-11T16:30:10.588135Z",
     "iopub.status.busy": "2021-11-11T16:30:10.578151Z",
     "iopub.status.idle": "2021-11-11T16:30:10.613738Z",
     "shell.execute_reply": "2021-11-11T16:30:10.615350Z"
    },
    "papermill": {
     "duration": 0.078863,
     "end_time": "2021-11-11T16:30:10.615842",
     "exception": false,
     "start_time": "2021-11-11T16:30:10.536979",
     "status": "completed"
    },
    "tags": []
   },
   "outputs": [],
   "source": [
    "df_pivot = df.pivot_table(index=\"PRODUCT\", columns = \"RECORD_TIME\", values = \"LISTING_COUNT\")"
   ]
  },
  {
   "cell_type": "code",
   "execution_count": 6,
   "id": "union-huntington",
   "metadata": {
    "execution": {
     "iopub.execute_input": "2021-11-11T16:30:10.678158Z",
     "iopub.status.busy": "2021-11-11T16:30:10.675160Z",
     "iopub.status.idle": "2021-11-11T16:30:10.683214Z",
     "shell.execute_reply": "2021-11-11T16:30:10.684936Z"
    },
    "papermill": {
     "duration": 0.047453,
     "end_time": "2021-11-11T16:30:10.685413",
     "exception": false,
     "start_time": "2021-11-11T16:30:10.637960",
     "status": "completed"
    },
    "tags": []
   },
   "outputs": [],
   "source": [
    "df_pivot.columns = [\"stamp_1\", \"stamp_2\"]\n",
    "df_pivot_diff = df_pivot.diff(axis=1)"
   ]
  },
  {
   "cell_type": "code",
   "execution_count": 7,
   "id": "fifth-motion",
   "metadata": {
    "execution": {
     "iopub.execute_input": "2021-11-11T16:30:10.744072Z",
     "iopub.status.busy": "2021-11-11T16:30:10.741177Z",
     "iopub.status.idle": "2021-11-11T16:30:12.489134Z",
     "shell.execute_reply": "2021-11-11T16:30:12.490428Z"
    },
    "papermill": {
     "duration": 1.784481,
     "end_time": "2021-11-11T16:30:12.490879",
     "exception": false,
     "start_time": "2021-11-11T16:30:10.706398",
     "status": "completed"
    },
    "tags": []
   },
   "outputs": [
    {
     "data": {
      "text/plain": [
       "<AxesSubplot:ylabel='PRODUCT'>"
      ]
     },
     "execution_count": 7,
     "metadata": {},
     "output_type": "execute_result"
    },
    {
     "data": {
      "image/png": "[encoded data removed]",
      "text/plain": [
       "<Figure size 432x288 with 1 Axes>"
      ]
     },
     "metadata": {
      "needs_background": "light"
     },
     "output_type": "display_data"
    }
   ],
   "source": [
    "df_pivot_diff.sort_values(\"stamp_2\", ascending = False)[\"stamp_2\"].head(10).plot.barh()"
   ]
  },
  {
   "cell_type": "code",
   "execution_count": null,
   "id": "extra-executive",
   "metadata": {
    "papermill": {
     "duration": 0.023398,
     "end_time": "2021-11-11T16:30:12.538364",
     "exception": false,
     "start_time": "2021-11-11T16:30:12.514966",
     "status": "completed"
    },
    "tags": []
   },
   "outputs": [],
   "source": []
  }
 ],
 "metadata": {
  "kernelspec": {
   "display_name": "Python 3",
   "language": "python",
   "name": "python3"
  },
  "language_info": {
   "codemirror_mode": {
    "name": "ipython",
    "version": 3
   },
   "file_extension": ".py",
   "mimetype": "text/x-python",
   "name": "python",
   "nbconvert_exporter": "python",
   "pygments_lexer": "ipython3",
   "version": "3.9.5"
  },
  "papermill": {
   "default_parameters": {},
   "duration": 8.816448,
   "end_time": "2021-11-11T16:30:13.386758",
   "environment_variables": {},
   "exception": null,
   "input_path": "eBay_Overview.ipynb",
   "output_path": "eBay_Overview.ipynb",
   "parameters": {},
   "start_time": "2021-11-11T16:30:04.570310",
   "version": "2.3.3"
  }
 },
 "nbformat": 4,
 "nbformat_minor": 5
}