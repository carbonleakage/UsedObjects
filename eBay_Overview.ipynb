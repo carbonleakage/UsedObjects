{
 "cells": [
  {
   "cell_type": "code",
   "execution_count": 1,
   "id": "reverse-picking",
   "metadata": {
    "execution": {
     "iopub.execute_input": "2021-09-11T11:30:07.520996Z",
     "iopub.status.busy": "2021-09-11T11:30:07.519018Z",
     "iopub.status.idle": "2021-09-11T11:30:08.329749Z",
     "shell.execute_reply": "2021-09-11T11:30:08.331199Z"
    },
    "papermill": {
     "duration": 0.863406,
     "end_time": "2021-09-11T11:30:08.331850",
     "exception": false,
     "start_time": "2021-09-11T11:30:07.468444",
     "status": "completed"
    },
    "tags": []
   },
   "outputs": [],
   "source": [
    "import pandas as pd\n",
    "import sqlite3"
   ]
  },
  {
   "cell_type": "code",
   "execution_count": 2,
   "id": "innovative-syndrome",
   "metadata": {
    "execution": {
     "iopub.execute_input": "2021-09-11T11:30:08.384771Z",
     "iopub.status.busy": "2021-09-11T11:30:08.382330Z",
     "iopub.status.idle": "2021-09-11T11:30:08.640325Z",
     "shell.execute_reply": "2021-09-11T11:30:08.641520Z"
    },
    "papermill": {
     "duration": 0.287758,
     "end_time": "2021-09-11T11:30:08.641916",
     "exception": false,
     "start_time": "2021-09-11T11:30:08.354158",
     "status": "completed"
    },
    "tags": []
   },
   "outputs": [],
   "source": [
    "timestamps = pd.read_sql(\"select distinct record_time from EBAY_TOP_BERLIN order by record_time desc limit 2\", sqlite3.connect(\"UsedObjects.db\"))"
   ]
  },
  {
   "cell_type": "code",
   "execution_count": 3,
   "id": "periodic-identification",
   "metadata": {
    "execution": {
     "iopub.execute_input": "2021-09-11T11:30:08.714046Z",
     "iopub.status.busy": "2021-09-11T11:30:08.708837Z",
     "iopub.status.idle": "2021-09-11T11:30:08.730767Z",
     "shell.execute_reply": "2021-09-11T11:30:08.729374Z"
    },
    "papermill": {
     "duration": 0.066832,
     "end_time": "2021-09-11T11:30:08.731179",
     "exception": false,
     "start_time": "2021-09-11T11:30:08.664347",
     "status": "completed"
    },
    "tags": []
   },
   "outputs": [
    {
     "data": {
      "text/html": [
       "<div>\n",
       "<style scoped>\n",
       "    .dataframe tbody tr th:only-of-type {\n",
       "        vertical-align: middle;\n",
       "    }\n",
       "\n",
       "    .dataframe tbody tr th {\n",
       "        vertical-align: top;\n",
       "    }\n",
       "\n",
       "    .dataframe thead th {\n",
       "        text-align: right;\n",
       "    }\n",
       "</style>\n",
       "<table border=\"1\" class=\"dataframe\">\n",
       "  <thead>\n",
       "    <tr style=\"text-align: right;\">\n",
       "      <th></th>\n",
       "      <th>RECORD_TIME</th>\n",
       "    </tr>\n",
       "  </thead>\n",
       "  <tbody>\n",
       "    <tr>\n",
       "      <th>0</th>\n",
       "      <td>2021-09-11 13:30</td>\n",
       "    </tr>\n",
       "    <tr>\n",
       "      <th>1</th>\n",
       "      <td>2021-09-11 13:00</td>\n",
       "    </tr>\n",
       "  </tbody>\n",
       "</table>\n",
       "</div>"
      ],
      "text/plain": [
       "        RECORD_TIME\n",
       "0  2021-09-11 13:30\n",
       "1  2021-09-11 13:00"
      ]
     },
     "execution_count": 3,
     "metadata": {},
     "output_type": "execute_result"
    }
   ],
   "source": [
    "timestamps"
   ]
  },
  {
   "cell_type": "code",
   "execution_count": 4,
   "id": "alternate-victory",
   "metadata": {
    "execution": {
     "iopub.execute_input": "2021-09-11T11:30:08.784102Z",
     "iopub.status.busy": "2021-09-11T11:30:08.782146Z",
     "iopub.status.idle": "2021-09-11T11:30:09.167890Z",
     "shell.execute_reply": "2021-09-11T11:30:09.169188Z"
    },
    "papermill": {
     "duration": 0.417204,
     "end_time": "2021-09-11T11:30:09.169649",
     "exception": false,
     "start_time": "2021-09-11T11:30:08.752445",
     "status": "completed"
    },
    "tags": []
   },
   "outputs": [],
   "source": [
    "df = pd.read_sql(\"select * from EBAY_TOP_BERLIN where record_time in (select distinct record_time from EBAY_TOP_BERLIN order by record_time desc limit 2)\", sqlite3.connect(\"UsedObjects.db\"))"
   ]
  },
  {
   "cell_type": "code",
   "execution_count": 5,
   "id": "popular-active",
   "metadata": {
    "execution": {
     "iopub.execute_input": "2021-09-11T11:30:09.245557Z",
     "iopub.status.busy": "2021-09-11T11:30:09.238788Z",
     "iopub.status.idle": "2021-09-11T11:30:09.267022Z",
     "shell.execute_reply": "2021-09-11T11:30:09.268264Z"
    },
    "papermill": {
     "duration": 0.072744,
     "end_time": "2021-09-11T11:30:09.268665",
     "exception": false,
     "start_time": "2021-09-11T11:30:09.195921",
     "status": "completed"
    },
    "tags": []
   },
   "outputs": [],
   "source": [
    "df_pivot = df.pivot_table(index=\"PRODUCT\", columns = \"RECORD_TIME\", values = \"LISTING_COUNT\")"
   ]
  },
  {
   "cell_type": "code",
   "execution_count": 6,
   "id": "union-huntington",
   "metadata": {
    "execution": {
     "iopub.execute_input": "2021-09-11T11:30:09.324249Z",
     "iopub.status.busy": "2021-09-11T11:30:09.322120Z",
     "iopub.status.idle": "2021-09-11T11:30:09.327503Z",
     "shell.execute_reply": "2021-09-11T11:30:09.328801Z"
    },
    "papermill": {
     "duration": 0.040632,
     "end_time": "2021-09-11T11:30:09.329225",
     "exception": false,
     "start_time": "2021-09-11T11:30:09.288593",
     "status": "completed"
    },
    "tags": []
   },
   "outputs": [],
   "source": [
    "df_pivot.columns = [\"stamp_1\", \"stamp_2\"]\n",
    "df_pivot_diff = df_pivot.diff(axis=1)"
   ]
  },
  {
   "cell_type": "code",
   "execution_count": 7,
   "id": "fifth-motion",
   "metadata": {
    "execution": {
     "iopub.execute_input": "2021-09-11T11:30:09.383433Z",
     "iopub.status.busy": "2021-09-11T11:30:09.380954Z",
     "iopub.status.idle": "2021-09-11T11:30:10.880405Z",
     "shell.execute_reply": "2021-09-11T11:30:10.881583Z"
    },
    "papermill": {
     "duration": 1.532427,
     "end_time": "2021-09-11T11:30:10.882019",
     "exception": false,
     "start_time": "2021-09-11T11:30:09.349592",
     "status": "completed"
    },
    "tags": []
   },
   "outputs": [
    {
     "data": {
      "text/plain": [
       "<AxesSubplot:ylabel='PRODUCT'>"
      ]
     },
     "execution_count": 7,
     "metadata": {},
     "output_type": "execute_result"
    },
    {
     "data": {
      "image/png": "[encoded data removed]",
      "text/plain": [
       "<Figure size 432x288 with 1 Axes>"
      ]
     },
     "metadata": {
      "needs_background": "light"
     },
     "output_type": "display_data"
    }
   ],
   "source": [
    "df_pivot_diff.sort_values(\"stamp_2\", ascending = False)[\"stamp_2\"].head(10).plot.barh()"
   ]
  },
  {
   "cell_type": "code",
   "execution_count": null,
   "id": "extra-executive",
   "metadata": {
    "papermill": {
     "duration": 0.022373,
     "end_time": "2021-09-11T11:30:10.928370",
     "exception": false,
     "start_time": "2021-09-11T11:30:10.905997",
     "status": "completed"
    },
    "tags": []
   },
   "outputs": [],
   "source": []
  }
 ],
 "metadata": {
  "kernelspec": {
   "display_name": "Python 3",
   "language": "python",
   "name": "python3"
  },
  "language_info": {
   "codemirror_mode": {
    "name": "ipython",
    "version": 3
   },
   "file_extension": ".py",
   "mimetype": "text/x-python",
   "name": "python",
   "nbconvert_exporter": "python",
   "pygments_lexer": "ipython3",
   "version": "3.9.5"
  },
  "papermill": {
   "default_parameters": {},
   "duration": 6.520881,
   "end_time": "2021-09-11T11:30:11.569828",
   "environment_variables": {},
   "exception": null,
   "input_path": "eBay_Overview.ipynb",
   "output_path": "eBay_Overview.ipynb",
   "parameters": {},
   "start_time": "2021-09-11T11:30:05.048947",
   "version": "2.3.3"
  }
 },
 "nbformat": 4,
 "nbformat_minor": 5
}