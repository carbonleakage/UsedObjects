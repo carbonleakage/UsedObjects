{
 "cells": [
  {
   "cell_type": "code",
   "execution_count": 1,
   "id": "reverse-picking",
   "metadata": {
    "execution": {
     "iopub.execute_input": "2021-10-25T06:00:07.202991Z",
     "iopub.status.busy": "2021-10-25T06:00:07.201060Z",
     "iopub.status.idle": "2021-10-25T06:00:08.011050Z",
     "shell.execute_reply": "2021-10-25T06:00:08.012217Z"
    },
    "papermill": {
     "duration": 0.862655,
     "end_time": "2021-10-25T06:00:08.013027",
     "exception": false,
     "start_time": "2021-10-25T06:00:07.150372",
     "status": "completed"
    },
    "tags": []
   },
   "outputs": [],
   "source": [
    "import pandas as pd\n",
    "import sqlite3"
   ]
  },
  {
   "cell_type": "code",
   "execution_count": 2,
   "id": "innovative-syndrome",
   "metadata": {
    "execution": {
     "iopub.execute_input": "2021-10-25T06:00:08.066731Z",
     "iopub.status.busy": "2021-10-25T06:00:08.064322Z",
     "iopub.status.idle": "2021-10-25T06:00:08.694367Z",
     "shell.execute_reply": "2021-10-25T06:00:08.695583Z"
    },
    "papermill": {
     "duration": 0.660327,
     "end_time": "2021-10-25T06:00:08.695986",
     "exception": false,
     "start_time": "2021-10-25T06:00:08.035659",
     "status": "completed"
    },
    "tags": []
   },
   "outputs": [],
   "source": [
    "timestamps = pd.read_sql(\"select distinct record_time from EBAY_TOP_BERLIN order by record_time desc limit 2\", sqlite3.connect(\"UsedObjects.db\"))"
   ]
  },
  {
   "cell_type": "code",
   "execution_count": 3,
   "id": "periodic-identification",
   "metadata": {
    "execution": {
     "iopub.execute_input": "2021-10-25T06:00:08.768969Z",
     "iopub.status.busy": "2021-10-25T06:00:08.766878Z",
     "iopub.status.idle": "2021-10-25T06:00:08.786709Z",
     "shell.execute_reply": "2021-10-25T06:00:08.787928Z"
    },
    "papermill": {
     "duration": 0.067089,
     "end_time": "2021-10-25T06:00:08.788325",
     "exception": false,
     "start_time": "2021-10-25T06:00:08.721236",
     "status": "completed"
    },
    "tags": []
   },
   "outputs": [
    {
     "data": {
      "text/html": [
       "<div>\n",
       "<style scoped>\n",
       "    .dataframe tbody tr th:only-of-type {\n",
       "        vertical-align: middle;\n",
       "    }\n",
       "\n",
       "    .dataframe tbody tr th {\n",
       "        vertical-align: top;\n",
       "    }\n",
       "\n",
       "    .dataframe thead th {\n",
       "        text-align: right;\n",
       "    }\n",
       "</style>\n",
       "<table border=\"1\" class=\"dataframe\">\n",
       "  <thead>\n",
       "    <tr style=\"text-align: right;\">\n",
       "      <th></th>\n",
       "      <th>RECORD_TIME</th>\n",
       "    </tr>\n",
       "  </thead>\n",
       "  <tbody>\n",
       "    <tr>\n",
       "      <th>0</th>\n",
       "      <td>2021-10-25 08:00</td>\n",
       "    </tr>\n",
       "    <tr>\n",
       "      <th>1</th>\n",
       "      <td>2021-10-25 07:30</td>\n",
       "    </tr>\n",
       "  </tbody>\n",
       "</table>\n",
       "</div>"
      ],
      "text/plain": [
       "        RECORD_TIME\n",
       "0  2021-10-25 08:00\n",
       "1  2021-10-25 07:30"
      ]
     },
     "execution_count": 3,
     "metadata": {},
     "output_type": "execute_result"
    }
   ],
   "source": [
    "timestamps"
   ]
  },
  {
   "cell_type": "code",
   "execution_count": 4,
   "id": "alternate-victory",
   "metadata": {
    "execution": {
     "iopub.execute_input": "2021-10-25T06:00:08.841023Z",
     "iopub.status.busy": "2021-10-25T06:00:08.838672Z",
     "iopub.status.idle": "2021-10-25T06:00:09.775391Z",
     "shell.execute_reply": "2021-10-25T06:00:09.776589Z"
    },
    "papermill": {
     "duration": 0.967481,
     "end_time": "2021-10-25T06:00:09.777077",
     "exception": false,
     "start_time": "2021-10-25T06:00:08.809596",
     "status": "completed"
    },
    "tags": []
   },
   "outputs": [],
   "source": [
    "df = pd.read_sql(\"select * from EBAY_TOP_BERLIN where record_time in (select distinct record_time from EBAY_TOP_BERLIN order by record_time desc limit 2)\", sqlite3.connect(\"UsedObjects.db\"))"
   ]
  },
  {
   "cell_type": "code",
   "execution_count": 5,
   "id": "popular-active",
   "metadata": {
    "execution": {
     "iopub.execute_input": "2021-10-25T06:00:09.841667Z",
     "iopub.status.busy": "2021-10-25T06:00:09.834303Z",
     "iopub.status.idle": "2021-10-25T06:00:09.863452Z",
     "shell.execute_reply": "2021-10-25T06:00:09.864657Z"
    },
    "papermill": {
     "duration": 0.067376,
     "end_time": "2021-10-25T06:00:09.865295",
     "exception": false,
     "start_time": "2021-10-25T06:00:09.797919",
     "status": "completed"
    },
    "tags": []
   },
   "outputs": [],
   "source": [
    "df_pivot = df.pivot_table(index=\"PRODUCT\", columns = \"RECORD_TIME\", values = \"LISTING_COUNT\")"
   ]
  },
  {
   "cell_type": "code",
   "execution_count": 6,
   "id": "union-huntington",
   "metadata": {
    "execution": {
     "iopub.execute_input": "2021-10-25T06:00:09.922687Z",
     "iopub.status.busy": "2021-10-25T06:00:09.920163Z",
     "iopub.status.idle": "2021-10-25T06:00:09.926407Z",
     "shell.execute_reply": "2021-10-25T06:00:09.927767Z"
    },
    "papermill": {
     "duration": 0.042894,
     "end_time": "2021-10-25T06:00:09.928271",
     "exception": false,
     "start_time": "2021-10-25T06:00:09.885377",
     "status": "completed"
    },
    "tags": []
   },
   "outputs": [],
   "source": [
    "df_pivot.columns = [\"stamp_1\", \"stamp_2\"]\n",
    "df_pivot_diff = df_pivot.diff(axis=1)"
   ]
  },
  {
   "cell_type": "code",
   "execution_count": 7,
   "id": "fifth-motion",
   "metadata": {
    "execution": {
     "iopub.execute_input": "2021-10-25T06:00:09.983822Z",
     "iopub.status.busy": "2021-10-25T06:00:09.981418Z",
     "iopub.status.idle": "2021-10-25T06:00:11.487034Z",
     "shell.execute_reply": "2021-10-25T06:00:11.488334Z"
    },
    "papermill": {
     "duration": 1.538912,
     "end_time": "2021-10-25T06:00:11.488942",
     "exception": false,
     "start_time": "2021-10-25T06:00:09.950030",
     "status": "completed"
    },
    "tags": []
   },
   "outputs": [
    {
     "data": {
      "text/plain": [
       "<AxesSubplot:ylabel='PRODUCT'>"
      ]
     },
     "execution_count": 7,
     "metadata": {},
     "output_type": "execute_result"
    },
    {
     "data": {
      "image/png": "[encoded data removed]",
      "text/plain": [
       "<Figure size 432x288 with 1 Axes>"
      ]
     },
     "metadata": {
      "needs_background": "light"
     },
     "output_type": "display_data"
    }
   ],
   "source": [
    "df_pivot_diff.sort_values(\"stamp_2\", ascending = False)[\"stamp_2\"].head(10).plot.barh()"
   ]
  },
  {
   "cell_type": "code",
   "execution_count": null,
   "id": "extra-executive",
   "metadata": {
    "papermill": {
     "duration": 0.02234,
     "end_time": "2021-10-25T06:00:11.536611",
     "exception": false,
     "start_time": "2021-10-25T06:00:11.514271",
     "status": "completed"
    },
    "tags": []
   },
   "outputs": [],
   "source": []
  }
 ],
 "metadata": {
  "kernelspec": {
   "display_name": "Python 3",
   "language": "python",
   "name": "python3"
  },
  "language_info": {
   "codemirror_mode": {
    "name": "ipython",
    "version": 3
   },
   "file_extension": ".py",
   "mimetype": "text/x-python",
   "name": "python",
   "nbconvert_exporter": "python",
   "pygments_lexer": "ipython3",
   "version": "3.9.5"
  },
  "papermill": {
   "default_parameters": {},
   "duration": 7.441734,
   "end_time": "2021-10-25T06:00:12.177450",
   "environment_variables": {},
   "exception": null,
   "input_path": "eBay_Overview.ipynb",
   "output_path": "eBay_Overview.ipynb",
   "parameters": {},
   "start_time": "2021-10-25T06:00:04.735716",
   "version": "2.3.3"
  }
 },
 "nbformat": 4,
 "nbformat_minor": 5
}