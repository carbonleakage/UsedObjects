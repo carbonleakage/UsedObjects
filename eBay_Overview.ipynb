{
 "cells": [
  {
   "cell_type": "code",
   "execution_count": 1,
   "id": "reverse-picking",
   "metadata": {
    "execution": {
     "iopub.execute_input": "2021-11-27T11:00:07.965223Z",
     "iopub.status.busy": "2021-11-27T11:00:07.962626Z",
     "iopub.status.idle": "2021-11-27T11:00:08.922899Z",
     "shell.execute_reply": "2021-11-27T11:00:08.924451Z"
    },
    "papermill": {
     "duration": 1.011479,
     "end_time": "2021-11-27T11:00:08.925255",
     "exception": false,
     "start_time": "2021-11-27T11:00:07.913776",
     "status": "completed"
    },
    "tags": []
   },
   "outputs": [],
   "source": [
    "import pandas as pd\n",
    "import sqlite3"
   ]
  },
  {
   "cell_type": "code",
   "execution_count": 2,
   "id": "innovative-syndrome",
   "metadata": {
    "execution": {
     "iopub.execute_input": "2021-11-27T11:00:08.986635Z",
     "iopub.status.busy": "2021-11-27T11:00:08.984161Z",
     "iopub.status.idle": "2021-11-27T11:00:09.908670Z",
     "shell.execute_reply": "2021-11-27T11:00:09.910296Z"
    },
    "papermill": {
     "duration": 0.95872,
     "end_time": "2021-11-27T11:00:09.910790",
     "exception": false,
     "start_time": "2021-11-27T11:00:08.952070",
     "status": "completed"
    },
    "tags": []
   },
   "outputs": [],
   "source": [
    "timestamps = pd.read_sql(\"select distinct record_time from EBAY_TOP_BERLIN order by record_time desc limit 2\", sqlite3.connect(\"UsedObjects.db\"))"
   ]
  },
  {
   "cell_type": "code",
   "execution_count": 3,
   "id": "periodic-identification",
   "metadata": {
    "execution": {
     "iopub.execute_input": "2021-11-27T11:00:09.968560Z",
     "iopub.status.busy": "2021-11-27T11:00:09.966098Z",
     "iopub.status.idle": "2021-11-27T11:00:10.005357Z",
     "shell.execute_reply": "2021-11-27T11:00:10.006782Z"
    },
    "papermill": {
     "duration": 0.075292,
     "end_time": "2021-11-27T11:00:10.007261",
     "exception": false,
     "start_time": "2021-11-27T11:00:09.931969",
     "status": "completed"
    },
    "tags": []
   },
   "outputs": [
    {
     "data": {
      "text/html": [
       "<div>\n",
       "<style scoped>\n",
       "    .dataframe tbody tr th:only-of-type {\n",
       "        vertical-align: middle;\n",
       "    }\n",
       "\n",
       "    .dataframe tbody tr th {\n",
       "        vertical-align: top;\n",
       "    }\n",
       "\n",
       "    .dataframe thead th {\n",
       "        text-align: right;\n",
       "    }\n",
       "</style>\n",
       "<table border=\"1\" class=\"dataframe\">\n",
       "  <thead>\n",
       "    <tr style=\"text-align: right;\">\n",
       "      <th></th>\n",
       "      <th>RECORD_TIME</th>\n",
       "    </tr>\n",
       "  </thead>\n",
       "  <tbody>\n",
       "    <tr>\n",
       "      <th>0</th>\n",
       "      <td>2021-11-27 12:00</td>\n",
       "    </tr>\n",
       "    <tr>\n",
       "      <th>1</th>\n",
       "      <td>2021-11-27 11:30</td>\n",
       "    </tr>\n",
       "  </tbody>\n",
       "</table>\n",
       "</div>"
      ],
      "text/plain": [
       "        RECORD_TIME\n",
       "0  2021-11-27 12:00\n",
       "1  2021-11-27 11:30"
      ]
     },
     "execution_count": 3,
     "metadata": {},
     "output_type": "execute_result"
    }
   ],
   "source": [
    "timestamps"
   ]
  },
  {
   "cell_type": "code",
   "execution_count": 4,
   "id": "alternate-victory",
   "metadata": {
    "execution": {
     "iopub.execute_input": "2021-11-27T11:00:10.062260Z",
     "iopub.status.busy": "2021-11-27T11:00:10.060128Z",
     "iopub.status.idle": "2021-11-27T11:00:11.405044Z",
     "shell.execute_reply": "2021-11-27T11:00:11.406678Z"
    },
    "papermill": {
     "duration": 1.378543,
     "end_time": "2021-11-27T11:00:11.407183",
     "exception": false,
     "start_time": "2021-11-27T11:00:10.028640",
     "status": "completed"
    },
    "tags": []
   },
   "outputs": [],
   "source": [
    "df = pd.read_sql(\"select * from EBAY_TOP_BERLIN where record_time in (select distinct record_time from EBAY_TOP_BERLIN order by record_time desc limit 2)\", sqlite3.connect(\"UsedObjects.db\"))"
   ]
  },
  {
   "cell_type": "code",
   "execution_count": 5,
   "id": "popular-active",
   "metadata": {
    "execution": {
     "iopub.execute_input": "2021-11-27T11:00:11.486080Z",
     "iopub.status.busy": "2021-11-27T11:00:11.472861Z",
     "iopub.status.idle": "2021-11-27T11:00:11.507430Z",
     "shell.execute_reply": "2021-11-27T11:00:11.505838Z"
    },
    "papermill": {
     "duration": 0.078833,
     "end_time": "2021-11-27T11:00:11.507872",
     "exception": false,
     "start_time": "2021-11-27T11:00:11.429039",
     "status": "completed"
    },
    "tags": []
   },
   "outputs": [],
   "source": [
    "df_pivot = df.pivot_table(index=\"PRODUCT\", columns = \"RECORD_TIME\", values = \"LISTING_COUNT\")"
   ]
  },
  {
   "cell_type": "code",
   "execution_count": 6,
   "id": "union-huntington",
   "metadata": {
    "execution": {
     "iopub.execute_input": "2021-11-27T11:00:11.570792Z",
     "iopub.status.busy": "2021-11-27T11:00:11.568503Z",
     "iopub.status.idle": "2021-11-27T11:00:11.574239Z",
     "shell.execute_reply": "2021-11-27T11:00:11.575582Z"
    },
    "papermill": {
     "duration": 0.045815,
     "end_time": "2021-11-27T11:00:11.576055",
     "exception": false,
     "start_time": "2021-11-27T11:00:11.530240",
     "status": "completed"
    },
    "tags": []
   },
   "outputs": [],
   "source": [
    "df_pivot.columns = [\"stamp_1\", \"stamp_2\"]\n",
    "df_pivot_diff = df_pivot.diff(axis=1)"
   ]
  },
  {
   "cell_type": "code",
   "execution_count": 7,
   "id": "fifth-motion",
   "metadata": {
    "execution": {
     "iopub.execute_input": "2021-11-27T11:00:11.633853Z",
     "iopub.status.busy": "2021-11-27T11:00:11.629624Z",
     "iopub.status.idle": "2021-11-27T11:00:13.588818Z",
     "shell.execute_reply": "2021-11-27T11:00:13.591422Z"
    },
    "papermill": {
     "duration": 1.996124,
     "end_time": "2021-11-27T11:00:13.592222",
     "exception": false,
     "start_time": "2021-11-27T11:00:11.596098",
     "status": "completed"
    },
    "tags": []
   },
   "outputs": [
    {
     "data": {
      "text/plain": [
       "<AxesSubplot:ylabel='PRODUCT'>"
      ]
     },
     "execution_count": 7,
     "metadata": {},
     "output_type": "execute_result"
    },
    {
     "data": {
      "image/png": "[encoded data removed]",
      "text/plain": [
       "<Figure size 432x288 with 1 Axes>"
      ]
     },
     "metadata": {
      "needs_background": "light"
     },
     "output_type": "display_data"
    }
   ],
   "source": [
    "df_pivot_diff.sort_values(\"stamp_2\", ascending = False)[\"stamp_2\"].head(10).plot.barh()"
   ]
  },
  {
   "cell_type": "code",
   "execution_count": null,
   "id": "extra-executive",
   "metadata": {
    "papermill": {
     "duration": 0.038404,
     "end_time": "2021-11-27T11:00:13.665744",
     "exception": false,
     "start_time": "2021-11-27T11:00:13.627340",
     "status": "completed"
    },
    "tags": []
   },
   "outputs": [],
   "source": []
  }
 ],
 "metadata": {
  "kernelspec": {
   "display_name": "Python 3",
   "language": "python",
   "name": "python3"
  },
  "language_info": {
   "codemirror_mode": {
    "name": "ipython",
    "version": 3
   },
   "file_extension": ".py",
   "mimetype": "text/x-python",
   "name": "python",
   "nbconvert_exporter": "python",
   "pygments_lexer": "ipython3",
   "version": "3.9.5"
  },
  "papermill": {
   "default_parameters": {},
   "duration": 9.939346,
   "end_time": "2021-11-27T11:00:15.116162",
   "environment_variables": {},
   "exception": null,
   "input_path": "eBay_Overview.ipynb",
   "output_path": "eBay_Overview.ipynb",
   "parameters": {},
   "start_time": "2021-11-27T11:00:05.176816",
   "version": "2.3.3"
  }
 },
 "nbformat": 4,
 "nbformat_minor": 5
}