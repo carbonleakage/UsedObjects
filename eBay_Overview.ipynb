{
 "cells": [
  {
   "cell_type": "code",
   "execution_count": 1,
   "id": "reverse-picking",
   "metadata": {
    "execution": {
     "iopub.execute_input": "2021-10-10T12:00:06.736569Z",
     "iopub.status.busy": "2021-10-10T12:00:06.734506Z",
     "iopub.status.idle": "2021-10-10T12:00:07.544682Z",
     "shell.execute_reply": "2021-10-10T12:00:07.543103Z"
    },
    "papermill": {
     "duration": 0.861809,
     "end_time": "2021-10-10T12:00:07.545070",
     "exception": false,
     "start_time": "2021-10-10T12:00:06.683261",
     "status": "completed"
    },
    "tags": []
   },
   "outputs": [],
   "source": [
    "import pandas as pd\n",
    "import sqlite3"
   ]
  },
  {
   "cell_type": "code",
   "execution_count": 2,
   "id": "innovative-syndrome",
   "metadata": {
    "execution": {
     "iopub.execute_input": "2021-10-10T12:00:07.599265Z",
     "iopub.status.busy": "2021-10-10T12:00:07.596847Z",
     "iopub.status.idle": "2021-10-10T12:00:08.102983Z",
     "shell.execute_reply": "2021-10-10T12:00:08.104270Z"
    },
    "papermill": {
     "duration": 0.536348,
     "end_time": "2021-10-10T12:00:08.104684",
     "exception": false,
     "start_time": "2021-10-10T12:00:07.568336",
     "status": "completed"
    },
    "tags": []
   },
   "outputs": [],
   "source": [
    "timestamps = pd.read_sql(\"select distinct record_time from EBAY_TOP_BERLIN order by record_time desc limit 2\", sqlite3.connect(\"UsedObjects.db\"))"
   ]
  },
  {
   "cell_type": "code",
   "execution_count": 3,
   "id": "periodic-identification",
   "metadata": {
    "execution": {
     "iopub.execute_input": "2021-10-10T12:00:08.172720Z",
     "iopub.status.busy": "2021-10-10T12:00:08.167412Z",
     "iopub.status.idle": "2021-10-10T12:00:08.187074Z",
     "shell.execute_reply": "2021-10-10T12:00:08.188432Z"
    },
    "papermill": {
     "duration": 0.064447,
     "end_time": "2021-10-10T12:00:08.188841",
     "exception": false,
     "start_time": "2021-10-10T12:00:08.124394",
     "status": "completed"
    },
    "tags": []
   },
   "outputs": [
    {
     "data": {
      "text/html": [
       "<div>\n",
       "<style scoped>\n",
       "    .dataframe tbody tr th:only-of-type {\n",
       "        vertical-align: middle;\n",
       "    }\n",
       "\n",
       "    .dataframe tbody tr th {\n",
       "        vertical-align: top;\n",
       "    }\n",
       "\n",
       "    .dataframe thead th {\n",
       "        text-align: right;\n",
       "    }\n",
       "</style>\n",
       "<table border=\"1\" class=\"dataframe\">\n",
       "  <thead>\n",
       "    <tr style=\"text-align: right;\">\n",
       "      <th></th>\n",
       "      <th>RECORD_TIME</th>\n",
       "    </tr>\n",
       "  </thead>\n",
       "  <tbody>\n",
       "    <tr>\n",
       "      <th>0</th>\n",
       "      <td>2021-10-10 14:00</td>\n",
       "    </tr>\n",
       "    <tr>\n",
       "      <th>1</th>\n",
       "      <td>2021-10-10 13:30</td>\n",
       "    </tr>\n",
       "  </tbody>\n",
       "</table>\n",
       "</div>"
      ],
      "text/plain": [
       "        RECORD_TIME\n",
       "0  2021-10-10 14:00\n",
       "1  2021-10-10 13:30"
      ]
     },
     "execution_count": 3,
     "metadata": {},
     "output_type": "execute_result"
    }
   ],
   "source": [
    "timestamps"
   ]
  },
  {
   "cell_type": "code",
   "execution_count": 4,
   "id": "alternate-victory",
   "metadata": {
    "execution": {
     "iopub.execute_input": "2021-10-10T12:00:08.249404Z",
     "iopub.status.busy": "2021-10-10T12:00:08.247312Z",
     "iopub.status.idle": "2021-10-10T12:00:08.977895Z",
     "shell.execute_reply": "2021-10-10T12:00:08.979948Z"
    },
    "papermill": {
     "duration": 0.76533,
     "end_time": "2021-10-10T12:00:08.980397",
     "exception": false,
     "start_time": "2021-10-10T12:00:08.215067",
     "status": "completed"
    },
    "tags": []
   },
   "outputs": [],
   "source": [
    "df = pd.read_sql(\"select * from EBAY_TOP_BERLIN where record_time in (select distinct record_time from EBAY_TOP_BERLIN order by record_time desc limit 2)\", sqlite3.connect(\"UsedObjects.db\"))"
   ]
  },
  {
   "cell_type": "code",
   "execution_count": 5,
   "id": "popular-active",
   "metadata": {
    "execution": {
     "iopub.execute_input": "2021-10-10T12:00:09.051914Z",
     "iopub.status.busy": "2021-10-10T12:00:09.040123Z",
     "iopub.status.idle": "2021-10-10T12:00:09.067902Z",
     "shell.execute_reply": "2021-10-10T12:00:09.069119Z"
    },
    "papermill": {
     "duration": 0.068617,
     "end_time": "2021-10-10T12:00:09.069509",
     "exception": false,
     "start_time": "2021-10-10T12:00:09.000892",
     "status": "completed"
    },
    "tags": []
   },
   "outputs": [],
   "source": [
    "df_pivot = df.pivot_table(index=\"PRODUCT\", columns = \"RECORD_TIME\", values = \"LISTING_COUNT\")"
   ]
  },
  {
   "cell_type": "code",
   "execution_count": 6,
   "id": "union-huntington",
   "metadata": {
    "execution": {
     "iopub.execute_input": "2021-10-10T12:00:09.129362Z",
     "iopub.status.busy": "2021-10-10T12:00:09.126937Z",
     "iopub.status.idle": "2021-10-10T12:00:09.133158Z",
     "shell.execute_reply": "2021-10-10T12:00:09.134604Z"
    },
    "papermill": {
     "duration": 0.042791,
     "end_time": "2021-10-10T12:00:09.135141",
     "exception": false,
     "start_time": "2021-10-10T12:00:09.092350",
     "status": "completed"
    },
    "tags": []
   },
   "outputs": [],
   "source": [
    "df_pivot.columns = [\"stamp_1\", \"stamp_2\"]\n",
    "df_pivot_diff = df_pivot.diff(axis=1)"
   ]
  },
  {
   "cell_type": "code",
   "execution_count": 7,
   "id": "fifth-motion",
   "metadata": {
    "execution": {
     "iopub.execute_input": "2021-10-10T12:00:09.190517Z",
     "iopub.status.busy": "2021-10-10T12:00:09.188330Z",
     "iopub.status.idle": "2021-10-10T12:00:10.665955Z",
     "shell.execute_reply": "2021-10-10T12:00:10.667565Z"
    },
    "papermill": {
     "duration": 1.510636,
     "end_time": "2021-10-10T12:00:10.668026",
     "exception": false,
     "start_time": "2021-10-10T12:00:09.157390",
     "status": "completed"
    },
    "tags": []
   },
   "outputs": [
    {
     "data": {
      "text/plain": [
       "<AxesSubplot:ylabel='PRODUCT'>"
      ]
     },
     "execution_count": 7,
     "metadata": {},
     "output_type": "execute_result"
    },
    {
     "data": {
      "image/png": "[encoded data removed]",
      "text/plain": [
       "<Figure size 432x288 with 1 Axes>"
      ]
     },
     "metadata": {
      "needs_background": "light"
     },
     "output_type": "display_data"
    }
   ],
   "source": [
    "df_pivot_diff.sort_values(\"stamp_2\", ascending = False)[\"stamp_2\"].head(10).plot.barh()"
   ]
  },
  {
   "cell_type": "code",
   "execution_count": null,
   "id": "extra-executive",
   "metadata": {
    "papermill": {
     "duration": 0.022547,
     "end_time": "2021-10-10T12:00:10.715176",
     "exception": false,
     "start_time": "2021-10-10T12:00:10.692629",
     "status": "completed"
    },
    "tags": []
   },
   "outputs": [],
   "source": []
  }
 ],
 "metadata": {
  "kernelspec": {
   "display_name": "Python 3",
   "language": "python",
   "name": "python3"
  },
  "language_info": {
   "codemirror_mode": {
    "name": "ipython",
    "version": 3
   },
   "file_extension": ".py",
   "mimetype": "text/x-python",
   "name": "python",
   "nbconvert_exporter": "python",
   "pygments_lexer": "ipython3",
   "version": "3.9.5"
  },
  "papermill": {
   "default_parameters": {},
   "duration": 7.822152,
   "end_time": "2021-10-10T12:00:12.095991",
   "environment_variables": {},
   "exception": null,
   "input_path": "eBay_Overview.ipynb",
   "output_path": "eBay_Overview.ipynb",
   "parameters": {},
   "start_time": "2021-10-10T12:00:04.273839",
   "version": "2.3.3"
  }
 },
 "nbformat": 4,
 "nbformat_minor": 5
}