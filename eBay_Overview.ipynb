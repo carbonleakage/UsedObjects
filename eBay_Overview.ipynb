{
 "cells": [
  {
   "cell_type": "code",
   "execution_count": 1,
   "id": "reverse-picking",
   "metadata": {
    "execution": {
     "iopub.execute_input": "2021-12-09T11:00:07.405354Z",
     "iopub.status.busy": "2021-12-09T11:00:07.402854Z",
     "iopub.status.idle": "2021-12-09T11:00:08.373411Z",
     "shell.execute_reply": "2021-12-09T11:00:08.375360Z"
    },
    "papermill": {
     "duration": 1.019825,
     "end_time": "2021-12-09T11:00:08.376091",
     "exception": false,
     "start_time": "2021-12-09T11:00:07.356266",
     "status": "completed"
    },
    "tags": []
   },
   "outputs": [],
   "source": [
    "import pandas as pd\n",
    "import sqlite3"
   ]
  },
  {
   "cell_type": "code",
   "execution_count": 2,
   "id": "innovative-syndrome",
   "metadata": {
    "execution": {
     "iopub.execute_input": "2021-12-09T11:00:08.431713Z",
     "iopub.status.busy": "2021-12-09T11:00:08.429550Z",
     "iopub.status.idle": "2021-12-09T11:00:09.490852Z",
     "shell.execute_reply": "2021-12-09T11:00:09.492392Z"
    },
    "papermill": {
     "duration": 1.09555,
     "end_time": "2021-12-09T11:00:09.492948",
     "exception": false,
     "start_time": "2021-12-09T11:00:08.397398",
     "status": "completed"
    },
    "tags": []
   },
   "outputs": [],
   "source": [
    "timestamps = pd.read_sql(\"select distinct record_time from EBAY_TOP_BERLIN order by record_time desc limit 2\", sqlite3.connect(\"UsedObjects.db\"))"
   ]
  },
  {
   "cell_type": "code",
   "execution_count": 3,
   "id": "periodic-identification",
   "metadata": {
    "execution": {
     "iopub.execute_input": "2021-12-09T11:00:09.585972Z",
     "iopub.status.busy": "2021-12-09T11:00:09.580594Z",
     "iopub.status.idle": "2021-12-09T11:00:09.616023Z",
     "shell.execute_reply": "2021-12-09T11:00:09.617620Z"
    },
    "papermill": {
     "duration": 0.104104,
     "end_time": "2021-12-09T11:00:09.618128",
     "exception": false,
     "start_time": "2021-12-09T11:00:09.514024",
     "status": "completed"
    },
    "tags": []
   },
   "outputs": [
    {
     "data": {
      "text/html": [
       "<div>\n",
       "<style scoped>\n",
       "    .dataframe tbody tr th:only-of-type {\n",
       "        vertical-align: middle;\n",
       "    }\n",
       "\n",
       "    .dataframe tbody tr th {\n",
       "        vertical-align: top;\n",
       "    }\n",
       "\n",
       "    .dataframe thead th {\n",
       "        text-align: right;\n",
       "    }\n",
       "</style>\n",
       "<table border=\"1\" class=\"dataframe\">\n",
       "  <thead>\n",
       "    <tr style=\"text-align: right;\">\n",
       "      <th></th>\n",
       "      <th>RECORD_TIME</th>\n",
       "    </tr>\n",
       "  </thead>\n",
       "  <tbody>\n",
       "    <tr>\n",
       "      <th>0</th>\n",
       "      <td>2021-12-09 12:00</td>\n",
       "    </tr>\n",
       "    <tr>\n",
       "      <th>1</th>\n",
       "      <td>2021-12-09 11:30</td>\n",
       "    </tr>\n",
       "  </tbody>\n",
       "</table>\n",
       "</div>"
      ],
      "text/plain": [
       "        RECORD_TIME\n",
       "0  2021-12-09 12:00\n",
       "1  2021-12-09 11:30"
      ]
     },
     "execution_count": 3,
     "metadata": {},
     "output_type": "execute_result"
    }
   ],
   "source": [
    "timestamps"
   ]
  },
  {
   "cell_type": "code",
   "execution_count": 4,
   "id": "alternate-victory",
   "metadata": {
    "execution": {
     "iopub.execute_input": "2021-12-09T11:00:09.674900Z",
     "iopub.status.busy": "2021-12-09T11:00:09.672457Z",
     "iopub.status.idle": "2021-12-09T11:00:11.147627Z",
     "shell.execute_reply": "2021-12-09T11:00:11.151169Z"
    },
    "papermill": {
     "duration": 1.511769,
     "end_time": "2021-12-09T11:00:11.152177",
     "exception": false,
     "start_time": "2021-12-09T11:00:09.640408",
     "status": "completed"
    },
    "tags": []
   },
   "outputs": [],
   "source": [
    "df = pd.read_sql(\"select * from EBAY_TOP_BERLIN where record_time in (select distinct record_time from EBAY_TOP_BERLIN order by record_time desc limit 2)\", sqlite3.connect(\"UsedObjects.db\"))"
   ]
  },
  {
   "cell_type": "code",
   "execution_count": 5,
   "id": "popular-active",
   "metadata": {
    "execution": {
     "iopub.execute_input": "2021-12-09T11:00:11.280142Z",
     "iopub.status.busy": "2021-12-09T11:00:11.251406Z",
     "iopub.status.idle": "2021-12-09T11:00:11.317044Z",
     "shell.execute_reply": "2021-12-09T11:00:11.320247Z"
    },
    "papermill": {
     "duration": 0.134548,
     "end_time": "2021-12-09T11:00:11.321154",
     "exception": false,
     "start_time": "2021-12-09T11:00:11.186606",
     "status": "completed"
    },
    "tags": []
   },
   "outputs": [],
   "source": [
    "df_pivot = df.pivot_table(index=\"PRODUCT\", columns = \"RECORD_TIME\", values = \"LISTING_COUNT\")"
   ]
  },
  {
   "cell_type": "code",
   "execution_count": 6,
   "id": "union-huntington",
   "metadata": {
    "execution": {
     "iopub.execute_input": "2021-12-09T11:00:11.402842Z",
     "iopub.status.busy": "2021-12-09T11:00:11.399731Z",
     "iopub.status.idle": "2021-12-09T11:00:11.409126Z",
     "shell.execute_reply": "2021-12-09T11:00:11.411772Z"
    },
    "papermill": {
     "duration": 0.059744,
     "end_time": "2021-12-09T11:00:11.412639",
     "exception": false,
     "start_time": "2021-12-09T11:00:11.352895",
     "status": "completed"
    },
    "tags": []
   },
   "outputs": [],
   "source": [
    "df_pivot.columns = [\"stamp_1\", \"stamp_2\"]\n",
    "df_pivot_diff = df_pivot.diff(axis=1)"
   ]
  },
  {
   "cell_type": "code",
   "execution_count": 7,
   "id": "fifth-motion",
   "metadata": {
    "execution": {
     "iopub.execute_input": "2021-12-09T11:00:11.502056Z",
     "iopub.status.busy": "2021-12-09T11:00:11.498144Z",
     "iopub.status.idle": "2021-12-09T11:00:13.215812Z",
     "shell.execute_reply": "2021-12-09T11:00:13.217446Z"
    },
    "papermill": {
     "duration": 1.770503,
     "end_time": "2021-12-09T11:00:13.217909",
     "exception": false,
     "start_time": "2021-12-09T11:00:11.447406",
     "status": "completed"
    },
    "tags": []
   },
   "outputs": [
    {
     "data": {
      "text/plain": [
       "<AxesSubplot:ylabel='PRODUCT'>"
      ]
     },
     "execution_count": 7,
     "metadata": {},
     "output_type": "execute_result"
    },
    {
     "data": {
      "image/png": "[encoded data removed]",
      "text/plain": [
       "<Figure size 432x288 with 1 Axes>"
      ]
     },
     "metadata": {
      "needs_background": "light"
     },
     "output_type": "display_data"
    }
   ],
   "source": [
    "df_pivot_diff.sort_values(\"stamp_2\", ascending = False)[\"stamp_2\"].head(10).plot.barh()"
   ]
  },
  {
   "cell_type": "code",
   "execution_count": null,
   "id": "extra-executive",
   "metadata": {
    "papermill": {
     "duration": 0.021927,
     "end_time": "2021-12-09T11:00:13.265540",
     "exception": false,
     "start_time": "2021-12-09T11:00:13.243613",
     "status": "completed"
    },
    "tags": []
   },
   "outputs": [],
   "source": []
  }
 ],
 "metadata": {
  "kernelspec": {
   "display_name": "Python 3",
   "language": "python",
   "name": "python3"
  },
  "language_info": {
   "codemirror_mode": {
    "name": "ipython",
    "version": 3
   },
   "file_extension": ".py",
   "mimetype": "text/x-python",
   "name": "python",
   "nbconvert_exporter": "python",
   "pygments_lexer": "ipython3",
   "version": "3.9.5"
  },
  "papermill": {
   "default_parameters": {},
   "duration": 9.946089,
   "end_time": "2021-12-09T11:00:14.549928",
   "environment_variables": {},
   "exception": null,
   "input_path": "eBay_Overview.ipynb",
   "output_path": "eBay_Overview.ipynb",
   "parameters": {},
   "start_time": "2021-12-09T11:00:04.603839",
   "version": "2.3.3"
  }
 },
 "nbformat": 4,
 "nbformat_minor": 5
}