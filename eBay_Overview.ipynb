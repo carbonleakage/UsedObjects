{
 "cells": [
  {
   "cell_type": "code",
   "execution_count": 1,
   "id": "reverse-picking",
   "metadata": {
    "execution": {
     "iopub.execute_input": "2021-10-20T22:30:07.068582Z",
     "iopub.status.busy": "2021-10-20T22:30:07.066650Z",
     "iopub.status.idle": "2021-10-20T22:30:07.879794Z",
     "shell.execute_reply": "2021-10-20T22:30:07.878227Z"
    },
    "papermill": {
     "duration": 0.864707,
     "end_time": "2021-10-20T22:30:07.880180",
     "exception": false,
     "start_time": "2021-10-20T22:30:07.015473",
     "status": "completed"
    },
    "tags": []
   },
   "outputs": [],
   "source": [
    "import pandas as pd\n",
    "import sqlite3"
   ]
  },
  {
   "cell_type": "code",
   "execution_count": 2,
   "id": "innovative-syndrome",
   "metadata": {
    "execution": {
     "iopub.execute_input": "2021-10-20T22:30:07.930473Z",
     "iopub.status.busy": "2021-10-20T22:30:07.928330Z",
     "iopub.status.idle": "2021-10-20T22:30:08.520504Z",
     "shell.execute_reply": "2021-10-20T22:30:08.521890Z"
    },
    "papermill": {
     "duration": 0.622075,
     "end_time": "2021-10-20T22:30:08.522310",
     "exception": false,
     "start_time": "2021-10-20T22:30:07.900235",
     "status": "completed"
    },
    "tags": []
   },
   "outputs": [],
   "source": [
    "timestamps = pd.read_sql(\"select distinct record_time from EBAY_TOP_BERLIN order by record_time desc limit 2\", sqlite3.connect(\"UsedObjects.db\"))"
   ]
  },
  {
   "cell_type": "code",
   "execution_count": 3,
   "id": "periodic-identification",
   "metadata": {
    "execution": {
     "iopub.execute_input": "2021-10-20T22:30:08.605221Z",
     "iopub.status.busy": "2021-10-20T22:30:08.603117Z",
     "iopub.status.idle": "2021-10-20T22:30:08.622833Z",
     "shell.execute_reply": "2021-10-20T22:30:08.624095Z"
    },
    "papermill": {
     "duration": 0.073099,
     "end_time": "2021-10-20T22:30:08.624546",
     "exception": false,
     "start_time": "2021-10-20T22:30:08.551447",
     "status": "completed"
    },
    "tags": []
   },
   "outputs": [
    {
     "data": {
      "text/html": [
       "<div>\n",
       "<style scoped>\n",
       "    .dataframe tbody tr th:only-of-type {\n",
       "        vertical-align: middle;\n",
       "    }\n",
       "\n",
       "    .dataframe tbody tr th {\n",
       "        vertical-align: top;\n",
       "    }\n",
       "\n",
       "    .dataframe thead th {\n",
       "        text-align: right;\n",
       "    }\n",
       "</style>\n",
       "<table border=\"1\" class=\"dataframe\">\n",
       "  <thead>\n",
       "    <tr style=\"text-align: right;\">\n",
       "      <th></th>\n",
       "      <th>RECORD_TIME</th>\n",
       "    </tr>\n",
       "  </thead>\n",
       "  <tbody>\n",
       "    <tr>\n",
       "      <th>0</th>\n",
       "      <td>2021-10-21 00:30</td>\n",
       "    </tr>\n",
       "    <tr>\n",
       "      <th>1</th>\n",
       "      <td>2021-10-21 00:00</td>\n",
       "    </tr>\n",
       "  </tbody>\n",
       "</table>\n",
       "</div>"
      ],
      "text/plain": [
       "        RECORD_TIME\n",
       "0  2021-10-21 00:30\n",
       "1  2021-10-21 00:00"
      ]
     },
     "execution_count": 3,
     "metadata": {},
     "output_type": "execute_result"
    }
   ],
   "source": [
    "timestamps"
   ]
  },
  {
   "cell_type": "code",
   "execution_count": 4,
   "id": "alternate-victory",
   "metadata": {
    "execution": {
     "iopub.execute_input": "2021-10-20T22:30:08.676338Z",
     "iopub.status.busy": "2021-10-20T22:30:08.674438Z",
     "iopub.status.idle": "2021-10-20T22:30:09.530236Z",
     "shell.execute_reply": "2021-10-20T22:30:09.531450Z"
    },
    "papermill": {
     "duration": 0.886225,
     "end_time": "2021-10-20T22:30:09.531842",
     "exception": false,
     "start_time": "2021-10-20T22:30:08.645617",
     "status": "completed"
    },
    "tags": []
   },
   "outputs": [],
   "source": [
    "df = pd.read_sql(\"select * from EBAY_TOP_BERLIN where record_time in (select distinct record_time from EBAY_TOP_BERLIN order by record_time desc limit 2)\", sqlite3.connect(\"UsedObjects.db\"))"
   ]
  },
  {
   "cell_type": "code",
   "execution_count": 5,
   "id": "popular-active",
   "metadata": {
    "execution": {
     "iopub.execute_input": "2021-10-20T22:30:09.592754Z",
     "iopub.status.busy": "2021-10-20T22:30:09.590429Z",
     "iopub.status.idle": "2021-10-20T22:30:09.618034Z",
     "shell.execute_reply": "2021-10-20T22:30:09.619239Z"
    },
    "papermill": {
     "duration": 0.067359,
     "end_time": "2021-10-20T22:30:09.619632",
     "exception": false,
     "start_time": "2021-10-20T22:30:09.552273",
     "status": "completed"
    },
    "tags": []
   },
   "outputs": [],
   "source": [
    "df_pivot = df.pivot_table(index=\"PRODUCT\", columns = \"RECORD_TIME\", values = \"LISTING_COUNT\")"
   ]
  },
  {
   "cell_type": "code",
   "execution_count": 6,
   "id": "union-huntington",
   "metadata": {
    "execution": {
     "iopub.execute_input": "2021-10-20T22:30:09.676666Z",
     "iopub.status.busy": "2021-10-20T22:30:09.674630Z",
     "iopub.status.idle": "2021-10-20T22:30:09.679949Z",
     "shell.execute_reply": "2021-10-20T22:30:09.681263Z"
    },
    "papermill": {
     "duration": 0.040399,
     "end_time": "2021-10-20T22:30:09.681710",
     "exception": false,
     "start_time": "2021-10-20T22:30:09.641311",
     "status": "completed"
    },
    "tags": []
   },
   "outputs": [],
   "source": [
    "df_pivot.columns = [\"stamp_1\", \"stamp_2\"]\n",
    "df_pivot_diff = df_pivot.diff(axis=1)"
   ]
  },
  {
   "cell_type": "code",
   "execution_count": 7,
   "id": "fifth-motion",
   "metadata": {
    "execution": {
     "iopub.execute_input": "2021-10-20T22:30:09.736666Z",
     "iopub.status.busy": "2021-10-20T22:30:09.734023Z",
     "iopub.status.idle": "2021-10-20T22:30:11.209629Z",
     "shell.execute_reply": "2021-10-20T22:30:11.210826Z"
    },
    "papermill": {
     "duration": 1.509372,
     "end_time": "2021-10-20T22:30:11.211254",
     "exception": false,
     "start_time": "2021-10-20T22:30:09.701882",
     "status": "completed"
    },
    "tags": []
   },
   "outputs": [
    {
     "data": {
      "text/plain": [
       "<AxesSubplot:ylabel='PRODUCT'>"
      ]
     },
     "execution_count": 7,
     "metadata": {},
     "output_type": "execute_result"
    },
    {
     "data": {
      "image/png": "[encoded data removed]",
      "text/plain": [
       "<Figure size 432x288 with 1 Axes>"
      ]
     },
     "metadata": {
      "needs_background": "light"
     },
     "output_type": "display_data"
    }
   ],
   "source": [
    "df_pivot_diff.sort_values(\"stamp_2\", ascending = False)[\"stamp_2\"].head(10).plot.barh()"
   ]
  },
  {
   "cell_type": "code",
   "execution_count": null,
   "id": "extra-executive",
   "metadata": {
    "papermill": {
     "duration": 0.022102,
     "end_time": "2021-10-20T22:30:11.257019",
     "exception": false,
     "start_time": "2021-10-20T22:30:11.234917",
     "status": "completed"
    },
    "tags": []
   },
   "outputs": [],
   "source": []
  }
 ],
 "metadata": {
  "kernelspec": {
   "display_name": "Python 3",
   "language": "python",
   "name": "python3"
  },
  "language_info": {
   "codemirror_mode": {
    "name": "ipython",
    "version": 3
   },
   "file_extension": ".py",
   "mimetype": "text/x-python",
   "name": "python",
   "nbconvert_exporter": "python",
   "pygments_lexer": "ipython3",
   "version": "3.9.5"
  },
  "papermill": {
   "default_parameters": {},
   "duration": 7.824601,
   "end_time": "2021-10-20T22:30:12.415268",
   "environment_variables": {},
   "exception": null,
   "input_path": "eBay_Overview.ipynb",
   "output_path": "eBay_Overview.ipynb",
   "parameters": {},
   "start_time": "2021-10-20T22:30:04.590667",
   "version": "2.3.3"
  }
 },
 "nbformat": 4,
 "nbformat_minor": 5
}