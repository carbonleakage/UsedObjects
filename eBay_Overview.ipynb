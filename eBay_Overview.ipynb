{
 "cells": [
  {
   "cell_type": "code",
   "execution_count": 1,
   "id": "reverse-picking",
   "metadata": {
    "execution": {
     "iopub.execute_input": "2021-11-05T00:00:07.430103Z",
     "iopub.status.busy": "2021-11-05T00:00:07.427699Z",
     "iopub.status.idle": "2021-11-05T00:00:08.377680Z",
     "shell.execute_reply": "2021-11-05T00:00:08.375705Z"
    },
    "papermill": {
     "duration": 0.998173,
     "end_time": "2021-11-05T00:00:08.378184",
     "exception": false,
     "start_time": "2021-11-05T00:00:07.380011",
     "status": "completed"
    },
    "tags": []
   },
   "outputs": [],
   "source": [
    "import pandas as pd\n",
    "import sqlite3"
   ]
  },
  {
   "cell_type": "code",
   "execution_count": 2,
   "id": "innovative-syndrome",
   "metadata": {
    "execution": {
     "iopub.execute_input": "2021-11-05T00:00:08.449053Z",
     "iopub.status.busy": "2021-11-05T00:00:08.446733Z",
     "iopub.status.idle": "2021-11-05T00:00:09.165827Z",
     "shell.execute_reply": "2021-11-05T00:00:09.167397Z"
    },
    "papermill": {
     "duration": 0.753207,
     "end_time": "2021-11-05T00:00:09.167890",
     "exception": false,
     "start_time": "2021-11-05T00:00:08.414683",
     "status": "completed"
    },
    "tags": []
   },
   "outputs": [],
   "source": [
    "timestamps = pd.read_sql(\"select distinct record_time from EBAY_TOP_BERLIN order by record_time desc limit 2\", sqlite3.connect(\"UsedObjects.db\"))"
   ]
  },
  {
   "cell_type": "code",
   "execution_count": 3,
   "id": "periodic-identification",
   "metadata": {
    "execution": {
     "iopub.execute_input": "2021-11-05T00:00:09.240154Z",
     "iopub.status.busy": "2021-11-05T00:00:09.237813Z",
     "iopub.status.idle": "2021-11-05T00:00:09.261308Z",
     "shell.execute_reply": "2021-11-05T00:00:09.259514Z"
    },
    "papermill": {
     "duration": 0.073479,
     "end_time": "2021-11-05T00:00:09.261739",
     "exception": false,
     "start_time": "2021-11-05T00:00:09.188260",
     "status": "completed"
    },
    "tags": []
   },
   "outputs": [
    {
     "data": {
      "text/html": [
       "<div>\n",
       "<style scoped>\n",
       "    .dataframe tbody tr th:only-of-type {\n",
       "        vertical-align: middle;\n",
       "    }\n",
       "\n",
       "    .dataframe tbody tr th {\n",
       "        vertical-align: top;\n",
       "    }\n",
       "\n",
       "    .dataframe thead th {\n",
       "        text-align: right;\n",
       "    }\n",
       "</style>\n",
       "<table border=\"1\" class=\"dataframe\">\n",
       "  <thead>\n",
       "    <tr style=\"text-align: right;\">\n",
       "      <th></th>\n",
       "      <th>RECORD_TIME</th>\n",
       "    </tr>\n",
       "  </thead>\n",
       "  <tbody>\n",
       "    <tr>\n",
       "      <th>0</th>\n",
       "      <td>2021-11-05 01:00</td>\n",
       "    </tr>\n",
       "    <tr>\n",
       "      <th>1</th>\n",
       "      <td>2021-11-05 00:30</td>\n",
       "    </tr>\n",
       "  </tbody>\n",
       "</table>\n",
       "</div>"
      ],
      "text/plain": [
       "        RECORD_TIME\n",
       "0  2021-11-05 01:00\n",
       "1  2021-11-05 00:30"
      ]
     },
     "execution_count": 3,
     "metadata": {},
     "output_type": "execute_result"
    }
   ],
   "source": [
    "timestamps"
   ]
  },
  {
   "cell_type": "code",
   "execution_count": 4,
   "id": "alternate-victory",
   "metadata": {
    "execution": {
     "iopub.execute_input": "2021-11-05T00:00:09.316773Z",
     "iopub.status.busy": "2021-11-05T00:00:09.314564Z",
     "iopub.status.idle": "2021-11-05T00:00:10.398157Z",
     "shell.execute_reply": "2021-11-05T00:00:10.399637Z"
    },
    "papermill": {
     "duration": 1.11726,
     "end_time": "2021-11-05T00:00:10.400126",
     "exception": false,
     "start_time": "2021-11-05T00:00:09.282866",
     "status": "completed"
    },
    "tags": []
   },
   "outputs": [],
   "source": [
    "df = pd.read_sql(\"select * from EBAY_TOP_BERLIN where record_time in (select distinct record_time from EBAY_TOP_BERLIN order by record_time desc limit 2)\", sqlite3.connect(\"UsedObjects.db\"))"
   ]
  },
  {
   "cell_type": "code",
   "execution_count": 5,
   "id": "popular-active",
   "metadata": {
    "execution": {
     "iopub.execute_input": "2021-11-05T00:00:10.478759Z",
     "iopub.status.busy": "2021-11-05T00:00:10.476357Z",
     "iopub.status.idle": "2021-11-05T00:00:10.498002Z",
     "shell.execute_reply": "2021-11-05T00:00:10.499652Z"
    },
    "papermill": {
     "duration": 0.078197,
     "end_time": "2021-11-05T00:00:10.500139",
     "exception": false,
     "start_time": "2021-11-05T00:00:10.421942",
     "status": "completed"
    },
    "tags": []
   },
   "outputs": [],
   "source": [
    "df_pivot = df.pivot_table(index=\"PRODUCT\", columns = \"RECORD_TIME\", values = \"LISTING_COUNT\")"
   ]
  },
  {
   "cell_type": "code",
   "execution_count": 6,
   "id": "union-huntington",
   "metadata": {
    "execution": {
     "iopub.execute_input": "2021-11-05T00:00:10.563724Z",
     "iopub.status.busy": "2021-11-05T00:00:10.561406Z",
     "iopub.status.idle": "2021-11-05T00:00:10.568018Z",
     "shell.execute_reply": "2021-11-05T00:00:10.569677Z"
    },
    "papermill": {
     "duration": 0.049167,
     "end_time": "2021-11-05T00:00:10.570185",
     "exception": false,
     "start_time": "2021-11-05T00:00:10.521018",
     "status": "completed"
    },
    "tags": []
   },
   "outputs": [],
   "source": [
    "df_pivot.columns = [\"stamp_1\", \"stamp_2\"]\n",
    "df_pivot_diff = df_pivot.diff(axis=1)"
   ]
  },
  {
   "cell_type": "code",
   "execution_count": 7,
   "id": "fifth-motion",
   "metadata": {
    "execution": {
     "iopub.execute_input": "2021-11-05T00:00:10.629645Z",
     "iopub.status.busy": "2021-11-05T00:00:10.626999Z",
     "iopub.status.idle": "2021-11-05T00:00:12.393435Z",
     "shell.execute_reply": "2021-11-05T00:00:12.394835Z"
    },
    "papermill": {
     "duration": 1.803896,
     "end_time": "2021-11-05T00:00:12.395323",
     "exception": false,
     "start_time": "2021-11-05T00:00:10.591427",
     "status": "completed"
    },
    "tags": []
   },
   "outputs": [
    {
     "data": {
      "text/plain": [
       "<AxesSubplot:ylabel='PRODUCT'>"
      ]
     },
     "execution_count": 7,
     "metadata": {},
     "output_type": "execute_result"
    },
    {
     "data": {
      "image/png": "[encoded data removed]",
      "text/plain": [
       "<Figure size 432x288 with 1 Axes>"
      ]
     },
     "metadata": {
      "needs_background": "light"
     },
     "output_type": "display_data"
    }
   ],
   "source": [
    "df_pivot_diff.sort_values(\"stamp_2\", ascending = False)[\"stamp_2\"].head(10).plot.barh()"
   ]
  },
  {
   "cell_type": "code",
   "execution_count": null,
   "id": "extra-executive",
   "metadata": {
    "papermill": {
     "duration": 0.02823,
     "end_time": "2021-11-05T00:00:12.450789",
     "exception": false,
     "start_time": "2021-11-05T00:00:12.422559",
     "status": "completed"
    },
    "tags": []
   },
   "outputs": [],
   "source": []
  }
 ],
 "metadata": {
  "kernelspec": {
   "display_name": "Python 3",
   "language": "python",
   "name": "python3"
  },
  "language_info": {
   "codemirror_mode": {
    "name": "ipython",
    "version": 3
   },
   "file_extension": ".py",
   "mimetype": "text/x-python",
   "name": "python",
   "nbconvert_exporter": "python",
   "pygments_lexer": "ipython3",
   "version": "3.9.5"
  },
  "papermill": {
   "default_parameters": {},
   "duration": 8.761741,
   "end_time": "2021-11-05T00:00:13.309178",
   "environment_variables": {},
   "exception": null,
   "input_path": "eBay_Overview.ipynb",
   "output_path": "eBay_Overview.ipynb",
   "parameters": {},
   "start_time": "2021-11-05T00:00:04.547437",
   "version": "2.3.3"
  }
 },
 "nbformat": 4,
 "nbformat_minor": 5
}