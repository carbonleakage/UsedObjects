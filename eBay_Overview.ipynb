{
 "cells": [
  {
   "cell_type": "code",
   "execution_count": 1,
   "id": "reverse-picking",
   "metadata": {
    "execution": {
     "iopub.execute_input": "2021-08-12T09:30:03.655010Z",
     "iopub.status.busy": "2021-08-12T09:30:03.654251Z",
     "iopub.status.idle": "2021-08-12T09:30:04.272216Z",
     "shell.execute_reply": "2021-08-12T09:30:04.273020Z"
    },
    "papermill": {
     "duration": 0.637565,
     "end_time": "2021-08-12T09:30:04.273372",
     "exception": false,
     "start_time": "2021-08-12T09:30:03.635807",
     "status": "completed"
    },
    "tags": []
   },
   "outputs": [],
   "source": [
    "import pandas as pd\n",
    "import sqlite3"
   ]
  },
  {
   "cell_type": "code",
   "execution_count": 2,
   "id": "innovative-syndrome",
   "metadata": {
    "execution": {
     "iopub.execute_input": "2021-08-12T09:30:04.294950Z",
     "iopub.status.busy": "2021-08-12T09:30:04.294178Z",
     "iopub.status.idle": "2021-08-12T09:30:04.511577Z",
     "shell.execute_reply": "2021-08-12T09:30:04.510836Z"
    },
    "papermill": {
     "duration": 0.22952,
     "end_time": "2021-08-12T09:30:04.511738",
     "exception": false,
     "start_time": "2021-08-12T09:30:04.282218",
     "status": "completed"
    },
    "tags": []
   },
   "outputs": [],
   "source": [
    "timestamps = pd.read_sql(\"select distinct record_time from EBAY_TOP_BERLIN order by record_time desc limit 2\", sqlite3.connect(\"UsedObjects.db\"))"
   ]
  },
  {
   "cell_type": "code",
   "execution_count": 3,
   "id": "periodic-identification",
   "metadata": {
    "execution": {
     "iopub.execute_input": "2021-08-12T09:30:04.540602Z",
     "iopub.status.busy": "2021-08-12T09:30:04.539768Z",
     "iopub.status.idle": "2021-08-12T09:30:04.555184Z",
     "shell.execute_reply": "2021-08-12T09:30:04.554434Z"
    },
    "papermill": {
     "duration": 0.035227,
     "end_time": "2021-08-12T09:30:04.555346",
     "exception": false,
     "start_time": "2021-08-12T09:30:04.520119",
     "status": "completed"
    },
    "tags": []
   },
   "outputs": [
    {
     "data": {
      "text/html": [
       "<div>\n",
       "<style scoped>\n",
       "    .dataframe tbody tr th:only-of-type {\n",
       "        vertical-align: middle;\n",
       "    }\n",
       "\n",
       "    .dataframe tbody tr th {\n",
       "        vertical-align: top;\n",
       "    }\n",
       "\n",
       "    .dataframe thead th {\n",
       "        text-align: right;\n",
       "    }\n",
       "</style>\n",
       "<table border=\"1\" class=\"dataframe\">\n",
       "  <thead>\n",
       "    <tr style=\"text-align: right;\">\n",
       "      <th></th>\n",
       "      <th>RECORD_TIME</th>\n",
       "    </tr>\n",
       "  </thead>\n",
       "  <tbody>\n",
       "    <tr>\n",
       "      <th>0</th>\n",
       "      <td>2021-08-12 11:30</td>\n",
       "    </tr>\n",
       "    <tr>\n",
       "      <th>1</th>\n",
       "      <td>2021-08-12 11:00</td>\n",
       "    </tr>\n",
       "  </tbody>\n",
       "</table>\n",
       "</div>"
      ],
      "text/plain": [
       "        RECORD_TIME\n",
       "0  2021-08-12 11:30\n",
       "1  2021-08-12 11:00"
      ]
     },
     "execution_count": 3,
     "metadata": {},
     "output_type": "execute_result"
    }
   ],
   "source": [
    "timestamps"
   ]
  },
  {
   "cell_type": "code",
   "execution_count": 4,
   "id": "alternate-victory",
   "metadata": {
    "execution": {
     "iopub.execute_input": "2021-08-12T09:30:04.577670Z",
     "iopub.status.busy": "2021-08-12T09:30:04.576916Z",
     "iopub.status.idle": "2021-08-12T09:30:04.605126Z",
     "shell.execute_reply": "2021-08-12T09:30:04.605649Z"
    },
    "papermill": {
     "duration": 0.041532,
     "end_time": "2021-08-12T09:30:04.605832",
     "exception": false,
     "start_time": "2021-08-12T09:30:04.564300",
     "status": "completed"
    },
    "tags": []
   },
   "outputs": [],
   "source": [
    "df = pd.read_sql(\"select * from EBAY_TOP_BERLIN where record_time in (select distinct record_time from EBAY_TOP_BERLIN order by record_time desc limit 2)\", sqlite3.connect(\"UsedObjects.db\"))"
   ]
  },
  {
   "cell_type": "code",
   "execution_count": 5,
   "id": "popular-active",
   "metadata": {
    "execution": {
     "iopub.execute_input": "2021-08-12T09:30:04.638950Z",
     "iopub.status.busy": "2021-08-12T09:30:04.638172Z",
     "iopub.status.idle": "2021-08-12T09:30:04.656649Z",
     "shell.execute_reply": "2021-08-12T09:30:04.656032Z"
    },
    "papermill": {
     "duration": 0.036504,
     "end_time": "2021-08-12T09:30:04.656811",
     "exception": false,
     "start_time": "2021-08-12T09:30:04.620307",
     "status": "completed"
    },
    "tags": []
   },
   "outputs": [],
   "source": [
    "df_pivot = df.pivot_table(index=\"PRODUCT\", columns = \"RECORD_TIME\", values = \"LISTING_COUNT\")"
   ]
  },
  {
   "cell_type": "code",
   "execution_count": 6,
   "id": "union-huntington",
   "metadata": {
    "execution": {
     "iopub.execute_input": "2021-08-12T09:30:04.683750Z",
     "iopub.status.busy": "2021-08-12T09:30:04.683027Z",
     "iopub.status.idle": "2021-08-12T09:30:04.686682Z",
     "shell.execute_reply": "2021-08-12T09:30:04.687210Z"
    },
    "papermill": {
     "duration": 0.022227,
     "end_time": "2021-08-12T09:30:04.687392",
     "exception": false,
     "start_time": "2021-08-12T09:30:04.665165",
     "status": "completed"
    },
    "tags": []
   },
   "outputs": [],
   "source": [
    "df_pivot.columns = [\"stamp_1\", \"stamp_2\"]\n",
    "df_pivot_diff = df_pivot.diff(axis=1)"
   ]
  },
  {
   "cell_type": "code",
   "execution_count": 7,
   "id": "fifth-motion",
   "metadata": {
    "execution": {
     "iopub.execute_input": "2021-08-12T09:30:04.717681Z",
     "iopub.status.busy": "2021-08-12T09:30:04.716936Z",
     "iopub.status.idle": "2021-08-12T09:30:05.396312Z",
     "shell.execute_reply": "2021-08-12T09:30:05.396854Z"
    },
    "papermill": {
     "duration": 0.697944,
     "end_time": "2021-08-12T09:30:05.397033",
     "exception": false,
     "start_time": "2021-08-12T09:30:04.699089",
     "status": "completed"
    },
    "tags": []
   },
   "outputs": [
    {
     "data": {
      "text/plain": [
       "<AxesSubplot:ylabel='PRODUCT'>"
      ]
     },
     "execution_count": 7,
     "metadata": {},
     "output_type": "execute_result"
    },
    {
     "data": {
      "image/png": "[encoded data removed]",
      "text/plain": [
       "<Figure size 432x288 with 1 Axes>"
      ]
     },
     "metadata": {
      "needs_background": "light"
     },
     "output_type": "display_data"
    }
   ],
   "source": [
    "df_pivot_diff.sort_values(\"stamp_2\", ascending = False)[\"stamp_2\"].head(10).plot.barh()"
   ]
  },
  {
   "cell_type": "code",
   "execution_count": null,
   "id": "extra-executive",
   "metadata": {
    "papermill": {
     "duration": 0.015115,
     "end_time": "2021-08-12T09:30:05.422111",
     "exception": false,
     "start_time": "2021-08-12T09:30:05.406996",
     "status": "completed"
    },
    "tags": []
   },
   "outputs": [],
   "source": []
  }
 ],
 "metadata": {
  "kernelspec": {
   "display_name": "Python 3",
   "language": "python",
   "name": "python3"
  },
  "language_info": {
   "codemirror_mode": {
    "name": "ipython",
    "version": 3
   },
   "file_extension": ".py",
   "mimetype": "text/x-python",
   "name": "python",
   "nbconvert_exporter": "python",
   "pygments_lexer": "ipython3",
   "version": "3.8.8"
  },
  "papermill": {
   "default_parameters": {},
   "duration": 4.861461,
   "end_time": "2021-08-12T09:30:06.771935",
   "environment_variables": {},
   "exception": null,
   "input_path": "/Users/saravananshanmugam/Carbonleakage_Git/UsedObjects/eBay_Overview.ipynb",
   "output_path": "/Users/saravananshanmugam/Carbonleakage_Git/UsedObjects/eBay_Overview.ipynb",
   "parameters": {},
   "start_time": "2021-08-12T09:30:01.910474",
   "version": "2.3.3"
  }
 },
 "nbformat": 4,
 "nbformat_minor": 5
}