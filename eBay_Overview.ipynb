{
 "cells": [
  {
   "cell_type": "code",
   "execution_count": 1,
   "id": "reverse-picking",
   "metadata": {
    "execution": {
     "iopub.execute_input": "2021-09-27T07:00:07.220940Z",
     "iopub.status.busy": "2021-09-27T07:00:07.218848Z",
     "iopub.status.idle": "2021-09-27T07:00:08.027626Z",
     "shell.execute_reply": "2021-09-27T07:00:08.029104Z"
    },
    "papermill": {
     "duration": 0.860019,
     "end_time": "2021-09-27T07:00:08.029794",
     "exception": false,
     "start_time": "2021-09-27T07:00:07.169775",
     "status": "completed"
    },
    "tags": []
   },
   "outputs": [],
   "source": [
    "import pandas as pd\n",
    "import sqlite3"
   ]
  },
  {
   "cell_type": "code",
   "execution_count": 2,
   "id": "innovative-syndrome",
   "metadata": {
    "execution": {
     "iopub.execute_input": "2021-09-27T07:00:08.080967Z",
     "iopub.status.busy": "2021-09-27T07:00:08.078526Z",
     "iopub.status.idle": "2021-09-27T07:00:08.471872Z",
     "shell.execute_reply": "2021-09-27T07:00:08.473175Z"
    },
    "papermill": {
     "duration": 0.423522,
     "end_time": "2021-09-27T07:00:08.473596",
     "exception": false,
     "start_time": "2021-09-27T07:00:08.050074",
     "status": "completed"
    },
    "tags": []
   },
   "outputs": [],
   "source": [
    "timestamps = pd.read_sql(\"select distinct record_time from EBAY_TOP_BERLIN order by record_time desc limit 2\", sqlite3.connect(\"UsedObjects.db\"))"
   ]
  },
  {
   "cell_type": "code",
   "execution_count": 3,
   "id": "periodic-identification",
   "metadata": {
    "execution": {
     "iopub.execute_input": "2021-09-27T07:00:08.539562Z",
     "iopub.status.busy": "2021-09-27T07:00:08.537759Z",
     "iopub.status.idle": "2021-09-27T07:00:08.561325Z",
     "shell.execute_reply": "2021-09-27T07:00:08.562615Z"
    },
    "papermill": {
     "duration": 0.06997,
     "end_time": "2021-09-27T07:00:08.563111",
     "exception": false,
     "start_time": "2021-09-27T07:00:08.493141",
     "status": "completed"
    },
    "tags": []
   },
   "outputs": [
    {
     "data": {
      "text/html": [
       "<div>\n",
       "<style scoped>\n",
       "    .dataframe tbody tr th:only-of-type {\n",
       "        vertical-align: middle;\n",
       "    }\n",
       "\n",
       "    .dataframe tbody tr th {\n",
       "        vertical-align: top;\n",
       "    }\n",
       "\n",
       "    .dataframe thead th {\n",
       "        text-align: right;\n",
       "    }\n",
       "</style>\n",
       "<table border=\"1\" class=\"dataframe\">\n",
       "  <thead>\n",
       "    <tr style=\"text-align: right;\">\n",
       "      <th></th>\n",
       "      <th>RECORD_TIME</th>\n",
       "    </tr>\n",
       "  </thead>\n",
       "  <tbody>\n",
       "    <tr>\n",
       "      <th>0</th>\n",
       "      <td>2021-09-27 09:00</td>\n",
       "    </tr>\n",
       "    <tr>\n",
       "      <th>1</th>\n",
       "      <td>2021-09-27 08:30</td>\n",
       "    </tr>\n",
       "  </tbody>\n",
       "</table>\n",
       "</div>"
      ],
      "text/plain": [
       "        RECORD_TIME\n",
       "0  2021-09-27 09:00\n",
       "1  2021-09-27 08:30"
      ]
     },
     "execution_count": 3,
     "metadata": {},
     "output_type": "execute_result"
    }
   ],
   "source": [
    "timestamps"
   ]
  },
  {
   "cell_type": "code",
   "execution_count": 4,
   "id": "alternate-victory",
   "metadata": {
    "execution": {
     "iopub.execute_input": "2021-09-27T07:00:08.614477Z",
     "iopub.status.busy": "2021-09-27T07:00:08.612619Z",
     "iopub.status.idle": "2021-09-27T07:00:09.185729Z",
     "shell.execute_reply": "2021-09-27T07:00:09.186919Z"
    },
    "papermill": {
     "duration": 0.603361,
     "end_time": "2021-09-27T07:00:09.187352",
     "exception": false,
     "start_time": "2021-09-27T07:00:08.583991",
     "status": "completed"
    },
    "tags": []
   },
   "outputs": [],
   "source": [
    "df = pd.read_sql(\"select * from EBAY_TOP_BERLIN where record_time in (select distinct record_time from EBAY_TOP_BERLIN order by record_time desc limit 2)\", sqlite3.connect(\"UsedObjects.db\"))"
   ]
  },
  {
   "cell_type": "code",
   "execution_count": 5,
   "id": "popular-active",
   "metadata": {
    "execution": {
     "iopub.execute_input": "2021-09-27T07:00:09.268678Z",
     "iopub.status.busy": "2021-09-27T07:00:09.256271Z",
     "iopub.status.idle": "2021-09-27T07:00:09.284767Z",
     "shell.execute_reply": "2021-09-27T07:00:09.286075Z"
    },
    "papermill": {
     "duration": 0.070948,
     "end_time": "2021-09-27T07:00:09.286503",
     "exception": false,
     "start_time": "2021-09-27T07:00:09.215555",
     "status": "completed"
    },
    "tags": []
   },
   "outputs": [],
   "source": [
    "df_pivot = df.pivot_table(index=\"PRODUCT\", columns = \"RECORD_TIME\", values = \"LISTING_COUNT\")"
   ]
  },
  {
   "cell_type": "code",
   "execution_count": 6,
   "id": "union-huntington",
   "metadata": {
    "execution": {
     "iopub.execute_input": "2021-09-27T07:00:09.342935Z",
     "iopub.status.busy": "2021-09-27T07:00:09.340574Z",
     "iopub.status.idle": "2021-09-27T07:00:09.346201Z",
     "shell.execute_reply": "2021-09-27T07:00:09.347693Z"
    },
    "papermill": {
     "duration": 0.041947,
     "end_time": "2021-09-27T07:00:09.348163",
     "exception": false,
     "start_time": "2021-09-27T07:00:09.306216",
     "status": "completed"
    },
    "tags": []
   },
   "outputs": [],
   "source": [
    "df_pivot.columns = [\"stamp_1\", \"stamp_2\"]\n",
    "df_pivot_diff = df_pivot.diff(axis=1)"
   ]
  },
  {
   "cell_type": "code",
   "execution_count": 7,
   "id": "fifth-motion",
   "metadata": {
    "execution": {
     "iopub.execute_input": "2021-09-27T07:00:09.402084Z",
     "iopub.status.busy": "2021-09-27T07:00:09.399855Z",
     "iopub.status.idle": "2021-09-27T07:00:10.870029Z",
     "shell.execute_reply": "2021-09-27T07:00:10.871477Z"
    },
    "papermill": {
     "duration": 1.503014,
     "end_time": "2021-09-27T07:00:10.871934",
     "exception": false,
     "start_time": "2021-09-27T07:00:09.368920",
     "status": "completed"
    },
    "tags": []
   },
   "outputs": [
    {
     "data": {
      "text/plain": [
       "<AxesSubplot:ylabel='PRODUCT'>"
      ]
     },
     "execution_count": 7,
     "metadata": {},
     "output_type": "execute_result"
    },
    {
     "data": {
      "image/png": "[encoded data removed]",
      "text/plain": [
       "<Figure size 432x288 with 1 Axes>"
      ]
     },
     "metadata": {
      "needs_background": "light"
     },
     "output_type": "display_data"
    }
   ],
   "source": [
    "df_pivot_diff.sort_values(\"stamp_2\", ascending = False)[\"stamp_2\"].head(10).plot.barh()"
   ]
  },
  {
   "cell_type": "code",
   "execution_count": null,
   "id": "extra-executive",
   "metadata": {
    "papermill": {
     "duration": 0.022333,
     "end_time": "2021-09-27T07:00:10.918273",
     "exception": false,
     "start_time": "2021-09-27T07:00:10.895940",
     "status": "completed"
    },
    "tags": []
   },
   "outputs": [],
   "source": []
  }
 ],
 "metadata": {
  "kernelspec": {
   "display_name": "Python 3",
   "language": "python",
   "name": "python3"
  },
  "language_info": {
   "codemirror_mode": {
    "name": "ipython",
    "version": 3
   },
   "file_extension": ".py",
   "mimetype": "text/x-python",
   "name": "python",
   "nbconvert_exporter": "python",
   "pygments_lexer": "ipython3",
   "version": "3.9.5"
  },
  "papermill": {
   "default_parameters": {},
   "duration": 6.801946,
   "end_time": "2021-09-27T07:00:11.561224",
   "environment_variables": {},
   "exception": null,
   "input_path": "eBay_Overview.ipynb",
   "output_path": "eBay_Overview.ipynb",
   "parameters": {},
   "start_time": "2021-09-27T07:00:04.759278",
   "version": "2.3.3"
  }
 },
 "nbformat": 4,
 "nbformat_minor": 5
}