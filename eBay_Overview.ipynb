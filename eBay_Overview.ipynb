{
 "cells": [
  {
   "cell_type": "code",
   "execution_count": 1,
   "id": "reverse-picking",
   "metadata": {
    "execution": {
     "iopub.execute_input": "2021-10-04T23:00:07.045322Z",
     "iopub.status.busy": "2021-10-04T23:00:07.043395Z",
     "iopub.status.idle": "2021-10-04T23:00:07.850673Z",
     "shell.execute_reply": "2021-10-04T23:00:07.852018Z"
    },
    "papermill": {
     "duration": 0.861087,
     "end_time": "2021-10-04T23:00:07.852646",
     "exception": false,
     "start_time": "2021-10-04T23:00:06.991559",
     "status": "completed"
    },
    "tags": []
   },
   "outputs": [],
   "source": [
    "import pandas as pd\n",
    "import sqlite3"
   ]
  },
  {
   "cell_type": "code",
   "execution_count": 2,
   "id": "innovative-syndrome",
   "metadata": {
    "execution": {
     "iopub.execute_input": "2021-10-04T23:00:07.904921Z",
     "iopub.status.busy": "2021-10-04T23:00:07.902680Z",
     "iopub.status.idle": "2021-10-04T23:00:08.365204Z",
     "shell.execute_reply": "2021-10-04T23:00:08.366389Z"
    },
    "papermill": {
     "duration": 0.491956,
     "end_time": "2021-10-04T23:00:08.366833",
     "exception": false,
     "start_time": "2021-10-04T23:00:07.874877",
     "status": "completed"
    },
    "tags": []
   },
   "outputs": [],
   "source": [
    "timestamps = pd.read_sql(\"select distinct record_time from EBAY_TOP_BERLIN order by record_time desc limit 2\", sqlite3.connect(\"UsedObjects.db\"))"
   ]
  },
  {
   "cell_type": "code",
   "execution_count": 3,
   "id": "periodic-identification",
   "metadata": {
    "execution": {
     "iopub.execute_input": "2021-10-04T23:00:08.432770Z",
     "iopub.status.busy": "2021-10-04T23:00:08.430671Z",
     "iopub.status.idle": "2021-10-04T23:00:08.450355Z",
     "shell.execute_reply": "2021-10-04T23:00:08.451645Z"
    },
    "papermill": {
     "duration": 0.064494,
     "end_time": "2021-10-04T23:00:08.452055",
     "exception": false,
     "start_time": "2021-10-04T23:00:08.387561",
     "status": "completed"
    },
    "tags": []
   },
   "outputs": [
    {
     "data": {
      "text/html": [
       "<div>\n",
       "<style scoped>\n",
       "    .dataframe tbody tr th:only-of-type {\n",
       "        vertical-align: middle;\n",
       "    }\n",
       "\n",
       "    .dataframe tbody tr th {\n",
       "        vertical-align: top;\n",
       "    }\n",
       "\n",
       "    .dataframe thead th {\n",
       "        text-align: right;\n",
       "    }\n",
       "</style>\n",
       "<table border=\"1\" class=\"dataframe\">\n",
       "  <thead>\n",
       "    <tr style=\"text-align: right;\">\n",
       "      <th></th>\n",
       "      <th>RECORD_TIME</th>\n",
       "    </tr>\n",
       "  </thead>\n",
       "  <tbody>\n",
       "    <tr>\n",
       "      <th>0</th>\n",
       "      <td>2021-10-05 01:00</td>\n",
       "    </tr>\n",
       "    <tr>\n",
       "      <th>1</th>\n",
       "      <td>2021-10-05 00:30</td>\n",
       "    </tr>\n",
       "  </tbody>\n",
       "</table>\n",
       "</div>"
      ],
      "text/plain": [
       "        RECORD_TIME\n",
       "0  2021-10-05 01:00\n",
       "1  2021-10-05 00:30"
      ]
     },
     "execution_count": 3,
     "metadata": {},
     "output_type": "execute_result"
    }
   ],
   "source": [
    "timestamps"
   ]
  },
  {
   "cell_type": "code",
   "execution_count": 4,
   "id": "alternate-victory",
   "metadata": {
    "execution": {
     "iopub.execute_input": "2021-10-04T23:00:08.529214Z",
     "iopub.status.busy": "2021-10-04T23:00:08.527387Z",
     "iopub.status.idle": "2021-10-04T23:00:09.189469Z",
     "shell.execute_reply": "2021-10-04T23:00:09.190672Z"
    },
    "papermill": {
     "duration": 0.699039,
     "end_time": "2021-10-04T23:00:09.191279",
     "exception": false,
     "start_time": "2021-10-04T23:00:08.492240",
     "status": "completed"
    },
    "tags": []
   },
   "outputs": [],
   "source": [
    "df = pd.read_sql(\"select * from EBAY_TOP_BERLIN where record_time in (select distinct record_time from EBAY_TOP_BERLIN order by record_time desc limit 2)\", sqlite3.connect(\"UsedObjects.db\"))"
   ]
  },
  {
   "cell_type": "code",
   "execution_count": 5,
   "id": "popular-active",
   "metadata": {
    "execution": {
     "iopub.execute_input": "2021-10-04T23:00:09.252350Z",
     "iopub.status.busy": "2021-10-04T23:00:09.250162Z",
     "iopub.status.idle": "2021-10-04T23:00:09.277742Z",
     "shell.execute_reply": "2021-10-04T23:00:09.279090Z"
    },
    "papermill": {
     "duration": 0.067895,
     "end_time": "2021-10-04T23:00:09.279524",
     "exception": false,
     "start_time": "2021-10-04T23:00:09.211629",
     "status": "completed"
    },
    "tags": []
   },
   "outputs": [],
   "source": [
    "df_pivot = df.pivot_table(index=\"PRODUCT\", columns = \"RECORD_TIME\", values = \"LISTING_COUNT\")"
   ]
  },
  {
   "cell_type": "code",
   "execution_count": 6,
   "id": "union-huntington",
   "metadata": {
    "execution": {
     "iopub.execute_input": "2021-10-04T23:00:09.335748Z",
     "iopub.status.busy": "2021-10-04T23:00:09.333625Z",
     "iopub.status.idle": "2021-10-04T23:00:09.338912Z",
     "shell.execute_reply": "2021-10-04T23:00:09.340119Z"
    },
    "papermill": {
     "duration": 0.040897,
     "end_time": "2021-10-04T23:00:09.340557",
     "exception": false,
     "start_time": "2021-10-04T23:00:09.299660",
     "status": "completed"
    },
    "tags": []
   },
   "outputs": [],
   "source": [
    "df_pivot.columns = [\"stamp_1\", \"stamp_2\"]\n",
    "df_pivot_diff = df_pivot.diff(axis=1)"
   ]
  },
  {
   "cell_type": "code",
   "execution_count": 7,
   "id": "fifth-motion",
   "metadata": {
    "execution": {
     "iopub.execute_input": "2021-10-04T23:00:09.400288Z",
     "iopub.status.busy": "2021-10-04T23:00:09.395268Z",
     "iopub.status.idle": "2021-10-04T23:00:10.914998Z",
     "shell.execute_reply": "2021-10-04T23:00:10.916290Z"
    },
    "papermill": {
     "duration": 1.553265,
     "end_time": "2021-10-04T23:00:10.916716",
     "exception": false,
     "start_time": "2021-10-04T23:00:09.363451",
     "status": "completed"
    },
    "tags": []
   },
   "outputs": [
    {
     "data": {
      "text/plain": [
       "<AxesSubplot:ylabel='PRODUCT'>"
      ]
     },
     "execution_count": 7,
     "metadata": {},
     "output_type": "execute_result"
    },
    {
     "data": {
      "image/png": "[encoded data removed]",
      "text/plain": [
       "<Figure size 432x288 with 1 Axes>"
      ]
     },
     "metadata": {
      "needs_background": "light"
     },
     "output_type": "display_data"
    }
   ],
   "source": [
    "df_pivot_diff.sort_values(\"stamp_2\", ascending = False)[\"stamp_2\"].head(10).plot.barh()"
   ]
  },
  {
   "cell_type": "code",
   "execution_count": null,
   "id": "extra-executive",
   "metadata": {
    "papermill": {
     "duration": 0.02222,
     "end_time": "2021-10-04T23:00:10.963809",
     "exception": false,
     "start_time": "2021-10-04T23:00:10.941589",
     "status": "completed"
    },
    "tags": []
   },
   "outputs": [],
   "source": []
  }
 ],
 "metadata": {
  "kernelspec": {
   "display_name": "Python 3",
   "language": "python",
   "name": "python3"
  },
  "language_info": {
   "codemirror_mode": {
    "name": "ipython",
    "version": 3
   },
   "file_extension": ".py",
   "mimetype": "text/x-python",
   "name": "python",
   "nbconvert_exporter": "python",
   "pygments_lexer": "ipython3",
   "version": "3.9.5"
  },
  "papermill": {
   "default_parameters": {},
   "duration": 7.827643,
   "end_time": "2021-10-04T23:00:12.409379",
   "environment_variables": {},
   "exception": null,
   "input_path": "eBay_Overview.ipynb",
   "output_path": "eBay_Overview.ipynb",
   "parameters": {},
   "start_time": "2021-10-04T23:00:04.581736",
   "version": "2.3.3"
  }
 },
 "nbformat": 4,
 "nbformat_minor": 5
}