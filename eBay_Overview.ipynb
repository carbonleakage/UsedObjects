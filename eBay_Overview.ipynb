{
 "cells": [
  {
   "cell_type": "code",
   "execution_count": 1,
   "id": "reverse-picking",
   "metadata": {
    "execution": {
     "iopub.execute_input": "2021-10-29T16:30:07.652996Z",
     "iopub.status.busy": "2021-10-29T16:30:07.650965Z",
     "iopub.status.idle": "2021-10-29T16:30:08.455144Z",
     "shell.execute_reply": "2021-10-29T16:30:08.456390Z"
    },
    "papermill": {
     "duration": 0.854536,
     "end_time": "2021-10-29T16:30:08.457090",
     "exception": false,
     "start_time": "2021-10-29T16:30:07.602554",
     "status": "completed"
    },
    "tags": []
   },
   "outputs": [],
   "source": [
    "import pandas as pd\n",
    "import sqlite3"
   ]
  },
  {
   "cell_type": "code",
   "execution_count": 2,
   "id": "innovative-syndrome",
   "metadata": {
    "execution": {
     "iopub.execute_input": "2021-10-29T16:30:08.508876Z",
     "iopub.status.busy": "2021-10-29T16:30:08.506961Z",
     "iopub.status.idle": "2021-10-29T16:30:09.186012Z",
     "shell.execute_reply": "2021-10-29T16:30:09.187195Z"
    },
    "papermill": {
     "duration": 0.708271,
     "end_time": "2021-10-29T16:30:09.187589",
     "exception": false,
     "start_time": "2021-10-29T16:30:08.479318",
     "status": "completed"
    },
    "tags": []
   },
   "outputs": [],
   "source": [
    "timestamps = pd.read_sql(\"select distinct record_time from EBAY_TOP_BERLIN order by record_time desc limit 2\", sqlite3.connect(\"UsedObjects.db\"))"
   ]
  },
  {
   "cell_type": "code",
   "execution_count": 3,
   "id": "periodic-identification",
   "metadata": {
    "execution": {
     "iopub.execute_input": "2021-10-29T16:30:09.263451Z",
     "iopub.status.busy": "2021-10-29T16:30:09.261451Z",
     "iopub.status.idle": "2021-10-29T16:30:09.281372Z",
     "shell.execute_reply": "2021-10-29T16:30:09.282671Z"
    },
    "papermill": {
     "duration": 0.069371,
     "end_time": "2021-10-29T16:30:09.283086",
     "exception": false,
     "start_time": "2021-10-29T16:30:09.213715",
     "status": "completed"
    },
    "tags": []
   },
   "outputs": [
    {
     "data": {
      "text/html": [
       "<div>\n",
       "<style scoped>\n",
       "    .dataframe tbody tr th:only-of-type {\n",
       "        vertical-align: middle;\n",
       "    }\n",
       "\n",
       "    .dataframe tbody tr th {\n",
       "        vertical-align: top;\n",
       "    }\n",
       "\n",
       "    .dataframe thead th {\n",
       "        text-align: right;\n",
       "    }\n",
       "</style>\n",
       "<table border=\"1\" class=\"dataframe\">\n",
       "  <thead>\n",
       "    <tr style=\"text-align: right;\">\n",
       "      <th></th>\n",
       "      <th>RECORD_TIME</th>\n",
       "    </tr>\n",
       "  </thead>\n",
       "  <tbody>\n",
       "    <tr>\n",
       "      <th>0</th>\n",
       "      <td>2021-10-29 18:30</td>\n",
       "    </tr>\n",
       "    <tr>\n",
       "      <th>1</th>\n",
       "      <td>2021-10-29 18:00</td>\n",
       "    </tr>\n",
       "  </tbody>\n",
       "</table>\n",
       "</div>"
      ],
      "text/plain": [
       "        RECORD_TIME\n",
       "0  2021-10-29 18:30\n",
       "1  2021-10-29 18:00"
      ]
     },
     "execution_count": 3,
     "metadata": {},
     "output_type": "execute_result"
    }
   ],
   "source": [
    "timestamps"
   ]
  },
  {
   "cell_type": "code",
   "execution_count": 4,
   "id": "alternate-victory",
   "metadata": {
    "execution": {
     "iopub.execute_input": "2021-10-29T16:30:09.334066Z",
     "iopub.status.busy": "2021-10-29T16:30:09.332123Z",
     "iopub.status.idle": "2021-10-29T16:30:10.309499Z",
     "shell.execute_reply": "2021-10-29T16:30:10.310778Z"
    },
    "papermill": {
     "duration": 1.007069,
     "end_time": "2021-10-29T16:30:10.311174",
     "exception": false,
     "start_time": "2021-10-29T16:30:09.304105",
     "status": "completed"
    },
    "tags": []
   },
   "outputs": [],
   "source": [
    "df = pd.read_sql(\"select * from EBAY_TOP_BERLIN where record_time in (select distinct record_time from EBAY_TOP_BERLIN order by record_time desc limit 2)\", sqlite3.connect(\"UsedObjects.db\"))"
   ]
  },
  {
   "cell_type": "code",
   "execution_count": 5,
   "id": "popular-active",
   "metadata": {
    "execution": {
     "iopub.execute_input": "2021-10-29T16:30:10.374844Z",
     "iopub.status.busy": "2021-10-29T16:30:10.367641Z",
     "iopub.status.idle": "2021-10-29T16:30:10.395349Z",
     "shell.execute_reply": "2021-10-29T16:30:10.396792Z"
    },
    "papermill": {
     "duration": 0.065675,
     "end_time": "2021-10-29T16:30:10.397238",
     "exception": false,
     "start_time": "2021-10-29T16:30:10.331563",
     "status": "completed"
    },
    "tags": []
   },
   "outputs": [],
   "source": [
    "df_pivot = df.pivot_table(index=\"PRODUCT\", columns = \"RECORD_TIME\", values = \"LISTING_COUNT\")"
   ]
  },
  {
   "cell_type": "code",
   "execution_count": 6,
   "id": "union-huntington",
   "metadata": {
    "execution": {
     "iopub.execute_input": "2021-10-29T16:30:10.452587Z",
     "iopub.status.busy": "2021-10-29T16:30:10.450567Z",
     "iopub.status.idle": "2021-10-29T16:30:10.455895Z",
     "shell.execute_reply": "2021-10-29T16:30:10.457234Z"
    },
    "papermill": {
     "duration": 0.040406,
     "end_time": "2021-10-29T16:30:10.457654",
     "exception": false,
     "start_time": "2021-10-29T16:30:10.417248",
     "status": "completed"
    },
    "tags": []
   },
   "outputs": [],
   "source": [
    "df_pivot.columns = [\"stamp_1\", \"stamp_2\"]\n",
    "df_pivot_diff = df_pivot.diff(axis=1)"
   ]
  },
  {
   "cell_type": "code",
   "execution_count": 7,
   "id": "fifth-motion",
   "metadata": {
    "execution": {
     "iopub.execute_input": "2021-10-29T16:30:10.512170Z",
     "iopub.status.busy": "2021-10-29T16:30:10.509836Z",
     "iopub.status.idle": "2021-10-29T16:30:12.006392Z",
     "shell.execute_reply": "2021-10-29T16:30:12.007736Z"
    },
    "papermill": {
     "duration": 1.529354,
     "end_time": "2021-10-29T16:30:12.008211",
     "exception": false,
     "start_time": "2021-10-29T16:30:10.478857",
     "status": "completed"
    },
    "tags": []
   },
   "outputs": [
    {
     "data": {
      "text/plain": [
       "<AxesSubplot:ylabel='PRODUCT'>"
      ]
     },
     "execution_count": 7,
     "metadata": {},
     "output_type": "execute_result"
    },
    {
     "data": {
      "image/png": "[encoded data removed]",
      "text/plain": [
       "<Figure size 432x288 with 1 Axes>"
      ]
     },
     "metadata": {
      "needs_background": "light"
     },
     "output_type": "display_data"
    }
   ],
   "source": [
    "df_pivot_diff.sort_values(\"stamp_2\", ascending = False)[\"stamp_2\"].head(10).plot.barh()"
   ]
  },
  {
   "cell_type": "code",
   "execution_count": null,
   "id": "extra-executive",
   "metadata": {
    "papermill": {
     "duration": 0.022074,
     "end_time": "2021-10-29T16:30:12.055856",
     "exception": false,
     "start_time": "2021-10-29T16:30:12.033782",
     "status": "completed"
    },
    "tags": []
   },
   "outputs": [],
   "source": []
  }
 ],
 "metadata": {
  "kernelspec": {
   "display_name": "Python 3",
   "language": "python",
   "name": "python3"
  },
  "language_info": {
   "codemirror_mode": {
    "name": "ipython",
    "version": 3
   },
   "file_extension": ".py",
   "mimetype": "text/x-python",
   "name": "python",
   "nbconvert_exporter": "python",
   "pygments_lexer": "ipython3",
   "version": "3.9.5"
  },
  "papermill": {
   "default_parameters": {},
   "duration": 7.496582,
   "end_time": "2021-10-29T16:30:12.699182",
   "environment_variables": {},
   "exception": null,
   "input_path": "eBay_Overview.ipynb",
   "output_path": "eBay_Overview.ipynb",
   "parameters": {},
   "start_time": "2021-10-29T16:30:05.202600",
   "version": "2.3.3"
  }
 },
 "nbformat": 4,
 "nbformat_minor": 5
}