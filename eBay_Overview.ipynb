{
 "cells": [
  {
   "cell_type": "code",
   "execution_count": 1,
   "id": "reverse-picking",
   "metadata": {
    "execution": {
     "iopub.execute_input": "2021-10-10T14:30:07.445164Z",
     "iopub.status.busy": "2021-10-10T14:30:07.443238Z",
     "iopub.status.idle": "2021-10-10T14:30:08.249261Z",
     "shell.execute_reply": "2021-10-10T14:30:08.250482Z"
    },
    "papermill": {
     "duration": 0.858994,
     "end_time": "2021-10-10T14:30:08.251172",
     "exception": false,
     "start_time": "2021-10-10T14:30:07.392178",
     "status": "completed"
    },
    "tags": []
   },
   "outputs": [],
   "source": [
    "import pandas as pd\n",
    "import sqlite3"
   ]
  },
  {
   "cell_type": "code",
   "execution_count": 2,
   "id": "innovative-syndrome",
   "metadata": {
    "execution": {
     "iopub.execute_input": "2021-10-10T14:30:08.300643Z",
     "iopub.status.busy": "2021-10-10T14:30:08.298683Z",
     "iopub.status.idle": "2021-10-10T14:30:08.804080Z",
     "shell.execute_reply": "2021-10-10T14:30:08.805180Z"
    },
    "papermill": {
     "duration": 0.534352,
     "end_time": "2021-10-10T14:30:08.805589",
     "exception": false,
     "start_time": "2021-10-10T14:30:08.271237",
     "status": "completed"
    },
    "tags": []
   },
   "outputs": [],
   "source": [
    "timestamps = pd.read_sql(\"select distinct record_time from EBAY_TOP_BERLIN order by record_time desc limit 2\", sqlite3.connect(\"UsedObjects.db\"))"
   ]
  },
  {
   "cell_type": "code",
   "execution_count": 3,
   "id": "periodic-identification",
   "metadata": {
    "execution": {
     "iopub.execute_input": "2021-10-10T14:30:08.873759Z",
     "iopub.status.busy": "2021-10-10T14:30:08.871746Z",
     "iopub.status.idle": "2021-10-10T14:30:08.892011Z",
     "shell.execute_reply": "2021-10-10T14:30:08.893760Z"
    },
    "papermill": {
     "duration": 0.066417,
     "end_time": "2021-10-10T14:30:08.894297",
     "exception": false,
     "start_time": "2021-10-10T14:30:08.827880",
     "status": "completed"
    },
    "tags": []
   },
   "outputs": [
    {
     "data": {
      "text/html": [
       "<div>\n",
       "<style scoped>\n",
       "    .dataframe tbody tr th:only-of-type {\n",
       "        vertical-align: middle;\n",
       "    }\n",
       "\n",
       "    .dataframe tbody tr th {\n",
       "        vertical-align: top;\n",
       "    }\n",
       "\n",
       "    .dataframe thead th {\n",
       "        text-align: right;\n",
       "    }\n",
       "</style>\n",
       "<table border=\"1\" class=\"dataframe\">\n",
       "  <thead>\n",
       "    <tr style=\"text-align: right;\">\n",
       "      <th></th>\n",
       "      <th>RECORD_TIME</th>\n",
       "    </tr>\n",
       "  </thead>\n",
       "  <tbody>\n",
       "    <tr>\n",
       "      <th>0</th>\n",
       "      <td>2021-10-10 16:30</td>\n",
       "    </tr>\n",
       "    <tr>\n",
       "      <th>1</th>\n",
       "      <td>2021-10-10 16:00</td>\n",
       "    </tr>\n",
       "  </tbody>\n",
       "</table>\n",
       "</div>"
      ],
      "text/plain": [
       "        RECORD_TIME\n",
       "0  2021-10-10 16:30\n",
       "1  2021-10-10 16:00"
      ]
     },
     "execution_count": 3,
     "metadata": {},
     "output_type": "execute_result"
    }
   ],
   "source": [
    "timestamps"
   ]
  },
  {
   "cell_type": "code",
   "execution_count": 4,
   "id": "alternate-victory",
   "metadata": {
    "execution": {
     "iopub.execute_input": "2021-10-10T14:30:08.956251Z",
     "iopub.status.busy": "2021-10-10T14:30:08.953784Z",
     "iopub.status.idle": "2021-10-10T14:30:09.702773Z",
     "shell.execute_reply": "2021-10-10T14:30:09.704065Z"
    },
    "papermill": {
     "duration": 0.782684,
     "end_time": "2021-10-10T14:30:09.704464",
     "exception": false,
     "start_time": "2021-10-10T14:30:08.921780",
     "status": "completed"
    },
    "tags": []
   },
   "outputs": [],
   "source": [
    "df = pd.read_sql(\"select * from EBAY_TOP_BERLIN where record_time in (select distinct record_time from EBAY_TOP_BERLIN order by record_time desc limit 2)\", sqlite3.connect(\"UsedObjects.db\"))"
   ]
  },
  {
   "cell_type": "code",
   "execution_count": 5,
   "id": "popular-active",
   "metadata": {
    "execution": {
     "iopub.execute_input": "2021-10-10T14:30:09.779323Z",
     "iopub.status.busy": "2021-10-10T14:30:09.766615Z",
     "iopub.status.idle": "2021-10-10T14:30:09.794892Z",
     "shell.execute_reply": "2021-10-10T14:30:09.796131Z"
    },
    "papermill": {
     "duration": 0.068649,
     "end_time": "2021-10-10T14:30:09.796532",
     "exception": false,
     "start_time": "2021-10-10T14:30:09.727883",
     "status": "completed"
    },
    "tags": []
   },
   "outputs": [],
   "source": [
    "df_pivot = df.pivot_table(index=\"PRODUCT\", columns = \"RECORD_TIME\", values = \"LISTING_COUNT\")"
   ]
  },
  {
   "cell_type": "code",
   "execution_count": 6,
   "id": "union-huntington",
   "metadata": {
    "execution": {
     "iopub.execute_input": "2021-10-10T14:30:09.854916Z",
     "iopub.status.busy": "2021-10-10T14:30:09.852640Z",
     "iopub.status.idle": "2021-10-10T14:30:09.858999Z",
     "shell.execute_reply": "2021-10-10T14:30:09.860704Z"
    },
    "papermill": {
     "duration": 0.042462,
     "end_time": "2021-10-10T14:30:09.861241",
     "exception": false,
     "start_time": "2021-10-10T14:30:09.818779",
     "status": "completed"
    },
    "tags": []
   },
   "outputs": [],
   "source": [
    "df_pivot.columns = [\"stamp_1\", \"stamp_2\"]\n",
    "df_pivot_diff = df_pivot.diff(axis=1)"
   ]
  },
  {
   "cell_type": "code",
   "execution_count": 7,
   "id": "fifth-motion",
   "metadata": {
    "execution": {
     "iopub.execute_input": "2021-10-10T14:30:09.916910Z",
     "iopub.status.busy": "2021-10-10T14:30:09.914448Z",
     "iopub.status.idle": "2021-10-10T14:30:11.424197Z",
     "shell.execute_reply": "2021-10-10T14:30:11.425465Z"
    },
    "papermill": {
     "duration": 1.542285,
     "end_time": "2021-10-10T14:30:11.425883",
     "exception": false,
     "start_time": "2021-10-10T14:30:09.883598",
     "status": "completed"
    },
    "tags": []
   },
   "outputs": [
    {
     "data": {
      "text/plain": [
       "<AxesSubplot:ylabel='PRODUCT'>"
      ]
     },
     "execution_count": 7,
     "metadata": {},
     "output_type": "execute_result"
    },
    {
     "data": {
      "image/png": "[encoded data removed]",
      "text/plain": [
       "<Figure size 432x288 with 1 Axes>"
      ]
     },
     "metadata": {
      "needs_background": "light"
     },
     "output_type": "display_data"
    }
   ],
   "source": [
    "df_pivot_diff.sort_values(\"stamp_2\", ascending = False)[\"stamp_2\"].head(10).plot.barh()"
   ]
  },
  {
   "cell_type": "code",
   "execution_count": null,
   "id": "extra-executive",
   "metadata": {
    "papermill": {
     "duration": 0.021972,
     "end_time": "2021-10-10T14:30:11.471303",
     "exception": false,
     "start_time": "2021-10-10T14:30:11.449331",
     "status": "completed"
    },
    "tags": []
   },
   "outputs": [],
   "source": []
  }
 ],
 "metadata": {
  "kernelspec": {
   "display_name": "Python 3",
   "language": "python",
   "name": "python3"
  },
  "language_info": {
   "codemirror_mode": {
    "name": "ipython",
    "version": 3
   },
   "file_extension": ".py",
   "mimetype": "text/x-python",
   "name": "python",
   "nbconvert_exporter": "python",
   "pygments_lexer": "ipython3",
   "version": "3.9.5"
  },
  "papermill": {
   "default_parameters": {},
   "duration": 7.833322,
   "end_time": "2021-10-10T14:30:12.816676",
   "environment_variables": {},
   "exception": null,
   "input_path": "eBay_Overview.ipynb",
   "output_path": "eBay_Overview.ipynb",
   "parameters": {},
   "start_time": "2021-10-10T14:30:04.983354",
   "version": "2.3.3"
  }
 },
 "nbformat": 4,
 "nbformat_minor": 5
}