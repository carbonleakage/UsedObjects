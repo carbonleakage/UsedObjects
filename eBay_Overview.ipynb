{
 "cells": [
  {
   "cell_type": "code",
   "execution_count": 1,
   "id": "reverse-picking",
   "metadata": {
    "execution": {
     "iopub.execute_input": "2021-09-22T20:30:07.123345Z",
     "iopub.status.busy": "2021-09-22T20:30:07.121312Z",
     "iopub.status.idle": "2021-09-22T20:30:07.927705Z",
     "shell.execute_reply": "2021-09-22T20:30:07.929040Z"
    },
    "papermill": {
     "duration": 0.858075,
     "end_time": "2021-09-22T20:30:07.929677",
     "exception": false,
     "start_time": "2021-09-22T20:30:07.071602",
     "status": "completed"
    },
    "tags": []
   },
   "outputs": [],
   "source": [
    "import pandas as pd\n",
    "import sqlite3"
   ]
  },
  {
   "cell_type": "code",
   "execution_count": 2,
   "id": "innovative-syndrome",
   "metadata": {
    "execution": {
     "iopub.execute_input": "2021-09-22T20:30:07.981476Z",
     "iopub.status.busy": "2021-09-22T20:30:07.979612Z",
     "iopub.status.idle": "2021-09-22T20:30:08.338615Z",
     "shell.execute_reply": "2021-09-22T20:30:08.339888Z"
    },
    "papermill": {
     "duration": 0.388675,
     "end_time": "2021-09-22T20:30:08.340284",
     "exception": false,
     "start_time": "2021-09-22T20:30:07.951609",
     "status": "completed"
    },
    "tags": []
   },
   "outputs": [],
   "source": [
    "timestamps = pd.read_sql(\"select distinct record_time from EBAY_TOP_BERLIN order by record_time desc limit 2\", sqlite3.connect(\"UsedObjects.db\"))"
   ]
  },
  {
   "cell_type": "code",
   "execution_count": 3,
   "id": "periodic-identification",
   "metadata": {
    "execution": {
     "iopub.execute_input": "2021-09-22T20:30:08.407568Z",
     "iopub.status.busy": "2021-09-22T20:30:08.405466Z",
     "iopub.status.idle": "2021-09-22T20:30:08.425481Z",
     "shell.execute_reply": "2021-09-22T20:30:08.426741Z"
    },
    "papermill": {
     "duration": 0.065178,
     "end_time": "2021-09-22T20:30:08.427239",
     "exception": false,
     "start_time": "2021-09-22T20:30:08.362061",
     "status": "completed"
    },
    "tags": []
   },
   "outputs": [
    {
     "data": {
      "text/html": [
       "<div>\n",
       "<style scoped>\n",
       "    .dataframe tbody tr th:only-of-type {\n",
       "        vertical-align: middle;\n",
       "    }\n",
       "\n",
       "    .dataframe tbody tr th {\n",
       "        vertical-align: top;\n",
       "    }\n",
       "\n",
       "    .dataframe thead th {\n",
       "        text-align: right;\n",
       "    }\n",
       "</style>\n",
       "<table border=\"1\" class=\"dataframe\">\n",
       "  <thead>\n",
       "    <tr style=\"text-align: right;\">\n",
       "      <th></th>\n",
       "      <th>RECORD_TIME</th>\n",
       "    </tr>\n",
       "  </thead>\n",
       "  <tbody>\n",
       "    <tr>\n",
       "      <th>0</th>\n",
       "      <td>2021-09-22 22:30</td>\n",
       "    </tr>\n",
       "    <tr>\n",
       "      <th>1</th>\n",
       "      <td>2021-09-22 22:00</td>\n",
       "    </tr>\n",
       "  </tbody>\n",
       "</table>\n",
       "</div>"
      ],
      "text/plain": [
       "        RECORD_TIME\n",
       "0  2021-09-22 22:30\n",
       "1  2021-09-22 22:00"
      ]
     },
     "execution_count": 3,
     "metadata": {},
     "output_type": "execute_result"
    }
   ],
   "source": [
    "timestamps"
   ]
  },
  {
   "cell_type": "code",
   "execution_count": 4,
   "id": "alternate-victory",
   "metadata": {
    "execution": {
     "iopub.execute_input": "2021-09-22T20:30:08.478680Z",
     "iopub.status.busy": "2021-09-22T20:30:08.476853Z",
     "iopub.status.idle": "2021-09-22T20:30:08.988280Z",
     "shell.execute_reply": "2021-09-22T20:30:08.989504Z"
    },
    "papermill": {
     "duration": 0.541296,
     "end_time": "2021-09-22T20:30:08.989904",
     "exception": false,
     "start_time": "2021-09-22T20:30:08.448608",
     "status": "completed"
    },
    "tags": []
   },
   "outputs": [],
   "source": [
    "df = pd.read_sql(\"select * from EBAY_TOP_BERLIN where record_time in (select distinct record_time from EBAY_TOP_BERLIN order by record_time desc limit 2)\", sqlite3.connect(\"UsedObjects.db\"))"
   ]
  },
  {
   "cell_type": "code",
   "execution_count": 5,
   "id": "popular-active",
   "metadata": {
    "execution": {
     "iopub.execute_input": "2021-09-22T20:30:09.060013Z",
     "iopub.status.busy": "2021-09-22T20:30:09.053070Z",
     "iopub.status.idle": "2021-09-22T20:30:09.076548Z",
     "shell.execute_reply": "2021-09-22T20:30:09.077908Z"
    },
    "papermill": {
     "duration": 0.068022,
     "end_time": "2021-09-22T20:30:09.078339",
     "exception": false,
     "start_time": "2021-09-22T20:30:09.010317",
     "status": "completed"
    },
    "tags": []
   },
   "outputs": [],
   "source": [
    "df_pivot = df.pivot_table(index=\"PRODUCT\", columns = \"RECORD_TIME\", values = \"LISTING_COUNT\")"
   ]
  },
  {
   "cell_type": "code",
   "execution_count": 6,
   "id": "union-huntington",
   "metadata": {
    "execution": {
     "iopub.execute_input": "2021-09-22T20:30:09.134859Z",
     "iopub.status.busy": "2021-09-22T20:30:09.132774Z",
     "iopub.status.idle": "2021-09-22T20:30:09.138191Z",
     "shell.execute_reply": "2021-09-22T20:30:09.139552Z"
    },
    "papermill": {
     "duration": 0.041366,
     "end_time": "2021-09-22T20:30:09.139969",
     "exception": false,
     "start_time": "2021-09-22T20:30:09.098603",
     "status": "completed"
    },
    "tags": []
   },
   "outputs": [],
   "source": [
    "df_pivot.columns = [\"stamp_1\", \"stamp_2\"]\n",
    "df_pivot_diff = df_pivot.diff(axis=1)"
   ]
  },
  {
   "cell_type": "code",
   "execution_count": 7,
   "id": "fifth-motion",
   "metadata": {
    "execution": {
     "iopub.execute_input": "2021-09-22T20:30:09.193731Z",
     "iopub.status.busy": "2021-09-22T20:30:09.191351Z",
     "iopub.status.idle": "2021-09-22T20:30:10.653421Z",
     "shell.execute_reply": "2021-09-22T20:30:10.654846Z"
    },
    "papermill": {
     "duration": 1.494821,
     "end_time": "2021-09-22T20:30:10.655293",
     "exception": false,
     "start_time": "2021-09-22T20:30:09.160472",
     "status": "completed"
    },
    "tags": []
   },
   "outputs": [
    {
     "data": {
      "text/plain": [
       "<AxesSubplot:ylabel='PRODUCT'>"
      ]
     },
     "execution_count": 7,
     "metadata": {},
     "output_type": "execute_result"
    },
    {
     "data": {
      "image/png": "[encoded data removed]",
      "text/plain": [
       "<Figure size 432x288 with 1 Axes>"
      ]
     },
     "metadata": {
      "needs_background": "light"
     },
     "output_type": "display_data"
    }
   ],
   "source": [
    "df_pivot_diff.sort_values(\"stamp_2\", ascending = False)[\"stamp_2\"].head(10).plot.barh()"
   ]
  },
  {
   "cell_type": "code",
   "execution_count": null,
   "id": "extra-executive",
   "metadata": {
    "papermill": {
     "duration": 0.02229,
     "end_time": "2021-09-22T20:30:10.702425",
     "exception": false,
     "start_time": "2021-09-22T20:30:10.680135",
     "status": "completed"
    },
    "tags": []
   },
   "outputs": [],
   "source": []
  }
 ],
 "metadata": {
  "kernelspec": {
   "display_name": "Python 3",
   "language": "python",
   "name": "python3"
  },
  "language_info": {
   "codemirror_mode": {
    "name": "ipython",
    "version": 3
   },
   "file_extension": ".py",
   "mimetype": "text/x-python",
   "name": "python",
   "nbconvert_exporter": "python",
   "pygments_lexer": "ipython3",
   "version": "3.9.5"
  },
  "papermill": {
   "default_parameters": {},
   "duration": 6.676311,
   "end_time": "2021-09-22T20:30:11.345512",
   "environment_variables": {},
   "exception": null,
   "input_path": "eBay_Overview.ipynb",
   "output_path": "eBay_Overview.ipynb",
   "parameters": {},
   "start_time": "2021-09-22T20:30:04.669201",
   "version": "2.3.3"
  }
 },
 "nbformat": 4,
 "nbformat_minor": 5
}