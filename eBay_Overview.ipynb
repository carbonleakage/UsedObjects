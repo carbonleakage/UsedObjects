{
 "cells": [
  {
   "cell_type": "code",
   "execution_count": 1,
   "id": "reverse-picking",
   "metadata": {
    "execution": {
     "iopub.execute_input": "2021-12-02T22:30:07.709846Z",
     "iopub.status.busy": "2021-12-02T22:30:07.706939Z",
     "iopub.status.idle": "2021-12-02T22:30:08.661227Z",
     "shell.execute_reply": "2021-12-02T22:30:08.662685Z"
    },
    "papermill": {
     "duration": 1.004991,
     "end_time": "2021-12-02T22:30:08.663356",
     "exception": false,
     "start_time": "2021-12-02T22:30:07.658365",
     "status": "completed"
    },
    "tags": []
   },
   "outputs": [],
   "source": [
    "import pandas as pd\n",
    "import sqlite3"
   ]
  },
  {
   "cell_type": "code",
   "execution_count": 2,
   "id": "innovative-syndrome",
   "metadata": {
    "execution": {
     "iopub.execute_input": "2021-12-02T22:30:08.786483Z",
     "iopub.status.busy": "2021-12-02T22:30:08.783847Z",
     "iopub.status.idle": "2021-12-02T22:30:09.762417Z",
     "shell.execute_reply": "2021-12-02T22:30:09.763796Z"
    },
    "papermill": {
     "duration": 1.01263,
     "end_time": "2021-12-02T22:30:09.764276",
     "exception": false,
     "start_time": "2021-12-02T22:30:08.751646",
     "status": "completed"
    },
    "tags": []
   },
   "outputs": [],
   "source": [
    "timestamps = pd.read_sql(\"select distinct record_time from EBAY_TOP_BERLIN order by record_time desc limit 2\", sqlite3.connect(\"UsedObjects.db\"))"
   ]
  },
  {
   "cell_type": "code",
   "execution_count": 3,
   "id": "periodic-identification",
   "metadata": {
    "execution": {
     "iopub.execute_input": "2021-12-02T22:30:09.836826Z",
     "iopub.status.busy": "2021-12-02T22:30:09.834528Z",
     "iopub.status.idle": "2021-12-02T22:30:09.861980Z",
     "shell.execute_reply": "2021-12-02T22:30:09.860517Z"
    },
    "papermill": {
     "duration": 0.078257,
     "end_time": "2021-12-02T22:30:09.862332",
     "exception": false,
     "start_time": "2021-12-02T22:30:09.784075",
     "status": "completed"
    },
    "tags": []
   },
   "outputs": [
    {
     "data": {
      "text/html": [
       "<div>\n",
       "<style scoped>\n",
       "    .dataframe tbody tr th:only-of-type {\n",
       "        vertical-align: middle;\n",
       "    }\n",
       "\n",
       "    .dataframe tbody tr th {\n",
       "        vertical-align: top;\n",
       "    }\n",
       "\n",
       "    .dataframe thead th {\n",
       "        text-align: right;\n",
       "    }\n",
       "</style>\n",
       "<table border=\"1\" class=\"dataframe\">\n",
       "  <thead>\n",
       "    <tr style=\"text-align: right;\">\n",
       "      <th></th>\n",
       "      <th>RECORD_TIME</th>\n",
       "    </tr>\n",
       "  </thead>\n",
       "  <tbody>\n",
       "    <tr>\n",
       "      <th>0</th>\n",
       "      <td>2021-12-02 23:30</td>\n",
       "    </tr>\n",
       "    <tr>\n",
       "      <th>1</th>\n",
       "      <td>2021-12-02 23:00</td>\n",
       "    </tr>\n",
       "  </tbody>\n",
       "</table>\n",
       "</div>"
      ],
      "text/plain": [
       "        RECORD_TIME\n",
       "0  2021-12-02 23:30\n",
       "1  2021-12-02 23:00"
      ]
     },
     "execution_count": 3,
     "metadata": {},
     "output_type": "execute_result"
    }
   ],
   "source": [
    "timestamps"
   ]
  },
  {
   "cell_type": "code",
   "execution_count": 4,
   "id": "alternate-victory",
   "metadata": {
    "execution": {
     "iopub.execute_input": "2021-12-02T22:30:09.916752Z",
     "iopub.status.busy": "2021-12-02T22:30:09.914394Z",
     "iopub.status.idle": "2021-12-02T22:30:11.313795Z",
     "shell.execute_reply": "2021-12-02T22:30:11.315582Z"
    },
    "papermill": {
     "duration": 1.430461,
     "end_time": "2021-12-02T22:30:11.316026",
     "exception": false,
     "start_time": "2021-12-02T22:30:09.885565",
     "status": "completed"
    },
    "tags": []
   },
   "outputs": [],
   "source": [
    "df = pd.read_sql(\"select * from EBAY_TOP_BERLIN where record_time in (select distinct record_time from EBAY_TOP_BERLIN order by record_time desc limit 2)\", sqlite3.connect(\"UsedObjects.db\"))"
   ]
  },
  {
   "cell_type": "code",
   "execution_count": 5,
   "id": "popular-active",
   "metadata": {
    "execution": {
     "iopub.execute_input": "2021-12-02T22:30:11.391196Z",
     "iopub.status.busy": "2021-12-02T22:30:11.377899Z",
     "iopub.status.idle": "2021-12-02T22:30:11.412929Z",
     "shell.execute_reply": "2021-12-02T22:30:11.415329Z"
    },
    "papermill": {
     "duration": 0.078787,
     "end_time": "2021-12-02T22:30:11.416122",
     "exception": false,
     "start_time": "2021-12-02T22:30:11.337335",
     "status": "completed"
    },
    "tags": []
   },
   "outputs": [],
   "source": [
    "df_pivot = df.pivot_table(index=\"PRODUCT\", columns = \"RECORD_TIME\", values = \"LISTING_COUNT\")"
   ]
  },
  {
   "cell_type": "code",
   "execution_count": 6,
   "id": "union-huntington",
   "metadata": {
    "execution": {
     "iopub.execute_input": "2021-12-02T22:30:11.478095Z",
     "iopub.status.busy": "2021-12-02T22:30:11.474467Z",
     "iopub.status.idle": "2021-12-02T22:30:11.491502Z",
     "shell.execute_reply": "2021-12-02T22:30:11.489617Z"
    },
    "papermill": {
     "duration": 0.05364,
     "end_time": "2021-12-02T22:30:11.491976",
     "exception": false,
     "start_time": "2021-12-02T22:30:11.438336",
     "status": "completed"
    },
    "tags": []
   },
   "outputs": [],
   "source": [
    "df_pivot.columns = [\"stamp_1\", \"stamp_2\"]\n",
    "df_pivot_diff = df_pivot.diff(axis=1)"
   ]
  },
  {
   "cell_type": "code",
   "execution_count": 7,
   "id": "fifth-motion",
   "metadata": {
    "execution": {
     "iopub.execute_input": "2021-12-02T22:30:11.553173Z",
     "iopub.status.busy": "2021-12-02T22:30:11.550593Z",
     "iopub.status.idle": "2021-12-02T22:30:13.475152Z",
     "shell.execute_reply": "2021-12-02T22:30:13.477113Z"
    },
    "papermill": {
     "duration": 1.963235,
     "end_time": "2021-12-02T22:30:13.477715",
     "exception": false,
     "start_time": "2021-12-02T22:30:11.514480",
     "status": "completed"
    },
    "tags": []
   },
   "outputs": [
    {
     "data": {
      "text/plain": [
       "<AxesSubplot:ylabel='PRODUCT'>"
      ]
     },
     "execution_count": 7,
     "metadata": {},
     "output_type": "execute_result"
    },
    {
     "data": {
      "image/png": "[encoded data removed]",
      "text/plain": [
       "<Figure size 432x288 with 1 Axes>"
      ]
     },
     "metadata": {
      "needs_background": "light"
     },
     "output_type": "display_data"
    }
   ],
   "source": [
    "df_pivot_diff.sort_values(\"stamp_2\", ascending = False)[\"stamp_2\"].head(10).plot.barh()"
   ]
  },
  {
   "cell_type": "code",
   "execution_count": null,
   "id": "extra-executive",
   "metadata": {
    "papermill": {
     "duration": 0.032774,
     "end_time": "2021-12-02T22:30:13.538855",
     "exception": false,
     "start_time": "2021-12-02T22:30:13.506081",
     "status": "completed"
    },
    "tags": []
   },
   "outputs": [],
   "source": []
  }
 ],
 "metadata": {
  "kernelspec": {
   "display_name": "Python 3",
   "language": "python",
   "name": "python3"
  },
  "language_info": {
   "codemirror_mode": {
    "name": "ipython",
    "version": 3
   },
   "file_extension": ".py",
   "mimetype": "text/x-python",
   "name": "python",
   "nbconvert_exporter": "python",
   "pygments_lexer": "ipython3",
   "version": "3.9.5"
  },
  "papermill": {
   "default_parameters": {},
   "duration": 11.95748,
   "end_time": "2021-12-02T22:30:16.865324",
   "environment_variables": {},
   "exception": null,
   "input_path": "eBay_Overview.ipynb",
   "output_path": "eBay_Overview.ipynb",
   "parameters": {},
   "start_time": "2021-12-02T22:30:04.907844",
   "version": "2.3.3"
  }
 },
 "nbformat": 4,
 "nbformat_minor": 5
}