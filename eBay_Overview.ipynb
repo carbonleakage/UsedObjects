{
 "cells": [
  {
   "cell_type": "code",
   "execution_count": 1,
   "id": "reverse-picking",
   "metadata": {
    "execution": {
     "iopub.execute_input": "2021-12-18T18:00:07.591313Z",
     "iopub.status.busy": "2021-12-18T18:00:07.588974Z",
     "iopub.status.idle": "2021-12-18T18:00:08.542128Z",
     "shell.execute_reply": "2021-12-18T18:00:08.543984Z"
    },
    "papermill": {
     "duration": 1.004365,
     "end_time": "2021-12-18T18:00:08.544899",
     "exception": false,
     "start_time": "2021-12-18T18:00:07.540534",
     "status": "completed"
    },
    "tags": []
   },
   "outputs": [],
   "source": [
    "import pandas as pd\n",
    "import sqlite3"
   ]
  },
  {
   "cell_type": "code",
   "execution_count": 2,
   "id": "innovative-syndrome",
   "metadata": {
    "execution": {
     "iopub.execute_input": "2021-12-18T18:00:08.640039Z",
     "iopub.status.busy": "2021-12-18T18:00:08.637877Z",
     "iopub.status.idle": "2021-12-18T18:00:09.764273Z",
     "shell.execute_reply": "2021-12-18T18:00:09.766976Z"
    },
    "papermill": {
     "duration": 1.161385,
     "end_time": "2021-12-18T18:00:09.767453",
     "exception": false,
     "start_time": "2021-12-18T18:00:08.606068",
     "status": "completed"
    },
    "tags": []
   },
   "outputs": [],
   "source": [
    "timestamps = pd.read_sql(\"select distinct record_time from EBAY_TOP_BERLIN order by record_time desc limit 2\", sqlite3.connect(\"UsedObjects.db\"))"
   ]
  },
  {
   "cell_type": "code",
   "execution_count": 3,
   "id": "periodic-identification",
   "metadata": {
    "execution": {
     "iopub.execute_input": "2021-12-18T18:00:09.822557Z",
     "iopub.status.busy": "2021-12-18T18:00:09.820849Z",
     "iopub.status.idle": "2021-12-18T18:00:09.870005Z",
     "shell.execute_reply": "2021-12-18T18:00:09.871707Z"
    },
    "papermill": {
     "duration": 0.084152,
     "end_time": "2021-12-18T18:00:09.872238",
     "exception": false,
     "start_time": "2021-12-18T18:00:09.788086",
     "status": "completed"
    },
    "tags": []
   },
   "outputs": [
    {
     "data": {
      "text/html": [
       "<div>\n",
       "<style scoped>\n",
       "    .dataframe tbody tr th:only-of-type {\n",
       "        vertical-align: middle;\n",
       "    }\n",
       "\n",
       "    .dataframe tbody tr th {\n",
       "        vertical-align: top;\n",
       "    }\n",
       "\n",
       "    .dataframe thead th {\n",
       "        text-align: right;\n",
       "    }\n",
       "</style>\n",
       "<table border=\"1\" class=\"dataframe\">\n",
       "  <thead>\n",
       "    <tr style=\"text-align: right;\">\n",
       "      <th></th>\n",
       "      <th>RECORD_TIME</th>\n",
       "    </tr>\n",
       "  </thead>\n",
       "  <tbody>\n",
       "    <tr>\n",
       "      <th>0</th>\n",
       "      <td>2021-12-18 19:00</td>\n",
       "    </tr>\n",
       "    <tr>\n",
       "      <th>1</th>\n",
       "      <td>2021-12-18 18:30</td>\n",
       "    </tr>\n",
       "  </tbody>\n",
       "</table>\n",
       "</div>"
      ],
      "text/plain": [
       "        RECORD_TIME\n",
       "0  2021-12-18 19:00\n",
       "1  2021-12-18 18:30"
      ]
     },
     "execution_count": 3,
     "metadata": {},
     "output_type": "execute_result"
    }
   ],
   "source": [
    "timestamps"
   ]
  },
  {
   "cell_type": "code",
   "execution_count": 4,
   "id": "alternate-victory",
   "metadata": {
    "execution": {
     "iopub.execute_input": "2021-12-18T18:00:09.928642Z",
     "iopub.status.busy": "2021-12-18T18:00:09.926346Z",
     "iopub.status.idle": "2021-12-18T18:00:11.562144Z",
     "shell.execute_reply": "2021-12-18T18:00:11.564208Z"
    },
    "papermill": {
     "duration": 1.669939,
     "end_time": "2021-12-18T18:00:11.564673",
     "exception": false,
     "start_time": "2021-12-18T18:00:09.894734",
     "status": "completed"
    },
    "tags": []
   },
   "outputs": [],
   "source": [
    "df = pd.read_sql(\"select * from EBAY_TOP_BERLIN where record_time in (select distinct record_time from EBAY_TOP_BERLIN order by record_time desc limit 2)\", sqlite3.connect(\"UsedObjects.db\"))"
   ]
  },
  {
   "cell_type": "code",
   "execution_count": 5,
   "id": "popular-active",
   "metadata": {
    "execution": {
     "iopub.execute_input": "2021-12-18T18:00:11.630765Z",
     "iopub.status.busy": "2021-12-18T18:00:11.627760Z",
     "iopub.status.idle": "2021-12-18T18:00:11.663104Z",
     "shell.execute_reply": "2021-12-18T18:00:11.661526Z"
    },
    "papermill": {
     "duration": 0.07714,
     "end_time": "2021-12-18T18:00:11.663486",
     "exception": false,
     "start_time": "2021-12-18T18:00:11.586346",
     "status": "completed"
    },
    "tags": []
   },
   "outputs": [],
   "source": [
    "df_pivot = df.pivot_table(index=\"PRODUCT\", columns = \"RECORD_TIME\", values = \"LISTING_COUNT\")"
   ]
  },
  {
   "cell_type": "code",
   "execution_count": 6,
   "id": "union-huntington",
   "metadata": {
    "execution": {
     "iopub.execute_input": "2021-12-18T18:00:11.722389Z",
     "iopub.status.busy": "2021-12-18T18:00:11.720161Z",
     "iopub.status.idle": "2021-12-18T18:00:11.725347Z",
     "shell.execute_reply": "2021-12-18T18:00:11.727189Z"
    },
    "papermill": {
     "duration": 0.044429,
     "end_time": "2021-12-18T18:00:11.727665",
     "exception": false,
     "start_time": "2021-12-18T18:00:11.683236",
     "status": "completed"
    },
    "tags": []
   },
   "outputs": [],
   "source": [
    "df_pivot.columns = [\"stamp_1\", \"stamp_2\"]\n",
    "df_pivot_diff = df_pivot.diff(axis=1)"
   ]
  },
  {
   "cell_type": "code",
   "execution_count": 7,
   "id": "fifth-motion",
   "metadata": {
    "execution": {
     "iopub.execute_input": "2021-12-18T18:00:11.785041Z",
     "iopub.status.busy": "2021-12-18T18:00:11.782407Z",
     "iopub.status.idle": "2021-12-18T18:00:13.761884Z",
     "shell.execute_reply": "2021-12-18T18:00:13.763290Z"
    },
    "papermill": {
     "duration": 2.015752,
     "end_time": "2021-12-18T18:00:13.763714",
     "exception": false,
     "start_time": "2021-12-18T18:00:11.747962",
     "status": "completed"
    },
    "tags": []
   },
   "outputs": [
    {
     "data": {
      "text/plain": [
       "<AxesSubplot:ylabel='PRODUCT'>"
      ]
     },
     "execution_count": 7,
     "metadata": {},
     "output_type": "execute_result"
    },
    {
     "data": {
      "image/png": "[encoded data removed]",
      "text/plain": [
       "<Figure size 432x288 with 1 Axes>"
      ]
     },
     "metadata": {
      "needs_background": "light"
     },
     "output_type": "display_data"
    }
   ],
   "source": [
    "df_pivot_diff.sort_values(\"stamp_2\", ascending = False)[\"stamp_2\"].head(10).plot.barh()"
   ]
  },
  {
   "cell_type": "code",
   "execution_count": null,
   "id": "extra-executive",
   "metadata": {
    "papermill": {
     "duration": 0.021822,
     "end_time": "2021-12-18T18:00:13.811016",
     "exception": false,
     "start_time": "2021-12-18T18:00:13.789194",
     "status": "completed"
    },
    "tags": []
   },
   "outputs": [],
   "source": []
  }
 ],
 "metadata": {
  "kernelspec": {
   "display_name": "Python 3",
   "language": "python",
   "name": "python3"
  },
  "language_info": {
   "codemirror_mode": {
    "name": "ipython",
    "version": 3
   },
   "file_extension": ".py",
   "mimetype": "text/x-python",
   "name": "python",
   "nbconvert_exporter": "python",
   "pygments_lexer": "ipython3",
   "version": "3.9.5"
  },
  "papermill": {
   "default_parameters": {},
   "duration": 9.671537,
   "end_time": "2021-12-18T18:00:14.453171",
   "environment_variables": {},
   "exception": null,
   "input_path": "eBay_Overview.ipynb",
   "output_path": "eBay_Overview.ipynb",
   "parameters": {},
   "start_time": "2021-12-18T18:00:04.781634",
   "version": "2.3.3"
  }
 },
 "nbformat": 4,
 "nbformat_minor": 5
}