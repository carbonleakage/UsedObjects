{
 "cells": [
  {
   "cell_type": "code",
   "execution_count": 1,
   "id": "reverse-picking",
   "metadata": {
    "execution": {
     "iopub.execute_input": "2021-09-11T08:30:07.120788Z",
     "iopub.status.busy": "2021-09-11T08:30:07.118735Z",
     "iopub.status.idle": "2021-09-11T08:30:07.929774Z",
     "shell.execute_reply": "2021-09-11T08:30:07.928203Z"
    },
    "papermill": {
     "duration": 0.862615,
     "end_time": "2021-09-11T08:30:07.930165",
     "exception": false,
     "start_time": "2021-09-11T08:30:07.067550",
     "status": "completed"
    },
    "tags": []
   },
   "outputs": [],
   "source": [
    "import pandas as pd\n",
    "import sqlite3"
   ]
  },
  {
   "cell_type": "code",
   "execution_count": 2,
   "id": "innovative-syndrome",
   "metadata": {
    "execution": {
     "iopub.execute_input": "2021-09-11T08:30:07.983636Z",
     "iopub.status.busy": "2021-09-11T08:30:07.981214Z",
     "iopub.status.idle": "2021-09-11T08:30:08.238535Z",
     "shell.execute_reply": "2021-09-11T08:30:08.239812Z"
    },
    "papermill": {
     "duration": 0.287588,
     "end_time": "2021-09-11T08:30:08.240216",
     "exception": false,
     "start_time": "2021-09-11T08:30:07.952628",
     "status": "completed"
    },
    "tags": []
   },
   "outputs": [],
   "source": [
    "timestamps = pd.read_sql(\"select distinct record_time from EBAY_TOP_BERLIN order by record_time desc limit 2\", sqlite3.connect(\"UsedObjects.db\"))"
   ]
  },
  {
   "cell_type": "code",
   "execution_count": 3,
   "id": "periodic-identification",
   "metadata": {
    "execution": {
     "iopub.execute_input": "2021-09-11T08:30:08.304869Z",
     "iopub.status.busy": "2021-09-11T08:30:08.302685Z",
     "iopub.status.idle": "2021-09-11T08:30:08.323330Z",
     "shell.execute_reply": "2021-09-11T08:30:08.324667Z"
    },
    "papermill": {
     "duration": 0.065149,
     "end_time": "2021-09-11T08:30:08.325066",
     "exception": false,
     "start_time": "2021-09-11T08:30:08.259917",
     "status": "completed"
    },
    "tags": []
   },
   "outputs": [
    {
     "data": {
      "text/html": [
       "<div>\n",
       "<style scoped>\n",
       "    .dataframe tbody tr th:only-of-type {\n",
       "        vertical-align: middle;\n",
       "    }\n",
       "\n",
       "    .dataframe tbody tr th {\n",
       "        vertical-align: top;\n",
       "    }\n",
       "\n",
       "    .dataframe thead th {\n",
       "        text-align: right;\n",
       "    }\n",
       "</style>\n",
       "<table border=\"1\" class=\"dataframe\">\n",
       "  <thead>\n",
       "    <tr style=\"text-align: right;\">\n",
       "      <th></th>\n",
       "      <th>RECORD_TIME</th>\n",
       "    </tr>\n",
       "  </thead>\n",
       "  <tbody>\n",
       "    <tr>\n",
       "      <th>0</th>\n",
       "      <td>2021-09-11 10:30</td>\n",
       "    </tr>\n",
       "    <tr>\n",
       "      <th>1</th>\n",
       "      <td>2021-09-11 10:00</td>\n",
       "    </tr>\n",
       "  </tbody>\n",
       "</table>\n",
       "</div>"
      ],
      "text/plain": [
       "        RECORD_TIME\n",
       "0  2021-09-11 10:30\n",
       "1  2021-09-11 10:00"
      ]
     },
     "execution_count": 3,
     "metadata": {},
     "output_type": "execute_result"
    }
   ],
   "source": [
    "timestamps"
   ]
  },
  {
   "cell_type": "code",
   "execution_count": 4,
   "id": "alternate-victory",
   "metadata": {
    "execution": {
     "iopub.execute_input": "2021-09-11T08:30:08.378263Z",
     "iopub.status.busy": "2021-09-11T08:30:08.375977Z",
     "iopub.status.idle": "2021-09-11T08:30:08.756094Z",
     "shell.execute_reply": "2021-09-11T08:30:08.757473Z"
    },
    "papermill": {
     "duration": 0.410953,
     "end_time": "2021-09-11T08:30:08.757907",
     "exception": false,
     "start_time": "2021-09-11T08:30:08.346954",
     "status": "completed"
    },
    "tags": []
   },
   "outputs": [],
   "source": [
    "df = pd.read_sql(\"select * from EBAY_TOP_BERLIN where record_time in (select distinct record_time from EBAY_TOP_BERLIN order by record_time desc limit 2)\", sqlite3.connect(\"UsedObjects.db\"))"
   ]
  },
  {
   "cell_type": "code",
   "execution_count": 5,
   "id": "popular-active",
   "metadata": {
    "execution": {
     "iopub.execute_input": "2021-09-11T08:30:08.824437Z",
     "iopub.status.busy": "2021-09-11T08:30:08.816763Z",
     "iopub.status.idle": "2021-09-11T08:30:08.846225Z",
     "shell.execute_reply": "2021-09-11T08:30:08.847680Z"
    },
    "papermill": {
     "duration": 0.069134,
     "end_time": "2021-09-11T08:30:08.848095",
     "exception": false,
     "start_time": "2021-09-11T08:30:08.778961",
     "status": "completed"
    },
    "tags": []
   },
   "outputs": [],
   "source": [
    "df_pivot = df.pivot_table(index=\"PRODUCT\", columns = \"RECORD_TIME\", values = \"LISTING_COUNT\")"
   ]
  },
  {
   "cell_type": "code",
   "execution_count": 6,
   "id": "union-huntington",
   "metadata": {
    "execution": {
     "iopub.execute_input": "2021-09-11T08:30:08.907226Z",
     "iopub.status.busy": "2021-09-11T08:30:08.904702Z",
     "iopub.status.idle": "2021-09-11T08:30:08.910379Z",
     "shell.execute_reply": "2021-09-11T08:30:08.911642Z"
    },
    "papermill": {
     "duration": 0.042565,
     "end_time": "2021-09-11T08:30:08.912080",
     "exception": false,
     "start_time": "2021-09-11T08:30:08.869515",
     "status": "completed"
    },
    "tags": []
   },
   "outputs": [],
   "source": [
    "df_pivot.columns = [\"stamp_1\", \"stamp_2\"]\n",
    "df_pivot_diff = df_pivot.diff(axis=1)"
   ]
  },
  {
   "cell_type": "code",
   "execution_count": 7,
   "id": "fifth-motion",
   "metadata": {
    "execution": {
     "iopub.execute_input": "2021-09-11T08:30:08.966023Z",
     "iopub.status.busy": "2021-09-11T08:30:08.963720Z",
     "iopub.status.idle": "2021-09-11T08:30:10.431070Z",
     "shell.execute_reply": "2021-09-11T08:30:10.432442Z"
    },
    "papermill": {
     "duration": 1.500731,
     "end_time": "2021-09-11T08:30:10.432882",
     "exception": false,
     "start_time": "2021-09-11T08:30:08.932151",
     "status": "completed"
    },
    "tags": []
   },
   "outputs": [
    {
     "data": {
      "text/plain": [
       "<AxesSubplot:ylabel='PRODUCT'>"
      ]
     },
     "execution_count": 7,
     "metadata": {},
     "output_type": "execute_result"
    },
    {
     "data": {
      "image/png": "[encoded data removed]",
      "text/plain": [
       "<Figure size 432x288 with 1 Axes>"
      ]
     },
     "metadata": {
      "needs_background": "light"
     },
     "output_type": "display_data"
    }
   ],
   "source": [
    "df_pivot_diff.sort_values(\"stamp_2\", ascending = False)[\"stamp_2\"].head(10).plot.barh()"
   ]
  },
  {
   "cell_type": "code",
   "execution_count": null,
   "id": "extra-executive",
   "metadata": {
    "papermill": {
     "duration": 0.022624,
     "end_time": "2021-09-11T08:30:10.480277",
     "exception": false,
     "start_time": "2021-09-11T08:30:10.457653",
     "status": "completed"
    },
    "tags": []
   },
   "outputs": [],
   "source": []
  }
 ],
 "metadata": {
  "kernelspec": {
   "display_name": "Python 3",
   "language": "python",
   "name": "python3"
  },
  "language_info": {
   "codemirror_mode": {
    "name": "ipython",
    "version": 3
   },
   "file_extension": ".py",
   "mimetype": "text/x-python",
   "name": "python",
   "nbconvert_exporter": "python",
   "pygments_lexer": "ipython3",
   "version": "3.9.5"
  },
  "papermill": {
   "default_parameters": {},
   "duration": 6.471945,
   "end_time": "2021-09-11T08:30:11.121740",
   "environment_variables": {},
   "exception": null,
   "input_path": "eBay_Overview.ipynb",
   "output_path": "eBay_Overview.ipynb",
   "parameters": {},
   "start_time": "2021-09-11T08:30:04.649795",
   "version": "2.3.3"
  }
 },
 "nbformat": 4,
 "nbformat_minor": 5
}