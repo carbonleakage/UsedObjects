{
 "cells": [
  {
   "cell_type": "code",
   "execution_count": 1,
   "id": "reverse-picking",
   "metadata": {
    "execution": {
     "iopub.execute_input": "2021-11-11T20:00:07.633230Z",
     "iopub.status.busy": "2021-11-11T20:00:07.622176Z",
     "iopub.status.idle": "2021-11-11T20:00:08.593322Z",
     "shell.execute_reply": "2021-11-11T20:00:08.594843Z"
    },
    "papermill": {
     "duration": 1.008302,
     "end_time": "2021-11-11T20:00:08.595590",
     "exception": false,
     "start_time": "2021-11-11T20:00:07.587288",
     "status": "completed"
    },
    "tags": []
   },
   "outputs": [],
   "source": [
    "import pandas as pd\n",
    "import sqlite3"
   ]
  },
  {
   "cell_type": "code",
   "execution_count": 2,
   "id": "innovative-syndrome",
   "metadata": {
    "execution": {
     "iopub.execute_input": "2021-11-11T20:00:08.657110Z",
     "iopub.status.busy": "2021-11-11T20:00:08.654774Z",
     "iopub.status.idle": "2021-11-11T20:00:09.449665Z",
     "shell.execute_reply": "2021-11-11T20:00:09.451137Z"
    },
    "papermill": {
     "duration": 0.828531,
     "end_time": "2021-11-11T20:00:09.451594",
     "exception": false,
     "start_time": "2021-11-11T20:00:08.623063",
     "status": "completed"
    },
    "tags": []
   },
   "outputs": [],
   "source": [
    "timestamps = pd.read_sql(\"select distinct record_time from EBAY_TOP_BERLIN order by record_time desc limit 2\", sqlite3.connect(\"UsedObjects.db\"))"
   ]
  },
  {
   "cell_type": "code",
   "execution_count": 3,
   "id": "periodic-identification",
   "metadata": {
    "execution": {
     "iopub.execute_input": "2021-11-11T20:00:09.520593Z",
     "iopub.status.busy": "2021-11-11T20:00:09.518067Z",
     "iopub.status.idle": "2021-11-11T20:00:09.540645Z",
     "shell.execute_reply": "2021-11-11T20:00:09.542624Z"
    },
    "papermill": {
     "duration": 0.072374,
     "end_time": "2021-11-11T20:00:09.543136",
     "exception": false,
     "start_time": "2021-11-11T20:00:09.470762",
     "status": "completed"
    },
    "tags": []
   },
   "outputs": [
    {
     "data": {
      "text/html": [
       "<div>\n",
       "<style scoped>\n",
       "    .dataframe tbody tr th:only-of-type {\n",
       "        vertical-align: middle;\n",
       "    }\n",
       "\n",
       "    .dataframe tbody tr th {\n",
       "        vertical-align: top;\n",
       "    }\n",
       "\n",
       "    .dataframe thead th {\n",
       "        text-align: right;\n",
       "    }\n",
       "</style>\n",
       "<table border=\"1\" class=\"dataframe\">\n",
       "  <thead>\n",
       "    <tr style=\"text-align: right;\">\n",
       "      <th></th>\n",
       "      <th>RECORD_TIME</th>\n",
       "    </tr>\n",
       "  </thead>\n",
       "  <tbody>\n",
       "    <tr>\n",
       "      <th>0</th>\n",
       "      <td>2021-11-11 21:00</td>\n",
       "    </tr>\n",
       "    <tr>\n",
       "      <th>1</th>\n",
       "      <td>2021-11-11 20:30</td>\n",
       "    </tr>\n",
       "  </tbody>\n",
       "</table>\n",
       "</div>"
      ],
      "text/plain": [
       "        RECORD_TIME\n",
       "0  2021-11-11 21:00\n",
       "1  2021-11-11 20:30"
      ]
     },
     "execution_count": 3,
     "metadata": {},
     "output_type": "execute_result"
    }
   ],
   "source": [
    "timestamps"
   ]
  },
  {
   "cell_type": "code",
   "execution_count": 4,
   "id": "alternate-victory",
   "metadata": {
    "execution": {
     "iopub.execute_input": "2021-11-11T20:00:09.599128Z",
     "iopub.status.busy": "2021-11-11T20:00:09.596861Z",
     "iopub.status.idle": "2021-11-11T20:00:10.751925Z",
     "shell.execute_reply": "2021-11-11T20:00:10.754127Z"
    },
    "papermill": {
     "duration": 1.190099,
     "end_time": "2021-11-11T20:00:10.754627",
     "exception": false,
     "start_time": "2021-11-11T20:00:09.564528",
     "status": "completed"
    },
    "tags": []
   },
   "outputs": [],
   "source": [
    "df = pd.read_sql(\"select * from EBAY_TOP_BERLIN where record_time in (select distinct record_time from EBAY_TOP_BERLIN order by record_time desc limit 2)\", sqlite3.connect(\"UsedObjects.db\"))"
   ]
  },
  {
   "cell_type": "code",
   "execution_count": 5,
   "id": "popular-active",
   "metadata": {
    "execution": {
     "iopub.execute_input": "2021-11-11T20:00:10.842410Z",
     "iopub.status.busy": "2021-11-11T20:00:10.820338Z",
     "iopub.status.idle": "2021-11-11T20:00:10.854865Z",
     "shell.execute_reply": "2021-11-11T20:00:10.856189Z"
    },
    "papermill": {
     "duration": 0.080807,
     "end_time": "2021-11-11T20:00:10.856655",
     "exception": false,
     "start_time": "2021-11-11T20:00:10.775848",
     "status": "completed"
    },
    "tags": []
   },
   "outputs": [],
   "source": [
    "df_pivot = df.pivot_table(index=\"PRODUCT\", columns = \"RECORD_TIME\", values = \"LISTING_COUNT\")"
   ]
  },
  {
   "cell_type": "code",
   "execution_count": 6,
   "id": "union-huntington",
   "metadata": {
    "execution": {
     "iopub.execute_input": "2021-11-11T20:00:10.915681Z",
     "iopub.status.busy": "2021-11-11T20:00:10.913525Z",
     "iopub.status.idle": "2021-11-11T20:00:10.919328Z",
     "shell.execute_reply": "2021-11-11T20:00:10.920842Z"
    },
    "papermill": {
     "duration": 0.043986,
     "end_time": "2021-11-11T20:00:10.921308",
     "exception": false,
     "start_time": "2021-11-11T20:00:10.877322",
     "status": "completed"
    },
    "tags": []
   },
   "outputs": [],
   "source": [
    "df_pivot.columns = [\"stamp_1\", \"stamp_2\"]\n",
    "df_pivot_diff = df_pivot.diff(axis=1)"
   ]
  },
  {
   "cell_type": "code",
   "execution_count": 7,
   "id": "fifth-motion",
   "metadata": {
    "execution": {
     "iopub.execute_input": "2021-11-11T20:00:10.990139Z",
     "iopub.status.busy": "2021-11-11T20:00:10.978114Z",
     "iopub.status.idle": "2021-11-11T20:00:12.733016Z",
     "shell.execute_reply": "2021-11-11T20:00:12.735237Z"
    },
    "papermill": {
     "duration": 1.794405,
     "end_time": "2021-11-11T20:00:12.735926",
     "exception": false,
     "start_time": "2021-11-11T20:00:10.941521",
     "status": "completed"
    },
    "tags": []
   },
   "outputs": [
    {
     "data": {
      "text/plain": [
       "<AxesSubplot:ylabel='PRODUCT'>"
      ]
     },
     "execution_count": 7,
     "metadata": {},
     "output_type": "execute_result"
    },
    {
     "data": {
      "image/png": "[encoded data removed]",
      "text/plain": [
       "<Figure size 432x288 with 1 Axes>"
      ]
     },
     "metadata": {
      "needs_background": "light"
     },
     "output_type": "display_data"
    }
   ],
   "source": [
    "df_pivot_diff.sort_values(\"stamp_2\", ascending = False)[\"stamp_2\"].head(10).plot.barh()"
   ]
  },
  {
   "cell_type": "code",
   "execution_count": null,
   "id": "extra-executive",
   "metadata": {
    "papermill": {
     "duration": 0.036844,
     "end_time": "2021-11-11T20:00:12.808056",
     "exception": false,
     "start_time": "2021-11-11T20:00:12.771212",
     "status": "completed"
    },
    "tags": []
   },
   "outputs": [],
   "source": []
  }
 ],
 "metadata": {
  "kernelspec": {
   "display_name": "Python 3",
   "language": "python",
   "name": "python3"
  },
  "language_info": {
   "codemirror_mode": {
    "name": "ipython",
    "version": 3
   },
   "file_extension": ".py",
   "mimetype": "text/x-python",
   "name": "python",
   "nbconvert_exporter": "python",
   "pygments_lexer": "ipython3",
   "version": "3.9.5"
  },
  "papermill": {
   "default_parameters": {},
   "duration": 8.82898,
   "end_time": "2021-11-11T20:00:13.684997",
   "environment_variables": {},
   "exception": null,
   "input_path": "eBay_Overview.ipynb",
   "output_path": "eBay_Overview.ipynb",
   "parameters": {},
   "start_time": "2021-11-11T20:00:04.856017",
   "version": "2.3.3"
  }
 },
 "nbformat": 4,
 "nbformat_minor": 5
}