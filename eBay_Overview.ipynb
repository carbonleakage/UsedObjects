{
 "cells": [
  {
   "cell_type": "code",
   "execution_count": 1,
   "id": "reverse-picking",
   "metadata": {
    "execution": {
     "iopub.execute_input": "2021-08-18T10:30:06.826644Z",
     "iopub.status.busy": "2021-08-18T10:30:06.824658Z",
     "iopub.status.idle": "2021-08-18T10:30:07.629485Z",
     "shell.execute_reply": "2021-08-18T10:30:07.630890Z"
    },
    "papermill": {
     "duration": 0.856205,
     "end_time": "2021-08-18T10:30:07.631557",
     "exception": false,
     "start_time": "2021-08-18T10:30:06.775352",
     "status": "completed"
    },
    "tags": []
   },
   "outputs": [],
   "source": [
    "import pandas as pd\n",
    "import sqlite3"
   ]
  },
  {
   "cell_type": "code",
   "execution_count": 2,
   "id": "innovative-syndrome",
   "metadata": {
    "execution": {
     "iopub.execute_input": "2021-08-18T10:30:07.682646Z",
     "iopub.status.busy": "2021-08-18T10:30:07.680730Z",
     "iopub.status.idle": "2021-08-18T10:30:07.755289Z",
     "shell.execute_reply": "2021-08-18T10:30:07.756581Z"
    },
    "papermill": {
     "duration": 0.104204,
     "end_time": "2021-08-18T10:30:07.757000",
     "exception": false,
     "start_time": "2021-08-18T10:30:07.652796",
     "status": "completed"
    },
    "tags": []
   },
   "outputs": [],
   "source": [
    "timestamps = pd.read_sql(\"select distinct record_time from EBAY_TOP_BERLIN order by record_time desc limit 2\", sqlite3.connect(\"UsedObjects.db\"))"
   ]
  },
  {
   "cell_type": "code",
   "execution_count": 3,
   "id": "periodic-identification",
   "metadata": {
    "execution": {
     "iopub.execute_input": "2021-08-18T10:30:07.822702Z",
     "iopub.status.busy": "2021-08-18T10:30:07.820615Z",
     "iopub.status.idle": "2021-08-18T10:30:07.840839Z",
     "shell.execute_reply": "2021-08-18T10:30:07.842264Z"
    },
    "papermill": {
     "duration": 0.06676,
     "end_time": "2021-08-18T10:30:07.842748",
     "exception": false,
     "start_time": "2021-08-18T10:30:07.775988",
     "status": "completed"
    },
    "tags": []
   },
   "outputs": [
    {
     "data": {
      "text/html": [
       "<div>\n",
       "<style scoped>\n",
       "    .dataframe tbody tr th:only-of-type {\n",
       "        vertical-align: middle;\n",
       "    }\n",
       "\n",
       "    .dataframe tbody tr th {\n",
       "        vertical-align: top;\n",
       "    }\n",
       "\n",
       "    .dataframe thead th {\n",
       "        text-align: right;\n",
       "    }\n",
       "</style>\n",
       "<table border=\"1\" class=\"dataframe\">\n",
       "  <thead>\n",
       "    <tr style=\"text-align: right;\">\n",
       "      <th></th>\n",
       "      <th>RECORD_TIME</th>\n",
       "    </tr>\n",
       "  </thead>\n",
       "  <tbody>\n",
       "    <tr>\n",
       "      <th>0</th>\n",
       "      <td>2021-08-18 12:30</td>\n",
       "    </tr>\n",
       "    <tr>\n",
       "      <th>1</th>\n",
       "      <td>2021-08-18 12:00</td>\n",
       "    </tr>\n",
       "  </tbody>\n",
       "</table>\n",
       "</div>"
      ],
      "text/plain": [
       "        RECORD_TIME\n",
       "0  2021-08-18 12:30\n",
       "1  2021-08-18 12:00"
      ]
     },
     "execution_count": 3,
     "metadata": {},
     "output_type": "execute_result"
    }
   ],
   "source": [
    "timestamps"
   ]
  },
  {
   "cell_type": "code",
   "execution_count": 4,
   "id": "alternate-victory",
   "metadata": {
    "execution": {
     "iopub.execute_input": "2021-08-18T10:30:07.895344Z",
     "iopub.status.busy": "2021-08-18T10:30:07.893431Z",
     "iopub.status.idle": "2021-08-18T10:30:08.003889Z",
     "shell.execute_reply": "2021-08-18T10:30:08.005167Z"
    },
    "papermill": {
     "duration": 0.140178,
     "end_time": "2021-08-18T10:30:08.005585",
     "exception": false,
     "start_time": "2021-08-18T10:30:07.865407",
     "status": "completed"
    },
    "tags": []
   },
   "outputs": [],
   "source": [
    "df = pd.read_sql(\"select * from EBAY_TOP_BERLIN where record_time in (select distinct record_time from EBAY_TOP_BERLIN order by record_time desc limit 2)\", sqlite3.connect(\"UsedObjects.db\"))"
   ]
  },
  {
   "cell_type": "code",
   "execution_count": 5,
   "id": "popular-active",
   "metadata": {
    "execution": {
     "iopub.execute_input": "2021-08-18T10:30:08.076825Z",
     "iopub.status.busy": "2021-08-18T10:30:08.064449Z",
     "iopub.status.idle": "2021-08-18T10:30:08.095015Z",
     "shell.execute_reply": "2021-08-18T10:30:08.096405Z"
    },
    "papermill": {
     "duration": 0.07071,
     "end_time": "2021-08-18T10:30:08.096840",
     "exception": false,
     "start_time": "2021-08-18T10:30:08.026130",
     "status": "completed"
    },
    "tags": []
   },
   "outputs": [],
   "source": [
    "df_pivot = df.pivot_table(index=\"PRODUCT\", columns = \"RECORD_TIME\", values = \"LISTING_COUNT\")"
   ]
  },
  {
   "cell_type": "code",
   "execution_count": 6,
   "id": "union-huntington",
   "metadata": {
    "execution": {
     "iopub.execute_input": "2021-08-18T10:30:08.154120Z",
     "iopub.status.busy": "2021-08-18T10:30:08.151653Z",
     "iopub.status.idle": "2021-08-18T10:30:08.157685Z",
     "shell.execute_reply": "2021-08-18T10:30:08.159038Z"
    },
    "papermill": {
     "duration": 0.042496,
     "end_time": "2021-08-18T10:30:08.159496",
     "exception": false,
     "start_time": "2021-08-18T10:30:08.117000",
     "status": "completed"
    },
    "tags": []
   },
   "outputs": [],
   "source": [
    "df_pivot.columns = [\"stamp_1\", \"stamp_2\"]\n",
    "df_pivot_diff = df_pivot.diff(axis=1)"
   ]
  },
  {
   "cell_type": "code",
   "execution_count": 7,
   "id": "fifth-motion",
   "metadata": {
    "execution": {
     "iopub.execute_input": "2021-08-18T10:30:08.215392Z",
     "iopub.status.busy": "2021-08-18T10:30:08.212920Z",
     "iopub.status.idle": "2021-08-18T10:30:09.682857Z",
     "shell.execute_reply": "2021-08-18T10:30:09.684153Z"
    },
    "papermill": {
     "duration": 1.503277,
     "end_time": "2021-08-18T10:30:09.684574",
     "exception": false,
     "start_time": "2021-08-18T10:30:08.181297",
     "status": "completed"
    },
    "tags": []
   },
   "outputs": [
    {
     "data": {
      "text/plain": [
       "<AxesSubplot:ylabel='PRODUCT'>"
      ]
     },
     "execution_count": 7,
     "metadata": {},
     "output_type": "execute_result"
    },
    {
     "data": {
      "image/png": "[encoded data removed]",
      "text/plain": [
       "<Figure size 432x288 with 1 Axes>"
      ]
     },
     "metadata": {
      "needs_background": "light"
     },
     "output_type": "display_data"
    }
   ],
   "source": [
    "df_pivot_diff.sort_values(\"stamp_2\", ascending = False)[\"stamp_2\"].head(10).plot.barh()"
   ]
  },
  {
   "cell_type": "code",
   "execution_count": null,
   "id": "extra-executive",
   "metadata": {
    "papermill": {
     "duration": 0.022135,
     "end_time": "2021-08-18T10:30:09.729733",
     "exception": false,
     "start_time": "2021-08-18T10:30:09.707598",
     "status": "completed"
    },
    "tags": []
   },
   "outputs": [],
   "source": []
  }
 ],
 "metadata": {
  "kernelspec": {
   "display_name": "Python 3",
   "language": "python",
   "name": "python3"
  },
  "language_info": {
   "codemirror_mode": {
    "name": "ipython",
    "version": 3
   },
   "file_extension": ".py",
   "mimetype": "text/x-python",
   "name": "python",
   "nbconvert_exporter": "python",
   "pygments_lexer": "ipython3",
   "version": "3.9.5"
  },
  "papermill": {
   "default_parameters": {},
   "duration": 6.833801,
   "end_time": "2021-08-18T10:30:11.200692",
   "environment_variables": {},
   "exception": null,
   "input_path": "eBay_Overview.ipynb",
   "output_path": "eBay_Overview.ipynb",
   "parameters": {},
   "start_time": "2021-08-18T10:30:04.366891",
   "version": "2.3.3"
  }
 },
 "nbformat": 4,
 "nbformat_minor": 5
}