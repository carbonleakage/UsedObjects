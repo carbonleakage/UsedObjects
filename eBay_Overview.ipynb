{
 "cells": [
  {
   "cell_type": "code",
   "execution_count": 1,
   "id": "reverse-picking",
   "metadata": {
    "execution": {
     "iopub.execute_input": "2021-11-10T04:00:07.535781Z",
     "iopub.status.busy": "2021-11-10T04:00:07.532627Z",
     "iopub.status.idle": "2021-11-10T04:00:08.459322Z",
     "shell.execute_reply": "2021-11-10T04:00:08.460977Z"
    },
    "papermill": {
     "duration": 0.977169,
     "end_time": "2021-11-10T04:00:08.461709",
     "exception": false,
     "start_time": "2021-11-10T04:00:07.484540",
     "status": "completed"
    },
    "tags": []
   },
   "outputs": [],
   "source": [
    "import pandas as pd\n",
    "import sqlite3"
   ]
  },
  {
   "cell_type": "code",
   "execution_count": 2,
   "id": "innovative-syndrome",
   "metadata": {
    "execution": {
     "iopub.execute_input": "2021-11-10T04:00:08.530296Z",
     "iopub.status.busy": "2021-11-10T04:00:08.527552Z",
     "iopub.status.idle": "2021-11-10T04:00:09.298165Z",
     "shell.execute_reply": "2021-11-10T04:00:09.299557Z"
    },
    "papermill": {
     "duration": 0.806887,
     "end_time": "2021-11-10T04:00:09.300024",
     "exception": false,
     "start_time": "2021-11-10T04:00:08.493137",
     "status": "completed"
    },
    "tags": []
   },
   "outputs": [],
   "source": [
    "timestamps = pd.read_sql(\"select distinct record_time from EBAY_TOP_BERLIN order by record_time desc limit 2\", sqlite3.connect(\"UsedObjects.db\"))"
   ]
  },
  {
   "cell_type": "code",
   "execution_count": 3,
   "id": "periodic-identification",
   "metadata": {
    "execution": {
     "iopub.execute_input": "2021-11-10T04:00:09.371050Z",
     "iopub.status.busy": "2021-11-10T04:00:09.368626Z",
     "iopub.status.idle": "2021-11-10T04:00:09.391439Z",
     "shell.execute_reply": "2021-11-10T04:00:09.393020Z"
    },
    "papermill": {
     "duration": 0.073752,
     "end_time": "2021-11-10T04:00:09.393505",
     "exception": false,
     "start_time": "2021-11-10T04:00:09.319753",
     "status": "completed"
    },
    "tags": []
   },
   "outputs": [
    {
     "data": {
      "text/html": [
       "<div>\n",
       "<style scoped>\n",
       "    .dataframe tbody tr th:only-of-type {\n",
       "        vertical-align: middle;\n",
       "    }\n",
       "\n",
       "    .dataframe tbody tr th {\n",
       "        vertical-align: top;\n",
       "    }\n",
       "\n",
       "    .dataframe thead th {\n",
       "        text-align: right;\n",
       "    }\n",
       "</style>\n",
       "<table border=\"1\" class=\"dataframe\">\n",
       "  <thead>\n",
       "    <tr style=\"text-align: right;\">\n",
       "      <th></th>\n",
       "      <th>RECORD_TIME</th>\n",
       "    </tr>\n",
       "  </thead>\n",
       "  <tbody>\n",
       "    <tr>\n",
       "      <th>0</th>\n",
       "      <td>2021-11-10 05:00</td>\n",
       "    </tr>\n",
       "    <tr>\n",
       "      <th>1</th>\n",
       "      <td>2021-11-10 04:30</td>\n",
       "    </tr>\n",
       "  </tbody>\n",
       "</table>\n",
       "</div>"
      ],
      "text/plain": [
       "        RECORD_TIME\n",
       "0  2021-11-10 05:00\n",
       "1  2021-11-10 04:30"
      ]
     },
     "execution_count": 3,
     "metadata": {},
     "output_type": "execute_result"
    }
   ],
   "source": [
    "timestamps"
   ]
  },
  {
   "cell_type": "code",
   "execution_count": 4,
   "id": "alternate-victory",
   "metadata": {
    "execution": {
     "iopub.execute_input": "2021-11-10T04:00:09.451765Z",
     "iopub.status.busy": "2021-11-10T04:00:09.449579Z",
     "iopub.status.idle": "2021-11-10T04:00:10.566165Z",
     "shell.execute_reply": "2021-11-10T04:00:10.567617Z"
    },
    "papermill": {
     "duration": 1.152705,
     "end_time": "2021-11-10T04:00:10.568130",
     "exception": false,
     "start_time": "2021-11-10T04:00:09.415425",
     "status": "completed"
    },
    "tags": []
   },
   "outputs": [],
   "source": [
    "df = pd.read_sql(\"select * from EBAY_TOP_BERLIN where record_time in (select distinct record_time from EBAY_TOP_BERLIN order by record_time desc limit 2)\", sqlite3.connect(\"UsedObjects.db\"))"
   ]
  },
  {
   "cell_type": "code",
   "execution_count": 5,
   "id": "popular-active",
   "metadata": {
    "execution": {
     "iopub.execute_input": "2021-11-10T04:00:10.649104Z",
     "iopub.status.busy": "2021-11-10T04:00:10.635394Z",
     "iopub.status.idle": "2021-11-10T04:00:10.667538Z",
     "shell.execute_reply": "2021-11-10T04:00:10.669037Z"
    },
    "papermill": {
     "duration": 0.079859,
     "end_time": "2021-11-10T04:00:10.669516",
     "exception": false,
     "start_time": "2021-11-10T04:00:10.589657",
     "status": "completed"
    },
    "tags": []
   },
   "outputs": [],
   "source": [
    "df_pivot = df.pivot_table(index=\"PRODUCT\", columns = \"RECORD_TIME\", values = \"LISTING_COUNT\")"
   ]
  },
  {
   "cell_type": "code",
   "execution_count": 6,
   "id": "union-huntington",
   "metadata": {
    "execution": {
     "iopub.execute_input": "2021-11-10T04:00:10.729570Z",
     "iopub.status.busy": "2021-11-10T04:00:10.727310Z",
     "iopub.status.idle": "2021-11-10T04:00:10.733097Z",
     "shell.execute_reply": "2021-11-10T04:00:10.734698Z"
    },
    "papermill": {
     "duration": 0.044028,
     "end_time": "2021-11-10T04:00:10.735166",
     "exception": false,
     "start_time": "2021-11-10T04:00:10.691138",
     "status": "completed"
    },
    "tags": []
   },
   "outputs": [],
   "source": [
    "df_pivot.columns = [\"stamp_1\", \"stamp_2\"]\n",
    "df_pivot_diff = df_pivot.diff(axis=1)"
   ]
  },
  {
   "cell_type": "code",
   "execution_count": 7,
   "id": "fifth-motion",
   "metadata": {
    "execution": {
     "iopub.execute_input": "2021-11-10T04:00:10.796319Z",
     "iopub.status.busy": "2021-11-10T04:00:10.792935Z",
     "iopub.status.idle": "2021-11-10T04:00:12.577320Z",
     "shell.execute_reply": "2021-11-10T04:00:12.580029Z"
    },
    "papermill": {
     "duration": 1.825281,
     "end_time": "2021-11-10T04:00:12.580881",
     "exception": false,
     "start_time": "2021-11-10T04:00:10.755600",
     "status": "completed"
    },
    "tags": []
   },
   "outputs": [
    {
     "data": {
      "text/plain": [
       "<AxesSubplot:ylabel='PRODUCT'>"
      ]
     },
     "execution_count": 7,
     "metadata": {},
     "output_type": "execute_result"
    },
    {
     "data": {
      "image/png": "[encoded data removed]",
      "text/plain": [
       "<Figure size 432x288 with 1 Axes>"
      ]
     },
     "metadata": {
      "needs_background": "light"
     },
     "output_type": "display_data"
    }
   ],
   "source": [
    "df_pivot_diff.sort_values(\"stamp_2\", ascending = False)[\"stamp_2\"].head(10).plot.barh()"
   ]
  },
  {
   "cell_type": "code",
   "execution_count": null,
   "id": "extra-executive",
   "metadata": {
    "papermill": {
     "duration": 0.034704,
     "end_time": "2021-11-10T04:00:12.653438",
     "exception": false,
     "start_time": "2021-11-10T04:00:12.618734",
     "status": "completed"
    },
    "tags": []
   },
   "outputs": [],
   "source": []
  }
 ],
 "metadata": {
  "kernelspec": {
   "display_name": "Python 3",
   "language": "python",
   "name": "python3"
  },
  "language_info": {
   "codemirror_mode": {
    "name": "ipython",
    "version": 3
   },
   "file_extension": ".py",
   "mimetype": "text/x-python",
   "name": "python",
   "nbconvert_exporter": "python",
   "pygments_lexer": "ipython3",
   "version": "3.9.5"
  },
  "papermill": {
   "default_parameters": {},
   "duration": 8.789661,
   "end_time": "2021-11-10T04:00:13.548023",
   "environment_variables": {},
   "exception": null,
   "input_path": "eBay_Overview.ipynb",
   "output_path": "eBay_Overview.ipynb",
   "parameters": {},
   "start_time": "2021-11-10T04:00:04.758362",
   "version": "2.3.3"
  }
 },
 "nbformat": 4,
 "nbformat_minor": 5
}