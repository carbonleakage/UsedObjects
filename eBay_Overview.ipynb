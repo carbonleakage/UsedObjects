{
 "cells": [
  {
   "cell_type": "code",
   "execution_count": 1,
   "id": "reverse-picking",
   "metadata": {
    "execution": {
     "iopub.execute_input": "2021-12-22T12:00:08.118105Z",
     "iopub.status.busy": "2021-12-22T12:00:08.115572Z",
     "iopub.status.idle": "2021-12-22T12:00:09.072218Z",
     "shell.execute_reply": "2021-12-22T12:00:09.074436Z"
    },
    "papermill": {
     "duration": 1.007578,
     "end_time": "2021-12-22T12:00:09.075183",
     "exception": false,
     "start_time": "2021-12-22T12:00:08.067605",
     "status": "completed"
    },
    "tags": []
   },
   "outputs": [],
   "source": [
    "import pandas as pd\n",
    "import sqlite3"
   ]
  },
  {
   "cell_type": "code",
   "execution_count": 2,
   "id": "innovative-syndrome",
   "metadata": {
    "execution": {
     "iopub.execute_input": "2021-12-22T12:00:09.139502Z",
     "iopub.status.busy": "2021-12-22T12:00:09.137195Z",
     "iopub.status.idle": "2021-12-22T12:00:10.305684Z",
     "shell.execute_reply": "2021-12-22T12:00:10.307243Z"
    },
    "papermill": {
     "duration": 1.203927,
     "end_time": "2021-12-22T12:00:10.307718",
     "exception": false,
     "start_time": "2021-12-22T12:00:09.103791",
     "status": "completed"
    },
    "tags": []
   },
   "outputs": [],
   "source": [
    "timestamps = pd.read_sql(\"select distinct record_time from EBAY_TOP_BERLIN order by record_time desc limit 2\", sqlite3.connect(\"UsedObjects.db\"))"
   ]
  },
  {
   "cell_type": "code",
   "execution_count": 3,
   "id": "periodic-identification",
   "metadata": {
    "execution": {
     "iopub.execute_input": "2021-12-22T12:00:10.374759Z",
     "iopub.status.busy": "2021-12-22T12:00:10.372412Z",
     "iopub.status.idle": "2021-12-22T12:00:10.399811Z",
     "shell.execute_reply": "2021-12-22T12:00:10.401398Z"
    },
    "papermill": {
     "duration": 0.073544,
     "end_time": "2021-12-22T12:00:10.401902",
     "exception": false,
     "start_time": "2021-12-22T12:00:10.328358",
     "status": "completed"
    },
    "tags": []
   },
   "outputs": [
    {
     "data": {
      "text/html": [
       "<div>\n",
       "<style scoped>\n",
       "    .dataframe tbody tr th:only-of-type {\n",
       "        vertical-align: middle;\n",
       "    }\n",
       "\n",
       "    .dataframe tbody tr th {\n",
       "        vertical-align: top;\n",
       "    }\n",
       "\n",
       "    .dataframe thead th {\n",
       "        text-align: right;\n",
       "    }\n",
       "</style>\n",
       "<table border=\"1\" class=\"dataframe\">\n",
       "  <thead>\n",
       "    <tr style=\"text-align: right;\">\n",
       "      <th></th>\n",
       "      <th>RECORD_TIME</th>\n",
       "    </tr>\n",
       "  </thead>\n",
       "  <tbody>\n",
       "    <tr>\n",
       "      <th>0</th>\n",
       "      <td>2021-12-22 13:00</td>\n",
       "    </tr>\n",
       "    <tr>\n",
       "      <th>1</th>\n",
       "      <td>2021-12-22 12:30</td>\n",
       "    </tr>\n",
       "  </tbody>\n",
       "</table>\n",
       "</div>"
      ],
      "text/plain": [
       "        RECORD_TIME\n",
       "0  2021-12-22 13:00\n",
       "1  2021-12-22 12:30"
      ]
     },
     "execution_count": 3,
     "metadata": {},
     "output_type": "execute_result"
    }
   ],
   "source": [
    "timestamps"
   ]
  },
  {
   "cell_type": "code",
   "execution_count": 4,
   "id": "alternate-victory",
   "metadata": {
    "execution": {
     "iopub.execute_input": "2021-12-22T12:00:10.478633Z",
     "iopub.status.busy": "2021-12-22T12:00:10.476675Z",
     "iopub.status.idle": "2021-12-22T12:00:12.198608Z",
     "shell.execute_reply": "2021-12-22T12:00:12.200642Z"
    },
    "papermill": {
     "duration": 1.777975,
     "end_time": "2021-12-22T12:00:12.201217",
     "exception": false,
     "start_time": "2021-12-22T12:00:10.423242",
     "status": "completed"
    },
    "tags": []
   },
   "outputs": [],
   "source": [
    "df = pd.read_sql(\"select * from EBAY_TOP_BERLIN where record_time in (select distinct record_time from EBAY_TOP_BERLIN order by record_time desc limit 2)\", sqlite3.connect(\"UsedObjects.db\"))"
   ]
  },
  {
   "cell_type": "code",
   "execution_count": 5,
   "id": "popular-active",
   "metadata": {
    "execution": {
     "iopub.execute_input": "2021-12-22T12:00:12.267740Z",
     "iopub.status.busy": "2021-12-22T12:00:12.265408Z",
     "iopub.status.idle": "2021-12-22T12:00:12.296140Z",
     "shell.execute_reply": "2021-12-22T12:00:12.297685Z"
    },
    "papermill": {
     "duration": 0.075107,
     "end_time": "2021-12-22T12:00:12.298175",
     "exception": false,
     "start_time": "2021-12-22T12:00:12.223068",
     "status": "completed"
    },
    "tags": []
   },
   "outputs": [],
   "source": [
    "df_pivot = df.pivot_table(index=\"PRODUCT\", columns = \"RECORD_TIME\", values = \"LISTING_COUNT\")"
   ]
  },
  {
   "cell_type": "code",
   "execution_count": 6,
   "id": "union-huntington",
   "metadata": {
    "execution": {
     "iopub.execute_input": "2021-12-22T12:00:12.358040Z",
     "iopub.status.busy": "2021-12-22T12:00:12.355716Z",
     "iopub.status.idle": "2021-12-22T12:00:12.360919Z",
     "shell.execute_reply": "2021-12-22T12:00:12.362340Z"
    },
    "papermill": {
     "duration": 0.044059,
     "end_time": "2021-12-22T12:00:12.362780",
     "exception": false,
     "start_time": "2021-12-22T12:00:12.318721",
     "status": "completed"
    },
    "tags": []
   },
   "outputs": [],
   "source": [
    "df_pivot.columns = [\"stamp_1\", \"stamp_2\"]\n",
    "df_pivot_diff = df_pivot.diff(axis=1)"
   ]
  },
  {
   "cell_type": "code",
   "execution_count": 7,
   "id": "fifth-motion",
   "metadata": {
    "execution": {
     "iopub.execute_input": "2021-12-22T12:00:12.420630Z",
     "iopub.status.busy": "2021-12-22T12:00:12.418304Z",
     "iopub.status.idle": "2021-12-22T12:00:14.369569Z",
     "shell.execute_reply": "2021-12-22T12:00:14.371221Z"
    },
    "papermill": {
     "duration": 1.986973,
     "end_time": "2021-12-22T12:00:14.371740",
     "exception": false,
     "start_time": "2021-12-22T12:00:12.384767",
     "status": "completed"
    },
    "tags": []
   },
   "outputs": [
    {
     "data": {
      "text/plain": [
       "<AxesSubplot:ylabel='PRODUCT'>"
      ]
     },
     "execution_count": 7,
     "metadata": {},
     "output_type": "execute_result"
    },
    {
     "data": {
      "image/png": "[encoded data removed]",
      "text/plain": [
       "<Figure size 432x288 with 1 Axes>"
      ]
     },
     "metadata": {
      "needs_background": "light"
     },
     "output_type": "display_data"
    }
   ],
   "source": [
    "df_pivot_diff.sort_values(\"stamp_2\", ascending = False)[\"stamp_2\"].head(10).plot.barh()"
   ]
  },
  {
   "cell_type": "code",
   "execution_count": null,
   "id": "extra-executive",
   "metadata": {
    "papermill": {
     "duration": 0.027537,
     "end_time": "2021-12-22T12:00:14.425252",
     "exception": false,
     "start_time": "2021-12-22T12:00:14.397715",
     "status": "completed"
    },
    "tags": []
   },
   "outputs": [],
   "source": []
  }
 ],
 "metadata": {
  "kernelspec": {
   "display_name": "Python 3",
   "language": "python",
   "name": "python3"
  },
  "language_info": {
   "codemirror_mode": {
    "name": "ipython",
    "version": 3
   },
   "file_extension": ".py",
   "mimetype": "text/x-python",
   "name": "python",
   "nbconvert_exporter": "python",
   "pygments_lexer": "ipython3",
   "version": "3.9.5"
  },
  "papermill": {
   "default_parameters": {},
   "duration": 9.758171,
   "end_time": "2021-12-22T12:00:15.071951",
   "environment_variables": {},
   "exception": null,
   "input_path": "eBay_Overview.ipynb",
   "output_path": "eBay_Overview.ipynb",
   "parameters": {},
   "start_time": "2021-12-22T12:00:05.313780",
   "version": "2.3.3"
  }
 },
 "nbformat": 4,
 "nbformat_minor": 5
}