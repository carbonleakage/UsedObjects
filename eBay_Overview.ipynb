{
 "cells": [
  {
   "cell_type": "code",
   "execution_count": 1,
   "id": "reverse-picking",
   "metadata": {
    "execution": {
     "iopub.execute_input": "2021-10-18T10:30:06.878449Z",
     "iopub.status.busy": "2021-10-18T10:30:06.876476Z",
     "iopub.status.idle": "2021-10-18T10:30:07.682526Z",
     "shell.execute_reply": "2021-10-18T10:30:07.683765Z"
    },
    "papermill": {
     "duration": 0.858125,
     "end_time": "2021-10-18T10:30:07.684381",
     "exception": false,
     "start_time": "2021-10-18T10:30:06.826256",
     "status": "completed"
    },
    "tags": []
   },
   "outputs": [],
   "source": [
    "import pandas as pd\n",
    "import sqlite3"
   ]
  },
  {
   "cell_type": "code",
   "execution_count": 2,
   "id": "innovative-syndrome",
   "metadata": {
    "execution": {
     "iopub.execute_input": "2021-10-18T10:30:07.735037Z",
     "iopub.status.busy": "2021-10-18T10:30:07.733174Z",
     "iopub.status.idle": "2021-10-18T10:30:08.304993Z",
     "shell.execute_reply": "2021-10-18T10:30:08.306291Z"
    },
    "papermill": {
     "duration": 0.60142,
     "end_time": "2021-10-18T10:30:08.306716",
     "exception": false,
     "start_time": "2021-10-18T10:30:07.705296",
     "status": "completed"
    },
    "tags": []
   },
   "outputs": [],
   "source": [
    "timestamps = pd.read_sql(\"select distinct record_time from EBAY_TOP_BERLIN order by record_time desc limit 2\", sqlite3.connect(\"UsedObjects.db\"))"
   ]
  },
  {
   "cell_type": "code",
   "execution_count": 3,
   "id": "periodic-identification",
   "metadata": {
    "execution": {
     "iopub.execute_input": "2021-10-18T10:30:08.383641Z",
     "iopub.status.busy": "2021-10-18T10:30:08.381633Z",
     "iopub.status.idle": "2021-10-18T10:30:08.401673Z",
     "shell.execute_reply": "2021-10-18T10:30:08.402972Z"
    },
    "papermill": {
     "duration": 0.070531,
     "end_time": "2021-10-18T10:30:08.403394",
     "exception": false,
     "start_time": "2021-10-18T10:30:08.332863",
     "status": "completed"
    },
    "tags": []
   },
   "outputs": [
    {
     "data": {
      "text/html": [
       "<div>\n",
       "<style scoped>\n",
       "    .dataframe tbody tr th:only-of-type {\n",
       "        vertical-align: middle;\n",
       "    }\n",
       "\n",
       "    .dataframe tbody tr th {\n",
       "        vertical-align: top;\n",
       "    }\n",
       "\n",
       "    .dataframe thead th {\n",
       "        text-align: right;\n",
       "    }\n",
       "</style>\n",
       "<table border=\"1\" class=\"dataframe\">\n",
       "  <thead>\n",
       "    <tr style=\"text-align: right;\">\n",
       "      <th></th>\n",
       "      <th>RECORD_TIME</th>\n",
       "    </tr>\n",
       "  </thead>\n",
       "  <tbody>\n",
       "    <tr>\n",
       "      <th>0</th>\n",
       "      <td>2021-10-18 12:30</td>\n",
       "    </tr>\n",
       "    <tr>\n",
       "      <th>1</th>\n",
       "      <td>2021-10-18 12:00</td>\n",
       "    </tr>\n",
       "  </tbody>\n",
       "</table>\n",
       "</div>"
      ],
      "text/plain": [
       "        RECORD_TIME\n",
       "0  2021-10-18 12:30\n",
       "1  2021-10-18 12:00"
      ]
     },
     "execution_count": 3,
     "metadata": {},
     "output_type": "execute_result"
    }
   ],
   "source": [
    "timestamps"
   ]
  },
  {
   "cell_type": "code",
   "execution_count": 4,
   "id": "alternate-victory",
   "metadata": {
    "execution": {
     "iopub.execute_input": "2021-10-18T10:30:08.455227Z",
     "iopub.status.busy": "2021-10-18T10:30:08.452951Z",
     "iopub.status.idle": "2021-10-18T10:30:09.285020Z",
     "shell.execute_reply": "2021-10-18T10:30:09.283555Z"
    },
    "papermill": {
     "duration": 0.860868,
     "end_time": "2021-10-18T10:30:09.285397",
     "exception": false,
     "start_time": "2021-10-18T10:30:08.424529",
     "status": "completed"
    },
    "tags": []
   },
   "outputs": [],
   "source": [
    "df = pd.read_sql(\"select * from EBAY_TOP_BERLIN where record_time in (select distinct record_time from EBAY_TOP_BERLIN order by record_time desc limit 2)\", sqlite3.connect(\"UsedObjects.db\"))"
   ]
  },
  {
   "cell_type": "code",
   "execution_count": 5,
   "id": "popular-active",
   "metadata": {
    "execution": {
     "iopub.execute_input": "2021-10-18T10:30:09.355959Z",
     "iopub.status.busy": "2021-10-18T10:30:09.343592Z",
     "iopub.status.idle": "2021-10-18T10:30:09.373683Z",
     "shell.execute_reply": "2021-10-18T10:30:09.374989Z"
    },
    "papermill": {
     "duration": 0.06931,
     "end_time": "2021-10-18T10:30:09.375452",
     "exception": false,
     "start_time": "2021-10-18T10:30:09.306142",
     "status": "completed"
    },
    "tags": []
   },
   "outputs": [],
   "source": [
    "df_pivot = df.pivot_table(index=\"PRODUCT\", columns = \"RECORD_TIME\", values = \"LISTING_COUNT\")"
   ]
  },
  {
   "cell_type": "code",
   "execution_count": 6,
   "id": "union-huntington",
   "metadata": {
    "execution": {
     "iopub.execute_input": "2021-10-18T10:30:09.433262Z",
     "iopub.status.busy": "2021-10-18T10:30:09.430749Z",
     "iopub.status.idle": "2021-10-18T10:30:09.436325Z",
     "shell.execute_reply": "2021-10-18T10:30:09.437609Z"
    },
    "papermill": {
     "duration": 0.042169,
     "end_time": "2021-10-18T10:30:09.438056",
     "exception": false,
     "start_time": "2021-10-18T10:30:09.395887",
     "status": "completed"
    },
    "tags": []
   },
   "outputs": [],
   "source": [
    "df_pivot.columns = [\"stamp_1\", \"stamp_2\"]\n",
    "df_pivot_diff = df_pivot.diff(axis=1)"
   ]
  },
  {
   "cell_type": "code",
   "execution_count": 7,
   "id": "fifth-motion",
   "metadata": {
    "execution": {
     "iopub.execute_input": "2021-10-18T10:30:09.491941Z",
     "iopub.status.busy": "2021-10-18T10:30:09.489678Z",
     "iopub.status.idle": "2021-10-18T10:30:10.960790Z",
     "shell.execute_reply": "2021-10-18T10:30:10.962185Z"
    },
    "papermill": {
     "duration": 1.504594,
     "end_time": "2021-10-18T10:30:10.962636",
     "exception": false,
     "start_time": "2021-10-18T10:30:09.458042",
     "status": "completed"
    },
    "tags": []
   },
   "outputs": [
    {
     "data": {
      "text/plain": [
       "<AxesSubplot:ylabel='PRODUCT'>"
      ]
     },
     "execution_count": 7,
     "metadata": {},
     "output_type": "execute_result"
    },
    {
     "data": {
      "image/png": "[encoded data removed]",
      "text/plain": [
       "<Figure size 432x288 with 1 Axes>"
      ]
     },
     "metadata": {
      "needs_background": "light"
     },
     "output_type": "display_data"
    }
   ],
   "source": [
    "df_pivot_diff.sort_values(\"stamp_2\", ascending = False)[\"stamp_2\"].head(10).plot.barh()"
   ]
  },
  {
   "cell_type": "code",
   "execution_count": null,
   "id": "extra-executive",
   "metadata": {
    "papermill": {
     "duration": 0.022418,
     "end_time": "2021-10-18T10:30:11.009715",
     "exception": false,
     "start_time": "2021-10-18T10:30:10.987297",
     "status": "completed"
    },
    "tags": []
   },
   "outputs": [],
   "source": []
  }
 ],
 "metadata": {
  "kernelspec": {
   "display_name": "Python 3",
   "language": "python",
   "name": "python3"
  },
  "language_info": {
   "codemirror_mode": {
    "name": "ipython",
    "version": 3
   },
   "file_extension": ".py",
   "mimetype": "text/x-python",
   "name": "python",
   "nbconvert_exporter": "python",
   "pygments_lexer": "ipython3",
   "version": "3.9.5"
  },
  "papermill": {
   "default_parameters": {},
   "duration": 7.818704,
   "end_time": "2021-10-18T10:30:12.247022",
   "environment_variables": {},
   "exception": null,
   "input_path": "eBay_Overview.ipynb",
   "output_path": "eBay_Overview.ipynb",
   "parameters": {},
   "start_time": "2021-10-18T10:30:04.428318",
   "version": "2.3.3"
  }
 },
 "nbformat": 4,
 "nbformat_minor": 5
}