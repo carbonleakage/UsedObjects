{
 "cells": [
  {
   "cell_type": "code",
   "execution_count": 1,
   "id": "reverse-picking",
   "metadata": {
    "execution": {
     "iopub.execute_input": "2021-09-07T21:00:07.437306Z",
     "iopub.status.busy": "2021-09-07T21:00:07.435369Z",
     "iopub.status.idle": "2021-09-07T21:00:08.245357Z",
     "shell.execute_reply": "2021-09-07T21:00:08.246604Z"
    },
    "papermill": {
     "duration": 0.864059,
     "end_time": "2021-09-07T21:00:08.247439",
     "exception": false,
     "start_time": "2021-09-07T21:00:07.383380",
     "status": "completed"
    },
    "tags": []
   },
   "outputs": [],
   "source": [
    "import pandas as pd\n",
    "import sqlite3"
   ]
  },
  {
   "cell_type": "code",
   "execution_count": 2,
   "id": "innovative-syndrome",
   "metadata": {
    "execution": {
     "iopub.execute_input": "2021-09-07T21:00:08.300549Z",
     "iopub.status.busy": "2021-09-07T21:00:08.298168Z",
     "iopub.status.idle": "2021-09-07T21:00:08.527597Z",
     "shell.execute_reply": "2021-09-07T21:00:08.528863Z"
    },
    "papermill": {
     "duration": 0.259539,
     "end_time": "2021-09-07T21:00:08.529261",
     "exception": false,
     "start_time": "2021-09-07T21:00:08.269722",
     "status": "completed"
    },
    "tags": []
   },
   "outputs": [],
   "source": [
    "timestamps = pd.read_sql(\"select distinct record_time from EBAY_TOP_BERLIN order by record_time desc limit 2\", sqlite3.connect(\"UsedObjects.db\"))"
   ]
  },
  {
   "cell_type": "code",
   "execution_count": 3,
   "id": "periodic-identification",
   "metadata": {
    "execution": {
     "iopub.execute_input": "2021-09-07T21:00:08.594496Z",
     "iopub.status.busy": "2021-09-07T21:00:08.592479Z",
     "iopub.status.idle": "2021-09-07T21:00:08.612483Z",
     "shell.execute_reply": "2021-09-07T21:00:08.613584Z"
    },
    "papermill": {
     "duration": 0.065361,
     "end_time": "2021-09-07T21:00:08.613993",
     "exception": false,
     "start_time": "2021-09-07T21:00:08.548632",
     "status": "completed"
    },
    "tags": []
   },
   "outputs": [
    {
     "data": {
      "text/html": [
       "<div>\n",
       "<style scoped>\n",
       "    .dataframe tbody tr th:only-of-type {\n",
       "        vertical-align: middle;\n",
       "    }\n",
       "\n",
       "    .dataframe tbody tr th {\n",
       "        vertical-align: top;\n",
       "    }\n",
       "\n",
       "    .dataframe thead th {\n",
       "        text-align: right;\n",
       "    }\n",
       "</style>\n",
       "<table border=\"1\" class=\"dataframe\">\n",
       "  <thead>\n",
       "    <tr style=\"text-align: right;\">\n",
       "      <th></th>\n",
       "      <th>RECORD_TIME</th>\n",
       "    </tr>\n",
       "  </thead>\n",
       "  <tbody>\n",
       "    <tr>\n",
       "      <th>0</th>\n",
       "      <td>2021-09-07 23:00</td>\n",
       "    </tr>\n",
       "    <tr>\n",
       "      <th>1</th>\n",
       "      <td>2021-09-07 22:30</td>\n",
       "    </tr>\n",
       "  </tbody>\n",
       "</table>\n",
       "</div>"
      ],
      "text/plain": [
       "        RECORD_TIME\n",
       "0  2021-09-07 23:00\n",
       "1  2021-09-07 22:30"
      ]
     },
     "execution_count": 3,
     "metadata": {},
     "output_type": "execute_result"
    }
   ],
   "source": [
    "timestamps"
   ]
  },
  {
   "cell_type": "code",
   "execution_count": 4,
   "id": "alternate-victory",
   "metadata": {
    "execution": {
     "iopub.execute_input": "2021-09-07T21:00:08.668136Z",
     "iopub.status.busy": "2021-09-07T21:00:08.665818Z",
     "iopub.status.idle": "2021-09-07T21:00:09.010177Z",
     "shell.execute_reply": "2021-09-07T21:00:09.011733Z"
    },
    "papermill": {
     "duration": 0.37557,
     "end_time": "2021-09-07T21:00:09.012185",
     "exception": false,
     "start_time": "2021-09-07T21:00:08.636615",
     "status": "completed"
    },
    "tags": []
   },
   "outputs": [],
   "source": [
    "df = pd.read_sql(\"select * from EBAY_TOP_BERLIN where record_time in (select distinct record_time from EBAY_TOP_BERLIN order by record_time desc limit 2)\", sqlite3.connect(\"UsedObjects.db\"))"
   ]
  },
  {
   "cell_type": "code",
   "execution_count": 5,
   "id": "popular-active",
   "metadata": {
    "execution": {
     "iopub.execute_input": "2021-09-07T21:00:09.102331Z",
     "iopub.status.busy": "2021-09-07T21:00:09.089042Z",
     "iopub.status.idle": "2021-09-07T21:00:09.120412Z",
     "shell.execute_reply": "2021-09-07T21:00:09.121755Z"
    },
    "papermill": {
     "duration": 0.077868,
     "end_time": "2021-09-07T21:00:09.122196",
     "exception": false,
     "start_time": "2021-09-07T21:00:09.044328",
     "status": "completed"
    },
    "tags": []
   },
   "outputs": [],
   "source": [
    "df_pivot = df.pivot_table(index=\"PRODUCT\", columns = \"RECORD_TIME\", values = \"LISTING_COUNT\")"
   ]
  },
  {
   "cell_type": "code",
   "execution_count": 6,
   "id": "union-huntington",
   "metadata": {
    "execution": {
     "iopub.execute_input": "2021-09-07T21:00:09.179175Z",
     "iopub.status.busy": "2021-09-07T21:00:09.177079Z",
     "iopub.status.idle": "2021-09-07T21:00:09.182588Z",
     "shell.execute_reply": "2021-09-07T21:00:09.183925Z"
    },
    "papermill": {
     "duration": 0.041787,
     "end_time": "2021-09-07T21:00:09.184353",
     "exception": false,
     "start_time": "2021-09-07T21:00:09.142566",
     "status": "completed"
    },
    "tags": []
   },
   "outputs": [],
   "source": [
    "df_pivot.columns = [\"stamp_1\", \"stamp_2\"]\n",
    "df_pivot_diff = df_pivot.diff(axis=1)"
   ]
  },
  {
   "cell_type": "code",
   "execution_count": 7,
   "id": "fifth-motion",
   "metadata": {
    "execution": {
     "iopub.execute_input": "2021-09-07T21:00:09.238510Z",
     "iopub.status.busy": "2021-09-07T21:00:09.236104Z",
     "iopub.status.idle": "2021-09-07T21:00:10.739538Z",
     "shell.execute_reply": "2021-09-07T21:00:10.740830Z"
    },
    "papermill": {
     "duration": 1.536338,
     "end_time": "2021-09-07T21:00:10.741250",
     "exception": false,
     "start_time": "2021-09-07T21:00:09.204912",
     "status": "completed"
    },
    "tags": []
   },
   "outputs": [
    {
     "data": {
      "text/plain": [
       "<AxesSubplot:ylabel='PRODUCT'>"
      ]
     },
     "execution_count": 7,
     "metadata": {},
     "output_type": "execute_result"
    },
    {
     "data": {
      "image/png": "[encoded data removed]",
      "text/plain": [
       "<Figure size 432x288 with 1 Axes>"
      ]
     },
     "metadata": {
      "needs_background": "light"
     },
     "output_type": "display_data"
    }
   ],
   "source": [
    "df_pivot_diff.sort_values(\"stamp_2\", ascending = False)[\"stamp_2\"].head(10).plot.barh()"
   ]
  },
  {
   "cell_type": "code",
   "execution_count": null,
   "id": "extra-executive",
   "metadata": {
    "papermill": {
     "duration": 0.022224,
     "end_time": "2021-09-07T21:00:10.788219",
     "exception": false,
     "start_time": "2021-09-07T21:00:10.765995",
     "status": "completed"
    },
    "tags": []
   },
   "outputs": [],
   "source": []
  }
 ],
 "metadata": {
  "kernelspec": {
   "display_name": "Python 3",
   "language": "python",
   "name": "python3"
  },
  "language_info": {
   "codemirror_mode": {
    "name": "ipython",
    "version": 3
   },
   "file_extension": ".py",
   "mimetype": "text/x-python",
   "name": "python",
   "nbconvert_exporter": "python",
   "pygments_lexer": "ipython3",
   "version": "3.9.5"
  },
  "papermill": {
   "default_parameters": {},
   "duration": 6.463126,
   "end_time": "2021-09-07T21:00:11.429187",
   "environment_variables": {},
   "exception": null,
   "input_path": "eBay_Overview.ipynb",
   "output_path": "eBay_Overview.ipynb",
   "parameters": {},
   "start_time": "2021-09-07T21:00:04.966061",
   "version": "2.3.3"
  }
 },
 "nbformat": 4,
 "nbformat_minor": 5
}