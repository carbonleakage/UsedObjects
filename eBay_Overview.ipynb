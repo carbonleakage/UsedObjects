{
 "cells": [
  {
   "cell_type": "code",
   "execution_count": 1,
   "id": "reverse-picking",
   "metadata": {
    "execution": {
     "iopub.execute_input": "2021-10-13T03:30:06.856203Z",
     "iopub.status.busy": "2021-10-13T03:30:06.854237Z",
     "iopub.status.idle": "2021-10-13T03:30:07.656488Z",
     "shell.execute_reply": "2021-10-13T03:30:07.658074Z"
    },
    "papermill": {
     "duration": 0.85317,
     "end_time": "2021-10-13T03:30:07.658757",
     "exception": false,
     "start_time": "2021-10-13T03:30:06.805587",
     "status": "completed"
    },
    "tags": []
   },
   "outputs": [],
   "source": [
    "import pandas as pd\n",
    "import sqlite3"
   ]
  },
  {
   "cell_type": "code",
   "execution_count": 2,
   "id": "innovative-syndrome",
   "metadata": {
    "execution": {
     "iopub.execute_input": "2021-10-13T03:30:07.709364Z",
     "iopub.status.busy": "2021-10-13T03:30:07.707354Z",
     "iopub.status.idle": "2021-10-13T03:30:08.223658Z",
     "shell.execute_reply": "2021-10-13T03:30:08.222434Z"
    },
    "papermill": {
     "duration": 0.544688,
     "end_time": "2021-10-13T03:30:08.224008",
     "exception": false,
     "start_time": "2021-10-13T03:30:07.679320",
     "status": "completed"
    },
    "tags": []
   },
   "outputs": [],
   "source": [
    "timestamps = pd.read_sql(\"select distinct record_time from EBAY_TOP_BERLIN order by record_time desc limit 2\", sqlite3.connect(\"UsedObjects.db\"))"
   ]
  },
  {
   "cell_type": "code",
   "execution_count": 3,
   "id": "periodic-identification",
   "metadata": {
    "execution": {
     "iopub.execute_input": "2021-10-13T03:30:08.294747Z",
     "iopub.status.busy": "2021-10-13T03:30:08.292647Z",
     "iopub.status.idle": "2021-10-13T03:30:08.312373Z",
     "shell.execute_reply": "2021-10-13T03:30:08.313740Z"
    },
    "papermill": {
     "duration": 0.066781,
     "end_time": "2021-10-13T03:30:08.314161",
     "exception": false,
     "start_time": "2021-10-13T03:30:08.247380",
     "status": "completed"
    },
    "tags": []
   },
   "outputs": [
    {
     "data": {
      "text/html": [
       "<div>\n",
       "<style scoped>\n",
       "    .dataframe tbody tr th:only-of-type {\n",
       "        vertical-align: middle;\n",
       "    }\n",
       "\n",
       "    .dataframe tbody tr th {\n",
       "        vertical-align: top;\n",
       "    }\n",
       "\n",
       "    .dataframe thead th {\n",
       "        text-align: right;\n",
       "    }\n",
       "</style>\n",
       "<table border=\"1\" class=\"dataframe\">\n",
       "  <thead>\n",
       "    <tr style=\"text-align: right;\">\n",
       "      <th></th>\n",
       "      <th>RECORD_TIME</th>\n",
       "    </tr>\n",
       "  </thead>\n",
       "  <tbody>\n",
       "    <tr>\n",
       "      <th>0</th>\n",
       "      <td>2021-10-13 05:30</td>\n",
       "    </tr>\n",
       "    <tr>\n",
       "      <th>1</th>\n",
       "      <td>2021-10-13 05:00</td>\n",
       "    </tr>\n",
       "  </tbody>\n",
       "</table>\n",
       "</div>"
      ],
      "text/plain": [
       "        RECORD_TIME\n",
       "0  2021-10-13 05:30\n",
       "1  2021-10-13 05:00"
      ]
     },
     "execution_count": 3,
     "metadata": {},
     "output_type": "execute_result"
    }
   ],
   "source": [
    "timestamps"
   ]
  },
  {
   "cell_type": "code",
   "execution_count": 4,
   "id": "alternate-victory",
   "metadata": {
    "execution": {
     "iopub.execute_input": "2021-10-13T03:30:08.374952Z",
     "iopub.status.busy": "2021-10-13T03:30:08.372907Z",
     "iopub.status.idle": "2021-10-13T03:30:09.139970Z",
     "shell.execute_reply": "2021-10-13T03:30:09.141536Z"
    },
    "papermill": {
     "duration": 0.801512,
     "end_time": "2021-10-13T03:30:09.141978",
     "exception": false,
     "start_time": "2021-10-13T03:30:08.340466",
     "status": "completed"
    },
    "tags": []
   },
   "outputs": [],
   "source": [
    "df = pd.read_sql(\"select * from EBAY_TOP_BERLIN where record_time in (select distinct record_time from EBAY_TOP_BERLIN order by record_time desc limit 2)\", sqlite3.connect(\"UsedObjects.db\"))"
   ]
  },
  {
   "cell_type": "code",
   "execution_count": 5,
   "id": "popular-active",
   "metadata": {
    "execution": {
     "iopub.execute_input": "2021-10-13T03:30:09.214163Z",
     "iopub.status.busy": "2021-10-13T03:30:09.201634Z",
     "iopub.status.idle": "2021-10-13T03:30:09.230934Z",
     "shell.execute_reply": "2021-10-13T03:30:09.232401Z"
    },
    "papermill": {
     "duration": 0.07064,
     "end_time": "2021-10-13T03:30:09.233060",
     "exception": false,
     "start_time": "2021-10-13T03:30:09.162420",
     "status": "completed"
    },
    "tags": []
   },
   "outputs": [],
   "source": [
    "df_pivot = df.pivot_table(index=\"PRODUCT\", columns = \"RECORD_TIME\", values = \"LISTING_COUNT\")"
   ]
  },
  {
   "cell_type": "code",
   "execution_count": 6,
   "id": "union-huntington",
   "metadata": {
    "execution": {
     "iopub.execute_input": "2021-10-13T03:30:09.292633Z",
     "iopub.status.busy": "2021-10-13T03:30:09.290570Z",
     "iopub.status.idle": "2021-10-13T03:30:09.295975Z",
     "shell.execute_reply": "2021-10-13T03:30:09.297461Z"
    },
    "papermill": {
     "duration": 0.041518,
     "end_time": "2021-10-13T03:30:09.297921",
     "exception": false,
     "start_time": "2021-10-13T03:30:09.256403",
     "status": "completed"
    },
    "tags": []
   },
   "outputs": [],
   "source": [
    "df_pivot.columns = [\"stamp_1\", \"stamp_2\"]\n",
    "df_pivot_diff = df_pivot.diff(axis=1)"
   ]
  },
  {
   "cell_type": "code",
   "execution_count": 7,
   "id": "fifth-motion",
   "metadata": {
    "execution": {
     "iopub.execute_input": "2021-10-13T03:30:09.352628Z",
     "iopub.status.busy": "2021-10-13T03:30:09.350235Z",
     "iopub.status.idle": "2021-10-13T03:30:10.841374Z",
     "shell.execute_reply": "2021-10-13T03:30:10.839909Z"
    },
    "papermill": {
     "duration": 1.523007,
     "end_time": "2021-10-13T03:30:10.841735",
     "exception": false,
     "start_time": "2021-10-13T03:30:09.318728",
     "status": "completed"
    },
    "tags": []
   },
   "outputs": [
    {
     "data": {
      "text/plain": [
       "<AxesSubplot:ylabel='PRODUCT'>"
      ]
     },
     "execution_count": 7,
     "metadata": {},
     "output_type": "execute_result"
    },
    {
     "data": {
      "image/png": "[encoded data removed]",
      "text/plain": [
       "<Figure size 432x288 with 1 Axes>"
      ]
     },
     "metadata": {
      "needs_background": "light"
     },
     "output_type": "display_data"
    }
   ],
   "source": [
    "df_pivot_diff.sort_values(\"stamp_2\", ascending = False)[\"stamp_2\"].head(10).plot.barh()"
   ]
  },
  {
   "cell_type": "code",
   "execution_count": null,
   "id": "extra-executive",
   "metadata": {
    "papermill": {
     "duration": 0.022426,
     "end_time": "2021-10-13T03:30:10.889042",
     "exception": false,
     "start_time": "2021-10-13T03:30:10.866616",
     "status": "completed"
    },
    "tags": []
   },
   "outputs": [],
   "source": []
  }
 ],
 "metadata": {
  "kernelspec": {
   "display_name": "Python 3",
   "language": "python",
   "name": "python3"
  },
  "language_info": {
   "codemirror_mode": {
    "name": "ipython",
    "version": 3
   },
   "file_extension": ".py",
   "mimetype": "text/x-python",
   "name": "python",
   "nbconvert_exporter": "python",
   "pygments_lexer": "ipython3",
   "version": "3.9.5"
  },
  "papermill": {
   "default_parameters": {},
   "duration": 7.837906,
   "end_time": "2021-10-13T03:30:12.250787",
   "environment_variables": {},
   "exception": null,
   "input_path": "eBay_Overview.ipynb",
   "output_path": "eBay_Overview.ipynb",
   "parameters": {},
   "start_time": "2021-10-13T03:30:04.412881",
   "version": "2.3.3"
  }
 },
 "nbformat": 4,
 "nbformat_minor": 5
}