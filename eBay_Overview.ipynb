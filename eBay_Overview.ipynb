{
 "cells": [
  {
   "cell_type": "code",
   "execution_count": 1,
   "id": "reverse-picking",
   "metadata": {
    "execution": {
     "iopub.execute_input": "2021-11-19T18:30:07.640206Z",
     "iopub.status.busy": "2021-11-19T18:30:07.637890Z",
     "iopub.status.idle": "2021-11-19T18:30:08.571621Z",
     "shell.execute_reply": "2021-11-19T18:30:08.573302Z"
    },
    "papermill": {
     "duration": 0.984115,
     "end_time": "2021-11-19T18:30:08.574057",
     "exception": false,
     "start_time": "2021-11-19T18:30:07.589942",
     "status": "completed"
    },
    "tags": []
   },
   "outputs": [],
   "source": [
    "import pandas as pd\n",
    "import sqlite3"
   ]
  },
  {
   "cell_type": "code",
   "execution_count": 2,
   "id": "innovative-syndrome",
   "metadata": {
    "execution": {
     "iopub.execute_input": "2021-11-19T18:30:08.638543Z",
     "iopub.status.busy": "2021-11-19T18:30:08.636238Z",
     "iopub.status.idle": "2021-11-19T18:30:09.488809Z",
     "shell.execute_reply": "2021-11-19T18:30:09.490287Z"
    },
    "papermill": {
     "duration": 0.887547,
     "end_time": "2021-11-19T18:30:09.490791",
     "exception": false,
     "start_time": "2021-11-19T18:30:08.603244",
     "status": "completed"
    },
    "tags": []
   },
   "outputs": [],
   "source": [
    "timestamps = pd.read_sql(\"select distinct record_time from EBAY_TOP_BERLIN order by record_time desc limit 2\", sqlite3.connect(\"UsedObjects.db\"))"
   ]
  },
  {
   "cell_type": "code",
   "execution_count": 3,
   "id": "periodic-identification",
   "metadata": {
    "execution": {
     "iopub.execute_input": "2021-11-19T18:30:09.565660Z",
     "iopub.status.busy": "2021-11-19T18:30:09.563102Z",
     "iopub.status.idle": "2021-11-19T18:30:09.586156Z",
     "shell.execute_reply": "2021-11-19T18:30:09.587719Z"
    },
    "papermill": {
     "duration": 0.076532,
     "end_time": "2021-11-19T18:30:09.588300",
     "exception": false,
     "start_time": "2021-11-19T18:30:09.511768",
     "status": "completed"
    },
    "tags": []
   },
   "outputs": [
    {
     "data": {
      "text/html": [
       "<div>\n",
       "<style scoped>\n",
       "    .dataframe tbody tr th:only-of-type {\n",
       "        vertical-align: middle;\n",
       "    }\n",
       "\n",
       "    .dataframe tbody tr th {\n",
       "        vertical-align: top;\n",
       "    }\n",
       "\n",
       "    .dataframe thead th {\n",
       "        text-align: right;\n",
       "    }\n",
       "</style>\n",
       "<table border=\"1\" class=\"dataframe\">\n",
       "  <thead>\n",
       "    <tr style=\"text-align: right;\">\n",
       "      <th></th>\n",
       "      <th>RECORD_TIME</th>\n",
       "    </tr>\n",
       "  </thead>\n",
       "  <tbody>\n",
       "    <tr>\n",
       "      <th>0</th>\n",
       "      <td>2021-11-19 19:30</td>\n",
       "    </tr>\n",
       "    <tr>\n",
       "      <th>1</th>\n",
       "      <td>2021-11-19 19:00</td>\n",
       "    </tr>\n",
       "  </tbody>\n",
       "</table>\n",
       "</div>"
      ],
      "text/plain": [
       "        RECORD_TIME\n",
       "0  2021-11-19 19:30\n",
       "1  2021-11-19 19:00"
      ]
     },
     "execution_count": 3,
     "metadata": {},
     "output_type": "execute_result"
    }
   ],
   "source": [
    "timestamps"
   ]
  },
  {
   "cell_type": "code",
   "execution_count": 4,
   "id": "alternate-victory",
   "metadata": {
    "execution": {
     "iopub.execute_input": "2021-11-19T18:30:09.644477Z",
     "iopub.status.busy": "2021-11-19T18:30:09.642370Z",
     "iopub.status.idle": "2021-11-19T18:30:10.861065Z",
     "shell.execute_reply": "2021-11-19T18:30:10.863072Z"
    },
    "papermill": {
     "duration": 1.253146,
     "end_time": "2021-11-19T18:30:10.863520",
     "exception": false,
     "start_time": "2021-11-19T18:30:09.610374",
     "status": "completed"
    },
    "tags": []
   },
   "outputs": [],
   "source": [
    "df = pd.read_sql(\"select * from EBAY_TOP_BERLIN where record_time in (select distinct record_time from EBAY_TOP_BERLIN order by record_time desc limit 2)\", sqlite3.connect(\"UsedObjects.db\"))"
   ]
  },
  {
   "cell_type": "code",
   "execution_count": 5,
   "id": "popular-active",
   "metadata": {
    "execution": {
     "iopub.execute_input": "2021-11-19T18:30:10.973946Z",
     "iopub.status.busy": "2021-11-19T18:30:10.966211Z",
     "iopub.status.idle": "2021-11-19T18:30:10.993423Z",
     "shell.execute_reply": "2021-11-19T18:30:10.994888Z"
    },
    "papermill": {
     "duration": 0.107284,
     "end_time": "2021-11-19T18:30:10.995365",
     "exception": false,
     "start_time": "2021-11-19T18:30:10.888081",
     "status": "completed"
    },
    "tags": []
   },
   "outputs": [],
   "source": [
    "df_pivot = df.pivot_table(index=\"PRODUCT\", columns = \"RECORD_TIME\", values = \"LISTING_COUNT\")"
   ]
  },
  {
   "cell_type": "code",
   "execution_count": 6,
   "id": "union-huntington",
   "metadata": {
    "execution": {
     "iopub.execute_input": "2021-11-19T18:30:11.059174Z",
     "iopub.status.busy": "2021-11-19T18:30:11.057072Z",
     "iopub.status.idle": "2021-11-19T18:30:11.061828Z",
     "shell.execute_reply": "2021-11-19T18:30:11.063180Z"
    },
    "papermill": {
     "duration": 0.04623,
     "end_time": "2021-11-19T18:30:11.063619",
     "exception": false,
     "start_time": "2021-11-19T18:30:11.017389",
     "status": "completed"
    },
    "tags": []
   },
   "outputs": [],
   "source": [
    "df_pivot.columns = [\"stamp_1\", \"stamp_2\"]\n",
    "df_pivot_diff = df_pivot.diff(axis=1)"
   ]
  },
  {
   "cell_type": "code",
   "execution_count": 7,
   "id": "fifth-motion",
   "metadata": {
    "execution": {
     "iopub.execute_input": "2021-11-19T18:30:11.120674Z",
     "iopub.status.busy": "2021-11-19T18:30:11.118374Z",
     "iopub.status.idle": "2021-11-19T18:30:13.045404Z",
     "shell.execute_reply": "2021-11-19T18:30:13.047360Z"
    },
    "papermill": {
     "duration": 1.963561,
     "end_time": "2021-11-19T18:30:13.048040",
     "exception": false,
     "start_time": "2021-11-19T18:30:11.084479",
     "status": "completed"
    },
    "tags": []
   },
   "outputs": [
    {
     "data": {
      "text/plain": [
       "<AxesSubplot:ylabel='PRODUCT'>"
      ]
     },
     "execution_count": 7,
     "metadata": {},
     "output_type": "execute_result"
    },
    {
     "data": {
      "image/png": "[encoded data removed]",
      "text/plain": [
       "<Figure size 432x288 with 1 Axes>"
      ]
     },
     "metadata": {
      "needs_background": "light"
     },
     "output_type": "display_data"
    }
   ],
   "source": [
    "df_pivot_diff.sort_values(\"stamp_2\", ascending = False)[\"stamp_2\"].head(10).plot.barh()"
   ]
  },
  {
   "cell_type": "code",
   "execution_count": null,
   "id": "extra-executive",
   "metadata": {
    "papermill": {
     "duration": 0.024756,
     "end_time": "2021-11-19T18:30:13.102960",
     "exception": false,
     "start_time": "2021-11-19T18:30:13.078204",
     "status": "completed"
    },
    "tags": []
   },
   "outputs": [],
   "source": []
  }
 ],
 "metadata": {
  "kernelspec": {
   "display_name": "Python 3",
   "language": "python",
   "name": "python3"
  },
  "language_info": {
   "codemirror_mode": {
    "name": "ipython",
    "version": 3
   },
   "file_extension": ".py",
   "mimetype": "text/x-python",
   "name": "python",
   "nbconvert_exporter": "python",
   "pygments_lexer": "ipython3",
   "version": "3.9.5"
  },
  "papermill": {
   "default_parameters": {},
   "duration": 9.929005,
   "end_time": "2021-11-19T18:30:14.792365",
   "environment_variables": {},
   "exception": null,
   "input_path": "eBay_Overview.ipynb",
   "output_path": "eBay_Overview.ipynb",
   "parameters": {},
   "start_time": "2021-11-19T18:30:04.863360",
   "version": "2.3.3"
  }
 },
 "nbformat": 4,
 "nbformat_minor": 5
}