{
 "cells": [
  {
   "cell_type": "code",
   "execution_count": 1,
   "id": "reverse-picking",
   "metadata": {
    "execution": {
     "iopub.execute_input": "2021-10-21T04:30:07.380741Z",
     "iopub.status.busy": "2021-10-21T04:30:07.378682Z",
     "iopub.status.idle": "2021-10-21T04:30:08.194075Z",
     "shell.execute_reply": "2021-10-21T04:30:08.192436Z"
    },
    "papermill": {
     "duration": 0.860767,
     "end_time": "2021-10-21T04:30:08.194467",
     "exception": false,
     "start_time": "2021-10-21T04:30:07.333700",
     "status": "completed"
    },
    "tags": []
   },
   "outputs": [],
   "source": [
    "import pandas as pd\n",
    "import sqlite3"
   ]
  },
  {
   "cell_type": "code",
   "execution_count": 2,
   "id": "innovative-syndrome",
   "metadata": {
    "execution": {
     "iopub.execute_input": "2021-10-21T04:30:08.246532Z",
     "iopub.status.busy": "2021-10-21T04:30:08.244282Z",
     "iopub.status.idle": "2021-10-21T04:30:08.839305Z",
     "shell.execute_reply": "2021-10-21T04:30:08.840402Z"
    },
    "papermill": {
     "duration": 0.624298,
     "end_time": "2021-10-21T04:30:08.840856",
     "exception": false,
     "start_time": "2021-10-21T04:30:08.216558",
     "status": "completed"
    },
    "tags": []
   },
   "outputs": [],
   "source": [
    "timestamps = pd.read_sql(\"select distinct record_time from EBAY_TOP_BERLIN order by record_time desc limit 2\", sqlite3.connect(\"UsedObjects.db\"))"
   ]
  },
  {
   "cell_type": "code",
   "execution_count": 3,
   "id": "periodic-identification",
   "metadata": {
    "execution": {
     "iopub.execute_input": "2021-10-21T04:30:08.915461Z",
     "iopub.status.busy": "2021-10-21T04:30:08.913368Z",
     "iopub.status.idle": "2021-10-21T04:30:08.934838Z",
     "shell.execute_reply": "2021-10-21T04:30:08.936029Z"
    },
    "papermill": {
     "duration": 0.069362,
     "end_time": "2021-10-21T04:30:08.936418",
     "exception": false,
     "start_time": "2021-10-21T04:30:08.867056",
     "status": "completed"
    },
    "tags": []
   },
   "outputs": [
    {
     "data": {
      "text/html": [
       "<div>\n",
       "<style scoped>\n",
       "    .dataframe tbody tr th:only-of-type {\n",
       "        vertical-align: middle;\n",
       "    }\n",
       "\n",
       "    .dataframe tbody tr th {\n",
       "        vertical-align: top;\n",
       "    }\n",
       "\n",
       "    .dataframe thead th {\n",
       "        text-align: right;\n",
       "    }\n",
       "</style>\n",
       "<table border=\"1\" class=\"dataframe\">\n",
       "  <thead>\n",
       "    <tr style=\"text-align: right;\">\n",
       "      <th></th>\n",
       "      <th>RECORD_TIME</th>\n",
       "    </tr>\n",
       "  </thead>\n",
       "  <tbody>\n",
       "    <tr>\n",
       "      <th>0</th>\n",
       "      <td>2021-10-21 06:30</td>\n",
       "    </tr>\n",
       "    <tr>\n",
       "      <th>1</th>\n",
       "      <td>2021-10-21 06:00</td>\n",
       "    </tr>\n",
       "  </tbody>\n",
       "</table>\n",
       "</div>"
      ],
      "text/plain": [
       "        RECORD_TIME\n",
       "0  2021-10-21 06:30\n",
       "1  2021-10-21 06:00"
      ]
     },
     "execution_count": 3,
     "metadata": {},
     "output_type": "execute_result"
    }
   ],
   "source": [
    "timestamps"
   ]
  },
  {
   "cell_type": "code",
   "execution_count": 4,
   "id": "alternate-victory",
   "metadata": {
    "execution": {
     "iopub.execute_input": "2021-10-21T04:30:08.988502Z",
     "iopub.status.busy": "2021-10-21T04:30:08.986265Z",
     "iopub.status.idle": "2021-10-21T04:30:09.933013Z",
     "shell.execute_reply": "2021-10-21T04:30:09.934521Z"
    },
    "papermill": {
     "duration": 0.977133,
     "end_time": "2021-10-21T04:30:09.934967",
     "exception": false,
     "start_time": "2021-10-21T04:30:08.957834",
     "status": "completed"
    },
    "tags": []
   },
   "outputs": [],
   "source": [
    "df = pd.read_sql(\"select * from EBAY_TOP_BERLIN where record_time in (select distinct record_time from EBAY_TOP_BERLIN order by record_time desc limit 2)\", sqlite3.connect(\"UsedObjects.db\"))"
   ]
  },
  {
   "cell_type": "code",
   "execution_count": 5,
   "id": "popular-active",
   "metadata": {
    "execution": {
     "iopub.execute_input": "2021-10-21T04:30:10.006044Z",
     "iopub.status.busy": "2021-10-21T04:30:09.994328Z",
     "iopub.status.idle": "2021-10-21T04:30:10.021837Z",
     "shell.execute_reply": "2021-10-21T04:30:10.023048Z"
    },
    "papermill": {
     "duration": 0.067677,
     "end_time": "2021-10-21T04:30:10.023443",
     "exception": false,
     "start_time": "2021-10-21T04:30:09.955766",
     "status": "completed"
    },
    "tags": []
   },
   "outputs": [],
   "source": [
    "df_pivot = df.pivot_table(index=\"PRODUCT\", columns = \"RECORD_TIME\", values = \"LISTING_COUNT\")"
   ]
  },
  {
   "cell_type": "code",
   "execution_count": 6,
   "id": "union-huntington",
   "metadata": {
    "execution": {
     "iopub.execute_input": "2021-10-21T04:30:10.082317Z",
     "iopub.status.busy": "2021-10-21T04:30:10.079844Z",
     "iopub.status.idle": "2021-10-21T04:30:10.085775Z",
     "shell.execute_reply": "2021-10-21T04:30:10.087058Z"
    },
    "papermill": {
     "duration": 0.04191,
     "end_time": "2021-10-21T04:30:10.087474",
     "exception": false,
     "start_time": "2021-10-21T04:30:10.045564",
     "status": "completed"
    },
    "tags": []
   },
   "outputs": [],
   "source": [
    "df_pivot.columns = [\"stamp_1\", \"stamp_2\"]\n",
    "df_pivot_diff = df_pivot.diff(axis=1)"
   ]
  },
  {
   "cell_type": "code",
   "execution_count": 7,
   "id": "fifth-motion",
   "metadata": {
    "execution": {
     "iopub.execute_input": "2021-10-21T04:30:10.140821Z",
     "iopub.status.busy": "2021-10-21T04:30:10.138465Z",
     "iopub.status.idle": "2021-10-21T04:30:11.664026Z",
     "shell.execute_reply": "2021-10-21T04:30:11.665505Z"
    },
    "papermill": {
     "duration": 1.558136,
     "end_time": "2021-10-21T04:30:11.665987",
     "exception": false,
     "start_time": "2021-10-21T04:30:10.107851",
     "status": "completed"
    },
    "tags": []
   },
   "outputs": [
    {
     "data": {
      "text/plain": [
       "<AxesSubplot:ylabel='PRODUCT'>"
      ]
     },
     "execution_count": 7,
     "metadata": {},
     "output_type": "execute_result"
    },
    {
     "data": {
      "image/png": "[encoded data removed]",
      "text/plain": [
       "<Figure size 432x288 with 1 Axes>"
      ]
     },
     "metadata": {
      "needs_background": "light"
     },
     "output_type": "display_data"
    }
   ],
   "source": [
    "df_pivot_diff.sort_values(\"stamp_2\", ascending = False)[\"stamp_2\"].head(10).plot.barh()"
   ]
  },
  {
   "cell_type": "code",
   "execution_count": null,
   "id": "extra-executive",
   "metadata": {
    "papermill": {
     "duration": 0.022095,
     "end_time": "2021-10-21T04:30:11.713056",
     "exception": false,
     "start_time": "2021-10-21T04:30:11.690961",
     "status": "completed"
    },
    "tags": []
   },
   "outputs": [],
   "source": []
  }
 ],
 "metadata": {
  "kernelspec": {
   "display_name": "Python 3",
   "language": "python",
   "name": "python3"
  },
  "language_info": {
   "codemirror_mode": {
    "name": "ipython",
    "version": 3
   },
   "file_extension": ".py",
   "mimetype": "text/x-python",
   "name": "python",
   "nbconvert_exporter": "python",
   "pygments_lexer": "ipython3",
   "version": "3.9.5"
  },
  "papermill": {
   "default_parameters": {},
   "duration": 7.441299,
   "end_time": "2021-10-21T04:30:12.354053",
   "environment_variables": {},
   "exception": null,
   "input_path": "eBay_Overview.ipynb",
   "output_path": "eBay_Overview.ipynb",
   "parameters": {},
   "start_time": "2021-10-21T04:30:04.912754",
   "version": "2.3.3"
  }
 },
 "nbformat": 4,
 "nbformat_minor": 5
}