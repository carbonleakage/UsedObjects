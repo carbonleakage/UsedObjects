{
 "cells": [
  {
   "cell_type": "code",
   "execution_count": 1,
   "id": "reverse-picking",
   "metadata": {
    "execution": {
     "iopub.execute_input": "2021-09-26T06:30:07.049003Z",
     "iopub.status.busy": "2021-09-26T06:30:07.047070Z",
     "iopub.status.idle": "2021-09-26T06:30:07.851988Z",
     "shell.execute_reply": "2021-09-26T06:30:07.853149Z"
    },
    "papermill": {
     "duration": 0.858704,
     "end_time": "2021-09-26T06:30:07.853766",
     "exception": false,
     "start_time": "2021-09-26T06:30:06.995062",
     "status": "completed"
    },
    "tags": []
   },
   "outputs": [],
   "source": [
    "import pandas as pd\n",
    "import sqlite3"
   ]
  },
  {
   "cell_type": "code",
   "execution_count": 2,
   "id": "innovative-syndrome",
   "metadata": {
    "execution": {
     "iopub.execute_input": "2021-09-26T06:30:07.905116Z",
     "iopub.status.busy": "2021-09-26T06:30:07.903263Z",
     "iopub.status.idle": "2021-09-26T06:30:08.276393Z",
     "shell.execute_reply": "2021-09-26T06:30:08.277584Z"
    },
    "papermill": {
     "duration": 0.402507,
     "end_time": "2021-09-26T06:30:08.277976",
     "exception": false,
     "start_time": "2021-09-26T06:30:07.875469",
     "status": "completed"
    },
    "tags": []
   },
   "outputs": [],
   "source": [
    "timestamps = pd.read_sql(\"select distinct record_time from EBAY_TOP_BERLIN order by record_time desc limit 2\", sqlite3.connect(\"UsedObjects.db\"))"
   ]
  },
  {
   "cell_type": "code",
   "execution_count": 3,
   "id": "periodic-identification",
   "metadata": {
    "execution": {
     "iopub.execute_input": "2021-09-26T06:30:08.346000Z",
     "iopub.status.busy": "2021-09-26T06:30:08.343993Z",
     "iopub.status.idle": "2021-09-26T06:30:08.363795Z",
     "shell.execute_reply": "2021-09-26T06:30:08.365102Z"
    },
    "papermill": {
     "duration": 0.065863,
     "end_time": "2021-09-26T06:30:08.365514",
     "exception": false,
     "start_time": "2021-09-26T06:30:08.299651",
     "status": "completed"
    },
    "tags": []
   },
   "outputs": [
    {
     "data": {
      "text/html": [
       "<div>\n",
       "<style scoped>\n",
       "    .dataframe tbody tr th:only-of-type {\n",
       "        vertical-align: middle;\n",
       "    }\n",
       "\n",
       "    .dataframe tbody tr th {\n",
       "        vertical-align: top;\n",
       "    }\n",
       "\n",
       "    .dataframe thead th {\n",
       "        text-align: right;\n",
       "    }\n",
       "</style>\n",
       "<table border=\"1\" class=\"dataframe\">\n",
       "  <thead>\n",
       "    <tr style=\"text-align: right;\">\n",
       "      <th></th>\n",
       "      <th>RECORD_TIME</th>\n",
       "    </tr>\n",
       "  </thead>\n",
       "  <tbody>\n",
       "    <tr>\n",
       "      <th>0</th>\n",
       "      <td>2021-09-26 08:30</td>\n",
       "    </tr>\n",
       "    <tr>\n",
       "      <th>1</th>\n",
       "      <td>2021-09-26 08:00</td>\n",
       "    </tr>\n",
       "  </tbody>\n",
       "</table>\n",
       "</div>"
      ],
      "text/plain": [
       "        RECORD_TIME\n",
       "0  2021-09-26 08:30\n",
       "1  2021-09-26 08:00"
      ]
     },
     "execution_count": 3,
     "metadata": {},
     "output_type": "execute_result"
    }
   ],
   "source": [
    "timestamps"
   ]
  },
  {
   "cell_type": "code",
   "execution_count": 4,
   "id": "alternate-victory",
   "metadata": {
    "execution": {
     "iopub.execute_input": "2021-09-26T06:30:08.416613Z",
     "iopub.status.busy": "2021-09-26T06:30:08.414339Z",
     "iopub.status.idle": "2021-09-26T06:30:08.977192Z",
     "shell.execute_reply": "2021-09-26T06:30:08.978419Z"
    },
    "papermill": {
     "duration": 0.592768,
     "end_time": "2021-09-26T06:30:08.978865",
     "exception": false,
     "start_time": "2021-09-26T06:30:08.386097",
     "status": "completed"
    },
    "tags": []
   },
   "outputs": [],
   "source": [
    "df = pd.read_sql(\"select * from EBAY_TOP_BERLIN where record_time in (select distinct record_time from EBAY_TOP_BERLIN order by record_time desc limit 2)\", sqlite3.connect(\"UsedObjects.db\"))"
   ]
  },
  {
   "cell_type": "code",
   "execution_count": 5,
   "id": "popular-active",
   "metadata": {
    "execution": {
     "iopub.execute_input": "2021-09-26T06:30:09.049730Z",
     "iopub.status.busy": "2021-09-26T06:30:09.038468Z",
     "iopub.status.idle": "2021-09-26T06:30:09.066355Z",
     "shell.execute_reply": "2021-09-26T06:30:09.067690Z"
    },
    "papermill": {
     "duration": 0.067318,
     "end_time": "2021-09-26T06:30:09.068112",
     "exception": false,
     "start_time": "2021-09-26T06:30:09.000794",
     "status": "completed"
    },
    "tags": []
   },
   "outputs": [],
   "source": [
    "df_pivot = df.pivot_table(index=\"PRODUCT\", columns = \"RECORD_TIME\", values = \"LISTING_COUNT\")"
   ]
  },
  {
   "cell_type": "code",
   "execution_count": 6,
   "id": "union-huntington",
   "metadata": {
    "execution": {
     "iopub.execute_input": "2021-09-26T06:30:09.125510Z",
     "iopub.status.busy": "2021-09-26T06:30:09.123350Z",
     "iopub.status.idle": "2021-09-26T06:30:09.128876Z",
     "shell.execute_reply": "2021-09-26T06:30:09.130125Z"
    },
    "papermill": {
     "duration": 0.040852,
     "end_time": "2021-09-26T06:30:09.130573",
     "exception": false,
     "start_time": "2021-09-26T06:30:09.089721",
     "status": "completed"
    },
    "tags": []
   },
   "outputs": [],
   "source": [
    "df_pivot.columns = [\"stamp_1\", \"stamp_2\"]\n",
    "df_pivot_diff = df_pivot.diff(axis=1)"
   ]
  },
  {
   "cell_type": "code",
   "execution_count": 7,
   "id": "fifth-motion",
   "metadata": {
    "execution": {
     "iopub.execute_input": "2021-09-26T06:30:09.187837Z",
     "iopub.status.busy": "2021-09-26T06:30:09.185129Z",
     "iopub.status.idle": "2021-09-26T06:30:10.645578Z",
     "shell.execute_reply": "2021-09-26T06:30:10.646916Z"
    },
    "papermill": {
     "duration": 1.493941,
     "end_time": "2021-09-26T06:30:10.647331",
     "exception": false,
     "start_time": "2021-09-26T06:30:09.153390",
     "status": "completed"
    },
    "tags": []
   },
   "outputs": [
    {
     "data": {
      "text/plain": [
       "<AxesSubplot:ylabel='PRODUCT'>"
      ]
     },
     "execution_count": 7,
     "metadata": {},
     "output_type": "execute_result"
    },
    {
     "data": {
      "image/png": "[encoded data removed]",
      "text/plain": [
       "<Figure size 432x288 with 1 Axes>"
      ]
     },
     "metadata": {
      "needs_background": "light"
     },
     "output_type": "display_data"
    }
   ],
   "source": [
    "df_pivot_diff.sort_values(\"stamp_2\", ascending = False)[\"stamp_2\"].head(10).plot.barh()"
   ]
  },
  {
   "cell_type": "code",
   "execution_count": null,
   "id": "extra-executive",
   "metadata": {
    "papermill": {
     "duration": 0.022123,
     "end_time": "2021-09-26T06:30:10.695644",
     "exception": false,
     "start_time": "2021-09-26T06:30:10.673521",
     "status": "completed"
    },
    "tags": []
   },
   "outputs": [],
   "source": []
  }
 ],
 "metadata": {
  "kernelspec": {
   "display_name": "Python 3",
   "language": "python",
   "name": "python3"
  },
  "language_info": {
   "codemirror_mode": {
    "name": "ipython",
    "version": 3
   },
   "file_extension": ".py",
   "mimetype": "text/x-python",
   "name": "python",
   "nbconvert_exporter": "python",
   "pygments_lexer": "ipython3",
   "version": "3.9.5"
  },
  "papermill": {
   "default_parameters": {},
   "duration": 6.742953,
   "end_time": "2021-09-26T06:30:11.338196",
   "environment_variables": {},
   "exception": null,
   "input_path": "eBay_Overview.ipynb",
   "output_path": "eBay_Overview.ipynb",
   "parameters": {},
   "start_time": "2021-09-26T06:30:04.595243",
   "version": "2.3.3"
  }
 },
 "nbformat": 4,
 "nbformat_minor": 5
}