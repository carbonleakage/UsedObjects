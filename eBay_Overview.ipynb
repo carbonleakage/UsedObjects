{
 "cells": [
  {
   "cell_type": "code",
   "execution_count": 1,
   "id": "reverse-picking",
   "metadata": {
    "execution": {
     "iopub.execute_input": "2021-11-18T19:30:07.369249Z",
     "iopub.status.busy": "2021-11-18T19:30:07.366783Z",
     "iopub.status.idle": "2021-11-18T19:30:08.312231Z",
     "shell.execute_reply": "2021-11-18T19:30:08.313895Z"
    },
    "papermill": {
     "duration": 0.993876,
     "end_time": "2021-11-18T19:30:08.315095",
     "exception": false,
     "start_time": "2021-11-18T19:30:07.321219",
     "status": "completed"
    },
    "tags": []
   },
   "outputs": [],
   "source": [
    "import pandas as pd\n",
    "import sqlite3"
   ]
  },
  {
   "cell_type": "code",
   "execution_count": 2,
   "id": "innovative-syndrome",
   "metadata": {
    "execution": {
     "iopub.execute_input": "2021-11-18T19:30:08.375444Z",
     "iopub.status.busy": "2021-11-18T19:30:08.373138Z",
     "iopub.status.idle": "2021-11-18T19:30:09.223760Z",
     "shell.execute_reply": "2021-11-18T19:30:09.225558Z"
    },
    "papermill": {
     "duration": 0.887277,
     "end_time": "2021-11-18T19:30:09.226060",
     "exception": false,
     "start_time": "2021-11-18T19:30:08.338783",
     "status": "completed"
    },
    "tags": []
   },
   "outputs": [],
   "source": [
    "timestamps = pd.read_sql(\"select distinct record_time from EBAY_TOP_BERLIN order by record_time desc limit 2\", sqlite3.connect(\"UsedObjects.db\"))"
   ]
  },
  {
   "cell_type": "code",
   "execution_count": 3,
   "id": "periodic-identification",
   "metadata": {
    "execution": {
     "iopub.execute_input": "2021-11-18T19:30:09.298454Z",
     "iopub.status.busy": "2021-11-18T19:30:09.296017Z",
     "iopub.status.idle": "2021-11-18T19:30:09.319061Z",
     "shell.execute_reply": "2021-11-18T19:30:09.320581Z"
    },
    "papermill": {
     "duration": 0.073403,
     "end_time": "2021-11-18T19:30:09.321136",
     "exception": false,
     "start_time": "2021-11-18T19:30:09.247733",
     "status": "completed"
    },
    "tags": []
   },
   "outputs": [
    {
     "data": {
      "text/html": [
       "<div>\n",
       "<style scoped>\n",
       "    .dataframe tbody tr th:only-of-type {\n",
       "        vertical-align: middle;\n",
       "    }\n",
       "\n",
       "    .dataframe tbody tr th {\n",
       "        vertical-align: top;\n",
       "    }\n",
       "\n",
       "    .dataframe thead th {\n",
       "        text-align: right;\n",
       "    }\n",
       "</style>\n",
       "<table border=\"1\" class=\"dataframe\">\n",
       "  <thead>\n",
       "    <tr style=\"text-align: right;\">\n",
       "      <th></th>\n",
       "      <th>RECORD_TIME</th>\n",
       "    </tr>\n",
       "  </thead>\n",
       "  <tbody>\n",
       "    <tr>\n",
       "      <th>0</th>\n",
       "      <td>2021-11-18 20:30</td>\n",
       "    </tr>\n",
       "    <tr>\n",
       "      <th>1</th>\n",
       "      <td>2021-11-18 20:00</td>\n",
       "    </tr>\n",
       "  </tbody>\n",
       "</table>\n",
       "</div>"
      ],
      "text/plain": [
       "        RECORD_TIME\n",
       "0  2021-11-18 20:30\n",
       "1  2021-11-18 20:00"
      ]
     },
     "execution_count": 3,
     "metadata": {},
     "output_type": "execute_result"
    }
   ],
   "source": [
    "timestamps"
   ]
  },
  {
   "cell_type": "code",
   "execution_count": 4,
   "id": "alternate-victory",
   "metadata": {
    "execution": {
     "iopub.execute_input": "2021-11-18T19:30:09.378092Z",
     "iopub.status.busy": "2021-11-18T19:30:09.375871Z",
     "iopub.status.idle": "2021-11-18T19:30:10.596404Z",
     "shell.execute_reply": "2021-11-18T19:30:10.598102Z"
    },
    "papermill": {
     "duration": 1.255038,
     "end_time": "2021-11-18T19:30:10.598580",
     "exception": false,
     "start_time": "2021-11-18T19:30:09.343542",
     "status": "completed"
    },
    "tags": []
   },
   "outputs": [],
   "source": [
    "df = pd.read_sql(\"select * from EBAY_TOP_BERLIN where record_time in (select distinct record_time from EBAY_TOP_BERLIN order by record_time desc limit 2)\", sqlite3.connect(\"UsedObjects.db\"))"
   ]
  },
  {
   "cell_type": "code",
   "execution_count": 5,
   "id": "popular-active",
   "metadata": {
    "execution": {
     "iopub.execute_input": "2021-11-18T19:30:10.667068Z",
     "iopub.status.busy": "2021-11-18T19:30:10.664615Z",
     "iopub.status.idle": "2021-11-18T19:30:10.701630Z",
     "shell.execute_reply": "2021-11-18T19:30:10.704120Z"
    },
    "papermill": {
     "duration": 0.084712,
     "end_time": "2021-11-18T19:30:10.704610",
     "exception": false,
     "start_time": "2021-11-18T19:30:10.619898",
     "status": "completed"
    },
    "tags": []
   },
   "outputs": [],
   "source": [
    "df_pivot = df.pivot_table(index=\"PRODUCT\", columns = \"RECORD_TIME\", values = \"LISTING_COUNT\")"
   ]
  },
  {
   "cell_type": "code",
   "execution_count": 6,
   "id": "union-huntington",
   "metadata": {
    "execution": {
     "iopub.execute_input": "2021-11-18T19:30:10.780545Z",
     "iopub.status.busy": "2021-11-18T19:30:10.778615Z",
     "iopub.status.idle": "2021-11-18T19:30:10.787834Z",
     "shell.execute_reply": "2021-11-18T19:30:10.789467Z"
    },
    "papermill": {
     "duration": 0.048719,
     "end_time": "2021-11-18T19:30:10.789971",
     "exception": false,
     "start_time": "2021-11-18T19:30:10.741252",
     "status": "completed"
    },
    "tags": []
   },
   "outputs": [],
   "source": [
    "df_pivot.columns = [\"stamp_1\", \"stamp_2\"]\n",
    "df_pivot_diff = df_pivot.diff(axis=1)"
   ]
  },
  {
   "cell_type": "code",
   "execution_count": 7,
   "id": "fifth-motion",
   "metadata": {
    "execution": {
     "iopub.execute_input": "2021-11-18T19:30:10.848746Z",
     "iopub.status.busy": "2021-11-18T19:30:10.846127Z",
     "iopub.status.idle": "2021-11-18T19:30:12.592039Z",
     "shell.execute_reply": "2021-11-18T19:30:12.593832Z"
    },
    "papermill": {
     "duration": 1.783308,
     "end_time": "2021-11-18T19:30:12.594330",
     "exception": false,
     "start_time": "2021-11-18T19:30:10.811022",
     "status": "completed"
    },
    "tags": []
   },
   "outputs": [
    {
     "data": {
      "text/plain": [
       "<AxesSubplot:ylabel='PRODUCT'>"
      ]
     },
     "execution_count": 7,
     "metadata": {},
     "output_type": "execute_result"
    },
    {
     "data": {
      "image/png": "[encoded data removed]",
      "text/plain": [
       "<Figure size 432x288 with 1 Axes>"
      ]
     },
     "metadata": {
      "needs_background": "light"
     },
     "output_type": "display_data"
    }
   ],
   "source": [
    "df_pivot_diff.sort_values(\"stamp_2\", ascending = False)[\"stamp_2\"].head(10).plot.barh()"
   ]
  },
  {
   "cell_type": "code",
   "execution_count": null,
   "id": "extra-executive",
   "metadata": {
    "papermill": {
     "duration": 0.023276,
     "end_time": "2021-11-18T19:30:12.642063",
     "exception": false,
     "start_time": "2021-11-18T19:30:12.618787",
     "status": "completed"
    },
    "tags": []
   },
   "outputs": [],
   "source": []
  }
 ],
 "metadata": {
  "kernelspec": {
   "display_name": "Python 3",
   "language": "python",
   "name": "python3"
  },
  "language_info": {
   "codemirror_mode": {
    "name": "ipython",
    "version": 3
   },
   "file_extension": ".py",
   "mimetype": "text/x-python",
   "name": "python",
   "nbconvert_exporter": "python",
   "pygments_lexer": "ipython3",
   "version": "3.9.5"
  },
  "papermill": {
   "default_parameters": {},
   "duration": 8.838949,
   "end_time": "2021-11-18T19:30:13.389779",
   "environment_variables": {},
   "exception": null,
   "input_path": "eBay_Overview.ipynb",
   "output_path": "eBay_Overview.ipynb",
   "parameters": {},
   "start_time": "2021-11-18T19:30:04.550830",
   "version": "2.3.3"
  }
 },
 "nbformat": 4,
 "nbformat_minor": 5
}