{
 "cells": [
  {
   "cell_type": "code",
   "execution_count": 1,
   "id": "reverse-picking",
   "metadata": {
    "execution": {
     "iopub.execute_input": "2021-12-02T17:00:07.808892Z",
     "iopub.status.busy": "2021-12-02T17:00:07.806657Z",
     "iopub.status.idle": "2021-12-02T17:00:08.771828Z",
     "shell.execute_reply": "2021-12-02T17:00:08.773553Z"
    },
    "papermill": {
     "duration": 1.01219,
     "end_time": "2021-12-02T17:00:08.774314",
     "exception": false,
     "start_time": "2021-12-02T17:00:07.762124",
     "status": "completed"
    },
    "tags": []
   },
   "outputs": [],
   "source": [
    "import pandas as pd\n",
    "import sqlite3"
   ]
  },
  {
   "cell_type": "code",
   "execution_count": 2,
   "id": "innovative-syndrome",
   "metadata": {
    "execution": {
     "iopub.execute_input": "2021-12-02T17:00:08.892546Z",
     "iopub.status.busy": "2021-12-02T17:00:08.890150Z",
     "iopub.status.idle": "2021-12-02T17:00:09.871029Z",
     "shell.execute_reply": "2021-12-02T17:00:09.872464Z"
    },
    "papermill": {
     "duration": 1.017758,
     "end_time": "2021-12-02T17:00:09.873182",
     "exception": false,
     "start_time": "2021-12-02T17:00:08.855424",
     "status": "completed"
    },
    "tags": []
   },
   "outputs": [],
   "source": [
    "timestamps = pd.read_sql(\"select distinct record_time from EBAY_TOP_BERLIN order by record_time desc limit 2\", sqlite3.connect(\"UsedObjects.db\"))"
   ]
  },
  {
   "cell_type": "code",
   "execution_count": 3,
   "id": "periodic-identification",
   "metadata": {
    "execution": {
     "iopub.execute_input": "2021-12-02T17:00:09.951414Z",
     "iopub.status.busy": "2021-12-02T17:00:09.945380Z",
     "iopub.status.idle": "2021-12-02T17:00:09.969081Z",
     "shell.execute_reply": "2021-12-02T17:00:09.970600Z"
    },
    "papermill": {
     "duration": 0.077589,
     "end_time": "2021-12-02T17:00:09.971113",
     "exception": false,
     "start_time": "2021-12-02T17:00:09.893524",
     "status": "completed"
    },
    "tags": []
   },
   "outputs": [
    {
     "data": {
      "text/html": [
       "<div>\n",
       "<style scoped>\n",
       "    .dataframe tbody tr th:only-of-type {\n",
       "        vertical-align: middle;\n",
       "    }\n",
       "\n",
       "    .dataframe tbody tr th {\n",
       "        vertical-align: top;\n",
       "    }\n",
       "\n",
       "    .dataframe thead th {\n",
       "        text-align: right;\n",
       "    }\n",
       "</style>\n",
       "<table border=\"1\" class=\"dataframe\">\n",
       "  <thead>\n",
       "    <tr style=\"text-align: right;\">\n",
       "      <th></th>\n",
       "      <th>RECORD_TIME</th>\n",
       "    </tr>\n",
       "  </thead>\n",
       "  <tbody>\n",
       "    <tr>\n",
       "      <th>0</th>\n",
       "      <td>2021-12-02 18:00</td>\n",
       "    </tr>\n",
       "    <tr>\n",
       "      <th>1</th>\n",
       "      <td>2021-12-02 17:30</td>\n",
       "    </tr>\n",
       "  </tbody>\n",
       "</table>\n",
       "</div>"
      ],
      "text/plain": [
       "        RECORD_TIME\n",
       "0  2021-12-02 18:00\n",
       "1  2021-12-02 17:30"
      ]
     },
     "execution_count": 3,
     "metadata": {},
     "output_type": "execute_result"
    }
   ],
   "source": [
    "timestamps"
   ]
  },
  {
   "cell_type": "code",
   "execution_count": 4,
   "id": "alternate-victory",
   "metadata": {
    "execution": {
     "iopub.execute_input": "2021-12-02T17:00:10.026522Z",
     "iopub.status.busy": "2021-12-02T17:00:10.024173Z",
     "iopub.status.idle": "2021-12-02T17:00:11.407540Z",
     "shell.execute_reply": "2021-12-02T17:00:11.409304Z"
    },
    "papermill": {
     "duration": 1.416978,
     "end_time": "2021-12-02T17:00:11.409830",
     "exception": false,
     "start_time": "2021-12-02T17:00:09.992852",
     "status": "completed"
    },
    "tags": []
   },
   "outputs": [],
   "source": [
    "df = pd.read_sql(\"select * from EBAY_TOP_BERLIN where record_time in (select distinct record_time from EBAY_TOP_BERLIN order by record_time desc limit 2)\", sqlite3.connect(\"UsedObjects.db\"))"
   ]
  },
  {
   "cell_type": "code",
   "execution_count": 5,
   "id": "popular-active",
   "metadata": {
    "execution": {
     "iopub.execute_input": "2021-12-02T17:00:11.483448Z",
     "iopub.status.busy": "2021-12-02T17:00:11.474303Z",
     "iopub.status.idle": "2021-12-02T17:00:11.508646Z",
     "shell.execute_reply": "2021-12-02T17:00:11.507257Z"
    },
    "papermill": {
     "duration": 0.076758,
     "end_time": "2021-12-02T17:00:11.509090",
     "exception": false,
     "start_time": "2021-12-02T17:00:11.432332",
     "status": "completed"
    },
    "tags": []
   },
   "outputs": [],
   "source": [
    "df_pivot = df.pivot_table(index=\"PRODUCT\", columns = \"RECORD_TIME\", values = \"LISTING_COUNT\")"
   ]
  },
  {
   "cell_type": "code",
   "execution_count": 6,
   "id": "union-huntington",
   "metadata": {
    "execution": {
     "iopub.execute_input": "2021-12-02T17:00:11.569407Z",
     "iopub.status.busy": "2021-12-02T17:00:11.566960Z",
     "iopub.status.idle": "2021-12-02T17:00:11.573288Z",
     "shell.execute_reply": "2021-12-02T17:00:11.574824Z"
    },
    "papermill": {
     "duration": 0.046714,
     "end_time": "2021-12-02T17:00:11.575306",
     "exception": false,
     "start_time": "2021-12-02T17:00:11.528592",
     "status": "completed"
    },
    "tags": []
   },
   "outputs": [],
   "source": [
    "df_pivot.columns = [\"stamp_1\", \"stamp_2\"]\n",
    "df_pivot_diff = df_pivot.diff(axis=1)"
   ]
  },
  {
   "cell_type": "code",
   "execution_count": 7,
   "id": "fifth-motion",
   "metadata": {
    "execution": {
     "iopub.execute_input": "2021-12-02T17:00:11.635782Z",
     "iopub.status.busy": "2021-12-02T17:00:11.633219Z",
     "iopub.status.idle": "2021-12-02T17:00:13.596381Z",
     "shell.execute_reply": "2021-12-02T17:00:13.598015Z"
    },
    "papermill": {
     "duration": 2.000575,
     "end_time": "2021-12-02T17:00:13.598515",
     "exception": false,
     "start_time": "2021-12-02T17:00:11.597940",
     "status": "completed"
    },
    "tags": []
   },
   "outputs": [
    {
     "data": {
      "text/plain": [
       "<AxesSubplot:ylabel='PRODUCT'>"
      ]
     },
     "execution_count": 7,
     "metadata": {},
     "output_type": "execute_result"
    },
    {
     "data": {
      "image/png": "[encoded data removed]",
      "text/plain": [
       "<Figure size 432x288 with 1 Axes>"
      ]
     },
     "metadata": {
      "needs_background": "light"
     },
     "output_type": "display_data"
    }
   ],
   "source": [
    "df_pivot_diff.sort_values(\"stamp_2\", ascending = False)[\"stamp_2\"].head(10).plot.barh()"
   ]
  },
  {
   "cell_type": "code",
   "execution_count": null,
   "id": "extra-executive",
   "metadata": {
    "papermill": {
     "duration": 0.023126,
     "end_time": "2021-12-02T17:00:13.645792",
     "exception": false,
     "start_time": "2021-12-02T17:00:13.622666",
     "status": "completed"
    },
    "tags": []
   },
   "outputs": [],
   "source": []
  }
 ],
 "metadata": {
  "kernelspec": {
   "display_name": "Python 3",
   "language": "python",
   "name": "python3"
  },
  "language_info": {
   "codemirror_mode": {
    "name": "ipython",
    "version": 3
   },
   "file_extension": ".py",
   "mimetype": "text/x-python",
   "name": "python",
   "nbconvert_exporter": "python",
   "pygments_lexer": "ipython3",
   "version": "3.9.5"
  },
  "papermill": {
   "default_parameters": {},
   "duration": 9.980225,
   "end_time": "2021-12-02T17:00:14.946646",
   "environment_variables": {},
   "exception": null,
   "input_path": "eBay_Overview.ipynb",
   "output_path": "eBay_Overview.ipynb",
   "parameters": {},
   "start_time": "2021-12-02T17:00:04.966421",
   "version": "2.3.3"
  }
 },
 "nbformat": 4,
 "nbformat_minor": 5
}