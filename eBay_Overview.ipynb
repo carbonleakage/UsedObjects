{
 "cells": [
  {
   "cell_type": "code",
   "execution_count": 1,
   "id": "reverse-picking",
   "metadata": {
    "execution": {
     "iopub.execute_input": "2021-08-17T07:30:07.363808Z",
     "iopub.status.busy": "2021-08-17T07:30:07.361771Z",
     "iopub.status.idle": "2021-08-17T07:30:08.170391Z",
     "shell.execute_reply": "2021-08-17T07:30:08.171684Z"
    },
    "papermill": {
     "duration": 0.86022,
     "end_time": "2021-08-17T07:30:08.172300",
     "exception": false,
     "start_time": "2021-08-17T07:30:07.312080",
     "status": "completed"
    },
    "tags": []
   },
   "outputs": [],
   "source": [
    "import pandas as pd\n",
    "import sqlite3"
   ]
  },
  {
   "cell_type": "code",
   "execution_count": 2,
   "id": "innovative-syndrome",
   "metadata": {
    "execution": {
     "iopub.execute_input": "2021-08-17T07:30:08.226906Z",
     "iopub.status.busy": "2021-08-17T07:30:08.224482Z",
     "iopub.status.idle": "2021-08-17T07:30:08.293445Z",
     "shell.execute_reply": "2021-08-17T07:30:08.295451Z"
    },
    "papermill": {
     "duration": 0.10034,
     "end_time": "2021-08-17T07:30:08.295994",
     "exception": false,
     "start_time": "2021-08-17T07:30:08.195654",
     "status": "completed"
    },
    "tags": []
   },
   "outputs": [],
   "source": [
    "timestamps = pd.read_sql(\"select distinct record_time from EBAY_TOP_BERLIN order by record_time desc limit 2\", sqlite3.connect(\"UsedObjects.db\"))"
   ]
  },
  {
   "cell_type": "code",
   "execution_count": 3,
   "id": "periodic-identification",
   "metadata": {
    "execution": {
     "iopub.execute_input": "2021-08-17T07:30:08.365151Z",
     "iopub.status.busy": "2021-08-17T07:30:08.359835Z",
     "iopub.status.idle": "2021-08-17T07:30:08.380095Z",
     "shell.execute_reply": "2021-08-17T07:30:08.381324Z"
    },
    "papermill": {
     "duration": 0.0665,
     "end_time": "2021-08-17T07:30:08.381754",
     "exception": false,
     "start_time": "2021-08-17T07:30:08.315254",
     "status": "completed"
    },
    "tags": []
   },
   "outputs": [
    {
     "data": {
      "text/html": [
       "<div>\n",
       "<style scoped>\n",
       "    .dataframe tbody tr th:only-of-type {\n",
       "        vertical-align: middle;\n",
       "    }\n",
       "\n",
       "    .dataframe tbody tr th {\n",
       "        vertical-align: top;\n",
       "    }\n",
       "\n",
       "    .dataframe thead th {\n",
       "        text-align: right;\n",
       "    }\n",
       "</style>\n",
       "<table border=\"1\" class=\"dataframe\">\n",
       "  <thead>\n",
       "    <tr style=\"text-align: right;\">\n",
       "      <th></th>\n",
       "      <th>RECORD_TIME</th>\n",
       "    </tr>\n",
       "  </thead>\n",
       "  <tbody>\n",
       "    <tr>\n",
       "      <th>0</th>\n",
       "      <td>2021-08-17 09:30</td>\n",
       "    </tr>\n",
       "    <tr>\n",
       "      <th>1</th>\n",
       "      <td>2021-08-17 09:00</td>\n",
       "    </tr>\n",
       "  </tbody>\n",
       "</table>\n",
       "</div>"
      ],
      "text/plain": [
       "        RECORD_TIME\n",
       "0  2021-08-17 09:30\n",
       "1  2021-08-17 09:00"
      ]
     },
     "execution_count": 3,
     "metadata": {},
     "output_type": "execute_result"
    }
   ],
   "source": [
    "timestamps"
   ]
  },
  {
   "cell_type": "code",
   "execution_count": 4,
   "id": "alternate-victory",
   "metadata": {
    "execution": {
     "iopub.execute_input": "2021-08-17T07:30:08.432764Z",
     "iopub.status.busy": "2021-08-17T07:30:08.430897Z",
     "iopub.status.idle": "2021-08-17T07:30:08.528620Z",
     "shell.execute_reply": "2021-08-17T07:30:08.529847Z"
    },
    "papermill": {
     "duration": 0.127962,
     "end_time": "2021-08-17T07:30:08.530348",
     "exception": false,
     "start_time": "2021-08-17T07:30:08.402386",
     "status": "completed"
    },
    "tags": []
   },
   "outputs": [],
   "source": [
    "df = pd.read_sql(\"select * from EBAY_TOP_BERLIN where record_time in (select distinct record_time from EBAY_TOP_BERLIN order by record_time desc limit 2)\", sqlite3.connect(\"UsedObjects.db\"))"
   ]
  },
  {
   "cell_type": "code",
   "execution_count": 5,
   "id": "popular-active",
   "metadata": {
    "execution": {
     "iopub.execute_input": "2021-08-17T07:30:08.601644Z",
     "iopub.status.busy": "2021-08-17T07:30:08.589765Z",
     "iopub.status.idle": "2021-08-17T07:30:08.617474Z",
     "shell.execute_reply": "2021-08-17T07:30:08.618775Z"
    },
    "papermill": {
     "duration": 0.068412,
     "end_time": "2021-08-17T07:30:08.619176",
     "exception": false,
     "start_time": "2021-08-17T07:30:08.550764",
     "status": "completed"
    },
    "tags": []
   },
   "outputs": [],
   "source": [
    "df_pivot = df.pivot_table(index=\"PRODUCT\", columns = \"RECORD_TIME\", values = \"LISTING_COUNT\")"
   ]
  },
  {
   "cell_type": "code",
   "execution_count": 6,
   "id": "union-huntington",
   "metadata": {
    "execution": {
     "iopub.execute_input": "2021-08-17T07:30:08.677665Z",
     "iopub.status.busy": "2021-08-17T07:30:08.675368Z",
     "iopub.status.idle": "2021-08-17T07:30:08.681166Z",
     "shell.execute_reply": "2021-08-17T07:30:08.682531Z"
    },
    "papermill": {
     "duration": 0.042154,
     "end_time": "2021-08-17T07:30:08.682953",
     "exception": false,
     "start_time": "2021-08-17T07:30:08.640799",
     "status": "completed"
    },
    "tags": []
   },
   "outputs": [],
   "source": [
    "df_pivot.columns = [\"stamp_1\", \"stamp_2\"]\n",
    "df_pivot_diff = df_pivot.diff(axis=1)"
   ]
  },
  {
   "cell_type": "code",
   "execution_count": 7,
   "id": "fifth-motion",
   "metadata": {
    "execution": {
     "iopub.execute_input": "2021-08-17T07:30:08.737421Z",
     "iopub.status.busy": "2021-08-17T07:30:08.735116Z",
     "iopub.status.idle": "2021-08-17T07:30:10.215604Z",
     "shell.execute_reply": "2021-08-17T07:30:10.216917Z"
    },
    "papermill": {
     "duration": 1.514266,
     "end_time": "2021-08-17T07:30:10.217337",
     "exception": false,
     "start_time": "2021-08-17T07:30:08.703071",
     "status": "completed"
    },
    "tags": []
   },
   "outputs": [
    {
     "data": {
      "text/plain": [
       "<AxesSubplot:ylabel='PRODUCT'>"
      ]
     },
     "execution_count": 7,
     "metadata": {},
     "output_type": "execute_result"
    },
    {
     "data": {
      "image/png": "[encoded data removed]",
      "text/plain": [
       "<Figure size 432x288 with 1 Axes>"
      ]
     },
     "metadata": {
      "needs_background": "light"
     },
     "output_type": "display_data"
    }
   ],
   "source": [
    "df_pivot_diff.sort_values(\"stamp_2\", ascending = False)[\"stamp_2\"].head(10).plot.barh()"
   ]
  },
  {
   "cell_type": "code",
   "execution_count": null,
   "id": "extra-executive",
   "metadata": {
    "papermill": {
     "duration": 0.022326,
     "end_time": "2021-08-17T07:30:10.264173",
     "exception": false,
     "start_time": "2021-08-17T07:30:10.241847",
     "status": "completed"
    },
    "tags": []
   },
   "outputs": [],
   "source": []
  }
 ],
 "metadata": {
  "kernelspec": {
   "display_name": "Python 3",
   "language": "python",
   "name": "python3"
  },
  "language_info": {
   "codemirror_mode": {
    "name": "ipython",
    "version": 3
   },
   "file_extension": ".py",
   "mimetype": "text/x-python",
   "name": "python",
   "nbconvert_exporter": "python",
   "pygments_lexer": "ipython3",
   "version": "3.9.5"
  },
  "papermill": {
   "default_parameters": {},
   "duration": 6.823059,
   "end_time": "2021-08-17T07:30:11.725988",
   "environment_variables": {},
   "exception": null,
   "input_path": "eBay_Overview.ipynb",
   "output_path": "eBay_Overview.ipynb",
   "parameters": {},
   "start_time": "2021-08-17T07:30:04.902929",
   "version": "2.3.3"
  }
 },
 "nbformat": 4,
 "nbformat_minor": 5
}