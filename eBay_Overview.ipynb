{
 "cells": [
  {
   "cell_type": "code",
   "execution_count": 1,
   "id": "reverse-picking",
   "metadata": {
    "execution": {
     "iopub.execute_input": "2021-10-03T16:00:07.244955Z",
     "iopub.status.busy": "2021-10-03T16:00:07.243012Z",
     "iopub.status.idle": "2021-10-03T16:00:08.048856Z",
     "shell.execute_reply": "2021-10-03T16:00:08.050110Z"
    },
    "papermill": {
     "duration": 0.859647,
     "end_time": "2021-10-03T16:00:08.050724",
     "exception": false,
     "start_time": "2021-10-03T16:00:07.191077",
     "status": "completed"
    },
    "tags": []
   },
   "outputs": [],
   "source": [
    "import pandas as pd\n",
    "import sqlite3"
   ]
  },
  {
   "cell_type": "code",
   "execution_count": 2,
   "id": "innovative-syndrome",
   "metadata": {
    "execution": {
     "iopub.execute_input": "2021-10-03T16:00:08.100530Z",
     "iopub.status.busy": "2021-10-03T16:00:08.098533Z",
     "iopub.status.idle": "2021-10-03T16:00:08.546499Z",
     "shell.execute_reply": "2021-10-03T16:00:08.548609Z"
    },
    "papermill": {
     "duration": 0.478192,
     "end_time": "2021-10-03T16:00:08.549064",
     "exception": false,
     "start_time": "2021-10-03T16:00:08.070872",
     "status": "completed"
    },
    "tags": []
   },
   "outputs": [],
   "source": [
    "timestamps = pd.read_sql(\"select distinct record_time from EBAY_TOP_BERLIN order by record_time desc limit 2\", sqlite3.connect(\"UsedObjects.db\"))"
   ]
  },
  {
   "cell_type": "code",
   "execution_count": 3,
   "id": "periodic-identification",
   "metadata": {
    "execution": {
     "iopub.execute_input": "2021-10-03T16:00:08.614273Z",
     "iopub.status.busy": "2021-10-03T16:00:08.612253Z",
     "iopub.status.idle": "2021-10-03T16:00:08.632083Z",
     "shell.execute_reply": "2021-10-03T16:00:08.633699Z"
    },
    "papermill": {
     "duration": 0.06605,
     "end_time": "2021-10-03T16:00:08.634195",
     "exception": false,
     "start_time": "2021-10-03T16:00:08.568145",
     "status": "completed"
    },
    "tags": []
   },
   "outputs": [
    {
     "data": {
      "text/html": [
       "<div>\n",
       "<style scoped>\n",
       "    .dataframe tbody tr th:only-of-type {\n",
       "        vertical-align: middle;\n",
       "    }\n",
       "\n",
       "    .dataframe tbody tr th {\n",
       "        vertical-align: top;\n",
       "    }\n",
       "\n",
       "    .dataframe thead th {\n",
       "        text-align: right;\n",
       "    }\n",
       "</style>\n",
       "<table border=\"1\" class=\"dataframe\">\n",
       "  <thead>\n",
       "    <tr style=\"text-align: right;\">\n",
       "      <th></th>\n",
       "      <th>RECORD_TIME</th>\n",
       "    </tr>\n",
       "  </thead>\n",
       "  <tbody>\n",
       "    <tr>\n",
       "      <th>0</th>\n",
       "      <td>2021-10-03 18:00</td>\n",
       "    </tr>\n",
       "    <tr>\n",
       "      <th>1</th>\n",
       "      <td>2021-10-03 17:30</td>\n",
       "    </tr>\n",
       "  </tbody>\n",
       "</table>\n",
       "</div>"
      ],
      "text/plain": [
       "        RECORD_TIME\n",
       "0  2021-10-03 18:00\n",
       "1  2021-10-03 17:30"
      ]
     },
     "execution_count": 3,
     "metadata": {},
     "output_type": "execute_result"
    }
   ],
   "source": [
    "timestamps"
   ]
  },
  {
   "cell_type": "code",
   "execution_count": 4,
   "id": "alternate-victory",
   "metadata": {
    "execution": {
     "iopub.execute_input": "2021-10-03T16:00:08.696241Z",
     "iopub.status.busy": "2021-10-03T16:00:08.693667Z",
     "iopub.status.idle": "2021-10-03T16:00:09.368503Z",
     "shell.execute_reply": "2021-10-03T16:00:09.369725Z"
    },
    "papermill": {
     "duration": 0.708798,
     "end_time": "2021-10-03T16:00:09.370122",
     "exception": false,
     "start_time": "2021-10-03T16:00:08.661324",
     "status": "completed"
    },
    "tags": []
   },
   "outputs": [],
   "source": [
    "df = pd.read_sql(\"select * from EBAY_TOP_BERLIN where record_time in (select distinct record_time from EBAY_TOP_BERLIN order by record_time desc limit 2)\", sqlite3.connect(\"UsedObjects.db\"))"
   ]
  },
  {
   "cell_type": "code",
   "execution_count": 5,
   "id": "popular-active",
   "metadata": {
    "execution": {
     "iopub.execute_input": "2021-10-03T16:00:09.444171Z",
     "iopub.status.busy": "2021-10-03T16:00:09.431740Z",
     "iopub.status.idle": "2021-10-03T16:00:09.460575Z",
     "shell.execute_reply": "2021-10-03T16:00:09.461987Z"
    },
    "papermill": {
     "duration": 0.069627,
     "end_time": "2021-10-03T16:00:09.462428",
     "exception": false,
     "start_time": "2021-10-03T16:00:09.392801",
     "status": "completed"
    },
    "tags": []
   },
   "outputs": [],
   "source": [
    "df_pivot = df.pivot_table(index=\"PRODUCT\", columns = \"RECORD_TIME\", values = \"LISTING_COUNT\")"
   ]
  },
  {
   "cell_type": "code",
   "execution_count": 6,
   "id": "union-huntington",
   "metadata": {
    "execution": {
     "iopub.execute_input": "2021-10-03T16:00:09.520033Z",
     "iopub.status.busy": "2021-10-03T16:00:09.517577Z",
     "iopub.status.idle": "2021-10-03T16:00:09.523829Z",
     "shell.execute_reply": "2021-10-03T16:00:09.525216Z"
    },
    "papermill": {
     "duration": 0.0426,
     "end_time": "2021-10-03T16:00:09.525701",
     "exception": false,
     "start_time": "2021-10-03T16:00:09.483101",
     "status": "completed"
    },
    "tags": []
   },
   "outputs": [],
   "source": [
    "df_pivot.columns = [\"stamp_1\", \"stamp_2\"]\n",
    "df_pivot_diff = df_pivot.diff(axis=1)"
   ]
  },
  {
   "cell_type": "code",
   "execution_count": 7,
   "id": "fifth-motion",
   "metadata": {
    "execution": {
     "iopub.execute_input": "2021-10-03T16:00:09.580873Z",
     "iopub.status.busy": "2021-10-03T16:00:09.578345Z",
     "iopub.status.idle": "2021-10-03T16:00:11.080485Z",
     "shell.execute_reply": "2021-10-03T16:00:11.081789Z"
    },
    "papermill": {
     "duration": 1.534951,
     "end_time": "2021-10-03T16:00:11.082214",
     "exception": false,
     "start_time": "2021-10-03T16:00:09.547263",
     "status": "completed"
    },
    "tags": []
   },
   "outputs": [
    {
     "data": {
      "text/plain": [
       "<AxesSubplot:ylabel='PRODUCT'>"
      ]
     },
     "execution_count": 7,
     "metadata": {},
     "output_type": "execute_result"
    },
    {
     "data": {
      "image/png": "[encoded data removed]",
      "text/plain": [
       "<Figure size 432x288 with 1 Axes>"
      ]
     },
     "metadata": {
      "needs_background": "light"
     },
     "output_type": "display_data"
    }
   ],
   "source": [
    "df_pivot_diff.sort_values(\"stamp_2\", ascending = False)[\"stamp_2\"].head(10).plot.barh()"
   ]
  },
  {
   "cell_type": "code",
   "execution_count": null,
   "id": "extra-executive",
   "metadata": {
    "papermill": {
     "duration": 0.022363,
     "end_time": "2021-10-03T16:00:11.128465",
     "exception": false,
     "start_time": "2021-10-03T16:00:11.106102",
     "status": "completed"
    },
    "tags": []
   },
   "outputs": [],
   "source": []
  }
 ],
 "metadata": {
  "kernelspec": {
   "display_name": "Python 3",
   "language": "python",
   "name": "python3"
  },
  "language_info": {
   "codemirror_mode": {
    "name": "ipython",
    "version": 3
   },
   "file_extension": ".py",
   "mimetype": "text/x-python",
   "name": "python",
   "nbconvert_exporter": "python",
   "pygments_lexer": "ipython3",
   "version": "3.9.5"
  },
  "papermill": {
   "default_parameters": {},
   "duration": 7.825583,
   "end_time": "2021-10-03T16:00:12.601627",
   "environment_variables": {},
   "exception": null,
   "input_path": "eBay_Overview.ipynb",
   "output_path": "eBay_Overview.ipynb",
   "parameters": {},
   "start_time": "2021-10-03T16:00:04.776044",
   "version": "2.3.3"
  }
 },
 "nbformat": 4,
 "nbformat_minor": 5
}