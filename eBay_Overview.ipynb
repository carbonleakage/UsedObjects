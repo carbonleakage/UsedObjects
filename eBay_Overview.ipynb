{
 "cells": [
  {
   "cell_type": "code",
   "execution_count": 1,
   "id": "reverse-picking",
   "metadata": {
    "execution": {
     "iopub.execute_input": "2021-12-05T16:30:07.515221Z",
     "iopub.status.busy": "2021-12-05T16:30:07.512888Z",
     "iopub.status.idle": "2021-12-05T16:30:08.447369Z",
     "shell.execute_reply": "2021-12-05T16:30:08.449671Z"
    },
    "papermill": {
     "duration": 0.985837,
     "end_time": "2021-12-05T16:30:08.450394",
     "exception": false,
     "start_time": "2021-12-05T16:30:07.464557",
     "status": "completed"
    },
    "tags": []
   },
   "outputs": [],
   "source": [
    "import pandas as pd\n",
    "import sqlite3"
   ]
  },
  {
   "cell_type": "code",
   "execution_count": 2,
   "id": "innovative-syndrome",
   "metadata": {
    "execution": {
     "iopub.execute_input": "2021-12-05T16:30:08.510922Z",
     "iopub.status.busy": "2021-12-05T16:30:08.508345Z",
     "iopub.status.idle": "2021-12-05T16:30:09.535617Z",
     "shell.execute_reply": "2021-12-05T16:30:09.537119Z"
    },
    "papermill": {
     "duration": 1.060199,
     "end_time": "2021-12-05T16:30:09.537608",
     "exception": false,
     "start_time": "2021-12-05T16:30:08.477409",
     "status": "completed"
    },
    "tags": []
   },
   "outputs": [],
   "source": [
    "timestamps = pd.read_sql(\"select distinct record_time from EBAY_TOP_BERLIN order by record_time desc limit 2\", sqlite3.connect(\"UsedObjects.db\"))"
   ]
  },
  {
   "cell_type": "code",
   "execution_count": 3,
   "id": "periodic-identification",
   "metadata": {
    "execution": {
     "iopub.execute_input": "2021-12-05T16:30:09.611077Z",
     "iopub.status.busy": "2021-12-05T16:30:09.605063Z",
     "iopub.status.idle": "2021-12-05T16:30:09.629294Z",
     "shell.execute_reply": "2021-12-05T16:30:09.627481Z"
    },
    "papermill": {
     "duration": 0.072194,
     "end_time": "2021-12-05T16:30:09.629729",
     "exception": false,
     "start_time": "2021-12-05T16:30:09.557535",
     "status": "completed"
    },
    "tags": []
   },
   "outputs": [
    {
     "data": {
      "text/html": [
       "<div>\n",
       "<style scoped>\n",
       "    .dataframe tbody tr th:only-of-type {\n",
       "        vertical-align: middle;\n",
       "    }\n",
       "\n",
       "    .dataframe tbody tr th {\n",
       "        vertical-align: top;\n",
       "    }\n",
       "\n",
       "    .dataframe thead th {\n",
       "        text-align: right;\n",
       "    }\n",
       "</style>\n",
       "<table border=\"1\" class=\"dataframe\">\n",
       "  <thead>\n",
       "    <tr style=\"text-align: right;\">\n",
       "      <th></th>\n",
       "      <th>RECORD_TIME</th>\n",
       "    </tr>\n",
       "  </thead>\n",
       "  <tbody>\n",
       "    <tr>\n",
       "      <th>0</th>\n",
       "      <td>2021-12-05 17:30</td>\n",
       "    </tr>\n",
       "    <tr>\n",
       "      <th>1</th>\n",
       "      <td>2021-12-05 17:00</td>\n",
       "    </tr>\n",
       "  </tbody>\n",
       "</table>\n",
       "</div>"
      ],
      "text/plain": [
       "        RECORD_TIME\n",
       "0  2021-12-05 17:30\n",
       "1  2021-12-05 17:00"
      ]
     },
     "execution_count": 3,
     "metadata": {},
     "output_type": "execute_result"
    }
   ],
   "source": [
    "timestamps"
   ]
  },
  {
   "cell_type": "code",
   "execution_count": 4,
   "id": "alternate-victory",
   "metadata": {
    "execution": {
     "iopub.execute_input": "2021-12-05T16:30:09.688466Z",
     "iopub.status.busy": "2021-12-05T16:30:09.686179Z",
     "iopub.status.idle": "2021-12-05T16:30:11.149700Z",
     "shell.execute_reply": "2021-12-05T16:30:11.151061Z"
    },
    "papermill": {
     "duration": 1.499142,
     "end_time": "2021-12-05T16:30:11.151536",
     "exception": false,
     "start_time": "2021-12-05T16:30:09.652394",
     "status": "completed"
    },
    "tags": []
   },
   "outputs": [],
   "source": [
    "df = pd.read_sql(\"select * from EBAY_TOP_BERLIN where record_time in (select distinct record_time from EBAY_TOP_BERLIN order by record_time desc limit 2)\", sqlite3.connect(\"UsedObjects.db\"))"
   ]
  },
  {
   "cell_type": "code",
   "execution_count": 5,
   "id": "popular-active",
   "metadata": {
    "execution": {
     "iopub.execute_input": "2021-12-05T16:30:11.208216Z",
     "iopub.status.busy": "2021-12-05T16:30:11.205884Z",
     "iopub.status.idle": "2021-12-05T16:30:11.247519Z",
     "shell.execute_reply": "2021-12-05T16:30:11.249129Z"
    },
    "papermill": {
     "duration": 0.077496,
     "end_time": "2021-12-05T16:30:11.249657",
     "exception": false,
     "start_time": "2021-12-05T16:30:11.172161",
     "status": "completed"
    },
    "tags": []
   },
   "outputs": [],
   "source": [
    "df_pivot = df.pivot_table(index=\"PRODUCT\", columns = \"RECORD_TIME\", values = \"LISTING_COUNT\")"
   ]
  },
  {
   "cell_type": "code",
   "execution_count": 6,
   "id": "union-huntington",
   "metadata": {
    "execution": {
     "iopub.execute_input": "2021-12-05T16:30:11.316999Z",
     "iopub.status.busy": "2021-12-05T16:30:11.314618Z",
     "iopub.status.idle": "2021-12-05T16:30:11.322562Z",
     "shell.execute_reply": "2021-12-05T16:30:11.320239Z"
    },
    "papermill": {
     "duration": 0.052452,
     "end_time": "2021-12-05T16:30:11.323008",
     "exception": false,
     "start_time": "2021-12-05T16:30:11.270556",
     "status": "completed"
    },
    "tags": []
   },
   "outputs": [],
   "source": [
    "df_pivot.columns = [\"stamp_1\", \"stamp_2\"]\n",
    "df_pivot_diff = df_pivot.diff(axis=1)"
   ]
  },
  {
   "cell_type": "code",
   "execution_count": 7,
   "id": "fifth-motion",
   "metadata": {
    "execution": {
     "iopub.execute_input": "2021-12-05T16:30:11.383116Z",
     "iopub.status.busy": "2021-12-05T16:30:11.380496Z",
     "iopub.status.idle": "2021-12-05T16:30:13.319848Z",
     "shell.execute_reply": "2021-12-05T16:30:13.321675Z"
    },
    "papermill": {
     "duration": 1.97682,
     "end_time": "2021-12-05T16:30:13.322285",
     "exception": false,
     "start_time": "2021-12-05T16:30:11.345465",
     "status": "completed"
    },
    "tags": []
   },
   "outputs": [
    {
     "data": {
      "text/plain": [
       "<AxesSubplot:ylabel='PRODUCT'>"
      ]
     },
     "execution_count": 7,
     "metadata": {},
     "output_type": "execute_result"
    },
    {
     "data": {
      "image/png": "[encoded data removed]",
      "text/plain": [
       "<Figure size 432x288 with 1 Axes>"
      ]
     },
     "metadata": {
      "needs_background": "light"
     },
     "output_type": "display_data"
    }
   ],
   "source": [
    "df_pivot_diff.sort_values(\"stamp_2\", ascending = False)[\"stamp_2\"].head(10).plot.barh()"
   ]
  },
  {
   "cell_type": "code",
   "execution_count": null,
   "id": "extra-executive",
   "metadata": {
    "papermill": {
     "duration": 0.034201,
     "end_time": "2021-12-05T16:30:13.394673",
     "exception": false,
     "start_time": "2021-12-05T16:30:13.360472",
     "status": "completed"
    },
    "tags": []
   },
   "outputs": [],
   "source": []
  }
 ],
 "metadata": {
  "kernelspec": {
   "display_name": "Python 3",
   "language": "python",
   "name": "python3"
  },
  "language_info": {
   "codemirror_mode": {
    "name": "ipython",
    "version": 3
   },
   "file_extension": ".py",
   "mimetype": "text/x-python",
   "name": "python",
   "nbconvert_exporter": "python",
   "pygments_lexer": "ipython3",
   "version": "3.9.5"
  },
  "papermill": {
   "default_parameters": {},
   "duration": 9.94519,
   "end_time": "2021-12-05T16:30:14.669470",
   "environment_variables": {},
   "exception": null,
   "input_path": "eBay_Overview.ipynb",
   "output_path": "eBay_Overview.ipynb",
   "parameters": {},
   "start_time": "2021-12-05T16:30:04.724280",
   "version": "2.3.3"
  }
 },
 "nbformat": 4,
 "nbformat_minor": 5
}