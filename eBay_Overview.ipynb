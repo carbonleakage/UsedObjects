{
 "cells": [
  {
   "cell_type": "code",
   "execution_count": 1,
   "id": "reverse-picking",
   "metadata": {
    "execution": {
     "iopub.execute_input": "2021-08-21T06:00:06.987806Z",
     "iopub.status.busy": "2021-08-21T06:00:06.985811Z",
     "iopub.status.idle": "2021-08-21T06:00:07.791008Z",
     "shell.execute_reply": "2021-08-21T06:00:07.792281Z"
    },
    "papermill": {
     "duration": 0.857819,
     "end_time": "2021-08-21T06:00:07.792896",
     "exception": false,
     "start_time": "2021-08-21T06:00:06.935077",
     "status": "completed"
    },
    "tags": []
   },
   "outputs": [],
   "source": [
    "import pandas as pd\n",
    "import sqlite3"
   ]
  },
  {
   "cell_type": "code",
   "execution_count": 2,
   "id": "innovative-syndrome",
   "metadata": {
    "execution": {
     "iopub.execute_input": "2021-08-21T06:00:07.843426Z",
     "iopub.status.busy": "2021-08-21T06:00:07.841470Z",
     "iopub.status.idle": "2021-08-21T06:00:07.935163Z",
     "shell.execute_reply": "2021-08-21T06:00:07.936357Z"
    },
    "papermill": {
     "duration": 0.122992,
     "end_time": "2021-08-21T06:00:07.936744",
     "exception": false,
     "start_time": "2021-08-21T06:00:07.813752",
     "status": "completed"
    },
    "tags": []
   },
   "outputs": [],
   "source": [
    "timestamps = pd.read_sql(\"select distinct record_time from EBAY_TOP_BERLIN order by record_time desc limit 2\", sqlite3.connect(\"UsedObjects.db\"))"
   ]
  },
  {
   "cell_type": "code",
   "execution_count": 3,
   "id": "periodic-identification",
   "metadata": {
    "execution": {
     "iopub.execute_input": "2021-08-21T06:00:08.007925Z",
     "iopub.status.busy": "2021-08-21T06:00:08.002939Z",
     "iopub.status.idle": "2021-08-21T06:00:08.022722Z",
     "shell.execute_reply": "2021-08-21T06:00:08.024108Z"
    },
    "papermill": {
     "duration": 0.06533,
     "end_time": "2021-08-21T06:00:08.024523",
     "exception": false,
     "start_time": "2021-08-21T06:00:07.959193",
     "status": "completed"
    },
    "tags": []
   },
   "outputs": [
    {
     "data": {
      "text/html": [
       "<div>\n",
       "<style scoped>\n",
       "    .dataframe tbody tr th:only-of-type {\n",
       "        vertical-align: middle;\n",
       "    }\n",
       "\n",
       "    .dataframe tbody tr th {\n",
       "        vertical-align: top;\n",
       "    }\n",
       "\n",
       "    .dataframe thead th {\n",
       "        text-align: right;\n",
       "    }\n",
       "</style>\n",
       "<table border=\"1\" class=\"dataframe\">\n",
       "  <thead>\n",
       "    <tr style=\"text-align: right;\">\n",
       "      <th></th>\n",
       "      <th>RECORD_TIME</th>\n",
       "    </tr>\n",
       "  </thead>\n",
       "  <tbody>\n",
       "    <tr>\n",
       "      <th>0</th>\n",
       "      <td>2021-08-21 08:00</td>\n",
       "    </tr>\n",
       "    <tr>\n",
       "      <th>1</th>\n",
       "      <td>2021-08-21 07:30</td>\n",
       "    </tr>\n",
       "  </tbody>\n",
       "</table>\n",
       "</div>"
      ],
      "text/plain": [
       "        RECORD_TIME\n",
       "0  2021-08-21 08:00\n",
       "1  2021-08-21 07:30"
      ]
     },
     "execution_count": 3,
     "metadata": {},
     "output_type": "execute_result"
    }
   ],
   "source": [
    "timestamps"
   ]
  },
  {
   "cell_type": "code",
   "execution_count": 4,
   "id": "alternate-victory",
   "metadata": {
    "execution": {
     "iopub.execute_input": "2021-08-21T06:00:08.075073Z",
     "iopub.status.busy": "2021-08-21T06:00:08.073169Z",
     "iopub.status.idle": "2021-08-21T06:00:08.211881Z",
     "shell.execute_reply": "2021-08-21T06:00:08.213095Z"
    },
    "papermill": {
     "duration": 0.168509,
     "end_time": "2021-08-21T06:00:08.213483",
     "exception": false,
     "start_time": "2021-08-21T06:00:08.044974",
     "status": "completed"
    },
    "tags": []
   },
   "outputs": [],
   "source": [
    "df = pd.read_sql(\"select * from EBAY_TOP_BERLIN where record_time in (select distinct record_time from EBAY_TOP_BERLIN order by record_time desc limit 2)\", sqlite3.connect(\"UsedObjects.db\"))"
   ]
  },
  {
   "cell_type": "code",
   "execution_count": 5,
   "id": "popular-active",
   "metadata": {
    "execution": {
     "iopub.execute_input": "2021-08-21T06:00:08.282857Z",
     "iopub.status.busy": "2021-08-21T06:00:08.271539Z",
     "iopub.status.idle": "2021-08-21T06:00:08.299447Z",
     "shell.execute_reply": "2021-08-21T06:00:08.300733Z"
    },
    "papermill": {
     "duration": 0.067301,
     "end_time": "2021-08-21T06:00:08.301148",
     "exception": false,
     "start_time": "2021-08-21T06:00:08.233847",
     "status": "completed"
    },
    "tags": []
   },
   "outputs": [],
   "source": [
    "df_pivot = df.pivot_table(index=\"PRODUCT\", columns = \"RECORD_TIME\", values = \"LISTING_COUNT\")"
   ]
  },
  {
   "cell_type": "code",
   "execution_count": 6,
   "id": "union-huntington",
   "metadata": {
    "execution": {
     "iopub.execute_input": "2021-08-21T06:00:08.358806Z",
     "iopub.status.busy": "2021-08-21T06:00:08.356698Z",
     "iopub.status.idle": "2021-08-21T06:00:08.362273Z",
     "shell.execute_reply": "2021-08-21T06:00:08.363731Z"
    },
    "papermill": {
     "duration": 0.0411,
     "end_time": "2021-08-21T06:00:08.364203",
     "exception": false,
     "start_time": "2021-08-21T06:00:08.323103",
     "status": "completed"
    },
    "tags": []
   },
   "outputs": [],
   "source": [
    "df_pivot.columns = [\"stamp_1\", \"stamp_2\"]\n",
    "df_pivot_diff = df_pivot.diff(axis=1)"
   ]
  },
  {
   "cell_type": "code",
   "execution_count": 7,
   "id": "fifth-motion",
   "metadata": {
    "execution": {
     "iopub.execute_input": "2021-08-21T06:00:08.419612Z",
     "iopub.status.busy": "2021-08-21T06:00:08.417188Z",
     "iopub.status.idle": "2021-08-21T06:00:09.922260Z",
     "shell.execute_reply": "2021-08-21T06:00:09.923569Z"
    },
    "papermill": {
     "duration": 1.538284,
     "end_time": "2021-08-21T06:00:09.923986",
     "exception": false,
     "start_time": "2021-08-21T06:00:08.385702",
     "status": "completed"
    },
    "tags": []
   },
   "outputs": [
    {
     "data": {
      "text/plain": [
       "<AxesSubplot:ylabel='PRODUCT'>"
      ]
     },
     "execution_count": 7,
     "metadata": {},
     "output_type": "execute_result"
    },
    {
     "data": {
      "image/png": "[encoded data removed]",
      "text/plain": [
       "<Figure size 432x288 with 1 Axes>"
      ]
     },
     "metadata": {
      "needs_background": "light"
     },
     "output_type": "display_data"
    }
   ],
   "source": [
    "df_pivot_diff.sort_values(\"stamp_2\", ascending = False)[\"stamp_2\"].head(10).plot.barh()"
   ]
  },
  {
   "cell_type": "code",
   "execution_count": null,
   "id": "extra-executive",
   "metadata": {
    "papermill": {
     "duration": 0.022114,
     "end_time": "2021-08-21T06:00:09.970094",
     "exception": false,
     "start_time": "2021-08-21T06:00:09.947980",
     "status": "completed"
    },
    "tags": []
   },
   "outputs": [],
   "source": []
  }
 ],
 "metadata": {
  "kernelspec": {
   "display_name": "Python 3",
   "language": "python",
   "name": "python3"
  },
  "language_info": {
   "codemirror_mode": {
    "name": "ipython",
    "version": 3
   },
   "file_extension": ".py",
   "mimetype": "text/x-python",
   "name": "python",
   "nbconvert_exporter": "python",
   "pygments_lexer": "ipython3",
   "version": "3.9.5"
  },
  "papermill": {
   "default_parameters": {},
   "duration": 6.821332,
   "end_time": "2021-08-21T06:00:11.350803",
   "environment_variables": {},
   "exception": null,
   "input_path": "eBay_Overview.ipynb",
   "output_path": "eBay_Overview.ipynb",
   "parameters": {},
   "start_time": "2021-08-21T06:00:04.529471",
   "version": "2.3.3"
  }
 },
 "nbformat": 4,
 "nbformat_minor": 5
}