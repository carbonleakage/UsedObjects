{
 "cells": [
  {
   "cell_type": "code",
   "execution_count": 1,
   "id": "reverse-picking",
   "metadata": {
    "execution": {
     "iopub.execute_input": "2021-10-19T08:00:06.794490Z",
     "iopub.status.busy": "2021-10-19T08:00:06.792416Z",
     "iopub.status.idle": "2021-10-19T08:00:07.598716Z",
     "shell.execute_reply": "2021-10-19T08:00:07.599953Z"
    },
    "papermill": {
     "duration": 0.857076,
     "end_time": "2021-10-19T08:00:07.600575",
     "exception": false,
     "start_time": "2021-10-19T08:00:06.743499",
     "status": "completed"
    },
    "tags": []
   },
   "outputs": [],
   "source": [
    "import pandas as pd\n",
    "import sqlite3"
   ]
  },
  {
   "cell_type": "code",
   "execution_count": 2,
   "id": "innovative-syndrome",
   "metadata": {
    "execution": {
     "iopub.execute_input": "2021-10-19T08:00:07.653510Z",
     "iopub.status.busy": "2021-10-19T08:00:07.651114Z",
     "iopub.status.idle": "2021-10-19T08:00:08.234076Z",
     "shell.execute_reply": "2021-10-19T08:00:08.235293Z"
    },
    "papermill": {
     "duration": 0.612792,
     "end_time": "2021-10-19T08:00:08.235687",
     "exception": false,
     "start_time": "2021-10-19T08:00:07.622895",
     "status": "completed"
    },
    "tags": []
   },
   "outputs": [],
   "source": [
    "timestamps = pd.read_sql(\"select distinct record_time from EBAY_TOP_BERLIN order by record_time desc limit 2\", sqlite3.connect(\"UsedObjects.db\"))"
   ]
  },
  {
   "cell_type": "code",
   "execution_count": 3,
   "id": "periodic-identification",
   "metadata": {
    "execution": {
     "iopub.execute_input": "2021-10-19T08:00:08.313177Z",
     "iopub.status.busy": "2021-10-19T08:00:08.307932Z",
     "iopub.status.idle": "2021-10-19T08:00:08.329910Z",
     "shell.execute_reply": "2021-10-19T08:00:08.331377Z"
    },
    "papermill": {
     "duration": 0.07137,
     "end_time": "2021-10-19T08:00:08.331831",
     "exception": false,
     "start_time": "2021-10-19T08:00:08.260461",
     "status": "completed"
    },
    "tags": []
   },
   "outputs": [
    {
     "data": {
      "text/html": [
       "<div>\n",
       "<style scoped>\n",
       "    .dataframe tbody tr th:only-of-type {\n",
       "        vertical-align: middle;\n",
       "    }\n",
       "\n",
       "    .dataframe tbody tr th {\n",
       "        vertical-align: top;\n",
       "    }\n",
       "\n",
       "    .dataframe thead th {\n",
       "        text-align: right;\n",
       "    }\n",
       "</style>\n",
       "<table border=\"1\" class=\"dataframe\">\n",
       "  <thead>\n",
       "    <tr style=\"text-align: right;\">\n",
       "      <th></th>\n",
       "      <th>RECORD_TIME</th>\n",
       "    </tr>\n",
       "  </thead>\n",
       "  <tbody>\n",
       "    <tr>\n",
       "      <th>0</th>\n",
       "      <td>2021-10-19 10:00</td>\n",
       "    </tr>\n",
       "    <tr>\n",
       "      <th>1</th>\n",
       "      <td>2021-10-19 09:30</td>\n",
       "    </tr>\n",
       "  </tbody>\n",
       "</table>\n",
       "</div>"
      ],
      "text/plain": [
       "        RECORD_TIME\n",
       "0  2021-10-19 10:00\n",
       "1  2021-10-19 09:30"
      ]
     },
     "execution_count": 3,
     "metadata": {},
     "output_type": "execute_result"
    }
   ],
   "source": [
    "timestamps"
   ]
  },
  {
   "cell_type": "code",
   "execution_count": 4,
   "id": "alternate-victory",
   "metadata": {
    "execution": {
     "iopub.execute_input": "2021-10-19T08:00:08.384240Z",
     "iopub.status.busy": "2021-10-19T08:00:08.382338Z",
     "iopub.status.idle": "2021-10-19T08:00:09.239440Z",
     "shell.execute_reply": "2021-10-19T08:00:09.240644Z"
    },
    "papermill": {
     "duration": 0.887305,
     "end_time": "2021-10-19T08:00:09.241104",
     "exception": false,
     "start_time": "2021-10-19T08:00:08.353799",
     "status": "completed"
    },
    "tags": []
   },
   "outputs": [],
   "source": [
    "df = pd.read_sql(\"select * from EBAY_TOP_BERLIN where record_time in (select distinct record_time from EBAY_TOP_BERLIN order by record_time desc limit 2)\", sqlite3.connect(\"UsedObjects.db\"))"
   ]
  },
  {
   "cell_type": "code",
   "execution_count": 5,
   "id": "popular-active",
   "metadata": {
    "execution": {
     "iopub.execute_input": "2021-10-19T08:00:09.313965Z",
     "iopub.status.busy": "2021-10-19T08:00:09.301238Z",
     "iopub.status.idle": "2021-10-19T08:00:09.330386Z",
     "shell.execute_reply": "2021-10-19T08:00:09.331659Z"
    },
    "papermill": {
     "duration": 0.068254,
     "end_time": "2021-10-19T08:00:09.332073",
     "exception": false,
     "start_time": "2021-10-19T08:00:09.263819",
     "status": "completed"
    },
    "tags": []
   },
   "outputs": [],
   "source": [
    "df_pivot = df.pivot_table(index=\"PRODUCT\", columns = \"RECORD_TIME\", values = \"LISTING_COUNT\")"
   ]
  },
  {
   "cell_type": "code",
   "execution_count": 6,
   "id": "union-huntington",
   "metadata": {
    "execution": {
     "iopub.execute_input": "2021-10-19T08:00:09.388343Z",
     "iopub.status.busy": "2021-10-19T08:00:09.386333Z",
     "iopub.status.idle": "2021-10-19T08:00:09.391634Z",
     "shell.execute_reply": "2021-10-19T08:00:09.393143Z"
    },
    "papermill": {
     "duration": 0.040432,
     "end_time": "2021-10-19T08:00:09.393587",
     "exception": false,
     "start_time": "2021-10-19T08:00:09.353155",
     "status": "completed"
    },
    "tags": []
   },
   "outputs": [],
   "source": [
    "df_pivot.columns = [\"stamp_1\", \"stamp_2\"]\n",
    "df_pivot_diff = df_pivot.diff(axis=1)"
   ]
  },
  {
   "cell_type": "code",
   "execution_count": 7,
   "id": "fifth-motion",
   "metadata": {
    "execution": {
     "iopub.execute_input": "2021-10-19T08:00:09.449629Z",
     "iopub.status.busy": "2021-10-19T08:00:09.446937Z",
     "iopub.status.idle": "2021-10-19T08:00:10.975177Z",
     "shell.execute_reply": "2021-10-19T08:00:10.976441Z"
    },
    "papermill": {
     "duration": 1.561601,
     "end_time": "2021-10-19T08:00:10.976932",
     "exception": false,
     "start_time": "2021-10-19T08:00:09.415331",
     "status": "completed"
    },
    "tags": []
   },
   "outputs": [
    {
     "data": {
      "text/plain": [
       "<AxesSubplot:ylabel='PRODUCT'>"
      ]
     },
     "execution_count": 7,
     "metadata": {},
     "output_type": "execute_result"
    },
    {
     "data": {
      "image/png": "[encoded data removed]",
      "text/plain": [
       "<Figure size 432x288 with 1 Axes>"
      ]
     },
     "metadata": {
      "needs_background": "light"
     },
     "output_type": "display_data"
    }
   ],
   "source": [
    "df_pivot_diff.sort_values(\"stamp_2\", ascending = False)[\"stamp_2\"].head(10).plot.barh()"
   ]
  },
  {
   "cell_type": "code",
   "execution_count": null,
   "id": "extra-executive",
   "metadata": {
    "papermill": {
     "duration": 0.021947,
     "end_time": "2021-10-19T08:00:11.023531",
     "exception": false,
     "start_time": "2021-10-19T08:00:11.001584",
     "status": "completed"
    },
    "tags": []
   },
   "outputs": [],
   "source": []
  }
 ],
 "metadata": {
  "kernelspec": {
   "display_name": "Python 3",
   "language": "python",
   "name": "python3"
  },
  "language_info": {
   "codemirror_mode": {
    "name": "ipython",
    "version": 3
   },
   "file_extension": ".py",
   "mimetype": "text/x-python",
   "name": "python",
   "nbconvert_exporter": "python",
   "pygments_lexer": "ipython3",
   "version": "3.9.5"
  },
  "papermill": {
   "default_parameters": {},
   "duration": 7.327614,
   "end_time": "2021-10-19T08:00:11.664531",
   "environment_variables": {},
   "exception": null,
   "input_path": "eBay_Overview.ipynb",
   "output_path": "eBay_Overview.ipynb",
   "parameters": {},
   "start_time": "2021-10-19T08:00:04.336917",
   "version": "2.3.3"
  }
 },
 "nbformat": 4,
 "nbformat_minor": 5
}