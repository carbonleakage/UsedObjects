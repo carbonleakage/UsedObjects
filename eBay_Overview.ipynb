{
 "cells": [
  {
   "cell_type": "code",
   "execution_count": 1,
   "id": "reverse-picking",
   "metadata": {
    "execution": {
     "iopub.execute_input": "2021-12-03T20:00:07.843481Z",
     "iopub.status.busy": "2021-12-03T20:00:07.841164Z",
     "iopub.status.idle": "2021-12-03T20:00:08.812032Z",
     "shell.execute_reply": "2021-12-03T20:00:08.813776Z"
    },
    "papermill": {
     "duration": 1.021348,
     "end_time": "2021-12-03T20:00:08.814523",
     "exception": false,
     "start_time": "2021-12-03T20:00:07.793175",
     "status": "completed"
    },
    "tags": []
   },
   "outputs": [],
   "source": [
    "import pandas as pd\n",
    "import sqlite3"
   ]
  },
  {
   "cell_type": "code",
   "execution_count": 2,
   "id": "innovative-syndrome",
   "metadata": {
    "execution": {
     "iopub.execute_input": "2021-12-03T20:00:08.889737Z",
     "iopub.status.busy": "2021-12-03T20:00:08.887436Z",
     "iopub.status.idle": "2021-12-03T20:00:09.879238Z",
     "shell.execute_reply": "2021-12-03T20:00:09.880606Z"
    },
    "papermill": {
     "duration": 1.027698,
     "end_time": "2021-12-03T20:00:09.881147",
     "exception": false,
     "start_time": "2021-12-03T20:00:08.853449",
     "status": "completed"
    },
    "tags": []
   },
   "outputs": [],
   "source": [
    "timestamps = pd.read_sql(\"select distinct record_time from EBAY_TOP_BERLIN order by record_time desc limit 2\", sqlite3.connect(\"UsedObjects.db\"))"
   ]
  },
  {
   "cell_type": "code",
   "execution_count": 3,
   "id": "periodic-identification",
   "metadata": {
    "execution": {
     "iopub.execute_input": "2021-12-03T20:00:09.954218Z",
     "iopub.status.busy": "2021-12-03T20:00:09.951544Z",
     "iopub.status.idle": "2021-12-03T20:00:09.977237Z",
     "shell.execute_reply": "2021-12-03T20:00:09.978959Z"
    },
    "papermill": {
     "duration": 0.077584,
     "end_time": "2021-12-03T20:00:09.979450",
     "exception": false,
     "start_time": "2021-12-03T20:00:09.901866",
     "status": "completed"
    },
    "tags": []
   },
   "outputs": [
    {
     "data": {
      "text/html": [
       "<div>\n",
       "<style scoped>\n",
       "    .dataframe tbody tr th:only-of-type {\n",
       "        vertical-align: middle;\n",
       "    }\n",
       "\n",
       "    .dataframe tbody tr th {\n",
       "        vertical-align: top;\n",
       "    }\n",
       "\n",
       "    .dataframe thead th {\n",
       "        text-align: right;\n",
       "    }\n",
       "</style>\n",
       "<table border=\"1\" class=\"dataframe\">\n",
       "  <thead>\n",
       "    <tr style=\"text-align: right;\">\n",
       "      <th></th>\n",
       "      <th>RECORD_TIME</th>\n",
       "    </tr>\n",
       "  </thead>\n",
       "  <tbody>\n",
       "    <tr>\n",
       "      <th>0</th>\n",
       "      <td>2021-12-03 21:00</td>\n",
       "    </tr>\n",
       "    <tr>\n",
       "      <th>1</th>\n",
       "      <td>2021-12-03 20:30</td>\n",
       "    </tr>\n",
       "  </tbody>\n",
       "</table>\n",
       "</div>"
      ],
      "text/plain": [
       "        RECORD_TIME\n",
       "0  2021-12-03 21:00\n",
       "1  2021-12-03 20:30"
      ]
     },
     "execution_count": 3,
     "metadata": {},
     "output_type": "execute_result"
    }
   ],
   "source": [
    "timestamps"
   ]
  },
  {
   "cell_type": "code",
   "execution_count": 4,
   "id": "alternate-victory",
   "metadata": {
    "execution": {
     "iopub.execute_input": "2021-12-03T20:00:10.043151Z",
     "iopub.status.busy": "2021-12-03T20:00:10.033228Z",
     "iopub.status.idle": "2021-12-03T20:00:11.471660Z",
     "shell.execute_reply": "2021-12-03T20:00:11.473205Z"
    },
    "papermill": {
     "duration": 1.472805,
     "end_time": "2021-12-03T20:00:11.473758",
     "exception": false,
     "start_time": "2021-12-03T20:00:10.000953",
     "status": "completed"
    },
    "tags": []
   },
   "outputs": [],
   "source": [
    "df = pd.read_sql(\"select * from EBAY_TOP_BERLIN where record_time in (select distinct record_time from EBAY_TOP_BERLIN order by record_time desc limit 2)\", sqlite3.connect(\"UsedObjects.db\"))"
   ]
  },
  {
   "cell_type": "code",
   "execution_count": 5,
   "id": "popular-active",
   "metadata": {
    "execution": {
     "iopub.execute_input": "2021-12-03T20:00:11.539590Z",
     "iopub.status.busy": "2021-12-03T20:00:11.537306Z",
     "iopub.status.idle": "2021-12-03T20:00:11.569281Z",
     "shell.execute_reply": "2021-12-03T20:00:11.570681Z"
    },
    "papermill": {
     "duration": 0.074544,
     "end_time": "2021-12-03T20:00:11.571150",
     "exception": false,
     "start_time": "2021-12-03T20:00:11.496606",
     "status": "completed"
    },
    "tags": []
   },
   "outputs": [],
   "source": [
    "df_pivot = df.pivot_table(index=\"PRODUCT\", columns = \"RECORD_TIME\", values = \"LISTING_COUNT\")"
   ]
  },
  {
   "cell_type": "code",
   "execution_count": 6,
   "id": "union-huntington",
   "metadata": {
    "execution": {
     "iopub.execute_input": "2021-12-03T20:00:11.630695Z",
     "iopub.status.busy": "2021-12-03T20:00:11.628415Z",
     "iopub.status.idle": "2021-12-03T20:00:11.633609Z",
     "shell.execute_reply": "2021-12-03T20:00:11.635581Z"
    },
    "papermill": {
     "duration": 0.044281,
     "end_time": "2021-12-03T20:00:11.636066",
     "exception": false,
     "start_time": "2021-12-03T20:00:11.591785",
     "status": "completed"
    },
    "tags": []
   },
   "outputs": [],
   "source": [
    "df_pivot.columns = [\"stamp_1\", \"stamp_2\"]\n",
    "df_pivot_diff = df_pivot.diff(axis=1)"
   ]
  },
  {
   "cell_type": "code",
   "execution_count": 7,
   "id": "fifth-motion",
   "metadata": {
    "execution": {
     "iopub.execute_input": "2021-12-03T20:00:11.698497Z",
     "iopub.status.busy": "2021-12-03T20:00:11.695761Z",
     "iopub.status.idle": "2021-12-03T20:00:13.647267Z",
     "shell.execute_reply": "2021-12-03T20:00:13.650218Z"
    },
    "papermill": {
     "duration": 1.991491,
     "end_time": "2021-12-03T20:00:13.651029",
     "exception": false,
     "start_time": "2021-12-03T20:00:11.659538",
     "status": "completed"
    },
    "tags": []
   },
   "outputs": [
    {
     "data": {
      "text/plain": [
       "<AxesSubplot:ylabel='PRODUCT'>"
      ]
     },
     "execution_count": 7,
     "metadata": {},
     "output_type": "execute_result"
    },
    {
     "data": {
      "image/png": "[encoded data removed]",
      "text/plain": [
       "<Figure size 432x288 with 1 Axes>"
      ]
     },
     "metadata": {
      "needs_background": "light"
     },
     "output_type": "display_data"
    }
   ],
   "source": [
    "df_pivot_diff.sort_values(\"stamp_2\", ascending = False)[\"stamp_2\"].head(10).plot.barh()"
   ]
  },
  {
   "cell_type": "code",
   "execution_count": null,
   "id": "extra-executive",
   "metadata": {
    "papermill": {
     "duration": 0.029305,
     "end_time": "2021-12-03T20:00:13.715914",
     "exception": false,
     "start_time": "2021-12-03T20:00:13.686609",
     "status": "completed"
    },
    "tags": []
   },
   "outputs": [],
   "source": []
  }
 ],
 "metadata": {
  "kernelspec": {
   "display_name": "Python 3",
   "language": "python",
   "name": "python3"
  },
  "language_info": {
   "codemirror_mode": {
    "name": "ipython",
    "version": 3
   },
   "file_extension": ".py",
   "mimetype": "text/x-python",
   "name": "python",
   "nbconvert_exporter": "python",
   "pygments_lexer": "ipython3",
   "version": "3.9.5"
  },
  "papermill": {
   "default_parameters": {},
   "duration": 9.929223,
   "end_time": "2021-12-03T20:00:14.981151",
   "environment_variables": {},
   "exception": null,
   "input_path": "eBay_Overview.ipynb",
   "output_path": "eBay_Overview.ipynb",
   "parameters": {},
   "start_time": "2021-12-03T20:00:05.051928",
   "version": "2.3.3"
  }
 },
 "nbformat": 4,
 "nbformat_minor": 5
}