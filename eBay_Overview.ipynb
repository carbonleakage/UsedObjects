{
 "cells": [
  {
   "cell_type": "code",
   "execution_count": 1,
   "id": "reverse-picking",
   "metadata": {
    "execution": {
     "iopub.execute_input": "2021-09-25T14:30:06.775581Z",
     "iopub.status.busy": "2021-09-25T14:30:06.773535Z",
     "iopub.status.idle": "2021-09-25T14:30:07.577845Z",
     "shell.execute_reply": "2021-09-25T14:30:07.579232Z"
    },
    "papermill": {
     "duration": 0.856769,
     "end_time": "2021-09-25T14:30:07.579900",
     "exception": false,
     "start_time": "2021-09-25T14:30:06.723131",
     "status": "completed"
    },
    "tags": []
   },
   "outputs": [],
   "source": [
    "import pandas as pd\n",
    "import sqlite3"
   ]
  },
  {
   "cell_type": "code",
   "execution_count": 2,
   "id": "innovative-syndrome",
   "metadata": {
    "execution": {
     "iopub.execute_input": "2021-09-25T14:30:07.629418Z",
     "iopub.status.busy": "2021-09-25T14:30:07.627545Z",
     "iopub.status.idle": "2021-09-25T14:30:08.003191Z",
     "shell.execute_reply": "2021-09-25T14:30:08.004582Z"
    },
    "papermill": {
     "duration": 0.405143,
     "end_time": "2021-09-25T14:30:08.005014",
     "exception": false,
     "start_time": "2021-09-25T14:30:07.599871",
     "status": "completed"
    },
    "tags": []
   },
   "outputs": [],
   "source": [
    "timestamps = pd.read_sql(\"select distinct record_time from EBAY_TOP_BERLIN order by record_time desc limit 2\", sqlite3.connect(\"UsedObjects.db\"))"
   ]
  },
  {
   "cell_type": "code",
   "execution_count": 3,
   "id": "periodic-identification",
   "metadata": {
    "execution": {
     "iopub.execute_input": "2021-09-25T14:30:08.070508Z",
     "iopub.status.busy": "2021-09-25T14:30:08.068488Z",
     "iopub.status.idle": "2021-09-25T14:30:08.090583Z",
     "shell.execute_reply": "2021-09-25T14:30:08.092260Z"
    },
    "papermill": {
     "duration": 0.0682,
     "end_time": "2021-09-25T14:30:08.092753",
     "exception": false,
     "start_time": "2021-09-25T14:30:08.024553",
     "status": "completed"
    },
    "tags": []
   },
   "outputs": [
    {
     "data": {
      "text/html": [
       "<div>\n",
       "<style scoped>\n",
       "    .dataframe tbody tr th:only-of-type {\n",
       "        vertical-align: middle;\n",
       "    }\n",
       "\n",
       "    .dataframe tbody tr th {\n",
       "        vertical-align: top;\n",
       "    }\n",
       "\n",
       "    .dataframe thead th {\n",
       "        text-align: right;\n",
       "    }\n",
       "</style>\n",
       "<table border=\"1\" class=\"dataframe\">\n",
       "  <thead>\n",
       "    <tr style=\"text-align: right;\">\n",
       "      <th></th>\n",
       "      <th>RECORD_TIME</th>\n",
       "    </tr>\n",
       "  </thead>\n",
       "  <tbody>\n",
       "    <tr>\n",
       "      <th>0</th>\n",
       "      <td>2021-09-25 16:30</td>\n",
       "    </tr>\n",
       "    <tr>\n",
       "      <th>1</th>\n",
       "      <td>2021-09-25 16:00</td>\n",
       "    </tr>\n",
       "  </tbody>\n",
       "</table>\n",
       "</div>"
      ],
      "text/plain": [
       "        RECORD_TIME\n",
       "0  2021-09-25 16:30\n",
       "1  2021-09-25 16:00"
      ]
     },
     "execution_count": 3,
     "metadata": {},
     "output_type": "execute_result"
    }
   ],
   "source": [
    "timestamps"
   ]
  },
  {
   "cell_type": "code",
   "execution_count": 4,
   "id": "alternate-victory",
   "metadata": {
    "execution": {
     "iopub.execute_input": "2021-09-25T14:30:08.144086Z",
     "iopub.status.busy": "2021-09-25T14:30:08.142136Z",
     "iopub.status.idle": "2021-09-25T14:30:08.682604Z",
     "shell.execute_reply": "2021-09-25T14:30:08.683856Z"
    },
    "papermill": {
     "duration": 0.570243,
     "end_time": "2021-09-25T14:30:08.684320",
     "exception": false,
     "start_time": "2021-09-25T14:30:08.114077",
     "status": "completed"
    },
    "tags": []
   },
   "outputs": [],
   "source": [
    "df = pd.read_sql(\"select * from EBAY_TOP_BERLIN where record_time in (select distinct record_time from EBAY_TOP_BERLIN order by record_time desc limit 2)\", sqlite3.connect(\"UsedObjects.db\"))"
   ]
  },
  {
   "cell_type": "code",
   "execution_count": 5,
   "id": "popular-active",
   "metadata": {
    "execution": {
     "iopub.execute_input": "2021-09-25T14:30:08.763784Z",
     "iopub.status.busy": "2021-09-25T14:30:08.752005Z",
     "iopub.status.idle": "2021-09-25T14:30:08.779243Z",
     "shell.execute_reply": "2021-09-25T14:30:08.780485Z"
    },
    "papermill": {
     "duration": 0.070673,
     "end_time": "2021-09-25T14:30:08.780998",
     "exception": false,
     "start_time": "2021-09-25T14:30:08.710325",
     "status": "completed"
    },
    "tags": []
   },
   "outputs": [],
   "source": [
    "df_pivot = df.pivot_table(index=\"PRODUCT\", columns = \"RECORD_TIME\", values = \"LISTING_COUNT\")"
   ]
  },
  {
   "cell_type": "code",
   "execution_count": 6,
   "id": "union-huntington",
   "metadata": {
    "execution": {
     "iopub.execute_input": "2021-09-25T14:30:08.837313Z",
     "iopub.status.busy": "2021-09-25T14:30:08.835137Z",
     "iopub.status.idle": "2021-09-25T14:30:08.840632Z",
     "shell.execute_reply": "2021-09-25T14:30:08.841992Z"
    },
    "papermill": {
     "duration": 0.040984,
     "end_time": "2021-09-25T14:30:08.842426",
     "exception": false,
     "start_time": "2021-09-25T14:30:08.801442",
     "status": "completed"
    },
    "tags": []
   },
   "outputs": [],
   "source": [
    "df_pivot.columns = [\"stamp_1\", \"stamp_2\"]\n",
    "df_pivot_diff = df_pivot.diff(axis=1)"
   ]
  },
  {
   "cell_type": "code",
   "execution_count": 7,
   "id": "fifth-motion",
   "metadata": {
    "execution": {
     "iopub.execute_input": "2021-09-25T14:30:08.896591Z",
     "iopub.status.busy": "2021-09-25T14:30:08.894007Z",
     "iopub.status.idle": "2021-09-25T14:30:10.363347Z",
     "shell.execute_reply": "2021-09-25T14:30:10.364739Z"
    },
    "papermill": {
     "duration": 1.502321,
     "end_time": "2021-09-25T14:30:10.365180",
     "exception": false,
     "start_time": "2021-09-25T14:30:08.862859",
     "status": "completed"
    },
    "tags": []
   },
   "outputs": [
    {
     "data": {
      "text/plain": [
       "<AxesSubplot:ylabel='PRODUCT'>"
      ]
     },
     "execution_count": 7,
     "metadata": {},
     "output_type": "execute_result"
    },
    {
     "data": {
      "image/png": "[encoded data removed]",
      "text/plain": [
       "<Figure size 432x288 with 1 Axes>"
      ]
     },
     "metadata": {
      "needs_background": "light"
     },
     "output_type": "display_data"
    }
   ],
   "source": [
    "df_pivot_diff.sort_values(\"stamp_2\", ascending = False)[\"stamp_2\"].head(10).plot.barh()"
   ]
  },
  {
   "cell_type": "code",
   "execution_count": null,
   "id": "extra-executive",
   "metadata": {
    "papermill": {
     "duration": 0.021778,
     "end_time": "2021-09-25T14:30:10.410256",
     "exception": false,
     "start_time": "2021-09-25T14:30:10.388478",
     "status": "completed"
    },
    "tags": []
   },
   "outputs": [],
   "source": []
  }
 ],
 "metadata": {
  "kernelspec": {
   "display_name": "Python 3",
   "language": "python",
   "name": "python3"
  },
  "language_info": {
   "codemirror_mode": {
    "name": "ipython",
    "version": 3
   },
   "file_extension": ".py",
   "mimetype": "text/x-python",
   "name": "python",
   "nbconvert_exporter": "python",
   "pygments_lexer": "ipython3",
   "version": "3.9.5"
  },
  "papermill": {
   "default_parameters": {},
   "duration": 6.734352,
   "end_time": "2021-09-25T14:30:11.052478",
   "environment_variables": {},
   "exception": null,
   "input_path": "eBay_Overview.ipynb",
   "output_path": "eBay_Overview.ipynb",
   "parameters": {},
   "start_time": "2021-09-25T14:30:04.318126",
   "version": "2.3.3"
  }
 },
 "nbformat": 4,
 "nbformat_minor": 5
}