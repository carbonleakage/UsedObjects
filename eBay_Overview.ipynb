{
 "cells": [
  {
   "cell_type": "code",
   "execution_count": 1,
   "id": "reverse-picking",
   "metadata": {
    "execution": {
     "iopub.execute_input": "2021-11-05T01:30:07.764068Z",
     "iopub.status.busy": "2021-11-05T01:30:07.761886Z",
     "iopub.status.idle": "2021-11-05T01:30:08.715944Z",
     "shell.execute_reply": "2021-11-05T01:30:08.717664Z"
    },
    "papermill": {
     "duration": 1.00063,
     "end_time": "2021-11-05T01:30:08.718372",
     "exception": false,
     "start_time": "2021-11-05T01:30:07.717742",
     "status": "completed"
    },
    "tags": []
   },
   "outputs": [],
   "source": [
    "import pandas as pd\n",
    "import sqlite3"
   ]
  },
  {
   "cell_type": "code",
   "execution_count": 2,
   "id": "innovative-syndrome",
   "metadata": {
    "execution": {
     "iopub.execute_input": "2021-11-05T01:30:08.783304Z",
     "iopub.status.busy": "2021-11-05T01:30:08.781100Z",
     "iopub.status.idle": "2021-11-05T01:30:09.512086Z",
     "shell.execute_reply": "2021-11-05T01:30:09.513573Z"
    },
    "papermill": {
     "duration": 0.765352,
     "end_time": "2021-11-05T01:30:09.514066",
     "exception": false,
     "start_time": "2021-11-05T01:30:08.748714",
     "status": "completed"
    },
    "tags": []
   },
   "outputs": [],
   "source": [
    "timestamps = pd.read_sql(\"select distinct record_time from EBAY_TOP_BERLIN order by record_time desc limit 2\", sqlite3.connect(\"UsedObjects.db\"))"
   ]
  },
  {
   "cell_type": "code",
   "execution_count": 3,
   "id": "periodic-identification",
   "metadata": {
    "execution": {
     "iopub.execute_input": "2021-11-05T01:30:09.581992Z",
     "iopub.status.busy": "2021-11-05T01:30:09.579699Z",
     "iopub.status.idle": "2021-11-05T01:30:09.601573Z",
     "shell.execute_reply": "2021-11-05T01:30:09.603479Z"
    },
    "papermill": {
     "duration": 0.07037,
     "end_time": "2021-11-05T01:30:09.603989",
     "exception": false,
     "start_time": "2021-11-05T01:30:09.533619",
     "status": "completed"
    },
    "tags": []
   },
   "outputs": [
    {
     "data": {
      "text/html": [
       "<div>\n",
       "<style scoped>\n",
       "    .dataframe tbody tr th:only-of-type {\n",
       "        vertical-align: middle;\n",
       "    }\n",
       "\n",
       "    .dataframe tbody tr th {\n",
       "        vertical-align: top;\n",
       "    }\n",
       "\n",
       "    .dataframe thead th {\n",
       "        text-align: right;\n",
       "    }\n",
       "</style>\n",
       "<table border=\"1\" class=\"dataframe\">\n",
       "  <thead>\n",
       "    <tr style=\"text-align: right;\">\n",
       "      <th></th>\n",
       "      <th>RECORD_TIME</th>\n",
       "    </tr>\n",
       "  </thead>\n",
       "  <tbody>\n",
       "    <tr>\n",
       "      <th>0</th>\n",
       "      <td>2021-11-05 02:30</td>\n",
       "    </tr>\n",
       "    <tr>\n",
       "      <th>1</th>\n",
       "      <td>2021-11-05 02:00</td>\n",
       "    </tr>\n",
       "  </tbody>\n",
       "</table>\n",
       "</div>"
      ],
      "text/plain": [
       "        RECORD_TIME\n",
       "0  2021-11-05 02:30\n",
       "1  2021-11-05 02:00"
      ]
     },
     "execution_count": 3,
     "metadata": {},
     "output_type": "execute_result"
    }
   ],
   "source": [
    "timestamps"
   ]
  },
  {
   "cell_type": "code",
   "execution_count": 4,
   "id": "alternate-victory",
   "metadata": {
    "execution": {
     "iopub.execute_input": "2021-11-05T01:30:09.657194Z",
     "iopub.status.busy": "2021-11-05T01:30:09.654969Z",
     "iopub.status.idle": "2021-11-05T01:30:10.764253Z",
     "shell.execute_reply": "2021-11-05T01:30:10.765914Z"
    },
    "papermill": {
     "duration": 1.142082,
     "end_time": "2021-11-05T01:30:10.766399",
     "exception": false,
     "start_time": "2021-11-05T01:30:09.624317",
     "status": "completed"
    },
    "tags": []
   },
   "outputs": [],
   "source": [
    "df = pd.read_sql(\"select * from EBAY_TOP_BERLIN where record_time in (select distinct record_time from EBAY_TOP_BERLIN order by record_time desc limit 2)\", sqlite3.connect(\"UsedObjects.db\"))"
   ]
  },
  {
   "cell_type": "code",
   "execution_count": 5,
   "id": "popular-active",
   "metadata": {
    "execution": {
     "iopub.execute_input": "2021-11-05T01:30:10.841583Z",
     "iopub.status.busy": "2021-11-05T01:30:10.830787Z",
     "iopub.status.idle": "2021-11-05T01:30:10.866122Z",
     "shell.execute_reply": "2021-11-05T01:30:10.867704Z"
    },
    "papermill": {
     "duration": 0.079358,
     "end_time": "2021-11-05T01:30:10.868192",
     "exception": false,
     "start_time": "2021-11-05T01:30:10.788834",
     "status": "completed"
    },
    "tags": []
   },
   "outputs": [],
   "source": [
    "df_pivot = df.pivot_table(index=\"PRODUCT\", columns = \"RECORD_TIME\", values = \"LISTING_COUNT\")"
   ]
  },
  {
   "cell_type": "code",
   "execution_count": 6,
   "id": "union-huntington",
   "metadata": {
    "execution": {
     "iopub.execute_input": "2021-11-05T01:30:10.931028Z",
     "iopub.status.busy": "2021-11-05T01:30:10.928537Z",
     "iopub.status.idle": "2021-11-05T01:30:10.934664Z",
     "shell.execute_reply": "2021-11-05T01:30:10.936136Z"
    },
    "papermill": {
     "duration": 0.046924,
     "end_time": "2021-11-05T01:30:10.936637",
     "exception": false,
     "start_time": "2021-11-05T01:30:10.889713",
     "status": "completed"
    },
    "tags": []
   },
   "outputs": [],
   "source": [
    "df_pivot.columns = [\"stamp_1\", \"stamp_2\"]\n",
    "df_pivot_diff = df_pivot.diff(axis=1)"
   ]
  },
  {
   "cell_type": "code",
   "execution_count": 7,
   "id": "fifth-motion",
   "metadata": {
    "execution": {
     "iopub.execute_input": "2021-11-05T01:30:10.996920Z",
     "iopub.status.busy": "2021-11-05T01:30:10.994210Z",
     "iopub.status.idle": "2021-11-05T01:30:12.829254Z",
     "shell.execute_reply": "2021-11-05T01:30:12.825903Z"
    },
    "papermill": {
     "duration": 1.872365,
     "end_time": "2021-11-05T01:30:12.830111",
     "exception": false,
     "start_time": "2021-11-05T01:30:10.957746",
     "status": "completed"
    },
    "tags": []
   },
   "outputs": [
    {
     "data": {
      "text/plain": [
       "<AxesSubplot:ylabel='PRODUCT'>"
      ]
     },
     "execution_count": 7,
     "metadata": {},
     "output_type": "execute_result"
    },
    {
     "data": {
      "image/png": "[encoded data removed]",
      "text/plain": [
       "<Figure size 432x288 with 1 Axes>"
      ]
     },
     "metadata": {
      "needs_background": "light"
     },
     "output_type": "display_data"
    }
   ],
   "source": [
    "df_pivot_diff.sort_values(\"stamp_2\", ascending = False)[\"stamp_2\"].head(10).plot.barh()"
   ]
  },
  {
   "cell_type": "code",
   "execution_count": null,
   "id": "extra-executive",
   "metadata": {
    "papermill": {
     "duration": 0.049487,
     "end_time": "2021-11-05T01:30:12.912232",
     "exception": false,
     "start_time": "2021-11-05T01:30:12.862745",
     "status": "completed"
    },
    "tags": []
   },
   "outputs": [],
   "source": []
  }
 ],
 "metadata": {
  "kernelspec": {
   "display_name": "Python 3",
   "language": "python",
   "name": "python3"
  },
  "language_info": {
   "codemirror_mode": {
    "name": "ipython",
    "version": 3
   },
   "file_extension": ".py",
   "mimetype": "text/x-python",
   "name": "python",
   "nbconvert_exporter": "python",
   "pygments_lexer": "ipython3",
   "version": "3.9.5"
  },
  "papermill": {
   "default_parameters": {},
   "duration": 8.837098,
   "end_time": "2021-11-05T01:30:13.797571",
   "environment_variables": {},
   "exception": null,
   "input_path": "eBay_Overview.ipynb",
   "output_path": "eBay_Overview.ipynb",
   "parameters": {},
   "start_time": "2021-11-05T01:30:04.960473",
   "version": "2.3.3"
  }
 },
 "nbformat": 4,
 "nbformat_minor": 5
}