{
 "cells": [
  {
   "cell_type": "code",
   "execution_count": 1,
   "id": "reverse-picking",
   "metadata": {
    "execution": {
     "iopub.execute_input": "2021-08-23T20:30:07.070158Z",
     "iopub.status.busy": "2021-08-23T20:30:07.068167Z",
     "iopub.status.idle": "2021-08-23T20:30:07.871225Z",
     "shell.execute_reply": "2021-08-23T20:30:07.872456Z"
    },
    "papermill": {
     "duration": 0.853767,
     "end_time": "2021-08-23T20:30:07.873063",
     "exception": false,
     "start_time": "2021-08-23T20:30:07.019296",
     "status": "completed"
    },
    "tags": []
   },
   "outputs": [],
   "source": [
    "import pandas as pd\n",
    "import sqlite3"
   ]
  },
  {
   "cell_type": "code",
   "execution_count": 2,
   "id": "innovative-syndrome",
   "metadata": {
    "execution": {
     "iopub.execute_input": "2021-08-23T20:30:07.926915Z",
     "iopub.status.busy": "2021-08-23T20:30:07.924970Z",
     "iopub.status.idle": "2021-08-23T20:30:08.039258Z",
     "shell.execute_reply": "2021-08-23T20:30:08.040485Z"
    },
    "papermill": {
     "duration": 0.146076,
     "end_time": "2021-08-23T20:30:08.040865",
     "exception": false,
     "start_time": "2021-08-23T20:30:07.894789",
     "status": "completed"
    },
    "tags": []
   },
   "outputs": [],
   "source": [
    "timestamps = pd.read_sql(\"select distinct record_time from EBAY_TOP_BERLIN order by record_time desc limit 2\", sqlite3.connect(\"UsedObjects.db\"))"
   ]
  },
  {
   "cell_type": "code",
   "execution_count": 3,
   "id": "periodic-identification",
   "metadata": {
    "execution": {
     "iopub.execute_input": "2021-08-23T20:30:08.105054Z",
     "iopub.status.busy": "2021-08-23T20:30:08.103022Z",
     "iopub.status.idle": "2021-08-23T20:30:08.122686Z",
     "shell.execute_reply": "2021-08-23T20:30:08.123953Z"
    },
    "papermill": {
     "duration": 0.064136,
     "end_time": "2021-08-23T20:30:08.124361",
     "exception": false,
     "start_time": "2021-08-23T20:30:08.060225",
     "status": "completed"
    },
    "tags": []
   },
   "outputs": [
    {
     "data": {
      "text/html": [
       "<div>\n",
       "<style scoped>\n",
       "    .dataframe tbody tr th:only-of-type {\n",
       "        vertical-align: middle;\n",
       "    }\n",
       "\n",
       "    .dataframe tbody tr th {\n",
       "        vertical-align: top;\n",
       "    }\n",
       "\n",
       "    .dataframe thead th {\n",
       "        text-align: right;\n",
       "    }\n",
       "</style>\n",
       "<table border=\"1\" class=\"dataframe\">\n",
       "  <thead>\n",
       "    <tr style=\"text-align: right;\">\n",
       "      <th></th>\n",
       "      <th>RECORD_TIME</th>\n",
       "    </tr>\n",
       "  </thead>\n",
       "  <tbody>\n",
       "    <tr>\n",
       "      <th>0</th>\n",
       "      <td>2021-08-23 22:30</td>\n",
       "    </tr>\n",
       "    <tr>\n",
       "      <th>1</th>\n",
       "      <td>2021-08-23 22:00</td>\n",
       "    </tr>\n",
       "  </tbody>\n",
       "</table>\n",
       "</div>"
      ],
      "text/plain": [
       "        RECORD_TIME\n",
       "0  2021-08-23 22:30\n",
       "1  2021-08-23 22:00"
      ]
     },
     "execution_count": 3,
     "metadata": {},
     "output_type": "execute_result"
    }
   ],
   "source": [
    "timestamps"
   ]
  },
  {
   "cell_type": "code",
   "execution_count": 4,
   "id": "alternate-victory",
   "metadata": {
    "execution": {
     "iopub.execute_input": "2021-08-23T20:30:08.176405Z",
     "iopub.status.busy": "2021-08-23T20:30:08.174132Z",
     "iopub.status.idle": "2021-08-23T20:30:08.348353Z",
     "shell.execute_reply": "2021-08-23T20:30:08.349544Z"
    },
    "papermill": {
     "duration": 0.20438,
     "end_time": "2021-08-23T20:30:08.349979",
     "exception": false,
     "start_time": "2021-08-23T20:30:08.145599",
     "status": "completed"
    },
    "tags": []
   },
   "outputs": [],
   "source": [
    "df = pd.read_sql(\"select * from EBAY_TOP_BERLIN where record_time in (select distinct record_time from EBAY_TOP_BERLIN order by record_time desc limit 2)\", sqlite3.connect(\"UsedObjects.db\"))"
   ]
  },
  {
   "cell_type": "code",
   "execution_count": 5,
   "id": "popular-active",
   "metadata": {
    "execution": {
     "iopub.execute_input": "2021-08-23T20:30:08.420569Z",
     "iopub.status.busy": "2021-08-23T20:30:08.407431Z",
     "iopub.status.idle": "2021-08-23T20:30:08.437118Z",
     "shell.execute_reply": "2021-08-23T20:30:08.438469Z"
    },
    "papermill": {
     "duration": 0.068315,
     "end_time": "2021-08-23T20:30:08.438884",
     "exception": false,
     "start_time": "2021-08-23T20:30:08.370569",
     "status": "completed"
    },
    "tags": []
   },
   "outputs": [],
   "source": [
    "df_pivot = df.pivot_table(index=\"PRODUCT\", columns = \"RECORD_TIME\", values = \"LISTING_COUNT\")"
   ]
  },
  {
   "cell_type": "code",
   "execution_count": 6,
   "id": "union-huntington",
   "metadata": {
    "execution": {
     "iopub.execute_input": "2021-08-23T20:30:08.494768Z",
     "iopub.status.busy": "2021-08-23T20:30:08.492668Z",
     "iopub.status.idle": "2021-08-23T20:30:08.498060Z",
     "shell.execute_reply": "2021-08-23T20:30:08.499351Z"
    },
    "papermill": {
     "duration": 0.040829,
     "end_time": "2021-08-23T20:30:08.499762",
     "exception": false,
     "start_time": "2021-08-23T20:30:08.458933",
     "status": "completed"
    },
    "tags": []
   },
   "outputs": [],
   "source": [
    "df_pivot.columns = [\"stamp_1\", \"stamp_2\"]\n",
    "df_pivot_diff = df_pivot.diff(axis=1)"
   ]
  },
  {
   "cell_type": "code",
   "execution_count": 7,
   "id": "fifth-motion",
   "metadata": {
    "execution": {
     "iopub.execute_input": "2021-08-23T20:30:08.573187Z",
     "iopub.status.busy": "2021-08-23T20:30:08.570499Z",
     "iopub.status.idle": "2021-08-23T20:30:10.071715Z",
     "shell.execute_reply": "2021-08-23T20:30:10.072987Z"
    },
    "papermill": {
     "duration": 1.539614,
     "end_time": "2021-08-23T20:30:10.073394",
     "exception": false,
     "start_time": "2021-08-23T20:30:08.533780",
     "status": "completed"
    },
    "tags": []
   },
   "outputs": [
    {
     "data": {
      "text/plain": [
       "<AxesSubplot:ylabel='PRODUCT'>"
      ]
     },
     "execution_count": 7,
     "metadata": {},
     "output_type": "execute_result"
    },
    {
     "data": {
      "image/png": "[encoded data removed]",
      "text/plain": [
       "<Figure size 432x288 with 1 Axes>"
      ]
     },
     "metadata": {
      "needs_background": "light"
     },
     "output_type": "display_data"
    }
   ],
   "source": [
    "df_pivot_diff.sort_values(\"stamp_2\", ascending = False)[\"stamp_2\"].head(10).plot.barh()"
   ]
  },
  {
   "cell_type": "code",
   "execution_count": null,
   "id": "extra-executive",
   "metadata": {
    "papermill": {
     "duration": 0.022058,
     "end_time": "2021-08-23T20:30:10.120046",
     "exception": false,
     "start_time": "2021-08-23T20:30:10.097988",
     "status": "completed"
    },
    "tags": []
   },
   "outputs": [],
   "source": []
  }
 ],
 "metadata": {
  "kernelspec": {
   "display_name": "Python 3",
   "language": "python",
   "name": "python3"
  },
  "language_info": {
   "codemirror_mode": {
    "name": "ipython",
    "version": 3
   },
   "file_extension": ".py",
   "mimetype": "text/x-python",
   "name": "python",
   "nbconvert_exporter": "python",
   "pygments_lexer": "ipython3",
   "version": "3.9.5"
  },
  "papermill": {
   "default_parameters": {},
   "duration": 6.821356,
   "end_time": "2021-08-23T20:30:11.438114",
   "environment_variables": {},
   "exception": null,
   "input_path": "eBay_Overview.ipynb",
   "output_path": "eBay_Overview.ipynb",
   "parameters": {},
   "start_time": "2021-08-23T20:30:04.616758",
   "version": "2.3.3"
  }
 },
 "nbformat": 4,
 "nbformat_minor": 5
}