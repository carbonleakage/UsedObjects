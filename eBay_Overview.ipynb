{
 "cells": [
  {
   "cell_type": "code",
   "execution_count": 1,
   "id": "reverse-picking",
   "metadata": {
    "execution": {
     "iopub.execute_input": "2021-09-13T17:30:07.331633Z",
     "iopub.status.busy": "2021-09-13T17:30:07.329625Z",
     "iopub.status.idle": "2021-09-13T17:30:08.136196Z",
     "shell.execute_reply": "2021-09-13T17:30:08.134419Z"
    },
    "papermill": {
     "duration": 0.857321,
     "end_time": "2021-09-13T17:30:08.136735",
     "exception": false,
     "start_time": "2021-09-13T17:30:07.279414",
     "status": "completed"
    },
    "tags": []
   },
   "outputs": [],
   "source": [
    "import pandas as pd\n",
    "import sqlite3"
   ]
  },
  {
   "cell_type": "code",
   "execution_count": 2,
   "id": "innovative-syndrome",
   "metadata": {
    "execution": {
     "iopub.execute_input": "2021-09-13T17:30:08.188784Z",
     "iopub.status.busy": "2021-09-13T17:30:08.186356Z",
     "iopub.status.idle": "2021-09-13T17:30:08.463801Z",
     "shell.execute_reply": "2021-09-13T17:30:08.465059Z"
    },
    "papermill": {
     "duration": 0.307431,
     "end_time": "2021-09-13T17:30:08.465450",
     "exception": false,
     "start_time": "2021-09-13T17:30:08.158019",
     "status": "completed"
    },
    "tags": []
   },
   "outputs": [],
   "source": [
    "timestamps = pd.read_sql(\"select distinct record_time from EBAY_TOP_BERLIN order by record_time desc limit 2\", sqlite3.connect(\"UsedObjects.db\"))"
   ]
  },
  {
   "cell_type": "code",
   "execution_count": 3,
   "id": "periodic-identification",
   "metadata": {
    "execution": {
     "iopub.execute_input": "2021-09-13T17:30:08.529255Z",
     "iopub.status.busy": "2021-09-13T17:30:08.527158Z",
     "iopub.status.idle": "2021-09-13T17:30:08.547920Z",
     "shell.execute_reply": "2021-09-13T17:30:08.549061Z"
    },
    "papermill": {
     "duration": 0.064816,
     "end_time": "2021-09-13T17:30:08.549471",
     "exception": false,
     "start_time": "2021-09-13T17:30:08.484655",
     "status": "completed"
    },
    "tags": []
   },
   "outputs": [
    {
     "data": {
      "text/html": [
       "<div>\n",
       "<style scoped>\n",
       "    .dataframe tbody tr th:only-of-type {\n",
       "        vertical-align: middle;\n",
       "    }\n",
       "\n",
       "    .dataframe tbody tr th {\n",
       "        vertical-align: top;\n",
       "    }\n",
       "\n",
       "    .dataframe thead th {\n",
       "        text-align: right;\n",
       "    }\n",
       "</style>\n",
       "<table border=\"1\" class=\"dataframe\">\n",
       "  <thead>\n",
       "    <tr style=\"text-align: right;\">\n",
       "      <th></th>\n",
       "      <th>RECORD_TIME</th>\n",
       "    </tr>\n",
       "  </thead>\n",
       "  <tbody>\n",
       "    <tr>\n",
       "      <th>0</th>\n",
       "      <td>2021-09-13 19:30</td>\n",
       "    </tr>\n",
       "    <tr>\n",
       "      <th>1</th>\n",
       "      <td>2021-09-13 19:00</td>\n",
       "    </tr>\n",
       "  </tbody>\n",
       "</table>\n",
       "</div>"
      ],
      "text/plain": [
       "        RECORD_TIME\n",
       "0  2021-09-13 19:30\n",
       "1  2021-09-13 19:00"
      ]
     },
     "execution_count": 3,
     "metadata": {},
     "output_type": "execute_result"
    }
   ],
   "source": [
    "timestamps"
   ]
  },
  {
   "cell_type": "code",
   "execution_count": 4,
   "id": "alternate-victory",
   "metadata": {
    "execution": {
     "iopub.execute_input": "2021-09-13T17:30:08.603292Z",
     "iopub.status.busy": "2021-09-13T17:30:08.600935Z",
     "iopub.status.idle": "2021-09-13T17:30:09.025552Z",
     "shell.execute_reply": "2021-09-13T17:30:09.026768Z"
    },
    "papermill": {
     "duration": 0.455091,
     "end_time": "2021-09-13T17:30:09.027216",
     "exception": false,
     "start_time": "2021-09-13T17:30:08.572125",
     "status": "completed"
    },
    "tags": []
   },
   "outputs": [],
   "source": [
    "df = pd.read_sql(\"select * from EBAY_TOP_BERLIN where record_time in (select distinct record_time from EBAY_TOP_BERLIN order by record_time desc limit 2)\", sqlite3.connect(\"UsedObjects.db\"))"
   ]
  },
  {
   "cell_type": "code",
   "execution_count": 5,
   "id": "popular-active",
   "metadata": {
    "execution": {
     "iopub.execute_input": "2021-09-13T17:30:09.108905Z",
     "iopub.status.busy": "2021-09-13T17:30:09.096421Z",
     "iopub.status.idle": "2021-09-13T17:30:09.124774Z",
     "shell.execute_reply": "2021-09-13T17:30:09.126059Z"
    },
    "papermill": {
     "duration": 0.071181,
     "end_time": "2021-09-13T17:30:09.126468",
     "exception": false,
     "start_time": "2021-09-13T17:30:09.055287",
     "status": "completed"
    },
    "tags": []
   },
   "outputs": [],
   "source": [
    "df_pivot = df.pivot_table(index=\"PRODUCT\", columns = \"RECORD_TIME\", values = \"LISTING_COUNT\")"
   ]
  },
  {
   "cell_type": "code",
   "execution_count": 6,
   "id": "union-huntington",
   "metadata": {
    "execution": {
     "iopub.execute_input": "2021-09-13T17:30:09.182217Z",
     "iopub.status.busy": "2021-09-13T17:30:09.180055Z",
     "iopub.status.idle": "2021-09-13T17:30:09.185574Z",
     "shell.execute_reply": "2021-09-13T17:30:09.187131Z"
    },
    "papermill": {
     "duration": 0.041039,
     "end_time": "2021-09-13T17:30:09.187587",
     "exception": false,
     "start_time": "2021-09-13T17:30:09.146548",
     "status": "completed"
    },
    "tags": []
   },
   "outputs": [],
   "source": [
    "df_pivot.columns = [\"stamp_1\", \"stamp_2\"]\n",
    "df_pivot_diff = df_pivot.diff(axis=1)"
   ]
  },
  {
   "cell_type": "code",
   "execution_count": 7,
   "id": "fifth-motion",
   "metadata": {
    "execution": {
     "iopub.execute_input": "2021-09-13T17:30:09.242707Z",
     "iopub.status.busy": "2021-09-13T17:30:09.240062Z",
     "iopub.status.idle": "2021-09-13T17:30:10.745113Z",
     "shell.execute_reply": "2021-09-13T17:30:10.746301Z"
    },
    "papermill": {
     "duration": 1.538868,
     "end_time": "2021-09-13T17:30:10.746724",
     "exception": false,
     "start_time": "2021-09-13T17:30:09.207856",
     "status": "completed"
    },
    "tags": []
   },
   "outputs": [
    {
     "data": {
      "text/plain": [
       "<AxesSubplot:ylabel='PRODUCT'>"
      ]
     },
     "execution_count": 7,
     "metadata": {},
     "output_type": "execute_result"
    },
    {
     "data": {
      "image/png": "[encoded data removed]",
      "text/plain": [
       "<Figure size 432x288 with 1 Axes>"
      ]
     },
     "metadata": {
      "needs_background": "light"
     },
     "output_type": "display_data"
    }
   ],
   "source": [
    "df_pivot_diff.sort_values(\"stamp_2\", ascending = False)[\"stamp_2\"].head(10).plot.barh()"
   ]
  },
  {
   "cell_type": "code",
   "execution_count": null,
   "id": "extra-executive",
   "metadata": {
    "papermill": {
     "duration": 0.022022,
     "end_time": "2021-09-13T17:30:10.794299",
     "exception": false,
     "start_time": "2021-09-13T17:30:10.772277",
     "status": "completed"
    },
    "tags": []
   },
   "outputs": [],
   "source": []
  }
 ],
 "metadata": {
  "kernelspec": {
   "display_name": "Python 3",
   "language": "python",
   "name": "python3"
  },
  "language_info": {
   "codemirror_mode": {
    "name": "ipython",
    "version": 3
   },
   "file_extension": ".py",
   "mimetype": "text/x-python",
   "name": "python",
   "nbconvert_exporter": "python",
   "pygments_lexer": "ipython3",
   "version": "3.9.5"
  },
  "papermill": {
   "default_parameters": {},
   "duration": 6.558215,
   "end_time": "2021-09-13T17:30:11.438359",
   "environment_variables": {},
   "exception": null,
   "input_path": "eBay_Overview.ipynb",
   "output_path": "eBay_Overview.ipynb",
   "parameters": {},
   "start_time": "2021-09-13T17:30:04.880144",
   "version": "2.3.3"
  }
 },
 "nbformat": 4,
 "nbformat_minor": 5
}