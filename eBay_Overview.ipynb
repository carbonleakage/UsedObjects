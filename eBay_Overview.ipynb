{
 "cells": [
  {
   "cell_type": "code",
   "execution_count": 1,
   "id": "reverse-picking",
   "metadata": {
    "execution": {
     "iopub.execute_input": "2021-10-31T12:30:08.294385Z",
     "iopub.status.busy": "2021-10-31T12:30:08.292306Z",
     "iopub.status.idle": "2021-10-31T12:30:09.097957Z",
     "shell.execute_reply": "2021-10-31T12:30:09.099219Z"
    },
    "papermill": {
     "duration": 0.857463,
     "end_time": "2021-10-31T12:30:09.099837",
     "exception": false,
     "start_time": "2021-10-31T12:30:08.242374",
     "status": "completed"
    },
    "tags": []
   },
   "outputs": [],
   "source": [
    "import pandas as pd\n",
    "import sqlite3"
   ]
  },
  {
   "cell_type": "code",
   "execution_count": 2,
   "id": "innovative-syndrome",
   "metadata": {
    "execution": {
     "iopub.execute_input": "2021-10-31T12:30:09.151276Z",
     "iopub.status.busy": "2021-10-31T12:30:09.149257Z",
     "iopub.status.idle": "2021-10-31T12:30:09.848909Z",
     "shell.execute_reply": "2021-10-31T12:30:09.850149Z"
    },
    "papermill": {
     "duration": 0.729193,
     "end_time": "2021-10-31T12:30:09.850546",
     "exception": false,
     "start_time": "2021-10-31T12:30:09.121353",
     "status": "completed"
    },
    "tags": []
   },
   "outputs": [],
   "source": [
    "timestamps = pd.read_sql(\"select distinct record_time from EBAY_TOP_BERLIN order by record_time desc limit 2\", sqlite3.connect(\"UsedObjects.db\"))"
   ]
  },
  {
   "cell_type": "code",
   "execution_count": 3,
   "id": "periodic-identification",
   "metadata": {
    "execution": {
     "iopub.execute_input": "2021-10-31T12:30:09.927459Z",
     "iopub.status.busy": "2021-10-31T12:30:09.925424Z",
     "iopub.status.idle": "2021-10-31T12:30:09.945408Z",
     "shell.execute_reply": "2021-10-31T12:30:09.946622Z"
    },
    "papermill": {
     "duration": 0.070212,
     "end_time": "2021-10-31T12:30:09.947049",
     "exception": false,
     "start_time": "2021-10-31T12:30:09.876837",
     "status": "completed"
    },
    "tags": []
   },
   "outputs": [
    {
     "data": {
      "text/html": [
       "<div>\n",
       "<style scoped>\n",
       "    .dataframe tbody tr th:only-of-type {\n",
       "        vertical-align: middle;\n",
       "    }\n",
       "\n",
       "    .dataframe tbody tr th {\n",
       "        vertical-align: top;\n",
       "    }\n",
       "\n",
       "    .dataframe thead th {\n",
       "        text-align: right;\n",
       "    }\n",
       "</style>\n",
       "<table border=\"1\" class=\"dataframe\">\n",
       "  <thead>\n",
       "    <tr style=\"text-align: right;\">\n",
       "      <th></th>\n",
       "      <th>RECORD_TIME</th>\n",
       "    </tr>\n",
       "  </thead>\n",
       "  <tbody>\n",
       "    <tr>\n",
       "      <th>0</th>\n",
       "      <td>2021-10-31 13:30</td>\n",
       "    </tr>\n",
       "    <tr>\n",
       "      <th>1</th>\n",
       "      <td>2021-10-31 13:00</td>\n",
       "    </tr>\n",
       "  </tbody>\n",
       "</table>\n",
       "</div>"
      ],
      "text/plain": [
       "        RECORD_TIME\n",
       "0  2021-10-31 13:30\n",
       "1  2021-10-31 13:00"
      ]
     },
     "execution_count": 3,
     "metadata": {},
     "output_type": "execute_result"
    }
   ],
   "source": [
    "timestamps"
   ]
  },
  {
   "cell_type": "code",
   "execution_count": 4,
   "id": "alternate-victory",
   "metadata": {
    "execution": {
     "iopub.execute_input": "2021-10-31T12:30:10.000534Z",
     "iopub.status.busy": "2021-10-31T12:30:09.998607Z",
     "iopub.status.idle": "2021-10-31T12:30:10.989660Z",
     "shell.execute_reply": "2021-10-31T12:30:10.991078Z"
    },
    "papermill": {
     "duration": 1.021888,
     "end_time": "2021-10-31T12:30:10.991686",
     "exception": false,
     "start_time": "2021-10-31T12:30:09.969798",
     "status": "completed"
    },
    "tags": []
   },
   "outputs": [],
   "source": [
    "df = pd.read_sql(\"select * from EBAY_TOP_BERLIN where record_time in (select distinct record_time from EBAY_TOP_BERLIN order by record_time desc limit 2)\", sqlite3.connect(\"UsedObjects.db\"))"
   ]
  },
  {
   "cell_type": "code",
   "execution_count": 5,
   "id": "popular-active",
   "metadata": {
    "execution": {
     "iopub.execute_input": "2021-10-31T12:30:11.061349Z",
     "iopub.status.busy": "2021-10-31T12:30:11.049939Z",
     "iopub.status.idle": "2021-10-31T12:30:11.078506Z",
     "shell.execute_reply": "2021-10-31T12:30:11.079722Z"
    },
    "papermill": {
     "duration": 0.067491,
     "end_time": "2021-10-31T12:30:11.080119",
     "exception": false,
     "start_time": "2021-10-31T12:30:11.012628",
     "status": "completed"
    },
    "tags": []
   },
   "outputs": [],
   "source": [
    "df_pivot = df.pivot_table(index=\"PRODUCT\", columns = \"RECORD_TIME\", values = \"LISTING_COUNT\")"
   ]
  },
  {
   "cell_type": "code",
   "execution_count": 6,
   "id": "union-huntington",
   "metadata": {
    "execution": {
     "iopub.execute_input": "2021-10-31T12:30:11.139207Z",
     "iopub.status.busy": "2021-10-31T12:30:11.136735Z",
     "iopub.status.idle": "2021-10-31T12:30:11.142680Z",
     "shell.execute_reply": "2021-10-31T12:30:11.143879Z"
    },
    "papermill": {
     "duration": 0.041984,
     "end_time": "2021-10-31T12:30:11.144309",
     "exception": false,
     "start_time": "2021-10-31T12:30:11.102325",
     "status": "completed"
    },
    "tags": []
   },
   "outputs": [],
   "source": [
    "df_pivot.columns = [\"stamp_1\", \"stamp_2\"]\n",
    "df_pivot_diff = df_pivot.diff(axis=1)"
   ]
  },
  {
   "cell_type": "code",
   "execution_count": 7,
   "id": "fifth-motion",
   "metadata": {
    "execution": {
     "iopub.execute_input": "2021-10-31T12:30:11.198440Z",
     "iopub.status.busy": "2021-10-31T12:30:11.195959Z",
     "iopub.status.idle": "2021-10-31T12:30:12.709323Z",
     "shell.execute_reply": "2021-10-31T12:30:12.710611Z"
    },
    "papermill": {
     "duration": 1.546138,
     "end_time": "2021-10-31T12:30:12.711065",
     "exception": false,
     "start_time": "2021-10-31T12:30:11.164927",
     "status": "completed"
    },
    "tags": []
   },
   "outputs": [
    {
     "data": {
      "text/plain": [
       "<AxesSubplot:ylabel='PRODUCT'>"
      ]
     },
     "execution_count": 7,
     "metadata": {},
     "output_type": "execute_result"
    },
    {
     "data": {
      "image/png": "[encoded data removed]",
      "text/plain": [
       "<Figure size 432x288 with 1 Axes>"
      ]
     },
     "metadata": {
      "needs_background": "light"
     },
     "output_type": "display_data"
    }
   ],
   "source": [
    "df_pivot_diff.sort_values(\"stamp_2\", ascending = False)[\"stamp_2\"].head(10).plot.barh()"
   ]
  },
  {
   "cell_type": "code",
   "execution_count": null,
   "id": "extra-executive",
   "metadata": {
    "papermill": {
     "duration": 0.02225,
     "end_time": "2021-10-31T12:30:12.757824",
     "exception": false,
     "start_time": "2021-10-31T12:30:12.735574",
     "status": "completed"
    },
    "tags": []
   },
   "outputs": [],
   "source": []
  }
 ],
 "metadata": {
  "kernelspec": {
   "display_name": "Python 3",
   "language": "python",
   "name": "python3"
  },
  "language_info": {
   "codemirror_mode": {
    "name": "ipython",
    "version": 3
   },
   "file_extension": ".py",
   "mimetype": "text/x-python",
   "name": "python",
   "nbconvert_exporter": "python",
   "pygments_lexer": "ipython3",
   "version": "3.9.5"
  },
  "papermill": {
   "default_parameters": {},
   "duration": 7.562727,
   "end_time": "2021-10-31T12:30:13.401228",
   "environment_variables": {},
   "exception": null,
   "input_path": "eBay_Overview.ipynb",
   "output_path": "eBay_Overview.ipynb",
   "parameters": {},
   "start_time": "2021-10-31T12:30:05.838501",
   "version": "2.3.3"
  }
 },
 "nbformat": 4,
 "nbformat_minor": 5
}