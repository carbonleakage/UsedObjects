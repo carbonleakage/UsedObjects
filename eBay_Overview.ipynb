{
 "cells": [
  {
   "cell_type": "code",
   "execution_count": 1,
   "id": "reverse-picking",
   "metadata": {
    "execution": {
     "iopub.execute_input": "2021-09-02T11:00:07.069572Z",
     "iopub.status.busy": "2021-09-02T11:00:07.067602Z",
     "iopub.status.idle": "2021-09-02T11:00:07.870294Z",
     "shell.execute_reply": "2021-09-02T11:00:07.871749Z"
    },
    "papermill": {
     "duration": 0.8541,
     "end_time": "2021-09-02T11:00:07.872408",
     "exception": false,
     "start_time": "2021-09-02T11:00:07.018308",
     "status": "completed"
    },
    "tags": []
   },
   "outputs": [],
   "source": [
    "import pandas as pd\n",
    "import sqlite3"
   ]
  },
  {
   "cell_type": "code",
   "execution_count": 2,
   "id": "innovative-syndrome",
   "metadata": {
    "execution": {
     "iopub.execute_input": "2021-09-02T11:00:07.923601Z",
     "iopub.status.busy": "2021-09-02T11:00:07.921586Z",
     "iopub.status.idle": "2021-09-02T11:00:08.106171Z",
     "shell.execute_reply": "2021-09-02T11:00:08.107592Z"
    },
    "papermill": {
     "duration": 0.214629,
     "end_time": "2021-09-02T11:00:08.108009",
     "exception": false,
     "start_time": "2021-09-02T11:00:07.893380",
     "status": "completed"
    },
    "tags": []
   },
   "outputs": [],
   "source": [
    "timestamps = pd.read_sql(\"select distinct record_time from EBAY_TOP_BERLIN order by record_time desc limit 2\", sqlite3.connect(\"UsedObjects.db\"))"
   ]
  },
  {
   "cell_type": "code",
   "execution_count": 3,
   "id": "periodic-identification",
   "metadata": {
    "execution": {
     "iopub.execute_input": "2021-09-02T11:00:08.172949Z",
     "iopub.status.busy": "2021-09-02T11:00:08.170939Z",
     "iopub.status.idle": "2021-09-02T11:00:08.193659Z",
     "shell.execute_reply": "2021-09-02T11:00:08.195183Z"
    },
    "papermill": {
     "duration": 0.068443,
     "end_time": "2021-09-02T11:00:08.195651",
     "exception": false,
     "start_time": "2021-09-02T11:00:08.127208",
     "status": "completed"
    },
    "tags": []
   },
   "outputs": [
    {
     "data": {
      "text/html": [
       "<div>\n",
       "<style scoped>\n",
       "    .dataframe tbody tr th:only-of-type {\n",
       "        vertical-align: middle;\n",
       "    }\n",
       "\n",
       "    .dataframe tbody tr th {\n",
       "        vertical-align: top;\n",
       "    }\n",
       "\n",
       "    .dataframe thead th {\n",
       "        text-align: right;\n",
       "    }\n",
       "</style>\n",
       "<table border=\"1\" class=\"dataframe\">\n",
       "  <thead>\n",
       "    <tr style=\"text-align: right;\">\n",
       "      <th></th>\n",
       "      <th>RECORD_TIME</th>\n",
       "    </tr>\n",
       "  </thead>\n",
       "  <tbody>\n",
       "    <tr>\n",
       "      <th>0</th>\n",
       "      <td>2021-09-02 13:00</td>\n",
       "    </tr>\n",
       "    <tr>\n",
       "      <th>1</th>\n",
       "      <td>2021-09-02 12:30</td>\n",
       "    </tr>\n",
       "  </tbody>\n",
       "</table>\n",
       "</div>"
      ],
      "text/plain": [
       "        RECORD_TIME\n",
       "0  2021-09-02 13:00\n",
       "1  2021-09-02 12:30"
      ]
     },
     "execution_count": 3,
     "metadata": {},
     "output_type": "execute_result"
    }
   ],
   "source": [
    "timestamps"
   ]
  },
  {
   "cell_type": "code",
   "execution_count": 4,
   "id": "alternate-victory",
   "metadata": {
    "execution": {
     "iopub.execute_input": "2021-09-02T11:00:08.246379Z",
     "iopub.status.busy": "2021-09-02T11:00:08.244580Z",
     "iopub.status.idle": "2021-09-02T11:00:08.521275Z",
     "shell.execute_reply": "2021-09-02T11:00:08.522466Z"
    },
    "papermill": {
     "duration": 0.306525,
     "end_time": "2021-09-02T11:00:08.523007",
     "exception": false,
     "start_time": "2021-09-02T11:00:08.216482",
     "status": "completed"
    },
    "tags": []
   },
   "outputs": [],
   "source": [
    "df = pd.read_sql(\"select * from EBAY_TOP_BERLIN where record_time in (select distinct record_time from EBAY_TOP_BERLIN order by record_time desc limit 2)\", sqlite3.connect(\"UsedObjects.db\"))"
   ]
  },
  {
   "cell_type": "code",
   "execution_count": 5,
   "id": "popular-active",
   "metadata": {
    "execution": {
     "iopub.execute_input": "2021-09-02T11:00:08.598811Z",
     "iopub.status.busy": "2021-09-02T11:00:08.590828Z",
     "iopub.status.idle": "2021-09-02T11:00:08.620305Z",
     "shell.execute_reply": "2021-09-02T11:00:08.621497Z"
    },
    "papermill": {
     "duration": 0.070912,
     "end_time": "2021-09-02T11:00:08.621887",
     "exception": false,
     "start_time": "2021-09-02T11:00:08.550975",
     "status": "completed"
    },
    "tags": []
   },
   "outputs": [],
   "source": [
    "df_pivot = df.pivot_table(index=\"PRODUCT\", columns = \"RECORD_TIME\", values = \"LISTING_COUNT\")"
   ]
  },
  {
   "cell_type": "code",
   "execution_count": 6,
   "id": "union-huntington",
   "metadata": {
    "execution": {
     "iopub.execute_input": "2021-09-02T11:00:08.678699Z",
     "iopub.status.busy": "2021-09-02T11:00:08.676661Z",
     "iopub.status.idle": "2021-09-02T11:00:08.681906Z",
     "shell.execute_reply": "2021-09-02T11:00:08.683470Z"
    },
    "papermill": {
     "duration": 0.040647,
     "end_time": "2021-09-02T11:00:08.683927",
     "exception": false,
     "start_time": "2021-09-02T11:00:08.643280",
     "status": "completed"
    },
    "tags": []
   },
   "outputs": [],
   "source": [
    "df_pivot.columns = [\"stamp_1\", \"stamp_2\"]\n",
    "df_pivot_diff = df_pivot.diff(axis=1)"
   ]
  },
  {
   "cell_type": "code",
   "execution_count": 7,
   "id": "fifth-motion",
   "metadata": {
    "execution": {
     "iopub.execute_input": "2021-09-02T11:00:08.740632Z",
     "iopub.status.busy": "2021-09-02T11:00:08.738083Z",
     "iopub.status.idle": "2021-09-02T11:00:10.216591Z",
     "shell.execute_reply": "2021-09-02T11:00:10.217957Z"
    },
    "papermill": {
     "duration": 1.512007,
     "end_time": "2021-09-02T11:00:10.218389",
     "exception": false,
     "start_time": "2021-09-02T11:00:08.706382",
     "status": "completed"
    },
    "tags": []
   },
   "outputs": [
    {
     "data": {
      "text/plain": [
       "<AxesSubplot:ylabel='PRODUCT'>"
      ]
     },
     "execution_count": 7,
     "metadata": {},
     "output_type": "execute_result"
    },
    {
     "data": {
      "image/png": "[encoded data removed]",
      "text/plain": [
       "<Figure size 432x288 with 1 Axes>"
      ]
     },
     "metadata": {
      "needs_background": "light"
     },
     "output_type": "display_data"
    }
   ],
   "source": [
    "df_pivot_diff.sort_values(\"stamp_2\", ascending = False)[\"stamp_2\"].head(10).plot.barh()"
   ]
  },
  {
   "cell_type": "code",
   "execution_count": null,
   "id": "extra-executive",
   "metadata": {
    "papermill": {
     "duration": 0.021928,
     "end_time": "2021-09-02T11:00:10.264081",
     "exception": false,
     "start_time": "2021-09-02T11:00:10.242153",
     "status": "completed"
    },
    "tags": []
   },
   "outputs": [],
   "source": []
  }
 ],
 "metadata": {
  "kernelspec": {
   "display_name": "Python 3",
   "language": "python",
   "name": "python3"
  },
  "language_info": {
   "codemirror_mode": {
    "name": "ipython",
    "version": 3
   },
   "file_extension": ".py",
   "mimetype": "text/x-python",
   "name": "python",
   "nbconvert_exporter": "python",
   "pygments_lexer": "ipython3",
   "version": "3.9.5"
  },
  "papermill": {
   "default_parameters": {},
   "duration": 6.816659,
   "end_time": "2021-09-02T11:00:11.445631",
   "environment_variables": {},
   "exception": null,
   "input_path": "eBay_Overview.ipynb",
   "output_path": "eBay_Overview.ipynb",
   "parameters": {},
   "start_time": "2021-09-02T11:00:04.628972",
   "version": "2.3.3"
  }
 },
 "nbformat": 4,
 "nbformat_minor": 5
}