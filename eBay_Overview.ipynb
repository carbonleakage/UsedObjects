{
 "cells": [
  {
   "cell_type": "code",
   "execution_count": 1,
   "id": "reverse-picking",
   "metadata": {
    "execution": {
     "iopub.execute_input": "2021-10-31T16:30:06.721822Z",
     "iopub.status.busy": "2021-10-31T16:30:06.719816Z",
     "iopub.status.idle": "2021-10-31T16:30:07.531761Z",
     "shell.execute_reply": "2021-10-31T16:30:07.529987Z"
    },
    "papermill": {
     "duration": 0.859613,
     "end_time": "2021-10-31T16:30:07.532194",
     "exception": false,
     "start_time": "2021-10-31T16:30:06.672581",
     "status": "completed"
    },
    "tags": []
   },
   "outputs": [],
   "source": [
    "import pandas as pd\n",
    "import sqlite3"
   ]
  },
  {
   "cell_type": "code",
   "execution_count": 2,
   "id": "innovative-syndrome",
   "metadata": {
    "execution": {
     "iopub.execute_input": "2021-10-31T16:30:07.582931Z",
     "iopub.status.busy": "2021-10-31T16:30:07.580532Z",
     "iopub.status.idle": "2021-10-31T16:30:08.260985Z",
     "shell.execute_reply": "2021-10-31T16:30:08.262395Z"
    },
    "papermill": {
     "duration": 0.710593,
     "end_time": "2021-10-31T16:30:08.262833",
     "exception": false,
     "start_time": "2021-10-31T16:30:07.552240",
     "status": "completed"
    },
    "tags": []
   },
   "outputs": [],
   "source": [
    "timestamps = pd.read_sql(\"select distinct record_time from EBAY_TOP_BERLIN order by record_time desc limit 2\", sqlite3.connect(\"UsedObjects.db\"))"
   ]
  },
  {
   "cell_type": "code",
   "execution_count": 3,
   "id": "periodic-identification",
   "metadata": {
    "execution": {
     "iopub.execute_input": "2021-10-31T16:30:08.336299Z",
     "iopub.status.busy": "2021-10-31T16:30:08.334245Z",
     "iopub.status.idle": "2021-10-31T16:30:08.354005Z",
     "shell.execute_reply": "2021-10-31T16:30:08.355282Z"
    },
    "papermill": {
     "duration": 0.067285,
     "end_time": "2021-10-31T16:30:08.355682",
     "exception": false,
     "start_time": "2021-10-31T16:30:08.288397",
     "status": "completed"
    },
    "tags": []
   },
   "outputs": [
    {
     "data": {
      "text/html": [
       "<div>\n",
       "<style scoped>\n",
       "    .dataframe tbody tr th:only-of-type {\n",
       "        vertical-align: middle;\n",
       "    }\n",
       "\n",
       "    .dataframe tbody tr th {\n",
       "        vertical-align: top;\n",
       "    }\n",
       "\n",
       "    .dataframe thead th {\n",
       "        text-align: right;\n",
       "    }\n",
       "</style>\n",
       "<table border=\"1\" class=\"dataframe\">\n",
       "  <thead>\n",
       "    <tr style=\"text-align: right;\">\n",
       "      <th></th>\n",
       "      <th>RECORD_TIME</th>\n",
       "    </tr>\n",
       "  </thead>\n",
       "  <tbody>\n",
       "    <tr>\n",
       "      <th>0</th>\n",
       "      <td>2021-10-31 17:30</td>\n",
       "    </tr>\n",
       "    <tr>\n",
       "      <th>1</th>\n",
       "      <td>2021-10-31 17:00</td>\n",
       "    </tr>\n",
       "  </tbody>\n",
       "</table>\n",
       "</div>"
      ],
      "text/plain": [
       "        RECORD_TIME\n",
       "0  2021-10-31 17:30\n",
       "1  2021-10-31 17:00"
      ]
     },
     "execution_count": 3,
     "metadata": {},
     "output_type": "execute_result"
    }
   ],
   "source": [
    "timestamps"
   ]
  },
  {
   "cell_type": "code",
   "execution_count": 4,
   "id": "alternate-victory",
   "metadata": {
    "execution": {
     "iopub.execute_input": "2021-10-31T16:30:08.408605Z",
     "iopub.status.busy": "2021-10-31T16:30:08.406329Z",
     "iopub.status.idle": "2021-10-31T16:30:09.409825Z",
     "shell.execute_reply": "2021-10-31T16:30:09.411050Z"
    },
    "papermill": {
     "duration": 1.033965,
     "end_time": "2021-10-31T16:30:09.411452",
     "exception": false,
     "start_time": "2021-10-31T16:30:08.377487",
     "status": "completed"
    },
    "tags": []
   },
   "outputs": [],
   "source": [
    "df = pd.read_sql(\"select * from EBAY_TOP_BERLIN where record_time in (select distinct record_time from EBAY_TOP_BERLIN order by record_time desc limit 2)\", sqlite3.connect(\"UsedObjects.db\"))"
   ]
  },
  {
   "cell_type": "code",
   "execution_count": 5,
   "id": "popular-active",
   "metadata": {
    "execution": {
     "iopub.execute_input": "2021-10-31T16:30:09.482908Z",
     "iopub.status.busy": "2021-10-31T16:30:09.471112Z",
     "iopub.status.idle": "2021-10-31T16:30:09.498447Z",
     "shell.execute_reply": "2021-10-31T16:30:09.499663Z"
    },
    "papermill": {
     "duration": 0.068135,
     "end_time": "2021-10-31T16:30:09.500061",
     "exception": false,
     "start_time": "2021-10-31T16:30:09.431926",
     "status": "completed"
    },
    "tags": []
   },
   "outputs": [],
   "source": [
    "df_pivot = df.pivot_table(index=\"PRODUCT\", columns = \"RECORD_TIME\", values = \"LISTING_COUNT\")"
   ]
  },
  {
   "cell_type": "code",
   "execution_count": 6,
   "id": "union-huntington",
   "metadata": {
    "execution": {
     "iopub.execute_input": "2021-10-31T16:30:09.555919Z",
     "iopub.status.busy": "2021-10-31T16:30:09.553848Z",
     "iopub.status.idle": "2021-10-31T16:30:09.559044Z",
     "shell.execute_reply": "2021-10-31T16:30:09.560334Z"
    },
    "papermill": {
     "duration": 0.04011,
     "end_time": "2021-10-31T16:30:09.560862",
     "exception": false,
     "start_time": "2021-10-31T16:30:09.520752",
     "status": "completed"
    },
    "tags": []
   },
   "outputs": [],
   "source": [
    "df_pivot.columns = [\"stamp_1\", \"stamp_2\"]\n",
    "df_pivot_diff = df_pivot.diff(axis=1)"
   ]
  },
  {
   "cell_type": "code",
   "execution_count": 7,
   "id": "fifth-motion",
   "metadata": {
    "execution": {
     "iopub.execute_input": "2021-10-31T16:30:09.615765Z",
     "iopub.status.busy": "2021-10-31T16:30:09.613121Z",
     "iopub.status.idle": "2021-10-31T16:30:11.121131Z",
     "shell.execute_reply": "2021-10-31T16:30:11.122639Z"
    },
    "papermill": {
     "duration": 1.541849,
     "end_time": "2021-10-31T16:30:11.123087",
     "exception": false,
     "start_time": "2021-10-31T16:30:09.581238",
     "status": "completed"
    },
    "tags": []
   },
   "outputs": [
    {
     "data": {
      "text/plain": [
       "<AxesSubplot:ylabel='PRODUCT'>"
      ]
     },
     "execution_count": 7,
     "metadata": {},
     "output_type": "execute_result"
    },
    {
     "data": {
      "image/png": "[encoded data removed]",
      "text/plain": [
       "<Figure size 432x288 with 1 Axes>"
      ]
     },
     "metadata": {
      "needs_background": "light"
     },
     "output_type": "display_data"
    }
   ],
   "source": [
    "df_pivot_diff.sort_values(\"stamp_2\", ascending = False)[\"stamp_2\"].head(10).plot.barh()"
   ]
  },
  {
   "cell_type": "code",
   "execution_count": null,
   "id": "extra-executive",
   "metadata": {
    "papermill": {
     "duration": 0.022175,
     "end_time": "2021-10-31T16:30:11.169847",
     "exception": false,
     "start_time": "2021-10-31T16:30:11.147672",
     "status": "completed"
    },
    "tags": []
   },
   "outputs": [],
   "source": []
  }
 ],
 "metadata": {
  "kernelspec": {
   "display_name": "Python 3",
   "language": "python",
   "name": "python3"
  },
  "language_info": {
   "codemirror_mode": {
    "name": "ipython",
    "version": 3
   },
   "file_extension": ".py",
   "mimetype": "text/x-python",
   "name": "python",
   "nbconvert_exporter": "python",
   "pygments_lexer": "ipython3",
   "version": "3.9.5"
  },
  "papermill": {
   "default_parameters": {},
   "duration": 7.560225,
   "end_time": "2021-10-31T16:30:11.810730",
   "environment_variables": {},
   "exception": null,
   "input_path": "eBay_Overview.ipynb",
   "output_path": "eBay_Overview.ipynb",
   "parameters": {},
   "start_time": "2021-10-31T16:30:04.250505",
   "version": "2.3.3"
  }
 },
 "nbformat": 4,
 "nbformat_minor": 5
}