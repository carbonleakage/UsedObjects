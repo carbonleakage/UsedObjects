{
 "cells": [
  {
   "cell_type": "code",
   "execution_count": 1,
   "id": "reverse-picking",
   "metadata": {
    "execution": {
     "iopub.execute_input": "2021-10-09T17:30:06.916096Z",
     "iopub.status.busy": "2021-10-09T17:30:06.914062Z",
     "iopub.status.idle": "2021-10-09T17:30:07.721834Z",
     "shell.execute_reply": "2021-10-09T17:30:07.720274Z"
    },
    "papermill": {
     "duration": 0.855843,
     "end_time": "2021-10-09T17:30:07.722222",
     "exception": false,
     "start_time": "2021-10-09T17:30:06.866379",
     "status": "completed"
    },
    "tags": []
   },
   "outputs": [],
   "source": [
    "import pandas as pd\n",
    "import sqlite3"
   ]
  },
  {
   "cell_type": "code",
   "execution_count": 2,
   "id": "innovative-syndrome",
   "metadata": {
    "execution": {
     "iopub.execute_input": "2021-10-09T17:30:07.776239Z",
     "iopub.status.busy": "2021-10-09T17:30:07.773803Z",
     "iopub.status.idle": "2021-10-09T17:30:08.265543Z",
     "shell.execute_reply": "2021-10-09T17:30:08.266868Z"
    },
    "papermill": {
     "duration": 0.522025,
     "end_time": "2021-10-09T17:30:08.267306",
     "exception": false,
     "start_time": "2021-10-09T17:30:07.745281",
     "status": "completed"
    },
    "tags": []
   },
   "outputs": [],
   "source": [
    "timestamps = pd.read_sql(\"select distinct record_time from EBAY_TOP_BERLIN order by record_time desc limit 2\", sqlite3.connect(\"UsedObjects.db\"))"
   ]
  },
  {
   "cell_type": "code",
   "execution_count": 3,
   "id": "periodic-identification",
   "metadata": {
    "execution": {
     "iopub.execute_input": "2021-10-09T17:30:08.333457Z",
     "iopub.status.busy": "2021-10-09T17:30:08.331422Z",
     "iopub.status.idle": "2021-10-09T17:30:08.351397Z",
     "shell.execute_reply": "2021-10-09T17:30:08.352639Z"
    },
    "papermill": {
     "duration": 0.064794,
     "end_time": "2021-10-09T17:30:08.353034",
     "exception": false,
     "start_time": "2021-10-09T17:30:08.288240",
     "status": "completed"
    },
    "tags": []
   },
   "outputs": [
    {
     "data": {
      "text/html": [
       "<div>\n",
       "<style scoped>\n",
       "    .dataframe tbody tr th:only-of-type {\n",
       "        vertical-align: middle;\n",
       "    }\n",
       "\n",
       "    .dataframe tbody tr th {\n",
       "        vertical-align: top;\n",
       "    }\n",
       "\n",
       "    .dataframe thead th {\n",
       "        text-align: right;\n",
       "    }\n",
       "</style>\n",
       "<table border=\"1\" class=\"dataframe\">\n",
       "  <thead>\n",
       "    <tr style=\"text-align: right;\">\n",
       "      <th></th>\n",
       "      <th>RECORD_TIME</th>\n",
       "    </tr>\n",
       "  </thead>\n",
       "  <tbody>\n",
       "    <tr>\n",
       "      <th>0</th>\n",
       "      <td>2021-10-09 19:30</td>\n",
       "    </tr>\n",
       "    <tr>\n",
       "      <th>1</th>\n",
       "      <td>2021-10-09 19:00</td>\n",
       "    </tr>\n",
       "  </tbody>\n",
       "</table>\n",
       "</div>"
      ],
      "text/plain": [
       "        RECORD_TIME\n",
       "0  2021-10-09 19:30\n",
       "1  2021-10-09 19:00"
      ]
     },
     "execution_count": 3,
     "metadata": {},
     "output_type": "execute_result"
    }
   ],
   "source": [
    "timestamps"
   ]
  },
  {
   "cell_type": "code",
   "execution_count": 4,
   "id": "alternate-victory",
   "metadata": {
    "execution": {
     "iopub.execute_input": "2021-10-09T17:30:08.413448Z",
     "iopub.status.busy": "2021-10-09T17:30:08.411594Z",
     "iopub.status.idle": "2021-10-09T17:30:09.125414Z",
     "shell.execute_reply": "2021-10-09T17:30:09.126702Z"
    },
    "papermill": {
     "duration": 0.747327,
     "end_time": "2021-10-09T17:30:09.127174",
     "exception": false,
     "start_time": "2021-10-09T17:30:08.379847",
     "status": "completed"
    },
    "tags": []
   },
   "outputs": [],
   "source": [
    "df = pd.read_sql(\"select * from EBAY_TOP_BERLIN where record_time in (select distinct record_time from EBAY_TOP_BERLIN order by record_time desc limit 2)\", sqlite3.connect(\"UsedObjects.db\"))"
   ]
  },
  {
   "cell_type": "code",
   "execution_count": 5,
   "id": "popular-active",
   "metadata": {
    "execution": {
     "iopub.execute_input": "2021-10-09T17:30:09.193172Z",
     "iopub.status.busy": "2021-10-09T17:30:09.185523Z",
     "iopub.status.idle": "2021-10-09T17:30:09.214167Z",
     "shell.execute_reply": "2021-10-09T17:30:09.215444Z"
    },
    "papermill": {
     "duration": 0.067857,
     "end_time": "2021-10-09T17:30:09.215891",
     "exception": false,
     "start_time": "2021-10-09T17:30:09.148034",
     "status": "completed"
    },
    "tags": []
   },
   "outputs": [],
   "source": [
    "df_pivot = df.pivot_table(index=\"PRODUCT\", columns = \"RECORD_TIME\", values = \"LISTING_COUNT\")"
   ]
  },
  {
   "cell_type": "code",
   "execution_count": 6,
   "id": "union-huntington",
   "metadata": {
    "execution": {
     "iopub.execute_input": "2021-10-09T17:30:09.275034Z",
     "iopub.status.busy": "2021-10-09T17:30:09.272546Z",
     "iopub.status.idle": "2021-10-09T17:30:09.278476Z",
     "shell.execute_reply": "2021-10-09T17:30:09.279752Z"
    },
    "papermill": {
     "duration": 0.04266,
     "end_time": "2021-10-09T17:30:09.280180",
     "exception": false,
     "start_time": "2021-10-09T17:30:09.237520",
     "status": "completed"
    },
    "tags": []
   },
   "outputs": [],
   "source": [
    "df_pivot.columns = [\"stamp_1\", \"stamp_2\"]\n",
    "df_pivot_diff = df_pivot.diff(axis=1)"
   ]
  },
  {
   "cell_type": "code",
   "execution_count": 7,
   "id": "fifth-motion",
   "metadata": {
    "execution": {
     "iopub.execute_input": "2021-10-09T17:30:09.335086Z",
     "iopub.status.busy": "2021-10-09T17:30:09.332685Z",
     "iopub.status.idle": "2021-10-09T17:30:10.819115Z",
     "shell.execute_reply": "2021-10-09T17:30:10.820342Z"
    },
    "papermill": {
     "duration": 1.519244,
     "end_time": "2021-10-09T17:30:10.820773",
     "exception": false,
     "start_time": "2021-10-09T17:30:09.301529",
     "status": "completed"
    },
    "tags": []
   },
   "outputs": [
    {
     "data": {
      "text/plain": [
       "<AxesSubplot:ylabel='PRODUCT'>"
      ]
     },
     "execution_count": 7,
     "metadata": {},
     "output_type": "execute_result"
    },
    {
     "data": {
      "image/png": "[encoded data removed]",
      "text/plain": [
       "<Figure size 432x288 with 1 Axes>"
      ]
     },
     "metadata": {
      "needs_background": "light"
     },
     "output_type": "display_data"
    }
   ],
   "source": [
    "df_pivot_diff.sort_values(\"stamp_2\", ascending = False)[\"stamp_2\"].head(10).plot.barh()"
   ]
  },
  {
   "cell_type": "code",
   "execution_count": null,
   "id": "extra-executive",
   "metadata": {
    "papermill": {
     "duration": 0.022335,
     "end_time": "2021-10-09T17:30:10.867248",
     "exception": false,
     "start_time": "2021-10-09T17:30:10.844913",
     "status": "completed"
    },
    "tags": []
   },
   "outputs": [],
   "source": []
  }
 ],
 "metadata": {
  "kernelspec": {
   "display_name": "Python 3",
   "language": "python",
   "name": "python3"
  },
  "language_info": {
   "codemirror_mode": {
    "name": "ipython",
    "version": 3
   },
   "file_extension": ".py",
   "mimetype": "text/x-python",
   "name": "python",
   "nbconvert_exporter": "python",
   "pygments_lexer": "ipython3",
   "version": "3.9.5"
  },
  "papermill": {
   "default_parameters": {},
   "duration": 7.840636,
   "end_time": "2021-10-09T17:30:12.296732",
   "environment_variables": {},
   "exception": null,
   "input_path": "eBay_Overview.ipynb",
   "output_path": "eBay_Overview.ipynb",
   "parameters": {},
   "start_time": "2021-10-09T17:30:04.456096",
   "version": "2.3.3"
  }
 },
 "nbformat": 4,
 "nbformat_minor": 5
}