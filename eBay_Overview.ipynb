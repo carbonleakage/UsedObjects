{
 "cells": [
  {
   "cell_type": "code",
   "execution_count": 1,
   "id": "reverse-picking",
   "metadata": {
    "execution": {
     "iopub.execute_input": "2021-09-23T07:30:07.577054Z",
     "iopub.status.busy": "2021-09-23T07:30:07.575096Z",
     "iopub.status.idle": "2021-09-23T07:30:08.381176Z",
     "shell.execute_reply": "2021-09-23T07:30:08.382420Z"
    },
    "papermill": {
     "duration": 0.860102,
     "end_time": "2021-09-23T07:30:08.383082",
     "exception": false,
     "start_time": "2021-09-23T07:30:07.522980",
     "status": "completed"
    },
    "tags": []
   },
   "outputs": [],
   "source": [
    "import pandas as pd\n",
    "import sqlite3"
   ]
  },
  {
   "cell_type": "code",
   "execution_count": 2,
   "id": "innovative-syndrome",
   "metadata": {
    "execution": {
     "iopub.execute_input": "2021-09-23T07:30:08.432988Z",
     "iopub.status.busy": "2021-09-23T07:30:08.431120Z",
     "iopub.status.idle": "2021-09-23T07:30:08.788944Z",
     "shell.execute_reply": "2021-09-23T07:30:08.790057Z"
    },
    "papermill": {
     "duration": 0.386891,
     "end_time": "2021-09-23T07:30:08.790462",
     "exception": false,
     "start_time": "2021-09-23T07:30:08.403571",
     "status": "completed"
    },
    "tags": []
   },
   "outputs": [],
   "source": [
    "timestamps = pd.read_sql(\"select distinct record_time from EBAY_TOP_BERLIN order by record_time desc limit 2\", sqlite3.connect(\"UsedObjects.db\"))"
   ]
  },
  {
   "cell_type": "code",
   "execution_count": 3,
   "id": "periodic-identification",
   "metadata": {
    "execution": {
     "iopub.execute_input": "2021-09-23T07:30:08.855016Z",
     "iopub.status.busy": "2021-09-23T07:30:08.852813Z",
     "iopub.status.idle": "2021-09-23T07:30:08.873721Z",
     "shell.execute_reply": "2021-09-23T07:30:08.874976Z"
    },
    "papermill": {
     "duration": 0.06401,
     "end_time": "2021-09-23T07:30:08.875420",
     "exception": false,
     "start_time": "2021-09-23T07:30:08.811410",
     "status": "completed"
    },
    "tags": []
   },
   "outputs": [
    {
     "data": {
      "text/html": [
       "<div>\n",
       "<style scoped>\n",
       "    .dataframe tbody tr th:only-of-type {\n",
       "        vertical-align: middle;\n",
       "    }\n",
       "\n",
       "    .dataframe tbody tr th {\n",
       "        vertical-align: top;\n",
       "    }\n",
       "\n",
       "    .dataframe thead th {\n",
       "        text-align: right;\n",
       "    }\n",
       "</style>\n",
       "<table border=\"1\" class=\"dataframe\">\n",
       "  <thead>\n",
       "    <tr style=\"text-align: right;\">\n",
       "      <th></th>\n",
       "      <th>RECORD_TIME</th>\n",
       "    </tr>\n",
       "  </thead>\n",
       "  <tbody>\n",
       "    <tr>\n",
       "      <th>0</th>\n",
       "      <td>2021-09-23 09:30</td>\n",
       "    </tr>\n",
       "    <tr>\n",
       "      <th>1</th>\n",
       "      <td>2021-09-23 09:00</td>\n",
       "    </tr>\n",
       "  </tbody>\n",
       "</table>\n",
       "</div>"
      ],
      "text/plain": [
       "        RECORD_TIME\n",
       "0  2021-09-23 09:30\n",
       "1  2021-09-23 09:00"
      ]
     },
     "execution_count": 3,
     "metadata": {},
     "output_type": "execute_result"
    }
   ],
   "source": [
    "timestamps"
   ]
  },
  {
   "cell_type": "code",
   "execution_count": 4,
   "id": "alternate-victory",
   "metadata": {
    "execution": {
     "iopub.execute_input": "2021-09-23T07:30:08.928951Z",
     "iopub.status.busy": "2021-09-23T07:30:08.926718Z",
     "iopub.status.idle": "2021-09-23T07:30:09.463825Z",
     "shell.execute_reply": "2021-09-23T07:30:09.465049Z"
    },
    "papermill": {
     "duration": 0.567174,
     "end_time": "2021-09-23T07:30:09.465447",
     "exception": false,
     "start_time": "2021-09-23T07:30:08.898273",
     "status": "completed"
    },
    "tags": []
   },
   "outputs": [],
   "source": [
    "df = pd.read_sql(\"select * from EBAY_TOP_BERLIN where record_time in (select distinct record_time from EBAY_TOP_BERLIN order by record_time desc limit 2)\", sqlite3.connect(\"UsedObjects.db\"))"
   ]
  },
  {
   "cell_type": "code",
   "execution_count": 5,
   "id": "popular-active",
   "metadata": {
    "execution": {
     "iopub.execute_input": "2021-09-23T07:30:09.547605Z",
     "iopub.status.busy": "2021-09-23T07:30:09.535376Z",
     "iopub.status.idle": "2021-09-23T07:30:09.563157Z",
     "shell.execute_reply": "2021-09-23T07:30:09.564395Z"
    },
    "papermill": {
     "duration": 0.07062,
     "end_time": "2021-09-23T07:30:09.564789",
     "exception": false,
     "start_time": "2021-09-23T07:30:09.494169",
     "status": "completed"
    },
    "tags": []
   },
   "outputs": [],
   "source": [
    "df_pivot = df.pivot_table(index=\"PRODUCT\", columns = \"RECORD_TIME\", values = \"LISTING_COUNT\")"
   ]
  },
  {
   "cell_type": "code",
   "execution_count": 6,
   "id": "union-huntington",
   "metadata": {
    "execution": {
     "iopub.execute_input": "2021-09-23T07:30:09.622378Z",
     "iopub.status.busy": "2021-09-23T07:30:09.620143Z",
     "iopub.status.idle": "2021-09-23T07:30:09.626063Z",
     "shell.execute_reply": "2021-09-23T07:30:09.627602Z"
    },
    "papermill": {
     "duration": 0.041873,
     "end_time": "2021-09-23T07:30:09.628084",
     "exception": false,
     "start_time": "2021-09-23T07:30:09.586211",
     "status": "completed"
    },
    "tags": []
   },
   "outputs": [],
   "source": [
    "df_pivot.columns = [\"stamp_1\", \"stamp_2\"]\n",
    "df_pivot_diff = df_pivot.diff(axis=1)"
   ]
  },
  {
   "cell_type": "code",
   "execution_count": 7,
   "id": "fifth-motion",
   "metadata": {
    "execution": {
     "iopub.execute_input": "2021-09-23T07:30:09.681948Z",
     "iopub.status.busy": "2021-09-23T07:30:09.679797Z",
     "iopub.status.idle": "2021-09-23T07:30:11.179065Z",
     "shell.execute_reply": "2021-09-23T07:30:11.180709Z"
    },
    "papermill": {
     "duration": 1.532344,
     "end_time": "2021-09-23T07:30:11.181209",
     "exception": false,
     "start_time": "2021-09-23T07:30:09.648865",
     "status": "completed"
    },
    "tags": []
   },
   "outputs": [
    {
     "data": {
      "text/plain": [
       "<AxesSubplot:ylabel='PRODUCT'>"
      ]
     },
     "execution_count": 7,
     "metadata": {},
     "output_type": "execute_result"
    },
    {
     "data": {
      "image/png": "[encoded data removed]",
      "text/plain": [
       "<Figure size 432x288 with 1 Axes>"
      ]
     },
     "metadata": {
      "needs_background": "light"
     },
     "output_type": "display_data"
    }
   ],
   "source": [
    "df_pivot_diff.sort_values(\"stamp_2\", ascending = False)[\"stamp_2\"].head(10).plot.barh()"
   ]
  },
  {
   "cell_type": "code",
   "execution_count": null,
   "id": "extra-executive",
   "metadata": {
    "papermill": {
     "duration": 0.022078,
     "end_time": "2021-09-23T07:30:11.227502",
     "exception": false,
     "start_time": "2021-09-23T07:30:11.205424",
     "status": "completed"
    },
    "tags": []
   },
   "outputs": [],
   "source": []
  }
 ],
 "metadata": {
  "kernelspec": {
   "display_name": "Python 3",
   "language": "python",
   "name": "python3"
  },
  "language_info": {
   "codemirror_mode": {
    "name": "ipython",
    "version": 3
   },
   "file_extension": ".py",
   "mimetype": "text/x-python",
   "name": "python",
   "nbconvert_exporter": "python",
   "pygments_lexer": "ipython3",
   "version": "3.9.5"
  },
  "papermill": {
   "default_parameters": {},
   "duration": 6.753683,
   "end_time": "2021-09-23T07:30:11.870035",
   "environment_variables": {},
   "exception": null,
   "input_path": "eBay_Overview.ipynb",
   "output_path": "eBay_Overview.ipynb",
   "parameters": {},
   "start_time": "2021-09-23T07:30:05.116352",
   "version": "2.3.3"
  }
 },
 "nbformat": 4,
 "nbformat_minor": 5
}