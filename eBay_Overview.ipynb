{
 "cells": [
  {
   "cell_type": "code",
   "execution_count": 1,
   "id": "reverse-picking",
   "metadata": {
    "execution": {
     "iopub.execute_input": "2021-09-07T16:30:07.221502Z",
     "iopub.status.busy": "2021-09-07T16:30:07.219542Z",
     "iopub.status.idle": "2021-09-07T16:30:08.030392Z",
     "shell.execute_reply": "2021-09-07T16:30:08.031892Z"
    },
    "papermill": {
     "duration": 0.863525,
     "end_time": "2021-09-07T16:30:08.032643",
     "exception": false,
     "start_time": "2021-09-07T16:30:07.169118",
     "status": "completed"
    },
    "tags": []
   },
   "outputs": [],
   "source": [
    "import pandas as pd\n",
    "import sqlite3"
   ]
  },
  {
   "cell_type": "code",
   "execution_count": 2,
   "id": "innovative-syndrome",
   "metadata": {
    "execution": {
     "iopub.execute_input": "2021-09-07T16:30:08.085045Z",
     "iopub.status.busy": "2021-09-07T16:30:08.082616Z",
     "iopub.status.idle": "2021-09-07T16:30:08.311853Z",
     "shell.execute_reply": "2021-09-07T16:30:08.313112Z"
    },
    "papermill": {
     "duration": 0.259288,
     "end_time": "2021-09-07T16:30:08.313508",
     "exception": false,
     "start_time": "2021-09-07T16:30:08.054220",
     "status": "completed"
    },
    "tags": []
   },
   "outputs": [],
   "source": [
    "timestamps = pd.read_sql(\"select distinct record_time from EBAY_TOP_BERLIN order by record_time desc limit 2\", sqlite3.connect(\"UsedObjects.db\"))"
   ]
  },
  {
   "cell_type": "code",
   "execution_count": 3,
   "id": "periodic-identification",
   "metadata": {
    "execution": {
     "iopub.execute_input": "2021-09-07T16:30:08.378175Z",
     "iopub.status.busy": "2021-09-07T16:30:08.376136Z",
     "iopub.status.idle": "2021-09-07T16:30:08.396163Z",
     "shell.execute_reply": "2021-09-07T16:30:08.397365Z"
    },
    "papermill": {
     "duration": 0.064715,
     "end_time": "2021-09-07T16:30:08.397793",
     "exception": false,
     "start_time": "2021-09-07T16:30:08.333078",
     "status": "completed"
    },
    "tags": []
   },
   "outputs": [
    {
     "data": {
      "text/html": [
       "<div>\n",
       "<style scoped>\n",
       "    .dataframe tbody tr th:only-of-type {\n",
       "        vertical-align: middle;\n",
       "    }\n",
       "\n",
       "    .dataframe tbody tr th {\n",
       "        vertical-align: top;\n",
       "    }\n",
       "\n",
       "    .dataframe thead th {\n",
       "        text-align: right;\n",
       "    }\n",
       "</style>\n",
       "<table border=\"1\" class=\"dataframe\">\n",
       "  <thead>\n",
       "    <tr style=\"text-align: right;\">\n",
       "      <th></th>\n",
       "      <th>RECORD_TIME</th>\n",
       "    </tr>\n",
       "  </thead>\n",
       "  <tbody>\n",
       "    <tr>\n",
       "      <th>0</th>\n",
       "      <td>2021-09-07 18:30</td>\n",
       "    </tr>\n",
       "    <tr>\n",
       "      <th>1</th>\n",
       "      <td>2021-09-07 18:00</td>\n",
       "    </tr>\n",
       "  </tbody>\n",
       "</table>\n",
       "</div>"
      ],
      "text/plain": [
       "        RECORD_TIME\n",
       "0  2021-09-07 18:30\n",
       "1  2021-09-07 18:00"
      ]
     },
     "execution_count": 3,
     "metadata": {},
     "output_type": "execute_result"
    }
   ],
   "source": [
    "timestamps"
   ]
  },
  {
   "cell_type": "code",
   "execution_count": 4,
   "id": "alternate-victory",
   "metadata": {
    "execution": {
     "iopub.execute_input": "2021-09-07T16:30:08.450395Z",
     "iopub.status.busy": "2021-09-07T16:30:08.448547Z",
     "iopub.status.idle": "2021-09-07T16:30:08.792673Z",
     "shell.execute_reply": "2021-09-07T16:30:08.793878Z"
    },
    "papermill": {
     "duration": 0.374406,
     "end_time": "2021-09-07T16:30:08.794266",
     "exception": false,
     "start_time": "2021-09-07T16:30:08.419860",
     "status": "completed"
    },
    "tags": []
   },
   "outputs": [],
   "source": [
    "df = pd.read_sql(\"select * from EBAY_TOP_BERLIN where record_time in (select distinct record_time from EBAY_TOP_BERLIN order by record_time desc limit 2)\", sqlite3.connect(\"UsedObjects.db\"))"
   ]
  },
  {
   "cell_type": "code",
   "execution_count": 5,
   "id": "popular-active",
   "metadata": {
    "execution": {
     "iopub.execute_input": "2021-09-07T16:30:08.875813Z",
     "iopub.status.busy": "2021-09-07T16:30:08.863048Z",
     "iopub.status.idle": "2021-09-07T16:30:08.892594Z",
     "shell.execute_reply": "2021-09-07T16:30:08.893984Z"
    },
    "papermill": {
     "duration": 0.072786,
     "end_time": "2021-09-07T16:30:08.894417",
     "exception": false,
     "start_time": "2021-09-07T16:30:08.821631",
     "status": "completed"
    },
    "tags": []
   },
   "outputs": [],
   "source": [
    "df_pivot = df.pivot_table(index=\"PRODUCT\", columns = \"RECORD_TIME\", values = \"LISTING_COUNT\")"
   ]
  },
  {
   "cell_type": "code",
   "execution_count": 6,
   "id": "union-huntington",
   "metadata": {
    "execution": {
     "iopub.execute_input": "2021-09-07T16:30:08.951175Z",
     "iopub.status.busy": "2021-09-07T16:30:08.949031Z",
     "iopub.status.idle": "2021-09-07T16:30:08.954546Z",
     "shell.execute_reply": "2021-09-07T16:30:08.955899Z"
    },
    "papermill": {
     "duration": 0.041534,
     "end_time": "2021-09-07T16:30:08.956314",
     "exception": false,
     "start_time": "2021-09-07T16:30:08.914780",
     "status": "completed"
    },
    "tags": []
   },
   "outputs": [],
   "source": [
    "df_pivot.columns = [\"stamp_1\", \"stamp_2\"]\n",
    "df_pivot_diff = df_pivot.diff(axis=1)"
   ]
  },
  {
   "cell_type": "code",
   "execution_count": 7,
   "id": "fifth-motion",
   "metadata": {
    "execution": {
     "iopub.execute_input": "2021-09-07T16:30:09.010651Z",
     "iopub.status.busy": "2021-09-07T16:30:09.008222Z",
     "iopub.status.idle": "2021-09-07T16:30:10.524499Z",
     "shell.execute_reply": "2021-09-07T16:30:10.525920Z"
    },
    "papermill": {
     "duration": 1.549533,
     "end_time": "2021-09-07T16:30:10.526368",
     "exception": false,
     "start_time": "2021-09-07T16:30:08.976835",
     "status": "completed"
    },
    "tags": []
   },
   "outputs": [
    {
     "data": {
      "text/plain": [
       "<AxesSubplot:ylabel='PRODUCT'>"
      ]
     },
     "execution_count": 7,
     "metadata": {},
     "output_type": "execute_result"
    },
    {
     "data": {
      "image/png": "[encoded data removed]",
      "text/plain": [
       "<Figure size 432x288 with 1 Axes>"
      ]
     },
     "metadata": {
      "needs_background": "light"
     },
     "output_type": "display_data"
    }
   ],
   "source": [
    "df_pivot_diff.sort_values(\"stamp_2\", ascending = False)[\"stamp_2\"].head(10).plot.barh()"
   ]
  },
  {
   "cell_type": "code",
   "execution_count": null,
   "id": "extra-executive",
   "metadata": {
    "papermill": {
     "duration": 0.02237,
     "end_time": "2021-09-07T16:30:10.572789",
     "exception": false,
     "start_time": "2021-09-07T16:30:10.550419",
     "status": "completed"
    },
    "tags": []
   },
   "outputs": [],
   "source": []
  }
 ],
 "metadata": {
  "kernelspec": {
   "display_name": "Python 3",
   "language": "python",
   "name": "python3"
  },
  "language_info": {
   "codemirror_mode": {
    "name": "ipython",
    "version": 3
   },
   "file_extension": ".py",
   "mimetype": "text/x-python",
   "name": "python",
   "nbconvert_exporter": "python",
   "pygments_lexer": "ipython3",
   "version": "3.9.5"
  },
  "papermill": {
   "default_parameters": {},
   "duration": 6.464602,
   "end_time": "2021-09-07T16:30:11.214898",
   "environment_variables": {},
   "exception": null,
   "input_path": "eBay_Overview.ipynb",
   "output_path": "eBay_Overview.ipynb",
   "parameters": {},
   "start_time": "2021-09-07T16:30:04.750296",
   "version": "2.3.3"
  }
 },
 "nbformat": 4,
 "nbformat_minor": 5
}