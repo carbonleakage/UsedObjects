{
 "cells": [
  {
   "cell_type": "code",
   "execution_count": 1,
   "id": "reverse-picking",
   "metadata": {
    "execution": {
     "iopub.execute_input": "2021-08-31T11:00:07.197724Z",
     "iopub.status.busy": "2021-08-31T11:00:07.195792Z",
     "iopub.status.idle": "2021-08-31T11:00:08.001904Z",
     "shell.execute_reply": "2021-08-31T11:00:08.003224Z"
    },
    "papermill": {
     "duration": 0.856884,
     "end_time": "2021-08-31T11:00:08.003862",
     "exception": false,
     "start_time": "2021-08-31T11:00:07.146978",
     "status": "completed"
    },
    "tags": []
   },
   "outputs": [],
   "source": [
    "import pandas as pd\n",
    "import sqlite3"
   ]
  },
  {
   "cell_type": "code",
   "execution_count": 2,
   "id": "innovative-syndrome",
   "metadata": {
    "execution": {
     "iopub.execute_input": "2021-08-31T11:00:08.055942Z",
     "iopub.status.busy": "2021-08-31T11:00:08.053982Z",
     "iopub.status.idle": "2021-08-31T11:00:08.227372Z",
     "shell.execute_reply": "2021-08-31T11:00:08.228508Z"
    },
    "papermill": {
     "duration": 0.202745,
     "end_time": "2021-08-31T11:00:08.228920",
     "exception": false,
     "start_time": "2021-08-31T11:00:08.026175",
     "status": "completed"
    },
    "tags": []
   },
   "outputs": [],
   "source": [
    "timestamps = pd.read_sql(\"select distinct record_time from EBAY_TOP_BERLIN order by record_time desc limit 2\", sqlite3.connect(\"UsedObjects.db\"))"
   ]
  },
  {
   "cell_type": "code",
   "execution_count": 3,
   "id": "periodic-identification",
   "metadata": {
    "execution": {
     "iopub.execute_input": "2021-08-31T11:00:08.296662Z",
     "iopub.status.busy": "2021-08-31T11:00:08.291685Z",
     "iopub.status.idle": "2021-08-31T11:00:08.312240Z",
     "shell.execute_reply": "2021-08-31T11:00:08.313605Z"
    },
    "papermill": {
     "duration": 0.064345,
     "end_time": "2021-08-31T11:00:08.314042",
     "exception": false,
     "start_time": "2021-08-31T11:00:08.249697",
     "status": "completed"
    },
    "tags": []
   },
   "outputs": [
    {
     "data": {
      "text/html": [
       "<div>\n",
       "<style scoped>\n",
       "    .dataframe tbody tr th:only-of-type {\n",
       "        vertical-align: middle;\n",
       "    }\n",
       "\n",
       "    .dataframe tbody tr th {\n",
       "        vertical-align: top;\n",
       "    }\n",
       "\n",
       "    .dataframe thead th {\n",
       "        text-align: right;\n",
       "    }\n",
       "</style>\n",
       "<table border=\"1\" class=\"dataframe\">\n",
       "  <thead>\n",
       "    <tr style=\"text-align: right;\">\n",
       "      <th></th>\n",
       "      <th>RECORD_TIME</th>\n",
       "    </tr>\n",
       "  </thead>\n",
       "  <tbody>\n",
       "    <tr>\n",
       "      <th>0</th>\n",
       "      <td>2021-08-31 13:00</td>\n",
       "    </tr>\n",
       "    <tr>\n",
       "      <th>1</th>\n",
       "      <td>2021-08-31 12:30</td>\n",
       "    </tr>\n",
       "  </tbody>\n",
       "</table>\n",
       "</div>"
      ],
      "text/plain": [
       "        RECORD_TIME\n",
       "0  2021-08-31 13:00\n",
       "1  2021-08-31 12:30"
      ]
     },
     "execution_count": 3,
     "metadata": {},
     "output_type": "execute_result"
    }
   ],
   "source": [
    "timestamps"
   ]
  },
  {
   "cell_type": "code",
   "execution_count": 4,
   "id": "alternate-victory",
   "metadata": {
    "execution": {
     "iopub.execute_input": "2021-08-31T11:00:08.365962Z",
     "iopub.status.busy": "2021-08-31T11:00:08.363695Z",
     "iopub.status.idle": "2021-08-31T11:00:08.621827Z",
     "shell.execute_reply": "2021-08-31T11:00:08.623098Z"
    },
    "papermill": {
     "duration": 0.28826,
     "end_time": "2021-08-31T11:00:08.623514",
     "exception": false,
     "start_time": "2021-08-31T11:00:08.335254",
     "status": "completed"
    },
    "tags": []
   },
   "outputs": [],
   "source": [
    "df = pd.read_sql(\"select * from EBAY_TOP_BERLIN where record_time in (select distinct record_time from EBAY_TOP_BERLIN order by record_time desc limit 2)\", sqlite3.connect(\"UsedObjects.db\"))"
   ]
  },
  {
   "cell_type": "code",
   "execution_count": 5,
   "id": "popular-active",
   "metadata": {
    "execution": {
     "iopub.execute_input": "2021-08-31T11:00:08.706190Z",
     "iopub.status.busy": "2021-08-31T11:00:08.692640Z",
     "iopub.status.idle": "2021-08-31T11:00:08.722219Z",
     "shell.execute_reply": "2021-08-31T11:00:08.723589Z"
    },
    "papermill": {
     "duration": 0.072236,
     "end_time": "2021-08-31T11:00:08.724006",
     "exception": false,
     "start_time": "2021-08-31T11:00:08.651770",
     "status": "completed"
    },
    "tags": []
   },
   "outputs": [],
   "source": [
    "df_pivot = df.pivot_table(index=\"PRODUCT\", columns = \"RECORD_TIME\", values = \"LISTING_COUNT\")"
   ]
  },
  {
   "cell_type": "code",
   "execution_count": 6,
   "id": "union-huntington",
   "metadata": {
    "execution": {
     "iopub.execute_input": "2021-08-31T11:00:08.780256Z",
     "iopub.status.busy": "2021-08-31T11:00:08.778146Z",
     "iopub.status.idle": "2021-08-31T11:00:08.783550Z",
     "shell.execute_reply": "2021-08-31T11:00:08.784826Z"
    },
    "papermill": {
     "duration": 0.040945,
     "end_time": "2021-08-31T11:00:08.785240",
     "exception": false,
     "start_time": "2021-08-31T11:00:08.744295",
     "status": "completed"
    },
    "tags": []
   },
   "outputs": [],
   "source": [
    "df_pivot.columns = [\"stamp_1\", \"stamp_2\"]\n",
    "df_pivot_diff = df_pivot.diff(axis=1)"
   ]
  },
  {
   "cell_type": "code",
   "execution_count": 7,
   "id": "fifth-motion",
   "metadata": {
    "execution": {
     "iopub.execute_input": "2021-08-31T11:00:08.839271Z",
     "iopub.status.busy": "2021-08-31T11:00:08.836810Z",
     "iopub.status.idle": "2021-08-31T11:00:10.349636Z",
     "shell.execute_reply": "2021-08-31T11:00:10.350822Z"
    },
    "papermill": {
     "duration": 1.545576,
     "end_time": "2021-08-31T11:00:10.351293",
     "exception": false,
     "start_time": "2021-08-31T11:00:08.805717",
     "status": "completed"
    },
    "tags": []
   },
   "outputs": [
    {
     "data": {
      "text/plain": [
       "<AxesSubplot:ylabel='PRODUCT'>"
      ]
     },
     "execution_count": 7,
     "metadata": {},
     "output_type": "execute_result"
    },
    {
     "data": {
      "image/png": "[encoded data removed]",
      "text/plain": [
       "<Figure size 432x288 with 1 Axes>"
      ]
     },
     "metadata": {
      "needs_background": "light"
     },
     "output_type": "display_data"
    }
   ],
   "source": [
    "df_pivot_diff.sort_values(\"stamp_2\", ascending = False)[\"stamp_2\"].head(10).plot.barh()"
   ]
  },
  {
   "cell_type": "code",
   "execution_count": null,
   "id": "extra-executive",
   "metadata": {
    "papermill": {
     "duration": 0.022255,
     "end_time": "2021-08-31T11:00:10.397412",
     "exception": false,
     "start_time": "2021-08-31T11:00:10.375157",
     "status": "completed"
    },
    "tags": []
   },
   "outputs": [],
   "source": []
  }
 ],
 "metadata": {
  "kernelspec": {
   "display_name": "Python 3",
   "language": "python",
   "name": "python3"
  },
  "language_info": {
   "codemirror_mode": {
    "name": "ipython",
    "version": 3
   },
   "file_extension": ".py",
   "mimetype": "text/x-python",
   "name": "python",
   "nbconvert_exporter": "python",
   "pygments_lexer": "ipython3",
   "version": "3.9.5"
  },
  "papermill": {
   "default_parameters": {},
   "duration": 6.816305,
   "end_time": "2021-08-31T11:00:11.567538",
   "environment_variables": {},
   "exception": null,
   "input_path": "eBay_Overview.ipynb",
   "output_path": "eBay_Overview.ipynb",
   "parameters": {},
   "start_time": "2021-08-31T11:00:04.751233",
   "version": "2.3.3"
  }
 },
 "nbformat": 4,
 "nbformat_minor": 5
}