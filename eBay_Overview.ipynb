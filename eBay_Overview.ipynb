{
 "cells": [
  {
   "cell_type": "code",
   "execution_count": 1,
   "id": "reverse-picking",
   "metadata": {
    "execution": {
     "iopub.execute_input": "2021-08-20T15:00:06.931823Z",
     "iopub.status.busy": "2021-08-20T15:00:06.929726Z",
     "iopub.status.idle": "2021-08-20T15:00:07.735660Z",
     "shell.execute_reply": "2021-08-20T15:00:07.736928Z"
    },
    "papermill": {
     "duration": 0.859151,
     "end_time": "2021-08-20T15:00:07.737557",
     "exception": false,
     "start_time": "2021-08-20T15:00:06.878406",
     "status": "completed"
    },
    "tags": []
   },
   "outputs": [],
   "source": [
    "import pandas as pd\n",
    "import sqlite3"
   ]
  },
  {
   "cell_type": "code",
   "execution_count": 2,
   "id": "innovative-syndrome",
   "metadata": {
    "execution": {
     "iopub.execute_input": "2021-08-20T15:00:07.787383Z",
     "iopub.status.busy": "2021-08-20T15:00:07.785377Z",
     "iopub.status.idle": "2021-08-20T15:00:07.875408Z",
     "shell.execute_reply": "2021-08-20T15:00:07.876626Z"
    },
    "papermill": {
     "duration": 0.118936,
     "end_time": "2021-08-20T15:00:07.877025",
     "exception": false,
     "start_time": "2021-08-20T15:00:07.758089",
     "status": "completed"
    },
    "tags": []
   },
   "outputs": [],
   "source": [
    "timestamps = pd.read_sql(\"select distinct record_time from EBAY_TOP_BERLIN order by record_time desc limit 2\", sqlite3.connect(\"UsedObjects.db\"))"
   ]
  },
  {
   "cell_type": "code",
   "execution_count": 3,
   "id": "periodic-identification",
   "metadata": {
    "execution": {
     "iopub.execute_input": "2021-08-20T15:00:07.940401Z",
     "iopub.status.busy": "2021-08-20T15:00:07.938266Z",
     "iopub.status.idle": "2021-08-20T15:00:07.958934Z",
     "shell.execute_reply": "2021-08-20T15:00:07.960205Z"
    },
    "papermill": {
     "duration": 0.064633,
     "end_time": "2021-08-20T15:00:07.960604",
     "exception": false,
     "start_time": "2021-08-20T15:00:07.895971",
     "status": "completed"
    },
    "tags": []
   },
   "outputs": [
    {
     "data": {
      "text/html": [
       "<div>\n",
       "<style scoped>\n",
       "    .dataframe tbody tr th:only-of-type {\n",
       "        vertical-align: middle;\n",
       "    }\n",
       "\n",
       "    .dataframe tbody tr th {\n",
       "        vertical-align: top;\n",
       "    }\n",
       "\n",
       "    .dataframe thead th {\n",
       "        text-align: right;\n",
       "    }\n",
       "</style>\n",
       "<table border=\"1\" class=\"dataframe\">\n",
       "  <thead>\n",
       "    <tr style=\"text-align: right;\">\n",
       "      <th></th>\n",
       "      <th>RECORD_TIME</th>\n",
       "    </tr>\n",
       "  </thead>\n",
       "  <tbody>\n",
       "    <tr>\n",
       "      <th>0</th>\n",
       "      <td>2021-08-20 17:00</td>\n",
       "    </tr>\n",
       "    <tr>\n",
       "      <th>1</th>\n",
       "      <td>2021-08-20 16:30</td>\n",
       "    </tr>\n",
       "  </tbody>\n",
       "</table>\n",
       "</div>"
      ],
      "text/plain": [
       "        RECORD_TIME\n",
       "0  2021-08-20 17:00\n",
       "1  2021-08-20 16:30"
      ]
     },
     "execution_count": 3,
     "metadata": {},
     "output_type": "execute_result"
    }
   ],
   "source": [
    "timestamps"
   ]
  },
  {
   "cell_type": "code",
   "execution_count": 4,
   "id": "alternate-victory",
   "metadata": {
    "execution": {
     "iopub.execute_input": "2021-08-20T15:00:08.012414Z",
     "iopub.status.busy": "2021-08-20T15:00:08.010266Z",
     "iopub.status.idle": "2021-08-20T15:00:08.144385Z",
     "shell.execute_reply": "2021-08-20T15:00:08.145589Z"
    },
    "papermill": {
     "duration": 0.164021,
     "end_time": "2021-08-20T15:00:08.146030",
     "exception": false,
     "start_time": "2021-08-20T15:00:07.982009",
     "status": "completed"
    },
    "tags": []
   },
   "outputs": [],
   "source": [
    "df = pd.read_sql(\"select * from EBAY_TOP_BERLIN where record_time in (select distinct record_time from EBAY_TOP_BERLIN order by record_time desc limit 2)\", sqlite3.connect(\"UsedObjects.db\"))"
   ]
  },
  {
   "cell_type": "code",
   "execution_count": 5,
   "id": "popular-active",
   "metadata": {
    "execution": {
     "iopub.execute_input": "2021-08-20T15:00:08.215580Z",
     "iopub.status.busy": "2021-08-20T15:00:08.204323Z",
     "iopub.status.idle": "2021-08-20T15:00:08.231985Z",
     "shell.execute_reply": "2021-08-20T15:00:08.233217Z"
    },
    "papermill": {
     "duration": 0.06638,
     "end_time": "2021-08-20T15:00:08.233617",
     "exception": false,
     "start_time": "2021-08-20T15:00:08.167237",
     "status": "completed"
    },
    "tags": []
   },
   "outputs": [],
   "source": [
    "df_pivot = df.pivot_table(index=\"PRODUCT\", columns = \"RECORD_TIME\", values = \"LISTING_COUNT\")"
   ]
  },
  {
   "cell_type": "code",
   "execution_count": 6,
   "id": "union-huntington",
   "metadata": {
    "execution": {
     "iopub.execute_input": "2021-08-20T15:00:08.289917Z",
     "iopub.status.busy": "2021-08-20T15:00:08.287540Z",
     "iopub.status.idle": "2021-08-20T15:00:08.293187Z",
     "shell.execute_reply": "2021-08-20T15:00:08.294555Z"
    },
    "papermill": {
     "duration": 0.040308,
     "end_time": "2021-08-20T15:00:08.294982",
     "exception": false,
     "start_time": "2021-08-20T15:00:08.254674",
     "status": "completed"
    },
    "tags": []
   },
   "outputs": [],
   "source": [
    "df_pivot.columns = [\"stamp_1\", \"stamp_2\"]\n",
    "df_pivot_diff = df_pivot.diff(axis=1)"
   ]
  },
  {
   "cell_type": "code",
   "execution_count": 7,
   "id": "fifth-motion",
   "metadata": {
    "execution": {
     "iopub.execute_input": "2021-08-20T15:00:08.350624Z",
     "iopub.status.busy": "2021-08-20T15:00:08.346347Z",
     "iopub.status.idle": "2021-08-20T15:00:09.830160Z",
     "shell.execute_reply": "2021-08-20T15:00:09.831458Z"
    },
    "papermill": {
     "duration": 1.51602,
     "end_time": "2021-08-20T15:00:09.831877",
     "exception": false,
     "start_time": "2021-08-20T15:00:08.315857",
     "status": "completed"
    },
    "tags": []
   },
   "outputs": [
    {
     "data": {
      "text/plain": [
       "<AxesSubplot:ylabel='PRODUCT'>"
      ]
     },
     "execution_count": 7,
     "metadata": {},
     "output_type": "execute_result"
    },
    {
     "data": {
      "image/png": "[encoded data removed]",
      "text/plain": [
       "<Figure size 432x288 with 1 Axes>"
      ]
     },
     "metadata": {
      "needs_background": "light"
     },
     "output_type": "display_data"
    }
   ],
   "source": [
    "df_pivot_diff.sort_values(\"stamp_2\", ascending = False)[\"stamp_2\"].head(10).plot.barh()"
   ]
  },
  {
   "cell_type": "code",
   "execution_count": null,
   "id": "extra-executive",
   "metadata": {
    "papermill": {
     "duration": 0.021573,
     "end_time": "2021-08-20T15:00:09.876760",
     "exception": false,
     "start_time": "2021-08-20T15:00:09.855187",
     "status": "completed"
    },
    "tags": []
   },
   "outputs": [],
   "source": []
  }
 ],
 "metadata": {
  "kernelspec": {
   "display_name": "Python 3",
   "language": "python",
   "name": "python3"
  },
  "language_info": {
   "codemirror_mode": {
    "name": "ipython",
    "version": 3
   },
   "file_extension": ".py",
   "mimetype": "text/x-python",
   "name": "python",
   "nbconvert_exporter": "python",
   "pygments_lexer": "ipython3",
   "version": "3.9.5"
  },
  "papermill": {
   "default_parameters": {},
   "duration": 6.818176,
   "end_time": "2021-08-20T15:00:11.292639",
   "environment_variables": {},
   "exception": null,
   "input_path": "eBay_Overview.ipynb",
   "output_path": "eBay_Overview.ipynb",
   "parameters": {},
   "start_time": "2021-08-20T15:00:04.474463",
   "version": "2.3.3"
  }
 },
 "nbformat": 4,
 "nbformat_minor": 5
}