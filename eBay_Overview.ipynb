{
 "cells": [
  {
   "cell_type": "code",
   "execution_count": 1,
   "id": "reverse-picking",
   "metadata": {
    "execution": {
     "iopub.execute_input": "2021-11-06T08:30:08.276568Z",
     "iopub.status.busy": "2021-11-06T08:30:08.263325Z",
     "iopub.status.idle": "2021-11-06T08:30:09.224677Z",
     "shell.execute_reply": "2021-11-06T08:30:09.226162Z"
    },
    "papermill": {
     "duration": 1.011041,
     "end_time": "2021-11-06T08:30:09.226894",
     "exception": false,
     "start_time": "2021-11-06T08:30:08.215853",
     "status": "completed"
    },
    "tags": []
   },
   "outputs": [],
   "source": [
    "import pandas as pd\n",
    "import sqlite3"
   ]
  },
  {
   "cell_type": "code",
   "execution_count": 2,
   "id": "innovative-syndrome",
   "metadata": {
    "execution": {
     "iopub.execute_input": "2021-11-06T08:30:09.289346Z",
     "iopub.status.busy": "2021-11-06T08:30:09.286907Z",
     "iopub.status.idle": "2021-11-06T08:30:10.020623Z",
     "shell.execute_reply": "2021-11-06T08:30:10.022278Z"
    },
    "papermill": {
     "duration": 0.768473,
     "end_time": "2021-11-06T08:30:10.022793",
     "exception": false,
     "start_time": "2021-11-06T08:30:09.254320",
     "status": "completed"
    },
    "tags": []
   },
   "outputs": [],
   "source": [
    "timestamps = pd.read_sql(\"select distinct record_time from EBAY_TOP_BERLIN order by record_time desc limit 2\", sqlite3.connect(\"UsedObjects.db\"))"
   ]
  },
  {
   "cell_type": "code",
   "execution_count": 3,
   "id": "periodic-identification",
   "metadata": {
    "execution": {
     "iopub.execute_input": "2021-11-06T08:30:10.109356Z",
     "iopub.status.busy": "2021-11-06T08:30:10.106949Z",
     "iopub.status.idle": "2021-11-06T08:30:10.129541Z",
     "shell.execute_reply": "2021-11-06T08:30:10.130905Z"
    },
    "papermill": {
     "duration": 0.087674,
     "end_time": "2021-11-06T08:30:10.131389",
     "exception": false,
     "start_time": "2021-11-06T08:30:10.043715",
     "status": "completed"
    },
    "tags": []
   },
   "outputs": [
    {
     "data": {
      "text/html": [
       "<div>\n",
       "<style scoped>\n",
       "    .dataframe tbody tr th:only-of-type {\n",
       "        vertical-align: middle;\n",
       "    }\n",
       "\n",
       "    .dataframe tbody tr th {\n",
       "        vertical-align: top;\n",
       "    }\n",
       "\n",
       "    .dataframe thead th {\n",
       "        text-align: right;\n",
       "    }\n",
       "</style>\n",
       "<table border=\"1\" class=\"dataframe\">\n",
       "  <thead>\n",
       "    <tr style=\"text-align: right;\">\n",
       "      <th></th>\n",
       "      <th>RECORD_TIME</th>\n",
       "    </tr>\n",
       "  </thead>\n",
       "  <tbody>\n",
       "    <tr>\n",
       "      <th>0</th>\n",
       "      <td>2021-11-06 09:30</td>\n",
       "    </tr>\n",
       "    <tr>\n",
       "      <th>1</th>\n",
       "      <td>2021-11-06 09:00</td>\n",
       "    </tr>\n",
       "  </tbody>\n",
       "</table>\n",
       "</div>"
      ],
      "text/plain": [
       "        RECORD_TIME\n",
       "0  2021-11-06 09:30\n",
       "1  2021-11-06 09:00"
      ]
     },
     "execution_count": 3,
     "metadata": {},
     "output_type": "execute_result"
    }
   ],
   "source": [
    "timestamps"
   ]
  },
  {
   "cell_type": "code",
   "execution_count": 4,
   "id": "alternate-victory",
   "metadata": {
    "execution": {
     "iopub.execute_input": "2021-11-06T08:30:10.187870Z",
     "iopub.status.busy": "2021-11-06T08:30:10.185554Z",
     "iopub.status.idle": "2021-11-06T08:30:11.262265Z",
     "shell.execute_reply": "2021-11-06T08:30:11.263685Z"
    },
    "papermill": {
     "duration": 1.110927,
     "end_time": "2021-11-06T08:30:11.264176",
     "exception": false,
     "start_time": "2021-11-06T08:30:10.153249",
     "status": "completed"
    },
    "tags": []
   },
   "outputs": [],
   "source": [
    "df = pd.read_sql(\"select * from EBAY_TOP_BERLIN where record_time in (select distinct record_time from EBAY_TOP_BERLIN order by record_time desc limit 2)\", sqlite3.connect(\"UsedObjects.db\"))"
   ]
  },
  {
   "cell_type": "code",
   "execution_count": 5,
   "id": "popular-active",
   "metadata": {
    "execution": {
     "iopub.execute_input": "2021-11-06T08:30:11.330576Z",
     "iopub.status.busy": "2021-11-06T08:30:11.320289Z",
     "iopub.status.idle": "2021-11-06T08:30:11.367749Z",
     "shell.execute_reply": "2021-11-06T08:30:11.369362Z"
    },
    "papermill": {
     "duration": 0.083425,
     "end_time": "2021-11-06T08:30:11.369873",
     "exception": false,
     "start_time": "2021-11-06T08:30:11.286448",
     "status": "completed"
    },
    "tags": []
   },
   "outputs": [],
   "source": [
    "df_pivot = df.pivot_table(index=\"PRODUCT\", columns = \"RECORD_TIME\", values = \"LISTING_COUNT\")"
   ]
  },
  {
   "cell_type": "code",
   "execution_count": 6,
   "id": "union-huntington",
   "metadata": {
    "execution": {
     "iopub.execute_input": "2021-11-06T08:30:11.436309Z",
     "iopub.status.busy": "2021-11-06T08:30:11.433941Z",
     "iopub.status.idle": "2021-11-06T08:30:11.439241Z",
     "shell.execute_reply": "2021-11-06T08:30:11.440870Z"
    },
    "papermill": {
     "duration": 0.045706,
     "end_time": "2021-11-06T08:30:11.441368",
     "exception": false,
     "start_time": "2021-11-06T08:30:11.395662",
     "status": "completed"
    },
    "tags": []
   },
   "outputs": [],
   "source": [
    "df_pivot.columns = [\"stamp_1\", \"stamp_2\"]\n",
    "df_pivot_diff = df_pivot.diff(axis=1)"
   ]
  },
  {
   "cell_type": "code",
   "execution_count": 7,
   "id": "fifth-motion",
   "metadata": {
    "execution": {
     "iopub.execute_input": "2021-11-06T08:30:11.500295Z",
     "iopub.status.busy": "2021-11-06T08:30:11.497708Z",
     "iopub.status.idle": "2021-11-06T08:30:13.267747Z",
     "shell.execute_reply": "2021-11-06T08:30:13.269365Z"
    },
    "papermill": {
     "duration": 1.807382,
     "end_time": "2021-11-06T08:30:13.269854",
     "exception": false,
     "start_time": "2021-11-06T08:30:11.462472",
     "status": "completed"
    },
    "tags": []
   },
   "outputs": [
    {
     "data": {
      "text/plain": [
       "<AxesSubplot:ylabel='PRODUCT'>"
      ]
     },
     "execution_count": 7,
     "metadata": {},
     "output_type": "execute_result"
    },
    {
     "data": {
      "image/png": "[encoded data removed]",
      "text/plain": [
       "<Figure size 432x288 with 1 Axes>"
      ]
     },
     "metadata": {
      "needs_background": "light"
     },
     "output_type": "display_data"
    }
   ],
   "source": [
    "df_pivot_diff.sort_values(\"stamp_2\", ascending = False)[\"stamp_2\"].head(10).plot.barh()"
   ]
  },
  {
   "cell_type": "code",
   "execution_count": null,
   "id": "extra-executive",
   "metadata": {
    "papermill": {
     "duration": 0.024788,
     "end_time": "2021-11-06T08:30:13.318950",
     "exception": false,
     "start_time": "2021-11-06T08:30:13.294162",
     "status": "completed"
    },
    "tags": []
   },
   "outputs": [],
   "source": []
  }
 ],
 "metadata": {
  "kernelspec": {
   "display_name": "Python 3",
   "language": "python",
   "name": "python3"
  },
  "language_info": {
   "codemirror_mode": {
    "name": "ipython",
    "version": 3
   },
   "file_extension": ".py",
   "mimetype": "text/x-python",
   "name": "python",
   "nbconvert_exporter": "python",
   "pygments_lexer": "ipython3",
   "version": "3.9.5"
  },
  "papermill": {
   "default_parameters": {},
   "duration": 8.822483,
   "end_time": "2021-11-06T08:30:14.166482",
   "environment_variables": {},
   "exception": null,
   "input_path": "eBay_Overview.ipynb",
   "output_path": "eBay_Overview.ipynb",
   "parameters": {},
   "start_time": "2021-11-06T08:30:05.343999",
   "version": "2.3.3"
  }
 },
 "nbformat": 4,
 "nbformat_minor": 5
}