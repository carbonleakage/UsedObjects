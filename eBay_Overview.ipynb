{
 "cells": [
  {
   "cell_type": "code",
   "execution_count": 1,
   "id": "reverse-picking",
   "metadata": {
    "execution": {
     "iopub.execute_input": "2021-10-26T08:00:07.326789Z",
     "iopub.status.busy": "2021-10-26T08:00:07.324806Z",
     "iopub.status.idle": "2021-10-26T08:00:08.138180Z",
     "shell.execute_reply": "2021-10-26T08:00:08.139628Z"
    },
    "papermill": {
     "duration": 0.866267,
     "end_time": "2021-10-26T08:00:08.140302",
     "exception": false,
     "start_time": "2021-10-26T08:00:07.274035",
     "status": "completed"
    },
    "tags": []
   },
   "outputs": [],
   "source": [
    "import pandas as pd\n",
    "import sqlite3"
   ]
  },
  {
   "cell_type": "code",
   "execution_count": 2,
   "id": "innovative-syndrome",
   "metadata": {
    "execution": {
     "iopub.execute_input": "2021-10-26T08:00:08.191807Z",
     "iopub.status.busy": "2021-10-26T08:00:08.189627Z",
     "iopub.status.idle": "2021-10-26T08:00:08.838251Z",
     "shell.execute_reply": "2021-10-26T08:00:08.839475Z"
    },
    "papermill": {
     "duration": 0.678971,
     "end_time": "2021-10-26T08:00:08.839877",
     "exception": false,
     "start_time": "2021-10-26T08:00:08.160906",
     "status": "completed"
    },
    "tags": []
   },
   "outputs": [],
   "source": [
    "timestamps = pd.read_sql(\"select distinct record_time from EBAY_TOP_BERLIN order by record_time desc limit 2\", sqlite3.connect(\"UsedObjects.db\"))"
   ]
  },
  {
   "cell_type": "code",
   "execution_count": 3,
   "id": "periodic-identification",
   "metadata": {
    "execution": {
     "iopub.execute_input": "2021-10-26T08:00:08.915727Z",
     "iopub.status.busy": "2021-10-26T08:00:08.913721Z",
     "iopub.status.idle": "2021-10-26T08:00:08.933534Z",
     "shell.execute_reply": "2021-10-26T08:00:08.934846Z"
    },
    "papermill": {
     "duration": 0.070203,
     "end_time": "2021-10-26T08:00:08.935269",
     "exception": false,
     "start_time": "2021-10-26T08:00:08.865066",
     "status": "completed"
    },
    "tags": []
   },
   "outputs": [
    {
     "data": {
      "text/html": [
       "<div>\n",
       "<style scoped>\n",
       "    .dataframe tbody tr th:only-of-type {\n",
       "        vertical-align: middle;\n",
       "    }\n",
       "\n",
       "    .dataframe tbody tr th {\n",
       "        vertical-align: top;\n",
       "    }\n",
       "\n",
       "    .dataframe thead th {\n",
       "        text-align: right;\n",
       "    }\n",
       "</style>\n",
       "<table border=\"1\" class=\"dataframe\">\n",
       "  <thead>\n",
       "    <tr style=\"text-align: right;\">\n",
       "      <th></th>\n",
       "      <th>RECORD_TIME</th>\n",
       "    </tr>\n",
       "  </thead>\n",
       "  <tbody>\n",
       "    <tr>\n",
       "      <th>0</th>\n",
       "      <td>2021-10-26 10:00</td>\n",
       "    </tr>\n",
       "    <tr>\n",
       "      <th>1</th>\n",
       "      <td>2021-10-26 09:30</td>\n",
       "    </tr>\n",
       "  </tbody>\n",
       "</table>\n",
       "</div>"
      ],
      "text/plain": [
       "        RECORD_TIME\n",
       "0  2021-10-26 10:00\n",
       "1  2021-10-26 09:30"
      ]
     },
     "execution_count": 3,
     "metadata": {},
     "output_type": "execute_result"
    }
   ],
   "source": [
    "timestamps"
   ]
  },
  {
   "cell_type": "code",
   "execution_count": 4,
   "id": "alternate-victory",
   "metadata": {
    "execution": {
     "iopub.execute_input": "2021-10-26T08:00:08.987528Z",
     "iopub.status.busy": "2021-10-26T08:00:08.985238Z",
     "iopub.status.idle": "2021-10-26T08:00:09.950804Z",
     "shell.execute_reply": "2021-10-26T08:00:09.952034Z"
    },
    "papermill": {
     "duration": 0.995962,
     "end_time": "2021-10-26T08:00:09.952442",
     "exception": false,
     "start_time": "2021-10-26T08:00:08.956480",
     "status": "completed"
    },
    "tags": []
   },
   "outputs": [],
   "source": [
    "df = pd.read_sql(\"select * from EBAY_TOP_BERLIN where record_time in (select distinct record_time from EBAY_TOP_BERLIN order by record_time desc limit 2)\", sqlite3.connect(\"UsedObjects.db\"))"
   ]
  },
  {
   "cell_type": "code",
   "execution_count": 5,
   "id": "popular-active",
   "metadata": {
    "execution": {
     "iopub.execute_input": "2021-10-26T08:00:10.025611Z",
     "iopub.status.busy": "2021-10-26T08:00:10.018465Z",
     "iopub.status.idle": "2021-10-26T08:00:10.040919Z",
     "shell.execute_reply": "2021-10-26T08:00:10.042146Z"
    },
    "papermill": {
     "duration": 0.067627,
     "end_time": "2021-10-26T08:00:10.042548",
     "exception": false,
     "start_time": "2021-10-26T08:00:09.974921",
     "status": "completed"
    },
    "tags": []
   },
   "outputs": [],
   "source": [
    "df_pivot = df.pivot_table(index=\"PRODUCT\", columns = \"RECORD_TIME\", values = \"LISTING_COUNT\")"
   ]
  },
  {
   "cell_type": "code",
   "execution_count": 6,
   "id": "union-huntington",
   "metadata": {
    "execution": {
     "iopub.execute_input": "2021-10-26T08:00:10.099247Z",
     "iopub.status.busy": "2021-10-26T08:00:10.097196Z",
     "iopub.status.idle": "2021-10-26T08:00:10.102361Z",
     "shell.execute_reply": "2021-10-26T08:00:10.103641Z"
    },
    "papermill": {
     "duration": 0.040512,
     "end_time": "2021-10-26T08:00:10.104066",
     "exception": false,
     "start_time": "2021-10-26T08:00:10.063554",
     "status": "completed"
    },
    "tags": []
   },
   "outputs": [],
   "source": [
    "df_pivot.columns = [\"stamp_1\", \"stamp_2\"]\n",
    "df_pivot_diff = df_pivot.diff(axis=1)"
   ]
  },
  {
   "cell_type": "code",
   "execution_count": 7,
   "id": "fifth-motion",
   "metadata": {
    "execution": {
     "iopub.execute_input": "2021-10-26T08:00:10.160999Z",
     "iopub.status.busy": "2021-10-26T08:00:10.158321Z",
     "iopub.status.idle": "2021-10-26T08:00:11.620327Z",
     "shell.execute_reply": "2021-10-26T08:00:11.621666Z"
    },
    "papermill": {
     "duration": 1.495776,
     "end_time": "2021-10-26T08:00:11.622108",
     "exception": false,
     "start_time": "2021-10-26T08:00:10.126332",
     "status": "completed"
    },
    "tags": []
   },
   "outputs": [
    {
     "data": {
      "text/plain": [
       "<AxesSubplot:ylabel='PRODUCT'>"
      ]
     },
     "execution_count": 7,
     "metadata": {},
     "output_type": "execute_result"
    },
    {
     "data": {
      "image/png": "[encoded data removed]",
      "text/plain": [
       "<Figure size 432x288 with 1 Axes>"
      ]
     },
     "metadata": {
      "needs_background": "light"
     },
     "output_type": "display_data"
    }
   ],
   "source": [
    "df_pivot_diff.sort_values(\"stamp_2\", ascending = False)[\"stamp_2\"].head(10).plot.barh()"
   ]
  },
  {
   "cell_type": "code",
   "execution_count": null,
   "id": "extra-executive",
   "metadata": {
    "papermill": {
     "duration": 0.02217,
     "end_time": "2021-10-26T08:00:11.670645",
     "exception": false,
     "start_time": "2021-10-26T08:00:11.648475",
     "status": "completed"
    },
    "tags": []
   },
   "outputs": [],
   "source": []
  }
 ],
 "metadata": {
  "kernelspec": {
   "display_name": "Python 3",
   "language": "python",
   "name": "python3"
  },
  "language_info": {
   "codemirror_mode": {
    "name": "ipython",
    "version": 3
   },
   "file_extension": ".py",
   "mimetype": "text/x-python",
   "name": "python",
   "nbconvert_exporter": "python",
   "pygments_lexer": "ipython3",
   "version": "3.9.5"
  },
  "papermill": {
   "default_parameters": {},
   "duration": 7.44826,
   "end_time": "2021-10-26T08:00:12.314107",
   "environment_variables": {},
   "exception": null,
   "input_path": "eBay_Overview.ipynb",
   "output_path": "eBay_Overview.ipynb",
   "parameters": {},
   "start_time": "2021-10-26T08:00:04.865847",
   "version": "2.3.3"
  }
 },
 "nbformat": 4,
 "nbformat_minor": 5
}