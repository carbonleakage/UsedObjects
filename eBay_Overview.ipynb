{
 "cells": [
  {
   "cell_type": "code",
   "execution_count": 1,
   "id": "reverse-picking",
   "metadata": {
    "execution": {
     "iopub.execute_input": "2021-09-11T19:30:07.381675Z",
     "iopub.status.busy": "2021-09-11T19:30:07.379711Z",
     "iopub.status.idle": "2021-09-11T19:30:08.191943Z",
     "shell.execute_reply": "2021-09-11T19:30:08.193395Z"
    },
    "papermill": {
     "duration": 0.864133,
     "end_time": "2021-09-11T19:30:08.194077",
     "exception": false,
     "start_time": "2021-09-11T19:30:07.329944",
     "status": "completed"
    },
    "tags": []
   },
   "outputs": [],
   "source": [
    "import pandas as pd\n",
    "import sqlite3"
   ]
  },
  {
   "cell_type": "code",
   "execution_count": 2,
   "id": "innovative-syndrome",
   "metadata": {
    "execution": {
     "iopub.execute_input": "2021-09-11T19:30:08.245794Z",
     "iopub.status.busy": "2021-09-11T19:30:08.243748Z",
     "iopub.status.idle": "2021-09-11T19:30:08.503619Z",
     "shell.execute_reply": "2021-09-11T19:30:08.504853Z"
    },
    "papermill": {
     "duration": 0.290017,
     "end_time": "2021-09-11T19:30:08.505248",
     "exception": false,
     "start_time": "2021-09-11T19:30:08.215231",
     "status": "completed"
    },
    "tags": []
   },
   "outputs": [],
   "source": [
    "timestamps = pd.read_sql(\"select distinct record_time from EBAY_TOP_BERLIN order by record_time desc limit 2\", sqlite3.connect(\"UsedObjects.db\"))"
   ]
  },
  {
   "cell_type": "code",
   "execution_count": 3,
   "id": "periodic-identification",
   "metadata": {
    "execution": {
     "iopub.execute_input": "2021-09-11T19:30:08.570184Z",
     "iopub.status.busy": "2021-09-11T19:30:08.567991Z",
     "iopub.status.idle": "2021-09-11T19:30:08.588545Z",
     "shell.execute_reply": "2021-09-11T19:30:08.589755Z"
    },
    "papermill": {
     "duration": 0.065674,
     "end_time": "2021-09-11T19:30:08.590153",
     "exception": false,
     "start_time": "2021-09-11T19:30:08.524479",
     "status": "completed"
    },
    "tags": []
   },
   "outputs": [
    {
     "data": {
      "text/html": [
       "<div>\n",
       "<style scoped>\n",
       "    .dataframe tbody tr th:only-of-type {\n",
       "        vertical-align: middle;\n",
       "    }\n",
       "\n",
       "    .dataframe tbody tr th {\n",
       "        vertical-align: top;\n",
       "    }\n",
       "\n",
       "    .dataframe thead th {\n",
       "        text-align: right;\n",
       "    }\n",
       "</style>\n",
       "<table border=\"1\" class=\"dataframe\">\n",
       "  <thead>\n",
       "    <tr style=\"text-align: right;\">\n",
       "      <th></th>\n",
       "      <th>RECORD_TIME</th>\n",
       "    </tr>\n",
       "  </thead>\n",
       "  <tbody>\n",
       "    <tr>\n",
       "      <th>0</th>\n",
       "      <td>2021-09-11 21:30</td>\n",
       "    </tr>\n",
       "    <tr>\n",
       "      <th>1</th>\n",
       "      <td>2021-09-11 21:00</td>\n",
       "    </tr>\n",
       "  </tbody>\n",
       "</table>\n",
       "</div>"
      ],
      "text/plain": [
       "        RECORD_TIME\n",
       "0  2021-09-11 21:30\n",
       "1  2021-09-11 21:00"
      ]
     },
     "execution_count": 3,
     "metadata": {},
     "output_type": "execute_result"
    }
   ],
   "source": [
    "timestamps"
   ]
  },
  {
   "cell_type": "code",
   "execution_count": 4,
   "id": "alternate-victory",
   "metadata": {
    "execution": {
     "iopub.execute_input": "2021-09-11T19:30:08.642369Z",
     "iopub.status.busy": "2021-09-11T19:30:08.640058Z",
     "iopub.status.idle": "2021-09-11T19:30:09.035568Z",
     "shell.execute_reply": "2021-09-11T19:30:09.036875Z"
    },
    "papermill": {
     "duration": 0.426056,
     "end_time": "2021-09-11T19:30:09.037331",
     "exception": false,
     "start_time": "2021-09-11T19:30:08.611275",
     "status": "completed"
    },
    "tags": []
   },
   "outputs": [],
   "source": [
    "df = pd.read_sql(\"select * from EBAY_TOP_BERLIN where record_time in (select distinct record_time from EBAY_TOP_BERLIN order by record_time desc limit 2)\", sqlite3.connect(\"UsedObjects.db\"))"
   ]
  },
  {
   "cell_type": "code",
   "execution_count": 5,
   "id": "popular-active",
   "metadata": {
    "execution": {
     "iopub.execute_input": "2021-09-11T19:30:09.123088Z",
     "iopub.status.busy": "2021-09-11T19:30:09.110433Z",
     "iopub.status.idle": "2021-09-11T19:30:09.138802Z",
     "shell.execute_reply": "2021-09-11T19:30:09.140104Z"
    },
    "papermill": {
     "duration": 0.074006,
     "end_time": "2021-09-11T19:30:09.140500",
     "exception": false,
     "start_time": "2021-09-11T19:30:09.066494",
     "status": "completed"
    },
    "tags": []
   },
   "outputs": [],
   "source": [
    "df_pivot = df.pivot_table(index=\"PRODUCT\", columns = \"RECORD_TIME\", values = \"LISTING_COUNT\")"
   ]
  },
  {
   "cell_type": "code",
   "execution_count": 6,
   "id": "union-huntington",
   "metadata": {
    "execution": {
     "iopub.execute_input": "2021-09-11T19:30:09.200753Z",
     "iopub.status.busy": "2021-09-11T19:30:09.198245Z",
     "iopub.status.idle": "2021-09-11T19:30:09.204750Z",
     "shell.execute_reply": "2021-09-11T19:30:09.206211Z"
    },
    "papermill": {
     "duration": 0.043068,
     "end_time": "2021-09-11T19:30:09.206674",
     "exception": false,
     "start_time": "2021-09-11T19:30:09.163606",
     "status": "completed"
    },
    "tags": []
   },
   "outputs": [],
   "source": [
    "df_pivot.columns = [\"stamp_1\", \"stamp_2\"]\n",
    "df_pivot_diff = df_pivot.diff(axis=1)"
   ]
  },
  {
   "cell_type": "code",
   "execution_count": 7,
   "id": "fifth-motion",
   "metadata": {
    "execution": {
     "iopub.execute_input": "2021-09-11T19:30:09.261953Z",
     "iopub.status.busy": "2021-09-11T19:30:09.259509Z",
     "iopub.status.idle": "2021-09-11T19:30:10.765162Z",
     "shell.execute_reply": "2021-09-11T19:30:10.766647Z"
    },
    "papermill": {
     "duration": 1.538972,
     "end_time": "2021-09-11T19:30:10.767166",
     "exception": false,
     "start_time": "2021-09-11T19:30:09.228194",
     "status": "completed"
    },
    "tags": []
   },
   "outputs": [
    {
     "data": {
      "text/plain": [
       "<AxesSubplot:ylabel='PRODUCT'>"
      ]
     },
     "execution_count": 7,
     "metadata": {},
     "output_type": "execute_result"
    },
    {
     "data": {
      "image/png": "[encoded data removed]",
      "text/plain": [
       "<Figure size 432x288 with 1 Axes>"
      ]
     },
     "metadata": {
      "needs_background": "light"
     },
     "output_type": "display_data"
    }
   ],
   "source": [
    "df_pivot_diff.sort_values(\"stamp_2\", ascending = False)[\"stamp_2\"].head(10).plot.barh()"
   ]
  },
  {
   "cell_type": "code",
   "execution_count": null,
   "id": "extra-executive",
   "metadata": {
    "papermill": {
     "duration": 0.022195,
     "end_time": "2021-09-11T19:30:10.814681",
     "exception": false,
     "start_time": "2021-09-11T19:30:10.792486",
     "status": "completed"
    },
    "tags": []
   },
   "outputs": [],
   "source": []
  }
 ],
 "metadata": {
  "kernelspec": {
   "display_name": "Python 3",
   "language": "python",
   "name": "python3"
  },
  "language_info": {
   "codemirror_mode": {
    "name": "ipython",
    "version": 3
   },
   "file_extension": ".py",
   "mimetype": "text/x-python",
   "name": "python",
   "nbconvert_exporter": "python",
   "pygments_lexer": "ipython3",
   "version": "3.9.5"
  },
  "papermill": {
   "default_parameters": {},
   "duration": 6.546871,
   "end_time": "2021-09-11T19:30:11.455245",
   "environment_variables": {},
   "exception": null,
   "input_path": "eBay_Overview.ipynb",
   "output_path": "eBay_Overview.ipynb",
   "parameters": {},
   "start_time": "2021-09-11T19:30:04.908374",
   "version": "2.3.3"
  }
 },
 "nbformat": 4,
 "nbformat_minor": 5
}