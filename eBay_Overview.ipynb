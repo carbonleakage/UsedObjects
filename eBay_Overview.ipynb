{
 "cells": [
  {
   "cell_type": "code",
   "execution_count": 1,
   "id": "reverse-picking",
   "metadata": {
    "execution": {
     "iopub.execute_input": "2021-09-28T19:30:07.798874Z",
     "iopub.status.busy": "2021-09-28T19:30:07.796907Z",
     "iopub.status.idle": "2021-09-28T19:30:08.604954Z",
     "shell.execute_reply": "2021-09-28T19:30:08.606189Z"
    },
    "papermill": {
     "duration": 0.860408,
     "end_time": "2021-09-28T19:30:08.606866",
     "exception": false,
     "start_time": "2021-09-28T19:30:07.746458",
     "status": "completed"
    },
    "tags": []
   },
   "outputs": [],
   "source": [
    "import pandas as pd\n",
    "import sqlite3"
   ]
  },
  {
   "cell_type": "code",
   "execution_count": 2,
   "id": "innovative-syndrome",
   "metadata": {
    "execution": {
     "iopub.execute_input": "2021-09-28T19:30:08.657447Z",
     "iopub.status.busy": "2021-09-28T19:30:08.655593Z",
     "iopub.status.idle": "2021-09-28T19:30:09.064103Z",
     "shell.execute_reply": "2021-09-28T19:30:09.065295Z"
    },
    "papermill": {
     "duration": 0.438197,
     "end_time": "2021-09-28T19:30:09.065690",
     "exception": false,
     "start_time": "2021-09-28T19:30:08.627493",
     "status": "completed"
    },
    "tags": []
   },
   "outputs": [],
   "source": [
    "timestamps = pd.read_sql(\"select distinct record_time from EBAY_TOP_BERLIN order by record_time desc limit 2\", sqlite3.connect(\"UsedObjects.db\"))"
   ]
  },
  {
   "cell_type": "code",
   "execution_count": 3,
   "id": "periodic-identification",
   "metadata": {
    "execution": {
     "iopub.execute_input": "2021-09-28T19:30:09.129949Z",
     "iopub.status.busy": "2021-09-28T19:30:09.127945Z",
     "iopub.status.idle": "2021-09-28T19:30:09.147587Z",
     "shell.execute_reply": "2021-09-28T19:30:09.148810Z"
    },
    "papermill": {
     "duration": 0.06412,
     "end_time": "2021-09-28T19:30:09.149202",
     "exception": false,
     "start_time": "2021-09-28T19:30:09.085082",
     "status": "completed"
    },
    "tags": []
   },
   "outputs": [
    {
     "data": {
      "text/html": [
       "<div>\n",
       "<style scoped>\n",
       "    .dataframe tbody tr th:only-of-type {\n",
       "        vertical-align: middle;\n",
       "    }\n",
       "\n",
       "    .dataframe tbody tr th {\n",
       "        vertical-align: top;\n",
       "    }\n",
       "\n",
       "    .dataframe thead th {\n",
       "        text-align: right;\n",
       "    }\n",
       "</style>\n",
       "<table border=\"1\" class=\"dataframe\">\n",
       "  <thead>\n",
       "    <tr style=\"text-align: right;\">\n",
       "      <th></th>\n",
       "      <th>RECORD_TIME</th>\n",
       "    </tr>\n",
       "  </thead>\n",
       "  <tbody>\n",
       "    <tr>\n",
       "      <th>0</th>\n",
       "      <td>2021-09-28 21:30</td>\n",
       "    </tr>\n",
       "    <tr>\n",
       "      <th>1</th>\n",
       "      <td>2021-09-28 21:00</td>\n",
       "    </tr>\n",
       "  </tbody>\n",
       "</table>\n",
       "</div>"
      ],
      "text/plain": [
       "        RECORD_TIME\n",
       "0  2021-09-28 21:30\n",
       "1  2021-09-28 21:00"
      ]
     },
     "execution_count": 3,
     "metadata": {},
     "output_type": "execute_result"
    }
   ],
   "source": [
    "timestamps"
   ]
  },
  {
   "cell_type": "code",
   "execution_count": 4,
   "id": "alternate-victory",
   "metadata": {
    "execution": {
     "iopub.execute_input": "2021-09-28T19:30:09.202403Z",
     "iopub.status.busy": "2021-09-28T19:30:09.200149Z",
     "iopub.status.idle": "2021-09-28T19:30:09.793086Z",
     "shell.execute_reply": "2021-09-28T19:30:09.794213Z"
    },
    "papermill": {
     "duration": 0.623309,
     "end_time": "2021-09-28T19:30:09.794620",
     "exception": false,
     "start_time": "2021-09-28T19:30:09.171311",
     "status": "completed"
    },
    "tags": []
   },
   "outputs": [],
   "source": [
    "df = pd.read_sql(\"select * from EBAY_TOP_BERLIN where record_time in (select distinct record_time from EBAY_TOP_BERLIN order by record_time desc limit 2)\", sqlite3.connect(\"UsedObjects.db\"))"
   ]
  },
  {
   "cell_type": "code",
   "execution_count": 5,
   "id": "popular-active",
   "metadata": {
    "execution": {
     "iopub.execute_input": "2021-09-28T19:30:09.867409Z",
     "iopub.status.busy": "2021-09-28T19:30:09.854544Z",
     "iopub.status.idle": "2021-09-28T19:30:09.883152Z",
     "shell.execute_reply": "2021-09-28T19:30:09.884375Z"
    },
    "papermill": {
     "duration": 0.068064,
     "end_time": "2021-09-28T19:30:09.884770",
     "exception": false,
     "start_time": "2021-09-28T19:30:09.816706",
     "status": "completed"
    },
    "tags": []
   },
   "outputs": [],
   "source": [
    "df_pivot = df.pivot_table(index=\"PRODUCT\", columns = \"RECORD_TIME\", values = \"LISTING_COUNT\")"
   ]
  },
  {
   "cell_type": "code",
   "execution_count": 6,
   "id": "union-huntington",
   "metadata": {
    "execution": {
     "iopub.execute_input": "2021-09-28T19:30:09.941663Z",
     "iopub.status.busy": "2021-09-28T19:30:09.939614Z",
     "iopub.status.idle": "2021-09-28T19:30:09.944809Z",
     "shell.execute_reply": "2021-09-28T19:30:09.945997Z"
    },
    "papermill": {
     "duration": 0.04011,
     "end_time": "2021-09-28T19:30:09.946424",
     "exception": false,
     "start_time": "2021-09-28T19:30:09.906314",
     "status": "completed"
    },
    "tags": []
   },
   "outputs": [],
   "source": [
    "df_pivot.columns = [\"stamp_1\", \"stamp_2\"]\n",
    "df_pivot_diff = df_pivot.diff(axis=1)"
   ]
  },
  {
   "cell_type": "code",
   "execution_count": 7,
   "id": "fifth-motion",
   "metadata": {
    "execution": {
     "iopub.execute_input": "2021-09-28T19:30:10.003849Z",
     "iopub.status.busy": "2021-09-28T19:30:10.001152Z",
     "iopub.status.idle": "2021-09-28T19:30:11.492857Z",
     "shell.execute_reply": "2021-09-28T19:30:11.494220Z"
    },
    "papermill": {
     "duration": 1.525451,
     "end_time": "2021-09-28T19:30:11.494661",
     "exception": false,
     "start_time": "2021-09-28T19:30:09.969210",
     "status": "completed"
    },
    "tags": []
   },
   "outputs": [
    {
     "data": {
      "text/plain": [
       "<AxesSubplot:ylabel='PRODUCT'>"
      ]
     },
     "execution_count": 7,
     "metadata": {},
     "output_type": "execute_result"
    },
    {
     "data": {
      "image/png": "[encoded data removed]",
      "text/plain": [
       "<Figure size 432x288 with 1 Axes>"
      ]
     },
     "metadata": {
      "needs_background": "light"
     },
     "output_type": "display_data"
    }
   ],
   "source": [
    "df_pivot_diff.sort_values(\"stamp_2\", ascending = False)[\"stamp_2\"].head(10).plot.barh()"
   ]
  },
  {
   "cell_type": "code",
   "execution_count": null,
   "id": "extra-executive",
   "metadata": {
    "papermill": {
     "duration": 0.022464,
     "end_time": "2021-09-28T19:30:11.541220",
     "exception": false,
     "start_time": "2021-09-28T19:30:11.518756",
     "status": "completed"
    },
    "tags": []
   },
   "outputs": [],
   "source": []
  }
 ],
 "metadata": {
  "kernelspec": {
   "display_name": "Python 3",
   "language": "python",
   "name": "python3"
  },
  "language_info": {
   "codemirror_mode": {
    "name": "ipython",
    "version": 3
   },
   "file_extension": ".py",
   "mimetype": "text/x-python",
   "name": "python",
   "nbconvert_exporter": "python",
   "pygments_lexer": "ipython3",
   "version": "3.9.5"
  },
  "papermill": {
   "default_parameters": {},
   "duration": 7.834566,
   "end_time": "2021-09-28T19:30:13.168661",
   "environment_variables": {},
   "exception": null,
   "input_path": "eBay_Overview.ipynb",
   "output_path": "eBay_Overview.ipynb",
   "parameters": {},
   "start_time": "2021-09-28T19:30:05.334095",
   "version": "2.3.3"
  }
 },
 "nbformat": 4,
 "nbformat_minor": 5
}