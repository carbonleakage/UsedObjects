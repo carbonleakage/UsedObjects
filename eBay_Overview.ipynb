{
 "cells": [
  {
   "cell_type": "code",
   "execution_count": 1,
   "id": "reverse-picking",
   "metadata": {
    "execution": {
     "iopub.execute_input": "2021-11-15T09:00:08.289911Z",
     "iopub.status.busy": "2021-11-15T09:00:08.287572Z",
     "iopub.status.idle": "2021-11-15T09:00:09.258371Z",
     "shell.execute_reply": "2021-11-15T09:00:09.256370Z"
    },
    "papermill": {
     "duration": 1.017526,
     "end_time": "2021-11-15T09:00:09.258896",
     "exception": false,
     "start_time": "2021-11-15T09:00:08.241370",
     "status": "completed"
    },
    "tags": []
   },
   "outputs": [],
   "source": [
    "import pandas as pd\n",
    "import sqlite3"
   ]
  },
  {
   "cell_type": "code",
   "execution_count": 2,
   "id": "innovative-syndrome",
   "metadata": {
    "execution": {
     "iopub.execute_input": "2021-11-15T09:00:09.314928Z",
     "iopub.status.busy": "2021-11-15T09:00:09.312747Z",
     "iopub.status.idle": "2021-11-15T09:00:10.228383Z",
     "shell.execute_reply": "2021-11-15T09:00:10.229845Z"
    },
    "papermill": {
     "duration": 0.949831,
     "end_time": "2021-11-15T09:00:10.230266",
     "exception": false,
     "start_time": "2021-11-15T09:00:09.280435",
     "status": "completed"
    },
    "tags": []
   },
   "outputs": [],
   "source": [
    "timestamps = pd.read_sql(\"select distinct record_time from EBAY_TOP_BERLIN order by record_time desc limit 2\", sqlite3.connect(\"UsedObjects.db\"))"
   ]
  },
  {
   "cell_type": "code",
   "execution_count": 3,
   "id": "periodic-identification",
   "metadata": {
    "execution": {
     "iopub.execute_input": "2021-11-15T09:00:10.299036Z",
     "iopub.status.busy": "2021-11-15T09:00:10.296798Z",
     "iopub.status.idle": "2021-11-15T09:00:10.319276Z",
     "shell.execute_reply": "2021-11-15T09:00:10.320399Z"
    },
    "papermill": {
     "duration": 0.070218,
     "end_time": "2021-11-15T09:00:10.320887",
     "exception": false,
     "start_time": "2021-11-15T09:00:10.250669",
     "status": "completed"
    },
    "tags": []
   },
   "outputs": [
    {
     "data": {
      "text/html": [
       "<div>\n",
       "<style scoped>\n",
       "    .dataframe tbody tr th:only-of-type {\n",
       "        vertical-align: middle;\n",
       "    }\n",
       "\n",
       "    .dataframe tbody tr th {\n",
       "        vertical-align: top;\n",
       "    }\n",
       "\n",
       "    .dataframe thead th {\n",
       "        text-align: right;\n",
       "    }\n",
       "</style>\n",
       "<table border=\"1\" class=\"dataframe\">\n",
       "  <thead>\n",
       "    <tr style=\"text-align: right;\">\n",
       "      <th></th>\n",
       "      <th>RECORD_TIME</th>\n",
       "    </tr>\n",
       "  </thead>\n",
       "  <tbody>\n",
       "    <tr>\n",
       "      <th>0</th>\n",
       "      <td>2021-11-15 10:00</td>\n",
       "    </tr>\n",
       "    <tr>\n",
       "      <th>1</th>\n",
       "      <td>2021-11-15 09:30</td>\n",
       "    </tr>\n",
       "  </tbody>\n",
       "</table>\n",
       "</div>"
      ],
      "text/plain": [
       "        RECORD_TIME\n",
       "0  2021-11-15 10:00\n",
       "1  2021-11-15 09:30"
      ]
     },
     "execution_count": 3,
     "metadata": {},
     "output_type": "execute_result"
    }
   ],
   "source": [
    "timestamps"
   ]
  },
  {
   "cell_type": "code",
   "execution_count": 4,
   "id": "alternate-victory",
   "metadata": {
    "execution": {
     "iopub.execute_input": "2021-11-15T09:00:10.378009Z",
     "iopub.status.busy": "2021-11-15T09:00:10.376076Z",
     "iopub.status.idle": "2021-11-15T09:00:11.565924Z",
     "shell.execute_reply": "2021-11-15T09:00:11.568230Z"
    },
    "papermill": {
     "duration": 1.224793,
     "end_time": "2021-11-15T09:00:11.568807",
     "exception": false,
     "start_time": "2021-11-15T09:00:10.344014",
     "status": "completed"
    },
    "tags": []
   },
   "outputs": [],
   "source": [
    "df = pd.read_sql(\"select * from EBAY_TOP_BERLIN where record_time in (select distinct record_time from EBAY_TOP_BERLIN order by record_time desc limit 2)\", sqlite3.connect(\"UsedObjects.db\"))"
   ]
  },
  {
   "cell_type": "code",
   "execution_count": 5,
   "id": "popular-active",
   "metadata": {
    "execution": {
     "iopub.execute_input": "2021-11-15T09:00:11.652863Z",
     "iopub.status.busy": "2021-11-15T09:00:11.639069Z",
     "iopub.status.idle": "2021-11-15T09:00:11.674379Z",
     "shell.execute_reply": "2021-11-15T09:00:11.676013Z"
    },
    "papermill": {
     "duration": 0.085825,
     "end_time": "2021-11-15T09:00:11.676552",
     "exception": false,
     "start_time": "2021-11-15T09:00:11.590727",
     "status": "completed"
    },
    "tags": []
   },
   "outputs": [],
   "source": [
    "df_pivot = df.pivot_table(index=\"PRODUCT\", columns = \"RECORD_TIME\", values = \"LISTING_COUNT\")"
   ]
  },
  {
   "cell_type": "code",
   "execution_count": 6,
   "id": "union-huntington",
   "metadata": {
    "execution": {
     "iopub.execute_input": "2021-11-15T09:00:11.737409Z",
     "iopub.status.busy": "2021-11-15T09:00:11.735236Z",
     "iopub.status.idle": "2021-11-15T09:00:11.743533Z",
     "shell.execute_reply": "2021-11-15T09:00:11.744967Z"
    },
    "papermill": {
     "duration": 0.046209,
     "end_time": "2021-11-15T09:00:11.745448",
     "exception": false,
     "start_time": "2021-11-15T09:00:11.699239",
     "status": "completed"
    },
    "tags": []
   },
   "outputs": [],
   "source": [
    "df_pivot.columns = [\"stamp_1\", \"stamp_2\"]\n",
    "df_pivot_diff = df_pivot.diff(axis=1)"
   ]
  },
  {
   "cell_type": "code",
   "execution_count": 7,
   "id": "fifth-motion",
   "metadata": {
    "execution": {
     "iopub.execute_input": "2021-11-15T09:00:11.800798Z",
     "iopub.status.busy": "2021-11-15T09:00:11.798243Z",
     "iopub.status.idle": "2021-11-15T09:00:13.451821Z",
     "shell.execute_reply": "2021-11-15T09:00:13.453179Z"
    },
    "papermill": {
     "duration": 1.687897,
     "end_time": "2021-11-15T09:00:13.453606",
     "exception": false,
     "start_time": "2021-11-15T09:00:11.765709",
     "status": "completed"
    },
    "tags": []
   },
   "outputs": [
    {
     "data": {
      "text/plain": [
       "<AxesSubplot:ylabel='PRODUCT'>"
      ]
     },
     "execution_count": 7,
     "metadata": {},
     "output_type": "execute_result"
    },
    {
     "data": {
      "image/png": "[encoded data removed]",
      "text/plain": [
       "<Figure size 432x288 with 1 Axes>"
      ]
     },
     "metadata": {
      "needs_background": "light"
     },
     "output_type": "display_data"
    }
   ],
   "source": [
    "df_pivot_diff.sort_values(\"stamp_2\", ascending = False)[\"stamp_2\"].head(10).plot.barh()"
   ]
  },
  {
   "cell_type": "code",
   "execution_count": null,
   "id": "extra-executive",
   "metadata": {
    "papermill": {
     "duration": 0.022626,
     "end_time": "2021-11-15T09:00:13.501557",
     "exception": false,
     "start_time": "2021-11-15T09:00:13.478931",
     "status": "completed"
    },
    "tags": []
   },
   "outputs": [],
   "source": []
  }
 ],
 "metadata": {
  "kernelspec": {
   "display_name": "Python 3",
   "language": "python",
   "name": "python3"
  },
  "language_info": {
   "codemirror_mode": {
    "name": "ipython",
    "version": 3
   },
   "file_extension": ".py",
   "mimetype": "text/x-python",
   "name": "python",
   "nbconvert_exporter": "python",
   "pygments_lexer": "ipython3",
   "version": "3.9.5"
  },
  "papermill": {
   "default_parameters": {},
   "duration": 8.65234,
   "end_time": "2021-11-15T09:00:14.143398",
   "environment_variables": {},
   "exception": null,
   "input_path": "eBay_Overview.ipynb",
   "output_path": "eBay_Overview.ipynb",
   "parameters": {},
   "start_time": "2021-11-15T09:00:05.491058",
   "version": "2.3.3"
  }
 },
 "nbformat": 4,
 "nbformat_minor": 5
}