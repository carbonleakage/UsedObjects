{
 "cells": [
  {
   "cell_type": "code",
   "execution_count": 1,
   "id": "reverse-picking",
   "metadata": {
    "execution": {
     "iopub.execute_input": "2021-10-29T07:30:06.994804Z",
     "iopub.status.busy": "2021-10-29T07:30:06.992784Z",
     "iopub.status.idle": "2021-10-29T07:30:07.797393Z",
     "shell.execute_reply": "2021-10-29T07:30:07.798649Z"
    },
    "papermill": {
     "duration": 0.855976,
     "end_time": "2021-10-29T07:30:07.799270",
     "exception": false,
     "start_time": "2021-10-29T07:30:06.943294",
     "status": "completed"
    },
    "tags": []
   },
   "outputs": [],
   "source": [
    "import pandas as pd\n",
    "import sqlite3"
   ]
  },
  {
   "cell_type": "code",
   "execution_count": 2,
   "id": "innovative-syndrome",
   "metadata": {
    "execution": {
     "iopub.execute_input": "2021-10-29T07:30:07.853038Z",
     "iopub.status.busy": "2021-10-29T07:30:07.850685Z",
     "iopub.status.idle": "2021-10-29T07:30:08.531127Z",
     "shell.execute_reply": "2021-10-29T07:30:08.532328Z"
    },
    "papermill": {
     "duration": 0.710541,
     "end_time": "2021-10-29T07:30:08.532891",
     "exception": false,
     "start_time": "2021-10-29T07:30:07.822350",
     "status": "completed"
    },
    "tags": []
   },
   "outputs": [],
   "source": [
    "timestamps = pd.read_sql(\"select distinct record_time from EBAY_TOP_BERLIN order by record_time desc limit 2\", sqlite3.connect(\"UsedObjects.db\"))"
   ]
  },
  {
   "cell_type": "code",
   "execution_count": 3,
   "id": "periodic-identification",
   "metadata": {
    "execution": {
     "iopub.execute_input": "2021-10-29T07:30:08.606050Z",
     "iopub.status.busy": "2021-10-29T07:30:08.603880Z",
     "iopub.status.idle": "2021-10-29T07:30:08.625302Z",
     "shell.execute_reply": "2021-10-29T07:30:08.626524Z"
    },
    "papermill": {
     "duration": 0.069246,
     "end_time": "2021-10-29T07:30:08.626914",
     "exception": false,
     "start_time": "2021-10-29T07:30:08.557668",
     "status": "completed"
    },
    "tags": []
   },
   "outputs": [
    {
     "data": {
      "text/html": [
       "<div>\n",
       "<style scoped>\n",
       "    .dataframe tbody tr th:only-of-type {\n",
       "        vertical-align: middle;\n",
       "    }\n",
       "\n",
       "    .dataframe tbody tr th {\n",
       "        vertical-align: top;\n",
       "    }\n",
       "\n",
       "    .dataframe thead th {\n",
       "        text-align: right;\n",
       "    }\n",
       "</style>\n",
       "<table border=\"1\" class=\"dataframe\">\n",
       "  <thead>\n",
       "    <tr style=\"text-align: right;\">\n",
       "      <th></th>\n",
       "      <th>RECORD_TIME</th>\n",
       "    </tr>\n",
       "  </thead>\n",
       "  <tbody>\n",
       "    <tr>\n",
       "      <th>0</th>\n",
       "      <td>2021-10-29 09:30</td>\n",
       "    </tr>\n",
       "    <tr>\n",
       "      <th>1</th>\n",
       "      <td>2021-10-29 09:00</td>\n",
       "    </tr>\n",
       "  </tbody>\n",
       "</table>\n",
       "</div>"
      ],
      "text/plain": [
       "        RECORD_TIME\n",
       "0  2021-10-29 09:30\n",
       "1  2021-10-29 09:00"
      ]
     },
     "execution_count": 3,
     "metadata": {},
     "output_type": "execute_result"
    }
   ],
   "source": [
    "timestamps"
   ]
  },
  {
   "cell_type": "code",
   "execution_count": 4,
   "id": "alternate-victory",
   "metadata": {
    "execution": {
     "iopub.execute_input": "2021-10-29T07:30:08.679585Z",
     "iopub.status.busy": "2021-10-29T07:30:08.677338Z",
     "iopub.status.idle": "2021-10-29T07:30:09.669214Z",
     "shell.execute_reply": "2021-10-29T07:30:09.670351Z"
    },
    "papermill": {
     "duration": 1.021952,
     "end_time": "2021-10-29T07:30:09.670768",
     "exception": false,
     "start_time": "2021-10-29T07:30:08.648816",
     "status": "completed"
    },
    "tags": []
   },
   "outputs": [],
   "source": [
    "df = pd.read_sql(\"select * from EBAY_TOP_BERLIN where record_time in (select distinct record_time from EBAY_TOP_BERLIN order by record_time desc limit 2)\", sqlite3.connect(\"UsedObjects.db\"))"
   ]
  },
  {
   "cell_type": "code",
   "execution_count": 5,
   "id": "popular-active",
   "metadata": {
    "execution": {
     "iopub.execute_input": "2021-10-29T07:30:09.745759Z",
     "iopub.status.busy": "2021-10-29T07:30:09.733598Z",
     "iopub.status.idle": "2021-10-29T07:30:09.761548Z",
     "shell.execute_reply": "2021-10-29T07:30:09.762745Z"
    },
    "papermill": {
     "duration": 0.068729,
     "end_time": "2021-10-29T07:30:09.763138",
     "exception": false,
     "start_time": "2021-10-29T07:30:09.694409",
     "status": "completed"
    },
    "tags": []
   },
   "outputs": [],
   "source": [
    "df_pivot = df.pivot_table(index=\"PRODUCT\", columns = \"RECORD_TIME\", values = \"LISTING_COUNT\")"
   ]
  },
  {
   "cell_type": "code",
   "execution_count": 6,
   "id": "union-huntington",
   "metadata": {
    "execution": {
     "iopub.execute_input": "2021-10-29T07:30:09.822621Z",
     "iopub.status.busy": "2021-10-29T07:30:09.820171Z",
     "iopub.status.idle": "2021-10-29T07:30:09.827679Z",
     "shell.execute_reply": "2021-10-29T07:30:09.825978Z"
    },
    "papermill": {
     "duration": 0.042411,
     "end_time": "2021-10-29T07:30:09.828035",
     "exception": false,
     "start_time": "2021-10-29T07:30:09.785624",
     "status": "completed"
    },
    "tags": []
   },
   "outputs": [],
   "source": [
    "df_pivot.columns = [\"stamp_1\", \"stamp_2\"]\n",
    "df_pivot_diff = df_pivot.diff(axis=1)"
   ]
  },
  {
   "cell_type": "code",
   "execution_count": 7,
   "id": "fifth-motion",
   "metadata": {
    "execution": {
     "iopub.execute_input": "2021-10-29T07:30:09.882116Z",
     "iopub.status.busy": "2021-10-29T07:30:09.879719Z",
     "iopub.status.idle": "2021-10-29T07:30:11.342155Z",
     "shell.execute_reply": "2021-10-29T07:30:11.343479Z"
    },
    "papermill": {
     "duration": 1.495295,
     "end_time": "2021-10-29T07:30:11.343897",
     "exception": false,
     "start_time": "2021-10-29T07:30:09.848602",
     "status": "completed"
    },
    "tags": []
   },
   "outputs": [
    {
     "data": {
      "text/plain": [
       "<AxesSubplot:ylabel='PRODUCT'>"
      ]
     },
     "execution_count": 7,
     "metadata": {},
     "output_type": "execute_result"
    },
    {
     "data": {
      "image/png": "[encoded data removed]",
      "text/plain": [
       "<Figure size 432x288 with 1 Axes>"
      ]
     },
     "metadata": {
      "needs_background": "light"
     },
     "output_type": "display_data"
    }
   ],
   "source": [
    "df_pivot_diff.sort_values(\"stamp_2\", ascending = False)[\"stamp_2\"].head(10).plot.barh()"
   ]
  },
  {
   "cell_type": "code",
   "execution_count": null,
   "id": "extra-executive",
   "metadata": {
    "papermill": {
     "duration": 0.022342,
     "end_time": "2021-10-29T07:30:11.390592",
     "exception": false,
     "start_time": "2021-10-29T07:30:11.368250",
     "status": "completed"
    },
    "tags": []
   },
   "outputs": [],
   "source": []
  }
 ],
 "metadata": {
  "kernelspec": {
   "display_name": "Python 3",
   "language": "python",
   "name": "python3"
  },
  "language_info": {
   "codemirror_mode": {
    "name": "ipython",
    "version": 3
   },
   "file_extension": ".py",
   "mimetype": "text/x-python",
   "name": "python",
   "nbconvert_exporter": "python",
   "pygments_lexer": "ipython3",
   "version": "3.9.5"
  },
  "papermill": {
   "default_parameters": {},
   "duration": 7.494502,
   "end_time": "2021-10-29T07:30:12.034331",
   "environment_variables": {},
   "exception": null,
   "input_path": "eBay_Overview.ipynb",
   "output_path": "eBay_Overview.ipynb",
   "parameters": {},
   "start_time": "2021-10-29T07:30:04.539829",
   "version": "2.3.3"
  }
 },
 "nbformat": 4,
 "nbformat_minor": 5
}