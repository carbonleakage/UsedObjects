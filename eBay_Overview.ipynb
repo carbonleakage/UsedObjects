{
 "cells": [
  {
   "cell_type": "code",
   "execution_count": 1,
   "id": "reverse-picking",
   "metadata": {
    "execution": {
     "iopub.execute_input": "2021-11-01T10:00:07.363294Z",
     "iopub.status.busy": "2021-11-01T10:00:07.361324Z",
     "iopub.status.idle": "2021-11-01T10:00:08.171419Z",
     "shell.execute_reply": "2021-11-01T10:00:08.169829Z"
    },
    "papermill": {
     "duration": 0.861447,
     "end_time": "2021-11-01T10:00:08.171819",
     "exception": false,
     "start_time": "2021-11-01T10:00:07.310372",
     "status": "completed"
    },
    "tags": []
   },
   "outputs": [],
   "source": [
    "import pandas as pd\n",
    "import sqlite3"
   ]
  },
  {
   "cell_type": "code",
   "execution_count": 2,
   "id": "innovative-syndrome",
   "metadata": {
    "execution": {
     "iopub.execute_input": "2021-11-01T10:00:08.225331Z",
     "iopub.status.busy": "2021-11-01T10:00:08.222908Z",
     "iopub.status.idle": "2021-11-01T10:00:08.917439Z",
     "shell.execute_reply": "2021-11-01T10:00:08.918837Z"
    },
    "papermill": {
     "duration": 0.725008,
     "end_time": "2021-11-01T10:00:08.919281",
     "exception": false,
     "start_time": "2021-11-01T10:00:08.194273",
     "status": "completed"
    },
    "tags": []
   },
   "outputs": [],
   "source": [
    "timestamps = pd.read_sql(\"select distinct record_time from EBAY_TOP_BERLIN order by record_time desc limit 2\", sqlite3.connect(\"UsedObjects.db\"))"
   ]
  },
  {
   "cell_type": "code",
   "execution_count": 3,
   "id": "periodic-identification",
   "metadata": {
    "execution": {
     "iopub.execute_input": "2021-11-01T10:00:08.998323Z",
     "iopub.status.busy": "2021-11-01T10:00:08.996226Z",
     "iopub.status.idle": "2021-11-01T10:00:09.016770Z",
     "shell.execute_reply": "2021-11-01T10:00:09.018128Z"
    },
    "papermill": {
     "duration": 0.070809,
     "end_time": "2021-11-01T10:00:09.018599",
     "exception": false,
     "start_time": "2021-11-01T10:00:08.947790",
     "status": "completed"
    },
    "tags": []
   },
   "outputs": [
    {
     "data": {
      "text/html": [
       "<div>\n",
       "<style scoped>\n",
       "    .dataframe tbody tr th:only-of-type {\n",
       "        vertical-align: middle;\n",
       "    }\n",
       "\n",
       "    .dataframe tbody tr th {\n",
       "        vertical-align: top;\n",
       "    }\n",
       "\n",
       "    .dataframe thead th {\n",
       "        text-align: right;\n",
       "    }\n",
       "</style>\n",
       "<table border=\"1\" class=\"dataframe\">\n",
       "  <thead>\n",
       "    <tr style=\"text-align: right;\">\n",
       "      <th></th>\n",
       "      <th>RECORD_TIME</th>\n",
       "    </tr>\n",
       "  </thead>\n",
       "  <tbody>\n",
       "    <tr>\n",
       "      <th>0</th>\n",
       "      <td>2021-11-01 11:00</td>\n",
       "    </tr>\n",
       "    <tr>\n",
       "      <th>1</th>\n",
       "      <td>2021-11-01 10:30</td>\n",
       "    </tr>\n",
       "  </tbody>\n",
       "</table>\n",
       "</div>"
      ],
      "text/plain": [
       "        RECORD_TIME\n",
       "0  2021-11-01 11:00\n",
       "1  2021-11-01 10:30"
      ]
     },
     "execution_count": 3,
     "metadata": {},
     "output_type": "execute_result"
    }
   ],
   "source": [
    "timestamps"
   ]
  },
  {
   "cell_type": "code",
   "execution_count": 4,
   "id": "alternate-victory",
   "metadata": {
    "execution": {
     "iopub.execute_input": "2021-11-01T10:00:09.071225Z",
     "iopub.status.busy": "2021-11-01T10:00:09.068935Z",
     "iopub.status.idle": "2021-11-01T10:00:10.085430Z",
     "shell.execute_reply": "2021-11-01T10:00:10.086837Z"
    },
    "papermill": {
     "duration": 1.047627,
     "end_time": "2021-11-01T10:00:10.087276",
     "exception": false,
     "start_time": "2021-11-01T10:00:09.039649",
     "status": "completed"
    },
    "tags": []
   },
   "outputs": [],
   "source": [
    "df = pd.read_sql(\"select * from EBAY_TOP_BERLIN where record_time in (select distinct record_time from EBAY_TOP_BERLIN order by record_time desc limit 2)\", sqlite3.connect(\"UsedObjects.db\"))"
   ]
  },
  {
   "cell_type": "code",
   "execution_count": 5,
   "id": "popular-active",
   "metadata": {
    "execution": {
     "iopub.execute_input": "2021-11-01T10:00:10.158289Z",
     "iopub.status.busy": "2021-11-01T10:00:10.146646Z",
     "iopub.status.idle": "2021-11-01T10:00:10.174072Z",
     "shell.execute_reply": "2021-11-01T10:00:10.175296Z"
    },
    "papermill": {
     "duration": 0.067085,
     "end_time": "2021-11-01T10:00:10.175696",
     "exception": false,
     "start_time": "2021-11-01T10:00:10.108611",
     "status": "completed"
    },
    "tags": []
   },
   "outputs": [],
   "source": [
    "df_pivot = df.pivot_table(index=\"PRODUCT\", columns = \"RECORD_TIME\", values = \"LISTING_COUNT\")"
   ]
  },
  {
   "cell_type": "code",
   "execution_count": 6,
   "id": "union-huntington",
   "metadata": {
    "execution": {
     "iopub.execute_input": "2021-11-01T10:00:10.236664Z",
     "iopub.status.busy": "2021-11-01T10:00:10.234241Z",
     "iopub.status.idle": "2021-11-01T10:00:10.240248Z",
     "shell.execute_reply": "2021-11-01T10:00:10.241525Z"
    },
    "papermill": {
     "duration": 0.042722,
     "end_time": "2021-11-01T10:00:10.241974",
     "exception": false,
     "start_time": "2021-11-01T10:00:10.199252",
     "status": "completed"
    },
    "tags": []
   },
   "outputs": [],
   "source": [
    "df_pivot.columns = [\"stamp_1\", \"stamp_2\"]\n",
    "df_pivot_diff = df_pivot.diff(axis=1)"
   ]
  },
  {
   "cell_type": "code",
   "execution_count": 7,
   "id": "fifth-motion",
   "metadata": {
    "execution": {
     "iopub.execute_input": "2021-11-01T10:00:10.296177Z",
     "iopub.status.busy": "2021-11-01T10:00:10.293978Z",
     "iopub.status.idle": "2021-11-01T10:00:11.804854Z",
     "shell.execute_reply": "2021-11-01T10:00:11.806326Z"
    },
    "papermill": {
     "duration": 1.543896,
     "end_time": "2021-11-01T10:00:11.806776",
     "exception": false,
     "start_time": "2021-11-01T10:00:10.262880",
     "status": "completed"
    },
    "tags": []
   },
   "outputs": [
    {
     "data": {
      "text/plain": [
       "<AxesSubplot:ylabel='PRODUCT'>"
      ]
     },
     "execution_count": 7,
     "metadata": {},
     "output_type": "execute_result"
    },
    {
     "data": {
      "image/png": "[encoded data removed]",
      "text/plain": [
       "<Figure size 432x288 with 1 Axes>"
      ]
     },
     "metadata": {
      "needs_background": "light"
     },
     "output_type": "display_data"
    }
   ],
   "source": [
    "df_pivot_diff.sort_values(\"stamp_2\", ascending = False)[\"stamp_2\"].head(10).plot.barh()"
   ]
  },
  {
   "cell_type": "code",
   "execution_count": null,
   "id": "extra-executive",
   "metadata": {
    "papermill": {
     "duration": 0.022573,
     "end_time": "2021-11-01T10:00:11.854278",
     "exception": false,
     "start_time": "2021-11-01T10:00:11.831705",
     "status": "completed"
    },
    "tags": []
   },
   "outputs": [],
   "source": []
  }
 ],
 "metadata": {
  "kernelspec": {
   "display_name": "Python 3",
   "language": "python",
   "name": "python3"
  },
  "language_info": {
   "codemirror_mode": {
    "name": "ipython",
    "version": 3
   },
   "file_extension": ".py",
   "mimetype": "text/x-python",
   "name": "python",
   "nbconvert_exporter": "python",
   "pygments_lexer": "ipython3",
   "version": "3.9.5"
  },
  "papermill": {
   "default_parameters": {},
   "duration": 7.614567,
   "end_time": "2021-11-01T10:00:12.498260",
   "environment_variables": {},
   "exception": null,
   "input_path": "eBay_Overview.ipynb",
   "output_path": "eBay_Overview.ipynb",
   "parameters": {},
   "start_time": "2021-11-01T10:00:04.883693",
   "version": "2.3.3"
  }
 },
 "nbformat": 4,
 "nbformat_minor": 5
}