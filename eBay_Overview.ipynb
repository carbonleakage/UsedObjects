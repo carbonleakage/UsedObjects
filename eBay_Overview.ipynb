{
 "cells": [
  {
   "cell_type": "code",
   "execution_count": 1,
   "id": "reverse-picking",
   "metadata": {
    "execution": {
     "iopub.execute_input": "2021-09-01T00:30:06.757806Z",
     "iopub.status.busy": "2021-09-01T00:30:06.755907Z",
     "iopub.status.idle": "2021-09-01T00:30:07.560545Z",
     "shell.execute_reply": "2021-09-01T00:30:07.561770Z"
    },
    "papermill": {
     "duration": 0.8554,
     "end_time": "2021-09-01T00:30:07.562387",
     "exception": false,
     "start_time": "2021-09-01T00:30:06.706987",
     "status": "completed"
    },
    "tags": []
   },
   "outputs": [],
   "source": [
    "import pandas as pd\n",
    "import sqlite3"
   ]
  },
  {
   "cell_type": "code",
   "execution_count": 2,
   "id": "innovative-syndrome",
   "metadata": {
    "execution": {
     "iopub.execute_input": "2021-09-01T00:30:07.613486Z",
     "iopub.status.busy": "2021-09-01T00:30:07.611650Z",
     "iopub.status.idle": "2021-09-01T00:30:07.785201Z",
     "shell.execute_reply": "2021-09-01T00:30:07.787579Z"
    },
    "papermill": {
     "duration": 0.204212,
     "end_time": "2021-09-01T00:30:07.788030",
     "exception": false,
     "start_time": "2021-09-01T00:30:07.583818",
     "status": "completed"
    },
    "tags": []
   },
   "outputs": [],
   "source": [
    "timestamps = pd.read_sql(\"select distinct record_time from EBAY_TOP_BERLIN order by record_time desc limit 2\", sqlite3.connect(\"UsedObjects.db\"))"
   ]
  },
  {
   "cell_type": "code",
   "execution_count": 3,
   "id": "periodic-identification",
   "metadata": {
    "execution": {
     "iopub.execute_input": "2021-09-01T00:30:07.853423Z",
     "iopub.status.busy": "2021-09-01T00:30:07.851443Z",
     "iopub.status.idle": "2021-09-01T00:30:07.870986Z",
     "shell.execute_reply": "2021-09-01T00:30:07.872115Z"
    },
    "papermill": {
     "duration": 0.06393,
     "end_time": "2021-09-01T00:30:07.872525",
     "exception": false,
     "start_time": "2021-09-01T00:30:07.808595",
     "status": "completed"
    },
    "tags": []
   },
   "outputs": [
    {
     "data": {
      "text/html": [
       "<div>\n",
       "<style scoped>\n",
       "    .dataframe tbody tr th:only-of-type {\n",
       "        vertical-align: middle;\n",
       "    }\n",
       "\n",
       "    .dataframe tbody tr th {\n",
       "        vertical-align: top;\n",
       "    }\n",
       "\n",
       "    .dataframe thead th {\n",
       "        text-align: right;\n",
       "    }\n",
       "</style>\n",
       "<table border=\"1\" class=\"dataframe\">\n",
       "  <thead>\n",
       "    <tr style=\"text-align: right;\">\n",
       "      <th></th>\n",
       "      <th>RECORD_TIME</th>\n",
       "    </tr>\n",
       "  </thead>\n",
       "  <tbody>\n",
       "    <tr>\n",
       "      <th>0</th>\n",
       "      <td>2021-09-01 02:30</td>\n",
       "    </tr>\n",
       "    <tr>\n",
       "      <th>1</th>\n",
       "      <td>2021-09-01 02:00</td>\n",
       "    </tr>\n",
       "  </tbody>\n",
       "</table>\n",
       "</div>"
      ],
      "text/plain": [
       "        RECORD_TIME\n",
       "0  2021-09-01 02:30\n",
       "1  2021-09-01 02:00"
      ]
     },
     "execution_count": 3,
     "metadata": {},
     "output_type": "execute_result"
    }
   ],
   "source": [
    "timestamps"
   ]
  },
  {
   "cell_type": "code",
   "execution_count": 4,
   "id": "alternate-victory",
   "metadata": {
    "execution": {
     "iopub.execute_input": "2021-09-01T00:30:07.925941Z",
     "iopub.status.busy": "2021-09-01T00:30:07.923692Z",
     "iopub.status.idle": "2021-09-01T00:30:08.184452Z",
     "shell.execute_reply": "2021-09-01T00:30:08.185673Z"
    },
    "papermill": {
     "duration": 0.290999,
     "end_time": "2021-09-01T00:30:08.186069",
     "exception": false,
     "start_time": "2021-09-01T00:30:07.895070",
     "status": "completed"
    },
    "tags": []
   },
   "outputs": [],
   "source": [
    "df = pd.read_sql(\"select * from EBAY_TOP_BERLIN where record_time in (select distinct record_time from EBAY_TOP_BERLIN order by record_time desc limit 2)\", sqlite3.connect(\"UsedObjects.db\"))"
   ]
  },
  {
   "cell_type": "code",
   "execution_count": 5,
   "id": "popular-active",
   "metadata": {
    "execution": {
     "iopub.execute_input": "2021-09-01T00:30:08.270129Z",
     "iopub.status.busy": "2021-09-01T00:30:08.256925Z",
     "iopub.status.idle": "2021-09-01T00:30:08.286631Z",
     "shell.execute_reply": "2021-09-01T00:30:08.287969Z"
    },
    "papermill": {
     "duration": 0.073042,
     "end_time": "2021-09-01T00:30:08.288388",
     "exception": false,
     "start_time": "2021-09-01T00:30:08.215346",
     "status": "completed"
    },
    "tags": []
   },
   "outputs": [],
   "source": [
    "df_pivot = df.pivot_table(index=\"PRODUCT\", columns = \"RECORD_TIME\", values = \"LISTING_COUNT\")"
   ]
  },
  {
   "cell_type": "code",
   "execution_count": 6,
   "id": "union-huntington",
   "metadata": {
    "execution": {
     "iopub.execute_input": "2021-09-01T00:30:08.344300Z",
     "iopub.status.busy": "2021-09-01T00:30:08.342230Z",
     "iopub.status.idle": "2021-09-01T00:30:08.347597Z",
     "shell.execute_reply": "2021-09-01T00:30:08.348925Z"
    },
    "papermill": {
     "duration": 0.040727,
     "end_time": "2021-09-01T00:30:08.349347",
     "exception": false,
     "start_time": "2021-09-01T00:30:08.308620",
     "status": "completed"
    },
    "tags": []
   },
   "outputs": [],
   "source": [
    "df_pivot.columns = [\"stamp_1\", \"stamp_2\"]\n",
    "df_pivot_diff = df_pivot.diff(axis=1)"
   ]
  },
  {
   "cell_type": "code",
   "execution_count": 7,
   "id": "fifth-motion",
   "metadata": {
    "execution": {
     "iopub.execute_input": "2021-09-01T00:30:08.404071Z",
     "iopub.status.busy": "2021-09-01T00:30:08.401519Z",
     "iopub.status.idle": "2021-09-01T00:30:09.908536Z",
     "shell.execute_reply": "2021-09-01T00:30:09.909788Z"
    },
    "papermill": {
     "duration": 1.539808,
     "end_time": "2021-09-01T00:30:09.910200",
     "exception": false,
     "start_time": "2021-09-01T00:30:08.370392",
     "status": "completed"
    },
    "tags": []
   },
   "outputs": [
    {
     "data": {
      "text/plain": [
       "<AxesSubplot:ylabel='PRODUCT'>"
      ]
     },
     "execution_count": 7,
     "metadata": {},
     "output_type": "execute_result"
    },
    {
     "data": {
      "image/png": "[encoded data removed]",
      "text/plain": [
       "<Figure size 432x288 with 1 Axes>"
      ]
     },
     "metadata": {
      "needs_background": "light"
     },
     "output_type": "display_data"
    }
   ],
   "source": [
    "df_pivot_diff.sort_values(\"stamp_2\", ascending = False)[\"stamp_2\"].head(10).plot.barh()"
   ]
  },
  {
   "cell_type": "code",
   "execution_count": null,
   "id": "extra-executive",
   "metadata": {
    "papermill": {
     "duration": 0.022195,
     "end_time": "2021-09-01T00:30:09.956897",
     "exception": false,
     "start_time": "2021-09-01T00:30:09.934702",
     "status": "completed"
    },
    "tags": []
   },
   "outputs": [],
   "source": []
  }
 ],
 "metadata": {
  "kernelspec": {
   "display_name": "Python 3",
   "language": "python",
   "name": "python3"
  },
  "language_info": {
   "codemirror_mode": {
    "name": "ipython",
    "version": 3
   },
   "file_extension": ".py",
   "mimetype": "text/x-python",
   "name": "python",
   "nbconvert_exporter": "python",
   "pygments_lexer": "ipython3",
   "version": "3.9.5"
  },
  "papermill": {
   "default_parameters": {},
   "duration": 6.822991,
   "end_time": "2021-09-01T00:30:11.127340",
   "environment_variables": {},
   "exception": null,
   "input_path": "eBay_Overview.ipynb",
   "output_path": "eBay_Overview.ipynb",
   "parameters": {},
   "start_time": "2021-09-01T00:30:04.304349",
   "version": "2.3.3"
  }
 },
 "nbformat": 4,
 "nbformat_minor": 5
}