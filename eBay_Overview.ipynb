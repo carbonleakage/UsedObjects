{
 "cells": [
  {
   "cell_type": "code",
   "execution_count": 1,
   "id": "reverse-picking",
   "metadata": {
    "execution": {
     "iopub.execute_input": "2021-10-13T17:30:07.366809Z",
     "iopub.status.busy": "2021-10-13T17:30:07.364857Z",
     "iopub.status.idle": "2021-10-13T17:30:08.165243Z",
     "shell.execute_reply": "2021-10-13T17:30:08.166663Z"
    },
    "papermill": {
     "duration": 0.853252,
     "end_time": "2021-10-13T17:30:08.167338",
     "exception": false,
     "start_time": "2021-10-13T17:30:07.314086",
     "status": "completed"
    },
    "tags": []
   },
   "outputs": [],
   "source": [
    "import pandas as pd\n",
    "import sqlite3"
   ]
  },
  {
   "cell_type": "code",
   "execution_count": 2,
   "id": "innovative-syndrome",
   "metadata": {
    "execution": {
     "iopub.execute_input": "2021-10-13T17:30:08.217928Z",
     "iopub.status.busy": "2021-10-13T17:30:08.215543Z",
     "iopub.status.idle": "2021-10-13T17:30:08.734088Z",
     "shell.execute_reply": "2021-10-13T17:30:08.735189Z"
    },
    "papermill": {
     "duration": 0.548084,
     "end_time": "2021-10-13T17:30:08.735590",
     "exception": false,
     "start_time": "2021-10-13T17:30:08.187506",
     "status": "completed"
    },
    "tags": []
   },
   "outputs": [],
   "source": [
    "timestamps = pd.read_sql(\"select distinct record_time from EBAY_TOP_BERLIN order by record_time desc limit 2\", sqlite3.connect(\"UsedObjects.db\"))"
   ]
  },
  {
   "cell_type": "code",
   "execution_count": 3,
   "id": "periodic-identification",
   "metadata": {
    "execution": {
     "iopub.execute_input": "2021-10-13T17:30:08.801307Z",
     "iopub.status.busy": "2021-10-13T17:30:08.799349Z",
     "iopub.status.idle": "2021-10-13T17:30:08.822451Z",
     "shell.execute_reply": "2021-10-13T17:30:08.823567Z"
    },
    "papermill": {
     "duration": 0.06705,
     "end_time": "2021-10-13T17:30:08.823977",
     "exception": false,
     "start_time": "2021-10-13T17:30:08.756927",
     "status": "completed"
    },
    "tags": []
   },
   "outputs": [
    {
     "data": {
      "text/html": [
       "<div>\n",
       "<style scoped>\n",
       "    .dataframe tbody tr th:only-of-type {\n",
       "        vertical-align: middle;\n",
       "    }\n",
       "\n",
       "    .dataframe tbody tr th {\n",
       "        vertical-align: top;\n",
       "    }\n",
       "\n",
       "    .dataframe thead th {\n",
       "        text-align: right;\n",
       "    }\n",
       "</style>\n",
       "<table border=\"1\" class=\"dataframe\">\n",
       "  <thead>\n",
       "    <tr style=\"text-align: right;\">\n",
       "      <th></th>\n",
       "      <th>RECORD_TIME</th>\n",
       "    </tr>\n",
       "  </thead>\n",
       "  <tbody>\n",
       "    <tr>\n",
       "      <th>0</th>\n",
       "      <td>2021-10-13 19:30</td>\n",
       "    </tr>\n",
       "    <tr>\n",
       "      <th>1</th>\n",
       "      <td>2021-10-13 19:00</td>\n",
       "    </tr>\n",
       "  </tbody>\n",
       "</table>\n",
       "</div>"
      ],
      "text/plain": [
       "        RECORD_TIME\n",
       "0  2021-10-13 19:30\n",
       "1  2021-10-13 19:00"
      ]
     },
     "execution_count": 3,
     "metadata": {},
     "output_type": "execute_result"
    }
   ],
   "source": [
    "timestamps"
   ]
  },
  {
   "cell_type": "code",
   "execution_count": 4,
   "id": "alternate-victory",
   "metadata": {
    "execution": {
     "iopub.execute_input": "2021-10-13T17:30:08.881312Z",
     "iopub.status.busy": "2021-10-13T17:30:08.879286Z",
     "iopub.status.idle": "2021-10-13T17:30:09.631878Z",
     "shell.execute_reply": "2021-10-13T17:30:09.633828Z"
    },
    "papermill": {
     "duration": 0.786101,
     "end_time": "2021-10-13T17:30:09.634268",
     "exception": false,
     "start_time": "2021-10-13T17:30:08.848167",
     "status": "completed"
    },
    "tags": []
   },
   "outputs": [],
   "source": [
    "df = pd.read_sql(\"select * from EBAY_TOP_BERLIN where record_time in (select distinct record_time from EBAY_TOP_BERLIN order by record_time desc limit 2)\", sqlite3.connect(\"UsedObjects.db\"))"
   ]
  },
  {
   "cell_type": "code",
   "execution_count": 5,
   "id": "popular-active",
   "metadata": {
    "execution": {
     "iopub.execute_input": "2021-10-13T17:30:09.705945Z",
     "iopub.status.busy": "2021-10-13T17:30:09.693226Z",
     "iopub.status.idle": "2021-10-13T17:30:09.721130Z",
     "shell.execute_reply": "2021-10-13T17:30:09.722352Z"
    },
    "papermill": {
     "duration": 0.066961,
     "end_time": "2021-10-13T17:30:09.722744",
     "exception": false,
     "start_time": "2021-10-13T17:30:09.655783",
     "status": "completed"
    },
    "tags": []
   },
   "outputs": [],
   "source": [
    "df_pivot = df.pivot_table(index=\"PRODUCT\", columns = \"RECORD_TIME\", values = \"LISTING_COUNT\")"
   ]
  },
  {
   "cell_type": "code",
   "execution_count": 6,
   "id": "union-huntington",
   "metadata": {
    "execution": {
     "iopub.execute_input": "2021-10-13T17:30:09.779013Z",
     "iopub.status.busy": "2021-10-13T17:30:09.776975Z",
     "iopub.status.idle": "2021-10-13T17:30:09.782105Z",
     "shell.execute_reply": "2021-10-13T17:30:09.783277Z"
    },
    "papermill": {
     "duration": 0.040587,
     "end_time": "2021-10-13T17:30:09.783704",
     "exception": false,
     "start_time": "2021-10-13T17:30:09.743117",
     "status": "completed"
    },
    "tags": []
   },
   "outputs": [],
   "source": [
    "df_pivot.columns = [\"stamp_1\", \"stamp_2\"]\n",
    "df_pivot_diff = df_pivot.diff(axis=1)"
   ]
  },
  {
   "cell_type": "code",
   "execution_count": 7,
   "id": "fifth-motion",
   "metadata": {
    "execution": {
     "iopub.execute_input": "2021-10-13T17:30:09.837366Z",
     "iopub.status.busy": "2021-10-13T17:30:09.834809Z",
     "iopub.status.idle": "2021-10-13T17:30:11.366731Z",
     "shell.execute_reply": "2021-10-13T17:30:11.368168Z"
    },
    "papermill": {
     "duration": 1.564771,
     "end_time": "2021-10-13T17:30:11.368632",
     "exception": false,
     "start_time": "2021-10-13T17:30:09.803861",
     "status": "completed"
    },
    "tags": []
   },
   "outputs": [
    {
     "data": {
      "text/plain": [
       "<AxesSubplot:ylabel='PRODUCT'>"
      ]
     },
     "execution_count": 7,
     "metadata": {},
     "output_type": "execute_result"
    },
    {
     "data": {
      "image/png": "[encoded data removed]",
      "text/plain": [
       "<Figure size 432x288 with 1 Axes>"
      ]
     },
     "metadata": {
      "needs_background": "light"
     },
     "output_type": "display_data"
    }
   ],
   "source": [
    "df_pivot_diff.sort_values(\"stamp_2\", ascending = False)[\"stamp_2\"].head(10).plot.barh()"
   ]
  },
  {
   "cell_type": "code",
   "execution_count": null,
   "id": "extra-executive",
   "metadata": {
    "papermill": {
     "duration": 0.022038,
     "end_time": "2021-10-13T17:30:11.415213",
     "exception": false,
     "start_time": "2021-10-13T17:30:11.393175",
     "status": "completed"
    },
    "tags": []
   },
   "outputs": [],
   "source": []
  }
 ],
 "metadata": {
  "kernelspec": {
   "display_name": "Python 3",
   "language": "python",
   "name": "python3"
  },
  "language_info": {
   "codemirror_mode": {
    "name": "ipython",
    "version": 3
   },
   "file_extension": ".py",
   "mimetype": "text/x-python",
   "name": "python",
   "nbconvert_exporter": "python",
   "pygments_lexer": "ipython3",
   "version": "3.9.5"
  },
  "papermill": {
   "default_parameters": {},
   "duration": 7.832327,
   "end_time": "2021-10-13T17:30:12.762334",
   "environment_variables": {},
   "exception": null,
   "input_path": "eBay_Overview.ipynb",
   "output_path": "eBay_Overview.ipynb",
   "parameters": {},
   "start_time": "2021-10-13T17:30:04.930007",
   "version": "2.3.3"
  }
 },
 "nbformat": 4,
 "nbformat_minor": 5
}