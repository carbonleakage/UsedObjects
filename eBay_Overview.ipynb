{
 "cells": [
  {
   "cell_type": "code",
   "execution_count": 1,
   "id": "reverse-picking",
   "metadata": {
    "execution": {
     "iopub.execute_input": "2021-09-06T08:00:08.224644Z",
     "iopub.status.busy": "2021-09-06T08:00:08.222637Z",
     "iopub.status.idle": "2021-09-06T08:00:09.028586Z",
     "shell.execute_reply": "2021-09-06T08:00:09.029826Z"
    },
    "papermill": {
     "duration": 0.85587,
     "end_time": "2021-09-06T08:00:09.030454",
     "exception": false,
     "start_time": "2021-09-06T08:00:08.174584",
     "status": "completed"
    },
    "tags": []
   },
   "outputs": [],
   "source": [
    "import pandas as pd\n",
    "import sqlite3"
   ]
  },
  {
   "cell_type": "code",
   "execution_count": 2,
   "id": "innovative-syndrome",
   "metadata": {
    "execution": {
     "iopub.execute_input": "2021-09-06T08:00:09.083366Z",
     "iopub.status.busy": "2021-09-06T08:00:09.080967Z",
     "iopub.status.idle": "2021-09-06T08:00:09.303130Z",
     "shell.execute_reply": "2021-09-06T08:00:09.304494Z"
    },
    "papermill": {
     "duration": 0.25213,
     "end_time": "2021-09-06T08:00:09.304908",
     "exception": false,
     "start_time": "2021-09-06T08:00:09.052778",
     "status": "completed"
    },
    "tags": []
   },
   "outputs": [],
   "source": [
    "timestamps = pd.read_sql(\"select distinct record_time from EBAY_TOP_BERLIN order by record_time desc limit 2\", sqlite3.connect(\"UsedObjects.db\"))"
   ]
  },
  {
   "cell_type": "code",
   "execution_count": 3,
   "id": "periodic-identification",
   "metadata": {
    "execution": {
     "iopub.execute_input": "2021-09-06T08:00:09.368386Z",
     "iopub.status.busy": "2021-09-06T08:00:09.366180Z",
     "iopub.status.idle": "2021-09-06T08:00:09.389215Z",
     "shell.execute_reply": "2021-09-06T08:00:09.390427Z"
    },
    "papermill": {
     "duration": 0.066644,
     "end_time": "2021-09-06T08:00:09.390826",
     "exception": false,
     "start_time": "2021-09-06T08:00:09.324182",
     "status": "completed"
    },
    "tags": []
   },
   "outputs": [
    {
     "data": {
      "text/html": [
       "<div>\n",
       "<style scoped>\n",
       "    .dataframe tbody tr th:only-of-type {\n",
       "        vertical-align: middle;\n",
       "    }\n",
       "\n",
       "    .dataframe tbody tr th {\n",
       "        vertical-align: top;\n",
       "    }\n",
       "\n",
       "    .dataframe thead th {\n",
       "        text-align: right;\n",
       "    }\n",
       "</style>\n",
       "<table border=\"1\" class=\"dataframe\">\n",
       "  <thead>\n",
       "    <tr style=\"text-align: right;\">\n",
       "      <th></th>\n",
       "      <th>RECORD_TIME</th>\n",
       "    </tr>\n",
       "  </thead>\n",
       "  <tbody>\n",
       "    <tr>\n",
       "      <th>0</th>\n",
       "      <td>2021-09-06 10:00</td>\n",
       "    </tr>\n",
       "    <tr>\n",
       "      <th>1</th>\n",
       "      <td>2021-09-06 09:30</td>\n",
       "    </tr>\n",
       "  </tbody>\n",
       "</table>\n",
       "</div>"
      ],
      "text/plain": [
       "        RECORD_TIME\n",
       "0  2021-09-06 10:00\n",
       "1  2021-09-06 09:30"
      ]
     },
     "execution_count": 3,
     "metadata": {},
     "output_type": "execute_result"
    }
   ],
   "source": [
    "timestamps"
   ]
  },
  {
   "cell_type": "code",
   "execution_count": 4,
   "id": "alternate-victory",
   "metadata": {
    "execution": {
     "iopub.execute_input": "2021-09-06T08:00:09.443365Z",
     "iopub.status.busy": "2021-09-06T08:00:09.441019Z",
     "iopub.status.idle": "2021-09-06T08:00:09.769536Z",
     "shell.execute_reply": "2021-09-06T08:00:09.770750Z"
    },
    "papermill": {
     "duration": 0.358746,
     "end_time": "2021-09-06T08:00:09.771244",
     "exception": false,
     "start_time": "2021-09-06T08:00:09.412498",
     "status": "completed"
    },
    "tags": []
   },
   "outputs": [],
   "source": [
    "df = pd.read_sql(\"select * from EBAY_TOP_BERLIN where record_time in (select distinct record_time from EBAY_TOP_BERLIN order by record_time desc limit 2)\", sqlite3.connect(\"UsedObjects.db\"))"
   ]
  },
  {
   "cell_type": "code",
   "execution_count": 5,
   "id": "popular-active",
   "metadata": {
    "execution": {
     "iopub.execute_input": "2021-09-06T08:00:09.850772Z",
     "iopub.status.busy": "2021-09-06T08:00:09.843966Z",
     "iopub.status.idle": "2021-09-06T08:00:09.866120Z",
     "shell.execute_reply": "2021-09-06T08:00:09.867564Z"
    },
    "papermill": {
     "duration": 0.071033,
     "end_time": "2021-09-06T08:00:09.867992",
     "exception": false,
     "start_time": "2021-09-06T08:00:09.796959",
     "status": "completed"
    },
    "tags": []
   },
   "outputs": [],
   "source": [
    "df_pivot = df.pivot_table(index=\"PRODUCT\", columns = \"RECORD_TIME\", values = \"LISTING_COUNT\")"
   ]
  },
  {
   "cell_type": "code",
   "execution_count": 6,
   "id": "union-huntington",
   "metadata": {
    "execution": {
     "iopub.execute_input": "2021-09-06T08:00:09.924141Z",
     "iopub.status.busy": "2021-09-06T08:00:09.921998Z",
     "iopub.status.idle": "2021-09-06T08:00:09.927243Z",
     "shell.execute_reply": "2021-09-06T08:00:09.928544Z"
    },
    "papermill": {
     "duration": 0.039877,
     "end_time": "2021-09-06T08:00:09.928967",
     "exception": false,
     "start_time": "2021-09-06T08:00:09.889090",
     "status": "completed"
    },
    "tags": []
   },
   "outputs": [],
   "source": [
    "df_pivot.columns = [\"stamp_1\", \"stamp_2\"]\n",
    "df_pivot_diff = df_pivot.diff(axis=1)"
   ]
  },
  {
   "cell_type": "code",
   "execution_count": 7,
   "id": "fifth-motion",
   "metadata": {
    "execution": {
     "iopub.execute_input": "2021-09-06T08:00:09.984326Z",
     "iopub.status.busy": "2021-09-06T08:00:09.980105Z",
     "iopub.status.idle": "2021-09-06T08:00:11.453400Z",
     "shell.execute_reply": "2021-09-06T08:00:11.454696Z"
    },
    "papermill": {
     "duration": 1.506081,
     "end_time": "2021-09-06T08:00:11.455200",
     "exception": false,
     "start_time": "2021-09-06T08:00:09.949119",
     "status": "completed"
    },
    "tags": []
   },
   "outputs": [
    {
     "data": {
      "text/plain": [
       "<AxesSubplot:ylabel='PRODUCT'>"
      ]
     },
     "execution_count": 7,
     "metadata": {},
     "output_type": "execute_result"
    },
    {
     "data": {
      "image/png": "[encoded data removed]",
      "text/plain": [
       "<Figure size 432x288 with 1 Axes>"
      ]
     },
     "metadata": {
      "needs_background": "light"
     },
     "output_type": "display_data"
    }
   ],
   "source": [
    "df_pivot_diff.sort_values(\"stamp_2\", ascending = False)[\"stamp_2\"].head(10).plot.barh()"
   ]
  },
  {
   "cell_type": "code",
   "execution_count": null,
   "id": "extra-executive",
   "metadata": {
    "papermill": {
     "duration": 0.022078,
     "end_time": "2021-09-06T08:00:11.501297",
     "exception": false,
     "start_time": "2021-09-06T08:00:11.479219",
     "status": "completed"
    },
    "tags": []
   },
   "outputs": [],
   "source": []
  }
 ],
 "metadata": {
  "kernelspec": {
   "display_name": "Python 3",
   "language": "python",
   "name": "python3"
  },
  "language_info": {
   "codemirror_mode": {
    "name": "ipython",
    "version": 3
   },
   "file_extension": ".py",
   "mimetype": "text/x-python",
   "name": "python",
   "nbconvert_exporter": "python",
   "pygments_lexer": "ipython3",
   "version": "3.9.5"
  },
  "papermill": {
   "default_parameters": {},
   "duration": 6.375797,
   "end_time": "2021-09-06T08:00:12.144935",
   "environment_variables": {},
   "exception": null,
   "input_path": "eBay_Overview.ipynb",
   "output_path": "eBay_Overview.ipynb",
   "parameters": {},
   "start_time": "2021-09-06T08:00:05.769138",
   "version": "2.3.3"
  }
 },
 "nbformat": 4,
 "nbformat_minor": 5
}