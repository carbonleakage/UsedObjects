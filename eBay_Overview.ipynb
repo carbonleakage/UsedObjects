{
 "cells": [
  {
   "cell_type": "code",
   "execution_count": 1,
   "id": "reverse-picking",
   "metadata": {
    "execution": {
     "iopub.execute_input": "2021-12-01T19:00:08.319198Z",
     "iopub.status.busy": "2021-12-01T19:00:08.316904Z",
     "iopub.status.idle": "2021-12-01T19:00:09.278377Z",
     "shell.execute_reply": "2021-12-01T19:00:09.279761Z"
    },
    "papermill": {
     "duration": 1.011781,
     "end_time": "2021-12-01T19:00:09.280499",
     "exception": false,
     "start_time": "2021-12-01T19:00:08.268718",
     "status": "completed"
    },
    "tags": []
   },
   "outputs": [],
   "source": [
    "import pandas as pd\n",
    "import sqlite3"
   ]
  },
  {
   "cell_type": "code",
   "execution_count": 2,
   "id": "innovative-syndrome",
   "metadata": {
    "execution": {
     "iopub.execute_input": "2021-12-01T19:00:09.344879Z",
     "iopub.status.busy": "2021-12-01T19:00:09.342425Z",
     "iopub.status.idle": "2021-12-01T19:00:10.297511Z",
     "shell.execute_reply": "2021-12-01T19:00:10.298969Z"
    },
    "papermill": {
     "duration": 0.989164,
     "end_time": "2021-12-01T19:00:10.299428",
     "exception": false,
     "start_time": "2021-12-01T19:00:09.310264",
     "status": "completed"
    },
    "tags": []
   },
   "outputs": [],
   "source": [
    "timestamps = pd.read_sql(\"select distinct record_time from EBAY_TOP_BERLIN order by record_time desc limit 2\", sqlite3.connect(\"UsedObjects.db\"))"
   ]
  },
  {
   "cell_type": "code",
   "execution_count": 3,
   "id": "periodic-identification",
   "metadata": {
    "execution": {
     "iopub.execute_input": "2021-12-01T19:00:10.371379Z",
     "iopub.status.busy": "2021-12-01T19:00:10.369141Z",
     "iopub.status.idle": "2021-12-01T19:00:10.391570Z",
     "shell.execute_reply": "2021-12-01T19:00:10.393144Z"
    },
    "papermill": {
     "duration": 0.073325,
     "end_time": "2021-12-01T19:00:10.393630",
     "exception": false,
     "start_time": "2021-12-01T19:00:10.320305",
     "status": "completed"
    },
    "tags": []
   },
   "outputs": [
    {
     "data": {
      "text/html": [
       "<div>\n",
       "<style scoped>\n",
       "    .dataframe tbody tr th:only-of-type {\n",
       "        vertical-align: middle;\n",
       "    }\n",
       "\n",
       "    .dataframe tbody tr th {\n",
       "        vertical-align: top;\n",
       "    }\n",
       "\n",
       "    .dataframe thead th {\n",
       "        text-align: right;\n",
       "    }\n",
       "</style>\n",
       "<table border=\"1\" class=\"dataframe\">\n",
       "  <thead>\n",
       "    <tr style=\"text-align: right;\">\n",
       "      <th></th>\n",
       "      <th>RECORD_TIME</th>\n",
       "    </tr>\n",
       "  </thead>\n",
       "  <tbody>\n",
       "    <tr>\n",
       "      <th>0</th>\n",
       "      <td>2021-12-01 20:00</td>\n",
       "    </tr>\n",
       "    <tr>\n",
       "      <th>1</th>\n",
       "      <td>2021-12-01 19:30</td>\n",
       "    </tr>\n",
       "  </tbody>\n",
       "</table>\n",
       "</div>"
      ],
      "text/plain": [
       "        RECORD_TIME\n",
       "0  2021-12-01 20:00\n",
       "1  2021-12-01 19:30"
      ]
     },
     "execution_count": 3,
     "metadata": {},
     "output_type": "execute_result"
    }
   ],
   "source": [
    "timestamps"
   ]
  },
  {
   "cell_type": "code",
   "execution_count": 4,
   "id": "alternate-victory",
   "metadata": {
    "execution": {
     "iopub.execute_input": "2021-12-01T19:00:10.450416Z",
     "iopub.status.busy": "2021-12-01T19:00:10.448043Z",
     "iopub.status.idle": "2021-12-01T19:00:11.881871Z",
     "shell.execute_reply": "2021-12-01T19:00:11.883229Z"
    },
    "papermill": {
     "duration": 1.468326,
     "end_time": "2021-12-01T19:00:11.883701",
     "exception": false,
     "start_time": "2021-12-01T19:00:10.415375",
     "status": "completed"
    },
    "tags": []
   },
   "outputs": [],
   "source": [
    "df = pd.read_sql(\"select * from EBAY_TOP_BERLIN where record_time in (select distinct record_time from EBAY_TOP_BERLIN order by record_time desc limit 2)\", sqlite3.connect(\"UsedObjects.db\"))"
   ]
  },
  {
   "cell_type": "code",
   "execution_count": 5,
   "id": "popular-active",
   "metadata": {
    "execution": {
     "iopub.execute_input": "2021-12-01T19:00:11.958120Z",
     "iopub.status.busy": "2021-12-01T19:00:11.945490Z",
     "iopub.status.idle": "2021-12-01T19:00:11.977010Z",
     "shell.execute_reply": "2021-12-01T19:00:11.978364Z"
    },
    "papermill": {
     "duration": 0.073845,
     "end_time": "2021-12-01T19:00:11.978839",
     "exception": false,
     "start_time": "2021-12-01T19:00:11.904994",
     "status": "completed"
    },
    "tags": []
   },
   "outputs": [],
   "source": [
    "df_pivot = df.pivot_table(index=\"PRODUCT\", columns = \"RECORD_TIME\", values = \"LISTING_COUNT\")"
   ]
  },
  {
   "cell_type": "code",
   "execution_count": 6,
   "id": "union-huntington",
   "metadata": {
    "execution": {
     "iopub.execute_input": "2021-12-01T19:00:12.043621Z",
     "iopub.status.busy": "2021-12-01T19:00:12.040434Z",
     "iopub.status.idle": "2021-12-01T19:00:12.049244Z",
     "shell.execute_reply": "2021-12-01T19:00:12.050852Z"
    },
    "papermill": {
     "duration": 0.052021,
     "end_time": "2021-12-01T19:00:12.051343",
     "exception": false,
     "start_time": "2021-12-01T19:00:11.999322",
     "status": "completed"
    },
    "tags": []
   },
   "outputs": [],
   "source": [
    "df_pivot.columns = [\"stamp_1\", \"stamp_2\"]\n",
    "df_pivot_diff = df_pivot.diff(axis=1)"
   ]
  },
  {
   "cell_type": "code",
   "execution_count": 7,
   "id": "fifth-motion",
   "metadata": {
    "execution": {
     "iopub.execute_input": "2021-12-01T19:00:12.109182Z",
     "iopub.status.busy": "2021-12-01T19:00:12.106585Z",
     "iopub.status.idle": "2021-12-01T19:00:14.052850Z",
     "shell.execute_reply": "2021-12-01T19:00:14.054292Z"
    },
    "papermill": {
     "duration": 1.981608,
     "end_time": "2021-12-01T19:00:14.054735",
     "exception": false,
     "start_time": "2021-12-01T19:00:12.073127",
     "status": "completed"
    },
    "tags": []
   },
   "outputs": [
    {
     "data": {
      "text/plain": [
       "<AxesSubplot:ylabel='PRODUCT'>"
      ]
     },
     "execution_count": 7,
     "metadata": {},
     "output_type": "execute_result"
    },
    {
     "data": {
      "image/png": "[encoded data removed]",
      "text/plain": [
       "<Figure size 432x288 with 1 Axes>"
      ]
     },
     "metadata": {
      "needs_background": "light"
     },
     "output_type": "display_data"
    }
   ],
   "source": [
    "df_pivot_diff.sort_values(\"stamp_2\", ascending = False)[\"stamp_2\"].head(10).plot.barh()"
   ]
  },
  {
   "cell_type": "code",
   "execution_count": null,
   "id": "extra-executive",
   "metadata": {
    "papermill": {
     "duration": 0.022257,
     "end_time": "2021-12-01T19:00:14.101836",
     "exception": false,
     "start_time": "2021-12-01T19:00:14.079579",
     "status": "completed"
    },
    "tags": []
   },
   "outputs": [],
   "source": []
  }
 ],
 "metadata": {
  "kernelspec": {
   "display_name": "Python 3",
   "language": "python",
   "name": "python3"
  },
  "language_info": {
   "codemirror_mode": {
    "name": "ipython",
    "version": 3
   },
   "file_extension": ".py",
   "mimetype": "text/x-python",
   "name": "python",
   "nbconvert_exporter": "python",
   "pygments_lexer": "ipython3",
   "version": "3.9.5"
  },
  "papermill": {
   "default_parameters": {},
   "duration": 9.940726,
   "end_time": "2021-12-01T19:00:15.478106",
   "environment_variables": {},
   "exception": null,
   "input_path": "eBay_Overview.ipynb",
   "output_path": "eBay_Overview.ipynb",
   "parameters": {},
   "start_time": "2021-12-01T19:00:05.537380",
   "version": "2.3.3"
  }
 },
 "nbformat": 4,
 "nbformat_minor": 5
}