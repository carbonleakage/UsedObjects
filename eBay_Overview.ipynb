{
 "cells": [
  {
   "cell_type": "code",
   "execution_count": 1,
   "id": "reverse-picking",
   "metadata": {
    "execution": {
     "iopub.execute_input": "2021-08-16T02:30:06.983054Z",
     "iopub.status.busy": "2021-08-16T02:30:06.981041Z",
     "iopub.status.idle": "2021-08-16T02:30:07.790132Z",
     "shell.execute_reply": "2021-08-16T02:30:07.791567Z"
    },
    "papermill": {
     "duration": 0.859051,
     "end_time": "2021-08-16T02:30:07.792246",
     "exception": false,
     "start_time": "2021-08-16T02:30:06.933195",
     "status": "completed"
    },
    "tags": []
   },
   "outputs": [],
   "source": [
    "import pandas as pd\n",
    "import sqlite3"
   ]
  },
  {
   "cell_type": "code",
   "execution_count": 2,
   "id": "innovative-syndrome",
   "metadata": {
    "execution": {
     "iopub.execute_input": "2021-08-16T02:30:07.842572Z",
     "iopub.status.busy": "2021-08-16T02:30:07.840535Z",
     "iopub.status.idle": "2021-08-16T02:30:07.902404Z",
     "shell.execute_reply": "2021-08-16T02:30:07.903883Z"
    },
    "papermill": {
     "duration": 0.092282,
     "end_time": "2021-08-16T02:30:07.904323",
     "exception": false,
     "start_time": "2021-08-16T02:30:07.812041",
     "status": "completed"
    },
    "tags": []
   },
   "outputs": [],
   "source": [
    "timestamps = pd.read_sql(\"select distinct record_time from EBAY_TOP_BERLIN order by record_time desc limit 2\", sqlite3.connect(\"UsedObjects.db\"))"
   ]
  },
  {
   "cell_type": "code",
   "execution_count": 3,
   "id": "periodic-identification",
   "metadata": {
    "execution": {
     "iopub.execute_input": "2021-08-16T02:30:07.974748Z",
     "iopub.status.busy": "2021-08-16T02:30:07.969586Z",
     "iopub.status.idle": "2021-08-16T02:30:07.989736Z",
     "shell.execute_reply": "2021-08-16T02:30:07.991217Z"
    },
    "papermill": {
     "duration": 0.067456,
     "end_time": "2021-08-16T02:30:07.991662",
     "exception": false,
     "start_time": "2021-08-16T02:30:07.924206",
     "status": "completed"
    },
    "tags": []
   },
   "outputs": [
    {
     "data": {
      "text/html": [
       "<div>\n",
       "<style scoped>\n",
       "    .dataframe tbody tr th:only-of-type {\n",
       "        vertical-align: middle;\n",
       "    }\n",
       "\n",
       "    .dataframe tbody tr th {\n",
       "        vertical-align: top;\n",
       "    }\n",
       "\n",
       "    .dataframe thead th {\n",
       "        text-align: right;\n",
       "    }\n",
       "</style>\n",
       "<table border=\"1\" class=\"dataframe\">\n",
       "  <thead>\n",
       "    <tr style=\"text-align: right;\">\n",
       "      <th></th>\n",
       "      <th>RECORD_TIME</th>\n",
       "    </tr>\n",
       "  </thead>\n",
       "  <tbody>\n",
       "    <tr>\n",
       "      <th>0</th>\n",
       "      <td>2021-08-16 04:30</td>\n",
       "    </tr>\n",
       "    <tr>\n",
       "      <th>1</th>\n",
       "      <td>2021-08-16 04:00</td>\n",
       "    </tr>\n",
       "  </tbody>\n",
       "</table>\n",
       "</div>"
      ],
      "text/plain": [
       "        RECORD_TIME\n",
       "0  2021-08-16 04:30\n",
       "1  2021-08-16 04:00"
      ]
     },
     "execution_count": 3,
     "metadata": {},
     "output_type": "execute_result"
    }
   ],
   "source": [
    "timestamps"
   ]
  },
  {
   "cell_type": "code",
   "execution_count": 4,
   "id": "alternate-victory",
   "metadata": {
    "execution": {
     "iopub.execute_input": "2021-08-16T02:30:08.043303Z",
     "iopub.status.busy": "2021-08-16T02:30:08.041317Z",
     "iopub.status.idle": "2021-08-16T02:30:08.127458Z",
     "shell.execute_reply": "2021-08-16T02:30:08.128858Z"
    },
    "papermill": {
     "duration": 0.116324,
     "end_time": "2021-08-16T02:30:08.129291",
     "exception": false,
     "start_time": "2021-08-16T02:30:08.012967",
     "status": "completed"
    },
    "tags": []
   },
   "outputs": [],
   "source": [
    "df = pd.read_sql(\"select * from EBAY_TOP_BERLIN where record_time in (select distinct record_time from EBAY_TOP_BERLIN order by record_time desc limit 2)\", sqlite3.connect(\"UsedObjects.db\"))"
   ]
  },
  {
   "cell_type": "code",
   "execution_count": 5,
   "id": "popular-active",
   "metadata": {
    "execution": {
     "iopub.execute_input": "2021-08-16T02:30:08.200428Z",
     "iopub.status.busy": "2021-08-16T02:30:08.188562Z",
     "iopub.status.idle": "2021-08-16T02:30:08.218333Z",
     "shell.execute_reply": "2021-08-16T02:30:08.219710Z"
    },
    "papermill": {
     "duration": 0.070067,
     "end_time": "2021-08-16T02:30:08.220147",
     "exception": false,
     "start_time": "2021-08-16T02:30:08.150080",
     "status": "completed"
    },
    "tags": []
   },
   "outputs": [],
   "source": [
    "df_pivot = df.pivot_table(index=\"PRODUCT\", columns = \"RECORD_TIME\", values = \"LISTING_COUNT\")"
   ]
  },
  {
   "cell_type": "code",
   "execution_count": 6,
   "id": "union-huntington",
   "metadata": {
    "execution": {
     "iopub.execute_input": "2021-08-16T02:30:08.278043Z",
     "iopub.status.busy": "2021-08-16T02:30:08.275573Z",
     "iopub.status.idle": "2021-08-16T02:30:08.281541Z",
     "shell.execute_reply": "2021-08-16T02:30:08.282885Z"
    },
    "papermill": {
     "duration": 0.042674,
     "end_time": "2021-08-16T02:30:08.283307",
     "exception": false,
     "start_time": "2021-08-16T02:30:08.240633",
     "status": "completed"
    },
    "tags": []
   },
   "outputs": [],
   "source": [
    "df_pivot.columns = [\"stamp_1\", \"stamp_2\"]\n",
    "df_pivot_diff = df_pivot.diff(axis=1)"
   ]
  },
  {
   "cell_type": "code",
   "execution_count": 7,
   "id": "fifth-motion",
   "metadata": {
    "execution": {
     "iopub.execute_input": "2021-08-16T02:30:08.337167Z",
     "iopub.status.busy": "2021-08-16T02:30:08.335002Z",
     "iopub.status.idle": "2021-08-16T02:30:09.863007Z",
     "shell.execute_reply": "2021-08-16T02:30:09.864296Z"
    },
    "papermill": {
     "duration": 1.560701,
     "end_time": "2021-08-16T02:30:09.864707",
     "exception": false,
     "start_time": "2021-08-16T02:30:08.304006",
     "status": "completed"
    },
    "tags": []
   },
   "outputs": [
    {
     "data": {
      "text/plain": [
       "<AxesSubplot:ylabel='PRODUCT'>"
      ]
     },
     "execution_count": 7,
     "metadata": {},
     "output_type": "execute_result"
    },
    {
     "data": {
      "image/png": "[encoded data removed]",
      "text/plain": [
       "<Figure size 432x288 with 1 Axes>"
      ]
     },
     "metadata": {
      "needs_background": "light"
     },
     "output_type": "display_data"
    }
   ],
   "source": [
    "df_pivot_diff.sort_values(\"stamp_2\", ascending = False)[\"stamp_2\"].head(10).plot.barh()"
   ]
  },
  {
   "cell_type": "code",
   "execution_count": null,
   "id": "extra-executive",
   "metadata": {
    "papermill": {
     "duration": 0.022454,
     "end_time": "2021-08-16T02:30:09.911312",
     "exception": false,
     "start_time": "2021-08-16T02:30:09.888858",
     "status": "completed"
    },
    "tags": []
   },
   "outputs": [],
   "source": []
  }
 ],
 "metadata": {
  "kernelspec": {
   "display_name": "Python 3",
   "language": "python",
   "name": "python3"
  },
  "language_info": {
   "codemirror_mode": {
    "name": "ipython",
    "version": 3
   },
   "file_extension": ".py",
   "mimetype": "text/x-python",
   "name": "python",
   "nbconvert_exporter": "python",
   "pygments_lexer": "ipython3",
   "version": "3.9.5"
  },
  "papermill": {
   "default_parameters": {},
   "duration": 6.82542,
   "end_time": "2021-08-16T02:30:11.343197",
   "environment_variables": {},
   "exception": null,
   "input_path": "eBay_Overview.ipynb",
   "output_path": "eBay_Overview.ipynb",
   "parameters": {},
   "start_time": "2021-08-16T02:30:04.517777",
   "version": "2.3.3"
  }
 },
 "nbformat": 4,
 "nbformat_minor": 5
}