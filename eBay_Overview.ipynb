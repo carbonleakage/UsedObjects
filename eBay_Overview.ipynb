{
 "cells": [
  {
   "cell_type": "code",
   "execution_count": 1,
   "id": "reverse-picking",
   "metadata": {
    "execution": {
     "iopub.execute_input": "2021-10-30T02:30:06.783888Z",
     "iopub.status.busy": "2021-10-30T02:30:06.781874Z",
     "iopub.status.idle": "2021-10-30T02:30:07.586035Z",
     "shell.execute_reply": "2021-10-30T02:30:07.587296Z"
    },
    "papermill": {
     "duration": 0.854999,
     "end_time": "2021-10-30T02:30:07.587914",
     "exception": false,
     "start_time": "2021-10-30T02:30:06.732915",
     "status": "completed"
    },
    "tags": []
   },
   "outputs": [],
   "source": [
    "import pandas as pd\n",
    "import sqlite3"
   ]
  },
  {
   "cell_type": "code",
   "execution_count": 2,
   "id": "innovative-syndrome",
   "metadata": {
    "execution": {
     "iopub.execute_input": "2021-10-30T02:30:07.639224Z",
     "iopub.status.busy": "2021-10-30T02:30:07.637338Z",
     "iopub.status.idle": "2021-10-30T02:30:08.318377Z",
     "shell.execute_reply": "2021-10-30T02:30:08.319588Z"
    },
    "papermill": {
     "duration": 0.71101,
     "end_time": "2021-10-30T02:30:08.319987",
     "exception": false,
     "start_time": "2021-10-30T02:30:07.608977",
     "status": "completed"
    },
    "tags": []
   },
   "outputs": [],
   "source": [
    "timestamps = pd.read_sql(\"select distinct record_time from EBAY_TOP_BERLIN order by record_time desc limit 2\", sqlite3.connect(\"UsedObjects.db\"))"
   ]
  },
  {
   "cell_type": "code",
   "execution_count": 3,
   "id": "periodic-identification",
   "metadata": {
    "execution": {
     "iopub.execute_input": "2021-10-30T02:30:08.395746Z",
     "iopub.status.busy": "2021-10-30T02:30:08.393716Z",
     "iopub.status.idle": "2021-10-30T02:30:08.413399Z",
     "shell.execute_reply": "2021-10-30T02:30:08.414684Z"
    },
    "papermill": {
     "duration": 0.069703,
     "end_time": "2021-10-30T02:30:08.415082",
     "exception": false,
     "start_time": "2021-10-30T02:30:08.345379",
     "status": "completed"
    },
    "tags": []
   },
   "outputs": [
    {
     "data": {
      "text/html": [
       "<div>\n",
       "<style scoped>\n",
       "    .dataframe tbody tr th:only-of-type {\n",
       "        vertical-align: middle;\n",
       "    }\n",
       "\n",
       "    .dataframe tbody tr th {\n",
       "        vertical-align: top;\n",
       "    }\n",
       "\n",
       "    .dataframe thead th {\n",
       "        text-align: right;\n",
       "    }\n",
       "</style>\n",
       "<table border=\"1\" class=\"dataframe\">\n",
       "  <thead>\n",
       "    <tr style=\"text-align: right;\">\n",
       "      <th></th>\n",
       "      <th>RECORD_TIME</th>\n",
       "    </tr>\n",
       "  </thead>\n",
       "  <tbody>\n",
       "    <tr>\n",
       "      <th>0</th>\n",
       "      <td>2021-10-30 04:30</td>\n",
       "    </tr>\n",
       "    <tr>\n",
       "      <th>1</th>\n",
       "      <td>2021-10-30 04:00</td>\n",
       "    </tr>\n",
       "  </tbody>\n",
       "</table>\n",
       "</div>"
      ],
      "text/plain": [
       "        RECORD_TIME\n",
       "0  2021-10-30 04:30\n",
       "1  2021-10-30 04:00"
      ]
     },
     "execution_count": 3,
     "metadata": {},
     "output_type": "execute_result"
    }
   ],
   "source": [
    "timestamps"
   ]
  },
  {
   "cell_type": "code",
   "execution_count": 4,
   "id": "alternate-victory",
   "metadata": {
    "execution": {
     "iopub.execute_input": "2021-10-30T02:30:08.467807Z",
     "iopub.status.busy": "2021-10-30T02:30:08.465504Z",
     "iopub.status.idle": "2021-10-30T02:30:09.455545Z",
     "shell.execute_reply": "2021-10-30T02:30:09.456817Z"
    },
    "papermill": {
     "duration": 1.020323,
     "end_time": "2021-10-30T02:30:09.457228",
     "exception": false,
     "start_time": "2021-10-30T02:30:08.436905",
     "status": "completed"
    },
    "tags": []
   },
   "outputs": [],
   "source": [
    "df = pd.read_sql(\"select * from EBAY_TOP_BERLIN where record_time in (select distinct record_time from EBAY_TOP_BERLIN order by record_time desc limit 2)\", sqlite3.connect(\"UsedObjects.db\"))"
   ]
  },
  {
   "cell_type": "code",
   "execution_count": 5,
   "id": "popular-active",
   "metadata": {
    "execution": {
     "iopub.execute_input": "2021-10-30T02:30:09.522368Z",
     "iopub.status.busy": "2021-10-30T02:30:09.514532Z",
     "iopub.status.idle": "2021-10-30T02:30:09.543651Z",
     "shell.execute_reply": "2021-10-30T02:30:09.545001Z"
    },
    "papermill": {
     "duration": 0.067647,
     "end_time": "2021-10-30T02:30:09.545425",
     "exception": false,
     "start_time": "2021-10-30T02:30:09.477778",
     "status": "completed"
    },
    "tags": []
   },
   "outputs": [],
   "source": [
    "df_pivot = df.pivot_table(index=\"PRODUCT\", columns = \"RECORD_TIME\", values = \"LISTING_COUNT\")"
   ]
  },
  {
   "cell_type": "code",
   "execution_count": 6,
   "id": "union-huntington",
   "metadata": {
    "execution": {
     "iopub.execute_input": "2021-10-30T02:30:09.601906Z",
     "iopub.status.busy": "2021-10-30T02:30:09.599889Z",
     "iopub.status.idle": "2021-10-30T02:30:09.604963Z",
     "shell.execute_reply": "2021-10-30T02:30:09.606220Z"
    },
    "papermill": {
     "duration": 0.039757,
     "end_time": "2021-10-30T02:30:09.606619",
     "exception": false,
     "start_time": "2021-10-30T02:30:09.566862",
     "status": "completed"
    },
    "tags": []
   },
   "outputs": [],
   "source": [
    "df_pivot.columns = [\"stamp_1\", \"stamp_2\"]\n",
    "df_pivot_diff = df_pivot.diff(axis=1)"
   ]
  },
  {
   "cell_type": "code",
   "execution_count": 7,
   "id": "fifth-motion",
   "metadata": {
    "execution": {
     "iopub.execute_input": "2021-10-30T02:30:09.662578Z",
     "iopub.status.busy": "2021-10-30T02:30:09.659969Z",
     "iopub.status.idle": "2021-10-30T02:30:11.107943Z",
     "shell.execute_reply": "2021-10-30T02:30:11.109311Z"
    },
    "papermill": {
     "duration": 1.481709,
     "end_time": "2021-10-30T02:30:11.109771",
     "exception": false,
     "start_time": "2021-10-30T02:30:09.628062",
     "status": "completed"
    },
    "tags": []
   },
   "outputs": [
    {
     "data": {
      "text/plain": [
       "<AxesSubplot:ylabel='PRODUCT'>"
      ]
     },
     "execution_count": 7,
     "metadata": {},
     "output_type": "execute_result"
    },
    {
     "data": {
      "image/png": "[encoded data removed]",
      "text/plain": [
       "<Figure size 432x288 with 1 Axes>"
      ]
     },
     "metadata": {
      "needs_background": "light"
     },
     "output_type": "display_data"
    }
   ],
   "source": [
    "df_pivot_diff.sort_values(\"stamp_2\", ascending = False)[\"stamp_2\"].head(10).plot.barh()"
   ]
  },
  {
   "cell_type": "code",
   "execution_count": null,
   "id": "extra-executive",
   "metadata": {
    "papermill": {
     "duration": 0.057659,
     "end_time": "2021-10-30T02:30:11.192344",
     "exception": false,
     "start_time": "2021-10-30T02:30:11.134685",
     "status": "completed"
    },
    "tags": []
   },
   "outputs": [],
   "source": []
  }
 ],
 "metadata": {
  "kernelspec": {
   "display_name": "Python 3",
   "language": "python",
   "name": "python3"
  },
  "language_info": {
   "codemirror_mode": {
    "name": "ipython",
    "version": 3
   },
   "file_extension": ".py",
   "mimetype": "text/x-python",
   "name": "python",
   "nbconvert_exporter": "python",
   "pygments_lexer": "ipython3",
   "version": "3.9.5"
  },
  "papermill": {
   "default_parameters": {},
   "duration": 7.49919,
   "end_time": "2021-10-30T02:30:11.836171",
   "environment_variables": {},
   "exception": null,
   "input_path": "eBay_Overview.ipynb",
   "output_path": "eBay_Overview.ipynb",
   "parameters": {},
   "start_time": "2021-10-30T02:30:04.336981",
   "version": "2.3.3"
  }
 },
 "nbformat": 4,
 "nbformat_minor": 5
}