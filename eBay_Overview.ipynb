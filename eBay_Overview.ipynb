{
 "cells": [
  {
   "cell_type": "code",
   "execution_count": 1,
   "id": "reverse-picking",
   "metadata": {
    "execution": {
     "iopub.execute_input": "2021-08-26T22:00:06.620465Z",
     "iopub.status.busy": "2021-08-26T22:00:06.618448Z",
     "iopub.status.idle": "2021-08-26T22:00:07.425101Z",
     "shell.execute_reply": "2021-08-26T22:00:07.426420Z"
    },
    "papermill": {
     "duration": 0.859742,
     "end_time": "2021-08-26T22:00:07.427046",
     "exception": false,
     "start_time": "2021-08-26T22:00:06.567304",
     "status": "completed"
    },
    "tags": []
   },
   "outputs": [],
   "source": [
    "import pandas as pd\n",
    "import sqlite3"
   ]
  },
  {
   "cell_type": "code",
   "execution_count": 2,
   "id": "innovative-syndrome",
   "metadata": {
    "execution": {
     "iopub.execute_input": "2021-08-26T22:00:07.477207Z",
     "iopub.status.busy": "2021-08-26T22:00:07.475188Z",
     "iopub.status.idle": "2021-08-26T22:00:07.615387Z",
     "shell.execute_reply": "2021-08-26T22:00:07.614069Z"
    },
    "papermill": {
     "duration": 0.168411,
     "end_time": "2021-08-26T22:00:07.615714",
     "exception": false,
     "start_time": "2021-08-26T22:00:07.447303",
     "status": "completed"
    },
    "tags": []
   },
   "outputs": [],
   "source": [
    "timestamps = pd.read_sql(\"select distinct record_time from EBAY_TOP_BERLIN order by record_time desc limit 2\", sqlite3.connect(\"UsedObjects.db\"))"
   ]
  },
  {
   "cell_type": "code",
   "execution_count": 3,
   "id": "periodic-identification",
   "metadata": {
    "execution": {
     "iopub.execute_input": "2021-08-26T22:00:07.679277Z",
     "iopub.status.busy": "2021-08-26T22:00:07.677235Z",
     "iopub.status.idle": "2021-08-26T22:00:07.698357Z",
     "shell.execute_reply": "2021-08-26T22:00:07.699601Z"
    },
    "papermill": {
     "duration": 0.06463,
     "end_time": "2021-08-26T22:00:07.700003",
     "exception": false,
     "start_time": "2021-08-26T22:00:07.635373",
     "status": "completed"
    },
    "tags": []
   },
   "outputs": [
    {
     "data": {
      "text/html": [
       "<div>\n",
       "<style scoped>\n",
       "    .dataframe tbody tr th:only-of-type {\n",
       "        vertical-align: middle;\n",
       "    }\n",
       "\n",
       "    .dataframe tbody tr th {\n",
       "        vertical-align: top;\n",
       "    }\n",
       "\n",
       "    .dataframe thead th {\n",
       "        text-align: right;\n",
       "    }\n",
       "</style>\n",
       "<table border=\"1\" class=\"dataframe\">\n",
       "  <thead>\n",
       "    <tr style=\"text-align: right;\">\n",
       "      <th></th>\n",
       "      <th>RECORD_TIME</th>\n",
       "    </tr>\n",
       "  </thead>\n",
       "  <tbody>\n",
       "    <tr>\n",
       "      <th>0</th>\n",
       "      <td>2021-08-27 00:00</td>\n",
       "    </tr>\n",
       "    <tr>\n",
       "      <th>1</th>\n",
       "      <td>2021-08-26 23:30</td>\n",
       "    </tr>\n",
       "  </tbody>\n",
       "</table>\n",
       "</div>"
      ],
      "text/plain": [
       "        RECORD_TIME\n",
       "0  2021-08-27 00:00\n",
       "1  2021-08-26 23:30"
      ]
     },
     "execution_count": 3,
     "metadata": {},
     "output_type": "execute_result"
    }
   ],
   "source": [
    "timestamps"
   ]
  },
  {
   "cell_type": "code",
   "execution_count": 4,
   "id": "alternate-victory",
   "metadata": {
    "execution": {
     "iopub.execute_input": "2021-08-26T22:00:07.754112Z",
     "iopub.status.busy": "2021-08-26T22:00:07.751736Z",
     "iopub.status.idle": "2021-08-26T22:00:07.965766Z",
     "shell.execute_reply": "2021-08-26T22:00:07.967194Z"
    },
    "papermill": {
     "duration": 0.244763,
     "end_time": "2021-08-26T22:00:07.967635",
     "exception": false,
     "start_time": "2021-08-26T22:00:07.722872",
     "status": "completed"
    },
    "tags": []
   },
   "outputs": [],
   "source": [
    "df = pd.read_sql(\"select * from EBAY_TOP_BERLIN where record_time in (select distinct record_time from EBAY_TOP_BERLIN order by record_time desc limit 2)\", sqlite3.connect(\"UsedObjects.db\"))"
   ]
  },
  {
   "cell_type": "code",
   "execution_count": 5,
   "id": "popular-active",
   "metadata": {
    "execution": {
     "iopub.execute_input": "2021-08-26T22:00:08.039132Z",
     "iopub.status.busy": "2021-08-26T22:00:08.026517Z",
     "iopub.status.idle": "2021-08-26T22:00:08.055053Z",
     "shell.execute_reply": "2021-08-26T22:00:08.056472Z"
    },
    "papermill": {
     "duration": 0.067915,
     "end_time": "2021-08-26T22:00:08.056892",
     "exception": false,
     "start_time": "2021-08-26T22:00:07.988977",
     "status": "completed"
    },
    "tags": []
   },
   "outputs": [],
   "source": [
    "df_pivot = df.pivot_table(index=\"PRODUCT\", columns = \"RECORD_TIME\", values = \"LISTING_COUNT\")"
   ]
  },
  {
   "cell_type": "code",
   "execution_count": 6,
   "id": "union-huntington",
   "metadata": {
    "execution": {
     "iopub.execute_input": "2021-08-26T22:00:08.142141Z",
     "iopub.status.busy": "2021-08-26T22:00:08.139658Z",
     "iopub.status.idle": "2021-08-26T22:00:08.145798Z",
     "shell.execute_reply": "2021-08-26T22:00:08.147100Z"
    },
    "papermill": {
     "duration": 0.050601,
     "end_time": "2021-08-26T22:00:08.147516",
     "exception": false,
     "start_time": "2021-08-26T22:00:08.096915",
     "status": "completed"
    },
    "tags": []
   },
   "outputs": [],
   "source": [
    "df_pivot.columns = [\"stamp_1\", \"stamp_2\"]\n",
    "df_pivot_diff = df_pivot.diff(axis=1)"
   ]
  },
  {
   "cell_type": "code",
   "execution_count": 7,
   "id": "fifth-motion",
   "metadata": {
    "execution": {
     "iopub.execute_input": "2021-08-26T22:00:08.201723Z",
     "iopub.status.busy": "2021-08-26T22:00:08.199276Z",
     "iopub.status.idle": "2021-08-26T22:00:09.661851Z",
     "shell.execute_reply": "2021-08-26T22:00:09.663053Z"
    },
    "papermill": {
     "duration": 1.495556,
     "end_time": "2021-08-26T22:00:09.663485",
     "exception": false,
     "start_time": "2021-08-26T22:00:08.167929",
     "status": "completed"
    },
    "tags": []
   },
   "outputs": [
    {
     "data": {
      "text/plain": [
       "<AxesSubplot:ylabel='PRODUCT'>"
      ]
     },
     "execution_count": 7,
     "metadata": {},
     "output_type": "execute_result"
    },
    {
     "data": {
      "image/png": "[encoded data removed]",
      "text/plain": [
       "<Figure size 432x288 with 1 Axes>"
      ]
     },
     "metadata": {
      "needs_background": "light"
     },
     "output_type": "display_data"
    }
   ],
   "source": [
    "df_pivot_diff.sort_values(\"stamp_2\", ascending = False)[\"stamp_2\"].head(10).plot.barh()"
   ]
  },
  {
   "cell_type": "code",
   "execution_count": null,
   "id": "extra-executive",
   "metadata": {
    "papermill": {
     "duration": 0.022381,
     "end_time": "2021-08-26T22:00:09.712036",
     "exception": false,
     "start_time": "2021-08-26T22:00:09.689655",
     "status": "completed"
    },
    "tags": []
   },
   "outputs": [],
   "source": []
  }
 ],
 "metadata": {
  "kernelspec": {
   "display_name": "Python 3",
   "language": "python",
   "name": "python3"
  },
  "language_info": {
   "codemirror_mode": {
    "name": "ipython",
    "version": 3
   },
   "file_extension": ".py",
   "mimetype": "text/x-python",
   "name": "python",
   "nbconvert_exporter": "python",
   "pygments_lexer": "ipython3",
   "version": "3.9.5"
  },
  "papermill": {
   "default_parameters": {},
   "duration": 6.818853,
   "end_time": "2021-08-26T22:00:10.992199",
   "environment_variables": {},
   "exception": null,
   "input_path": "eBay_Overview.ipynb",
   "output_path": "eBay_Overview.ipynb",
   "parameters": {},
   "start_time": "2021-08-26T22:00:04.173346",
   "version": "2.3.3"
  }
 },
 "nbformat": 4,
 "nbformat_minor": 5
}