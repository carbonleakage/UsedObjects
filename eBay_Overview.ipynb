{
 "cells": [
  {
   "cell_type": "code",
   "execution_count": 1,
   "id": "reverse-picking",
   "metadata": {
    "execution": {
     "iopub.execute_input": "2021-08-31T04:00:06.593819Z",
     "iopub.status.busy": "2021-08-31T04:00:06.591753Z",
     "iopub.status.idle": "2021-08-31T04:00:07.395131Z",
     "shell.execute_reply": "2021-08-31T04:00:07.396556Z"
    },
    "papermill": {
     "duration": 0.855046,
     "end_time": "2021-08-31T04:00:07.397218",
     "exception": false,
     "start_time": "2021-08-31T04:00:06.542172",
     "status": "completed"
    },
    "tags": []
   },
   "outputs": [],
   "source": [
    "import pandas as pd\n",
    "import sqlite3"
   ]
  },
  {
   "cell_type": "code",
   "execution_count": 2,
   "id": "innovative-syndrome",
   "metadata": {
    "execution": {
     "iopub.execute_input": "2021-08-31T04:00:07.448717Z",
     "iopub.status.busy": "2021-08-31T04:00:07.446561Z",
     "iopub.status.idle": "2021-08-31T04:00:07.613632Z",
     "shell.execute_reply": "2021-08-31T04:00:07.614876Z"
    },
    "papermill": {
     "duration": 0.19711,
     "end_time": "2021-08-31T04:00:07.615272",
     "exception": false,
     "start_time": "2021-08-31T04:00:07.418162",
     "status": "completed"
    },
    "tags": []
   },
   "outputs": [],
   "source": [
    "timestamps = pd.read_sql(\"select distinct record_time from EBAY_TOP_BERLIN order by record_time desc limit 2\", sqlite3.connect(\"UsedObjects.db\"))"
   ]
  },
  {
   "cell_type": "code",
   "execution_count": 3,
   "id": "periodic-identification",
   "metadata": {
    "execution": {
     "iopub.execute_input": "2021-08-31T04:00:07.678770Z",
     "iopub.status.busy": "2021-08-31T04:00:07.676757Z",
     "iopub.status.idle": "2021-08-31T04:00:07.696299Z",
     "shell.execute_reply": "2021-08-31T04:00:07.697698Z"
    },
    "papermill": {
     "duration": 0.063563,
     "end_time": "2021-08-31T04:00:07.698110",
     "exception": false,
     "start_time": "2021-08-31T04:00:07.634547",
     "status": "completed"
    },
    "tags": []
   },
   "outputs": [
    {
     "data": {
      "text/html": [
       "<div>\n",
       "<style scoped>\n",
       "    .dataframe tbody tr th:only-of-type {\n",
       "        vertical-align: middle;\n",
       "    }\n",
       "\n",
       "    .dataframe tbody tr th {\n",
       "        vertical-align: top;\n",
       "    }\n",
       "\n",
       "    .dataframe thead th {\n",
       "        text-align: right;\n",
       "    }\n",
       "</style>\n",
       "<table border=\"1\" class=\"dataframe\">\n",
       "  <thead>\n",
       "    <tr style=\"text-align: right;\">\n",
       "      <th></th>\n",
       "      <th>RECORD_TIME</th>\n",
       "    </tr>\n",
       "  </thead>\n",
       "  <tbody>\n",
       "    <tr>\n",
       "      <th>0</th>\n",
       "      <td>2021-08-31 06:00</td>\n",
       "    </tr>\n",
       "    <tr>\n",
       "      <th>1</th>\n",
       "      <td>2021-08-31 05:30</td>\n",
       "    </tr>\n",
       "  </tbody>\n",
       "</table>\n",
       "</div>"
      ],
      "text/plain": [
       "        RECORD_TIME\n",
       "0  2021-08-31 06:00\n",
       "1  2021-08-31 05:30"
      ]
     },
     "execution_count": 3,
     "metadata": {},
     "output_type": "execute_result"
    }
   ],
   "source": [
    "timestamps"
   ]
  },
  {
   "cell_type": "code",
   "execution_count": 4,
   "id": "alternate-victory",
   "metadata": {
    "execution": {
     "iopub.execute_input": "2021-08-31T04:00:07.750113Z",
     "iopub.status.busy": "2021-08-31T04:00:07.747865Z",
     "iopub.status.idle": "2021-08-31T04:00:08.005046Z",
     "shell.execute_reply": "2021-08-31T04:00:08.006356Z"
    },
    "papermill": {
     "duration": 0.2871,
     "end_time": "2021-08-31T04:00:08.006749",
     "exception": false,
     "start_time": "2021-08-31T04:00:07.719649",
     "status": "completed"
    },
    "tags": []
   },
   "outputs": [],
   "source": [
    "df = pd.read_sql(\"select * from EBAY_TOP_BERLIN where record_time in (select distinct record_time from EBAY_TOP_BERLIN order by record_time desc limit 2)\", sqlite3.connect(\"UsedObjects.db\"))"
   ]
  },
  {
   "cell_type": "code",
   "execution_count": 5,
   "id": "popular-active",
   "metadata": {
    "execution": {
     "iopub.execute_input": "2021-08-31T04:00:08.086949Z",
     "iopub.status.busy": "2021-08-31T04:00:08.074911Z",
     "iopub.status.idle": "2021-08-31T04:00:08.103998Z",
     "shell.execute_reply": "2021-08-31T04:00:08.105635Z"
    },
    "papermill": {
     "duration": 0.073832,
     "end_time": "2021-08-31T04:00:08.106106",
     "exception": false,
     "start_time": "2021-08-31T04:00:08.032274",
     "status": "completed"
    },
    "tags": []
   },
   "outputs": [],
   "source": [
    "df_pivot = df.pivot_table(index=\"PRODUCT\", columns = \"RECORD_TIME\", values = \"LISTING_COUNT\")"
   ]
  },
  {
   "cell_type": "code",
   "execution_count": 6,
   "id": "union-huntington",
   "metadata": {
    "execution": {
     "iopub.execute_input": "2021-08-31T04:00:08.164197Z",
     "iopub.status.busy": "2021-08-31T04:00:08.161714Z",
     "iopub.status.idle": "2021-08-31T04:00:08.167299Z",
     "shell.execute_reply": "2021-08-31T04:00:08.168670Z"
    },
    "papermill": {
     "duration": 0.041982,
     "end_time": "2021-08-31T04:00:08.169085",
     "exception": false,
     "start_time": "2021-08-31T04:00:08.127103",
     "status": "completed"
    },
    "tags": []
   },
   "outputs": [],
   "source": [
    "df_pivot.columns = [\"stamp_1\", \"stamp_2\"]\n",
    "df_pivot_diff = df_pivot.diff(axis=1)"
   ]
  },
  {
   "cell_type": "code",
   "execution_count": 7,
   "id": "fifth-motion",
   "metadata": {
    "execution": {
     "iopub.execute_input": "2021-08-31T04:00:08.223077Z",
     "iopub.status.busy": "2021-08-31T04:00:08.220785Z",
     "iopub.status.idle": "2021-08-31T04:00:09.698396Z",
     "shell.execute_reply": "2021-08-31T04:00:09.699798Z"
    },
    "papermill": {
     "duration": 1.510838,
     "end_time": "2021-08-31T04:00:09.700274",
     "exception": false,
     "start_time": "2021-08-31T04:00:08.189436",
     "status": "completed"
    },
    "tags": []
   },
   "outputs": [
    {
     "data": {
      "text/plain": [
       "<AxesSubplot:ylabel='PRODUCT'>"
      ]
     },
     "execution_count": 7,
     "metadata": {},
     "output_type": "execute_result"
    },
    {
     "data": {
      "image/png": "[encoded data removed]",
      "text/plain": [
       "<Figure size 432x288 with 1 Axes>"
      ]
     },
     "metadata": {
      "needs_background": "light"
     },
     "output_type": "display_data"
    }
   ],
   "source": [
    "df_pivot_diff.sort_values(\"stamp_2\", ascending = False)[\"stamp_2\"].head(10).plot.barh()"
   ]
  },
  {
   "cell_type": "code",
   "execution_count": null,
   "id": "extra-executive",
   "metadata": {
    "papermill": {
     "duration": 0.021908,
     "end_time": "2021-08-31T04:00:09.745765",
     "exception": false,
     "start_time": "2021-08-31T04:00:09.723857",
     "status": "completed"
    },
    "tags": []
   },
   "outputs": [],
   "source": []
  }
 ],
 "metadata": {
  "kernelspec": {
   "display_name": "Python 3",
   "language": "python",
   "name": "python3"
  },
  "language_info": {
   "codemirror_mode": {
    "name": "ipython",
    "version": 3
   },
   "file_extension": ".py",
   "mimetype": "text/x-python",
   "name": "python",
   "nbconvert_exporter": "python",
   "pygments_lexer": "ipython3",
   "version": "3.9.5"
  },
  "papermill": {
   "default_parameters": {},
   "duration": 6.823146,
   "end_time": "2021-08-31T04:00:10.957307",
   "environment_variables": {},
   "exception": null,
   "input_path": "eBay_Overview.ipynb",
   "output_path": "eBay_Overview.ipynb",
   "parameters": {},
   "start_time": "2021-08-31T04:00:04.134161",
   "version": "2.3.3"
  }
 },
 "nbformat": 4,
 "nbformat_minor": 5
}