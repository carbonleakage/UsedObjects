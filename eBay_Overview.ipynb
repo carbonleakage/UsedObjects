{
 "cells": [
  {
   "cell_type": "code",
   "execution_count": 1,
   "id": "reverse-picking",
   "metadata": {
    "execution": {
     "iopub.execute_input": "2021-08-25T21:30:07.345759Z",
     "iopub.status.busy": "2021-08-25T21:30:07.343722Z",
     "iopub.status.idle": "2021-08-25T21:30:08.146012Z",
     "shell.execute_reply": "2021-08-25T21:30:08.147418Z"
    },
    "papermill": {
     "duration": 0.85418,
     "end_time": "2021-08-25T21:30:08.148100",
     "exception": false,
     "start_time": "2021-08-25T21:30:07.293920",
     "status": "completed"
    },
    "tags": []
   },
   "outputs": [],
   "source": [
    "import pandas as pd\n",
    "import sqlite3"
   ]
  },
  {
   "cell_type": "code",
   "execution_count": 2,
   "id": "innovative-syndrome",
   "metadata": {
    "execution": {
     "iopub.execute_input": "2021-08-25T21:30:08.199234Z",
     "iopub.status.busy": "2021-08-25T21:30:08.197172Z",
     "iopub.status.idle": "2021-08-25T21:30:08.326439Z",
     "shell.execute_reply": "2021-08-25T21:30:08.327645Z"
    },
    "papermill": {
     "duration": 0.159334,
     "end_time": "2021-08-25T21:30:08.328043",
     "exception": false,
     "start_time": "2021-08-25T21:30:08.168709",
     "status": "completed"
    },
    "tags": []
   },
   "outputs": [],
   "source": [
    "timestamps = pd.read_sql(\"select distinct record_time from EBAY_TOP_BERLIN order by record_time desc limit 2\", sqlite3.connect(\"UsedObjects.db\"))"
   ]
  },
  {
   "cell_type": "code",
   "execution_count": 3,
   "id": "periodic-identification",
   "metadata": {
    "execution": {
     "iopub.execute_input": "2021-08-25T21:30:08.393860Z",
     "iopub.status.busy": "2021-08-25T21:30:08.391628Z",
     "iopub.status.idle": "2021-08-25T21:30:08.411822Z",
     "shell.execute_reply": "2021-08-25T21:30:08.413033Z"
    },
    "papermill": {
     "duration": 0.064363,
     "end_time": "2021-08-25T21:30:08.413450",
     "exception": false,
     "start_time": "2021-08-25T21:30:08.349087",
     "status": "completed"
    },
    "tags": []
   },
   "outputs": [
    {
     "data": {
      "text/html": [
       "<div>\n",
       "<style scoped>\n",
       "    .dataframe tbody tr th:only-of-type {\n",
       "        vertical-align: middle;\n",
       "    }\n",
       "\n",
       "    .dataframe tbody tr th {\n",
       "        vertical-align: top;\n",
       "    }\n",
       "\n",
       "    .dataframe thead th {\n",
       "        text-align: right;\n",
       "    }\n",
       "</style>\n",
       "<table border=\"1\" class=\"dataframe\">\n",
       "  <thead>\n",
       "    <tr style=\"text-align: right;\">\n",
       "      <th></th>\n",
       "      <th>RECORD_TIME</th>\n",
       "    </tr>\n",
       "  </thead>\n",
       "  <tbody>\n",
       "    <tr>\n",
       "      <th>0</th>\n",
       "      <td>2021-08-25 23:30</td>\n",
       "    </tr>\n",
       "    <tr>\n",
       "      <th>1</th>\n",
       "      <td>2021-08-25 23:00</td>\n",
       "    </tr>\n",
       "  </tbody>\n",
       "</table>\n",
       "</div>"
      ],
      "text/plain": [
       "        RECORD_TIME\n",
       "0  2021-08-25 23:30\n",
       "1  2021-08-25 23:00"
      ]
     },
     "execution_count": 3,
     "metadata": {},
     "output_type": "execute_result"
    }
   ],
   "source": [
    "timestamps"
   ]
  },
  {
   "cell_type": "code",
   "execution_count": 4,
   "id": "alternate-victory",
   "metadata": {
    "execution": {
     "iopub.execute_input": "2021-08-25T21:30:08.467108Z",
     "iopub.status.busy": "2021-08-25T21:30:08.464811Z",
     "iopub.status.idle": "2021-08-25T21:30:08.658968Z",
     "shell.execute_reply": "2021-08-25T21:30:08.660288Z"
    },
    "papermill": {
     "duration": 0.224656,
     "end_time": "2021-08-25T21:30:08.660728",
     "exception": false,
     "start_time": "2021-08-25T21:30:08.436072",
     "status": "completed"
    },
    "tags": []
   },
   "outputs": [],
   "source": [
    "df = pd.read_sql(\"select * from EBAY_TOP_BERLIN where record_time in (select distinct record_time from EBAY_TOP_BERLIN order by record_time desc limit 2)\", sqlite3.connect(\"UsedObjects.db\"))"
   ]
  },
  {
   "cell_type": "code",
   "execution_count": 5,
   "id": "popular-active",
   "metadata": {
    "execution": {
     "iopub.execute_input": "2021-08-25T21:30:08.731839Z",
     "iopub.status.busy": "2021-08-25T21:30:08.719538Z",
     "iopub.status.idle": "2021-08-25T21:30:08.747907Z",
     "shell.execute_reply": "2021-08-25T21:30:08.749382Z"
    },
    "papermill": {
     "duration": 0.068457,
     "end_time": "2021-08-25T21:30:08.749827",
     "exception": false,
     "start_time": "2021-08-25T21:30:08.681370",
     "status": "completed"
    },
    "tags": []
   },
   "outputs": [],
   "source": [
    "df_pivot = df.pivot_table(index=\"PRODUCT\", columns = \"RECORD_TIME\", values = \"LISTING_COUNT\")"
   ]
  },
  {
   "cell_type": "code",
   "execution_count": 6,
   "id": "union-huntington",
   "metadata": {
    "execution": {
     "iopub.execute_input": "2021-08-25T21:30:08.835739Z",
     "iopub.status.busy": "2021-08-25T21:30:08.833450Z",
     "iopub.status.idle": "2021-08-25T21:30:08.839160Z",
     "shell.execute_reply": "2021-08-25T21:30:08.840504Z"
    },
    "papermill": {
     "duration": 0.049516,
     "end_time": "2021-08-25T21:30:08.840937",
     "exception": false,
     "start_time": "2021-08-25T21:30:08.791421",
     "status": "completed"
    },
    "tags": []
   },
   "outputs": [],
   "source": [
    "df_pivot.columns = [\"stamp_1\", \"stamp_2\"]\n",
    "df_pivot_diff = df_pivot.diff(axis=1)"
   ]
  },
  {
   "cell_type": "code",
   "execution_count": 7,
   "id": "fifth-motion",
   "metadata": {
    "execution": {
     "iopub.execute_input": "2021-08-25T21:30:08.894869Z",
     "iopub.status.busy": "2021-08-25T21:30:08.892485Z",
     "iopub.status.idle": "2021-08-25T21:30:10.393638Z",
     "shell.execute_reply": "2021-08-25T21:30:10.394923Z"
    },
    "papermill": {
     "duration": 1.534286,
     "end_time": "2021-08-25T21:30:10.395337",
     "exception": false,
     "start_time": "2021-08-25T21:30:08.861051",
     "status": "completed"
    },
    "tags": []
   },
   "outputs": [
    {
     "data": {
      "text/plain": [
       "<AxesSubplot:ylabel='PRODUCT'>"
      ]
     },
     "execution_count": 7,
     "metadata": {},
     "output_type": "execute_result"
    },
    {
     "data": {
      "image/png": "[encoded data removed]",
      "text/plain": [
       "<Figure size 432x288 with 1 Axes>"
      ]
     },
     "metadata": {
      "needs_background": "light"
     },
     "output_type": "display_data"
    }
   ],
   "source": [
    "df_pivot_diff.sort_values(\"stamp_2\", ascending = False)[\"stamp_2\"].head(10).plot.barh()"
   ]
  },
  {
   "cell_type": "code",
   "execution_count": null,
   "id": "extra-executive",
   "metadata": {
    "papermill": {
     "duration": 0.022244,
     "end_time": "2021-08-25T21:30:10.443097",
     "exception": false,
     "start_time": "2021-08-25T21:30:10.420853",
     "status": "completed"
    },
    "tags": []
   },
   "outputs": [],
   "source": []
  }
 ],
 "metadata": {
  "kernelspec": {
   "display_name": "Python 3",
   "language": "python",
   "name": "python3"
  },
  "language_info": {
   "codemirror_mode": {
    "name": "ipython",
    "version": 3
   },
   "file_extension": ".py",
   "mimetype": "text/x-python",
   "name": "python",
   "nbconvert_exporter": "python",
   "pygments_lexer": "ipython3",
   "version": "3.9.5"
  },
  "papermill": {
   "default_parameters": {},
   "duration": 6.829756,
   "end_time": "2021-08-25T21:30:11.709637",
   "environment_variables": {},
   "exception": null,
   "input_path": "eBay_Overview.ipynb",
   "output_path": "eBay_Overview.ipynb",
   "parameters": {},
   "start_time": "2021-08-25T21:30:04.879881",
   "version": "2.3.3"
  }
 },
 "nbformat": 4,
 "nbformat_minor": 5
}