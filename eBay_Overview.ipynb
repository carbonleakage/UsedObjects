{
 "cells": [
  {
   "cell_type": "code",
   "execution_count": 1,
   "id": "reverse-picking",
   "metadata": {
    "execution": {
     "iopub.execute_input": "2021-11-08T17:30:07.801118Z",
     "iopub.status.busy": "2021-11-08T17:30:07.798732Z",
     "iopub.status.idle": "2021-11-08T17:30:08.747928Z",
     "shell.execute_reply": "2021-11-08T17:30:08.745930Z"
    },
    "papermill": {
     "duration": 0.997133,
     "end_time": "2021-11-08T17:30:08.748389",
     "exception": false,
     "start_time": "2021-11-08T17:30:07.751256",
     "status": "completed"
    },
    "tags": []
   },
   "outputs": [],
   "source": [
    "import pandas as pd\n",
    "import sqlite3"
   ]
  },
  {
   "cell_type": "code",
   "execution_count": 2,
   "id": "innovative-syndrome",
   "metadata": {
    "execution": {
     "iopub.execute_input": "2021-11-08T17:30:08.806613Z",
     "iopub.status.busy": "2021-11-08T17:30:08.803450Z",
     "iopub.status.idle": "2021-11-08T17:30:09.567460Z",
     "shell.execute_reply": "2021-11-08T17:30:09.569680Z"
    },
    "papermill": {
     "duration": 0.799442,
     "end_time": "2021-11-08T17:30:09.570172",
     "exception": false,
     "start_time": "2021-11-08T17:30:08.770730",
     "status": "completed"
    },
    "tags": []
   },
   "outputs": [],
   "source": [
    "timestamps = pd.read_sql(\"select distinct record_time from EBAY_TOP_BERLIN order by record_time desc limit 2\", sqlite3.connect(\"UsedObjects.db\"))"
   ]
  },
  {
   "cell_type": "code",
   "execution_count": 3,
   "id": "periodic-identification",
   "metadata": {
    "execution": {
     "iopub.execute_input": "2021-11-08T17:30:09.647560Z",
     "iopub.status.busy": "2021-11-08T17:30:09.641305Z",
     "iopub.status.idle": "2021-11-08T17:30:09.664017Z",
     "shell.execute_reply": "2021-11-08T17:30:09.665599Z"
    },
    "papermill": {
     "duration": 0.075027,
     "end_time": "2021-11-08T17:30:09.666085",
     "exception": false,
     "start_time": "2021-11-08T17:30:09.591058",
     "status": "completed"
    },
    "tags": []
   },
   "outputs": [
    {
     "data": {
      "text/html": [
       "<div>\n",
       "<style scoped>\n",
       "    .dataframe tbody tr th:only-of-type {\n",
       "        vertical-align: middle;\n",
       "    }\n",
       "\n",
       "    .dataframe tbody tr th {\n",
       "        vertical-align: top;\n",
       "    }\n",
       "\n",
       "    .dataframe thead th {\n",
       "        text-align: right;\n",
       "    }\n",
       "</style>\n",
       "<table border=\"1\" class=\"dataframe\">\n",
       "  <thead>\n",
       "    <tr style=\"text-align: right;\">\n",
       "      <th></th>\n",
       "      <th>RECORD_TIME</th>\n",
       "    </tr>\n",
       "  </thead>\n",
       "  <tbody>\n",
       "    <tr>\n",
       "      <th>0</th>\n",
       "      <td>2021-11-08 18:30</td>\n",
       "    </tr>\n",
       "    <tr>\n",
       "      <th>1</th>\n",
       "      <td>2021-11-08 18:00</td>\n",
       "    </tr>\n",
       "  </tbody>\n",
       "</table>\n",
       "</div>"
      ],
      "text/plain": [
       "        RECORD_TIME\n",
       "0  2021-11-08 18:30\n",
       "1  2021-11-08 18:00"
      ]
     },
     "execution_count": 3,
     "metadata": {},
     "output_type": "execute_result"
    }
   ],
   "source": [
    "timestamps"
   ]
  },
  {
   "cell_type": "code",
   "execution_count": 4,
   "id": "alternate-victory",
   "metadata": {
    "execution": {
     "iopub.execute_input": "2021-11-08T17:30:09.724030Z",
     "iopub.status.busy": "2021-11-08T17:30:09.721837Z",
     "iopub.status.idle": "2021-11-08T17:30:10.813875Z",
     "shell.execute_reply": "2021-11-08T17:30:10.815200Z"
    },
    "papermill": {
     "duration": 1.127578,
     "end_time": "2021-11-08T17:30:10.815615",
     "exception": false,
     "start_time": "2021-11-08T17:30:09.688037",
     "status": "completed"
    },
    "tags": []
   },
   "outputs": [],
   "source": [
    "df = pd.read_sql(\"select * from EBAY_TOP_BERLIN where record_time in (select distinct record_time from EBAY_TOP_BERLIN order by record_time desc limit 2)\", sqlite3.connect(\"UsedObjects.db\"))"
   ]
  },
  {
   "cell_type": "code",
   "execution_count": 5,
   "id": "popular-active",
   "metadata": {
    "execution": {
     "iopub.execute_input": "2021-11-08T17:30:10.886507Z",
     "iopub.status.busy": "2021-11-08T17:30:10.875262Z",
     "iopub.status.idle": "2021-11-08T17:30:10.903480Z",
     "shell.execute_reply": "2021-11-08T17:30:10.905183Z"
    },
    "papermill": {
     "duration": 0.069309,
     "end_time": "2021-11-08T17:30:10.905671",
     "exception": false,
     "start_time": "2021-11-08T17:30:10.836362",
     "status": "completed"
    },
    "tags": []
   },
   "outputs": [],
   "source": [
    "df_pivot = df.pivot_table(index=\"PRODUCT\", columns = \"RECORD_TIME\", values = \"LISTING_COUNT\")"
   ]
  },
  {
   "cell_type": "code",
   "execution_count": 6,
   "id": "union-huntington",
   "metadata": {
    "execution": {
     "iopub.execute_input": "2021-11-08T17:30:10.966576Z",
     "iopub.status.busy": "2021-11-08T17:30:10.964304Z",
     "iopub.status.idle": "2021-11-08T17:30:10.969868Z",
     "shell.execute_reply": "2021-11-08T17:30:10.971219Z"
    },
    "papermill": {
     "duration": 0.04333,
     "end_time": "2021-11-08T17:30:10.971693",
     "exception": false,
     "start_time": "2021-11-08T17:30:10.928363",
     "status": "completed"
    },
    "tags": []
   },
   "outputs": [],
   "source": [
    "df_pivot.columns = [\"stamp_1\", \"stamp_2\"]\n",
    "df_pivot_diff = df_pivot.diff(axis=1)"
   ]
  },
  {
   "cell_type": "code",
   "execution_count": 7,
   "id": "fifth-motion",
   "metadata": {
    "execution": {
     "iopub.execute_input": "2021-11-08T17:30:11.030290Z",
     "iopub.status.busy": "2021-11-08T17:30:11.027444Z",
     "iopub.status.idle": "2021-11-08T17:30:12.757531Z",
     "shell.execute_reply": "2021-11-08T17:30:12.759001Z"
    },
    "papermill": {
     "duration": 1.765905,
     "end_time": "2021-11-08T17:30:12.759466",
     "exception": false,
     "start_time": "2021-11-08T17:30:10.993561",
     "status": "completed"
    },
    "tags": []
   },
   "outputs": [
    {
     "data": {
      "text/plain": [
       "<AxesSubplot:ylabel='PRODUCT'>"
      ]
     },
     "execution_count": 7,
     "metadata": {},
     "output_type": "execute_result"
    },
    {
     "data": {
      "image/png": "[encoded data removed]",
      "text/plain": [
       "<Figure size 432x288 with 1 Axes>"
      ]
     },
     "metadata": {
      "needs_background": "light"
     },
     "output_type": "display_data"
    }
   ],
   "source": [
    "df_pivot_diff.sort_values(\"stamp_2\", ascending = False)[\"stamp_2\"].head(10).plot.barh()"
   ]
  },
  {
   "cell_type": "code",
   "execution_count": null,
   "id": "extra-executive",
   "metadata": {
    "papermill": {
     "duration": 0.025122,
     "end_time": "2021-11-08T17:30:12.809166",
     "exception": false,
     "start_time": "2021-11-08T17:30:12.784044",
     "status": "completed"
    },
    "tags": []
   },
   "outputs": [],
   "source": []
  }
 ],
 "metadata": {
  "kernelspec": {
   "display_name": "Python 3",
   "language": "python",
   "name": "python3"
  },
  "language_info": {
   "codemirror_mode": {
    "name": "ipython",
    "version": 3
   },
   "file_extension": ".py",
   "mimetype": "text/x-python",
   "name": "python",
   "nbconvert_exporter": "python",
   "pygments_lexer": "ipython3",
   "version": "3.9.5"
  },
  "papermill": {
   "default_parameters": {},
   "duration": 9.009622,
   "end_time": "2021-11-08T17:30:13.987553",
   "environment_variables": {},
   "exception": null,
   "input_path": "eBay_Overview.ipynb",
   "output_path": "eBay_Overview.ipynb",
   "parameters": {},
   "start_time": "2021-11-08T17:30:04.977931",
   "version": "2.3.3"
  }
 },
 "nbformat": 4,
 "nbformat_minor": 5
}