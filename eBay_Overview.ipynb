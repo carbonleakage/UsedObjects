{
 "cells": [
  {
   "cell_type": "code",
   "execution_count": 1,
   "id": "reverse-picking",
   "metadata": {
    "execution": {
     "iopub.execute_input": "2021-09-19T13:00:07.120663Z",
     "iopub.status.busy": "2021-09-19T13:00:07.118660Z",
     "iopub.status.idle": "2021-09-19T13:00:07.918606Z",
     "shell.execute_reply": "2021-09-19T13:00:07.920119Z"
    },
    "papermill": {
     "duration": 0.85172,
     "end_time": "2021-09-19T13:00:07.920794",
     "exception": false,
     "start_time": "2021-09-19T13:00:07.069074",
     "status": "completed"
    },
    "tags": []
   },
   "outputs": [],
   "source": [
    "import pandas as pd\n",
    "import sqlite3"
   ]
  },
  {
   "cell_type": "code",
   "execution_count": 2,
   "id": "innovative-syndrome",
   "metadata": {
    "execution": {
     "iopub.execute_input": "2021-09-19T13:00:07.971483Z",
     "iopub.status.busy": "2021-09-19T13:00:07.969114Z",
     "iopub.status.idle": "2021-09-19T13:00:08.288194Z",
     "shell.execute_reply": "2021-09-19T13:00:08.289380Z"
    },
    "papermill": {
     "duration": 0.348647,
     "end_time": "2021-09-19T13:00:08.289767",
     "exception": false,
     "start_time": "2021-09-19T13:00:07.941120",
     "status": "completed"
    },
    "tags": []
   },
   "outputs": [],
   "source": [
    "timestamps = pd.read_sql(\"select distinct record_time from EBAY_TOP_BERLIN order by record_time desc limit 2\", sqlite3.connect(\"UsedObjects.db\"))"
   ]
  },
  {
   "cell_type": "code",
   "execution_count": 3,
   "id": "periodic-identification",
   "metadata": {
    "execution": {
     "iopub.execute_input": "2021-09-19T13:00:08.357854Z",
     "iopub.status.busy": "2021-09-19T13:00:08.355831Z",
     "iopub.status.idle": "2021-09-19T13:00:08.378407Z",
     "shell.execute_reply": "2021-09-19T13:00:08.380005Z"
    },
    "papermill": {
     "duration": 0.068211,
     "end_time": "2021-09-19T13:00:08.380519",
     "exception": false,
     "start_time": "2021-09-19T13:00:08.312308",
     "status": "completed"
    },
    "tags": []
   },
   "outputs": [
    {
     "data": {
      "text/html": [
       "<div>\n",
       "<style scoped>\n",
       "    .dataframe tbody tr th:only-of-type {\n",
       "        vertical-align: middle;\n",
       "    }\n",
       "\n",
       "    .dataframe tbody tr th {\n",
       "        vertical-align: top;\n",
       "    }\n",
       "\n",
       "    .dataframe thead th {\n",
       "        text-align: right;\n",
       "    }\n",
       "</style>\n",
       "<table border=\"1\" class=\"dataframe\">\n",
       "  <thead>\n",
       "    <tr style=\"text-align: right;\">\n",
       "      <th></th>\n",
       "      <th>RECORD_TIME</th>\n",
       "    </tr>\n",
       "  </thead>\n",
       "  <tbody>\n",
       "    <tr>\n",
       "      <th>0</th>\n",
       "      <td>2021-09-19 15:00</td>\n",
       "    </tr>\n",
       "    <tr>\n",
       "      <th>1</th>\n",
       "      <td>2021-09-19 14:30</td>\n",
       "    </tr>\n",
       "  </tbody>\n",
       "</table>\n",
       "</div>"
      ],
      "text/plain": [
       "        RECORD_TIME\n",
       "0  2021-09-19 15:00\n",
       "1  2021-09-19 14:30"
      ]
     },
     "execution_count": 3,
     "metadata": {},
     "output_type": "execute_result"
    }
   ],
   "source": [
    "timestamps"
   ]
  },
  {
   "cell_type": "code",
   "execution_count": 4,
   "id": "alternate-victory",
   "metadata": {
    "execution": {
     "iopub.execute_input": "2021-09-19T13:00:08.433215Z",
     "iopub.status.busy": "2021-09-19T13:00:08.431390Z",
     "iopub.status.idle": "2021-09-19T13:00:08.909071Z",
     "shell.execute_reply": "2021-09-19T13:00:08.910284Z"
    },
    "papermill": {
     "duration": 0.507298,
     "end_time": "2021-09-19T13:00:08.910667",
     "exception": false,
     "start_time": "2021-09-19T13:00:08.403369",
     "status": "completed"
    },
    "tags": []
   },
   "outputs": [],
   "source": [
    "df = pd.read_sql(\"select * from EBAY_TOP_BERLIN where record_time in (select distinct record_time from EBAY_TOP_BERLIN order by record_time desc limit 2)\", sqlite3.connect(\"UsedObjects.db\"))"
   ]
  },
  {
   "cell_type": "code",
   "execution_count": 5,
   "id": "popular-active",
   "metadata": {
    "execution": {
     "iopub.execute_input": "2021-09-19T13:00:08.981830Z",
     "iopub.status.busy": "2021-09-19T13:00:08.970505Z",
     "iopub.status.idle": "2021-09-19T13:00:08.997291Z",
     "shell.execute_reply": "2021-09-19T13:00:08.998497Z"
    },
    "papermill": {
     "duration": 0.06654,
     "end_time": "2021-09-19T13:00:08.999067",
     "exception": false,
     "start_time": "2021-09-19T13:00:08.932527",
     "status": "completed"
    },
    "tags": []
   },
   "outputs": [],
   "source": [
    "df_pivot = df.pivot_table(index=\"PRODUCT\", columns = \"RECORD_TIME\", values = \"LISTING_COUNT\")"
   ]
  },
  {
   "cell_type": "code",
   "execution_count": 6,
   "id": "union-huntington",
   "metadata": {
    "execution": {
     "iopub.execute_input": "2021-09-19T13:00:09.057956Z",
     "iopub.status.busy": "2021-09-19T13:00:09.055501Z",
     "iopub.status.idle": "2021-09-19T13:00:09.061385Z",
     "shell.execute_reply": "2021-09-19T13:00:09.062743Z"
    },
    "papermill": {
     "duration": 0.042178,
     "end_time": "2021-09-19T13:00:09.063234",
     "exception": false,
     "start_time": "2021-09-19T13:00:09.021056",
     "status": "completed"
    },
    "tags": []
   },
   "outputs": [],
   "source": [
    "df_pivot.columns = [\"stamp_1\", \"stamp_2\"]\n",
    "df_pivot_diff = df_pivot.diff(axis=1)"
   ]
  },
  {
   "cell_type": "code",
   "execution_count": 7,
   "id": "fifth-motion",
   "metadata": {
    "execution": {
     "iopub.execute_input": "2021-09-19T13:00:09.117938Z",
     "iopub.status.busy": "2021-09-19T13:00:09.115655Z",
     "iopub.status.idle": "2021-09-19T13:00:10.596940Z",
     "shell.execute_reply": "2021-09-19T13:00:10.598209Z"
    },
    "papermill": {
     "duration": 1.514112,
     "end_time": "2021-09-19T13:00:10.598617",
     "exception": false,
     "start_time": "2021-09-19T13:00:09.084505",
     "status": "completed"
    },
    "tags": []
   },
   "outputs": [
    {
     "data": {
      "text/plain": [
       "<AxesSubplot:ylabel='PRODUCT'>"
      ]
     },
     "execution_count": 7,
     "metadata": {},
     "output_type": "execute_result"
    },
    {
     "data": {
      "image/png": "[encoded data removed]",
      "text/plain": [
       "<Figure size 432x288 with 1 Axes>"
      ]
     },
     "metadata": {
      "needs_background": "light"
     },
     "output_type": "display_data"
    }
   ],
   "source": [
    "df_pivot_diff.sort_values(\"stamp_2\", ascending = False)[\"stamp_2\"].head(10).plot.barh()"
   ]
  },
  {
   "cell_type": "code",
   "execution_count": null,
   "id": "extra-executive",
   "metadata": {
    "papermill": {
     "duration": 0.022045,
     "end_time": "2021-09-19T13:00:10.644949",
     "exception": false,
     "start_time": "2021-09-19T13:00:10.622904",
     "status": "completed"
    },
    "tags": []
   },
   "outputs": [],
   "source": []
  }
 ],
 "metadata": {
  "kernelspec": {
   "display_name": "Python 3",
   "language": "python",
   "name": "python3"
  },
  "language_info": {
   "codemirror_mode": {
    "name": "ipython",
    "version": 3
   },
   "file_extension": ".py",
   "mimetype": "text/x-python",
   "name": "python",
   "nbconvert_exporter": "python",
   "pygments_lexer": "ipython3",
   "version": "3.9.5"
  },
  "papermill": {
   "default_parameters": {},
   "duration": 6.613321,
   "end_time": "2021-09-19T13:00:11.285632",
   "environment_variables": {},
   "exception": null,
   "input_path": "eBay_Overview.ipynb",
   "output_path": "eBay_Overview.ipynb",
   "parameters": {},
   "start_time": "2021-09-19T13:00:04.672311",
   "version": "2.3.3"
  }
 },
 "nbformat": 4,
 "nbformat_minor": 5
}