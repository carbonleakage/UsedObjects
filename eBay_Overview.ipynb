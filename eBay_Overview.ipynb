{
 "cells": [
  {
   "cell_type": "code",
   "execution_count": 1,
   "id": "reverse-picking",
   "metadata": {
    "execution": {
     "iopub.execute_input": "2021-11-07T04:30:07.216746Z",
     "iopub.status.busy": "2021-11-07T04:30:07.214415Z",
     "iopub.status.idle": "2021-11-07T04:30:08.150566Z",
     "shell.execute_reply": "2021-11-07T04:30:08.152050Z"
    },
    "papermill": {
     "duration": 0.984765,
     "end_time": "2021-11-07T04:30:08.152834",
     "exception": false,
     "start_time": "2021-11-07T04:30:07.168069",
     "status": "completed"
    },
    "tags": []
   },
   "outputs": [],
   "source": [
    "import pandas as pd\n",
    "import sqlite3"
   ]
  },
  {
   "cell_type": "code",
   "execution_count": 2,
   "id": "innovative-syndrome",
   "metadata": {
    "execution": {
     "iopub.execute_input": "2021-11-07T04:30:08.211881Z",
     "iopub.status.busy": "2021-11-07T04:30:08.209539Z",
     "iopub.status.idle": "2021-11-07T04:30:08.960034Z",
     "shell.execute_reply": "2021-11-07T04:30:08.961609Z"
    },
    "papermill": {
     "duration": 0.78615,
     "end_time": "2021-11-07T04:30:08.962107",
     "exception": false,
     "start_time": "2021-11-07T04:30:08.175957",
     "status": "completed"
    },
    "tags": []
   },
   "outputs": [],
   "source": [
    "timestamps = pd.read_sql(\"select distinct record_time from EBAY_TOP_BERLIN order by record_time desc limit 2\", sqlite3.connect(\"UsedObjects.db\"))"
   ]
  },
  {
   "cell_type": "code",
   "execution_count": 3,
   "id": "periodic-identification",
   "metadata": {
    "execution": {
     "iopub.execute_input": "2021-11-07T04:30:09.035862Z",
     "iopub.status.busy": "2021-11-07T04:30:09.030114Z",
     "iopub.status.idle": "2021-11-07T04:30:09.052557Z",
     "shell.execute_reply": "2021-11-07T04:30:09.054139Z"
    },
    "papermill": {
     "duration": 0.072522,
     "end_time": "2021-11-07T04:30:09.054623",
     "exception": false,
     "start_time": "2021-11-07T04:30:08.982101",
     "status": "completed"
    },
    "tags": []
   },
   "outputs": [
    {
     "data": {
      "text/html": [
       "<div>\n",
       "<style scoped>\n",
       "    .dataframe tbody tr th:only-of-type {\n",
       "        vertical-align: middle;\n",
       "    }\n",
       "\n",
       "    .dataframe tbody tr th {\n",
       "        vertical-align: top;\n",
       "    }\n",
       "\n",
       "    .dataframe thead th {\n",
       "        text-align: right;\n",
       "    }\n",
       "</style>\n",
       "<table border=\"1\" class=\"dataframe\">\n",
       "  <thead>\n",
       "    <tr style=\"text-align: right;\">\n",
       "      <th></th>\n",
       "      <th>RECORD_TIME</th>\n",
       "    </tr>\n",
       "  </thead>\n",
       "  <tbody>\n",
       "    <tr>\n",
       "      <th>0</th>\n",
       "      <td>2021-11-07 05:30</td>\n",
       "    </tr>\n",
       "    <tr>\n",
       "      <th>1</th>\n",
       "      <td>2021-11-07 05:00</td>\n",
       "    </tr>\n",
       "  </tbody>\n",
       "</table>\n",
       "</div>"
      ],
      "text/plain": [
       "        RECORD_TIME\n",
       "0  2021-11-07 05:30\n",
       "1  2021-11-07 05:00"
      ]
     },
     "execution_count": 3,
     "metadata": {},
     "output_type": "execute_result"
    }
   ],
   "source": [
    "timestamps"
   ]
  },
  {
   "cell_type": "code",
   "execution_count": 4,
   "id": "alternate-victory",
   "metadata": {
    "execution": {
     "iopub.execute_input": "2021-11-07T04:30:09.110141Z",
     "iopub.status.busy": "2021-11-07T04:30:09.108037Z",
     "iopub.status.idle": "2021-11-07T04:30:10.188243Z",
     "shell.execute_reply": "2021-11-07T04:30:10.189725Z"
    },
    "papermill": {
     "duration": 1.113619,
     "end_time": "2021-11-07T04:30:10.190207",
     "exception": false,
     "start_time": "2021-11-07T04:30:09.076588",
     "status": "completed"
    },
    "tags": []
   },
   "outputs": [],
   "source": [
    "df = pd.read_sql(\"select * from EBAY_TOP_BERLIN where record_time in (select distinct record_time from EBAY_TOP_BERLIN order by record_time desc limit 2)\", sqlite3.connect(\"UsedObjects.db\"))"
   ]
  },
  {
   "cell_type": "code",
   "execution_count": 5,
   "id": "popular-active",
   "metadata": {
    "execution": {
     "iopub.execute_input": "2021-11-07T04:30:10.254082Z",
     "iopub.status.busy": "2021-11-07T04:30:10.251834Z",
     "iopub.status.idle": "2021-11-07T04:30:10.284330Z",
     "shell.execute_reply": "2021-11-07T04:30:10.282794Z"
    },
    "papermill": {
     "duration": 0.073478,
     "end_time": "2021-11-07T04:30:10.284799",
     "exception": false,
     "start_time": "2021-11-07T04:30:10.211321",
     "status": "completed"
    },
    "tags": []
   },
   "outputs": [],
   "source": [
    "df_pivot = df.pivot_table(index=\"PRODUCT\", columns = \"RECORD_TIME\", values = \"LISTING_COUNT\")"
   ]
  },
  {
   "cell_type": "code",
   "execution_count": 6,
   "id": "union-huntington",
   "metadata": {
    "execution": {
     "iopub.execute_input": "2021-11-07T04:30:10.344261Z",
     "iopub.status.busy": "2021-11-07T04:30:10.342206Z",
     "iopub.status.idle": "2021-11-07T04:30:10.347584Z",
     "shell.execute_reply": "2021-11-07T04:30:10.348823Z"
    },
    "papermill": {
     "duration": 0.042924,
     "end_time": "2021-11-07T04:30:10.349262",
     "exception": false,
     "start_time": "2021-11-07T04:30:10.306338",
     "status": "completed"
    },
    "tags": []
   },
   "outputs": [],
   "source": [
    "df_pivot.columns = [\"stamp_1\", \"stamp_2\"]\n",
    "df_pivot_diff = df_pivot.diff(axis=1)"
   ]
  },
  {
   "cell_type": "code",
   "execution_count": 7,
   "id": "fifth-motion",
   "metadata": {
    "execution": {
     "iopub.execute_input": "2021-11-07T04:30:10.402951Z",
     "iopub.status.busy": "2021-11-07T04:30:10.400488Z",
     "iopub.status.idle": "2021-11-07T04:30:12.175439Z",
     "shell.execute_reply": "2021-11-07T04:30:12.176848Z"
    },
    "papermill": {
     "duration": 1.807816,
     "end_time": "2021-11-07T04:30:12.177329",
     "exception": false,
     "start_time": "2021-11-07T04:30:10.369513",
     "status": "completed"
    },
    "tags": []
   },
   "outputs": [
    {
     "data": {
      "text/plain": [
       "<AxesSubplot:ylabel='PRODUCT'>"
      ]
     },
     "execution_count": 7,
     "metadata": {},
     "output_type": "execute_result"
    },
    {
     "data": {
      "image/png": "[encoded data removed]",
      "text/plain": [
       "<Figure size 432x288 with 1 Axes>"
      ]
     },
     "metadata": {
      "needs_background": "light"
     },
     "output_type": "display_data"
    }
   ],
   "source": [
    "df_pivot_diff.sort_values(\"stamp_2\", ascending = False)[\"stamp_2\"].head(10).plot.barh()"
   ]
  },
  {
   "cell_type": "code",
   "execution_count": null,
   "id": "extra-executive",
   "metadata": {
    "papermill": {
     "duration": 0.024405,
     "end_time": "2021-11-07T04:30:12.226007",
     "exception": false,
     "start_time": "2021-11-07T04:30:12.201602",
     "status": "completed"
    },
    "tags": []
   },
   "outputs": [],
   "source": []
  }
 ],
 "metadata": {
  "kernelspec": {
   "display_name": "Python 3",
   "language": "python",
   "name": "python3"
  },
  "language_info": {
   "codemirror_mode": {
    "name": "ipython",
    "version": 3
   },
   "file_extension": ".py",
   "mimetype": "text/x-python",
   "name": "python",
   "nbconvert_exporter": "python",
   "pygments_lexer": "ipython3",
   "version": "3.9.5"
  },
  "papermill": {
   "default_parameters": {},
   "duration": 9.006391,
   "end_time": "2021-11-07T04:30:13.404340",
   "environment_variables": {},
   "exception": null,
   "input_path": "eBay_Overview.ipynb",
   "output_path": "eBay_Overview.ipynb",
   "parameters": {},
   "start_time": "2021-11-07T04:30:04.397949",
   "version": "2.3.3"
  }
 },
 "nbformat": 4,
 "nbformat_minor": 5
}