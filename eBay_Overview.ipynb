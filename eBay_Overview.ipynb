{
 "cells": [
  {
   "cell_type": "code",
   "execution_count": 1,
   "id": "reverse-picking",
   "metadata": {
    "execution": {
     "iopub.execute_input": "2021-10-06T01:30:06.982933Z",
     "iopub.status.busy": "2021-10-06T01:30:06.980932Z",
     "iopub.status.idle": "2021-10-06T01:30:07.790452Z",
     "shell.execute_reply": "2021-10-06T01:30:07.791798Z"
    },
    "papermill": {
     "duration": 0.860932,
     "end_time": "2021-10-06T01:30:07.792425",
     "exception": false,
     "start_time": "2021-10-06T01:30:06.931493",
     "status": "completed"
    },
    "tags": []
   },
   "outputs": [],
   "source": [
    "import pandas as pd\n",
    "import sqlite3"
   ]
  },
  {
   "cell_type": "code",
   "execution_count": 2,
   "id": "innovative-syndrome",
   "metadata": {
    "execution": {
     "iopub.execute_input": "2021-10-06T01:30:07.843414Z",
     "iopub.status.busy": "2021-10-06T01:30:07.841411Z",
     "iopub.status.idle": "2021-10-06T01:30:08.309474Z",
     "shell.execute_reply": "2021-10-06T01:30:08.310668Z"
    },
    "papermill": {
     "duration": 0.4975,
     "end_time": "2021-10-06T01:30:08.311266",
     "exception": false,
     "start_time": "2021-10-06T01:30:07.813766",
     "status": "completed"
    },
    "tags": []
   },
   "outputs": [],
   "source": [
    "timestamps = pd.read_sql(\"select distinct record_time from EBAY_TOP_BERLIN order by record_time desc limit 2\", sqlite3.connect(\"UsedObjects.db\"))"
   ]
  },
  {
   "cell_type": "code",
   "execution_count": 3,
   "id": "periodic-identification",
   "metadata": {
    "execution": {
     "iopub.execute_input": "2021-10-06T01:30:08.380055Z",
     "iopub.status.busy": "2021-10-06T01:30:08.375018Z",
     "iopub.status.idle": "2021-10-06T01:30:08.394946Z",
     "shell.execute_reply": "2021-10-06T01:30:08.396372Z"
    },
    "papermill": {
     "duration": 0.066261,
     "end_time": "2021-10-06T01:30:08.396803",
     "exception": false,
     "start_time": "2021-10-06T01:30:08.330542",
     "status": "completed"
    },
    "tags": []
   },
   "outputs": [
    {
     "data": {
      "text/html": [
       "<div>\n",
       "<style scoped>\n",
       "    .dataframe tbody tr th:only-of-type {\n",
       "        vertical-align: middle;\n",
       "    }\n",
       "\n",
       "    .dataframe tbody tr th {\n",
       "        vertical-align: top;\n",
       "    }\n",
       "\n",
       "    .dataframe thead th {\n",
       "        text-align: right;\n",
       "    }\n",
       "</style>\n",
       "<table border=\"1\" class=\"dataframe\">\n",
       "  <thead>\n",
       "    <tr style=\"text-align: right;\">\n",
       "      <th></th>\n",
       "      <th>RECORD_TIME</th>\n",
       "    </tr>\n",
       "  </thead>\n",
       "  <tbody>\n",
       "    <tr>\n",
       "      <th>0</th>\n",
       "      <td>2021-10-06 03:30</td>\n",
       "    </tr>\n",
       "    <tr>\n",
       "      <th>1</th>\n",
       "      <td>2021-10-06 03:00</td>\n",
       "    </tr>\n",
       "  </tbody>\n",
       "</table>\n",
       "</div>"
      ],
      "text/plain": [
       "        RECORD_TIME\n",
       "0  2021-10-06 03:30\n",
       "1  2021-10-06 03:00"
      ]
     },
     "execution_count": 3,
     "metadata": {},
     "output_type": "execute_result"
    }
   ],
   "source": [
    "timestamps"
   ]
  },
  {
   "cell_type": "code",
   "execution_count": 4,
   "id": "alternate-victory",
   "metadata": {
    "execution": {
     "iopub.execute_input": "2021-10-06T01:30:08.461254Z",
     "iopub.status.busy": "2021-10-06T01:30:08.459367Z",
     "iopub.status.idle": "2021-10-06T01:30:09.145113Z",
     "shell.execute_reply": "2021-10-06T01:30:09.146318Z"
    },
    "papermill": {
     "duration": 0.720229,
     "end_time": "2021-10-06T01:30:09.146713",
     "exception": false,
     "start_time": "2021-10-06T01:30:08.426484",
     "status": "completed"
    },
    "tags": []
   },
   "outputs": [],
   "source": [
    "df = pd.read_sql(\"select * from EBAY_TOP_BERLIN where record_time in (select distinct record_time from EBAY_TOP_BERLIN order by record_time desc limit 2)\", sqlite3.connect(\"UsedObjects.db\"))"
   ]
  },
  {
   "cell_type": "code",
   "execution_count": 5,
   "id": "popular-active",
   "metadata": {
    "execution": {
     "iopub.execute_input": "2021-10-06T01:30:09.217995Z",
     "iopub.status.busy": "2021-10-06T01:30:09.205204Z",
     "iopub.status.idle": "2021-10-06T01:30:09.233474Z",
     "shell.execute_reply": "2021-10-06T01:30:09.234681Z"
    },
    "papermill": {
     "duration": 0.068085,
     "end_time": "2021-10-06T01:30:09.235140",
     "exception": false,
     "start_time": "2021-10-06T01:30:09.167055",
     "status": "completed"
    },
    "tags": []
   },
   "outputs": [],
   "source": [
    "df_pivot = df.pivot_table(index=\"PRODUCT\", columns = \"RECORD_TIME\", values = \"LISTING_COUNT\")"
   ]
  },
  {
   "cell_type": "code",
   "execution_count": 6,
   "id": "union-huntington",
   "metadata": {
    "execution": {
     "iopub.execute_input": "2021-10-06T01:30:09.291156Z",
     "iopub.status.busy": "2021-10-06T01:30:09.289038Z",
     "iopub.status.idle": "2021-10-06T01:30:09.294173Z",
     "shell.execute_reply": "2021-10-06T01:30:09.295795Z"
    },
    "papermill": {
     "duration": 0.040538,
     "end_time": "2021-10-06T01:30:09.296249",
     "exception": false,
     "start_time": "2021-10-06T01:30:09.255711",
     "status": "completed"
    },
    "tags": []
   },
   "outputs": [],
   "source": [
    "df_pivot.columns = [\"stamp_1\", \"stamp_2\"]\n",
    "df_pivot_diff = df_pivot.diff(axis=1)"
   ]
  },
  {
   "cell_type": "code",
   "execution_count": 7,
   "id": "fifth-motion",
   "metadata": {
    "execution": {
     "iopub.execute_input": "2021-10-06T01:30:09.353471Z",
     "iopub.status.busy": "2021-10-06T01:30:09.350332Z",
     "iopub.status.idle": "2021-10-06T01:30:10.861194Z",
     "shell.execute_reply": "2021-10-06T01:30:10.862471Z"
    },
    "papermill": {
     "duration": 1.545088,
     "end_time": "2021-10-06T01:30:10.863094",
     "exception": false,
     "start_time": "2021-10-06T01:30:09.318006",
     "status": "completed"
    },
    "tags": []
   },
   "outputs": [
    {
     "data": {
      "text/plain": [
       "<AxesSubplot:ylabel='PRODUCT'>"
      ]
     },
     "execution_count": 7,
     "metadata": {},
     "output_type": "execute_result"
    },
    {
     "data": {
      "image/png": "[encoded data removed]",
      "text/plain": [
       "<Figure size 432x288 with 1 Axes>"
      ]
     },
     "metadata": {
      "needs_background": "light"
     },
     "output_type": "display_data"
    }
   ],
   "source": [
    "df_pivot_diff.sort_values(\"stamp_2\", ascending = False)[\"stamp_2\"].head(10).plot.barh()"
   ]
  },
  {
   "cell_type": "code",
   "execution_count": null,
   "id": "extra-executive",
   "metadata": {
    "papermill": {
     "duration": 0.022391,
     "end_time": "2021-10-06T01:30:10.910833",
     "exception": false,
     "start_time": "2021-10-06T01:30:10.888442",
     "status": "completed"
    },
    "tags": []
   },
   "outputs": [],
   "source": []
  }
 ],
 "metadata": {
  "kernelspec": {
   "display_name": "Python 3",
   "language": "python",
   "name": "python3"
  },
  "language_info": {
   "codemirror_mode": {
    "name": "ipython",
    "version": 3
   },
   "file_extension": ".py",
   "mimetype": "text/x-python",
   "name": "python",
   "nbconvert_exporter": "python",
   "pygments_lexer": "ipython3",
   "version": "3.9.5"
  },
  "papermill": {
   "default_parameters": {},
   "duration": 7.829348,
   "end_time": "2021-10-06T01:30:12.353007",
   "environment_variables": {},
   "exception": null,
   "input_path": "eBay_Overview.ipynb",
   "output_path": "eBay_Overview.ipynb",
   "parameters": {},
   "start_time": "2021-10-06T01:30:04.523659",
   "version": "2.3.3"
  }
 },
 "nbformat": 4,
 "nbformat_minor": 5
}