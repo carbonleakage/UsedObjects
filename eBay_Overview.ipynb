{
 "cells": [
  {
   "cell_type": "code",
   "execution_count": 1,
   "id": "reverse-picking",
   "metadata": {
    "execution": {
     "iopub.execute_input": "2021-11-28T12:00:07.829332Z",
     "iopub.status.busy": "2021-11-28T12:00:07.823624Z",
     "iopub.status.idle": "2021-11-28T12:00:08.751299Z",
     "shell.execute_reply": "2021-11-28T12:00:08.752931Z"
    },
    "papermill": {
     "duration": 0.978689,
     "end_time": "2021-11-28T12:00:08.753674",
     "exception": false,
     "start_time": "2021-11-28T12:00:07.774985",
     "status": "completed"
    },
    "tags": []
   },
   "outputs": [],
   "source": [
    "import pandas as pd\n",
    "import sqlite3"
   ]
  },
  {
   "cell_type": "code",
   "execution_count": 2,
   "id": "innovative-syndrome",
   "metadata": {
    "execution": {
     "iopub.execute_input": "2021-11-28T12:00:08.810770Z",
     "iopub.status.busy": "2021-11-28T12:00:08.808415Z",
     "iopub.status.idle": "2021-11-28T12:00:09.765544Z",
     "shell.execute_reply": "2021-11-28T12:00:09.763248Z"
    },
    "papermill": {
     "duration": 0.989792,
     "end_time": "2021-11-28T12:00:09.765957",
     "exception": false,
     "start_time": "2021-11-28T12:00:08.776165",
     "status": "completed"
    },
    "tags": []
   },
   "outputs": [],
   "source": [
    "timestamps = pd.read_sql(\"select distinct record_time from EBAY_TOP_BERLIN order by record_time desc limit 2\", sqlite3.connect(\"UsedObjects.db\"))"
   ]
  },
  {
   "cell_type": "code",
   "execution_count": 3,
   "id": "periodic-identification",
   "metadata": {
    "execution": {
     "iopub.execute_input": "2021-11-28T12:00:09.839113Z",
     "iopub.status.busy": "2021-11-28T12:00:09.833550Z",
     "iopub.status.idle": "2021-11-28T12:00:09.858373Z",
     "shell.execute_reply": "2021-11-28T12:00:09.859900Z"
    },
    "papermill": {
     "duration": 0.074523,
     "end_time": "2021-11-28T12:00:09.860428",
     "exception": false,
     "start_time": "2021-11-28T12:00:09.785905",
     "status": "completed"
    },
    "tags": []
   },
   "outputs": [
    {
     "data": {
      "text/html": [
       "<div>\n",
       "<style scoped>\n",
       "    .dataframe tbody tr th:only-of-type {\n",
       "        vertical-align: middle;\n",
       "    }\n",
       "\n",
       "    .dataframe tbody tr th {\n",
       "        vertical-align: top;\n",
       "    }\n",
       "\n",
       "    .dataframe thead th {\n",
       "        text-align: right;\n",
       "    }\n",
       "</style>\n",
       "<table border=\"1\" class=\"dataframe\">\n",
       "  <thead>\n",
       "    <tr style=\"text-align: right;\">\n",
       "      <th></th>\n",
       "      <th>RECORD_TIME</th>\n",
       "    </tr>\n",
       "  </thead>\n",
       "  <tbody>\n",
       "    <tr>\n",
       "      <th>0</th>\n",
       "      <td>2021-11-28 13:00</td>\n",
       "    </tr>\n",
       "    <tr>\n",
       "      <th>1</th>\n",
       "      <td>2021-11-28 12:30</td>\n",
       "    </tr>\n",
       "  </tbody>\n",
       "</table>\n",
       "</div>"
      ],
      "text/plain": [
       "        RECORD_TIME\n",
       "0  2021-11-28 13:00\n",
       "1  2021-11-28 12:30"
      ]
     },
     "execution_count": 3,
     "metadata": {},
     "output_type": "execute_result"
    }
   ],
   "source": [
    "timestamps"
   ]
  },
  {
   "cell_type": "code",
   "execution_count": 4,
   "id": "alternate-victory",
   "metadata": {
    "execution": {
     "iopub.execute_input": "2021-11-28T12:00:09.916287Z",
     "iopub.status.busy": "2021-11-28T12:00:09.914434Z",
     "iopub.status.idle": "2021-11-28T12:00:11.254679Z",
     "shell.execute_reply": "2021-11-28T12:00:11.256159Z"
    },
    "papermill": {
     "duration": 1.371707,
     "end_time": "2021-11-28T12:00:11.256624",
     "exception": false,
     "start_time": "2021-11-28T12:00:09.884917",
     "status": "completed"
    },
    "tags": []
   },
   "outputs": [],
   "source": [
    "df = pd.read_sql(\"select * from EBAY_TOP_BERLIN where record_time in (select distinct record_time from EBAY_TOP_BERLIN order by record_time desc limit 2)\", sqlite3.connect(\"UsedObjects.db\"))"
   ]
  },
  {
   "cell_type": "code",
   "execution_count": 5,
   "id": "popular-active",
   "metadata": {
    "execution": {
     "iopub.execute_input": "2021-11-28T12:00:11.325335Z",
     "iopub.status.busy": "2021-11-28T12:00:11.322925Z",
     "iopub.status.idle": "2021-11-28T12:00:11.353264Z",
     "shell.execute_reply": "2021-11-28T12:00:11.354615Z"
    },
    "papermill": {
     "duration": 0.075955,
     "end_time": "2021-11-28T12:00:11.355085",
     "exception": false,
     "start_time": "2021-11-28T12:00:11.279130",
     "status": "completed"
    },
    "tags": []
   },
   "outputs": [],
   "source": [
    "df_pivot = df.pivot_table(index=\"PRODUCT\", columns = \"RECORD_TIME\", values = \"LISTING_COUNT\")"
   ]
  },
  {
   "cell_type": "code",
   "execution_count": 6,
   "id": "union-huntington",
   "metadata": {
    "execution": {
     "iopub.execute_input": "2021-11-28T12:00:11.413552Z",
     "iopub.status.busy": "2021-11-28T12:00:11.411234Z",
     "iopub.status.idle": "2021-11-28T12:00:11.417106Z",
     "shell.execute_reply": "2021-11-28T12:00:11.418606Z"
    },
    "papermill": {
     "duration": 0.043879,
     "end_time": "2021-11-28T12:00:11.419074",
     "exception": false,
     "start_time": "2021-11-28T12:00:11.375195",
     "status": "completed"
    },
    "tags": []
   },
   "outputs": [],
   "source": [
    "df_pivot.columns = [\"stamp_1\", \"stamp_2\"]\n",
    "df_pivot_diff = df_pivot.diff(axis=1)"
   ]
  },
  {
   "cell_type": "code",
   "execution_count": 7,
   "id": "fifth-motion",
   "metadata": {
    "execution": {
     "iopub.execute_input": "2021-11-28T12:00:11.480826Z",
     "iopub.status.busy": "2021-11-28T12:00:11.478033Z",
     "iopub.status.idle": "2021-11-28T12:00:13.435129Z",
     "shell.execute_reply": "2021-11-28T12:00:13.438007Z"
    },
    "papermill": {
     "duration": 1.997926,
     "end_time": "2021-11-28T12:00:13.438769",
     "exception": false,
     "start_time": "2021-11-28T12:00:11.440843",
     "status": "completed"
    },
    "tags": []
   },
   "outputs": [
    {
     "data": {
      "text/plain": [
       "<AxesSubplot:ylabel='PRODUCT'>"
      ]
     },
     "execution_count": 7,
     "metadata": {},
     "output_type": "execute_result"
    },
    {
     "data": {
      "image/png": "[encoded data removed]",
      "text/plain": [
       "<Figure size 432x288 with 1 Axes>"
      ]
     },
     "metadata": {
      "needs_background": "light"
     },
     "output_type": "display_data"
    }
   ],
   "source": [
    "df_pivot_diff.sort_values(\"stamp_2\", ascending = False)[\"stamp_2\"].head(10).plot.barh()"
   ]
  },
  {
   "cell_type": "code",
   "execution_count": null,
   "id": "extra-executive",
   "metadata": {
    "papermill": {
     "duration": 0.033451,
     "end_time": "2021-11-28T12:00:13.510354",
     "exception": false,
     "start_time": "2021-11-28T12:00:13.476903",
     "status": "completed"
    },
    "tags": []
   },
   "outputs": [],
   "source": []
  }
 ],
 "metadata": {
  "kernelspec": {
   "display_name": "Python 3",
   "language": "python",
   "name": "python3"
  },
  "language_info": {
   "codemirror_mode": {
    "name": "ipython",
    "version": 3
   },
   "file_extension": ".py",
   "mimetype": "text/x-python",
   "name": "python",
   "nbconvert_exporter": "python",
   "pygments_lexer": "ipython3",
   "version": "3.9.5"
  },
  "papermill": {
   "default_parameters": {},
   "duration": 9.944697,
   "end_time": "2021-11-28T12:00:14.983362",
   "environment_variables": {},
   "exception": null,
   "input_path": "eBay_Overview.ipynb",
   "output_path": "eBay_Overview.ipynb",
   "parameters": {},
   "start_time": "2021-11-28T12:00:05.038665",
   "version": "2.3.3"
  }
 },
 "nbformat": 4,
 "nbformat_minor": 5
}