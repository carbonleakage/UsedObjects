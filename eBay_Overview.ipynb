{
 "cells": [
  {
   "cell_type": "code",
   "execution_count": 1,
   "id": "reverse-picking",
   "metadata": {
    "execution": {
     "iopub.execute_input": "2021-11-28T20:00:07.354667Z",
     "iopub.status.busy": "2021-11-28T20:00:07.352094Z",
     "iopub.status.idle": "2021-11-28T20:00:08.306515Z",
     "shell.execute_reply": "2021-11-28T20:00:08.308062Z"
    },
    "papermill": {
     "duration": 1.004656,
     "end_time": "2021-11-28T20:00:08.308840",
     "exception": false,
     "start_time": "2021-11-28T20:00:07.304184",
     "status": "completed"
    },
    "tags": []
   },
   "outputs": [],
   "source": [
    "import pandas as pd\n",
    "import sqlite3"
   ]
  },
  {
   "cell_type": "code",
   "execution_count": 2,
   "id": "innovative-syndrome",
   "metadata": {
    "execution": {
     "iopub.execute_input": "2021-11-28T20:00:08.375483Z",
     "iopub.status.busy": "2021-11-28T20:00:08.373168Z",
     "iopub.status.idle": "2021-11-28T20:00:09.317216Z",
     "shell.execute_reply": "2021-11-28T20:00:09.319002Z"
    },
    "papermill": {
     "duration": 0.980521,
     "end_time": "2021-11-28T20:00:09.319539",
     "exception": false,
     "start_time": "2021-11-28T20:00:08.339018",
     "status": "completed"
    },
    "tags": []
   },
   "outputs": [],
   "source": [
    "timestamps = pd.read_sql(\"select distinct record_time from EBAY_TOP_BERLIN order by record_time desc limit 2\", sqlite3.connect(\"UsedObjects.db\"))"
   ]
  },
  {
   "cell_type": "code",
   "execution_count": 3,
   "id": "periodic-identification",
   "metadata": {
    "execution": {
     "iopub.execute_input": "2021-11-28T20:00:09.397362Z",
     "iopub.status.busy": "2021-11-28T20:00:09.388404Z",
     "iopub.status.idle": "2021-11-28T20:00:09.413728Z",
     "shell.execute_reply": "2021-11-28T20:00:09.415097Z"
    },
    "papermill": {
     "duration": 0.074059,
     "end_time": "2021-11-28T20:00:09.415576",
     "exception": false,
     "start_time": "2021-11-28T20:00:09.341517",
     "status": "completed"
    },
    "tags": []
   },
   "outputs": [
    {
     "data": {
      "text/html": [
       "<div>\n",
       "<style scoped>\n",
       "    .dataframe tbody tr th:only-of-type {\n",
       "        vertical-align: middle;\n",
       "    }\n",
       "\n",
       "    .dataframe tbody tr th {\n",
       "        vertical-align: top;\n",
       "    }\n",
       "\n",
       "    .dataframe thead th {\n",
       "        text-align: right;\n",
       "    }\n",
       "</style>\n",
       "<table border=\"1\" class=\"dataframe\">\n",
       "  <thead>\n",
       "    <tr style=\"text-align: right;\">\n",
       "      <th></th>\n",
       "      <th>RECORD_TIME</th>\n",
       "    </tr>\n",
       "  </thead>\n",
       "  <tbody>\n",
       "    <tr>\n",
       "      <th>0</th>\n",
       "      <td>2021-11-28 21:00</td>\n",
       "    </tr>\n",
       "    <tr>\n",
       "      <th>1</th>\n",
       "      <td>2021-11-28 20:30</td>\n",
       "    </tr>\n",
       "  </tbody>\n",
       "</table>\n",
       "</div>"
      ],
      "text/plain": [
       "        RECORD_TIME\n",
       "0  2021-11-28 21:00\n",
       "1  2021-11-28 20:30"
      ]
     },
     "execution_count": 3,
     "metadata": {},
     "output_type": "execute_result"
    }
   ],
   "source": [
    "timestamps"
   ]
  },
  {
   "cell_type": "code",
   "execution_count": 4,
   "id": "alternate-victory",
   "metadata": {
    "execution": {
     "iopub.execute_input": "2021-11-28T20:00:09.474175Z",
     "iopub.status.busy": "2021-11-28T20:00:09.471924Z",
     "iopub.status.idle": "2021-11-28T20:00:10.831672Z",
     "shell.execute_reply": "2021-11-28T20:00:10.833397Z"
    },
    "papermill": {
     "duration": 1.396479,
     "end_time": "2021-11-28T20:00:10.833885",
     "exception": false,
     "start_time": "2021-11-28T20:00:09.437406",
     "status": "completed"
    },
    "tags": []
   },
   "outputs": [],
   "source": [
    "df = pd.read_sql(\"select * from EBAY_TOP_BERLIN where record_time in (select distinct record_time from EBAY_TOP_BERLIN order by record_time desc limit 2)\", sqlite3.connect(\"UsedObjects.db\"))"
   ]
  },
  {
   "cell_type": "code",
   "execution_count": 5,
   "id": "popular-active",
   "metadata": {
    "execution": {
     "iopub.execute_input": "2021-11-28T20:00:10.900587Z",
     "iopub.status.busy": "2021-11-28T20:00:10.898238Z",
     "iopub.status.idle": "2021-11-28T20:00:10.929692Z",
     "shell.execute_reply": "2021-11-28T20:00:10.931174Z"
    },
    "papermill": {
     "duration": 0.075136,
     "end_time": "2021-11-28T20:00:10.931637",
     "exception": false,
     "start_time": "2021-11-28T20:00:10.856501",
     "status": "completed"
    },
    "tags": []
   },
   "outputs": [],
   "source": [
    "df_pivot = df.pivot_table(index=\"PRODUCT\", columns = \"RECORD_TIME\", values = \"LISTING_COUNT\")"
   ]
  },
  {
   "cell_type": "code",
   "execution_count": 6,
   "id": "union-huntington",
   "metadata": {
    "execution": {
     "iopub.execute_input": "2021-11-28T20:00:10.990967Z",
     "iopub.status.busy": "2021-11-28T20:00:10.988660Z",
     "iopub.status.idle": "2021-11-28T20:00:10.993824Z",
     "shell.execute_reply": "2021-11-28T20:00:10.995425Z"
    },
    "papermill": {
     "duration": 0.044031,
     "end_time": "2021-11-28T20:00:10.995891",
     "exception": false,
     "start_time": "2021-11-28T20:00:10.951860",
     "status": "completed"
    },
    "tags": []
   },
   "outputs": [],
   "source": [
    "df_pivot.columns = [\"stamp_1\", \"stamp_2\"]\n",
    "df_pivot_diff = df_pivot.diff(axis=1)"
   ]
  },
  {
   "cell_type": "code",
   "execution_count": 7,
   "id": "fifth-motion",
   "metadata": {
    "execution": {
     "iopub.execute_input": "2021-11-28T20:00:11.058208Z",
     "iopub.status.busy": "2021-11-28T20:00:11.055409Z",
     "iopub.status.idle": "2021-11-28T20:00:13.008856Z",
     "shell.execute_reply": "2021-11-28T20:00:13.011669Z"
    },
    "papermill": {
     "duration": 1.996513,
     "end_time": "2021-11-28T20:00:13.012642",
     "exception": false,
     "start_time": "2021-11-28T20:00:11.016129",
     "status": "completed"
    },
    "tags": []
   },
   "outputs": [
    {
     "data": {
      "text/plain": [
       "<AxesSubplot:ylabel='PRODUCT'>"
      ]
     },
     "execution_count": 7,
     "metadata": {},
     "output_type": "execute_result"
    },
    {
     "data": {
      "image/png": "[encoded data removed]",
      "text/plain": [
       "<Figure size 432x288 with 1 Axes>"
      ]
     },
     "metadata": {
      "needs_background": "light"
     },
     "output_type": "display_data"
    }
   ],
   "source": [
    "df_pivot_diff.sort_values(\"stamp_2\", ascending = False)[\"stamp_2\"].head(10).plot.barh()"
   ]
  },
  {
   "cell_type": "code",
   "execution_count": null,
   "id": "extra-executive",
   "metadata": {
    "papermill": {
     "duration": 0.034635,
     "end_time": "2021-11-28T20:00:13.085445",
     "exception": false,
     "start_time": "2021-11-28T20:00:13.050810",
     "status": "completed"
    },
    "tags": []
   },
   "outputs": [],
   "source": []
  }
 ],
 "metadata": {
  "kernelspec": {
   "display_name": "Python 3",
   "language": "python",
   "name": "python3"
  },
  "language_info": {
   "codemirror_mode": {
    "name": "ipython",
    "version": 3
   },
   "file_extension": ".py",
   "mimetype": "text/x-python",
   "name": "python",
   "nbconvert_exporter": "python",
   "pygments_lexer": "ipython3",
   "version": "3.9.5"
  },
  "papermill": {
   "default_parameters": {},
   "duration": 9.94764,
   "end_time": "2021-11-28T20:00:14.506674",
   "environment_variables": {},
   "exception": null,
   "input_path": "eBay_Overview.ipynb",
   "output_path": "eBay_Overview.ipynb",
   "parameters": {},
   "start_time": "2021-11-28T20:00:04.559034",
   "version": "2.3.3"
  }
 },
 "nbformat": 4,
 "nbformat_minor": 5
}