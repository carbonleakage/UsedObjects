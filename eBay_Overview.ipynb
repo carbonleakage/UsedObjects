{
 "cells": [
  {
   "cell_type": "code",
   "execution_count": 1,
   "id": "reverse-picking",
   "metadata": {
    "execution": {
     "iopub.execute_input": "2021-11-06T04:30:07.432806Z",
     "iopub.status.busy": "2021-11-06T04:30:07.429886Z",
     "iopub.status.idle": "2021-11-06T04:30:08.385113Z",
     "shell.execute_reply": "2021-11-06T04:30:08.386829Z"
    },
    "papermill": {
     "duration": 1.003891,
     "end_time": "2021-11-06T04:30:08.387625",
     "exception": false,
     "start_time": "2021-11-06T04:30:07.383734",
     "status": "completed"
    },
    "tags": []
   },
   "outputs": [],
   "source": [
    "import pandas as pd\n",
    "import sqlite3"
   ]
  },
  {
   "cell_type": "code",
   "execution_count": 2,
   "id": "innovative-syndrome",
   "metadata": {
    "execution": {
     "iopub.execute_input": "2021-11-06T04:30:08.450451Z",
     "iopub.status.busy": "2021-11-06T04:30:08.448094Z",
     "iopub.status.idle": "2021-11-06T04:30:09.186064Z",
     "shell.execute_reply": "2021-11-06T04:30:09.187703Z"
    },
    "papermill": {
     "duration": 0.772765,
     "end_time": "2021-11-06T04:30:09.188202",
     "exception": false,
     "start_time": "2021-11-06T04:30:08.415437",
     "status": "completed"
    },
    "tags": []
   },
   "outputs": [],
   "source": [
    "timestamps = pd.read_sql(\"select distinct record_time from EBAY_TOP_BERLIN order by record_time desc limit 2\", sqlite3.connect(\"UsedObjects.db\"))"
   ]
  },
  {
   "cell_type": "code",
   "execution_count": 3,
   "id": "periodic-identification",
   "metadata": {
    "execution": {
     "iopub.execute_input": "2021-11-06T04:30:09.263944Z",
     "iopub.status.busy": "2021-11-06T04:30:09.257499Z",
     "iopub.status.idle": "2021-11-06T04:30:09.280440Z",
     "shell.execute_reply": "2021-11-06T04:30:09.282022Z"
    },
    "papermill": {
     "duration": 0.074029,
     "end_time": "2021-11-06T04:30:09.282643",
     "exception": false,
     "start_time": "2021-11-06T04:30:09.208614",
     "status": "completed"
    },
    "tags": []
   },
   "outputs": [
    {
     "data": {
      "text/html": [
       "<div>\n",
       "<style scoped>\n",
       "    .dataframe tbody tr th:only-of-type {\n",
       "        vertical-align: middle;\n",
       "    }\n",
       "\n",
       "    .dataframe tbody tr th {\n",
       "        vertical-align: top;\n",
       "    }\n",
       "\n",
       "    .dataframe thead th {\n",
       "        text-align: right;\n",
       "    }\n",
       "</style>\n",
       "<table border=\"1\" class=\"dataframe\">\n",
       "  <thead>\n",
       "    <tr style=\"text-align: right;\">\n",
       "      <th></th>\n",
       "      <th>RECORD_TIME</th>\n",
       "    </tr>\n",
       "  </thead>\n",
       "  <tbody>\n",
       "    <tr>\n",
       "      <th>0</th>\n",
       "      <td>2021-11-06 05:30</td>\n",
       "    </tr>\n",
       "    <tr>\n",
       "      <th>1</th>\n",
       "      <td>2021-11-06 05:00</td>\n",
       "    </tr>\n",
       "  </tbody>\n",
       "</table>\n",
       "</div>"
      ],
      "text/plain": [
       "        RECORD_TIME\n",
       "0  2021-11-06 05:30\n",
       "1  2021-11-06 05:00"
      ]
     },
     "execution_count": 3,
     "metadata": {},
     "output_type": "execute_result"
    }
   ],
   "source": [
    "timestamps"
   ]
  },
  {
   "cell_type": "code",
   "execution_count": 4,
   "id": "alternate-victory",
   "metadata": {
    "execution": {
     "iopub.execute_input": "2021-11-06T04:30:09.338912Z",
     "iopub.status.busy": "2021-11-06T04:30:09.336770Z",
     "iopub.status.idle": "2021-11-06T04:30:10.391419Z",
     "shell.execute_reply": "2021-11-06T04:30:10.389834Z"
    },
    "papermill": {
     "duration": 1.087923,
     "end_time": "2021-11-06T04:30:10.391841",
     "exception": false,
     "start_time": "2021-11-06T04:30:09.303918",
     "status": "completed"
    },
    "tags": []
   },
   "outputs": [],
   "source": [
    "df = pd.read_sql(\"select * from EBAY_TOP_BERLIN where record_time in (select distinct record_time from EBAY_TOP_BERLIN order by record_time desc limit 2)\", sqlite3.connect(\"UsedObjects.db\"))"
   ]
  },
  {
   "cell_type": "code",
   "execution_count": 5,
   "id": "popular-active",
   "metadata": {
    "execution": {
     "iopub.execute_input": "2021-11-06T04:30:10.456740Z",
     "iopub.status.busy": "2021-11-06T04:30:10.454682Z",
     "iopub.status.idle": "2021-11-06T04:30:10.521161Z",
     "shell.execute_reply": "2021-11-06T04:30:10.522740Z"
    },
    "papermill": {
     "duration": 0.108987,
     "end_time": "2021-11-06T04:30:10.523245",
     "exception": false,
     "start_time": "2021-11-06T04:30:10.414258",
     "status": "completed"
    },
    "tags": []
   },
   "outputs": [],
   "source": [
    "df_pivot = df.pivot_table(index=\"PRODUCT\", columns = \"RECORD_TIME\", values = \"LISTING_COUNT\")"
   ]
  },
  {
   "cell_type": "code",
   "execution_count": 6,
   "id": "union-huntington",
   "metadata": {
    "execution": {
     "iopub.execute_input": "2021-11-06T04:30:10.586252Z",
     "iopub.status.busy": "2021-11-06T04:30:10.583759Z",
     "iopub.status.idle": "2021-11-06T04:30:10.589931Z",
     "shell.execute_reply": "2021-11-06T04:30:10.591433Z"
    },
    "papermill": {
     "duration": 0.046575,
     "end_time": "2021-11-06T04:30:10.591979",
     "exception": false,
     "start_time": "2021-11-06T04:30:10.545404",
     "status": "completed"
    },
    "tags": []
   },
   "outputs": [],
   "source": [
    "df_pivot.columns = [\"stamp_1\", \"stamp_2\"]\n",
    "df_pivot_diff = df_pivot.diff(axis=1)"
   ]
  },
  {
   "cell_type": "code",
   "execution_count": 7,
   "id": "fifth-motion",
   "metadata": {
    "execution": {
     "iopub.execute_input": "2021-11-06T04:30:10.651503Z",
     "iopub.status.busy": "2021-11-06T04:30:10.648812Z",
     "iopub.status.idle": "2021-11-06T04:30:12.470603Z",
     "shell.execute_reply": "2021-11-06T04:30:12.471966Z"
    },
    "papermill": {
     "duration": 1.859498,
     "end_time": "2021-11-06T04:30:12.472449",
     "exception": false,
     "start_time": "2021-11-06T04:30:10.612951",
     "status": "completed"
    },
    "tags": []
   },
   "outputs": [
    {
     "data": {
      "text/plain": [
       "<AxesSubplot:ylabel='PRODUCT'>"
      ]
     },
     "execution_count": 7,
     "metadata": {},
     "output_type": "execute_result"
    },
    {
     "data": {
      "image/png": "[encoded data removed]",
      "text/plain": [
       "<Figure size 432x288 with 1 Axes>"
      ]
     },
     "metadata": {
      "needs_background": "light"
     },
     "output_type": "display_data"
    }
   ],
   "source": [
    "df_pivot_diff.sort_values(\"stamp_2\", ascending = False)[\"stamp_2\"].head(10).plot.barh()"
   ]
  },
  {
   "cell_type": "code",
   "execution_count": null,
   "id": "extra-executive",
   "metadata": {
    "papermill": {
     "duration": 0.023155,
     "end_time": "2021-11-06T04:30:12.520352",
     "exception": false,
     "start_time": "2021-11-06T04:30:12.497197",
     "status": "completed"
    },
    "tags": []
   },
   "outputs": [],
   "source": []
  }
 ],
 "metadata": {
  "kernelspec": {
   "display_name": "Python 3",
   "language": "python",
   "name": "python3"
  },
  "language_info": {
   "codemirror_mode": {
    "name": "ipython",
    "version": 3
   },
   "file_extension": ".py",
   "mimetype": "text/x-python",
   "name": "python",
   "nbconvert_exporter": "python",
   "pygments_lexer": "ipython3",
   "version": "3.9.5"
  },
  "papermill": {
   "default_parameters": {},
   "duration": 8.867305,
   "end_time": "2021-11-06T04:30:13.373916",
   "environment_variables": {},
   "exception": null,
   "input_path": "eBay_Overview.ipynb",
   "output_path": "eBay_Overview.ipynb",
   "parameters": {},
   "start_time": "2021-11-06T04:30:04.506611",
   "version": "2.3.3"
  }
 },
 "nbformat": 4,
 "nbformat_minor": 5
}