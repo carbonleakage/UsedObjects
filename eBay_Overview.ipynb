{
 "cells": [
  {
   "cell_type": "code",
   "execution_count": 1,
   "id": "reverse-picking",
   "metadata": {
    "execution": {
     "iopub.execute_input": "2021-11-07T19:00:07.444345Z",
     "iopub.status.busy": "2021-11-07T19:00:07.442043Z",
     "iopub.status.idle": "2021-11-07T19:00:08.400258Z",
     "shell.execute_reply": "2021-11-07T19:00:08.401835Z"
    },
    "papermill": {
     "duration": 1.009413,
     "end_time": "2021-11-07T19:00:08.402554",
     "exception": false,
     "start_time": "2021-11-07T19:00:07.393141",
     "status": "completed"
    },
    "tags": []
   },
   "outputs": [],
   "source": [
    "import pandas as pd\n",
    "import sqlite3"
   ]
  },
  {
   "cell_type": "code",
   "execution_count": 2,
   "id": "innovative-syndrome",
   "metadata": {
    "execution": {
     "iopub.execute_input": "2021-11-07T19:00:08.467675Z",
     "iopub.status.busy": "2021-11-07T19:00:08.465385Z",
     "iopub.status.idle": "2021-11-07T19:00:09.222161Z",
     "shell.execute_reply": "2021-11-07T19:00:09.223635Z"
    },
    "papermill": {
     "duration": 0.791608,
     "end_time": "2021-11-07T19:00:09.224240",
     "exception": false,
     "start_time": "2021-11-07T19:00:08.432632",
     "status": "completed"
    },
    "tags": []
   },
   "outputs": [],
   "source": [
    "timestamps = pd.read_sql(\"select distinct record_time from EBAY_TOP_BERLIN order by record_time desc limit 2\", sqlite3.connect(\"UsedObjects.db\"))"
   ]
  },
  {
   "cell_type": "code",
   "execution_count": 3,
   "id": "periodic-identification",
   "metadata": {
    "execution": {
     "iopub.execute_input": "2021-11-07T19:00:09.311922Z",
     "iopub.status.busy": "2021-11-07T19:00:09.309598Z",
     "iopub.status.idle": "2021-11-07T19:00:09.332506Z",
     "shell.execute_reply": "2021-11-07T19:00:09.334288Z"
    },
    "papermill": {
     "duration": 0.088351,
     "end_time": "2021-11-07T19:00:09.334810",
     "exception": false,
     "start_time": "2021-11-07T19:00:09.246459",
     "status": "completed"
    },
    "tags": []
   },
   "outputs": [
    {
     "data": {
      "text/html": [
       "<div>\n",
       "<style scoped>\n",
       "    .dataframe tbody tr th:only-of-type {\n",
       "        vertical-align: middle;\n",
       "    }\n",
       "\n",
       "    .dataframe tbody tr th {\n",
       "        vertical-align: top;\n",
       "    }\n",
       "\n",
       "    .dataframe thead th {\n",
       "        text-align: right;\n",
       "    }\n",
       "</style>\n",
       "<table border=\"1\" class=\"dataframe\">\n",
       "  <thead>\n",
       "    <tr style=\"text-align: right;\">\n",
       "      <th></th>\n",
       "      <th>RECORD_TIME</th>\n",
       "    </tr>\n",
       "  </thead>\n",
       "  <tbody>\n",
       "    <tr>\n",
       "      <th>0</th>\n",
       "      <td>2021-11-07 20:00</td>\n",
       "    </tr>\n",
       "    <tr>\n",
       "      <th>1</th>\n",
       "      <td>2021-11-07 19:30</td>\n",
       "    </tr>\n",
       "  </tbody>\n",
       "</table>\n",
       "</div>"
      ],
      "text/plain": [
       "        RECORD_TIME\n",
       "0  2021-11-07 20:00\n",
       "1  2021-11-07 19:30"
      ]
     },
     "execution_count": 3,
     "metadata": {},
     "output_type": "execute_result"
    }
   ],
   "source": [
    "timestamps"
   ]
  },
  {
   "cell_type": "code",
   "execution_count": 4,
   "id": "alternate-victory",
   "metadata": {
    "execution": {
     "iopub.execute_input": "2021-11-07T19:00:09.391512Z",
     "iopub.status.busy": "2021-11-07T19:00:09.389332Z",
     "iopub.status.idle": "2021-11-07T19:00:10.469936Z",
     "shell.execute_reply": "2021-11-07T19:00:10.471417Z"
    },
    "papermill": {
     "duration": 1.115018,
     "end_time": "2021-11-07T19:00:10.471874",
     "exception": false,
     "start_time": "2021-11-07T19:00:09.356856",
     "status": "completed"
    },
    "tags": []
   },
   "outputs": [],
   "source": [
    "df = pd.read_sql(\"select * from EBAY_TOP_BERLIN where record_time in (select distinct record_time from EBAY_TOP_BERLIN order by record_time desc limit 2)\", sqlite3.connect(\"UsedObjects.db\"))"
   ]
  },
  {
   "cell_type": "code",
   "execution_count": 5,
   "id": "popular-active",
   "metadata": {
    "execution": {
     "iopub.execute_input": "2021-11-07T19:00:10.533481Z",
     "iopub.status.busy": "2021-11-07T19:00:10.531097Z",
     "iopub.status.idle": "2021-11-07T19:00:10.606545Z",
     "shell.execute_reply": "2021-11-07T19:00:10.608236Z"
    },
    "papermill": {
     "duration": 0.113847,
     "end_time": "2021-11-07T19:00:10.608869",
     "exception": false,
     "start_time": "2021-11-07T19:00:10.495022",
     "status": "completed"
    },
    "tags": []
   },
   "outputs": [],
   "source": [
    "df_pivot = df.pivot_table(index=\"PRODUCT\", columns = \"RECORD_TIME\", values = \"LISTING_COUNT\")"
   ]
  },
  {
   "cell_type": "code",
   "execution_count": 6,
   "id": "union-huntington",
   "metadata": {
    "execution": {
     "iopub.execute_input": "2021-11-07T19:00:10.670648Z",
     "iopub.status.busy": "2021-11-07T19:00:10.668273Z",
     "iopub.status.idle": "2021-11-07T19:00:10.674581Z",
     "shell.execute_reply": "2021-11-07T19:00:10.676096Z"
    },
    "papermill": {
     "duration": 0.046107,
     "end_time": "2021-11-07T19:00:10.676626",
     "exception": false,
     "start_time": "2021-11-07T19:00:10.630519",
     "status": "completed"
    },
    "tags": []
   },
   "outputs": [],
   "source": [
    "df_pivot.columns = [\"stamp_1\", \"stamp_2\"]\n",
    "df_pivot_diff = df_pivot.diff(axis=1)"
   ]
  },
  {
   "cell_type": "code",
   "execution_count": 7,
   "id": "fifth-motion",
   "metadata": {
    "execution": {
     "iopub.execute_input": "2021-11-07T19:00:10.736008Z",
     "iopub.status.busy": "2021-11-07T19:00:10.733447Z",
     "iopub.status.idle": "2021-11-07T19:00:12.476485Z",
     "shell.execute_reply": "2021-11-07T19:00:12.478018Z"
    },
    "papermill": {
     "duration": 1.780509,
     "end_time": "2021-11-07T19:00:12.478514",
     "exception": false,
     "start_time": "2021-11-07T19:00:10.698005",
     "status": "completed"
    },
    "tags": []
   },
   "outputs": [
    {
     "data": {
      "text/plain": [
       "<AxesSubplot:ylabel='PRODUCT'>"
      ]
     },
     "execution_count": 7,
     "metadata": {},
     "output_type": "execute_result"
    },
    {
     "data": {
      "image/png": "[encoded data removed]",
      "text/plain": [
       "<Figure size 432x288 with 1 Axes>"
      ]
     },
     "metadata": {
      "needs_background": "light"
     },
     "output_type": "display_data"
    }
   ],
   "source": [
    "df_pivot_diff.sort_values(\"stamp_2\", ascending = False)[\"stamp_2\"].head(10).plot.barh()"
   ]
  },
  {
   "cell_type": "code",
   "execution_count": null,
   "id": "extra-executive",
   "metadata": {
    "papermill": {
     "duration": 0.023711,
     "end_time": "2021-11-07T19:00:12.526364",
     "exception": false,
     "start_time": "2021-11-07T19:00:12.502653",
     "status": "completed"
    },
    "tags": []
   },
   "outputs": [],
   "source": []
  }
 ],
 "metadata": {
  "kernelspec": {
   "display_name": "Python 3",
   "language": "python",
   "name": "python3"
  },
  "language_info": {
   "codemirror_mode": {
    "name": "ipython",
    "version": 3
   },
   "file_extension": ".py",
   "mimetype": "text/x-python",
   "name": "python",
   "nbconvert_exporter": "python",
   "pygments_lexer": "ipython3",
   "version": "3.9.5"
  },
  "papermill": {
   "default_parameters": {},
   "duration": 8.832091,
   "end_time": "2021-11-07T19:00:13.375166",
   "environment_variables": {},
   "exception": null,
   "input_path": "eBay_Overview.ipynb",
   "output_path": "eBay_Overview.ipynb",
   "parameters": {},
   "start_time": "2021-11-07T19:00:04.543075",
   "version": "2.3.3"
  }
 },
 "nbformat": 4,
 "nbformat_minor": 5
}