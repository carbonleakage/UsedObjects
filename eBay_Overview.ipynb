{
 "cells": [
  {
   "cell_type": "code",
   "execution_count": 1,
   "id": "reverse-picking",
   "metadata": {
    "execution": {
     "iopub.execute_input": "2021-11-07T09:00:07.423900Z",
     "iopub.status.busy": "2021-11-07T09:00:07.421898Z",
     "iopub.status.idle": "2021-11-07T09:00:08.377077Z",
     "shell.execute_reply": "2021-11-07T09:00:08.378535Z"
    },
    "papermill": {
     "duration": 1.005076,
     "end_time": "2021-11-07T09:00:08.379255",
     "exception": false,
     "start_time": "2021-11-07T09:00:07.374179",
     "status": "completed"
    },
    "tags": []
   },
   "outputs": [],
   "source": [
    "import pandas as pd\n",
    "import sqlite3"
   ]
  },
  {
   "cell_type": "code",
   "execution_count": 2,
   "id": "innovative-syndrome",
   "metadata": {
    "execution": {
     "iopub.execute_input": "2021-11-07T09:00:08.441776Z",
     "iopub.status.busy": "2021-11-07T09:00:08.439397Z",
     "iopub.status.idle": "2021-11-07T09:00:09.178805Z",
     "shell.execute_reply": "2021-11-07T09:00:09.180283Z"
    },
    "papermill": {
     "duration": 0.773977,
     "end_time": "2021-11-07T09:00:09.180924",
     "exception": false,
     "start_time": "2021-11-07T09:00:08.406947",
     "status": "completed"
    },
    "tags": []
   },
   "outputs": [],
   "source": [
    "timestamps = pd.read_sql(\"select distinct record_time from EBAY_TOP_BERLIN order by record_time desc limit 2\", sqlite3.connect(\"UsedObjects.db\"))"
   ]
  },
  {
   "cell_type": "code",
   "execution_count": 3,
   "id": "periodic-identification",
   "metadata": {
    "execution": {
     "iopub.execute_input": "2021-11-07T09:00:09.270556Z",
     "iopub.status.busy": "2021-11-07T09:00:09.264458Z",
     "iopub.status.idle": "2021-11-07T09:00:09.287068Z",
     "shell.execute_reply": "2021-11-07T09:00:09.288648Z"
    },
    "papermill": {
     "duration": 0.082897,
     "end_time": "2021-11-07T09:00:09.289257",
     "exception": false,
     "start_time": "2021-11-07T09:00:09.206360",
     "status": "completed"
    },
    "tags": []
   },
   "outputs": [
    {
     "data": {
      "text/html": [
       "<div>\n",
       "<style scoped>\n",
       "    .dataframe tbody tr th:only-of-type {\n",
       "        vertical-align: middle;\n",
       "    }\n",
       "\n",
       "    .dataframe tbody tr th {\n",
       "        vertical-align: top;\n",
       "    }\n",
       "\n",
       "    .dataframe thead th {\n",
       "        text-align: right;\n",
       "    }\n",
       "</style>\n",
       "<table border=\"1\" class=\"dataframe\">\n",
       "  <thead>\n",
       "    <tr style=\"text-align: right;\">\n",
       "      <th></th>\n",
       "      <th>RECORD_TIME</th>\n",
       "    </tr>\n",
       "  </thead>\n",
       "  <tbody>\n",
       "    <tr>\n",
       "      <th>0</th>\n",
       "      <td>2021-11-07 10:00</td>\n",
       "    </tr>\n",
       "    <tr>\n",
       "      <th>1</th>\n",
       "      <td>2021-11-07 09:30</td>\n",
       "    </tr>\n",
       "  </tbody>\n",
       "</table>\n",
       "</div>"
      ],
      "text/plain": [
       "        RECORD_TIME\n",
       "0  2021-11-07 10:00\n",
       "1  2021-11-07 09:30"
      ]
     },
     "execution_count": 3,
     "metadata": {},
     "output_type": "execute_result"
    }
   ],
   "source": [
    "timestamps"
   ]
  },
  {
   "cell_type": "code",
   "execution_count": 4,
   "id": "alternate-victory",
   "metadata": {
    "execution": {
     "iopub.execute_input": "2021-11-07T09:00:09.345499Z",
     "iopub.status.busy": "2021-11-07T09:00:09.343340Z",
     "iopub.status.idle": "2021-11-07T09:00:10.419635Z",
     "shell.execute_reply": "2021-11-07T09:00:10.421115Z"
    },
    "papermill": {
     "duration": 1.110299,
     "end_time": "2021-11-07T09:00:10.421603",
     "exception": false,
     "start_time": "2021-11-07T09:00:09.311304",
     "status": "completed"
    },
    "tags": []
   },
   "outputs": [],
   "source": [
    "df = pd.read_sql(\"select * from EBAY_TOP_BERLIN where record_time in (select distinct record_time from EBAY_TOP_BERLIN order by record_time desc limit 2)\", sqlite3.connect(\"UsedObjects.db\"))"
   ]
  },
  {
   "cell_type": "code",
   "execution_count": 5,
   "id": "popular-active",
   "metadata": {
    "execution": {
     "iopub.execute_input": "2021-11-07T09:00:10.532636Z",
     "iopub.status.busy": "2021-11-07T09:00:10.519019Z",
     "iopub.status.idle": "2021-11-07T09:00:10.552255Z",
     "shell.execute_reply": "2021-11-07T09:00:10.553829Z"
    },
    "papermill": {
     "duration": 0.091037,
     "end_time": "2021-11-07T09:00:10.554342",
     "exception": false,
     "start_time": "2021-11-07T09:00:10.463305",
     "status": "completed"
    },
    "tags": []
   },
   "outputs": [],
   "source": [
    "df_pivot = df.pivot_table(index=\"PRODUCT\", columns = \"RECORD_TIME\", values = \"LISTING_COUNT\")"
   ]
  },
  {
   "cell_type": "code",
   "execution_count": 6,
   "id": "union-huntington",
   "metadata": {
    "execution": {
     "iopub.execute_input": "2021-11-07T09:00:10.617298Z",
     "iopub.status.busy": "2021-11-07T09:00:10.614882Z",
     "iopub.status.idle": "2021-11-07T09:00:10.620667Z",
     "shell.execute_reply": "2021-11-07T09:00:10.622273Z"
    },
    "papermill": {
     "duration": 0.046031,
     "end_time": "2021-11-07T09:00:10.622774",
     "exception": false,
     "start_time": "2021-11-07T09:00:10.576743",
     "status": "completed"
    },
    "tags": []
   },
   "outputs": [],
   "source": [
    "df_pivot.columns = [\"stamp_1\", \"stamp_2\"]\n",
    "df_pivot_diff = df_pivot.diff(axis=1)"
   ]
  },
  {
   "cell_type": "code",
   "execution_count": 7,
   "id": "fifth-motion",
   "metadata": {
    "execution": {
     "iopub.execute_input": "2021-11-07T09:00:10.683452Z",
     "iopub.status.busy": "2021-11-07T09:00:10.680793Z",
     "iopub.status.idle": "2021-11-07T09:00:12.404634Z",
     "shell.execute_reply": "2021-11-07T09:00:12.406060Z"
    },
    "papermill": {
     "duration": 1.760886,
     "end_time": "2021-11-07T09:00:12.406530",
     "exception": false,
     "start_time": "2021-11-07T09:00:10.645644",
     "status": "completed"
    },
    "tags": []
   },
   "outputs": [
    {
     "data": {
      "text/plain": [
       "<AxesSubplot:ylabel='PRODUCT'>"
      ]
     },
     "execution_count": 7,
     "metadata": {},
     "output_type": "execute_result"
    },
    {
     "data": {
      "image/png": "[encoded data removed]",
      "text/plain": [
       "<Figure size 432x288 with 1 Axes>"
      ]
     },
     "metadata": {
      "needs_background": "light"
     },
     "output_type": "display_data"
    }
   ],
   "source": [
    "df_pivot_diff.sort_values(\"stamp_2\", ascending = False)[\"stamp_2\"].head(10).plot.barh()"
   ]
  },
  {
   "cell_type": "code",
   "execution_count": null,
   "id": "extra-executive",
   "metadata": {
    "papermill": {
     "duration": 0.024041,
     "end_time": "2021-11-07T09:00:12.454546",
     "exception": false,
     "start_time": "2021-11-07T09:00:12.430505",
     "status": "completed"
    },
    "tags": []
   },
   "outputs": [],
   "source": []
  }
 ],
 "metadata": {
  "kernelspec": {
   "display_name": "Python 3",
   "language": "python",
   "name": "python3"
  },
  "language_info": {
   "codemirror_mode": {
    "name": "ipython",
    "version": 3
   },
   "file_extension": ".py",
   "mimetype": "text/x-python",
   "name": "python",
   "nbconvert_exporter": "python",
   "pygments_lexer": "ipython3",
   "version": "3.9.5"
  },
  "papermill": {
   "default_parameters": {},
   "duration": 8.756719,
   "end_time": "2021-11-07T09:00:13.304250",
   "environment_variables": {},
   "exception": null,
   "input_path": "eBay_Overview.ipynb",
   "output_path": "eBay_Overview.ipynb",
   "parameters": {},
   "start_time": "2021-11-07T09:00:04.547531",
   "version": "2.3.3"
  }
 },
 "nbformat": 4,
 "nbformat_minor": 5
}