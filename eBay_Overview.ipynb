{
 "cells": [
  {
   "cell_type": "code",
   "execution_count": 1,
   "id": "reverse-picking",
   "metadata": {
    "execution": {
     "iopub.execute_input": "2021-08-28T22:00:07.122393Z",
     "iopub.status.busy": "2021-08-28T22:00:07.120477Z",
     "iopub.status.idle": "2021-08-28T22:00:07.928784Z",
     "shell.execute_reply": "2021-08-28T22:00:07.927173Z"
    },
    "papermill": {
     "duration": 0.858321,
     "end_time": "2021-08-28T22:00:07.929184",
     "exception": false,
     "start_time": "2021-08-28T22:00:07.070863",
     "status": "completed"
    },
    "tags": []
   },
   "outputs": [],
   "source": [
    "import pandas as pd\n",
    "import sqlite3"
   ]
  },
  {
   "cell_type": "code",
   "execution_count": 2,
   "id": "innovative-syndrome",
   "metadata": {
    "execution": {
     "iopub.execute_input": "2021-08-28T22:00:07.981400Z",
     "iopub.status.busy": "2021-08-28T22:00:07.979324Z",
     "iopub.status.idle": "2021-08-28T22:00:08.130877Z",
     "shell.execute_reply": "2021-08-28T22:00:08.132078Z"
    },
    "papermill": {
     "duration": 0.180949,
     "end_time": "2021-08-28T22:00:08.132534",
     "exception": false,
     "start_time": "2021-08-28T22:00:07.951585",
     "status": "completed"
    },
    "tags": []
   },
   "outputs": [],
   "source": [
    "timestamps = pd.read_sql(\"select distinct record_time from EBAY_TOP_BERLIN order by record_time desc limit 2\", sqlite3.connect(\"UsedObjects.db\"))"
   ]
  },
  {
   "cell_type": "code",
   "execution_count": 3,
   "id": "periodic-identification",
   "metadata": {
    "execution": {
     "iopub.execute_input": "2021-08-28T22:00:08.195767Z",
     "iopub.status.busy": "2021-08-28T22:00:08.193797Z",
     "iopub.status.idle": "2021-08-28T22:00:08.213652Z",
     "shell.execute_reply": "2021-08-28T22:00:08.214928Z"
    },
    "papermill": {
     "duration": 0.063337,
     "end_time": "2021-08-28T22:00:08.215335",
     "exception": false,
     "start_time": "2021-08-28T22:00:08.151998",
     "status": "completed"
    },
    "tags": []
   },
   "outputs": [
    {
     "data": {
      "text/html": [
       "<div>\n",
       "<style scoped>\n",
       "    .dataframe tbody tr th:only-of-type {\n",
       "        vertical-align: middle;\n",
       "    }\n",
       "\n",
       "    .dataframe tbody tr th {\n",
       "        vertical-align: top;\n",
       "    }\n",
       "\n",
       "    .dataframe thead th {\n",
       "        text-align: right;\n",
       "    }\n",
       "</style>\n",
       "<table border=\"1\" class=\"dataframe\">\n",
       "  <thead>\n",
       "    <tr style=\"text-align: right;\">\n",
       "      <th></th>\n",
       "      <th>RECORD_TIME</th>\n",
       "    </tr>\n",
       "  </thead>\n",
       "  <tbody>\n",
       "    <tr>\n",
       "      <th>0</th>\n",
       "      <td>2021-08-29 00:00</td>\n",
       "    </tr>\n",
       "    <tr>\n",
       "      <th>1</th>\n",
       "      <td>2021-08-28 23:30</td>\n",
       "    </tr>\n",
       "  </tbody>\n",
       "</table>\n",
       "</div>"
      ],
      "text/plain": [
       "        RECORD_TIME\n",
       "0  2021-08-29 00:00\n",
       "1  2021-08-28 23:30"
      ]
     },
     "execution_count": 3,
     "metadata": {},
     "output_type": "execute_result"
    }
   ],
   "source": [
    "timestamps"
   ]
  },
  {
   "cell_type": "code",
   "execution_count": 4,
   "id": "alternate-victory",
   "metadata": {
    "execution": {
     "iopub.execute_input": "2021-08-28T22:00:08.266132Z",
     "iopub.status.busy": "2021-08-28T22:00:08.264197Z",
     "iopub.status.idle": "2021-08-28T22:00:08.488084Z",
     "shell.execute_reply": "2021-08-28T22:00:08.489419Z"
    },
    "papermill": {
     "duration": 0.253941,
     "end_time": "2021-08-28T22:00:08.489836",
     "exception": false,
     "start_time": "2021-08-28T22:00:08.235895",
     "status": "completed"
    },
    "tags": []
   },
   "outputs": [],
   "source": [
    "df = pd.read_sql(\"select * from EBAY_TOP_BERLIN where record_time in (select distinct record_time from EBAY_TOP_BERLIN order by record_time desc limit 2)\", sqlite3.connect(\"UsedObjects.db\"))"
   ]
  },
  {
   "cell_type": "code",
   "execution_count": 5,
   "id": "popular-active",
   "metadata": {
    "execution": {
     "iopub.execute_input": "2021-08-28T22:00:08.560622Z",
     "iopub.status.busy": "2021-08-28T22:00:08.548741Z",
     "iopub.status.idle": "2021-08-28T22:00:08.577800Z",
     "shell.execute_reply": "2021-08-28T22:00:08.579093Z"
    },
    "papermill": {
     "duration": 0.067946,
     "end_time": "2021-08-28T22:00:08.579511",
     "exception": false,
     "start_time": "2021-08-28T22:00:08.511565",
     "status": "completed"
    },
    "tags": []
   },
   "outputs": [],
   "source": [
    "df_pivot = df.pivot_table(index=\"PRODUCT\", columns = \"RECORD_TIME\", values = \"LISTING_COUNT\")"
   ]
  },
  {
   "cell_type": "code",
   "execution_count": 6,
   "id": "union-huntington",
   "metadata": {
    "execution": {
     "iopub.execute_input": "2021-08-28T22:00:08.662579Z",
     "iopub.status.busy": "2021-08-28T22:00:08.660087Z",
     "iopub.status.idle": "2021-08-28T22:00:08.666765Z",
     "shell.execute_reply": "2021-08-28T22:00:08.668110Z"
    },
    "papermill": {
     "duration": 0.049164,
     "end_time": "2021-08-28T22:00:08.668631",
     "exception": false,
     "start_time": "2021-08-28T22:00:08.619467",
     "status": "completed"
    },
    "tags": []
   },
   "outputs": [],
   "source": [
    "df_pivot.columns = [\"stamp_1\", \"stamp_2\"]\n",
    "df_pivot_diff = df_pivot.diff(axis=1)"
   ]
  },
  {
   "cell_type": "code",
   "execution_count": 7,
   "id": "fifth-motion",
   "metadata": {
    "execution": {
     "iopub.execute_input": "2021-08-28T22:00:08.723368Z",
     "iopub.status.busy": "2021-08-28T22:00:08.721013Z",
     "iopub.status.idle": "2021-08-28T22:00:10.217326Z",
     "shell.execute_reply": "2021-08-28T22:00:10.218605Z"
    },
    "papermill": {
     "duration": 1.529352,
     "end_time": "2021-08-28T22:00:10.219023",
     "exception": false,
     "start_time": "2021-08-28T22:00:08.689671",
     "status": "completed"
    },
    "tags": []
   },
   "outputs": [
    {
     "data": {
      "text/plain": [
       "<AxesSubplot:ylabel='PRODUCT'>"
      ]
     },
     "execution_count": 7,
     "metadata": {},
     "output_type": "execute_result"
    },
    {
     "data": {
      "image/png": "[encoded data removed]",
      "text/plain": [
       "<Figure size 432x288 with 1 Axes>"
      ]
     },
     "metadata": {
      "needs_background": "light"
     },
     "output_type": "display_data"
    }
   ],
   "source": [
    "df_pivot_diff.sort_values(\"stamp_2\", ascending = False)[\"stamp_2\"].head(10).plot.barh()"
   ]
  },
  {
   "cell_type": "code",
   "execution_count": null,
   "id": "extra-executive",
   "metadata": {
    "papermill": {
     "duration": 0.022123,
     "end_time": "2021-08-28T22:00:10.265767",
     "exception": false,
     "start_time": "2021-08-28T22:00:10.243644",
     "status": "completed"
    },
    "tags": []
   },
   "outputs": [],
   "source": []
  }
 ],
 "metadata": {
  "kernelspec": {
   "display_name": "Python 3",
   "language": "python",
   "name": "python3"
  },
  "language_info": {
   "codemirror_mode": {
    "name": "ipython",
    "version": 3
   },
   "file_extension": ".py",
   "mimetype": "text/x-python",
   "name": "python",
   "nbconvert_exporter": "python",
   "pygments_lexer": "ipython3",
   "version": "3.9.5"
  },
  "papermill": {
   "default_parameters": {},
   "duration": 6.825739,
   "end_time": "2021-08-28T22:00:11.486046",
   "environment_variables": {},
   "exception": null,
   "input_path": "eBay_Overview.ipynb",
   "output_path": "eBay_Overview.ipynb",
   "parameters": {},
   "start_time": "2021-08-28T22:00:04.660307",
   "version": "2.3.3"
  }
 },
 "nbformat": 4,
 "nbformat_minor": 5
}