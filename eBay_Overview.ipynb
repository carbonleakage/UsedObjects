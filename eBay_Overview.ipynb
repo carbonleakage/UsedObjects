{
 "cells": [
  {
   "cell_type": "code",
   "execution_count": 1,
   "id": "reverse-picking",
   "metadata": {
    "execution": {
     "iopub.execute_input": "2021-11-20T12:00:07.669947Z",
     "iopub.status.busy": "2021-11-20T12:00:07.667449Z",
     "iopub.status.idle": "2021-11-20T12:00:08.621076Z",
     "shell.execute_reply": "2021-11-20T12:00:08.622687Z"
    },
    "papermill": {
     "duration": 1.00325,
     "end_time": "2021-11-20T12:00:08.623410",
     "exception": false,
     "start_time": "2021-11-20T12:00:07.620160",
     "status": "completed"
    },
    "tags": []
   },
   "outputs": [],
   "source": [
    "import pandas as pd\n",
    "import sqlite3"
   ]
  },
  {
   "cell_type": "code",
   "execution_count": 2,
   "id": "innovative-syndrome",
   "metadata": {
    "execution": {
     "iopub.execute_input": "2021-11-20T12:00:08.687994Z",
     "iopub.status.busy": "2021-11-20T12:00:08.685594Z",
     "iopub.status.idle": "2021-11-20T12:00:09.542040Z",
     "shell.execute_reply": "2021-11-20T12:00:09.543556Z"
    },
    "papermill": {
     "duration": 0.890434,
     "end_time": "2021-11-20T12:00:09.544019",
     "exception": false,
     "start_time": "2021-11-20T12:00:08.653585",
     "status": "completed"
    },
    "tags": []
   },
   "outputs": [],
   "source": [
    "timestamps = pd.read_sql(\"select distinct record_time from EBAY_TOP_BERLIN order by record_time desc limit 2\", sqlite3.connect(\"UsedObjects.db\"))"
   ]
  },
  {
   "cell_type": "code",
   "execution_count": 3,
   "id": "periodic-identification",
   "metadata": {
    "execution": {
     "iopub.execute_input": "2021-11-20T12:00:09.620106Z",
     "iopub.status.busy": "2021-11-20T12:00:09.614137Z",
     "iopub.status.idle": "2021-11-20T12:00:09.637139Z",
     "shell.execute_reply": "2021-11-20T12:00:09.638715Z"
    },
    "papermill": {
     "duration": 0.072746,
     "end_time": "2021-11-20T12:00:09.639197",
     "exception": false,
     "start_time": "2021-11-20T12:00:09.566451",
     "status": "completed"
    },
    "tags": []
   },
   "outputs": [
    {
     "data": {
      "text/html": [
       "<div>\n",
       "<style scoped>\n",
       "    .dataframe tbody tr th:only-of-type {\n",
       "        vertical-align: middle;\n",
       "    }\n",
       "\n",
       "    .dataframe tbody tr th {\n",
       "        vertical-align: top;\n",
       "    }\n",
       "\n",
       "    .dataframe thead th {\n",
       "        text-align: right;\n",
       "    }\n",
       "</style>\n",
       "<table border=\"1\" class=\"dataframe\">\n",
       "  <thead>\n",
       "    <tr style=\"text-align: right;\">\n",
       "      <th></th>\n",
       "      <th>RECORD_TIME</th>\n",
       "    </tr>\n",
       "  </thead>\n",
       "  <tbody>\n",
       "    <tr>\n",
       "      <th>0</th>\n",
       "      <td>2021-11-20 13:00</td>\n",
       "    </tr>\n",
       "    <tr>\n",
       "      <th>1</th>\n",
       "      <td>2021-11-20 12:30</td>\n",
       "    </tr>\n",
       "  </tbody>\n",
       "</table>\n",
       "</div>"
      ],
      "text/plain": [
       "        RECORD_TIME\n",
       "0  2021-11-20 13:00\n",
       "1  2021-11-20 12:30"
      ]
     },
     "execution_count": 3,
     "metadata": {},
     "output_type": "execute_result"
    }
   ],
   "source": [
    "timestamps"
   ]
  },
  {
   "cell_type": "code",
   "execution_count": 4,
   "id": "alternate-victory",
   "metadata": {
    "execution": {
     "iopub.execute_input": "2021-11-20T12:00:09.693469Z",
     "iopub.status.busy": "2021-11-20T12:00:09.691349Z",
     "iopub.status.idle": "2021-11-20T12:00:10.930885Z",
     "shell.execute_reply": "2021-11-20T12:00:10.933169Z"
    },
    "papermill": {
     "duration": 1.273377,
     "end_time": "2021-11-20T12:00:10.933676",
     "exception": false,
     "start_time": "2021-11-20T12:00:09.660299",
     "status": "completed"
    },
    "tags": []
   },
   "outputs": [],
   "source": [
    "df = pd.read_sql(\"select * from EBAY_TOP_BERLIN where record_time in (select distinct record_time from EBAY_TOP_BERLIN order by record_time desc limit 2)\", sqlite3.connect(\"UsedObjects.db\"))"
   ]
  },
  {
   "cell_type": "code",
   "execution_count": 5,
   "id": "popular-active",
   "metadata": {
    "execution": {
     "iopub.execute_input": "2021-11-20T12:00:11.016676Z",
     "iopub.status.busy": "2021-11-20T12:00:11.008330Z",
     "iopub.status.idle": "2021-11-20T12:00:11.036587Z",
     "shell.execute_reply": "2021-11-20T12:00:11.035085Z"
    },
    "papermill": {
     "duration": 0.08005,
     "end_time": "2021-11-20T12:00:11.037069",
     "exception": false,
     "start_time": "2021-11-20T12:00:10.957019",
     "status": "completed"
    },
    "tags": []
   },
   "outputs": [],
   "source": [
    "df_pivot = df.pivot_table(index=\"PRODUCT\", columns = \"RECORD_TIME\", values = \"LISTING_COUNT\")"
   ]
  },
  {
   "cell_type": "code",
   "execution_count": 6,
   "id": "union-huntington",
   "metadata": {
    "execution": {
     "iopub.execute_input": "2021-11-20T12:00:11.102398Z",
     "iopub.status.busy": "2021-11-20T12:00:11.099883Z",
     "iopub.status.idle": "2021-11-20T12:00:11.106792Z",
     "shell.execute_reply": "2021-11-20T12:00:11.108389Z"
    },
    "papermill": {
     "duration": 0.04943,
     "end_time": "2021-11-20T12:00:11.108933",
     "exception": false,
     "start_time": "2021-11-20T12:00:11.059503",
     "status": "completed"
    },
    "tags": []
   },
   "outputs": [],
   "source": [
    "df_pivot.columns = [\"stamp_1\", \"stamp_2\"]\n",
    "df_pivot_diff = df_pivot.diff(axis=1)"
   ]
  },
  {
   "cell_type": "code",
   "execution_count": 7,
   "id": "fifth-motion",
   "metadata": {
    "execution": {
     "iopub.execute_input": "2021-11-20T12:00:11.166012Z",
     "iopub.status.busy": "2021-11-20T12:00:11.163468Z",
     "iopub.status.idle": "2021-11-20T12:00:12.939078Z",
     "shell.execute_reply": "2021-11-20T12:00:12.941870Z"
    },
    "papermill": {
     "duration": 1.813039,
     "end_time": "2021-11-20T12:00:12.942593",
     "exception": false,
     "start_time": "2021-11-20T12:00:11.129554",
     "status": "completed"
    },
    "tags": []
   },
   "outputs": [
    {
     "data": {
      "text/plain": [
       "<AxesSubplot:ylabel='PRODUCT'>"
      ]
     },
     "execution_count": 7,
     "metadata": {},
     "output_type": "execute_result"
    },
    {
     "data": {
      "image/png": "[encoded data removed]",
      "text/plain": [
       "<Figure size 432x288 with 1 Axes>"
      ]
     },
     "metadata": {
      "needs_background": "light"
     },
     "output_type": "display_data"
    }
   ],
   "source": [
    "df_pivot_diff.sort_values(\"stamp_2\", ascending = False)[\"stamp_2\"].head(10).plot.barh()"
   ]
  },
  {
   "cell_type": "code",
   "execution_count": null,
   "id": "extra-executive",
   "metadata": {
    "papermill": {
     "duration": 0.038745,
     "end_time": "2021-11-20T12:00:13.016938",
     "exception": false,
     "start_time": "2021-11-20T12:00:12.978193",
     "status": "completed"
    },
    "tags": []
   },
   "outputs": [],
   "source": []
  }
 ],
 "metadata": {
  "kernelspec": {
   "display_name": "Python 3",
   "language": "python",
   "name": "python3"
  },
  "language_info": {
   "codemirror_mode": {
    "name": "ipython",
    "version": 3
   },
   "file_extension": ".py",
   "mimetype": "text/x-python",
   "name": "python",
   "nbconvert_exporter": "python",
   "pygments_lexer": "ipython3",
   "version": "3.9.5"
  },
  "papermill": {
   "default_parameters": {},
   "duration": 10.007223,
   "end_time": "2021-11-20T12:00:14.814150",
   "environment_variables": {},
   "exception": null,
   "input_path": "eBay_Overview.ipynb",
   "output_path": "eBay_Overview.ipynb",
   "parameters": {},
   "start_time": "2021-11-20T12:00:04.806927",
   "version": "2.3.3"
  }
 },
 "nbformat": 4,
 "nbformat_minor": 5
}