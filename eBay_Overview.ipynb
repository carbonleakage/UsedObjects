{
 "cells": [
  {
   "cell_type": "code",
   "execution_count": 1,
   "id": "reverse-picking",
   "metadata": {
    "execution": {
     "iopub.execute_input": "2021-09-30T09:30:07.032798Z",
     "iopub.status.busy": "2021-09-30T09:30:07.030765Z",
     "iopub.status.idle": "2021-09-30T09:30:07.846872Z",
     "shell.execute_reply": "2021-09-30T09:30:07.845084Z"
    },
    "papermill": {
     "duration": 0.86826,
     "end_time": "2021-09-30T09:30:07.847355",
     "exception": false,
     "start_time": "2021-09-30T09:30:06.979095",
     "status": "completed"
    },
    "tags": []
   },
   "outputs": [],
   "source": [
    "import pandas as pd\n",
    "import sqlite3"
   ]
  },
  {
   "cell_type": "code",
   "execution_count": 2,
   "id": "innovative-syndrome",
   "metadata": {
    "execution": {
     "iopub.execute_input": "2021-09-30T09:30:07.898385Z",
     "iopub.status.busy": "2021-09-30T09:30:07.896440Z",
     "iopub.status.idle": "2021-09-30T09:30:08.307806Z",
     "shell.execute_reply": "2021-09-30T09:30:08.309004Z"
    },
    "papermill": {
     "duration": 0.441041,
     "end_time": "2021-09-30T09:30:08.309400",
     "exception": false,
     "start_time": "2021-09-30T09:30:07.868359",
     "status": "completed"
    },
    "tags": []
   },
   "outputs": [],
   "source": [
    "timestamps = pd.read_sql(\"select distinct record_time from EBAY_TOP_BERLIN order by record_time desc limit 2\", sqlite3.connect(\"UsedObjects.db\"))"
   ]
  },
  {
   "cell_type": "code",
   "execution_count": 3,
   "id": "periodic-identification",
   "metadata": {
    "execution": {
     "iopub.execute_input": "2021-09-30T09:30:08.377835Z",
     "iopub.status.busy": "2021-09-30T09:30:08.375520Z",
     "iopub.status.idle": "2021-09-30T09:30:08.398093Z",
     "shell.execute_reply": "2021-09-30T09:30:08.399668Z"
    },
    "papermill": {
     "duration": 0.068593,
     "end_time": "2021-09-30T09:30:08.400190",
     "exception": false,
     "start_time": "2021-09-30T09:30:08.331597",
     "status": "completed"
    },
    "tags": []
   },
   "outputs": [
    {
     "data": {
      "text/html": [
       "<div>\n",
       "<style scoped>\n",
       "    .dataframe tbody tr th:only-of-type {\n",
       "        vertical-align: middle;\n",
       "    }\n",
       "\n",
       "    .dataframe tbody tr th {\n",
       "        vertical-align: top;\n",
       "    }\n",
       "\n",
       "    .dataframe thead th {\n",
       "        text-align: right;\n",
       "    }\n",
       "</style>\n",
       "<table border=\"1\" class=\"dataframe\">\n",
       "  <thead>\n",
       "    <tr style=\"text-align: right;\">\n",
       "      <th></th>\n",
       "      <th>RECORD_TIME</th>\n",
       "    </tr>\n",
       "  </thead>\n",
       "  <tbody>\n",
       "    <tr>\n",
       "      <th>0</th>\n",
       "      <td>2021-09-30 11:30</td>\n",
       "    </tr>\n",
       "    <tr>\n",
       "      <th>1</th>\n",
       "      <td>2021-09-30 11:00</td>\n",
       "    </tr>\n",
       "  </tbody>\n",
       "</table>\n",
       "</div>"
      ],
      "text/plain": [
       "        RECORD_TIME\n",
       "0  2021-09-30 11:30\n",
       "1  2021-09-30 11:00"
      ]
     },
     "execution_count": 3,
     "metadata": {},
     "output_type": "execute_result"
    }
   ],
   "source": [
    "timestamps"
   ]
  },
  {
   "cell_type": "code",
   "execution_count": 4,
   "id": "alternate-victory",
   "metadata": {
    "execution": {
     "iopub.execute_input": "2021-09-30T09:30:08.461870Z",
     "iopub.status.busy": "2021-09-30T09:30:08.459232Z",
     "iopub.status.idle": "2021-09-30T09:30:09.082352Z",
     "shell.execute_reply": "2021-09-30T09:30:09.083674Z"
    },
    "papermill": {
     "duration": 0.660874,
     "end_time": "2021-09-30T09:30:09.084082",
     "exception": false,
     "start_time": "2021-09-30T09:30:08.423208",
     "status": "completed"
    },
    "tags": []
   },
   "outputs": [],
   "source": [
    "df = pd.read_sql(\"select * from EBAY_TOP_BERLIN where record_time in (select distinct record_time from EBAY_TOP_BERLIN order by record_time desc limit 2)\", sqlite3.connect(\"UsedObjects.db\"))"
   ]
  },
  {
   "cell_type": "code",
   "execution_count": 5,
   "id": "popular-active",
   "metadata": {
    "execution": {
     "iopub.execute_input": "2021-09-30T09:30:09.157548Z",
     "iopub.status.busy": "2021-09-30T09:30:09.144707Z",
     "iopub.status.idle": "2021-09-30T09:30:09.173150Z",
     "shell.execute_reply": "2021-09-30T09:30:09.174345Z"
    },
    "papermill": {
     "duration": 0.06816,
     "end_time": "2021-09-30T09:30:09.174739",
     "exception": false,
     "start_time": "2021-09-30T09:30:09.106579",
     "status": "completed"
    },
    "tags": []
   },
   "outputs": [],
   "source": [
    "df_pivot = df.pivot_table(index=\"PRODUCT\", columns = \"RECORD_TIME\", values = \"LISTING_COUNT\")"
   ]
  },
  {
   "cell_type": "code",
   "execution_count": 6,
   "id": "union-huntington",
   "metadata": {
    "execution": {
     "iopub.execute_input": "2021-09-30T09:30:09.230595Z",
     "iopub.status.busy": "2021-09-30T09:30:09.228592Z",
     "iopub.status.idle": "2021-09-30T09:30:09.234062Z",
     "shell.execute_reply": "2021-09-30T09:30:09.235397Z"
    },
    "papermill": {
     "duration": 0.04033,
     "end_time": "2021-09-30T09:30:09.235820",
     "exception": false,
     "start_time": "2021-09-30T09:30:09.195490",
     "status": "completed"
    },
    "tags": []
   },
   "outputs": [],
   "source": [
    "df_pivot.columns = [\"stamp_1\", \"stamp_2\"]\n",
    "df_pivot_diff = df_pivot.diff(axis=1)"
   ]
  },
  {
   "cell_type": "code",
   "execution_count": 7,
   "id": "fifth-motion",
   "metadata": {
    "execution": {
     "iopub.execute_input": "2021-09-30T09:30:09.289742Z",
     "iopub.status.busy": "2021-09-30T09:30:09.287384Z",
     "iopub.status.idle": "2021-09-30T09:30:10.807419Z",
     "shell.execute_reply": "2021-09-30T09:30:10.808598Z"
    },
    "papermill": {
     "duration": 1.552784,
     "end_time": "2021-09-30T09:30:10.809031",
     "exception": false,
     "start_time": "2021-09-30T09:30:09.256247",
     "status": "completed"
    },
    "tags": []
   },
   "outputs": [
    {
     "data": {
      "text/plain": [
       "<AxesSubplot:ylabel='PRODUCT'>"
      ]
     },
     "execution_count": 7,
     "metadata": {},
     "output_type": "execute_result"
    },
    {
     "data": {
      "image/png": "[encoded data removed]",
      "text/plain": [
       "<Figure size 432x288 with 1 Axes>"
      ]
     },
     "metadata": {
      "needs_background": "light"
     },
     "output_type": "display_data"
    }
   ],
   "source": [
    "df_pivot_diff.sort_values(\"stamp_2\", ascending = False)[\"stamp_2\"].head(10).plot.barh()"
   ]
  },
  {
   "cell_type": "code",
   "execution_count": null,
   "id": "extra-executive",
   "metadata": {
    "papermill": {
     "duration": 0.022231,
     "end_time": "2021-09-30T09:30:10.855064",
     "exception": false,
     "start_time": "2021-09-30T09:30:10.832833",
     "status": "completed"
    },
    "tags": []
   },
   "outputs": [],
   "source": []
  }
 ],
 "metadata": {
  "kernelspec": {
   "display_name": "Python 3",
   "language": "python",
   "name": "python3"
  },
  "language_info": {
   "codemirror_mode": {
    "name": "ipython",
    "version": 3
   },
   "file_extension": ".py",
   "mimetype": "text/x-python",
   "name": "python",
   "nbconvert_exporter": "python",
   "pygments_lexer": "ipython3",
   "version": "3.9.5"
  },
  "papermill": {
   "default_parameters": {},
   "duration": 7.827598,
   "end_time": "2021-09-30T09:30:12.382974",
   "environment_variables": {},
   "exception": null,
   "input_path": "eBay_Overview.ipynb",
   "output_path": "eBay_Overview.ipynb",
   "parameters": {},
   "start_time": "2021-09-30T09:30:04.555376",
   "version": "2.3.3"
  }
 },
 "nbformat": 4,
 "nbformat_minor": 5
}