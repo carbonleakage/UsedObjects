{
 "cells": [
  {
   "cell_type": "code",
   "execution_count": 1,
   "id": "reverse-picking",
   "metadata": {
    "execution": {
     "iopub.execute_input": "2021-09-27T14:00:07.736783Z",
     "iopub.status.busy": "2021-09-27T14:00:07.734741Z",
     "iopub.status.idle": "2021-09-27T14:00:08.541601Z",
     "shell.execute_reply": "2021-09-27T14:00:08.542927Z"
    },
    "papermill": {
     "duration": 0.858803,
     "end_time": "2021-09-27T14:00:08.543565",
     "exception": false,
     "start_time": "2021-09-27T14:00:07.684762",
     "status": "completed"
    },
    "tags": []
   },
   "outputs": [],
   "source": [
    "import pandas as pd\n",
    "import sqlite3"
   ]
  },
  {
   "cell_type": "code",
   "execution_count": 2,
   "id": "innovative-syndrome",
   "metadata": {
    "execution": {
     "iopub.execute_input": "2021-09-27T14:00:08.594619Z",
     "iopub.status.busy": "2021-09-27T14:00:08.592736Z",
     "iopub.status.idle": "2021-09-27T14:00:08.988828Z",
     "shell.execute_reply": "2021-09-27T14:00:08.990051Z"
    },
    "papermill": {
     "duration": 0.426039,
     "end_time": "2021-09-27T14:00:08.990449",
     "exception": false,
     "start_time": "2021-09-27T14:00:08.564410",
     "status": "completed"
    },
    "tags": []
   },
   "outputs": [],
   "source": [
    "timestamps = pd.read_sql(\"select distinct record_time from EBAY_TOP_BERLIN order by record_time desc limit 2\", sqlite3.connect(\"UsedObjects.db\"))"
   ]
  },
  {
   "cell_type": "code",
   "execution_count": 3,
   "id": "periodic-identification",
   "metadata": {
    "execution": {
     "iopub.execute_input": "2021-09-27T14:00:09.055900Z",
     "iopub.status.busy": "2021-09-27T14:00:09.053783Z",
     "iopub.status.idle": "2021-09-27T14:00:09.074845Z",
     "shell.execute_reply": "2021-09-27T14:00:09.076179Z"
    },
    "papermill": {
     "duration": 0.066509,
     "end_time": "2021-09-27T14:00:09.076641",
     "exception": false,
     "start_time": "2021-09-27T14:00:09.010132",
     "status": "completed"
    },
    "tags": []
   },
   "outputs": [
    {
     "data": {
      "text/html": [
       "<div>\n",
       "<style scoped>\n",
       "    .dataframe tbody tr th:only-of-type {\n",
       "        vertical-align: middle;\n",
       "    }\n",
       "\n",
       "    .dataframe tbody tr th {\n",
       "        vertical-align: top;\n",
       "    }\n",
       "\n",
       "    .dataframe thead th {\n",
       "        text-align: right;\n",
       "    }\n",
       "</style>\n",
       "<table border=\"1\" class=\"dataframe\">\n",
       "  <thead>\n",
       "    <tr style=\"text-align: right;\">\n",
       "      <th></th>\n",
       "      <th>RECORD_TIME</th>\n",
       "    </tr>\n",
       "  </thead>\n",
       "  <tbody>\n",
       "    <tr>\n",
       "      <th>0</th>\n",
       "      <td>2021-09-27 16:00</td>\n",
       "    </tr>\n",
       "    <tr>\n",
       "      <th>1</th>\n",
       "      <td>2021-09-27 15:30</td>\n",
       "    </tr>\n",
       "  </tbody>\n",
       "</table>\n",
       "</div>"
      ],
      "text/plain": [
       "        RECORD_TIME\n",
       "0  2021-09-27 16:00\n",
       "1  2021-09-27 15:30"
      ]
     },
     "execution_count": 3,
     "metadata": {},
     "output_type": "execute_result"
    }
   ],
   "source": [
    "timestamps"
   ]
  },
  {
   "cell_type": "code",
   "execution_count": 4,
   "id": "alternate-victory",
   "metadata": {
    "execution": {
     "iopub.execute_input": "2021-09-27T14:00:09.128511Z",
     "iopub.status.busy": "2021-09-27T14:00:09.126542Z",
     "iopub.status.idle": "2021-09-27T14:00:09.696714Z",
     "shell.execute_reply": "2021-09-27T14:00:09.698092Z"
    },
    "papermill": {
     "duration": 0.600482,
     "end_time": "2021-09-27T14:00:09.698539",
     "exception": false,
     "start_time": "2021-09-27T14:00:09.098057",
     "status": "completed"
    },
    "tags": []
   },
   "outputs": [],
   "source": [
    "df = pd.read_sql(\"select * from EBAY_TOP_BERLIN where record_time in (select distinct record_time from EBAY_TOP_BERLIN order by record_time desc limit 2)\", sqlite3.connect(\"UsedObjects.db\"))"
   ]
  },
  {
   "cell_type": "code",
   "execution_count": 5,
   "id": "popular-active",
   "metadata": {
    "execution": {
     "iopub.execute_input": "2021-09-27T14:00:09.780477Z",
     "iopub.status.busy": "2021-09-27T14:00:09.768218Z",
     "iopub.status.idle": "2021-09-27T14:00:09.797418Z",
     "shell.execute_reply": "2021-09-27T14:00:09.799104Z"
    },
    "papermill": {
     "duration": 0.074045,
     "end_time": "2021-09-27T14:00:09.799599",
     "exception": false,
     "start_time": "2021-09-27T14:00:09.725554",
     "status": "completed"
    },
    "tags": []
   },
   "outputs": [],
   "source": [
    "df_pivot = df.pivot_table(index=\"PRODUCT\", columns = \"RECORD_TIME\", values = \"LISTING_COUNT\")"
   ]
  },
  {
   "cell_type": "code",
   "execution_count": 6,
   "id": "union-huntington",
   "metadata": {
    "execution": {
     "iopub.execute_input": "2021-09-27T14:00:09.885085Z",
     "iopub.status.busy": "2021-09-27T14:00:09.882918Z",
     "iopub.status.idle": "2021-09-27T14:00:09.888195Z",
     "shell.execute_reply": "2021-09-27T14:00:09.889537Z"
    },
    "papermill": {
     "duration": 0.048851,
     "end_time": "2021-09-27T14:00:09.889959",
     "exception": false,
     "start_time": "2021-09-27T14:00:09.841108",
     "status": "completed"
    },
    "tags": []
   },
   "outputs": [],
   "source": [
    "df_pivot.columns = [\"stamp_1\", \"stamp_2\"]\n",
    "df_pivot_diff = df_pivot.diff(axis=1)"
   ]
  },
  {
   "cell_type": "code",
   "execution_count": 7,
   "id": "fifth-motion",
   "metadata": {
    "execution": {
     "iopub.execute_input": "2021-09-27T14:00:09.943705Z",
     "iopub.status.busy": "2021-09-27T14:00:09.941316Z",
     "iopub.status.idle": "2021-09-27T14:00:11.442409Z",
     "shell.execute_reply": "2021-09-27T14:00:11.443698Z"
    },
    "papermill": {
     "duration": 1.533849,
     "end_time": "2021-09-27T14:00:11.444140",
     "exception": false,
     "start_time": "2021-09-27T14:00:09.910291",
     "status": "completed"
    },
    "tags": []
   },
   "outputs": [
    {
     "data": {
      "text/plain": [
       "<AxesSubplot:ylabel='PRODUCT'>"
      ]
     },
     "execution_count": 7,
     "metadata": {},
     "output_type": "execute_result"
    },
    {
     "data": {
      "image/png": "[encoded data removed]",
      "text/plain": [
       "<Figure size 432x288 with 1 Axes>"
      ]
     },
     "metadata": {
      "needs_background": "light"
     },
     "output_type": "display_data"
    }
   ],
   "source": [
    "df_pivot_diff.sort_values(\"stamp_2\", ascending = False)[\"stamp_2\"].head(10).plot.barh()"
   ]
  },
  {
   "cell_type": "code",
   "execution_count": null,
   "id": "extra-executive",
   "metadata": {
    "papermill": {
     "duration": 0.02247,
     "end_time": "2021-09-27T14:00:11.490635",
     "exception": false,
     "start_time": "2021-09-27T14:00:11.468165",
     "status": "completed"
    },
    "tags": []
   },
   "outputs": [],
   "source": []
  }
 ],
 "metadata": {
  "kernelspec": {
   "display_name": "Python 3",
   "language": "python",
   "name": "python3"
  },
  "language_info": {
   "codemirror_mode": {
    "name": "ipython",
    "version": 3
   },
   "file_extension": ".py",
   "mimetype": "text/x-python",
   "name": "python",
   "nbconvert_exporter": "python",
   "pygments_lexer": "ipython3",
   "version": "3.9.5"
  },
  "papermill": {
   "default_parameters": {},
   "duration": 7.829583,
   "end_time": "2021-09-27T14:00:13.102049",
   "environment_variables": {},
   "exception": null,
   "input_path": "eBay_Overview.ipynb",
   "output_path": "eBay_Overview.ipynb",
   "parameters": {},
   "start_time": "2021-09-27T14:00:05.272466",
   "version": "2.3.3"
  }
 },
 "nbformat": 4,
 "nbformat_minor": 5
}