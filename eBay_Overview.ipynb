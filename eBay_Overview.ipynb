{
 "cells": [
  {
   "cell_type": "code",
   "execution_count": 1,
   "id": "reverse-picking",
   "metadata": {
    "execution": {
     "iopub.execute_input": "2021-09-22T00:00:06.676453Z",
     "iopub.status.busy": "2021-09-22T00:00:06.674452Z",
     "iopub.status.idle": "2021-09-22T00:00:07.479850Z",
     "shell.execute_reply": "2021-09-22T00:00:07.481118Z"
    },
    "papermill": {
     "duration": 0.857463,
     "end_time": "2021-09-22T00:00:07.481723",
     "exception": false,
     "start_time": "2021-09-22T00:00:06.624260",
     "status": "completed"
    },
    "tags": []
   },
   "outputs": [],
   "source": [
    "import pandas as pd\n",
    "import sqlite3"
   ]
  },
  {
   "cell_type": "code",
   "execution_count": 2,
   "id": "innovative-syndrome",
   "metadata": {
    "execution": {
     "iopub.execute_input": "2021-09-22T00:00:07.532722Z",
     "iopub.status.busy": "2021-09-22T00:00:07.530833Z",
     "iopub.status.idle": "2021-09-22T00:00:07.872369Z",
     "shell.execute_reply": "2021-09-22T00:00:07.873716Z"
    },
    "papermill": {
     "duration": 0.371022,
     "end_time": "2021-09-22T00:00:07.874157",
     "exception": false,
     "start_time": "2021-09-22T00:00:07.503135",
     "status": "completed"
    },
    "tags": []
   },
   "outputs": [],
   "source": [
    "timestamps = pd.read_sql(\"select distinct record_time from EBAY_TOP_BERLIN order by record_time desc limit 2\", sqlite3.connect(\"UsedObjects.db\"))"
   ]
  },
  {
   "cell_type": "code",
   "execution_count": 3,
   "id": "periodic-identification",
   "metadata": {
    "execution": {
     "iopub.execute_input": "2021-09-22T00:00:07.941693Z",
     "iopub.status.busy": "2021-09-22T00:00:07.939702Z",
     "iopub.status.idle": "2021-09-22T00:00:07.959721Z",
     "shell.execute_reply": "2021-09-22T00:00:07.961066Z"
    },
    "papermill": {
     "duration": 0.066945,
     "end_time": "2021-09-22T00:00:07.961481",
     "exception": false,
     "start_time": "2021-09-22T00:00:07.894536",
     "status": "completed"
    },
    "tags": []
   },
   "outputs": [
    {
     "data": {
      "text/html": [
       "<div>\n",
       "<style scoped>\n",
       "    .dataframe tbody tr th:only-of-type {\n",
       "        vertical-align: middle;\n",
       "    }\n",
       "\n",
       "    .dataframe tbody tr th {\n",
       "        vertical-align: top;\n",
       "    }\n",
       "\n",
       "    .dataframe thead th {\n",
       "        text-align: right;\n",
       "    }\n",
       "</style>\n",
       "<table border=\"1\" class=\"dataframe\">\n",
       "  <thead>\n",
       "    <tr style=\"text-align: right;\">\n",
       "      <th></th>\n",
       "      <th>RECORD_TIME</th>\n",
       "    </tr>\n",
       "  </thead>\n",
       "  <tbody>\n",
       "    <tr>\n",
       "      <th>0</th>\n",
       "      <td>2021-09-22 02:00</td>\n",
       "    </tr>\n",
       "    <tr>\n",
       "      <th>1</th>\n",
       "      <td>2021-09-22 01:30</td>\n",
       "    </tr>\n",
       "  </tbody>\n",
       "</table>\n",
       "</div>"
      ],
      "text/plain": [
       "        RECORD_TIME\n",
       "0  2021-09-22 02:00\n",
       "1  2021-09-22 01:30"
      ]
     },
     "execution_count": 3,
     "metadata": {},
     "output_type": "execute_result"
    }
   ],
   "source": [
    "timestamps"
   ]
  },
  {
   "cell_type": "code",
   "execution_count": 4,
   "id": "alternate-victory",
   "metadata": {
    "execution": {
     "iopub.execute_input": "2021-09-22T00:00:08.012700Z",
     "iopub.status.busy": "2021-09-22T00:00:08.010475Z",
     "iopub.status.idle": "2021-09-22T00:00:08.517661Z",
     "shell.execute_reply": "2021-09-22T00:00:08.518924Z"
    },
    "papermill": {
     "duration": 0.537076,
     "end_time": "2021-09-22T00:00:08.519373",
     "exception": false,
     "start_time": "2021-09-22T00:00:07.982297",
     "status": "completed"
    },
    "tags": []
   },
   "outputs": [],
   "source": [
    "df = pd.read_sql(\"select * from EBAY_TOP_BERLIN where record_time in (select distinct record_time from EBAY_TOP_BERLIN order by record_time desc limit 2)\", sqlite3.connect(\"UsedObjects.db\"))"
   ]
  },
  {
   "cell_type": "code",
   "execution_count": 5,
   "id": "popular-active",
   "metadata": {
    "execution": {
     "iopub.execute_input": "2021-09-22T00:00:08.602513Z",
     "iopub.status.busy": "2021-09-22T00:00:08.590113Z",
     "iopub.status.idle": "2021-09-22T00:00:08.618529Z",
     "shell.execute_reply": "2021-09-22T00:00:08.619889Z"
    },
    "papermill": {
     "duration": 0.07244,
     "end_time": "2021-09-22T00:00:08.620308",
     "exception": false,
     "start_time": "2021-09-22T00:00:08.547868",
     "status": "completed"
    },
    "tags": []
   },
   "outputs": [],
   "source": [
    "df_pivot = df.pivot_table(index=\"PRODUCT\", columns = \"RECORD_TIME\", values = \"LISTING_COUNT\")"
   ]
  },
  {
   "cell_type": "code",
   "execution_count": 6,
   "id": "union-huntington",
   "metadata": {
    "execution": {
     "iopub.execute_input": "2021-09-22T00:00:08.675934Z",
     "iopub.status.busy": "2021-09-22T00:00:08.673835Z",
     "iopub.status.idle": "2021-09-22T00:00:08.679105Z",
     "shell.execute_reply": "2021-09-22T00:00:08.680392Z"
    },
    "papermill": {
     "duration": 0.040569,
     "end_time": "2021-09-22T00:00:08.680804",
     "exception": false,
     "start_time": "2021-09-22T00:00:08.640235",
     "status": "completed"
    },
    "tags": []
   },
   "outputs": [],
   "source": [
    "df_pivot.columns = [\"stamp_1\", \"stamp_2\"]\n",
    "df_pivot_diff = df_pivot.diff(axis=1)"
   ]
  },
  {
   "cell_type": "code",
   "execution_count": 7,
   "id": "fifth-motion",
   "metadata": {
    "execution": {
     "iopub.execute_input": "2021-09-22T00:00:08.735484Z",
     "iopub.status.busy": "2021-09-22T00:00:08.732945Z",
     "iopub.status.idle": "2021-09-22T00:00:10.195473Z",
     "shell.execute_reply": "2021-09-22T00:00:10.196770Z"
    },
    "papermill": {
     "duration": 1.495303,
     "end_time": "2021-09-22T00:00:10.197190",
     "exception": false,
     "start_time": "2021-09-22T00:00:08.701887",
     "status": "completed"
    },
    "tags": []
   },
   "outputs": [
    {
     "data": {
      "text/plain": [
       "<AxesSubplot:ylabel='PRODUCT'>"
      ]
     },
     "execution_count": 7,
     "metadata": {},
     "output_type": "execute_result"
    },
    {
     "data": {
      "image/png": "[encoded data removed]",
      "text/plain": [
       "<Figure size 432x288 with 1 Axes>"
      ]
     },
     "metadata": {
      "needs_background": "light"
     },
     "output_type": "display_data"
    }
   ],
   "source": [
    "df_pivot_diff.sort_values(\"stamp_2\", ascending = False)[\"stamp_2\"].head(10).plot.barh()"
   ]
  },
  {
   "cell_type": "code",
   "execution_count": null,
   "id": "extra-executive",
   "metadata": {
    "papermill": {
     "duration": 0.022217,
     "end_time": "2021-09-22T00:00:10.243073",
     "exception": false,
     "start_time": "2021-09-22T00:00:10.220856",
     "status": "completed"
    },
    "tags": []
   },
   "outputs": [],
   "source": []
  }
 ],
 "metadata": {
  "kernelspec": {
   "display_name": "Python 3",
   "language": "python",
   "name": "python3"
  },
  "language_info": {
   "codemirror_mode": {
    "name": "ipython",
    "version": 3
   },
   "file_extension": ".py",
   "mimetype": "text/x-python",
   "name": "python",
   "nbconvert_exporter": "python",
   "pygments_lexer": "ipython3",
   "version": "3.9.5"
  },
  "papermill": {
   "default_parameters": {},
   "duration": 6.660591,
   "end_time": "2021-09-22T00:00:10.886446",
   "environment_variables": {},
   "exception": null,
   "input_path": "eBay_Overview.ipynb",
   "output_path": "eBay_Overview.ipynb",
   "parameters": {},
   "start_time": "2021-09-22T00:00:04.225855",
   "version": "2.3.3"
  }
 },
 "nbformat": 4,
 "nbformat_minor": 5
}