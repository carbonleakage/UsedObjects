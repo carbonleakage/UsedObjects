{
 "cells": [
  {
   "cell_type": "code",
   "execution_count": 1,
   "id": "reverse-picking",
   "metadata": {
    "execution": {
     "iopub.execute_input": "2021-08-23T10:00:07.253799Z",
     "iopub.status.busy": "2021-08-23T10:00:07.251825Z",
     "iopub.status.idle": "2021-08-23T10:00:08.058620Z",
     "shell.execute_reply": "2021-08-23T10:00:08.059997Z"
    },
    "papermill": {
     "duration": 0.85915,
     "end_time": "2021-08-23T10:00:08.060641",
     "exception": false,
     "start_time": "2021-08-23T10:00:07.201491",
     "status": "completed"
    },
    "tags": []
   },
   "outputs": [],
   "source": [
    "import pandas as pd\n",
    "import sqlite3"
   ]
  },
  {
   "cell_type": "code",
   "execution_count": 2,
   "id": "innovative-syndrome",
   "metadata": {
    "execution": {
     "iopub.execute_input": "2021-08-23T10:00:08.111694Z",
     "iopub.status.busy": "2021-08-23T10:00:08.109761Z",
     "iopub.status.idle": "2021-08-23T10:00:08.220587Z",
     "shell.execute_reply": "2021-08-23T10:00:08.221822Z"
    },
    "papermill": {
     "duration": 0.140553,
     "end_time": "2021-08-23T10:00:08.222427",
     "exception": false,
     "start_time": "2021-08-23T10:00:08.081874",
     "status": "completed"
    },
    "tags": []
   },
   "outputs": [],
   "source": [
    "timestamps = pd.read_sql(\"select distinct record_time from EBAY_TOP_BERLIN order by record_time desc limit 2\", sqlite3.connect(\"UsedObjects.db\"))"
   ]
  },
  {
   "cell_type": "code",
   "execution_count": 3,
   "id": "periodic-identification",
   "metadata": {
    "execution": {
     "iopub.execute_input": "2021-08-23T10:00:08.287067Z",
     "iopub.status.busy": "2021-08-23T10:00:08.284940Z",
     "iopub.status.idle": "2021-08-23T10:00:08.305440Z",
     "shell.execute_reply": "2021-08-23T10:00:08.306995Z"
    },
    "papermill": {
     "duration": 0.065747,
     "end_time": "2021-08-23T10:00:08.307492",
     "exception": false,
     "start_time": "2021-08-23T10:00:08.241745",
     "status": "completed"
    },
    "tags": []
   },
   "outputs": [
    {
     "data": {
      "text/html": [
       "<div>\n",
       "<style scoped>\n",
       "    .dataframe tbody tr th:only-of-type {\n",
       "        vertical-align: middle;\n",
       "    }\n",
       "\n",
       "    .dataframe tbody tr th {\n",
       "        vertical-align: top;\n",
       "    }\n",
       "\n",
       "    .dataframe thead th {\n",
       "        text-align: right;\n",
       "    }\n",
       "</style>\n",
       "<table border=\"1\" class=\"dataframe\">\n",
       "  <thead>\n",
       "    <tr style=\"text-align: right;\">\n",
       "      <th></th>\n",
       "      <th>RECORD_TIME</th>\n",
       "    </tr>\n",
       "  </thead>\n",
       "  <tbody>\n",
       "    <tr>\n",
       "      <th>0</th>\n",
       "      <td>2021-08-23 12:00</td>\n",
       "    </tr>\n",
       "    <tr>\n",
       "      <th>1</th>\n",
       "      <td>2021-08-23 11:30</td>\n",
       "    </tr>\n",
       "  </tbody>\n",
       "</table>\n",
       "</div>"
      ],
      "text/plain": [
       "        RECORD_TIME\n",
       "0  2021-08-23 12:00\n",
       "1  2021-08-23 11:30"
      ]
     },
     "execution_count": 3,
     "metadata": {},
     "output_type": "execute_result"
    }
   ],
   "source": [
    "timestamps"
   ]
  },
  {
   "cell_type": "code",
   "execution_count": 4,
   "id": "alternate-victory",
   "metadata": {
    "execution": {
     "iopub.execute_input": "2021-08-23T10:00:08.360163Z",
     "iopub.status.busy": "2021-08-23T10:00:08.358286Z",
     "iopub.status.idle": "2021-08-23T10:00:08.532740Z",
     "shell.execute_reply": "2021-08-23T10:00:08.534117Z"
    },
    "papermill": {
     "duration": 0.204599,
     "end_time": "2021-08-23T10:00:08.534591",
     "exception": false,
     "start_time": "2021-08-23T10:00:08.329992",
     "status": "completed"
    },
    "tags": []
   },
   "outputs": [],
   "source": [
    "df = pd.read_sql(\"select * from EBAY_TOP_BERLIN where record_time in (select distinct record_time from EBAY_TOP_BERLIN order by record_time desc limit 2)\", sqlite3.connect(\"UsedObjects.db\"))"
   ]
  },
  {
   "cell_type": "code",
   "execution_count": 5,
   "id": "popular-active",
   "metadata": {
    "execution": {
     "iopub.execute_input": "2021-08-23T10:00:08.599309Z",
     "iopub.status.busy": "2021-08-23T10:00:08.592039Z",
     "iopub.status.idle": "2021-08-23T10:00:08.620129Z",
     "shell.execute_reply": "2021-08-23T10:00:08.621380Z"
    },
    "papermill": {
     "duration": 0.067177,
     "end_time": "2021-08-23T10:00:08.621781",
     "exception": false,
     "start_time": "2021-08-23T10:00:08.554604",
     "status": "completed"
    },
    "tags": []
   },
   "outputs": [],
   "source": [
    "df_pivot = df.pivot_table(index=\"PRODUCT\", columns = \"RECORD_TIME\", values = \"LISTING_COUNT\")"
   ]
  },
  {
   "cell_type": "code",
   "execution_count": 6,
   "id": "union-huntington",
   "metadata": {
    "execution": {
     "iopub.execute_input": "2021-08-23T10:00:08.684596Z",
     "iopub.status.busy": "2021-08-23T10:00:08.682548Z",
     "iopub.status.idle": "2021-08-23T10:00:08.687718Z",
     "shell.execute_reply": "2021-08-23T10:00:08.688860Z"
    },
    "papermill": {
     "duration": 0.045446,
     "end_time": "2021-08-23T10:00:08.689273",
     "exception": false,
     "start_time": "2021-08-23T10:00:08.643827",
     "status": "completed"
    },
    "tags": []
   },
   "outputs": [],
   "source": [
    "df_pivot.columns = [\"stamp_1\", \"stamp_2\"]\n",
    "df_pivot_diff = df_pivot.diff(axis=1)"
   ]
  },
  {
   "cell_type": "code",
   "execution_count": 7,
   "id": "fifth-motion",
   "metadata": {
    "execution": {
     "iopub.execute_input": "2021-08-23T10:00:08.747568Z",
     "iopub.status.busy": "2021-08-23T10:00:08.744823Z",
     "iopub.status.idle": "2021-08-23T10:00:10.239902Z",
     "shell.execute_reply": "2021-08-23T10:00:10.241207Z"
    },
    "papermill": {
     "duration": 1.528641,
     "end_time": "2021-08-23T10:00:10.241632",
     "exception": false,
     "start_time": "2021-08-23T10:00:08.712991",
     "status": "completed"
    },
    "tags": []
   },
   "outputs": [
    {
     "data": {
      "text/plain": [
       "<AxesSubplot:ylabel='PRODUCT'>"
      ]
     },
     "execution_count": 7,
     "metadata": {},
     "output_type": "execute_result"
    },
    {
     "data": {
      "image/png": "[encoded data removed]",
      "text/plain": [
       "<Figure size 432x288 with 1 Axes>"
      ]
     },
     "metadata": {
      "needs_background": "light"
     },
     "output_type": "display_data"
    }
   ],
   "source": [
    "df_pivot_diff.sort_values(\"stamp_2\", ascending = False)[\"stamp_2\"].head(10).plot.barh()"
   ]
  },
  {
   "cell_type": "code",
   "execution_count": null,
   "id": "extra-executive",
   "metadata": {
    "papermill": {
     "duration": 0.022021,
     "end_time": "2021-08-23T10:00:10.288471",
     "exception": false,
     "start_time": "2021-08-23T10:00:10.266450",
     "status": "completed"
    },
    "tags": []
   },
   "outputs": [],
   "source": []
  }
 ],
 "metadata": {
  "kernelspec": {
   "display_name": "Python 3",
   "language": "python",
   "name": "python3"
  },
  "language_info": {
   "codemirror_mode": {
    "name": "ipython",
    "version": 3
   },
   "file_extension": ".py",
   "mimetype": "text/x-python",
   "name": "python",
   "nbconvert_exporter": "python",
   "pygments_lexer": "ipython3",
   "version": "3.9.5"
  },
  "papermill": {
   "default_parameters": {},
   "duration": 6.826796,
   "end_time": "2021-08-23T10:00:11.614546",
   "environment_variables": {},
   "exception": null,
   "input_path": "eBay_Overview.ipynb",
   "output_path": "eBay_Overview.ipynb",
   "parameters": {},
   "start_time": "2021-08-23T10:00:04.787750",
   "version": "2.3.3"
  }
 },
 "nbformat": 4,
 "nbformat_minor": 5
}