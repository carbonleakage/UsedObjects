{
 "cells": [
  {
   "cell_type": "code",
   "execution_count": 1,
   "id": "reverse-picking",
   "metadata": {
    "execution": {
     "iopub.execute_input": "2021-10-14T10:00:07.172477Z",
     "iopub.status.busy": "2021-10-14T10:00:07.170517Z",
     "iopub.status.idle": "2021-10-14T10:00:07.979801Z",
     "shell.execute_reply": "2021-10-14T10:00:07.978236Z"
    },
    "papermill": {
     "duration": 0.860498,
     "end_time": "2021-10-14T10:00:07.980188",
     "exception": false,
     "start_time": "2021-10-14T10:00:07.119690",
     "status": "completed"
    },
    "tags": []
   },
   "outputs": [],
   "source": [
    "import pandas as pd\n",
    "import sqlite3"
   ]
  },
  {
   "cell_type": "code",
   "execution_count": 2,
   "id": "innovative-syndrome",
   "metadata": {
    "execution": {
     "iopub.execute_input": "2021-10-14T10:00:08.030573Z",
     "iopub.status.busy": "2021-10-14T10:00:08.028617Z",
     "iopub.status.idle": "2021-10-14T10:00:08.574149Z",
     "shell.execute_reply": "2021-10-14T10:00:08.575572Z"
    },
    "papermill": {
     "duration": 0.575137,
     "end_time": "2021-10-14T10:00:08.576007",
     "exception": false,
     "start_time": "2021-10-14T10:00:08.000870",
     "status": "completed"
    },
    "tags": []
   },
   "outputs": [],
   "source": [
    "timestamps = pd.read_sql(\"select distinct record_time from EBAY_TOP_BERLIN order by record_time desc limit 2\", sqlite3.connect(\"UsedObjects.db\"))"
   ]
  },
  {
   "cell_type": "code",
   "execution_count": 3,
   "id": "periodic-identification",
   "metadata": {
    "execution": {
     "iopub.execute_input": "2021-10-14T10:00:08.649085Z",
     "iopub.status.busy": "2021-10-14T10:00:08.646979Z",
     "iopub.status.idle": "2021-10-14T10:00:08.667379Z",
     "shell.execute_reply": "2021-10-14T10:00:08.668509Z"
    },
    "papermill": {
     "duration": 0.07331,
     "end_time": "2021-10-14T10:00:08.669098",
     "exception": false,
     "start_time": "2021-10-14T10:00:08.595788",
     "status": "completed"
    },
    "tags": []
   },
   "outputs": [
    {
     "data": {
      "text/html": [
       "<div>\n",
       "<style scoped>\n",
       "    .dataframe tbody tr th:only-of-type {\n",
       "        vertical-align: middle;\n",
       "    }\n",
       "\n",
       "    .dataframe tbody tr th {\n",
       "        vertical-align: top;\n",
       "    }\n",
       "\n",
       "    .dataframe thead th {\n",
       "        text-align: right;\n",
       "    }\n",
       "</style>\n",
       "<table border=\"1\" class=\"dataframe\">\n",
       "  <thead>\n",
       "    <tr style=\"text-align: right;\">\n",
       "      <th></th>\n",
       "      <th>RECORD_TIME</th>\n",
       "    </tr>\n",
       "  </thead>\n",
       "  <tbody>\n",
       "    <tr>\n",
       "      <th>0</th>\n",
       "      <td>2021-10-14 12:00</td>\n",
       "    </tr>\n",
       "    <tr>\n",
       "      <th>1</th>\n",
       "      <td>2021-10-14 11:30</td>\n",
       "    </tr>\n",
       "  </tbody>\n",
       "</table>\n",
       "</div>"
      ],
      "text/plain": [
       "        RECORD_TIME\n",
       "0  2021-10-14 12:00\n",
       "1  2021-10-14 11:30"
      ]
     },
     "execution_count": 3,
     "metadata": {},
     "output_type": "execute_result"
    }
   ],
   "source": [
    "timestamps"
   ]
  },
  {
   "cell_type": "code",
   "execution_count": 4,
   "id": "alternate-victory",
   "metadata": {
    "execution": {
     "iopub.execute_input": "2021-10-14T10:00:08.722703Z",
     "iopub.status.busy": "2021-10-14T10:00:08.720332Z",
     "iopub.status.idle": "2021-10-14T10:00:09.509247Z",
     "shell.execute_reply": "2021-10-14T10:00:09.510744Z"
    },
    "papermill": {
     "duration": 0.819617,
     "end_time": "2021-10-14T10:00:09.511187",
     "exception": false,
     "start_time": "2021-10-14T10:00:08.691570",
     "status": "completed"
    },
    "tags": []
   },
   "outputs": [],
   "source": [
    "df = pd.read_sql(\"select * from EBAY_TOP_BERLIN where record_time in (select distinct record_time from EBAY_TOP_BERLIN order by record_time desc limit 2)\", sqlite3.connect(\"UsedObjects.db\"))"
   ]
  },
  {
   "cell_type": "code",
   "execution_count": 5,
   "id": "popular-active",
   "metadata": {
    "execution": {
     "iopub.execute_input": "2021-10-14T10:00:09.582130Z",
     "iopub.status.busy": "2021-10-14T10:00:09.571298Z",
     "iopub.status.idle": "2021-10-14T10:00:09.597848Z",
     "shell.execute_reply": "2021-10-14T10:00:09.599056Z"
    },
    "papermill": {
     "duration": 0.067051,
     "end_time": "2021-10-14T10:00:09.599446",
     "exception": false,
     "start_time": "2021-10-14T10:00:09.532395",
     "status": "completed"
    },
    "tags": []
   },
   "outputs": [],
   "source": [
    "df_pivot = df.pivot_table(index=\"PRODUCT\", columns = \"RECORD_TIME\", values = \"LISTING_COUNT\")"
   ]
  },
  {
   "cell_type": "code",
   "execution_count": 6,
   "id": "union-huntington",
   "metadata": {
    "execution": {
     "iopub.execute_input": "2021-10-14T10:00:09.658940Z",
     "iopub.status.busy": "2021-10-14T10:00:09.656459Z",
     "iopub.status.idle": "2021-10-14T10:00:09.662303Z",
     "shell.execute_reply": "2021-10-14T10:00:09.663567Z"
    },
    "papermill": {
     "duration": 0.042225,
     "end_time": "2021-10-14T10:00:09.663974",
     "exception": false,
     "start_time": "2021-10-14T10:00:09.621749",
     "status": "completed"
    },
    "tags": []
   },
   "outputs": [],
   "source": [
    "df_pivot.columns = [\"stamp_1\", \"stamp_2\"]\n",
    "df_pivot_diff = df_pivot.diff(axis=1)"
   ]
  },
  {
   "cell_type": "code",
   "execution_count": 7,
   "id": "fifth-motion",
   "metadata": {
    "execution": {
     "iopub.execute_input": "2021-10-14T10:00:09.718813Z",
     "iopub.status.busy": "2021-10-14T10:00:09.716319Z",
     "iopub.status.idle": "2021-10-14T10:00:11.193143Z",
     "shell.execute_reply": "2021-10-14T10:00:11.194642Z"
    },
    "papermill": {
     "duration": 1.510625,
     "end_time": "2021-10-14T10:00:11.195102",
     "exception": false,
     "start_time": "2021-10-14T10:00:09.684477",
     "status": "completed"
    },
    "tags": []
   },
   "outputs": [
    {
     "data": {
      "text/plain": [
       "<AxesSubplot:ylabel='PRODUCT'>"
      ]
     },
     "execution_count": 7,
     "metadata": {},
     "output_type": "execute_result"
    },
    {
     "data": {
      "image/png": "[encoded data removed]",
      "text/plain": [
       "<Figure size 432x288 with 1 Axes>"
      ]
     },
     "metadata": {
      "needs_background": "light"
     },
     "output_type": "display_data"
    }
   ],
   "source": [
    "df_pivot_diff.sort_values(\"stamp_2\", ascending = False)[\"stamp_2\"].head(10).plot.barh()"
   ]
  },
  {
   "cell_type": "code",
   "execution_count": null,
   "id": "extra-executive",
   "metadata": {
    "papermill": {
     "duration": 0.022231,
     "end_time": "2021-10-14T10:00:11.241472",
     "exception": false,
     "start_time": "2021-10-14T10:00:11.219241",
     "status": "completed"
    },
    "tags": []
   },
   "outputs": [],
   "source": []
  }
 ],
 "metadata": {
  "kernelspec": {
   "display_name": "Python 3",
   "language": "python",
   "name": "python3"
  },
  "language_info": {
   "codemirror_mode": {
    "name": "ipython",
    "version": 3
   },
   "file_extension": ".py",
   "mimetype": "text/x-python",
   "name": "python",
   "nbconvert_exporter": "python",
   "pygments_lexer": "ipython3",
   "version": "3.9.5"
  },
  "papermill": {
   "default_parameters": {},
   "duration": 7.820608,
   "end_time": "2021-10-14T10:00:12.535848",
   "environment_variables": {},
   "exception": null,
   "input_path": "eBay_Overview.ipynb",
   "output_path": "eBay_Overview.ipynb",
   "parameters": {},
   "start_time": "2021-10-14T10:00:04.715240",
   "version": "2.3.3"
  }
 },
 "nbformat": 4,
 "nbformat_minor": 5
}