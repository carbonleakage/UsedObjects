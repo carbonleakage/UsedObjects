{
 "cells": [
  {
   "cell_type": "code",
   "execution_count": 1,
   "id": "reverse-picking",
   "metadata": {
    "execution": {
     "iopub.execute_input": "2021-12-17T08:30:07.654031Z",
     "iopub.status.busy": "2021-12-17T08:30:07.651636Z",
     "iopub.status.idle": "2021-12-17T08:30:08.611848Z",
     "shell.execute_reply": "2021-12-17T08:30:08.609921Z"
    },
    "papermill": {
     "duration": 1.008299,
     "end_time": "2021-12-17T08:30:08.612358",
     "exception": false,
     "start_time": "2021-12-17T08:30:07.604059",
     "status": "completed"
    },
    "tags": []
   },
   "outputs": [],
   "source": [
    "import pandas as pd\n",
    "import sqlite3"
   ]
  },
  {
   "cell_type": "code",
   "execution_count": 2,
   "id": "innovative-syndrome",
   "metadata": {
    "execution": {
     "iopub.execute_input": "2021-12-17T08:30:08.674120Z",
     "iopub.status.busy": "2021-12-17T08:30:08.671816Z",
     "iopub.status.idle": "2021-12-17T08:30:09.815324Z",
     "shell.execute_reply": "2021-12-17T08:30:09.817970Z"
    },
    "papermill": {
     "duration": 1.179134,
     "end_time": "2021-12-17T08:30:09.818473",
     "exception": false,
     "start_time": "2021-12-17T08:30:08.639339",
     "status": "completed"
    },
    "tags": []
   },
   "outputs": [],
   "source": [
    "timestamps = pd.read_sql(\"select distinct record_time from EBAY_TOP_BERLIN order by record_time desc limit 2\", sqlite3.connect(\"UsedObjects.db\"))"
   ]
  },
  {
   "cell_type": "code",
   "execution_count": 3,
   "id": "periodic-identification",
   "metadata": {
    "execution": {
     "iopub.execute_input": "2021-12-17T08:30:09.893200Z",
     "iopub.status.busy": "2021-12-17T08:30:09.890732Z",
     "iopub.status.idle": "2021-12-17T08:30:09.913670Z",
     "shell.execute_reply": "2021-12-17T08:30:09.915194Z"
    },
    "papermill": {
     "duration": 0.076705,
     "end_time": "2021-12-17T08:30:09.915709",
     "exception": false,
     "start_time": "2021-12-17T08:30:09.839004",
     "status": "completed"
    },
    "tags": []
   },
   "outputs": [
    {
     "data": {
      "text/html": [
       "<div>\n",
       "<style scoped>\n",
       "    .dataframe tbody tr th:only-of-type {\n",
       "        vertical-align: middle;\n",
       "    }\n",
       "\n",
       "    .dataframe tbody tr th {\n",
       "        vertical-align: top;\n",
       "    }\n",
       "\n",
       "    .dataframe thead th {\n",
       "        text-align: right;\n",
       "    }\n",
       "</style>\n",
       "<table border=\"1\" class=\"dataframe\">\n",
       "  <thead>\n",
       "    <tr style=\"text-align: right;\">\n",
       "      <th></th>\n",
       "      <th>RECORD_TIME</th>\n",
       "    </tr>\n",
       "  </thead>\n",
       "  <tbody>\n",
       "    <tr>\n",
       "      <th>0</th>\n",
       "      <td>2021-12-17 09:30</td>\n",
       "    </tr>\n",
       "    <tr>\n",
       "      <th>1</th>\n",
       "      <td>2021-12-17 09:00</td>\n",
       "    </tr>\n",
       "  </tbody>\n",
       "</table>\n",
       "</div>"
      ],
      "text/plain": [
       "        RECORD_TIME\n",
       "0  2021-12-17 09:30\n",
       "1  2021-12-17 09:00"
      ]
     },
     "execution_count": 3,
     "metadata": {},
     "output_type": "execute_result"
    }
   ],
   "source": [
    "timestamps"
   ]
  },
  {
   "cell_type": "code",
   "execution_count": 4,
   "id": "alternate-victory",
   "metadata": {
    "execution": {
     "iopub.execute_input": "2021-12-17T08:30:09.971192Z",
     "iopub.status.busy": "2021-12-17T08:30:09.968921Z",
     "iopub.status.idle": "2021-12-17T08:30:11.598031Z",
     "shell.execute_reply": "2021-12-17T08:30:11.600088Z"
    },
    "papermill": {
     "duration": 1.663946,
     "end_time": "2021-12-17T08:30:11.600554",
     "exception": false,
     "start_time": "2021-12-17T08:30:09.936608",
     "status": "completed"
    },
    "tags": []
   },
   "outputs": [],
   "source": [
    "df = pd.read_sql(\"select * from EBAY_TOP_BERLIN where record_time in (select distinct record_time from EBAY_TOP_BERLIN order by record_time desc limit 2)\", sqlite3.connect(\"UsedObjects.db\"))"
   ]
  },
  {
   "cell_type": "code",
   "execution_count": 5,
   "id": "popular-active",
   "metadata": {
    "execution": {
     "iopub.execute_input": "2021-12-17T08:30:11.668063Z",
     "iopub.status.busy": "2021-12-17T08:30:11.663311Z",
     "iopub.status.idle": "2021-12-17T08:30:11.697579Z",
     "shell.execute_reply": "2021-12-17T08:30:11.699372Z"
    },
    "papermill": {
     "duration": 0.07769,
     "end_time": "2021-12-17T08:30:11.699894",
     "exception": false,
     "start_time": "2021-12-17T08:30:11.622204",
     "status": "completed"
    },
    "tags": []
   },
   "outputs": [],
   "source": [
    "df_pivot = df.pivot_table(index=\"PRODUCT\", columns = \"RECORD_TIME\", values = \"LISTING_COUNT\")"
   ]
  },
  {
   "cell_type": "code",
   "execution_count": 6,
   "id": "union-huntington",
   "metadata": {
    "execution": {
     "iopub.execute_input": "2021-12-17T08:30:11.759062Z",
     "iopub.status.busy": "2021-12-17T08:30:11.756832Z",
     "iopub.status.idle": "2021-12-17T08:30:11.762747Z",
     "shell.execute_reply": "2021-12-17T08:30:11.764231Z"
    },
    "papermill": {
     "duration": 0.043872,
     "end_time": "2021-12-17T08:30:11.764739",
     "exception": false,
     "start_time": "2021-12-17T08:30:11.720867",
     "status": "completed"
    },
    "tags": []
   },
   "outputs": [],
   "source": [
    "df_pivot.columns = [\"stamp_1\", \"stamp_2\"]\n",
    "df_pivot_diff = df_pivot.diff(axis=1)"
   ]
  },
  {
   "cell_type": "code",
   "execution_count": 7,
   "id": "fifth-motion",
   "metadata": {
    "execution": {
     "iopub.execute_input": "2021-12-17T08:30:11.821957Z",
     "iopub.status.busy": "2021-12-17T08:30:11.819435Z",
     "iopub.status.idle": "2021-12-17T08:30:13.775752Z",
     "shell.execute_reply": "2021-12-17T08:30:13.777360Z"
    },
    "papermill": {
     "duration": 1.992567,
     "end_time": "2021-12-17T08:30:13.777832",
     "exception": false,
     "start_time": "2021-12-17T08:30:11.785265",
     "status": "completed"
    },
    "tags": []
   },
   "outputs": [
    {
     "data": {
      "text/plain": [
       "<AxesSubplot:ylabel='PRODUCT'>"
      ]
     },
     "execution_count": 7,
     "metadata": {},
     "output_type": "execute_result"
    },
    {
     "data": {
      "image/png": "[encoded data removed]",
      "text/plain": [
       "<Figure size 432x288 with 1 Axes>"
      ]
     },
     "metadata": {
      "needs_background": "light"
     },
     "output_type": "display_data"
    }
   ],
   "source": [
    "df_pivot_diff.sort_values(\"stamp_2\", ascending = False)[\"stamp_2\"].head(10).plot.barh()"
   ]
  },
  {
   "cell_type": "code",
   "execution_count": null,
   "id": "extra-executive",
   "metadata": {
    "papermill": {
     "duration": 0.022198,
     "end_time": "2021-12-17T08:30:13.825594",
     "exception": false,
     "start_time": "2021-12-17T08:30:13.803396",
     "status": "completed"
    },
    "tags": []
   },
   "outputs": [],
   "source": []
  }
 ],
 "metadata": {
  "kernelspec": {
   "display_name": "Python 3",
   "language": "python",
   "name": "python3"
  },
  "language_info": {
   "codemirror_mode": {
    "name": "ipython",
    "version": 3
   },
   "file_extension": ".py",
   "mimetype": "text/x-python",
   "name": "python",
   "nbconvert_exporter": "python",
   "pygments_lexer": "ipython3",
   "version": "3.9.5"
  },
  "papermill": {
   "default_parameters": {},
   "duration": 9.609814,
   "end_time": "2021-12-17T08:30:14.466384",
   "environment_variables": {},
   "exception": null,
   "input_path": "eBay_Overview.ipynb",
   "output_path": "eBay_Overview.ipynb",
   "parameters": {},
   "start_time": "2021-12-17T08:30:04.856570",
   "version": "2.3.3"
  }
 },
 "nbformat": 4,
 "nbformat_minor": 5
}