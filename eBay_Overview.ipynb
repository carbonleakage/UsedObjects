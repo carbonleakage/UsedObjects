{
 "cells": [
  {
   "cell_type": "code",
   "execution_count": 1,
   "id": "reverse-picking",
   "metadata": {
    "execution": {
     "iopub.execute_input": "2021-11-09T10:00:07.879586Z",
     "iopub.status.busy": "2021-11-09T10:00:07.877206Z",
     "iopub.status.idle": "2021-11-09T10:00:08.837989Z",
     "shell.execute_reply": "2021-11-09T10:00:08.839502Z"
    },
    "papermill": {
     "duration": 1.010726,
     "end_time": "2021-11-09T10:00:08.840233",
     "exception": false,
     "start_time": "2021-11-09T10:00:07.829507",
     "status": "completed"
    },
    "tags": []
   },
   "outputs": [],
   "source": [
    "import pandas as pd\n",
    "import sqlite3"
   ]
  },
  {
   "cell_type": "code",
   "execution_count": 2,
   "id": "innovative-syndrome",
   "metadata": {
    "execution": {
     "iopub.execute_input": "2021-11-09T10:00:08.900914Z",
     "iopub.status.busy": "2021-11-09T10:00:08.898679Z",
     "iopub.status.idle": "2021-11-09T10:00:09.705588Z",
     "shell.execute_reply": "2021-11-09T10:00:09.707051Z"
    },
    "papermill": {
     "duration": 0.842351,
     "end_time": "2021-11-09T10:00:09.707561",
     "exception": false,
     "start_time": "2021-11-09T10:00:08.865210",
     "status": "completed"
    },
    "tags": []
   },
   "outputs": [],
   "source": [
    "timestamps = pd.read_sql(\"select distinct record_time from EBAY_TOP_BERLIN order by record_time desc limit 2\", sqlite3.connect(\"UsedObjects.db\"))"
   ]
  },
  {
   "cell_type": "code",
   "execution_count": 3,
   "id": "periodic-identification",
   "metadata": {
    "execution": {
     "iopub.execute_input": "2021-11-09T10:00:09.778639Z",
     "iopub.status.busy": "2021-11-09T10:00:09.776174Z",
     "iopub.status.idle": "2021-11-09T10:00:09.801495Z",
     "shell.execute_reply": "2021-11-09T10:00:09.799639Z"
    },
    "papermill": {
     "duration": 0.074112,
     "end_time": "2021-11-09T10:00:09.802015",
     "exception": false,
     "start_time": "2021-11-09T10:00:09.727903",
     "status": "completed"
    },
    "tags": []
   },
   "outputs": [
    {
     "data": {
      "text/html": [
       "<div>\n",
       "<style scoped>\n",
       "    .dataframe tbody tr th:only-of-type {\n",
       "        vertical-align: middle;\n",
       "    }\n",
       "\n",
       "    .dataframe tbody tr th {\n",
       "        vertical-align: top;\n",
       "    }\n",
       "\n",
       "    .dataframe thead th {\n",
       "        text-align: right;\n",
       "    }\n",
       "</style>\n",
       "<table border=\"1\" class=\"dataframe\">\n",
       "  <thead>\n",
       "    <tr style=\"text-align: right;\">\n",
       "      <th></th>\n",
       "      <th>RECORD_TIME</th>\n",
       "    </tr>\n",
       "  </thead>\n",
       "  <tbody>\n",
       "    <tr>\n",
       "      <th>0</th>\n",
       "      <td>2021-11-09 11:00</td>\n",
       "    </tr>\n",
       "    <tr>\n",
       "      <th>1</th>\n",
       "      <td>2021-11-09 10:30</td>\n",
       "    </tr>\n",
       "  </tbody>\n",
       "</table>\n",
       "</div>"
      ],
      "text/plain": [
       "        RECORD_TIME\n",
       "0  2021-11-09 11:00\n",
       "1  2021-11-09 10:30"
      ]
     },
     "execution_count": 3,
     "metadata": {},
     "output_type": "execute_result"
    }
   ],
   "source": [
    "timestamps"
   ]
  },
  {
   "cell_type": "code",
   "execution_count": 4,
   "id": "alternate-victory",
   "metadata": {
    "execution": {
     "iopub.execute_input": "2021-11-09T10:00:09.859344Z",
     "iopub.status.busy": "2021-11-09T10:00:09.856993Z",
     "iopub.status.idle": "2021-11-09T10:00:10.982191Z",
     "shell.execute_reply": "2021-11-09T10:00:10.983740Z"
    },
    "papermill": {
     "duration": 1.159312,
     "end_time": "2021-11-09T10:00:10.984218",
     "exception": false,
     "start_time": "2021-11-09T10:00:09.824906",
     "status": "completed"
    },
    "tags": []
   },
   "outputs": [],
   "source": [
    "df = pd.read_sql(\"select * from EBAY_TOP_BERLIN where record_time in (select distinct record_time from EBAY_TOP_BERLIN order by record_time desc limit 2)\", sqlite3.connect(\"UsedObjects.db\"))"
   ]
  },
  {
   "cell_type": "code",
   "execution_count": 5,
   "id": "popular-active",
   "metadata": {
    "execution": {
     "iopub.execute_input": "2021-11-09T10:00:11.061393Z",
     "iopub.status.busy": "2021-11-09T10:00:11.049103Z",
     "iopub.status.idle": "2021-11-09T10:00:11.080242Z",
     "shell.execute_reply": "2021-11-09T10:00:11.081724Z"
    },
    "papermill": {
     "duration": 0.076241,
     "end_time": "2021-11-09T10:00:11.082199",
     "exception": false,
     "start_time": "2021-11-09T10:00:11.005958",
     "status": "completed"
    },
    "tags": []
   },
   "outputs": [],
   "source": [
    "df_pivot = df.pivot_table(index=\"PRODUCT\", columns = \"RECORD_TIME\", values = \"LISTING_COUNT\")"
   ]
  },
  {
   "cell_type": "code",
   "execution_count": 6,
   "id": "union-huntington",
   "metadata": {
    "execution": {
     "iopub.execute_input": "2021-11-09T10:00:11.140407Z",
     "iopub.status.busy": "2021-11-09T10:00:11.138224Z",
     "iopub.status.idle": "2021-11-09T10:00:11.145291Z",
     "shell.execute_reply": "2021-11-09T10:00:11.143645Z"
    },
    "papermill": {
     "duration": 0.04321,
     "end_time": "2021-11-09T10:00:11.145737",
     "exception": false,
     "start_time": "2021-11-09T10:00:11.102527",
     "status": "completed"
    },
    "tags": []
   },
   "outputs": [],
   "source": [
    "df_pivot.columns = [\"stamp_1\", \"stamp_2\"]\n",
    "df_pivot_diff = df_pivot.diff(axis=1)"
   ]
  },
  {
   "cell_type": "code",
   "execution_count": 7,
   "id": "fifth-motion",
   "metadata": {
    "execution": {
     "iopub.execute_input": "2021-11-09T10:00:11.215791Z",
     "iopub.status.busy": "2021-11-09T10:00:11.211511Z",
     "iopub.status.idle": "2021-11-09T10:00:12.996616Z",
     "shell.execute_reply": "2021-11-09T10:00:12.998085Z"
    },
    "papermill": {
     "duration": 1.83129,
     "end_time": "2021-11-09T10:00:12.998541",
     "exception": false,
     "start_time": "2021-11-09T10:00:11.167251",
     "status": "completed"
    },
    "tags": []
   },
   "outputs": [
    {
     "data": {
      "text/plain": [
       "<AxesSubplot:ylabel='PRODUCT'>"
      ]
     },
     "execution_count": 7,
     "metadata": {},
     "output_type": "execute_result"
    },
    {
     "data": {
      "image/png": "[encoded data removed]",
      "text/plain": [
       "<Figure size 432x288 with 1 Axes>"
      ]
     },
     "metadata": {
      "needs_background": "light"
     },
     "output_type": "display_data"
    }
   ],
   "source": [
    "df_pivot_diff.sort_values(\"stamp_2\", ascending = False)[\"stamp_2\"].head(10).plot.barh()"
   ]
  },
  {
   "cell_type": "code",
   "execution_count": null,
   "id": "extra-executive",
   "metadata": {
    "papermill": {
     "duration": 0.022497,
     "end_time": "2021-11-09T10:00:13.044907",
     "exception": false,
     "start_time": "2021-11-09T10:00:13.022410",
     "status": "completed"
    },
    "tags": []
   },
   "outputs": [],
   "source": []
  }
 ],
 "metadata": {
  "kernelspec": {
   "display_name": "Python 3",
   "language": "python",
   "name": "python3"
  },
  "language_info": {
   "codemirror_mode": {
    "name": "ipython",
    "version": 3
   },
   "file_extension": ".py",
   "mimetype": "text/x-python",
   "name": "python",
   "nbconvert_exporter": "python",
   "pygments_lexer": "ipython3",
   "version": "3.9.5"
  },
  "papermill": {
   "default_parameters": {},
   "duration": 8.570597,
   "end_time": "2021-11-09T10:00:13.688326",
   "environment_variables": {},
   "exception": null,
   "input_path": "eBay_Overview.ipynb",
   "output_path": "eBay_Overview.ipynb",
   "parameters": {},
   "start_time": "2021-11-09T10:00:05.117729",
   "version": "2.3.3"
  }
 },
 "nbformat": 4,
 "nbformat_minor": 5
}