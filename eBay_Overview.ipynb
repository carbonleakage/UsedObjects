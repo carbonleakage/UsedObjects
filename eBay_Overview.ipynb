{
 "cells": [
  {
   "cell_type": "code",
   "execution_count": 1,
   "id": "reverse-picking",
   "metadata": {
    "execution": {
     "iopub.execute_input": "2021-12-20T09:00:07.578799Z",
     "iopub.status.busy": "2021-12-20T09:00:07.576308Z",
     "iopub.status.idle": "2021-12-20T09:00:08.534918Z",
     "shell.execute_reply": "2021-12-20T09:00:08.536501Z"
    },
    "papermill": {
     "duration": 1.008285,
     "end_time": "2021-12-20T09:00:08.537312",
     "exception": false,
     "start_time": "2021-12-20T09:00:07.529027",
     "status": "completed"
    },
    "tags": []
   },
   "outputs": [],
   "source": [
    "import pandas as pd\n",
    "import sqlite3"
   ]
  },
  {
   "cell_type": "code",
   "execution_count": 2,
   "id": "innovative-syndrome",
   "metadata": {
    "execution": {
     "iopub.execute_input": "2021-12-20T09:00:08.601385Z",
     "iopub.status.busy": "2021-12-20T09:00:08.599031Z",
     "iopub.status.idle": "2021-12-20T09:00:09.751051Z",
     "shell.execute_reply": "2021-12-20T09:00:09.752401Z"
    },
    "papermill": {
     "duration": 1.188582,
     "end_time": "2021-12-20T09:00:09.752951",
     "exception": false,
     "start_time": "2021-12-20T09:00:08.564369",
     "status": "completed"
    },
    "tags": []
   },
   "outputs": [],
   "source": [
    "timestamps = pd.read_sql(\"select distinct record_time from EBAY_TOP_BERLIN order by record_time desc limit 2\", sqlite3.connect(\"UsedObjects.db\"))"
   ]
  },
  {
   "cell_type": "code",
   "execution_count": 3,
   "id": "periodic-identification",
   "metadata": {
    "execution": {
     "iopub.execute_input": "2021-12-20T09:00:09.804991Z",
     "iopub.status.busy": "2021-12-20T09:00:09.802633Z",
     "iopub.status.idle": "2021-12-20T09:00:09.846929Z",
     "shell.execute_reply": "2021-12-20T09:00:09.849823Z"
    },
    "papermill": {
     "duration": 0.077925,
     "end_time": "2021-12-20T09:00:09.850342",
     "exception": false,
     "start_time": "2021-12-20T09:00:09.772417",
     "status": "completed"
    },
    "tags": []
   },
   "outputs": [
    {
     "data": {
      "text/html": [
       "<div>\n",
       "<style scoped>\n",
       "    .dataframe tbody tr th:only-of-type {\n",
       "        vertical-align: middle;\n",
       "    }\n",
       "\n",
       "    .dataframe tbody tr th {\n",
       "        vertical-align: top;\n",
       "    }\n",
       "\n",
       "    .dataframe thead th {\n",
       "        text-align: right;\n",
       "    }\n",
       "</style>\n",
       "<table border=\"1\" class=\"dataframe\">\n",
       "  <thead>\n",
       "    <tr style=\"text-align: right;\">\n",
       "      <th></th>\n",
       "      <th>RECORD_TIME</th>\n",
       "    </tr>\n",
       "  </thead>\n",
       "  <tbody>\n",
       "    <tr>\n",
       "      <th>0</th>\n",
       "      <td>2021-12-20 10:00</td>\n",
       "    </tr>\n",
       "    <tr>\n",
       "      <th>1</th>\n",
       "      <td>2021-12-20 09:30</td>\n",
       "    </tr>\n",
       "  </tbody>\n",
       "</table>\n",
       "</div>"
      ],
      "text/plain": [
       "        RECORD_TIME\n",
       "0  2021-12-20 10:00\n",
       "1  2021-12-20 09:30"
      ]
     },
     "execution_count": 3,
     "metadata": {},
     "output_type": "execute_result"
    }
   ],
   "source": [
    "timestamps"
   ]
  },
  {
   "cell_type": "code",
   "execution_count": 4,
   "id": "alternate-victory",
   "metadata": {
    "execution": {
     "iopub.execute_input": "2021-12-20T09:00:09.905073Z",
     "iopub.status.busy": "2021-12-20T09:00:09.902892Z",
     "iopub.status.idle": "2021-12-20T09:00:11.564364Z",
     "shell.execute_reply": "2021-12-20T09:00:11.566517Z"
    },
    "papermill": {
     "duration": 1.695447,
     "end_time": "2021-12-20T09:00:11.567007",
     "exception": false,
     "start_time": "2021-12-20T09:00:09.871560",
     "status": "completed"
    },
    "tags": []
   },
   "outputs": [],
   "source": [
    "df = pd.read_sql(\"select * from EBAY_TOP_BERLIN where record_time in (select distinct record_time from EBAY_TOP_BERLIN order by record_time desc limit 2)\", sqlite3.connect(\"UsedObjects.db\"))"
   ]
  },
  {
   "cell_type": "code",
   "execution_count": 5,
   "id": "popular-active",
   "metadata": {
    "execution": {
     "iopub.execute_input": "2021-12-20T09:00:11.638730Z",
     "iopub.status.busy": "2021-12-20T09:00:11.627242Z",
     "iopub.status.idle": "2021-12-20T09:00:11.666898Z",
     "shell.execute_reply": "2021-12-20T09:00:11.668463Z"
    },
    "papermill": {
     "duration": 0.081194,
     "end_time": "2021-12-20T09:00:11.669006",
     "exception": false,
     "start_time": "2021-12-20T09:00:11.587812",
     "status": "completed"
    },
    "tags": []
   },
   "outputs": [],
   "source": [
    "df_pivot = df.pivot_table(index=\"PRODUCT\", columns = \"RECORD_TIME\", values = \"LISTING_COUNT\")"
   ]
  },
  {
   "cell_type": "code",
   "execution_count": 6,
   "id": "union-huntington",
   "metadata": {
    "execution": {
     "iopub.execute_input": "2021-12-20T09:00:11.730348Z",
     "iopub.status.busy": "2021-12-20T09:00:11.728075Z",
     "iopub.status.idle": "2021-12-20T09:00:11.733909Z",
     "shell.execute_reply": "2021-12-20T09:00:11.735371Z"
    },
    "papermill": {
     "duration": 0.043957,
     "end_time": "2021-12-20T09:00:11.735842",
     "exception": false,
     "start_time": "2021-12-20T09:00:11.691885",
     "status": "completed"
    },
    "tags": []
   },
   "outputs": [],
   "source": [
    "df_pivot.columns = [\"stamp_1\", \"stamp_2\"]\n",
    "df_pivot_diff = df_pivot.diff(axis=1)"
   ]
  },
  {
   "cell_type": "code",
   "execution_count": 7,
   "id": "fifth-motion",
   "metadata": {
    "execution": {
     "iopub.execute_input": "2021-12-20T09:00:11.792663Z",
     "iopub.status.busy": "2021-12-20T09:00:11.790139Z",
     "iopub.status.idle": "2021-12-20T09:00:13.809810Z",
     "shell.execute_reply": "2021-12-20T09:00:13.811001Z"
    },
    "papermill": {
     "duration": 2.055215,
     "end_time": "2021-12-20T09:00:13.811440",
     "exception": false,
     "start_time": "2021-12-20T09:00:11.756225",
     "status": "completed"
    },
    "tags": []
   },
   "outputs": [
    {
     "data": {
      "text/plain": [
       "<AxesSubplot:ylabel='PRODUCT'>"
      ]
     },
     "execution_count": 7,
     "metadata": {},
     "output_type": "execute_result"
    },
    {
     "data": {
      "image/png": "[encoded data removed]",
      "text/plain": [
       "<Figure size 432x288 with 1 Axes>"
      ]
     },
     "metadata": {
      "needs_background": "light"
     },
     "output_type": "display_data"
    }
   ],
   "source": [
    "df_pivot_diff.sort_values(\"stamp_2\", ascending = False)[\"stamp_2\"].head(10).plot.barh()"
   ]
  },
  {
   "cell_type": "code",
   "execution_count": null,
   "id": "extra-executive",
   "metadata": {
    "papermill": {
     "duration": 0.022076,
     "end_time": "2021-12-20T09:00:13.859312",
     "exception": false,
     "start_time": "2021-12-20T09:00:13.837236",
     "status": "completed"
    },
    "tags": []
   },
   "outputs": [],
   "source": []
  }
 ],
 "metadata": {
  "kernelspec": {
   "display_name": "Python 3",
   "language": "python",
   "name": "python3"
  },
  "language_info": {
   "codemirror_mode": {
    "name": "ipython",
    "version": 3
   },
   "file_extension": ".py",
   "mimetype": "text/x-python",
   "name": "python",
   "nbconvert_exporter": "python",
   "pygments_lexer": "ipython3",
   "version": "3.9.5"
  },
  "papermill": {
   "default_parameters": {},
   "duration": 9.724331,
   "end_time": "2021-12-20T09:00:14.502877",
   "environment_variables": {},
   "exception": null,
   "input_path": "eBay_Overview.ipynb",
   "output_path": "eBay_Overview.ipynb",
   "parameters": {},
   "start_time": "2021-12-20T09:00:04.778546",
   "version": "2.3.3"
  }
 },
 "nbformat": 4,
 "nbformat_minor": 5
}