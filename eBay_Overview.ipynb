{
 "cells": [
  {
   "cell_type": "code",
   "execution_count": 1,
   "id": "reverse-picking",
   "metadata": {
    "execution": {
     "iopub.execute_input": "2021-11-03T10:00:08.029884Z",
     "iopub.status.busy": "2021-11-03T10:00:08.027565Z",
     "iopub.status.idle": "2021-11-03T10:00:08.994033Z",
     "shell.execute_reply": "2021-11-03T10:00:08.995553Z"
    },
    "papermill": {
     "duration": 1.014077,
     "end_time": "2021-11-03T10:00:08.996377",
     "exception": false,
     "start_time": "2021-11-03T10:00:07.982300",
     "status": "completed"
    },
    "tags": []
   },
   "outputs": [],
   "source": [
    "import pandas as pd\n",
    "import sqlite3"
   ]
  },
  {
   "cell_type": "code",
   "execution_count": 2,
   "id": "innovative-syndrome",
   "metadata": {
    "execution": {
     "iopub.execute_input": "2021-11-03T10:00:09.052751Z",
     "iopub.status.busy": "2021-11-03T10:00:09.050426Z",
     "iopub.status.idle": "2021-11-03T10:00:09.775897Z",
     "shell.execute_reply": "2021-11-03T10:00:09.777238Z"
    },
    "papermill": {
     "duration": 0.759353,
     "end_time": "2021-11-03T10:00:09.777707",
     "exception": false,
     "start_time": "2021-11-03T10:00:09.018354",
     "status": "completed"
    },
    "tags": []
   },
   "outputs": [],
   "source": [
    "timestamps = pd.read_sql(\"select distinct record_time from EBAY_TOP_BERLIN order by record_time desc limit 2\", sqlite3.connect(\"UsedObjects.db\"))"
   ]
  },
  {
   "cell_type": "code",
   "execution_count": 3,
   "id": "periodic-identification",
   "metadata": {
    "execution": {
     "iopub.execute_input": "2021-11-03T10:00:09.846211Z",
     "iopub.status.busy": "2021-11-03T10:00:09.843907Z",
     "iopub.status.idle": "2021-11-03T10:00:09.865608Z",
     "shell.execute_reply": "2021-11-03T10:00:09.866891Z"
    },
    "papermill": {
     "duration": 0.069673,
     "end_time": "2021-11-03T10:00:09.867356",
     "exception": false,
     "start_time": "2021-11-03T10:00:09.797683",
     "status": "completed"
    },
    "tags": []
   },
   "outputs": [
    {
     "data": {
      "text/html": [
       "<div>\n",
       "<style scoped>\n",
       "    .dataframe tbody tr th:only-of-type {\n",
       "        vertical-align: middle;\n",
       "    }\n",
       "\n",
       "    .dataframe tbody tr th {\n",
       "        vertical-align: top;\n",
       "    }\n",
       "\n",
       "    .dataframe thead th {\n",
       "        text-align: right;\n",
       "    }\n",
       "</style>\n",
       "<table border=\"1\" class=\"dataframe\">\n",
       "  <thead>\n",
       "    <tr style=\"text-align: right;\">\n",
       "      <th></th>\n",
       "      <th>RECORD_TIME</th>\n",
       "    </tr>\n",
       "  </thead>\n",
       "  <tbody>\n",
       "    <tr>\n",
       "      <th>0</th>\n",
       "      <td>2021-11-03 11:00</td>\n",
       "    </tr>\n",
       "    <tr>\n",
       "      <th>1</th>\n",
       "      <td>2021-11-03 10:30</td>\n",
       "    </tr>\n",
       "  </tbody>\n",
       "</table>\n",
       "</div>"
      ],
      "text/plain": [
       "        RECORD_TIME\n",
       "0  2021-11-03 11:00\n",
       "1  2021-11-03 10:30"
      ]
     },
     "execution_count": 3,
     "metadata": {},
     "output_type": "execute_result"
    }
   ],
   "source": [
    "timestamps"
   ]
  },
  {
   "cell_type": "code",
   "execution_count": 4,
   "id": "alternate-victory",
   "metadata": {
    "execution": {
     "iopub.execute_input": "2021-11-03T10:00:09.922409Z",
     "iopub.status.busy": "2021-11-03T10:00:09.920131Z",
     "iopub.status.idle": "2021-11-03T10:00:10.960778Z",
     "shell.execute_reply": "2021-11-03T10:00:10.962334Z"
    },
    "papermill": {
     "duration": 1.073954,
     "end_time": "2021-11-03T10:00:10.962850",
     "exception": false,
     "start_time": "2021-11-03T10:00:09.888896",
     "status": "completed"
    },
    "tags": []
   },
   "outputs": [],
   "source": [
    "df = pd.read_sql(\"select * from EBAY_TOP_BERLIN where record_time in (select distinct record_time from EBAY_TOP_BERLIN order by record_time desc limit 2)\", sqlite3.connect(\"UsedObjects.db\"))"
   ]
  },
  {
   "cell_type": "code",
   "execution_count": 5,
   "id": "popular-active",
   "metadata": {
    "execution": {
     "iopub.execute_input": "2021-11-03T10:00:11.045918Z",
     "iopub.status.busy": "2021-11-03T10:00:11.029866Z",
     "iopub.status.idle": "2021-11-03T10:00:11.066461Z",
     "shell.execute_reply": "2021-11-03T10:00:11.064984Z"
    },
    "papermill": {
     "duration": 0.080062,
     "end_time": "2021-11-03T10:00:11.066882",
     "exception": false,
     "start_time": "2021-11-03T10:00:10.986820",
     "status": "completed"
    },
    "tags": []
   },
   "outputs": [],
   "source": [
    "df_pivot = df.pivot_table(index=\"PRODUCT\", columns = \"RECORD_TIME\", values = \"LISTING_COUNT\")"
   ]
  },
  {
   "cell_type": "code",
   "execution_count": 6,
   "id": "union-huntington",
   "metadata": {
    "execution": {
     "iopub.execute_input": "2021-11-03T10:00:11.131671Z",
     "iopub.status.busy": "2021-11-03T10:00:11.129363Z",
     "iopub.status.idle": "2021-11-03T10:00:11.135115Z",
     "shell.execute_reply": "2021-11-03T10:00:11.136838Z"
    },
    "papermill": {
     "duration": 0.04802,
     "end_time": "2021-11-03T10:00:11.137358",
     "exception": false,
     "start_time": "2021-11-03T10:00:11.089338",
     "status": "completed"
    },
    "tags": []
   },
   "outputs": [],
   "source": [
    "df_pivot.columns = [\"stamp_1\", \"stamp_2\"]\n",
    "df_pivot_diff = df_pivot.diff(axis=1)"
   ]
  },
  {
   "cell_type": "code",
   "execution_count": 7,
   "id": "fifth-motion",
   "metadata": {
    "execution": {
     "iopub.execute_input": "2021-11-03T10:00:11.197648Z",
     "iopub.status.busy": "2021-11-03T10:00:11.194901Z",
     "iopub.status.idle": "2021-11-03T10:00:13.070741Z",
     "shell.execute_reply": "2021-11-03T10:00:13.072819Z"
    },
    "papermill": {
     "duration": 1.914993,
     "end_time": "2021-11-03T10:00:13.073500",
     "exception": false,
     "start_time": "2021-11-03T10:00:11.158507",
     "status": "completed"
    },
    "tags": []
   },
   "outputs": [
    {
     "data": {
      "text/plain": [
       "<AxesSubplot:ylabel='PRODUCT'>"
      ]
     },
     "execution_count": 7,
     "metadata": {},
     "output_type": "execute_result"
    },
    {
     "data": {
      "image/png": "[encoded data removed]",
      "text/plain": [
       "<Figure size 432x288 with 1 Axes>"
      ]
     },
     "metadata": {
      "needs_background": "light"
     },
     "output_type": "display_data"
    }
   ],
   "source": [
    "df_pivot_diff.sort_values(\"stamp_2\", ascending = False)[\"stamp_2\"].head(10).plot.barh()"
   ]
  },
  {
   "cell_type": "code",
   "execution_count": null,
   "id": "extra-executive",
   "metadata": {
    "papermill": {
     "duration": 0.040053,
     "end_time": "2021-11-03T10:00:13.143243",
     "exception": false,
     "start_time": "2021-11-03T10:00:13.103190",
     "status": "completed"
    },
    "tags": []
   },
   "outputs": [],
   "source": []
  }
 ],
 "metadata": {
  "kernelspec": {
   "display_name": "Python 3",
   "language": "python",
   "name": "python3"
  },
  "language_info": {
   "codemirror_mode": {
    "name": "ipython",
    "version": 3
   },
   "file_extension": ".py",
   "mimetype": "text/x-python",
   "name": "python",
   "nbconvert_exporter": "python",
   "pygments_lexer": "ipython3",
   "version": "3.9.5"
  },
  "papermill": {
   "default_parameters": {},
   "duration": 8.772634,
   "end_time": "2021-11-03T10:00:14.018346",
   "environment_variables": {},
   "exception": null,
   "input_path": "eBay_Overview.ipynb",
   "output_path": "eBay_Overview.ipynb",
   "parameters": {},
   "start_time": "2021-11-03T10:00:05.245712",
   "version": "2.3.3"
  }
 },
 "nbformat": 4,
 "nbformat_minor": 5
}