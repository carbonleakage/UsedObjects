{
 "cells": [
  {
   "cell_type": "code",
   "execution_count": 1,
   "id": "reverse-picking",
   "metadata": {
    "execution": {
     "iopub.execute_input": "2021-09-28T02:30:06.752219Z",
     "iopub.status.busy": "2021-09-28T02:30:06.750200Z",
     "iopub.status.idle": "2021-09-28T02:30:07.558470Z",
     "shell.execute_reply": "2021-09-28T02:30:07.556908Z"
    },
    "papermill": {
     "duration": 0.857547,
     "end_time": "2021-09-28T02:30:07.559039",
     "exception": false,
     "start_time": "2021-09-28T02:30:06.701492",
     "status": "completed"
    },
    "tags": []
   },
   "outputs": [],
   "source": [
    "import pandas as pd\n",
    "import sqlite3"
   ]
  },
  {
   "cell_type": "code",
   "execution_count": 2,
   "id": "innovative-syndrome",
   "metadata": {
    "execution": {
     "iopub.execute_input": "2021-09-28T02:30:07.611962Z",
     "iopub.status.busy": "2021-09-28T02:30:07.609574Z",
     "iopub.status.idle": "2021-09-28T02:30:08.010653Z",
     "shell.execute_reply": "2021-09-28T02:30:08.012079Z"
    },
    "papermill": {
     "duration": 0.431135,
     "end_time": "2021-09-28T02:30:08.012506",
     "exception": false,
     "start_time": "2021-09-28T02:30:07.581371",
     "status": "completed"
    },
    "tags": []
   },
   "outputs": [],
   "source": [
    "timestamps = pd.read_sql(\"select distinct record_time from EBAY_TOP_BERLIN order by record_time desc limit 2\", sqlite3.connect(\"UsedObjects.db\"))"
   ]
  },
  {
   "cell_type": "code",
   "execution_count": 3,
   "id": "periodic-identification",
   "metadata": {
    "execution": {
     "iopub.execute_input": "2021-09-28T02:30:08.076996Z",
     "iopub.status.busy": "2021-09-28T02:30:08.074740Z",
     "iopub.status.idle": "2021-09-28T02:30:08.097500Z",
     "shell.execute_reply": "2021-09-28T02:30:08.098934Z"
    },
    "papermill": {
     "duration": 0.067283,
     "end_time": "2021-09-28T02:30:08.099424",
     "exception": false,
     "start_time": "2021-09-28T02:30:08.032141",
     "status": "completed"
    },
    "tags": []
   },
   "outputs": [
    {
     "data": {
      "text/html": [
       "<div>\n",
       "<style scoped>\n",
       "    .dataframe tbody tr th:only-of-type {\n",
       "        vertical-align: middle;\n",
       "    }\n",
       "\n",
       "    .dataframe tbody tr th {\n",
       "        vertical-align: top;\n",
       "    }\n",
       "\n",
       "    .dataframe thead th {\n",
       "        text-align: right;\n",
       "    }\n",
       "</style>\n",
       "<table border=\"1\" class=\"dataframe\">\n",
       "  <thead>\n",
       "    <tr style=\"text-align: right;\">\n",
       "      <th></th>\n",
       "      <th>RECORD_TIME</th>\n",
       "    </tr>\n",
       "  </thead>\n",
       "  <tbody>\n",
       "    <tr>\n",
       "      <th>0</th>\n",
       "      <td>2021-09-28 04:30</td>\n",
       "    </tr>\n",
       "    <tr>\n",
       "      <th>1</th>\n",
       "      <td>2021-09-28 04:00</td>\n",
       "    </tr>\n",
       "  </tbody>\n",
       "</table>\n",
       "</div>"
      ],
      "text/plain": [
       "        RECORD_TIME\n",
       "0  2021-09-28 04:30\n",
       "1  2021-09-28 04:00"
      ]
     },
     "execution_count": 3,
     "metadata": {},
     "output_type": "execute_result"
    }
   ],
   "source": [
    "timestamps"
   ]
  },
  {
   "cell_type": "code",
   "execution_count": 4,
   "id": "alternate-victory",
   "metadata": {
    "execution": {
     "iopub.execute_input": "2021-09-28T02:30:08.151762Z",
     "iopub.status.busy": "2021-09-28T02:30:08.149841Z",
     "iopub.status.idle": "2021-09-28T02:30:08.727954Z",
     "shell.execute_reply": "2021-09-28T02:30:08.729361Z"
    },
    "papermill": {
     "duration": 0.608243,
     "end_time": "2021-09-28T02:30:08.729801",
     "exception": false,
     "start_time": "2021-09-28T02:30:08.121558",
     "status": "completed"
    },
    "tags": []
   },
   "outputs": [],
   "source": [
    "df = pd.read_sql(\"select * from EBAY_TOP_BERLIN where record_time in (select distinct record_time from EBAY_TOP_BERLIN order by record_time desc limit 2)\", sqlite3.connect(\"UsedObjects.db\"))"
   ]
  },
  {
   "cell_type": "code",
   "execution_count": 5,
   "id": "popular-active",
   "metadata": {
    "execution": {
     "iopub.execute_input": "2021-09-28T02:30:08.799805Z",
     "iopub.status.busy": "2021-09-28T02:30:08.789072Z",
     "iopub.status.idle": "2021-09-28T02:30:08.816273Z",
     "shell.execute_reply": "2021-09-28T02:30:08.817385Z"
    },
    "papermill": {
     "duration": 0.066536,
     "end_time": "2021-09-28T02:30:08.817789",
     "exception": false,
     "start_time": "2021-09-28T02:30:08.751253",
     "status": "completed"
    },
    "tags": []
   },
   "outputs": [],
   "source": [
    "df_pivot = df.pivot_table(index=\"PRODUCT\", columns = \"RECORD_TIME\", values = \"LISTING_COUNT\")"
   ]
  },
  {
   "cell_type": "code",
   "execution_count": 6,
   "id": "union-huntington",
   "metadata": {
    "execution": {
     "iopub.execute_input": "2021-09-28T02:30:08.877943Z",
     "iopub.status.busy": "2021-09-28T02:30:08.875502Z",
     "iopub.status.idle": "2021-09-28T02:30:08.881413Z",
     "shell.execute_reply": "2021-09-28T02:30:08.882689Z"
    },
    "papermill": {
     "duration": 0.042229,
     "end_time": "2021-09-28T02:30:08.883155",
     "exception": false,
     "start_time": "2021-09-28T02:30:08.840926",
     "status": "completed"
    },
    "tags": []
   },
   "outputs": [],
   "source": [
    "df_pivot.columns = [\"stamp_1\", \"stamp_2\"]\n",
    "df_pivot_diff = df_pivot.diff(axis=1)"
   ]
  },
  {
   "cell_type": "code",
   "execution_count": 7,
   "id": "fifth-motion",
   "metadata": {
    "execution": {
     "iopub.execute_input": "2021-09-28T02:30:08.937742Z",
     "iopub.status.busy": "2021-09-28T02:30:08.935457Z",
     "iopub.status.idle": "2021-09-28T02:30:10.468718Z",
     "shell.execute_reply": "2021-09-28T02:30:10.469994Z"
    },
    "papermill": {
     "duration": 1.566594,
     "end_time": "2021-09-28T02:30:10.470405",
     "exception": false,
     "start_time": "2021-09-28T02:30:08.903811",
     "status": "completed"
    },
    "tags": []
   },
   "outputs": [
    {
     "data": {
      "text/plain": [
       "<AxesSubplot:ylabel='PRODUCT'>"
      ]
     },
     "execution_count": 7,
     "metadata": {},
     "output_type": "execute_result"
    },
    {
     "data": {
      "image/png": "[encoded data removed]",
      "text/plain": [
       "<Figure size 432x288 with 1 Axes>"
      ]
     },
     "metadata": {
      "needs_background": "light"
     },
     "output_type": "display_data"
    }
   ],
   "source": [
    "df_pivot_diff.sort_values(\"stamp_2\", ascending = False)[\"stamp_2\"].head(10).plot.barh()"
   ]
  },
  {
   "cell_type": "code",
   "execution_count": null,
   "id": "extra-executive",
   "metadata": {
    "papermill": {
     "duration": 0.022599,
     "end_time": "2021-09-28T02:30:10.517923",
     "exception": false,
     "start_time": "2021-09-28T02:30:10.495324",
     "status": "completed"
    },
    "tags": []
   },
   "outputs": [],
   "source": []
  }
 ],
 "metadata": {
  "kernelspec": {
   "display_name": "Python 3",
   "language": "python",
   "name": "python3"
  },
  "language_info": {
   "codemirror_mode": {
    "name": "ipython",
    "version": 3
   },
   "file_extension": ".py",
   "mimetype": "text/x-python",
   "name": "python",
   "nbconvert_exporter": "python",
   "pygments_lexer": "ipython3",
   "version": "3.9.5"
  },
  "papermill": {
   "default_parameters": {},
   "duration": 7.829415,
   "end_time": "2021-09-28T02:30:12.125578",
   "environment_variables": {},
   "exception": null,
   "input_path": "eBay_Overview.ipynb",
   "output_path": "eBay_Overview.ipynb",
   "parameters": {},
   "start_time": "2021-09-28T02:30:04.296163",
   "version": "2.3.3"
  }
 },
 "nbformat": 4,
 "nbformat_minor": 5
}