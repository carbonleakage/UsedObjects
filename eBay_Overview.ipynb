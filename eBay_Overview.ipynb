{
 "cells": [
  {
   "cell_type": "code",
   "execution_count": 1,
   "id": "reverse-picking",
   "metadata": {
    "execution": {
     "iopub.execute_input": "2021-10-10T01:00:06.568571Z",
     "iopub.status.busy": "2021-10-10T01:00:06.566580Z",
     "iopub.status.idle": "2021-10-10T01:00:07.374515Z",
     "shell.execute_reply": "2021-10-10T01:00:07.375852Z"
    },
    "papermill": {
     "duration": 0.861037,
     "end_time": "2021-10-10T01:00:07.376478",
     "exception": false,
     "start_time": "2021-10-10T01:00:06.515441",
     "status": "completed"
    },
    "tags": []
   },
   "outputs": [],
   "source": [
    "import pandas as pd\n",
    "import sqlite3"
   ]
  },
  {
   "cell_type": "code",
   "execution_count": 2,
   "id": "innovative-syndrome",
   "metadata": {
    "execution": {
     "iopub.execute_input": "2021-10-10T01:00:07.428216Z",
     "iopub.status.busy": "2021-10-10T01:00:07.426107Z",
     "iopub.status.idle": "2021-10-10T01:00:07.927389Z",
     "shell.execute_reply": "2021-10-10T01:00:07.928605Z"
    },
    "papermill": {
     "duration": 0.530835,
     "end_time": "2021-10-10T01:00:07.928996",
     "exception": false,
     "start_time": "2021-10-10T01:00:07.398161",
     "status": "completed"
    },
    "tags": []
   },
   "outputs": [],
   "source": [
    "timestamps = pd.read_sql(\"select distinct record_time from EBAY_TOP_BERLIN order by record_time desc limit 2\", sqlite3.connect(\"UsedObjects.db\"))"
   ]
  },
  {
   "cell_type": "code",
   "execution_count": 3,
   "id": "periodic-identification",
   "metadata": {
    "execution": {
     "iopub.execute_input": "2021-10-10T01:00:07.993504Z",
     "iopub.status.busy": "2021-10-10T01:00:07.991512Z",
     "iopub.status.idle": "2021-10-10T01:00:08.011361Z",
     "shell.execute_reply": "2021-10-10T01:00:08.012750Z"
    },
    "papermill": {
     "duration": 0.064655,
     "end_time": "2021-10-10T01:00:08.013227",
     "exception": false,
     "start_time": "2021-10-10T01:00:07.948572",
     "status": "completed"
    },
    "tags": []
   },
   "outputs": [
    {
     "data": {
      "text/html": [
       "<div>\n",
       "<style scoped>\n",
       "    .dataframe tbody tr th:only-of-type {\n",
       "        vertical-align: middle;\n",
       "    }\n",
       "\n",
       "    .dataframe tbody tr th {\n",
       "        vertical-align: top;\n",
       "    }\n",
       "\n",
       "    .dataframe thead th {\n",
       "        text-align: right;\n",
       "    }\n",
       "</style>\n",
       "<table border=\"1\" class=\"dataframe\">\n",
       "  <thead>\n",
       "    <tr style=\"text-align: right;\">\n",
       "      <th></th>\n",
       "      <th>RECORD_TIME</th>\n",
       "    </tr>\n",
       "  </thead>\n",
       "  <tbody>\n",
       "    <tr>\n",
       "      <th>0</th>\n",
       "      <td>2021-10-10 03:00</td>\n",
       "    </tr>\n",
       "    <tr>\n",
       "      <th>1</th>\n",
       "      <td>2021-10-10 02:30</td>\n",
       "    </tr>\n",
       "  </tbody>\n",
       "</table>\n",
       "</div>"
      ],
      "text/plain": [
       "        RECORD_TIME\n",
       "0  2021-10-10 03:00\n",
       "1  2021-10-10 02:30"
      ]
     },
     "execution_count": 3,
     "metadata": {},
     "output_type": "execute_result"
    }
   ],
   "source": [
    "timestamps"
   ]
  },
  {
   "cell_type": "code",
   "execution_count": 4,
   "id": "alternate-victory",
   "metadata": {
    "execution": {
     "iopub.execute_input": "2021-10-10T01:00:08.078635Z",
     "iopub.status.busy": "2021-10-10T01:00:08.076777Z",
     "iopub.status.idle": "2021-10-10T01:00:08.818226Z",
     "shell.execute_reply": "2021-10-10T01:00:08.819515Z"
    },
    "papermill": {
     "duration": 0.776706,
     "end_time": "2021-10-10T01:00:08.819918",
     "exception": false,
     "start_time": "2021-10-10T01:00:08.043212",
     "status": "completed"
    },
    "tags": []
   },
   "outputs": [],
   "source": [
    "df = pd.read_sql(\"select * from EBAY_TOP_BERLIN where record_time in (select distinct record_time from EBAY_TOP_BERLIN order by record_time desc limit 2)\", sqlite3.connect(\"UsedObjects.db\"))"
   ]
  },
  {
   "cell_type": "code",
   "execution_count": 5,
   "id": "popular-active",
   "metadata": {
    "execution": {
     "iopub.execute_input": "2021-10-10T01:00:08.891642Z",
     "iopub.status.busy": "2021-10-10T01:00:08.878849Z",
     "iopub.status.idle": "2021-10-10T01:00:08.907265Z",
     "shell.execute_reply": "2021-10-10T01:00:08.908601Z"
    },
    "papermill": {
     "duration": 0.067977,
     "end_time": "2021-10-10T01:00:08.909006",
     "exception": false,
     "start_time": "2021-10-10T01:00:08.841029",
     "status": "completed"
    },
    "tags": []
   },
   "outputs": [],
   "source": [
    "df_pivot = df.pivot_table(index=\"PRODUCT\", columns = \"RECORD_TIME\", values = \"LISTING_COUNT\")"
   ]
  },
  {
   "cell_type": "code",
   "execution_count": 6,
   "id": "union-huntington",
   "metadata": {
    "execution": {
     "iopub.execute_input": "2021-10-10T01:00:08.964500Z",
     "iopub.status.busy": "2021-10-10T01:00:08.962481Z",
     "iopub.status.idle": "2021-10-10T01:00:08.967556Z",
     "shell.execute_reply": "2021-10-10T01:00:08.968690Z"
    },
    "papermill": {
     "duration": 0.039629,
     "end_time": "2021-10-10T01:00:08.969091",
     "exception": false,
     "start_time": "2021-10-10T01:00:08.929462",
     "status": "completed"
    },
    "tags": []
   },
   "outputs": [],
   "source": [
    "df_pivot.columns = [\"stamp_1\", \"stamp_2\"]\n",
    "df_pivot_diff = df_pivot.diff(axis=1)"
   ]
  },
  {
   "cell_type": "code",
   "execution_count": 7,
   "id": "fifth-motion",
   "metadata": {
    "execution": {
     "iopub.execute_input": "2021-10-10T01:00:09.023227Z",
     "iopub.status.busy": "2021-10-10T01:00:09.020665Z",
     "iopub.status.idle": "2021-10-10T01:00:10.552609Z",
     "shell.execute_reply": "2021-10-10T01:00:10.554024Z"
    },
    "papermill": {
     "duration": 1.564955,
     "end_time": "2021-10-10T01:00:10.554458",
     "exception": false,
     "start_time": "2021-10-10T01:00:08.989503",
     "status": "completed"
    },
    "tags": []
   },
   "outputs": [
    {
     "data": {
      "text/plain": [
       "<AxesSubplot:ylabel='PRODUCT'>"
      ]
     },
     "execution_count": 7,
     "metadata": {},
     "output_type": "execute_result"
    },
    {
     "data": {
      "image/png": "[encoded data removed]",
      "text/plain": [
       "<Figure size 432x288 with 1 Axes>"
      ]
     },
     "metadata": {
      "needs_background": "light"
     },
     "output_type": "display_data"
    }
   ],
   "source": [
    "df_pivot_diff.sort_values(\"stamp_2\", ascending = False)[\"stamp_2\"].head(10).plot.barh()"
   ]
  },
  {
   "cell_type": "code",
   "execution_count": null,
   "id": "extra-executive",
   "metadata": {
    "papermill": {
     "duration": 0.022374,
     "end_time": "2021-10-10T01:00:10.601032",
     "exception": false,
     "start_time": "2021-10-10T01:00:10.578658",
     "status": "completed"
    },
    "tags": []
   },
   "outputs": [],
   "source": []
  }
 ],
 "metadata": {
  "kernelspec": {
   "display_name": "Python 3",
   "language": "python",
   "name": "python3"
  },
  "language_info": {
   "codemirror_mode": {
    "name": "ipython",
    "version": 3
   },
   "file_extension": ".py",
   "mimetype": "text/x-python",
   "name": "python",
   "nbconvert_exporter": "python",
   "pygments_lexer": "ipython3",
   "version": "3.9.5"
  },
  "papermill": {
   "default_parameters": {},
   "duration": 7.83126,
   "end_time": "2021-10-10T01:00:11.932998",
   "environment_variables": {},
   "exception": null,
   "input_path": "eBay_Overview.ipynb",
   "output_path": "eBay_Overview.ipynb",
   "parameters": {},
   "start_time": "2021-10-10T01:00:04.101738",
   "version": "2.3.3"
  }
 },
 "nbformat": 4,
 "nbformat_minor": 5
}