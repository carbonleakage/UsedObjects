{
 "cells": [
  {
   "cell_type": "code",
   "execution_count": 1,
   "id": "reverse-picking",
   "metadata": {
    "execution": {
     "iopub.execute_input": "2021-12-13T10:30:07.858446Z",
     "iopub.status.busy": "2021-12-13T10:30:07.856221Z",
     "iopub.status.idle": "2021-12-13T10:30:08.817492Z",
     "shell.execute_reply": "2021-12-13T10:30:08.819033Z"
    },
    "papermill": {
     "duration": 1.008045,
     "end_time": "2021-12-13T10:30:08.819793",
     "exception": false,
     "start_time": "2021-12-13T10:30:07.811748",
     "status": "completed"
    },
    "tags": []
   },
   "outputs": [],
   "source": [
    "import pandas as pd\n",
    "import sqlite3"
   ]
  },
  {
   "cell_type": "code",
   "execution_count": 2,
   "id": "innovative-syndrome",
   "metadata": {
    "execution": {
     "iopub.execute_input": "2021-12-13T10:30:08.882959Z",
     "iopub.status.busy": "2021-12-13T10:30:08.880752Z",
     "iopub.status.idle": "2021-12-13T10:30:09.953468Z",
     "shell.execute_reply": "2021-12-13T10:30:09.954995Z"
    },
    "papermill": {
     "duration": 1.108658,
     "end_time": "2021-12-13T10:30:09.955481",
     "exception": false,
     "start_time": "2021-12-13T10:30:08.846823",
     "status": "completed"
    },
    "tags": []
   },
   "outputs": [],
   "source": [
    "timestamps = pd.read_sql(\"select distinct record_time from EBAY_TOP_BERLIN order by record_time desc limit 2\", sqlite3.connect(\"UsedObjects.db\"))"
   ]
  },
  {
   "cell_type": "code",
   "execution_count": 3,
   "id": "periodic-identification",
   "metadata": {
    "execution": {
     "iopub.execute_input": "2021-12-13T10:30:10.027718Z",
     "iopub.status.busy": "2021-12-13T10:30:10.020385Z",
     "iopub.status.idle": "2021-12-13T10:30:10.049827Z",
     "shell.execute_reply": "2021-12-13T10:30:10.051058Z"
    },
    "papermill": {
     "duration": 0.07511,
     "end_time": "2021-12-13T10:30:10.051464",
     "exception": false,
     "start_time": "2021-12-13T10:30:09.976354",
     "status": "completed"
    },
    "tags": []
   },
   "outputs": [
    {
     "data": {
      "text/html": [
       "<div>\n",
       "<style scoped>\n",
       "    .dataframe tbody tr th:only-of-type {\n",
       "        vertical-align: middle;\n",
       "    }\n",
       "\n",
       "    .dataframe tbody tr th {\n",
       "        vertical-align: top;\n",
       "    }\n",
       "\n",
       "    .dataframe thead th {\n",
       "        text-align: right;\n",
       "    }\n",
       "</style>\n",
       "<table border=\"1\" class=\"dataframe\">\n",
       "  <thead>\n",
       "    <tr style=\"text-align: right;\">\n",
       "      <th></th>\n",
       "      <th>RECORD_TIME</th>\n",
       "    </tr>\n",
       "  </thead>\n",
       "  <tbody>\n",
       "    <tr>\n",
       "      <th>0</th>\n",
       "      <td>2021-12-13 11:30</td>\n",
       "    </tr>\n",
       "    <tr>\n",
       "      <th>1</th>\n",
       "      <td>2021-12-13 11:00</td>\n",
       "    </tr>\n",
       "  </tbody>\n",
       "</table>\n",
       "</div>"
      ],
      "text/plain": [
       "        RECORD_TIME\n",
       "0  2021-12-13 11:30\n",
       "1  2021-12-13 11:00"
      ]
     },
     "execution_count": 3,
     "metadata": {},
     "output_type": "execute_result"
    }
   ],
   "source": [
    "timestamps"
   ]
  },
  {
   "cell_type": "code",
   "execution_count": 4,
   "id": "alternate-victory",
   "metadata": {
    "execution": {
     "iopub.execute_input": "2021-12-13T10:30:10.107836Z",
     "iopub.status.busy": "2021-12-13T10:30:10.105723Z",
     "iopub.status.idle": "2021-12-13T10:30:11.662600Z",
     "shell.execute_reply": "2021-12-13T10:30:11.664640Z"
    },
    "papermill": {
     "duration": 1.593923,
     "end_time": "2021-12-13T10:30:11.665170",
     "exception": false,
     "start_time": "2021-12-13T10:30:10.071247",
     "status": "completed"
    },
    "tags": []
   },
   "outputs": [],
   "source": [
    "df = pd.read_sql(\"select * from EBAY_TOP_BERLIN where record_time in (select distinct record_time from EBAY_TOP_BERLIN order by record_time desc limit 2)\", sqlite3.connect(\"UsedObjects.db\"))"
   ]
  },
  {
   "cell_type": "code",
   "execution_count": 5,
   "id": "popular-active",
   "metadata": {
    "execution": {
     "iopub.execute_input": "2021-12-13T10:30:11.739975Z",
     "iopub.status.busy": "2021-12-13T10:30:11.725084Z",
     "iopub.status.idle": "2021-12-13T10:30:11.757621Z",
     "shell.execute_reply": "2021-12-13T10:30:11.759012Z"
    },
    "papermill": {
     "duration": 0.073706,
     "end_time": "2021-12-13T10:30:11.759462",
     "exception": false,
     "start_time": "2021-12-13T10:30:11.685756",
     "status": "completed"
    },
    "tags": []
   },
   "outputs": [],
   "source": [
    "df_pivot = df.pivot_table(index=\"PRODUCT\", columns = \"RECORD_TIME\", values = \"LISTING_COUNT\")"
   ]
  },
  {
   "cell_type": "code",
   "execution_count": 6,
   "id": "union-huntington",
   "metadata": {
    "execution": {
     "iopub.execute_input": "2021-12-13T10:30:11.825430Z",
     "iopub.status.busy": "2021-12-13T10:30:11.823155Z",
     "iopub.status.idle": "2021-12-13T10:30:11.827854Z",
     "shell.execute_reply": "2021-12-13T10:30:11.829696Z"
    },
    "papermill": {
     "duration": 0.046913,
     "end_time": "2021-12-13T10:30:11.830193",
     "exception": false,
     "start_time": "2021-12-13T10:30:11.783280",
     "status": "completed"
    },
    "tags": []
   },
   "outputs": [],
   "source": [
    "df_pivot.columns = [\"stamp_1\", \"stamp_2\"]\n",
    "df_pivot_diff = df_pivot.diff(axis=1)"
   ]
  },
  {
   "cell_type": "code",
   "execution_count": 7,
   "id": "fifth-motion",
   "metadata": {
    "execution": {
     "iopub.execute_input": "2021-12-13T10:30:11.896766Z",
     "iopub.status.busy": "2021-12-13T10:30:11.893398Z",
     "iopub.status.idle": "2021-12-13T10:30:13.813788Z",
     "shell.execute_reply": "2021-12-13T10:30:13.815980Z"
    },
    "papermill": {
     "duration": 1.963348,
     "end_time": "2021-12-13T10:30:13.816872",
     "exception": false,
     "start_time": "2021-12-13T10:30:11.853524",
     "status": "completed"
    },
    "tags": []
   },
   "outputs": [
    {
     "data": {
      "text/plain": [
       "<AxesSubplot:ylabel='PRODUCT'>"
      ]
     },
     "execution_count": 7,
     "metadata": {},
     "output_type": "execute_result"
    },
    {
     "data": {
      "image/png": "[encoded data removed]",
      "text/plain": [
       "<Figure size 432x288 with 1 Axes>"
      ]
     },
     "metadata": {
      "needs_background": "light"
     },
     "output_type": "display_data"
    }
   ],
   "source": [
    "df_pivot_diff.sort_values(\"stamp_2\", ascending = False)[\"stamp_2\"].head(10).plot.barh()"
   ]
  },
  {
   "cell_type": "code",
   "execution_count": null,
   "id": "extra-executive",
   "metadata": {
    "papermill": {
     "duration": 0.028027,
     "end_time": "2021-12-13T10:30:13.884906",
     "exception": false,
     "start_time": "2021-12-13T10:30:13.856879",
     "status": "completed"
    },
    "tags": []
   },
   "outputs": [],
   "source": []
  }
 ],
 "metadata": {
  "kernelspec": {
   "display_name": "Python 3",
   "language": "python",
   "name": "python3"
  },
  "language_info": {
   "codemirror_mode": {
    "name": "ipython",
    "version": 3
   },
   "file_extension": ".py",
   "mimetype": "text/x-python",
   "name": "python",
   "nbconvert_exporter": "python",
   "pygments_lexer": "ipython3",
   "version": "3.9.5"
  },
  "papermill": {
   "default_parameters": {},
   "duration": 9.623383,
   "end_time": "2021-12-13T10:30:14.650786",
   "environment_variables": {},
   "exception": null,
   "input_path": "eBay_Overview.ipynb",
   "output_path": "eBay_Overview.ipynb",
   "parameters": {},
   "start_time": "2021-12-13T10:30:05.027403",
   "version": "2.3.3"
  }
 },
 "nbformat": 4,
 "nbformat_minor": 5
}