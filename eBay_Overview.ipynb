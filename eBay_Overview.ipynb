{
 "cells": [
  {
   "cell_type": "code",
   "execution_count": 1,
   "id": "reverse-picking",
   "metadata": {
    "execution": {
     "iopub.execute_input": "2021-10-30T15:00:06.802677Z",
     "iopub.status.busy": "2021-10-30T15:00:06.800650Z",
     "iopub.status.idle": "2021-10-30T15:00:07.602793Z",
     "shell.execute_reply": "2021-10-30T15:00:07.604134Z"
    },
    "papermill": {
     "duration": 0.854849,
     "end_time": "2021-10-30T15:00:07.604891",
     "exception": false,
     "start_time": "2021-10-30T15:00:06.750042",
     "status": "completed"
    },
    "tags": []
   },
   "outputs": [],
   "source": [
    "import pandas as pd\n",
    "import sqlite3"
   ]
  },
  {
   "cell_type": "code",
   "execution_count": 2,
   "id": "innovative-syndrome",
   "metadata": {
    "execution": {
     "iopub.execute_input": "2021-10-30T15:00:07.656454Z",
     "iopub.status.busy": "2021-10-30T15:00:07.654480Z",
     "iopub.status.idle": "2021-10-30T15:00:08.328437Z",
     "shell.execute_reply": "2021-10-30T15:00:08.329730Z"
    },
    "papermill": {
     "duration": 0.704108,
     "end_time": "2021-10-30T15:00:08.330143",
     "exception": false,
     "start_time": "2021-10-30T15:00:07.626035",
     "status": "completed"
    },
    "tags": []
   },
   "outputs": [],
   "source": [
    "timestamps = pd.read_sql(\"select distinct record_time from EBAY_TOP_BERLIN order by record_time desc limit 2\", sqlite3.connect(\"UsedObjects.db\"))"
   ]
  },
  {
   "cell_type": "code",
   "execution_count": 3,
   "id": "periodic-identification",
   "metadata": {
    "execution": {
     "iopub.execute_input": "2021-10-30T15:00:08.405267Z",
     "iopub.status.busy": "2021-10-30T15:00:08.403119Z",
     "iopub.status.idle": "2021-10-30T15:00:08.423177Z",
     "shell.execute_reply": "2021-10-30T15:00:08.424457Z"
    },
    "papermill": {
     "duration": 0.069611,
     "end_time": "2021-10-30T15:00:08.424943",
     "exception": false,
     "start_time": "2021-10-30T15:00:08.355332",
     "status": "completed"
    },
    "tags": []
   },
   "outputs": [
    {
     "data": {
      "text/html": [
       "<div>\n",
       "<style scoped>\n",
       "    .dataframe tbody tr th:only-of-type {\n",
       "        vertical-align: middle;\n",
       "    }\n",
       "\n",
       "    .dataframe tbody tr th {\n",
       "        vertical-align: top;\n",
       "    }\n",
       "\n",
       "    .dataframe thead th {\n",
       "        text-align: right;\n",
       "    }\n",
       "</style>\n",
       "<table border=\"1\" class=\"dataframe\">\n",
       "  <thead>\n",
       "    <tr style=\"text-align: right;\">\n",
       "      <th></th>\n",
       "      <th>RECORD_TIME</th>\n",
       "    </tr>\n",
       "  </thead>\n",
       "  <tbody>\n",
       "    <tr>\n",
       "      <th>0</th>\n",
       "      <td>2021-10-30 17:00</td>\n",
       "    </tr>\n",
       "    <tr>\n",
       "      <th>1</th>\n",
       "      <td>2021-10-30 16:30</td>\n",
       "    </tr>\n",
       "  </tbody>\n",
       "</table>\n",
       "</div>"
      ],
      "text/plain": [
       "        RECORD_TIME\n",
       "0  2021-10-30 17:00\n",
       "1  2021-10-30 16:30"
      ]
     },
     "execution_count": 3,
     "metadata": {},
     "output_type": "execute_result"
    }
   ],
   "source": [
    "timestamps"
   ]
  },
  {
   "cell_type": "code",
   "execution_count": 4,
   "id": "alternate-victory",
   "metadata": {
    "execution": {
     "iopub.execute_input": "2021-10-30T15:00:08.478252Z",
     "iopub.status.busy": "2021-10-30T15:00:08.475835Z",
     "iopub.status.idle": "2021-10-30T15:00:09.468951Z",
     "shell.execute_reply": "2021-10-30T15:00:09.470289Z"
    },
    "papermill": {
     "duration": 1.023545,
     "end_time": "2021-10-30T15:00:09.470911",
     "exception": false,
     "start_time": "2021-10-30T15:00:08.447366",
     "status": "completed"
    },
    "tags": []
   },
   "outputs": [],
   "source": [
    "df = pd.read_sql(\"select * from EBAY_TOP_BERLIN where record_time in (select distinct record_time from EBAY_TOP_BERLIN order by record_time desc limit 2)\", sqlite3.connect(\"UsedObjects.db\"))"
   ]
  },
  {
   "cell_type": "code",
   "execution_count": 5,
   "id": "popular-active",
   "metadata": {
    "execution": {
     "iopub.execute_input": "2021-10-30T15:00:09.542945Z",
     "iopub.status.busy": "2021-10-30T15:00:09.529381Z",
     "iopub.status.idle": "2021-10-30T15:00:09.561100Z",
     "shell.execute_reply": "2021-10-30T15:00:09.562517Z"
    },
    "papermill": {
     "duration": 0.069623,
     "end_time": "2021-10-30T15:00:09.562965",
     "exception": false,
     "start_time": "2021-10-30T15:00:09.493342",
     "status": "completed"
    },
    "tags": []
   },
   "outputs": [],
   "source": [
    "df_pivot = df.pivot_table(index=\"PRODUCT\", columns = \"RECORD_TIME\", values = \"LISTING_COUNT\")"
   ]
  },
  {
   "cell_type": "code",
   "execution_count": 6,
   "id": "union-huntington",
   "metadata": {
    "execution": {
     "iopub.execute_input": "2021-10-30T15:00:09.620216Z",
     "iopub.status.busy": "2021-10-30T15:00:09.617711Z",
     "iopub.status.idle": "2021-10-30T15:00:09.623463Z",
     "shell.execute_reply": "2021-10-30T15:00:09.624829Z"
    },
    "papermill": {
     "duration": 0.041998,
     "end_time": "2021-10-30T15:00:09.625260",
     "exception": false,
     "start_time": "2021-10-30T15:00:09.583262",
     "status": "completed"
    },
    "tags": []
   },
   "outputs": [],
   "source": [
    "df_pivot.columns = [\"stamp_1\", \"stamp_2\"]\n",
    "df_pivot_diff = df_pivot.diff(axis=1)"
   ]
  },
  {
   "cell_type": "code",
   "execution_count": 7,
   "id": "fifth-motion",
   "metadata": {
    "execution": {
     "iopub.execute_input": "2021-10-30T15:00:09.679406Z",
     "iopub.status.busy": "2021-10-30T15:00:09.677110Z",
     "iopub.status.idle": "2021-10-30T15:00:11.186083Z",
     "shell.execute_reply": "2021-10-30T15:00:11.187401Z"
    },
    "papermill": {
     "duration": 1.542153,
     "end_time": "2021-10-30T15:00:11.187828",
     "exception": false,
     "start_time": "2021-10-30T15:00:09.645675",
     "status": "completed"
    },
    "tags": []
   },
   "outputs": [
    {
     "data": {
      "text/plain": [
       "<AxesSubplot:ylabel='PRODUCT'>"
      ]
     },
     "execution_count": 7,
     "metadata": {},
     "output_type": "execute_result"
    },
    {
     "data": {
      "image/png": "[encoded data removed]",
      "text/plain": [
       "<Figure size 432x288 with 1 Axes>"
      ]
     },
     "metadata": {
      "needs_background": "light"
     },
     "output_type": "display_data"
    }
   ],
   "source": [
    "df_pivot_diff.sort_values(\"stamp_2\", ascending = False)[\"stamp_2\"].head(10).plot.barh()"
   ]
  },
  {
   "cell_type": "code",
   "execution_count": null,
   "id": "extra-executive",
   "metadata": {
    "papermill": {
     "duration": 0.022105,
     "end_time": "2021-10-30T15:00:11.233717",
     "exception": false,
     "start_time": "2021-10-30T15:00:11.211612",
     "status": "completed"
    },
    "tags": []
   },
   "outputs": [],
   "source": []
  }
 ],
 "metadata": {
  "kernelspec": {
   "display_name": "Python 3",
   "language": "python",
   "name": "python3"
  },
  "language_info": {
   "codemirror_mode": {
    "name": "ipython",
    "version": 3
   },
   "file_extension": ".py",
   "mimetype": "text/x-python",
   "name": "python",
   "nbconvert_exporter": "python",
   "pygments_lexer": "ipython3",
   "version": "3.9.5"
  },
  "papermill": {
   "default_parameters": {},
   "duration": 7.523432,
   "end_time": "2021-10-30T15:00:11.877701",
   "environment_variables": {},
   "exception": null,
   "input_path": "eBay_Overview.ipynb",
   "output_path": "eBay_Overview.ipynb",
   "parameters": {},
   "start_time": "2021-10-30T15:00:04.354269",
   "version": "2.3.3"
  }
 },
 "nbformat": 4,
 "nbformat_minor": 5
}