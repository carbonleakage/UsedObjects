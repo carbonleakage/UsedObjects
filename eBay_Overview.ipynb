{
 "cells": [
  {
   "cell_type": "code",
   "execution_count": 1,
   "id": "reverse-picking",
   "metadata": {
    "execution": {
     "iopub.execute_input": "2021-12-05T11:00:08.062846Z",
     "iopub.status.busy": "2021-12-05T11:00:08.051491Z",
     "iopub.status.idle": "2021-12-05T11:00:09.031617Z",
     "shell.execute_reply": "2021-12-05T11:00:09.033168Z"
    },
    "papermill": {
     "duration": 1.019235,
     "end_time": "2021-12-05T11:00:09.033885",
     "exception": false,
     "start_time": "2021-12-05T11:00:08.014650",
     "status": "completed"
    },
    "tags": []
   },
   "outputs": [],
   "source": [
    "import pandas as pd\n",
    "import sqlite3"
   ]
  },
  {
   "cell_type": "code",
   "execution_count": 2,
   "id": "innovative-syndrome",
   "metadata": {
    "execution": {
     "iopub.execute_input": "2021-12-05T11:00:09.091259Z",
     "iopub.status.busy": "2021-12-05T11:00:09.089023Z",
     "iopub.status.idle": "2021-12-05T11:00:10.072319Z",
     "shell.execute_reply": "2021-12-05T11:00:10.073908Z"
    },
    "papermill": {
     "duration": 1.019148,
     "end_time": "2021-12-05T11:00:10.074375",
     "exception": false,
     "start_time": "2021-12-05T11:00:09.055227",
     "status": "completed"
    },
    "tags": []
   },
   "outputs": [],
   "source": [
    "timestamps = pd.read_sql(\"select distinct record_time from EBAY_TOP_BERLIN order by record_time desc limit 2\", sqlite3.connect(\"UsedObjects.db\"))"
   ]
  },
  {
   "cell_type": "code",
   "execution_count": 3,
   "id": "periodic-identification",
   "metadata": {
    "execution": {
     "iopub.execute_input": "2021-12-05T11:00:10.143774Z",
     "iopub.status.busy": "2021-12-05T11:00:10.141527Z",
     "iopub.status.idle": "2021-12-05T11:00:10.165528Z",
     "shell.execute_reply": "2021-12-05T11:00:10.167011Z"
    },
    "papermill": {
     "duration": 0.073238,
     "end_time": "2021-12-05T11:00:10.167513",
     "exception": false,
     "start_time": "2021-12-05T11:00:10.094275",
     "status": "completed"
    },
    "tags": []
   },
   "outputs": [
    {
     "data": {
      "text/html": [
       "<div>\n",
       "<style scoped>\n",
       "    .dataframe tbody tr th:only-of-type {\n",
       "        vertical-align: middle;\n",
       "    }\n",
       "\n",
       "    .dataframe tbody tr th {\n",
       "        vertical-align: top;\n",
       "    }\n",
       "\n",
       "    .dataframe thead th {\n",
       "        text-align: right;\n",
       "    }\n",
       "</style>\n",
       "<table border=\"1\" class=\"dataframe\">\n",
       "  <thead>\n",
       "    <tr style=\"text-align: right;\">\n",
       "      <th></th>\n",
       "      <th>RECORD_TIME</th>\n",
       "    </tr>\n",
       "  </thead>\n",
       "  <tbody>\n",
       "    <tr>\n",
       "      <th>0</th>\n",
       "      <td>2021-12-05 12:00</td>\n",
       "    </tr>\n",
       "    <tr>\n",
       "      <th>1</th>\n",
       "      <td>2021-12-05 11:30</td>\n",
       "    </tr>\n",
       "  </tbody>\n",
       "</table>\n",
       "</div>"
      ],
      "text/plain": [
       "        RECORD_TIME\n",
       "0  2021-12-05 12:00\n",
       "1  2021-12-05 11:30"
      ]
     },
     "execution_count": 3,
     "metadata": {},
     "output_type": "execute_result"
    }
   ],
   "source": [
    "timestamps"
   ]
  },
  {
   "cell_type": "code",
   "execution_count": 4,
   "id": "alternate-victory",
   "metadata": {
    "execution": {
     "iopub.execute_input": "2021-12-05T11:00:10.224518Z",
     "iopub.status.busy": "2021-12-05T11:00:10.222670Z",
     "iopub.status.idle": "2021-12-05T11:00:11.669202Z",
     "shell.execute_reply": "2021-12-05T11:00:11.671236Z"
    },
    "papermill": {
     "duration": 1.482189,
     "end_time": "2021-12-05T11:00:11.671704",
     "exception": false,
     "start_time": "2021-12-05T11:00:10.189515",
     "status": "completed"
    },
    "tags": []
   },
   "outputs": [],
   "source": [
    "df = pd.read_sql(\"select * from EBAY_TOP_BERLIN where record_time in (select distinct record_time from EBAY_TOP_BERLIN order by record_time desc limit 2)\", sqlite3.connect(\"UsedObjects.db\"))"
   ]
  },
  {
   "cell_type": "code",
   "execution_count": 5,
   "id": "popular-active",
   "metadata": {
    "execution": {
     "iopub.execute_input": "2021-12-05T11:00:11.746712Z",
     "iopub.status.busy": "2021-12-05T11:00:11.731916Z",
     "iopub.status.idle": "2021-12-05T11:00:11.768465Z",
     "shell.execute_reply": "2021-12-05T11:00:11.769984Z"
    },
    "papermill": {
     "duration": 0.078171,
     "end_time": "2021-12-05T11:00:11.770487",
     "exception": false,
     "start_time": "2021-12-05T11:00:11.692316",
     "status": "completed"
    },
    "tags": []
   },
   "outputs": [],
   "source": [
    "df_pivot = df.pivot_table(index=\"PRODUCT\", columns = \"RECORD_TIME\", values = \"LISTING_COUNT\")"
   ]
  },
  {
   "cell_type": "code",
   "execution_count": 6,
   "id": "union-huntington",
   "metadata": {
    "execution": {
     "iopub.execute_input": "2021-12-05T11:00:11.834278Z",
     "iopub.status.busy": "2021-12-05T11:00:11.831369Z",
     "iopub.status.idle": "2021-12-05T11:00:11.844222Z",
     "shell.execute_reply": "2021-12-05T11:00:11.845995Z"
    },
    "papermill": {
     "duration": 0.05508,
     "end_time": "2021-12-05T11:00:11.846606",
     "exception": false,
     "start_time": "2021-12-05T11:00:11.791526",
     "status": "completed"
    },
    "tags": []
   },
   "outputs": [],
   "source": [
    "df_pivot.columns = [\"stamp_1\", \"stamp_2\"]\n",
    "df_pivot_diff = df_pivot.diff(axis=1)"
   ]
  },
  {
   "cell_type": "code",
   "execution_count": 7,
   "id": "fifth-motion",
   "metadata": {
    "execution": {
     "iopub.execute_input": "2021-12-05T11:00:11.907268Z",
     "iopub.status.busy": "2021-12-05T11:00:11.904802Z",
     "iopub.status.idle": "2021-12-05T11:00:13.861558Z",
     "shell.execute_reply": "2021-12-05T11:00:13.863081Z"
    },
    "papermill": {
     "duration": 1.994321,
     "end_time": "2021-12-05T11:00:13.863639",
     "exception": false,
     "start_time": "2021-12-05T11:00:11.869318",
     "status": "completed"
    },
    "tags": []
   },
   "outputs": [
    {
     "data": {
      "text/plain": [
       "<AxesSubplot:ylabel='PRODUCT'>"
      ]
     },
     "execution_count": 7,
     "metadata": {},
     "output_type": "execute_result"
    },
    {
     "data": {
      "image/png": "[encoded data removed]",
      "text/plain": [
       "<Figure size 432x288 with 1 Axes>"
      ]
     },
     "metadata": {
      "needs_background": "light"
     },
     "output_type": "display_data"
    }
   ],
   "source": [
    "df_pivot_diff.sort_values(\"stamp_2\", ascending = False)[\"stamp_2\"].head(10).plot.barh()"
   ]
  },
  {
   "cell_type": "code",
   "execution_count": null,
   "id": "extra-executive",
   "metadata": {
    "papermill": {
     "duration": 0.035121,
     "end_time": "2021-12-05T11:00:13.930604",
     "exception": false,
     "start_time": "2021-12-05T11:00:13.895483",
     "status": "completed"
    },
    "tags": []
   },
   "outputs": [],
   "source": []
  }
 ],
 "metadata": {
  "kernelspec": {
   "display_name": "Python 3",
   "language": "python",
   "name": "python3"
  },
  "language_info": {
   "codemirror_mode": {
    "name": "ipython",
    "version": 3
   },
   "file_extension": ".py",
   "mimetype": "text/x-python",
   "name": "python",
   "nbconvert_exporter": "python",
   "pygments_lexer": "ipython3",
   "version": "3.9.5"
  },
  "papermill": {
   "default_parameters": {},
   "duration": 9.943093,
   "end_time": "2021-12-05T11:00:15.222660",
   "environment_variables": {},
   "exception": null,
   "input_path": "eBay_Overview.ipynb",
   "output_path": "eBay_Overview.ipynb",
   "parameters": {},
   "start_time": "2021-12-05T11:00:05.279567",
   "version": "2.3.3"
  }
 },
 "nbformat": 4,
 "nbformat_minor": 5
}