{
 "cells": [
  {
   "cell_type": "code",
   "execution_count": 1,
   "id": "reverse-picking",
   "metadata": {
    "execution": {
     "iopub.execute_input": "2021-09-08T10:00:07.364757Z",
     "iopub.status.busy": "2021-09-08T10:00:07.362750Z",
     "iopub.status.idle": "2021-09-08T10:00:08.172148Z",
     "shell.execute_reply": "2021-09-08T10:00:08.170387Z"
    },
    "papermill": {
     "duration": 0.860174,
     "end_time": "2021-09-08T10:00:08.172573",
     "exception": false,
     "start_time": "2021-09-08T10:00:07.312399",
     "status": "completed"
    },
    "tags": []
   },
   "outputs": [],
   "source": [
    "import pandas as pd\n",
    "import sqlite3"
   ]
  },
  {
   "cell_type": "code",
   "execution_count": 2,
   "id": "innovative-syndrome",
   "metadata": {
    "execution": {
     "iopub.execute_input": "2021-09-08T10:00:08.222196Z",
     "iopub.status.busy": "2021-09-08T10:00:08.220328Z",
     "iopub.status.idle": "2021-09-08T10:00:08.457507Z",
     "shell.execute_reply": "2021-09-08T10:00:08.458710Z"
    },
    "papermill": {
     "duration": 0.266711,
     "end_time": "2021-09-08T10:00:08.459191",
     "exception": false,
     "start_time": "2021-09-08T10:00:08.192480",
     "status": "completed"
    },
    "tags": []
   },
   "outputs": [],
   "source": [
    "timestamps = pd.read_sql(\"select distinct record_time from EBAY_TOP_BERLIN order by record_time desc limit 2\", sqlite3.connect(\"UsedObjects.db\"))"
   ]
  },
  {
   "cell_type": "code",
   "execution_count": 3,
   "id": "periodic-identification",
   "metadata": {
    "execution": {
     "iopub.execute_input": "2021-09-08T10:00:08.522319Z",
     "iopub.status.busy": "2021-09-08T10:00:08.520294Z",
     "iopub.status.idle": "2021-09-08T10:00:08.540145Z",
     "shell.execute_reply": "2021-09-08T10:00:08.541418Z"
    },
    "papermill": {
     "duration": 0.063309,
     "end_time": "2021-09-08T10:00:08.541812",
     "exception": false,
     "start_time": "2021-09-08T10:00:08.478503",
     "status": "completed"
    },
    "tags": []
   },
   "outputs": [
    {
     "data": {
      "text/html": [
       "<div>\n",
       "<style scoped>\n",
       "    .dataframe tbody tr th:only-of-type {\n",
       "        vertical-align: middle;\n",
       "    }\n",
       "\n",
       "    .dataframe tbody tr th {\n",
       "        vertical-align: top;\n",
       "    }\n",
       "\n",
       "    .dataframe thead th {\n",
       "        text-align: right;\n",
       "    }\n",
       "</style>\n",
       "<table border=\"1\" class=\"dataframe\">\n",
       "  <thead>\n",
       "    <tr style=\"text-align: right;\">\n",
       "      <th></th>\n",
       "      <th>RECORD_TIME</th>\n",
       "    </tr>\n",
       "  </thead>\n",
       "  <tbody>\n",
       "    <tr>\n",
       "      <th>0</th>\n",
       "      <td>2021-09-08 12:00</td>\n",
       "    </tr>\n",
       "    <tr>\n",
       "      <th>1</th>\n",
       "      <td>2021-09-08 11:30</td>\n",
       "    </tr>\n",
       "  </tbody>\n",
       "</table>\n",
       "</div>"
      ],
      "text/plain": [
       "        RECORD_TIME\n",
       "0  2021-09-08 12:00\n",
       "1  2021-09-08 11:30"
      ]
     },
     "execution_count": 3,
     "metadata": {},
     "output_type": "execute_result"
    }
   ],
   "source": [
    "timestamps"
   ]
  },
  {
   "cell_type": "code",
   "execution_count": 4,
   "id": "alternate-victory",
   "metadata": {
    "execution": {
     "iopub.execute_input": "2021-09-08T10:00:08.594082Z",
     "iopub.status.busy": "2021-09-08T10:00:08.591781Z",
     "iopub.status.idle": "2021-09-08T10:00:08.952783Z",
     "shell.execute_reply": "2021-09-08T10:00:08.954079Z"
    },
    "papermill": {
     "duration": 0.39114,
     "end_time": "2021-09-08T10:00:08.954492",
     "exception": false,
     "start_time": "2021-09-08T10:00:08.563352",
     "status": "completed"
    },
    "tags": []
   },
   "outputs": [],
   "source": [
    "df = pd.read_sql(\"select * from EBAY_TOP_BERLIN where record_time in (select distinct record_time from EBAY_TOP_BERLIN order by record_time desc limit 2)\", sqlite3.connect(\"UsedObjects.db\"))"
   ]
  },
  {
   "cell_type": "code",
   "execution_count": 5,
   "id": "popular-active",
   "metadata": {
    "execution": {
     "iopub.execute_input": "2021-09-08T10:00:09.033700Z",
     "iopub.status.busy": "2021-09-08T10:00:09.021486Z",
     "iopub.status.idle": "2021-09-08T10:00:09.049420Z",
     "shell.execute_reply": "2021-09-08T10:00:09.050637Z"
    },
    "papermill": {
     "duration": 0.071351,
     "end_time": "2021-09-08T10:00:09.051088",
     "exception": false,
     "start_time": "2021-09-08T10:00:08.979737",
     "status": "completed"
    },
    "tags": []
   },
   "outputs": [],
   "source": [
    "df_pivot = df.pivot_table(index=\"PRODUCT\", columns = \"RECORD_TIME\", values = \"LISTING_COUNT\")"
   ]
  },
  {
   "cell_type": "code",
   "execution_count": 6,
   "id": "union-huntington",
   "metadata": {
    "execution": {
     "iopub.execute_input": "2021-09-08T10:00:09.106736Z",
     "iopub.status.busy": "2021-09-08T10:00:09.104684Z",
     "iopub.status.idle": "2021-09-08T10:00:09.109959Z",
     "shell.execute_reply": "2021-09-08T10:00:09.111555Z"
    },
    "papermill": {
     "duration": 0.040451,
     "end_time": "2021-09-08T10:00:09.112017",
     "exception": false,
     "start_time": "2021-09-08T10:00:09.071566",
     "status": "completed"
    },
    "tags": []
   },
   "outputs": [],
   "source": [
    "df_pivot.columns = [\"stamp_1\", \"stamp_2\"]\n",
    "df_pivot_diff = df_pivot.diff(axis=1)"
   ]
  },
  {
   "cell_type": "code",
   "execution_count": 7,
   "id": "fifth-motion",
   "metadata": {
    "execution": {
     "iopub.execute_input": "2021-09-08T10:00:09.168631Z",
     "iopub.status.busy": "2021-09-08T10:00:09.166042Z",
     "iopub.status.idle": "2021-09-08T10:00:10.644913Z",
     "shell.execute_reply": "2021-09-08T10:00:10.646296Z"
    },
    "papermill": {
     "duration": 1.512423,
     "end_time": "2021-09-08T10:00:10.646736",
     "exception": false,
     "start_time": "2021-09-08T10:00:09.134313",
     "status": "completed"
    },
    "tags": []
   },
   "outputs": [
    {
     "data": {
      "text/plain": [
       "<AxesSubplot:ylabel='PRODUCT'>"
      ]
     },
     "execution_count": 7,
     "metadata": {},
     "output_type": "execute_result"
    },
    {
     "data": {
      "image/png": "[encoded data removed]",
      "text/plain": [
       "<Figure size 432x288 with 1 Axes>"
      ]
     },
     "metadata": {
      "needs_background": "light"
     },
     "output_type": "display_data"
    }
   ],
   "source": [
    "df_pivot_diff.sort_values(\"stamp_2\", ascending = False)[\"stamp_2\"].head(10).plot.barh()"
   ]
  },
  {
   "cell_type": "code",
   "execution_count": null,
   "id": "extra-executive",
   "metadata": {
    "papermill": {
     "duration": 0.021847,
     "end_time": "2021-09-08T10:00:10.693197",
     "exception": false,
     "start_time": "2021-09-08T10:00:10.671350",
     "status": "completed"
    },
    "tags": []
   },
   "outputs": [],
   "source": []
  }
 ],
 "metadata": {
  "kernelspec": {
   "display_name": "Python 3",
   "language": "python",
   "name": "python3"
  },
  "language_info": {
   "codemirror_mode": {
    "name": "ipython",
    "version": 3
   },
   "file_extension": ".py",
   "mimetype": "text/x-python",
   "name": "python",
   "nbconvert_exporter": "python",
   "pygments_lexer": "ipython3",
   "version": "3.9.5"
  },
  "papermill": {
   "default_parameters": {},
   "duration": 6.436516,
   "end_time": "2021-09-08T10:00:11.334687",
   "environment_variables": {},
   "exception": null,
   "input_path": "eBay_Overview.ipynb",
   "output_path": "eBay_Overview.ipynb",
   "parameters": {},
   "start_time": "2021-09-08T10:00:04.898171",
   "version": "2.3.3"
  }
 },
 "nbformat": 4,
 "nbformat_minor": 5
}