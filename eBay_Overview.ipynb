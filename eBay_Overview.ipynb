{
 "cells": [
  {
   "cell_type": "code",
   "execution_count": 1,
   "id": "reverse-picking",
   "metadata": {
    "execution": {
     "iopub.execute_input": "2021-08-17T01:00:07.155983Z",
     "iopub.status.busy": "2021-08-17T01:00:07.153980Z",
     "iopub.status.idle": "2021-08-17T01:00:07.962388Z",
     "shell.execute_reply": "2021-08-17T01:00:07.963689Z"
    },
    "papermill": {
     "duration": 0.860567,
     "end_time": "2021-08-17T01:00:07.964307",
     "exception": false,
     "start_time": "2021-08-17T01:00:07.103740",
     "status": "completed"
    },
    "tags": []
   },
   "outputs": [],
   "source": [
    "import pandas as pd\n",
    "import sqlite3"
   ]
  },
  {
   "cell_type": "code",
   "execution_count": 2,
   "id": "innovative-syndrome",
   "metadata": {
    "execution": {
     "iopub.execute_input": "2021-08-17T01:00:08.016174Z",
     "iopub.status.busy": "2021-08-17T01:00:08.013865Z",
     "iopub.status.idle": "2021-08-17T01:00:08.080977Z",
     "shell.execute_reply": "2021-08-17T01:00:08.082172Z"
    },
    "papermill": {
     "duration": 0.096751,
     "end_time": "2021-08-17T01:00:08.082601",
     "exception": false,
     "start_time": "2021-08-17T01:00:07.985850",
     "status": "completed"
    },
    "tags": []
   },
   "outputs": [],
   "source": [
    "timestamps = pd.read_sql(\"select distinct record_time from EBAY_TOP_BERLIN order by record_time desc limit 2\", sqlite3.connect(\"UsedObjects.db\"))"
   ]
  },
  {
   "cell_type": "code",
   "execution_count": 3,
   "id": "periodic-identification",
   "metadata": {
    "execution": {
     "iopub.execute_input": "2021-08-17T01:00:08.149360Z",
     "iopub.status.busy": "2021-08-17T01:00:08.147322Z",
     "iopub.status.idle": "2021-08-17T01:00:08.166878Z",
     "shell.execute_reply": "2021-08-17T01:00:08.168108Z"
    },
    "papermill": {
     "duration": 0.064056,
     "end_time": "2021-08-17T01:00:08.168503",
     "exception": false,
     "start_time": "2021-08-17T01:00:08.104447",
     "status": "completed"
    },
    "tags": []
   },
   "outputs": [
    {
     "data": {
      "text/html": [
       "<div>\n",
       "<style scoped>\n",
       "    .dataframe tbody tr th:only-of-type {\n",
       "        vertical-align: middle;\n",
       "    }\n",
       "\n",
       "    .dataframe tbody tr th {\n",
       "        vertical-align: top;\n",
       "    }\n",
       "\n",
       "    .dataframe thead th {\n",
       "        text-align: right;\n",
       "    }\n",
       "</style>\n",
       "<table border=\"1\" class=\"dataframe\">\n",
       "  <thead>\n",
       "    <tr style=\"text-align: right;\">\n",
       "      <th></th>\n",
       "      <th>RECORD_TIME</th>\n",
       "    </tr>\n",
       "  </thead>\n",
       "  <tbody>\n",
       "    <tr>\n",
       "      <th>0</th>\n",
       "      <td>2021-08-17 03:00</td>\n",
       "    </tr>\n",
       "    <tr>\n",
       "      <th>1</th>\n",
       "      <td>2021-08-17 02:30</td>\n",
       "    </tr>\n",
       "  </tbody>\n",
       "</table>\n",
       "</div>"
      ],
      "text/plain": [
       "        RECORD_TIME\n",
       "0  2021-08-17 03:00\n",
       "1  2021-08-17 02:30"
      ]
     },
     "execution_count": 3,
     "metadata": {},
     "output_type": "execute_result"
    }
   ],
   "source": [
    "timestamps"
   ]
  },
  {
   "cell_type": "code",
   "execution_count": 4,
   "id": "alternate-victory",
   "metadata": {
    "execution": {
     "iopub.execute_input": "2021-08-17T01:00:08.220343Z",
     "iopub.status.busy": "2021-08-17T01:00:08.218192Z",
     "iopub.status.idle": "2021-08-17T01:00:08.313770Z",
     "shell.execute_reply": "2021-08-17T01:00:08.315092Z"
    },
    "papermill": {
     "duration": 0.125951,
     "end_time": "2021-08-17T01:00:08.315494",
     "exception": false,
     "start_time": "2021-08-17T01:00:08.189543",
     "status": "completed"
    },
    "tags": []
   },
   "outputs": [],
   "source": [
    "df = pd.read_sql(\"select * from EBAY_TOP_BERLIN where record_time in (select distinct record_time from EBAY_TOP_BERLIN order by record_time desc limit 2)\", sqlite3.connect(\"UsedObjects.db\"))"
   ]
  },
  {
   "cell_type": "code",
   "execution_count": 5,
   "id": "popular-active",
   "metadata": {
    "execution": {
     "iopub.execute_input": "2021-08-17T01:00:08.386012Z",
     "iopub.status.busy": "2021-08-17T01:00:08.374035Z",
     "iopub.status.idle": "2021-08-17T01:00:08.401780Z",
     "shell.execute_reply": "2021-08-17T01:00:08.403272Z"
    },
    "papermill": {
     "duration": 0.067167,
     "end_time": "2021-08-17T01:00:08.403814",
     "exception": false,
     "start_time": "2021-08-17T01:00:08.336647",
     "status": "completed"
    },
    "tags": []
   },
   "outputs": [],
   "source": [
    "df_pivot = df.pivot_table(index=\"PRODUCT\", columns = \"RECORD_TIME\", values = \"LISTING_COUNT\")"
   ]
  },
  {
   "cell_type": "code",
   "execution_count": 6,
   "id": "union-huntington",
   "metadata": {
    "execution": {
     "iopub.execute_input": "2021-08-17T01:00:08.461626Z",
     "iopub.status.busy": "2021-08-17T01:00:08.459316Z",
     "iopub.status.idle": "2021-08-17T01:00:08.465330Z",
     "shell.execute_reply": "2021-08-17T01:00:08.466789Z"
    },
    "papermill": {
     "duration": 0.042206,
     "end_time": "2021-08-17T01:00:08.467236",
     "exception": false,
     "start_time": "2021-08-17T01:00:08.425030",
     "status": "completed"
    },
    "tags": []
   },
   "outputs": [],
   "source": [
    "df_pivot.columns = [\"stamp_1\", \"stamp_2\"]\n",
    "df_pivot_diff = df_pivot.diff(axis=1)"
   ]
  },
  {
   "cell_type": "code",
   "execution_count": 7,
   "id": "fifth-motion",
   "metadata": {
    "execution": {
     "iopub.execute_input": "2021-08-17T01:00:08.522515Z",
     "iopub.status.busy": "2021-08-17T01:00:08.520092Z",
     "iopub.status.idle": "2021-08-17T01:00:10.013450Z",
     "shell.execute_reply": "2021-08-17T01:00:10.014741Z"
    },
    "papermill": {
     "duration": 1.52644,
     "end_time": "2021-08-17T01:00:10.015183",
     "exception": false,
     "start_time": "2021-08-17T01:00:08.488743",
     "status": "completed"
    },
    "tags": []
   },
   "outputs": [
    {
     "data": {
      "text/plain": [
       "<AxesSubplot:ylabel='PRODUCT'>"
      ]
     },
     "execution_count": 7,
     "metadata": {},
     "output_type": "execute_result"
    },
    {
     "data": {
      "image/png": "[encoded data removed]",
      "text/plain": [
       "<Figure size 432x288 with 1 Axes>"
      ]
     },
     "metadata": {
      "needs_background": "light"
     },
     "output_type": "display_data"
    }
   ],
   "source": [
    "df_pivot_diff.sort_values(\"stamp_2\", ascending = False)[\"stamp_2\"].head(10).plot.barh()"
   ]
  },
  {
   "cell_type": "code",
   "execution_count": null,
   "id": "extra-executive",
   "metadata": {
    "papermill": {
     "duration": 0.022273,
     "end_time": "2021-08-17T01:00:10.063799",
     "exception": false,
     "start_time": "2021-08-17T01:00:10.041526",
     "status": "completed"
    },
    "tags": []
   },
   "outputs": [],
   "source": []
  }
 ],
 "metadata": {
  "kernelspec": {
   "display_name": "Python 3",
   "language": "python",
   "name": "python3"
  },
  "language_info": {
   "codemirror_mode": {
    "name": "ipython",
    "version": 3
   },
   "file_extension": ".py",
   "mimetype": "text/x-python",
   "name": "python",
   "nbconvert_exporter": "python",
   "pygments_lexer": "ipython3",
   "version": "3.9.5"
  },
  "papermill": {
   "default_parameters": {},
   "duration": 6.825901,
   "end_time": "2021-08-17T01:00:11.512579",
   "environment_variables": {},
   "exception": null,
   "input_path": "eBay_Overview.ipynb",
   "output_path": "eBay_Overview.ipynb",
   "parameters": {},
   "start_time": "2021-08-17T01:00:04.686678",
   "version": "2.3.3"
  }
 },
 "nbformat": 4,
 "nbformat_minor": 5
}