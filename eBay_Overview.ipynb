{
 "cells": [
  {
   "cell_type": "code",
   "execution_count": 1,
   "id": "reverse-picking",
   "metadata": {
    "execution": {
     "iopub.execute_input": "2021-11-10T14:30:07.730575Z",
     "iopub.status.busy": "2021-11-10T14:30:07.728440Z",
     "iopub.status.idle": "2021-11-10T14:30:08.689943Z",
     "shell.execute_reply": "2021-11-10T14:30:08.691572Z"
    },
    "papermill": {
     "duration": 1.010391,
     "end_time": "2021-11-10T14:30:08.692316",
     "exception": false,
     "start_time": "2021-11-10T14:30:07.681925",
     "status": "completed"
    },
    "tags": []
   },
   "outputs": [],
   "source": [
    "import pandas as pd\n",
    "import sqlite3"
   ]
  },
  {
   "cell_type": "code",
   "execution_count": 2,
   "id": "innovative-syndrome",
   "metadata": {
    "execution": {
     "iopub.execute_input": "2021-11-10T14:30:08.753944Z",
     "iopub.status.busy": "2021-11-10T14:30:08.751557Z",
     "iopub.status.idle": "2021-11-10T14:30:09.533900Z",
     "shell.execute_reply": "2021-11-10T14:30:09.535240Z"
    },
    "papermill": {
     "duration": 0.816867,
     "end_time": "2021-11-10T14:30:09.535707",
     "exception": false,
     "start_time": "2021-11-10T14:30:08.718840",
     "status": "completed"
    },
    "tags": []
   },
   "outputs": [],
   "source": [
    "timestamps = pd.read_sql(\"select distinct record_time from EBAY_TOP_BERLIN order by record_time desc limit 2\", sqlite3.connect(\"UsedObjects.db\"))"
   ]
  },
  {
   "cell_type": "code",
   "execution_count": 3,
   "id": "periodic-identification",
   "metadata": {
    "execution": {
     "iopub.execute_input": "2021-11-10T14:30:09.605674Z",
     "iopub.status.busy": "2021-11-10T14:30:09.603083Z",
     "iopub.status.idle": "2021-11-10T14:30:09.626778Z",
     "shell.execute_reply": "2021-11-10T14:30:09.628270Z"
    },
    "papermill": {
     "duration": 0.073534,
     "end_time": "2021-11-10T14:30:09.628877",
     "exception": false,
     "start_time": "2021-11-10T14:30:09.555343",
     "status": "completed"
    },
    "tags": []
   },
   "outputs": [
    {
     "data": {
      "text/html": [
       "<div>\n",
       "<style scoped>\n",
       "    .dataframe tbody tr th:only-of-type {\n",
       "        vertical-align: middle;\n",
       "    }\n",
       "\n",
       "    .dataframe tbody tr th {\n",
       "        vertical-align: top;\n",
       "    }\n",
       "\n",
       "    .dataframe thead th {\n",
       "        text-align: right;\n",
       "    }\n",
       "</style>\n",
       "<table border=\"1\" class=\"dataframe\">\n",
       "  <thead>\n",
       "    <tr style=\"text-align: right;\">\n",
       "      <th></th>\n",
       "      <th>RECORD_TIME</th>\n",
       "    </tr>\n",
       "  </thead>\n",
       "  <tbody>\n",
       "    <tr>\n",
       "      <th>0</th>\n",
       "      <td>2021-11-10 15:30</td>\n",
       "    </tr>\n",
       "    <tr>\n",
       "      <th>1</th>\n",
       "      <td>2021-11-10 15:00</td>\n",
       "    </tr>\n",
       "  </tbody>\n",
       "</table>\n",
       "</div>"
      ],
      "text/plain": [
       "        RECORD_TIME\n",
       "0  2021-11-10 15:30\n",
       "1  2021-11-10 15:00"
      ]
     },
     "execution_count": 3,
     "metadata": {},
     "output_type": "execute_result"
    }
   ],
   "source": [
    "timestamps"
   ]
  },
  {
   "cell_type": "code",
   "execution_count": 4,
   "id": "alternate-victory",
   "metadata": {
    "execution": {
     "iopub.execute_input": "2021-11-10T14:30:09.687268Z",
     "iopub.status.busy": "2021-11-10T14:30:09.684954Z",
     "iopub.status.idle": "2021-11-10T14:30:10.820400Z",
     "shell.execute_reply": "2021-11-10T14:30:10.822093Z"
    },
    "papermill": {
     "duration": 1.171991,
     "end_time": "2021-11-10T14:30:10.822613",
     "exception": false,
     "start_time": "2021-11-10T14:30:09.650622",
     "status": "completed"
    },
    "tags": []
   },
   "outputs": [],
   "source": [
    "df = pd.read_sql(\"select * from EBAY_TOP_BERLIN where record_time in (select distinct record_time from EBAY_TOP_BERLIN order by record_time desc limit 2)\", sqlite3.connect(\"UsedObjects.db\"))"
   ]
  },
  {
   "cell_type": "code",
   "execution_count": 5,
   "id": "popular-active",
   "metadata": {
    "execution": {
     "iopub.execute_input": "2021-11-10T14:30:10.901911Z",
     "iopub.status.busy": "2021-11-10T14:30:10.894064Z",
     "iopub.status.idle": "2021-11-10T14:30:10.919255Z",
     "shell.execute_reply": "2021-11-10T14:30:10.920566Z"
    },
    "papermill": {
     "duration": 0.075883,
     "end_time": "2021-11-10T14:30:10.921098",
     "exception": false,
     "start_time": "2021-11-10T14:30:10.845215",
     "status": "completed"
    },
    "tags": []
   },
   "outputs": [],
   "source": [
    "df_pivot = df.pivot_table(index=\"PRODUCT\", columns = \"RECORD_TIME\", values = \"LISTING_COUNT\")"
   ]
  },
  {
   "cell_type": "code",
   "execution_count": 6,
   "id": "union-huntington",
   "metadata": {
    "execution": {
     "iopub.execute_input": "2021-11-10T14:30:10.981280Z",
     "iopub.status.busy": "2021-11-10T14:30:10.978818Z",
     "iopub.status.idle": "2021-11-10T14:30:10.984260Z",
     "shell.execute_reply": "2021-11-10T14:30:10.985962Z"
    },
    "papermill": {
     "duration": 0.044884,
     "end_time": "2021-11-10T14:30:10.986459",
     "exception": false,
     "start_time": "2021-11-10T14:30:10.941575",
     "status": "completed"
    },
    "tags": []
   },
   "outputs": [],
   "source": [
    "df_pivot.columns = [\"stamp_1\", \"stamp_2\"]\n",
    "df_pivot_diff = df_pivot.diff(axis=1)"
   ]
  },
  {
   "cell_type": "code",
   "execution_count": 7,
   "id": "fifth-motion",
   "metadata": {
    "execution": {
     "iopub.execute_input": "2021-11-10T14:30:11.069175Z",
     "iopub.status.busy": "2021-11-10T14:30:11.059111Z",
     "iopub.status.idle": "2021-11-10T14:30:12.820559Z",
     "shell.execute_reply": "2021-11-10T14:30:12.823605Z"
    },
    "papermill": {
     "duration": 1.815599,
     "end_time": "2021-11-10T14:30:12.824477",
     "exception": false,
     "start_time": "2021-11-10T14:30:11.008878",
     "status": "completed"
    },
    "tags": []
   },
   "outputs": [
    {
     "data": {
      "text/plain": [
       "<AxesSubplot:ylabel='PRODUCT'>"
      ]
     },
     "execution_count": 7,
     "metadata": {},
     "output_type": "execute_result"
    },
    {
     "data": {
      "image/png": "[encoded data removed]",
      "text/plain": [
       "<Figure size 432x288 with 1 Axes>"
      ]
     },
     "metadata": {
      "needs_background": "light"
     },
     "output_type": "display_data"
    }
   ],
   "source": [
    "df_pivot_diff.sort_values(\"stamp_2\", ascending = False)[\"stamp_2\"].head(10).plot.barh()"
   ]
  },
  {
   "cell_type": "code",
   "execution_count": null,
   "id": "extra-executive",
   "metadata": {
    "papermill": {
     "duration": 0.036347,
     "end_time": "2021-11-10T14:30:12.898879",
     "exception": false,
     "start_time": "2021-11-10T14:30:12.862532",
     "status": "completed"
    },
    "tags": []
   },
   "outputs": [],
   "source": []
  }
 ],
 "metadata": {
  "kernelspec": {
   "display_name": "Python 3",
   "language": "python",
   "name": "python3"
  },
  "language_info": {
   "codemirror_mode": {
    "name": "ipython",
    "version": 3
   },
   "file_extension": ".py",
   "mimetype": "text/x-python",
   "name": "python",
   "nbconvert_exporter": "python",
   "pygments_lexer": "ipython3",
   "version": "3.9.5"
  },
  "papermill": {
   "default_parameters": {},
   "duration": 8.829607,
   "end_time": "2021-11-10T14:30:13.777206",
   "environment_variables": {},
   "exception": null,
   "input_path": "eBay_Overview.ipynb",
   "output_path": "eBay_Overview.ipynb",
   "parameters": {},
   "start_time": "2021-11-10T14:30:04.947599",
   "version": "2.3.3"
  }
 },
 "nbformat": 4,
 "nbformat_minor": 5
}