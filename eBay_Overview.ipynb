{
 "cells": [
  {
   "cell_type": "code",
   "execution_count": 1,
   "id": "reverse-picking",
   "metadata": {
    "execution": {
     "iopub.execute_input": "2021-08-24T10:00:07.438514Z",
     "iopub.status.busy": "2021-08-24T10:00:07.436512Z",
     "iopub.status.idle": "2021-08-24T10:00:08.243626Z",
     "shell.execute_reply": "2021-08-24T10:00:08.244884Z"
    },
    "papermill": {
     "duration": 0.858448,
     "end_time": "2021-08-24T10:00:08.245505",
     "exception": false,
     "start_time": "2021-08-24T10:00:07.387057",
     "status": "completed"
    },
    "tags": []
   },
   "outputs": [],
   "source": [
    "import pandas as pd\n",
    "import sqlite3"
   ]
  },
  {
   "cell_type": "code",
   "execution_count": 2,
   "id": "innovative-syndrome",
   "metadata": {
    "execution": {
     "iopub.execute_input": "2021-08-24T10:00:08.296725Z",
     "iopub.status.busy": "2021-08-24T10:00:08.294882Z",
     "iopub.status.idle": "2021-08-24T10:00:08.412604Z",
     "shell.execute_reply": "2021-08-24T10:00:08.413802Z"
    },
    "papermill": {
     "duration": 0.147307,
     "end_time": "2021-08-24T10:00:08.414261",
     "exception": false,
     "start_time": "2021-08-24T10:00:08.266954",
     "status": "completed"
    },
    "tags": []
   },
   "outputs": [],
   "source": [
    "timestamps = pd.read_sql(\"select distinct record_time from EBAY_TOP_BERLIN order by record_time desc limit 2\", sqlite3.connect(\"UsedObjects.db\"))"
   ]
  },
  {
   "cell_type": "code",
   "execution_count": 3,
   "id": "periodic-identification",
   "metadata": {
    "execution": {
     "iopub.execute_input": "2021-08-24T10:00:08.477346Z",
     "iopub.status.busy": "2021-08-24T10:00:08.475338Z",
     "iopub.status.idle": "2021-08-24T10:00:08.495302Z",
     "shell.execute_reply": "2021-08-24T10:00:08.496503Z"
    },
    "papermill": {
     "duration": 0.063243,
     "end_time": "2021-08-24T10:00:08.496936",
     "exception": false,
     "start_time": "2021-08-24T10:00:08.433693",
     "status": "completed"
    },
    "tags": []
   },
   "outputs": [
    {
     "data": {
      "text/html": [
       "<div>\n",
       "<style scoped>\n",
       "    .dataframe tbody tr th:only-of-type {\n",
       "        vertical-align: middle;\n",
       "    }\n",
       "\n",
       "    .dataframe tbody tr th {\n",
       "        vertical-align: top;\n",
       "    }\n",
       "\n",
       "    .dataframe thead th {\n",
       "        text-align: right;\n",
       "    }\n",
       "</style>\n",
       "<table border=\"1\" class=\"dataframe\">\n",
       "  <thead>\n",
       "    <tr style=\"text-align: right;\">\n",
       "      <th></th>\n",
       "      <th>RECORD_TIME</th>\n",
       "    </tr>\n",
       "  </thead>\n",
       "  <tbody>\n",
       "    <tr>\n",
       "      <th>0</th>\n",
       "      <td>2021-08-24 12:00</td>\n",
       "    </tr>\n",
       "    <tr>\n",
       "      <th>1</th>\n",
       "      <td>2021-08-24 11:30</td>\n",
       "    </tr>\n",
       "  </tbody>\n",
       "</table>\n",
       "</div>"
      ],
      "text/plain": [
       "        RECORD_TIME\n",
       "0  2021-08-24 12:00\n",
       "1  2021-08-24 11:30"
      ]
     },
     "execution_count": 3,
     "metadata": {},
     "output_type": "execute_result"
    }
   ],
   "source": [
    "timestamps"
   ]
  },
  {
   "cell_type": "code",
   "execution_count": 4,
   "id": "alternate-victory",
   "metadata": {
    "execution": {
     "iopub.execute_input": "2021-08-24T10:00:08.550720Z",
     "iopub.status.busy": "2021-08-24T10:00:08.548365Z",
     "iopub.status.idle": "2021-08-24T10:00:08.724544Z",
     "shell.execute_reply": "2021-08-24T10:00:08.725741Z"
    },
    "papermill": {
     "duration": 0.206606,
     "end_time": "2021-08-24T10:00:08.726207",
     "exception": false,
     "start_time": "2021-08-24T10:00:08.519601",
     "status": "completed"
    },
    "tags": []
   },
   "outputs": [],
   "source": [
    "df = pd.read_sql(\"select * from EBAY_TOP_BERLIN where record_time in (select distinct record_time from EBAY_TOP_BERLIN order by record_time desc limit 2)\", sqlite3.connect(\"UsedObjects.db\"))"
   ]
  },
  {
   "cell_type": "code",
   "execution_count": 5,
   "id": "popular-active",
   "metadata": {
    "execution": {
     "iopub.execute_input": "2021-08-24T10:00:08.792824Z",
     "iopub.status.busy": "2021-08-24T10:00:08.785185Z",
     "iopub.status.idle": "2021-08-24T10:00:08.813382Z",
     "shell.execute_reply": "2021-08-24T10:00:08.814668Z"
    },
    "papermill": {
     "duration": 0.06859,
     "end_time": "2021-08-24T10:00:08.815073",
     "exception": false,
     "start_time": "2021-08-24T10:00:08.746483",
     "status": "completed"
    },
    "tags": []
   },
   "outputs": [],
   "source": [
    "df_pivot = df.pivot_table(index=\"PRODUCT\", columns = \"RECORD_TIME\", values = \"LISTING_COUNT\")"
   ]
  },
  {
   "cell_type": "code",
   "execution_count": 6,
   "id": "union-huntington",
   "metadata": {
    "execution": {
     "iopub.execute_input": "2021-08-24T10:00:08.878205Z",
     "iopub.status.busy": "2021-08-24T10:00:08.875557Z",
     "iopub.status.idle": "2021-08-24T10:00:08.881590Z",
     "shell.execute_reply": "2021-08-24T10:00:08.883115Z"
    },
    "papermill": {
     "duration": 0.046386,
     "end_time": "2021-08-24T10:00:08.883573",
     "exception": false,
     "start_time": "2021-08-24T10:00:08.837187",
     "status": "completed"
    },
    "tags": []
   },
   "outputs": [],
   "source": [
    "df_pivot.columns = [\"stamp_1\", \"stamp_2\"]\n",
    "df_pivot_diff = df_pivot.diff(axis=1)"
   ]
  },
  {
   "cell_type": "code",
   "execution_count": 7,
   "id": "fifth-motion",
   "metadata": {
    "execution": {
     "iopub.execute_input": "2021-08-24T10:00:08.937770Z",
     "iopub.status.busy": "2021-08-24T10:00:08.935396Z",
     "iopub.status.idle": "2021-08-24T10:00:10.441572Z",
     "shell.execute_reply": "2021-08-24T10:00:10.443069Z"
    },
    "papermill": {
     "duration": 1.539071,
     "end_time": "2021-08-24T10:00:10.443528",
     "exception": false,
     "start_time": "2021-08-24T10:00:08.904457",
     "status": "completed"
    },
    "tags": []
   },
   "outputs": [
    {
     "data": {
      "text/plain": [
       "<AxesSubplot:ylabel='PRODUCT'>"
      ]
     },
     "execution_count": 7,
     "metadata": {},
     "output_type": "execute_result"
    },
    {
     "data": {
      "image/png": "[encoded data removed]",
      "text/plain": [
       "<Figure size 432x288 with 1 Axes>"
      ]
     },
     "metadata": {
      "needs_background": "light"
     },
     "output_type": "display_data"
    }
   ],
   "source": [
    "df_pivot_diff.sort_values(\"stamp_2\", ascending = False)[\"stamp_2\"].head(10).plot.barh()"
   ]
  },
  {
   "cell_type": "code",
   "execution_count": null,
   "id": "extra-executive",
   "metadata": {
    "papermill": {
     "duration": 0.022016,
     "end_time": "2021-08-24T10:00:10.488593",
     "exception": false,
     "start_time": "2021-08-24T10:00:10.466577",
     "status": "completed"
    },
    "tags": []
   },
   "outputs": [],
   "source": []
  }
 ],
 "metadata": {
  "kernelspec": {
   "display_name": "Python 3",
   "language": "python",
   "name": "python3"
  },
  "language_info": {
   "codemirror_mode": {
    "name": "ipython",
    "version": 3
   },
   "file_extension": ".py",
   "mimetype": "text/x-python",
   "name": "python",
   "nbconvert_exporter": "python",
   "pygments_lexer": "ipython3",
   "version": "3.9.5"
  },
  "papermill": {
   "default_parameters": {},
   "duration": 6.822338,
   "end_time": "2021-08-24T10:00:11.803093",
   "environment_variables": {},
   "exception": null,
   "input_path": "eBay_Overview.ipynb",
   "output_path": "eBay_Overview.ipynb",
   "parameters": {},
   "start_time": "2021-08-24T10:00:04.980755",
   "version": "2.3.3"
  }
 },
 "nbformat": 4,
 "nbformat_minor": 5
}