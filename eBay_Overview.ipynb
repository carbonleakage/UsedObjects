{
 "cells": [
  {
   "cell_type": "code",
   "execution_count": 1,
   "id": "reverse-picking",
   "metadata": {
    "execution": {
     "iopub.execute_input": "2021-11-15T18:30:07.608469Z",
     "iopub.status.busy": "2021-11-15T18:30:07.606033Z",
     "iopub.status.idle": "2021-11-15T18:30:08.579204Z",
     "shell.execute_reply": "2021-11-15T18:30:08.580929Z"
    },
    "papermill": {
     "duration": 1.02228,
     "end_time": "2021-11-15T18:30:08.581671",
     "exception": false,
     "start_time": "2021-11-15T18:30:07.559391",
     "status": "completed"
    },
    "tags": []
   },
   "outputs": [],
   "source": [
    "import pandas as pd\n",
    "import sqlite3"
   ]
  },
  {
   "cell_type": "code",
   "execution_count": 2,
   "id": "innovative-syndrome",
   "metadata": {
    "execution": {
     "iopub.execute_input": "2021-11-15T18:30:08.645267Z",
     "iopub.status.busy": "2021-11-15T18:30:08.642867Z",
     "iopub.status.idle": "2021-11-15T18:30:09.468104Z",
     "shell.execute_reply": "2021-11-15T18:30:09.469477Z"
    },
    "papermill": {
     "duration": 0.858884,
     "end_time": "2021-11-15T18:30:09.469908",
     "exception": false,
     "start_time": "2021-11-15T18:30:08.611024",
     "status": "completed"
    },
    "tags": []
   },
   "outputs": [],
   "source": [
    "timestamps = pd.read_sql(\"select distinct record_time from EBAY_TOP_BERLIN order by record_time desc limit 2\", sqlite3.connect(\"UsedObjects.db\"))"
   ]
  },
  {
   "cell_type": "code",
   "execution_count": 3,
   "id": "periodic-identification",
   "metadata": {
    "execution": {
     "iopub.execute_input": "2021-11-15T18:30:09.535655Z",
     "iopub.status.busy": "2021-11-15T18:30:09.533614Z",
     "iopub.status.idle": "2021-11-15T18:30:09.553818Z",
     "shell.execute_reply": "2021-11-15T18:30:09.555130Z"
    },
    "papermill": {
     "duration": 0.066297,
     "end_time": "2021-11-15T18:30:09.555550",
     "exception": false,
     "start_time": "2021-11-15T18:30:09.489253",
     "status": "completed"
    },
    "tags": []
   },
   "outputs": [
    {
     "data": {
      "text/html": [
       "<div>\n",
       "<style scoped>\n",
       "    .dataframe tbody tr th:only-of-type {\n",
       "        vertical-align: middle;\n",
       "    }\n",
       "\n",
       "    .dataframe tbody tr th {\n",
       "        vertical-align: top;\n",
       "    }\n",
       "\n",
       "    .dataframe thead th {\n",
       "        text-align: right;\n",
       "    }\n",
       "</style>\n",
       "<table border=\"1\" class=\"dataframe\">\n",
       "  <thead>\n",
       "    <tr style=\"text-align: right;\">\n",
       "      <th></th>\n",
       "      <th>RECORD_TIME</th>\n",
       "    </tr>\n",
       "  </thead>\n",
       "  <tbody>\n",
       "    <tr>\n",
       "      <th>0</th>\n",
       "      <td>2021-11-15 19:30</td>\n",
       "    </tr>\n",
       "    <tr>\n",
       "      <th>1</th>\n",
       "      <td>2021-11-15 19:00</td>\n",
       "    </tr>\n",
       "  </tbody>\n",
       "</table>\n",
       "</div>"
      ],
      "text/plain": [
       "        RECORD_TIME\n",
       "0  2021-11-15 19:30\n",
       "1  2021-11-15 19:00"
      ]
     },
     "execution_count": 3,
     "metadata": {},
     "output_type": "execute_result"
    }
   ],
   "source": [
    "timestamps"
   ]
  },
  {
   "cell_type": "code",
   "execution_count": 4,
   "id": "alternate-victory",
   "metadata": {
    "execution": {
     "iopub.execute_input": "2021-11-15T18:30:09.607239Z",
     "iopub.status.busy": "2021-11-15T18:30:09.605051Z",
     "iopub.status.idle": "2021-11-15T18:30:10.813254Z",
     "shell.execute_reply": "2021-11-15T18:30:10.814789Z"
    },
    "papermill": {
     "duration": 1.238683,
     "end_time": "2021-11-15T18:30:10.815243",
     "exception": false,
     "start_time": "2021-11-15T18:30:09.576560",
     "status": "completed"
    },
    "tags": []
   },
   "outputs": [],
   "source": [
    "df = pd.read_sql(\"select * from EBAY_TOP_BERLIN where record_time in (select distinct record_time from EBAY_TOP_BERLIN order by record_time desc limit 2)\", sqlite3.connect(\"UsedObjects.db\"))"
   ]
  },
  {
   "cell_type": "code",
   "execution_count": 5,
   "id": "popular-active",
   "metadata": {
    "execution": {
     "iopub.execute_input": "2021-11-15T18:30:10.892740Z",
     "iopub.status.busy": "2021-11-15T18:30:10.879319Z",
     "iopub.status.idle": "2021-11-15T18:30:10.910543Z",
     "shell.execute_reply": "2021-11-15T18:30:10.912652Z"
    },
    "papermill": {
     "duration": 0.076079,
     "end_time": "2021-11-15T18:30:10.913166",
     "exception": false,
     "start_time": "2021-11-15T18:30:10.837087",
     "status": "completed"
    },
    "tags": []
   },
   "outputs": [],
   "source": [
    "df_pivot = df.pivot_table(index=\"PRODUCT\", columns = \"RECORD_TIME\", values = \"LISTING_COUNT\")"
   ]
  },
  {
   "cell_type": "code",
   "execution_count": 6,
   "id": "union-huntington",
   "metadata": {
    "execution": {
     "iopub.execute_input": "2021-11-15T18:30:10.970681Z",
     "iopub.status.busy": "2021-11-15T18:30:10.968395Z",
     "iopub.status.idle": "2021-11-15T18:30:10.974547Z",
     "shell.execute_reply": "2021-11-15T18:30:10.975895Z"
    },
    "papermill": {
     "duration": 0.043714,
     "end_time": "2021-11-15T18:30:10.976354",
     "exception": false,
     "start_time": "2021-11-15T18:30:10.932640",
     "status": "completed"
    },
    "tags": []
   },
   "outputs": [],
   "source": [
    "df_pivot.columns = [\"stamp_1\", \"stamp_2\"]\n",
    "df_pivot_diff = df_pivot.diff(axis=1)"
   ]
  },
  {
   "cell_type": "code",
   "execution_count": 7,
   "id": "fifth-motion",
   "metadata": {
    "execution": {
     "iopub.execute_input": "2021-11-15T18:30:11.037861Z",
     "iopub.status.busy": "2021-11-15T18:30:11.035055Z",
     "iopub.status.idle": "2021-11-15T18:30:12.967728Z",
     "shell.execute_reply": "2021-11-15T18:30:12.970726Z"
    },
    "papermill": {
     "duration": 1.974101,
     "end_time": "2021-11-15T18:30:12.971870",
     "exception": false,
     "start_time": "2021-11-15T18:30:10.997769",
     "status": "completed"
    },
    "tags": []
   },
   "outputs": [
    {
     "data": {
      "text/plain": [
       "<AxesSubplot:ylabel='PRODUCT'>"
      ]
     },
     "execution_count": 7,
     "metadata": {},
     "output_type": "execute_result"
    },
    {
     "data": {
      "image/png": "[encoded data removed]",
      "text/plain": [
       "<Figure size 432x288 with 1 Axes>"
      ]
     },
     "metadata": {
      "needs_background": "light"
     },
     "output_type": "display_data"
    }
   ],
   "source": [
    "df_pivot_diff.sort_values(\"stamp_2\", ascending = False)[\"stamp_2\"].head(10).plot.barh()"
   ]
  },
  {
   "cell_type": "code",
   "execution_count": null,
   "id": "extra-executive",
   "metadata": {
    "papermill": {
     "duration": 0.035354,
     "end_time": "2021-11-15T18:30:13.045437",
     "exception": false,
     "start_time": "2021-11-15T18:30:13.010083",
     "status": "completed"
    },
    "tags": []
   },
   "outputs": [],
   "source": []
  }
 ],
 "metadata": {
  "kernelspec": {
   "display_name": "Python 3",
   "language": "python",
   "name": "python3"
  },
  "language_info": {
   "codemirror_mode": {
    "name": "ipython",
    "version": 3
   },
   "file_extension": ".py",
   "mimetype": "text/x-python",
   "name": "python",
   "nbconvert_exporter": "python",
   "pygments_lexer": "ipython3",
   "version": "3.9.5"
  },
  "papermill": {
   "default_parameters": {},
   "duration": 9.940448,
   "end_time": "2021-11-15T18:30:14.753700",
   "environment_variables": {},
   "exception": null,
   "input_path": "eBay_Overview.ipynb",
   "output_path": "eBay_Overview.ipynb",
   "parameters": {},
   "start_time": "2021-11-15T18:30:04.813252",
   "version": "2.3.3"
  }
 },
 "nbformat": 4,
 "nbformat_minor": 5
}