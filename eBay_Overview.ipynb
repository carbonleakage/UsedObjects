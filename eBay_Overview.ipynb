{
 "cells": [
  {
   "cell_type": "code",
   "execution_count": 1,
   "id": "reverse-picking",
   "metadata": {
    "execution": {
     "iopub.execute_input": "2021-12-03T08:30:07.459250Z",
     "iopub.status.busy": "2021-12-03T08:30:07.455977Z",
     "iopub.status.idle": "2021-12-03T08:30:08.382021Z",
     "shell.execute_reply": "2021-12-03T08:30:08.383717Z"
    },
    "papermill": {
     "duration": 0.976522,
     "end_time": "2021-12-03T08:30:08.384453",
     "exception": false,
     "start_time": "2021-12-03T08:30:07.407931",
     "status": "completed"
    },
    "tags": []
   },
   "outputs": [],
   "source": [
    "import pandas as pd\n",
    "import sqlite3"
   ]
  },
  {
   "cell_type": "code",
   "execution_count": 2,
   "id": "innovative-syndrome",
   "metadata": {
    "execution": {
     "iopub.execute_input": "2021-12-03T08:30:08.447711Z",
     "iopub.status.busy": "2021-12-03T08:30:08.444157Z",
     "iopub.status.idle": "2021-12-03T08:30:09.437245Z",
     "shell.execute_reply": "2021-12-03T08:30:09.438900Z"
    },
    "papermill": {
     "duration": 1.027479,
     "end_time": "2021-12-03T08:30:09.439416",
     "exception": false,
     "start_time": "2021-12-03T08:30:08.411937",
     "status": "completed"
    },
    "tags": []
   },
   "outputs": [],
   "source": [
    "timestamps = pd.read_sql(\"select distinct record_time from EBAY_TOP_BERLIN order by record_time desc limit 2\", sqlite3.connect(\"UsedObjects.db\"))"
   ]
  },
  {
   "cell_type": "code",
   "execution_count": 3,
   "id": "periodic-identification",
   "metadata": {
    "execution": {
     "iopub.execute_input": "2021-12-03T08:30:09.512435Z",
     "iopub.status.busy": "2021-12-03T08:30:09.510109Z",
     "iopub.status.idle": "2021-12-03T08:30:09.536264Z",
     "shell.execute_reply": "2021-12-03T08:30:09.537754Z"
    },
    "papermill": {
     "duration": 0.078351,
     "end_time": "2021-12-03T08:30:09.538238",
     "exception": false,
     "start_time": "2021-12-03T08:30:09.459887",
     "status": "completed"
    },
    "tags": []
   },
   "outputs": [
    {
     "data": {
      "text/html": [
       "<div>\n",
       "<style scoped>\n",
       "    .dataframe tbody tr th:only-of-type {\n",
       "        vertical-align: middle;\n",
       "    }\n",
       "\n",
       "    .dataframe tbody tr th {\n",
       "        vertical-align: top;\n",
       "    }\n",
       "\n",
       "    .dataframe thead th {\n",
       "        text-align: right;\n",
       "    }\n",
       "</style>\n",
       "<table border=\"1\" class=\"dataframe\">\n",
       "  <thead>\n",
       "    <tr style=\"text-align: right;\">\n",
       "      <th></th>\n",
       "      <th>RECORD_TIME</th>\n",
       "    </tr>\n",
       "  </thead>\n",
       "  <tbody>\n",
       "    <tr>\n",
       "      <th>0</th>\n",
       "      <td>2021-12-03 09:30</td>\n",
       "    </tr>\n",
       "    <tr>\n",
       "      <th>1</th>\n",
       "      <td>2021-12-03 09:00</td>\n",
       "    </tr>\n",
       "  </tbody>\n",
       "</table>\n",
       "</div>"
      ],
      "text/plain": [
       "        RECORD_TIME\n",
       "0  2021-12-03 09:30\n",
       "1  2021-12-03 09:00"
      ]
     },
     "execution_count": 3,
     "metadata": {},
     "output_type": "execute_result"
    }
   ],
   "source": [
    "timestamps"
   ]
  },
  {
   "cell_type": "code",
   "execution_count": 4,
   "id": "alternate-victory",
   "metadata": {
    "execution": {
     "iopub.execute_input": "2021-12-03T08:30:09.592669Z",
     "iopub.status.busy": "2021-12-03T08:30:09.590647Z",
     "iopub.status.idle": "2021-12-03T08:30:10.995453Z",
     "shell.execute_reply": "2021-12-03T08:30:10.997950Z"
    },
    "papermill": {
     "duration": 1.439691,
     "end_time": "2021-12-03T08:30:10.998764",
     "exception": false,
     "start_time": "2021-12-03T08:30:09.559073",
     "status": "completed"
    },
    "tags": []
   },
   "outputs": [],
   "source": [
    "df = pd.read_sql(\"select * from EBAY_TOP_BERLIN where record_time in (select distinct record_time from EBAY_TOP_BERLIN order by record_time desc limit 2)\", sqlite3.connect(\"UsedObjects.db\"))"
   ]
  },
  {
   "cell_type": "code",
   "execution_count": 5,
   "id": "popular-active",
   "metadata": {
    "execution": {
     "iopub.execute_input": "2021-12-03T08:30:11.065813Z",
     "iopub.status.busy": "2021-12-03T08:30:11.063257Z",
     "iopub.status.idle": "2021-12-03T08:30:11.095793Z",
     "shell.execute_reply": "2021-12-03T08:30:11.097377Z"
    },
    "papermill": {
     "duration": 0.07656,
     "end_time": "2021-12-03T08:30:11.097836",
     "exception": false,
     "start_time": "2021-12-03T08:30:11.021276",
     "status": "completed"
    },
    "tags": []
   },
   "outputs": [],
   "source": [
    "df_pivot = df.pivot_table(index=\"PRODUCT\", columns = \"RECORD_TIME\", values = \"LISTING_COUNT\")"
   ]
  },
  {
   "cell_type": "code",
   "execution_count": 6,
   "id": "union-huntington",
   "metadata": {
    "execution": {
     "iopub.execute_input": "2021-12-03T08:30:11.157613Z",
     "iopub.status.busy": "2021-12-03T08:30:11.155341Z",
     "iopub.status.idle": "2021-12-03T08:30:11.161018Z",
     "shell.execute_reply": "2021-12-03T08:30:11.162456Z"
    },
    "papermill": {
     "duration": 0.043578,
     "end_time": "2021-12-03T08:30:11.162943",
     "exception": false,
     "start_time": "2021-12-03T08:30:11.119365",
     "status": "completed"
    },
    "tags": []
   },
   "outputs": [],
   "source": [
    "df_pivot.columns = [\"stamp_1\", \"stamp_2\"]\n",
    "df_pivot_diff = df_pivot.diff(axis=1)"
   ]
  },
  {
   "cell_type": "code",
   "execution_count": 7,
   "id": "fifth-motion",
   "metadata": {
    "execution": {
     "iopub.execute_input": "2021-12-03T08:30:11.219419Z",
     "iopub.status.busy": "2021-12-03T08:30:11.216882Z",
     "iopub.status.idle": "2021-12-03T08:30:13.108611Z",
     "shell.execute_reply": "2021-12-03T08:30:13.111193Z"
    },
    "papermill": {
     "duration": 1.928559,
     "end_time": "2021-12-03T08:30:13.112019",
     "exception": false,
     "start_time": "2021-12-03T08:30:11.183460",
     "status": "completed"
    },
    "tags": []
   },
   "outputs": [
    {
     "data": {
      "text/plain": [
       "<AxesSubplot:ylabel='PRODUCT'>"
      ]
     },
     "execution_count": 7,
     "metadata": {},
     "output_type": "execute_result"
    },
    {
     "data": {
      "image/png": "[encoded data removed]",
      "text/plain": [
       "<Figure size 432x288 with 1 Axes>"
      ]
     },
     "metadata": {
      "needs_background": "light"
     },
     "output_type": "display_data"
    }
   ],
   "source": [
    "df_pivot_diff.sort_values(\"stamp_2\", ascending = False)[\"stamp_2\"].head(10).plot.barh()"
   ]
  },
  {
   "cell_type": "code",
   "execution_count": null,
   "id": "extra-executive",
   "metadata": {
    "papermill": {
     "duration": 0.033055,
     "end_time": "2021-12-03T08:30:13.182251",
     "exception": false,
     "start_time": "2021-12-03T08:30:13.149196",
     "status": "completed"
    },
    "tags": []
   },
   "outputs": [],
   "source": []
  }
 ],
 "metadata": {
  "kernelspec": {
   "display_name": "Python 3",
   "language": "python",
   "name": "python3"
  },
  "language_info": {
   "codemirror_mode": {
    "name": "ipython",
    "version": 3
   },
   "file_extension": ".py",
   "mimetype": "text/x-python",
   "name": "python",
   "nbconvert_exporter": "python",
   "pygments_lexer": "ipython3",
   "version": "3.9.5"
  },
  "papermill": {
   "default_parameters": {},
   "duration": 9.925143,
   "end_time": "2021-12-03T08:30:14.612288",
   "environment_variables": {},
   "exception": null,
   "input_path": "eBay_Overview.ipynb",
   "output_path": "eBay_Overview.ipynb",
   "parameters": {},
   "start_time": "2021-12-03T08:30:04.687145",
   "version": "2.3.3"
  }
 },
 "nbformat": 4,
 "nbformat_minor": 5
}