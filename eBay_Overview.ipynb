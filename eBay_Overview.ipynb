{
 "cells": [
  {
   "cell_type": "code",
   "execution_count": 1,
   "id": "reverse-picking",
   "metadata": {
    "execution": {
     "iopub.execute_input": "2021-10-20T21:30:07.079286Z",
     "iopub.status.busy": "2021-10-20T21:30:07.077303Z",
     "iopub.status.idle": "2021-10-20T21:30:07.890043Z",
     "shell.execute_reply": "2021-10-20T21:30:07.891460Z"
    },
    "papermill": {
     "duration": 0.864327,
     "end_time": "2021-10-20T21:30:07.892134",
     "exception": false,
     "start_time": "2021-10-20T21:30:07.027807",
     "status": "completed"
    },
    "tags": []
   },
   "outputs": [],
   "source": [
    "import pandas as pd\n",
    "import sqlite3"
   ]
  },
  {
   "cell_type": "code",
   "execution_count": 2,
   "id": "innovative-syndrome",
   "metadata": {
    "execution": {
     "iopub.execute_input": "2021-10-20T21:30:07.943659Z",
     "iopub.status.busy": "2021-10-20T21:30:07.941587Z",
     "iopub.status.idle": "2021-10-20T21:30:08.523915Z",
     "shell.execute_reply": "2021-10-20T21:30:08.525353Z"
    },
    "papermill": {
     "duration": 0.612608,
     "end_time": "2021-10-20T21:30:08.525780",
     "exception": false,
     "start_time": "2021-10-20T21:30:07.913172",
     "status": "completed"
    },
    "tags": []
   },
   "outputs": [],
   "source": [
    "timestamps = pd.read_sql(\"select distinct record_time from EBAY_TOP_BERLIN order by record_time desc limit 2\", sqlite3.connect(\"UsedObjects.db\"))"
   ]
  },
  {
   "cell_type": "code",
   "execution_count": 3,
   "id": "periodic-identification",
   "metadata": {
    "execution": {
     "iopub.execute_input": "2021-10-20T21:30:08.599649Z",
     "iopub.status.busy": "2021-10-20T21:30:08.597597Z",
     "iopub.status.idle": "2021-10-20T21:30:08.619442Z",
     "shell.execute_reply": "2021-10-20T21:30:08.620929Z"
    },
    "papermill": {
     "duration": 0.070077,
     "end_time": "2021-10-20T21:30:08.621437",
     "exception": false,
     "start_time": "2021-10-20T21:30:08.551360",
     "status": "completed"
    },
    "tags": []
   },
   "outputs": [
    {
     "data": {
      "text/html": [
       "<div>\n",
       "<style scoped>\n",
       "    .dataframe tbody tr th:only-of-type {\n",
       "        vertical-align: middle;\n",
       "    }\n",
       "\n",
       "    .dataframe tbody tr th {\n",
       "        vertical-align: top;\n",
       "    }\n",
       "\n",
       "    .dataframe thead th {\n",
       "        text-align: right;\n",
       "    }\n",
       "</style>\n",
       "<table border=\"1\" class=\"dataframe\">\n",
       "  <thead>\n",
       "    <tr style=\"text-align: right;\">\n",
       "      <th></th>\n",
       "      <th>RECORD_TIME</th>\n",
       "    </tr>\n",
       "  </thead>\n",
       "  <tbody>\n",
       "    <tr>\n",
       "      <th>0</th>\n",
       "      <td>2021-10-20 23:30</td>\n",
       "    </tr>\n",
       "    <tr>\n",
       "      <th>1</th>\n",
       "      <td>2021-10-20 23:00</td>\n",
       "    </tr>\n",
       "  </tbody>\n",
       "</table>\n",
       "</div>"
      ],
      "text/plain": [
       "        RECORD_TIME\n",
       "0  2021-10-20 23:30\n",
       "1  2021-10-20 23:00"
      ]
     },
     "execution_count": 3,
     "metadata": {},
     "output_type": "execute_result"
    }
   ],
   "source": [
    "timestamps"
   ]
  },
  {
   "cell_type": "code",
   "execution_count": 4,
   "id": "alternate-victory",
   "metadata": {
    "execution": {
     "iopub.execute_input": "2021-10-20T21:30:08.673424Z",
     "iopub.status.busy": "2021-10-20T21:30:08.671492Z",
     "iopub.status.idle": "2021-10-20T21:30:09.544485Z",
     "shell.execute_reply": "2021-10-20T21:30:09.545772Z"
    },
    "papermill": {
     "duration": 0.90288,
     "end_time": "2021-10-20T21:30:09.546174",
     "exception": false,
     "start_time": "2021-10-20T21:30:08.643294",
     "status": "completed"
    },
    "tags": []
   },
   "outputs": [],
   "source": [
    "df = pd.read_sql(\"select * from EBAY_TOP_BERLIN where record_time in (select distinct record_time from EBAY_TOP_BERLIN order by record_time desc limit 2)\", sqlite3.connect(\"UsedObjects.db\"))"
   ]
  },
  {
   "cell_type": "code",
   "execution_count": 5,
   "id": "popular-active",
   "metadata": {
    "execution": {
     "iopub.execute_input": "2021-10-20T21:30:09.617135Z",
     "iopub.status.busy": "2021-10-20T21:30:09.604246Z",
     "iopub.status.idle": "2021-10-20T21:30:09.632614Z",
     "shell.execute_reply": "2021-10-20T21:30:09.633899Z"
    },
    "papermill": {
     "duration": 0.067512,
     "end_time": "2021-10-20T21:30:09.634297",
     "exception": false,
     "start_time": "2021-10-20T21:30:09.566785",
     "status": "completed"
    },
    "tags": []
   },
   "outputs": [],
   "source": [
    "df_pivot = df.pivot_table(index=\"PRODUCT\", columns = \"RECORD_TIME\", values = \"LISTING_COUNT\")"
   ]
  },
  {
   "cell_type": "code",
   "execution_count": 6,
   "id": "union-huntington",
   "metadata": {
    "execution": {
     "iopub.execute_input": "2021-10-20T21:30:09.690174Z",
     "iopub.status.busy": "2021-10-20T21:30:09.688058Z",
     "iopub.status.idle": "2021-10-20T21:30:09.693384Z",
     "shell.execute_reply": "2021-10-20T21:30:09.694677Z"
    },
    "papermill": {
     "duration": 0.040962,
     "end_time": "2021-10-20T21:30:09.695096",
     "exception": false,
     "start_time": "2021-10-20T21:30:09.654134",
     "status": "completed"
    },
    "tags": []
   },
   "outputs": [],
   "source": [
    "df_pivot.columns = [\"stamp_1\", \"stamp_2\"]\n",
    "df_pivot_diff = df_pivot.diff(axis=1)"
   ]
  },
  {
   "cell_type": "code",
   "execution_count": 7,
   "id": "fifth-motion",
   "metadata": {
    "execution": {
     "iopub.execute_input": "2021-10-20T21:30:09.748999Z",
     "iopub.status.busy": "2021-10-20T21:30:09.746525Z",
     "iopub.status.idle": "2021-10-20T21:30:11.220181Z",
     "shell.execute_reply": "2021-10-20T21:30:11.222291Z"
    },
    "papermill": {
     "duration": 1.507458,
     "end_time": "2021-10-20T21:30:11.222892",
     "exception": false,
     "start_time": "2021-10-20T21:30:09.715434",
     "status": "completed"
    },
    "tags": []
   },
   "outputs": [
    {
     "data": {
      "text/plain": [
       "<AxesSubplot:ylabel='PRODUCT'>"
      ]
     },
     "execution_count": 7,
     "metadata": {},
     "output_type": "execute_result"
    },
    {
     "data": {
      "image/png": "[encoded data removed]",
      "text/plain": [
       "<Figure size 432x288 with 1 Axes>"
      ]
     },
     "metadata": {
      "needs_background": "light"
     },
     "output_type": "display_data"
    }
   ],
   "source": [
    "df_pivot_diff.sort_values(\"stamp_2\", ascending = False)[\"stamp_2\"].head(10).plot.barh()"
   ]
  },
  {
   "cell_type": "code",
   "execution_count": null,
   "id": "extra-executive",
   "metadata": {
    "papermill": {
     "duration": 0.022167,
     "end_time": "2021-10-20T21:30:11.269904",
     "exception": false,
     "start_time": "2021-10-20T21:30:11.247737",
     "status": "completed"
    },
    "tags": []
   },
   "outputs": [],
   "source": []
  }
 ],
 "metadata": {
  "kernelspec": {
   "display_name": "Python 3",
   "language": "python",
   "name": "python3"
  },
  "language_info": {
   "codemirror_mode": {
    "name": "ipython",
    "version": 3
   },
   "file_extension": ".py",
   "mimetype": "text/x-python",
   "name": "python",
   "nbconvert_exporter": "python",
   "pygments_lexer": "ipython3",
   "version": "3.9.5"
  },
  "papermill": {
   "default_parameters": {},
   "duration": 7.828816,
   "end_time": "2021-10-20T21:30:12.433398",
   "environment_variables": {},
   "exception": null,
   "input_path": "eBay_Overview.ipynb",
   "output_path": "eBay_Overview.ipynb",
   "parameters": {},
   "start_time": "2021-10-20T21:30:04.604582",
   "version": "2.3.3"
  }
 },
 "nbformat": 4,
 "nbformat_minor": 5
}