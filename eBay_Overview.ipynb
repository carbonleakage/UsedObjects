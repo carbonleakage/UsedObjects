{
 "cells": [
  {
   "cell_type": "code",
   "execution_count": 1,
   "id": "reverse-picking",
   "metadata": {
    "execution": {
     "iopub.execute_input": "2021-11-07T00:30:07.568650Z",
     "iopub.status.busy": "2021-11-07T00:30:07.566423Z",
     "iopub.status.idle": "2021-11-07T00:30:08.506583Z",
     "shell.execute_reply": "2021-11-07T00:30:08.509367Z"
    },
    "papermill": {
     "duration": 0.992243,
     "end_time": "2021-11-07T00:30:08.510522",
     "exception": false,
     "start_time": "2021-11-07T00:30:07.518279",
     "status": "completed"
    },
    "tags": []
   },
   "outputs": [],
   "source": [
    "import pandas as pd\n",
    "import sqlite3"
   ]
  },
  {
   "cell_type": "code",
   "execution_count": 2,
   "id": "innovative-syndrome",
   "metadata": {
    "execution": {
     "iopub.execute_input": "2021-11-07T00:30:08.633155Z",
     "iopub.status.busy": "2021-11-07T00:30:08.630860Z",
     "iopub.status.idle": "2021-11-07T00:30:09.383384Z",
     "shell.execute_reply": "2021-11-07T00:30:09.384858Z"
    },
    "papermill": {
     "duration": 0.853378,
     "end_time": "2021-11-07T00:30:09.385364",
     "exception": false,
     "start_time": "2021-11-07T00:30:08.531986",
     "status": "completed"
    },
    "tags": []
   },
   "outputs": [],
   "source": [
    "timestamps = pd.read_sql(\"select distinct record_time from EBAY_TOP_BERLIN order by record_time desc limit 2\", sqlite3.connect(\"UsedObjects.db\"))"
   ]
  },
  {
   "cell_type": "code",
   "execution_count": 3,
   "id": "periodic-identification",
   "metadata": {
    "execution": {
     "iopub.execute_input": "2021-11-07T00:30:09.468447Z",
     "iopub.status.busy": "2021-11-07T00:30:09.464774Z",
     "iopub.status.idle": "2021-11-07T00:30:09.497321Z",
     "shell.execute_reply": "2021-11-07T00:30:09.498888Z"
    },
    "papermill": {
     "duration": 0.092654,
     "end_time": "2021-11-07T00:30:09.499390",
     "exception": false,
     "start_time": "2021-11-07T00:30:09.406736",
     "status": "completed"
    },
    "tags": []
   },
   "outputs": [
    {
     "data": {
      "text/html": [
       "<div>\n",
       "<style scoped>\n",
       "    .dataframe tbody tr th:only-of-type {\n",
       "        vertical-align: middle;\n",
       "    }\n",
       "\n",
       "    .dataframe tbody tr th {\n",
       "        vertical-align: top;\n",
       "    }\n",
       "\n",
       "    .dataframe thead th {\n",
       "        text-align: right;\n",
       "    }\n",
       "</style>\n",
       "<table border=\"1\" class=\"dataframe\">\n",
       "  <thead>\n",
       "    <tr style=\"text-align: right;\">\n",
       "      <th></th>\n",
       "      <th>RECORD_TIME</th>\n",
       "    </tr>\n",
       "  </thead>\n",
       "  <tbody>\n",
       "    <tr>\n",
       "      <th>0</th>\n",
       "      <td>2021-11-07 01:30</td>\n",
       "    </tr>\n",
       "    <tr>\n",
       "      <th>1</th>\n",
       "      <td>2021-11-07 01:00</td>\n",
       "    </tr>\n",
       "  </tbody>\n",
       "</table>\n",
       "</div>"
      ],
      "text/plain": [
       "        RECORD_TIME\n",
       "0  2021-11-07 01:30\n",
       "1  2021-11-07 01:00"
      ]
     },
     "execution_count": 3,
     "metadata": {},
     "output_type": "execute_result"
    }
   ],
   "source": [
    "timestamps"
   ]
  },
  {
   "cell_type": "code",
   "execution_count": 4,
   "id": "alternate-victory",
   "metadata": {
    "execution": {
     "iopub.execute_input": "2021-11-07T00:30:09.556036Z",
     "iopub.status.busy": "2021-11-07T00:30:09.553859Z",
     "iopub.status.idle": "2021-11-07T00:30:10.620566Z",
     "shell.execute_reply": "2021-11-07T00:30:10.622080Z"
    },
    "papermill": {
     "duration": 1.100854,
     "end_time": "2021-11-07T00:30:10.622545",
     "exception": false,
     "start_time": "2021-11-07T00:30:09.521691",
     "status": "completed"
    },
    "tags": []
   },
   "outputs": [],
   "source": [
    "df = pd.read_sql(\"select * from EBAY_TOP_BERLIN where record_time in (select distinct record_time from EBAY_TOP_BERLIN order by record_time desc limit 2)\", sqlite3.connect(\"UsedObjects.db\"))"
   ]
  },
  {
   "cell_type": "code",
   "execution_count": 5,
   "id": "popular-active",
   "metadata": {
    "execution": {
     "iopub.execute_input": "2021-11-07T00:30:10.681502Z",
     "iopub.status.busy": "2021-11-07T00:30:10.679365Z",
     "iopub.status.idle": "2021-11-07T00:30:10.719592Z",
     "shell.execute_reply": "2021-11-07T00:30:10.722449Z"
    },
    "papermill": {
     "duration": 0.07815,
     "end_time": "2021-11-07T00:30:10.723270",
     "exception": false,
     "start_time": "2021-11-07T00:30:10.645120",
     "status": "completed"
    },
    "tags": []
   },
   "outputs": [],
   "source": [
    "df_pivot = df.pivot_table(index=\"PRODUCT\", columns = \"RECORD_TIME\", values = \"LISTING_COUNT\")"
   ]
  },
  {
   "cell_type": "code",
   "execution_count": 6,
   "id": "union-huntington",
   "metadata": {
    "execution": {
     "iopub.execute_input": "2021-11-07T00:30:10.783231Z",
     "iopub.status.busy": "2021-11-07T00:30:10.780381Z",
     "iopub.status.idle": "2021-11-07T00:30:10.787854Z",
     "shell.execute_reply": "2021-11-07T00:30:10.789435Z"
    },
    "papermill": {
     "duration": 0.045481,
     "end_time": "2021-11-07T00:30:10.789933",
     "exception": false,
     "start_time": "2021-11-07T00:30:10.744452",
     "status": "completed"
    },
    "tags": []
   },
   "outputs": [],
   "source": [
    "df_pivot.columns = [\"stamp_1\", \"stamp_2\"]\n",
    "df_pivot_diff = df_pivot.diff(axis=1)"
   ]
  },
  {
   "cell_type": "code",
   "execution_count": 7,
   "id": "fifth-motion",
   "metadata": {
    "execution": {
     "iopub.execute_input": "2021-11-07T00:30:10.849530Z",
     "iopub.status.busy": "2021-11-07T00:30:10.846854Z",
     "iopub.status.idle": "2021-11-07T00:30:12.641034Z",
     "shell.execute_reply": "2021-11-07T00:30:12.642398Z"
    },
    "papermill": {
     "duration": 1.831313,
     "end_time": "2021-11-07T00:30:12.642877",
     "exception": false,
     "start_time": "2021-11-07T00:30:10.811564",
     "status": "completed"
    },
    "tags": []
   },
   "outputs": [
    {
     "data": {
      "text/plain": [
       "<AxesSubplot:ylabel='PRODUCT'>"
      ]
     },
     "execution_count": 7,
     "metadata": {},
     "output_type": "execute_result"
    },
    {
     "data": {
      "image/png": "[encoded data removed]",
      "text/plain": [
       "<Figure size 432x288 with 1 Axes>"
      ]
     },
     "metadata": {
      "needs_background": "light"
     },
     "output_type": "display_data"
    }
   ],
   "source": [
    "df_pivot_diff.sort_values(\"stamp_2\", ascending = False)[\"stamp_2\"].head(10).plot.barh()"
   ]
  },
  {
   "cell_type": "code",
   "execution_count": null,
   "id": "extra-executive",
   "metadata": {
    "papermill": {
     "duration": 0.023501,
     "end_time": "2021-11-07T00:30:12.690452",
     "exception": false,
     "start_time": "2021-11-07T00:30:12.666951",
     "status": "completed"
    },
    "tags": []
   },
   "outputs": [],
   "source": []
  }
 ],
 "metadata": {
  "kernelspec": {
   "display_name": "Python 3",
   "language": "python",
   "name": "python3"
  },
  "language_info": {
   "codemirror_mode": {
    "name": "ipython",
    "version": 3
   },
   "file_extension": ".py",
   "mimetype": "text/x-python",
   "name": "python",
   "nbconvert_exporter": "python",
   "pygments_lexer": "ipython3",
   "version": "3.9.5"
  },
  "papermill": {
   "default_parameters": {},
   "duration": 8.72245,
   "end_time": "2021-11-07T00:30:13.437232",
   "environment_variables": {},
   "exception": null,
   "input_path": "eBay_Overview.ipynb",
   "output_path": "eBay_Overview.ipynb",
   "parameters": {},
   "start_time": "2021-11-07T00:30:04.714782",
   "version": "2.3.3"
  }
 },
 "nbformat": 4,
 "nbformat_minor": 5
}