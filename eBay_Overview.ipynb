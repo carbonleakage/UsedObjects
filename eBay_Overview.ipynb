{
 "cells": [
  {
   "cell_type": "code",
   "execution_count": 1,
   "id": "reverse-picking",
   "metadata": {
    "execution": {
     "iopub.execute_input": "2021-10-21T03:30:07.325930Z",
     "iopub.status.busy": "2021-10-21T03:30:07.323845Z",
     "iopub.status.idle": "2021-10-21T03:30:08.135088Z",
     "shell.execute_reply": "2021-10-21T03:30:08.136409Z"
    },
    "papermill": {
     "duration": 0.860144,
     "end_time": "2021-10-21T03:30:08.137128",
     "exception": false,
     "start_time": "2021-10-21T03:30:07.276984",
     "status": "completed"
    },
    "tags": []
   },
   "outputs": [],
   "source": [
    "import pandas as pd\n",
    "import sqlite3"
   ]
  },
  {
   "cell_type": "code",
   "execution_count": 2,
   "id": "innovative-syndrome",
   "metadata": {
    "execution": {
     "iopub.execute_input": "2021-10-21T03:30:08.188441Z",
     "iopub.status.busy": "2021-10-21T03:30:08.186473Z",
     "iopub.status.idle": "2021-10-21T03:30:08.785601Z",
     "shell.execute_reply": "2021-10-21T03:30:08.786890Z"
    },
    "papermill": {
     "duration": 0.629094,
     "end_time": "2021-10-21T03:30:08.787287",
     "exception": false,
     "start_time": "2021-10-21T03:30:08.158193",
     "status": "completed"
    },
    "tags": []
   },
   "outputs": [],
   "source": [
    "timestamps = pd.read_sql(\"select distinct record_time from EBAY_TOP_BERLIN order by record_time desc limit 2\", sqlite3.connect(\"UsedObjects.db\"))"
   ]
  },
  {
   "cell_type": "code",
   "execution_count": 3,
   "id": "periodic-identification",
   "metadata": {
    "execution": {
     "iopub.execute_input": "2021-10-21T03:30:08.864795Z",
     "iopub.status.busy": "2021-10-21T03:30:08.862714Z",
     "iopub.status.idle": "2021-10-21T03:30:08.882565Z",
     "shell.execute_reply": "2021-10-21T03:30:08.883705Z"
    },
    "papermill": {
     "duration": 0.068951,
     "end_time": "2021-10-21T03:30:08.884109",
     "exception": false,
     "start_time": "2021-10-21T03:30:08.815158",
     "status": "completed"
    },
    "tags": []
   },
   "outputs": [
    {
     "data": {
      "text/html": [
       "<div>\n",
       "<style scoped>\n",
       "    .dataframe tbody tr th:only-of-type {\n",
       "        vertical-align: middle;\n",
       "    }\n",
       "\n",
       "    .dataframe tbody tr th {\n",
       "        vertical-align: top;\n",
       "    }\n",
       "\n",
       "    .dataframe thead th {\n",
       "        text-align: right;\n",
       "    }\n",
       "</style>\n",
       "<table border=\"1\" class=\"dataframe\">\n",
       "  <thead>\n",
       "    <tr style=\"text-align: right;\">\n",
       "      <th></th>\n",
       "      <th>RECORD_TIME</th>\n",
       "    </tr>\n",
       "  </thead>\n",
       "  <tbody>\n",
       "    <tr>\n",
       "      <th>0</th>\n",
       "      <td>2021-10-21 05:30</td>\n",
       "    </tr>\n",
       "    <tr>\n",
       "      <th>1</th>\n",
       "      <td>2021-10-21 05:00</td>\n",
       "    </tr>\n",
       "  </tbody>\n",
       "</table>\n",
       "</div>"
      ],
      "text/plain": [
       "        RECORD_TIME\n",
       "0  2021-10-21 05:30\n",
       "1  2021-10-21 05:00"
      ]
     },
     "execution_count": 3,
     "metadata": {},
     "output_type": "execute_result"
    }
   ],
   "source": [
    "timestamps"
   ]
  },
  {
   "cell_type": "code",
   "execution_count": 4,
   "id": "alternate-victory",
   "metadata": {
    "execution": {
     "iopub.execute_input": "2021-10-21T03:30:08.937506Z",
     "iopub.status.busy": "2021-10-21T03:30:08.935123Z",
     "iopub.status.idle": "2021-10-21T03:30:09.793323Z",
     "shell.execute_reply": "2021-10-21T03:30:09.794650Z"
    },
    "papermill": {
     "duration": 0.888631,
     "end_time": "2021-10-21T03:30:09.795052",
     "exception": false,
     "start_time": "2021-10-21T03:30:08.906421",
     "status": "completed"
    },
    "tags": []
   },
   "outputs": [],
   "source": [
    "df = pd.read_sql(\"select * from EBAY_TOP_BERLIN where record_time in (select distinct record_time from EBAY_TOP_BERLIN order by record_time desc limit 2)\", sqlite3.connect(\"UsedObjects.db\"))"
   ]
  },
  {
   "cell_type": "code",
   "execution_count": 5,
   "id": "popular-active",
   "metadata": {
    "execution": {
     "iopub.execute_input": "2021-10-21T03:30:09.864923Z",
     "iopub.status.busy": "2021-10-21T03:30:09.852481Z",
     "iopub.status.idle": "2021-10-21T03:30:09.880648Z",
     "shell.execute_reply": "2021-10-21T03:30:09.882046Z"
    },
    "papermill": {
     "duration": 0.067293,
     "end_time": "2021-10-21T03:30:09.882465",
     "exception": false,
     "start_time": "2021-10-21T03:30:09.815172",
     "status": "completed"
    },
    "tags": []
   },
   "outputs": [],
   "source": [
    "df_pivot = df.pivot_table(index=\"PRODUCT\", columns = \"RECORD_TIME\", values = \"LISTING_COUNT\")"
   ]
  },
  {
   "cell_type": "code",
   "execution_count": 6,
   "id": "union-huntington",
   "metadata": {
    "execution": {
     "iopub.execute_input": "2021-10-21T03:30:09.937935Z",
     "iopub.status.busy": "2021-10-21T03:30:09.935815Z",
     "iopub.status.idle": "2021-10-21T03:30:09.941248Z",
     "shell.execute_reply": "2021-10-21T03:30:09.942548Z"
    },
    "papermill": {
     "duration": 0.040513,
     "end_time": "2021-10-21T03:30:09.942957",
     "exception": false,
     "start_time": "2021-10-21T03:30:09.902444",
     "status": "completed"
    },
    "tags": []
   },
   "outputs": [],
   "source": [
    "df_pivot.columns = [\"stamp_1\", \"stamp_2\"]\n",
    "df_pivot_diff = df_pivot.diff(axis=1)"
   ]
  },
  {
   "cell_type": "code",
   "execution_count": 7,
   "id": "fifth-motion",
   "metadata": {
    "execution": {
     "iopub.execute_input": "2021-10-21T03:30:09.997764Z",
     "iopub.status.busy": "2021-10-21T03:30:09.995139Z",
     "iopub.status.idle": "2021-10-21T03:30:11.498168Z",
     "shell.execute_reply": "2021-10-21T03:30:11.499462Z"
    },
    "papermill": {
     "duration": 1.535895,
     "end_time": "2021-10-21T03:30:11.499875",
     "exception": false,
     "start_time": "2021-10-21T03:30:09.963980",
     "status": "completed"
    },
    "tags": []
   },
   "outputs": [
    {
     "data": {
      "text/plain": [
       "<AxesSubplot:ylabel='PRODUCT'>"
      ]
     },
     "execution_count": 7,
     "metadata": {},
     "output_type": "execute_result"
    },
    {
     "data": {
      "image/png": "[encoded data removed]",
      "text/plain": [
       "<Figure size 432x288 with 1 Axes>"
      ]
     },
     "metadata": {
      "needs_background": "light"
     },
     "output_type": "display_data"
    }
   ],
   "source": [
    "df_pivot_diff.sort_values(\"stamp_2\", ascending = False)[\"stamp_2\"].head(10).plot.barh()"
   ]
  },
  {
   "cell_type": "code",
   "execution_count": null,
   "id": "extra-executive",
   "metadata": {
    "papermill": {
     "duration": 0.021756,
     "end_time": "2021-10-21T03:30:11.546975",
     "exception": false,
     "start_time": "2021-10-21T03:30:11.525219",
     "status": "completed"
    },
    "tags": []
   },
   "outputs": [],
   "source": []
  }
 ],
 "metadata": {
  "kernelspec": {
   "display_name": "Python 3",
   "language": "python",
   "name": "python3"
  },
  "language_info": {
   "codemirror_mode": {
    "name": "ipython",
    "version": 3
   },
   "file_extension": ".py",
   "mimetype": "text/x-python",
   "name": "python",
   "nbconvert_exporter": "python",
   "pygments_lexer": "ipython3",
   "version": "3.9.5"
  },
  "papermill": {
   "default_parameters": {},
   "duration": 7.339779,
   "end_time": "2021-10-21T03:30:12.188048",
   "environment_variables": {},
   "exception": null,
   "input_path": "eBay_Overview.ipynb",
   "output_path": "eBay_Overview.ipynb",
   "parameters": {},
   "start_time": "2021-10-21T03:30:04.848269",
   "version": "2.3.3"
  }
 },
 "nbformat": 4,
 "nbformat_minor": 5
}