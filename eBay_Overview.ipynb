{
 "cells": [
  {
   "cell_type": "code",
   "execution_count": 1,
   "id": "reverse-picking",
   "metadata": {
    "execution": {
     "iopub.execute_input": "2021-11-25T21:30:07.235390Z",
     "iopub.status.busy": "2021-11-25T21:30:07.233068Z",
     "iopub.status.idle": "2021-11-25T21:30:08.179110Z",
     "shell.execute_reply": "2021-11-25T21:30:08.180582Z"
    },
    "papermill": {
     "duration": 0.999133,
     "end_time": "2021-11-25T21:30:08.181344",
     "exception": false,
     "start_time": "2021-11-25T21:30:07.182211",
     "status": "completed"
    },
    "tags": []
   },
   "outputs": [],
   "source": [
    "import pandas as pd\n",
    "import sqlite3"
   ]
  },
  {
   "cell_type": "code",
   "execution_count": 2,
   "id": "innovative-syndrome",
   "metadata": {
    "execution": {
     "iopub.execute_input": "2021-11-25T21:30:08.305386Z",
     "iopub.status.busy": "2021-11-25T21:30:08.302883Z",
     "iopub.status.idle": "2021-11-25T21:30:09.213126Z",
     "shell.execute_reply": "2021-11-25T21:30:09.214635Z"
    },
    "papermill": {
     "duration": 0.945673,
     "end_time": "2021-11-25T21:30:09.215109",
     "exception": false,
     "start_time": "2021-11-25T21:30:08.269436",
     "status": "completed"
    },
    "tags": []
   },
   "outputs": [],
   "source": [
    "timestamps = pd.read_sql(\"select distinct record_time from EBAY_TOP_BERLIN order by record_time desc limit 2\", sqlite3.connect(\"UsedObjects.db\"))"
   ]
  },
  {
   "cell_type": "code",
   "execution_count": 3,
   "id": "periodic-identification",
   "metadata": {
    "execution": {
     "iopub.execute_input": "2021-11-25T21:30:09.286216Z",
     "iopub.status.busy": "2021-11-25T21:30:09.283927Z",
     "iopub.status.idle": "2021-11-25T21:30:09.310399Z",
     "shell.execute_reply": "2021-11-25T21:30:09.312175Z"
    },
    "papermill": {
     "duration": 0.077348,
     "end_time": "2021-11-25T21:30:09.312676",
     "exception": false,
     "start_time": "2021-11-25T21:30:09.235328",
     "status": "completed"
    },
    "tags": []
   },
   "outputs": [
    {
     "data": {
      "text/html": [
       "<div>\n",
       "<style scoped>\n",
       "    .dataframe tbody tr th:only-of-type {\n",
       "        vertical-align: middle;\n",
       "    }\n",
       "\n",
       "    .dataframe tbody tr th {\n",
       "        vertical-align: top;\n",
       "    }\n",
       "\n",
       "    .dataframe thead th {\n",
       "        text-align: right;\n",
       "    }\n",
       "</style>\n",
       "<table border=\"1\" class=\"dataframe\">\n",
       "  <thead>\n",
       "    <tr style=\"text-align: right;\">\n",
       "      <th></th>\n",
       "      <th>RECORD_TIME</th>\n",
       "    </tr>\n",
       "  </thead>\n",
       "  <tbody>\n",
       "    <tr>\n",
       "      <th>0</th>\n",
       "      <td>2021-11-25 22:30</td>\n",
       "    </tr>\n",
       "    <tr>\n",
       "      <th>1</th>\n",
       "      <td>2021-11-25 22:00</td>\n",
       "    </tr>\n",
       "  </tbody>\n",
       "</table>\n",
       "</div>"
      ],
      "text/plain": [
       "        RECORD_TIME\n",
       "0  2021-11-25 22:30\n",
       "1  2021-11-25 22:00"
      ]
     },
     "execution_count": 3,
     "metadata": {},
     "output_type": "execute_result"
    }
   ],
   "source": [
    "timestamps"
   ]
  },
  {
   "cell_type": "code",
   "execution_count": 4,
   "id": "alternate-victory",
   "metadata": {
    "execution": {
     "iopub.execute_input": "2021-11-25T21:30:09.364076Z",
     "iopub.status.busy": "2021-11-25T21:30:09.362050Z",
     "iopub.status.idle": "2021-11-25T21:30:10.700206Z",
     "shell.execute_reply": "2021-11-25T21:30:10.701885Z"
    },
    "papermill": {
     "duration": 1.369346,
     "end_time": "2021-11-25T21:30:10.702450",
     "exception": false,
     "start_time": "2021-11-25T21:30:09.333104",
     "status": "completed"
    },
    "tags": []
   },
   "outputs": [],
   "source": [
    "df = pd.read_sql(\"select * from EBAY_TOP_BERLIN where record_time in (select distinct record_time from EBAY_TOP_BERLIN order by record_time desc limit 2)\", sqlite3.connect(\"UsedObjects.db\"))"
   ]
  },
  {
   "cell_type": "code",
   "execution_count": 5,
   "id": "popular-active",
   "metadata": {
    "execution": {
     "iopub.execute_input": "2021-11-25T21:30:10.774451Z",
     "iopub.status.busy": "2021-11-25T21:30:10.765894Z",
     "iopub.status.idle": "2021-11-25T21:30:10.797948Z",
     "shell.execute_reply": "2021-11-25T21:30:10.799315Z"
    },
    "papermill": {
     "duration": 0.074675,
     "end_time": "2021-11-25T21:30:10.799787",
     "exception": false,
     "start_time": "2021-11-25T21:30:10.725112",
     "status": "completed"
    },
    "tags": []
   },
   "outputs": [],
   "source": [
    "df_pivot = df.pivot_table(index=\"PRODUCT\", columns = \"RECORD_TIME\", values = \"LISTING_COUNT\")"
   ]
  },
  {
   "cell_type": "code",
   "execution_count": 6,
   "id": "union-huntington",
   "metadata": {
    "execution": {
     "iopub.execute_input": "2021-11-25T21:30:10.858766Z",
     "iopub.status.busy": "2021-11-25T21:30:10.856120Z",
     "iopub.status.idle": "2021-11-25T21:30:10.864666Z",
     "shell.execute_reply": "2021-11-25T21:30:10.866261Z"
    },
    "papermill": {
     "duration": 0.047135,
     "end_time": "2021-11-25T21:30:10.866760",
     "exception": false,
     "start_time": "2021-11-25T21:30:10.819625",
     "status": "completed"
    },
    "tags": []
   },
   "outputs": [],
   "source": [
    "df_pivot.columns = [\"stamp_1\", \"stamp_2\"]\n",
    "df_pivot_diff = df_pivot.diff(axis=1)"
   ]
  },
  {
   "cell_type": "code",
   "execution_count": 7,
   "id": "fifth-motion",
   "metadata": {
    "execution": {
     "iopub.execute_input": "2021-11-25T21:30:10.930756Z",
     "iopub.status.busy": "2021-11-25T21:30:10.925482Z",
     "iopub.status.idle": "2021-11-25T21:30:12.910349Z",
     "shell.execute_reply": "2021-11-25T21:30:12.912229Z"
    },
    "papermill": {
     "duration": 2.023135,
     "end_time": "2021-11-25T21:30:12.912873",
     "exception": false,
     "start_time": "2021-11-25T21:30:10.889738",
     "status": "completed"
    },
    "tags": []
   },
   "outputs": [
    {
     "data": {
      "text/plain": [
       "<AxesSubplot:ylabel='PRODUCT'>"
      ]
     },
     "execution_count": 7,
     "metadata": {},
     "output_type": "execute_result"
    },
    {
     "data": {
      "image/png": "[encoded data removed]",
      "text/plain": [
       "<Figure size 432x288 with 1 Axes>"
      ]
     },
     "metadata": {
      "needs_background": "light"
     },
     "output_type": "display_data"
    }
   ],
   "source": [
    "df_pivot_diff.sort_values(\"stamp_2\", ascending = False)[\"stamp_2\"].head(10).plot.barh()"
   ]
  },
  {
   "cell_type": "code",
   "execution_count": null,
   "id": "extra-executive",
   "metadata": {
    "papermill": {
     "duration": 0.038028,
     "end_time": "2021-11-25T21:30:12.978564",
     "exception": false,
     "start_time": "2021-11-25T21:30:12.940536",
     "status": "completed"
    },
    "tags": []
   },
   "outputs": [],
   "source": []
  }
 ],
 "metadata": {
  "kernelspec": {
   "display_name": "Python 3",
   "language": "python",
   "name": "python3"
  },
  "language_info": {
   "codemirror_mode": {
    "name": "ipython",
    "version": 3
   },
   "file_extension": ".py",
   "mimetype": "text/x-python",
   "name": "python",
   "nbconvert_exporter": "python",
   "pygments_lexer": "ipython3",
   "version": "3.9.5"
  },
  "papermill": {
   "default_parameters": {},
   "duration": 9.931574,
   "end_time": "2021-11-25T21:30:14.402807",
   "environment_variables": {},
   "exception": null,
   "input_path": "eBay_Overview.ipynb",
   "output_path": "eBay_Overview.ipynb",
   "parameters": {},
   "start_time": "2021-11-25T21:30:04.471233",
   "version": "2.3.3"
  }
 },
 "nbformat": 4,
 "nbformat_minor": 5
}