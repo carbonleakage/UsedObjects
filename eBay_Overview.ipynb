{
 "cells": [
  {
   "cell_type": "code",
   "execution_count": 1,
   "id": "reverse-picking",
   "metadata": {
    "execution": {
     "iopub.execute_input": "2021-08-26T10:30:07.398097Z",
     "iopub.status.busy": "2021-08-26T10:30:07.396118Z",
     "iopub.status.idle": "2021-08-26T10:30:08.201661Z",
     "shell.execute_reply": "2021-08-26T10:30:08.202902Z"
    },
    "papermill": {
     "duration": 0.858067,
     "end_time": "2021-08-26T10:30:08.203512",
     "exception": false,
     "start_time": "2021-08-26T10:30:07.345445",
     "status": "completed"
    },
    "tags": []
   },
   "outputs": [],
   "source": [
    "import pandas as pd\n",
    "import sqlite3"
   ]
  },
  {
   "cell_type": "code",
   "execution_count": 2,
   "id": "innovative-syndrome",
   "metadata": {
    "execution": {
     "iopub.execute_input": "2021-08-26T10:30:08.254682Z",
     "iopub.status.busy": "2021-08-26T10:30:08.252818Z",
     "iopub.status.idle": "2021-08-26T10:30:08.386950Z",
     "shell.execute_reply": "2021-08-26T10:30:08.388148Z"
    },
    "papermill": {
     "duration": 0.163646,
     "end_time": "2021-08-26T10:30:08.388756",
     "exception": false,
     "start_time": "2021-08-26T10:30:08.225110",
     "status": "completed"
    },
    "tags": []
   },
   "outputs": [],
   "source": [
    "timestamps = pd.read_sql(\"select distinct record_time from EBAY_TOP_BERLIN order by record_time desc limit 2\", sqlite3.connect(\"UsedObjects.db\"))"
   ]
  },
  {
   "cell_type": "code",
   "execution_count": 3,
   "id": "periodic-identification",
   "metadata": {
    "execution": {
     "iopub.execute_input": "2021-08-26T10:30:08.453439Z",
     "iopub.status.busy": "2021-08-26T10:30:08.451368Z",
     "iopub.status.idle": "2021-08-26T10:30:08.472155Z",
     "shell.execute_reply": "2021-08-26T10:30:08.473592Z"
    },
    "papermill": {
     "duration": 0.065993,
     "end_time": "2021-08-26T10:30:08.474022",
     "exception": false,
     "start_time": "2021-08-26T10:30:08.408029",
     "status": "completed"
    },
    "tags": []
   },
   "outputs": [
    {
     "data": {
      "text/html": [
       "<div>\n",
       "<style scoped>\n",
       "    .dataframe tbody tr th:only-of-type {\n",
       "        vertical-align: middle;\n",
       "    }\n",
       "\n",
       "    .dataframe tbody tr th {\n",
       "        vertical-align: top;\n",
       "    }\n",
       "\n",
       "    .dataframe thead th {\n",
       "        text-align: right;\n",
       "    }\n",
       "</style>\n",
       "<table border=\"1\" class=\"dataframe\">\n",
       "  <thead>\n",
       "    <tr style=\"text-align: right;\">\n",
       "      <th></th>\n",
       "      <th>RECORD_TIME</th>\n",
       "    </tr>\n",
       "  </thead>\n",
       "  <tbody>\n",
       "    <tr>\n",
       "      <th>0</th>\n",
       "      <td>2021-08-26 12:30</td>\n",
       "    </tr>\n",
       "    <tr>\n",
       "      <th>1</th>\n",
       "      <td>2021-08-26 12:00</td>\n",
       "    </tr>\n",
       "  </tbody>\n",
       "</table>\n",
       "</div>"
      ],
      "text/plain": [
       "        RECORD_TIME\n",
       "0  2021-08-26 12:30\n",
       "1  2021-08-26 12:00"
      ]
     },
     "execution_count": 3,
     "metadata": {},
     "output_type": "execute_result"
    }
   ],
   "source": [
    "timestamps"
   ]
  },
  {
   "cell_type": "code",
   "execution_count": 4,
   "id": "alternate-victory",
   "metadata": {
    "execution": {
     "iopub.execute_input": "2021-08-26T10:30:08.525220Z",
     "iopub.status.busy": "2021-08-26T10:30:08.523280Z",
     "iopub.status.idle": "2021-08-26T10:30:08.723150Z",
     "shell.execute_reply": "2021-08-26T10:30:08.724409Z"
    },
    "papermill": {
     "duration": 0.229676,
     "end_time": "2021-08-26T10:30:08.724824",
     "exception": false,
     "start_time": "2021-08-26T10:30:08.495148",
     "status": "completed"
    },
    "tags": []
   },
   "outputs": [],
   "source": [
    "df = pd.read_sql(\"select * from EBAY_TOP_BERLIN where record_time in (select distinct record_time from EBAY_TOP_BERLIN order by record_time desc limit 2)\", sqlite3.connect(\"UsedObjects.db\"))"
   ]
  },
  {
   "cell_type": "code",
   "execution_count": 5,
   "id": "popular-active",
   "metadata": {
    "execution": {
     "iopub.execute_input": "2021-08-26T10:30:08.798996Z",
     "iopub.status.busy": "2021-08-26T10:30:08.787014Z",
     "iopub.status.idle": "2021-08-26T10:30:08.814663Z",
     "shell.execute_reply": "2021-08-26T10:30:08.815944Z"
    },
    "papermill": {
     "duration": 0.068881,
     "end_time": "2021-08-26T10:30:08.816409",
     "exception": false,
     "start_time": "2021-08-26T10:30:08.747528",
     "status": "completed"
    },
    "tags": []
   },
   "outputs": [],
   "source": [
    "df_pivot = df.pivot_table(index=\"PRODUCT\", columns = \"RECORD_TIME\", values = \"LISTING_COUNT\")"
   ]
  },
  {
   "cell_type": "code",
   "execution_count": 6,
   "id": "union-huntington",
   "metadata": {
    "execution": {
     "iopub.execute_input": "2021-08-26T10:30:08.883864Z",
     "iopub.status.busy": "2021-08-26T10:30:08.881834Z",
     "iopub.status.idle": "2021-08-26T10:30:08.887279Z",
     "shell.execute_reply": "2021-08-26T10:30:08.888803Z"
    },
    "papermill": {
     "duration": 0.0459,
     "end_time": "2021-08-26T10:30:08.889246",
     "exception": false,
     "start_time": "2021-08-26T10:30:08.843346",
     "status": "completed"
    },
    "tags": []
   },
   "outputs": [],
   "source": [
    "df_pivot.columns = [\"stamp_1\", \"stamp_2\"]\n",
    "df_pivot_diff = df_pivot.diff(axis=1)"
   ]
  },
  {
   "cell_type": "code",
   "execution_count": 7,
   "id": "fifth-motion",
   "metadata": {
    "execution": {
     "iopub.execute_input": "2021-08-26T10:30:08.945544Z",
     "iopub.status.busy": "2021-08-26T10:30:08.943133Z",
     "iopub.status.idle": "2021-08-26T10:30:10.404377Z",
     "shell.execute_reply": "2021-08-26T10:30:10.405745Z"
    },
    "papermill": {
     "duration": 1.494361,
     "end_time": "2021-08-26T10:30:10.406161",
     "exception": false,
     "start_time": "2021-08-26T10:30:08.911800",
     "status": "completed"
    },
    "tags": []
   },
   "outputs": [
    {
     "data": {
      "text/plain": [
       "<AxesSubplot:ylabel='PRODUCT'>"
      ]
     },
     "execution_count": 7,
     "metadata": {},
     "output_type": "execute_result"
    },
    {
     "data": {
      "image/png": "[encoded data removed]",
      "text/plain": [
       "<Figure size 432x288 with 1 Axes>"
      ]
     },
     "metadata": {
      "needs_background": "light"
     },
     "output_type": "display_data"
    }
   ],
   "source": [
    "df_pivot_diff.sort_values(\"stamp_2\", ascending = False)[\"stamp_2\"].head(10).plot.barh()"
   ]
  },
  {
   "cell_type": "code",
   "execution_count": null,
   "id": "extra-executive",
   "metadata": {
    "papermill": {
     "duration": 0.022011,
     "end_time": "2021-08-26T10:30:10.451230",
     "exception": false,
     "start_time": "2021-08-26T10:30:10.429219",
     "status": "completed"
    },
    "tags": []
   },
   "outputs": [],
   "source": []
  }
 ],
 "metadata": {
  "kernelspec": {
   "display_name": "Python 3",
   "language": "python",
   "name": "python3"
  },
  "language_info": {
   "codemirror_mode": {
    "name": "ipython",
    "version": 3
   },
   "file_extension": ".py",
   "mimetype": "text/x-python",
   "name": "python",
   "nbconvert_exporter": "python",
   "pygments_lexer": "ipython3",
   "version": "3.9.5"
  },
  "papermill": {
   "default_parameters": {},
   "duration": 6.824944,
   "end_time": "2021-08-26T10:30:11.770232",
   "environment_variables": {},
   "exception": null,
   "input_path": "eBay_Overview.ipynb",
   "output_path": "eBay_Overview.ipynb",
   "parameters": {},
   "start_time": "2021-08-26T10:30:04.945288",
   "version": "2.3.3"
  }
 },
 "nbformat": 4,
 "nbformat_minor": 5
}