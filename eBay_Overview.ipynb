{
 "cells": [
  {
   "cell_type": "code",
   "execution_count": 1,
   "id": "reverse-picking",
   "metadata": {
    "execution": {
     "iopub.execute_input": "2021-09-22T22:00:06.698770Z",
     "iopub.status.busy": "2021-09-22T22:00:06.696817Z",
     "iopub.status.idle": "2021-09-22T22:00:07.499665Z",
     "shell.execute_reply": "2021-09-22T22:00:07.501118Z"
    },
    "papermill": {
     "duration": 0.855499,
     "end_time": "2021-09-22T22:00:07.501800",
     "exception": false,
     "start_time": "2021-09-22T22:00:06.646301",
     "status": "completed"
    },
    "tags": []
   },
   "outputs": [],
   "source": [
    "import pandas as pd\n",
    "import sqlite3"
   ]
  },
  {
   "cell_type": "code",
   "execution_count": 2,
   "id": "innovative-syndrome",
   "metadata": {
    "execution": {
     "iopub.execute_input": "2021-09-22T22:00:07.552745Z",
     "iopub.status.busy": "2021-09-22T22:00:07.550299Z",
     "iopub.status.idle": "2021-09-22T22:00:07.908124Z",
     "shell.execute_reply": "2021-09-22T22:00:07.909539Z"
    },
    "papermill": {
     "duration": 0.387903,
     "end_time": "2021-09-22T22:00:07.909975",
     "exception": false,
     "start_time": "2021-09-22T22:00:07.522072",
     "status": "completed"
    },
    "tags": []
   },
   "outputs": [],
   "source": [
    "timestamps = pd.read_sql(\"select distinct record_time from EBAY_TOP_BERLIN order by record_time desc limit 2\", sqlite3.connect(\"UsedObjects.db\"))"
   ]
  },
  {
   "cell_type": "code",
   "execution_count": 3,
   "id": "periodic-identification",
   "metadata": {
    "execution": {
     "iopub.execute_input": "2021-09-22T22:00:07.976570Z",
     "iopub.status.busy": "2021-09-22T22:00:07.974481Z",
     "iopub.status.idle": "2021-09-22T22:00:07.994279Z",
     "shell.execute_reply": "2021-09-22T22:00:07.995644Z"
    },
    "papermill": {
     "duration": 0.066235,
     "end_time": "2021-09-22T22:00:07.996066",
     "exception": false,
     "start_time": "2021-09-22T22:00:07.929831",
     "status": "completed"
    },
    "tags": []
   },
   "outputs": [
    {
     "data": {
      "text/html": [
       "<div>\n",
       "<style scoped>\n",
       "    .dataframe tbody tr th:only-of-type {\n",
       "        vertical-align: middle;\n",
       "    }\n",
       "\n",
       "    .dataframe tbody tr th {\n",
       "        vertical-align: top;\n",
       "    }\n",
       "\n",
       "    .dataframe thead th {\n",
       "        text-align: right;\n",
       "    }\n",
       "</style>\n",
       "<table border=\"1\" class=\"dataframe\">\n",
       "  <thead>\n",
       "    <tr style=\"text-align: right;\">\n",
       "      <th></th>\n",
       "      <th>RECORD_TIME</th>\n",
       "    </tr>\n",
       "  </thead>\n",
       "  <tbody>\n",
       "    <tr>\n",
       "      <th>0</th>\n",
       "      <td>2021-09-23 00:00</td>\n",
       "    </tr>\n",
       "    <tr>\n",
       "      <th>1</th>\n",
       "      <td>2021-09-22 23:30</td>\n",
       "    </tr>\n",
       "  </tbody>\n",
       "</table>\n",
       "</div>"
      ],
      "text/plain": [
       "        RECORD_TIME\n",
       "0  2021-09-23 00:00\n",
       "1  2021-09-22 23:30"
      ]
     },
     "execution_count": 3,
     "metadata": {},
     "output_type": "execute_result"
    }
   ],
   "source": [
    "timestamps"
   ]
  },
  {
   "cell_type": "code",
   "execution_count": 4,
   "id": "alternate-victory",
   "metadata": {
    "execution": {
     "iopub.execute_input": "2021-09-22T22:00:08.047888Z",
     "iopub.status.busy": "2021-09-22T22:00:08.045823Z",
     "iopub.status.idle": "2021-09-22T22:00:08.561903Z",
     "shell.execute_reply": "2021-09-22T22:00:08.563338Z"
    },
    "papermill": {
     "duration": 0.546214,
     "end_time": "2021-09-22T22:00:08.563762",
     "exception": false,
     "start_time": "2021-09-22T22:00:08.017548",
     "status": "completed"
    },
    "tags": []
   },
   "outputs": [],
   "source": [
    "df = pd.read_sql(\"select * from EBAY_TOP_BERLIN where record_time in (select distinct record_time from EBAY_TOP_BERLIN order by record_time desc limit 2)\", sqlite3.connect(\"UsedObjects.db\"))"
   ]
  },
  {
   "cell_type": "code",
   "execution_count": 5,
   "id": "popular-active",
   "metadata": {
    "execution": {
     "iopub.execute_input": "2021-09-22T22:00:08.652746Z",
     "iopub.status.busy": "2021-09-22T22:00:08.640909Z",
     "iopub.status.idle": "2021-09-22T22:00:08.668304Z",
     "shell.execute_reply": "2021-09-22T22:00:08.669595Z"
    },
    "papermill": {
     "duration": 0.073871,
     "end_time": "2021-09-22T22:00:08.670012",
     "exception": false,
     "start_time": "2021-09-22T22:00:08.596141",
     "status": "completed"
    },
    "tags": []
   },
   "outputs": [],
   "source": [
    "df_pivot = df.pivot_table(index=\"PRODUCT\", columns = \"RECORD_TIME\", values = \"LISTING_COUNT\")"
   ]
  },
  {
   "cell_type": "code",
   "execution_count": 6,
   "id": "union-huntington",
   "metadata": {
    "execution": {
     "iopub.execute_input": "2021-09-22T22:00:08.725607Z",
     "iopub.status.busy": "2021-09-22T22:00:08.723545Z",
     "iopub.status.idle": "2021-09-22T22:00:08.728730Z",
     "shell.execute_reply": "2021-09-22T22:00:08.730005Z"
    },
    "papermill": {
     "duration": 0.040189,
     "end_time": "2021-09-22T22:00:08.730416",
     "exception": false,
     "start_time": "2021-09-22T22:00:08.690227",
     "status": "completed"
    },
    "tags": []
   },
   "outputs": [],
   "source": [
    "df_pivot.columns = [\"stamp_1\", \"stamp_2\"]\n",
    "df_pivot_diff = df_pivot.diff(axis=1)"
   ]
  },
  {
   "cell_type": "code",
   "execution_count": 7,
   "id": "fifth-motion",
   "metadata": {
    "execution": {
     "iopub.execute_input": "2021-09-22T22:00:08.785644Z",
     "iopub.status.busy": "2021-09-22T22:00:08.783278Z",
     "iopub.status.idle": "2021-09-22T22:00:10.268244Z",
     "shell.execute_reply": "2021-09-22T22:00:10.269520Z"
    },
    "papermill": {
     "duration": 1.517817,
     "end_time": "2021-09-22T22:00:10.269932",
     "exception": false,
     "start_time": "2021-09-22T22:00:08.752115",
     "status": "completed"
    },
    "tags": []
   },
   "outputs": [
    {
     "data": {
      "text/plain": [
       "<AxesSubplot:ylabel='PRODUCT'>"
      ]
     },
     "execution_count": 7,
     "metadata": {},
     "output_type": "execute_result"
    },
    {
     "data": {
      "image/png": "[encoded data removed]",
      "text/plain": [
       "<Figure size 432x288 with 1 Axes>"
      ]
     },
     "metadata": {
      "needs_background": "light"
     },
     "output_type": "display_data"
    }
   ],
   "source": [
    "df_pivot_diff.sort_values(\"stamp_2\", ascending = False)[\"stamp_2\"].head(10).plot.barh()"
   ]
  },
  {
   "cell_type": "code",
   "execution_count": null,
   "id": "extra-executive",
   "metadata": {
    "papermill": {
     "duration": 0.022321,
     "end_time": "2021-09-22T22:00:10.316150",
     "exception": false,
     "start_time": "2021-09-22T22:00:10.293829",
     "status": "completed"
    },
    "tags": []
   },
   "outputs": [],
   "source": []
  }
 ],
 "metadata": {
  "kernelspec": {
   "display_name": "Python 3",
   "language": "python",
   "name": "python3"
  },
  "language_info": {
   "codemirror_mode": {
    "name": "ipython",
    "version": 3
   },
   "file_extension": ".py",
   "mimetype": "text/x-python",
   "name": "python",
   "nbconvert_exporter": "python",
   "pygments_lexer": "ipython3",
   "version": "3.9.5"
  },
  "papermill": {
   "default_parameters": {},
   "duration": 6.712306,
   "end_time": "2021-09-22T22:00:10.959346",
   "environment_variables": {},
   "exception": null,
   "input_path": "eBay_Overview.ipynb",
   "output_path": "eBay_Overview.ipynb",
   "parameters": {},
   "start_time": "2021-09-22T22:00:04.247040",
   "version": "2.3.3"
  }
 },
 "nbformat": 4,
 "nbformat_minor": 5
}