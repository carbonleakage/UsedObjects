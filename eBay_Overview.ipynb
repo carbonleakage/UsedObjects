{
 "cells": [
  {
   "cell_type": "code",
   "execution_count": 1,
   "id": "reverse-picking",
   "metadata": {
    "execution": {
     "iopub.execute_input": "2021-11-02T03:30:08.078743Z",
     "iopub.status.busy": "2021-11-02T03:30:08.075981Z",
     "iopub.status.idle": "2021-11-02T03:30:09.038698Z",
     "shell.execute_reply": "2021-11-02T03:30:09.040321Z"
    },
    "papermill": {
     "duration": 0.998745,
     "end_time": "2021-11-02T03:30:09.041162",
     "exception": false,
     "start_time": "2021-11-02T03:30:08.042417",
     "status": "completed"
    },
    "tags": []
   },
   "outputs": [],
   "source": [
    "import pandas as pd\n",
    "import sqlite3"
   ]
  },
  {
   "cell_type": "code",
   "execution_count": 2,
   "id": "innovative-syndrome",
   "metadata": {
    "execution": {
     "iopub.execute_input": "2021-11-02T03:30:09.107649Z",
     "iopub.status.busy": "2021-11-02T03:30:09.104823Z",
     "iopub.status.idle": "2021-11-02T03:30:09.820481Z",
     "shell.execute_reply": "2021-11-02T03:30:09.822019Z"
    },
    "papermill": {
     "duration": 0.750734,
     "end_time": "2021-11-02T03:30:09.822519",
     "exception": false,
     "start_time": "2021-11-02T03:30:09.071785",
     "status": "completed"
    },
    "tags": []
   },
   "outputs": [],
   "source": [
    "timestamps = pd.read_sql(\"select distinct record_time from EBAY_TOP_BERLIN order by record_time desc limit 2\", sqlite3.connect(\"UsedObjects.db\"))"
   ]
  },
  {
   "cell_type": "code",
   "execution_count": 3,
   "id": "periodic-identification",
   "metadata": {
    "execution": {
     "iopub.execute_input": "2021-11-02T03:30:09.895799Z",
     "iopub.status.busy": "2021-11-02T03:30:09.893486Z",
     "iopub.status.idle": "2021-11-02T03:30:09.915740Z",
     "shell.execute_reply": "2021-11-02T03:30:09.917275Z"
    },
    "papermill": {
     "duration": 0.074507,
     "end_time": "2021-11-02T03:30:09.917754",
     "exception": false,
     "start_time": "2021-11-02T03:30:09.843247",
     "status": "completed"
    },
    "tags": []
   },
   "outputs": [
    {
     "data": {
      "text/html": [
       "<div>\n",
       "<style scoped>\n",
       "    .dataframe tbody tr th:only-of-type {\n",
       "        vertical-align: middle;\n",
       "    }\n",
       "\n",
       "    .dataframe tbody tr th {\n",
       "        vertical-align: top;\n",
       "    }\n",
       "\n",
       "    .dataframe thead th {\n",
       "        text-align: right;\n",
       "    }\n",
       "</style>\n",
       "<table border=\"1\" class=\"dataframe\">\n",
       "  <thead>\n",
       "    <tr style=\"text-align: right;\">\n",
       "      <th></th>\n",
       "      <th>RECORD_TIME</th>\n",
       "    </tr>\n",
       "  </thead>\n",
       "  <tbody>\n",
       "    <tr>\n",
       "      <th>0</th>\n",
       "      <td>2021-11-02 04:30</td>\n",
       "    </tr>\n",
       "    <tr>\n",
       "      <th>1</th>\n",
       "      <td>2021-11-02 04:00</td>\n",
       "    </tr>\n",
       "  </tbody>\n",
       "</table>\n",
       "</div>"
      ],
      "text/plain": [
       "        RECORD_TIME\n",
       "0  2021-11-02 04:30\n",
       "1  2021-11-02 04:00"
      ]
     },
     "execution_count": 3,
     "metadata": {},
     "output_type": "execute_result"
    }
   ],
   "source": [
    "timestamps"
   ]
  },
  {
   "cell_type": "code",
   "execution_count": 4,
   "id": "alternate-victory",
   "metadata": {
    "execution": {
     "iopub.execute_input": "2021-11-02T03:30:09.973449Z",
     "iopub.status.busy": "2021-11-02T03:30:09.971063Z",
     "iopub.status.idle": "2021-11-02T03:30:10.985063Z",
     "shell.execute_reply": "2021-11-02T03:30:10.986470Z"
    },
    "papermill": {
     "duration": 1.047633,
     "end_time": "2021-11-02T03:30:10.986947",
     "exception": false,
     "start_time": "2021-11-02T03:30:09.939314",
     "status": "completed"
    },
    "tags": []
   },
   "outputs": [],
   "source": [
    "df = pd.read_sql(\"select * from EBAY_TOP_BERLIN where record_time in (select distinct record_time from EBAY_TOP_BERLIN order by record_time desc limit 2)\", sqlite3.connect(\"UsedObjects.db\"))"
   ]
  },
  {
   "cell_type": "code",
   "execution_count": 5,
   "id": "popular-active",
   "metadata": {
    "execution": {
     "iopub.execute_input": "2021-11-02T03:30:11.063587Z",
     "iopub.status.busy": "2021-11-02T03:30:11.051050Z",
     "iopub.status.idle": "2021-11-02T03:30:11.082642Z",
     "shell.execute_reply": "2021-11-02T03:30:11.081103Z"
    },
    "papermill": {
     "duration": 0.072747,
     "end_time": "2021-11-02T03:30:11.083031",
     "exception": false,
     "start_time": "2021-11-02T03:30:11.010284",
     "status": "completed"
    },
    "tags": []
   },
   "outputs": [],
   "source": [
    "df_pivot = df.pivot_table(index=\"PRODUCT\", columns = \"RECORD_TIME\", values = \"LISTING_COUNT\")"
   ]
  },
  {
   "cell_type": "code",
   "execution_count": 6,
   "id": "union-huntington",
   "metadata": {
    "execution": {
     "iopub.execute_input": "2021-11-02T03:30:11.144477Z",
     "iopub.status.busy": "2021-11-02T03:30:11.142174Z",
     "iopub.status.idle": "2021-11-02T03:30:11.148445Z",
     "shell.execute_reply": "2021-11-02T03:30:11.150554Z"
    },
    "papermill": {
     "duration": 0.048102,
     "end_time": "2021-11-02T03:30:11.151158",
     "exception": false,
     "start_time": "2021-11-02T03:30:11.103056",
     "status": "completed"
    },
    "tags": []
   },
   "outputs": [],
   "source": [
    "df_pivot.columns = [\"stamp_1\", \"stamp_2\"]\n",
    "df_pivot_diff = df_pivot.diff(axis=1)"
   ]
  },
  {
   "cell_type": "code",
   "execution_count": 7,
   "id": "fifth-motion",
   "metadata": {
    "execution": {
     "iopub.execute_input": "2021-11-02T03:30:11.235286Z",
     "iopub.status.busy": "2021-11-02T03:30:11.230518Z",
     "iopub.status.idle": "2021-11-02T03:30:13.123720Z",
     "shell.execute_reply": "2021-11-02T03:30:13.125238Z"
    },
    "papermill": {
     "duration": 1.945333,
     "end_time": "2021-11-02T03:30:13.125733",
     "exception": false,
     "start_time": "2021-11-02T03:30:11.180400",
     "status": "completed"
    },
    "tags": []
   },
   "outputs": [
    {
     "data": {
      "text/plain": [
       "<AxesSubplot:ylabel='PRODUCT'>"
      ]
     },
     "execution_count": 7,
     "metadata": {},
     "output_type": "execute_result"
    },
    {
     "data": {
      "image/png": "[encoded data removed]",
      "text/plain": [
       "<Figure size 432x288 with 1 Axes>"
      ]
     },
     "metadata": {
      "needs_background": "light"
     },
     "output_type": "display_data"
    }
   ],
   "source": [
    "df_pivot_diff.sort_values(\"stamp_2\", ascending = False)[\"stamp_2\"].head(10).plot.barh()"
   ]
  },
  {
   "cell_type": "code",
   "execution_count": null,
   "id": "extra-executive",
   "metadata": {
    "papermill": {
     "duration": 0.026775,
     "end_time": "2021-11-02T03:30:13.176386",
     "exception": false,
     "start_time": "2021-11-02T03:30:13.149611",
     "status": "completed"
    },
    "tags": []
   },
   "outputs": [],
   "source": []
  }
 ],
 "metadata": {
  "kernelspec": {
   "display_name": "Python 3",
   "language": "python",
   "name": "python3"
  },
  "language_info": {
   "codemirror_mode": {
    "name": "ipython",
    "version": 3
   },
   "file_extension": ".py",
   "mimetype": "text/x-python",
   "name": "python",
   "nbconvert_exporter": "python",
   "pygments_lexer": "ipython3",
   "version": "3.9.5"
  },
  "papermill": {
   "default_parameters": {},
   "duration": 10.931107,
   "end_time": "2021-11-02T03:30:16.265336",
   "environment_variables": {},
   "exception": null,
   "input_path": "eBay_Overview.ipynb",
   "output_path": "eBay_Overview.ipynb",
   "parameters": {},
   "start_time": "2021-11-02T03:30:05.334229",
   "version": "2.3.3"
  }
 },
 "nbformat": 4,
 "nbformat_minor": 5
}