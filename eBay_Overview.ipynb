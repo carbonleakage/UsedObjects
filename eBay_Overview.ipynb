{
 "cells": [
  {
   "cell_type": "code",
   "execution_count": 1,
   "id": "reverse-picking",
   "metadata": {
    "execution": {
     "iopub.execute_input": "2021-09-10T10:30:07.188854Z",
     "iopub.status.busy": "2021-09-10T10:30:07.186826Z",
     "iopub.status.idle": "2021-09-10T10:30:08.000720Z",
     "shell.execute_reply": "2021-09-10T10:30:08.001889Z"
    },
    "papermill": {
     "duration": 0.864176,
     "end_time": "2021-09-10T10:30:08.002521",
     "exception": false,
     "start_time": "2021-09-10T10:30:07.138345",
     "status": "completed"
    },
    "tags": []
   },
   "outputs": [],
   "source": [
    "import pandas as pd\n",
    "import sqlite3"
   ]
  },
  {
   "cell_type": "code",
   "execution_count": 2,
   "id": "innovative-syndrome",
   "metadata": {
    "execution": {
     "iopub.execute_input": "2021-09-10T10:30:08.054246Z",
     "iopub.status.busy": "2021-09-10T10:30:08.052385Z",
     "iopub.status.idle": "2021-09-10T10:30:08.304362Z",
     "shell.execute_reply": "2021-09-10T10:30:08.305561Z"
    },
    "papermill": {
     "duration": 0.281738,
     "end_time": "2021-09-10T10:30:08.305967",
     "exception": false,
     "start_time": "2021-09-10T10:30:08.024229",
     "status": "completed"
    },
    "tags": []
   },
   "outputs": [],
   "source": [
    "timestamps = pd.read_sql(\"select distinct record_time from EBAY_TOP_BERLIN order by record_time desc limit 2\", sqlite3.connect(\"UsedObjects.db\"))"
   ]
  },
  {
   "cell_type": "code",
   "execution_count": 3,
   "id": "periodic-identification",
   "metadata": {
    "execution": {
     "iopub.execute_input": "2021-09-10T10:30:08.373695Z",
     "iopub.status.busy": "2021-09-10T10:30:08.368411Z",
     "iopub.status.idle": "2021-09-10T10:30:08.389548Z",
     "shell.execute_reply": "2021-09-10T10:30:08.388216Z"
    },
    "papermill": {
     "duration": 0.064511,
     "end_time": "2021-09-10T10:30:08.389899",
     "exception": false,
     "start_time": "2021-09-10T10:30:08.325388",
     "status": "completed"
    },
    "tags": []
   },
   "outputs": [
    {
     "data": {
      "text/html": [
       "<div>\n",
       "<style scoped>\n",
       "    .dataframe tbody tr th:only-of-type {\n",
       "        vertical-align: middle;\n",
       "    }\n",
       "\n",
       "    .dataframe tbody tr th {\n",
       "        vertical-align: top;\n",
       "    }\n",
       "\n",
       "    .dataframe thead th {\n",
       "        text-align: right;\n",
       "    }\n",
       "</style>\n",
       "<table border=\"1\" class=\"dataframe\">\n",
       "  <thead>\n",
       "    <tr style=\"text-align: right;\">\n",
       "      <th></th>\n",
       "      <th>RECORD_TIME</th>\n",
       "    </tr>\n",
       "  </thead>\n",
       "  <tbody>\n",
       "    <tr>\n",
       "      <th>0</th>\n",
       "      <td>2021-09-10 12:30</td>\n",
       "    </tr>\n",
       "    <tr>\n",
       "      <th>1</th>\n",
       "      <td>2021-09-10 12:00</td>\n",
       "    </tr>\n",
       "  </tbody>\n",
       "</table>\n",
       "</div>"
      ],
      "text/plain": [
       "        RECORD_TIME\n",
       "0  2021-09-10 12:30\n",
       "1  2021-09-10 12:00"
      ]
     },
     "execution_count": 3,
     "metadata": {},
     "output_type": "execute_result"
    }
   ],
   "source": [
    "timestamps"
   ]
  },
  {
   "cell_type": "code",
   "execution_count": 4,
   "id": "alternate-victory",
   "metadata": {
    "execution": {
     "iopub.execute_input": "2021-09-10T10:30:08.441858Z",
     "iopub.status.busy": "2021-09-10T10:30:08.439460Z",
     "iopub.status.idle": "2021-09-10T10:30:08.817517Z",
     "shell.execute_reply": "2021-09-10T10:30:08.818733Z"
    },
    "papermill": {
     "duration": 0.408147,
     "end_time": "2021-09-10T10:30:08.819201",
     "exception": false,
     "start_time": "2021-09-10T10:30:08.411054",
     "status": "completed"
    },
    "tags": []
   },
   "outputs": [],
   "source": [
    "df = pd.read_sql(\"select * from EBAY_TOP_BERLIN where record_time in (select distinct record_time from EBAY_TOP_BERLIN order by record_time desc limit 2)\", sqlite3.connect(\"UsedObjects.db\"))"
   ]
  },
  {
   "cell_type": "code",
   "execution_count": 5,
   "id": "popular-active",
   "metadata": {
    "execution": {
     "iopub.execute_input": "2021-09-10T10:30:08.891423Z",
     "iopub.status.busy": "2021-09-10T10:30:08.880489Z",
     "iopub.status.idle": "2021-09-10T10:30:08.907047Z",
     "shell.execute_reply": "2021-09-10T10:30:08.908354Z"
    },
    "papermill": {
     "duration": 0.067586,
     "end_time": "2021-09-10T10:30:08.908788",
     "exception": false,
     "start_time": "2021-09-10T10:30:08.841202",
     "status": "completed"
    },
    "tags": []
   },
   "outputs": [],
   "source": [
    "df_pivot = df.pivot_table(index=\"PRODUCT\", columns = \"RECORD_TIME\", values = \"LISTING_COUNT\")"
   ]
  },
  {
   "cell_type": "code",
   "execution_count": 6,
   "id": "union-huntington",
   "metadata": {
    "execution": {
     "iopub.execute_input": "2021-09-10T10:30:08.964239Z",
     "iopub.status.busy": "2021-09-10T10:30:08.962214Z",
     "iopub.status.idle": "2021-09-10T10:30:08.968715Z",
     "shell.execute_reply": "2021-09-10T10:30:08.967391Z"
    },
    "papermill": {
     "duration": 0.03997,
     "end_time": "2021-09-10T10:30:08.969062",
     "exception": false,
     "start_time": "2021-09-10T10:30:08.929092",
     "status": "completed"
    },
    "tags": []
   },
   "outputs": [],
   "source": [
    "df_pivot.columns = [\"stamp_1\", \"stamp_2\"]\n",
    "df_pivot_diff = df_pivot.diff(axis=1)"
   ]
  },
  {
   "cell_type": "code",
   "execution_count": 7,
   "id": "fifth-motion",
   "metadata": {
    "execution": {
     "iopub.execute_input": "2021-09-10T10:30:09.023617Z",
     "iopub.status.busy": "2021-09-10T10:30:09.021028Z",
     "iopub.status.idle": "2021-09-10T10:30:10.550144Z",
     "shell.execute_reply": "2021-09-10T10:30:10.551621Z"
    },
    "papermill": {
     "duration": 1.562592,
     "end_time": "2021-09-10T10:30:10.552094",
     "exception": false,
     "start_time": "2021-09-10T10:30:08.989502",
     "status": "completed"
    },
    "tags": []
   },
   "outputs": [
    {
     "data": {
      "text/plain": [
       "<AxesSubplot:ylabel='PRODUCT'>"
      ]
     },
     "execution_count": 7,
     "metadata": {},
     "output_type": "execute_result"
    },
    {
     "data": {
      "image/png": "[encoded data removed]",
      "text/plain": [
       "<Figure size 432x288 with 1 Axes>"
      ]
     },
     "metadata": {
      "needs_background": "light"
     },
     "output_type": "display_data"
    }
   ],
   "source": [
    "df_pivot_diff.sort_values(\"stamp_2\", ascending = False)[\"stamp_2\"].head(10).plot.barh()"
   ]
  },
  {
   "cell_type": "code",
   "execution_count": null,
   "id": "extra-executive",
   "metadata": {
    "papermill": {
     "duration": 0.022331,
     "end_time": "2021-09-10T10:30:10.599341",
     "exception": false,
     "start_time": "2021-09-10T10:30:10.577010",
     "status": "completed"
    },
    "tags": []
   },
   "outputs": [],
   "source": []
  }
 ],
 "metadata": {
  "kernelspec": {
   "display_name": "Python 3",
   "language": "python",
   "name": "python3"
  },
  "language_info": {
   "codemirror_mode": {
    "name": "ipython",
    "version": 3
   },
   "file_extension": ".py",
   "mimetype": "text/x-python",
   "name": "python",
   "nbconvert_exporter": "python",
   "pygments_lexer": "ipython3",
   "version": "3.9.5"
  },
  "papermill": {
   "default_parameters": {},
   "duration": 6.527433,
   "end_time": "2021-09-10T10:30:11.239511",
   "environment_variables": {},
   "exception": null,
   "input_path": "eBay_Overview.ipynb",
   "output_path": "eBay_Overview.ipynb",
   "parameters": {},
   "start_time": "2021-09-10T10:30:04.712078",
   "version": "2.3.3"
  }
 },
 "nbformat": 4,
 "nbformat_minor": 5
}