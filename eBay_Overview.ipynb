{
 "cells": [
  {
   "cell_type": "code",
   "execution_count": 1,
   "id": "reverse-picking",
   "metadata": {
    "execution": {
     "iopub.execute_input": "2021-08-29T21:00:06.654625Z",
     "iopub.status.busy": "2021-08-29T21:00:06.652652Z",
     "iopub.status.idle": "2021-08-29T21:00:07.457149Z",
     "shell.execute_reply": "2021-08-29T21:00:07.455248Z"
    },
    "papermill": {
     "duration": 0.854795,
     "end_time": "2021-08-29T21:00:07.457602",
     "exception": false,
     "start_time": "2021-08-29T21:00:06.602807",
     "status": "completed"
    },
    "tags": []
   },
   "outputs": [],
   "source": [
    "import pandas as pd\n",
    "import sqlite3"
   ]
  },
  {
   "cell_type": "code",
   "execution_count": 2,
   "id": "innovative-syndrome",
   "metadata": {
    "execution": {
     "iopub.execute_input": "2021-08-29T21:00:07.507780Z",
     "iopub.status.busy": "2021-08-29T21:00:07.505735Z",
     "iopub.status.idle": "2021-08-29T21:00:07.667525Z",
     "shell.execute_reply": "2021-08-29T21:00:07.669060Z"
    },
    "papermill": {
     "duration": 0.192383,
     "end_time": "2021-08-29T21:00:07.669495",
     "exception": false,
     "start_time": "2021-08-29T21:00:07.477112",
     "status": "completed"
    },
    "tags": []
   },
   "outputs": [],
   "source": [
    "timestamps = pd.read_sql(\"select distinct record_time from EBAY_TOP_BERLIN order by record_time desc limit 2\", sqlite3.connect(\"UsedObjects.db\"))"
   ]
  },
  {
   "cell_type": "code",
   "execution_count": 3,
   "id": "periodic-identification",
   "metadata": {
    "execution": {
     "iopub.execute_input": "2021-08-29T21:00:07.734560Z",
     "iopub.status.busy": "2021-08-29T21:00:07.732543Z",
     "iopub.status.idle": "2021-08-29T21:00:07.753081Z",
     "shell.execute_reply": "2021-08-29T21:00:07.754443Z"
    },
    "papermill": {
     "duration": 0.066181,
     "end_time": "2021-08-29T21:00:07.754860",
     "exception": false,
     "start_time": "2021-08-29T21:00:07.688679",
     "status": "completed"
    },
    "tags": []
   },
   "outputs": [
    {
     "data": {
      "text/html": [
       "<div>\n",
       "<style scoped>\n",
       "    .dataframe tbody tr th:only-of-type {\n",
       "        vertical-align: middle;\n",
       "    }\n",
       "\n",
       "    .dataframe tbody tr th {\n",
       "        vertical-align: top;\n",
       "    }\n",
       "\n",
       "    .dataframe thead th {\n",
       "        text-align: right;\n",
       "    }\n",
       "</style>\n",
       "<table border=\"1\" class=\"dataframe\">\n",
       "  <thead>\n",
       "    <tr style=\"text-align: right;\">\n",
       "      <th></th>\n",
       "      <th>RECORD_TIME</th>\n",
       "    </tr>\n",
       "  </thead>\n",
       "  <tbody>\n",
       "    <tr>\n",
       "      <th>0</th>\n",
       "      <td>2021-08-29 23:00</td>\n",
       "    </tr>\n",
       "    <tr>\n",
       "      <th>1</th>\n",
       "      <td>2021-08-29 22:30</td>\n",
       "    </tr>\n",
       "  </tbody>\n",
       "</table>\n",
       "</div>"
      ],
      "text/plain": [
       "        RECORD_TIME\n",
       "0  2021-08-29 23:00\n",
       "1  2021-08-29 22:30"
      ]
     },
     "execution_count": 3,
     "metadata": {},
     "output_type": "execute_result"
    }
   ],
   "source": [
    "timestamps"
   ]
  },
  {
   "cell_type": "code",
   "execution_count": 4,
   "id": "alternate-victory",
   "metadata": {
    "execution": {
     "iopub.execute_input": "2021-08-29T21:00:07.805318Z",
     "iopub.status.busy": "2021-08-29T21:00:07.803365Z",
     "iopub.status.idle": "2021-08-29T21:00:08.049548Z",
     "shell.execute_reply": "2021-08-29T21:00:08.050819Z"
    },
    "papermill": {
     "duration": 0.27594,
     "end_time": "2021-08-29T21:00:08.051216",
     "exception": false,
     "start_time": "2021-08-29T21:00:07.775276",
     "status": "completed"
    },
    "tags": []
   },
   "outputs": [],
   "source": [
    "df = pd.read_sql(\"select * from EBAY_TOP_BERLIN where record_time in (select distinct record_time from EBAY_TOP_BERLIN order by record_time desc limit 2)\", sqlite3.connect(\"UsedObjects.db\"))"
   ]
  },
  {
   "cell_type": "code",
   "execution_count": 5,
   "id": "popular-active",
   "metadata": {
    "execution": {
     "iopub.execute_input": "2021-08-29T21:00:08.146301Z",
     "iopub.status.busy": "2021-08-29T21:00:08.134786Z",
     "iopub.status.idle": "2021-08-29T21:00:08.161789Z",
     "shell.execute_reply": "2021-08-29T21:00:08.163000Z"
    },
    "papermill": {
     "duration": 0.073242,
     "end_time": "2021-08-29T21:00:08.163393",
     "exception": false,
     "start_time": "2021-08-29T21:00:08.090151",
     "status": "completed"
    },
    "tags": []
   },
   "outputs": [],
   "source": [
    "df_pivot = df.pivot_table(index=\"PRODUCT\", columns = \"RECORD_TIME\", values = \"LISTING_COUNT\")"
   ]
  },
  {
   "cell_type": "code",
   "execution_count": 6,
   "id": "union-huntington",
   "metadata": {
    "execution": {
     "iopub.execute_input": "2021-08-29T21:00:08.219264Z",
     "iopub.status.busy": "2021-08-29T21:00:08.217198Z",
     "iopub.status.idle": "2021-08-29T21:00:08.222416Z",
     "shell.execute_reply": "2021-08-29T21:00:08.223703Z"
    },
    "papermill": {
     "duration": 0.040165,
     "end_time": "2021-08-29T21:00:08.224117",
     "exception": false,
     "start_time": "2021-08-29T21:00:08.183952",
     "status": "completed"
    },
    "tags": []
   },
   "outputs": [],
   "source": [
    "df_pivot.columns = [\"stamp_1\", \"stamp_2\"]\n",
    "df_pivot_diff = df_pivot.diff(axis=1)"
   ]
  },
  {
   "cell_type": "code",
   "execution_count": 7,
   "id": "fifth-motion",
   "metadata": {
    "execution": {
     "iopub.execute_input": "2021-08-29T21:00:08.278089Z",
     "iopub.status.busy": "2021-08-29T21:00:08.275567Z",
     "iopub.status.idle": "2021-08-29T21:00:09.765452Z",
     "shell.execute_reply": "2021-08-29T21:00:09.766753Z"
    },
    "papermill": {
     "duration": 1.522624,
     "end_time": "2021-08-29T21:00:09.767174",
     "exception": false,
     "start_time": "2021-08-29T21:00:08.244550",
     "status": "completed"
    },
    "tags": []
   },
   "outputs": [
    {
     "data": {
      "text/plain": [
       "<AxesSubplot:ylabel='PRODUCT'>"
      ]
     },
     "execution_count": 7,
     "metadata": {},
     "output_type": "execute_result"
    },
    {
     "data": {
      "image/png": "[encoded data removed]",
      "text/plain": [
       "<Figure size 432x288 with 1 Axes>"
      ]
     },
     "metadata": {
      "needs_background": "light"
     },
     "output_type": "display_data"
    }
   ],
   "source": [
    "df_pivot_diff.sort_values(\"stamp_2\", ascending = False)[\"stamp_2\"].head(10).plot.barh()"
   ]
  },
  {
   "cell_type": "code",
   "execution_count": null,
   "id": "extra-executive",
   "metadata": {
    "papermill": {
     "duration": 0.02196,
     "end_time": "2021-08-29T21:00:09.813330",
     "exception": false,
     "start_time": "2021-08-29T21:00:09.791370",
     "status": "completed"
    },
    "tags": []
   },
   "outputs": [],
   "source": []
  }
 ],
 "metadata": {
  "kernelspec": {
   "display_name": "Python 3",
   "language": "python",
   "name": "python3"
  },
  "language_info": {
   "codemirror_mode": {
    "name": "ipython",
    "version": 3
   },
   "file_extension": ".py",
   "mimetype": "text/x-python",
   "name": "python",
   "nbconvert_exporter": "python",
   "pygments_lexer": "ipython3",
   "version": "3.9.5"
  },
  "papermill": {
   "default_parameters": {},
   "duration": 6.821161,
   "end_time": "2021-08-29T21:00:11.013870",
   "environment_variables": {},
   "exception": null,
   "input_path": "eBay_Overview.ipynb",
   "output_path": "eBay_Overview.ipynb",
   "parameters": {},
   "start_time": "2021-08-29T21:00:04.192709",
   "version": "2.3.3"
  }
 },
 "nbformat": 4,
 "nbformat_minor": 5
}