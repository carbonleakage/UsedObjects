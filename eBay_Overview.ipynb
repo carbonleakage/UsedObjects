{
 "cells": [
  {
   "cell_type": "code",
   "execution_count": 1,
   "id": "reverse-picking",
   "metadata": {
    "execution": {
     "iopub.execute_input": "2021-09-29T11:00:07.300929Z",
     "iopub.status.busy": "2021-09-29T11:00:07.298928Z",
     "iopub.status.idle": "2021-09-29T11:00:08.107273Z",
     "shell.execute_reply": "2021-09-29T11:00:08.105477Z"
    },
    "papermill": {
     "duration": 0.857865,
     "end_time": "2021-09-29T11:00:08.107702",
     "exception": false,
     "start_time": "2021-09-29T11:00:07.249837",
     "status": "completed"
    },
    "tags": []
   },
   "outputs": [],
   "source": [
    "import pandas as pd\n",
    "import sqlite3"
   ]
  },
  {
   "cell_type": "code",
   "execution_count": 2,
   "id": "innovative-syndrome",
   "metadata": {
    "execution": {
     "iopub.execute_input": "2021-09-29T11:00:08.161108Z",
     "iopub.status.busy": "2021-09-29T11:00:08.158877Z",
     "iopub.status.idle": "2021-09-29T11:00:08.561717Z",
     "shell.execute_reply": "2021-09-29T11:00:08.563008Z"
    },
    "papermill": {
     "duration": 0.433155,
     "end_time": "2021-09-29T11:00:08.563453",
     "exception": false,
     "start_time": "2021-09-29T11:00:08.130298",
     "status": "completed"
    },
    "tags": []
   },
   "outputs": [],
   "source": [
    "timestamps = pd.read_sql(\"select distinct record_time from EBAY_TOP_BERLIN order by record_time desc limit 2\", sqlite3.connect(\"UsedObjects.db\"))"
   ]
  },
  {
   "cell_type": "code",
   "execution_count": 3,
   "id": "periodic-identification",
   "metadata": {
    "execution": {
     "iopub.execute_input": "2021-09-29T11:00:08.631771Z",
     "iopub.status.busy": "2021-09-29T11:00:08.629649Z",
     "iopub.status.idle": "2021-09-29T11:00:08.650210Z",
     "shell.execute_reply": "2021-09-29T11:00:08.651570Z"
    },
    "papermill": {
     "duration": 0.067429,
     "end_time": "2021-09-29T11:00:08.651989",
     "exception": false,
     "start_time": "2021-09-29T11:00:08.584560",
     "status": "completed"
    },
    "tags": []
   },
   "outputs": [
    {
     "data": {
      "text/html": [
       "<div>\n",
       "<style scoped>\n",
       "    .dataframe tbody tr th:only-of-type {\n",
       "        vertical-align: middle;\n",
       "    }\n",
       "\n",
       "    .dataframe tbody tr th {\n",
       "        vertical-align: top;\n",
       "    }\n",
       "\n",
       "    .dataframe thead th {\n",
       "        text-align: right;\n",
       "    }\n",
       "</style>\n",
       "<table border=\"1\" class=\"dataframe\">\n",
       "  <thead>\n",
       "    <tr style=\"text-align: right;\">\n",
       "      <th></th>\n",
       "      <th>RECORD_TIME</th>\n",
       "    </tr>\n",
       "  </thead>\n",
       "  <tbody>\n",
       "    <tr>\n",
       "      <th>0</th>\n",
       "      <td>2021-09-29 13:00</td>\n",
       "    </tr>\n",
       "    <tr>\n",
       "      <th>1</th>\n",
       "      <td>2021-09-29 12:30</td>\n",
       "    </tr>\n",
       "  </tbody>\n",
       "</table>\n",
       "</div>"
      ],
      "text/plain": [
       "        RECORD_TIME\n",
       "0  2021-09-29 13:00\n",
       "1  2021-09-29 12:30"
      ]
     },
     "execution_count": 3,
     "metadata": {},
     "output_type": "execute_result"
    }
   ],
   "source": [
    "timestamps"
   ]
  },
  {
   "cell_type": "code",
   "execution_count": 4,
   "id": "alternate-victory",
   "metadata": {
    "execution": {
     "iopub.execute_input": "2021-09-29T11:00:08.705119Z",
     "iopub.status.busy": "2021-09-29T11:00:08.702958Z",
     "iopub.status.idle": "2021-09-29T11:00:09.294980Z",
     "shell.execute_reply": "2021-09-29T11:00:09.296242Z"
    },
    "papermill": {
     "duration": 0.62243,
     "end_time": "2021-09-29T11:00:09.296638",
     "exception": false,
     "start_time": "2021-09-29T11:00:08.674208",
     "status": "completed"
    },
    "tags": []
   },
   "outputs": [],
   "source": [
    "df = pd.read_sql(\"select * from EBAY_TOP_BERLIN where record_time in (select distinct record_time from EBAY_TOP_BERLIN order by record_time desc limit 2)\", sqlite3.connect(\"UsedObjects.db\"))"
   ]
  },
  {
   "cell_type": "code",
   "execution_count": 5,
   "id": "popular-active",
   "metadata": {
    "execution": {
     "iopub.execute_input": "2021-09-29T11:00:09.377117Z",
     "iopub.status.busy": "2021-09-29T11:00:09.365817Z",
     "iopub.status.idle": "2021-09-29T11:00:09.394033Z",
     "shell.execute_reply": "2021-09-29T11:00:09.395468Z"
    },
    "papermill": {
     "duration": 0.072376,
     "end_time": "2021-09-29T11:00:09.395885",
     "exception": false,
     "start_time": "2021-09-29T11:00:09.323509",
     "status": "completed"
    },
    "tags": []
   },
   "outputs": [],
   "source": [
    "df_pivot = df.pivot_table(index=\"PRODUCT\", columns = \"RECORD_TIME\", values = \"LISTING_COUNT\")"
   ]
  },
  {
   "cell_type": "code",
   "execution_count": 6,
   "id": "union-huntington",
   "metadata": {
    "execution": {
     "iopub.execute_input": "2021-09-29T11:00:09.454585Z",
     "iopub.status.busy": "2021-09-29T11:00:09.452296Z",
     "iopub.status.idle": "2021-09-29T11:00:09.458053Z",
     "shell.execute_reply": "2021-09-29T11:00:09.459417Z"
    },
    "papermill": {
     "duration": 0.042276,
     "end_time": "2021-09-29T11:00:09.459838",
     "exception": false,
     "start_time": "2021-09-29T11:00:09.417562",
     "status": "completed"
    },
    "tags": []
   },
   "outputs": [],
   "source": [
    "df_pivot.columns = [\"stamp_1\", \"stamp_2\"]\n",
    "df_pivot_diff = df_pivot.diff(axis=1)"
   ]
  },
  {
   "cell_type": "code",
   "execution_count": 7,
   "id": "fifth-motion",
   "metadata": {
    "execution": {
     "iopub.execute_input": "2021-09-29T11:00:09.514191Z",
     "iopub.status.busy": "2021-09-29T11:00:09.511994Z",
     "iopub.status.idle": "2021-09-29T11:00:11.009723Z",
     "shell.execute_reply": "2021-09-29T11:00:11.011661Z"
    },
    "papermill": {
     "duration": 1.531268,
     "end_time": "2021-09-29T11:00:11.012119",
     "exception": false,
     "start_time": "2021-09-29T11:00:09.480851",
     "status": "completed"
    },
    "tags": []
   },
   "outputs": [
    {
     "data": {
      "text/plain": [
       "<AxesSubplot:ylabel='PRODUCT'>"
      ]
     },
     "execution_count": 7,
     "metadata": {},
     "output_type": "execute_result"
    },
    {
     "data": {
      "image/png": "[encoded data removed]",
      "text/plain": [
       "<Figure size 432x288 with 1 Axes>"
      ]
     },
     "metadata": {
      "needs_background": "light"
     },
     "output_type": "display_data"
    }
   ],
   "source": [
    "df_pivot_diff.sort_values(\"stamp_2\", ascending = False)[\"stamp_2\"].head(10).plot.barh()"
   ]
  },
  {
   "cell_type": "code",
   "execution_count": null,
   "id": "extra-executive",
   "metadata": {
    "papermill": {
     "duration": 0.022604,
     "end_time": "2021-09-29T11:00:11.060971",
     "exception": false,
     "start_time": "2021-09-29T11:00:11.038367",
     "status": "completed"
    },
    "tags": []
   },
   "outputs": [],
   "source": []
  }
 ],
 "metadata": {
  "kernelspec": {
   "display_name": "Python 3",
   "language": "python",
   "name": "python3"
  },
  "language_info": {
   "codemirror_mode": {
    "name": "ipython",
    "version": 3
   },
   "file_extension": ".py",
   "mimetype": "text/x-python",
   "name": "python",
   "nbconvert_exporter": "python",
   "pygments_lexer": "ipython3",
   "version": "3.9.5"
  },
  "papermill": {
   "default_parameters": {},
   "duration": 7.829971,
   "end_time": "2021-09-29T11:00:12.674340",
   "environment_variables": {},
   "exception": null,
   "input_path": "eBay_Overview.ipynb",
   "output_path": "eBay_Overview.ipynb",
   "parameters": {},
   "start_time": "2021-09-29T11:00:04.844369",
   "version": "2.3.3"
  }
 },
 "nbformat": 4,
 "nbformat_minor": 5
}