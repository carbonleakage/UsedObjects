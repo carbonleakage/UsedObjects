{
 "cells": [
  {
   "cell_type": "code",
   "execution_count": 1,
   "id": "reverse-picking",
   "metadata": {
    "execution": {
     "iopub.execute_input": "2021-10-12T19:30:06.714338Z",
     "iopub.status.busy": "2021-10-12T19:30:06.712288Z",
     "iopub.status.idle": "2021-10-12T19:30:07.515481Z",
     "shell.execute_reply": "2021-10-12T19:30:07.516892Z"
    },
    "papermill": {
     "duration": 0.855476,
     "end_time": "2021-10-12T19:30:07.517569",
     "exception": false,
     "start_time": "2021-10-12T19:30:06.662093",
     "status": "completed"
    },
    "tags": []
   },
   "outputs": [],
   "source": [
    "import pandas as pd\n",
    "import sqlite3"
   ]
  },
  {
   "cell_type": "code",
   "execution_count": 2,
   "id": "innovative-syndrome",
   "metadata": {
    "execution": {
     "iopub.execute_input": "2021-10-12T19:30:07.567266Z",
     "iopub.status.busy": "2021-10-12T19:30:07.565397Z",
     "iopub.status.idle": "2021-10-12T19:30:08.081312Z",
     "shell.execute_reply": "2021-10-12T19:30:08.079580Z"
    },
    "papermill": {
     "duration": 0.544015,
     "end_time": "2021-10-12T19:30:08.081663",
     "exception": false,
     "start_time": "2021-10-12T19:30:07.537648",
     "status": "completed"
    },
    "tags": []
   },
   "outputs": [],
   "source": [
    "timestamps = pd.read_sql(\"select distinct record_time from EBAY_TOP_BERLIN order by record_time desc limit 2\", sqlite3.connect(\"UsedObjects.db\"))"
   ]
  },
  {
   "cell_type": "code",
   "execution_count": 3,
   "id": "periodic-identification",
   "metadata": {
    "execution": {
     "iopub.execute_input": "2021-10-12T19:30:08.146346Z",
     "iopub.status.busy": "2021-10-12T19:30:08.144038Z",
     "iopub.status.idle": "2021-10-12T19:30:08.163744Z",
     "shell.execute_reply": "2021-10-12T19:30:08.165072Z"
    },
    "papermill": {
     "duration": 0.06382,
     "end_time": "2021-10-12T19:30:08.165503",
     "exception": false,
     "start_time": "2021-10-12T19:30:08.101683",
     "status": "completed"
    },
    "tags": []
   },
   "outputs": [
    {
     "data": {
      "text/html": [
       "<div>\n",
       "<style scoped>\n",
       "    .dataframe tbody tr th:only-of-type {\n",
       "        vertical-align: middle;\n",
       "    }\n",
       "\n",
       "    .dataframe tbody tr th {\n",
       "        vertical-align: top;\n",
       "    }\n",
       "\n",
       "    .dataframe thead th {\n",
       "        text-align: right;\n",
       "    }\n",
       "</style>\n",
       "<table border=\"1\" class=\"dataframe\">\n",
       "  <thead>\n",
       "    <tr style=\"text-align: right;\">\n",
       "      <th></th>\n",
       "      <th>RECORD_TIME</th>\n",
       "    </tr>\n",
       "  </thead>\n",
       "  <tbody>\n",
       "    <tr>\n",
       "      <th>0</th>\n",
       "      <td>2021-10-12 21:30</td>\n",
       "    </tr>\n",
       "    <tr>\n",
       "      <th>1</th>\n",
       "      <td>2021-10-12 21:00</td>\n",
       "    </tr>\n",
       "  </tbody>\n",
       "</table>\n",
       "</div>"
      ],
      "text/plain": [
       "        RECORD_TIME\n",
       "0  2021-10-12 21:30\n",
       "1  2021-10-12 21:00"
      ]
     },
     "execution_count": 3,
     "metadata": {},
     "output_type": "execute_result"
    }
   ],
   "source": [
    "timestamps"
   ]
  },
  {
   "cell_type": "code",
   "execution_count": 4,
   "id": "alternate-victory",
   "metadata": {
    "execution": {
     "iopub.execute_input": "2021-10-12T19:30:08.229359Z",
     "iopub.status.busy": "2021-10-12T19:30:08.226889Z",
     "iopub.status.idle": "2021-10-12T19:30:09.015182Z",
     "shell.execute_reply": "2021-10-12T19:30:09.013650Z"
    },
    "papermill": {
     "duration": 0.821332,
     "end_time": "2021-10-12T19:30:09.015553",
     "exception": false,
     "start_time": "2021-10-12T19:30:08.194221",
     "status": "completed"
    },
    "tags": []
   },
   "outputs": [],
   "source": [
    "df = pd.read_sql(\"select * from EBAY_TOP_BERLIN where record_time in (select distinct record_time from EBAY_TOP_BERLIN order by record_time desc limit 2)\", sqlite3.connect(\"UsedObjects.db\"))"
   ]
  },
  {
   "cell_type": "code",
   "execution_count": 5,
   "id": "popular-active",
   "metadata": {
    "execution": {
     "iopub.execute_input": "2021-10-12T19:30:09.086486Z",
     "iopub.status.busy": "2021-10-12T19:30:09.074958Z",
     "iopub.status.idle": "2021-10-12T19:30:09.103093Z",
     "shell.execute_reply": "2021-10-12T19:30:09.104549Z"
    },
    "papermill": {
     "duration": 0.068893,
     "end_time": "2021-10-12T19:30:09.105208",
     "exception": false,
     "start_time": "2021-10-12T19:30:09.036315",
     "status": "completed"
    },
    "tags": []
   },
   "outputs": [],
   "source": [
    "df_pivot = df.pivot_table(index=\"PRODUCT\", columns = \"RECORD_TIME\", values = \"LISTING_COUNT\")"
   ]
  },
  {
   "cell_type": "code",
   "execution_count": 6,
   "id": "union-huntington",
   "metadata": {
    "execution": {
     "iopub.execute_input": "2021-10-12T19:30:09.164031Z",
     "iopub.status.busy": "2021-10-12T19:30:09.161833Z",
     "iopub.status.idle": "2021-10-12T19:30:09.167406Z",
     "shell.execute_reply": "2021-10-12T19:30:09.168669Z"
    },
    "papermill": {
     "duration": 0.04158,
     "end_time": "2021-10-12T19:30:09.169139",
     "exception": false,
     "start_time": "2021-10-12T19:30:09.127559",
     "status": "completed"
    },
    "tags": []
   },
   "outputs": [],
   "source": [
    "df_pivot.columns = [\"stamp_1\", \"stamp_2\"]\n",
    "df_pivot_diff = df_pivot.diff(axis=1)"
   ]
  },
  {
   "cell_type": "code",
   "execution_count": 7,
   "id": "fifth-motion",
   "metadata": {
    "execution": {
     "iopub.execute_input": "2021-10-12T19:30:09.224068Z",
     "iopub.status.busy": "2021-10-12T19:30:09.221674Z",
     "iopub.status.idle": "2021-10-12T19:30:10.735535Z",
     "shell.execute_reply": "2021-10-12T19:30:10.736789Z"
    },
    "papermill": {
     "duration": 1.546715,
     "end_time": "2021-10-12T19:30:10.737220",
     "exception": false,
     "start_time": "2021-10-12T19:30:09.190505",
     "status": "completed"
    },
    "tags": []
   },
   "outputs": [
    {
     "data": {
      "text/plain": [
       "<AxesSubplot:ylabel='PRODUCT'>"
      ]
     },
     "execution_count": 7,
     "metadata": {},
     "output_type": "execute_result"
    },
    {
     "data": {
      "image/png": "[encoded data removed]",
      "text/plain": [
       "<Figure size 432x288 with 1 Axes>"
      ]
     },
     "metadata": {
      "needs_background": "light"
     },
     "output_type": "display_data"
    }
   ],
   "source": [
    "df_pivot_diff.sort_values(\"stamp_2\", ascending = False)[\"stamp_2\"].head(10).plot.barh()"
   ]
  },
  {
   "cell_type": "code",
   "execution_count": null,
   "id": "extra-executive",
   "metadata": {
    "papermill": {
     "duration": 0.02214,
     "end_time": "2021-10-12T19:30:10.784908",
     "exception": false,
     "start_time": "2021-10-12T19:30:10.762768",
     "status": "completed"
    },
    "tags": []
   },
   "outputs": [],
   "source": []
  }
 ],
 "metadata": {
  "kernelspec": {
   "display_name": "Python 3",
   "language": "python",
   "name": "python3"
  },
  "language_info": {
   "codemirror_mode": {
    "name": "ipython",
    "version": 3
   },
   "file_extension": ".py",
   "mimetype": "text/x-python",
   "name": "python",
   "nbconvert_exporter": "python",
   "pygments_lexer": "ipython3",
   "version": "3.9.5"
  },
  "papermill": {
   "default_parameters": {},
   "duration": 7.821322,
   "end_time": "2021-10-12T19:30:12.081689",
   "environment_variables": {},
   "exception": null,
   "input_path": "eBay_Overview.ipynb",
   "output_path": "eBay_Overview.ipynb",
   "parameters": {},
   "start_time": "2021-10-12T19:30:04.260367",
   "version": "2.3.3"
  }
 },
 "nbformat": 4,
 "nbformat_minor": 5
}