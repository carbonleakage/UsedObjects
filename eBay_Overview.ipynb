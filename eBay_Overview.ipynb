{
 "cells": [
  {
   "cell_type": "code",
   "execution_count": 1,
   "id": "reverse-picking",
   "metadata": {
    "execution": {
     "iopub.execute_input": "2021-12-19T10:00:07.536877Z",
     "iopub.status.busy": "2021-12-19T10:00:07.534881Z",
     "iopub.status.idle": "2021-12-19T10:00:08.491318Z",
     "shell.execute_reply": "2021-12-19T10:00:08.494219Z"
    },
    "papermill": {
     "duration": 1.019397,
     "end_time": "2021-12-19T10:00:08.495540",
     "exception": false,
     "start_time": "2021-12-19T10:00:07.476143",
     "status": "completed"
    },
    "tags": []
   },
   "outputs": [],
   "source": [
    "import pandas as pd\n",
    "import sqlite3"
   ]
  },
  {
   "cell_type": "code",
   "execution_count": 2,
   "id": "innovative-syndrome",
   "metadata": {
    "execution": {
     "iopub.execute_input": "2021-12-19T10:00:08.568176Z",
     "iopub.status.busy": "2021-12-19T10:00:08.565979Z",
     "iopub.status.idle": "2021-12-19T10:00:09.709931Z",
     "shell.execute_reply": "2021-12-19T10:00:09.711530Z"
    },
    "papermill": {
     "duration": 1.178536,
     "end_time": "2021-12-19T10:00:09.712143",
     "exception": false,
     "start_time": "2021-12-19T10:00:08.533607",
     "status": "completed"
    },
    "tags": []
   },
   "outputs": [],
   "source": [
    "timestamps = pd.read_sql(\"select distinct record_time from EBAY_TOP_BERLIN order by record_time desc limit 2\", sqlite3.connect(\"UsedObjects.db\"))"
   ]
  },
  {
   "cell_type": "code",
   "execution_count": 3,
   "id": "periodic-identification",
   "metadata": {
    "execution": {
     "iopub.execute_input": "2021-12-19T10:00:09.773079Z",
     "iopub.status.busy": "2021-12-19T10:00:09.758643Z",
     "iopub.status.idle": "2021-12-19T10:00:09.801660Z",
     "shell.execute_reply": "2021-12-19T10:00:09.804038Z"
    },
    "papermill": {
     "duration": 0.072841,
     "end_time": "2021-12-19T10:00:09.804531",
     "exception": false,
     "start_time": "2021-12-19T10:00:09.731690",
     "status": "completed"
    },
    "tags": []
   },
   "outputs": [
    {
     "data": {
      "text/html": [
       "<div>\n",
       "<style scoped>\n",
       "    .dataframe tbody tr th:only-of-type {\n",
       "        vertical-align: middle;\n",
       "    }\n",
       "\n",
       "    .dataframe tbody tr th {\n",
       "        vertical-align: top;\n",
       "    }\n",
       "\n",
       "    .dataframe thead th {\n",
       "        text-align: right;\n",
       "    }\n",
       "</style>\n",
       "<table border=\"1\" class=\"dataframe\">\n",
       "  <thead>\n",
       "    <tr style=\"text-align: right;\">\n",
       "      <th></th>\n",
       "      <th>RECORD_TIME</th>\n",
       "    </tr>\n",
       "  </thead>\n",
       "  <tbody>\n",
       "    <tr>\n",
       "      <th>0</th>\n",
       "      <td>2021-12-19 11:00</td>\n",
       "    </tr>\n",
       "    <tr>\n",
       "      <th>1</th>\n",
       "      <td>2021-12-19 10:30</td>\n",
       "    </tr>\n",
       "  </tbody>\n",
       "</table>\n",
       "</div>"
      ],
      "text/plain": [
       "        RECORD_TIME\n",
       "0  2021-12-19 11:00\n",
       "1  2021-12-19 10:30"
      ]
     },
     "execution_count": 3,
     "metadata": {},
     "output_type": "execute_result"
    }
   ],
   "source": [
    "timestamps"
   ]
  },
  {
   "cell_type": "code",
   "execution_count": 4,
   "id": "alternate-victory",
   "metadata": {
    "execution": {
     "iopub.execute_input": "2021-12-19T10:00:09.860257Z",
     "iopub.status.busy": "2021-12-19T10:00:09.858095Z",
     "iopub.status.idle": "2021-12-19T10:00:11.483944Z",
     "shell.execute_reply": "2021-12-19T10:00:11.485408Z"
    },
    "papermill": {
     "duration": 1.660111,
     "end_time": "2021-12-19T10:00:11.485893",
     "exception": false,
     "start_time": "2021-12-19T10:00:09.825782",
     "status": "completed"
    },
    "tags": []
   },
   "outputs": [],
   "source": [
    "df = pd.read_sql(\"select * from EBAY_TOP_BERLIN where record_time in (select distinct record_time from EBAY_TOP_BERLIN order by record_time desc limit 2)\", sqlite3.connect(\"UsedObjects.db\"))"
   ]
  },
  {
   "cell_type": "code",
   "execution_count": 5,
   "id": "popular-active",
   "metadata": {
    "execution": {
     "iopub.execute_input": "2021-12-19T10:00:11.569662Z",
     "iopub.status.busy": "2021-12-19T10:00:11.553259Z",
     "iopub.status.idle": "2021-12-19T10:00:11.588054Z",
     "shell.execute_reply": "2021-12-19T10:00:11.589491Z"
    },
    "papermill": {
     "duration": 0.08111,
     "end_time": "2021-12-19T10:00:11.589971",
     "exception": false,
     "start_time": "2021-12-19T10:00:11.508861",
     "status": "completed"
    },
    "tags": []
   },
   "outputs": [],
   "source": [
    "df_pivot = df.pivot_table(index=\"PRODUCT\", columns = \"RECORD_TIME\", values = \"LISTING_COUNT\")"
   ]
  },
  {
   "cell_type": "code",
   "execution_count": 6,
   "id": "union-huntington",
   "metadata": {
    "execution": {
     "iopub.execute_input": "2021-12-19T10:00:11.649337Z",
     "iopub.status.busy": "2021-12-19T10:00:11.647028Z",
     "iopub.status.idle": "2021-12-19T10:00:11.652232Z",
     "shell.execute_reply": "2021-12-19T10:00:11.653921Z"
    },
    "papermill": {
     "duration": 0.044035,
     "end_time": "2021-12-19T10:00:11.654403",
     "exception": false,
     "start_time": "2021-12-19T10:00:11.610368",
     "status": "completed"
    },
    "tags": []
   },
   "outputs": [],
   "source": [
    "df_pivot.columns = [\"stamp_1\", \"stamp_2\"]\n",
    "df_pivot_diff = df_pivot.diff(axis=1)"
   ]
  },
  {
   "cell_type": "code",
   "execution_count": 7,
   "id": "fifth-motion",
   "metadata": {
    "execution": {
     "iopub.execute_input": "2021-12-19T10:00:11.712311Z",
     "iopub.status.busy": "2021-12-19T10:00:11.709772Z",
     "iopub.status.idle": "2021-12-19T10:00:13.701773Z",
     "shell.execute_reply": "2021-12-19T10:00:13.703216Z"
    },
    "papermill": {
     "duration": 2.028592,
     "end_time": "2021-12-19T10:00:13.703656",
     "exception": false,
     "start_time": "2021-12-19T10:00:11.675064",
     "status": "completed"
    },
    "tags": []
   },
   "outputs": [
    {
     "data": {
      "text/plain": [
       "<AxesSubplot:ylabel='PRODUCT'>"
      ]
     },
     "execution_count": 7,
     "metadata": {},
     "output_type": "execute_result"
    },
    {
     "data": {
      "image/png": "[encoded data removed]",
      "text/plain": [
       "<Figure size 432x288 with 1 Axes>"
      ]
     },
     "metadata": {
      "needs_background": "light"
     },
     "output_type": "display_data"
    }
   ],
   "source": [
    "df_pivot_diff.sort_values(\"stamp_2\", ascending = False)[\"stamp_2\"].head(10).plot.barh()"
   ]
  },
  {
   "cell_type": "code",
   "execution_count": null,
   "id": "extra-executive",
   "metadata": {
    "papermill": {
     "duration": 0.022133,
     "end_time": "2021-12-19T10:00:13.750095",
     "exception": false,
     "start_time": "2021-12-19T10:00:13.727962",
     "status": "completed"
    },
    "tags": []
   },
   "outputs": [],
   "source": []
  }
 ],
 "metadata": {
  "kernelspec": {
   "display_name": "Python 3",
   "language": "python",
   "name": "python3"
  },
  "language_info": {
   "codemirror_mode": {
    "name": "ipython",
    "version": 3
   },
   "file_extension": ".py",
   "mimetype": "text/x-python",
   "name": "python",
   "nbconvert_exporter": "python",
   "pygments_lexer": "ipython3",
   "version": "3.9.5"
  },
  "papermill": {
   "default_parameters": {},
   "duration": 9.672543,
   "end_time": "2021-12-19T10:00:14.401396",
   "environment_variables": {},
   "exception": null,
   "input_path": "eBay_Overview.ipynb",
   "output_path": "eBay_Overview.ipynb",
   "parameters": {},
   "start_time": "2021-12-19T10:00:04.728853",
   "version": "2.3.3"
  }
 },
 "nbformat": 4,
 "nbformat_minor": 5
}