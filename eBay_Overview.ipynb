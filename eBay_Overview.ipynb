{
 "cells": [
  {
   "cell_type": "code",
   "execution_count": 1,
   "id": "reverse-picking",
   "metadata": {
    "execution": {
     "iopub.execute_input": "2021-10-29T07:00:07.584441Z",
     "iopub.status.busy": "2021-10-29T07:00:07.582529Z",
     "iopub.status.idle": "2021-10-29T07:00:08.386792Z",
     "shell.execute_reply": "2021-10-29T07:00:08.388114Z"
    },
    "papermill": {
     "duration": 0.856409,
     "end_time": "2021-10-29T07:00:08.388830",
     "exception": false,
     "start_time": "2021-10-29T07:00:07.532421",
     "status": "completed"
    },
    "tags": []
   },
   "outputs": [],
   "source": [
    "import pandas as pd\n",
    "import sqlite3"
   ]
  },
  {
   "cell_type": "code",
   "execution_count": 2,
   "id": "innovative-syndrome",
   "metadata": {
    "execution": {
     "iopub.execute_input": "2021-10-29T07:00:08.439894Z",
     "iopub.status.busy": "2021-10-29T07:00:08.437741Z",
     "iopub.status.idle": "2021-10-29T07:00:09.089495Z",
     "shell.execute_reply": "2021-10-29T07:00:09.090720Z"
    },
    "papermill": {
     "duration": 0.682033,
     "end_time": "2021-10-29T07:00:09.091114",
     "exception": false,
     "start_time": "2021-10-29T07:00:08.409081",
     "status": "completed"
    },
    "tags": []
   },
   "outputs": [],
   "source": [
    "timestamps = pd.read_sql(\"select distinct record_time from EBAY_TOP_BERLIN order by record_time desc limit 2\", sqlite3.connect(\"UsedObjects.db\"))"
   ]
  },
  {
   "cell_type": "code",
   "execution_count": 3,
   "id": "periodic-identification",
   "metadata": {
    "execution": {
     "iopub.execute_input": "2021-10-29T07:00:09.227466Z",
     "iopub.status.busy": "2021-10-29T07:00:09.225437Z",
     "iopub.status.idle": "2021-10-29T07:00:09.245964Z",
     "shell.execute_reply": "2021-10-29T07:00:09.247372Z"
    },
    "papermill": {
     "duration": 0.07364,
     "end_time": "2021-10-29T07:00:09.247800",
     "exception": false,
     "start_time": "2021-10-29T07:00:09.174160",
     "status": "completed"
    },
    "tags": []
   },
   "outputs": [
    {
     "data": {
      "text/html": [
       "<div>\n",
       "<style scoped>\n",
       "    .dataframe tbody tr th:only-of-type {\n",
       "        vertical-align: middle;\n",
       "    }\n",
       "\n",
       "    .dataframe tbody tr th {\n",
       "        vertical-align: top;\n",
       "    }\n",
       "\n",
       "    .dataframe thead th {\n",
       "        text-align: right;\n",
       "    }\n",
       "</style>\n",
       "<table border=\"1\" class=\"dataframe\">\n",
       "  <thead>\n",
       "    <tr style=\"text-align: right;\">\n",
       "      <th></th>\n",
       "      <th>RECORD_TIME</th>\n",
       "    </tr>\n",
       "  </thead>\n",
       "  <tbody>\n",
       "    <tr>\n",
       "      <th>0</th>\n",
       "      <td>2021-10-29 09:00</td>\n",
       "    </tr>\n",
       "    <tr>\n",
       "      <th>1</th>\n",
       "      <td>2021-10-29 08:30</td>\n",
       "    </tr>\n",
       "  </tbody>\n",
       "</table>\n",
       "</div>"
      ],
      "text/plain": [
       "        RECORD_TIME\n",
       "0  2021-10-29 09:00\n",
       "1  2021-10-29 08:30"
      ]
     },
     "execution_count": 3,
     "metadata": {},
     "output_type": "execute_result"
    }
   ],
   "source": [
    "timestamps"
   ]
  },
  {
   "cell_type": "code",
   "execution_count": 4,
   "id": "alternate-victory",
   "metadata": {
    "execution": {
     "iopub.execute_input": "2021-10-29T07:00:09.298427Z",
     "iopub.status.busy": "2021-10-29T07:00:09.296507Z",
     "iopub.status.idle": "2021-10-29T07:00:10.241980Z",
     "shell.execute_reply": "2021-10-29T07:00:10.243194Z"
    },
    "papermill": {
     "duration": 0.975381,
     "end_time": "2021-10-29T07:00:10.243592",
     "exception": false,
     "start_time": "2021-10-29T07:00:09.268211",
     "status": "completed"
    },
    "tags": []
   },
   "outputs": [],
   "source": [
    "df = pd.read_sql(\"select * from EBAY_TOP_BERLIN where record_time in (select distinct record_time from EBAY_TOP_BERLIN order by record_time desc limit 2)\", sqlite3.connect(\"UsedObjects.db\"))"
   ]
  },
  {
   "cell_type": "code",
   "execution_count": 5,
   "id": "popular-active",
   "metadata": {
    "execution": {
     "iopub.execute_input": "2021-10-29T07:00:10.313124Z",
     "iopub.status.busy": "2021-10-29T07:00:10.300740Z",
     "iopub.status.idle": "2021-10-29T07:00:10.329834Z",
     "shell.execute_reply": "2021-10-29T07:00:10.331153Z"
    },
    "papermill": {
     "duration": 0.067429,
     "end_time": "2021-10-29T07:00:10.331570",
     "exception": false,
     "start_time": "2021-10-29T07:00:10.264141",
     "status": "completed"
    },
    "tags": []
   },
   "outputs": [],
   "source": [
    "df_pivot = df.pivot_table(index=\"PRODUCT\", columns = \"RECORD_TIME\", values = \"LISTING_COUNT\")"
   ]
  },
  {
   "cell_type": "code",
   "execution_count": 6,
   "id": "union-huntington",
   "metadata": {
    "execution": {
     "iopub.execute_input": "2021-10-29T07:00:10.386962Z",
     "iopub.status.busy": "2021-10-29T07:00:10.384910Z",
     "iopub.status.idle": "2021-10-29T07:00:10.390256Z",
     "shell.execute_reply": "2021-10-29T07:00:10.391443Z"
    },
    "papermill": {
     "duration": 0.040073,
     "end_time": "2021-10-29T07:00:10.391865",
     "exception": false,
     "start_time": "2021-10-29T07:00:10.351792",
     "status": "completed"
    },
    "tags": []
   },
   "outputs": [],
   "source": [
    "df_pivot.columns = [\"stamp_1\", \"stamp_2\"]\n",
    "df_pivot_diff = df_pivot.diff(axis=1)"
   ]
  },
  {
   "cell_type": "code",
   "execution_count": 7,
   "id": "fifth-motion",
   "metadata": {
    "execution": {
     "iopub.execute_input": "2021-10-29T07:00:10.446012Z",
     "iopub.status.busy": "2021-10-29T07:00:10.443485Z",
     "iopub.status.idle": "2021-10-29T07:00:11.931306Z",
     "shell.execute_reply": "2021-10-29T07:00:11.932483Z"
    },
    "papermill": {
     "duration": 1.5207,
     "end_time": "2021-10-29T07:00:11.932967",
     "exception": false,
     "start_time": "2021-10-29T07:00:10.412267",
     "status": "completed"
    },
    "tags": []
   },
   "outputs": [
    {
     "data": {
      "text/plain": [
       "<AxesSubplot:ylabel='PRODUCT'>"
      ]
     },
     "execution_count": 7,
     "metadata": {},
     "output_type": "execute_result"
    },
    {
     "data": {
      "image/png": "[encoded data removed]",
      "text/plain": [
       "<Figure size 432x288 with 1 Axes>"
      ]
     },
     "metadata": {
      "needs_background": "light"
     },
     "output_type": "display_data"
    }
   ],
   "source": [
    "df_pivot_diff.sort_values(\"stamp_2\", ascending = False)[\"stamp_2\"].head(10).plot.barh()"
   ]
  },
  {
   "cell_type": "code",
   "execution_count": null,
   "id": "extra-executive",
   "metadata": {
    "papermill": {
     "duration": 0.022135,
     "end_time": "2021-10-29T07:00:11.979405",
     "exception": false,
     "start_time": "2021-10-29T07:00:11.957270",
     "status": "completed"
    },
    "tags": []
   },
   "outputs": [],
   "source": []
  }
 ],
 "metadata": {
  "kernelspec": {
   "display_name": "Python 3",
   "language": "python",
   "name": "python3"
  },
  "language_info": {
   "codemirror_mode": {
    "name": "ipython",
    "version": 3
   },
   "file_extension": ".py",
   "mimetype": "text/x-python",
   "name": "python",
   "nbconvert_exporter": "python",
   "pygments_lexer": "ipython3",
   "version": "3.9.5"
  },
  "papermill": {
   "default_parameters": {},
   "duration": 7.492395,
   "end_time": "2021-10-29T07:00:12.622837",
   "environment_variables": {},
   "exception": null,
   "input_path": "eBay_Overview.ipynb",
   "output_path": "eBay_Overview.ipynb",
   "parameters": {},
   "start_time": "2021-10-29T07:00:05.130442",
   "version": "2.3.3"
  }
 },
 "nbformat": 4,
 "nbformat_minor": 5
}