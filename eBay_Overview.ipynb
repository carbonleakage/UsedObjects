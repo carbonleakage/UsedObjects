{
 "cells": [
  {
   "cell_type": "code",
   "execution_count": 1,
   "id": "reverse-picking",
   "metadata": {
    "execution": {
     "iopub.execute_input": "2021-09-02T08:00:07.451634Z",
     "iopub.status.busy": "2021-09-02T08:00:07.446822Z",
     "iopub.status.idle": "2021-09-02T08:00:08.253694Z",
     "shell.execute_reply": "2021-09-02T08:00:08.255100Z"
    },
    "papermill": {
     "duration": 0.854316,
     "end_time": "2021-09-02T08:00:08.255758",
     "exception": false,
     "start_time": "2021-09-02T08:00:07.401442",
     "status": "completed"
    },
    "tags": []
   },
   "outputs": [],
   "source": [
    "import pandas as pd\n",
    "import sqlite3"
   ]
  },
  {
   "cell_type": "code",
   "execution_count": 2,
   "id": "innovative-syndrome",
   "metadata": {
    "execution": {
     "iopub.execute_input": "2021-09-02T08:00:08.309502Z",
     "iopub.status.busy": "2021-09-02T08:00:08.307235Z",
     "iopub.status.idle": "2021-09-02T08:00:08.496605Z",
     "shell.execute_reply": "2021-09-02T08:00:08.497962Z"
    },
    "papermill": {
     "duration": 0.22014,
     "end_time": "2021-09-02T08:00:08.498397",
     "exception": false,
     "start_time": "2021-09-02T08:00:08.278257",
     "status": "completed"
    },
    "tags": []
   },
   "outputs": [],
   "source": [
    "timestamps = pd.read_sql(\"select distinct record_time from EBAY_TOP_BERLIN order by record_time desc limit 2\", sqlite3.connect(\"UsedObjects.db\"))"
   ]
  },
  {
   "cell_type": "code",
   "execution_count": 3,
   "id": "periodic-identification",
   "metadata": {
    "execution": {
     "iopub.execute_input": "2021-09-02T08:00:08.568686Z",
     "iopub.status.busy": "2021-09-02T08:00:08.563907Z",
     "iopub.status.idle": "2021-09-02T08:00:08.585352Z",
     "shell.execute_reply": "2021-09-02T08:00:08.586550Z"
    },
    "papermill": {
     "duration": 0.068794,
     "end_time": "2021-09-02T08:00:08.587127",
     "exception": false,
     "start_time": "2021-09-02T08:00:08.518333",
     "status": "completed"
    },
    "tags": []
   },
   "outputs": [
    {
     "data": {
      "text/html": [
       "<div>\n",
       "<style scoped>\n",
       "    .dataframe tbody tr th:only-of-type {\n",
       "        vertical-align: middle;\n",
       "    }\n",
       "\n",
       "    .dataframe tbody tr th {\n",
       "        vertical-align: top;\n",
       "    }\n",
       "\n",
       "    .dataframe thead th {\n",
       "        text-align: right;\n",
       "    }\n",
       "</style>\n",
       "<table border=\"1\" class=\"dataframe\">\n",
       "  <thead>\n",
       "    <tr style=\"text-align: right;\">\n",
       "      <th></th>\n",
       "      <th>RECORD_TIME</th>\n",
       "    </tr>\n",
       "  </thead>\n",
       "  <tbody>\n",
       "    <tr>\n",
       "      <th>0</th>\n",
       "      <td>2021-09-02 10:00</td>\n",
       "    </tr>\n",
       "    <tr>\n",
       "      <th>1</th>\n",
       "      <td>2021-09-02 09:30</td>\n",
       "    </tr>\n",
       "  </tbody>\n",
       "</table>\n",
       "</div>"
      ],
      "text/plain": [
       "        RECORD_TIME\n",
       "0  2021-09-02 10:00\n",
       "1  2021-09-02 09:30"
      ]
     },
     "execution_count": 3,
     "metadata": {},
     "output_type": "execute_result"
    }
   ],
   "source": [
    "timestamps"
   ]
  },
  {
   "cell_type": "code",
   "execution_count": 4,
   "id": "alternate-victory",
   "metadata": {
    "execution": {
     "iopub.execute_input": "2021-09-02T08:00:08.641230Z",
     "iopub.status.busy": "2021-09-02T08:00:08.638922Z",
     "iopub.status.idle": "2021-09-02T08:00:08.918732Z",
     "shell.execute_reply": "2021-09-02T08:00:08.919917Z"
    },
    "papermill": {
     "duration": 0.310532,
     "end_time": "2021-09-02T08:00:08.920329",
     "exception": false,
     "start_time": "2021-09-02T08:00:08.609797",
     "status": "completed"
    },
    "tags": []
   },
   "outputs": [],
   "source": [
    "df = pd.read_sql(\"select * from EBAY_TOP_BERLIN where record_time in (select distinct record_time from EBAY_TOP_BERLIN order by record_time desc limit 2)\", sqlite3.connect(\"UsedObjects.db\"))"
   ]
  },
  {
   "cell_type": "code",
   "execution_count": 5,
   "id": "popular-active",
   "metadata": {
    "execution": {
     "iopub.execute_input": "2021-09-02T08:00:09.001690Z",
     "iopub.status.busy": "2021-09-02T08:00:08.989400Z",
     "iopub.status.idle": "2021-09-02T08:00:09.017349Z",
     "shell.execute_reply": "2021-09-02T08:00:09.018606Z"
    },
    "papermill": {
     "duration": 0.0706,
     "end_time": "2021-09-02T08:00:09.019069",
     "exception": false,
     "start_time": "2021-09-02T08:00:08.948469",
     "status": "completed"
    },
    "tags": []
   },
   "outputs": [],
   "source": [
    "df_pivot = df.pivot_table(index=\"PRODUCT\", columns = \"RECORD_TIME\", values = \"LISTING_COUNT\")"
   ]
  },
  {
   "cell_type": "code",
   "execution_count": 6,
   "id": "union-huntington",
   "metadata": {
    "execution": {
     "iopub.execute_input": "2021-09-02T08:00:09.077134Z",
     "iopub.status.busy": "2021-09-02T08:00:09.075017Z",
     "iopub.status.idle": "2021-09-02T08:00:09.080493Z",
     "shell.execute_reply": "2021-09-02T08:00:09.081848Z"
    },
    "papermill": {
     "duration": 0.041185,
     "end_time": "2021-09-02T08:00:09.082283",
     "exception": false,
     "start_time": "2021-09-02T08:00:09.041098",
     "status": "completed"
    },
    "tags": []
   },
   "outputs": [],
   "source": [
    "df_pivot.columns = [\"stamp_1\", \"stamp_2\"]\n",
    "df_pivot_diff = df_pivot.diff(axis=1)"
   ]
  },
  {
   "cell_type": "code",
   "execution_count": 7,
   "id": "fifth-motion",
   "metadata": {
    "execution": {
     "iopub.execute_input": "2021-09-02T08:00:09.139322Z",
     "iopub.status.busy": "2021-09-02T08:00:09.136669Z",
     "iopub.status.idle": "2021-09-02T08:00:10.616277Z",
     "shell.execute_reply": "2021-09-02T08:00:10.617544Z"
    },
    "papermill": {
     "duration": 1.513437,
     "end_time": "2021-09-02T08:00:10.617961",
     "exception": false,
     "start_time": "2021-09-02T08:00:09.104524",
     "status": "completed"
    },
    "tags": []
   },
   "outputs": [
    {
     "data": {
      "text/plain": [
       "<AxesSubplot:ylabel='PRODUCT'>"
      ]
     },
     "execution_count": 7,
     "metadata": {},
     "output_type": "execute_result"
    },
    {
     "data": {
      "image/png": "[encoded data removed]",
      "text/plain": [
       "<Figure size 432x288 with 1 Axes>"
      ]
     },
     "metadata": {
      "needs_background": "light"
     },
     "output_type": "display_data"
    }
   ],
   "source": [
    "df_pivot_diff.sort_values(\"stamp_2\", ascending = False)[\"stamp_2\"].head(10).plot.barh()"
   ]
  },
  {
   "cell_type": "code",
   "execution_count": null,
   "id": "extra-executive",
   "metadata": {
    "papermill": {
     "duration": 0.022487,
     "end_time": "2021-09-02T08:00:10.664614",
     "exception": false,
     "start_time": "2021-09-02T08:00:10.642127",
     "status": "completed"
    },
    "tags": []
   },
   "outputs": [],
   "source": []
  }
 ],
 "metadata": {
  "kernelspec": {
   "display_name": "Python 3",
   "language": "python",
   "name": "python3"
  },
  "language_info": {
   "codemirror_mode": {
    "name": "ipython",
    "version": 3
   },
   "file_extension": ".py",
   "mimetype": "text/x-python",
   "name": "python",
   "nbconvert_exporter": "python",
   "pygments_lexer": "ipython3",
   "version": "3.9.5"
  },
  "papermill": {
   "default_parameters": {},
   "duration": 6.818545,
   "end_time": "2021-09-02T08:00:11.817793",
   "environment_variables": {},
   "exception": null,
   "input_path": "eBay_Overview.ipynb",
   "output_path": "eBay_Overview.ipynb",
   "parameters": {},
   "start_time": "2021-09-02T08:00:04.999248",
   "version": "2.3.3"
  }
 },
 "nbformat": 4,
 "nbformat_minor": 5
}