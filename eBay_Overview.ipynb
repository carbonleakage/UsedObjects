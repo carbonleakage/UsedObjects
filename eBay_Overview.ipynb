{
 "cells": [
  {
   "cell_type": "code",
   "execution_count": 1,
   "id": "reverse-picking",
   "metadata": {
    "execution": {
     "iopub.execute_input": "2021-11-12T21:30:07.496312Z",
     "iopub.status.busy": "2021-11-12T21:30:07.493286Z",
     "iopub.status.idle": "2021-11-12T21:30:08.436987Z",
     "shell.execute_reply": "2021-11-12T21:30:08.438538Z"
    },
    "papermill": {
     "duration": 0.992999,
     "end_time": "2021-11-12T21:30:08.439282",
     "exception": false,
     "start_time": "2021-11-12T21:30:07.446283",
     "status": "completed"
    },
    "tags": []
   },
   "outputs": [],
   "source": [
    "import pandas as pd\n",
    "import sqlite3"
   ]
  },
  {
   "cell_type": "code",
   "execution_count": 2,
   "id": "innovative-syndrome",
   "metadata": {
    "execution": {
     "iopub.execute_input": "2021-11-12T21:30:08.505874Z",
     "iopub.status.busy": "2021-11-12T21:30:08.501475Z",
     "iopub.status.idle": "2021-11-12T21:30:09.306424Z",
     "shell.execute_reply": "2021-11-12T21:30:09.307943Z"
    },
    "papermill": {
     "duration": 0.841389,
     "end_time": "2021-11-12T21:30:09.308415",
     "exception": false,
     "start_time": "2021-11-12T21:30:08.467026",
     "status": "completed"
    },
    "tags": []
   },
   "outputs": [],
   "source": [
    "timestamps = pd.read_sql(\"select distinct record_time from EBAY_TOP_BERLIN order by record_time desc limit 2\", sqlite3.connect(\"UsedObjects.db\"))"
   ]
  },
  {
   "cell_type": "code",
   "execution_count": 3,
   "id": "periodic-identification",
   "metadata": {
    "execution": {
     "iopub.execute_input": "2021-11-12T21:30:09.378573Z",
     "iopub.status.busy": "2021-11-12T21:30:09.376255Z",
     "iopub.status.idle": "2021-11-12T21:30:09.400374Z",
     "shell.execute_reply": "2021-11-12T21:30:09.402235Z"
    },
    "papermill": {
     "duration": 0.073633,
     "end_time": "2021-11-12T21:30:09.402840",
     "exception": false,
     "start_time": "2021-11-12T21:30:09.329207",
     "status": "completed"
    },
    "tags": []
   },
   "outputs": [
    {
     "data": {
      "text/html": [
       "<div>\n",
       "<style scoped>\n",
       "    .dataframe tbody tr th:only-of-type {\n",
       "        vertical-align: middle;\n",
       "    }\n",
       "\n",
       "    .dataframe tbody tr th {\n",
       "        vertical-align: top;\n",
       "    }\n",
       "\n",
       "    .dataframe thead th {\n",
       "        text-align: right;\n",
       "    }\n",
       "</style>\n",
       "<table border=\"1\" class=\"dataframe\">\n",
       "  <thead>\n",
       "    <tr style=\"text-align: right;\">\n",
       "      <th></th>\n",
       "      <th>RECORD_TIME</th>\n",
       "    </tr>\n",
       "  </thead>\n",
       "  <tbody>\n",
       "    <tr>\n",
       "      <th>0</th>\n",
       "      <td>2021-11-12 22:30</td>\n",
       "    </tr>\n",
       "    <tr>\n",
       "      <th>1</th>\n",
       "      <td>2021-11-12 22:00</td>\n",
       "    </tr>\n",
       "  </tbody>\n",
       "</table>\n",
       "</div>"
      ],
      "text/plain": [
       "        RECORD_TIME\n",
       "0  2021-11-12 22:30\n",
       "1  2021-11-12 22:00"
      ]
     },
     "execution_count": 3,
     "metadata": {},
     "output_type": "execute_result"
    }
   ],
   "source": [
    "timestamps"
   ]
  },
  {
   "cell_type": "code",
   "execution_count": 4,
   "id": "alternate-victory",
   "metadata": {
    "execution": {
     "iopub.execute_input": "2021-11-12T21:30:09.456509Z",
     "iopub.status.busy": "2021-11-12T21:30:09.454650Z",
     "iopub.status.idle": "2021-11-12T21:30:10.621011Z",
     "shell.execute_reply": "2021-11-12T21:30:10.622602Z"
    },
    "papermill": {
     "duration": 1.197049,
     "end_time": "2021-11-12T21:30:10.623104",
     "exception": false,
     "start_time": "2021-11-12T21:30:09.426055",
     "status": "completed"
    },
    "tags": []
   },
   "outputs": [],
   "source": [
    "df = pd.read_sql(\"select * from EBAY_TOP_BERLIN where record_time in (select distinct record_time from EBAY_TOP_BERLIN order by record_time desc limit 2)\", sqlite3.connect(\"UsedObjects.db\"))"
   ]
  },
  {
   "cell_type": "code",
   "execution_count": 5,
   "id": "popular-active",
   "metadata": {
    "execution": {
     "iopub.execute_input": "2021-11-12T21:30:10.694095Z",
     "iopub.status.busy": "2021-11-12T21:30:10.685924Z",
     "iopub.status.idle": "2021-11-12T21:30:10.718843Z",
     "shell.execute_reply": "2021-11-12T21:30:10.720371Z"
    },
    "papermill": {
     "duration": 0.076734,
     "end_time": "2021-11-12T21:30:10.720926",
     "exception": false,
     "start_time": "2021-11-12T21:30:10.644192",
     "status": "completed"
    },
    "tags": []
   },
   "outputs": [],
   "source": [
    "df_pivot = df.pivot_table(index=\"PRODUCT\", columns = \"RECORD_TIME\", values = \"LISTING_COUNT\")"
   ]
  },
  {
   "cell_type": "code",
   "execution_count": 6,
   "id": "union-huntington",
   "metadata": {
    "execution": {
     "iopub.execute_input": "2021-11-12T21:30:10.783296Z",
     "iopub.status.busy": "2021-11-12T21:30:10.781085Z",
     "iopub.status.idle": "2021-11-12T21:30:10.788259Z",
     "shell.execute_reply": "2021-11-12T21:30:10.786063Z"
    },
    "papermill": {
     "duration": 0.045305,
     "end_time": "2021-11-12T21:30:10.788790",
     "exception": false,
     "start_time": "2021-11-12T21:30:10.743485",
     "status": "completed"
    },
    "tags": []
   },
   "outputs": [],
   "source": [
    "df_pivot.columns = [\"stamp_1\", \"stamp_2\"]\n",
    "df_pivot_diff = df_pivot.diff(axis=1)"
   ]
  },
  {
   "cell_type": "code",
   "execution_count": 7,
   "id": "fifth-motion",
   "metadata": {
    "execution": {
     "iopub.execute_input": "2021-11-12T21:30:10.847937Z",
     "iopub.status.busy": "2021-11-12T21:30:10.845502Z",
     "iopub.status.idle": "2021-11-12T21:30:12.763617Z",
     "shell.execute_reply": "2021-11-12T21:30:12.765350Z"
    },
    "papermill": {
     "duration": 1.955121,
     "end_time": "2021-11-12T21:30:12.765899",
     "exception": false,
     "start_time": "2021-11-12T21:30:10.810778",
     "status": "completed"
    },
    "tags": []
   },
   "outputs": [
    {
     "data": {
      "text/plain": [
       "<AxesSubplot:ylabel='PRODUCT'>"
      ]
     },
     "execution_count": 7,
     "metadata": {},
     "output_type": "execute_result"
    },
    {
     "data": {
      "image/png": "[encoded data removed]",
      "text/plain": [
       "<Figure size 432x288 with 1 Axes>"
      ]
     },
     "metadata": {
      "needs_background": "light"
     },
     "output_type": "display_data"
    }
   ],
   "source": [
    "df_pivot_diff.sort_values(\"stamp_2\", ascending = False)[\"stamp_2\"].head(10).plot.barh()"
   ]
  },
  {
   "cell_type": "code",
   "execution_count": null,
   "id": "extra-executive",
   "metadata": {
    "papermill": {
     "duration": 0.033806,
     "end_time": "2021-11-12T21:30:12.837370",
     "exception": false,
     "start_time": "2021-11-12T21:30:12.803564",
     "status": "completed"
    },
    "tags": []
   },
   "outputs": [],
   "source": []
  }
 ],
 "metadata": {
  "kernelspec": {
   "display_name": "Python 3",
   "language": "python",
   "name": "python3"
  },
  "language_info": {
   "codemirror_mode": {
    "name": "ipython",
    "version": 3
   },
   "file_extension": ".py",
   "mimetype": "text/x-python",
   "name": "python",
   "nbconvert_exporter": "python",
   "pygments_lexer": "ipython3",
   "version": "3.9.5"
  },
  "papermill": {
   "default_parameters": {},
   "duration": 8.896296,
   "end_time": "2021-11-12T21:30:13.614864",
   "environment_variables": {},
   "exception": null,
   "input_path": "eBay_Overview.ipynb",
   "output_path": "eBay_Overview.ipynb",
   "parameters": {},
   "start_time": "2021-11-12T21:30:04.718568",
   "version": "2.3.3"
  }
 },
 "nbformat": 4,
 "nbformat_minor": 5
}