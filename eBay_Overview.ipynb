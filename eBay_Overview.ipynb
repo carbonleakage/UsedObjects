{
 "cells": [
  {
   "cell_type": "code",
   "execution_count": 1,
   "id": "reverse-picking",
   "metadata": {
    "execution": {
     "iopub.execute_input": "2021-11-15T12:00:08.085558Z",
     "iopub.status.busy": "2021-11-15T12:00:08.083093Z",
     "iopub.status.idle": "2021-11-15T12:00:09.049629Z",
     "shell.execute_reply": "2021-11-15T12:00:09.047671Z"
    },
    "papermill": {
     "duration": 1.01372,
     "end_time": "2021-11-15T12:00:09.050108",
     "exception": false,
     "start_time": "2021-11-15T12:00:08.036388",
     "status": "completed"
    },
    "tags": []
   },
   "outputs": [],
   "source": [
    "import pandas as pd\n",
    "import sqlite3"
   ]
  },
  {
   "cell_type": "code",
   "execution_count": 2,
   "id": "innovative-syndrome",
   "metadata": {
    "execution": {
     "iopub.execute_input": "2021-11-15T12:00:09.113309Z",
     "iopub.status.busy": "2021-11-15T12:00:09.110923Z",
     "iopub.status.idle": "2021-11-15T12:00:09.931980Z",
     "shell.execute_reply": "2021-11-15T12:00:09.933324Z"
    },
    "papermill": {
     "duration": 0.856392,
     "end_time": "2021-11-15T12:00:09.933753",
     "exception": false,
     "start_time": "2021-11-15T12:00:09.077361",
     "status": "completed"
    },
    "tags": []
   },
   "outputs": [],
   "source": [
    "timestamps = pd.read_sql(\"select distinct record_time from EBAY_TOP_BERLIN order by record_time desc limit 2\", sqlite3.connect(\"UsedObjects.db\"))"
   ]
  },
  {
   "cell_type": "code",
   "execution_count": 3,
   "id": "periodic-identification",
   "metadata": {
    "execution": {
     "iopub.execute_input": "2021-11-15T12:00:10.003552Z",
     "iopub.status.busy": "2021-11-15T12:00:10.001087Z",
     "iopub.status.idle": "2021-11-15T12:00:10.025433Z",
     "shell.execute_reply": "2021-11-15T12:00:10.026939Z"
    },
    "papermill": {
     "duration": 0.072819,
     "end_time": "2021-11-15T12:00:10.027465",
     "exception": false,
     "start_time": "2021-11-15T12:00:09.954646",
     "status": "completed"
    },
    "tags": []
   },
   "outputs": [
    {
     "data": {
      "text/html": [
       "<div>\n",
       "<style scoped>\n",
       "    .dataframe tbody tr th:only-of-type {\n",
       "        vertical-align: middle;\n",
       "    }\n",
       "\n",
       "    .dataframe tbody tr th {\n",
       "        vertical-align: top;\n",
       "    }\n",
       "\n",
       "    .dataframe thead th {\n",
       "        text-align: right;\n",
       "    }\n",
       "</style>\n",
       "<table border=\"1\" class=\"dataframe\">\n",
       "  <thead>\n",
       "    <tr style=\"text-align: right;\">\n",
       "      <th></th>\n",
       "      <th>RECORD_TIME</th>\n",
       "    </tr>\n",
       "  </thead>\n",
       "  <tbody>\n",
       "    <tr>\n",
       "      <th>0</th>\n",
       "      <td>2021-11-15 13:00</td>\n",
       "    </tr>\n",
       "    <tr>\n",
       "      <th>1</th>\n",
       "      <td>2021-11-15 12:30</td>\n",
       "    </tr>\n",
       "  </tbody>\n",
       "</table>\n",
       "</div>"
      ],
      "text/plain": [
       "        RECORD_TIME\n",
       "0  2021-11-15 13:00\n",
       "1  2021-11-15 12:30"
      ]
     },
     "execution_count": 3,
     "metadata": {},
     "output_type": "execute_result"
    }
   ],
   "source": [
    "timestamps"
   ]
  },
  {
   "cell_type": "code",
   "execution_count": 4,
   "id": "alternate-victory",
   "metadata": {
    "execution": {
     "iopub.execute_input": "2021-11-15T12:00:10.084370Z",
     "iopub.status.busy": "2021-11-15T12:00:10.082807Z",
     "iopub.status.idle": "2021-11-15T12:00:11.300913Z",
     "shell.execute_reply": "2021-11-15T12:00:11.302620Z"
    },
    "papermill": {
     "duration": 1.253641,
     "end_time": "2021-11-15T12:00:11.303130",
     "exception": false,
     "start_time": "2021-11-15T12:00:10.049489",
     "status": "completed"
    },
    "tags": []
   },
   "outputs": [],
   "source": [
    "df = pd.read_sql(\"select * from EBAY_TOP_BERLIN where record_time in (select distinct record_time from EBAY_TOP_BERLIN order by record_time desc limit 2)\", sqlite3.connect(\"UsedObjects.db\"))"
   ]
  },
  {
   "cell_type": "code",
   "execution_count": 5,
   "id": "popular-active",
   "metadata": {
    "execution": {
     "iopub.execute_input": "2021-11-15T12:00:11.360627Z",
     "iopub.status.busy": "2021-11-15T12:00:11.358115Z",
     "iopub.status.idle": "2021-11-15T12:00:11.406865Z",
     "shell.execute_reply": "2021-11-15T12:00:11.408287Z"
    },
    "papermill": {
     "duration": 0.083605,
     "end_time": "2021-11-15T12:00:11.408832",
     "exception": false,
     "start_time": "2021-11-15T12:00:11.325227",
     "status": "completed"
    },
    "tags": []
   },
   "outputs": [],
   "source": [
    "df_pivot = df.pivot_table(index=\"PRODUCT\", columns = \"RECORD_TIME\", values = \"LISTING_COUNT\")"
   ]
  },
  {
   "cell_type": "code",
   "execution_count": 6,
   "id": "union-huntington",
   "metadata": {
    "execution": {
     "iopub.execute_input": "2021-11-15T12:00:11.468751Z",
     "iopub.status.busy": "2021-11-15T12:00:11.466479Z",
     "iopub.status.idle": "2021-11-15T12:00:11.471908Z",
     "shell.execute_reply": "2021-11-15T12:00:11.473340Z"
    },
    "papermill": {
     "duration": 0.043489,
     "end_time": "2021-11-15T12:00:11.473823",
     "exception": false,
     "start_time": "2021-11-15T12:00:11.430334",
     "status": "completed"
    },
    "tags": []
   },
   "outputs": [],
   "source": [
    "df_pivot.columns = [\"stamp_1\", \"stamp_2\"]\n",
    "df_pivot_diff = df_pivot.diff(axis=1)"
   ]
  },
  {
   "cell_type": "code",
   "execution_count": 7,
   "id": "fifth-motion",
   "metadata": {
    "execution": {
     "iopub.execute_input": "2021-11-15T12:00:11.530049Z",
     "iopub.status.busy": "2021-11-15T12:00:11.527484Z",
     "iopub.status.idle": "2021-11-15T12:00:13.605472Z",
     "shell.execute_reply": "2021-11-15T12:00:13.607440Z"
    },
    "papermill": {
     "duration": 2.114435,
     "end_time": "2021-11-15T12:00:13.608022",
     "exception": false,
     "start_time": "2021-11-15T12:00:11.493587",
     "status": "completed"
    },
    "tags": []
   },
   "outputs": [
    {
     "data": {
      "text/plain": [
       "<AxesSubplot:ylabel='PRODUCT'>"
      ]
     },
     "execution_count": 7,
     "metadata": {},
     "output_type": "execute_result"
    },
    {
     "data": {
      "image/png": "[encoded data removed]",
      "text/plain": [
       "<Figure size 432x288 with 1 Axes>"
      ]
     },
     "metadata": {
      "needs_background": "light"
     },
     "output_type": "display_data"
    }
   ],
   "source": [
    "df_pivot_diff.sort_values(\"stamp_2\", ascending = False)[\"stamp_2\"].head(10).plot.barh()"
   ]
  },
  {
   "cell_type": "code",
   "execution_count": null,
   "id": "extra-executive",
   "metadata": {
    "papermill": {
     "duration": 0.022085,
     "end_time": "2021-11-15T12:00:13.655976",
     "exception": false,
     "start_time": "2021-11-15T12:00:13.633891",
     "status": "completed"
    },
    "tags": []
   },
   "outputs": [],
   "source": []
  }
 ],
 "metadata": {
  "kernelspec": {
   "display_name": "Python 3",
   "language": "python",
   "name": "python3"
  },
  "language_info": {
   "codemirror_mode": {
    "name": "ipython",
    "version": 3
   },
   "file_extension": ".py",
   "mimetype": "text/x-python",
   "name": "python",
   "nbconvert_exporter": "python",
   "pygments_lexer": "ipython3",
   "version": "3.9.5"
  },
  "papermill": {
   "default_parameters": {},
   "duration": 9.940082,
   "end_time": "2021-11-15T12:00:15.226625",
   "environment_variables": {},
   "exception": null,
   "input_path": "eBay_Overview.ipynb",
   "output_path": "eBay_Overview.ipynb",
   "parameters": {},
   "start_time": "2021-11-15T12:00:05.286543",
   "version": "2.3.3"
  }
 },
 "nbformat": 4,
 "nbformat_minor": 5
}