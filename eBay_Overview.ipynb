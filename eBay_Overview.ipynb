{
 "cells": [
  {
   "cell_type": "code",
   "execution_count": 1,
   "id": "reverse-picking",
   "metadata": {
    "execution": {
     "iopub.execute_input": "2021-09-22T01:30:07.301186Z",
     "iopub.status.busy": "2021-09-22T01:30:07.299238Z",
     "iopub.status.idle": "2021-09-22T01:30:08.102521Z",
     "shell.execute_reply": "2021-09-22T01:30:08.103837Z"
    },
    "papermill": {
     "duration": 0.857287,
     "end_time": "2021-09-22T01:30:08.104521",
     "exception": false,
     "start_time": "2021-09-22T01:30:07.247234",
     "status": "completed"
    },
    "tags": []
   },
   "outputs": [],
   "source": [
    "import pandas as pd\n",
    "import sqlite3"
   ]
  },
  {
   "cell_type": "code",
   "execution_count": 2,
   "id": "innovative-syndrome",
   "metadata": {
    "execution": {
     "iopub.execute_input": "2021-09-22T01:30:08.155632Z",
     "iopub.status.busy": "2021-09-22T01:30:08.153687Z",
     "iopub.status.idle": "2021-09-22T01:30:08.499433Z",
     "shell.execute_reply": "2021-09-22T01:30:08.500651Z"
    },
    "papermill": {
     "duration": 0.375228,
     "end_time": "2021-09-22T01:30:08.501052",
     "exception": false,
     "start_time": "2021-09-22T01:30:08.125824",
     "status": "completed"
    },
    "tags": []
   },
   "outputs": [],
   "source": [
    "timestamps = pd.read_sql(\"select distinct record_time from EBAY_TOP_BERLIN order by record_time desc limit 2\", sqlite3.connect(\"UsedObjects.db\"))"
   ]
  },
  {
   "cell_type": "code",
   "execution_count": 3,
   "id": "periodic-identification",
   "metadata": {
    "execution": {
     "iopub.execute_input": "2021-09-22T01:30:08.572721Z",
     "iopub.status.busy": "2021-09-22T01:30:08.567722Z",
     "iopub.status.idle": "2021-09-22T01:30:08.589447Z",
     "shell.execute_reply": "2021-09-22T01:30:08.590882Z"
    },
    "papermill": {
     "duration": 0.067714,
     "end_time": "2021-09-22T01:30:08.591393",
     "exception": false,
     "start_time": "2021-09-22T01:30:08.523679",
     "status": "completed"
    },
    "tags": []
   },
   "outputs": [
    {
     "data": {
      "text/html": [
       "<div>\n",
       "<style scoped>\n",
       "    .dataframe tbody tr th:only-of-type {\n",
       "        vertical-align: middle;\n",
       "    }\n",
       "\n",
       "    .dataframe tbody tr th {\n",
       "        vertical-align: top;\n",
       "    }\n",
       "\n",
       "    .dataframe thead th {\n",
       "        text-align: right;\n",
       "    }\n",
       "</style>\n",
       "<table border=\"1\" class=\"dataframe\">\n",
       "  <thead>\n",
       "    <tr style=\"text-align: right;\">\n",
       "      <th></th>\n",
       "      <th>RECORD_TIME</th>\n",
       "    </tr>\n",
       "  </thead>\n",
       "  <tbody>\n",
       "    <tr>\n",
       "      <th>0</th>\n",
       "      <td>2021-09-22 03:30</td>\n",
       "    </tr>\n",
       "    <tr>\n",
       "      <th>1</th>\n",
       "      <td>2021-09-22 03:00</td>\n",
       "    </tr>\n",
       "  </tbody>\n",
       "</table>\n",
       "</div>"
      ],
      "text/plain": [
       "        RECORD_TIME\n",
       "0  2021-09-22 03:30\n",
       "1  2021-09-22 03:00"
      ]
     },
     "execution_count": 3,
     "metadata": {},
     "output_type": "execute_result"
    }
   ],
   "source": [
    "timestamps"
   ]
  },
  {
   "cell_type": "code",
   "execution_count": 4,
   "id": "alternate-victory",
   "metadata": {
    "execution": {
     "iopub.execute_input": "2021-09-22T01:30:08.644549Z",
     "iopub.status.busy": "2021-09-22T01:30:08.642105Z",
     "iopub.status.idle": "2021-09-22T01:30:09.153582Z",
     "shell.execute_reply": "2021-09-22T01:30:09.152237Z"
    },
    "papermill": {
     "duration": 0.54071,
     "end_time": "2021-09-22T01:30:09.153923",
     "exception": false,
     "start_time": "2021-09-22T01:30:08.613213",
     "status": "completed"
    },
    "tags": []
   },
   "outputs": [],
   "source": [
    "df = pd.read_sql(\"select * from EBAY_TOP_BERLIN where record_time in (select distinct record_time from EBAY_TOP_BERLIN order by record_time desc limit 2)\", sqlite3.connect(\"UsedObjects.db\"))"
   ]
  },
  {
   "cell_type": "code",
   "execution_count": 5,
   "id": "popular-active",
   "metadata": {
    "execution": {
     "iopub.execute_input": "2021-09-22T01:30:09.233175Z",
     "iopub.status.busy": "2021-09-22T01:30:09.220846Z",
     "iopub.status.idle": "2021-09-22T01:30:09.249477Z",
     "shell.execute_reply": "2021-09-22T01:30:09.250774Z"
    },
    "papermill": {
     "duration": 0.071148,
     "end_time": "2021-09-22T01:30:09.251258",
     "exception": false,
     "start_time": "2021-09-22T01:30:09.180110",
     "status": "completed"
    },
    "tags": []
   },
   "outputs": [],
   "source": [
    "df_pivot = df.pivot_table(index=\"PRODUCT\", columns = \"RECORD_TIME\", values = \"LISTING_COUNT\")"
   ]
  },
  {
   "cell_type": "code",
   "execution_count": 6,
   "id": "union-huntington",
   "metadata": {
    "execution": {
     "iopub.execute_input": "2021-09-22T01:30:09.308027Z",
     "iopub.status.busy": "2021-09-22T01:30:09.305916Z",
     "iopub.status.idle": "2021-09-22T01:30:09.311232Z",
     "shell.execute_reply": "2021-09-22T01:30:09.312590Z"
    },
    "papermill": {
     "duration": 0.040401,
     "end_time": "2021-09-22T01:30:09.313013",
     "exception": false,
     "start_time": "2021-09-22T01:30:09.272612",
     "status": "completed"
    },
    "tags": []
   },
   "outputs": [],
   "source": [
    "df_pivot.columns = [\"stamp_1\", \"stamp_2\"]\n",
    "df_pivot_diff = df_pivot.diff(axis=1)"
   ]
  },
  {
   "cell_type": "code",
   "execution_count": 7,
   "id": "fifth-motion",
   "metadata": {
    "execution": {
     "iopub.execute_input": "2021-09-22T01:30:09.367559Z",
     "iopub.status.busy": "2021-09-22T01:30:09.364978Z",
     "iopub.status.idle": "2021-09-22T01:30:10.881966Z",
     "shell.execute_reply": "2021-09-22T01:30:10.883428Z"
    },
    "papermill": {
     "duration": 1.550372,
     "end_time": "2021-09-22T01:30:10.883892",
     "exception": false,
     "start_time": "2021-09-22T01:30:09.333520",
     "status": "completed"
    },
    "tags": []
   },
   "outputs": [
    {
     "data": {
      "text/plain": [
       "<AxesSubplot:ylabel='PRODUCT'>"
      ]
     },
     "execution_count": 7,
     "metadata": {},
     "output_type": "execute_result"
    },
    {
     "data": {
      "image/png": "[encoded data removed]",
      "text/plain": [
       "<Figure size 432x288 with 1 Axes>"
      ]
     },
     "metadata": {
      "needs_background": "light"
     },
     "output_type": "display_data"
    }
   ],
   "source": [
    "df_pivot_diff.sort_values(\"stamp_2\", ascending = False)[\"stamp_2\"].head(10).plot.barh()"
   ]
  },
  {
   "cell_type": "code",
   "execution_count": null,
   "id": "extra-executive",
   "metadata": {
    "papermill": {
     "duration": 0.022714,
     "end_time": "2021-09-22T01:30:10.930758",
     "exception": false,
     "start_time": "2021-09-22T01:30:10.908044",
     "status": "completed"
    },
    "tags": []
   },
   "outputs": [],
   "source": []
  }
 ],
 "metadata": {
  "kernelspec": {
   "display_name": "Python 3",
   "language": "python",
   "name": "python3"
  },
  "language_info": {
   "codemirror_mode": {
    "name": "ipython",
    "version": 3
   },
   "file_extension": ".py",
   "mimetype": "text/x-python",
   "name": "python",
   "nbconvert_exporter": "python",
   "pygments_lexer": "ipython3",
   "version": "3.9.5"
  },
  "papermill": {
   "default_parameters": {},
   "duration": 6.72152,
   "end_time": "2021-09-22T01:30:11.574168",
   "environment_variables": {},
   "exception": null,
   "input_path": "eBay_Overview.ipynb",
   "output_path": "eBay_Overview.ipynb",
   "parameters": {},
   "start_time": "2021-09-22T01:30:04.852648",
   "version": "2.3.3"
  }
 },
 "nbformat": 4,
 "nbformat_minor": 5
}