{
 "cells": [
  {
   "cell_type": "code",
   "execution_count": 1,
   "id": "reverse-picking",
   "metadata": {
    "execution": {
     "iopub.execute_input": "2021-09-12T09:00:07.773087Z",
     "iopub.status.busy": "2021-09-12T09:00:07.771105Z",
     "iopub.status.idle": "2021-09-12T09:00:08.585851Z",
     "shell.execute_reply": "2021-09-12T09:00:08.587275Z"
    },
    "papermill": {
     "duration": 0.868592,
     "end_time": "2021-09-12T09:00:08.587932",
     "exception": false,
     "start_time": "2021-09-12T09:00:07.719340",
     "status": "completed"
    },
    "tags": []
   },
   "outputs": [],
   "source": [
    "import pandas as pd\n",
    "import sqlite3"
   ]
  },
  {
   "cell_type": "code",
   "execution_count": 2,
   "id": "innovative-syndrome",
   "metadata": {
    "execution": {
     "iopub.execute_input": "2021-09-12T09:00:08.638770Z",
     "iopub.status.busy": "2021-09-12T09:00:08.636819Z",
     "iopub.status.idle": "2021-09-12T09:00:08.900293Z",
     "shell.execute_reply": "2021-09-12T09:00:08.901519Z"
    },
    "papermill": {
     "duration": 0.293742,
     "end_time": "2021-09-12T09:00:08.901915",
     "exception": false,
     "start_time": "2021-09-12T09:00:08.608173",
     "status": "completed"
    },
    "tags": []
   },
   "outputs": [],
   "source": [
    "timestamps = pd.read_sql(\"select distinct record_time from EBAY_TOP_BERLIN order by record_time desc limit 2\", sqlite3.connect(\"UsedObjects.db\"))"
   ]
  },
  {
   "cell_type": "code",
   "execution_count": 3,
   "id": "periodic-identification",
   "metadata": {
    "execution": {
     "iopub.execute_input": "2021-09-12T09:00:08.966320Z",
     "iopub.status.busy": "2021-09-12T09:00:08.964285Z",
     "iopub.status.idle": "2021-09-12T09:00:08.984303Z",
     "shell.execute_reply": "2021-09-12T09:00:08.985605Z"
    },
    "papermill": {
     "duration": 0.064613,
     "end_time": "2021-09-12T09:00:08.986021",
     "exception": false,
     "start_time": "2021-09-12T09:00:08.921408",
     "status": "completed"
    },
    "tags": []
   },
   "outputs": [
    {
     "data": {
      "text/html": [
       "<div>\n",
       "<style scoped>\n",
       "    .dataframe tbody tr th:only-of-type {\n",
       "        vertical-align: middle;\n",
       "    }\n",
       "\n",
       "    .dataframe tbody tr th {\n",
       "        vertical-align: top;\n",
       "    }\n",
       "\n",
       "    .dataframe thead th {\n",
       "        text-align: right;\n",
       "    }\n",
       "</style>\n",
       "<table border=\"1\" class=\"dataframe\">\n",
       "  <thead>\n",
       "    <tr style=\"text-align: right;\">\n",
       "      <th></th>\n",
       "      <th>RECORD_TIME</th>\n",
       "    </tr>\n",
       "  </thead>\n",
       "  <tbody>\n",
       "    <tr>\n",
       "      <th>0</th>\n",
       "      <td>2021-09-12 11:00</td>\n",
       "    </tr>\n",
       "    <tr>\n",
       "      <th>1</th>\n",
       "      <td>2021-09-12 10:30</td>\n",
       "    </tr>\n",
       "  </tbody>\n",
       "</table>\n",
       "</div>"
      ],
      "text/plain": [
       "        RECORD_TIME\n",
       "0  2021-09-12 11:00\n",
       "1  2021-09-12 10:30"
      ]
     },
     "execution_count": 3,
     "metadata": {},
     "output_type": "execute_result"
    }
   ],
   "source": [
    "timestamps"
   ]
  },
  {
   "cell_type": "code",
   "execution_count": 4,
   "id": "alternate-victory",
   "metadata": {
    "execution": {
     "iopub.execute_input": "2021-09-12T09:00:09.037643Z",
     "iopub.status.busy": "2021-09-12T09:00:09.035471Z",
     "iopub.status.idle": "2021-09-12T09:00:09.425442Z",
     "shell.execute_reply": "2021-09-12T09:00:09.426664Z"
    },
    "papermill": {
     "duration": 0.420054,
     "end_time": "2021-09-12T09:00:09.427120",
     "exception": false,
     "start_time": "2021-09-12T09:00:09.007066",
     "status": "completed"
    },
    "tags": []
   },
   "outputs": [],
   "source": [
    "df = pd.read_sql(\"select * from EBAY_TOP_BERLIN where record_time in (select distinct record_time from EBAY_TOP_BERLIN order by record_time desc limit 2)\", sqlite3.connect(\"UsedObjects.db\"))"
   ]
  },
  {
   "cell_type": "code",
   "execution_count": 5,
   "id": "popular-active",
   "metadata": {
    "execution": {
     "iopub.execute_input": "2021-09-12T09:00:09.509989Z",
     "iopub.status.busy": "2021-09-12T09:00:09.496619Z",
     "iopub.status.idle": "2021-09-12T09:00:09.525384Z",
     "shell.execute_reply": "2021-09-12T09:00:09.526615Z"
    },
    "papermill": {
     "duration": 0.072695,
     "end_time": "2021-09-12T09:00:09.527064",
     "exception": false,
     "start_time": "2021-09-12T09:00:09.454369",
     "status": "completed"
    },
    "tags": []
   },
   "outputs": [],
   "source": [
    "df_pivot = df.pivot_table(index=\"PRODUCT\", columns = \"RECORD_TIME\", values = \"LISTING_COUNT\")"
   ]
  },
  {
   "cell_type": "code",
   "execution_count": 6,
   "id": "union-huntington",
   "metadata": {
    "execution": {
     "iopub.execute_input": "2021-09-12T09:00:09.583151Z",
     "iopub.status.busy": "2021-09-12T09:00:09.581075Z",
     "iopub.status.idle": "2021-09-12T09:00:09.586321Z",
     "shell.execute_reply": "2021-09-12T09:00:09.587663Z"
    },
    "papermill": {
     "duration": 0.040401,
     "end_time": "2021-09-12T09:00:09.588108",
     "exception": false,
     "start_time": "2021-09-12T09:00:09.547707",
     "status": "completed"
    },
    "tags": []
   },
   "outputs": [],
   "source": [
    "df_pivot.columns = [\"stamp_1\", \"stamp_2\"]\n",
    "df_pivot_diff = df_pivot.diff(axis=1)"
   ]
  },
  {
   "cell_type": "code",
   "execution_count": 7,
   "id": "fifth-motion",
   "metadata": {
    "execution": {
     "iopub.execute_input": "2021-09-12T09:00:09.642794Z",
     "iopub.status.busy": "2021-09-12T09:00:09.640123Z",
     "iopub.status.idle": "2021-09-12T09:00:11.156811Z",
     "shell.execute_reply": "2021-09-12T09:00:11.158021Z"
    },
    "papermill": {
     "duration": 1.55028,
     "end_time": "2021-09-12T09:00:11.158452",
     "exception": false,
     "start_time": "2021-09-12T09:00:09.608172",
     "status": "completed"
    },
    "tags": []
   },
   "outputs": [
    {
     "data": {
      "text/plain": [
       "<AxesSubplot:ylabel='PRODUCT'>"
      ]
     },
     "execution_count": 7,
     "metadata": {},
     "output_type": "execute_result"
    },
    {
     "data": {
      "image/png": "[encoded data removed]",
      "text/plain": [
       "<Figure size 432x288 with 1 Axes>"
      ]
     },
     "metadata": {
      "needs_background": "light"
     },
     "output_type": "display_data"
    }
   ],
   "source": [
    "df_pivot_diff.sort_values(\"stamp_2\", ascending = False)[\"stamp_2\"].head(10).plot.barh()"
   ]
  },
  {
   "cell_type": "code",
   "execution_count": null,
   "id": "extra-executive",
   "metadata": {
    "papermill": {
     "duration": 0.022305,
     "end_time": "2021-09-12T09:00:11.204521",
     "exception": false,
     "start_time": "2021-09-12T09:00:11.182216",
     "status": "completed"
    },
    "tags": []
   },
   "outputs": [],
   "source": []
  }
 ],
 "metadata": {
  "kernelspec": {
   "display_name": "Python 3",
   "language": "python",
   "name": "python3"
  },
  "language_info": {
   "codemirror_mode": {
    "name": "ipython",
    "version": 3
   },
   "file_extension": ".py",
   "mimetype": "text/x-python",
   "name": "python",
   "nbconvert_exporter": "python",
   "pygments_lexer": "ipython3",
   "version": "3.9.5"
  },
  "papermill": {
   "default_parameters": {},
   "duration": 6.555374,
   "end_time": "2021-09-12T09:00:11.845975",
   "environment_variables": {},
   "exception": null,
   "input_path": "eBay_Overview.ipynb",
   "output_path": "eBay_Overview.ipynb",
   "parameters": {},
   "start_time": "2021-09-12T09:00:05.290601",
   "version": "2.3.3"
  }
 },
 "nbformat": 4,
 "nbformat_minor": 5
}