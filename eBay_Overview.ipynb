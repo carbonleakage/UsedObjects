{
 "cells": [
  {
   "cell_type": "code",
   "execution_count": 1,
   "id": "reverse-picking",
   "metadata": {
    "execution": {
     "iopub.execute_input": "2021-11-27T14:00:08.289285Z",
     "iopub.status.busy": "2021-11-27T14:00:08.286856Z",
     "iopub.status.idle": "2021-11-27T14:00:09.243441Z",
     "shell.execute_reply": "2021-11-27T14:00:09.245023Z"
    },
    "papermill": {
     "duration": 1.00687,
     "end_time": "2021-11-27T14:00:09.245783",
     "exception": false,
     "start_time": "2021-11-27T14:00:08.238913",
     "status": "completed"
    },
    "tags": []
   },
   "outputs": [],
   "source": [
    "import pandas as pd\n",
    "import sqlite3"
   ]
  },
  {
   "cell_type": "code",
   "execution_count": 2,
   "id": "innovative-syndrome",
   "metadata": {
    "execution": {
     "iopub.execute_input": "2021-11-27T14:00:09.310559Z",
     "iopub.status.busy": "2021-11-27T14:00:09.308092Z",
     "iopub.status.idle": "2021-11-27T14:00:10.246444Z",
     "shell.execute_reply": "2021-11-27T14:00:10.248301Z"
    },
    "papermill": {
     "duration": 0.973656,
     "end_time": "2021-11-27T14:00:10.248927",
     "exception": false,
     "start_time": "2021-11-27T14:00:09.275271",
     "status": "completed"
    },
    "tags": []
   },
   "outputs": [],
   "source": [
    "timestamps = pd.read_sql(\"select distinct record_time from EBAY_TOP_BERLIN order by record_time desc limit 2\", sqlite3.connect(\"UsedObjects.db\"))"
   ]
  },
  {
   "cell_type": "code",
   "execution_count": 3,
   "id": "periodic-identification",
   "metadata": {
    "execution": {
     "iopub.execute_input": "2021-11-27T14:00:10.320411Z",
     "iopub.status.busy": "2021-11-27T14:00:10.315277Z",
     "iopub.status.idle": "2021-11-27T14:00:10.336044Z",
     "shell.execute_reply": "2021-11-27T14:00:10.337706Z"
    },
    "papermill": {
     "duration": 0.065916,
     "end_time": "2021-11-27T14:00:10.338181",
     "exception": false,
     "start_time": "2021-11-27T14:00:10.272265",
     "status": "completed"
    },
    "tags": []
   },
   "outputs": [
    {
     "data": {
      "text/html": [
       "<div>\n",
       "<style scoped>\n",
       "    .dataframe tbody tr th:only-of-type {\n",
       "        vertical-align: middle;\n",
       "    }\n",
       "\n",
       "    .dataframe tbody tr th {\n",
       "        vertical-align: top;\n",
       "    }\n",
       "\n",
       "    .dataframe thead th {\n",
       "        text-align: right;\n",
       "    }\n",
       "</style>\n",
       "<table border=\"1\" class=\"dataframe\">\n",
       "  <thead>\n",
       "    <tr style=\"text-align: right;\">\n",
       "      <th></th>\n",
       "      <th>RECORD_TIME</th>\n",
       "    </tr>\n",
       "  </thead>\n",
       "  <tbody>\n",
       "    <tr>\n",
       "      <th>0</th>\n",
       "      <td>2021-11-27 15:00</td>\n",
       "    </tr>\n",
       "    <tr>\n",
       "      <th>1</th>\n",
       "      <td>2021-11-27 14:30</td>\n",
       "    </tr>\n",
       "  </tbody>\n",
       "</table>\n",
       "</div>"
      ],
      "text/plain": [
       "        RECORD_TIME\n",
       "0  2021-11-27 15:00\n",
       "1  2021-11-27 14:30"
      ]
     },
     "execution_count": 3,
     "metadata": {},
     "output_type": "execute_result"
    }
   ],
   "source": [
    "timestamps"
   ]
  },
  {
   "cell_type": "code",
   "execution_count": 4,
   "id": "alternate-victory",
   "metadata": {
    "execution": {
     "iopub.execute_input": "2021-11-27T14:00:10.390538Z",
     "iopub.status.busy": "2021-11-27T14:00:10.388124Z",
     "iopub.status.idle": "2021-11-27T14:00:11.732003Z",
     "shell.execute_reply": "2021-11-27T14:00:11.733434Z"
    },
    "papermill": {
     "duration": 1.374687,
     "end_time": "2021-11-27T14:00:11.733904",
     "exception": false,
     "start_time": "2021-11-27T14:00:10.359217",
     "status": "completed"
    },
    "tags": []
   },
   "outputs": [],
   "source": [
    "df = pd.read_sql(\"select * from EBAY_TOP_BERLIN where record_time in (select distinct record_time from EBAY_TOP_BERLIN order by record_time desc limit 2)\", sqlite3.connect(\"UsedObjects.db\"))"
   ]
  },
  {
   "cell_type": "code",
   "execution_count": 5,
   "id": "popular-active",
   "metadata": {
    "execution": {
     "iopub.execute_input": "2021-11-27T14:00:11.798106Z",
     "iopub.status.busy": "2021-11-27T14:00:11.795563Z",
     "iopub.status.idle": "2021-11-27T14:00:11.831369Z",
     "shell.execute_reply": "2021-11-27T14:00:11.832929Z"
    },
    "papermill": {
     "duration": 0.078455,
     "end_time": "2021-11-27T14:00:11.833446",
     "exception": false,
     "start_time": "2021-11-27T14:00:11.754991",
     "status": "completed"
    },
    "tags": []
   },
   "outputs": [],
   "source": [
    "df_pivot = df.pivot_table(index=\"PRODUCT\", columns = \"RECORD_TIME\", values = \"LISTING_COUNT\")"
   ]
  },
  {
   "cell_type": "code",
   "execution_count": 6,
   "id": "union-huntington",
   "metadata": {
    "execution": {
     "iopub.execute_input": "2021-11-27T14:00:11.897842Z",
     "iopub.status.busy": "2021-11-27T14:00:11.895668Z",
     "iopub.status.idle": "2021-11-27T14:00:11.910073Z",
     "shell.execute_reply": "2021-11-27T14:00:11.911877Z"
    },
    "papermill": {
     "duration": 0.056867,
     "end_time": "2021-11-27T14:00:11.912426",
     "exception": false,
     "start_time": "2021-11-27T14:00:11.855559",
     "status": "completed"
    },
    "tags": []
   },
   "outputs": [],
   "source": [
    "df_pivot.columns = [\"stamp_1\", \"stamp_2\"]\n",
    "df_pivot_diff = df_pivot.diff(axis=1)"
   ]
  },
  {
   "cell_type": "code",
   "execution_count": 7,
   "id": "fifth-motion",
   "metadata": {
    "execution": {
     "iopub.execute_input": "2021-11-27T14:00:11.972420Z",
     "iopub.status.busy": "2021-11-27T14:00:11.969950Z",
     "iopub.status.idle": "2021-11-27T14:00:13.974486Z",
     "shell.execute_reply": "2021-11-27T14:00:13.977065Z"
    },
    "papermill": {
     "duration": 2.042924,
     "end_time": "2021-11-27T14:00:13.977833",
     "exception": false,
     "start_time": "2021-11-27T14:00:11.934909",
     "status": "completed"
    },
    "tags": []
   },
   "outputs": [
    {
     "data": {
      "text/plain": [
       "<AxesSubplot:ylabel='PRODUCT'>"
      ]
     },
     "execution_count": 7,
     "metadata": {},
     "output_type": "execute_result"
    },
    {
     "data": {
      "image/png": "[encoded data removed]",
      "text/plain": [
       "<Figure size 432x288 with 1 Axes>"
      ]
     },
     "metadata": {
      "needs_background": "light"
     },
     "output_type": "display_data"
    }
   ],
   "source": [
    "df_pivot_diff.sort_values(\"stamp_2\", ascending = False)[\"stamp_2\"].head(10).plot.barh()"
   ]
  },
  {
   "cell_type": "code",
   "execution_count": null,
   "id": "extra-executive",
   "metadata": {
    "papermill": {
     "duration": 0.029166,
     "end_time": "2021-11-27T14:00:14.044314",
     "exception": false,
     "start_time": "2021-11-27T14:00:14.015148",
     "status": "completed"
    },
    "tags": []
   },
   "outputs": [],
   "source": []
  }
 ],
 "metadata": {
  "kernelspec": {
   "display_name": "Python 3",
   "language": "python",
   "name": "python3"
  },
  "language_info": {
   "codemirror_mode": {
    "name": "ipython",
    "version": 3
   },
   "file_extension": ".py",
   "mimetype": "text/x-python",
   "name": "python",
   "nbconvert_exporter": "python",
   "pygments_lexer": "ipython3",
   "version": "3.9.5"
  },
  "papermill": {
   "default_parameters": {},
   "duration": 9.932886,
   "end_time": "2021-11-27T14:00:15.456226",
   "environment_variables": {},
   "exception": null,
   "input_path": "eBay_Overview.ipynb",
   "output_path": "eBay_Overview.ipynb",
   "parameters": {},
   "start_time": "2021-11-27T14:00:05.523340",
   "version": "2.3.3"
  }
 },
 "nbformat": 4,
 "nbformat_minor": 5
}