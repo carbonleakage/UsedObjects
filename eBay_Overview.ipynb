{
 "cells": [
  {
   "cell_type": "code",
   "execution_count": 1,
   "id": "reverse-picking",
   "metadata": {
    "execution": {
     "iopub.execute_input": "2021-09-24T00:30:06.680496Z",
     "iopub.status.busy": "2021-09-24T00:30:06.678498Z",
     "iopub.status.idle": "2021-09-24T00:30:07.485138Z",
     "shell.execute_reply": "2021-09-24T00:30:07.486367Z"
    },
    "papermill": {
     "duration": 0.859334,
     "end_time": "2021-09-24T00:30:07.487037",
     "exception": false,
     "start_time": "2021-09-24T00:30:06.627703",
     "status": "completed"
    },
    "tags": []
   },
   "outputs": [],
   "source": [
    "import pandas as pd\n",
    "import sqlite3"
   ]
  },
  {
   "cell_type": "code",
   "execution_count": 2,
   "id": "innovative-syndrome",
   "metadata": {
    "execution": {
     "iopub.execute_input": "2021-09-24T00:30:07.538176Z",
     "iopub.status.busy": "2021-09-24T00:30:07.536338Z",
     "iopub.status.idle": "2021-09-24T00:30:07.894576Z",
     "shell.execute_reply": "2021-09-24T00:30:07.895848Z"
    },
    "papermill": {
     "duration": 0.388094,
     "end_time": "2021-09-24T00:30:07.896253",
     "exception": false,
     "start_time": "2021-09-24T00:30:07.508159",
     "status": "completed"
    },
    "tags": []
   },
   "outputs": [],
   "source": [
    "timestamps = pd.read_sql(\"select distinct record_time from EBAY_TOP_BERLIN order by record_time desc limit 2\", sqlite3.connect(\"UsedObjects.db\"))"
   ]
  },
  {
   "cell_type": "code",
   "execution_count": 3,
   "id": "periodic-identification",
   "metadata": {
    "execution": {
     "iopub.execute_input": "2021-09-24T00:30:07.961185Z",
     "iopub.status.busy": "2021-09-24T00:30:07.959196Z",
     "iopub.status.idle": "2021-09-24T00:30:07.978842Z",
     "shell.execute_reply": "2021-09-24T00:30:07.980222Z"
    },
    "papermill": {
     "duration": 0.064424,
     "end_time": "2021-09-24T00:30:07.980643",
     "exception": false,
     "start_time": "2021-09-24T00:30:07.916219",
     "status": "completed"
    },
    "tags": []
   },
   "outputs": [
    {
     "data": {
      "text/html": [
       "<div>\n",
       "<style scoped>\n",
       "    .dataframe tbody tr th:only-of-type {\n",
       "        vertical-align: middle;\n",
       "    }\n",
       "\n",
       "    .dataframe tbody tr th {\n",
       "        vertical-align: top;\n",
       "    }\n",
       "\n",
       "    .dataframe thead th {\n",
       "        text-align: right;\n",
       "    }\n",
       "</style>\n",
       "<table border=\"1\" class=\"dataframe\">\n",
       "  <thead>\n",
       "    <tr style=\"text-align: right;\">\n",
       "      <th></th>\n",
       "      <th>RECORD_TIME</th>\n",
       "    </tr>\n",
       "  </thead>\n",
       "  <tbody>\n",
       "    <tr>\n",
       "      <th>0</th>\n",
       "      <td>2021-09-24 02:30</td>\n",
       "    </tr>\n",
       "    <tr>\n",
       "      <th>1</th>\n",
       "      <td>2021-09-24 02:00</td>\n",
       "    </tr>\n",
       "  </tbody>\n",
       "</table>\n",
       "</div>"
      ],
      "text/plain": [
       "        RECORD_TIME\n",
       "0  2021-09-24 02:30\n",
       "1  2021-09-24 02:00"
      ]
     },
     "execution_count": 3,
     "metadata": {},
     "output_type": "execute_result"
    }
   ],
   "source": [
    "timestamps"
   ]
  },
  {
   "cell_type": "code",
   "execution_count": 4,
   "id": "alternate-victory",
   "metadata": {
    "execution": {
     "iopub.execute_input": "2021-09-24T00:30:08.033720Z",
     "iopub.status.busy": "2021-09-24T00:30:08.031453Z",
     "iopub.status.idle": "2021-09-24T00:30:08.571724Z",
     "shell.execute_reply": "2021-09-24T00:30:08.570203Z"
    },
    "papermill": {
     "duration": 0.569373,
     "end_time": "2021-09-24T00:30:08.572087",
     "exception": false,
     "start_time": "2021-09-24T00:30:08.002714",
     "status": "completed"
    },
    "tags": []
   },
   "outputs": [],
   "source": [
    "df = pd.read_sql(\"select * from EBAY_TOP_BERLIN where record_time in (select distinct record_time from EBAY_TOP_BERLIN order by record_time desc limit 2)\", sqlite3.connect(\"UsedObjects.db\"))"
   ]
  },
  {
   "cell_type": "code",
   "execution_count": 5,
   "id": "popular-active",
   "metadata": {
    "execution": {
     "iopub.execute_input": "2021-09-24T00:30:08.659203Z",
     "iopub.status.busy": "2021-09-24T00:30:08.647653Z",
     "iopub.status.idle": "2021-09-24T00:30:08.676134Z",
     "shell.execute_reply": "2021-09-24T00:30:08.674744Z"
    },
    "papermill": {
     "duration": 0.073412,
     "end_time": "2021-09-24T00:30:08.676475",
     "exception": false,
     "start_time": "2021-09-24T00:30:08.603063",
     "status": "completed"
    },
    "tags": []
   },
   "outputs": [],
   "source": [
    "df_pivot = df.pivot_table(index=\"PRODUCT\", columns = \"RECORD_TIME\", values = \"LISTING_COUNT\")"
   ]
  },
  {
   "cell_type": "code",
   "execution_count": 6,
   "id": "union-huntington",
   "metadata": {
    "execution": {
     "iopub.execute_input": "2021-09-24T00:30:08.733375Z",
     "iopub.status.busy": "2021-09-24T00:30:08.731230Z",
     "iopub.status.idle": "2021-09-24T00:30:08.736734Z",
     "shell.execute_reply": "2021-09-24T00:30:08.738078Z"
    },
    "papermill": {
     "duration": 0.041173,
     "end_time": "2021-09-24T00:30:08.738516",
     "exception": false,
     "start_time": "2021-09-24T00:30:08.697343",
     "status": "completed"
    },
    "tags": []
   },
   "outputs": [],
   "source": [
    "df_pivot.columns = [\"stamp_1\", \"stamp_2\"]\n",
    "df_pivot_diff = df_pivot.diff(axis=1)"
   ]
  },
  {
   "cell_type": "code",
   "execution_count": 7,
   "id": "fifth-motion",
   "metadata": {
    "execution": {
     "iopub.execute_input": "2021-09-24T00:30:08.795800Z",
     "iopub.status.busy": "2021-09-24T00:30:08.793108Z",
     "iopub.status.idle": "2021-09-24T00:30:10.317648Z",
     "shell.execute_reply": "2021-09-24T00:30:10.319157Z"
    },
    "papermill": {
     "duration": 1.558744,
     "end_time": "2021-09-24T00:30:10.319621",
     "exception": false,
     "start_time": "2021-09-24T00:30:08.760877",
     "status": "completed"
    },
    "tags": []
   },
   "outputs": [
    {
     "data": {
      "text/plain": [
       "<AxesSubplot:ylabel='PRODUCT'>"
      ]
     },
     "execution_count": 7,
     "metadata": {},
     "output_type": "execute_result"
    },
    {
     "data": {
      "image/png": "[encoded data removed]",
      "text/plain": [
       "<Figure size 432x288 with 1 Axes>"
      ]
     },
     "metadata": {
      "needs_background": "light"
     },
     "output_type": "display_data"
    }
   ],
   "source": [
    "df_pivot_diff.sort_values(\"stamp_2\", ascending = False)[\"stamp_2\"].head(10).plot.barh()"
   ]
  },
  {
   "cell_type": "code",
   "execution_count": null,
   "id": "extra-executive",
   "metadata": {
    "papermill": {
     "duration": 0.022555,
     "end_time": "2021-09-24T00:30:10.368302",
     "exception": false,
     "start_time": "2021-09-24T00:30:10.345747",
     "status": "completed"
    },
    "tags": []
   },
   "outputs": [],
   "source": []
  }
 ],
 "metadata": {
  "kernelspec": {
   "display_name": "Python 3",
   "language": "python",
   "name": "python3"
  },
  "language_info": {
   "codemirror_mode": {
    "name": "ipython",
    "version": 3
   },
   "file_extension": ".py",
   "mimetype": "text/x-python",
   "name": "python",
   "nbconvert_exporter": "python",
   "pygments_lexer": "ipython3",
   "version": "3.9.5"
  },
  "papermill": {
   "default_parameters": {},
   "duration": 6.784922,
   "end_time": "2021-09-24T00:30:11.011858",
   "environment_variables": {},
   "exception": null,
   "input_path": "eBay_Overview.ipynb",
   "output_path": "eBay_Overview.ipynb",
   "parameters": {},
   "start_time": "2021-09-24T00:30:04.226936",
   "version": "2.3.3"
  }
 },
 "nbformat": 4,
 "nbformat_minor": 5
}