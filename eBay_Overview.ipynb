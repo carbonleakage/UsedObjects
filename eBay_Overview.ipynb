{
 "cells": [
  {
   "cell_type": "code",
   "execution_count": 1,
   "id": "reverse-picking",
   "metadata": {
    "execution": {
     "iopub.execute_input": "2021-11-30T07:30:07.594419Z",
     "iopub.status.busy": "2021-11-30T07:30:07.592027Z",
     "iopub.status.idle": "2021-11-30T07:30:08.539761Z",
     "shell.execute_reply": "2021-11-30T07:30:08.541538Z"
    },
    "papermill": {
     "duration": 0.996896,
     "end_time": "2021-11-30T07:30:08.542283",
     "exception": false,
     "start_time": "2021-11-30T07:30:07.545387",
     "status": "completed"
    },
    "tags": []
   },
   "outputs": [],
   "source": [
    "import pandas as pd\n",
    "import sqlite3"
   ]
  },
  {
   "cell_type": "code",
   "execution_count": 2,
   "id": "innovative-syndrome",
   "metadata": {
    "execution": {
     "iopub.execute_input": "2021-11-30T07:30:08.606011Z",
     "iopub.status.busy": "2021-11-30T07:30:08.603567Z",
     "iopub.status.idle": "2021-11-30T07:30:09.561974Z",
     "shell.execute_reply": "2021-11-30T07:30:09.563275Z"
    },
    "papermill": {
     "duration": 0.993898,
     "end_time": "2021-11-30T07:30:09.563742",
     "exception": false,
     "start_time": "2021-11-30T07:30:08.569844",
     "status": "completed"
    },
    "tags": []
   },
   "outputs": [],
   "source": [
    "timestamps = pd.read_sql(\"select distinct record_time from EBAY_TOP_BERLIN order by record_time desc limit 2\", sqlite3.connect(\"UsedObjects.db\"))"
   ]
  },
  {
   "cell_type": "code",
   "execution_count": 3,
   "id": "periodic-identification",
   "metadata": {
    "execution": {
     "iopub.execute_input": "2021-11-30T07:30:09.636061Z",
     "iopub.status.busy": "2021-11-30T07:30:09.630123Z",
     "iopub.status.idle": "2021-11-30T07:30:09.652384Z",
     "shell.execute_reply": "2021-11-30T07:30:09.653997Z"
    },
    "papermill": {
     "duration": 0.0705,
     "end_time": "2021-11-30T07:30:09.654473",
     "exception": false,
     "start_time": "2021-11-30T07:30:09.583973",
     "status": "completed"
    },
    "tags": []
   },
   "outputs": [
    {
     "data": {
      "text/html": [
       "<div>\n",
       "<style scoped>\n",
       "    .dataframe tbody tr th:only-of-type {\n",
       "        vertical-align: middle;\n",
       "    }\n",
       "\n",
       "    .dataframe tbody tr th {\n",
       "        vertical-align: top;\n",
       "    }\n",
       "\n",
       "    .dataframe thead th {\n",
       "        text-align: right;\n",
       "    }\n",
       "</style>\n",
       "<table border=\"1\" class=\"dataframe\">\n",
       "  <thead>\n",
       "    <tr style=\"text-align: right;\">\n",
       "      <th></th>\n",
       "      <th>RECORD_TIME</th>\n",
       "    </tr>\n",
       "  </thead>\n",
       "  <tbody>\n",
       "    <tr>\n",
       "      <th>0</th>\n",
       "      <td>2021-11-30 08:30</td>\n",
       "    </tr>\n",
       "    <tr>\n",
       "      <th>1</th>\n",
       "      <td>2021-11-30 08:00</td>\n",
       "    </tr>\n",
       "  </tbody>\n",
       "</table>\n",
       "</div>"
      ],
      "text/plain": [
       "        RECORD_TIME\n",
       "0  2021-11-30 08:30\n",
       "1  2021-11-30 08:00"
      ]
     },
     "execution_count": 3,
     "metadata": {},
     "output_type": "execute_result"
    }
   ],
   "source": [
    "timestamps"
   ]
  },
  {
   "cell_type": "code",
   "execution_count": 4,
   "id": "alternate-victory",
   "metadata": {
    "execution": {
     "iopub.execute_input": "2021-11-30T07:30:09.709590Z",
     "iopub.status.busy": "2021-11-30T07:30:09.707387Z",
     "iopub.status.idle": "2021-11-30T07:30:11.082668Z",
     "shell.execute_reply": "2021-11-30T07:30:11.084140Z"
    },
    "papermill": {
     "duration": 1.409391,
     "end_time": "2021-11-30T07:30:11.084593",
     "exception": false,
     "start_time": "2021-11-30T07:30:09.675202",
     "status": "completed"
    },
    "tags": []
   },
   "outputs": [],
   "source": [
    "df = pd.read_sql(\"select * from EBAY_TOP_BERLIN where record_time in (select distinct record_time from EBAY_TOP_BERLIN order by record_time desc limit 2)\", sqlite3.connect(\"UsedObjects.db\"))"
   ]
  },
  {
   "cell_type": "code",
   "execution_count": 5,
   "id": "popular-active",
   "metadata": {
    "execution": {
     "iopub.execute_input": "2021-11-30T07:30:11.150364Z",
     "iopub.status.busy": "2021-11-30T07:30:11.147966Z",
     "iopub.status.idle": "2021-11-30T07:30:11.191176Z",
     "shell.execute_reply": "2021-11-30T07:30:11.193949Z"
    },
    "papermill": {
     "duration": 0.088896,
     "end_time": "2021-11-30T07:30:11.194773",
     "exception": false,
     "start_time": "2021-11-30T07:30:11.105877",
     "status": "completed"
    },
    "tags": []
   },
   "outputs": [],
   "source": [
    "df_pivot = df.pivot_table(index=\"PRODUCT\", columns = \"RECORD_TIME\", values = \"LISTING_COUNT\")"
   ]
  },
  {
   "cell_type": "code",
   "execution_count": 6,
   "id": "union-huntington",
   "metadata": {
    "execution": {
     "iopub.execute_input": "2021-11-30T07:30:11.274818Z",
     "iopub.status.busy": "2021-11-30T07:30:11.272588Z",
     "iopub.status.idle": "2021-11-30T07:30:11.278433Z",
     "shell.execute_reply": "2021-11-30T07:30:11.279870Z"
    },
    "papermill": {
     "duration": 0.053352,
     "end_time": "2021-11-30T07:30:11.280365",
     "exception": false,
     "start_time": "2021-11-30T07:30:11.227013",
     "status": "completed"
    },
    "tags": []
   },
   "outputs": [],
   "source": [
    "df_pivot.columns = [\"stamp_1\", \"stamp_2\"]\n",
    "df_pivot_diff = df_pivot.diff(axis=1)"
   ]
  },
  {
   "cell_type": "code",
   "execution_count": 7,
   "id": "fifth-motion",
   "metadata": {
    "execution": {
     "iopub.execute_input": "2021-11-30T07:30:11.351229Z",
     "iopub.status.busy": "2021-11-30T07:30:11.338513Z",
     "iopub.status.idle": "2021-11-30T07:30:13.205059Z",
     "shell.execute_reply": "2021-11-30T07:30:13.208106Z"
    },
    "papermill": {
     "duration": 1.90685,
     "end_time": "2021-11-30T07:30:13.209063",
     "exception": false,
     "start_time": "2021-11-30T07:30:11.302213",
     "status": "completed"
    },
    "tags": []
   },
   "outputs": [
    {
     "data": {
      "text/plain": [
       "<AxesSubplot:ylabel='PRODUCT'>"
      ]
     },
     "execution_count": 7,
     "metadata": {},
     "output_type": "execute_result"
    },
    {
     "data": {
      "image/png": "[encoded data removed]",
      "text/plain": [
       "<Figure size 432x288 with 1 Axes>"
      ]
     },
     "metadata": {
      "needs_background": "light"
     },
     "output_type": "display_data"
    }
   ],
   "source": [
    "df_pivot_diff.sort_values(\"stamp_2\", ascending = False)[\"stamp_2\"].head(10).plot.barh()"
   ]
  },
  {
   "cell_type": "code",
   "execution_count": null,
   "id": "extra-executive",
   "metadata": {
    "papermill": {
     "duration": 0.034941,
     "end_time": "2021-11-30T07:30:13.279768",
     "exception": false,
     "start_time": "2021-11-30T07:30:13.244827",
     "status": "completed"
    },
    "tags": []
   },
   "outputs": [],
   "source": []
  }
 ],
 "metadata": {
  "kernelspec": {
   "display_name": "Python 3",
   "language": "python",
   "name": "python3"
  },
  "language_info": {
   "codemirror_mode": {
    "name": "ipython",
    "version": 3
   },
   "file_extension": ".py",
   "mimetype": "text/x-python",
   "name": "python",
   "nbconvert_exporter": "python",
   "pygments_lexer": "ipython3",
   "version": "3.9.5"
  },
  "papermill": {
   "default_parameters": {},
   "duration": 10.008534,
   "end_time": "2021-11-30T07:30:14.742228",
   "environment_variables": {},
   "exception": null,
   "input_path": "eBay_Overview.ipynb",
   "output_path": "eBay_Overview.ipynb",
   "parameters": {},
   "start_time": "2021-11-30T07:30:04.733694",
   "version": "2.3.3"
  }
 },
 "nbformat": 4,
 "nbformat_minor": 5
}