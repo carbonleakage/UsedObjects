{
 "cells": [
  {
   "cell_type": "code",
   "execution_count": 1,
   "id": "reverse-picking",
   "metadata": {
    "execution": {
     "iopub.execute_input": "2021-10-20T05:00:06.797401Z",
     "iopub.status.busy": "2021-10-20T05:00:06.795407Z",
     "iopub.status.idle": "2021-10-20T05:00:07.598115Z",
     "shell.execute_reply": "2021-10-20T05:00:07.599533Z"
    },
    "papermill": {
     "duration": 0.854869,
     "end_time": "2021-10-20T05:00:07.600229",
     "exception": false,
     "start_time": "2021-10-20T05:00:06.745360",
     "status": "completed"
    },
    "tags": []
   },
   "outputs": [],
   "source": [
    "import pandas as pd\n",
    "import sqlite3"
   ]
  },
  {
   "cell_type": "code",
   "execution_count": 2,
   "id": "innovative-syndrome",
   "metadata": {
    "execution": {
     "iopub.execute_input": "2021-10-20T05:00:07.650908Z",
     "iopub.status.busy": "2021-10-20T05:00:07.648608Z",
     "iopub.status.idle": "2021-10-20T05:00:08.227103Z",
     "shell.execute_reply": "2021-10-20T05:00:08.228300Z"
    },
    "papermill": {
     "duration": 0.608059,
     "end_time": "2021-10-20T05:00:08.228735",
     "exception": false,
     "start_time": "2021-10-20T05:00:07.620676",
     "status": "completed"
    },
    "tags": []
   },
   "outputs": [],
   "source": [
    "timestamps = pd.read_sql(\"select distinct record_time from EBAY_TOP_BERLIN order by record_time desc limit 2\", sqlite3.connect(\"UsedObjects.db\"))"
   ]
  },
  {
   "cell_type": "code",
   "execution_count": 3,
   "id": "periodic-identification",
   "metadata": {
    "execution": {
     "iopub.execute_input": "2021-10-20T05:00:08.303362Z",
     "iopub.status.busy": "2021-10-20T05:00:08.301242Z",
     "iopub.status.idle": "2021-10-20T05:00:08.322758Z",
     "shell.execute_reply": "2021-10-20T05:00:08.323963Z"
    },
    "papermill": {
     "duration": 0.070455,
     "end_time": "2021-10-20T05:00:08.324349",
     "exception": false,
     "start_time": "2021-10-20T05:00:08.253894",
     "status": "completed"
    },
    "tags": []
   },
   "outputs": [
    {
     "data": {
      "text/html": [
       "<div>\n",
       "<style scoped>\n",
       "    .dataframe tbody tr th:only-of-type {\n",
       "        vertical-align: middle;\n",
       "    }\n",
       "\n",
       "    .dataframe tbody tr th {\n",
       "        vertical-align: top;\n",
       "    }\n",
       "\n",
       "    .dataframe thead th {\n",
       "        text-align: right;\n",
       "    }\n",
       "</style>\n",
       "<table border=\"1\" class=\"dataframe\">\n",
       "  <thead>\n",
       "    <tr style=\"text-align: right;\">\n",
       "      <th></th>\n",
       "      <th>RECORD_TIME</th>\n",
       "    </tr>\n",
       "  </thead>\n",
       "  <tbody>\n",
       "    <tr>\n",
       "      <th>0</th>\n",
       "      <td>2021-10-20 07:00</td>\n",
       "    </tr>\n",
       "    <tr>\n",
       "      <th>1</th>\n",
       "      <td>2021-10-20 06:30</td>\n",
       "    </tr>\n",
       "  </tbody>\n",
       "</table>\n",
       "</div>"
      ],
      "text/plain": [
       "        RECORD_TIME\n",
       "0  2021-10-20 07:00\n",
       "1  2021-10-20 06:30"
      ]
     },
     "execution_count": 3,
     "metadata": {},
     "output_type": "execute_result"
    }
   ],
   "source": [
    "timestamps"
   ]
  },
  {
   "cell_type": "code",
   "execution_count": 4,
   "id": "alternate-victory",
   "metadata": {
    "execution": {
     "iopub.execute_input": "2021-10-20T05:00:08.379049Z",
     "iopub.status.busy": "2021-10-20T05:00:08.377046Z",
     "iopub.status.idle": "2021-10-20T05:00:09.231054Z",
     "shell.execute_reply": "2021-10-20T05:00:09.232269Z"
    },
    "papermill": {
     "duration": 0.885497,
     "end_time": "2021-10-20T05:00:09.232665",
     "exception": false,
     "start_time": "2021-10-20T05:00:08.347168",
     "status": "completed"
    },
    "tags": []
   },
   "outputs": [],
   "source": [
    "df = pd.read_sql(\"select * from EBAY_TOP_BERLIN where record_time in (select distinct record_time from EBAY_TOP_BERLIN order by record_time desc limit 2)\", sqlite3.connect(\"UsedObjects.db\"))"
   ]
  },
  {
   "cell_type": "code",
   "execution_count": 5,
   "id": "popular-active",
   "metadata": {
    "execution": {
     "iopub.execute_input": "2021-10-20T05:00:09.303546Z",
     "iopub.status.busy": "2021-10-20T05:00:09.291323Z",
     "iopub.status.idle": "2021-10-20T05:00:09.319282Z",
     "shell.execute_reply": "2021-10-20T05:00:09.320574Z"
    },
    "papermill": {
     "duration": 0.067584,
     "end_time": "2021-10-20T05:00:09.321045",
     "exception": false,
     "start_time": "2021-10-20T05:00:09.253461",
     "status": "completed"
    },
    "tags": []
   },
   "outputs": [],
   "source": [
    "df_pivot = df.pivot_table(index=\"PRODUCT\", columns = \"RECORD_TIME\", values = \"LISTING_COUNT\")"
   ]
  },
  {
   "cell_type": "code",
   "execution_count": 6,
   "id": "union-huntington",
   "metadata": {
    "execution": {
     "iopub.execute_input": "2021-10-20T05:00:09.378486Z",
     "iopub.status.busy": "2021-10-20T05:00:09.376280Z",
     "iopub.status.idle": "2021-10-20T05:00:09.381904Z",
     "shell.execute_reply": "2021-10-20T05:00:09.383185Z"
    },
    "papermill": {
     "duration": 0.040778,
     "end_time": "2021-10-20T05:00:09.383637",
     "exception": false,
     "start_time": "2021-10-20T05:00:09.342859",
     "status": "completed"
    },
    "tags": []
   },
   "outputs": [],
   "source": [
    "df_pivot.columns = [\"stamp_1\", \"stamp_2\"]\n",
    "df_pivot_diff = df_pivot.diff(axis=1)"
   ]
  },
  {
   "cell_type": "code",
   "execution_count": 7,
   "id": "fifth-motion",
   "metadata": {
    "execution": {
     "iopub.execute_input": "2021-10-20T05:00:09.442840Z",
     "iopub.status.busy": "2021-10-20T05:00:09.440395Z",
     "iopub.status.idle": "2021-10-20T05:00:10.933682Z",
     "shell.execute_reply": "2021-10-20T05:00:10.935049Z"
    },
    "papermill": {
     "duration": 1.527403,
     "end_time": "2021-10-20T05:00:10.935486",
     "exception": false,
     "start_time": "2021-10-20T05:00:09.408083",
     "status": "completed"
    },
    "tags": []
   },
   "outputs": [
    {
     "data": {
      "text/plain": [
       "<AxesSubplot:ylabel='PRODUCT'>"
      ]
     },
     "execution_count": 7,
     "metadata": {},
     "output_type": "execute_result"
    },
    {
     "data": {
      "image/png": "[encoded data removed]",
      "text/plain": [
       "<Figure size 432x288 with 1 Axes>"
      ]
     },
     "metadata": {
      "needs_background": "light"
     },
     "output_type": "display_data"
    }
   ],
   "source": [
    "df_pivot_diff.sort_values(\"stamp_2\", ascending = False)[\"stamp_2\"].head(10).plot.barh()"
   ]
  },
  {
   "cell_type": "code",
   "execution_count": null,
   "id": "extra-executive",
   "metadata": {
    "papermill": {
     "duration": 0.022143,
     "end_time": "2021-10-20T05:00:10.981371",
     "exception": false,
     "start_time": "2021-10-20T05:00:10.959228",
     "status": "completed"
    },
    "tags": []
   },
   "outputs": [],
   "source": []
  }
 ],
 "metadata": {
  "kernelspec": {
   "display_name": "Python 3",
   "language": "python",
   "name": "python3"
  },
  "language_info": {
   "codemirror_mode": {
    "name": "ipython",
    "version": 3
   },
   "file_extension": ".py",
   "mimetype": "text/x-python",
   "name": "python",
   "nbconvert_exporter": "python",
   "pygments_lexer": "ipython3",
   "version": "3.9.5"
  },
  "papermill": {
   "default_parameters": {},
   "duration": 7.826087,
   "end_time": "2021-10-20T05:00:12.167762",
   "environment_variables": {},
   "exception": null,
   "input_path": "eBay_Overview.ipynb",
   "output_path": "eBay_Overview.ipynb",
   "parameters": {},
   "start_time": "2021-10-20T05:00:04.341675",
   "version": "2.3.3"
  }
 },
 "nbformat": 4,
 "nbformat_minor": 5
}