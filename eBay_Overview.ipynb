{
 "cells": [
  {
   "cell_type": "code",
   "execution_count": 1,
   "id": "reverse-picking",
   "metadata": {
    "execution": {
     "iopub.execute_input": "2021-12-04T23:00:08.605404Z",
     "iopub.status.busy": "2021-12-04T23:00:08.603413Z",
     "iopub.status.idle": "2021-12-04T23:00:09.577128Z",
     "shell.execute_reply": "2021-12-04T23:00:09.575331Z"
    },
    "papermill": {
     "duration": 1.022599,
     "end_time": "2021-12-04T23:00:09.577626",
     "exception": false,
     "start_time": "2021-12-04T23:00:08.555027",
     "status": "completed"
    },
    "tags": []
   },
   "outputs": [],
   "source": [
    "import pandas as pd\n",
    "import sqlite3"
   ]
  },
  {
   "cell_type": "code",
   "execution_count": 2,
   "id": "innovative-syndrome",
   "metadata": {
    "execution": {
     "iopub.execute_input": "2021-12-04T23:00:09.633328Z",
     "iopub.status.busy": "2021-12-04T23:00:09.631058Z",
     "iopub.status.idle": "2021-12-04T23:00:10.624297Z",
     "shell.execute_reply": "2021-12-04T23:00:10.625943Z"
    },
    "papermill": {
     "duration": 1.02739,
     "end_time": "2021-12-04T23:00:10.626474",
     "exception": false,
     "start_time": "2021-12-04T23:00:09.599084",
     "status": "completed"
    },
    "tags": []
   },
   "outputs": [],
   "source": [
    "timestamps = pd.read_sql(\"select distinct record_time from EBAY_TOP_BERLIN order by record_time desc limit 2\", sqlite3.connect(\"UsedObjects.db\"))"
   ]
  },
  {
   "cell_type": "code",
   "execution_count": 3,
   "id": "periodic-identification",
   "metadata": {
    "execution": {
     "iopub.execute_input": "2021-12-04T23:00:10.689266Z",
     "iopub.status.busy": "2021-12-04T23:00:10.686923Z",
     "iopub.status.idle": "2021-12-04T23:00:10.732004Z",
     "shell.execute_reply": "2021-12-04T23:00:10.733483Z"
    },
    "papermill": {
     "duration": 0.087162,
     "end_time": "2021-12-04T23:00:10.733988",
     "exception": false,
     "start_time": "2021-12-04T23:00:10.646826",
     "status": "completed"
    },
    "tags": []
   },
   "outputs": [
    {
     "data": {
      "text/html": [
       "<div>\n",
       "<style scoped>\n",
       "    .dataframe tbody tr th:only-of-type {\n",
       "        vertical-align: middle;\n",
       "    }\n",
       "\n",
       "    .dataframe tbody tr th {\n",
       "        vertical-align: top;\n",
       "    }\n",
       "\n",
       "    .dataframe thead th {\n",
       "        text-align: right;\n",
       "    }\n",
       "</style>\n",
       "<table border=\"1\" class=\"dataframe\">\n",
       "  <thead>\n",
       "    <tr style=\"text-align: right;\">\n",
       "      <th></th>\n",
       "      <th>RECORD_TIME</th>\n",
       "    </tr>\n",
       "  </thead>\n",
       "  <tbody>\n",
       "    <tr>\n",
       "      <th>0</th>\n",
       "      <td>2021-12-05 00:00</td>\n",
       "    </tr>\n",
       "    <tr>\n",
       "      <th>1</th>\n",
       "      <td>2021-12-04 23:30</td>\n",
       "    </tr>\n",
       "  </tbody>\n",
       "</table>\n",
       "</div>"
      ],
      "text/plain": [
       "        RECORD_TIME\n",
       "0  2021-12-05 00:00\n",
       "1  2021-12-04 23:30"
      ]
     },
     "execution_count": 3,
     "metadata": {},
     "output_type": "execute_result"
    }
   ],
   "source": [
    "timestamps"
   ]
  },
  {
   "cell_type": "code",
   "execution_count": 4,
   "id": "alternate-victory",
   "metadata": {
    "execution": {
     "iopub.execute_input": "2021-12-04T23:00:10.790954Z",
     "iopub.status.busy": "2021-12-04T23:00:10.788859Z",
     "iopub.status.idle": "2021-12-04T23:00:12.247879Z",
     "shell.execute_reply": "2021-12-04T23:00:12.249982Z"
    },
    "papermill": {
     "duration": 1.4935,
     "end_time": "2021-12-04T23:00:12.250432",
     "exception": false,
     "start_time": "2021-12-04T23:00:10.756932",
     "status": "completed"
    },
    "tags": []
   },
   "outputs": [],
   "source": [
    "df = pd.read_sql(\"select * from EBAY_TOP_BERLIN where record_time in (select distinct record_time from EBAY_TOP_BERLIN order by record_time desc limit 2)\", sqlite3.connect(\"UsedObjects.db\"))"
   ]
  },
  {
   "cell_type": "code",
   "execution_count": 5,
   "id": "popular-active",
   "metadata": {
    "execution": {
     "iopub.execute_input": "2021-12-04T23:00:12.329738Z",
     "iopub.status.busy": "2021-12-04T23:00:12.315499Z",
     "iopub.status.idle": "2021-12-04T23:00:12.347554Z",
     "shell.execute_reply": "2021-12-04T23:00:12.349171Z"
    },
    "papermill": {
     "duration": 0.076925,
     "end_time": "2021-12-04T23:00:12.349666",
     "exception": false,
     "start_time": "2021-12-04T23:00:12.272741",
     "status": "completed"
    },
    "tags": []
   },
   "outputs": [],
   "source": [
    "df_pivot = df.pivot_table(index=\"PRODUCT\", columns = \"RECORD_TIME\", values = \"LISTING_COUNT\")"
   ]
  },
  {
   "cell_type": "code",
   "execution_count": 6,
   "id": "union-huntington",
   "metadata": {
    "execution": {
     "iopub.execute_input": "2021-12-04T23:00:12.408381Z",
     "iopub.status.busy": "2021-12-04T23:00:12.405748Z",
     "iopub.status.idle": "2021-12-04T23:00:12.413600Z",
     "shell.execute_reply": "2021-12-04T23:00:12.411468Z"
    },
    "papermill": {
     "duration": 0.044338,
     "end_time": "2021-12-04T23:00:12.414035",
     "exception": false,
     "start_time": "2021-12-04T23:00:12.369697",
     "status": "completed"
    },
    "tags": []
   },
   "outputs": [],
   "source": [
    "df_pivot.columns = [\"stamp_1\", \"stamp_2\"]\n",
    "df_pivot_diff = df_pivot.diff(axis=1)"
   ]
  },
  {
   "cell_type": "code",
   "execution_count": 7,
   "id": "fifth-motion",
   "metadata": {
    "execution": {
     "iopub.execute_input": "2021-12-04T23:00:12.469211Z",
     "iopub.status.busy": "2021-12-04T23:00:12.466678Z",
     "iopub.status.idle": "2021-12-04T23:00:14.464506Z",
     "shell.execute_reply": "2021-12-04T23:00:14.466314Z"
    },
    "papermill": {
     "duration": 2.03035,
     "end_time": "2021-12-04T23:00:14.466847",
     "exception": false,
     "start_time": "2021-12-04T23:00:12.436497",
     "status": "completed"
    },
    "tags": []
   },
   "outputs": [
    {
     "data": {
      "text/plain": [
       "<AxesSubplot:ylabel='PRODUCT'>"
      ]
     },
     "execution_count": 7,
     "metadata": {},
     "output_type": "execute_result"
    },
    {
     "data": {
      "image/png": "[encoded data removed]",
      "text/plain": [
       "<Figure size 432x288 with 1 Axes>"
      ]
     },
     "metadata": {
      "needs_background": "light"
     },
     "output_type": "display_data"
    }
   ],
   "source": [
    "df_pivot_diff.sort_values(\"stamp_2\", ascending = False)[\"stamp_2\"].head(10).plot.barh()"
   ]
  },
  {
   "cell_type": "code",
   "execution_count": null,
   "id": "extra-executive",
   "metadata": {
    "papermill": {
     "duration": 0.037843,
     "end_time": "2021-12-04T23:00:14.529463",
     "exception": false,
     "start_time": "2021-12-04T23:00:14.491620",
     "status": "completed"
    },
    "tags": []
   },
   "outputs": [],
   "source": []
  }
 ],
 "metadata": {
  "kernelspec": {
   "display_name": "Python 3",
   "language": "python",
   "name": "python3"
  },
  "language_info": {
   "codemirror_mode": {
    "name": "ipython",
    "version": 3
   },
   "file_extension": ".py",
   "mimetype": "text/x-python",
   "name": "python",
   "nbconvert_exporter": "python",
   "pygments_lexer": "ipython3",
   "version": "3.9.5"
  },
  "papermill": {
   "default_parameters": {},
   "duration": 9.947265,
   "end_time": "2021-12-04T23:00:15.749959",
   "environment_variables": {},
   "exception": null,
   "input_path": "eBay_Overview.ipynb",
   "output_path": "eBay_Overview.ipynb",
   "parameters": {},
   "start_time": "2021-12-04T23:00:05.802694",
   "version": "2.3.3"
  }
 },
 "nbformat": 4,
 "nbformat_minor": 5
}