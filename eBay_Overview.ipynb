{
 "cells": [
  {
   "cell_type": "code",
   "execution_count": 1,
   "id": "reverse-picking",
   "metadata": {
    "execution": {
     "iopub.execute_input": "2021-08-30T13:00:06.748401Z",
     "iopub.status.busy": "2021-08-30T13:00:06.746400Z",
     "iopub.status.idle": "2021-08-30T13:00:07.550170Z",
     "shell.execute_reply": "2021-08-30T13:00:07.548504Z"
    },
    "papermill": {
     "duration": 0.852967,
     "end_time": "2021-08-30T13:00:07.550598",
     "exception": false,
     "start_time": "2021-08-30T13:00:06.697631",
     "status": "completed"
    },
    "tags": []
   },
   "outputs": [],
   "source": [
    "import pandas as pd\n",
    "import sqlite3"
   ]
  },
  {
   "cell_type": "code",
   "execution_count": 2,
   "id": "innovative-syndrome",
   "metadata": {
    "execution": {
     "iopub.execute_input": "2021-08-30T13:00:07.601479Z",
     "iopub.status.busy": "2021-08-30T13:00:07.599497Z",
     "iopub.status.idle": "2021-08-30T13:00:07.765175Z",
     "shell.execute_reply": "2021-08-30T13:00:07.766430Z"
    },
    "papermill": {
     "duration": 0.195052,
     "end_time": "2021-08-30T13:00:07.766830",
     "exception": false,
     "start_time": "2021-08-30T13:00:07.571778",
     "status": "completed"
    },
    "tags": []
   },
   "outputs": [],
   "source": [
    "timestamps = pd.read_sql(\"select distinct record_time from EBAY_TOP_BERLIN order by record_time desc limit 2\", sqlite3.connect(\"UsedObjects.db\"))"
   ]
  },
  {
   "cell_type": "code",
   "execution_count": 3,
   "id": "periodic-identification",
   "metadata": {
    "execution": {
     "iopub.execute_input": "2021-08-30T13:00:07.830625Z",
     "iopub.status.busy": "2021-08-30T13:00:07.828622Z",
     "iopub.status.idle": "2021-08-30T13:00:07.848312Z",
     "shell.execute_reply": "2021-08-30T13:00:07.849569Z"
    },
    "papermill": {
     "duration": 0.063896,
     "end_time": "2021-08-30T13:00:07.849971",
     "exception": false,
     "start_time": "2021-08-30T13:00:07.786075",
     "status": "completed"
    },
    "tags": []
   },
   "outputs": [
    {
     "data": {
      "text/html": [
       "<div>\n",
       "<style scoped>\n",
       "    .dataframe tbody tr th:only-of-type {\n",
       "        vertical-align: middle;\n",
       "    }\n",
       "\n",
       "    .dataframe tbody tr th {\n",
       "        vertical-align: top;\n",
       "    }\n",
       "\n",
       "    .dataframe thead th {\n",
       "        text-align: right;\n",
       "    }\n",
       "</style>\n",
       "<table border=\"1\" class=\"dataframe\">\n",
       "  <thead>\n",
       "    <tr style=\"text-align: right;\">\n",
       "      <th></th>\n",
       "      <th>RECORD_TIME</th>\n",
       "    </tr>\n",
       "  </thead>\n",
       "  <tbody>\n",
       "    <tr>\n",
       "      <th>0</th>\n",
       "      <td>2021-08-30 15:00</td>\n",
       "    </tr>\n",
       "    <tr>\n",
       "      <th>1</th>\n",
       "      <td>2021-08-30 14:30</td>\n",
       "    </tr>\n",
       "  </tbody>\n",
       "</table>\n",
       "</div>"
      ],
      "text/plain": [
       "        RECORD_TIME\n",
       "0  2021-08-30 15:00\n",
       "1  2021-08-30 14:30"
      ]
     },
     "execution_count": 3,
     "metadata": {},
     "output_type": "execute_result"
    }
   ],
   "source": [
    "timestamps"
   ]
  },
  {
   "cell_type": "code",
   "execution_count": 4,
   "id": "alternate-victory",
   "metadata": {
    "execution": {
     "iopub.execute_input": "2021-08-30T13:00:07.902197Z",
     "iopub.status.busy": "2021-08-30T13:00:07.899963Z",
     "iopub.status.idle": "2021-08-30T13:00:08.157127Z",
     "shell.execute_reply": "2021-08-30T13:00:08.158278Z"
    },
    "papermill": {
     "duration": 0.287148,
     "end_time": "2021-08-30T13:00:08.158695",
     "exception": false,
     "start_time": "2021-08-30T13:00:07.871547",
     "status": "completed"
    },
    "tags": []
   },
   "outputs": [],
   "source": [
    "df = pd.read_sql(\"select * from EBAY_TOP_BERLIN where record_time in (select distinct record_time from EBAY_TOP_BERLIN order by record_time desc limit 2)\", sqlite3.connect(\"UsedObjects.db\"))"
   ]
  },
  {
   "cell_type": "code",
   "execution_count": 5,
   "id": "popular-active",
   "metadata": {
    "execution": {
     "iopub.execute_input": "2021-08-30T13:00:08.240126Z",
     "iopub.status.busy": "2021-08-30T13:00:08.227883Z",
     "iopub.status.idle": "2021-08-30T13:00:08.256320Z",
     "shell.execute_reply": "2021-08-30T13:00:08.257738Z"
    },
    "papermill": {
     "duration": 0.072292,
     "end_time": "2021-08-30T13:00:08.258183",
     "exception": false,
     "start_time": "2021-08-30T13:00:08.185891",
     "status": "completed"
    },
    "tags": []
   },
   "outputs": [],
   "source": [
    "df_pivot = df.pivot_table(index=\"PRODUCT\", columns = \"RECORD_TIME\", values = \"LISTING_COUNT\")"
   ]
  },
  {
   "cell_type": "code",
   "execution_count": 6,
   "id": "union-huntington",
   "metadata": {
    "execution": {
     "iopub.execute_input": "2021-08-30T13:00:08.315602Z",
     "iopub.status.busy": "2021-08-30T13:00:08.313190Z",
     "iopub.status.idle": "2021-08-30T13:00:08.319257Z",
     "shell.execute_reply": "2021-08-30T13:00:08.320660Z"
    },
    "papermill": {
     "duration": 0.042563,
     "end_time": "2021-08-30T13:00:08.321149",
     "exception": false,
     "start_time": "2021-08-30T13:00:08.278586",
     "status": "completed"
    },
    "tags": []
   },
   "outputs": [],
   "source": [
    "df_pivot.columns = [\"stamp_1\", \"stamp_2\"]\n",
    "df_pivot_diff = df_pivot.diff(axis=1)"
   ]
  },
  {
   "cell_type": "code",
   "execution_count": 7,
   "id": "fifth-motion",
   "metadata": {
    "execution": {
     "iopub.execute_input": "2021-08-30T13:00:08.376343Z",
     "iopub.status.busy": "2021-08-30T13:00:08.373886Z",
     "iopub.status.idle": "2021-08-30T13:00:09.871361Z",
     "shell.execute_reply": "2021-08-30T13:00:09.872876Z"
    },
    "papermill": {
     "duration": 1.530294,
     "end_time": "2021-08-30T13:00:09.873361",
     "exception": false,
     "start_time": "2021-08-30T13:00:08.343067",
     "status": "completed"
    },
    "tags": []
   },
   "outputs": [
    {
     "data": {
      "text/plain": [
       "<AxesSubplot:ylabel='PRODUCT'>"
      ]
     },
     "execution_count": 7,
     "metadata": {},
     "output_type": "execute_result"
    },
    {
     "data": {
      "image/png": "[encoded data removed]",
      "text/plain": [
       "<Figure size 432x288 with 1 Axes>"
      ]
     },
     "metadata": {
      "needs_background": "light"
     },
     "output_type": "display_data"
    }
   ],
   "source": [
    "df_pivot_diff.sort_values(\"stamp_2\", ascending = False)[\"stamp_2\"].head(10).plot.barh()"
   ]
  },
  {
   "cell_type": "code",
   "execution_count": null,
   "id": "extra-executive",
   "metadata": {
    "papermill": {
     "duration": 0.02215,
     "end_time": "2021-08-30T13:00:09.920155",
     "exception": false,
     "start_time": "2021-08-30T13:00:09.898005",
     "status": "completed"
    },
    "tags": []
   },
   "outputs": [],
   "source": []
  }
 ],
 "metadata": {
  "kernelspec": {
   "display_name": "Python 3",
   "language": "python",
   "name": "python3"
  },
  "language_info": {
   "codemirror_mode": {
    "name": "ipython",
    "version": 3
   },
   "file_extension": ".py",
   "mimetype": "text/x-python",
   "name": "python",
   "nbconvert_exporter": "python",
   "pygments_lexer": "ipython3",
   "version": "3.9.5"
  },
  "papermill": {
   "default_parameters": {},
   "duration": 6.82211,
   "end_time": "2021-08-30T13:00:11.115249",
   "environment_variables": {},
   "exception": null,
   "input_path": "eBay_Overview.ipynb",
   "output_path": "eBay_Overview.ipynb",
   "parameters": {},
   "start_time": "2021-08-30T13:00:04.293139",
   "version": "2.3.3"
  }
 },
 "nbformat": 4,
 "nbformat_minor": 5
}