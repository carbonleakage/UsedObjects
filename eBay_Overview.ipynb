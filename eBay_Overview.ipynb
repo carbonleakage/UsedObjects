{
 "cells": [
  {
   "cell_type": "code",
   "execution_count": 1,
   "id": "reverse-picking",
   "metadata": {
    "execution": {
     "iopub.execute_input": "2021-09-05T16:30:07.496897Z",
     "iopub.status.busy": "2021-09-05T16:30:07.494993Z",
     "iopub.status.idle": "2021-09-05T16:30:08.301833Z",
     "shell.execute_reply": "2021-09-05T16:30:08.303157Z"
    },
    "papermill": {
     "duration": 0.859658,
     "end_time": "2021-09-05T16:30:08.303793",
     "exception": false,
     "start_time": "2021-09-05T16:30:07.444135",
     "status": "completed"
    },
    "tags": []
   },
   "outputs": [],
   "source": [
    "import pandas as pd\n",
    "import sqlite3"
   ]
  },
  {
   "cell_type": "code",
   "execution_count": 2,
   "id": "innovative-syndrome",
   "metadata": {
    "execution": {
     "iopub.execute_input": "2021-09-05T16:30:08.354510Z",
     "iopub.status.busy": "2021-09-05T16:30:08.352658Z",
     "iopub.status.idle": "2021-09-05T16:30:08.561201Z",
     "shell.execute_reply": "2021-09-05T16:30:08.562392Z"
    },
    "papermill": {
     "duration": 0.238028,
     "end_time": "2021-09-05T16:30:08.562823",
     "exception": false,
     "start_time": "2021-09-05T16:30:08.324795",
     "status": "completed"
    },
    "tags": []
   },
   "outputs": [],
   "source": [
    "timestamps = pd.read_sql(\"select distinct record_time from EBAY_TOP_BERLIN order by record_time desc limit 2\", sqlite3.connect(\"UsedObjects.db\"))"
   ]
  },
  {
   "cell_type": "code",
   "execution_count": 3,
   "id": "periodic-identification",
   "metadata": {
    "execution": {
     "iopub.execute_input": "2021-09-05T16:30:08.633155Z",
     "iopub.status.busy": "2021-09-05T16:30:08.627942Z",
     "iopub.status.idle": "2021-09-05T16:30:08.648507Z",
     "shell.execute_reply": "2021-09-05T16:30:08.649696Z"
    },
    "papermill": {
     "duration": 0.06747,
     "end_time": "2021-09-05T16:30:08.650131",
     "exception": false,
     "start_time": "2021-09-05T16:30:08.582661",
     "status": "completed"
    },
    "tags": []
   },
   "outputs": [
    {
     "data": {
      "text/html": [
       "<div>\n",
       "<style scoped>\n",
       "    .dataframe tbody tr th:only-of-type {\n",
       "        vertical-align: middle;\n",
       "    }\n",
       "\n",
       "    .dataframe tbody tr th {\n",
       "        vertical-align: top;\n",
       "    }\n",
       "\n",
       "    .dataframe thead th {\n",
       "        text-align: right;\n",
       "    }\n",
       "</style>\n",
       "<table border=\"1\" class=\"dataframe\">\n",
       "  <thead>\n",
       "    <tr style=\"text-align: right;\">\n",
       "      <th></th>\n",
       "      <th>RECORD_TIME</th>\n",
       "    </tr>\n",
       "  </thead>\n",
       "  <tbody>\n",
       "    <tr>\n",
       "      <th>0</th>\n",
       "      <td>2021-09-05 18:30</td>\n",
       "    </tr>\n",
       "    <tr>\n",
       "      <th>1</th>\n",
       "      <td>2021-09-05 18:00</td>\n",
       "    </tr>\n",
       "  </tbody>\n",
       "</table>\n",
       "</div>"
      ],
      "text/plain": [
       "        RECORD_TIME\n",
       "0  2021-09-05 18:30\n",
       "1  2021-09-05 18:00"
      ]
     },
     "execution_count": 3,
     "metadata": {},
     "output_type": "execute_result"
    }
   ],
   "source": [
    "timestamps"
   ]
  },
  {
   "cell_type": "code",
   "execution_count": 4,
   "id": "alternate-victory",
   "metadata": {
    "execution": {
     "iopub.execute_input": "2021-09-05T16:30:08.704910Z",
     "iopub.status.busy": "2021-09-05T16:30:08.702801Z",
     "iopub.status.idle": "2021-09-05T16:30:09.021636Z",
     "shell.execute_reply": "2021-09-05T16:30:09.022978Z"
    },
    "papermill": {
     "duration": 0.349549,
     "end_time": "2021-09-05T16:30:09.023418",
     "exception": false,
     "start_time": "2021-09-05T16:30:08.673869",
     "status": "completed"
    },
    "tags": []
   },
   "outputs": [],
   "source": [
    "df = pd.read_sql(\"select * from EBAY_TOP_BERLIN where record_time in (select distinct record_time from EBAY_TOP_BERLIN order by record_time desc limit 2)\", sqlite3.connect(\"UsedObjects.db\"))"
   ]
  },
  {
   "cell_type": "code",
   "execution_count": 5,
   "id": "popular-active",
   "metadata": {
    "execution": {
     "iopub.execute_input": "2021-09-05T16:30:09.104196Z",
     "iopub.status.busy": "2021-09-05T16:30:09.097310Z",
     "iopub.status.idle": "2021-09-05T16:30:09.119486Z",
     "shell.execute_reply": "2021-09-05T16:30:09.120720Z"
    },
    "papermill": {
     "duration": 0.071528,
     "end_time": "2021-09-05T16:30:09.121122",
     "exception": false,
     "start_time": "2021-09-05T16:30:09.049594",
     "status": "completed"
    },
    "tags": []
   },
   "outputs": [],
   "source": [
    "df_pivot = df.pivot_table(index=\"PRODUCT\", columns = \"RECORD_TIME\", values = \"LISTING_COUNT\")"
   ]
  },
  {
   "cell_type": "code",
   "execution_count": 6,
   "id": "union-huntington",
   "metadata": {
    "execution": {
     "iopub.execute_input": "2021-09-05T16:30:09.179307Z",
     "iopub.status.busy": "2021-09-05T16:30:09.177012Z",
     "iopub.status.idle": "2021-09-05T16:30:09.182773Z",
     "shell.execute_reply": "2021-09-05T16:30:09.184132Z"
    },
    "papermill": {
     "duration": 0.041795,
     "end_time": "2021-09-05T16:30:09.184559",
     "exception": false,
     "start_time": "2021-09-05T16:30:09.142764",
     "status": "completed"
    },
    "tags": []
   },
   "outputs": [],
   "source": [
    "df_pivot.columns = [\"stamp_1\", \"stamp_2\"]\n",
    "df_pivot_diff = df_pivot.diff(axis=1)"
   ]
  },
  {
   "cell_type": "code",
   "execution_count": 7,
   "id": "fifth-motion",
   "metadata": {
    "execution": {
     "iopub.execute_input": "2021-09-05T16:30:09.238670Z",
     "iopub.status.busy": "2021-09-05T16:30:09.236398Z",
     "iopub.status.idle": "2021-09-05T16:30:10.750845Z",
     "shell.execute_reply": "2021-09-05T16:30:10.752203Z"
    },
    "papermill": {
     "duration": 1.547281,
     "end_time": "2021-09-05T16:30:10.752631",
     "exception": false,
     "start_time": "2021-09-05T16:30:09.205350",
     "status": "completed"
    },
    "tags": []
   },
   "outputs": [
    {
     "data": {
      "text/plain": [
       "<AxesSubplot:ylabel='PRODUCT'>"
      ]
     },
     "execution_count": 7,
     "metadata": {},
     "output_type": "execute_result"
    },
    {
     "data": {
      "image/png": "[encoded data removed]",
      "text/plain": [
       "<Figure size 432x288 with 1 Axes>"
      ]
     },
     "metadata": {
      "needs_background": "light"
     },
     "output_type": "display_data"
    }
   ],
   "source": [
    "df_pivot_diff.sort_values(\"stamp_2\", ascending = False)[\"stamp_2\"].head(10).plot.barh()"
   ]
  },
  {
   "cell_type": "code",
   "execution_count": null,
   "id": "extra-executive",
   "metadata": {
    "papermill": {
     "duration": 0.022693,
     "end_time": "2021-09-05T16:30:10.799414",
     "exception": false,
     "start_time": "2021-09-05T16:30:10.776721",
     "status": "completed"
    },
    "tags": []
   },
   "outputs": [],
   "source": []
  }
 ],
 "metadata": {
  "kernelspec": {
   "display_name": "Python 3",
   "language": "python",
   "name": "python3"
  },
  "language_info": {
   "codemirror_mode": {
    "name": "ipython",
    "version": 3
   },
   "file_extension": ".py",
   "mimetype": "text/x-python",
   "name": "python",
   "nbconvert_exporter": "python",
   "pygments_lexer": "ipython3",
   "version": "3.9.5"
  },
  "papermill": {
   "default_parameters": {},
   "duration": 6.406883,
   "end_time": "2021-09-05T16:30:11.441246",
   "environment_variables": {},
   "exception": null,
   "input_path": "eBay_Overview.ipynb",
   "output_path": "eBay_Overview.ipynb",
   "parameters": {},
   "start_time": "2021-09-05T16:30:05.034363",
   "version": "2.3.3"
  }
 },
 "nbformat": 4,
 "nbformat_minor": 5
}