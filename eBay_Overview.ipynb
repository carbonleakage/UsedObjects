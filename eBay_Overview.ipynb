{
 "cells": [
  {
   "cell_type": "code",
   "execution_count": 1,
   "id": "reverse-picking",
   "metadata": {
    "execution": {
     "iopub.execute_input": "2021-11-22T03:00:07.122844Z",
     "iopub.status.busy": "2021-11-22T03:00:07.120514Z",
     "iopub.status.idle": "2021-11-22T03:00:08.073229Z",
     "shell.execute_reply": "2021-11-22T03:00:08.074696Z"
    },
    "papermill": {
     "duration": 1.001924,
     "end_time": "2021-11-22T03:00:08.075360",
     "exception": false,
     "start_time": "2021-11-22T03:00:07.073436",
     "status": "completed"
    },
    "tags": []
   },
   "outputs": [],
   "source": [
    "import pandas as pd\n",
    "import sqlite3"
   ]
  },
  {
   "cell_type": "code",
   "execution_count": 2,
   "id": "innovative-syndrome",
   "metadata": {
    "execution": {
     "iopub.execute_input": "2021-11-22T03:00:08.191682Z",
     "iopub.status.busy": "2021-11-22T03:00:08.189648Z",
     "iopub.status.idle": "2021-11-22T03:00:09.076240Z",
     "shell.execute_reply": "2021-11-22T03:00:09.077479Z"
    },
    "papermill": {
     "duration": 0.921731,
     "end_time": "2021-11-22T03:00:09.077929",
     "exception": false,
     "start_time": "2021-11-22T03:00:08.156198",
     "status": "completed"
    },
    "tags": []
   },
   "outputs": [],
   "source": [
    "timestamps = pd.read_sql(\"select distinct record_time from EBAY_TOP_BERLIN order by record_time desc limit 2\", sqlite3.connect(\"UsedObjects.db\"))"
   ]
  },
  {
   "cell_type": "code",
   "execution_count": 3,
   "id": "periodic-identification",
   "metadata": {
    "execution": {
     "iopub.execute_input": "2021-11-22T03:00:09.146402Z",
     "iopub.status.busy": "2021-11-22T03:00:09.143702Z",
     "iopub.status.idle": "2021-11-22T03:00:09.167222Z",
     "shell.execute_reply": "2021-11-22T03:00:09.168554Z"
    },
    "papermill": {
     "duration": 0.071184,
     "end_time": "2021-11-22T03:00:09.169082",
     "exception": false,
     "start_time": "2021-11-22T03:00:09.097898",
     "status": "completed"
    },
    "tags": []
   },
   "outputs": [
    {
     "data": {
      "text/html": [
       "<div>\n",
       "<style scoped>\n",
       "    .dataframe tbody tr th:only-of-type {\n",
       "        vertical-align: middle;\n",
       "    }\n",
       "\n",
       "    .dataframe tbody tr th {\n",
       "        vertical-align: top;\n",
       "    }\n",
       "\n",
       "    .dataframe thead th {\n",
       "        text-align: right;\n",
       "    }\n",
       "</style>\n",
       "<table border=\"1\" class=\"dataframe\">\n",
       "  <thead>\n",
       "    <tr style=\"text-align: right;\">\n",
       "      <th></th>\n",
       "      <th>RECORD_TIME</th>\n",
       "    </tr>\n",
       "  </thead>\n",
       "  <tbody>\n",
       "    <tr>\n",
       "      <th>0</th>\n",
       "      <td>2021-11-22 04:00</td>\n",
       "    </tr>\n",
       "    <tr>\n",
       "      <th>1</th>\n",
       "      <td>2021-11-22 03:30</td>\n",
       "    </tr>\n",
       "  </tbody>\n",
       "</table>\n",
       "</div>"
      ],
      "text/plain": [
       "        RECORD_TIME\n",
       "0  2021-11-22 04:00\n",
       "1  2021-11-22 03:30"
      ]
     },
     "execution_count": 3,
     "metadata": {},
     "output_type": "execute_result"
    }
   ],
   "source": [
    "timestamps"
   ]
  },
  {
   "cell_type": "code",
   "execution_count": 4,
   "id": "alternate-victory",
   "metadata": {
    "execution": {
     "iopub.execute_input": "2021-11-22T03:00:09.224082Z",
     "iopub.status.busy": "2021-11-22T03:00:09.221944Z",
     "iopub.status.idle": "2021-11-22T03:00:10.496674Z",
     "shell.execute_reply": "2021-11-22T03:00:10.498558Z"
    },
    "papermill": {
     "duration": 1.309448,
     "end_time": "2021-11-22T03:00:10.499071",
     "exception": false,
     "start_time": "2021-11-22T03:00:09.189623",
     "status": "completed"
    },
    "tags": []
   },
   "outputs": [],
   "source": [
    "df = pd.read_sql(\"select * from EBAY_TOP_BERLIN where record_time in (select distinct record_time from EBAY_TOP_BERLIN order by record_time desc limit 2)\", sqlite3.connect(\"UsedObjects.db\"))"
   ]
  },
  {
   "cell_type": "code",
   "execution_count": 5,
   "id": "popular-active",
   "metadata": {
    "execution": {
     "iopub.execute_input": "2021-11-22T03:00:10.574929Z",
     "iopub.status.busy": "2021-11-22T03:00:10.568113Z",
     "iopub.status.idle": "2021-11-22T03:00:10.593081Z",
     "shell.execute_reply": "2021-11-22T03:00:10.594455Z"
    },
    "papermill": {
     "duration": 0.073788,
     "end_time": "2021-11-22T03:00:10.594933",
     "exception": false,
     "start_time": "2021-11-22T03:00:10.521145",
     "status": "completed"
    },
    "tags": []
   },
   "outputs": [],
   "source": [
    "df_pivot = df.pivot_table(index=\"PRODUCT\", columns = \"RECORD_TIME\", values = \"LISTING_COUNT\")"
   ]
  },
  {
   "cell_type": "code",
   "execution_count": 6,
   "id": "union-huntington",
   "metadata": {
    "execution": {
     "iopub.execute_input": "2021-11-22T03:00:10.659050Z",
     "iopub.status.busy": "2021-11-22T03:00:10.656467Z",
     "iopub.status.idle": "2021-11-22T03:00:10.662173Z",
     "shell.execute_reply": "2021-11-22T03:00:10.665478Z"
    },
    "papermill": {
     "duration": 0.05144,
     "end_time": "2021-11-22T03:00:10.666666",
     "exception": false,
     "start_time": "2021-11-22T03:00:10.615226",
     "status": "completed"
    },
    "tags": []
   },
   "outputs": [],
   "source": [
    "df_pivot.columns = [\"stamp_1\", \"stamp_2\"]\n",
    "df_pivot_diff = df_pivot.diff(axis=1)"
   ]
  },
  {
   "cell_type": "code",
   "execution_count": 7,
   "id": "fifth-motion",
   "metadata": {
    "execution": {
     "iopub.execute_input": "2021-11-22T03:00:10.750211Z",
     "iopub.status.busy": "2021-11-22T03:00:10.745456Z",
     "iopub.status.idle": "2021-11-22T03:00:12.597731Z",
     "shell.execute_reply": "2021-11-22T03:00:12.599784Z"
    },
    "papermill": {
     "duration": 1.900967,
     "end_time": "2021-11-22T03:00:12.600556",
     "exception": false,
     "start_time": "2021-11-22T03:00:10.699589",
     "status": "completed"
    },
    "tags": []
   },
   "outputs": [
    {
     "data": {
      "text/plain": [
       "<AxesSubplot:ylabel='PRODUCT'>"
      ]
     },
     "execution_count": 7,
     "metadata": {},
     "output_type": "execute_result"
    },
    {
     "data": {
      "image/png": "[encoded data removed]",
      "text/plain": [
       "<Figure size 432x288 with 1 Axes>"
      ]
     },
     "metadata": {
      "needs_background": "light"
     },
     "output_type": "display_data"
    }
   ],
   "source": [
    "df_pivot_diff.sort_values(\"stamp_2\", ascending = False)[\"stamp_2\"].head(10).plot.barh()"
   ]
  },
  {
   "cell_type": "code",
   "execution_count": null,
   "id": "extra-executive",
   "metadata": {
    "papermill": {
     "duration": 0.034847,
     "end_time": "2021-11-22T03:00:12.664780",
     "exception": false,
     "start_time": "2021-11-22T03:00:12.629933",
     "status": "completed"
    },
    "tags": []
   },
   "outputs": [],
   "source": []
  }
 ],
 "metadata": {
  "kernelspec": {
   "display_name": "Python 3",
   "language": "python",
   "name": "python3"
  },
  "language_info": {
   "codemirror_mode": {
    "name": "ipython",
    "version": 3
   },
   "file_extension": ".py",
   "mimetype": "text/x-python",
   "name": "python",
   "nbconvert_exporter": "python",
   "pygments_lexer": "ipython3",
   "version": "3.9.5"
  },
  "papermill": {
   "default_parameters": {},
   "duration": 9.996099,
   "end_time": "2021-11-22T03:00:14.265297",
   "environment_variables": {},
   "exception": null,
   "input_path": "eBay_Overview.ipynb",
   "output_path": "eBay_Overview.ipynb",
   "parameters": {},
   "start_time": "2021-11-22T03:00:04.269198",
   "version": "2.3.3"
  }
 },
 "nbformat": 4,
 "nbformat_minor": 5
}