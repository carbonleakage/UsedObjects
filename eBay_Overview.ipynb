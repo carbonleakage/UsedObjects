{
 "cells": [
  {
   "cell_type": "code",
   "execution_count": 1,
   "id": "reverse-picking",
   "metadata": {
    "execution": {
     "iopub.execute_input": "2021-08-29T16:00:06.590018Z",
     "iopub.status.busy": "2021-08-29T16:00:06.587983Z",
     "iopub.status.idle": "2021-08-29T16:00:07.395097Z",
     "shell.execute_reply": "2021-08-29T16:00:07.396425Z"
    },
    "papermill": {
     "duration": 0.85928,
     "end_time": "2021-08-29T16:00:07.397070",
     "exception": false,
     "start_time": "2021-08-29T16:00:06.537790",
     "status": "completed"
    },
    "tags": []
   },
   "outputs": [],
   "source": [
    "import pandas as pd\n",
    "import sqlite3"
   ]
  },
  {
   "cell_type": "code",
   "execution_count": 2,
   "id": "innovative-syndrome",
   "metadata": {
    "execution": {
     "iopub.execute_input": "2021-08-29T16:00:07.447848Z",
     "iopub.status.busy": "2021-08-29T16:00:07.445982Z",
     "iopub.status.idle": "2021-08-29T16:00:07.608376Z",
     "shell.execute_reply": "2021-08-29T16:00:07.609617Z"
    },
    "papermill": {
     "duration": 0.191975,
     "end_time": "2021-08-29T16:00:07.610009",
     "exception": false,
     "start_time": "2021-08-29T16:00:07.418034",
     "status": "completed"
    },
    "tags": []
   },
   "outputs": [],
   "source": [
    "timestamps = pd.read_sql(\"select distinct record_time from EBAY_TOP_BERLIN order by record_time desc limit 2\", sqlite3.connect(\"UsedObjects.db\"))"
   ]
  },
  {
   "cell_type": "code",
   "execution_count": 3,
   "id": "periodic-identification",
   "metadata": {
    "execution": {
     "iopub.execute_input": "2021-08-29T16:00:07.675630Z",
     "iopub.status.busy": "2021-08-29T16:00:07.673618Z",
     "iopub.status.idle": "2021-08-29T16:00:07.693358Z",
     "shell.execute_reply": "2021-08-29T16:00:07.694559Z"
    },
    "papermill": {
     "duration": 0.06424,
     "end_time": "2021-08-29T16:00:07.694983",
     "exception": false,
     "start_time": "2021-08-29T16:00:07.630743",
     "status": "completed"
    },
    "tags": []
   },
   "outputs": [
    {
     "data": {
      "text/html": [
       "<div>\n",
       "<style scoped>\n",
       "    .dataframe tbody tr th:only-of-type {\n",
       "        vertical-align: middle;\n",
       "    }\n",
       "\n",
       "    .dataframe tbody tr th {\n",
       "        vertical-align: top;\n",
       "    }\n",
       "\n",
       "    .dataframe thead th {\n",
       "        text-align: right;\n",
       "    }\n",
       "</style>\n",
       "<table border=\"1\" class=\"dataframe\">\n",
       "  <thead>\n",
       "    <tr style=\"text-align: right;\">\n",
       "      <th></th>\n",
       "      <th>RECORD_TIME</th>\n",
       "    </tr>\n",
       "  </thead>\n",
       "  <tbody>\n",
       "    <tr>\n",
       "      <th>0</th>\n",
       "      <td>2021-08-29 18:00</td>\n",
       "    </tr>\n",
       "    <tr>\n",
       "      <th>1</th>\n",
       "      <td>2021-08-29 17:30</td>\n",
       "    </tr>\n",
       "  </tbody>\n",
       "</table>\n",
       "</div>"
      ],
      "text/plain": [
       "        RECORD_TIME\n",
       "0  2021-08-29 18:00\n",
       "1  2021-08-29 17:30"
      ]
     },
     "execution_count": 3,
     "metadata": {},
     "output_type": "execute_result"
    }
   ],
   "source": [
    "timestamps"
   ]
  },
  {
   "cell_type": "code",
   "execution_count": 4,
   "id": "alternate-victory",
   "metadata": {
    "execution": {
     "iopub.execute_input": "2021-08-29T16:00:07.748704Z",
     "iopub.status.busy": "2021-08-29T16:00:07.746352Z",
     "iopub.status.idle": "2021-08-29T16:00:07.992054Z",
     "shell.execute_reply": "2021-08-29T16:00:07.993349Z"
    },
    "papermill": {
     "duration": 0.276043,
     "end_time": "2021-08-29T16:00:07.993750",
     "exception": false,
     "start_time": "2021-08-29T16:00:07.717707",
     "status": "completed"
    },
    "tags": []
   },
   "outputs": [],
   "source": [
    "df = pd.read_sql(\"select * from EBAY_TOP_BERLIN where record_time in (select distinct record_time from EBAY_TOP_BERLIN order by record_time desc limit 2)\", sqlite3.connect(\"UsedObjects.db\"))"
   ]
  },
  {
   "cell_type": "code",
   "execution_count": 5,
   "id": "popular-active",
   "metadata": {
    "execution": {
     "iopub.execute_input": "2021-08-29T16:00:08.075121Z",
     "iopub.status.busy": "2021-08-29T16:00:08.062650Z",
     "iopub.status.idle": "2021-08-29T16:00:08.091011Z",
     "shell.execute_reply": "2021-08-29T16:00:08.092366Z"
    },
    "papermill": {
     "duration": 0.071076,
     "end_time": "2021-08-29T16:00:08.092833",
     "exception": false,
     "start_time": "2021-08-29T16:00:08.021757",
     "status": "completed"
    },
    "tags": []
   },
   "outputs": [],
   "source": [
    "df_pivot = df.pivot_table(index=\"PRODUCT\", columns = \"RECORD_TIME\", values = \"LISTING_COUNT\")"
   ]
  },
  {
   "cell_type": "code",
   "execution_count": 6,
   "id": "union-huntington",
   "metadata": {
    "execution": {
     "iopub.execute_input": "2021-08-29T16:00:08.149239Z",
     "iopub.status.busy": "2021-08-29T16:00:08.147081Z",
     "iopub.status.idle": "2021-08-29T16:00:08.152854Z",
     "shell.execute_reply": "2021-08-29T16:00:08.154254Z"
    },
    "papermill": {
     "duration": 0.040842,
     "end_time": "2021-08-29T16:00:08.154688",
     "exception": false,
     "start_time": "2021-08-29T16:00:08.113846",
     "status": "completed"
    },
    "tags": []
   },
   "outputs": [],
   "source": [
    "df_pivot.columns = [\"stamp_1\", \"stamp_2\"]\n",
    "df_pivot_diff = df_pivot.diff(axis=1)"
   ]
  },
  {
   "cell_type": "code",
   "execution_count": 7,
   "id": "fifth-motion",
   "metadata": {
    "execution": {
     "iopub.execute_input": "2021-08-29T16:00:08.211273Z",
     "iopub.status.busy": "2021-08-29T16:00:08.208669Z",
     "iopub.status.idle": "2021-08-29T16:00:09.677319Z",
     "shell.execute_reply": "2021-08-29T16:00:09.678799Z"
    },
    "papermill": {
     "duration": 1.502251,
     "end_time": "2021-08-29T16:00:09.679305",
     "exception": false,
     "start_time": "2021-08-29T16:00:08.177054",
     "status": "completed"
    },
    "tags": []
   },
   "outputs": [
    {
     "data": {
      "text/plain": [
       "<AxesSubplot:ylabel='PRODUCT'>"
      ]
     },
     "execution_count": 7,
     "metadata": {},
     "output_type": "execute_result"
    },
    {
     "data": {
      "image/png": "[encoded data removed]",
      "text/plain": [
       "<Figure size 432x288 with 1 Axes>"
      ]
     },
     "metadata": {
      "needs_background": "light"
     },
     "output_type": "display_data"
    }
   ],
   "source": [
    "df_pivot_diff.sort_values(\"stamp_2\", ascending = False)[\"stamp_2\"].head(10).plot.barh()"
   ]
  },
  {
   "cell_type": "code",
   "execution_count": null,
   "id": "extra-executive",
   "metadata": {
    "papermill": {
     "duration": 0.022166,
     "end_time": "2021-08-29T16:00:09.726809",
     "exception": false,
     "start_time": "2021-08-29T16:00:09.704643",
     "status": "completed"
    },
    "tags": []
   },
   "outputs": [],
   "source": []
  }
 ],
 "metadata": {
  "kernelspec": {
   "display_name": "Python 3",
   "language": "python",
   "name": "python3"
  },
  "language_info": {
   "codemirror_mode": {
    "name": "ipython",
    "version": 3
   },
   "file_extension": ".py",
   "mimetype": "text/x-python",
   "name": "python",
   "nbconvert_exporter": "python",
   "pygments_lexer": "ipython3",
   "version": "3.9.5"
  },
  "papermill": {
   "default_parameters": {},
   "duration": 6.820443,
   "end_time": "2021-08-29T16:00:10.953146",
   "environment_variables": {},
   "exception": null,
   "input_path": "eBay_Overview.ipynb",
   "output_path": "eBay_Overview.ipynb",
   "parameters": {},
   "start_time": "2021-08-29T16:00:04.132703",
   "version": "2.3.3"
  }
 },
 "nbformat": 4,
 "nbformat_minor": 5
}