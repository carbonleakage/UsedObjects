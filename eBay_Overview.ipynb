{
 "cells": [
  {
   "cell_type": "code",
   "execution_count": 1,
   "id": "reverse-picking",
   "metadata": {
    "execution": {
     "iopub.execute_input": "2021-08-31T02:00:06.572312Z",
     "iopub.status.busy": "2021-08-31T02:00:06.570360Z",
     "iopub.status.idle": "2021-08-31T02:00:07.374274Z",
     "shell.execute_reply": "2021-08-31T02:00:07.372492Z"
    },
    "papermill": {
     "duration": 0.854799,
     "end_time": "2021-08-31T02:00:07.374704",
     "exception": false,
     "start_time": "2021-08-31T02:00:06.519905",
     "status": "completed"
    },
    "tags": []
   },
   "outputs": [],
   "source": [
    "import pandas as pd\n",
    "import sqlite3"
   ]
  },
  {
   "cell_type": "code",
   "execution_count": 2,
   "id": "innovative-syndrome",
   "metadata": {
    "execution": {
     "iopub.execute_input": "2021-08-31T02:00:07.425977Z",
     "iopub.status.busy": "2021-08-31T02:00:07.423568Z",
     "iopub.status.idle": "2021-08-31T02:00:07.595808Z",
     "shell.execute_reply": "2021-08-31T02:00:07.597063Z"
    },
    "papermill": {
     "duration": 0.202126,
     "end_time": "2021-08-31T02:00:07.597464",
     "exception": false,
     "start_time": "2021-08-31T02:00:07.395338",
     "status": "completed"
    },
    "tags": []
   },
   "outputs": [],
   "source": [
    "timestamps = pd.read_sql(\"select distinct record_time from EBAY_TOP_BERLIN order by record_time desc limit 2\", sqlite3.connect(\"UsedObjects.db\"))"
   ]
  },
  {
   "cell_type": "code",
   "execution_count": 3,
   "id": "periodic-identification",
   "metadata": {
    "execution": {
     "iopub.execute_input": "2021-08-31T02:00:07.664921Z",
     "iopub.status.busy": "2021-08-31T02:00:07.662831Z",
     "iopub.status.idle": "2021-08-31T02:00:07.682850Z",
     "shell.execute_reply": "2021-08-31T02:00:07.684135Z"
    },
    "papermill": {
     "duration": 0.06574,
     "end_time": "2021-08-31T02:00:07.684751",
     "exception": false,
     "start_time": "2021-08-31T02:00:07.619011",
     "status": "completed"
    },
    "tags": []
   },
   "outputs": [
    {
     "data": {
      "text/html": [
       "<div>\n",
       "<style scoped>\n",
       "    .dataframe tbody tr th:only-of-type {\n",
       "        vertical-align: middle;\n",
       "    }\n",
       "\n",
       "    .dataframe tbody tr th {\n",
       "        vertical-align: top;\n",
       "    }\n",
       "\n",
       "    .dataframe thead th {\n",
       "        text-align: right;\n",
       "    }\n",
       "</style>\n",
       "<table border=\"1\" class=\"dataframe\">\n",
       "  <thead>\n",
       "    <tr style=\"text-align: right;\">\n",
       "      <th></th>\n",
       "      <th>RECORD_TIME</th>\n",
       "    </tr>\n",
       "  </thead>\n",
       "  <tbody>\n",
       "    <tr>\n",
       "      <th>0</th>\n",
       "      <td>2021-08-31 04:00</td>\n",
       "    </tr>\n",
       "    <tr>\n",
       "      <th>1</th>\n",
       "      <td>2021-08-31 03:30</td>\n",
       "    </tr>\n",
       "  </tbody>\n",
       "</table>\n",
       "</div>"
      ],
      "text/plain": [
       "        RECORD_TIME\n",
       "0  2021-08-31 04:00\n",
       "1  2021-08-31 03:30"
      ]
     },
     "execution_count": 3,
     "metadata": {},
     "output_type": "execute_result"
    }
   ],
   "source": [
    "timestamps"
   ]
  },
  {
   "cell_type": "code",
   "execution_count": 4,
   "id": "alternate-victory",
   "metadata": {
    "execution": {
     "iopub.execute_input": "2021-08-31T02:00:07.737581Z",
     "iopub.status.busy": "2021-08-31T02:00:07.735198Z",
     "iopub.status.idle": "2021-08-31T02:00:07.995493Z",
     "shell.execute_reply": "2021-08-31T02:00:07.996929Z"
    },
    "papermill": {
     "duration": 0.290744,
     "end_time": "2021-08-31T02:00:07.997381",
     "exception": false,
     "start_time": "2021-08-31T02:00:07.706637",
     "status": "completed"
    },
    "tags": []
   },
   "outputs": [],
   "source": [
    "df = pd.read_sql(\"select * from EBAY_TOP_BERLIN where record_time in (select distinct record_time from EBAY_TOP_BERLIN order by record_time desc limit 2)\", sqlite3.connect(\"UsedObjects.db\"))"
   ]
  },
  {
   "cell_type": "code",
   "execution_count": 5,
   "id": "popular-active",
   "metadata": {
    "execution": {
     "iopub.execute_input": "2021-08-31T02:00:08.074667Z",
     "iopub.status.busy": "2021-08-31T02:00:08.062741Z",
     "iopub.status.idle": "2021-08-31T02:00:08.090696Z",
     "shell.execute_reply": "2021-08-31T02:00:08.091897Z"
    },
    "papermill": {
     "duration": 0.068981,
     "end_time": "2021-08-31T02:00:08.092384",
     "exception": false,
     "start_time": "2021-08-31T02:00:08.023403",
     "status": "completed"
    },
    "tags": []
   },
   "outputs": [],
   "source": [
    "df_pivot = df.pivot_table(index=\"PRODUCT\", columns = \"RECORD_TIME\", values = \"LISTING_COUNT\")"
   ]
  },
  {
   "cell_type": "code",
   "execution_count": 6,
   "id": "union-huntington",
   "metadata": {
    "execution": {
     "iopub.execute_input": "2021-08-31T02:00:08.149149Z",
     "iopub.status.busy": "2021-08-31T02:00:08.147065Z",
     "iopub.status.idle": "2021-08-31T02:00:08.152517Z",
     "shell.execute_reply": "2021-08-31T02:00:08.153754Z"
    },
    "papermill": {
     "duration": 0.040881,
     "end_time": "2021-08-31T02:00:08.154345",
     "exception": false,
     "start_time": "2021-08-31T02:00:08.113464",
     "status": "completed"
    },
    "tags": []
   },
   "outputs": [],
   "source": [
    "df_pivot.columns = [\"stamp_1\", \"stamp_2\"]\n",
    "df_pivot_diff = df_pivot.diff(axis=1)"
   ]
  },
  {
   "cell_type": "code",
   "execution_count": 7,
   "id": "fifth-motion",
   "metadata": {
    "execution": {
     "iopub.execute_input": "2021-08-31T02:00:08.209898Z",
     "iopub.status.busy": "2021-08-31T02:00:08.207435Z",
     "iopub.status.idle": "2021-08-31T02:00:09.696434Z",
     "shell.execute_reply": "2021-08-31T02:00:09.697737Z"
    },
    "papermill": {
     "duration": 1.522288,
     "end_time": "2021-08-31T02:00:09.698154",
     "exception": false,
     "start_time": "2021-08-31T02:00:08.175866",
     "status": "completed"
    },
    "tags": []
   },
   "outputs": [
    {
     "data": {
      "text/plain": [
       "<AxesSubplot:ylabel='PRODUCT'>"
      ]
     },
     "execution_count": 7,
     "metadata": {},
     "output_type": "execute_result"
    },
    {
     "data": {
      "image/png": "[encoded data removed]",
      "text/plain": [
       "<Figure size 432x288 with 1 Axes>"
      ]
     },
     "metadata": {
      "needs_background": "light"
     },
     "output_type": "display_data"
    }
   ],
   "source": [
    "df_pivot_diff.sort_values(\"stamp_2\", ascending = False)[\"stamp_2\"].head(10).plot.barh()"
   ]
  },
  {
   "cell_type": "code",
   "execution_count": null,
   "id": "extra-executive",
   "metadata": {
    "papermill": {
     "duration": 0.022077,
     "end_time": "2021-08-31T02:00:09.744939",
     "exception": false,
     "start_time": "2021-08-31T02:00:09.722862",
     "status": "completed"
    },
    "tags": []
   },
   "outputs": [],
   "source": []
  }
 ],
 "metadata": {
  "kernelspec": {
   "display_name": "Python 3",
   "language": "python",
   "name": "python3"
  },
  "language_info": {
   "codemirror_mode": {
    "name": "ipython",
    "version": 3
   },
   "file_extension": ".py",
   "mimetype": "text/x-python",
   "name": "python",
   "nbconvert_exporter": "python",
   "pygments_lexer": "ipython3",
   "version": "3.9.5"
  },
  "papermill": {
   "default_parameters": {},
   "duration": 6.823142,
   "end_time": "2021-08-31T02:00:10.934956",
   "environment_variables": {},
   "exception": null,
   "input_path": "eBay_Overview.ipynb",
   "output_path": "eBay_Overview.ipynb",
   "parameters": {},
   "start_time": "2021-08-31T02:00:04.111814",
   "version": "2.3.3"
  }
 },
 "nbformat": 4,
 "nbformat_minor": 5
}