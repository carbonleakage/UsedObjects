{
 "cells": [
  {
   "cell_type": "code",
   "execution_count": 1,
   "id": "reverse-picking",
   "metadata": {
    "execution": {
     "iopub.execute_input": "2021-09-21T20:30:07.106258Z",
     "iopub.status.busy": "2021-09-21T20:30:07.104327Z",
     "iopub.status.idle": "2021-09-21T20:30:07.904653Z",
     "shell.execute_reply": "2021-09-21T20:30:07.905877Z"
    },
    "papermill": {
     "duration": 0.852146,
     "end_time": "2021-09-21T20:30:07.906480",
     "exception": false,
     "start_time": "2021-09-21T20:30:07.054334",
     "status": "completed"
    },
    "tags": []
   },
   "outputs": [],
   "source": [
    "import pandas as pd\n",
    "import sqlite3"
   ]
  },
  {
   "cell_type": "code",
   "execution_count": 2,
   "id": "innovative-syndrome",
   "metadata": {
    "execution": {
     "iopub.execute_input": "2021-09-21T20:30:07.959429Z",
     "iopub.status.busy": "2021-09-21T20:30:07.957077Z",
     "iopub.status.idle": "2021-09-21T20:30:08.300458Z",
     "shell.execute_reply": "2021-09-21T20:30:08.301630Z"
    },
    "papermill": {
     "duration": 0.373058,
     "end_time": "2021-09-21T20:30:08.302024",
     "exception": false,
     "start_time": "2021-09-21T20:30:07.928966",
     "status": "completed"
    },
    "tags": []
   },
   "outputs": [],
   "source": [
    "timestamps = pd.read_sql(\"select distinct record_time from EBAY_TOP_BERLIN order by record_time desc limit 2\", sqlite3.connect(\"UsedObjects.db\"))"
   ]
  },
  {
   "cell_type": "code",
   "execution_count": 3,
   "id": "periodic-identification",
   "metadata": {
    "execution": {
     "iopub.execute_input": "2021-09-21T20:30:08.369349Z",
     "iopub.status.busy": "2021-09-21T20:30:08.367363Z",
     "iopub.status.idle": "2021-09-21T20:30:08.387257Z",
     "shell.execute_reply": "2021-09-21T20:30:08.388956Z"
    },
    "papermill": {
     "duration": 0.065693,
     "end_time": "2021-09-21T20:30:08.389486",
     "exception": false,
     "start_time": "2021-09-21T20:30:08.323793",
     "status": "completed"
    },
    "tags": []
   },
   "outputs": [
    {
     "data": {
      "text/html": [
       "<div>\n",
       "<style scoped>\n",
       "    .dataframe tbody tr th:only-of-type {\n",
       "        vertical-align: middle;\n",
       "    }\n",
       "\n",
       "    .dataframe tbody tr th {\n",
       "        vertical-align: top;\n",
       "    }\n",
       "\n",
       "    .dataframe thead th {\n",
       "        text-align: right;\n",
       "    }\n",
       "</style>\n",
       "<table border=\"1\" class=\"dataframe\">\n",
       "  <thead>\n",
       "    <tr style=\"text-align: right;\">\n",
       "      <th></th>\n",
       "      <th>RECORD_TIME</th>\n",
       "    </tr>\n",
       "  </thead>\n",
       "  <tbody>\n",
       "    <tr>\n",
       "      <th>0</th>\n",
       "      <td>2021-09-21 22:30</td>\n",
       "    </tr>\n",
       "    <tr>\n",
       "      <th>1</th>\n",
       "      <td>2021-09-21 22:00</td>\n",
       "    </tr>\n",
       "  </tbody>\n",
       "</table>\n",
       "</div>"
      ],
      "text/plain": [
       "        RECORD_TIME\n",
       "0  2021-09-21 22:30\n",
       "1  2021-09-21 22:00"
      ]
     },
     "execution_count": 3,
     "metadata": {},
     "output_type": "execute_result"
    }
   ],
   "source": [
    "timestamps"
   ]
  },
  {
   "cell_type": "code",
   "execution_count": 4,
   "id": "alternate-victory",
   "metadata": {
    "execution": {
     "iopub.execute_input": "2021-09-21T20:30:08.442537Z",
     "iopub.status.busy": "2021-09-21T20:30:08.440648Z",
     "iopub.status.idle": "2021-09-21T20:30:08.948837Z",
     "shell.execute_reply": "2021-09-21T20:30:08.950019Z"
    },
    "papermill": {
     "duration": 0.538142,
     "end_time": "2021-09-21T20:30:08.950414",
     "exception": false,
     "start_time": "2021-09-21T20:30:08.412272",
     "status": "completed"
    },
    "tags": []
   },
   "outputs": [],
   "source": [
    "df = pd.read_sql(\"select * from EBAY_TOP_BERLIN where record_time in (select distinct record_time from EBAY_TOP_BERLIN order by record_time desc limit 2)\", sqlite3.connect(\"UsedObjects.db\"))"
   ]
  },
  {
   "cell_type": "code",
   "execution_count": 5,
   "id": "popular-active",
   "metadata": {
    "execution": {
     "iopub.execute_input": "2021-09-21T20:30:09.021608Z",
     "iopub.status.busy": "2021-09-21T20:30:09.008804Z",
     "iopub.status.idle": "2021-09-21T20:30:09.037163Z",
     "shell.execute_reply": "2021-09-21T20:30:09.038356Z"
    },
    "papermill": {
     "duration": 0.068117,
     "end_time": "2021-09-21T20:30:09.038751",
     "exception": false,
     "start_time": "2021-09-21T20:30:08.970634",
     "status": "completed"
    },
    "tags": []
   },
   "outputs": [],
   "source": [
    "df_pivot = df.pivot_table(index=\"PRODUCT\", columns = \"RECORD_TIME\", values = \"LISTING_COUNT\")"
   ]
  },
  {
   "cell_type": "code",
   "execution_count": 6,
   "id": "union-huntington",
   "metadata": {
    "execution": {
     "iopub.execute_input": "2021-09-21T20:30:09.094472Z",
     "iopub.status.busy": "2021-09-21T20:30:09.092452Z",
     "iopub.status.idle": "2021-09-21T20:30:09.097682Z",
     "shell.execute_reply": "2021-09-21T20:30:09.099003Z"
    },
    "papermill": {
     "duration": 0.039976,
     "end_time": "2021-09-21T20:30:09.099419",
     "exception": false,
     "start_time": "2021-09-21T20:30:09.059443",
     "status": "completed"
    },
    "tags": []
   },
   "outputs": [],
   "source": [
    "df_pivot.columns = [\"stamp_1\", \"stamp_2\"]\n",
    "df_pivot_diff = df_pivot.diff(axis=1)"
   ]
  },
  {
   "cell_type": "code",
   "execution_count": 7,
   "id": "fifth-motion",
   "metadata": {
    "execution": {
     "iopub.execute_input": "2021-09-21T20:30:09.153731Z",
     "iopub.status.busy": "2021-09-21T20:30:09.151392Z",
     "iopub.status.idle": "2021-09-21T20:30:10.634341Z",
     "shell.execute_reply": "2021-09-21T20:30:10.635772Z"
    },
    "papermill": {
     "duration": 1.515472,
     "end_time": "2021-09-21T20:30:10.636221",
     "exception": false,
     "start_time": "2021-09-21T20:30:09.120749",
     "status": "completed"
    },
    "tags": []
   },
   "outputs": [
    {
     "data": {
      "text/plain": [
       "<AxesSubplot:ylabel='PRODUCT'>"
      ]
     },
     "execution_count": 7,
     "metadata": {},
     "output_type": "execute_result"
    },
    {
     "data": {
      "image/png": "[encoded data removed]",
      "text/plain": [
       "<Figure size 432x288 with 1 Axes>"
      ]
     },
     "metadata": {
      "needs_background": "light"
     },
     "output_type": "display_data"
    }
   ],
   "source": [
    "df_pivot_diff.sort_values(\"stamp_2\", ascending = False)[\"stamp_2\"].head(10).plot.barh()"
   ]
  },
  {
   "cell_type": "code",
   "execution_count": null,
   "id": "extra-executive",
   "metadata": {
    "papermill": {
     "duration": 0.021929,
     "end_time": "2021-09-21T20:30:10.681823",
     "exception": false,
     "start_time": "2021-09-21T20:30:10.659894",
     "status": "completed"
    },
    "tags": []
   },
   "outputs": [],
   "source": []
  }
 ],
 "metadata": {
  "kernelspec": {
   "display_name": "Python 3",
   "language": "python",
   "name": "python3"
  },
  "language_info": {
   "codemirror_mode": {
    "name": "ipython",
    "version": 3
   },
   "file_extension": ".py",
   "mimetype": "text/x-python",
   "name": "python",
   "nbconvert_exporter": "python",
   "pygments_lexer": "ipython3",
   "version": "3.9.5"
  },
  "papermill": {
   "default_parameters": {},
   "duration": 6.663659,
   "end_time": "2021-09-21T20:30:11.324670",
   "environment_variables": {},
   "exception": null,
   "input_path": "eBay_Overview.ipynb",
   "output_path": "eBay_Overview.ipynb",
   "parameters": {},
   "start_time": "2021-09-21T20:30:04.661011",
   "version": "2.3.3"
  }
 },
 "nbformat": 4,
 "nbformat_minor": 5
}