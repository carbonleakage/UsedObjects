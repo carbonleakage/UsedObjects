{
 "cells": [
  {
   "cell_type": "code",
   "execution_count": 1,
   "id": "reverse-picking",
   "metadata": {
    "execution": {
     "iopub.execute_input": "2021-11-26T14:30:07.349990Z",
     "iopub.status.busy": "2021-11-26T14:30:07.347441Z",
     "iopub.status.idle": "2021-11-26T14:30:08.306224Z",
     "shell.execute_reply": "2021-11-26T14:30:08.307739Z"
    },
    "papermill": {
     "duration": 1.007418,
     "end_time": "2021-11-26T14:30:08.308499",
     "exception": false,
     "start_time": "2021-11-26T14:30:07.301081",
     "status": "completed"
    },
    "tags": []
   },
   "outputs": [],
   "source": [
    "import pandas as pd\n",
    "import sqlite3"
   ]
  },
  {
   "cell_type": "code",
   "execution_count": 2,
   "id": "innovative-syndrome",
   "metadata": {
    "execution": {
     "iopub.execute_input": "2021-11-26T14:30:08.369640Z",
     "iopub.status.busy": "2021-11-26T14:30:08.367235Z",
     "iopub.status.idle": "2021-11-26T14:30:09.308659Z",
     "shell.execute_reply": "2021-11-26T14:30:09.310118Z"
    },
    "papermill": {
     "duration": 0.974701,
     "end_time": "2021-11-26T14:30:09.310554",
     "exception": false,
     "start_time": "2021-11-26T14:30:08.335853",
     "status": "completed"
    },
    "tags": []
   },
   "outputs": [],
   "source": [
    "timestamps = pd.read_sql(\"select distinct record_time from EBAY_TOP_BERLIN order by record_time desc limit 2\", sqlite3.connect(\"UsedObjects.db\"))"
   ]
  },
  {
   "cell_type": "code",
   "execution_count": 3,
   "id": "periodic-identification",
   "metadata": {
    "execution": {
     "iopub.execute_input": "2021-11-26T14:30:09.375938Z",
     "iopub.status.busy": "2021-11-26T14:30:09.373923Z",
     "iopub.status.idle": "2021-11-26T14:30:09.393813Z",
     "shell.execute_reply": "2021-11-26T14:30:09.395107Z"
    },
    "papermill": {
     "duration": 0.064729,
     "end_time": "2021-11-26T14:30:09.395517",
     "exception": false,
     "start_time": "2021-11-26T14:30:09.330788",
     "status": "completed"
    },
    "tags": []
   },
   "outputs": [
    {
     "data": {
      "text/html": [
       "<div>\n",
       "<style scoped>\n",
       "    .dataframe tbody tr th:only-of-type {\n",
       "        vertical-align: middle;\n",
       "    }\n",
       "\n",
       "    .dataframe tbody tr th {\n",
       "        vertical-align: top;\n",
       "    }\n",
       "\n",
       "    .dataframe thead th {\n",
       "        text-align: right;\n",
       "    }\n",
       "</style>\n",
       "<table border=\"1\" class=\"dataframe\">\n",
       "  <thead>\n",
       "    <tr style=\"text-align: right;\">\n",
       "      <th></th>\n",
       "      <th>RECORD_TIME</th>\n",
       "    </tr>\n",
       "  </thead>\n",
       "  <tbody>\n",
       "    <tr>\n",
       "      <th>0</th>\n",
       "      <td>2021-11-26 15:30</td>\n",
       "    </tr>\n",
       "    <tr>\n",
       "      <th>1</th>\n",
       "      <td>2021-11-26 15:00</td>\n",
       "    </tr>\n",
       "  </tbody>\n",
       "</table>\n",
       "</div>"
      ],
      "text/plain": [
       "        RECORD_TIME\n",
       "0  2021-11-26 15:30\n",
       "1  2021-11-26 15:00"
      ]
     },
     "execution_count": 3,
     "metadata": {},
     "output_type": "execute_result"
    }
   ],
   "source": [
    "timestamps"
   ]
  },
  {
   "cell_type": "code",
   "execution_count": 4,
   "id": "alternate-victory",
   "metadata": {
    "execution": {
     "iopub.execute_input": "2021-11-26T14:30:09.446804Z",
     "iopub.status.busy": "2021-11-26T14:30:09.444565Z",
     "iopub.status.idle": "2021-11-26T14:30:10.797748Z",
     "shell.execute_reply": "2021-11-26T14:30:10.799223Z"
    },
    "papermill": {
     "duration": 1.383165,
     "end_time": "2021-11-26T14:30:10.799687",
     "exception": false,
     "start_time": "2021-11-26T14:30:09.416522",
     "status": "completed"
    },
    "tags": []
   },
   "outputs": [],
   "source": [
    "df = pd.read_sql(\"select * from EBAY_TOP_BERLIN where record_time in (select distinct record_time from EBAY_TOP_BERLIN order by record_time desc limit 2)\", sqlite3.connect(\"UsedObjects.db\"))"
   ]
  },
  {
   "cell_type": "code",
   "execution_count": 5,
   "id": "popular-active",
   "metadata": {
    "execution": {
     "iopub.execute_input": "2021-11-26T14:30:10.877931Z",
     "iopub.status.busy": "2021-11-26T14:30:10.864454Z",
     "iopub.status.idle": "2021-11-26T14:30:10.898278Z",
     "shell.execute_reply": "2021-11-26T14:30:10.900621Z"
    },
    "papermill": {
     "duration": 0.080302,
     "end_time": "2021-11-26T14:30:10.901300",
     "exception": false,
     "start_time": "2021-11-26T14:30:10.820998",
     "status": "completed"
    },
    "tags": []
   },
   "outputs": [],
   "source": [
    "df_pivot = df.pivot_table(index=\"PRODUCT\", columns = \"RECORD_TIME\", values = \"LISTING_COUNT\")"
   ]
  },
  {
   "cell_type": "code",
   "execution_count": 6,
   "id": "union-huntington",
   "metadata": {
    "execution": {
     "iopub.execute_input": "2021-11-26T14:30:10.968105Z",
     "iopub.status.busy": "2021-11-26T14:30:10.965694Z",
     "iopub.status.idle": "2021-11-26T14:30:10.977464Z",
     "shell.execute_reply": "2021-11-26T14:30:10.978973Z"
    },
    "papermill": {
     "duration": 0.052366,
     "end_time": "2021-11-26T14:30:10.979476",
     "exception": false,
     "start_time": "2021-11-26T14:30:10.927110",
     "status": "completed"
    },
    "tags": []
   },
   "outputs": [],
   "source": [
    "df_pivot.columns = [\"stamp_1\", \"stamp_2\"]\n",
    "df_pivot_diff = df_pivot.diff(axis=1)"
   ]
  },
  {
   "cell_type": "code",
   "execution_count": 7,
   "id": "fifth-motion",
   "metadata": {
    "execution": {
     "iopub.execute_input": "2021-11-26T14:30:11.036168Z",
     "iopub.status.busy": "2021-11-26T14:30:11.033685Z",
     "iopub.status.idle": "2021-11-26T14:30:13.109845Z",
     "shell.execute_reply": "2021-11-26T14:30:13.111527Z"
    },
    "papermill": {
     "duration": 2.11186,
     "end_time": "2021-11-26T14:30:13.112036",
     "exception": false,
     "start_time": "2021-11-26T14:30:11.000176",
     "status": "completed"
    },
    "tags": []
   },
   "outputs": [
    {
     "data": {
      "text/plain": [
       "<AxesSubplot:ylabel='PRODUCT'>"
      ]
     },
     "execution_count": 7,
     "metadata": {},
     "output_type": "execute_result"
    },
    {
     "data": {
      "image/png": "[encoded data removed]",
      "text/plain": [
       "<Figure size 432x288 with 1 Axes>"
      ]
     },
     "metadata": {
      "needs_background": "light"
     },
     "output_type": "display_data"
    }
   ],
   "source": [
    "df_pivot_diff.sort_values(\"stamp_2\", ascending = False)[\"stamp_2\"].head(10).plot.barh()"
   ]
  },
  {
   "cell_type": "code",
   "execution_count": null,
   "id": "extra-executive",
   "metadata": {
    "papermill": {
     "duration": 0.02345,
     "end_time": "2021-11-26T14:30:13.160673",
     "exception": false,
     "start_time": "2021-11-26T14:30:13.137223",
     "status": "completed"
    },
    "tags": []
   },
   "outputs": [],
   "source": []
  }
 ],
 "metadata": {
  "kernelspec": {
   "display_name": "Python 3",
   "language": "python",
   "name": "python3"
  },
  "language_info": {
   "codemirror_mode": {
    "name": "ipython",
    "version": 3
   },
   "file_extension": ".py",
   "mimetype": "text/x-python",
   "name": "python",
   "nbconvert_exporter": "python",
   "pygments_lexer": "ipython3",
   "version": "3.9.5"
  },
  "papermill": {
   "default_parameters": {},
   "duration": 9.930056,
   "end_time": "2021-11-26T14:30:14.502970",
   "environment_variables": {},
   "exception": null,
   "input_path": "eBay_Overview.ipynb",
   "output_path": "eBay_Overview.ipynb",
   "parameters": {},
   "start_time": "2021-11-26T14:30:04.572914",
   "version": "2.3.3"
  }
 },
 "nbformat": 4,
 "nbformat_minor": 5
}