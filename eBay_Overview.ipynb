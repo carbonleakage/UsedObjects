{
 "cells": [
  {
   "cell_type": "code",
   "execution_count": 1,
   "id": "reverse-picking",
   "metadata": {
    "execution": {
     "iopub.execute_input": "2021-08-30T07:30:07.354489Z",
     "iopub.status.busy": "2021-08-30T07:30:07.352587Z",
     "iopub.status.idle": "2021-08-30T07:30:08.156310Z",
     "shell.execute_reply": "2021-08-30T07:30:08.157658Z"
    },
    "papermill": {
     "duration": 0.857185,
     "end_time": "2021-08-30T07:30:08.158301",
     "exception": false,
     "start_time": "2021-08-30T07:30:07.301116",
     "status": "completed"
    },
    "tags": []
   },
   "outputs": [],
   "source": [
    "import pandas as pd\n",
    "import sqlite3"
   ]
  },
  {
   "cell_type": "code",
   "execution_count": 2,
   "id": "innovative-syndrome",
   "metadata": {
    "execution": {
     "iopub.execute_input": "2021-08-30T07:30:08.208940Z",
     "iopub.status.busy": "2021-08-30T07:30:08.206895Z",
     "iopub.status.idle": "2021-08-30T07:30:08.373473Z",
     "shell.execute_reply": "2021-08-30T07:30:08.374717Z"
    },
    "papermill": {
     "duration": 0.196518,
     "end_time": "2021-08-30T07:30:08.375113",
     "exception": false,
     "start_time": "2021-08-30T07:30:08.178595",
     "status": "completed"
    },
    "tags": []
   },
   "outputs": [],
   "source": [
    "timestamps = pd.read_sql(\"select distinct record_time from EBAY_TOP_BERLIN order by record_time desc limit 2\", sqlite3.connect(\"UsedObjects.db\"))"
   ]
  },
  {
   "cell_type": "code",
   "execution_count": 3,
   "id": "periodic-identification",
   "metadata": {
    "execution": {
     "iopub.execute_input": "2021-08-30T07:30:08.439364Z",
     "iopub.status.busy": "2021-08-30T07:30:08.437383Z",
     "iopub.status.idle": "2021-08-30T07:30:08.458267Z",
     "shell.execute_reply": "2021-08-30T07:30:08.459474Z"
    },
    "papermill": {
     "duration": 0.065348,
     "end_time": "2021-08-30T07:30:08.459869",
     "exception": false,
     "start_time": "2021-08-30T07:30:08.394521",
     "status": "completed"
    },
    "tags": []
   },
   "outputs": [
    {
     "data": {
      "text/html": [
       "<div>\n",
       "<style scoped>\n",
       "    .dataframe tbody tr th:only-of-type {\n",
       "        vertical-align: middle;\n",
       "    }\n",
       "\n",
       "    .dataframe tbody tr th {\n",
       "        vertical-align: top;\n",
       "    }\n",
       "\n",
       "    .dataframe thead th {\n",
       "        text-align: right;\n",
       "    }\n",
       "</style>\n",
       "<table border=\"1\" class=\"dataframe\">\n",
       "  <thead>\n",
       "    <tr style=\"text-align: right;\">\n",
       "      <th></th>\n",
       "      <th>RECORD_TIME</th>\n",
       "    </tr>\n",
       "  </thead>\n",
       "  <tbody>\n",
       "    <tr>\n",
       "      <th>0</th>\n",
       "      <td>2021-08-30 09:30</td>\n",
       "    </tr>\n",
       "    <tr>\n",
       "      <th>1</th>\n",
       "      <td>2021-08-30 09:00</td>\n",
       "    </tr>\n",
       "  </tbody>\n",
       "</table>\n",
       "</div>"
      ],
      "text/plain": [
       "        RECORD_TIME\n",
       "0  2021-08-30 09:30\n",
       "1  2021-08-30 09:00"
      ]
     },
     "execution_count": 3,
     "metadata": {},
     "output_type": "execute_result"
    }
   ],
   "source": [
    "timestamps"
   ]
  },
  {
   "cell_type": "code",
   "execution_count": 4,
   "id": "alternate-victory",
   "metadata": {
    "execution": {
     "iopub.execute_input": "2021-08-30T07:30:08.513649Z",
     "iopub.status.busy": "2021-08-30T07:30:08.511313Z",
     "iopub.status.idle": "2021-08-30T07:30:08.758564Z",
     "shell.execute_reply": "2021-08-30T07:30:08.759682Z"
    },
    "papermill": {
     "duration": 0.27761,
     "end_time": "2021-08-30T07:30:08.760085",
     "exception": false,
     "start_time": "2021-08-30T07:30:08.482475",
     "status": "completed"
    },
    "tags": []
   },
   "outputs": [],
   "source": [
    "df = pd.read_sql(\"select * from EBAY_TOP_BERLIN where record_time in (select distinct record_time from EBAY_TOP_BERLIN order by record_time desc limit 2)\", sqlite3.connect(\"UsedObjects.db\"))"
   ]
  },
  {
   "cell_type": "code",
   "execution_count": 5,
   "id": "popular-active",
   "metadata": {
    "execution": {
     "iopub.execute_input": "2021-08-30T07:30:08.836193Z",
     "iopub.status.busy": "2021-08-30T07:30:08.828637Z",
     "iopub.status.idle": "2021-08-30T07:30:08.857770Z",
     "shell.execute_reply": "2021-08-30T07:30:08.858983Z"
    },
    "papermill": {
     "duration": 0.071085,
     "end_time": "2021-08-30T07:30:08.859377",
     "exception": false,
     "start_time": "2021-08-30T07:30:08.788292",
     "status": "completed"
    },
    "tags": []
   },
   "outputs": [],
   "source": [
    "df_pivot = df.pivot_table(index=\"PRODUCT\", columns = \"RECORD_TIME\", values = \"LISTING_COUNT\")"
   ]
  },
  {
   "cell_type": "code",
   "execution_count": 6,
   "id": "union-huntington",
   "metadata": {
    "execution": {
     "iopub.execute_input": "2021-08-30T07:30:08.914497Z",
     "iopub.status.busy": "2021-08-30T07:30:08.912519Z",
     "iopub.status.idle": "2021-08-30T07:30:08.917464Z",
     "shell.execute_reply": "2021-08-30T07:30:08.918674Z"
    },
    "papermill": {
     "duration": 0.03967,
     "end_time": "2021-08-30T07:30:08.919070",
     "exception": false,
     "start_time": "2021-08-30T07:30:08.879400",
     "status": "completed"
    },
    "tags": []
   },
   "outputs": [],
   "source": [
    "df_pivot.columns = [\"stamp_1\", \"stamp_2\"]\n",
    "df_pivot_diff = df_pivot.diff(axis=1)"
   ]
  },
  {
   "cell_type": "code",
   "execution_count": 7,
   "id": "fifth-motion",
   "metadata": {
    "execution": {
     "iopub.execute_input": "2021-08-30T07:30:08.974820Z",
     "iopub.status.busy": "2021-08-30T07:30:08.972117Z",
     "iopub.status.idle": "2021-08-30T07:30:10.473145Z",
     "shell.execute_reply": "2021-08-30T07:30:10.474531Z"
    },
    "papermill": {
     "duration": 1.534649,
     "end_time": "2021-08-30T07:30:10.474975",
     "exception": false,
     "start_time": "2021-08-30T07:30:08.940326",
     "status": "completed"
    },
    "tags": []
   },
   "outputs": [
    {
     "data": {
      "text/plain": [
       "<AxesSubplot:ylabel='PRODUCT'>"
      ]
     },
     "execution_count": 7,
     "metadata": {},
     "output_type": "execute_result"
    },
    {
     "data": {
      "image/png": "[encoded data removed]",
      "text/plain": [
       "<Figure size 432x288 with 1 Axes>"
      ]
     },
     "metadata": {
      "needs_background": "light"
     },
     "output_type": "display_data"
    }
   ],
   "source": [
    "df_pivot_diff.sort_values(\"stamp_2\", ascending = False)[\"stamp_2\"].head(10).plot.barh()"
   ]
  },
  {
   "cell_type": "code",
   "execution_count": null,
   "id": "extra-executive",
   "metadata": {
    "papermill": {
     "duration": 0.022452,
     "end_time": "2021-08-30T07:30:10.522060",
     "exception": false,
     "start_time": "2021-08-30T07:30:10.499608",
     "status": "completed"
    },
    "tags": []
   },
   "outputs": [],
   "source": []
  }
 ],
 "metadata": {
  "kernelspec": {
   "display_name": "Python 3",
   "language": "python",
   "name": "python3"
  },
  "language_info": {
   "codemirror_mode": {
    "name": "ipython",
    "version": 3
   },
   "file_extension": ".py",
   "mimetype": "text/x-python",
   "name": "python",
   "nbconvert_exporter": "python",
   "pygments_lexer": "ipython3",
   "version": "3.9.5"
  },
  "papermill": {
   "default_parameters": {},
   "duration": 6.819684,
   "end_time": "2021-08-30T07:30:11.721007",
   "environment_variables": {},
   "exception": null,
   "input_path": "eBay_Overview.ipynb",
   "output_path": "eBay_Overview.ipynb",
   "parameters": {},
   "start_time": "2021-08-30T07:30:04.901323",
   "version": "2.3.3"
  }
 },
 "nbformat": 4,
 "nbformat_minor": 5
}