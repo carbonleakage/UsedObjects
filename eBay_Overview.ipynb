{
 "cells": [
  {
   "cell_type": "code",
   "execution_count": 1,
   "id": "reverse-picking",
   "metadata": {
    "execution": {
     "iopub.execute_input": "2021-09-25T15:30:06.624733Z",
     "iopub.status.busy": "2021-09-25T15:30:06.622702Z",
     "iopub.status.idle": "2021-09-25T15:30:07.428165Z",
     "shell.execute_reply": "2021-09-25T15:30:07.429433Z"
    },
    "papermill": {
     "duration": 0.857277,
     "end_time": "2021-09-25T15:30:07.430034",
     "exception": false,
     "start_time": "2021-09-25T15:30:06.572757",
     "status": "completed"
    },
    "tags": []
   },
   "outputs": [],
   "source": [
    "import pandas as pd\n",
    "import sqlite3"
   ]
  },
  {
   "cell_type": "code",
   "execution_count": 2,
   "id": "innovative-syndrome",
   "metadata": {
    "execution": {
     "iopub.execute_input": "2021-09-25T15:30:07.480866Z",
     "iopub.status.busy": "2021-09-25T15:30:07.478958Z",
     "iopub.status.idle": "2021-09-25T15:30:07.858421Z",
     "shell.execute_reply": "2021-09-25T15:30:07.859777Z"
    },
    "papermill": {
     "duration": 0.409216,
     "end_time": "2021-09-25T15:30:07.860203",
     "exception": false,
     "start_time": "2021-09-25T15:30:07.450987",
     "status": "completed"
    },
    "tags": []
   },
   "outputs": [],
   "source": [
    "timestamps = pd.read_sql(\"select distinct record_time from EBAY_TOP_BERLIN order by record_time desc limit 2\", sqlite3.connect(\"UsedObjects.db\"))"
   ]
  },
  {
   "cell_type": "code",
   "execution_count": 3,
   "id": "periodic-identification",
   "metadata": {
    "execution": {
     "iopub.execute_input": "2021-09-25T15:30:07.925242Z",
     "iopub.status.busy": "2021-09-25T15:30:07.923064Z",
     "iopub.status.idle": "2021-09-25T15:30:07.943644Z",
     "shell.execute_reply": "2021-09-25T15:30:07.944890Z"
    },
    "papermill": {
     "duration": 0.064749,
     "end_time": "2021-09-25T15:30:07.945286",
     "exception": false,
     "start_time": "2021-09-25T15:30:07.880537",
     "status": "completed"
    },
    "tags": []
   },
   "outputs": [
    {
     "data": {
      "text/html": [
       "<div>\n",
       "<style scoped>\n",
       "    .dataframe tbody tr th:only-of-type {\n",
       "        vertical-align: middle;\n",
       "    }\n",
       "\n",
       "    .dataframe tbody tr th {\n",
       "        vertical-align: top;\n",
       "    }\n",
       "\n",
       "    .dataframe thead th {\n",
       "        text-align: right;\n",
       "    }\n",
       "</style>\n",
       "<table border=\"1\" class=\"dataframe\">\n",
       "  <thead>\n",
       "    <tr style=\"text-align: right;\">\n",
       "      <th></th>\n",
       "      <th>RECORD_TIME</th>\n",
       "    </tr>\n",
       "  </thead>\n",
       "  <tbody>\n",
       "    <tr>\n",
       "      <th>0</th>\n",
       "      <td>2021-09-25 17:30</td>\n",
       "    </tr>\n",
       "    <tr>\n",
       "      <th>1</th>\n",
       "      <td>2021-09-25 17:00</td>\n",
       "    </tr>\n",
       "  </tbody>\n",
       "</table>\n",
       "</div>"
      ],
      "text/plain": [
       "        RECORD_TIME\n",
       "0  2021-09-25 17:30\n",
       "1  2021-09-25 17:00"
      ]
     },
     "execution_count": 3,
     "metadata": {},
     "output_type": "execute_result"
    }
   ],
   "source": [
    "timestamps"
   ]
  },
  {
   "cell_type": "code",
   "execution_count": 4,
   "id": "alternate-victory",
   "metadata": {
    "execution": {
     "iopub.execute_input": "2021-09-25T15:30:07.998148Z",
     "iopub.status.busy": "2021-09-25T15:30:07.995845Z",
     "iopub.status.idle": "2021-09-25T15:30:08.557937Z",
     "shell.execute_reply": "2021-09-25T15:30:08.559328Z"
    },
    "papermill": {
     "duration": 0.592873,
     "end_time": "2021-09-25T15:30:08.559768",
     "exception": false,
     "start_time": "2021-09-25T15:30:07.966895",
     "status": "completed"
    },
    "tags": []
   },
   "outputs": [],
   "source": [
    "df = pd.read_sql(\"select * from EBAY_TOP_BERLIN where record_time in (select distinct record_time from EBAY_TOP_BERLIN order by record_time desc limit 2)\", sqlite3.connect(\"UsedObjects.db\"))"
   ]
  },
  {
   "cell_type": "code",
   "execution_count": 5,
   "id": "popular-active",
   "metadata": {
    "execution": {
     "iopub.execute_input": "2021-09-25T15:30:08.638981Z",
     "iopub.status.busy": "2021-09-25T15:30:08.627578Z",
     "iopub.status.idle": "2021-09-25T15:30:08.655737Z",
     "shell.execute_reply": "2021-09-25T15:30:08.656919Z"
    },
    "papermill": {
     "duration": 0.070205,
     "end_time": "2021-09-25T15:30:08.657327",
     "exception": false,
     "start_time": "2021-09-25T15:30:08.587122",
     "status": "completed"
    },
    "tags": []
   },
   "outputs": [],
   "source": [
    "df_pivot = df.pivot_table(index=\"PRODUCT\", columns = \"RECORD_TIME\", values = \"LISTING_COUNT\")"
   ]
  },
  {
   "cell_type": "code",
   "execution_count": 6,
   "id": "union-huntington",
   "metadata": {
    "execution": {
     "iopub.execute_input": "2021-09-25T15:30:08.714330Z",
     "iopub.status.busy": "2021-09-25T15:30:08.712249Z",
     "iopub.status.idle": "2021-09-25T15:30:08.717461Z",
     "shell.execute_reply": "2021-09-25T15:30:08.718753Z"
    },
    "papermill": {
     "duration": 0.040525,
     "end_time": "2021-09-25T15:30:08.719404",
     "exception": false,
     "start_time": "2021-09-25T15:30:08.678879",
     "status": "completed"
    },
    "tags": []
   },
   "outputs": [],
   "source": [
    "df_pivot.columns = [\"stamp_1\", \"stamp_2\"]\n",
    "df_pivot_diff = df_pivot.diff(axis=1)"
   ]
  },
  {
   "cell_type": "code",
   "execution_count": 7,
   "id": "fifth-motion",
   "metadata": {
    "execution": {
     "iopub.execute_input": "2021-09-25T15:30:08.775036Z",
     "iopub.status.busy": "2021-09-25T15:30:08.772289Z",
     "iopub.status.idle": "2021-09-25T15:30:10.292019Z",
     "shell.execute_reply": "2021-09-25T15:30:10.293331Z"
    },
    "papermill": {
     "duration": 1.553295,
     "end_time": "2021-09-25T15:30:10.293748",
     "exception": false,
     "start_time": "2021-09-25T15:30:08.740453",
     "status": "completed"
    },
    "tags": []
   },
   "outputs": [
    {
     "data": {
      "text/plain": [
       "<AxesSubplot:ylabel='PRODUCT'>"
      ]
     },
     "execution_count": 7,
     "metadata": {},
     "output_type": "execute_result"
    },
    {
     "data": {
      "image/png": "[encoded data removed]",
      "text/plain": [
       "<Figure size 432x288 with 1 Axes>"
      ]
     },
     "metadata": {
      "needs_background": "light"
     },
     "output_type": "display_data"
    }
   ],
   "source": [
    "df_pivot_diff.sort_values(\"stamp_2\", ascending = False)[\"stamp_2\"].head(10).plot.barh()"
   ]
  },
  {
   "cell_type": "code",
   "execution_count": null,
   "id": "extra-executive",
   "metadata": {
    "papermill": {
     "duration": 0.02225,
     "end_time": "2021-09-25T15:30:10.340535",
     "exception": false,
     "start_time": "2021-09-25T15:30:10.318285",
     "status": "completed"
    },
    "tags": []
   },
   "outputs": [],
   "source": []
  }
 ],
 "metadata": {
  "kernelspec": {
   "display_name": "Python 3",
   "language": "python",
   "name": "python3"
  },
  "language_info": {
   "codemirror_mode": {
    "name": "ipython",
    "version": 3
   },
   "file_extension": ".py",
   "mimetype": "text/x-python",
   "name": "python",
   "nbconvert_exporter": "python",
   "pygments_lexer": "ipython3",
   "version": "3.9.5"
  },
  "papermill": {
   "default_parameters": {},
   "duration": 6.819797,
   "end_time": "2021-09-25T15:30:10.983835",
   "environment_variables": {},
   "exception": null,
   "input_path": "eBay_Overview.ipynb",
   "output_path": "eBay_Overview.ipynb",
   "parameters": {},
   "start_time": "2021-09-25T15:30:04.164038",
   "version": "2.3.3"
  }
 },
 "nbformat": 4,
 "nbformat_minor": 5
}