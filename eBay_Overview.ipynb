{
 "cells": [
  {
   "cell_type": "code",
   "execution_count": 1,
   "id": "reverse-picking",
   "metadata": {
    "execution": {
     "iopub.execute_input": "2021-10-08T10:00:07.237279Z",
     "iopub.status.busy": "2021-10-08T10:00:07.235339Z",
     "iopub.status.idle": "2021-10-08T10:00:08.043815Z",
     "shell.execute_reply": "2021-10-08T10:00:08.045086Z"
    },
    "papermill": {
     "duration": 0.862457,
     "end_time": "2021-10-08T10:00:08.045693",
     "exception": false,
     "start_time": "2021-10-08T10:00:07.183236",
     "status": "completed"
    },
    "tags": []
   },
   "outputs": [],
   "source": [
    "import pandas as pd\n",
    "import sqlite3"
   ]
  },
  {
   "cell_type": "code",
   "execution_count": 2,
   "id": "innovative-syndrome",
   "metadata": {
    "execution": {
     "iopub.execute_input": "2021-10-08T10:00:08.099491Z",
     "iopub.status.busy": "2021-10-08T10:00:08.097078Z",
     "iopub.status.idle": "2021-10-08T10:00:08.584750Z",
     "shell.execute_reply": "2021-10-08T10:00:08.585941Z"
    },
    "papermill": {
     "duration": 0.51758,
     "end_time": "2021-10-08T10:00:08.586331",
     "exception": false,
     "start_time": "2021-10-08T10:00:08.068751",
     "status": "completed"
    },
    "tags": []
   },
   "outputs": [],
   "source": [
    "timestamps = pd.read_sql(\"select distinct record_time from EBAY_TOP_BERLIN order by record_time desc limit 2\", sqlite3.connect(\"UsedObjects.db\"))"
   ]
  },
  {
   "cell_type": "code",
   "execution_count": 3,
   "id": "periodic-identification",
   "metadata": {
    "execution": {
     "iopub.execute_input": "2021-10-08T10:00:08.655720Z",
     "iopub.status.busy": "2021-10-08T10:00:08.653626Z",
     "iopub.status.idle": "2021-10-08T10:00:08.673782Z",
     "shell.execute_reply": "2021-10-08T10:00:08.675063Z"
    },
    "papermill": {
     "duration": 0.066851,
     "end_time": "2021-10-08T10:00:08.675502",
     "exception": false,
     "start_time": "2021-10-08T10:00:08.608651",
     "status": "completed"
    },
    "tags": []
   },
   "outputs": [
    {
     "data": {
      "text/html": [
       "<div>\n",
       "<style scoped>\n",
       "    .dataframe tbody tr th:only-of-type {\n",
       "        vertical-align: middle;\n",
       "    }\n",
       "\n",
       "    .dataframe tbody tr th {\n",
       "        vertical-align: top;\n",
       "    }\n",
       "\n",
       "    .dataframe thead th {\n",
       "        text-align: right;\n",
       "    }\n",
       "</style>\n",
       "<table border=\"1\" class=\"dataframe\">\n",
       "  <thead>\n",
       "    <tr style=\"text-align: right;\">\n",
       "      <th></th>\n",
       "      <th>RECORD_TIME</th>\n",
       "    </tr>\n",
       "  </thead>\n",
       "  <tbody>\n",
       "    <tr>\n",
       "      <th>0</th>\n",
       "      <td>2021-10-08 12:00</td>\n",
       "    </tr>\n",
       "    <tr>\n",
       "      <th>1</th>\n",
       "      <td>2021-10-08 11:30</td>\n",
       "    </tr>\n",
       "  </tbody>\n",
       "</table>\n",
       "</div>"
      ],
      "text/plain": [
       "        RECORD_TIME\n",
       "0  2021-10-08 12:00\n",
       "1  2021-10-08 11:30"
      ]
     },
     "execution_count": 3,
     "metadata": {},
     "output_type": "execute_result"
    }
   ],
   "source": [
    "timestamps"
   ]
  },
  {
   "cell_type": "code",
   "execution_count": 4,
   "id": "alternate-victory",
   "metadata": {
    "execution": {
     "iopub.execute_input": "2021-10-08T10:00:08.737309Z",
     "iopub.status.busy": "2021-10-08T10:00:08.735438Z",
     "iopub.status.idle": "2021-10-08T10:00:09.447667Z",
     "shell.execute_reply": "2021-10-08T10:00:09.449047Z"
    },
    "papermill": {
     "duration": 0.745623,
     "end_time": "2021-10-08T10:00:09.449484",
     "exception": false,
     "start_time": "2021-10-08T10:00:08.703861",
     "status": "completed"
    },
    "tags": []
   },
   "outputs": [],
   "source": [
    "df = pd.read_sql(\"select * from EBAY_TOP_BERLIN where record_time in (select distinct record_time from EBAY_TOP_BERLIN order by record_time desc limit 2)\", sqlite3.connect(\"UsedObjects.db\"))"
   ]
  },
  {
   "cell_type": "code",
   "execution_count": 5,
   "id": "popular-active",
   "metadata": {
    "execution": {
     "iopub.execute_input": "2021-10-08T10:00:09.521141Z",
     "iopub.status.busy": "2021-10-08T10:00:09.508804Z",
     "iopub.status.idle": "2021-10-08T10:00:09.537748Z",
     "shell.execute_reply": "2021-10-08T10:00:09.539193Z"
    },
    "papermill": {
     "duration": 0.069353,
     "end_time": "2021-10-08T10:00:09.539626",
     "exception": false,
     "start_time": "2021-10-08T10:00:09.470273",
     "status": "completed"
    },
    "tags": []
   },
   "outputs": [],
   "source": [
    "df_pivot = df.pivot_table(index=\"PRODUCT\", columns = \"RECORD_TIME\", values = \"LISTING_COUNT\")"
   ]
  },
  {
   "cell_type": "code",
   "execution_count": 6,
   "id": "union-huntington",
   "metadata": {
    "execution": {
     "iopub.execute_input": "2021-10-08T10:00:09.597952Z",
     "iopub.status.busy": "2021-10-08T10:00:09.595503Z",
     "iopub.status.idle": "2021-10-08T10:00:09.601193Z",
     "shell.execute_reply": "2021-10-08T10:00:09.602718Z"
    },
    "papermill": {
     "duration": 0.042388,
     "end_time": "2021-10-08T10:00:09.603289",
     "exception": false,
     "start_time": "2021-10-08T10:00:09.560901",
     "status": "completed"
    },
    "tags": []
   },
   "outputs": [],
   "source": [
    "df_pivot.columns = [\"stamp_1\", \"stamp_2\"]\n",
    "df_pivot_diff = df_pivot.diff(axis=1)"
   ]
  },
  {
   "cell_type": "code",
   "execution_count": 7,
   "id": "fifth-motion",
   "metadata": {
    "execution": {
     "iopub.execute_input": "2021-10-08T10:00:09.658032Z",
     "iopub.status.busy": "2021-10-08T10:00:09.655655Z",
     "iopub.status.idle": "2021-10-08T10:00:11.141834Z",
     "shell.execute_reply": "2021-10-08T10:00:11.143097Z"
    },
    "papermill": {
     "duration": 1.519249,
     "end_time": "2021-10-08T10:00:11.143533",
     "exception": false,
     "start_time": "2021-10-08T10:00:09.624284",
     "status": "completed"
    },
    "tags": []
   },
   "outputs": [
    {
     "data": {
      "text/plain": [
       "<AxesSubplot:ylabel='PRODUCT'>"
      ]
     },
     "execution_count": 7,
     "metadata": {},
     "output_type": "execute_result"
    },
    {
     "data": {
      "image/png": "[encoded data removed]",
      "text/plain": [
       "<Figure size 432x288 with 1 Axes>"
      ]
     },
     "metadata": {
      "needs_background": "light"
     },
     "output_type": "display_data"
    }
   ],
   "source": [
    "df_pivot_diff.sort_values(\"stamp_2\", ascending = False)[\"stamp_2\"].head(10).plot.barh()"
   ]
  },
  {
   "cell_type": "code",
   "execution_count": null,
   "id": "extra-executive",
   "metadata": {
    "papermill": {
     "duration": 0.022164,
     "end_time": "2021-10-08T10:00:11.189702",
     "exception": false,
     "start_time": "2021-10-08T10:00:11.167538",
     "status": "completed"
    },
    "tags": []
   },
   "outputs": [],
   "source": []
  }
 ],
 "metadata": {
  "kernelspec": {
   "display_name": "Python 3",
   "language": "python",
   "name": "python3"
  },
  "language_info": {
   "codemirror_mode": {
    "name": "ipython",
    "version": 3
   },
   "file_extension": ".py",
   "mimetype": "text/x-python",
   "name": "python",
   "nbconvert_exporter": "python",
   "pygments_lexer": "ipython3",
   "version": "3.9.5"
  },
  "papermill": {
   "default_parameters": {},
   "duration": 7.844601,
   "end_time": "2021-10-08T10:00:12.613015",
   "environment_variables": {},
   "exception": null,
   "input_path": "eBay_Overview.ipynb",
   "output_path": "eBay_Overview.ipynb",
   "parameters": {},
   "start_time": "2021-10-08T10:00:04.768414",
   "version": "2.3.3"
  }
 },
 "nbformat": 4,
 "nbformat_minor": 5
}