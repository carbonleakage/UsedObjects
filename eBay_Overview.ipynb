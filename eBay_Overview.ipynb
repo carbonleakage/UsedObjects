{
 "cells": [
  {
   "cell_type": "code",
   "execution_count": 1,
   "id": "reverse-picking",
   "metadata": {
    "execution": {
     "iopub.execute_input": "2021-12-11T18:00:07.375199Z",
     "iopub.status.busy": "2021-12-11T18:00:07.365752Z",
     "iopub.status.idle": "2021-12-11T18:00:08.318869Z",
     "shell.execute_reply": "2021-12-11T18:00:08.321432Z"
    },
    "papermill": {
     "duration": 1.002408,
     "end_time": "2021-12-11T18:00:08.322171",
     "exception": false,
     "start_time": "2021-12-11T18:00:07.319763",
     "status": "completed"
    },
    "tags": []
   },
   "outputs": [],
   "source": [
    "import pandas as pd\n",
    "import sqlite3"
   ]
  },
  {
   "cell_type": "code",
   "execution_count": 2,
   "id": "innovative-syndrome",
   "metadata": {
    "execution": {
     "iopub.execute_input": "2021-12-11T18:00:08.385481Z",
     "iopub.status.busy": "2021-12-11T18:00:08.383044Z",
     "iopub.status.idle": "2021-12-11T18:00:09.454016Z",
     "shell.execute_reply": "2021-12-11T18:00:09.455670Z"
    },
    "papermill": {
     "duration": 1.106623,
     "end_time": "2021-12-11T18:00:09.456154",
     "exception": false,
     "start_time": "2021-12-11T18:00:08.349531",
     "status": "completed"
    },
    "tags": []
   },
   "outputs": [],
   "source": [
    "timestamps = pd.read_sql(\"select distinct record_time from EBAY_TOP_BERLIN order by record_time desc limit 2\", sqlite3.connect(\"UsedObjects.db\"))"
   ]
  },
  {
   "cell_type": "code",
   "execution_count": 3,
   "id": "periodic-identification",
   "metadata": {
    "execution": {
     "iopub.execute_input": "2021-12-11T18:00:09.535107Z",
     "iopub.status.busy": "2021-12-11T18:00:09.528890Z",
     "iopub.status.idle": "2021-12-11T18:00:09.552654Z",
     "shell.execute_reply": "2021-12-11T18:00:09.554359Z"
    },
    "papermill": {
     "duration": 0.077868,
     "end_time": "2021-12-11T18:00:09.554859",
     "exception": false,
     "start_time": "2021-12-11T18:00:09.476991",
     "status": "completed"
    },
    "tags": []
   },
   "outputs": [
    {
     "data": {
      "text/html": [
       "<div>\n",
       "<style scoped>\n",
       "    .dataframe tbody tr th:only-of-type {\n",
       "        vertical-align: middle;\n",
       "    }\n",
       "\n",
       "    .dataframe tbody tr th {\n",
       "        vertical-align: top;\n",
       "    }\n",
       "\n",
       "    .dataframe thead th {\n",
       "        text-align: right;\n",
       "    }\n",
       "</style>\n",
       "<table border=\"1\" class=\"dataframe\">\n",
       "  <thead>\n",
       "    <tr style=\"text-align: right;\">\n",
       "      <th></th>\n",
       "      <th>RECORD_TIME</th>\n",
       "    </tr>\n",
       "  </thead>\n",
       "  <tbody>\n",
       "    <tr>\n",
       "      <th>0</th>\n",
       "      <td>2021-12-11 19:00</td>\n",
       "    </tr>\n",
       "    <tr>\n",
       "      <th>1</th>\n",
       "      <td>2021-12-11 18:30</td>\n",
       "    </tr>\n",
       "  </tbody>\n",
       "</table>\n",
       "</div>"
      ],
      "text/plain": [
       "        RECORD_TIME\n",
       "0  2021-12-11 19:00\n",
       "1  2021-12-11 18:30"
      ]
     },
     "execution_count": 3,
     "metadata": {},
     "output_type": "execute_result"
    }
   ],
   "source": [
    "timestamps"
   ]
  },
  {
   "cell_type": "code",
   "execution_count": 4,
   "id": "alternate-victory",
   "metadata": {
    "execution": {
     "iopub.execute_input": "2021-12-11T18:00:09.612351Z",
     "iopub.status.busy": "2021-12-11T18:00:09.610136Z",
     "iopub.status.idle": "2021-12-11T18:00:11.167595Z",
     "shell.execute_reply": "2021-12-11T18:00:11.169802Z"
    },
    "papermill": {
     "duration": 1.59287,
     "end_time": "2021-12-11T18:00:11.170292",
     "exception": false,
     "start_time": "2021-12-11T18:00:09.577422",
     "status": "completed"
    },
    "tags": []
   },
   "outputs": [],
   "source": [
    "df = pd.read_sql(\"select * from EBAY_TOP_BERLIN where record_time in (select distinct record_time from EBAY_TOP_BERLIN order by record_time desc limit 2)\", sqlite3.connect(\"UsedObjects.db\"))"
   ]
  },
  {
   "cell_type": "code",
   "execution_count": 5,
   "id": "popular-active",
   "metadata": {
    "execution": {
     "iopub.execute_input": "2021-12-11T18:00:11.255678Z",
     "iopub.status.busy": "2021-12-11T18:00:11.238581Z",
     "iopub.status.idle": "2021-12-11T18:00:11.275476Z",
     "shell.execute_reply": "2021-12-11T18:00:11.276912Z"
    },
    "papermill": {
     "duration": 0.085333,
     "end_time": "2021-12-11T18:00:11.277395",
     "exception": false,
     "start_time": "2021-12-11T18:00:11.192062",
     "status": "completed"
    },
    "tags": []
   },
   "outputs": [],
   "source": [
    "df_pivot = df.pivot_table(index=\"PRODUCT\", columns = \"RECORD_TIME\", values = \"LISTING_COUNT\")"
   ]
  },
  {
   "cell_type": "code",
   "execution_count": 6,
   "id": "union-huntington",
   "metadata": {
    "execution": {
     "iopub.execute_input": "2021-12-11T18:00:11.336842Z",
     "iopub.status.busy": "2021-12-11T18:00:11.334662Z",
     "iopub.status.idle": "2021-12-11T18:00:11.339725Z",
     "shell.execute_reply": "2021-12-11T18:00:11.341606Z"
    },
    "papermill": {
     "duration": 0.044027,
     "end_time": "2021-12-11T18:00:11.342081",
     "exception": false,
     "start_time": "2021-12-11T18:00:11.298054",
     "status": "completed"
    },
    "tags": []
   },
   "outputs": [],
   "source": [
    "df_pivot.columns = [\"stamp_1\", \"stamp_2\"]\n",
    "df_pivot_diff = df_pivot.diff(axis=1)"
   ]
  },
  {
   "cell_type": "code",
   "execution_count": 7,
   "id": "fifth-motion",
   "metadata": {
    "execution": {
     "iopub.execute_input": "2021-12-11T18:00:11.403712Z",
     "iopub.status.busy": "2021-12-11T18:00:11.401186Z",
     "iopub.status.idle": "2021-12-11T18:00:13.399326Z",
     "shell.execute_reply": "2021-12-11T18:00:13.401205Z"
    },
    "papermill": {
     "duration": 2.037795,
     "end_time": "2021-12-11T18:00:13.401770",
     "exception": false,
     "start_time": "2021-12-11T18:00:11.363975",
     "status": "completed"
    },
    "tags": []
   },
   "outputs": [
    {
     "data": {
      "text/plain": [
       "<AxesSubplot:ylabel='PRODUCT'>"
      ]
     },
     "execution_count": 7,
     "metadata": {},
     "output_type": "execute_result"
    },
    {
     "data": {
      "image/png": "[encoded data removed]",
      "text/plain": [
       "<Figure size 432x288 with 1 Axes>"
      ]
     },
     "metadata": {
      "needs_background": "light"
     },
     "output_type": "display_data"
    }
   ],
   "source": [
    "df_pivot_diff.sort_values(\"stamp_2\", ascending = False)[\"stamp_2\"].head(10).plot.barh()"
   ]
  },
  {
   "cell_type": "code",
   "execution_count": null,
   "id": "extra-executive",
   "metadata": {
    "papermill": {
     "duration": 0.032077,
     "end_time": "2021-12-11T18:00:13.467864",
     "exception": false,
     "start_time": "2021-12-11T18:00:13.435787",
     "status": "completed"
    },
    "tags": []
   },
   "outputs": [],
   "source": []
  }
 ],
 "metadata": {
  "kernelspec": {
   "display_name": "Python 3",
   "language": "python",
   "name": "python3"
  },
  "language_info": {
   "codemirror_mode": {
    "name": "ipython",
    "version": 3
   },
   "file_extension": ".py",
   "mimetype": "text/x-python",
   "name": "python",
   "nbconvert_exporter": "python",
   "pygments_lexer": "ipython3",
   "version": "3.9.5"
  },
  "papermill": {
   "default_parameters": {},
   "duration": 9.686279,
   "end_time": "2021-12-11T18:00:14.235555",
   "environment_variables": {},
   "exception": null,
   "input_path": "eBay_Overview.ipynb",
   "output_path": "eBay_Overview.ipynb",
   "parameters": {},
   "start_time": "2021-12-11T18:00:04.549276",
   "version": "2.3.3"
  }
 },
 "nbformat": 4,
 "nbformat_minor": 5
}