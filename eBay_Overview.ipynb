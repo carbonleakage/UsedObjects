{
 "cells": [
  {
   "cell_type": "code",
   "execution_count": 1,
   "id": "reverse-picking",
   "metadata": {
    "execution": {
     "iopub.execute_input": "2021-11-19T19:00:07.767247Z",
     "iopub.status.busy": "2021-11-19T19:00:07.764955Z",
     "iopub.status.idle": "2021-11-19T19:00:08.712172Z",
     "shell.execute_reply": "2021-11-19T19:00:08.713798Z"
    },
    "papermill": {
     "duration": 0.997799,
     "end_time": "2021-11-19T19:00:08.714572",
     "exception": false,
     "start_time": "2021-11-19T19:00:07.716773",
     "status": "completed"
    },
    "tags": []
   },
   "outputs": [],
   "source": [
    "import pandas as pd\n",
    "import sqlite3"
   ]
  },
  {
   "cell_type": "code",
   "execution_count": 2,
   "id": "innovative-syndrome",
   "metadata": {
    "execution": {
     "iopub.execute_input": "2021-11-19T19:00:08.777315Z",
     "iopub.status.busy": "2021-11-19T19:00:08.774989Z",
     "iopub.status.idle": "2021-11-19T19:00:09.635824Z",
     "shell.execute_reply": "2021-11-19T19:00:09.637353Z"
    },
    "papermill": {
     "duration": 0.895558,
     "end_time": "2021-11-19T19:00:09.637849",
     "exception": false,
     "start_time": "2021-11-19T19:00:08.742291",
     "status": "completed"
    },
    "tags": []
   },
   "outputs": [],
   "source": [
    "timestamps = pd.read_sql(\"select distinct record_time from EBAY_TOP_BERLIN order by record_time desc limit 2\", sqlite3.connect(\"UsedObjects.db\"))"
   ]
  },
  {
   "cell_type": "code",
   "execution_count": 3,
   "id": "periodic-identification",
   "metadata": {
    "execution": {
     "iopub.execute_input": "2021-11-19T19:00:09.711307Z",
     "iopub.status.busy": "2021-11-19T19:00:09.709028Z",
     "iopub.status.idle": "2021-11-19T19:00:09.730689Z",
     "shell.execute_reply": "2021-11-19T19:00:09.732011Z"
    },
    "papermill": {
     "duration": 0.074135,
     "end_time": "2021-11-19T19:00:09.732471",
     "exception": false,
     "start_time": "2021-11-19T19:00:09.658336",
     "status": "completed"
    },
    "tags": []
   },
   "outputs": [
    {
     "data": {
      "text/html": [
       "<div>\n",
       "<style scoped>\n",
       "    .dataframe tbody tr th:only-of-type {\n",
       "        vertical-align: middle;\n",
       "    }\n",
       "\n",
       "    .dataframe tbody tr th {\n",
       "        vertical-align: top;\n",
       "    }\n",
       "\n",
       "    .dataframe thead th {\n",
       "        text-align: right;\n",
       "    }\n",
       "</style>\n",
       "<table border=\"1\" class=\"dataframe\">\n",
       "  <thead>\n",
       "    <tr style=\"text-align: right;\">\n",
       "      <th></th>\n",
       "      <th>RECORD_TIME</th>\n",
       "    </tr>\n",
       "  </thead>\n",
       "  <tbody>\n",
       "    <tr>\n",
       "      <th>0</th>\n",
       "      <td>2021-11-19 20:00</td>\n",
       "    </tr>\n",
       "    <tr>\n",
       "      <th>1</th>\n",
       "      <td>2021-11-19 19:30</td>\n",
       "    </tr>\n",
       "  </tbody>\n",
       "</table>\n",
       "</div>"
      ],
      "text/plain": [
       "        RECORD_TIME\n",
       "0  2021-11-19 20:00\n",
       "1  2021-11-19 19:30"
      ]
     },
     "execution_count": 3,
     "metadata": {},
     "output_type": "execute_result"
    }
   ],
   "source": [
    "timestamps"
   ]
  },
  {
   "cell_type": "code",
   "execution_count": 4,
   "id": "alternate-victory",
   "metadata": {
    "execution": {
     "iopub.execute_input": "2021-11-19T19:00:09.787427Z",
     "iopub.status.busy": "2021-11-19T19:00:09.785305Z",
     "iopub.status.idle": "2021-11-19T19:00:11.048371Z",
     "shell.execute_reply": "2021-11-19T19:00:11.050596Z"
    },
    "papermill": {
     "duration": 1.29708,
     "end_time": "2021-11-19T19:00:11.051086",
     "exception": false,
     "start_time": "2021-11-19T19:00:09.754006",
     "status": "completed"
    },
    "tags": []
   },
   "outputs": [],
   "source": [
    "df = pd.read_sql(\"select * from EBAY_TOP_BERLIN where record_time in (select distinct record_time from EBAY_TOP_BERLIN order by record_time desc limit 2)\", sqlite3.connect(\"UsedObjects.db\"))"
   ]
  },
  {
   "cell_type": "code",
   "execution_count": 5,
   "id": "popular-active",
   "metadata": {
    "execution": {
     "iopub.execute_input": "2021-11-19T19:00:11.117941Z",
     "iopub.status.busy": "2021-11-19T19:00:11.115481Z",
     "iopub.status.idle": "2021-11-19T19:00:11.151870Z",
     "shell.execute_reply": "2021-11-19T19:00:11.153555Z"
    },
    "papermill": {
     "duration": 0.080172,
     "end_time": "2021-11-19T19:00:11.154088",
     "exception": false,
     "start_time": "2021-11-19T19:00:11.073916",
     "status": "completed"
    },
    "tags": []
   },
   "outputs": [],
   "source": [
    "df_pivot = df.pivot_table(index=\"PRODUCT\", columns = \"RECORD_TIME\", values = \"LISTING_COUNT\")"
   ]
  },
  {
   "cell_type": "code",
   "execution_count": 6,
   "id": "union-huntington",
   "metadata": {
    "execution": {
     "iopub.execute_input": "2021-11-19T19:00:11.217587Z",
     "iopub.status.busy": "2021-11-19T19:00:11.214920Z",
     "iopub.status.idle": "2021-11-19T19:00:11.220260Z",
     "shell.execute_reply": "2021-11-19T19:00:11.222277Z"
    },
    "papermill": {
     "duration": 0.047641,
     "end_time": "2021-11-19T19:00:11.222791",
     "exception": false,
     "start_time": "2021-11-19T19:00:11.175150",
     "status": "completed"
    },
    "tags": []
   },
   "outputs": [],
   "source": [
    "df_pivot.columns = [\"stamp_1\", \"stamp_2\"]\n",
    "df_pivot_diff = df_pivot.diff(axis=1)"
   ]
  },
  {
   "cell_type": "code",
   "execution_count": 7,
   "id": "fifth-motion",
   "metadata": {
    "execution": {
     "iopub.execute_input": "2021-11-19T19:00:11.280368Z",
     "iopub.status.busy": "2021-11-19T19:00:11.277960Z",
     "iopub.status.idle": "2021-11-19T19:00:12.977014Z",
     "shell.execute_reply": "2021-11-19T19:00:12.978389Z"
    },
    "papermill": {
     "duration": 1.734709,
     "end_time": "2021-11-19T19:00:12.978862",
     "exception": false,
     "start_time": "2021-11-19T19:00:11.244153",
     "status": "completed"
    },
    "tags": []
   },
   "outputs": [
    {
     "data": {
      "text/plain": [
       "<AxesSubplot:ylabel='PRODUCT'>"
      ]
     },
     "execution_count": 7,
     "metadata": {},
     "output_type": "execute_result"
    },
    {
     "data": {
      "image/png": "[encoded data removed]",
      "text/plain": [
       "<Figure size 432x288 with 1 Axes>"
      ]
     },
     "metadata": {
      "needs_background": "light"
     },
     "output_type": "display_data"
    }
   ],
   "source": [
    "df_pivot_diff.sort_values(\"stamp_2\", ascending = False)[\"stamp_2\"].head(10).plot.barh()"
   ]
  },
  {
   "cell_type": "code",
   "execution_count": null,
   "id": "extra-executive",
   "metadata": {
    "papermill": {
     "duration": 0.029416,
     "end_time": "2021-11-19T19:00:13.032321",
     "exception": false,
     "start_time": "2021-11-19T19:00:13.002905",
     "status": "completed"
    },
    "tags": []
   },
   "outputs": [],
   "source": []
  }
 ],
 "metadata": {
  "kernelspec": {
   "display_name": "Python 3",
   "language": "python",
   "name": "python3"
  },
  "language_info": {
   "codemirror_mode": {
    "name": "ipython",
    "version": 3
   },
   "file_extension": ".py",
   "mimetype": "text/x-python",
   "name": "python",
   "nbconvert_exporter": "python",
   "pygments_lexer": "ipython3",
   "version": "3.9.5"
  },
  "papermill": {
   "default_parameters": {},
   "duration": 10.007355,
   "end_time": "2021-11-19T19:00:14.918664",
   "environment_variables": {},
   "exception": null,
   "input_path": "eBay_Overview.ipynb",
   "output_path": "eBay_Overview.ipynb",
   "parameters": {},
   "start_time": "2021-11-19T19:00:04.911309",
   "version": "2.3.3"
  }
 },
 "nbformat": 4,
 "nbformat_minor": 5
}