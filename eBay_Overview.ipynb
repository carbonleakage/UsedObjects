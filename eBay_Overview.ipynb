{
 "cells": [
  {
   "cell_type": "code",
   "execution_count": 1,
   "id": "reverse-picking",
   "metadata": {
    "execution": {
     "iopub.execute_input": "2021-09-30T21:00:07.500349Z",
     "iopub.status.busy": "2021-09-30T21:00:07.498297Z",
     "iopub.status.idle": "2021-09-30T21:00:08.303709Z",
     "shell.execute_reply": "2021-09-30T21:00:08.305024Z"
    },
    "papermill": {
     "duration": 0.857039,
     "end_time": "2021-09-30T21:00:08.305628",
     "exception": false,
     "start_time": "2021-09-30T21:00:07.448589",
     "status": "completed"
    },
    "tags": []
   },
   "outputs": [],
   "source": [
    "import pandas as pd\n",
    "import sqlite3"
   ]
  },
  {
   "cell_type": "code",
   "execution_count": 2,
   "id": "innovative-syndrome",
   "metadata": {
    "execution": {
     "iopub.execute_input": "2021-09-30T21:00:08.355281Z",
     "iopub.status.busy": "2021-09-30T21:00:08.353339Z",
     "iopub.status.idle": "2021-09-30T21:00:08.772557Z",
     "shell.execute_reply": "2021-09-30T21:00:08.773750Z"
    },
    "papermill": {
     "duration": 0.448551,
     "end_time": "2021-09-30T21:00:08.774140",
     "exception": false,
     "start_time": "2021-09-30T21:00:08.325589",
     "status": "completed"
    },
    "tags": []
   },
   "outputs": [],
   "source": [
    "timestamps = pd.read_sql(\"select distinct record_time from EBAY_TOP_BERLIN order by record_time desc limit 2\", sqlite3.connect(\"UsedObjects.db\"))"
   ]
  },
  {
   "cell_type": "code",
   "execution_count": 3,
   "id": "periodic-identification",
   "metadata": {
    "execution": {
     "iopub.execute_input": "2021-09-30T21:00:08.838184Z",
     "iopub.status.busy": "2021-09-30T21:00:08.836168Z",
     "iopub.status.idle": "2021-09-30T21:00:08.856070Z",
     "shell.execute_reply": "2021-09-30T21:00:08.857206Z"
    },
    "papermill": {
     "duration": 0.064012,
     "end_time": "2021-09-30T21:00:08.857615",
     "exception": false,
     "start_time": "2021-09-30T21:00:08.793603",
     "status": "completed"
    },
    "tags": []
   },
   "outputs": [
    {
     "data": {
      "text/html": [
       "<div>\n",
       "<style scoped>\n",
       "    .dataframe tbody tr th:only-of-type {\n",
       "        vertical-align: middle;\n",
       "    }\n",
       "\n",
       "    .dataframe tbody tr th {\n",
       "        vertical-align: top;\n",
       "    }\n",
       "\n",
       "    .dataframe thead th {\n",
       "        text-align: right;\n",
       "    }\n",
       "</style>\n",
       "<table border=\"1\" class=\"dataframe\">\n",
       "  <thead>\n",
       "    <tr style=\"text-align: right;\">\n",
       "      <th></th>\n",
       "      <th>RECORD_TIME</th>\n",
       "    </tr>\n",
       "  </thead>\n",
       "  <tbody>\n",
       "    <tr>\n",
       "      <th>0</th>\n",
       "      <td>2021-09-30 23:00</td>\n",
       "    </tr>\n",
       "    <tr>\n",
       "      <th>1</th>\n",
       "      <td>2021-09-30 22:30</td>\n",
       "    </tr>\n",
       "  </tbody>\n",
       "</table>\n",
       "</div>"
      ],
      "text/plain": [
       "        RECORD_TIME\n",
       "0  2021-09-30 23:00\n",
       "1  2021-09-30 22:30"
      ]
     },
     "execution_count": 3,
     "metadata": {},
     "output_type": "execute_result"
    }
   ],
   "source": [
    "timestamps"
   ]
  },
  {
   "cell_type": "code",
   "execution_count": 4,
   "id": "alternate-victory",
   "metadata": {
    "execution": {
     "iopub.execute_input": "2021-09-30T21:00:08.911122Z",
     "iopub.status.busy": "2021-09-30T21:00:08.909198Z",
     "iopub.status.idle": "2021-09-30T21:00:09.524421Z",
     "shell.execute_reply": "2021-09-30T21:00:09.525711Z"
    },
    "papermill": {
     "duration": 0.645142,
     "end_time": "2021-09-30T21:00:09.526123",
     "exception": false,
     "start_time": "2021-09-30T21:00:08.880981",
     "status": "completed"
    },
    "tags": []
   },
   "outputs": [],
   "source": [
    "df = pd.read_sql(\"select * from EBAY_TOP_BERLIN where record_time in (select distinct record_time from EBAY_TOP_BERLIN order by record_time desc limit 2)\", sqlite3.connect(\"UsedObjects.db\"))"
   ]
  },
  {
   "cell_type": "code",
   "execution_count": 5,
   "id": "popular-active",
   "metadata": {
    "execution": {
     "iopub.execute_input": "2021-09-30T21:00:09.611096Z",
     "iopub.status.busy": "2021-09-30T21:00:09.599653Z",
     "iopub.status.idle": "2021-09-30T21:00:09.626677Z",
     "shell.execute_reply": "2021-09-30T21:00:09.628054Z"
    },
    "papermill": {
     "duration": 0.072861,
     "end_time": "2021-09-30T21:00:09.628468",
     "exception": false,
     "start_time": "2021-09-30T21:00:09.555607",
     "status": "completed"
    },
    "tags": []
   },
   "outputs": [],
   "source": [
    "df_pivot = df.pivot_table(index=\"PRODUCT\", columns = \"RECORD_TIME\", values = \"LISTING_COUNT\")"
   ]
  },
  {
   "cell_type": "code",
   "execution_count": 6,
   "id": "union-huntington",
   "metadata": {
    "execution": {
     "iopub.execute_input": "2021-09-30T21:00:09.685044Z",
     "iopub.status.busy": "2021-09-30T21:00:09.682984Z",
     "iopub.status.idle": "2021-09-30T21:00:09.688347Z",
     "shell.execute_reply": "2021-09-30T21:00:09.689546Z"
    },
    "papermill": {
     "duration": 0.040266,
     "end_time": "2021-09-30T21:00:09.689969",
     "exception": false,
     "start_time": "2021-09-30T21:00:09.649703",
     "status": "completed"
    },
    "tags": []
   },
   "outputs": [],
   "source": [
    "df_pivot.columns = [\"stamp_1\", \"stamp_2\"]\n",
    "df_pivot_diff = df_pivot.diff(axis=1)"
   ]
  },
  {
   "cell_type": "code",
   "execution_count": 7,
   "id": "fifth-motion",
   "metadata": {
    "execution": {
     "iopub.execute_input": "2021-09-30T21:00:09.747631Z",
     "iopub.status.busy": "2021-09-30T21:00:09.744886Z",
     "iopub.status.idle": "2021-09-30T21:00:11.218748Z",
     "shell.execute_reply": "2021-09-30T21:00:11.220257Z"
    },
    "papermill": {
     "duration": 1.507937,
     "end_time": "2021-09-30T21:00:11.220700",
     "exception": false,
     "start_time": "2021-09-30T21:00:09.712763",
     "status": "completed"
    },
    "tags": []
   },
   "outputs": [
    {
     "data": {
      "text/plain": [
       "<AxesSubplot:ylabel='PRODUCT'>"
      ]
     },
     "execution_count": 7,
     "metadata": {},
     "output_type": "execute_result"
    },
    {
     "data": {
      "image/png": "[encoded data removed]",
      "text/plain": [
       "<Figure size 432x288 with 1 Axes>"
      ]
     },
     "metadata": {
      "needs_background": "light"
     },
     "output_type": "display_data"
    }
   ],
   "source": [
    "df_pivot_diff.sort_values(\"stamp_2\", ascending = False)[\"stamp_2\"].head(10).plot.barh()"
   ]
  },
  {
   "cell_type": "code",
   "execution_count": null,
   "id": "extra-executive",
   "metadata": {
    "papermill": {
     "duration": 0.022311,
     "end_time": "2021-09-30T21:00:11.267563",
     "exception": false,
     "start_time": "2021-09-30T21:00:11.245252",
     "status": "completed"
    },
    "tags": []
   },
   "outputs": [],
   "source": []
  }
 ],
 "metadata": {
  "kernelspec": {
   "display_name": "Python 3",
   "language": "python",
   "name": "python3"
  },
  "language_info": {
   "codemirror_mode": {
    "name": "ipython",
    "version": 3
   },
   "file_extension": ".py",
   "mimetype": "text/x-python",
   "name": "python",
   "nbconvert_exporter": "python",
   "pygments_lexer": "ipython3",
   "version": "3.9.5"
  },
  "papermill": {
   "default_parameters": {},
   "duration": 7.836875,
   "end_time": "2021-09-30T21:00:12.873648",
   "environment_variables": {},
   "exception": null,
   "input_path": "eBay_Overview.ipynb",
   "output_path": "eBay_Overview.ipynb",
   "parameters": {},
   "start_time": "2021-09-30T21:00:05.036773",
   "version": "2.3.3"
  }
 },
 "nbformat": 4,
 "nbformat_minor": 5
}