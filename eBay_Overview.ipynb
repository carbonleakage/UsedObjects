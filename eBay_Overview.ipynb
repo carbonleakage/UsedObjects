{
 "cells": [
  {
   "cell_type": "code",
   "execution_count": 1,
   "id": "reverse-picking",
   "metadata": {
    "execution": {
     "iopub.execute_input": "2021-10-16T09:00:07.229877Z",
     "iopub.status.busy": "2021-10-16T09:00:07.227792Z",
     "iopub.status.idle": "2021-10-16T09:00:08.034725Z",
     "shell.execute_reply": "2021-10-16T09:00:08.035970Z"
    },
    "papermill": {
     "duration": 0.857007,
     "end_time": "2021-10-16T09:00:08.036584",
     "exception": false,
     "start_time": "2021-10-16T09:00:07.179577",
     "status": "completed"
    },
    "tags": []
   },
   "outputs": [],
   "source": [
    "import pandas as pd\n",
    "import sqlite3"
   ]
  },
  {
   "cell_type": "code",
   "execution_count": 2,
   "id": "innovative-syndrome",
   "metadata": {
    "execution": {
     "iopub.execute_input": "2021-10-16T09:00:08.090300Z",
     "iopub.status.busy": "2021-10-16T09:00:08.087868Z",
     "iopub.status.idle": "2021-10-16T09:00:08.642725Z",
     "shell.execute_reply": "2021-10-16T09:00:08.643933Z"
    },
    "papermill": {
     "duration": 0.5851,
     "end_time": "2021-10-16T09:00:08.644326",
     "exception": false,
     "start_time": "2021-10-16T09:00:08.059226",
     "status": "completed"
    },
    "tags": []
   },
   "outputs": [],
   "source": [
    "timestamps = pd.read_sql(\"select distinct record_time from EBAY_TOP_BERLIN order by record_time desc limit 2\", sqlite3.connect(\"UsedObjects.db\"))"
   ]
  },
  {
   "cell_type": "code",
   "execution_count": 3,
   "id": "periodic-identification",
   "metadata": {
    "execution": {
     "iopub.execute_input": "2021-10-16T09:00:08.720575Z",
     "iopub.status.busy": "2021-10-16T09:00:08.718548Z",
     "iopub.status.idle": "2021-10-16T09:00:08.738540Z",
     "shell.execute_reply": "2021-10-16T09:00:08.739826Z"
    },
    "papermill": {
     "duration": 0.070876,
     "end_time": "2021-10-16T09:00:08.740242",
     "exception": false,
     "start_time": "2021-10-16T09:00:08.669366",
     "status": "completed"
    },
    "tags": []
   },
   "outputs": [
    {
     "data": {
      "text/html": [
       "<div>\n",
       "<style scoped>\n",
       "    .dataframe tbody tr th:only-of-type {\n",
       "        vertical-align: middle;\n",
       "    }\n",
       "\n",
       "    .dataframe tbody tr th {\n",
       "        vertical-align: top;\n",
       "    }\n",
       "\n",
       "    .dataframe thead th {\n",
       "        text-align: right;\n",
       "    }\n",
       "</style>\n",
       "<table border=\"1\" class=\"dataframe\">\n",
       "  <thead>\n",
       "    <tr style=\"text-align: right;\">\n",
       "      <th></th>\n",
       "      <th>RECORD_TIME</th>\n",
       "    </tr>\n",
       "  </thead>\n",
       "  <tbody>\n",
       "    <tr>\n",
       "      <th>0</th>\n",
       "      <td>2021-10-16 11:00</td>\n",
       "    </tr>\n",
       "    <tr>\n",
       "      <th>1</th>\n",
       "      <td>2021-10-16 10:30</td>\n",
       "    </tr>\n",
       "  </tbody>\n",
       "</table>\n",
       "</div>"
      ],
      "text/plain": [
       "        RECORD_TIME\n",
       "0  2021-10-16 11:00\n",
       "1  2021-10-16 10:30"
      ]
     },
     "execution_count": 3,
     "metadata": {},
     "output_type": "execute_result"
    }
   ],
   "source": [
    "timestamps"
   ]
  },
  {
   "cell_type": "code",
   "execution_count": 4,
   "id": "alternate-victory",
   "metadata": {
    "execution": {
     "iopub.execute_input": "2021-10-16T09:00:08.791116Z",
     "iopub.status.busy": "2021-10-16T09:00:08.789264Z",
     "iopub.status.idle": "2021-10-16T09:00:09.603194Z",
     "shell.execute_reply": "2021-10-16T09:00:09.604407Z"
    },
    "papermill": {
     "duration": 0.844083,
     "end_time": "2021-10-16T09:00:09.604859",
     "exception": false,
     "start_time": "2021-10-16T09:00:08.760776",
     "status": "completed"
    },
    "tags": []
   },
   "outputs": [],
   "source": [
    "df = pd.read_sql(\"select * from EBAY_TOP_BERLIN where record_time in (select distinct record_time from EBAY_TOP_BERLIN order by record_time desc limit 2)\", sqlite3.connect(\"UsedObjects.db\"))"
   ]
  },
  {
   "cell_type": "code",
   "execution_count": 5,
   "id": "popular-active",
   "metadata": {
    "execution": {
     "iopub.execute_input": "2021-10-16T09:00:09.666701Z",
     "iopub.status.busy": "2021-10-16T09:00:09.664362Z",
     "iopub.status.idle": "2021-10-16T09:00:09.691078Z",
     "shell.execute_reply": "2021-10-16T09:00:09.692279Z"
    },
    "papermill": {
     "duration": 0.065788,
     "end_time": "2021-10-16T09:00:09.692670",
     "exception": false,
     "start_time": "2021-10-16T09:00:09.626882",
     "status": "completed"
    },
    "tags": []
   },
   "outputs": [],
   "source": [
    "df_pivot = df.pivot_table(index=\"PRODUCT\", columns = \"RECORD_TIME\", values = \"LISTING_COUNT\")"
   ]
  },
  {
   "cell_type": "code",
   "execution_count": 6,
   "id": "union-huntington",
   "metadata": {
    "execution": {
     "iopub.execute_input": "2021-10-16T09:00:09.752637Z",
     "iopub.status.busy": "2021-10-16T09:00:09.750186Z",
     "iopub.status.idle": "2021-10-16T09:00:09.756151Z",
     "shell.execute_reply": "2021-10-16T09:00:09.757522Z"
    },
    "papermill": {
     "duration": 0.042785,
     "end_time": "2021-10-16T09:00:09.757946",
     "exception": false,
     "start_time": "2021-10-16T09:00:09.715161",
     "status": "completed"
    },
    "tags": []
   },
   "outputs": [],
   "source": [
    "df_pivot.columns = [\"stamp_1\", \"stamp_2\"]\n",
    "df_pivot_diff = df_pivot.diff(axis=1)"
   ]
  },
  {
   "cell_type": "code",
   "execution_count": 7,
   "id": "fifth-motion",
   "metadata": {
    "execution": {
     "iopub.execute_input": "2021-10-16T09:00:09.811827Z",
     "iopub.status.busy": "2021-10-16T09:00:09.809615Z",
     "iopub.status.idle": "2021-10-16T09:00:11.312108Z",
     "shell.execute_reply": "2021-10-16T09:00:11.313494Z"
    },
    "papermill": {
     "duration": 1.535179,
     "end_time": "2021-10-16T09:00:11.313919",
     "exception": false,
     "start_time": "2021-10-16T09:00:09.778740",
     "status": "completed"
    },
    "tags": []
   },
   "outputs": [
    {
     "data": {
      "text/plain": [
       "<AxesSubplot:ylabel='PRODUCT'>"
      ]
     },
     "execution_count": 7,
     "metadata": {},
     "output_type": "execute_result"
    },
    {
     "data": {
      "image/png": "[encoded data removed]",
      "text/plain": [
       "<Figure size 432x288 with 1 Axes>"
      ]
     },
     "metadata": {
      "needs_background": "light"
     },
     "output_type": "display_data"
    }
   ],
   "source": [
    "df_pivot_diff.sort_values(\"stamp_2\", ascending = False)[\"stamp_2\"].head(10).plot.barh()"
   ]
  },
  {
   "cell_type": "code",
   "execution_count": null,
   "id": "extra-executive",
   "metadata": {
    "papermill": {
     "duration": 0.022452,
     "end_time": "2021-10-16T09:00:11.361286",
     "exception": false,
     "start_time": "2021-10-16T09:00:11.338834",
     "status": "completed"
    },
    "tags": []
   },
   "outputs": [],
   "source": []
  }
 ],
 "metadata": {
  "kernelspec": {
   "display_name": "Python 3",
   "language": "python",
   "name": "python3"
  },
  "language_info": {
   "codemirror_mode": {
    "name": "ipython",
    "version": 3
   },
   "file_extension": ".py",
   "mimetype": "text/x-python",
   "name": "python",
   "nbconvert_exporter": "python",
   "pygments_lexer": "ipython3",
   "version": "3.9.5"
  },
  "papermill": {
   "default_parameters": {},
   "duration": 7.827553,
   "end_time": "2021-10-16T09:00:12.585656",
   "environment_variables": {},
   "exception": null,
   "input_path": "eBay_Overview.ipynb",
   "output_path": "eBay_Overview.ipynb",
   "parameters": {},
   "start_time": "2021-10-16T09:00:04.758103",
   "version": "2.3.3"
  }
 },
 "nbformat": 4,
 "nbformat_minor": 5
}