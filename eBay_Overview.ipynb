{
 "cells": [
  {
   "cell_type": "code",
   "execution_count": 1,
   "id": "reverse-picking",
   "metadata": {
    "execution": {
     "iopub.execute_input": "2021-10-23T06:00:07.220009Z",
     "iopub.status.busy": "2021-10-23T06:00:07.218050Z",
     "iopub.status.idle": "2021-10-23T06:00:08.026104Z",
     "shell.execute_reply": "2021-10-23T06:00:08.027357Z"
    },
    "papermill": {
     "duration": 0.860324,
     "end_time": "2021-10-23T06:00:08.027975",
     "exception": false,
     "start_time": "2021-10-23T06:00:07.167651",
     "status": "completed"
    },
    "tags": []
   },
   "outputs": [],
   "source": [
    "import pandas as pd\n",
    "import sqlite3"
   ]
  },
  {
   "cell_type": "code",
   "execution_count": 2,
   "id": "innovative-syndrome",
   "metadata": {
    "execution": {
     "iopub.execute_input": "2021-10-23T06:00:08.079494Z",
     "iopub.status.busy": "2021-10-23T06:00:08.077321Z",
     "iopub.status.idle": "2021-10-23T06:00:08.698487Z",
     "shell.execute_reply": "2021-10-23T06:00:08.699703Z"
    },
    "papermill": {
     "duration": 0.650614,
     "end_time": "2021-10-23T06:00:08.700108",
     "exception": false,
     "start_time": "2021-10-23T06:00:08.049494",
     "status": "completed"
    },
    "tags": []
   },
   "outputs": [],
   "source": [
    "timestamps = pd.read_sql(\"select distinct record_time from EBAY_TOP_BERLIN order by record_time desc limit 2\", sqlite3.connect(\"UsedObjects.db\"))"
   ]
  },
  {
   "cell_type": "code",
   "execution_count": 3,
   "id": "periodic-identification",
   "metadata": {
    "execution": {
     "iopub.execute_input": "2021-10-23T06:00:08.773223Z",
     "iopub.status.busy": "2021-10-23T06:00:08.771101Z",
     "iopub.status.idle": "2021-10-23T06:00:08.790775Z",
     "shell.execute_reply": "2021-10-23T06:00:08.791906Z"
    },
    "papermill": {
     "duration": 0.067197,
     "end_time": "2021-10-23T06:00:08.792322",
     "exception": false,
     "start_time": "2021-10-23T06:00:08.725125",
     "status": "completed"
    },
    "tags": []
   },
   "outputs": [
    {
     "data": {
      "text/html": [
       "<div>\n",
       "<style scoped>\n",
       "    .dataframe tbody tr th:only-of-type {\n",
       "        vertical-align: middle;\n",
       "    }\n",
       "\n",
       "    .dataframe tbody tr th {\n",
       "        vertical-align: top;\n",
       "    }\n",
       "\n",
       "    .dataframe thead th {\n",
       "        text-align: right;\n",
       "    }\n",
       "</style>\n",
       "<table border=\"1\" class=\"dataframe\">\n",
       "  <thead>\n",
       "    <tr style=\"text-align: right;\">\n",
       "      <th></th>\n",
       "      <th>RECORD_TIME</th>\n",
       "    </tr>\n",
       "  </thead>\n",
       "  <tbody>\n",
       "    <tr>\n",
       "      <th>0</th>\n",
       "      <td>2021-10-23 08:00</td>\n",
       "    </tr>\n",
       "    <tr>\n",
       "      <th>1</th>\n",
       "      <td>2021-10-23 07:30</td>\n",
       "    </tr>\n",
       "  </tbody>\n",
       "</table>\n",
       "</div>"
      ],
      "text/plain": [
       "        RECORD_TIME\n",
       "0  2021-10-23 08:00\n",
       "1  2021-10-23 07:30"
      ]
     },
     "execution_count": 3,
     "metadata": {},
     "output_type": "execute_result"
    }
   ],
   "source": [
    "timestamps"
   ]
  },
  {
   "cell_type": "code",
   "execution_count": 4,
   "id": "alternate-victory",
   "metadata": {
    "execution": {
     "iopub.execute_input": "2021-10-23T06:00:08.846282Z",
     "iopub.status.busy": "2021-10-23T06:00:08.843890Z",
     "iopub.status.idle": "2021-10-23T06:00:09.736255Z",
     "shell.execute_reply": "2021-10-23T06:00:09.737567Z"
    },
    "papermill": {
     "duration": 0.922481,
     "end_time": "2021-10-23T06:00:09.737977",
     "exception": false,
     "start_time": "2021-10-23T06:00:08.815496",
     "status": "completed"
    },
    "tags": []
   },
   "outputs": [],
   "source": [
    "df = pd.read_sql(\"select * from EBAY_TOP_BERLIN where record_time in (select distinct record_time from EBAY_TOP_BERLIN order by record_time desc limit 2)\", sqlite3.connect(\"UsedObjects.db\"))"
   ]
  },
  {
   "cell_type": "code",
   "execution_count": 5,
   "id": "popular-active",
   "metadata": {
    "execution": {
     "iopub.execute_input": "2021-10-23T06:00:09.806450Z",
     "iopub.status.busy": "2021-10-23T06:00:09.795151Z",
     "iopub.status.idle": "2021-10-23T06:00:09.823481Z",
     "shell.execute_reply": "2021-10-23T06:00:09.824881Z"
    },
    "papermill": {
     "duration": 0.066926,
     "end_time": "2021-10-23T06:00:09.825310",
     "exception": false,
     "start_time": "2021-10-23T06:00:09.758384",
     "status": "completed"
    },
    "tags": []
   },
   "outputs": [],
   "source": [
    "df_pivot = df.pivot_table(index=\"PRODUCT\", columns = \"RECORD_TIME\", values = \"LISTING_COUNT\")"
   ]
  },
  {
   "cell_type": "code",
   "execution_count": 6,
   "id": "union-huntington",
   "metadata": {
    "execution": {
     "iopub.execute_input": "2021-10-23T06:00:09.884273Z",
     "iopub.status.busy": "2021-10-23T06:00:09.881812Z",
     "iopub.status.idle": "2021-10-23T06:00:09.887701Z",
     "shell.execute_reply": "2021-10-23T06:00:09.889043Z"
    },
    "papermill": {
     "duration": 0.042097,
     "end_time": "2021-10-23T06:00:09.889507",
     "exception": false,
     "start_time": "2021-10-23T06:00:09.847410",
     "status": "completed"
    },
    "tags": []
   },
   "outputs": [],
   "source": [
    "df_pivot.columns = [\"stamp_1\", \"stamp_2\"]\n",
    "df_pivot_diff = df_pivot.diff(axis=1)"
   ]
  },
  {
   "cell_type": "code",
   "execution_count": 7,
   "id": "fifth-motion",
   "metadata": {
    "execution": {
     "iopub.execute_input": "2021-10-23T06:00:09.944149Z",
     "iopub.status.busy": "2021-10-23T06:00:09.941934Z",
     "iopub.status.idle": "2021-10-23T06:00:11.448508Z",
     "shell.execute_reply": "2021-10-23T06:00:11.449893Z"
    },
    "papermill": {
     "duration": 1.538974,
     "end_time": "2021-10-23T06:00:11.450324",
     "exception": false,
     "start_time": "2021-10-23T06:00:09.911350",
     "status": "completed"
    },
    "tags": []
   },
   "outputs": [
    {
     "data": {
      "text/plain": [
       "<AxesSubplot:ylabel='PRODUCT'>"
      ]
     },
     "execution_count": 7,
     "metadata": {},
     "output_type": "execute_result"
    },
    {
     "data": {
      "image/png": "[encoded data removed]",
      "text/plain": [
       "<Figure size 432x288 with 1 Axes>"
      ]
     },
     "metadata": {
      "needs_background": "light"
     },
     "output_type": "display_data"
    }
   ],
   "source": [
    "df_pivot_diff.sort_values(\"stamp_2\", ascending = False)[\"stamp_2\"].head(10).plot.barh()"
   ]
  },
  {
   "cell_type": "code",
   "execution_count": null,
   "id": "extra-executive",
   "metadata": {
    "papermill": {
     "duration": 0.02195,
     "end_time": "2021-10-23T06:00:11.495998",
     "exception": false,
     "start_time": "2021-10-23T06:00:11.474048",
     "status": "completed"
    },
    "tags": []
   },
   "outputs": [],
   "source": []
  }
 ],
 "metadata": {
  "kernelspec": {
   "display_name": "Python 3",
   "language": "python",
   "name": "python3"
  },
  "language_info": {
   "codemirror_mode": {
    "name": "ipython",
    "version": 3
   },
   "file_extension": ".py",
   "mimetype": "text/x-python",
   "name": "python",
   "nbconvert_exporter": "python",
   "pygments_lexer": "ipython3",
   "version": "3.9.5"
  },
  "papermill": {
   "default_parameters": {},
   "duration": 7.377347,
   "end_time": "2021-10-23T06:00:12.139484",
   "environment_variables": {},
   "exception": null,
   "input_path": "eBay_Overview.ipynb",
   "output_path": "eBay_Overview.ipynb",
   "parameters": {},
   "start_time": "2021-10-23T06:00:04.762137",
   "version": "2.3.3"
  }
 },
 "nbformat": 4,
 "nbformat_minor": 5
}