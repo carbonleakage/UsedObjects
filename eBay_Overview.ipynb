{
 "cells": [
  {
   "cell_type": "code",
   "execution_count": 1,
   "id": "reverse-picking",
   "metadata": {
    "execution": {
     "iopub.execute_input": "2021-11-17T14:30:07.174157Z",
     "iopub.status.busy": "2021-11-17T14:30:07.165009Z",
     "iopub.status.idle": "2021-11-17T14:30:08.107462Z",
     "shell.execute_reply": "2021-11-17T14:30:08.109002Z"
    },
    "papermill": {
     "duration": 0.997275,
     "end_time": "2021-11-17T14:30:08.109720",
     "exception": false,
     "start_time": "2021-11-17T14:30:07.112445",
     "status": "completed"
    },
    "tags": []
   },
   "outputs": [],
   "source": [
    "import pandas as pd\n",
    "import sqlite3"
   ]
  },
  {
   "cell_type": "code",
   "execution_count": 2,
   "id": "innovative-syndrome",
   "metadata": {
    "execution": {
     "iopub.execute_input": "2021-11-17T14:30:08.165736Z",
     "iopub.status.busy": "2021-11-17T14:30:08.162997Z",
     "iopub.status.idle": "2021-11-17T14:30:09.027469Z",
     "shell.execute_reply": "2021-11-17T14:30:09.029719Z"
    },
    "papermill": {
     "duration": 0.899689,
     "end_time": "2021-11-17T14:30:09.030193",
     "exception": false,
     "start_time": "2021-11-17T14:30:08.130504",
     "status": "completed"
    },
    "tags": []
   },
   "outputs": [],
   "source": [
    "timestamps = pd.read_sql(\"select distinct record_time from EBAY_TOP_BERLIN order by record_time desc limit 2\", sqlite3.connect(\"UsedObjects.db\"))"
   ]
  },
  {
   "cell_type": "code",
   "execution_count": 3,
   "id": "periodic-identification",
   "metadata": {
    "execution": {
     "iopub.execute_input": "2021-11-17T14:30:09.102696Z",
     "iopub.status.busy": "2021-11-17T14:30:09.100316Z",
     "iopub.status.idle": "2021-11-17T14:30:09.123463Z",
     "shell.execute_reply": "2021-11-17T14:30:09.125014Z"
    },
    "papermill": {
     "duration": 0.075067,
     "end_time": "2021-11-17T14:30:09.125546",
     "exception": false,
     "start_time": "2021-11-17T14:30:09.050479",
     "status": "completed"
    },
    "tags": []
   },
   "outputs": [
    {
     "data": {
      "text/html": [
       "<div>\n",
       "<style scoped>\n",
       "    .dataframe tbody tr th:only-of-type {\n",
       "        vertical-align: middle;\n",
       "    }\n",
       "\n",
       "    .dataframe tbody tr th {\n",
       "        vertical-align: top;\n",
       "    }\n",
       "\n",
       "    .dataframe thead th {\n",
       "        text-align: right;\n",
       "    }\n",
       "</style>\n",
       "<table border=\"1\" class=\"dataframe\">\n",
       "  <thead>\n",
       "    <tr style=\"text-align: right;\">\n",
       "      <th></th>\n",
       "      <th>RECORD_TIME</th>\n",
       "    </tr>\n",
       "  </thead>\n",
       "  <tbody>\n",
       "    <tr>\n",
       "      <th>0</th>\n",
       "      <td>2021-11-17 15:30</td>\n",
       "    </tr>\n",
       "    <tr>\n",
       "      <th>1</th>\n",
       "      <td>2021-11-17 15:00</td>\n",
       "    </tr>\n",
       "  </tbody>\n",
       "</table>\n",
       "</div>"
      ],
      "text/plain": [
       "        RECORD_TIME\n",
       "0  2021-11-17 15:30\n",
       "1  2021-11-17 15:00"
      ]
     },
     "execution_count": 3,
     "metadata": {},
     "output_type": "execute_result"
    }
   ],
   "source": [
    "timestamps"
   ]
  },
  {
   "cell_type": "code",
   "execution_count": 4,
   "id": "alternate-victory",
   "metadata": {
    "execution": {
     "iopub.execute_input": "2021-11-17T14:30:09.180837Z",
     "iopub.status.busy": "2021-11-17T14:30:09.178589Z",
     "iopub.status.idle": "2021-11-17T14:30:10.388673Z",
     "shell.execute_reply": "2021-11-17T14:30:10.390153Z"
    },
    "papermill": {
     "duration": 1.244064,
     "end_time": "2021-11-17T14:30:10.390577",
     "exception": false,
     "start_time": "2021-11-17T14:30:09.146513",
     "status": "completed"
    },
    "tags": []
   },
   "outputs": [],
   "source": [
    "df = pd.read_sql(\"select * from EBAY_TOP_BERLIN where record_time in (select distinct record_time from EBAY_TOP_BERLIN order by record_time desc limit 2)\", sqlite3.connect(\"UsedObjects.db\"))"
   ]
  },
  {
   "cell_type": "code",
   "execution_count": 5,
   "id": "popular-active",
   "metadata": {
    "execution": {
     "iopub.execute_input": "2021-11-17T14:30:10.460638Z",
     "iopub.status.busy": "2021-11-17T14:30:10.449668Z",
     "iopub.status.idle": "2021-11-17T14:30:10.477357Z",
     "shell.execute_reply": "2021-11-17T14:30:10.478597Z"
    },
    "papermill": {
     "duration": 0.068077,
     "end_time": "2021-11-17T14:30:10.478992",
     "exception": false,
     "start_time": "2021-11-17T14:30:10.410915",
     "status": "completed"
    },
    "tags": []
   },
   "outputs": [],
   "source": [
    "df_pivot = df.pivot_table(index=\"PRODUCT\", columns = \"RECORD_TIME\", values = \"LISTING_COUNT\")"
   ]
  },
  {
   "cell_type": "code",
   "execution_count": 6,
   "id": "union-huntington",
   "metadata": {
    "execution": {
     "iopub.execute_input": "2021-11-17T14:30:10.536987Z",
     "iopub.status.busy": "2021-11-17T14:30:10.534750Z",
     "iopub.status.idle": "2021-11-17T14:30:10.539783Z",
     "shell.execute_reply": "2021-11-17T14:30:10.541665Z"
    },
    "papermill": {
     "duration": 0.042455,
     "end_time": "2021-11-17T14:30:10.542129",
     "exception": false,
     "start_time": "2021-11-17T14:30:10.499674",
     "status": "completed"
    },
    "tags": []
   },
   "outputs": [],
   "source": [
    "df_pivot.columns = [\"stamp_1\", \"stamp_2\"]\n",
    "df_pivot_diff = df_pivot.diff(axis=1)"
   ]
  },
  {
   "cell_type": "code",
   "execution_count": 7,
   "id": "fifth-motion",
   "metadata": {
    "execution": {
     "iopub.execute_input": "2021-11-17T14:30:10.600048Z",
     "iopub.status.busy": "2021-11-17T14:30:10.597301Z",
     "iopub.status.idle": "2021-11-17T14:30:12.330104Z",
     "shell.execute_reply": "2021-11-17T14:30:12.331492Z"
    },
    "papermill": {
     "duration": 1.769746,
     "end_time": "2021-11-17T14:30:12.331966",
     "exception": false,
     "start_time": "2021-11-17T14:30:10.562220",
     "status": "completed"
    },
    "tags": []
   },
   "outputs": [
    {
     "data": {
      "text/plain": [
       "<AxesSubplot:ylabel='PRODUCT'>"
      ]
     },
     "execution_count": 7,
     "metadata": {},
     "output_type": "execute_result"
    },
    {
     "data": {
      "image/png": "[encoded data removed]",
      "text/plain": [
       "<Figure size 432x288 with 1 Axes>"
      ]
     },
     "metadata": {
      "needs_background": "light"
     },
     "output_type": "display_data"
    }
   ],
   "source": [
    "df_pivot_diff.sort_values(\"stamp_2\", ascending = False)[\"stamp_2\"].head(10).plot.barh()"
   ]
  },
  {
   "cell_type": "code",
   "execution_count": null,
   "id": "extra-executive",
   "metadata": {
    "papermill": {
     "duration": 0.025873,
     "end_time": "2021-11-17T14:30:12.385406",
     "exception": false,
     "start_time": "2021-11-17T14:30:12.359533",
     "status": "completed"
    },
    "tags": []
   },
   "outputs": [],
   "source": []
  }
 ],
 "metadata": {
  "kernelspec": {
   "display_name": "Python 3",
   "language": "python",
   "name": "python3"
  },
  "language_info": {
   "codemirror_mode": {
    "name": "ipython",
    "version": 3
   },
   "file_extension": ".py",
   "mimetype": "text/x-python",
   "name": "python",
   "nbconvert_exporter": "python",
   "pygments_lexer": "ipython3",
   "version": "3.9.5"
  },
  "papermill": {
   "default_parameters": {},
   "duration": 8.76925,
   "end_time": "2021-11-17T14:30:13.129532",
   "environment_variables": {},
   "exception": null,
   "input_path": "eBay_Overview.ipynb",
   "output_path": "eBay_Overview.ipynb",
   "parameters": {},
   "start_time": "2021-11-17T14:30:04.360282",
   "version": "2.3.3"
  }
 },
 "nbformat": 4,
 "nbformat_minor": 5
}