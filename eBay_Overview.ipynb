{
 "cells": [
  {
   "cell_type": "code",
   "execution_count": 1,
   "id": "reverse-picking",
   "metadata": {
    "execution": {
     "iopub.execute_input": "2021-11-14T19:30:07.150753Z",
     "iopub.status.busy": "2021-11-14T19:30:07.144170Z",
     "iopub.status.idle": "2021-11-14T19:30:08.095105Z",
     "shell.execute_reply": "2021-11-14T19:30:08.097524Z"
    },
    "papermill": {
     "duration": 0.996751,
     "end_time": "2021-11-14T19:30:08.098261",
     "exception": false,
     "start_time": "2021-11-14T19:30:07.101510",
     "status": "completed"
    },
    "tags": []
   },
   "outputs": [],
   "source": [
    "import pandas as pd\n",
    "import sqlite3"
   ]
  },
  {
   "cell_type": "code",
   "execution_count": 2,
   "id": "innovative-syndrome",
   "metadata": {
    "execution": {
     "iopub.execute_input": "2021-11-14T19:30:08.163577Z",
     "iopub.status.busy": "2021-11-14T19:30:08.161473Z",
     "iopub.status.idle": "2021-11-14T19:30:08.975042Z",
     "shell.execute_reply": "2021-11-14T19:30:08.976612Z"
    },
    "papermill": {
     "duration": 0.848159,
     "end_time": "2021-11-14T19:30:08.977166",
     "exception": false,
     "start_time": "2021-11-14T19:30:08.129007",
     "status": "completed"
    },
    "tags": []
   },
   "outputs": [],
   "source": [
    "timestamps = pd.read_sql(\"select distinct record_time from EBAY_TOP_BERLIN order by record_time desc limit 2\", sqlite3.connect(\"UsedObjects.db\"))"
   ]
  },
  {
   "cell_type": "code",
   "execution_count": 3,
   "id": "periodic-identification",
   "metadata": {
    "execution": {
     "iopub.execute_input": "2021-11-14T19:30:09.051429Z",
     "iopub.status.busy": "2021-11-14T19:30:09.048314Z",
     "iopub.status.idle": "2021-11-14T19:30:09.072412Z",
     "shell.execute_reply": "2021-11-14T19:30:09.074145Z"
    },
    "papermill": {
     "duration": 0.076513,
     "end_time": "2021-11-14T19:30:09.074681",
     "exception": false,
     "start_time": "2021-11-14T19:30:08.998168",
     "status": "completed"
    },
    "tags": []
   },
   "outputs": [
    {
     "data": {
      "text/html": [
       "<div>\n",
       "<style scoped>\n",
       "    .dataframe tbody tr th:only-of-type {\n",
       "        vertical-align: middle;\n",
       "    }\n",
       "\n",
       "    .dataframe tbody tr th {\n",
       "        vertical-align: top;\n",
       "    }\n",
       "\n",
       "    .dataframe thead th {\n",
       "        text-align: right;\n",
       "    }\n",
       "</style>\n",
       "<table border=\"1\" class=\"dataframe\">\n",
       "  <thead>\n",
       "    <tr style=\"text-align: right;\">\n",
       "      <th></th>\n",
       "      <th>RECORD_TIME</th>\n",
       "    </tr>\n",
       "  </thead>\n",
       "  <tbody>\n",
       "    <tr>\n",
       "      <th>0</th>\n",
       "      <td>2021-11-14 20:30</td>\n",
       "    </tr>\n",
       "    <tr>\n",
       "      <th>1</th>\n",
       "      <td>2021-11-14 20:00</td>\n",
       "    </tr>\n",
       "  </tbody>\n",
       "</table>\n",
       "</div>"
      ],
      "text/plain": [
       "        RECORD_TIME\n",
       "0  2021-11-14 20:30\n",
       "1  2021-11-14 20:00"
      ]
     },
     "execution_count": 3,
     "metadata": {},
     "output_type": "execute_result"
    }
   ],
   "source": [
    "timestamps"
   ]
  },
  {
   "cell_type": "code",
   "execution_count": 4,
   "id": "alternate-victory",
   "metadata": {
    "execution": {
     "iopub.execute_input": "2021-11-14T19:30:09.132434Z",
     "iopub.status.busy": "2021-11-14T19:30:09.130299Z",
     "iopub.status.idle": "2021-11-14T19:30:10.329722Z",
     "shell.execute_reply": "2021-11-14T19:30:10.331947Z"
    },
    "papermill": {
     "duration": 1.233685,
     "end_time": "2021-11-14T19:30:10.332445",
     "exception": false,
     "start_time": "2021-11-14T19:30:09.098760",
     "status": "completed"
    },
    "tags": []
   },
   "outputs": [],
   "source": [
    "df = pd.read_sql(\"select * from EBAY_TOP_BERLIN where record_time in (select distinct record_time from EBAY_TOP_BERLIN order by record_time desc limit 2)\", sqlite3.connect(\"UsedObjects.db\"))"
   ]
  },
  {
   "cell_type": "code",
   "execution_count": 5,
   "id": "popular-active",
   "metadata": {
    "execution": {
     "iopub.execute_input": "2021-11-14T19:30:10.413009Z",
     "iopub.status.busy": "2021-11-14T19:30:10.398813Z",
     "iopub.status.idle": "2021-11-14T19:30:10.429903Z",
     "shell.execute_reply": "2021-11-14T19:30:10.431379Z"
    },
    "papermill": {
     "duration": 0.077069,
     "end_time": "2021-11-14T19:30:10.431863",
     "exception": false,
     "start_time": "2021-11-14T19:30:10.354794",
     "status": "completed"
    },
    "tags": []
   },
   "outputs": [],
   "source": [
    "df_pivot = df.pivot_table(index=\"PRODUCT\", columns = \"RECORD_TIME\", values = \"LISTING_COUNT\")"
   ]
  },
  {
   "cell_type": "code",
   "execution_count": 6,
   "id": "union-huntington",
   "metadata": {
    "execution": {
     "iopub.execute_input": "2021-11-14T19:30:10.492041Z",
     "iopub.status.busy": "2021-11-14T19:30:10.489586Z",
     "iopub.status.idle": "2021-11-14T19:30:10.494941Z",
     "shell.execute_reply": "2021-11-14T19:30:10.496472Z"
    },
    "papermill": {
     "duration": 0.04412,
     "end_time": "2021-11-14T19:30:10.497091",
     "exception": false,
     "start_time": "2021-11-14T19:30:10.452971",
     "status": "completed"
    },
    "tags": []
   },
   "outputs": [],
   "source": [
    "df_pivot.columns = [\"stamp_1\", \"stamp_2\"]\n",
    "df_pivot_diff = df_pivot.diff(axis=1)"
   ]
  },
  {
   "cell_type": "code",
   "execution_count": 7,
   "id": "fifth-motion",
   "metadata": {
    "execution": {
     "iopub.execute_input": "2021-11-14T19:30:10.556628Z",
     "iopub.status.busy": "2021-11-14T19:30:10.554134Z",
     "iopub.status.idle": "2021-11-14T19:30:12.426043Z",
     "shell.execute_reply": "2021-11-14T19:30:12.427298Z"
    },
    "papermill": {
     "duration": 1.909779,
     "end_time": "2021-11-14T19:30:12.427698",
     "exception": false,
     "start_time": "2021-11-14T19:30:10.517919",
     "status": "completed"
    },
    "tags": []
   },
   "outputs": [
    {
     "data": {
      "text/plain": [
       "<AxesSubplot:ylabel='PRODUCT'>"
      ]
     },
     "execution_count": 7,
     "metadata": {},
     "output_type": "execute_result"
    },
    {
     "data": {
      "image/png": "[encoded data removed]",
      "text/plain": [
       "<Figure size 432x288 with 1 Axes>"
      ]
     },
     "metadata": {
      "needs_background": "light"
     },
     "output_type": "display_data"
    }
   ],
   "source": [
    "df_pivot_diff.sort_values(\"stamp_2\", ascending = False)[\"stamp_2\"].head(10).plot.barh()"
   ]
  },
  {
   "cell_type": "code",
   "execution_count": null,
   "id": "extra-executive",
   "metadata": {
    "papermill": {
     "duration": 0.023586,
     "end_time": "2021-11-14T19:30:12.475961",
     "exception": false,
     "start_time": "2021-11-14T19:30:12.452375",
     "status": "completed"
    },
    "tags": []
   },
   "outputs": [],
   "source": []
  }
 ],
 "metadata": {
  "kernelspec": {
   "display_name": "Python 3",
   "language": "python",
   "name": "python3"
  },
  "language_info": {
   "codemirror_mode": {
    "name": "ipython",
    "version": 3
   },
   "file_extension": ".py",
   "mimetype": "text/x-python",
   "name": "python",
   "nbconvert_exporter": "python",
   "pygments_lexer": "ipython3",
   "version": "3.9.5"
  },
  "papermill": {
   "default_parameters": {},
   "duration": 8.93588,
   "end_time": "2021-11-14T19:30:13.323307",
   "environment_variables": {},
   "exception": null,
   "input_path": "eBay_Overview.ipynb",
   "output_path": "eBay_Overview.ipynb",
   "parameters": {},
   "start_time": "2021-11-14T19:30:04.387427",
   "version": "2.3.3"
  }
 },
 "nbformat": 4,
 "nbformat_minor": 5
}