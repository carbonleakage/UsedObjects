{
 "cells": [
  {
   "cell_type": "code",
   "execution_count": 1,
   "id": "reverse-picking",
   "metadata": {
    "execution": {
     "iopub.execute_input": "2021-08-13T19:00:07.575852Z",
     "iopub.status.busy": "2021-08-13T19:00:07.573802Z",
     "iopub.status.idle": "2021-08-13T19:00:08.385116Z",
     "shell.execute_reply": "2021-08-13T19:00:08.386525Z"
    },
    "papermill": {
     "duration": 0.862413,
     "end_time": "2021-08-13T19:00:08.387184",
     "exception": false,
     "start_time": "2021-08-13T19:00:07.524771",
     "status": "completed"
    },
    "tags": []
   },
   "outputs": [],
   "source": [
    "import pandas as pd\n",
    "import sqlite3"
   ]
  },
  {
   "cell_type": "code",
   "execution_count": 2,
   "id": "innovative-syndrome",
   "metadata": {
    "execution": {
     "iopub.execute_input": "2021-08-13T19:00:08.438537Z",
     "iopub.status.busy": "2021-08-13T19:00:08.436429Z",
     "iopub.status.idle": "2021-08-13T19:00:08.479567Z",
     "shell.execute_reply": "2021-08-13T19:00:08.480764Z"
    },
    "papermill": {
     "duration": 0.073433,
     "end_time": "2021-08-13T19:00:08.481158",
     "exception": false,
     "start_time": "2021-08-13T19:00:08.407725",
     "status": "completed"
    },
    "tags": []
   },
   "outputs": [],
   "source": [
    "timestamps = pd.read_sql(\"select distinct record_time from EBAY_TOP_BERLIN order by record_time desc limit 2\", sqlite3.connect(\"UsedObjects.db\"))"
   ]
  },
  {
   "cell_type": "code",
   "execution_count": 3,
   "id": "periodic-identification",
   "metadata": {
    "execution": {
     "iopub.execute_input": "2021-08-13T19:00:08.546050Z",
     "iopub.status.busy": "2021-08-13T19:00:08.543947Z",
     "iopub.status.idle": "2021-08-13T19:00:08.564389Z",
     "shell.execute_reply": "2021-08-13T19:00:08.565586Z"
    },
    "papermill": {
     "duration": 0.064153,
     "end_time": "2021-08-13T19:00:08.566065",
     "exception": false,
     "start_time": "2021-08-13T19:00:08.501912",
     "status": "completed"
    },
    "tags": []
   },
   "outputs": [
    {
     "data": {
      "text/html": [
       "<div>\n",
       "<style scoped>\n",
       "    .dataframe tbody tr th:only-of-type {\n",
       "        vertical-align: middle;\n",
       "    }\n",
       "\n",
       "    .dataframe tbody tr th {\n",
       "        vertical-align: top;\n",
       "    }\n",
       "\n",
       "    .dataframe thead th {\n",
       "        text-align: right;\n",
       "    }\n",
       "</style>\n",
       "<table border=\"1\" class=\"dataframe\">\n",
       "  <thead>\n",
       "    <tr style=\"text-align: right;\">\n",
       "      <th></th>\n",
       "      <th>RECORD_TIME</th>\n",
       "    </tr>\n",
       "  </thead>\n",
       "  <tbody>\n",
       "    <tr>\n",
       "      <th>0</th>\n",
       "      <td>2021-08-13 21:00</td>\n",
       "    </tr>\n",
       "    <tr>\n",
       "      <th>1</th>\n",
       "      <td>2021-08-13 20:30</td>\n",
       "    </tr>\n",
       "  </tbody>\n",
       "</table>\n",
       "</div>"
      ],
      "text/plain": [
       "        RECORD_TIME\n",
       "0  2021-08-13 21:00\n",
       "1  2021-08-13 20:30"
      ]
     },
     "execution_count": 3,
     "metadata": {},
     "output_type": "execute_result"
    }
   ],
   "source": [
    "timestamps"
   ]
  },
  {
   "cell_type": "code",
   "execution_count": 4,
   "id": "alternate-victory",
   "metadata": {
    "execution": {
     "iopub.execute_input": "2021-08-13T19:00:08.620427Z",
     "iopub.status.busy": "2021-08-13T19:00:08.618265Z",
     "iopub.status.idle": "2021-08-13T19:00:08.680099Z",
     "shell.execute_reply": "2021-08-13T19:00:08.681326Z"
    },
    "papermill": {
     "duration": 0.092441,
     "end_time": "2021-08-13T19:00:08.681722",
     "exception": false,
     "start_time": "2021-08-13T19:00:08.589281",
     "status": "completed"
    },
    "tags": []
   },
   "outputs": [],
   "source": [
    "df = pd.read_sql(\"select * from EBAY_TOP_BERLIN where record_time in (select distinct record_time from EBAY_TOP_BERLIN order by record_time desc limit 2)\", sqlite3.connect(\"UsedObjects.db\"))"
   ]
  },
  {
   "cell_type": "code",
   "execution_count": 5,
   "id": "popular-active",
   "metadata": {
    "execution": {
     "iopub.execute_input": "2021-08-13T19:00:08.752216Z",
     "iopub.status.busy": "2021-08-13T19:00:08.741291Z",
     "iopub.status.idle": "2021-08-13T19:00:08.768351Z",
     "shell.execute_reply": "2021-08-13T19:00:08.769633Z"
    },
    "papermill": {
     "duration": 0.067549,
     "end_time": "2021-08-13T19:00:08.770103",
     "exception": false,
     "start_time": "2021-08-13T19:00:08.702554",
     "status": "completed"
    },
    "tags": []
   },
   "outputs": [],
   "source": [
    "df_pivot = df.pivot_table(index=\"PRODUCT\", columns = \"RECORD_TIME\", values = \"LISTING_COUNT\")"
   ]
  },
  {
   "cell_type": "code",
   "execution_count": 6,
   "id": "union-huntington",
   "metadata": {
    "execution": {
     "iopub.execute_input": "2021-08-13T19:00:08.826673Z",
     "iopub.status.busy": "2021-08-13T19:00:08.824544Z",
     "iopub.status.idle": "2021-08-13T19:00:08.829940Z",
     "shell.execute_reply": "2021-08-13T19:00:08.831390Z"
    },
    "papermill": {
     "duration": 0.04131,
     "end_time": "2021-08-13T19:00:08.831833",
     "exception": false,
     "start_time": "2021-08-13T19:00:08.790523",
     "status": "completed"
    },
    "tags": []
   },
   "outputs": [],
   "source": [
    "df_pivot.columns = [\"stamp_1\", \"stamp_2\"]\n",
    "df_pivot_diff = df_pivot.diff(axis=1)"
   ]
  },
  {
   "cell_type": "code",
   "execution_count": 7,
   "id": "fifth-motion",
   "metadata": {
    "execution": {
     "iopub.execute_input": "2021-08-13T19:00:08.887935Z",
     "iopub.status.busy": "2021-08-13T19:00:08.885317Z",
     "iopub.status.idle": "2021-08-13T19:00:10.376428Z",
     "shell.execute_reply": "2021-08-13T19:00:10.377724Z"
    },
    "papermill": {
     "duration": 1.52487,
     "end_time": "2021-08-13T19:00:10.378360",
     "exception": false,
     "start_time": "2021-08-13T19:00:08.853490",
     "status": "completed"
    },
    "tags": []
   },
   "outputs": [
    {
     "data": {
      "text/plain": [
       "<AxesSubplot:ylabel='PRODUCT'>"
      ]
     },
     "execution_count": 7,
     "metadata": {},
     "output_type": "execute_result"
    },
    {
     "data": {
      "image/png": "[encoded data removed]",
      "text/plain": [
       "<Figure size 432x288 with 1 Axes>"
      ]
     },
     "metadata": {
      "needs_background": "light"
     },
     "output_type": "display_data"
    }
   ],
   "source": [
    "df_pivot_diff.sort_values(\"stamp_2\", ascending = False)[\"stamp_2\"].head(10).plot.barh()"
   ]
  },
  {
   "cell_type": "code",
   "execution_count": null,
   "id": "extra-executive",
   "metadata": {
    "papermill": {
     "duration": 0.022262,
     "end_time": "2021-08-13T19:00:10.425232",
     "exception": false,
     "start_time": "2021-08-13T19:00:10.402970",
     "status": "completed"
    },
    "tags": []
   },
   "outputs": [],
   "source": []
  }
 ],
 "metadata": {
  "kernelspec": {
   "display_name": "Python 3",
   "language": "python",
   "name": "python3"
  },
  "language_info": {
   "codemirror_mode": {
    "name": "ipython",
    "version": 3
   },
   "file_extension": ".py",
   "mimetype": "text/x-python",
   "name": "python",
   "nbconvert_exporter": "python",
   "pygments_lexer": "ipython3",
   "version": "3.9.5"
  },
  "papermill": {
   "default_parameters": {},
   "duration": 6.829463,
   "end_time": "2021-08-13T19:00:11.928689",
   "environment_variables": {},
   "exception": null,
   "input_path": "eBay_Overview.ipynb",
   "output_path": "eBay_Overview.ipynb",
   "parameters": {},
   "start_time": "2021-08-13T19:00:05.099226",
   "version": "2.3.3"
  }
 },
 "nbformat": 4,
 "nbformat_minor": 5
}