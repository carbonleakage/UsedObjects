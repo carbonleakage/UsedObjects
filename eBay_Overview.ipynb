{
 "cells": [
  {
   "cell_type": "code",
   "execution_count": 1,
   "id": "reverse-picking",
   "metadata": {
    "execution": {
     "iopub.execute_input": "2021-09-14T21:30:07.011990Z",
     "iopub.status.busy": "2021-09-14T21:30:07.009952Z",
     "iopub.status.idle": "2021-09-14T21:30:07.812564Z",
     "shell.execute_reply": "2021-09-14T21:30:07.813820Z"
    },
    "papermill": {
     "duration": 0.852344,
     "end_time": "2021-09-14T21:30:07.814436",
     "exception": false,
     "start_time": "2021-09-14T21:30:06.962092",
     "status": "completed"
    },
    "tags": []
   },
   "outputs": [],
   "source": [
    "import pandas as pd\n",
    "import sqlite3"
   ]
  },
  {
   "cell_type": "code",
   "execution_count": 2,
   "id": "innovative-syndrome",
   "metadata": {
    "execution": {
     "iopub.execute_input": "2021-09-14T21:30:07.866096Z",
     "iopub.status.busy": "2021-09-14T21:30:07.864219Z",
     "iopub.status.idle": "2021-09-14T21:30:08.155782Z",
     "shell.execute_reply": "2021-09-14T21:30:08.157163Z"
    },
    "papermill": {
     "duration": 0.321253,
     "end_time": "2021-09-14T21:30:08.157601",
     "exception": false,
     "start_time": "2021-09-14T21:30:07.836348",
     "status": "completed"
    },
    "tags": []
   },
   "outputs": [],
   "source": [
    "timestamps = pd.read_sql(\"select distinct record_time from EBAY_TOP_BERLIN order by record_time desc limit 2\", sqlite3.connect(\"UsedObjects.db\"))"
   ]
  },
  {
   "cell_type": "code",
   "execution_count": 3,
   "id": "periodic-identification",
   "metadata": {
    "execution": {
     "iopub.execute_input": "2021-09-14T21:30:08.224799Z",
     "iopub.status.busy": "2021-09-14T21:30:08.222690Z",
     "iopub.status.idle": "2021-09-14T21:30:08.243423Z",
     "shell.execute_reply": "2021-09-14T21:30:08.244813Z"
    },
    "papermill": {
     "duration": 0.067747,
     "end_time": "2021-09-14T21:30:08.245229",
     "exception": false,
     "start_time": "2021-09-14T21:30:08.177482",
     "status": "completed"
    },
    "tags": []
   },
   "outputs": [
    {
     "data": {
      "text/html": [
       "<div>\n",
       "<style scoped>\n",
       "    .dataframe tbody tr th:only-of-type {\n",
       "        vertical-align: middle;\n",
       "    }\n",
       "\n",
       "    .dataframe tbody tr th {\n",
       "        vertical-align: top;\n",
       "    }\n",
       "\n",
       "    .dataframe thead th {\n",
       "        text-align: right;\n",
       "    }\n",
       "</style>\n",
       "<table border=\"1\" class=\"dataframe\">\n",
       "  <thead>\n",
       "    <tr style=\"text-align: right;\">\n",
       "      <th></th>\n",
       "      <th>RECORD_TIME</th>\n",
       "    </tr>\n",
       "  </thead>\n",
       "  <tbody>\n",
       "    <tr>\n",
       "      <th>0</th>\n",
       "      <td>2021-09-14 23:30</td>\n",
       "    </tr>\n",
       "    <tr>\n",
       "      <th>1</th>\n",
       "      <td>2021-09-14 23:00</td>\n",
       "    </tr>\n",
       "  </tbody>\n",
       "</table>\n",
       "</div>"
      ],
      "text/plain": [
       "        RECORD_TIME\n",
       "0  2021-09-14 23:30\n",
       "1  2021-09-14 23:00"
      ]
     },
     "execution_count": 3,
     "metadata": {},
     "output_type": "execute_result"
    }
   ],
   "source": [
    "timestamps"
   ]
  },
  {
   "cell_type": "code",
   "execution_count": 4,
   "id": "alternate-victory",
   "metadata": {
    "execution": {
     "iopub.execute_input": "2021-09-14T21:30:08.297245Z",
     "iopub.status.busy": "2021-09-14T21:30:08.295075Z",
     "iopub.status.idle": "2021-09-14T21:30:08.732005Z",
     "shell.execute_reply": "2021-09-14T21:30:08.733283Z"
    },
    "papermill": {
     "duration": 0.467204,
     "end_time": "2021-09-14T21:30:08.733681",
     "exception": false,
     "start_time": "2021-09-14T21:30:08.266477",
     "status": "completed"
    },
    "tags": []
   },
   "outputs": [],
   "source": [
    "df = pd.read_sql(\"select * from EBAY_TOP_BERLIN where record_time in (select distinct record_time from EBAY_TOP_BERLIN order by record_time desc limit 2)\", sqlite3.connect(\"UsedObjects.db\"))"
   ]
  },
  {
   "cell_type": "code",
   "execution_count": 5,
   "id": "popular-active",
   "metadata": {
    "execution": {
     "iopub.execute_input": "2021-09-14T21:30:08.830382Z",
     "iopub.status.busy": "2021-09-14T21:30:08.818202Z",
     "iopub.status.idle": "2021-09-14T21:30:08.848325Z",
     "shell.execute_reply": "2021-09-14T21:30:08.849711Z"
    },
    "papermill": {
     "duration": 0.078043,
     "end_time": "2021-09-14T21:30:08.850149",
     "exception": false,
     "start_time": "2021-09-14T21:30:08.772106",
     "status": "completed"
    },
    "tags": []
   },
   "outputs": [],
   "source": [
    "df_pivot = df.pivot_table(index=\"PRODUCT\", columns = \"RECORD_TIME\", values = \"LISTING_COUNT\")"
   ]
  },
  {
   "cell_type": "code",
   "execution_count": 6,
   "id": "union-huntington",
   "metadata": {
    "execution": {
     "iopub.execute_input": "2021-09-14T21:30:08.906480Z",
     "iopub.status.busy": "2021-09-14T21:30:08.904400Z",
     "iopub.status.idle": "2021-09-14T21:30:08.909917Z",
     "shell.execute_reply": "2021-09-14T21:30:08.911273Z"
    },
    "papermill": {
     "duration": 0.041226,
     "end_time": "2021-09-14T21:30:08.911701",
     "exception": false,
     "start_time": "2021-09-14T21:30:08.870475",
     "status": "completed"
    },
    "tags": []
   },
   "outputs": [],
   "source": [
    "df_pivot.columns = [\"stamp_1\", \"stamp_2\"]\n",
    "df_pivot_diff = df_pivot.diff(axis=1)"
   ]
  },
  {
   "cell_type": "code",
   "execution_count": 7,
   "id": "fifth-motion",
   "metadata": {
    "execution": {
     "iopub.execute_input": "2021-09-14T21:30:08.965967Z",
     "iopub.status.busy": "2021-09-14T21:30:08.963563Z",
     "iopub.status.idle": "2021-09-14T21:30:10.465583Z",
     "shell.execute_reply": "2021-09-14T21:30:10.466926Z"
    },
    "papermill": {
     "duration": 1.535097,
     "end_time": "2021-09-14T21:30:10.467390",
     "exception": false,
     "start_time": "2021-09-14T21:30:08.932293",
     "status": "completed"
    },
    "tags": []
   },
   "outputs": [
    {
     "data": {
      "text/plain": [
       "<AxesSubplot:ylabel='PRODUCT'>"
      ]
     },
     "execution_count": 7,
     "metadata": {},
     "output_type": "execute_result"
    },
    {
     "data": {
      "image/png": "[encoded data removed]",
      "text/plain": [
       "<Figure size 432x288 with 1 Axes>"
      ]
     },
     "metadata": {
      "needs_background": "light"
     },
     "output_type": "display_data"
    }
   ],
   "source": [
    "df_pivot_diff.sort_values(\"stamp_2\", ascending = False)[\"stamp_2\"].head(10).plot.barh()"
   ]
  },
  {
   "cell_type": "code",
   "execution_count": null,
   "id": "extra-executive",
   "metadata": {
    "papermill": {
     "duration": 0.022426,
     "end_time": "2021-09-14T21:30:10.514727",
     "exception": false,
     "start_time": "2021-09-14T21:30:10.492301",
     "status": "completed"
    },
    "tags": []
   },
   "outputs": [],
   "source": []
  }
 ],
 "metadata": {
  "kernelspec": {
   "display_name": "Python 3",
   "language": "python",
   "name": "python3"
  },
  "language_info": {
   "codemirror_mode": {
    "name": "ipython",
    "version": 3
   },
   "file_extension": ".py",
   "mimetype": "text/x-python",
   "name": "python",
   "nbconvert_exporter": "python",
   "pygments_lexer": "ipython3",
   "version": "3.9.5"
  },
  "papermill": {
   "default_parameters": {},
   "duration": 6.614938,
   "end_time": "2021-09-14T21:30:11.158359",
   "environment_variables": {},
   "exception": null,
   "input_path": "eBay_Overview.ipynb",
   "output_path": "eBay_Overview.ipynb",
   "parameters": {},
   "start_time": "2021-09-14T21:30:04.543421",
   "version": "2.3.3"
  }
 },
 "nbformat": 4,
 "nbformat_minor": 5
}