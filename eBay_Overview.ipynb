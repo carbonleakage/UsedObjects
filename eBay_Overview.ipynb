{
 "cells": [
  {
   "cell_type": "code",
   "execution_count": 1,
   "id": "reverse-picking",
   "metadata": {
    "execution": {
     "iopub.execute_input": "2021-12-04T16:30:07.624055Z",
     "iopub.status.busy": "2021-12-04T16:30:07.611035Z",
     "iopub.status.idle": "2021-12-04T16:30:08.580163Z",
     "shell.execute_reply": "2021-12-04T16:30:08.581924Z"
    },
    "papermill": {
     "duration": 1.020235,
     "end_time": "2021-12-04T16:30:08.582733",
     "exception": false,
     "start_time": "2021-12-04T16:30:07.562498",
     "status": "completed"
    },
    "tags": []
   },
   "outputs": [],
   "source": [
    "import pandas as pd\n",
    "import sqlite3"
   ]
  },
  {
   "cell_type": "code",
   "execution_count": 2,
   "id": "innovative-syndrome",
   "metadata": {
    "execution": {
     "iopub.execute_input": "2021-12-04T16:30:08.645619Z",
     "iopub.status.busy": "2021-12-04T16:30:08.642632Z",
     "iopub.status.idle": "2021-12-04T16:30:09.663482Z",
     "shell.execute_reply": "2021-12-04T16:30:09.665128Z"
    },
    "papermill": {
     "duration": 1.055035,
     "end_time": "2021-12-04T16:30:09.665632",
     "exception": false,
     "start_time": "2021-12-04T16:30:08.610597",
     "status": "completed"
    },
    "tags": []
   },
   "outputs": [],
   "source": [
    "timestamps = pd.read_sql(\"select distinct record_time from EBAY_TOP_BERLIN order by record_time desc limit 2\", sqlite3.connect(\"UsedObjects.db\"))"
   ]
  },
  {
   "cell_type": "code",
   "execution_count": 3,
   "id": "periodic-identification",
   "metadata": {
    "execution": {
     "iopub.execute_input": "2021-12-04T16:30:09.739134Z",
     "iopub.status.busy": "2021-12-04T16:30:09.736854Z",
     "iopub.status.idle": "2021-12-04T16:30:09.759704Z",
     "shell.execute_reply": "2021-12-04T16:30:09.761225Z"
    },
    "papermill": {
     "duration": 0.075025,
     "end_time": "2021-12-04T16:30:09.761716",
     "exception": false,
     "start_time": "2021-12-04T16:30:09.686691",
     "status": "completed"
    },
    "tags": []
   },
   "outputs": [
    {
     "data": {
      "text/html": [
       "<div>\n",
       "<style scoped>\n",
       "    .dataframe tbody tr th:only-of-type {\n",
       "        vertical-align: middle;\n",
       "    }\n",
       "\n",
       "    .dataframe tbody tr th {\n",
       "        vertical-align: top;\n",
       "    }\n",
       "\n",
       "    .dataframe thead th {\n",
       "        text-align: right;\n",
       "    }\n",
       "</style>\n",
       "<table border=\"1\" class=\"dataframe\">\n",
       "  <thead>\n",
       "    <tr style=\"text-align: right;\">\n",
       "      <th></th>\n",
       "      <th>RECORD_TIME</th>\n",
       "    </tr>\n",
       "  </thead>\n",
       "  <tbody>\n",
       "    <tr>\n",
       "      <th>0</th>\n",
       "      <td>2021-12-04 17:30</td>\n",
       "    </tr>\n",
       "    <tr>\n",
       "      <th>1</th>\n",
       "      <td>2021-12-04 17:00</td>\n",
       "    </tr>\n",
       "  </tbody>\n",
       "</table>\n",
       "</div>"
      ],
      "text/plain": [
       "        RECORD_TIME\n",
       "0  2021-12-04 17:30\n",
       "1  2021-12-04 17:00"
      ]
     },
     "execution_count": 3,
     "metadata": {},
     "output_type": "execute_result"
    }
   ],
   "source": [
    "timestamps"
   ]
  },
  {
   "cell_type": "code",
   "execution_count": 4,
   "id": "alternate-victory",
   "metadata": {
    "execution": {
     "iopub.execute_input": "2021-12-04T16:30:09.816177Z",
     "iopub.status.busy": "2021-12-04T16:30:09.814112Z",
     "iopub.status.idle": "2021-12-04T16:30:11.258389Z",
     "shell.execute_reply": "2021-12-04T16:30:11.260054Z"
    },
    "papermill": {
     "duration": 1.477462,
     "end_time": "2021-12-04T16:30:11.260557",
     "exception": false,
     "start_time": "2021-12-04T16:30:09.783095",
     "status": "completed"
    },
    "tags": []
   },
   "outputs": [],
   "source": [
    "df = pd.read_sql(\"select * from EBAY_TOP_BERLIN where record_time in (select distinct record_time from EBAY_TOP_BERLIN order by record_time desc limit 2)\", sqlite3.connect(\"UsedObjects.db\"))"
   ]
  },
  {
   "cell_type": "code",
   "execution_count": 5,
   "id": "popular-active",
   "metadata": {
    "execution": {
     "iopub.execute_input": "2021-12-04T16:30:11.336048Z",
     "iopub.status.busy": "2021-12-04T16:30:11.323538Z",
     "iopub.status.idle": "2021-12-04T16:30:11.355746Z",
     "shell.execute_reply": "2021-12-04T16:30:11.357310Z"
    },
    "papermill": {
     "duration": 0.075228,
     "end_time": "2021-12-04T16:30:11.357780",
     "exception": false,
     "start_time": "2021-12-04T16:30:11.282552",
     "status": "completed"
    },
    "tags": []
   },
   "outputs": [],
   "source": [
    "df_pivot = df.pivot_table(index=\"PRODUCT\", columns = \"RECORD_TIME\", values = \"LISTING_COUNT\")"
   ]
  },
  {
   "cell_type": "code",
   "execution_count": 6,
   "id": "union-huntington",
   "metadata": {
    "execution": {
     "iopub.execute_input": "2021-12-04T16:30:11.413901Z",
     "iopub.status.busy": "2021-12-04T16:30:11.411527Z",
     "iopub.status.idle": "2021-12-04T16:30:11.423288Z",
     "shell.execute_reply": "2021-12-04T16:30:11.420967Z"
    },
    "papermill": {
     "duration": 0.045882,
     "end_time": "2021-12-04T16:30:11.423733",
     "exception": false,
     "start_time": "2021-12-04T16:30:11.377851",
     "status": "completed"
    },
    "tags": []
   },
   "outputs": [],
   "source": [
    "df_pivot.columns = [\"stamp_1\", \"stamp_2\"]\n",
    "df_pivot_diff = df_pivot.diff(axis=1)"
   ]
  },
  {
   "cell_type": "code",
   "execution_count": 7,
   "id": "fifth-motion",
   "metadata": {
    "execution": {
     "iopub.execute_input": "2021-12-04T16:30:11.485472Z",
     "iopub.status.busy": "2021-12-04T16:30:11.482363Z",
     "iopub.status.idle": "2021-12-04T16:30:13.410732Z",
     "shell.execute_reply": "2021-12-04T16:30:13.413883Z"
    },
    "papermill": {
     "duration": 1.967698,
     "end_time": "2021-12-04T16:30:13.414876",
     "exception": false,
     "start_time": "2021-12-04T16:30:11.447178",
     "status": "completed"
    },
    "tags": []
   },
   "outputs": [
    {
     "data": {
      "text/plain": [
       "<AxesSubplot:ylabel='PRODUCT'>"
      ]
     },
     "execution_count": 7,
     "metadata": {},
     "output_type": "execute_result"
    },
    {
     "data": {
      "image/png": "[encoded data removed]",
      "text/plain": [
       "<Figure size 432x288 with 1 Axes>"
      ]
     },
     "metadata": {
      "needs_background": "light"
     },
     "output_type": "display_data"
    }
   ],
   "source": [
    "df_pivot_diff.sort_values(\"stamp_2\", ascending = False)[\"stamp_2\"].head(10).plot.barh()"
   ]
  },
  {
   "cell_type": "code",
   "execution_count": null,
   "id": "extra-executive",
   "metadata": {
    "papermill": {
     "duration": 0.033279,
     "end_time": "2021-12-04T16:30:13.485377",
     "exception": false,
     "start_time": "2021-12-04T16:30:13.452098",
     "status": "completed"
    },
    "tags": []
   },
   "outputs": [],
   "source": []
  }
 ],
 "metadata": {
  "kernelspec": {
   "display_name": "Python 3",
   "language": "python",
   "name": "python3"
  },
  "language_info": {
   "codemirror_mode": {
    "name": "ipython",
    "version": 3
   },
   "file_extension": ".py",
   "mimetype": "text/x-python",
   "name": "python",
   "nbconvert_exporter": "python",
   "pygments_lexer": "ipython3",
   "version": "3.9.5"
  },
  "papermill": {
   "default_parameters": {},
   "duration": 9.932042,
   "end_time": "2021-12-04T16:30:14.755056",
   "environment_variables": {},
   "exception": null,
   "input_path": "eBay_Overview.ipynb",
   "output_path": "eBay_Overview.ipynb",
   "parameters": {},
   "start_time": "2021-12-04T16:30:04.823014",
   "version": "2.3.3"
  }
 },
 "nbformat": 4,
 "nbformat_minor": 5
}