{
 "cells": [
  {
   "cell_type": "code",
   "execution_count": 1,
   "id": "reverse-picking",
   "metadata": {
    "execution": {
     "iopub.execute_input": "2021-09-15T15:30:06.777024Z",
     "iopub.status.busy": "2021-09-15T15:30:06.775050Z",
     "iopub.status.idle": "2021-09-15T15:30:07.581711Z",
     "shell.execute_reply": "2021-09-15T15:30:07.583017Z"
    },
    "papermill": {
     "duration": 0.858963,
     "end_time": "2021-09-15T15:30:07.583655",
     "exception": false,
     "start_time": "2021-09-15T15:30:06.724692",
     "status": "completed"
    },
    "tags": []
   },
   "outputs": [],
   "source": [
    "import pandas as pd\n",
    "import sqlite3"
   ]
  },
  {
   "cell_type": "code",
   "execution_count": 2,
   "id": "innovative-syndrome",
   "metadata": {
    "execution": {
     "iopub.execute_input": "2021-09-15T15:30:07.634659Z",
     "iopub.status.busy": "2021-09-15T15:30:07.632762Z",
     "iopub.status.idle": "2021-09-15T15:30:07.928068Z",
     "shell.execute_reply": "2021-09-15T15:30:07.929269Z"
    },
    "papermill": {
     "duration": 0.324959,
     "end_time": "2021-09-15T15:30:07.929662",
     "exception": false,
     "start_time": "2021-09-15T15:30:07.604703",
     "status": "completed"
    },
    "tags": []
   },
   "outputs": [],
   "source": [
    "timestamps = pd.read_sql(\"select distinct record_time from EBAY_TOP_BERLIN order by record_time desc limit 2\", sqlite3.connect(\"UsedObjects.db\"))"
   ]
  },
  {
   "cell_type": "code",
   "execution_count": 3,
   "id": "periodic-identification",
   "metadata": {
    "execution": {
     "iopub.execute_input": "2021-09-15T15:30:07.994319Z",
     "iopub.status.busy": "2021-09-15T15:30:07.992286Z",
     "iopub.status.idle": "2021-09-15T15:30:08.012473Z",
     "shell.execute_reply": "2021-09-15T15:30:08.013780Z"
    },
    "papermill": {
     "duration": 0.063546,
     "end_time": "2021-09-15T15:30:08.014192",
     "exception": false,
     "start_time": "2021-09-15T15:30:07.950646",
     "status": "completed"
    },
    "tags": []
   },
   "outputs": [
    {
     "data": {
      "text/html": [
       "<div>\n",
       "<style scoped>\n",
       "    .dataframe tbody tr th:only-of-type {\n",
       "        vertical-align: middle;\n",
       "    }\n",
       "\n",
       "    .dataframe tbody tr th {\n",
       "        vertical-align: top;\n",
       "    }\n",
       "\n",
       "    .dataframe thead th {\n",
       "        text-align: right;\n",
       "    }\n",
       "</style>\n",
       "<table border=\"1\" class=\"dataframe\">\n",
       "  <thead>\n",
       "    <tr style=\"text-align: right;\">\n",
       "      <th></th>\n",
       "      <th>RECORD_TIME</th>\n",
       "    </tr>\n",
       "  </thead>\n",
       "  <tbody>\n",
       "    <tr>\n",
       "      <th>0</th>\n",
       "      <td>2021-09-15 17:30</td>\n",
       "    </tr>\n",
       "    <tr>\n",
       "      <th>1</th>\n",
       "      <td>2021-09-15 17:00</td>\n",
       "    </tr>\n",
       "  </tbody>\n",
       "</table>\n",
       "</div>"
      ],
      "text/plain": [
       "        RECORD_TIME\n",
       "0  2021-09-15 17:30\n",
       "1  2021-09-15 17:00"
      ]
     },
     "execution_count": 3,
     "metadata": {},
     "output_type": "execute_result"
    }
   ],
   "source": [
    "timestamps"
   ]
  },
  {
   "cell_type": "code",
   "execution_count": 4,
   "id": "alternate-victory",
   "metadata": {
    "execution": {
     "iopub.execute_input": "2021-09-15T15:30:08.066950Z",
     "iopub.status.busy": "2021-09-15T15:30:08.064611Z",
     "iopub.status.idle": "2021-09-15T15:30:08.507210Z",
     "shell.execute_reply": "2021-09-15T15:30:08.508630Z"
    },
    "papermill": {
     "duration": 0.473469,
     "end_time": "2021-09-15T15:30:08.509071",
     "exception": false,
     "start_time": "2021-09-15T15:30:08.035602",
     "status": "completed"
    },
    "tags": []
   },
   "outputs": [],
   "source": [
    "df = pd.read_sql(\"select * from EBAY_TOP_BERLIN where record_time in (select distinct record_time from EBAY_TOP_BERLIN order by record_time desc limit 2)\", sqlite3.connect(\"UsedObjects.db\"))"
   ]
  },
  {
   "cell_type": "code",
   "execution_count": 5,
   "id": "popular-active",
   "metadata": {
    "execution": {
     "iopub.execute_input": "2021-09-15T15:30:08.590585Z",
     "iopub.status.busy": "2021-09-15T15:30:08.578051Z",
     "iopub.status.idle": "2021-09-15T15:30:08.606136Z",
     "shell.execute_reply": "2021-09-15T15:30:08.607431Z"
    },
    "papermill": {
     "duration": 0.07234,
     "end_time": "2021-09-15T15:30:08.607838",
     "exception": false,
     "start_time": "2021-09-15T15:30:08.535498",
     "status": "completed"
    },
    "tags": []
   },
   "outputs": [],
   "source": [
    "df_pivot = df.pivot_table(index=\"PRODUCT\", columns = \"RECORD_TIME\", values = \"LISTING_COUNT\")"
   ]
  },
  {
   "cell_type": "code",
   "execution_count": 6,
   "id": "union-huntington",
   "metadata": {
    "execution": {
     "iopub.execute_input": "2021-09-15T15:30:08.667267Z",
     "iopub.status.busy": "2021-09-15T15:30:08.664915Z",
     "iopub.status.idle": "2021-09-15T15:30:08.670943Z",
     "shell.execute_reply": "2021-09-15T15:30:08.672327Z"
    },
    "papermill": {
     "duration": 0.042346,
     "end_time": "2021-09-15T15:30:08.672802",
     "exception": false,
     "start_time": "2021-09-15T15:30:08.630456",
     "status": "completed"
    },
    "tags": []
   },
   "outputs": [],
   "source": [
    "df_pivot.columns = [\"stamp_1\", \"stamp_2\"]\n",
    "df_pivot_diff = df_pivot.diff(axis=1)"
   ]
  },
  {
   "cell_type": "code",
   "execution_count": 7,
   "id": "fifth-motion",
   "metadata": {
    "execution": {
     "iopub.execute_input": "2021-09-15T15:30:08.730461Z",
     "iopub.status.busy": "2021-09-15T15:30:08.725961Z",
     "iopub.status.idle": "2021-09-15T15:30:10.211719Z",
     "shell.execute_reply": "2021-09-15T15:30:10.213035Z"
    },
    "papermill": {
     "duration": 1.518614,
     "end_time": "2021-09-15T15:30:10.213458",
     "exception": false,
     "start_time": "2021-09-15T15:30:08.694844",
     "status": "completed"
    },
    "tags": []
   },
   "outputs": [
    {
     "data": {
      "text/plain": [
       "<AxesSubplot:ylabel='PRODUCT'>"
      ]
     },
     "execution_count": 7,
     "metadata": {},
     "output_type": "execute_result"
    },
    {
     "data": {
      "image/png": "[encoded data removed]",
      "text/plain": [
       "<Figure size 432x288 with 1 Axes>"
      ]
     },
     "metadata": {
      "needs_background": "light"
     },
     "output_type": "display_data"
    }
   ],
   "source": [
    "df_pivot_diff.sort_values(\"stamp_2\", ascending = False)[\"stamp_2\"].head(10).plot.barh()"
   ]
  },
  {
   "cell_type": "code",
   "execution_count": null,
   "id": "extra-executive",
   "metadata": {
    "papermill": {
     "duration": 0.022226,
     "end_time": "2021-09-15T15:30:10.261503",
     "exception": false,
     "start_time": "2021-09-15T15:30:10.239277",
     "status": "completed"
    },
    "tags": []
   },
   "outputs": [],
   "source": []
  }
 ],
 "metadata": {
  "kernelspec": {
   "display_name": "Python 3",
   "language": "python",
   "name": "python3"
  },
  "language_info": {
   "codemirror_mode": {
    "name": "ipython",
    "version": 3
   },
   "file_extension": ".py",
   "mimetype": "text/x-python",
   "name": "python",
   "nbconvert_exporter": "python",
   "pygments_lexer": "ipython3",
   "version": "3.9.5"
  },
  "papermill": {
   "default_parameters": {},
   "duration": 6.588053,
   "end_time": "2021-09-15T15:30:10.903531",
   "environment_variables": {},
   "exception": null,
   "input_path": "eBay_Overview.ipynb",
   "output_path": "eBay_Overview.ipynb",
   "parameters": {},
   "start_time": "2021-09-15T15:30:04.315478",
   "version": "2.3.3"
  }
 },
 "nbformat": 4,
 "nbformat_minor": 5
}