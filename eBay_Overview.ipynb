{
 "cells": [
  {
   "cell_type": "code",
   "execution_count": 1,
   "id": "reverse-picking",
   "metadata": {
    "execution": {
     "iopub.execute_input": "2021-11-10T17:00:07.272660Z",
     "iopub.status.busy": "2021-11-10T17:00:07.270475Z",
     "iopub.status.idle": "2021-11-10T17:00:08.230519Z",
     "shell.execute_reply": "2021-11-10T17:00:08.232005Z"
    },
    "papermill": {
     "duration": 1.006655,
     "end_time": "2021-11-10T17:00:08.232859",
     "exception": false,
     "start_time": "2021-11-10T17:00:07.226204",
     "status": "completed"
    },
    "tags": []
   },
   "outputs": [],
   "source": [
    "import pandas as pd\n",
    "import sqlite3"
   ]
  },
  {
   "cell_type": "code",
   "execution_count": 2,
   "id": "innovative-syndrome",
   "metadata": {
    "execution": {
     "iopub.execute_input": "2021-11-10T17:00:08.297113Z",
     "iopub.status.busy": "2021-11-10T17:00:08.294783Z",
     "iopub.status.idle": "2021-11-10T17:00:09.077037Z",
     "shell.execute_reply": "2021-11-10T17:00:09.078487Z"
    },
    "papermill": {
     "duration": 0.817928,
     "end_time": "2021-11-10T17:00:09.078969",
     "exception": false,
     "start_time": "2021-11-10T17:00:08.261041",
     "status": "completed"
    },
    "tags": []
   },
   "outputs": [],
   "source": [
    "timestamps = pd.read_sql(\"select distinct record_time from EBAY_TOP_BERLIN order by record_time desc limit 2\", sqlite3.connect(\"UsedObjects.db\"))"
   ]
  },
  {
   "cell_type": "code",
   "execution_count": 3,
   "id": "periodic-identification",
   "metadata": {
    "execution": {
     "iopub.execute_input": "2021-11-10T17:00:09.145858Z",
     "iopub.status.busy": "2021-11-10T17:00:09.143647Z",
     "iopub.status.idle": "2021-11-10T17:00:09.166617Z",
     "shell.execute_reply": "2021-11-10T17:00:09.168079Z"
    },
    "papermill": {
     "duration": 0.070436,
     "end_time": "2021-11-10T17:00:09.168600",
     "exception": false,
     "start_time": "2021-11-10T17:00:09.098164",
     "status": "completed"
    },
    "tags": []
   },
   "outputs": [
    {
     "data": {
      "text/html": [
       "<div>\n",
       "<style scoped>\n",
       "    .dataframe tbody tr th:only-of-type {\n",
       "        vertical-align: middle;\n",
       "    }\n",
       "\n",
       "    .dataframe tbody tr th {\n",
       "        vertical-align: top;\n",
       "    }\n",
       "\n",
       "    .dataframe thead th {\n",
       "        text-align: right;\n",
       "    }\n",
       "</style>\n",
       "<table border=\"1\" class=\"dataframe\">\n",
       "  <thead>\n",
       "    <tr style=\"text-align: right;\">\n",
       "      <th></th>\n",
       "      <th>RECORD_TIME</th>\n",
       "    </tr>\n",
       "  </thead>\n",
       "  <tbody>\n",
       "    <tr>\n",
       "      <th>0</th>\n",
       "      <td>2021-11-10 18:00</td>\n",
       "    </tr>\n",
       "    <tr>\n",
       "      <th>1</th>\n",
       "      <td>2021-11-10 17:30</td>\n",
       "    </tr>\n",
       "  </tbody>\n",
       "</table>\n",
       "</div>"
      ],
      "text/plain": [
       "        RECORD_TIME\n",
       "0  2021-11-10 18:00\n",
       "1  2021-11-10 17:30"
      ]
     },
     "execution_count": 3,
     "metadata": {},
     "output_type": "execute_result"
    }
   ],
   "source": [
    "timestamps"
   ]
  },
  {
   "cell_type": "code",
   "execution_count": 4,
   "id": "alternate-victory",
   "metadata": {
    "execution": {
     "iopub.execute_input": "2021-11-10T17:00:09.223824Z",
     "iopub.status.busy": "2021-11-10T17:00:09.221570Z",
     "iopub.status.idle": "2021-11-10T17:00:10.371806Z",
     "shell.execute_reply": "2021-11-10T17:00:10.373726Z"
    },
    "papermill": {
     "duration": 1.185805,
     "end_time": "2021-11-10T17:00:10.374713",
     "exception": false,
     "start_time": "2021-11-10T17:00:09.188908",
     "status": "completed"
    },
    "tags": []
   },
   "outputs": [],
   "source": [
    "df = pd.read_sql(\"select * from EBAY_TOP_BERLIN where record_time in (select distinct record_time from EBAY_TOP_BERLIN order by record_time desc limit 2)\", sqlite3.connect(\"UsedObjects.db\"))"
   ]
  },
  {
   "cell_type": "code",
   "execution_count": 5,
   "id": "popular-active",
   "metadata": {
    "execution": {
     "iopub.execute_input": "2021-11-10T17:00:10.454757Z",
     "iopub.status.busy": "2021-11-10T17:00:10.441934Z",
     "iopub.status.idle": "2021-11-10T17:00:10.475054Z",
     "shell.execute_reply": "2021-11-10T17:00:10.476439Z"
    },
    "papermill": {
     "duration": 0.079348,
     "end_time": "2021-11-10T17:00:10.477005",
     "exception": false,
     "start_time": "2021-11-10T17:00:10.397657",
     "status": "completed"
    },
    "tags": []
   },
   "outputs": [],
   "source": [
    "df_pivot = df.pivot_table(index=\"PRODUCT\", columns = \"RECORD_TIME\", values = \"LISTING_COUNT\")"
   ]
  },
  {
   "cell_type": "code",
   "execution_count": 6,
   "id": "union-huntington",
   "metadata": {
    "execution": {
     "iopub.execute_input": "2021-11-10T17:00:10.540558Z",
     "iopub.status.busy": "2021-11-10T17:00:10.538379Z",
     "iopub.status.idle": "2021-11-10T17:00:10.544098Z",
     "shell.execute_reply": "2021-11-10T17:00:10.545547Z"
    },
    "papermill": {
     "duration": 0.047071,
     "end_time": "2021-11-10T17:00:10.546030",
     "exception": false,
     "start_time": "2021-11-10T17:00:10.498959",
     "status": "completed"
    },
    "tags": []
   },
   "outputs": [],
   "source": [
    "df_pivot.columns = [\"stamp_1\", \"stamp_2\"]\n",
    "df_pivot_diff = df_pivot.diff(axis=1)"
   ]
  },
  {
   "cell_type": "code",
   "execution_count": 7,
   "id": "fifth-motion",
   "metadata": {
    "execution": {
     "iopub.execute_input": "2021-11-10T17:00:10.602773Z",
     "iopub.status.busy": "2021-11-10T17:00:10.600230Z",
     "iopub.status.idle": "2021-11-10T17:00:12.363941Z",
     "shell.execute_reply": "2021-11-10T17:00:12.366893Z"
    },
    "papermill": {
     "duration": 1.801537,
     "end_time": "2021-11-10T17:00:12.367755",
     "exception": false,
     "start_time": "2021-11-10T17:00:10.566218",
     "status": "completed"
    },
    "tags": []
   },
   "outputs": [
    {
     "data": {
      "text/plain": [
       "<AxesSubplot:ylabel='PRODUCT'>"
      ]
     },
     "execution_count": 7,
     "metadata": {},
     "output_type": "execute_result"
    },
    {
     "data": {
      "image/png": "[encoded data removed]",
      "text/plain": [
       "<Figure size 432x288 with 1 Axes>"
      ]
     },
     "metadata": {
      "needs_background": "light"
     },
     "output_type": "display_data"
    }
   ],
   "source": [
    "df_pivot_diff.sort_values(\"stamp_2\", ascending = False)[\"stamp_2\"].head(10).plot.barh()"
   ]
  },
  {
   "cell_type": "code",
   "execution_count": null,
   "id": "extra-executive",
   "metadata": {
    "papermill": {
     "duration": 0.036044,
     "end_time": "2021-11-10T17:00:12.440956",
     "exception": false,
     "start_time": "2021-11-10T17:00:12.404912",
     "status": "completed"
    },
    "tags": []
   },
   "outputs": [],
   "source": []
  }
 ],
 "metadata": {
  "kernelspec": {
   "display_name": "Python 3",
   "language": "python",
   "name": "python3"
  },
  "language_info": {
   "codemirror_mode": {
    "name": "ipython",
    "version": 3
   },
   "file_extension": ".py",
   "mimetype": "text/x-python",
   "name": "python",
   "nbconvert_exporter": "python",
   "pygments_lexer": "ipython3",
   "version": "3.9.5"
  },
  "papermill": {
   "default_parameters": {},
   "duration": 8.849485,
   "end_time": "2021-11-10T17:00:13.313238",
   "environment_variables": {},
   "exception": null,
   "input_path": "eBay_Overview.ipynb",
   "output_path": "eBay_Overview.ipynb",
   "parameters": {},
   "start_time": "2021-11-10T17:00:04.463753",
   "version": "2.3.3"
  }
 },
 "nbformat": 4,
 "nbformat_minor": 5
}