{
 "cells": [
  {
   "cell_type": "code",
   "execution_count": 1,
   "id": "reverse-picking",
   "metadata": {
    "execution": {
     "iopub.execute_input": "2021-09-02T22:30:07.191180Z",
     "iopub.status.busy": "2021-09-02T22:30:07.189143Z",
     "iopub.status.idle": "2021-09-02T22:30:07.995923Z",
     "shell.execute_reply": "2021-09-02T22:30:07.997255Z"
    },
    "papermill": {
     "duration": 0.859335,
     "end_time": "2021-09-02T22:30:07.997867",
     "exception": false,
     "start_time": "2021-09-02T22:30:07.138532",
     "status": "completed"
    },
    "tags": []
   },
   "outputs": [],
   "source": [
    "import pandas as pd\n",
    "import sqlite3"
   ]
  },
  {
   "cell_type": "code",
   "execution_count": 2,
   "id": "innovative-syndrome",
   "metadata": {
    "execution": {
     "iopub.execute_input": "2021-09-02T22:30:08.047754Z",
     "iopub.status.busy": "2021-09-02T22:30:08.045786Z",
     "iopub.status.idle": "2021-09-02T22:30:08.233059Z",
     "shell.execute_reply": "2021-09-02T22:30:08.234266Z"
    },
    "papermill": {
     "duration": 0.216694,
     "end_time": "2021-09-02T22:30:08.234668",
     "exception": false,
     "start_time": "2021-09-02T22:30:08.017974",
     "status": "completed"
    },
    "tags": []
   },
   "outputs": [],
   "source": [
    "timestamps = pd.read_sql(\"select distinct record_time from EBAY_TOP_BERLIN order by record_time desc limit 2\", sqlite3.connect(\"UsedObjects.db\"))"
   ]
  },
  {
   "cell_type": "code",
   "execution_count": 3,
   "id": "periodic-identification",
   "metadata": {
    "execution": {
     "iopub.execute_input": "2021-09-02T22:30:08.300424Z",
     "iopub.status.busy": "2021-09-02T22:30:08.298240Z",
     "iopub.status.idle": "2021-09-02T22:30:08.318047Z",
     "shell.execute_reply": "2021-09-02T22:30:08.319242Z"
    },
    "papermill": {
     "duration": 0.063852,
     "end_time": "2021-09-02T22:30:08.319660",
     "exception": false,
     "start_time": "2021-09-02T22:30:08.255808",
     "status": "completed"
    },
    "tags": []
   },
   "outputs": [
    {
     "data": {
      "text/html": [
       "<div>\n",
       "<style scoped>\n",
       "    .dataframe tbody tr th:only-of-type {\n",
       "        vertical-align: middle;\n",
       "    }\n",
       "\n",
       "    .dataframe tbody tr th {\n",
       "        vertical-align: top;\n",
       "    }\n",
       "\n",
       "    .dataframe thead th {\n",
       "        text-align: right;\n",
       "    }\n",
       "</style>\n",
       "<table border=\"1\" class=\"dataframe\">\n",
       "  <thead>\n",
       "    <tr style=\"text-align: right;\">\n",
       "      <th></th>\n",
       "      <th>RECORD_TIME</th>\n",
       "    </tr>\n",
       "  </thead>\n",
       "  <tbody>\n",
       "    <tr>\n",
       "      <th>0</th>\n",
       "      <td>2021-09-03 00:30</td>\n",
       "    </tr>\n",
       "    <tr>\n",
       "      <th>1</th>\n",
       "      <td>2021-09-03 00:00</td>\n",
       "    </tr>\n",
       "  </tbody>\n",
       "</table>\n",
       "</div>"
      ],
      "text/plain": [
       "        RECORD_TIME\n",
       "0  2021-09-03 00:30\n",
       "1  2021-09-03 00:00"
      ]
     },
     "execution_count": 3,
     "metadata": {},
     "output_type": "execute_result"
    }
   ],
   "source": [
    "timestamps"
   ]
  },
  {
   "cell_type": "code",
   "execution_count": 4,
   "id": "alternate-victory",
   "metadata": {
    "execution": {
     "iopub.execute_input": "2021-09-02T22:30:08.372571Z",
     "iopub.status.busy": "2021-09-02T22:30:08.370590Z",
     "iopub.status.idle": "2021-09-02T22:30:08.659195Z",
     "shell.execute_reply": "2021-09-02T22:30:08.660595Z"
    },
    "papermill": {
     "duration": 0.318655,
     "end_time": "2021-09-02T22:30:08.661037",
     "exception": false,
     "start_time": "2021-09-02T22:30:08.342382",
     "status": "completed"
    },
    "tags": []
   },
   "outputs": [],
   "source": [
    "df = pd.read_sql(\"select * from EBAY_TOP_BERLIN where record_time in (select distinct record_time from EBAY_TOP_BERLIN order by record_time desc limit 2)\", sqlite3.connect(\"UsedObjects.db\"))"
   ]
  },
  {
   "cell_type": "code",
   "execution_count": 5,
   "id": "popular-active",
   "metadata": {
    "execution": {
     "iopub.execute_input": "2021-09-02T22:30:08.749962Z",
     "iopub.status.busy": "2021-09-02T22:30:08.740983Z",
     "iopub.status.idle": "2021-09-02T22:30:08.770596Z",
     "shell.execute_reply": "2021-09-02T22:30:08.772118Z"
    },
    "papermill": {
     "duration": 0.076261,
     "end_time": "2021-09-02T22:30:08.772578",
     "exception": false,
     "start_time": "2021-09-02T22:30:08.696317",
     "status": "completed"
    },
    "tags": []
   },
   "outputs": [],
   "source": [
    "df_pivot = df.pivot_table(index=\"PRODUCT\", columns = \"RECORD_TIME\", values = \"LISTING_COUNT\")"
   ]
  },
  {
   "cell_type": "code",
   "execution_count": 6,
   "id": "union-huntington",
   "metadata": {
    "execution": {
     "iopub.execute_input": "2021-09-02T22:30:08.828449Z",
     "iopub.status.busy": "2021-09-02T22:30:08.826222Z",
     "iopub.status.idle": "2021-09-02T22:30:08.831751Z",
     "shell.execute_reply": "2021-09-02T22:30:08.833147Z"
    },
    "papermill": {
     "duration": 0.04099,
     "end_time": "2021-09-02T22:30:08.833592",
     "exception": false,
     "start_time": "2021-09-02T22:30:08.792602",
     "status": "completed"
    },
    "tags": []
   },
   "outputs": [],
   "source": [
    "df_pivot.columns = [\"stamp_1\", \"stamp_2\"]\n",
    "df_pivot_diff = df_pivot.diff(axis=1)"
   ]
  },
  {
   "cell_type": "code",
   "execution_count": 7,
   "id": "fifth-motion",
   "metadata": {
    "execution": {
     "iopub.execute_input": "2021-09-02T22:30:08.888696Z",
     "iopub.status.busy": "2021-09-02T22:30:08.886205Z",
     "iopub.status.idle": "2021-09-02T22:30:10.392727Z",
     "shell.execute_reply": "2021-09-02T22:30:10.394003Z"
    },
    "papermill": {
     "duration": 1.539977,
     "end_time": "2021-09-02T22:30:10.394426",
     "exception": false,
     "start_time": "2021-09-02T22:30:08.854449",
     "status": "completed"
    },
    "tags": []
   },
   "outputs": [
    {
     "data": {
      "text/plain": [
       "<AxesSubplot:ylabel='PRODUCT'>"
      ]
     },
     "execution_count": 7,
     "metadata": {},
     "output_type": "execute_result"
    },
    {
     "data": {
      "image/png": "[encoded data removed]",
      "text/plain": [
       "<Figure size 432x288 with 1 Axes>"
      ]
     },
     "metadata": {
      "needs_background": "light"
     },
     "output_type": "display_data"
    }
   ],
   "source": [
    "df_pivot_diff.sort_values(\"stamp_2\", ascending = False)[\"stamp_2\"].head(10).plot.barh()"
   ]
  },
  {
   "cell_type": "code",
   "execution_count": null,
   "id": "extra-executive",
   "metadata": {
    "papermill": {
     "duration": 0.022145,
     "end_time": "2021-09-02T22:30:10.441213",
     "exception": false,
     "start_time": "2021-09-02T22:30:10.419068",
     "status": "completed"
    },
    "tags": []
   },
   "outputs": [],
   "source": []
  }
 ],
 "metadata": {
  "kernelspec": {
   "display_name": "Python 3",
   "language": "python",
   "name": "python3"
  },
  "language_info": {
   "codemirror_mode": {
    "name": "ipython",
    "version": 3
   },
   "file_extension": ".py",
   "mimetype": "text/x-python",
   "name": "python",
   "nbconvert_exporter": "python",
   "pygments_lexer": "ipython3",
   "version": "3.9.5"
  },
  "papermill": {
   "default_parameters": {},
   "duration": 6.346566,
   "end_time": "2021-09-02T22:30:11.082257",
   "environment_variables": {},
   "exception": null,
   "input_path": "eBay_Overview.ipynb",
   "output_path": "eBay_Overview.ipynb",
   "parameters": {},
   "start_time": "2021-09-02T22:30:04.735691",
   "version": "2.3.3"
  }
 },
 "nbformat": 4,
 "nbformat_minor": 5
}