{
 "cells": [
  {
   "cell_type": "code",
   "execution_count": 1,
   "id": "reverse-picking",
   "metadata": {
    "execution": {
     "iopub.execute_input": "2021-09-06T14:30:06.839004Z",
     "iopub.status.busy": "2021-09-06T14:30:06.837056Z",
     "iopub.status.idle": "2021-09-06T14:30:07.642786Z",
     "shell.execute_reply": "2021-09-06T14:30:07.644200Z"
    },
    "papermill": {
     "duration": 0.857468,
     "end_time": "2021-09-06T14:30:07.644856",
     "exception": false,
     "start_time": "2021-09-06T14:30:06.787388",
     "status": "completed"
    },
    "tags": []
   },
   "outputs": [],
   "source": [
    "import pandas as pd\n",
    "import sqlite3"
   ]
  },
  {
   "cell_type": "code",
   "execution_count": 2,
   "id": "innovative-syndrome",
   "metadata": {
    "execution": {
     "iopub.execute_input": "2021-09-06T14:30:07.695399Z",
     "iopub.status.busy": "2021-09-06T14:30:07.693401Z",
     "iopub.status.idle": "2021-09-06T14:30:07.916160Z",
     "shell.execute_reply": "2021-09-06T14:30:07.917457Z"
    },
    "papermill": {
     "duration": 0.252757,
     "end_time": "2021-09-06T14:30:07.917883",
     "exception": false,
     "start_time": "2021-09-06T14:30:07.665126",
     "status": "completed"
    },
    "tags": []
   },
   "outputs": [],
   "source": [
    "timestamps = pd.read_sql(\"select distinct record_time from EBAY_TOP_BERLIN order by record_time desc limit 2\", sqlite3.connect(\"UsedObjects.db\"))"
   ]
  },
  {
   "cell_type": "code",
   "execution_count": 3,
   "id": "periodic-identification",
   "metadata": {
    "execution": {
     "iopub.execute_input": "2021-09-06T14:30:07.983743Z",
     "iopub.status.busy": "2021-09-06T14:30:07.981680Z",
     "iopub.status.idle": "2021-09-06T14:30:08.001955Z",
     "shell.execute_reply": "2021-09-06T14:30:08.003197Z"
    },
    "papermill": {
     "duration": 0.066729,
     "end_time": "2021-09-06T14:30:08.003629",
     "exception": false,
     "start_time": "2021-09-06T14:30:07.936900",
     "status": "completed"
    },
    "tags": []
   },
   "outputs": [
    {
     "data": {
      "text/html": [
       "<div>\n",
       "<style scoped>\n",
       "    .dataframe tbody tr th:only-of-type {\n",
       "        vertical-align: middle;\n",
       "    }\n",
       "\n",
       "    .dataframe tbody tr th {\n",
       "        vertical-align: top;\n",
       "    }\n",
       "\n",
       "    .dataframe thead th {\n",
       "        text-align: right;\n",
       "    }\n",
       "</style>\n",
       "<table border=\"1\" class=\"dataframe\">\n",
       "  <thead>\n",
       "    <tr style=\"text-align: right;\">\n",
       "      <th></th>\n",
       "      <th>RECORD_TIME</th>\n",
       "    </tr>\n",
       "  </thead>\n",
       "  <tbody>\n",
       "    <tr>\n",
       "      <th>0</th>\n",
       "      <td>2021-09-06 16:30</td>\n",
       "    </tr>\n",
       "    <tr>\n",
       "      <th>1</th>\n",
       "      <td>2021-09-06 16:00</td>\n",
       "    </tr>\n",
       "  </tbody>\n",
       "</table>\n",
       "</div>"
      ],
      "text/plain": [
       "        RECORD_TIME\n",
       "0  2021-09-06 16:30\n",
       "1  2021-09-06 16:00"
      ]
     },
     "execution_count": 3,
     "metadata": {},
     "output_type": "execute_result"
    }
   ],
   "source": [
    "timestamps"
   ]
  },
  {
   "cell_type": "code",
   "execution_count": 4,
   "id": "alternate-victory",
   "metadata": {
    "execution": {
     "iopub.execute_input": "2021-09-06T14:30:08.056719Z",
     "iopub.status.busy": "2021-09-06T14:30:08.054483Z",
     "iopub.status.idle": "2021-09-06T14:30:08.389166Z",
     "shell.execute_reply": "2021-09-06T14:30:08.390364Z"
    },
    "papermill": {
     "duration": 0.364377,
     "end_time": "2021-09-06T14:30:08.390756",
     "exception": false,
     "start_time": "2021-09-06T14:30:08.026379",
     "status": "completed"
    },
    "tags": []
   },
   "outputs": [],
   "source": [
    "df = pd.read_sql(\"select * from EBAY_TOP_BERLIN where record_time in (select distinct record_time from EBAY_TOP_BERLIN order by record_time desc limit 2)\", sqlite3.connect(\"UsedObjects.db\"))"
   ]
  },
  {
   "cell_type": "code",
   "execution_count": 5,
   "id": "popular-active",
   "metadata": {
    "execution": {
     "iopub.execute_input": "2021-09-06T14:30:08.471727Z",
     "iopub.status.busy": "2021-09-06T14:30:08.461307Z",
     "iopub.status.idle": "2021-09-06T14:30:08.488283Z",
     "shell.execute_reply": "2021-09-06T14:30:08.489475Z"
    },
    "papermill": {
     "duration": 0.070703,
     "end_time": "2021-09-06T14:30:08.489866",
     "exception": false,
     "start_time": "2021-09-06T14:30:08.419163",
     "status": "completed"
    },
    "tags": []
   },
   "outputs": [],
   "source": [
    "df_pivot = df.pivot_table(index=\"PRODUCT\", columns = \"RECORD_TIME\", values = \"LISTING_COUNT\")"
   ]
  },
  {
   "cell_type": "code",
   "execution_count": 6,
   "id": "union-huntington",
   "metadata": {
    "execution": {
     "iopub.execute_input": "2021-09-06T14:30:08.546390Z",
     "iopub.status.busy": "2021-09-06T14:30:08.544373Z",
     "iopub.status.idle": "2021-09-06T14:30:08.549666Z",
     "shell.execute_reply": "2021-09-06T14:30:08.550835Z"
    },
    "papermill": {
     "duration": 0.040077,
     "end_time": "2021-09-06T14:30:08.551327",
     "exception": false,
     "start_time": "2021-09-06T14:30:08.511250",
     "status": "completed"
    },
    "tags": []
   },
   "outputs": [],
   "source": [
    "df_pivot.columns = [\"stamp_1\", \"stamp_2\"]\n",
    "df_pivot_diff = df_pivot.diff(axis=1)"
   ]
  },
  {
   "cell_type": "code",
   "execution_count": 7,
   "id": "fifth-motion",
   "metadata": {
    "execution": {
     "iopub.execute_input": "2021-09-06T14:30:08.605028Z",
     "iopub.status.busy": "2021-09-06T14:30:08.602594Z",
     "iopub.status.idle": "2021-09-06T14:30:10.100283Z",
     "shell.execute_reply": "2021-09-06T14:30:10.101550Z"
    },
    "papermill": {
     "duration": 1.530189,
     "end_time": "2021-09-06T14:30:10.101967",
     "exception": false,
     "start_time": "2021-09-06T14:30:08.571778",
     "status": "completed"
    },
    "tags": []
   },
   "outputs": [
    {
     "data": {
      "text/plain": [
       "<AxesSubplot:ylabel='PRODUCT'>"
      ]
     },
     "execution_count": 7,
     "metadata": {},
     "output_type": "execute_result"
    },
    {
     "data": {
      "image/png": "[encoded data removed]",
      "text/plain": [
       "<Figure size 432x288 with 1 Axes>"
      ]
     },
     "metadata": {
      "needs_background": "light"
     },
     "output_type": "display_data"
    }
   ],
   "source": [
    "df_pivot_diff.sort_values(\"stamp_2\", ascending = False)[\"stamp_2\"].head(10).plot.barh()"
   ]
  },
  {
   "cell_type": "code",
   "execution_count": null,
   "id": "extra-executive",
   "metadata": {
    "papermill": {
     "duration": 0.02199,
     "end_time": "2021-09-06T14:30:10.148264",
     "exception": false,
     "start_time": "2021-09-06T14:30:10.126274",
     "status": "completed"
    },
    "tags": []
   },
   "outputs": [],
   "source": []
  }
 ],
 "metadata": {
  "kernelspec": {
   "display_name": "Python 3",
   "language": "python",
   "name": "python3"
  },
  "language_info": {
   "codemirror_mode": {
    "name": "ipython",
    "version": 3
   },
   "file_extension": ".py",
   "mimetype": "text/x-python",
   "name": "python",
   "nbconvert_exporter": "python",
   "pygments_lexer": "ipython3",
   "version": "3.9.5"
  },
  "papermill": {
   "default_parameters": {},
   "duration": 6.408594,
   "end_time": "2021-09-06T14:30:10.792402",
   "environment_variables": {},
   "exception": null,
   "input_path": "eBay_Overview.ipynb",
   "output_path": "eBay_Overview.ipynb",
   "parameters": {},
   "start_time": "2021-09-06T14:30:04.383808",
   "version": "2.3.3"
  }
 },
 "nbformat": 4,
 "nbformat_minor": 5
}