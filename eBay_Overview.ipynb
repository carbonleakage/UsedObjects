{
 "cells": [
  {
   "cell_type": "code",
   "execution_count": 1,
   "id": "reverse-picking",
   "metadata": {
    "execution": {
     "iopub.execute_input": "2021-09-21T19:30:06.711337Z",
     "iopub.status.busy": "2021-09-21T19:30:06.709329Z",
     "iopub.status.idle": "2021-09-21T19:30:07.512681Z",
     "shell.execute_reply": "2021-09-21T19:30:07.513925Z"
    },
    "papermill": {
     "duration": 0.853731,
     "end_time": "2021-09-21T19:30:07.514538",
     "exception": false,
     "start_time": "2021-09-21T19:30:06.660807",
     "status": "completed"
    },
    "tags": []
   },
   "outputs": [],
   "source": [
    "import pandas as pd\n",
    "import sqlite3"
   ]
  },
  {
   "cell_type": "code",
   "execution_count": 2,
   "id": "innovative-syndrome",
   "metadata": {
    "execution": {
     "iopub.execute_input": "2021-09-21T19:30:07.565561Z",
     "iopub.status.busy": "2021-09-21T19:30:07.563705Z",
     "iopub.status.idle": "2021-09-21T19:30:07.916502Z",
     "shell.execute_reply": "2021-09-21T19:30:07.917853Z"
    },
    "papermill": {
     "duration": 0.382578,
     "end_time": "2021-09-21T19:30:07.918288",
     "exception": false,
     "start_time": "2021-09-21T19:30:07.535710",
     "status": "completed"
    },
    "tags": []
   },
   "outputs": [],
   "source": [
    "timestamps = pd.read_sql(\"select distinct record_time from EBAY_TOP_BERLIN order by record_time desc limit 2\", sqlite3.connect(\"UsedObjects.db\"))"
   ]
  },
  {
   "cell_type": "code",
   "execution_count": 3,
   "id": "periodic-identification",
   "metadata": {
    "execution": {
     "iopub.execute_input": "2021-09-21T19:30:07.985305Z",
     "iopub.status.busy": "2021-09-21T19:30:07.983303Z",
     "iopub.status.idle": "2021-09-21T19:30:08.003132Z",
     "shell.execute_reply": "2021-09-21T19:30:08.004450Z"
    },
    "papermill": {
     "duration": 0.066099,
     "end_time": "2021-09-21T19:30:08.004862",
     "exception": false,
     "start_time": "2021-09-21T19:30:07.938763",
     "status": "completed"
    },
    "tags": []
   },
   "outputs": [
    {
     "data": {
      "text/html": [
       "<div>\n",
       "<style scoped>\n",
       "    .dataframe tbody tr th:only-of-type {\n",
       "        vertical-align: middle;\n",
       "    }\n",
       "\n",
       "    .dataframe tbody tr th {\n",
       "        vertical-align: top;\n",
       "    }\n",
       "\n",
       "    .dataframe thead th {\n",
       "        text-align: right;\n",
       "    }\n",
       "</style>\n",
       "<table border=\"1\" class=\"dataframe\">\n",
       "  <thead>\n",
       "    <tr style=\"text-align: right;\">\n",
       "      <th></th>\n",
       "      <th>RECORD_TIME</th>\n",
       "    </tr>\n",
       "  </thead>\n",
       "  <tbody>\n",
       "    <tr>\n",
       "      <th>0</th>\n",
       "      <td>2021-09-21 21:30</td>\n",
       "    </tr>\n",
       "    <tr>\n",
       "      <th>1</th>\n",
       "      <td>2021-09-21 21:00</td>\n",
       "    </tr>\n",
       "  </tbody>\n",
       "</table>\n",
       "</div>"
      ],
      "text/plain": [
       "        RECORD_TIME\n",
       "0  2021-09-21 21:30\n",
       "1  2021-09-21 21:00"
      ]
     },
     "execution_count": 3,
     "metadata": {},
     "output_type": "execute_result"
    }
   ],
   "source": [
    "timestamps"
   ]
  },
  {
   "cell_type": "code",
   "execution_count": 4,
   "id": "alternate-victory",
   "metadata": {
    "execution": {
     "iopub.execute_input": "2021-09-21T19:30:08.056776Z",
     "iopub.status.busy": "2021-09-21T19:30:08.054552Z",
     "iopub.status.idle": "2021-09-21T19:30:08.556668Z",
     "shell.execute_reply": "2021-09-21T19:30:08.557894Z"
    },
    "papermill": {
     "duration": 0.532105,
     "end_time": "2021-09-21T19:30:08.558288",
     "exception": false,
     "start_time": "2021-09-21T19:30:08.026183",
     "status": "completed"
    },
    "tags": []
   },
   "outputs": [],
   "source": [
    "df = pd.read_sql(\"select * from EBAY_TOP_BERLIN where record_time in (select distinct record_time from EBAY_TOP_BERLIN order by record_time desc limit 2)\", sqlite3.connect(\"UsedObjects.db\"))"
   ]
  },
  {
   "cell_type": "code",
   "execution_count": 5,
   "id": "popular-active",
   "metadata": {
    "execution": {
     "iopub.execute_input": "2021-09-21T19:30:08.639200Z",
     "iopub.status.busy": "2021-09-21T19:30:08.626006Z",
     "iopub.status.idle": "2021-09-21T19:30:08.654575Z",
     "shell.execute_reply": "2021-09-21T19:30:08.655882Z"
    },
    "papermill": {
     "duration": 0.071725,
     "end_time": "2021-09-21T19:30:08.656276",
     "exception": false,
     "start_time": "2021-09-21T19:30:08.584551",
     "status": "completed"
    },
    "tags": []
   },
   "outputs": [],
   "source": [
    "df_pivot = df.pivot_table(index=\"PRODUCT\", columns = \"RECORD_TIME\", values = \"LISTING_COUNT\")"
   ]
  },
  {
   "cell_type": "code",
   "execution_count": 6,
   "id": "union-huntington",
   "metadata": {
    "execution": {
     "iopub.execute_input": "2021-09-21T19:30:08.713196Z",
     "iopub.status.busy": "2021-09-21T19:30:08.711055Z",
     "iopub.status.idle": "2021-09-21T19:30:08.716655Z",
     "shell.execute_reply": "2021-09-21T19:30:08.717922Z"
    },
    "papermill": {
     "duration": 0.041065,
     "end_time": "2021-09-21T19:30:08.718371",
     "exception": false,
     "start_time": "2021-09-21T19:30:08.677306",
     "status": "completed"
    },
    "tags": []
   },
   "outputs": [],
   "source": [
    "df_pivot.columns = [\"stamp_1\", \"stamp_2\"]\n",
    "df_pivot_diff = df_pivot.diff(axis=1)"
   ]
  },
  {
   "cell_type": "code",
   "execution_count": 7,
   "id": "fifth-motion",
   "metadata": {
    "execution": {
     "iopub.execute_input": "2021-09-21T19:30:08.776089Z",
     "iopub.status.busy": "2021-09-21T19:30:08.773416Z",
     "iopub.status.idle": "2021-09-21T19:30:10.235174Z",
     "shell.execute_reply": "2021-09-21T19:30:10.236696Z"
    },
    "papermill": {
     "duration": 1.495713,
     "end_time": "2021-09-21T19:30:10.237146",
     "exception": false,
     "start_time": "2021-09-21T19:30:08.741433",
     "status": "completed"
    },
    "tags": []
   },
   "outputs": [
    {
     "data": {
      "text/plain": [
       "<AxesSubplot:ylabel='PRODUCT'>"
      ]
     },
     "execution_count": 7,
     "metadata": {},
     "output_type": "execute_result"
    },
    {
     "data": {
      "image/png": "[encoded data removed]",
      "text/plain": [
       "<Figure size 432x288 with 1 Axes>"
      ]
     },
     "metadata": {
      "needs_background": "light"
     },
     "output_type": "display_data"
    }
   ],
   "source": [
    "df_pivot_diff.sort_values(\"stamp_2\", ascending = False)[\"stamp_2\"].head(10).plot.barh()"
   ]
  },
  {
   "cell_type": "code",
   "execution_count": null,
   "id": "extra-executive",
   "metadata": {
    "papermill": {
     "duration": 0.022426,
     "end_time": "2021-09-21T19:30:10.284974",
     "exception": false,
     "start_time": "2021-09-21T19:30:10.262548",
     "status": "completed"
    },
    "tags": []
   },
   "outputs": [],
   "source": []
  }
 ],
 "metadata": {
  "kernelspec": {
   "display_name": "Python 3",
   "language": "python",
   "name": "python3"
  },
  "language_info": {
   "codemirror_mode": {
    "name": "ipython",
    "version": 3
   },
   "file_extension": ".py",
   "mimetype": "text/x-python",
   "name": "python",
   "nbconvert_exporter": "python",
   "pygments_lexer": "ipython3",
   "version": "3.9.5"
  },
  "papermill": {
   "default_parameters": {},
   "duration": 6.667215,
   "end_time": "2021-09-21T19:30:10.929527",
   "environment_variables": {},
   "exception": null,
   "input_path": "eBay_Overview.ipynb",
   "output_path": "eBay_Overview.ipynb",
   "parameters": {},
   "start_time": "2021-09-21T19:30:04.262312",
   "version": "2.3.3"
  }
 },
 "nbformat": 4,
 "nbformat_minor": 5
}