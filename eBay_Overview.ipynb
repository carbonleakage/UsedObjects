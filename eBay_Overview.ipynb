{
 "cells": [
  {
   "cell_type": "code",
   "execution_count": 1,
   "id": "reverse-picking",
   "metadata": {
    "execution": {
     "iopub.execute_input": "2021-10-13T11:30:06.859422Z",
     "iopub.status.busy": "2021-10-13T11:30:06.857487Z",
     "iopub.status.idle": "2021-10-13T11:30:07.659562Z",
     "shell.execute_reply": "2021-10-13T11:30:07.660958Z"
    },
    "papermill": {
     "duration": 0.854385,
     "end_time": "2021-10-13T11:30:07.661635",
     "exception": false,
     "start_time": "2021-10-13T11:30:06.807250",
     "status": "completed"
    },
    "tags": []
   },
   "outputs": [],
   "source": [
    "import pandas as pd\n",
    "import sqlite3"
   ]
  },
  {
   "cell_type": "code",
   "execution_count": 2,
   "id": "innovative-syndrome",
   "metadata": {
    "execution": {
     "iopub.execute_input": "2021-10-13T11:30:07.712409Z",
     "iopub.status.busy": "2021-10-13T11:30:07.710484Z",
     "iopub.status.idle": "2021-10-13T11:30:08.229412Z",
     "shell.execute_reply": "2021-10-13T11:30:08.230636Z"
    },
    "papermill": {
     "duration": 0.549028,
     "end_time": "2021-10-13T11:30:08.231035",
     "exception": false,
     "start_time": "2021-10-13T11:30:07.682007",
     "status": "completed"
    },
    "tags": []
   },
   "outputs": [],
   "source": [
    "timestamps = pd.read_sql(\"select distinct record_time from EBAY_TOP_BERLIN order by record_time desc limit 2\", sqlite3.connect(\"UsedObjects.db\"))"
   ]
  },
  {
   "cell_type": "code",
   "execution_count": 3,
   "id": "periodic-identification",
   "metadata": {
    "execution": {
     "iopub.execute_input": "2021-10-13T11:30:08.296837Z",
     "iopub.status.busy": "2021-10-13T11:30:08.295183Z",
     "iopub.status.idle": "2021-10-13T11:30:08.319442Z",
     "shell.execute_reply": "2021-10-13T11:30:08.320648Z"
    },
    "papermill": {
     "duration": 0.06908,
     "end_time": "2021-10-13T11:30:08.321136",
     "exception": false,
     "start_time": "2021-10-13T11:30:08.252056",
     "status": "completed"
    },
    "tags": []
   },
   "outputs": [
    {
     "data": {
      "text/html": [
       "<div>\n",
       "<style scoped>\n",
       "    .dataframe tbody tr th:only-of-type {\n",
       "        vertical-align: middle;\n",
       "    }\n",
       "\n",
       "    .dataframe tbody tr th {\n",
       "        vertical-align: top;\n",
       "    }\n",
       "\n",
       "    .dataframe thead th {\n",
       "        text-align: right;\n",
       "    }\n",
       "</style>\n",
       "<table border=\"1\" class=\"dataframe\">\n",
       "  <thead>\n",
       "    <tr style=\"text-align: right;\">\n",
       "      <th></th>\n",
       "      <th>RECORD_TIME</th>\n",
       "    </tr>\n",
       "  </thead>\n",
       "  <tbody>\n",
       "    <tr>\n",
       "      <th>0</th>\n",
       "      <td>2021-10-13 13:30</td>\n",
       "    </tr>\n",
       "    <tr>\n",
       "      <th>1</th>\n",
       "      <td>2021-10-13 13:00</td>\n",
       "    </tr>\n",
       "  </tbody>\n",
       "</table>\n",
       "</div>"
      ],
      "text/plain": [
       "        RECORD_TIME\n",
       "0  2021-10-13 13:30\n",
       "1  2021-10-13 13:00"
      ]
     },
     "execution_count": 3,
     "metadata": {},
     "output_type": "execute_result"
    }
   ],
   "source": [
    "timestamps"
   ]
  },
  {
   "cell_type": "code",
   "execution_count": 4,
   "id": "alternate-victory",
   "metadata": {
    "execution": {
     "iopub.execute_input": "2021-10-13T11:30:08.381183Z",
     "iopub.status.busy": "2021-10-13T11:30:08.379217Z",
     "iopub.status.idle": "2021-10-13T11:30:09.146669Z",
     "shell.execute_reply": "2021-10-13T11:30:09.147870Z"
    },
    "papermill": {
     "duration": 0.800595,
     "end_time": "2021-10-13T11:30:09.148270",
     "exception": false,
     "start_time": "2021-10-13T11:30:08.347675",
     "status": "completed"
    },
    "tags": []
   },
   "outputs": [],
   "source": [
    "df = pd.read_sql(\"select * from EBAY_TOP_BERLIN where record_time in (select distinct record_time from EBAY_TOP_BERLIN order by record_time desc limit 2)\", sqlite3.connect(\"UsedObjects.db\"))"
   ]
  },
  {
   "cell_type": "code",
   "execution_count": 5,
   "id": "popular-active",
   "metadata": {
    "execution": {
     "iopub.execute_input": "2021-10-13T11:30:09.213314Z",
     "iopub.status.busy": "2021-10-13T11:30:09.206695Z",
     "iopub.status.idle": "2021-10-13T11:30:09.234566Z",
     "shell.execute_reply": "2021-10-13T11:30:09.235780Z"
    },
    "papermill": {
     "duration": 0.06765,
     "end_time": "2021-10-13T11:30:09.236178",
     "exception": false,
     "start_time": "2021-10-13T11:30:09.168528",
     "status": "completed"
    },
    "tags": []
   },
   "outputs": [],
   "source": [
    "df_pivot = df.pivot_table(index=\"PRODUCT\", columns = \"RECORD_TIME\", values = \"LISTING_COUNT\")"
   ]
  },
  {
   "cell_type": "code",
   "execution_count": 6,
   "id": "union-huntington",
   "metadata": {
    "execution": {
     "iopub.execute_input": "2021-10-13T11:30:09.292554Z",
     "iopub.status.busy": "2021-10-13T11:30:09.290422Z",
     "iopub.status.idle": "2021-10-13T11:30:09.296001Z",
     "shell.execute_reply": "2021-10-13T11:30:09.297593Z"
    },
    "papermill": {
     "duration": 0.041175,
     "end_time": "2021-10-13T11:30:09.298056",
     "exception": false,
     "start_time": "2021-10-13T11:30:09.256881",
     "status": "completed"
    },
    "tags": []
   },
   "outputs": [],
   "source": [
    "df_pivot.columns = [\"stamp_1\", \"stamp_2\"]\n",
    "df_pivot_diff = df_pivot.diff(axis=1)"
   ]
  },
  {
   "cell_type": "code",
   "execution_count": 7,
   "id": "fifth-motion",
   "metadata": {
    "execution": {
     "iopub.execute_input": "2021-10-13T11:30:09.354273Z",
     "iopub.status.busy": "2021-10-13T11:30:09.351716Z",
     "iopub.status.idle": "2021-10-13T11:30:10.841336Z",
     "shell.execute_reply": "2021-10-13T11:30:10.842638Z"
    },
    "papermill": {
     "duration": 1.523062,
     "end_time": "2021-10-13T11:30:10.843057",
     "exception": false,
     "start_time": "2021-10-13T11:30:09.319995",
     "status": "completed"
    },
    "tags": []
   },
   "outputs": [
    {
     "data": {
      "text/plain": [
       "<AxesSubplot:ylabel='PRODUCT'>"
      ]
     },
     "execution_count": 7,
     "metadata": {},
     "output_type": "execute_result"
    },
    {
     "data": {
      "image/png": "[encoded data removed]",
      "text/plain": [
       "<Figure size 432x288 with 1 Axes>"
      ]
     },
     "metadata": {
      "needs_background": "light"
     },
     "output_type": "display_data"
    }
   ],
   "source": [
    "df_pivot_diff.sort_values(\"stamp_2\", ascending = False)[\"stamp_2\"].head(10).plot.barh()"
   ]
  },
  {
   "cell_type": "code",
   "execution_count": null,
   "id": "extra-executive",
   "metadata": {
    "papermill": {
     "duration": 0.022344,
     "end_time": "2021-10-13T11:30:10.890278",
     "exception": false,
     "start_time": "2021-10-13T11:30:10.867934",
     "status": "completed"
    },
    "tags": []
   },
   "outputs": [],
   "source": []
  }
 ],
 "metadata": {
  "kernelspec": {
   "display_name": "Python 3",
   "language": "python",
   "name": "python3"
  },
  "language_info": {
   "codemirror_mode": {
    "name": "ipython",
    "version": 3
   },
   "file_extension": ".py",
   "mimetype": "text/x-python",
   "name": "python",
   "nbconvert_exporter": "python",
   "pygments_lexer": "ipython3",
   "version": "3.9.5"
  },
  "papermill": {
   "default_parameters": {},
   "duration": 7.815372,
   "end_time": "2021-10-13T11:30:12.231629",
   "environment_variables": {},
   "exception": null,
   "input_path": "eBay_Overview.ipynb",
   "output_path": "eBay_Overview.ipynb",
   "parameters": {},
   "start_time": "2021-10-13T11:30:04.416257",
   "version": "2.3.3"
  }
 },
 "nbformat": 4,
 "nbformat_minor": 5
}