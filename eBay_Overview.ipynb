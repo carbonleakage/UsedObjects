{
 "cells": [
  {
   "cell_type": "code",
   "execution_count": 1,
   "id": "reverse-picking",
   "metadata": {
    "execution": {
     "iopub.execute_input": "2021-12-06T20:30:10.516055Z",
     "iopub.status.busy": "2021-12-06T20:30:10.513838Z",
     "iopub.status.idle": "2021-12-06T20:30:12.547305Z",
     "shell.execute_reply": "2021-12-06T20:30:12.548912Z"
    },
    "papermill": {
     "duration": 2.087049,
     "end_time": "2021-12-06T20:30:12.549661",
     "exception": false,
     "start_time": "2021-12-06T20:30:10.462612",
     "status": "completed"
    },
    "tags": []
   },
   "outputs": [],
   "source": [
    "import pandas as pd\n",
    "import sqlite3"
   ]
  },
  {
   "cell_type": "code",
   "execution_count": 2,
   "id": "innovative-syndrome",
   "metadata": {
    "execution": {
     "iopub.execute_input": "2021-12-06T20:30:12.605695Z",
     "iopub.status.busy": "2021-12-06T20:30:12.603594Z",
     "iopub.status.idle": "2021-12-06T20:30:13.998742Z",
     "shell.execute_reply": "2021-12-06T20:30:13.999934Z"
    },
    "papermill": {
     "duration": 1.429053,
     "end_time": "2021-12-06T20:30:14.000327",
     "exception": false,
     "start_time": "2021-12-06T20:30:12.571274",
     "status": "completed"
    },
    "tags": []
   },
   "outputs": [],
   "source": [
    "timestamps = pd.read_sql(\"select distinct record_time from EBAY_TOP_BERLIN order by record_time desc limit 2\", sqlite3.connect(\"UsedObjects.db\"))"
   ]
  },
  {
   "cell_type": "code",
   "execution_count": 3,
   "id": "periodic-identification",
   "metadata": {
    "execution": {
     "iopub.execute_input": "2021-12-06T20:30:14.073241Z",
     "iopub.status.busy": "2021-12-06T20:30:14.070814Z",
     "iopub.status.idle": "2021-12-06T20:30:14.095570Z",
     "shell.execute_reply": "2021-12-06T20:30:14.097111Z"
    },
    "papermill": {
     "duration": 0.076807,
     "end_time": "2021-12-06T20:30:14.097624",
     "exception": false,
     "start_time": "2021-12-06T20:30:14.020817",
     "status": "completed"
    },
    "tags": []
   },
   "outputs": [
    {
     "data": {
      "text/html": [
       "<div>\n",
       "<style scoped>\n",
       "    .dataframe tbody tr th:only-of-type {\n",
       "        vertical-align: middle;\n",
       "    }\n",
       "\n",
       "    .dataframe tbody tr th {\n",
       "        vertical-align: top;\n",
       "    }\n",
       "\n",
       "    .dataframe thead th {\n",
       "        text-align: right;\n",
       "    }\n",
       "</style>\n",
       "<table border=\"1\" class=\"dataframe\">\n",
       "  <thead>\n",
       "    <tr style=\"text-align: right;\">\n",
       "      <th></th>\n",
       "      <th>RECORD_TIME</th>\n",
       "    </tr>\n",
       "  </thead>\n",
       "  <tbody>\n",
       "    <tr>\n",
       "      <th>0</th>\n",
       "      <td>2021-12-06 21:30</td>\n",
       "    </tr>\n",
       "    <tr>\n",
       "      <th>1</th>\n",
       "      <td>2021-12-06 21:00</td>\n",
       "    </tr>\n",
       "  </tbody>\n",
       "</table>\n",
       "</div>"
      ],
      "text/plain": [
       "        RECORD_TIME\n",
       "0  2021-12-06 21:30\n",
       "1  2021-12-06 21:00"
      ]
     },
     "execution_count": 3,
     "metadata": {},
     "output_type": "execute_result"
    }
   ],
   "source": [
    "timestamps"
   ]
  },
  {
   "cell_type": "code",
   "execution_count": 4,
   "id": "alternate-victory",
   "metadata": {
    "execution": {
     "iopub.execute_input": "2021-12-06T20:30:14.154720Z",
     "iopub.status.busy": "2021-12-06T20:30:14.152491Z",
     "iopub.status.idle": "2021-12-06T20:30:15.609534Z",
     "shell.execute_reply": "2021-12-06T20:30:15.611012Z"
    },
    "papermill": {
     "duration": 1.491875,
     "end_time": "2021-12-06T20:30:15.611476",
     "exception": false,
     "start_time": "2021-12-06T20:30:14.119601",
     "status": "completed"
    },
    "tags": []
   },
   "outputs": [],
   "source": [
    "df = pd.read_sql(\"select * from EBAY_TOP_BERLIN where record_time in (select distinct record_time from EBAY_TOP_BERLIN order by record_time desc limit 2)\", sqlite3.connect(\"UsedObjects.db\"))"
   ]
  },
  {
   "cell_type": "code",
   "execution_count": 5,
   "id": "popular-active",
   "metadata": {
    "execution": {
     "iopub.execute_input": "2021-12-06T20:30:15.711738Z",
     "iopub.status.busy": "2021-12-06T20:30:15.687661Z",
     "iopub.status.idle": "2021-12-06T20:30:15.752411Z",
     "shell.execute_reply": "2021-12-06T20:30:15.754025Z"
    },
    "papermill": {
     "duration": 0.12202,
     "end_time": "2021-12-06T20:30:15.754519",
     "exception": false,
     "start_time": "2021-12-06T20:30:15.632499",
     "status": "completed"
    },
    "tags": []
   },
   "outputs": [],
   "source": [
    "df_pivot = df.pivot_table(index=\"PRODUCT\", columns = \"RECORD_TIME\", values = \"LISTING_COUNT\")"
   ]
  },
  {
   "cell_type": "code",
   "execution_count": 6,
   "id": "union-huntington",
   "metadata": {
    "execution": {
     "iopub.execute_input": "2021-12-06T20:30:15.813456Z",
     "iopub.status.busy": "2021-12-06T20:30:15.811311Z",
     "iopub.status.idle": "2021-12-06T20:30:15.817966Z",
     "shell.execute_reply": "2021-12-06T20:30:15.816248Z"
    },
    "papermill": {
     "duration": 0.043271,
     "end_time": "2021-12-06T20:30:15.818403",
     "exception": false,
     "start_time": "2021-12-06T20:30:15.775132",
     "status": "completed"
    },
    "tags": []
   },
   "outputs": [],
   "source": [
    "df_pivot.columns = [\"stamp_1\", \"stamp_2\"]\n",
    "df_pivot_diff = df_pivot.diff(axis=1)"
   ]
  },
  {
   "cell_type": "code",
   "execution_count": 7,
   "id": "fifth-motion",
   "metadata": {
    "execution": {
     "iopub.execute_input": "2021-12-06T20:30:15.873548Z",
     "iopub.status.busy": "2021-12-06T20:30:15.871468Z",
     "iopub.status.idle": "2021-12-06T20:30:18.198849Z",
     "shell.execute_reply": "2021-12-06T20:30:18.200206Z"
    },
    "papermill": {
     "duration": 2.362326,
     "end_time": "2021-12-06T20:30:18.200733",
     "exception": false,
     "start_time": "2021-12-06T20:30:15.838407",
     "status": "completed"
    },
    "tags": []
   },
   "outputs": [
    {
     "data": {
      "text/plain": [
       "<AxesSubplot:ylabel='PRODUCT'>"
      ]
     },
     "execution_count": 7,
     "metadata": {},
     "output_type": "execute_result"
    },
    {
     "data": {
      "image/png": "[encoded data removed]",
      "text/plain": [
       "<Figure size 432x288 with 1 Axes>"
      ]
     },
     "metadata": {
      "needs_background": "light"
     },
     "output_type": "display_data"
    }
   ],
   "source": [
    "df_pivot_diff.sort_values(\"stamp_2\", ascending = False)[\"stamp_2\"].head(10).plot.barh()"
   ]
  },
  {
   "cell_type": "code",
   "execution_count": null,
   "id": "extra-executive",
   "metadata": {
    "papermill": {
     "duration": 0.021938,
     "end_time": "2021-12-06T20:30:18.247902",
     "exception": false,
     "start_time": "2021-12-06T20:30:18.225964",
     "status": "completed"
    },
    "tags": []
   },
   "outputs": [],
   "source": []
  }
 ],
 "metadata": {
  "kernelspec": {
   "display_name": "Python 3",
   "language": "python",
   "name": "python3"
  },
  "language_info": {
   "codemirror_mode": {
    "name": "ipython",
    "version": 3
   },
   "file_extension": ".py",
   "mimetype": "text/x-python",
   "name": "python",
   "nbconvert_exporter": "python",
   "pygments_lexer": "ipython3",
   "version": "3.9.5"
  },
  "papermill": {
   "default_parameters": {},
   "duration": 12.552995,
   "end_time": "2021-12-06T20:30:19.659355",
   "environment_variables": {},
   "exception": null,
   "input_path": "eBay_Overview.ipynb",
   "output_path": "eBay_Overview.ipynb",
   "parameters": {},
   "start_time": "2021-12-06T20:30:07.106360",
   "version": "2.3.3"
  }
 },
 "nbformat": 4,
 "nbformat_minor": 5
}