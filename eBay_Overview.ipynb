{
 "cells": [
  {
   "cell_type": "code",
   "execution_count": 1,
   "id": "reverse-picking",
   "metadata": {
    "execution": {
     "iopub.execute_input": "2021-11-01T06:00:06.967110Z",
     "iopub.status.busy": "2021-11-01T06:00:06.965154Z",
     "iopub.status.idle": "2021-11-01T06:00:07.774633Z",
     "shell.execute_reply": "2021-11-01T06:00:07.775890Z"
    },
    "papermill": {
     "duration": 0.863462,
     "end_time": "2021-11-01T06:00:07.776511",
     "exception": false,
     "start_time": "2021-11-01T06:00:06.913049",
     "status": "completed"
    },
    "tags": []
   },
   "outputs": [],
   "source": [
    "import pandas as pd\n",
    "import sqlite3"
   ]
  },
  {
   "cell_type": "code",
   "execution_count": 2,
   "id": "innovative-syndrome",
   "metadata": {
    "execution": {
     "iopub.execute_input": "2021-11-01T06:00:07.829690Z",
     "iopub.status.busy": "2021-11-01T06:00:07.827290Z",
     "iopub.status.idle": "2021-11-01T06:00:08.512565Z",
     "shell.execute_reply": "2021-11-01T06:00:08.513845Z"
    },
    "papermill": {
     "duration": 0.715231,
     "end_time": "2021-11-01T06:00:08.514256",
     "exception": false,
     "start_time": "2021-11-01T06:00:07.799025",
     "status": "completed"
    },
    "tags": []
   },
   "outputs": [],
   "source": [
    "timestamps = pd.read_sql(\"select distinct record_time from EBAY_TOP_BERLIN order by record_time desc limit 2\", sqlite3.connect(\"UsedObjects.db\"))"
   ]
  },
  {
   "cell_type": "code",
   "execution_count": 3,
   "id": "periodic-identification",
   "metadata": {
    "execution": {
     "iopub.execute_input": "2021-11-01T06:00:08.579522Z",
     "iopub.status.busy": "2021-11-01T06:00:08.577488Z",
     "iopub.status.idle": "2021-11-01T06:00:08.597438Z",
     "shell.execute_reply": "2021-11-01T06:00:08.598683Z"
    },
    "papermill": {
     "duration": 0.063344,
     "end_time": "2021-11-01T06:00:08.599087",
     "exception": false,
     "start_time": "2021-11-01T06:00:08.535743",
     "status": "completed"
    },
    "tags": []
   },
   "outputs": [
    {
     "data": {
      "text/html": [
       "<div>\n",
       "<style scoped>\n",
       "    .dataframe tbody tr th:only-of-type {\n",
       "        vertical-align: middle;\n",
       "    }\n",
       "\n",
       "    .dataframe tbody tr th {\n",
       "        vertical-align: top;\n",
       "    }\n",
       "\n",
       "    .dataframe thead th {\n",
       "        text-align: right;\n",
       "    }\n",
       "</style>\n",
       "<table border=\"1\" class=\"dataframe\">\n",
       "  <thead>\n",
       "    <tr style=\"text-align: right;\">\n",
       "      <th></th>\n",
       "      <th>RECORD_TIME</th>\n",
       "    </tr>\n",
       "  </thead>\n",
       "  <tbody>\n",
       "    <tr>\n",
       "      <th>0</th>\n",
       "      <td>2021-11-01 07:00</td>\n",
       "    </tr>\n",
       "    <tr>\n",
       "      <th>1</th>\n",
       "      <td>2021-11-01 06:30</td>\n",
       "    </tr>\n",
       "  </tbody>\n",
       "</table>\n",
       "</div>"
      ],
      "text/plain": [
       "        RECORD_TIME\n",
       "0  2021-11-01 07:00\n",
       "1  2021-11-01 06:30"
      ]
     },
     "execution_count": 3,
     "metadata": {},
     "output_type": "execute_result"
    }
   ],
   "source": [
    "timestamps"
   ]
  },
  {
   "cell_type": "code",
   "execution_count": 4,
   "id": "alternate-victory",
   "metadata": {
    "execution": {
     "iopub.execute_input": "2021-11-01T06:00:08.650396Z",
     "iopub.status.busy": "2021-11-01T06:00:08.648413Z",
     "iopub.status.idle": "2021-11-01T06:00:09.670950Z",
     "shell.execute_reply": "2021-11-01T06:00:09.672235Z"
    },
    "papermill": {
     "duration": 1.052587,
     "end_time": "2021-11-01T06:00:09.672654",
     "exception": false,
     "start_time": "2021-11-01T06:00:08.620067",
     "status": "completed"
    },
    "tags": []
   },
   "outputs": [],
   "source": [
    "df = pd.read_sql(\"select * from EBAY_TOP_BERLIN where record_time in (select distinct record_time from EBAY_TOP_BERLIN order by record_time desc limit 2)\", sqlite3.connect(\"UsedObjects.db\"))"
   ]
  },
  {
   "cell_type": "code",
   "execution_count": 5,
   "id": "popular-active",
   "metadata": {
    "execution": {
     "iopub.execute_input": "2021-11-01T06:00:09.738368Z",
     "iopub.status.busy": "2021-11-01T06:00:09.732006Z",
     "iopub.status.idle": "2021-11-01T06:00:09.759222Z",
     "shell.execute_reply": "2021-11-01T06:00:09.760435Z"
    },
    "papermill": {
     "duration": 0.067375,
     "end_time": "2021-11-01T06:00:09.761027",
     "exception": false,
     "start_time": "2021-11-01T06:00:09.693652",
     "status": "completed"
    },
    "tags": []
   },
   "outputs": [],
   "source": [
    "df_pivot = df.pivot_table(index=\"PRODUCT\", columns = \"RECORD_TIME\", values = \"LISTING_COUNT\")"
   ]
  },
  {
   "cell_type": "code",
   "execution_count": 6,
   "id": "union-huntington",
   "metadata": {
    "execution": {
     "iopub.execute_input": "2021-11-01T06:00:09.820385Z",
     "iopub.status.busy": "2021-11-01T06:00:09.817922Z",
     "iopub.status.idle": "2021-11-01T06:00:09.823343Z",
     "shell.execute_reply": "2021-11-01T06:00:09.824767Z"
    },
    "papermill": {
     "duration": 0.041886,
     "end_time": "2021-11-01T06:00:09.825215",
     "exception": false,
     "start_time": "2021-11-01T06:00:09.783329",
     "status": "completed"
    },
    "tags": []
   },
   "outputs": [],
   "source": [
    "df_pivot.columns = [\"stamp_1\", \"stamp_2\"]\n",
    "df_pivot_diff = df_pivot.diff(axis=1)"
   ]
  },
  {
   "cell_type": "code",
   "execution_count": 7,
   "id": "fifth-motion",
   "metadata": {
    "execution": {
     "iopub.execute_input": "2021-11-01T06:00:09.879643Z",
     "iopub.status.busy": "2021-11-01T06:00:09.877374Z",
     "iopub.status.idle": "2021-11-01T06:00:11.380083Z",
     "shell.execute_reply": "2021-11-01T06:00:11.381509Z"
    },
    "papermill": {
     "duration": 1.536,
     "end_time": "2021-11-01T06:00:11.381964",
     "exception": false,
     "start_time": "2021-11-01T06:00:09.845964",
     "status": "completed"
    },
    "tags": []
   },
   "outputs": [
    {
     "data": {
      "text/plain": [
       "<AxesSubplot:ylabel='PRODUCT'>"
      ]
     },
     "execution_count": 7,
     "metadata": {},
     "output_type": "execute_result"
    },
    {
     "data": {
      "image/png": "[encoded data removed]",
      "text/plain": [
       "<Figure size 432x288 with 1 Axes>"
      ]
     },
     "metadata": {
      "needs_background": "light"
     },
     "output_type": "display_data"
    }
   ],
   "source": [
    "df_pivot_diff.sort_values(\"stamp_2\", ascending = False)[\"stamp_2\"].head(10).plot.barh()"
   ]
  },
  {
   "cell_type": "code",
   "execution_count": null,
   "id": "extra-executive",
   "metadata": {
    "papermill": {
     "duration": 0.022102,
     "end_time": "2021-11-01T06:00:11.430008",
     "exception": false,
     "start_time": "2021-11-01T06:00:11.407906",
     "status": "completed"
    },
    "tags": []
   },
   "outputs": [],
   "source": []
  }
 ],
 "metadata": {
  "kernelspec": {
   "display_name": "Python 3",
   "language": "python",
   "name": "python3"
  },
  "language_info": {
   "codemirror_mode": {
    "name": "ipython",
    "version": 3
   },
   "file_extension": ".py",
   "mimetype": "text/x-python",
   "name": "python",
   "nbconvert_exporter": "python",
   "pygments_lexer": "ipython3",
   "version": "3.9.5"
  },
  "papermill": {
   "default_parameters": {},
   "duration": 7.726008,
   "end_time": "2021-11-01T06:00:12.073682",
   "environment_variables": {},
   "exception": null,
   "input_path": "eBay_Overview.ipynb",
   "output_path": "eBay_Overview.ipynb",
   "parameters": {},
   "start_time": "2021-11-01T06:00:04.347674",
   "version": "2.3.3"
  }
 },
 "nbformat": 4,
 "nbformat_minor": 5
}