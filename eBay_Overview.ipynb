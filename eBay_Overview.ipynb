{
 "cells": [
  {
   "cell_type": "code",
   "execution_count": 1,
   "id": "reverse-picking",
   "metadata": {
    "execution": {
     "iopub.execute_input": "2021-08-28T18:00:06.686397Z",
     "iopub.status.busy": "2021-08-28T18:00:06.684495Z",
     "iopub.status.idle": "2021-08-28T18:00:07.487395Z",
     "shell.execute_reply": "2021-08-28T18:00:07.485854Z"
    },
    "papermill": {
     "duration": 0.853959,
     "end_time": "2021-08-28T18:00:07.487790",
     "exception": false,
     "start_time": "2021-08-28T18:00:06.633831",
     "status": "completed"
    },
    "tags": []
   },
   "outputs": [],
   "source": [
    "import pandas as pd\n",
    "import sqlite3"
   ]
  },
  {
   "cell_type": "code",
   "execution_count": 2,
   "id": "innovative-syndrome",
   "metadata": {
    "execution": {
     "iopub.execute_input": "2021-08-28T18:00:07.538757Z",
     "iopub.status.busy": "2021-08-28T18:00:07.536907Z",
     "iopub.status.idle": "2021-08-28T18:00:07.687621Z",
     "shell.execute_reply": "2021-08-28T18:00:07.688945Z"
    },
    "papermill": {
     "duration": 0.18057,
     "end_time": "2021-08-28T18:00:07.689370",
     "exception": false,
     "start_time": "2021-08-28T18:00:07.508800",
     "status": "completed"
    },
    "tags": []
   },
   "outputs": [],
   "source": [
    "timestamps = pd.read_sql(\"select distinct record_time from EBAY_TOP_BERLIN order by record_time desc limit 2\", sqlite3.connect(\"UsedObjects.db\"))"
   ]
  },
  {
   "cell_type": "code",
   "execution_count": 3,
   "id": "periodic-identification",
   "metadata": {
    "execution": {
     "iopub.execute_input": "2021-08-28T18:00:07.754264Z",
     "iopub.status.busy": "2021-08-28T18:00:07.752143Z",
     "iopub.status.idle": "2021-08-28T18:00:07.771791Z",
     "shell.execute_reply": "2021-08-28T18:00:07.773206Z"
    },
    "papermill": {
     "duration": 0.064434,
     "end_time": "2021-08-28T18:00:07.773641",
     "exception": false,
     "start_time": "2021-08-28T18:00:07.709207",
     "status": "completed"
    },
    "tags": []
   },
   "outputs": [
    {
     "data": {
      "text/html": [
       "<div>\n",
       "<style scoped>\n",
       "    .dataframe tbody tr th:only-of-type {\n",
       "        vertical-align: middle;\n",
       "    }\n",
       "\n",
       "    .dataframe tbody tr th {\n",
       "        vertical-align: top;\n",
       "    }\n",
       "\n",
       "    .dataframe thead th {\n",
       "        text-align: right;\n",
       "    }\n",
       "</style>\n",
       "<table border=\"1\" class=\"dataframe\">\n",
       "  <thead>\n",
       "    <tr style=\"text-align: right;\">\n",
       "      <th></th>\n",
       "      <th>RECORD_TIME</th>\n",
       "    </tr>\n",
       "  </thead>\n",
       "  <tbody>\n",
       "    <tr>\n",
       "      <th>0</th>\n",
       "      <td>2021-08-28 20:00</td>\n",
       "    </tr>\n",
       "    <tr>\n",
       "      <th>1</th>\n",
       "      <td>2021-08-28 19:30</td>\n",
       "    </tr>\n",
       "  </tbody>\n",
       "</table>\n",
       "</div>"
      ],
      "text/plain": [
       "        RECORD_TIME\n",
       "0  2021-08-28 20:00\n",
       "1  2021-08-28 19:30"
      ]
     },
     "execution_count": 3,
     "metadata": {},
     "output_type": "execute_result"
    }
   ],
   "source": [
    "timestamps"
   ]
  },
  {
   "cell_type": "code",
   "execution_count": 4,
   "id": "alternate-victory",
   "metadata": {
    "execution": {
     "iopub.execute_input": "2021-08-28T18:00:07.825552Z",
     "iopub.status.busy": "2021-08-28T18:00:07.823510Z",
     "iopub.status.idle": "2021-08-28T18:00:08.054371Z",
     "shell.execute_reply": "2021-08-28T18:00:08.055650Z"
    },
    "papermill": {
     "duration": 0.261094,
     "end_time": "2021-08-28T18:00:08.056069",
     "exception": false,
     "start_time": "2021-08-28T18:00:07.794975",
     "status": "completed"
    },
    "tags": []
   },
   "outputs": [],
   "source": [
    "df = pd.read_sql(\"select * from EBAY_TOP_BERLIN where record_time in (select distinct record_time from EBAY_TOP_BERLIN order by record_time desc limit 2)\", sqlite3.connect(\"UsedObjects.db\"))"
   ]
  },
  {
   "cell_type": "code",
   "execution_count": 5,
   "id": "popular-active",
   "metadata": {
    "execution": {
     "iopub.execute_input": "2021-08-28T18:00:08.127473Z",
     "iopub.status.busy": "2021-08-28T18:00:08.115030Z",
     "iopub.status.idle": "2021-08-28T18:00:08.145461Z",
     "shell.execute_reply": "2021-08-28T18:00:08.146826Z"
    },
    "papermill": {
     "duration": 0.070265,
     "end_time": "2021-08-28T18:00:08.147267",
     "exception": false,
     "start_time": "2021-08-28T18:00:08.077002",
     "status": "completed"
    },
    "tags": []
   },
   "outputs": [],
   "source": [
    "df_pivot = df.pivot_table(index=\"PRODUCT\", columns = \"RECORD_TIME\", values = \"LISTING_COUNT\")"
   ]
  },
  {
   "cell_type": "code",
   "execution_count": 6,
   "id": "union-huntington",
   "metadata": {
    "execution": {
     "iopub.execute_input": "2021-08-28T18:00:08.215052Z",
     "iopub.status.busy": "2021-08-28T18:00:08.212447Z",
     "iopub.status.idle": "2021-08-28T18:00:08.218461Z",
     "shell.execute_reply": "2021-08-28T18:00:08.219769Z"
    },
    "papermill": {
     "duration": 0.04675,
     "end_time": "2021-08-28T18:00:08.220187",
     "exception": false,
     "start_time": "2021-08-28T18:00:08.173437",
     "status": "completed"
    },
    "tags": []
   },
   "outputs": [],
   "source": [
    "df_pivot.columns = [\"stamp_1\", \"stamp_2\"]\n",
    "df_pivot_diff = df_pivot.diff(axis=1)"
   ]
  },
  {
   "cell_type": "code",
   "execution_count": 7,
   "id": "fifth-motion",
   "metadata": {
    "execution": {
     "iopub.execute_input": "2021-08-28T18:00:08.274730Z",
     "iopub.status.busy": "2021-08-28T18:00:08.272348Z",
     "iopub.status.idle": "2021-08-28T18:00:09.727670Z",
     "shell.execute_reply": "2021-08-28T18:00:09.729020Z"
    },
    "papermill": {
     "duration": 1.488457,
     "end_time": "2021-08-28T18:00:09.729448",
     "exception": false,
     "start_time": "2021-08-28T18:00:08.240991",
     "status": "completed"
    },
    "tags": []
   },
   "outputs": [
    {
     "data": {
      "text/plain": [
       "<AxesSubplot:ylabel='PRODUCT'>"
      ]
     },
     "execution_count": 7,
     "metadata": {},
     "output_type": "execute_result"
    },
    {
     "data": {
      "image/png": "[encoded data removed]",
      "text/plain": [
       "<Figure size 432x288 with 1 Axes>"
      ]
     },
     "metadata": {
      "needs_background": "light"
     },
     "output_type": "display_data"
    }
   ],
   "source": [
    "df_pivot_diff.sort_values(\"stamp_2\", ascending = False)[\"stamp_2\"].head(10).plot.barh()"
   ]
  },
  {
   "cell_type": "code",
   "execution_count": null,
   "id": "extra-executive",
   "metadata": {
    "papermill": {
     "duration": 0.022512,
     "end_time": "2021-08-28T18:00:09.777007",
     "exception": false,
     "start_time": "2021-08-28T18:00:09.754495",
     "status": "completed"
    },
    "tags": []
   },
   "outputs": [],
   "source": []
  }
 ],
 "metadata": {
  "kernelspec": {
   "display_name": "Python 3",
   "language": "python",
   "name": "python3"
  },
  "language_info": {
   "codemirror_mode": {
    "name": "ipython",
    "version": 3
   },
   "file_extension": ".py",
   "mimetype": "text/x-python",
   "name": "python",
   "nbconvert_exporter": "python",
   "pygments_lexer": "ipython3",
   "version": "3.9.5"
  },
  "papermill": {
   "default_parameters": {},
   "duration": 6.819225,
   "end_time": "2021-08-28T18:00:11.054208",
   "environment_variables": {},
   "exception": null,
   "input_path": "eBay_Overview.ipynb",
   "output_path": "eBay_Overview.ipynb",
   "parameters": {},
   "start_time": "2021-08-28T18:00:04.234983",
   "version": "2.3.3"
  }
 },
 "nbformat": 4,
 "nbformat_minor": 5
}