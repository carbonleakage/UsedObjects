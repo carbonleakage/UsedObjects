{
 "cells": [
  {
   "cell_type": "code",
   "execution_count": 1,
   "id": "reverse-picking",
   "metadata": {
    "execution": {
     "iopub.execute_input": "2021-11-03T08:00:07.749944Z",
     "iopub.status.busy": "2021-11-03T08:00:07.734072Z",
     "iopub.status.idle": "2021-11-03T08:00:08.696946Z",
     "shell.execute_reply": "2021-11-03T08:00:08.698487Z"
    },
    "papermill": {
     "duration": 0.995394,
     "end_time": "2021-11-03T08:00:08.699225",
     "exception": false,
     "start_time": "2021-11-03T08:00:07.703831",
     "status": "completed"
    },
    "tags": []
   },
   "outputs": [],
   "source": [
    "import pandas as pd\n",
    "import sqlite3"
   ]
  },
  {
   "cell_type": "code",
   "execution_count": 2,
   "id": "innovative-syndrome",
   "metadata": {
    "execution": {
     "iopub.execute_input": "2021-11-03T08:00:08.775395Z",
     "iopub.status.busy": "2021-11-03T08:00:08.773042Z",
     "iopub.status.idle": "2021-11-03T08:00:09.495248Z",
     "shell.execute_reply": "2021-11-03T08:00:09.496948Z"
    },
    "papermill": {
     "duration": 0.776262,
     "end_time": "2021-11-03T08:00:09.497447",
     "exception": false,
     "start_time": "2021-11-03T08:00:08.721185",
     "status": "completed"
    },
    "tags": []
   },
   "outputs": [],
   "source": [
    "timestamps = pd.read_sql(\"select distinct record_time from EBAY_TOP_BERLIN order by record_time desc limit 2\", sqlite3.connect(\"UsedObjects.db\"))"
   ]
  },
  {
   "cell_type": "code",
   "execution_count": 3,
   "id": "periodic-identification",
   "metadata": {
    "execution": {
     "iopub.execute_input": "2021-11-03T08:00:09.572022Z",
     "iopub.status.busy": "2021-11-03T08:00:09.566348Z",
     "iopub.status.idle": "2021-11-03T08:00:09.588901Z",
     "shell.execute_reply": "2021-11-03T08:00:09.590663Z"
    },
    "papermill": {
     "duration": 0.072827,
     "end_time": "2021-11-03T08:00:09.591164",
     "exception": false,
     "start_time": "2021-11-03T08:00:09.518337",
     "status": "completed"
    },
    "tags": []
   },
   "outputs": [
    {
     "data": {
      "text/html": [
       "<div>\n",
       "<style scoped>\n",
       "    .dataframe tbody tr th:only-of-type {\n",
       "        vertical-align: middle;\n",
       "    }\n",
       "\n",
       "    .dataframe tbody tr th {\n",
       "        vertical-align: top;\n",
       "    }\n",
       "\n",
       "    .dataframe thead th {\n",
       "        text-align: right;\n",
       "    }\n",
       "</style>\n",
       "<table border=\"1\" class=\"dataframe\">\n",
       "  <thead>\n",
       "    <tr style=\"text-align: right;\">\n",
       "      <th></th>\n",
       "      <th>RECORD_TIME</th>\n",
       "    </tr>\n",
       "  </thead>\n",
       "  <tbody>\n",
       "    <tr>\n",
       "      <th>0</th>\n",
       "      <td>2021-11-03 09:00</td>\n",
       "    </tr>\n",
       "    <tr>\n",
       "      <th>1</th>\n",
       "      <td>2021-11-03 08:30</td>\n",
       "    </tr>\n",
       "  </tbody>\n",
       "</table>\n",
       "</div>"
      ],
      "text/plain": [
       "        RECORD_TIME\n",
       "0  2021-11-03 09:00\n",
       "1  2021-11-03 08:30"
      ]
     },
     "execution_count": 3,
     "metadata": {},
     "output_type": "execute_result"
    }
   ],
   "source": [
    "timestamps"
   ]
  },
  {
   "cell_type": "code",
   "execution_count": 4,
   "id": "alternate-victory",
   "metadata": {
    "execution": {
     "iopub.execute_input": "2021-11-03T08:00:09.645225Z",
     "iopub.status.busy": "2021-11-03T08:00:09.643064Z",
     "iopub.status.idle": "2021-11-03T08:00:10.698562Z",
     "shell.execute_reply": "2021-11-03T08:00:10.700087Z"
    },
    "papermill": {
     "duration": 1.088574,
     "end_time": "2021-11-03T08:00:10.700586",
     "exception": false,
     "start_time": "2021-11-03T08:00:09.612012",
     "status": "completed"
    },
    "tags": []
   },
   "outputs": [],
   "source": [
    "df = pd.read_sql(\"select * from EBAY_TOP_BERLIN where record_time in (select distinct record_time from EBAY_TOP_BERLIN order by record_time desc limit 2)\", sqlite3.connect(\"UsedObjects.db\"))"
   ]
  },
  {
   "cell_type": "code",
   "execution_count": 5,
   "id": "popular-active",
   "metadata": {
    "execution": {
     "iopub.execute_input": "2021-11-03T08:00:10.768585Z",
     "iopub.status.busy": "2021-11-03T08:00:10.766200Z",
     "iopub.status.idle": "2021-11-03T08:00:10.800323Z",
     "shell.execute_reply": "2021-11-03T08:00:10.798780Z"
    },
    "papermill": {
     "duration": 0.076965,
     "end_time": "2021-11-03T08:00:10.800852",
     "exception": false,
     "start_time": "2021-11-03T08:00:10.723887",
     "status": "completed"
    },
    "tags": []
   },
   "outputs": [],
   "source": [
    "df_pivot = df.pivot_table(index=\"PRODUCT\", columns = \"RECORD_TIME\", values = \"LISTING_COUNT\")"
   ]
  },
  {
   "cell_type": "code",
   "execution_count": 6,
   "id": "union-huntington",
   "metadata": {
    "execution": {
     "iopub.execute_input": "2021-11-03T08:00:10.864549Z",
     "iopub.status.busy": "2021-11-03T08:00:10.862312Z",
     "iopub.status.idle": "2021-11-03T08:00:10.869541Z",
     "shell.execute_reply": "2021-11-03T08:00:10.867274Z"
    },
    "papermill": {
     "duration": 0.046538,
     "end_time": "2021-11-03T08:00:10.869961",
     "exception": false,
     "start_time": "2021-11-03T08:00:10.823423",
     "status": "completed"
    },
    "tags": []
   },
   "outputs": [],
   "source": [
    "df_pivot.columns = [\"stamp_1\", \"stamp_2\"]\n",
    "df_pivot_diff = df_pivot.diff(axis=1)"
   ]
  },
  {
   "cell_type": "code",
   "execution_count": 7,
   "id": "fifth-motion",
   "metadata": {
    "execution": {
     "iopub.execute_input": "2021-11-03T08:00:10.930169Z",
     "iopub.status.busy": "2021-11-03T08:00:10.927601Z",
     "iopub.status.idle": "2021-11-03T08:00:12.747182Z",
     "shell.execute_reply": "2021-11-03T08:00:12.750109Z"
    },
    "papermill": {
     "duration": 1.859486,
     "end_time": "2021-11-03T08:00:12.751011",
     "exception": false,
     "start_time": "2021-11-03T08:00:10.891525",
     "status": "completed"
    },
    "tags": []
   },
   "outputs": [
    {
     "data": {
      "text/plain": [
       "<AxesSubplot:ylabel='PRODUCT'>"
      ]
     },
     "execution_count": 7,
     "metadata": {},
     "output_type": "execute_result"
    },
    {
     "data": {
      "image/png": "[encoded data removed]",
      "text/plain": [
       "<Figure size 432x288 with 1 Axes>"
      ]
     },
     "metadata": {
      "needs_background": "light"
     },
     "output_type": "display_data"
    }
   ],
   "source": [
    "df_pivot_diff.sort_values(\"stamp_2\", ascending = False)[\"stamp_2\"].head(10).plot.barh()"
   ]
  },
  {
   "cell_type": "code",
   "execution_count": null,
   "id": "extra-executive",
   "metadata": {
    "papermill": {
     "duration": 0.038041,
     "end_time": "2021-11-03T08:00:12.828229",
     "exception": false,
     "start_time": "2021-11-03T08:00:12.790188",
     "status": "completed"
    },
    "tags": []
   },
   "outputs": [],
   "source": []
  }
 ],
 "metadata": {
  "kernelspec": {
   "display_name": "Python 3",
   "language": "python",
   "name": "python3"
  },
  "language_info": {
   "codemirror_mode": {
    "name": "ipython",
    "version": 3
   },
   "file_extension": ".py",
   "mimetype": "text/x-python",
   "name": "python",
   "nbconvert_exporter": "python",
   "pygments_lexer": "ipython3",
   "version": "3.9.5"
  },
  "papermill": {
   "default_parameters": {},
   "duration": 8.749917,
   "end_time": "2021-11-03T08:00:13.689387",
   "environment_variables": {},
   "exception": null,
   "input_path": "eBay_Overview.ipynb",
   "output_path": "eBay_Overview.ipynb",
   "parameters": {},
   "start_time": "2021-11-03T08:00:04.939470",
   "version": "2.3.3"
  }
 },
 "nbformat": 4,
 "nbformat_minor": 5
}