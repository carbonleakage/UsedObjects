{
 "cells": [
  {
   "cell_type": "code",
   "execution_count": 1,
   "id": "reverse-picking",
   "metadata": {
    "execution": {
     "iopub.execute_input": "2021-08-15T21:00:06.883900Z",
     "iopub.status.busy": "2021-08-15T21:00:06.881920Z",
     "iopub.status.idle": "2021-08-15T21:00:07.688840Z",
     "shell.execute_reply": "2021-08-15T21:00:07.687252Z"
    },
    "papermill": {
     "duration": 0.857638,
     "end_time": "2021-08-15T21:00:07.689235",
     "exception": false,
     "start_time": "2021-08-15T21:00:06.831597",
     "status": "completed"
    },
    "tags": []
   },
   "outputs": [],
   "source": [
    "import pandas as pd\n",
    "import sqlite3"
   ]
  },
  {
   "cell_type": "code",
   "execution_count": 2,
   "id": "innovative-syndrome",
   "metadata": {
    "execution": {
     "iopub.execute_input": "2021-08-15T21:00:07.738733Z",
     "iopub.status.busy": "2021-08-15T21:00:07.736653Z",
     "iopub.status.idle": "2021-08-15T21:00:07.792542Z",
     "shell.execute_reply": "2021-08-15T21:00:07.793738Z"
    },
    "papermill": {
     "duration": 0.085238,
     "end_time": "2021-08-15T21:00:07.794214",
     "exception": false,
     "start_time": "2021-08-15T21:00:07.708976",
     "status": "completed"
    },
    "tags": []
   },
   "outputs": [],
   "source": [
    "timestamps = pd.read_sql(\"select distinct record_time from EBAY_TOP_BERLIN order by record_time desc limit 2\", sqlite3.connect(\"UsedObjects.db\"))"
   ]
  },
  {
   "cell_type": "code",
   "execution_count": 3,
   "id": "periodic-identification",
   "metadata": {
    "execution": {
     "iopub.execute_input": "2021-08-15T21:00:07.857067Z",
     "iopub.status.busy": "2021-08-15T21:00:07.855017Z",
     "iopub.status.idle": "2021-08-15T21:00:07.875619Z",
     "shell.execute_reply": "2021-08-15T21:00:07.876904Z"
    },
    "papermill": {
     "duration": 0.063825,
     "end_time": "2021-08-15T21:00:07.877312",
     "exception": false,
     "start_time": "2021-08-15T21:00:07.813487",
     "status": "completed"
    },
    "tags": []
   },
   "outputs": [
    {
     "data": {
      "text/html": [
       "<div>\n",
       "<style scoped>\n",
       "    .dataframe tbody tr th:only-of-type {\n",
       "        vertical-align: middle;\n",
       "    }\n",
       "\n",
       "    .dataframe tbody tr th {\n",
       "        vertical-align: top;\n",
       "    }\n",
       "\n",
       "    .dataframe thead th {\n",
       "        text-align: right;\n",
       "    }\n",
       "</style>\n",
       "<table border=\"1\" class=\"dataframe\">\n",
       "  <thead>\n",
       "    <tr style=\"text-align: right;\">\n",
       "      <th></th>\n",
       "      <th>RECORD_TIME</th>\n",
       "    </tr>\n",
       "  </thead>\n",
       "  <tbody>\n",
       "    <tr>\n",
       "      <th>0</th>\n",
       "      <td>2021-08-15 23:00</td>\n",
       "    </tr>\n",
       "    <tr>\n",
       "      <th>1</th>\n",
       "      <td>2021-08-15 22:30</td>\n",
       "    </tr>\n",
       "  </tbody>\n",
       "</table>\n",
       "</div>"
      ],
      "text/plain": [
       "        RECORD_TIME\n",
       "0  2021-08-15 23:00\n",
       "1  2021-08-15 22:30"
      ]
     },
     "execution_count": 3,
     "metadata": {},
     "output_type": "execute_result"
    }
   ],
   "source": [
    "timestamps"
   ]
  },
  {
   "cell_type": "code",
   "execution_count": 4,
   "id": "alternate-victory",
   "metadata": {
    "execution": {
     "iopub.execute_input": "2021-08-15T21:00:07.928208Z",
     "iopub.status.busy": "2021-08-15T21:00:07.926030Z",
     "iopub.status.idle": "2021-08-15T21:00:08.015180Z",
     "shell.execute_reply": "2021-08-15T21:00:08.016385Z"
    },
    "papermill": {
     "duration": 0.118785,
     "end_time": "2021-08-15T21:00:08.016772",
     "exception": false,
     "start_time": "2021-08-15T21:00:07.897987",
     "status": "completed"
    },
    "tags": []
   },
   "outputs": [],
   "source": [
    "df = pd.read_sql(\"select * from EBAY_TOP_BERLIN where record_time in (select distinct record_time from EBAY_TOP_BERLIN order by record_time desc limit 2)\", sqlite3.connect(\"UsedObjects.db\"))"
   ]
  },
  {
   "cell_type": "code",
   "execution_count": 5,
   "id": "popular-active",
   "metadata": {
    "execution": {
     "iopub.execute_input": "2021-08-15T21:00:08.085031Z",
     "iopub.status.busy": "2021-08-15T21:00:08.073617Z",
     "iopub.status.idle": "2021-08-15T21:00:08.100642Z",
     "shell.execute_reply": "2021-08-15T21:00:08.101854Z"
    },
    "papermill": {
     "duration": 0.06549,
     "end_time": "2021-08-15T21:00:08.102490",
     "exception": false,
     "start_time": "2021-08-15T21:00:08.037000",
     "status": "completed"
    },
    "tags": []
   },
   "outputs": [],
   "source": [
    "df_pivot = df.pivot_table(index=\"PRODUCT\", columns = \"RECORD_TIME\", values = \"LISTING_COUNT\")"
   ]
  },
  {
   "cell_type": "code",
   "execution_count": 6,
   "id": "union-huntington",
   "metadata": {
    "execution": {
     "iopub.execute_input": "2021-08-15T21:00:08.158262Z",
     "iopub.status.busy": "2021-08-15T21:00:08.155956Z",
     "iopub.status.idle": "2021-08-15T21:00:08.161752Z",
     "shell.execute_reply": "2021-08-15T21:00:08.163021Z"
    },
    "papermill": {
     "duration": 0.041341,
     "end_time": "2021-08-15T21:00:08.163448",
     "exception": false,
     "start_time": "2021-08-15T21:00:08.122107",
     "status": "completed"
    },
    "tags": []
   },
   "outputs": [],
   "source": [
    "df_pivot.columns = [\"stamp_1\", \"stamp_2\"]\n",
    "df_pivot_diff = df_pivot.diff(axis=1)"
   ]
  },
  {
   "cell_type": "code",
   "execution_count": 7,
   "id": "fifth-motion",
   "metadata": {
    "execution": {
     "iopub.execute_input": "2021-08-15T21:00:08.216919Z",
     "iopub.status.busy": "2021-08-15T21:00:08.214709Z",
     "iopub.status.idle": "2021-08-15T21:00:09.731472Z",
     "shell.execute_reply": "2021-08-15T21:00:09.732759Z"
    },
    "papermill": {
     "duration": 1.549252,
     "end_time": "2021-08-15T21:00:09.733172",
     "exception": false,
     "start_time": "2021-08-15T21:00:08.183920",
     "status": "completed"
    },
    "tags": []
   },
   "outputs": [
    {
     "data": {
      "text/plain": [
       "<AxesSubplot:ylabel='PRODUCT'>"
      ]
     },
     "execution_count": 7,
     "metadata": {},
     "output_type": "execute_result"
    },
    {
     "data": {
      "image/png": "[encoded data removed]",
      "text/plain": [
       "<Figure size 432x288 with 1 Axes>"
      ]
     },
     "metadata": {
      "needs_background": "light"
     },
     "output_type": "display_data"
    }
   ],
   "source": [
    "df_pivot_diff.sort_values(\"stamp_2\", ascending = False)[\"stamp_2\"].head(10).plot.barh()"
   ]
  },
  {
   "cell_type": "code",
   "execution_count": null,
   "id": "extra-executive",
   "metadata": {
    "papermill": {
     "duration": 0.022274,
     "end_time": "2021-08-15T21:00:09.779105",
     "exception": false,
     "start_time": "2021-08-15T21:00:09.756831",
     "status": "completed"
    },
    "tags": []
   },
   "outputs": [],
   "source": []
  }
 ],
 "metadata": {
  "kernelspec": {
   "display_name": "Python 3",
   "language": "python",
   "name": "python3"
  },
  "language_info": {
   "codemirror_mode": {
    "name": "ipython",
    "version": 3
   },
   "file_extension": ".py",
   "mimetype": "text/x-python",
   "name": "python",
   "nbconvert_exporter": "python",
   "pygments_lexer": "ipython3",
   "version": "3.9.5"
  },
  "papermill": {
   "default_parameters": {},
   "duration": 6.827459,
   "end_time": "2021-08-15T21:00:11.230812",
   "environment_variables": {},
   "exception": null,
   "input_path": "eBay_Overview.ipynb",
   "output_path": "eBay_Overview.ipynb",
   "parameters": {},
   "start_time": "2021-08-15T21:00:04.403353",
   "version": "2.3.3"
  }
 },
 "nbformat": 4,
 "nbformat_minor": 5
}