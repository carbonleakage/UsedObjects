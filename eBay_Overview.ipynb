{
 "cells": [
  {
   "cell_type": "code",
   "execution_count": 1,
   "id": "reverse-picking",
   "metadata": {
    "execution": {
     "iopub.execute_input": "2021-11-30T20:00:08.187913Z",
     "iopub.status.busy": "2021-11-30T20:00:08.185538Z",
     "iopub.status.idle": "2021-11-30T20:00:09.155843Z",
     "shell.execute_reply": "2021-11-30T20:00:09.157493Z"
    },
    "papermill": {
     "duration": 1.020963,
     "end_time": "2021-11-30T20:00:09.158221",
     "exception": false,
     "start_time": "2021-11-30T20:00:08.137258",
     "status": "completed"
    },
    "tags": []
   },
   "outputs": [],
   "source": [
    "import pandas as pd\n",
    "import sqlite3"
   ]
  },
  {
   "cell_type": "code",
   "execution_count": 2,
   "id": "innovative-syndrome",
   "metadata": {
    "execution": {
     "iopub.execute_input": "2021-11-30T20:00:09.222014Z",
     "iopub.status.busy": "2021-11-30T20:00:09.219768Z",
     "iopub.status.idle": "2021-11-30T20:00:10.199470Z",
     "shell.execute_reply": "2021-11-30T20:00:10.200750Z"
    },
    "papermill": {
     "duration": 1.013397,
     "end_time": "2021-11-30T20:00:10.201205",
     "exception": false,
     "start_time": "2021-11-30T20:00:09.187808",
     "status": "completed"
    },
    "tags": []
   },
   "outputs": [],
   "source": [
    "timestamps = pd.read_sql(\"select distinct record_time from EBAY_TOP_BERLIN order by record_time desc limit 2\", sqlite3.connect(\"UsedObjects.db\"))"
   ]
  },
  {
   "cell_type": "code",
   "execution_count": 3,
   "id": "periodic-identification",
   "metadata": {
    "execution": {
     "iopub.execute_input": "2021-11-30T20:00:10.273330Z",
     "iopub.status.busy": "2021-11-30T20:00:10.267526Z",
     "iopub.status.idle": "2021-11-30T20:00:10.295548Z",
     "shell.execute_reply": "2021-11-30T20:00:10.296969Z"
    },
    "papermill": {
     "duration": 0.07563,
     "end_time": "2021-11-30T20:00:10.297476",
     "exception": false,
     "start_time": "2021-11-30T20:00:10.221846",
     "status": "completed"
    },
    "tags": []
   },
   "outputs": [
    {
     "data": {
      "text/html": [
       "<div>\n",
       "<style scoped>\n",
       "    .dataframe tbody tr th:only-of-type {\n",
       "        vertical-align: middle;\n",
       "    }\n",
       "\n",
       "    .dataframe tbody tr th {\n",
       "        vertical-align: top;\n",
       "    }\n",
       "\n",
       "    .dataframe thead th {\n",
       "        text-align: right;\n",
       "    }\n",
       "</style>\n",
       "<table border=\"1\" class=\"dataframe\">\n",
       "  <thead>\n",
       "    <tr style=\"text-align: right;\">\n",
       "      <th></th>\n",
       "      <th>RECORD_TIME</th>\n",
       "    </tr>\n",
       "  </thead>\n",
       "  <tbody>\n",
       "    <tr>\n",
       "      <th>0</th>\n",
       "      <td>2021-11-30 21:00</td>\n",
       "    </tr>\n",
       "    <tr>\n",
       "      <th>1</th>\n",
       "      <td>2021-11-30 20:30</td>\n",
       "    </tr>\n",
       "  </tbody>\n",
       "</table>\n",
       "</div>"
      ],
      "text/plain": [
       "        RECORD_TIME\n",
       "0  2021-11-30 21:00\n",
       "1  2021-11-30 20:30"
      ]
     },
     "execution_count": 3,
     "metadata": {},
     "output_type": "execute_result"
    }
   ],
   "source": [
    "timestamps"
   ]
  },
  {
   "cell_type": "code",
   "execution_count": 4,
   "id": "alternate-victory",
   "metadata": {
    "execution": {
     "iopub.execute_input": "2021-11-30T20:00:10.358338Z",
     "iopub.status.busy": "2021-11-30T20:00:10.355917Z",
     "iopub.status.idle": "2021-11-30T20:00:11.756849Z",
     "shell.execute_reply": "2021-11-30T20:00:11.758252Z"
    },
    "papermill": {
     "duration": 1.439112,
     "end_time": "2021-11-30T20:00:11.758732",
     "exception": false,
     "start_time": "2021-11-30T20:00:10.319620",
     "status": "completed"
    },
    "tags": []
   },
   "outputs": [],
   "source": [
    "df = pd.read_sql(\"select * from EBAY_TOP_BERLIN where record_time in (select distinct record_time from EBAY_TOP_BERLIN order by record_time desc limit 2)\", sqlite3.connect(\"UsedObjects.db\"))"
   ]
  },
  {
   "cell_type": "code",
   "execution_count": 5,
   "id": "popular-active",
   "metadata": {
    "execution": {
     "iopub.execute_input": "2021-11-30T20:00:11.822503Z",
     "iopub.status.busy": "2021-11-30T20:00:11.819881Z",
     "iopub.status.idle": "2021-11-30T20:00:11.854454Z",
     "shell.execute_reply": "2021-11-30T20:00:11.856506Z"
    },
    "papermill": {
     "duration": 0.077441,
     "end_time": "2021-11-30T20:00:11.857068",
     "exception": false,
     "start_time": "2021-11-30T20:00:11.779627",
     "status": "completed"
    },
    "tags": []
   },
   "outputs": [],
   "source": [
    "df_pivot = df.pivot_table(index=\"PRODUCT\", columns = \"RECORD_TIME\", values = \"LISTING_COUNT\")"
   ]
  },
  {
   "cell_type": "code",
   "execution_count": 6,
   "id": "union-huntington",
   "metadata": {
    "execution": {
     "iopub.execute_input": "2021-11-30T20:00:11.916135Z",
     "iopub.status.busy": "2021-11-30T20:00:11.913857Z",
     "iopub.status.idle": "2021-11-30T20:00:11.919835Z",
     "shell.execute_reply": "2021-11-30T20:00:11.921282Z"
    },
    "papermill": {
     "duration": 0.044092,
     "end_time": "2021-11-30T20:00:11.921758",
     "exception": false,
     "start_time": "2021-11-30T20:00:11.877666",
     "status": "completed"
    },
    "tags": []
   },
   "outputs": [],
   "source": [
    "df_pivot.columns = [\"stamp_1\", \"stamp_2\"]\n",
    "df_pivot_diff = df_pivot.diff(axis=1)"
   ]
  },
  {
   "cell_type": "code",
   "execution_count": 7,
   "id": "fifth-motion",
   "metadata": {
    "execution": {
     "iopub.execute_input": "2021-11-30T20:00:11.979461Z",
     "iopub.status.busy": "2021-11-30T20:00:11.976643Z",
     "iopub.status.idle": "2021-11-30T20:00:13.988147Z",
     "shell.execute_reply": "2021-11-30T20:00:13.989657Z"
    },
    "papermill": {
     "duration": 2.04783,
     "end_time": "2021-11-30T20:00:13.990122",
     "exception": false,
     "start_time": "2021-11-30T20:00:11.942292",
     "status": "completed"
    },
    "tags": []
   },
   "outputs": [
    {
     "data": {
      "text/plain": [
       "<AxesSubplot:ylabel='PRODUCT'>"
      ]
     },
     "execution_count": 7,
     "metadata": {},
     "output_type": "execute_result"
    },
    {
     "data": {
      "image/png": "[encoded data removed]",
      "text/plain": [
       "<Figure size 432x288 with 1 Axes>"
      ]
     },
     "metadata": {
      "needs_background": "light"
     },
     "output_type": "display_data"
    }
   ],
   "source": [
    "df_pivot_diff.sort_values(\"stamp_2\", ascending = False)[\"stamp_2\"].head(10).plot.barh()"
   ]
  },
  {
   "cell_type": "code",
   "execution_count": null,
   "id": "extra-executive",
   "metadata": {
    "papermill": {
     "duration": 0.022188,
     "end_time": "2021-11-30T20:00:14.037141",
     "exception": false,
     "start_time": "2021-11-30T20:00:14.014953",
     "status": "completed"
    },
    "tags": []
   },
   "outputs": [],
   "source": []
  }
 ],
 "metadata": {
  "kernelspec": {
   "display_name": "Python 3",
   "language": "python",
   "name": "python3"
  },
  "language_info": {
   "codemirror_mode": {
    "name": "ipython",
    "version": 3
   },
   "file_extension": ".py",
   "mimetype": "text/x-python",
   "name": "python",
   "nbconvert_exporter": "python",
   "pygments_lexer": "ipython3",
   "version": "3.9.5"
  },
  "papermill": {
   "default_parameters": {},
   "duration": 9.942319,
   "end_time": "2021-11-30T20:00:15.342196",
   "environment_variables": {},
   "exception": null,
   "input_path": "eBay_Overview.ipynb",
   "output_path": "eBay_Overview.ipynb",
   "parameters": {},
   "start_time": "2021-11-30T20:00:05.399877",
   "version": "2.3.3"
  }
 },
 "nbformat": 4,
 "nbformat_minor": 5
}