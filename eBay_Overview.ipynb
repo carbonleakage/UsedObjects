{
 "cells": [
  {
   "cell_type": "code",
   "execution_count": 1,
   "id": "reverse-picking",
   "metadata": {
    "execution": {
     "iopub.execute_input": "2021-10-12T17:30:07.326379Z",
     "iopub.status.busy": "2021-10-12T17:30:07.324348Z",
     "iopub.status.idle": "2021-10-12T17:30:08.127697Z",
     "shell.execute_reply": "2021-10-12T17:30:08.129055Z"
    },
    "papermill": {
     "duration": 0.853749,
     "end_time": "2021-10-12T17:30:08.129719",
     "exception": false,
     "start_time": "2021-10-12T17:30:07.275970",
     "status": "completed"
    },
    "tags": []
   },
   "outputs": [],
   "source": [
    "import pandas as pd\n",
    "import sqlite3"
   ]
  },
  {
   "cell_type": "code",
   "execution_count": 2,
   "id": "innovative-syndrome",
   "metadata": {
    "execution": {
     "iopub.execute_input": "2021-10-12T17:30:08.179797Z",
     "iopub.status.busy": "2021-10-12T17:30:08.177924Z",
     "iopub.status.idle": "2021-10-12T17:30:08.710306Z",
     "shell.execute_reply": "2021-10-12T17:30:08.711573Z"
    },
    "papermill": {
     "duration": 0.562007,
     "end_time": "2021-10-12T17:30:08.711991",
     "exception": false,
     "start_time": "2021-10-12T17:30:08.149984",
     "status": "completed"
    },
    "tags": []
   },
   "outputs": [],
   "source": [
    "timestamps = pd.read_sql(\"select distinct record_time from EBAY_TOP_BERLIN order by record_time desc limit 2\", sqlite3.connect(\"UsedObjects.db\"))"
   ]
  },
  {
   "cell_type": "code",
   "execution_count": 3,
   "id": "periodic-identification",
   "metadata": {
    "execution": {
     "iopub.execute_input": "2021-10-12T17:30:08.778690Z",
     "iopub.status.busy": "2021-10-12T17:30:08.776510Z",
     "iopub.status.idle": "2021-10-12T17:30:08.796547Z",
     "shell.execute_reply": "2021-10-12T17:30:08.797834Z"
    },
    "papermill": {
     "duration": 0.067,
     "end_time": "2021-10-12T17:30:08.798263",
     "exception": false,
     "start_time": "2021-10-12T17:30:08.731263",
     "status": "completed"
    },
    "tags": []
   },
   "outputs": [
    {
     "data": {
      "text/html": [
       "<div>\n",
       "<style scoped>\n",
       "    .dataframe tbody tr th:only-of-type {\n",
       "        vertical-align: middle;\n",
       "    }\n",
       "\n",
       "    .dataframe tbody tr th {\n",
       "        vertical-align: top;\n",
       "    }\n",
       "\n",
       "    .dataframe thead th {\n",
       "        text-align: right;\n",
       "    }\n",
       "</style>\n",
       "<table border=\"1\" class=\"dataframe\">\n",
       "  <thead>\n",
       "    <tr style=\"text-align: right;\">\n",
       "      <th></th>\n",
       "      <th>RECORD_TIME</th>\n",
       "    </tr>\n",
       "  </thead>\n",
       "  <tbody>\n",
       "    <tr>\n",
       "      <th>0</th>\n",
       "      <td>2021-10-12 19:30</td>\n",
       "    </tr>\n",
       "    <tr>\n",
       "      <th>1</th>\n",
       "      <td>2021-10-12 19:00</td>\n",
       "    </tr>\n",
       "  </tbody>\n",
       "</table>\n",
       "</div>"
      ],
      "text/plain": [
       "        RECORD_TIME\n",
       "0  2021-10-12 19:30\n",
       "1  2021-10-12 19:00"
      ]
     },
     "execution_count": 3,
     "metadata": {},
     "output_type": "execute_result"
    }
   ],
   "source": [
    "timestamps"
   ]
  },
  {
   "cell_type": "code",
   "execution_count": 4,
   "id": "alternate-victory",
   "metadata": {
    "execution": {
     "iopub.execute_input": "2021-10-12T17:30:08.860409Z",
     "iopub.status.busy": "2021-10-12T17:30:08.858572Z",
     "iopub.status.idle": "2021-10-12T17:30:09.628205Z",
     "shell.execute_reply": "2021-10-12T17:30:09.629756Z"
    },
    "papermill": {
     "duration": 0.803384,
     "end_time": "2021-10-12T17:30:09.630197",
     "exception": false,
     "start_time": "2021-10-12T17:30:08.826813",
     "status": "completed"
    },
    "tags": []
   },
   "outputs": [],
   "source": [
    "df = pd.read_sql(\"select * from EBAY_TOP_BERLIN where record_time in (select distinct record_time from EBAY_TOP_BERLIN order by record_time desc limit 2)\", sqlite3.connect(\"UsedObjects.db\"))"
   ]
  },
  {
   "cell_type": "code",
   "execution_count": 5,
   "id": "popular-active",
   "metadata": {
    "execution": {
     "iopub.execute_input": "2021-10-12T17:30:09.702545Z",
     "iopub.status.busy": "2021-10-12T17:30:09.689897Z",
     "iopub.status.idle": "2021-10-12T17:30:09.719384Z",
     "shell.execute_reply": "2021-10-12T17:30:09.721086Z"
    },
    "papermill": {
     "duration": 0.070965,
     "end_time": "2021-10-12T17:30:09.721573",
     "exception": false,
     "start_time": "2021-10-12T17:30:09.650608",
     "status": "completed"
    },
    "tags": []
   },
   "outputs": [],
   "source": [
    "df_pivot = df.pivot_table(index=\"PRODUCT\", columns = \"RECORD_TIME\", values = \"LISTING_COUNT\")"
   ]
  },
  {
   "cell_type": "code",
   "execution_count": 6,
   "id": "union-huntington",
   "metadata": {
    "execution": {
     "iopub.execute_input": "2021-10-12T17:30:09.780757Z",
     "iopub.status.busy": "2021-10-12T17:30:09.778416Z",
     "iopub.status.idle": "2021-10-12T17:30:09.784020Z",
     "shell.execute_reply": "2021-10-12T17:30:09.785374Z"
    },
    "papermill": {
     "duration": 0.041809,
     "end_time": "2021-10-12T17:30:09.785795",
     "exception": false,
     "start_time": "2021-10-12T17:30:09.743986",
     "status": "completed"
    },
    "tags": []
   },
   "outputs": [],
   "source": [
    "df_pivot.columns = [\"stamp_1\", \"stamp_2\"]\n",
    "df_pivot_diff = df_pivot.diff(axis=1)"
   ]
  },
  {
   "cell_type": "code",
   "execution_count": 7,
   "id": "fifth-motion",
   "metadata": {
    "execution": {
     "iopub.execute_input": "2021-10-12T17:30:09.840399Z",
     "iopub.status.busy": "2021-10-12T17:30:09.837937Z",
     "iopub.status.idle": "2021-10-12T17:30:11.320932Z",
     "shell.execute_reply": "2021-10-12T17:30:11.322369Z"
    },
    "papermill": {
     "duration": 1.516162,
     "end_time": "2021-10-12T17:30:11.322813",
     "exception": false,
     "start_time": "2021-10-12T17:30:09.806651",
     "status": "completed"
    },
    "tags": []
   },
   "outputs": [
    {
     "data": {
      "text/plain": [
       "<AxesSubplot:ylabel='PRODUCT'>"
      ]
     },
     "execution_count": 7,
     "metadata": {},
     "output_type": "execute_result"
    },
    {
     "data": {
      "image/png": "[encoded data removed]",
      "text/plain": [
       "<Figure size 432x288 with 1 Axes>"
      ]
     },
     "metadata": {
      "needs_background": "light"
     },
     "output_type": "display_data"
    }
   ],
   "source": [
    "df_pivot_diff.sort_values(\"stamp_2\", ascending = False)[\"stamp_2\"].head(10).plot.barh()"
   ]
  },
  {
   "cell_type": "code",
   "execution_count": null,
   "id": "extra-executive",
   "metadata": {
    "papermill": {
     "duration": 0.022449,
     "end_time": "2021-10-12T17:30:11.369199",
     "exception": false,
     "start_time": "2021-10-12T17:30:11.346750",
     "status": "completed"
    },
    "tags": []
   },
   "outputs": [],
   "source": []
  }
 ],
 "metadata": {
  "kernelspec": {
   "display_name": "Python 3",
   "language": "python",
   "name": "python3"
  },
  "language_info": {
   "codemirror_mode": {
    "name": "ipython",
    "version": 3
   },
   "file_extension": ".py",
   "mimetype": "text/x-python",
   "name": "python",
   "nbconvert_exporter": "python",
   "pygments_lexer": "ipython3",
   "version": "3.9.5"
  },
  "papermill": {
   "default_parameters": {},
   "duration": 7.81977,
   "end_time": "2021-10-12T17:30:12.694193",
   "environment_variables": {},
   "exception": null,
   "input_path": "eBay_Overview.ipynb",
   "output_path": "eBay_Overview.ipynb",
   "parameters": {},
   "start_time": "2021-10-12T17:30:04.874423",
   "version": "2.3.3"
  }
 },
 "nbformat": 4,
 "nbformat_minor": 5
}