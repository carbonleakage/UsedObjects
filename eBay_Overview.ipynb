{
 "cells": [
  {
   "cell_type": "code",
   "execution_count": 1,
   "id": "reverse-picking",
   "metadata": {
    "execution": {
     "iopub.execute_input": "2021-10-26T09:30:07.594499Z",
     "iopub.status.busy": "2021-10-26T09:30:07.592443Z",
     "iopub.status.idle": "2021-10-26T09:30:08.583274Z",
     "shell.execute_reply": "2021-10-26T09:30:08.584608Z"
    },
    "papermill": {
     "duration": 1.04246,
     "end_time": "2021-10-26T09:30:08.585380",
     "exception": false,
     "start_time": "2021-10-26T09:30:07.542920",
     "status": "completed"
    },
    "tags": []
   },
   "outputs": [],
   "source": [
    "import pandas as pd\n",
    "import sqlite3"
   ]
  },
  {
   "cell_type": "code",
   "execution_count": 2,
   "id": "innovative-syndrome",
   "metadata": {
    "execution": {
     "iopub.execute_input": "2021-10-26T09:30:08.635007Z",
     "iopub.status.busy": "2021-10-26T09:30:08.633126Z",
     "iopub.status.idle": "2021-10-26T09:30:09.272966Z",
     "shell.execute_reply": "2021-10-26T09:30:09.274369Z"
    },
    "papermill": {
     "duration": 0.669332,
     "end_time": "2021-10-26T09:30:09.274814",
     "exception": false,
     "start_time": "2021-10-26T09:30:08.605482",
     "status": "completed"
    },
    "tags": []
   },
   "outputs": [],
   "source": [
    "timestamps = pd.read_sql(\"select distinct record_time from EBAY_TOP_BERLIN order by record_time desc limit 2\", sqlite3.connect(\"UsedObjects.db\"))"
   ]
  },
  {
   "cell_type": "code",
   "execution_count": 3,
   "id": "periodic-identification",
   "metadata": {
    "execution": {
     "iopub.execute_input": "2021-10-26T09:30:09.349335Z",
     "iopub.status.busy": "2021-10-26T09:30:09.347227Z",
     "iopub.status.idle": "2021-10-26T09:30:09.369449Z",
     "shell.execute_reply": "2021-10-26T09:30:09.370845Z"
    },
    "papermill": {
     "duration": 0.071024,
     "end_time": "2021-10-26T09:30:09.371286",
     "exception": false,
     "start_time": "2021-10-26T09:30:09.300262",
     "status": "completed"
    },
    "tags": []
   },
   "outputs": [
    {
     "data": {
      "text/html": [
       "<div>\n",
       "<style scoped>\n",
       "    .dataframe tbody tr th:only-of-type {\n",
       "        vertical-align: middle;\n",
       "    }\n",
       "\n",
       "    .dataframe tbody tr th {\n",
       "        vertical-align: top;\n",
       "    }\n",
       "\n",
       "    .dataframe thead th {\n",
       "        text-align: right;\n",
       "    }\n",
       "</style>\n",
       "<table border=\"1\" class=\"dataframe\">\n",
       "  <thead>\n",
       "    <tr style=\"text-align: right;\">\n",
       "      <th></th>\n",
       "      <th>RECORD_TIME</th>\n",
       "    </tr>\n",
       "  </thead>\n",
       "  <tbody>\n",
       "    <tr>\n",
       "      <th>0</th>\n",
       "      <td>2021-10-26 11:30</td>\n",
       "    </tr>\n",
       "    <tr>\n",
       "      <th>1</th>\n",
       "      <td>2021-10-26 11:00</td>\n",
       "    </tr>\n",
       "  </tbody>\n",
       "</table>\n",
       "</div>"
      ],
      "text/plain": [
       "        RECORD_TIME\n",
       "0  2021-10-26 11:30\n",
       "1  2021-10-26 11:00"
      ]
     },
     "execution_count": 3,
     "metadata": {},
     "output_type": "execute_result"
    }
   ],
   "source": [
    "timestamps"
   ]
  },
  {
   "cell_type": "code",
   "execution_count": 4,
   "id": "alternate-victory",
   "metadata": {
    "execution": {
     "iopub.execute_input": "2021-10-26T09:30:09.422309Z",
     "iopub.status.busy": "2021-10-26T09:30:09.420343Z",
     "iopub.status.idle": "2021-10-26T09:30:10.350417Z",
     "shell.execute_reply": "2021-10-26T09:30:10.351627Z"
    },
    "papermill": {
     "duration": 0.959911,
     "end_time": "2021-10-26T09:30:10.352033",
     "exception": false,
     "start_time": "2021-10-26T09:30:09.392122",
     "status": "completed"
    },
    "tags": []
   },
   "outputs": [],
   "source": [
    "df = pd.read_sql(\"select * from EBAY_TOP_BERLIN where record_time in (select distinct record_time from EBAY_TOP_BERLIN order by record_time desc limit 2)\", sqlite3.connect(\"UsedObjects.db\"))"
   ]
  },
  {
   "cell_type": "code",
   "execution_count": 5,
   "id": "popular-active",
   "metadata": {
    "execution": {
     "iopub.execute_input": "2021-10-26T09:30:10.421492Z",
     "iopub.status.busy": "2021-10-26T09:30:10.409829Z",
     "iopub.status.idle": "2021-10-26T09:30:10.437379Z",
     "shell.execute_reply": "2021-10-26T09:30:10.438785Z"
    },
    "papermill": {
     "duration": 0.066777,
     "end_time": "2021-10-26T09:30:10.439234",
     "exception": false,
     "start_time": "2021-10-26T09:30:10.372457",
     "status": "completed"
    },
    "tags": []
   },
   "outputs": [],
   "source": [
    "df_pivot = df.pivot_table(index=\"PRODUCT\", columns = \"RECORD_TIME\", values = \"LISTING_COUNT\")"
   ]
  },
  {
   "cell_type": "code",
   "execution_count": 6,
   "id": "union-huntington",
   "metadata": {
    "execution": {
     "iopub.execute_input": "2021-10-26T09:30:10.496395Z",
     "iopub.status.busy": "2021-10-26T09:30:10.493954Z",
     "iopub.status.idle": "2021-10-26T09:30:10.499897Z",
     "shell.execute_reply": "2021-10-26T09:30:10.501248Z"
    },
    "papermill": {
     "duration": 0.042195,
     "end_time": "2021-10-26T09:30:10.501677",
     "exception": false,
     "start_time": "2021-10-26T09:30:10.459482",
     "status": "completed"
    },
    "tags": []
   },
   "outputs": [],
   "source": [
    "df_pivot.columns = [\"stamp_1\", \"stamp_2\"]\n",
    "df_pivot_diff = df_pivot.diff(axis=1)"
   ]
  },
  {
   "cell_type": "code",
   "execution_count": 7,
   "id": "fifth-motion",
   "metadata": {
    "execution": {
     "iopub.execute_input": "2021-10-26T09:30:10.556116Z",
     "iopub.status.busy": "2021-10-26T09:30:10.553834Z",
     "iopub.status.idle": "2021-10-26T09:30:12.065590Z",
     "shell.execute_reply": "2021-10-26T09:30:12.066873Z"
    },
    "papermill": {
     "duration": 1.545054,
     "end_time": "2021-10-26T09:30:12.067299",
     "exception": false,
     "start_time": "2021-10-26T09:30:10.522245",
     "status": "completed"
    },
    "tags": []
   },
   "outputs": [
    {
     "data": {
      "text/plain": [
       "<AxesSubplot:ylabel='PRODUCT'>"
      ]
     },
     "execution_count": 7,
     "metadata": {},
     "output_type": "execute_result"
    },
    {
     "data": {
      "image/png": "[encoded data removed]",
      "text/plain": [
       "<Figure size 432x288 with 1 Axes>"
      ]
     },
     "metadata": {
      "needs_background": "light"
     },
     "output_type": "display_data"
    }
   ],
   "source": [
    "df_pivot_diff.sort_values(\"stamp_2\", ascending = False)[\"stamp_2\"].head(10).plot.barh()"
   ]
  },
  {
   "cell_type": "code",
   "execution_count": null,
   "id": "extra-executive",
   "metadata": {
    "papermill": {
     "duration": 0.021891,
     "end_time": "2021-10-26T09:30:12.112951",
     "exception": false,
     "start_time": "2021-10-26T09:30:12.091060",
     "status": "completed"
    },
    "tags": []
   },
   "outputs": [],
   "source": []
  }
 ],
 "metadata": {
  "kernelspec": {
   "display_name": "Python 3",
   "language": "python",
   "name": "python3"
  },
  "language_info": {
   "codemirror_mode": {
    "name": "ipython",
    "version": 3
   },
   "file_extension": ".py",
   "mimetype": "text/x-python",
   "name": "python",
   "nbconvert_exporter": "python",
   "pygments_lexer": "ipython3",
   "version": "3.9.5"
  },
  "papermill": {
   "default_parameters": {},
   "duration": 7.635612,
   "end_time": "2021-10-26T09:30:12.756004",
   "environment_variables": {},
   "exception": null,
   "input_path": "eBay_Overview.ipynb",
   "output_path": "eBay_Overview.ipynb",
   "parameters": {},
   "start_time": "2021-10-26T09:30:05.120392",
   "version": "2.3.3"
  }
 },
 "nbformat": 4,
 "nbformat_minor": 5
}