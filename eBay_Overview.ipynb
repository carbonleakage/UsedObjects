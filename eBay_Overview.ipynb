{
 "cells": [
  {
   "cell_type": "code",
   "execution_count": 1,
   "id": "reverse-picking",
   "metadata": {
    "execution": {
     "iopub.execute_input": "2021-10-23T13:30:07.014900Z",
     "iopub.status.busy": "2021-10-23T13:30:07.012996Z",
     "iopub.status.idle": "2021-10-23T13:30:07.820541Z",
     "shell.execute_reply": "2021-10-23T13:30:07.821828Z"
    },
    "papermill": {
     "duration": 0.860121,
     "end_time": "2021-10-23T13:30:07.822464",
     "exception": false,
     "start_time": "2021-10-23T13:30:06.962343",
     "status": "completed"
    },
    "tags": []
   },
   "outputs": [],
   "source": [
    "import pandas as pd\n",
    "import sqlite3"
   ]
  },
  {
   "cell_type": "code",
   "execution_count": 2,
   "id": "innovative-syndrome",
   "metadata": {
    "execution": {
     "iopub.execute_input": "2021-10-23T13:30:07.874965Z",
     "iopub.status.busy": "2021-10-23T13:30:07.872757Z",
     "iopub.status.idle": "2021-10-23T13:30:08.479862Z",
     "shell.execute_reply": "2021-10-23T13:30:08.481126Z"
    },
    "papermill": {
     "duration": 0.636607,
     "end_time": "2021-10-23T13:30:08.481531",
     "exception": false,
     "start_time": "2021-10-23T13:30:07.844924",
     "status": "completed"
    },
    "tags": []
   },
   "outputs": [],
   "source": [
    "timestamps = pd.read_sql(\"select distinct record_time from EBAY_TOP_BERLIN order by record_time desc limit 2\", sqlite3.connect(\"UsedObjects.db\"))"
   ]
  },
  {
   "cell_type": "code",
   "execution_count": 3,
   "id": "periodic-identification",
   "metadata": {
    "execution": {
     "iopub.execute_input": "2021-10-23T13:30:08.557014Z",
     "iopub.status.busy": "2021-10-23T13:30:08.554800Z",
     "iopub.status.idle": "2021-10-23T13:30:08.575557Z",
     "shell.execute_reply": "2021-10-23T13:30:08.576965Z"
    },
    "papermill": {
     "duration": 0.070931,
     "end_time": "2021-10-23T13:30:08.577424",
     "exception": false,
     "start_time": "2021-10-23T13:30:08.506493",
     "status": "completed"
    },
    "tags": []
   },
   "outputs": [
    {
     "data": {
      "text/html": [
       "<div>\n",
       "<style scoped>\n",
       "    .dataframe tbody tr th:only-of-type {\n",
       "        vertical-align: middle;\n",
       "    }\n",
       "\n",
       "    .dataframe tbody tr th {\n",
       "        vertical-align: top;\n",
       "    }\n",
       "\n",
       "    .dataframe thead th {\n",
       "        text-align: right;\n",
       "    }\n",
       "</style>\n",
       "<table border=\"1\" class=\"dataframe\">\n",
       "  <thead>\n",
       "    <tr style=\"text-align: right;\">\n",
       "      <th></th>\n",
       "      <th>RECORD_TIME</th>\n",
       "    </tr>\n",
       "  </thead>\n",
       "  <tbody>\n",
       "    <tr>\n",
       "      <th>0</th>\n",
       "      <td>2021-10-23 15:30</td>\n",
       "    </tr>\n",
       "    <tr>\n",
       "      <th>1</th>\n",
       "      <td>2021-10-23 15:00</td>\n",
       "    </tr>\n",
       "  </tbody>\n",
       "</table>\n",
       "</div>"
      ],
      "text/plain": [
       "        RECORD_TIME\n",
       "0  2021-10-23 15:30\n",
       "1  2021-10-23 15:00"
      ]
     },
     "execution_count": 3,
     "metadata": {},
     "output_type": "execute_result"
    }
   ],
   "source": [
    "timestamps"
   ]
  },
  {
   "cell_type": "code",
   "execution_count": 4,
   "id": "alternate-victory",
   "metadata": {
    "execution": {
     "iopub.execute_input": "2021-10-23T13:30:08.631477Z",
     "iopub.status.busy": "2021-10-23T13:30:08.629455Z",
     "iopub.status.idle": "2021-10-23T13:30:09.525773Z",
     "shell.execute_reply": "2021-10-23T13:30:09.527194Z"
    },
    "papermill": {
     "duration": 0.927034,
     "end_time": "2021-10-23T13:30:09.527637",
     "exception": false,
     "start_time": "2021-10-23T13:30:08.600603",
     "status": "completed"
    },
    "tags": []
   },
   "outputs": [],
   "source": [
    "df = pd.read_sql(\"select * from EBAY_TOP_BERLIN where record_time in (select distinct record_time from EBAY_TOP_BERLIN order by record_time desc limit 2)\", sqlite3.connect(\"UsedObjects.db\"))"
   ]
  },
  {
   "cell_type": "code",
   "execution_count": 5,
   "id": "popular-active",
   "metadata": {
    "execution": {
     "iopub.execute_input": "2021-10-23T13:30:09.598014Z",
     "iopub.status.busy": "2021-10-23T13:30:09.586775Z",
     "iopub.status.idle": "2021-10-23T13:30:09.613793Z",
     "shell.execute_reply": "2021-10-23T13:30:09.615005Z"
    },
    "papermill": {
     "duration": 0.066757,
     "end_time": "2021-10-23T13:30:09.615397",
     "exception": false,
     "start_time": "2021-10-23T13:30:09.548640",
     "status": "completed"
    },
    "tags": []
   },
   "outputs": [],
   "source": [
    "df_pivot = df.pivot_table(index=\"PRODUCT\", columns = \"RECORD_TIME\", values = \"LISTING_COUNT\")"
   ]
  },
  {
   "cell_type": "code",
   "execution_count": 6,
   "id": "union-huntington",
   "metadata": {
    "execution": {
     "iopub.execute_input": "2021-10-23T13:30:09.675213Z",
     "iopub.status.busy": "2021-10-23T13:30:09.672772Z",
     "iopub.status.idle": "2021-10-23T13:30:09.678318Z",
     "shell.execute_reply": "2021-10-23T13:30:09.679492Z"
    },
    "papermill": {
     "duration": 0.041605,
     "end_time": "2021-10-23T13:30:09.679920",
     "exception": false,
     "start_time": "2021-10-23T13:30:09.638315",
     "status": "completed"
    },
    "tags": []
   },
   "outputs": [],
   "source": [
    "df_pivot.columns = [\"stamp_1\", \"stamp_2\"]\n",
    "df_pivot_diff = df_pivot.diff(axis=1)"
   ]
  },
  {
   "cell_type": "code",
   "execution_count": 7,
   "id": "fifth-motion",
   "metadata": {
    "execution": {
     "iopub.execute_input": "2021-10-23T13:30:09.733401Z",
     "iopub.status.busy": "2021-10-23T13:30:09.731046Z",
     "iopub.status.idle": "2021-10-23T13:30:11.204111Z",
     "shell.execute_reply": "2021-10-23T13:30:11.205452Z"
    },
    "papermill": {
     "duration": 1.505552,
     "end_time": "2021-10-23T13:30:11.205910",
     "exception": false,
     "start_time": "2021-10-23T13:30:09.700358",
     "status": "completed"
    },
    "tags": []
   },
   "outputs": [
    {
     "data": {
      "text/plain": [
       "<AxesSubplot:ylabel='PRODUCT'>"
      ]
     },
     "execution_count": 7,
     "metadata": {},
     "output_type": "execute_result"
    },
    {
     "data": {
      "image/png": "[encoded data removed]",
      "text/plain": [
       "<Figure size 432x288 with 1 Axes>"
      ]
     },
     "metadata": {
      "needs_background": "light"
     },
     "output_type": "display_data"
    }
   ],
   "source": [
    "df_pivot_diff.sort_values(\"stamp_2\", ascending = False)[\"stamp_2\"].head(10).plot.barh()"
   ]
  },
  {
   "cell_type": "code",
   "execution_count": null,
   "id": "extra-executive",
   "metadata": {
    "papermill": {
     "duration": 0.021879,
     "end_time": "2021-10-23T13:30:11.252459",
     "exception": false,
     "start_time": "2021-10-23T13:30:11.230580",
     "status": "completed"
    },
    "tags": []
   },
   "outputs": [],
   "source": []
  }
 ],
 "metadata": {
  "kernelspec": {
   "display_name": "Python 3",
   "language": "python",
   "name": "python3"
  },
  "language_info": {
   "codemirror_mode": {
    "name": "ipython",
    "version": 3
   },
   "file_extension": ".py",
   "mimetype": "text/x-python",
   "name": "python",
   "nbconvert_exporter": "python",
   "pygments_lexer": "ipython3",
   "version": "3.9.5"
  },
  "papermill": {
   "default_parameters": {},
   "duration": 7.339133,
   "end_time": "2021-10-23T13:30:11.895487",
   "environment_variables": {},
   "exception": null,
   "input_path": "eBay_Overview.ipynb",
   "output_path": "eBay_Overview.ipynb",
   "parameters": {},
   "start_time": "2021-10-23T13:30:04.556354",
   "version": "2.3.3"
  }
 },
 "nbformat": 4,
 "nbformat_minor": 5
}