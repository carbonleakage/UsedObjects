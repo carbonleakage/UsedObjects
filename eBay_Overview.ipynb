{
 "cells": [
  {
   "cell_type": "code",
   "execution_count": 1,
   "id": "reverse-picking",
   "metadata": {
    "execution": {
     "iopub.execute_input": "2021-10-16T07:30:07.966844Z",
     "iopub.status.busy": "2021-10-16T07:30:07.964856Z",
     "iopub.status.idle": "2021-10-16T07:30:08.771617Z",
     "shell.execute_reply": "2021-10-16T07:30:08.772942Z"
    },
    "papermill": {
     "duration": 0.859274,
     "end_time": "2021-10-16T07:30:08.773570",
     "exception": false,
     "start_time": "2021-10-16T07:30:07.914296",
     "status": "completed"
    },
    "tags": []
   },
   "outputs": [],
   "source": [
    "import pandas as pd\n",
    "import sqlite3"
   ]
  },
  {
   "cell_type": "code",
   "execution_count": 2,
   "id": "innovative-syndrome",
   "metadata": {
    "execution": {
     "iopub.execute_input": "2021-10-16T07:30:08.824085Z",
     "iopub.status.busy": "2021-10-16T07:30:08.822207Z",
     "iopub.status.idle": "2021-10-16T07:30:09.382465Z",
     "shell.execute_reply": "2021-10-16T07:30:09.383666Z"
    },
    "papermill": {
     "duration": 0.589758,
     "end_time": "2021-10-16T07:30:09.384056",
     "exception": false,
     "start_time": "2021-10-16T07:30:08.794298",
     "status": "completed"
    },
    "tags": []
   },
   "outputs": [],
   "source": [
    "timestamps = pd.read_sql(\"select distinct record_time from EBAY_TOP_BERLIN order by record_time desc limit 2\", sqlite3.connect(\"UsedObjects.db\"))"
   ]
  },
  {
   "cell_type": "code",
   "execution_count": 3,
   "id": "periodic-identification",
   "metadata": {
    "execution": {
     "iopub.execute_input": "2021-10-16T07:30:09.459729Z",
     "iopub.status.busy": "2021-10-16T07:30:09.457687Z",
     "iopub.status.idle": "2021-10-16T07:30:09.478035Z",
     "shell.execute_reply": "2021-10-16T07:30:09.479310Z"
    },
    "papermill": {
     "duration": 0.068955,
     "end_time": "2021-10-16T07:30:09.479756",
     "exception": false,
     "start_time": "2021-10-16T07:30:09.410801",
     "status": "completed"
    },
    "tags": []
   },
   "outputs": [
    {
     "data": {
      "text/html": [
       "<div>\n",
       "<style scoped>\n",
       "    .dataframe tbody tr th:only-of-type {\n",
       "        vertical-align: middle;\n",
       "    }\n",
       "\n",
       "    .dataframe tbody tr th {\n",
       "        vertical-align: top;\n",
       "    }\n",
       "\n",
       "    .dataframe thead th {\n",
       "        text-align: right;\n",
       "    }\n",
       "</style>\n",
       "<table border=\"1\" class=\"dataframe\">\n",
       "  <thead>\n",
       "    <tr style=\"text-align: right;\">\n",
       "      <th></th>\n",
       "      <th>RECORD_TIME</th>\n",
       "    </tr>\n",
       "  </thead>\n",
       "  <tbody>\n",
       "    <tr>\n",
       "      <th>0</th>\n",
       "      <td>2021-10-16 09:30</td>\n",
       "    </tr>\n",
       "    <tr>\n",
       "      <th>1</th>\n",
       "      <td>2021-10-16 09:00</td>\n",
       "    </tr>\n",
       "  </tbody>\n",
       "</table>\n",
       "</div>"
      ],
      "text/plain": [
       "        RECORD_TIME\n",
       "0  2021-10-16 09:30\n",
       "1  2021-10-16 09:00"
      ]
     },
     "execution_count": 3,
     "metadata": {},
     "output_type": "execute_result"
    }
   ],
   "source": [
    "timestamps"
   ]
  },
  {
   "cell_type": "code",
   "execution_count": 4,
   "id": "alternate-victory",
   "metadata": {
    "execution": {
     "iopub.execute_input": "2021-10-16T07:30:09.534757Z",
     "iopub.status.busy": "2021-10-16T07:30:09.532346Z",
     "iopub.status.idle": "2021-10-16T07:30:10.352137Z",
     "shell.execute_reply": "2021-10-16T07:30:10.353422Z"
    },
    "papermill": {
     "duration": 0.850343,
     "end_time": "2021-10-16T07:30:10.353813",
     "exception": false,
     "start_time": "2021-10-16T07:30:09.503470",
     "status": "completed"
    },
    "tags": []
   },
   "outputs": [],
   "source": [
    "df = pd.read_sql(\"select * from EBAY_TOP_BERLIN where record_time in (select distinct record_time from EBAY_TOP_BERLIN order by record_time desc limit 2)\", sqlite3.connect(\"UsedObjects.db\"))"
   ]
  },
  {
   "cell_type": "code",
   "execution_count": 5,
   "id": "popular-active",
   "metadata": {
    "execution": {
     "iopub.execute_input": "2021-10-16T07:30:10.414546Z",
     "iopub.status.busy": "2021-10-16T07:30:10.412206Z",
     "iopub.status.idle": "2021-10-16T07:30:10.438795Z",
     "shell.execute_reply": "2021-10-16T07:30:10.439998Z"
    },
    "papermill": {
     "duration": 0.06568,
     "end_time": "2021-10-16T07:30:10.440388",
     "exception": false,
     "start_time": "2021-10-16T07:30:10.374708",
     "status": "completed"
    },
    "tags": []
   },
   "outputs": [],
   "source": [
    "df_pivot = df.pivot_table(index=\"PRODUCT\", columns = \"RECORD_TIME\", values = \"LISTING_COUNT\")"
   ]
  },
  {
   "cell_type": "code",
   "execution_count": 6,
   "id": "union-huntington",
   "metadata": {
    "execution": {
     "iopub.execute_input": "2021-10-16T07:30:10.500095Z",
     "iopub.status.busy": "2021-10-16T07:30:10.497668Z",
     "iopub.status.idle": "2021-10-16T07:30:10.503520Z",
     "shell.execute_reply": "2021-10-16T07:30:10.504936Z"
    },
    "papermill": {
     "duration": 0.042519,
     "end_time": "2021-10-16T07:30:10.505370",
     "exception": false,
     "start_time": "2021-10-16T07:30:10.462851",
     "status": "completed"
    },
    "tags": []
   },
   "outputs": [],
   "source": [
    "df_pivot.columns = [\"stamp_1\", \"stamp_2\"]\n",
    "df_pivot_diff = df_pivot.diff(axis=1)"
   ]
  },
  {
   "cell_type": "code",
   "execution_count": 7,
   "id": "fifth-motion",
   "metadata": {
    "execution": {
     "iopub.execute_input": "2021-10-16T07:30:10.560143Z",
     "iopub.status.busy": "2021-10-16T07:30:10.557739Z",
     "iopub.status.idle": "2021-10-16T07:30:12.084793Z",
     "shell.execute_reply": "2021-10-16T07:30:12.086173Z"
    },
    "papermill": {
     "duration": 1.560202,
     "end_time": "2021-10-16T07:30:12.086606",
     "exception": false,
     "start_time": "2021-10-16T07:30:10.526404",
     "status": "completed"
    },
    "tags": []
   },
   "outputs": [
    {
     "data": {
      "text/plain": [
       "<AxesSubplot:ylabel='PRODUCT'>"
      ]
     },
     "execution_count": 7,
     "metadata": {},
     "output_type": "execute_result"
    },
    {
     "data": {
      "image/png": "[encoded data removed]",
      "text/plain": [
       "<Figure size 432x288 with 1 Axes>"
      ]
     },
     "metadata": {
      "needs_background": "light"
     },
     "output_type": "display_data"
    }
   ],
   "source": [
    "df_pivot_diff.sort_values(\"stamp_2\", ascending = False)[\"stamp_2\"].head(10).plot.barh()"
   ]
  },
  {
   "cell_type": "code",
   "execution_count": null,
   "id": "extra-executive",
   "metadata": {
    "papermill": {
     "duration": 0.022321,
     "end_time": "2021-10-16T07:30:12.133692",
     "exception": false,
     "start_time": "2021-10-16T07:30:12.111371",
     "status": "completed"
    },
    "tags": []
   },
   "outputs": [],
   "source": []
  }
 ],
 "metadata": {
  "kernelspec": {
   "display_name": "Python 3",
   "language": "python",
   "name": "python3"
  },
  "language_info": {
   "codemirror_mode": {
    "name": "ipython",
    "version": 3
   },
   "file_extension": ".py",
   "mimetype": "text/x-python",
   "name": "python",
   "nbconvert_exporter": "python",
   "pygments_lexer": "ipython3",
   "version": "3.9.5"
  },
  "papermill": {
   "default_parameters": {},
   "duration": 7.822418,
   "end_time": "2021-10-16T07:30:13.325656",
   "environment_variables": {},
   "exception": null,
   "input_path": "eBay_Overview.ipynb",
   "output_path": "eBay_Overview.ipynb",
   "parameters": {},
   "start_time": "2021-10-16T07:30:05.503238",
   "version": "2.3.3"
  }
 },
 "nbformat": 4,
 "nbformat_minor": 5
}