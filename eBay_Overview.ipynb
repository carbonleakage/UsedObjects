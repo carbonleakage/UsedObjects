{
 "cells": [
  {
   "cell_type": "code",
   "execution_count": 1,
   "id": "reverse-picking",
   "metadata": {
    "execution": {
     "iopub.execute_input": "2021-09-14T23:30:06.528024Z",
     "iopub.status.busy": "2021-09-14T23:30:06.525991Z",
     "iopub.status.idle": "2021-09-14T23:30:07.336529Z",
     "shell.execute_reply": "2021-09-14T23:30:07.337966Z"
    },
    "papermill": {
     "duration": 0.860054,
     "end_time": "2021-09-14T23:30:07.338658",
     "exception": false,
     "start_time": "2021-09-14T23:30:06.478604",
     "status": "completed"
    },
    "tags": []
   },
   "outputs": [],
   "source": [
    "import pandas as pd\n",
    "import sqlite3"
   ]
  },
  {
   "cell_type": "code",
   "execution_count": 2,
   "id": "innovative-syndrome",
   "metadata": {
    "execution": {
     "iopub.execute_input": "2021-09-14T23:30:07.389072Z",
     "iopub.status.busy": "2021-09-14T23:30:07.386682Z",
     "iopub.status.idle": "2021-09-14T23:30:07.678190Z",
     "shell.execute_reply": "2021-09-14T23:30:07.679592Z"
    },
    "papermill": {
     "duration": 0.321094,
     "end_time": "2021-09-14T23:30:07.680033",
     "exception": false,
     "start_time": "2021-09-14T23:30:07.358939",
     "status": "completed"
    },
    "tags": []
   },
   "outputs": [],
   "source": [
    "timestamps = pd.read_sql(\"select distinct record_time from EBAY_TOP_BERLIN order by record_time desc limit 2\", sqlite3.connect(\"UsedObjects.db\"))"
   ]
  },
  {
   "cell_type": "code",
   "execution_count": 3,
   "id": "periodic-identification",
   "metadata": {
    "execution": {
     "iopub.execute_input": "2021-09-14T23:30:07.743327Z",
     "iopub.status.busy": "2021-09-14T23:30:07.741147Z",
     "iopub.status.idle": "2021-09-14T23:30:07.761462Z",
     "shell.execute_reply": "2021-09-14T23:30:07.762654Z"
    },
    "papermill": {
     "duration": 0.063713,
     "end_time": "2021-09-14T23:30:07.763210",
     "exception": false,
     "start_time": "2021-09-14T23:30:07.699497",
     "status": "completed"
    },
    "tags": []
   },
   "outputs": [
    {
     "data": {
      "text/html": [
       "<div>\n",
       "<style scoped>\n",
       "    .dataframe tbody tr th:only-of-type {\n",
       "        vertical-align: middle;\n",
       "    }\n",
       "\n",
       "    .dataframe tbody tr th {\n",
       "        vertical-align: top;\n",
       "    }\n",
       "\n",
       "    .dataframe thead th {\n",
       "        text-align: right;\n",
       "    }\n",
       "</style>\n",
       "<table border=\"1\" class=\"dataframe\">\n",
       "  <thead>\n",
       "    <tr style=\"text-align: right;\">\n",
       "      <th></th>\n",
       "      <th>RECORD_TIME</th>\n",
       "    </tr>\n",
       "  </thead>\n",
       "  <tbody>\n",
       "    <tr>\n",
       "      <th>0</th>\n",
       "      <td>2021-09-15 01:30</td>\n",
       "    </tr>\n",
       "    <tr>\n",
       "      <th>1</th>\n",
       "      <td>2021-09-15 01:00</td>\n",
       "    </tr>\n",
       "  </tbody>\n",
       "</table>\n",
       "</div>"
      ],
      "text/plain": [
       "        RECORD_TIME\n",
       "0  2021-09-15 01:30\n",
       "1  2021-09-15 01:00"
      ]
     },
     "execution_count": 3,
     "metadata": {},
     "output_type": "execute_result"
    }
   ],
   "source": [
    "timestamps"
   ]
  },
  {
   "cell_type": "code",
   "execution_count": 4,
   "id": "alternate-victory",
   "metadata": {
    "execution": {
     "iopub.execute_input": "2021-09-14T23:30:07.816975Z",
     "iopub.status.busy": "2021-09-14T23:30:07.814766Z",
     "iopub.status.idle": "2021-09-14T23:30:08.257628Z",
     "shell.execute_reply": "2021-09-14T23:30:08.258923Z"
    },
    "papermill": {
     "duration": 0.47325,
     "end_time": "2021-09-14T23:30:08.259373",
     "exception": false,
     "start_time": "2021-09-14T23:30:07.786123",
     "status": "completed"
    },
    "tags": []
   },
   "outputs": [],
   "source": [
    "df = pd.read_sql(\"select * from EBAY_TOP_BERLIN where record_time in (select distinct record_time from EBAY_TOP_BERLIN order by record_time desc limit 2)\", sqlite3.connect(\"UsedObjects.db\"))"
   ]
  },
  {
   "cell_type": "code",
   "execution_count": 5,
   "id": "popular-active",
   "metadata": {
    "execution": {
     "iopub.execute_input": "2021-09-14T23:30:08.347952Z",
     "iopub.status.busy": "2021-09-14T23:30:08.337218Z",
     "iopub.status.idle": "2021-09-14T23:30:08.364310Z",
     "shell.execute_reply": "2021-09-14T23:30:08.365539Z"
    },
    "papermill": {
     "duration": 0.071765,
     "end_time": "2021-09-14T23:30:08.365937",
     "exception": false,
     "start_time": "2021-09-14T23:30:08.294172",
     "status": "completed"
    },
    "tags": []
   },
   "outputs": [],
   "source": [
    "df_pivot = df.pivot_table(index=\"PRODUCT\", columns = \"RECORD_TIME\", values = \"LISTING_COUNT\")"
   ]
  },
  {
   "cell_type": "code",
   "execution_count": 6,
   "id": "union-huntington",
   "metadata": {
    "execution": {
     "iopub.execute_input": "2021-09-14T23:30:08.425236Z",
     "iopub.status.busy": "2021-09-14T23:30:08.422775Z",
     "iopub.status.idle": "2021-09-14T23:30:08.428935Z",
     "shell.execute_reply": "2021-09-14T23:30:08.430394Z"
    },
    "papermill": {
     "duration": 0.042737,
     "end_time": "2021-09-14T23:30:08.430911",
     "exception": false,
     "start_time": "2021-09-14T23:30:08.388174",
     "status": "completed"
    },
    "tags": []
   },
   "outputs": [],
   "source": [
    "df_pivot.columns = [\"stamp_1\", \"stamp_2\"]\n",
    "df_pivot_diff = df_pivot.diff(axis=1)"
   ]
  },
  {
   "cell_type": "code",
   "execution_count": 7,
   "id": "fifth-motion",
   "metadata": {
    "execution": {
     "iopub.execute_input": "2021-09-14T23:30:08.485892Z",
     "iopub.status.busy": "2021-09-14T23:30:08.483618Z",
     "iopub.status.idle": "2021-09-14T23:30:09.970223Z",
     "shell.execute_reply": "2021-09-14T23:30:09.971601Z"
    },
    "papermill": {
     "duration": 1.519927,
     "end_time": "2021-09-14T23:30:09.972035",
     "exception": false,
     "start_time": "2021-09-14T23:30:08.452108",
     "status": "completed"
    },
    "tags": []
   },
   "outputs": [
    {
     "data": {
      "text/plain": [
       "<AxesSubplot:ylabel='PRODUCT'>"
      ]
     },
     "execution_count": 7,
     "metadata": {},
     "output_type": "execute_result"
    },
    {
     "data": {
      "image/png": "[encoded data removed]",
      "text/plain": [
       "<Figure size 432x288 with 1 Axes>"
      ]
     },
     "metadata": {
      "needs_background": "light"
     },
     "output_type": "display_data"
    }
   ],
   "source": [
    "df_pivot_diff.sort_values(\"stamp_2\", ascending = False)[\"stamp_2\"].head(10).plot.barh()"
   ]
  },
  {
   "cell_type": "code",
   "execution_count": null,
   "id": "extra-executive",
   "metadata": {
    "papermill": {
     "duration": 0.022121,
     "end_time": "2021-09-14T23:30:10.017480",
     "exception": false,
     "start_time": "2021-09-14T23:30:09.995359",
     "status": "completed"
    },
    "tags": []
   },
   "outputs": [],
   "source": []
  }
 ],
 "metadata": {
  "kernelspec": {
   "display_name": "Python 3",
   "language": "python",
   "name": "python3"
  },
  "language_info": {
   "codemirror_mode": {
    "name": "ipython",
    "version": 3
   },
   "file_extension": ".py",
   "mimetype": "text/x-python",
   "name": "python",
   "nbconvert_exporter": "python",
   "pygments_lexer": "ipython3",
   "version": "3.9.5"
  },
  "papermill": {
   "default_parameters": {},
   "duration": 6.586761,
   "end_time": "2021-09-14T23:30:10.660107",
   "environment_variables": {},
   "exception": null,
   "input_path": "eBay_Overview.ipynb",
   "output_path": "eBay_Overview.ipynb",
   "parameters": {},
   "start_time": "2021-09-14T23:30:04.073346",
   "version": "2.3.3"
  }
 },
 "nbformat": 4,
 "nbformat_minor": 5
}