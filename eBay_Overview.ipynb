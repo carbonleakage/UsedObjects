{
 "cells": [
  {
   "cell_type": "code",
   "execution_count": 1,
   "id": "reverse-picking",
   "metadata": {
    "execution": {
     "iopub.execute_input": "2021-11-25T05:30:07.695186Z",
     "iopub.status.busy": "2021-11-25T05:30:07.692572Z",
     "iopub.status.idle": "2021-11-25T05:30:08.648652Z",
     "shell.execute_reply": "2021-11-25T05:30:08.650573Z"
    },
    "papermill": {
     "duration": 1.008231,
     "end_time": "2021-11-25T05:30:08.651451",
     "exception": false,
     "start_time": "2021-11-25T05:30:07.643220",
     "status": "completed"
    },
    "tags": []
   },
   "outputs": [],
   "source": [
    "import pandas as pd\n",
    "import sqlite3"
   ]
  },
  {
   "cell_type": "code",
   "execution_count": 2,
   "id": "innovative-syndrome",
   "metadata": {
    "execution": {
     "iopub.execute_input": "2021-11-25T05:30:08.726431Z",
     "iopub.status.busy": "2021-11-25T05:30:08.724070Z",
     "iopub.status.idle": "2021-11-25T05:30:09.639642Z",
     "shell.execute_reply": "2021-11-25T05:30:09.641124Z"
    },
    "papermill": {
     "duration": 0.959313,
     "end_time": "2021-11-25T05:30:09.641577",
     "exception": false,
     "start_time": "2021-11-25T05:30:08.682264",
     "status": "completed"
    },
    "tags": []
   },
   "outputs": [],
   "source": [
    "timestamps = pd.read_sql(\"select distinct record_time from EBAY_TOP_BERLIN order by record_time desc limit 2\", sqlite3.connect(\"UsedObjects.db\"))"
   ]
  },
  {
   "cell_type": "code",
   "execution_count": 3,
   "id": "periodic-identification",
   "metadata": {
    "execution": {
     "iopub.execute_input": "2021-11-25T05:30:09.710637Z",
     "iopub.status.busy": "2021-11-25T05:30:09.705615Z",
     "iopub.status.idle": "2021-11-25T05:30:09.727222Z",
     "shell.execute_reply": "2021-11-25T05:30:09.725779Z"
    },
    "papermill": {
     "duration": 0.066442,
     "end_time": "2021-11-25T05:30:09.727573",
     "exception": false,
     "start_time": "2021-11-25T05:30:09.661131",
     "status": "completed"
    },
    "tags": []
   },
   "outputs": [
    {
     "data": {
      "text/html": [
       "<div>\n",
       "<style scoped>\n",
       "    .dataframe tbody tr th:only-of-type {\n",
       "        vertical-align: middle;\n",
       "    }\n",
       "\n",
       "    .dataframe tbody tr th {\n",
       "        vertical-align: top;\n",
       "    }\n",
       "\n",
       "    .dataframe thead th {\n",
       "        text-align: right;\n",
       "    }\n",
       "</style>\n",
       "<table border=\"1\" class=\"dataframe\">\n",
       "  <thead>\n",
       "    <tr style=\"text-align: right;\">\n",
       "      <th></th>\n",
       "      <th>RECORD_TIME</th>\n",
       "    </tr>\n",
       "  </thead>\n",
       "  <tbody>\n",
       "    <tr>\n",
       "      <th>0</th>\n",
       "      <td>2021-11-25 06:30</td>\n",
       "    </tr>\n",
       "    <tr>\n",
       "      <th>1</th>\n",
       "      <td>2021-11-25 06:00</td>\n",
       "    </tr>\n",
       "  </tbody>\n",
       "</table>\n",
       "</div>"
      ],
      "text/plain": [
       "        RECORD_TIME\n",
       "0  2021-11-25 06:30\n",
       "1  2021-11-25 06:00"
      ]
     },
     "execution_count": 3,
     "metadata": {},
     "output_type": "execute_result"
    }
   ],
   "source": [
    "timestamps"
   ]
  },
  {
   "cell_type": "code",
   "execution_count": 4,
   "id": "alternate-victory",
   "metadata": {
    "execution": {
     "iopub.execute_input": "2021-11-25T05:30:09.778771Z",
     "iopub.status.busy": "2021-11-25T05:30:09.776891Z",
     "iopub.status.idle": "2021-11-25T05:30:11.116198Z",
     "shell.execute_reply": "2021-11-25T05:30:11.118596Z"
    },
    "papermill": {
     "duration": 1.370758,
     "end_time": "2021-11-25T05:30:11.119090",
     "exception": false,
     "start_time": "2021-11-25T05:30:09.748332",
     "status": "completed"
    },
    "tags": []
   },
   "outputs": [],
   "source": [
    "df = pd.read_sql(\"select * from EBAY_TOP_BERLIN where record_time in (select distinct record_time from EBAY_TOP_BERLIN order by record_time desc limit 2)\", sqlite3.connect(\"UsedObjects.db\"))"
   ]
  },
  {
   "cell_type": "code",
   "execution_count": 5,
   "id": "popular-active",
   "metadata": {
    "execution": {
     "iopub.execute_input": "2021-11-25T05:30:11.194947Z",
     "iopub.status.busy": "2021-11-25T05:30:11.186878Z",
     "iopub.status.idle": "2021-11-25T05:30:11.227970Z",
     "shell.execute_reply": "2021-11-25T05:30:11.226426Z"
    },
    "papermill": {
     "duration": 0.084424,
     "end_time": "2021-11-25T05:30:11.228373",
     "exception": false,
     "start_time": "2021-11-25T05:30:11.143949",
     "status": "completed"
    },
    "tags": []
   },
   "outputs": [],
   "source": [
    "df_pivot = df.pivot_table(index=\"PRODUCT\", columns = \"RECORD_TIME\", values = \"LISTING_COUNT\")"
   ]
  },
  {
   "cell_type": "code",
   "execution_count": 6,
   "id": "union-huntington",
   "metadata": {
    "execution": {
     "iopub.execute_input": "2021-11-25T05:30:11.291101Z",
     "iopub.status.busy": "2021-11-25T05:30:11.288868Z",
     "iopub.status.idle": "2021-11-25T05:30:11.296038Z",
     "shell.execute_reply": "2021-11-25T05:30:11.294569Z"
    },
    "papermill": {
     "duration": 0.045212,
     "end_time": "2021-11-25T05:30:11.296449",
     "exception": false,
     "start_time": "2021-11-25T05:30:11.251237",
     "status": "completed"
    },
    "tags": []
   },
   "outputs": [],
   "source": [
    "df_pivot.columns = [\"stamp_1\", \"stamp_2\"]\n",
    "df_pivot_diff = df_pivot.diff(axis=1)"
   ]
  },
  {
   "cell_type": "code",
   "execution_count": 7,
   "id": "fifth-motion",
   "metadata": {
    "execution": {
     "iopub.execute_input": "2021-11-25T05:30:11.388086Z",
     "iopub.status.busy": "2021-11-25T05:30:11.385246Z",
     "iopub.status.idle": "2021-11-25T05:30:13.378605Z",
     "shell.execute_reply": "2021-11-25T05:30:13.380509Z"
    },
    "papermill": {
     "duration": 2.06456,
     "end_time": "2021-11-25T05:30:13.381187",
     "exception": false,
     "start_time": "2021-11-25T05:30:11.316627",
     "status": "completed"
    },
    "tags": []
   },
   "outputs": [
    {
     "data": {
      "text/plain": [
       "<AxesSubplot:ylabel='PRODUCT'>"
      ]
     },
     "execution_count": 7,
     "metadata": {},
     "output_type": "execute_result"
    },
    {
     "data": {
      "image/png": "[encoded data removed]",
      "text/plain": [
       "<Figure size 432x288 with 1 Axes>"
      ]
     },
     "metadata": {
      "needs_background": "light"
     },
     "output_type": "display_data"
    }
   ],
   "source": [
    "df_pivot_diff.sort_values(\"stamp_2\", ascending = False)[\"stamp_2\"].head(10).plot.barh()"
   ]
  },
  {
   "cell_type": "code",
   "execution_count": null,
   "id": "extra-executive",
   "metadata": {
    "papermill": {
     "duration": 0.025358,
     "end_time": "2021-11-25T05:30:13.435396",
     "exception": false,
     "start_time": "2021-11-25T05:30:13.410038",
     "status": "completed"
    },
    "tags": []
   },
   "outputs": [],
   "source": []
  }
 ],
 "metadata": {
  "kernelspec": {
   "display_name": "Python 3",
   "language": "python",
   "name": "python3"
  },
  "language_info": {
   "codemirror_mode": {
    "name": "ipython",
    "version": 3
   },
   "file_extension": ".py",
   "mimetype": "text/x-python",
   "name": "python",
   "nbconvert_exporter": "python",
   "pygments_lexer": "ipython3",
   "version": "3.9.5"
  },
  "papermill": {
   "default_parameters": {},
   "duration": 9.936324,
   "end_time": "2021-11-25T05:30:14.846667",
   "environment_variables": {},
   "exception": null,
   "input_path": "eBay_Overview.ipynb",
   "output_path": "eBay_Overview.ipynb",
   "parameters": {},
   "start_time": "2021-11-25T05:30:04.910343",
   "version": "2.3.3"
  }
 },
 "nbformat": 4,
 "nbformat_minor": 5
}