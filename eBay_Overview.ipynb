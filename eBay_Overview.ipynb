{
 "cells": [
  {
   "cell_type": "code",
   "execution_count": 1,
   "id": "reverse-picking",
   "metadata": {
    "execution": {
     "iopub.execute_input": "2021-10-06T05:30:07.233066Z",
     "iopub.status.busy": "2021-10-06T05:30:07.231143Z",
     "iopub.status.idle": "2021-10-06T05:30:08.039661Z",
     "shell.execute_reply": "2021-10-06T05:30:08.038012Z"
    },
    "papermill": {
     "duration": 0.860344,
     "end_time": "2021-10-06T05:30:08.040066",
     "exception": false,
     "start_time": "2021-10-06T05:30:07.179722",
     "status": "completed"
    },
    "tags": []
   },
   "outputs": [],
   "source": [
    "import pandas as pd\n",
    "import sqlite3"
   ]
  },
  {
   "cell_type": "code",
   "execution_count": 2,
   "id": "innovative-syndrome",
   "metadata": {
    "execution": {
     "iopub.execute_input": "2021-10-06T05:30:08.091810Z",
     "iopub.status.busy": "2021-10-06T05:30:08.089842Z",
     "iopub.status.idle": "2021-10-06T05:30:08.552745Z",
     "shell.execute_reply": "2021-10-06T05:30:08.553925Z"
    },
    "papermill": {
     "duration": 0.492066,
     "end_time": "2021-10-06T05:30:08.554314",
     "exception": false,
     "start_time": "2021-10-06T05:30:08.062248",
     "status": "completed"
    },
    "tags": []
   },
   "outputs": [],
   "source": [
    "timestamps = pd.read_sql(\"select distinct record_time from EBAY_TOP_BERLIN order by record_time desc limit 2\", sqlite3.connect(\"UsedObjects.db\"))"
   ]
  },
  {
   "cell_type": "code",
   "execution_count": 3,
   "id": "periodic-identification",
   "metadata": {
    "execution": {
     "iopub.execute_input": "2021-10-06T05:30:08.617569Z",
     "iopub.status.busy": "2021-10-06T05:30:08.615566Z",
     "iopub.status.idle": "2021-10-06T05:30:08.635694Z",
     "shell.execute_reply": "2021-10-06T05:30:08.636978Z"
    },
    "papermill": {
     "duration": 0.063747,
     "end_time": "2021-10-06T05:30:08.637382",
     "exception": false,
     "start_time": "2021-10-06T05:30:08.573635",
     "status": "completed"
    },
    "tags": []
   },
   "outputs": [
    {
     "data": {
      "text/html": [
       "<div>\n",
       "<style scoped>\n",
       "    .dataframe tbody tr th:only-of-type {\n",
       "        vertical-align: middle;\n",
       "    }\n",
       "\n",
       "    .dataframe tbody tr th {\n",
       "        vertical-align: top;\n",
       "    }\n",
       "\n",
       "    .dataframe thead th {\n",
       "        text-align: right;\n",
       "    }\n",
       "</style>\n",
       "<table border=\"1\" class=\"dataframe\">\n",
       "  <thead>\n",
       "    <tr style=\"text-align: right;\">\n",
       "      <th></th>\n",
       "      <th>RECORD_TIME</th>\n",
       "    </tr>\n",
       "  </thead>\n",
       "  <tbody>\n",
       "    <tr>\n",
       "      <th>0</th>\n",
       "      <td>2021-10-06 07:30</td>\n",
       "    </tr>\n",
       "    <tr>\n",
       "      <th>1</th>\n",
       "      <td>2021-10-06 07:00</td>\n",
       "    </tr>\n",
       "  </tbody>\n",
       "</table>\n",
       "</div>"
      ],
      "text/plain": [
       "        RECORD_TIME\n",
       "0  2021-10-06 07:30\n",
       "1  2021-10-06 07:00"
      ]
     },
     "execution_count": 3,
     "metadata": {},
     "output_type": "execute_result"
    }
   ],
   "source": [
    "timestamps"
   ]
  },
  {
   "cell_type": "code",
   "execution_count": 4,
   "id": "alternate-victory",
   "metadata": {
    "execution": {
     "iopub.execute_input": "2021-10-06T05:30:08.701346Z",
     "iopub.status.busy": "2021-10-06T05:30:08.699492Z",
     "iopub.status.idle": "2021-10-06T05:30:09.370131Z",
     "shell.execute_reply": "2021-10-06T05:30:09.371407Z"
    },
    "papermill": {
     "duration": 0.704437,
     "end_time": "2021-10-06T05:30:09.371808",
     "exception": false,
     "start_time": "2021-10-06T05:30:08.667371",
     "status": "completed"
    },
    "tags": []
   },
   "outputs": [],
   "source": [
    "df = pd.read_sql(\"select * from EBAY_TOP_BERLIN where record_time in (select distinct record_time from EBAY_TOP_BERLIN order by record_time desc limit 2)\", sqlite3.connect(\"UsedObjects.db\"))"
   ]
  },
  {
   "cell_type": "code",
   "execution_count": 5,
   "id": "popular-active",
   "metadata": {
    "execution": {
     "iopub.execute_input": "2021-10-06T05:30:09.440634Z",
     "iopub.status.busy": "2021-10-06T05:30:09.429184Z",
     "iopub.status.idle": "2021-10-06T05:30:09.456943Z",
     "shell.execute_reply": "2021-10-06T05:30:09.458147Z"
    },
    "papermill": {
     "duration": 0.066271,
     "end_time": "2021-10-06T05:30:09.458533",
     "exception": false,
     "start_time": "2021-10-06T05:30:09.392262",
     "status": "completed"
    },
    "tags": []
   },
   "outputs": [],
   "source": [
    "df_pivot = df.pivot_table(index=\"PRODUCT\", columns = \"RECORD_TIME\", values = \"LISTING_COUNT\")"
   ]
  },
  {
   "cell_type": "code",
   "execution_count": 6,
   "id": "union-huntington",
   "metadata": {
    "execution": {
     "iopub.execute_input": "2021-10-06T05:30:09.517348Z",
     "iopub.status.busy": "2021-10-06T05:30:09.514956Z",
     "iopub.status.idle": "2021-10-06T05:30:09.522887Z",
     "shell.execute_reply": "2021-10-06T05:30:09.521147Z"
    },
    "papermill": {
     "duration": 0.042681,
     "end_time": "2021-10-06T05:30:09.523294",
     "exception": false,
     "start_time": "2021-10-06T05:30:09.480613",
     "status": "completed"
    },
    "tags": []
   },
   "outputs": [],
   "source": [
    "df_pivot.columns = [\"stamp_1\", \"stamp_2\"]\n",
    "df_pivot_diff = df_pivot.diff(axis=1)"
   ]
  },
  {
   "cell_type": "code",
   "execution_count": 7,
   "id": "fifth-motion",
   "metadata": {
    "execution": {
     "iopub.execute_input": "2021-10-06T05:30:09.578136Z",
     "iopub.status.busy": "2021-10-06T05:30:09.575904Z",
     "iopub.status.idle": "2021-10-06T05:30:11.050226Z",
     "shell.execute_reply": "2021-10-06T05:30:11.051708Z"
    },
    "papermill": {
     "duration": 1.50693,
     "end_time": "2021-10-06T05:30:11.052156",
     "exception": false,
     "start_time": "2021-10-06T05:30:09.545226",
     "status": "completed"
    },
    "tags": []
   },
   "outputs": [
    {
     "data": {
      "text/plain": [
       "<AxesSubplot:ylabel='PRODUCT'>"
      ]
     },
     "execution_count": 7,
     "metadata": {},
     "output_type": "execute_result"
    },
    {
     "data": {
      "image/png": "[encoded data removed]",
      "text/plain": [
       "<Figure size 432x288 with 1 Axes>"
      ]
     },
     "metadata": {
      "needs_background": "light"
     },
     "output_type": "display_data"
    }
   ],
   "source": [
    "df_pivot_diff.sort_values(\"stamp_2\", ascending = False)[\"stamp_2\"].head(10).plot.barh()"
   ]
  },
  {
   "cell_type": "code",
   "execution_count": null,
   "id": "extra-executive",
   "metadata": {
    "papermill": {
     "duration": 0.02213,
     "end_time": "2021-10-06T05:30:11.098733",
     "exception": false,
     "start_time": "2021-10-06T05:30:11.076603",
     "status": "completed"
    },
    "tags": []
   },
   "outputs": [],
   "source": []
  }
 ],
 "metadata": {
  "kernelspec": {
   "display_name": "Python 3",
   "language": "python",
   "name": "python3"
  },
  "language_info": {
   "codemirror_mode": {
    "name": "ipython",
    "version": 3
   },
   "file_extension": ".py",
   "mimetype": "text/x-python",
   "name": "python",
   "nbconvert_exporter": "python",
   "pygments_lexer": "ipython3",
   "version": "3.9.5"
  },
  "papermill": {
   "default_parameters": {},
   "duration": 7.823332,
   "end_time": "2021-10-06T05:30:12.595536",
   "environment_variables": {},
   "exception": null,
   "input_path": "eBay_Overview.ipynb",
   "output_path": "eBay_Overview.ipynb",
   "parameters": {},
   "start_time": "2021-10-06T05:30:04.772204",
   "version": "2.3.3"
  }
 },
 "nbformat": 4,
 "nbformat_minor": 5
}