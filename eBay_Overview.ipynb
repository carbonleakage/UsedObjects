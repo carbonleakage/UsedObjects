{
 "cells": [
  {
   "cell_type": "code",
   "execution_count": 1,
   "id": "reverse-picking",
   "metadata": {
    "execution": {
     "iopub.execute_input": "2021-10-18T08:30:07.010596Z",
     "iopub.status.busy": "2021-10-18T08:30:07.008540Z",
     "iopub.status.idle": "2021-10-18T08:30:07.818328Z",
     "shell.execute_reply": "2021-10-18T08:30:07.816557Z"
    },
    "papermill": {
     "duration": 0.860753,
     "end_time": "2021-10-18T08:30:07.818747",
     "exception": false,
     "start_time": "2021-10-18T08:30:06.957994",
     "status": "completed"
    },
    "tags": []
   },
   "outputs": [],
   "source": [
    "import pandas as pd\n",
    "import sqlite3"
   ]
  },
  {
   "cell_type": "code",
   "execution_count": 2,
   "id": "innovative-syndrome",
   "metadata": {
    "execution": {
     "iopub.execute_input": "2021-10-18T08:30:07.869327Z",
     "iopub.status.busy": "2021-10-18T08:30:07.867287Z",
     "iopub.status.idle": "2021-10-18T08:30:08.439428Z",
     "shell.execute_reply": "2021-10-18T08:30:08.440637Z"
    },
    "papermill": {
     "duration": 0.601639,
     "end_time": "2021-10-18T08:30:08.441142",
     "exception": false,
     "start_time": "2021-10-18T08:30:07.839503",
     "status": "completed"
    },
    "tags": []
   },
   "outputs": [],
   "source": [
    "timestamps = pd.read_sql(\"select distinct record_time from EBAY_TOP_BERLIN order by record_time desc limit 2\", sqlite3.connect(\"UsedObjects.db\"))"
   ]
  },
  {
   "cell_type": "code",
   "execution_count": 3,
   "id": "periodic-identification",
   "metadata": {
    "execution": {
     "iopub.execute_input": "2021-10-18T08:30:08.523694Z",
     "iopub.status.busy": "2021-10-18T08:30:08.518528Z",
     "iopub.status.idle": "2021-10-18T08:30:08.538491Z",
     "shell.execute_reply": "2021-10-18T08:30:08.539707Z"
    },
    "papermill": {
     "duration": 0.069471,
     "end_time": "2021-10-18T08:30:08.540105",
     "exception": false,
     "start_time": "2021-10-18T08:30:08.470634",
     "status": "completed"
    },
    "tags": []
   },
   "outputs": [
    {
     "data": {
      "text/html": [
       "<div>\n",
       "<style scoped>\n",
       "    .dataframe tbody tr th:only-of-type {\n",
       "        vertical-align: middle;\n",
       "    }\n",
       "\n",
       "    .dataframe tbody tr th {\n",
       "        vertical-align: top;\n",
       "    }\n",
       "\n",
       "    .dataframe thead th {\n",
       "        text-align: right;\n",
       "    }\n",
       "</style>\n",
       "<table border=\"1\" class=\"dataframe\">\n",
       "  <thead>\n",
       "    <tr style=\"text-align: right;\">\n",
       "      <th></th>\n",
       "      <th>RECORD_TIME</th>\n",
       "    </tr>\n",
       "  </thead>\n",
       "  <tbody>\n",
       "    <tr>\n",
       "      <th>0</th>\n",
       "      <td>2021-10-18 10:30</td>\n",
       "    </tr>\n",
       "    <tr>\n",
       "      <th>1</th>\n",
       "      <td>2021-10-18 10:00</td>\n",
       "    </tr>\n",
       "  </tbody>\n",
       "</table>\n",
       "</div>"
      ],
      "text/plain": [
       "        RECORD_TIME\n",
       "0  2021-10-18 10:30\n",
       "1  2021-10-18 10:00"
      ]
     },
     "execution_count": 3,
     "metadata": {},
     "output_type": "execute_result"
    }
   ],
   "source": [
    "timestamps"
   ]
  },
  {
   "cell_type": "code",
   "execution_count": 4,
   "id": "alternate-victory",
   "metadata": {
    "execution": {
     "iopub.execute_input": "2021-10-18T08:30:08.592131Z",
     "iopub.status.busy": "2021-10-18T08:30:08.589834Z",
     "iopub.status.idle": "2021-10-18T08:30:09.466044Z",
     "shell.execute_reply": "2021-10-18T08:30:09.467436Z"
    },
    "papermill": {
     "duration": 0.906765,
     "end_time": "2021-10-18T08:30:09.467883",
     "exception": false,
     "start_time": "2021-10-18T08:30:08.561118",
     "status": "completed"
    },
    "tags": []
   },
   "outputs": [],
   "source": [
    "df = pd.read_sql(\"select * from EBAY_TOP_BERLIN where record_time in (select distinct record_time from EBAY_TOP_BERLIN order by record_time desc limit 2)\", sqlite3.connect(\"UsedObjects.db\"))"
   ]
  },
  {
   "cell_type": "code",
   "execution_count": 5,
   "id": "popular-active",
   "metadata": {
    "execution": {
     "iopub.execute_input": "2021-10-18T08:30:09.534109Z",
     "iopub.status.busy": "2021-10-18T08:30:09.526718Z",
     "iopub.status.idle": "2021-10-18T08:30:09.554245Z",
     "shell.execute_reply": "2021-10-18T08:30:09.555497Z"
    },
    "papermill": {
     "duration": 0.067069,
     "end_time": "2021-10-18T08:30:09.555898",
     "exception": false,
     "start_time": "2021-10-18T08:30:09.488829",
     "status": "completed"
    },
    "tags": []
   },
   "outputs": [],
   "source": [
    "df_pivot = df.pivot_table(index=\"PRODUCT\", columns = \"RECORD_TIME\", values = \"LISTING_COUNT\")"
   ]
  },
  {
   "cell_type": "code",
   "execution_count": 6,
   "id": "union-huntington",
   "metadata": {
    "execution": {
     "iopub.execute_input": "2021-10-18T08:30:09.611654Z",
     "iopub.status.busy": "2021-10-18T08:30:09.609475Z",
     "iopub.status.idle": "2021-10-18T08:30:09.614952Z",
     "shell.execute_reply": "2021-10-18T08:30:09.616319Z"
    },
    "papermill": {
     "duration": 0.041664,
     "end_time": "2021-10-18T08:30:09.617414",
     "exception": false,
     "start_time": "2021-10-18T08:30:09.575750",
     "status": "completed"
    },
    "tags": []
   },
   "outputs": [],
   "source": [
    "df_pivot.columns = [\"stamp_1\", \"stamp_2\"]\n",
    "df_pivot_diff = df_pivot.diff(axis=1)"
   ]
  },
  {
   "cell_type": "code",
   "execution_count": 7,
   "id": "fifth-motion",
   "metadata": {
    "execution": {
     "iopub.execute_input": "2021-10-18T08:30:09.672874Z",
     "iopub.status.busy": "2021-10-18T08:30:09.670105Z",
     "iopub.status.idle": "2021-10-18T08:30:11.161501Z",
     "shell.execute_reply": "2021-10-18T08:30:11.162716Z"
    },
    "papermill": {
     "duration": 1.524807,
     "end_time": "2021-10-18T08:30:11.163150",
     "exception": false,
     "start_time": "2021-10-18T08:30:09.638343",
     "status": "completed"
    },
    "tags": []
   },
   "outputs": [
    {
     "data": {
      "text/plain": [
       "<AxesSubplot:ylabel='PRODUCT'>"
      ]
     },
     "execution_count": 7,
     "metadata": {},
     "output_type": "execute_result"
    },
    {
     "data": {
      "image/png": "[encoded data removed]",
      "text/plain": [
       "<Figure size 432x288 with 1 Axes>"
      ]
     },
     "metadata": {
      "needs_background": "light"
     },
     "output_type": "display_data"
    }
   ],
   "source": [
    "df_pivot_diff.sort_values(\"stamp_2\", ascending = False)[\"stamp_2\"].head(10).plot.barh()"
   ]
  },
  {
   "cell_type": "code",
   "execution_count": null,
   "id": "extra-executive",
   "metadata": {
    "papermill": {
     "duration": 0.022021,
     "end_time": "2021-10-18T08:30:11.210772",
     "exception": false,
     "start_time": "2021-10-18T08:30:11.188751",
     "status": "completed"
    },
    "tags": []
   },
   "outputs": [],
   "source": []
  }
 ],
 "metadata": {
  "kernelspec": {
   "display_name": "Python 3",
   "language": "python",
   "name": "python3"
  },
  "language_info": {
   "codemirror_mode": {
    "name": "ipython",
    "version": 3
   },
   "file_extension": ".py",
   "mimetype": "text/x-python",
   "name": "python",
   "nbconvert_exporter": "python",
   "pygments_lexer": "ipython3",
   "version": "3.9.5"
  },
  "papermill": {
   "default_parameters": {},
   "duration": 7.822567,
   "end_time": "2021-10-18T08:30:12.367696",
   "environment_variables": {},
   "exception": null,
   "input_path": "eBay_Overview.ipynb",
   "output_path": "eBay_Overview.ipynb",
   "parameters": {},
   "start_time": "2021-10-18T08:30:04.545129",
   "version": "2.3.3"
  }
 },
 "nbformat": 4,
 "nbformat_minor": 5
}