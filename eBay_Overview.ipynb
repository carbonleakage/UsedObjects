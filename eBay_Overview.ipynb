{
 "cells": [
  {
   "cell_type": "code",
   "execution_count": 1,
   "id": "reverse-picking",
   "metadata": {
    "execution": {
     "iopub.execute_input": "2021-10-29T03:00:07.391163Z",
     "iopub.status.busy": "2021-10-29T03:00:07.389214Z",
     "iopub.status.idle": "2021-10-29T03:00:08.195254Z",
     "shell.execute_reply": "2021-10-29T03:00:08.196480Z"
    },
    "papermill": {
     "duration": 0.858233,
     "end_time": "2021-10-29T03:00:08.197161",
     "exception": false,
     "start_time": "2021-10-29T03:00:07.338928",
     "status": "completed"
    },
    "tags": []
   },
   "outputs": [],
   "source": [
    "import pandas as pd\n",
    "import sqlite3"
   ]
  },
  {
   "cell_type": "code",
   "execution_count": 2,
   "id": "innovative-syndrome",
   "metadata": {
    "execution": {
     "iopub.execute_input": "2021-10-29T03:00:08.247886Z",
     "iopub.status.busy": "2021-10-29T03:00:08.246015Z",
     "iopub.status.idle": "2021-10-29T03:00:08.900597Z",
     "shell.execute_reply": "2021-10-29T03:00:08.901932Z"
    },
    "papermill": {
     "duration": 0.684315,
     "end_time": "2021-10-29T03:00:08.902349",
     "exception": false,
     "start_time": "2021-10-29T03:00:08.218034",
     "status": "completed"
    },
    "tags": []
   },
   "outputs": [],
   "source": [
    "timestamps = pd.read_sql(\"select distinct record_time from EBAY_TOP_BERLIN order by record_time desc limit 2\", sqlite3.connect(\"UsedObjects.db\"))"
   ]
  },
  {
   "cell_type": "code",
   "execution_count": 3,
   "id": "periodic-identification",
   "metadata": {
    "execution": {
     "iopub.execute_input": "2021-10-29T03:00:09.039581Z",
     "iopub.status.busy": "2021-10-29T03:00:09.037560Z",
     "iopub.status.idle": "2021-10-29T03:00:09.059210Z",
     "shell.execute_reply": "2021-10-29T03:00:09.060393Z"
    },
    "papermill": {
     "duration": 0.07549,
     "end_time": "2021-10-29T03:00:09.060869",
     "exception": false,
     "start_time": "2021-10-29T03:00:08.985379",
     "status": "completed"
    },
    "tags": []
   },
   "outputs": [
    {
     "data": {
      "text/html": [
       "<div>\n",
       "<style scoped>\n",
       "    .dataframe tbody tr th:only-of-type {\n",
       "        vertical-align: middle;\n",
       "    }\n",
       "\n",
       "    .dataframe tbody tr th {\n",
       "        vertical-align: top;\n",
       "    }\n",
       "\n",
       "    .dataframe thead th {\n",
       "        text-align: right;\n",
       "    }\n",
       "</style>\n",
       "<table border=\"1\" class=\"dataframe\">\n",
       "  <thead>\n",
       "    <tr style=\"text-align: right;\">\n",
       "      <th></th>\n",
       "      <th>RECORD_TIME</th>\n",
       "    </tr>\n",
       "  </thead>\n",
       "  <tbody>\n",
       "    <tr>\n",
       "      <th>0</th>\n",
       "      <td>2021-10-29 05:00</td>\n",
       "    </tr>\n",
       "    <tr>\n",
       "      <th>1</th>\n",
       "      <td>2021-10-29 04:30</td>\n",
       "    </tr>\n",
       "  </tbody>\n",
       "</table>\n",
       "</div>"
      ],
      "text/plain": [
       "        RECORD_TIME\n",
       "0  2021-10-29 05:00\n",
       "1  2021-10-29 04:30"
      ]
     },
     "execution_count": 3,
     "metadata": {},
     "output_type": "execute_result"
    }
   ],
   "source": [
    "timestamps"
   ]
  },
  {
   "cell_type": "code",
   "execution_count": 4,
   "id": "alternate-victory",
   "metadata": {
    "execution": {
     "iopub.execute_input": "2021-10-29T03:00:09.114076Z",
     "iopub.status.busy": "2021-10-29T03:00:09.112074Z",
     "iopub.status.idle": "2021-10-29T03:00:10.064940Z",
     "shell.execute_reply": "2021-10-29T03:00:10.066311Z"
    },
    "papermill": {
     "duration": 0.982921,
     "end_time": "2021-10-29T03:00:10.066723",
     "exception": false,
     "start_time": "2021-10-29T03:00:09.083802",
     "status": "completed"
    },
    "tags": []
   },
   "outputs": [],
   "source": [
    "df = pd.read_sql(\"select * from EBAY_TOP_BERLIN where record_time in (select distinct record_time from EBAY_TOP_BERLIN order by record_time desc limit 2)\", sqlite3.connect(\"UsedObjects.db\"))"
   ]
  },
  {
   "cell_type": "code",
   "execution_count": 5,
   "id": "popular-active",
   "metadata": {
    "execution": {
     "iopub.execute_input": "2021-10-29T03:00:10.136813Z",
     "iopub.status.busy": "2021-10-29T03:00:10.125228Z",
     "iopub.status.idle": "2021-10-29T03:00:10.155490Z",
     "shell.execute_reply": "2021-10-29T03:00:10.156827Z"
    },
    "papermill": {
     "duration": 0.069857,
     "end_time": "2021-10-29T03:00:10.157251",
     "exception": false,
     "start_time": "2021-10-29T03:00:10.087394",
     "status": "completed"
    },
    "tags": []
   },
   "outputs": [],
   "source": [
    "df_pivot = df.pivot_table(index=\"PRODUCT\", columns = \"RECORD_TIME\", values = \"LISTING_COUNT\")"
   ]
  },
  {
   "cell_type": "code",
   "execution_count": 6,
   "id": "union-huntington",
   "metadata": {
    "execution": {
     "iopub.execute_input": "2021-10-29T03:00:10.213496Z",
     "iopub.status.busy": "2021-10-29T03:00:10.211399Z",
     "iopub.status.idle": "2021-10-29T03:00:10.216636Z",
     "shell.execute_reply": "2021-10-29T03:00:10.218129Z"
    },
    "papermill": {
     "duration": 0.041016,
     "end_time": "2021-10-29T03:00:10.218570",
     "exception": false,
     "start_time": "2021-10-29T03:00:10.177554",
     "status": "completed"
    },
    "tags": []
   },
   "outputs": [],
   "source": [
    "df_pivot.columns = [\"stamp_1\", \"stamp_2\"]\n",
    "df_pivot_diff = df_pivot.diff(axis=1)"
   ]
  },
  {
   "cell_type": "code",
   "execution_count": 7,
   "id": "fifth-motion",
   "metadata": {
    "execution": {
     "iopub.execute_input": "2021-10-29T03:00:10.273868Z",
     "iopub.status.busy": "2021-10-29T03:00:10.271290Z",
     "iopub.status.idle": "2021-10-29T03:00:11.763570Z",
     "shell.execute_reply": "2021-10-29T03:00:11.765366Z"
    },
    "papermill": {
     "duration": 1.525915,
     "end_time": "2021-10-29T03:00:11.765911",
     "exception": false,
     "start_time": "2021-10-29T03:00:10.239996",
     "status": "completed"
    },
    "tags": []
   },
   "outputs": [
    {
     "data": {
      "text/plain": [
       "<AxesSubplot:ylabel='PRODUCT'>"
      ]
     },
     "execution_count": 7,
     "metadata": {},
     "output_type": "execute_result"
    },
    {
     "data": {
      "image/png": "[encoded data removed]",
      "text/plain": [
       "<Figure size 432x288 with 1 Axes>"
      ]
     },
     "metadata": {
      "needs_background": "light"
     },
     "output_type": "display_data"
    }
   ],
   "source": [
    "df_pivot_diff.sort_values(\"stamp_2\", ascending = False)[\"stamp_2\"].head(10).plot.barh()"
   ]
  },
  {
   "cell_type": "code",
   "execution_count": null,
   "id": "extra-executive",
   "metadata": {
    "papermill": {
     "duration": 0.022261,
     "end_time": "2021-10-29T03:00:11.812880",
     "exception": false,
     "start_time": "2021-10-29T03:00:11.790619",
     "status": "completed"
    },
    "tags": []
   },
   "outputs": [],
   "source": []
  }
 ],
 "metadata": {
  "kernelspec": {
   "display_name": "Python 3",
   "language": "python",
   "name": "python3"
  },
  "language_info": {
   "codemirror_mode": {
    "name": "ipython",
    "version": 3
   },
   "file_extension": ".py",
   "mimetype": "text/x-python",
   "name": "python",
   "nbconvert_exporter": "python",
   "pygments_lexer": "ipython3",
   "version": "3.9.5"
  },
  "papermill": {
   "default_parameters": {},
   "duration": 7.512972,
   "end_time": "2021-10-29T03:00:12.456338",
   "environment_variables": {},
   "exception": null,
   "input_path": "eBay_Overview.ipynb",
   "output_path": "eBay_Overview.ipynb",
   "parameters": {},
   "start_time": "2021-10-29T03:00:04.943366",
   "version": "2.3.3"
  }
 },
 "nbformat": 4,
 "nbformat_minor": 5
}