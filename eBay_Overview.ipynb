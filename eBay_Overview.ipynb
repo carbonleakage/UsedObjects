{
 "cells": [
  {
   "cell_type": "code",
   "execution_count": 1,
   "id": "reverse-picking",
   "metadata": {
    "execution": {
     "iopub.execute_input": "2021-09-01T04:00:07.155390Z",
     "iopub.status.busy": "2021-09-01T04:00:07.153410Z",
     "iopub.status.idle": "2021-09-01T04:00:07.953395Z",
     "shell.execute_reply": "2021-09-01T04:00:07.954689Z"
    },
    "papermill": {
     "duration": 0.850123,
     "end_time": "2021-09-01T04:00:07.955393",
     "exception": false,
     "start_time": "2021-09-01T04:00:07.105270",
     "status": "completed"
    },
    "tags": []
   },
   "outputs": [],
   "source": [
    "import pandas as pd\n",
    "import sqlite3"
   ]
  },
  {
   "cell_type": "code",
   "execution_count": 2,
   "id": "innovative-syndrome",
   "metadata": {
    "execution": {
     "iopub.execute_input": "2021-09-01T04:00:08.006015Z",
     "iopub.status.busy": "2021-09-01T04:00:08.003993Z",
     "iopub.status.idle": "2021-09-01T04:00:08.187302Z",
     "shell.execute_reply": "2021-09-01T04:00:08.188769Z"
    },
    "papermill": {
     "duration": 0.213681,
     "end_time": "2021-09-01T04:00:08.189215",
     "exception": false,
     "start_time": "2021-09-01T04:00:07.975534",
     "status": "completed"
    },
    "tags": []
   },
   "outputs": [],
   "source": [
    "timestamps = pd.read_sql(\"select distinct record_time from EBAY_TOP_BERLIN order by record_time desc limit 2\", sqlite3.connect(\"UsedObjects.db\"))"
   ]
  },
  {
   "cell_type": "code",
   "execution_count": 3,
   "id": "periodic-identification",
   "metadata": {
    "execution": {
     "iopub.execute_input": "2021-09-01T04:00:08.256043Z",
     "iopub.status.busy": "2021-09-01T04:00:08.253982Z",
     "iopub.status.idle": "2021-09-01T04:00:08.274239Z",
     "shell.execute_reply": "2021-09-01T04:00:08.275590Z"
    },
    "papermill": {
     "duration": 0.06674,
     "end_time": "2021-09-01T04:00:08.276025",
     "exception": false,
     "start_time": "2021-09-01T04:00:08.209285",
     "status": "completed"
    },
    "tags": []
   },
   "outputs": [
    {
     "data": {
      "text/html": [
       "<div>\n",
       "<style scoped>\n",
       "    .dataframe tbody tr th:only-of-type {\n",
       "        vertical-align: middle;\n",
       "    }\n",
       "\n",
       "    .dataframe tbody tr th {\n",
       "        vertical-align: top;\n",
       "    }\n",
       "\n",
       "    .dataframe thead th {\n",
       "        text-align: right;\n",
       "    }\n",
       "</style>\n",
       "<table border=\"1\" class=\"dataframe\">\n",
       "  <thead>\n",
       "    <tr style=\"text-align: right;\">\n",
       "      <th></th>\n",
       "      <th>RECORD_TIME</th>\n",
       "    </tr>\n",
       "  </thead>\n",
       "  <tbody>\n",
       "    <tr>\n",
       "      <th>0</th>\n",
       "      <td>2021-09-01 06:00</td>\n",
       "    </tr>\n",
       "    <tr>\n",
       "      <th>1</th>\n",
       "      <td>2021-09-01 05:30</td>\n",
       "    </tr>\n",
       "  </tbody>\n",
       "</table>\n",
       "</div>"
      ],
      "text/plain": [
       "        RECORD_TIME\n",
       "0  2021-09-01 06:00\n",
       "1  2021-09-01 05:30"
      ]
     },
     "execution_count": 3,
     "metadata": {},
     "output_type": "execute_result"
    }
   ],
   "source": [
    "timestamps"
   ]
  },
  {
   "cell_type": "code",
   "execution_count": 4,
   "id": "alternate-victory",
   "metadata": {
    "execution": {
     "iopub.execute_input": "2021-09-01T04:00:08.327336Z",
     "iopub.status.busy": "2021-09-01T04:00:08.325441Z",
     "iopub.status.idle": "2021-09-01T04:00:08.595483Z",
     "shell.execute_reply": "2021-09-01T04:00:08.596695Z"
    },
    "papermill": {
     "duration": 0.299818,
     "end_time": "2021-09-01T04:00:08.597091",
     "exception": false,
     "start_time": "2021-09-01T04:00:08.297273",
     "status": "completed"
    },
    "tags": []
   },
   "outputs": [],
   "source": [
    "df = pd.read_sql(\"select * from EBAY_TOP_BERLIN where record_time in (select distinct record_time from EBAY_TOP_BERLIN order by record_time desc limit 2)\", sqlite3.connect(\"UsedObjects.db\"))"
   ]
  },
  {
   "cell_type": "code",
   "execution_count": 5,
   "id": "popular-active",
   "metadata": {
    "execution": {
     "iopub.execute_input": "2021-09-01T04:00:08.676250Z",
     "iopub.status.busy": "2021-09-01T04:00:08.664291Z",
     "iopub.status.idle": "2021-09-01T04:00:08.691595Z",
     "shell.execute_reply": "2021-09-01T04:00:08.692799Z"
    },
    "papermill": {
     "duration": 0.070721,
     "end_time": "2021-09-01T04:00:08.693197",
     "exception": false,
     "start_time": "2021-09-01T04:00:08.622476",
     "status": "completed"
    },
    "tags": []
   },
   "outputs": [],
   "source": [
    "df_pivot = df.pivot_table(index=\"PRODUCT\", columns = \"RECORD_TIME\", values = \"LISTING_COUNT\")"
   ]
  },
  {
   "cell_type": "code",
   "execution_count": 6,
   "id": "union-huntington",
   "metadata": {
    "execution": {
     "iopub.execute_input": "2021-09-01T04:00:08.752985Z",
     "iopub.status.busy": "2021-09-01T04:00:08.750554Z",
     "iopub.status.idle": "2021-09-01T04:00:08.756602Z",
     "shell.execute_reply": "2021-09-01T04:00:08.758020Z"
    },
    "papermill": {
     "duration": 0.042168,
     "end_time": "2021-09-01T04:00:08.758479",
     "exception": false,
     "start_time": "2021-09-01T04:00:08.716311",
     "status": "completed"
    },
    "tags": []
   },
   "outputs": [],
   "source": [
    "df_pivot.columns = [\"stamp_1\", \"stamp_2\"]\n",
    "df_pivot_diff = df_pivot.diff(axis=1)"
   ]
  },
  {
   "cell_type": "code",
   "execution_count": 7,
   "id": "fifth-motion",
   "metadata": {
    "execution": {
     "iopub.execute_input": "2021-09-01T04:00:08.813271Z",
     "iopub.status.busy": "2021-09-01T04:00:08.810854Z",
     "iopub.status.idle": "2021-09-01T04:00:10.262013Z",
     "shell.execute_reply": "2021-09-01T04:00:10.263429Z"
    },
    "papermill": {
     "duration": 1.484065,
     "end_time": "2021-09-01T04:00:10.263895",
     "exception": false,
     "start_time": "2021-09-01T04:00:08.779830",
     "status": "completed"
    },
    "tags": []
   },
   "outputs": [
    {
     "data": {
      "text/plain": [
       "<AxesSubplot:ylabel='PRODUCT'>"
      ]
     },
     "execution_count": 7,
     "metadata": {},
     "output_type": "execute_result"
    },
    {
     "data": {
      "image/png": "[encoded data removed]",
      "text/plain": [
       "<Figure size 432x288 with 1 Axes>"
      ]
     },
     "metadata": {
      "needs_background": "light"
     },
     "output_type": "display_data"
    }
   ],
   "source": [
    "df_pivot_diff.sort_values(\"stamp_2\", ascending = False)[\"stamp_2\"].head(10).plot.barh()"
   ]
  },
  {
   "cell_type": "code",
   "execution_count": null,
   "id": "extra-executive",
   "metadata": {
    "papermill": {
     "duration": 0.021973,
     "end_time": "2021-09-01T04:00:10.310277",
     "exception": false,
     "start_time": "2021-09-01T04:00:10.288304",
     "status": "completed"
    },
    "tags": []
   },
   "outputs": [],
   "source": []
  }
 ],
 "metadata": {
  "kernelspec": {
   "display_name": "Python 3",
   "language": "python",
   "name": "python3"
  },
  "language_info": {
   "codemirror_mode": {
    "name": "ipython",
    "version": 3
   },
   "file_extension": ".py",
   "mimetype": "text/x-python",
   "name": "python",
   "nbconvert_exporter": "python",
   "pygments_lexer": "ipython3",
   "version": "3.9.5"
  },
  "papermill": {
   "default_parameters": {},
   "duration": 6.818271,
   "end_time": "2021-09-01T04:00:11.527820",
   "environment_variables": {},
   "exception": null,
   "input_path": "eBay_Overview.ipynb",
   "output_path": "eBay_Overview.ipynb",
   "parameters": {},
   "start_time": "2021-09-01T04:00:04.709549",
   "version": "2.3.3"
  }
 },
 "nbformat": 4,
 "nbformat_minor": 5
}