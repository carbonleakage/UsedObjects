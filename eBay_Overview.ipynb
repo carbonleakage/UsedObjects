{
 "cells": [
  {
   "cell_type": "code",
   "execution_count": 1,
   "id": "reverse-picking",
   "metadata": {
    "execution": {
     "iopub.execute_input": "2021-09-10T11:00:07.000652Z",
     "iopub.status.busy": "2021-09-10T11:00:06.998621Z",
     "iopub.status.idle": "2021-09-10T11:00:07.811298Z",
     "shell.execute_reply": "2021-09-10T11:00:07.812725Z"
    },
    "papermill": {
     "duration": 0.865622,
     "end_time": "2021-09-10T11:00:07.813412",
     "exception": false,
     "start_time": "2021-09-10T11:00:06.947790",
     "status": "completed"
    },
    "tags": []
   },
   "outputs": [],
   "source": [
    "import pandas as pd\n",
    "import sqlite3"
   ]
  },
  {
   "cell_type": "code",
   "execution_count": 2,
   "id": "innovative-syndrome",
   "metadata": {
    "execution": {
     "iopub.execute_input": "2021-09-10T11:00:07.864961Z",
     "iopub.status.busy": "2021-09-10T11:00:07.862583Z",
     "iopub.status.idle": "2021-09-10T11:00:08.118186Z",
     "shell.execute_reply": "2021-09-10T11:00:08.119570Z"
    },
    "papermill": {
     "duration": 0.285867,
     "end_time": "2021-09-10T11:00:08.120002",
     "exception": false,
     "start_time": "2021-09-10T11:00:07.834135",
     "status": "completed"
    },
    "tags": []
   },
   "outputs": [],
   "source": [
    "timestamps = pd.read_sql(\"select distinct record_time from EBAY_TOP_BERLIN order by record_time desc limit 2\", sqlite3.connect(\"UsedObjects.db\"))"
   ]
  },
  {
   "cell_type": "code",
   "execution_count": 3,
   "id": "periodic-identification",
   "metadata": {
    "execution": {
     "iopub.execute_input": "2021-09-10T11:00:08.184308Z",
     "iopub.status.busy": "2021-09-10T11:00:08.181968Z",
     "iopub.status.idle": "2021-09-10T11:00:08.202003Z",
     "shell.execute_reply": "2021-09-10T11:00:08.203416Z"
    },
    "papermill": {
     "duration": 0.064467,
     "end_time": "2021-09-10T11:00:08.203857",
     "exception": false,
     "start_time": "2021-09-10T11:00:08.139390",
     "status": "completed"
    },
    "tags": []
   },
   "outputs": [
    {
     "data": {
      "text/html": [
       "<div>\n",
       "<style scoped>\n",
       "    .dataframe tbody tr th:only-of-type {\n",
       "        vertical-align: middle;\n",
       "    }\n",
       "\n",
       "    .dataframe tbody tr th {\n",
       "        vertical-align: top;\n",
       "    }\n",
       "\n",
       "    .dataframe thead th {\n",
       "        text-align: right;\n",
       "    }\n",
       "</style>\n",
       "<table border=\"1\" class=\"dataframe\">\n",
       "  <thead>\n",
       "    <tr style=\"text-align: right;\">\n",
       "      <th></th>\n",
       "      <th>RECORD_TIME</th>\n",
       "    </tr>\n",
       "  </thead>\n",
       "  <tbody>\n",
       "    <tr>\n",
       "      <th>0</th>\n",
       "      <td>2021-09-10 13:00</td>\n",
       "    </tr>\n",
       "    <tr>\n",
       "      <th>1</th>\n",
       "      <td>2021-09-10 12:30</td>\n",
       "    </tr>\n",
       "  </tbody>\n",
       "</table>\n",
       "</div>"
      ],
      "text/plain": [
       "        RECORD_TIME\n",
       "0  2021-09-10 13:00\n",
       "1  2021-09-10 12:30"
      ]
     },
     "execution_count": 3,
     "metadata": {},
     "output_type": "execute_result"
    }
   ],
   "source": [
    "timestamps"
   ]
  },
  {
   "cell_type": "code",
   "execution_count": 4,
   "id": "alternate-victory",
   "metadata": {
    "execution": {
     "iopub.execute_input": "2021-09-10T11:00:08.257474Z",
     "iopub.status.busy": "2021-09-10T11:00:08.255452Z",
     "iopub.status.idle": "2021-09-10T11:00:08.626079Z",
     "shell.execute_reply": "2021-09-10T11:00:08.627554Z"
    },
    "papermill": {
     "duration": 0.401743,
     "end_time": "2021-09-10T11:00:08.628015",
     "exception": false,
     "start_time": "2021-09-10T11:00:08.226272",
     "status": "completed"
    },
    "tags": []
   },
   "outputs": [],
   "source": [
    "df = pd.read_sql(\"select * from EBAY_TOP_BERLIN where record_time in (select distinct record_time from EBAY_TOP_BERLIN order by record_time desc limit 2)\", sqlite3.connect(\"UsedObjects.db\"))"
   ]
  },
  {
   "cell_type": "code",
   "execution_count": 5,
   "id": "popular-active",
   "metadata": {
    "execution": {
     "iopub.execute_input": "2021-09-10T11:00:08.708391Z",
     "iopub.status.busy": "2021-09-10T11:00:08.697031Z",
     "iopub.status.idle": "2021-09-10T11:00:08.724824Z",
     "shell.execute_reply": "2021-09-10T11:00:08.726039Z"
    },
    "papermill": {
     "duration": 0.072229,
     "end_time": "2021-09-10T11:00:08.726435",
     "exception": false,
     "start_time": "2021-09-10T11:00:08.654206",
     "status": "completed"
    },
    "tags": []
   },
   "outputs": [],
   "source": [
    "df_pivot = df.pivot_table(index=\"PRODUCT\", columns = \"RECORD_TIME\", values = \"LISTING_COUNT\")"
   ]
  },
  {
   "cell_type": "code",
   "execution_count": 6,
   "id": "union-huntington",
   "metadata": {
    "execution": {
     "iopub.execute_input": "2021-09-10T11:00:08.786202Z",
     "iopub.status.busy": "2021-09-10T11:00:08.783779Z",
     "iopub.status.idle": "2021-09-10T11:00:08.789513Z",
     "shell.execute_reply": "2021-09-10T11:00:08.790785Z"
    },
    "papermill": {
     "duration": 0.042478,
     "end_time": "2021-09-10T11:00:08.791268",
     "exception": false,
     "start_time": "2021-09-10T11:00:08.748790",
     "status": "completed"
    },
    "tags": []
   },
   "outputs": [],
   "source": [
    "df_pivot.columns = [\"stamp_1\", \"stamp_2\"]\n",
    "df_pivot_diff = df_pivot.diff(axis=1)"
   ]
  },
  {
   "cell_type": "code",
   "execution_count": 7,
   "id": "fifth-motion",
   "metadata": {
    "execution": {
     "iopub.execute_input": "2021-09-10T11:00:08.846100Z",
     "iopub.status.busy": "2021-09-10T11:00:08.843768Z",
     "iopub.status.idle": "2021-09-10T11:00:10.323855Z",
     "shell.execute_reply": "2021-09-10T11:00:10.325237Z"
    },
    "papermill": {
     "duration": 1.51363,
     "end_time": "2021-09-10T11:00:10.325680",
     "exception": false,
     "start_time": "2021-09-10T11:00:08.812050",
     "status": "completed"
    },
    "tags": []
   },
   "outputs": [
    {
     "data": {
      "text/plain": [
       "<AxesSubplot:ylabel='PRODUCT'>"
      ]
     },
     "execution_count": 7,
     "metadata": {},
     "output_type": "execute_result"
    },
    {
     "data": {
      "image/png": "[encoded data removed]",
      "text/plain": [
       "<Figure size 432x288 with 1 Axes>"
      ]
     },
     "metadata": {
      "needs_background": "light"
     },
     "output_type": "display_data"
    }
   ],
   "source": [
    "df_pivot_diff.sort_values(\"stamp_2\", ascending = False)[\"stamp_2\"].head(10).plot.barh()"
   ]
  },
  {
   "cell_type": "code",
   "execution_count": null,
   "id": "extra-executive",
   "metadata": {
    "papermill": {
     "duration": 0.02324,
     "end_time": "2021-09-10T11:00:10.373554",
     "exception": false,
     "start_time": "2021-09-10T11:00:10.350314",
     "status": "completed"
    },
    "tags": []
   },
   "outputs": [],
   "source": []
  }
 ],
 "metadata": {
  "kernelspec": {
   "display_name": "Python 3",
   "language": "python",
   "name": "python3"
  },
  "language_info": {
   "codemirror_mode": {
    "name": "ipython",
    "version": 3
   },
   "file_extension": ".py",
   "mimetype": "text/x-python",
   "name": "python",
   "nbconvert_exporter": "python",
   "pygments_lexer": "ipython3",
   "version": "3.9.5"
  },
  "papermill": {
   "default_parameters": {},
   "duration": 6.481301,
   "end_time": "2021-09-10T11:00:11.014568",
   "environment_variables": {},
   "exception": null,
   "input_path": "eBay_Overview.ipynb",
   "output_path": "eBay_Overview.ipynb",
   "parameters": {},
   "start_time": "2021-09-10T11:00:04.533267",
   "version": "2.3.3"
  }
 },
 "nbformat": 4,
 "nbformat_minor": 5
}