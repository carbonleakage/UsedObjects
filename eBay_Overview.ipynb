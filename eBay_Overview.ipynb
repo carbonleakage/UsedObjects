{
 "cells": [
  {
   "cell_type": "code",
   "execution_count": 1,
   "id": "reverse-picking",
   "metadata": {
    "execution": {
     "iopub.execute_input": "2021-10-10T09:00:07.295362Z",
     "iopub.status.busy": "2021-10-10T09:00:07.293369Z",
     "iopub.status.idle": "2021-10-10T09:00:08.099857Z",
     "shell.execute_reply": "2021-10-10T09:00:08.101126Z"
    },
    "papermill": {
     "duration": 0.858318,
     "end_time": "2021-10-10T09:00:08.101749",
     "exception": false,
     "start_time": "2021-10-10T09:00:07.243431",
     "status": "completed"
    },
    "tags": []
   },
   "outputs": [],
   "source": [
    "import pandas as pd\n",
    "import sqlite3"
   ]
  },
  {
   "cell_type": "code",
   "execution_count": 2,
   "id": "innovative-syndrome",
   "metadata": {
    "execution": {
     "iopub.execute_input": "2021-10-10T09:00:08.153213Z",
     "iopub.status.busy": "2021-10-10T09:00:08.151362Z",
     "iopub.status.idle": "2021-10-10T09:00:08.643199Z",
     "shell.execute_reply": "2021-10-10T09:00:08.644539Z"
    },
    "papermill": {
     "duration": 0.521469,
     "end_time": "2021-10-10T09:00:08.644950",
     "exception": false,
     "start_time": "2021-10-10T09:00:08.123481",
     "status": "completed"
    },
    "tags": []
   },
   "outputs": [],
   "source": [
    "timestamps = pd.read_sql(\"select distinct record_time from EBAY_TOP_BERLIN order by record_time desc limit 2\", sqlite3.connect(\"UsedObjects.db\"))"
   ]
  },
  {
   "cell_type": "code",
   "execution_count": 3,
   "id": "periodic-identification",
   "metadata": {
    "execution": {
     "iopub.execute_input": "2021-10-10T09:00:08.709740Z",
     "iopub.status.busy": "2021-10-10T09:00:08.707716Z",
     "iopub.status.idle": "2021-10-10T09:00:08.727389Z",
     "shell.execute_reply": "2021-10-10T09:00:08.728687Z"
    },
    "papermill": {
     "duration": 0.06417,
     "end_time": "2021-10-10T09:00:08.729088",
     "exception": false,
     "start_time": "2021-10-10T09:00:08.664918",
     "status": "completed"
    },
    "tags": []
   },
   "outputs": [
    {
     "data": {
      "text/html": [
       "<div>\n",
       "<style scoped>\n",
       "    .dataframe tbody tr th:only-of-type {\n",
       "        vertical-align: middle;\n",
       "    }\n",
       "\n",
       "    .dataframe tbody tr th {\n",
       "        vertical-align: top;\n",
       "    }\n",
       "\n",
       "    .dataframe thead th {\n",
       "        text-align: right;\n",
       "    }\n",
       "</style>\n",
       "<table border=\"1\" class=\"dataframe\">\n",
       "  <thead>\n",
       "    <tr style=\"text-align: right;\">\n",
       "      <th></th>\n",
       "      <th>RECORD_TIME</th>\n",
       "    </tr>\n",
       "  </thead>\n",
       "  <tbody>\n",
       "    <tr>\n",
       "      <th>0</th>\n",
       "      <td>2021-10-10 11:00</td>\n",
       "    </tr>\n",
       "    <tr>\n",
       "      <th>1</th>\n",
       "      <td>2021-10-10 10:30</td>\n",
       "    </tr>\n",
       "  </tbody>\n",
       "</table>\n",
       "</div>"
      ],
      "text/plain": [
       "        RECORD_TIME\n",
       "0  2021-10-10 11:00\n",
       "1  2021-10-10 10:30"
      ]
     },
     "execution_count": 3,
     "metadata": {},
     "output_type": "execute_result"
    }
   ],
   "source": [
    "timestamps"
   ]
  },
  {
   "cell_type": "code",
   "execution_count": 4,
   "id": "alternate-victory",
   "metadata": {
    "execution": {
     "iopub.execute_input": "2021-10-10T09:00:08.789729Z",
     "iopub.status.busy": "2021-10-10T09:00:08.787870Z",
     "iopub.status.idle": "2021-10-10T09:00:09.524034Z",
     "shell.execute_reply": "2021-10-10T09:00:09.525471Z"
    },
    "papermill": {
     "duration": 0.769632,
     "end_time": "2021-10-10T09:00:09.525918",
     "exception": false,
     "start_time": "2021-10-10T09:00:08.756286",
     "status": "completed"
    },
    "tags": []
   },
   "outputs": [],
   "source": [
    "df = pd.read_sql(\"select * from EBAY_TOP_BERLIN where record_time in (select distinct record_time from EBAY_TOP_BERLIN order by record_time desc limit 2)\", sqlite3.connect(\"UsedObjects.db\"))"
   ]
  },
  {
   "cell_type": "code",
   "execution_count": 5,
   "id": "popular-active",
   "metadata": {
    "execution": {
     "iopub.execute_input": "2021-10-10T09:00:09.595683Z",
     "iopub.status.busy": "2021-10-10T09:00:09.584736Z",
     "iopub.status.idle": "2021-10-10T09:00:09.611994Z",
     "shell.execute_reply": "2021-10-10T09:00:09.613216Z"
    },
    "papermill": {
     "duration": 0.066862,
     "end_time": "2021-10-10T09:00:09.613620",
     "exception": false,
     "start_time": "2021-10-10T09:00:09.546758",
     "status": "completed"
    },
    "tags": []
   },
   "outputs": [],
   "source": [
    "df_pivot = df.pivot_table(index=\"PRODUCT\", columns = \"RECORD_TIME\", values = \"LISTING_COUNT\")"
   ]
  },
  {
   "cell_type": "code",
   "execution_count": 6,
   "id": "union-huntington",
   "metadata": {
    "execution": {
     "iopub.execute_input": "2021-10-10T09:00:09.673898Z",
     "iopub.status.busy": "2021-10-10T09:00:09.671471Z",
     "iopub.status.idle": "2021-10-10T09:00:09.677587Z",
     "shell.execute_reply": "2021-10-10T09:00:09.679016Z"
    },
    "papermill": {
     "duration": 0.042741,
     "end_time": "2021-10-10T09:00:09.679518",
     "exception": false,
     "start_time": "2021-10-10T09:00:09.636777",
     "status": "completed"
    },
    "tags": []
   },
   "outputs": [],
   "source": [
    "df_pivot.columns = [\"stamp_1\", \"stamp_2\"]\n",
    "df_pivot_diff = df_pivot.diff(axis=1)"
   ]
  },
  {
   "cell_type": "code",
   "execution_count": 7,
   "id": "fifth-motion",
   "metadata": {
    "execution": {
     "iopub.execute_input": "2021-10-10T09:00:09.734014Z",
     "iopub.status.busy": "2021-10-10T09:00:09.731684Z",
     "iopub.status.idle": "2021-10-10T09:00:11.230542Z",
     "shell.execute_reply": "2021-10-10T09:00:11.231973Z"
    },
    "papermill": {
     "duration": 1.531688,
     "end_time": "2021-10-10T09:00:11.232422",
     "exception": false,
     "start_time": "2021-10-10T09:00:09.700734",
     "status": "completed"
    },
    "tags": []
   },
   "outputs": [
    {
     "data": {
      "text/plain": [
       "<AxesSubplot:ylabel='PRODUCT'>"
      ]
     },
     "execution_count": 7,
     "metadata": {},
     "output_type": "execute_result"
    },
    {
     "data": {
      "image/png": "[encoded data removed]",
      "text/plain": [
       "<Figure size 432x288 with 1 Axes>"
      ]
     },
     "metadata": {
      "needs_background": "light"
     },
     "output_type": "display_data"
    }
   ],
   "source": [
    "df_pivot_diff.sort_values(\"stamp_2\", ascending = False)[\"stamp_2\"].head(10).plot.barh()"
   ]
  },
  {
   "cell_type": "code",
   "execution_count": null,
   "id": "extra-executive",
   "metadata": {
    "papermill": {
     "duration": 0.022418,
     "end_time": "2021-10-10T09:00:11.279737",
     "exception": false,
     "start_time": "2021-10-10T09:00:11.257319",
     "status": "completed"
    },
    "tags": []
   },
   "outputs": [],
   "source": []
  }
 ],
 "metadata": {
  "kernelspec": {
   "display_name": "Python 3",
   "language": "python",
   "name": "python3"
  },
  "language_info": {
   "codemirror_mode": {
    "name": "ipython",
    "version": 3
   },
   "file_extension": ".py",
   "mimetype": "text/x-python",
   "name": "python",
   "nbconvert_exporter": "python",
   "pygments_lexer": "ipython3",
   "version": "3.9.5"
  },
  "papermill": {
   "default_parameters": {},
   "duration": 7.831336,
   "end_time": "2021-10-10T09:00:12.668480",
   "environment_variables": {},
   "exception": null,
   "input_path": "eBay_Overview.ipynb",
   "output_path": "eBay_Overview.ipynb",
   "parameters": {},
   "start_time": "2021-10-10T09:00:04.837144",
   "version": "2.3.3"
  }
 },
 "nbformat": 4,
 "nbformat_minor": 5
}