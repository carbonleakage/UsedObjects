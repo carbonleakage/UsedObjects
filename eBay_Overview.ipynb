{
 "cells": [
  {
   "cell_type": "code",
   "execution_count": 1,
   "id": "reverse-picking",
   "metadata": {
    "execution": {
     "iopub.execute_input": "2021-08-22T20:30:07.099997Z",
     "iopub.status.busy": "2021-08-22T20:30:07.098043Z",
     "iopub.status.idle": "2021-08-22T20:30:07.903956Z",
     "shell.execute_reply": "2021-08-22T20:30:07.905199Z"
    },
    "papermill": {
     "duration": 0.857614,
     "end_time": "2021-08-22T20:30:07.905813",
     "exception": false,
     "start_time": "2021-08-22T20:30:07.048199",
     "status": "completed"
    },
    "tags": []
   },
   "outputs": [],
   "source": [
    "import pandas as pd\n",
    "import sqlite3"
   ]
  },
  {
   "cell_type": "code",
   "execution_count": 2,
   "id": "innovative-syndrome",
   "metadata": {
    "execution": {
     "iopub.execute_input": "2021-08-22T20:30:07.957009Z",
     "iopub.status.busy": "2021-08-22T20:30:07.955188Z",
     "iopub.status.idle": "2021-08-22T20:30:08.061132Z",
     "shell.execute_reply": "2021-08-22T20:30:08.062387Z"
    },
    "papermill": {
     "duration": 0.135376,
     "end_time": "2021-08-22T20:30:08.062792",
     "exception": false,
     "start_time": "2021-08-22T20:30:07.927416",
     "status": "completed"
    },
    "tags": []
   },
   "outputs": [],
   "source": [
    "timestamps = pd.read_sql(\"select distinct record_time from EBAY_TOP_BERLIN order by record_time desc limit 2\", sqlite3.connect(\"UsedObjects.db\"))"
   ]
  },
  {
   "cell_type": "code",
   "execution_count": 3,
   "id": "periodic-identification",
   "metadata": {
    "execution": {
     "iopub.execute_input": "2021-08-22T20:30:08.125753Z",
     "iopub.status.busy": "2021-08-22T20:30:08.123775Z",
     "iopub.status.idle": "2021-08-22T20:30:08.143918Z",
     "shell.execute_reply": "2021-08-22T20:30:08.145190Z"
    },
    "papermill": {
     "duration": 0.063364,
     "end_time": "2021-08-22T20:30:08.145608",
     "exception": false,
     "start_time": "2021-08-22T20:30:08.082244",
     "status": "completed"
    },
    "tags": []
   },
   "outputs": [
    {
     "data": {
      "text/html": [
       "<div>\n",
       "<style scoped>\n",
       "    .dataframe tbody tr th:only-of-type {\n",
       "        vertical-align: middle;\n",
       "    }\n",
       "\n",
       "    .dataframe tbody tr th {\n",
       "        vertical-align: top;\n",
       "    }\n",
       "\n",
       "    .dataframe thead th {\n",
       "        text-align: right;\n",
       "    }\n",
       "</style>\n",
       "<table border=\"1\" class=\"dataframe\">\n",
       "  <thead>\n",
       "    <tr style=\"text-align: right;\">\n",
       "      <th></th>\n",
       "      <th>RECORD_TIME</th>\n",
       "    </tr>\n",
       "  </thead>\n",
       "  <tbody>\n",
       "    <tr>\n",
       "      <th>0</th>\n",
       "      <td>2021-08-22 22:30</td>\n",
       "    </tr>\n",
       "    <tr>\n",
       "      <th>1</th>\n",
       "      <td>2021-08-22 22:00</td>\n",
       "    </tr>\n",
       "  </tbody>\n",
       "</table>\n",
       "</div>"
      ],
      "text/plain": [
       "        RECORD_TIME\n",
       "0  2021-08-22 22:30\n",
       "1  2021-08-22 22:00"
      ]
     },
     "execution_count": 3,
     "metadata": {},
     "output_type": "execute_result"
    }
   ],
   "source": [
    "timestamps"
   ]
  },
  {
   "cell_type": "code",
   "execution_count": 4,
   "id": "alternate-victory",
   "metadata": {
    "execution": {
     "iopub.execute_input": "2021-08-22T20:30:08.197028Z",
     "iopub.status.busy": "2021-08-22T20:30:08.194776Z",
     "iopub.status.idle": "2021-08-22T20:30:08.355319Z",
     "shell.execute_reply": "2021-08-22T20:30:08.356516Z"
    },
    "papermill": {
     "duration": 0.190303,
     "end_time": "2021-08-22T20:30:08.356916",
     "exception": false,
     "start_time": "2021-08-22T20:30:08.166613",
     "status": "completed"
    },
    "tags": []
   },
   "outputs": [],
   "source": [
    "df = pd.read_sql(\"select * from EBAY_TOP_BERLIN where record_time in (select distinct record_time from EBAY_TOP_BERLIN order by record_time desc limit 2)\", sqlite3.connect(\"UsedObjects.db\"))"
   ]
  },
  {
   "cell_type": "code",
   "execution_count": 5,
   "id": "popular-active",
   "metadata": {
    "execution": {
     "iopub.execute_input": "2021-08-22T20:30:08.427935Z",
     "iopub.status.busy": "2021-08-22T20:30:08.416549Z",
     "iopub.status.idle": "2021-08-22T20:30:08.443934Z",
     "shell.execute_reply": "2021-08-22T20:30:08.445223Z"
    },
    "papermill": {
     "duration": 0.067064,
     "end_time": "2021-08-22T20:30:08.445644",
     "exception": false,
     "start_time": "2021-08-22T20:30:08.378580",
     "status": "completed"
    },
    "tags": []
   },
   "outputs": [],
   "source": [
    "df_pivot = df.pivot_table(index=\"PRODUCT\", columns = \"RECORD_TIME\", values = \"LISTING_COUNT\")"
   ]
  },
  {
   "cell_type": "code",
   "execution_count": 6,
   "id": "union-huntington",
   "metadata": {
    "execution": {
     "iopub.execute_input": "2021-08-22T20:30:08.501188Z",
     "iopub.status.busy": "2021-08-22T20:30:08.499147Z",
     "iopub.status.idle": "2021-08-22T20:30:08.504393Z",
     "shell.execute_reply": "2021-08-22T20:30:08.505659Z"
    },
    "papermill": {
     "duration": 0.03999,
     "end_time": "2021-08-22T20:30:08.506166",
     "exception": false,
     "start_time": "2021-08-22T20:30:08.466176",
     "status": "completed"
    },
    "tags": []
   },
   "outputs": [],
   "source": [
    "df_pivot.columns = [\"stamp_1\", \"stamp_2\"]\n",
    "df_pivot_diff = df_pivot.diff(axis=1)"
   ]
  },
  {
   "cell_type": "code",
   "execution_count": 7,
   "id": "fifth-motion",
   "metadata": {
    "execution": {
     "iopub.execute_input": "2021-08-22T20:30:08.580999Z",
     "iopub.status.busy": "2021-08-22T20:30:08.578399Z",
     "iopub.status.idle": "2021-08-22T20:30:10.069116Z",
     "shell.execute_reply": "2021-08-22T20:30:10.070511Z"
    },
    "papermill": {
     "duration": 1.531661,
     "end_time": "2021-08-22T20:30:10.070960",
     "exception": false,
     "start_time": "2021-08-22T20:30:08.539299",
     "status": "completed"
    },
    "tags": []
   },
   "outputs": [
    {
     "data": {
      "text/plain": [
       "<AxesSubplot:ylabel='PRODUCT'>"
      ]
     },
     "execution_count": 7,
     "metadata": {},
     "output_type": "execute_result"
    },
    {
     "data": {
      "image/png": "[encoded data removed]",
      "text/plain": [
       "<Figure size 432x288 with 1 Axes>"
      ]
     },
     "metadata": {
      "needs_background": "light"
     },
     "output_type": "display_data"
    }
   ],
   "source": [
    "df_pivot_diff.sort_values(\"stamp_2\", ascending = False)[\"stamp_2\"].head(10).plot.barh()"
   ]
  },
  {
   "cell_type": "code",
   "execution_count": null,
   "id": "extra-executive",
   "metadata": {
    "papermill": {
     "duration": 0.022313,
     "end_time": "2021-08-22T20:30:10.119144",
     "exception": false,
     "start_time": "2021-08-22T20:30:10.096831",
     "status": "completed"
    },
    "tags": []
   },
   "outputs": [],
   "source": []
  }
 ],
 "metadata": {
  "kernelspec": {
   "display_name": "Python 3",
   "language": "python",
   "name": "python3"
  },
  "language_info": {
   "codemirror_mode": {
    "name": "ipython",
    "version": 3
   },
   "file_extension": ".py",
   "mimetype": "text/x-python",
   "name": "python",
   "nbconvert_exporter": "python",
   "pygments_lexer": "ipython3",
   "version": "3.9.5"
  },
  "papermill": {
   "default_parameters": {},
   "duration": 6.837835,
   "end_time": "2021-08-22T20:30:11.467321",
   "environment_variables": {},
   "exception": null,
   "input_path": "eBay_Overview.ipynb",
   "output_path": "eBay_Overview.ipynb",
   "parameters": {},
   "start_time": "2021-08-22T20:30:04.629486",
   "version": "2.3.3"
  }
 },
 "nbformat": 4,
 "nbformat_minor": 5
}