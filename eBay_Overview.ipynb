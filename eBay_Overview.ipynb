{
 "cells": [
  {
   "cell_type": "code",
   "execution_count": 1,
   "id": "reverse-picking",
   "metadata": {
    "execution": {
     "iopub.execute_input": "2021-08-17T13:00:07.507876Z",
     "iopub.status.busy": "2021-08-17T13:00:07.505781Z",
     "iopub.status.idle": "2021-08-17T13:00:08.312526Z",
     "shell.execute_reply": "2021-08-17T13:00:08.313779Z"
    },
    "papermill": {
     "duration": 0.858567,
     "end_time": "2021-08-17T13:00:08.314519",
     "exception": false,
     "start_time": "2021-08-17T13:00:07.455952",
     "status": "completed"
    },
    "tags": []
   },
   "outputs": [],
   "source": [
    "import pandas as pd\n",
    "import sqlite3"
   ]
  },
  {
   "cell_type": "code",
   "execution_count": 2,
   "id": "innovative-syndrome",
   "metadata": {
    "execution": {
     "iopub.execute_input": "2021-08-17T13:00:08.364655Z",
     "iopub.status.busy": "2021-08-17T13:00:08.362760Z",
     "iopub.status.idle": "2021-08-17T13:00:08.430323Z",
     "shell.execute_reply": "2021-08-17T13:00:08.431640Z"
    },
    "papermill": {
     "duration": 0.097297,
     "end_time": "2021-08-17T13:00:08.432055",
     "exception": false,
     "start_time": "2021-08-17T13:00:08.334758",
     "status": "completed"
    },
    "tags": []
   },
   "outputs": [],
   "source": [
    "timestamps = pd.read_sql(\"select distinct record_time from EBAY_TOP_BERLIN order by record_time desc limit 2\", sqlite3.connect(\"UsedObjects.db\"))"
   ]
  },
  {
   "cell_type": "code",
   "execution_count": 3,
   "id": "periodic-identification",
   "metadata": {
    "execution": {
     "iopub.execute_input": "2021-08-17T13:00:08.497121Z",
     "iopub.status.busy": "2021-08-17T13:00:08.494857Z",
     "iopub.status.idle": "2021-08-17T13:00:08.515210Z",
     "shell.execute_reply": "2021-08-17T13:00:08.516351Z"
    },
    "papermill": {
     "duration": 0.065066,
     "end_time": "2021-08-17T13:00:08.516762",
     "exception": false,
     "start_time": "2021-08-17T13:00:08.451696",
     "status": "completed"
    },
    "tags": []
   },
   "outputs": [
    {
     "data": {
      "text/html": [
       "<div>\n",
       "<style scoped>\n",
       "    .dataframe tbody tr th:only-of-type {\n",
       "        vertical-align: middle;\n",
       "    }\n",
       "\n",
       "    .dataframe tbody tr th {\n",
       "        vertical-align: top;\n",
       "    }\n",
       "\n",
       "    .dataframe thead th {\n",
       "        text-align: right;\n",
       "    }\n",
       "</style>\n",
       "<table border=\"1\" class=\"dataframe\">\n",
       "  <thead>\n",
       "    <tr style=\"text-align: right;\">\n",
       "      <th></th>\n",
       "      <th>RECORD_TIME</th>\n",
       "    </tr>\n",
       "  </thead>\n",
       "  <tbody>\n",
       "    <tr>\n",
       "      <th>0</th>\n",
       "      <td>2021-08-17 15:00</td>\n",
       "    </tr>\n",
       "    <tr>\n",
       "      <th>1</th>\n",
       "      <td>2021-08-17 14:30</td>\n",
       "    </tr>\n",
       "  </tbody>\n",
       "</table>\n",
       "</div>"
      ],
      "text/plain": [
       "        RECORD_TIME\n",
       "0  2021-08-17 15:00\n",
       "1  2021-08-17 14:30"
      ]
     },
     "execution_count": 3,
     "metadata": {},
     "output_type": "execute_result"
    }
   ],
   "source": [
    "timestamps"
   ]
  },
  {
   "cell_type": "code",
   "execution_count": 4,
   "id": "alternate-victory",
   "metadata": {
    "execution": {
     "iopub.execute_input": "2021-08-17T13:00:08.571343Z",
     "iopub.status.busy": "2021-08-17T13:00:08.568942Z",
     "iopub.status.idle": "2021-08-17T13:00:08.670923Z",
     "shell.execute_reply": "2021-08-17T13:00:08.672158Z"
    },
    "papermill": {
     "duration": 0.132425,
     "end_time": "2021-08-17T13:00:08.672547",
     "exception": false,
     "start_time": "2021-08-17T13:00:08.540122",
     "status": "completed"
    },
    "tags": []
   },
   "outputs": [],
   "source": [
    "df = pd.read_sql(\"select * from EBAY_TOP_BERLIN where record_time in (select distinct record_time from EBAY_TOP_BERLIN order by record_time desc limit 2)\", sqlite3.connect(\"UsedObjects.db\"))"
   ]
  },
  {
   "cell_type": "code",
   "execution_count": 5,
   "id": "popular-active",
   "metadata": {
    "execution": {
     "iopub.execute_input": "2021-08-17T13:00:08.746591Z",
     "iopub.status.busy": "2021-08-17T13:00:08.734704Z",
     "iopub.status.idle": "2021-08-17T13:00:08.762010Z",
     "shell.execute_reply": "2021-08-17T13:00:08.763265Z"
    },
    "papermill": {
     "duration": 0.067742,
     "end_time": "2021-08-17T13:00:08.763657",
     "exception": false,
     "start_time": "2021-08-17T13:00:08.695915",
     "status": "completed"
    },
    "tags": []
   },
   "outputs": [],
   "source": [
    "df_pivot = df.pivot_table(index=\"PRODUCT\", columns = \"RECORD_TIME\", values = \"LISTING_COUNT\")"
   ]
  },
  {
   "cell_type": "code",
   "execution_count": 6,
   "id": "union-huntington",
   "metadata": {
    "execution": {
     "iopub.execute_input": "2021-08-17T13:00:08.821515Z",
     "iopub.status.busy": "2021-08-17T13:00:08.819206Z",
     "iopub.status.idle": "2021-08-17T13:00:08.825125Z",
     "shell.execute_reply": "2021-08-17T13:00:08.826494Z"
    },
    "papermill": {
     "duration": 0.041716,
     "end_time": "2021-08-17T13:00:08.826909",
     "exception": false,
     "start_time": "2021-08-17T13:00:08.785193",
     "status": "completed"
    },
    "tags": []
   },
   "outputs": [],
   "source": [
    "df_pivot.columns = [\"stamp_1\", \"stamp_2\"]\n",
    "df_pivot_diff = df_pivot.diff(axis=1)"
   ]
  },
  {
   "cell_type": "code",
   "execution_count": 7,
   "id": "fifth-motion",
   "metadata": {
    "execution": {
     "iopub.execute_input": "2021-08-17T13:00:08.881238Z",
     "iopub.status.busy": "2021-08-17T13:00:08.878970Z",
     "iopub.status.idle": "2021-08-17T13:00:10.341099Z",
     "shell.execute_reply": "2021-08-17T13:00:10.342558Z"
    },
    "papermill": {
     "duration": 1.496083,
     "end_time": "2021-08-17T13:00:10.343014",
     "exception": false,
     "start_time": "2021-08-17T13:00:08.846931",
     "status": "completed"
    },
    "tags": []
   },
   "outputs": [
    {
     "data": {
      "text/plain": [
       "<AxesSubplot:ylabel='PRODUCT'>"
      ]
     },
     "execution_count": 7,
     "metadata": {},
     "output_type": "execute_result"
    },
    {
     "data": {
      "image/png": "[encoded data removed]",
      "text/plain": [
       "<Figure size 432x288 with 1 Axes>"
      ]
     },
     "metadata": {
      "needs_background": "light"
     },
     "output_type": "display_data"
    }
   ],
   "source": [
    "df_pivot_diff.sort_values(\"stamp_2\", ascending = False)[\"stamp_2\"].head(10).plot.barh()"
   ]
  },
  {
   "cell_type": "code",
   "execution_count": null,
   "id": "extra-executive",
   "metadata": {
    "papermill": {
     "duration": 0.02213,
     "end_time": "2021-08-17T13:00:10.389873",
     "exception": false,
     "start_time": "2021-08-17T13:00:10.367743",
     "status": "completed"
    },
    "tags": []
   },
   "outputs": [],
   "source": []
  }
 ],
 "metadata": {
  "kernelspec": {
   "display_name": "Python 3",
   "language": "python",
   "name": "python3"
  },
  "language_info": {
   "codemirror_mode": {
    "name": "ipython",
    "version": 3
   },
   "file_extension": ".py",
   "mimetype": "text/x-python",
   "name": "python",
   "nbconvert_exporter": "python",
   "pygments_lexer": "ipython3",
   "version": "3.9.5"
  },
  "papermill": {
   "default_parameters": {},
   "duration": 6.827047,
   "end_time": "2021-08-17T13:00:11.869460",
   "environment_variables": {},
   "exception": null,
   "input_path": "eBay_Overview.ipynb",
   "output_path": "eBay_Overview.ipynb",
   "parameters": {},
   "start_time": "2021-08-17T13:00:05.042413",
   "version": "2.3.3"
  }
 },
 "nbformat": 4,
 "nbformat_minor": 5
}