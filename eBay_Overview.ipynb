{
 "cells": [
  {
   "cell_type": "code",
   "execution_count": 1,
   "id": "reverse-picking",
   "metadata": {
    "execution": {
     "iopub.execute_input": "2021-12-12T12:00:07.980832Z",
     "iopub.status.busy": "2021-12-12T12:00:07.978431Z",
     "iopub.status.idle": "2021-12-12T12:00:08.926828Z",
     "shell.execute_reply": "2021-12-12T12:00:08.928349Z"
    },
    "papermill": {
     "duration": 0.997339,
     "end_time": "2021-12-12T12:00:08.929176",
     "exception": false,
     "start_time": "2021-12-12T12:00:07.931837",
     "status": "completed"
    },
    "tags": []
   },
   "outputs": [],
   "source": [
    "import pandas as pd\n",
    "import sqlite3"
   ]
  },
  {
   "cell_type": "code",
   "execution_count": 2,
   "id": "innovative-syndrome",
   "metadata": {
    "execution": {
     "iopub.execute_input": "2021-12-12T12:00:08.996080Z",
     "iopub.status.busy": "2021-12-12T12:00:08.993931Z",
     "iopub.status.idle": "2021-12-12T12:00:10.081983Z",
     "shell.execute_reply": "2021-12-12T12:00:10.083286Z"
    },
    "papermill": {
     "duration": 1.121078,
     "end_time": "2021-12-12T12:00:10.083730",
     "exception": false,
     "start_time": "2021-12-12T12:00:08.962652",
     "status": "completed"
    },
    "tags": []
   },
   "outputs": [],
   "source": [
    "timestamps = pd.read_sql(\"select distinct record_time from EBAY_TOP_BERLIN order by record_time desc limit 2\", sqlite3.connect(\"UsedObjects.db\"))"
   ]
  },
  {
   "cell_type": "code",
   "execution_count": 3,
   "id": "periodic-identification",
   "metadata": {
    "execution": {
     "iopub.execute_input": "2021-12-12T12:00:10.154849Z",
     "iopub.status.busy": "2021-12-12T12:00:10.149225Z",
     "iopub.status.idle": "2021-12-12T12:00:10.171291Z",
     "shell.execute_reply": "2021-12-12T12:00:10.172606Z"
    },
    "papermill": {
     "duration": 0.070003,
     "end_time": "2021-12-12T12:00:10.173173",
     "exception": false,
     "start_time": "2021-12-12T12:00:10.103170",
     "status": "completed"
    },
    "tags": []
   },
   "outputs": [
    {
     "data": {
      "text/html": [
       "<div>\n",
       "<style scoped>\n",
       "    .dataframe tbody tr th:only-of-type {\n",
       "        vertical-align: middle;\n",
       "    }\n",
       "\n",
       "    .dataframe tbody tr th {\n",
       "        vertical-align: top;\n",
       "    }\n",
       "\n",
       "    .dataframe thead th {\n",
       "        text-align: right;\n",
       "    }\n",
       "</style>\n",
       "<table border=\"1\" class=\"dataframe\">\n",
       "  <thead>\n",
       "    <tr style=\"text-align: right;\">\n",
       "      <th></th>\n",
       "      <th>RECORD_TIME</th>\n",
       "    </tr>\n",
       "  </thead>\n",
       "  <tbody>\n",
       "    <tr>\n",
       "      <th>0</th>\n",
       "      <td>2021-12-12 13:00</td>\n",
       "    </tr>\n",
       "    <tr>\n",
       "      <th>1</th>\n",
       "      <td>2021-12-12 12:30</td>\n",
       "    </tr>\n",
       "  </tbody>\n",
       "</table>\n",
       "</div>"
      ],
      "text/plain": [
       "        RECORD_TIME\n",
       "0  2021-12-12 13:00\n",
       "1  2021-12-12 12:30"
      ]
     },
     "execution_count": 3,
     "metadata": {},
     "output_type": "execute_result"
    }
   ],
   "source": [
    "timestamps"
   ]
  },
  {
   "cell_type": "code",
   "execution_count": 4,
   "id": "alternate-victory",
   "metadata": {
    "execution": {
     "iopub.execute_input": "2021-12-12T12:00:10.228006Z",
     "iopub.status.busy": "2021-12-12T12:00:10.225819Z",
     "iopub.status.idle": "2021-12-12T12:00:11.736139Z",
     "shell.execute_reply": "2021-12-12T12:00:11.738945Z"
    },
    "papermill": {
     "duration": 1.545323,
     "end_time": "2021-12-12T12:00:11.739764",
     "exception": false,
     "start_time": "2021-12-12T12:00:10.194441",
     "status": "completed"
    },
    "tags": []
   },
   "outputs": [],
   "source": [
    "df = pd.read_sql(\"select * from EBAY_TOP_BERLIN where record_time in (select distinct record_time from EBAY_TOP_BERLIN order by record_time desc limit 2)\", sqlite3.connect(\"UsedObjects.db\"))"
   ]
  },
  {
   "cell_type": "code",
   "execution_count": 5,
   "id": "popular-active",
   "metadata": {
    "execution": {
     "iopub.execute_input": "2021-12-12T12:00:11.831108Z",
     "iopub.status.busy": "2021-12-12T12:00:11.824083Z",
     "iopub.status.idle": "2021-12-12T12:00:11.857674Z",
     "shell.execute_reply": "2021-12-12T12:00:11.859115Z"
    },
    "papermill": {
     "duration": 0.086634,
     "end_time": "2021-12-12T12:00:11.859604",
     "exception": false,
     "start_time": "2021-12-12T12:00:11.772970",
     "status": "completed"
    },
    "tags": []
   },
   "outputs": [],
   "source": [
    "df_pivot = df.pivot_table(index=\"PRODUCT\", columns = \"RECORD_TIME\", values = \"LISTING_COUNT\")"
   ]
  },
  {
   "cell_type": "code",
   "execution_count": 6,
   "id": "union-huntington",
   "metadata": {
    "execution": {
     "iopub.execute_input": "2021-12-12T12:00:11.921254Z",
     "iopub.status.busy": "2021-12-12T12:00:11.918915Z",
     "iopub.status.idle": "2021-12-12T12:00:11.924475Z",
     "shell.execute_reply": "2021-12-12T12:00:11.926095Z"
    },
    "papermill": {
     "duration": 0.044777,
     "end_time": "2021-12-12T12:00:11.926565",
     "exception": false,
     "start_time": "2021-12-12T12:00:11.881788",
     "status": "completed"
    },
    "tags": []
   },
   "outputs": [],
   "source": [
    "df_pivot.columns = [\"stamp_1\", \"stamp_2\"]\n",
    "df_pivot_diff = df_pivot.diff(axis=1)"
   ]
  },
  {
   "cell_type": "code",
   "execution_count": 7,
   "id": "fifth-motion",
   "metadata": {
    "execution": {
     "iopub.execute_input": "2021-12-12T12:00:11.983084Z",
     "iopub.status.busy": "2021-12-12T12:00:11.980740Z",
     "iopub.status.idle": "2021-12-12T12:00:13.861175Z",
     "shell.execute_reply": "2021-12-12T12:00:13.863105Z"
    },
    "papermill": {
     "duration": 1.916775,
     "end_time": "2021-12-12T12:00:13.863733",
     "exception": false,
     "start_time": "2021-12-12T12:00:11.946958",
     "status": "completed"
    },
    "tags": []
   },
   "outputs": [
    {
     "data": {
      "text/plain": [
       "<AxesSubplot:ylabel='PRODUCT'>"
      ]
     },
     "execution_count": 7,
     "metadata": {},
     "output_type": "execute_result"
    },
    {
     "data": {
      "image/png": "[encoded data removed]",
      "text/plain": [
       "<Figure size 432x288 with 1 Axes>"
      ]
     },
     "metadata": {
      "needs_background": "light"
     },
     "output_type": "display_data"
    }
   ],
   "source": [
    "df_pivot_diff.sort_values(\"stamp_2\", ascending = False)[\"stamp_2\"].head(10).plot.barh()"
   ]
  },
  {
   "cell_type": "code",
   "execution_count": null,
   "id": "extra-executive",
   "metadata": {
    "papermill": {
     "duration": 0.027821,
     "end_time": "2021-12-12T12:00:13.920309",
     "exception": false,
     "start_time": "2021-12-12T12:00:13.892488",
     "status": "completed"
    },
    "tags": []
   },
   "outputs": [],
   "source": []
  }
 ],
 "metadata": {
  "kernelspec": {
   "display_name": "Python 3",
   "language": "python",
   "name": "python3"
  },
  "language_info": {
   "codemirror_mode": {
    "name": "ipython",
    "version": 3
   },
   "file_extension": ".py",
   "mimetype": "text/x-python",
   "name": "python",
   "nbconvert_exporter": "python",
   "pygments_lexer": "ipython3",
   "version": "3.9.5"
  },
  "papermill": {
   "default_parameters": {},
   "duration": 10.005658,
   "end_time": "2021-12-12T12:00:15.134020",
   "environment_variables": {},
   "exception": null,
   "input_path": "eBay_Overview.ipynb",
   "output_path": "eBay_Overview.ipynb",
   "parameters": {},
   "start_time": "2021-12-12T12:00:05.128362",
   "version": "2.3.3"
  }
 },
 "nbformat": 4,
 "nbformat_minor": 5
}