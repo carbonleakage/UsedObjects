{
 "cells": [
  {
   "cell_type": "code",
   "execution_count": 1,
   "id": "reverse-picking",
   "metadata": {
    "execution": {
     "iopub.execute_input": "2021-09-27T03:00:06.644497Z",
     "iopub.status.busy": "2021-09-27T03:00:06.642390Z",
     "iopub.status.idle": "2021-09-27T03:00:07.447927Z",
     "shell.execute_reply": "2021-09-27T03:00:07.449124Z"
    },
    "papermill": {
     "duration": 0.856213,
     "end_time": "2021-09-27T03:00:07.449747",
     "exception": false,
     "start_time": "2021-09-27T03:00:06.593534",
     "status": "completed"
    },
    "tags": []
   },
   "outputs": [],
   "source": [
    "import pandas as pd\n",
    "import sqlite3"
   ]
  },
  {
   "cell_type": "code",
   "execution_count": 2,
   "id": "innovative-syndrome",
   "metadata": {
    "execution": {
     "iopub.execute_input": "2021-09-27T03:00:07.502217Z",
     "iopub.status.busy": "2021-09-27T03:00:07.500086Z",
     "iopub.status.idle": "2021-09-27T03:00:07.884475Z",
     "shell.execute_reply": "2021-09-27T03:00:07.885804Z"
    },
    "papermill": {
     "duration": 0.414315,
     "end_time": "2021-09-27T03:00:07.886243",
     "exception": false,
     "start_time": "2021-09-27T03:00:07.471928",
     "status": "completed"
    },
    "tags": []
   },
   "outputs": [],
   "source": [
    "timestamps = pd.read_sql(\"select distinct record_time from EBAY_TOP_BERLIN order by record_time desc limit 2\", sqlite3.connect(\"UsedObjects.db\"))"
   ]
  },
  {
   "cell_type": "code",
   "execution_count": 3,
   "id": "periodic-identification",
   "metadata": {
    "execution": {
     "iopub.execute_input": "2021-09-27T03:00:07.953458Z",
     "iopub.status.busy": "2021-09-27T03:00:07.951464Z",
     "iopub.status.idle": "2021-09-27T03:00:07.973672Z",
     "shell.execute_reply": "2021-09-27T03:00:07.975039Z"
    },
    "papermill": {
     "duration": 0.06902,
     "end_time": "2021-09-27T03:00:07.975467",
     "exception": false,
     "start_time": "2021-09-27T03:00:07.906447",
     "status": "completed"
    },
    "tags": []
   },
   "outputs": [
    {
     "data": {
      "text/html": [
       "<div>\n",
       "<style scoped>\n",
       "    .dataframe tbody tr th:only-of-type {\n",
       "        vertical-align: middle;\n",
       "    }\n",
       "\n",
       "    .dataframe tbody tr th {\n",
       "        vertical-align: top;\n",
       "    }\n",
       "\n",
       "    .dataframe thead th {\n",
       "        text-align: right;\n",
       "    }\n",
       "</style>\n",
       "<table border=\"1\" class=\"dataframe\">\n",
       "  <thead>\n",
       "    <tr style=\"text-align: right;\">\n",
       "      <th></th>\n",
       "      <th>RECORD_TIME</th>\n",
       "    </tr>\n",
       "  </thead>\n",
       "  <tbody>\n",
       "    <tr>\n",
       "      <th>0</th>\n",
       "      <td>2021-09-27 05:00</td>\n",
       "    </tr>\n",
       "    <tr>\n",
       "      <th>1</th>\n",
       "      <td>2021-09-27 04:30</td>\n",
       "    </tr>\n",
       "  </tbody>\n",
       "</table>\n",
       "</div>"
      ],
      "text/plain": [
       "        RECORD_TIME\n",
       "0  2021-09-27 05:00\n",
       "1  2021-09-27 04:30"
      ]
     },
     "execution_count": 3,
     "metadata": {},
     "output_type": "execute_result"
    }
   ],
   "source": [
    "timestamps"
   ]
  },
  {
   "cell_type": "code",
   "execution_count": 4,
   "id": "alternate-victory",
   "metadata": {
    "execution": {
     "iopub.execute_input": "2021-09-27T03:00:08.027391Z",
     "iopub.status.busy": "2021-09-27T03:00:08.025074Z",
     "iopub.status.idle": "2021-09-27T03:00:08.586051Z",
     "shell.execute_reply": "2021-09-27T03:00:08.587455Z"
    },
    "papermill": {
     "duration": 0.591766,
     "end_time": "2021-09-27T03:00:08.587874",
     "exception": false,
     "start_time": "2021-09-27T03:00:07.996108",
     "status": "completed"
    },
    "tags": []
   },
   "outputs": [],
   "source": [
    "df = pd.read_sql(\"select * from EBAY_TOP_BERLIN where record_time in (select distinct record_time from EBAY_TOP_BERLIN order by record_time desc limit 2)\", sqlite3.connect(\"UsedObjects.db\"))"
   ]
  },
  {
   "cell_type": "code",
   "execution_count": 5,
   "id": "popular-active",
   "metadata": {
    "execution": {
     "iopub.execute_input": "2021-09-27T03:00:08.659151Z",
     "iopub.status.busy": "2021-09-27T03:00:08.656882Z",
     "iopub.status.idle": "2021-09-27T03:00:08.684451Z",
     "shell.execute_reply": "2021-09-27T03:00:08.685636Z"
    },
    "papermill": {
     "duration": 0.070956,
     "end_time": "2021-09-27T03:00:08.686029",
     "exception": false,
     "start_time": "2021-09-27T03:00:08.615073",
     "status": "completed"
    },
    "tags": []
   },
   "outputs": [],
   "source": [
    "df_pivot = df.pivot_table(index=\"PRODUCT\", columns = \"RECORD_TIME\", values = \"LISTING_COUNT\")"
   ]
  },
  {
   "cell_type": "code",
   "execution_count": 6,
   "id": "union-huntington",
   "metadata": {
    "execution": {
     "iopub.execute_input": "2021-09-27T03:00:08.742614Z",
     "iopub.status.busy": "2021-09-27T03:00:08.740595Z",
     "iopub.status.idle": "2021-09-27T03:00:08.745858Z",
     "shell.execute_reply": "2021-09-27T03:00:08.747329Z"
    },
    "papermill": {
     "duration": 0.040426,
     "end_time": "2021-09-27T03:00:08.747765",
     "exception": false,
     "start_time": "2021-09-27T03:00:08.707339",
     "status": "completed"
    },
    "tags": []
   },
   "outputs": [],
   "source": [
    "df_pivot.columns = [\"stamp_1\", \"stamp_2\"]\n",
    "df_pivot_diff = df_pivot.diff(axis=1)"
   ]
  },
  {
   "cell_type": "code",
   "execution_count": 7,
   "id": "fifth-motion",
   "metadata": {
    "execution": {
     "iopub.execute_input": "2021-09-27T03:00:08.806287Z",
     "iopub.status.busy": "2021-09-27T03:00:08.801739Z",
     "iopub.status.idle": "2021-09-27T03:00:10.278857Z",
     "shell.execute_reply": "2021-09-27T03:00:10.280141Z"
    },
    "papermill": {
     "duration": 1.510449,
     "end_time": "2021-09-27T03:00:10.280557",
     "exception": false,
     "start_time": "2021-09-27T03:00:08.770108",
     "status": "completed"
    },
    "tags": []
   },
   "outputs": [
    {
     "data": {
      "text/plain": [
       "<AxesSubplot:ylabel='PRODUCT'>"
      ]
     },
     "execution_count": 7,
     "metadata": {},
     "output_type": "execute_result"
    },
    {
     "data": {
      "image/png": "[encoded data removed]",
      "text/plain": [
       "<Figure size 432x288 with 1 Axes>"
      ]
     },
     "metadata": {
      "needs_background": "light"
     },
     "output_type": "display_data"
    }
   ],
   "source": [
    "df_pivot_diff.sort_values(\"stamp_2\", ascending = False)[\"stamp_2\"].head(10).plot.barh()"
   ]
  },
  {
   "cell_type": "code",
   "execution_count": null,
   "id": "extra-executive",
   "metadata": {
    "papermill": {
     "duration": 0.021834,
     "end_time": "2021-09-27T03:00:10.325221",
     "exception": false,
     "start_time": "2021-09-27T03:00:10.303387",
     "status": "completed"
    },
    "tags": []
   },
   "outputs": [],
   "source": []
  }
 ],
 "metadata": {
  "kernelspec": {
   "display_name": "Python 3",
   "language": "python",
   "name": "python3"
  },
  "language_info": {
   "codemirror_mode": {
    "name": "ipython",
    "version": 3
   },
   "file_extension": ".py",
   "mimetype": "text/x-python",
   "name": "python",
   "nbconvert_exporter": "python",
   "pygments_lexer": "ipython3",
   "version": "3.9.5"
  },
  "papermill": {
   "default_parameters": {},
   "duration": 6.773313,
   "end_time": "2021-09-27T03:00:10.966718",
   "environment_variables": {},
   "exception": null,
   "input_path": "eBay_Overview.ipynb",
   "output_path": "eBay_Overview.ipynb",
   "parameters": {},
   "start_time": "2021-09-27T03:00:04.193405",
   "version": "2.3.3"
  }
 },
 "nbformat": 4,
 "nbformat_minor": 5
}