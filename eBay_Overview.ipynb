{
 "cells": [
  {
   "cell_type": "code",
   "execution_count": 1,
   "id": "reverse-picking",
   "metadata": {
    "execution": {
     "iopub.execute_input": "2021-10-06T18:00:07.094418Z",
     "iopub.status.busy": "2021-10-06T18:00:07.092409Z",
     "iopub.status.idle": "2021-10-06T18:00:07.899778Z",
     "shell.execute_reply": "2021-10-06T18:00:07.901118Z"
    },
    "papermill": {
     "duration": 0.859151,
     "end_time": "2021-10-06T18:00:07.901741",
     "exception": false,
     "start_time": "2021-10-06T18:00:07.042590",
     "status": "completed"
    },
    "tags": []
   },
   "outputs": [],
   "source": [
    "import pandas as pd\n",
    "import sqlite3"
   ]
  },
  {
   "cell_type": "code",
   "execution_count": 2,
   "id": "innovative-syndrome",
   "metadata": {
    "execution": {
     "iopub.execute_input": "2021-10-06T18:00:07.951625Z",
     "iopub.status.busy": "2021-10-06T18:00:07.949643Z",
     "iopub.status.idle": "2021-10-06T18:00:08.411602Z",
     "shell.execute_reply": "2021-10-06T18:00:08.412890Z"
    },
    "papermill": {
     "duration": 0.491626,
     "end_time": "2021-10-06T18:00:08.413297",
     "exception": false,
     "start_time": "2021-10-06T18:00:07.921671",
     "status": "completed"
    },
    "tags": []
   },
   "outputs": [],
   "source": [
    "timestamps = pd.read_sql(\"select distinct record_time from EBAY_TOP_BERLIN order by record_time desc limit 2\", sqlite3.connect(\"UsedObjects.db\"))"
   ]
  },
  {
   "cell_type": "code",
   "execution_count": 3,
   "id": "periodic-identification",
   "metadata": {
    "execution": {
     "iopub.execute_input": "2021-10-06T18:00:08.477344Z",
     "iopub.status.busy": "2021-10-06T18:00:08.475299Z",
     "iopub.status.idle": "2021-10-06T18:00:08.494990Z",
     "shell.execute_reply": "2021-10-06T18:00:08.496244Z"
    },
    "papermill": {
     "duration": 0.064147,
     "end_time": "2021-10-06T18:00:08.496644",
     "exception": false,
     "start_time": "2021-10-06T18:00:08.432497",
     "status": "completed"
    },
    "tags": []
   },
   "outputs": [
    {
     "data": {
      "text/html": [
       "<div>\n",
       "<style scoped>\n",
       "    .dataframe tbody tr th:only-of-type {\n",
       "        vertical-align: middle;\n",
       "    }\n",
       "\n",
       "    .dataframe tbody tr th {\n",
       "        vertical-align: top;\n",
       "    }\n",
       "\n",
       "    .dataframe thead th {\n",
       "        text-align: right;\n",
       "    }\n",
       "</style>\n",
       "<table border=\"1\" class=\"dataframe\">\n",
       "  <thead>\n",
       "    <tr style=\"text-align: right;\">\n",
       "      <th></th>\n",
       "      <th>RECORD_TIME</th>\n",
       "    </tr>\n",
       "  </thead>\n",
       "  <tbody>\n",
       "    <tr>\n",
       "      <th>0</th>\n",
       "      <td>2021-10-06 20:00</td>\n",
       "    </tr>\n",
       "    <tr>\n",
       "      <th>1</th>\n",
       "      <td>2021-10-06 19:30</td>\n",
       "    </tr>\n",
       "  </tbody>\n",
       "</table>\n",
       "</div>"
      ],
      "text/plain": [
       "        RECORD_TIME\n",
       "0  2021-10-06 20:00\n",
       "1  2021-10-06 19:30"
      ]
     },
     "execution_count": 3,
     "metadata": {},
     "output_type": "execute_result"
    }
   ],
   "source": [
    "timestamps"
   ]
  },
  {
   "cell_type": "code",
   "execution_count": 4,
   "id": "alternate-victory",
   "metadata": {
    "execution": {
     "iopub.execute_input": "2021-10-06T18:00:08.557138Z",
     "iopub.status.busy": "2021-10-06T18:00:08.555280Z",
     "iopub.status.idle": "2021-10-06T18:00:09.257119Z",
     "shell.execute_reply": "2021-10-06T18:00:09.258335Z"
    },
    "papermill": {
     "duration": 0.735206,
     "end_time": "2021-10-06T18:00:09.258769",
     "exception": false,
     "start_time": "2021-10-06T18:00:08.523563",
     "status": "completed"
    },
    "tags": []
   },
   "outputs": [],
   "source": [
    "df = pd.read_sql(\"select * from EBAY_TOP_BERLIN where record_time in (select distinct record_time from EBAY_TOP_BERLIN order by record_time desc limit 2)\", sqlite3.connect(\"UsedObjects.db\"))"
   ]
  },
  {
   "cell_type": "code",
   "execution_count": 5,
   "id": "popular-active",
   "metadata": {
    "execution": {
     "iopub.execute_input": "2021-10-06T18:00:09.329462Z",
     "iopub.status.busy": "2021-10-06T18:00:09.316984Z",
     "iopub.status.idle": "2021-10-06T18:00:09.346633Z",
     "shell.execute_reply": "2021-10-06T18:00:09.348109Z"
    },
    "papermill": {
     "duration": 0.069132,
     "end_time": "2021-10-06T18:00:09.348562",
     "exception": false,
     "start_time": "2021-10-06T18:00:09.279430",
     "status": "completed"
    },
    "tags": []
   },
   "outputs": [],
   "source": [
    "df_pivot = df.pivot_table(index=\"PRODUCT\", columns = \"RECORD_TIME\", values = \"LISTING_COUNT\")"
   ]
  },
  {
   "cell_type": "code",
   "execution_count": 6,
   "id": "union-huntington",
   "metadata": {
    "execution": {
     "iopub.execute_input": "2021-10-06T18:00:09.406088Z",
     "iopub.status.busy": "2021-10-06T18:00:09.403605Z",
     "iopub.status.idle": "2021-10-06T18:00:09.409475Z",
     "shell.execute_reply": "2021-10-06T18:00:09.410762Z"
    },
    "papermill": {
     "duration": 0.042306,
     "end_time": "2021-10-06T18:00:09.411255",
     "exception": false,
     "start_time": "2021-10-06T18:00:09.368949",
     "status": "completed"
    },
    "tags": []
   },
   "outputs": [],
   "source": [
    "df_pivot.columns = [\"stamp_1\", \"stamp_2\"]\n",
    "df_pivot_diff = df_pivot.diff(axis=1)"
   ]
  },
  {
   "cell_type": "code",
   "execution_count": 7,
   "id": "fifth-motion",
   "metadata": {
    "execution": {
     "iopub.execute_input": "2021-10-06T18:00:09.465888Z",
     "iopub.status.busy": "2021-10-06T18:00:09.463587Z",
     "iopub.status.idle": "2021-10-06T18:00:10.945170Z",
     "shell.execute_reply": "2021-10-06T18:00:10.946457Z"
    },
    "papermill": {
     "duration": 1.515173,
     "end_time": "2021-10-06T18:00:10.946940",
     "exception": false,
     "start_time": "2021-10-06T18:00:09.431767",
     "status": "completed"
    },
    "tags": []
   },
   "outputs": [
    {
     "data": {
      "text/plain": [
       "<AxesSubplot:ylabel='PRODUCT'>"
      ]
     },
     "execution_count": 7,
     "metadata": {},
     "output_type": "execute_result"
    },
    {
     "data": {
      "image/png": "[encoded data removed]",
      "text/plain": [
       "<Figure size 432x288 with 1 Axes>"
      ]
     },
     "metadata": {
      "needs_background": "light"
     },
     "output_type": "display_data"
    }
   ],
   "source": [
    "df_pivot_diff.sort_values(\"stamp_2\", ascending = False)[\"stamp_2\"].head(10).plot.barh()"
   ]
  },
  {
   "cell_type": "code",
   "execution_count": null,
   "id": "extra-executive",
   "metadata": {
    "papermill": {
     "duration": 0.022167,
     "end_time": "2021-10-06T18:00:10.992826",
     "exception": false,
     "start_time": "2021-10-06T18:00:10.970659",
     "status": "completed"
    },
    "tags": []
   },
   "outputs": [],
   "source": []
  }
 ],
 "metadata": {
  "kernelspec": {
   "display_name": "Python 3",
   "language": "python",
   "name": "python3"
  },
  "language_info": {
   "codemirror_mode": {
    "name": "ipython",
    "version": 3
   },
   "file_extension": ".py",
   "mimetype": "text/x-python",
   "name": "python",
   "nbconvert_exporter": "python",
   "pygments_lexer": "ipython3",
   "version": "3.9.5"
  },
  "papermill": {
   "default_parameters": {},
   "duration": 7.825217,
   "end_time": "2021-10-06T18:00:12.455679",
   "environment_variables": {},
   "exception": null,
   "input_path": "eBay_Overview.ipynb",
   "output_path": "eBay_Overview.ipynb",
   "parameters": {},
   "start_time": "2021-10-06T18:00:04.630462",
   "version": "2.3.3"
  }
 },
 "nbformat": 4,
 "nbformat_minor": 5
}