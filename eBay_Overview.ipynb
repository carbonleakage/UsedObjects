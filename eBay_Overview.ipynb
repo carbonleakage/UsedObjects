{
 "cells": [
  {
   "cell_type": "code",
   "execution_count": 1,
   "id": "reverse-picking",
   "metadata": {
    "execution": {
     "iopub.execute_input": "2021-08-31T14:30:06.697334Z",
     "iopub.status.busy": "2021-08-31T14:30:06.695404Z",
     "iopub.status.idle": "2021-08-31T14:30:07.502258Z",
     "shell.execute_reply": "2021-08-31T14:30:07.503603Z"
    },
    "papermill": {
     "duration": 0.859517,
     "end_time": "2021-08-31T14:30:07.504239",
     "exception": false,
     "start_time": "2021-08-31T14:30:06.644722",
     "status": "completed"
    },
    "tags": []
   },
   "outputs": [],
   "source": [
    "import pandas as pd\n",
    "import sqlite3"
   ]
  },
  {
   "cell_type": "code",
   "execution_count": 2,
   "id": "innovative-syndrome",
   "metadata": {
    "execution": {
     "iopub.execute_input": "2021-08-31T14:30:07.557690Z",
     "iopub.status.busy": "2021-08-31T14:30:07.555509Z",
     "iopub.status.idle": "2021-08-31T14:30:07.728916Z",
     "shell.execute_reply": "2021-08-31T14:30:07.730131Z"
    },
    "papermill": {
     "duration": 0.203594,
     "end_time": "2021-08-31T14:30:07.730530",
     "exception": false,
     "start_time": "2021-08-31T14:30:07.526936",
     "status": "completed"
    },
    "tags": []
   },
   "outputs": [],
   "source": [
    "timestamps = pd.read_sql(\"select distinct record_time from EBAY_TOP_BERLIN order by record_time desc limit 2\", sqlite3.connect(\"UsedObjects.db\"))"
   ]
  },
  {
   "cell_type": "code",
   "execution_count": 3,
   "id": "periodic-identification",
   "metadata": {
    "execution": {
     "iopub.execute_input": "2021-08-31T14:30:07.800613Z",
     "iopub.status.busy": "2021-08-31T14:30:07.795034Z",
     "iopub.status.idle": "2021-08-31T14:30:07.816382Z",
     "shell.execute_reply": "2021-08-31T14:30:07.817872Z"
    },
    "papermill": {
     "duration": 0.066508,
     "end_time": "2021-08-31T14:30:07.818335",
     "exception": false,
     "start_time": "2021-08-31T14:30:07.751827",
     "status": "completed"
    },
    "tags": []
   },
   "outputs": [
    {
     "data": {
      "text/html": [
       "<div>\n",
       "<style scoped>\n",
       "    .dataframe tbody tr th:only-of-type {\n",
       "        vertical-align: middle;\n",
       "    }\n",
       "\n",
       "    .dataframe tbody tr th {\n",
       "        vertical-align: top;\n",
       "    }\n",
       "\n",
       "    .dataframe thead th {\n",
       "        text-align: right;\n",
       "    }\n",
       "</style>\n",
       "<table border=\"1\" class=\"dataframe\">\n",
       "  <thead>\n",
       "    <tr style=\"text-align: right;\">\n",
       "      <th></th>\n",
       "      <th>RECORD_TIME</th>\n",
       "    </tr>\n",
       "  </thead>\n",
       "  <tbody>\n",
       "    <tr>\n",
       "      <th>0</th>\n",
       "      <td>2021-08-31 16:30</td>\n",
       "    </tr>\n",
       "    <tr>\n",
       "      <th>1</th>\n",
       "      <td>2021-08-31 16:00</td>\n",
       "    </tr>\n",
       "  </tbody>\n",
       "</table>\n",
       "</div>"
      ],
      "text/plain": [
       "        RECORD_TIME\n",
       "0  2021-08-31 16:30\n",
       "1  2021-08-31 16:00"
      ]
     },
     "execution_count": 3,
     "metadata": {},
     "output_type": "execute_result"
    }
   ],
   "source": [
    "timestamps"
   ]
  },
  {
   "cell_type": "code",
   "execution_count": 4,
   "id": "alternate-victory",
   "metadata": {
    "execution": {
     "iopub.execute_input": "2021-08-31T14:30:07.872242Z",
     "iopub.status.busy": "2021-08-31T14:30:07.869878Z",
     "iopub.status.idle": "2021-08-31T14:30:08.141644Z",
     "shell.execute_reply": "2021-08-31T14:30:08.142938Z"
    },
    "papermill": {
     "duration": 0.302817,
     "end_time": "2021-08-31T14:30:08.143409",
     "exception": false,
     "start_time": "2021-08-31T14:30:07.840592",
     "status": "completed"
    },
    "tags": []
   },
   "outputs": [],
   "source": [
    "df = pd.read_sql(\"select * from EBAY_TOP_BERLIN where record_time in (select distinct record_time from EBAY_TOP_BERLIN order by record_time desc limit 2)\", sqlite3.connect(\"UsedObjects.db\"))"
   ]
  },
  {
   "cell_type": "code",
   "execution_count": 5,
   "id": "popular-active",
   "metadata": {
    "execution": {
     "iopub.execute_input": "2021-08-31T14:30:08.220053Z",
     "iopub.status.busy": "2021-08-31T14:30:08.212384Z",
     "iopub.status.idle": "2021-08-31T14:30:08.240515Z",
     "shell.execute_reply": "2021-08-31T14:30:08.241745Z"
    },
    "papermill": {
     "duration": 0.072693,
     "end_time": "2021-08-31T14:30:08.242148",
     "exception": false,
     "start_time": "2021-08-31T14:30:08.169455",
     "status": "completed"
    },
    "tags": []
   },
   "outputs": [],
   "source": [
    "df_pivot = df.pivot_table(index=\"PRODUCT\", columns = \"RECORD_TIME\", values = \"LISTING_COUNT\")"
   ]
  },
  {
   "cell_type": "code",
   "execution_count": 6,
   "id": "union-huntington",
   "metadata": {
    "execution": {
     "iopub.execute_input": "2021-08-31T14:30:08.302247Z",
     "iopub.status.busy": "2021-08-31T14:30:08.299793Z",
     "iopub.status.idle": "2021-08-31T14:30:08.305716Z",
     "shell.execute_reply": "2021-08-31T14:30:08.307170Z"
    },
    "papermill": {
     "duration": 0.042876,
     "end_time": "2021-08-31T14:30:08.307629",
     "exception": false,
     "start_time": "2021-08-31T14:30:08.264753",
     "status": "completed"
    },
    "tags": []
   },
   "outputs": [],
   "source": [
    "df_pivot.columns = [\"stamp_1\", \"stamp_2\"]\n",
    "df_pivot_diff = df_pivot.diff(axis=1)"
   ]
  },
  {
   "cell_type": "code",
   "execution_count": 7,
   "id": "fifth-motion",
   "metadata": {
    "execution": {
     "iopub.execute_input": "2021-08-31T14:30:08.363381Z",
     "iopub.status.busy": "2021-08-31T14:30:08.360927Z",
     "iopub.status.idle": "2021-08-31T14:30:09.867244Z",
     "shell.execute_reply": "2021-08-31T14:30:09.868633Z"
    },
    "papermill": {
     "duration": 1.539751,
     "end_time": "2021-08-31T14:30:09.869121",
     "exception": false,
     "start_time": "2021-08-31T14:30:08.329370",
     "status": "completed"
    },
    "tags": []
   },
   "outputs": [
    {
     "data": {
      "text/plain": [
       "<AxesSubplot:ylabel='PRODUCT'>"
      ]
     },
     "execution_count": 7,
     "metadata": {},
     "output_type": "execute_result"
    },
    {
     "data": {
      "image/png": "[encoded data removed]",
      "text/plain": [
       "<Figure size 432x288 with 1 Axes>"
      ]
     },
     "metadata": {
      "needs_background": "light"
     },
     "output_type": "display_data"
    }
   ],
   "source": [
    "df_pivot_diff.sort_values(\"stamp_2\", ascending = False)[\"stamp_2\"].head(10).plot.barh()"
   ]
  },
  {
   "cell_type": "code",
   "execution_count": null,
   "id": "extra-executive",
   "metadata": {
    "papermill": {
     "duration": 0.022738,
     "end_time": "2021-08-31T14:30:09.917272",
     "exception": false,
     "start_time": "2021-08-31T14:30:09.894534",
     "status": "completed"
    },
    "tags": []
   },
   "outputs": [],
   "source": []
  }
 ],
 "metadata": {
  "kernelspec": {
   "display_name": "Python 3",
   "language": "python",
   "name": "python3"
  },
  "language_info": {
   "codemirror_mode": {
    "name": "ipython",
    "version": 3
   },
   "file_extension": ".py",
   "mimetype": "text/x-python",
   "name": "python",
   "nbconvert_exporter": "python",
   "pygments_lexer": "ipython3",
   "version": "3.9.5"
  },
  "papermill": {
   "default_parameters": {},
   "duration": 6.334619,
   "end_time": "2021-08-31T14:30:10.560260",
   "environment_variables": {},
   "exception": null,
   "input_path": "eBay_Overview.ipynb",
   "output_path": "eBay_Overview.ipynb",
   "parameters": {},
   "start_time": "2021-08-31T14:30:04.225641",
   "version": "2.3.3"
  }
 },
 "nbformat": 4,
 "nbformat_minor": 5
}