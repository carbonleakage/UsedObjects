{
 "cells": [
  {
   "cell_type": "code",
   "execution_count": 1,
   "id": "reverse-picking",
   "metadata": {
    "execution": {
     "iopub.execute_input": "2021-10-18T20:00:07.362485Z",
     "iopub.status.busy": "2021-10-18T20:00:07.360532Z",
     "iopub.status.idle": "2021-10-18T20:00:08.160805Z",
     "shell.execute_reply": "2021-10-18T20:00:08.162236Z"
    },
    "papermill": {
     "duration": 0.85289,
     "end_time": "2021-10-18T20:00:08.162909",
     "exception": false,
     "start_time": "2021-10-18T20:00:07.310019",
     "status": "completed"
    },
    "tags": []
   },
   "outputs": [],
   "source": [
    "import pandas as pd\n",
    "import sqlite3"
   ]
  },
  {
   "cell_type": "code",
   "execution_count": 2,
   "id": "innovative-syndrome",
   "metadata": {
    "execution": {
     "iopub.execute_input": "2021-10-18T20:00:08.214163Z",
     "iopub.status.busy": "2021-10-18T20:00:08.211806Z",
     "iopub.status.idle": "2021-10-18T20:00:08.788358Z",
     "shell.execute_reply": "2021-10-18T20:00:08.789694Z"
    },
    "papermill": {
     "duration": 0.606595,
     "end_time": "2021-10-18T20:00:08.790112",
     "exception": false,
     "start_time": "2021-10-18T20:00:08.183517",
     "status": "completed"
    },
    "tags": []
   },
   "outputs": [],
   "source": [
    "timestamps = pd.read_sql(\"select distinct record_time from EBAY_TOP_BERLIN order by record_time desc limit 2\", sqlite3.connect(\"UsedObjects.db\"))"
   ]
  },
  {
   "cell_type": "code",
   "execution_count": 3,
   "id": "periodic-identification",
   "metadata": {
    "execution": {
     "iopub.execute_input": "2021-10-18T20:00:08.864437Z",
     "iopub.status.busy": "2021-10-18T20:00:08.862448Z",
     "iopub.status.idle": "2021-10-18T20:00:08.882338Z",
     "shell.execute_reply": "2021-10-18T20:00:08.883525Z"
    },
    "papermill": {
     "duration": 0.067322,
     "end_time": "2021-10-18T20:00:08.883947",
     "exception": false,
     "start_time": "2021-10-18T20:00:08.816625",
     "status": "completed"
    },
    "tags": []
   },
   "outputs": [
    {
     "data": {
      "text/html": [
       "<div>\n",
       "<style scoped>\n",
       "    .dataframe tbody tr th:only-of-type {\n",
       "        vertical-align: middle;\n",
       "    }\n",
       "\n",
       "    .dataframe tbody tr th {\n",
       "        vertical-align: top;\n",
       "    }\n",
       "\n",
       "    .dataframe thead th {\n",
       "        text-align: right;\n",
       "    }\n",
       "</style>\n",
       "<table border=\"1\" class=\"dataframe\">\n",
       "  <thead>\n",
       "    <tr style=\"text-align: right;\">\n",
       "      <th></th>\n",
       "      <th>RECORD_TIME</th>\n",
       "    </tr>\n",
       "  </thead>\n",
       "  <tbody>\n",
       "    <tr>\n",
       "      <th>0</th>\n",
       "      <td>2021-10-18 22:00</td>\n",
       "    </tr>\n",
       "    <tr>\n",
       "      <th>1</th>\n",
       "      <td>2021-10-18 21:30</td>\n",
       "    </tr>\n",
       "  </tbody>\n",
       "</table>\n",
       "</div>"
      ],
      "text/plain": [
       "        RECORD_TIME\n",
       "0  2021-10-18 22:00\n",
       "1  2021-10-18 21:30"
      ]
     },
     "execution_count": 3,
     "metadata": {},
     "output_type": "execute_result"
    }
   ],
   "source": [
    "timestamps"
   ]
  },
  {
   "cell_type": "code",
   "execution_count": 4,
   "id": "alternate-victory",
   "metadata": {
    "execution": {
     "iopub.execute_input": "2021-10-18T20:00:08.936384Z",
     "iopub.status.busy": "2021-10-18T20:00:08.934574Z",
     "iopub.status.idle": "2021-10-18T20:00:09.778558Z",
     "shell.execute_reply": "2021-10-18T20:00:09.779828Z"
    },
    "papermill": {
     "duration": 0.873872,
     "end_time": "2021-10-18T20:00:09.780236",
     "exception": false,
     "start_time": "2021-10-18T20:00:08.906364",
     "status": "completed"
    },
    "tags": []
   },
   "outputs": [],
   "source": [
    "df = pd.read_sql(\"select * from EBAY_TOP_BERLIN where record_time in (select distinct record_time from EBAY_TOP_BERLIN order by record_time desc limit 2)\", sqlite3.connect(\"UsedObjects.db\"))"
   ]
  },
  {
   "cell_type": "code",
   "execution_count": 5,
   "id": "popular-active",
   "metadata": {
    "execution": {
     "iopub.execute_input": "2021-10-18T20:00:09.852986Z",
     "iopub.status.busy": "2021-10-18T20:00:09.839805Z",
     "iopub.status.idle": "2021-10-18T20:00:09.868475Z",
     "shell.execute_reply": "2021-10-18T20:00:09.869972Z"
    },
    "papermill": {
     "duration": 0.069771,
     "end_time": "2021-10-18T20:00:09.870412",
     "exception": false,
     "start_time": "2021-10-18T20:00:09.800641",
     "status": "completed"
    },
    "tags": []
   },
   "outputs": [],
   "source": [
    "df_pivot = df.pivot_table(index=\"PRODUCT\", columns = \"RECORD_TIME\", values = \"LISTING_COUNT\")"
   ]
  },
  {
   "cell_type": "code",
   "execution_count": 6,
   "id": "union-huntington",
   "metadata": {
    "execution": {
     "iopub.execute_input": "2021-10-18T20:00:09.928410Z",
     "iopub.status.busy": "2021-10-18T20:00:09.926026Z",
     "iopub.status.idle": "2021-10-18T20:00:09.931883Z",
     "shell.execute_reply": "2021-10-18T20:00:09.933209Z"
    },
    "papermill": {
     "duration": 0.042492,
     "end_time": "2021-10-18T20:00:09.933630",
     "exception": false,
     "start_time": "2021-10-18T20:00:09.891138",
     "status": "completed"
    },
    "tags": []
   },
   "outputs": [],
   "source": [
    "df_pivot.columns = [\"stamp_1\", \"stamp_2\"]\n",
    "df_pivot_diff = df_pivot.diff(axis=1)"
   ]
  },
  {
   "cell_type": "code",
   "execution_count": 7,
   "id": "fifth-motion",
   "metadata": {
    "execution": {
     "iopub.execute_input": "2021-10-18T20:00:09.988184Z",
     "iopub.status.busy": "2021-10-18T20:00:09.985936Z",
     "iopub.status.idle": "2021-10-18T20:00:11.470422Z",
     "shell.execute_reply": "2021-10-18T20:00:11.471875Z"
    },
    "papermill": {
     "duration": 1.517828,
     "end_time": "2021-10-18T20:00:11.472336",
     "exception": false,
     "start_time": "2021-10-18T20:00:09.954508",
     "status": "completed"
    },
    "tags": []
   },
   "outputs": [
    {
     "data": {
      "text/plain": [
       "<AxesSubplot:ylabel='PRODUCT'>"
      ]
     },
     "execution_count": 7,
     "metadata": {},
     "output_type": "execute_result"
    },
    {
     "data": {
      "image/png": "[encoded data removed]",
      "text/plain": [
       "<Figure size 432x288 with 1 Axes>"
      ]
     },
     "metadata": {
      "needs_background": "light"
     },
     "output_type": "display_data"
    }
   ],
   "source": [
    "df_pivot_diff.sort_values(\"stamp_2\", ascending = False)[\"stamp_2\"].head(10).plot.barh()"
   ]
  },
  {
   "cell_type": "code",
   "execution_count": null,
   "id": "extra-executive",
   "metadata": {
    "papermill": {
     "duration": 0.022193,
     "end_time": "2021-10-18T20:00:11.519418",
     "exception": false,
     "start_time": "2021-10-18T20:00:11.497225",
     "status": "completed"
    },
    "tags": []
   },
   "outputs": [],
   "source": []
  }
 ],
 "metadata": {
  "kernelspec": {
   "display_name": "Python 3",
   "language": "python",
   "name": "python3"
  },
  "language_info": {
   "codemirror_mode": {
    "name": "ipython",
    "version": 3
   },
   "file_extension": ".py",
   "mimetype": "text/x-python",
   "name": "python",
   "nbconvert_exporter": "python",
   "pygments_lexer": "ipython3",
   "version": "3.9.5"
  },
  "papermill": {
   "default_parameters": {},
   "duration": 7.816289,
   "end_time": "2021-10-18T20:00:12.731183",
   "environment_variables": {},
   "exception": null,
   "input_path": "eBay_Overview.ipynb",
   "output_path": "eBay_Overview.ipynb",
   "parameters": {},
   "start_time": "2021-10-18T20:00:04.914894",
   "version": "2.3.3"
  }
 },
 "nbformat": 4,
 "nbformat_minor": 5
}