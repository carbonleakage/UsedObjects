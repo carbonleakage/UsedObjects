{
 "cells": [
  {
   "cell_type": "code",
   "execution_count": 1,
   "id": "reverse-picking",
   "metadata": {
    "execution": {
     "iopub.execute_input": "2021-11-06T02:00:07.749424Z",
     "iopub.status.busy": "2021-11-06T02:00:07.747182Z",
     "iopub.status.idle": "2021-11-06T02:00:08.702759Z",
     "shell.execute_reply": "2021-11-06T02:00:08.704319Z"
    },
    "papermill": {
     "duration": 1.003684,
     "end_time": "2021-11-06T02:00:08.705071",
     "exception": false,
     "start_time": "2021-11-06T02:00:07.701387",
     "status": "completed"
    },
    "tags": []
   },
   "outputs": [],
   "source": [
    "import pandas as pd\n",
    "import sqlite3"
   ]
  },
  {
   "cell_type": "code",
   "execution_count": 2,
   "id": "innovative-syndrome",
   "metadata": {
    "execution": {
     "iopub.execute_input": "2021-11-06T02:00:08.767754Z",
     "iopub.status.busy": "2021-11-06T02:00:08.765445Z",
     "iopub.status.idle": "2021-11-06T02:00:09.504554Z",
     "shell.execute_reply": "2021-11-06T02:00:09.506156Z"
    },
    "papermill": {
     "duration": 0.773498,
     "end_time": "2021-11-06T02:00:09.506648",
     "exception": false,
     "start_time": "2021-11-06T02:00:08.733150",
     "status": "completed"
    },
    "tags": []
   },
   "outputs": [],
   "source": [
    "timestamps = pd.read_sql(\"select distinct record_time from EBAY_TOP_BERLIN order by record_time desc limit 2\", sqlite3.connect(\"UsedObjects.db\"))"
   ]
  },
  {
   "cell_type": "code",
   "execution_count": 3,
   "id": "periodic-identification",
   "metadata": {
    "execution": {
     "iopub.execute_input": "2021-11-06T02:00:09.578007Z",
     "iopub.status.busy": "2021-11-06T02:00:09.575652Z",
     "iopub.status.idle": "2021-11-06T02:00:09.598171Z",
     "shell.execute_reply": "2021-11-06T02:00:09.599874Z"
    },
    "papermill": {
     "duration": 0.073292,
     "end_time": "2021-11-06T02:00:09.600401",
     "exception": false,
     "start_time": "2021-11-06T02:00:09.527109",
     "status": "completed"
    },
    "tags": []
   },
   "outputs": [
    {
     "data": {
      "text/html": [
       "<div>\n",
       "<style scoped>\n",
       "    .dataframe tbody tr th:only-of-type {\n",
       "        vertical-align: middle;\n",
       "    }\n",
       "\n",
       "    .dataframe tbody tr th {\n",
       "        vertical-align: top;\n",
       "    }\n",
       "\n",
       "    .dataframe thead th {\n",
       "        text-align: right;\n",
       "    }\n",
       "</style>\n",
       "<table border=\"1\" class=\"dataframe\">\n",
       "  <thead>\n",
       "    <tr style=\"text-align: right;\">\n",
       "      <th></th>\n",
       "      <th>RECORD_TIME</th>\n",
       "    </tr>\n",
       "  </thead>\n",
       "  <tbody>\n",
       "    <tr>\n",
       "      <th>0</th>\n",
       "      <td>2021-11-06 03:00</td>\n",
       "    </tr>\n",
       "    <tr>\n",
       "      <th>1</th>\n",
       "      <td>2021-11-06 02:30</td>\n",
       "    </tr>\n",
       "  </tbody>\n",
       "</table>\n",
       "</div>"
      ],
      "text/plain": [
       "        RECORD_TIME\n",
       "0  2021-11-06 03:00\n",
       "1  2021-11-06 02:30"
      ]
     },
     "execution_count": 3,
     "metadata": {},
     "output_type": "execute_result"
    }
   ],
   "source": [
    "timestamps"
   ]
  },
  {
   "cell_type": "code",
   "execution_count": 4,
   "id": "alternate-victory",
   "metadata": {
    "execution": {
     "iopub.execute_input": "2021-11-06T02:00:09.656801Z",
     "iopub.status.busy": "2021-11-06T02:00:09.654537Z",
     "iopub.status.idle": "2021-11-06T02:00:10.745969Z",
     "shell.execute_reply": "2021-11-06T02:00:10.747123Z"
    },
    "papermill": {
     "duration": 1.125939,
     "end_time": "2021-11-06T02:00:10.747537",
     "exception": false,
     "start_time": "2021-11-06T02:00:09.621598",
     "status": "completed"
    },
    "tags": []
   },
   "outputs": [],
   "source": [
    "df = pd.read_sql(\"select * from EBAY_TOP_BERLIN where record_time in (select distinct record_time from EBAY_TOP_BERLIN order by record_time desc limit 2)\", sqlite3.connect(\"UsedObjects.db\"))"
   ]
  },
  {
   "cell_type": "code",
   "execution_count": 5,
   "id": "popular-active",
   "metadata": {
    "execution": {
     "iopub.execute_input": "2021-11-06T02:00:10.865757Z",
     "iopub.status.busy": "2021-11-06T02:00:10.851740Z",
     "iopub.status.idle": "2021-11-06T02:00:10.886725Z",
     "shell.execute_reply": "2021-11-06T02:00:10.885199Z"
    },
    "papermill": {
     "duration": 0.077816,
     "end_time": "2021-11-06T02:00:10.887177",
     "exception": false,
     "start_time": "2021-11-06T02:00:10.809361",
     "status": "completed"
    },
    "tags": []
   },
   "outputs": [],
   "source": [
    "df_pivot = df.pivot_table(index=\"PRODUCT\", columns = \"RECORD_TIME\", values = \"LISTING_COUNT\")"
   ]
  },
  {
   "cell_type": "code",
   "execution_count": 6,
   "id": "union-huntington",
   "metadata": {
    "execution": {
     "iopub.execute_input": "2021-11-06T02:00:10.947960Z",
     "iopub.status.busy": "2021-11-06T02:00:10.945598Z",
     "iopub.status.idle": "2021-11-06T02:00:10.951750Z",
     "shell.execute_reply": "2021-11-06T02:00:10.953577Z"
    },
    "papermill": {
     "duration": 0.045899,
     "end_time": "2021-11-06T02:00:10.954102",
     "exception": false,
     "start_time": "2021-11-06T02:00:10.908203",
     "status": "completed"
    },
    "tags": []
   },
   "outputs": [],
   "source": [
    "df_pivot.columns = [\"stamp_1\", \"stamp_2\"]\n",
    "df_pivot_diff = df_pivot.diff(axis=1)"
   ]
  },
  {
   "cell_type": "code",
   "execution_count": 7,
   "id": "fifth-motion",
   "metadata": {
    "execution": {
     "iopub.execute_input": "2021-11-06T02:00:11.015802Z",
     "iopub.status.busy": "2021-11-06T02:00:11.011556Z",
     "iopub.status.idle": "2021-11-06T02:00:12.824297Z",
     "shell.execute_reply": "2021-11-06T02:00:12.825843Z"
    },
    "papermill": {
     "duration": 1.850571,
     "end_time": "2021-11-06T02:00:12.826316",
     "exception": false,
     "start_time": "2021-11-06T02:00:10.975745",
     "status": "completed"
    },
    "tags": []
   },
   "outputs": [
    {
     "data": {
      "text/plain": [
       "<AxesSubplot:ylabel='PRODUCT'>"
      ]
     },
     "execution_count": 7,
     "metadata": {},
     "output_type": "execute_result"
    },
    {
     "data": {
      "image/png": "[encoded data removed]",
      "text/plain": [
       "<Figure size 432x288 with 1 Axes>"
      ]
     },
     "metadata": {
      "needs_background": "light"
     },
     "output_type": "display_data"
    }
   ],
   "source": [
    "df_pivot_diff.sort_values(\"stamp_2\", ascending = False)[\"stamp_2\"].head(10).plot.barh()"
   ]
  },
  {
   "cell_type": "code",
   "execution_count": null,
   "id": "extra-executive",
   "metadata": {
    "papermill": {
     "duration": 0.023395,
     "end_time": "2021-11-06T02:00:12.874928",
     "exception": false,
     "start_time": "2021-11-06T02:00:12.851533",
     "status": "completed"
    },
    "tags": []
   },
   "outputs": [],
   "source": []
  }
 ],
 "metadata": {
  "kernelspec": {
   "display_name": "Python 3",
   "language": "python",
   "name": "python3"
  },
  "language_info": {
   "codemirror_mode": {
    "name": "ipython",
    "version": 3
   },
   "file_extension": ".py",
   "mimetype": "text/x-python",
   "name": "python",
   "nbconvert_exporter": "python",
   "pygments_lexer": "ipython3",
   "version": "3.9.5"
  },
  "papermill": {
   "default_parameters": {},
   "duration": 8.941869,
   "end_time": "2021-11-06T02:00:13.777495",
   "environment_variables": {},
   "exception": null,
   "input_path": "eBay_Overview.ipynb",
   "output_path": "eBay_Overview.ipynb",
   "parameters": {},
   "start_time": "2021-11-06T02:00:04.835626",
   "version": "2.3.3"
  }
 },
 "nbformat": 4,
 "nbformat_minor": 5
}