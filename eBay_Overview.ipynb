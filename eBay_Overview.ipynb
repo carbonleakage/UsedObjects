{
 "cells": [
  {
   "cell_type": "code",
   "execution_count": 1,
   "id": "reverse-picking",
   "metadata": {
    "execution": {
     "iopub.execute_input": "2021-11-11T00:00:07.750566Z",
     "iopub.status.busy": "2021-11-11T00:00:07.748264Z",
     "iopub.status.idle": "2021-11-11T00:00:08.710534Z",
     "shell.execute_reply": "2021-11-11T00:00:08.711965Z"
    },
    "papermill": {
     "duration": 1.012309,
     "end_time": "2021-11-11T00:00:08.712744",
     "exception": false,
     "start_time": "2021-11-11T00:00:07.700435",
     "status": "completed"
    },
    "tags": []
   },
   "outputs": [],
   "source": [
    "import pandas as pd\n",
    "import sqlite3"
   ]
  },
  {
   "cell_type": "code",
   "execution_count": 2,
   "id": "innovative-syndrome",
   "metadata": {
    "execution": {
     "iopub.execute_input": "2021-11-11T00:00:08.780810Z",
     "iopub.status.busy": "2021-11-11T00:00:08.778584Z",
     "iopub.status.idle": "2021-11-11T00:00:09.582474Z",
     "shell.execute_reply": "2021-11-11T00:00:09.583807Z"
    },
    "papermill": {
     "duration": 0.837636,
     "end_time": "2021-11-11T00:00:09.584268",
     "exception": false,
     "start_time": "2021-11-11T00:00:08.746632",
     "status": "completed"
    },
    "tags": []
   },
   "outputs": [],
   "source": [
    "timestamps = pd.read_sql(\"select distinct record_time from EBAY_TOP_BERLIN order by record_time desc limit 2\", sqlite3.connect(\"UsedObjects.db\"))"
   ]
  },
  {
   "cell_type": "code",
   "execution_count": 3,
   "id": "periodic-identification",
   "metadata": {
    "execution": {
     "iopub.execute_input": "2021-11-11T00:00:09.656142Z",
     "iopub.status.busy": "2021-11-11T00:00:09.653885Z",
     "iopub.status.idle": "2021-11-11T00:00:09.676051Z",
     "shell.execute_reply": "2021-11-11T00:00:09.677676Z"
    },
    "papermill": {
     "duration": 0.073624,
     "end_time": "2021-11-11T00:00:09.678166",
     "exception": false,
     "start_time": "2021-11-11T00:00:09.604542",
     "status": "completed"
    },
    "tags": []
   },
   "outputs": [
    {
     "data": {
      "text/html": [
       "<div>\n",
       "<style scoped>\n",
       "    .dataframe tbody tr th:only-of-type {\n",
       "        vertical-align: middle;\n",
       "    }\n",
       "\n",
       "    .dataframe tbody tr th {\n",
       "        vertical-align: top;\n",
       "    }\n",
       "\n",
       "    .dataframe thead th {\n",
       "        text-align: right;\n",
       "    }\n",
       "</style>\n",
       "<table border=\"1\" class=\"dataframe\">\n",
       "  <thead>\n",
       "    <tr style=\"text-align: right;\">\n",
       "      <th></th>\n",
       "      <th>RECORD_TIME</th>\n",
       "    </tr>\n",
       "  </thead>\n",
       "  <tbody>\n",
       "    <tr>\n",
       "      <th>0</th>\n",
       "      <td>2021-11-11 01:00</td>\n",
       "    </tr>\n",
       "    <tr>\n",
       "      <th>1</th>\n",
       "      <td>2021-11-11 00:30</td>\n",
       "    </tr>\n",
       "  </tbody>\n",
       "</table>\n",
       "</div>"
      ],
      "text/plain": [
       "        RECORD_TIME\n",
       "0  2021-11-11 01:00\n",
       "1  2021-11-11 00:30"
      ]
     },
     "execution_count": 3,
     "metadata": {},
     "output_type": "execute_result"
    }
   ],
   "source": [
    "timestamps"
   ]
  },
  {
   "cell_type": "code",
   "execution_count": 4,
   "id": "alternate-victory",
   "metadata": {
    "execution": {
     "iopub.execute_input": "2021-11-11T00:00:09.736839Z",
     "iopub.status.busy": "2021-11-11T00:00:09.734431Z",
     "iopub.status.idle": "2021-11-11T00:00:10.878934Z",
     "shell.execute_reply": "2021-11-11T00:00:10.880501Z"
    },
    "papermill": {
     "duration": 1.17969,
     "end_time": "2021-11-11T00:00:10.881046",
     "exception": false,
     "start_time": "2021-11-11T00:00:09.701356",
     "status": "completed"
    },
    "tags": []
   },
   "outputs": [],
   "source": [
    "df = pd.read_sql(\"select * from EBAY_TOP_BERLIN where record_time in (select distinct record_time from EBAY_TOP_BERLIN order by record_time desc limit 2)\", sqlite3.connect(\"UsedObjects.db\"))"
   ]
  },
  {
   "cell_type": "code",
   "execution_count": 5,
   "id": "popular-active",
   "metadata": {
    "execution": {
     "iopub.execute_input": "2021-11-11T00:00:10.961442Z",
     "iopub.status.busy": "2021-11-11T00:00:10.953524Z",
     "iopub.status.idle": "2021-11-11T00:00:10.978888Z",
     "shell.execute_reply": "2021-11-11T00:00:10.980482Z"
    },
    "papermill": {
     "duration": 0.076924,
     "end_time": "2021-11-11T00:00:10.981020",
     "exception": false,
     "start_time": "2021-11-11T00:00:10.904096",
     "status": "completed"
    },
    "tags": []
   },
   "outputs": [],
   "source": [
    "df_pivot = df.pivot_table(index=\"PRODUCT\", columns = \"RECORD_TIME\", values = \"LISTING_COUNT\")"
   ]
  },
  {
   "cell_type": "code",
   "execution_count": 6,
   "id": "union-huntington",
   "metadata": {
    "execution": {
     "iopub.execute_input": "2021-11-11T00:00:11.039784Z",
     "iopub.status.busy": "2021-11-11T00:00:11.037318Z",
     "iopub.status.idle": "2021-11-11T00:00:11.043144Z",
     "shell.execute_reply": "2021-11-11T00:00:11.044894Z"
    },
    "papermill": {
     "duration": 0.044126,
     "end_time": "2021-11-11T00:00:11.045399",
     "exception": false,
     "start_time": "2021-11-11T00:00:11.001273",
     "status": "completed"
    },
    "tags": []
   },
   "outputs": [],
   "source": [
    "df_pivot.columns = [\"stamp_1\", \"stamp_2\"]\n",
    "df_pivot_diff = df_pivot.diff(axis=1)"
   ]
  },
  {
   "cell_type": "code",
   "execution_count": 7,
   "id": "fifth-motion",
   "metadata": {
    "execution": {
     "iopub.execute_input": "2021-11-11T00:00:11.121358Z",
     "iopub.status.busy": "2021-11-11T00:00:11.117318Z",
     "iopub.status.idle": "2021-11-11T00:00:12.920749Z",
     "shell.execute_reply": "2021-11-11T00:00:12.922931Z"
    },
    "papermill": {
     "duration": 1.855416,
     "end_time": "2021-11-11T00:00:12.923586",
     "exception": false,
     "start_time": "2021-11-11T00:00:11.068170",
     "status": "completed"
    },
    "tags": []
   },
   "outputs": [
    {
     "data": {
      "text/plain": [
       "<AxesSubplot:ylabel='PRODUCT'>"
      ]
     },
     "execution_count": 7,
     "metadata": {},
     "output_type": "execute_result"
    },
    {
     "data": {
      "image/png": "[encoded data removed]",
      "text/plain": [
       "<Figure size 432x288 with 1 Axes>"
      ]
     },
     "metadata": {
      "needs_background": "light"
     },
     "output_type": "display_data"
    }
   ],
   "source": [
    "df_pivot_diff.sort_values(\"stamp_2\", ascending = False)[\"stamp_2\"].head(10).plot.barh()"
   ]
  },
  {
   "cell_type": "code",
   "execution_count": null,
   "id": "extra-executive",
   "metadata": {
    "papermill": {
     "duration": 0.038515,
     "end_time": "2021-11-11T00:00:13.002773",
     "exception": false,
     "start_time": "2021-11-11T00:00:12.964258",
     "status": "completed"
    },
    "tags": []
   },
   "outputs": [],
   "source": []
  }
 ],
 "metadata": {
  "kernelspec": {
   "display_name": "Python 3",
   "language": "python",
   "name": "python3"
  },
  "language_info": {
   "codemirror_mode": {
    "name": "ipython",
    "version": 3
   },
   "file_extension": ".py",
   "mimetype": "text/x-python",
   "name": "python",
   "nbconvert_exporter": "python",
   "pygments_lexer": "ipython3",
   "version": "3.9.5"
  },
  "papermill": {
   "default_parameters": {},
   "duration": 8.9082,
   "end_time": "2021-11-11T00:00:13.876857",
   "environment_variables": {},
   "exception": null,
   "input_path": "eBay_Overview.ipynb",
   "output_path": "eBay_Overview.ipynb",
   "parameters": {},
   "start_time": "2021-11-11T00:00:04.968657",
   "version": "2.3.3"
  }
 },
 "nbformat": 4,
 "nbformat_minor": 5
}