{
 "cells": [
  {
   "cell_type": "code",
   "execution_count": 1,
   "id": "reverse-picking",
   "metadata": {
    "execution": {
     "iopub.execute_input": "2021-10-16T00:30:07.347047Z",
     "iopub.status.busy": "2021-10-16T00:30:07.345070Z",
     "iopub.status.idle": "2021-10-16T00:30:08.155184Z",
     "shell.execute_reply": "2021-10-16T00:30:08.153603Z"
    },
    "papermill": {
     "duration": 0.860598,
     "end_time": "2021-10-16T00:30:08.155571",
     "exception": false,
     "start_time": "2021-10-16T00:30:07.294973",
     "status": "completed"
    },
    "tags": []
   },
   "outputs": [],
   "source": [
    "import pandas as pd\n",
    "import sqlite3"
   ]
  },
  {
   "cell_type": "code",
   "execution_count": 2,
   "id": "innovative-syndrome",
   "metadata": {
    "execution": {
     "iopub.execute_input": "2021-10-16T00:30:08.207261Z",
     "iopub.status.busy": "2021-10-16T00:30:08.205096Z",
     "iopub.status.idle": "2021-10-16T00:30:08.754303Z",
     "shell.execute_reply": "2021-10-16T00:30:08.755505Z"
    },
    "papermill": {
     "duration": 0.57888,
     "end_time": "2021-10-16T00:30:08.755896",
     "exception": false,
     "start_time": "2021-10-16T00:30:08.177016",
     "status": "completed"
    },
    "tags": []
   },
   "outputs": [],
   "source": [
    "timestamps = pd.read_sql(\"select distinct record_time from EBAY_TOP_BERLIN order by record_time desc limit 2\", sqlite3.connect(\"UsedObjects.db\"))"
   ]
  },
  {
   "cell_type": "code",
   "execution_count": 3,
   "id": "periodic-identification",
   "metadata": {
    "execution": {
     "iopub.execute_input": "2021-10-16T00:30:08.833498Z",
     "iopub.status.busy": "2021-10-16T00:30:08.831390Z",
     "iopub.status.idle": "2021-10-16T00:30:08.851525Z",
     "shell.execute_reply": "2021-10-16T00:30:08.852961Z"
    },
    "papermill": {
     "duration": 0.069665,
     "end_time": "2021-10-16T00:30:08.853399",
     "exception": false,
     "start_time": "2021-10-16T00:30:08.783734",
     "status": "completed"
    },
    "tags": []
   },
   "outputs": [
    {
     "data": {
      "text/html": [
       "<div>\n",
       "<style scoped>\n",
       "    .dataframe tbody tr th:only-of-type {\n",
       "        vertical-align: middle;\n",
       "    }\n",
       "\n",
       "    .dataframe tbody tr th {\n",
       "        vertical-align: top;\n",
       "    }\n",
       "\n",
       "    .dataframe thead th {\n",
       "        text-align: right;\n",
       "    }\n",
       "</style>\n",
       "<table border=\"1\" class=\"dataframe\">\n",
       "  <thead>\n",
       "    <tr style=\"text-align: right;\">\n",
       "      <th></th>\n",
       "      <th>RECORD_TIME</th>\n",
       "    </tr>\n",
       "  </thead>\n",
       "  <tbody>\n",
       "    <tr>\n",
       "      <th>0</th>\n",
       "      <td>2021-10-16 02:30</td>\n",
       "    </tr>\n",
       "    <tr>\n",
       "      <th>1</th>\n",
       "      <td>2021-10-16 02:00</td>\n",
       "    </tr>\n",
       "  </tbody>\n",
       "</table>\n",
       "</div>"
      ],
      "text/plain": [
       "        RECORD_TIME\n",
       "0  2021-10-16 02:30\n",
       "1  2021-10-16 02:00"
      ]
     },
     "execution_count": 3,
     "metadata": {},
     "output_type": "execute_result"
    }
   ],
   "source": [
    "timestamps"
   ]
  },
  {
   "cell_type": "code",
   "execution_count": 4,
   "id": "alternate-victory",
   "metadata": {
    "execution": {
     "iopub.execute_input": "2021-10-16T00:30:08.904568Z",
     "iopub.status.busy": "2021-10-16T00:30:08.902742Z",
     "iopub.status.idle": "2021-10-16T00:30:09.702063Z",
     "shell.execute_reply": "2021-10-16T00:30:09.703214Z"
    },
    "papermill": {
     "duration": 0.829114,
     "end_time": "2021-10-16T00:30:09.703680",
     "exception": false,
     "start_time": "2021-10-16T00:30:08.874566",
     "status": "completed"
    },
    "tags": []
   },
   "outputs": [],
   "source": [
    "df = pd.read_sql(\"select * from EBAY_TOP_BERLIN where record_time in (select distinct record_time from EBAY_TOP_BERLIN order by record_time desc limit 2)\", sqlite3.connect(\"UsedObjects.db\"))"
   ]
  },
  {
   "cell_type": "code",
   "execution_count": 5,
   "id": "popular-active",
   "metadata": {
    "execution": {
     "iopub.execute_input": "2021-10-16T00:30:09.774655Z",
     "iopub.status.busy": "2021-10-16T00:30:09.762846Z",
     "iopub.status.idle": "2021-10-16T00:30:09.790779Z",
     "shell.execute_reply": "2021-10-16T00:30:09.792062Z"
    },
    "papermill": {
     "duration": 0.066563,
     "end_time": "2021-10-16T00:30:09.792469",
     "exception": false,
     "start_time": "2021-10-16T00:30:09.725906",
     "status": "completed"
    },
    "tags": []
   },
   "outputs": [],
   "source": [
    "df_pivot = df.pivot_table(index=\"PRODUCT\", columns = \"RECORD_TIME\", values = \"LISTING_COUNT\")"
   ]
  },
  {
   "cell_type": "code",
   "execution_count": 6,
   "id": "union-huntington",
   "metadata": {
    "execution": {
     "iopub.execute_input": "2021-10-16T00:30:09.848171Z",
     "iopub.status.busy": "2021-10-16T00:30:09.846060Z",
     "iopub.status.idle": "2021-10-16T00:30:09.851375Z",
     "shell.execute_reply": "2021-10-16T00:30:09.852568Z"
    },
    "papermill": {
     "duration": 0.040971,
     "end_time": "2021-10-16T00:30:09.853092",
     "exception": false,
     "start_time": "2021-10-16T00:30:09.812121",
     "status": "completed"
    },
    "tags": []
   },
   "outputs": [],
   "source": [
    "df_pivot.columns = [\"stamp_1\", \"stamp_2\"]\n",
    "df_pivot_diff = df_pivot.diff(axis=1)"
   ]
  },
  {
   "cell_type": "code",
   "execution_count": 7,
   "id": "fifth-motion",
   "metadata": {
    "execution": {
     "iopub.execute_input": "2021-10-16T00:30:09.907103Z",
     "iopub.status.busy": "2021-10-16T00:30:09.904626Z",
     "iopub.status.idle": "2021-10-16T00:30:11.422319Z",
     "shell.execute_reply": "2021-10-16T00:30:11.423676Z"
    },
    "papermill": {
     "duration": 1.550473,
     "end_time": "2021-10-16T00:30:11.424106",
     "exception": false,
     "start_time": "2021-10-16T00:30:09.873633",
     "status": "completed"
    },
    "tags": []
   },
   "outputs": [
    {
     "data": {
      "text/plain": [
       "<AxesSubplot:ylabel='PRODUCT'>"
      ]
     },
     "execution_count": 7,
     "metadata": {},
     "output_type": "execute_result"
    },
    {
     "data": {
      "image/png": "[encoded data removed]",
      "text/plain": [
       "<Figure size 432x288 with 1 Axes>"
      ]
     },
     "metadata": {
      "needs_background": "light"
     },
     "output_type": "display_data"
    }
   ],
   "source": [
    "df_pivot_diff.sort_values(\"stamp_2\", ascending = False)[\"stamp_2\"].head(10).plot.barh()"
   ]
  },
  {
   "cell_type": "code",
   "execution_count": null,
   "id": "extra-executive",
   "metadata": {
    "papermill": {
     "duration": 0.022144,
     "end_time": "2021-10-16T00:30:11.470589",
     "exception": false,
     "start_time": "2021-10-16T00:30:11.448445",
     "status": "completed"
    },
    "tags": []
   },
   "outputs": [],
   "source": []
  }
 ],
 "metadata": {
  "kernelspec": {
   "display_name": "Python 3",
   "language": "python",
   "name": "python3"
  },
  "language_info": {
   "codemirror_mode": {
    "name": "ipython",
    "version": 3
   },
   "file_extension": ".py",
   "mimetype": "text/x-python",
   "name": "python",
   "nbconvert_exporter": "python",
   "pygments_lexer": "ipython3",
   "version": "3.9.5"
  },
  "papermill": {
   "default_parameters": {},
   "duration": 7.833278,
   "end_time": "2021-10-16T00:30:12.718694",
   "environment_variables": {},
   "exception": null,
   "input_path": "eBay_Overview.ipynb",
   "output_path": "eBay_Overview.ipynb",
   "parameters": {},
   "start_time": "2021-10-16T00:30:04.885416",
   "version": "2.3.3"
  }
 },
 "nbformat": 4,
 "nbformat_minor": 5
}