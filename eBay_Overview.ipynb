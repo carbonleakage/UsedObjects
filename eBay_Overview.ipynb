{
 "cells": [
  {
   "cell_type": "code",
   "execution_count": 1,
   "id": "reverse-picking",
   "metadata": {
    "execution": {
     "iopub.execute_input": "2021-12-16T08:00:08.034089Z",
     "iopub.status.busy": "2021-12-16T08:00:08.031778Z",
     "iopub.status.idle": "2021-12-16T08:00:08.986677Z",
     "shell.execute_reply": "2021-12-16T08:00:08.988105Z"
    },
    "papermill": {
     "duration": 1.005581,
     "end_time": "2021-12-16T08:00:08.988912",
     "exception": false,
     "start_time": "2021-12-16T08:00:07.983331",
     "status": "completed"
    },
    "tags": []
   },
   "outputs": [],
   "source": [
    "import pandas as pd\n",
    "import sqlite3"
   ]
  },
  {
   "cell_type": "code",
   "execution_count": 2,
   "id": "innovative-syndrome",
   "metadata": {
    "execution": {
     "iopub.execute_input": "2021-12-16T08:00:09.066382Z",
     "iopub.status.busy": "2021-12-16T08:00:09.062649Z",
     "iopub.status.idle": "2021-12-16T08:00:10.165506Z",
     "shell.execute_reply": "2021-12-16T08:00:10.166846Z"
    },
    "papermill": {
     "duration": 1.147634,
     "end_time": "2021-12-16T08:00:10.167330",
     "exception": false,
     "start_time": "2021-12-16T08:00:09.019696",
     "status": "completed"
    },
    "tags": []
   },
   "outputs": [],
   "source": [
    "timestamps = pd.read_sql(\"select distinct record_time from EBAY_TOP_BERLIN order by record_time desc limit 2\", sqlite3.connect(\"UsedObjects.db\"))"
   ]
  },
  {
   "cell_type": "code",
   "execution_count": 3,
   "id": "periodic-identification",
   "metadata": {
    "execution": {
     "iopub.execute_input": "2021-12-16T08:00:10.237257Z",
     "iopub.status.busy": "2021-12-16T08:00:10.234888Z",
     "iopub.status.idle": "2021-12-16T08:00:10.257777Z",
     "shell.execute_reply": "2021-12-16T08:00:10.259299Z"
    },
    "papermill": {
     "duration": 0.072425,
     "end_time": "2021-12-16T08:00:10.259830",
     "exception": false,
     "start_time": "2021-12-16T08:00:10.187405",
     "status": "completed"
    },
    "tags": []
   },
   "outputs": [
    {
     "data": {
      "text/html": [
       "<div>\n",
       "<style scoped>\n",
       "    .dataframe tbody tr th:only-of-type {\n",
       "        vertical-align: middle;\n",
       "    }\n",
       "\n",
       "    .dataframe tbody tr th {\n",
       "        vertical-align: top;\n",
       "    }\n",
       "\n",
       "    .dataframe thead th {\n",
       "        text-align: right;\n",
       "    }\n",
       "</style>\n",
       "<table border=\"1\" class=\"dataframe\">\n",
       "  <thead>\n",
       "    <tr style=\"text-align: right;\">\n",
       "      <th></th>\n",
       "      <th>RECORD_TIME</th>\n",
       "    </tr>\n",
       "  </thead>\n",
       "  <tbody>\n",
       "    <tr>\n",
       "      <th>0</th>\n",
       "      <td>2021-12-16 09:00</td>\n",
       "    </tr>\n",
       "    <tr>\n",
       "      <th>1</th>\n",
       "      <td>2021-12-16 08:30</td>\n",
       "    </tr>\n",
       "  </tbody>\n",
       "</table>\n",
       "</div>"
      ],
      "text/plain": [
       "        RECORD_TIME\n",
       "0  2021-12-16 09:00\n",
       "1  2021-12-16 08:30"
      ]
     },
     "execution_count": 3,
     "metadata": {},
     "output_type": "execute_result"
    }
   ],
   "source": [
    "timestamps"
   ]
  },
  {
   "cell_type": "code",
   "execution_count": 4,
   "id": "alternate-victory",
   "metadata": {
    "execution": {
     "iopub.execute_input": "2021-12-16T08:00:10.314519Z",
     "iopub.status.busy": "2021-12-16T08:00:10.312295Z",
     "iopub.status.idle": "2021-12-16T08:00:11.937341Z",
     "shell.execute_reply": "2021-12-16T08:00:11.938832Z"
    },
    "papermill": {
     "duration": 1.658655,
     "end_time": "2021-12-16T08:00:11.939311",
     "exception": false,
     "start_time": "2021-12-16T08:00:10.280656",
     "status": "completed"
    },
    "tags": []
   },
   "outputs": [],
   "source": [
    "df = pd.read_sql(\"select * from EBAY_TOP_BERLIN where record_time in (select distinct record_time from EBAY_TOP_BERLIN order by record_time desc limit 2)\", sqlite3.connect(\"UsedObjects.db\"))"
   ]
  },
  {
   "cell_type": "code",
   "execution_count": 5,
   "id": "popular-active",
   "metadata": {
    "execution": {
     "iopub.execute_input": "2021-12-16T08:00:12.002547Z",
     "iopub.status.busy": "2021-12-16T08:00:12.000224Z",
     "iopub.status.idle": "2021-12-16T08:00:12.030595Z",
     "shell.execute_reply": "2021-12-16T08:00:12.032097Z"
    },
    "papermill": {
     "duration": 0.072642,
     "end_time": "2021-12-16T08:00:12.032595",
     "exception": false,
     "start_time": "2021-12-16T08:00:11.959953",
     "status": "completed"
    },
    "tags": []
   },
   "outputs": [],
   "source": [
    "df_pivot = df.pivot_table(index=\"PRODUCT\", columns = \"RECORD_TIME\", values = \"LISTING_COUNT\")"
   ]
  },
  {
   "cell_type": "code",
   "execution_count": 6,
   "id": "union-huntington",
   "metadata": {
    "execution": {
     "iopub.execute_input": "2021-12-16T08:00:12.096034Z",
     "iopub.status.busy": "2021-12-16T08:00:12.093795Z",
     "iopub.status.idle": "2021-12-16T08:00:12.100434Z",
     "shell.execute_reply": "2021-12-16T08:00:12.101976Z"
    },
    "papermill": {
     "duration": 0.048199,
     "end_time": "2021-12-16T08:00:12.102447",
     "exception": false,
     "start_time": "2021-12-16T08:00:12.054248",
     "status": "completed"
    },
    "tags": []
   },
   "outputs": [],
   "source": [
    "df_pivot.columns = [\"stamp_1\", \"stamp_2\"]\n",
    "df_pivot_diff = df_pivot.diff(axis=1)"
   ]
  },
  {
   "cell_type": "code",
   "execution_count": 7,
   "id": "fifth-motion",
   "metadata": {
    "execution": {
     "iopub.execute_input": "2021-12-16T08:00:12.159256Z",
     "iopub.status.busy": "2021-12-16T08:00:12.156612Z",
     "iopub.status.idle": "2021-12-16T08:00:13.736450Z",
     "shell.execute_reply": "2021-12-16T08:00:13.738075Z"
    },
    "papermill": {
     "duration": 1.615552,
     "end_time": "2021-12-16T08:00:13.738569",
     "exception": false,
     "start_time": "2021-12-16T08:00:12.123017",
     "status": "completed"
    },
    "tags": []
   },
   "outputs": [
    {
     "data": {
      "text/plain": [
       "<AxesSubplot:ylabel='PRODUCT'>"
      ]
     },
     "execution_count": 7,
     "metadata": {},
     "output_type": "execute_result"
    },
    {
     "data": {
      "image/png": "[encoded data removed]",
      "text/plain": [
       "<Figure size 432x288 with 1 Axes>"
      ]
     },
     "metadata": {
      "needs_background": "light"
     },
     "output_type": "display_data"
    }
   ],
   "source": [
    "df_pivot_diff.sort_values(\"stamp_2\", ascending = False)[\"stamp_2\"].head(10).plot.barh()"
   ]
  },
  {
   "cell_type": "code",
   "execution_count": null,
   "id": "extra-executive",
   "metadata": {
    "papermill": {
     "duration": 0.022345,
     "end_time": "2021-12-16T08:00:13.785594",
     "exception": false,
     "start_time": "2021-12-16T08:00:13.763249",
     "status": "completed"
    },
    "tags": []
   },
   "outputs": [],
   "source": []
  }
 ],
 "metadata": {
  "kernelspec": {
   "display_name": "Python 3",
   "language": "python",
   "name": "python3"
  },
  "language_info": {
   "codemirror_mode": {
    "name": "ipython",
    "version": 3
   },
   "file_extension": ".py",
   "mimetype": "text/x-python",
   "name": "python",
   "nbconvert_exporter": "python",
   "pygments_lexer": "ipython3",
   "version": "3.9.5"
  },
  "papermill": {
   "default_parameters": {},
   "duration": 9.936826,
   "end_time": "2021-12-16T08:00:15.191237",
   "environment_variables": {},
   "exception": null,
   "input_path": "eBay_Overview.ipynb",
   "output_path": "eBay_Overview.ipynb",
   "parameters": {},
   "start_time": "2021-12-16T08:00:05.254411",
   "version": "2.3.3"
  }
 },
 "nbformat": 4,
 "nbformat_minor": 5
}