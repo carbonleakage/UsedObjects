{
 "cells": [
  {
   "cell_type": "code",
   "execution_count": 1,
   "id": "reverse-picking",
   "metadata": {
    "execution": {
     "iopub.execute_input": "2021-09-17T15:00:07.143352Z",
     "iopub.status.busy": "2021-09-17T15:00:07.141313Z",
     "iopub.status.idle": "2021-09-17T15:00:07.940857Z",
     "shell.execute_reply": "2021-09-17T15:00:07.942109Z"
    },
    "papermill": {
     "duration": 0.850915,
     "end_time": "2021-09-17T15:00:07.942719",
     "exception": false,
     "start_time": "2021-09-17T15:00:07.091804",
     "status": "completed"
    },
    "tags": []
   },
   "outputs": [],
   "source": [
    "import pandas as pd\n",
    "import sqlite3"
   ]
  },
  {
   "cell_type": "code",
   "execution_count": 2,
   "id": "innovative-syndrome",
   "metadata": {
    "execution": {
     "iopub.execute_input": "2021-09-17T15:00:07.995476Z",
     "iopub.status.busy": "2021-09-17T15:00:07.993116Z",
     "iopub.status.idle": "2021-09-17T15:00:08.310141Z",
     "shell.execute_reply": "2021-09-17T15:00:08.311425Z"
    },
    "papermill": {
     "duration": 0.346977,
     "end_time": "2021-09-17T15:00:08.311830",
     "exception": false,
     "start_time": "2021-09-17T15:00:07.964853",
     "status": "completed"
    },
    "tags": []
   },
   "outputs": [],
   "source": [
    "timestamps = pd.read_sql(\"select distinct record_time from EBAY_TOP_BERLIN order by record_time desc limit 2\", sqlite3.connect(\"UsedObjects.db\"))"
   ]
  },
  {
   "cell_type": "code",
   "execution_count": 3,
   "id": "periodic-identification",
   "metadata": {
    "execution": {
     "iopub.execute_input": "2021-09-17T15:00:08.376258Z",
     "iopub.status.busy": "2021-09-17T15:00:08.374083Z",
     "iopub.status.idle": "2021-09-17T15:00:08.393797Z",
     "shell.execute_reply": "2021-09-17T15:00:08.395092Z"
    },
    "papermill": {
     "duration": 0.063799,
     "end_time": "2021-09-17T15:00:08.395498",
     "exception": false,
     "start_time": "2021-09-17T15:00:08.331699",
     "status": "completed"
    },
    "tags": []
   },
   "outputs": [
    {
     "data": {
      "text/html": [
       "<div>\n",
       "<style scoped>\n",
       "    .dataframe tbody tr th:only-of-type {\n",
       "        vertical-align: middle;\n",
       "    }\n",
       "\n",
       "    .dataframe tbody tr th {\n",
       "        vertical-align: top;\n",
       "    }\n",
       "\n",
       "    .dataframe thead th {\n",
       "        text-align: right;\n",
       "    }\n",
       "</style>\n",
       "<table border=\"1\" class=\"dataframe\">\n",
       "  <thead>\n",
       "    <tr style=\"text-align: right;\">\n",
       "      <th></th>\n",
       "      <th>RECORD_TIME</th>\n",
       "    </tr>\n",
       "  </thead>\n",
       "  <tbody>\n",
       "    <tr>\n",
       "      <th>0</th>\n",
       "      <td>2021-09-17 17:00</td>\n",
       "    </tr>\n",
       "    <tr>\n",
       "      <th>1</th>\n",
       "      <td>2021-09-17 16:30</td>\n",
       "    </tr>\n",
       "  </tbody>\n",
       "</table>\n",
       "</div>"
      ],
      "text/plain": [
       "        RECORD_TIME\n",
       "0  2021-09-17 17:00\n",
       "1  2021-09-17 16:30"
      ]
     },
     "execution_count": 3,
     "metadata": {},
     "output_type": "execute_result"
    }
   ],
   "source": [
    "timestamps"
   ]
  },
  {
   "cell_type": "code",
   "execution_count": 4,
   "id": "alternate-victory",
   "metadata": {
    "execution": {
     "iopub.execute_input": "2021-09-17T15:00:08.446047Z",
     "iopub.status.busy": "2021-09-17T15:00:08.444227Z",
     "iopub.status.idle": "2021-09-17T15:00:08.908723Z",
     "shell.execute_reply": "2021-09-17T15:00:08.907382Z"
    },
    "papermill": {
     "duration": 0.492778,
     "end_time": "2021-09-17T15:00:08.909066",
     "exception": false,
     "start_time": "2021-09-17T15:00:08.416288",
     "status": "completed"
    },
    "tags": []
   },
   "outputs": [],
   "source": [
    "df = pd.read_sql(\"select * from EBAY_TOP_BERLIN where record_time in (select distinct record_time from EBAY_TOP_BERLIN order by record_time desc limit 2)\", sqlite3.connect(\"UsedObjects.db\"))"
   ]
  },
  {
   "cell_type": "code",
   "execution_count": 5,
   "id": "popular-active",
   "metadata": {
    "execution": {
     "iopub.execute_input": "2021-09-17T15:00:08.980453Z",
     "iopub.status.busy": "2021-09-17T15:00:08.967968Z",
     "iopub.status.idle": "2021-09-17T15:00:08.995908Z",
     "shell.execute_reply": "2021-09-17T15:00:08.997139Z"
    },
    "papermill": {
     "duration": 0.067532,
     "end_time": "2021-09-17T15:00:08.997537",
     "exception": false,
     "start_time": "2021-09-17T15:00:08.930005",
     "status": "completed"
    },
    "tags": []
   },
   "outputs": [],
   "source": [
    "df_pivot = df.pivot_table(index=\"PRODUCT\", columns = \"RECORD_TIME\", values = \"LISTING_COUNT\")"
   ]
  },
  {
   "cell_type": "code",
   "execution_count": 6,
   "id": "union-huntington",
   "metadata": {
    "execution": {
     "iopub.execute_input": "2021-09-17T15:00:09.053154Z",
     "iopub.status.busy": "2021-09-17T15:00:09.051099Z",
     "iopub.status.idle": "2021-09-17T15:00:09.056264Z",
     "shell.execute_reply": "2021-09-17T15:00:09.057447Z"
    },
    "papermill": {
     "duration": 0.039865,
     "end_time": "2021-09-17T15:00:09.057877",
     "exception": false,
     "start_time": "2021-09-17T15:00:09.018012",
     "status": "completed"
    },
    "tags": []
   },
   "outputs": [],
   "source": [
    "df_pivot.columns = [\"stamp_1\", \"stamp_2\"]\n",
    "df_pivot_diff = df_pivot.diff(axis=1)"
   ]
  },
  {
   "cell_type": "code",
   "execution_count": 7,
   "id": "fifth-motion",
   "metadata": {
    "execution": {
     "iopub.execute_input": "2021-09-17T15:00:09.111556Z",
     "iopub.status.busy": "2021-09-17T15:00:09.109015Z",
     "iopub.status.idle": "2021-09-17T15:00:10.591871Z",
     "shell.execute_reply": "2021-09-17T15:00:10.593397Z"
    },
    "papermill": {
     "duration": 1.515853,
     "end_time": "2021-09-17T15:00:10.593866",
     "exception": false,
     "start_time": "2021-09-17T15:00:09.078013",
     "status": "completed"
    },
    "tags": []
   },
   "outputs": [
    {
     "data": {
      "text/plain": [
       "<AxesSubplot:ylabel='PRODUCT'>"
      ]
     },
     "execution_count": 7,
     "metadata": {},
     "output_type": "execute_result"
    },
    {
     "data": {
      "image/png": "[encoded data removed]",
      "text/plain": [
       "<Figure size 432x288 with 1 Axes>"
      ]
     },
     "metadata": {
      "needs_background": "light"
     },
     "output_type": "display_data"
    }
   ],
   "source": [
    "df_pivot_diff.sort_values(\"stamp_2\", ascending = False)[\"stamp_2\"].head(10).plot.barh()"
   ]
  },
  {
   "cell_type": "code",
   "execution_count": null,
   "id": "extra-executive",
   "metadata": {
    "papermill": {
     "duration": 0.022052,
     "end_time": "2021-09-17T15:00:10.639628",
     "exception": false,
     "start_time": "2021-09-17T15:00:10.617576",
     "status": "completed"
    },
    "tags": []
   },
   "outputs": [],
   "source": []
  }
 ],
 "metadata": {
  "kernelspec": {
   "display_name": "Python 3",
   "language": "python",
   "name": "python3"
  },
  "language_info": {
   "codemirror_mode": {
    "name": "ipython",
    "version": 3
   },
   "file_extension": ".py",
   "mimetype": "text/x-python",
   "name": "python",
   "nbconvert_exporter": "python",
   "pygments_lexer": "ipython3",
   "version": "3.9.5"
  },
  "papermill": {
   "default_parameters": {},
   "duration": 6.578527,
   "end_time": "2021-09-17T15:00:11.283211",
   "environment_variables": {},
   "exception": null,
   "input_path": "eBay_Overview.ipynb",
   "output_path": "eBay_Overview.ipynb",
   "parameters": {},
   "start_time": "2021-09-17T15:00:04.704684",
   "version": "2.3.3"
  }
 },
 "nbformat": 4,
 "nbformat_minor": 5
}