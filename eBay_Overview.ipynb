{
 "cells": [
  {
   "cell_type": "code",
   "execution_count": 1,
   "id": "reverse-picking",
   "metadata": {
    "execution": {
     "iopub.execute_input": "2021-12-12T09:30:07.891769Z",
     "iopub.status.busy": "2021-12-12T09:30:07.889526Z",
     "iopub.status.idle": "2021-12-12T09:30:08.843781Z",
     "shell.execute_reply": "2021-12-12T09:30:08.845261Z"
    },
    "papermill": {
     "duration": 1.002454,
     "end_time": "2021-12-12T09:30:08.845986",
     "exception": false,
     "start_time": "2021-12-12T09:30:07.843532",
     "status": "completed"
    },
    "tags": []
   },
   "outputs": [],
   "source": [
    "import pandas as pd\n",
    "import sqlite3"
   ]
  },
  {
   "cell_type": "code",
   "execution_count": 2,
   "id": "innovative-syndrome",
   "metadata": {
    "execution": {
     "iopub.execute_input": "2021-12-12T09:30:08.909302Z",
     "iopub.status.busy": "2021-12-12T09:30:08.906865Z",
     "iopub.status.idle": "2021-12-12T09:30:09.973221Z",
     "shell.execute_reply": "2021-12-12T09:30:09.974468Z"
    },
    "papermill": {
     "duration": 1.100896,
     "end_time": "2021-12-12T09:30:09.974917",
     "exception": false,
     "start_time": "2021-12-12T09:30:08.874021",
     "status": "completed"
    },
    "tags": []
   },
   "outputs": [],
   "source": [
    "timestamps = pd.read_sql(\"select distinct record_time from EBAY_TOP_BERLIN order by record_time desc limit 2\", sqlite3.connect(\"UsedObjects.db\"))"
   ]
  },
  {
   "cell_type": "code",
   "execution_count": 3,
   "id": "periodic-identification",
   "metadata": {
    "execution": {
     "iopub.execute_input": "2021-12-12T09:30:10.047793Z",
     "iopub.status.busy": "2021-12-12T09:30:10.041987Z",
     "iopub.status.idle": "2021-12-12T09:30:10.063062Z",
     "shell.execute_reply": "2021-12-12T09:30:10.064314Z"
    },
    "papermill": {
     "duration": 0.069995,
     "end_time": "2021-12-12T09:30:10.064830",
     "exception": false,
     "start_time": "2021-12-12T09:30:09.994835",
     "status": "completed"
    },
    "tags": []
   },
   "outputs": [
    {
     "data": {
      "text/html": [
       "<div>\n",
       "<style scoped>\n",
       "    .dataframe tbody tr th:only-of-type {\n",
       "        vertical-align: middle;\n",
       "    }\n",
       "\n",
       "    .dataframe tbody tr th {\n",
       "        vertical-align: top;\n",
       "    }\n",
       "\n",
       "    .dataframe thead th {\n",
       "        text-align: right;\n",
       "    }\n",
       "</style>\n",
       "<table border=\"1\" class=\"dataframe\">\n",
       "  <thead>\n",
       "    <tr style=\"text-align: right;\">\n",
       "      <th></th>\n",
       "      <th>RECORD_TIME</th>\n",
       "    </tr>\n",
       "  </thead>\n",
       "  <tbody>\n",
       "    <tr>\n",
       "      <th>0</th>\n",
       "      <td>2021-12-12 10:30</td>\n",
       "    </tr>\n",
       "    <tr>\n",
       "      <th>1</th>\n",
       "      <td>2021-12-12 10:00</td>\n",
       "    </tr>\n",
       "  </tbody>\n",
       "</table>\n",
       "</div>"
      ],
      "text/plain": [
       "        RECORD_TIME\n",
       "0  2021-12-12 10:30\n",
       "1  2021-12-12 10:00"
      ]
     },
     "execution_count": 3,
     "metadata": {},
     "output_type": "execute_result"
    }
   ],
   "source": [
    "timestamps"
   ]
  },
  {
   "cell_type": "code",
   "execution_count": 4,
   "id": "alternate-victory",
   "metadata": {
    "execution": {
     "iopub.execute_input": "2021-12-12T09:30:10.119904Z",
     "iopub.status.busy": "2021-12-12T09:30:10.117834Z",
     "iopub.status.idle": "2021-12-12T09:30:11.678347Z",
     "shell.execute_reply": "2021-12-12T09:30:11.679851Z"
    },
    "papermill": {
     "duration": 1.593724,
     "end_time": "2021-12-12T09:30:11.680375",
     "exception": false,
     "start_time": "2021-12-12T09:30:10.086651",
     "status": "completed"
    },
    "tags": []
   },
   "outputs": [],
   "source": [
    "df = pd.read_sql(\"select * from EBAY_TOP_BERLIN where record_time in (select distinct record_time from EBAY_TOP_BERLIN order by record_time desc limit 2)\", sqlite3.connect(\"UsedObjects.db\"))"
   ]
  },
  {
   "cell_type": "code",
   "execution_count": 5,
   "id": "popular-active",
   "metadata": {
    "execution": {
     "iopub.execute_input": "2021-12-12T09:30:11.760115Z",
     "iopub.status.busy": "2021-12-12T09:30:11.756990Z",
     "iopub.status.idle": "2021-12-12T09:30:11.777105Z",
     "shell.execute_reply": "2021-12-12T09:30:11.778743Z"
    },
    "papermill": {
     "duration": 0.07523,
     "end_time": "2021-12-12T09:30:11.779242",
     "exception": false,
     "start_time": "2021-12-12T09:30:11.704012",
     "status": "completed"
    },
    "tags": []
   },
   "outputs": [],
   "source": [
    "df_pivot = df.pivot_table(index=\"PRODUCT\", columns = \"RECORD_TIME\", values = \"LISTING_COUNT\")"
   ]
  },
  {
   "cell_type": "code",
   "execution_count": 6,
   "id": "union-huntington",
   "metadata": {
    "execution": {
     "iopub.execute_input": "2021-12-12T09:30:11.842613Z",
     "iopub.status.busy": "2021-12-12T09:30:11.840184Z",
     "iopub.status.idle": "2021-12-12T09:30:11.846380Z",
     "shell.execute_reply": "2021-12-12T09:30:11.848089Z"
    },
    "papermill": {
     "duration": 0.048193,
     "end_time": "2021-12-12T09:30:11.848610",
     "exception": false,
     "start_time": "2021-12-12T09:30:11.800417",
     "status": "completed"
    },
    "tags": []
   },
   "outputs": [],
   "source": [
    "df_pivot.columns = [\"stamp_1\", \"stamp_2\"]\n",
    "df_pivot_diff = df_pivot.diff(axis=1)"
   ]
  },
  {
   "cell_type": "code",
   "execution_count": 7,
   "id": "fifth-motion",
   "metadata": {
    "execution": {
     "iopub.execute_input": "2021-12-12T09:30:11.908763Z",
     "iopub.status.busy": "2021-12-12T09:30:11.906110Z",
     "iopub.status.idle": "2021-12-12T09:30:13.802353Z",
     "shell.execute_reply": "2021-12-12T09:30:13.803710Z"
    },
    "papermill": {
     "duration": 1.934006,
     "end_time": "2021-12-12T09:30:13.804194",
     "exception": false,
     "start_time": "2021-12-12T09:30:11.870188",
     "status": "completed"
    },
    "tags": []
   },
   "outputs": [
    {
     "data": {
      "text/plain": [
       "<AxesSubplot:ylabel='PRODUCT'>"
      ]
     },
     "execution_count": 7,
     "metadata": {},
     "output_type": "execute_result"
    },
    {
     "data": {
      "image/png": "[encoded data removed]",
      "text/plain": [
       "<Figure size 432x288 with 1 Axes>"
      ]
     },
     "metadata": {
      "needs_background": "light"
     },
     "output_type": "display_data"
    }
   ],
   "source": [
    "df_pivot_diff.sort_values(\"stamp_2\", ascending = False)[\"stamp_2\"].head(10).plot.barh()"
   ]
  },
  {
   "cell_type": "code",
   "execution_count": null,
   "id": "extra-executive",
   "metadata": {
    "papermill": {
     "duration": 0.023485,
     "end_time": "2021-12-12T09:30:13.851747",
     "exception": false,
     "start_time": "2021-12-12T09:30:13.828262",
     "status": "completed"
    },
    "tags": []
   },
   "outputs": [],
   "source": []
  }
 ],
 "metadata": {
  "kernelspec": {
   "display_name": "Python 3",
   "language": "python",
   "name": "python3"
  },
  "language_info": {
   "codemirror_mode": {
    "name": "ipython",
    "version": 3
   },
   "file_extension": ".py",
   "mimetype": "text/x-python",
   "name": "python",
   "nbconvert_exporter": "python",
   "pygments_lexer": "ipython3",
   "version": "3.9.5"
  },
  "papermill": {
   "default_parameters": {},
   "duration": 9.676225,
   "end_time": "2021-12-12T09:30:14.707091",
   "environment_variables": {},
   "exception": null,
   "input_path": "eBay_Overview.ipynb",
   "output_path": "eBay_Overview.ipynb",
   "parameters": {},
   "start_time": "2021-12-12T09:30:05.030866",
   "version": "2.3.3"
  }
 },
 "nbformat": 4,
 "nbformat_minor": 5
}