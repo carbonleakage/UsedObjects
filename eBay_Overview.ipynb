{
 "cells": [
  {
   "cell_type": "code",
   "execution_count": 1,
   "id": "reverse-picking",
   "metadata": {
    "execution": {
     "iopub.execute_input": "2021-12-10T12:30:07.390909Z",
     "iopub.status.busy": "2021-12-10T12:30:07.388481Z",
     "iopub.status.idle": "2021-12-10T12:30:08.337056Z",
     "shell.execute_reply": "2021-12-10T12:30:08.338643Z"
    },
    "papermill": {
     "duration": 0.995036,
     "end_time": "2021-12-10T12:30:08.339433",
     "exception": false,
     "start_time": "2021-12-10T12:30:07.344397",
     "status": "completed"
    },
    "tags": []
   },
   "outputs": [],
   "source": [
    "import pandas as pd\n",
    "import sqlite3"
   ]
  },
  {
   "cell_type": "code",
   "execution_count": 2,
   "id": "innovative-syndrome",
   "metadata": {
    "execution": {
     "iopub.execute_input": "2021-12-10T12:30:08.400818Z",
     "iopub.status.busy": "2021-12-10T12:30:08.398396Z",
     "iopub.status.idle": "2021-12-10T12:30:09.452907Z",
     "shell.execute_reply": "2021-12-10T12:30:09.454583Z"
    },
    "papermill": {
     "duration": 1.088806,
     "end_time": "2021-12-10T12:30:09.455152",
     "exception": false,
     "start_time": "2021-12-10T12:30:08.366346",
     "status": "completed"
    },
    "tags": []
   },
   "outputs": [],
   "source": [
    "timestamps = pd.read_sql(\"select distinct record_time from EBAY_TOP_BERLIN order by record_time desc limit 2\", sqlite3.connect(\"UsedObjects.db\"))"
   ]
  },
  {
   "cell_type": "code",
   "execution_count": 3,
   "id": "periodic-identification",
   "metadata": {
    "execution": {
     "iopub.execute_input": "2021-12-10T12:30:09.526714Z",
     "iopub.status.busy": "2021-12-10T12:30:09.523657Z",
     "iopub.status.idle": "2021-12-10T12:30:09.547710Z",
     "shell.execute_reply": "2021-12-10T12:30:09.549341Z"
    },
    "papermill": {
     "duration": 0.073683,
     "end_time": "2021-12-10T12:30:09.549837",
     "exception": false,
     "start_time": "2021-12-10T12:30:09.476154",
     "status": "completed"
    },
    "tags": []
   },
   "outputs": [
    {
     "data": {
      "text/html": [
       "<div>\n",
       "<style scoped>\n",
       "    .dataframe tbody tr th:only-of-type {\n",
       "        vertical-align: middle;\n",
       "    }\n",
       "\n",
       "    .dataframe tbody tr th {\n",
       "        vertical-align: top;\n",
       "    }\n",
       "\n",
       "    .dataframe thead th {\n",
       "        text-align: right;\n",
       "    }\n",
       "</style>\n",
       "<table border=\"1\" class=\"dataframe\">\n",
       "  <thead>\n",
       "    <tr style=\"text-align: right;\">\n",
       "      <th></th>\n",
       "      <th>RECORD_TIME</th>\n",
       "    </tr>\n",
       "  </thead>\n",
       "  <tbody>\n",
       "    <tr>\n",
       "      <th>0</th>\n",
       "      <td>2021-12-10 13:30</td>\n",
       "    </tr>\n",
       "    <tr>\n",
       "      <th>1</th>\n",
       "      <td>2021-12-10 13:00</td>\n",
       "    </tr>\n",
       "  </tbody>\n",
       "</table>\n",
       "</div>"
      ],
      "text/plain": [
       "        RECORD_TIME\n",
       "0  2021-12-10 13:30\n",
       "1  2021-12-10 13:00"
      ]
     },
     "execution_count": 3,
     "metadata": {},
     "output_type": "execute_result"
    }
   ],
   "source": [
    "timestamps"
   ]
  },
  {
   "cell_type": "code",
   "execution_count": 4,
   "id": "alternate-victory",
   "metadata": {
    "execution": {
     "iopub.execute_input": "2021-12-10T12:30:09.607699Z",
     "iopub.status.busy": "2021-12-10T12:30:09.605548Z",
     "iopub.status.idle": "2021-12-10T12:30:11.112211Z",
     "shell.execute_reply": "2021-12-10T12:30:11.113741Z"
    },
    "papermill": {
     "duration": 1.54069,
     "end_time": "2021-12-10T12:30:11.114267",
     "exception": false,
     "start_time": "2021-12-10T12:30:09.573577",
     "status": "completed"
    },
    "tags": []
   },
   "outputs": [],
   "source": [
    "df = pd.read_sql(\"select * from EBAY_TOP_BERLIN where record_time in (select distinct record_time from EBAY_TOP_BERLIN order by record_time desc limit 2)\", sqlite3.connect(\"UsedObjects.db\"))"
   ]
  },
  {
   "cell_type": "code",
   "execution_count": 5,
   "id": "popular-active",
   "metadata": {
    "execution": {
     "iopub.execute_input": "2021-12-10T12:30:11.192141Z",
     "iopub.status.busy": "2021-12-10T12:30:11.178221Z",
     "iopub.status.idle": "2021-12-10T12:30:11.210350Z",
     "shell.execute_reply": "2021-12-10T12:30:11.211719Z"
    },
    "papermill": {
     "duration": 0.073956,
     "end_time": "2021-12-10T12:30:11.212195",
     "exception": false,
     "start_time": "2021-12-10T12:30:11.138239",
     "status": "completed"
    },
    "tags": []
   },
   "outputs": [],
   "source": [
    "df_pivot = df.pivot_table(index=\"PRODUCT\", columns = \"RECORD_TIME\", values = \"LISTING_COUNT\")"
   ]
  },
  {
   "cell_type": "code",
   "execution_count": 6,
   "id": "union-huntington",
   "metadata": {
    "execution": {
     "iopub.execute_input": "2021-12-10T12:30:11.274665Z",
     "iopub.status.busy": "2021-12-10T12:30:11.272265Z",
     "iopub.status.idle": "2021-12-10T12:30:11.277576Z",
     "shell.execute_reply": "2021-12-10T12:30:11.279515Z"
    },
    "papermill": {
     "duration": 0.048067,
     "end_time": "2021-12-10T12:30:11.280009",
     "exception": false,
     "start_time": "2021-12-10T12:30:11.231942",
     "status": "completed"
    },
    "tags": []
   },
   "outputs": [],
   "source": [
    "df_pivot.columns = [\"stamp_1\", \"stamp_2\"]\n",
    "df_pivot_diff = df_pivot.diff(axis=1)"
   ]
  },
  {
   "cell_type": "code",
   "execution_count": 7,
   "id": "fifth-motion",
   "metadata": {
    "execution": {
     "iopub.execute_input": "2021-12-10T12:30:11.332871Z",
     "iopub.status.busy": "2021-12-10T12:30:11.330756Z",
     "iopub.status.idle": "2021-12-10T12:30:13.238827Z",
     "shell.execute_reply": "2021-12-10T12:30:13.241289Z"
    },
    "papermill": {
     "duration": 1.940602,
     "end_time": "2021-12-10T12:30:13.242057",
     "exception": false,
     "start_time": "2021-12-10T12:30:11.301455",
     "status": "completed"
    },
    "tags": []
   },
   "outputs": [
    {
     "data": {
      "text/plain": [
       "<AxesSubplot:ylabel='PRODUCT'>"
      ]
     },
     "execution_count": 7,
     "metadata": {},
     "output_type": "execute_result"
    },
    {
     "data": {
      "image/png": "[encoded data removed]",
      "text/plain": [
       "<Figure size 432x288 with 1 Axes>"
      ]
     },
     "metadata": {
      "needs_background": "light"
     },
     "output_type": "display_data"
    }
   ],
   "source": [
    "df_pivot_diff.sort_values(\"stamp_2\", ascending = False)[\"stamp_2\"].head(10).plot.barh()"
   ]
  },
  {
   "cell_type": "code",
   "execution_count": null,
   "id": "extra-executive",
   "metadata": {
    "papermill": {
     "duration": 0.032374,
     "end_time": "2021-12-10T12:30:13.311234",
     "exception": false,
     "start_time": "2021-12-10T12:30:13.278860",
     "status": "completed"
    },
    "tags": []
   },
   "outputs": [],
   "source": []
  }
 ],
 "metadata": {
  "kernelspec": {
   "display_name": "Python 3",
   "language": "python",
   "name": "python3"
  },
  "language_info": {
   "codemirror_mode": {
    "name": "ipython",
    "version": 3
   },
   "file_extension": ".py",
   "mimetype": "text/x-python",
   "name": "python",
   "nbconvert_exporter": "python",
   "pygments_lexer": "ipython3",
   "version": "3.9.5"
  },
  "papermill": {
   "default_parameters": {},
   "duration": 9.986207,
   "end_time": "2021-12-10T12:30:14.574721",
   "environment_variables": {},
   "exception": null,
   "input_path": "eBay_Overview.ipynb",
   "output_path": "eBay_Overview.ipynb",
   "parameters": {},
   "start_time": "2021-12-10T12:30:04.588514",
   "version": "2.3.3"
  }
 },
 "nbformat": 4,
 "nbformat_minor": 5
}