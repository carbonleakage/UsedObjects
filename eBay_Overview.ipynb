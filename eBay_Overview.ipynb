{
 "cells": [
  {
   "cell_type": "code",
   "execution_count": 1,
   "id": "reverse-picking",
   "metadata": {
    "execution": {
     "iopub.execute_input": "2021-11-04T15:00:08.762362Z",
     "iopub.status.busy": "2021-11-04T15:00:08.759192Z",
     "iopub.status.idle": "2021-11-04T15:00:09.936251Z",
     "shell.execute_reply": "2021-11-04T15:00:09.938219Z"
    },
    "papermill": {
     "duration": 1.2261,
     "end_time": "2021-11-04T15:00:09.938982",
     "exception": false,
     "start_time": "2021-11-04T15:00:08.712882",
     "status": "completed"
    },
    "tags": []
   },
   "outputs": [],
   "source": [
    "import pandas as pd\n",
    "import sqlite3"
   ]
  },
  {
   "cell_type": "code",
   "execution_count": 2,
   "id": "innovative-syndrome",
   "metadata": {
    "execution": {
     "iopub.execute_input": "2021-11-04T15:00:09.995077Z",
     "iopub.status.busy": "2021-11-04T15:00:09.992979Z",
     "iopub.status.idle": "2021-11-04T15:00:10.735509Z",
     "shell.execute_reply": "2021-11-04T15:00:10.737481Z"
    },
    "papermill": {
     "duration": 0.775933,
     "end_time": "2021-11-04T15:00:10.737965",
     "exception": false,
     "start_time": "2021-11-04T15:00:09.962032",
     "status": "completed"
    },
    "tags": []
   },
   "outputs": [],
   "source": [
    "timestamps = pd.read_sql(\"select distinct record_time from EBAY_TOP_BERLIN order by record_time desc limit 2\", sqlite3.connect(\"UsedObjects.db\"))"
   ]
  },
  {
   "cell_type": "code",
   "execution_count": 3,
   "id": "periodic-identification",
   "metadata": {
    "execution": {
     "iopub.execute_input": "2021-11-04T15:00:10.814112Z",
     "iopub.status.busy": "2021-11-04T15:00:10.811475Z",
     "iopub.status.idle": "2021-11-04T15:00:10.840631Z",
     "shell.execute_reply": "2021-11-04T15:00:10.842263Z"
    },
    "papermill": {
     "duration": 0.083028,
     "end_time": "2021-11-04T15:00:10.842790",
     "exception": false,
     "start_time": "2021-11-04T15:00:10.759762",
     "status": "completed"
    },
    "tags": []
   },
   "outputs": [
    {
     "data": {
      "text/html": [
       "<div>\n",
       "<style scoped>\n",
       "    .dataframe tbody tr th:only-of-type {\n",
       "        vertical-align: middle;\n",
       "    }\n",
       "\n",
       "    .dataframe tbody tr th {\n",
       "        vertical-align: top;\n",
       "    }\n",
       "\n",
       "    .dataframe thead th {\n",
       "        text-align: right;\n",
       "    }\n",
       "</style>\n",
       "<table border=\"1\" class=\"dataframe\">\n",
       "  <thead>\n",
       "    <tr style=\"text-align: right;\">\n",
       "      <th></th>\n",
       "      <th>RECORD_TIME</th>\n",
       "    </tr>\n",
       "  </thead>\n",
       "  <tbody>\n",
       "    <tr>\n",
       "      <th>0</th>\n",
       "      <td>2021-11-04 16:00</td>\n",
       "    </tr>\n",
       "    <tr>\n",
       "      <th>1</th>\n",
       "      <td>2021-11-04 15:30</td>\n",
       "    </tr>\n",
       "  </tbody>\n",
       "</table>\n",
       "</div>"
      ],
      "text/plain": [
       "        RECORD_TIME\n",
       "0  2021-11-04 16:00\n",
       "1  2021-11-04 15:30"
      ]
     },
     "execution_count": 3,
     "metadata": {},
     "output_type": "execute_result"
    }
   ],
   "source": [
    "timestamps"
   ]
  },
  {
   "cell_type": "code",
   "execution_count": 4,
   "id": "alternate-victory",
   "metadata": {
    "execution": {
     "iopub.execute_input": "2021-11-04T15:00:10.903013Z",
     "iopub.status.busy": "2021-11-04T15:00:10.899838Z",
     "iopub.status.idle": "2021-11-04T15:00:12.007336Z",
     "shell.execute_reply": "2021-11-04T15:00:12.008846Z"
    },
    "papermill": {
     "duration": 1.143007,
     "end_time": "2021-11-04T15:00:12.009317",
     "exception": false,
     "start_time": "2021-11-04T15:00:10.866310",
     "status": "completed"
    },
    "tags": []
   },
   "outputs": [],
   "source": [
    "df = pd.read_sql(\"select * from EBAY_TOP_BERLIN where record_time in (select distinct record_time from EBAY_TOP_BERLIN order by record_time desc limit 2)\", sqlite3.connect(\"UsedObjects.db\"))"
   ]
  },
  {
   "cell_type": "code",
   "execution_count": 5,
   "id": "popular-active",
   "metadata": {
    "execution": {
     "iopub.execute_input": "2021-11-04T15:00:12.083874Z",
     "iopub.status.busy": "2021-11-04T15:00:12.081722Z",
     "iopub.status.idle": "2021-11-04T15:00:12.128486Z",
     "shell.execute_reply": "2021-11-04T15:00:12.129892Z"
    },
    "papermill": {
     "duration": 0.099754,
     "end_time": "2021-11-04T15:00:12.130356",
     "exception": false,
     "start_time": "2021-11-04T15:00:12.030602",
     "status": "completed"
    },
    "tags": []
   },
   "outputs": [],
   "source": [
    "df_pivot = df.pivot_table(index=\"PRODUCT\", columns = \"RECORD_TIME\", values = \"LISTING_COUNT\")"
   ]
  },
  {
   "cell_type": "code",
   "execution_count": 6,
   "id": "union-huntington",
   "metadata": {
    "execution": {
     "iopub.execute_input": "2021-11-04T15:00:12.193010Z",
     "iopub.status.busy": "2021-11-04T15:00:12.190720Z",
     "iopub.status.idle": "2021-11-04T15:00:12.195940Z",
     "shell.execute_reply": "2021-11-04T15:00:12.197492Z"
    },
    "papermill": {
     "duration": 0.045039,
     "end_time": "2021-11-04T15:00:12.197954",
     "exception": false,
     "start_time": "2021-11-04T15:00:12.152915",
     "status": "completed"
    },
    "tags": []
   },
   "outputs": [],
   "source": [
    "df_pivot.columns = [\"stamp_1\", \"stamp_2\"]\n",
    "df_pivot_diff = df_pivot.diff(axis=1)"
   ]
  },
  {
   "cell_type": "code",
   "execution_count": 7,
   "id": "fifth-motion",
   "metadata": {
    "execution": {
     "iopub.execute_input": "2021-11-04T15:00:12.258377Z",
     "iopub.status.busy": "2021-11-04T15:00:12.256263Z",
     "iopub.status.idle": "2021-11-04T15:00:14.742857Z",
     "shell.execute_reply": "2021-11-04T15:00:14.744135Z"
    },
    "papermill": {
     "duration": 2.525915,
     "end_time": "2021-11-04T15:00:14.744549",
     "exception": false,
     "start_time": "2021-11-04T15:00:12.218634",
     "status": "completed"
    },
    "tags": []
   },
   "outputs": [
    {
     "data": {
      "text/plain": [
       "<AxesSubplot:ylabel='PRODUCT'>"
      ]
     },
     "execution_count": 7,
     "metadata": {},
     "output_type": "execute_result"
    },
    {
     "data": {
      "image/png": "[encoded data removed]",
      "text/plain": [
       "<Figure size 432x288 with 1 Axes>"
      ]
     },
     "metadata": {
      "needs_background": "light"
     },
     "output_type": "display_data"
    }
   ],
   "source": [
    "df_pivot_diff.sort_values(\"stamp_2\", ascending = False)[\"stamp_2\"].head(10).plot.barh()"
   ]
  },
  {
   "cell_type": "code",
   "execution_count": null,
   "id": "extra-executive",
   "metadata": {
    "papermill": {
     "duration": 0.022163,
     "end_time": "2021-11-04T15:00:14.791465",
     "exception": false,
     "start_time": "2021-11-04T15:00:14.769302",
     "status": "completed"
    },
    "tags": []
   },
   "outputs": [],
   "source": []
  }
 ],
 "metadata": {
  "kernelspec": {
   "display_name": "Python 3",
   "language": "python",
   "name": "python3"
  },
  "language_info": {
   "codemirror_mode": {
    "name": "ipython",
    "version": 3
   },
   "file_extension": ".py",
   "mimetype": "text/x-python",
   "name": "python",
   "nbconvert_exporter": "python",
   "pygments_lexer": "ipython3",
   "version": "3.9.5"
  },
  "papermill": {
   "default_parameters": {},
   "duration": 9.929994,
   "end_time": "2021-11-04T15:00:15.435071",
   "environment_variables": {},
   "exception": null,
   "input_path": "eBay_Overview.ipynb",
   "output_path": "eBay_Overview.ipynb",
   "parameters": {},
   "start_time": "2021-11-04T15:00:05.505077",
   "version": "2.3.3"
  }
 },
 "nbformat": 4,
 "nbformat_minor": 5
}