{
 "cells": [
  {
   "cell_type": "code",
   "execution_count": 1,
   "id": "reverse-picking",
   "metadata": {
    "execution": {
     "iopub.execute_input": "2021-11-01T04:30:07.418140Z",
     "iopub.status.busy": "2021-11-01T04:30:07.416084Z",
     "iopub.status.idle": "2021-11-01T04:30:08.224462Z",
     "shell.execute_reply": "2021-11-01T04:30:08.222932Z"
    },
    "papermill": {
     "duration": 0.856394,
     "end_time": "2021-11-01T04:30:08.225065",
     "exception": false,
     "start_time": "2021-11-01T04:30:07.368671",
     "status": "completed"
    },
    "tags": []
   },
   "outputs": [],
   "source": [
    "import pandas as pd\n",
    "import sqlite3"
   ]
  },
  {
   "cell_type": "code",
   "execution_count": 2,
   "id": "innovative-syndrome",
   "metadata": {
    "execution": {
     "iopub.execute_input": "2021-11-01T04:30:08.275822Z",
     "iopub.status.busy": "2021-11-01T04:30:08.273660Z",
     "iopub.status.idle": "2021-11-01T04:30:08.953569Z",
     "shell.execute_reply": "2021-11-01T04:30:08.954819Z"
    },
    "papermill": {
     "duration": 0.709826,
     "end_time": "2021-11-01T04:30:08.955221",
     "exception": false,
     "start_time": "2021-11-01T04:30:08.245395",
     "status": "completed"
    },
    "tags": []
   },
   "outputs": [],
   "source": [
    "timestamps = pd.read_sql(\"select distinct record_time from EBAY_TOP_BERLIN order by record_time desc limit 2\", sqlite3.connect(\"UsedObjects.db\"))"
   ]
  },
  {
   "cell_type": "code",
   "execution_count": 3,
   "id": "periodic-identification",
   "metadata": {
    "execution": {
     "iopub.execute_input": "2021-11-01T04:30:09.033693Z",
     "iopub.status.busy": "2021-11-01T04:30:09.031576Z",
     "iopub.status.idle": "2021-11-01T04:30:09.052033Z",
     "shell.execute_reply": "2021-11-01T04:30:09.053471Z"
    },
    "papermill": {
     "duration": 0.070861,
     "end_time": "2021-11-01T04:30:09.053928",
     "exception": false,
     "start_time": "2021-11-01T04:30:08.983067",
     "status": "completed"
    },
    "tags": []
   },
   "outputs": [
    {
     "data": {
      "text/html": [
       "<div>\n",
       "<style scoped>\n",
       "    .dataframe tbody tr th:only-of-type {\n",
       "        vertical-align: middle;\n",
       "    }\n",
       "\n",
       "    .dataframe tbody tr th {\n",
       "        vertical-align: top;\n",
       "    }\n",
       "\n",
       "    .dataframe thead th {\n",
       "        text-align: right;\n",
       "    }\n",
       "</style>\n",
       "<table border=\"1\" class=\"dataframe\">\n",
       "  <thead>\n",
       "    <tr style=\"text-align: right;\">\n",
       "      <th></th>\n",
       "      <th>RECORD_TIME</th>\n",
       "    </tr>\n",
       "  </thead>\n",
       "  <tbody>\n",
       "    <tr>\n",
       "      <th>0</th>\n",
       "      <td>2021-11-01 05:30</td>\n",
       "    </tr>\n",
       "    <tr>\n",
       "      <th>1</th>\n",
       "      <td>2021-11-01 05:00</td>\n",
       "    </tr>\n",
       "  </tbody>\n",
       "</table>\n",
       "</div>"
      ],
      "text/plain": [
       "        RECORD_TIME\n",
       "0  2021-11-01 05:30\n",
       "1  2021-11-01 05:00"
      ]
     },
     "execution_count": 3,
     "metadata": {},
     "output_type": "execute_result"
    }
   ],
   "source": [
    "timestamps"
   ]
  },
  {
   "cell_type": "code",
   "execution_count": 4,
   "id": "alternate-victory",
   "metadata": {
    "execution": {
     "iopub.execute_input": "2021-11-01T04:30:09.105442Z",
     "iopub.status.busy": "2021-11-01T04:30:09.103499Z",
     "iopub.status.idle": "2021-11-01T04:30:10.113960Z",
     "shell.execute_reply": "2021-11-01T04:30:10.115252Z"
    },
    "papermill": {
     "duration": 1.040542,
     "end_time": "2021-11-01T04:30:10.115706",
     "exception": false,
     "start_time": "2021-11-01T04:30:09.075164",
     "status": "completed"
    },
    "tags": []
   },
   "outputs": [],
   "source": [
    "df = pd.read_sql(\"select * from EBAY_TOP_BERLIN where record_time in (select distinct record_time from EBAY_TOP_BERLIN order by record_time desc limit 2)\", sqlite3.connect(\"UsedObjects.db\"))"
   ]
  },
  {
   "cell_type": "code",
   "execution_count": 5,
   "id": "popular-active",
   "metadata": {
    "execution": {
     "iopub.execute_input": "2021-11-01T04:30:10.186000Z",
     "iopub.status.busy": "2021-11-01T04:30:10.174443Z",
     "iopub.status.idle": "2021-11-01T04:30:10.201586Z",
     "shell.execute_reply": "2021-11-01T04:30:10.202793Z"
    },
    "papermill": {
     "duration": 0.066254,
     "end_time": "2021-11-01T04:30:10.203190",
     "exception": false,
     "start_time": "2021-11-01T04:30:10.136936",
     "status": "completed"
    },
    "tags": []
   },
   "outputs": [],
   "source": [
    "df_pivot = df.pivot_table(index=\"PRODUCT\", columns = \"RECORD_TIME\", values = \"LISTING_COUNT\")"
   ]
  },
  {
   "cell_type": "code",
   "execution_count": 6,
   "id": "union-huntington",
   "metadata": {
    "execution": {
     "iopub.execute_input": "2021-11-01T04:30:10.262760Z",
     "iopub.status.busy": "2021-11-01T04:30:10.260296Z",
     "iopub.status.idle": "2021-11-01T04:30:10.268149Z",
     "shell.execute_reply": "2021-11-01T04:30:10.266584Z"
    },
    "papermill": {
     "duration": 0.042749,
     "end_time": "2021-11-01T04:30:10.268545",
     "exception": false,
     "start_time": "2021-11-01T04:30:10.225796",
     "status": "completed"
    },
    "tags": []
   },
   "outputs": [],
   "source": [
    "df_pivot.columns = [\"stamp_1\", \"stamp_2\"]\n",
    "df_pivot_diff = df_pivot.diff(axis=1)"
   ]
  },
  {
   "cell_type": "code",
   "execution_count": 7,
   "id": "fifth-motion",
   "metadata": {
    "execution": {
     "iopub.execute_input": "2021-11-01T04:30:10.323868Z",
     "iopub.status.busy": "2021-11-01T04:30:10.321443Z",
     "iopub.status.idle": "2021-11-01T04:30:11.809776Z",
     "shell.execute_reply": "2021-11-01T04:30:11.811032Z"
    },
    "papermill": {
     "duration": 1.521293,
     "end_time": "2021-11-01T04:30:11.811486",
     "exception": false,
     "start_time": "2021-11-01T04:30:10.290193",
     "status": "completed"
    },
    "tags": []
   },
   "outputs": [
    {
     "data": {
      "text/plain": [
       "<AxesSubplot:ylabel='PRODUCT'>"
      ]
     },
     "execution_count": 7,
     "metadata": {},
     "output_type": "execute_result"
    },
    {
     "data": {
      "image/png": "[encoded data removed]",
      "text/plain": [
       "<Figure size 432x288 with 1 Axes>"
      ]
     },
     "metadata": {
      "needs_background": "light"
     },
     "output_type": "display_data"
    }
   ],
   "source": [
    "df_pivot_diff.sort_values(\"stamp_2\", ascending = False)[\"stamp_2\"].head(10).plot.barh()"
   ]
  },
  {
   "cell_type": "code",
   "execution_count": null,
   "id": "extra-executive",
   "metadata": {
    "papermill": {
     "duration": 0.022422,
     "end_time": "2021-11-01T04:30:11.858634",
     "exception": false,
     "start_time": "2021-11-01T04:30:11.836212",
     "status": "completed"
    },
    "tags": []
   },
   "outputs": [],
   "source": []
  }
 ],
 "metadata": {
  "kernelspec": {
   "display_name": "Python 3",
   "language": "python",
   "name": "python3"
  },
  "language_info": {
   "codemirror_mode": {
    "name": "ipython",
    "version": 3
   },
   "file_extension": ".py",
   "mimetype": "text/x-python",
   "name": "python",
   "nbconvert_exporter": "python",
   "pygments_lexer": "ipython3",
   "version": "3.9.5"
  },
  "papermill": {
   "default_parameters": {},
   "duration": 7.682149,
   "end_time": "2021-11-01T04:30:12.502205",
   "environment_variables": {},
   "exception": null,
   "input_path": "eBay_Overview.ipynb",
   "output_path": "eBay_Overview.ipynb",
   "parameters": {},
   "start_time": "2021-11-01T04:30:04.820056",
   "version": "2.3.3"
  }
 },
 "nbformat": 4,
 "nbformat_minor": 5
}