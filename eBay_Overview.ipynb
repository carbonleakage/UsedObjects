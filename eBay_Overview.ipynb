{
 "cells": [
  {
   "cell_type": "code",
   "execution_count": 1,
   "id": "reverse-picking",
   "metadata": {
    "execution": {
     "iopub.execute_input": "2021-11-15T15:00:08.337686Z",
     "iopub.status.busy": "2021-11-15T15:00:08.334383Z",
     "iopub.status.idle": "2021-11-15T15:00:09.301377Z",
     "shell.execute_reply": "2021-11-15T15:00:09.302960Z"
    },
    "papermill": {
     "duration": 1.01563,
     "end_time": "2021-11-15T15:00:09.303701",
     "exception": false,
     "start_time": "2021-11-15T15:00:08.288071",
     "status": "completed"
    },
    "tags": []
   },
   "outputs": [],
   "source": [
    "import pandas as pd\n",
    "import sqlite3"
   ]
  },
  {
   "cell_type": "code",
   "execution_count": 2,
   "id": "innovative-syndrome",
   "metadata": {
    "execution": {
     "iopub.execute_input": "2021-11-15T15:00:09.365199Z",
     "iopub.status.busy": "2021-11-15T15:00:09.362819Z",
     "iopub.status.idle": "2021-11-15T15:00:10.183401Z",
     "shell.execute_reply": "2021-11-15T15:00:10.184666Z"
    },
    "papermill": {
     "duration": 0.854552,
     "end_time": "2021-11-15T15:00:10.185166",
     "exception": false,
     "start_time": "2021-11-15T15:00:09.330614",
     "status": "completed"
    },
    "tags": []
   },
   "outputs": [],
   "source": [
    "timestamps = pd.read_sql(\"select distinct record_time from EBAY_TOP_BERLIN order by record_time desc limit 2\", sqlite3.connect(\"UsedObjects.db\"))"
   ]
  },
  {
   "cell_type": "code",
   "execution_count": 3,
   "id": "periodic-identification",
   "metadata": {
    "execution": {
     "iopub.execute_input": "2021-11-15T15:00:10.256945Z",
     "iopub.status.busy": "2021-11-15T15:00:10.251110Z",
     "iopub.status.idle": "2021-11-15T15:00:10.276440Z",
     "shell.execute_reply": "2021-11-15T15:00:10.277988Z"
    },
    "papermill": {
     "duration": 0.073224,
     "end_time": "2021-11-15T15:00:10.278472",
     "exception": false,
     "start_time": "2021-11-15T15:00:10.205248",
     "status": "completed"
    },
    "tags": []
   },
   "outputs": [
    {
     "data": {
      "text/html": [
       "<div>\n",
       "<style scoped>\n",
       "    .dataframe tbody tr th:only-of-type {\n",
       "        vertical-align: middle;\n",
       "    }\n",
       "\n",
       "    .dataframe tbody tr th {\n",
       "        vertical-align: top;\n",
       "    }\n",
       "\n",
       "    .dataframe thead th {\n",
       "        text-align: right;\n",
       "    }\n",
       "</style>\n",
       "<table border=\"1\" class=\"dataframe\">\n",
       "  <thead>\n",
       "    <tr style=\"text-align: right;\">\n",
       "      <th></th>\n",
       "      <th>RECORD_TIME</th>\n",
       "    </tr>\n",
       "  </thead>\n",
       "  <tbody>\n",
       "    <tr>\n",
       "      <th>0</th>\n",
       "      <td>2021-11-15 16:00</td>\n",
       "    </tr>\n",
       "    <tr>\n",
       "      <th>1</th>\n",
       "      <td>2021-11-15 15:30</td>\n",
       "    </tr>\n",
       "  </tbody>\n",
       "</table>\n",
       "</div>"
      ],
      "text/plain": [
       "        RECORD_TIME\n",
       "0  2021-11-15 16:00\n",
       "1  2021-11-15 15:30"
      ]
     },
     "execution_count": 3,
     "metadata": {},
     "output_type": "execute_result"
    }
   ],
   "source": [
    "timestamps"
   ]
  },
  {
   "cell_type": "code",
   "execution_count": 4,
   "id": "alternate-victory",
   "metadata": {
    "execution": {
     "iopub.execute_input": "2021-11-15T15:00:10.331487Z",
     "iopub.status.busy": "2021-11-15T15:00:10.329596Z",
     "iopub.status.idle": "2021-11-15T15:00:11.576515Z",
     "shell.execute_reply": "2021-11-15T15:00:11.578937Z"
    },
    "papermill": {
     "duration": 1.279658,
     "end_time": "2021-11-15T15:00:11.579510",
     "exception": false,
     "start_time": "2021-11-15T15:00:10.299852",
     "status": "completed"
    },
    "tags": []
   },
   "outputs": [],
   "source": [
    "df = pd.read_sql(\"select * from EBAY_TOP_BERLIN where record_time in (select distinct record_time from EBAY_TOP_BERLIN order by record_time desc limit 2)\", sqlite3.connect(\"UsedObjects.db\"))"
   ]
  },
  {
   "cell_type": "code",
   "execution_count": 5,
   "id": "popular-active",
   "metadata": {
    "execution": {
     "iopub.execute_input": "2021-11-15T15:00:11.658155Z",
     "iopub.status.busy": "2021-11-15T15:00:11.649852Z",
     "iopub.status.idle": "2021-11-15T15:00:11.681376Z",
     "shell.execute_reply": "2021-11-15T15:00:11.682708Z"
    },
    "papermill": {
     "duration": 0.076866,
     "end_time": "2021-11-15T15:00:11.683182",
     "exception": false,
     "start_time": "2021-11-15T15:00:11.606316",
     "status": "completed"
    },
    "tags": []
   },
   "outputs": [],
   "source": [
    "df_pivot = df.pivot_table(index=\"PRODUCT\", columns = \"RECORD_TIME\", values = \"LISTING_COUNT\")"
   ]
  },
  {
   "cell_type": "code",
   "execution_count": 6,
   "id": "union-huntington",
   "metadata": {
    "execution": {
     "iopub.execute_input": "2021-11-15T15:00:11.740924Z",
     "iopub.status.busy": "2021-11-15T15:00:11.738701Z",
     "iopub.status.idle": "2021-11-15T15:00:11.744339Z",
     "shell.execute_reply": "2021-11-15T15:00:11.745866Z"
    },
    "papermill": {
     "duration": 0.043178,
     "end_time": "2021-11-15T15:00:11.746338",
     "exception": false,
     "start_time": "2021-11-15T15:00:11.703160",
     "status": "completed"
    },
    "tags": []
   },
   "outputs": [],
   "source": [
    "df_pivot.columns = [\"stamp_1\", \"stamp_2\"]\n",
    "df_pivot_diff = df_pivot.diff(axis=1)"
   ]
  },
  {
   "cell_type": "code",
   "execution_count": 7,
   "id": "fifth-motion",
   "metadata": {
    "execution": {
     "iopub.execute_input": "2021-11-15T15:00:11.804300Z",
     "iopub.status.busy": "2021-11-15T15:00:11.801732Z",
     "iopub.status.idle": "2021-11-15T15:00:13.813121Z",
     "shell.execute_reply": "2021-11-15T15:00:13.814963Z"
    },
    "papermill": {
     "duration": 2.046909,
     "end_time": "2021-11-15T15:00:13.815448",
     "exception": false,
     "start_time": "2021-11-15T15:00:11.768539",
     "status": "completed"
    },
    "tags": []
   },
   "outputs": [
    {
     "data": {
      "text/plain": [
       "<AxesSubplot:ylabel='PRODUCT'>"
      ]
     },
     "execution_count": 7,
     "metadata": {},
     "output_type": "execute_result"
    },
    {
     "data": {
      "image/png": "[encoded data removed]",
      "text/plain": [
       "<Figure size 432x288 with 1 Axes>"
      ]
     },
     "metadata": {
      "needs_background": "light"
     },
     "output_type": "display_data"
    }
   ],
   "source": [
    "df_pivot_diff.sort_values(\"stamp_2\", ascending = False)[\"stamp_2\"].head(10).plot.barh()"
   ]
  },
  {
   "cell_type": "code",
   "execution_count": null,
   "id": "extra-executive",
   "metadata": {
    "papermill": {
     "duration": 0.024318,
     "end_time": "2021-11-15T15:00:13.864412",
     "exception": false,
     "start_time": "2021-11-15T15:00:13.840094",
     "status": "completed"
    },
    "tags": []
   },
   "outputs": [],
   "source": []
  }
 ],
 "metadata": {
  "kernelspec": {
   "display_name": "Python 3",
   "language": "python",
   "name": "python3"
  },
  "language_info": {
   "codemirror_mode": {
    "name": "ipython",
    "version": 3
   },
   "file_extension": ".py",
   "mimetype": "text/x-python",
   "name": "python",
   "nbconvert_exporter": "python",
   "pygments_lexer": "ipython3",
   "version": "3.9.5"
  },
  "papermill": {
   "default_parameters": {},
   "duration": 9.939579,
   "end_time": "2021-11-15T15:00:15.479402",
   "environment_variables": {},
   "exception": null,
   "input_path": "eBay_Overview.ipynb",
   "output_path": "eBay_Overview.ipynb",
   "parameters": {},
   "start_time": "2021-11-15T15:00:05.539823",
   "version": "2.3.3"
  }
 },
 "nbformat": 4,
 "nbformat_minor": 5
}