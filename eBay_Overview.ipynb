{
 "cells": [
  {
   "cell_type": "code",
   "execution_count": 1,
   "id": "reverse-picking",
   "metadata": {
    "execution": {
     "iopub.execute_input": "2021-09-11T01:00:07.060279Z",
     "iopub.status.busy": "2021-09-11T01:00:07.058247Z",
     "iopub.status.idle": "2021-09-11T01:00:07.868808Z",
     "shell.execute_reply": "2021-09-11T01:00:07.870199Z"
    },
    "papermill": {
     "duration": 0.860591,
     "end_time": "2021-09-11T01:00:07.871043",
     "exception": false,
     "start_time": "2021-09-11T01:00:07.010452",
     "status": "completed"
    },
    "tags": []
   },
   "outputs": [],
   "source": [
    "import pandas as pd\n",
    "import sqlite3"
   ]
  },
  {
   "cell_type": "code",
   "execution_count": 2,
   "id": "innovative-syndrome",
   "metadata": {
    "execution": {
     "iopub.execute_input": "2021-09-11T01:00:07.922460Z",
     "iopub.status.busy": "2021-09-11T01:00:07.920407Z",
     "iopub.status.idle": "2021-09-11T01:00:08.183149Z",
     "shell.execute_reply": "2021-09-11T01:00:08.184441Z"
    },
    "papermill": {
     "duration": 0.293366,
     "end_time": "2021-09-11T01:00:08.184854",
     "exception": false,
     "start_time": "2021-09-11T01:00:07.891488",
     "status": "completed"
    },
    "tags": []
   },
   "outputs": [],
   "source": [
    "timestamps = pd.read_sql(\"select distinct record_time from EBAY_TOP_BERLIN order by record_time desc limit 2\", sqlite3.connect(\"UsedObjects.db\"))"
   ]
  },
  {
   "cell_type": "code",
   "execution_count": 3,
   "id": "periodic-identification",
   "metadata": {
    "execution": {
     "iopub.execute_input": "2021-09-11T01:00:08.250236Z",
     "iopub.status.busy": "2021-09-11T01:00:08.247992Z",
     "iopub.status.idle": "2021-09-11T01:00:08.268160Z",
     "shell.execute_reply": "2021-09-11T01:00:08.269405Z"
    },
    "papermill": {
     "duration": 0.065084,
     "end_time": "2021-09-11T01:00:08.269797",
     "exception": false,
     "start_time": "2021-09-11T01:00:08.204713",
     "status": "completed"
    },
    "tags": []
   },
   "outputs": [
    {
     "data": {
      "text/html": [
       "<div>\n",
       "<style scoped>\n",
       "    .dataframe tbody tr th:only-of-type {\n",
       "        vertical-align: middle;\n",
       "    }\n",
       "\n",
       "    .dataframe tbody tr th {\n",
       "        vertical-align: top;\n",
       "    }\n",
       "\n",
       "    .dataframe thead th {\n",
       "        text-align: right;\n",
       "    }\n",
       "</style>\n",
       "<table border=\"1\" class=\"dataframe\">\n",
       "  <thead>\n",
       "    <tr style=\"text-align: right;\">\n",
       "      <th></th>\n",
       "      <th>RECORD_TIME</th>\n",
       "    </tr>\n",
       "  </thead>\n",
       "  <tbody>\n",
       "    <tr>\n",
       "      <th>0</th>\n",
       "      <td>2021-09-11 03:00</td>\n",
       "    </tr>\n",
       "    <tr>\n",
       "      <th>1</th>\n",
       "      <td>2021-09-11 02:30</td>\n",
       "    </tr>\n",
       "  </tbody>\n",
       "</table>\n",
       "</div>"
      ],
      "text/plain": [
       "        RECORD_TIME\n",
       "0  2021-09-11 03:00\n",
       "1  2021-09-11 02:30"
      ]
     },
     "execution_count": 3,
     "metadata": {},
     "output_type": "execute_result"
    }
   ],
   "source": [
    "timestamps"
   ]
  },
  {
   "cell_type": "code",
   "execution_count": 4,
   "id": "alternate-victory",
   "metadata": {
    "execution": {
     "iopub.execute_input": "2021-09-11T01:00:08.323020Z",
     "iopub.status.busy": "2021-09-11T01:00:08.320697Z",
     "iopub.status.idle": "2021-09-11T01:00:08.710589Z",
     "shell.execute_reply": "2021-09-11T01:00:08.711876Z"
    },
    "papermill": {
     "duration": 0.420519,
     "end_time": "2021-09-11T01:00:08.712281",
     "exception": false,
     "start_time": "2021-09-11T01:00:08.291762",
     "status": "completed"
    },
    "tags": []
   },
   "outputs": [],
   "source": [
    "df = pd.read_sql(\"select * from EBAY_TOP_BERLIN where record_time in (select distinct record_time from EBAY_TOP_BERLIN order by record_time desc limit 2)\", sqlite3.connect(\"UsedObjects.db\"))"
   ]
  },
  {
   "cell_type": "code",
   "execution_count": 5,
   "id": "popular-active",
   "metadata": {
    "execution": {
     "iopub.execute_input": "2021-09-11T01:00:08.792799Z",
     "iopub.status.busy": "2021-09-11T01:00:08.781220Z",
     "iopub.status.idle": "2021-09-11T01:00:08.809457Z",
     "shell.execute_reply": "2021-09-11T01:00:08.810682Z"
    },
    "papermill": {
     "duration": 0.071375,
     "end_time": "2021-09-11T01:00:08.811135",
     "exception": false,
     "start_time": "2021-09-11T01:00:08.739760",
     "status": "completed"
    },
    "tags": []
   },
   "outputs": [],
   "source": [
    "df_pivot = df.pivot_table(index=\"PRODUCT\", columns = \"RECORD_TIME\", values = \"LISTING_COUNT\")"
   ]
  },
  {
   "cell_type": "code",
   "execution_count": 6,
   "id": "union-huntington",
   "metadata": {
    "execution": {
     "iopub.execute_input": "2021-09-11T01:00:08.867030Z",
     "iopub.status.busy": "2021-09-11T01:00:08.864836Z",
     "iopub.status.idle": "2021-09-11T01:00:08.870444Z",
     "shell.execute_reply": "2021-09-11T01:00:08.872284Z"
    },
    "papermill": {
     "duration": 0.041687,
     "end_time": "2021-09-11T01:00:08.872889",
     "exception": false,
     "start_time": "2021-09-11T01:00:08.831202",
     "status": "completed"
    },
    "tags": []
   },
   "outputs": [],
   "source": [
    "df_pivot.columns = [\"stamp_1\", \"stamp_2\"]\n",
    "df_pivot_diff = df_pivot.diff(axis=1)"
   ]
  },
  {
   "cell_type": "code",
   "execution_count": 7,
   "id": "fifth-motion",
   "metadata": {
    "execution": {
     "iopub.execute_input": "2021-09-11T01:00:08.929018Z",
     "iopub.status.busy": "2021-09-11T01:00:08.926516Z",
     "iopub.status.idle": "2021-09-11T01:00:10.438334Z",
     "shell.execute_reply": "2021-09-11T01:00:10.439673Z"
    },
    "papermill": {
     "duration": 1.545568,
     "end_time": "2021-09-11T01:00:10.440134",
     "exception": false,
     "start_time": "2021-09-11T01:00:08.894566",
     "status": "completed"
    },
    "tags": []
   },
   "outputs": [
    {
     "data": {
      "text/plain": [
       "<AxesSubplot:ylabel='PRODUCT'>"
      ]
     },
     "execution_count": 7,
     "metadata": {},
     "output_type": "execute_result"
    },
    {
     "data": {
      "image/png": "[encoded data removed]",
      "text/plain": [
       "<Figure size 432x288 with 1 Axes>"
      ]
     },
     "metadata": {
      "needs_background": "light"
     },
     "output_type": "display_data"
    }
   ],
   "source": [
    "df_pivot_diff.sort_values(\"stamp_2\", ascending = False)[\"stamp_2\"].head(10).plot.barh()"
   ]
  },
  {
   "cell_type": "code",
   "execution_count": null,
   "id": "extra-executive",
   "metadata": {
    "papermill": {
     "duration": 0.022206,
     "end_time": "2021-09-11T01:00:10.487113",
     "exception": false,
     "start_time": "2021-09-11T01:00:10.464907",
     "status": "completed"
    },
    "tags": []
   },
   "outputs": [],
   "source": []
  }
 ],
 "metadata": {
  "kernelspec": {
   "display_name": "Python 3",
   "language": "python",
   "name": "python3"
  },
  "language_info": {
   "codemirror_mode": {
    "name": "ipython",
    "version": 3
   },
   "file_extension": ".py",
   "mimetype": "text/x-python",
   "name": "python",
   "nbconvert_exporter": "python",
   "pygments_lexer": "ipython3",
   "version": "3.9.5"
  },
  "papermill": {
   "default_parameters": {},
   "duration": 6.535233,
   "end_time": "2021-09-11T01:00:11.128191",
   "environment_variables": {},
   "exception": null,
   "input_path": "eBay_Overview.ipynb",
   "output_path": "eBay_Overview.ipynb",
   "parameters": {},
   "start_time": "2021-09-11T01:00:04.592958",
   "version": "2.3.3"
  }
 },
 "nbformat": 4,
 "nbformat_minor": 5
}