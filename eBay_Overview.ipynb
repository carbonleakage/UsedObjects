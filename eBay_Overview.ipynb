{
 "cells": [
  {
   "cell_type": "code",
   "execution_count": 1,
   "id": "reverse-picking",
   "metadata": {
    "execution": {
     "iopub.execute_input": "2021-10-14T18:00:07.102934Z",
     "iopub.status.busy": "2021-10-14T18:00:07.100815Z",
     "iopub.status.idle": "2021-10-14T18:00:07.905500Z",
     "shell.execute_reply": "2021-10-14T18:00:07.906785Z"
    },
    "papermill": {
     "duration": 0.855833,
     "end_time": "2021-10-14T18:00:07.907408",
     "exception": false,
     "start_time": "2021-10-14T18:00:07.051575",
     "status": "completed"
    },
    "tags": []
   },
   "outputs": [],
   "source": [
    "import pandas as pd\n",
    "import sqlite3"
   ]
  },
  {
   "cell_type": "code",
   "execution_count": 2,
   "id": "innovative-syndrome",
   "metadata": {
    "execution": {
     "iopub.execute_input": "2021-10-14T18:00:07.958744Z",
     "iopub.status.busy": "2021-10-14T18:00:07.956444Z",
     "iopub.status.idle": "2021-10-14T18:00:08.487844Z",
     "shell.execute_reply": "2021-10-14T18:00:08.489130Z"
    },
    "papermill": {
     "duration": 0.560642,
     "end_time": "2021-10-14T18:00:08.489533",
     "exception": false,
     "start_time": "2021-10-14T18:00:07.928891",
     "status": "completed"
    },
    "tags": []
   },
   "outputs": [],
   "source": [
    "timestamps = pd.read_sql(\"select distinct record_time from EBAY_TOP_BERLIN order by record_time desc limit 2\", sqlite3.connect(\"UsedObjects.db\"))"
   ]
  },
  {
   "cell_type": "code",
   "execution_count": 3,
   "id": "periodic-identification",
   "metadata": {
    "execution": {
     "iopub.execute_input": "2021-10-14T18:00:08.561446Z",
     "iopub.status.busy": "2021-10-14T18:00:08.559230Z",
     "iopub.status.idle": "2021-10-14T18:00:08.580674Z",
     "shell.execute_reply": "2021-10-14T18:00:08.579272Z"
    },
    "papermill": {
     "duration": 0.072206,
     "end_time": "2021-10-14T18:00:08.581087",
     "exception": false,
     "start_time": "2021-10-14T18:00:08.508881",
     "status": "completed"
    },
    "tags": []
   },
   "outputs": [
    {
     "data": {
      "text/html": [
       "<div>\n",
       "<style scoped>\n",
       "    .dataframe tbody tr th:only-of-type {\n",
       "        vertical-align: middle;\n",
       "    }\n",
       "\n",
       "    .dataframe tbody tr th {\n",
       "        vertical-align: top;\n",
       "    }\n",
       "\n",
       "    .dataframe thead th {\n",
       "        text-align: right;\n",
       "    }\n",
       "</style>\n",
       "<table border=\"1\" class=\"dataframe\">\n",
       "  <thead>\n",
       "    <tr style=\"text-align: right;\">\n",
       "      <th></th>\n",
       "      <th>RECORD_TIME</th>\n",
       "    </tr>\n",
       "  </thead>\n",
       "  <tbody>\n",
       "    <tr>\n",
       "      <th>0</th>\n",
       "      <td>2021-10-14 20:00</td>\n",
       "    </tr>\n",
       "    <tr>\n",
       "      <th>1</th>\n",
       "      <td>2021-10-14 19:30</td>\n",
       "    </tr>\n",
       "  </tbody>\n",
       "</table>\n",
       "</div>"
      ],
      "text/plain": [
       "        RECORD_TIME\n",
       "0  2021-10-14 20:00\n",
       "1  2021-10-14 19:30"
      ]
     },
     "execution_count": 3,
     "metadata": {},
     "output_type": "execute_result"
    }
   ],
   "source": [
    "timestamps"
   ]
  },
  {
   "cell_type": "code",
   "execution_count": 4,
   "id": "alternate-victory",
   "metadata": {
    "execution": {
     "iopub.execute_input": "2021-10-14T18:00:08.631581Z",
     "iopub.status.busy": "2021-10-14T18:00:08.629743Z",
     "iopub.status.idle": "2021-10-14T18:00:09.433849Z",
     "shell.execute_reply": "2021-10-14T18:00:09.435084Z"
    },
    "papermill": {
     "duration": 0.834139,
     "end_time": "2021-10-14T18:00:09.435480",
     "exception": false,
     "start_time": "2021-10-14T18:00:08.601341",
     "status": "completed"
    },
    "tags": []
   },
   "outputs": [],
   "source": [
    "df = pd.read_sql(\"select * from EBAY_TOP_BERLIN where record_time in (select distinct record_time from EBAY_TOP_BERLIN order by record_time desc limit 2)\", sqlite3.connect(\"UsedObjects.db\"))"
   ]
  },
  {
   "cell_type": "code",
   "execution_count": 5,
   "id": "popular-active",
   "metadata": {
    "execution": {
     "iopub.execute_input": "2021-10-14T18:00:09.511009Z",
     "iopub.status.busy": "2021-10-14T18:00:09.498607Z",
     "iopub.status.idle": "2021-10-14T18:00:09.526270Z",
     "shell.execute_reply": "2021-10-14T18:00:09.527488Z"
    },
    "papermill": {
     "duration": 0.069066,
     "end_time": "2021-10-14T18:00:09.527888",
     "exception": false,
     "start_time": "2021-10-14T18:00:09.458822",
     "status": "completed"
    },
    "tags": []
   },
   "outputs": [],
   "source": [
    "df_pivot = df.pivot_table(index=\"PRODUCT\", columns = \"RECORD_TIME\", values = \"LISTING_COUNT\")"
   ]
  },
  {
   "cell_type": "code",
   "execution_count": 6,
   "id": "union-huntington",
   "metadata": {
    "execution": {
     "iopub.execute_input": "2021-10-14T18:00:09.586931Z",
     "iopub.status.busy": "2021-10-14T18:00:09.584444Z",
     "iopub.status.idle": "2021-10-14T18:00:09.590623Z",
     "shell.execute_reply": "2021-10-14T18:00:09.591908Z"
    },
    "papermill": {
     "duration": 0.042263,
     "end_time": "2021-10-14T18:00:09.592325",
     "exception": false,
     "start_time": "2021-10-14T18:00:09.550062",
     "status": "completed"
    },
    "tags": []
   },
   "outputs": [],
   "source": [
    "df_pivot.columns = [\"stamp_1\", \"stamp_2\"]\n",
    "df_pivot_diff = df_pivot.diff(axis=1)"
   ]
  },
  {
   "cell_type": "code",
   "execution_count": 7,
   "id": "fifth-motion",
   "metadata": {
    "execution": {
     "iopub.execute_input": "2021-10-14T18:00:09.646722Z",
     "iopub.status.busy": "2021-10-14T18:00:09.644200Z",
     "iopub.status.idle": "2021-10-14T18:00:11.163667Z",
     "shell.execute_reply": "2021-10-14T18:00:11.165078Z"
    },
    "papermill": {
     "duration": 1.553106,
     "end_time": "2021-10-14T18:00:11.165526",
     "exception": false,
     "start_time": "2021-10-14T18:00:09.612420",
     "status": "completed"
    },
    "tags": []
   },
   "outputs": [
    {
     "data": {
      "text/plain": [
       "<AxesSubplot:ylabel='PRODUCT'>"
      ]
     },
     "execution_count": 7,
     "metadata": {},
     "output_type": "execute_result"
    },
    {
     "data": {
      "image/png": "[encoded data removed]",
      "text/plain": [
       "<Figure size 432x288 with 1 Axes>"
      ]
     },
     "metadata": {
      "needs_background": "light"
     },
     "output_type": "display_data"
    }
   ],
   "source": [
    "df_pivot_diff.sort_values(\"stamp_2\", ascending = False)[\"stamp_2\"].head(10).plot.barh()"
   ]
  },
  {
   "cell_type": "code",
   "execution_count": null,
   "id": "extra-executive",
   "metadata": {
    "papermill": {
     "duration": 0.022061,
     "end_time": "2021-10-14T18:00:11.211315",
     "exception": false,
     "start_time": "2021-10-14T18:00:11.189254",
     "status": "completed"
    },
    "tags": []
   },
   "outputs": [],
   "source": []
  }
 ],
 "metadata": {
  "kernelspec": {
   "display_name": "Python 3",
   "language": "python",
   "name": "python3"
  },
  "language_info": {
   "codemirror_mode": {
    "name": "ipython",
    "version": 3
   },
   "file_extension": ".py",
   "mimetype": "text/x-python",
   "name": "python",
   "nbconvert_exporter": "python",
   "pygments_lexer": "ipython3",
   "version": "3.9.5"
  },
  "papermill": {
   "default_parameters": {},
   "duration": 7.832121,
   "end_time": "2021-10-14T18:00:12.477629",
   "environment_variables": {},
   "exception": null,
   "input_path": "eBay_Overview.ipynb",
   "output_path": "eBay_Overview.ipynb",
   "parameters": {},
   "start_time": "2021-10-14T18:00:04.645508",
   "version": "2.3.3"
  }
 },
 "nbformat": 4,
 "nbformat_minor": 5
}