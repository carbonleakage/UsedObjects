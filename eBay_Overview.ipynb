{
 "cells": [
  {
   "cell_type": "code",
   "execution_count": 1,
   "id": "reverse-picking",
   "metadata": {
    "execution": {
     "iopub.execute_input": "2021-11-13T06:30:07.584802Z",
     "iopub.status.busy": "2021-11-13T06:30:07.582352Z",
     "iopub.status.idle": "2021-11-13T06:30:08.541657Z",
     "shell.execute_reply": "2021-11-13T06:30:08.545195Z"
    },
    "papermill": {
     "duration": 1.010431,
     "end_time": "2021-11-13T06:30:08.546269",
     "exception": false,
     "start_time": "2021-11-13T06:30:07.535838",
     "status": "completed"
    },
    "tags": []
   },
   "outputs": [],
   "source": [
    "import pandas as pd\n",
    "import sqlite3"
   ]
  },
  {
   "cell_type": "code",
   "execution_count": 2,
   "id": "innovative-syndrome",
   "metadata": {
    "execution": {
     "iopub.execute_input": "2021-11-13T06:30:08.610115Z",
     "iopub.status.busy": "2021-11-13T06:30:08.607848Z",
     "iopub.status.idle": "2021-11-13T06:30:09.404315Z",
     "shell.execute_reply": "2021-11-13T06:30:09.406291Z"
    },
    "papermill": {
     "duration": 0.831115,
     "end_time": "2021-11-13T06:30:09.406900",
     "exception": false,
     "start_time": "2021-11-13T06:30:08.575785",
     "status": "completed"
    },
    "tags": []
   },
   "outputs": [],
   "source": [
    "timestamps = pd.read_sql(\"select distinct record_time from EBAY_TOP_BERLIN order by record_time desc limit 2\", sqlite3.connect(\"UsedObjects.db\"))"
   ]
  },
  {
   "cell_type": "code",
   "execution_count": 3,
   "id": "periodic-identification",
   "metadata": {
    "execution": {
     "iopub.execute_input": "2021-11-13T06:30:09.478870Z",
     "iopub.status.busy": "2021-11-13T06:30:09.473676Z",
     "iopub.status.idle": "2021-11-13T06:30:09.495530Z",
     "shell.execute_reply": "2021-11-13T06:30:09.497232Z"
    },
    "papermill": {
     "duration": 0.068411,
     "end_time": "2021-11-13T06:30:09.497764",
     "exception": false,
     "start_time": "2021-11-13T06:30:09.429353",
     "status": "completed"
    },
    "tags": []
   },
   "outputs": [
    {
     "data": {
      "text/html": [
       "<div>\n",
       "<style scoped>\n",
       "    .dataframe tbody tr th:only-of-type {\n",
       "        vertical-align: middle;\n",
       "    }\n",
       "\n",
       "    .dataframe tbody tr th {\n",
       "        vertical-align: top;\n",
       "    }\n",
       "\n",
       "    .dataframe thead th {\n",
       "        text-align: right;\n",
       "    }\n",
       "</style>\n",
       "<table border=\"1\" class=\"dataframe\">\n",
       "  <thead>\n",
       "    <tr style=\"text-align: right;\">\n",
       "      <th></th>\n",
       "      <th>RECORD_TIME</th>\n",
       "    </tr>\n",
       "  </thead>\n",
       "  <tbody>\n",
       "    <tr>\n",
       "      <th>0</th>\n",
       "      <td>2021-11-13 07:30</td>\n",
       "    </tr>\n",
       "    <tr>\n",
       "      <th>1</th>\n",
       "      <td>2021-11-13 07:00</td>\n",
       "    </tr>\n",
       "  </tbody>\n",
       "</table>\n",
       "</div>"
      ],
      "text/plain": [
       "        RECORD_TIME\n",
       "0  2021-11-13 07:30\n",
       "1  2021-11-13 07:00"
      ]
     },
     "execution_count": 3,
     "metadata": {},
     "output_type": "execute_result"
    }
   ],
   "source": [
    "timestamps"
   ]
  },
  {
   "cell_type": "code",
   "execution_count": 4,
   "id": "alternate-victory",
   "metadata": {
    "execution": {
     "iopub.execute_input": "2021-11-13T06:30:09.550143Z",
     "iopub.status.busy": "2021-11-13T06:30:09.548185Z",
     "iopub.status.idle": "2021-11-13T06:30:10.742558Z",
     "shell.execute_reply": "2021-11-13T06:30:10.744812Z"
    },
    "papermill": {
     "duration": 1.225254,
     "end_time": "2021-11-13T06:30:10.745322",
     "exception": false,
     "start_time": "2021-11-13T06:30:09.520068",
     "status": "completed"
    },
    "tags": []
   },
   "outputs": [],
   "source": [
    "df = pd.read_sql(\"select * from EBAY_TOP_BERLIN where record_time in (select distinct record_time from EBAY_TOP_BERLIN order by record_time desc limit 2)\", sqlite3.connect(\"UsedObjects.db\"))"
   ]
  },
  {
   "cell_type": "code",
   "execution_count": 5,
   "id": "popular-active",
   "metadata": {
    "execution": {
     "iopub.execute_input": "2021-11-13T06:30:10.823762Z",
     "iopub.status.busy": "2021-11-13T06:30:10.810615Z",
     "iopub.status.idle": "2021-11-13T06:30:10.844049Z",
     "shell.execute_reply": "2021-11-13T06:30:10.846235Z"
    },
    "papermill": {
     "duration": 0.078457,
     "end_time": "2021-11-13T06:30:10.846726",
     "exception": false,
     "start_time": "2021-11-13T06:30:10.768269",
     "status": "completed"
    },
    "tags": []
   },
   "outputs": [],
   "source": [
    "df_pivot = df.pivot_table(index=\"PRODUCT\", columns = \"RECORD_TIME\", values = \"LISTING_COUNT\")"
   ]
  },
  {
   "cell_type": "code",
   "execution_count": 6,
   "id": "union-huntington",
   "metadata": {
    "execution": {
     "iopub.execute_input": "2021-11-13T06:30:10.907947Z",
     "iopub.status.busy": "2021-11-13T06:30:10.905702Z",
     "iopub.status.idle": "2021-11-13T06:30:10.913436Z",
     "shell.execute_reply": "2021-11-13T06:30:10.910580Z"
    },
    "papermill": {
     "duration": 0.044372,
     "end_time": "2021-11-13T06:30:10.913850",
     "exception": false,
     "start_time": "2021-11-13T06:30:10.869478",
     "status": "completed"
    },
    "tags": []
   },
   "outputs": [],
   "source": [
    "df_pivot.columns = [\"stamp_1\", \"stamp_2\"]\n",
    "df_pivot_diff = df_pivot.diff(axis=1)"
   ]
  },
  {
   "cell_type": "code",
   "execution_count": 7,
   "id": "fifth-motion",
   "metadata": {
    "execution": {
     "iopub.execute_input": "2021-11-13T06:30:10.970626Z",
     "iopub.status.busy": "2021-11-13T06:30:10.967969Z",
     "iopub.status.idle": "2021-11-13T06:30:12.932406Z",
     "shell.execute_reply": "2021-11-13T06:30:12.935039Z"
    },
    "papermill": {
     "duration": 2.0022,
     "end_time": "2021-11-13T06:30:12.935814",
     "exception": false,
     "start_time": "2021-11-13T06:30:10.933614",
     "status": "completed"
    },
    "tags": []
   },
   "outputs": [
    {
     "data": {
      "text/plain": [
       "<AxesSubplot:ylabel='PRODUCT'>"
      ]
     },
     "execution_count": 7,
     "metadata": {},
     "output_type": "execute_result"
    },
    {
     "data": {
      "image/png": "[encoded data removed]",
      "text/plain": [
       "<Figure size 432x288 with 1 Axes>"
      ]
     },
     "metadata": {
      "needs_background": "light"
     },
     "output_type": "display_data"
    }
   ],
   "source": [
    "df_pivot_diff.sort_values(\"stamp_2\", ascending = False)[\"stamp_2\"].head(10).plot.barh()"
   ]
  },
  {
   "cell_type": "code",
   "execution_count": null,
   "id": "extra-executive",
   "metadata": {
    "papermill": {
     "duration": 0.03238,
     "end_time": "2021-11-13T06:30:13.005574",
     "exception": false,
     "start_time": "2021-11-13T06:30:12.973194",
     "status": "completed"
    },
    "tags": []
   },
   "outputs": [],
   "source": []
  }
 ],
 "metadata": {
  "kernelspec": {
   "display_name": "Python 3",
   "language": "python",
   "name": "python3"
  },
  "language_info": {
   "codemirror_mode": {
    "name": "ipython",
    "version": 3
   },
   "file_extension": ".py",
   "mimetype": "text/x-python",
   "name": "python",
   "nbconvert_exporter": "python",
   "pygments_lexer": "ipython3",
   "version": "3.9.5"
  },
  "papermill": {
   "default_parameters": {},
   "duration": 9.929886,
   "end_time": "2021-11-13T06:30:14.748047",
   "environment_variables": {},
   "exception": null,
   "input_path": "eBay_Overview.ipynb",
   "output_path": "eBay_Overview.ipynb",
   "parameters": {},
   "start_time": "2021-11-13T06:30:04.818161",
   "version": "2.3.3"
  }
 },
 "nbformat": 4,
 "nbformat_minor": 5
}