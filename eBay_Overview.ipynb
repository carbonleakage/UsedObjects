{
 "cells": [
  {
   "cell_type": "code",
   "execution_count": 1,
   "id": "reverse-picking",
   "metadata": {
    "execution": {
     "iopub.execute_input": "2021-10-10T04:30:06.779940Z",
     "iopub.status.busy": "2021-10-10T04:30:06.777865Z",
     "iopub.status.idle": "2021-10-10T04:30:07.589141Z",
     "shell.execute_reply": "2021-10-10T04:30:07.587325Z"
    },
    "papermill": {
     "duration": 0.860317,
     "end_time": "2021-10-10T04:30:07.589580",
     "exception": false,
     "start_time": "2021-10-10T04:30:06.729263",
     "status": "completed"
    },
    "tags": []
   },
   "outputs": [],
   "source": [
    "import pandas as pd\n",
    "import sqlite3"
   ]
  },
  {
   "cell_type": "code",
   "execution_count": 2,
   "id": "innovative-syndrome",
   "metadata": {
    "execution": {
     "iopub.execute_input": "2021-10-10T04:30:07.641813Z",
     "iopub.status.busy": "2021-10-10T04:30:07.639755Z",
     "iopub.status.idle": "2021-10-10T04:30:08.153515Z",
     "shell.execute_reply": "2021-10-10T04:30:08.154834Z"
    },
    "papermill": {
     "duration": 0.544654,
     "end_time": "2021-10-10T04:30:08.155293",
     "exception": false,
     "start_time": "2021-10-10T04:30:07.610639",
     "status": "completed"
    },
    "tags": []
   },
   "outputs": [],
   "source": [
    "timestamps = pd.read_sql(\"select distinct record_time from EBAY_TOP_BERLIN order by record_time desc limit 2\", sqlite3.connect(\"UsedObjects.db\"))"
   ]
  },
  {
   "cell_type": "code",
   "execution_count": 3,
   "id": "periodic-identification",
   "metadata": {
    "execution": {
     "iopub.execute_input": "2021-10-10T04:30:08.221114Z",
     "iopub.status.busy": "2021-10-10T04:30:08.219111Z",
     "iopub.status.idle": "2021-10-10T04:30:08.238737Z",
     "shell.execute_reply": "2021-10-10T04:30:08.240200Z"
    },
    "papermill": {
     "duration": 0.065215,
     "end_time": "2021-10-10T04:30:08.240614",
     "exception": false,
     "start_time": "2021-10-10T04:30:08.175399",
     "status": "completed"
    },
    "tags": []
   },
   "outputs": [
    {
     "data": {
      "text/html": [
       "<div>\n",
       "<style scoped>\n",
       "    .dataframe tbody tr th:only-of-type {\n",
       "        vertical-align: middle;\n",
       "    }\n",
       "\n",
       "    .dataframe tbody tr th {\n",
       "        vertical-align: top;\n",
       "    }\n",
       "\n",
       "    .dataframe thead th {\n",
       "        text-align: right;\n",
       "    }\n",
       "</style>\n",
       "<table border=\"1\" class=\"dataframe\">\n",
       "  <thead>\n",
       "    <tr style=\"text-align: right;\">\n",
       "      <th></th>\n",
       "      <th>RECORD_TIME</th>\n",
       "    </tr>\n",
       "  </thead>\n",
       "  <tbody>\n",
       "    <tr>\n",
       "      <th>0</th>\n",
       "      <td>2021-10-10 06:30</td>\n",
       "    </tr>\n",
       "    <tr>\n",
       "      <th>1</th>\n",
       "      <td>2021-10-10 06:00</td>\n",
       "    </tr>\n",
       "  </tbody>\n",
       "</table>\n",
       "</div>"
      ],
      "text/plain": [
       "        RECORD_TIME\n",
       "0  2021-10-10 06:30\n",
       "1  2021-10-10 06:00"
      ]
     },
     "execution_count": 3,
     "metadata": {},
     "output_type": "execute_result"
    }
   ],
   "source": [
    "timestamps"
   ]
  },
  {
   "cell_type": "code",
   "execution_count": 4,
   "id": "alternate-victory",
   "metadata": {
    "execution": {
     "iopub.execute_input": "2021-10-10T04:30:08.301533Z",
     "iopub.status.busy": "2021-10-10T04:30:08.299683Z",
     "iopub.status.idle": "2021-10-10T04:30:09.020101Z",
     "shell.execute_reply": "2021-10-10T04:30:09.021363Z"
    },
    "papermill": {
     "duration": 0.754235,
     "end_time": "2021-10-10T04:30:09.021752",
     "exception": false,
     "start_time": "2021-10-10T04:30:08.267517",
     "status": "completed"
    },
    "tags": []
   },
   "outputs": [],
   "source": [
    "df = pd.read_sql(\"select * from EBAY_TOP_BERLIN where record_time in (select distinct record_time from EBAY_TOP_BERLIN order by record_time desc limit 2)\", sqlite3.connect(\"UsedObjects.db\"))"
   ]
  },
  {
   "cell_type": "code",
   "execution_count": 5,
   "id": "popular-active",
   "metadata": {
    "execution": {
     "iopub.execute_input": "2021-10-10T04:30:09.094023Z",
     "iopub.status.busy": "2021-10-10T04:30:09.081159Z",
     "iopub.status.idle": "2021-10-10T04:30:09.109627Z",
     "shell.execute_reply": "2021-10-10T04:30:09.110980Z"
    },
    "papermill": {
     "duration": 0.069033,
     "end_time": "2021-10-10T04:30:09.111395",
     "exception": false,
     "start_time": "2021-10-10T04:30:09.042362",
     "status": "completed"
    },
    "tags": []
   },
   "outputs": [],
   "source": [
    "df_pivot = df.pivot_table(index=\"PRODUCT\", columns = \"RECORD_TIME\", values = \"LISTING_COUNT\")"
   ]
  },
  {
   "cell_type": "code",
   "execution_count": 6,
   "id": "union-huntington",
   "metadata": {
    "execution": {
     "iopub.execute_input": "2021-10-10T04:30:09.170322Z",
     "iopub.status.busy": "2021-10-10T04:30:09.168062Z",
     "iopub.status.idle": "2021-10-10T04:30:09.173672Z",
     "shell.execute_reply": "2021-10-10T04:30:09.175024Z"
    },
    "papermill": {
     "duration": 0.042683,
     "end_time": "2021-10-10T04:30:09.175450",
     "exception": false,
     "start_time": "2021-10-10T04:30:09.132767",
     "status": "completed"
    },
    "tags": []
   },
   "outputs": [],
   "source": [
    "df_pivot.columns = [\"stamp_1\", \"stamp_2\"]\n",
    "df_pivot_diff = df_pivot.diff(axis=1)"
   ]
  },
  {
   "cell_type": "code",
   "execution_count": 7,
   "id": "fifth-motion",
   "metadata": {
    "execution": {
     "iopub.execute_input": "2021-10-10T04:30:09.230001Z",
     "iopub.status.busy": "2021-10-10T04:30:09.227729Z",
     "iopub.status.idle": "2021-10-10T04:30:10.705627Z",
     "shell.execute_reply": "2021-10-10T04:30:10.707144Z"
    },
    "papermill": {
     "duration": 1.511782,
     "end_time": "2021-10-10T04:30:10.707613",
     "exception": false,
     "start_time": "2021-10-10T04:30:09.195831",
     "status": "completed"
    },
    "tags": []
   },
   "outputs": [
    {
     "data": {
      "text/plain": [
       "<AxesSubplot:ylabel='PRODUCT'>"
      ]
     },
     "execution_count": 7,
     "metadata": {},
     "output_type": "execute_result"
    },
    {
     "data": {
      "image/png": "[encoded data removed]",
      "text/plain": [
       "<Figure size 432x288 with 1 Axes>"
      ]
     },
     "metadata": {
      "needs_background": "light"
     },
     "output_type": "display_data"
    }
   ],
   "source": [
    "df_pivot_diff.sort_values(\"stamp_2\", ascending = False)[\"stamp_2\"].head(10).plot.barh()"
   ]
  },
  {
   "cell_type": "code",
   "execution_count": null,
   "id": "extra-executive",
   "metadata": {
    "papermill": {
     "duration": 0.022534,
     "end_time": "2021-10-10T04:30:10.754839",
     "exception": false,
     "start_time": "2021-10-10T04:30:10.732305",
     "status": "completed"
    },
    "tags": []
   },
   "outputs": [],
   "source": []
  }
 ],
 "metadata": {
  "kernelspec": {
   "display_name": "Python 3",
   "language": "python",
   "name": "python3"
  },
  "language_info": {
   "codemirror_mode": {
    "name": "ipython",
    "version": 3
   },
   "file_extension": ".py",
   "mimetype": "text/x-python",
   "name": "python",
   "nbconvert_exporter": "python",
   "pygments_lexer": "ipython3",
   "version": "3.9.5"
  },
  "papermill": {
   "default_parameters": {},
   "duration": 7.829671,
   "end_time": "2021-10-10T04:30:12.155070",
   "environment_variables": {},
   "exception": null,
   "input_path": "eBay_Overview.ipynb",
   "output_path": "eBay_Overview.ipynb",
   "parameters": {},
   "start_time": "2021-10-10T04:30:04.325399",
   "version": "2.3.3"
  }
 },
 "nbformat": 4,
 "nbformat_minor": 5
}