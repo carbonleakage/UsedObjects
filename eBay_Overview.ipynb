{
 "cells": [
  {
   "cell_type": "code",
   "execution_count": 1,
   "id": "reverse-picking",
   "metadata": {
    "execution": {
     "iopub.execute_input": "2021-09-11T00:30:07.433763Z",
     "iopub.status.busy": "2021-09-11T00:30:07.431808Z",
     "iopub.status.idle": "2021-09-11T00:30:08.241394Z",
     "shell.execute_reply": "2021-09-11T00:30:08.242661Z"
    },
    "papermill": {
     "duration": 0.862097,
     "end_time": "2021-09-11T00:30:08.243541",
     "exception": false,
     "start_time": "2021-09-11T00:30:07.381444",
     "status": "completed"
    },
    "tags": []
   },
   "outputs": [],
   "source": [
    "import pandas as pd\n",
    "import sqlite3"
   ]
  },
  {
   "cell_type": "code",
   "execution_count": 2,
   "id": "innovative-syndrome",
   "metadata": {
    "execution": {
     "iopub.execute_input": "2021-09-11T00:30:08.294535Z",
     "iopub.status.busy": "2021-09-11T00:30:08.292230Z",
     "iopub.status.idle": "2021-09-11T00:30:08.557571Z",
     "shell.execute_reply": "2021-09-11T00:30:08.558851Z"
    },
    "papermill": {
     "duration": 0.295573,
     "end_time": "2021-09-11T00:30:08.559337",
     "exception": false,
     "start_time": "2021-09-11T00:30:08.263764",
     "status": "completed"
    },
    "tags": []
   },
   "outputs": [],
   "source": [
    "timestamps = pd.read_sql(\"select distinct record_time from EBAY_TOP_BERLIN order by record_time desc limit 2\", sqlite3.connect(\"UsedObjects.db\"))"
   ]
  },
  {
   "cell_type": "code",
   "execution_count": 3,
   "id": "periodic-identification",
   "metadata": {
    "execution": {
     "iopub.execute_input": "2021-09-11T00:30:08.625069Z",
     "iopub.status.busy": "2021-09-11T00:30:08.623018Z",
     "iopub.status.idle": "2021-09-11T00:30:08.642766Z",
     "shell.execute_reply": "2021-09-11T00:30:08.644072Z"
    },
    "papermill": {
     "duration": 0.065365,
     "end_time": "2021-09-11T00:30:08.644473",
     "exception": false,
     "start_time": "2021-09-11T00:30:08.579108",
     "status": "completed"
    },
    "tags": []
   },
   "outputs": [
    {
     "data": {
      "text/html": [
       "<div>\n",
       "<style scoped>\n",
       "    .dataframe tbody tr th:only-of-type {\n",
       "        vertical-align: middle;\n",
       "    }\n",
       "\n",
       "    .dataframe tbody tr th {\n",
       "        vertical-align: top;\n",
       "    }\n",
       "\n",
       "    .dataframe thead th {\n",
       "        text-align: right;\n",
       "    }\n",
       "</style>\n",
       "<table border=\"1\" class=\"dataframe\">\n",
       "  <thead>\n",
       "    <tr style=\"text-align: right;\">\n",
       "      <th></th>\n",
       "      <th>RECORD_TIME</th>\n",
       "    </tr>\n",
       "  </thead>\n",
       "  <tbody>\n",
       "    <tr>\n",
       "      <th>0</th>\n",
       "      <td>2021-09-11 02:30</td>\n",
       "    </tr>\n",
       "    <tr>\n",
       "      <th>1</th>\n",
       "      <td>2021-09-11 02:00</td>\n",
       "    </tr>\n",
       "  </tbody>\n",
       "</table>\n",
       "</div>"
      ],
      "text/plain": [
       "        RECORD_TIME\n",
       "0  2021-09-11 02:30\n",
       "1  2021-09-11 02:00"
      ]
     },
     "execution_count": 3,
     "metadata": {},
     "output_type": "execute_result"
    }
   ],
   "source": [
    "timestamps"
   ]
  },
  {
   "cell_type": "code",
   "execution_count": 4,
   "id": "alternate-victory",
   "metadata": {
    "execution": {
     "iopub.execute_input": "2021-09-11T00:30:08.697336Z",
     "iopub.status.busy": "2021-09-11T00:30:08.695164Z",
     "iopub.status.idle": "2021-09-11T00:30:09.078244Z",
     "shell.execute_reply": "2021-09-11T00:30:09.079821Z"
    },
    "papermill": {
     "duration": 0.41386,
     "end_time": "2021-09-11T00:30:09.080270",
     "exception": false,
     "start_time": "2021-09-11T00:30:08.666410",
     "status": "completed"
    },
    "tags": []
   },
   "outputs": [],
   "source": [
    "df = pd.read_sql(\"select * from EBAY_TOP_BERLIN where record_time in (select distinct record_time from EBAY_TOP_BERLIN order by record_time desc limit 2)\", sqlite3.connect(\"UsedObjects.db\"))"
   ]
  },
  {
   "cell_type": "code",
   "execution_count": 5,
   "id": "popular-active",
   "metadata": {
    "execution": {
     "iopub.execute_input": "2021-09-11T00:30:09.150244Z",
     "iopub.status.busy": "2021-09-11T00:30:09.148053Z",
     "iopub.status.idle": "2021-09-11T00:30:09.175791Z",
     "shell.execute_reply": "2021-09-11T00:30:09.177023Z"
    },
    "papermill": {
     "duration": 0.071111,
     "end_time": "2021-09-11T00:30:09.177419",
     "exception": false,
     "start_time": "2021-09-11T00:30:09.106308",
     "status": "completed"
    },
    "tags": []
   },
   "outputs": [],
   "source": [
    "df_pivot = df.pivot_table(index=\"PRODUCT\", columns = \"RECORD_TIME\", values = \"LISTING_COUNT\")"
   ]
  },
  {
   "cell_type": "code",
   "execution_count": 6,
   "id": "union-huntington",
   "metadata": {
    "execution": {
     "iopub.execute_input": "2021-09-11T00:30:09.234920Z",
     "iopub.status.busy": "2021-09-11T00:30:09.232840Z",
     "iopub.status.idle": "2021-09-11T00:30:09.238297Z",
     "shell.execute_reply": "2021-09-11T00:30:09.239727Z"
    },
    "papermill": {
     "duration": 0.041034,
     "end_time": "2021-09-11T00:30:09.240187",
     "exception": false,
     "start_time": "2021-09-11T00:30:09.199153",
     "status": "completed"
    },
    "tags": []
   },
   "outputs": [],
   "source": [
    "df_pivot.columns = [\"stamp_1\", \"stamp_2\"]\n",
    "df_pivot_diff = df_pivot.diff(axis=1)"
   ]
  },
  {
   "cell_type": "code",
   "execution_count": 7,
   "id": "fifth-motion",
   "metadata": {
    "execution": {
     "iopub.execute_input": "2021-09-11T00:30:09.297238Z",
     "iopub.status.busy": "2021-09-11T00:30:09.294779Z",
     "iopub.status.idle": "2021-09-11T00:30:10.826011Z",
     "shell.execute_reply": "2021-09-11T00:30:10.827659Z"
    },
    "papermill": {
     "duration": 1.565127,
     "end_time": "2021-09-11T00:30:10.828124",
     "exception": false,
     "start_time": "2021-09-11T00:30:09.262997",
     "status": "completed"
    },
    "tags": []
   },
   "outputs": [
    {
     "data": {
      "text/plain": [
       "<AxesSubplot:ylabel='PRODUCT'>"
      ]
     },
     "execution_count": 7,
     "metadata": {},
     "output_type": "execute_result"
    },
    {
     "data": {
      "image/png": "[encoded data removed]",
      "text/plain": [
       "<Figure size 432x288 with 1 Axes>"
      ]
     },
     "metadata": {
      "needs_background": "light"
     },
     "output_type": "display_data"
    }
   ],
   "source": [
    "df_pivot_diff.sort_values(\"stamp_2\", ascending = False)[\"stamp_2\"].head(10).plot.barh()"
   ]
  },
  {
   "cell_type": "code",
   "execution_count": null,
   "id": "extra-executive",
   "metadata": {
    "papermill": {
     "duration": 0.022556,
     "end_time": "2021-09-11T00:30:10.876906",
     "exception": false,
     "start_time": "2021-09-11T00:30:10.854350",
     "status": "completed"
    },
    "tags": []
   },
   "outputs": [],
   "source": []
  }
 ],
 "metadata": {
  "kernelspec": {
   "display_name": "Python 3",
   "language": "python",
   "name": "python3"
  },
  "language_info": {
   "codemirror_mode": {
    "name": "ipython",
    "version": 3
   },
   "file_extension": ".py",
   "mimetype": "text/x-python",
   "name": "python",
   "nbconvert_exporter": "python",
   "pygments_lexer": "ipython3",
   "version": "3.9.5"
  },
  "papermill": {
   "default_parameters": {},
   "duration": 6.549785,
   "end_time": "2021-09-11T00:30:11.517872",
   "environment_variables": {},
   "exception": null,
   "input_path": "eBay_Overview.ipynb",
   "output_path": "eBay_Overview.ipynb",
   "parameters": {},
   "start_time": "2021-09-11T00:30:04.968087",
   "version": "2.3.3"
  }
 },
 "nbformat": 4,
 "nbformat_minor": 5
}