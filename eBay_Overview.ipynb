{
 "cells": [
  {
   "cell_type": "code",
   "execution_count": 1,
   "id": "reverse-picking",
   "metadata": {
    "execution": {
     "iopub.execute_input": "2021-09-27T05:30:06.602393Z",
     "iopub.status.busy": "2021-09-27T05:30:06.600425Z",
     "iopub.status.idle": "2021-09-27T05:30:07.408477Z",
     "shell.execute_reply": "2021-09-27T05:30:07.409715Z"
    },
    "papermill": {
     "duration": 0.859819,
     "end_time": "2021-09-27T05:30:07.410330",
     "exception": false,
     "start_time": "2021-09-27T05:30:06.550511",
     "status": "completed"
    },
    "tags": []
   },
   "outputs": [],
   "source": [
    "import pandas as pd\n",
    "import sqlite3"
   ]
  },
  {
   "cell_type": "code",
   "execution_count": 2,
   "id": "innovative-syndrome",
   "metadata": {
    "execution": {
     "iopub.execute_input": "2021-09-27T05:30:07.459910Z",
     "iopub.status.busy": "2021-09-27T05:30:07.457921Z",
     "iopub.status.idle": "2021-09-27T05:30:07.843154Z",
     "shell.execute_reply": "2021-09-27T05:30:07.844463Z"
    },
    "papermill": {
     "duration": 0.414703,
     "end_time": "2021-09-27T05:30:07.844926",
     "exception": false,
     "start_time": "2021-09-27T05:30:07.430223",
     "status": "completed"
    },
    "tags": []
   },
   "outputs": [],
   "source": [
    "timestamps = pd.read_sql(\"select distinct record_time from EBAY_TOP_BERLIN order by record_time desc limit 2\", sqlite3.connect(\"UsedObjects.db\"))"
   ]
  },
  {
   "cell_type": "code",
   "execution_count": 3,
   "id": "periodic-identification",
   "metadata": {
    "execution": {
     "iopub.execute_input": "2021-09-27T05:30:07.910851Z",
     "iopub.status.busy": "2021-09-27T05:30:07.908787Z",
     "iopub.status.idle": "2021-09-27T05:30:07.928505Z",
     "shell.execute_reply": "2021-09-27T05:30:07.929806Z"
    },
    "papermill": {
     "duration": 0.065639,
     "end_time": "2021-09-27T05:30:07.930224",
     "exception": false,
     "start_time": "2021-09-27T05:30:07.864585",
     "status": "completed"
    },
    "tags": []
   },
   "outputs": [
    {
     "data": {
      "text/html": [
       "<div>\n",
       "<style scoped>\n",
       "    .dataframe tbody tr th:only-of-type {\n",
       "        vertical-align: middle;\n",
       "    }\n",
       "\n",
       "    .dataframe tbody tr th {\n",
       "        vertical-align: top;\n",
       "    }\n",
       "\n",
       "    .dataframe thead th {\n",
       "        text-align: right;\n",
       "    }\n",
       "</style>\n",
       "<table border=\"1\" class=\"dataframe\">\n",
       "  <thead>\n",
       "    <tr style=\"text-align: right;\">\n",
       "      <th></th>\n",
       "      <th>RECORD_TIME</th>\n",
       "    </tr>\n",
       "  </thead>\n",
       "  <tbody>\n",
       "    <tr>\n",
       "      <th>0</th>\n",
       "      <td>2021-09-27 07:30</td>\n",
       "    </tr>\n",
       "    <tr>\n",
       "      <th>1</th>\n",
       "      <td>2021-09-27 07:00</td>\n",
       "    </tr>\n",
       "  </tbody>\n",
       "</table>\n",
       "</div>"
      ],
      "text/plain": [
       "        RECORD_TIME\n",
       "0  2021-09-27 07:30\n",
       "1  2021-09-27 07:00"
      ]
     },
     "execution_count": 3,
     "metadata": {},
     "output_type": "execute_result"
    }
   ],
   "source": [
    "timestamps"
   ]
  },
  {
   "cell_type": "code",
   "execution_count": 4,
   "id": "alternate-victory",
   "metadata": {
    "execution": {
     "iopub.execute_input": "2021-09-27T05:30:07.980471Z",
     "iopub.status.busy": "2021-09-27T05:30:07.978519Z",
     "iopub.status.idle": "2021-09-27T05:30:08.556651Z",
     "shell.execute_reply": "2021-09-27T05:30:08.557871Z"
    },
    "papermill": {
     "duration": 0.607836,
     "end_time": "2021-09-27T05:30:08.558264",
     "exception": false,
     "start_time": "2021-09-27T05:30:07.950428",
     "status": "completed"
    },
    "tags": []
   },
   "outputs": [],
   "source": [
    "df = pd.read_sql(\"select * from EBAY_TOP_BERLIN where record_time in (select distinct record_time from EBAY_TOP_BERLIN order by record_time desc limit 2)\", sqlite3.connect(\"UsedObjects.db\"))"
   ]
  },
  {
   "cell_type": "code",
   "execution_count": 5,
   "id": "popular-active",
   "metadata": {
    "execution": {
     "iopub.execute_input": "2021-09-27T05:30:08.626981Z",
     "iopub.status.busy": "2021-09-27T05:30:08.624722Z",
     "iopub.status.idle": "2021-09-27T05:30:08.654342Z",
     "shell.execute_reply": "2021-09-27T05:30:08.655799Z"
    },
    "papermill": {
     "duration": 0.071845,
     "end_time": "2021-09-27T05:30:08.656254",
     "exception": false,
     "start_time": "2021-09-27T05:30:08.584409",
     "status": "completed"
    },
    "tags": []
   },
   "outputs": [],
   "source": [
    "df_pivot = df.pivot_table(index=\"PRODUCT\", columns = \"RECORD_TIME\", values = \"LISTING_COUNT\")"
   ]
  },
  {
   "cell_type": "code",
   "execution_count": 6,
   "id": "union-huntington",
   "metadata": {
    "execution": {
     "iopub.execute_input": "2021-09-27T05:30:08.713433Z",
     "iopub.status.busy": "2021-09-27T05:30:08.710941Z",
     "iopub.status.idle": "2021-09-27T05:30:08.716934Z",
     "shell.execute_reply": "2021-09-27T05:30:08.718387Z"
    },
    "papermill": {
     "duration": 0.042424,
     "end_time": "2021-09-27T05:30:08.718905",
     "exception": false,
     "start_time": "2021-09-27T05:30:08.676481",
     "status": "completed"
    },
    "tags": []
   },
   "outputs": [],
   "source": [
    "df_pivot.columns = [\"stamp_1\", \"stamp_2\"]\n",
    "df_pivot_diff = df_pivot.diff(axis=1)"
   ]
  },
  {
   "cell_type": "code",
   "execution_count": 7,
   "id": "fifth-motion",
   "metadata": {
    "execution": {
     "iopub.execute_input": "2021-09-27T05:30:08.773301Z",
     "iopub.status.busy": "2021-09-27T05:30:08.770901Z",
     "iopub.status.idle": "2021-09-27T05:30:10.286469Z",
     "shell.execute_reply": "2021-09-27T05:30:10.287997Z"
    },
    "papermill": {
     "duration": 1.54848,
     "end_time": "2021-09-27T05:30:10.288467",
     "exception": false,
     "start_time": "2021-09-27T05:30:08.739987",
     "status": "completed"
    },
    "tags": []
   },
   "outputs": [
    {
     "data": {
      "text/plain": [
       "<AxesSubplot:ylabel='PRODUCT'>"
      ]
     },
     "execution_count": 7,
     "metadata": {},
     "output_type": "execute_result"
    },
    {
     "data": {
      "image/png": "[encoded data removed]",
      "text/plain": [
       "<Figure size 432x288 with 1 Axes>"
      ]
     },
     "metadata": {
      "needs_background": "light"
     },
     "output_type": "display_data"
    }
   ],
   "source": [
    "df_pivot_diff.sort_values(\"stamp_2\", ascending = False)[\"stamp_2\"].head(10).plot.barh()"
   ]
  },
  {
   "cell_type": "code",
   "execution_count": null,
   "id": "extra-executive",
   "metadata": {
    "papermill": {
     "duration": 0.021972,
     "end_time": "2021-09-27T05:30:10.334830",
     "exception": false,
     "start_time": "2021-09-27T05:30:10.312858",
     "status": "completed"
    },
    "tags": []
   },
   "outputs": [],
   "source": []
  }
 ],
 "metadata": {
  "kernelspec": {
   "display_name": "Python 3",
   "language": "python",
   "name": "python3"
  },
  "language_info": {
   "codemirror_mode": {
    "name": "ipython",
    "version": 3
   },
   "file_extension": ".py",
   "mimetype": "text/x-python",
   "name": "python",
   "nbconvert_exporter": "python",
   "pygments_lexer": "ipython3",
   "version": "3.9.5"
  },
  "papermill": {
   "default_parameters": {},
   "duration": 7.820707,
   "end_time": "2021-09-27T05:30:11.974234",
   "environment_variables": {},
   "exception": null,
   "input_path": "eBay_Overview.ipynb",
   "output_path": "eBay_Overview.ipynb",
   "parameters": {},
   "start_time": "2021-09-27T05:30:04.153527",
   "version": "2.3.3"
  }
 },
 "nbformat": 4,
 "nbformat_minor": 5
}