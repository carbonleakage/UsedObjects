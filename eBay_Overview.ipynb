{
 "cells": [
  {
   "cell_type": "code",
   "execution_count": 1,
   "id": "reverse-picking",
   "metadata": {
    "execution": {
     "iopub.execute_input": "2021-12-06T03:30:08.078536Z",
     "iopub.status.busy": "2021-12-06T03:30:08.076025Z",
     "iopub.status.idle": "2021-12-06T03:30:09.015696Z",
     "shell.execute_reply": "2021-12-06T03:30:09.017272Z"
    },
    "papermill": {
     "duration": 0.990067,
     "end_time": "2021-12-06T03:30:09.018035",
     "exception": false,
     "start_time": "2021-12-06T03:30:08.027968",
     "status": "completed"
    },
    "tags": []
   },
   "outputs": [],
   "source": [
    "import pandas as pd\n",
    "import sqlite3"
   ]
  },
  {
   "cell_type": "code",
   "execution_count": 2,
   "id": "innovative-syndrome",
   "metadata": {
    "execution": {
     "iopub.execute_input": "2021-12-06T03:30:09.079691Z",
     "iopub.status.busy": "2021-12-06T03:30:09.077454Z",
     "iopub.status.idle": "2021-12-06T03:30:10.086706Z",
     "shell.execute_reply": "2021-12-06T03:30:10.088473Z"
    },
    "papermill": {
     "duration": 1.043218,
     "end_time": "2021-12-06T03:30:10.089069",
     "exception": false,
     "start_time": "2021-12-06T03:30:09.045851",
     "status": "completed"
    },
    "tags": []
   },
   "outputs": [],
   "source": [
    "timestamps = pd.read_sql(\"select distinct record_time from EBAY_TOP_BERLIN order by record_time desc limit 2\", sqlite3.connect(\"UsedObjects.db\"))"
   ]
  },
  {
   "cell_type": "code",
   "execution_count": 3,
   "id": "periodic-identification",
   "metadata": {
    "execution": {
     "iopub.execute_input": "2021-12-06T03:30:10.162314Z",
     "iopub.status.busy": "2021-12-06T03:30:10.159950Z",
     "iopub.status.idle": "2021-12-06T03:30:10.182612Z",
     "shell.execute_reply": "2021-12-06T03:30:10.184129Z"
    },
    "papermill": {
     "duration": 0.073503,
     "end_time": "2021-12-06T03:30:10.184718",
     "exception": false,
     "start_time": "2021-12-06T03:30:10.111215",
     "status": "completed"
    },
    "tags": []
   },
   "outputs": [
    {
     "data": {
      "text/html": [
       "<div>\n",
       "<style scoped>\n",
       "    .dataframe tbody tr th:only-of-type {\n",
       "        vertical-align: middle;\n",
       "    }\n",
       "\n",
       "    .dataframe tbody tr th {\n",
       "        vertical-align: top;\n",
       "    }\n",
       "\n",
       "    .dataframe thead th {\n",
       "        text-align: right;\n",
       "    }\n",
       "</style>\n",
       "<table border=\"1\" class=\"dataframe\">\n",
       "  <thead>\n",
       "    <tr style=\"text-align: right;\">\n",
       "      <th></th>\n",
       "      <th>RECORD_TIME</th>\n",
       "    </tr>\n",
       "  </thead>\n",
       "  <tbody>\n",
       "    <tr>\n",
       "      <th>0</th>\n",
       "      <td>2021-12-06 04:30</td>\n",
       "    </tr>\n",
       "    <tr>\n",
       "      <th>1</th>\n",
       "      <td>2021-12-06 04:00</td>\n",
       "    </tr>\n",
       "  </tbody>\n",
       "</table>\n",
       "</div>"
      ],
      "text/plain": [
       "        RECORD_TIME\n",
       "0  2021-12-06 04:30\n",
       "1  2021-12-06 04:00"
      ]
     },
     "execution_count": 3,
     "metadata": {},
     "output_type": "execute_result"
    }
   ],
   "source": [
    "timestamps"
   ]
  },
  {
   "cell_type": "code",
   "execution_count": 4,
   "id": "alternate-victory",
   "metadata": {
    "execution": {
     "iopub.execute_input": "2021-12-06T03:30:10.240103Z",
     "iopub.status.busy": "2021-12-06T03:30:10.237857Z",
     "iopub.status.idle": "2021-12-06T03:30:11.703873Z",
     "shell.execute_reply": "2021-12-06T03:30:11.705688Z"
    },
    "papermill": {
     "duration": 1.500655,
     "end_time": "2021-12-06T03:30:11.706187",
     "exception": false,
     "start_time": "2021-12-06T03:30:10.205532",
     "status": "completed"
    },
    "tags": []
   },
   "outputs": [],
   "source": [
    "df = pd.read_sql(\"select * from EBAY_TOP_BERLIN where record_time in (select distinct record_time from EBAY_TOP_BERLIN order by record_time desc limit 2)\", sqlite3.connect(\"UsedObjects.db\"))"
   ]
  },
  {
   "cell_type": "code",
   "execution_count": 5,
   "id": "popular-active",
   "metadata": {
    "execution": {
     "iopub.execute_input": "2021-12-06T03:30:11.781437Z",
     "iopub.status.busy": "2021-12-06T03:30:11.767557Z",
     "iopub.status.idle": "2021-12-06T03:30:11.799745Z",
     "shell.execute_reply": "2021-12-06T03:30:11.801600Z"
    },
    "papermill": {
     "duration": 0.075422,
     "end_time": "2021-12-06T03:30:11.802178",
     "exception": false,
     "start_time": "2021-12-06T03:30:11.726756",
     "status": "completed"
    },
    "tags": []
   },
   "outputs": [],
   "source": [
    "df_pivot = df.pivot_table(index=\"PRODUCT\", columns = \"RECORD_TIME\", values = \"LISTING_COUNT\")"
   ]
  },
  {
   "cell_type": "code",
   "execution_count": 6,
   "id": "union-huntington",
   "metadata": {
    "execution": {
     "iopub.execute_input": "2021-12-06T03:30:11.866135Z",
     "iopub.status.busy": "2021-12-06T03:30:11.863511Z",
     "iopub.status.idle": "2021-12-06T03:30:11.870324Z",
     "shell.execute_reply": "2021-12-06T03:30:11.871866Z"
    },
    "papermill": {
     "duration": 0.046354,
     "end_time": "2021-12-06T03:30:11.872419",
     "exception": false,
     "start_time": "2021-12-06T03:30:11.826065",
     "status": "completed"
    },
    "tags": []
   },
   "outputs": [],
   "source": [
    "df_pivot.columns = [\"stamp_1\", \"stamp_2\"]\n",
    "df_pivot_diff = df_pivot.diff(axis=1)"
   ]
  },
  {
   "cell_type": "code",
   "execution_count": 7,
   "id": "fifth-motion",
   "metadata": {
    "execution": {
     "iopub.execute_input": "2021-12-06T03:30:11.939313Z",
     "iopub.status.busy": "2021-12-06T03:30:11.936414Z",
     "iopub.status.idle": "2021-12-06T03:30:13.870334Z",
     "shell.execute_reply": "2021-12-06T03:30:13.872138Z"
    },
    "papermill": {
     "duration": 1.972879,
     "end_time": "2021-12-06T03:30:13.872821",
     "exception": false,
     "start_time": "2021-12-06T03:30:11.899942",
     "status": "completed"
    },
    "tags": []
   },
   "outputs": [
    {
     "data": {
      "text/plain": [
       "<AxesSubplot:ylabel='PRODUCT'>"
      ]
     },
     "execution_count": 7,
     "metadata": {},
     "output_type": "execute_result"
    },
    {
     "data": {
      "image/png": "[encoded data removed]",
      "text/plain": [
       "<Figure size 432x288 with 1 Axes>"
      ]
     },
     "metadata": {
      "needs_background": "light"
     },
     "output_type": "display_data"
    }
   ],
   "source": [
    "df_pivot_diff.sort_values(\"stamp_2\", ascending = False)[\"stamp_2\"].head(10).plot.barh()"
   ]
  },
  {
   "cell_type": "code",
   "execution_count": null,
   "id": "extra-executive",
   "metadata": {
    "papermill": {
     "duration": 0.034887,
     "end_time": "2021-12-06T03:30:13.935813",
     "exception": false,
     "start_time": "2021-12-06T03:30:13.900926",
     "status": "completed"
    },
    "tags": []
   },
   "outputs": [],
   "source": []
  }
 ],
 "metadata": {
  "kernelspec": {
   "display_name": "Python 3",
   "language": "python",
   "name": "python3"
  },
  "language_info": {
   "codemirror_mode": {
    "name": "ipython",
    "version": 3
   },
   "file_extension": ".py",
   "mimetype": "text/x-python",
   "name": "python",
   "nbconvert_exporter": "python",
   "pygments_lexer": "ipython3",
   "version": "3.9.5"
  },
  "papermill": {
   "default_parameters": {},
   "duration": 9.936842,
   "end_time": "2021-12-06T03:30:15.230442",
   "environment_variables": {},
   "exception": null,
   "input_path": "eBay_Overview.ipynb",
   "output_path": "eBay_Overview.ipynb",
   "parameters": {},
   "start_time": "2021-12-06T03:30:05.293600",
   "version": "2.3.3"
  }
 },
 "nbformat": 4,
 "nbformat_minor": 5
}