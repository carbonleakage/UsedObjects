{
 "cells": [
  {
   "cell_type": "code",
   "execution_count": 1,
   "id": "reverse-picking",
   "metadata": {
    "execution": {
     "iopub.execute_input": "2021-08-25T07:00:06.769974Z",
     "iopub.status.busy": "2021-08-25T07:00:06.768028Z",
     "iopub.status.idle": "2021-08-25T07:00:07.576157Z",
     "shell.execute_reply": "2021-08-25T07:00:07.577401Z"
    },
    "papermill": {
     "duration": 0.860218,
     "end_time": "2021-08-25T07:00:07.578075",
     "exception": false,
     "start_time": "2021-08-25T07:00:06.717857",
     "status": "completed"
    },
    "tags": []
   },
   "outputs": [],
   "source": [
    "import pandas as pd\n",
    "import sqlite3"
   ]
  },
  {
   "cell_type": "code",
   "execution_count": 2,
   "id": "innovative-syndrome",
   "metadata": {
    "execution": {
     "iopub.execute_input": "2021-08-25T07:00:07.627858Z",
     "iopub.status.busy": "2021-08-25T07:00:07.625975Z",
     "iopub.status.idle": "2021-08-25T07:00:07.750715Z",
     "shell.execute_reply": "2021-08-25T07:00:07.752103Z"
    },
    "papermill": {
     "duration": 0.154358,
     "end_time": "2021-08-25T07:00:07.752543",
     "exception": false,
     "start_time": "2021-08-25T07:00:07.598185",
     "status": "completed"
    },
    "tags": []
   },
   "outputs": [],
   "source": [
    "timestamps = pd.read_sql(\"select distinct record_time from EBAY_TOP_BERLIN order by record_time desc limit 2\", sqlite3.connect(\"UsedObjects.db\"))"
   ]
  },
  {
   "cell_type": "code",
   "execution_count": 3,
   "id": "periodic-identification",
   "metadata": {
    "execution": {
     "iopub.execute_input": "2021-08-25T07:00:07.819092Z",
     "iopub.status.busy": "2021-08-25T07:00:07.816997Z",
     "iopub.status.idle": "2021-08-25T07:00:07.839249Z",
     "shell.execute_reply": "2021-08-25T07:00:07.840469Z"
    },
    "papermill": {
     "duration": 0.068677,
     "end_time": "2021-08-25T07:00:07.840868",
     "exception": false,
     "start_time": "2021-08-25T07:00:07.772191",
     "status": "completed"
    },
    "tags": []
   },
   "outputs": [
    {
     "data": {
      "text/html": [
       "<div>\n",
       "<style scoped>\n",
       "    .dataframe tbody tr th:only-of-type {\n",
       "        vertical-align: middle;\n",
       "    }\n",
       "\n",
       "    .dataframe tbody tr th {\n",
       "        vertical-align: top;\n",
       "    }\n",
       "\n",
       "    .dataframe thead th {\n",
       "        text-align: right;\n",
       "    }\n",
       "</style>\n",
       "<table border=\"1\" class=\"dataframe\">\n",
       "  <thead>\n",
       "    <tr style=\"text-align: right;\">\n",
       "      <th></th>\n",
       "      <th>RECORD_TIME</th>\n",
       "    </tr>\n",
       "  </thead>\n",
       "  <tbody>\n",
       "    <tr>\n",
       "      <th>0</th>\n",
       "      <td>2021-08-25 09:00</td>\n",
       "    </tr>\n",
       "    <tr>\n",
       "      <th>1</th>\n",
       "      <td>2021-08-25 08:30</td>\n",
       "    </tr>\n",
       "  </tbody>\n",
       "</table>\n",
       "</div>"
      ],
      "text/plain": [
       "        RECORD_TIME\n",
       "0  2021-08-25 09:00\n",
       "1  2021-08-25 08:30"
      ]
     },
     "execution_count": 3,
     "metadata": {},
     "output_type": "execute_result"
    }
   ],
   "source": [
    "timestamps"
   ]
  },
  {
   "cell_type": "code",
   "execution_count": 4,
   "id": "alternate-victory",
   "metadata": {
    "execution": {
     "iopub.execute_input": "2021-08-25T07:00:07.892999Z",
     "iopub.status.busy": "2021-08-25T07:00:07.890723Z",
     "iopub.status.idle": "2021-08-25T07:00:08.079285Z",
     "shell.execute_reply": "2021-08-25T07:00:08.080544Z"
    },
    "papermill": {
     "duration": 0.218609,
     "end_time": "2021-08-25T07:00:08.080936",
     "exception": false,
     "start_time": "2021-08-25T07:00:07.862327",
     "status": "completed"
    },
    "tags": []
   },
   "outputs": [],
   "source": [
    "df = pd.read_sql(\"select * from EBAY_TOP_BERLIN where record_time in (select distinct record_time from EBAY_TOP_BERLIN order by record_time desc limit 2)\", sqlite3.connect(\"UsedObjects.db\"))"
   ]
  },
  {
   "cell_type": "code",
   "execution_count": 5,
   "id": "popular-active",
   "metadata": {
    "execution": {
     "iopub.execute_input": "2021-08-25T07:00:08.146965Z",
     "iopub.status.busy": "2021-08-25T07:00:08.139486Z",
     "iopub.status.idle": "2021-08-25T07:00:08.167303Z",
     "shell.execute_reply": "2021-08-25T07:00:08.168500Z"
    },
    "papermill": {
     "duration": 0.067815,
     "end_time": "2021-08-25T07:00:08.168897",
     "exception": false,
     "start_time": "2021-08-25T07:00:08.101082",
     "status": "completed"
    },
    "tags": []
   },
   "outputs": [],
   "source": [
    "df_pivot = df.pivot_table(index=\"PRODUCT\", columns = \"RECORD_TIME\", values = \"LISTING_COUNT\")"
   ]
  },
  {
   "cell_type": "code",
   "execution_count": 6,
   "id": "union-huntington",
   "metadata": {
    "execution": {
     "iopub.execute_input": "2021-08-25T07:00:08.235196Z",
     "iopub.status.busy": "2021-08-25T07:00:08.233089Z",
     "iopub.status.idle": "2021-08-25T07:00:08.238460Z",
     "shell.execute_reply": "2021-08-25T07:00:08.239850Z"
    },
    "papermill": {
     "duration": 0.044957,
     "end_time": "2021-08-25T07:00:08.240267",
     "exception": false,
     "start_time": "2021-08-25T07:00:08.195310",
     "status": "completed"
    },
    "tags": []
   },
   "outputs": [],
   "source": [
    "df_pivot.columns = [\"stamp_1\", \"stamp_2\"]\n",
    "df_pivot_diff = df_pivot.diff(axis=1)"
   ]
  },
  {
   "cell_type": "code",
   "execution_count": 7,
   "id": "fifth-motion",
   "metadata": {
    "execution": {
     "iopub.execute_input": "2021-08-25T07:00:08.295128Z",
     "iopub.status.busy": "2021-08-25T07:00:08.292567Z",
     "iopub.status.idle": "2021-08-25T07:00:09.774750Z",
     "shell.execute_reply": "2021-08-25T07:00:09.776138Z"
    },
    "papermill": {
     "duration": 1.515169,
     "end_time": "2021-08-25T07:00:09.776580",
     "exception": false,
     "start_time": "2021-08-25T07:00:08.261411",
     "status": "completed"
    },
    "tags": []
   },
   "outputs": [
    {
     "data": {
      "text/plain": [
       "<AxesSubplot:ylabel='PRODUCT'>"
      ]
     },
     "execution_count": 7,
     "metadata": {},
     "output_type": "execute_result"
    },
    {
     "data": {
      "image/png": "[encoded data removed]",
      "text/plain": [
       "<Figure size 432x288 with 1 Axes>"
      ]
     },
     "metadata": {
      "needs_background": "light"
     },
     "output_type": "display_data"
    }
   ],
   "source": [
    "df_pivot_diff.sort_values(\"stamp_2\", ascending = False)[\"stamp_2\"].head(10).plot.barh()"
   ]
  },
  {
   "cell_type": "code",
   "execution_count": null,
   "id": "extra-executive",
   "metadata": {
    "papermill": {
     "duration": 0.022188,
     "end_time": "2021-08-25T07:00:09.823114",
     "exception": false,
     "start_time": "2021-08-25T07:00:09.800926",
     "status": "completed"
    },
    "tags": []
   },
   "outputs": [],
   "source": []
  }
 ],
 "metadata": {
  "kernelspec": {
   "display_name": "Python 3",
   "language": "python",
   "name": "python3"
  },
  "language_info": {
   "codemirror_mode": {
    "name": "ipython",
    "version": 3
   },
   "file_extension": ".py",
   "mimetype": "text/x-python",
   "name": "python",
   "nbconvert_exporter": "python",
   "pygments_lexer": "ipython3",
   "version": "3.9.5"
  },
  "papermill": {
   "default_parameters": {},
   "duration": 6.824666,
   "end_time": "2021-08-25T07:00:11.130241",
   "environment_variables": {},
   "exception": null,
   "input_path": "eBay_Overview.ipynb",
   "output_path": "eBay_Overview.ipynb",
   "parameters": {},
   "start_time": "2021-08-25T07:00:04.305575",
   "version": "2.3.3"
  }
 },
 "nbformat": 4,
 "nbformat_minor": 5
}