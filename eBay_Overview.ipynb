{
 "cells": [
  {
   "cell_type": "code",
   "execution_count": 1,
   "id": "reverse-picking",
   "metadata": {
    "execution": {
     "iopub.execute_input": "2021-09-19T15:30:07.119111Z",
     "iopub.status.busy": "2021-09-19T15:30:07.117125Z",
     "iopub.status.idle": "2021-09-19T15:30:07.921537Z",
     "shell.execute_reply": "2021-09-19T15:30:07.919462Z"
    },
    "papermill": {
     "duration": 0.854863,
     "end_time": "2021-09-19T15:30:07.921986",
     "exception": false,
     "start_time": "2021-09-19T15:30:07.067123",
     "status": "completed"
    },
    "tags": []
   },
   "outputs": [],
   "source": [
    "import pandas as pd\n",
    "import sqlite3"
   ]
  },
  {
   "cell_type": "code",
   "execution_count": 2,
   "id": "innovative-syndrome",
   "metadata": {
    "execution": {
     "iopub.execute_input": "2021-09-19T15:30:07.973392Z",
     "iopub.status.busy": "2021-09-19T15:30:07.971103Z",
     "iopub.status.idle": "2021-09-19T15:30:08.293048Z",
     "shell.execute_reply": "2021-09-19T15:30:08.294313Z"
    },
    "papermill": {
     "duration": 0.352198,
     "end_time": "2021-09-19T15:30:08.294726",
     "exception": false,
     "start_time": "2021-09-19T15:30:07.942528",
     "status": "completed"
    },
    "tags": []
   },
   "outputs": [],
   "source": [
    "timestamps = pd.read_sql(\"select distinct record_time from EBAY_TOP_BERLIN order by record_time desc limit 2\", sqlite3.connect(\"UsedObjects.db\"))"
   ]
  },
  {
   "cell_type": "code",
   "execution_count": 3,
   "id": "periodic-identification",
   "metadata": {
    "execution": {
     "iopub.execute_input": "2021-09-19T15:30:08.358342Z",
     "iopub.status.busy": "2021-09-19T15:30:08.356348Z",
     "iopub.status.idle": "2021-09-19T15:30:08.376534Z",
     "shell.execute_reply": "2021-09-19T15:30:08.377724Z"
    },
    "papermill": {
     "duration": 0.063634,
     "end_time": "2021-09-19T15:30:08.378148",
     "exception": false,
     "start_time": "2021-09-19T15:30:08.314514",
     "status": "completed"
    },
    "tags": []
   },
   "outputs": [
    {
     "data": {
      "text/html": [
       "<div>\n",
       "<style scoped>\n",
       "    .dataframe tbody tr th:only-of-type {\n",
       "        vertical-align: middle;\n",
       "    }\n",
       "\n",
       "    .dataframe tbody tr th {\n",
       "        vertical-align: top;\n",
       "    }\n",
       "\n",
       "    .dataframe thead th {\n",
       "        text-align: right;\n",
       "    }\n",
       "</style>\n",
       "<table border=\"1\" class=\"dataframe\">\n",
       "  <thead>\n",
       "    <tr style=\"text-align: right;\">\n",
       "      <th></th>\n",
       "      <th>RECORD_TIME</th>\n",
       "    </tr>\n",
       "  </thead>\n",
       "  <tbody>\n",
       "    <tr>\n",
       "      <th>0</th>\n",
       "      <td>2021-09-19 17:30</td>\n",
       "    </tr>\n",
       "    <tr>\n",
       "      <th>1</th>\n",
       "      <td>2021-09-19 17:00</td>\n",
       "    </tr>\n",
       "  </tbody>\n",
       "</table>\n",
       "</div>"
      ],
      "text/plain": [
       "        RECORD_TIME\n",
       "0  2021-09-19 17:30\n",
       "1  2021-09-19 17:00"
      ]
     },
     "execution_count": 3,
     "metadata": {},
     "output_type": "execute_result"
    }
   ],
   "source": [
    "timestamps"
   ]
  },
  {
   "cell_type": "code",
   "execution_count": 4,
   "id": "alternate-victory",
   "metadata": {
    "execution": {
     "iopub.execute_input": "2021-09-19T15:30:08.431214Z",
     "iopub.status.busy": "2021-09-19T15:30:08.428918Z",
     "iopub.status.idle": "2021-09-19T15:30:08.910453Z",
     "shell.execute_reply": "2021-09-19T15:30:08.911791Z"
    },
    "papermill": {
     "duration": 0.512699,
     "end_time": "2021-09-19T15:30:08.912209",
     "exception": false,
     "start_time": "2021-09-19T15:30:08.399510",
     "status": "completed"
    },
    "tags": []
   },
   "outputs": [],
   "source": [
    "df = pd.read_sql(\"select * from EBAY_TOP_BERLIN where record_time in (select distinct record_time from EBAY_TOP_BERLIN order by record_time desc limit 2)\", sqlite3.connect(\"UsedObjects.db\"))"
   ]
  },
  {
   "cell_type": "code",
   "execution_count": 5,
   "id": "popular-active",
   "metadata": {
    "execution": {
     "iopub.execute_input": "2021-09-19T15:30:08.981553Z",
     "iopub.status.busy": "2021-09-19T15:30:08.970080Z",
     "iopub.status.idle": "2021-09-19T15:30:08.997302Z",
     "shell.execute_reply": "2021-09-19T15:30:08.998497Z"
    },
    "papermill": {
     "duration": 0.065843,
     "end_time": "2021-09-19T15:30:08.999083",
     "exception": false,
     "start_time": "2021-09-19T15:30:08.933240",
     "status": "completed"
    },
    "tags": []
   },
   "outputs": [],
   "source": [
    "df_pivot = df.pivot_table(index=\"PRODUCT\", columns = \"RECORD_TIME\", values = \"LISTING_COUNT\")"
   ]
  },
  {
   "cell_type": "code",
   "execution_count": 6,
   "id": "union-huntington",
   "metadata": {
    "execution": {
     "iopub.execute_input": "2021-09-19T15:30:09.058816Z",
     "iopub.status.busy": "2021-09-19T15:30:09.056361Z",
     "iopub.status.idle": "2021-09-19T15:30:09.062383Z",
     "shell.execute_reply": "2021-09-19T15:30:09.063724Z"
    },
    "papermill": {
     "duration": 0.042724,
     "end_time": "2021-09-19T15:30:09.064181",
     "exception": false,
     "start_time": "2021-09-19T15:30:09.021457",
     "status": "completed"
    },
    "tags": []
   },
   "outputs": [],
   "source": [
    "df_pivot.columns = [\"stamp_1\", \"stamp_2\"]\n",
    "df_pivot_diff = df_pivot.diff(axis=1)"
   ]
  },
  {
   "cell_type": "code",
   "execution_count": 7,
   "id": "fifth-motion",
   "metadata": {
    "execution": {
     "iopub.execute_input": "2021-09-19T15:30:09.118647Z",
     "iopub.status.busy": "2021-09-19T15:30:09.116465Z",
     "iopub.status.idle": "2021-09-19T15:30:10.623951Z",
     "shell.execute_reply": "2021-09-19T15:30:10.625139Z"
    },
    "papermill": {
     "duration": 1.539932,
     "end_time": "2021-09-19T15:30:10.625567",
     "exception": false,
     "start_time": "2021-09-19T15:30:09.085635",
     "status": "completed"
    },
    "tags": []
   },
   "outputs": [
    {
     "data": {
      "text/plain": [
       "<AxesSubplot:ylabel='PRODUCT'>"
      ]
     },
     "execution_count": 7,
     "metadata": {},
     "output_type": "execute_result"
    },
    {
     "data": {
      "image/png": "[encoded data removed]",
      "text/plain": [
       "<Figure size 432x288 with 1 Axes>"
      ]
     },
     "metadata": {
      "needs_background": "light"
     },
     "output_type": "display_data"
    }
   ],
   "source": [
    "df_pivot_diff.sort_values(\"stamp_2\", ascending = False)[\"stamp_2\"].head(10).plot.barh()"
   ]
  },
  {
   "cell_type": "code",
   "execution_count": null,
   "id": "extra-executive",
   "metadata": {
    "papermill": {
     "duration": 0.022551,
     "end_time": "2021-09-19T15:30:10.675524",
     "exception": false,
     "start_time": "2021-09-19T15:30:10.652973",
     "status": "completed"
    },
    "tags": []
   },
   "outputs": [],
   "source": []
  }
 ],
 "metadata": {
  "kernelspec": {
   "display_name": "Python 3",
   "language": "python",
   "name": "python3"
  },
  "language_info": {
   "codemirror_mode": {
    "name": "ipython",
    "version": 3
   },
   "file_extension": ".py",
   "mimetype": "text/x-python",
   "name": "python",
   "nbconvert_exporter": "python",
   "pygments_lexer": "ipython3",
   "version": "3.9.5"
  },
  "papermill": {
   "default_parameters": {},
   "duration": 6.650434,
   "end_time": "2021-09-19T15:30:11.316743",
   "environment_variables": {},
   "exception": null,
   "input_path": "eBay_Overview.ipynb",
   "output_path": "eBay_Overview.ipynb",
   "parameters": {},
   "start_time": "2021-09-19T15:30:04.666309",
   "version": "2.3.3"
  }
 },
 "nbformat": 4,
 "nbformat_minor": 5
}