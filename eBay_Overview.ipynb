{
 "cells": [
  {
   "cell_type": "code",
   "execution_count": 1,
   "id": "reverse-picking",
   "metadata": {
    "execution": {
     "iopub.execute_input": "2021-09-23T20:00:06.665154Z",
     "iopub.status.busy": "2021-09-23T20:00:06.663208Z",
     "iopub.status.idle": "2021-09-23T20:00:07.464671Z",
     "shell.execute_reply": "2021-09-23T20:00:07.466071Z"
    },
    "papermill": {
     "duration": 0.855168,
     "end_time": "2021-09-23T20:00:07.466741",
     "exception": false,
     "start_time": "2021-09-23T20:00:06.611573",
     "status": "completed"
    },
    "tags": []
   },
   "outputs": [],
   "source": [
    "import pandas as pd\n",
    "import sqlite3"
   ]
  },
  {
   "cell_type": "code",
   "execution_count": 2,
   "id": "innovative-syndrome",
   "metadata": {
    "execution": {
     "iopub.execute_input": "2021-09-23T20:00:07.518354Z",
     "iopub.status.busy": "2021-09-23T20:00:07.516309Z",
     "iopub.status.idle": "2021-09-23T20:00:07.876991Z",
     "shell.execute_reply": "2021-09-23T20:00:07.878182Z"
    },
    "papermill": {
     "duration": 0.390714,
     "end_time": "2021-09-23T20:00:07.878576",
     "exception": false,
     "start_time": "2021-09-23T20:00:07.487862",
     "status": "completed"
    },
    "tags": []
   },
   "outputs": [],
   "source": [
    "timestamps = pd.read_sql(\"select distinct record_time from EBAY_TOP_BERLIN order by record_time desc limit 2\", sqlite3.connect(\"UsedObjects.db\"))"
   ]
  },
  {
   "cell_type": "code",
   "execution_count": 3,
   "id": "periodic-identification",
   "metadata": {
    "execution": {
     "iopub.execute_input": "2021-09-23T20:00:07.941595Z",
     "iopub.status.busy": "2021-09-23T20:00:07.939576Z",
     "iopub.status.idle": "2021-09-23T20:00:07.959772Z",
     "shell.execute_reply": "2021-09-23T20:00:07.961115Z"
    },
    "papermill": {
     "duration": 0.063558,
     "end_time": "2021-09-23T20:00:07.961531",
     "exception": false,
     "start_time": "2021-09-23T20:00:07.897973",
     "status": "completed"
    },
    "tags": []
   },
   "outputs": [
    {
     "data": {
      "text/html": [
       "<div>\n",
       "<style scoped>\n",
       "    .dataframe tbody tr th:only-of-type {\n",
       "        vertical-align: middle;\n",
       "    }\n",
       "\n",
       "    .dataframe tbody tr th {\n",
       "        vertical-align: top;\n",
       "    }\n",
       "\n",
       "    .dataframe thead th {\n",
       "        text-align: right;\n",
       "    }\n",
       "</style>\n",
       "<table border=\"1\" class=\"dataframe\">\n",
       "  <thead>\n",
       "    <tr style=\"text-align: right;\">\n",
       "      <th></th>\n",
       "      <th>RECORD_TIME</th>\n",
       "    </tr>\n",
       "  </thead>\n",
       "  <tbody>\n",
       "    <tr>\n",
       "      <th>0</th>\n",
       "      <td>2021-09-23 22:00</td>\n",
       "    </tr>\n",
       "    <tr>\n",
       "      <th>1</th>\n",
       "      <td>2021-09-23 21:30</td>\n",
       "    </tr>\n",
       "  </tbody>\n",
       "</table>\n",
       "</div>"
      ],
      "text/plain": [
       "        RECORD_TIME\n",
       "0  2021-09-23 22:00\n",
       "1  2021-09-23 21:30"
      ]
     },
     "execution_count": 3,
     "metadata": {},
     "output_type": "execute_result"
    }
   ],
   "source": [
    "timestamps"
   ]
  },
  {
   "cell_type": "code",
   "execution_count": 4,
   "id": "alternate-victory",
   "metadata": {
    "execution": {
     "iopub.execute_input": "2021-09-23T20:00:08.013664Z",
     "iopub.status.busy": "2021-09-23T20:00:08.011361Z",
     "iopub.status.idle": "2021-09-23T20:00:08.539780Z",
     "shell.execute_reply": "2021-09-23T20:00:08.541173Z"
    },
    "papermill": {
     "duration": 0.558861,
     "end_time": "2021-09-23T20:00:08.541611",
     "exception": false,
     "start_time": "2021-09-23T20:00:07.982750",
     "status": "completed"
    },
    "tags": []
   },
   "outputs": [],
   "source": [
    "df = pd.read_sql(\"select * from EBAY_TOP_BERLIN where record_time in (select distinct record_time from EBAY_TOP_BERLIN order by record_time desc limit 2)\", sqlite3.connect(\"UsedObjects.db\"))"
   ]
  },
  {
   "cell_type": "code",
   "execution_count": 5,
   "id": "popular-active",
   "metadata": {
    "execution": {
     "iopub.execute_input": "2021-09-23T20:00:08.625885Z",
     "iopub.status.busy": "2021-09-23T20:00:08.613534Z",
     "iopub.status.idle": "2021-09-23T20:00:08.643392Z",
     "shell.execute_reply": "2021-09-23T20:00:08.644798Z"
    },
    "papermill": {
     "duration": 0.074831,
     "end_time": "2021-09-23T20:00:08.645233",
     "exception": false,
     "start_time": "2021-09-23T20:00:08.570402",
     "status": "completed"
    },
    "tags": []
   },
   "outputs": [],
   "source": [
    "df_pivot = df.pivot_table(index=\"PRODUCT\", columns = \"RECORD_TIME\", values = \"LISTING_COUNT\")"
   ]
  },
  {
   "cell_type": "code",
   "execution_count": 6,
   "id": "union-huntington",
   "metadata": {
    "execution": {
     "iopub.execute_input": "2021-09-23T20:00:08.702594Z",
     "iopub.status.busy": "2021-09-23T20:00:08.700151Z",
     "iopub.status.idle": "2021-09-23T20:00:08.706058Z",
     "shell.execute_reply": "2021-09-23T20:00:08.707516Z"
    },
    "papermill": {
     "duration": 0.042439,
     "end_time": "2021-09-23T20:00:08.707970",
     "exception": false,
     "start_time": "2021-09-23T20:00:08.665531",
     "status": "completed"
    },
    "tags": []
   },
   "outputs": [],
   "source": [
    "df_pivot.columns = [\"stamp_1\", \"stamp_2\"]\n",
    "df_pivot_diff = df_pivot.diff(axis=1)"
   ]
  },
  {
   "cell_type": "code",
   "execution_count": 7,
   "id": "fifth-motion",
   "metadata": {
    "execution": {
     "iopub.execute_input": "2021-09-23T20:00:08.762111Z",
     "iopub.status.busy": "2021-09-23T20:00:08.759866Z",
     "iopub.status.idle": "2021-09-23T20:00:10.231898Z",
     "shell.execute_reply": "2021-09-23T20:00:10.233193Z"
    },
    "papermill": {
     "duration": 1.505088,
     "end_time": "2021-09-23T20:00:10.233616",
     "exception": false,
     "start_time": "2021-09-23T20:00:08.728528",
     "status": "completed"
    },
    "tags": []
   },
   "outputs": [
    {
     "data": {
      "text/plain": [
       "<AxesSubplot:ylabel='PRODUCT'>"
      ]
     },
     "execution_count": 7,
     "metadata": {},
     "output_type": "execute_result"
    },
    {
     "data": {
      "image/png": "[encoded data removed]",
      "text/plain": [
       "<Figure size 432x288 with 1 Axes>"
      ]
     },
     "metadata": {
      "needs_background": "light"
     },
     "output_type": "display_data"
    }
   ],
   "source": [
    "df_pivot_diff.sort_values(\"stamp_2\", ascending = False)[\"stamp_2\"].head(10).plot.barh()"
   ]
  },
  {
   "cell_type": "code",
   "execution_count": null,
   "id": "extra-executive",
   "metadata": {
    "papermill": {
     "duration": 0.021935,
     "end_time": "2021-09-23T20:00:10.280843",
     "exception": false,
     "start_time": "2021-09-23T20:00:10.258908",
     "status": "completed"
    },
    "tags": []
   },
   "outputs": [],
   "source": []
  }
 ],
 "metadata": {
  "kernelspec": {
   "display_name": "Python 3",
   "language": "python",
   "name": "python3"
  },
  "language_info": {
   "codemirror_mode": {
    "name": "ipython",
    "version": 3
   },
   "file_extension": ".py",
   "mimetype": "text/x-python",
   "name": "python",
   "nbconvert_exporter": "python",
   "pygments_lexer": "ipython3",
   "version": "3.9.5"
  },
  "papermill": {
   "default_parameters": {},
   "duration": 6.704613,
   "end_time": "2021-09-23T20:00:10.924235",
   "environment_variables": {},
   "exception": null,
   "input_path": "eBay_Overview.ipynb",
   "output_path": "eBay_Overview.ipynb",
   "parameters": {},
   "start_time": "2021-09-23T20:00:04.219622",
   "version": "2.3.3"
  }
 },
 "nbformat": 4,
 "nbformat_minor": 5
}