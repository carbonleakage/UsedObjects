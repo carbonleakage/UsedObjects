{
 "cells": [
  {
   "cell_type": "code",
   "execution_count": 1,
   "id": "reverse-picking",
   "metadata": {
    "execution": {
     "iopub.execute_input": "2021-12-05T09:30:08.168054Z",
     "iopub.status.busy": "2021-12-05T09:30:08.165686Z",
     "iopub.status.idle": "2021-12-05T09:30:09.118746Z",
     "shell.execute_reply": "2021-12-05T09:30:09.116901Z"
    },
    "papermill": {
     "duration": 1.001833,
     "end_time": "2021-12-05T09:30:09.119244",
     "exception": false,
     "start_time": "2021-12-05T09:30:08.117411",
     "status": "completed"
    },
    "tags": []
   },
   "outputs": [],
   "source": [
    "import pandas as pd\n",
    "import sqlite3"
   ]
  },
  {
   "cell_type": "code",
   "execution_count": 2,
   "id": "innovative-syndrome",
   "metadata": {
    "execution": {
     "iopub.execute_input": "2021-12-05T09:30:09.196931Z",
     "iopub.status.busy": "2021-12-05T09:30:09.194666Z",
     "iopub.status.idle": "2021-12-05T09:30:10.206730Z",
     "shell.execute_reply": "2021-12-05T09:30:10.208020Z"
    },
    "papermill": {
     "duration": 1.057998,
     "end_time": "2021-12-05T09:30:10.208434",
     "exception": false,
     "start_time": "2021-12-05T09:30:09.150436",
     "status": "completed"
    },
    "tags": []
   },
   "outputs": [],
   "source": [
    "timestamps = pd.read_sql(\"select distinct record_time from EBAY_TOP_BERLIN order by record_time desc limit 2\", sqlite3.connect(\"UsedObjects.db\"))"
   ]
  },
  {
   "cell_type": "code",
   "execution_count": 3,
   "id": "periodic-identification",
   "metadata": {
    "execution": {
     "iopub.execute_input": "2021-12-05T09:30:10.278949Z",
     "iopub.status.busy": "2021-12-05T09:30:10.273210Z",
     "iopub.status.idle": "2021-12-05T09:30:10.294862Z",
     "shell.execute_reply": "2021-12-05T09:30:10.296198Z"
    },
    "papermill": {
     "duration": 0.068242,
     "end_time": "2021-12-05T09:30:10.296674",
     "exception": false,
     "start_time": "2021-12-05T09:30:10.228432",
     "status": "completed"
    },
    "tags": []
   },
   "outputs": [
    {
     "data": {
      "text/html": [
       "<div>\n",
       "<style scoped>\n",
       "    .dataframe tbody tr th:only-of-type {\n",
       "        vertical-align: middle;\n",
       "    }\n",
       "\n",
       "    .dataframe tbody tr th {\n",
       "        vertical-align: top;\n",
       "    }\n",
       "\n",
       "    .dataframe thead th {\n",
       "        text-align: right;\n",
       "    }\n",
       "</style>\n",
       "<table border=\"1\" class=\"dataframe\">\n",
       "  <thead>\n",
       "    <tr style=\"text-align: right;\">\n",
       "      <th></th>\n",
       "      <th>RECORD_TIME</th>\n",
       "    </tr>\n",
       "  </thead>\n",
       "  <tbody>\n",
       "    <tr>\n",
       "      <th>0</th>\n",
       "      <td>2021-12-05 10:30</td>\n",
       "    </tr>\n",
       "    <tr>\n",
       "      <th>1</th>\n",
       "      <td>2021-12-05 10:00</td>\n",
       "    </tr>\n",
       "  </tbody>\n",
       "</table>\n",
       "</div>"
      ],
      "text/plain": [
       "        RECORD_TIME\n",
       "0  2021-12-05 10:30\n",
       "1  2021-12-05 10:00"
      ]
     },
     "execution_count": 3,
     "metadata": {},
     "output_type": "execute_result"
    }
   ],
   "source": [
    "timestamps"
   ]
  },
  {
   "cell_type": "code",
   "execution_count": 4,
   "id": "alternate-victory",
   "metadata": {
    "execution": {
     "iopub.execute_input": "2021-12-05T09:30:10.353949Z",
     "iopub.status.busy": "2021-12-05T09:30:10.351611Z",
     "iopub.status.idle": "2021-12-05T09:30:11.843993Z",
     "shell.execute_reply": "2021-12-05T09:30:11.845678Z"
    },
    "papermill": {
     "duration": 1.527854,
     "end_time": "2021-12-05T09:30:11.846162",
     "exception": false,
     "start_time": "2021-12-05T09:30:10.318308",
     "status": "completed"
    },
    "tags": []
   },
   "outputs": [],
   "source": [
    "df = pd.read_sql(\"select * from EBAY_TOP_BERLIN where record_time in (select distinct record_time from EBAY_TOP_BERLIN order by record_time desc limit 2)\", sqlite3.connect(\"UsedObjects.db\"))"
   ]
  },
  {
   "cell_type": "code",
   "execution_count": 5,
   "id": "popular-active",
   "metadata": {
    "execution": {
     "iopub.execute_input": "2021-12-05T09:30:11.925036Z",
     "iopub.status.busy": "2021-12-05T09:30:11.911861Z",
     "iopub.status.idle": "2021-12-05T09:30:11.942583Z",
     "shell.execute_reply": "2021-12-05T09:30:11.943972Z"
    },
    "papermill": {
     "duration": 0.07634,
     "end_time": "2021-12-05T09:30:11.944454",
     "exception": false,
     "start_time": "2021-12-05T09:30:11.868114",
     "status": "completed"
    },
    "tags": []
   },
   "outputs": [],
   "source": [
    "df_pivot = df.pivot_table(index=\"PRODUCT\", columns = \"RECORD_TIME\", values = \"LISTING_COUNT\")"
   ]
  },
  {
   "cell_type": "code",
   "execution_count": 6,
   "id": "union-huntington",
   "metadata": {
    "execution": {
     "iopub.execute_input": "2021-12-05T09:30:12.007251Z",
     "iopub.status.busy": "2021-12-05T09:30:12.005033Z",
     "iopub.status.idle": "2021-12-05T09:30:12.010171Z",
     "shell.execute_reply": "2021-12-05T09:30:12.012108Z"
    },
    "papermill": {
     "duration": 0.047595,
     "end_time": "2021-12-05T09:30:12.012590",
     "exception": false,
     "start_time": "2021-12-05T09:30:11.964995",
     "status": "completed"
    },
    "tags": []
   },
   "outputs": [],
   "source": [
    "df_pivot.columns = [\"stamp_1\", \"stamp_2\"]\n",
    "df_pivot_diff = df_pivot.diff(axis=1)"
   ]
  },
  {
   "cell_type": "code",
   "execution_count": 7,
   "id": "fifth-motion",
   "metadata": {
    "execution": {
     "iopub.execute_input": "2021-12-05T09:30:12.072437Z",
     "iopub.status.busy": "2021-12-05T09:30:12.069982Z",
     "iopub.status.idle": "2021-12-05T09:30:13.681425Z",
     "shell.execute_reply": "2021-12-05T09:30:13.682729Z"
    },
    "papermill": {
     "duration": 1.647552,
     "end_time": "2021-12-05T09:30:13.683152",
     "exception": false,
     "start_time": "2021-12-05T09:30:12.035600",
     "status": "completed"
    },
    "tags": []
   },
   "outputs": [
    {
     "data": {
      "text/plain": [
       "<AxesSubplot:ylabel='PRODUCT'>"
      ]
     },
     "execution_count": 7,
     "metadata": {},
     "output_type": "execute_result"
    },
    {
     "data": {
      "image/png": "[encoded data removed]",
      "text/plain": [
       "<Figure size 432x288 with 1 Axes>"
      ]
     },
     "metadata": {
      "needs_background": "light"
     },
     "output_type": "display_data"
    }
   ],
   "source": [
    "df_pivot_diff.sort_values(\"stamp_2\", ascending = False)[\"stamp_2\"].head(10).plot.barh()"
   ]
  },
  {
   "cell_type": "code",
   "execution_count": null,
   "id": "extra-executive",
   "metadata": {
    "papermill": {
     "duration": 0.022423,
     "end_time": "2021-12-05T09:30:13.730695",
     "exception": false,
     "start_time": "2021-12-05T09:30:13.708272",
     "status": "completed"
    },
    "tags": []
   },
   "outputs": [],
   "source": []
  }
 ],
 "metadata": {
  "kernelspec": {
   "display_name": "Python 3",
   "language": "python",
   "name": "python3"
  },
  "language_info": {
   "codemirror_mode": {
    "name": "ipython",
    "version": 3
   },
   "file_extension": ".py",
   "mimetype": "text/x-python",
   "name": "python",
   "nbconvert_exporter": "python",
   "pygments_lexer": "ipython3",
   "version": "3.9.5"
  },
  "papermill": {
   "default_parameters": {},
   "duration": 9.943144,
   "end_time": "2021-12-05T09:30:15.334921",
   "environment_variables": {},
   "exception": null,
   "input_path": "eBay_Overview.ipynb",
   "output_path": "eBay_Overview.ipynb",
   "parameters": {},
   "start_time": "2021-12-05T09:30:05.391777",
   "version": "2.3.3"
  }
 },
 "nbformat": 4,
 "nbformat_minor": 5
}