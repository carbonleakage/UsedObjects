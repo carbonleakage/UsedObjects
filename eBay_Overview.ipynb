{
 "cells": [
  {
   "cell_type": "code",
   "execution_count": 1,
   "id": "reverse-picking",
   "metadata": {
    "execution": {
     "iopub.execute_input": "2021-11-13T21:30:08.064665Z",
     "iopub.status.busy": "2021-11-13T21:30:08.062350Z",
     "iopub.status.idle": "2021-11-13T21:30:09.019477Z",
     "shell.execute_reply": "2021-11-13T21:30:09.021179Z"
    },
    "papermill": {
     "duration": 1.006411,
     "end_time": "2021-11-13T21:30:09.021912",
     "exception": false,
     "start_time": "2021-11-13T21:30:08.015501",
     "status": "completed"
    },
    "tags": []
   },
   "outputs": [],
   "source": [
    "import pandas as pd\n",
    "import sqlite3"
   ]
  },
  {
   "cell_type": "code",
   "execution_count": 2,
   "id": "innovative-syndrome",
   "metadata": {
    "execution": {
     "iopub.execute_input": "2021-11-13T21:30:09.083646Z",
     "iopub.status.busy": "2021-11-13T21:30:09.081214Z",
     "iopub.status.idle": "2021-11-13T21:30:09.881081Z",
     "shell.execute_reply": "2021-11-13T21:30:09.882278Z"
    },
    "papermill": {
     "duration": 0.833368,
     "end_time": "2021-11-13T21:30:09.882710",
     "exception": false,
     "start_time": "2021-11-13T21:30:09.049342",
     "status": "completed"
    },
    "tags": []
   },
   "outputs": [],
   "source": [
    "timestamps = pd.read_sql(\"select distinct record_time from EBAY_TOP_BERLIN order by record_time desc limit 2\", sqlite3.connect(\"UsedObjects.db\"))"
   ]
  },
  {
   "cell_type": "code",
   "execution_count": 3,
   "id": "periodic-identification",
   "metadata": {
    "execution": {
     "iopub.execute_input": "2021-11-13T21:30:09.951322Z",
     "iopub.status.busy": "2021-11-13T21:30:09.946185Z",
     "iopub.status.idle": "2021-11-13T21:30:09.967337Z",
     "shell.execute_reply": "2021-11-13T21:30:09.968934Z"
    },
    "papermill": {
     "duration": 0.066267,
     "end_time": "2021-11-13T21:30:09.969443",
     "exception": false,
     "start_time": "2021-11-13T21:30:09.903176",
     "status": "completed"
    },
    "tags": []
   },
   "outputs": [
    {
     "data": {
      "text/html": [
       "<div>\n",
       "<style scoped>\n",
       "    .dataframe tbody tr th:only-of-type {\n",
       "        vertical-align: middle;\n",
       "    }\n",
       "\n",
       "    .dataframe tbody tr th {\n",
       "        vertical-align: top;\n",
       "    }\n",
       "\n",
       "    .dataframe thead th {\n",
       "        text-align: right;\n",
       "    }\n",
       "</style>\n",
       "<table border=\"1\" class=\"dataframe\">\n",
       "  <thead>\n",
       "    <tr style=\"text-align: right;\">\n",
       "      <th></th>\n",
       "      <th>RECORD_TIME</th>\n",
       "    </tr>\n",
       "  </thead>\n",
       "  <tbody>\n",
       "    <tr>\n",
       "      <th>0</th>\n",
       "      <td>2021-11-13 22:30</td>\n",
       "    </tr>\n",
       "    <tr>\n",
       "      <th>1</th>\n",
       "      <td>2021-11-13 22:00</td>\n",
       "    </tr>\n",
       "  </tbody>\n",
       "</table>\n",
       "</div>"
      ],
      "text/plain": [
       "        RECORD_TIME\n",
       "0  2021-11-13 22:30\n",
       "1  2021-11-13 22:00"
      ]
     },
     "execution_count": 3,
     "metadata": {},
     "output_type": "execute_result"
    }
   ],
   "source": [
    "timestamps"
   ]
  },
  {
   "cell_type": "code",
   "execution_count": 4,
   "id": "alternate-victory",
   "metadata": {
    "execution": {
     "iopub.execute_input": "2021-11-13T21:30:10.023507Z",
     "iopub.status.busy": "2021-11-13T21:30:10.021398Z",
     "iopub.status.idle": "2021-11-13T21:30:11.216750Z",
     "shell.execute_reply": "2021-11-13T21:30:11.218101Z"
    },
    "papermill": {
     "duration": 1.22729,
     "end_time": "2021-11-13T21:30:11.218566",
     "exception": false,
     "start_time": "2021-11-13T21:30:09.991276",
     "status": "completed"
    },
    "tags": []
   },
   "outputs": [],
   "source": [
    "df = pd.read_sql(\"select * from EBAY_TOP_BERLIN where record_time in (select distinct record_time from EBAY_TOP_BERLIN order by record_time desc limit 2)\", sqlite3.connect(\"UsedObjects.db\"))"
   ]
  },
  {
   "cell_type": "code",
   "execution_count": 5,
   "id": "popular-active",
   "metadata": {
    "execution": {
     "iopub.execute_input": "2021-11-13T21:30:11.299527Z",
     "iopub.status.busy": "2021-11-13T21:30:11.285797Z",
     "iopub.status.idle": "2021-11-13T21:30:11.317258Z",
     "shell.execute_reply": "2021-11-13T21:30:11.318614Z"
    },
    "papermill": {
     "duration": 0.073215,
     "end_time": "2021-11-13T21:30:11.319085",
     "exception": false,
     "start_time": "2021-11-13T21:30:11.245870",
     "status": "completed"
    },
    "tags": []
   },
   "outputs": [],
   "source": [
    "df_pivot = df.pivot_table(index=\"PRODUCT\", columns = \"RECORD_TIME\", values = \"LISTING_COUNT\")"
   ]
  },
  {
   "cell_type": "code",
   "execution_count": 6,
   "id": "union-huntington",
   "metadata": {
    "execution": {
     "iopub.execute_input": "2021-11-13T21:30:11.381868Z",
     "iopub.status.busy": "2021-11-13T21:30:11.379411Z",
     "iopub.status.idle": "2021-11-13T21:30:11.386077Z",
     "shell.execute_reply": "2021-11-13T21:30:11.387621Z"
    },
    "papermill": {
     "duration": 0.049121,
     "end_time": "2021-11-13T21:30:11.388143",
     "exception": false,
     "start_time": "2021-11-13T21:30:11.339022",
     "status": "completed"
    },
    "tags": []
   },
   "outputs": [],
   "source": [
    "df_pivot.columns = [\"stamp_1\", \"stamp_2\"]\n",
    "df_pivot_diff = df_pivot.diff(axis=1)"
   ]
  },
  {
   "cell_type": "code",
   "execution_count": 7,
   "id": "fifth-motion",
   "metadata": {
    "execution": {
     "iopub.execute_input": "2021-11-13T21:30:11.451577Z",
     "iopub.status.busy": "2021-11-13T21:30:11.449020Z",
     "iopub.status.idle": "2021-11-13T21:30:13.358309Z",
     "shell.execute_reply": "2021-11-13T21:30:13.360884Z"
    },
    "papermill": {
     "duration": 1.951544,
     "end_time": "2021-11-13T21:30:13.361624",
     "exception": false,
     "start_time": "2021-11-13T21:30:11.410080",
     "status": "completed"
    },
    "tags": []
   },
   "outputs": [
    {
     "data": {
      "text/plain": [
       "<AxesSubplot:ylabel='PRODUCT'>"
      ]
     },
     "execution_count": 7,
     "metadata": {},
     "output_type": "execute_result"
    },
    {
     "data": {
      "image/png": "[encoded data removed]",
      "text/plain": [
       "<Figure size 432x288 with 1 Axes>"
      ]
     },
     "metadata": {
      "needs_background": "light"
     },
     "output_type": "display_data"
    }
   ],
   "source": [
    "df_pivot_diff.sort_values(\"stamp_2\", ascending = False)[\"stamp_2\"].head(10).plot.barh()"
   ]
  },
  {
   "cell_type": "code",
   "execution_count": null,
   "id": "extra-executive",
   "metadata": {
    "papermill": {
     "duration": 0.027239,
     "end_time": "2021-11-13T21:30:13.418554",
     "exception": false,
     "start_time": "2021-11-13T21:30:13.391315",
     "status": "completed"
    },
    "tags": []
   },
   "outputs": [],
   "source": []
  }
 ],
 "metadata": {
  "kernelspec": {
   "display_name": "Python 3",
   "language": "python",
   "name": "python3"
  },
  "language_info": {
   "codemirror_mode": {
    "name": "ipython",
    "version": 3
   },
   "file_extension": ".py",
   "mimetype": "text/x-python",
   "name": "python",
   "nbconvert_exporter": "python",
   "pygments_lexer": "ipython3",
   "version": "3.9.5"
  },
  "papermill": {
   "default_parameters": {},
   "duration": 8.894976,
   "end_time": "2021-11-13T21:30:14.194054",
   "environment_variables": {},
   "exception": null,
   "input_path": "eBay_Overview.ipynb",
   "output_path": "eBay_Overview.ipynb",
   "parameters": {},
   "start_time": "2021-11-13T21:30:05.299078",
   "version": "2.3.3"
  }
 },
 "nbformat": 4,
 "nbformat_minor": 5
}