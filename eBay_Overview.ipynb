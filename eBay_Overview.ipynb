{
 "cells": [
  {
   "cell_type": "code",
   "execution_count": 1,
   "id": "reverse-picking",
   "metadata": {
    "execution": {
     "iopub.execute_input": "2021-09-08T18:00:06.910419Z",
     "iopub.status.busy": "2021-09-08T18:00:06.908453Z",
     "iopub.status.idle": "2021-09-08T18:00:07.720470Z",
     "shell.execute_reply": "2021-09-08T18:00:07.718659Z"
    },
    "papermill": {
     "duration": 0.861001,
     "end_time": "2021-09-08T18:00:07.721054",
     "exception": false,
     "start_time": "2021-09-08T18:00:06.860053",
     "status": "completed"
    },
    "tags": []
   },
   "outputs": [],
   "source": [
    "import pandas as pd\n",
    "import sqlite3"
   ]
  },
  {
   "cell_type": "code",
   "execution_count": 2,
   "id": "innovative-syndrome",
   "metadata": {
    "execution": {
     "iopub.execute_input": "2021-09-08T18:00:07.773204Z",
     "iopub.status.busy": "2021-09-08T18:00:07.770810Z",
     "iopub.status.idle": "2021-09-08T18:00:08.011600Z",
     "shell.execute_reply": "2021-09-08T18:00:08.012824Z"
    },
    "papermill": {
     "duration": 0.270917,
     "end_time": "2021-09-08T18:00:08.013220",
     "exception": false,
     "start_time": "2021-09-08T18:00:07.742303",
     "status": "completed"
    },
    "tags": []
   },
   "outputs": [],
   "source": [
    "timestamps = pd.read_sql(\"select distinct record_time from EBAY_TOP_BERLIN order by record_time desc limit 2\", sqlite3.connect(\"UsedObjects.db\"))"
   ]
  },
  {
   "cell_type": "code",
   "execution_count": 3,
   "id": "periodic-identification",
   "metadata": {
    "execution": {
     "iopub.execute_input": "2021-09-08T18:00:08.077608Z",
     "iopub.status.busy": "2021-09-08T18:00:08.075553Z",
     "iopub.status.idle": "2021-09-08T18:00:08.096490Z",
     "shell.execute_reply": "2021-09-08T18:00:08.097805Z"
    },
    "papermill": {
     "duration": 0.064263,
     "end_time": "2021-09-08T18:00:08.098217",
     "exception": false,
     "start_time": "2021-09-08T18:00:08.033954",
     "status": "completed"
    },
    "tags": []
   },
   "outputs": [
    {
     "data": {
      "text/html": [
       "<div>\n",
       "<style scoped>\n",
       "    .dataframe tbody tr th:only-of-type {\n",
       "        vertical-align: middle;\n",
       "    }\n",
       "\n",
       "    .dataframe tbody tr th {\n",
       "        vertical-align: top;\n",
       "    }\n",
       "\n",
       "    .dataframe thead th {\n",
       "        text-align: right;\n",
       "    }\n",
       "</style>\n",
       "<table border=\"1\" class=\"dataframe\">\n",
       "  <thead>\n",
       "    <tr style=\"text-align: right;\">\n",
       "      <th></th>\n",
       "      <th>RECORD_TIME</th>\n",
       "    </tr>\n",
       "  </thead>\n",
       "  <tbody>\n",
       "    <tr>\n",
       "      <th>0</th>\n",
       "      <td>2021-09-08 20:00</td>\n",
       "    </tr>\n",
       "    <tr>\n",
       "      <th>1</th>\n",
       "      <td>2021-09-08 19:30</td>\n",
       "    </tr>\n",
       "  </tbody>\n",
       "</table>\n",
       "</div>"
      ],
      "text/plain": [
       "        RECORD_TIME\n",
       "0  2021-09-08 20:00\n",
       "1  2021-09-08 19:30"
      ]
     },
     "execution_count": 3,
     "metadata": {},
     "output_type": "execute_result"
    }
   ],
   "source": [
    "timestamps"
   ]
  },
  {
   "cell_type": "code",
   "execution_count": 4,
   "id": "alternate-victory",
   "metadata": {
    "execution": {
     "iopub.execute_input": "2021-09-08T18:00:08.151125Z",
     "iopub.status.busy": "2021-09-08T18:00:08.148771Z",
     "iopub.status.idle": "2021-09-08T18:00:08.504391Z",
     "shell.execute_reply": "2021-09-08T18:00:08.505600Z"
    },
    "papermill": {
     "duration": 0.385989,
     "end_time": "2021-09-08T18:00:08.505993",
     "exception": false,
     "start_time": "2021-09-08T18:00:08.120004",
     "status": "completed"
    },
    "tags": []
   },
   "outputs": [],
   "source": [
    "df = pd.read_sql(\"select * from EBAY_TOP_BERLIN where record_time in (select distinct record_time from EBAY_TOP_BERLIN order by record_time desc limit 2)\", sqlite3.connect(\"UsedObjects.db\"))"
   ]
  },
  {
   "cell_type": "code",
   "execution_count": 5,
   "id": "popular-active",
   "metadata": {
    "execution": {
     "iopub.execute_input": "2021-09-08T18:00:08.586468Z",
     "iopub.status.busy": "2021-09-08T18:00:08.574949Z",
     "iopub.status.idle": "2021-09-08T18:00:08.603433Z",
     "shell.execute_reply": "2021-09-08T18:00:08.604651Z"
    },
    "papermill": {
     "duration": 0.070657,
     "end_time": "2021-09-08T18:00:08.605046",
     "exception": false,
     "start_time": "2021-09-08T18:00:08.534389",
     "status": "completed"
    },
    "tags": []
   },
   "outputs": [],
   "source": [
    "df_pivot = df.pivot_table(index=\"PRODUCT\", columns = \"RECORD_TIME\", values = \"LISTING_COUNT\")"
   ]
  },
  {
   "cell_type": "code",
   "execution_count": 6,
   "id": "union-huntington",
   "metadata": {
    "execution": {
     "iopub.execute_input": "2021-09-08T18:00:08.662352Z",
     "iopub.status.busy": "2021-09-08T18:00:08.660281Z",
     "iopub.status.idle": "2021-09-08T18:00:08.665517Z",
     "shell.execute_reply": "2021-09-08T18:00:08.666713Z"
    },
    "papermill": {
     "duration": 0.040698,
     "end_time": "2021-09-08T18:00:08.667335",
     "exception": false,
     "start_time": "2021-09-08T18:00:08.626637",
     "status": "completed"
    },
    "tags": []
   },
   "outputs": [],
   "source": [
    "df_pivot.columns = [\"stamp_1\", \"stamp_2\"]\n",
    "df_pivot_diff = df_pivot.diff(axis=1)"
   ]
  },
  {
   "cell_type": "code",
   "execution_count": 7,
   "id": "fifth-motion",
   "metadata": {
    "execution": {
     "iopub.execute_input": "2021-09-08T18:00:08.723083Z",
     "iopub.status.busy": "2021-09-08T18:00:08.720389Z",
     "iopub.status.idle": "2021-09-08T18:00:10.211456Z",
     "shell.execute_reply": "2021-09-08T18:00:10.212847Z"
    },
    "papermill": {
     "duration": 1.524929,
     "end_time": "2021-09-08T18:00:10.213284",
     "exception": false,
     "start_time": "2021-09-08T18:00:08.688355",
     "status": "completed"
    },
    "tags": []
   },
   "outputs": [
    {
     "data": {
      "text/plain": [
       "<AxesSubplot:ylabel='PRODUCT'>"
      ]
     },
     "execution_count": 7,
     "metadata": {},
     "output_type": "execute_result"
    },
    {
     "data": {
      "image/png": "[encoded data removed]",
      "text/plain": [
       "<Figure size 432x288 with 1 Axes>"
      ]
     },
     "metadata": {
      "needs_background": "light"
     },
     "output_type": "display_data"
    }
   ],
   "source": [
    "df_pivot_diff.sort_values(\"stamp_2\", ascending = False)[\"stamp_2\"].head(10).plot.barh()"
   ]
  },
  {
   "cell_type": "code",
   "execution_count": null,
   "id": "extra-executive",
   "metadata": {
    "papermill": {
     "duration": 0.022035,
     "end_time": "2021-09-08T18:00:10.259623",
     "exception": false,
     "start_time": "2021-09-08T18:00:10.237588",
     "status": "completed"
    },
    "tags": []
   },
   "outputs": [],
   "source": []
  }
 ],
 "metadata": {
  "kernelspec": {
   "display_name": "Python 3",
   "language": "python",
   "name": "python3"
  },
  "language_info": {
   "codemirror_mode": {
    "name": "ipython",
    "version": 3
   },
   "file_extension": ".py",
   "mimetype": "text/x-python",
   "name": "python",
   "nbconvert_exporter": "python",
   "pygments_lexer": "ipython3",
   "version": "3.9.5"
  },
  "papermill": {
   "default_parameters": {},
   "duration": 6.455034,
   "end_time": "2021-09-08T18:00:10.900990",
   "environment_variables": {},
   "exception": null,
   "input_path": "eBay_Overview.ipynb",
   "output_path": "eBay_Overview.ipynb",
   "parameters": {},
   "start_time": "2021-09-08T18:00:04.445956",
   "version": "2.3.3"
  }
 },
 "nbformat": 4,
 "nbformat_minor": 5
}