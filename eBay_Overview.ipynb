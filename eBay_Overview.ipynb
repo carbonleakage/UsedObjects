{
 "cells": [
  {
   "cell_type": "code",
   "execution_count": 1,
   "id": "reverse-picking",
   "metadata": {
    "execution": {
     "iopub.execute_input": "2021-11-19T13:00:07.847128Z",
     "iopub.status.busy": "2021-11-19T13:00:07.844957Z",
     "iopub.status.idle": "2021-11-19T13:00:08.795805Z",
     "shell.execute_reply": "2021-11-19T13:00:08.793942Z"
    },
    "papermill": {
     "duration": 0.997964,
     "end_time": "2021-11-19T13:00:08.796323",
     "exception": false,
     "start_time": "2021-11-19T13:00:07.798359",
     "status": "completed"
    },
    "tags": []
   },
   "outputs": [],
   "source": [
    "import pandas as pd\n",
    "import sqlite3"
   ]
  },
  {
   "cell_type": "code",
   "execution_count": 2,
   "id": "innovative-syndrome",
   "metadata": {
    "execution": {
     "iopub.execute_input": "2021-11-19T13:00:08.861299Z",
     "iopub.status.busy": "2021-11-19T13:00:08.858976Z",
     "iopub.status.idle": "2021-11-19T13:00:09.713713Z",
     "shell.execute_reply": "2021-11-19T13:00:09.715398Z"
    },
    "papermill": {
     "duration": 0.890833,
     "end_time": "2021-11-19T13:00:09.715926",
     "exception": false,
     "start_time": "2021-11-19T13:00:08.825093",
     "status": "completed"
    },
    "tags": []
   },
   "outputs": [],
   "source": [
    "timestamps = pd.read_sql(\"select distinct record_time from EBAY_TOP_BERLIN order by record_time desc limit 2\", sqlite3.connect(\"UsedObjects.db\"))"
   ]
  },
  {
   "cell_type": "code",
   "execution_count": 3,
   "id": "periodic-identification",
   "metadata": {
    "execution": {
     "iopub.execute_input": "2021-11-19T13:00:09.786656Z",
     "iopub.status.busy": "2021-11-19T13:00:09.784157Z",
     "iopub.status.idle": "2021-11-19T13:00:09.807937Z",
     "shell.execute_reply": "2021-11-19T13:00:09.809586Z"
    },
    "papermill": {
     "duration": 0.073763,
     "end_time": "2021-11-19T13:00:09.810067",
     "exception": false,
     "start_time": "2021-11-19T13:00:09.736304",
     "status": "completed"
    },
    "tags": []
   },
   "outputs": [
    {
     "data": {
      "text/html": [
       "<div>\n",
       "<style scoped>\n",
       "    .dataframe tbody tr th:only-of-type {\n",
       "        vertical-align: middle;\n",
       "    }\n",
       "\n",
       "    .dataframe tbody tr th {\n",
       "        vertical-align: top;\n",
       "    }\n",
       "\n",
       "    .dataframe thead th {\n",
       "        text-align: right;\n",
       "    }\n",
       "</style>\n",
       "<table border=\"1\" class=\"dataframe\">\n",
       "  <thead>\n",
       "    <tr style=\"text-align: right;\">\n",
       "      <th></th>\n",
       "      <th>RECORD_TIME</th>\n",
       "    </tr>\n",
       "  </thead>\n",
       "  <tbody>\n",
       "    <tr>\n",
       "      <th>0</th>\n",
       "      <td>2021-11-19 14:00</td>\n",
       "    </tr>\n",
       "    <tr>\n",
       "      <th>1</th>\n",
       "      <td>2021-11-19 13:30</td>\n",
       "    </tr>\n",
       "  </tbody>\n",
       "</table>\n",
       "</div>"
      ],
      "text/plain": [
       "        RECORD_TIME\n",
       "0  2021-11-19 14:00\n",
       "1  2021-11-19 13:30"
      ]
     },
     "execution_count": 3,
     "metadata": {},
     "output_type": "execute_result"
    }
   ],
   "source": [
    "timestamps"
   ]
  },
  {
   "cell_type": "code",
   "execution_count": 4,
   "id": "alternate-victory",
   "metadata": {
    "execution": {
     "iopub.execute_input": "2021-11-19T13:00:09.863935Z",
     "iopub.status.busy": "2021-11-19T13:00:09.861781Z",
     "iopub.status.idle": "2021-11-19T13:00:11.096288Z",
     "shell.execute_reply": "2021-11-19T13:00:11.098038Z"
    },
    "papermill": {
     "duration": 1.267881,
     "end_time": "2021-11-19T13:00:11.098519",
     "exception": false,
     "start_time": "2021-11-19T13:00:09.830638",
     "status": "completed"
    },
    "tags": []
   },
   "outputs": [],
   "source": [
    "df = pd.read_sql(\"select * from EBAY_TOP_BERLIN where record_time in (select distinct record_time from EBAY_TOP_BERLIN order by record_time desc limit 2)\", sqlite3.connect(\"UsedObjects.db\"))"
   ]
  },
  {
   "cell_type": "code",
   "execution_count": 5,
   "id": "popular-active",
   "metadata": {
    "execution": {
     "iopub.execute_input": "2021-11-19T13:00:11.177874Z",
     "iopub.status.busy": "2021-11-19T13:00:11.163315Z",
     "iopub.status.idle": "2021-11-19T13:00:11.200517Z",
     "shell.execute_reply": "2021-11-19T13:00:11.198898Z"
    },
    "papermill": {
     "duration": 0.080641,
     "end_time": "2021-11-19T13:00:11.201012",
     "exception": false,
     "start_time": "2021-11-19T13:00:11.120371",
     "status": "completed"
    },
    "tags": []
   },
   "outputs": [],
   "source": [
    "df_pivot = df.pivot_table(index=\"PRODUCT\", columns = \"RECORD_TIME\", values = \"LISTING_COUNT\")"
   ]
  },
  {
   "cell_type": "code",
   "execution_count": 6,
   "id": "union-huntington",
   "metadata": {
    "execution": {
     "iopub.execute_input": "2021-11-19T13:00:11.264169Z",
     "iopub.status.busy": "2021-11-19T13:00:11.261976Z",
     "iopub.status.idle": "2021-11-19T13:00:11.266690Z",
     "shell.execute_reply": "2021-11-19T13:00:11.268289Z"
    },
    "papermill": {
     "duration": 0.04647,
     "end_time": "2021-11-19T13:00:11.268912",
     "exception": false,
     "start_time": "2021-11-19T13:00:11.222442",
     "status": "completed"
    },
    "tags": []
   },
   "outputs": [],
   "source": [
    "df_pivot.columns = [\"stamp_1\", \"stamp_2\"]\n",
    "df_pivot_diff = df_pivot.diff(axis=1)"
   ]
  },
  {
   "cell_type": "code",
   "execution_count": 7,
   "id": "fifth-motion",
   "metadata": {
    "execution": {
     "iopub.execute_input": "2021-11-19T13:00:11.328854Z",
     "iopub.status.busy": "2021-11-19T13:00:11.326286Z",
     "iopub.status.idle": "2021-11-19T13:00:13.069284Z",
     "shell.execute_reply": "2021-11-19T13:00:13.070643Z"
    },
    "papermill": {
     "duration": 1.781369,
     "end_time": "2021-11-19T13:00:13.071112",
     "exception": false,
     "start_time": "2021-11-19T13:00:11.289743",
     "status": "completed"
    },
    "tags": []
   },
   "outputs": [
    {
     "data": {
      "text/plain": [
       "<AxesSubplot:ylabel='PRODUCT'>"
      ]
     },
     "execution_count": 7,
     "metadata": {},
     "output_type": "execute_result"
    },
    {
     "data": {
      "image/png": "[encoded data removed]",
      "text/plain": [
       "<Figure size 432x288 with 1 Axes>"
      ]
     },
     "metadata": {
      "needs_background": "light"
     },
     "output_type": "display_data"
    }
   ],
   "source": [
    "df_pivot_diff.sort_values(\"stamp_2\", ascending = False)[\"stamp_2\"].head(10).plot.barh()"
   ]
  },
  {
   "cell_type": "code",
   "execution_count": null,
   "id": "extra-executive",
   "metadata": {
    "papermill": {
     "duration": 0.02664,
     "end_time": "2021-11-19T13:00:13.121450",
     "exception": false,
     "start_time": "2021-11-19T13:00:13.094810",
     "status": "completed"
    },
    "tags": []
   },
   "outputs": [],
   "source": []
  }
 ],
 "metadata": {
  "kernelspec": {
   "display_name": "Python 3",
   "language": "python",
   "name": "python3"
  },
  "language_info": {
   "codemirror_mode": {
    "name": "ipython",
    "version": 3
   },
   "file_extension": ".py",
   "mimetype": "text/x-python",
   "name": "python",
   "nbconvert_exporter": "python",
   "pygments_lexer": "ipython3",
   "version": "3.9.5"
  },
  "papermill": {
   "default_parameters": {},
   "duration": 10.003934,
   "end_time": "2021-11-19T13:00:15.003124",
   "environment_variables": {},
   "exception": null,
   "input_path": "eBay_Overview.ipynb",
   "output_path": "eBay_Overview.ipynb",
   "parameters": {},
   "start_time": "2021-11-19T13:00:04.999190",
   "version": "2.3.3"
  }
 },
 "nbformat": 4,
 "nbformat_minor": 5
}