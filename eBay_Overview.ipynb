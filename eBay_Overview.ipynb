{
 "cells": [
  {
   "cell_type": "code",
   "execution_count": 1,
   "id": "reverse-picking",
   "metadata": {
    "execution": {
     "iopub.execute_input": "2021-11-21T12:30:07.325464Z",
     "iopub.status.busy": "2021-11-21T12:30:07.323051Z",
     "iopub.status.idle": "2021-11-21T12:30:08.273446Z",
     "shell.execute_reply": "2021-11-21T12:30:08.275051Z"
    },
    "papermill": {
     "duration": 1.000253,
     "end_time": "2021-11-21T12:30:08.275744",
     "exception": false,
     "start_time": "2021-11-21T12:30:07.275491",
     "status": "completed"
    },
    "tags": []
   },
   "outputs": [],
   "source": [
    "import pandas as pd\n",
    "import sqlite3"
   ]
  },
  {
   "cell_type": "code",
   "execution_count": 2,
   "id": "innovative-syndrome",
   "metadata": {
    "execution": {
     "iopub.execute_input": "2021-11-21T12:30:08.331548Z",
     "iopub.status.busy": "2021-11-21T12:30:08.329346Z",
     "iopub.status.idle": "2021-11-21T12:30:09.215173Z",
     "shell.execute_reply": "2021-11-21T12:30:09.216673Z"
    },
    "papermill": {
     "duration": 0.920286,
     "end_time": "2021-11-21T12:30:09.217218",
     "exception": false,
     "start_time": "2021-11-21T12:30:08.296932",
     "status": "completed"
    },
    "tags": []
   },
   "outputs": [],
   "source": [
    "timestamps = pd.read_sql(\"select distinct record_time from EBAY_TOP_BERLIN order by record_time desc limit 2\", sqlite3.connect(\"UsedObjects.db\"))"
   ]
  },
  {
   "cell_type": "code",
   "execution_count": 3,
   "id": "periodic-identification",
   "metadata": {
    "execution": {
     "iopub.execute_input": "2021-11-21T12:30:09.287768Z",
     "iopub.status.busy": "2021-11-21T12:30:09.285418Z",
     "iopub.status.idle": "2021-11-21T12:30:09.309377Z",
     "shell.execute_reply": "2021-11-21T12:30:09.311188Z"
    },
    "papermill": {
     "duration": 0.073727,
     "end_time": "2021-11-21T12:30:09.311663",
     "exception": false,
     "start_time": "2021-11-21T12:30:09.237936",
     "status": "completed"
    },
    "tags": []
   },
   "outputs": [
    {
     "data": {
      "text/html": [
       "<div>\n",
       "<style scoped>\n",
       "    .dataframe tbody tr th:only-of-type {\n",
       "        vertical-align: middle;\n",
       "    }\n",
       "\n",
       "    .dataframe tbody tr th {\n",
       "        vertical-align: top;\n",
       "    }\n",
       "\n",
       "    .dataframe thead th {\n",
       "        text-align: right;\n",
       "    }\n",
       "</style>\n",
       "<table border=\"1\" class=\"dataframe\">\n",
       "  <thead>\n",
       "    <tr style=\"text-align: right;\">\n",
       "      <th></th>\n",
       "      <th>RECORD_TIME</th>\n",
       "    </tr>\n",
       "  </thead>\n",
       "  <tbody>\n",
       "    <tr>\n",
       "      <th>0</th>\n",
       "      <td>2021-11-21 13:30</td>\n",
       "    </tr>\n",
       "    <tr>\n",
       "      <th>1</th>\n",
       "      <td>2021-11-21 13:00</td>\n",
       "    </tr>\n",
       "  </tbody>\n",
       "</table>\n",
       "</div>"
      ],
      "text/plain": [
       "        RECORD_TIME\n",
       "0  2021-11-21 13:30\n",
       "1  2021-11-21 13:00"
      ]
     },
     "execution_count": 3,
     "metadata": {},
     "output_type": "execute_result"
    }
   ],
   "source": [
    "timestamps"
   ]
  },
  {
   "cell_type": "code",
   "execution_count": 4,
   "id": "alternate-victory",
   "metadata": {
    "execution": {
     "iopub.execute_input": "2021-11-21T12:30:09.364921Z",
     "iopub.status.busy": "2021-11-21T12:30:09.362728Z",
     "iopub.status.idle": "2021-11-21T12:30:10.644292Z",
     "shell.execute_reply": "2021-11-21T12:30:10.646645Z"
    },
    "papermill": {
     "duration": 1.314978,
     "end_time": "2021-11-21T12:30:10.647199",
     "exception": false,
     "start_time": "2021-11-21T12:30:09.332221",
     "status": "completed"
    },
    "tags": []
   },
   "outputs": [],
   "source": [
    "df = pd.read_sql(\"select * from EBAY_TOP_BERLIN where record_time in (select distinct record_time from EBAY_TOP_BERLIN order by record_time desc limit 2)\", sqlite3.connect(\"UsedObjects.db\"))"
   ]
  },
  {
   "cell_type": "code",
   "execution_count": 5,
   "id": "popular-active",
   "metadata": {
    "execution": {
     "iopub.execute_input": "2021-11-21T12:30:10.724944Z",
     "iopub.status.busy": "2021-11-21T12:30:10.711943Z",
     "iopub.status.idle": "2021-11-21T12:30:10.747918Z",
     "shell.execute_reply": "2021-11-21T12:30:10.749582Z"
    },
    "papermill": {
     "duration": 0.080963,
     "end_time": "2021-11-21T12:30:10.750072",
     "exception": false,
     "start_time": "2021-11-21T12:30:10.669109",
     "status": "completed"
    },
    "tags": []
   },
   "outputs": [],
   "source": [
    "df_pivot = df.pivot_table(index=\"PRODUCT\", columns = \"RECORD_TIME\", values = \"LISTING_COUNT\")"
   ]
  },
  {
   "cell_type": "code",
   "execution_count": 6,
   "id": "union-huntington",
   "metadata": {
    "execution": {
     "iopub.execute_input": "2021-11-21T12:30:10.811441Z",
     "iopub.status.busy": "2021-11-21T12:30:10.809049Z",
     "iopub.status.idle": "2021-11-21T12:30:10.816675Z",
     "shell.execute_reply": "2021-11-21T12:30:10.814966Z"
    },
    "papermill": {
     "duration": 0.046515,
     "end_time": "2021-11-21T12:30:10.817140",
     "exception": false,
     "start_time": "2021-11-21T12:30:10.770625",
     "status": "completed"
    },
    "tags": []
   },
   "outputs": [],
   "source": [
    "df_pivot.columns = [\"stamp_1\", \"stamp_2\"]\n",
    "df_pivot_diff = df_pivot.diff(axis=1)"
   ]
  },
  {
   "cell_type": "code",
   "execution_count": 7,
   "id": "fifth-motion",
   "metadata": {
    "execution": {
     "iopub.execute_input": "2021-11-21T12:30:10.874673Z",
     "iopub.status.busy": "2021-11-21T12:30:10.872130Z",
     "iopub.status.idle": "2021-11-21T12:30:12.597886Z",
     "shell.execute_reply": "2021-11-21T12:30:12.599214Z"
    },
    "papermill": {
     "duration": 1.760474,
     "end_time": "2021-11-21T12:30:12.599679",
     "exception": false,
     "start_time": "2021-11-21T12:30:10.839205",
     "status": "completed"
    },
    "tags": []
   },
   "outputs": [
    {
     "data": {
      "text/plain": [
       "<AxesSubplot:ylabel='PRODUCT'>"
      ]
     },
     "execution_count": 7,
     "metadata": {},
     "output_type": "execute_result"
    },
    {
     "data": {
      "image/png": "[encoded data removed]",
      "text/plain": [
       "<Figure size 432x288 with 1 Axes>"
      ]
     },
     "metadata": {
      "needs_background": "light"
     },
     "output_type": "display_data"
    }
   ],
   "source": [
    "df_pivot_diff.sort_values(\"stamp_2\", ascending = False)[\"stamp_2\"].head(10).plot.barh()"
   ]
  },
  {
   "cell_type": "code",
   "execution_count": null,
   "id": "extra-executive",
   "metadata": {
    "papermill": {
     "duration": 0.036801,
     "end_time": "2021-11-21T12:30:12.663604",
     "exception": false,
     "start_time": "2021-11-21T12:30:12.626803",
     "status": "completed"
    },
    "tags": []
   },
   "outputs": [],
   "source": []
  }
 ],
 "metadata": {
  "kernelspec": {
   "display_name": "Python 3",
   "language": "python",
   "name": "python3"
  },
  "language_info": {
   "codemirror_mode": {
    "name": "ipython",
    "version": 3
   },
   "file_extension": ".py",
   "mimetype": "text/x-python",
   "name": "python",
   "nbconvert_exporter": "python",
   "pygments_lexer": "ipython3",
   "version": "3.9.5"
  },
  "papermill": {
   "default_parameters": {},
   "duration": 10.001276,
   "end_time": "2021-11-21T12:30:14.484408",
   "environment_variables": {},
   "exception": null,
   "input_path": "eBay_Overview.ipynb",
   "output_path": "eBay_Overview.ipynb",
   "parameters": {},
   "start_time": "2021-11-21T12:30:04.483132",
   "version": "2.3.3"
  }
 },
 "nbformat": 4,
 "nbformat_minor": 5
}