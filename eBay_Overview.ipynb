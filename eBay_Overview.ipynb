{
 "cells": [
  {
   "cell_type": "code",
   "execution_count": 1,
   "id": "reverse-picking",
   "metadata": {
    "execution": {
     "iopub.execute_input": "2021-11-21T00:00:07.667793Z",
     "iopub.status.busy": "2021-11-21T00:00:07.665601Z",
     "iopub.status.idle": "2021-11-21T00:00:08.621945Z",
     "shell.execute_reply": "2021-11-21T00:00:08.623500Z"
    },
    "papermill": {
     "duration": 1.005224,
     "end_time": "2021-11-21T00:00:08.624248",
     "exception": false,
     "start_time": "2021-11-21T00:00:07.619024",
     "status": "completed"
    },
    "tags": []
   },
   "outputs": [],
   "source": [
    "import pandas as pd\n",
    "import sqlite3"
   ]
  },
  {
   "cell_type": "code",
   "execution_count": 2,
   "id": "innovative-syndrome",
   "metadata": {
    "execution": {
     "iopub.execute_input": "2021-11-21T00:00:08.689664Z",
     "iopub.status.busy": "2021-11-21T00:00:08.687084Z",
     "iopub.status.idle": "2021-11-21T00:00:09.568771Z",
     "shell.execute_reply": "2021-11-21T00:00:09.570212Z"
    },
    "papermill": {
     "duration": 0.917189,
     "end_time": "2021-11-21T00:00:09.570703",
     "exception": false,
     "start_time": "2021-11-21T00:00:08.653514",
     "status": "completed"
    },
    "tags": []
   },
   "outputs": [],
   "source": [
    "timestamps = pd.read_sql(\"select distinct record_time from EBAY_TOP_BERLIN order by record_time desc limit 2\", sqlite3.connect(\"UsedObjects.db\"))"
   ]
  },
  {
   "cell_type": "code",
   "execution_count": 3,
   "id": "periodic-identification",
   "metadata": {
    "execution": {
     "iopub.execute_input": "2021-11-21T00:00:09.646846Z",
     "iopub.status.busy": "2021-11-21T00:00:09.640556Z",
     "iopub.status.idle": "2021-11-21T00:00:09.662917Z",
     "shell.execute_reply": "2021-11-21T00:00:09.664309Z"
    },
    "papermill": {
     "duration": 0.072641,
     "end_time": "2021-11-21T00:00:09.664860",
     "exception": false,
     "start_time": "2021-11-21T00:00:09.592219",
     "status": "completed"
    },
    "tags": []
   },
   "outputs": [
    {
     "data": {
      "text/html": [
       "<div>\n",
       "<style scoped>\n",
       "    .dataframe tbody tr th:only-of-type {\n",
       "        vertical-align: middle;\n",
       "    }\n",
       "\n",
       "    .dataframe tbody tr th {\n",
       "        vertical-align: top;\n",
       "    }\n",
       "\n",
       "    .dataframe thead th {\n",
       "        text-align: right;\n",
       "    }\n",
       "</style>\n",
       "<table border=\"1\" class=\"dataframe\">\n",
       "  <thead>\n",
       "    <tr style=\"text-align: right;\">\n",
       "      <th></th>\n",
       "      <th>RECORD_TIME</th>\n",
       "    </tr>\n",
       "  </thead>\n",
       "  <tbody>\n",
       "    <tr>\n",
       "      <th>0</th>\n",
       "      <td>2021-11-21 01:00</td>\n",
       "    </tr>\n",
       "    <tr>\n",
       "      <th>1</th>\n",
       "      <td>2021-11-21 00:30</td>\n",
       "    </tr>\n",
       "  </tbody>\n",
       "</table>\n",
       "</div>"
      ],
      "text/plain": [
       "        RECORD_TIME\n",
       "0  2021-11-21 01:00\n",
       "1  2021-11-21 00:30"
      ]
     },
     "execution_count": 3,
     "metadata": {},
     "output_type": "execute_result"
    }
   ],
   "source": [
    "timestamps"
   ]
  },
  {
   "cell_type": "code",
   "execution_count": 4,
   "id": "alternate-victory",
   "metadata": {
    "execution": {
     "iopub.execute_input": "2021-11-21T00:00:09.718495Z",
     "iopub.status.busy": "2021-11-21T00:00:09.716383Z",
     "iopub.status.idle": "2021-11-21T00:00:10.996807Z",
     "shell.execute_reply": "2021-11-21T00:00:10.998492Z"
    },
    "papermill": {
     "duration": 1.313362,
     "end_time": "2021-11-21T00:00:10.999110",
     "exception": false,
     "start_time": "2021-11-21T00:00:09.685748",
     "status": "completed"
    },
    "tags": []
   },
   "outputs": [],
   "source": [
    "df = pd.read_sql(\"select * from EBAY_TOP_BERLIN where record_time in (select distinct record_time from EBAY_TOP_BERLIN order by record_time desc limit 2)\", sqlite3.connect(\"UsedObjects.db\"))"
   ]
  },
  {
   "cell_type": "code",
   "execution_count": 5,
   "id": "popular-active",
   "metadata": {
    "execution": {
     "iopub.execute_input": "2021-11-21T00:00:11.074464Z",
     "iopub.status.busy": "2021-11-21T00:00:11.065701Z",
     "iopub.status.idle": "2021-11-21T00:00:11.098790Z",
     "shell.execute_reply": "2021-11-21T00:00:11.100470Z"
    },
    "papermill": {
     "duration": 0.079424,
     "end_time": "2021-11-21T00:00:11.101028",
     "exception": false,
     "start_time": "2021-11-21T00:00:11.021604",
     "status": "completed"
    },
    "tags": []
   },
   "outputs": [],
   "source": [
    "df_pivot = df.pivot_table(index=\"PRODUCT\", columns = \"RECORD_TIME\", values = \"LISTING_COUNT\")"
   ]
  },
  {
   "cell_type": "code",
   "execution_count": 6,
   "id": "union-huntington",
   "metadata": {
    "execution": {
     "iopub.execute_input": "2021-11-21T00:00:11.163973Z",
     "iopub.status.busy": "2021-11-21T00:00:11.161673Z",
     "iopub.status.idle": "2021-11-21T00:00:11.167049Z",
     "shell.execute_reply": "2021-11-21T00:00:11.168409Z"
    },
    "papermill": {
     "duration": 0.046443,
     "end_time": "2021-11-21T00:00:11.168929",
     "exception": false,
     "start_time": "2021-11-21T00:00:11.122486",
     "status": "completed"
    },
    "tags": []
   },
   "outputs": [],
   "source": [
    "df_pivot.columns = [\"stamp_1\", \"stamp_2\"]\n",
    "df_pivot_diff = df_pivot.diff(axis=1)"
   ]
  },
  {
   "cell_type": "code",
   "execution_count": 7,
   "id": "fifth-motion",
   "metadata": {
    "execution": {
     "iopub.execute_input": "2021-11-21T00:00:11.224564Z",
     "iopub.status.busy": "2021-11-21T00:00:11.222140Z",
     "iopub.status.idle": "2021-11-21T00:00:12.931273Z",
     "shell.execute_reply": "2021-11-21T00:00:12.932645Z"
    },
    "papermill": {
     "duration": 1.744545,
     "end_time": "2021-11-21T00:00:12.933191",
     "exception": false,
     "start_time": "2021-11-21T00:00:11.188646",
     "status": "completed"
    },
    "tags": []
   },
   "outputs": [
    {
     "data": {
      "text/plain": [
       "<AxesSubplot:ylabel='PRODUCT'>"
      ]
     },
     "execution_count": 7,
     "metadata": {},
     "output_type": "execute_result"
    },
    {
     "data": {
      "image/png": "[encoded data removed]",
      "text/plain": [
       "<Figure size 432x288 with 1 Axes>"
      ]
     },
     "metadata": {
      "needs_background": "light"
     },
     "output_type": "display_data"
    }
   ],
   "source": [
    "df_pivot_diff.sort_values(\"stamp_2\", ascending = False)[\"stamp_2\"].head(10).plot.barh()"
   ]
  },
  {
   "cell_type": "code",
   "execution_count": null,
   "id": "extra-executive",
   "metadata": {
    "papermill": {
     "duration": 0.031434,
     "end_time": "2021-11-21T00:00:12.989786",
     "exception": false,
     "start_time": "2021-11-21T00:00:12.958352",
     "status": "completed"
    },
    "tags": []
   },
   "outputs": [],
   "source": []
  }
 ],
 "metadata": {
  "kernelspec": {
   "display_name": "Python 3",
   "language": "python",
   "name": "python3"
  },
  "language_info": {
   "codemirror_mode": {
    "name": "ipython",
    "version": 3
   },
   "file_extension": ".py",
   "mimetype": "text/x-python",
   "name": "python",
   "nbconvert_exporter": "python",
   "pygments_lexer": "ipython3",
   "version": "3.9.5"
  },
  "papermill": {
   "default_parameters": {},
   "duration": 10.011795,
   "end_time": "2021-11-21T00:00:14.810953",
   "environment_variables": {},
   "exception": null,
   "input_path": "eBay_Overview.ipynb",
   "output_path": "eBay_Overview.ipynb",
   "parameters": {},
   "start_time": "2021-11-21T00:00:04.799158",
   "version": "2.3.3"
  }
 },
 "nbformat": 4,
 "nbformat_minor": 5
}