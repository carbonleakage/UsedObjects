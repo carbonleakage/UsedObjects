{
 "cells": [
  {
   "cell_type": "code",
   "execution_count": 1,
   "id": "reverse-picking",
   "metadata": {
    "execution": {
     "iopub.execute_input": "2021-08-09T13:30:04.354227Z",
     "iopub.status.busy": "2021-08-09T13:30:04.353461Z",
     "iopub.status.idle": "2021-08-09T13:30:04.966978Z",
     "shell.execute_reply": "2021-08-09T13:30:04.966273Z"
    },
    "papermill": {
     "duration": 0.632265,
     "end_time": "2021-08-09T13:30:04.967162",
     "exception": false,
     "start_time": "2021-08-09T13:30:04.334897",
     "status": "completed"
    },
    "tags": []
   },
   "outputs": [],
   "source": [
    "import pandas as pd\n",
    "import sqlite3"
   ]
  },
  {
   "cell_type": "code",
   "execution_count": 2,
   "id": "innovative-syndrome",
   "metadata": {
    "execution": {
     "iopub.execute_input": "2021-08-09T13:30:04.994103Z",
     "iopub.status.busy": "2021-08-09T13:30:04.993341Z",
     "iopub.status.idle": "2021-08-09T13:30:05.246465Z",
     "shell.execute_reply": "2021-08-09T13:30:05.247143Z"
    },
    "papermill": {
     "duration": 0.267435,
     "end_time": "2021-08-09T13:30:05.247365",
     "exception": false,
     "start_time": "2021-08-09T13:30:04.979930",
     "status": "completed"
    },
    "tags": []
   },
   "outputs": [],
   "source": [
    "timestamps = pd.read_sql(\"select distinct record_time from EBAY_TOP_BERLIN order by record_time desc limit 2\", sqlite3.connect(\"UsedObjects.db\"))"
   ]
  },
  {
   "cell_type": "code",
   "execution_count": 3,
   "id": "periodic-identification",
   "metadata": {
    "execution": {
     "iopub.execute_input": "2021-08-09T13:30:05.278228Z",
     "iopub.status.busy": "2021-08-09T13:30:05.277448Z",
     "iopub.status.idle": "2021-08-09T13:30:05.290457Z",
     "shell.execute_reply": "2021-08-09T13:30:05.291156Z"
    },
    "papermill": {
     "duration": 0.035535,
     "end_time": "2021-08-09T13:30:05.291351",
     "exception": false,
     "start_time": "2021-08-09T13:30:05.255816",
     "status": "completed"
    },
    "tags": []
   },
   "outputs": [
    {
     "data": {
      "text/html": [
       "<div>\n",
       "<style scoped>\n",
       "    .dataframe tbody tr th:only-of-type {\n",
       "        vertical-align: middle;\n",
       "    }\n",
       "\n",
       "    .dataframe tbody tr th {\n",
       "        vertical-align: top;\n",
       "    }\n",
       "\n",
       "    .dataframe thead th {\n",
       "        text-align: right;\n",
       "    }\n",
       "</style>\n",
       "<table border=\"1\" class=\"dataframe\">\n",
       "  <thead>\n",
       "    <tr style=\"text-align: right;\">\n",
       "      <th></th>\n",
       "      <th>RECORD_TIME</th>\n",
       "    </tr>\n",
       "  </thead>\n",
       "  <tbody>\n",
       "    <tr>\n",
       "      <th>0</th>\n",
       "      <td>2021-08-09 15:30</td>\n",
       "    </tr>\n",
       "    <tr>\n",
       "      <th>1</th>\n",
       "      <td>2021-08-09 15:00</td>\n",
       "    </tr>\n",
       "  </tbody>\n",
       "</table>\n",
       "</div>"
      ],
      "text/plain": [
       "        RECORD_TIME\n",
       "0  2021-08-09 15:30\n",
       "1  2021-08-09 15:00"
      ]
     },
     "execution_count": 3,
     "metadata": {},
     "output_type": "execute_result"
    }
   ],
   "source": [
    "timestamps"
   ]
  },
  {
   "cell_type": "code",
   "execution_count": 4,
   "id": "alternate-victory",
   "metadata": {
    "execution": {
     "iopub.execute_input": "2021-08-09T13:30:05.315483Z",
     "iopub.status.busy": "2021-08-09T13:30:05.314688Z",
     "iopub.status.idle": "2021-08-09T13:30:05.325185Z",
     "shell.execute_reply": "2021-08-09T13:30:05.325803Z"
    },
    "papermill": {
     "duration": 0.025701,
     "end_time": "2021-08-09T13:30:05.326131",
     "exception": false,
     "start_time": "2021-08-09T13:30:05.300430",
     "status": "completed"
    },
    "tags": []
   },
   "outputs": [],
   "source": [
    "df = pd.read_sql(\"select * from EBAY_TOP_BERLIN where record_time in (select distinct record_time from EBAY_TOP_BERLIN order by record_time desc limit 2)\", sqlite3.connect(\"UsedObjects.db\"))"
   ]
  },
  {
   "cell_type": "code",
   "execution_count": 5,
   "id": "popular-active",
   "metadata": {
    "execution": {
     "iopub.execute_input": "2021-08-09T13:30:05.358825Z",
     "iopub.status.busy": "2021-08-09T13:30:05.357963Z",
     "iopub.status.idle": "2021-08-09T13:30:05.378986Z",
     "shell.execute_reply": "2021-08-09T13:30:05.377899Z"
    },
    "papermill": {
     "duration": 0.036973,
     "end_time": "2021-08-09T13:30:05.379227",
     "exception": false,
     "start_time": "2021-08-09T13:30:05.342254",
     "status": "completed"
    },
    "tags": []
   },
   "outputs": [],
   "source": [
    "df_pivot = df.pivot_table(index=\"PRODUCT\", columns = \"RECORD_TIME\", values = \"LISTING_COUNT\")"
   ]
  },
  {
   "cell_type": "code",
   "execution_count": 6,
   "id": "union-huntington",
   "metadata": {
    "execution": {
     "iopub.execute_input": "2021-08-09T13:30:05.407977Z",
     "iopub.status.busy": "2021-08-09T13:30:05.406707Z",
     "iopub.status.idle": "2021-08-09T13:30:05.415963Z",
     "shell.execute_reply": "2021-08-09T13:30:05.416774Z"
    },
    "papermill": {
     "duration": 0.027834,
     "end_time": "2021-08-09T13:30:05.417042",
     "exception": false,
     "start_time": "2021-08-09T13:30:05.389208",
     "status": "completed"
    },
    "tags": []
   },
   "outputs": [],
   "source": [
    "df_pivot.columns = [\"stamp_1\", \"stamp_2\"]\n",
    "df_pivot_diff = df_pivot.diff(axis=1)"
   ]
  },
  {
   "cell_type": "code",
   "execution_count": 7,
   "id": "fifth-motion",
   "metadata": {
    "execution": {
     "iopub.execute_input": "2021-08-09T13:30:05.447075Z",
     "iopub.status.busy": "2021-08-09T13:30:05.446312Z",
     "iopub.status.idle": "2021-08-09T13:30:06.159822Z",
     "shell.execute_reply": "2021-08-09T13:30:06.159075Z"
    },
    "papermill": {
     "duration": 0.732375,
     "end_time": "2021-08-09T13:30:06.159984",
     "exception": false,
     "start_time": "2021-08-09T13:30:05.427609",
     "status": "completed"
    },
    "tags": []
   },
   "outputs": [
    {
     "data": {
      "text/plain": [
       "<AxesSubplot:ylabel='PRODUCT'>"
      ]
     },
     "execution_count": 7,
     "metadata": {},
     "output_type": "execute_result"
    },
    {
     "data": {
      "image/png": "[encoded data removed]",
      "text/plain": [
       "<Figure size 432x288 with 1 Axes>"
      ]
     },
     "metadata": {
      "needs_background": "light"
     },
     "output_type": "display_data"
    }
   ],
   "source": [
    "df_pivot_diff.sort_values(\"stamp_2\", ascending = False)[\"stamp_2\"].head(10).plot.barh()"
   ]
  },
  {
   "cell_type": "code",
   "execution_count": null,
   "id": "extra-executive",
   "metadata": {
    "papermill": {
     "duration": 0.01228,
     "end_time": "2021-08-09T13:30:06.184919",
     "exception": false,
     "start_time": "2021-08-09T13:30:06.172639",
     "status": "completed"
    },
    "tags": []
   },
   "outputs": [],
   "source": []
  }
 ],
 "metadata": {
  "kernelspec": {
   "display_name": "Python 3",
   "language": "python",
   "name": "python3"
  },
  "language_info": {
   "codemirror_mode": {
    "name": "ipython",
    "version": 3
   },
   "file_extension": ".py",
   "mimetype": "text/x-python",
   "name": "python",
   "nbconvert_exporter": "python",
   "pygments_lexer": "ipython3",
   "version": "3.8.8"
  },
  "papermill": {
   "default_parameters": {},
   "duration": 5.101178,
   "end_time": "2021-08-09T13:30:07.726509",
   "environment_variables": {},
   "exception": null,
   "input_path": "/Users/saravananshanmugam/Carbonleakage_Git/UsedObjects/eBay_Overview.ipynb",
   "output_path": "/Users/saravananshanmugam/Carbonleakage_Git/UsedObjects/eBay_Overview.ipynb",
   "parameters": {},
   "start_time": "2021-08-09T13:30:02.625331",
   "version": "2.3.3"
  }
 },
 "nbformat": 4,
 "nbformat_minor": 5
}