{
 "cells": [
  {
   "cell_type": "code",
   "execution_count": 1,
   "id": "reverse-picking",
   "metadata": {
    "execution": {
     "iopub.execute_input": "2021-09-27T02:30:07.249336Z",
     "iopub.status.busy": "2021-09-27T02:30:07.247432Z",
     "iopub.status.idle": "2021-09-27T02:30:08.050893Z",
     "shell.execute_reply": "2021-09-27T02:30:08.052242Z"
    },
    "papermill": {
     "duration": 0.855754,
     "end_time": "2021-09-27T02:30:08.052876",
     "exception": false,
     "start_time": "2021-09-27T02:30:07.197122",
     "status": "completed"
    },
    "tags": []
   },
   "outputs": [],
   "source": [
    "import pandas as pd\n",
    "import sqlite3"
   ]
  },
  {
   "cell_type": "code",
   "execution_count": 2,
   "id": "innovative-syndrome",
   "metadata": {
    "execution": {
     "iopub.execute_input": "2021-09-27T02:30:08.103572Z",
     "iopub.status.busy": "2021-09-27T02:30:08.101657Z",
     "iopub.status.idle": "2021-09-27T02:30:08.483282Z",
     "shell.execute_reply": "2021-09-27T02:30:08.484591Z"
    },
    "papermill": {
     "duration": 0.41105,
     "end_time": "2021-09-27T02:30:08.484988",
     "exception": false,
     "start_time": "2021-09-27T02:30:08.073938",
     "status": "completed"
    },
    "tags": []
   },
   "outputs": [],
   "source": [
    "timestamps = pd.read_sql(\"select distinct record_time from EBAY_TOP_BERLIN order by record_time desc limit 2\", sqlite3.connect(\"UsedObjects.db\"))"
   ]
  },
  {
   "cell_type": "code",
   "execution_count": 3,
   "id": "periodic-identification",
   "metadata": {
    "execution": {
     "iopub.execute_input": "2021-09-27T02:30:08.549167Z",
     "iopub.status.busy": "2021-09-27T02:30:08.547178Z",
     "iopub.status.idle": "2021-09-27T02:30:08.566872Z",
     "shell.execute_reply": "2021-09-27T02:30:08.568014Z"
    },
    "papermill": {
     "duration": 0.063991,
     "end_time": "2021-09-27T02:30:08.568425",
     "exception": false,
     "start_time": "2021-09-27T02:30:08.504434",
     "status": "completed"
    },
    "tags": []
   },
   "outputs": [
    {
     "data": {
      "text/html": [
       "<div>\n",
       "<style scoped>\n",
       "    .dataframe tbody tr th:only-of-type {\n",
       "        vertical-align: middle;\n",
       "    }\n",
       "\n",
       "    .dataframe tbody tr th {\n",
       "        vertical-align: top;\n",
       "    }\n",
       "\n",
       "    .dataframe thead th {\n",
       "        text-align: right;\n",
       "    }\n",
       "</style>\n",
       "<table border=\"1\" class=\"dataframe\">\n",
       "  <thead>\n",
       "    <tr style=\"text-align: right;\">\n",
       "      <th></th>\n",
       "      <th>RECORD_TIME</th>\n",
       "    </tr>\n",
       "  </thead>\n",
       "  <tbody>\n",
       "    <tr>\n",
       "      <th>0</th>\n",
       "      <td>2021-09-27 04:30</td>\n",
       "    </tr>\n",
       "    <tr>\n",
       "      <th>1</th>\n",
       "      <td>2021-09-27 04:00</td>\n",
       "    </tr>\n",
       "  </tbody>\n",
       "</table>\n",
       "</div>"
      ],
      "text/plain": [
       "        RECORD_TIME\n",
       "0  2021-09-27 04:30\n",
       "1  2021-09-27 04:00"
      ]
     },
     "execution_count": 3,
     "metadata": {},
     "output_type": "execute_result"
    }
   ],
   "source": [
    "timestamps"
   ]
  },
  {
   "cell_type": "code",
   "execution_count": 4,
   "id": "alternate-victory",
   "metadata": {
    "execution": {
     "iopub.execute_input": "2021-09-27T02:30:08.622457Z",
     "iopub.status.busy": "2021-09-27T02:30:08.620201Z",
     "iopub.status.idle": "2021-09-27T02:30:09.184776Z",
     "shell.execute_reply": "2021-09-27T02:30:09.186054Z"
    },
    "papermill": {
     "duration": 0.595273,
     "end_time": "2021-09-27T02:30:09.186469",
     "exception": false,
     "start_time": "2021-09-27T02:30:08.591196",
     "status": "completed"
    },
    "tags": []
   },
   "outputs": [],
   "source": [
    "df = pd.read_sql(\"select * from EBAY_TOP_BERLIN where record_time in (select distinct record_time from EBAY_TOP_BERLIN order by record_time desc limit 2)\", sqlite3.connect(\"UsedObjects.db\"))"
   ]
  },
  {
   "cell_type": "code",
   "execution_count": 5,
   "id": "popular-active",
   "metadata": {
    "execution": {
     "iopub.execute_input": "2021-09-27T02:30:09.266286Z",
     "iopub.status.busy": "2021-09-27T02:30:09.254603Z",
     "iopub.status.idle": "2021-09-27T02:30:09.282297Z",
     "shell.execute_reply": "2021-09-27T02:30:09.283567Z"
    },
    "papermill": {
     "duration": 0.071662,
     "end_time": "2021-09-27T02:30:09.283967",
     "exception": false,
     "start_time": "2021-09-27T02:30:09.212305",
     "status": "completed"
    },
    "tags": []
   },
   "outputs": [],
   "source": [
    "df_pivot = df.pivot_table(index=\"PRODUCT\", columns = \"RECORD_TIME\", values = \"LISTING_COUNT\")"
   ]
  },
  {
   "cell_type": "code",
   "execution_count": 6,
   "id": "union-huntington",
   "metadata": {
    "execution": {
     "iopub.execute_input": "2021-09-27T02:30:09.342246Z",
     "iopub.status.busy": "2021-09-27T02:30:09.340000Z",
     "iopub.status.idle": "2021-09-27T02:30:09.345878Z",
     "shell.execute_reply": "2021-09-27T02:30:09.347293Z"
    },
    "papermill": {
     "duration": 0.042175,
     "end_time": "2021-09-27T02:30:09.347771",
     "exception": false,
     "start_time": "2021-09-27T02:30:09.305596",
     "status": "completed"
    },
    "tags": []
   },
   "outputs": [],
   "source": [
    "df_pivot.columns = [\"stamp_1\", \"stamp_2\"]\n",
    "df_pivot_diff = df_pivot.diff(axis=1)"
   ]
  },
  {
   "cell_type": "code",
   "execution_count": 7,
   "id": "fifth-motion",
   "metadata": {
    "execution": {
     "iopub.execute_input": "2021-09-27T02:30:09.402220Z",
     "iopub.status.busy": "2021-09-27T02:30:09.400030Z",
     "iopub.status.idle": "2021-09-27T02:30:10.927147Z",
     "shell.execute_reply": "2021-09-27T02:30:10.928427Z"
    },
    "papermill": {
     "duration": 1.559914,
     "end_time": "2021-09-27T02:30:10.928835",
     "exception": false,
     "start_time": "2021-09-27T02:30:09.368921",
     "status": "completed"
    },
    "tags": []
   },
   "outputs": [
    {
     "data": {
      "text/plain": [
       "<AxesSubplot:ylabel='PRODUCT'>"
      ]
     },
     "execution_count": 7,
     "metadata": {},
     "output_type": "execute_result"
    },
    {
     "data": {
      "image/png": "[encoded data removed]",
      "text/plain": [
       "<Figure size 432x288 with 1 Axes>"
      ]
     },
     "metadata": {
      "needs_background": "light"
     },
     "output_type": "display_data"
    }
   ],
   "source": [
    "df_pivot_diff.sort_values(\"stamp_2\", ascending = False)[\"stamp_2\"].head(10).plot.barh()"
   ]
  },
  {
   "cell_type": "code",
   "execution_count": null,
   "id": "extra-executive",
   "metadata": {
    "papermill": {
     "duration": 0.02253,
     "end_time": "2021-09-27T02:30:10.976293",
     "exception": false,
     "start_time": "2021-09-27T02:30:10.953763",
     "status": "completed"
    },
    "tags": []
   },
   "outputs": [],
   "source": []
  }
 ],
 "metadata": {
  "kernelspec": {
   "display_name": "Python 3",
   "language": "python",
   "name": "python3"
  },
  "language_info": {
   "codemirror_mode": {
    "name": "ipython",
    "version": 3
   },
   "file_extension": ".py",
   "mimetype": "text/x-python",
   "name": "python",
   "nbconvert_exporter": "python",
   "pygments_lexer": "ipython3",
   "version": "3.9.5"
  },
  "papermill": {
   "default_parameters": {},
   "duration": 7.823104,
   "end_time": "2021-09-27T02:30:12.617387",
   "environment_variables": {},
   "exception": null,
   "input_path": "eBay_Overview.ipynb",
   "output_path": "eBay_Overview.ipynb",
   "parameters": {},
   "start_time": "2021-09-27T02:30:04.794283",
   "version": "2.3.3"
  }
 },
 "nbformat": 4,
 "nbformat_minor": 5
}