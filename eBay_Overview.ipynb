{
 "cells": [
  {
   "cell_type": "code",
   "execution_count": 1,
   "id": "reverse-picking",
   "metadata": {
    "execution": {
     "iopub.execute_input": "2021-08-19T06:30:06.860039Z",
     "iopub.status.busy": "2021-08-19T06:30:06.858116Z",
     "iopub.status.idle": "2021-08-19T06:30:07.664299Z",
     "shell.execute_reply": "2021-08-19T06:30:07.665546Z"
    },
    "papermill": {
     "duration": 0.857732,
     "end_time": "2021-08-19T06:30:07.666252",
     "exception": false,
     "start_time": "2021-08-19T06:30:06.808520",
     "status": "completed"
    },
    "tags": []
   },
   "outputs": [],
   "source": [
    "import pandas as pd\n",
    "import sqlite3"
   ]
  },
  {
   "cell_type": "code",
   "execution_count": 2,
   "id": "innovative-syndrome",
   "metadata": {
    "execution": {
     "iopub.execute_input": "2021-08-19T06:30:07.718442Z",
     "iopub.status.busy": "2021-08-19T06:30:07.716465Z",
     "iopub.status.idle": "2021-08-19T06:30:07.797004Z",
     "shell.execute_reply": "2021-08-19T06:30:07.798283Z"
    },
    "papermill": {
     "duration": 0.110142,
     "end_time": "2021-08-19T06:30:07.798690",
     "exception": false,
     "start_time": "2021-08-19T06:30:07.688548",
     "status": "completed"
    },
    "tags": []
   },
   "outputs": [],
   "source": [
    "timestamps = pd.read_sql(\"select distinct record_time from EBAY_TOP_BERLIN order by record_time desc limit 2\", sqlite3.connect(\"UsedObjects.db\"))"
   ]
  },
  {
   "cell_type": "code",
   "execution_count": 3,
   "id": "periodic-identification",
   "metadata": {
    "execution": {
     "iopub.execute_input": "2021-08-19T06:30:07.867913Z",
     "iopub.status.busy": "2021-08-19T06:30:07.862934Z",
     "iopub.status.idle": "2021-08-19T06:30:07.882613Z",
     "shell.execute_reply": "2021-08-19T06:30:07.883838Z"
    },
    "papermill": {
     "duration": 0.064076,
     "end_time": "2021-08-19T06:30:07.884232",
     "exception": false,
     "start_time": "2021-08-19T06:30:07.820156",
     "status": "completed"
    },
    "tags": []
   },
   "outputs": [
    {
     "data": {
      "text/html": [
       "<div>\n",
       "<style scoped>\n",
       "    .dataframe tbody tr th:only-of-type {\n",
       "        vertical-align: middle;\n",
       "    }\n",
       "\n",
       "    .dataframe tbody tr th {\n",
       "        vertical-align: top;\n",
       "    }\n",
       "\n",
       "    .dataframe thead th {\n",
       "        text-align: right;\n",
       "    }\n",
       "</style>\n",
       "<table border=\"1\" class=\"dataframe\">\n",
       "  <thead>\n",
       "    <tr style=\"text-align: right;\">\n",
       "      <th></th>\n",
       "      <th>RECORD_TIME</th>\n",
       "    </tr>\n",
       "  </thead>\n",
       "  <tbody>\n",
       "    <tr>\n",
       "      <th>0</th>\n",
       "      <td>2021-08-19 08:30</td>\n",
       "    </tr>\n",
       "    <tr>\n",
       "      <th>1</th>\n",
       "      <td>2021-08-19 08:00</td>\n",
       "    </tr>\n",
       "  </tbody>\n",
       "</table>\n",
       "</div>"
      ],
      "text/plain": [
       "        RECORD_TIME\n",
       "0  2021-08-19 08:30\n",
       "1  2021-08-19 08:00"
      ]
     },
     "execution_count": 3,
     "metadata": {},
     "output_type": "execute_result"
    }
   ],
   "source": [
    "timestamps"
   ]
  },
  {
   "cell_type": "code",
   "execution_count": 4,
   "id": "alternate-victory",
   "metadata": {
    "execution": {
     "iopub.execute_input": "2021-08-19T06:30:07.935489Z",
     "iopub.status.busy": "2021-08-19T06:30:07.933397Z",
     "iopub.status.idle": "2021-08-19T06:30:08.057164Z",
     "shell.execute_reply": "2021-08-19T06:30:08.058532Z"
    },
    "papermill": {
     "duration": 0.153896,
     "end_time": "2021-08-19T06:30:08.058965",
     "exception": false,
     "start_time": "2021-08-19T06:30:07.905069",
     "status": "completed"
    },
    "tags": []
   },
   "outputs": [],
   "source": [
    "df = pd.read_sql(\"select * from EBAY_TOP_BERLIN where record_time in (select distinct record_time from EBAY_TOP_BERLIN order by record_time desc limit 2)\", sqlite3.connect(\"UsedObjects.db\"))"
   ]
  },
  {
   "cell_type": "code",
   "execution_count": 5,
   "id": "popular-active",
   "metadata": {
    "execution": {
     "iopub.execute_input": "2021-08-19T06:30:08.124224Z",
     "iopub.status.busy": "2021-08-19T06:30:08.116612Z",
     "iopub.status.idle": "2021-08-19T06:30:08.144183Z",
     "shell.execute_reply": "2021-08-19T06:30:08.145405Z"
    },
    "papermill": {
     "duration": 0.066287,
     "end_time": "2021-08-19T06:30:08.145798",
     "exception": false,
     "start_time": "2021-08-19T06:30:08.079511",
     "status": "completed"
    },
    "tags": []
   },
   "outputs": [],
   "source": [
    "df_pivot = df.pivot_table(index=\"PRODUCT\", columns = \"RECORD_TIME\", values = \"LISTING_COUNT\")"
   ]
  },
  {
   "cell_type": "code",
   "execution_count": 6,
   "id": "union-huntington",
   "metadata": {
    "execution": {
     "iopub.execute_input": "2021-08-19T06:30:08.205180Z",
     "iopub.status.busy": "2021-08-19T06:30:08.202742Z",
     "iopub.status.idle": "2021-08-19T06:30:08.208569Z",
     "shell.execute_reply": "2021-08-19T06:30:08.209851Z"
    },
    "papermill": {
     "duration": 0.042161,
     "end_time": "2021-08-19T06:30:08.210334",
     "exception": false,
     "start_time": "2021-08-19T06:30:08.168173",
     "status": "completed"
    },
    "tags": []
   },
   "outputs": [],
   "source": [
    "df_pivot.columns = [\"stamp_1\", \"stamp_2\"]\n",
    "df_pivot_diff = df_pivot.diff(axis=1)"
   ]
  },
  {
   "cell_type": "code",
   "execution_count": 7,
   "id": "fifth-motion",
   "metadata": {
    "execution": {
     "iopub.execute_input": "2021-08-19T06:30:08.264914Z",
     "iopub.status.busy": "2021-08-19T06:30:08.262658Z",
     "iopub.status.idle": "2021-08-19T06:30:09.767734Z",
     "shell.execute_reply": "2021-08-19T06:30:09.769008Z"
    },
    "papermill": {
     "duration": 1.538333,
     "end_time": "2021-08-19T06:30:09.769427",
     "exception": false,
     "start_time": "2021-08-19T06:30:08.231094",
     "status": "completed"
    },
    "tags": []
   },
   "outputs": [
    {
     "data": {
      "text/plain": [
       "<AxesSubplot:ylabel='PRODUCT'>"
      ]
     },
     "execution_count": 7,
     "metadata": {},
     "output_type": "execute_result"
    },
    {
     "data": {
      "image/png": "[encoded data removed]",
      "text/plain": [
       "<Figure size 432x288 with 1 Axes>"
      ]
     },
     "metadata": {
      "needs_background": "light"
     },
     "output_type": "display_data"
    }
   ],
   "source": [
    "df_pivot_diff.sort_values(\"stamp_2\", ascending = False)[\"stamp_2\"].head(10).plot.barh()"
   ]
  },
  {
   "cell_type": "code",
   "execution_count": null,
   "id": "extra-executive",
   "metadata": {
    "papermill": {
     "duration": 0.022272,
     "end_time": "2021-08-19T06:30:09.816694",
     "exception": false,
     "start_time": "2021-08-19T06:30:09.794422",
     "status": "completed"
    },
    "tags": []
   },
   "outputs": [],
   "source": []
  }
 ],
 "metadata": {
  "kernelspec": {
   "display_name": "Python 3",
   "language": "python",
   "name": "python3"
  },
  "language_info": {
   "codemirror_mode": {
    "name": "ipython",
    "version": 3
   },
   "file_extension": ".py",
   "mimetype": "text/x-python",
   "name": "python",
   "nbconvert_exporter": "python",
   "pygments_lexer": "ipython3",
   "version": "3.9.5"
  },
  "papermill": {
   "default_parameters": {},
   "duration": 6.833321,
   "end_time": "2021-08-19T06:30:11.232897",
   "environment_variables": {},
   "exception": null,
   "input_path": "eBay_Overview.ipynb",
   "output_path": "eBay_Overview.ipynb",
   "parameters": {},
   "start_time": "2021-08-19T06:30:04.399576",
   "version": "2.3.3"
  }
 },
 "nbformat": 4,
 "nbformat_minor": 5
}