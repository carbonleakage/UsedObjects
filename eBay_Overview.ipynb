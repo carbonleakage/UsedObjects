{
 "cells": [
  {
   "cell_type": "code",
   "execution_count": 1,
   "id": "reverse-picking",
   "metadata": {
    "execution": {
     "iopub.execute_input": "2021-09-01T22:00:07.052051Z",
     "iopub.status.busy": "2021-09-01T22:00:07.050046Z",
     "iopub.status.idle": "2021-09-01T22:00:07.858261Z",
     "shell.execute_reply": "2021-09-01T22:00:07.856706Z"
    },
    "papermill": {
     "duration": 0.855936,
     "end_time": "2021-09-01T22:00:07.858643",
     "exception": false,
     "start_time": "2021-09-01T22:00:07.002707",
     "status": "completed"
    },
    "tags": []
   },
   "outputs": [],
   "source": [
    "import pandas as pd\n",
    "import sqlite3"
   ]
  },
  {
   "cell_type": "code",
   "execution_count": 2,
   "id": "innovative-syndrome",
   "metadata": {
    "execution": {
     "iopub.execute_input": "2021-09-01T22:00:07.910113Z",
     "iopub.status.busy": "2021-09-01T22:00:07.907984Z",
     "iopub.status.idle": "2021-09-01T22:00:08.091602Z",
     "shell.execute_reply": "2021-09-01T22:00:08.092727Z"
    },
    "papermill": {
     "duration": 0.213386,
     "end_time": "2021-09-01T22:00:08.093141",
     "exception": false,
     "start_time": "2021-09-01T22:00:07.879755",
     "status": "completed"
    },
    "tags": []
   },
   "outputs": [],
   "source": [
    "timestamps = pd.read_sql(\"select distinct record_time from EBAY_TOP_BERLIN order by record_time desc limit 2\", sqlite3.connect(\"UsedObjects.db\"))"
   ]
  },
  {
   "cell_type": "code",
   "execution_count": 3,
   "id": "periodic-identification",
   "metadata": {
    "execution": {
     "iopub.execute_input": "2021-09-01T22:00:08.157911Z",
     "iopub.status.busy": "2021-09-01T22:00:08.155920Z",
     "iopub.status.idle": "2021-09-01T22:00:08.175667Z",
     "shell.execute_reply": "2021-09-01T22:00:08.176881Z"
    },
    "papermill": {
     "duration": 0.063409,
     "end_time": "2021-09-01T22:00:08.177312",
     "exception": false,
     "start_time": "2021-09-01T22:00:08.113903",
     "status": "completed"
    },
    "tags": []
   },
   "outputs": [
    {
     "data": {
      "text/html": [
       "<div>\n",
       "<style scoped>\n",
       "    .dataframe tbody tr th:only-of-type {\n",
       "        vertical-align: middle;\n",
       "    }\n",
       "\n",
       "    .dataframe tbody tr th {\n",
       "        vertical-align: top;\n",
       "    }\n",
       "\n",
       "    .dataframe thead th {\n",
       "        text-align: right;\n",
       "    }\n",
       "</style>\n",
       "<table border=\"1\" class=\"dataframe\">\n",
       "  <thead>\n",
       "    <tr style=\"text-align: right;\">\n",
       "      <th></th>\n",
       "      <th>RECORD_TIME</th>\n",
       "    </tr>\n",
       "  </thead>\n",
       "  <tbody>\n",
       "    <tr>\n",
       "      <th>0</th>\n",
       "      <td>2021-09-02 00:00</td>\n",
       "    </tr>\n",
       "    <tr>\n",
       "      <th>1</th>\n",
       "      <td>2021-09-01 23:30</td>\n",
       "    </tr>\n",
       "  </tbody>\n",
       "</table>\n",
       "</div>"
      ],
      "text/plain": [
       "        RECORD_TIME\n",
       "0  2021-09-02 00:00\n",
       "1  2021-09-01 23:30"
      ]
     },
     "execution_count": 3,
     "metadata": {},
     "output_type": "execute_result"
    }
   ],
   "source": [
    "timestamps"
   ]
  },
  {
   "cell_type": "code",
   "execution_count": 4,
   "id": "alternate-victory",
   "metadata": {
    "execution": {
     "iopub.execute_input": "2021-09-01T22:00:08.231065Z",
     "iopub.status.busy": "2021-09-01T22:00:08.228757Z",
     "iopub.status.idle": "2021-09-01T22:00:08.497928Z",
     "shell.execute_reply": "2021-09-01T22:00:08.499210Z"
    },
    "papermill": {
     "duration": 0.299578,
     "end_time": "2021-09-01T22:00:08.499619",
     "exception": false,
     "start_time": "2021-09-01T22:00:08.200041",
     "status": "completed"
    },
    "tags": []
   },
   "outputs": [],
   "source": [
    "df = pd.read_sql(\"select * from EBAY_TOP_BERLIN where record_time in (select distinct record_time from EBAY_TOP_BERLIN order by record_time desc limit 2)\", sqlite3.connect(\"UsedObjects.db\"))"
   ]
  },
  {
   "cell_type": "code",
   "execution_count": 5,
   "id": "popular-active",
   "metadata": {
    "execution": {
     "iopub.execute_input": "2021-09-01T22:00:08.596481Z",
     "iopub.status.busy": "2021-09-01T22:00:08.584935Z",
     "iopub.status.idle": "2021-09-01T22:00:08.614970Z",
     "shell.execute_reply": "2021-09-01T22:00:08.613522Z"
    },
    "papermill": {
     "duration": 0.07423,
     "end_time": "2021-09-01T22:00:08.615363",
     "exception": false,
     "start_time": "2021-09-01T22:00:08.541133",
     "status": "completed"
    },
    "tags": []
   },
   "outputs": [],
   "source": [
    "df_pivot = df.pivot_table(index=\"PRODUCT\", columns = \"RECORD_TIME\", values = \"LISTING_COUNT\")"
   ]
  },
  {
   "cell_type": "code",
   "execution_count": 6,
   "id": "union-huntington",
   "metadata": {
    "execution": {
     "iopub.execute_input": "2021-09-01T22:00:08.672480Z",
     "iopub.status.busy": "2021-09-01T22:00:08.670383Z",
     "iopub.status.idle": "2021-09-01T22:00:08.675867Z",
     "shell.execute_reply": "2021-09-01T22:00:08.677077Z"
    },
    "papermill": {
     "duration": 0.040834,
     "end_time": "2021-09-01T22:00:08.677505",
     "exception": false,
     "start_time": "2021-09-01T22:00:08.636671",
     "status": "completed"
    },
    "tags": []
   },
   "outputs": [],
   "source": [
    "df_pivot.columns = [\"stamp_1\", \"stamp_2\"]\n",
    "df_pivot_diff = df_pivot.diff(axis=1)"
   ]
  },
  {
   "cell_type": "code",
   "execution_count": 7,
   "id": "fifth-motion",
   "metadata": {
    "execution": {
     "iopub.execute_input": "2021-09-01T22:00:08.732453Z",
     "iopub.status.busy": "2021-09-01T22:00:08.729919Z",
     "iopub.status.idle": "2021-09-01T22:00:10.222564Z",
     "shell.execute_reply": "2021-09-01T22:00:10.224027Z"
    },
    "papermill": {
     "duration": 1.525756,
     "end_time": "2021-09-01T22:00:10.224472",
     "exception": false,
     "start_time": "2021-09-01T22:00:08.698716",
     "status": "completed"
    },
    "tags": []
   },
   "outputs": [
    {
     "data": {
      "text/plain": [
       "<AxesSubplot:ylabel='PRODUCT'>"
      ]
     },
     "execution_count": 7,
     "metadata": {},
     "output_type": "execute_result"
    },
    {
     "data": {
      "image/png": "[encoded data removed]",
      "text/plain": [
       "<Figure size 432x288 with 1 Axes>"
      ]
     },
     "metadata": {
      "needs_background": "light"
     },
     "output_type": "display_data"
    }
   ],
   "source": [
    "df_pivot_diff.sort_values(\"stamp_2\", ascending = False)[\"stamp_2\"].head(10).plot.barh()"
   ]
  },
  {
   "cell_type": "code",
   "execution_count": null,
   "id": "extra-executive",
   "metadata": {
    "papermill": {
     "duration": 0.022129,
     "end_time": "2021-09-01T22:00:10.270331",
     "exception": false,
     "start_time": "2021-09-01T22:00:10.248202",
     "status": "completed"
    },
    "tags": []
   },
   "outputs": [],
   "source": []
  }
 ],
 "metadata": {
  "kernelspec": {
   "display_name": "Python 3",
   "language": "python",
   "name": "python3"
  },
  "language_info": {
   "codemirror_mode": {
    "name": "ipython",
    "version": 3
   },
   "file_extension": ".py",
   "mimetype": "text/x-python",
   "name": "python",
   "nbconvert_exporter": "python",
   "pygments_lexer": "ipython3",
   "version": "3.9.5"
  },
  "papermill": {
   "default_parameters": {},
   "duration": 6.823859,
   "end_time": "2021-09-01T22:00:11.415444",
   "environment_variables": {},
   "exception": null,
   "input_path": "eBay_Overview.ipynb",
   "output_path": "eBay_Overview.ipynb",
   "parameters": {},
   "start_time": "2021-09-01T22:00:04.591585",
   "version": "2.3.3"
  }
 },
 "nbformat": 4,
 "nbformat_minor": 5
}