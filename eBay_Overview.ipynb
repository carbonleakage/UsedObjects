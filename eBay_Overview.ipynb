{
 "cells": [
  {
   "cell_type": "code",
   "execution_count": 1,
   "id": "reverse-picking",
   "metadata": {
    "execution": {
     "iopub.execute_input": "2021-12-09T22:30:07.748309Z",
     "iopub.status.busy": "2021-12-09T22:30:07.735486Z",
     "iopub.status.idle": "2021-12-09T22:30:08.705943Z",
     "shell.execute_reply": "2021-12-09T22:30:08.707637Z"
    },
    "papermill": {
     "duration": 1.019884,
     "end_time": "2021-12-09T22:30:08.708392",
     "exception": false,
     "start_time": "2021-12-09T22:30:07.688508",
     "status": "completed"
    },
    "tags": []
   },
   "outputs": [],
   "source": [
    "import pandas as pd\n",
    "import sqlite3"
   ]
  },
  {
   "cell_type": "code",
   "execution_count": 2,
   "id": "innovative-syndrome",
   "metadata": {
    "execution": {
     "iopub.execute_input": "2021-12-09T22:30:08.766447Z",
     "iopub.status.busy": "2021-12-09T22:30:08.764081Z",
     "iopub.status.idle": "2021-12-09T22:30:09.810319Z",
     "shell.execute_reply": "2021-12-09T22:30:09.811642Z"
    },
    "papermill": {
     "duration": 1.080497,
     "end_time": "2021-12-09T22:30:09.812103",
     "exception": false,
     "start_time": "2021-12-09T22:30:08.731606",
     "status": "completed"
    },
    "tags": []
   },
   "outputs": [],
   "source": [
    "timestamps = pd.read_sql(\"select distinct record_time from EBAY_TOP_BERLIN order by record_time desc limit 2\", sqlite3.connect(\"UsedObjects.db\"))"
   ]
  },
  {
   "cell_type": "code",
   "execution_count": 3,
   "id": "periodic-identification",
   "metadata": {
    "execution": {
     "iopub.execute_input": "2021-12-09T22:30:09.882559Z",
     "iopub.status.busy": "2021-12-09T22:30:09.879799Z",
     "iopub.status.idle": "2021-12-09T22:30:09.906751Z",
     "shell.execute_reply": "2021-12-09T22:30:09.909594Z"
    },
    "papermill": {
     "duration": 0.078749,
     "end_time": "2021-12-09T22:30:09.910610",
     "exception": false,
     "start_time": "2021-12-09T22:30:09.831861",
     "status": "completed"
    },
    "tags": []
   },
   "outputs": [
    {
     "data": {
      "text/html": [
       "<div>\n",
       "<style scoped>\n",
       "    .dataframe tbody tr th:only-of-type {\n",
       "        vertical-align: middle;\n",
       "    }\n",
       "\n",
       "    .dataframe tbody tr th {\n",
       "        vertical-align: top;\n",
       "    }\n",
       "\n",
       "    .dataframe thead th {\n",
       "        text-align: right;\n",
       "    }\n",
       "</style>\n",
       "<table border=\"1\" class=\"dataframe\">\n",
       "  <thead>\n",
       "    <tr style=\"text-align: right;\">\n",
       "      <th></th>\n",
       "      <th>RECORD_TIME</th>\n",
       "    </tr>\n",
       "  </thead>\n",
       "  <tbody>\n",
       "    <tr>\n",
       "      <th>0</th>\n",
       "      <td>2021-12-09 23:30</td>\n",
       "    </tr>\n",
       "    <tr>\n",
       "      <th>1</th>\n",
       "      <td>2021-12-09 23:00</td>\n",
       "    </tr>\n",
       "  </tbody>\n",
       "</table>\n",
       "</div>"
      ],
      "text/plain": [
       "        RECORD_TIME\n",
       "0  2021-12-09 23:30\n",
       "1  2021-12-09 23:00"
      ]
     },
     "execution_count": 3,
     "metadata": {},
     "output_type": "execute_result"
    }
   ],
   "source": [
    "timestamps"
   ]
  },
  {
   "cell_type": "code",
   "execution_count": 4,
   "id": "alternate-victory",
   "metadata": {
    "execution": {
     "iopub.execute_input": "2021-12-09T22:30:09.992162Z",
     "iopub.status.busy": "2021-12-09T22:30:09.989734Z",
     "iopub.status.idle": "2021-12-09T22:30:11.509320Z",
     "shell.execute_reply": "2021-12-09T22:30:11.511864Z"
    },
    "papermill": {
     "duration": 1.566916,
     "end_time": "2021-12-09T22:30:11.512529",
     "exception": false,
     "start_time": "2021-12-09T22:30:09.945613",
     "status": "completed"
    },
    "tags": []
   },
   "outputs": [],
   "source": [
    "df = pd.read_sql(\"select * from EBAY_TOP_BERLIN where record_time in (select distinct record_time from EBAY_TOP_BERLIN order by record_time desc limit 2)\", sqlite3.connect(\"UsedObjects.db\"))"
   ]
  },
  {
   "cell_type": "code",
   "execution_count": 5,
   "id": "popular-active",
   "metadata": {
    "execution": {
     "iopub.execute_input": "2021-12-09T22:30:11.636958Z",
     "iopub.status.busy": "2021-12-09T22:30:11.610368Z",
     "iopub.status.idle": "2021-12-09T22:30:11.673028Z",
     "shell.execute_reply": "2021-12-09T22:30:11.676123Z"
    },
    "papermill": {
     "duration": 0.133567,
     "end_time": "2021-12-09T22:30:11.677200",
     "exception": false,
     "start_time": "2021-12-09T22:30:11.543633",
     "status": "completed"
    },
    "tags": []
   },
   "outputs": [],
   "source": [
    "df_pivot = df.pivot_table(index=\"PRODUCT\", columns = \"RECORD_TIME\", values = \"LISTING_COUNT\")"
   ]
  },
  {
   "cell_type": "code",
   "execution_count": 6,
   "id": "union-huntington",
   "metadata": {
    "execution": {
     "iopub.execute_input": "2021-12-09T22:30:11.766813Z",
     "iopub.status.busy": "2021-12-09T22:30:11.763477Z",
     "iopub.status.idle": "2021-12-09T22:30:11.772484Z",
     "shell.execute_reply": "2021-12-09T22:30:11.770092Z"
    },
    "papermill": {
     "duration": 0.061036,
     "end_time": "2021-12-09T22:30:11.773046",
     "exception": false,
     "start_time": "2021-12-09T22:30:11.712010",
     "status": "completed"
    },
    "tags": []
   },
   "outputs": [],
   "source": [
    "df_pivot.columns = [\"stamp_1\", \"stamp_2\"]\n",
    "df_pivot_diff = df_pivot.diff(axis=1)"
   ]
  },
  {
   "cell_type": "code",
   "execution_count": 7,
   "id": "fifth-motion",
   "metadata": {
    "execution": {
     "iopub.execute_input": "2021-12-09T22:30:11.861710Z",
     "iopub.status.busy": "2021-12-09T22:30:11.857765Z",
     "iopub.status.idle": "2021-12-09T22:30:13.637349Z",
     "shell.execute_reply": "2021-12-09T22:30:13.638641Z"
    },
    "papermill": {
     "duration": 1.837119,
     "end_time": "2021-12-09T22:30:13.639054",
     "exception": false,
     "start_time": "2021-12-09T22:30:11.801935",
     "status": "completed"
    },
    "tags": []
   },
   "outputs": [
    {
     "data": {
      "text/plain": [
       "<AxesSubplot:ylabel='PRODUCT'>"
      ]
     },
     "execution_count": 7,
     "metadata": {},
     "output_type": "execute_result"
    },
    {
     "data": {
      "image/png": "[encoded data removed]",
      "text/plain": [
       "<Figure size 432x288 with 1 Axes>"
      ]
     },
     "metadata": {
      "needs_background": "light"
     },
     "output_type": "display_data"
    }
   ],
   "source": [
    "df_pivot_diff.sort_values(\"stamp_2\", ascending = False)[\"stamp_2\"].head(10).plot.barh()"
   ]
  },
  {
   "cell_type": "code",
   "execution_count": null,
   "id": "extra-executive",
   "metadata": {
    "papermill": {
     "duration": 0.022554,
     "end_time": "2021-12-09T22:30:13.686047",
     "exception": false,
     "start_time": "2021-12-09T22:30:13.663493",
     "status": "completed"
    },
    "tags": []
   },
   "outputs": [],
   "source": []
  }
 ],
 "metadata": {
  "kernelspec": {
   "display_name": "Python 3",
   "language": "python",
   "name": "python3"
  },
  "language_info": {
   "codemirror_mode": {
    "name": "ipython",
    "version": 3
   },
   "file_extension": ".py",
   "mimetype": "text/x-python",
   "name": "python",
   "nbconvert_exporter": "python",
   "pygments_lexer": "ipython3",
   "version": "3.9.5"
  },
  "papermill": {
   "default_parameters": {},
   "duration": 9.950602,
   "end_time": "2021-12-09T22:30:14.888566",
   "environment_variables": {},
   "exception": null,
   "input_path": "eBay_Overview.ipynb",
   "output_path": "eBay_Overview.ipynb",
   "parameters": {},
   "start_time": "2021-12-09T22:30:04.937964",
   "version": "2.3.3"
  }
 },
 "nbformat": 4,
 "nbformat_minor": 5
}