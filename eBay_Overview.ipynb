{
 "cells": [
  {
   "cell_type": "code",
   "execution_count": 1,
   "id": "reverse-picking",
   "metadata": {
    "execution": {
     "iopub.execute_input": "2021-09-28T18:00:06.621172Z",
     "iopub.status.busy": "2021-09-28T18:00:06.619205Z",
     "iopub.status.idle": "2021-09-28T18:00:07.433274Z",
     "shell.execute_reply": "2021-09-28T18:00:07.431530Z"
    },
    "papermill": {
     "duration": 0.864534,
     "end_time": "2021-09-28T18:00:07.433706",
     "exception": false,
     "start_time": "2021-09-28T18:00:06.569172",
     "status": "completed"
    },
    "tags": []
   },
   "outputs": [],
   "source": [
    "import pandas as pd\n",
    "import sqlite3"
   ]
  },
  {
   "cell_type": "code",
   "execution_count": 2,
   "id": "innovative-syndrome",
   "metadata": {
    "execution": {
     "iopub.execute_input": "2021-09-28T18:00:07.485009Z",
     "iopub.status.busy": "2021-09-28T18:00:07.482624Z",
     "iopub.status.idle": "2021-09-28T18:00:07.879375Z",
     "shell.execute_reply": "2021-09-28T18:00:07.880662Z"
    },
    "papermill": {
     "duration": 0.426867,
     "end_time": "2021-09-28T18:00:07.881066",
     "exception": false,
     "start_time": "2021-09-28T18:00:07.454199",
     "status": "completed"
    },
    "tags": []
   },
   "outputs": [],
   "source": [
    "timestamps = pd.read_sql(\"select distinct record_time from EBAY_TOP_BERLIN order by record_time desc limit 2\", sqlite3.connect(\"UsedObjects.db\"))"
   ]
  },
  {
   "cell_type": "code",
   "execution_count": 3,
   "id": "periodic-identification",
   "metadata": {
    "execution": {
     "iopub.execute_input": "2021-09-28T18:00:07.945476Z",
     "iopub.status.busy": "2021-09-28T18:00:07.943456Z",
     "iopub.status.idle": "2021-09-28T18:00:07.963342Z",
     "shell.execute_reply": "2021-09-28T18:00:07.964653Z"
    },
    "papermill": {
     "duration": 0.064668,
     "end_time": "2021-09-28T18:00:07.965056",
     "exception": false,
     "start_time": "2021-09-28T18:00:07.900388",
     "status": "completed"
    },
    "tags": []
   },
   "outputs": [
    {
     "data": {
      "text/html": [
       "<div>\n",
       "<style scoped>\n",
       "    .dataframe tbody tr th:only-of-type {\n",
       "        vertical-align: middle;\n",
       "    }\n",
       "\n",
       "    .dataframe tbody tr th {\n",
       "        vertical-align: top;\n",
       "    }\n",
       "\n",
       "    .dataframe thead th {\n",
       "        text-align: right;\n",
       "    }\n",
       "</style>\n",
       "<table border=\"1\" class=\"dataframe\">\n",
       "  <thead>\n",
       "    <tr style=\"text-align: right;\">\n",
       "      <th></th>\n",
       "      <th>RECORD_TIME</th>\n",
       "    </tr>\n",
       "  </thead>\n",
       "  <tbody>\n",
       "    <tr>\n",
       "      <th>0</th>\n",
       "      <td>2021-09-28 20:00</td>\n",
       "    </tr>\n",
       "    <tr>\n",
       "      <th>1</th>\n",
       "      <td>2021-09-28 19:30</td>\n",
       "    </tr>\n",
       "  </tbody>\n",
       "</table>\n",
       "</div>"
      ],
      "text/plain": [
       "        RECORD_TIME\n",
       "0  2021-09-28 20:00\n",
       "1  2021-09-28 19:30"
      ]
     },
     "execution_count": 3,
     "metadata": {},
     "output_type": "execute_result"
    }
   ],
   "source": [
    "timestamps"
   ]
  },
  {
   "cell_type": "code",
   "execution_count": 4,
   "id": "alternate-victory",
   "metadata": {
    "execution": {
     "iopub.execute_input": "2021-09-28T18:00:08.018190Z",
     "iopub.status.busy": "2021-09-28T18:00:08.016185Z",
     "iopub.status.idle": "2021-09-28T18:00:08.601208Z",
     "shell.execute_reply": "2021-09-28T18:00:08.602475Z"
    },
    "papermill": {
     "duration": 0.615703,
     "end_time": "2021-09-28T18:00:08.602966",
     "exception": false,
     "start_time": "2021-09-28T18:00:07.987263",
     "status": "completed"
    },
    "tags": []
   },
   "outputs": [],
   "source": [
    "df = pd.read_sql(\"select * from EBAY_TOP_BERLIN where record_time in (select distinct record_time from EBAY_TOP_BERLIN order by record_time desc limit 2)\", sqlite3.connect(\"UsedObjects.db\"))"
   ]
  },
  {
   "cell_type": "code",
   "execution_count": 5,
   "id": "popular-active",
   "metadata": {
    "execution": {
     "iopub.execute_input": "2021-09-28T18:00:08.683720Z",
     "iopub.status.busy": "2021-09-28T18:00:08.671578Z",
     "iopub.status.idle": "2021-09-28T18:00:08.699474Z",
     "shell.execute_reply": "2021-09-28T18:00:08.700694Z"
    },
    "papermill": {
     "duration": 0.072426,
     "end_time": "2021-09-28T18:00:08.701092",
     "exception": false,
     "start_time": "2021-09-28T18:00:08.628666",
     "status": "completed"
    },
    "tags": []
   },
   "outputs": [],
   "source": [
    "df_pivot = df.pivot_table(index=\"PRODUCT\", columns = \"RECORD_TIME\", values = \"LISTING_COUNT\")"
   ]
  },
  {
   "cell_type": "code",
   "execution_count": 6,
   "id": "union-huntington",
   "metadata": {
    "execution": {
     "iopub.execute_input": "2021-09-28T18:00:08.758832Z",
     "iopub.status.busy": "2021-09-28T18:00:08.756517Z",
     "iopub.status.idle": "2021-09-28T18:00:08.762377Z",
     "shell.execute_reply": "2021-09-28T18:00:08.763715Z"
    },
    "papermill": {
     "duration": 0.041622,
     "end_time": "2021-09-28T18:00:08.764136",
     "exception": false,
     "start_time": "2021-09-28T18:00:08.722514",
     "status": "completed"
    },
    "tags": []
   },
   "outputs": [],
   "source": [
    "df_pivot.columns = [\"stamp_1\", \"stamp_2\"]\n",
    "df_pivot_diff = df_pivot.diff(axis=1)"
   ]
  },
  {
   "cell_type": "code",
   "execution_count": 7,
   "id": "fifth-motion",
   "metadata": {
    "execution": {
     "iopub.execute_input": "2021-09-28T18:00:08.817969Z",
     "iopub.status.busy": "2021-09-28T18:00:08.815677Z",
     "iopub.status.idle": "2021-09-28T18:00:10.339500Z",
     "shell.execute_reply": "2021-09-28T18:00:10.340877Z"
    },
    "papermill": {
     "duration": 1.55726,
     "end_time": "2021-09-28T18:00:10.341319",
     "exception": false,
     "start_time": "2021-09-28T18:00:08.784059",
     "status": "completed"
    },
    "tags": []
   },
   "outputs": [
    {
     "data": {
      "text/plain": [
       "<AxesSubplot:ylabel='PRODUCT'>"
      ]
     },
     "execution_count": 7,
     "metadata": {},
     "output_type": "execute_result"
    },
    {
     "data": {
      "image/png": "[encoded data removed]",
      "text/plain": [
       "<Figure size 432x288 with 1 Axes>"
      ]
     },
     "metadata": {
      "needs_background": "light"
     },
     "output_type": "display_data"
    }
   ],
   "source": [
    "df_pivot_diff.sort_values(\"stamp_2\", ascending = False)[\"stamp_2\"].head(10).plot.barh()"
   ]
  },
  {
   "cell_type": "code",
   "execution_count": null,
   "id": "extra-executive",
   "metadata": {
    "papermill": {
     "duration": 0.022504,
     "end_time": "2021-09-28T18:00:10.388514",
     "exception": false,
     "start_time": "2021-09-28T18:00:10.366010",
     "status": "completed"
    },
    "tags": []
   },
   "outputs": [],
   "source": []
  }
 ],
 "metadata": {
  "kernelspec": {
   "display_name": "Python 3",
   "language": "python",
   "name": "python3"
  },
  "language_info": {
   "codemirror_mode": {
    "name": "ipython",
    "version": 3
   },
   "file_extension": ".py",
   "mimetype": "text/x-python",
   "name": "python",
   "nbconvert_exporter": "python",
   "pygments_lexer": "ipython3",
   "version": "3.9.5"
  },
  "papermill": {
   "default_parameters": {},
   "duration": 7.836668,
   "end_time": "2021-09-28T18:00:11.987105",
   "environment_variables": {},
   "exception": null,
   "input_path": "eBay_Overview.ipynb",
   "output_path": "eBay_Overview.ipynb",
   "parameters": {},
   "start_time": "2021-09-28T18:00:04.150437",
   "version": "2.3.3"
  }
 },
 "nbformat": 4,
 "nbformat_minor": 5
}