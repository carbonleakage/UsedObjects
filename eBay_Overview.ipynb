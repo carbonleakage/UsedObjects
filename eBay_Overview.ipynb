{
 "cells": [
  {
   "cell_type": "code",
   "execution_count": 1,
   "id": "reverse-picking",
   "metadata": {
    "execution": {
     "iopub.execute_input": "2021-09-09T14:30:07.248943Z",
     "iopub.status.busy": "2021-09-09T14:30:07.246992Z",
     "iopub.status.idle": "2021-09-09T14:30:08.061652Z",
     "shell.execute_reply": "2021-09-09T14:30:08.063052Z"
    },
    "papermill": {
     "duration": 0.867616,
     "end_time": "2021-09-09T14:30:08.063751",
     "exception": false,
     "start_time": "2021-09-09T14:30:07.196135",
     "status": "completed"
    },
    "tags": []
   },
   "outputs": [],
   "source": [
    "import pandas as pd\n",
    "import sqlite3"
   ]
  },
  {
   "cell_type": "code",
   "execution_count": 2,
   "id": "innovative-syndrome",
   "metadata": {
    "execution": {
     "iopub.execute_input": "2021-09-09T14:30:08.115513Z",
     "iopub.status.busy": "2021-09-09T14:30:08.113432Z",
     "iopub.status.idle": "2021-09-09T14:30:08.359344Z",
     "shell.execute_reply": "2021-09-09T14:30:08.360765Z"
    },
    "papermill": {
     "duration": 0.276286,
     "end_time": "2021-09-09T14:30:08.361191",
     "exception": false,
     "start_time": "2021-09-09T14:30:08.084905",
     "status": "completed"
    },
    "tags": []
   },
   "outputs": [],
   "source": [
    "timestamps = pd.read_sql(\"select distinct record_time from EBAY_TOP_BERLIN order by record_time desc limit 2\", sqlite3.connect(\"UsedObjects.db\"))"
   ]
  },
  {
   "cell_type": "code",
   "execution_count": 3,
   "id": "periodic-identification",
   "metadata": {
    "execution": {
     "iopub.execute_input": "2021-09-09T14:30:08.425685Z",
     "iopub.status.busy": "2021-09-09T14:30:08.423643Z",
     "iopub.status.idle": "2021-09-09T14:30:08.445270Z",
     "shell.execute_reply": "2021-09-09T14:30:08.446559Z"
    },
    "papermill": {
     "duration": 0.066294,
     "end_time": "2021-09-09T14:30:08.447171",
     "exception": false,
     "start_time": "2021-09-09T14:30:08.380877",
     "status": "completed"
    },
    "tags": []
   },
   "outputs": [
    {
     "data": {
      "text/html": [
       "<div>\n",
       "<style scoped>\n",
       "    .dataframe tbody tr th:only-of-type {\n",
       "        vertical-align: middle;\n",
       "    }\n",
       "\n",
       "    .dataframe tbody tr th {\n",
       "        vertical-align: top;\n",
       "    }\n",
       "\n",
       "    .dataframe thead th {\n",
       "        text-align: right;\n",
       "    }\n",
       "</style>\n",
       "<table border=\"1\" class=\"dataframe\">\n",
       "  <thead>\n",
       "    <tr style=\"text-align: right;\">\n",
       "      <th></th>\n",
       "      <th>RECORD_TIME</th>\n",
       "    </tr>\n",
       "  </thead>\n",
       "  <tbody>\n",
       "    <tr>\n",
       "      <th>0</th>\n",
       "      <td>2021-09-09 16:30</td>\n",
       "    </tr>\n",
       "    <tr>\n",
       "      <th>1</th>\n",
       "      <td>2021-09-09 16:00</td>\n",
       "    </tr>\n",
       "  </tbody>\n",
       "</table>\n",
       "</div>"
      ],
      "text/plain": [
       "        RECORD_TIME\n",
       "0  2021-09-09 16:30\n",
       "1  2021-09-09 16:00"
      ]
     },
     "execution_count": 3,
     "metadata": {},
     "output_type": "execute_result"
    }
   ],
   "source": [
    "timestamps"
   ]
  },
  {
   "cell_type": "code",
   "execution_count": 4,
   "id": "alternate-victory",
   "metadata": {
    "execution": {
     "iopub.execute_input": "2021-09-09T14:30:08.500412Z",
     "iopub.status.busy": "2021-09-09T14:30:08.498037Z",
     "iopub.status.idle": "2021-09-09T14:30:08.868292Z",
     "shell.execute_reply": "2021-09-09T14:30:08.869603Z"
    },
    "papermill": {
     "duration": 0.400973,
     "end_time": "2021-09-09T14:30:08.870022",
     "exception": false,
     "start_time": "2021-09-09T14:30:08.469049",
     "status": "completed"
    },
    "tags": []
   },
   "outputs": [],
   "source": [
    "df = pd.read_sql(\"select * from EBAY_TOP_BERLIN where record_time in (select distinct record_time from EBAY_TOP_BERLIN order by record_time desc limit 2)\", sqlite3.connect(\"UsedObjects.db\"))"
   ]
  },
  {
   "cell_type": "code",
   "execution_count": 5,
   "id": "popular-active",
   "metadata": {
    "execution": {
     "iopub.execute_input": "2021-09-09T14:30:08.950123Z",
     "iopub.status.busy": "2021-09-09T14:30:08.938785Z",
     "iopub.status.idle": "2021-09-09T14:30:08.965356Z",
     "shell.execute_reply": "2021-09-09T14:30:08.966584Z"
    },
    "papermill": {
     "duration": 0.071435,
     "end_time": "2021-09-09T14:30:08.967038",
     "exception": false,
     "start_time": "2021-09-09T14:30:08.895603",
     "status": "completed"
    },
    "tags": []
   },
   "outputs": [],
   "source": [
    "df_pivot = df.pivot_table(index=\"PRODUCT\", columns = \"RECORD_TIME\", values = \"LISTING_COUNT\")"
   ]
  },
  {
   "cell_type": "code",
   "execution_count": 6,
   "id": "union-huntington",
   "metadata": {
    "execution": {
     "iopub.execute_input": "2021-09-09T14:30:09.023726Z",
     "iopub.status.busy": "2021-09-09T14:30:09.021479Z",
     "iopub.status.idle": "2021-09-09T14:30:09.027101Z",
     "shell.execute_reply": "2021-09-09T14:30:09.028562Z"
    },
    "papermill": {
     "duration": 0.041269,
     "end_time": "2021-09-09T14:30:09.029138",
     "exception": false,
     "start_time": "2021-09-09T14:30:08.987869",
     "status": "completed"
    },
    "tags": []
   },
   "outputs": [],
   "source": [
    "df_pivot.columns = [\"stamp_1\", \"stamp_2\"]\n",
    "df_pivot_diff = df_pivot.diff(axis=1)"
   ]
  },
  {
   "cell_type": "code",
   "execution_count": 7,
   "id": "fifth-motion",
   "metadata": {
    "execution": {
     "iopub.execute_input": "2021-09-09T14:30:09.085340Z",
     "iopub.status.busy": "2021-09-09T14:30:09.082914Z",
     "iopub.status.idle": "2021-09-09T14:30:10.585726Z",
     "shell.execute_reply": "2021-09-09T14:30:10.587237Z"
    },
    "papermill": {
     "duration": 1.536903,
     "end_time": "2021-09-09T14:30:10.587692",
     "exception": false,
     "start_time": "2021-09-09T14:30:09.050789",
     "status": "completed"
    },
    "tags": []
   },
   "outputs": [
    {
     "data": {
      "text/plain": [
       "<AxesSubplot:ylabel='PRODUCT'>"
      ]
     },
     "execution_count": 7,
     "metadata": {},
     "output_type": "execute_result"
    },
    {
     "data": {
      "image/png": "[encoded data removed]",
      "text/plain": [
       "<Figure size 432x288 with 1 Axes>"
      ]
     },
     "metadata": {
      "needs_background": "light"
     },
     "output_type": "display_data"
    }
   ],
   "source": [
    "df_pivot_diff.sort_values(\"stamp_2\", ascending = False)[\"stamp_2\"].head(10).plot.barh()"
   ]
  },
  {
   "cell_type": "code",
   "execution_count": null,
   "id": "extra-executive",
   "metadata": {
    "papermill": {
     "duration": 0.022363,
     "end_time": "2021-09-09T14:30:10.636812",
     "exception": false,
     "start_time": "2021-09-09T14:30:10.614449",
     "status": "completed"
    },
    "tags": []
   },
   "outputs": [],
   "source": []
  }
 ],
 "metadata": {
  "kernelspec": {
   "display_name": "Python 3",
   "language": "python",
   "name": "python3"
  },
  "language_info": {
   "codemirror_mode": {
    "name": "ipython",
    "version": 3
   },
   "file_extension": ".py",
   "mimetype": "text/x-python",
   "name": "python",
   "nbconvert_exporter": "python",
   "pygments_lexer": "ipython3",
   "version": "3.9.5"
  },
  "papermill": {
   "default_parameters": {},
   "duration": 6.505174,
   "end_time": "2021-09-09T14:30:11.277827",
   "environment_variables": {},
   "exception": null,
   "input_path": "eBay_Overview.ipynb",
   "output_path": "eBay_Overview.ipynb",
   "parameters": {},
   "start_time": "2021-09-09T14:30:04.772653",
   "version": "2.3.3"
  }
 },
 "nbformat": 4,
 "nbformat_minor": 5
}