{
 "cells": [
  {
   "cell_type": "code",
   "execution_count": 1,
   "id": "reverse-picking",
   "metadata": {
    "execution": {
     "iopub.execute_input": "2021-10-15T07:00:07.830668Z",
     "iopub.status.busy": "2021-10-15T07:00:07.828628Z",
     "iopub.status.idle": "2021-10-15T07:00:08.810289Z",
     "shell.execute_reply": "2021-10-15T07:00:08.811640Z"
    },
    "papermill": {
     "duration": 1.034488,
     "end_time": "2021-10-15T07:00:08.812272",
     "exception": false,
     "start_time": "2021-10-15T07:00:07.777784",
     "status": "completed"
    },
    "tags": []
   },
   "outputs": [],
   "source": [
    "import pandas as pd\n",
    "import sqlite3"
   ]
  },
  {
   "cell_type": "code",
   "execution_count": 2,
   "id": "innovative-syndrome",
   "metadata": {
    "execution": {
     "iopub.execute_input": "2021-10-15T07:00:08.864016Z",
     "iopub.status.busy": "2021-10-15T07:00:08.862165Z",
     "iopub.status.idle": "2021-10-15T07:00:09.408106Z",
     "shell.execute_reply": "2021-10-15T07:00:09.409391Z"
    },
    "papermill": {
     "duration": 0.575623,
     "end_time": "2021-10-15T07:00:09.409829",
     "exception": false,
     "start_time": "2021-10-15T07:00:08.834206",
     "status": "completed"
    },
    "tags": []
   },
   "outputs": [],
   "source": [
    "timestamps = pd.read_sql(\"select distinct record_time from EBAY_TOP_BERLIN order by record_time desc limit 2\", sqlite3.connect(\"UsedObjects.db\"))"
   ]
  },
  {
   "cell_type": "code",
   "execution_count": 3,
   "id": "periodic-identification",
   "metadata": {
    "execution": {
     "iopub.execute_input": "2021-10-15T07:00:09.475735Z",
     "iopub.status.busy": "2021-10-15T07:00:09.473512Z",
     "iopub.status.idle": "2021-10-15T07:00:09.493841Z",
     "shell.execute_reply": "2021-10-15T07:00:09.494979Z"
    },
    "papermill": {
     "duration": 0.064896,
     "end_time": "2021-10-15T07:00:09.495381",
     "exception": false,
     "start_time": "2021-10-15T07:00:09.430485",
     "status": "completed"
    },
    "tags": []
   },
   "outputs": [
    {
     "data": {
      "text/html": [
       "<div>\n",
       "<style scoped>\n",
       "    .dataframe tbody tr th:only-of-type {\n",
       "        vertical-align: middle;\n",
       "    }\n",
       "\n",
       "    .dataframe tbody tr th {\n",
       "        vertical-align: top;\n",
       "    }\n",
       "\n",
       "    .dataframe thead th {\n",
       "        text-align: right;\n",
       "    }\n",
       "</style>\n",
       "<table border=\"1\" class=\"dataframe\">\n",
       "  <thead>\n",
       "    <tr style=\"text-align: right;\">\n",
       "      <th></th>\n",
       "      <th>RECORD_TIME</th>\n",
       "    </tr>\n",
       "  </thead>\n",
       "  <tbody>\n",
       "    <tr>\n",
       "      <th>0</th>\n",
       "      <td>2021-10-15 09:00</td>\n",
       "    </tr>\n",
       "    <tr>\n",
       "      <th>1</th>\n",
       "      <td>2021-10-15 08:30</td>\n",
       "    </tr>\n",
       "  </tbody>\n",
       "</table>\n",
       "</div>"
      ],
      "text/plain": [
       "        RECORD_TIME\n",
       "0  2021-10-15 09:00\n",
       "1  2021-10-15 08:30"
      ]
     },
     "execution_count": 3,
     "metadata": {},
     "output_type": "execute_result"
    }
   ],
   "source": [
    "timestamps"
   ]
  },
  {
   "cell_type": "code",
   "execution_count": 4,
   "id": "alternate-victory",
   "metadata": {
    "execution": {
     "iopub.execute_input": "2021-10-15T07:00:09.549054Z",
     "iopub.status.busy": "2021-10-15T07:00:09.546714Z",
     "iopub.status.idle": "2021-10-15T07:00:10.345409Z",
     "shell.execute_reply": "2021-10-15T07:00:10.346897Z"
    },
    "papermill": {
     "duration": 0.829351,
     "end_time": "2021-10-15T07:00:10.347336",
     "exception": false,
     "start_time": "2021-10-15T07:00:09.517985",
     "status": "completed"
    },
    "tags": []
   },
   "outputs": [],
   "source": [
    "df = pd.read_sql(\"select * from EBAY_TOP_BERLIN where record_time in (select distinct record_time from EBAY_TOP_BERLIN order by record_time desc limit 2)\", sqlite3.connect(\"UsedObjects.db\"))"
   ]
  },
  {
   "cell_type": "code",
   "execution_count": 5,
   "id": "popular-active",
   "metadata": {
    "execution": {
     "iopub.execute_input": "2021-10-15T07:00:10.418125Z",
     "iopub.status.busy": "2021-10-15T07:00:10.405964Z",
     "iopub.status.idle": "2021-10-15T07:00:10.433451Z",
     "shell.execute_reply": "2021-10-15T07:00:10.434695Z"
    },
    "papermill": {
     "duration": 0.066716,
     "end_time": "2021-10-15T07:00:10.435084",
     "exception": false,
     "start_time": "2021-10-15T07:00:10.368368",
     "status": "completed"
    },
    "tags": []
   },
   "outputs": [],
   "source": [
    "df_pivot = df.pivot_table(index=\"PRODUCT\", columns = \"RECORD_TIME\", values = \"LISTING_COUNT\")"
   ]
  },
  {
   "cell_type": "code",
   "execution_count": 6,
   "id": "union-huntington",
   "metadata": {
    "execution": {
     "iopub.execute_input": "2021-10-15T07:00:10.493216Z",
     "iopub.status.busy": "2021-10-15T07:00:10.490875Z",
     "iopub.status.idle": "2021-10-15T07:00:10.496667Z",
     "shell.execute_reply": "2021-10-15T07:00:10.497947Z"
    },
    "papermill": {
     "duration": 0.041734,
     "end_time": "2021-10-15T07:00:10.498371",
     "exception": false,
     "start_time": "2021-10-15T07:00:10.456637",
     "status": "completed"
    },
    "tags": []
   },
   "outputs": [],
   "source": [
    "df_pivot.columns = [\"stamp_1\", \"stamp_2\"]\n",
    "df_pivot_diff = df_pivot.diff(axis=1)"
   ]
  },
  {
   "cell_type": "code",
   "execution_count": 7,
   "id": "fifth-motion",
   "metadata": {
    "execution": {
     "iopub.execute_input": "2021-10-15T07:00:10.552093Z",
     "iopub.status.busy": "2021-10-15T07:00:10.549889Z",
     "iopub.status.idle": "2021-10-15T07:00:12.090755Z",
     "shell.execute_reply": "2021-10-15T07:00:12.092060Z"
    },
    "papermill": {
     "duration": 1.573482,
     "end_time": "2021-10-15T07:00:12.092470",
     "exception": false,
     "start_time": "2021-10-15T07:00:10.518988",
     "status": "completed"
    },
    "tags": []
   },
   "outputs": [
    {
     "data": {
      "text/plain": [
       "<AxesSubplot:ylabel='PRODUCT'>"
      ]
     },
     "execution_count": 7,
     "metadata": {},
     "output_type": "execute_result"
    },
    {
     "data": {
      "image/png": "[encoded data removed]",
      "text/plain": [
       "<Figure size 432x288 with 1 Axes>"
      ]
     },
     "metadata": {
      "needs_background": "light"
     },
     "output_type": "display_data"
    }
   ],
   "source": [
    "df_pivot_diff.sort_values(\"stamp_2\", ascending = False)[\"stamp_2\"].head(10).plot.barh()"
   ]
  },
  {
   "cell_type": "code",
   "execution_count": null,
   "id": "extra-executive",
   "metadata": {
    "papermill": {
     "duration": 0.022049,
     "end_time": "2021-10-15T07:00:12.139414",
     "exception": false,
     "start_time": "2021-10-15T07:00:12.117365",
     "status": "completed"
    },
    "tags": []
   },
   "outputs": [],
   "source": []
  }
 ],
 "metadata": {
  "kernelspec": {
   "display_name": "Python 3",
   "language": "python",
   "name": "python3"
  },
  "language_info": {
   "codemirror_mode": {
    "name": "ipython",
    "version": 3
   },
   "file_extension": ".py",
   "mimetype": "text/x-python",
   "name": "python",
   "nbconvert_exporter": "python",
   "pygments_lexer": "ipython3",
   "version": "3.9.5"
  },
  "papermill": {
   "default_parameters": {},
   "duration": 7.424818,
   "end_time": "2021-10-15T07:00:12.782165",
   "environment_variables": {},
   "exception": null,
   "input_path": "eBay_Overview.ipynb",
   "output_path": "eBay_Overview.ipynb",
   "parameters": {},
   "start_time": "2021-10-15T07:00:05.357347",
   "version": "2.3.3"
  }
 },
 "nbformat": 4,
 "nbformat_minor": 5
}