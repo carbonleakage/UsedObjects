{
 "cells": [
  {
   "cell_type": "code",
   "execution_count": 1,
   "id": "reverse-picking",
   "metadata": {
    "execution": {
     "iopub.execute_input": "2021-10-26T13:00:07.301078Z",
     "iopub.status.busy": "2021-10-26T13:00:07.299070Z",
     "iopub.status.idle": "2021-10-26T13:00:08.104089Z",
     "shell.execute_reply": "2021-10-26T13:00:08.105416Z"
    },
    "papermill": {
     "duration": 0.855306,
     "end_time": "2021-10-26T13:00:08.106047",
     "exception": false,
     "start_time": "2021-10-26T13:00:07.250741",
     "status": "completed"
    },
    "tags": []
   },
   "outputs": [],
   "source": [
    "import pandas as pd\n",
    "import sqlite3"
   ]
  },
  {
   "cell_type": "code",
   "execution_count": 2,
   "id": "innovative-syndrome",
   "metadata": {
    "execution": {
     "iopub.execute_input": "2021-10-26T13:00:08.156415Z",
     "iopub.status.busy": "2021-10-26T13:00:08.154538Z",
     "iopub.status.idle": "2021-10-26T13:00:08.809574Z",
     "shell.execute_reply": "2021-10-26T13:00:08.810700Z"
    },
    "papermill": {
     "duration": 0.684304,
     "end_time": "2021-10-26T13:00:08.811115",
     "exception": false,
     "start_time": "2021-10-26T13:00:08.126811",
     "status": "completed"
    },
    "tags": []
   },
   "outputs": [],
   "source": [
    "timestamps = pd.read_sql(\"select distinct record_time from EBAY_TOP_BERLIN order by record_time desc limit 2\", sqlite3.connect(\"UsedObjects.db\"))"
   ]
  },
  {
   "cell_type": "code",
   "execution_count": 3,
   "id": "periodic-identification",
   "metadata": {
    "execution": {
     "iopub.execute_input": "2021-10-26T13:00:08.887277Z",
     "iopub.status.busy": "2021-10-26T13:00:08.885255Z",
     "iopub.status.idle": "2021-10-26T13:00:08.904949Z",
     "shell.execute_reply": "2021-10-26T13:00:08.906242Z"
    },
    "papermill": {
     "duration": 0.069348,
     "end_time": "2021-10-26T13:00:08.906665",
     "exception": false,
     "start_time": "2021-10-26T13:00:08.837317",
     "status": "completed"
    },
    "tags": []
   },
   "outputs": [
    {
     "data": {
      "text/html": [
       "<div>\n",
       "<style scoped>\n",
       "    .dataframe tbody tr th:only-of-type {\n",
       "        vertical-align: middle;\n",
       "    }\n",
       "\n",
       "    .dataframe tbody tr th {\n",
       "        vertical-align: top;\n",
       "    }\n",
       "\n",
       "    .dataframe thead th {\n",
       "        text-align: right;\n",
       "    }\n",
       "</style>\n",
       "<table border=\"1\" class=\"dataframe\">\n",
       "  <thead>\n",
       "    <tr style=\"text-align: right;\">\n",
       "      <th></th>\n",
       "      <th>RECORD_TIME</th>\n",
       "    </tr>\n",
       "  </thead>\n",
       "  <tbody>\n",
       "    <tr>\n",
       "      <th>0</th>\n",
       "      <td>2021-10-26 15:00</td>\n",
       "    </tr>\n",
       "    <tr>\n",
       "      <th>1</th>\n",
       "      <td>2021-10-26 14:30</td>\n",
       "    </tr>\n",
       "  </tbody>\n",
       "</table>\n",
       "</div>"
      ],
      "text/plain": [
       "        RECORD_TIME\n",
       "0  2021-10-26 15:00\n",
       "1  2021-10-26 14:30"
      ]
     },
     "execution_count": 3,
     "metadata": {},
     "output_type": "execute_result"
    }
   ],
   "source": [
    "timestamps"
   ]
  },
  {
   "cell_type": "code",
   "execution_count": 4,
   "id": "alternate-victory",
   "metadata": {
    "execution": {
     "iopub.execute_input": "2021-10-26T13:00:08.958000Z",
     "iopub.status.busy": "2021-10-26T13:00:08.955916Z",
     "iopub.status.idle": "2021-10-26T13:00:09.913811Z",
     "shell.execute_reply": "2021-10-26T13:00:09.915080Z"
    },
    "papermill": {
     "duration": 0.987663,
     "end_time": "2021-10-26T13:00:09.915480",
     "exception": false,
     "start_time": "2021-10-26T13:00:08.927817",
     "status": "completed"
    },
    "tags": []
   },
   "outputs": [],
   "source": [
    "df = pd.read_sql(\"select * from EBAY_TOP_BERLIN where record_time in (select distinct record_time from EBAY_TOP_BERLIN order by record_time desc limit 2)\", sqlite3.connect(\"UsedObjects.db\"))"
   ]
  },
  {
   "cell_type": "code",
   "execution_count": 5,
   "id": "popular-active",
   "metadata": {
    "execution": {
     "iopub.execute_input": "2021-10-26T13:00:09.986062Z",
     "iopub.status.busy": "2021-10-26T13:00:09.974162Z",
     "iopub.status.idle": "2021-10-26T13:00:10.001492Z",
     "shell.execute_reply": "2021-10-26T13:00:10.002704Z"
    },
    "papermill": {
     "duration": 0.067129,
     "end_time": "2021-10-26T13:00:10.003105",
     "exception": false,
     "start_time": "2021-10-26T13:00:09.935976",
     "status": "completed"
    },
    "tags": []
   },
   "outputs": [],
   "source": [
    "df_pivot = df.pivot_table(index=\"PRODUCT\", columns = \"RECORD_TIME\", values = \"LISTING_COUNT\")"
   ]
  },
  {
   "cell_type": "code",
   "execution_count": 6,
   "id": "union-huntington",
   "metadata": {
    "execution": {
     "iopub.execute_input": "2021-10-26T13:00:10.059607Z",
     "iopub.status.busy": "2021-10-26T13:00:10.057564Z",
     "iopub.status.idle": "2021-10-26T13:00:10.062530Z",
     "shell.execute_reply": "2021-10-26T13:00:10.063920Z"
    },
    "papermill": {
     "duration": 0.039866,
     "end_time": "2021-10-26T13:00:10.064370",
     "exception": false,
     "start_time": "2021-10-26T13:00:10.024504",
     "status": "completed"
    },
    "tags": []
   },
   "outputs": [],
   "source": [
    "df_pivot.columns = [\"stamp_1\", \"stamp_2\"]\n",
    "df_pivot_diff = df_pivot.diff(axis=1)"
   ]
  },
  {
   "cell_type": "code",
   "execution_count": 7,
   "id": "fifth-motion",
   "metadata": {
    "execution": {
     "iopub.execute_input": "2021-10-26T13:00:10.118395Z",
     "iopub.status.busy": "2021-10-26T13:00:10.115843Z",
     "iopub.status.idle": "2021-10-26T13:00:11.606304Z",
     "shell.execute_reply": "2021-10-26T13:00:11.607587Z"
    },
    "papermill": {
     "duration": 1.523346,
     "end_time": "2021-10-26T13:00:11.608007",
     "exception": false,
     "start_time": "2021-10-26T13:00:10.084661",
     "status": "completed"
    },
    "tags": []
   },
   "outputs": [
    {
     "data": {
      "text/plain": [
       "<AxesSubplot:ylabel='PRODUCT'>"
      ]
     },
     "execution_count": 7,
     "metadata": {},
     "output_type": "execute_result"
    },
    {
     "data": {
      "image/png": "[encoded data removed]",
      "text/plain": [
       "<Figure size 432x288 with 1 Axes>"
      ]
     },
     "metadata": {
      "needs_background": "light"
     },
     "output_type": "display_data"
    }
   ],
   "source": [
    "df_pivot_diff.sort_values(\"stamp_2\", ascending = False)[\"stamp_2\"].head(10).plot.barh()"
   ]
  },
  {
   "cell_type": "code",
   "execution_count": null,
   "id": "extra-executive",
   "metadata": {
    "papermill": {
     "duration": 0.022032,
     "end_time": "2021-10-26T13:00:11.656026",
     "exception": false,
     "start_time": "2021-10-26T13:00:11.633994",
     "status": "completed"
    },
    "tags": []
   },
   "outputs": [],
   "source": []
  }
 ],
 "metadata": {
  "kernelspec": {
   "display_name": "Python 3",
   "language": "python",
   "name": "python3"
  },
  "language_info": {
   "codemirror_mode": {
    "name": "ipython",
    "version": 3
   },
   "file_extension": ".py",
   "mimetype": "text/x-python",
   "name": "python",
   "nbconvert_exporter": "python",
   "pygments_lexer": "ipython3",
   "version": "3.9.5"
  },
  "papermill": {
   "default_parameters": {},
   "duration": 7.452661,
   "end_time": "2021-10-26T13:00:12.300152",
   "environment_variables": {},
   "exception": null,
   "input_path": "eBay_Overview.ipynb",
   "output_path": "eBay_Overview.ipynb",
   "parameters": {},
   "start_time": "2021-10-26T13:00:04.847491",
   "version": "2.3.3"
  }
 },
 "nbformat": 4,
 "nbformat_minor": 5
}