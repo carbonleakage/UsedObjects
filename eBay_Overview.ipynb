{
 "cells": [
  {
   "cell_type": "code",
   "execution_count": 1,
   "id": "reverse-picking",
   "metadata": {
    "execution": {
     "iopub.execute_input": "2021-08-22T12:00:07.246367Z",
     "iopub.status.busy": "2021-08-22T12:00:07.244310Z",
     "iopub.status.idle": "2021-08-22T12:00:08.047936Z",
     "shell.execute_reply": "2021-08-22T12:00:08.049266Z"
    },
    "papermill": {
     "duration": 0.855647,
     "end_time": "2021-08-22T12:00:08.049915",
     "exception": false,
     "start_time": "2021-08-22T12:00:07.194268",
     "status": "completed"
    },
    "tags": []
   },
   "outputs": [],
   "source": [
    "import pandas as pd\n",
    "import sqlite3"
   ]
  },
  {
   "cell_type": "code",
   "execution_count": 2,
   "id": "innovative-syndrome",
   "metadata": {
    "execution": {
     "iopub.execute_input": "2021-08-22T12:00:08.100843Z",
     "iopub.status.busy": "2021-08-22T12:00:08.098688Z",
     "iopub.status.idle": "2021-08-22T12:00:08.204185Z",
     "shell.execute_reply": "2021-08-22T12:00:08.205448Z"
    },
    "papermill": {
     "duration": 0.135707,
     "end_time": "2021-08-22T12:00:08.205870",
     "exception": false,
     "start_time": "2021-08-22T12:00:08.070163",
     "status": "completed"
    },
    "tags": []
   },
   "outputs": [],
   "source": [
    "timestamps = pd.read_sql(\"select distinct record_time from EBAY_TOP_BERLIN order by record_time desc limit 2\", sqlite3.connect(\"UsedObjects.db\"))"
   ]
  },
  {
   "cell_type": "code",
   "execution_count": 3,
   "id": "periodic-identification",
   "metadata": {
    "execution": {
     "iopub.execute_input": "2021-08-22T12:00:08.272718Z",
     "iopub.status.busy": "2021-08-22T12:00:08.270699Z",
     "iopub.status.idle": "2021-08-22T12:00:08.290416Z",
     "shell.execute_reply": "2021-08-22T12:00:08.291729Z"
    },
    "papermill": {
     "duration": 0.066812,
     "end_time": "2021-08-22T12:00:08.292149",
     "exception": false,
     "start_time": "2021-08-22T12:00:08.225337",
     "status": "completed"
    },
    "tags": []
   },
   "outputs": [
    {
     "data": {
      "text/html": [
       "<div>\n",
       "<style scoped>\n",
       "    .dataframe tbody tr th:only-of-type {\n",
       "        vertical-align: middle;\n",
       "    }\n",
       "\n",
       "    .dataframe tbody tr th {\n",
       "        vertical-align: top;\n",
       "    }\n",
       "\n",
       "    .dataframe thead th {\n",
       "        text-align: right;\n",
       "    }\n",
       "</style>\n",
       "<table border=\"1\" class=\"dataframe\">\n",
       "  <thead>\n",
       "    <tr style=\"text-align: right;\">\n",
       "      <th></th>\n",
       "      <th>RECORD_TIME</th>\n",
       "    </tr>\n",
       "  </thead>\n",
       "  <tbody>\n",
       "    <tr>\n",
       "      <th>0</th>\n",
       "      <td>2021-08-22 14:00</td>\n",
       "    </tr>\n",
       "    <tr>\n",
       "      <th>1</th>\n",
       "      <td>2021-08-22 13:30</td>\n",
       "    </tr>\n",
       "  </tbody>\n",
       "</table>\n",
       "</div>"
      ],
      "text/plain": [
       "        RECORD_TIME\n",
       "0  2021-08-22 14:00\n",
       "1  2021-08-22 13:30"
      ]
     },
     "execution_count": 3,
     "metadata": {},
     "output_type": "execute_result"
    }
   ],
   "source": [
    "timestamps"
   ]
  },
  {
   "cell_type": "code",
   "execution_count": 4,
   "id": "alternate-victory",
   "metadata": {
    "execution": {
     "iopub.execute_input": "2021-08-22T12:00:08.343770Z",
     "iopub.status.busy": "2021-08-22T12:00:08.341552Z",
     "iopub.status.idle": "2021-08-22T12:00:08.500036Z",
     "shell.execute_reply": "2021-08-22T12:00:08.501322Z"
    },
    "papermill": {
     "duration": 0.188492,
     "end_time": "2021-08-22T12:00:08.501744",
     "exception": false,
     "start_time": "2021-08-22T12:00:08.313252",
     "status": "completed"
    },
    "tags": []
   },
   "outputs": [],
   "source": [
    "df = pd.read_sql(\"select * from EBAY_TOP_BERLIN where record_time in (select distinct record_time from EBAY_TOP_BERLIN order by record_time desc limit 2)\", sqlite3.connect(\"UsedObjects.db\"))"
   ]
  },
  {
   "cell_type": "code",
   "execution_count": 5,
   "id": "popular-active",
   "metadata": {
    "execution": {
     "iopub.execute_input": "2021-08-22T12:00:08.567310Z",
     "iopub.status.busy": "2021-08-22T12:00:08.561419Z",
     "iopub.status.idle": "2021-08-22T12:00:08.588100Z",
     "shell.execute_reply": "2021-08-22T12:00:08.589323Z"
    },
    "papermill": {
     "duration": 0.067406,
     "end_time": "2021-08-22T12:00:08.589723",
     "exception": false,
     "start_time": "2021-08-22T12:00:08.522317",
     "status": "completed"
    },
    "tags": []
   },
   "outputs": [],
   "source": [
    "df_pivot = df.pivot_table(index=\"PRODUCT\", columns = \"RECORD_TIME\", values = \"LISTING_COUNT\")"
   ]
  },
  {
   "cell_type": "code",
   "execution_count": 6,
   "id": "union-huntington",
   "metadata": {
    "execution": {
     "iopub.execute_input": "2021-08-22T12:00:08.649364Z",
     "iopub.status.busy": "2021-08-22T12:00:08.646934Z",
     "iopub.status.idle": "2021-08-22T12:00:08.653023Z",
     "shell.execute_reply": "2021-08-22T12:00:08.654369Z"
    },
    "papermill": {
     "duration": 0.042413,
     "end_time": "2021-08-22T12:00:08.654833",
     "exception": false,
     "start_time": "2021-08-22T12:00:08.612420",
     "status": "completed"
    },
    "tags": []
   },
   "outputs": [],
   "source": [
    "df_pivot.columns = [\"stamp_1\", \"stamp_2\"]\n",
    "df_pivot_diff = df_pivot.diff(axis=1)"
   ]
  },
  {
   "cell_type": "code",
   "execution_count": 7,
   "id": "fifth-motion",
   "metadata": {
    "execution": {
     "iopub.execute_input": "2021-08-22T12:00:08.719945Z",
     "iopub.status.busy": "2021-08-22T12:00:08.717450Z",
     "iopub.status.idle": "2021-08-22T12:00:10.194842Z",
     "shell.execute_reply": "2021-08-22T12:00:10.196139Z"
    },
    "papermill": {
     "duration": 1.514077,
     "end_time": "2021-08-22T12:00:10.196569",
     "exception": false,
     "start_time": "2021-08-22T12:00:08.682492",
     "status": "completed"
    },
    "tags": []
   },
   "outputs": [
    {
     "data": {
      "text/plain": [
       "<AxesSubplot:ylabel='PRODUCT'>"
      ]
     },
     "execution_count": 7,
     "metadata": {},
     "output_type": "execute_result"
    },
    {
     "data": {
      "image/png": "[encoded data removed]",
      "text/plain": [
       "<Figure size 432x288 with 1 Axes>"
      ]
     },
     "metadata": {
      "needs_background": "light"
     },
     "output_type": "display_data"
    }
   ],
   "source": [
    "df_pivot_diff.sort_values(\"stamp_2\", ascending = False)[\"stamp_2\"].head(10).plot.barh()"
   ]
  },
  {
   "cell_type": "code",
   "execution_count": null,
   "id": "extra-executive",
   "metadata": {
    "papermill": {
     "duration": 0.022012,
     "end_time": "2021-08-22T12:00:10.243140",
     "exception": false,
     "start_time": "2021-08-22T12:00:10.221128",
     "status": "completed"
    },
    "tags": []
   },
   "outputs": [],
   "source": []
  }
 ],
 "metadata": {
  "kernelspec": {
   "display_name": "Python 3",
   "language": "python",
   "name": "python3"
  },
  "language_info": {
   "codemirror_mode": {
    "name": "ipython",
    "version": 3
   },
   "file_extension": ".py",
   "mimetype": "text/x-python",
   "name": "python",
   "nbconvert_exporter": "python",
   "pygments_lexer": "ipython3",
   "version": "3.9.5"
  },
  "papermill": {
   "default_parameters": {},
   "duration": 6.832871,
   "end_time": "2021-08-22T12:00:11.615889",
   "environment_variables": {},
   "exception": null,
   "input_path": "eBay_Overview.ipynb",
   "output_path": "eBay_Overview.ipynb",
   "parameters": {},
   "start_time": "2021-08-22T12:00:04.783018",
   "version": "2.3.3"
  }
 },
 "nbformat": 4,
 "nbformat_minor": 5
}