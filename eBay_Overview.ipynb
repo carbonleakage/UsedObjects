{
 "cells": [
  {
   "cell_type": "code",
   "execution_count": 1,
   "id": "reverse-picking",
   "metadata": {
    "execution": {
     "iopub.execute_input": "2021-10-10T20:30:07.545060Z",
     "iopub.status.busy": "2021-10-10T20:30:07.543115Z",
     "iopub.status.idle": "2021-10-10T20:30:08.351998Z",
     "shell.execute_reply": "2021-10-10T20:30:08.350342Z"
    },
    "papermill": {
     "duration": 0.85925,
     "end_time": "2021-10-10T20:30:08.352404",
     "exception": false,
     "start_time": "2021-10-10T20:30:07.493154",
     "status": "completed"
    },
    "tags": []
   },
   "outputs": [],
   "source": [
    "import pandas as pd\n",
    "import sqlite3"
   ]
  },
  {
   "cell_type": "code",
   "execution_count": 2,
   "id": "innovative-syndrome",
   "metadata": {
    "execution": {
     "iopub.execute_input": "2021-10-10T20:30:08.405121Z",
     "iopub.status.busy": "2021-10-10T20:30:08.402946Z",
     "iopub.status.idle": "2021-10-10T20:30:08.901653Z",
     "shell.execute_reply": "2021-10-10T20:30:08.902910Z"
    },
    "papermill": {
     "duration": 0.52861,
     "end_time": "2021-10-10T20:30:08.903380",
     "exception": false,
     "start_time": "2021-10-10T20:30:08.374770",
     "status": "completed"
    },
    "tags": []
   },
   "outputs": [],
   "source": [
    "timestamps = pd.read_sql(\"select distinct record_time from EBAY_TOP_BERLIN order by record_time desc limit 2\", sqlite3.connect(\"UsedObjects.db\"))"
   ]
  },
  {
   "cell_type": "code",
   "execution_count": 3,
   "id": "periodic-identification",
   "metadata": {
    "execution": {
     "iopub.execute_input": "2021-10-10T20:30:08.968614Z",
     "iopub.status.busy": "2021-10-10T20:30:08.966541Z",
     "iopub.status.idle": "2021-10-10T20:30:08.986267Z",
     "shell.execute_reply": "2021-10-10T20:30:08.987801Z"
    },
    "papermill": {
     "duration": 0.064421,
     "end_time": "2021-10-10T20:30:08.988238",
     "exception": false,
     "start_time": "2021-10-10T20:30:08.923817",
     "status": "completed"
    },
    "tags": []
   },
   "outputs": [
    {
     "data": {
      "text/html": [
       "<div>\n",
       "<style scoped>\n",
       "    .dataframe tbody tr th:only-of-type {\n",
       "        vertical-align: middle;\n",
       "    }\n",
       "\n",
       "    .dataframe tbody tr th {\n",
       "        vertical-align: top;\n",
       "    }\n",
       "\n",
       "    .dataframe thead th {\n",
       "        text-align: right;\n",
       "    }\n",
       "</style>\n",
       "<table border=\"1\" class=\"dataframe\">\n",
       "  <thead>\n",
       "    <tr style=\"text-align: right;\">\n",
       "      <th></th>\n",
       "      <th>RECORD_TIME</th>\n",
       "    </tr>\n",
       "  </thead>\n",
       "  <tbody>\n",
       "    <tr>\n",
       "      <th>0</th>\n",
       "      <td>2021-10-10 22:30</td>\n",
       "    </tr>\n",
       "    <tr>\n",
       "      <th>1</th>\n",
       "      <td>2021-10-10 22:00</td>\n",
       "    </tr>\n",
       "  </tbody>\n",
       "</table>\n",
       "</div>"
      ],
      "text/plain": [
       "        RECORD_TIME\n",
       "0  2021-10-10 22:30\n",
       "1  2021-10-10 22:00"
      ]
     },
     "execution_count": 3,
     "metadata": {},
     "output_type": "execute_result"
    }
   ],
   "source": [
    "timestamps"
   ]
  },
  {
   "cell_type": "code",
   "execution_count": 4,
   "id": "alternate-victory",
   "metadata": {
    "execution": {
     "iopub.execute_input": "2021-10-10T20:30:09.052746Z",
     "iopub.status.busy": "2021-10-10T20:30:09.050516Z",
     "iopub.status.idle": "2021-10-10T20:30:09.787400Z",
     "shell.execute_reply": "2021-10-10T20:30:09.788881Z"
    },
    "papermill": {
     "duration": 0.771882,
     "end_time": "2021-10-10T20:30:09.789322",
     "exception": false,
     "start_time": "2021-10-10T20:30:09.017440",
     "status": "completed"
    },
    "tags": []
   },
   "outputs": [],
   "source": [
    "df = pd.read_sql(\"select * from EBAY_TOP_BERLIN where record_time in (select distinct record_time from EBAY_TOP_BERLIN order by record_time desc limit 2)\", sqlite3.connect(\"UsedObjects.db\"))"
   ]
  },
  {
   "cell_type": "code",
   "execution_count": 5,
   "id": "popular-active",
   "metadata": {
    "execution": {
     "iopub.execute_input": "2021-10-10T20:30:09.859537Z",
     "iopub.status.busy": "2021-10-10T20:30:09.848566Z",
     "iopub.status.idle": "2021-10-10T20:30:09.875833Z",
     "shell.execute_reply": "2021-10-10T20:30:09.877048Z"
    },
    "papermill": {
     "duration": 0.067225,
     "end_time": "2021-10-10T20:30:09.877443",
     "exception": false,
     "start_time": "2021-10-10T20:30:09.810218",
     "status": "completed"
    },
    "tags": []
   },
   "outputs": [],
   "source": [
    "df_pivot = df.pivot_table(index=\"PRODUCT\", columns = \"RECORD_TIME\", values = \"LISTING_COUNT\")"
   ]
  },
  {
   "cell_type": "code",
   "execution_count": 6,
   "id": "union-huntington",
   "metadata": {
    "execution": {
     "iopub.execute_input": "2021-10-10T20:30:09.937335Z",
     "iopub.status.busy": "2021-10-10T20:30:09.934943Z",
     "iopub.status.idle": "2021-10-10T20:30:09.940900Z",
     "shell.execute_reply": "2021-10-10T20:30:09.942232Z"
    },
    "papermill": {
     "duration": 0.04273,
     "end_time": "2021-10-10T20:30:09.942714",
     "exception": false,
     "start_time": "2021-10-10T20:30:09.899984",
     "status": "completed"
    },
    "tags": []
   },
   "outputs": [],
   "source": [
    "df_pivot.columns = [\"stamp_1\", \"stamp_2\"]\n",
    "df_pivot_diff = df_pivot.diff(axis=1)"
   ]
  },
  {
   "cell_type": "code",
   "execution_count": 7,
   "id": "fifth-motion",
   "metadata": {
    "execution": {
     "iopub.execute_input": "2021-10-10T20:30:09.998062Z",
     "iopub.status.busy": "2021-10-10T20:30:09.995868Z",
     "iopub.status.idle": "2021-10-10T20:30:11.468658Z",
     "shell.execute_reply": "2021-10-10T20:30:11.469933Z"
    },
    "papermill": {
     "duration": 1.505289,
     "end_time": "2021-10-10T20:30:11.470346",
     "exception": false,
     "start_time": "2021-10-10T20:30:09.965057",
     "status": "completed"
    },
    "tags": []
   },
   "outputs": [
    {
     "data": {
      "text/plain": [
       "<AxesSubplot:ylabel='PRODUCT'>"
      ]
     },
     "execution_count": 7,
     "metadata": {},
     "output_type": "execute_result"
    },
    {
     "data": {
      "image/png": "[encoded data removed]",
      "text/plain": [
       "<Figure size 432x288 with 1 Axes>"
      ]
     },
     "metadata": {
      "needs_background": "light"
     },
     "output_type": "display_data"
    }
   ],
   "source": [
    "df_pivot_diff.sort_values(\"stamp_2\", ascending = False)[\"stamp_2\"].head(10).plot.barh()"
   ]
  },
  {
   "cell_type": "code",
   "execution_count": null,
   "id": "extra-executive",
   "metadata": {
    "papermill": {
     "duration": 0.022201,
     "end_time": "2021-10-10T20:30:11.516954",
     "exception": false,
     "start_time": "2021-10-10T20:30:11.494753",
     "status": "completed"
    },
    "tags": []
   },
   "outputs": [],
   "source": []
  }
 ],
 "metadata": {
  "kernelspec": {
   "display_name": "Python 3",
   "language": "python",
   "name": "python3"
  },
  "language_info": {
   "codemirror_mode": {
    "name": "ipython",
    "version": 3
   },
   "file_extension": ".py",
   "mimetype": "text/x-python",
   "name": "python",
   "nbconvert_exporter": "python",
   "pygments_lexer": "ipython3",
   "version": "3.9.5"
  },
  "papermill": {
   "default_parameters": {},
   "duration": 7.84379,
   "end_time": "2021-10-10T20:30:12.922561",
   "environment_variables": {},
   "exception": null,
   "input_path": "eBay_Overview.ipynb",
   "output_path": "eBay_Overview.ipynb",
   "parameters": {},
   "start_time": "2021-10-10T20:30:05.078771",
   "version": "2.3.3"
  }
 },
 "nbformat": 4,
 "nbformat_minor": 5
}