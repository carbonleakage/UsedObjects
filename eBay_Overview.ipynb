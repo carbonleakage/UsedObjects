{
 "cells": [
  {
   "cell_type": "code",
   "execution_count": 1,
   "id": "reverse-picking",
   "metadata": {
    "execution": {
     "iopub.execute_input": "2021-10-26T17:00:07.426676Z",
     "iopub.status.busy": "2021-10-26T17:00:07.424239Z",
     "iopub.status.idle": "2021-10-26T17:00:08.229828Z",
     "shell.execute_reply": "2021-10-26T17:00:08.231108Z"
    },
    "papermill": {
     "duration": 0.858913,
     "end_time": "2021-10-26T17:00:08.231721",
     "exception": false,
     "start_time": "2021-10-26T17:00:07.372808",
     "status": "completed"
    },
    "tags": []
   },
   "outputs": [],
   "source": [
    "import pandas as pd\n",
    "import sqlite3"
   ]
  },
  {
   "cell_type": "code",
   "execution_count": 2,
   "id": "innovative-syndrome",
   "metadata": {
    "execution": {
     "iopub.execute_input": "2021-10-26T17:00:08.282944Z",
     "iopub.status.busy": "2021-10-26T17:00:08.281076Z",
     "iopub.status.idle": "2021-10-26T17:00:08.931027Z",
     "shell.execute_reply": "2021-10-26T17:00:08.932214Z"
    },
    "papermill": {
     "duration": 0.679808,
     "end_time": "2021-10-26T17:00:08.932607",
     "exception": false,
     "start_time": "2021-10-26T17:00:08.252799",
     "status": "completed"
    },
    "tags": []
   },
   "outputs": [],
   "source": [
    "timestamps = pd.read_sql(\"select distinct record_time from EBAY_TOP_BERLIN order by record_time desc limit 2\", sqlite3.connect(\"UsedObjects.db\"))"
   ]
  },
  {
   "cell_type": "code",
   "execution_count": 3,
   "id": "periodic-identification",
   "metadata": {
    "execution": {
     "iopub.execute_input": "2021-10-26T17:00:09.008409Z",
     "iopub.status.busy": "2021-10-26T17:00:09.006393Z",
     "iopub.status.idle": "2021-10-26T17:00:09.026139Z",
     "shell.execute_reply": "2021-10-26T17:00:09.027404Z"
    },
    "papermill": {
     "duration": 0.067442,
     "end_time": "2021-10-26T17:00:09.027812",
     "exception": false,
     "start_time": "2021-10-26T17:00:08.960370",
     "status": "completed"
    },
    "tags": []
   },
   "outputs": [
    {
     "data": {
      "text/html": [
       "<div>\n",
       "<style scoped>\n",
       "    .dataframe tbody tr th:only-of-type {\n",
       "        vertical-align: middle;\n",
       "    }\n",
       "\n",
       "    .dataframe tbody tr th {\n",
       "        vertical-align: top;\n",
       "    }\n",
       "\n",
       "    .dataframe thead th {\n",
       "        text-align: right;\n",
       "    }\n",
       "</style>\n",
       "<table border=\"1\" class=\"dataframe\">\n",
       "  <thead>\n",
       "    <tr style=\"text-align: right;\">\n",
       "      <th></th>\n",
       "      <th>RECORD_TIME</th>\n",
       "    </tr>\n",
       "  </thead>\n",
       "  <tbody>\n",
       "    <tr>\n",
       "      <th>0</th>\n",
       "      <td>2021-10-26 19:00</td>\n",
       "    </tr>\n",
       "    <tr>\n",
       "      <th>1</th>\n",
       "      <td>2021-10-26 18:30</td>\n",
       "    </tr>\n",
       "  </tbody>\n",
       "</table>\n",
       "</div>"
      ],
      "text/plain": [
       "        RECORD_TIME\n",
       "0  2021-10-26 19:00\n",
       "1  2021-10-26 18:30"
      ]
     },
     "execution_count": 3,
     "metadata": {},
     "output_type": "execute_result"
    }
   ],
   "source": [
    "timestamps"
   ]
  },
  {
   "cell_type": "code",
   "execution_count": 4,
   "id": "alternate-victory",
   "metadata": {
    "execution": {
     "iopub.execute_input": "2021-10-26T17:00:09.099226Z",
     "iopub.status.busy": "2021-10-26T17:00:09.097200Z",
     "iopub.status.idle": "2021-10-26T17:00:10.064787Z",
     "shell.execute_reply": "2021-10-26T17:00:10.066202Z"
    },
    "papermill": {
     "duration": 1.016578,
     "end_time": "2021-10-26T17:00:10.066649",
     "exception": false,
     "start_time": "2021-10-26T17:00:09.050071",
     "status": "completed"
    },
    "tags": []
   },
   "outputs": [],
   "source": [
    "df = pd.read_sql(\"select * from EBAY_TOP_BERLIN where record_time in (select distinct record_time from EBAY_TOP_BERLIN order by record_time desc limit 2)\", sqlite3.connect(\"UsedObjects.db\"))"
   ]
  },
  {
   "cell_type": "code",
   "execution_count": 5,
   "id": "popular-active",
   "metadata": {
    "execution": {
     "iopub.execute_input": "2021-10-26T17:00:10.136825Z",
     "iopub.status.busy": "2021-10-26T17:00:10.126163Z",
     "iopub.status.idle": "2021-10-26T17:00:10.153375Z",
     "shell.execute_reply": "2021-10-26T17:00:10.154595Z"
    },
    "papermill": {
     "duration": 0.066913,
     "end_time": "2021-10-26T17:00:10.155005",
     "exception": false,
     "start_time": "2021-10-26T17:00:10.088092",
     "status": "completed"
    },
    "tags": []
   },
   "outputs": [],
   "source": [
    "df_pivot = df.pivot_table(index=\"PRODUCT\", columns = \"RECORD_TIME\", values = \"LISTING_COUNT\")"
   ]
  },
  {
   "cell_type": "code",
   "execution_count": 6,
   "id": "union-huntington",
   "metadata": {
    "execution": {
     "iopub.execute_input": "2021-10-26T17:00:10.214160Z",
     "iopub.status.busy": "2021-10-26T17:00:10.211668Z",
     "iopub.status.idle": "2021-10-26T17:00:10.217341Z",
     "shell.execute_reply": "2021-10-26T17:00:10.218644Z"
    },
    "papermill": {
     "duration": 0.042132,
     "end_time": "2021-10-26T17:00:10.219064",
     "exception": false,
     "start_time": "2021-10-26T17:00:10.176932",
     "status": "completed"
    },
    "tags": []
   },
   "outputs": [],
   "source": [
    "df_pivot.columns = [\"stamp_1\", \"stamp_2\"]\n",
    "df_pivot_diff = df_pivot.diff(axis=1)"
   ]
  },
  {
   "cell_type": "code",
   "execution_count": 7,
   "id": "fifth-motion",
   "metadata": {
    "execution": {
     "iopub.execute_input": "2021-10-26T17:00:10.272533Z",
     "iopub.status.busy": "2021-10-26T17:00:10.270231Z",
     "iopub.status.idle": "2021-10-26T17:00:11.776024Z",
     "shell.execute_reply": "2021-10-26T17:00:11.777471Z"
    },
    "papermill": {
     "duration": 1.538692,
     "end_time": "2021-10-26T17:00:11.777914",
     "exception": false,
     "start_time": "2021-10-26T17:00:10.239222",
     "status": "completed"
    },
    "tags": []
   },
   "outputs": [
    {
     "data": {
      "text/plain": [
       "<AxesSubplot:ylabel='PRODUCT'>"
      ]
     },
     "execution_count": 7,
     "metadata": {},
     "output_type": "execute_result"
    },
    {
     "data": {
      "image/png": "[encoded data removed]",
      "text/plain": [
       "<Figure size 432x288 with 1 Axes>"
      ]
     },
     "metadata": {
      "needs_background": "light"
     },
     "output_type": "display_data"
    }
   ],
   "source": [
    "df_pivot_diff.sort_values(\"stamp_2\", ascending = False)[\"stamp_2\"].head(10).plot.barh()"
   ]
  },
  {
   "cell_type": "code",
   "execution_count": null,
   "id": "extra-executive",
   "metadata": {
    "papermill": {
     "duration": 0.022474,
     "end_time": "2021-10-26T17:00:11.825435",
     "exception": false,
     "start_time": "2021-10-26T17:00:11.802961",
     "status": "completed"
    },
    "tags": []
   },
   "outputs": [],
   "source": []
  }
 ],
 "metadata": {
  "kernelspec": {
   "display_name": "Python 3",
   "language": "python",
   "name": "python3"
  },
  "language_info": {
   "codemirror_mode": {
    "name": "ipython",
    "version": 3
   },
   "file_extension": ".py",
   "mimetype": "text/x-python",
   "name": "python",
   "nbconvert_exporter": "python",
   "pygments_lexer": "ipython3",
   "version": "3.9.5"
  },
  "papermill": {
   "default_parameters": {},
   "duration": 7.508499,
   "end_time": "2021-10-26T17:00:12.469768",
   "environment_variables": {},
   "exception": null,
   "input_path": "eBay_Overview.ipynb",
   "output_path": "eBay_Overview.ipynb",
   "parameters": {},
   "start_time": "2021-10-26T17:00:04.961269",
   "version": "2.3.3"
  }
 },
 "nbformat": 4,
 "nbformat_minor": 5
}