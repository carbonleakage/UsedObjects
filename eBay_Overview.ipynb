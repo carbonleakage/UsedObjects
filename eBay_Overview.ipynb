{
 "cells": [
  {
   "cell_type": "code",
   "execution_count": 1,
   "id": "reverse-picking",
   "metadata": {
    "execution": {
     "iopub.execute_input": "2021-09-06T02:30:06.480228Z",
     "iopub.status.busy": "2021-09-06T02:30:06.478144Z",
     "iopub.status.idle": "2021-09-06T02:30:07.284728Z",
     "shell.execute_reply": "2021-09-06T02:30:07.285972Z"
    },
    "papermill": {
     "duration": 0.857026,
     "end_time": "2021-09-06T02:30:07.286583",
     "exception": false,
     "start_time": "2021-09-06T02:30:06.429557",
     "status": "completed"
    },
    "tags": []
   },
   "outputs": [],
   "source": [
    "import pandas as pd\n",
    "import sqlite3"
   ]
  },
  {
   "cell_type": "code",
   "execution_count": 2,
   "id": "innovative-syndrome",
   "metadata": {
    "execution": {
     "iopub.execute_input": "2021-09-06T02:30:07.339288Z",
     "iopub.status.busy": "2021-09-06T02:30:07.336900Z",
     "iopub.status.idle": "2021-09-06T02:30:07.556197Z",
     "shell.execute_reply": "2021-09-06T02:30:07.557443Z"
    },
    "papermill": {
     "duration": 0.249076,
     "end_time": "2021-09-06T02:30:07.557847",
     "exception": false,
     "start_time": "2021-09-06T02:30:07.308771",
     "status": "completed"
    },
    "tags": []
   },
   "outputs": [],
   "source": [
    "timestamps = pd.read_sql(\"select distinct record_time from EBAY_TOP_BERLIN order by record_time desc limit 2\", sqlite3.connect(\"UsedObjects.db\"))"
   ]
  },
  {
   "cell_type": "code",
   "execution_count": 3,
   "id": "periodic-identification",
   "metadata": {
    "execution": {
     "iopub.execute_input": "2021-09-06T02:30:07.621452Z",
     "iopub.status.busy": "2021-09-06T02:30:07.619370Z",
     "iopub.status.idle": "2021-09-06T02:30:07.640129Z",
     "shell.execute_reply": "2021-09-06T02:30:07.641271Z"
    },
    "papermill": {
     "duration": 0.064706,
     "end_time": "2021-09-06T02:30:07.641690",
     "exception": false,
     "start_time": "2021-09-06T02:30:07.576984",
     "status": "completed"
    },
    "tags": []
   },
   "outputs": [
    {
     "data": {
      "text/html": [
       "<div>\n",
       "<style scoped>\n",
       "    .dataframe tbody tr th:only-of-type {\n",
       "        vertical-align: middle;\n",
       "    }\n",
       "\n",
       "    .dataframe tbody tr th {\n",
       "        vertical-align: top;\n",
       "    }\n",
       "\n",
       "    .dataframe thead th {\n",
       "        text-align: right;\n",
       "    }\n",
       "</style>\n",
       "<table border=\"1\" class=\"dataframe\">\n",
       "  <thead>\n",
       "    <tr style=\"text-align: right;\">\n",
       "      <th></th>\n",
       "      <th>RECORD_TIME</th>\n",
       "    </tr>\n",
       "  </thead>\n",
       "  <tbody>\n",
       "    <tr>\n",
       "      <th>0</th>\n",
       "      <td>2021-09-06 04:30</td>\n",
       "    </tr>\n",
       "    <tr>\n",
       "      <th>1</th>\n",
       "      <td>2021-09-06 04:00</td>\n",
       "    </tr>\n",
       "  </tbody>\n",
       "</table>\n",
       "</div>"
      ],
      "text/plain": [
       "        RECORD_TIME\n",
       "0  2021-09-06 04:30\n",
       "1  2021-09-06 04:00"
      ]
     },
     "execution_count": 3,
     "metadata": {},
     "output_type": "execute_result"
    }
   ],
   "source": [
    "timestamps"
   ]
  },
  {
   "cell_type": "code",
   "execution_count": 4,
   "id": "alternate-victory",
   "metadata": {
    "execution": {
     "iopub.execute_input": "2021-09-06T02:30:07.694694Z",
     "iopub.status.busy": "2021-09-06T02:30:07.692424Z",
     "iopub.status.idle": "2021-09-06T02:30:08.022823Z",
     "shell.execute_reply": "2021-09-06T02:30:08.024278Z"
    },
    "papermill": {
     "duration": 0.360678,
     "end_time": "2021-09-06T02:30:08.024706",
     "exception": false,
     "start_time": "2021-09-06T02:30:07.664028",
     "status": "completed"
    },
    "tags": []
   },
   "outputs": [],
   "source": [
    "df = pd.read_sql(\"select * from EBAY_TOP_BERLIN where record_time in (select distinct record_time from EBAY_TOP_BERLIN order by record_time desc limit 2)\", sqlite3.connect(\"UsedObjects.db\"))"
   ]
  },
  {
   "cell_type": "code",
   "execution_count": 5,
   "id": "popular-active",
   "metadata": {
    "execution": {
     "iopub.execute_input": "2021-09-06T02:30:08.104464Z",
     "iopub.status.busy": "2021-09-06T02:30:08.093256Z",
     "iopub.status.idle": "2021-09-06T02:30:08.120343Z",
     "shell.execute_reply": "2021-09-06T02:30:08.121705Z"
    },
    "papermill": {
     "duration": 0.071787,
     "end_time": "2021-09-06T02:30:08.122143",
     "exception": false,
     "start_time": "2021-09-06T02:30:08.050356",
     "status": "completed"
    },
    "tags": []
   },
   "outputs": [],
   "source": [
    "df_pivot = df.pivot_table(index=\"PRODUCT\", columns = \"RECORD_TIME\", values = \"LISTING_COUNT\")"
   ]
  },
  {
   "cell_type": "code",
   "execution_count": 6,
   "id": "union-huntington",
   "metadata": {
    "execution": {
     "iopub.execute_input": "2021-09-06T02:30:08.178521Z",
     "iopub.status.busy": "2021-09-06T02:30:08.176224Z",
     "iopub.status.idle": "2021-09-06T02:30:08.181920Z",
     "shell.execute_reply": "2021-09-06T02:30:08.183278Z"
    },
    "papermill": {
     "duration": 0.041556,
     "end_time": "2021-09-06T02:30:08.183740",
     "exception": false,
     "start_time": "2021-09-06T02:30:08.142184",
     "status": "completed"
    },
    "tags": []
   },
   "outputs": [],
   "source": [
    "df_pivot.columns = [\"stamp_1\", \"stamp_2\"]\n",
    "df_pivot_diff = df_pivot.diff(axis=1)"
   ]
  },
  {
   "cell_type": "code",
   "execution_count": 7,
   "id": "fifth-motion",
   "metadata": {
    "execution": {
     "iopub.execute_input": "2021-09-06T02:30:08.237860Z",
     "iopub.status.busy": "2021-09-06T02:30:08.235556Z",
     "iopub.status.idle": "2021-09-06T02:30:09.717779Z",
     "shell.execute_reply": "2021-09-06T02:30:09.719246Z"
    },
    "papermill": {
     "duration": 1.514855,
     "end_time": "2021-09-06T02:30:09.719743",
     "exception": false,
     "start_time": "2021-09-06T02:30:08.204888",
     "status": "completed"
    },
    "tags": []
   },
   "outputs": [
    {
     "data": {
      "text/plain": [
       "<AxesSubplot:ylabel='PRODUCT'>"
      ]
     },
     "execution_count": 7,
     "metadata": {},
     "output_type": "execute_result"
    },
    {
     "data": {
      "image/png": "[encoded data removed]",
      "text/plain": [
       "<Figure size 432x288 with 1 Axes>"
      ]
     },
     "metadata": {
      "needs_background": "light"
     },
     "output_type": "display_data"
    }
   ],
   "source": [
    "df_pivot_diff.sort_values(\"stamp_2\", ascending = False)[\"stamp_2\"].head(10).plot.barh()"
   ]
  },
  {
   "cell_type": "code",
   "execution_count": null,
   "id": "extra-executive",
   "metadata": {
    "papermill": {
     "duration": 0.021719,
     "end_time": "2021-09-06T02:30:09.765812",
     "exception": false,
     "start_time": "2021-09-06T02:30:09.744093",
     "status": "completed"
    },
    "tags": []
   },
   "outputs": [],
   "source": []
  }
 ],
 "metadata": {
  "kernelspec": {
   "display_name": "Python 3",
   "language": "python",
   "name": "python3"
  },
  "language_info": {
   "codemirror_mode": {
    "name": "ipython",
    "version": 3
   },
   "file_extension": ".py",
   "mimetype": "text/x-python",
   "name": "python",
   "nbconvert_exporter": "python",
   "pygments_lexer": "ipython3",
   "version": "3.9.5"
  },
  "papermill": {
   "default_parameters": {},
   "duration": 6.379619,
   "end_time": "2021-09-06T02:30:10.405423",
   "environment_variables": {},
   "exception": null,
   "input_path": "eBay_Overview.ipynb",
   "output_path": "eBay_Overview.ipynb",
   "parameters": {},
   "start_time": "2021-09-06T02:30:04.025804",
   "version": "2.3.3"
  }
 },
 "nbformat": 4,
 "nbformat_minor": 5
}