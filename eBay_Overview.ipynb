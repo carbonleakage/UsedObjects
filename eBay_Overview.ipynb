{
 "cells": [
  {
   "cell_type": "code",
   "execution_count": 1,
   "id": "reverse-picking",
   "metadata": {
    "execution": {
     "iopub.execute_input": "2021-12-04T23:30:07.599566Z",
     "iopub.status.busy": "2021-12-04T23:30:07.596639Z",
     "iopub.status.idle": "2021-12-04T23:30:08.551581Z",
     "shell.execute_reply": "2021-12-04T23:30:08.554341Z"
    },
    "papermill": {
     "duration": 1.009076,
     "end_time": "2021-12-04T23:30:08.555079",
     "exception": false,
     "start_time": "2021-12-04T23:30:07.546003",
     "status": "completed"
    },
    "tags": []
   },
   "outputs": [],
   "source": [
    "import pandas as pd\n",
    "import sqlite3"
   ]
  },
  {
   "cell_type": "code",
   "execution_count": 2,
   "id": "innovative-syndrome",
   "metadata": {
    "execution": {
     "iopub.execute_input": "2021-12-04T23:30:08.674152Z",
     "iopub.status.busy": "2021-12-04T23:30:08.671841Z",
     "iopub.status.idle": "2021-12-04T23:30:09.668092Z",
     "shell.execute_reply": "2021-12-04T23:30:09.669407Z"
    },
    "papermill": {
     "duration": 1.029553,
     "end_time": "2021-12-04T23:30:09.669822",
     "exception": false,
     "start_time": "2021-12-04T23:30:08.640269",
     "status": "completed"
    },
    "tags": []
   },
   "outputs": [],
   "source": [
    "timestamps = pd.read_sql(\"select distinct record_time from EBAY_TOP_BERLIN order by record_time desc limit 2\", sqlite3.connect(\"UsedObjects.db\"))"
   ]
  },
  {
   "cell_type": "code",
   "execution_count": 3,
   "id": "periodic-identification",
   "metadata": {
    "execution": {
     "iopub.execute_input": "2021-12-04T23:30:09.736071Z",
     "iopub.status.busy": "2021-12-04T23:30:09.734022Z",
     "iopub.status.idle": "2021-12-04T23:30:09.754066Z",
     "shell.execute_reply": "2021-12-04T23:30:09.755672Z"
    },
    "papermill": {
     "duration": 0.064722,
     "end_time": "2021-12-04T23:30:09.756172",
     "exception": false,
     "start_time": "2021-12-04T23:30:09.691450",
     "status": "completed"
    },
    "tags": []
   },
   "outputs": [
    {
     "data": {
      "text/html": [
       "<div>\n",
       "<style scoped>\n",
       "    .dataframe tbody tr th:only-of-type {\n",
       "        vertical-align: middle;\n",
       "    }\n",
       "\n",
       "    .dataframe tbody tr th {\n",
       "        vertical-align: top;\n",
       "    }\n",
       "\n",
       "    .dataframe thead th {\n",
       "        text-align: right;\n",
       "    }\n",
       "</style>\n",
       "<table border=\"1\" class=\"dataframe\">\n",
       "  <thead>\n",
       "    <tr style=\"text-align: right;\">\n",
       "      <th></th>\n",
       "      <th>RECORD_TIME</th>\n",
       "    </tr>\n",
       "  </thead>\n",
       "  <tbody>\n",
       "    <tr>\n",
       "      <th>0</th>\n",
       "      <td>2021-12-05 00:30</td>\n",
       "    </tr>\n",
       "    <tr>\n",
       "      <th>1</th>\n",
       "      <td>2021-12-05 00:00</td>\n",
       "    </tr>\n",
       "  </tbody>\n",
       "</table>\n",
       "</div>"
      ],
      "text/plain": [
       "        RECORD_TIME\n",
       "0  2021-12-05 00:30\n",
       "1  2021-12-05 00:00"
      ]
     },
     "execution_count": 3,
     "metadata": {},
     "output_type": "execute_result"
    }
   ],
   "source": [
    "timestamps"
   ]
  },
  {
   "cell_type": "code",
   "execution_count": 4,
   "id": "alternate-victory",
   "metadata": {
    "execution": {
     "iopub.execute_input": "2021-12-04T23:30:09.809007Z",
     "iopub.status.busy": "2021-12-04T23:30:09.807036Z",
     "iopub.status.idle": "2021-12-04T23:30:11.259227Z",
     "shell.execute_reply": "2021-12-04T23:30:11.255181Z"
    },
    "papermill": {
     "duration": 1.481174,
     "end_time": "2021-12-04T23:30:11.260006",
     "exception": false,
     "start_time": "2021-12-04T23:30:09.778832",
     "status": "completed"
    },
    "tags": []
   },
   "outputs": [],
   "source": [
    "df = pd.read_sql(\"select * from EBAY_TOP_BERLIN where record_time in (select distinct record_time from EBAY_TOP_BERLIN order by record_time desc limit 2)\", sqlite3.connect(\"UsedObjects.db\"))"
   ]
  },
  {
   "cell_type": "code",
   "execution_count": 5,
   "id": "popular-active",
   "metadata": {
    "execution": {
     "iopub.execute_input": "2021-12-04T23:30:11.343824Z",
     "iopub.status.busy": "2021-12-04T23:30:11.330094Z",
     "iopub.status.idle": "2021-12-04T23:30:11.361330Z",
     "shell.execute_reply": "2021-12-04T23:30:11.362701Z"
    },
    "papermill": {
     "duration": 0.078831,
     "end_time": "2021-12-04T23:30:11.363172",
     "exception": false,
     "start_time": "2021-12-04T23:30:11.284341",
     "status": "completed"
    },
    "tags": []
   },
   "outputs": [],
   "source": [
    "df_pivot = df.pivot_table(index=\"PRODUCT\", columns = \"RECORD_TIME\", values = \"LISTING_COUNT\")"
   ]
  },
  {
   "cell_type": "code",
   "execution_count": 6,
   "id": "union-huntington",
   "metadata": {
    "execution": {
     "iopub.execute_input": "2021-12-04T23:30:11.420962Z",
     "iopub.status.busy": "2021-12-04T23:30:11.418670Z",
     "iopub.status.idle": "2021-12-04T23:30:11.424577Z",
     "shell.execute_reply": "2021-12-04T23:30:11.426004Z"
    },
    "papermill": {
     "duration": 0.043648,
     "end_time": "2021-12-04T23:30:11.426467",
     "exception": false,
     "start_time": "2021-12-04T23:30:11.382819",
     "status": "completed"
    },
    "tags": []
   },
   "outputs": [],
   "source": [
    "df_pivot.columns = [\"stamp_1\", \"stamp_2\"]\n",
    "df_pivot_diff = df_pivot.diff(axis=1)"
   ]
  },
  {
   "cell_type": "code",
   "execution_count": 7,
   "id": "fifth-motion",
   "metadata": {
    "execution": {
     "iopub.execute_input": "2021-12-04T23:30:11.486066Z",
     "iopub.status.busy": "2021-12-04T23:30:11.483155Z",
     "iopub.status.idle": "2021-12-04T23:30:13.504419Z",
     "shell.execute_reply": "2021-12-04T23:30:13.506132Z"
    },
    "papermill": {
     "duration": 2.059301,
     "end_time": "2021-12-04T23:30:13.506681",
     "exception": false,
     "start_time": "2021-12-04T23:30:11.447380",
     "status": "completed"
    },
    "tags": []
   },
   "outputs": [
    {
     "data": {
      "text/plain": [
       "<AxesSubplot:ylabel='PRODUCT'>"
      ]
     },
     "execution_count": 7,
     "metadata": {},
     "output_type": "execute_result"
    },
    {
     "data": {
      "image/png": "[encoded data removed]",
      "text/plain": [
       "<Figure size 432x288 with 1 Axes>"
      ]
     },
     "metadata": {
      "needs_background": "light"
     },
     "output_type": "display_data"
    }
   ],
   "source": [
    "df_pivot_diff.sort_values(\"stamp_2\", ascending = False)[\"stamp_2\"].head(10).plot.barh()"
   ]
  },
  {
   "cell_type": "code",
   "execution_count": null,
   "id": "extra-executive",
   "metadata": {
    "papermill": {
     "duration": 0.059403,
     "end_time": "2021-12-04T23:30:13.591386",
     "exception": false,
     "start_time": "2021-12-04T23:30:13.531983",
     "status": "completed"
    },
    "tags": []
   },
   "outputs": [],
   "source": []
  }
 ],
 "metadata": {
  "kernelspec": {
   "display_name": "Python 3",
   "language": "python",
   "name": "python3"
  },
  "language_info": {
   "codemirror_mode": {
    "name": "ipython",
    "version": 3
   },
   "file_extension": ".py",
   "mimetype": "text/x-python",
   "name": "python",
   "nbconvert_exporter": "python",
   "pygments_lexer": "ipython3",
   "version": "3.9.5"
  },
  "papermill": {
   "default_parameters": {},
   "duration": 9.949935,
   "end_time": "2021-12-04T23:30:14.765685",
   "environment_variables": {},
   "exception": null,
   "input_path": "eBay_Overview.ipynb",
   "output_path": "eBay_Overview.ipynb",
   "parameters": {},
   "start_time": "2021-12-04T23:30:04.815750",
   "version": "2.3.3"
  }
 },
 "nbformat": 4,
 "nbformat_minor": 5
}