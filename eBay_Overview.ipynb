{
 "cells": [
  {
   "cell_type": "code",
   "execution_count": 1,
   "id": "reverse-picking",
   "metadata": {
    "execution": {
     "iopub.execute_input": "2021-08-27T10:00:07.113160Z",
     "iopub.status.busy": "2021-08-27T10:00:07.111138Z",
     "iopub.status.idle": "2021-08-27T10:00:07.912307Z",
     "shell.execute_reply": "2021-08-27T10:00:07.913704Z"
    },
    "papermill": {
     "duration": 0.850427,
     "end_time": "2021-08-27T10:00:07.914362",
     "exception": false,
     "start_time": "2021-08-27T10:00:07.063935",
     "status": "completed"
    },
    "tags": []
   },
   "outputs": [],
   "source": [
    "import pandas as pd\n",
    "import sqlite3"
   ]
  },
  {
   "cell_type": "code",
   "execution_count": 2,
   "id": "innovative-syndrome",
   "metadata": {
    "execution": {
     "iopub.execute_input": "2021-08-27T10:00:07.965045Z",
     "iopub.status.busy": "2021-08-27T10:00:07.963007Z",
     "iopub.status.idle": "2021-08-27T10:00:08.102678Z",
     "shell.execute_reply": "2021-08-27T10:00:08.103948Z"
    },
    "papermill": {
     "duration": 0.169724,
     "end_time": "2021-08-27T10:00:08.104430",
     "exception": false,
     "start_time": "2021-08-27T10:00:07.934706",
     "status": "completed"
    },
    "tags": []
   },
   "outputs": [],
   "source": [
    "timestamps = pd.read_sql(\"select distinct record_time from EBAY_TOP_BERLIN order by record_time desc limit 2\", sqlite3.connect(\"UsedObjects.db\"))"
   ]
  },
  {
   "cell_type": "code",
   "execution_count": 3,
   "id": "periodic-identification",
   "metadata": {
    "execution": {
     "iopub.execute_input": "2021-08-27T10:00:08.170871Z",
     "iopub.status.busy": "2021-08-27T10:00:08.168855Z",
     "iopub.status.idle": "2021-08-27T10:00:08.188685Z",
     "shell.execute_reply": "2021-08-27T10:00:08.189979Z"
    },
    "papermill": {
     "duration": 0.066727,
     "end_time": "2021-08-27T10:00:08.190392",
     "exception": false,
     "start_time": "2021-08-27T10:00:08.123665",
     "status": "completed"
    },
    "tags": []
   },
   "outputs": [
    {
     "data": {
      "text/html": [
       "<div>\n",
       "<style scoped>\n",
       "    .dataframe tbody tr th:only-of-type {\n",
       "        vertical-align: middle;\n",
       "    }\n",
       "\n",
       "    .dataframe tbody tr th {\n",
       "        vertical-align: top;\n",
       "    }\n",
       "\n",
       "    .dataframe thead th {\n",
       "        text-align: right;\n",
       "    }\n",
       "</style>\n",
       "<table border=\"1\" class=\"dataframe\">\n",
       "  <thead>\n",
       "    <tr style=\"text-align: right;\">\n",
       "      <th></th>\n",
       "      <th>RECORD_TIME</th>\n",
       "    </tr>\n",
       "  </thead>\n",
       "  <tbody>\n",
       "    <tr>\n",
       "      <th>0</th>\n",
       "      <td>2021-08-27 12:00</td>\n",
       "    </tr>\n",
       "    <tr>\n",
       "      <th>1</th>\n",
       "      <td>2021-08-27 11:30</td>\n",
       "    </tr>\n",
       "  </tbody>\n",
       "</table>\n",
       "</div>"
      ],
      "text/plain": [
       "        RECORD_TIME\n",
       "0  2021-08-27 12:00\n",
       "1  2021-08-27 11:30"
      ]
     },
     "execution_count": 3,
     "metadata": {},
     "output_type": "execute_result"
    }
   ],
   "source": [
    "timestamps"
   ]
  },
  {
   "cell_type": "code",
   "execution_count": 4,
   "id": "alternate-victory",
   "metadata": {
    "execution": {
     "iopub.execute_input": "2021-08-27T10:00:08.242223Z",
     "iopub.status.busy": "2021-08-27T10:00:08.239963Z",
     "iopub.status.idle": "2021-08-27T10:00:08.449392Z",
     "shell.execute_reply": "2021-08-27T10:00:08.450671Z"
    },
    "papermill": {
     "duration": 0.239355,
     "end_time": "2021-08-27T10:00:08.451065",
     "exception": false,
     "start_time": "2021-08-27T10:00:08.211710",
     "status": "completed"
    },
    "tags": []
   },
   "outputs": [],
   "source": [
    "df = pd.read_sql(\"select * from EBAY_TOP_BERLIN where record_time in (select distinct record_time from EBAY_TOP_BERLIN order by record_time desc limit 2)\", sqlite3.connect(\"UsedObjects.db\"))"
   ]
  },
  {
   "cell_type": "code",
   "execution_count": 5,
   "id": "popular-active",
   "metadata": {
    "execution": {
     "iopub.execute_input": "2021-08-27T10:00:08.522647Z",
     "iopub.status.busy": "2021-08-27T10:00:08.509401Z",
     "iopub.status.idle": "2021-08-27T10:00:08.539369Z",
     "shell.execute_reply": "2021-08-27T10:00:08.540721Z"
    },
    "papermill": {
     "duration": 0.069766,
     "end_time": "2021-08-27T10:00:08.541139",
     "exception": false,
     "start_time": "2021-08-27T10:00:08.471373",
     "status": "completed"
    },
    "tags": []
   },
   "outputs": [],
   "source": [
    "df_pivot = df.pivot_table(index=\"PRODUCT\", columns = \"RECORD_TIME\", values = \"LISTING_COUNT\")"
   ]
  },
  {
   "cell_type": "code",
   "execution_count": 6,
   "id": "union-huntington",
   "metadata": {
    "execution": {
     "iopub.execute_input": "2021-08-27T10:00:08.607854Z",
     "iopub.status.busy": "2021-08-27T10:00:08.605411Z",
     "iopub.status.idle": "2021-08-27T10:00:08.611191Z",
     "shell.execute_reply": "2021-08-27T10:00:08.612618Z"
    },
    "papermill": {
     "duration": 0.046034,
     "end_time": "2021-08-27T10:00:08.613065",
     "exception": false,
     "start_time": "2021-08-27T10:00:08.567031",
     "status": "completed"
    },
    "tags": []
   },
   "outputs": [],
   "source": [
    "df_pivot.columns = [\"stamp_1\", \"stamp_2\"]\n",
    "df_pivot_diff = df_pivot.diff(axis=1)"
   ]
  },
  {
   "cell_type": "code",
   "execution_count": 7,
   "id": "fifth-motion",
   "metadata": {
    "execution": {
     "iopub.execute_input": "2021-08-27T10:00:08.667522Z",
     "iopub.status.busy": "2021-08-27T10:00:08.665368Z",
     "iopub.status.idle": "2021-08-27T10:00:10.128529Z",
     "shell.execute_reply": "2021-08-27T10:00:10.130158Z"
    },
    "papermill": {
     "duration": 1.496197,
     "end_time": "2021-08-27T10:00:10.130659",
     "exception": false,
     "start_time": "2021-08-27T10:00:08.634462",
     "status": "completed"
    },
    "tags": []
   },
   "outputs": [
    {
     "data": {
      "text/plain": [
       "<AxesSubplot:ylabel='PRODUCT'>"
      ]
     },
     "execution_count": 7,
     "metadata": {},
     "output_type": "execute_result"
    },
    {
     "data": {
      "image/png": "[encoded data removed]",
      "text/plain": [
       "<Figure size 432x288 with 1 Axes>"
      ]
     },
     "metadata": {
      "needs_background": "light"
     },
     "output_type": "display_data"
    }
   ],
   "source": [
    "df_pivot_diff.sort_values(\"stamp_2\", ascending = False)[\"stamp_2\"].head(10).plot.barh()"
   ]
  },
  {
   "cell_type": "code",
   "execution_count": null,
   "id": "extra-executive",
   "metadata": {
    "papermill": {
     "duration": 0.022419,
     "end_time": "2021-08-27T10:00:10.177670",
     "exception": false,
     "start_time": "2021-08-27T10:00:10.155251",
     "status": "completed"
    },
    "tags": []
   },
   "outputs": [],
   "source": []
  }
 ],
 "metadata": {
  "kernelspec": {
   "display_name": "Python 3",
   "language": "python",
   "name": "python3"
  },
  "language_info": {
   "codemirror_mode": {
    "name": "ipython",
    "version": 3
   },
   "file_extension": ".py",
   "mimetype": "text/x-python",
   "name": "python",
   "nbconvert_exporter": "python",
   "pygments_lexer": "ipython3",
   "version": "3.9.5"
  },
  "papermill": {
   "default_parameters": {},
   "duration": 6.828785,
   "end_time": "2021-08-27T10:00:11.494318",
   "environment_variables": {},
   "exception": null,
   "input_path": "eBay_Overview.ipynb",
   "output_path": "eBay_Overview.ipynb",
   "parameters": {},
   "start_time": "2021-08-27T10:00:04.665533",
   "version": "2.3.3"
  }
 },
 "nbformat": 4,
 "nbformat_minor": 5
}