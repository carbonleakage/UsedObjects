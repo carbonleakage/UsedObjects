{
 "cells": [
  {
   "cell_type": "code",
   "execution_count": 1,
   "id": "reverse-picking",
   "metadata": {
    "execution": {
     "iopub.execute_input": "2021-10-09T02:30:06.741150Z",
     "iopub.status.busy": "2021-10-09T02:30:06.739184Z",
     "iopub.status.idle": "2021-10-09T02:30:07.555632Z",
     "shell.execute_reply": "2021-10-09T02:30:07.556923Z"
    },
    "papermill": {
     "duration": 0.868815,
     "end_time": "2021-10-09T02:30:07.557544",
     "exception": false,
     "start_time": "2021-10-09T02:30:06.688729",
     "status": "completed"
    },
    "tags": []
   },
   "outputs": [],
   "source": [
    "import pandas as pd\n",
    "import sqlite3"
   ]
  },
  {
   "cell_type": "code",
   "execution_count": 2,
   "id": "innovative-syndrome",
   "metadata": {
    "execution": {
     "iopub.execute_input": "2021-10-09T02:30:07.608754Z",
     "iopub.status.busy": "2021-10-09T02:30:07.606763Z",
     "iopub.status.idle": "2021-10-09T02:30:08.093062Z",
     "shell.execute_reply": "2021-10-09T02:30:08.091621Z"
    },
    "papermill": {
     "duration": 0.514918,
     "end_time": "2021-10-09T02:30:08.093455",
     "exception": false,
     "start_time": "2021-10-09T02:30:07.578537",
     "status": "completed"
    },
    "tags": []
   },
   "outputs": [],
   "source": [
    "timestamps = pd.read_sql(\"select distinct record_time from EBAY_TOP_BERLIN order by record_time desc limit 2\", sqlite3.connect(\"UsedObjects.db\"))"
   ]
  },
  {
   "cell_type": "code",
   "execution_count": 3,
   "id": "periodic-identification",
   "metadata": {
    "execution": {
     "iopub.execute_input": "2021-10-09T02:30:08.168645Z",
     "iopub.status.busy": "2021-10-09T02:30:08.166479Z",
     "iopub.status.idle": "2021-10-09T02:30:08.189884Z",
     "shell.execute_reply": "2021-10-09T02:30:08.191361Z"
    },
    "papermill": {
     "duration": 0.078053,
     "end_time": "2021-10-09T02:30:08.191848",
     "exception": false,
     "start_time": "2021-10-09T02:30:08.113795",
     "status": "completed"
    },
    "tags": []
   },
   "outputs": [
    {
     "data": {
      "text/html": [
       "<div>\n",
       "<style scoped>\n",
       "    .dataframe tbody tr th:only-of-type {\n",
       "        vertical-align: middle;\n",
       "    }\n",
       "\n",
       "    .dataframe tbody tr th {\n",
       "        vertical-align: top;\n",
       "    }\n",
       "\n",
       "    .dataframe thead th {\n",
       "        text-align: right;\n",
       "    }\n",
       "</style>\n",
       "<table border=\"1\" class=\"dataframe\">\n",
       "  <thead>\n",
       "    <tr style=\"text-align: right;\">\n",
       "      <th></th>\n",
       "      <th>RECORD_TIME</th>\n",
       "    </tr>\n",
       "  </thead>\n",
       "  <tbody>\n",
       "    <tr>\n",
       "      <th>0</th>\n",
       "      <td>2021-10-09 04:30</td>\n",
       "    </tr>\n",
       "    <tr>\n",
       "      <th>1</th>\n",
       "      <td>2021-10-09 04:00</td>\n",
       "    </tr>\n",
       "  </tbody>\n",
       "</table>\n",
       "</div>"
      ],
      "text/plain": [
       "        RECORD_TIME\n",
       "0  2021-10-09 04:30\n",
       "1  2021-10-09 04:00"
      ]
     },
     "execution_count": 3,
     "metadata": {},
     "output_type": "execute_result"
    }
   ],
   "source": [
    "timestamps"
   ]
  },
  {
   "cell_type": "code",
   "execution_count": 4,
   "id": "alternate-victory",
   "metadata": {
    "execution": {
     "iopub.execute_input": "2021-10-09T02:30:08.243160Z",
     "iopub.status.busy": "2021-10-09T02:30:08.241129Z",
     "iopub.status.idle": "2021-10-09T02:30:08.970605Z",
     "shell.execute_reply": "2021-10-09T02:30:08.972071Z"
    },
    "papermill": {
     "duration": 0.760619,
     "end_time": "2021-10-09T02:30:08.972509",
     "exception": false,
     "start_time": "2021-10-09T02:30:08.211890",
     "status": "completed"
    },
    "tags": []
   },
   "outputs": [],
   "source": [
    "df = pd.read_sql(\"select * from EBAY_TOP_BERLIN where record_time in (select distinct record_time from EBAY_TOP_BERLIN order by record_time desc limit 2)\", sqlite3.connect(\"UsedObjects.db\"))"
   ]
  },
  {
   "cell_type": "code",
   "execution_count": 5,
   "id": "popular-active",
   "metadata": {
    "execution": {
     "iopub.execute_input": "2021-10-09T02:30:09.042754Z",
     "iopub.status.busy": "2021-10-09T02:30:09.030397Z",
     "iopub.status.idle": "2021-10-09T02:30:09.060611Z",
     "shell.execute_reply": "2021-10-09T02:30:09.062000Z"
    },
    "papermill": {
     "duration": 0.069245,
     "end_time": "2021-10-09T02:30:09.062440",
     "exception": false,
     "start_time": "2021-10-09T02:30:08.993195",
     "status": "completed"
    },
    "tags": []
   },
   "outputs": [],
   "source": [
    "df_pivot = df.pivot_table(index=\"PRODUCT\", columns = \"RECORD_TIME\", values = \"LISTING_COUNT\")"
   ]
  },
  {
   "cell_type": "code",
   "execution_count": 6,
   "id": "union-huntington",
   "metadata": {
    "execution": {
     "iopub.execute_input": "2021-10-09T02:30:09.119708Z",
     "iopub.status.busy": "2021-10-09T02:30:09.117580Z",
     "iopub.status.idle": "2021-10-09T02:30:09.122660Z",
     "shell.execute_reply": "2021-10-09T02:30:09.124040Z"
    },
    "papermill": {
     "duration": 0.041345,
     "end_time": "2021-10-09T02:30:09.124465",
     "exception": false,
     "start_time": "2021-10-09T02:30:09.083120",
     "status": "completed"
    },
    "tags": []
   },
   "outputs": [],
   "source": [
    "df_pivot.columns = [\"stamp_1\", \"stamp_2\"]\n",
    "df_pivot_diff = df_pivot.diff(axis=1)"
   ]
  },
  {
   "cell_type": "code",
   "execution_count": 7,
   "id": "fifth-motion",
   "metadata": {
    "execution": {
     "iopub.execute_input": "2021-10-09T02:30:09.178984Z",
     "iopub.status.busy": "2021-10-09T02:30:09.176452Z",
     "iopub.status.idle": "2021-10-09T02:30:10.702705Z",
     "shell.execute_reply": "2021-10-09T02:30:10.704208Z"
    },
    "papermill": {
     "duration": 1.559487,
     "end_time": "2021-10-09T02:30:10.704657",
     "exception": false,
     "start_time": "2021-10-09T02:30:09.145170",
     "status": "completed"
    },
    "tags": []
   },
   "outputs": [
    {
     "data": {
      "text/plain": [
       "<AxesSubplot:ylabel='PRODUCT'>"
      ]
     },
     "execution_count": 7,
     "metadata": {},
     "output_type": "execute_result"
    },
    {
     "data": {
      "image/png": "[encoded data removed]",
      "text/plain": [
       "<Figure size 432x288 with 1 Axes>"
      ]
     },
     "metadata": {
      "needs_background": "light"
     },
     "output_type": "display_data"
    }
   ],
   "source": [
    "df_pivot_diff.sort_values(\"stamp_2\", ascending = False)[\"stamp_2\"].head(10).plot.barh()"
   ]
  },
  {
   "cell_type": "code",
   "execution_count": null,
   "id": "extra-executive",
   "metadata": {
    "papermill": {
     "duration": 0.022537,
     "end_time": "2021-10-09T02:30:10.751151",
     "exception": false,
     "start_time": "2021-10-09T02:30:10.728614",
     "status": "completed"
    },
    "tags": []
   },
   "outputs": [],
   "source": []
  }
 ],
 "metadata": {
  "kernelspec": {
   "display_name": "Python 3",
   "language": "python",
   "name": "python3"
  },
  "language_info": {
   "codemirror_mode": {
    "name": "ipython",
    "version": 3
   },
   "file_extension": ".py",
   "mimetype": "text/x-python",
   "name": "python",
   "nbconvert_exporter": "python",
   "pygments_lexer": "ipython3",
   "version": "3.9.5"
  },
  "papermill": {
   "default_parameters": {},
   "duration": 7.83624,
   "end_time": "2021-10-09T02:30:12.103557",
   "environment_variables": {},
   "exception": null,
   "input_path": "eBay_Overview.ipynb",
   "output_path": "eBay_Overview.ipynb",
   "parameters": {},
   "start_time": "2021-10-09T02:30:04.267317",
   "version": "2.3.3"
  }
 },
 "nbformat": 4,
 "nbformat_minor": 5
}