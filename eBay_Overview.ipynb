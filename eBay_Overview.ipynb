{
 "cells": [
  {
   "cell_type": "code",
   "execution_count": 1,
   "id": "reverse-picking",
   "metadata": {
    "execution": {
     "iopub.execute_input": "2021-08-31T17:30:07.316656Z",
     "iopub.status.busy": "2021-08-31T17:30:07.314576Z",
     "iopub.status.idle": "2021-08-31T17:30:08.115006Z",
     "shell.execute_reply": "2021-08-31T17:30:08.116370Z"
    },
    "papermill": {
     "duration": 0.851447,
     "end_time": "2021-08-31T17:30:08.117015",
     "exception": false,
     "start_time": "2021-08-31T17:30:07.265568",
     "status": "completed"
    },
    "tags": []
   },
   "outputs": [],
   "source": [
    "import pandas as pd\n",
    "import sqlite3"
   ]
  },
  {
   "cell_type": "code",
   "execution_count": 2,
   "id": "innovative-syndrome",
   "metadata": {
    "execution": {
     "iopub.execute_input": "2021-08-31T17:30:08.168418Z",
     "iopub.status.busy": "2021-08-31T17:30:08.166481Z",
     "iopub.status.idle": "2021-08-31T17:30:08.339531Z",
     "shell.execute_reply": "2021-08-31T17:30:08.340732Z"
    },
    "papermill": {
     "duration": 0.202299,
     "end_time": "2021-08-31T17:30:08.341124",
     "exception": false,
     "start_time": "2021-08-31T17:30:08.138825",
     "status": "completed"
    },
    "tags": []
   },
   "outputs": [],
   "source": [
    "timestamps = pd.read_sql(\"select distinct record_time from EBAY_TOP_BERLIN order by record_time desc limit 2\", sqlite3.connect(\"UsedObjects.db\"))"
   ]
  },
  {
   "cell_type": "code",
   "execution_count": 3,
   "id": "periodic-identification",
   "metadata": {
    "execution": {
     "iopub.execute_input": "2021-08-31T17:30:08.405713Z",
     "iopub.status.busy": "2021-08-31T17:30:08.403722Z",
     "iopub.status.idle": "2021-08-31T17:30:08.423404Z",
     "shell.execute_reply": "2021-08-31T17:30:08.424548Z"
    },
    "papermill": {
     "duration": 0.064528,
     "end_time": "2021-08-31T17:30:08.424952",
     "exception": false,
     "start_time": "2021-08-31T17:30:08.360424",
     "status": "completed"
    },
    "tags": []
   },
   "outputs": [
    {
     "data": {
      "text/html": [
       "<div>\n",
       "<style scoped>\n",
       "    .dataframe tbody tr th:only-of-type {\n",
       "        vertical-align: middle;\n",
       "    }\n",
       "\n",
       "    .dataframe tbody tr th {\n",
       "        vertical-align: top;\n",
       "    }\n",
       "\n",
       "    .dataframe thead th {\n",
       "        text-align: right;\n",
       "    }\n",
       "</style>\n",
       "<table border=\"1\" class=\"dataframe\">\n",
       "  <thead>\n",
       "    <tr style=\"text-align: right;\">\n",
       "      <th></th>\n",
       "      <th>RECORD_TIME</th>\n",
       "    </tr>\n",
       "  </thead>\n",
       "  <tbody>\n",
       "    <tr>\n",
       "      <th>0</th>\n",
       "      <td>2021-08-31 19:30</td>\n",
       "    </tr>\n",
       "    <tr>\n",
       "      <th>1</th>\n",
       "      <td>2021-08-31 19:00</td>\n",
       "    </tr>\n",
       "  </tbody>\n",
       "</table>\n",
       "</div>"
      ],
      "text/plain": [
       "        RECORD_TIME\n",
       "0  2021-08-31 19:30\n",
       "1  2021-08-31 19:00"
      ]
     },
     "execution_count": 3,
     "metadata": {},
     "output_type": "execute_result"
    }
   ],
   "source": [
    "timestamps"
   ]
  },
  {
   "cell_type": "code",
   "execution_count": 4,
   "id": "alternate-victory",
   "metadata": {
    "execution": {
     "iopub.execute_input": "2021-08-31T17:30:08.478679Z",
     "iopub.status.busy": "2021-08-31T17:30:08.476441Z",
     "iopub.status.idle": "2021-08-31T17:30:08.735976Z",
     "shell.execute_reply": "2021-08-31T17:30:08.737254Z"
    },
    "papermill": {
     "duration": 0.290014,
     "end_time": "2021-08-31T17:30:08.737648",
     "exception": false,
     "start_time": "2021-08-31T17:30:08.447634",
     "status": "completed"
    },
    "tags": []
   },
   "outputs": [],
   "source": [
    "df = pd.read_sql(\"select * from EBAY_TOP_BERLIN where record_time in (select distinct record_time from EBAY_TOP_BERLIN order by record_time desc limit 2)\", sqlite3.connect(\"UsedObjects.db\"))"
   ]
  },
  {
   "cell_type": "code",
   "execution_count": 5,
   "id": "popular-active",
   "metadata": {
    "execution": {
     "iopub.execute_input": "2021-08-31T17:30:08.817214Z",
     "iopub.status.busy": "2021-08-31T17:30:08.804313Z",
     "iopub.status.idle": "2021-08-31T17:30:08.833821Z",
     "shell.execute_reply": "2021-08-31T17:30:08.835185Z"
    },
    "papermill": {
     "duration": 0.072098,
     "end_time": "2021-08-31T17:30:08.835646",
     "exception": false,
     "start_time": "2021-08-31T17:30:08.763548",
     "status": "completed"
    },
    "tags": []
   },
   "outputs": [],
   "source": [
    "df_pivot = df.pivot_table(index=\"PRODUCT\", columns = \"RECORD_TIME\", values = \"LISTING_COUNT\")"
   ]
  },
  {
   "cell_type": "code",
   "execution_count": 6,
   "id": "union-huntington",
   "metadata": {
    "execution": {
     "iopub.execute_input": "2021-08-31T17:30:08.891605Z",
     "iopub.status.busy": "2021-08-31T17:30:08.889543Z",
     "iopub.status.idle": "2021-08-31T17:30:08.894851Z",
     "shell.execute_reply": "2021-08-31T17:30:08.896185Z"
    },
    "papermill": {
     "duration": 0.04081,
     "end_time": "2021-08-31T17:30:08.896594",
     "exception": false,
     "start_time": "2021-08-31T17:30:08.855784",
     "status": "completed"
    },
    "tags": []
   },
   "outputs": [],
   "source": [
    "df_pivot.columns = [\"stamp_1\", \"stamp_2\"]\n",
    "df_pivot_diff = df_pivot.diff(axis=1)"
   ]
  },
  {
   "cell_type": "code",
   "execution_count": 7,
   "id": "fifth-motion",
   "metadata": {
    "execution": {
     "iopub.execute_input": "2021-08-31T17:30:08.951685Z",
     "iopub.status.busy": "2021-08-31T17:30:08.949176Z",
     "iopub.status.idle": "2021-08-31T17:30:10.443573Z",
     "shell.execute_reply": "2021-08-31T17:30:10.444853Z"
    },
    "papermill": {
     "duration": 1.527243,
     "end_time": "2021-08-31T17:30:10.445264",
     "exception": false,
     "start_time": "2021-08-31T17:30:08.918021",
     "status": "completed"
    },
    "tags": []
   },
   "outputs": [
    {
     "data": {
      "text/plain": [
       "<AxesSubplot:ylabel='PRODUCT'>"
      ]
     },
     "execution_count": 7,
     "metadata": {},
     "output_type": "execute_result"
    },
    {
     "data": {
      "image/png": "[encoded data removed]",
      "text/plain": [
       "<Figure size 432x288 with 1 Axes>"
      ]
     },
     "metadata": {
      "needs_background": "light"
     },
     "output_type": "display_data"
    }
   ],
   "source": [
    "df_pivot_diff.sort_values(\"stamp_2\", ascending = False)[\"stamp_2\"].head(10).plot.barh()"
   ]
  },
  {
   "cell_type": "code",
   "execution_count": null,
   "id": "extra-executive",
   "metadata": {
    "papermill": {
     "duration": 0.022254,
     "end_time": "2021-08-31T17:30:10.492306",
     "exception": false,
     "start_time": "2021-08-31T17:30:10.470052",
     "status": "completed"
    },
    "tags": []
   },
   "outputs": [],
   "source": []
  }
 ],
 "metadata": {
  "kernelspec": {
   "display_name": "Python 3",
   "language": "python",
   "name": "python3"
  },
  "language_info": {
   "codemirror_mode": {
    "name": "ipython",
    "version": 3
   },
   "file_extension": ".py",
   "mimetype": "text/x-python",
   "name": "python",
   "nbconvert_exporter": "python",
   "pygments_lexer": "ipython3",
   "version": "3.9.5"
  },
  "papermill": {
   "default_parameters": {},
   "duration": 6.819971,
   "end_time": "2021-08-31T17:30:11.682717",
   "environment_variables": {},
   "exception": null,
   "input_path": "eBay_Overview.ipynb",
   "output_path": "eBay_Overview.ipynb",
   "parameters": {},
   "start_time": "2021-08-31T17:30:04.862746",
   "version": "2.3.3"
  }
 },
 "nbformat": 4,
 "nbformat_minor": 5
}