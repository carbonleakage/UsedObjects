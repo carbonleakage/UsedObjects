{
 "cells": [
  {
   "cell_type": "code",
   "execution_count": 1,
   "id": "reverse-picking",
   "metadata": {
    "execution": {
     "iopub.execute_input": "2021-10-28T20:30:06.890685Z",
     "iopub.status.busy": "2021-10-28T20:30:06.888568Z",
     "iopub.status.idle": "2021-10-28T20:30:07.691216Z",
     "shell.execute_reply": "2021-10-28T20:30:07.692465Z"
    },
    "papermill": {
     "duration": 0.853598,
     "end_time": "2021-10-28T20:30:07.693159",
     "exception": false,
     "start_time": "2021-10-28T20:30:06.839561",
     "status": "completed"
    },
    "tags": []
   },
   "outputs": [],
   "source": [
    "import pandas as pd\n",
    "import sqlite3"
   ]
  },
  {
   "cell_type": "code",
   "execution_count": 2,
   "id": "innovative-syndrome",
   "metadata": {
    "execution": {
     "iopub.execute_input": "2021-10-28T20:30:07.745298Z",
     "iopub.status.busy": "2021-10-28T20:30:07.743194Z",
     "iopub.status.idle": "2021-10-28T20:30:08.406723Z",
     "shell.execute_reply": "2021-10-28T20:30:08.407996Z"
    },
    "papermill": {
     "duration": 0.692951,
     "end_time": "2021-10-28T20:30:08.408419",
     "exception": false,
     "start_time": "2021-10-28T20:30:07.715468",
     "status": "completed"
    },
    "tags": []
   },
   "outputs": [],
   "source": [
    "timestamps = pd.read_sql(\"select distinct record_time from EBAY_TOP_BERLIN order by record_time desc limit 2\", sqlite3.connect(\"UsedObjects.db\"))"
   ]
  },
  {
   "cell_type": "code",
   "execution_count": 3,
   "id": "periodic-identification",
   "metadata": {
    "execution": {
     "iopub.execute_input": "2021-10-28T20:30:08.488523Z",
     "iopub.status.busy": "2021-10-28T20:30:08.486496Z",
     "iopub.status.idle": "2021-10-28T20:30:08.508321Z",
     "shell.execute_reply": "2021-10-28T20:30:08.506615Z"
    },
    "papermill": {
     "duration": 0.072592,
     "end_time": "2021-10-28T20:30:08.508792",
     "exception": false,
     "start_time": "2021-10-28T20:30:08.436200",
     "status": "completed"
    },
    "tags": []
   },
   "outputs": [
    {
     "data": {
      "text/html": [
       "<div>\n",
       "<style scoped>\n",
       "    .dataframe tbody tr th:only-of-type {\n",
       "        vertical-align: middle;\n",
       "    }\n",
       "\n",
       "    .dataframe tbody tr th {\n",
       "        vertical-align: top;\n",
       "    }\n",
       "\n",
       "    .dataframe thead th {\n",
       "        text-align: right;\n",
       "    }\n",
       "</style>\n",
       "<table border=\"1\" class=\"dataframe\">\n",
       "  <thead>\n",
       "    <tr style=\"text-align: right;\">\n",
       "      <th></th>\n",
       "      <th>RECORD_TIME</th>\n",
       "    </tr>\n",
       "  </thead>\n",
       "  <tbody>\n",
       "    <tr>\n",
       "      <th>0</th>\n",
       "      <td>2021-10-28 22:30</td>\n",
       "    </tr>\n",
       "    <tr>\n",
       "      <th>1</th>\n",
       "      <td>2021-10-28 22:00</td>\n",
       "    </tr>\n",
       "  </tbody>\n",
       "</table>\n",
       "</div>"
      ],
      "text/plain": [
       "        RECORD_TIME\n",
       "0  2021-10-28 22:30\n",
       "1  2021-10-28 22:00"
      ]
     },
     "execution_count": 3,
     "metadata": {},
     "output_type": "execute_result"
    }
   ],
   "source": [
    "timestamps"
   ]
  },
  {
   "cell_type": "code",
   "execution_count": 4,
   "id": "alternate-victory",
   "metadata": {
    "execution": {
     "iopub.execute_input": "2021-10-28T20:30:08.560945Z",
     "iopub.status.busy": "2021-10-28T20:30:08.559029Z",
     "iopub.status.idle": "2021-10-28T20:30:09.531064Z",
     "shell.execute_reply": "2021-10-28T20:30:09.532264Z"
    },
    "papermill": {
     "duration": 1.001609,
     "end_time": "2021-10-28T20:30:09.532668",
     "exception": false,
     "start_time": "2021-10-28T20:30:08.531059",
     "status": "completed"
    },
    "tags": []
   },
   "outputs": [],
   "source": [
    "df = pd.read_sql(\"select * from EBAY_TOP_BERLIN where record_time in (select distinct record_time from EBAY_TOP_BERLIN order by record_time desc limit 2)\", sqlite3.connect(\"UsedObjects.db\"))"
   ]
  },
  {
   "cell_type": "code",
   "execution_count": 5,
   "id": "popular-active",
   "metadata": {
    "execution": {
     "iopub.execute_input": "2021-10-28T20:30:09.601455Z",
     "iopub.status.busy": "2021-10-28T20:30:09.589996Z",
     "iopub.status.idle": "2021-10-28T20:30:09.618277Z",
     "shell.execute_reply": "2021-10-28T20:30:09.619583Z"
    },
    "papermill": {
     "duration": 0.066713,
     "end_time": "2021-10-28T20:30:09.620002",
     "exception": false,
     "start_time": "2021-10-28T20:30:09.553289",
     "status": "completed"
    },
    "tags": []
   },
   "outputs": [],
   "source": [
    "df_pivot = df.pivot_table(index=\"PRODUCT\", columns = \"RECORD_TIME\", values = \"LISTING_COUNT\")"
   ]
  },
  {
   "cell_type": "code",
   "execution_count": 6,
   "id": "union-huntington",
   "metadata": {
    "execution": {
     "iopub.execute_input": "2021-10-28T20:30:09.676384Z",
     "iopub.status.busy": "2021-10-28T20:30:09.673947Z",
     "iopub.status.idle": "2021-10-28T20:30:09.680896Z",
     "shell.execute_reply": "2021-10-28T20:30:09.679442Z"
    },
    "papermill": {
     "duration": 0.041706,
     "end_time": "2021-10-28T20:30:09.681260",
     "exception": false,
     "start_time": "2021-10-28T20:30:09.639554",
     "status": "completed"
    },
    "tags": []
   },
   "outputs": [],
   "source": [
    "df_pivot.columns = [\"stamp_1\", \"stamp_2\"]\n",
    "df_pivot_diff = df_pivot.diff(axis=1)"
   ]
  },
  {
   "cell_type": "code",
   "execution_count": 7,
   "id": "fifth-motion",
   "metadata": {
    "execution": {
     "iopub.execute_input": "2021-10-28T20:30:09.735076Z",
     "iopub.status.busy": "2021-10-28T20:30:09.732629Z",
     "iopub.status.idle": "2021-10-28T20:30:11.250805Z",
     "shell.execute_reply": "2021-10-28T20:30:11.252081Z"
    },
    "papermill": {
     "duration": 1.551566,
     "end_time": "2021-10-28T20:30:11.252717",
     "exception": false,
     "start_time": "2021-10-28T20:30:09.701151",
     "status": "completed"
    },
    "tags": []
   },
   "outputs": [
    {
     "data": {
      "text/plain": [
       "<AxesSubplot:ylabel='PRODUCT'>"
      ]
     },
     "execution_count": 7,
     "metadata": {},
     "output_type": "execute_result"
    },
    {
     "data": {
      "image/png": "[encoded data removed]",
      "text/plain": [
       "<Figure size 432x288 with 1 Axes>"
      ]
     },
     "metadata": {
      "needs_background": "light"
     },
     "output_type": "display_data"
    }
   ],
   "source": [
    "df_pivot_diff.sort_values(\"stamp_2\", ascending = False)[\"stamp_2\"].head(10).plot.barh()"
   ]
  },
  {
   "cell_type": "code",
   "execution_count": null,
   "id": "extra-executive",
   "metadata": {
    "papermill": {
     "duration": 0.022021,
     "end_time": "2021-10-28T20:30:11.299530",
     "exception": false,
     "start_time": "2021-10-28T20:30:11.277509",
     "status": "completed"
    },
    "tags": []
   },
   "outputs": [],
   "source": []
  }
 ],
 "metadata": {
  "kernelspec": {
   "display_name": "Python 3",
   "language": "python",
   "name": "python3"
  },
  "language_info": {
   "codemirror_mode": {
    "name": "ipython",
    "version": 3
   },
   "file_extension": ".py",
   "mimetype": "text/x-python",
   "name": "python",
   "nbconvert_exporter": "python",
   "pygments_lexer": "ipython3",
   "version": "3.9.5"
  },
  "papermill": {
   "default_parameters": {},
   "duration": 7.505337,
   "end_time": "2021-10-28T20:30:11.941483",
   "environment_variables": {},
   "exception": null,
   "input_path": "eBay_Overview.ipynb",
   "output_path": "eBay_Overview.ipynb",
   "parameters": {},
   "start_time": "2021-10-28T20:30:04.436146",
   "version": "2.3.3"
  }
 },
 "nbformat": 4,
 "nbformat_minor": 5
}