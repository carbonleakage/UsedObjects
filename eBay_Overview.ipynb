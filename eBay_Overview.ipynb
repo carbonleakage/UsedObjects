{
 "cells": [
  {
   "cell_type": "code",
   "execution_count": 1,
   "id": "reverse-picking",
   "metadata": {
    "execution": {
     "iopub.execute_input": "2021-11-09T08:30:08.173383Z",
     "iopub.status.busy": "2021-11-09T08:30:08.170282Z",
     "iopub.status.idle": "2021-11-09T08:30:09.081765Z",
     "shell.execute_reply": "2021-11-09T08:30:09.083901Z"
    },
    "papermill": {
     "duration": 0.965592,
     "end_time": "2021-11-09T08:30:09.085204",
     "exception": false,
     "start_time": "2021-11-09T08:30:08.119612",
     "status": "completed"
    },
    "tags": []
   },
   "outputs": [],
   "source": [
    "import pandas as pd\n",
    "import sqlite3"
   ]
  },
  {
   "cell_type": "code",
   "execution_count": 2,
   "id": "innovative-syndrome",
   "metadata": {
    "execution": {
     "iopub.execute_input": "2021-11-09T08:30:09.147919Z",
     "iopub.status.busy": "2021-11-09T08:30:09.145609Z",
     "iopub.status.idle": "2021-11-09T08:30:09.906754Z",
     "shell.execute_reply": "2021-11-09T08:30:09.905152Z"
    },
    "papermill": {
     "duration": 0.793663,
     "end_time": "2021-11-09T08:30:09.907198",
     "exception": false,
     "start_time": "2021-11-09T08:30:09.113535",
     "status": "completed"
    },
    "tags": []
   },
   "outputs": [],
   "source": [
    "timestamps = pd.read_sql(\"select distinct record_time from EBAY_TOP_BERLIN order by record_time desc limit 2\", sqlite3.connect(\"UsedObjects.db\"))"
   ]
  },
  {
   "cell_type": "code",
   "execution_count": 3,
   "id": "periodic-identification",
   "metadata": {
    "execution": {
     "iopub.execute_input": "2021-11-09T08:30:09.980581Z",
     "iopub.status.busy": "2021-11-09T08:30:09.977450Z",
     "iopub.status.idle": "2021-11-09T08:30:10.002636Z",
     "shell.execute_reply": "2021-11-09T08:30:10.004091Z"
    },
    "papermill": {
     "duration": 0.076234,
     "end_time": "2021-11-09T08:30:10.004809",
     "exception": false,
     "start_time": "2021-11-09T08:30:09.928575",
     "status": "completed"
    },
    "tags": []
   },
   "outputs": [
    {
     "data": {
      "text/html": [
       "<div>\n",
       "<style scoped>\n",
       "    .dataframe tbody tr th:only-of-type {\n",
       "        vertical-align: middle;\n",
       "    }\n",
       "\n",
       "    .dataframe tbody tr th {\n",
       "        vertical-align: top;\n",
       "    }\n",
       "\n",
       "    .dataframe thead th {\n",
       "        text-align: right;\n",
       "    }\n",
       "</style>\n",
       "<table border=\"1\" class=\"dataframe\">\n",
       "  <thead>\n",
       "    <tr style=\"text-align: right;\">\n",
       "      <th></th>\n",
       "      <th>RECORD_TIME</th>\n",
       "    </tr>\n",
       "  </thead>\n",
       "  <tbody>\n",
       "    <tr>\n",
       "      <th>0</th>\n",
       "      <td>2021-11-09 09:30</td>\n",
       "    </tr>\n",
       "    <tr>\n",
       "      <th>1</th>\n",
       "      <td>2021-11-09 09:00</td>\n",
       "    </tr>\n",
       "  </tbody>\n",
       "</table>\n",
       "</div>"
      ],
      "text/plain": [
       "        RECORD_TIME\n",
       "0  2021-11-09 09:30\n",
       "1  2021-11-09 09:00"
      ]
     },
     "execution_count": 3,
     "metadata": {},
     "output_type": "execute_result"
    }
   ],
   "source": [
    "timestamps"
   ]
  },
  {
   "cell_type": "code",
   "execution_count": 4,
   "id": "alternate-victory",
   "metadata": {
    "execution": {
     "iopub.execute_input": "2021-11-09T08:30:10.062205Z",
     "iopub.status.busy": "2021-11-09T08:30:10.060031Z",
     "iopub.status.idle": "2021-11-09T08:30:11.165400Z",
     "shell.execute_reply": "2021-11-09T08:30:11.167303Z"
    },
    "papermill": {
     "duration": 1.140863,
     "end_time": "2021-11-09T08:30:11.167825",
     "exception": false,
     "start_time": "2021-11-09T08:30:10.026962",
     "status": "completed"
    },
    "tags": []
   },
   "outputs": [],
   "source": [
    "df = pd.read_sql(\"select * from EBAY_TOP_BERLIN where record_time in (select distinct record_time from EBAY_TOP_BERLIN order by record_time desc limit 2)\", sqlite3.connect(\"UsedObjects.db\"))"
   ]
  },
  {
   "cell_type": "code",
   "execution_count": 5,
   "id": "popular-active",
   "metadata": {
    "execution": {
     "iopub.execute_input": "2021-11-09T08:30:11.242764Z",
     "iopub.status.busy": "2021-11-09T08:30:11.234502Z",
     "iopub.status.idle": "2021-11-09T08:30:11.265830Z",
     "shell.execute_reply": "2021-11-09T08:30:11.267163Z"
    },
    "papermill": {
     "duration": 0.077612,
     "end_time": "2021-11-09T08:30:11.267634",
     "exception": false,
     "start_time": "2021-11-09T08:30:11.190022",
     "status": "completed"
    },
    "tags": []
   },
   "outputs": [],
   "source": [
    "df_pivot = df.pivot_table(index=\"PRODUCT\", columns = \"RECORD_TIME\", values = \"LISTING_COUNT\")"
   ]
  },
  {
   "cell_type": "code",
   "execution_count": 6,
   "id": "union-huntington",
   "metadata": {
    "execution": {
     "iopub.execute_input": "2021-11-09T08:30:11.327206Z",
     "iopub.status.busy": "2021-11-09T08:30:11.325014Z",
     "iopub.status.idle": "2021-11-09T08:30:11.330790Z",
     "shell.execute_reply": "2021-11-09T08:30:11.332163Z"
    },
    "papermill": {
     "duration": 0.044018,
     "end_time": "2021-11-09T08:30:11.332639",
     "exception": false,
     "start_time": "2021-11-09T08:30:11.288621",
     "status": "completed"
    },
    "tags": []
   },
   "outputs": [],
   "source": [
    "df_pivot.columns = [\"stamp_1\", \"stamp_2\"]\n",
    "df_pivot_diff = df_pivot.diff(axis=1)"
   ]
  },
  {
   "cell_type": "code",
   "execution_count": 7,
   "id": "fifth-motion",
   "metadata": {
    "execution": {
     "iopub.execute_input": "2021-11-09T08:30:11.404240Z",
     "iopub.status.busy": "2021-11-09T08:30:11.400002Z",
     "iopub.status.idle": "2021-11-09T08:30:13.172156Z",
     "shell.execute_reply": "2021-11-09T08:30:13.174873Z"
    },
    "papermill": {
     "duration": 1.820419,
     "end_time": "2021-11-09T08:30:13.175720",
     "exception": false,
     "start_time": "2021-11-09T08:30:11.355301",
     "status": "completed"
    },
    "tags": []
   },
   "outputs": [
    {
     "data": {
      "text/plain": [
       "<AxesSubplot:ylabel='PRODUCT'>"
      ]
     },
     "execution_count": 7,
     "metadata": {},
     "output_type": "execute_result"
    },
    {
     "data": {
      "image/png": "[encoded data removed]",
      "text/plain": [
       "<Figure size 432x288 with 1 Axes>"
      ]
     },
     "metadata": {
      "needs_background": "light"
     },
     "output_type": "display_data"
    }
   ],
   "source": [
    "df_pivot_diff.sort_values(\"stamp_2\", ascending = False)[\"stamp_2\"].head(10).plot.barh()"
   ]
  },
  {
   "cell_type": "code",
   "execution_count": null,
   "id": "extra-executive",
   "metadata": {
    "papermill": {
     "duration": 0.035269,
     "end_time": "2021-11-09T08:30:13.249709",
     "exception": false,
     "start_time": "2021-11-09T08:30:13.214440",
     "status": "completed"
    },
    "tags": []
   },
   "outputs": [],
   "source": []
  }
 ],
 "metadata": {
  "kernelspec": {
   "display_name": "Python 3",
   "language": "python",
   "name": "python3"
  },
  "language_info": {
   "codemirror_mode": {
    "name": "ipython",
    "version": 3
   },
   "file_extension": ".py",
   "mimetype": "text/x-python",
   "name": "python",
   "nbconvert_exporter": "python",
   "pygments_lexer": "ipython3",
   "version": "3.9.5"
  },
  "papermill": {
   "default_parameters": {},
   "duration": 8.716746,
   "end_time": "2021-11-09T08:30:14.131132",
   "environment_variables": {},
   "exception": null,
   "input_path": "eBay_Overview.ipynb",
   "output_path": "eBay_Overview.ipynb",
   "parameters": {},
   "start_time": "2021-11-09T08:30:05.414386",
   "version": "2.3.3"
  }
 },
 "nbformat": 4,
 "nbformat_minor": 5
}