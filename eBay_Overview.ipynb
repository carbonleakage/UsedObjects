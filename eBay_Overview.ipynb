{
 "cells": [
  {
   "cell_type": "code",
   "execution_count": 1,
   "id": "reverse-picking",
   "metadata": {
    "execution": {
     "iopub.execute_input": "2021-10-31T18:30:07.010159Z",
     "iopub.status.busy": "2021-10-31T18:30:07.008117Z",
     "iopub.status.idle": "2021-10-31T18:30:07.812843Z",
     "shell.execute_reply": "2021-10-31T18:30:07.814263Z"
    },
    "papermill": {
     "duration": 0.855571,
     "end_time": "2021-10-31T18:30:07.814914",
     "exception": false,
     "start_time": "2021-10-31T18:30:06.959343",
     "status": "completed"
    },
    "tags": []
   },
   "outputs": [],
   "source": [
    "import pandas as pd\n",
    "import sqlite3"
   ]
  },
  {
   "cell_type": "code",
   "execution_count": 2,
   "id": "innovative-syndrome",
   "metadata": {
    "execution": {
     "iopub.execute_input": "2021-10-31T18:30:07.865321Z",
     "iopub.status.busy": "2021-10-31T18:30:07.863290Z",
     "iopub.status.idle": "2021-10-31T18:30:08.556519Z",
     "shell.execute_reply": "2021-10-31T18:30:08.557786Z"
    },
    "papermill": {
     "duration": 0.722552,
     "end_time": "2021-10-31T18:30:08.558198",
     "exception": false,
     "start_time": "2021-10-31T18:30:07.835646",
     "status": "completed"
    },
    "tags": []
   },
   "outputs": [],
   "source": [
    "timestamps = pd.read_sql(\"select distinct record_time from EBAY_TOP_BERLIN order by record_time desc limit 2\", sqlite3.connect(\"UsedObjects.db\"))"
   ]
  },
  {
   "cell_type": "code",
   "execution_count": 3,
   "id": "periodic-identification",
   "metadata": {
    "execution": {
     "iopub.execute_input": "2021-10-31T18:30:08.623892Z",
     "iopub.status.busy": "2021-10-31T18:30:08.621850Z",
     "iopub.status.idle": "2021-10-31T18:30:08.641586Z",
     "shell.execute_reply": "2021-10-31T18:30:08.642826Z"
    },
    "papermill": {
     "duration": 0.063614,
     "end_time": "2021-10-31T18:30:08.643231",
     "exception": false,
     "start_time": "2021-10-31T18:30:08.579617",
     "status": "completed"
    },
    "tags": []
   },
   "outputs": [
    {
     "data": {
      "text/html": [
       "<div>\n",
       "<style scoped>\n",
       "    .dataframe tbody tr th:only-of-type {\n",
       "        vertical-align: middle;\n",
       "    }\n",
       "\n",
       "    .dataframe tbody tr th {\n",
       "        vertical-align: top;\n",
       "    }\n",
       "\n",
       "    .dataframe thead th {\n",
       "        text-align: right;\n",
       "    }\n",
       "</style>\n",
       "<table border=\"1\" class=\"dataframe\">\n",
       "  <thead>\n",
       "    <tr style=\"text-align: right;\">\n",
       "      <th></th>\n",
       "      <th>RECORD_TIME</th>\n",
       "    </tr>\n",
       "  </thead>\n",
       "  <tbody>\n",
       "    <tr>\n",
       "      <th>0</th>\n",
       "      <td>2021-10-31 19:30</td>\n",
       "    </tr>\n",
       "    <tr>\n",
       "      <th>1</th>\n",
       "      <td>2021-10-31 19:00</td>\n",
       "    </tr>\n",
       "  </tbody>\n",
       "</table>\n",
       "</div>"
      ],
      "text/plain": [
       "        RECORD_TIME\n",
       "0  2021-10-31 19:30\n",
       "1  2021-10-31 19:00"
      ]
     },
     "execution_count": 3,
     "metadata": {},
     "output_type": "execute_result"
    }
   ],
   "source": [
    "timestamps"
   ]
  },
  {
   "cell_type": "code",
   "execution_count": 4,
   "id": "alternate-victory",
   "metadata": {
    "execution": {
     "iopub.execute_input": "2021-10-31T18:30:08.695072Z",
     "iopub.status.busy": "2021-10-31T18:30:08.692892Z",
     "iopub.status.idle": "2021-10-31T18:30:09.691670Z",
     "shell.execute_reply": "2021-10-31T18:30:09.693032Z"
    },
    "papermill": {
     "duration": 1.028696,
     "end_time": "2021-10-31T18:30:09.693476",
     "exception": false,
     "start_time": "2021-10-31T18:30:08.664780",
     "status": "completed"
    },
    "tags": []
   },
   "outputs": [],
   "source": [
    "df = pd.read_sql(\"select * from EBAY_TOP_BERLIN where record_time in (select distinct record_time from EBAY_TOP_BERLIN order by record_time desc limit 2)\", sqlite3.connect(\"UsedObjects.db\"))"
   ]
  },
  {
   "cell_type": "code",
   "execution_count": 5,
   "id": "popular-active",
   "metadata": {
    "execution": {
     "iopub.execute_input": "2021-10-31T18:30:09.758601Z",
     "iopub.status.busy": "2021-10-31T18:30:09.751351Z",
     "iopub.status.idle": "2021-10-31T18:30:09.779131Z",
     "shell.execute_reply": "2021-10-31T18:30:09.780354Z"
    },
    "papermill": {
     "duration": 0.066977,
     "end_time": "2021-10-31T18:30:09.780945",
     "exception": false,
     "start_time": "2021-10-31T18:30:09.713968",
     "status": "completed"
    },
    "tags": []
   },
   "outputs": [],
   "source": [
    "df_pivot = df.pivot_table(index=\"PRODUCT\", columns = \"RECORD_TIME\", values = \"LISTING_COUNT\")"
   ]
  },
  {
   "cell_type": "code",
   "execution_count": 6,
   "id": "union-huntington",
   "metadata": {
    "execution": {
     "iopub.execute_input": "2021-10-31T18:30:09.836924Z",
     "iopub.status.busy": "2021-10-31T18:30:09.834581Z",
     "iopub.status.idle": "2021-10-31T18:30:09.840311Z",
     "shell.execute_reply": "2021-10-31T18:30:09.841572Z"
    },
    "papermill": {
     "duration": 0.041408,
     "end_time": "2021-10-31T18:30:09.842016",
     "exception": false,
     "start_time": "2021-10-31T18:30:09.800608",
     "status": "completed"
    },
    "tags": []
   },
   "outputs": [],
   "source": [
    "df_pivot.columns = [\"stamp_1\", \"stamp_2\"]\n",
    "df_pivot_diff = df_pivot.diff(axis=1)"
   ]
  },
  {
   "cell_type": "code",
   "execution_count": 7,
   "id": "fifth-motion",
   "metadata": {
    "execution": {
     "iopub.execute_input": "2021-10-31T18:30:09.896158Z",
     "iopub.status.busy": "2021-10-31T18:30:09.893868Z",
     "iopub.status.idle": "2021-10-31T18:30:11.395407Z",
     "shell.execute_reply": "2021-10-31T18:30:11.396846Z"
    },
    "papermill": {
     "duration": 1.534766,
     "end_time": "2021-10-31T18:30:11.397305",
     "exception": false,
     "start_time": "2021-10-31T18:30:09.862539",
     "status": "completed"
    },
    "tags": []
   },
   "outputs": [
    {
     "data": {
      "text/plain": [
       "<AxesSubplot:ylabel='PRODUCT'>"
      ]
     },
     "execution_count": 7,
     "metadata": {},
     "output_type": "execute_result"
    },
    {
     "data": {
      "image/png": "[encoded data removed]",
      "text/plain": [
       "<Figure size 432x288 with 1 Axes>"
      ]
     },
     "metadata": {
      "needs_background": "light"
     },
     "output_type": "display_data"
    }
   ],
   "source": [
    "df_pivot_diff.sort_values(\"stamp_2\", ascending = False)[\"stamp_2\"].head(10).plot.barh()"
   ]
  },
  {
   "cell_type": "code",
   "execution_count": null,
   "id": "extra-executive",
   "metadata": {
    "papermill": {
     "duration": 0.021865,
     "end_time": "2021-10-31T18:30:11.443803",
     "exception": false,
     "start_time": "2021-10-31T18:30:11.421938",
     "status": "completed"
    },
    "tags": []
   },
   "outputs": [],
   "source": []
  }
 ],
 "metadata": {
  "kernelspec": {
   "display_name": "Python 3",
   "language": "python",
   "name": "python3"
  },
  "language_info": {
   "codemirror_mode": {
    "name": "ipython",
    "version": 3
   },
   "file_extension": ".py",
   "mimetype": "text/x-python",
   "name": "python",
   "nbconvert_exporter": "python",
   "pygments_lexer": "ipython3",
   "version": "3.9.5"
  },
  "papermill": {
   "default_parameters": {},
   "duration": 7.687047,
   "end_time": "2021-10-31T18:30:12.086757",
   "environment_variables": {},
   "exception": null,
   "input_path": "eBay_Overview.ipynb",
   "output_path": "eBay_Overview.ipynb",
   "parameters": {},
   "start_time": "2021-10-31T18:30:04.399710",
   "version": "2.3.3"
  }
 },
 "nbformat": 4,
 "nbformat_minor": 5
}