{
 "cells": [
  {
   "cell_type": "code",
   "execution_count": 1,
   "id": "reverse-picking",
   "metadata": {
    "execution": {
     "iopub.execute_input": "2021-10-27T16:00:07.151768Z",
     "iopub.status.busy": "2021-10-27T16:00:07.149831Z",
     "iopub.status.idle": "2021-10-27T16:00:07.953436Z",
     "shell.execute_reply": "2021-10-27T16:00:07.954712Z"
    },
    "papermill": {
     "duration": 0.856536,
     "end_time": "2021-10-27T16:00:07.955337",
     "exception": false,
     "start_time": "2021-10-27T16:00:07.098801",
     "status": "completed"
    },
    "tags": []
   },
   "outputs": [],
   "source": [
    "import pandas as pd\n",
    "import sqlite3"
   ]
  },
  {
   "cell_type": "code",
   "execution_count": 2,
   "id": "innovative-syndrome",
   "metadata": {
    "execution": {
     "iopub.execute_input": "2021-10-27T16:00:08.005782Z",
     "iopub.status.busy": "2021-10-27T16:00:08.003827Z",
     "iopub.status.idle": "2021-10-27T16:00:08.649906Z",
     "shell.execute_reply": "2021-10-27T16:00:08.651126Z"
    },
    "papermill": {
     "duration": 0.675578,
     "end_time": "2021-10-27T16:00:08.651527",
     "exception": false,
     "start_time": "2021-10-27T16:00:07.975949",
     "status": "completed"
    },
    "tags": []
   },
   "outputs": [],
   "source": [
    "timestamps = pd.read_sql(\"select distinct record_time from EBAY_TOP_BERLIN order by record_time desc limit 2\", sqlite3.connect(\"UsedObjects.db\"))"
   ]
  },
  {
   "cell_type": "code",
   "execution_count": 3,
   "id": "periodic-identification",
   "metadata": {
    "execution": {
     "iopub.execute_input": "2021-10-27T16:00:08.725829Z",
     "iopub.status.busy": "2021-10-27T16:00:08.723763Z",
     "iopub.status.idle": "2021-10-27T16:00:08.746166Z",
     "shell.execute_reply": "2021-10-27T16:00:08.747531Z"
    },
    "papermill": {
     "duration": 0.071143,
     "end_time": "2021-10-27T16:00:08.747969",
     "exception": false,
     "start_time": "2021-10-27T16:00:08.676826",
     "status": "completed"
    },
    "tags": []
   },
   "outputs": [
    {
     "data": {
      "text/html": [
       "<div>\n",
       "<style scoped>\n",
       "    .dataframe tbody tr th:only-of-type {\n",
       "        vertical-align: middle;\n",
       "    }\n",
       "\n",
       "    .dataframe tbody tr th {\n",
       "        vertical-align: top;\n",
       "    }\n",
       "\n",
       "    .dataframe thead th {\n",
       "        text-align: right;\n",
       "    }\n",
       "</style>\n",
       "<table border=\"1\" class=\"dataframe\">\n",
       "  <thead>\n",
       "    <tr style=\"text-align: right;\">\n",
       "      <th></th>\n",
       "      <th>RECORD_TIME</th>\n",
       "    </tr>\n",
       "  </thead>\n",
       "  <tbody>\n",
       "    <tr>\n",
       "      <th>0</th>\n",
       "      <td>2021-10-27 18:00</td>\n",
       "    </tr>\n",
       "    <tr>\n",
       "      <th>1</th>\n",
       "      <td>2021-10-27 17:30</td>\n",
       "    </tr>\n",
       "  </tbody>\n",
       "</table>\n",
       "</div>"
      ],
      "text/plain": [
       "        RECORD_TIME\n",
       "0  2021-10-27 18:00\n",
       "1  2021-10-27 17:30"
      ]
     },
     "execution_count": 3,
     "metadata": {},
     "output_type": "execute_result"
    }
   ],
   "source": [
    "timestamps"
   ]
  },
  {
   "cell_type": "code",
   "execution_count": 4,
   "id": "alternate-victory",
   "metadata": {
    "execution": {
     "iopub.execute_input": "2021-10-27T16:00:08.799627Z",
     "iopub.status.busy": "2021-10-27T16:00:08.797603Z",
     "iopub.status.idle": "2021-10-27T16:00:09.748807Z",
     "shell.execute_reply": "2021-10-27T16:00:09.750064Z"
    },
    "papermill": {
     "duration": 0.981857,
     "end_time": "2021-10-27T16:00:09.750465",
     "exception": false,
     "start_time": "2021-10-27T16:00:08.768608",
     "status": "completed"
    },
    "tags": []
   },
   "outputs": [],
   "source": [
    "df = pd.read_sql(\"select * from EBAY_TOP_BERLIN where record_time in (select distinct record_time from EBAY_TOP_BERLIN order by record_time desc limit 2)\", sqlite3.connect(\"UsedObjects.db\"))"
   ]
  },
  {
   "cell_type": "code",
   "execution_count": 5,
   "id": "popular-active",
   "metadata": {
    "execution": {
     "iopub.execute_input": "2021-10-27T16:00:09.818958Z",
     "iopub.status.busy": "2021-10-27T16:00:09.811624Z",
     "iopub.status.idle": "2021-10-27T16:00:09.839451Z",
     "shell.execute_reply": "2021-10-27T16:00:09.840662Z"
    },
    "papermill": {
     "duration": 0.067045,
     "end_time": "2021-10-27T16:00:09.841260",
     "exception": false,
     "start_time": "2021-10-27T16:00:09.774215",
     "status": "completed"
    },
    "tags": []
   },
   "outputs": [],
   "source": [
    "df_pivot = df.pivot_table(index=\"PRODUCT\", columns = \"RECORD_TIME\", values = \"LISTING_COUNT\")"
   ]
  },
  {
   "cell_type": "code",
   "execution_count": 6,
   "id": "union-huntington",
   "metadata": {
    "execution": {
     "iopub.execute_input": "2021-10-27T16:00:09.901076Z",
     "iopub.status.busy": "2021-10-27T16:00:09.898608Z",
     "iopub.status.idle": "2021-10-27T16:00:09.904624Z",
     "shell.execute_reply": "2021-10-27T16:00:09.905969Z"
    },
    "papermill": {
     "duration": 0.042845,
     "end_time": "2021-10-27T16:00:09.906423",
     "exception": false,
     "start_time": "2021-10-27T16:00:09.863578",
     "status": "completed"
    },
    "tags": []
   },
   "outputs": [],
   "source": [
    "df_pivot.columns = [\"stamp_1\", \"stamp_2\"]\n",
    "df_pivot_diff = df_pivot.diff(axis=1)"
   ]
  },
  {
   "cell_type": "code",
   "execution_count": 7,
   "id": "fifth-motion",
   "metadata": {
    "execution": {
     "iopub.execute_input": "2021-10-27T16:00:09.960961Z",
     "iopub.status.busy": "2021-10-27T16:00:09.958613Z",
     "iopub.status.idle": "2021-10-27T16:00:11.445842Z",
     "shell.execute_reply": "2021-10-27T16:00:11.447140Z"
    },
    "papermill": {
     "duration": 1.519804,
     "end_time": "2021-10-27T16:00:11.447559",
     "exception": false,
     "start_time": "2021-10-27T16:00:09.927755",
     "status": "completed"
    },
    "tags": []
   },
   "outputs": [
    {
     "data": {
      "text/plain": [
       "<AxesSubplot:ylabel='PRODUCT'>"
      ]
     },
     "execution_count": 7,
     "metadata": {},
     "output_type": "execute_result"
    },
    {
     "data": {
      "image/png": "[encoded data removed]",
      "text/plain": [
       "<Figure size 432x288 with 1 Axes>"
      ]
     },
     "metadata": {
      "needs_background": "light"
     },
     "output_type": "display_data"
    }
   ],
   "source": [
    "df_pivot_diff.sort_values(\"stamp_2\", ascending = False)[\"stamp_2\"].head(10).plot.barh()"
   ]
  },
  {
   "cell_type": "code",
   "execution_count": null,
   "id": "extra-executive",
   "metadata": {
    "papermill": {
     "duration": 0.022449,
     "end_time": "2021-10-27T16:00:11.493759",
     "exception": false,
     "start_time": "2021-10-27T16:00:11.471310",
     "status": "completed"
    },
    "tags": []
   },
   "outputs": [],
   "source": []
  }
 ],
 "metadata": {
  "kernelspec": {
   "display_name": "Python 3",
   "language": "python",
   "name": "python3"
  },
  "language_info": {
   "codemirror_mode": {
    "name": "ipython",
    "version": 3
   },
   "file_extension": ".py",
   "mimetype": "text/x-python",
   "name": "python",
   "nbconvert_exporter": "python",
   "pygments_lexer": "ipython3",
   "version": "3.9.5"
  },
  "papermill": {
   "default_parameters": {},
   "duration": 7.446904,
   "end_time": "2021-10-27T16:00:12.136880",
   "environment_variables": {},
   "exception": null,
   "input_path": "eBay_Overview.ipynb",
   "output_path": "eBay_Overview.ipynb",
   "parameters": {},
   "start_time": "2021-10-27T16:00:04.689976",
   "version": "2.3.3"
  }
 },
 "nbformat": 4,
 "nbformat_minor": 5
}