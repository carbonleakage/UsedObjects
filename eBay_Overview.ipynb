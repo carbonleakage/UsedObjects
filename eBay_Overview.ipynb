{
 "cells": [
  {
   "cell_type": "code",
   "execution_count": 1,
   "id": "reverse-picking",
   "metadata": {
    "execution": {
     "iopub.execute_input": "2021-10-02T13:00:06.578159Z",
     "iopub.status.busy": "2021-10-02T13:00:06.576260Z",
     "iopub.status.idle": "2021-10-02T13:00:07.379861Z",
     "shell.execute_reply": "2021-10-02T13:00:07.381104Z"
    },
    "papermill": {
     "duration": 0.853689,
     "end_time": "2021-10-02T13:00:07.381724",
     "exception": false,
     "start_time": "2021-10-02T13:00:06.528035",
     "status": "completed"
    },
    "tags": []
   },
   "outputs": [],
   "source": [
    "import pandas as pd\n",
    "import sqlite3"
   ]
  },
  {
   "cell_type": "code",
   "execution_count": 2,
   "id": "innovative-syndrome",
   "metadata": {
    "execution": {
     "iopub.execute_input": "2021-10-02T13:00:07.433138Z",
     "iopub.status.busy": "2021-10-02T13:00:07.431292Z",
     "iopub.status.idle": "2021-10-02T13:00:07.860835Z",
     "shell.execute_reply": "2021-10-02T13:00:07.862014Z"
    },
    "papermill": {
     "duration": 0.458869,
     "end_time": "2021-10-02T13:00:07.862412",
     "exception": false,
     "start_time": "2021-10-02T13:00:07.403543",
     "status": "completed"
    },
    "tags": []
   },
   "outputs": [],
   "source": [
    "timestamps = pd.read_sql(\"select distinct record_time from EBAY_TOP_BERLIN order by record_time desc limit 2\", sqlite3.connect(\"UsedObjects.db\"))"
   ]
  },
  {
   "cell_type": "code",
   "execution_count": 3,
   "id": "periodic-identification",
   "metadata": {
    "execution": {
     "iopub.execute_input": "2021-10-02T13:00:07.928003Z",
     "iopub.status.busy": "2021-10-02T13:00:07.925820Z",
     "iopub.status.idle": "2021-10-02T13:00:07.946254Z",
     "shell.execute_reply": "2021-10-02T13:00:07.947808Z"
    },
    "papermill": {
     "duration": 0.064699,
     "end_time": "2021-10-02T13:00:07.948223",
     "exception": false,
     "start_time": "2021-10-02T13:00:07.883524",
     "status": "completed"
    },
    "tags": []
   },
   "outputs": [
    {
     "data": {
      "text/html": [
       "<div>\n",
       "<style scoped>\n",
       "    .dataframe tbody tr th:only-of-type {\n",
       "        vertical-align: middle;\n",
       "    }\n",
       "\n",
       "    .dataframe tbody tr th {\n",
       "        vertical-align: top;\n",
       "    }\n",
       "\n",
       "    .dataframe thead th {\n",
       "        text-align: right;\n",
       "    }\n",
       "</style>\n",
       "<table border=\"1\" class=\"dataframe\">\n",
       "  <thead>\n",
       "    <tr style=\"text-align: right;\">\n",
       "      <th></th>\n",
       "      <th>RECORD_TIME</th>\n",
       "    </tr>\n",
       "  </thead>\n",
       "  <tbody>\n",
       "    <tr>\n",
       "      <th>0</th>\n",
       "      <td>2021-10-02 15:00</td>\n",
       "    </tr>\n",
       "    <tr>\n",
       "      <th>1</th>\n",
       "      <td>2021-10-02 14:30</td>\n",
       "    </tr>\n",
       "  </tbody>\n",
       "</table>\n",
       "</div>"
      ],
      "text/plain": [
       "        RECORD_TIME\n",
       "0  2021-10-02 15:00\n",
       "1  2021-10-02 14:30"
      ]
     },
     "execution_count": 3,
     "metadata": {},
     "output_type": "execute_result"
    }
   ],
   "source": [
    "timestamps"
   ]
  },
  {
   "cell_type": "code",
   "execution_count": 4,
   "id": "alternate-victory",
   "metadata": {
    "execution": {
     "iopub.execute_input": "2021-10-02T13:00:08.000247Z",
     "iopub.status.busy": "2021-10-02T13:00:07.998294Z",
     "iopub.status.idle": "2021-10-02T13:00:08.644633Z",
     "shell.execute_reply": "2021-10-02T13:00:08.645837Z"
    },
    "papermill": {
     "duration": 0.676155,
     "end_time": "2021-10-02T13:00:08.646236",
     "exception": false,
     "start_time": "2021-10-02T13:00:07.970081",
     "status": "completed"
    },
    "tags": []
   },
   "outputs": [],
   "source": [
    "df = pd.read_sql(\"select * from EBAY_TOP_BERLIN where record_time in (select distinct record_time from EBAY_TOP_BERLIN order by record_time desc limit 2)\", sqlite3.connect(\"UsedObjects.db\"))"
   ]
  },
  {
   "cell_type": "code",
   "execution_count": 5,
   "id": "popular-active",
   "metadata": {
    "execution": {
     "iopub.execute_input": "2021-10-02T13:00:08.725691Z",
     "iopub.status.busy": "2021-10-02T13:00:08.718837Z",
     "iopub.status.idle": "2021-10-02T13:00:08.742372Z",
     "shell.execute_reply": "2021-10-02T13:00:08.743721Z"
    },
    "papermill": {
     "duration": 0.071912,
     "end_time": "2021-10-02T13:00:08.744147",
     "exception": false,
     "start_time": "2021-10-02T13:00:08.672235",
     "status": "completed"
    },
    "tags": []
   },
   "outputs": [],
   "source": [
    "df_pivot = df.pivot_table(index=\"PRODUCT\", columns = \"RECORD_TIME\", values = \"LISTING_COUNT\")"
   ]
  },
  {
   "cell_type": "code",
   "execution_count": 6,
   "id": "union-huntington",
   "metadata": {
    "execution": {
     "iopub.execute_input": "2021-10-02T13:00:08.799874Z",
     "iopub.status.busy": "2021-10-02T13:00:08.797783Z",
     "iopub.status.idle": "2021-10-02T13:00:08.802980Z",
     "shell.execute_reply": "2021-10-02T13:00:08.804184Z"
    },
    "papermill": {
     "duration": 0.040278,
     "end_time": "2021-10-02T13:00:08.804620",
     "exception": false,
     "start_time": "2021-10-02T13:00:08.764342",
     "status": "completed"
    },
    "tags": []
   },
   "outputs": [],
   "source": [
    "df_pivot.columns = [\"stamp_1\", \"stamp_2\"]\n",
    "df_pivot_diff = df_pivot.diff(axis=1)"
   ]
  },
  {
   "cell_type": "code",
   "execution_count": 7,
   "id": "fifth-motion",
   "metadata": {
    "execution": {
     "iopub.execute_input": "2021-10-02T13:00:08.858551Z",
     "iopub.status.busy": "2021-10-02T13:00:08.856177Z",
     "iopub.status.idle": "2021-10-02T13:00:10.368847Z",
     "shell.execute_reply": "2021-10-02T13:00:10.370133Z"
    },
    "papermill": {
     "duration": 1.545387,
     "end_time": "2021-10-02T13:00:10.370559",
     "exception": false,
     "start_time": "2021-10-02T13:00:08.825172",
     "status": "completed"
    },
    "tags": []
   },
   "outputs": [
    {
     "data": {
      "text/plain": [
       "<AxesSubplot:ylabel='PRODUCT'>"
      ]
     },
     "execution_count": 7,
     "metadata": {},
     "output_type": "execute_result"
    },
    {
     "data": {
      "image/png": "[encoded data removed]",
      "text/plain": [
       "<Figure size 432x288 with 1 Axes>"
      ]
     },
     "metadata": {
      "needs_background": "light"
     },
     "output_type": "display_data"
    }
   ],
   "source": [
    "df_pivot_diff.sort_values(\"stamp_2\", ascending = False)[\"stamp_2\"].head(10).plot.barh()"
   ]
  },
  {
   "cell_type": "code",
   "execution_count": null,
   "id": "extra-executive",
   "metadata": {
    "papermill": {
     "duration": 0.022321,
     "end_time": "2021-10-02T13:00:10.417720",
     "exception": false,
     "start_time": "2021-10-02T13:00:10.395399",
     "status": "completed"
    },
    "tags": []
   },
   "outputs": [],
   "source": []
  }
 ],
 "metadata": {
  "kernelspec": {
   "display_name": "Python 3",
   "language": "python",
   "name": "python3"
  },
  "language_info": {
   "codemirror_mode": {
    "name": "ipython",
    "version": 3
   },
   "file_extension": ".py",
   "mimetype": "text/x-python",
   "name": "python",
   "nbconvert_exporter": "python",
   "pygments_lexer": "ipython3",
   "version": "3.9.5"
  },
  "papermill": {
   "default_parameters": {},
   "duration": 7.825677,
   "end_time": "2021-10-02T13:00:11.949807",
   "environment_variables": {},
   "exception": null,
   "input_path": "eBay_Overview.ipynb",
   "output_path": "eBay_Overview.ipynb",
   "parameters": {},
   "start_time": "2021-10-02T13:00:04.124130",
   "version": "2.3.3"
  }
 },
 "nbformat": 4,
 "nbformat_minor": 5
}