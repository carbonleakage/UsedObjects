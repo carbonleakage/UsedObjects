{
 "cells": [
  {
   "cell_type": "code",
   "execution_count": 1,
   "id": "reverse-picking",
   "metadata": {
    "execution": {
     "iopub.execute_input": "2021-08-14T22:30:06.683613Z",
     "iopub.status.busy": "2021-08-14T22:30:06.681576Z",
     "iopub.status.idle": "2021-08-14T22:30:07.493535Z",
     "shell.execute_reply": "2021-08-14T22:30:07.491959Z"
    },
    "papermill": {
     "duration": 0.863744,
     "end_time": "2021-08-14T22:30:07.494125",
     "exception": false,
     "start_time": "2021-08-14T22:30:06.630381",
     "status": "completed"
    },
    "tags": []
   },
   "outputs": [],
   "source": [
    "import pandas as pd\n",
    "import sqlite3"
   ]
  },
  {
   "cell_type": "code",
   "execution_count": 2,
   "id": "innovative-syndrome",
   "metadata": {
    "execution": {
     "iopub.execute_input": "2021-08-14T22:30:07.546864Z",
     "iopub.status.busy": "2021-08-14T22:30:07.544458Z",
     "iopub.status.idle": "2021-08-14T22:30:07.596949Z",
     "shell.execute_reply": "2021-08-14T22:30:07.598256Z"
    },
    "papermill": {
     "duration": 0.0824,
     "end_time": "2021-08-14T22:30:07.598677",
     "exception": false,
     "start_time": "2021-08-14T22:30:07.516277",
     "status": "completed"
    },
    "tags": []
   },
   "outputs": [],
   "source": [
    "timestamps = pd.read_sql(\"select distinct record_time from EBAY_TOP_BERLIN order by record_time desc limit 2\", sqlite3.connect(\"UsedObjects.db\"))"
   ]
  },
  {
   "cell_type": "code",
   "execution_count": 3,
   "id": "periodic-identification",
   "metadata": {
    "execution": {
     "iopub.execute_input": "2021-08-14T22:30:07.663518Z",
     "iopub.status.busy": "2021-08-14T22:30:07.661326Z",
     "iopub.status.idle": "2021-08-14T22:30:07.681710Z",
     "shell.execute_reply": "2021-08-14T22:30:07.683180Z"
    },
    "papermill": {
     "duration": 0.064851,
     "end_time": "2021-08-14T22:30:07.683702",
     "exception": false,
     "start_time": "2021-08-14T22:30:07.618851",
     "status": "completed"
    },
    "tags": []
   },
   "outputs": [
    {
     "data": {
      "text/html": [
       "<div>\n",
       "<style scoped>\n",
       "    .dataframe tbody tr th:only-of-type {\n",
       "        vertical-align: middle;\n",
       "    }\n",
       "\n",
       "    .dataframe tbody tr th {\n",
       "        vertical-align: top;\n",
       "    }\n",
       "\n",
       "    .dataframe thead th {\n",
       "        text-align: right;\n",
       "    }\n",
       "</style>\n",
       "<table border=\"1\" class=\"dataframe\">\n",
       "  <thead>\n",
       "    <tr style=\"text-align: right;\">\n",
       "      <th></th>\n",
       "      <th>RECORD_TIME</th>\n",
       "    </tr>\n",
       "  </thead>\n",
       "  <tbody>\n",
       "    <tr>\n",
       "      <th>0</th>\n",
       "      <td>2021-08-15 00:30</td>\n",
       "    </tr>\n",
       "    <tr>\n",
       "      <th>1</th>\n",
       "      <td>2021-08-15 00:00</td>\n",
       "    </tr>\n",
       "  </tbody>\n",
       "</table>\n",
       "</div>"
      ],
      "text/plain": [
       "        RECORD_TIME\n",
       "0  2021-08-15 00:30\n",
       "1  2021-08-15 00:00"
      ]
     },
     "execution_count": 3,
     "metadata": {},
     "output_type": "execute_result"
    }
   ],
   "source": [
    "timestamps"
   ]
  },
  {
   "cell_type": "code",
   "execution_count": 4,
   "id": "alternate-victory",
   "metadata": {
    "execution": {
     "iopub.execute_input": "2021-08-14T22:30:07.736062Z",
     "iopub.status.busy": "2021-08-14T22:30:07.733989Z",
     "iopub.status.idle": "2021-08-14T22:30:07.807530Z",
     "shell.execute_reply": "2021-08-14T22:30:07.808733Z"
    },
    "papermill": {
     "duration": 0.104003,
     "end_time": "2021-08-14T22:30:07.809120",
     "exception": false,
     "start_time": "2021-08-14T22:30:07.705117",
     "status": "completed"
    },
    "tags": []
   },
   "outputs": [],
   "source": [
    "df = pd.read_sql(\"select * from EBAY_TOP_BERLIN where record_time in (select distinct record_time from EBAY_TOP_BERLIN order by record_time desc limit 2)\", sqlite3.connect(\"UsedObjects.db\"))"
   ]
  },
  {
   "cell_type": "code",
   "execution_count": 5,
   "id": "popular-active",
   "metadata": {
    "execution": {
     "iopub.execute_input": "2021-08-14T22:30:07.880269Z",
     "iopub.status.busy": "2021-08-14T22:30:07.867892Z",
     "iopub.status.idle": "2021-08-14T22:30:07.896143Z",
     "shell.execute_reply": "2021-08-14T22:30:07.897354Z"
    },
    "papermill": {
     "duration": 0.068295,
     "end_time": "2021-08-14T22:30:07.897750",
     "exception": false,
     "start_time": "2021-08-14T22:30:07.829455",
     "status": "completed"
    },
    "tags": []
   },
   "outputs": [],
   "source": [
    "df_pivot = df.pivot_table(index=\"PRODUCT\", columns = \"RECORD_TIME\", values = \"LISTING_COUNT\")"
   ]
  },
  {
   "cell_type": "code",
   "execution_count": 6,
   "id": "union-huntington",
   "metadata": {
    "execution": {
     "iopub.execute_input": "2021-08-14T22:30:07.954944Z",
     "iopub.status.busy": "2021-08-14T22:30:07.952695Z",
     "iopub.status.idle": "2021-08-14T22:30:07.958617Z",
     "shell.execute_reply": "2021-08-14T22:30:07.960128Z"
    },
    "papermill": {
     "duration": 0.041422,
     "end_time": "2021-08-14T22:30:07.960556",
     "exception": false,
     "start_time": "2021-08-14T22:30:07.919134",
     "status": "completed"
    },
    "tags": []
   },
   "outputs": [],
   "source": [
    "df_pivot.columns = [\"stamp_1\", \"stamp_2\"]\n",
    "df_pivot_diff = df_pivot.diff(axis=1)"
   ]
  },
  {
   "cell_type": "code",
   "execution_count": 7,
   "id": "fifth-motion",
   "metadata": {
    "execution": {
     "iopub.execute_input": "2021-08-14T22:30:08.014778Z",
     "iopub.status.busy": "2021-08-14T22:30:08.012019Z",
     "iopub.status.idle": "2021-08-14T22:30:09.537196Z",
     "shell.execute_reply": "2021-08-14T22:30:09.538750Z"
    },
    "papermill": {
     "duration": 1.558819,
     "end_time": "2021-08-14T22:30:09.539228",
     "exception": false,
     "start_time": "2021-08-14T22:30:07.980409",
     "status": "completed"
    },
    "tags": []
   },
   "outputs": [
    {
     "data": {
      "text/plain": [
       "<AxesSubplot:ylabel='PRODUCT'>"
      ]
     },
     "execution_count": 7,
     "metadata": {},
     "output_type": "execute_result"
    },
    {
     "data": {
      "image/png": "[encoded data removed]",
      "text/plain": [
       "<Figure size 432x288 with 1 Axes>"
      ]
     },
     "metadata": {
      "needs_background": "light"
     },
     "output_type": "display_data"
    }
   ],
   "source": [
    "df_pivot_diff.sort_values(\"stamp_2\", ascending = False)[\"stamp_2\"].head(10).plot.barh()"
   ]
  },
  {
   "cell_type": "code",
   "execution_count": null,
   "id": "extra-executive",
   "metadata": {
    "papermill": {
     "duration": 0.021997,
     "end_time": "2021-08-14T22:30:09.585765",
     "exception": false,
     "start_time": "2021-08-14T22:30:09.563768",
     "status": "completed"
    },
    "tags": []
   },
   "outputs": [],
   "source": []
  }
 ],
 "metadata": {
  "kernelspec": {
   "display_name": "Python 3",
   "language": "python",
   "name": "python3"
  },
  "language_info": {
   "codemirror_mode": {
    "name": "ipython",
    "version": 3
   },
   "file_extension": ".py",
   "mimetype": "text/x-python",
   "name": "python",
   "nbconvert_exporter": "python",
   "pygments_lexer": "ipython3",
   "version": "3.9.5"
  },
  "papermill": {
   "default_parameters": {},
   "duration": 6.828101,
   "end_time": "2021-08-14T22:30:11.041695",
   "environment_variables": {},
   "exception": null,
   "input_path": "eBay_Overview.ipynb",
   "output_path": "eBay_Overview.ipynb",
   "parameters": {},
   "start_time": "2021-08-14T22:30:04.213594",
   "version": "2.3.3"
  }
 },
 "nbformat": 4,
 "nbformat_minor": 5
}