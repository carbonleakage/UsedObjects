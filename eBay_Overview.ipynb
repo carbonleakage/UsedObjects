{
 "cells": [
  {
   "cell_type": "code",
   "execution_count": 1,
   "id": "reverse-picking",
   "metadata": {
    "execution": {
     "iopub.execute_input": "2021-09-28T05:30:07.424383Z",
     "iopub.status.busy": "2021-09-28T05:30:07.422324Z",
     "iopub.status.idle": "2021-09-28T05:30:08.232340Z",
     "shell.execute_reply": "2021-09-28T05:30:08.233577Z"
    },
    "papermill": {
     "duration": 0.861871,
     "end_time": "2021-09-28T05:30:08.234183",
     "exception": false,
     "start_time": "2021-09-28T05:30:07.372312",
     "status": "completed"
    },
    "tags": []
   },
   "outputs": [],
   "source": [
    "import pandas as pd\n",
    "import sqlite3"
   ]
  },
  {
   "cell_type": "code",
   "execution_count": 2,
   "id": "innovative-syndrome",
   "metadata": {
    "execution": {
     "iopub.execute_input": "2021-09-28T05:30:08.286221Z",
     "iopub.status.busy": "2021-09-28T05:30:08.283929Z",
     "iopub.status.idle": "2021-09-28T05:30:08.680315Z",
     "shell.execute_reply": "2021-09-28T05:30:08.681554Z"
    },
    "papermill": {
     "duration": 0.425831,
     "end_time": "2021-09-28T05:30:08.681957",
     "exception": false,
     "start_time": "2021-09-28T05:30:08.256126",
     "status": "completed"
    },
    "tags": []
   },
   "outputs": [],
   "source": [
    "timestamps = pd.read_sql(\"select distinct record_time from EBAY_TOP_BERLIN order by record_time desc limit 2\", sqlite3.connect(\"UsedObjects.db\"))"
   ]
  },
  {
   "cell_type": "code",
   "execution_count": 3,
   "id": "periodic-identification",
   "metadata": {
    "execution": {
     "iopub.execute_input": "2021-09-28T05:30:08.751085Z",
     "iopub.status.busy": "2021-09-28T05:30:08.745779Z",
     "iopub.status.idle": "2021-09-28T05:30:08.765886Z",
     "shell.execute_reply": "2021-09-28T05:30:08.767321Z"
    },
    "papermill": {
     "duration": 0.06671,
     "end_time": "2021-09-28T05:30:08.767772",
     "exception": false,
     "start_time": "2021-09-28T05:30:08.701062",
     "status": "completed"
    },
    "tags": []
   },
   "outputs": [
    {
     "data": {
      "text/html": [
       "<div>\n",
       "<style scoped>\n",
       "    .dataframe tbody tr th:only-of-type {\n",
       "        vertical-align: middle;\n",
       "    }\n",
       "\n",
       "    .dataframe tbody tr th {\n",
       "        vertical-align: top;\n",
       "    }\n",
       "\n",
       "    .dataframe thead th {\n",
       "        text-align: right;\n",
       "    }\n",
       "</style>\n",
       "<table border=\"1\" class=\"dataframe\">\n",
       "  <thead>\n",
       "    <tr style=\"text-align: right;\">\n",
       "      <th></th>\n",
       "      <th>RECORD_TIME</th>\n",
       "    </tr>\n",
       "  </thead>\n",
       "  <tbody>\n",
       "    <tr>\n",
       "      <th>0</th>\n",
       "      <td>2021-09-28 07:30</td>\n",
       "    </tr>\n",
       "    <tr>\n",
       "      <th>1</th>\n",
       "      <td>2021-09-28 07:00</td>\n",
       "    </tr>\n",
       "  </tbody>\n",
       "</table>\n",
       "</div>"
      ],
      "text/plain": [
       "        RECORD_TIME\n",
       "0  2021-09-28 07:30\n",
       "1  2021-09-28 07:00"
      ]
     },
     "execution_count": 3,
     "metadata": {},
     "output_type": "execute_result"
    }
   ],
   "source": [
    "timestamps"
   ]
  },
  {
   "cell_type": "code",
   "execution_count": 4,
   "id": "alternate-victory",
   "metadata": {
    "execution": {
     "iopub.execute_input": "2021-09-28T05:30:08.818407Z",
     "iopub.status.busy": "2021-09-28T05:30:08.816583Z",
     "iopub.status.idle": "2021-09-28T05:30:09.403360Z",
     "shell.execute_reply": "2021-09-28T05:30:09.404679Z"
    },
    "papermill": {
     "duration": 0.616561,
     "end_time": "2021-09-28T05:30:09.405069",
     "exception": false,
     "start_time": "2021-09-28T05:30:08.788508",
     "status": "completed"
    },
    "tags": []
   },
   "outputs": [],
   "source": [
    "df = pd.read_sql(\"select * from EBAY_TOP_BERLIN where record_time in (select distinct record_time from EBAY_TOP_BERLIN order by record_time desc limit 2)\", sqlite3.connect(\"UsedObjects.db\"))"
   ]
  },
  {
   "cell_type": "code",
   "execution_count": 5,
   "id": "popular-active",
   "metadata": {
    "execution": {
     "iopub.execute_input": "2021-09-28T05:30:09.486160Z",
     "iopub.status.busy": "2021-09-28T05:30:09.478738Z",
     "iopub.status.idle": "2021-09-28T05:30:09.501282Z",
     "shell.execute_reply": "2021-09-28T05:30:09.502483Z"
    },
    "papermill": {
     "duration": 0.071801,
     "end_time": "2021-09-28T05:30:09.502916",
     "exception": false,
     "start_time": "2021-09-28T05:30:09.431115",
     "status": "completed"
    },
    "tags": []
   },
   "outputs": [],
   "source": [
    "df_pivot = df.pivot_table(index=\"PRODUCT\", columns = \"RECORD_TIME\", values = \"LISTING_COUNT\")"
   ]
  },
  {
   "cell_type": "code",
   "execution_count": 6,
   "id": "union-huntington",
   "metadata": {
    "execution": {
     "iopub.execute_input": "2021-09-28T05:30:09.558616Z",
     "iopub.status.busy": "2021-09-28T05:30:09.556487Z",
     "iopub.status.idle": "2021-09-28T05:30:09.562066Z",
     "shell.execute_reply": "2021-09-28T05:30:09.563547Z"
    },
    "papermill": {
     "duration": 0.04065,
     "end_time": "2021-09-28T05:30:09.564006",
     "exception": false,
     "start_time": "2021-09-28T05:30:09.523356",
     "status": "completed"
    },
    "tags": []
   },
   "outputs": [],
   "source": [
    "df_pivot.columns = [\"stamp_1\", \"stamp_2\"]\n",
    "df_pivot_diff = df_pivot.diff(axis=1)"
   ]
  },
  {
   "cell_type": "code",
   "execution_count": 7,
   "id": "fifth-motion",
   "metadata": {
    "execution": {
     "iopub.execute_input": "2021-09-28T05:30:09.618460Z",
     "iopub.status.busy": "2021-09-28T05:30:09.615803Z",
     "iopub.status.idle": "2021-09-28T05:30:11.112789Z",
     "shell.execute_reply": "2021-09-28T05:30:11.114060Z"
    },
    "papermill": {
     "duration": 1.53049,
     "end_time": "2021-09-28T05:30:11.114469",
     "exception": false,
     "start_time": "2021-09-28T05:30:09.583979",
     "status": "completed"
    },
    "tags": []
   },
   "outputs": [
    {
     "data": {
      "text/plain": [
       "<AxesSubplot:ylabel='PRODUCT'>"
      ]
     },
     "execution_count": 7,
     "metadata": {},
     "output_type": "execute_result"
    },
    {
     "data": {
      "image/png": "[encoded data removed]",
      "text/plain": [
       "<Figure size 432x288 with 1 Axes>"
      ]
     },
     "metadata": {
      "needs_background": "light"
     },
     "output_type": "display_data"
    }
   ],
   "source": [
    "df_pivot_diff.sort_values(\"stamp_2\", ascending = False)[\"stamp_2\"].head(10).plot.barh()"
   ]
  },
  {
   "cell_type": "code",
   "execution_count": null,
   "id": "extra-executive",
   "metadata": {
    "papermill": {
     "duration": 0.021822,
     "end_time": "2021-09-28T05:30:11.160676",
     "exception": false,
     "start_time": "2021-09-28T05:30:11.138854",
     "status": "completed"
    },
    "tags": []
   },
   "outputs": [],
   "source": []
  }
 ],
 "metadata": {
  "kernelspec": {
   "display_name": "Python 3",
   "language": "python",
   "name": "python3"
  },
  "language_info": {
   "codemirror_mode": {
    "name": "ipython",
    "version": 3
   },
   "file_extension": ".py",
   "mimetype": "text/x-python",
   "name": "python",
   "nbconvert_exporter": "python",
   "pygments_lexer": "ipython3",
   "version": "3.9.5"
  },
  "papermill": {
   "default_parameters": {},
   "duration": 7.829455,
   "end_time": "2021-09-28T05:30:12.792441",
   "environment_variables": {},
   "exception": null,
   "input_path": "eBay_Overview.ipynb",
   "output_path": "eBay_Overview.ipynb",
   "parameters": {},
   "start_time": "2021-09-28T05:30:04.962986",
   "version": "2.3.3"
  }
 },
 "nbformat": 4,
 "nbformat_minor": 5
}