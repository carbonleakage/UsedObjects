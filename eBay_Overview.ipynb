{
 "cells": [
  {
   "cell_type": "code",
   "execution_count": 1,
   "id": "reverse-picking",
   "metadata": {
    "execution": {
     "iopub.execute_input": "2021-12-06T05:30:07.742485Z",
     "iopub.status.busy": "2021-12-06T05:30:07.740279Z",
     "iopub.status.idle": "2021-12-06T05:30:08.702509Z",
     "shell.execute_reply": "2021-12-06T05:30:08.704129Z"
    },
    "papermill": {
     "duration": 1.010039,
     "end_time": "2021-12-06T05:30:08.704926",
     "exception": false,
     "start_time": "2021-12-06T05:30:07.694887",
     "status": "completed"
    },
    "tags": []
   },
   "outputs": [],
   "source": [
    "import pandas as pd\n",
    "import sqlite3"
   ]
  },
  {
   "cell_type": "code",
   "execution_count": 2,
   "id": "innovative-syndrome",
   "metadata": {
    "execution": {
     "iopub.execute_input": "2021-12-06T05:30:08.771117Z",
     "iopub.status.busy": "2021-12-06T05:30:08.768382Z",
     "iopub.status.idle": "2021-12-06T05:30:09.761319Z",
     "shell.execute_reply": "2021-12-06T05:30:09.762852Z"
    },
    "papermill": {
     "duration": 1.027032,
     "end_time": "2021-12-06T05:30:09.763313",
     "exception": false,
     "start_time": "2021-12-06T05:30:08.736281",
     "status": "completed"
    },
    "tags": []
   },
   "outputs": [],
   "source": [
    "timestamps = pd.read_sql(\"select distinct record_time from EBAY_TOP_BERLIN order by record_time desc limit 2\", sqlite3.connect(\"UsedObjects.db\"))"
   ]
  },
  {
   "cell_type": "code",
   "execution_count": 3,
   "id": "periodic-identification",
   "metadata": {
    "execution": {
     "iopub.execute_input": "2021-12-06T05:30:09.840351Z",
     "iopub.status.busy": "2021-12-06T05:30:09.833748Z",
     "iopub.status.idle": "2021-12-06T05:30:09.859770Z",
     "shell.execute_reply": "2021-12-06T05:30:09.861355Z"
    },
    "papermill": {
     "duration": 0.077436,
     "end_time": "2021-12-06T05:30:09.861870",
     "exception": false,
     "start_time": "2021-12-06T05:30:09.784434",
     "status": "completed"
    },
    "tags": []
   },
   "outputs": [
    {
     "data": {
      "text/html": [
       "<div>\n",
       "<style scoped>\n",
       "    .dataframe tbody tr th:only-of-type {\n",
       "        vertical-align: middle;\n",
       "    }\n",
       "\n",
       "    .dataframe tbody tr th {\n",
       "        vertical-align: top;\n",
       "    }\n",
       "\n",
       "    .dataframe thead th {\n",
       "        text-align: right;\n",
       "    }\n",
       "</style>\n",
       "<table border=\"1\" class=\"dataframe\">\n",
       "  <thead>\n",
       "    <tr style=\"text-align: right;\">\n",
       "      <th></th>\n",
       "      <th>RECORD_TIME</th>\n",
       "    </tr>\n",
       "  </thead>\n",
       "  <tbody>\n",
       "    <tr>\n",
       "      <th>0</th>\n",
       "      <td>2021-12-06 06:30</td>\n",
       "    </tr>\n",
       "    <tr>\n",
       "      <th>1</th>\n",
       "      <td>2021-12-06 06:00</td>\n",
       "    </tr>\n",
       "  </tbody>\n",
       "</table>\n",
       "</div>"
      ],
      "text/plain": [
       "        RECORD_TIME\n",
       "0  2021-12-06 06:30\n",
       "1  2021-12-06 06:00"
      ]
     },
     "execution_count": 3,
     "metadata": {},
     "output_type": "execute_result"
    }
   ],
   "source": [
    "timestamps"
   ]
  },
  {
   "cell_type": "code",
   "execution_count": 4,
   "id": "alternate-victory",
   "metadata": {
    "execution": {
     "iopub.execute_input": "2021-12-06T05:30:09.921737Z",
     "iopub.status.busy": "2021-12-06T05:30:09.919475Z",
     "iopub.status.idle": "2021-12-06T05:30:11.352479Z",
     "shell.execute_reply": "2021-12-06T05:30:11.354768Z"
    },
    "papermill": {
     "duration": 1.470624,
     "end_time": "2021-12-06T05:30:11.355261",
     "exception": false,
     "start_time": "2021-12-06T05:30:09.884637",
     "status": "completed"
    },
    "tags": []
   },
   "outputs": [],
   "source": [
    "df = pd.read_sql(\"select * from EBAY_TOP_BERLIN where record_time in (select distinct record_time from EBAY_TOP_BERLIN order by record_time desc limit 2)\", sqlite3.connect(\"UsedObjects.db\"))"
   ]
  },
  {
   "cell_type": "code",
   "execution_count": 5,
   "id": "popular-active",
   "metadata": {
    "execution": {
     "iopub.execute_input": "2021-12-06T05:30:11.430230Z",
     "iopub.status.busy": "2021-12-06T05:30:11.416441Z",
     "iopub.status.idle": "2021-12-06T05:30:11.450651Z",
     "shell.execute_reply": "2021-12-06T05:30:11.452222Z"
    },
    "papermill": {
     "duration": 0.076274,
     "end_time": "2021-12-06T05:30:11.452818",
     "exception": false,
     "start_time": "2021-12-06T05:30:11.376544",
     "status": "completed"
    },
    "tags": []
   },
   "outputs": [],
   "source": [
    "df_pivot = df.pivot_table(index=\"PRODUCT\", columns = \"RECORD_TIME\", values = \"LISTING_COUNT\")"
   ]
  },
  {
   "cell_type": "code",
   "execution_count": 6,
   "id": "union-huntington",
   "metadata": {
    "execution": {
     "iopub.execute_input": "2021-12-06T05:30:11.515386Z",
     "iopub.status.busy": "2021-12-06T05:30:11.513097Z",
     "iopub.status.idle": "2021-12-06T05:30:11.519199Z",
     "shell.execute_reply": "2021-12-06T05:30:11.520665Z"
    },
    "papermill": {
     "duration": 0.045534,
     "end_time": "2021-12-06T05:30:11.521325",
     "exception": false,
     "start_time": "2021-12-06T05:30:11.475791",
     "status": "completed"
    },
    "tags": []
   },
   "outputs": [],
   "source": [
    "df_pivot.columns = [\"stamp_1\", \"stamp_2\"]\n",
    "df_pivot_diff = df_pivot.diff(axis=1)"
   ]
  },
  {
   "cell_type": "code",
   "execution_count": 7,
   "id": "fifth-motion",
   "metadata": {
    "execution": {
     "iopub.execute_input": "2021-12-06T05:30:11.581666Z",
     "iopub.status.busy": "2021-12-06T05:30:11.579104Z",
     "iopub.status.idle": "2021-12-06T05:30:13.505661Z",
     "shell.execute_reply": "2021-12-06T05:30:13.507011Z"
    },
    "papermill": {
     "duration": 1.963829,
     "end_time": "2021-12-06T05:30:13.507479",
     "exception": false,
     "start_time": "2021-12-06T05:30:11.543650",
     "status": "completed"
    },
    "tags": []
   },
   "outputs": [
    {
     "data": {
      "text/plain": [
       "<AxesSubplot:ylabel='PRODUCT'>"
      ]
     },
     "execution_count": 7,
     "metadata": {},
     "output_type": "execute_result"
    },
    {
     "data": {
      "image/png": "[encoded data removed]",
      "text/plain": [
       "<Figure size 432x288 with 1 Axes>"
      ]
     },
     "metadata": {
      "needs_background": "light"
     },
     "output_type": "display_data"
    }
   ],
   "source": [
    "df_pivot_diff.sort_values(\"stamp_2\", ascending = False)[\"stamp_2\"].head(10).plot.barh()"
   ]
  },
  {
   "cell_type": "code",
   "execution_count": null,
   "id": "extra-executive",
   "metadata": {
    "papermill": {
     "duration": 0.027133,
     "end_time": "2021-12-06T05:30:13.558685",
     "exception": false,
     "start_time": "2021-12-06T05:30:13.531552",
     "status": "completed"
    },
    "tags": []
   },
   "outputs": [],
   "source": []
  }
 ],
 "metadata": {
  "kernelspec": {
   "display_name": "Python 3",
   "language": "python",
   "name": "python3"
  },
  "language_info": {
   "codemirror_mode": {
    "name": "ipython",
    "version": 3
   },
   "file_extension": ".py",
   "mimetype": "text/x-python",
   "name": "python",
   "nbconvert_exporter": "python",
   "pygments_lexer": "ipython3",
   "version": "3.9.5"
  },
  "papermill": {
   "default_parameters": {},
   "duration": 9.947823,
   "end_time": "2021-12-06T05:30:14.904949",
   "environment_variables": {},
   "exception": null,
   "input_path": "eBay_Overview.ipynb",
   "output_path": "eBay_Overview.ipynb",
   "parameters": {},
   "start_time": "2021-12-06T05:30:04.957126",
   "version": "2.3.3"
  }
 },
 "nbformat": 4,
 "nbformat_minor": 5
}