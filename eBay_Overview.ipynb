{
 "cells": [
  {
   "cell_type": "code",
   "execution_count": 1,
   "id": "reverse-picking",
   "metadata": {
    "execution": {
     "iopub.execute_input": "2021-10-15T10:30:06.758867Z",
     "iopub.status.busy": "2021-10-15T10:30:06.756953Z",
     "iopub.status.idle": "2021-10-15T10:30:07.561581Z",
     "shell.execute_reply": "2021-10-15T10:30:07.562733Z"
    },
    "papermill": {
     "duration": 0.856261,
     "end_time": "2021-10-15T10:30:07.563363",
     "exception": false,
     "start_time": "2021-10-15T10:30:06.707102",
     "status": "completed"
    },
    "tags": []
   },
   "outputs": [],
   "source": [
    "import pandas as pd\n",
    "import sqlite3"
   ]
  },
  {
   "cell_type": "code",
   "execution_count": 2,
   "id": "innovative-syndrome",
   "metadata": {
    "execution": {
     "iopub.execute_input": "2021-10-15T10:30:07.614599Z",
     "iopub.status.busy": "2021-10-15T10:30:07.612732Z",
     "iopub.status.idle": "2021-10-15T10:30:08.168380Z",
     "shell.execute_reply": "2021-10-15T10:30:08.170369Z"
    },
    "papermill": {
     "duration": 0.586012,
     "end_time": "2021-10-15T10:30:08.170903",
     "exception": false,
     "start_time": "2021-10-15T10:30:07.584891",
     "status": "completed"
    },
    "tags": []
   },
   "outputs": [],
   "source": [
    "timestamps = pd.read_sql(\"select distinct record_time from EBAY_TOP_BERLIN order by record_time desc limit 2\", sqlite3.connect(\"UsedObjects.db\"))"
   ]
  },
  {
   "cell_type": "code",
   "execution_count": 3,
   "id": "periodic-identification",
   "metadata": {
    "execution": {
     "iopub.execute_input": "2021-10-15T10:30:08.243976Z",
     "iopub.status.busy": "2021-10-15T10:30:08.241953Z",
     "iopub.status.idle": "2021-10-15T10:30:08.261633Z",
     "shell.execute_reply": "2021-10-15T10:30:08.262849Z"
    },
    "papermill": {
     "duration": 0.067404,
     "end_time": "2021-10-15T10:30:08.263246",
     "exception": false,
     "start_time": "2021-10-15T10:30:08.195842",
     "status": "completed"
    },
    "tags": []
   },
   "outputs": [
    {
     "data": {
      "text/html": [
       "<div>\n",
       "<style scoped>\n",
       "    .dataframe tbody tr th:only-of-type {\n",
       "        vertical-align: middle;\n",
       "    }\n",
       "\n",
       "    .dataframe tbody tr th {\n",
       "        vertical-align: top;\n",
       "    }\n",
       "\n",
       "    .dataframe thead th {\n",
       "        text-align: right;\n",
       "    }\n",
       "</style>\n",
       "<table border=\"1\" class=\"dataframe\">\n",
       "  <thead>\n",
       "    <tr style=\"text-align: right;\">\n",
       "      <th></th>\n",
       "      <th>RECORD_TIME</th>\n",
       "    </tr>\n",
       "  </thead>\n",
       "  <tbody>\n",
       "    <tr>\n",
       "      <th>0</th>\n",
       "      <td>2021-10-15 12:30</td>\n",
       "    </tr>\n",
       "    <tr>\n",
       "      <th>1</th>\n",
       "      <td>2021-10-15 12:00</td>\n",
       "    </tr>\n",
       "  </tbody>\n",
       "</table>\n",
       "</div>"
      ],
      "text/plain": [
       "        RECORD_TIME\n",
       "0  2021-10-15 12:30\n",
       "1  2021-10-15 12:00"
      ]
     },
     "execution_count": 3,
     "metadata": {},
     "output_type": "execute_result"
    }
   ],
   "source": [
    "timestamps"
   ]
  },
  {
   "cell_type": "code",
   "execution_count": 4,
   "id": "alternate-victory",
   "metadata": {
    "execution": {
     "iopub.execute_input": "2021-10-15T10:30:08.316143Z",
     "iopub.status.busy": "2021-10-15T10:30:08.313875Z",
     "iopub.status.idle": "2021-10-15T10:30:09.107890Z",
     "shell.execute_reply": "2021-10-15T10:30:09.109154Z"
    },
    "papermill": {
     "duration": 0.824476,
     "end_time": "2021-10-15T10:30:09.109560",
     "exception": false,
     "start_time": "2021-10-15T10:30:08.285084",
     "status": "completed"
    },
    "tags": []
   },
   "outputs": [],
   "source": [
    "df = pd.read_sql(\"select * from EBAY_TOP_BERLIN where record_time in (select distinct record_time from EBAY_TOP_BERLIN order by record_time desc limit 2)\", sqlite3.connect(\"UsedObjects.db\"))"
   ]
  },
  {
   "cell_type": "code",
   "execution_count": 5,
   "id": "popular-active",
   "metadata": {
    "execution": {
     "iopub.execute_input": "2021-10-15T10:30:09.180369Z",
     "iopub.status.busy": "2021-10-15T10:30:09.168203Z",
     "iopub.status.idle": "2021-10-15T10:30:09.196098Z",
     "shell.execute_reply": "2021-10-15T10:30:09.197373Z"
    },
    "papermill": {
     "duration": 0.067108,
     "end_time": "2021-10-15T10:30:09.197777",
     "exception": false,
     "start_time": "2021-10-15T10:30:09.130669",
     "status": "completed"
    },
    "tags": []
   },
   "outputs": [],
   "source": [
    "df_pivot = df.pivot_table(index=\"PRODUCT\", columns = \"RECORD_TIME\", values = \"LISTING_COUNT\")"
   ]
  },
  {
   "cell_type": "code",
   "execution_count": 6,
   "id": "union-huntington",
   "metadata": {
    "execution": {
     "iopub.execute_input": "2021-10-15T10:30:09.254396Z",
     "iopub.status.busy": "2021-10-15T10:30:09.252161Z",
     "iopub.status.idle": "2021-10-15T10:30:09.257974Z",
     "shell.execute_reply": "2021-10-15T10:30:09.259239Z"
    },
    "papermill": {
     "duration": 0.041082,
     "end_time": "2021-10-15T10:30:09.259690",
     "exception": false,
     "start_time": "2021-10-15T10:30:09.218608",
     "status": "completed"
    },
    "tags": []
   },
   "outputs": [],
   "source": [
    "df_pivot.columns = [\"stamp_1\", \"stamp_2\"]\n",
    "df_pivot_diff = df_pivot.diff(axis=1)"
   ]
  },
  {
   "cell_type": "code",
   "execution_count": 7,
   "id": "fifth-motion",
   "metadata": {
    "execution": {
     "iopub.execute_input": "2021-10-15T10:30:09.318433Z",
     "iopub.status.busy": "2021-10-15T10:30:09.315699Z",
     "iopub.status.idle": "2021-10-15T10:30:10.792124Z",
     "shell.execute_reply": "2021-10-15T10:30:10.793462Z"
    },
    "papermill": {
     "duration": 1.510336,
     "end_time": "2021-10-15T10:30:10.793882",
     "exception": false,
     "start_time": "2021-10-15T10:30:09.283546",
     "status": "completed"
    },
    "tags": []
   },
   "outputs": [
    {
     "data": {
      "text/plain": [
       "<AxesSubplot:ylabel='PRODUCT'>"
      ]
     },
     "execution_count": 7,
     "metadata": {},
     "output_type": "execute_result"
    },
    {
     "data": {
      "image/png": "[encoded data removed]",
      "text/plain": [
       "<Figure size 432x288 with 1 Axes>"
      ]
     },
     "metadata": {
      "needs_background": "light"
     },
     "output_type": "display_data"
    }
   ],
   "source": [
    "df_pivot_diff.sort_values(\"stamp_2\", ascending = False)[\"stamp_2\"].head(10).plot.barh()"
   ]
  },
  {
   "cell_type": "code",
   "execution_count": null,
   "id": "extra-executive",
   "metadata": {
    "papermill": {
     "duration": 0.022379,
     "end_time": "2021-10-15T10:30:10.840605",
     "exception": false,
     "start_time": "2021-10-15T10:30:10.818226",
     "status": "completed"
    },
    "tags": []
   },
   "outputs": [],
   "source": []
  }
 ],
 "metadata": {
  "kernelspec": {
   "display_name": "Python 3",
   "language": "python",
   "name": "python3"
  },
  "language_info": {
   "codemirror_mode": {
    "name": "ipython",
    "version": 3
   },
   "file_extension": ".py",
   "mimetype": "text/x-python",
   "name": "python",
   "nbconvert_exporter": "python",
   "pygments_lexer": "ipython3",
   "version": "3.9.5"
  },
  "papermill": {
   "default_parameters": {},
   "duration": 7.83535,
   "end_time": "2021-10-15T10:30:12.132563",
   "environment_variables": {},
   "exception": null,
   "input_path": "eBay_Overview.ipynb",
   "output_path": "eBay_Overview.ipynb",
   "parameters": {},
   "start_time": "2021-10-15T10:30:04.297213",
   "version": "2.3.3"
  }
 },
 "nbformat": 4,
 "nbformat_minor": 5
}