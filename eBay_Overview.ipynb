{
 "cells": [
  {
   "cell_type": "code",
   "execution_count": 1,
   "id": "reverse-picking",
   "metadata": {
    "execution": {
     "iopub.execute_input": "2021-10-09T10:30:06.837167Z",
     "iopub.status.busy": "2021-10-09T10:30:06.835212Z",
     "iopub.status.idle": "2021-10-09T10:30:07.648189Z",
     "shell.execute_reply": "2021-10-09T10:30:07.649634Z"
    },
    "papermill": {
     "duration": 0.867064,
     "end_time": "2021-10-09T10:30:07.650318",
     "exception": false,
     "start_time": "2021-10-09T10:30:06.783254",
     "status": "completed"
    },
    "tags": []
   },
   "outputs": [],
   "source": [
    "import pandas as pd\n",
    "import sqlite3"
   ]
  },
  {
   "cell_type": "code",
   "execution_count": 2,
   "id": "innovative-syndrome",
   "metadata": {
    "execution": {
     "iopub.execute_input": "2021-10-09T10:30:07.701533Z",
     "iopub.status.busy": "2021-10-09T10:30:07.699331Z",
     "iopub.status.idle": "2021-10-09T10:30:08.189590Z",
     "shell.execute_reply": "2021-10-09T10:30:08.191450Z"
    },
    "papermill": {
     "duration": 0.521247,
     "end_time": "2021-10-09T10:30:08.191969",
     "exception": false,
     "start_time": "2021-10-09T10:30:07.670722",
     "status": "completed"
    },
    "tags": []
   },
   "outputs": [],
   "source": [
    "timestamps = pd.read_sql(\"select distinct record_time from EBAY_TOP_BERLIN order by record_time desc limit 2\", sqlite3.connect(\"UsedObjects.db\"))"
   ]
  },
  {
   "cell_type": "code",
   "execution_count": 3,
   "id": "periodic-identification",
   "metadata": {
    "execution": {
     "iopub.execute_input": "2021-10-09T10:30:08.270155Z",
     "iopub.status.busy": "2021-10-09T10:30:08.264845Z",
     "iopub.status.idle": "2021-10-09T10:30:08.286112Z",
     "shell.execute_reply": "2021-10-09T10:30:08.287499Z"
    },
    "papermill": {
     "duration": 0.074069,
     "end_time": "2021-10-09T10:30:08.287929",
     "exception": false,
     "start_time": "2021-10-09T10:30:08.213860",
     "status": "completed"
    },
    "tags": []
   },
   "outputs": [
    {
     "data": {
      "text/html": [
       "<div>\n",
       "<style scoped>\n",
       "    .dataframe tbody tr th:only-of-type {\n",
       "        vertical-align: middle;\n",
       "    }\n",
       "\n",
       "    .dataframe tbody tr th {\n",
       "        vertical-align: top;\n",
       "    }\n",
       "\n",
       "    .dataframe thead th {\n",
       "        text-align: right;\n",
       "    }\n",
       "</style>\n",
       "<table border=\"1\" class=\"dataframe\">\n",
       "  <thead>\n",
       "    <tr style=\"text-align: right;\">\n",
       "      <th></th>\n",
       "      <th>RECORD_TIME</th>\n",
       "    </tr>\n",
       "  </thead>\n",
       "  <tbody>\n",
       "    <tr>\n",
       "      <th>0</th>\n",
       "      <td>2021-10-09 12:30</td>\n",
       "    </tr>\n",
       "    <tr>\n",
       "      <th>1</th>\n",
       "      <td>2021-10-09 12:00</td>\n",
       "    </tr>\n",
       "  </tbody>\n",
       "</table>\n",
       "</div>"
      ],
      "text/plain": [
       "        RECORD_TIME\n",
       "0  2021-10-09 12:30\n",
       "1  2021-10-09 12:00"
      ]
     },
     "execution_count": 3,
     "metadata": {},
     "output_type": "execute_result"
    }
   ],
   "source": [
    "timestamps"
   ]
  },
  {
   "cell_type": "code",
   "execution_count": 4,
   "id": "alternate-victory",
   "metadata": {
    "execution": {
     "iopub.execute_input": "2021-10-09T10:30:08.339676Z",
     "iopub.status.busy": "2021-10-09T10:30:08.337685Z",
     "iopub.status.idle": "2021-10-09T10:30:09.063085Z",
     "shell.execute_reply": "2021-10-09T10:30:09.064465Z"
    },
    "papermill": {
     "duration": 0.755663,
     "end_time": "2021-10-09T10:30:09.064880",
     "exception": false,
     "start_time": "2021-10-09T10:30:08.309217",
     "status": "completed"
    },
    "tags": []
   },
   "outputs": [],
   "source": [
    "df = pd.read_sql(\"select * from EBAY_TOP_BERLIN where record_time in (select distinct record_time from EBAY_TOP_BERLIN order by record_time desc limit 2)\", sqlite3.connect(\"UsedObjects.db\"))"
   ]
  },
  {
   "cell_type": "code",
   "execution_count": 5,
   "id": "popular-active",
   "metadata": {
    "execution": {
     "iopub.execute_input": "2021-10-09T10:30:09.134035Z",
     "iopub.status.busy": "2021-10-09T10:30:09.122073Z",
     "iopub.status.idle": "2021-10-09T10:30:09.149524Z",
     "shell.execute_reply": "2021-10-09T10:30:09.150738Z"
    },
    "papermill": {
     "duration": 0.06611,
     "end_time": "2021-10-09T10:30:09.151338",
     "exception": false,
     "start_time": "2021-10-09T10:30:09.085228",
     "status": "completed"
    },
    "tags": []
   },
   "outputs": [],
   "source": [
    "df_pivot = df.pivot_table(index=\"PRODUCT\", columns = \"RECORD_TIME\", values = \"LISTING_COUNT\")"
   ]
  },
  {
   "cell_type": "code",
   "execution_count": 6,
   "id": "union-huntington",
   "metadata": {
    "execution": {
     "iopub.execute_input": "2021-10-09T10:30:09.210717Z",
     "iopub.status.busy": "2021-10-09T10:30:09.208291Z",
     "iopub.status.idle": "2021-10-09T10:30:09.214249Z",
     "shell.execute_reply": "2021-10-09T10:30:09.215687Z"
    },
    "papermill": {
     "duration": 0.042612,
     "end_time": "2021-10-09T10:30:09.216131",
     "exception": false,
     "start_time": "2021-10-09T10:30:09.173519",
     "status": "completed"
    },
    "tags": []
   },
   "outputs": [],
   "source": [
    "df_pivot.columns = [\"stamp_1\", \"stamp_2\"]\n",
    "df_pivot_diff = df_pivot.diff(axis=1)"
   ]
  },
  {
   "cell_type": "code",
   "execution_count": 7,
   "id": "fifth-motion",
   "metadata": {
    "execution": {
     "iopub.execute_input": "2021-10-09T10:30:09.270193Z",
     "iopub.status.busy": "2021-10-09T10:30:09.268015Z",
     "iopub.status.idle": "2021-10-09T10:30:10.785593Z",
     "shell.execute_reply": "2021-10-09T10:30:10.786948Z"
    },
    "papermill": {
     "duration": 1.550111,
     "end_time": "2021-10-09T10:30:10.787425",
     "exception": false,
     "start_time": "2021-10-09T10:30:09.237314",
     "status": "completed"
    },
    "tags": []
   },
   "outputs": [
    {
     "data": {
      "text/plain": [
       "<AxesSubplot:ylabel='PRODUCT'>"
      ]
     },
     "execution_count": 7,
     "metadata": {},
     "output_type": "execute_result"
    },
    {
     "data": {
      "image/png": "[encoded data removed]",
      "text/plain": [
       "<Figure size 432x288 with 1 Axes>"
      ]
     },
     "metadata": {
      "needs_background": "light"
     },
     "output_type": "display_data"
    }
   ],
   "source": [
    "df_pivot_diff.sort_values(\"stamp_2\", ascending = False)[\"stamp_2\"].head(10).plot.barh()"
   ]
  },
  {
   "cell_type": "code",
   "execution_count": null,
   "id": "extra-executive",
   "metadata": {
    "papermill": {
     "duration": 0.02203,
     "end_time": "2021-10-09T10:30:10.834123",
     "exception": false,
     "start_time": "2021-10-09T10:30:10.812093",
     "status": "completed"
    },
    "tags": []
   },
   "outputs": [],
   "source": []
  }
 ],
 "metadata": {
  "kernelspec": {
   "display_name": "Python 3",
   "language": "python",
   "name": "python3"
  },
  "language_info": {
   "codemirror_mode": {
    "name": "ipython",
    "version": 3
   },
   "file_extension": ".py",
   "mimetype": "text/x-python",
   "name": "python",
   "nbconvert_exporter": "python",
   "pygments_lexer": "ipython3",
   "version": "3.9.5"
  },
  "papermill": {
   "default_parameters": {},
   "duration": 7.833661,
   "end_time": "2021-10-09T10:30:12.195971",
   "environment_variables": {},
   "exception": null,
   "input_path": "eBay_Overview.ipynb",
   "output_path": "eBay_Overview.ipynb",
   "parameters": {},
   "start_time": "2021-10-09T10:30:04.362310",
   "version": "2.3.3"
  }
 },
 "nbformat": 4,
 "nbformat_minor": 5
}