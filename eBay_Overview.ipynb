{
 "cells": [
  {
   "cell_type": "code",
   "execution_count": 1,
   "id": "reverse-picking",
   "metadata": {
    "execution": {
     "iopub.execute_input": "2021-08-11T21:30:03.807970Z",
     "iopub.status.busy": "2021-08-11T21:30:03.807197Z",
     "iopub.status.idle": "2021-08-11T21:30:04.400333Z",
     "shell.execute_reply": "2021-08-11T21:30:04.400873Z"
    },
    "papermill": {
     "duration": 0.61232,
     "end_time": "2021-08-11T21:30:04.401173",
     "exception": false,
     "start_time": "2021-08-11T21:30:03.788853",
     "status": "completed"
    },
    "tags": []
   },
   "outputs": [],
   "source": [
    "import pandas as pd\n",
    "import sqlite3"
   ]
  },
  {
   "cell_type": "code",
   "execution_count": 2,
   "id": "innovative-syndrome",
   "metadata": {
    "execution": {
     "iopub.execute_input": "2021-08-11T21:30:04.427043Z",
     "iopub.status.busy": "2021-08-11T21:30:04.426262Z",
     "iopub.status.idle": "2021-08-11T21:30:04.638555Z",
     "shell.execute_reply": "2021-08-11T21:30:04.637808Z"
    },
    "papermill": {
     "duration": 0.228516,
     "end_time": "2021-08-11T21:30:04.638717",
     "exception": false,
     "start_time": "2021-08-11T21:30:04.410201",
     "status": "completed"
    },
    "tags": []
   },
   "outputs": [],
   "source": [
    "timestamps = pd.read_sql(\"select distinct record_time from EBAY_TOP_BERLIN order by record_time desc limit 2\", sqlite3.connect(\"UsedObjects.db\"))"
   ]
  },
  {
   "cell_type": "code",
   "execution_count": 3,
   "id": "periodic-identification",
   "metadata": {
    "execution": {
     "iopub.execute_input": "2021-08-11T21:30:04.671887Z",
     "iopub.status.busy": "2021-08-11T21:30:04.671081Z",
     "iopub.status.idle": "2021-08-11T21:30:04.683606Z",
     "shell.execute_reply": "2021-08-11T21:30:04.684133Z"
    },
    "papermill": {
     "duration": 0.036165,
     "end_time": "2021-08-11T21:30:04.684315",
     "exception": false,
     "start_time": "2021-08-11T21:30:04.648150",
     "status": "completed"
    },
    "tags": []
   },
   "outputs": [
    {
     "data": {
      "text/html": [
       "<div>\n",
       "<style scoped>\n",
       "    .dataframe tbody tr th:only-of-type {\n",
       "        vertical-align: middle;\n",
       "    }\n",
       "\n",
       "    .dataframe tbody tr th {\n",
       "        vertical-align: top;\n",
       "    }\n",
       "\n",
       "    .dataframe thead th {\n",
       "        text-align: right;\n",
       "    }\n",
       "</style>\n",
       "<table border=\"1\" class=\"dataframe\">\n",
       "  <thead>\n",
       "    <tr style=\"text-align: right;\">\n",
       "      <th></th>\n",
       "      <th>RECORD_TIME</th>\n",
       "    </tr>\n",
       "  </thead>\n",
       "  <tbody>\n",
       "    <tr>\n",
       "      <th>0</th>\n",
       "      <td>2021-08-11 23:30</td>\n",
       "    </tr>\n",
       "    <tr>\n",
       "      <th>1</th>\n",
       "      <td>2021-08-11 23:00</td>\n",
       "    </tr>\n",
       "  </tbody>\n",
       "</table>\n",
       "</div>"
      ],
      "text/plain": [
       "        RECORD_TIME\n",
       "0  2021-08-11 23:30\n",
       "1  2021-08-11 23:00"
      ]
     },
     "execution_count": 3,
     "metadata": {},
     "output_type": "execute_result"
    }
   ],
   "source": [
    "timestamps"
   ]
  },
  {
   "cell_type": "code",
   "execution_count": 4,
   "id": "alternate-victory",
   "metadata": {
    "execution": {
     "iopub.execute_input": "2021-08-11T21:30:04.706655Z",
     "iopub.status.busy": "2021-08-11T21:30:04.705883Z",
     "iopub.status.idle": "2021-08-11T21:30:04.733130Z",
     "shell.execute_reply": "2021-08-11T21:30:04.733889Z"
    },
    "papermill": {
     "duration": 0.041423,
     "end_time": "2021-08-11T21:30:04.734099",
     "exception": false,
     "start_time": "2021-08-11T21:30:04.692676",
     "status": "completed"
    },
    "tags": []
   },
   "outputs": [],
   "source": [
    "df = pd.read_sql(\"select * from EBAY_TOP_BERLIN where record_time in (select distinct record_time from EBAY_TOP_BERLIN order by record_time desc limit 2)\", sqlite3.connect(\"UsedObjects.db\"))"
   ]
  },
  {
   "cell_type": "code",
   "execution_count": 5,
   "id": "popular-active",
   "metadata": {
    "execution": {
     "iopub.execute_input": "2021-08-11T21:30:04.768624Z",
     "iopub.status.busy": "2021-08-11T21:30:04.766785Z",
     "iopub.status.idle": "2021-08-11T21:30:04.789154Z",
     "shell.execute_reply": "2021-08-11T21:30:04.788540Z"
    },
    "papermill": {
     "duration": 0.042845,
     "end_time": "2021-08-11T21:30:04.789315",
     "exception": false,
     "start_time": "2021-08-11T21:30:04.746470",
     "status": "completed"
    },
    "tags": []
   },
   "outputs": [],
   "source": [
    "df_pivot = df.pivot_table(index=\"PRODUCT\", columns = \"RECORD_TIME\", values = \"LISTING_COUNT\")"
   ]
  },
  {
   "cell_type": "code",
   "execution_count": 6,
   "id": "union-huntington",
   "metadata": {
    "execution": {
     "iopub.execute_input": "2021-08-11T21:30:04.821615Z",
     "iopub.status.busy": "2021-08-11T21:30:04.820103Z",
     "iopub.status.idle": "2021-08-11T21:30:04.827121Z",
     "shell.execute_reply": "2021-08-11T21:30:04.826455Z"
    },
    "papermill": {
     "duration": 0.028755,
     "end_time": "2021-08-11T21:30:04.827300",
     "exception": false,
     "start_time": "2021-08-11T21:30:04.798545",
     "status": "completed"
    },
    "tags": []
   },
   "outputs": [],
   "source": [
    "df_pivot.columns = [\"stamp_1\", \"stamp_2\"]\n",
    "df_pivot_diff = df_pivot.diff(axis=1)"
   ]
  },
  {
   "cell_type": "code",
   "execution_count": 7,
   "id": "fifth-motion",
   "metadata": {
    "execution": {
     "iopub.execute_input": "2021-08-11T21:30:04.856950Z",
     "iopub.status.busy": "2021-08-11T21:30:04.856194Z",
     "iopub.status.idle": "2021-08-11T21:30:05.516709Z",
     "shell.execute_reply": "2021-08-11T21:30:05.516095Z"
    },
    "papermill": {
     "duration": 0.678724,
     "end_time": "2021-08-11T21:30:05.516882",
     "exception": false,
     "start_time": "2021-08-11T21:30:04.838158",
     "status": "completed"
    },
    "tags": []
   },
   "outputs": [
    {
     "data": {
      "text/plain": [
       "<AxesSubplot:ylabel='PRODUCT'>"
      ]
     },
     "execution_count": 7,
     "metadata": {},
     "output_type": "execute_result"
    },
    {
     "data": {
      "image/png": "[encoded data removed]",
      "text/plain": [
       "<Figure size 432x288 with 1 Axes>"
      ]
     },
     "metadata": {
      "needs_background": "light"
     },
     "output_type": "display_data"
    }
   ],
   "source": [
    "df_pivot_diff.sort_values(\"stamp_2\", ascending = False)[\"stamp_2\"].head(10).plot.barh()"
   ]
  },
  {
   "cell_type": "code",
   "execution_count": null,
   "id": "extra-executive",
   "metadata": {
    "papermill": {
     "duration": 0.009479,
     "end_time": "2021-08-11T21:30:05.536174",
     "exception": false,
     "start_time": "2021-08-11T21:30:05.526695",
     "status": "completed"
    },
    "tags": []
   },
   "outputs": [],
   "source": []
  }
 ],
 "metadata": {
  "kernelspec": {
   "display_name": "Python 3",
   "language": "python",
   "name": "python3"
  },
  "language_info": {
   "codemirror_mode": {
    "name": "ipython",
    "version": 3
   },
   "file_extension": ".py",
   "mimetype": "text/x-python",
   "name": "python",
   "nbconvert_exporter": "python",
   "pygments_lexer": "ipython3",
   "version": "3.8.8"
  },
  "papermill": {
   "default_parameters": {},
   "duration": 5.050169,
   "end_time": "2021-08-11T21:30:07.133796",
   "environment_variables": {},
   "exception": null,
   "input_path": "/Users/saravananshanmugam/Carbonleakage_Git/UsedObjects/eBay_Overview.ipynb",
   "output_path": "/Users/saravananshanmugam/Carbonleakage_Git/UsedObjects/eBay_Overview.ipynb",
   "parameters": {},
   "start_time": "2021-08-11T21:30:02.083627",
   "version": "2.3.3"
  }
 },
 "nbformat": 4,
 "nbformat_minor": 5
}