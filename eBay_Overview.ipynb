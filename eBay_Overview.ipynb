{
 "cells": [
  {
   "cell_type": "code",
   "execution_count": 1,
   "id": "reverse-picking",
   "metadata": {
    "execution": {
     "iopub.execute_input": "2021-09-23T11:00:07.934736Z",
     "iopub.status.busy": "2021-09-23T11:00:07.932807Z",
     "iopub.status.idle": "2021-09-23T11:00:08.737680Z",
     "shell.execute_reply": "2021-09-23T11:00:08.739115Z"
    },
    "papermill": {
     "duration": 0.856918,
     "end_time": "2021-09-23T11:00:08.739818",
     "exception": false,
     "start_time": "2021-09-23T11:00:07.882900",
     "status": "completed"
    },
    "tags": []
   },
   "outputs": [],
   "source": [
    "import pandas as pd\n",
    "import sqlite3"
   ]
  },
  {
   "cell_type": "code",
   "execution_count": 2,
   "id": "innovative-syndrome",
   "metadata": {
    "execution": {
     "iopub.execute_input": "2021-09-23T11:00:08.790868Z",
     "iopub.status.busy": "2021-09-23T11:00:08.788776Z",
     "iopub.status.idle": "2021-09-23T11:00:09.152357Z",
     "shell.execute_reply": "2021-09-23T11:00:09.153550Z"
    },
    "papermill": {
     "duration": 0.39378,
     "end_time": "2021-09-23T11:00:09.153938",
     "exception": false,
     "start_time": "2021-09-23T11:00:08.760158",
     "status": "completed"
    },
    "tags": []
   },
   "outputs": [],
   "source": [
    "timestamps = pd.read_sql(\"select distinct record_time from EBAY_TOP_BERLIN order by record_time desc limit 2\", sqlite3.connect(\"UsedObjects.db\"))"
   ]
  },
  {
   "cell_type": "code",
   "execution_count": 3,
   "id": "periodic-identification",
   "metadata": {
    "execution": {
     "iopub.execute_input": "2021-09-23T11:00:09.221688Z",
     "iopub.status.busy": "2021-09-23T11:00:09.219675Z",
     "iopub.status.idle": "2021-09-23T11:00:09.239598Z",
     "shell.execute_reply": "2021-09-23T11:00:09.240993Z"
    },
    "papermill": {
     "duration": 0.065731,
     "end_time": "2021-09-23T11:00:09.241474",
     "exception": false,
     "start_time": "2021-09-23T11:00:09.175743",
     "status": "completed"
    },
    "tags": []
   },
   "outputs": [
    {
     "data": {
      "text/html": [
       "<div>\n",
       "<style scoped>\n",
       "    .dataframe tbody tr th:only-of-type {\n",
       "        vertical-align: middle;\n",
       "    }\n",
       "\n",
       "    .dataframe tbody tr th {\n",
       "        vertical-align: top;\n",
       "    }\n",
       "\n",
       "    .dataframe thead th {\n",
       "        text-align: right;\n",
       "    }\n",
       "</style>\n",
       "<table border=\"1\" class=\"dataframe\">\n",
       "  <thead>\n",
       "    <tr style=\"text-align: right;\">\n",
       "      <th></th>\n",
       "      <th>RECORD_TIME</th>\n",
       "    </tr>\n",
       "  </thead>\n",
       "  <tbody>\n",
       "    <tr>\n",
       "      <th>0</th>\n",
       "      <td>2021-09-23 13:00</td>\n",
       "    </tr>\n",
       "    <tr>\n",
       "      <th>1</th>\n",
       "      <td>2021-09-23 12:30</td>\n",
       "    </tr>\n",
       "  </tbody>\n",
       "</table>\n",
       "</div>"
      ],
      "text/plain": [
       "        RECORD_TIME\n",
       "0  2021-09-23 13:00\n",
       "1  2021-09-23 12:30"
      ]
     },
     "execution_count": 3,
     "metadata": {},
     "output_type": "execute_result"
    }
   ],
   "source": [
    "timestamps"
   ]
  },
  {
   "cell_type": "code",
   "execution_count": 4,
   "id": "alternate-victory",
   "metadata": {
    "execution": {
     "iopub.execute_input": "2021-09-23T11:00:09.293605Z",
     "iopub.status.busy": "2021-09-23T11:00:09.291603Z",
     "iopub.status.idle": "2021-09-23T11:00:09.827842Z",
     "shell.execute_reply": "2021-09-23T11:00:09.829238Z"
    },
    "papermill": {
     "duration": 0.566814,
     "end_time": "2021-09-23T11:00:09.829680",
     "exception": false,
     "start_time": "2021-09-23T11:00:09.262866",
     "status": "completed"
    },
    "tags": []
   },
   "outputs": [],
   "source": [
    "df = pd.read_sql(\"select * from EBAY_TOP_BERLIN where record_time in (select distinct record_time from EBAY_TOP_BERLIN order by record_time desc limit 2)\", sqlite3.connect(\"UsedObjects.db\"))"
   ]
  },
  {
   "cell_type": "code",
   "execution_count": 5,
   "id": "popular-active",
   "metadata": {
    "execution": {
     "iopub.execute_input": "2021-09-23T11:00:09.895220Z",
     "iopub.status.busy": "2021-09-23T11:00:09.887978Z",
     "iopub.status.idle": "2021-09-23T11:00:09.916005Z",
     "shell.execute_reply": "2021-09-23T11:00:09.917216Z"
    },
    "papermill": {
     "duration": 0.0674,
     "end_time": "2021-09-23T11:00:09.917605",
     "exception": false,
     "start_time": "2021-09-23T11:00:09.850205",
     "status": "completed"
    },
    "tags": []
   },
   "outputs": [],
   "source": [
    "df_pivot = df.pivot_table(index=\"PRODUCT\", columns = \"RECORD_TIME\", values = \"LISTING_COUNT\")"
   ]
  },
  {
   "cell_type": "code",
   "execution_count": 6,
   "id": "union-huntington",
   "metadata": {
    "execution": {
     "iopub.execute_input": "2021-09-23T11:00:09.977502Z",
     "iopub.status.busy": "2021-09-23T11:00:09.975073Z",
     "iopub.status.idle": "2021-09-23T11:00:09.980820Z",
     "shell.execute_reply": "2021-09-23T11:00:09.982003Z"
    },
    "papermill": {
     "duration": 0.041781,
     "end_time": "2021-09-23T11:00:09.982427",
     "exception": false,
     "start_time": "2021-09-23T11:00:09.940646",
     "status": "completed"
    },
    "tags": []
   },
   "outputs": [],
   "source": [
    "df_pivot.columns = [\"stamp_1\", \"stamp_2\"]\n",
    "df_pivot_diff = df_pivot.diff(axis=1)"
   ]
  },
  {
   "cell_type": "code",
   "execution_count": 7,
   "id": "fifth-motion",
   "metadata": {
    "execution": {
     "iopub.execute_input": "2021-09-23T11:00:10.037085Z",
     "iopub.status.busy": "2021-09-23T11:00:10.034610Z",
     "iopub.status.idle": "2021-09-23T11:00:11.514861Z",
     "shell.execute_reply": "2021-09-23T11:00:11.516319Z"
    },
    "papermill": {
     "duration": 1.513811,
     "end_time": "2021-09-23T11:00:11.516760",
     "exception": false,
     "start_time": "2021-09-23T11:00:10.002949",
     "status": "completed"
    },
    "tags": []
   },
   "outputs": [
    {
     "data": {
      "text/plain": [
       "<AxesSubplot:ylabel='PRODUCT'>"
      ]
     },
     "execution_count": 7,
     "metadata": {},
     "output_type": "execute_result"
    },
    {
     "data": {
      "image/png": "[encoded data removed]",
      "text/plain": [
       "<Figure size 432x288 with 1 Axes>"
      ]
     },
     "metadata": {
      "needs_background": "light"
     },
     "output_type": "display_data"
    }
   ],
   "source": [
    "df_pivot_diff.sort_values(\"stamp_2\", ascending = False)[\"stamp_2\"].head(10).plot.barh()"
   ]
  },
  {
   "cell_type": "code",
   "execution_count": null,
   "id": "extra-executive",
   "metadata": {
    "papermill": {
     "duration": 0.022109,
     "end_time": "2021-09-23T11:00:11.562703",
     "exception": false,
     "start_time": "2021-09-23T11:00:11.540594",
     "status": "completed"
    },
    "tags": []
   },
   "outputs": [],
   "source": []
  }
 ],
 "metadata": {
  "kernelspec": {
   "display_name": "Python 3",
   "language": "python",
   "name": "python3"
  },
  "language_info": {
   "codemirror_mode": {
    "name": "ipython",
    "version": 3
   },
   "file_extension": ".py",
   "mimetype": "text/x-python",
   "name": "python",
   "nbconvert_exporter": "python",
   "pygments_lexer": "ipython3",
   "version": "3.9.5"
  },
  "papermill": {
   "default_parameters": {},
   "duration": 6.720639,
   "end_time": "2021-09-23T11:00:12.205033",
   "environment_variables": {},
   "exception": null,
   "input_path": "eBay_Overview.ipynb",
   "output_path": "eBay_Overview.ipynb",
   "parameters": {},
   "start_time": "2021-09-23T11:00:05.484394",
   "version": "2.3.3"
  }
 },
 "nbformat": 4,
 "nbformat_minor": 5
}