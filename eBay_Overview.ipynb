{
 "cells": [
  {
   "cell_type": "code",
   "execution_count": 1,
   "id": "reverse-picking",
   "metadata": {
    "execution": {
     "iopub.execute_input": "2021-09-06T06:30:06.882301Z",
     "iopub.status.busy": "2021-09-06T06:30:06.880383Z",
     "iopub.status.idle": "2021-09-06T06:30:07.687147Z",
     "shell.execute_reply": "2021-09-06T06:30:07.688540Z"
    },
    "papermill": {
     "duration": 0.856741,
     "end_time": "2021-09-06T06:30:07.689163",
     "exception": false,
     "start_time": "2021-09-06T06:30:06.832422",
     "status": "completed"
    },
    "tags": []
   },
   "outputs": [],
   "source": [
    "import pandas as pd\n",
    "import sqlite3"
   ]
  },
  {
   "cell_type": "code",
   "execution_count": 2,
   "id": "innovative-syndrome",
   "metadata": {
    "execution": {
     "iopub.execute_input": "2021-09-06T06:30:07.740045Z",
     "iopub.status.busy": "2021-09-06T06:30:07.738013Z",
     "iopub.status.idle": "2021-09-06T06:30:07.975022Z",
     "shell.execute_reply": "2021-09-06T06:30:07.976234Z"
    },
    "papermill": {
     "duration": 0.2666,
     "end_time": "2021-09-06T06:30:07.976632",
     "exception": false,
     "start_time": "2021-09-06T06:30:07.710032",
     "status": "completed"
    },
    "tags": []
   },
   "outputs": [],
   "source": [
    "timestamps = pd.read_sql(\"select distinct record_time from EBAY_TOP_BERLIN order by record_time desc limit 2\", sqlite3.connect(\"UsedObjects.db\"))"
   ]
  },
  {
   "cell_type": "code",
   "execution_count": 3,
   "id": "periodic-identification",
   "metadata": {
    "execution": {
     "iopub.execute_input": "2021-09-06T06:30:08.041201Z",
     "iopub.status.busy": "2021-09-06T06:30:08.039195Z",
     "iopub.status.idle": "2021-09-06T06:30:08.059106Z",
     "shell.execute_reply": "2021-09-06T06:30:08.060337Z"
    },
    "papermill": {
     "duration": 0.063993,
     "end_time": "2021-09-06T06:30:08.060728",
     "exception": false,
     "start_time": "2021-09-06T06:30:07.996735",
     "status": "completed"
    },
    "tags": []
   },
   "outputs": [
    {
     "data": {
      "text/html": [
       "<div>\n",
       "<style scoped>\n",
       "    .dataframe tbody tr th:only-of-type {\n",
       "        vertical-align: middle;\n",
       "    }\n",
       "\n",
       "    .dataframe tbody tr th {\n",
       "        vertical-align: top;\n",
       "    }\n",
       "\n",
       "    .dataframe thead th {\n",
       "        text-align: right;\n",
       "    }\n",
       "</style>\n",
       "<table border=\"1\" class=\"dataframe\">\n",
       "  <thead>\n",
       "    <tr style=\"text-align: right;\">\n",
       "      <th></th>\n",
       "      <th>RECORD_TIME</th>\n",
       "    </tr>\n",
       "  </thead>\n",
       "  <tbody>\n",
       "    <tr>\n",
       "      <th>0</th>\n",
       "      <td>2021-09-06 08:30</td>\n",
       "    </tr>\n",
       "    <tr>\n",
       "      <th>1</th>\n",
       "      <td>2021-09-06 08:00</td>\n",
       "    </tr>\n",
       "  </tbody>\n",
       "</table>\n",
       "</div>"
      ],
      "text/plain": [
       "        RECORD_TIME\n",
       "0  2021-09-06 08:30\n",
       "1  2021-09-06 08:00"
      ]
     },
     "execution_count": 3,
     "metadata": {},
     "output_type": "execute_result"
    }
   ],
   "source": [
    "timestamps"
   ]
  },
  {
   "cell_type": "code",
   "execution_count": 4,
   "id": "alternate-victory",
   "metadata": {
    "execution": {
     "iopub.execute_input": "2021-09-06T06:30:08.111481Z",
     "iopub.status.busy": "2021-09-06T06:30:08.109527Z",
     "iopub.status.idle": "2021-09-06T06:30:08.439197Z",
     "shell.execute_reply": "2021-09-06T06:30:08.440565Z"
    },
    "papermill": {
     "duration": 0.359401,
     "end_time": "2021-09-06T06:30:08.440974",
     "exception": false,
     "start_time": "2021-09-06T06:30:08.081573",
     "status": "completed"
    },
    "tags": []
   },
   "outputs": [],
   "source": [
    "df = pd.read_sql(\"select * from EBAY_TOP_BERLIN where record_time in (select distinct record_time from EBAY_TOP_BERLIN order by record_time desc limit 2)\", sqlite3.connect(\"UsedObjects.db\"))"
   ]
  },
  {
   "cell_type": "code",
   "execution_count": 5,
   "id": "popular-active",
   "metadata": {
    "execution": {
     "iopub.execute_input": "2021-09-06T06:30:08.516124Z",
     "iopub.status.busy": "2021-09-06T06:30:08.507236Z",
     "iopub.status.idle": "2021-09-06T06:30:08.535987Z",
     "shell.execute_reply": "2021-09-06T06:30:08.537196Z"
    },
    "papermill": {
     "duration": 0.070985,
     "end_time": "2021-09-06T06:30:08.537588",
     "exception": false,
     "start_time": "2021-09-06T06:30:08.466603",
     "status": "completed"
    },
    "tags": []
   },
   "outputs": [],
   "source": [
    "df_pivot = df.pivot_table(index=\"PRODUCT\", columns = \"RECORD_TIME\", values = \"LISTING_COUNT\")"
   ]
  },
  {
   "cell_type": "code",
   "execution_count": 6,
   "id": "union-huntington",
   "metadata": {
    "execution": {
     "iopub.execute_input": "2021-09-06T06:30:08.597327Z",
     "iopub.status.busy": "2021-09-06T06:30:08.594839Z",
     "iopub.status.idle": "2021-09-06T06:30:08.600648Z",
     "shell.execute_reply": "2021-09-06T06:30:08.601927Z"
    },
    "papermill": {
     "duration": 0.041866,
     "end_time": "2021-09-06T06:30:08.602339",
     "exception": false,
     "start_time": "2021-09-06T06:30:08.560473",
     "status": "completed"
    },
    "tags": []
   },
   "outputs": [],
   "source": [
    "df_pivot.columns = [\"stamp_1\", \"stamp_2\"]\n",
    "df_pivot_diff = df_pivot.diff(axis=1)"
   ]
  },
  {
   "cell_type": "code",
   "execution_count": 7,
   "id": "fifth-motion",
   "metadata": {
    "execution": {
     "iopub.execute_input": "2021-09-06T06:30:08.657071Z",
     "iopub.status.busy": "2021-09-06T06:30:08.654574Z",
     "iopub.status.idle": "2021-09-06T06:30:10.135400Z",
     "shell.execute_reply": "2021-09-06T06:30:10.136589Z"
    },
    "papermill": {
     "duration": 1.514252,
     "end_time": "2021-09-06T06:30:10.137017",
     "exception": false,
     "start_time": "2021-09-06T06:30:08.622765",
     "status": "completed"
    },
    "tags": []
   },
   "outputs": [
    {
     "data": {
      "text/plain": [
       "<AxesSubplot:ylabel='PRODUCT'>"
      ]
     },
     "execution_count": 7,
     "metadata": {},
     "output_type": "execute_result"
    },
    {
     "data": {
      "image/png": "[encoded data removed]",
      "text/plain": [
       "<Figure size 432x288 with 1 Axes>"
      ]
     },
     "metadata": {
      "needs_background": "light"
     },
     "output_type": "display_data"
    }
   ],
   "source": [
    "df_pivot_diff.sort_values(\"stamp_2\", ascending = False)[\"stamp_2\"].head(10).plot.barh()"
   ]
  },
  {
   "cell_type": "code",
   "execution_count": null,
   "id": "extra-executive",
   "metadata": {
    "papermill": {
     "duration": 0.021914,
     "end_time": "2021-09-06T06:30:10.183270",
     "exception": false,
     "start_time": "2021-09-06T06:30:10.161356",
     "status": "completed"
    },
    "tags": []
   },
   "outputs": [],
   "source": []
  }
 ],
 "metadata": {
  "kernelspec": {
   "display_name": "Python 3",
   "language": "python",
   "name": "python3"
  },
  "language_info": {
   "codemirror_mode": {
    "name": "ipython",
    "version": 3
   },
   "file_extension": ".py",
   "mimetype": "text/x-python",
   "name": "python",
   "nbconvert_exporter": "python",
   "pygments_lexer": "ipython3",
   "version": "3.9.5"
  },
  "papermill": {
   "default_parameters": {},
   "duration": 6.39747,
   "end_time": "2021-09-06T06:30:10.827794",
   "environment_variables": {},
   "exception": null,
   "input_path": "eBay_Overview.ipynb",
   "output_path": "eBay_Overview.ipynb",
   "parameters": {},
   "start_time": "2021-09-06T06:30:04.430324",
   "version": "2.3.3"
  }
 },
 "nbformat": 4,
 "nbformat_minor": 5
}