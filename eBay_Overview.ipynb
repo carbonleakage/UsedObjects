{
 "cells": [
  {
   "cell_type": "code",
   "execution_count": 1,
   "id": "reverse-picking",
   "metadata": {
    "execution": {
     "iopub.execute_input": "2021-08-23T17:00:07.028043Z",
     "iopub.status.busy": "2021-08-23T17:00:07.026090Z",
     "iopub.status.idle": "2021-08-23T17:00:07.833840Z",
     "shell.execute_reply": "2021-08-23T17:00:07.835259Z"
    },
    "papermill": {
     "duration": 0.859022,
     "end_time": "2021-08-23T17:00:07.836073",
     "exception": false,
     "start_time": "2021-08-23T17:00:06.977051",
     "status": "completed"
    },
    "tags": []
   },
   "outputs": [],
   "source": [
    "import pandas as pd\n",
    "import sqlite3"
   ]
  },
  {
   "cell_type": "code",
   "execution_count": 2,
   "id": "innovative-syndrome",
   "metadata": {
    "execution": {
     "iopub.execute_input": "2021-08-23T17:00:07.888267Z",
     "iopub.status.busy": "2021-08-23T17:00:07.885877Z",
     "iopub.status.idle": "2021-08-23T17:00:08.002492Z",
     "shell.execute_reply": "2021-08-23T17:00:08.003854Z"
    },
    "papermill": {
     "duration": 0.146795,
     "end_time": "2021-08-23T17:00:08.004289",
     "exception": false,
     "start_time": "2021-08-23T17:00:07.857494",
     "status": "completed"
    },
    "tags": []
   },
   "outputs": [],
   "source": [
    "timestamps = pd.read_sql(\"select distinct record_time from EBAY_TOP_BERLIN order by record_time desc limit 2\", sqlite3.connect(\"UsedObjects.db\"))"
   ]
  },
  {
   "cell_type": "code",
   "execution_count": 3,
   "id": "periodic-identification",
   "metadata": {
    "execution": {
     "iopub.execute_input": "2021-08-23T17:00:08.071616Z",
     "iopub.status.busy": "2021-08-23T17:00:08.069538Z",
     "iopub.status.idle": "2021-08-23T17:00:08.089570Z",
     "shell.execute_reply": "2021-08-23T17:00:08.091030Z"
    },
    "papermill": {
     "duration": 0.067092,
     "end_time": "2021-08-23T17:00:08.091481",
     "exception": false,
     "start_time": "2021-08-23T17:00:08.024389",
     "status": "completed"
    },
    "tags": []
   },
   "outputs": [
    {
     "data": {
      "text/html": [
       "<div>\n",
       "<style scoped>\n",
       "    .dataframe tbody tr th:only-of-type {\n",
       "        vertical-align: middle;\n",
       "    }\n",
       "\n",
       "    .dataframe tbody tr th {\n",
       "        vertical-align: top;\n",
       "    }\n",
       "\n",
       "    .dataframe thead th {\n",
       "        text-align: right;\n",
       "    }\n",
       "</style>\n",
       "<table border=\"1\" class=\"dataframe\">\n",
       "  <thead>\n",
       "    <tr style=\"text-align: right;\">\n",
       "      <th></th>\n",
       "      <th>RECORD_TIME</th>\n",
       "    </tr>\n",
       "  </thead>\n",
       "  <tbody>\n",
       "    <tr>\n",
       "      <th>0</th>\n",
       "      <td>2021-08-23 19:00</td>\n",
       "    </tr>\n",
       "    <tr>\n",
       "      <th>1</th>\n",
       "      <td>2021-08-23 18:30</td>\n",
       "    </tr>\n",
       "  </tbody>\n",
       "</table>\n",
       "</div>"
      ],
      "text/plain": [
       "        RECORD_TIME\n",
       "0  2021-08-23 19:00\n",
       "1  2021-08-23 18:30"
      ]
     },
     "execution_count": 3,
     "metadata": {},
     "output_type": "execute_result"
    }
   ],
   "source": [
    "timestamps"
   ]
  },
  {
   "cell_type": "code",
   "execution_count": 4,
   "id": "alternate-victory",
   "metadata": {
    "execution": {
     "iopub.execute_input": "2021-08-23T17:00:08.143153Z",
     "iopub.status.busy": "2021-08-23T17:00:08.141212Z",
     "iopub.status.idle": "2021-08-23T17:00:08.311332Z",
     "shell.execute_reply": "2021-08-23T17:00:08.312618Z"
    },
    "papermill": {
     "duration": 0.200299,
     "end_time": "2021-08-23T17:00:08.313030",
     "exception": false,
     "start_time": "2021-08-23T17:00:08.112731",
     "status": "completed"
    },
    "tags": []
   },
   "outputs": [],
   "source": [
    "df = pd.read_sql(\"select * from EBAY_TOP_BERLIN where record_time in (select distinct record_time from EBAY_TOP_BERLIN order by record_time desc limit 2)\", sqlite3.connect(\"UsedObjects.db\"))"
   ]
  },
  {
   "cell_type": "code",
   "execution_count": 5,
   "id": "popular-active",
   "metadata": {
    "execution": {
     "iopub.execute_input": "2021-08-23T17:00:08.383093Z",
     "iopub.status.busy": "2021-08-23T17:00:08.372055Z",
     "iopub.status.idle": "2021-08-23T17:00:08.398868Z",
     "shell.execute_reply": "2021-08-23T17:00:08.400097Z"
    },
    "papermill": {
     "duration": 0.067526,
     "end_time": "2021-08-23T17:00:08.400492",
     "exception": false,
     "start_time": "2021-08-23T17:00:08.332966",
     "status": "completed"
    },
    "tags": []
   },
   "outputs": [],
   "source": [
    "df_pivot = df.pivot_table(index=\"PRODUCT\", columns = \"RECORD_TIME\", values = \"LISTING_COUNT\")"
   ]
  },
  {
   "cell_type": "code",
   "execution_count": 6,
   "id": "union-huntington",
   "metadata": {
    "execution": {
     "iopub.execute_input": "2021-08-23T17:00:08.464067Z",
     "iopub.status.busy": "2021-08-23T17:00:08.462029Z",
     "iopub.status.idle": "2021-08-23T17:00:08.467393Z",
     "shell.execute_reply": "2021-08-23T17:00:08.468658Z"
    },
    "papermill": {
     "duration": 0.046298,
     "end_time": "2021-08-23T17:00:08.469068",
     "exception": false,
     "start_time": "2021-08-23T17:00:08.422770",
     "status": "completed"
    },
    "tags": []
   },
   "outputs": [],
   "source": [
    "df_pivot.columns = [\"stamp_1\", \"stamp_2\"]\n",
    "df_pivot_diff = df_pivot.diff(axis=1)"
   ]
  },
  {
   "cell_type": "code",
   "execution_count": 7,
   "id": "fifth-motion",
   "metadata": {
    "execution": {
     "iopub.execute_input": "2021-08-23T17:00:08.526110Z",
     "iopub.status.busy": "2021-08-23T17:00:08.523434Z",
     "iopub.status.idle": "2021-08-23T17:00:10.044447Z",
     "shell.execute_reply": "2021-08-23T17:00:10.045721Z"
    },
    "papermill": {
     "duration": 1.55501,
     "end_time": "2021-08-23T17:00:10.046192",
     "exception": false,
     "start_time": "2021-08-23T17:00:08.491182",
     "status": "completed"
    },
    "tags": []
   },
   "outputs": [
    {
     "data": {
      "text/plain": [
       "<AxesSubplot:ylabel='PRODUCT'>"
      ]
     },
     "execution_count": 7,
     "metadata": {},
     "output_type": "execute_result"
    },
    {
     "data": {
      "image/png": "[encoded data removed]",
      "text/plain": [
       "<Figure size 432x288 with 1 Axes>"
      ]
     },
     "metadata": {
      "needs_background": "light"
     },
     "output_type": "display_data"
    }
   ],
   "source": [
    "df_pivot_diff.sort_values(\"stamp_2\", ascending = False)[\"stamp_2\"].head(10).plot.barh()"
   ]
  },
  {
   "cell_type": "code",
   "execution_count": null,
   "id": "extra-executive",
   "metadata": {
    "papermill": {
     "duration": 0.022343,
     "end_time": "2021-08-23T17:00:10.093534",
     "exception": false,
     "start_time": "2021-08-23T17:00:10.071191",
     "status": "completed"
    },
    "tags": []
   },
   "outputs": [],
   "source": []
  }
 ],
 "metadata": {
  "kernelspec": {
   "display_name": "Python 3",
   "language": "python",
   "name": "python3"
  },
  "language_info": {
   "codemirror_mode": {
    "name": "ipython",
    "version": 3
   },
   "file_extension": ".py",
   "mimetype": "text/x-python",
   "name": "python",
   "nbconvert_exporter": "python",
   "pygments_lexer": "ipython3",
   "version": "3.9.5"
  },
  "papermill": {
   "default_parameters": {},
   "duration": 6.82777,
   "end_time": "2021-08-23T17:00:11.388259",
   "environment_variables": {},
   "exception": null,
   "input_path": "eBay_Overview.ipynb",
   "output_path": "eBay_Overview.ipynb",
   "parameters": {},
   "start_time": "2021-08-23T17:00:04.560489",
   "version": "2.3.3"
  }
 },
 "nbformat": 4,
 "nbformat_minor": 5
}