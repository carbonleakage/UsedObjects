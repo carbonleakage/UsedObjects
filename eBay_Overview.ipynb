{
 "cells": [
  {
   "cell_type": "code",
   "execution_count": 1,
   "id": "reverse-picking",
   "metadata": {
    "execution": {
     "iopub.execute_input": "2021-08-19T19:00:07.447967Z",
     "iopub.status.busy": "2021-08-19T19:00:07.445975Z",
     "iopub.status.idle": "2021-08-19T19:00:08.249375Z",
     "shell.execute_reply": "2021-08-19T19:00:08.250855Z"
    },
    "papermill": {
     "duration": 0.856228,
     "end_time": "2021-08-19T19:00:08.251540",
     "exception": false,
     "start_time": "2021-08-19T19:00:07.395312",
     "status": "completed"
    },
    "tags": []
   },
   "outputs": [],
   "source": [
    "import pandas as pd\n",
    "import sqlite3"
   ]
  },
  {
   "cell_type": "code",
   "execution_count": 2,
   "id": "innovative-syndrome",
   "metadata": {
    "execution": {
     "iopub.execute_input": "2021-08-19T19:00:08.301847Z",
     "iopub.status.busy": "2021-08-19T19:00:08.299997Z",
     "iopub.status.idle": "2021-08-19T19:00:08.383746Z",
     "shell.execute_reply": "2021-08-19T19:00:08.384967Z"
    },
    "papermill": {
     "duration": 0.113054,
     "end_time": "2021-08-19T19:00:08.385371",
     "exception": false,
     "start_time": "2021-08-19T19:00:08.272317",
     "status": "completed"
    },
    "tags": []
   },
   "outputs": [],
   "source": [
    "timestamps = pd.read_sql(\"select distinct record_time from EBAY_TOP_BERLIN order by record_time desc limit 2\", sqlite3.connect(\"UsedObjects.db\"))"
   ]
  },
  {
   "cell_type": "code",
   "execution_count": 3,
   "id": "periodic-identification",
   "metadata": {
    "execution": {
     "iopub.execute_input": "2021-08-19T19:00:08.449572Z",
     "iopub.status.busy": "2021-08-19T19:00:08.447549Z",
     "iopub.status.idle": "2021-08-19T19:00:08.467216Z",
     "shell.execute_reply": "2021-08-19T19:00:08.468505Z"
    },
    "papermill": {
     "duration": 0.064246,
     "end_time": "2021-08-19T19:00:08.468904",
     "exception": false,
     "start_time": "2021-08-19T19:00:08.404658",
     "status": "completed"
    },
    "tags": []
   },
   "outputs": [
    {
     "data": {
      "text/html": [
       "<div>\n",
       "<style scoped>\n",
       "    .dataframe tbody tr th:only-of-type {\n",
       "        vertical-align: middle;\n",
       "    }\n",
       "\n",
       "    .dataframe tbody tr th {\n",
       "        vertical-align: top;\n",
       "    }\n",
       "\n",
       "    .dataframe thead th {\n",
       "        text-align: right;\n",
       "    }\n",
       "</style>\n",
       "<table border=\"1\" class=\"dataframe\">\n",
       "  <thead>\n",
       "    <tr style=\"text-align: right;\">\n",
       "      <th></th>\n",
       "      <th>RECORD_TIME</th>\n",
       "    </tr>\n",
       "  </thead>\n",
       "  <tbody>\n",
       "    <tr>\n",
       "      <th>0</th>\n",
       "      <td>2021-08-19 21:00</td>\n",
       "    </tr>\n",
       "    <tr>\n",
       "      <th>1</th>\n",
       "      <td>2021-08-19 20:30</td>\n",
       "    </tr>\n",
       "  </tbody>\n",
       "</table>\n",
       "</div>"
      ],
      "text/plain": [
       "        RECORD_TIME\n",
       "0  2021-08-19 21:00\n",
       "1  2021-08-19 20:30"
      ]
     },
     "execution_count": 3,
     "metadata": {},
     "output_type": "execute_result"
    }
   ],
   "source": [
    "timestamps"
   ]
  },
  {
   "cell_type": "code",
   "execution_count": 4,
   "id": "alternate-victory",
   "metadata": {
    "execution": {
     "iopub.execute_input": "2021-08-19T19:00:08.521481Z",
     "iopub.status.busy": "2021-08-19T19:00:08.519193Z",
     "iopub.status.idle": "2021-08-19T19:00:08.647834Z",
     "shell.execute_reply": "2021-08-19T19:00:08.649063Z"
    },
    "papermill": {
     "duration": 0.158947,
     "end_time": "2021-08-19T19:00:08.649458",
     "exception": false,
     "start_time": "2021-08-19T19:00:08.490511",
     "status": "completed"
    },
    "tags": []
   },
   "outputs": [],
   "source": [
    "df = pd.read_sql(\"select * from EBAY_TOP_BERLIN where record_time in (select distinct record_time from EBAY_TOP_BERLIN order by record_time desc limit 2)\", sqlite3.connect(\"UsedObjects.db\"))"
   ]
  },
  {
   "cell_type": "code",
   "execution_count": 5,
   "id": "popular-active",
   "metadata": {
    "execution": {
     "iopub.execute_input": "2021-08-19T19:00:08.718753Z",
     "iopub.status.busy": "2021-08-19T19:00:08.707228Z",
     "iopub.status.idle": "2021-08-19T19:00:08.734983Z",
     "shell.execute_reply": "2021-08-19T19:00:08.736227Z"
    },
    "papermill": {
     "duration": 0.067361,
     "end_time": "2021-08-19T19:00:08.736623",
     "exception": false,
     "start_time": "2021-08-19T19:00:08.669262",
     "status": "completed"
    },
    "tags": []
   },
   "outputs": [],
   "source": [
    "df_pivot = df.pivot_table(index=\"PRODUCT\", columns = \"RECORD_TIME\", values = \"LISTING_COUNT\")"
   ]
  },
  {
   "cell_type": "code",
   "execution_count": 6,
   "id": "union-huntington",
   "metadata": {
    "execution": {
     "iopub.execute_input": "2021-08-19T19:00:08.792200Z",
     "iopub.status.busy": "2021-08-19T19:00:08.790124Z",
     "iopub.status.idle": "2021-08-19T19:00:08.795417Z",
     "shell.execute_reply": "2021-08-19T19:00:08.796725Z"
    },
    "papermill": {
     "duration": 0.040073,
     "end_time": "2021-08-19T19:00:08.797141",
     "exception": false,
     "start_time": "2021-08-19T19:00:08.757068",
     "status": "completed"
    },
    "tags": []
   },
   "outputs": [],
   "source": [
    "df_pivot.columns = [\"stamp_1\", \"stamp_2\"]\n",
    "df_pivot_diff = df_pivot.diff(axis=1)"
   ]
  },
  {
   "cell_type": "code",
   "execution_count": 7,
   "id": "fifth-motion",
   "metadata": {
    "execution": {
     "iopub.execute_input": "2021-08-19T19:00:08.852157Z",
     "iopub.status.busy": "2021-08-19T19:00:08.849817Z",
     "iopub.status.idle": "2021-08-19T19:00:10.343657Z",
     "shell.execute_reply": "2021-08-19T19:00:10.344956Z"
    },
    "papermill": {
     "duration": 1.526777,
     "end_time": "2021-08-19T19:00:10.345376",
     "exception": false,
     "start_time": "2021-08-19T19:00:08.818599",
     "status": "completed"
    },
    "tags": []
   },
   "outputs": [
    {
     "data": {
      "text/plain": [
       "<AxesSubplot:ylabel='PRODUCT'>"
      ]
     },
     "execution_count": 7,
     "metadata": {},
     "output_type": "execute_result"
    },
    {
     "data": {
      "image/png": "[encoded data removed]",
      "text/plain": [
       "<Figure size 432x288 with 1 Axes>"
      ]
     },
     "metadata": {
      "needs_background": "light"
     },
     "output_type": "display_data"
    }
   ],
   "source": [
    "df_pivot_diff.sort_values(\"stamp_2\", ascending = False)[\"stamp_2\"].head(10).plot.barh()"
   ]
  },
  {
   "cell_type": "code",
   "execution_count": null,
   "id": "extra-executive",
   "metadata": {
    "papermill": {
     "duration": 0.022047,
     "end_time": "2021-08-19T19:00:10.391009",
     "exception": false,
     "start_time": "2021-08-19T19:00:10.368962",
     "status": "completed"
    },
    "tags": []
   },
   "outputs": [],
   "source": []
  }
 ],
 "metadata": {
  "kernelspec": {
   "display_name": "Python 3",
   "language": "python",
   "name": "python3"
  },
  "language_info": {
   "codemirror_mode": {
    "name": "ipython",
    "version": 3
   },
   "file_extension": ".py",
   "mimetype": "text/x-python",
   "name": "python",
   "nbconvert_exporter": "python",
   "pygments_lexer": "ipython3",
   "version": "3.9.5"
  },
  "papermill": {
   "default_parameters": {},
   "duration": 6.836617,
   "end_time": "2021-08-19T19:00:11.817335",
   "environment_variables": {},
   "exception": null,
   "input_path": "eBay_Overview.ipynb",
   "output_path": "eBay_Overview.ipynb",
   "parameters": {},
   "start_time": "2021-08-19T19:00:04.980718",
   "version": "2.3.3"
  }
 },
 "nbformat": 4,
 "nbformat_minor": 5
}