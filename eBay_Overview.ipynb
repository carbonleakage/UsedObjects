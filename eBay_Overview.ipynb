{
 "cells": [
  {
   "cell_type": "code",
   "execution_count": 1,
   "id": "reverse-picking",
   "metadata": {
    "execution": {
     "iopub.execute_input": "2021-09-08T11:00:06.748984Z",
     "iopub.status.busy": "2021-09-08T11:00:06.747008Z",
     "iopub.status.idle": "2021-09-08T11:00:07.562417Z",
     "shell.execute_reply": "2021-09-08T11:00:07.560672Z"
    },
    "papermill": {
     "duration": 0.866288,
     "end_time": "2021-09-08T11:00:07.562850",
     "exception": false,
     "start_time": "2021-09-08T11:00:06.696562",
     "status": "completed"
    },
    "tags": []
   },
   "outputs": [],
   "source": [
    "import pandas as pd\n",
    "import sqlite3"
   ]
  },
  {
   "cell_type": "code",
   "execution_count": 2,
   "id": "innovative-syndrome",
   "metadata": {
    "execution": {
     "iopub.execute_input": "2021-09-08T11:00:07.613982Z",
     "iopub.status.busy": "2021-09-08T11:00:07.611939Z",
     "iopub.status.idle": "2021-09-08T11:00:07.850836Z",
     "shell.execute_reply": "2021-09-08T11:00:07.852294Z"
    },
    "papermill": {
     "duration": 0.269393,
     "end_time": "2021-09-08T11:00:07.852715",
     "exception": false,
     "start_time": "2021-09-08T11:00:07.583322",
     "status": "completed"
    },
    "tags": []
   },
   "outputs": [],
   "source": [
    "timestamps = pd.read_sql(\"select distinct record_time from EBAY_TOP_BERLIN order by record_time desc limit 2\", sqlite3.connect(\"UsedObjects.db\"))"
   ]
  },
  {
   "cell_type": "code",
   "execution_count": 3,
   "id": "periodic-identification",
   "metadata": {
    "execution": {
     "iopub.execute_input": "2021-09-08T11:00:07.916641Z",
     "iopub.status.busy": "2021-09-08T11:00:07.914382Z",
     "iopub.status.idle": "2021-09-08T11:00:07.934798Z",
     "shell.execute_reply": "2021-09-08T11:00:07.936119Z"
    },
    "papermill": {
     "duration": 0.06452,
     "end_time": "2021-09-08T11:00:07.936519",
     "exception": false,
     "start_time": "2021-09-08T11:00:07.871999",
     "status": "completed"
    },
    "tags": []
   },
   "outputs": [
    {
     "data": {
      "text/html": [
       "<div>\n",
       "<style scoped>\n",
       "    .dataframe tbody tr th:only-of-type {\n",
       "        vertical-align: middle;\n",
       "    }\n",
       "\n",
       "    .dataframe tbody tr th {\n",
       "        vertical-align: top;\n",
       "    }\n",
       "\n",
       "    .dataframe thead th {\n",
       "        text-align: right;\n",
       "    }\n",
       "</style>\n",
       "<table border=\"1\" class=\"dataframe\">\n",
       "  <thead>\n",
       "    <tr style=\"text-align: right;\">\n",
       "      <th></th>\n",
       "      <th>RECORD_TIME</th>\n",
       "    </tr>\n",
       "  </thead>\n",
       "  <tbody>\n",
       "    <tr>\n",
       "      <th>0</th>\n",
       "      <td>2021-09-08 13:00</td>\n",
       "    </tr>\n",
       "    <tr>\n",
       "      <th>1</th>\n",
       "      <td>2021-09-08 12:30</td>\n",
       "    </tr>\n",
       "  </tbody>\n",
       "</table>\n",
       "</div>"
      ],
      "text/plain": [
       "        RECORD_TIME\n",
       "0  2021-09-08 13:00\n",
       "1  2021-09-08 12:30"
      ]
     },
     "execution_count": 3,
     "metadata": {},
     "output_type": "execute_result"
    }
   ],
   "source": [
    "timestamps"
   ]
  },
  {
   "cell_type": "code",
   "execution_count": 4,
   "id": "alternate-victory",
   "metadata": {
    "execution": {
     "iopub.execute_input": "2021-09-08T11:00:07.988276Z",
     "iopub.status.busy": "2021-09-08T11:00:07.986306Z",
     "iopub.status.idle": "2021-09-08T11:00:08.338108Z",
     "shell.execute_reply": "2021-09-08T11:00:08.339529Z"
    },
    "papermill": {
     "duration": 0.381937,
     "end_time": "2021-09-08T11:00:08.339969",
     "exception": false,
     "start_time": "2021-09-08T11:00:07.958032",
     "status": "completed"
    },
    "tags": []
   },
   "outputs": [],
   "source": [
    "df = pd.read_sql(\"select * from EBAY_TOP_BERLIN where record_time in (select distinct record_time from EBAY_TOP_BERLIN order by record_time desc limit 2)\", sqlite3.connect(\"UsedObjects.db\"))"
   ]
  },
  {
   "cell_type": "code",
   "execution_count": 5,
   "id": "popular-active",
   "metadata": {
    "execution": {
     "iopub.execute_input": "2021-09-08T11:00:08.415908Z",
     "iopub.status.busy": "2021-09-08T11:00:08.403355Z",
     "iopub.status.idle": "2021-09-08T11:00:08.431616Z",
     "shell.execute_reply": "2021-09-08T11:00:08.432862Z"
    },
    "papermill": {
     "duration": 0.069455,
     "end_time": "2021-09-08T11:00:08.433261",
     "exception": false,
     "start_time": "2021-09-08T11:00:08.363806",
     "status": "completed"
    },
    "tags": []
   },
   "outputs": [],
   "source": [
    "df_pivot = df.pivot_table(index=\"PRODUCT\", columns = \"RECORD_TIME\", values = \"LISTING_COUNT\")"
   ]
  },
  {
   "cell_type": "code",
   "execution_count": 6,
   "id": "union-huntington",
   "metadata": {
    "execution": {
     "iopub.execute_input": "2021-09-08T11:00:08.489565Z",
     "iopub.status.busy": "2021-09-08T11:00:08.487467Z",
     "iopub.status.idle": "2021-09-08T11:00:08.492635Z",
     "shell.execute_reply": "2021-09-08T11:00:08.493922Z"
    },
    "papermill": {
     "duration": 0.040415,
     "end_time": "2021-09-08T11:00:08.494340",
     "exception": false,
     "start_time": "2021-09-08T11:00:08.453925",
     "status": "completed"
    },
    "tags": []
   },
   "outputs": [],
   "source": [
    "df_pivot.columns = [\"stamp_1\", \"stamp_2\"]\n",
    "df_pivot_diff = df_pivot.diff(axis=1)"
   ]
  },
  {
   "cell_type": "code",
   "execution_count": 7,
   "id": "fifth-motion",
   "metadata": {
    "execution": {
     "iopub.execute_input": "2021-09-08T11:00:08.548853Z",
     "iopub.status.busy": "2021-09-08T11:00:08.546208Z",
     "iopub.status.idle": "2021-09-08T11:00:10.071017Z",
     "shell.execute_reply": "2021-09-08T11:00:10.072247Z"
    },
    "papermill": {
     "duration": 1.558076,
     "end_time": "2021-09-08T11:00:10.072678",
     "exception": false,
     "start_time": "2021-09-08T11:00:08.514602",
     "status": "completed"
    },
    "tags": []
   },
   "outputs": [
    {
     "data": {
      "text/plain": [
       "<AxesSubplot:ylabel='PRODUCT'>"
      ]
     },
     "execution_count": 7,
     "metadata": {},
     "output_type": "execute_result"
    },
    {
     "data": {
      "image/png": "[encoded data removed]",
      "text/plain": [
       "<Figure size 432x288 with 1 Axes>"
      ]
     },
     "metadata": {
      "needs_background": "light"
     },
     "output_type": "display_data"
    }
   ],
   "source": [
    "df_pivot_diff.sort_values(\"stamp_2\", ascending = False)[\"stamp_2\"].head(10).plot.barh()"
   ]
  },
  {
   "cell_type": "code",
   "execution_count": null,
   "id": "extra-executive",
   "metadata": {
    "papermill": {
     "duration": 0.023176,
     "end_time": "2021-09-08T11:00:10.119304",
     "exception": false,
     "start_time": "2021-09-08T11:00:10.096128",
     "status": "completed"
    },
    "tags": []
   },
   "outputs": [],
   "source": []
  }
 ],
 "metadata": {
  "kernelspec": {
   "display_name": "Python 3",
   "language": "python",
   "name": "python3"
  },
  "language_info": {
   "codemirror_mode": {
    "name": "ipython",
    "version": 3
   },
   "file_extension": ".py",
   "mimetype": "text/x-python",
   "name": "python",
   "nbconvert_exporter": "python",
   "pygments_lexer": "ipython3",
   "version": "3.9.5"
  },
  "papermill": {
   "default_parameters": {},
   "duration": 6.484566,
   "end_time": "2021-09-08T11:00:10.759270",
   "environment_variables": {},
   "exception": null,
   "input_path": "eBay_Overview.ipynb",
   "output_path": "eBay_Overview.ipynb",
   "parameters": {},
   "start_time": "2021-09-08T11:00:04.274704",
   "version": "2.3.3"
  }
 },
 "nbformat": 4,
 "nbformat_minor": 5
}