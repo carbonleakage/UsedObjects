{
 "cells": [
  {
   "cell_type": "code",
   "execution_count": 1,
   "id": "reverse-picking",
   "metadata": {
    "execution": {
     "iopub.execute_input": "2021-11-20T20:00:07.869110Z",
     "iopub.status.busy": "2021-11-20T20:00:07.866811Z",
     "iopub.status.idle": "2021-11-20T20:00:08.829152Z",
     "shell.execute_reply": "2021-11-20T20:00:08.830799Z"
    },
    "papermill": {
     "duration": 1.009155,
     "end_time": "2021-11-20T20:00:08.831538",
     "exception": false,
     "start_time": "2021-11-20T20:00:07.822383",
     "status": "completed"
    },
    "tags": []
   },
   "outputs": [],
   "source": [
    "import pandas as pd\n",
    "import sqlite3"
   ]
  },
  {
   "cell_type": "code",
   "execution_count": 2,
   "id": "innovative-syndrome",
   "metadata": {
    "execution": {
     "iopub.execute_input": "2021-11-20T20:00:08.889322Z",
     "iopub.status.busy": "2021-11-20T20:00:08.887099Z",
     "iopub.status.idle": "2021-11-20T20:00:09.743330Z",
     "shell.execute_reply": "2021-11-20T20:00:09.744913Z"
    },
    "papermill": {
     "duration": 0.890201,
     "end_time": "2021-11-20T20:00:09.745432",
     "exception": false,
     "start_time": "2021-11-20T20:00:08.855231",
     "status": "completed"
    },
    "tags": []
   },
   "outputs": [],
   "source": [
    "timestamps = pd.read_sql(\"select distinct record_time from EBAY_TOP_BERLIN order by record_time desc limit 2\", sqlite3.connect(\"UsedObjects.db\"))"
   ]
  },
  {
   "cell_type": "code",
   "execution_count": 3,
   "id": "periodic-identification",
   "metadata": {
    "execution": {
     "iopub.execute_input": "2021-11-20T20:00:09.816913Z",
     "iopub.status.busy": "2021-11-20T20:00:09.811156Z",
     "iopub.status.idle": "2021-11-20T20:00:09.838248Z",
     "shell.execute_reply": "2021-11-20T20:00:09.839640Z"
    },
    "papermill": {
     "duration": 0.075059,
     "end_time": "2021-11-20T20:00:09.840103",
     "exception": false,
     "start_time": "2021-11-20T20:00:09.765044",
     "status": "completed"
    },
    "tags": []
   },
   "outputs": [
    {
     "data": {
      "text/html": [
       "<div>\n",
       "<style scoped>\n",
       "    .dataframe tbody tr th:only-of-type {\n",
       "        vertical-align: middle;\n",
       "    }\n",
       "\n",
       "    .dataframe tbody tr th {\n",
       "        vertical-align: top;\n",
       "    }\n",
       "\n",
       "    .dataframe thead th {\n",
       "        text-align: right;\n",
       "    }\n",
       "</style>\n",
       "<table border=\"1\" class=\"dataframe\">\n",
       "  <thead>\n",
       "    <tr style=\"text-align: right;\">\n",
       "      <th></th>\n",
       "      <th>RECORD_TIME</th>\n",
       "    </tr>\n",
       "  </thead>\n",
       "  <tbody>\n",
       "    <tr>\n",
       "      <th>0</th>\n",
       "      <td>2021-11-20 21:00</td>\n",
       "    </tr>\n",
       "    <tr>\n",
       "      <th>1</th>\n",
       "      <td>2021-11-20 20:30</td>\n",
       "    </tr>\n",
       "  </tbody>\n",
       "</table>\n",
       "</div>"
      ],
      "text/plain": [
       "        RECORD_TIME\n",
       "0  2021-11-20 21:00\n",
       "1  2021-11-20 20:30"
      ]
     },
     "execution_count": 3,
     "metadata": {},
     "output_type": "execute_result"
    }
   ],
   "source": [
    "timestamps"
   ]
  },
  {
   "cell_type": "code",
   "execution_count": 4,
   "id": "alternate-victory",
   "metadata": {
    "execution": {
     "iopub.execute_input": "2021-11-20T20:00:09.895222Z",
     "iopub.status.busy": "2021-11-20T20:00:09.893041Z",
     "iopub.status.idle": "2021-11-20T20:00:11.131613Z",
     "shell.execute_reply": "2021-11-20T20:00:11.133371Z"
    },
    "papermill": {
     "duration": 1.27215,
     "end_time": "2021-11-20T20:00:11.133881",
     "exception": false,
     "start_time": "2021-11-20T20:00:09.861731",
     "status": "completed"
    },
    "tags": []
   },
   "outputs": [],
   "source": [
    "df = pd.read_sql(\"select * from EBAY_TOP_BERLIN where record_time in (select distinct record_time from EBAY_TOP_BERLIN order by record_time desc limit 2)\", sqlite3.connect(\"UsedObjects.db\"))"
   ]
  },
  {
   "cell_type": "code",
   "execution_count": 5,
   "id": "popular-active",
   "metadata": {
    "execution": {
     "iopub.execute_input": "2021-11-20T20:00:11.213560Z",
     "iopub.status.busy": "2021-11-20T20:00:11.198464Z",
     "iopub.status.idle": "2021-11-20T20:00:11.235934Z",
     "shell.execute_reply": "2021-11-20T20:00:11.234331Z"
    },
    "papermill": {
     "duration": 0.079646,
     "end_time": "2021-11-20T20:00:11.236381",
     "exception": false,
     "start_time": "2021-11-20T20:00:11.156735",
     "status": "completed"
    },
    "tags": []
   },
   "outputs": [],
   "source": [
    "df_pivot = df.pivot_table(index=\"PRODUCT\", columns = \"RECORD_TIME\", values = \"LISTING_COUNT\")"
   ]
  },
  {
   "cell_type": "code",
   "execution_count": 6,
   "id": "union-huntington",
   "metadata": {
    "execution": {
     "iopub.execute_input": "2021-11-20T20:00:11.301234Z",
     "iopub.status.busy": "2021-11-20T20:00:11.297198Z",
     "iopub.status.idle": "2021-11-20T20:00:11.305626Z",
     "shell.execute_reply": "2021-11-20T20:00:11.307128Z"
    },
    "papermill": {
     "duration": 0.048302,
     "end_time": "2021-11-20T20:00:11.307660",
     "exception": false,
     "start_time": "2021-11-20T20:00:11.259358",
     "status": "completed"
    },
    "tags": []
   },
   "outputs": [],
   "source": [
    "df_pivot.columns = [\"stamp_1\", \"stamp_2\"]\n",
    "df_pivot_diff = df_pivot.diff(axis=1)"
   ]
  },
  {
   "cell_type": "code",
   "execution_count": 7,
   "id": "fifth-motion",
   "metadata": {
    "execution": {
     "iopub.execute_input": "2021-11-20T20:00:11.366784Z",
     "iopub.status.busy": "2021-11-20T20:00:11.363819Z",
     "iopub.status.idle": "2021-11-20T20:00:13.105751Z",
     "shell.execute_reply": "2021-11-20T20:00:13.107148Z"
    },
    "papermill": {
     "duration": 1.779049,
     "end_time": "2021-11-20T20:00:13.107618",
     "exception": false,
     "start_time": "2021-11-20T20:00:11.328569",
     "status": "completed"
    },
    "tags": []
   },
   "outputs": [
    {
     "data": {
      "text/plain": [
       "<AxesSubplot:ylabel='PRODUCT'>"
      ]
     },
     "execution_count": 7,
     "metadata": {},
     "output_type": "execute_result"
    },
    {
     "data": {
      "image/png": "[encoded data removed]",
      "text/plain": [
       "<Figure size 432x288 with 1 Axes>"
      ]
     },
     "metadata": {
      "needs_background": "light"
     },
     "output_type": "display_data"
    }
   ],
   "source": [
    "df_pivot_diff.sort_values(\"stamp_2\", ascending = False)[\"stamp_2\"].head(10).plot.barh()"
   ]
  },
  {
   "cell_type": "code",
   "execution_count": null,
   "id": "extra-executive",
   "metadata": {
    "papermill": {
     "duration": 0.023329,
     "end_time": "2021-11-20T20:00:13.155489",
     "exception": false,
     "start_time": "2021-11-20T20:00:13.132160",
     "status": "completed"
    },
    "tags": []
   },
   "outputs": [],
   "source": []
  }
 ],
 "metadata": {
  "kernelspec": {
   "display_name": "Python 3",
   "language": "python",
   "name": "python3"
  },
  "language_info": {
   "codemirror_mode": {
    "name": "ipython",
    "version": 3
   },
   "file_extension": ".py",
   "mimetype": "text/x-python",
   "name": "python",
   "nbconvert_exporter": "python",
   "pygments_lexer": "ipython3",
   "version": "3.9.5"
  },
  "papermill": {
   "default_parameters": {},
   "duration": 9.942911,
   "end_time": "2021-11-20T20:00:15.018240",
   "environment_variables": {},
   "exception": null,
   "input_path": "eBay_Overview.ipynb",
   "output_path": "eBay_Overview.ipynb",
   "parameters": {},
   "start_time": "2021-11-20T20:00:05.075329",
   "version": "2.3.3"
  }
 },
 "nbformat": 4,
 "nbformat_minor": 5
}