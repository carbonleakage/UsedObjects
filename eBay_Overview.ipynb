{
 "cells": [
  {
   "cell_type": "code",
   "execution_count": 1,
   "id": "reverse-picking",
   "metadata": {
    "execution": {
     "iopub.execute_input": "2021-10-09T04:30:06.953284Z",
     "iopub.status.busy": "2021-10-09T04:30:06.951348Z",
     "iopub.status.idle": "2021-10-09T04:30:07.760749Z",
     "shell.execute_reply": "2021-10-09T04:30:07.762157Z"
    },
    "papermill": {
     "duration": 0.861563,
     "end_time": "2021-10-09T04:30:07.762878",
     "exception": false,
     "start_time": "2021-10-09T04:30:06.901315",
     "status": "completed"
    },
    "tags": []
   },
   "outputs": [],
   "source": [
    "import pandas as pd\n",
    "import sqlite3"
   ]
  },
  {
   "cell_type": "code",
   "execution_count": 2,
   "id": "innovative-syndrome",
   "metadata": {
    "execution": {
     "iopub.execute_input": "2021-10-09T04:30:07.814900Z",
     "iopub.status.busy": "2021-10-09T04:30:07.812764Z",
     "iopub.status.idle": "2021-10-09T04:30:08.313798Z",
     "shell.execute_reply": "2021-10-09T04:30:08.314965Z"
    },
    "papermill": {
     "duration": 0.531473,
     "end_time": "2021-10-09T04:30:08.315399",
     "exception": false,
     "start_time": "2021-10-09T04:30:07.783926",
     "status": "completed"
    },
    "tags": []
   },
   "outputs": [],
   "source": [
    "timestamps = pd.read_sql(\"select distinct record_time from EBAY_TOP_BERLIN order by record_time desc limit 2\", sqlite3.connect(\"UsedObjects.db\"))"
   ]
  },
  {
   "cell_type": "code",
   "execution_count": 3,
   "id": "periodic-identification",
   "metadata": {
    "execution": {
     "iopub.execute_input": "2021-10-09T04:30:08.388715Z",
     "iopub.status.busy": "2021-10-09T04:30:08.386620Z",
     "iopub.status.idle": "2021-10-09T04:30:08.407329Z",
     "shell.execute_reply": "2021-10-09T04:30:08.408649Z"
    },
    "papermill": {
     "duration": 0.074559,
     "end_time": "2021-10-09T04:30:08.409073",
     "exception": false,
     "start_time": "2021-10-09T04:30:08.334514",
     "status": "completed"
    },
    "tags": []
   },
   "outputs": [
    {
     "data": {
      "text/html": [
       "<div>\n",
       "<style scoped>\n",
       "    .dataframe tbody tr th:only-of-type {\n",
       "        vertical-align: middle;\n",
       "    }\n",
       "\n",
       "    .dataframe tbody tr th {\n",
       "        vertical-align: top;\n",
       "    }\n",
       "\n",
       "    .dataframe thead th {\n",
       "        text-align: right;\n",
       "    }\n",
       "</style>\n",
       "<table border=\"1\" class=\"dataframe\">\n",
       "  <thead>\n",
       "    <tr style=\"text-align: right;\">\n",
       "      <th></th>\n",
       "      <th>RECORD_TIME</th>\n",
       "    </tr>\n",
       "  </thead>\n",
       "  <tbody>\n",
       "    <tr>\n",
       "      <th>0</th>\n",
       "      <td>2021-10-09 06:30</td>\n",
       "    </tr>\n",
       "    <tr>\n",
       "      <th>1</th>\n",
       "      <td>2021-10-09 06:00</td>\n",
       "    </tr>\n",
       "  </tbody>\n",
       "</table>\n",
       "</div>"
      ],
      "text/plain": [
       "        RECORD_TIME\n",
       "0  2021-10-09 06:30\n",
       "1  2021-10-09 06:00"
      ]
     },
     "execution_count": 3,
     "metadata": {},
     "output_type": "execute_result"
    }
   ],
   "source": [
    "timestamps"
   ]
  },
  {
   "cell_type": "code",
   "execution_count": 4,
   "id": "alternate-victory",
   "metadata": {
    "execution": {
     "iopub.execute_input": "2021-10-09T04:30:08.461073Z",
     "iopub.status.busy": "2021-10-09T04:30:08.458887Z",
     "iopub.status.idle": "2021-10-09T04:30:09.185214Z",
     "shell.execute_reply": "2021-10-09T04:30:09.186427Z"
    },
    "papermill": {
     "duration": 0.756429,
     "end_time": "2021-10-09T04:30:09.186885",
     "exception": false,
     "start_time": "2021-10-09T04:30:08.430456",
     "status": "completed"
    },
    "tags": []
   },
   "outputs": [],
   "source": [
    "df = pd.read_sql(\"select * from EBAY_TOP_BERLIN where record_time in (select distinct record_time from EBAY_TOP_BERLIN order by record_time desc limit 2)\", sqlite3.connect(\"UsedObjects.db\"))"
   ]
  },
  {
   "cell_type": "code",
   "execution_count": 5,
   "id": "popular-active",
   "metadata": {
    "execution": {
     "iopub.execute_input": "2021-10-09T04:30:09.257200Z",
     "iopub.status.busy": "2021-10-09T04:30:09.244782Z",
     "iopub.status.idle": "2021-10-09T04:30:09.273746Z",
     "shell.execute_reply": "2021-10-09T04:30:09.275117Z"
    },
    "papermill": {
     "duration": 0.068133,
     "end_time": "2021-10-09T04:30:09.275556",
     "exception": false,
     "start_time": "2021-10-09T04:30:09.207423",
     "status": "completed"
    },
    "tags": []
   },
   "outputs": [],
   "source": [
    "df_pivot = df.pivot_table(index=\"PRODUCT\", columns = \"RECORD_TIME\", values = \"LISTING_COUNT\")"
   ]
  },
  {
   "cell_type": "code",
   "execution_count": 6,
   "id": "union-huntington",
   "metadata": {
    "execution": {
     "iopub.execute_input": "2021-10-09T04:30:09.332603Z",
     "iopub.status.busy": "2021-10-09T04:30:09.330430Z",
     "iopub.status.idle": "2021-10-09T04:30:09.335881Z",
     "shell.execute_reply": "2021-10-09T04:30:09.337278Z"
    },
    "papermill": {
     "duration": 0.042143,
     "end_time": "2021-10-09T04:30:09.337722",
     "exception": false,
     "start_time": "2021-10-09T04:30:09.295579",
     "status": "completed"
    },
    "tags": []
   },
   "outputs": [],
   "source": [
    "df_pivot.columns = [\"stamp_1\", \"stamp_2\"]\n",
    "df_pivot_diff = df_pivot.diff(axis=1)"
   ]
  },
  {
   "cell_type": "code",
   "execution_count": 7,
   "id": "fifth-motion",
   "metadata": {
    "execution": {
     "iopub.execute_input": "2021-10-09T04:30:09.390888Z",
     "iopub.status.busy": "2021-10-09T04:30:09.388434Z",
     "iopub.status.idle": "2021-10-09T04:30:10.873847Z",
     "shell.execute_reply": "2021-10-09T04:30:10.875383Z"
    },
    "papermill": {
     "duration": 1.518604,
     "end_time": "2021-10-09T04:30:10.875869",
     "exception": false,
     "start_time": "2021-10-09T04:30:09.357265",
     "status": "completed"
    },
    "tags": []
   },
   "outputs": [
    {
     "data": {
      "text/plain": [
       "<AxesSubplot:ylabel='PRODUCT'>"
      ]
     },
     "execution_count": 7,
     "metadata": {},
     "output_type": "execute_result"
    },
    {
     "data": {
      "image/png": "[encoded data removed]",
      "text/plain": [
       "<Figure size 432x288 with 1 Axes>"
      ]
     },
     "metadata": {
      "needs_background": "light"
     },
     "output_type": "display_data"
    }
   ],
   "source": [
    "df_pivot_diff.sort_values(\"stamp_2\", ascending = False)[\"stamp_2\"].head(10).plot.barh()"
   ]
  },
  {
   "cell_type": "code",
   "execution_count": null,
   "id": "extra-executive",
   "metadata": {
    "papermill": {
     "duration": 0.022279,
     "end_time": "2021-10-09T04:30:10.922822",
     "exception": false,
     "start_time": "2021-10-09T04:30:10.900543",
     "status": "completed"
    },
    "tags": []
   },
   "outputs": [],
   "source": []
  }
 ],
 "metadata": {
  "kernelspec": {
   "display_name": "Python 3",
   "language": "python",
   "name": "python3"
  },
  "language_info": {
   "codemirror_mode": {
    "name": "ipython",
    "version": 3
   },
   "file_extension": ".py",
   "mimetype": "text/x-python",
   "name": "python",
   "nbconvert_exporter": "python",
   "pygments_lexer": "ipython3",
   "version": "3.9.5"
  },
  "papermill": {
   "default_parameters": {},
   "duration": 7.83875,
   "end_time": "2021-10-09T04:30:12.318327",
   "environment_variables": {},
   "exception": null,
   "input_path": "eBay_Overview.ipynb",
   "output_path": "eBay_Overview.ipynb",
   "parameters": {},
   "start_time": "2021-10-09T04:30:04.479577",
   "version": "2.3.3"
  }
 },
 "nbformat": 4,
 "nbformat_minor": 5
}