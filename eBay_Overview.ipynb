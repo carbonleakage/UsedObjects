{
 "cells": [
  {
   "cell_type": "code",
   "execution_count": 1,
   "id": "reverse-picking",
   "metadata": {
    "execution": {
     "iopub.execute_input": "2021-11-28T04:00:07.812516Z",
     "iopub.status.busy": "2021-11-28T04:00:07.810132Z",
     "iopub.status.idle": "2021-11-28T04:00:08.770302Z",
     "shell.execute_reply": "2021-11-28T04:00:08.772058Z"
    },
    "papermill": {
     "duration": 1.010439,
     "end_time": "2021-11-28T04:00:08.772846",
     "exception": false,
     "start_time": "2021-11-28T04:00:07.762407",
     "status": "completed"
    },
    "tags": []
   },
   "outputs": [],
   "source": [
    "import pandas as pd\n",
    "import sqlite3"
   ]
  },
  {
   "cell_type": "code",
   "execution_count": 2,
   "id": "innovative-syndrome",
   "metadata": {
    "execution": {
     "iopub.execute_input": "2021-11-28T04:00:08.837796Z",
     "iopub.status.busy": "2021-11-28T04:00:08.835301Z",
     "iopub.status.idle": "2021-11-28T04:00:09.787737Z",
     "shell.execute_reply": "2021-11-28T04:00:09.789621Z"
    },
    "papermill": {
     "duration": 0.987716,
     "end_time": "2021-11-28T04:00:09.790235",
     "exception": false,
     "start_time": "2021-11-28T04:00:08.802519",
     "status": "completed"
    },
    "tags": []
   },
   "outputs": [],
   "source": [
    "timestamps = pd.read_sql(\"select distinct record_time from EBAY_TOP_BERLIN order by record_time desc limit 2\", sqlite3.connect(\"UsedObjects.db\"))"
   ]
  },
  {
   "cell_type": "code",
   "execution_count": 3,
   "id": "periodic-identification",
   "metadata": {
    "execution": {
     "iopub.execute_input": "2021-11-28T04:00:09.860588Z",
     "iopub.status.busy": "2021-11-28T04:00:09.858074Z",
     "iopub.status.idle": "2021-11-28T04:00:09.878352Z",
     "shell.execute_reply": "2021-11-28T04:00:09.879576Z"
    },
    "papermill": {
     "duration": 0.065137,
     "end_time": "2021-11-28T04:00:09.879976",
     "exception": false,
     "start_time": "2021-11-28T04:00:09.814839",
     "status": "completed"
    },
    "tags": []
   },
   "outputs": [
    {
     "data": {
      "text/html": [
       "<div>\n",
       "<style scoped>\n",
       "    .dataframe tbody tr th:only-of-type {\n",
       "        vertical-align: middle;\n",
       "    }\n",
       "\n",
       "    .dataframe tbody tr th {\n",
       "        vertical-align: top;\n",
       "    }\n",
       "\n",
       "    .dataframe thead th {\n",
       "        text-align: right;\n",
       "    }\n",
       "</style>\n",
       "<table border=\"1\" class=\"dataframe\">\n",
       "  <thead>\n",
       "    <tr style=\"text-align: right;\">\n",
       "      <th></th>\n",
       "      <th>RECORD_TIME</th>\n",
       "    </tr>\n",
       "  </thead>\n",
       "  <tbody>\n",
       "    <tr>\n",
       "      <th>0</th>\n",
       "      <td>2021-11-28 05:00</td>\n",
       "    </tr>\n",
       "    <tr>\n",
       "      <th>1</th>\n",
       "      <td>2021-11-28 04:30</td>\n",
       "    </tr>\n",
       "  </tbody>\n",
       "</table>\n",
       "</div>"
      ],
      "text/plain": [
       "        RECORD_TIME\n",
       "0  2021-11-28 05:00\n",
       "1  2021-11-28 04:30"
      ]
     },
     "execution_count": 3,
     "metadata": {},
     "output_type": "execute_result"
    }
   ],
   "source": [
    "timestamps"
   ]
  },
  {
   "cell_type": "code",
   "execution_count": 4,
   "id": "alternate-victory",
   "metadata": {
    "execution": {
     "iopub.execute_input": "2021-11-28T04:00:09.934122Z",
     "iopub.status.busy": "2021-11-28T04:00:09.931694Z",
     "iopub.status.idle": "2021-11-28T04:00:11.300863Z",
     "shell.execute_reply": "2021-11-28T04:00:11.302255Z"
    },
    "papermill": {
     "duration": 1.399997,
     "end_time": "2021-11-28T04:00:11.302734",
     "exception": false,
     "start_time": "2021-11-28T04:00:09.902737",
     "status": "completed"
    },
    "tags": []
   },
   "outputs": [],
   "source": [
    "df = pd.read_sql(\"select * from EBAY_TOP_BERLIN where record_time in (select distinct record_time from EBAY_TOP_BERLIN order by record_time desc limit 2)\", sqlite3.connect(\"UsedObjects.db\"))"
   ]
  },
  {
   "cell_type": "code",
   "execution_count": 5,
   "id": "popular-active",
   "metadata": {
    "execution": {
     "iopub.execute_input": "2021-11-28T04:00:11.383718Z",
     "iopub.status.busy": "2021-11-28T04:00:11.368988Z",
     "iopub.status.idle": "2021-11-28T04:00:11.402628Z",
     "shell.execute_reply": "2021-11-28T04:00:11.404179Z"
    },
    "papermill": {
     "duration": 0.081352,
     "end_time": "2021-11-28T04:00:11.404814",
     "exception": false,
     "start_time": "2021-11-28T04:00:11.323462",
     "status": "completed"
    },
    "tags": []
   },
   "outputs": [],
   "source": [
    "df_pivot = df.pivot_table(index=\"PRODUCT\", columns = \"RECORD_TIME\", values = \"LISTING_COUNT\")"
   ]
  },
  {
   "cell_type": "code",
   "execution_count": 6,
   "id": "union-huntington",
   "metadata": {
    "execution": {
     "iopub.execute_input": "2021-11-28T04:00:11.473436Z",
     "iopub.status.busy": "2021-11-28T04:00:11.471098Z",
     "iopub.status.idle": "2021-11-28T04:00:11.475580Z",
     "shell.execute_reply": "2021-11-28T04:00:11.476764Z"
    },
    "papermill": {
     "duration": 0.050136,
     "end_time": "2021-11-28T04:00:11.477264",
     "exception": false,
     "start_time": "2021-11-28T04:00:11.427128",
     "status": "completed"
    },
    "tags": []
   },
   "outputs": [],
   "source": [
    "df_pivot.columns = [\"stamp_1\", \"stamp_2\"]\n",
    "df_pivot_diff = df_pivot.diff(axis=1)"
   ]
  },
  {
   "cell_type": "code",
   "execution_count": 7,
   "id": "fifth-motion",
   "metadata": {
    "execution": {
     "iopub.execute_input": "2021-11-28T04:00:11.534656Z",
     "iopub.status.busy": "2021-11-28T04:00:11.532116Z",
     "iopub.status.idle": "2021-11-28T04:00:13.511846Z",
     "shell.execute_reply": "2021-11-28T04:00:13.514565Z"
    },
    "papermill": {
     "duration": 2.017311,
     "end_time": "2021-11-28T04:00:13.515303",
     "exception": false,
     "start_time": "2021-11-28T04:00:11.497992",
     "status": "completed"
    },
    "tags": []
   },
   "outputs": [
    {
     "data": {
      "text/plain": [
       "<AxesSubplot:ylabel='PRODUCT'>"
      ]
     },
     "execution_count": 7,
     "metadata": {},
     "output_type": "execute_result"
    },
    {
     "data": {
      "image/png": "[encoded data removed]",
      "text/plain": [
       "<Figure size 432x288 with 1 Axes>"
      ]
     },
     "metadata": {
      "needs_background": "light"
     },
     "output_type": "display_data"
    }
   ],
   "source": [
    "df_pivot_diff.sort_values(\"stamp_2\", ascending = False)[\"stamp_2\"].head(10).plot.barh()"
   ]
  },
  {
   "cell_type": "code",
   "execution_count": null,
   "id": "extra-executive",
   "metadata": {
    "papermill": {
     "duration": 0.029146,
     "end_time": "2021-11-28T04:00:13.582255",
     "exception": false,
     "start_time": "2021-11-28T04:00:13.553109",
     "status": "completed"
    },
    "tags": []
   },
   "outputs": [],
   "source": []
  }
 ],
 "metadata": {
  "kernelspec": {
   "display_name": "Python 3",
   "language": "python",
   "name": "python3"
  },
  "language_info": {
   "codemirror_mode": {
    "name": "ipython",
    "version": 3
   },
   "file_extension": ".py",
   "mimetype": "text/x-python",
   "name": "python",
   "nbconvert_exporter": "python",
   "pygments_lexer": "ipython3",
   "version": "3.9.5"
  },
  "papermill": {
   "default_parameters": {},
   "duration": 9.935163,
   "end_time": "2021-11-28T04:00:14.970309",
   "environment_variables": {},
   "exception": null,
   "input_path": "eBay_Overview.ipynb",
   "output_path": "eBay_Overview.ipynb",
   "parameters": {},
   "start_time": "2021-11-28T04:00:05.035146",
   "version": "2.3.3"
  }
 },
 "nbformat": 4,
 "nbformat_minor": 5
}