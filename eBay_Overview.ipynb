{
 "cells": [
  {
   "cell_type": "code",
   "execution_count": 1,
   "id": "reverse-picking",
   "metadata": {
    "execution": {
     "iopub.execute_input": "2021-08-30T17:30:06.944807Z",
     "iopub.status.busy": "2021-08-30T17:30:06.942805Z",
     "iopub.status.idle": "2021-08-30T17:30:07.750483Z",
     "shell.execute_reply": "2021-08-30T17:30:07.748829Z"
    },
    "papermill": {
     "duration": 0.858415,
     "end_time": "2021-08-30T17:30:07.750909",
     "exception": false,
     "start_time": "2021-08-30T17:30:06.892494",
     "status": "completed"
    },
    "tags": []
   },
   "outputs": [],
   "source": [
    "import pandas as pd\n",
    "import sqlite3"
   ]
  },
  {
   "cell_type": "code",
   "execution_count": 2,
   "id": "innovative-syndrome",
   "metadata": {
    "execution": {
     "iopub.execute_input": "2021-08-30T17:30:07.802275Z",
     "iopub.status.busy": "2021-08-30T17:30:07.800378Z",
     "iopub.status.idle": "2021-08-30T17:30:07.965277Z",
     "shell.execute_reply": "2021-08-30T17:30:07.966495Z"
    },
    "papermill": {
     "duration": 0.194468,
     "end_time": "2021-08-30T17:30:07.966904",
     "exception": false,
     "start_time": "2021-08-30T17:30:07.772436",
     "status": "completed"
    },
    "tags": []
   },
   "outputs": [],
   "source": [
    "timestamps = pd.read_sql(\"select distinct record_time from EBAY_TOP_BERLIN order by record_time desc limit 2\", sqlite3.connect(\"UsedObjects.db\"))"
   ]
  },
  {
   "cell_type": "code",
   "execution_count": 3,
   "id": "periodic-identification",
   "metadata": {
    "execution": {
     "iopub.execute_input": "2021-08-30T17:30:08.031943Z",
     "iopub.status.busy": "2021-08-30T17:30:08.029931Z",
     "iopub.status.idle": "2021-08-30T17:30:08.050362Z",
     "shell.execute_reply": "2021-08-30T17:30:08.051639Z"
    },
    "papermill": {
     "duration": 0.063969,
     "end_time": "2021-08-30T17:30:08.052062",
     "exception": false,
     "start_time": "2021-08-30T17:30:07.988093",
     "status": "completed"
    },
    "tags": []
   },
   "outputs": [
    {
     "data": {
      "text/html": [
       "<div>\n",
       "<style scoped>\n",
       "    .dataframe tbody tr th:only-of-type {\n",
       "        vertical-align: middle;\n",
       "    }\n",
       "\n",
       "    .dataframe tbody tr th {\n",
       "        vertical-align: top;\n",
       "    }\n",
       "\n",
       "    .dataframe thead th {\n",
       "        text-align: right;\n",
       "    }\n",
       "</style>\n",
       "<table border=\"1\" class=\"dataframe\">\n",
       "  <thead>\n",
       "    <tr style=\"text-align: right;\">\n",
       "      <th></th>\n",
       "      <th>RECORD_TIME</th>\n",
       "    </tr>\n",
       "  </thead>\n",
       "  <tbody>\n",
       "    <tr>\n",
       "      <th>0</th>\n",
       "      <td>2021-08-30 19:30</td>\n",
       "    </tr>\n",
       "    <tr>\n",
       "      <th>1</th>\n",
       "      <td>2021-08-30 19:00</td>\n",
       "    </tr>\n",
       "  </tbody>\n",
       "</table>\n",
       "</div>"
      ],
      "text/plain": [
       "        RECORD_TIME\n",
       "0  2021-08-30 19:30\n",
       "1  2021-08-30 19:00"
      ]
     },
     "execution_count": 3,
     "metadata": {},
     "output_type": "execute_result"
    }
   ],
   "source": [
    "timestamps"
   ]
  },
  {
   "cell_type": "code",
   "execution_count": 4,
   "id": "alternate-victory",
   "metadata": {
    "execution": {
     "iopub.execute_input": "2021-08-30T17:30:08.106252Z",
     "iopub.status.busy": "2021-08-30T17:30:08.103991Z",
     "iopub.status.idle": "2021-08-30T17:30:08.355760Z",
     "shell.execute_reply": "2021-08-30T17:30:08.357231Z"
    },
    "papermill": {
     "duration": 0.282242,
     "end_time": "2021-08-30T17:30:08.357689",
     "exception": false,
     "start_time": "2021-08-30T17:30:08.075447",
     "status": "completed"
    },
    "tags": []
   },
   "outputs": [],
   "source": [
    "df = pd.read_sql(\"select * from EBAY_TOP_BERLIN where record_time in (select distinct record_time from EBAY_TOP_BERLIN order by record_time desc limit 2)\", sqlite3.connect(\"UsedObjects.db\"))"
   ]
  },
  {
   "cell_type": "code",
   "execution_count": 5,
   "id": "popular-active",
   "metadata": {
    "execution": {
     "iopub.execute_input": "2021-08-30T17:30:08.438119Z",
     "iopub.status.busy": "2021-08-30T17:30:08.426986Z",
     "iopub.status.idle": "2021-08-30T17:30:08.453884Z",
     "shell.execute_reply": "2021-08-30T17:30:08.455168Z"
    },
    "papermill": {
     "duration": 0.071125,
     "end_time": "2021-08-30T17:30:08.455588",
     "exception": false,
     "start_time": "2021-08-30T17:30:08.384463",
     "status": "completed"
    },
    "tags": []
   },
   "outputs": [],
   "source": [
    "df_pivot = df.pivot_table(index=\"PRODUCT\", columns = \"RECORD_TIME\", values = \"LISTING_COUNT\")"
   ]
  },
  {
   "cell_type": "code",
   "execution_count": 6,
   "id": "union-huntington",
   "metadata": {
    "execution": {
     "iopub.execute_input": "2021-08-30T17:30:08.513681Z",
     "iopub.status.busy": "2021-08-30T17:30:08.511480Z",
     "iopub.status.idle": "2021-08-30T17:30:08.517088Z",
     "shell.execute_reply": "2021-08-30T17:30:08.518470Z"
    },
    "papermill": {
     "duration": 0.041175,
     "end_time": "2021-08-30T17:30:08.518924",
     "exception": false,
     "start_time": "2021-08-30T17:30:08.477749",
     "status": "completed"
    },
    "tags": []
   },
   "outputs": [],
   "source": [
    "df_pivot.columns = [\"stamp_1\", \"stamp_2\"]\n",
    "df_pivot_diff = df_pivot.diff(axis=1)"
   ]
  },
  {
   "cell_type": "code",
   "execution_count": 7,
   "id": "fifth-motion",
   "metadata": {
    "execution": {
     "iopub.execute_input": "2021-08-30T17:30:08.576202Z",
     "iopub.status.busy": "2021-08-30T17:30:08.573576Z",
     "iopub.status.idle": "2021-08-30T17:30:10.035047Z",
     "shell.execute_reply": "2021-08-30T17:30:10.036416Z"
    },
    "papermill": {
     "duration": 1.495494,
     "end_time": "2021-08-30T17:30:10.036894",
     "exception": false,
     "start_time": "2021-08-30T17:30:08.541400",
     "status": "completed"
    },
    "tags": []
   },
   "outputs": [
    {
     "data": {
      "text/plain": [
       "<AxesSubplot:ylabel='PRODUCT'>"
      ]
     },
     "execution_count": 7,
     "metadata": {},
     "output_type": "execute_result"
    },
    {
     "data": {
      "image/png": "[encoded data removed]",
      "text/plain": [
       "<Figure size 432x288 with 1 Axes>"
      ]
     },
     "metadata": {
      "needs_background": "light"
     },
     "output_type": "display_data"
    }
   ],
   "source": [
    "df_pivot_diff.sort_values(\"stamp_2\", ascending = False)[\"stamp_2\"].head(10).plot.barh()"
   ]
  },
  {
   "cell_type": "code",
   "execution_count": null,
   "id": "extra-executive",
   "metadata": {
    "papermill": {
     "duration": 0.022406,
     "end_time": "2021-08-30T17:30:10.084441",
     "exception": false,
     "start_time": "2021-08-30T17:30:10.062035",
     "status": "completed"
    },
    "tags": []
   },
   "outputs": [],
   "source": []
  }
 ],
 "metadata": {
  "kernelspec": {
   "display_name": "Python 3",
   "language": "python",
   "name": "python3"
  },
  "language_info": {
   "codemirror_mode": {
    "name": "ipython",
    "version": 3
   },
   "file_extension": ".py",
   "mimetype": "text/x-python",
   "name": "python",
   "nbconvert_exporter": "python",
   "pygments_lexer": "ipython3",
   "version": "3.9.5"
  },
  "papermill": {
   "default_parameters": {},
   "duration": 6.819992,
   "end_time": "2021-08-30T17:30:11.308009",
   "environment_variables": {},
   "exception": null,
   "input_path": "eBay_Overview.ipynb",
   "output_path": "eBay_Overview.ipynb",
   "parameters": {},
   "start_time": "2021-08-30T17:30:04.488017",
   "version": "2.3.3"
  }
 },
 "nbformat": 4,
 "nbformat_minor": 5
}