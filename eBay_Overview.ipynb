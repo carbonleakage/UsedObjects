{
 "cells": [
  {
   "cell_type": "code",
   "execution_count": 1,
   "id": "reverse-picking",
   "metadata": {
    "execution": {
     "iopub.execute_input": "2021-11-04T20:30:08.045714Z",
     "iopub.status.busy": "2021-11-04T20:30:08.043454Z",
     "iopub.status.idle": "2021-11-04T20:30:08.994616Z",
     "shell.execute_reply": "2021-11-04T20:30:08.996884Z"
    },
    "papermill": {
     "duration": 0.998743,
     "end_time": "2021-11-04T20:30:08.997611",
     "exception": false,
     "start_time": "2021-11-04T20:30:07.998868",
     "status": "completed"
    },
    "tags": []
   },
   "outputs": [],
   "source": [
    "import pandas as pd\n",
    "import sqlite3"
   ]
  },
  {
   "cell_type": "code",
   "execution_count": 2,
   "id": "innovative-syndrome",
   "metadata": {
    "execution": {
     "iopub.execute_input": "2021-11-04T20:30:09.072196Z",
     "iopub.status.busy": "2021-11-04T20:30:09.069817Z",
     "iopub.status.idle": "2021-11-04T20:30:09.786458Z",
     "shell.execute_reply": "2021-11-04T20:30:09.787989Z"
    },
    "papermill": {
     "duration": 0.751096,
     "end_time": "2021-11-04T20:30:09.788460",
     "exception": false,
     "start_time": "2021-11-04T20:30:09.037364",
     "status": "completed"
    },
    "tags": []
   },
   "outputs": [],
   "source": [
    "timestamps = pd.read_sql(\"select distinct record_time from EBAY_TOP_BERLIN order by record_time desc limit 2\", sqlite3.connect(\"UsedObjects.db\"))"
   ]
  },
  {
   "cell_type": "code",
   "execution_count": 3,
   "id": "periodic-identification",
   "metadata": {
    "execution": {
     "iopub.execute_input": "2021-11-04T20:30:09.857389Z",
     "iopub.status.busy": "2021-11-04T20:30:09.854529Z",
     "iopub.status.idle": "2021-11-04T20:30:09.877977Z",
     "shell.execute_reply": "2021-11-04T20:30:09.875999Z"
    },
    "papermill": {
     "duration": 0.070156,
     "end_time": "2021-11-04T20:30:09.878378",
     "exception": false,
     "start_time": "2021-11-04T20:30:09.808222",
     "status": "completed"
    },
    "tags": []
   },
   "outputs": [
    {
     "data": {
      "text/html": [
       "<div>\n",
       "<style scoped>\n",
       "    .dataframe tbody tr th:only-of-type {\n",
       "        vertical-align: middle;\n",
       "    }\n",
       "\n",
       "    .dataframe tbody tr th {\n",
       "        vertical-align: top;\n",
       "    }\n",
       "\n",
       "    .dataframe thead th {\n",
       "        text-align: right;\n",
       "    }\n",
       "</style>\n",
       "<table border=\"1\" class=\"dataframe\">\n",
       "  <thead>\n",
       "    <tr style=\"text-align: right;\">\n",
       "      <th></th>\n",
       "      <th>RECORD_TIME</th>\n",
       "    </tr>\n",
       "  </thead>\n",
       "  <tbody>\n",
       "    <tr>\n",
       "      <th>0</th>\n",
       "      <td>2021-11-04 21:30</td>\n",
       "    </tr>\n",
       "    <tr>\n",
       "      <th>1</th>\n",
       "      <td>2021-11-04 21:00</td>\n",
       "    </tr>\n",
       "  </tbody>\n",
       "</table>\n",
       "</div>"
      ],
      "text/plain": [
       "        RECORD_TIME\n",
       "0  2021-11-04 21:30\n",
       "1  2021-11-04 21:00"
      ]
     },
     "execution_count": 3,
     "metadata": {},
     "output_type": "execute_result"
    }
   ],
   "source": [
    "timestamps"
   ]
  },
  {
   "cell_type": "code",
   "execution_count": 4,
   "id": "alternate-victory",
   "metadata": {
    "execution": {
     "iopub.execute_input": "2021-11-04T20:30:09.932005Z",
     "iopub.status.busy": "2021-11-04T20:30:09.929847Z",
     "iopub.status.idle": "2021-11-04T20:30:11.048033Z",
     "shell.execute_reply": "2021-11-04T20:30:11.050433Z"
    },
    "papermill": {
     "duration": 1.152314,
     "end_time": "2021-11-04T20:30:11.051009",
     "exception": false,
     "start_time": "2021-11-04T20:30:09.898695",
     "status": "completed"
    },
    "tags": []
   },
   "outputs": [],
   "source": [
    "df = pd.read_sql(\"select * from EBAY_TOP_BERLIN where record_time in (select distinct record_time from EBAY_TOP_BERLIN order by record_time desc limit 2)\", sqlite3.connect(\"UsedObjects.db\"))"
   ]
  },
  {
   "cell_type": "code",
   "execution_count": 5,
   "id": "popular-active",
   "metadata": {
    "execution": {
     "iopub.execute_input": "2021-11-04T20:30:11.119741Z",
     "iopub.status.busy": "2021-11-04T20:30:11.117214Z",
     "iopub.status.idle": "2021-11-04T20:30:11.149554Z",
     "shell.execute_reply": "2021-11-04T20:30:11.151230Z"
    },
    "papermill": {
     "duration": 0.078665,
     "end_time": "2021-11-04T20:30:11.151743",
     "exception": false,
     "start_time": "2021-11-04T20:30:11.073078",
     "status": "completed"
    },
    "tags": []
   },
   "outputs": [],
   "source": [
    "df_pivot = df.pivot_table(index=\"PRODUCT\", columns = \"RECORD_TIME\", values = \"LISTING_COUNT\")"
   ]
  },
  {
   "cell_type": "code",
   "execution_count": 6,
   "id": "union-huntington",
   "metadata": {
    "execution": {
     "iopub.execute_input": "2021-11-04T20:30:11.215158Z",
     "iopub.status.busy": "2021-11-04T20:30:11.212921Z",
     "iopub.status.idle": "2021-11-04T20:30:11.218450Z",
     "shell.execute_reply": "2021-11-04T20:30:11.220074Z"
    },
    "papermill": {
     "duration": 0.045324,
     "end_time": "2021-11-04T20:30:11.220554",
     "exception": false,
     "start_time": "2021-11-04T20:30:11.175230",
     "status": "completed"
    },
    "tags": []
   },
   "outputs": [],
   "source": [
    "df_pivot.columns = [\"stamp_1\", \"stamp_2\"]\n",
    "df_pivot_diff = df_pivot.diff(axis=1)"
   ]
  },
  {
   "cell_type": "code",
   "execution_count": 7,
   "id": "fifth-motion",
   "metadata": {
    "execution": {
     "iopub.execute_input": "2021-11-04T20:30:11.280149Z",
     "iopub.status.busy": "2021-11-04T20:30:11.277742Z",
     "iopub.status.idle": "2021-11-04T20:30:13.052181Z",
     "shell.execute_reply": "2021-11-04T20:30:13.050515Z"
    },
    "papermill": {
     "duration": 1.810905,
     "end_time": "2021-11-04T20:30:13.052973",
     "exception": false,
     "start_time": "2021-11-04T20:30:11.242068",
     "status": "completed"
    },
    "tags": []
   },
   "outputs": [
    {
     "data": {
      "text/plain": [
       "<AxesSubplot:ylabel='PRODUCT'>"
      ]
     },
     "execution_count": 7,
     "metadata": {},
     "output_type": "execute_result"
    },
    {
     "data": {
      "image/png": "[encoded data removed]",
      "text/plain": [
       "<Figure size 432x288 with 1 Axes>"
      ]
     },
     "metadata": {
      "needs_background": "light"
     },
     "output_type": "display_data"
    }
   ],
   "source": [
    "df_pivot_diff.sort_values(\"stamp_2\", ascending = False)[\"stamp_2\"].head(10).plot.barh()"
   ]
  },
  {
   "cell_type": "code",
   "execution_count": null,
   "id": "extra-executive",
   "metadata": {
    "papermill": {
     "duration": 0.023438,
     "end_time": "2021-11-04T20:30:13.104737",
     "exception": false,
     "start_time": "2021-11-04T20:30:13.081299",
     "status": "completed"
    },
    "tags": []
   },
   "outputs": [],
   "source": []
  }
 ],
 "metadata": {
  "kernelspec": {
   "display_name": "Python 3",
   "language": "python",
   "name": "python3"
  },
  "language_info": {
   "codemirror_mode": {
    "name": "ipython",
    "version": 3
   },
   "file_extension": ".py",
   "mimetype": "text/x-python",
   "name": "python",
   "nbconvert_exporter": "python",
   "pygments_lexer": "ipython3",
   "version": "3.9.5"
  },
  "papermill": {
   "default_parameters": {},
   "duration": 8.929215,
   "end_time": "2021-11-04T20:30:14.161611",
   "environment_variables": {},
   "exception": null,
   "input_path": "eBay_Overview.ipynb",
   "output_path": "eBay_Overview.ipynb",
   "parameters": {},
   "start_time": "2021-11-04T20:30:05.232396",
   "version": "2.3.3"
  }
 },
 "nbformat": 4,
 "nbformat_minor": 5
}