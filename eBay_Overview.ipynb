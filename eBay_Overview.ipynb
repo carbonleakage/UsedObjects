{
 "cells": [
  {
   "cell_type": "code",
   "execution_count": 1,
   "id": "reverse-picking",
   "metadata": {
    "execution": {
     "iopub.execute_input": "2021-11-10T01:00:07.314368Z",
     "iopub.status.busy": "2021-11-10T01:00:07.312070Z",
     "iopub.status.idle": "2021-11-10T01:00:08.270822Z",
     "shell.execute_reply": "2021-11-10T01:00:08.273068Z"
    },
    "papermill": {
     "duration": 1.006652,
     "end_time": "2021-11-10T01:00:08.273842",
     "exception": false,
     "start_time": "2021-11-10T01:00:07.267190",
     "status": "completed"
    },
    "tags": []
   },
   "outputs": [],
   "source": [
    "import pandas as pd\n",
    "import sqlite3"
   ]
  },
  {
   "cell_type": "code",
   "execution_count": 2,
   "id": "innovative-syndrome",
   "metadata": {
    "execution": {
     "iopub.execute_input": "2021-11-10T01:00:08.339733Z",
     "iopub.status.busy": "2021-11-10T01:00:08.337470Z",
     "iopub.status.idle": "2021-11-10T01:00:09.118360Z",
     "shell.execute_reply": "2021-11-10T01:00:09.119917Z"
    },
    "papermill": {
     "duration": 0.814986,
     "end_time": "2021-11-10T01:00:09.120387",
     "exception": false,
     "start_time": "2021-11-10T01:00:08.305401",
     "status": "completed"
    },
    "tags": []
   },
   "outputs": [],
   "source": [
    "timestamps = pd.read_sql(\"select distinct record_time from EBAY_TOP_BERLIN order by record_time desc limit 2\", sqlite3.connect(\"UsedObjects.db\"))"
   ]
  },
  {
   "cell_type": "code",
   "execution_count": 3,
   "id": "periodic-identification",
   "metadata": {
    "execution": {
     "iopub.execute_input": "2021-11-10T01:00:09.192755Z",
     "iopub.status.busy": "2021-11-10T01:00:09.187386Z",
     "iopub.status.idle": "2021-11-10T01:00:09.209831Z",
     "shell.execute_reply": "2021-11-10T01:00:09.211300Z"
    },
    "papermill": {
     "duration": 0.07119,
     "end_time": "2021-11-10T01:00:09.211818",
     "exception": false,
     "start_time": "2021-11-10T01:00:09.140628",
     "status": "completed"
    },
    "tags": []
   },
   "outputs": [
    {
     "data": {
      "text/html": [
       "<div>\n",
       "<style scoped>\n",
       "    .dataframe tbody tr th:only-of-type {\n",
       "        vertical-align: middle;\n",
       "    }\n",
       "\n",
       "    .dataframe tbody tr th {\n",
       "        vertical-align: top;\n",
       "    }\n",
       "\n",
       "    .dataframe thead th {\n",
       "        text-align: right;\n",
       "    }\n",
       "</style>\n",
       "<table border=\"1\" class=\"dataframe\">\n",
       "  <thead>\n",
       "    <tr style=\"text-align: right;\">\n",
       "      <th></th>\n",
       "      <th>RECORD_TIME</th>\n",
       "    </tr>\n",
       "  </thead>\n",
       "  <tbody>\n",
       "    <tr>\n",
       "      <th>0</th>\n",
       "      <td>2021-11-10 02:00</td>\n",
       "    </tr>\n",
       "    <tr>\n",
       "      <th>1</th>\n",
       "      <td>2021-11-10 01:30</td>\n",
       "    </tr>\n",
       "  </tbody>\n",
       "</table>\n",
       "</div>"
      ],
      "text/plain": [
       "        RECORD_TIME\n",
       "0  2021-11-10 02:00\n",
       "1  2021-11-10 01:30"
      ]
     },
     "execution_count": 3,
     "metadata": {},
     "output_type": "execute_result"
    }
   ],
   "source": [
    "timestamps"
   ]
  },
  {
   "cell_type": "code",
   "execution_count": 4,
   "id": "alternate-victory",
   "metadata": {
    "execution": {
     "iopub.execute_input": "2021-11-10T01:00:09.267386Z",
     "iopub.status.busy": "2021-11-10T01:00:09.265264Z",
     "iopub.status.idle": "2021-11-10T01:00:10.397415Z",
     "shell.execute_reply": "2021-11-10T01:00:10.399580Z"
    },
    "papermill": {
     "duration": 1.166655,
     "end_time": "2021-11-10T01:00:10.400071",
     "exception": false,
     "start_time": "2021-11-10T01:00:09.233416",
     "status": "completed"
    },
    "tags": []
   },
   "outputs": [],
   "source": [
    "df = pd.read_sql(\"select * from EBAY_TOP_BERLIN where record_time in (select distinct record_time from EBAY_TOP_BERLIN order by record_time desc limit 2)\", sqlite3.connect(\"UsedObjects.db\"))"
   ]
  },
  {
   "cell_type": "code",
   "execution_count": 5,
   "id": "popular-active",
   "metadata": {
    "execution": {
     "iopub.execute_input": "2021-11-10T01:00:10.481342Z",
     "iopub.status.busy": "2021-11-10T01:00:10.465990Z",
     "iopub.status.idle": "2021-11-10T01:00:10.500670Z",
     "shell.execute_reply": "2021-11-10T01:00:10.503480Z"
    },
    "papermill": {
     "duration": 0.08028,
     "end_time": "2021-11-10T01:00:10.503996",
     "exception": false,
     "start_time": "2021-11-10T01:00:10.423716",
     "status": "completed"
    },
    "tags": []
   },
   "outputs": [],
   "source": [
    "df_pivot = df.pivot_table(index=\"PRODUCT\", columns = \"RECORD_TIME\", values = \"LISTING_COUNT\")"
   ]
  },
  {
   "cell_type": "code",
   "execution_count": 6,
   "id": "union-huntington",
   "metadata": {
    "execution": {
     "iopub.execute_input": "2021-11-10T01:00:10.563551Z",
     "iopub.status.busy": "2021-11-10T01:00:10.561360Z",
     "iopub.status.idle": "2021-11-10T01:00:10.566887Z",
     "shell.execute_reply": "2021-11-10T01:00:10.568313Z"
    },
    "papermill": {
     "duration": 0.043091,
     "end_time": "2021-11-10T01:00:10.568845",
     "exception": false,
     "start_time": "2021-11-10T01:00:10.525754",
     "status": "completed"
    },
    "tags": []
   },
   "outputs": [],
   "source": [
    "df_pivot.columns = [\"stamp_1\", \"stamp_2\"]\n",
    "df_pivot_diff = df_pivot.diff(axis=1)"
   ]
  },
  {
   "cell_type": "code",
   "execution_count": 7,
   "id": "fifth-motion",
   "metadata": {
    "execution": {
     "iopub.execute_input": "2021-11-10T01:00:10.635453Z",
     "iopub.status.busy": "2021-11-10T01:00:10.622447Z",
     "iopub.status.idle": "2021-11-10T01:00:12.355911Z",
     "shell.execute_reply": "2021-11-10T01:00:12.358793Z"
    },
    "papermill": {
     "duration": 1.770634,
     "end_time": "2021-11-10T01:00:12.359704",
     "exception": false,
     "start_time": "2021-11-10T01:00:10.589070",
     "status": "completed"
    },
    "tags": []
   },
   "outputs": [
    {
     "data": {
      "text/plain": [
       "<AxesSubplot:ylabel='PRODUCT'>"
      ]
     },
     "execution_count": 7,
     "metadata": {},
     "output_type": "execute_result"
    },
    {
     "data": {
      "image/png": "[encoded data removed]",
      "text/plain": [
       "<Figure size 432x288 with 1 Axes>"
      ]
     },
     "metadata": {
      "needs_background": "light"
     },
     "output_type": "display_data"
    }
   ],
   "source": [
    "df_pivot_diff.sort_values(\"stamp_2\", ascending = False)[\"stamp_2\"].head(10).plot.barh()"
   ]
  },
  {
   "cell_type": "code",
   "execution_count": null,
   "id": "extra-executive",
   "metadata": {
    "papermill": {
     "duration": 0.032642,
     "end_time": "2021-11-10T01:00:12.429148",
     "exception": false,
     "start_time": "2021-11-10T01:00:12.396506",
     "status": "completed"
    },
    "tags": []
   },
   "outputs": [],
   "source": []
  }
 ],
 "metadata": {
  "kernelspec": {
   "display_name": "Python 3",
   "language": "python",
   "name": "python3"
  },
  "language_info": {
   "codemirror_mode": {
    "name": "ipython",
    "version": 3
   },
   "file_extension": ".py",
   "mimetype": "text/x-python",
   "name": "python",
   "nbconvert_exporter": "python",
   "pygments_lexer": "ipython3",
   "version": "3.9.5"
  },
  "papermill": {
   "default_parameters": {},
   "duration": 8.756234,
   "end_time": "2021-11-10T01:00:13.306172",
   "environment_variables": {},
   "exception": null,
   "input_path": "eBay_Overview.ipynb",
   "output_path": "eBay_Overview.ipynb",
   "parameters": {},
   "start_time": "2021-11-10T01:00:04.549938",
   "version": "2.3.3"
  }
 },
 "nbformat": 4,
 "nbformat_minor": 5
}