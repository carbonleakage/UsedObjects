{
 "cells": [
  {
   "cell_type": "code",
   "execution_count": 1,
   "id": "reverse-picking",
   "metadata": {
    "execution": {
     "iopub.execute_input": "2021-08-27T06:30:07.129941Z",
     "iopub.status.busy": "2021-08-27T06:30:07.127912Z",
     "iopub.status.idle": "2021-08-27T06:30:07.930701Z",
     "shell.execute_reply": "2021-08-27T06:30:07.931968Z"
    },
    "papermill": {
     "duration": 0.85342,
     "end_time": "2021-08-27T06:30:07.932662",
     "exception": false,
     "start_time": "2021-08-27T06:30:07.079242",
     "status": "completed"
    },
    "tags": []
   },
   "outputs": [],
   "source": [
    "import pandas as pd\n",
    "import sqlite3"
   ]
  },
  {
   "cell_type": "code",
   "execution_count": 2,
   "id": "innovative-syndrome",
   "metadata": {
    "execution": {
     "iopub.execute_input": "2021-08-27T06:30:07.984895Z",
     "iopub.status.busy": "2021-08-27T06:30:07.982889Z",
     "iopub.status.idle": "2021-08-27T06:30:08.129399Z",
     "shell.execute_reply": "2021-08-27T06:30:08.130900Z"
    },
    "papermill": {
     "duration": 0.176265,
     "end_time": "2021-08-27T06:30:08.131370",
     "exception": false,
     "start_time": "2021-08-27T06:30:07.955105",
     "status": "completed"
    },
    "tags": []
   },
   "outputs": [],
   "source": [
    "timestamps = pd.read_sql(\"select distinct record_time from EBAY_TOP_BERLIN order by record_time desc limit 2\", sqlite3.connect(\"UsedObjects.db\"))"
   ]
  },
  {
   "cell_type": "code",
   "execution_count": 3,
   "id": "periodic-identification",
   "metadata": {
    "execution": {
     "iopub.execute_input": "2021-08-27T06:30:08.198000Z",
     "iopub.status.busy": "2021-08-27T06:30:08.195923Z",
     "iopub.status.idle": "2021-08-27T06:30:08.215479Z",
     "shell.execute_reply": "2021-08-27T06:30:08.216864Z"
    },
    "papermill": {
     "duration": 0.064721,
     "end_time": "2021-08-27T06:30:08.217309",
     "exception": false,
     "start_time": "2021-08-27T06:30:08.152588",
     "status": "completed"
    },
    "tags": []
   },
   "outputs": [
    {
     "data": {
      "text/html": [
       "<div>\n",
       "<style scoped>\n",
       "    .dataframe tbody tr th:only-of-type {\n",
       "        vertical-align: middle;\n",
       "    }\n",
       "\n",
       "    .dataframe tbody tr th {\n",
       "        vertical-align: top;\n",
       "    }\n",
       "\n",
       "    .dataframe thead th {\n",
       "        text-align: right;\n",
       "    }\n",
       "</style>\n",
       "<table border=\"1\" class=\"dataframe\">\n",
       "  <thead>\n",
       "    <tr style=\"text-align: right;\">\n",
       "      <th></th>\n",
       "      <th>RECORD_TIME</th>\n",
       "    </tr>\n",
       "  </thead>\n",
       "  <tbody>\n",
       "    <tr>\n",
       "      <th>0</th>\n",
       "      <td>2021-08-27 08:30</td>\n",
       "    </tr>\n",
       "    <tr>\n",
       "      <th>1</th>\n",
       "      <td>2021-08-27 08:00</td>\n",
       "    </tr>\n",
       "  </tbody>\n",
       "</table>\n",
       "</div>"
      ],
      "text/plain": [
       "        RECORD_TIME\n",
       "0  2021-08-27 08:30\n",
       "1  2021-08-27 08:00"
      ]
     },
     "execution_count": 3,
     "metadata": {},
     "output_type": "execute_result"
    }
   ],
   "source": [
    "timestamps"
   ]
  },
  {
   "cell_type": "code",
   "execution_count": 4,
   "id": "alternate-victory",
   "metadata": {
    "execution": {
     "iopub.execute_input": "2021-08-27T06:30:08.270092Z",
     "iopub.status.busy": "2021-08-27T06:30:08.267688Z",
     "iopub.status.idle": "2021-08-27T06:30:08.481630Z",
     "shell.execute_reply": "2021-08-27T06:30:08.482944Z"
    },
    "papermill": {
     "duration": 0.24442,
     "end_time": "2021-08-27T06:30:08.483360",
     "exception": false,
     "start_time": "2021-08-27T06:30:08.238940",
     "status": "completed"
    },
    "tags": []
   },
   "outputs": [],
   "source": [
    "df = pd.read_sql(\"select * from EBAY_TOP_BERLIN where record_time in (select distinct record_time from EBAY_TOP_BERLIN order by record_time desc limit 2)\", sqlite3.connect(\"UsedObjects.db\"))"
   ]
  },
  {
   "cell_type": "code",
   "execution_count": 5,
   "id": "popular-active",
   "metadata": {
    "execution": {
     "iopub.execute_input": "2021-08-27T06:30:08.553611Z",
     "iopub.status.busy": "2021-08-27T06:30:08.542645Z",
     "iopub.status.idle": "2021-08-27T06:30:08.568996Z",
     "shell.execute_reply": "2021-08-27T06:30:08.570251Z"
    },
    "papermill": {
     "duration": 0.066526,
     "end_time": "2021-08-27T06:30:08.570649",
     "exception": false,
     "start_time": "2021-08-27T06:30:08.504123",
     "status": "completed"
    },
    "tags": []
   },
   "outputs": [],
   "source": [
    "df_pivot = df.pivot_table(index=\"PRODUCT\", columns = \"RECORD_TIME\", values = \"LISTING_COUNT\")"
   ]
  },
  {
   "cell_type": "code",
   "execution_count": 6,
   "id": "union-huntington",
   "metadata": {
    "execution": {
     "iopub.execute_input": "2021-08-27T06:30:08.637097Z",
     "iopub.status.busy": "2021-08-27T06:30:08.634852Z",
     "iopub.status.idle": "2021-08-27T06:30:08.640669Z",
     "shell.execute_reply": "2021-08-27T06:30:08.642120Z"
    },
    "papermill": {
     "duration": 0.044698,
     "end_time": "2021-08-27T06:30:08.642622",
     "exception": false,
     "start_time": "2021-08-27T06:30:08.597924",
     "status": "completed"
    },
    "tags": []
   },
   "outputs": [],
   "source": [
    "df_pivot.columns = [\"stamp_1\", \"stamp_2\"]\n",
    "df_pivot_diff = df_pivot.diff(axis=1)"
   ]
  },
  {
   "cell_type": "code",
   "execution_count": 7,
   "id": "fifth-motion",
   "metadata": {
    "execution": {
     "iopub.execute_input": "2021-08-27T06:30:08.698072Z",
     "iopub.status.busy": "2021-08-27T06:30:08.695633Z",
     "iopub.status.idle": "2021-08-27T06:30:10.182548Z",
     "shell.execute_reply": "2021-08-27T06:30:10.183932Z"
    },
    "papermill": {
     "duration": 1.520155,
     "end_time": "2021-08-27T06:30:10.184431",
     "exception": false,
     "start_time": "2021-08-27T06:30:08.664276",
     "status": "completed"
    },
    "tags": []
   },
   "outputs": [
    {
     "data": {
      "text/plain": [
       "<AxesSubplot:ylabel='PRODUCT'>"
      ]
     },
     "execution_count": 7,
     "metadata": {},
     "output_type": "execute_result"
    },
    {
     "data": {
      "image/png": "[encoded data removed]",
      "text/plain": [
       "<Figure size 432x288 with 1 Axes>"
      ]
     },
     "metadata": {
      "needs_background": "light"
     },
     "output_type": "display_data"
    }
   ],
   "source": [
    "df_pivot_diff.sort_values(\"stamp_2\", ascending = False)[\"stamp_2\"].head(10).plot.barh()"
   ]
  },
  {
   "cell_type": "code",
   "execution_count": null,
   "id": "extra-executive",
   "metadata": {
    "papermill": {
     "duration": 0.02218,
     "end_time": "2021-08-27T06:30:10.230710",
     "exception": false,
     "start_time": "2021-08-27T06:30:10.208530",
     "status": "completed"
    },
    "tags": []
   },
   "outputs": [],
   "source": []
  }
 ],
 "metadata": {
  "kernelspec": {
   "display_name": "Python 3",
   "language": "python",
   "name": "python3"
  },
  "language_info": {
   "codemirror_mode": {
    "name": "ipython",
    "version": 3
   },
   "file_extension": ".py",
   "mimetype": "text/x-python",
   "name": "python",
   "nbconvert_exporter": "python",
   "pygments_lexer": "ipython3",
   "version": "3.9.5"
  },
  "papermill": {
   "default_parameters": {},
   "duration": 6.826493,
   "end_time": "2021-08-27T06:30:11.507253",
   "environment_variables": {},
   "exception": null,
   "input_path": "eBay_Overview.ipynb",
   "output_path": "eBay_Overview.ipynb",
   "parameters": {},
   "start_time": "2021-08-27T06:30:04.680760",
   "version": "2.3.3"
  }
 },
 "nbformat": 4,
 "nbformat_minor": 5
}