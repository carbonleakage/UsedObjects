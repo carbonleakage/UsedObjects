{
 "cells": [
  {
   "cell_type": "code",
   "execution_count": 1,
   "id": "reverse-picking",
   "metadata": {
    "execution": {
     "iopub.execute_input": "2021-10-04T13:30:08.468708Z",
     "iopub.status.busy": "2021-10-04T13:30:08.466721Z",
     "iopub.status.idle": "2021-10-04T13:30:10.438484Z",
     "shell.execute_reply": "2021-10-04T13:30:10.440215Z"
    },
    "papermill": {
     "duration": 2.024787,
     "end_time": "2021-10-04T13:30:10.440998",
     "exception": false,
     "start_time": "2021-10-04T13:30:08.416211",
     "status": "completed"
    },
    "tags": []
   },
   "outputs": [],
   "source": [
    "import pandas as pd\n",
    "import sqlite3"
   ]
  },
  {
   "cell_type": "code",
   "execution_count": 2,
   "id": "innovative-syndrome",
   "metadata": {
    "execution": {
     "iopub.execute_input": "2021-10-04T13:30:10.492627Z",
     "iopub.status.busy": "2021-10-04T13:30:10.490507Z",
     "iopub.status.idle": "2021-10-04T13:30:11.141881Z",
     "shell.execute_reply": "2021-10-04T13:30:11.143428Z"
    },
    "papermill": {
     "duration": 0.681367,
     "end_time": "2021-10-04T13:30:11.143928",
     "exception": false,
     "start_time": "2021-10-04T13:30:10.462561",
     "status": "completed"
    },
    "tags": []
   },
   "outputs": [],
   "source": [
    "timestamps = pd.read_sql(\"select distinct record_time from EBAY_TOP_BERLIN order by record_time desc limit 2\", sqlite3.connect(\"UsedObjects.db\"))"
   ]
  },
  {
   "cell_type": "code",
   "execution_count": 3,
   "id": "periodic-identification",
   "metadata": {
    "execution": {
     "iopub.execute_input": "2021-10-04T13:30:11.209179Z",
     "iopub.status.busy": "2021-10-04T13:30:11.207043Z",
     "iopub.status.idle": "2021-10-04T13:30:11.230150Z",
     "shell.execute_reply": "2021-10-04T13:30:11.231491Z"
    },
    "papermill": {
     "duration": 0.068138,
     "end_time": "2021-10-04T13:30:11.231938",
     "exception": false,
     "start_time": "2021-10-04T13:30:11.163800",
     "status": "completed"
    },
    "tags": []
   },
   "outputs": [
    {
     "data": {
      "text/html": [
       "<div>\n",
       "<style scoped>\n",
       "    .dataframe tbody tr th:only-of-type {\n",
       "        vertical-align: middle;\n",
       "    }\n",
       "\n",
       "    .dataframe tbody tr th {\n",
       "        vertical-align: top;\n",
       "    }\n",
       "\n",
       "    .dataframe thead th {\n",
       "        text-align: right;\n",
       "    }\n",
       "</style>\n",
       "<table border=\"1\" class=\"dataframe\">\n",
       "  <thead>\n",
       "    <tr style=\"text-align: right;\">\n",
       "      <th></th>\n",
       "      <th>RECORD_TIME</th>\n",
       "    </tr>\n",
       "  </thead>\n",
       "  <tbody>\n",
       "    <tr>\n",
       "      <th>0</th>\n",
       "      <td>2021-10-04 15:30</td>\n",
       "    </tr>\n",
       "    <tr>\n",
       "      <th>1</th>\n",
       "      <td>2021-10-04 15:00</td>\n",
       "    </tr>\n",
       "  </tbody>\n",
       "</table>\n",
       "</div>"
      ],
      "text/plain": [
       "        RECORD_TIME\n",
       "0  2021-10-04 15:30\n",
       "1  2021-10-04 15:00"
      ]
     },
     "execution_count": 3,
     "metadata": {},
     "output_type": "execute_result"
    }
   ],
   "source": [
    "timestamps"
   ]
  },
  {
   "cell_type": "code",
   "execution_count": 4,
   "id": "alternate-victory",
   "metadata": {
    "execution": {
     "iopub.execute_input": "2021-10-04T13:30:11.285415Z",
     "iopub.status.busy": "2021-10-04T13:30:11.283379Z",
     "iopub.status.idle": "2021-10-04T13:30:11.933736Z",
     "shell.execute_reply": "2021-10-04T13:30:11.935035Z"
    },
    "papermill": {
     "duration": 0.681166,
     "end_time": "2021-10-04T13:30:11.935506",
     "exception": false,
     "start_time": "2021-10-04T13:30:11.254340",
     "status": "completed"
    },
    "tags": []
   },
   "outputs": [],
   "source": [
    "df = pd.read_sql(\"select * from EBAY_TOP_BERLIN where record_time in (select distinct record_time from EBAY_TOP_BERLIN order by record_time desc limit 2)\", sqlite3.connect(\"UsedObjects.db\"))"
   ]
  },
  {
   "cell_type": "code",
   "execution_count": 5,
   "id": "popular-active",
   "metadata": {
    "execution": {
     "iopub.execute_input": "2021-10-04T13:30:12.023442Z",
     "iopub.status.busy": "2021-10-04T13:30:12.007226Z",
     "iopub.status.idle": "2021-10-04T13:30:12.074131Z",
     "shell.execute_reply": "2021-10-04T13:30:12.072666Z"
    },
    "papermill": {
     "duration": 0.118229,
     "end_time": "2021-10-04T13:30:12.074512",
     "exception": false,
     "start_time": "2021-10-04T13:30:11.956283",
     "status": "completed"
    },
    "tags": []
   },
   "outputs": [],
   "source": [
    "df_pivot = df.pivot_table(index=\"PRODUCT\", columns = \"RECORD_TIME\", values = \"LISTING_COUNT\")"
   ]
  },
  {
   "cell_type": "code",
   "execution_count": 6,
   "id": "union-huntington",
   "metadata": {
    "execution": {
     "iopub.execute_input": "2021-10-04T13:30:12.134583Z",
     "iopub.status.busy": "2021-10-04T13:30:12.132311Z",
     "iopub.status.idle": "2021-10-04T13:30:12.138104Z",
     "shell.execute_reply": "2021-10-04T13:30:12.139464Z"
    },
    "papermill": {
     "duration": 0.041903,
     "end_time": "2021-10-04T13:30:12.139897",
     "exception": false,
     "start_time": "2021-10-04T13:30:12.097994",
     "status": "completed"
    },
    "tags": []
   },
   "outputs": [],
   "source": [
    "df_pivot.columns = [\"stamp_1\", \"stamp_2\"]\n",
    "df_pivot_diff = df_pivot.diff(axis=1)"
   ]
  },
  {
   "cell_type": "code",
   "execution_count": 7,
   "id": "fifth-motion",
   "metadata": {
    "execution": {
     "iopub.execute_input": "2021-10-04T13:30:12.193735Z",
     "iopub.status.busy": "2021-10-04T13:30:12.191991Z",
     "iopub.status.idle": "2021-10-04T13:30:14.177654Z",
     "shell.execute_reply": "2021-10-04T13:30:14.179140Z"
    },
    "papermill": {
     "duration": 2.019427,
     "end_time": "2021-10-04T13:30:14.179649",
     "exception": false,
     "start_time": "2021-10-04T13:30:12.160222",
     "status": "completed"
    },
    "tags": []
   },
   "outputs": [
    {
     "data": {
      "text/plain": [
       "<AxesSubplot:ylabel='PRODUCT'>"
      ]
     },
     "execution_count": 7,
     "metadata": {},
     "output_type": "execute_result"
    },
    {
     "data": {
      "image/png": "[encoded data removed]",
      "text/plain": [
       "<Figure size 432x288 with 1 Axes>"
      ]
     },
     "metadata": {
      "needs_background": "light"
     },
     "output_type": "display_data"
    }
   ],
   "source": [
    "df_pivot_diff.sort_values(\"stamp_2\", ascending = False)[\"stamp_2\"].head(10).plot.barh()"
   ]
  },
  {
   "cell_type": "code",
   "execution_count": null,
   "id": "extra-executive",
   "metadata": {
    "papermill": {
     "duration": 0.022198,
     "end_time": "2021-10-04T13:30:14.226744",
     "exception": false,
     "start_time": "2021-10-04T13:30:14.204546",
     "status": "completed"
    },
    "tags": []
   },
   "outputs": [],
   "source": []
  }
 ],
 "metadata": {
  "kernelspec": {
   "display_name": "Python 3",
   "language": "python",
   "name": "python3"
  },
  "language_info": {
   "codemirror_mode": {
    "name": "ipython",
    "version": 3
   },
   "file_extension": ".py",
   "mimetype": "text/x-python",
   "name": "python",
   "nbconvert_exporter": "python",
   "pygments_lexer": "ipython3",
   "version": "3.9.5"
  },
  "papermill": {
   "default_parameters": {},
   "duration": 10.270209,
   "end_time": "2021-10-04T13:30:15.814090",
   "environment_variables": {},
   "exception": null,
   "input_path": "eBay_Overview.ipynb",
   "output_path": "eBay_Overview.ipynb",
   "parameters": {},
   "start_time": "2021-10-04T13:30:05.543881",
   "version": "2.3.3"
  }
 },
 "nbformat": 4,
 "nbformat_minor": 5
}