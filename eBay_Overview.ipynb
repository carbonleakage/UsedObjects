{
 "cells": [
  {
   "cell_type": "code",
   "execution_count": 1,
   "id": "reverse-picking",
   "metadata": {
    "execution": {
     "iopub.execute_input": "2021-11-21T22:30:07.733872Z",
     "iopub.status.busy": "2021-11-21T22:30:07.731024Z",
     "iopub.status.idle": "2021-11-21T22:30:08.699426Z",
     "shell.execute_reply": "2021-11-21T22:30:08.701005Z"
    },
    "papermill": {
     "duration": 1.002487,
     "end_time": "2021-11-21T22:30:08.701745",
     "exception": false,
     "start_time": "2021-11-21T22:30:07.699258",
     "status": "completed"
    },
    "tags": []
   },
   "outputs": [],
   "source": [
    "import pandas as pd\n",
    "import sqlite3"
   ]
  },
  {
   "cell_type": "code",
   "execution_count": 2,
   "id": "innovative-syndrome",
   "metadata": {
    "execution": {
     "iopub.execute_input": "2021-11-21T22:30:08.786462Z",
     "iopub.status.busy": "2021-11-21T22:30:08.784192Z",
     "iopub.status.idle": "2021-11-21T22:30:09.669653Z",
     "shell.execute_reply": "2021-11-21T22:30:09.671144Z"
    },
    "papermill": {
     "duration": 0.921797,
     "end_time": "2021-11-21T22:30:09.671617",
     "exception": false,
     "start_time": "2021-11-21T22:30:08.749820",
     "status": "completed"
    },
    "tags": []
   },
   "outputs": [],
   "source": [
    "timestamps = pd.read_sql(\"select distinct record_time from EBAY_TOP_BERLIN order by record_time desc limit 2\", sqlite3.connect(\"UsedObjects.db\"))"
   ]
  },
  {
   "cell_type": "code",
   "execution_count": 3,
   "id": "periodic-identification",
   "metadata": {
    "execution": {
     "iopub.execute_input": "2021-11-21T22:30:09.741538Z",
     "iopub.status.busy": "2021-11-21T22:30:09.739257Z",
     "iopub.status.idle": "2021-11-21T22:30:09.762560Z",
     "shell.execute_reply": "2021-11-21T22:30:09.764223Z"
    },
    "papermill": {
     "duration": 0.073086,
     "end_time": "2021-11-21T22:30:09.764771",
     "exception": false,
     "start_time": "2021-11-21T22:30:09.691685",
     "status": "completed"
    },
    "tags": []
   },
   "outputs": [
    {
     "data": {
      "text/html": [
       "<div>\n",
       "<style scoped>\n",
       "    .dataframe tbody tr th:only-of-type {\n",
       "        vertical-align: middle;\n",
       "    }\n",
       "\n",
       "    .dataframe tbody tr th {\n",
       "        vertical-align: top;\n",
       "    }\n",
       "\n",
       "    .dataframe thead th {\n",
       "        text-align: right;\n",
       "    }\n",
       "</style>\n",
       "<table border=\"1\" class=\"dataframe\">\n",
       "  <thead>\n",
       "    <tr style=\"text-align: right;\">\n",
       "      <th></th>\n",
       "      <th>RECORD_TIME</th>\n",
       "    </tr>\n",
       "  </thead>\n",
       "  <tbody>\n",
       "    <tr>\n",
       "      <th>0</th>\n",
       "      <td>2021-11-21 23:30</td>\n",
       "    </tr>\n",
       "    <tr>\n",
       "      <th>1</th>\n",
       "      <td>2021-11-21 23:00</td>\n",
       "    </tr>\n",
       "  </tbody>\n",
       "</table>\n",
       "</div>"
      ],
      "text/plain": [
       "        RECORD_TIME\n",
       "0  2021-11-21 23:30\n",
       "1  2021-11-21 23:00"
      ]
     },
     "execution_count": 3,
     "metadata": {},
     "output_type": "execute_result"
    }
   ],
   "source": [
    "timestamps"
   ]
  },
  {
   "cell_type": "code",
   "execution_count": 4,
   "id": "alternate-victory",
   "metadata": {
    "execution": {
     "iopub.execute_input": "2021-11-21T22:30:09.821549Z",
     "iopub.status.busy": "2021-11-21T22:30:09.819119Z",
     "iopub.status.idle": "2021-11-21T22:30:11.125469Z",
     "shell.execute_reply": "2021-11-21T22:30:11.127032Z"
    },
    "papermill": {
     "duration": 1.340052,
     "end_time": "2021-11-21T22:30:11.127509",
     "exception": false,
     "start_time": "2021-11-21T22:30:09.787457",
     "status": "completed"
    },
    "tags": []
   },
   "outputs": [],
   "source": [
    "df = pd.read_sql(\"select * from EBAY_TOP_BERLIN where record_time in (select distinct record_time from EBAY_TOP_BERLIN order by record_time desc limit 2)\", sqlite3.connect(\"UsedObjects.db\"))"
   ]
  },
  {
   "cell_type": "code",
   "execution_count": 5,
   "id": "popular-active",
   "metadata": {
    "execution": {
     "iopub.execute_input": "2021-11-21T22:30:11.200448Z",
     "iopub.status.busy": "2021-11-21T22:30:11.189838Z",
     "iopub.status.idle": "2021-11-21T22:30:11.224954Z",
     "shell.execute_reply": "2021-11-21T22:30:11.226723Z"
    },
    "papermill": {
     "duration": 0.078177,
     "end_time": "2021-11-21T22:30:11.227255",
     "exception": false,
     "start_time": "2021-11-21T22:30:11.149078",
     "status": "completed"
    },
    "tags": []
   },
   "outputs": [],
   "source": [
    "df_pivot = df.pivot_table(index=\"PRODUCT\", columns = \"RECORD_TIME\", values = \"LISTING_COUNT\")"
   ]
  },
  {
   "cell_type": "code",
   "execution_count": 6,
   "id": "union-huntington",
   "metadata": {
    "execution": {
     "iopub.execute_input": "2021-11-21T22:30:11.286038Z",
     "iopub.status.busy": "2021-11-21T22:30:11.283746Z",
     "iopub.status.idle": "2021-11-21T22:30:11.289463Z",
     "shell.execute_reply": "2021-11-21T22:30:11.290826Z"
    },
    "papermill": {
     "duration": 0.042923,
     "end_time": "2021-11-21T22:30:11.291295",
     "exception": false,
     "start_time": "2021-11-21T22:30:11.248372",
     "status": "completed"
    },
    "tags": []
   },
   "outputs": [],
   "source": [
    "df_pivot.columns = [\"stamp_1\", \"stamp_2\"]\n",
    "df_pivot_diff = df_pivot.diff(axis=1)"
   ]
  },
  {
   "cell_type": "code",
   "execution_count": 7,
   "id": "fifth-motion",
   "metadata": {
    "execution": {
     "iopub.execute_input": "2021-11-21T22:30:11.347286Z",
     "iopub.status.busy": "2021-11-21T22:30:11.344801Z",
     "iopub.status.idle": "2021-11-21T22:30:13.031717Z",
     "shell.execute_reply": "2021-11-21T22:30:13.033275Z"
    },
    "papermill": {
     "duration": 1.722516,
     "end_time": "2021-11-21T22:30:13.033739",
     "exception": false,
     "start_time": "2021-11-21T22:30:11.311223",
     "status": "completed"
    },
    "tags": []
   },
   "outputs": [
    {
     "data": {
      "text/plain": [
       "<AxesSubplot:ylabel='PRODUCT'>"
      ]
     },
     "execution_count": 7,
     "metadata": {},
     "output_type": "execute_result"
    },
    {
     "data": {
      "image/png": "[encoded data removed]",
      "text/plain": [
       "<Figure size 432x288 with 1 Axes>"
      ]
     },
     "metadata": {
      "needs_background": "light"
     },
     "output_type": "display_data"
    }
   ],
   "source": [
    "df_pivot_diff.sort_values(\"stamp_2\", ascending = False)[\"stamp_2\"].head(10).plot.barh()"
   ]
  },
  {
   "cell_type": "code",
   "execution_count": null,
   "id": "extra-executive",
   "metadata": {
    "papermill": {
     "duration": 0.021574,
     "end_time": "2021-11-21T22:30:13.080161",
     "exception": false,
     "start_time": "2021-11-21T22:30:13.058587",
     "status": "completed"
    },
    "tags": []
   },
   "outputs": [],
   "source": []
  }
 ],
 "metadata": {
  "kernelspec": {
   "display_name": "Python 3",
   "language": "python",
   "name": "python3"
  },
  "language_info": {
   "codemirror_mode": {
    "name": "ipython",
    "version": 3
   },
   "file_extension": ".py",
   "mimetype": "text/x-python",
   "name": "python",
   "nbconvert_exporter": "python",
   "pygments_lexer": "ipython3",
   "version": "3.9.5"
  },
  "papermill": {
   "default_parameters": {},
   "duration": 8.739232,
   "end_time": "2021-11-21T22:30:13.720957",
   "environment_variables": {},
   "exception": null,
   "input_path": "eBay_Overview.ipynb",
   "output_path": "eBay_Overview.ipynb",
   "parameters": {},
   "start_time": "2021-11-21T22:30:04.981725",
   "version": "2.3.3"
  }
 },
 "nbformat": 4,
 "nbformat_minor": 5
}