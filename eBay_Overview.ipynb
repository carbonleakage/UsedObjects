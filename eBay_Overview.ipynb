{
 "cells": [
  {
   "cell_type": "code",
   "execution_count": 1,
   "id": "reverse-picking",
   "metadata": {
    "execution": {
     "iopub.execute_input": "2021-10-16T00:00:07.294487Z",
     "iopub.status.busy": "2021-10-16T00:00:07.292444Z",
     "iopub.status.idle": "2021-10-16T00:00:08.099526Z",
     "shell.execute_reply": "2021-10-16T00:00:08.100842Z"
    },
    "papermill": {
     "duration": 0.859884,
     "end_time": "2021-10-16T00:00:08.101485",
     "exception": false,
     "start_time": "2021-10-16T00:00:07.241601",
     "status": "completed"
    },
    "tags": []
   },
   "outputs": [],
   "source": [
    "import pandas as pd\n",
    "import sqlite3"
   ]
  },
  {
   "cell_type": "code",
   "execution_count": 2,
   "id": "innovative-syndrome",
   "metadata": {
    "execution": {
     "iopub.execute_input": "2021-10-16T00:00:08.153990Z",
     "iopub.status.busy": "2021-10-16T00:00:08.151882Z",
     "iopub.status.idle": "2021-10-16T00:00:08.701119Z",
     "shell.execute_reply": "2021-10-16T00:00:08.702337Z"
    },
    "papermill": {
     "duration": 0.57878,
     "end_time": "2021-10-16T00:00:08.702736",
     "exception": false,
     "start_time": "2021-10-16T00:00:08.123956",
     "status": "completed"
    },
    "tags": []
   },
   "outputs": [],
   "source": [
    "timestamps = pd.read_sql(\"select distinct record_time from EBAY_TOP_BERLIN order by record_time desc limit 2\", sqlite3.connect(\"UsedObjects.db\"))"
   ]
  },
  {
   "cell_type": "code",
   "execution_count": 3,
   "id": "periodic-identification",
   "metadata": {
    "execution": {
     "iopub.execute_input": "2021-10-16T00:00:08.781651Z",
     "iopub.status.busy": "2021-10-16T00:00:08.779526Z",
     "iopub.status.idle": "2021-10-16T00:00:08.799696Z",
     "shell.execute_reply": "2021-10-16T00:00:08.801060Z"
    },
    "papermill": {
     "duration": 0.070096,
     "end_time": "2021-10-16T00:00:08.801495",
     "exception": false,
     "start_time": "2021-10-16T00:00:08.731399",
     "status": "completed"
    },
    "tags": []
   },
   "outputs": [
    {
     "data": {
      "text/html": [
       "<div>\n",
       "<style scoped>\n",
       "    .dataframe tbody tr th:only-of-type {\n",
       "        vertical-align: middle;\n",
       "    }\n",
       "\n",
       "    .dataframe tbody tr th {\n",
       "        vertical-align: top;\n",
       "    }\n",
       "\n",
       "    .dataframe thead th {\n",
       "        text-align: right;\n",
       "    }\n",
       "</style>\n",
       "<table border=\"1\" class=\"dataframe\">\n",
       "  <thead>\n",
       "    <tr style=\"text-align: right;\">\n",
       "      <th></th>\n",
       "      <th>RECORD_TIME</th>\n",
       "    </tr>\n",
       "  </thead>\n",
       "  <tbody>\n",
       "    <tr>\n",
       "      <th>0</th>\n",
       "      <td>2021-10-16 02:00</td>\n",
       "    </tr>\n",
       "    <tr>\n",
       "      <th>1</th>\n",
       "      <td>2021-10-16 01:30</td>\n",
       "    </tr>\n",
       "  </tbody>\n",
       "</table>\n",
       "</div>"
      ],
      "text/plain": [
       "        RECORD_TIME\n",
       "0  2021-10-16 02:00\n",
       "1  2021-10-16 01:30"
      ]
     },
     "execution_count": 3,
     "metadata": {},
     "output_type": "execute_result"
    }
   ],
   "source": [
    "timestamps"
   ]
  },
  {
   "cell_type": "code",
   "execution_count": 4,
   "id": "alternate-victory",
   "metadata": {
    "execution": {
     "iopub.execute_input": "2021-10-16T00:00:08.852473Z",
     "iopub.status.busy": "2021-10-16T00:00:08.850641Z",
     "iopub.status.idle": "2021-10-16T00:00:09.637066Z",
     "shell.execute_reply": "2021-10-16T00:00:09.638452Z"
    },
    "papermill": {
     "duration": 0.81674,
     "end_time": "2021-10-16T00:00:09.638861",
     "exception": false,
     "start_time": "2021-10-16T00:00:08.822121",
     "status": "completed"
    },
    "tags": []
   },
   "outputs": [],
   "source": [
    "df = pd.read_sql(\"select * from EBAY_TOP_BERLIN where record_time in (select distinct record_time from EBAY_TOP_BERLIN order by record_time desc limit 2)\", sqlite3.connect(\"UsedObjects.db\"))"
   ]
  },
  {
   "cell_type": "code",
   "execution_count": 5,
   "id": "popular-active",
   "metadata": {
    "execution": {
     "iopub.execute_input": "2021-10-16T00:00:09.702857Z",
     "iopub.status.busy": "2021-10-16T00:00:09.697714Z",
     "iopub.status.idle": "2021-10-16T00:00:09.724537Z",
     "shell.execute_reply": "2021-10-16T00:00:09.726012Z"
    },
    "papermill": {
     "duration": 0.066727,
     "end_time": "2021-10-16T00:00:09.726460",
     "exception": false,
     "start_time": "2021-10-16T00:00:09.659733",
     "status": "completed"
    },
    "tags": []
   },
   "outputs": [],
   "source": [
    "df_pivot = df.pivot_table(index=\"PRODUCT\", columns = \"RECORD_TIME\", values = \"LISTING_COUNT\")"
   ]
  },
  {
   "cell_type": "code",
   "execution_count": 6,
   "id": "union-huntington",
   "metadata": {
    "execution": {
     "iopub.execute_input": "2021-10-16T00:00:09.784394Z",
     "iopub.status.busy": "2021-10-16T00:00:09.781978Z",
     "iopub.status.idle": "2021-10-16T00:00:09.788141Z",
     "shell.execute_reply": "2021-10-16T00:00:09.789489Z"
    },
    "papermill": {
     "duration": 0.042751,
     "end_time": "2021-10-16T00:00:09.789948",
     "exception": false,
     "start_time": "2021-10-16T00:00:09.747197",
     "status": "completed"
    },
    "tags": []
   },
   "outputs": [],
   "source": [
    "df_pivot.columns = [\"stamp_1\", \"stamp_2\"]\n",
    "df_pivot_diff = df_pivot.diff(axis=1)"
   ]
  },
  {
   "cell_type": "code",
   "execution_count": 7,
   "id": "fifth-motion",
   "metadata": {
    "execution": {
     "iopub.execute_input": "2021-10-16T00:00:09.845642Z",
     "iopub.status.busy": "2021-10-16T00:00:09.843240Z",
     "iopub.status.idle": "2021-10-16T00:00:11.373432Z",
     "shell.execute_reply": "2021-10-16T00:00:11.374793Z"
    },
    "papermill": {
     "duration": 1.563054,
     "end_time": "2021-10-16T00:00:11.375210",
     "exception": false,
     "start_time": "2021-10-16T00:00:09.812156",
     "status": "completed"
    },
    "tags": []
   },
   "outputs": [
    {
     "data": {
      "text/plain": [
       "<AxesSubplot:ylabel='PRODUCT'>"
      ]
     },
     "execution_count": 7,
     "metadata": {},
     "output_type": "execute_result"
    },
    {
     "data": {
      "image/png": "[encoded data removed]",
      "text/plain": [
       "<Figure size 432x288 with 1 Axes>"
      ]
     },
     "metadata": {
      "needs_background": "light"
     },
     "output_type": "display_data"
    }
   ],
   "source": [
    "df_pivot_diff.sort_values(\"stamp_2\", ascending = False)[\"stamp_2\"].head(10).plot.barh()"
   ]
  },
  {
   "cell_type": "code",
   "execution_count": null,
   "id": "extra-executive",
   "metadata": {
    "papermill": {
     "duration": 0.022506,
     "end_time": "2021-10-16T00:00:11.421933",
     "exception": false,
     "start_time": "2021-10-16T00:00:11.399427",
     "status": "completed"
    },
    "tags": []
   },
   "outputs": [],
   "source": []
  }
 ],
 "metadata": {
  "kernelspec": {
   "display_name": "Python 3",
   "language": "python",
   "name": "python3"
  },
  "language_info": {
   "codemirror_mode": {
    "name": "ipython",
    "version": 3
   },
   "file_extension": ".py",
   "mimetype": "text/x-python",
   "name": "python",
   "nbconvert_exporter": "python",
   "pygments_lexer": "ipython3",
   "version": "3.9.5"
  },
  "papermill": {
   "default_parameters": {},
   "duration": 7.828646,
   "end_time": "2021-10-16T00:00:12.662937",
   "environment_variables": {},
   "exception": null,
   "input_path": "eBay_Overview.ipynb",
   "output_path": "eBay_Overview.ipynb",
   "parameters": {},
   "start_time": "2021-10-16T00:00:04.834291",
   "version": "2.3.3"
  }
 },
 "nbformat": 4,
 "nbformat_minor": 5
}