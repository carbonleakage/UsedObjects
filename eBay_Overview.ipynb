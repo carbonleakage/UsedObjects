{
 "cells": [
  {
   "cell_type": "code",
   "execution_count": 1,
   "id": "reverse-picking",
   "metadata": {
    "execution": {
     "iopub.execute_input": "2021-10-18T09:30:07.262287Z",
     "iopub.status.busy": "2021-10-18T09:30:07.260279Z",
     "iopub.status.idle": "2021-10-18T09:30:08.066686Z",
     "shell.execute_reply": "2021-10-18T09:30:08.067924Z"
    },
    "papermill": {
     "duration": 0.857955,
     "end_time": "2021-10-18T09:30:08.068549",
     "exception": false,
     "start_time": "2021-10-18T09:30:07.210594",
     "status": "completed"
    },
    "tags": []
   },
   "outputs": [],
   "source": [
    "import pandas as pd\n",
    "import sqlite3"
   ]
  },
  {
   "cell_type": "code",
   "execution_count": 2,
   "id": "innovative-syndrome",
   "metadata": {
    "execution": {
     "iopub.execute_input": "2021-10-18T09:30:08.119087Z",
     "iopub.status.busy": "2021-10-18T09:30:08.117258Z",
     "iopub.status.idle": "2021-10-18T09:30:08.685422Z",
     "shell.execute_reply": "2021-10-18T09:30:08.686813Z"
    },
    "papermill": {
     "duration": 0.597858,
     "end_time": "2021-10-18T09:30:08.687250",
     "exception": false,
     "start_time": "2021-10-18T09:30:08.089392",
     "status": "completed"
    },
    "tags": []
   },
   "outputs": [],
   "source": [
    "timestamps = pd.read_sql(\"select distinct record_time from EBAY_TOP_BERLIN order by record_time desc limit 2\", sqlite3.connect(\"UsedObjects.db\"))"
   ]
  },
  {
   "cell_type": "code",
   "execution_count": 3,
   "id": "periodic-identification",
   "metadata": {
    "execution": {
     "iopub.execute_input": "2021-10-18T09:30:08.764006Z",
     "iopub.status.busy": "2021-10-18T09:30:08.758837Z",
     "iopub.status.idle": "2021-10-18T09:30:08.778985Z",
     "shell.execute_reply": "2021-10-18T09:30:08.780351Z"
    },
    "papermill": {
     "duration": 0.068144,
     "end_time": "2021-10-18T09:30:08.780848",
     "exception": false,
     "start_time": "2021-10-18T09:30:08.712704",
     "status": "completed"
    },
    "tags": []
   },
   "outputs": [
    {
     "data": {
      "text/html": [
       "<div>\n",
       "<style scoped>\n",
       "    .dataframe tbody tr th:only-of-type {\n",
       "        vertical-align: middle;\n",
       "    }\n",
       "\n",
       "    .dataframe tbody tr th {\n",
       "        vertical-align: top;\n",
       "    }\n",
       "\n",
       "    .dataframe thead th {\n",
       "        text-align: right;\n",
       "    }\n",
       "</style>\n",
       "<table border=\"1\" class=\"dataframe\">\n",
       "  <thead>\n",
       "    <tr style=\"text-align: right;\">\n",
       "      <th></th>\n",
       "      <th>RECORD_TIME</th>\n",
       "    </tr>\n",
       "  </thead>\n",
       "  <tbody>\n",
       "    <tr>\n",
       "      <th>0</th>\n",
       "      <td>2021-10-18 11:30</td>\n",
       "    </tr>\n",
       "    <tr>\n",
       "      <th>1</th>\n",
       "      <td>2021-10-18 11:00</td>\n",
       "    </tr>\n",
       "  </tbody>\n",
       "</table>\n",
       "</div>"
      ],
      "text/plain": [
       "        RECORD_TIME\n",
       "0  2021-10-18 11:30\n",
       "1  2021-10-18 11:00"
      ]
     },
     "execution_count": 3,
     "metadata": {},
     "output_type": "execute_result"
    }
   ],
   "source": [
    "timestamps"
   ]
  },
  {
   "cell_type": "code",
   "execution_count": 4,
   "id": "alternate-victory",
   "metadata": {
    "execution": {
     "iopub.execute_input": "2021-10-18T09:30:08.831801Z",
     "iopub.status.busy": "2021-10-18T09:30:08.829958Z",
     "iopub.status.idle": "2021-10-18T09:30:09.671901Z",
     "shell.execute_reply": "2021-10-18T09:30:09.673956Z"
    },
    "papermill": {
     "duration": 0.872816,
     "end_time": "2021-10-18T09:30:09.674503",
     "exception": false,
     "start_time": "2021-10-18T09:30:08.801687",
     "status": "completed"
    },
    "tags": []
   },
   "outputs": [],
   "source": [
    "df = pd.read_sql(\"select * from EBAY_TOP_BERLIN where record_time in (select distinct record_time from EBAY_TOP_BERLIN order by record_time desc limit 2)\", sqlite3.connect(\"UsedObjects.db\"))"
   ]
  },
  {
   "cell_type": "code",
   "execution_count": 5,
   "id": "popular-active",
   "metadata": {
    "execution": {
     "iopub.execute_input": "2021-10-18T09:30:09.745385Z",
     "iopub.status.busy": "2021-10-18T09:30:09.733132Z",
     "iopub.status.idle": "2021-10-18T09:30:09.760899Z",
     "shell.execute_reply": "2021-10-18T09:30:09.762120Z"
    },
    "papermill": {
     "duration": 0.06782,
     "end_time": "2021-10-18T09:30:09.762515",
     "exception": false,
     "start_time": "2021-10-18T09:30:09.694695",
     "status": "completed"
    },
    "tags": []
   },
   "outputs": [],
   "source": [
    "df_pivot = df.pivot_table(index=\"PRODUCT\", columns = \"RECORD_TIME\", values = \"LISTING_COUNT\")"
   ]
  },
  {
   "cell_type": "code",
   "execution_count": 6,
   "id": "union-huntington",
   "metadata": {
    "execution": {
     "iopub.execute_input": "2021-10-18T09:30:09.819565Z",
     "iopub.status.busy": "2021-10-18T09:30:09.817430Z",
     "iopub.status.idle": "2021-10-18T09:30:09.822864Z",
     "shell.execute_reply": "2021-10-18T09:30:09.824214Z"
    },
    "papermill": {
     "duration": 0.040721,
     "end_time": "2021-10-18T09:30:09.824652",
     "exception": false,
     "start_time": "2021-10-18T09:30:09.783931",
     "status": "completed"
    },
    "tags": []
   },
   "outputs": [],
   "source": [
    "df_pivot.columns = [\"stamp_1\", \"stamp_2\"]\n",
    "df_pivot_diff = df_pivot.diff(axis=1)"
   ]
  },
  {
   "cell_type": "code",
   "execution_count": 7,
   "id": "fifth-motion",
   "metadata": {
    "execution": {
     "iopub.execute_input": "2021-10-18T09:30:09.881202Z",
     "iopub.status.busy": "2021-10-18T09:30:09.878468Z",
     "iopub.status.idle": "2021-10-18T09:30:11.377669Z",
     "shell.execute_reply": "2021-10-18T09:30:11.378948Z"
    },
    "papermill": {
     "duration": 1.532745,
     "end_time": "2021-10-18T09:30:11.379367",
     "exception": false,
     "start_time": "2021-10-18T09:30:09.846622",
     "status": "completed"
    },
    "tags": []
   },
   "outputs": [
    {
     "data": {
      "text/plain": [
       "<AxesSubplot:ylabel='PRODUCT'>"
      ]
     },
     "execution_count": 7,
     "metadata": {},
     "output_type": "execute_result"
    },
    {
     "data": {
      "image/png": "[encoded data removed]",
      "text/plain": [
       "<Figure size 432x288 with 1 Axes>"
      ]
     },
     "metadata": {
      "needs_background": "light"
     },
     "output_type": "display_data"
    }
   ],
   "source": [
    "df_pivot_diff.sort_values(\"stamp_2\", ascending = False)[\"stamp_2\"].head(10).plot.barh()"
   ]
  },
  {
   "cell_type": "code",
   "execution_count": null,
   "id": "extra-executive",
   "metadata": {
    "papermill": {
     "duration": 0.021974,
     "end_time": "2021-10-18T09:30:11.425666",
     "exception": false,
     "start_time": "2021-10-18T09:30:11.403692",
     "status": "completed"
    },
    "tags": []
   },
   "outputs": [],
   "source": []
  }
 ],
 "metadata": {
  "kernelspec": {
   "display_name": "Python 3",
   "language": "python",
   "name": "python3"
  },
  "language_info": {
   "codemirror_mode": {
    "name": "ipython",
    "version": 3
   },
   "file_extension": ".py",
   "mimetype": "text/x-python",
   "name": "python",
   "nbconvert_exporter": "python",
   "pygments_lexer": "ipython3",
   "version": "3.9.5"
  },
  "papermill": {
   "default_parameters": {},
   "duration": 7.817956,
   "end_time": "2021-10-18T09:30:12.626215",
   "environment_variables": {},
   "exception": null,
   "input_path": "eBay_Overview.ipynb",
   "output_path": "eBay_Overview.ipynb",
   "parameters": {},
   "start_time": "2021-10-18T09:30:04.808259",
   "version": "2.3.3"
  }
 },
 "nbformat": 4,
 "nbformat_minor": 5
}