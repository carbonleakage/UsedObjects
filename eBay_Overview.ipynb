{
 "cells": [
  {
   "cell_type": "code",
   "execution_count": 1,
   "id": "reverse-picking",
   "metadata": {
    "execution": {
     "iopub.execute_input": "2021-09-23T01:30:07.495445Z",
     "iopub.status.busy": "2021-09-23T01:30:07.493426Z",
     "iopub.status.idle": "2021-09-23T01:30:08.295046Z",
     "shell.execute_reply": "2021-09-23T01:30:08.296411Z"
    },
    "papermill": {
     "duration": 0.851801,
     "end_time": "2021-09-23T01:30:08.297059",
     "exception": false,
     "start_time": "2021-09-23T01:30:07.445258",
     "status": "completed"
    },
    "tags": []
   },
   "outputs": [],
   "source": [
    "import pandas as pd\n",
    "import sqlite3"
   ]
  },
  {
   "cell_type": "code",
   "execution_count": 2,
   "id": "innovative-syndrome",
   "metadata": {
    "execution": {
     "iopub.execute_input": "2021-09-23T01:30:08.347499Z",
     "iopub.status.busy": "2021-09-23T01:30:08.345550Z",
     "iopub.status.idle": "2021-09-23T01:30:08.692810Z",
     "shell.execute_reply": "2021-09-23T01:30:08.694009Z"
    },
    "papermill": {
     "duration": 0.376448,
     "end_time": "2021-09-23T01:30:08.694396",
     "exception": false,
     "start_time": "2021-09-23T01:30:08.317948",
     "status": "completed"
    },
    "tags": []
   },
   "outputs": [],
   "source": [
    "timestamps = pd.read_sql(\"select distinct record_time from EBAY_TOP_BERLIN order by record_time desc limit 2\", sqlite3.connect(\"UsedObjects.db\"))"
   ]
  },
  {
   "cell_type": "code",
   "execution_count": 3,
   "id": "periodic-identification",
   "metadata": {
    "execution": {
     "iopub.execute_input": "2021-09-23T01:30:08.758301Z",
     "iopub.status.busy": "2021-09-23T01:30:08.756296Z",
     "iopub.status.idle": "2021-09-23T01:30:08.775884Z",
     "shell.execute_reply": "2021-09-23T01:30:08.777044Z"
    },
    "papermill": {
     "duration": 0.063713,
     "end_time": "2021-09-23T01:30:08.777455",
     "exception": false,
     "start_time": "2021-09-23T01:30:08.713742",
     "status": "completed"
    },
    "tags": []
   },
   "outputs": [
    {
     "data": {
      "text/html": [
       "<div>\n",
       "<style scoped>\n",
       "    .dataframe tbody tr th:only-of-type {\n",
       "        vertical-align: middle;\n",
       "    }\n",
       "\n",
       "    .dataframe tbody tr th {\n",
       "        vertical-align: top;\n",
       "    }\n",
       "\n",
       "    .dataframe thead th {\n",
       "        text-align: right;\n",
       "    }\n",
       "</style>\n",
       "<table border=\"1\" class=\"dataframe\">\n",
       "  <thead>\n",
       "    <tr style=\"text-align: right;\">\n",
       "      <th></th>\n",
       "      <th>RECORD_TIME</th>\n",
       "    </tr>\n",
       "  </thead>\n",
       "  <tbody>\n",
       "    <tr>\n",
       "      <th>0</th>\n",
       "      <td>2021-09-23 03:30</td>\n",
       "    </tr>\n",
       "    <tr>\n",
       "      <th>1</th>\n",
       "      <td>2021-09-23 03:00</td>\n",
       "    </tr>\n",
       "  </tbody>\n",
       "</table>\n",
       "</div>"
      ],
      "text/plain": [
       "        RECORD_TIME\n",
       "0  2021-09-23 03:30\n",
       "1  2021-09-23 03:00"
      ]
     },
     "execution_count": 3,
     "metadata": {},
     "output_type": "execute_result"
    }
   ],
   "source": [
    "timestamps"
   ]
  },
  {
   "cell_type": "code",
   "execution_count": 4,
   "id": "alternate-victory",
   "metadata": {
    "execution": {
     "iopub.execute_input": "2021-09-23T01:30:08.829998Z",
     "iopub.status.busy": "2021-09-23T01:30:08.827958Z",
     "iopub.status.idle": "2021-09-23T01:30:09.345775Z",
     "shell.execute_reply": "2021-09-23T01:30:09.347108Z"
    },
    "papermill": {
     "duration": 0.548478,
     "end_time": "2021-09-23T01:30:09.347562",
     "exception": false,
     "start_time": "2021-09-23T01:30:08.799084",
     "status": "completed"
    },
    "tags": []
   },
   "outputs": [],
   "source": [
    "df = pd.read_sql(\"select * from EBAY_TOP_BERLIN where record_time in (select distinct record_time from EBAY_TOP_BERLIN order by record_time desc limit 2)\", sqlite3.connect(\"UsedObjects.db\"))"
   ]
  },
  {
   "cell_type": "code",
   "execution_count": 5,
   "id": "popular-active",
   "metadata": {
    "execution": {
     "iopub.execute_input": "2021-09-23T01:30:09.427891Z",
     "iopub.status.busy": "2021-09-23T01:30:09.420900Z",
     "iopub.status.idle": "2021-09-23T01:30:09.443203Z",
     "shell.execute_reply": "2021-09-23T01:30:09.444443Z"
    },
    "papermill": {
     "duration": 0.070981,
     "end_time": "2021-09-23T01:30:09.444839",
     "exception": false,
     "start_time": "2021-09-23T01:30:09.373858",
     "status": "completed"
    },
    "tags": []
   },
   "outputs": [],
   "source": [
    "df_pivot = df.pivot_table(index=\"PRODUCT\", columns = \"RECORD_TIME\", values = \"LISTING_COUNT\")"
   ]
  },
  {
   "cell_type": "code",
   "execution_count": 6,
   "id": "union-huntington",
   "metadata": {
    "execution": {
     "iopub.execute_input": "2021-09-23T01:30:09.500696Z",
     "iopub.status.busy": "2021-09-23T01:30:09.498488Z",
     "iopub.status.idle": "2021-09-23T01:30:09.504167Z",
     "shell.execute_reply": "2021-09-23T01:30:09.505427Z"
    },
    "papermill": {
     "duration": 0.040486,
     "end_time": "2021-09-23T01:30:09.505879",
     "exception": false,
     "start_time": "2021-09-23T01:30:09.465393",
     "status": "completed"
    },
    "tags": []
   },
   "outputs": [],
   "source": [
    "df_pivot.columns = [\"stamp_1\", \"stamp_2\"]\n",
    "df_pivot_diff = df_pivot.diff(axis=1)"
   ]
  },
  {
   "cell_type": "code",
   "execution_count": 7,
   "id": "fifth-motion",
   "metadata": {
    "execution": {
     "iopub.execute_input": "2021-09-23T01:30:09.560849Z",
     "iopub.status.busy": "2021-09-23T01:30:09.558302Z",
     "iopub.status.idle": "2021-09-23T01:30:11.059805Z",
     "shell.execute_reply": "2021-09-23T01:30:11.061103Z"
    },
    "papermill": {
     "duration": 1.5345,
     "end_time": "2021-09-23T01:30:11.061516",
     "exception": false,
     "start_time": "2021-09-23T01:30:09.527016",
     "status": "completed"
    },
    "tags": []
   },
   "outputs": [
    {
     "data": {
      "text/plain": [
       "<AxesSubplot:ylabel='PRODUCT'>"
      ]
     },
     "execution_count": 7,
     "metadata": {},
     "output_type": "execute_result"
    },
    {
     "data": {
      "image/png": "[encoded data removed]",
      "text/plain": [
       "<Figure size 432x288 with 1 Axes>"
      ]
     },
     "metadata": {
      "needs_background": "light"
     },
     "output_type": "display_data"
    }
   ],
   "source": [
    "df_pivot_diff.sort_values(\"stamp_2\", ascending = False)[\"stamp_2\"].head(10).plot.barh()"
   ]
  },
  {
   "cell_type": "code",
   "execution_count": null,
   "id": "extra-executive",
   "metadata": {
    "papermill": {
     "duration": 0.021922,
     "end_time": "2021-09-23T01:30:11.108630",
     "exception": false,
     "start_time": "2021-09-23T01:30:11.086708",
     "status": "completed"
    },
    "tags": []
   },
   "outputs": [],
   "source": []
  }
 ],
 "metadata": {
  "kernelspec": {
   "display_name": "Python 3",
   "language": "python",
   "name": "python3"
  },
  "language_info": {
   "codemirror_mode": {
    "name": "ipython",
    "version": 3
   },
   "file_extension": ".py",
   "mimetype": "text/x-python",
   "name": "python",
   "nbconvert_exporter": "python",
   "pygments_lexer": "ipython3",
   "version": "3.9.5"
  },
  "papermill": {
   "default_parameters": {},
   "duration": 6.712361,
   "end_time": "2021-09-23T01:30:11.752171",
   "environment_variables": {},
   "exception": null,
   "input_path": "eBay_Overview.ipynb",
   "output_path": "eBay_Overview.ipynb",
   "parameters": {},
   "start_time": "2021-09-23T01:30:05.039810",
   "version": "2.3.3"
  }
 },
 "nbformat": 4,
 "nbformat_minor": 5
}