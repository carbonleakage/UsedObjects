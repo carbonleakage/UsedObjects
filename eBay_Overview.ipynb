{
 "cells": [
  {
   "cell_type": "code",
   "execution_count": 1,
   "id": "reverse-picking",
   "metadata": {
    "execution": {
     "iopub.execute_input": "2021-08-26T07:00:07.437864Z",
     "iopub.status.busy": "2021-08-26T07:00:07.435820Z",
     "iopub.status.idle": "2021-08-26T07:00:08.238589Z",
     "shell.execute_reply": "2021-08-26T07:00:08.239839Z"
    },
    "papermill": {
     "duration": 0.853213,
     "end_time": "2021-08-26T07:00:08.240573",
     "exception": false,
     "start_time": "2021-08-26T07:00:07.387360",
     "status": "completed"
    },
    "tags": []
   },
   "outputs": [],
   "source": [
    "import pandas as pd\n",
    "import sqlite3"
   ]
  },
  {
   "cell_type": "code",
   "execution_count": 2,
   "id": "innovative-syndrome",
   "metadata": {
    "execution": {
     "iopub.execute_input": "2021-08-26T07:00:08.292696Z",
     "iopub.status.busy": "2021-08-26T07:00:08.290730Z",
     "iopub.status.idle": "2021-08-26T07:00:08.421577Z",
     "shell.execute_reply": "2021-08-26T07:00:08.422803Z"
    },
    "papermill": {
     "duration": 0.160225,
     "end_time": "2021-08-26T07:00:08.423198",
     "exception": false,
     "start_time": "2021-08-26T07:00:08.262973",
     "status": "completed"
    },
    "tags": []
   },
   "outputs": [],
   "source": [
    "timestamps = pd.read_sql(\"select distinct record_time from EBAY_TOP_BERLIN order by record_time desc limit 2\", sqlite3.connect(\"UsedObjects.db\"))"
   ]
  },
  {
   "cell_type": "code",
   "execution_count": 3,
   "id": "periodic-identification",
   "metadata": {
    "execution": {
     "iopub.execute_input": "2021-08-26T07:00:08.490262Z",
     "iopub.status.busy": "2021-08-26T07:00:08.485379Z",
     "iopub.status.idle": "2021-08-26T07:00:08.506988Z",
     "shell.execute_reply": "2021-08-26T07:00:08.508198Z"
    },
    "papermill": {
     "duration": 0.066451,
     "end_time": "2021-08-26T07:00:08.508790",
     "exception": false,
     "start_time": "2021-08-26T07:00:08.442339",
     "status": "completed"
    },
    "tags": []
   },
   "outputs": [
    {
     "data": {
      "text/html": [
       "<div>\n",
       "<style scoped>\n",
       "    .dataframe tbody tr th:only-of-type {\n",
       "        vertical-align: middle;\n",
       "    }\n",
       "\n",
       "    .dataframe tbody tr th {\n",
       "        vertical-align: top;\n",
       "    }\n",
       "\n",
       "    .dataframe thead th {\n",
       "        text-align: right;\n",
       "    }\n",
       "</style>\n",
       "<table border=\"1\" class=\"dataframe\">\n",
       "  <thead>\n",
       "    <tr style=\"text-align: right;\">\n",
       "      <th></th>\n",
       "      <th>RECORD_TIME</th>\n",
       "    </tr>\n",
       "  </thead>\n",
       "  <tbody>\n",
       "    <tr>\n",
       "      <th>0</th>\n",
       "      <td>2021-08-26 09:00</td>\n",
       "    </tr>\n",
       "    <tr>\n",
       "      <th>1</th>\n",
       "      <td>2021-08-26 08:30</td>\n",
       "    </tr>\n",
       "  </tbody>\n",
       "</table>\n",
       "</div>"
      ],
      "text/plain": [
       "        RECORD_TIME\n",
       "0  2021-08-26 09:00\n",
       "1  2021-08-26 08:30"
      ]
     },
     "execution_count": 3,
     "metadata": {},
     "output_type": "execute_result"
    }
   ],
   "source": [
    "timestamps"
   ]
  },
  {
   "cell_type": "code",
   "execution_count": 4,
   "id": "alternate-victory",
   "metadata": {
    "execution": {
     "iopub.execute_input": "2021-08-26T07:00:08.562130Z",
     "iopub.status.busy": "2021-08-26T07:00:08.559904Z",
     "iopub.status.idle": "2021-08-26T07:00:08.763724Z",
     "shell.execute_reply": "2021-08-26T07:00:08.764980Z"
    },
    "papermill": {
     "duration": 0.234194,
     "end_time": "2021-08-26T07:00:08.765419",
     "exception": false,
     "start_time": "2021-08-26T07:00:08.531225",
     "status": "completed"
    },
    "tags": []
   },
   "outputs": [],
   "source": [
    "df = pd.read_sql(\"select * from EBAY_TOP_BERLIN where record_time in (select distinct record_time from EBAY_TOP_BERLIN order by record_time desc limit 2)\", sqlite3.connect(\"UsedObjects.db\"))"
   ]
  },
  {
   "cell_type": "code",
   "execution_count": 5,
   "id": "popular-active",
   "metadata": {
    "execution": {
     "iopub.execute_input": "2021-08-26T07:00:08.835242Z",
     "iopub.status.busy": "2021-08-26T07:00:08.823246Z",
     "iopub.status.idle": "2021-08-26T07:00:08.853109Z",
     "shell.execute_reply": "2021-08-26T07:00:08.854539Z"
    },
    "papermill": {
     "duration": 0.068901,
     "end_time": "2021-08-26T07:00:08.854978",
     "exception": false,
     "start_time": "2021-08-26T07:00:08.786077",
     "status": "completed"
    },
    "tags": []
   },
   "outputs": [],
   "source": [
    "df_pivot = df.pivot_table(index=\"PRODUCT\", columns = \"RECORD_TIME\", values = \"LISTING_COUNT\")"
   ]
  },
  {
   "cell_type": "code",
   "execution_count": 6,
   "id": "union-huntington",
   "metadata": {
    "execution": {
     "iopub.execute_input": "2021-08-26T07:00:08.915130Z",
     "iopub.status.busy": "2021-08-26T07:00:08.913199Z",
     "iopub.status.idle": "2021-08-26T07:00:08.918444Z",
     "shell.execute_reply": "2021-08-26T07:00:08.919557Z"
    },
    "papermill": {
     "duration": 0.044732,
     "end_time": "2021-08-26T07:00:08.919963",
     "exception": false,
     "start_time": "2021-08-26T07:00:08.875231",
     "status": "completed"
    },
    "tags": []
   },
   "outputs": [],
   "source": [
    "df_pivot.columns = [\"stamp_1\", \"stamp_2\"]\n",
    "df_pivot_diff = df_pivot.diff(axis=1)"
   ]
  },
  {
   "cell_type": "code",
   "execution_count": 7,
   "id": "fifth-motion",
   "metadata": {
    "execution": {
     "iopub.execute_input": "2021-08-26T07:00:08.977566Z",
     "iopub.status.busy": "2021-08-26T07:00:08.975130Z",
     "iopub.status.idle": "2021-08-26T07:00:10.435993Z",
     "shell.execute_reply": "2021-08-26T07:00:10.437342Z"
    },
    "papermill": {
     "duration": 1.494168,
     "end_time": "2021-08-26T07:00:10.437798",
     "exception": false,
     "start_time": "2021-08-26T07:00:08.943630",
     "status": "completed"
    },
    "tags": []
   },
   "outputs": [
    {
     "data": {
      "text/plain": [
       "<AxesSubplot:ylabel='PRODUCT'>"
      ]
     },
     "execution_count": 7,
     "metadata": {},
     "output_type": "execute_result"
    },
    {
     "data": {
      "image/png": "[encoded data removed]",
      "text/plain": [
       "<Figure size 432x288 with 1 Axes>"
      ]
     },
     "metadata": {
      "needs_background": "light"
     },
     "output_type": "display_data"
    }
   ],
   "source": [
    "df_pivot_diff.sort_values(\"stamp_2\", ascending = False)[\"stamp_2\"].head(10).plot.barh()"
   ]
  },
  {
   "cell_type": "code",
   "execution_count": null,
   "id": "extra-executive",
   "metadata": {
    "papermill": {
     "duration": 0.022347,
     "end_time": "2021-08-26T07:00:10.484687",
     "exception": false,
     "start_time": "2021-08-26T07:00:10.462340",
     "status": "completed"
    },
    "tags": []
   },
   "outputs": [],
   "source": []
  }
 ],
 "metadata": {
  "kernelspec": {
   "display_name": "Python 3",
   "language": "python",
   "name": "python3"
  },
  "language_info": {
   "codemirror_mode": {
    "name": "ipython",
    "version": 3
   },
   "file_extension": ".py",
   "mimetype": "text/x-python",
   "name": "python",
   "nbconvert_exporter": "python",
   "pygments_lexer": "ipython3",
   "version": "3.9.5"
  },
  "papermill": {
   "default_parameters": {},
   "duration": 6.816733,
   "end_time": "2021-08-26T07:00:11.808621",
   "environment_variables": {},
   "exception": null,
   "input_path": "eBay_Overview.ipynb",
   "output_path": "eBay_Overview.ipynb",
   "parameters": {},
   "start_time": "2021-08-26T07:00:04.991888",
   "version": "2.3.3"
  }
 },
 "nbformat": 4,
 "nbformat_minor": 5
}