{
 "cells": [
  {
   "cell_type": "code",
   "execution_count": 1,
   "id": "reverse-picking",
   "metadata": {
    "execution": {
     "iopub.execute_input": "2021-08-20T08:30:07.345650Z",
     "iopub.status.busy": "2021-08-20T08:30:07.343728Z",
     "iopub.status.idle": "2021-08-20T08:30:08.147554Z",
     "shell.execute_reply": "2021-08-20T08:30:08.148960Z"
    },
    "papermill": {
     "duration": 0.85657,
     "end_time": "2021-08-20T08:30:08.149645",
     "exception": false,
     "start_time": "2021-08-20T08:30:07.293075",
     "status": "completed"
    },
    "tags": []
   },
   "outputs": [],
   "source": [
    "import pandas as pd\n",
    "import sqlite3"
   ]
  },
  {
   "cell_type": "code",
   "execution_count": 2,
   "id": "innovative-syndrome",
   "metadata": {
    "execution": {
     "iopub.execute_input": "2021-08-20T08:30:08.200840Z",
     "iopub.status.busy": "2021-08-20T08:30:08.198808Z",
     "iopub.status.idle": "2021-08-20T08:30:08.288476Z",
     "shell.execute_reply": "2021-08-20T08:30:08.289655Z"
    },
    "papermill": {
     "duration": 0.119955,
     "end_time": "2021-08-20T08:30:08.290133",
     "exception": false,
     "start_time": "2021-08-20T08:30:08.170178",
     "status": "completed"
    },
    "tags": []
   },
   "outputs": [],
   "source": [
    "timestamps = pd.read_sql(\"select distinct record_time from EBAY_TOP_BERLIN order by record_time desc limit 2\", sqlite3.connect(\"UsedObjects.db\"))"
   ]
  },
  {
   "cell_type": "code",
   "execution_count": 3,
   "id": "periodic-identification",
   "metadata": {
    "execution": {
     "iopub.execute_input": "2021-08-20T08:30:08.356448Z",
     "iopub.status.busy": "2021-08-20T08:30:08.354425Z",
     "iopub.status.idle": "2021-08-20T08:30:08.374485Z",
     "shell.execute_reply": "2021-08-20T08:30:08.375887Z"
    },
    "papermill": {
     "duration": 0.066528,
     "end_time": "2021-08-20T08:30:08.376308",
     "exception": false,
     "start_time": "2021-08-20T08:30:08.309780",
     "status": "completed"
    },
    "tags": []
   },
   "outputs": [
    {
     "data": {
      "text/html": [
       "<div>\n",
       "<style scoped>\n",
       "    .dataframe tbody tr th:only-of-type {\n",
       "        vertical-align: middle;\n",
       "    }\n",
       "\n",
       "    .dataframe tbody tr th {\n",
       "        vertical-align: top;\n",
       "    }\n",
       "\n",
       "    .dataframe thead th {\n",
       "        text-align: right;\n",
       "    }\n",
       "</style>\n",
       "<table border=\"1\" class=\"dataframe\">\n",
       "  <thead>\n",
       "    <tr style=\"text-align: right;\">\n",
       "      <th></th>\n",
       "      <th>RECORD_TIME</th>\n",
       "    </tr>\n",
       "  </thead>\n",
       "  <tbody>\n",
       "    <tr>\n",
       "      <th>0</th>\n",
       "      <td>2021-08-20 10:30</td>\n",
       "    </tr>\n",
       "    <tr>\n",
       "      <th>1</th>\n",
       "      <td>2021-08-20 10:00</td>\n",
       "    </tr>\n",
       "  </tbody>\n",
       "</table>\n",
       "</div>"
      ],
      "text/plain": [
       "        RECORD_TIME\n",
       "0  2021-08-20 10:30\n",
       "1  2021-08-20 10:00"
      ]
     },
     "execution_count": 3,
     "metadata": {},
     "output_type": "execute_result"
    }
   ],
   "source": [
    "timestamps"
   ]
  },
  {
   "cell_type": "code",
   "execution_count": 4,
   "id": "alternate-victory",
   "metadata": {
    "execution": {
     "iopub.execute_input": "2021-08-20T08:30:08.428440Z",
     "iopub.status.busy": "2021-08-20T08:30:08.426299Z",
     "iopub.status.idle": "2021-08-20T08:30:08.558171Z",
     "shell.execute_reply": "2021-08-20T08:30:08.559478Z"
    },
    "papermill": {
     "duration": 0.162242,
     "end_time": "2021-08-20T08:30:08.559934",
     "exception": false,
     "start_time": "2021-08-20T08:30:08.397692",
     "status": "completed"
    },
    "tags": []
   },
   "outputs": [],
   "source": [
    "df = pd.read_sql(\"select * from EBAY_TOP_BERLIN where record_time in (select distinct record_time from EBAY_TOP_BERLIN order by record_time desc limit 2)\", sqlite3.connect(\"UsedObjects.db\"))"
   ]
  },
  {
   "cell_type": "code",
   "execution_count": 5,
   "id": "popular-active",
   "metadata": {
    "execution": {
     "iopub.execute_input": "2021-08-20T08:30:08.630701Z",
     "iopub.status.busy": "2021-08-20T08:30:08.619894Z",
     "iopub.status.idle": "2021-08-20T08:30:08.647277Z",
     "shell.execute_reply": "2021-08-20T08:30:08.648539Z"
    },
    "papermill": {
     "duration": 0.068114,
     "end_time": "2021-08-20T08:30:08.648930",
     "exception": false,
     "start_time": "2021-08-20T08:30:08.580816",
     "status": "completed"
    },
    "tags": []
   },
   "outputs": [],
   "source": [
    "df_pivot = df.pivot_table(index=\"PRODUCT\", columns = \"RECORD_TIME\", values = \"LISTING_COUNT\")"
   ]
  },
  {
   "cell_type": "code",
   "execution_count": 6,
   "id": "union-huntington",
   "metadata": {
    "execution": {
     "iopub.execute_input": "2021-08-20T08:30:08.704163Z",
     "iopub.status.busy": "2021-08-20T08:30:08.702006Z",
     "iopub.status.idle": "2021-08-20T08:30:08.709303Z",
     "shell.execute_reply": "2021-08-20T08:30:08.707538Z"
    },
    "papermill": {
     "duration": 0.040908,
     "end_time": "2021-08-20T08:30:08.709673",
     "exception": false,
     "start_time": "2021-08-20T08:30:08.668765",
     "status": "completed"
    },
    "tags": []
   },
   "outputs": [],
   "source": [
    "df_pivot.columns = [\"stamp_1\", \"stamp_2\"]\n",
    "df_pivot_diff = df_pivot.diff(axis=1)"
   ]
  },
  {
   "cell_type": "code",
   "execution_count": 7,
   "id": "fifth-motion",
   "metadata": {
    "execution": {
     "iopub.execute_input": "2021-08-20T08:30:08.764846Z",
     "iopub.status.busy": "2021-08-20T08:30:08.762220Z",
     "iopub.status.idle": "2021-08-20T08:30:10.259113Z",
     "shell.execute_reply": "2021-08-20T08:30:10.260406Z"
    },
    "papermill": {
     "duration": 1.530629,
     "end_time": "2021-08-20T08:30:10.260822",
     "exception": false,
     "start_time": "2021-08-20T08:30:08.730193",
     "status": "completed"
    },
    "tags": []
   },
   "outputs": [
    {
     "data": {
      "text/plain": [
       "<AxesSubplot:ylabel='PRODUCT'>"
      ]
     },
     "execution_count": 7,
     "metadata": {},
     "output_type": "execute_result"
    },
    {
     "data": {
      "image/png": "[encoded data removed]",
      "text/plain": [
       "<Figure size 432x288 with 1 Axes>"
      ]
     },
     "metadata": {
      "needs_background": "light"
     },
     "output_type": "display_data"
    }
   ],
   "source": [
    "df_pivot_diff.sort_values(\"stamp_2\", ascending = False)[\"stamp_2\"].head(10).plot.barh()"
   ]
  },
  {
   "cell_type": "code",
   "execution_count": null,
   "id": "extra-executive",
   "metadata": {
    "papermill": {
     "duration": 0.02217,
     "end_time": "2021-08-20T08:30:10.307640",
     "exception": false,
     "start_time": "2021-08-20T08:30:10.285470",
     "status": "completed"
    },
    "tags": []
   },
   "outputs": [],
   "source": []
  }
 ],
 "metadata": {
  "kernelspec": {
   "display_name": "Python 3",
   "language": "python",
   "name": "python3"
  },
  "language_info": {
   "codemirror_mode": {
    "name": "ipython",
    "version": 3
   },
   "file_extension": ".py",
   "mimetype": "text/x-python",
   "name": "python",
   "nbconvert_exporter": "python",
   "pygments_lexer": "ipython3",
   "version": "3.9.5"
  },
  "papermill": {
   "default_parameters": {},
   "duration": 6.823165,
   "end_time": "2021-08-20T08:30:11.709215",
   "environment_variables": {},
   "exception": null,
   "input_path": "eBay_Overview.ipynb",
   "output_path": "eBay_Overview.ipynb",
   "parameters": {},
   "start_time": "2021-08-20T08:30:04.886050",
   "version": "2.3.3"
  }
 },
 "nbformat": 4,
 "nbformat_minor": 5
}