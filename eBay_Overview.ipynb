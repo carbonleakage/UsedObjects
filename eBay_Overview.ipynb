{
 "cells": [
  {
   "cell_type": "code",
   "execution_count": 1,
   "id": "reverse-picking",
   "metadata": {
    "execution": {
     "iopub.execute_input": "2021-08-16T02:00:06.732562Z",
     "iopub.status.busy": "2021-08-16T02:00:06.730612Z",
     "iopub.status.idle": "2021-08-16T02:00:07.541037Z",
     "shell.execute_reply": "2021-08-16T02:00:07.542522Z"
    },
    "papermill": {
     "duration": 0.865046,
     "end_time": "2021-08-16T02:00:07.543172",
     "exception": false,
     "start_time": "2021-08-16T02:00:06.678126",
     "status": "completed"
    },
    "tags": []
   },
   "outputs": [],
   "source": [
    "import pandas as pd\n",
    "import sqlite3"
   ]
  },
  {
   "cell_type": "code",
   "execution_count": 2,
   "id": "innovative-syndrome",
   "metadata": {
    "execution": {
     "iopub.execute_input": "2021-08-16T02:00:07.595652Z",
     "iopub.status.busy": "2021-08-16T02:00:07.593263Z",
     "iopub.status.idle": "2021-08-16T02:00:07.653036Z",
     "shell.execute_reply": "2021-08-16T02:00:07.654407Z"
    },
    "papermill": {
     "duration": 0.090117,
     "end_time": "2021-08-16T02:00:07.654839",
     "exception": false,
     "start_time": "2021-08-16T02:00:07.564722",
     "status": "completed"
    },
    "tags": []
   },
   "outputs": [],
   "source": [
    "timestamps = pd.read_sql(\"select distinct record_time from EBAY_TOP_BERLIN order by record_time desc limit 2\", sqlite3.connect(\"UsedObjects.db\"))"
   ]
  },
  {
   "cell_type": "code",
   "execution_count": 3,
   "id": "periodic-identification",
   "metadata": {
    "execution": {
     "iopub.execute_input": "2021-08-16T02:00:07.720067Z",
     "iopub.status.busy": "2021-08-16T02:00:07.718031Z",
     "iopub.status.idle": "2021-08-16T02:00:07.738013Z",
     "shell.execute_reply": "2021-08-16T02:00:07.739390Z"
    },
    "papermill": {
     "duration": 0.065101,
     "end_time": "2021-08-16T02:00:07.739804",
     "exception": false,
     "start_time": "2021-08-16T02:00:07.674703",
     "status": "completed"
    },
    "tags": []
   },
   "outputs": [
    {
     "data": {
      "text/html": [
       "<div>\n",
       "<style scoped>\n",
       "    .dataframe tbody tr th:only-of-type {\n",
       "        vertical-align: middle;\n",
       "    }\n",
       "\n",
       "    .dataframe tbody tr th {\n",
       "        vertical-align: top;\n",
       "    }\n",
       "\n",
       "    .dataframe thead th {\n",
       "        text-align: right;\n",
       "    }\n",
       "</style>\n",
       "<table border=\"1\" class=\"dataframe\">\n",
       "  <thead>\n",
       "    <tr style=\"text-align: right;\">\n",
       "      <th></th>\n",
       "      <th>RECORD_TIME</th>\n",
       "    </tr>\n",
       "  </thead>\n",
       "  <tbody>\n",
       "    <tr>\n",
       "      <th>0</th>\n",
       "      <td>2021-08-16 04:00</td>\n",
       "    </tr>\n",
       "    <tr>\n",
       "      <th>1</th>\n",
       "      <td>2021-08-16 03:30</td>\n",
       "    </tr>\n",
       "  </tbody>\n",
       "</table>\n",
       "</div>"
      ],
      "text/plain": [
       "        RECORD_TIME\n",
       "0  2021-08-16 04:00\n",
       "1  2021-08-16 03:30"
      ]
     },
     "execution_count": 3,
     "metadata": {},
     "output_type": "execute_result"
    }
   ],
   "source": [
    "timestamps"
   ]
  },
  {
   "cell_type": "code",
   "execution_count": 4,
   "id": "alternate-victory",
   "metadata": {
    "execution": {
     "iopub.execute_input": "2021-08-16T02:00:07.792646Z",
     "iopub.status.busy": "2021-08-16T02:00:07.790343Z",
     "iopub.status.idle": "2021-08-16T02:00:07.879419Z",
     "shell.execute_reply": "2021-08-16T02:00:07.880638Z"
    },
    "papermill": {
     "duration": 0.119492,
     "end_time": "2021-08-16T02:00:07.881029",
     "exception": false,
     "start_time": "2021-08-16T02:00:07.761537",
     "status": "completed"
    },
    "tags": []
   },
   "outputs": [],
   "source": [
    "df = pd.read_sql(\"select * from EBAY_TOP_BERLIN where record_time in (select distinct record_time from EBAY_TOP_BERLIN order by record_time desc limit 2)\", sqlite3.connect(\"UsedObjects.db\"))"
   ]
  },
  {
   "cell_type": "code",
   "execution_count": 5,
   "id": "popular-active",
   "metadata": {
    "execution": {
     "iopub.execute_input": "2021-08-16T02:00:07.950248Z",
     "iopub.status.busy": "2021-08-16T02:00:07.938961Z",
     "iopub.status.idle": "2021-08-16T02:00:07.966968Z",
     "shell.execute_reply": "2021-08-16T02:00:07.968266Z"
    },
    "papermill": {
     "duration": 0.067227,
     "end_time": "2021-08-16T02:00:07.968718",
     "exception": false,
     "start_time": "2021-08-16T02:00:07.901491",
     "status": "completed"
    },
    "tags": []
   },
   "outputs": [],
   "source": [
    "df_pivot = df.pivot_table(index=\"PRODUCT\", columns = \"RECORD_TIME\", values = \"LISTING_COUNT\")"
   ]
  },
  {
   "cell_type": "code",
   "execution_count": 6,
   "id": "union-huntington",
   "metadata": {
    "execution": {
     "iopub.execute_input": "2021-08-16T02:00:08.025786Z",
     "iopub.status.busy": "2021-08-16T02:00:08.023489Z",
     "iopub.status.idle": "2021-08-16T02:00:08.029504Z",
     "shell.execute_reply": "2021-08-16T02:00:08.030955Z"
    },
    "papermill": {
     "duration": 0.042377,
     "end_time": "2021-08-16T02:00:08.031405",
     "exception": false,
     "start_time": "2021-08-16T02:00:07.989028",
     "status": "completed"
    },
    "tags": []
   },
   "outputs": [],
   "source": [
    "df_pivot.columns = [\"stamp_1\", \"stamp_2\"]\n",
    "df_pivot_diff = df_pivot.diff(axis=1)"
   ]
  },
  {
   "cell_type": "code",
   "execution_count": 7,
   "id": "fifth-motion",
   "metadata": {
    "execution": {
     "iopub.execute_input": "2021-08-16T02:00:08.087427Z",
     "iopub.status.busy": "2021-08-16T02:00:08.084210Z",
     "iopub.status.idle": "2021-08-16T02:00:09.593702Z",
     "shell.execute_reply": "2021-08-16T02:00:09.592302Z"
    },
    "papermill": {
     "duration": 1.540726,
     "end_time": "2021-08-16T02:00:09.594118",
     "exception": false,
     "start_time": "2021-08-16T02:00:08.053392",
     "status": "completed"
    },
    "tags": []
   },
   "outputs": [
    {
     "data": {
      "text/plain": [
       "<AxesSubplot:ylabel='PRODUCT'>"
      ]
     },
     "execution_count": 7,
     "metadata": {},
     "output_type": "execute_result"
    },
    {
     "data": {
      "image/png": "[encoded data removed]",
      "text/plain": [
       "<Figure size 432x288 with 1 Axes>"
      ]
     },
     "metadata": {
      "needs_background": "light"
     },
     "output_type": "display_data"
    }
   ],
   "source": [
    "df_pivot_diff.sort_values(\"stamp_2\", ascending = False)[\"stamp_2\"].head(10).plot.barh()"
   ]
  },
  {
   "cell_type": "code",
   "execution_count": null,
   "id": "extra-executive",
   "metadata": {
    "papermill": {
     "duration": 0.022449,
     "end_time": "2021-08-16T02:00:09.640931",
     "exception": false,
     "start_time": "2021-08-16T02:00:09.618482",
     "status": "completed"
    },
    "tags": []
   },
   "outputs": [],
   "source": []
  }
 ],
 "metadata": {
  "kernelspec": {
   "display_name": "Python 3",
   "language": "python",
   "name": "python3"
  },
  "language_info": {
   "codemirror_mode": {
    "name": "ipython",
    "version": 3
   },
   "file_extension": ".py",
   "mimetype": "text/x-python",
   "name": "python",
   "nbconvert_exporter": "python",
   "pygments_lexer": "ipython3",
   "version": "3.9.5"
  },
  "papermill": {
   "default_parameters": {},
   "duration": 6.826087,
   "end_time": "2021-08-16T02:00:11.089946",
   "environment_variables": {},
   "exception": null,
   "input_path": "eBay_Overview.ipynb",
   "output_path": "eBay_Overview.ipynb",
   "parameters": {},
   "start_time": "2021-08-16T02:00:04.263859",
   "version": "2.3.3"
  }
 },
 "nbformat": 4,
 "nbformat_minor": 5
}