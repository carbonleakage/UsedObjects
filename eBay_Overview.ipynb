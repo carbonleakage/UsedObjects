{
 "cells": [
  {
   "cell_type": "code",
   "execution_count": 1,
   "id": "reverse-picking",
   "metadata": {
    "execution": {
     "iopub.execute_input": "2021-11-02T10:30:07.712135Z",
     "iopub.status.busy": "2021-11-02T10:30:07.709731Z",
     "iopub.status.idle": "2021-11-02T10:30:08.660549Z",
     "shell.execute_reply": "2021-11-02T10:30:08.662144Z"
    },
    "papermill": {
     "duration": 1.000683,
     "end_time": "2021-11-02T10:30:08.662872",
     "exception": false,
     "start_time": "2021-11-02T10:30:07.662189",
     "status": "completed"
    },
    "tags": []
   },
   "outputs": [],
   "source": [
    "import pandas as pd\n",
    "import sqlite3"
   ]
  },
  {
   "cell_type": "code",
   "execution_count": 2,
   "id": "innovative-syndrome",
   "metadata": {
    "execution": {
     "iopub.execute_input": "2021-11-02T10:30:08.724254Z",
     "iopub.status.busy": "2021-11-02T10:30:08.722076Z",
     "iopub.status.idle": "2021-11-02T10:30:09.426265Z",
     "shell.execute_reply": "2021-11-02T10:30:09.427769Z"
    },
    "papermill": {
     "duration": 0.738037,
     "end_time": "2021-11-02T10:30:09.428242",
     "exception": false,
     "start_time": "2021-11-02T10:30:08.690205",
     "status": "completed"
    },
    "tags": []
   },
   "outputs": [],
   "source": [
    "timestamps = pd.read_sql(\"select distinct record_time from EBAY_TOP_BERLIN order by record_time desc limit 2\", sqlite3.connect(\"UsedObjects.db\"))"
   ]
  },
  {
   "cell_type": "code",
   "execution_count": 3,
   "id": "periodic-identification",
   "metadata": {
    "execution": {
     "iopub.execute_input": "2021-11-02T10:30:09.496010Z",
     "iopub.status.busy": "2021-11-02T10:30:09.493834Z",
     "iopub.status.idle": "2021-11-02T10:30:09.516871Z",
     "shell.execute_reply": "2021-11-02T10:30:09.518273Z"
    },
    "papermill": {
     "duration": 0.070896,
     "end_time": "2021-11-02T10:30:09.518742",
     "exception": false,
     "start_time": "2021-11-02T10:30:09.447846",
     "status": "completed"
    },
    "tags": []
   },
   "outputs": [
    {
     "data": {
      "text/html": [
       "<div>\n",
       "<style scoped>\n",
       "    .dataframe tbody tr th:only-of-type {\n",
       "        vertical-align: middle;\n",
       "    }\n",
       "\n",
       "    .dataframe tbody tr th {\n",
       "        vertical-align: top;\n",
       "    }\n",
       "\n",
       "    .dataframe thead th {\n",
       "        text-align: right;\n",
       "    }\n",
       "</style>\n",
       "<table border=\"1\" class=\"dataframe\">\n",
       "  <thead>\n",
       "    <tr style=\"text-align: right;\">\n",
       "      <th></th>\n",
       "      <th>RECORD_TIME</th>\n",
       "    </tr>\n",
       "  </thead>\n",
       "  <tbody>\n",
       "    <tr>\n",
       "      <th>0</th>\n",
       "      <td>2021-11-02 11:30</td>\n",
       "    </tr>\n",
       "    <tr>\n",
       "      <th>1</th>\n",
       "      <td>2021-11-02 11:00</td>\n",
       "    </tr>\n",
       "  </tbody>\n",
       "</table>\n",
       "</div>"
      ],
      "text/plain": [
       "        RECORD_TIME\n",
       "0  2021-11-02 11:30\n",
       "1  2021-11-02 11:00"
      ]
     },
     "execution_count": 3,
     "metadata": {},
     "output_type": "execute_result"
    }
   ],
   "source": [
    "timestamps"
   ]
  },
  {
   "cell_type": "code",
   "execution_count": 4,
   "id": "alternate-victory",
   "metadata": {
    "execution": {
     "iopub.execute_input": "2021-11-02T10:30:09.573170Z",
     "iopub.status.busy": "2021-11-02T10:30:09.570466Z",
     "iopub.status.idle": "2021-11-02T10:30:10.568199Z",
     "shell.execute_reply": "2021-11-02T10:30:10.569867Z"
    },
    "papermill": {
     "duration": 1.031214,
     "end_time": "2021-11-02T10:30:10.570388",
     "exception": false,
     "start_time": "2021-11-02T10:30:09.539174",
     "status": "completed"
    },
    "tags": []
   },
   "outputs": [],
   "source": [
    "df = pd.read_sql(\"select * from EBAY_TOP_BERLIN where record_time in (select distinct record_time from EBAY_TOP_BERLIN order by record_time desc limit 2)\", sqlite3.connect(\"UsedObjects.db\"))"
   ]
  },
  {
   "cell_type": "code",
   "execution_count": 5,
   "id": "popular-active",
   "metadata": {
    "execution": {
     "iopub.execute_input": "2021-11-02T10:30:10.638924Z",
     "iopub.status.busy": "2021-11-02T10:30:10.636432Z",
     "iopub.status.idle": "2021-11-02T10:30:10.670909Z",
     "shell.execute_reply": "2021-11-02T10:30:10.669249Z"
    },
    "papermill": {
     "duration": 0.079094,
     "end_time": "2021-11-02T10:30:10.671325",
     "exception": false,
     "start_time": "2021-11-02T10:30:10.592231",
     "status": "completed"
    },
    "tags": []
   },
   "outputs": [],
   "source": [
    "df_pivot = df.pivot_table(index=\"PRODUCT\", columns = \"RECORD_TIME\", values = \"LISTING_COUNT\")"
   ]
  },
  {
   "cell_type": "code",
   "execution_count": 6,
   "id": "union-huntington",
   "metadata": {
    "execution": {
     "iopub.execute_input": "2021-11-02T10:30:10.734288Z",
     "iopub.status.busy": "2021-11-02T10:30:10.731952Z",
     "iopub.status.idle": "2021-11-02T10:30:10.738227Z",
     "shell.execute_reply": "2021-11-02T10:30:10.739751Z"
    },
    "papermill": {
     "duration": 0.046659,
     "end_time": "2021-11-02T10:30:10.740268",
     "exception": false,
     "start_time": "2021-11-02T10:30:10.693609",
     "status": "completed"
    },
    "tags": []
   },
   "outputs": [],
   "source": [
    "df_pivot.columns = [\"stamp_1\", \"stamp_2\"]\n",
    "df_pivot_diff = df_pivot.diff(axis=1)"
   ]
  },
  {
   "cell_type": "code",
   "execution_count": 7,
   "id": "fifth-motion",
   "metadata": {
    "execution": {
     "iopub.execute_input": "2021-11-02T10:30:10.800045Z",
     "iopub.status.busy": "2021-11-02T10:30:10.797464Z",
     "iopub.status.idle": "2021-11-02T10:30:12.586537Z",
     "shell.execute_reply": "2021-11-02T10:30:12.589086Z"
    },
    "papermill": {
     "duration": 1.827024,
     "end_time": "2021-11-02T10:30:12.589822",
     "exception": false,
     "start_time": "2021-11-02T10:30:10.762798",
     "status": "completed"
    },
    "tags": []
   },
   "outputs": [
    {
     "data": {
      "text/plain": [
       "<AxesSubplot:ylabel='PRODUCT'>"
      ]
     },
     "execution_count": 7,
     "metadata": {},
     "output_type": "execute_result"
    },
    {
     "data": {
      "image/png": "[encoded data removed]",
      "text/plain": [
       "<Figure size 432x288 with 1 Axes>"
      ]
     },
     "metadata": {
      "needs_background": "light"
     },
     "output_type": "display_data"
    }
   ],
   "source": [
    "df_pivot_diff.sort_values(\"stamp_2\", ascending = False)[\"stamp_2\"].head(10).plot.barh()"
   ]
  },
  {
   "cell_type": "code",
   "execution_count": null,
   "id": "extra-executive",
   "metadata": {
    "papermill": {
     "duration": 0.028311,
     "end_time": "2021-11-02T10:30:12.651979",
     "exception": false,
     "start_time": "2021-11-02T10:30:12.623668",
     "status": "completed"
    },
    "tags": []
   },
   "outputs": [],
   "source": []
  }
 ],
 "metadata": {
  "kernelspec": {
   "display_name": "Python 3",
   "language": "python",
   "name": "python3"
  },
  "language_info": {
   "codemirror_mode": {
    "name": "ipython",
    "version": 3
   },
   "file_extension": ".py",
   "mimetype": "text/x-python",
   "name": "python",
   "nbconvert_exporter": "python",
   "pygments_lexer": "ipython3",
   "version": "3.9.5"
  },
  "papermill": {
   "default_parameters": {},
   "duration": 8.919297,
   "end_time": "2021-11-02T10:30:13.877832",
   "environment_variables": {},
   "exception": null,
   "input_path": "eBay_Overview.ipynb",
   "output_path": "eBay_Overview.ipynb",
   "parameters": {},
   "start_time": "2021-11-02T10:30:04.958535",
   "version": "2.3.3"
  }
 },
 "nbformat": 4,
 "nbformat_minor": 5
}