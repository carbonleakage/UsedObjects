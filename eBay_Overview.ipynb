{
 "cells": [
  {
   "cell_type": "code",
   "execution_count": 1,
   "id": "reverse-picking",
   "metadata": {
    "execution": {
     "iopub.execute_input": "2021-11-13T13:00:07.715225Z",
     "iopub.status.busy": "2021-11-13T13:00:07.711657Z",
     "iopub.status.idle": "2021-11-13T13:00:08.671034Z",
     "shell.execute_reply": "2021-11-13T13:00:08.674320Z"
    },
    "papermill": {
     "duration": 1.011076,
     "end_time": "2021-11-13T13:00:08.675470",
     "exception": false,
     "start_time": "2021-11-13T13:00:07.664394",
     "status": "completed"
    },
    "tags": []
   },
   "outputs": [],
   "source": [
    "import pandas as pd\n",
    "import sqlite3"
   ]
  },
  {
   "cell_type": "code",
   "execution_count": 2,
   "id": "innovative-syndrome",
   "metadata": {
    "execution": {
     "iopub.execute_input": "2021-11-13T13:00:08.736636Z",
     "iopub.status.busy": "2021-11-13T13:00:08.734427Z",
     "iopub.status.idle": "2021-11-13T13:00:09.516873Z",
     "shell.execute_reply": "2021-11-13T13:00:09.518185Z"
    },
    "papermill": {
     "duration": 0.816217,
     "end_time": "2021-11-13T13:00:09.518602",
     "exception": false,
     "start_time": "2021-11-13T13:00:08.702385",
     "status": "completed"
    },
    "tags": []
   },
   "outputs": [],
   "source": [
    "timestamps = pd.read_sql(\"select distinct record_time from EBAY_TOP_BERLIN order by record_time desc limit 2\", sqlite3.connect(\"UsedObjects.db\"))"
   ]
  },
  {
   "cell_type": "code",
   "execution_count": 3,
   "id": "periodic-identification",
   "metadata": {
    "execution": {
     "iopub.execute_input": "2021-11-13T13:00:09.586861Z",
     "iopub.status.busy": "2021-11-13T13:00:09.581544Z",
     "iopub.status.idle": "2021-11-13T13:00:09.601471Z",
     "shell.execute_reply": "2021-11-13T13:00:09.602614Z"
    },
    "papermill": {
     "duration": 0.064551,
     "end_time": "2021-11-13T13:00:09.603024",
     "exception": false,
     "start_time": "2021-11-13T13:00:09.538473",
     "status": "completed"
    },
    "tags": []
   },
   "outputs": [
    {
     "data": {
      "text/html": [
       "<div>\n",
       "<style scoped>\n",
       "    .dataframe tbody tr th:only-of-type {\n",
       "        vertical-align: middle;\n",
       "    }\n",
       "\n",
       "    .dataframe tbody tr th {\n",
       "        vertical-align: top;\n",
       "    }\n",
       "\n",
       "    .dataframe thead th {\n",
       "        text-align: right;\n",
       "    }\n",
       "</style>\n",
       "<table border=\"1\" class=\"dataframe\">\n",
       "  <thead>\n",
       "    <tr style=\"text-align: right;\">\n",
       "      <th></th>\n",
       "      <th>RECORD_TIME</th>\n",
       "    </tr>\n",
       "  </thead>\n",
       "  <tbody>\n",
       "    <tr>\n",
       "      <th>0</th>\n",
       "      <td>2021-11-13 14:00</td>\n",
       "    </tr>\n",
       "    <tr>\n",
       "      <th>1</th>\n",
       "      <td>2021-11-13 13:30</td>\n",
       "    </tr>\n",
       "  </tbody>\n",
       "</table>\n",
       "</div>"
      ],
      "text/plain": [
       "        RECORD_TIME\n",
       "0  2021-11-13 14:00\n",
       "1  2021-11-13 13:30"
      ]
     },
     "execution_count": 3,
     "metadata": {},
     "output_type": "execute_result"
    }
   ],
   "source": [
    "timestamps"
   ]
  },
  {
   "cell_type": "code",
   "execution_count": 4,
   "id": "alternate-victory",
   "metadata": {
    "execution": {
     "iopub.execute_input": "2021-11-13T13:00:09.659524Z",
     "iopub.status.busy": "2021-11-13T13:00:09.657425Z",
     "iopub.status.idle": "2021-11-13T13:00:10.813750Z",
     "shell.execute_reply": "2021-11-13T13:00:10.815247Z"
    },
    "papermill": {
     "duration": 1.189132,
     "end_time": "2021-11-13T13:00:10.815764",
     "exception": false,
     "start_time": "2021-11-13T13:00:09.626632",
     "status": "completed"
    },
    "tags": []
   },
   "outputs": [],
   "source": [
    "df = pd.read_sql(\"select * from EBAY_TOP_BERLIN where record_time in (select distinct record_time from EBAY_TOP_BERLIN order by record_time desc limit 2)\", sqlite3.connect(\"UsedObjects.db\"))"
   ]
  },
  {
   "cell_type": "code",
   "execution_count": 5,
   "id": "popular-active",
   "metadata": {
    "execution": {
     "iopub.execute_input": "2021-11-13T13:00:10.891123Z",
     "iopub.status.busy": "2021-11-13T13:00:10.876348Z",
     "iopub.status.idle": "2021-11-13T13:00:10.910195Z",
     "shell.execute_reply": "2021-11-13T13:00:10.911625Z"
    },
    "papermill": {
     "duration": 0.074231,
     "end_time": "2021-11-13T13:00:10.912087",
     "exception": false,
     "start_time": "2021-11-13T13:00:10.837856",
     "status": "completed"
    },
    "tags": []
   },
   "outputs": [],
   "source": [
    "df_pivot = df.pivot_table(index=\"PRODUCT\", columns = \"RECORD_TIME\", values = \"LISTING_COUNT\")"
   ]
  },
  {
   "cell_type": "code",
   "execution_count": 6,
   "id": "union-huntington",
   "metadata": {
    "execution": {
     "iopub.execute_input": "2021-11-13T13:00:10.974814Z",
     "iopub.status.busy": "2021-11-13T13:00:10.972350Z",
     "iopub.status.idle": "2021-11-13T13:00:10.978168Z",
     "shell.execute_reply": "2021-11-13T13:00:10.979555Z"
    },
    "papermill": {
     "duration": 0.048025,
     "end_time": "2021-11-13T13:00:10.980060",
     "exception": false,
     "start_time": "2021-11-13T13:00:10.932035",
     "status": "completed"
    },
    "tags": []
   },
   "outputs": [],
   "source": [
    "df_pivot.columns = [\"stamp_1\", \"stamp_2\"]\n",
    "df_pivot_diff = df_pivot.diff(axis=1)"
   ]
  },
  {
   "cell_type": "code",
   "execution_count": 7,
   "id": "fifth-motion",
   "metadata": {
    "execution": {
     "iopub.execute_input": "2021-11-13T13:00:11.040941Z",
     "iopub.status.busy": "2021-11-13T13:00:11.038498Z",
     "iopub.status.idle": "2021-11-13T13:00:12.988196Z",
     "shell.execute_reply": "2021-11-13T13:00:12.986246Z"
    },
    "papermill": {
     "duration": 1.986465,
     "end_time": "2021-11-13T13:00:12.988722",
     "exception": false,
     "start_time": "2021-11-13T13:00:11.002257",
     "status": "completed"
    },
    "tags": []
   },
   "outputs": [
    {
     "data": {
      "text/plain": [
       "<AxesSubplot:ylabel='PRODUCT'>"
      ]
     },
     "execution_count": 7,
     "metadata": {},
     "output_type": "execute_result"
    },
    {
     "data": {
      "image/png": "[encoded data removed]",
      "text/plain": [
       "<Figure size 432x288 with 1 Axes>"
      ]
     },
     "metadata": {
      "needs_background": "light"
     },
     "output_type": "display_data"
    }
   ],
   "source": [
    "df_pivot_diff.sort_values(\"stamp_2\", ascending = False)[\"stamp_2\"].head(10).plot.barh()"
   ]
  },
  {
   "cell_type": "code",
   "execution_count": null,
   "id": "extra-executive",
   "metadata": {
    "papermill": {
     "duration": 0.029748,
     "end_time": "2021-11-13T13:00:13.046417",
     "exception": false,
     "start_time": "2021-11-13T13:00:13.016669",
     "status": "completed"
    },
    "tags": []
   },
   "outputs": [],
   "source": []
  }
 ],
 "metadata": {
  "kernelspec": {
   "display_name": "Python 3",
   "language": "python",
   "name": "python3"
  },
  "language_info": {
   "codemirror_mode": {
    "name": "ipython",
    "version": 3
   },
   "file_extension": ".py",
   "mimetype": "text/x-python",
   "name": "python",
   "nbconvert_exporter": "python",
   "pygments_lexer": "ipython3",
   "version": "3.9.5"
  },
  "papermill": {
   "default_parameters": {},
   "duration": 8.877264,
   "end_time": "2021-11-13T13:00:13.814630",
   "environment_variables": {},
   "exception": null,
   "input_path": "eBay_Overview.ipynb",
   "output_path": "eBay_Overview.ipynb",
   "parameters": {},
   "start_time": "2021-11-13T13:00:04.937366",
   "version": "2.3.3"
  }
 },
 "nbformat": 4,
 "nbformat_minor": 5
}