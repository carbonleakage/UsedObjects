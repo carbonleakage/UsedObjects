{
 "cells": [
  {
   "cell_type": "code",
   "execution_count": 1,
   "id": "reverse-picking",
   "metadata": {
    "execution": {
     "iopub.execute_input": "2021-11-01T02:30:07.630730Z",
     "iopub.status.busy": "2021-11-01T02:30:07.628767Z",
     "iopub.status.idle": "2021-11-01T02:30:08.434059Z",
     "shell.execute_reply": "2021-11-01T02:30:08.435319Z"
    },
    "papermill": {
     "duration": 0.857228,
     "end_time": "2021-11-01T02:30:08.435933",
     "exception": false,
     "start_time": "2021-11-01T02:30:07.578705",
     "status": "completed"
    },
    "tags": []
   },
   "outputs": [],
   "source": [
    "import pandas as pd\n",
    "import sqlite3"
   ]
  },
  {
   "cell_type": "code",
   "execution_count": 2,
   "id": "innovative-syndrome",
   "metadata": {
    "execution": {
     "iopub.execute_input": "2021-11-01T02:30:08.486849Z",
     "iopub.status.busy": "2021-11-01T02:30:08.484973Z",
     "iopub.status.idle": "2021-11-01T02:30:09.176297Z",
     "shell.execute_reply": "2021-11-01T02:30:09.177655Z"
    },
    "papermill": {
     "duration": 0.721037,
     "end_time": "2021-11-01T02:30:09.178074",
     "exception": false,
     "start_time": "2021-11-01T02:30:08.457037",
     "status": "completed"
    },
    "tags": []
   },
   "outputs": [],
   "source": [
    "timestamps = pd.read_sql(\"select distinct record_time from EBAY_TOP_BERLIN order by record_time desc limit 2\", sqlite3.connect(\"UsedObjects.db\"))"
   ]
  },
  {
   "cell_type": "code",
   "execution_count": 3,
   "id": "periodic-identification",
   "metadata": {
    "execution": {
     "iopub.execute_input": "2021-11-01T02:30:09.261995Z",
     "iopub.status.busy": "2021-11-01T02:30:09.259895Z",
     "iopub.status.idle": "2021-11-01T02:30:09.282316Z",
     "shell.execute_reply": "2021-11-01T02:30:09.283626Z"
    },
    "papermill": {
     "duration": 0.074996,
     "end_time": "2021-11-01T02:30:09.284038",
     "exception": false,
     "start_time": "2021-11-01T02:30:09.209042",
     "status": "completed"
    },
    "tags": []
   },
   "outputs": [
    {
     "data": {
      "text/html": [
       "<div>\n",
       "<style scoped>\n",
       "    .dataframe tbody tr th:only-of-type {\n",
       "        vertical-align: middle;\n",
       "    }\n",
       "\n",
       "    .dataframe tbody tr th {\n",
       "        vertical-align: top;\n",
       "    }\n",
       "\n",
       "    .dataframe thead th {\n",
       "        text-align: right;\n",
       "    }\n",
       "</style>\n",
       "<table border=\"1\" class=\"dataframe\">\n",
       "  <thead>\n",
       "    <tr style=\"text-align: right;\">\n",
       "      <th></th>\n",
       "      <th>RECORD_TIME</th>\n",
       "    </tr>\n",
       "  </thead>\n",
       "  <tbody>\n",
       "    <tr>\n",
       "      <th>0</th>\n",
       "      <td>2021-11-01 03:30</td>\n",
       "    </tr>\n",
       "    <tr>\n",
       "      <th>1</th>\n",
       "      <td>2021-11-01 03:00</td>\n",
       "    </tr>\n",
       "  </tbody>\n",
       "</table>\n",
       "</div>"
      ],
      "text/plain": [
       "        RECORD_TIME\n",
       "0  2021-11-01 03:30\n",
       "1  2021-11-01 03:00"
      ]
     },
     "execution_count": 3,
     "metadata": {},
     "output_type": "execute_result"
    }
   ],
   "source": [
    "timestamps"
   ]
  },
  {
   "cell_type": "code",
   "execution_count": 4,
   "id": "alternate-victory",
   "metadata": {
    "execution": {
     "iopub.execute_input": "2021-11-01T02:30:09.335040Z",
     "iopub.status.busy": "2021-11-01T02:30:09.333195Z",
     "iopub.status.idle": "2021-11-01T02:30:10.359878Z",
     "shell.execute_reply": "2021-11-01T02:30:10.361337Z"
    },
    "papermill": {
     "duration": 1.057002,
     "end_time": "2021-11-01T02:30:10.361772",
     "exception": false,
     "start_time": "2021-11-01T02:30:09.304770",
     "status": "completed"
    },
    "tags": []
   },
   "outputs": [],
   "source": [
    "df = pd.read_sql(\"select * from EBAY_TOP_BERLIN where record_time in (select distinct record_time from EBAY_TOP_BERLIN order by record_time desc limit 2)\", sqlite3.connect(\"UsedObjects.db\"))"
   ]
  },
  {
   "cell_type": "code",
   "execution_count": 5,
   "id": "popular-active",
   "metadata": {
    "execution": {
     "iopub.execute_input": "2021-11-01T02:30:10.431343Z",
     "iopub.status.busy": "2021-11-01T02:30:10.419574Z",
     "iopub.status.idle": "2021-11-01T02:30:10.448832Z",
     "shell.execute_reply": "2021-11-01T02:30:10.450249Z"
    },
    "papermill": {
     "duration": 0.067902,
     "end_time": "2021-11-01T02:30:10.450684",
     "exception": false,
     "start_time": "2021-11-01T02:30:10.382782",
     "status": "completed"
    },
    "tags": []
   },
   "outputs": [],
   "source": [
    "df_pivot = df.pivot_table(index=\"PRODUCT\", columns = \"RECORD_TIME\", values = \"LISTING_COUNT\")"
   ]
  },
  {
   "cell_type": "code",
   "execution_count": 6,
   "id": "union-huntington",
   "metadata": {
    "execution": {
     "iopub.execute_input": "2021-11-01T02:30:10.508838Z",
     "iopub.status.busy": "2021-11-01T02:30:10.506371Z",
     "iopub.status.idle": "2021-11-01T02:30:10.512392Z",
     "shell.execute_reply": "2021-11-01T02:30:10.513778Z"
    },
    "papermill": {
     "duration": 0.042817,
     "end_time": "2021-11-01T02:30:10.514234",
     "exception": false,
     "start_time": "2021-11-01T02:30:10.471417",
     "status": "completed"
    },
    "tags": []
   },
   "outputs": [],
   "source": [
    "df_pivot.columns = [\"stamp_1\", \"stamp_2\"]\n",
    "df_pivot_diff = df_pivot.diff(axis=1)"
   ]
  },
  {
   "cell_type": "code",
   "execution_count": 7,
   "id": "fifth-motion",
   "metadata": {
    "execution": {
     "iopub.execute_input": "2021-11-01T02:30:10.569187Z",
     "iopub.status.busy": "2021-11-01T02:30:10.566813Z",
     "iopub.status.idle": "2021-11-01T02:30:12.023450Z",
     "shell.execute_reply": "2021-11-01T02:30:12.024791Z"
    },
    "papermill": {
     "duration": 1.489315,
     "end_time": "2021-11-01T02:30:12.025215",
     "exception": false,
     "start_time": "2021-11-01T02:30:10.535900",
     "status": "completed"
    },
    "tags": []
   },
   "outputs": [
    {
     "data": {
      "text/plain": [
       "<AxesSubplot:ylabel='PRODUCT'>"
      ]
     },
     "execution_count": 7,
     "metadata": {},
     "output_type": "execute_result"
    },
    {
     "data": {
      "image/png": "[encoded data removed]",
      "text/plain": [
       "<Figure size 432x288 with 1 Axes>"
      ]
     },
     "metadata": {
      "needs_background": "light"
     },
     "output_type": "display_data"
    }
   ],
   "source": [
    "df_pivot_diff.sort_values(\"stamp_2\", ascending = False)[\"stamp_2\"].head(10).plot.barh()"
   ]
  },
  {
   "cell_type": "code",
   "execution_count": null,
   "id": "extra-executive",
   "metadata": {
    "papermill": {
     "duration": 0.022357,
     "end_time": "2021-11-01T02:30:12.072600",
     "exception": false,
     "start_time": "2021-11-01T02:30:12.050243",
     "status": "completed"
    },
    "tags": []
   },
   "outputs": [],
   "source": []
  }
 ],
 "metadata": {
  "kernelspec": {
   "display_name": "Python 3",
   "language": "python",
   "name": "python3"
  },
  "language_info": {
   "codemirror_mode": {
    "name": "ipython",
    "version": 3
   },
   "file_extension": ".py",
   "mimetype": "text/x-python",
   "name": "python",
   "nbconvert_exporter": "python",
   "pygments_lexer": "ipython3",
   "version": "3.9.5"
  },
  "papermill": {
   "default_parameters": {},
   "duration": 7.686016,
   "end_time": "2021-11-01T02:30:12.716381",
   "environment_variables": {},
   "exception": null,
   "input_path": "eBay_Overview.ipynb",
   "output_path": "eBay_Overview.ipynb",
   "parameters": {},
   "start_time": "2021-11-01T02:30:05.030365",
   "version": "2.3.3"
  }
 },
 "nbformat": 4,
 "nbformat_minor": 5
}