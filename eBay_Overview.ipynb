{
 "cells": [
  {
   "cell_type": "code",
   "execution_count": 1,
   "id": "reverse-picking",
   "metadata": {
    "execution": {
     "iopub.execute_input": "2021-11-23T00:30:07.731149Z",
     "iopub.status.busy": "2021-11-23T00:30:07.728744Z",
     "iopub.status.idle": "2021-11-23T00:30:08.656449Z",
     "shell.execute_reply": "2021-11-23T00:30:08.658188Z"
    },
    "papermill": {
     "duration": 0.980216,
     "end_time": "2021-11-23T00:30:08.658982",
     "exception": false,
     "start_time": "2021-11-23T00:30:07.678766",
     "status": "completed"
    },
    "tags": []
   },
   "outputs": [],
   "source": [
    "import pandas as pd\n",
    "import sqlite3"
   ]
  },
  {
   "cell_type": "code",
   "execution_count": 2,
   "id": "innovative-syndrome",
   "metadata": {
    "execution": {
     "iopub.execute_input": "2021-11-23T00:30:08.853576Z",
     "iopub.status.busy": "2021-11-23T00:30:08.849904Z",
     "iopub.status.idle": "2021-11-23T00:30:09.737195Z",
     "shell.execute_reply": "2021-11-23T00:30:09.738516Z"
    },
    "papermill": {
     "duration": 0.933842,
     "end_time": "2021-11-23T00:30:09.738940",
     "exception": false,
     "start_time": "2021-11-23T00:30:08.805098",
     "status": "completed"
    },
    "tags": []
   },
   "outputs": [],
   "source": [
    "timestamps = pd.read_sql(\"select distinct record_time from EBAY_TOP_BERLIN order by record_time desc limit 2\", sqlite3.connect(\"UsedObjects.db\"))"
   ]
  },
  {
   "cell_type": "code",
   "execution_count": 3,
   "id": "periodic-identification",
   "metadata": {
    "execution": {
     "iopub.execute_input": "2021-11-23T00:30:09.806992Z",
     "iopub.status.busy": "2021-11-23T00:30:09.801717Z",
     "iopub.status.idle": "2021-11-23T00:30:09.822696Z",
     "shell.execute_reply": "2021-11-23T00:30:09.824061Z"
    },
    "papermill": {
     "duration": 0.065009,
     "end_time": "2021-11-23T00:30:09.824499",
     "exception": false,
     "start_time": "2021-11-23T00:30:09.759490",
     "status": "completed"
    },
    "tags": []
   },
   "outputs": [
    {
     "data": {
      "text/html": [
       "<div>\n",
       "<style scoped>\n",
       "    .dataframe tbody tr th:only-of-type {\n",
       "        vertical-align: middle;\n",
       "    }\n",
       "\n",
       "    .dataframe tbody tr th {\n",
       "        vertical-align: top;\n",
       "    }\n",
       "\n",
       "    .dataframe thead th {\n",
       "        text-align: right;\n",
       "    }\n",
       "</style>\n",
       "<table border=\"1\" class=\"dataframe\">\n",
       "  <thead>\n",
       "    <tr style=\"text-align: right;\">\n",
       "      <th></th>\n",
       "      <th>RECORD_TIME</th>\n",
       "    </tr>\n",
       "  </thead>\n",
       "  <tbody>\n",
       "    <tr>\n",
       "      <th>0</th>\n",
       "      <td>2021-11-23 01:30</td>\n",
       "    </tr>\n",
       "    <tr>\n",
       "      <th>1</th>\n",
       "      <td>2021-11-23 01:00</td>\n",
       "    </tr>\n",
       "  </tbody>\n",
       "</table>\n",
       "</div>"
      ],
      "text/plain": [
       "        RECORD_TIME\n",
       "0  2021-11-23 01:30\n",
       "1  2021-11-23 01:00"
      ]
     },
     "execution_count": 3,
     "metadata": {},
     "output_type": "execute_result"
    }
   ],
   "source": [
    "timestamps"
   ]
  },
  {
   "cell_type": "code",
   "execution_count": 4,
   "id": "alternate-victory",
   "metadata": {
    "execution": {
     "iopub.execute_input": "2021-11-23T00:30:09.877917Z",
     "iopub.status.busy": "2021-11-23T00:30:09.875517Z",
     "iopub.status.idle": "2021-11-23T00:30:11.162478Z",
     "shell.execute_reply": "2021-11-23T00:30:11.163833Z"
    },
    "papermill": {
     "duration": 1.317696,
     "end_time": "2021-11-23T00:30:11.164298",
     "exception": false,
     "start_time": "2021-11-23T00:30:09.846602",
     "status": "completed"
    },
    "tags": []
   },
   "outputs": [],
   "source": [
    "df = pd.read_sql(\"select * from EBAY_TOP_BERLIN where record_time in (select distinct record_time from EBAY_TOP_BERLIN order by record_time desc limit 2)\", sqlite3.connect(\"UsedObjects.db\"))"
   ]
  },
  {
   "cell_type": "code",
   "execution_count": 5,
   "id": "popular-active",
   "metadata": {
    "execution": {
     "iopub.execute_input": "2021-11-23T00:30:11.238921Z",
     "iopub.status.busy": "2021-11-23T00:30:11.225167Z",
     "iopub.status.idle": "2021-11-23T00:30:11.256860Z",
     "shell.execute_reply": "2021-11-23T00:30:11.258221Z"
    },
    "papermill": {
     "duration": 0.073617,
     "end_time": "2021-11-23T00:30:11.258696",
     "exception": false,
     "start_time": "2021-11-23T00:30:11.185079",
     "status": "completed"
    },
    "tags": []
   },
   "outputs": [],
   "source": [
    "df_pivot = df.pivot_table(index=\"PRODUCT\", columns = \"RECORD_TIME\", values = \"LISTING_COUNT\")"
   ]
  },
  {
   "cell_type": "code",
   "execution_count": 6,
   "id": "union-huntington",
   "metadata": {
    "execution": {
     "iopub.execute_input": "2021-11-23T00:30:11.322678Z",
     "iopub.status.busy": "2021-11-23T00:30:11.320213Z",
     "iopub.status.idle": "2021-11-23T00:30:11.326347Z",
     "shell.execute_reply": "2021-11-23T00:30:11.327898Z"
    },
    "papermill": {
     "duration": 0.047558,
     "end_time": "2021-11-23T00:30:11.328370",
     "exception": false,
     "start_time": "2021-11-23T00:30:11.280812",
     "status": "completed"
    },
    "tags": []
   },
   "outputs": [],
   "source": [
    "df_pivot.columns = [\"stamp_1\", \"stamp_2\"]\n",
    "df_pivot_diff = df_pivot.diff(axis=1)"
   ]
  },
  {
   "cell_type": "code",
   "execution_count": 7,
   "id": "fifth-motion",
   "metadata": {
    "execution": {
     "iopub.execute_input": "2021-11-23T00:30:11.391037Z",
     "iopub.status.busy": "2021-11-23T00:30:11.388086Z",
     "iopub.status.idle": "2021-11-23T00:30:13.381992Z",
     "shell.execute_reply": "2021-11-23T00:30:13.384754Z"
    },
    "papermill": {
     "duration": 2.035564,
     "end_time": "2021-11-23T00:30:13.385548",
     "exception": false,
     "start_time": "2021-11-23T00:30:11.349984",
     "status": "completed"
    },
    "tags": []
   },
   "outputs": [
    {
     "data": {
      "text/plain": [
       "<AxesSubplot:ylabel='PRODUCT'>"
      ]
     },
     "execution_count": 7,
     "metadata": {},
     "output_type": "execute_result"
    },
    {
     "data": {
      "image/png": "[encoded data removed]",
      "text/plain": [
       "<Figure size 432x288 with 1 Axes>"
      ]
     },
     "metadata": {
      "needs_background": "light"
     },
     "output_type": "display_data"
    }
   ],
   "source": [
    "df_pivot_diff.sort_values(\"stamp_2\", ascending = False)[\"stamp_2\"].head(10).plot.barh()"
   ]
  },
  {
   "cell_type": "code",
   "execution_count": null,
   "id": "extra-executive",
   "metadata": {
    "papermill": {
     "duration": 0.034476,
     "end_time": "2021-11-23T00:30:13.458424",
     "exception": false,
     "start_time": "2021-11-23T00:30:13.423948",
     "status": "completed"
    },
    "tags": []
   },
   "outputs": [],
   "source": []
  }
 ],
 "metadata": {
  "kernelspec": {
   "display_name": "Python 3",
   "language": "python",
   "name": "python3"
  },
  "language_info": {
   "codemirror_mode": {
    "name": "ipython",
    "version": 3
   },
   "file_extension": ".py",
   "mimetype": "text/x-python",
   "name": "python",
   "nbconvert_exporter": "python",
   "pygments_lexer": "ipython3",
   "version": "3.9.5"
  },
  "papermill": {
   "default_parameters": {},
   "duration": 9.940436,
   "end_time": "2021-11-23T00:30:14.884051",
   "environment_variables": {},
   "exception": null,
   "input_path": "eBay_Overview.ipynb",
   "output_path": "eBay_Overview.ipynb",
   "parameters": {},
   "start_time": "2021-11-23T00:30:04.943615",
   "version": "2.3.3"
  }
 },
 "nbformat": 4,
 "nbformat_minor": 5
}