{
 "cells": [
  {
   "cell_type": "code",
   "execution_count": 1,
   "id": "reverse-picking",
   "metadata": {
    "execution": {
     "iopub.execute_input": "2021-11-29T03:00:07.073372Z",
     "iopub.status.busy": "2021-11-29T03:00:07.071093Z",
     "iopub.status.idle": "2021-11-29T03:00:08.031926Z",
     "shell.execute_reply": "2021-11-29T03:00:08.030055Z"
    },
    "papermill": {
     "duration": 1.010789,
     "end_time": "2021-11-29T03:00:08.032458",
     "exception": false,
     "start_time": "2021-11-29T03:00:07.021669",
     "status": "completed"
    },
    "tags": []
   },
   "outputs": [],
   "source": [
    "import pandas as pd\n",
    "import sqlite3"
   ]
  },
  {
   "cell_type": "code",
   "execution_count": 2,
   "id": "innovative-syndrome",
   "metadata": {
    "execution": {
     "iopub.execute_input": "2021-11-29T03:00:08.095692Z",
     "iopub.status.busy": "2021-11-29T03:00:08.093485Z",
     "iopub.status.idle": "2021-11-29T03:00:09.041528Z",
     "shell.execute_reply": "2021-11-29T03:00:09.043013Z"
    },
    "papermill": {
     "duration": 0.983609,
     "end_time": "2021-11-29T03:00:09.043524",
     "exception": false,
     "start_time": "2021-11-29T03:00:08.059915",
     "status": "completed"
    },
    "tags": []
   },
   "outputs": [],
   "source": [
    "timestamps = pd.read_sql(\"select distinct record_time from EBAY_TOP_BERLIN order by record_time desc limit 2\", sqlite3.connect(\"UsedObjects.db\"))"
   ]
  },
  {
   "cell_type": "code",
   "execution_count": 3,
   "id": "periodic-identification",
   "metadata": {
    "execution": {
     "iopub.execute_input": "2021-11-29T03:00:09.118317Z",
     "iopub.status.busy": "2021-11-29T03:00:09.115914Z",
     "iopub.status.idle": "2021-11-29T03:00:09.138796Z",
     "shell.execute_reply": "2021-11-29T03:00:09.140459Z"
    },
    "papermill": {
     "duration": 0.075167,
     "end_time": "2021-11-29T03:00:09.141191",
     "exception": false,
     "start_time": "2021-11-29T03:00:09.066024",
     "status": "completed"
    },
    "tags": []
   },
   "outputs": [
    {
     "data": {
      "text/html": [
       "<div>\n",
       "<style scoped>\n",
       "    .dataframe tbody tr th:only-of-type {\n",
       "        vertical-align: middle;\n",
       "    }\n",
       "\n",
       "    .dataframe tbody tr th {\n",
       "        vertical-align: top;\n",
       "    }\n",
       "\n",
       "    .dataframe thead th {\n",
       "        text-align: right;\n",
       "    }\n",
       "</style>\n",
       "<table border=\"1\" class=\"dataframe\">\n",
       "  <thead>\n",
       "    <tr style=\"text-align: right;\">\n",
       "      <th></th>\n",
       "      <th>RECORD_TIME</th>\n",
       "    </tr>\n",
       "  </thead>\n",
       "  <tbody>\n",
       "    <tr>\n",
       "      <th>0</th>\n",
       "      <td>2021-11-29 04:00</td>\n",
       "    </tr>\n",
       "    <tr>\n",
       "      <th>1</th>\n",
       "      <td>2021-11-29 03:30</td>\n",
       "    </tr>\n",
       "  </tbody>\n",
       "</table>\n",
       "</div>"
      ],
      "text/plain": [
       "        RECORD_TIME\n",
       "0  2021-11-29 04:00\n",
       "1  2021-11-29 03:30"
      ]
     },
     "execution_count": 3,
     "metadata": {},
     "output_type": "execute_result"
    }
   ],
   "source": [
    "timestamps"
   ]
  },
  {
   "cell_type": "code",
   "execution_count": 4,
   "id": "alternate-victory",
   "metadata": {
    "execution": {
     "iopub.execute_input": "2021-11-29T03:00:09.197081Z",
     "iopub.status.busy": "2021-11-29T03:00:09.194737Z",
     "iopub.status.idle": "2021-11-29T03:00:10.578860Z",
     "shell.execute_reply": "2021-11-29T03:00:10.580479Z"
    },
    "papermill": {
     "duration": 1.417739,
     "end_time": "2021-11-29T03:00:10.581076",
     "exception": false,
     "start_time": "2021-11-29T03:00:09.163337",
     "status": "completed"
    },
    "tags": []
   },
   "outputs": [],
   "source": [
    "df = pd.read_sql(\"select * from EBAY_TOP_BERLIN where record_time in (select distinct record_time from EBAY_TOP_BERLIN order by record_time desc limit 2)\", sqlite3.connect(\"UsedObjects.db\"))"
   ]
  },
  {
   "cell_type": "code",
   "execution_count": 5,
   "id": "popular-active",
   "metadata": {
    "execution": {
     "iopub.execute_input": "2021-11-29T03:00:10.661326Z",
     "iopub.status.busy": "2021-11-29T03:00:10.658094Z",
     "iopub.status.idle": "2021-11-29T03:00:10.679842Z",
     "shell.execute_reply": "2021-11-29T03:00:10.681361Z"
    },
    "papermill": {
     "duration": 0.079422,
     "end_time": "2021-11-29T03:00:10.681838",
     "exception": false,
     "start_time": "2021-11-29T03:00:10.602416",
     "status": "completed"
    },
    "tags": []
   },
   "outputs": [],
   "source": [
    "df_pivot = df.pivot_table(index=\"PRODUCT\", columns = \"RECORD_TIME\", values = \"LISTING_COUNT\")"
   ]
  },
  {
   "cell_type": "code",
   "execution_count": 6,
   "id": "union-huntington",
   "metadata": {
    "execution": {
     "iopub.execute_input": "2021-11-29T03:00:10.744449Z",
     "iopub.status.busy": "2021-11-29T03:00:10.742119Z",
     "iopub.status.idle": "2021-11-29T03:00:10.748375Z",
     "shell.execute_reply": "2021-11-29T03:00:10.749829Z"
    },
    "papermill": {
     "duration": 0.04652,
     "end_time": "2021-11-29T03:00:10.750318",
     "exception": false,
     "start_time": "2021-11-29T03:00:10.703798",
     "status": "completed"
    },
    "tags": []
   },
   "outputs": [],
   "source": [
    "df_pivot.columns = [\"stamp_1\", \"stamp_2\"]\n",
    "df_pivot_diff = df_pivot.diff(axis=1)"
   ]
  },
  {
   "cell_type": "code",
   "execution_count": 7,
   "id": "fifth-motion",
   "metadata": {
    "execution": {
     "iopub.execute_input": "2021-11-29T03:00:10.808344Z",
     "iopub.status.busy": "2021-11-29T03:00:10.804212Z",
     "iopub.status.idle": "2021-11-29T03:00:12.722304Z",
     "shell.execute_reply": "2021-11-29T03:00:12.723901Z"
    },
    "papermill": {
     "duration": 1.954167,
     "end_time": "2021-11-29T03:00:12.724489",
     "exception": false,
     "start_time": "2021-11-29T03:00:10.770322",
     "status": "completed"
    },
    "tags": []
   },
   "outputs": [
    {
     "data": {
      "text/plain": [
       "<AxesSubplot:ylabel='PRODUCT'>"
      ]
     },
     "execution_count": 7,
     "metadata": {},
     "output_type": "execute_result"
    },
    {
     "data": {
      "image/png": "[encoded data removed]",
      "text/plain": [
       "<Figure size 432x288 with 1 Axes>"
      ]
     },
     "metadata": {
      "needs_background": "light"
     },
     "output_type": "display_data"
    }
   ],
   "source": [
    "df_pivot_diff.sort_values(\"stamp_2\", ascending = False)[\"stamp_2\"].head(10).plot.barh()"
   ]
  },
  {
   "cell_type": "code",
   "execution_count": null,
   "id": "extra-executive",
   "metadata": {
    "papermill": {
     "duration": 0.035113,
     "end_time": "2021-11-29T03:00:12.797543",
     "exception": false,
     "start_time": "2021-11-29T03:00:12.762430",
     "status": "completed"
    },
    "tags": []
   },
   "outputs": [],
   "source": []
  }
 ],
 "metadata": {
  "kernelspec": {
   "display_name": "Python 3",
   "language": "python",
   "name": "python3"
  },
  "language_info": {
   "codemirror_mode": {
    "name": "ipython",
    "version": 3
   },
   "file_extension": ".py",
   "mimetype": "text/x-python",
   "name": "python",
   "nbconvert_exporter": "python",
   "pygments_lexer": "ipython3",
   "version": "3.9.5"
  },
  "papermill": {
   "default_parameters": {},
   "duration": 9.940065,
   "end_time": "2021-11-29T03:00:14.207659",
   "environment_variables": {},
   "exception": null,
   "input_path": "eBay_Overview.ipynb",
   "output_path": "eBay_Overview.ipynb",
   "parameters": {},
   "start_time": "2021-11-29T03:00:04.267594",
   "version": "2.3.3"
  }
 },
 "nbformat": 4,
 "nbformat_minor": 5
}