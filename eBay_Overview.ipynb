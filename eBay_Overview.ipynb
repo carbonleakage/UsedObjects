{
 "cells": [
  {
   "cell_type": "code",
   "execution_count": 1,
   "id": "reverse-picking",
   "metadata": {
    "execution": {
     "iopub.execute_input": "2021-10-06T06:00:06.905548Z",
     "iopub.status.busy": "2021-10-06T06:00:06.903595Z",
     "iopub.status.idle": "2021-10-06T06:00:07.713713Z",
     "shell.execute_reply": "2021-10-06T06:00:07.715197Z"
    },
    "papermill": {
     "duration": 0.863537,
     "end_time": "2021-10-06T06:00:07.715851",
     "exception": false,
     "start_time": "2021-10-06T06:00:06.852314",
     "status": "completed"
    },
    "tags": []
   },
   "outputs": [],
   "source": [
    "import pandas as pd\n",
    "import sqlite3"
   ]
  },
  {
   "cell_type": "code",
   "execution_count": 2,
   "id": "innovative-syndrome",
   "metadata": {
    "execution": {
     "iopub.execute_input": "2021-10-06T06:00:07.769250Z",
     "iopub.status.busy": "2021-10-06T06:00:07.766886Z",
     "iopub.status.idle": "2021-10-06T06:00:08.231619Z",
     "shell.execute_reply": "2021-10-06T06:00:08.233009Z"
    },
    "papermill": {
     "duration": 0.495281,
     "end_time": "2021-10-06T06:00:08.233454",
     "exception": false,
     "start_time": "2021-10-06T06:00:07.738173",
     "status": "completed"
    },
    "tags": []
   },
   "outputs": [],
   "source": [
    "timestamps = pd.read_sql(\"select distinct record_time from EBAY_TOP_BERLIN order by record_time desc limit 2\", sqlite3.connect(\"UsedObjects.db\"))"
   ]
  },
  {
   "cell_type": "code",
   "execution_count": 3,
   "id": "periodic-identification",
   "metadata": {
    "execution": {
     "iopub.execute_input": "2021-10-06T06:00:08.300328Z",
     "iopub.status.busy": "2021-10-06T06:00:08.298351Z",
     "iopub.status.idle": "2021-10-06T06:00:08.321769Z",
     "shell.execute_reply": "2021-10-06T06:00:08.323078Z"
    },
    "papermill": {
     "duration": 0.070222,
     "end_time": "2021-10-06T06:00:08.323549",
     "exception": false,
     "start_time": "2021-10-06T06:00:08.253327",
     "status": "completed"
    },
    "tags": []
   },
   "outputs": [
    {
     "data": {
      "text/html": [
       "<div>\n",
       "<style scoped>\n",
       "    .dataframe tbody tr th:only-of-type {\n",
       "        vertical-align: middle;\n",
       "    }\n",
       "\n",
       "    .dataframe tbody tr th {\n",
       "        vertical-align: top;\n",
       "    }\n",
       "\n",
       "    .dataframe thead th {\n",
       "        text-align: right;\n",
       "    }\n",
       "</style>\n",
       "<table border=\"1\" class=\"dataframe\">\n",
       "  <thead>\n",
       "    <tr style=\"text-align: right;\">\n",
       "      <th></th>\n",
       "      <th>RECORD_TIME</th>\n",
       "    </tr>\n",
       "  </thead>\n",
       "  <tbody>\n",
       "    <tr>\n",
       "      <th>0</th>\n",
       "      <td>2021-10-06 08:00</td>\n",
       "    </tr>\n",
       "    <tr>\n",
       "      <th>1</th>\n",
       "      <td>2021-10-06 07:30</td>\n",
       "    </tr>\n",
       "  </tbody>\n",
       "</table>\n",
       "</div>"
      ],
      "text/plain": [
       "        RECORD_TIME\n",
       "0  2021-10-06 08:00\n",
       "1  2021-10-06 07:30"
      ]
     },
     "execution_count": 3,
     "metadata": {},
     "output_type": "execute_result"
    }
   ],
   "source": [
    "timestamps"
   ]
  },
  {
   "cell_type": "code",
   "execution_count": 4,
   "id": "alternate-victory",
   "metadata": {
    "execution": {
     "iopub.execute_input": "2021-10-06T06:00:08.385562Z",
     "iopub.status.busy": "2021-10-06T06:00:08.383694Z",
     "iopub.status.idle": "2021-10-06T06:00:09.053032Z",
     "shell.execute_reply": "2021-10-06T06:00:09.054261Z"
    },
    "papermill": {
     "duration": 0.702776,
     "end_time": "2021-10-06T06:00:09.054673",
     "exception": false,
     "start_time": "2021-10-06T06:00:08.351897",
     "status": "completed"
    },
    "tags": []
   },
   "outputs": [],
   "source": [
    "df = pd.read_sql(\"select * from EBAY_TOP_BERLIN where record_time in (select distinct record_time from EBAY_TOP_BERLIN order by record_time desc limit 2)\", sqlite3.connect(\"UsedObjects.db\"))"
   ]
  },
  {
   "cell_type": "code",
   "execution_count": 5,
   "id": "popular-active",
   "metadata": {
    "execution": {
     "iopub.execute_input": "2021-10-06T06:00:09.123839Z",
     "iopub.status.busy": "2021-10-06T06:00:09.112416Z",
     "iopub.status.idle": "2021-10-06T06:00:09.141844Z",
     "shell.execute_reply": "2021-10-06T06:00:09.143214Z"
    },
    "papermill": {
     "duration": 0.068422,
     "end_time": "2021-10-06T06:00:09.143652",
     "exception": false,
     "start_time": "2021-10-06T06:00:09.075230",
     "status": "completed"
    },
    "tags": []
   },
   "outputs": [],
   "source": [
    "df_pivot = df.pivot_table(index=\"PRODUCT\", columns = \"RECORD_TIME\", values = \"LISTING_COUNT\")"
   ]
  },
  {
   "cell_type": "code",
   "execution_count": 6,
   "id": "union-huntington",
   "metadata": {
    "execution": {
     "iopub.execute_input": "2021-10-06T06:00:09.200018Z",
     "iopub.status.busy": "2021-10-06T06:00:09.197907Z",
     "iopub.status.idle": "2021-10-06T06:00:09.203127Z",
     "shell.execute_reply": "2021-10-06T06:00:09.204343Z"
    },
    "papermill": {
     "duration": 0.040965,
     "end_time": "2021-10-06T06:00:09.204782",
     "exception": false,
     "start_time": "2021-10-06T06:00:09.163817",
     "status": "completed"
    },
    "tags": []
   },
   "outputs": [],
   "source": [
    "df_pivot.columns = [\"stamp_1\", \"stamp_2\"]\n",
    "df_pivot_diff = df_pivot.diff(axis=1)"
   ]
  },
  {
   "cell_type": "code",
   "execution_count": 7,
   "id": "fifth-motion",
   "metadata": {
    "execution": {
     "iopub.execute_input": "2021-10-06T06:00:09.259028Z",
     "iopub.status.busy": "2021-10-06T06:00:09.256608Z",
     "iopub.status.idle": "2021-10-06T06:00:10.739206Z",
     "shell.execute_reply": "2021-10-06T06:00:10.740707Z"
    },
    "papermill": {
     "duration": 1.516029,
     "end_time": "2021-10-06T06:00:10.741188",
     "exception": false,
     "start_time": "2021-10-06T06:00:09.225159",
     "status": "completed"
    },
    "tags": []
   },
   "outputs": [
    {
     "data": {
      "text/plain": [
       "<AxesSubplot:ylabel='PRODUCT'>"
      ]
     },
     "execution_count": 7,
     "metadata": {},
     "output_type": "execute_result"
    },
    {
     "data": {
      "image/png": "[encoded data removed]",
      "text/plain": [
       "<Figure size 432x288 with 1 Axes>"
      ]
     },
     "metadata": {
      "needs_background": "light"
     },
     "output_type": "display_data"
    }
   ],
   "source": [
    "df_pivot_diff.sort_values(\"stamp_2\", ascending = False)[\"stamp_2\"].head(10).plot.barh()"
   ]
  },
  {
   "cell_type": "code",
   "execution_count": null,
   "id": "extra-executive",
   "metadata": {
    "papermill": {
     "duration": 0.022351,
     "end_time": "2021-10-06T06:00:10.788636",
     "exception": false,
     "start_time": "2021-10-06T06:00:10.766285",
     "status": "completed"
    },
    "tags": []
   },
   "outputs": [],
   "source": []
  }
 ],
 "metadata": {
  "kernelspec": {
   "display_name": "Python 3",
   "language": "python",
   "name": "python3"
  },
  "language_info": {
   "codemirror_mode": {
    "name": "ipython",
    "version": 3
   },
   "file_extension": ".py",
   "mimetype": "text/x-python",
   "name": "python",
   "nbconvert_exporter": "python",
   "pygments_lexer": "ipython3",
   "version": "3.9.5"
  },
  "papermill": {
   "default_parameters": {},
   "duration": 7.83703,
   "end_time": "2021-10-06T06:00:12.275164",
   "environment_variables": {},
   "exception": null,
   "input_path": "eBay_Overview.ipynb",
   "output_path": "eBay_Overview.ipynb",
   "parameters": {},
   "start_time": "2021-10-06T06:00:04.438134",
   "version": "2.3.3"
  }
 },
 "nbformat": 4,
 "nbformat_minor": 5
}