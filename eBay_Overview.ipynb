{
 "cells": [
  {
   "cell_type": "code",
   "execution_count": 1,
   "id": "reverse-picking",
   "metadata": {
    "execution": {
     "iopub.execute_input": "2021-09-28T10:00:06.707415Z",
     "iopub.status.busy": "2021-09-28T10:00:06.705347Z",
     "iopub.status.idle": "2021-09-28T10:00:07.511597Z",
     "shell.execute_reply": "2021-09-28T10:00:07.512858Z"
    },
    "papermill": {
     "duration": 0.858198,
     "end_time": "2021-09-28T10:00:07.513480",
     "exception": false,
     "start_time": "2021-09-28T10:00:06.655282",
     "status": "completed"
    },
    "tags": []
   },
   "outputs": [],
   "source": [
    "import pandas as pd\n",
    "import sqlite3"
   ]
  },
  {
   "cell_type": "code",
   "execution_count": 2,
   "id": "innovative-syndrome",
   "metadata": {
    "execution": {
     "iopub.execute_input": "2021-09-28T10:00:07.567048Z",
     "iopub.status.busy": "2021-09-28T10:00:07.564665Z",
     "iopub.status.idle": "2021-09-28T10:00:07.970168Z",
     "shell.execute_reply": "2021-09-28T10:00:07.971499Z"
    },
    "papermill": {
     "duration": 0.435806,
     "end_time": "2021-09-28T10:00:07.971929",
     "exception": false,
     "start_time": "2021-09-28T10:00:07.536123",
     "status": "completed"
    },
    "tags": []
   },
   "outputs": [],
   "source": [
    "timestamps = pd.read_sql(\"select distinct record_time from EBAY_TOP_BERLIN order by record_time desc limit 2\", sqlite3.connect(\"UsedObjects.db\"))"
   ]
  },
  {
   "cell_type": "code",
   "execution_count": 3,
   "id": "periodic-identification",
   "metadata": {
    "execution": {
     "iopub.execute_input": "2021-09-28T10:00:08.040119Z",
     "iopub.status.busy": "2021-09-28T10:00:08.037991Z",
     "iopub.status.idle": "2021-09-28T10:00:08.057977Z",
     "shell.execute_reply": "2021-09-28T10:00:08.059442Z"
    },
    "papermill": {
     "duration": 0.067051,
     "end_time": "2021-09-28T10:00:08.059887",
     "exception": false,
     "start_time": "2021-09-28T10:00:07.992836",
     "status": "completed"
    },
    "tags": []
   },
   "outputs": [
    {
     "data": {
      "text/html": [
       "<div>\n",
       "<style scoped>\n",
       "    .dataframe tbody tr th:only-of-type {\n",
       "        vertical-align: middle;\n",
       "    }\n",
       "\n",
       "    .dataframe tbody tr th {\n",
       "        vertical-align: top;\n",
       "    }\n",
       "\n",
       "    .dataframe thead th {\n",
       "        text-align: right;\n",
       "    }\n",
       "</style>\n",
       "<table border=\"1\" class=\"dataframe\">\n",
       "  <thead>\n",
       "    <tr style=\"text-align: right;\">\n",
       "      <th></th>\n",
       "      <th>RECORD_TIME</th>\n",
       "    </tr>\n",
       "  </thead>\n",
       "  <tbody>\n",
       "    <tr>\n",
       "      <th>0</th>\n",
       "      <td>2021-09-28 12:00</td>\n",
       "    </tr>\n",
       "    <tr>\n",
       "      <th>1</th>\n",
       "      <td>2021-09-28 11:30</td>\n",
       "    </tr>\n",
       "  </tbody>\n",
       "</table>\n",
       "</div>"
      ],
      "text/plain": [
       "        RECORD_TIME\n",
       "0  2021-09-28 12:00\n",
       "1  2021-09-28 11:30"
      ]
     },
     "execution_count": 3,
     "metadata": {},
     "output_type": "execute_result"
    }
   ],
   "source": [
    "timestamps"
   ]
  },
  {
   "cell_type": "code",
   "execution_count": 4,
   "id": "alternate-victory",
   "metadata": {
    "execution": {
     "iopub.execute_input": "2021-09-28T10:00:08.111952Z",
     "iopub.status.busy": "2021-09-28T10:00:08.110019Z",
     "iopub.status.idle": "2021-09-28T10:00:08.688685Z",
     "shell.execute_reply": "2021-09-28T10:00:08.689875Z"
    },
    "papermill": {
     "duration": 0.608685,
     "end_time": "2021-09-28T10:00:08.690304",
     "exception": false,
     "start_time": "2021-09-28T10:00:08.081619",
     "status": "completed"
    },
    "tags": []
   },
   "outputs": [],
   "source": [
    "df = pd.read_sql(\"select * from EBAY_TOP_BERLIN where record_time in (select distinct record_time from EBAY_TOP_BERLIN order by record_time desc limit 2)\", sqlite3.connect(\"UsedObjects.db\"))"
   ]
  },
  {
   "cell_type": "code",
   "execution_count": 5,
   "id": "popular-active",
   "metadata": {
    "execution": {
     "iopub.execute_input": "2021-09-28T10:00:08.766180Z",
     "iopub.status.busy": "2021-09-28T10:00:08.753698Z",
     "iopub.status.idle": "2021-09-28T10:00:08.781718Z",
     "shell.execute_reply": "2021-09-28T10:00:08.782969Z"
    },
    "papermill": {
     "duration": 0.068996,
     "end_time": "2021-09-28T10:00:08.783377",
     "exception": false,
     "start_time": "2021-09-28T10:00:08.714381",
     "status": "completed"
    },
    "tags": []
   },
   "outputs": [],
   "source": [
    "df_pivot = df.pivot_table(index=\"PRODUCT\", columns = \"RECORD_TIME\", values = \"LISTING_COUNT\")"
   ]
  },
  {
   "cell_type": "code",
   "execution_count": 6,
   "id": "union-huntington",
   "metadata": {
    "execution": {
     "iopub.execute_input": "2021-09-28T10:00:08.839806Z",
     "iopub.status.busy": "2021-09-28T10:00:08.837547Z",
     "iopub.status.idle": "2021-09-28T10:00:08.843298Z",
     "shell.execute_reply": "2021-09-28T10:00:08.844741Z"
    },
    "papermill": {
     "duration": 0.041131,
     "end_time": "2021-09-28T10:00:08.845218",
     "exception": false,
     "start_time": "2021-09-28T10:00:08.804087",
     "status": "completed"
    },
    "tags": []
   },
   "outputs": [],
   "source": [
    "df_pivot.columns = [\"stamp_1\", \"stamp_2\"]\n",
    "df_pivot_diff = df_pivot.diff(axis=1)"
   ]
  },
  {
   "cell_type": "code",
   "execution_count": 7,
   "id": "fifth-motion",
   "metadata": {
    "execution": {
     "iopub.execute_input": "2021-09-28T10:00:08.901080Z",
     "iopub.status.busy": "2021-09-28T10:00:08.898625Z",
     "iopub.status.idle": "2021-09-28T10:00:10.412250Z",
     "shell.execute_reply": "2021-09-28T10:00:10.413626Z"
    },
    "papermill": {
     "duration": 1.547117,
     "end_time": "2021-09-28T10:00:10.414067",
     "exception": false,
     "start_time": "2021-09-28T10:00:08.866950",
     "status": "completed"
    },
    "tags": []
   },
   "outputs": [
    {
     "data": {
      "text/plain": [
       "<AxesSubplot:ylabel='PRODUCT'>"
      ]
     },
     "execution_count": 7,
     "metadata": {},
     "output_type": "execute_result"
    },
    {
     "data": {
      "image/png": "[encoded data removed]",
      "text/plain": [
       "<Figure size 432x288 with 1 Axes>"
      ]
     },
     "metadata": {
      "needs_background": "light"
     },
     "output_type": "display_data"
    }
   ],
   "source": [
    "df_pivot_diff.sort_values(\"stamp_2\", ascending = False)[\"stamp_2\"].head(10).plot.barh()"
   ]
  },
  {
   "cell_type": "code",
   "execution_count": null,
   "id": "extra-executive",
   "metadata": {
    "papermill": {
     "duration": 0.022448,
     "end_time": "2021-09-28T10:00:10.460135",
     "exception": false,
     "start_time": "2021-09-28T10:00:10.437687",
     "status": "completed"
    },
    "tags": []
   },
   "outputs": [],
   "source": []
  }
 ],
 "metadata": {
  "kernelspec": {
   "display_name": "Python 3",
   "language": "python",
   "name": "python3"
  },
  "language_info": {
   "codemirror_mode": {
    "name": "ipython",
    "version": 3
   },
   "file_extension": ".py",
   "mimetype": "text/x-python",
   "name": "python",
   "nbconvert_exporter": "python",
   "pygments_lexer": "ipython3",
   "version": "3.9.5"
  },
  "papermill": {
   "default_parameters": {},
   "duration": 7.837733,
   "end_time": "2021-09-28T10:00:12.082187",
   "environment_variables": {},
   "exception": null,
   "input_path": "eBay_Overview.ipynb",
   "output_path": "eBay_Overview.ipynb",
   "parameters": {},
   "start_time": "2021-09-28T10:00:04.244454",
   "version": "2.3.3"
  }
 },
 "nbformat": 4,
 "nbformat_minor": 5
}