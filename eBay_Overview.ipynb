{
 "cells": [
  {
   "cell_type": "code",
   "execution_count": 1,
   "id": "reverse-picking",
   "metadata": {
    "execution": {
     "iopub.execute_input": "2021-08-25T22:30:06.928768Z",
     "iopub.status.busy": "2021-08-25T22:30:06.926700Z",
     "iopub.status.idle": "2021-08-25T22:30:07.729440Z",
     "shell.execute_reply": "2021-08-25T22:30:07.730762Z"
    },
    "papermill": {
     "duration": 0.853169,
     "end_time": "2021-08-25T22:30:07.731383",
     "exception": false,
     "start_time": "2021-08-25T22:30:06.878214",
     "status": "completed"
    },
    "tags": []
   },
   "outputs": [],
   "source": [
    "import pandas as pd\n",
    "import sqlite3"
   ]
  },
  {
   "cell_type": "code",
   "execution_count": 2,
   "id": "innovative-syndrome",
   "metadata": {
    "execution": {
     "iopub.execute_input": "2021-08-25T22:30:07.781337Z",
     "iopub.status.busy": "2021-08-25T22:30:07.779324Z",
     "iopub.status.idle": "2021-08-25T22:30:07.910717Z",
     "shell.execute_reply": "2021-08-25T22:30:07.909476Z"
    },
    "papermill": {
     "duration": 0.159637,
     "end_time": "2021-08-25T22:30:07.911066",
     "exception": false,
     "start_time": "2021-08-25T22:30:07.751429",
     "status": "completed"
    },
    "tags": []
   },
   "outputs": [],
   "source": [
    "timestamps = pd.read_sql(\"select distinct record_time from EBAY_TOP_BERLIN order by record_time desc limit 2\", sqlite3.connect(\"UsedObjects.db\"))"
   ]
  },
  {
   "cell_type": "code",
   "execution_count": 3,
   "id": "periodic-identification",
   "metadata": {
    "execution": {
     "iopub.execute_input": "2021-08-25T22:30:07.979272Z",
     "iopub.status.busy": "2021-08-25T22:30:07.977268Z",
     "iopub.status.idle": "2021-08-25T22:30:07.997061Z",
     "shell.execute_reply": "2021-08-25T22:30:07.998880Z"
    },
    "papermill": {
     "duration": 0.066081,
     "end_time": "2021-08-25T22:30:07.999416",
     "exception": false,
     "start_time": "2021-08-25T22:30:07.933335",
     "status": "completed"
    },
    "tags": []
   },
   "outputs": [
    {
     "data": {
      "text/html": [
       "<div>\n",
       "<style scoped>\n",
       "    .dataframe tbody tr th:only-of-type {\n",
       "        vertical-align: middle;\n",
       "    }\n",
       "\n",
       "    .dataframe tbody tr th {\n",
       "        vertical-align: top;\n",
       "    }\n",
       "\n",
       "    .dataframe thead th {\n",
       "        text-align: right;\n",
       "    }\n",
       "</style>\n",
       "<table border=\"1\" class=\"dataframe\">\n",
       "  <thead>\n",
       "    <tr style=\"text-align: right;\">\n",
       "      <th></th>\n",
       "      <th>RECORD_TIME</th>\n",
       "    </tr>\n",
       "  </thead>\n",
       "  <tbody>\n",
       "    <tr>\n",
       "      <th>0</th>\n",
       "      <td>2021-08-26 00:30</td>\n",
       "    </tr>\n",
       "    <tr>\n",
       "      <th>1</th>\n",
       "      <td>2021-08-26 00:00</td>\n",
       "    </tr>\n",
       "  </tbody>\n",
       "</table>\n",
       "</div>"
      ],
      "text/plain": [
       "        RECORD_TIME\n",
       "0  2021-08-26 00:30\n",
       "1  2021-08-26 00:00"
      ]
     },
     "execution_count": 3,
     "metadata": {},
     "output_type": "execute_result"
    }
   ],
   "source": [
    "timestamps"
   ]
  },
  {
   "cell_type": "code",
   "execution_count": 4,
   "id": "alternate-victory",
   "metadata": {
    "execution": {
     "iopub.execute_input": "2021-08-25T22:30:08.052040Z",
     "iopub.status.busy": "2021-08-25T22:30:08.050182Z",
     "iopub.status.idle": "2021-08-25T22:30:08.244918Z",
     "shell.execute_reply": "2021-08-25T22:30:08.246067Z"
    },
    "papermill": {
     "duration": 0.224514,
     "end_time": "2021-08-25T22:30:08.246476",
     "exception": false,
     "start_time": "2021-08-25T22:30:08.021962",
     "status": "completed"
    },
    "tags": []
   },
   "outputs": [],
   "source": [
    "df = pd.read_sql(\"select * from EBAY_TOP_BERLIN where record_time in (select distinct record_time from EBAY_TOP_BERLIN order by record_time desc limit 2)\", sqlite3.connect(\"UsedObjects.db\"))"
   ]
  },
  {
   "cell_type": "code",
   "execution_count": 5,
   "id": "popular-active",
   "metadata": {
    "execution": {
     "iopub.execute_input": "2021-08-25T22:30:08.321454Z",
     "iopub.status.busy": "2021-08-25T22:30:08.310073Z",
     "iopub.status.idle": "2021-08-25T22:30:08.337621Z",
     "shell.execute_reply": "2021-08-25T22:30:08.338899Z"
    },
    "papermill": {
     "duration": 0.06949,
     "end_time": "2021-08-25T22:30:08.339347",
     "exception": false,
     "start_time": "2021-08-25T22:30:08.269857",
     "status": "completed"
    },
    "tags": []
   },
   "outputs": [],
   "source": [
    "df_pivot = df.pivot_table(index=\"PRODUCT\", columns = \"RECORD_TIME\", values = \"LISTING_COUNT\")"
   ]
  },
  {
   "cell_type": "code",
   "execution_count": 6,
   "id": "union-huntington",
   "metadata": {
    "execution": {
     "iopub.execute_input": "2021-08-25T22:30:08.410888Z",
     "iopub.status.busy": "2021-08-25T22:30:08.408724Z",
     "iopub.status.idle": "2021-08-25T22:30:08.414254Z",
     "shell.execute_reply": "2021-08-25T22:30:08.415611Z"
    },
    "papermill": {
     "duration": 0.053355,
     "end_time": "2021-08-25T22:30:08.416053",
     "exception": false,
     "start_time": "2021-08-25T22:30:08.362698",
     "status": "completed"
    },
    "tags": []
   },
   "outputs": [],
   "source": [
    "df_pivot.columns = [\"stamp_1\", \"stamp_2\"]\n",
    "df_pivot_diff = df_pivot.diff(axis=1)"
   ]
  },
  {
   "cell_type": "code",
   "execution_count": 7,
   "id": "fifth-motion",
   "metadata": {
    "execution": {
     "iopub.execute_input": "2021-08-25T22:30:08.497506Z",
     "iopub.status.busy": "2021-08-25T22:30:08.495066Z",
     "iopub.status.idle": "2021-08-25T22:30:09.954939Z",
     "shell.execute_reply": "2021-08-25T22:30:09.953545Z"
    },
    "papermill": {
     "duration": 1.5186,
     "end_time": "2021-08-25T22:30:09.955298",
     "exception": false,
     "start_time": "2021-08-25T22:30:08.436698",
     "status": "completed"
    },
    "tags": []
   },
   "outputs": [
    {
     "data": {
      "text/plain": [
       "<AxesSubplot:ylabel='PRODUCT'>"
      ]
     },
     "execution_count": 7,
     "metadata": {},
     "output_type": "execute_result"
    },
    {
     "data": {
      "image/png": "[encoded data removed]",
      "text/plain": [
       "<Figure size 432x288 with 1 Axes>"
      ]
     },
     "metadata": {
      "needs_background": "light"
     },
     "output_type": "display_data"
    }
   ],
   "source": [
    "df_pivot_diff.sort_values(\"stamp_2\", ascending = False)[\"stamp_2\"].head(10).plot.barh()"
   ]
  },
  {
   "cell_type": "code",
   "execution_count": null,
   "id": "extra-executive",
   "metadata": {
    "papermill": {
     "duration": 0.022169,
     "end_time": "2021-08-25T22:30:10.003580",
     "exception": false,
     "start_time": "2021-08-25T22:30:09.981411",
     "status": "completed"
    },
    "tags": []
   },
   "outputs": [],
   "source": []
  }
 ],
 "metadata": {
  "kernelspec": {
   "display_name": "Python 3",
   "language": "python",
   "name": "python3"
  },
  "language_info": {
   "codemirror_mode": {
    "name": "ipython",
    "version": 3
   },
   "file_extension": ".py",
   "mimetype": "text/x-python",
   "name": "python",
   "nbconvert_exporter": "python",
   "pygments_lexer": "ipython3",
   "version": "3.9.5"
  },
  "papermill": {
   "default_parameters": {},
   "duration": 6.817478,
   "end_time": "2021-08-25T22:30:11.306146",
   "environment_variables": {},
   "exception": null,
   "input_path": "eBay_Overview.ipynb",
   "output_path": "eBay_Overview.ipynb",
   "parameters": {},
   "start_time": "2021-08-25T22:30:04.488668",
   "version": "2.3.3"
  }
 },
 "nbformat": 4,
 "nbformat_minor": 5
}