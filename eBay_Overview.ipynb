{
 "cells": [
  {
   "cell_type": "code",
   "execution_count": 1,
   "id": "reverse-picking",
   "metadata": {
    "execution": {
     "iopub.execute_input": "2021-08-11T19:00:03.781857Z",
     "iopub.status.busy": "2021-08-11T19:00:03.781090Z",
     "iopub.status.idle": "2021-08-11T19:00:04.497275Z",
     "shell.execute_reply": "2021-08-11T19:00:04.496458Z"
    },
    "papermill": {
     "duration": 0.734533,
     "end_time": "2021-08-11T19:00:04.497511",
     "exception": false,
     "start_time": "2021-08-11T19:00:03.762978",
     "status": "completed"
    },
    "tags": []
   },
   "outputs": [],
   "source": [
    "import pandas as pd\n",
    "import sqlite3"
   ]
  },
  {
   "cell_type": "code",
   "execution_count": 2,
   "id": "innovative-syndrome",
   "metadata": {
    "execution": {
     "iopub.execute_input": "2021-08-11T19:00:04.524263Z",
     "iopub.status.busy": "2021-08-11T19:00:04.523501Z",
     "iopub.status.idle": "2021-08-11T19:00:04.732749Z",
     "shell.execute_reply": "2021-08-11T19:00:04.732002Z"
    },
    "papermill": {
     "duration": 0.226041,
     "end_time": "2021-08-11T19:00:04.732910",
     "exception": false,
     "start_time": "2021-08-11T19:00:04.506869",
     "status": "completed"
    },
    "tags": []
   },
   "outputs": [],
   "source": [
    "timestamps = pd.read_sql(\"select distinct record_time from EBAY_TOP_BERLIN order by record_time desc limit 2\", sqlite3.connect(\"UsedObjects.db\"))"
   ]
  },
  {
   "cell_type": "code",
   "execution_count": 3,
   "id": "periodic-identification",
   "metadata": {
    "execution": {
     "iopub.execute_input": "2021-08-11T19:00:04.765832Z",
     "iopub.status.busy": "2021-08-11T19:00:04.765048Z",
     "iopub.status.idle": "2021-08-11T19:00:04.777607Z",
     "shell.execute_reply": "2021-08-11T19:00:04.778176Z"
    },
    "papermill": {
     "duration": 0.036908,
     "end_time": "2021-08-11T19:00:04.778370",
     "exception": false,
     "start_time": "2021-08-11T19:00:04.741462",
     "status": "completed"
    },
    "tags": []
   },
   "outputs": [
    {
     "data": {
      "text/html": [
       "<div>\n",
       "<style scoped>\n",
       "    .dataframe tbody tr th:only-of-type {\n",
       "        vertical-align: middle;\n",
       "    }\n",
       "\n",
       "    .dataframe tbody tr th {\n",
       "        vertical-align: top;\n",
       "    }\n",
       "\n",
       "    .dataframe thead th {\n",
       "        text-align: right;\n",
       "    }\n",
       "</style>\n",
       "<table border=\"1\" class=\"dataframe\">\n",
       "  <thead>\n",
       "    <tr style=\"text-align: right;\">\n",
       "      <th></th>\n",
       "      <th>RECORD_TIME</th>\n",
       "    </tr>\n",
       "  </thead>\n",
       "  <tbody>\n",
       "    <tr>\n",
       "      <th>0</th>\n",
       "      <td>2021-08-11 21:00</td>\n",
       "    </tr>\n",
       "    <tr>\n",
       "      <th>1</th>\n",
       "      <td>2021-08-11 20:30</td>\n",
       "    </tr>\n",
       "  </tbody>\n",
       "</table>\n",
       "</div>"
      ],
      "text/plain": [
       "        RECORD_TIME\n",
       "0  2021-08-11 21:00\n",
       "1  2021-08-11 20:30"
      ]
     },
     "execution_count": 3,
     "metadata": {},
     "output_type": "execute_result"
    }
   ],
   "source": [
    "timestamps"
   ]
  },
  {
   "cell_type": "code",
   "execution_count": 4,
   "id": "alternate-victory",
   "metadata": {
    "execution": {
     "iopub.execute_input": "2021-08-11T19:00:04.799670Z",
     "iopub.status.busy": "2021-08-11T19:00:04.798907Z",
     "iopub.status.idle": "2021-08-11T19:00:04.826364Z",
     "shell.execute_reply": "2021-08-11T19:00:04.826968Z"
    },
    "papermill": {
     "duration": 0.040214,
     "end_time": "2021-08-11T19:00:04.827155",
     "exception": false,
     "start_time": "2021-08-11T19:00:04.786941",
     "status": "completed"
    },
    "tags": []
   },
   "outputs": [],
   "source": [
    "df = pd.read_sql(\"select * from EBAY_TOP_BERLIN where record_time in (select distinct record_time from EBAY_TOP_BERLIN order by record_time desc limit 2)\", sqlite3.connect(\"UsedObjects.db\"))"
   ]
  },
  {
   "cell_type": "code",
   "execution_count": 5,
   "id": "popular-active",
   "metadata": {
    "execution": {
     "iopub.execute_input": "2021-08-11T19:00:04.859011Z",
     "iopub.status.busy": "2021-08-11T19:00:04.857449Z",
     "iopub.status.idle": "2021-08-11T19:00:04.881131Z",
     "shell.execute_reply": "2021-08-11T19:00:04.882146Z"
    },
    "papermill": {
     "duration": 0.047,
     "end_time": "2021-08-11T19:00:04.882473",
     "exception": false,
     "start_time": "2021-08-11T19:00:04.835473",
     "status": "completed"
    },
    "tags": []
   },
   "outputs": [],
   "source": [
    "df_pivot = df.pivot_table(index=\"PRODUCT\", columns = \"RECORD_TIME\", values = \"LISTING_COUNT\")"
   ]
  },
  {
   "cell_type": "code",
   "execution_count": 6,
   "id": "union-huntington",
   "metadata": {
    "execution": {
     "iopub.execute_input": "2021-08-11T19:00:04.915046Z",
     "iopub.status.busy": "2021-08-11T19:00:04.913565Z",
     "iopub.status.idle": "2021-08-11T19:00:04.917795Z",
     "shell.execute_reply": "2021-08-11T19:00:04.919012Z"
    },
    "papermill": {
     "duration": 0.026731,
     "end_time": "2021-08-11T19:00:04.919671",
     "exception": false,
     "start_time": "2021-08-11T19:00:04.892940",
     "status": "completed"
    },
    "tags": []
   },
   "outputs": [],
   "source": [
    "df_pivot.columns = [\"stamp_1\", \"stamp_2\"]\n",
    "df_pivot_diff = df_pivot.diff(axis=1)"
   ]
  },
  {
   "cell_type": "code",
   "execution_count": 7,
   "id": "fifth-motion",
   "metadata": {
    "execution": {
     "iopub.execute_input": "2021-08-11T19:00:04.945635Z",
     "iopub.status.busy": "2021-08-11T19:00:04.944340Z",
     "iopub.status.idle": "2021-08-11T19:00:05.586370Z",
     "shell.execute_reply": "2021-08-11T19:00:05.586902Z"
    },
    "papermill": {
     "duration": 0.656425,
     "end_time": "2021-08-11T19:00:05.587088",
     "exception": false,
     "start_time": "2021-08-11T19:00:04.930663",
     "status": "completed"
    },
    "tags": []
   },
   "outputs": [
    {
     "data": {
      "text/plain": [
       "<AxesSubplot:ylabel='PRODUCT'>"
      ]
     },
     "execution_count": 7,
     "metadata": {},
     "output_type": "execute_result"
    },
    {
     "data": {
      "image/png": "[encoded data removed]",
      "text/plain": [
       "<Figure size 432x288 with 1 Axes>"
      ]
     },
     "metadata": {
      "needs_background": "light"
     },
     "output_type": "display_data"
    }
   ],
   "source": [
    "df_pivot_diff.sort_values(\"stamp_2\", ascending = False)[\"stamp_2\"].head(10).plot.barh()"
   ]
  },
  {
   "cell_type": "code",
   "execution_count": null,
   "id": "extra-executive",
   "metadata": {
    "papermill": {
     "duration": 0.013059,
     "end_time": "2021-08-11T19:00:05.612341",
     "exception": false,
     "start_time": "2021-08-11T19:00:05.599282",
     "status": "completed"
    },
    "tags": []
   },
   "outputs": [],
   "source": []
  }
 ],
 "metadata": {
  "kernelspec": {
   "display_name": "Python 3",
   "language": "python",
   "name": "python3"
  },
  "language_info": {
   "codemirror_mode": {
    "name": "ipython",
    "version": 3
   },
   "file_extension": ".py",
   "mimetype": "text/x-python",
   "name": "python",
   "nbconvert_exporter": "python",
   "pygments_lexer": "ipython3",
   "version": "3.8.8"
  },
  "papermill": {
   "default_parameters": {},
   "duration": 5.115081,
   "end_time": "2021-08-11T19:00:07.167290",
   "environment_variables": {},
   "exception": null,
   "input_path": "/Users/saravananshanmugam/Carbonleakage_Git/UsedObjects/eBay_Overview.ipynb",
   "output_path": "/Users/saravananshanmugam/Carbonleakage_Git/UsedObjects/eBay_Overview.ipynb",
   "parameters": {},
   "start_time": "2021-08-11T19:00:02.052209",
   "version": "2.3.3"
  }
 },
 "nbformat": 4,
 "nbformat_minor": 5
}