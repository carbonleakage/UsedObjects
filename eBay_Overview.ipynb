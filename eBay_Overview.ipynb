{
 "cells": [
  {
   "cell_type": "code",
   "execution_count": 1,
   "id": "reverse-picking",
   "metadata": {
    "execution": {
     "iopub.execute_input": "2021-10-05T03:00:07.223665Z",
     "iopub.status.busy": "2021-10-05T03:00:07.221633Z",
     "iopub.status.idle": "2021-10-05T03:00:08.028228Z",
     "shell.execute_reply": "2021-10-05T03:00:08.029510Z"
    },
    "papermill": {
     "duration": 0.85695,
     "end_time": "2021-10-05T03:00:08.030140",
     "exception": false,
     "start_time": "2021-10-05T03:00:07.173190",
     "status": "completed"
    },
    "tags": []
   },
   "outputs": [],
   "source": [
    "import pandas as pd\n",
    "import sqlite3"
   ]
  },
  {
   "cell_type": "code",
   "execution_count": 2,
   "id": "innovative-syndrome",
   "metadata": {
    "execution": {
     "iopub.execute_input": "2021-10-05T03:00:08.080757Z",
     "iopub.status.busy": "2021-10-05T03:00:08.078450Z",
     "iopub.status.idle": "2021-10-05T03:00:08.528379Z",
     "shell.execute_reply": "2021-10-05T03:00:08.529586Z"
    },
    "papermill": {
     "duration": 0.479599,
     "end_time": "2021-10-05T03:00:08.529989",
     "exception": false,
     "start_time": "2021-10-05T03:00:08.050390",
     "status": "completed"
    },
    "tags": []
   },
   "outputs": [],
   "source": [
    "timestamps = pd.read_sql(\"select distinct record_time from EBAY_TOP_BERLIN order by record_time desc limit 2\", sqlite3.connect(\"UsedObjects.db\"))"
   ]
  },
  {
   "cell_type": "code",
   "execution_count": 3,
   "id": "periodic-identification",
   "metadata": {
    "execution": {
     "iopub.execute_input": "2021-10-05T03:00:08.594310Z",
     "iopub.status.busy": "2021-10-05T03:00:08.592313Z",
     "iopub.status.idle": "2021-10-05T03:00:08.612374Z",
     "shell.execute_reply": "2021-10-05T03:00:08.613680Z"
    },
    "papermill": {
     "duration": 0.063768,
     "end_time": "2021-10-05T03:00:08.614096",
     "exception": false,
     "start_time": "2021-10-05T03:00:08.550328",
     "status": "completed"
    },
    "tags": []
   },
   "outputs": [
    {
     "data": {
      "text/html": [
       "<div>\n",
       "<style scoped>\n",
       "    .dataframe tbody tr th:only-of-type {\n",
       "        vertical-align: middle;\n",
       "    }\n",
       "\n",
       "    .dataframe tbody tr th {\n",
       "        vertical-align: top;\n",
       "    }\n",
       "\n",
       "    .dataframe thead th {\n",
       "        text-align: right;\n",
       "    }\n",
       "</style>\n",
       "<table border=\"1\" class=\"dataframe\">\n",
       "  <thead>\n",
       "    <tr style=\"text-align: right;\">\n",
       "      <th></th>\n",
       "      <th>RECORD_TIME</th>\n",
       "    </tr>\n",
       "  </thead>\n",
       "  <tbody>\n",
       "    <tr>\n",
       "      <th>0</th>\n",
       "      <td>2021-10-05 05:00</td>\n",
       "    </tr>\n",
       "    <tr>\n",
       "      <th>1</th>\n",
       "      <td>2021-10-05 04:30</td>\n",
       "    </tr>\n",
       "  </tbody>\n",
       "</table>\n",
       "</div>"
      ],
      "text/plain": [
       "        RECORD_TIME\n",
       "0  2021-10-05 05:00\n",
       "1  2021-10-05 04:30"
      ]
     },
     "execution_count": 3,
     "metadata": {},
     "output_type": "execute_result"
    }
   ],
   "source": [
    "timestamps"
   ]
  },
  {
   "cell_type": "code",
   "execution_count": 4,
   "id": "alternate-victory",
   "metadata": {
    "execution": {
     "iopub.execute_input": "2021-10-05T03:00:08.674400Z",
     "iopub.status.busy": "2021-10-05T03:00:08.672202Z",
     "iopub.status.idle": "2021-10-05T03:00:09.333059Z",
     "shell.execute_reply": "2021-10-05T03:00:09.334343Z"
    },
    "papermill": {
     "duration": 0.699454,
     "end_time": "2021-10-05T03:00:09.334759",
     "exception": false,
     "start_time": "2021-10-05T03:00:08.635305",
     "status": "completed"
    },
    "tags": []
   },
   "outputs": [],
   "source": [
    "df = pd.read_sql(\"select * from EBAY_TOP_BERLIN where record_time in (select distinct record_time from EBAY_TOP_BERLIN order by record_time desc limit 2)\", sqlite3.connect(\"UsedObjects.db\"))"
   ]
  },
  {
   "cell_type": "code",
   "execution_count": 5,
   "id": "popular-active",
   "metadata": {
    "execution": {
     "iopub.execute_input": "2021-10-05T03:00:09.405046Z",
     "iopub.status.busy": "2021-10-05T03:00:09.392918Z",
     "iopub.status.idle": "2021-10-05T03:00:09.422079Z",
     "shell.execute_reply": "2021-10-05T03:00:09.423786Z"
    },
    "papermill": {
     "duration": 0.069029,
     "end_time": "2021-10-05T03:00:09.424282",
     "exception": false,
     "start_time": "2021-10-05T03:00:09.355253",
     "status": "completed"
    },
    "tags": []
   },
   "outputs": [],
   "source": [
    "df_pivot = df.pivot_table(index=\"PRODUCT\", columns = \"RECORD_TIME\", values = \"LISTING_COUNT\")"
   ]
  },
  {
   "cell_type": "code",
   "execution_count": 6,
   "id": "union-huntington",
   "metadata": {
    "execution": {
     "iopub.execute_input": "2021-10-05T03:00:09.482586Z",
     "iopub.status.busy": "2021-10-05T03:00:09.480543Z",
     "iopub.status.idle": "2021-10-05T03:00:09.485630Z",
     "shell.execute_reply": "2021-10-05T03:00:09.486974Z"
    },
    "papermill": {
     "duration": 0.040793,
     "end_time": "2021-10-05T03:00:09.487405",
     "exception": false,
     "start_time": "2021-10-05T03:00:09.446612",
     "status": "completed"
    },
    "tags": []
   },
   "outputs": [],
   "source": [
    "df_pivot.columns = [\"stamp_1\", \"stamp_2\"]\n",
    "df_pivot_diff = df_pivot.diff(axis=1)"
   ]
  },
  {
   "cell_type": "code",
   "execution_count": 7,
   "id": "fifth-motion",
   "metadata": {
    "execution": {
     "iopub.execute_input": "2021-10-05T03:00:09.542159Z",
     "iopub.status.busy": "2021-10-05T03:00:09.539756Z",
     "iopub.status.idle": "2021-10-05T03:00:11.027081Z",
     "shell.execute_reply": "2021-10-05T03:00:11.028437Z"
    },
    "papermill": {
     "duration": 1.520564,
     "end_time": "2021-10-05T03:00:11.028864",
     "exception": false,
     "start_time": "2021-10-05T03:00:09.508300",
     "status": "completed"
    },
    "tags": []
   },
   "outputs": [
    {
     "data": {
      "text/plain": [
       "<AxesSubplot:ylabel='PRODUCT'>"
      ]
     },
     "execution_count": 7,
     "metadata": {},
     "output_type": "execute_result"
    },
    {
     "data": {
      "image/png": "[encoded data removed]",
      "text/plain": [
       "<Figure size 432x288 with 1 Axes>"
      ]
     },
     "metadata": {
      "needs_background": "light"
     },
     "output_type": "display_data"
    }
   ],
   "source": [
    "df_pivot_diff.sort_values(\"stamp_2\", ascending = False)[\"stamp_2\"].head(10).plot.barh()"
   ]
  },
  {
   "cell_type": "code",
   "execution_count": null,
   "id": "extra-executive",
   "metadata": {
    "papermill": {
     "duration": 0.022475,
     "end_time": "2021-10-05T03:00:11.076142",
     "exception": false,
     "start_time": "2021-10-05T03:00:11.053667",
     "status": "completed"
    },
    "tags": []
   },
   "outputs": [],
   "source": []
  }
 ],
 "metadata": {
  "kernelspec": {
   "display_name": "Python 3",
   "language": "python",
   "name": "python3"
  },
  "language_info": {
   "codemirror_mode": {
    "name": "ipython",
    "version": 3
   },
   "file_extension": ".py",
   "mimetype": "text/x-python",
   "name": "python",
   "nbconvert_exporter": "python",
   "pygments_lexer": "ipython3",
   "version": "3.9.5"
  },
  "papermill": {
   "default_parameters": {},
   "duration": 7.822668,
   "end_time": "2021-10-05T03:00:12.591518",
   "environment_variables": {},
   "exception": null,
   "input_path": "eBay_Overview.ipynb",
   "output_path": "eBay_Overview.ipynb",
   "parameters": {},
   "start_time": "2021-10-05T03:00:04.768850",
   "version": "2.3.3"
  }
 },
 "nbformat": 4,
 "nbformat_minor": 5
}