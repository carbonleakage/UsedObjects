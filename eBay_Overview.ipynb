{
 "cells": [
  {
   "cell_type": "code",
   "execution_count": 1,
   "id": "reverse-picking",
   "metadata": {
    "execution": {
     "iopub.execute_input": "2021-11-01T13:00:07.526269Z",
     "iopub.status.busy": "2021-11-01T13:00:07.524152Z",
     "iopub.status.idle": "2021-11-01T13:00:08.330393Z",
     "shell.execute_reply": "2021-11-01T13:00:08.331625Z"
    },
    "papermill": {
     "duration": 0.856949,
     "end_time": "2021-11-01T13:00:08.332252",
     "exception": false,
     "start_time": "2021-11-01T13:00:07.475303",
     "status": "completed"
    },
    "tags": []
   },
   "outputs": [],
   "source": [
    "import pandas as pd\n",
    "import sqlite3"
   ]
  },
  {
   "cell_type": "code",
   "execution_count": 2,
   "id": "innovative-syndrome",
   "metadata": {
    "execution": {
     "iopub.execute_input": "2021-11-01T13:00:08.385002Z",
     "iopub.status.busy": "2021-11-01T13:00:08.382636Z",
     "iopub.status.idle": "2021-11-01T13:00:09.069342Z",
     "shell.execute_reply": "2021-11-01T13:00:09.070546Z"
    },
    "papermill": {
     "duration": 0.716385,
     "end_time": "2021-11-01T13:00:09.070944",
     "exception": false,
     "start_time": "2021-11-01T13:00:08.354559",
     "status": "completed"
    },
    "tags": []
   },
   "outputs": [],
   "source": [
    "timestamps = pd.read_sql(\"select distinct record_time from EBAY_TOP_BERLIN order by record_time desc limit 2\", sqlite3.connect(\"UsedObjects.db\"))"
   ]
  },
  {
   "cell_type": "code",
   "execution_count": 3,
   "id": "periodic-identification",
   "metadata": {
    "execution": {
     "iopub.execute_input": "2021-11-01T13:00:09.150110Z",
     "iopub.status.busy": "2021-11-01T13:00:09.147892Z",
     "iopub.status.idle": "2021-11-01T13:00:09.167756Z",
     "shell.execute_reply": "2021-11-01T13:00:09.169073Z"
    },
    "papermill": {
     "duration": 0.070571,
     "end_time": "2021-11-01T13:00:09.169506",
     "exception": false,
     "start_time": "2021-11-01T13:00:09.098935",
     "status": "completed"
    },
    "tags": []
   },
   "outputs": [
    {
     "data": {
      "text/html": [
       "<div>\n",
       "<style scoped>\n",
       "    .dataframe tbody tr th:only-of-type {\n",
       "        vertical-align: middle;\n",
       "    }\n",
       "\n",
       "    .dataframe tbody tr th {\n",
       "        vertical-align: top;\n",
       "    }\n",
       "\n",
       "    .dataframe thead th {\n",
       "        text-align: right;\n",
       "    }\n",
       "</style>\n",
       "<table border=\"1\" class=\"dataframe\">\n",
       "  <thead>\n",
       "    <tr style=\"text-align: right;\">\n",
       "      <th></th>\n",
       "      <th>RECORD_TIME</th>\n",
       "    </tr>\n",
       "  </thead>\n",
       "  <tbody>\n",
       "    <tr>\n",
       "      <th>0</th>\n",
       "      <td>2021-11-01 14:00</td>\n",
       "    </tr>\n",
       "    <tr>\n",
       "      <th>1</th>\n",
       "      <td>2021-11-01 13:30</td>\n",
       "    </tr>\n",
       "  </tbody>\n",
       "</table>\n",
       "</div>"
      ],
      "text/plain": [
       "        RECORD_TIME\n",
       "0  2021-11-01 14:00\n",
       "1  2021-11-01 13:30"
      ]
     },
     "execution_count": 3,
     "metadata": {},
     "output_type": "execute_result"
    }
   ],
   "source": [
    "timestamps"
   ]
  },
  {
   "cell_type": "code",
   "execution_count": 4,
   "id": "alternate-victory",
   "metadata": {
    "execution": {
     "iopub.execute_input": "2021-11-01T13:00:09.222597Z",
     "iopub.status.busy": "2021-11-01T13:00:09.220267Z",
     "iopub.status.idle": "2021-11-01T13:00:10.208232Z",
     "shell.execute_reply": "2021-11-01T13:00:10.209496Z"
    },
    "papermill": {
     "duration": 1.018106,
     "end_time": "2021-11-01T13:00:10.209901",
     "exception": false,
     "start_time": "2021-11-01T13:00:09.191795",
     "status": "completed"
    },
    "tags": []
   },
   "outputs": [],
   "source": [
    "df = pd.read_sql(\"select * from EBAY_TOP_BERLIN where record_time in (select distinct record_time from EBAY_TOP_BERLIN order by record_time desc limit 2)\", sqlite3.connect(\"UsedObjects.db\"))"
   ]
  },
  {
   "cell_type": "code",
   "execution_count": 5,
   "id": "popular-active",
   "metadata": {
    "execution": {
     "iopub.execute_input": "2021-11-01T13:00:10.283381Z",
     "iopub.status.busy": "2021-11-01T13:00:10.270555Z",
     "iopub.status.idle": "2021-11-01T13:00:10.299302Z",
     "shell.execute_reply": "2021-11-01T13:00:10.300581Z"
    },
    "papermill": {
     "duration": 0.068648,
     "end_time": "2021-11-01T13:00:10.301080",
     "exception": false,
     "start_time": "2021-11-01T13:00:10.232432",
     "status": "completed"
    },
    "tags": []
   },
   "outputs": [],
   "source": [
    "df_pivot = df.pivot_table(index=\"PRODUCT\", columns = \"RECORD_TIME\", values = \"LISTING_COUNT\")"
   ]
  },
  {
   "cell_type": "code",
   "execution_count": 6,
   "id": "union-huntington",
   "metadata": {
    "execution": {
     "iopub.execute_input": "2021-11-01T13:00:10.356530Z",
     "iopub.status.busy": "2021-11-01T13:00:10.354518Z",
     "iopub.status.idle": "2021-11-01T13:00:10.359809Z",
     "shell.execute_reply": "2021-11-01T13:00:10.361389Z"
    },
    "papermill": {
     "duration": 0.040709,
     "end_time": "2021-11-01T13:00:10.361848",
     "exception": false,
     "start_time": "2021-11-01T13:00:10.321139",
     "status": "completed"
    },
    "tags": []
   },
   "outputs": [],
   "source": [
    "df_pivot.columns = [\"stamp_1\", \"stamp_2\"]\n",
    "df_pivot_diff = df_pivot.diff(axis=1)"
   ]
  },
  {
   "cell_type": "code",
   "execution_count": 7,
   "id": "fifth-motion",
   "metadata": {
    "execution": {
     "iopub.execute_input": "2021-11-01T13:00:10.418485Z",
     "iopub.status.busy": "2021-11-01T13:00:10.415932Z",
     "iopub.status.idle": "2021-11-01T13:00:11.879423Z",
     "shell.execute_reply": "2021-11-01T13:00:11.880762Z"
    },
    "papermill": {
     "duration": 1.49702,
     "end_time": "2021-11-01T13:00:11.881214",
     "exception": false,
     "start_time": "2021-11-01T13:00:10.384194",
     "status": "completed"
    },
    "tags": []
   },
   "outputs": [
    {
     "data": {
      "text/plain": [
       "<AxesSubplot:ylabel='PRODUCT'>"
      ]
     },
     "execution_count": 7,
     "metadata": {},
     "output_type": "execute_result"
    },
    {
     "data": {
      "image/png": "[encoded data removed]",
      "text/plain": [
       "<Figure size 432x288 with 1 Axes>"
      ]
     },
     "metadata": {
      "needs_background": "light"
     },
     "output_type": "display_data"
    }
   ],
   "source": [
    "df_pivot_diff.sort_values(\"stamp_2\", ascending = False)[\"stamp_2\"].head(10).plot.barh()"
   ]
  },
  {
   "cell_type": "code",
   "execution_count": null,
   "id": "extra-executive",
   "metadata": {
    "papermill": {
     "duration": 0.0218,
     "end_time": "2021-11-01T13:00:11.928074",
     "exception": false,
     "start_time": "2021-11-01T13:00:11.906274",
     "status": "completed"
    },
    "tags": []
   },
   "outputs": [],
   "source": []
  }
 ],
 "metadata": {
  "kernelspec": {
   "display_name": "Python 3",
   "language": "python",
   "name": "python3"
  },
  "language_info": {
   "codemirror_mode": {
    "name": "ipython",
    "version": 3
   },
   "file_extension": ".py",
   "mimetype": "text/x-python",
   "name": "python",
   "nbconvert_exporter": "python",
   "pygments_lexer": "ipython3",
   "version": "3.9.5"
  },
  "papermill": {
   "default_parameters": {},
   "duration": 7.507786,
   "end_time": "2021-11-01T13:00:12.571000",
   "environment_variables": {},
   "exception": null,
   "input_path": "eBay_Overview.ipynb",
   "output_path": "eBay_Overview.ipynb",
   "parameters": {},
   "start_time": "2021-11-01T13:00:05.063214",
   "version": "2.3.3"
  }
 },
 "nbformat": 4,
 "nbformat_minor": 5
}