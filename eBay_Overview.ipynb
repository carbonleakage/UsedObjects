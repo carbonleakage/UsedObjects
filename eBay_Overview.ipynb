{
 "cells": [
  {
   "cell_type": "code",
   "execution_count": 1,
   "id": "reverse-picking",
   "metadata": {
    "execution": {
     "iopub.execute_input": "2021-10-18T23:30:06.838809Z",
     "iopub.status.busy": "2021-10-18T23:30:06.835996Z",
     "iopub.status.idle": "2021-10-18T23:30:07.643345Z",
     "shell.execute_reply": "2021-10-18T23:30:07.644585Z"
    },
    "papermill": {
     "duration": 0.859589,
     "end_time": "2021-10-18T23:30:07.645409",
     "exception": false,
     "start_time": "2021-10-18T23:30:06.785820",
     "status": "completed"
    },
    "tags": []
   },
   "outputs": [],
   "source": [
    "import pandas as pd\n",
    "import sqlite3"
   ]
  },
  {
   "cell_type": "code",
   "execution_count": 2,
   "id": "innovative-syndrome",
   "metadata": {
    "execution": {
     "iopub.execute_input": "2021-10-18T23:30:07.698855Z",
     "iopub.status.busy": "2021-10-18T23:30:07.696443Z",
     "iopub.status.idle": "2021-10-18T23:30:08.270572Z",
     "shell.execute_reply": "2021-10-18T23:30:08.272055Z"
    },
    "papermill": {
     "duration": 0.604645,
     "end_time": "2021-10-18T23:30:08.272528",
     "exception": false,
     "start_time": "2021-10-18T23:30:07.667883",
     "status": "completed"
    },
    "tags": []
   },
   "outputs": [],
   "source": [
    "timestamps = pd.read_sql(\"select distinct record_time from EBAY_TOP_BERLIN order by record_time desc limit 2\", sqlite3.connect(\"UsedObjects.db\"))"
   ]
  },
  {
   "cell_type": "code",
   "execution_count": 3,
   "id": "periodic-identification",
   "metadata": {
    "execution": {
     "iopub.execute_input": "2021-10-18T23:30:08.366465Z",
     "iopub.status.busy": "2021-10-18T23:30:08.361461Z",
     "iopub.status.idle": "2021-10-18T23:30:08.381104Z",
     "shell.execute_reply": "2021-10-18T23:30:08.382328Z"
    },
    "papermill": {
     "duration": 0.071424,
     "end_time": "2021-10-18T23:30:08.382726",
     "exception": false,
     "start_time": "2021-10-18T23:30:08.311302",
     "status": "completed"
    },
    "tags": []
   },
   "outputs": [
    {
     "data": {
      "text/html": [
       "<div>\n",
       "<style scoped>\n",
       "    .dataframe tbody tr th:only-of-type {\n",
       "        vertical-align: middle;\n",
       "    }\n",
       "\n",
       "    .dataframe tbody tr th {\n",
       "        vertical-align: top;\n",
       "    }\n",
       "\n",
       "    .dataframe thead th {\n",
       "        text-align: right;\n",
       "    }\n",
       "</style>\n",
       "<table border=\"1\" class=\"dataframe\">\n",
       "  <thead>\n",
       "    <tr style=\"text-align: right;\">\n",
       "      <th></th>\n",
       "      <th>RECORD_TIME</th>\n",
       "    </tr>\n",
       "  </thead>\n",
       "  <tbody>\n",
       "    <tr>\n",
       "      <th>0</th>\n",
       "      <td>2021-10-19 01:30</td>\n",
       "    </tr>\n",
       "    <tr>\n",
       "      <th>1</th>\n",
       "      <td>2021-10-19 01:00</td>\n",
       "    </tr>\n",
       "  </tbody>\n",
       "</table>\n",
       "</div>"
      ],
      "text/plain": [
       "        RECORD_TIME\n",
       "0  2021-10-19 01:30\n",
       "1  2021-10-19 01:00"
      ]
     },
     "execution_count": 3,
     "metadata": {},
     "output_type": "execute_result"
    }
   ],
   "source": [
    "timestamps"
   ]
  },
  {
   "cell_type": "code",
   "execution_count": 4,
   "id": "alternate-victory",
   "metadata": {
    "execution": {
     "iopub.execute_input": "2021-10-18T23:30:08.434164Z",
     "iopub.status.busy": "2021-10-18T23:30:08.432223Z",
     "iopub.status.idle": "2021-10-18T23:30:09.261750Z",
     "shell.execute_reply": "2021-10-18T23:30:09.263158Z"
    },
    "papermill": {
     "duration": 0.85968,
     "end_time": "2021-10-18T23:30:09.263610",
     "exception": false,
     "start_time": "2021-10-18T23:30:08.403930",
     "status": "completed"
    },
    "tags": []
   },
   "outputs": [],
   "source": [
    "df = pd.read_sql(\"select * from EBAY_TOP_BERLIN where record_time in (select distinct record_time from EBAY_TOP_BERLIN order by record_time desc limit 2)\", sqlite3.connect(\"UsedObjects.db\"))"
   ]
  },
  {
   "cell_type": "code",
   "execution_count": 5,
   "id": "popular-active",
   "metadata": {
    "execution": {
     "iopub.execute_input": "2021-10-18T23:30:09.329028Z",
     "iopub.status.busy": "2021-10-18T23:30:09.321381Z",
     "iopub.status.idle": "2021-10-18T23:30:09.350207Z",
     "shell.execute_reply": "2021-10-18T23:30:09.351420Z"
    },
    "papermill": {
     "duration": 0.066886,
     "end_time": "2021-10-18T23:30:09.351829",
     "exception": false,
     "start_time": "2021-10-18T23:30:09.284943",
     "status": "completed"
    },
    "tags": []
   },
   "outputs": [],
   "source": [
    "df_pivot = df.pivot_table(index=\"PRODUCT\", columns = \"RECORD_TIME\", values = \"LISTING_COUNT\")"
   ]
  },
  {
   "cell_type": "code",
   "execution_count": 6,
   "id": "union-huntington",
   "metadata": {
    "execution": {
     "iopub.execute_input": "2021-10-18T23:30:09.412581Z",
     "iopub.status.busy": "2021-10-18T23:30:09.410145Z",
     "iopub.status.idle": "2021-10-18T23:30:09.415982Z",
     "shell.execute_reply": "2021-10-18T23:30:09.417350Z"
    },
    "papermill": {
     "duration": 0.042606,
     "end_time": "2021-10-18T23:30:09.417787",
     "exception": false,
     "start_time": "2021-10-18T23:30:09.375181",
     "status": "completed"
    },
    "tags": []
   },
   "outputs": [],
   "source": [
    "df_pivot.columns = [\"stamp_1\", \"stamp_2\"]\n",
    "df_pivot_diff = df_pivot.diff(axis=1)"
   ]
  },
  {
   "cell_type": "code",
   "execution_count": 7,
   "id": "fifth-motion",
   "metadata": {
    "execution": {
     "iopub.execute_input": "2021-10-18T23:30:09.472340Z",
     "iopub.status.busy": "2021-10-18T23:30:09.470055Z",
     "iopub.status.idle": "2021-10-18T23:30:10.944165Z",
     "shell.execute_reply": "2021-10-18T23:30:10.945597Z"
    },
    "papermill": {
     "duration": 1.507266,
     "end_time": "2021-10-18T23:30:10.946051",
     "exception": false,
     "start_time": "2021-10-18T23:30:09.438785",
     "status": "completed"
    },
    "tags": []
   },
   "outputs": [
    {
     "data": {
      "text/plain": [
       "<AxesSubplot:ylabel='PRODUCT'>"
      ]
     },
     "execution_count": 7,
     "metadata": {},
     "output_type": "execute_result"
    },
    {
     "data": {
      "image/png": "[encoded data removed]",
      "text/plain": [
       "<Figure size 432x288 with 1 Axes>"
      ]
     },
     "metadata": {
      "needs_background": "light"
     },
     "output_type": "display_data"
    }
   ],
   "source": [
    "df_pivot_diff.sort_values(\"stamp_2\", ascending = False)[\"stamp_2\"].head(10).plot.barh()"
   ]
  },
  {
   "cell_type": "code",
   "execution_count": null,
   "id": "extra-executive",
   "metadata": {
    "papermill": {
     "duration": 0.022391,
     "end_time": "2021-10-18T23:30:10.993640",
     "exception": false,
     "start_time": "2021-10-18T23:30:10.971249",
     "status": "completed"
    },
    "tags": []
   },
   "outputs": [],
   "source": []
  }
 ],
 "metadata": {
  "kernelspec": {
   "display_name": "Python 3",
   "language": "python",
   "name": "python3"
  },
  "language_info": {
   "codemirror_mode": {
    "name": "ipython",
    "version": 3
   },
   "file_extension": ".py",
   "mimetype": "text/x-python",
   "name": "python",
   "nbconvert_exporter": "python",
   "pygments_lexer": "ipython3",
   "version": "3.9.5"
  },
  "papermill": {
   "default_parameters": {},
   "duration": 7.821486,
   "end_time": "2021-10-18T23:30:12.197276",
   "environment_variables": {},
   "exception": null,
   "input_path": "eBay_Overview.ipynb",
   "output_path": "eBay_Overview.ipynb",
   "parameters": {},
   "start_time": "2021-10-18T23:30:04.375790",
   "version": "2.3.3"
  }
 },
 "nbformat": 4,
 "nbformat_minor": 5
}