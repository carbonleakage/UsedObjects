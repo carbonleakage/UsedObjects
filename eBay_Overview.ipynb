{
 "cells": [
  {
   "cell_type": "code",
   "execution_count": 1,
   "id": "reverse-picking",
   "metadata": {
    "execution": {
     "iopub.execute_input": "2021-08-11T15:00:04.490942Z",
     "iopub.status.busy": "2021-08-11T15:00:04.490177Z",
     "iopub.status.idle": "2021-08-11T15:00:05.088326Z",
     "shell.execute_reply": "2021-08-11T15:00:05.088912Z"
    },
    "papermill": {
     "duration": 0.617521,
     "end_time": "2021-08-11T15:00:05.089201",
     "exception": false,
     "start_time": "2021-08-11T15:00:04.471680",
     "status": "completed"
    },
    "tags": []
   },
   "outputs": [],
   "source": [
    "import pandas as pd\n",
    "import sqlite3"
   ]
  },
  {
   "cell_type": "code",
   "execution_count": 2,
   "id": "innovative-syndrome",
   "metadata": {
    "execution": {
     "iopub.execute_input": "2021-08-11T15:00:05.111023Z",
     "iopub.status.busy": "2021-08-11T15:00:05.110248Z",
     "iopub.status.idle": "2021-08-11T15:00:05.358584Z",
     "shell.execute_reply": "2021-08-11T15:00:05.359115Z"
    },
    "papermill": {
     "duration": 0.261184,
     "end_time": "2021-08-11T15:00:05.359297",
     "exception": false,
     "start_time": "2021-08-11T15:00:05.098113",
     "status": "completed"
    },
    "tags": []
   },
   "outputs": [],
   "source": [
    "timestamps = pd.read_sql(\"select distinct record_time from EBAY_TOP_BERLIN order by record_time desc limit 2\", sqlite3.connect(\"UsedObjects.db\"))"
   ]
  },
  {
   "cell_type": "code",
   "execution_count": 3,
   "id": "periodic-identification",
   "metadata": {
    "execution": {
     "iopub.execute_input": "2021-08-11T15:00:05.386527Z",
     "iopub.status.busy": "2021-08-11T15:00:05.385766Z",
     "iopub.status.idle": "2021-08-11T15:00:05.404362Z",
     "shell.execute_reply": "2021-08-11T15:00:05.403031Z"
    },
    "papermill": {
     "duration": 0.037219,
     "end_time": "2021-08-11T15:00:05.404634",
     "exception": false,
     "start_time": "2021-08-11T15:00:05.367415",
     "status": "completed"
    },
    "tags": []
   },
   "outputs": [
    {
     "data": {
      "text/html": [
       "<div>\n",
       "<style scoped>\n",
       "    .dataframe tbody tr th:only-of-type {\n",
       "        vertical-align: middle;\n",
       "    }\n",
       "\n",
       "    .dataframe tbody tr th {\n",
       "        vertical-align: top;\n",
       "    }\n",
       "\n",
       "    .dataframe thead th {\n",
       "        text-align: right;\n",
       "    }\n",
       "</style>\n",
       "<table border=\"1\" class=\"dataframe\">\n",
       "  <thead>\n",
       "    <tr style=\"text-align: right;\">\n",
       "      <th></th>\n",
       "      <th>RECORD_TIME</th>\n",
       "    </tr>\n",
       "  </thead>\n",
       "  <tbody>\n",
       "    <tr>\n",
       "      <th>0</th>\n",
       "      <td>2021-08-11 17:00</td>\n",
       "    </tr>\n",
       "    <tr>\n",
       "      <th>1</th>\n",
       "      <td>2021-08-11 16:30</td>\n",
       "    </tr>\n",
       "  </tbody>\n",
       "</table>\n",
       "</div>"
      ],
      "text/plain": [
       "        RECORD_TIME\n",
       "0  2021-08-11 17:00\n",
       "1  2021-08-11 16:30"
      ]
     },
     "execution_count": 3,
     "metadata": {},
     "output_type": "execute_result"
    }
   ],
   "source": [
    "timestamps"
   ]
  },
  {
   "cell_type": "code",
   "execution_count": 4,
   "id": "alternate-victory",
   "metadata": {
    "execution": {
     "iopub.execute_input": "2021-08-11T15:00:05.431473Z",
     "iopub.status.busy": "2021-08-11T15:00:05.430713Z",
     "iopub.status.idle": "2021-08-11T15:00:05.450076Z",
     "shell.execute_reply": "2021-08-11T15:00:05.450692Z"
    },
    "papermill": {
     "duration": 0.035088,
     "end_time": "2021-08-11T15:00:05.450885",
     "exception": false,
     "start_time": "2021-08-11T15:00:05.415797",
     "status": "completed"
    },
    "tags": []
   },
   "outputs": [],
   "source": [
    "df = pd.read_sql(\"select * from EBAY_TOP_BERLIN where record_time in (select distinct record_time from EBAY_TOP_BERLIN order by record_time desc limit 2)\", sqlite3.connect(\"UsedObjects.db\"))"
   ]
  },
  {
   "cell_type": "code",
   "execution_count": 5,
   "id": "popular-active",
   "metadata": {
    "execution": {
     "iopub.execute_input": "2021-08-11T15:00:05.476135Z",
     "iopub.status.busy": "2021-08-11T15:00:05.475368Z",
     "iopub.status.idle": "2021-08-11T15:00:05.499825Z",
     "shell.execute_reply": "2021-08-11T15:00:05.500622Z"
    },
    "papermill": {
     "duration": 0.041696,
     "end_time": "2021-08-11T15:00:05.500891",
     "exception": false,
     "start_time": "2021-08-11T15:00:05.459195",
     "status": "completed"
    },
    "tags": []
   },
   "outputs": [],
   "source": [
    "df_pivot = df.pivot_table(index=\"PRODUCT\", columns = \"RECORD_TIME\", values = \"LISTING_COUNT\")"
   ]
  },
  {
   "cell_type": "code",
   "execution_count": 6,
   "id": "union-huntington",
   "metadata": {
    "execution": {
     "iopub.execute_input": "2021-08-11T15:00:05.525655Z",
     "iopub.status.busy": "2021-08-11T15:00:05.524919Z",
     "iopub.status.idle": "2021-08-11T15:00:05.532134Z",
     "shell.execute_reply": "2021-08-11T15:00:05.532963Z"
    },
    "papermill": {
     "duration": 0.02332,
     "end_time": "2021-08-11T15:00:05.533190",
     "exception": false,
     "start_time": "2021-08-11T15:00:05.509870",
     "status": "completed"
    },
    "tags": []
   },
   "outputs": [],
   "source": [
    "df_pivot.columns = [\"stamp_1\", \"stamp_2\"]\n",
    "df_pivot_diff = df_pivot.diff(axis=1)"
   ]
  },
  {
   "cell_type": "code",
   "execution_count": 7,
   "id": "fifth-motion",
   "metadata": {
    "execution": {
     "iopub.execute_input": "2021-08-11T15:00:05.562586Z",
     "iopub.status.busy": "2021-08-11T15:00:05.561822Z",
     "iopub.status.idle": "2021-08-11T15:00:06.233133Z",
     "shell.execute_reply": "2021-08-11T15:00:06.233704Z"
    },
    "papermill": {
     "duration": 0.691361,
     "end_time": "2021-08-11T15:00:06.233894",
     "exception": false,
     "start_time": "2021-08-11T15:00:05.542533",
     "status": "completed"
    },
    "tags": []
   },
   "outputs": [
    {
     "data": {
      "text/plain": [
       "<AxesSubplot:ylabel='PRODUCT'>"
      ]
     },
     "execution_count": 7,
     "metadata": {},
     "output_type": "execute_result"
    },
    {
     "data": {
      "image/png": "[encoded data removed]",
      "text/plain": [
       "<Figure size 432x288 with 1 Axes>"
      ]
     },
     "metadata": {
      "needs_background": "light"
     },
     "output_type": "display_data"
    }
   ],
   "source": [
    "df_pivot_diff.sort_values(\"stamp_2\", ascending = False)[\"stamp_2\"].head(10).plot.barh()"
   ]
  },
  {
   "cell_type": "code",
   "execution_count": null,
   "id": "extra-executive",
   "metadata": {
    "papermill": {
     "duration": 0.009995,
     "end_time": "2021-08-11T15:00:06.255828",
     "exception": false,
     "start_time": "2021-08-11T15:00:06.245833",
     "status": "completed"
    },
    "tags": []
   },
   "outputs": [],
   "source": []
  }
 ],
 "metadata": {
  "kernelspec": {
   "display_name": "Python 3",
   "language": "python",
   "name": "python3"
  },
  "language_info": {
   "codemirror_mode": {
    "name": "ipython",
    "version": 3
   },
   "file_extension": ".py",
   "mimetype": "text/x-python",
   "name": "python",
   "nbconvert_exporter": "python",
   "pygments_lexer": "ipython3",
   "version": "3.8.8"
  },
  "papermill": {
   "default_parameters": {},
   "duration": 4.993101,
   "end_time": "2021-08-11T15:00:07.595801",
   "environment_variables": {},
   "exception": null,
   "input_path": "/Users/saravananshanmugam/Carbonleakage_Git/UsedObjects/eBay_Overview.ipynb",
   "output_path": "/Users/saravananshanmugam/Carbonleakage_Git/UsedObjects/eBay_Overview.ipynb",
   "parameters": {},
   "start_time": "2021-08-11T15:00:02.602700",
   "version": "2.3.3"
  }
 },
 "nbformat": 4,
 "nbformat_minor": 5
}