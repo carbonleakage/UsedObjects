{
 "cells": [
  {
   "cell_type": "code",
   "execution_count": 1,
   "id": "reverse-picking",
   "metadata": {
    "execution": {
     "iopub.execute_input": "2021-10-16T21:00:06.654852Z",
     "iopub.status.busy": "2021-10-16T21:00:06.652858Z",
     "iopub.status.idle": "2021-10-16T21:00:07.459972Z",
     "shell.execute_reply": "2021-10-16T21:00:07.461365Z"
    },
    "papermill": {
     "duration": 0.858917,
     "end_time": "2021-10-16T21:00:07.462014",
     "exception": false,
     "start_time": "2021-10-16T21:00:06.603097",
     "status": "completed"
    },
    "tags": []
   },
   "outputs": [],
   "source": [
    "import pandas as pd\n",
    "import sqlite3"
   ]
  },
  {
   "cell_type": "code",
   "execution_count": 2,
   "id": "innovative-syndrome",
   "metadata": {
    "execution": {
     "iopub.execute_input": "2021-10-16T21:00:07.514305Z",
     "iopub.status.busy": "2021-10-16T21:00:07.512105Z",
     "iopub.status.idle": "2021-10-16T21:00:08.075330Z",
     "shell.execute_reply": "2021-10-16T21:00:08.076531Z"
    },
    "papermill": {
     "duration": 0.592798,
     "end_time": "2021-10-16T21:00:08.077037",
     "exception": false,
     "start_time": "2021-10-16T21:00:07.484239",
     "status": "completed"
    },
    "tags": []
   },
   "outputs": [],
   "source": [
    "timestamps = pd.read_sql(\"select distinct record_time from EBAY_TOP_BERLIN order by record_time desc limit 2\", sqlite3.connect(\"UsedObjects.db\"))"
   ]
  },
  {
   "cell_type": "code",
   "execution_count": 3,
   "id": "periodic-identification",
   "metadata": {
    "execution": {
     "iopub.execute_input": "2021-10-16T21:00:08.158096Z",
     "iopub.status.busy": "2021-10-16T21:00:08.155913Z",
     "iopub.status.idle": "2021-10-16T21:00:08.176087Z",
     "shell.execute_reply": "2021-10-16T21:00:08.177636Z"
    },
    "papermill": {
     "duration": 0.07195,
     "end_time": "2021-10-16T21:00:08.178081",
     "exception": false,
     "start_time": "2021-10-16T21:00:08.106131",
     "status": "completed"
    },
    "tags": []
   },
   "outputs": [
    {
     "data": {
      "text/html": [
       "<div>\n",
       "<style scoped>\n",
       "    .dataframe tbody tr th:only-of-type {\n",
       "        vertical-align: middle;\n",
       "    }\n",
       "\n",
       "    .dataframe tbody tr th {\n",
       "        vertical-align: top;\n",
       "    }\n",
       "\n",
       "    .dataframe thead th {\n",
       "        text-align: right;\n",
       "    }\n",
       "</style>\n",
       "<table border=\"1\" class=\"dataframe\">\n",
       "  <thead>\n",
       "    <tr style=\"text-align: right;\">\n",
       "      <th></th>\n",
       "      <th>RECORD_TIME</th>\n",
       "    </tr>\n",
       "  </thead>\n",
       "  <tbody>\n",
       "    <tr>\n",
       "      <th>0</th>\n",
       "      <td>2021-10-16 23:00</td>\n",
       "    </tr>\n",
       "    <tr>\n",
       "      <th>1</th>\n",
       "      <td>2021-10-16 22:30</td>\n",
       "    </tr>\n",
       "  </tbody>\n",
       "</table>\n",
       "</div>"
      ],
      "text/plain": [
       "        RECORD_TIME\n",
       "0  2021-10-16 23:00\n",
       "1  2021-10-16 22:30"
      ]
     },
     "execution_count": 3,
     "metadata": {},
     "output_type": "execute_result"
    }
   ],
   "source": [
    "timestamps"
   ]
  },
  {
   "cell_type": "code",
   "execution_count": 4,
   "id": "alternate-victory",
   "metadata": {
    "execution": {
     "iopub.execute_input": "2021-10-16T21:00:08.232184Z",
     "iopub.status.busy": "2021-10-16T21:00:08.230227Z",
     "iopub.status.idle": "2021-10-16T21:00:09.050571Z",
     "shell.execute_reply": "2021-10-16T21:00:09.051797Z"
    },
    "papermill": {
     "duration": 0.850821,
     "end_time": "2021-10-16T21:00:09.052205",
     "exception": false,
     "start_time": "2021-10-16T21:00:08.201384",
     "status": "completed"
    },
    "tags": []
   },
   "outputs": [],
   "source": [
    "df = pd.read_sql(\"select * from EBAY_TOP_BERLIN where record_time in (select distinct record_time from EBAY_TOP_BERLIN order by record_time desc limit 2)\", sqlite3.connect(\"UsedObjects.db\"))"
   ]
  },
  {
   "cell_type": "code",
   "execution_count": 5,
   "id": "popular-active",
   "metadata": {
    "execution": {
     "iopub.execute_input": "2021-10-16T21:00:09.125992Z",
     "iopub.status.busy": "2021-10-16T21:00:09.113773Z",
     "iopub.status.idle": "2021-10-16T21:00:09.141743Z",
     "shell.execute_reply": "2021-10-16T21:00:09.142997Z"
    },
    "papermill": {
     "duration": 0.068318,
     "end_time": "2021-10-16T21:00:09.143402",
     "exception": false,
     "start_time": "2021-10-16T21:00:09.075084",
     "status": "completed"
    },
    "tags": []
   },
   "outputs": [],
   "source": [
    "df_pivot = df.pivot_table(index=\"PRODUCT\", columns = \"RECORD_TIME\", values = \"LISTING_COUNT\")"
   ]
  },
  {
   "cell_type": "code",
   "execution_count": 6,
   "id": "union-huntington",
   "metadata": {
    "execution": {
     "iopub.execute_input": "2021-10-16T21:00:09.202641Z",
     "iopub.status.busy": "2021-10-16T21:00:09.200113Z",
     "iopub.status.idle": "2021-10-16T21:00:09.205961Z",
     "shell.execute_reply": "2021-10-16T21:00:09.207275Z"
    },
    "papermill": {
     "duration": 0.041922,
     "end_time": "2021-10-16T21:00:09.207701",
     "exception": false,
     "start_time": "2021-10-16T21:00:09.165779",
     "status": "completed"
    },
    "tags": []
   },
   "outputs": [],
   "source": [
    "df_pivot.columns = [\"stamp_1\", \"stamp_2\"]\n",
    "df_pivot_diff = df_pivot.diff(axis=1)"
   ]
  },
  {
   "cell_type": "code",
   "execution_count": 7,
   "id": "fifth-motion",
   "metadata": {
    "execution": {
     "iopub.execute_input": "2021-10-16T21:00:09.262498Z",
     "iopub.status.busy": "2021-10-16T21:00:09.259755Z",
     "iopub.status.idle": "2021-10-16T21:00:10.791449Z",
     "shell.execute_reply": "2021-10-16T21:00:10.792907Z"
    },
    "papermill": {
     "duration": 1.565629,
     "end_time": "2021-10-16T21:00:10.793405",
     "exception": false,
     "start_time": "2021-10-16T21:00:09.227776",
     "status": "completed"
    },
    "tags": []
   },
   "outputs": [
    {
     "data": {
      "text/plain": [
       "<AxesSubplot:ylabel='PRODUCT'>"
      ]
     },
     "execution_count": 7,
     "metadata": {},
     "output_type": "execute_result"
    },
    {
     "data": {
      "image/png": "[encoded data removed]",
      "text/plain": [
       "<Figure size 432x288 with 1 Axes>"
      ]
     },
     "metadata": {
      "needs_background": "light"
     },
     "output_type": "display_data"
    }
   ],
   "source": [
    "df_pivot_diff.sort_values(\"stamp_2\", ascending = False)[\"stamp_2\"].head(10).plot.barh()"
   ]
  },
  {
   "cell_type": "code",
   "execution_count": null,
   "id": "extra-executive",
   "metadata": {
    "papermill": {
     "duration": 0.022178,
     "end_time": "2021-10-16T21:00:10.840596",
     "exception": false,
     "start_time": "2021-10-16T21:00:10.818418",
     "status": "completed"
    },
    "tags": []
   },
   "outputs": [],
   "source": []
  }
 ],
 "metadata": {
  "kernelspec": {
   "display_name": "Python 3",
   "language": "python",
   "name": "python3"
  },
  "language_info": {
   "codemirror_mode": {
    "name": "ipython",
    "version": 3
   },
   "file_extension": ".py",
   "mimetype": "text/x-python",
   "name": "python",
   "nbconvert_exporter": "python",
   "pygments_lexer": "ipython3",
   "version": "3.9.5"
  },
  "papermill": {
   "default_parameters": {},
   "duration": 7.822254,
   "end_time": "2021-10-16T21:00:12.016085",
   "environment_variables": {},
   "exception": null,
   "input_path": "eBay_Overview.ipynb",
   "output_path": "eBay_Overview.ipynb",
   "parameters": {},
   "start_time": "2021-10-16T21:00:04.193831",
   "version": "2.3.3"
  }
 },
 "nbformat": 4,
 "nbformat_minor": 5
}