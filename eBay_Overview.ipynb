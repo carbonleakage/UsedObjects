{
 "cells": [
  {
   "cell_type": "code",
   "execution_count": 1,
   "id": "reverse-picking",
   "metadata": {
    "execution": {
     "iopub.execute_input": "2021-08-31T18:30:06.957001Z",
     "iopub.status.busy": "2021-08-31T18:30:06.954825Z",
     "iopub.status.idle": "2021-08-31T18:30:07.756018Z",
     "shell.execute_reply": "2021-08-31T18:30:07.757327Z"
    },
    "papermill": {
     "duration": 0.852468,
     "end_time": "2021-08-31T18:30:07.757944",
     "exception": false,
     "start_time": "2021-08-31T18:30:06.905476",
     "status": "completed"
    },
    "tags": []
   },
   "outputs": [],
   "source": [
    "import pandas as pd\n",
    "import sqlite3"
   ]
  },
  {
   "cell_type": "code",
   "execution_count": 2,
   "id": "innovative-syndrome",
   "metadata": {
    "execution": {
     "iopub.execute_input": "2021-08-31T18:30:07.808052Z",
     "iopub.status.busy": "2021-08-31T18:30:07.806142Z",
     "iopub.status.idle": "2021-08-31T18:30:07.985750Z",
     "shell.execute_reply": "2021-08-31T18:30:07.987159Z"
    },
    "papermill": {
     "duration": 0.209477,
     "end_time": "2021-08-31T18:30:07.987606",
     "exception": false,
     "start_time": "2021-08-31T18:30:07.778129",
     "status": "completed"
    },
    "tags": []
   },
   "outputs": [],
   "source": [
    "timestamps = pd.read_sql(\"select distinct record_time from EBAY_TOP_BERLIN order by record_time desc limit 2\", sqlite3.connect(\"UsedObjects.db\"))"
   ]
  },
  {
   "cell_type": "code",
   "execution_count": 3,
   "id": "periodic-identification",
   "metadata": {
    "execution": {
     "iopub.execute_input": "2021-08-31T18:30:08.053251Z",
     "iopub.status.busy": "2021-08-31T18:30:08.051257Z",
     "iopub.status.idle": "2021-08-31T18:30:08.073231Z",
     "shell.execute_reply": "2021-08-31T18:30:08.071820Z"
    },
    "papermill": {
     "duration": 0.06646,
     "end_time": "2021-08-31T18:30:08.073577",
     "exception": false,
     "start_time": "2021-08-31T18:30:08.007117",
     "status": "completed"
    },
    "tags": []
   },
   "outputs": [
    {
     "data": {
      "text/html": [
       "<div>\n",
       "<style scoped>\n",
       "    .dataframe tbody tr th:only-of-type {\n",
       "        vertical-align: middle;\n",
       "    }\n",
       "\n",
       "    .dataframe tbody tr th {\n",
       "        vertical-align: top;\n",
       "    }\n",
       "\n",
       "    .dataframe thead th {\n",
       "        text-align: right;\n",
       "    }\n",
       "</style>\n",
       "<table border=\"1\" class=\"dataframe\">\n",
       "  <thead>\n",
       "    <tr style=\"text-align: right;\">\n",
       "      <th></th>\n",
       "      <th>RECORD_TIME</th>\n",
       "    </tr>\n",
       "  </thead>\n",
       "  <tbody>\n",
       "    <tr>\n",
       "      <th>0</th>\n",
       "      <td>2021-08-31 20:30</td>\n",
       "    </tr>\n",
       "    <tr>\n",
       "      <th>1</th>\n",
       "      <td>2021-08-31 20:00</td>\n",
       "    </tr>\n",
       "  </tbody>\n",
       "</table>\n",
       "</div>"
      ],
      "text/plain": [
       "        RECORD_TIME\n",
       "0  2021-08-31 20:30\n",
       "1  2021-08-31 20:00"
      ]
     },
     "execution_count": 3,
     "metadata": {},
     "output_type": "execute_result"
    }
   ],
   "source": [
    "timestamps"
   ]
  },
  {
   "cell_type": "code",
   "execution_count": 4,
   "id": "alternate-victory",
   "metadata": {
    "execution": {
     "iopub.execute_input": "2021-08-31T18:30:08.125457Z",
     "iopub.status.busy": "2021-08-31T18:30:08.123648Z",
     "iopub.status.idle": "2021-08-31T18:30:08.380039Z",
     "shell.execute_reply": "2021-08-31T18:30:08.381316Z"
    },
    "papermill": {
     "duration": 0.286651,
     "end_time": "2021-08-31T18:30:08.381760",
     "exception": false,
     "start_time": "2021-08-31T18:30:08.095109",
     "status": "completed"
    },
    "tags": []
   },
   "outputs": [],
   "source": [
    "df = pd.read_sql(\"select * from EBAY_TOP_BERLIN where record_time in (select distinct record_time from EBAY_TOP_BERLIN order by record_time desc limit 2)\", sqlite3.connect(\"UsedObjects.db\"))"
   ]
  },
  {
   "cell_type": "code",
   "execution_count": 5,
   "id": "popular-active",
   "metadata": {
    "execution": {
     "iopub.execute_input": "2021-08-31T18:30:08.462303Z",
     "iopub.status.busy": "2021-08-31T18:30:08.450654Z",
     "iopub.status.idle": "2021-08-31T18:30:08.477833Z",
     "shell.execute_reply": "2021-08-31T18:30:08.479088Z"
    },
    "papermill": {
     "duration": 0.071291,
     "end_time": "2021-08-31T18:30:08.479484",
     "exception": false,
     "start_time": "2021-08-31T18:30:08.408193",
     "status": "completed"
    },
    "tags": []
   },
   "outputs": [],
   "source": [
    "df_pivot = df.pivot_table(index=\"PRODUCT\", columns = \"RECORD_TIME\", values = \"LISTING_COUNT\")"
   ]
  },
  {
   "cell_type": "code",
   "execution_count": 6,
   "id": "union-huntington",
   "metadata": {
    "execution": {
     "iopub.execute_input": "2021-08-31T18:30:08.538151Z",
     "iopub.status.busy": "2021-08-31T18:30:08.535922Z",
     "iopub.status.idle": "2021-08-31T18:30:08.543372Z",
     "shell.execute_reply": "2021-08-31T18:30:08.541745Z"
    },
    "papermill": {
     "duration": 0.041919,
     "end_time": "2021-08-31T18:30:08.543776",
     "exception": false,
     "start_time": "2021-08-31T18:30:08.501857",
     "status": "completed"
    },
    "tags": []
   },
   "outputs": [],
   "source": [
    "df_pivot.columns = [\"stamp_1\", \"stamp_2\"]\n",
    "df_pivot_diff = df_pivot.diff(axis=1)"
   ]
  },
  {
   "cell_type": "code",
   "execution_count": 7,
   "id": "fifth-motion",
   "metadata": {
    "execution": {
     "iopub.execute_input": "2021-08-31T18:30:08.598035Z",
     "iopub.status.busy": "2021-08-31T18:30:08.595844Z",
     "iopub.status.idle": "2021-08-31T18:30:10.058171Z",
     "shell.execute_reply": "2021-08-31T18:30:10.059585Z"
    },
    "papermill": {
     "duration": 1.495048,
     "end_time": "2021-08-31T18:30:10.060024",
     "exception": false,
     "start_time": "2021-08-31T18:30:08.564976",
     "status": "completed"
    },
    "tags": []
   },
   "outputs": [
    {
     "data": {
      "text/plain": [
       "<AxesSubplot:ylabel='PRODUCT'>"
      ]
     },
     "execution_count": 7,
     "metadata": {},
     "output_type": "execute_result"
    },
    {
     "data": {
      "image/png": "[encoded data removed]",
      "text/plain": [
       "<Figure size 432x288 with 1 Axes>"
      ]
     },
     "metadata": {
      "needs_background": "light"
     },
     "output_type": "display_data"
    }
   ],
   "source": [
    "df_pivot_diff.sort_values(\"stamp_2\", ascending = False)[\"stamp_2\"].head(10).plot.barh()"
   ]
  },
  {
   "cell_type": "code",
   "execution_count": null,
   "id": "extra-executive",
   "metadata": {
    "papermill": {
     "duration": 0.022217,
     "end_time": "2021-08-31T18:30:10.105490",
     "exception": false,
     "start_time": "2021-08-31T18:30:10.083273",
     "status": "completed"
    },
    "tags": []
   },
   "outputs": [],
   "source": []
  }
 ],
 "metadata": {
  "kernelspec": {
   "display_name": "Python 3",
   "language": "python",
   "name": "python3"
  },
  "language_info": {
   "codemirror_mode": {
    "name": "ipython",
    "version": 3
   },
   "file_extension": ".py",
   "mimetype": "text/x-python",
   "name": "python",
   "nbconvert_exporter": "python",
   "pygments_lexer": "ipython3",
   "version": "3.9.5"
  },
  "papermill": {
   "default_parameters": {},
   "duration": 6.822859,
   "end_time": "2021-08-31T18:30:11.321657",
   "environment_variables": {},
   "exception": null,
   "input_path": "eBay_Overview.ipynb",
   "output_path": "eBay_Overview.ipynb",
   "parameters": {},
   "start_time": "2021-08-31T18:30:04.498798",
   "version": "2.3.3"
  }
 },
 "nbformat": 4,
 "nbformat_minor": 5
}