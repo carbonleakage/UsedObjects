{
 "cells": [
  {
   "cell_type": "code",
   "execution_count": 1,
   "id": "reverse-picking",
   "metadata": {
    "execution": {
     "iopub.execute_input": "2021-09-25T12:00:07.056319Z",
     "iopub.status.busy": "2021-09-25T12:00:07.054314Z",
     "iopub.status.idle": "2021-09-25T12:00:07.855101Z",
     "shell.execute_reply": "2021-09-25T12:00:07.853478Z"
    },
    "papermill": {
     "duration": 0.849979,
     "end_time": "2021-09-25T12:00:07.855559",
     "exception": false,
     "start_time": "2021-09-25T12:00:07.005580",
     "status": "completed"
    },
    "tags": []
   },
   "outputs": [],
   "source": [
    "import pandas as pd\n",
    "import sqlite3"
   ]
  },
  {
   "cell_type": "code",
   "execution_count": 2,
   "id": "innovative-syndrome",
   "metadata": {
    "execution": {
     "iopub.execute_input": "2021-09-25T12:00:07.906477Z",
     "iopub.status.busy": "2021-09-25T12:00:07.904399Z",
     "iopub.status.idle": "2021-09-25T12:00:08.283942Z",
     "shell.execute_reply": "2021-09-25T12:00:08.285145Z"
    },
    "papermill": {
     "duration": 0.40969,
     "end_time": "2021-09-25T12:00:08.285544",
     "exception": false,
     "start_time": "2021-09-25T12:00:07.875854",
     "status": "completed"
    },
    "tags": []
   },
   "outputs": [],
   "source": [
    "timestamps = pd.read_sql(\"select distinct record_time from EBAY_TOP_BERLIN order by record_time desc limit 2\", sqlite3.connect(\"UsedObjects.db\"))"
   ]
  },
  {
   "cell_type": "code",
   "execution_count": 3,
   "id": "periodic-identification",
   "metadata": {
    "execution": {
     "iopub.execute_input": "2021-09-25T12:00:08.350116Z",
     "iopub.status.busy": "2021-09-25T12:00:08.348076Z",
     "iopub.status.idle": "2021-09-25T12:00:08.368057Z",
     "shell.execute_reply": "2021-09-25T12:00:08.369358Z"
    },
    "papermill": {
     "duration": 0.063348,
     "end_time": "2021-09-25T12:00:08.369775",
     "exception": false,
     "start_time": "2021-09-25T12:00:08.306427",
     "status": "completed"
    },
    "tags": []
   },
   "outputs": [
    {
     "data": {
      "text/html": [
       "<div>\n",
       "<style scoped>\n",
       "    .dataframe tbody tr th:only-of-type {\n",
       "        vertical-align: middle;\n",
       "    }\n",
       "\n",
       "    .dataframe tbody tr th {\n",
       "        vertical-align: top;\n",
       "    }\n",
       "\n",
       "    .dataframe thead th {\n",
       "        text-align: right;\n",
       "    }\n",
       "</style>\n",
       "<table border=\"1\" class=\"dataframe\">\n",
       "  <thead>\n",
       "    <tr style=\"text-align: right;\">\n",
       "      <th></th>\n",
       "      <th>RECORD_TIME</th>\n",
       "    </tr>\n",
       "  </thead>\n",
       "  <tbody>\n",
       "    <tr>\n",
       "      <th>0</th>\n",
       "      <td>2021-09-25 14:00</td>\n",
       "    </tr>\n",
       "    <tr>\n",
       "      <th>1</th>\n",
       "      <td>2021-09-25 13:30</td>\n",
       "    </tr>\n",
       "  </tbody>\n",
       "</table>\n",
       "</div>"
      ],
      "text/plain": [
       "        RECORD_TIME\n",
       "0  2021-09-25 14:00\n",
       "1  2021-09-25 13:30"
      ]
     },
     "execution_count": 3,
     "metadata": {},
     "output_type": "execute_result"
    }
   ],
   "source": [
    "timestamps"
   ]
  },
  {
   "cell_type": "code",
   "execution_count": 4,
   "id": "alternate-victory",
   "metadata": {
    "execution": {
     "iopub.execute_input": "2021-09-25T12:00:08.422166Z",
     "iopub.status.busy": "2021-09-25T12:00:08.419858Z",
     "iopub.status.idle": "2021-09-25T12:00:08.966290Z",
     "shell.execute_reply": "2021-09-25T12:00:08.967732Z"
    },
    "papermill": {
     "duration": 0.577225,
     "end_time": "2021-09-25T12:00:08.968152",
     "exception": false,
     "start_time": "2021-09-25T12:00:08.390927",
     "status": "completed"
    },
    "tags": []
   },
   "outputs": [],
   "source": [
    "df = pd.read_sql(\"select * from EBAY_TOP_BERLIN where record_time in (select distinct record_time from EBAY_TOP_BERLIN order by record_time desc limit 2)\", sqlite3.connect(\"UsedObjects.db\"))"
   ]
  },
  {
   "cell_type": "code",
   "execution_count": 5,
   "id": "popular-active",
   "metadata": {
    "execution": {
     "iopub.execute_input": "2021-09-25T12:00:09.039948Z",
     "iopub.status.busy": "2021-09-25T12:00:09.028798Z",
     "iopub.status.idle": "2021-09-25T12:00:09.056385Z",
     "shell.execute_reply": "2021-09-25T12:00:09.057607Z"
    },
    "papermill": {
     "duration": 0.068136,
     "end_time": "2021-09-25T12:00:09.058000",
     "exception": false,
     "start_time": "2021-09-25T12:00:08.989864",
     "status": "completed"
    },
    "tags": []
   },
   "outputs": [],
   "source": [
    "df_pivot = df.pivot_table(index=\"PRODUCT\", columns = \"RECORD_TIME\", values = \"LISTING_COUNT\")"
   ]
  },
  {
   "cell_type": "code",
   "execution_count": 6,
   "id": "union-huntington",
   "metadata": {
    "execution": {
     "iopub.execute_input": "2021-09-25T12:00:09.114185Z",
     "iopub.status.busy": "2021-09-25T12:00:09.111904Z",
     "iopub.status.idle": "2021-09-25T12:00:09.117798Z",
     "shell.execute_reply": "2021-09-25T12:00:09.119358Z"
    },
    "papermill": {
     "duration": 0.041821,
     "end_time": "2021-09-25T12:00:09.119835",
     "exception": false,
     "start_time": "2021-09-25T12:00:09.078014",
     "status": "completed"
    },
    "tags": []
   },
   "outputs": [],
   "source": [
    "df_pivot.columns = [\"stamp_1\", \"stamp_2\"]\n",
    "df_pivot_diff = df_pivot.diff(axis=1)"
   ]
  },
  {
   "cell_type": "code",
   "execution_count": 7,
   "id": "fifth-motion",
   "metadata": {
    "execution": {
     "iopub.execute_input": "2021-09-25T12:00:09.173764Z",
     "iopub.status.busy": "2021-09-25T12:00:09.171584Z",
     "iopub.status.idle": "2021-09-25T12:00:10.678249Z",
     "shell.execute_reply": "2021-09-25T12:00:10.679707Z"
    },
    "papermill": {
     "duration": 1.539409,
     "end_time": "2021-09-25T12:00:10.680154",
     "exception": false,
     "start_time": "2021-09-25T12:00:09.140745",
     "status": "completed"
    },
    "tags": []
   },
   "outputs": [
    {
     "data": {
      "text/plain": [
       "<AxesSubplot:ylabel='PRODUCT'>"
      ]
     },
     "execution_count": 7,
     "metadata": {},
     "output_type": "execute_result"
    },
    {
     "data": {
      "image/png": "[encoded data removed]",
      "text/plain": [
       "<Figure size 432x288 with 1 Axes>"
      ]
     },
     "metadata": {
      "needs_background": "light"
     },
     "output_type": "display_data"
    }
   ],
   "source": [
    "df_pivot_diff.sort_values(\"stamp_2\", ascending = False)[\"stamp_2\"].head(10).plot.barh()"
   ]
  },
  {
   "cell_type": "code",
   "execution_count": null,
   "id": "extra-executive",
   "metadata": {
    "papermill": {
     "duration": 0.022254,
     "end_time": "2021-09-25T12:00:10.726136",
     "exception": false,
     "start_time": "2021-09-25T12:00:10.703882",
     "status": "completed"
    },
    "tags": []
   },
   "outputs": [],
   "source": []
  }
 ],
 "metadata": {
  "kernelspec": {
   "display_name": "Python 3",
   "language": "python",
   "name": "python3"
  },
  "language_info": {
   "codemirror_mode": {
    "name": "ipython",
    "version": 3
   },
   "file_extension": ".py",
   "mimetype": "text/x-python",
   "name": "python",
   "nbconvert_exporter": "python",
   "pygments_lexer": "ipython3",
   "version": "3.9.5"
  },
  "papermill": {
   "default_parameters": {},
   "duration": 6.763785,
   "end_time": "2021-09-25T12:00:11.368703",
   "environment_variables": {},
   "exception": null,
   "input_path": "eBay_Overview.ipynb",
   "output_path": "eBay_Overview.ipynb",
   "parameters": {},
   "start_time": "2021-09-25T12:00:04.604918",
   "version": "2.3.3"
  }
 },
 "nbformat": 4,
 "nbformat_minor": 5
}