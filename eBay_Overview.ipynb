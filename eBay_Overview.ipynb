{
 "cells": [
  {
   "cell_type": "code",
   "execution_count": 1,
   "id": "reverse-picking",
   "metadata": {
    "execution": {
     "iopub.execute_input": "2021-12-11T01:00:07.581722Z",
     "iopub.status.busy": "2021-12-11T01:00:07.579447Z",
     "iopub.status.idle": "2021-12-11T01:00:08.531994Z",
     "shell.execute_reply": "2021-12-11T01:00:08.533671Z"
    },
    "papermill": {
     "duration": 0.999719,
     "end_time": "2021-12-11T01:00:08.534380",
     "exception": false,
     "start_time": "2021-12-11T01:00:07.534661",
     "status": "completed"
    },
    "tags": []
   },
   "outputs": [],
   "source": [
    "import pandas as pd\n",
    "import sqlite3"
   ]
  },
  {
   "cell_type": "code",
   "execution_count": 2,
   "id": "innovative-syndrome",
   "metadata": {
    "execution": {
     "iopub.execute_input": "2021-12-11T01:00:08.602633Z",
     "iopub.status.busy": "2021-12-11T01:00:08.600363Z",
     "iopub.status.idle": "2021-12-11T01:00:09.667518Z",
     "shell.execute_reply": "2021-12-11T01:00:09.669247Z"
    },
    "papermill": {
     "duration": 1.101587,
     "end_time": "2021-12-11T01:00:09.669772",
     "exception": false,
     "start_time": "2021-12-11T01:00:08.568185",
     "status": "completed"
    },
    "tags": []
   },
   "outputs": [],
   "source": [
    "timestamps = pd.read_sql(\"select distinct record_time from EBAY_TOP_BERLIN order by record_time desc limit 2\", sqlite3.connect(\"UsedObjects.db\"))"
   ]
  },
  {
   "cell_type": "code",
   "execution_count": 3,
   "id": "periodic-identification",
   "metadata": {
    "execution": {
     "iopub.execute_input": "2021-12-11T01:00:09.751386Z",
     "iopub.status.busy": "2021-12-11T01:00:09.744429Z",
     "iopub.status.idle": "2021-12-11T01:00:09.768803Z",
     "shell.execute_reply": "2021-12-11T01:00:09.770295Z"
    },
    "papermill": {
     "duration": 0.078612,
     "end_time": "2021-12-11T01:00:09.770794",
     "exception": false,
     "start_time": "2021-12-11T01:00:09.692182",
     "status": "completed"
    },
    "tags": []
   },
   "outputs": [
    {
     "data": {
      "text/html": [
       "<div>\n",
       "<style scoped>\n",
       "    .dataframe tbody tr th:only-of-type {\n",
       "        vertical-align: middle;\n",
       "    }\n",
       "\n",
       "    .dataframe tbody tr th {\n",
       "        vertical-align: top;\n",
       "    }\n",
       "\n",
       "    .dataframe thead th {\n",
       "        text-align: right;\n",
       "    }\n",
       "</style>\n",
       "<table border=\"1\" class=\"dataframe\">\n",
       "  <thead>\n",
       "    <tr style=\"text-align: right;\">\n",
       "      <th></th>\n",
       "      <th>RECORD_TIME</th>\n",
       "    </tr>\n",
       "  </thead>\n",
       "  <tbody>\n",
       "    <tr>\n",
       "      <th>0</th>\n",
       "      <td>2021-12-11 02:00</td>\n",
       "    </tr>\n",
       "    <tr>\n",
       "      <th>1</th>\n",
       "      <td>2021-12-11 01:30</td>\n",
       "    </tr>\n",
       "  </tbody>\n",
       "</table>\n",
       "</div>"
      ],
      "text/plain": [
       "        RECORD_TIME\n",
       "0  2021-12-11 02:00\n",
       "1  2021-12-11 01:30"
      ]
     },
     "execution_count": 3,
     "metadata": {},
     "output_type": "execute_result"
    }
   ],
   "source": [
    "timestamps"
   ]
  },
  {
   "cell_type": "code",
   "execution_count": 4,
   "id": "alternate-victory",
   "metadata": {
    "execution": {
     "iopub.execute_input": "2021-12-11T01:00:09.827251Z",
     "iopub.status.busy": "2021-12-11T01:00:09.825050Z",
     "iopub.status.idle": "2021-12-11T01:00:11.354559Z",
     "shell.execute_reply": "2021-12-11T01:00:11.356253Z"
    },
    "papermill": {
     "duration": 1.564219,
     "end_time": "2021-12-11T01:00:11.356830",
     "exception": false,
     "start_time": "2021-12-11T01:00:09.792611",
     "status": "completed"
    },
    "tags": []
   },
   "outputs": [],
   "source": [
    "df = pd.read_sql(\"select * from EBAY_TOP_BERLIN where record_time in (select distinct record_time from EBAY_TOP_BERLIN order by record_time desc limit 2)\", sqlite3.connect(\"UsedObjects.db\"))"
   ]
  },
  {
   "cell_type": "code",
   "execution_count": 5,
   "id": "popular-active",
   "metadata": {
    "execution": {
     "iopub.execute_input": "2021-12-11T01:00:11.435355Z",
     "iopub.status.busy": "2021-12-11T01:00:11.420938Z",
     "iopub.status.idle": "2021-12-11T01:00:11.454247Z",
     "shell.execute_reply": "2021-12-11T01:00:11.455675Z"
    },
    "papermill": {
     "duration": 0.078027,
     "end_time": "2021-12-11T01:00:11.456180",
     "exception": false,
     "start_time": "2021-12-11T01:00:11.378153",
     "status": "completed"
    },
    "tags": []
   },
   "outputs": [],
   "source": [
    "df_pivot = df.pivot_table(index=\"PRODUCT\", columns = \"RECORD_TIME\", values = \"LISTING_COUNT\")"
   ]
  },
  {
   "cell_type": "code",
   "execution_count": 6,
   "id": "union-huntington",
   "metadata": {
    "execution": {
     "iopub.execute_input": "2021-12-11T01:00:11.515773Z",
     "iopub.status.busy": "2021-12-11T01:00:11.513613Z",
     "iopub.status.idle": "2021-12-11T01:00:11.519919Z",
     "shell.execute_reply": "2021-12-11T01:00:11.521431Z"
    },
    "papermill": {
     "duration": 0.045153,
     "end_time": "2021-12-11T01:00:11.521916",
     "exception": false,
     "start_time": "2021-12-11T01:00:11.476763",
     "status": "completed"
    },
    "tags": []
   },
   "outputs": [],
   "source": [
    "df_pivot.columns = [\"stamp_1\", \"stamp_2\"]\n",
    "df_pivot_diff = df_pivot.diff(axis=1)"
   ]
  },
  {
   "cell_type": "code",
   "execution_count": 7,
   "id": "fifth-motion",
   "metadata": {
    "execution": {
     "iopub.execute_input": "2021-12-11T01:00:11.580990Z",
     "iopub.status.busy": "2021-12-11T01:00:11.578460Z",
     "iopub.status.idle": "2021-12-11T01:00:13.588001Z",
     "shell.execute_reply": "2021-12-11T01:00:13.590754Z"
    },
    "papermill": {
     "duration": 2.049288,
     "end_time": "2021-12-11T01:00:13.591539",
     "exception": false,
     "start_time": "2021-12-11T01:00:11.542251",
     "status": "completed"
    },
    "tags": []
   },
   "outputs": [
    {
     "data": {
      "text/plain": [
       "<AxesSubplot:ylabel='PRODUCT'>"
      ]
     },
     "execution_count": 7,
     "metadata": {},
     "output_type": "execute_result"
    },
    {
     "data": {
      "image/png": "[encoded data removed]",
      "text/plain": [
       "<Figure size 432x288 with 1 Axes>"
      ]
     },
     "metadata": {
      "needs_background": "light"
     },
     "output_type": "display_data"
    }
   ],
   "source": [
    "df_pivot_diff.sort_values(\"stamp_2\", ascending = False)[\"stamp_2\"].head(10).plot.barh()"
   ]
  },
  {
   "cell_type": "code",
   "execution_count": null,
   "id": "extra-executive",
   "metadata": {
    "papermill": {
     "duration": 0.027752,
     "end_time": "2021-12-11T01:00:13.657916",
     "exception": false,
     "start_time": "2021-12-11T01:00:13.630164",
     "status": "completed"
    },
    "tags": []
   },
   "outputs": [],
   "source": []
  }
 ],
 "metadata": {
  "kernelspec": {
   "display_name": "Python 3",
   "language": "python",
   "name": "python3"
  },
  "language_info": {
   "codemirror_mode": {
    "name": "ipython",
    "version": 3
   },
   "file_extension": ".py",
   "mimetype": "text/x-python",
   "name": "python",
   "nbconvert_exporter": "python",
   "pygments_lexer": "ipython3",
   "version": "3.9.5"
  },
  "papermill": {
   "default_parameters": {},
   "duration": 9.645368,
   "end_time": "2021-12-11T01:00:14.423316",
   "environment_variables": {},
   "exception": null,
   "input_path": "eBay_Overview.ipynb",
   "output_path": "eBay_Overview.ipynb",
   "parameters": {},
   "start_time": "2021-12-11T01:00:04.777948",
   "version": "2.3.3"
  }
 },
 "nbformat": 4,
 "nbformat_minor": 5
}