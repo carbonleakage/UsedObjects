{
 "cells": [
  {
   "cell_type": "code",
   "execution_count": 1,
   "id": "reverse-picking",
   "metadata": {
    "execution": {
     "iopub.execute_input": "2021-12-05T21:00:08.016409Z",
     "iopub.status.busy": "2021-12-05T21:00:08.014082Z",
     "iopub.status.idle": "2021-12-05T21:00:08.971734Z",
     "shell.execute_reply": "2021-12-05T21:00:08.973552Z"
    },
    "papermill": {
     "duration": 1.01214,
     "end_time": "2021-12-05T21:00:08.974293",
     "exception": false,
     "start_time": "2021-12-05T21:00:07.962153",
     "status": "completed"
    },
    "tags": []
   },
   "outputs": [],
   "source": [
    "import pandas as pd\n",
    "import sqlite3"
   ]
  },
  {
   "cell_type": "code",
   "execution_count": 2,
   "id": "innovative-syndrome",
   "metadata": {
    "execution": {
     "iopub.execute_input": "2021-12-05T21:00:09.030171Z",
     "iopub.status.busy": "2021-12-05T21:00:09.027861Z",
     "iopub.status.idle": "2021-12-05T21:00:10.012976Z",
     "shell.execute_reply": "2021-12-05T21:00:10.016639Z"
    },
    "papermill": {
     "duration": 1.021301,
     "end_time": "2021-12-05T21:00:10.017213",
     "exception": false,
     "start_time": "2021-12-05T21:00:08.995912",
     "status": "completed"
    },
    "tags": []
   },
   "outputs": [],
   "source": [
    "timestamps = pd.read_sql(\"select distinct record_time from EBAY_TOP_BERLIN order by record_time desc limit 2\", sqlite3.connect(\"UsedObjects.db\"))"
   ]
  },
  {
   "cell_type": "code",
   "execution_count": 3,
   "id": "periodic-identification",
   "metadata": {
    "execution": {
     "iopub.execute_input": "2021-12-05T21:00:10.088973Z",
     "iopub.status.busy": "2021-12-05T21:00:10.086669Z",
     "iopub.status.idle": "2021-12-05T21:00:10.108676Z",
     "shell.execute_reply": "2021-12-05T21:00:10.110221Z"
    },
    "papermill": {
     "duration": 0.072698,
     "end_time": "2021-12-05T21:00:10.110709",
     "exception": false,
     "start_time": "2021-12-05T21:00:10.038011",
     "status": "completed"
    },
    "tags": []
   },
   "outputs": [
    {
     "data": {
      "text/html": [
       "<div>\n",
       "<style scoped>\n",
       "    .dataframe tbody tr th:only-of-type {\n",
       "        vertical-align: middle;\n",
       "    }\n",
       "\n",
       "    .dataframe tbody tr th {\n",
       "        vertical-align: top;\n",
       "    }\n",
       "\n",
       "    .dataframe thead th {\n",
       "        text-align: right;\n",
       "    }\n",
       "</style>\n",
       "<table border=\"1\" class=\"dataframe\">\n",
       "  <thead>\n",
       "    <tr style=\"text-align: right;\">\n",
       "      <th></th>\n",
       "      <th>RECORD_TIME</th>\n",
       "    </tr>\n",
       "  </thead>\n",
       "  <tbody>\n",
       "    <tr>\n",
       "      <th>0</th>\n",
       "      <td>2021-12-05 22:00</td>\n",
       "    </tr>\n",
       "    <tr>\n",
       "      <th>1</th>\n",
       "      <td>2021-12-05 21:30</td>\n",
       "    </tr>\n",
       "  </tbody>\n",
       "</table>\n",
       "</div>"
      ],
      "text/plain": [
       "        RECORD_TIME\n",
       "0  2021-12-05 22:00\n",
       "1  2021-12-05 21:30"
      ]
     },
     "execution_count": 3,
     "metadata": {},
     "output_type": "execute_result"
    }
   ],
   "source": [
    "timestamps"
   ]
  },
  {
   "cell_type": "code",
   "execution_count": 4,
   "id": "alternate-victory",
   "metadata": {
    "execution": {
     "iopub.execute_input": "2021-12-05T21:00:10.169069Z",
     "iopub.status.busy": "2021-12-05T21:00:10.167071Z",
     "iopub.status.idle": "2021-12-05T21:00:11.681751Z",
     "shell.execute_reply": "2021-12-05T21:00:11.683697Z"
    },
    "papermill": {
     "duration": 1.551927,
     "end_time": "2021-12-05T21:00:11.684194",
     "exception": false,
     "start_time": "2021-12-05T21:00:10.132267",
     "status": "completed"
    },
    "tags": []
   },
   "outputs": [],
   "source": [
    "df = pd.read_sql(\"select * from EBAY_TOP_BERLIN where record_time in (select distinct record_time from EBAY_TOP_BERLIN order by record_time desc limit 2)\", sqlite3.connect(\"UsedObjects.db\"))"
   ]
  },
  {
   "cell_type": "code",
   "execution_count": 5,
   "id": "popular-active",
   "metadata": {
    "execution": {
     "iopub.execute_input": "2021-12-05T21:00:11.752514Z",
     "iopub.status.busy": "2021-12-05T21:00:11.750322Z",
     "iopub.status.idle": "2021-12-05T21:00:11.790928Z",
     "shell.execute_reply": "2021-12-05T21:00:11.788604Z"
    },
    "papermill": {
     "duration": 0.083737,
     "end_time": "2021-12-05T21:00:11.791486",
     "exception": false,
     "start_time": "2021-12-05T21:00:11.707749",
     "status": "completed"
    },
    "tags": []
   },
   "outputs": [],
   "source": [
    "df_pivot = df.pivot_table(index=\"PRODUCT\", columns = \"RECORD_TIME\", values = \"LISTING_COUNT\")"
   ]
  },
  {
   "cell_type": "code",
   "execution_count": 6,
   "id": "union-huntington",
   "metadata": {
    "execution": {
     "iopub.execute_input": "2021-12-05T21:00:11.854443Z",
     "iopub.status.busy": "2021-12-05T21:00:11.852113Z",
     "iopub.status.idle": "2021-12-05T21:00:11.857889Z",
     "shell.execute_reply": "2021-12-05T21:00:11.859263Z"
    },
    "papermill": {
     "duration": 0.04553,
     "end_time": "2021-12-05T21:00:11.859732",
     "exception": false,
     "start_time": "2021-12-05T21:00:11.814202",
     "status": "completed"
    },
    "tags": []
   },
   "outputs": [],
   "source": [
    "df_pivot.columns = [\"stamp_1\", \"stamp_2\"]\n",
    "df_pivot_diff = df_pivot.diff(axis=1)"
   ]
  },
  {
   "cell_type": "code",
   "execution_count": 7,
   "id": "fifth-motion",
   "metadata": {
    "execution": {
     "iopub.execute_input": "2021-12-05T21:00:11.916116Z",
     "iopub.status.busy": "2021-12-05T21:00:11.913618Z",
     "iopub.status.idle": "2021-12-05T21:00:13.936949Z",
     "shell.execute_reply": "2021-12-05T21:00:13.934615Z"
    },
    "papermill": {
     "duration": 2.057724,
     "end_time": "2021-12-05T21:00:13.937511",
     "exception": false,
     "start_time": "2021-12-05T21:00:11.879787",
     "status": "completed"
    },
    "tags": []
   },
   "outputs": [
    {
     "data": {
      "text/plain": [
       "<AxesSubplot:ylabel='PRODUCT'>"
      ]
     },
     "execution_count": 7,
     "metadata": {},
     "output_type": "execute_result"
    },
    {
     "data": {
      "image/png": "[encoded data removed]",
      "text/plain": [
       "<Figure size 432x288 with 1 Axes>"
      ]
     },
     "metadata": {
      "needs_background": "light"
     },
     "output_type": "display_data"
    }
   ],
   "source": [
    "df_pivot_diff.sort_values(\"stamp_2\", ascending = False)[\"stamp_2\"].head(10).plot.barh()"
   ]
  },
  {
   "cell_type": "code",
   "execution_count": null,
   "id": "extra-executive",
   "metadata": {
    "papermill": {
     "duration": 0.031479,
     "end_time": "2021-12-05T21:00:14.064847",
     "exception": false,
     "start_time": "2021-12-05T21:00:14.033368",
     "status": "completed"
    },
    "tags": []
   },
   "outputs": [],
   "source": []
  }
 ],
 "metadata": {
  "kernelspec": {
   "display_name": "Python 3",
   "language": "python",
   "name": "python3"
  },
  "language_info": {
   "codemirror_mode": {
    "name": "ipython",
    "version": 3
   },
   "file_extension": ".py",
   "mimetype": "text/x-python",
   "name": "python",
   "nbconvert_exporter": "python",
   "pygments_lexer": "ipython3",
   "version": "3.9.5"
  },
  "papermill": {
   "default_parameters": {},
   "duration": 9.496518,
   "end_time": "2021-12-05T21:00:14.710097",
   "environment_variables": {},
   "exception": null,
   "input_path": "eBay_Overview.ipynb",
   "output_path": "eBay_Overview.ipynb",
   "parameters": {},
   "start_time": "2021-12-05T21:00:05.213579",
   "version": "2.3.3"
  }
 },
 "nbformat": 4,
 "nbformat_minor": 5
}