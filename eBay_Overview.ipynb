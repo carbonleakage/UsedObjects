{
 "cells": [
  {
   "cell_type": "code",
   "execution_count": 1,
   "id": "reverse-picking",
   "metadata": {
    "execution": {
     "iopub.execute_input": "2021-09-18T10:00:06.940893Z",
     "iopub.status.busy": "2021-09-18T10:00:06.938985Z",
     "iopub.status.idle": "2021-09-18T10:00:07.740559Z",
     "shell.execute_reply": "2021-09-18T10:00:07.741932Z"
    },
    "papermill": {
     "duration": 0.853456,
     "end_time": "2021-09-18T10:00:07.742605",
     "exception": false,
     "start_time": "2021-09-18T10:00:06.889149",
     "status": "completed"
    },
    "tags": []
   },
   "outputs": [],
   "source": [
    "import pandas as pd\n",
    "import sqlite3"
   ]
  },
  {
   "cell_type": "code",
   "execution_count": 2,
   "id": "innovative-syndrome",
   "metadata": {
    "execution": {
     "iopub.execute_input": "2021-09-18T10:00:07.793829Z",
     "iopub.status.busy": "2021-09-18T10:00:07.791825Z",
     "iopub.status.idle": "2021-09-18T10:00:08.104421Z",
     "shell.execute_reply": "2021-09-18T10:00:08.105598Z"
    },
    "papermill": {
     "duration": 0.342582,
     "end_time": "2021-09-18T10:00:08.105981",
     "exception": false,
     "start_time": "2021-09-18T10:00:07.763399",
     "status": "completed"
    },
    "tags": []
   },
   "outputs": [],
   "source": [
    "timestamps = pd.read_sql(\"select distinct record_time from EBAY_TOP_BERLIN order by record_time desc limit 2\", sqlite3.connect(\"UsedObjects.db\"))"
   ]
  },
  {
   "cell_type": "code",
   "execution_count": 3,
   "id": "periodic-identification",
   "metadata": {
    "execution": {
     "iopub.execute_input": "2021-09-18T10:00:08.169769Z",
     "iopub.status.busy": "2021-09-18T10:00:08.167775Z",
     "iopub.status.idle": "2021-09-18T10:00:08.187602Z",
     "shell.execute_reply": "2021-09-18T10:00:08.188868Z"
    },
    "papermill": {
     "duration": 0.063944,
     "end_time": "2021-09-18T10:00:08.189254",
     "exception": false,
     "start_time": "2021-09-18T10:00:08.125310",
     "status": "completed"
    },
    "tags": []
   },
   "outputs": [
    {
     "data": {
      "text/html": [
       "<div>\n",
       "<style scoped>\n",
       "    .dataframe tbody tr th:only-of-type {\n",
       "        vertical-align: middle;\n",
       "    }\n",
       "\n",
       "    .dataframe tbody tr th {\n",
       "        vertical-align: top;\n",
       "    }\n",
       "\n",
       "    .dataframe thead th {\n",
       "        text-align: right;\n",
       "    }\n",
       "</style>\n",
       "<table border=\"1\" class=\"dataframe\">\n",
       "  <thead>\n",
       "    <tr style=\"text-align: right;\">\n",
       "      <th></th>\n",
       "      <th>RECORD_TIME</th>\n",
       "    </tr>\n",
       "  </thead>\n",
       "  <tbody>\n",
       "    <tr>\n",
       "      <th>0</th>\n",
       "      <td>2021-09-18 12:00</td>\n",
       "    </tr>\n",
       "    <tr>\n",
       "      <th>1</th>\n",
       "      <td>2021-09-18 11:30</td>\n",
       "    </tr>\n",
       "  </tbody>\n",
       "</table>\n",
       "</div>"
      ],
      "text/plain": [
       "        RECORD_TIME\n",
       "0  2021-09-18 12:00\n",
       "1  2021-09-18 11:30"
      ]
     },
     "execution_count": 3,
     "metadata": {},
     "output_type": "execute_result"
    }
   ],
   "source": [
    "timestamps"
   ]
  },
  {
   "cell_type": "code",
   "execution_count": 4,
   "id": "alternate-victory",
   "metadata": {
    "execution": {
     "iopub.execute_input": "2021-09-18T10:00:08.240030Z",
     "iopub.status.busy": "2021-09-18T10:00:08.238153Z",
     "iopub.status.idle": "2021-09-18T10:00:08.757508Z",
     "shell.execute_reply": "2021-09-18T10:00:08.758688Z"
    },
    "papermill": {
     "duration": 0.549116,
     "end_time": "2021-09-18T10:00:08.759225",
     "exception": false,
     "start_time": "2021-09-18T10:00:08.210109",
     "status": "completed"
    },
    "tags": []
   },
   "outputs": [],
   "source": [
    "df = pd.read_sql(\"select * from EBAY_TOP_BERLIN where record_time in (select distinct record_time from EBAY_TOP_BERLIN order by record_time desc limit 2)\", sqlite3.connect(\"UsedObjects.db\"))"
   ]
  },
  {
   "cell_type": "code",
   "execution_count": 5,
   "id": "popular-active",
   "metadata": {
    "execution": {
     "iopub.execute_input": "2021-09-18T10:00:08.839783Z",
     "iopub.status.busy": "2021-09-18T10:00:08.828036Z",
     "iopub.status.idle": "2021-09-18T10:00:08.855480Z",
     "shell.execute_reply": "2021-09-18T10:00:08.856690Z"
    },
    "papermill": {
     "duration": 0.071947,
     "end_time": "2021-09-18T10:00:08.857080",
     "exception": false,
     "start_time": "2021-09-18T10:00:08.785133",
     "status": "completed"
    },
    "tags": []
   },
   "outputs": [],
   "source": [
    "df_pivot = df.pivot_table(index=\"PRODUCT\", columns = \"RECORD_TIME\", values = \"LISTING_COUNT\")"
   ]
  },
  {
   "cell_type": "code",
   "execution_count": 6,
   "id": "union-huntington",
   "metadata": {
    "execution": {
     "iopub.execute_input": "2021-09-18T10:00:08.914766Z",
     "iopub.status.busy": "2021-09-18T10:00:08.912537Z",
     "iopub.status.idle": "2021-09-18T10:00:08.918350Z",
     "shell.execute_reply": "2021-09-18T10:00:08.919726Z"
    },
    "papermill": {
     "duration": 0.041703,
     "end_time": "2021-09-18T10:00:08.920146",
     "exception": false,
     "start_time": "2021-09-18T10:00:08.878443",
     "status": "completed"
    },
    "tags": []
   },
   "outputs": [],
   "source": [
    "df_pivot.columns = [\"stamp_1\", \"stamp_2\"]\n",
    "df_pivot_diff = df_pivot.diff(axis=1)"
   ]
  },
  {
   "cell_type": "code",
   "execution_count": 7,
   "id": "fifth-motion",
   "metadata": {
    "execution": {
     "iopub.execute_input": "2021-09-18T10:00:08.973554Z",
     "iopub.status.busy": "2021-09-18T10:00:08.971309Z",
     "iopub.status.idle": "2021-09-18T10:00:10.471934Z",
     "shell.execute_reply": "2021-09-18T10:00:10.473287Z"
    },
    "papermill": {
     "duration": 1.533771,
     "end_time": "2021-09-18T10:00:10.473717",
     "exception": false,
     "start_time": "2021-09-18T10:00:08.939946",
     "status": "completed"
    },
    "tags": []
   },
   "outputs": [
    {
     "data": {
      "text/plain": [
       "<AxesSubplot:ylabel='PRODUCT'>"
      ]
     },
     "execution_count": 7,
     "metadata": {},
     "output_type": "execute_result"
    },
    {
     "data": {
      "image/png": "[encoded data removed]",
      "text/plain": [
       "<Figure size 432x288 with 1 Axes>"
      ]
     },
     "metadata": {
      "needs_background": "light"
     },
     "output_type": "display_data"
    }
   ],
   "source": [
    "df_pivot_diff.sort_values(\"stamp_2\", ascending = False)[\"stamp_2\"].head(10).plot.barh()"
   ]
  },
  {
   "cell_type": "code",
   "execution_count": null,
   "id": "extra-executive",
   "metadata": {
    "papermill": {
     "duration": 0.022488,
     "end_time": "2021-09-18T10:00:10.519761",
     "exception": false,
     "start_time": "2021-09-18T10:00:10.497273",
     "status": "completed"
    },
    "tags": []
   },
   "outputs": [],
   "source": []
  }
 ],
 "metadata": {
  "kernelspec": {
   "display_name": "Python 3",
   "language": "python",
   "name": "python3"
  },
  "language_info": {
   "codemirror_mode": {
    "name": "ipython",
    "version": 3
   },
   "file_extension": ".py",
   "mimetype": "text/x-python",
   "name": "python",
   "nbconvert_exporter": "python",
   "pygments_lexer": "ipython3",
   "version": "3.9.5"
  },
  "papermill": {
   "default_parameters": {},
   "duration": 6.665354,
   "end_time": "2021-09-18T10:00:11.160130",
   "environment_variables": {},
   "exception": null,
   "input_path": "eBay_Overview.ipynb",
   "output_path": "eBay_Overview.ipynb",
   "parameters": {},
   "start_time": "2021-09-18T10:00:04.494776",
   "version": "2.3.3"
  }
 },
 "nbformat": 4,
 "nbformat_minor": 5
}