{
 "cells": [
  {
   "cell_type": "code",
   "execution_count": 1,
   "id": "reverse-picking",
   "metadata": {
    "execution": {
     "iopub.execute_input": "2021-10-03T00:00:06.628883Z",
     "iopub.status.busy": "2021-10-03T00:00:06.626937Z",
     "iopub.status.idle": "2021-10-03T00:00:07.434367Z",
     "shell.execute_reply": "2021-10-03T00:00:07.432904Z"
    },
    "papermill": {
     "duration": 0.858365,
     "end_time": "2021-10-03T00:00:07.434770",
     "exception": false,
     "start_time": "2021-10-03T00:00:06.576405",
     "status": "completed"
    },
    "tags": []
   },
   "outputs": [],
   "source": [
    "import pandas as pd\n",
    "import sqlite3"
   ]
  },
  {
   "cell_type": "code",
   "execution_count": 2,
   "id": "innovative-syndrome",
   "metadata": {
    "execution": {
     "iopub.execute_input": "2021-10-03T00:00:07.486086Z",
     "iopub.status.busy": "2021-10-03T00:00:07.484267Z",
     "iopub.status.idle": "2021-10-03T00:00:07.912979Z",
     "shell.execute_reply": "2021-10-03T00:00:07.914157Z"
    },
    "papermill": {
     "duration": 0.45811,
     "end_time": "2021-10-03T00:00:07.914549",
     "exception": false,
     "start_time": "2021-10-03T00:00:07.456439",
     "status": "completed"
    },
    "tags": []
   },
   "outputs": [],
   "source": [
    "timestamps = pd.read_sql(\"select distinct record_time from EBAY_TOP_BERLIN order by record_time desc limit 2\", sqlite3.connect(\"UsedObjects.db\"))"
   ]
  },
  {
   "cell_type": "code",
   "execution_count": 3,
   "id": "periodic-identification",
   "metadata": {
    "execution": {
     "iopub.execute_input": "2021-10-03T00:00:07.977266Z",
     "iopub.status.busy": "2021-10-03T00:00:07.975282Z",
     "iopub.status.idle": "2021-10-03T00:00:07.996799Z",
     "shell.execute_reply": "2021-10-03T00:00:07.997992Z"
    },
    "papermill": {
     "duration": 0.064718,
     "end_time": "2021-10-03T00:00:07.998384",
     "exception": false,
     "start_time": "2021-10-03T00:00:07.933666",
     "status": "completed"
    },
    "tags": []
   },
   "outputs": [
    {
     "data": {
      "text/html": [
       "<div>\n",
       "<style scoped>\n",
       "    .dataframe tbody tr th:only-of-type {\n",
       "        vertical-align: middle;\n",
       "    }\n",
       "\n",
       "    .dataframe tbody tr th {\n",
       "        vertical-align: top;\n",
       "    }\n",
       "\n",
       "    .dataframe thead th {\n",
       "        text-align: right;\n",
       "    }\n",
       "</style>\n",
       "<table border=\"1\" class=\"dataframe\">\n",
       "  <thead>\n",
       "    <tr style=\"text-align: right;\">\n",
       "      <th></th>\n",
       "      <th>RECORD_TIME</th>\n",
       "    </tr>\n",
       "  </thead>\n",
       "  <tbody>\n",
       "    <tr>\n",
       "      <th>0</th>\n",
       "      <td>2021-10-03 02:00</td>\n",
       "    </tr>\n",
       "    <tr>\n",
       "      <th>1</th>\n",
       "      <td>2021-10-03 01:30</td>\n",
       "    </tr>\n",
       "  </tbody>\n",
       "</table>\n",
       "</div>"
      ],
      "text/plain": [
       "        RECORD_TIME\n",
       "0  2021-10-03 02:00\n",
       "1  2021-10-03 01:30"
      ]
     },
     "execution_count": 3,
     "metadata": {},
     "output_type": "execute_result"
    }
   ],
   "source": [
    "timestamps"
   ]
  },
  {
   "cell_type": "code",
   "execution_count": 4,
   "id": "alternate-victory",
   "metadata": {
    "execution": {
     "iopub.execute_input": "2021-10-03T00:00:08.051205Z",
     "iopub.status.busy": "2021-10-03T00:00:08.048907Z",
     "iopub.status.idle": "2021-10-03T00:00:08.692926Z",
     "shell.execute_reply": "2021-10-03T00:00:08.694125Z"
    },
    "papermill": {
     "duration": 0.674409,
     "end_time": "2021-10-03T00:00:08.694514",
     "exception": false,
     "start_time": "2021-10-03T00:00:08.020105",
     "status": "completed"
    },
    "tags": []
   },
   "outputs": [],
   "source": [
    "df = pd.read_sql(\"select * from EBAY_TOP_BERLIN where record_time in (select distinct record_time from EBAY_TOP_BERLIN order by record_time desc limit 2)\", sqlite3.connect(\"UsedObjects.db\"))"
   ]
  },
  {
   "cell_type": "code",
   "execution_count": 5,
   "id": "popular-active",
   "metadata": {
    "execution": {
     "iopub.execute_input": "2021-10-03T00:00:08.778032Z",
     "iopub.status.busy": "2021-10-03T00:00:08.765493Z",
     "iopub.status.idle": "2021-10-03T00:00:08.793999Z",
     "shell.execute_reply": "2021-10-03T00:00:08.795337Z"
    },
    "papermill": {
     "duration": 0.072326,
     "end_time": "2021-10-03T00:00:08.795756",
     "exception": false,
     "start_time": "2021-10-03T00:00:08.723430",
     "status": "completed"
    },
    "tags": []
   },
   "outputs": [],
   "source": [
    "df_pivot = df.pivot_table(index=\"PRODUCT\", columns = \"RECORD_TIME\", values = \"LISTING_COUNT\")"
   ]
  },
  {
   "cell_type": "code",
   "execution_count": 6,
   "id": "union-huntington",
   "metadata": {
    "execution": {
     "iopub.execute_input": "2021-10-03T00:00:08.851944Z",
     "iopub.status.busy": "2021-10-03T00:00:08.849877Z",
     "iopub.status.idle": "2021-10-03T00:00:08.855169Z",
     "shell.execute_reply": "2021-10-03T00:00:08.856431Z"
    },
    "papermill": {
     "duration": 0.040959,
     "end_time": "2021-10-03T00:00:08.856840",
     "exception": false,
     "start_time": "2021-10-03T00:00:08.815881",
     "status": "completed"
    },
    "tags": []
   },
   "outputs": [],
   "source": [
    "df_pivot.columns = [\"stamp_1\", \"stamp_2\"]\n",
    "df_pivot_diff = df_pivot.diff(axis=1)"
   ]
  },
  {
   "cell_type": "code",
   "execution_count": 7,
   "id": "fifth-motion",
   "metadata": {
    "execution": {
     "iopub.execute_input": "2021-10-03T00:00:08.912235Z",
     "iopub.status.busy": "2021-10-03T00:00:08.909707Z",
     "iopub.status.idle": "2021-10-03T00:00:10.388851Z",
     "shell.execute_reply": "2021-10-03T00:00:10.390117Z"
    },
    "papermill": {
     "duration": 1.512216,
     "end_time": "2021-10-03T00:00:10.390528",
     "exception": false,
     "start_time": "2021-10-03T00:00:08.878312",
     "status": "completed"
    },
    "tags": []
   },
   "outputs": [
    {
     "data": {
      "text/plain": [
       "<AxesSubplot:ylabel='PRODUCT'>"
      ]
     },
     "execution_count": 7,
     "metadata": {},
     "output_type": "execute_result"
    },
    {
     "data": {
      "image/png": "[encoded data removed]",
      "text/plain": [
       "<Figure size 432x288 with 1 Axes>"
      ]
     },
     "metadata": {
      "needs_background": "light"
     },
     "output_type": "display_data"
    }
   ],
   "source": [
    "df_pivot_diff.sort_values(\"stamp_2\", ascending = False)[\"stamp_2\"].head(10).plot.barh()"
   ]
  },
  {
   "cell_type": "code",
   "execution_count": null,
   "id": "extra-executive",
   "metadata": {
    "papermill": {
     "duration": 0.022231,
     "end_time": "2021-10-03T00:00:10.437347",
     "exception": false,
     "start_time": "2021-10-03T00:00:10.415116",
     "status": "completed"
    },
    "tags": []
   },
   "outputs": [],
   "source": []
  }
 ],
 "metadata": {
  "kernelspec": {
   "display_name": "Python 3",
   "language": "python",
   "name": "python3"
  },
  "language_info": {
   "codemirror_mode": {
    "name": "ipython",
    "version": 3
   },
   "file_extension": ".py",
   "mimetype": "text/x-python",
   "name": "python",
   "nbconvert_exporter": "python",
   "pygments_lexer": "ipython3",
   "version": "3.9.5"
  },
  "papermill": {
   "default_parameters": {},
   "duration": 7.824518,
   "end_time": "2021-10-03T00:00:11.988880",
   "environment_variables": {},
   "exception": null,
   "input_path": "eBay_Overview.ipynb",
   "output_path": "eBay_Overview.ipynb",
   "parameters": {},
   "start_time": "2021-10-03T00:00:04.164362",
   "version": "2.3.3"
  }
 },
 "nbformat": 4,
 "nbformat_minor": 5
}