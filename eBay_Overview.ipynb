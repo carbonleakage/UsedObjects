{
 "cells": [
  {
   "cell_type": "code",
   "execution_count": 1,
   "id": "reverse-picking",
   "metadata": {
    "execution": {
     "iopub.execute_input": "2021-10-08T12:00:06.824547Z",
     "iopub.status.busy": "2021-10-08T12:00:06.822568Z",
     "iopub.status.idle": "2021-10-08T12:00:07.637534Z",
     "shell.execute_reply": "2021-10-08T12:00:07.638885Z"
    },
    "papermill": {
     "duration": 0.867445,
     "end_time": "2021-10-08T12:00:07.639528",
     "exception": false,
     "start_time": "2021-10-08T12:00:06.772083",
     "status": "completed"
    },
    "tags": []
   },
   "outputs": [],
   "source": [
    "import pandas as pd\n",
    "import sqlite3"
   ]
  },
  {
   "cell_type": "code",
   "execution_count": 2,
   "id": "innovative-syndrome",
   "metadata": {
    "execution": {
     "iopub.execute_input": "2021-10-08T12:00:07.690238Z",
     "iopub.status.busy": "2021-10-08T12:00:07.688197Z",
     "iopub.status.idle": "2021-10-08T12:00:08.175996Z",
     "shell.execute_reply": "2021-10-08T12:00:08.177402Z"
    },
    "papermill": {
     "duration": 0.518192,
     "end_time": "2021-10-08T12:00:08.177835",
     "exception": false,
     "start_time": "2021-10-08T12:00:07.659643",
     "status": "completed"
    },
    "tags": []
   },
   "outputs": [],
   "source": [
    "timestamps = pd.read_sql(\"select distinct record_time from EBAY_TOP_BERLIN order by record_time desc limit 2\", sqlite3.connect(\"UsedObjects.db\"))"
   ]
  },
  {
   "cell_type": "code",
   "execution_count": 3,
   "id": "periodic-identification",
   "metadata": {
    "execution": {
     "iopub.execute_input": "2021-10-08T12:00:08.244965Z",
     "iopub.status.busy": "2021-10-08T12:00:08.242970Z",
     "iopub.status.idle": "2021-10-08T12:00:08.263221Z",
     "shell.execute_reply": "2021-10-08T12:00:08.264408Z"
    },
    "papermill": {
     "duration": 0.067254,
     "end_time": "2021-10-08T12:00:08.264829",
     "exception": false,
     "start_time": "2021-10-08T12:00:08.197575",
     "status": "completed"
    },
    "tags": []
   },
   "outputs": [
    {
     "data": {
      "text/html": [
       "<div>\n",
       "<style scoped>\n",
       "    .dataframe tbody tr th:only-of-type {\n",
       "        vertical-align: middle;\n",
       "    }\n",
       "\n",
       "    .dataframe tbody tr th {\n",
       "        vertical-align: top;\n",
       "    }\n",
       "\n",
       "    .dataframe thead th {\n",
       "        text-align: right;\n",
       "    }\n",
       "</style>\n",
       "<table border=\"1\" class=\"dataframe\">\n",
       "  <thead>\n",
       "    <tr style=\"text-align: right;\">\n",
       "      <th></th>\n",
       "      <th>RECORD_TIME</th>\n",
       "    </tr>\n",
       "  </thead>\n",
       "  <tbody>\n",
       "    <tr>\n",
       "      <th>0</th>\n",
       "      <td>2021-10-08 14:00</td>\n",
       "    </tr>\n",
       "    <tr>\n",
       "      <th>1</th>\n",
       "      <td>2021-10-08 13:30</td>\n",
       "    </tr>\n",
       "  </tbody>\n",
       "</table>\n",
       "</div>"
      ],
      "text/plain": [
       "        RECORD_TIME\n",
       "0  2021-10-08 14:00\n",
       "1  2021-10-08 13:30"
      ]
     },
     "execution_count": 3,
     "metadata": {},
     "output_type": "execute_result"
    }
   ],
   "source": [
    "timestamps"
   ]
  },
  {
   "cell_type": "code",
   "execution_count": 4,
   "id": "alternate-victory",
   "metadata": {
    "execution": {
     "iopub.execute_input": "2021-10-08T12:00:08.315913Z",
     "iopub.status.busy": "2021-10-08T12:00:08.313873Z",
     "iopub.status.idle": "2021-10-08T12:00:09.040227Z",
     "shell.execute_reply": "2021-10-08T12:00:09.041413Z"
    },
    "papermill": {
     "duration": 0.756054,
     "end_time": "2021-10-08T12:00:09.041801",
     "exception": false,
     "start_time": "2021-10-08T12:00:08.285747",
     "status": "completed"
    },
    "tags": []
   },
   "outputs": [],
   "source": [
    "df = pd.read_sql(\"select * from EBAY_TOP_BERLIN where record_time in (select distinct record_time from EBAY_TOP_BERLIN order by record_time desc limit 2)\", sqlite3.connect(\"UsedObjects.db\"))"
   ]
  },
  {
   "cell_type": "code",
   "execution_count": 5,
   "id": "popular-active",
   "metadata": {
    "execution": {
     "iopub.execute_input": "2021-10-08T12:00:09.111844Z",
     "iopub.status.busy": "2021-10-08T12:00:09.099882Z",
     "iopub.status.idle": "2021-10-08T12:00:09.127702Z",
     "shell.execute_reply": "2021-10-08T12:00:09.129129Z"
    },
    "papermill": {
     "duration": 0.067363,
     "end_time": "2021-10-08T12:00:09.129558",
     "exception": false,
     "start_time": "2021-10-08T12:00:09.062195",
     "status": "completed"
    },
    "tags": []
   },
   "outputs": [],
   "source": [
    "df_pivot = df.pivot_table(index=\"PRODUCT\", columns = \"RECORD_TIME\", values = \"LISTING_COUNT\")"
   ]
  },
  {
   "cell_type": "code",
   "execution_count": 6,
   "id": "union-huntington",
   "metadata": {
    "execution": {
     "iopub.execute_input": "2021-10-08T12:00:09.187190Z",
     "iopub.status.busy": "2021-10-08T12:00:09.184722Z",
     "iopub.status.idle": "2021-10-08T12:00:09.190308Z",
     "shell.execute_reply": "2021-10-08T12:00:09.191552Z"
    },
    "papermill": {
     "duration": 0.042243,
     "end_time": "2021-10-08T12:00:09.191987",
     "exception": false,
     "start_time": "2021-10-08T12:00:09.149744",
     "status": "completed"
    },
    "tags": []
   },
   "outputs": [],
   "source": [
    "df_pivot.columns = [\"stamp_1\", \"stamp_2\"]\n",
    "df_pivot_diff = df_pivot.diff(axis=1)"
   ]
  },
  {
   "cell_type": "code",
   "execution_count": 7,
   "id": "fifth-motion",
   "metadata": {
    "execution": {
     "iopub.execute_input": "2021-10-08T12:00:09.246239Z",
     "iopub.status.busy": "2021-10-08T12:00:09.243979Z",
     "iopub.status.idle": "2021-10-08T12:00:10.760821Z",
     "shell.execute_reply": "2021-10-08T12:00:10.762084Z"
    },
    "papermill": {
     "duration": 1.5501,
     "end_time": "2021-10-08T12:00:10.762491",
     "exception": false,
     "start_time": "2021-10-08T12:00:09.212391",
     "status": "completed"
    },
    "tags": []
   },
   "outputs": [
    {
     "data": {
      "text/plain": [
       "<AxesSubplot:ylabel='PRODUCT'>"
      ]
     },
     "execution_count": 7,
     "metadata": {},
     "output_type": "execute_result"
    },
    {
     "data": {
      "image/png": "[encoded data removed]",
      "text/plain": [
       "<Figure size 432x288 with 1 Axes>"
      ]
     },
     "metadata": {
      "needs_background": "light"
     },
     "output_type": "display_data"
    }
   ],
   "source": [
    "df_pivot_diff.sort_values(\"stamp_2\", ascending = False)[\"stamp_2\"].head(10).plot.barh()"
   ]
  },
  {
   "cell_type": "code",
   "execution_count": null,
   "id": "extra-executive",
   "metadata": {
    "papermill": {
     "duration": 0.022297,
     "end_time": "2021-10-08T12:00:10.808453",
     "exception": false,
     "start_time": "2021-10-08T12:00:10.786156",
     "status": "completed"
    },
    "tags": []
   },
   "outputs": [],
   "source": []
  }
 ],
 "metadata": {
  "kernelspec": {
   "display_name": "Python 3",
   "language": "python",
   "name": "python3"
  },
  "language_info": {
   "codemirror_mode": {
    "name": "ipython",
    "version": 3
   },
   "file_extension": ".py",
   "mimetype": "text/x-python",
   "name": "python",
   "nbconvert_exporter": "python",
   "pygments_lexer": "ipython3",
   "version": "3.9.5"
  },
  "papermill": {
   "default_parameters": {},
   "duration": 7.831427,
   "end_time": "2021-10-08T12:00:12.174598",
   "environment_variables": {},
   "exception": null,
   "input_path": "eBay_Overview.ipynb",
   "output_path": "eBay_Overview.ipynb",
   "parameters": {},
   "start_time": "2021-10-08T12:00:04.343171",
   "version": "2.3.3"
  }
 },
 "nbformat": 4,
 "nbformat_minor": 5
}