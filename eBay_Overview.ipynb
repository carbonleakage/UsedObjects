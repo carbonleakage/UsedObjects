{
 "cells": [
  {
   "cell_type": "code",
   "execution_count": 1,
   "id": "reverse-picking",
   "metadata": {
    "execution": {
     "iopub.execute_input": "2021-12-02T03:30:07.273550Z",
     "iopub.status.busy": "2021-12-02T03:30:07.270944Z",
     "iopub.status.idle": "2021-12-02T03:30:08.227125Z",
     "shell.execute_reply": "2021-12-02T03:30:08.228763Z"
    },
    "papermill": {
     "duration": 1.004641,
     "end_time": "2021-12-02T03:30:08.229506",
     "exception": false,
     "start_time": "2021-12-02T03:30:07.224865",
     "status": "completed"
    },
    "tags": []
   },
   "outputs": [],
   "source": [
    "import pandas as pd\n",
    "import sqlite3"
   ]
  },
  {
   "cell_type": "code",
   "execution_count": 2,
   "id": "innovative-syndrome",
   "metadata": {
    "execution": {
     "iopub.execute_input": "2021-12-02T03:30:08.291795Z",
     "iopub.status.busy": "2021-12-02T03:30:08.289572Z",
     "iopub.status.idle": "2021-12-02T03:30:09.280609Z",
     "shell.execute_reply": "2021-12-02T03:30:09.282147Z"
    },
    "papermill": {
     "duration": 1.026129,
     "end_time": "2021-12-02T03:30:09.282629",
     "exception": false,
     "start_time": "2021-12-02T03:30:08.256500",
     "status": "completed"
    },
    "tags": []
   },
   "outputs": [],
   "source": [
    "timestamps = pd.read_sql(\"select distinct record_time from EBAY_TOP_BERLIN order by record_time desc limit 2\", sqlite3.connect(\"UsedObjects.db\"))"
   ]
  },
  {
   "cell_type": "code",
   "execution_count": 3,
   "id": "periodic-identification",
   "metadata": {
    "execution": {
     "iopub.execute_input": "2021-12-02T03:30:09.353916Z",
     "iopub.status.busy": "2021-12-02T03:30:09.351705Z",
     "iopub.status.idle": "2021-12-02T03:30:09.372215Z",
     "shell.execute_reply": "2021-12-02T03:30:09.373576Z"
    },
    "papermill": {
     "duration": 0.070427,
     "end_time": "2021-12-02T03:30:09.374000",
     "exception": false,
     "start_time": "2021-12-02T03:30:09.303573",
     "status": "completed"
    },
    "tags": []
   },
   "outputs": [
    {
     "data": {
      "text/html": [
       "<div>\n",
       "<style scoped>\n",
       "    .dataframe tbody tr th:only-of-type {\n",
       "        vertical-align: middle;\n",
       "    }\n",
       "\n",
       "    .dataframe tbody tr th {\n",
       "        vertical-align: top;\n",
       "    }\n",
       "\n",
       "    .dataframe thead th {\n",
       "        text-align: right;\n",
       "    }\n",
       "</style>\n",
       "<table border=\"1\" class=\"dataframe\">\n",
       "  <thead>\n",
       "    <tr style=\"text-align: right;\">\n",
       "      <th></th>\n",
       "      <th>RECORD_TIME</th>\n",
       "    </tr>\n",
       "  </thead>\n",
       "  <tbody>\n",
       "    <tr>\n",
       "      <th>0</th>\n",
       "      <td>2021-12-02 04:30</td>\n",
       "    </tr>\n",
       "    <tr>\n",
       "      <th>1</th>\n",
       "      <td>2021-12-02 04:00</td>\n",
       "    </tr>\n",
       "  </tbody>\n",
       "</table>\n",
       "</div>"
      ],
      "text/plain": [
       "        RECORD_TIME\n",
       "0  2021-12-02 04:30\n",
       "1  2021-12-02 04:00"
      ]
     },
     "execution_count": 3,
     "metadata": {},
     "output_type": "execute_result"
    }
   ],
   "source": [
    "timestamps"
   ]
  },
  {
   "cell_type": "code",
   "execution_count": 4,
   "id": "alternate-victory",
   "metadata": {
    "execution": {
     "iopub.execute_input": "2021-12-02T03:30:09.426973Z",
     "iopub.status.busy": "2021-12-02T03:30:09.424578Z",
     "iopub.status.idle": "2021-12-02T03:30:10.862440Z",
     "shell.execute_reply": "2021-12-02T03:30:10.864013Z"
    },
    "papermill": {
     "duration": 1.468916,
     "end_time": "2021-12-02T03:30:10.864602",
     "exception": false,
     "start_time": "2021-12-02T03:30:09.395686",
     "status": "completed"
    },
    "tags": []
   },
   "outputs": [],
   "source": [
    "df = pd.read_sql(\"select * from EBAY_TOP_BERLIN where record_time in (select distinct record_time from EBAY_TOP_BERLIN order by record_time desc limit 2)\", sqlite3.connect(\"UsedObjects.db\"))"
   ]
  },
  {
   "cell_type": "code",
   "execution_count": 5,
   "id": "popular-active",
   "metadata": {
    "execution": {
     "iopub.execute_input": "2021-12-02T03:30:10.943771Z",
     "iopub.status.busy": "2021-12-02T03:30:10.931670Z",
     "iopub.status.idle": "2021-12-02T03:30:10.969721Z",
     "shell.execute_reply": "2021-12-02T03:30:10.971708Z"
    },
    "papermill": {
     "duration": 0.082588,
     "end_time": "2021-12-02T03:30:10.972314",
     "exception": false,
     "start_time": "2021-12-02T03:30:10.889726",
     "status": "completed"
    },
    "tags": []
   },
   "outputs": [],
   "source": [
    "df_pivot = df.pivot_table(index=\"PRODUCT\", columns = \"RECORD_TIME\", values = \"LISTING_COUNT\")"
   ]
  },
  {
   "cell_type": "code",
   "execution_count": 6,
   "id": "union-huntington",
   "metadata": {
    "execution": {
     "iopub.execute_input": "2021-12-02T03:30:11.035962Z",
     "iopub.status.busy": "2021-12-02T03:30:11.033771Z",
     "iopub.status.idle": "2021-12-02T03:30:11.039487Z",
     "shell.execute_reply": "2021-12-02T03:30:11.040899Z"
    },
    "papermill": {
     "duration": 0.045942,
     "end_time": "2021-12-02T03:30:11.041387",
     "exception": false,
     "start_time": "2021-12-02T03:30:10.995445",
     "status": "completed"
    },
    "tags": []
   },
   "outputs": [],
   "source": [
    "df_pivot.columns = [\"stamp_1\", \"stamp_2\"]\n",
    "df_pivot_diff = df_pivot.diff(axis=1)"
   ]
  },
  {
   "cell_type": "code",
   "execution_count": 7,
   "id": "fifth-motion",
   "metadata": {
    "execution": {
     "iopub.execute_input": "2021-12-02T03:30:11.097828Z",
     "iopub.status.busy": "2021-12-02T03:30:11.095296Z",
     "iopub.status.idle": "2021-12-02T03:30:13.157197Z",
     "shell.execute_reply": "2021-12-02T03:30:13.158810Z"
    },
    "papermill": {
     "duration": 2.097887,
     "end_time": "2021-12-02T03:30:13.159370",
     "exception": false,
     "start_time": "2021-12-02T03:30:11.061483",
     "status": "completed"
    },
    "tags": []
   },
   "outputs": [
    {
     "data": {
      "text/plain": [
       "<AxesSubplot:ylabel='PRODUCT'>"
      ]
     },
     "execution_count": 7,
     "metadata": {},
     "output_type": "execute_result"
    },
    {
     "data": {
      "image/png": "[encoded data removed]",
      "text/plain": [
       "<Figure size 432x288 with 1 Axes>"
      ]
     },
     "metadata": {
      "needs_background": "light"
     },
     "output_type": "display_data"
    }
   ],
   "source": [
    "df_pivot_diff.sort_values(\"stamp_2\", ascending = False)[\"stamp_2\"].head(10).plot.barh()"
   ]
  },
  {
   "cell_type": "code",
   "execution_count": null,
   "id": "extra-executive",
   "metadata": {
    "papermill": {
     "duration": 0.025953,
     "end_time": "2021-12-02T03:30:13.211226",
     "exception": false,
     "start_time": "2021-12-02T03:30:13.185273",
     "status": "completed"
    },
    "tags": []
   },
   "outputs": [],
   "source": []
  }
 ],
 "metadata": {
  "kernelspec": {
   "display_name": "Python 3",
   "language": "python",
   "name": "python3"
  },
  "language_info": {
   "codemirror_mode": {
    "name": "ipython",
    "version": 3
   },
   "file_extension": ".py",
   "mimetype": "text/x-python",
   "name": "python",
   "nbconvert_exporter": "python",
   "pygments_lexer": "ipython3",
   "version": "3.9.5"
  },
  "papermill": {
   "default_parameters": {},
   "duration": 9.929838,
   "end_time": "2021-12-02T03:30:14.448307",
   "environment_variables": {},
   "exception": null,
   "input_path": "eBay_Overview.ipynb",
   "output_path": "eBay_Overview.ipynb",
   "parameters": {},
   "start_time": "2021-12-02T03:30:04.518469",
   "version": "2.3.3"
  }
 },
 "nbformat": 4,
 "nbformat_minor": 5
}