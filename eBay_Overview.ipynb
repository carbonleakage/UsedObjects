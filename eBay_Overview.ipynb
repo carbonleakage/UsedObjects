{
 "cells": [
  {
   "cell_type": "code",
   "execution_count": 1,
   "id": "reverse-picking",
   "metadata": {
    "execution": {
     "iopub.execute_input": "2021-09-29T13:30:07.289090Z",
     "iopub.status.busy": "2021-09-29T13:30:07.287156Z",
     "iopub.status.idle": "2021-09-29T13:30:08.095094Z",
     "shell.execute_reply": "2021-09-29T13:30:08.096495Z"
    },
    "papermill": {
     "duration": 0.860004,
     "end_time": "2021-09-29T13:30:08.097109",
     "exception": false,
     "start_time": "2021-09-29T13:30:07.237105",
     "status": "completed"
    },
    "tags": []
   },
   "outputs": [],
   "source": [
    "import pandas as pd\n",
    "import sqlite3"
   ]
  },
  {
   "cell_type": "code",
   "execution_count": 2,
   "id": "innovative-syndrome",
   "metadata": {
    "execution": {
     "iopub.execute_input": "2021-09-29T13:30:08.148273Z",
     "iopub.status.busy": "2021-09-29T13:30:08.146140Z",
     "iopub.status.idle": "2021-09-29T13:30:08.549437Z",
     "shell.execute_reply": "2021-09-29T13:30:08.550617Z"
    },
    "papermill": {
     "duration": 0.433033,
     "end_time": "2021-09-29T13:30:08.551184",
     "exception": false,
     "start_time": "2021-09-29T13:30:08.118151",
     "status": "completed"
    },
    "tags": []
   },
   "outputs": [],
   "source": [
    "timestamps = pd.read_sql(\"select distinct record_time from EBAY_TOP_BERLIN order by record_time desc limit 2\", sqlite3.connect(\"UsedObjects.db\"))"
   ]
  },
  {
   "cell_type": "code",
   "execution_count": 3,
   "id": "periodic-identification",
   "metadata": {
    "execution": {
     "iopub.execute_input": "2021-09-29T13:30:08.620822Z",
     "iopub.status.busy": "2021-09-29T13:30:08.618753Z",
     "iopub.status.idle": "2021-09-29T13:30:08.638952Z",
     "shell.execute_reply": "2021-09-29T13:30:08.640198Z"
    },
    "papermill": {
     "duration": 0.067539,
     "end_time": "2021-09-29T13:30:08.640624",
     "exception": false,
     "start_time": "2021-09-29T13:30:08.573085",
     "status": "completed"
    },
    "tags": []
   },
   "outputs": [
    {
     "data": {
      "text/html": [
       "<div>\n",
       "<style scoped>\n",
       "    .dataframe tbody tr th:only-of-type {\n",
       "        vertical-align: middle;\n",
       "    }\n",
       "\n",
       "    .dataframe tbody tr th {\n",
       "        vertical-align: top;\n",
       "    }\n",
       "\n",
       "    .dataframe thead th {\n",
       "        text-align: right;\n",
       "    }\n",
       "</style>\n",
       "<table border=\"1\" class=\"dataframe\">\n",
       "  <thead>\n",
       "    <tr style=\"text-align: right;\">\n",
       "      <th></th>\n",
       "      <th>RECORD_TIME</th>\n",
       "    </tr>\n",
       "  </thead>\n",
       "  <tbody>\n",
       "    <tr>\n",
       "      <th>0</th>\n",
       "      <td>2021-09-29 15:30</td>\n",
       "    </tr>\n",
       "    <tr>\n",
       "      <th>1</th>\n",
       "      <td>2021-09-29 15:00</td>\n",
       "    </tr>\n",
       "  </tbody>\n",
       "</table>\n",
       "</div>"
      ],
      "text/plain": [
       "        RECORD_TIME\n",
       "0  2021-09-29 15:30\n",
       "1  2021-09-29 15:00"
      ]
     },
     "execution_count": 3,
     "metadata": {},
     "output_type": "execute_result"
    }
   ],
   "source": [
    "timestamps"
   ]
  },
  {
   "cell_type": "code",
   "execution_count": 4,
   "id": "alternate-victory",
   "metadata": {
    "execution": {
     "iopub.execute_input": "2021-09-29T13:30:08.695618Z",
     "iopub.status.busy": "2021-09-29T13:30:08.693273Z",
     "iopub.status.idle": "2021-09-29T13:30:09.294193Z",
     "shell.execute_reply": "2021-09-29T13:30:09.295527Z"
    },
    "papermill": {
     "duration": 0.631615,
     "end_time": "2021-09-29T13:30:09.295947",
     "exception": false,
     "start_time": "2021-09-29T13:30:08.664332",
     "status": "completed"
    },
    "tags": []
   },
   "outputs": [],
   "source": [
    "df = pd.read_sql(\"select * from EBAY_TOP_BERLIN where record_time in (select distinct record_time from EBAY_TOP_BERLIN order by record_time desc limit 2)\", sqlite3.connect(\"UsedObjects.db\"))"
   ]
  },
  {
   "cell_type": "code",
   "execution_count": 5,
   "id": "popular-active",
   "metadata": {
    "execution": {
     "iopub.execute_input": "2021-09-29T13:30:09.378312Z",
     "iopub.status.busy": "2021-09-29T13:30:09.374266Z",
     "iopub.status.idle": "2021-09-29T13:30:09.392278Z",
     "shell.execute_reply": "2021-09-29T13:30:09.393492Z"
    },
    "papermill": {
     "duration": 0.07155,
     "end_time": "2021-09-29T13:30:09.393885",
     "exception": false,
     "start_time": "2021-09-29T13:30:09.322335",
     "status": "completed"
    },
    "tags": []
   },
   "outputs": [],
   "source": [
    "df_pivot = df.pivot_table(index=\"PRODUCT\", columns = \"RECORD_TIME\", values = \"LISTING_COUNT\")"
   ]
  },
  {
   "cell_type": "code",
   "execution_count": 6,
   "id": "union-huntington",
   "metadata": {
    "execution": {
     "iopub.execute_input": "2021-09-29T13:30:09.450436Z",
     "iopub.status.busy": "2021-09-29T13:30:09.448179Z",
     "iopub.status.idle": "2021-09-29T13:30:09.453856Z",
     "shell.execute_reply": "2021-09-29T13:30:09.455300Z"
    },
    "papermill": {
     "duration": 0.041754,
     "end_time": "2021-09-29T13:30:09.455742",
     "exception": false,
     "start_time": "2021-09-29T13:30:09.413988",
     "status": "completed"
    },
    "tags": []
   },
   "outputs": [],
   "source": [
    "df_pivot.columns = [\"stamp_1\", \"stamp_2\"]\n",
    "df_pivot_diff = df_pivot.diff(axis=1)"
   ]
  },
  {
   "cell_type": "code",
   "execution_count": 7,
   "id": "fifth-motion",
   "metadata": {
    "execution": {
     "iopub.execute_input": "2021-09-29T13:30:09.510234Z",
     "iopub.status.busy": "2021-09-29T13:30:09.507976Z",
     "iopub.status.idle": "2021-09-29T13:30:11.000216Z",
     "shell.execute_reply": "2021-09-29T13:30:11.001474Z"
    },
    "papermill": {
     "duration": 1.525456,
     "end_time": "2021-09-29T13:30:11.001881",
     "exception": false,
     "start_time": "2021-09-29T13:30:09.476425",
     "status": "completed"
    },
    "tags": []
   },
   "outputs": [
    {
     "data": {
      "text/plain": [
       "<AxesSubplot:ylabel='PRODUCT'>"
      ]
     },
     "execution_count": 7,
     "metadata": {},
     "output_type": "execute_result"
    },
    {
     "data": {
      "image/png": "[encoded data removed]",
      "text/plain": [
       "<Figure size 432x288 with 1 Axes>"
      ]
     },
     "metadata": {
      "needs_background": "light"
     },
     "output_type": "display_data"
    }
   ],
   "source": [
    "df_pivot_diff.sort_values(\"stamp_2\", ascending = False)[\"stamp_2\"].head(10).plot.barh()"
   ]
  },
  {
   "cell_type": "code",
   "execution_count": null,
   "id": "extra-executive",
   "metadata": {
    "papermill": {
     "duration": 0.022468,
     "end_time": "2021-09-29T13:30:11.048452",
     "exception": false,
     "start_time": "2021-09-29T13:30:11.025984",
     "status": "completed"
    },
    "tags": []
   },
   "outputs": [],
   "source": []
  }
 ],
 "metadata": {
  "kernelspec": {
   "display_name": "Python 3",
   "language": "python",
   "name": "python3"
  },
  "language_info": {
   "codemirror_mode": {
    "name": "ipython",
    "version": 3
   },
   "file_extension": ".py",
   "mimetype": "text/x-python",
   "name": "python",
   "nbconvert_exporter": "python",
   "pygments_lexer": "ipython3",
   "version": "3.9.5"
  },
  "papermill": {
   "default_parameters": {},
   "duration": 7.832843,
   "end_time": "2021-09-29T13:30:12.656182",
   "environment_variables": {},
   "exception": null,
   "input_path": "eBay_Overview.ipynb",
   "output_path": "eBay_Overview.ipynb",
   "parameters": {},
   "start_time": "2021-09-29T13:30:04.823339",
   "version": "2.3.3"
  }
 },
 "nbformat": 4,
 "nbformat_minor": 5
}