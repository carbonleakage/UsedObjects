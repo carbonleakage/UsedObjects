{
 "cells": [
  {
   "cell_type": "code",
   "execution_count": 1,
   "id": "reverse-picking",
   "metadata": {
    "execution": {
     "iopub.execute_input": "2021-09-26T21:00:06.930582Z",
     "iopub.status.busy": "2021-09-26T21:00:06.928642Z",
     "iopub.status.idle": "2021-09-26T21:00:07.738278Z",
     "shell.execute_reply": "2021-09-26T21:00:07.739633Z"
    },
    "papermill": {
     "duration": 0.861921,
     "end_time": "2021-09-26T21:00:07.740265",
     "exception": false,
     "start_time": "2021-09-26T21:00:06.878344",
     "status": "completed"
    },
    "tags": []
   },
   "outputs": [],
   "source": [
    "import pandas as pd\n",
    "import sqlite3"
   ]
  },
  {
   "cell_type": "code",
   "execution_count": 2,
   "id": "innovative-syndrome",
   "metadata": {
    "execution": {
     "iopub.execute_input": "2021-09-26T21:00:07.793500Z",
     "iopub.status.busy": "2021-09-26T21:00:07.791342Z",
     "iopub.status.idle": "2021-09-26T21:00:08.178485Z",
     "shell.execute_reply": "2021-09-26T21:00:08.179815Z"
    },
    "papermill": {
     "duration": 0.41724,
     "end_time": "2021-09-26T21:00:08.180236",
     "exception": false,
     "start_time": "2021-09-26T21:00:07.762996",
     "status": "completed"
    },
    "tags": []
   },
   "outputs": [],
   "source": [
    "timestamps = pd.read_sql(\"select distinct record_time from EBAY_TOP_BERLIN order by record_time desc limit 2\", sqlite3.connect(\"UsedObjects.db\"))"
   ]
  },
  {
   "cell_type": "code",
   "execution_count": 3,
   "id": "periodic-identification",
   "metadata": {
    "execution": {
     "iopub.execute_input": "2021-09-26T21:00:08.245688Z",
     "iopub.status.busy": "2021-09-26T21:00:08.243679Z",
     "iopub.status.idle": "2021-09-26T21:00:08.263511Z",
     "shell.execute_reply": "2021-09-26T21:00:08.264815Z"
    },
    "papermill": {
     "duration": 0.064241,
     "end_time": "2021-09-26T21:00:08.265231",
     "exception": false,
     "start_time": "2021-09-26T21:00:08.200990",
     "status": "completed"
    },
    "tags": []
   },
   "outputs": [
    {
     "data": {
      "text/html": [
       "<div>\n",
       "<style scoped>\n",
       "    .dataframe tbody tr th:only-of-type {\n",
       "        vertical-align: middle;\n",
       "    }\n",
       "\n",
       "    .dataframe tbody tr th {\n",
       "        vertical-align: top;\n",
       "    }\n",
       "\n",
       "    .dataframe thead th {\n",
       "        text-align: right;\n",
       "    }\n",
       "</style>\n",
       "<table border=\"1\" class=\"dataframe\">\n",
       "  <thead>\n",
       "    <tr style=\"text-align: right;\">\n",
       "      <th></th>\n",
       "      <th>RECORD_TIME</th>\n",
       "    </tr>\n",
       "  </thead>\n",
       "  <tbody>\n",
       "    <tr>\n",
       "      <th>0</th>\n",
       "      <td>2021-09-26 23:00</td>\n",
       "    </tr>\n",
       "    <tr>\n",
       "      <th>1</th>\n",
       "      <td>2021-09-26 22:30</td>\n",
       "    </tr>\n",
       "  </tbody>\n",
       "</table>\n",
       "</div>"
      ],
      "text/plain": [
       "        RECORD_TIME\n",
       "0  2021-09-26 23:00\n",
       "1  2021-09-26 22:30"
      ]
     },
     "execution_count": 3,
     "metadata": {},
     "output_type": "execute_result"
    }
   ],
   "source": [
    "timestamps"
   ]
  },
  {
   "cell_type": "code",
   "execution_count": 4,
   "id": "alternate-victory",
   "metadata": {
    "execution": {
     "iopub.execute_input": "2021-09-26T21:00:08.318367Z",
     "iopub.status.busy": "2021-09-26T21:00:08.316104Z",
     "iopub.status.idle": "2021-09-26T21:00:08.883546Z",
     "shell.execute_reply": "2021-09-26T21:00:08.884757Z"
    },
    "papermill": {
     "duration": 0.598658,
     "end_time": "2021-09-26T21:00:08.885153",
     "exception": false,
     "start_time": "2021-09-26T21:00:08.286495",
     "status": "completed"
    },
    "tags": []
   },
   "outputs": [],
   "source": [
    "df = pd.read_sql(\"select * from EBAY_TOP_BERLIN where record_time in (select distinct record_time from EBAY_TOP_BERLIN order by record_time desc limit 2)\", sqlite3.connect(\"UsedObjects.db\"))"
   ]
  },
  {
   "cell_type": "code",
   "execution_count": 5,
   "id": "popular-active",
   "metadata": {
    "execution": {
     "iopub.execute_input": "2021-09-26T21:00:08.959276Z",
     "iopub.status.busy": "2021-09-26T21:00:08.947798Z",
     "iopub.status.idle": "2021-09-26T21:00:08.976589Z",
     "shell.execute_reply": "2021-09-26T21:00:08.977954Z"
    },
    "papermill": {
     "duration": 0.069609,
     "end_time": "2021-09-26T21:00:08.978392",
     "exception": false,
     "start_time": "2021-09-26T21:00:08.908783",
     "status": "completed"
    },
    "tags": []
   },
   "outputs": [],
   "source": [
    "df_pivot = df.pivot_table(index=\"PRODUCT\", columns = \"RECORD_TIME\", values = \"LISTING_COUNT\")"
   ]
  },
  {
   "cell_type": "code",
   "execution_count": 6,
   "id": "union-huntington",
   "metadata": {
    "execution": {
     "iopub.execute_input": "2021-09-26T21:00:09.038148Z",
     "iopub.status.busy": "2021-09-26T21:00:09.035719Z",
     "iopub.status.idle": "2021-09-26T21:00:09.041429Z",
     "shell.execute_reply": "2021-09-26T21:00:09.042603Z"
    },
    "papermill": {
     "duration": 0.042124,
     "end_time": "2021-09-26T21:00:09.043089",
     "exception": false,
     "start_time": "2021-09-26T21:00:09.000965",
     "status": "completed"
    },
    "tags": []
   },
   "outputs": [],
   "source": [
    "df_pivot.columns = [\"stamp_1\", \"stamp_2\"]\n",
    "df_pivot_diff = df_pivot.diff(axis=1)"
   ]
  },
  {
   "cell_type": "code",
   "execution_count": 7,
   "id": "fifth-motion",
   "metadata": {
    "execution": {
     "iopub.execute_input": "2021-09-26T21:00:09.097780Z",
     "iopub.status.busy": "2021-09-26T21:00:09.095476Z",
     "iopub.status.idle": "2021-09-26T21:00:10.572166Z",
     "shell.execute_reply": "2021-09-26T21:00:10.573524Z"
    },
    "papermill": {
     "duration": 1.510145,
     "end_time": "2021-09-26T21:00:10.573964",
     "exception": false,
     "start_time": "2021-09-26T21:00:09.063819",
     "status": "completed"
    },
    "tags": []
   },
   "outputs": [
    {
     "data": {
      "text/plain": [
       "<AxesSubplot:ylabel='PRODUCT'>"
      ]
     },
     "execution_count": 7,
     "metadata": {},
     "output_type": "execute_result"
    },
    {
     "data": {
      "image/png": "[encoded data removed]",
      "text/plain": [
       "<Figure size 432x288 with 1 Axes>"
      ]
     },
     "metadata": {
      "needs_background": "light"
     },
     "output_type": "display_data"
    }
   ],
   "source": [
    "df_pivot_diff.sort_values(\"stamp_2\", ascending = False)[\"stamp_2\"].head(10).plot.barh()"
   ]
  },
  {
   "cell_type": "code",
   "execution_count": null,
   "id": "extra-executive",
   "metadata": {
    "papermill": {
     "duration": 0.022435,
     "end_time": "2021-09-26T21:00:10.620017",
     "exception": false,
     "start_time": "2021-09-26T21:00:10.597582",
     "status": "completed"
    },
    "tags": []
   },
   "outputs": [],
   "source": []
  }
 ],
 "metadata": {
  "kernelspec": {
   "display_name": "Python 3",
   "language": "python",
   "name": "python3"
  },
  "language_info": {
   "codemirror_mode": {
    "name": "ipython",
    "version": 3
   },
   "file_extension": ".py",
   "mimetype": "text/x-python",
   "name": "python",
   "nbconvert_exporter": "python",
   "pygments_lexer": "ipython3",
   "version": "3.9.5"
  },
  "papermill": {
   "default_parameters": {},
   "duration": 6.791565,
   "end_time": "2021-09-26T21:00:11.262121",
   "environment_variables": {},
   "exception": null,
   "input_path": "eBay_Overview.ipynb",
   "output_path": "eBay_Overview.ipynb",
   "parameters": {},
   "start_time": "2021-09-26T21:00:04.470556",
   "version": "2.3.3"
  }
 },
 "nbformat": 4,
 "nbformat_minor": 5
}