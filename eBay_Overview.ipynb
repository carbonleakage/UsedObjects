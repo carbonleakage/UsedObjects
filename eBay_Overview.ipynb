{
 "cells": [
  {
   "cell_type": "code",
   "execution_count": 1,
   "id": "reverse-picking",
   "metadata": {
    "execution": {
     "iopub.execute_input": "2021-11-09T21:30:07.335396Z",
     "iopub.status.busy": "2021-11-09T21:30:07.333130Z",
     "iopub.status.idle": "2021-11-09T21:30:08.290894Z",
     "shell.execute_reply": "2021-11-09T21:30:08.292495Z"
    },
    "papermill": {
     "duration": 1.005416,
     "end_time": "2021-11-09T21:30:08.293303",
     "exception": false,
     "start_time": "2021-11-09T21:30:07.287887",
     "status": "completed"
    },
    "tags": []
   },
   "outputs": [],
   "source": [
    "import pandas as pd\n",
    "import sqlite3"
   ]
  },
  {
   "cell_type": "code",
   "execution_count": 2,
   "id": "innovative-syndrome",
   "metadata": {
    "execution": {
     "iopub.execute_input": "2021-11-09T21:30:08.360370Z",
     "iopub.status.busy": "2021-11-09T21:30:08.358203Z",
     "iopub.status.idle": "2021-11-09T21:30:09.124776Z",
     "shell.execute_reply": "2021-11-09T21:30:09.126307Z"
    },
    "papermill": {
     "duration": 0.800419,
     "end_time": "2021-11-09T21:30:09.126787",
     "exception": false,
     "start_time": "2021-11-09T21:30:08.326368",
     "status": "completed"
    },
    "tags": []
   },
   "outputs": [],
   "source": [
    "timestamps = pd.read_sql(\"select distinct record_time from EBAY_TOP_BERLIN order by record_time desc limit 2\", sqlite3.connect(\"UsedObjects.db\"))"
   ]
  },
  {
   "cell_type": "code",
   "execution_count": 3,
   "id": "periodic-identification",
   "metadata": {
    "execution": {
     "iopub.execute_input": "2021-11-09T21:30:09.194916Z",
     "iopub.status.busy": "2021-11-09T21:30:09.192658Z",
     "iopub.status.idle": "2021-11-09T21:30:09.215035Z",
     "shell.execute_reply": "2021-11-09T21:30:09.216388Z"
    },
    "papermill": {
     "duration": 0.07071,
     "end_time": "2021-11-09T21:30:09.216911",
     "exception": false,
     "start_time": "2021-11-09T21:30:09.146201",
     "status": "completed"
    },
    "tags": []
   },
   "outputs": [
    {
     "data": {
      "text/html": [
       "<div>\n",
       "<style scoped>\n",
       "    .dataframe tbody tr th:only-of-type {\n",
       "        vertical-align: middle;\n",
       "    }\n",
       "\n",
       "    .dataframe tbody tr th {\n",
       "        vertical-align: top;\n",
       "    }\n",
       "\n",
       "    .dataframe thead th {\n",
       "        text-align: right;\n",
       "    }\n",
       "</style>\n",
       "<table border=\"1\" class=\"dataframe\">\n",
       "  <thead>\n",
       "    <tr style=\"text-align: right;\">\n",
       "      <th></th>\n",
       "      <th>RECORD_TIME</th>\n",
       "    </tr>\n",
       "  </thead>\n",
       "  <tbody>\n",
       "    <tr>\n",
       "      <th>0</th>\n",
       "      <td>2021-11-09 22:30</td>\n",
       "    </tr>\n",
       "    <tr>\n",
       "      <th>1</th>\n",
       "      <td>2021-11-09 22:00</td>\n",
       "    </tr>\n",
       "  </tbody>\n",
       "</table>\n",
       "</div>"
      ],
      "text/plain": [
       "        RECORD_TIME\n",
       "0  2021-11-09 22:30\n",
       "1  2021-11-09 22:00"
      ]
     },
     "execution_count": 3,
     "metadata": {},
     "output_type": "execute_result"
    }
   ],
   "source": [
    "timestamps"
   ]
  },
  {
   "cell_type": "code",
   "execution_count": 4,
   "id": "alternate-victory",
   "metadata": {
    "execution": {
     "iopub.execute_input": "2021-11-09T21:30:09.272028Z",
     "iopub.status.busy": "2021-11-09T21:30:09.269750Z",
     "iopub.status.idle": "2021-11-09T21:30:10.389056Z",
     "shell.execute_reply": "2021-11-09T21:30:10.390705Z"
    },
    "papermill": {
     "duration": 1.153159,
     "end_time": "2021-11-09T21:30:10.391204",
     "exception": false,
     "start_time": "2021-11-09T21:30:09.238045",
     "status": "completed"
    },
    "tags": []
   },
   "outputs": [],
   "source": [
    "df = pd.read_sql(\"select * from EBAY_TOP_BERLIN where record_time in (select distinct record_time from EBAY_TOP_BERLIN order by record_time desc limit 2)\", sqlite3.connect(\"UsedObjects.db\"))"
   ]
  },
  {
   "cell_type": "code",
   "execution_count": 5,
   "id": "popular-active",
   "metadata": {
    "execution": {
     "iopub.execute_input": "2021-11-09T21:30:10.462685Z",
     "iopub.status.busy": "2021-11-09T21:30:10.455890Z",
     "iopub.status.idle": "2021-11-09T21:30:10.490715Z",
     "shell.execute_reply": "2021-11-09T21:30:10.488889Z"
    },
    "papermill": {
     "duration": 0.078261,
     "end_time": "2021-11-09T21:30:10.491155",
     "exception": false,
     "start_time": "2021-11-09T21:30:10.412894",
     "status": "completed"
    },
    "tags": []
   },
   "outputs": [],
   "source": [
    "df_pivot = df.pivot_table(index=\"PRODUCT\", columns = \"RECORD_TIME\", values = \"LISTING_COUNT\")"
   ]
  },
  {
   "cell_type": "code",
   "execution_count": 6,
   "id": "union-huntington",
   "metadata": {
    "execution": {
     "iopub.execute_input": "2021-11-09T21:30:10.553906Z",
     "iopub.status.busy": "2021-11-09T21:30:10.551657Z",
     "iopub.status.idle": "2021-11-09T21:30:10.557418Z",
     "shell.execute_reply": "2021-11-09T21:30:10.558776Z"
    },
    "papermill": {
     "duration": 0.046251,
     "end_time": "2021-11-09T21:30:10.559291",
     "exception": false,
     "start_time": "2021-11-09T21:30:10.513040",
     "status": "completed"
    },
    "tags": []
   },
   "outputs": [],
   "source": [
    "df_pivot.columns = [\"stamp_1\", \"stamp_2\"]\n",
    "df_pivot_diff = df_pivot.diff(axis=1)"
   ]
  },
  {
   "cell_type": "code",
   "execution_count": 7,
   "id": "fifth-motion",
   "metadata": {
    "execution": {
     "iopub.execute_input": "2021-11-09T21:30:10.615064Z",
     "iopub.status.busy": "2021-11-09T21:30:10.612570Z",
     "iopub.status.idle": "2021-11-09T21:30:12.390937Z",
     "shell.execute_reply": "2021-11-09T21:30:12.393437Z"
    },
    "papermill": {
     "duration": 1.814878,
     "end_time": "2021-11-09T21:30:12.394177",
     "exception": false,
     "start_time": "2021-11-09T21:30:10.579299",
     "status": "completed"
    },
    "tags": []
   },
   "outputs": [
    {
     "data": {
      "text/plain": [
       "<AxesSubplot:ylabel='PRODUCT'>"
      ]
     },
     "execution_count": 7,
     "metadata": {},
     "output_type": "execute_result"
    },
    {
     "data": {
      "image/png": "[encoded data removed]",
      "text/plain": [
       "<Figure size 432x288 with 1 Axes>"
      ]
     },
     "metadata": {
      "needs_background": "light"
     },
     "output_type": "display_data"
    }
   ],
   "source": [
    "df_pivot_diff.sort_values(\"stamp_2\", ascending = False)[\"stamp_2\"].head(10).plot.barh()"
   ]
  },
  {
   "cell_type": "code",
   "execution_count": null,
   "id": "extra-executive",
   "metadata": {
    "papermill": {
     "duration": 0.037985,
     "end_time": "2021-11-09T21:30:12.468096",
     "exception": false,
     "start_time": "2021-11-09T21:30:12.430111",
     "status": "completed"
    },
    "tags": []
   },
   "outputs": [],
   "source": []
  }
 ],
 "metadata": {
  "kernelspec": {
   "display_name": "Python 3",
   "language": "python",
   "name": "python3"
  },
  "language_info": {
   "codemirror_mode": {
    "name": "ipython",
    "version": 3
   },
   "file_extension": ".py",
   "mimetype": "text/x-python",
   "name": "python",
   "nbconvert_exporter": "python",
   "pygments_lexer": "ipython3",
   "version": "3.9.5"
  },
  "papermill": {
   "default_parameters": {},
   "duration": 8.785225,
   "end_time": "2021-11-09T21:30:13.343751",
   "environment_variables": {},
   "exception": null,
   "input_path": "eBay_Overview.ipynb",
   "output_path": "eBay_Overview.ipynb",
   "parameters": {},
   "start_time": "2021-11-09T21:30:04.558526",
   "version": "2.3.3"
  }
 },
 "nbformat": 4,
 "nbformat_minor": 5
}