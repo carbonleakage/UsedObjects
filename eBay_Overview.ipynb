{
 "cells": [
  {
   "cell_type": "code",
   "execution_count": 1,
   "id": "reverse-picking",
   "metadata": {
    "execution": {
     "iopub.execute_input": "2021-10-19T14:00:07.252759Z",
     "iopub.status.busy": "2021-10-19T14:00:07.250811Z",
     "iopub.status.idle": "2021-10-19T14:00:08.060494Z",
     "shell.execute_reply": "2021-10-19T14:00:08.059031Z"
    },
    "papermill": {
     "duration": 0.858696,
     "end_time": "2021-10-19T14:00:08.061094",
     "exception": false,
     "start_time": "2021-10-19T14:00:07.202398",
     "status": "completed"
    },
    "tags": []
   },
   "outputs": [],
   "source": [
    "import pandas as pd\n",
    "import sqlite3"
   ]
  },
  {
   "cell_type": "code",
   "execution_count": 2,
   "id": "innovative-syndrome",
   "metadata": {
    "execution": {
     "iopub.execute_input": "2021-10-19T14:00:08.115494Z",
     "iopub.status.busy": "2021-10-19T14:00:08.113216Z",
     "iopub.status.idle": "2021-10-19T14:00:08.688730Z",
     "shell.execute_reply": "2021-10-19T14:00:08.690035Z"
    },
    "papermill": {
     "duration": 0.605544,
     "end_time": "2021-10-19T14:00:08.690448",
     "exception": false,
     "start_time": "2021-10-19T14:00:08.084904",
     "status": "completed"
    },
    "tags": []
   },
   "outputs": [],
   "source": [
    "timestamps = pd.read_sql(\"select distinct record_time from EBAY_TOP_BERLIN order by record_time desc limit 2\", sqlite3.connect(\"UsedObjects.db\"))"
   ]
  },
  {
   "cell_type": "code",
   "execution_count": 3,
   "id": "periodic-identification",
   "metadata": {
    "execution": {
     "iopub.execute_input": "2021-10-19T14:00:08.767237Z",
     "iopub.status.busy": "2021-10-19T14:00:08.765242Z",
     "iopub.status.idle": "2021-10-19T14:00:08.785208Z",
     "shell.execute_reply": "2021-10-19T14:00:08.786608Z"
    },
    "papermill": {
     "duration": 0.069754,
     "end_time": "2021-10-19T14:00:08.787025",
     "exception": false,
     "start_time": "2021-10-19T14:00:08.717271",
     "status": "completed"
    },
    "tags": []
   },
   "outputs": [
    {
     "data": {
      "text/html": [
       "<div>\n",
       "<style scoped>\n",
       "    .dataframe tbody tr th:only-of-type {\n",
       "        vertical-align: middle;\n",
       "    }\n",
       "\n",
       "    .dataframe tbody tr th {\n",
       "        vertical-align: top;\n",
       "    }\n",
       "\n",
       "    .dataframe thead th {\n",
       "        text-align: right;\n",
       "    }\n",
       "</style>\n",
       "<table border=\"1\" class=\"dataframe\">\n",
       "  <thead>\n",
       "    <tr style=\"text-align: right;\">\n",
       "      <th></th>\n",
       "      <th>RECORD_TIME</th>\n",
       "    </tr>\n",
       "  </thead>\n",
       "  <tbody>\n",
       "    <tr>\n",
       "      <th>0</th>\n",
       "      <td>2021-10-19 16:00</td>\n",
       "    </tr>\n",
       "    <tr>\n",
       "      <th>1</th>\n",
       "      <td>2021-10-19 15:30</td>\n",
       "    </tr>\n",
       "  </tbody>\n",
       "</table>\n",
       "</div>"
      ],
      "text/plain": [
       "        RECORD_TIME\n",
       "0  2021-10-19 16:00\n",
       "1  2021-10-19 15:30"
      ]
     },
     "execution_count": 3,
     "metadata": {},
     "output_type": "execute_result"
    }
   ],
   "source": [
    "timestamps"
   ]
  },
  {
   "cell_type": "code",
   "execution_count": 4,
   "id": "alternate-victory",
   "metadata": {
    "execution": {
     "iopub.execute_input": "2021-10-19T14:00:08.838579Z",
     "iopub.status.busy": "2021-10-19T14:00:08.836378Z",
     "iopub.status.idle": "2021-10-19T14:00:09.690612Z",
     "shell.execute_reply": "2021-10-19T14:00:09.691890Z"
    },
    "papermill": {
     "duration": 0.884212,
     "end_time": "2021-10-19T14:00:09.692301",
     "exception": false,
     "start_time": "2021-10-19T14:00:08.808089",
     "status": "completed"
    },
    "tags": []
   },
   "outputs": [],
   "source": [
    "df = pd.read_sql(\"select * from EBAY_TOP_BERLIN where record_time in (select distinct record_time from EBAY_TOP_BERLIN order by record_time desc limit 2)\", sqlite3.connect(\"UsedObjects.db\"))"
   ]
  },
  {
   "cell_type": "code",
   "execution_count": 5,
   "id": "popular-active",
   "metadata": {
    "execution": {
     "iopub.execute_input": "2021-10-19T14:00:09.762957Z",
     "iopub.status.busy": "2021-10-19T14:00:09.750544Z",
     "iopub.status.idle": "2021-10-19T14:00:09.779228Z",
     "shell.execute_reply": "2021-10-19T14:00:09.780420Z"
    },
    "papermill": {
     "duration": 0.067868,
     "end_time": "2021-10-19T14:00:09.780997",
     "exception": false,
     "start_time": "2021-10-19T14:00:09.713129",
     "status": "completed"
    },
    "tags": []
   },
   "outputs": [],
   "source": [
    "df_pivot = df.pivot_table(index=\"PRODUCT\", columns = \"RECORD_TIME\", values = \"LISTING_COUNT\")"
   ]
  },
  {
   "cell_type": "code",
   "execution_count": 6,
   "id": "union-huntington",
   "metadata": {
    "execution": {
     "iopub.execute_input": "2021-10-19T14:00:09.840115Z",
     "iopub.status.busy": "2021-10-19T14:00:09.837706Z",
     "iopub.status.idle": "2021-10-19T14:00:09.843570Z",
     "shell.execute_reply": "2021-10-19T14:00:09.844909Z"
    },
    "papermill": {
     "duration": 0.042179,
     "end_time": "2021-10-19T14:00:09.845329",
     "exception": false,
     "start_time": "2021-10-19T14:00:09.803150",
     "status": "completed"
    },
    "tags": []
   },
   "outputs": [],
   "source": [
    "df_pivot.columns = [\"stamp_1\", \"stamp_2\"]\n",
    "df_pivot_diff = df_pivot.diff(axis=1)"
   ]
  },
  {
   "cell_type": "code",
   "execution_count": 7,
   "id": "fifth-motion",
   "metadata": {
    "execution": {
     "iopub.execute_input": "2021-10-19T14:00:09.899696Z",
     "iopub.status.busy": "2021-10-19T14:00:09.897441Z",
     "iopub.status.idle": "2021-10-19T14:00:11.379613Z",
     "shell.execute_reply": "2021-10-19T14:00:11.381091Z"
    },
    "papermill": {
     "duration": 1.515701,
     "end_time": "2021-10-19T14:00:11.381575",
     "exception": false,
     "start_time": "2021-10-19T14:00:09.865874",
     "status": "completed"
    },
    "tags": []
   },
   "outputs": [
    {
     "data": {
      "text/plain": [
       "<AxesSubplot:ylabel='PRODUCT'>"
      ]
     },
     "execution_count": 7,
     "metadata": {},
     "output_type": "execute_result"
    },
    {
     "data": {
      "image/png": "[encoded data removed]",
      "text/plain": [
       "<Figure size 432x288 with 1 Axes>"
      ]
     },
     "metadata": {
      "needs_background": "light"
     },
     "output_type": "display_data"
    }
   ],
   "source": [
    "df_pivot_diff.sort_values(\"stamp_2\", ascending = False)[\"stamp_2\"].head(10).plot.barh()"
   ]
  },
  {
   "cell_type": "code",
   "execution_count": null,
   "id": "extra-executive",
   "metadata": {
    "papermill": {
     "duration": 0.02199,
     "end_time": "2021-10-19T14:00:11.428357",
     "exception": false,
     "start_time": "2021-10-19T14:00:11.406367",
     "status": "completed"
    },
    "tags": []
   },
   "outputs": [],
   "source": []
  }
 ],
 "metadata": {
  "kernelspec": {
   "display_name": "Python 3",
   "language": "python",
   "name": "python3"
  },
  "language_info": {
   "codemirror_mode": {
    "name": "ipython",
    "version": 3
   },
   "file_extension": ".py",
   "mimetype": "text/x-python",
   "name": "python",
   "nbconvert_exporter": "python",
   "pygments_lexer": "ipython3",
   "version": "3.9.5"
  },
  "papermill": {
   "default_parameters": {},
   "duration": 7.82002,
   "end_time": "2021-10-19T14:00:12.621368",
   "environment_variables": {},
   "exception": null,
   "input_path": "eBay_Overview.ipynb",
   "output_path": "eBay_Overview.ipynb",
   "parameters": {},
   "start_time": "2021-10-19T14:00:04.801348",
   "version": "2.3.3"
  }
 },
 "nbformat": 4,
 "nbformat_minor": 5
}