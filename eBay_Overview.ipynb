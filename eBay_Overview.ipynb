{
 "cells": [
  {
   "cell_type": "code",
   "execution_count": 1,
   "id": "reverse-picking",
   "metadata": {
    "execution": {
     "iopub.execute_input": "2021-08-17T21:00:07.150654Z",
     "iopub.status.busy": "2021-08-17T21:00:07.148644Z",
     "iopub.status.idle": "2021-08-17T21:00:07.955891Z",
     "shell.execute_reply": "2021-08-17T21:00:07.957132Z"
    },
    "papermill": {
     "duration": 0.858496,
     "end_time": "2021-08-17T21:00:07.957746",
     "exception": false,
     "start_time": "2021-08-17T21:00:07.099250",
     "status": "completed"
    },
    "tags": []
   },
   "outputs": [],
   "source": [
    "import pandas as pd\n",
    "import sqlite3"
   ]
  },
  {
   "cell_type": "code",
   "execution_count": 2,
   "id": "innovative-syndrome",
   "metadata": {
    "execution": {
     "iopub.execute_input": "2021-08-17T21:00:08.009056Z",
     "iopub.status.busy": "2021-08-17T21:00:08.007217Z",
     "iopub.status.idle": "2021-08-17T21:00:08.077664Z",
     "shell.execute_reply": "2021-08-17T21:00:08.078928Z"
    },
    "papermill": {
     "duration": 0.099931,
     "end_time": "2021-08-17T21:00:08.079335",
     "exception": false,
     "start_time": "2021-08-17T21:00:07.979404",
     "status": "completed"
    },
    "tags": []
   },
   "outputs": [],
   "source": [
    "timestamps = pd.read_sql(\"select distinct record_time from EBAY_TOP_BERLIN order by record_time desc limit 2\", sqlite3.connect(\"UsedObjects.db\"))"
   ]
  },
  {
   "cell_type": "code",
   "execution_count": 3,
   "id": "periodic-identification",
   "metadata": {
    "execution": {
     "iopub.execute_input": "2021-08-17T21:00:08.145905Z",
     "iopub.status.busy": "2021-08-17T21:00:08.143891Z",
     "iopub.status.idle": "2021-08-17T21:00:08.164278Z",
     "shell.execute_reply": "2021-08-17T21:00:08.165838Z"
    },
    "papermill": {
     "duration": 0.065412,
     "end_time": "2021-08-17T21:00:08.166379",
     "exception": false,
     "start_time": "2021-08-17T21:00:08.100967",
     "status": "completed"
    },
    "tags": []
   },
   "outputs": [
    {
     "data": {
      "text/html": [
       "<div>\n",
       "<style scoped>\n",
       "    .dataframe tbody tr th:only-of-type {\n",
       "        vertical-align: middle;\n",
       "    }\n",
       "\n",
       "    .dataframe tbody tr th {\n",
       "        vertical-align: top;\n",
       "    }\n",
       "\n",
       "    .dataframe thead th {\n",
       "        text-align: right;\n",
       "    }\n",
       "</style>\n",
       "<table border=\"1\" class=\"dataframe\">\n",
       "  <thead>\n",
       "    <tr style=\"text-align: right;\">\n",
       "      <th></th>\n",
       "      <th>RECORD_TIME</th>\n",
       "    </tr>\n",
       "  </thead>\n",
       "  <tbody>\n",
       "    <tr>\n",
       "      <th>0</th>\n",
       "      <td>2021-08-17 23:00</td>\n",
       "    </tr>\n",
       "    <tr>\n",
       "      <th>1</th>\n",
       "      <td>2021-08-17 22:30</td>\n",
       "    </tr>\n",
       "  </tbody>\n",
       "</table>\n",
       "</div>"
      ],
      "text/plain": [
       "        RECORD_TIME\n",
       "0  2021-08-17 23:00\n",
       "1  2021-08-17 22:30"
      ]
     },
     "execution_count": 3,
     "metadata": {},
     "output_type": "execute_result"
    }
   ],
   "source": [
    "timestamps"
   ]
  },
  {
   "cell_type": "code",
   "execution_count": 4,
   "id": "alternate-victory",
   "metadata": {
    "execution": {
     "iopub.execute_input": "2021-08-17T21:00:08.218805Z",
     "iopub.status.busy": "2021-08-17T21:00:08.216881Z",
     "iopub.status.idle": "2021-08-17T21:00:08.321002Z",
     "shell.execute_reply": "2021-08-17T21:00:08.322359Z"
    },
    "papermill": {
     "duration": 0.134212,
     "end_time": "2021-08-17T21:00:08.322785",
     "exception": false,
     "start_time": "2021-08-17T21:00:08.188573",
     "status": "completed"
    },
    "tags": []
   },
   "outputs": [],
   "source": [
    "df = pd.read_sql(\"select * from EBAY_TOP_BERLIN where record_time in (select distinct record_time from EBAY_TOP_BERLIN order by record_time desc limit 2)\", sqlite3.connect(\"UsedObjects.db\"))"
   ]
  },
  {
   "cell_type": "code",
   "execution_count": 5,
   "id": "popular-active",
   "metadata": {
    "execution": {
     "iopub.execute_input": "2021-08-17T21:00:08.393691Z",
     "iopub.status.busy": "2021-08-17T21:00:08.381393Z",
     "iopub.status.idle": "2021-08-17T21:00:08.409625Z",
     "shell.execute_reply": "2021-08-17T21:00:08.410994Z"
    },
    "papermill": {
     "duration": 0.067654,
     "end_time": "2021-08-17T21:00:08.411411",
     "exception": false,
     "start_time": "2021-08-17T21:00:08.343757",
     "status": "completed"
    },
    "tags": []
   },
   "outputs": [],
   "source": [
    "df_pivot = df.pivot_table(index=\"PRODUCT\", columns = \"RECORD_TIME\", values = \"LISTING_COUNT\")"
   ]
  },
  {
   "cell_type": "code",
   "execution_count": 6,
   "id": "union-huntington",
   "metadata": {
    "execution": {
     "iopub.execute_input": "2021-08-17T21:00:08.467501Z",
     "iopub.status.busy": "2021-08-17T21:00:08.465346Z",
     "iopub.status.idle": "2021-08-17T21:00:08.470451Z",
     "shell.execute_reply": "2021-08-17T21:00:08.471739Z"
    },
    "papermill": {
     "duration": 0.04069,
     "end_time": "2021-08-17T21:00:08.472149",
     "exception": false,
     "start_time": "2021-08-17T21:00:08.431459",
     "status": "completed"
    },
    "tags": []
   },
   "outputs": [],
   "source": [
    "df_pivot.columns = [\"stamp_1\", \"stamp_2\"]\n",
    "df_pivot_diff = df_pivot.diff(axis=1)"
   ]
  },
  {
   "cell_type": "code",
   "execution_count": 7,
   "id": "fifth-motion",
   "metadata": {
    "execution": {
     "iopub.execute_input": "2021-08-17T21:00:08.527523Z",
     "iopub.status.busy": "2021-08-17T21:00:08.524960Z",
     "iopub.status.idle": "2021-08-17T21:00:10.064898Z",
     "shell.execute_reply": "2021-08-17T21:00:10.066469Z"
    },
    "papermill": {
     "duration": 1.573502,
     "end_time": "2021-08-17T21:00:10.066920",
     "exception": false,
     "start_time": "2021-08-17T21:00:08.493418",
     "status": "completed"
    },
    "tags": []
   },
   "outputs": [
    {
     "data": {
      "text/plain": [
       "<AxesSubplot:ylabel='PRODUCT'>"
      ]
     },
     "execution_count": 7,
     "metadata": {},
     "output_type": "execute_result"
    },
    {
     "data": {
      "image/png": "[encoded data removed]",
      "text/plain": [
       "<Figure size 432x288 with 1 Axes>"
      ]
     },
     "metadata": {
      "needs_background": "light"
     },
     "output_type": "display_data"
    }
   ],
   "source": [
    "df_pivot_diff.sort_values(\"stamp_2\", ascending = False)[\"stamp_2\"].head(10).plot.barh()"
   ]
  },
  {
   "cell_type": "code",
   "execution_count": null,
   "id": "extra-executive",
   "metadata": {
    "papermill": {
     "duration": 0.022205,
     "end_time": "2021-08-17T21:00:10.113842",
     "exception": false,
     "start_time": "2021-08-17T21:00:10.091637",
     "status": "completed"
    },
    "tags": []
   },
   "outputs": [],
   "source": []
  }
 ],
 "metadata": {
  "kernelspec": {
   "display_name": "Python 3",
   "language": "python",
   "name": "python3"
  },
  "language_info": {
   "codemirror_mode": {
    "name": "ipython",
    "version": 3
   },
   "file_extension": ".py",
   "mimetype": "text/x-python",
   "name": "python",
   "nbconvert_exporter": "python",
   "pygments_lexer": "ipython3",
   "version": "3.9.5"
  },
  "papermill": {
   "default_parameters": {},
   "duration": 6.835089,
   "end_time": "2021-08-17T21:00:11.515863",
   "environment_variables": {},
   "exception": null,
   "input_path": "eBay_Overview.ipynb",
   "output_path": "eBay_Overview.ipynb",
   "parameters": {},
   "start_time": "2021-08-17T21:00:04.680774",
   "version": "2.3.3"
  }
 },
 "nbformat": 4,
 "nbformat_minor": 5
}