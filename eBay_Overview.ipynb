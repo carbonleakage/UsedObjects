{
 "cells": [
  {
   "cell_type": "code",
   "execution_count": 1,
   "id": "reverse-picking",
   "metadata": {
    "execution": {
     "iopub.execute_input": "2021-08-30T19:00:07.506317Z",
     "iopub.status.busy": "2021-08-30T19:00:07.504350Z",
     "iopub.status.idle": "2021-08-30T19:00:08.310540Z",
     "shell.execute_reply": "2021-08-30T19:00:08.308982Z"
    },
    "papermill": {
     "duration": 0.857193,
     "end_time": "2021-08-30T19:00:08.310965",
     "exception": false,
     "start_time": "2021-08-30T19:00:07.453772",
     "status": "completed"
    },
    "tags": []
   },
   "outputs": [],
   "source": [
    "import pandas as pd\n",
    "import sqlite3"
   ]
  },
  {
   "cell_type": "code",
   "execution_count": 2,
   "id": "innovative-syndrome",
   "metadata": {
    "execution": {
     "iopub.execute_input": "2021-08-30T19:00:08.363730Z",
     "iopub.status.busy": "2021-08-30T19:00:08.361866Z",
     "iopub.status.idle": "2021-08-30T19:00:08.528459Z",
     "shell.execute_reply": "2021-08-30T19:00:08.529619Z"
    },
    "papermill": {
     "duration": 0.196601,
     "end_time": "2021-08-30T19:00:08.530032",
     "exception": false,
     "start_time": "2021-08-30T19:00:08.333431",
     "status": "completed"
    },
    "tags": []
   },
   "outputs": [],
   "source": [
    "timestamps = pd.read_sql(\"select distinct record_time from EBAY_TOP_BERLIN order by record_time desc limit 2\", sqlite3.connect(\"UsedObjects.db\"))"
   ]
  },
  {
   "cell_type": "code",
   "execution_count": 3,
   "id": "periodic-identification",
   "metadata": {
    "execution": {
     "iopub.execute_input": "2021-08-30T19:00:08.598873Z",
     "iopub.status.busy": "2021-08-30T19:00:08.596865Z",
     "iopub.status.idle": "2021-08-30T19:00:08.616763Z",
     "shell.execute_reply": "2021-08-30T19:00:08.618062Z"
    },
    "papermill": {
     "duration": 0.065827,
     "end_time": "2021-08-30T19:00:08.618472",
     "exception": false,
     "start_time": "2021-08-30T19:00:08.552645",
     "status": "completed"
    },
    "tags": []
   },
   "outputs": [
    {
     "data": {
      "text/html": [
       "<div>\n",
       "<style scoped>\n",
       "    .dataframe tbody tr th:only-of-type {\n",
       "        vertical-align: middle;\n",
       "    }\n",
       "\n",
       "    .dataframe tbody tr th {\n",
       "        vertical-align: top;\n",
       "    }\n",
       "\n",
       "    .dataframe thead th {\n",
       "        text-align: right;\n",
       "    }\n",
       "</style>\n",
       "<table border=\"1\" class=\"dataframe\">\n",
       "  <thead>\n",
       "    <tr style=\"text-align: right;\">\n",
       "      <th></th>\n",
       "      <th>RECORD_TIME</th>\n",
       "    </tr>\n",
       "  </thead>\n",
       "  <tbody>\n",
       "    <tr>\n",
       "      <th>0</th>\n",
       "      <td>2021-08-30 21:00</td>\n",
       "    </tr>\n",
       "    <tr>\n",
       "      <th>1</th>\n",
       "      <td>2021-08-30 20:30</td>\n",
       "    </tr>\n",
       "  </tbody>\n",
       "</table>\n",
       "</div>"
      ],
      "text/plain": [
       "        RECORD_TIME\n",
       "0  2021-08-30 21:00\n",
       "1  2021-08-30 20:30"
      ]
     },
     "execution_count": 3,
     "metadata": {},
     "output_type": "execute_result"
    }
   ],
   "source": [
    "timestamps"
   ]
  },
  {
   "cell_type": "code",
   "execution_count": 4,
   "id": "alternate-victory",
   "metadata": {
    "execution": {
     "iopub.execute_input": "2021-08-30T19:00:08.669442Z",
     "iopub.status.busy": "2021-08-30T19:00:08.667524Z",
     "iopub.status.idle": "2021-08-30T19:00:08.914575Z",
     "shell.execute_reply": "2021-08-30T19:00:08.915795Z"
    },
    "papermill": {
     "duration": 0.277196,
     "end_time": "2021-08-30T19:00:08.916184",
     "exception": false,
     "start_time": "2021-08-30T19:00:08.638988",
     "status": "completed"
    },
    "tags": []
   },
   "outputs": [],
   "source": [
    "df = pd.read_sql(\"select * from EBAY_TOP_BERLIN where record_time in (select distinct record_time from EBAY_TOP_BERLIN order by record_time desc limit 2)\", sqlite3.connect(\"UsedObjects.db\"))"
   ]
  },
  {
   "cell_type": "code",
   "execution_count": 5,
   "id": "popular-active",
   "metadata": {
    "execution": {
     "iopub.execute_input": "2021-08-30T19:00:08.997164Z",
     "iopub.status.busy": "2021-08-30T19:00:08.984522Z",
     "iopub.status.idle": "2021-08-30T19:00:09.013887Z",
     "shell.execute_reply": "2021-08-30T19:00:09.015252Z"
    },
    "papermill": {
     "duration": 0.073022,
     "end_time": "2021-08-30T19:00:09.015686",
     "exception": false,
     "start_time": "2021-08-30T19:00:08.942664",
     "status": "completed"
    },
    "tags": []
   },
   "outputs": [],
   "source": [
    "df_pivot = df.pivot_table(index=\"PRODUCT\", columns = \"RECORD_TIME\", values = \"LISTING_COUNT\")"
   ]
  },
  {
   "cell_type": "code",
   "execution_count": 6,
   "id": "union-huntington",
   "metadata": {
    "execution": {
     "iopub.execute_input": "2021-08-30T19:00:09.072285Z",
     "iopub.status.busy": "2021-08-30T19:00:09.070203Z",
     "iopub.status.idle": "2021-08-30T19:00:09.075545Z",
     "shell.execute_reply": "2021-08-30T19:00:09.076899Z"
    },
    "papermill": {
     "duration": 0.041187,
     "end_time": "2021-08-30T19:00:09.077318",
     "exception": false,
     "start_time": "2021-08-30T19:00:09.036131",
     "status": "completed"
    },
    "tags": []
   },
   "outputs": [],
   "source": [
    "df_pivot.columns = [\"stamp_1\", \"stamp_2\"]\n",
    "df_pivot_diff = df_pivot.diff(axis=1)"
   ]
  },
  {
   "cell_type": "code",
   "execution_count": 7,
   "id": "fifth-motion",
   "metadata": {
    "execution": {
     "iopub.execute_input": "2021-08-30T19:00:09.131673Z",
     "iopub.status.busy": "2021-08-30T19:00:09.129320Z",
     "iopub.status.idle": "2021-08-30T19:00:10.610135Z",
     "shell.execute_reply": "2021-08-30T19:00:10.611497Z"
    },
    "papermill": {
     "duration": 1.513941,
     "end_time": "2021-08-30T19:00:10.611970",
     "exception": false,
     "start_time": "2021-08-30T19:00:09.098029",
     "status": "completed"
    },
    "tags": []
   },
   "outputs": [
    {
     "data": {
      "text/plain": [
       "<AxesSubplot:ylabel='PRODUCT'>"
      ]
     },
     "execution_count": 7,
     "metadata": {},
     "output_type": "execute_result"
    },
    {
     "data": {
      "image/png": "[encoded data removed]",
      "text/plain": [
       "<Figure size 432x288 with 1 Axes>"
      ]
     },
     "metadata": {
      "needs_background": "light"
     },
     "output_type": "display_data"
    }
   ],
   "source": [
    "df_pivot_diff.sort_values(\"stamp_2\", ascending = False)[\"stamp_2\"].head(10).plot.barh()"
   ]
  },
  {
   "cell_type": "code",
   "execution_count": null,
   "id": "extra-executive",
   "metadata": {
    "papermill": {
     "duration": 0.022358,
     "end_time": "2021-08-30T19:00:10.660126",
     "exception": false,
     "start_time": "2021-08-30T19:00:10.637768",
     "status": "completed"
    },
    "tags": []
   },
   "outputs": [],
   "source": []
  }
 ],
 "metadata": {
  "kernelspec": {
   "display_name": "Python 3",
   "language": "python",
   "name": "python3"
  },
  "language_info": {
   "codemirror_mode": {
    "name": "ipython",
    "version": 3
   },
   "file_extension": ".py",
   "mimetype": "text/x-python",
   "name": "python",
   "nbconvert_exporter": "python",
   "pygments_lexer": "ipython3",
   "version": "3.9.5"
  },
  "papermill": {
   "default_parameters": {},
   "duration": 6.818081,
   "end_time": "2021-08-30T19:00:11.867628",
   "environment_variables": {},
   "exception": null,
   "input_path": "eBay_Overview.ipynb",
   "output_path": "eBay_Overview.ipynb",
   "parameters": {},
   "start_time": "2021-08-30T19:00:05.049547",
   "version": "2.3.3"
  }
 },
 "nbformat": 4,
 "nbformat_minor": 5
}