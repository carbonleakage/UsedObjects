{
 "cells": [
  {
   "cell_type": "code",
   "execution_count": 1,
   "id": "reverse-picking",
   "metadata": {
    "execution": {
     "iopub.execute_input": "2021-11-23T02:00:07.952745Z",
     "iopub.status.busy": "2021-11-23T02:00:07.949956Z",
     "iopub.status.idle": "2021-11-23T02:00:08.924467Z",
     "shell.execute_reply": "2021-11-23T02:00:08.926072Z"
    },
    "papermill": {
     "duration": 1.011563,
     "end_time": "2021-11-23T02:00:08.926819",
     "exception": false,
     "start_time": "2021-11-23T02:00:07.915256",
     "status": "completed"
    },
    "tags": []
   },
   "outputs": [],
   "source": [
    "import pandas as pd\n",
    "import sqlite3"
   ]
  },
  {
   "cell_type": "code",
   "execution_count": 2,
   "id": "innovative-syndrome",
   "metadata": {
    "execution": {
     "iopub.execute_input": "2021-11-23T02:00:09.007235Z",
     "iopub.status.busy": "2021-11-23T02:00:09.004985Z",
     "iopub.status.idle": "2021-11-23T02:00:09.875943Z",
     "shell.execute_reply": "2021-11-23T02:00:09.877608Z"
    },
    "papermill": {
     "duration": 0.906629,
     "end_time": "2021-11-23T02:00:09.878153",
     "exception": false,
     "start_time": "2021-11-23T02:00:08.971524",
     "status": "completed"
    },
    "tags": []
   },
   "outputs": [],
   "source": [
    "timestamps = pd.read_sql(\"select distinct record_time from EBAY_TOP_BERLIN order by record_time desc limit 2\", sqlite3.connect(\"UsedObjects.db\"))"
   ]
  },
  {
   "cell_type": "code",
   "execution_count": 3,
   "id": "periodic-identification",
   "metadata": {
    "execution": {
     "iopub.execute_input": "2021-11-23T02:00:09.953058Z",
     "iopub.status.busy": "2021-11-23T02:00:09.947160Z",
     "iopub.status.idle": "2021-11-23T02:00:09.969276Z",
     "shell.execute_reply": "2021-11-23T02:00:09.970973Z"
    },
    "papermill": {
     "duration": 0.072349,
     "end_time": "2021-11-23T02:00:09.971473",
     "exception": false,
     "start_time": "2021-11-23T02:00:09.899124",
     "status": "completed"
    },
    "tags": []
   },
   "outputs": [
    {
     "data": {
      "text/html": [
       "<div>\n",
       "<style scoped>\n",
       "    .dataframe tbody tr th:only-of-type {\n",
       "        vertical-align: middle;\n",
       "    }\n",
       "\n",
       "    .dataframe tbody tr th {\n",
       "        vertical-align: top;\n",
       "    }\n",
       "\n",
       "    .dataframe thead th {\n",
       "        text-align: right;\n",
       "    }\n",
       "</style>\n",
       "<table border=\"1\" class=\"dataframe\">\n",
       "  <thead>\n",
       "    <tr style=\"text-align: right;\">\n",
       "      <th></th>\n",
       "      <th>RECORD_TIME</th>\n",
       "    </tr>\n",
       "  </thead>\n",
       "  <tbody>\n",
       "    <tr>\n",
       "      <th>0</th>\n",
       "      <td>2021-11-23 03:00</td>\n",
       "    </tr>\n",
       "    <tr>\n",
       "      <th>1</th>\n",
       "      <td>2021-11-23 02:30</td>\n",
       "    </tr>\n",
       "  </tbody>\n",
       "</table>\n",
       "</div>"
      ],
      "text/plain": [
       "        RECORD_TIME\n",
       "0  2021-11-23 03:00\n",
       "1  2021-11-23 02:30"
      ]
     },
     "execution_count": 3,
     "metadata": {},
     "output_type": "execute_result"
    }
   ],
   "source": [
    "timestamps"
   ]
  },
  {
   "cell_type": "code",
   "execution_count": 4,
   "id": "alternate-victory",
   "metadata": {
    "execution": {
     "iopub.execute_input": "2021-11-23T02:00:10.028017Z",
     "iopub.status.busy": "2021-11-23T02:00:10.025983Z",
     "iopub.status.idle": "2021-11-23T02:00:11.294622Z",
     "shell.execute_reply": "2021-11-23T02:00:11.295991Z"
    },
    "papermill": {
     "duration": 1.303789,
     "end_time": "2021-11-23T02:00:11.296455",
     "exception": false,
     "start_time": "2021-11-23T02:00:09.992666",
     "status": "completed"
    },
    "tags": []
   },
   "outputs": [],
   "source": [
    "df = pd.read_sql(\"select * from EBAY_TOP_BERLIN where record_time in (select distinct record_time from EBAY_TOP_BERLIN order by record_time desc limit 2)\", sqlite3.connect(\"UsedObjects.db\"))"
   ]
  },
  {
   "cell_type": "code",
   "execution_count": 5,
   "id": "popular-active",
   "metadata": {
    "execution": {
     "iopub.execute_input": "2021-11-23T02:00:11.366850Z",
     "iopub.status.busy": "2021-11-23T02:00:11.359656Z",
     "iopub.status.idle": "2021-11-23T02:00:11.392663Z",
     "shell.execute_reply": "2021-11-23T02:00:11.394219Z"
    },
    "papermill": {
     "duration": 0.077217,
     "end_time": "2021-11-23T02:00:11.394701",
     "exception": false,
     "start_time": "2021-11-23T02:00:11.317484",
     "status": "completed"
    },
    "tags": []
   },
   "outputs": [],
   "source": [
    "df_pivot = df.pivot_table(index=\"PRODUCT\", columns = \"RECORD_TIME\", values = \"LISTING_COUNT\")"
   ]
  },
  {
   "cell_type": "code",
   "execution_count": 6,
   "id": "union-huntington",
   "metadata": {
    "execution": {
     "iopub.execute_input": "2021-11-23T02:00:11.455539Z",
     "iopub.status.busy": "2021-11-23T02:00:11.453333Z",
     "iopub.status.idle": "2021-11-23T02:00:11.458981Z",
     "shell.execute_reply": "2021-11-23T02:00:11.460323Z"
    },
    "papermill": {
     "duration": 0.044985,
     "end_time": "2021-11-23T02:00:11.460918",
     "exception": false,
     "start_time": "2021-11-23T02:00:11.415933",
     "status": "completed"
    },
    "tags": []
   },
   "outputs": [],
   "source": [
    "df_pivot.columns = [\"stamp_1\", \"stamp_2\"]\n",
    "df_pivot_diff = df_pivot.diff(axis=1)"
   ]
  },
  {
   "cell_type": "code",
   "execution_count": 7,
   "id": "fifth-motion",
   "metadata": {
    "execution": {
     "iopub.execute_input": "2021-11-23T02:00:11.515922Z",
     "iopub.status.busy": "2021-11-23T02:00:11.513420Z",
     "iopub.status.idle": "2021-11-23T02:00:13.460299Z",
     "shell.execute_reply": "2021-11-23T02:00:13.463047Z"
    },
    "papermill": {
     "duration": 1.982938,
     "end_time": "2021-11-23T02:00:13.463819",
     "exception": false,
     "start_time": "2021-11-23T02:00:11.480881",
     "status": "completed"
    },
    "tags": []
   },
   "outputs": [
    {
     "data": {
      "text/plain": [
       "<AxesSubplot:ylabel='PRODUCT'>"
      ]
     },
     "execution_count": 7,
     "metadata": {},
     "output_type": "execute_result"
    },
    {
     "data": {
      "image/png": "[encoded data removed]",
      "text/plain": [
       "<Figure size 432x288 with 1 Axes>"
      ]
     },
     "metadata": {
      "needs_background": "light"
     },
     "output_type": "display_data"
    }
   ],
   "source": [
    "df_pivot_diff.sort_values(\"stamp_2\", ascending = False)[\"stamp_2\"].head(10).plot.barh()"
   ]
  },
  {
   "cell_type": "code",
   "execution_count": null,
   "id": "extra-executive",
   "metadata": {
    "papermill": {
     "duration": 0.037431,
     "end_time": "2021-11-23T02:00:13.535364",
     "exception": false,
     "start_time": "2021-11-23T02:00:13.497933",
     "status": "completed"
    },
    "tags": []
   },
   "outputs": [],
   "source": []
  }
 ],
 "metadata": {
  "kernelspec": {
   "display_name": "Python 3",
   "language": "python",
   "name": "python3"
  },
  "language_info": {
   "codemirror_mode": {
    "name": "ipython",
    "version": 3
   },
   "file_extension": ".py",
   "mimetype": "text/x-python",
   "name": "python",
   "nbconvert_exporter": "python",
   "pygments_lexer": "ipython3",
   "version": "3.9.5"
  },
  "papermill": {
   "default_parameters": {},
   "duration": 9.935446,
   "end_time": "2021-11-23T02:00:15.122356",
   "environment_variables": {},
   "exception": null,
   "input_path": "eBay_Overview.ipynb",
   "output_path": "eBay_Overview.ipynb",
   "parameters": {},
   "start_time": "2021-11-23T02:00:05.186910",
   "version": "2.3.3"
  }
 },
 "nbformat": 4,
 "nbformat_minor": 5
}