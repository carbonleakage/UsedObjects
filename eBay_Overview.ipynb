{
 "cells": [
  {
   "cell_type": "code",
   "execution_count": 1,
   "id": "reverse-picking",
   "metadata": {
    "execution": {
     "iopub.execute_input": "2021-11-07T03:00:07.323674Z",
     "iopub.status.busy": "2021-11-07T03:00:07.321355Z",
     "iopub.status.idle": "2021-11-07T03:00:08.260233Z",
     "shell.execute_reply": "2021-11-07T03:00:08.263128Z"
    },
    "papermill": {
     "duration": 0.990119,
     "end_time": "2021-11-07T03:00:08.264014",
     "exception": false,
     "start_time": "2021-11-07T03:00:07.273895",
     "status": "completed"
    },
    "tags": []
   },
   "outputs": [],
   "source": [
    "import pandas as pd\n",
    "import sqlite3"
   ]
  },
  {
   "cell_type": "code",
   "execution_count": 2,
   "id": "innovative-syndrome",
   "metadata": {
    "execution": {
     "iopub.execute_input": "2021-11-07T03:00:08.363594Z",
     "iopub.status.busy": "2021-11-07T03:00:08.361346Z",
     "iopub.status.idle": "2021-11-07T03:00:09.112885Z",
     "shell.execute_reply": "2021-11-07T03:00:09.111215Z"
    },
    "papermill": {
     "duration": 0.828259,
     "end_time": "2021-11-07T03:00:09.113334",
     "exception": false,
     "start_time": "2021-11-07T03:00:08.285075",
     "status": "completed"
    },
    "tags": []
   },
   "outputs": [],
   "source": [
    "timestamps = pd.read_sql(\"select distinct record_time from EBAY_TOP_BERLIN order by record_time desc limit 2\", sqlite3.connect(\"UsedObjects.db\"))"
   ]
  },
  {
   "cell_type": "code",
   "execution_count": 3,
   "id": "periodic-identification",
   "metadata": {
    "execution": {
     "iopub.execute_input": "2021-11-07T03:00:09.190778Z",
     "iopub.status.busy": "2021-11-07T03:00:09.183343Z",
     "iopub.status.idle": "2021-11-07T03:00:09.213885Z",
     "shell.execute_reply": "2021-11-07T03:00:09.216480Z"
    },
    "papermill": {
     "duration": 0.083392,
     "end_time": "2021-11-07T03:00:09.217315",
     "exception": false,
     "start_time": "2021-11-07T03:00:09.133923",
     "status": "completed"
    },
    "tags": []
   },
   "outputs": [
    {
     "data": {
      "text/html": [
       "<div>\n",
       "<style scoped>\n",
       "    .dataframe tbody tr th:only-of-type {\n",
       "        vertical-align: middle;\n",
       "    }\n",
       "\n",
       "    .dataframe tbody tr th {\n",
       "        vertical-align: top;\n",
       "    }\n",
       "\n",
       "    .dataframe thead th {\n",
       "        text-align: right;\n",
       "    }\n",
       "</style>\n",
       "<table border=\"1\" class=\"dataframe\">\n",
       "  <thead>\n",
       "    <tr style=\"text-align: right;\">\n",
       "      <th></th>\n",
       "      <th>RECORD_TIME</th>\n",
       "    </tr>\n",
       "  </thead>\n",
       "  <tbody>\n",
       "    <tr>\n",
       "      <th>0</th>\n",
       "      <td>2021-11-07 04:00</td>\n",
       "    </tr>\n",
       "    <tr>\n",
       "      <th>1</th>\n",
       "      <td>2021-11-07 03:30</td>\n",
       "    </tr>\n",
       "  </tbody>\n",
       "</table>\n",
       "</div>"
      ],
      "text/plain": [
       "        RECORD_TIME\n",
       "0  2021-11-07 04:00\n",
       "1  2021-11-07 03:30"
      ]
     },
     "execution_count": 3,
     "metadata": {},
     "output_type": "execute_result"
    }
   ],
   "source": [
    "timestamps"
   ]
  },
  {
   "cell_type": "code",
   "execution_count": 4,
   "id": "alternate-victory",
   "metadata": {
    "execution": {
     "iopub.execute_input": "2021-11-07T03:00:09.281037Z",
     "iopub.status.busy": "2021-11-07T03:00:09.278698Z",
     "iopub.status.idle": "2021-11-07T03:00:10.338190Z",
     "shell.execute_reply": "2021-11-07T03:00:10.339842Z"
    },
    "papermill": {
     "duration": 1.093611,
     "end_time": "2021-11-07T03:00:10.340348",
     "exception": false,
     "start_time": "2021-11-07T03:00:09.246737",
     "status": "completed"
    },
    "tags": []
   },
   "outputs": [],
   "source": [
    "df = pd.read_sql(\"select * from EBAY_TOP_BERLIN where record_time in (select distinct record_time from EBAY_TOP_BERLIN order by record_time desc limit 2)\", sqlite3.connect(\"UsedObjects.db\"))"
   ]
  },
  {
   "cell_type": "code",
   "execution_count": 5,
   "id": "popular-active",
   "metadata": {
    "execution": {
     "iopub.execute_input": "2021-11-07T03:00:10.405837Z",
     "iopub.status.busy": "2021-11-07T03:00:10.403273Z",
     "iopub.status.idle": "2021-11-07T03:00:10.435197Z",
     "shell.execute_reply": "2021-11-07T03:00:10.436823Z"
    },
    "papermill": {
     "duration": 0.074807,
     "end_time": "2021-11-07T03:00:10.437310",
     "exception": false,
     "start_time": "2021-11-07T03:00:10.362503",
     "status": "completed"
    },
    "tags": []
   },
   "outputs": [],
   "source": [
    "df_pivot = df.pivot_table(index=\"PRODUCT\", columns = \"RECORD_TIME\", values = \"LISTING_COUNT\")"
   ]
  },
  {
   "cell_type": "code",
   "execution_count": 6,
   "id": "union-huntington",
   "metadata": {
    "execution": {
     "iopub.execute_input": "2021-11-07T03:00:10.489756Z",
     "iopub.status.busy": "2021-11-07T03:00:10.487658Z",
     "iopub.status.idle": "2021-11-07T03:00:10.514636Z",
     "shell.execute_reply": "2021-11-07T03:00:10.515872Z"
    },
    "papermill": {
     "duration": 0.058033,
     "end_time": "2021-11-07T03:00:10.516264",
     "exception": false,
     "start_time": "2021-11-07T03:00:10.458231",
     "status": "completed"
    },
    "tags": []
   },
   "outputs": [],
   "source": [
    "df_pivot.columns = [\"stamp_1\", \"stamp_2\"]\n",
    "df_pivot_diff = df_pivot.diff(axis=1)"
   ]
  },
  {
   "cell_type": "code",
   "execution_count": 7,
   "id": "fifth-motion",
   "metadata": {
    "execution": {
     "iopub.execute_input": "2021-11-07T03:00:10.575279Z",
     "iopub.status.busy": "2021-11-07T03:00:10.572643Z",
     "iopub.status.idle": "2021-11-07T03:00:12.285317Z",
     "shell.execute_reply": "2021-11-07T03:00:12.286667Z"
    },
    "papermill": {
     "duration": 1.74924,
     "end_time": "2021-11-07T03:00:12.287133",
     "exception": false,
     "start_time": "2021-11-07T03:00:10.537893",
     "status": "completed"
    },
    "tags": []
   },
   "outputs": [
    {
     "data": {
      "text/plain": [
       "<AxesSubplot:ylabel='PRODUCT'>"
      ]
     },
     "execution_count": 7,
     "metadata": {},
     "output_type": "execute_result"
    },
    {
     "data": {
      "image/png": "[encoded data removed]",
      "text/plain": [
       "<Figure size 432x288 with 1 Axes>"
      ]
     },
     "metadata": {
      "needs_background": "light"
     },
     "output_type": "display_data"
    }
   ],
   "source": [
    "df_pivot_diff.sort_values(\"stamp_2\", ascending = False)[\"stamp_2\"].head(10).plot.barh()"
   ]
  },
  {
   "cell_type": "code",
   "execution_count": null,
   "id": "extra-executive",
   "metadata": {
    "papermill": {
     "duration": 0.054118,
     "end_time": "2021-11-07T03:00:12.366248",
     "exception": false,
     "start_time": "2021-11-07T03:00:12.312130",
     "status": "completed"
    },
    "tags": []
   },
   "outputs": [],
   "source": []
  }
 ],
 "metadata": {
  "kernelspec": {
   "display_name": "Python 3",
   "language": "python",
   "name": "python3"
  },
  "language_info": {
   "codemirror_mode": {
    "name": "ipython",
    "version": 3
   },
   "file_extension": ".py",
   "mimetype": "text/x-python",
   "name": "python",
   "nbconvert_exporter": "python",
   "pygments_lexer": "ipython3",
   "version": "3.9.5"
  },
  "papermill": {
   "default_parameters": {},
   "duration": 8.640224,
   "end_time": "2021-11-07T03:00:13.113426",
   "environment_variables": {},
   "exception": null,
   "input_path": "eBay_Overview.ipynb",
   "output_path": "eBay_Overview.ipynb",
   "parameters": {},
   "start_time": "2021-11-07T03:00:04.473202",
   "version": "2.3.3"
  }
 },
 "nbformat": 4,
 "nbformat_minor": 5
}