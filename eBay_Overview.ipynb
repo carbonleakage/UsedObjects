{
 "cells": [
  {
   "cell_type": "code",
   "execution_count": 1,
   "id": "reverse-picking",
   "metadata": {
    "execution": {
     "iopub.execute_input": "2021-08-17T06:30:07.379337Z",
     "iopub.status.busy": "2021-08-17T06:30:07.377264Z",
     "iopub.status.idle": "2021-08-17T06:30:08.190435Z",
     "shell.execute_reply": "2021-08-17T06:30:08.191830Z"
    },
    "papermill": {
     "duration": 0.862638,
     "end_time": "2021-08-17T06:30:08.192457",
     "exception": false,
     "start_time": "2021-08-17T06:30:07.329819",
     "status": "completed"
    },
    "tags": []
   },
   "outputs": [],
   "source": [
    "import pandas as pd\n",
    "import sqlite3"
   ]
  },
  {
   "cell_type": "code",
   "execution_count": 2,
   "id": "innovative-syndrome",
   "metadata": {
    "execution": {
     "iopub.execute_input": "2021-08-17T06:30:08.242828Z",
     "iopub.status.busy": "2021-08-17T06:30:08.240711Z",
     "iopub.status.idle": "2021-08-17T06:30:08.306451Z",
     "shell.execute_reply": "2021-08-17T06:30:08.307693Z"
    },
    "papermill": {
     "duration": 0.095668,
     "end_time": "2021-08-17T06:30:08.308095",
     "exception": false,
     "start_time": "2021-08-17T06:30:08.212427",
     "status": "completed"
    },
    "tags": []
   },
   "outputs": [],
   "source": [
    "timestamps = pd.read_sql(\"select distinct record_time from EBAY_TOP_BERLIN order by record_time desc limit 2\", sqlite3.connect(\"UsedObjects.db\"))"
   ]
  },
  {
   "cell_type": "code",
   "execution_count": 3,
   "id": "periodic-identification",
   "metadata": {
    "execution": {
     "iopub.execute_input": "2021-08-17T06:30:08.373392Z",
     "iopub.status.busy": "2021-08-17T06:30:08.371345Z",
     "iopub.status.idle": "2021-08-17T06:30:08.391612Z",
     "shell.execute_reply": "2021-08-17T06:30:08.392915Z"
    },
    "papermill": {
     "duration": 0.064647,
     "end_time": "2021-08-17T06:30:08.393333",
     "exception": false,
     "start_time": "2021-08-17T06:30:08.328686",
     "status": "completed"
    },
    "tags": []
   },
   "outputs": [
    {
     "data": {
      "text/html": [
       "<div>\n",
       "<style scoped>\n",
       "    .dataframe tbody tr th:only-of-type {\n",
       "        vertical-align: middle;\n",
       "    }\n",
       "\n",
       "    .dataframe tbody tr th {\n",
       "        vertical-align: top;\n",
       "    }\n",
       "\n",
       "    .dataframe thead th {\n",
       "        text-align: right;\n",
       "    }\n",
       "</style>\n",
       "<table border=\"1\" class=\"dataframe\">\n",
       "  <thead>\n",
       "    <tr style=\"text-align: right;\">\n",
       "      <th></th>\n",
       "      <th>RECORD_TIME</th>\n",
       "    </tr>\n",
       "  </thead>\n",
       "  <tbody>\n",
       "    <tr>\n",
       "      <th>0</th>\n",
       "      <td>2021-08-17 08:30</td>\n",
       "    </tr>\n",
       "    <tr>\n",
       "      <th>1</th>\n",
       "      <td>2021-08-17 08:00</td>\n",
       "    </tr>\n",
       "  </tbody>\n",
       "</table>\n",
       "</div>"
      ],
      "text/plain": [
       "        RECORD_TIME\n",
       "0  2021-08-17 08:30\n",
       "1  2021-08-17 08:00"
      ]
     },
     "execution_count": 3,
     "metadata": {},
     "output_type": "execute_result"
    }
   ],
   "source": [
    "timestamps"
   ]
  },
  {
   "cell_type": "code",
   "execution_count": 4,
   "id": "alternate-victory",
   "metadata": {
    "execution": {
     "iopub.execute_input": "2021-08-17T06:30:08.444696Z",
     "iopub.status.busy": "2021-08-17T06:30:08.442831Z",
     "iopub.status.idle": "2021-08-17T06:30:08.541286Z",
     "shell.execute_reply": "2021-08-17T06:30:08.542885Z"
    },
    "papermill": {
     "duration": 0.128751,
     "end_time": "2021-08-17T06:30:08.543332",
     "exception": false,
     "start_time": "2021-08-17T06:30:08.414581",
     "status": "completed"
    },
    "tags": []
   },
   "outputs": [],
   "source": [
    "df = pd.read_sql(\"select * from EBAY_TOP_BERLIN where record_time in (select distinct record_time from EBAY_TOP_BERLIN order by record_time desc limit 2)\", sqlite3.connect(\"UsedObjects.db\"))"
   ]
  },
  {
   "cell_type": "code",
   "execution_count": 5,
   "id": "popular-active",
   "metadata": {
    "execution": {
     "iopub.execute_input": "2021-08-17T06:30:08.614872Z",
     "iopub.status.busy": "2021-08-17T06:30:08.602385Z",
     "iopub.status.idle": "2021-08-17T06:30:08.631076Z",
     "shell.execute_reply": "2021-08-17T06:30:08.632464Z"
    },
    "papermill": {
     "duration": 0.069458,
     "end_time": "2021-08-17T06:30:08.632913",
     "exception": false,
     "start_time": "2021-08-17T06:30:08.563455",
     "status": "completed"
    },
    "tags": []
   },
   "outputs": [],
   "source": [
    "df_pivot = df.pivot_table(index=\"PRODUCT\", columns = \"RECORD_TIME\", values = \"LISTING_COUNT\")"
   ]
  },
  {
   "cell_type": "code",
   "execution_count": 6,
   "id": "union-huntington",
   "metadata": {
    "execution": {
     "iopub.execute_input": "2021-08-17T06:30:08.692931Z",
     "iopub.status.busy": "2021-08-17T06:30:08.690436Z",
     "iopub.status.idle": "2021-08-17T06:30:08.696270Z",
     "shell.execute_reply": "2021-08-17T06:30:08.697558Z"
    },
    "papermill": {
     "duration": 0.042107,
     "end_time": "2021-08-17T06:30:08.698043",
     "exception": false,
     "start_time": "2021-08-17T06:30:08.655936",
     "status": "completed"
    },
    "tags": []
   },
   "outputs": [],
   "source": [
    "df_pivot.columns = [\"stamp_1\", \"stamp_2\"]\n",
    "df_pivot_diff = df_pivot.diff(axis=1)"
   ]
  },
  {
   "cell_type": "code",
   "execution_count": 7,
   "id": "fifth-motion",
   "metadata": {
    "execution": {
     "iopub.execute_input": "2021-08-17T06:30:08.753118Z",
     "iopub.status.busy": "2021-08-17T06:30:08.750703Z",
     "iopub.status.idle": "2021-08-17T06:30:10.239755Z",
     "shell.execute_reply": "2021-08-17T06:30:10.241057Z"
    },
    "papermill": {
     "duration": 1.523056,
     "end_time": "2021-08-17T06:30:10.241518",
     "exception": false,
     "start_time": "2021-08-17T06:30:08.718462",
     "status": "completed"
    },
    "tags": []
   },
   "outputs": [
    {
     "data": {
      "text/plain": [
       "<AxesSubplot:ylabel='PRODUCT'>"
      ]
     },
     "execution_count": 7,
     "metadata": {},
     "output_type": "execute_result"
    },
    {
     "data": {
      "image/png": "[encoded data removed]",
      "text/plain": [
       "<Figure size 432x288 with 1 Axes>"
      ]
     },
     "metadata": {
      "needs_background": "light"
     },
     "output_type": "display_data"
    }
   ],
   "source": [
    "df_pivot_diff.sort_values(\"stamp_2\", ascending = False)[\"stamp_2\"].head(10).plot.barh()"
   ]
  },
  {
   "cell_type": "code",
   "execution_count": null,
   "id": "extra-executive",
   "metadata": {
    "papermill": {
     "duration": 0.021857,
     "end_time": "2021-08-17T06:30:10.288053",
     "exception": false,
     "start_time": "2021-08-17T06:30:10.266196",
     "status": "completed"
    },
    "tags": []
   },
   "outputs": [],
   "source": []
  }
 ],
 "metadata": {
  "kernelspec": {
   "display_name": "Python 3",
   "language": "python",
   "name": "python3"
  },
  "language_info": {
   "codemirror_mode": {
    "name": "ipython",
    "version": 3
   },
   "file_extension": ".py",
   "mimetype": "text/x-python",
   "name": "python",
   "nbconvert_exporter": "python",
   "pygments_lexer": "ipython3",
   "version": "3.9.5"
  },
  "papermill": {
   "default_parameters": {},
   "duration": 6.825114,
   "end_time": "2021-08-17T06:30:11.740876",
   "environment_variables": {},
   "exception": null,
   "input_path": "eBay_Overview.ipynb",
   "output_path": "eBay_Overview.ipynb",
   "parameters": {},
   "start_time": "2021-08-17T06:30:04.915762",
   "version": "2.3.3"
  }
 },
 "nbformat": 4,
 "nbformat_minor": 5
}