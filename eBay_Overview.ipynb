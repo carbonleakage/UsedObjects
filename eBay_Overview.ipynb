{
 "cells": [
  {
   "cell_type": "code",
   "execution_count": 1,
   "id": "reverse-picking",
   "metadata": {
    "execution": {
     "iopub.execute_input": "2021-08-25T19:30:06.814765Z",
     "iopub.status.busy": "2021-08-25T19:30:06.812800Z",
     "iopub.status.idle": "2021-08-25T19:30:07.618022Z",
     "shell.execute_reply": "2021-08-25T19:30:07.619286Z"
    },
    "papermill": {
     "duration": 0.85715,
     "end_time": "2021-08-25T19:30:07.619901",
     "exception": false,
     "start_time": "2021-08-25T19:30:06.762751",
     "status": "completed"
    },
    "tags": []
   },
   "outputs": [],
   "source": [
    "import pandas as pd\n",
    "import sqlite3"
   ]
  },
  {
   "cell_type": "code",
   "execution_count": 2,
   "id": "innovative-syndrome",
   "metadata": {
    "execution": {
     "iopub.execute_input": "2021-08-25T19:30:07.671227Z",
     "iopub.status.busy": "2021-08-25T19:30:07.669368Z",
     "iopub.status.idle": "2021-08-25T19:30:07.796895Z",
     "shell.execute_reply": "2021-08-25T19:30:07.798113Z"
    },
    "papermill": {
     "duration": 0.157061,
     "end_time": "2021-08-25T19:30:07.798515",
     "exception": false,
     "start_time": "2021-08-25T19:30:07.641454",
     "status": "completed"
    },
    "tags": []
   },
   "outputs": [],
   "source": [
    "timestamps = pd.read_sql(\"select distinct record_time from EBAY_TOP_BERLIN order by record_time desc limit 2\", sqlite3.connect(\"UsedObjects.db\"))"
   ]
  },
  {
   "cell_type": "code",
   "execution_count": 3,
   "id": "periodic-identification",
   "metadata": {
    "execution": {
     "iopub.execute_input": "2021-08-25T19:30:07.862831Z",
     "iopub.status.busy": "2021-08-25T19:30:07.860819Z",
     "iopub.status.idle": "2021-08-25T19:30:07.880966Z",
     "shell.execute_reply": "2021-08-25T19:30:07.882328Z"
    },
    "papermill": {
     "duration": 0.063638,
     "end_time": "2021-08-25T19:30:07.882747",
     "exception": false,
     "start_time": "2021-08-25T19:30:07.819109",
     "status": "completed"
    },
    "tags": []
   },
   "outputs": [
    {
     "data": {
      "text/html": [
       "<div>\n",
       "<style scoped>\n",
       "    .dataframe tbody tr th:only-of-type {\n",
       "        vertical-align: middle;\n",
       "    }\n",
       "\n",
       "    .dataframe tbody tr th {\n",
       "        vertical-align: top;\n",
       "    }\n",
       "\n",
       "    .dataframe thead th {\n",
       "        text-align: right;\n",
       "    }\n",
       "</style>\n",
       "<table border=\"1\" class=\"dataframe\">\n",
       "  <thead>\n",
       "    <tr style=\"text-align: right;\">\n",
       "      <th></th>\n",
       "      <th>RECORD_TIME</th>\n",
       "    </tr>\n",
       "  </thead>\n",
       "  <tbody>\n",
       "    <tr>\n",
       "      <th>0</th>\n",
       "      <td>2021-08-25 21:30</td>\n",
       "    </tr>\n",
       "    <tr>\n",
       "      <th>1</th>\n",
       "      <td>2021-08-25 21:00</td>\n",
       "    </tr>\n",
       "  </tbody>\n",
       "</table>\n",
       "</div>"
      ],
      "text/plain": [
       "        RECORD_TIME\n",
       "0  2021-08-25 21:30\n",
       "1  2021-08-25 21:00"
      ]
     },
     "execution_count": 3,
     "metadata": {},
     "output_type": "execute_result"
    }
   ],
   "source": [
    "timestamps"
   ]
  },
  {
   "cell_type": "code",
   "execution_count": 4,
   "id": "alternate-victory",
   "metadata": {
    "execution": {
     "iopub.execute_input": "2021-08-25T19:30:07.933645Z",
     "iopub.status.busy": "2021-08-25T19:30:07.931679Z",
     "iopub.status.idle": "2021-08-25T19:30:08.122939Z",
     "shell.execute_reply": "2021-08-25T19:30:08.124150Z"
    },
    "papermill": {
     "duration": 0.221048,
     "end_time": "2021-08-25T19:30:08.124636",
     "exception": false,
     "start_time": "2021-08-25T19:30:07.903588",
     "status": "completed"
    },
    "tags": []
   },
   "outputs": [],
   "source": [
    "df = pd.read_sql(\"select * from EBAY_TOP_BERLIN where record_time in (select distinct record_time from EBAY_TOP_BERLIN order by record_time desc limit 2)\", sqlite3.connect(\"UsedObjects.db\"))"
   ]
  },
  {
   "cell_type": "code",
   "execution_count": 5,
   "id": "popular-active",
   "metadata": {
    "execution": {
     "iopub.execute_input": "2021-08-25T19:30:08.195266Z",
     "iopub.status.busy": "2021-08-25T19:30:08.183971Z",
     "iopub.status.idle": "2021-08-25T19:30:08.211202Z",
     "shell.execute_reply": "2021-08-25T19:30:08.212576Z"
    },
    "papermill": {
     "duration": 0.068254,
     "end_time": "2021-08-25T19:30:08.213007",
     "exception": false,
     "start_time": "2021-08-25T19:30:08.144753",
     "status": "completed"
    },
    "tags": []
   },
   "outputs": [],
   "source": [
    "df_pivot = df.pivot_table(index=\"PRODUCT\", columns = \"RECORD_TIME\", values = \"LISTING_COUNT\")"
   ]
  },
  {
   "cell_type": "code",
   "execution_count": 6,
   "id": "union-huntington",
   "metadata": {
    "execution": {
     "iopub.execute_input": "2021-08-25T19:30:08.283533Z",
     "iopub.status.busy": "2021-08-25T19:30:08.281473Z",
     "iopub.status.idle": "2021-08-25T19:30:08.286741Z",
     "shell.execute_reply": "2021-08-25T19:30:08.288057Z"
    },
    "papermill": {
     "duration": 0.054767,
     "end_time": "2021-08-25T19:30:08.288539",
     "exception": false,
     "start_time": "2021-08-25T19:30:08.233772",
     "status": "completed"
    },
    "tags": []
   },
   "outputs": [],
   "source": [
    "df_pivot.columns = [\"stamp_1\", \"stamp_2\"]\n",
    "df_pivot_diff = df_pivot.diff(axis=1)"
   ]
  },
  {
   "cell_type": "code",
   "execution_count": 7,
   "id": "fifth-motion",
   "metadata": {
    "execution": {
     "iopub.execute_input": "2021-08-25T19:30:08.343022Z",
     "iopub.status.busy": "2021-08-25T19:30:08.340737Z",
     "iopub.status.idle": "2021-08-25T19:30:09.837025Z",
     "shell.execute_reply": "2021-08-25T19:30:09.838327Z"
    },
    "papermill": {
     "duration": 1.529612,
     "end_time": "2021-08-25T19:30:09.838745",
     "exception": false,
     "start_time": "2021-08-25T19:30:08.309133",
     "status": "completed"
    },
    "tags": []
   },
   "outputs": [
    {
     "data": {
      "text/plain": [
       "<AxesSubplot:ylabel='PRODUCT'>"
      ]
     },
     "execution_count": 7,
     "metadata": {},
     "output_type": "execute_result"
    },
    {
     "data": {
      "image/png": "[encoded data removed]",
      "text/plain": [
       "<Figure size 432x288 with 1 Axes>"
      ]
     },
     "metadata": {
      "needs_background": "light"
     },
     "output_type": "display_data"
    }
   ],
   "source": [
    "df_pivot_diff.sort_values(\"stamp_2\", ascending = False)[\"stamp_2\"].head(10).plot.barh()"
   ]
  },
  {
   "cell_type": "code",
   "execution_count": null,
   "id": "extra-executive",
   "metadata": {
    "papermill": {
     "duration": 0.022116,
     "end_time": "2021-08-25T19:30:09.885279",
     "exception": false,
     "start_time": "2021-08-25T19:30:09.863163",
     "status": "completed"
    },
    "tags": []
   },
   "outputs": [],
   "source": []
  }
 ],
 "metadata": {
  "kernelspec": {
   "display_name": "Python 3",
   "language": "python",
   "name": "python3"
  },
  "language_info": {
   "codemirror_mode": {
    "name": "ipython",
    "version": 3
   },
   "file_extension": ".py",
   "mimetype": "text/x-python",
   "name": "python",
   "nbconvert_exporter": "python",
   "pygments_lexer": "ipython3",
   "version": "3.9.5"
  },
  "papermill": {
   "default_parameters": {},
   "duration": 6.821586,
   "end_time": "2021-08-25T19:30:11.185295",
   "environment_variables": {},
   "exception": null,
   "input_path": "eBay_Overview.ipynb",
   "output_path": "eBay_Overview.ipynb",
   "parameters": {},
   "start_time": "2021-08-25T19:30:04.363709",
   "version": "2.3.3"
  }
 },
 "nbformat": 4,
 "nbformat_minor": 5
}