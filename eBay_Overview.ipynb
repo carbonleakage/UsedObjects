{
 "cells": [
  {
   "cell_type": "code",
   "execution_count": 1,
   "id": "reverse-picking",
   "metadata": {
    "execution": {
     "iopub.execute_input": "2021-09-27T10:30:07.236286Z",
     "iopub.status.busy": "2021-09-27T10:30:07.234157Z",
     "iopub.status.idle": "2021-09-27T10:30:08.043804Z",
     "shell.execute_reply": "2021-09-27T10:30:08.042153Z"
    },
    "papermill": {
     "duration": 0.859983,
     "end_time": "2021-09-27T10:30:08.044217",
     "exception": false,
     "start_time": "2021-09-27T10:30:07.184234",
     "status": "completed"
    },
    "tags": []
   },
   "outputs": [],
   "source": [
    "import pandas as pd\n",
    "import sqlite3"
   ]
  },
  {
   "cell_type": "code",
   "execution_count": 2,
   "id": "innovative-syndrome",
   "metadata": {
    "execution": {
     "iopub.execute_input": "2021-09-27T10:30:08.094504Z",
     "iopub.status.busy": "2021-09-27T10:30:08.092664Z",
     "iopub.status.idle": "2021-09-27T10:30:08.476156Z",
     "shell.execute_reply": "2021-09-27T10:30:08.477396Z"
    },
    "papermill": {
     "duration": 0.413002,
     "end_time": "2021-09-27T10:30:08.477797",
     "exception": false,
     "start_time": "2021-09-27T10:30:08.064795",
     "status": "completed"
    },
    "tags": []
   },
   "outputs": [],
   "source": [
    "timestamps = pd.read_sql(\"select distinct record_time from EBAY_TOP_BERLIN order by record_time desc limit 2\", sqlite3.connect(\"UsedObjects.db\"))"
   ]
  },
  {
   "cell_type": "code",
   "execution_count": 3,
   "id": "periodic-identification",
   "metadata": {
    "execution": {
     "iopub.execute_input": "2021-09-27T10:30:08.541706Z",
     "iopub.status.busy": "2021-09-27T10:30:08.539680Z",
     "iopub.status.idle": "2021-09-27T10:30:08.559680Z",
     "shell.execute_reply": "2021-09-27T10:30:08.561487Z"
    },
    "papermill": {
     "duration": 0.064832,
     "end_time": "2021-09-27T10:30:08.562032",
     "exception": false,
     "start_time": "2021-09-27T10:30:08.497200",
     "status": "completed"
    },
    "tags": []
   },
   "outputs": [
    {
     "data": {
      "text/html": [
       "<div>\n",
       "<style scoped>\n",
       "    .dataframe tbody tr th:only-of-type {\n",
       "        vertical-align: middle;\n",
       "    }\n",
       "\n",
       "    .dataframe tbody tr th {\n",
       "        vertical-align: top;\n",
       "    }\n",
       "\n",
       "    .dataframe thead th {\n",
       "        text-align: right;\n",
       "    }\n",
       "</style>\n",
       "<table border=\"1\" class=\"dataframe\">\n",
       "  <thead>\n",
       "    <tr style=\"text-align: right;\">\n",
       "      <th></th>\n",
       "      <th>RECORD_TIME</th>\n",
       "    </tr>\n",
       "  </thead>\n",
       "  <tbody>\n",
       "    <tr>\n",
       "      <th>0</th>\n",
       "      <td>2021-09-27 12:30</td>\n",
       "    </tr>\n",
       "    <tr>\n",
       "      <th>1</th>\n",
       "      <td>2021-09-27 12:00</td>\n",
       "    </tr>\n",
       "  </tbody>\n",
       "</table>\n",
       "</div>"
      ],
      "text/plain": [
       "        RECORD_TIME\n",
       "0  2021-09-27 12:30\n",
       "1  2021-09-27 12:00"
      ]
     },
     "execution_count": 3,
     "metadata": {},
     "output_type": "execute_result"
    }
   ],
   "source": [
    "timestamps"
   ]
  },
  {
   "cell_type": "code",
   "execution_count": 4,
   "id": "alternate-victory",
   "metadata": {
    "execution": {
     "iopub.execute_input": "2021-09-27T10:30:08.615268Z",
     "iopub.status.busy": "2021-09-27T10:30:08.613277Z",
     "iopub.status.idle": "2021-09-27T10:30:09.191383Z",
     "shell.execute_reply": "2021-09-27T10:30:09.192675Z"
    },
    "papermill": {
     "duration": 0.608611,
     "end_time": "2021-09-27T10:30:09.193138",
     "exception": false,
     "start_time": "2021-09-27T10:30:08.584527",
     "status": "completed"
    },
    "tags": []
   },
   "outputs": [],
   "source": [
    "df = pd.read_sql(\"select * from EBAY_TOP_BERLIN where record_time in (select distinct record_time from EBAY_TOP_BERLIN order by record_time desc limit 2)\", sqlite3.connect(\"UsedObjects.db\"))"
   ]
  },
  {
   "cell_type": "code",
   "execution_count": 5,
   "id": "popular-active",
   "metadata": {
    "execution": {
     "iopub.execute_input": "2021-09-27T10:30:09.273011Z",
     "iopub.status.busy": "2021-09-27T10:30:09.261593Z",
     "iopub.status.idle": "2021-09-27T10:30:09.289637Z",
     "shell.execute_reply": "2021-09-27T10:30:09.290907Z"
    },
    "papermill": {
     "duration": 0.071771,
     "end_time": "2021-09-27T10:30:09.291317",
     "exception": false,
     "start_time": "2021-09-27T10:30:09.219546",
     "status": "completed"
    },
    "tags": []
   },
   "outputs": [],
   "source": [
    "df_pivot = df.pivot_table(index=\"PRODUCT\", columns = \"RECORD_TIME\", values = \"LISTING_COUNT\")"
   ]
  },
  {
   "cell_type": "code",
   "execution_count": 6,
   "id": "union-huntington",
   "metadata": {
    "execution": {
     "iopub.execute_input": "2021-09-27T10:30:09.347893Z",
     "iopub.status.busy": "2021-09-27T10:30:09.345767Z",
     "iopub.status.idle": "2021-09-27T10:30:09.350932Z",
     "shell.execute_reply": "2021-09-27T10:30:09.352245Z"
    },
    "papermill": {
     "duration": 0.040442,
     "end_time": "2021-09-27T10:30:09.352662",
     "exception": false,
     "start_time": "2021-09-27T10:30:09.312220",
     "status": "completed"
    },
    "tags": []
   },
   "outputs": [],
   "source": [
    "df_pivot.columns = [\"stamp_1\", \"stamp_2\"]\n",
    "df_pivot_diff = df_pivot.diff(axis=1)"
   ]
  },
  {
   "cell_type": "code",
   "execution_count": 7,
   "id": "fifth-motion",
   "metadata": {
    "execution": {
     "iopub.execute_input": "2021-09-27T10:30:09.406571Z",
     "iopub.status.busy": "2021-09-27T10:30:09.404209Z",
     "iopub.status.idle": "2021-09-27T10:30:10.862295Z",
     "shell.execute_reply": "2021-09-27T10:30:10.863756Z"
    },
    "papermill": {
     "duration": 1.491115,
     "end_time": "2021-09-27T10:30:10.864210",
     "exception": false,
     "start_time": "2021-09-27T10:30:09.373095",
     "status": "completed"
    },
    "tags": []
   },
   "outputs": [
    {
     "data": {
      "text/plain": [
       "<AxesSubplot:ylabel='PRODUCT'>"
      ]
     },
     "execution_count": 7,
     "metadata": {},
     "output_type": "execute_result"
    },
    {
     "data": {
      "image/png": "[encoded data removed]",
      "text/plain": [
       "<Figure size 432x288 with 1 Axes>"
      ]
     },
     "metadata": {
      "needs_background": "light"
     },
     "output_type": "display_data"
    }
   ],
   "source": [
    "df_pivot_diff.sort_values(\"stamp_2\", ascending = False)[\"stamp_2\"].head(10).plot.barh()"
   ]
  },
  {
   "cell_type": "code",
   "execution_count": null,
   "id": "extra-executive",
   "metadata": {
    "papermill": {
     "duration": 0.022339,
     "end_time": "2021-09-27T10:30:10.910375",
     "exception": false,
     "start_time": "2021-09-27T10:30:10.888036",
     "status": "completed"
    },
    "tags": []
   },
   "outputs": [],
   "source": []
  }
 ],
 "metadata": {
  "kernelspec": {
   "display_name": "Python 3",
   "language": "python",
   "name": "python3"
  },
  "language_info": {
   "codemirror_mode": {
    "name": "ipython",
    "version": 3
   },
   "file_extension": ".py",
   "mimetype": "text/x-python",
   "name": "python",
   "nbconvert_exporter": "python",
   "pygments_lexer": "ipython3",
   "version": "3.9.5"
  },
  "papermill": {
   "default_parameters": {},
   "duration": 6.777671,
   "end_time": "2021-09-27T10:30:11.554756",
   "environment_variables": {},
   "exception": null,
   "input_path": "eBay_Overview.ipynb",
   "output_path": "eBay_Overview.ipynb",
   "parameters": {},
   "start_time": "2021-09-27T10:30:04.777085",
   "version": "2.3.3"
  }
 },
 "nbformat": 4,
 "nbformat_minor": 5
}