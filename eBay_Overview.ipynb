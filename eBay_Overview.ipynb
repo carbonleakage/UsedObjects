{
 "cells": [
  {
   "cell_type": "code",
   "execution_count": 1,
   "id": "reverse-picking",
   "metadata": {
    "execution": {
     "iopub.execute_input": "2021-12-16T20:30:07.868388Z",
     "iopub.status.busy": "2021-12-16T20:30:07.865982Z",
     "iopub.status.idle": "2021-12-16T20:30:08.825470Z",
     "shell.execute_reply": "2021-12-16T20:30:08.827083Z"
    },
    "papermill": {
     "duration": 1.010143,
     "end_time": "2021-12-16T20:30:08.827807",
     "exception": false,
     "start_time": "2021-12-16T20:30:07.817664",
     "status": "completed"
    },
    "tags": []
   },
   "outputs": [],
   "source": [
    "import pandas as pd\n",
    "import sqlite3"
   ]
  },
  {
   "cell_type": "code",
   "execution_count": 2,
   "id": "innovative-syndrome",
   "metadata": {
    "execution": {
     "iopub.execute_input": "2021-12-16T20:30:08.889301Z",
     "iopub.status.busy": "2021-12-16T20:30:08.886882Z",
     "iopub.status.idle": "2021-12-16T20:30:09.974985Z",
     "shell.execute_reply": "2021-12-16T20:30:09.976208Z"
    },
    "papermill": {
     "duration": 1.121742,
     "end_time": "2021-12-16T20:30:09.976610",
     "exception": false,
     "start_time": "2021-12-16T20:30:08.854868",
     "status": "completed"
    },
    "tags": []
   },
   "outputs": [],
   "source": [
    "timestamps = pd.read_sql(\"select distinct record_time from EBAY_TOP_BERLIN order by record_time desc limit 2\", sqlite3.connect(\"UsedObjects.db\"))"
   ]
  },
  {
   "cell_type": "code",
   "execution_count": 3,
   "id": "periodic-identification",
   "metadata": {
    "execution": {
     "iopub.execute_input": "2021-12-16T20:30:10.041631Z",
     "iopub.status.busy": "2021-12-16T20:30:10.039512Z",
     "iopub.status.idle": "2021-12-16T20:30:10.059804Z",
     "shell.execute_reply": "2021-12-16T20:30:10.061322Z"
    },
    "papermill": {
     "duration": 0.065679,
     "end_time": "2021-12-16T20:30:10.061796",
     "exception": false,
     "start_time": "2021-12-16T20:30:09.996117",
     "status": "completed"
    },
    "tags": []
   },
   "outputs": [
    {
     "data": {
      "text/html": [
       "<div>\n",
       "<style scoped>\n",
       "    .dataframe tbody tr th:only-of-type {\n",
       "        vertical-align: middle;\n",
       "    }\n",
       "\n",
       "    .dataframe tbody tr th {\n",
       "        vertical-align: top;\n",
       "    }\n",
       "\n",
       "    .dataframe thead th {\n",
       "        text-align: right;\n",
       "    }\n",
       "</style>\n",
       "<table border=\"1\" class=\"dataframe\">\n",
       "  <thead>\n",
       "    <tr style=\"text-align: right;\">\n",
       "      <th></th>\n",
       "      <th>RECORD_TIME</th>\n",
       "    </tr>\n",
       "  </thead>\n",
       "  <tbody>\n",
       "    <tr>\n",
       "      <th>0</th>\n",
       "      <td>2021-12-16 21:30</td>\n",
       "    </tr>\n",
       "    <tr>\n",
       "      <th>1</th>\n",
       "      <td>2021-12-16 21:00</td>\n",
       "    </tr>\n",
       "  </tbody>\n",
       "</table>\n",
       "</div>"
      ],
      "text/plain": [
       "        RECORD_TIME\n",
       "0  2021-12-16 21:30\n",
       "1  2021-12-16 21:00"
      ]
     },
     "execution_count": 3,
     "metadata": {},
     "output_type": "execute_result"
    }
   ],
   "source": [
    "timestamps"
   ]
  },
  {
   "cell_type": "code",
   "execution_count": 4,
   "id": "alternate-victory",
   "metadata": {
    "execution": {
     "iopub.execute_input": "2021-12-16T20:30:10.115386Z",
     "iopub.status.busy": "2021-12-16T20:30:10.113287Z",
     "iopub.status.idle": "2021-12-16T20:30:11.688524Z",
     "shell.execute_reply": "2021-12-16T20:30:11.690048Z"
    },
    "papermill": {
     "duration": 1.607475,
     "end_time": "2021-12-16T20:30:11.690550",
     "exception": false,
     "start_time": "2021-12-16T20:30:10.083075",
     "status": "completed"
    },
    "tags": []
   },
   "outputs": [],
   "source": [
    "df = pd.read_sql(\"select * from EBAY_TOP_BERLIN where record_time in (select distinct record_time from EBAY_TOP_BERLIN order by record_time desc limit 2)\", sqlite3.connect(\"UsedObjects.db\"))"
   ]
  },
  {
   "cell_type": "code",
   "execution_count": 5,
   "id": "popular-active",
   "metadata": {
    "execution": {
     "iopub.execute_input": "2021-12-16T20:30:11.768479Z",
     "iopub.status.busy": "2021-12-16T20:30:11.760628Z",
     "iopub.status.idle": "2021-12-16T20:30:11.786118Z",
     "shell.execute_reply": "2021-12-16T20:30:11.787454Z"
    },
    "papermill": {
     "duration": 0.07528,
     "end_time": "2021-12-16T20:30:11.787928",
     "exception": false,
     "start_time": "2021-12-16T20:30:11.712648",
     "status": "completed"
    },
    "tags": []
   },
   "outputs": [],
   "source": [
    "df_pivot = df.pivot_table(index=\"PRODUCT\", columns = \"RECORD_TIME\", values = \"LISTING_COUNT\")"
   ]
  },
  {
   "cell_type": "code",
   "execution_count": 6,
   "id": "union-huntington",
   "metadata": {
    "execution": {
     "iopub.execute_input": "2021-12-16T20:30:11.845790Z",
     "iopub.status.busy": "2021-12-16T20:30:11.843512Z",
     "iopub.status.idle": "2021-12-16T20:30:11.849624Z",
     "shell.execute_reply": "2021-12-16T20:30:11.850976Z"
    },
    "papermill": {
     "duration": 0.043674,
     "end_time": "2021-12-16T20:30:11.851435",
     "exception": false,
     "start_time": "2021-12-16T20:30:11.807761",
     "status": "completed"
    },
    "tags": []
   },
   "outputs": [],
   "source": [
    "df_pivot.columns = [\"stamp_1\", \"stamp_2\"]\n",
    "df_pivot_diff = df_pivot.diff(axis=1)"
   ]
  },
  {
   "cell_type": "code",
   "execution_count": 7,
   "id": "fifth-motion",
   "metadata": {
    "execution": {
     "iopub.execute_input": "2021-12-16T20:30:11.910981Z",
     "iopub.status.busy": "2021-12-16T20:30:11.908429Z",
     "iopub.status.idle": "2021-12-16T20:30:13.905045Z",
     "shell.execute_reply": "2021-12-16T20:30:13.906431Z"
    },
    "papermill": {
     "duration": 2.034194,
     "end_time": "2021-12-16T20:30:13.906917",
     "exception": false,
     "start_time": "2021-12-16T20:30:11.872723",
     "status": "completed"
    },
    "tags": []
   },
   "outputs": [
    {
     "data": {
      "text/plain": [
       "<AxesSubplot:ylabel='PRODUCT'>"
      ]
     },
     "execution_count": 7,
     "metadata": {},
     "output_type": "execute_result"
    },
    {
     "data": {
      "image/png": "[encoded data removed]",
      "text/plain": [
       "<Figure size 432x288 with 1 Axes>"
      ]
     },
     "metadata": {
      "needs_background": "light"
     },
     "output_type": "display_data"
    }
   ],
   "source": [
    "df_pivot_diff.sort_values(\"stamp_2\", ascending = False)[\"stamp_2\"].head(10).plot.barh()"
   ]
  },
  {
   "cell_type": "code",
   "execution_count": null,
   "id": "extra-executive",
   "metadata": {
    "papermill": {
     "duration": 0.025405,
     "end_time": "2021-12-16T20:30:13.965313",
     "exception": false,
     "start_time": "2021-12-16T20:30:13.939908",
     "status": "completed"
    },
    "tags": []
   },
   "outputs": [],
   "source": []
  }
 ],
 "metadata": {
  "kernelspec": {
   "display_name": "Python 3",
   "language": "python",
   "name": "python3"
  },
  "language_info": {
   "codemirror_mode": {
    "name": "ipython",
    "version": 3
   },
   "file_extension": ".py",
   "mimetype": "text/x-python",
   "name": "python",
   "nbconvert_exporter": "python",
   "pygments_lexer": "ipython3",
   "version": "3.9.5"
  },
  "papermill": {
   "default_parameters": {},
   "duration": 9.537135,
   "end_time": "2021-12-16T20:30:14.619501",
   "environment_variables": {},
   "exception": null,
   "input_path": "eBay_Overview.ipynb",
   "output_path": "eBay_Overview.ipynb",
   "parameters": {},
   "start_time": "2021-12-16T20:30:05.082366",
   "version": "2.3.3"
  }
 },
 "nbformat": 4,
 "nbformat_minor": 5
}