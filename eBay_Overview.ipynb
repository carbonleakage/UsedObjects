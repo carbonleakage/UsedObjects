{
 "cells": [
  {
   "cell_type": "code",
   "execution_count": 1,
   "id": "reverse-picking",
   "metadata": {
    "execution": {
     "iopub.execute_input": "2021-10-08T12:30:06.563713Z",
     "iopub.status.busy": "2021-10-08T12:30:06.561667Z",
     "iopub.status.idle": "2021-10-08T12:30:07.368631Z",
     "shell.execute_reply": "2021-10-08T12:30:07.369890Z"
    },
    "papermill": {
     "duration": 0.856077,
     "end_time": "2021-10-08T12:30:07.370507",
     "exception": false,
     "start_time": "2021-10-08T12:30:06.514430",
     "status": "completed"
    },
    "tags": []
   },
   "outputs": [],
   "source": [
    "import pandas as pd\n",
    "import sqlite3"
   ]
  },
  {
   "cell_type": "code",
   "execution_count": 2,
   "id": "innovative-syndrome",
   "metadata": {
    "execution": {
     "iopub.execute_input": "2021-10-08T12:30:07.423716Z",
     "iopub.status.busy": "2021-10-08T12:30:07.421334Z",
     "iopub.status.idle": "2021-10-08T12:30:07.906846Z",
     "shell.execute_reply": "2021-10-08T12:30:07.908222Z"
    },
    "papermill": {
     "duration": 0.515751,
     "end_time": "2021-10-08T12:30:07.908642",
     "exception": false,
     "start_time": "2021-10-08T12:30:07.392891",
     "status": "completed"
    },
    "tags": []
   },
   "outputs": [],
   "source": [
    "timestamps = pd.read_sql(\"select distinct record_time from EBAY_TOP_BERLIN order by record_time desc limit 2\", sqlite3.connect(\"UsedObjects.db\"))"
   ]
  },
  {
   "cell_type": "code",
   "execution_count": 3,
   "id": "periodic-identification",
   "metadata": {
    "execution": {
     "iopub.execute_input": "2021-10-08T12:30:07.972725Z",
     "iopub.status.busy": "2021-10-08T12:30:07.970637Z",
     "iopub.status.idle": "2021-10-08T12:30:07.992857Z",
     "shell.execute_reply": "2021-10-08T12:30:07.994079Z"
    },
    "papermill": {
     "duration": 0.066019,
     "end_time": "2021-10-08T12:30:07.994474",
     "exception": false,
     "start_time": "2021-10-08T12:30:07.928455",
     "status": "completed"
    },
    "tags": []
   },
   "outputs": [
    {
     "data": {
      "text/html": [
       "<div>\n",
       "<style scoped>\n",
       "    .dataframe tbody tr th:only-of-type {\n",
       "        vertical-align: middle;\n",
       "    }\n",
       "\n",
       "    .dataframe tbody tr th {\n",
       "        vertical-align: top;\n",
       "    }\n",
       "\n",
       "    .dataframe thead th {\n",
       "        text-align: right;\n",
       "    }\n",
       "</style>\n",
       "<table border=\"1\" class=\"dataframe\">\n",
       "  <thead>\n",
       "    <tr style=\"text-align: right;\">\n",
       "      <th></th>\n",
       "      <th>RECORD_TIME</th>\n",
       "    </tr>\n",
       "  </thead>\n",
       "  <tbody>\n",
       "    <tr>\n",
       "      <th>0</th>\n",
       "      <td>2021-10-08 14:30</td>\n",
       "    </tr>\n",
       "    <tr>\n",
       "      <th>1</th>\n",
       "      <td>2021-10-08 14:00</td>\n",
       "    </tr>\n",
       "  </tbody>\n",
       "</table>\n",
       "</div>"
      ],
      "text/plain": [
       "        RECORD_TIME\n",
       "0  2021-10-08 14:30\n",
       "1  2021-10-08 14:00"
      ]
     },
     "execution_count": 3,
     "metadata": {},
     "output_type": "execute_result"
    }
   ],
   "source": [
    "timestamps"
   ]
  },
  {
   "cell_type": "code",
   "execution_count": 4,
   "id": "alternate-victory",
   "metadata": {
    "execution": {
     "iopub.execute_input": "2021-10-08T12:30:08.055318Z",
     "iopub.status.busy": "2021-10-08T12:30:08.053336Z",
     "iopub.status.idle": "2021-10-08T12:30:08.766392Z",
     "shell.execute_reply": "2021-10-08T12:30:08.767899Z"
    },
    "papermill": {
     "duration": 0.746254,
     "end_time": "2021-10-08T12:30:08.768352",
     "exception": false,
     "start_time": "2021-10-08T12:30:08.022098",
     "status": "completed"
    },
    "tags": []
   },
   "outputs": [],
   "source": [
    "df = pd.read_sql(\"select * from EBAY_TOP_BERLIN where record_time in (select distinct record_time from EBAY_TOP_BERLIN order by record_time desc limit 2)\", sqlite3.connect(\"UsedObjects.db\"))"
   ]
  },
  {
   "cell_type": "code",
   "execution_count": 5,
   "id": "popular-active",
   "metadata": {
    "execution": {
     "iopub.execute_input": "2021-10-08T12:30:08.838451Z",
     "iopub.status.busy": "2021-10-08T12:30:08.826769Z",
     "iopub.status.idle": "2021-10-08T12:30:08.856369Z",
     "shell.execute_reply": "2021-10-08T12:30:08.857735Z"
    },
    "papermill": {
     "duration": 0.07004,
     "end_time": "2021-10-08T12:30:08.858167",
     "exception": false,
     "start_time": "2021-10-08T12:30:08.788127",
     "status": "completed"
    },
    "tags": []
   },
   "outputs": [],
   "source": [
    "df_pivot = df.pivot_table(index=\"PRODUCT\", columns = \"RECORD_TIME\", values = \"LISTING_COUNT\")"
   ]
  },
  {
   "cell_type": "code",
   "execution_count": 6,
   "id": "union-huntington",
   "metadata": {
    "execution": {
     "iopub.execute_input": "2021-10-08T12:30:08.914595Z",
     "iopub.status.busy": "2021-10-08T12:30:08.912308Z",
     "iopub.status.idle": "2021-10-08T12:30:08.917953Z",
     "shell.execute_reply": "2021-10-08T12:30:08.919298Z"
    },
    "papermill": {
     "duration": 0.041497,
     "end_time": "2021-10-08T12:30:08.919727",
     "exception": false,
     "start_time": "2021-10-08T12:30:08.878230",
     "status": "completed"
    },
    "tags": []
   },
   "outputs": [],
   "source": [
    "df_pivot.columns = [\"stamp_1\", \"stamp_2\"]\n",
    "df_pivot_diff = df_pivot.diff(axis=1)"
   ]
  },
  {
   "cell_type": "code",
   "execution_count": 7,
   "id": "fifth-motion",
   "metadata": {
    "execution": {
     "iopub.execute_input": "2021-10-08T12:30:08.974728Z",
     "iopub.status.busy": "2021-10-08T12:30:08.972214Z",
     "iopub.status.idle": "2021-10-08T12:30:10.459426Z",
     "shell.execute_reply": "2021-10-08T12:30:10.460809Z"
    },
    "papermill": {
     "duration": 1.520545,
     "end_time": "2021-10-08T12:30:10.461243",
     "exception": false,
     "start_time": "2021-10-08T12:30:08.940698",
     "status": "completed"
    },
    "tags": []
   },
   "outputs": [
    {
     "data": {
      "text/plain": [
       "<AxesSubplot:ylabel='PRODUCT'>"
      ]
     },
     "execution_count": 7,
     "metadata": {},
     "output_type": "execute_result"
    },
    {
     "data": {
      "image/png": "[encoded data removed]",
      "text/plain": [
       "<Figure size 432x288 with 1 Axes>"
      ]
     },
     "metadata": {
      "needs_background": "light"
     },
     "output_type": "display_data"
    }
   ],
   "source": [
    "df_pivot_diff.sort_values(\"stamp_2\", ascending = False)[\"stamp_2\"].head(10).plot.barh()"
   ]
  },
  {
   "cell_type": "code",
   "execution_count": null,
   "id": "extra-executive",
   "metadata": {
    "papermill": {
     "duration": 0.021885,
     "end_time": "2021-10-08T12:30:10.506422",
     "exception": false,
     "start_time": "2021-10-08T12:30:10.484537",
     "status": "completed"
    },
    "tags": []
   },
   "outputs": [],
   "source": []
  }
 ],
 "metadata": {
  "kernelspec": {
   "display_name": "Python 3",
   "language": "python",
   "name": "python3"
  },
  "language_info": {
   "codemirror_mode": {
    "name": "ipython",
    "version": 3
   },
   "file_extension": ".py",
   "mimetype": "text/x-python",
   "name": "python",
   "nbconvert_exporter": "python",
   "pygments_lexer": "ipython3",
   "version": "3.9.5"
  },
  "papermill": {
   "default_parameters": {},
   "duration": 7.846604,
   "end_time": "2021-10-08T12:30:11.941973",
   "environment_variables": {},
   "exception": null,
   "input_path": "eBay_Overview.ipynb",
   "output_path": "eBay_Overview.ipynb",
   "parameters": {},
   "start_time": "2021-10-08T12:30:04.095369",
   "version": "2.3.3"
  }
 },
 "nbformat": 4,
 "nbformat_minor": 5
}