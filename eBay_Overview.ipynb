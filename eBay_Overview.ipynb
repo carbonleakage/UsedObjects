{
 "cells": [
  {
   "cell_type": "code",
   "execution_count": 1,
   "id": "reverse-picking",
   "metadata": {
    "execution": {
     "iopub.execute_input": "2021-11-08T07:30:08.113909Z",
     "iopub.status.busy": "2021-11-08T07:30:08.111771Z",
     "iopub.status.idle": "2021-11-08T07:30:09.074419Z",
     "shell.execute_reply": "2021-11-08T07:30:09.076092Z"
    },
    "papermill": {
     "duration": 1.009147,
     "end_time": "2021-11-08T07:30:09.076955",
     "exception": false,
     "start_time": "2021-11-08T07:30:08.067808",
     "status": "completed"
    },
    "tags": []
   },
   "outputs": [],
   "source": [
    "import pandas as pd\n",
    "import sqlite3"
   ]
  },
  {
   "cell_type": "code",
   "execution_count": 2,
   "id": "innovative-syndrome",
   "metadata": {
    "execution": {
     "iopub.execute_input": "2021-11-08T07:30:09.141931Z",
     "iopub.status.busy": "2021-11-08T07:30:09.139641Z",
     "iopub.status.idle": "2021-11-08T07:30:09.913945Z",
     "shell.execute_reply": "2021-11-08T07:30:09.915167Z"
    },
    "papermill": {
     "duration": 0.808801,
     "end_time": "2021-11-08T07:30:09.915610",
     "exception": false,
     "start_time": "2021-11-08T07:30:09.106809",
     "status": "completed"
    },
    "tags": []
   },
   "outputs": [],
   "source": [
    "timestamps = pd.read_sql(\"select distinct record_time from EBAY_TOP_BERLIN order by record_time desc limit 2\", sqlite3.connect(\"UsedObjects.db\"))"
   ]
  },
  {
   "cell_type": "code",
   "execution_count": 3,
   "id": "periodic-identification",
   "metadata": {
    "execution": {
     "iopub.execute_input": "2021-11-08T07:30:09.983455Z",
     "iopub.status.busy": "2021-11-08T07:30:09.981199Z",
     "iopub.status.idle": "2021-11-08T07:30:10.003758Z",
     "shell.execute_reply": "2021-11-08T07:30:10.002462Z"
    },
    "papermill": {
     "duration": 0.069104,
     "end_time": "2021-11-08T07:30:10.004157",
     "exception": false,
     "start_time": "2021-11-08T07:30:09.935053",
     "status": "completed"
    },
    "tags": []
   },
   "outputs": [
    {
     "data": {
      "text/html": [
       "<div>\n",
       "<style scoped>\n",
       "    .dataframe tbody tr th:only-of-type {\n",
       "        vertical-align: middle;\n",
       "    }\n",
       "\n",
       "    .dataframe tbody tr th {\n",
       "        vertical-align: top;\n",
       "    }\n",
       "\n",
       "    .dataframe thead th {\n",
       "        text-align: right;\n",
       "    }\n",
       "</style>\n",
       "<table border=\"1\" class=\"dataframe\">\n",
       "  <thead>\n",
       "    <tr style=\"text-align: right;\">\n",
       "      <th></th>\n",
       "      <th>RECORD_TIME</th>\n",
       "    </tr>\n",
       "  </thead>\n",
       "  <tbody>\n",
       "    <tr>\n",
       "      <th>0</th>\n",
       "      <td>2021-11-08 08:30</td>\n",
       "    </tr>\n",
       "    <tr>\n",
       "      <th>1</th>\n",
       "      <td>2021-11-08 08:00</td>\n",
       "    </tr>\n",
       "  </tbody>\n",
       "</table>\n",
       "</div>"
      ],
      "text/plain": [
       "        RECORD_TIME\n",
       "0  2021-11-08 08:30\n",
       "1  2021-11-08 08:00"
      ]
     },
     "execution_count": 3,
     "metadata": {},
     "output_type": "execute_result"
    }
   ],
   "source": [
    "timestamps"
   ]
  },
  {
   "cell_type": "code",
   "execution_count": 4,
   "id": "alternate-victory",
   "metadata": {
    "execution": {
     "iopub.execute_input": "2021-11-08T07:30:10.058412Z",
     "iopub.status.busy": "2021-11-08T07:30:10.055990Z",
     "iopub.status.idle": "2021-11-08T07:30:11.160095Z",
     "shell.execute_reply": "2021-11-08T07:30:11.161719Z"
    },
    "papermill": {
     "duration": 1.136787,
     "end_time": "2021-11-08T07:30:11.162196",
     "exception": false,
     "start_time": "2021-11-08T07:30:10.025409",
     "status": "completed"
    },
    "tags": []
   },
   "outputs": [],
   "source": [
    "df = pd.read_sql(\"select * from EBAY_TOP_BERLIN where record_time in (select distinct record_time from EBAY_TOP_BERLIN order by record_time desc limit 2)\", sqlite3.connect(\"UsedObjects.db\"))"
   ]
  },
  {
   "cell_type": "code",
   "execution_count": 5,
   "id": "popular-active",
   "metadata": {
    "execution": {
     "iopub.execute_input": "2021-11-08T07:30:11.229642Z",
     "iopub.status.busy": "2021-11-08T07:30:11.226867Z",
     "iopub.status.idle": "2021-11-08T07:30:11.262605Z",
     "shell.execute_reply": "2021-11-08T07:30:11.264168Z"
    },
    "papermill": {
     "duration": 0.080358,
     "end_time": "2021-11-08T07:30:11.264760",
     "exception": false,
     "start_time": "2021-11-08T07:30:11.184402",
     "status": "completed"
    },
    "tags": []
   },
   "outputs": [],
   "source": [
    "df_pivot = df.pivot_table(index=\"PRODUCT\", columns = \"RECORD_TIME\", values = \"LISTING_COUNT\")"
   ]
  },
  {
   "cell_type": "code",
   "execution_count": 6,
   "id": "union-huntington",
   "metadata": {
    "execution": {
     "iopub.execute_input": "2021-11-08T07:30:11.326434Z",
     "iopub.status.busy": "2021-11-08T07:30:11.323908Z",
     "iopub.status.idle": "2021-11-08T07:30:11.330459Z",
     "shell.execute_reply": "2021-11-08T07:30:11.332030Z"
    },
    "papermill": {
     "duration": 0.045699,
     "end_time": "2021-11-08T07:30:11.332484",
     "exception": false,
     "start_time": "2021-11-08T07:30:11.286785",
     "status": "completed"
    },
    "tags": []
   },
   "outputs": [],
   "source": [
    "df_pivot.columns = [\"stamp_1\", \"stamp_2\"]\n",
    "df_pivot_diff = df_pivot.diff(axis=1)"
   ]
  },
  {
   "cell_type": "code",
   "execution_count": 7,
   "id": "fifth-motion",
   "metadata": {
    "execution": {
     "iopub.execute_input": "2021-11-08T07:30:11.393010Z",
     "iopub.status.busy": "2021-11-08T07:30:11.390364Z",
     "iopub.status.idle": "2021-11-08T07:30:13.110373Z",
     "shell.execute_reply": "2021-11-08T07:30:13.111715Z"
    },
    "papermill": {
     "duration": 1.758614,
     "end_time": "2021-11-08T07:30:13.112193",
     "exception": false,
     "start_time": "2021-11-08T07:30:11.353579",
     "status": "completed"
    },
    "tags": []
   },
   "outputs": [
    {
     "data": {
      "text/plain": [
       "<AxesSubplot:ylabel='PRODUCT'>"
      ]
     },
     "execution_count": 7,
     "metadata": {},
     "output_type": "execute_result"
    },
    {
     "data": {
      "image/png": "[encoded data removed]",
      "text/plain": [
       "<Figure size 432x288 with 1 Axes>"
      ]
     },
     "metadata": {
      "needs_background": "light"
     },
     "output_type": "display_data"
    }
   ],
   "source": [
    "df_pivot_diff.sort_values(\"stamp_2\", ascending = False)[\"stamp_2\"].head(10).plot.barh()"
   ]
  },
  {
   "cell_type": "code",
   "execution_count": null,
   "id": "extra-executive",
   "metadata": {
    "papermill": {
     "duration": 0.023883,
     "end_time": "2021-11-08T07:30:13.160060",
     "exception": false,
     "start_time": "2021-11-08T07:30:13.136177",
     "status": "completed"
    },
    "tags": []
   },
   "outputs": [],
   "source": []
  }
 ],
 "metadata": {
  "kernelspec": {
   "display_name": "Python 3",
   "language": "python",
   "name": "python3"
  },
  "language_info": {
   "codemirror_mode": {
    "name": "ipython",
    "version": 3
   },
   "file_extension": ".py",
   "mimetype": "text/x-python",
   "name": "python",
   "nbconvert_exporter": "python",
   "pygments_lexer": "ipython3",
   "version": "3.9.5"
  },
  "papermill": {
   "default_parameters": {},
   "duration": 8.836011,
   "end_time": "2021-11-08T07:30:14.117742",
   "environment_variables": {},
   "exception": null,
   "input_path": "eBay_Overview.ipynb",
   "output_path": "eBay_Overview.ipynb",
   "parameters": {},
   "start_time": "2021-11-08T07:30:05.281731",
   "version": "2.3.3"
  }
 },
 "nbformat": 4,
 "nbformat_minor": 5
}