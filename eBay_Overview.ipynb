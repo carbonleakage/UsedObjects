{
 "cells": [
  {
   "cell_type": "code",
   "execution_count": 1,
   "id": "reverse-picking",
   "metadata": {
    "execution": {
     "iopub.execute_input": "2021-08-14T04:30:06.720358Z",
     "iopub.status.busy": "2021-08-14T04:30:06.718415Z",
     "iopub.status.idle": "2021-08-14T04:30:07.528054Z",
     "shell.execute_reply": "2021-08-14T04:30:07.529284Z"
    },
    "papermill": {
     "duration": 0.861947,
     "end_time": "2021-08-14T04:30:07.530114",
     "exception": false,
     "start_time": "2021-08-14T04:30:06.668167",
     "status": "completed"
    },
    "tags": []
   },
   "outputs": [],
   "source": [
    "import pandas as pd\n",
    "import sqlite3"
   ]
  },
  {
   "cell_type": "code",
   "execution_count": 2,
   "id": "innovative-syndrome",
   "metadata": {
    "execution": {
     "iopub.execute_input": "2021-08-14T04:30:07.580228Z",
     "iopub.status.busy": "2021-08-14T04:30:07.578029Z",
     "iopub.status.idle": "2021-08-14T04:30:07.625245Z",
     "shell.execute_reply": "2021-08-14T04:30:07.627240Z"
    },
    "papermill": {
     "duration": 0.077775,
     "end_time": "2021-08-14T04:30:07.627800",
     "exception": false,
     "start_time": "2021-08-14T04:30:07.550025",
     "status": "completed"
    },
    "tags": []
   },
   "outputs": [],
   "source": [
    "timestamps = pd.read_sql(\"select distinct record_time from EBAY_TOP_BERLIN order by record_time desc limit 2\", sqlite3.connect(\"UsedObjects.db\"))"
   ]
  },
  {
   "cell_type": "code",
   "execution_count": 3,
   "id": "periodic-identification",
   "metadata": {
    "execution": {
     "iopub.execute_input": "2021-08-14T04:30:07.692233Z",
     "iopub.status.busy": "2021-08-14T04:30:07.690103Z",
     "iopub.status.idle": "2021-08-14T04:30:07.710766Z",
     "shell.execute_reply": "2021-08-14T04:30:07.711907Z"
    },
    "papermill": {
     "duration": 0.065758,
     "end_time": "2021-08-14T04:30:07.712318",
     "exception": false,
     "start_time": "2021-08-14T04:30:07.646560",
     "status": "completed"
    },
    "tags": []
   },
   "outputs": [
    {
     "data": {
      "text/html": [
       "<div>\n",
       "<style scoped>\n",
       "    .dataframe tbody tr th:only-of-type {\n",
       "        vertical-align: middle;\n",
       "    }\n",
       "\n",
       "    .dataframe tbody tr th {\n",
       "        vertical-align: top;\n",
       "    }\n",
       "\n",
       "    .dataframe thead th {\n",
       "        text-align: right;\n",
       "    }\n",
       "</style>\n",
       "<table border=\"1\" class=\"dataframe\">\n",
       "  <thead>\n",
       "    <tr style=\"text-align: right;\">\n",
       "      <th></th>\n",
       "      <th>RECORD_TIME</th>\n",
       "    </tr>\n",
       "  </thead>\n",
       "  <tbody>\n",
       "    <tr>\n",
       "      <th>0</th>\n",
       "      <td>2021-08-14 06:30</td>\n",
       "    </tr>\n",
       "    <tr>\n",
       "      <th>1</th>\n",
       "      <td>2021-08-14 06:00</td>\n",
       "    </tr>\n",
       "  </tbody>\n",
       "</table>\n",
       "</div>"
      ],
      "text/plain": [
       "        RECORD_TIME\n",
       "0  2021-08-14 06:30\n",
       "1  2021-08-14 06:00"
      ]
     },
     "execution_count": 3,
     "metadata": {},
     "output_type": "execute_result"
    }
   ],
   "source": [
    "timestamps"
   ]
  },
  {
   "cell_type": "code",
   "execution_count": 4,
   "id": "alternate-victory",
   "metadata": {
    "execution": {
     "iopub.execute_input": "2021-08-14T04:30:07.766469Z",
     "iopub.status.busy": "2021-08-14T04:30:07.764086Z",
     "iopub.status.idle": "2021-08-14T04:30:07.834462Z",
     "shell.execute_reply": "2021-08-14T04:30:07.835968Z"
    },
    "papermill": {
     "duration": 0.101125,
     "end_time": "2021-08-14T04:30:07.836411",
     "exception": false,
     "start_time": "2021-08-14T04:30:07.735286",
     "status": "completed"
    },
    "tags": []
   },
   "outputs": [],
   "source": [
    "df = pd.read_sql(\"select * from EBAY_TOP_BERLIN where record_time in (select distinct record_time from EBAY_TOP_BERLIN order by record_time desc limit 2)\", sqlite3.connect(\"UsedObjects.db\"))"
   ]
  },
  {
   "cell_type": "code",
   "execution_count": 5,
   "id": "popular-active",
   "metadata": {
    "execution": {
     "iopub.execute_input": "2021-08-14T04:30:07.907771Z",
     "iopub.status.busy": "2021-08-14T04:30:07.895245Z",
     "iopub.status.idle": "2021-08-14T04:30:07.925225Z",
     "shell.execute_reply": "2021-08-14T04:30:07.926854Z"
    },
    "papermill": {
     "duration": 0.07013,
     "end_time": "2021-08-14T04:30:07.927331",
     "exception": false,
     "start_time": "2021-08-14T04:30:07.857201",
     "status": "completed"
    },
    "tags": []
   },
   "outputs": [],
   "source": [
    "df_pivot = df.pivot_table(index=\"PRODUCT\", columns = \"RECORD_TIME\", values = \"LISTING_COUNT\")"
   ]
  },
  {
   "cell_type": "code",
   "execution_count": 6,
   "id": "union-huntington",
   "metadata": {
    "execution": {
     "iopub.execute_input": "2021-08-14T04:30:07.985666Z",
     "iopub.status.busy": "2021-08-14T04:30:07.983355Z",
     "iopub.status.idle": "2021-08-14T04:30:07.989148Z",
     "shell.execute_reply": "2021-08-14T04:30:07.990494Z"
    },
    "papermill": {
     "duration": 0.042324,
     "end_time": "2021-08-14T04:30:07.990925",
     "exception": false,
     "start_time": "2021-08-14T04:30:07.948601",
     "status": "completed"
    },
    "tags": []
   },
   "outputs": [],
   "source": [
    "df_pivot.columns = [\"stamp_1\", \"stamp_2\"]\n",
    "df_pivot_diff = df_pivot.diff(axis=1)"
   ]
  },
  {
   "cell_type": "code",
   "execution_count": 7,
   "id": "fifth-motion",
   "metadata": {
    "execution": {
     "iopub.execute_input": "2021-08-14T04:30:08.045593Z",
     "iopub.status.busy": "2021-08-14T04:30:08.043245Z",
     "iopub.status.idle": "2021-08-14T04:30:09.554641Z",
     "shell.execute_reply": "2021-08-14T04:30:09.555949Z"
    },
    "papermill": {
     "duration": 1.544877,
     "end_time": "2021-08-14T04:30:09.556367",
     "exception": false,
     "start_time": "2021-08-14T04:30:08.011490",
     "status": "completed"
    },
    "tags": []
   },
   "outputs": [
    {
     "data": {
      "text/plain": [
       "<AxesSubplot:ylabel='PRODUCT'>"
      ]
     },
     "execution_count": 7,
     "metadata": {},
     "output_type": "execute_result"
    },
    {
     "data": {
      "image/png": "[encoded data removed]",
      "text/plain": [
       "<Figure size 432x288 with 1 Axes>"
      ]
     },
     "metadata": {
      "needs_background": "light"
     },
     "output_type": "display_data"
    }
   ],
   "source": [
    "df_pivot_diff.sort_values(\"stamp_2\", ascending = False)[\"stamp_2\"].head(10).plot.barh()"
   ]
  },
  {
   "cell_type": "code",
   "execution_count": null,
   "id": "extra-executive",
   "metadata": {
    "papermill": {
     "duration": 0.02229,
     "end_time": "2021-08-14T04:30:09.602046",
     "exception": false,
     "start_time": "2021-08-14T04:30:09.579756",
     "status": "completed"
    },
    "tags": []
   },
   "outputs": [],
   "source": []
  }
 ],
 "metadata": {
  "kernelspec": {
   "display_name": "Python 3",
   "language": "python",
   "name": "python3"
  },
  "language_info": {
   "codemirror_mode": {
    "name": "ipython",
    "version": 3
   },
   "file_extension": ".py",
   "mimetype": "text/x-python",
   "name": "python",
   "nbconvert_exporter": "python",
   "pygments_lexer": "ipython3",
   "version": "3.9.5"
  },
  "papermill": {
   "default_parameters": {},
   "duration": 6.827992,
   "end_time": "2021-08-14T04:30:11.077940",
   "environment_variables": {},
   "exception": null,
   "input_path": "eBay_Overview.ipynb",
   "output_path": "eBay_Overview.ipynb",
   "parameters": {},
   "start_time": "2021-08-14T04:30:04.249948",
   "version": "2.3.3"
  }
 },
 "nbformat": 4,
 "nbformat_minor": 5
}