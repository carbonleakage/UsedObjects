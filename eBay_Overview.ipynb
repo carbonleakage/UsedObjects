{
 "cells": [
  {
   "cell_type": "code",
   "execution_count": 1,
   "id": "reverse-picking",
   "metadata": {
    "execution": {
     "iopub.execute_input": "2021-09-16T02:00:07.565623Z",
     "iopub.status.busy": "2021-09-16T02:00:07.563656Z",
     "iopub.status.idle": "2021-09-16T02:00:08.365447Z",
     "shell.execute_reply": "2021-09-16T02:00:08.366769Z"
    },
    "papermill": {
     "duration": 0.852519,
     "end_time": "2021-09-16T02:00:08.367477",
     "exception": false,
     "start_time": "2021-09-16T02:00:07.514958",
     "status": "completed"
    },
    "tags": []
   },
   "outputs": [],
   "source": [
    "import pandas as pd\n",
    "import sqlite3"
   ]
  },
  {
   "cell_type": "code",
   "execution_count": 2,
   "id": "innovative-syndrome",
   "metadata": {
    "execution": {
     "iopub.execute_input": "2021-09-16T02:00:08.418239Z",
     "iopub.status.busy": "2021-09-16T02:00:08.416197Z",
     "iopub.status.idle": "2021-09-16T02:00:08.712136Z",
     "shell.execute_reply": "2021-09-16T02:00:08.713427Z"
    },
    "papermill": {
     "duration": 0.326228,
     "end_time": "2021-09-16T02:00:08.713848",
     "exception": false,
     "start_time": "2021-09-16T02:00:08.387620",
     "status": "completed"
    },
    "tags": []
   },
   "outputs": [],
   "source": [
    "timestamps = pd.read_sql(\"select distinct record_time from EBAY_TOP_BERLIN order by record_time desc limit 2\", sqlite3.connect(\"UsedObjects.db\"))"
   ]
  },
  {
   "cell_type": "code",
   "execution_count": 3,
   "id": "periodic-identification",
   "metadata": {
    "execution": {
     "iopub.execute_input": "2021-09-16T02:00:08.778611Z",
     "iopub.status.busy": "2021-09-16T02:00:08.776601Z",
     "iopub.status.idle": "2021-09-16T02:00:08.796504Z",
     "shell.execute_reply": "2021-09-16T02:00:08.797819Z"
    },
    "papermill": {
     "duration": 0.065726,
     "end_time": "2021-09-16T02:00:08.798242",
     "exception": false,
     "start_time": "2021-09-16T02:00:08.732516",
     "status": "completed"
    },
    "tags": []
   },
   "outputs": [
    {
     "data": {
      "text/html": [
       "<div>\n",
       "<style scoped>\n",
       "    .dataframe tbody tr th:only-of-type {\n",
       "        vertical-align: middle;\n",
       "    }\n",
       "\n",
       "    .dataframe tbody tr th {\n",
       "        vertical-align: top;\n",
       "    }\n",
       "\n",
       "    .dataframe thead th {\n",
       "        text-align: right;\n",
       "    }\n",
       "</style>\n",
       "<table border=\"1\" class=\"dataframe\">\n",
       "  <thead>\n",
       "    <tr style=\"text-align: right;\">\n",
       "      <th></th>\n",
       "      <th>RECORD_TIME</th>\n",
       "    </tr>\n",
       "  </thead>\n",
       "  <tbody>\n",
       "    <tr>\n",
       "      <th>0</th>\n",
       "      <td>2021-09-16 04:00</td>\n",
       "    </tr>\n",
       "    <tr>\n",
       "      <th>1</th>\n",
       "      <td>2021-09-16 03:30</td>\n",
       "    </tr>\n",
       "  </tbody>\n",
       "</table>\n",
       "</div>"
      ],
      "text/plain": [
       "        RECORD_TIME\n",
       "0  2021-09-16 04:00\n",
       "1  2021-09-16 03:30"
      ]
     },
     "execution_count": 3,
     "metadata": {},
     "output_type": "execute_result"
    }
   ],
   "source": [
    "timestamps"
   ]
  },
  {
   "cell_type": "code",
   "execution_count": 4,
   "id": "alternate-victory",
   "metadata": {
    "execution": {
     "iopub.execute_input": "2021-09-16T02:00:08.848691Z",
     "iopub.status.busy": "2021-09-16T02:00:08.846842Z",
     "iopub.status.idle": "2021-09-16T02:00:09.285808Z",
     "shell.execute_reply": "2021-09-16T02:00:09.287276Z"
    },
    "papermill": {
     "duration": 0.469126,
     "end_time": "2021-09-16T02:00:09.287712",
     "exception": false,
     "start_time": "2021-09-16T02:00:08.818586",
     "status": "completed"
    },
    "tags": []
   },
   "outputs": [],
   "source": [
    "df = pd.read_sql(\"select * from EBAY_TOP_BERLIN where record_time in (select distinct record_time from EBAY_TOP_BERLIN order by record_time desc limit 2)\", sqlite3.connect(\"UsedObjects.db\"))"
   ]
  },
  {
   "cell_type": "code",
   "execution_count": 5,
   "id": "popular-active",
   "metadata": {
    "execution": {
     "iopub.execute_input": "2021-09-16T02:00:09.366754Z",
     "iopub.status.busy": "2021-09-16T02:00:09.354235Z",
     "iopub.status.idle": "2021-09-16T02:00:09.383893Z",
     "shell.execute_reply": "2021-09-16T02:00:09.385299Z"
    },
    "papermill": {
     "duration": 0.072383,
     "end_time": "2021-09-16T02:00:09.385742",
     "exception": false,
     "start_time": "2021-09-16T02:00:09.313359",
     "status": "completed"
    },
    "tags": []
   },
   "outputs": [],
   "source": [
    "df_pivot = df.pivot_table(index=\"PRODUCT\", columns = \"RECORD_TIME\", values = \"LISTING_COUNT\")"
   ]
  },
  {
   "cell_type": "code",
   "execution_count": 6,
   "id": "union-huntington",
   "metadata": {
    "execution": {
     "iopub.execute_input": "2021-09-16T02:00:09.442763Z",
     "iopub.status.busy": "2021-09-16T02:00:09.440329Z",
     "iopub.status.idle": "2021-09-16T02:00:09.446297Z",
     "shell.execute_reply": "2021-09-16T02:00:09.447727Z"
    },
    "papermill": {
     "duration": 0.04224,
     "end_time": "2021-09-16T02:00:09.448176",
     "exception": false,
     "start_time": "2021-09-16T02:00:09.405936",
     "status": "completed"
    },
    "tags": []
   },
   "outputs": [],
   "source": [
    "df_pivot.columns = [\"stamp_1\", \"stamp_2\"]\n",
    "df_pivot_diff = df_pivot.diff(axis=1)"
   ]
  },
  {
   "cell_type": "code",
   "execution_count": 7,
   "id": "fifth-motion",
   "metadata": {
    "execution": {
     "iopub.execute_input": "2021-09-16T02:00:09.502414Z",
     "iopub.status.busy": "2021-09-16T02:00:09.500084Z",
     "iopub.status.idle": "2021-09-16T02:00:11.006779Z",
     "shell.execute_reply": "2021-09-16T02:00:11.008219Z"
    },
    "papermill": {
     "duration": 1.539249,
     "end_time": "2021-09-16T02:00:11.008649",
     "exception": false,
     "start_time": "2021-09-16T02:00:09.469400",
     "status": "completed"
    },
    "tags": []
   },
   "outputs": [
    {
     "data": {
      "text/plain": [
       "<AxesSubplot:ylabel='PRODUCT'>"
      ]
     },
     "execution_count": 7,
     "metadata": {},
     "output_type": "execute_result"
    },
    {
     "data": {
      "image/png": "[encoded data removed]",
      "text/plain": [
       "<Figure size 432x288 with 1 Axes>"
      ]
     },
     "metadata": {
      "needs_background": "light"
     },
     "output_type": "display_data"
    }
   ],
   "source": [
    "df_pivot_diff.sort_values(\"stamp_2\", ascending = False)[\"stamp_2\"].head(10).plot.barh()"
   ]
  },
  {
   "cell_type": "code",
   "execution_count": null,
   "id": "extra-executive",
   "metadata": {
    "papermill": {
     "duration": 0.022033,
     "end_time": "2021-09-16T02:00:11.054477",
     "exception": false,
     "start_time": "2021-09-16T02:00:11.032444",
     "status": "completed"
    },
    "tags": []
   },
   "outputs": [],
   "source": []
  }
 ],
 "metadata": {
  "kernelspec": {
   "display_name": "Python 3",
   "language": "python",
   "name": "python3"
  },
  "language_info": {
   "codemirror_mode": {
    "name": "ipython",
    "version": 3
   },
   "file_extension": ".py",
   "mimetype": "text/x-python",
   "name": "python",
   "nbconvert_exporter": "python",
   "pygments_lexer": "ipython3",
   "version": "3.9.5"
  },
  "papermill": {
   "default_parameters": {},
   "duration": 6.570069,
   "end_time": "2021-09-16T02:00:11.696978",
   "environment_variables": {},
   "exception": null,
   "input_path": "eBay_Overview.ipynb",
   "output_path": "eBay_Overview.ipynb",
   "parameters": {},
   "start_time": "2021-09-16T02:00:05.126909",
   "version": "2.3.3"
  }
 },
 "nbformat": 4,
 "nbformat_minor": 5
}