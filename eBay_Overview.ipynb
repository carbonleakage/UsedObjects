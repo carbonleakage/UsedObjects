{
 "cells": [
  {
   "cell_type": "code",
   "execution_count": 1,
   "id": "reverse-picking",
   "metadata": {
    "execution": {
     "iopub.execute_input": "2021-11-22T16:30:07.906286Z",
     "iopub.status.busy": "2021-11-22T16:30:07.903519Z",
     "iopub.status.idle": "2021-11-22T16:30:08.867839Z",
     "shell.execute_reply": "2021-11-22T16:30:08.869946Z"
    },
    "papermill": {
     "duration": 1.015233,
     "end_time": "2021-11-22T16:30:08.870716",
     "exception": false,
     "start_time": "2021-11-22T16:30:07.855483",
     "status": "completed"
    },
    "tags": []
   },
   "outputs": [],
   "source": [
    "import pandas as pd\n",
    "import sqlite3"
   ]
  },
  {
   "cell_type": "code",
   "execution_count": 2,
   "id": "innovative-syndrome",
   "metadata": {
    "execution": {
     "iopub.execute_input": "2021-11-22T16:30:08.987974Z",
     "iopub.status.busy": "2021-11-22T16:30:08.985730Z",
     "iopub.status.idle": "2021-11-22T16:30:09.883242Z",
     "shell.execute_reply": "2021-11-22T16:30:09.885544Z"
    },
    "papermill": {
     "duration": 0.933479,
     "end_time": "2021-11-22T16:30:09.886033",
     "exception": false,
     "start_time": "2021-11-22T16:30:08.952554",
     "status": "completed"
    },
    "tags": []
   },
   "outputs": [],
   "source": [
    "timestamps = pd.read_sql(\"select distinct record_time from EBAY_TOP_BERLIN order by record_time desc limit 2\", sqlite3.connect(\"UsedObjects.db\"))"
   ]
  },
  {
   "cell_type": "code",
   "execution_count": 3,
   "id": "periodic-identification",
   "metadata": {
    "execution": {
     "iopub.execute_input": "2021-11-22T16:30:09.958095Z",
     "iopub.status.busy": "2021-11-22T16:30:09.955606Z",
     "iopub.status.idle": "2021-11-22T16:30:09.981686Z",
     "shell.execute_reply": "2021-11-22T16:30:09.983718Z"
    },
    "papermill": {
     "duration": 0.077028,
     "end_time": "2021-11-22T16:30:09.984207",
     "exception": false,
     "start_time": "2021-11-22T16:30:09.907179",
     "status": "completed"
    },
    "tags": []
   },
   "outputs": [
    {
     "data": {
      "text/html": [
       "<div>\n",
       "<style scoped>\n",
       "    .dataframe tbody tr th:only-of-type {\n",
       "        vertical-align: middle;\n",
       "    }\n",
       "\n",
       "    .dataframe tbody tr th {\n",
       "        vertical-align: top;\n",
       "    }\n",
       "\n",
       "    .dataframe thead th {\n",
       "        text-align: right;\n",
       "    }\n",
       "</style>\n",
       "<table border=\"1\" class=\"dataframe\">\n",
       "  <thead>\n",
       "    <tr style=\"text-align: right;\">\n",
       "      <th></th>\n",
       "      <th>RECORD_TIME</th>\n",
       "    </tr>\n",
       "  </thead>\n",
       "  <tbody>\n",
       "    <tr>\n",
       "      <th>0</th>\n",
       "      <td>2021-11-22 17:30</td>\n",
       "    </tr>\n",
       "    <tr>\n",
       "      <th>1</th>\n",
       "      <td>2021-11-22 17:00</td>\n",
       "    </tr>\n",
       "  </tbody>\n",
       "</table>\n",
       "</div>"
      ],
      "text/plain": [
       "        RECORD_TIME\n",
       "0  2021-11-22 17:30\n",
       "1  2021-11-22 17:00"
      ]
     },
     "execution_count": 3,
     "metadata": {},
     "output_type": "execute_result"
    }
   ],
   "source": [
    "timestamps"
   ]
  },
  {
   "cell_type": "code",
   "execution_count": 4,
   "id": "alternate-victory",
   "metadata": {
    "execution": {
     "iopub.execute_input": "2021-11-22T16:30:10.035469Z",
     "iopub.status.busy": "2021-11-22T16:30:10.033442Z",
     "iopub.status.idle": "2021-11-22T16:30:11.324006Z",
     "shell.execute_reply": "2021-11-22T16:30:11.325456Z"
    },
    "papermill": {
     "duration": 1.321455,
     "end_time": "2021-11-22T16:30:11.325929",
     "exception": false,
     "start_time": "2021-11-22T16:30:10.004474",
     "status": "completed"
    },
    "tags": []
   },
   "outputs": [],
   "source": [
    "df = pd.read_sql(\"select * from EBAY_TOP_BERLIN where record_time in (select distinct record_time from EBAY_TOP_BERLIN order by record_time desc limit 2)\", sqlite3.connect(\"UsedObjects.db\"))"
   ]
  },
  {
   "cell_type": "code",
   "execution_count": 5,
   "id": "popular-active",
   "metadata": {
    "execution": {
     "iopub.execute_input": "2021-11-22T16:30:11.404646Z",
     "iopub.status.busy": "2021-11-22T16:30:11.390822Z",
     "iopub.status.idle": "2021-11-22T16:30:11.423502Z",
     "shell.execute_reply": "2021-11-22T16:30:11.424980Z"
    },
    "papermill": {
     "duration": 0.077115,
     "end_time": "2021-11-22T16:30:11.425464",
     "exception": false,
     "start_time": "2021-11-22T16:30:11.348349",
     "status": "completed"
    },
    "tags": []
   },
   "outputs": [],
   "source": [
    "df_pivot = df.pivot_table(index=\"PRODUCT\", columns = \"RECORD_TIME\", values = \"LISTING_COUNT\")"
   ]
  },
  {
   "cell_type": "code",
   "execution_count": 6,
   "id": "union-huntington",
   "metadata": {
    "execution": {
     "iopub.execute_input": "2021-11-22T16:30:11.483486Z",
     "iopub.status.busy": "2021-11-22T16:30:11.481287Z",
     "iopub.status.idle": "2021-11-22T16:30:11.487206Z",
     "shell.execute_reply": "2021-11-22T16:30:11.488532Z"
    },
    "papermill": {
     "duration": 0.043496,
     "end_time": "2021-11-22T16:30:11.489058",
     "exception": false,
     "start_time": "2021-11-22T16:30:11.445562",
     "status": "completed"
    },
    "tags": []
   },
   "outputs": [],
   "source": [
    "df_pivot.columns = [\"stamp_1\", \"stamp_2\"]\n",
    "df_pivot_diff = df_pivot.diff(axis=1)"
   ]
  },
  {
   "cell_type": "code",
   "execution_count": 7,
   "id": "fifth-motion",
   "metadata": {
    "execution": {
     "iopub.execute_input": "2021-11-22T16:30:11.548929Z",
     "iopub.status.busy": "2021-11-22T16:30:11.545490Z",
     "iopub.status.idle": "2021-11-22T16:30:13.481517Z",
     "shell.execute_reply": "2021-11-22T16:30:13.483542Z"
    },
    "papermill": {
     "duration": 1.974481,
     "end_time": "2021-11-22T16:30:13.484175",
     "exception": false,
     "start_time": "2021-11-22T16:30:11.509694",
     "status": "completed"
    },
    "tags": []
   },
   "outputs": [
    {
     "data": {
      "text/plain": [
       "<AxesSubplot:ylabel='PRODUCT'>"
      ]
     },
     "execution_count": 7,
     "metadata": {},
     "output_type": "execute_result"
    },
    {
     "data": {
      "image/png": "[encoded data removed]",
      "text/plain": [
       "<Figure size 432x288 with 1 Axes>"
      ]
     },
     "metadata": {
      "needs_background": "light"
     },
     "output_type": "display_data"
    }
   ],
   "source": [
    "df_pivot_diff.sort_values(\"stamp_2\", ascending = False)[\"stamp_2\"].head(10).plot.barh()"
   ]
  },
  {
   "cell_type": "code",
   "execution_count": null,
   "id": "extra-executive",
   "metadata": {
    "papermill": {
     "duration": 0.036756,
     "end_time": "2021-11-22T16:30:13.557024",
     "exception": false,
     "start_time": "2021-11-22T16:30:13.520268",
     "status": "completed"
    },
    "tags": []
   },
   "outputs": [],
   "source": []
  }
 ],
 "metadata": {
  "kernelspec": {
   "display_name": "Python 3",
   "language": "python",
   "name": "python3"
  },
  "language_info": {
   "codemirror_mode": {
    "name": "ipython",
    "version": 3
   },
   "file_extension": ".py",
   "mimetype": "text/x-python",
   "name": "python",
   "nbconvert_exporter": "python",
   "pygments_lexer": "ipython3",
   "version": "3.9.5"
  },
  "papermill": {
   "default_parameters": {},
   "duration": 9.939952,
   "end_time": "2021-11-22T16:30:15.066533",
   "environment_variables": {},
   "exception": null,
   "input_path": "eBay_Overview.ipynb",
   "output_path": "eBay_Overview.ipynb",
   "parameters": {},
   "start_time": "2021-11-22T16:30:05.126581",
   "version": "2.3.3"
  }
 },
 "nbformat": 4,
 "nbformat_minor": 5
}