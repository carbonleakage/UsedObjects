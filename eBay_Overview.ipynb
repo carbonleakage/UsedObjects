{
 "cells": [
  {
   "cell_type": "code",
   "execution_count": 1,
   "id": "reverse-picking",
   "metadata": {
    "execution": {
     "iopub.execute_input": "2021-09-16T13:00:06.787199Z",
     "iopub.status.busy": "2021-09-16T13:00:06.785137Z",
     "iopub.status.idle": "2021-09-16T13:00:07.587783Z",
     "shell.execute_reply": "2021-09-16T13:00:07.589234Z"
    },
    "papermill": {
     "duration": 0.854395,
     "end_time": "2021-09-16T13:00:07.589906",
     "exception": false,
     "start_time": "2021-09-16T13:00:06.735511",
     "status": "completed"
    },
    "tags": []
   },
   "outputs": [],
   "source": [
    "import pandas as pd\n",
    "import sqlite3"
   ]
  },
  {
   "cell_type": "code",
   "execution_count": 2,
   "id": "innovative-syndrome",
   "metadata": {
    "execution": {
     "iopub.execute_input": "2021-09-16T13:00:07.642162Z",
     "iopub.status.busy": "2021-09-16T13:00:07.640135Z",
     "iopub.status.idle": "2021-09-16T13:00:07.944901Z",
     "shell.execute_reply": "2021-09-16T13:00:07.946020Z"
    },
    "papermill": {
     "duration": 0.335239,
     "end_time": "2021-09-16T13:00:07.946430",
     "exception": false,
     "start_time": "2021-09-16T13:00:07.611191",
     "status": "completed"
    },
    "tags": []
   },
   "outputs": [],
   "source": [
    "timestamps = pd.read_sql(\"select distinct record_time from EBAY_TOP_BERLIN order by record_time desc limit 2\", sqlite3.connect(\"UsedObjects.db\"))"
   ]
  },
  {
   "cell_type": "code",
   "execution_count": 3,
   "id": "periodic-identification",
   "metadata": {
    "execution": {
     "iopub.execute_input": "2021-09-16T13:00:08.018110Z",
     "iopub.status.busy": "2021-09-16T13:00:08.012871Z",
     "iopub.status.idle": "2021-09-16T13:00:08.032816Z",
     "shell.execute_reply": "2021-09-16T13:00:08.034099Z"
    },
    "papermill": {
     "duration": 0.066249,
     "end_time": "2021-09-16T13:00:08.034517",
     "exception": false,
     "start_time": "2021-09-16T13:00:07.968268",
     "status": "completed"
    },
    "tags": []
   },
   "outputs": [
    {
     "data": {
      "text/html": [
       "<div>\n",
       "<style scoped>\n",
       "    .dataframe tbody tr th:only-of-type {\n",
       "        vertical-align: middle;\n",
       "    }\n",
       "\n",
       "    .dataframe tbody tr th {\n",
       "        vertical-align: top;\n",
       "    }\n",
       "\n",
       "    .dataframe thead th {\n",
       "        text-align: right;\n",
       "    }\n",
       "</style>\n",
       "<table border=\"1\" class=\"dataframe\">\n",
       "  <thead>\n",
       "    <tr style=\"text-align: right;\">\n",
       "      <th></th>\n",
       "      <th>RECORD_TIME</th>\n",
       "    </tr>\n",
       "  </thead>\n",
       "  <tbody>\n",
       "    <tr>\n",
       "      <th>0</th>\n",
       "      <td>2021-09-16 15:00</td>\n",
       "    </tr>\n",
       "    <tr>\n",
       "      <th>1</th>\n",
       "      <td>2021-09-16 14:30</td>\n",
       "    </tr>\n",
       "  </tbody>\n",
       "</table>\n",
       "</div>"
      ],
      "text/plain": [
       "        RECORD_TIME\n",
       "0  2021-09-16 15:00\n",
       "1  2021-09-16 14:30"
      ]
     },
     "execution_count": 3,
     "metadata": {},
     "output_type": "execute_result"
    }
   ],
   "source": [
    "timestamps"
   ]
  },
  {
   "cell_type": "code",
   "execution_count": 4,
   "id": "alternate-victory",
   "metadata": {
    "execution": {
     "iopub.execute_input": "2021-09-16T13:00:08.095437Z",
     "iopub.status.busy": "2021-09-16T13:00:08.093465Z",
     "iopub.status.idle": "2021-09-16T13:00:08.529627Z",
     "shell.execute_reply": "2021-09-16T13:00:08.530986Z"
    },
    "papermill": {
     "duration": 0.47094,
     "end_time": "2021-09-16T13:00:08.531416",
     "exception": false,
     "start_time": "2021-09-16T13:00:08.060476",
     "status": "completed"
    },
    "tags": []
   },
   "outputs": [],
   "source": [
    "df = pd.read_sql(\"select * from EBAY_TOP_BERLIN where record_time in (select distinct record_time from EBAY_TOP_BERLIN order by record_time desc limit 2)\", sqlite3.connect(\"UsedObjects.db\"))"
   ]
  },
  {
   "cell_type": "code",
   "execution_count": 5,
   "id": "popular-active",
   "metadata": {
    "execution": {
     "iopub.execute_input": "2021-09-16T13:00:08.602515Z",
     "iopub.status.busy": "2021-09-16T13:00:08.589846Z",
     "iopub.status.idle": "2021-09-16T13:00:08.620569Z",
     "shell.execute_reply": "2021-09-16T13:00:08.621938Z"
    },
    "papermill": {
     "duration": 0.070332,
     "end_time": "2021-09-16T13:00:08.622376",
     "exception": false,
     "start_time": "2021-09-16T13:00:08.552044",
     "status": "completed"
    },
    "tags": []
   },
   "outputs": [],
   "source": [
    "df_pivot = df.pivot_table(index=\"PRODUCT\", columns = \"RECORD_TIME\", values = \"LISTING_COUNT\")"
   ]
  },
  {
   "cell_type": "code",
   "execution_count": 6,
   "id": "union-huntington",
   "metadata": {
    "execution": {
     "iopub.execute_input": "2021-09-16T13:00:08.679019Z",
     "iopub.status.busy": "2021-09-16T13:00:08.676901Z",
     "iopub.status.idle": "2021-09-16T13:00:08.682538Z",
     "shell.execute_reply": "2021-09-16T13:00:08.683808Z"
    },
    "papermill": {
     "duration": 0.041603,
     "end_time": "2021-09-16T13:00:08.684243",
     "exception": false,
     "start_time": "2021-09-16T13:00:08.642640",
     "status": "completed"
    },
    "tags": []
   },
   "outputs": [],
   "source": [
    "df_pivot.columns = [\"stamp_1\", \"stamp_2\"]\n",
    "df_pivot_diff = df_pivot.diff(axis=1)"
   ]
  },
  {
   "cell_type": "code",
   "execution_count": 7,
   "id": "fifth-motion",
   "metadata": {
    "execution": {
     "iopub.execute_input": "2021-09-16T13:00:08.741996Z",
     "iopub.status.busy": "2021-09-16T13:00:08.739365Z",
     "iopub.status.idle": "2021-09-16T13:00:10.257688Z",
     "shell.execute_reply": "2021-09-16T13:00:10.259241Z"
    },
    "papermill": {
     "duration": 1.552312,
     "end_time": "2021-09-16T13:00:10.259711",
     "exception": false,
     "start_time": "2021-09-16T13:00:08.707399",
     "status": "completed"
    },
    "tags": []
   },
   "outputs": [
    {
     "data": {
      "text/plain": [
       "<AxesSubplot:ylabel='PRODUCT'>"
      ]
     },
     "execution_count": 7,
     "metadata": {},
     "output_type": "execute_result"
    },
    {
     "data": {
      "image/png": "[encoded data removed]",
      "text/plain": [
       "<Figure size 432x288 with 1 Axes>"
      ]
     },
     "metadata": {
      "needs_background": "light"
     },
     "output_type": "display_data"
    }
   ],
   "source": [
    "df_pivot_diff.sort_values(\"stamp_2\", ascending = False)[\"stamp_2\"].head(10).plot.barh()"
   ]
  },
  {
   "cell_type": "code",
   "execution_count": null,
   "id": "extra-executive",
   "metadata": {
    "papermill": {
     "duration": 0.022285,
     "end_time": "2021-09-16T13:00:10.307301",
     "exception": false,
     "start_time": "2021-09-16T13:00:10.285016",
     "status": "completed"
    },
    "tags": []
   },
   "outputs": [],
   "source": []
  }
 ],
 "metadata": {
  "kernelspec": {
   "display_name": "Python 3",
   "language": "python",
   "name": "python3"
  },
  "language_info": {
   "codemirror_mode": {
    "name": "ipython",
    "version": 3
   },
   "file_extension": ".py",
   "mimetype": "text/x-python",
   "name": "python",
   "nbconvert_exporter": "python",
   "pygments_lexer": "ipython3",
   "version": "3.9.5"
  },
  "papermill": {
   "default_parameters": {},
   "duration": 6.806684,
   "end_time": "2021-09-16T13:00:10.950174",
   "environment_variables": {},
   "exception": null,
   "input_path": "eBay_Overview.ipynb",
   "output_path": "eBay_Overview.ipynb",
   "parameters": {},
   "start_time": "2021-09-16T13:00:04.143490",
   "version": "2.3.3"
  }
 },
 "nbformat": 4,
 "nbformat_minor": 5
}