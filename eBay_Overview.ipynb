{
 "cells": [
  {
   "cell_type": "code",
   "execution_count": 1,
   "id": "reverse-picking",
   "metadata": {
    "execution": {
     "iopub.execute_input": "2021-10-04T16:00:07.344826Z",
     "iopub.status.busy": "2021-10-04T16:00:07.342736Z",
     "iopub.status.idle": "2021-10-04T16:00:08.153445Z",
     "shell.execute_reply": "2021-10-04T16:00:08.154699Z"
    },
    "papermill": {
     "duration": 0.863228,
     "end_time": "2021-10-04T16:00:08.155505",
     "exception": false,
     "start_time": "2021-10-04T16:00:07.292277",
     "status": "completed"
    },
    "tags": []
   },
   "outputs": [],
   "source": [
    "import pandas as pd\n",
    "import sqlite3"
   ]
  },
  {
   "cell_type": "code",
   "execution_count": 2,
   "id": "innovative-syndrome",
   "metadata": {
    "execution": {
     "iopub.execute_input": "2021-10-04T16:00:08.208679Z",
     "iopub.status.busy": "2021-10-04T16:00:08.206260Z",
     "iopub.status.idle": "2021-10-04T16:00:08.654988Z",
     "shell.execute_reply": "2021-10-04T16:00:08.656199Z"
    },
    "papermill": {
     "duration": 0.47861,
     "end_time": "2021-10-04T16:00:08.656587",
     "exception": false,
     "start_time": "2021-10-04T16:00:08.177977",
     "status": "completed"
    },
    "tags": []
   },
   "outputs": [],
   "source": [
    "timestamps = pd.read_sql(\"select distinct record_time from EBAY_TOP_BERLIN order by record_time desc limit 2\", sqlite3.connect(\"UsedObjects.db\"))"
   ]
  },
  {
   "cell_type": "code",
   "execution_count": 3,
   "id": "periodic-identification",
   "metadata": {
    "execution": {
     "iopub.execute_input": "2021-10-04T16:00:08.725887Z",
     "iopub.status.busy": "2021-10-04T16:00:08.723793Z",
     "iopub.status.idle": "2021-10-04T16:00:08.743985Z",
     "shell.execute_reply": "2021-10-04T16:00:08.745326Z"
    },
    "papermill": {
     "duration": 0.0664,
     "end_time": "2021-10-04T16:00:08.745736",
     "exception": false,
     "start_time": "2021-10-04T16:00:08.679336",
     "status": "completed"
    },
    "tags": []
   },
   "outputs": [
    {
     "data": {
      "text/html": [
       "<div>\n",
       "<style scoped>\n",
       "    .dataframe tbody tr th:only-of-type {\n",
       "        vertical-align: middle;\n",
       "    }\n",
       "\n",
       "    .dataframe tbody tr th {\n",
       "        vertical-align: top;\n",
       "    }\n",
       "\n",
       "    .dataframe thead th {\n",
       "        text-align: right;\n",
       "    }\n",
       "</style>\n",
       "<table border=\"1\" class=\"dataframe\">\n",
       "  <thead>\n",
       "    <tr style=\"text-align: right;\">\n",
       "      <th></th>\n",
       "      <th>RECORD_TIME</th>\n",
       "    </tr>\n",
       "  </thead>\n",
       "  <tbody>\n",
       "    <tr>\n",
       "      <th>0</th>\n",
       "      <td>2021-10-04 18:00</td>\n",
       "    </tr>\n",
       "    <tr>\n",
       "      <th>1</th>\n",
       "      <td>2021-10-04 17:30</td>\n",
       "    </tr>\n",
       "  </tbody>\n",
       "</table>\n",
       "</div>"
      ],
      "text/plain": [
       "        RECORD_TIME\n",
       "0  2021-10-04 18:00\n",
       "1  2021-10-04 17:30"
      ]
     },
     "execution_count": 3,
     "metadata": {},
     "output_type": "execute_result"
    }
   ],
   "source": [
    "timestamps"
   ]
  },
  {
   "cell_type": "code",
   "execution_count": 4,
   "id": "alternate-victory",
   "metadata": {
    "execution": {
     "iopub.execute_input": "2021-10-04T16:00:08.806972Z",
     "iopub.status.busy": "2021-10-04T16:00:08.805042Z",
     "iopub.status.idle": "2021-10-04T16:00:09.459107Z",
     "shell.execute_reply": "2021-10-04T16:00:09.460473Z"
    },
    "papermill": {
     "duration": 0.689042,
     "end_time": "2021-10-04T16:00:09.460876",
     "exception": false,
     "start_time": "2021-10-04T16:00:08.771834",
     "status": "completed"
    },
    "tags": []
   },
   "outputs": [],
   "source": [
    "df = pd.read_sql(\"select * from EBAY_TOP_BERLIN where record_time in (select distinct record_time from EBAY_TOP_BERLIN order by record_time desc limit 2)\", sqlite3.connect(\"UsedObjects.db\"))"
   ]
  },
  {
   "cell_type": "code",
   "execution_count": 5,
   "id": "popular-active",
   "metadata": {
    "execution": {
     "iopub.execute_input": "2021-10-04T16:00:09.530678Z",
     "iopub.status.busy": "2021-10-04T16:00:09.519342Z",
     "iopub.status.idle": "2021-10-04T16:00:09.548375Z",
     "shell.execute_reply": "2021-10-04T16:00:09.549747Z"
    },
    "papermill": {
     "duration": 0.068815,
     "end_time": "2021-10-04T16:00:09.550178",
     "exception": false,
     "start_time": "2021-10-04T16:00:09.481363",
     "status": "completed"
    },
    "tags": []
   },
   "outputs": [],
   "source": [
    "df_pivot = df.pivot_table(index=\"PRODUCT\", columns = \"RECORD_TIME\", values = \"LISTING_COUNT\")"
   ]
  },
  {
   "cell_type": "code",
   "execution_count": 6,
   "id": "union-huntington",
   "metadata": {
    "execution": {
     "iopub.execute_input": "2021-10-04T16:00:09.606873Z",
     "iopub.status.busy": "2021-10-04T16:00:09.604785Z",
     "iopub.status.idle": "2021-10-04T16:00:09.610174Z",
     "shell.execute_reply": "2021-10-04T16:00:09.611440Z"
    },
    "papermill": {
     "duration": 0.04135,
     "end_time": "2021-10-04T16:00:09.611871",
     "exception": false,
     "start_time": "2021-10-04T16:00:09.570521",
     "status": "completed"
    },
    "tags": []
   },
   "outputs": [],
   "source": [
    "df_pivot.columns = [\"stamp_1\", \"stamp_2\"]\n",
    "df_pivot_diff = df_pivot.diff(axis=1)"
   ]
  },
  {
   "cell_type": "code",
   "execution_count": 7,
   "id": "fifth-motion",
   "metadata": {
    "execution": {
     "iopub.execute_input": "2021-10-04T16:00:09.666278Z",
     "iopub.status.busy": "2021-10-04T16:00:09.663912Z",
     "iopub.status.idle": "2021-10-04T16:00:11.130339Z",
     "shell.execute_reply": "2021-10-04T16:00:11.131685Z"
    },
    "papermill": {
     "duration": 1.499699,
     "end_time": "2021-10-04T16:00:11.132110",
     "exception": false,
     "start_time": "2021-10-04T16:00:09.632411",
     "status": "completed"
    },
    "tags": []
   },
   "outputs": [
    {
     "data": {
      "text/plain": [
       "<AxesSubplot:ylabel='PRODUCT'>"
      ]
     },
     "execution_count": 7,
     "metadata": {},
     "output_type": "execute_result"
    },
    {
     "data": {
      "image/png": "[encoded data removed]",
      "text/plain": [
       "<Figure size 432x288 with 1 Axes>"
      ]
     },
     "metadata": {
      "needs_background": "light"
     },
     "output_type": "display_data"
    }
   ],
   "source": [
    "df_pivot_diff.sort_values(\"stamp_2\", ascending = False)[\"stamp_2\"].head(10).plot.barh()"
   ]
  },
  {
   "cell_type": "code",
   "execution_count": null,
   "id": "extra-executive",
   "metadata": {
    "papermill": {
     "duration": 0.022286,
     "end_time": "2021-10-04T16:00:11.179303",
     "exception": false,
     "start_time": "2021-10-04T16:00:11.157017",
     "status": "completed"
    },
    "tags": []
   },
   "outputs": [],
   "source": []
  }
 ],
 "metadata": {
  "kernelspec": {
   "display_name": "Python 3",
   "language": "python",
   "name": "python3"
  },
  "language_info": {
   "codemirror_mode": {
    "name": "ipython",
    "version": 3
   },
   "file_extension": ".py",
   "mimetype": "text/x-python",
   "name": "python",
   "nbconvert_exporter": "python",
   "pygments_lexer": "ipython3",
   "version": "3.9.5"
  },
  "papermill": {
   "default_parameters": {},
   "duration": 7.822637,
   "end_time": "2021-10-04T16:00:12.707164",
   "environment_variables": {},
   "exception": null,
   "input_path": "eBay_Overview.ipynb",
   "output_path": "eBay_Overview.ipynb",
   "parameters": {},
   "start_time": "2021-10-04T16:00:04.884527",
   "version": "2.3.3"
  }
 },
 "nbformat": 4,
 "nbformat_minor": 5
}