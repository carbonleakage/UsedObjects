{
 "cells": [
  {
   "cell_type": "code",
   "execution_count": 1,
   "id": "reverse-picking",
   "metadata": {
    "execution": {
     "iopub.execute_input": "2021-09-25T17:00:06.910984Z",
     "iopub.status.busy": "2021-09-25T17:00:06.908976Z",
     "iopub.status.idle": "2021-09-25T17:00:07.713985Z",
     "shell.execute_reply": "2021-09-25T17:00:07.715387Z"
    },
    "papermill": {
     "duration": 0.856833,
     "end_time": "2021-09-25T17:00:07.716040",
     "exception": false,
     "start_time": "2021-09-25T17:00:06.859207",
     "status": "completed"
    },
    "tags": []
   },
   "outputs": [],
   "source": [
    "import pandas as pd\n",
    "import sqlite3"
   ]
  },
  {
   "cell_type": "code",
   "execution_count": 2,
   "id": "innovative-syndrome",
   "metadata": {
    "execution": {
     "iopub.execute_input": "2021-09-25T17:00:07.766898Z",
     "iopub.status.busy": "2021-09-25T17:00:07.764920Z",
     "iopub.status.idle": "2021-09-25T17:00:08.137222Z",
     "shell.execute_reply": "2021-09-25T17:00:08.138423Z"
    },
    "papermill": {
     "duration": 0.402482,
     "end_time": "2021-09-25T17:00:08.138874",
     "exception": false,
     "start_time": "2021-09-25T17:00:07.736392",
     "status": "completed"
    },
    "tags": []
   },
   "outputs": [],
   "source": [
    "timestamps = pd.read_sql(\"select distinct record_time from EBAY_TOP_BERLIN order by record_time desc limit 2\", sqlite3.connect(\"UsedObjects.db\"))"
   ]
  },
  {
   "cell_type": "code",
   "execution_count": 3,
   "id": "periodic-identification",
   "metadata": {
    "execution": {
     "iopub.execute_input": "2021-09-25T17:00:08.201818Z",
     "iopub.status.busy": "2021-09-25T17:00:08.199827Z",
     "iopub.status.idle": "2021-09-25T17:00:08.219722Z",
     "shell.execute_reply": "2021-09-25T17:00:08.221041Z"
    },
    "papermill": {
     "duration": 0.063112,
     "end_time": "2021-09-25T17:00:08.221461",
     "exception": false,
     "start_time": "2021-09-25T17:00:08.158349",
     "status": "completed"
    },
    "tags": []
   },
   "outputs": [
    {
     "data": {
      "text/html": [
       "<div>\n",
       "<style scoped>\n",
       "    .dataframe tbody tr th:only-of-type {\n",
       "        vertical-align: middle;\n",
       "    }\n",
       "\n",
       "    .dataframe tbody tr th {\n",
       "        vertical-align: top;\n",
       "    }\n",
       "\n",
       "    .dataframe thead th {\n",
       "        text-align: right;\n",
       "    }\n",
       "</style>\n",
       "<table border=\"1\" class=\"dataframe\">\n",
       "  <thead>\n",
       "    <tr style=\"text-align: right;\">\n",
       "      <th></th>\n",
       "      <th>RECORD_TIME</th>\n",
       "    </tr>\n",
       "  </thead>\n",
       "  <tbody>\n",
       "    <tr>\n",
       "      <th>0</th>\n",
       "      <td>2021-09-25 19:00</td>\n",
       "    </tr>\n",
       "    <tr>\n",
       "      <th>1</th>\n",
       "      <td>2021-09-25 18:30</td>\n",
       "    </tr>\n",
       "  </tbody>\n",
       "</table>\n",
       "</div>"
      ],
      "text/plain": [
       "        RECORD_TIME\n",
       "0  2021-09-25 19:00\n",
       "1  2021-09-25 18:30"
      ]
     },
     "execution_count": 3,
     "metadata": {},
     "output_type": "execute_result"
    }
   ],
   "source": [
    "timestamps"
   ]
  },
  {
   "cell_type": "code",
   "execution_count": 4,
   "id": "alternate-victory",
   "metadata": {
    "execution": {
     "iopub.execute_input": "2021-09-25T17:00:08.273941Z",
     "iopub.status.busy": "2021-09-25T17:00:08.271493Z",
     "iopub.status.idle": "2021-09-25T17:00:08.821883Z",
     "shell.execute_reply": "2021-09-25T17:00:08.823309Z"
    },
    "papermill": {
     "duration": 0.581112,
     "end_time": "2021-09-25T17:00:08.823733",
     "exception": false,
     "start_time": "2021-09-25T17:00:08.242621",
     "status": "completed"
    },
    "tags": []
   },
   "outputs": [],
   "source": [
    "df = pd.read_sql(\"select * from EBAY_TOP_BERLIN where record_time in (select distinct record_time from EBAY_TOP_BERLIN order by record_time desc limit 2)\", sqlite3.connect(\"UsedObjects.db\"))"
   ]
  },
  {
   "cell_type": "code",
   "execution_count": 5,
   "id": "popular-active",
   "metadata": {
    "execution": {
     "iopub.execute_input": "2021-09-25T17:00:08.895227Z",
     "iopub.status.busy": "2021-09-25T17:00:08.883809Z",
     "iopub.status.idle": "2021-09-25T17:00:08.910572Z",
     "shell.execute_reply": "2021-09-25T17:00:08.911867Z"
    },
    "papermill": {
     "duration": 0.06816,
     "end_time": "2021-09-25T17:00:08.912277",
     "exception": false,
     "start_time": "2021-09-25T17:00:08.844117",
     "status": "completed"
    },
    "tags": []
   },
   "outputs": [],
   "source": [
    "df_pivot = df.pivot_table(index=\"PRODUCT\", columns = \"RECORD_TIME\", values = \"LISTING_COUNT\")"
   ]
  },
  {
   "cell_type": "code",
   "execution_count": 6,
   "id": "union-huntington",
   "metadata": {
    "execution": {
     "iopub.execute_input": "2021-09-25T17:00:08.970147Z",
     "iopub.status.busy": "2021-09-25T17:00:08.967884Z",
     "iopub.status.idle": "2021-09-25T17:00:08.973403Z",
     "shell.execute_reply": "2021-09-25T17:00:08.974841Z"
    },
    "papermill": {
     "duration": 0.041458,
     "end_time": "2021-09-25T17:00:08.975263",
     "exception": false,
     "start_time": "2021-09-25T17:00:08.933805",
     "status": "completed"
    },
    "tags": []
   },
   "outputs": [],
   "source": [
    "df_pivot.columns = [\"stamp_1\", \"stamp_2\"]\n",
    "df_pivot_diff = df_pivot.diff(axis=1)"
   ]
  },
  {
   "cell_type": "code",
   "execution_count": 7,
   "id": "fifth-motion",
   "metadata": {
    "execution": {
     "iopub.execute_input": "2021-09-25T17:00:09.029715Z",
     "iopub.status.busy": "2021-09-25T17:00:09.027373Z",
     "iopub.status.idle": "2021-09-25T17:00:10.517954Z",
     "shell.execute_reply": "2021-09-25T17:00:10.519479Z"
    },
    "papermill": {
     "duration": 1.524616,
     "end_time": "2021-09-25T17:00:10.519962",
     "exception": false,
     "start_time": "2021-09-25T17:00:08.995346",
     "status": "completed"
    },
    "tags": []
   },
   "outputs": [
    {
     "data": {
      "text/plain": [
       "<AxesSubplot:ylabel='PRODUCT'>"
      ]
     },
     "execution_count": 7,
     "metadata": {},
     "output_type": "execute_result"
    },
    {
     "data": {
      "image/png": "[encoded data removed]",
      "text/plain": [
       "<Figure size 432x288 with 1 Axes>"
      ]
     },
     "metadata": {
      "needs_background": "light"
     },
     "output_type": "display_data"
    }
   ],
   "source": [
    "df_pivot_diff.sort_values(\"stamp_2\", ascending = False)[\"stamp_2\"].head(10).plot.barh()"
   ]
  },
  {
   "cell_type": "code",
   "execution_count": null,
   "id": "extra-executive",
   "metadata": {
    "papermill": {
     "duration": 0.022623,
     "end_time": "2021-09-25T17:00:10.567530",
     "exception": false,
     "start_time": "2021-09-25T17:00:10.544907",
     "status": "completed"
    },
    "tags": []
   },
   "outputs": [],
   "source": []
  }
 ],
 "metadata": {
  "kernelspec": {
   "display_name": "Python 3",
   "language": "python",
   "name": "python3"
  },
  "language_info": {
   "codemirror_mode": {
    "name": "ipython",
    "version": 3
   },
   "file_extension": ".py",
   "mimetype": "text/x-python",
   "name": "python",
   "nbconvert_exporter": "python",
   "pygments_lexer": "ipython3",
   "version": "3.9.5"
  },
  "papermill": {
   "default_parameters": {},
   "duration": 6.763711,
   "end_time": "2021-09-25T17:00:11.211170",
   "environment_variables": {},
   "exception": null,
   "input_path": "eBay_Overview.ipynb",
   "output_path": "eBay_Overview.ipynb",
   "parameters": {},
   "start_time": "2021-09-25T17:00:04.447459",
   "version": "2.3.3"
  }
 },
 "nbformat": 4,
 "nbformat_minor": 5
}