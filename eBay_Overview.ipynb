{
 "cells": [
  {
   "cell_type": "code",
   "execution_count": 1,
   "id": "reverse-picking",
   "metadata": {
    "execution": {
     "iopub.execute_input": "2021-10-07T02:30:06.909329Z",
     "iopub.status.busy": "2021-10-07T02:30:06.907095Z",
     "iopub.status.idle": "2021-10-07T02:30:07.718669Z",
     "shell.execute_reply": "2021-10-07T02:30:07.717079Z"
    },
    "papermill": {
     "duration": 0.862101,
     "end_time": "2021-10-07T02:30:07.719327",
     "exception": false,
     "start_time": "2021-10-07T02:30:06.857226",
     "status": "completed"
    },
    "tags": []
   },
   "outputs": [],
   "source": [
    "import pandas as pd\n",
    "import sqlite3"
   ]
  },
  {
   "cell_type": "code",
   "execution_count": 2,
   "id": "innovative-syndrome",
   "metadata": {
    "execution": {
     "iopub.execute_input": "2021-10-07T02:30:07.770437Z",
     "iopub.status.busy": "2021-10-07T02:30:07.768085Z",
     "iopub.status.idle": "2021-10-07T02:30:08.253333Z",
     "shell.execute_reply": "2021-10-07T02:30:08.254556Z"
    },
    "papermill": {
     "duration": 0.515346,
     "end_time": "2021-10-07T02:30:08.255016",
     "exception": false,
     "start_time": "2021-10-07T02:30:07.739670",
     "status": "completed"
    },
    "tags": []
   },
   "outputs": [],
   "source": [
    "timestamps = pd.read_sql(\"select distinct record_time from EBAY_TOP_BERLIN order by record_time desc limit 2\", sqlite3.connect(\"UsedObjects.db\"))"
   ]
  },
  {
   "cell_type": "code",
   "execution_count": 3,
   "id": "periodic-identification",
   "metadata": {
    "execution": {
     "iopub.execute_input": "2021-10-07T02:30:08.318889Z",
     "iopub.status.busy": "2021-10-07T02:30:08.316790Z",
     "iopub.status.idle": "2021-10-07T02:30:08.336904Z",
     "shell.execute_reply": "2021-10-07T02:30:08.338208Z"
    },
    "papermill": {
     "duration": 0.063641,
     "end_time": "2021-10-07T02:30:08.338623",
     "exception": false,
     "start_time": "2021-10-07T02:30:08.274982",
     "status": "completed"
    },
    "tags": []
   },
   "outputs": [
    {
     "data": {
      "text/html": [
       "<div>\n",
       "<style scoped>\n",
       "    .dataframe tbody tr th:only-of-type {\n",
       "        vertical-align: middle;\n",
       "    }\n",
       "\n",
       "    .dataframe tbody tr th {\n",
       "        vertical-align: top;\n",
       "    }\n",
       "\n",
       "    .dataframe thead th {\n",
       "        text-align: right;\n",
       "    }\n",
       "</style>\n",
       "<table border=\"1\" class=\"dataframe\">\n",
       "  <thead>\n",
       "    <tr style=\"text-align: right;\">\n",
       "      <th></th>\n",
       "      <th>RECORD_TIME</th>\n",
       "    </tr>\n",
       "  </thead>\n",
       "  <tbody>\n",
       "    <tr>\n",
       "      <th>0</th>\n",
       "      <td>2021-10-07 04:30</td>\n",
       "    </tr>\n",
       "    <tr>\n",
       "      <th>1</th>\n",
       "      <td>2021-10-07 04:00</td>\n",
       "    </tr>\n",
       "  </tbody>\n",
       "</table>\n",
       "</div>"
      ],
      "text/plain": [
       "        RECORD_TIME\n",
       "0  2021-10-07 04:30\n",
       "1  2021-10-07 04:00"
      ]
     },
     "execution_count": 3,
     "metadata": {},
     "output_type": "execute_result"
    }
   ],
   "source": [
    "timestamps"
   ]
  },
  {
   "cell_type": "code",
   "execution_count": 4,
   "id": "alternate-victory",
   "metadata": {
    "execution": {
     "iopub.execute_input": "2021-10-07T02:30:08.403682Z",
     "iopub.status.busy": "2021-10-07T02:30:08.401495Z",
     "iopub.status.idle": "2021-10-07T02:30:09.105063Z",
     "shell.execute_reply": "2021-10-07T02:30:09.106295Z"
    },
    "papermill": {
     "duration": 0.73885,
     "end_time": "2021-10-07T02:30:09.106697",
     "exception": false,
     "start_time": "2021-10-07T02:30:08.367847",
     "status": "completed"
    },
    "tags": []
   },
   "outputs": [],
   "source": [
    "df = pd.read_sql(\"select * from EBAY_TOP_BERLIN where record_time in (select distinct record_time from EBAY_TOP_BERLIN order by record_time desc limit 2)\", sqlite3.connect(\"UsedObjects.db\"))"
   ]
  },
  {
   "cell_type": "code",
   "execution_count": 5,
   "id": "popular-active",
   "metadata": {
    "execution": {
     "iopub.execute_input": "2021-10-07T02:30:09.178080Z",
     "iopub.status.busy": "2021-10-07T02:30:09.165894Z",
     "iopub.status.idle": "2021-10-07T02:30:09.194336Z",
     "shell.execute_reply": "2021-10-07T02:30:09.195738Z"
    },
    "papermill": {
     "duration": 0.068621,
     "end_time": "2021-10-07T02:30:09.196169",
     "exception": false,
     "start_time": "2021-10-07T02:30:09.127548",
     "status": "completed"
    },
    "tags": []
   },
   "outputs": [],
   "source": [
    "df_pivot = df.pivot_table(index=\"PRODUCT\", columns = \"RECORD_TIME\", values = \"LISTING_COUNT\")"
   ]
  },
  {
   "cell_type": "code",
   "execution_count": 6,
   "id": "union-huntington",
   "metadata": {
    "execution": {
     "iopub.execute_input": "2021-10-07T02:30:09.252070Z",
     "iopub.status.busy": "2021-10-07T02:30:09.249977Z",
     "iopub.status.idle": "2021-10-07T02:30:09.255194Z",
     "shell.execute_reply": "2021-10-07T02:30:09.256444Z"
    },
    "papermill": {
     "duration": 0.040233,
     "end_time": "2021-10-07T02:30:09.256846",
     "exception": false,
     "start_time": "2021-10-07T02:30:09.216613",
     "status": "completed"
    },
    "tags": []
   },
   "outputs": [],
   "source": [
    "df_pivot.columns = [\"stamp_1\", \"stamp_2\"]\n",
    "df_pivot_diff = df_pivot.diff(axis=1)"
   ]
  },
  {
   "cell_type": "code",
   "execution_count": 7,
   "id": "fifth-motion",
   "metadata": {
    "execution": {
     "iopub.execute_input": "2021-10-07T02:30:09.313023Z",
     "iopub.status.busy": "2021-10-07T02:30:09.310425Z",
     "iopub.status.idle": "2021-10-07T02:30:10.786379Z",
     "shell.execute_reply": "2021-10-07T02:30:10.788021Z"
    },
    "papermill": {
     "duration": 1.509954,
     "end_time": "2021-10-07T02:30:10.788521",
     "exception": false,
     "start_time": "2021-10-07T02:30:09.278567",
     "status": "completed"
    },
    "tags": []
   },
   "outputs": [
    {
     "data": {
      "text/plain": [
       "<AxesSubplot:ylabel='PRODUCT'>"
      ]
     },
     "execution_count": 7,
     "metadata": {},
     "output_type": "execute_result"
    },
    {
     "data": {
      "image/png": "[encoded data removed]",
      "text/plain": [
       "<Figure size 432x288 with 1 Axes>"
      ]
     },
     "metadata": {
      "needs_background": "light"
     },
     "output_type": "display_data"
    }
   ],
   "source": [
    "df_pivot_diff.sort_values(\"stamp_2\", ascending = False)[\"stamp_2\"].head(10).plot.barh()"
   ]
  },
  {
   "cell_type": "code",
   "execution_count": null,
   "id": "extra-executive",
   "metadata": {
    "papermill": {
     "duration": 0.022337,
     "end_time": "2021-10-07T02:30:10.836136",
     "exception": false,
     "start_time": "2021-10-07T02:30:10.813799",
     "status": "completed"
    },
    "tags": []
   },
   "outputs": [],
   "source": []
  }
 ],
 "metadata": {
  "kernelspec": {
   "display_name": "Python 3",
   "language": "python",
   "name": "python3"
  },
  "language_info": {
   "codemirror_mode": {
    "name": "ipython",
    "version": 3
   },
   "file_extension": ".py",
   "mimetype": "text/x-python",
   "name": "python",
   "nbconvert_exporter": "python",
   "pygments_lexer": "ipython3",
   "version": "3.9.5"
  },
  "papermill": {
   "default_parameters": {},
   "duration": 7.837929,
   "end_time": "2021-10-07T02:30:12.282105",
   "environment_variables": {},
   "exception": null,
   "input_path": "eBay_Overview.ipynb",
   "output_path": "eBay_Overview.ipynb",
   "parameters": {},
   "start_time": "2021-10-07T02:30:04.444176",
   "version": "2.3.3"
  }
 },
 "nbformat": 4,
 "nbformat_minor": 5
}