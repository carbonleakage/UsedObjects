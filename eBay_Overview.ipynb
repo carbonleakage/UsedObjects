{
 "cells": [
  {
   "cell_type": "code",
   "execution_count": 1,
   "id": "reverse-picking",
   "metadata": {
    "execution": {
     "iopub.execute_input": "2021-11-29T22:30:08.038986Z",
     "iopub.status.busy": "2021-11-29T22:30:08.036618Z",
     "iopub.status.idle": "2021-11-29T22:30:08.980770Z",
     "shell.execute_reply": "2021-11-29T22:30:08.982382Z"
    },
    "papermill": {
     "duration": 0.99472,
     "end_time": "2021-11-29T22:30:08.983122",
     "exception": false,
     "start_time": "2021-11-29T22:30:07.988402",
     "status": "completed"
    },
    "tags": []
   },
   "outputs": [],
   "source": [
    "import pandas as pd\n",
    "import sqlite3"
   ]
  },
  {
   "cell_type": "code",
   "execution_count": 2,
   "id": "innovative-syndrome",
   "metadata": {
    "execution": {
     "iopub.execute_input": "2021-11-29T22:30:09.105831Z",
     "iopub.status.busy": "2021-11-29T22:30:09.103532Z",
     "iopub.status.idle": "2021-11-29T22:30:10.049198Z",
     "shell.execute_reply": "2021-11-29T22:30:10.050633Z"
    },
    "papermill": {
     "duration": 0.981068,
     "end_time": "2021-11-29T22:30:10.051090",
     "exception": false,
     "start_time": "2021-11-29T22:30:09.070022",
     "status": "completed"
    },
    "tags": []
   },
   "outputs": [],
   "source": [
    "timestamps = pd.read_sql(\"select distinct record_time from EBAY_TOP_BERLIN order by record_time desc limit 2\", sqlite3.connect(\"UsedObjects.db\"))"
   ]
  },
  {
   "cell_type": "code",
   "execution_count": 3,
   "id": "periodic-identification",
   "metadata": {
    "execution": {
     "iopub.execute_input": "2021-11-29T22:30:10.122214Z",
     "iopub.status.busy": "2021-11-29T22:30:10.107679Z",
     "iopub.status.idle": "2021-11-29T22:30:10.142849Z",
     "shell.execute_reply": "2021-11-29T22:30:10.141486Z"
    },
    "papermill": {
     "duration": 0.069989,
     "end_time": "2021-11-29T22:30:10.143188",
     "exception": false,
     "start_time": "2021-11-29T22:30:10.073199",
     "status": "completed"
    },
    "tags": []
   },
   "outputs": [
    {
     "data": {
      "text/html": [
       "<div>\n",
       "<style scoped>\n",
       "    .dataframe tbody tr th:only-of-type {\n",
       "        vertical-align: middle;\n",
       "    }\n",
       "\n",
       "    .dataframe tbody tr th {\n",
       "        vertical-align: top;\n",
       "    }\n",
       "\n",
       "    .dataframe thead th {\n",
       "        text-align: right;\n",
       "    }\n",
       "</style>\n",
       "<table border=\"1\" class=\"dataframe\">\n",
       "  <thead>\n",
       "    <tr style=\"text-align: right;\">\n",
       "      <th></th>\n",
       "      <th>RECORD_TIME</th>\n",
       "    </tr>\n",
       "  </thead>\n",
       "  <tbody>\n",
       "    <tr>\n",
       "      <th>0</th>\n",
       "      <td>2021-11-29 23:30</td>\n",
       "    </tr>\n",
       "    <tr>\n",
       "      <th>1</th>\n",
       "      <td>2021-11-29 23:00</td>\n",
       "    </tr>\n",
       "  </tbody>\n",
       "</table>\n",
       "</div>"
      ],
      "text/plain": [
       "        RECORD_TIME\n",
       "0  2021-11-29 23:30\n",
       "1  2021-11-29 23:00"
      ]
     },
     "execution_count": 3,
     "metadata": {},
     "output_type": "execute_result"
    }
   ],
   "source": [
    "timestamps"
   ]
  },
  {
   "cell_type": "code",
   "execution_count": 4,
   "id": "alternate-victory",
   "metadata": {
    "execution": {
     "iopub.execute_input": "2021-11-29T22:30:10.196403Z",
     "iopub.status.busy": "2021-11-29T22:30:10.194112Z",
     "iopub.status.idle": "2021-11-29T22:30:11.582386Z",
     "shell.execute_reply": "2021-11-29T22:30:11.584517Z"
    },
    "papermill": {
     "duration": 1.419706,
     "end_time": "2021-11-29T22:30:11.585048",
     "exception": false,
     "start_time": "2021-11-29T22:30:10.165342",
     "status": "completed"
    },
    "tags": []
   },
   "outputs": [],
   "source": [
    "df = pd.read_sql(\"select * from EBAY_TOP_BERLIN where record_time in (select distinct record_time from EBAY_TOP_BERLIN order by record_time desc limit 2)\", sqlite3.connect(\"UsedObjects.db\"))"
   ]
  },
  {
   "cell_type": "code",
   "execution_count": 5,
   "id": "popular-active",
   "metadata": {
    "execution": {
     "iopub.execute_input": "2021-11-29T22:30:11.649883Z",
     "iopub.status.busy": "2021-11-29T22:30:11.647342Z",
     "iopub.status.idle": "2021-11-29T22:30:11.684916Z",
     "shell.execute_reply": "2021-11-29T22:30:11.683055Z"
    },
    "papermill": {
     "duration": 0.079357,
     "end_time": "2021-11-29T22:30:11.685370",
     "exception": false,
     "start_time": "2021-11-29T22:30:11.606013",
     "status": "completed"
    },
    "tags": []
   },
   "outputs": [],
   "source": [
    "df_pivot = df.pivot_table(index=\"PRODUCT\", columns = \"RECORD_TIME\", values = \"LISTING_COUNT\")"
   ]
  },
  {
   "cell_type": "code",
   "execution_count": 6,
   "id": "union-huntington",
   "metadata": {
    "execution": {
     "iopub.execute_input": "2021-11-29T22:30:11.753221Z",
     "iopub.status.busy": "2021-11-29T22:30:11.750804Z",
     "iopub.status.idle": "2021-11-29T22:30:11.756952Z",
     "shell.execute_reply": "2021-11-29T22:30:11.758747Z"
    },
    "papermill": {
     "duration": 0.052289,
     "end_time": "2021-11-29T22:30:11.759353",
     "exception": false,
     "start_time": "2021-11-29T22:30:11.707064",
     "status": "completed"
    },
    "tags": []
   },
   "outputs": [],
   "source": [
    "df_pivot.columns = [\"stamp_1\", \"stamp_2\"]\n",
    "df_pivot_diff = df_pivot.diff(axis=1)"
   ]
  },
  {
   "cell_type": "code",
   "execution_count": 7,
   "id": "fifth-motion",
   "metadata": {
    "execution": {
     "iopub.execute_input": "2021-11-29T22:30:11.818852Z",
     "iopub.status.busy": "2021-11-29T22:30:11.816299Z",
     "iopub.status.idle": "2021-11-29T22:30:13.830401Z",
     "shell.execute_reply": "2021-11-29T22:30:13.833484Z"
    },
    "papermill": {
     "duration": 2.052825,
     "end_time": "2021-11-29T22:30:13.834344",
     "exception": false,
     "start_time": "2021-11-29T22:30:11.781519",
     "status": "completed"
    },
    "tags": []
   },
   "outputs": [
    {
     "data": {
      "text/plain": [
       "<AxesSubplot:ylabel='PRODUCT'>"
      ]
     },
     "execution_count": 7,
     "metadata": {},
     "output_type": "execute_result"
    },
    {
     "data": {
      "image/png": "[encoded data removed]",
      "text/plain": [
       "<Figure size 432x288 with 1 Axes>"
      ]
     },
     "metadata": {
      "needs_background": "light"
     },
     "output_type": "display_data"
    }
   ],
   "source": [
    "df_pivot_diff.sort_values(\"stamp_2\", ascending = False)[\"stamp_2\"].head(10).plot.barh()"
   ]
  },
  {
   "cell_type": "code",
   "execution_count": null,
   "id": "extra-executive",
   "metadata": {
    "papermill": {
     "duration": 0.027902,
     "end_time": "2021-11-29T22:30:13.894152",
     "exception": false,
     "start_time": "2021-11-29T22:30:13.866250",
     "status": "completed"
    },
    "tags": []
   },
   "outputs": [],
   "source": []
  }
 ],
 "metadata": {
  "kernelspec": {
   "display_name": "Python 3",
   "language": "python",
   "name": "python3"
  },
  "language_info": {
   "codemirror_mode": {
    "name": "ipython",
    "version": 3
   },
   "file_extension": ".py",
   "mimetype": "text/x-python",
   "name": "python",
   "nbconvert_exporter": "python",
   "pygments_lexer": "ipython3",
   "version": "3.9.5"
  },
  "papermill": {
   "default_parameters": {},
   "duration": 9.935952,
   "end_time": "2021-11-29T22:30:15.214846",
   "environment_variables": {},
   "exception": null,
   "input_path": "eBay_Overview.ipynb",
   "output_path": "eBay_Overview.ipynb",
   "parameters": {},
   "start_time": "2021-11-29T22:30:05.278894",
   "version": "2.3.3"
  }
 },
 "nbformat": 4,
 "nbformat_minor": 5
}