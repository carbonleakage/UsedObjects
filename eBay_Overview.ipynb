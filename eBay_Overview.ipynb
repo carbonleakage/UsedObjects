{
 "cells": [
  {
   "cell_type": "code",
   "execution_count": 1,
   "id": "reverse-picking",
   "metadata": {
    "execution": {
     "iopub.execute_input": "2021-11-22T23:00:08.180261Z",
     "iopub.status.busy": "2021-11-22T23:00:08.177929Z",
     "iopub.status.idle": "2021-11-22T23:00:09.140101Z",
     "shell.execute_reply": "2021-11-22T23:00:09.141808Z"
    },
    "papermill": {
     "duration": 1.011473,
     "end_time": "2021-11-22T23:00:09.142557",
     "exception": false,
     "start_time": "2021-11-22T23:00:08.131084",
     "status": "completed"
    },
    "tags": []
   },
   "outputs": [],
   "source": [
    "import pandas as pd\n",
    "import sqlite3"
   ]
  },
  {
   "cell_type": "code",
   "execution_count": 2,
   "id": "innovative-syndrome",
   "metadata": {
    "execution": {
     "iopub.execute_input": "2021-11-22T23:00:09.262766Z",
     "iopub.status.busy": "2021-11-22T23:00:09.260477Z",
     "iopub.status.idle": "2021-11-22T23:00:10.141955Z",
     "shell.execute_reply": "2021-11-22T23:00:10.143399Z"
    },
    "papermill": {
     "duration": 0.913949,
     "end_time": "2021-11-22T23:00:10.143884",
     "exception": false,
     "start_time": "2021-11-22T23:00:09.229935",
     "status": "completed"
    },
    "tags": []
   },
   "outputs": [],
   "source": [
    "timestamps = pd.read_sql(\"select distinct record_time from EBAY_TOP_BERLIN order by record_time desc limit 2\", sqlite3.connect(\"UsedObjects.db\"))"
   ]
  },
  {
   "cell_type": "code",
   "execution_count": 3,
   "id": "periodic-identification",
   "metadata": {
    "execution": {
     "iopub.execute_input": "2021-11-22T23:00:10.198968Z",
     "iopub.status.busy": "2021-11-22T23:00:10.196514Z",
     "iopub.status.idle": "2021-11-22T23:00:10.257148Z",
     "shell.execute_reply": "2021-11-22T23:00:10.258682Z"
    },
    "papermill": {
     "duration": 0.09465,
     "end_time": "2021-11-22T23:00:10.259157",
     "exception": false,
     "start_time": "2021-11-22T23:00:10.164507",
     "status": "completed"
    },
    "tags": []
   },
   "outputs": [
    {
     "data": {
      "text/html": [
       "<div>\n",
       "<style scoped>\n",
       "    .dataframe tbody tr th:only-of-type {\n",
       "        vertical-align: middle;\n",
       "    }\n",
       "\n",
       "    .dataframe tbody tr th {\n",
       "        vertical-align: top;\n",
       "    }\n",
       "\n",
       "    .dataframe thead th {\n",
       "        text-align: right;\n",
       "    }\n",
       "</style>\n",
       "<table border=\"1\" class=\"dataframe\">\n",
       "  <thead>\n",
       "    <tr style=\"text-align: right;\">\n",
       "      <th></th>\n",
       "      <th>RECORD_TIME</th>\n",
       "    </tr>\n",
       "  </thead>\n",
       "  <tbody>\n",
       "    <tr>\n",
       "      <th>0</th>\n",
       "      <td>2021-11-23 00:00</td>\n",
       "    </tr>\n",
       "    <tr>\n",
       "      <th>1</th>\n",
       "      <td>2021-11-22 23:30</td>\n",
       "    </tr>\n",
       "  </tbody>\n",
       "</table>\n",
       "</div>"
      ],
      "text/plain": [
       "        RECORD_TIME\n",
       "0  2021-11-23 00:00\n",
       "1  2021-11-22 23:30"
      ]
     },
     "execution_count": 3,
     "metadata": {},
     "output_type": "execute_result"
    }
   ],
   "source": [
    "timestamps"
   ]
  },
  {
   "cell_type": "code",
   "execution_count": 4,
   "id": "alternate-victory",
   "metadata": {
    "execution": {
     "iopub.execute_input": "2021-11-22T23:00:10.316093Z",
     "iopub.status.busy": "2021-11-22T23:00:10.313874Z",
     "iopub.status.idle": "2021-11-22T23:00:11.617348Z",
     "shell.execute_reply": "2021-11-22T23:00:11.615584Z"
    },
    "papermill": {
     "duration": 1.336177,
     "end_time": "2021-11-22T23:00:11.617804",
     "exception": false,
     "start_time": "2021-11-22T23:00:10.281627",
     "status": "completed"
    },
    "tags": []
   },
   "outputs": [],
   "source": [
    "df = pd.read_sql(\"select * from EBAY_TOP_BERLIN where record_time in (select distinct record_time from EBAY_TOP_BERLIN order by record_time desc limit 2)\", sqlite3.connect(\"UsedObjects.db\"))"
   ]
  },
  {
   "cell_type": "code",
   "execution_count": 5,
   "id": "popular-active",
   "metadata": {
    "execution": {
     "iopub.execute_input": "2021-11-22T23:00:11.690488Z",
     "iopub.status.busy": "2021-11-22T23:00:11.682352Z",
     "iopub.status.idle": "2021-11-22T23:00:11.713510Z",
     "shell.execute_reply": "2021-11-22T23:00:11.714863Z"
    },
    "papermill": {
     "duration": 0.075217,
     "end_time": "2021-11-22T23:00:11.715337",
     "exception": false,
     "start_time": "2021-11-22T23:00:11.640120",
     "status": "completed"
    },
    "tags": []
   },
   "outputs": [],
   "source": [
    "df_pivot = df.pivot_table(index=\"PRODUCT\", columns = \"RECORD_TIME\", values = \"LISTING_COUNT\")"
   ]
  },
  {
   "cell_type": "code",
   "execution_count": 6,
   "id": "union-huntington",
   "metadata": {
    "execution": {
     "iopub.execute_input": "2021-11-22T23:00:11.806745Z",
     "iopub.status.busy": "2021-11-22T23:00:11.804420Z",
     "iopub.status.idle": "2021-11-22T23:00:11.815197Z",
     "shell.execute_reply": "2021-11-22T23:00:11.813744Z"
    },
    "papermill": {
     "duration": 0.079741,
     "end_time": "2021-11-22T23:00:11.815603",
     "exception": false,
     "start_time": "2021-11-22T23:00:11.735862",
     "status": "completed"
    },
    "tags": []
   },
   "outputs": [],
   "source": [
    "df_pivot.columns = [\"stamp_1\", \"stamp_2\"]\n",
    "df_pivot_diff = df_pivot.diff(axis=1)"
   ]
  },
  {
   "cell_type": "code",
   "execution_count": 7,
   "id": "fifth-motion",
   "metadata": {
    "execution": {
     "iopub.execute_input": "2021-11-22T23:00:11.871864Z",
     "iopub.status.busy": "2021-11-22T23:00:11.869413Z",
     "iopub.status.idle": "2021-11-22T23:00:13.890300Z",
     "shell.execute_reply": "2021-11-22T23:00:13.891617Z"
    },
    "papermill": {
     "duration": 2.055964,
     "end_time": "2021-11-22T23:00:13.892040",
     "exception": false,
     "start_time": "2021-11-22T23:00:11.836076",
     "status": "completed"
    },
    "tags": []
   },
   "outputs": [
    {
     "data": {
      "text/plain": [
       "<AxesSubplot:ylabel='PRODUCT'>"
      ]
     },
     "execution_count": 7,
     "metadata": {},
     "output_type": "execute_result"
    },
    {
     "data": {
      "image/png": "[encoded data removed]",
      "text/plain": [
       "<Figure size 432x288 with 1 Axes>"
      ]
     },
     "metadata": {
      "needs_background": "light"
     },
     "output_type": "display_data"
    }
   ],
   "source": [
    "df_pivot_diff.sort_values(\"stamp_2\", ascending = False)[\"stamp_2\"].head(10).plot.barh()"
   ]
  },
  {
   "cell_type": "code",
   "execution_count": null,
   "id": "extra-executive",
   "metadata": {
    "papermill": {
     "duration": 0.022199,
     "end_time": "2021-11-22T23:00:13.939171",
     "exception": false,
     "start_time": "2021-11-22T23:00:13.916972",
     "status": "completed"
    },
    "tags": []
   },
   "outputs": [],
   "source": []
  }
 ],
 "metadata": {
  "kernelspec": {
   "display_name": "Python 3",
   "language": "python",
   "name": "python3"
  },
  "language_info": {
   "codemirror_mode": {
    "name": "ipython",
    "version": 3
   },
   "file_extension": ".py",
   "mimetype": "text/x-python",
   "name": "python",
   "nbconvert_exporter": "python",
   "pygments_lexer": "ipython3",
   "version": "3.9.5"
  },
  "papermill": {
   "default_parameters": {},
   "duration": 9.941586,
   "end_time": "2021-11-22T23:00:15.326950",
   "environment_variables": {},
   "exception": null,
   "input_path": "eBay_Overview.ipynb",
   "output_path": "eBay_Overview.ipynb",
   "parameters": {},
   "start_time": "2021-11-22T23:00:05.385364",
   "version": "2.3.3"
  }
 },
 "nbformat": 4,
 "nbformat_minor": 5
}