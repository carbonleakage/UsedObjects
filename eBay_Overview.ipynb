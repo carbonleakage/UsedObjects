{
 "cells": [
  {
   "cell_type": "code",
   "execution_count": 1,
   "id": "reverse-picking",
   "metadata": {
    "execution": {
     "iopub.execute_input": "2021-10-12T22:30:07.246964Z",
     "iopub.status.busy": "2021-10-12T22:30:07.244936Z",
     "iopub.status.idle": "2021-10-12T22:30:08.044658Z",
     "shell.execute_reply": "2021-10-12T22:30:08.045996Z"
    },
    "papermill": {
     "duration": 0.850983,
     "end_time": "2021-10-12T22:30:08.046620",
     "exception": false,
     "start_time": "2021-10-12T22:30:07.195637",
     "status": "completed"
    },
    "tags": []
   },
   "outputs": [],
   "source": [
    "import pandas as pd\n",
    "import sqlite3"
   ]
  },
  {
   "cell_type": "code",
   "execution_count": 2,
   "id": "innovative-syndrome",
   "metadata": {
    "execution": {
     "iopub.execute_input": "2021-10-12T22:30:08.097588Z",
     "iopub.status.busy": "2021-10-12T22:30:08.095578Z",
     "iopub.status.idle": "2021-10-12T22:30:08.628838Z",
     "shell.execute_reply": "2021-10-12T22:30:08.630008Z"
    },
    "papermill": {
     "duration": 0.562993,
     "end_time": "2021-10-12T22:30:08.630418",
     "exception": false,
     "start_time": "2021-10-12T22:30:08.067425",
     "status": "completed"
    },
    "tags": []
   },
   "outputs": [],
   "source": [
    "timestamps = pd.read_sql(\"select distinct record_time from EBAY_TOP_BERLIN order by record_time desc limit 2\", sqlite3.connect(\"UsedObjects.db\"))"
   ]
  },
  {
   "cell_type": "code",
   "execution_count": 3,
   "id": "periodic-identification",
   "metadata": {
    "execution": {
     "iopub.execute_input": "2021-10-12T22:30:08.709871Z",
     "iopub.status.busy": "2021-10-12T22:30:08.707751Z",
     "iopub.status.idle": "2021-10-12T22:30:08.727754Z",
     "shell.execute_reply": "2021-10-12T22:30:08.729047Z"
    },
    "papermill": {
     "duration": 0.077239,
     "end_time": "2021-10-12T22:30:08.729485",
     "exception": false,
     "start_time": "2021-10-12T22:30:08.652246",
     "status": "completed"
    },
    "tags": []
   },
   "outputs": [
    {
     "data": {
      "text/html": [
       "<div>\n",
       "<style scoped>\n",
       "    .dataframe tbody tr th:only-of-type {\n",
       "        vertical-align: middle;\n",
       "    }\n",
       "\n",
       "    .dataframe tbody tr th {\n",
       "        vertical-align: top;\n",
       "    }\n",
       "\n",
       "    .dataframe thead th {\n",
       "        text-align: right;\n",
       "    }\n",
       "</style>\n",
       "<table border=\"1\" class=\"dataframe\">\n",
       "  <thead>\n",
       "    <tr style=\"text-align: right;\">\n",
       "      <th></th>\n",
       "      <th>RECORD_TIME</th>\n",
       "    </tr>\n",
       "  </thead>\n",
       "  <tbody>\n",
       "    <tr>\n",
       "      <th>0</th>\n",
       "      <td>2021-10-13 00:30</td>\n",
       "    </tr>\n",
       "    <tr>\n",
       "      <th>1</th>\n",
       "      <td>2021-10-13 00:00</td>\n",
       "    </tr>\n",
       "  </tbody>\n",
       "</table>\n",
       "</div>"
      ],
      "text/plain": [
       "        RECORD_TIME\n",
       "0  2021-10-13 00:30\n",
       "1  2021-10-13 00:00"
      ]
     },
     "execution_count": 3,
     "metadata": {},
     "output_type": "execute_result"
    }
   ],
   "source": [
    "timestamps"
   ]
  },
  {
   "cell_type": "code",
   "execution_count": 4,
   "id": "alternate-victory",
   "metadata": {
    "execution": {
     "iopub.execute_input": "2021-10-12T22:30:08.782268Z",
     "iopub.status.busy": "2021-10-12T22:30:08.780286Z",
     "iopub.status.idle": "2021-10-12T22:30:09.554286Z",
     "shell.execute_reply": "2021-10-12T22:30:09.555515Z"
    },
    "papermill": {
     "duration": 0.804095,
     "end_time": "2021-10-12T22:30:09.555909",
     "exception": false,
     "start_time": "2021-10-12T22:30:08.751814",
     "status": "completed"
    },
    "tags": []
   },
   "outputs": [],
   "source": [
    "df = pd.read_sql(\"select * from EBAY_TOP_BERLIN where record_time in (select distinct record_time from EBAY_TOP_BERLIN order by record_time desc limit 2)\", sqlite3.connect(\"UsedObjects.db\"))"
   ]
  },
  {
   "cell_type": "code",
   "execution_count": 5,
   "id": "popular-active",
   "metadata": {
    "execution": {
     "iopub.execute_input": "2021-10-12T22:30:09.621761Z",
     "iopub.status.busy": "2021-10-12T22:30:09.613703Z",
     "iopub.status.idle": "2021-10-12T22:30:09.643436Z",
     "shell.execute_reply": "2021-10-12T22:30:09.644800Z"
    },
    "papermill": {
     "duration": 0.068905,
     "end_time": "2021-10-12T22:30:09.645229",
     "exception": false,
     "start_time": "2021-10-12T22:30:09.576324",
     "status": "completed"
    },
    "tags": []
   },
   "outputs": [],
   "source": [
    "df_pivot = df.pivot_table(index=\"PRODUCT\", columns = \"RECORD_TIME\", values = \"LISTING_COUNT\")"
   ]
  },
  {
   "cell_type": "code",
   "execution_count": 6,
   "id": "union-huntington",
   "metadata": {
    "execution": {
     "iopub.execute_input": "2021-10-12T22:30:09.701567Z",
     "iopub.status.busy": "2021-10-12T22:30:09.699441Z",
     "iopub.status.idle": "2021-10-12T22:30:09.704809Z",
     "shell.execute_reply": "2021-10-12T22:30:09.706117Z"
    },
    "papermill": {
     "duration": 0.041028,
     "end_time": "2021-10-12T22:30:09.706526",
     "exception": false,
     "start_time": "2021-10-12T22:30:09.665498",
     "status": "completed"
    },
    "tags": []
   },
   "outputs": [],
   "source": [
    "df_pivot.columns = [\"stamp_1\", \"stamp_2\"]\n",
    "df_pivot_diff = df_pivot.diff(axis=1)"
   ]
  },
  {
   "cell_type": "code",
   "execution_count": 7,
   "id": "fifth-motion",
   "metadata": {
    "execution": {
     "iopub.execute_input": "2021-10-12T22:30:09.762326Z",
     "iopub.status.busy": "2021-10-12T22:30:09.759734Z",
     "iopub.status.idle": "2021-10-12T22:30:11.231985Z",
     "shell.execute_reply": "2021-10-12T22:30:11.233486Z"
    },
    "papermill": {
     "duration": 1.505848,
     "end_time": "2021-10-12T22:30:11.233937",
     "exception": false,
     "start_time": "2021-10-12T22:30:09.728089",
     "status": "completed"
    },
    "tags": []
   },
   "outputs": [
    {
     "data": {
      "text/plain": [
       "<AxesSubplot:ylabel='PRODUCT'>"
      ]
     },
     "execution_count": 7,
     "metadata": {},
     "output_type": "execute_result"
    },
    {
     "data": {
      "image/png": "[encoded data removed]",
      "text/plain": [
       "<Figure size 432x288 with 1 Axes>"
      ]
     },
     "metadata": {
      "needs_background": "light"
     },
     "output_type": "display_data"
    }
   ],
   "source": [
    "df_pivot_diff.sort_values(\"stamp_2\", ascending = False)[\"stamp_2\"].head(10).plot.barh()"
   ]
  },
  {
   "cell_type": "code",
   "execution_count": null,
   "id": "extra-executive",
   "metadata": {
    "papermill": {
     "duration": 0.022309,
     "end_time": "2021-10-12T22:30:11.280207",
     "exception": false,
     "start_time": "2021-10-12T22:30:11.257898",
     "status": "completed"
    },
    "tags": []
   },
   "outputs": [],
   "source": []
  }
 ],
 "metadata": {
  "kernelspec": {
   "display_name": "Python 3",
   "language": "python",
   "name": "python3"
  },
  "language_info": {
   "codemirror_mode": {
    "name": "ipython",
    "version": 3
   },
   "file_extension": ".py",
   "mimetype": "text/x-python",
   "name": "python",
   "nbconvert_exporter": "python",
   "pygments_lexer": "ipython3",
   "version": "3.9.5"
  },
  "papermill": {
   "default_parameters": {},
   "duration": 7.821964,
   "end_time": "2021-10-12T22:30:12.614967",
   "environment_variables": {},
   "exception": null,
   "input_path": "eBay_Overview.ipynb",
   "output_path": "eBay_Overview.ipynb",
   "parameters": {},
   "start_time": "2021-10-12T22:30:04.793003",
   "version": "2.3.3"
  }
 },
 "nbformat": 4,
 "nbformat_minor": 5
}