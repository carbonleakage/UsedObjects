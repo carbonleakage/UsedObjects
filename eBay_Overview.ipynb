{
 "cells": [
  {
   "cell_type": "code",
   "execution_count": 1,
   "id": "reverse-picking",
   "metadata": {
    "execution": {
     "iopub.execute_input": "2021-12-20T16:00:07.938450Z",
     "iopub.status.busy": "2021-12-20T16:00:07.936038Z",
     "iopub.status.idle": "2021-12-20T16:00:08.893267Z",
     "shell.execute_reply": "2021-12-20T16:00:08.894831Z"
    },
    "papermill": {
     "duration": 1.008006,
     "end_time": "2021-12-20T16:00:08.895596",
     "exception": false,
     "start_time": "2021-12-20T16:00:07.887590",
     "status": "completed"
    },
    "tags": []
   },
   "outputs": [],
   "source": [
    "import pandas as pd\n",
    "import sqlite3"
   ]
  },
  {
   "cell_type": "code",
   "execution_count": 2,
   "id": "innovative-syndrome",
   "metadata": {
    "execution": {
     "iopub.execute_input": "2021-12-20T16:00:08.965098Z",
     "iopub.status.busy": "2021-12-20T16:00:08.961124Z",
     "iopub.status.idle": "2021-12-20T16:00:10.100273Z",
     "shell.execute_reply": "2021-12-20T16:00:10.102412Z"
    },
    "papermill": {
     "duration": 1.180212,
     "end_time": "2021-12-20T16:00:10.102894",
     "exception": false,
     "start_time": "2021-12-20T16:00:08.922682",
     "status": "completed"
    },
    "tags": []
   },
   "outputs": [],
   "source": [
    "timestamps = pd.read_sql(\"select distinct record_time from EBAY_TOP_BERLIN order by record_time desc limit 2\", sqlite3.connect(\"UsedObjects.db\"))"
   ]
  },
  {
   "cell_type": "code",
   "execution_count": 3,
   "id": "periodic-identification",
   "metadata": {
    "execution": {
     "iopub.execute_input": "2021-12-20T16:00:10.154565Z",
     "iopub.status.busy": "2021-12-20T16:00:10.152167Z",
     "iopub.status.idle": "2021-12-20T16:00:10.193271Z",
     "shell.execute_reply": "2021-12-20T16:00:10.195125Z"
    },
    "papermill": {
     "duration": 0.073337,
     "end_time": "2021-12-20T16:00:10.195605",
     "exception": false,
     "start_time": "2021-12-20T16:00:10.122268",
     "status": "completed"
    },
    "tags": []
   },
   "outputs": [
    {
     "data": {
      "text/html": [
       "<div>\n",
       "<style scoped>\n",
       "    .dataframe tbody tr th:only-of-type {\n",
       "        vertical-align: middle;\n",
       "    }\n",
       "\n",
       "    .dataframe tbody tr th {\n",
       "        vertical-align: top;\n",
       "    }\n",
       "\n",
       "    .dataframe thead th {\n",
       "        text-align: right;\n",
       "    }\n",
       "</style>\n",
       "<table border=\"1\" class=\"dataframe\">\n",
       "  <thead>\n",
       "    <tr style=\"text-align: right;\">\n",
       "      <th></th>\n",
       "      <th>RECORD_TIME</th>\n",
       "    </tr>\n",
       "  </thead>\n",
       "  <tbody>\n",
       "    <tr>\n",
       "      <th>0</th>\n",
       "      <td>2021-12-20 17:00</td>\n",
       "    </tr>\n",
       "    <tr>\n",
       "      <th>1</th>\n",
       "      <td>2021-12-20 16:30</td>\n",
       "    </tr>\n",
       "  </tbody>\n",
       "</table>\n",
       "</div>"
      ],
      "text/plain": [
       "        RECORD_TIME\n",
       "0  2021-12-20 17:00\n",
       "1  2021-12-20 16:30"
      ]
     },
     "execution_count": 3,
     "metadata": {},
     "output_type": "execute_result"
    }
   ],
   "source": [
    "timestamps"
   ]
  },
  {
   "cell_type": "code",
   "execution_count": 4,
   "id": "alternate-victory",
   "metadata": {
    "execution": {
     "iopub.execute_input": "2021-12-20T16:00:10.281542Z",
     "iopub.status.busy": "2021-12-20T16:00:10.279166Z",
     "iopub.status.idle": "2021-12-20T16:00:11.892623Z",
     "shell.execute_reply": "2021-12-20T16:00:11.894232Z"
    },
    "papermill": {
     "duration": 1.656813,
     "end_time": "2021-12-20T16:00:11.894710",
     "exception": false,
     "start_time": "2021-12-20T16:00:10.237897",
     "status": "completed"
    },
    "tags": []
   },
   "outputs": [],
   "source": [
    "df = pd.read_sql(\"select * from EBAY_TOP_BERLIN where record_time in (select distinct record_time from EBAY_TOP_BERLIN order by record_time desc limit 2)\", sqlite3.connect(\"UsedObjects.db\"))"
   ]
  },
  {
   "cell_type": "code",
   "execution_count": 5,
   "id": "popular-active",
   "metadata": {
    "execution": {
     "iopub.execute_input": "2021-12-20T16:00:11.980861Z",
     "iopub.status.busy": "2021-12-20T16:00:11.978476Z",
     "iopub.status.idle": "2021-12-20T16:00:12.024778Z",
     "shell.execute_reply": "2021-12-20T16:00:12.026279Z"
    },
    "papermill": {
     "duration": 0.110873,
     "end_time": "2021-12-20T16:00:12.026742",
     "exception": false,
     "start_time": "2021-12-20T16:00:11.915869",
     "status": "completed"
    },
    "tags": []
   },
   "outputs": [],
   "source": [
    "df_pivot = df.pivot_table(index=\"PRODUCT\", columns = \"RECORD_TIME\", values = \"LISTING_COUNT\")"
   ]
  },
  {
   "cell_type": "code",
   "execution_count": 6,
   "id": "union-huntington",
   "metadata": {
    "execution": {
     "iopub.execute_input": "2021-12-20T16:00:12.085497Z",
     "iopub.status.busy": "2021-12-20T16:00:12.083185Z",
     "iopub.status.idle": "2021-12-20T16:00:12.089217Z",
     "shell.execute_reply": "2021-12-20T16:00:12.090719Z"
    },
    "papermill": {
     "duration": 0.044123,
     "end_time": "2021-12-20T16:00:12.091192",
     "exception": false,
     "start_time": "2021-12-20T16:00:12.047069",
     "status": "completed"
    },
    "tags": []
   },
   "outputs": [],
   "source": [
    "df_pivot.columns = [\"stamp_1\", \"stamp_2\"]\n",
    "df_pivot_diff = df_pivot.diff(axis=1)"
   ]
  },
  {
   "cell_type": "code",
   "execution_count": 7,
   "id": "fifth-motion",
   "metadata": {
    "execution": {
     "iopub.execute_input": "2021-12-20T16:00:12.147846Z",
     "iopub.status.busy": "2021-12-20T16:00:12.145312Z",
     "iopub.status.idle": "2021-12-20T16:00:14.173259Z",
     "shell.execute_reply": "2021-12-20T16:00:14.174667Z"
    },
    "papermill": {
     "duration": 2.06414,
     "end_time": "2021-12-20T16:00:14.175098",
     "exception": false,
     "start_time": "2021-12-20T16:00:12.110958",
     "status": "completed"
    },
    "tags": []
   },
   "outputs": [
    {
     "data": {
      "text/plain": [
       "<AxesSubplot:ylabel='PRODUCT'>"
      ]
     },
     "execution_count": 7,
     "metadata": {},
     "output_type": "execute_result"
    },
    {
     "data": {
      "image/png": "[encoded data removed]",
      "text/plain": [
       "<Figure size 432x288 with 1 Axes>"
      ]
     },
     "metadata": {
      "needs_background": "light"
     },
     "output_type": "display_data"
    }
   ],
   "source": [
    "df_pivot_diff.sort_values(\"stamp_2\", ascending = False)[\"stamp_2\"].head(10).plot.barh()"
   ]
  },
  {
   "cell_type": "code",
   "execution_count": null,
   "id": "extra-executive",
   "metadata": {
    "papermill": {
     "duration": 0.028556,
     "end_time": "2021-12-20T16:00:14.292048",
     "exception": false,
     "start_time": "2021-12-20T16:00:14.263492",
     "status": "completed"
    },
    "tags": []
   },
   "outputs": [],
   "source": []
  }
 ],
 "metadata": {
  "kernelspec": {
   "display_name": "Python 3",
   "language": "python",
   "name": "python3"
  },
  "language_info": {
   "codemirror_mode": {
    "name": "ipython",
    "version": 3
   },
   "file_extension": ".py",
   "mimetype": "text/x-python",
   "name": "python",
   "nbconvert_exporter": "python",
   "pygments_lexer": "ipython3",
   "version": "3.9.5"
  },
  "papermill": {
   "default_parameters": {},
   "duration": 9.787574,
   "end_time": "2021-12-20T16:00:14.935654",
   "environment_variables": {},
   "exception": null,
   "input_path": "eBay_Overview.ipynb",
   "output_path": "eBay_Overview.ipynb",
   "parameters": {},
   "start_time": "2021-12-20T16:00:05.148080",
   "version": "2.3.3"
  }
 },
 "nbformat": 4,
 "nbformat_minor": 5
}