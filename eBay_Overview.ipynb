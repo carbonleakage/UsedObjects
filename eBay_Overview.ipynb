{
 "cells": [
  {
   "cell_type": "code",
   "execution_count": 1,
   "id": "reverse-picking",
   "metadata": {
    "execution": {
     "iopub.execute_input": "2021-12-02T12:00:07.884154Z",
     "iopub.status.busy": "2021-12-02T12:00:07.881739Z",
     "iopub.status.idle": "2021-12-02T12:00:08.836479Z",
     "shell.execute_reply": "2021-12-02T12:00:08.838085Z"
    },
    "papermill": {
     "duration": 1.005302,
     "end_time": "2021-12-02T12:00:08.838827",
     "exception": false,
     "start_time": "2021-12-02T12:00:07.833525",
     "status": "completed"
    },
    "tags": []
   },
   "outputs": [],
   "source": [
    "import pandas as pd\n",
    "import sqlite3"
   ]
  },
  {
   "cell_type": "code",
   "execution_count": 2,
   "id": "innovative-syndrome",
   "metadata": {
    "execution": {
     "iopub.execute_input": "2021-12-02T12:00:08.900897Z",
     "iopub.status.busy": "2021-12-02T12:00:08.898414Z",
     "iopub.status.idle": "2021-12-02T12:00:09.870959Z",
     "shell.execute_reply": "2021-12-02T12:00:09.872192Z"
    },
    "papermill": {
     "duration": 1.006397,
     "end_time": "2021-12-02T12:00:09.872659",
     "exception": false,
     "start_time": "2021-12-02T12:00:08.866262",
     "status": "completed"
    },
    "tags": []
   },
   "outputs": [],
   "source": [
    "timestamps = pd.read_sql(\"select distinct record_time from EBAY_TOP_BERLIN order by record_time desc limit 2\", sqlite3.connect(\"UsedObjects.db\"))"
   ]
  },
  {
   "cell_type": "code",
   "execution_count": 3,
   "id": "periodic-identification",
   "metadata": {
    "execution": {
     "iopub.execute_input": "2021-12-02T12:00:09.935392Z",
     "iopub.status.busy": "2021-12-02T12:00:09.933793Z",
     "iopub.status.idle": "2021-12-02T12:00:09.956609Z",
     "shell.execute_reply": "2021-12-02T12:00:09.957925Z"
    },
    "papermill": {
     "duration": 0.066111,
     "end_time": "2021-12-02T12:00:09.958326",
     "exception": false,
     "start_time": "2021-12-02T12:00:09.892215",
     "status": "completed"
    },
    "tags": []
   },
   "outputs": [
    {
     "data": {
      "text/html": [
       "<div>\n",
       "<style scoped>\n",
       "    .dataframe tbody tr th:only-of-type {\n",
       "        vertical-align: middle;\n",
       "    }\n",
       "\n",
       "    .dataframe tbody tr th {\n",
       "        vertical-align: top;\n",
       "    }\n",
       "\n",
       "    .dataframe thead th {\n",
       "        text-align: right;\n",
       "    }\n",
       "</style>\n",
       "<table border=\"1\" class=\"dataframe\">\n",
       "  <thead>\n",
       "    <tr style=\"text-align: right;\">\n",
       "      <th></th>\n",
       "      <th>RECORD_TIME</th>\n",
       "    </tr>\n",
       "  </thead>\n",
       "  <tbody>\n",
       "    <tr>\n",
       "      <th>0</th>\n",
       "      <td>2021-12-02 13:00</td>\n",
       "    </tr>\n",
       "    <tr>\n",
       "      <th>1</th>\n",
       "      <td>2021-12-02 12:30</td>\n",
       "    </tr>\n",
       "  </tbody>\n",
       "</table>\n",
       "</div>"
      ],
      "text/plain": [
       "        RECORD_TIME\n",
       "0  2021-12-02 13:00\n",
       "1  2021-12-02 12:30"
      ]
     },
     "execution_count": 3,
     "metadata": {},
     "output_type": "execute_result"
    }
   ],
   "source": [
    "timestamps"
   ]
  },
  {
   "cell_type": "code",
   "execution_count": 4,
   "id": "alternate-victory",
   "metadata": {
    "execution": {
     "iopub.execute_input": "2021-12-02T12:00:10.011232Z",
     "iopub.status.busy": "2021-12-02T12:00:10.009067Z",
     "iopub.status.idle": "2021-12-02T12:00:11.445708Z",
     "shell.execute_reply": "2021-12-02T12:00:11.447161Z"
    },
    "papermill": {
     "duration": 1.467501,
     "end_time": "2021-12-02T12:00:11.447650",
     "exception": false,
     "start_time": "2021-12-02T12:00:09.980149",
     "status": "completed"
    },
    "tags": []
   },
   "outputs": [],
   "source": [
    "df = pd.read_sql(\"select * from EBAY_TOP_BERLIN where record_time in (select distinct record_time from EBAY_TOP_BERLIN order by record_time desc limit 2)\", sqlite3.connect(\"UsedObjects.db\"))"
   ]
  },
  {
   "cell_type": "code",
   "execution_count": 5,
   "id": "popular-active",
   "metadata": {
    "execution": {
     "iopub.execute_input": "2021-12-02T12:00:11.517991Z",
     "iopub.status.busy": "2021-12-02T12:00:11.515614Z",
     "iopub.status.idle": "2021-12-02T12:00:11.548607Z",
     "shell.execute_reply": "2021-12-02T12:00:11.550082Z"
    },
    "papermill": {
     "duration": 0.079062,
     "end_time": "2021-12-02T12:00:11.550554",
     "exception": false,
     "start_time": "2021-12-02T12:00:11.471492",
     "status": "completed"
    },
    "tags": []
   },
   "outputs": [],
   "source": [
    "df_pivot = df.pivot_table(index=\"PRODUCT\", columns = \"RECORD_TIME\", values = \"LISTING_COUNT\")"
   ]
  },
  {
   "cell_type": "code",
   "execution_count": 6,
   "id": "union-huntington",
   "metadata": {
    "execution": {
     "iopub.execute_input": "2021-12-02T12:00:11.608369Z",
     "iopub.status.busy": "2021-12-02T12:00:11.606178Z",
     "iopub.status.idle": "2021-12-02T12:00:11.611935Z",
     "shell.execute_reply": "2021-12-02T12:00:11.613446Z"
    },
    "papermill": {
     "duration": 0.04353,
     "end_time": "2021-12-02T12:00:11.613926",
     "exception": false,
     "start_time": "2021-12-02T12:00:11.570396",
     "status": "completed"
    },
    "tags": []
   },
   "outputs": [],
   "source": [
    "df_pivot.columns = [\"stamp_1\", \"stamp_2\"]\n",
    "df_pivot_diff = df_pivot.diff(axis=1)"
   ]
  },
  {
   "cell_type": "code",
   "execution_count": 7,
   "id": "fifth-motion",
   "metadata": {
    "execution": {
     "iopub.execute_input": "2021-12-02T12:00:11.670904Z",
     "iopub.status.busy": "2021-12-02T12:00:11.668507Z",
     "iopub.status.idle": "2021-12-02T12:00:13.682763Z",
     "shell.execute_reply": "2021-12-02T12:00:13.684351Z"
    },
    "papermill": {
     "duration": 2.050731,
     "end_time": "2021-12-02T12:00:13.684943",
     "exception": false,
     "start_time": "2021-12-02T12:00:11.634212",
     "status": "completed"
    },
    "tags": []
   },
   "outputs": [
    {
     "data": {
      "text/plain": [
       "<AxesSubplot:ylabel='PRODUCT'>"
      ]
     },
     "execution_count": 7,
     "metadata": {},
     "output_type": "execute_result"
    },
    {
     "data": {
      "image/png": "[encoded data removed]",
      "text/plain": [
       "<Figure size 432x288 with 1 Axes>"
      ]
     },
     "metadata": {
      "needs_background": "light"
     },
     "output_type": "display_data"
    }
   ],
   "source": [
    "df_pivot_diff.sort_values(\"stamp_2\", ascending = False)[\"stamp_2\"].head(10).plot.barh()"
   ]
  },
  {
   "cell_type": "code",
   "execution_count": null,
   "id": "extra-executive",
   "metadata": {
    "papermill": {
     "duration": 0.023468,
     "end_time": "2021-12-02T12:00:13.733849",
     "exception": false,
     "start_time": "2021-12-02T12:00:13.710381",
     "status": "completed"
    },
    "tags": []
   },
   "outputs": [],
   "source": []
  }
 ],
 "metadata": {
  "kernelspec": {
   "display_name": "Python 3",
   "language": "python",
   "name": "python3"
  },
  "language_info": {
   "codemirror_mode": {
    "name": "ipython",
    "version": 3
   },
   "file_extension": ".py",
   "mimetype": "text/x-python",
   "name": "python",
   "nbconvert_exporter": "python",
   "pygments_lexer": "ipython3",
   "version": "3.9.5"
  },
  "papermill": {
   "default_parameters": {},
   "duration": 9.944023,
   "end_time": "2021-12-02T12:00:15.038975",
   "environment_variables": {},
   "exception": null,
   "input_path": "eBay_Overview.ipynb",
   "output_path": "eBay_Overview.ipynb",
   "parameters": {},
   "start_time": "2021-12-02T12:00:05.094952",
   "version": "2.3.3"
  }
 },
 "nbformat": 4,
 "nbformat_minor": 5
}