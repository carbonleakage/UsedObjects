{
 "cells": [
  {
   "cell_type": "code",
   "execution_count": 1,
   "id": "reverse-picking",
   "metadata": {
    "execution": {
     "iopub.execute_input": "2021-12-15T21:30:07.223748Z",
     "iopub.status.busy": "2021-12-15T21:30:07.221716Z",
     "iopub.status.idle": "2021-12-15T21:30:08.173591Z",
     "shell.execute_reply": "2021-12-15T21:30:08.171550Z"
    },
    "papermill": {
     "duration": 1.003976,
     "end_time": "2021-12-15T21:30:08.174099",
     "exception": false,
     "start_time": "2021-12-15T21:30:07.170123",
     "status": "completed"
    },
    "tags": []
   },
   "outputs": [],
   "source": [
    "import pandas as pd\n",
    "import sqlite3"
   ]
  },
  {
   "cell_type": "code",
   "execution_count": 2,
   "id": "innovative-syndrome",
   "metadata": {
    "execution": {
     "iopub.execute_input": "2021-12-15T21:30:08.230597Z",
     "iopub.status.busy": "2021-12-15T21:30:08.228262Z",
     "iopub.status.idle": "2021-12-15T21:30:09.333939Z",
     "shell.execute_reply": "2021-12-15T21:30:09.335201Z"
    },
    "papermill": {
     "duration": 1.140071,
     "end_time": "2021-12-15T21:30:09.335608",
     "exception": false,
     "start_time": "2021-12-15T21:30:08.195537",
     "status": "completed"
    },
    "tags": []
   },
   "outputs": [],
   "source": [
    "timestamps = pd.read_sql(\"select distinct record_time from EBAY_TOP_BERLIN order by record_time desc limit 2\", sqlite3.connect(\"UsedObjects.db\"))"
   ]
  },
  {
   "cell_type": "code",
   "execution_count": 3,
   "id": "periodic-identification",
   "metadata": {
    "execution": {
     "iopub.execute_input": "2021-12-15T21:30:09.400498Z",
     "iopub.status.busy": "2021-12-15T21:30:09.398496Z",
     "iopub.status.idle": "2021-12-15T21:30:09.418684Z",
     "shell.execute_reply": "2021-12-15T21:30:09.419976Z"
    },
    "papermill": {
     "duration": 0.065135,
     "end_time": "2021-12-15T21:30:09.420397",
     "exception": false,
     "start_time": "2021-12-15T21:30:09.355262",
     "status": "completed"
    },
    "tags": []
   },
   "outputs": [
    {
     "data": {
      "text/html": [
       "<div>\n",
       "<style scoped>\n",
       "    .dataframe tbody tr th:only-of-type {\n",
       "        vertical-align: middle;\n",
       "    }\n",
       "\n",
       "    .dataframe tbody tr th {\n",
       "        vertical-align: top;\n",
       "    }\n",
       "\n",
       "    .dataframe thead th {\n",
       "        text-align: right;\n",
       "    }\n",
       "</style>\n",
       "<table border=\"1\" class=\"dataframe\">\n",
       "  <thead>\n",
       "    <tr style=\"text-align: right;\">\n",
       "      <th></th>\n",
       "      <th>RECORD_TIME</th>\n",
       "    </tr>\n",
       "  </thead>\n",
       "  <tbody>\n",
       "    <tr>\n",
       "      <th>0</th>\n",
       "      <td>2021-12-15 22:30</td>\n",
       "    </tr>\n",
       "    <tr>\n",
       "      <th>1</th>\n",
       "      <td>2021-12-15 22:00</td>\n",
       "    </tr>\n",
       "  </tbody>\n",
       "</table>\n",
       "</div>"
      ],
      "text/plain": [
       "        RECORD_TIME\n",
       "0  2021-12-15 22:30\n",
       "1  2021-12-15 22:00"
      ]
     },
     "execution_count": 3,
     "metadata": {},
     "output_type": "execute_result"
    }
   ],
   "source": [
    "timestamps"
   ]
  },
  {
   "cell_type": "code",
   "execution_count": 4,
   "id": "alternate-victory",
   "metadata": {
    "execution": {
     "iopub.execute_input": "2021-12-15T21:30:09.474744Z",
     "iopub.status.busy": "2021-12-15T21:30:09.472578Z",
     "iopub.status.idle": "2021-12-15T21:30:11.089312Z",
     "shell.execute_reply": "2021-12-15T21:30:11.090697Z"
    },
    "papermill": {
     "duration": 1.649365,
     "end_time": "2021-12-15T21:30:11.091171",
     "exception": false,
     "start_time": "2021-12-15T21:30:09.441806",
     "status": "completed"
    },
    "tags": []
   },
   "outputs": [],
   "source": [
    "df = pd.read_sql(\"select * from EBAY_TOP_BERLIN where record_time in (select distinct record_time from EBAY_TOP_BERLIN order by record_time desc limit 2)\", sqlite3.connect(\"UsedObjects.db\"))"
   ]
  },
  {
   "cell_type": "code",
   "execution_count": 5,
   "id": "popular-active",
   "metadata": {
    "execution": {
     "iopub.execute_input": "2021-12-15T21:30:11.166437Z",
     "iopub.status.busy": "2021-12-15T21:30:11.153010Z",
     "iopub.status.idle": "2021-12-15T21:30:11.184130Z",
     "shell.execute_reply": "2021-12-15T21:30:11.185554Z"
    },
    "papermill": {
     "duration": 0.074103,
     "end_time": "2021-12-15T21:30:11.186032",
     "exception": false,
     "start_time": "2021-12-15T21:30:11.111929",
     "status": "completed"
    },
    "tags": []
   },
   "outputs": [],
   "source": [
    "df_pivot = df.pivot_table(index=\"PRODUCT\", columns = \"RECORD_TIME\", values = \"LISTING_COUNT\")"
   ]
  },
  {
   "cell_type": "code",
   "execution_count": 6,
   "id": "union-huntington",
   "metadata": {
    "execution": {
     "iopub.execute_input": "2021-12-15T21:30:11.247494Z",
     "iopub.status.busy": "2021-12-15T21:30:11.245291Z",
     "iopub.status.idle": "2021-12-15T21:30:11.250833Z",
     "shell.execute_reply": "2021-12-15T21:30:11.252248Z"
    },
    "papermill": {
     "duration": 0.046086,
     "end_time": "2021-12-15T21:30:11.252795",
     "exception": false,
     "start_time": "2021-12-15T21:30:11.206709",
     "status": "completed"
    },
    "tags": []
   },
   "outputs": [],
   "source": [
    "df_pivot.columns = [\"stamp_1\", \"stamp_2\"]\n",
    "df_pivot_diff = df_pivot.diff(axis=1)"
   ]
  },
  {
   "cell_type": "code",
   "execution_count": 7,
   "id": "fifth-motion",
   "metadata": {
    "execution": {
     "iopub.execute_input": "2021-12-15T21:30:11.309363Z",
     "iopub.status.busy": "2021-12-15T21:30:11.306785Z",
     "iopub.status.idle": "2021-12-15T21:30:13.291040Z",
     "shell.execute_reply": "2021-12-15T21:30:13.292320Z"
    },
    "papermill": {
     "duration": 2.019566,
     "end_time": "2021-12-15T21:30:13.292923",
     "exception": false,
     "start_time": "2021-12-15T21:30:11.273357",
     "status": "completed"
    },
    "tags": []
   },
   "outputs": [
    {
     "data": {
      "text/plain": [
       "<AxesSubplot:ylabel='PRODUCT'>"
      ]
     },
     "execution_count": 7,
     "metadata": {},
     "output_type": "execute_result"
    },
    {
     "data": {
      "image/png": "[encoded data removed]",
      "text/plain": [
       "<Figure size 432x288 with 1 Axes>"
      ]
     },
     "metadata": {
      "needs_background": "light"
     },
     "output_type": "display_data"
    }
   ],
   "source": [
    "df_pivot_diff.sort_values(\"stamp_2\", ascending = False)[\"stamp_2\"].head(10).plot.barh()"
   ]
  },
  {
   "cell_type": "code",
   "execution_count": null,
   "id": "extra-executive",
   "metadata": {
    "papermill": {
     "duration": 0.028715,
     "end_time": "2021-12-15T21:30:13.363920",
     "exception": false,
     "start_time": "2021-12-15T21:30:13.335205",
     "status": "completed"
    },
    "tags": []
   },
   "outputs": [],
   "source": []
  }
 ],
 "metadata": {
  "kernelspec": {
   "display_name": "Python 3",
   "language": "python",
   "name": "python3"
  },
  "language_info": {
   "codemirror_mode": {
    "name": "ipython",
    "version": 3
   },
   "file_extension": ".py",
   "mimetype": "text/x-python",
   "name": "python",
   "nbconvert_exporter": "python",
   "pygments_lexer": "ipython3",
   "version": "3.9.5"
  },
  "papermill": {
   "default_parameters": {},
   "duration": 9.694311,
   "end_time": "2021-12-15T21:30:14.145165",
   "environment_variables": {},
   "exception": null,
   "input_path": "eBay_Overview.ipynb",
   "output_path": "eBay_Overview.ipynb",
   "parameters": {},
   "start_time": "2021-12-15T21:30:04.450854",
   "version": "2.3.3"
  }
 },
 "nbformat": 4,
 "nbformat_minor": 5
}