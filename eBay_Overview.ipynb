{
 "cells": [
  {
   "cell_type": "code",
   "execution_count": 1,
   "id": "reverse-picking",
   "metadata": {
    "execution": {
     "iopub.execute_input": "2021-09-11T02:30:07.256960Z",
     "iopub.status.busy": "2021-09-11T02:30:07.255004Z",
     "iopub.status.idle": "2021-09-11T02:30:08.069352Z",
     "shell.execute_reply": "2021-09-11T02:30:08.067580Z"
    },
    "papermill": {
     "duration": 0.866836,
     "end_time": "2021-09-11T02:30:08.069781",
     "exception": false,
     "start_time": "2021-09-11T02:30:07.202945",
     "status": "completed"
    },
    "tags": []
   },
   "outputs": [],
   "source": [
    "import pandas as pd\n",
    "import sqlite3"
   ]
  },
  {
   "cell_type": "code",
   "execution_count": 2,
   "id": "innovative-syndrome",
   "metadata": {
    "execution": {
     "iopub.execute_input": "2021-09-11T02:30:08.121371Z",
     "iopub.status.busy": "2021-09-11T02:30:08.118997Z",
     "iopub.status.idle": "2021-09-11T02:30:08.375757Z",
     "shell.execute_reply": "2021-09-11T02:30:08.377020Z"
    },
    "papermill": {
     "duration": 0.287056,
     "end_time": "2021-09-11T02:30:08.377419",
     "exception": false,
     "start_time": "2021-09-11T02:30:08.090363",
     "status": "completed"
    },
    "tags": []
   },
   "outputs": [],
   "source": [
    "timestamps = pd.read_sql(\"select distinct record_time from EBAY_TOP_BERLIN order by record_time desc limit 2\", sqlite3.connect(\"UsedObjects.db\"))"
   ]
  },
  {
   "cell_type": "code",
   "execution_count": 3,
   "id": "periodic-identification",
   "metadata": {
    "execution": {
     "iopub.execute_input": "2021-09-11T02:30:08.441790Z",
     "iopub.status.busy": "2021-09-11T02:30:08.439745Z",
     "iopub.status.idle": "2021-09-11T02:30:08.459794Z",
     "shell.execute_reply": "2021-09-11T02:30:08.461065Z"
    },
    "papermill": {
     "duration": 0.064611,
     "end_time": "2021-09-11T02:30:08.461465",
     "exception": false,
     "start_time": "2021-09-11T02:30:08.396854",
     "status": "completed"
    },
    "tags": []
   },
   "outputs": [
    {
     "data": {
      "text/html": [
       "<div>\n",
       "<style scoped>\n",
       "    .dataframe tbody tr th:only-of-type {\n",
       "        vertical-align: middle;\n",
       "    }\n",
       "\n",
       "    .dataframe tbody tr th {\n",
       "        vertical-align: top;\n",
       "    }\n",
       "\n",
       "    .dataframe thead th {\n",
       "        text-align: right;\n",
       "    }\n",
       "</style>\n",
       "<table border=\"1\" class=\"dataframe\">\n",
       "  <thead>\n",
       "    <tr style=\"text-align: right;\">\n",
       "      <th></th>\n",
       "      <th>RECORD_TIME</th>\n",
       "    </tr>\n",
       "  </thead>\n",
       "  <tbody>\n",
       "    <tr>\n",
       "      <th>0</th>\n",
       "      <td>2021-09-11 04:30</td>\n",
       "    </tr>\n",
       "    <tr>\n",
       "      <th>1</th>\n",
       "      <td>2021-09-11 04:00</td>\n",
       "    </tr>\n",
       "  </tbody>\n",
       "</table>\n",
       "</div>"
      ],
      "text/plain": [
       "        RECORD_TIME\n",
       "0  2021-09-11 04:30\n",
       "1  2021-09-11 04:00"
      ]
     },
     "execution_count": 3,
     "metadata": {},
     "output_type": "execute_result"
    }
   ],
   "source": [
    "timestamps"
   ]
  },
  {
   "cell_type": "code",
   "execution_count": 4,
   "id": "alternate-victory",
   "metadata": {
    "execution": {
     "iopub.execute_input": "2021-09-11T02:30:08.514228Z",
     "iopub.status.busy": "2021-09-11T02:30:08.511964Z",
     "iopub.status.idle": "2021-09-11T02:30:08.899876Z",
     "shell.execute_reply": "2021-09-11T02:30:08.901151Z"
    },
    "papermill": {
     "duration": 0.418244,
     "end_time": "2021-09-11T02:30:08.901543",
     "exception": false,
     "start_time": "2021-09-11T02:30:08.483299",
     "status": "completed"
    },
    "tags": []
   },
   "outputs": [],
   "source": [
    "df = pd.read_sql(\"select * from EBAY_TOP_BERLIN where record_time in (select distinct record_time from EBAY_TOP_BERLIN order by record_time desc limit 2)\", sqlite3.connect(\"UsedObjects.db\"))"
   ]
  },
  {
   "cell_type": "code",
   "execution_count": 5,
   "id": "popular-active",
   "metadata": {
    "execution": {
     "iopub.execute_input": "2021-09-11T02:30:08.988545Z",
     "iopub.status.busy": "2021-09-11T02:30:08.975324Z",
     "iopub.status.idle": "2021-09-11T02:30:09.003856Z",
     "shell.execute_reply": "2021-09-11T02:30:09.005077Z"
    },
    "papermill": {
     "duration": 0.074426,
     "end_time": "2021-09-11T02:30:09.005471",
     "exception": false,
     "start_time": "2021-09-11T02:30:08.931045",
     "status": "completed"
    },
    "tags": []
   },
   "outputs": [],
   "source": [
    "df_pivot = df.pivot_table(index=\"PRODUCT\", columns = \"RECORD_TIME\", values = \"LISTING_COUNT\")"
   ]
  },
  {
   "cell_type": "code",
   "execution_count": 6,
   "id": "union-huntington",
   "metadata": {
    "execution": {
     "iopub.execute_input": "2021-09-11T02:30:09.062352Z",
     "iopub.status.busy": "2021-09-11T02:30:09.060304Z",
     "iopub.status.idle": "2021-09-11T02:30:09.065546Z",
     "shell.execute_reply": "2021-09-11T02:30:09.066735Z"
    },
    "papermill": {
     "duration": 0.040175,
     "end_time": "2021-09-11T02:30:09.067224",
     "exception": false,
     "start_time": "2021-09-11T02:30:09.027049",
     "status": "completed"
    },
    "tags": []
   },
   "outputs": [],
   "source": [
    "df_pivot.columns = [\"stamp_1\", \"stamp_2\"]\n",
    "df_pivot_diff = df_pivot.diff(axis=1)"
   ]
  },
  {
   "cell_type": "code",
   "execution_count": 7,
   "id": "fifth-motion",
   "metadata": {
    "execution": {
     "iopub.execute_input": "2021-09-11T02:30:09.122455Z",
     "iopub.status.busy": "2021-09-11T02:30:09.120075Z",
     "iopub.status.idle": "2021-09-11T02:30:10.589459Z",
     "shell.execute_reply": "2021-09-11T02:30:10.590661Z"
    },
    "papermill": {
     "duration": 1.502511,
     "end_time": "2021-09-11T02:30:10.591283",
     "exception": false,
     "start_time": "2021-09-11T02:30:09.088772",
     "status": "completed"
    },
    "tags": []
   },
   "outputs": [
    {
     "data": {
      "text/plain": [
       "<AxesSubplot:ylabel='PRODUCT'>"
      ]
     },
     "execution_count": 7,
     "metadata": {},
     "output_type": "execute_result"
    },
    {
     "data": {
      "image/png": "[encoded data removed]",
      "text/plain": [
       "<Figure size 432x288 with 1 Axes>"
      ]
     },
     "metadata": {
      "needs_background": "light"
     },
     "output_type": "display_data"
    }
   ],
   "source": [
    "df_pivot_diff.sort_values(\"stamp_2\", ascending = False)[\"stamp_2\"].head(10).plot.barh()"
   ]
  },
  {
   "cell_type": "code",
   "execution_count": null,
   "id": "extra-executive",
   "metadata": {
    "papermill": {
     "duration": 0.02221,
     "end_time": "2021-09-11T02:30:10.639798",
     "exception": false,
     "start_time": "2021-09-11T02:30:10.617588",
     "status": "completed"
    },
    "tags": []
   },
   "outputs": [],
   "source": []
  }
 ],
 "metadata": {
  "kernelspec": {
   "display_name": "Python 3",
   "language": "python",
   "name": "python3"
  },
  "language_info": {
   "codemirror_mode": {
    "name": "ipython",
    "version": 3
   },
   "file_extension": ".py",
   "mimetype": "text/x-python",
   "name": "python",
   "nbconvert_exporter": "python",
   "pygments_lexer": "ipython3",
   "version": "3.9.5"
  },
  "papermill": {
   "default_parameters": {},
   "duration": 6.492443,
   "end_time": "2021-09-11T02:30:11.279899",
   "environment_variables": {},
   "exception": null,
   "input_path": "eBay_Overview.ipynb",
   "output_path": "eBay_Overview.ipynb",
   "parameters": {},
   "start_time": "2021-09-11T02:30:04.787456",
   "version": "2.3.3"
  }
 },
 "nbformat": 4,
 "nbformat_minor": 5
}