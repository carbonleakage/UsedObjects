{
 "cells": [
  {
   "cell_type": "code",
   "execution_count": 1,
   "id": "reverse-picking",
   "metadata": {
    "execution": {
     "iopub.execute_input": "2021-10-29T11:30:06.942522Z",
     "iopub.status.busy": "2021-10-29T11:30:06.940518Z",
     "iopub.status.idle": "2021-10-29T11:30:07.744055Z",
     "shell.execute_reply": "2021-10-29T11:30:07.745377Z"
    },
    "papermill": {
     "duration": 0.854601,
     "end_time": "2021-10-29T11:30:07.746016",
     "exception": false,
     "start_time": "2021-10-29T11:30:06.891415",
     "status": "completed"
    },
    "tags": []
   },
   "outputs": [],
   "source": [
    "import pandas as pd\n",
    "import sqlite3"
   ]
  },
  {
   "cell_type": "code",
   "execution_count": 2,
   "id": "innovative-syndrome",
   "metadata": {
    "execution": {
     "iopub.execute_input": "2021-10-29T11:30:07.796732Z",
     "iopub.status.busy": "2021-10-29T11:30:07.794810Z",
     "iopub.status.idle": "2021-10-29T11:30:08.452451Z",
     "shell.execute_reply": "2021-10-29T11:30:08.453857Z"
    },
    "papermill": {
     "duration": 0.687451,
     "end_time": "2021-10-29T11:30:08.454284",
     "exception": false,
     "start_time": "2021-10-29T11:30:07.766833",
     "status": "completed"
    },
    "tags": []
   },
   "outputs": [],
   "source": [
    "timestamps = pd.read_sql(\"select distinct record_time from EBAY_TOP_BERLIN order by record_time desc limit 2\", sqlite3.connect(\"UsedObjects.db\"))"
   ]
  },
  {
   "cell_type": "code",
   "execution_count": 3,
   "id": "periodic-identification",
   "metadata": {
    "execution": {
     "iopub.execute_input": "2021-10-29T11:30:08.531350Z",
     "iopub.status.busy": "2021-10-29T11:30:08.526121Z",
     "iopub.status.idle": "2021-10-29T11:30:08.548162Z",
     "shell.execute_reply": "2021-10-29T11:30:08.549775Z"
    },
    "papermill": {
     "duration": 0.071021,
     "end_time": "2021-10-29T11:30:08.550295",
     "exception": false,
     "start_time": "2021-10-29T11:30:08.479274",
     "status": "completed"
    },
    "tags": []
   },
   "outputs": [
    {
     "data": {
      "text/html": [
       "<div>\n",
       "<style scoped>\n",
       "    .dataframe tbody tr th:only-of-type {\n",
       "        vertical-align: middle;\n",
       "    }\n",
       "\n",
       "    .dataframe tbody tr th {\n",
       "        vertical-align: top;\n",
       "    }\n",
       "\n",
       "    .dataframe thead th {\n",
       "        text-align: right;\n",
       "    }\n",
       "</style>\n",
       "<table border=\"1\" class=\"dataframe\">\n",
       "  <thead>\n",
       "    <tr style=\"text-align: right;\">\n",
       "      <th></th>\n",
       "      <th>RECORD_TIME</th>\n",
       "    </tr>\n",
       "  </thead>\n",
       "  <tbody>\n",
       "    <tr>\n",
       "      <th>0</th>\n",
       "      <td>2021-10-29 13:30</td>\n",
       "    </tr>\n",
       "    <tr>\n",
       "      <th>1</th>\n",
       "      <td>2021-10-29 13:00</td>\n",
       "    </tr>\n",
       "  </tbody>\n",
       "</table>\n",
       "</div>"
      ],
      "text/plain": [
       "        RECORD_TIME\n",
       "0  2021-10-29 13:30\n",
       "1  2021-10-29 13:00"
      ]
     },
     "execution_count": 3,
     "metadata": {},
     "output_type": "execute_result"
    }
   ],
   "source": [
    "timestamps"
   ]
  },
  {
   "cell_type": "code",
   "execution_count": 4,
   "id": "alternate-victory",
   "metadata": {
    "execution": {
     "iopub.execute_input": "2021-10-29T11:30:08.603729Z",
     "iopub.status.busy": "2021-10-29T11:30:08.601808Z",
     "iopub.status.idle": "2021-10-29T11:30:09.579204Z",
     "shell.execute_reply": "2021-10-29T11:30:09.580412Z"
    },
    "papermill": {
     "duration": 1.008069,
     "end_time": "2021-10-29T11:30:09.580982",
     "exception": false,
     "start_time": "2021-10-29T11:30:08.572913",
     "status": "completed"
    },
    "tags": []
   },
   "outputs": [],
   "source": [
    "df = pd.read_sql(\"select * from EBAY_TOP_BERLIN where record_time in (select distinct record_time from EBAY_TOP_BERLIN order by record_time desc limit 2)\", sqlite3.connect(\"UsedObjects.db\"))"
   ]
  },
  {
   "cell_type": "code",
   "execution_count": 5,
   "id": "popular-active",
   "metadata": {
    "execution": {
     "iopub.execute_input": "2021-10-29T11:30:09.652375Z",
     "iopub.status.busy": "2021-10-29T11:30:09.640448Z",
     "iopub.status.idle": "2021-10-29T11:30:09.668192Z",
     "shell.execute_reply": "2021-10-29T11:30:09.669686Z"
    },
    "papermill": {
     "duration": 0.068385,
     "end_time": "2021-10-29T11:30:09.670133",
     "exception": false,
     "start_time": "2021-10-29T11:30:09.601748",
     "status": "completed"
    },
    "tags": []
   },
   "outputs": [],
   "source": [
    "df_pivot = df.pivot_table(index=\"PRODUCT\", columns = \"RECORD_TIME\", values = \"LISTING_COUNT\")"
   ]
  },
  {
   "cell_type": "code",
   "execution_count": 6,
   "id": "union-huntington",
   "metadata": {
    "execution": {
     "iopub.execute_input": "2021-10-29T11:30:09.726102Z",
     "iopub.status.busy": "2021-10-29T11:30:09.723871Z",
     "iopub.status.idle": "2021-10-29T11:30:09.729460Z",
     "shell.execute_reply": "2021-10-29T11:30:09.730733Z"
    },
    "papermill": {
     "duration": 0.040697,
     "end_time": "2021-10-29T11:30:09.731182",
     "exception": false,
     "start_time": "2021-10-29T11:30:09.690485",
     "status": "completed"
    },
    "tags": []
   },
   "outputs": [],
   "source": [
    "df_pivot.columns = [\"stamp_1\", \"stamp_2\"]\n",
    "df_pivot_diff = df_pivot.diff(axis=1)"
   ]
  },
  {
   "cell_type": "code",
   "execution_count": 7,
   "id": "fifth-motion",
   "metadata": {
    "execution": {
     "iopub.execute_input": "2021-10-29T11:30:09.787620Z",
     "iopub.status.busy": "2021-10-29T11:30:09.785005Z",
     "iopub.status.idle": "2021-10-29T11:30:11.232632Z",
     "shell.execute_reply": "2021-10-29T11:30:11.233893Z"
    },
    "papermill": {
     "duration": 1.481376,
     "end_time": "2021-10-29T11:30:11.234319",
     "exception": false,
     "start_time": "2021-10-29T11:30:09.752943",
     "status": "completed"
    },
    "tags": []
   },
   "outputs": [
    {
     "data": {
      "text/plain": [
       "<AxesSubplot:ylabel='PRODUCT'>"
      ]
     },
     "execution_count": 7,
     "metadata": {},
     "output_type": "execute_result"
    },
    {
     "data": {
      "image/png": "[encoded data removed]",
      "text/plain": [
       "<Figure size 432x288 with 1 Axes>"
      ]
     },
     "metadata": {
      "needs_background": "light"
     },
     "output_type": "display_data"
    }
   ],
   "source": [
    "df_pivot_diff.sort_values(\"stamp_2\", ascending = False)[\"stamp_2\"].head(10).plot.barh()"
   ]
  },
  {
   "cell_type": "code",
   "execution_count": null,
   "id": "extra-executive",
   "metadata": {
    "papermill": {
     "duration": 0.022433,
     "end_time": "2021-10-29T11:30:11.280972",
     "exception": false,
     "start_time": "2021-10-29T11:30:11.258539",
     "status": "completed"
    },
    "tags": []
   },
   "outputs": [],
   "source": []
  }
 ],
 "metadata": {
  "kernelspec": {
   "display_name": "Python 3",
   "language": "python",
   "name": "python3"
  },
  "language_info": {
   "codemirror_mode": {
    "name": "ipython",
    "version": 3
   },
   "file_extension": ".py",
   "mimetype": "text/x-python",
   "name": "python",
   "nbconvert_exporter": "python",
   "pygments_lexer": "ipython3",
   "version": "3.9.5"
  },
  "papermill": {
   "default_parameters": {},
   "duration": 7.434743,
   "end_time": "2021-10-29T11:30:11.925583",
   "environment_variables": {},
   "exception": null,
   "input_path": "eBay_Overview.ipynb",
   "output_path": "eBay_Overview.ipynb",
   "parameters": {},
   "start_time": "2021-10-29T11:30:04.490840",
   "version": "2.3.3"
  }
 },
 "nbformat": 4,
 "nbformat_minor": 5
}