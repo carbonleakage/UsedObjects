{
 "cells": [
  {
   "cell_type": "code",
   "execution_count": 1,
   "id": "reverse-picking",
   "metadata": {
    "execution": {
     "iopub.execute_input": "2021-11-13T05:00:07.541472Z",
     "iopub.status.busy": "2021-11-13T05:00:07.537120Z",
     "iopub.status.idle": "2021-11-13T05:00:08.493992Z",
     "shell.execute_reply": "2021-11-13T05:00:08.495476Z"
    },
    "papermill": {
     "duration": 1.005272,
     "end_time": "2021-11-13T05:00:08.496203",
     "exception": false,
     "start_time": "2021-11-13T05:00:07.490931",
     "status": "completed"
    },
    "tags": []
   },
   "outputs": [],
   "source": [
    "import pandas as pd\n",
    "import sqlite3"
   ]
  },
  {
   "cell_type": "code",
   "execution_count": 2,
   "id": "innovative-syndrome",
   "metadata": {
    "execution": {
     "iopub.execute_input": "2021-11-13T05:00:08.559403Z",
     "iopub.status.busy": "2021-11-13T05:00:08.557312Z",
     "iopub.status.idle": "2021-11-13T05:00:09.361834Z",
     "shell.execute_reply": "2021-11-13T05:00:09.363134Z"
    },
    "papermill": {
     "duration": 0.838573,
     "end_time": "2021-11-13T05:00:09.363589",
     "exception": false,
     "start_time": "2021-11-13T05:00:08.525016",
     "status": "completed"
    },
    "tags": []
   },
   "outputs": [],
   "source": [
    "timestamps = pd.read_sql(\"select distinct record_time from EBAY_TOP_BERLIN order by record_time desc limit 2\", sqlite3.connect(\"UsedObjects.db\"))"
   ]
  },
  {
   "cell_type": "code",
   "execution_count": 3,
   "id": "periodic-identification",
   "metadata": {
    "execution": {
     "iopub.execute_input": "2021-11-13T05:00:09.434294Z",
     "iopub.status.busy": "2021-11-13T05:00:09.429035Z",
     "iopub.status.idle": "2021-11-13T05:00:09.449221Z",
     "shell.execute_reply": "2021-11-13T05:00:09.450533Z"
    },
    "papermill": {
     "duration": 0.067276,
     "end_time": "2021-11-13T05:00:09.450938",
     "exception": false,
     "start_time": "2021-11-13T05:00:09.383662",
     "status": "completed"
    },
    "tags": []
   },
   "outputs": [
    {
     "data": {
      "text/html": [
       "<div>\n",
       "<style scoped>\n",
       "    .dataframe tbody tr th:only-of-type {\n",
       "        vertical-align: middle;\n",
       "    }\n",
       "\n",
       "    .dataframe tbody tr th {\n",
       "        vertical-align: top;\n",
       "    }\n",
       "\n",
       "    .dataframe thead th {\n",
       "        text-align: right;\n",
       "    }\n",
       "</style>\n",
       "<table border=\"1\" class=\"dataframe\">\n",
       "  <thead>\n",
       "    <tr style=\"text-align: right;\">\n",
       "      <th></th>\n",
       "      <th>RECORD_TIME</th>\n",
       "    </tr>\n",
       "  </thead>\n",
       "  <tbody>\n",
       "    <tr>\n",
       "      <th>0</th>\n",
       "      <td>2021-11-13 06:00</td>\n",
       "    </tr>\n",
       "    <tr>\n",
       "      <th>1</th>\n",
       "      <td>2021-11-13 05:30</td>\n",
       "    </tr>\n",
       "  </tbody>\n",
       "</table>\n",
       "</div>"
      ],
      "text/plain": [
       "        RECORD_TIME\n",
       "0  2021-11-13 06:00\n",
       "1  2021-11-13 05:30"
      ]
     },
     "execution_count": 3,
     "metadata": {},
     "output_type": "execute_result"
    }
   ],
   "source": [
    "timestamps"
   ]
  },
  {
   "cell_type": "code",
   "execution_count": 4,
   "id": "alternate-victory",
   "metadata": {
    "execution": {
     "iopub.execute_input": "2021-11-13T05:00:09.504483Z",
     "iopub.status.busy": "2021-11-13T05:00:09.502401Z",
     "iopub.status.idle": "2021-11-13T05:00:10.663368Z",
     "shell.execute_reply": "2021-11-13T05:00:10.664974Z"
    },
    "papermill": {
     "duration": 1.193059,
     "end_time": "2021-11-13T05:00:10.665460",
     "exception": false,
     "start_time": "2021-11-13T05:00:09.472401",
     "status": "completed"
    },
    "tags": []
   },
   "outputs": [],
   "source": [
    "df = pd.read_sql(\"select * from EBAY_TOP_BERLIN where record_time in (select distinct record_time from EBAY_TOP_BERLIN order by record_time desc limit 2)\", sqlite3.connect(\"UsedObjects.db\"))"
   ]
  },
  {
   "cell_type": "code",
   "execution_count": 5,
   "id": "popular-active",
   "metadata": {
    "execution": {
     "iopub.execute_input": "2021-11-13T05:00:10.742315Z",
     "iopub.status.busy": "2021-11-13T05:00:10.729205Z",
     "iopub.status.idle": "2021-11-13T05:00:10.760558Z",
     "shell.execute_reply": "2021-11-13T05:00:10.762064Z"
    },
    "papermill": {
     "duration": 0.074283,
     "end_time": "2021-11-13T05:00:10.762541",
     "exception": false,
     "start_time": "2021-11-13T05:00:10.688258",
     "status": "completed"
    },
    "tags": []
   },
   "outputs": [],
   "source": [
    "df_pivot = df.pivot_table(index=\"PRODUCT\", columns = \"RECORD_TIME\", values = \"LISTING_COUNT\")"
   ]
  },
  {
   "cell_type": "code",
   "execution_count": 6,
   "id": "union-huntington",
   "metadata": {
    "execution": {
     "iopub.execute_input": "2021-11-13T05:00:10.825081Z",
     "iopub.status.busy": "2021-11-13T05:00:10.821924Z",
     "iopub.status.idle": "2021-11-13T05:00:10.831352Z",
     "shell.execute_reply": "2021-11-13T05:00:10.832777Z"
    },
    "papermill": {
     "duration": 0.050475,
     "end_time": "2021-11-13T05:00:10.833250",
     "exception": false,
     "start_time": "2021-11-13T05:00:10.782775",
     "status": "completed"
    },
    "tags": []
   },
   "outputs": [],
   "source": [
    "df_pivot.columns = [\"stamp_1\", \"stamp_2\"]\n",
    "df_pivot_diff = df_pivot.diff(axis=1)"
   ]
  },
  {
   "cell_type": "code",
   "execution_count": 7,
   "id": "fifth-motion",
   "metadata": {
    "execution": {
     "iopub.execute_input": "2021-11-13T05:00:10.892668Z",
     "iopub.status.busy": "2021-11-13T05:00:10.890222Z",
     "iopub.status.idle": "2021-11-13T05:00:12.837273Z",
     "shell.execute_reply": "2021-11-13T05:00:12.839095Z"
    },
    "papermill": {
     "duration": 1.984348,
     "end_time": "2021-11-13T05:00:12.839699",
     "exception": false,
     "start_time": "2021-11-13T05:00:10.855351",
     "status": "completed"
    },
    "tags": []
   },
   "outputs": [
    {
     "data": {
      "text/plain": [
       "<AxesSubplot:ylabel='PRODUCT'>"
      ]
     },
     "execution_count": 7,
     "metadata": {},
     "output_type": "execute_result"
    },
    {
     "data": {
      "image/png": "[encoded data removed]",
      "text/plain": [
       "<Figure size 432x288 with 1 Axes>"
      ]
     },
     "metadata": {
      "needs_background": "light"
     },
     "output_type": "display_data"
    }
   ],
   "source": [
    "df_pivot_diff.sort_values(\"stamp_2\", ascending = False)[\"stamp_2\"].head(10).plot.barh()"
   ]
  },
  {
   "cell_type": "code",
   "execution_count": null,
   "id": "extra-executive",
   "metadata": {
    "papermill": {
     "duration": 0.037557,
     "end_time": "2021-11-13T05:00:12.906308",
     "exception": false,
     "start_time": "2021-11-13T05:00:12.868751",
     "status": "completed"
    },
    "tags": []
   },
   "outputs": [],
   "source": []
  }
 ],
 "metadata": {
  "kernelspec": {
   "display_name": "Python 3",
   "language": "python",
   "name": "python3"
  },
  "language_info": {
   "codemirror_mode": {
    "name": "ipython",
    "version": 3
   },
   "file_extension": ".py",
   "mimetype": "text/x-python",
   "name": "python",
   "nbconvert_exporter": "python",
   "pygments_lexer": "ipython3",
   "version": "3.9.5"
  },
  "papermill": {
   "default_parameters": {},
   "duration": 8.914763,
   "end_time": "2021-11-13T05:00:13.686458",
   "environment_variables": {},
   "exception": null,
   "input_path": "eBay_Overview.ipynb",
   "output_path": "eBay_Overview.ipynb",
   "parameters": {},
   "start_time": "2021-11-13T05:00:04.771695",
   "version": "2.3.3"
  }
 },
 "nbformat": 4,
 "nbformat_minor": 5
}