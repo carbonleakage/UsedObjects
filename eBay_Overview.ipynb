{
 "cells": [
  {
   "cell_type": "code",
   "execution_count": 1,
   "id": "reverse-picking",
   "metadata": {
    "execution": {
     "iopub.execute_input": "2021-08-10T23:30:04.287932Z",
     "iopub.status.busy": "2021-08-10T23:30:04.287047Z",
     "iopub.status.idle": "2021-08-10T23:30:05.011151Z",
     "shell.execute_reply": "2021-08-10T23:30:05.010334Z"
    },
    "papermill": {
     "duration": 0.748262,
     "end_time": "2021-08-10T23:30:05.011343",
     "exception": false,
     "start_time": "2021-08-10T23:30:04.263081",
     "status": "completed"
    },
    "tags": []
   },
   "outputs": [],
   "source": [
    "import pandas as pd\n",
    "import sqlite3"
   ]
  },
  {
   "cell_type": "code",
   "execution_count": 2,
   "id": "innovative-syndrome",
   "metadata": {
    "execution": {
     "iopub.execute_input": "2021-08-10T23:30:05.041462Z",
     "iopub.status.busy": "2021-08-10T23:30:05.040690Z",
     "iopub.status.idle": "2021-08-10T23:30:05.301602Z",
     "shell.execute_reply": "2021-08-10T23:30:05.300997Z"
    },
    "papermill": {
     "duration": 0.276604,
     "end_time": "2021-08-10T23:30:05.301753",
     "exception": false,
     "start_time": "2021-08-10T23:30:05.025149",
     "status": "completed"
    },
    "tags": []
   },
   "outputs": [],
   "source": [
    "timestamps = pd.read_sql(\"select distinct record_time from EBAY_TOP_BERLIN order by record_time desc limit 2\", sqlite3.connect(\"UsedObjects.db\"))"
   ]
  },
  {
   "cell_type": "code",
   "execution_count": 3,
   "id": "periodic-identification",
   "metadata": {
    "execution": {
     "iopub.execute_input": "2021-08-10T23:30:05.336647Z",
     "iopub.status.busy": "2021-08-10T23:30:05.335871Z",
     "iopub.status.idle": "2021-08-10T23:30:05.348908Z",
     "shell.execute_reply": "2021-08-10T23:30:05.349811Z"
    },
    "papermill": {
     "duration": 0.036028,
     "end_time": "2021-08-10T23:30:05.350085",
     "exception": false,
     "start_time": "2021-08-10T23:30:05.314057",
     "status": "completed"
    },
    "tags": []
   },
   "outputs": [
    {
     "data": {
      "text/html": [
       "<div>\n",
       "<style scoped>\n",
       "    .dataframe tbody tr th:only-of-type {\n",
       "        vertical-align: middle;\n",
       "    }\n",
       "\n",
       "    .dataframe tbody tr th {\n",
       "        vertical-align: top;\n",
       "    }\n",
       "\n",
       "    .dataframe thead th {\n",
       "        text-align: right;\n",
       "    }\n",
       "</style>\n",
       "<table border=\"1\" class=\"dataframe\">\n",
       "  <thead>\n",
       "    <tr style=\"text-align: right;\">\n",
       "      <th></th>\n",
       "      <th>RECORD_TIME</th>\n",
       "    </tr>\n",
       "  </thead>\n",
       "  <tbody>\n",
       "    <tr>\n",
       "      <th>0</th>\n",
       "      <td>2021-08-11 01:30</td>\n",
       "    </tr>\n",
       "    <tr>\n",
       "      <th>1</th>\n",
       "      <td>2021-08-11 01:00</td>\n",
       "    </tr>\n",
       "  </tbody>\n",
       "</table>\n",
       "</div>"
      ],
      "text/plain": [
       "        RECORD_TIME\n",
       "0  2021-08-11 01:30\n",
       "1  2021-08-11 01:00"
      ]
     },
     "execution_count": 3,
     "metadata": {},
     "output_type": "execute_result"
    }
   ],
   "source": [
    "timestamps"
   ]
  },
  {
   "cell_type": "code",
   "execution_count": 4,
   "id": "alternate-victory",
   "metadata": {
    "execution": {
     "iopub.execute_input": "2021-08-10T23:30:05.374328Z",
     "iopub.status.busy": "2021-08-10T23:30:05.373551Z",
     "iopub.status.idle": "2021-08-10T23:30:05.390521Z",
     "shell.execute_reply": "2021-08-10T23:30:05.391089Z"
    },
    "papermill": {
     "duration": 0.031309,
     "end_time": "2021-08-10T23:30:05.391281",
     "exception": false,
     "start_time": "2021-08-10T23:30:05.359972",
     "status": "completed"
    },
    "tags": []
   },
   "outputs": [],
   "source": [
    "df = pd.read_sql(\"select * from EBAY_TOP_BERLIN where record_time in (select distinct record_time from EBAY_TOP_BERLIN order by record_time desc limit 2)\", sqlite3.connect(\"UsedObjects.db\"))"
   ]
  },
  {
   "cell_type": "code",
   "execution_count": 5,
   "id": "popular-active",
   "metadata": {
    "execution": {
     "iopub.execute_input": "2021-08-10T23:30:05.421676Z",
     "iopub.status.busy": "2021-08-10T23:30:05.420896Z",
     "iopub.status.idle": "2021-08-10T23:30:05.439039Z",
     "shell.execute_reply": "2021-08-10T23:30:05.439563Z"
    },
    "papermill": {
     "duration": 0.039834,
     "end_time": "2021-08-10T23:30:05.439742",
     "exception": false,
     "start_time": "2021-08-10T23:30:05.399908",
     "status": "completed"
    },
    "tags": []
   },
   "outputs": [],
   "source": [
    "df_pivot = df.pivot_table(index=\"PRODUCT\", columns = \"RECORD_TIME\", values = \"LISTING_COUNT\")"
   ]
  },
  {
   "cell_type": "code",
   "execution_count": 6,
   "id": "union-huntington",
   "metadata": {
    "execution": {
     "iopub.execute_input": "2021-08-10T23:30:05.465375Z",
     "iopub.status.busy": "2021-08-10T23:30:05.464675Z",
     "iopub.status.idle": "2021-08-10T23:30:05.472461Z",
     "shell.execute_reply": "2021-08-10T23:30:05.471715Z"
    },
    "papermill": {
     "duration": 0.023926,
     "end_time": "2021-08-10T23:30:05.472621",
     "exception": false,
     "start_time": "2021-08-10T23:30:05.448695",
     "status": "completed"
    },
    "tags": []
   },
   "outputs": [],
   "source": [
    "df_pivot.columns = [\"stamp_1\", \"stamp_2\"]\n",
    "df_pivot_diff = df_pivot.diff(axis=1)"
   ]
  },
  {
   "cell_type": "code",
   "execution_count": 7,
   "id": "fifth-motion",
   "metadata": {
    "execution": {
     "iopub.execute_input": "2021-08-10T23:30:05.504940Z",
     "iopub.status.busy": "2021-08-10T23:30:05.503584Z",
     "iopub.status.idle": "2021-08-10T23:30:06.325231Z",
     "shell.execute_reply": "2021-08-10T23:30:06.325793Z"
    },
    "papermill": {
     "duration": 0.844932,
     "end_time": "2021-08-10T23:30:06.325982",
     "exception": false,
     "start_time": "2021-08-10T23:30:05.481050",
     "status": "completed"
    },
    "tags": []
   },
   "outputs": [
    {
     "data": {
      "text/plain": [
       "<AxesSubplot:ylabel='PRODUCT'>"
      ]
     },
     "execution_count": 7,
     "metadata": {},
     "output_type": "execute_result"
    },
    {
     "data": {
      "image/png": "[encoded data removed]",
      "text/plain": [
       "<Figure size 432x288 with 1 Axes>"
      ]
     },
     "metadata": {
      "needs_background": "light"
     },
     "output_type": "display_data"
    }
   ],
   "source": [
    "df_pivot_diff.sort_values(\"stamp_2\", ascending = False)[\"stamp_2\"].head(10).plot.barh()"
   ]
  },
  {
   "cell_type": "code",
   "execution_count": null,
   "id": "extra-executive",
   "metadata": {
    "papermill": {
     "duration": 0.009441,
     "end_time": "2021-08-10T23:30:06.345445",
     "exception": false,
     "start_time": "2021-08-10T23:30:06.336004",
     "status": "completed"
    },
    "tags": []
   },
   "outputs": [],
   "source": []
  }
 ],
 "metadata": {
  "kernelspec": {
   "display_name": "Python 3",
   "language": "python",
   "name": "python3"
  },
  "language_info": {
   "codemirror_mode": {
    "name": "ipython",
    "version": 3
   },
   "file_extension": ".py",
   "mimetype": "text/x-python",
   "name": "python",
   "nbconvert_exporter": "python",
   "pygments_lexer": "ipython3",
   "version": "3.8.8"
  },
  "papermill": {
   "default_parameters": {},
   "duration": 4.482908,
   "end_time": "2021-08-10T23:30:07.103229",
   "environment_variables": {},
   "exception": null,
   "input_path": "/Users/saravananshanmugam/Carbonleakage_Git/UsedObjects/eBay_Overview.ipynb",
   "output_path": "/Users/saravananshanmugam/Carbonleakage_Git/UsedObjects/eBay_Overview.ipynb",
   "parameters": {},
   "start_time": "2021-08-10T23:30:02.620321",
   "version": "2.3.3"
  }
 },
 "nbformat": 4,
 "nbformat_minor": 5
}