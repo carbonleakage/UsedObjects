{
 "cells": [
  {
   "cell_type": "code",
   "execution_count": 1,
   "id": "reverse-picking",
   "metadata": {
    "execution": {
     "iopub.execute_input": "2021-09-09T04:00:06.621019Z",
     "iopub.status.busy": "2021-09-09T04:00:06.619110Z",
     "iopub.status.idle": "2021-09-09T04:00:07.430582Z",
     "shell.execute_reply": "2021-09-09T04:00:07.432618Z"
    },
    "papermill": {
     "duration": 0.86605,
     "end_time": "2021-09-09T04:00:07.433308",
     "exception": false,
     "start_time": "2021-09-09T04:00:06.567258",
     "status": "completed"
    },
    "tags": []
   },
   "outputs": [],
   "source": [
    "import pandas as pd\n",
    "import sqlite3"
   ]
  },
  {
   "cell_type": "code",
   "execution_count": 2,
   "id": "innovative-syndrome",
   "metadata": {
    "execution": {
     "iopub.execute_input": "2021-09-09T04:00:07.484689Z",
     "iopub.status.busy": "2021-09-09T04:00:07.482277Z",
     "iopub.status.idle": "2021-09-09T04:00:07.723860Z",
     "shell.execute_reply": "2021-09-09T04:00:07.725096Z"
    },
    "papermill": {
     "duration": 0.271416,
     "end_time": "2021-09-09T04:00:07.725487",
     "exception": false,
     "start_time": "2021-09-09T04:00:07.454071",
     "status": "completed"
    },
    "tags": []
   },
   "outputs": [],
   "source": [
    "timestamps = pd.read_sql(\"select distinct record_time from EBAY_TOP_BERLIN order by record_time desc limit 2\", sqlite3.connect(\"UsedObjects.db\"))"
   ]
  },
  {
   "cell_type": "code",
   "execution_count": 3,
   "id": "periodic-identification",
   "metadata": {
    "execution": {
     "iopub.execute_input": "2021-09-09T04:00:07.790225Z",
     "iopub.status.busy": "2021-09-09T04:00:07.788208Z",
     "iopub.status.idle": "2021-09-09T04:00:07.809690Z",
     "shell.execute_reply": "2021-09-09T04:00:07.808284Z"
    },
    "papermill": {
     "duration": 0.064495,
     "end_time": "2021-09-09T04:00:07.810038",
     "exception": false,
     "start_time": "2021-09-09T04:00:07.745543",
     "status": "completed"
    },
    "tags": []
   },
   "outputs": [
    {
     "data": {
      "text/html": [
       "<div>\n",
       "<style scoped>\n",
       "    .dataframe tbody tr th:only-of-type {\n",
       "        vertical-align: middle;\n",
       "    }\n",
       "\n",
       "    .dataframe tbody tr th {\n",
       "        vertical-align: top;\n",
       "    }\n",
       "\n",
       "    .dataframe thead th {\n",
       "        text-align: right;\n",
       "    }\n",
       "</style>\n",
       "<table border=\"1\" class=\"dataframe\">\n",
       "  <thead>\n",
       "    <tr style=\"text-align: right;\">\n",
       "      <th></th>\n",
       "      <th>RECORD_TIME</th>\n",
       "    </tr>\n",
       "  </thead>\n",
       "  <tbody>\n",
       "    <tr>\n",
       "      <th>0</th>\n",
       "      <td>2021-09-09 06:00</td>\n",
       "    </tr>\n",
       "    <tr>\n",
       "      <th>1</th>\n",
       "      <td>2021-09-09 05:30</td>\n",
       "    </tr>\n",
       "  </tbody>\n",
       "</table>\n",
       "</div>"
      ],
      "text/plain": [
       "        RECORD_TIME\n",
       "0  2021-09-09 06:00\n",
       "1  2021-09-09 05:30"
      ]
     },
     "execution_count": 3,
     "metadata": {},
     "output_type": "execute_result"
    }
   ],
   "source": [
    "timestamps"
   ]
  },
  {
   "cell_type": "code",
   "execution_count": 4,
   "id": "alternate-victory",
   "metadata": {
    "execution": {
     "iopub.execute_input": "2021-09-09T04:00:07.860630Z",
     "iopub.status.busy": "2021-09-09T04:00:07.858674Z",
     "iopub.status.idle": "2021-09-09T04:00:08.211220Z",
     "shell.execute_reply": "2021-09-09T04:00:08.212741Z"
    },
    "papermill": {
     "duration": 0.382741,
     "end_time": "2021-09-09T04:00:08.213187",
     "exception": false,
     "start_time": "2021-09-09T04:00:07.830446",
     "status": "completed"
    },
    "tags": []
   },
   "outputs": [],
   "source": [
    "df = pd.read_sql(\"select * from EBAY_TOP_BERLIN where record_time in (select distinct record_time from EBAY_TOP_BERLIN order by record_time desc limit 2)\", sqlite3.connect(\"UsedObjects.db\"))"
   ]
  },
  {
   "cell_type": "code",
   "execution_count": 5,
   "id": "popular-active",
   "metadata": {
    "execution": {
     "iopub.execute_input": "2021-09-09T04:00:08.293210Z",
     "iopub.status.busy": "2021-09-09T04:00:08.280038Z",
     "iopub.status.idle": "2021-09-09T04:00:08.308654Z",
     "shell.execute_reply": "2021-09-09T04:00:08.309869Z"
    },
    "papermill": {
     "duration": 0.071012,
     "end_time": "2021-09-09T04:00:08.310261",
     "exception": false,
     "start_time": "2021-09-09T04:00:08.239249",
     "status": "completed"
    },
    "tags": []
   },
   "outputs": [],
   "source": [
    "df_pivot = df.pivot_table(index=\"PRODUCT\", columns = \"RECORD_TIME\", values = \"LISTING_COUNT\")"
   ]
  },
  {
   "cell_type": "code",
   "execution_count": 6,
   "id": "union-huntington",
   "metadata": {
    "execution": {
     "iopub.execute_input": "2021-09-09T04:00:08.366341Z",
     "iopub.status.busy": "2021-09-09T04:00:08.364183Z",
     "iopub.status.idle": "2021-09-09T04:00:08.371547Z",
     "shell.execute_reply": "2021-09-09T04:00:08.369853Z"
    },
    "papermill": {
     "duration": 0.041198,
     "end_time": "2021-09-09T04:00:08.371950",
     "exception": false,
     "start_time": "2021-09-09T04:00:08.330752",
     "status": "completed"
    },
    "tags": []
   },
   "outputs": [],
   "source": [
    "df_pivot.columns = [\"stamp_1\", \"stamp_2\"]\n",
    "df_pivot_diff = df_pivot.diff(axis=1)"
   ]
  },
  {
   "cell_type": "code",
   "execution_count": 7,
   "id": "fifth-motion",
   "metadata": {
    "execution": {
     "iopub.execute_input": "2021-09-09T04:00:08.428448Z",
     "iopub.status.busy": "2021-09-09T04:00:08.425877Z",
     "iopub.status.idle": "2021-09-09T04:00:09.927382Z",
     "shell.execute_reply": "2021-09-09T04:00:09.928766Z"
    },
    "papermill": {
     "duration": 1.534928,
     "end_time": "2021-09-09T04:00:09.929205",
     "exception": false,
     "start_time": "2021-09-09T04:00:08.394277",
     "status": "completed"
    },
    "tags": []
   },
   "outputs": [
    {
     "data": {
      "text/plain": [
       "<AxesSubplot:ylabel='PRODUCT'>"
      ]
     },
     "execution_count": 7,
     "metadata": {},
     "output_type": "execute_result"
    },
    {
     "data": {
      "image/png": "[encoded data removed]",
      "text/plain": [
       "<Figure size 432x288 with 1 Axes>"
      ]
     },
     "metadata": {
      "needs_background": "light"
     },
     "output_type": "display_data"
    }
   ],
   "source": [
    "df_pivot_diff.sort_values(\"stamp_2\", ascending = False)[\"stamp_2\"].head(10).plot.barh()"
   ]
  },
  {
   "cell_type": "code",
   "execution_count": null,
   "id": "extra-executive",
   "metadata": {
    "papermill": {
     "duration": 0.022565,
     "end_time": "2021-09-09T04:00:09.976152",
     "exception": false,
     "start_time": "2021-09-09T04:00:09.953587",
     "status": "completed"
    },
    "tags": []
   },
   "outputs": [],
   "source": []
  }
 ],
 "metadata": {
  "kernelspec": {
   "display_name": "Python 3",
   "language": "python",
   "name": "python3"
  },
  "language_info": {
   "codemirror_mode": {
    "name": "ipython",
    "version": 3
   },
   "file_extension": ".py",
   "mimetype": "text/x-python",
   "name": "python",
   "nbconvert_exporter": "python",
   "pygments_lexer": "ipython3",
   "version": "3.9.5"
  },
  "papermill": {
   "default_parameters": {},
   "duration": 6.465568,
   "end_time": "2021-09-09T04:00:10.616543",
   "environment_variables": {},
   "exception": null,
   "input_path": "eBay_Overview.ipynb",
   "output_path": "eBay_Overview.ipynb",
   "parameters": {},
   "start_time": "2021-09-09T04:00:04.150975",
   "version": "2.3.3"
  }
 },
 "nbformat": 4,
 "nbformat_minor": 5
}