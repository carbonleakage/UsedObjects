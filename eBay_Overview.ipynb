{
 "cells": [
  {
   "cell_type": "code",
   "execution_count": 1,
   "id": "reverse-picking",
   "metadata": {
    "execution": {
     "iopub.execute_input": "2021-08-10T02:30:04.305283Z",
     "iopub.status.busy": "2021-08-10T02:30:04.304521Z",
     "iopub.status.idle": "2021-08-10T02:30:05.197254Z",
     "shell.execute_reply": "2021-08-10T02:30:05.197839Z"
    },
    "papermill": {
     "duration": 0.911969,
     "end_time": "2021-08-10T02:30:05.198141",
     "exception": false,
     "start_time": "2021-08-10T02:30:04.286172",
     "status": "completed"
    },
    "tags": []
   },
   "outputs": [],
   "source": [
    "import pandas as pd\n",
    "import sqlite3"
   ]
  },
  {
   "cell_type": "code",
   "execution_count": 2,
   "id": "innovative-syndrome",
   "metadata": {
    "execution": {
     "iopub.execute_input": "2021-08-10T02:30:05.229392Z",
     "iopub.status.busy": "2021-08-10T02:30:05.228630Z",
     "iopub.status.idle": "2021-08-10T02:30:05.590657Z",
     "shell.execute_reply": "2021-08-10T02:30:05.590075Z"
    },
    "papermill": {
     "duration": 0.37808,
     "end_time": "2021-08-10T02:30:05.590812",
     "exception": false,
     "start_time": "2021-08-10T02:30:05.212732",
     "status": "completed"
    },
    "tags": []
   },
   "outputs": [],
   "source": [
    "timestamps = pd.read_sql(\"select distinct record_time from EBAY_TOP_BERLIN order by record_time desc limit 2\", sqlite3.connect(\"UsedObjects.db\"))"
   ]
  },
  {
   "cell_type": "code",
   "execution_count": 3,
   "id": "periodic-identification",
   "metadata": {
    "execution": {
     "iopub.execute_input": "2021-08-10T02:30:05.627716Z",
     "iopub.status.busy": "2021-08-10T02:30:05.626628Z",
     "iopub.status.idle": "2021-08-10T02:30:05.639749Z",
     "shell.execute_reply": "2021-08-10T02:30:05.639178Z"
    },
    "papermill": {
     "duration": 0.040765,
     "end_time": "2021-08-10T02:30:05.639901",
     "exception": false,
     "start_time": "2021-08-10T02:30:05.599136",
     "status": "completed"
    },
    "tags": []
   },
   "outputs": [
    {
     "data": {
      "text/html": [
       "<div>\n",
       "<style scoped>\n",
       "    .dataframe tbody tr th:only-of-type {\n",
       "        vertical-align: middle;\n",
       "    }\n",
       "\n",
       "    .dataframe tbody tr th {\n",
       "        vertical-align: top;\n",
       "    }\n",
       "\n",
       "    .dataframe thead th {\n",
       "        text-align: right;\n",
       "    }\n",
       "</style>\n",
       "<table border=\"1\" class=\"dataframe\">\n",
       "  <thead>\n",
       "    <tr style=\"text-align: right;\">\n",
       "      <th></th>\n",
       "      <th>RECORD_TIME</th>\n",
       "    </tr>\n",
       "  </thead>\n",
       "  <tbody>\n",
       "    <tr>\n",
       "      <th>0</th>\n",
       "      <td>2021-08-10 04:30</td>\n",
       "    </tr>\n",
       "    <tr>\n",
       "      <th>1</th>\n",
       "      <td>2021-08-10 04:00</td>\n",
       "    </tr>\n",
       "  </tbody>\n",
       "</table>\n",
       "</div>"
      ],
      "text/plain": [
       "        RECORD_TIME\n",
       "0  2021-08-10 04:30\n",
       "1  2021-08-10 04:00"
      ]
     },
     "execution_count": 3,
     "metadata": {},
     "output_type": "execute_result"
    }
   ],
   "source": [
    "timestamps"
   ]
  },
  {
   "cell_type": "code",
   "execution_count": 4,
   "id": "alternate-victory",
   "metadata": {
    "execution": {
     "iopub.execute_input": "2021-08-10T02:30:05.666553Z",
     "iopub.status.busy": "2021-08-10T02:30:05.665716Z",
     "iopub.status.idle": "2021-08-10T02:30:05.684393Z",
     "shell.execute_reply": "2021-08-10T02:30:05.685411Z"
    },
    "papermill": {
     "duration": 0.032675,
     "end_time": "2021-08-10T02:30:05.685733",
     "exception": false,
     "start_time": "2021-08-10T02:30:05.653058",
     "status": "completed"
    },
    "tags": []
   },
   "outputs": [],
   "source": [
    "df = pd.read_sql(\"select * from EBAY_TOP_BERLIN where record_time in (select distinct record_time from EBAY_TOP_BERLIN order by record_time desc limit 2)\", sqlite3.connect(\"UsedObjects.db\"))"
   ]
  },
  {
   "cell_type": "code",
   "execution_count": 5,
   "id": "popular-active",
   "metadata": {
    "execution": {
     "iopub.execute_input": "2021-08-10T02:30:05.712919Z",
     "iopub.status.busy": "2021-08-10T02:30:05.711883Z",
     "iopub.status.idle": "2021-08-10T02:30:05.789008Z",
     "shell.execute_reply": "2021-08-10T02:30:05.789738Z"
    },
    "papermill": {
     "duration": 0.09274,
     "end_time": "2021-08-10T02:30:05.789947",
     "exception": false,
     "start_time": "2021-08-10T02:30:05.697207",
     "status": "completed"
    },
    "tags": []
   },
   "outputs": [],
   "source": [
    "df_pivot = df.pivot_table(index=\"PRODUCT\", columns = \"RECORD_TIME\", values = \"LISTING_COUNT\")"
   ]
  },
  {
   "cell_type": "code",
   "execution_count": 6,
   "id": "union-huntington",
   "metadata": {
    "execution": {
     "iopub.execute_input": "2021-08-10T02:30:05.820637Z",
     "iopub.status.busy": "2021-08-10T02:30:05.819949Z",
     "iopub.status.idle": "2021-08-10T02:30:05.830949Z",
     "shell.execute_reply": "2021-08-10T02:30:05.829873Z"
    },
    "papermill": {
     "duration": 0.028185,
     "end_time": "2021-08-10T02:30:05.831229",
     "exception": false,
     "start_time": "2021-08-10T02:30:05.803044",
     "status": "completed"
    },
    "tags": []
   },
   "outputs": [],
   "source": [
    "df_pivot.columns = [\"stamp_1\", \"stamp_2\"]\n",
    "df_pivot_diff = df_pivot.diff(axis=1)"
   ]
  },
  {
   "cell_type": "code",
   "execution_count": 7,
   "id": "fifth-motion",
   "metadata": {
    "execution": {
     "iopub.execute_input": "2021-08-10T02:30:05.859194Z",
     "iopub.status.busy": "2021-08-10T02:30:05.858417Z",
     "iopub.status.idle": "2021-08-10T02:30:06.493472Z",
     "shell.execute_reply": "2021-08-10T02:30:06.494043Z"
    },
    "papermill": {
     "duration": 0.652626,
     "end_time": "2021-08-10T02:30:06.494238",
     "exception": false,
     "start_time": "2021-08-10T02:30:05.841612",
     "status": "completed"
    },
    "tags": []
   },
   "outputs": [
    {
     "data": {
      "text/plain": [
       "<AxesSubplot:ylabel='PRODUCT'>"
      ]
     },
     "execution_count": 7,
     "metadata": {},
     "output_type": "execute_result"
    },
    {
     "data": {
      "image/png": "[encoded data removed]",
      "text/plain": [
       "<Figure size 432x288 with 1 Axes>"
      ]
     },
     "metadata": {
      "needs_background": "light"
     },
     "output_type": "display_data"
    }
   ],
   "source": [
    "df_pivot_diff.sort_values(\"stamp_2\", ascending = False)[\"stamp_2\"].head(10).plot.barh()"
   ]
  },
  {
   "cell_type": "code",
   "execution_count": null,
   "id": "extra-executive",
   "metadata": {
    "papermill": {
     "duration": 0.00951,
     "end_time": "2021-08-10T02:30:06.513754",
     "exception": false,
     "start_time": "2021-08-10T02:30:06.504244",
     "status": "completed"
    },
    "tags": []
   },
   "outputs": [],
   "source": []
  }
 ],
 "metadata": {
  "kernelspec": {
   "display_name": "Python 3",
   "language": "python",
   "name": "python3"
  },
  "language_info": {
   "codemirror_mode": {
    "name": "ipython",
    "version": 3
   },
   "file_extension": ".py",
   "mimetype": "text/x-python",
   "name": "python",
   "nbconvert_exporter": "python",
   "pygments_lexer": "ipython3",
   "version": "3.8.8"
  },
  "papermill": {
   "default_parameters": {},
   "duration": 4.589956,
   "end_time": "2021-08-10T02:30:07.193784",
   "environment_variables": {},
   "exception": null,
   "input_path": "/Users/saravananshanmugam/Carbonleakage_Git/UsedObjects/eBay_Overview.ipynb",
   "output_path": "/Users/saravananshanmugam/Carbonleakage_Git/UsedObjects/eBay_Overview.ipynb",
   "parameters": {},
   "start_time": "2021-08-10T02:30:02.603828",
   "version": "2.3.3"
  }
 },
 "nbformat": 4,
 "nbformat_minor": 5
}