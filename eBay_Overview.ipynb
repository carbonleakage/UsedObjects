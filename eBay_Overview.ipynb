{
 "cells": [
  {
   "cell_type": "code",
   "execution_count": 1,
   "id": "reverse-picking",
   "metadata": {
    "execution": {
     "iopub.execute_input": "2021-08-11T07:30:04.170193Z",
     "iopub.status.busy": "2021-08-11T07:30:04.169415Z",
     "iopub.status.idle": "2021-08-11T07:30:04.790564Z",
     "shell.execute_reply": "2021-08-11T07:30:04.791144Z"
    },
    "papermill": {
     "duration": 0.641661,
     "end_time": "2021-08-11T07:30:04.791451",
     "exception": false,
     "start_time": "2021-08-11T07:30:04.149790",
     "status": "completed"
    },
    "tags": []
   },
   "outputs": [],
   "source": [
    "import pandas as pd\n",
    "import sqlite3"
   ]
  },
  {
   "cell_type": "code",
   "execution_count": 2,
   "id": "innovative-syndrome",
   "metadata": {
    "execution": {
     "iopub.execute_input": "2021-08-11T07:30:04.817903Z",
     "iopub.status.busy": "2021-08-11T07:30:04.817129Z",
     "iopub.status.idle": "2021-08-11T07:30:05.021171Z",
     "shell.execute_reply": "2021-08-11T07:30:05.022185Z"
    },
    "papermill": {
     "duration": 0.218643,
     "end_time": "2021-08-11T07:30:05.022512",
     "exception": false,
     "start_time": "2021-08-11T07:30:04.803869",
     "status": "completed"
    },
    "tags": []
   },
   "outputs": [],
   "source": [
    "timestamps = pd.read_sql(\"select distinct record_time from EBAY_TOP_BERLIN order by record_time desc limit 2\", sqlite3.connect(\"UsedObjects.db\"))"
   ]
  },
  {
   "cell_type": "code",
   "execution_count": 3,
   "id": "periodic-identification",
   "metadata": {
    "execution": {
     "iopub.execute_input": "2021-08-11T07:30:05.060836Z",
     "iopub.status.busy": "2021-08-11T07:30:05.060064Z",
     "iopub.status.idle": "2021-08-11T07:30:05.074330Z",
     "shell.execute_reply": "2021-08-11T07:30:05.074903Z"
    },
    "papermill": {
     "duration": 0.040296,
     "end_time": "2021-08-11T07:30:05.075100",
     "exception": false,
     "start_time": "2021-08-11T07:30:05.034804",
     "status": "completed"
    },
    "tags": []
   },
   "outputs": [
    {
     "data": {
      "text/html": [
       "<div>\n",
       "<style scoped>\n",
       "    .dataframe tbody tr th:only-of-type {\n",
       "        vertical-align: middle;\n",
       "    }\n",
       "\n",
       "    .dataframe tbody tr th {\n",
       "        vertical-align: top;\n",
       "    }\n",
       "\n",
       "    .dataframe thead th {\n",
       "        text-align: right;\n",
       "    }\n",
       "</style>\n",
       "<table border=\"1\" class=\"dataframe\">\n",
       "  <thead>\n",
       "    <tr style=\"text-align: right;\">\n",
       "      <th></th>\n",
       "      <th>RECORD_TIME</th>\n",
       "    </tr>\n",
       "  </thead>\n",
       "  <tbody>\n",
       "    <tr>\n",
       "      <th>0</th>\n",
       "      <td>2021-08-11 09:30</td>\n",
       "    </tr>\n",
       "    <tr>\n",
       "      <th>1</th>\n",
       "      <td>2021-08-11 09:00</td>\n",
       "    </tr>\n",
       "  </tbody>\n",
       "</table>\n",
       "</div>"
      ],
      "text/plain": [
       "        RECORD_TIME\n",
       "0  2021-08-11 09:30\n",
       "1  2021-08-11 09:00"
      ]
     },
     "execution_count": 3,
     "metadata": {},
     "output_type": "execute_result"
    }
   ],
   "source": [
    "timestamps"
   ]
  },
  {
   "cell_type": "code",
   "execution_count": 4,
   "id": "alternate-victory",
   "metadata": {
    "execution": {
     "iopub.execute_input": "2021-08-11T07:30:05.103301Z",
     "iopub.status.busy": "2021-08-11T07:30:05.102411Z",
     "iopub.status.idle": "2021-08-11T07:30:05.126047Z",
     "shell.execute_reply": "2021-08-11T07:30:05.126585Z"
    },
    "papermill": {
     "duration": 0.04329,
     "end_time": "2021-08-11T07:30:05.126770",
     "exception": false,
     "start_time": "2021-08-11T07:30:05.083480",
     "status": "completed"
    },
    "tags": []
   },
   "outputs": [],
   "source": [
    "df = pd.read_sql(\"select * from EBAY_TOP_BERLIN where record_time in (select distinct record_time from EBAY_TOP_BERLIN order by record_time desc limit 2)\", sqlite3.connect(\"UsedObjects.db\"))"
   ]
  },
  {
   "cell_type": "code",
   "execution_count": 5,
   "id": "popular-active",
   "metadata": {
    "execution": {
     "iopub.execute_input": "2021-08-11T07:30:05.157143Z",
     "iopub.status.busy": "2021-08-11T07:30:05.156296Z",
     "iopub.status.idle": "2021-08-11T07:30:05.173073Z",
     "shell.execute_reply": "2021-08-11T07:30:05.172321Z"
    },
    "papermill": {
     "duration": 0.037961,
     "end_time": "2021-08-11T07:30:05.173229",
     "exception": false,
     "start_time": "2021-08-11T07:30:05.135268",
     "status": "completed"
    },
    "tags": []
   },
   "outputs": [],
   "source": [
    "df_pivot = df.pivot_table(index=\"PRODUCT\", columns = \"RECORD_TIME\", values = \"LISTING_COUNT\")"
   ]
  },
  {
   "cell_type": "code",
   "execution_count": 6,
   "id": "union-huntington",
   "metadata": {
    "execution": {
     "iopub.execute_input": "2021-08-11T07:30:05.202245Z",
     "iopub.status.busy": "2021-08-11T07:30:05.201529Z",
     "iopub.status.idle": "2021-08-11T07:30:05.207132Z",
     "shell.execute_reply": "2021-08-11T07:30:05.207858Z"
    },
    "papermill": {
     "duration": 0.024722,
     "end_time": "2021-08-11T07:30:05.208133",
     "exception": false,
     "start_time": "2021-08-11T07:30:05.183411",
     "status": "completed"
    },
    "tags": []
   },
   "outputs": [],
   "source": [
    "df_pivot.columns = [\"stamp_1\", \"stamp_2\"]\n",
    "df_pivot_diff = df_pivot.diff(axis=1)"
   ]
  },
  {
   "cell_type": "code",
   "execution_count": 7,
   "id": "fifth-motion",
   "metadata": {
    "execution": {
     "iopub.execute_input": "2021-08-11T07:30:05.242995Z",
     "iopub.status.busy": "2021-08-11T07:30:05.242231Z",
     "iopub.status.idle": "2021-08-11T07:30:05.914938Z",
     "shell.execute_reply": "2021-08-11T07:30:05.915471Z"
    },
    "papermill": {
     "duration": 0.692301,
     "end_time": "2021-08-11T07:30:05.915652",
     "exception": false,
     "start_time": "2021-08-11T07:30:05.223351",
     "status": "completed"
    },
    "tags": []
   },
   "outputs": [
    {
     "data": {
      "text/plain": [
       "<AxesSubplot:ylabel='PRODUCT'>"
      ]
     },
     "execution_count": 7,
     "metadata": {},
     "output_type": "execute_result"
    },
    {
     "data": {
      "image/png": "[encoded data removed]",
      "text/plain": [
       "<Figure size 432x288 with 1 Axes>"
      ]
     },
     "metadata": {
      "needs_background": "light"
     },
     "output_type": "display_data"
    }
   ],
   "source": [
    "df_pivot_diff.sort_values(\"stamp_2\", ascending = False)[\"stamp_2\"].head(10).plot.barh()"
   ]
  },
  {
   "cell_type": "code",
   "execution_count": null,
   "id": "extra-executive",
   "metadata": {
    "papermill": {
     "duration": 0.009272,
     "end_time": "2021-08-11T07:30:05.934801",
     "exception": false,
     "start_time": "2021-08-11T07:30:05.925529",
     "status": "completed"
    },
    "tags": []
   },
   "outputs": [],
   "source": []
  }
 ],
 "metadata": {
  "kernelspec": {
   "display_name": "Python 3",
   "language": "python",
   "name": "python3"
  },
  "language_info": {
   "codemirror_mode": {
    "name": "ipython",
    "version": 3
   },
   "file_extension": ".py",
   "mimetype": "text/x-python",
   "name": "python",
   "nbconvert_exporter": "python",
   "pygments_lexer": "ipython3",
   "version": "3.8.8"
  },
  "papermill": {
   "default_parameters": {},
   "duration": 4.939654,
   "end_time": "2021-08-11T07:30:07.400321",
   "environment_variables": {},
   "exception": null,
   "input_path": "/Users/saravananshanmugam/Carbonleakage_Git/UsedObjects/eBay_Overview.ipynb",
   "output_path": "/Users/saravananshanmugam/Carbonleakage_Git/UsedObjects/eBay_Overview.ipynb",
   "parameters": {},
   "start_time": "2021-08-11T07:30:02.460667",
   "version": "2.3.3"
  }
 },
 "nbformat": 4,
 "nbformat_minor": 5
}