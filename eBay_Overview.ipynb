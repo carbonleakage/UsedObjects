{
 "cells": [
  {
   "cell_type": "code",
   "execution_count": 1,
   "id": "reverse-picking",
   "metadata": {
    "execution": {
     "iopub.execute_input": "2021-11-17T21:30:07.790769Z",
     "iopub.status.busy": "2021-11-17T21:30:07.787755Z",
     "iopub.status.idle": "2021-11-17T21:30:08.732571Z",
     "shell.execute_reply": "2021-11-17T21:30:08.734104Z"
    },
    "papermill": {
     "duration": 0.992912,
     "end_time": "2021-11-17T21:30:08.734791",
     "exception": false,
     "start_time": "2021-11-17T21:30:07.741879",
     "status": "completed"
    },
    "tags": []
   },
   "outputs": [],
   "source": [
    "import pandas as pd\n",
    "import sqlite3"
   ]
  },
  {
   "cell_type": "code",
   "execution_count": 2,
   "id": "innovative-syndrome",
   "metadata": {
    "execution": {
     "iopub.execute_input": "2021-11-17T21:30:08.792028Z",
     "iopub.status.busy": "2021-11-17T21:30:08.789649Z",
     "iopub.status.idle": "2021-11-17T21:30:09.615879Z",
     "shell.execute_reply": "2021-11-17T21:30:09.618151Z"
    },
    "papermill": {
     "duration": 0.86172,
     "end_time": "2021-11-17T21:30:09.618680",
     "exception": false,
     "start_time": "2021-11-17T21:30:08.756960",
     "status": "completed"
    },
    "tags": []
   },
   "outputs": [],
   "source": [
    "timestamps = pd.read_sql(\"select distinct record_time from EBAY_TOP_BERLIN order by record_time desc limit 2\", sqlite3.connect(\"UsedObjects.db\"))"
   ]
  },
  {
   "cell_type": "code",
   "execution_count": 3,
   "id": "periodic-identification",
   "metadata": {
    "execution": {
     "iopub.execute_input": "2021-11-17T21:30:09.689712Z",
     "iopub.status.busy": "2021-11-17T21:30:09.687290Z",
     "iopub.status.idle": "2021-11-17T21:30:09.709962Z",
     "shell.execute_reply": "2021-11-17T21:30:09.711439Z"
    },
    "papermill": {
     "duration": 0.072655,
     "end_time": "2021-11-17T21:30:09.712031",
     "exception": false,
     "start_time": "2021-11-17T21:30:09.639376",
     "status": "completed"
    },
    "tags": []
   },
   "outputs": [
    {
     "data": {
      "text/html": [
       "<div>\n",
       "<style scoped>\n",
       "    .dataframe tbody tr th:only-of-type {\n",
       "        vertical-align: middle;\n",
       "    }\n",
       "\n",
       "    .dataframe tbody tr th {\n",
       "        vertical-align: top;\n",
       "    }\n",
       "\n",
       "    .dataframe thead th {\n",
       "        text-align: right;\n",
       "    }\n",
       "</style>\n",
       "<table border=\"1\" class=\"dataframe\">\n",
       "  <thead>\n",
       "    <tr style=\"text-align: right;\">\n",
       "      <th></th>\n",
       "      <th>RECORD_TIME</th>\n",
       "    </tr>\n",
       "  </thead>\n",
       "  <tbody>\n",
       "    <tr>\n",
       "      <th>0</th>\n",
       "      <td>2021-11-17 22:30</td>\n",
       "    </tr>\n",
       "    <tr>\n",
       "      <th>1</th>\n",
       "      <td>2021-11-17 22:00</td>\n",
       "    </tr>\n",
       "  </tbody>\n",
       "</table>\n",
       "</div>"
      ],
      "text/plain": [
       "        RECORD_TIME\n",
       "0  2021-11-17 22:30\n",
       "1  2021-11-17 22:00"
      ]
     },
     "execution_count": 3,
     "metadata": {},
     "output_type": "execute_result"
    }
   ],
   "source": [
    "timestamps"
   ]
  },
  {
   "cell_type": "code",
   "execution_count": 4,
   "id": "alternate-victory",
   "metadata": {
    "execution": {
     "iopub.execute_input": "2021-11-17T21:30:09.769110Z",
     "iopub.status.busy": "2021-11-17T21:30:09.766611Z",
     "iopub.status.idle": "2021-11-17T21:30:10.988472Z",
     "shell.execute_reply": "2021-11-17T21:30:10.989760Z"
    },
    "papermill": {
     "duration": 1.255179,
     "end_time": "2021-11-17T21:30:10.990169",
     "exception": false,
     "start_time": "2021-11-17T21:30:09.734990",
     "status": "completed"
    },
    "tags": []
   },
   "outputs": [],
   "source": [
    "df = pd.read_sql(\"select * from EBAY_TOP_BERLIN where record_time in (select distinct record_time from EBAY_TOP_BERLIN order by record_time desc limit 2)\", sqlite3.connect(\"UsedObjects.db\"))"
   ]
  },
  {
   "cell_type": "code",
   "execution_count": 5,
   "id": "popular-active",
   "metadata": {
    "execution": {
     "iopub.execute_input": "2021-11-17T21:30:11.066705Z",
     "iopub.status.busy": "2021-11-17T21:30:11.053878Z",
     "iopub.status.idle": "2021-11-17T21:30:11.084731Z",
     "shell.execute_reply": "2021-11-17T21:30:11.086110Z"
    },
    "papermill": {
     "duration": 0.073561,
     "end_time": "2021-11-17T21:30:11.086584",
     "exception": false,
     "start_time": "2021-11-17T21:30:11.013023",
     "status": "completed"
    },
    "tags": []
   },
   "outputs": [],
   "source": [
    "df_pivot = df.pivot_table(index=\"PRODUCT\", columns = \"RECORD_TIME\", values = \"LISTING_COUNT\")"
   ]
  },
  {
   "cell_type": "code",
   "execution_count": 6,
   "id": "union-huntington",
   "metadata": {
    "execution": {
     "iopub.execute_input": "2021-11-17T21:30:11.147426Z",
     "iopub.status.busy": "2021-11-17T21:30:11.145378Z",
     "iopub.status.idle": "2021-11-17T21:30:11.153334Z",
     "shell.execute_reply": "2021-11-17T21:30:11.156480Z"
    },
    "papermill": {
     "duration": 0.049861,
     "end_time": "2021-11-17T21:30:11.157050",
     "exception": false,
     "start_time": "2021-11-17T21:30:11.107189",
     "status": "completed"
    },
    "tags": []
   },
   "outputs": [],
   "source": [
    "df_pivot.columns = [\"stamp_1\", \"stamp_2\"]\n",
    "df_pivot_diff = df_pivot.diff(axis=1)"
   ]
  },
  {
   "cell_type": "code",
   "execution_count": 7,
   "id": "fifth-motion",
   "metadata": {
    "execution": {
     "iopub.execute_input": "2021-11-17T21:30:11.210311Z",
     "iopub.status.busy": "2021-11-17T21:30:11.207994Z",
     "iopub.status.idle": "2021-11-17T21:30:13.004658Z",
     "shell.execute_reply": "2021-11-17T21:30:13.006302Z"
    },
    "papermill": {
     "duration": 1.8281,
     "end_time": "2021-11-17T21:30:13.006855",
     "exception": false,
     "start_time": "2021-11-17T21:30:11.178755",
     "status": "completed"
    },
    "tags": []
   },
   "outputs": [
    {
     "data": {
      "text/plain": [
       "<AxesSubplot:ylabel='PRODUCT'>"
      ]
     },
     "execution_count": 7,
     "metadata": {},
     "output_type": "execute_result"
    },
    {
     "data": {
      "image/png": "[encoded data removed]",
      "text/plain": [
       "<Figure size 432x288 with 1 Axes>"
      ]
     },
     "metadata": {
      "needs_background": "light"
     },
     "output_type": "display_data"
    }
   ],
   "source": [
    "df_pivot_diff.sort_values(\"stamp_2\", ascending = False)[\"stamp_2\"].head(10).plot.barh()"
   ]
  },
  {
   "cell_type": "code",
   "execution_count": null,
   "id": "extra-executive",
   "metadata": {
    "papermill": {
     "duration": 0.025841,
     "end_time": "2021-11-17T21:30:13.058574",
     "exception": false,
     "start_time": "2021-11-17T21:30:13.032733",
     "status": "completed"
    },
    "tags": []
   },
   "outputs": [],
   "source": []
  }
 ],
 "metadata": {
  "kernelspec": {
   "display_name": "Python 3",
   "language": "python",
   "name": "python3"
  },
  "language_info": {
   "codemirror_mode": {
    "name": "ipython",
    "version": 3
   },
   "file_extension": ".py",
   "mimetype": "text/x-python",
   "name": "python",
   "nbconvert_exporter": "python",
   "pygments_lexer": "ipython3",
   "version": "3.9.5"
  },
  "papermill": {
   "default_parameters": {},
   "duration": 8.817038,
   "end_time": "2021-11-17T21:30:13.804609",
   "environment_variables": {},
   "exception": null,
   "input_path": "eBay_Overview.ipynb",
   "output_path": "eBay_Overview.ipynb",
   "parameters": {},
   "start_time": "2021-11-17T21:30:04.987571",
   "version": "2.3.3"
  }
 },
 "nbformat": 4,
 "nbformat_minor": 5
}