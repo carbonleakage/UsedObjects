{
 "cells": [
  {
   "cell_type": "code",
   "execution_count": 1,
   "id": "reverse-picking",
   "metadata": {
    "execution": {
     "iopub.execute_input": "2021-11-23T10:00:07.500290Z",
     "iopub.status.busy": "2021-11-23T10:00:07.498064Z",
     "iopub.status.idle": "2021-11-23T10:00:08.448862Z",
     "shell.execute_reply": "2021-11-23T10:00:08.450457Z"
    },
    "papermill": {
     "duration": 0.999778,
     "end_time": "2021-11-23T10:00:08.451187",
     "exception": false,
     "start_time": "2021-11-23T10:00:07.451409",
     "status": "completed"
    },
    "tags": []
   },
   "outputs": [],
   "source": [
    "import pandas as pd\n",
    "import sqlite3"
   ]
  },
  {
   "cell_type": "code",
   "execution_count": 2,
   "id": "innovative-syndrome",
   "metadata": {
    "execution": {
     "iopub.execute_input": "2021-11-23T10:00:08.514380Z",
     "iopub.status.busy": "2021-11-23T10:00:08.510897Z",
     "iopub.status.idle": "2021-11-23T10:00:09.425260Z",
     "shell.execute_reply": "2021-11-23T10:00:09.427064Z"
    },
    "papermill": {
     "duration": 0.948918,
     "end_time": "2021-11-23T10:00:09.427604",
     "exception": false,
     "start_time": "2021-11-23T10:00:08.478686",
     "status": "completed"
    },
    "tags": []
   },
   "outputs": [],
   "source": [
    "timestamps = pd.read_sql(\"select distinct record_time from EBAY_TOP_BERLIN order by record_time desc limit 2\", sqlite3.connect(\"UsedObjects.db\"))"
   ]
  },
  {
   "cell_type": "code",
   "execution_count": 3,
   "id": "periodic-identification",
   "metadata": {
    "execution": {
     "iopub.execute_input": "2021-11-23T10:00:09.495826Z",
     "iopub.status.busy": "2021-11-23T10:00:09.493815Z",
     "iopub.status.idle": "2021-11-23T10:00:09.513685Z",
     "shell.execute_reply": "2021-11-23T10:00:09.514908Z"
    },
    "papermill": {
     "duration": 0.064436,
     "end_time": "2021-11-23T10:00:09.515337",
     "exception": false,
     "start_time": "2021-11-23T10:00:09.450901",
     "status": "completed"
    },
    "tags": []
   },
   "outputs": [
    {
     "data": {
      "text/html": [
       "<div>\n",
       "<style scoped>\n",
       "    .dataframe tbody tr th:only-of-type {\n",
       "        vertical-align: middle;\n",
       "    }\n",
       "\n",
       "    .dataframe tbody tr th {\n",
       "        vertical-align: top;\n",
       "    }\n",
       "\n",
       "    .dataframe thead th {\n",
       "        text-align: right;\n",
       "    }\n",
       "</style>\n",
       "<table border=\"1\" class=\"dataframe\">\n",
       "  <thead>\n",
       "    <tr style=\"text-align: right;\">\n",
       "      <th></th>\n",
       "      <th>RECORD_TIME</th>\n",
       "    </tr>\n",
       "  </thead>\n",
       "  <tbody>\n",
       "    <tr>\n",
       "      <th>0</th>\n",
       "      <td>2021-11-23 11:00</td>\n",
       "    </tr>\n",
       "    <tr>\n",
       "      <th>1</th>\n",
       "      <td>2021-11-23 10:30</td>\n",
       "    </tr>\n",
       "  </tbody>\n",
       "</table>\n",
       "</div>"
      ],
      "text/plain": [
       "        RECORD_TIME\n",
       "0  2021-11-23 11:00\n",
       "1  2021-11-23 10:30"
      ]
     },
     "execution_count": 3,
     "metadata": {},
     "output_type": "execute_result"
    }
   ],
   "source": [
    "timestamps"
   ]
  },
  {
   "cell_type": "code",
   "execution_count": 4,
   "id": "alternate-victory",
   "metadata": {
    "execution": {
     "iopub.execute_input": "2021-11-23T10:00:09.569224Z",
     "iopub.status.busy": "2021-11-23T10:00:09.566859Z",
     "iopub.status.idle": "2021-11-23T10:00:10.866636Z",
     "shell.execute_reply": "2021-11-23T10:00:10.868826Z"
    },
    "papermill": {
     "duration": 1.331144,
     "end_time": "2021-11-23T10:00:10.869305",
     "exception": false,
     "start_time": "2021-11-23T10:00:09.538161",
     "status": "completed"
    },
    "tags": []
   },
   "outputs": [],
   "source": [
    "df = pd.read_sql(\"select * from EBAY_TOP_BERLIN where record_time in (select distinct record_time from EBAY_TOP_BERLIN order by record_time desc limit 2)\", sqlite3.connect(\"UsedObjects.db\"))"
   ]
  },
  {
   "cell_type": "code",
   "execution_count": 5,
   "id": "popular-active",
   "metadata": {
    "execution": {
     "iopub.execute_input": "2021-11-23T10:00:10.948264Z",
     "iopub.status.busy": "2021-11-23T10:00:10.932148Z",
     "iopub.status.idle": "2021-11-23T10:00:10.967038Z",
     "shell.execute_reply": "2021-11-23T10:00:10.968760Z"
    },
    "papermill": {
     "duration": 0.079304,
     "end_time": "2021-11-23T10:00:10.969253",
     "exception": false,
     "start_time": "2021-11-23T10:00:10.889949",
     "status": "completed"
    },
    "tags": []
   },
   "outputs": [],
   "source": [
    "df_pivot = df.pivot_table(index=\"PRODUCT\", columns = \"RECORD_TIME\", values = \"LISTING_COUNT\")"
   ]
  },
  {
   "cell_type": "code",
   "execution_count": 6,
   "id": "union-huntington",
   "metadata": {
    "execution": {
     "iopub.execute_input": "2021-11-23T10:00:11.035527Z",
     "iopub.status.busy": "2021-11-23T10:00:11.033014Z",
     "iopub.status.idle": "2021-11-23T10:00:11.039431Z",
     "shell.execute_reply": "2021-11-23T10:00:11.040933Z"
    },
    "papermill": {
     "duration": 0.050635,
     "end_time": "2021-11-23T10:00:11.041418",
     "exception": false,
     "start_time": "2021-11-23T10:00:10.990783",
     "status": "completed"
    },
    "tags": []
   },
   "outputs": [],
   "source": [
    "df_pivot.columns = [\"stamp_1\", \"stamp_2\"]\n",
    "df_pivot_diff = df_pivot.diff(axis=1)"
   ]
  },
  {
   "cell_type": "code",
   "execution_count": 7,
   "id": "fifth-motion",
   "metadata": {
    "execution": {
     "iopub.execute_input": "2021-11-23T10:00:11.099934Z",
     "iopub.status.busy": "2021-11-23T10:00:11.097495Z",
     "iopub.status.idle": "2021-11-23T10:00:12.989019Z",
     "shell.execute_reply": "2021-11-23T10:00:12.990766Z"
    },
    "papermill": {
     "duration": 1.927608,
     "end_time": "2021-11-23T10:00:12.991382",
     "exception": false,
     "start_time": "2021-11-23T10:00:11.063774",
     "status": "completed"
    },
    "tags": []
   },
   "outputs": [
    {
     "data": {
      "text/plain": [
       "<AxesSubplot:ylabel='PRODUCT'>"
      ]
     },
     "execution_count": 7,
     "metadata": {},
     "output_type": "execute_result"
    },
    {
     "data": {
      "image/png": "[encoded data removed]",
      "text/plain": [
       "<Figure size 432x288 with 1 Axes>"
      ]
     },
     "metadata": {
      "needs_background": "light"
     },
     "output_type": "display_data"
    }
   ],
   "source": [
    "df_pivot_diff.sort_values(\"stamp_2\", ascending = False)[\"stamp_2\"].head(10).plot.barh()"
   ]
  },
  {
   "cell_type": "code",
   "execution_count": null,
   "id": "extra-executive",
   "metadata": {
    "papermill": {
     "duration": 0.034169,
     "end_time": "2021-11-23T10:00:13.053688",
     "exception": false,
     "start_time": "2021-11-23T10:00:13.019519",
     "status": "completed"
    },
    "tags": []
   },
   "outputs": [],
   "source": []
  }
 ],
 "metadata": {
  "kernelspec": {
   "display_name": "Python 3",
   "language": "python",
   "name": "python3"
  },
  "language_info": {
   "codemirror_mode": {
    "name": "ipython",
    "version": 3
   },
   "file_extension": ".py",
   "mimetype": "text/x-python",
   "name": "python",
   "nbconvert_exporter": "python",
   "pygments_lexer": "ipython3",
   "version": "3.9.5"
  },
  "papermill": {
   "default_parameters": {},
   "duration": 9.933591,
   "end_time": "2021-11-23T10:00:14.665202",
   "environment_variables": {},
   "exception": null,
   "input_path": "eBay_Overview.ipynb",
   "output_path": "eBay_Overview.ipynb",
   "parameters": {},
   "start_time": "2021-11-23T10:00:04.731611",
   "version": "2.3.3"
  }
 },
 "nbformat": 4,
 "nbformat_minor": 5
}