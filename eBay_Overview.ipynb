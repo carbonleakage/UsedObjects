{
 "cells": [
  {
   "cell_type": "code",
   "execution_count": 1,
   "id": "reverse-picking",
   "metadata": {
    "execution": {
     "iopub.execute_input": "2021-12-14T15:00:08.151341Z",
     "iopub.status.busy": "2021-12-14T15:00:08.149070Z",
     "iopub.status.idle": "2021-12-14T15:00:09.107269Z",
     "shell.execute_reply": "2021-12-14T15:00:09.108858Z"
    },
    "papermill": {
     "duration": 1.007381,
     "end_time": "2021-12-14T15:00:09.109592",
     "exception": false,
     "start_time": "2021-12-14T15:00:08.102211",
     "status": "completed"
    },
    "tags": []
   },
   "outputs": [],
   "source": [
    "import pandas as pd\n",
    "import sqlite3"
   ]
  },
  {
   "cell_type": "code",
   "execution_count": 2,
   "id": "innovative-syndrome",
   "metadata": {
    "execution": {
     "iopub.execute_input": "2021-12-14T15:00:09.165459Z",
     "iopub.status.busy": "2021-12-14T15:00:09.163046Z",
     "iopub.status.idle": "2021-12-14T15:00:10.254057Z",
     "shell.execute_reply": "2021-12-14T15:00:10.255469Z"
    },
    "papermill": {
     "duration": 1.125261,
     "end_time": "2021-12-14T15:00:10.255956",
     "exception": false,
     "start_time": "2021-12-14T15:00:09.130695",
     "status": "completed"
    },
    "tags": []
   },
   "outputs": [],
   "source": [
    "timestamps = pd.read_sql(\"select distinct record_time from EBAY_TOP_BERLIN order by record_time desc limit 2\", sqlite3.connect(\"UsedObjects.db\"))"
   ]
  },
  {
   "cell_type": "code",
   "execution_count": 3,
   "id": "periodic-identification",
   "metadata": {
    "execution": {
     "iopub.execute_input": "2021-12-14T15:00:10.312377Z",
     "iopub.status.busy": "2021-12-14T15:00:10.310089Z",
     "iopub.status.idle": "2021-12-14T15:00:10.351412Z",
     "shell.execute_reply": "2021-12-14T15:00:10.349515Z"
    },
    "papermill": {
     "duration": 0.07551,
     "end_time": "2021-12-14T15:00:10.351827",
     "exception": false,
     "start_time": "2021-12-14T15:00:10.276317",
     "status": "completed"
    },
    "tags": []
   },
   "outputs": [
    {
     "data": {
      "text/html": [
       "<div>\n",
       "<style scoped>\n",
       "    .dataframe tbody tr th:only-of-type {\n",
       "        vertical-align: middle;\n",
       "    }\n",
       "\n",
       "    .dataframe tbody tr th {\n",
       "        vertical-align: top;\n",
       "    }\n",
       "\n",
       "    .dataframe thead th {\n",
       "        text-align: right;\n",
       "    }\n",
       "</style>\n",
       "<table border=\"1\" class=\"dataframe\">\n",
       "  <thead>\n",
       "    <tr style=\"text-align: right;\">\n",
       "      <th></th>\n",
       "      <th>RECORD_TIME</th>\n",
       "    </tr>\n",
       "  </thead>\n",
       "  <tbody>\n",
       "    <tr>\n",
       "      <th>0</th>\n",
       "      <td>2021-12-14 16:00</td>\n",
       "    </tr>\n",
       "    <tr>\n",
       "      <th>1</th>\n",
       "      <td>2021-12-14 15:30</td>\n",
       "    </tr>\n",
       "  </tbody>\n",
       "</table>\n",
       "</div>"
      ],
      "text/plain": [
       "        RECORD_TIME\n",
       "0  2021-12-14 16:00\n",
       "1  2021-12-14 15:30"
      ]
     },
     "execution_count": 3,
     "metadata": {},
     "output_type": "execute_result"
    }
   ],
   "source": [
    "timestamps"
   ]
  },
  {
   "cell_type": "code",
   "execution_count": 4,
   "id": "alternate-victory",
   "metadata": {
    "execution": {
     "iopub.execute_input": "2021-12-14T15:00:10.408016Z",
     "iopub.status.busy": "2021-12-14T15:00:10.405732Z",
     "iopub.status.idle": "2021-12-14T15:00:11.984392Z",
     "shell.execute_reply": "2021-12-14T15:00:11.986171Z"
    },
    "papermill": {
     "duration": 1.609623,
     "end_time": "2021-12-14T15:00:11.986782",
     "exception": false,
     "start_time": "2021-12-14T15:00:10.377159",
     "status": "completed"
    },
    "tags": []
   },
   "outputs": [],
   "source": [
    "df = pd.read_sql(\"select * from EBAY_TOP_BERLIN where record_time in (select distinct record_time from EBAY_TOP_BERLIN order by record_time desc limit 2)\", sqlite3.connect(\"UsedObjects.db\"))"
   ]
  },
  {
   "cell_type": "code",
   "execution_count": 5,
   "id": "popular-active",
   "metadata": {
    "execution": {
     "iopub.execute_input": "2021-12-14T15:00:12.069296Z",
     "iopub.status.busy": "2021-12-14T15:00:12.055259Z",
     "iopub.status.idle": "2021-12-14T15:00:12.086743Z",
     "shell.execute_reply": "2021-12-14T15:00:12.088100Z"
    },
    "papermill": {
     "duration": 0.076453,
     "end_time": "2021-12-14T15:00:12.088585",
     "exception": false,
     "start_time": "2021-12-14T15:00:12.012132",
     "status": "completed"
    },
    "tags": []
   },
   "outputs": [],
   "source": [
    "df_pivot = df.pivot_table(index=\"PRODUCT\", columns = \"RECORD_TIME\", values = \"LISTING_COUNT\")"
   ]
  },
  {
   "cell_type": "code",
   "execution_count": 6,
   "id": "union-huntington",
   "metadata": {
    "execution": {
     "iopub.execute_input": "2021-12-14T15:00:12.146481Z",
     "iopub.status.busy": "2021-12-14T15:00:12.144241Z",
     "iopub.status.idle": "2021-12-14T15:00:12.151777Z",
     "shell.execute_reply": "2021-12-14T15:00:12.150214Z"
    },
    "papermill": {
     "duration": 0.043715,
     "end_time": "2021-12-14T15:00:12.152175",
     "exception": false,
     "start_time": "2021-12-14T15:00:12.108460",
     "status": "completed"
    },
    "tags": []
   },
   "outputs": [],
   "source": [
    "df_pivot.columns = [\"stamp_1\", \"stamp_2\"]\n",
    "df_pivot_diff = df_pivot.diff(axis=1)"
   ]
  },
  {
   "cell_type": "code",
   "execution_count": 7,
   "id": "fifth-motion",
   "metadata": {
    "execution": {
     "iopub.execute_input": "2021-12-14T15:00:12.209545Z",
     "iopub.status.busy": "2021-12-14T15:00:12.207075Z",
     "iopub.status.idle": "2021-12-14T15:00:14.201700Z",
     "shell.execute_reply": "2021-12-14T15:00:14.203270Z"
    },
    "papermill": {
     "duration": 2.030313,
     "end_time": "2021-12-14T15:00:14.203840",
     "exception": false,
     "start_time": "2021-12-14T15:00:12.173527",
     "status": "completed"
    },
    "tags": []
   },
   "outputs": [
    {
     "data": {
      "text/plain": [
       "<AxesSubplot:ylabel='PRODUCT'>"
      ]
     },
     "execution_count": 7,
     "metadata": {},
     "output_type": "execute_result"
    },
    {
     "data": {
      "image/png": "[encoded data removed]",
      "text/plain": [
       "<Figure size 432x288 with 1 Axes>"
      ]
     },
     "metadata": {
      "needs_background": "light"
     },
     "output_type": "display_data"
    }
   ],
   "source": [
    "df_pivot_diff.sort_values(\"stamp_2\", ascending = False)[\"stamp_2\"].head(10).plot.barh()"
   ]
  },
  {
   "cell_type": "code",
   "execution_count": null,
   "id": "extra-executive",
   "metadata": {
    "papermill": {
     "duration": 0.024415,
     "end_time": "2021-12-14T15:00:14.252233",
     "exception": false,
     "start_time": "2021-12-14T15:00:14.227818",
     "status": "completed"
    },
    "tags": []
   },
   "outputs": [],
   "source": []
  }
 ],
 "metadata": {
  "kernelspec": {
   "display_name": "Python 3",
   "language": "python",
   "name": "python3"
  },
  "language_info": {
   "codemirror_mode": {
    "name": "ipython",
    "version": 3
   },
   "file_extension": ".py",
   "mimetype": "text/x-python",
   "name": "python",
   "nbconvert_exporter": "python",
   "pygments_lexer": "ipython3",
   "version": "3.9.5"
  },
  "papermill": {
   "default_parameters": {},
   "duration": 9.510811,
   "end_time": "2021-12-14T15:00:14.898044",
   "environment_variables": {},
   "exception": null,
   "input_path": "eBay_Overview.ipynb",
   "output_path": "eBay_Overview.ipynb",
   "parameters": {},
   "start_time": "2021-12-14T15:00:05.387233",
   "version": "2.3.3"
  }
 },
 "nbformat": 4,
 "nbformat_minor": 5
}