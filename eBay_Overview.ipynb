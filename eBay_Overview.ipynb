{
 "cells": [
  {
   "cell_type": "code",
   "execution_count": 1,
   "id": "reverse-picking",
   "metadata": {
    "execution": {
     "iopub.execute_input": "2021-11-24T19:30:08.125364Z",
     "iopub.status.busy": "2021-11-24T19:30:08.122311Z",
     "iopub.status.idle": "2021-11-24T19:30:09.090728Z",
     "shell.execute_reply": "2021-11-24T19:30:09.092208Z"
    },
    "papermill": {
     "duration": 1.018649,
     "end_time": "2021-11-24T19:30:09.093022",
     "exception": false,
     "start_time": "2021-11-24T19:30:08.074373",
     "status": "completed"
    },
    "tags": []
   },
   "outputs": [],
   "source": [
    "import pandas as pd\n",
    "import sqlite3"
   ]
  },
  {
   "cell_type": "code",
   "execution_count": 2,
   "id": "innovative-syndrome",
   "metadata": {
    "execution": {
     "iopub.execute_input": "2021-11-24T19:30:09.207902Z",
     "iopub.status.busy": "2021-11-24T19:30:09.205644Z",
     "iopub.status.idle": "2021-11-24T19:30:10.136055Z",
     "shell.execute_reply": "2021-11-24T19:30:10.137643Z"
    },
    "papermill": {
     "duration": 0.964,
     "end_time": "2021-11-24T19:30:10.138138",
     "exception": false,
     "start_time": "2021-11-24T19:30:09.174138",
     "status": "completed"
    },
    "tags": []
   },
   "outputs": [],
   "source": [
    "timestamps = pd.read_sql(\"select distinct record_time from EBAY_TOP_BERLIN order by record_time desc limit 2\", sqlite3.connect(\"UsedObjects.db\"))"
   ]
  },
  {
   "cell_type": "code",
   "execution_count": 3,
   "id": "periodic-identification",
   "metadata": {
    "execution": {
     "iopub.execute_input": "2021-11-24T19:30:10.213334Z",
     "iopub.status.busy": "2021-11-24T19:30:10.207046Z",
     "iopub.status.idle": "2021-11-24T19:30:10.230038Z",
     "shell.execute_reply": "2021-11-24T19:30:10.231383Z"
    },
    "papermill": {
     "duration": 0.073148,
     "end_time": "2021-11-24T19:30:10.231861",
     "exception": false,
     "start_time": "2021-11-24T19:30:10.158713",
     "status": "completed"
    },
    "tags": []
   },
   "outputs": [
    {
     "data": {
      "text/html": [
       "<div>\n",
       "<style scoped>\n",
       "    .dataframe tbody tr th:only-of-type {\n",
       "        vertical-align: middle;\n",
       "    }\n",
       "\n",
       "    .dataframe tbody tr th {\n",
       "        vertical-align: top;\n",
       "    }\n",
       "\n",
       "    .dataframe thead th {\n",
       "        text-align: right;\n",
       "    }\n",
       "</style>\n",
       "<table border=\"1\" class=\"dataframe\">\n",
       "  <thead>\n",
       "    <tr style=\"text-align: right;\">\n",
       "      <th></th>\n",
       "      <th>RECORD_TIME</th>\n",
       "    </tr>\n",
       "  </thead>\n",
       "  <tbody>\n",
       "    <tr>\n",
       "      <th>0</th>\n",
       "      <td>2021-11-24 20:30</td>\n",
       "    </tr>\n",
       "    <tr>\n",
       "      <th>1</th>\n",
       "      <td>2021-11-24 20:00</td>\n",
       "    </tr>\n",
       "  </tbody>\n",
       "</table>\n",
       "</div>"
      ],
      "text/plain": [
       "        RECORD_TIME\n",
       "0  2021-11-24 20:30\n",
       "1  2021-11-24 20:00"
      ]
     },
     "execution_count": 3,
     "metadata": {},
     "output_type": "execute_result"
    }
   ],
   "source": [
    "timestamps"
   ]
  },
  {
   "cell_type": "code",
   "execution_count": 4,
   "id": "alternate-victory",
   "metadata": {
    "execution": {
     "iopub.execute_input": "2021-11-24T19:30:10.291191Z",
     "iopub.status.busy": "2021-11-24T19:30:10.289013Z",
     "iopub.status.idle": "2021-11-24T19:30:11.607083Z",
     "shell.execute_reply": "2021-11-24T19:30:11.608623Z"
    },
    "papermill": {
     "duration": 1.355117,
     "end_time": "2021-11-24T19:30:11.609146",
     "exception": false,
     "start_time": "2021-11-24T19:30:10.254029",
     "status": "completed"
    },
    "tags": []
   },
   "outputs": [],
   "source": [
    "df = pd.read_sql(\"select * from EBAY_TOP_BERLIN where record_time in (select distinct record_time from EBAY_TOP_BERLIN order by record_time desc limit 2)\", sqlite3.connect(\"UsedObjects.db\"))"
   ]
  },
  {
   "cell_type": "code",
   "execution_count": 5,
   "id": "popular-active",
   "metadata": {
    "execution": {
     "iopub.execute_input": "2021-11-24T19:30:11.675260Z",
     "iopub.status.busy": "2021-11-24T19:30:11.672767Z",
     "iopub.status.idle": "2021-11-24T19:30:11.705679Z",
     "shell.execute_reply": "2021-11-24T19:30:11.707022Z"
    },
    "papermill": {
     "duration": 0.077095,
     "end_time": "2021-11-24T19:30:11.707493",
     "exception": false,
     "start_time": "2021-11-24T19:30:11.630398",
     "status": "completed"
    },
    "tags": []
   },
   "outputs": [],
   "source": [
    "df_pivot = df.pivot_table(index=\"PRODUCT\", columns = \"RECORD_TIME\", values = \"LISTING_COUNT\")"
   ]
  },
  {
   "cell_type": "code",
   "execution_count": 6,
   "id": "union-huntington",
   "metadata": {
    "execution": {
     "iopub.execute_input": "2021-11-24T19:30:11.765999Z",
     "iopub.status.busy": "2021-11-24T19:30:11.763671Z",
     "iopub.status.idle": "2021-11-24T19:30:11.769590Z",
     "shell.execute_reply": "2021-11-24T19:30:11.771046Z"
    },
    "papermill": {
     "duration": 0.043979,
     "end_time": "2021-11-24T19:30:11.771496",
     "exception": false,
     "start_time": "2021-11-24T19:30:11.727517",
     "status": "completed"
    },
    "tags": []
   },
   "outputs": [],
   "source": [
    "df_pivot.columns = [\"stamp_1\", \"stamp_2\"]\n",
    "df_pivot_diff = df_pivot.diff(axis=1)"
   ]
  },
  {
   "cell_type": "code",
   "execution_count": 7,
   "id": "fifth-motion",
   "metadata": {
    "execution": {
     "iopub.execute_input": "2021-11-24T19:30:11.829858Z",
     "iopub.status.busy": "2021-11-24T19:30:11.827018Z",
     "iopub.status.idle": "2021-11-24T19:30:13.815739Z",
     "shell.execute_reply": "2021-11-24T19:30:13.817159Z"
    },
    "papermill": {
     "duration": 2.025512,
     "end_time": "2021-11-24T19:30:13.817627",
     "exception": false,
     "start_time": "2021-11-24T19:30:11.792115",
     "status": "completed"
    },
    "tags": []
   },
   "outputs": [
    {
     "data": {
      "text/plain": [
       "<AxesSubplot:ylabel='PRODUCT'>"
      ]
     },
     "execution_count": 7,
     "metadata": {},
     "output_type": "execute_result"
    },
    {
     "data": {
      "image/png": "[encoded data removed]",
      "text/plain": [
       "<Figure size 432x288 with 1 Axes>"
      ]
     },
     "metadata": {
      "needs_background": "light"
     },
     "output_type": "display_data"
    }
   ],
   "source": [
    "df_pivot_diff.sort_values(\"stamp_2\", ascending = False)[\"stamp_2\"].head(10).plot.barh()"
   ]
  },
  {
   "cell_type": "code",
   "execution_count": null,
   "id": "extra-executive",
   "metadata": {
    "papermill": {
     "duration": 0.058673,
     "end_time": "2021-11-24T19:30:13.901275",
     "exception": false,
     "start_time": "2021-11-24T19:30:13.842602",
     "status": "completed"
    },
    "tags": []
   },
   "outputs": [],
   "source": []
  }
 ],
 "metadata": {
  "kernelspec": {
   "display_name": "Python 3",
   "language": "python",
   "name": "python3"
  },
  "language_info": {
   "codemirror_mode": {
    "name": "ipython",
    "version": 3
   },
   "file_extension": ".py",
   "mimetype": "text/x-python",
   "name": "python",
   "nbconvert_exporter": "python",
   "pygments_lexer": "ipython3",
   "version": "3.9.5"
  },
  "papermill": {
   "default_parameters": {},
   "duration": 9.941777,
   "end_time": "2021-11-24T19:30:15.274008",
   "environment_variables": {},
   "exception": null,
   "input_path": "eBay_Overview.ipynb",
   "output_path": "eBay_Overview.ipynb",
   "parameters": {},
   "start_time": "2021-11-24T19:30:05.332231",
   "version": "2.3.3"
  }
 },
 "nbformat": 4,
 "nbformat_minor": 5
}