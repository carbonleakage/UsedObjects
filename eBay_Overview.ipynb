{
 "cells": [
  {
   "cell_type": "code",
   "execution_count": 1,
   "id": "reverse-picking",
   "metadata": {
    "execution": {
     "iopub.execute_input": "2021-09-15T17:00:07.066093Z",
     "iopub.status.busy": "2021-09-15T17:00:07.064104Z",
     "iopub.status.idle": "2021-09-15T17:00:07.870536Z",
     "shell.execute_reply": "2021-09-15T17:00:07.871914Z"
    },
    "papermill": {
     "duration": 0.856879,
     "end_time": "2021-09-15T17:00:07.872539",
     "exception": false,
     "start_time": "2021-09-15T17:00:07.015660",
     "status": "completed"
    },
    "tags": []
   },
   "outputs": [],
   "source": [
    "import pandas as pd\n",
    "import sqlite3"
   ]
  },
  {
   "cell_type": "code",
   "execution_count": 2,
   "id": "innovative-syndrome",
   "metadata": {
    "execution": {
     "iopub.execute_input": "2021-09-15T17:00:07.923988Z",
     "iopub.status.busy": "2021-09-15T17:00:07.921976Z",
     "iopub.status.idle": "2021-09-15T17:00:08.217153Z",
     "shell.execute_reply": "2021-09-15T17:00:08.218350Z"
    },
    "papermill": {
     "duration": 0.324741,
     "end_time": "2021-09-15T17:00:08.218741",
     "exception": false,
     "start_time": "2021-09-15T17:00:07.894000",
     "status": "completed"
    },
    "tags": []
   },
   "outputs": [],
   "source": [
    "timestamps = pd.read_sql(\"select distinct record_time from EBAY_TOP_BERLIN order by record_time desc limit 2\", sqlite3.connect(\"UsedObjects.db\"))"
   ]
  },
  {
   "cell_type": "code",
   "execution_count": 3,
   "id": "periodic-identification",
   "metadata": {
    "execution": {
     "iopub.execute_input": "2021-09-15T17:00:08.284324Z",
     "iopub.status.busy": "2021-09-15T17:00:08.282132Z",
     "iopub.status.idle": "2021-09-15T17:00:08.302885Z",
     "shell.execute_reply": "2021-09-15T17:00:08.304274Z"
    },
    "papermill": {
     "duration": 0.06481,
     "end_time": "2021-09-15T17:00:08.304691",
     "exception": false,
     "start_time": "2021-09-15T17:00:08.239881",
     "status": "completed"
    },
    "tags": []
   },
   "outputs": [
    {
     "data": {
      "text/html": [
       "<div>\n",
       "<style scoped>\n",
       "    .dataframe tbody tr th:only-of-type {\n",
       "        vertical-align: middle;\n",
       "    }\n",
       "\n",
       "    .dataframe tbody tr th {\n",
       "        vertical-align: top;\n",
       "    }\n",
       "\n",
       "    .dataframe thead th {\n",
       "        text-align: right;\n",
       "    }\n",
       "</style>\n",
       "<table border=\"1\" class=\"dataframe\">\n",
       "  <thead>\n",
       "    <tr style=\"text-align: right;\">\n",
       "      <th></th>\n",
       "      <th>RECORD_TIME</th>\n",
       "    </tr>\n",
       "  </thead>\n",
       "  <tbody>\n",
       "    <tr>\n",
       "      <th>0</th>\n",
       "      <td>2021-09-15 19:00</td>\n",
       "    </tr>\n",
       "    <tr>\n",
       "      <th>1</th>\n",
       "      <td>2021-09-15 18:30</td>\n",
       "    </tr>\n",
       "  </tbody>\n",
       "</table>\n",
       "</div>"
      ],
      "text/plain": [
       "        RECORD_TIME\n",
       "0  2021-09-15 19:00\n",
       "1  2021-09-15 18:30"
      ]
     },
     "execution_count": 3,
     "metadata": {},
     "output_type": "execute_result"
    }
   ],
   "source": [
    "timestamps"
   ]
  },
  {
   "cell_type": "code",
   "execution_count": 4,
   "id": "alternate-victory",
   "metadata": {
    "execution": {
     "iopub.execute_input": "2021-09-15T17:00:08.356464Z",
     "iopub.status.busy": "2021-09-15T17:00:08.354340Z",
     "iopub.status.idle": "2021-09-15T17:00:08.797684Z",
     "shell.execute_reply": "2021-09-15T17:00:08.798999Z"
    },
    "papermill": {
     "duration": 0.473599,
     "end_time": "2021-09-15T17:00:08.799466",
     "exception": false,
     "start_time": "2021-09-15T17:00:08.325867",
     "status": "completed"
    },
    "tags": []
   },
   "outputs": [],
   "source": [
    "df = pd.read_sql(\"select * from EBAY_TOP_BERLIN where record_time in (select distinct record_time from EBAY_TOP_BERLIN order by record_time desc limit 2)\", sqlite3.connect(\"UsedObjects.db\"))"
   ]
  },
  {
   "cell_type": "code",
   "execution_count": 5,
   "id": "popular-active",
   "metadata": {
    "execution": {
     "iopub.execute_input": "2021-09-15T17:00:08.870086Z",
     "iopub.status.busy": "2021-09-15T17:00:08.859221Z",
     "iopub.status.idle": "2021-09-15T17:00:08.886553Z",
     "shell.execute_reply": "2021-09-15T17:00:08.887854Z"
    },
    "papermill": {
     "duration": 0.068345,
     "end_time": "2021-09-15T17:00:08.888252",
     "exception": false,
     "start_time": "2021-09-15T17:00:08.819907",
     "status": "completed"
    },
    "tags": []
   },
   "outputs": [],
   "source": [
    "df_pivot = df.pivot_table(index=\"PRODUCT\", columns = \"RECORD_TIME\", values = \"LISTING_COUNT\")"
   ]
  },
  {
   "cell_type": "code",
   "execution_count": 6,
   "id": "union-huntington",
   "metadata": {
    "execution": {
     "iopub.execute_input": "2021-09-15T17:00:08.946221Z",
     "iopub.status.busy": "2021-09-15T17:00:08.943958Z",
     "iopub.status.idle": "2021-09-15T17:00:08.949787Z",
     "shell.execute_reply": "2021-09-15T17:00:08.951491Z"
    },
    "papermill": {
     "duration": 0.042229,
     "end_time": "2021-09-15T17:00:08.951986",
     "exception": false,
     "start_time": "2021-09-15T17:00:08.909757",
     "status": "completed"
    },
    "tags": []
   },
   "outputs": [],
   "source": [
    "df_pivot.columns = [\"stamp_1\", \"stamp_2\"]\n",
    "df_pivot_diff = df_pivot.diff(axis=1)"
   ]
  },
  {
   "cell_type": "code",
   "execution_count": 7,
   "id": "fifth-motion",
   "metadata": {
    "execution": {
     "iopub.execute_input": "2021-09-15T17:00:09.007645Z",
     "iopub.status.busy": "2021-09-15T17:00:09.004847Z",
     "iopub.status.idle": "2021-09-15T17:00:10.472503Z",
     "shell.execute_reply": "2021-09-15T17:00:10.473963Z"
    },
    "papermill": {
     "duration": 1.501399,
     "end_time": "2021-09-15T17:00:10.474428",
     "exception": false,
     "start_time": "2021-09-15T17:00:08.973029",
     "status": "completed"
    },
    "tags": []
   },
   "outputs": [
    {
     "data": {
      "text/plain": [
       "<AxesSubplot:ylabel='PRODUCT'>"
      ]
     },
     "execution_count": 7,
     "metadata": {},
     "output_type": "execute_result"
    },
    {
     "data": {
      "image/png": "[encoded data removed]",
      "text/plain": [
       "<Figure size 432x288 with 1 Axes>"
      ]
     },
     "metadata": {
      "needs_background": "light"
     },
     "output_type": "display_data"
    }
   ],
   "source": [
    "df_pivot_diff.sort_values(\"stamp_2\", ascending = False)[\"stamp_2\"].head(10).plot.barh()"
   ]
  },
  {
   "cell_type": "code",
   "execution_count": null,
   "id": "extra-executive",
   "metadata": {
    "papermill": {
     "duration": 0.022272,
     "end_time": "2021-09-15T17:00:10.520506",
     "exception": false,
     "start_time": "2021-09-15T17:00:10.498234",
     "status": "completed"
    },
    "tags": []
   },
   "outputs": [],
   "source": []
  }
 ],
 "metadata": {
  "kernelspec": {
   "display_name": "Python 3",
   "language": "python",
   "name": "python3"
  },
  "language_info": {
   "codemirror_mode": {
    "name": "ipython",
    "version": 3
   },
   "file_extension": ".py",
   "mimetype": "text/x-python",
   "name": "python",
   "nbconvert_exporter": "python",
   "pygments_lexer": "ipython3",
   "version": "3.9.5"
  },
  "papermill": {
   "default_parameters": {},
   "duration": 6.547743,
   "end_time": "2021-09-15T17:00:11.161271",
   "environment_variables": {},
   "exception": null,
   "input_path": "eBay_Overview.ipynb",
   "output_path": "eBay_Overview.ipynb",
   "parameters": {},
   "start_time": "2021-09-15T17:00:04.613528",
   "version": "2.3.3"
  }
 },
 "nbformat": 4,
 "nbformat_minor": 5
}