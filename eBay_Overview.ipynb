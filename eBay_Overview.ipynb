{
 "cells": [
  {
   "cell_type": "code",
   "execution_count": 1,
   "id": "reverse-picking",
   "metadata": {
    "execution": {
     "iopub.execute_input": "2021-10-04T09:30:06.570161Z",
     "iopub.status.busy": "2021-10-04T09:30:06.568204Z",
     "iopub.status.idle": "2021-10-04T09:30:07.371605Z",
     "shell.execute_reply": "2021-10-04T09:30:07.372882Z"
    },
    "papermill": {
     "duration": 0.853534,
     "end_time": "2021-10-04T09:30:07.373504",
     "exception": false,
     "start_time": "2021-10-04T09:30:06.519970",
     "status": "completed"
    },
    "tags": []
   },
   "outputs": [],
   "source": [
    "import pandas as pd\n",
    "import sqlite3"
   ]
  },
  {
   "cell_type": "code",
   "execution_count": 2,
   "id": "innovative-syndrome",
   "metadata": {
    "execution": {
     "iopub.execute_input": "2021-10-04T09:30:07.424026Z",
     "iopub.status.busy": "2021-10-04T09:30:07.422045Z",
     "iopub.status.idle": "2021-10-04T09:30:07.868609Z",
     "shell.execute_reply": "2021-10-04T09:30:07.869864Z"
    },
    "papermill": {
     "duration": 0.47604,
     "end_time": "2021-10-04T09:30:07.870289",
     "exception": false,
     "start_time": "2021-10-04T09:30:07.394249",
     "status": "completed"
    },
    "tags": []
   },
   "outputs": [],
   "source": [
    "timestamps = pd.read_sql(\"select distinct record_time from EBAY_TOP_BERLIN order by record_time desc limit 2\", sqlite3.connect(\"UsedObjects.db\"))"
   ]
  },
  {
   "cell_type": "code",
   "execution_count": 3,
   "id": "periodic-identification",
   "metadata": {
    "execution": {
     "iopub.execute_input": "2021-10-04T09:30:07.939851Z",
     "iopub.status.busy": "2021-10-04T09:30:07.934499Z",
     "iopub.status.idle": "2021-10-04T09:30:07.954622Z",
     "shell.execute_reply": "2021-10-04T09:30:07.956130Z"
    },
    "papermill": {
     "duration": 0.067056,
     "end_time": "2021-10-04T09:30:07.956585",
     "exception": false,
     "start_time": "2021-10-04T09:30:07.889529",
     "status": "completed"
    },
    "tags": []
   },
   "outputs": [
    {
     "data": {
      "text/html": [
       "<div>\n",
       "<style scoped>\n",
       "    .dataframe tbody tr th:only-of-type {\n",
       "        vertical-align: middle;\n",
       "    }\n",
       "\n",
       "    .dataframe tbody tr th {\n",
       "        vertical-align: top;\n",
       "    }\n",
       "\n",
       "    .dataframe thead th {\n",
       "        text-align: right;\n",
       "    }\n",
       "</style>\n",
       "<table border=\"1\" class=\"dataframe\">\n",
       "  <thead>\n",
       "    <tr style=\"text-align: right;\">\n",
       "      <th></th>\n",
       "      <th>RECORD_TIME</th>\n",
       "    </tr>\n",
       "  </thead>\n",
       "  <tbody>\n",
       "    <tr>\n",
       "      <th>0</th>\n",
       "      <td>2021-10-04 11:30</td>\n",
       "    </tr>\n",
       "    <tr>\n",
       "      <th>1</th>\n",
       "      <td>2021-10-04 11:00</td>\n",
       "    </tr>\n",
       "  </tbody>\n",
       "</table>\n",
       "</div>"
      ],
      "text/plain": [
       "        RECORD_TIME\n",
       "0  2021-10-04 11:30\n",
       "1  2021-10-04 11:00"
      ]
     },
     "execution_count": 3,
     "metadata": {},
     "output_type": "execute_result"
    }
   ],
   "source": [
    "timestamps"
   ]
  },
  {
   "cell_type": "code",
   "execution_count": 4,
   "id": "alternate-victory",
   "metadata": {
    "execution": {
     "iopub.execute_input": "2021-10-04T09:30:08.017353Z",
     "iopub.status.busy": "2021-10-04T09:30:08.014577Z",
     "iopub.status.idle": "2021-10-04T09:30:08.685619Z",
     "shell.execute_reply": "2021-10-04T09:30:08.686890Z"
    },
    "papermill": {
     "duration": 0.709198,
     "end_time": "2021-10-04T09:30:08.687349",
     "exception": false,
     "start_time": "2021-10-04T09:30:07.978151",
     "status": "completed"
    },
    "tags": []
   },
   "outputs": [],
   "source": [
    "df = pd.read_sql(\"select * from EBAY_TOP_BERLIN where record_time in (select distinct record_time from EBAY_TOP_BERLIN order by record_time desc limit 2)\", sqlite3.connect(\"UsedObjects.db\"))"
   ]
  },
  {
   "cell_type": "code",
   "execution_count": 5,
   "id": "popular-active",
   "metadata": {
    "execution": {
     "iopub.execute_input": "2021-10-04T09:30:08.756738Z",
     "iopub.status.busy": "2021-10-04T09:30:08.745371Z",
     "iopub.status.idle": "2021-10-04T09:30:08.772918Z",
     "shell.execute_reply": "2021-10-04T09:30:08.774144Z"
    },
    "papermill": {
     "duration": 0.066477,
     "end_time": "2021-10-04T09:30:08.774547",
     "exception": false,
     "start_time": "2021-10-04T09:30:08.708070",
     "status": "completed"
    },
    "tags": []
   },
   "outputs": [],
   "source": [
    "df_pivot = df.pivot_table(index=\"PRODUCT\", columns = \"RECORD_TIME\", values = \"LISTING_COUNT\")"
   ]
  },
  {
   "cell_type": "code",
   "execution_count": 6,
   "id": "union-huntington",
   "metadata": {
    "execution": {
     "iopub.execute_input": "2021-10-04T09:30:08.834310Z",
     "iopub.status.busy": "2021-10-04T09:30:08.831830Z",
     "iopub.status.idle": "2021-10-04T09:30:08.837512Z",
     "shell.execute_reply": "2021-10-04T09:30:08.838846Z"
    },
    "papermill": {
     "duration": 0.042277,
     "end_time": "2021-10-04T09:30:08.839281",
     "exception": false,
     "start_time": "2021-10-04T09:30:08.797004",
     "status": "completed"
    },
    "tags": []
   },
   "outputs": [],
   "source": [
    "df_pivot.columns = [\"stamp_1\", \"stamp_2\"]\n",
    "df_pivot_diff = df_pivot.diff(axis=1)"
   ]
  },
  {
   "cell_type": "code",
   "execution_count": 7,
   "id": "fifth-motion",
   "metadata": {
    "execution": {
     "iopub.execute_input": "2021-10-04T09:30:08.893868Z",
     "iopub.status.busy": "2021-10-04T09:30:08.891582Z",
     "iopub.status.idle": "2021-10-04T09:30:10.390628Z",
     "shell.execute_reply": "2021-10-04T09:30:10.392144Z"
    },
    "papermill": {
     "duration": 1.532633,
     "end_time": "2021-10-04T09:30:10.392605",
     "exception": false,
     "start_time": "2021-10-04T09:30:08.859972",
     "status": "completed"
    },
    "tags": []
   },
   "outputs": [
    {
     "data": {
      "text/plain": [
       "<AxesSubplot:ylabel='PRODUCT'>"
      ]
     },
     "execution_count": 7,
     "metadata": {},
     "output_type": "execute_result"
    },
    {
     "data": {
      "image/png": "[encoded data removed]",
      "text/plain": [
       "<Figure size 432x288 with 1 Axes>"
      ]
     },
     "metadata": {
      "needs_background": "light"
     },
     "output_type": "display_data"
    }
   ],
   "source": [
    "df_pivot_diff.sort_values(\"stamp_2\", ascending = False)[\"stamp_2\"].head(10).plot.barh()"
   ]
  },
  {
   "cell_type": "code",
   "execution_count": null,
   "id": "extra-executive",
   "metadata": {
    "papermill": {
     "duration": 0.022355,
     "end_time": "2021-10-04T09:30:10.438342",
     "exception": false,
     "start_time": "2021-10-04T09:30:10.415987",
     "status": "completed"
    },
    "tags": []
   },
   "outputs": [],
   "source": []
  }
 ],
 "metadata": {
  "kernelspec": {
   "display_name": "Python 3",
   "language": "python",
   "name": "python3"
  },
  "language_info": {
   "codemirror_mode": {
    "name": "ipython",
    "version": 3
   },
   "file_extension": ".py",
   "mimetype": "text/x-python",
   "name": "python",
   "nbconvert_exporter": "python",
   "pygments_lexer": "ipython3",
   "version": "3.9.5"
  },
  "papermill": {
   "default_parameters": {},
   "duration": 7.821396,
   "end_time": "2021-10-04T09:30:11.940998",
   "environment_variables": {},
   "exception": null,
   "input_path": "eBay_Overview.ipynb",
   "output_path": "eBay_Overview.ipynb",
   "parameters": {},
   "start_time": "2021-10-04T09:30:04.119602",
   "version": "2.3.3"
  }
 },
 "nbformat": 4,
 "nbformat_minor": 5
}