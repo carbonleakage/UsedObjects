{
 "cells": [
  {
   "cell_type": "code",
   "execution_count": 1,
   "id": "reverse-picking",
   "metadata": {
    "execution": {
     "iopub.execute_input": "2021-08-25T16:00:06.851812Z",
     "iopub.status.busy": "2021-08-25T16:00:06.849876Z",
     "iopub.status.idle": "2021-08-25T16:00:07.658390Z",
     "shell.execute_reply": "2021-08-25T16:00:07.656737Z"
    },
    "papermill": {
     "duration": 0.859116,
     "end_time": "2021-08-25T16:00:07.658815",
     "exception": false,
     "start_time": "2021-08-25T16:00:06.799699",
     "status": "completed"
    },
    "tags": []
   },
   "outputs": [],
   "source": [
    "import pandas as pd\n",
    "import sqlite3"
   ]
  },
  {
   "cell_type": "code",
   "execution_count": 2,
   "id": "innovative-syndrome",
   "metadata": {
    "execution": {
     "iopub.execute_input": "2021-08-25T16:00:07.709398Z",
     "iopub.status.busy": "2021-08-25T16:00:07.707390Z",
     "iopub.status.idle": "2021-08-25T16:00:07.833066Z",
     "shell.execute_reply": "2021-08-25T16:00:07.834354Z"
    },
    "papermill": {
     "duration": 0.15492,
     "end_time": "2021-08-25T16:00:07.834756",
     "exception": false,
     "start_time": "2021-08-25T16:00:07.679836",
     "status": "completed"
    },
    "tags": []
   },
   "outputs": [],
   "source": [
    "timestamps = pd.read_sql(\"select distinct record_time from EBAY_TOP_BERLIN order by record_time desc limit 2\", sqlite3.connect(\"UsedObjects.db\"))"
   ]
  },
  {
   "cell_type": "code",
   "execution_count": 3,
   "id": "periodic-identification",
   "metadata": {
    "execution": {
     "iopub.execute_input": "2021-08-25T16:00:07.899300Z",
     "iopub.status.busy": "2021-08-25T16:00:07.897153Z",
     "iopub.status.idle": "2021-08-25T16:00:07.918406Z",
     "shell.execute_reply": "2021-08-25T16:00:07.919536Z"
    },
    "papermill": {
     "duration": 0.065958,
     "end_time": "2021-08-25T16:00:07.919950",
     "exception": false,
     "start_time": "2021-08-25T16:00:07.853992",
     "status": "completed"
    },
    "tags": []
   },
   "outputs": [
    {
     "data": {
      "text/html": [
       "<div>\n",
       "<style scoped>\n",
       "    .dataframe tbody tr th:only-of-type {\n",
       "        vertical-align: middle;\n",
       "    }\n",
       "\n",
       "    .dataframe tbody tr th {\n",
       "        vertical-align: top;\n",
       "    }\n",
       "\n",
       "    .dataframe thead th {\n",
       "        text-align: right;\n",
       "    }\n",
       "</style>\n",
       "<table border=\"1\" class=\"dataframe\">\n",
       "  <thead>\n",
       "    <tr style=\"text-align: right;\">\n",
       "      <th></th>\n",
       "      <th>RECORD_TIME</th>\n",
       "    </tr>\n",
       "  </thead>\n",
       "  <tbody>\n",
       "    <tr>\n",
       "      <th>0</th>\n",
       "      <td>2021-08-25 18:00</td>\n",
       "    </tr>\n",
       "    <tr>\n",
       "      <th>1</th>\n",
       "      <td>2021-08-25 17:30</td>\n",
       "    </tr>\n",
       "  </tbody>\n",
       "</table>\n",
       "</div>"
      ],
      "text/plain": [
       "        RECORD_TIME\n",
       "0  2021-08-25 18:00\n",
       "1  2021-08-25 17:30"
      ]
     },
     "execution_count": 3,
     "metadata": {},
     "output_type": "execute_result"
    }
   ],
   "source": [
    "timestamps"
   ]
  },
  {
   "cell_type": "code",
   "execution_count": 4,
   "id": "alternate-victory",
   "metadata": {
    "execution": {
     "iopub.execute_input": "2021-08-25T16:00:07.973725Z",
     "iopub.status.busy": "2021-08-25T16:00:07.971308Z",
     "iopub.status.idle": "2021-08-25T16:00:08.168828Z",
     "shell.execute_reply": "2021-08-25T16:00:08.169980Z"
    },
    "papermill": {
     "duration": 0.227528,
     "end_time": "2021-08-25T16:00:08.170399",
     "exception": false,
     "start_time": "2021-08-25T16:00:07.942871",
     "status": "completed"
    },
    "tags": []
   },
   "outputs": [],
   "source": [
    "df = pd.read_sql(\"select * from EBAY_TOP_BERLIN where record_time in (select distinct record_time from EBAY_TOP_BERLIN order by record_time desc limit 2)\", sqlite3.connect(\"UsedObjects.db\"))"
   ]
  },
  {
   "cell_type": "code",
   "execution_count": 5,
   "id": "popular-active",
   "metadata": {
    "execution": {
     "iopub.execute_input": "2021-08-25T16:00:08.244781Z",
     "iopub.status.busy": "2021-08-25T16:00:08.231999Z",
     "iopub.status.idle": "2021-08-25T16:00:08.260880Z",
     "shell.execute_reply": "2021-08-25T16:00:08.262204Z"
    },
    "papermill": {
     "duration": 0.068932,
     "end_time": "2021-08-25T16:00:08.262626",
     "exception": false,
     "start_time": "2021-08-25T16:00:08.193694",
     "status": "completed"
    },
    "tags": []
   },
   "outputs": [],
   "source": [
    "df_pivot = df.pivot_table(index=\"PRODUCT\", columns = \"RECORD_TIME\", values = \"LISTING_COUNT\")"
   ]
  },
  {
   "cell_type": "code",
   "execution_count": 6,
   "id": "union-huntington",
   "metadata": {
    "execution": {
     "iopub.execute_input": "2021-08-25T16:00:08.328440Z",
     "iopub.status.busy": "2021-08-25T16:00:08.326340Z",
     "iopub.status.idle": "2021-08-25T16:00:08.331976Z",
     "shell.execute_reply": "2021-08-25T16:00:08.333440Z"
    },
    "papermill": {
     "duration": 0.04429,
     "end_time": "2021-08-25T16:00:08.333929",
     "exception": false,
     "start_time": "2021-08-25T16:00:08.289639",
     "status": "completed"
    },
    "tags": []
   },
   "outputs": [],
   "source": [
    "df_pivot.columns = [\"stamp_1\", \"stamp_2\"]\n",
    "df_pivot_diff = df_pivot.diff(axis=1)"
   ]
  },
  {
   "cell_type": "code",
   "execution_count": 7,
   "id": "fifth-motion",
   "metadata": {
    "execution": {
     "iopub.execute_input": "2021-08-25T16:00:08.389844Z",
     "iopub.status.busy": "2021-08-25T16:00:08.387138Z",
     "iopub.status.idle": "2021-08-25T16:00:09.858100Z",
     "shell.execute_reply": "2021-08-25T16:00:09.859400Z"
    },
    "papermill": {
     "duration": 1.504378,
     "end_time": "2021-08-25T16:00:09.859824",
     "exception": false,
     "start_time": "2021-08-25T16:00:08.355446",
     "status": "completed"
    },
    "tags": []
   },
   "outputs": [
    {
     "data": {
      "text/plain": [
       "<AxesSubplot:ylabel='PRODUCT'>"
      ]
     },
     "execution_count": 7,
     "metadata": {},
     "output_type": "execute_result"
    },
    {
     "data": {
      "image/png": "[encoded data removed]",
      "text/plain": [
       "<Figure size 432x288 with 1 Axes>"
      ]
     },
     "metadata": {
      "needs_background": "light"
     },
     "output_type": "display_data"
    }
   ],
   "source": [
    "df_pivot_diff.sort_values(\"stamp_2\", ascending = False)[\"stamp_2\"].head(10).plot.barh()"
   ]
  },
  {
   "cell_type": "code",
   "execution_count": null,
   "id": "extra-executive",
   "metadata": {
    "papermill": {
     "duration": 0.022075,
     "end_time": "2021-08-25T16:00:09.906064",
     "exception": false,
     "start_time": "2021-08-25T16:00:09.883989",
     "status": "completed"
    },
    "tags": []
   },
   "outputs": [],
   "source": []
  }
 ],
 "metadata": {
  "kernelspec": {
   "display_name": "Python 3",
   "language": "python",
   "name": "python3"
  },
  "language_info": {
   "codemirror_mode": {
    "name": "ipython",
    "version": 3
   },
   "file_extension": ".py",
   "mimetype": "text/x-python",
   "name": "python",
   "nbconvert_exporter": "python",
   "pygments_lexer": "ipython3",
   "version": "3.9.5"
  },
  "papermill": {
   "default_parameters": {},
   "duration": 6.822518,
   "end_time": "2021-08-25T16:00:11.216147",
   "environment_variables": {},
   "exception": null,
   "input_path": "eBay_Overview.ipynb",
   "output_path": "eBay_Overview.ipynb",
   "parameters": {},
   "start_time": "2021-08-25T16:00:04.393629",
   "version": "2.3.3"
  }
 },
 "nbformat": 4,
 "nbformat_minor": 5
}