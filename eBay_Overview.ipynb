{
 "cells": [
  {
   "cell_type": "code",
   "execution_count": 1,
   "id": "reverse-picking",
   "metadata": {
    "execution": {
     "iopub.execute_input": "2021-11-19T14:00:07.832440Z",
     "iopub.status.busy": "2021-11-19T14:00:07.817058Z",
     "iopub.status.idle": "2021-11-19T14:00:08.785773Z",
     "shell.execute_reply": "2021-11-19T14:00:08.787332Z"
    },
    "papermill": {
     "duration": 1.003086,
     "end_time": "2021-11-19T14:00:08.788093",
     "exception": false,
     "start_time": "2021-11-19T14:00:07.785007",
     "status": "completed"
    },
    "tags": []
   },
   "outputs": [],
   "source": [
    "import pandas as pd\n",
    "import sqlite3"
   ]
  },
  {
   "cell_type": "code",
   "execution_count": 2,
   "id": "innovative-syndrome",
   "metadata": {
    "execution": {
     "iopub.execute_input": "2021-11-19T14:00:08.849575Z",
     "iopub.status.busy": "2021-11-19T14:00:08.847105Z",
     "iopub.status.idle": "2021-11-19T14:00:09.713846Z",
     "shell.execute_reply": "2021-11-19T14:00:09.715274Z"
    },
    "papermill": {
     "duration": 0.900541,
     "end_time": "2021-11-19T14:00:09.715759",
     "exception": false,
     "start_time": "2021-11-19T14:00:08.815218",
     "status": "completed"
    },
    "tags": []
   },
   "outputs": [],
   "source": [
    "timestamps = pd.read_sql(\"select distinct record_time from EBAY_TOP_BERLIN order by record_time desc limit 2\", sqlite3.connect(\"UsedObjects.db\"))"
   ]
  },
  {
   "cell_type": "code",
   "execution_count": 3,
   "id": "periodic-identification",
   "metadata": {
    "execution": {
     "iopub.execute_input": "2021-11-19T14:00:09.784550Z",
     "iopub.status.busy": "2021-11-19T14:00:09.782365Z",
     "iopub.status.idle": "2021-11-19T14:00:09.803219Z",
     "shell.execute_reply": "2021-11-19T14:00:09.804587Z"
    },
    "papermill": {
     "duration": 0.069373,
     "end_time": "2021-11-19T14:00:09.805106",
     "exception": false,
     "start_time": "2021-11-19T14:00:09.735733",
     "status": "completed"
    },
    "tags": []
   },
   "outputs": [
    {
     "data": {
      "text/html": [
       "<div>\n",
       "<style scoped>\n",
       "    .dataframe tbody tr th:only-of-type {\n",
       "        vertical-align: middle;\n",
       "    }\n",
       "\n",
       "    .dataframe tbody tr th {\n",
       "        vertical-align: top;\n",
       "    }\n",
       "\n",
       "    .dataframe thead th {\n",
       "        text-align: right;\n",
       "    }\n",
       "</style>\n",
       "<table border=\"1\" class=\"dataframe\">\n",
       "  <thead>\n",
       "    <tr style=\"text-align: right;\">\n",
       "      <th></th>\n",
       "      <th>RECORD_TIME</th>\n",
       "    </tr>\n",
       "  </thead>\n",
       "  <tbody>\n",
       "    <tr>\n",
       "      <th>0</th>\n",
       "      <td>2021-11-19 15:00</td>\n",
       "    </tr>\n",
       "    <tr>\n",
       "      <th>1</th>\n",
       "      <td>2021-11-19 14:30</td>\n",
       "    </tr>\n",
       "  </tbody>\n",
       "</table>\n",
       "</div>"
      ],
      "text/plain": [
       "        RECORD_TIME\n",
       "0  2021-11-19 15:00\n",
       "1  2021-11-19 14:30"
      ]
     },
     "execution_count": 3,
     "metadata": {},
     "output_type": "execute_result"
    }
   ],
   "source": [
    "timestamps"
   ]
  },
  {
   "cell_type": "code",
   "execution_count": 4,
   "id": "alternate-victory",
   "metadata": {
    "execution": {
     "iopub.execute_input": "2021-11-19T14:00:09.858385Z",
     "iopub.status.busy": "2021-11-19T14:00:09.856319Z",
     "iopub.status.idle": "2021-11-19T14:00:11.114600Z",
     "shell.execute_reply": "2021-11-19T14:00:11.117035Z"
    },
    "papermill": {
     "duration": 1.292123,
     "end_time": "2021-11-19T14:00:11.117533",
     "exception": false,
     "start_time": "2021-11-19T14:00:09.825410",
     "status": "completed"
    },
    "tags": []
   },
   "outputs": [],
   "source": [
    "df = pd.read_sql(\"select * from EBAY_TOP_BERLIN where record_time in (select distinct record_time from EBAY_TOP_BERLIN order by record_time desc limit 2)\", sqlite3.connect(\"UsedObjects.db\"))"
   ]
  },
  {
   "cell_type": "code",
   "execution_count": 5,
   "id": "popular-active",
   "metadata": {
    "execution": {
     "iopub.execute_input": "2021-11-19T14:00:11.196668Z",
     "iopub.status.busy": "2021-11-19T14:00:11.180763Z",
     "iopub.status.idle": "2021-11-19T14:00:11.216148Z",
     "shell.execute_reply": "2021-11-19T14:00:11.217591Z"
    },
    "papermill": {
     "duration": 0.079661,
     "end_time": "2021-11-19T14:00:11.218064",
     "exception": false,
     "start_time": "2021-11-19T14:00:11.138403",
     "status": "completed"
    },
    "tags": []
   },
   "outputs": [],
   "source": [
    "df_pivot = df.pivot_table(index=\"PRODUCT\", columns = \"RECORD_TIME\", values = \"LISTING_COUNT\")"
   ]
  },
  {
   "cell_type": "code",
   "execution_count": 6,
   "id": "union-huntington",
   "metadata": {
    "execution": {
     "iopub.execute_input": "2021-11-19T14:00:11.276335Z",
     "iopub.status.busy": "2021-11-19T14:00:11.272941Z",
     "iopub.status.idle": "2021-11-19T14:00:11.278796Z",
     "shell.execute_reply": "2021-11-19T14:00:11.280390Z"
    },
    "papermill": {
     "duration": 0.043138,
     "end_time": "2021-11-19T14:00:11.280924",
     "exception": false,
     "start_time": "2021-11-19T14:00:11.237786",
     "status": "completed"
    },
    "tags": []
   },
   "outputs": [],
   "source": [
    "df_pivot.columns = [\"stamp_1\", \"stamp_2\"]\n",
    "df_pivot_diff = df_pivot.diff(axis=1)"
   ]
  },
  {
   "cell_type": "code",
   "execution_count": 7,
   "id": "fifth-motion",
   "metadata": {
    "execution": {
     "iopub.execute_input": "2021-11-19T14:00:11.337977Z",
     "iopub.status.busy": "2021-11-19T14:00:11.335302Z",
     "iopub.status.idle": "2021-11-19T14:00:13.133001Z",
     "shell.execute_reply": "2021-11-19T14:00:13.135813Z"
    },
    "papermill": {
     "duration": 1.835355,
     "end_time": "2021-11-19T14:00:13.136552",
     "exception": false,
     "start_time": "2021-11-19T14:00:11.301197",
     "status": "completed"
    },
    "tags": []
   },
   "outputs": [
    {
     "data": {
      "text/plain": [
       "<AxesSubplot:ylabel='PRODUCT'>"
      ]
     },
     "execution_count": 7,
     "metadata": {},
     "output_type": "execute_result"
    },
    {
     "data": {
      "image/png": "[encoded data removed]",
      "text/plain": [
       "<Figure size 432x288 with 1 Axes>"
      ]
     },
     "metadata": {
      "needs_background": "light"
     },
     "output_type": "display_data"
    }
   ],
   "source": [
    "df_pivot_diff.sort_values(\"stamp_2\", ascending = False)[\"stamp_2\"].head(10).plot.barh()"
   ]
  },
  {
   "cell_type": "code",
   "execution_count": null,
   "id": "extra-executive",
   "metadata": {
    "papermill": {
     "duration": 0.034729,
     "end_time": "2021-11-19T14:00:13.206380",
     "exception": false,
     "start_time": "2021-11-19T14:00:13.171651",
     "status": "completed"
    },
    "tags": []
   },
   "outputs": [],
   "source": []
  }
 ],
 "metadata": {
  "kernelspec": {
   "display_name": "Python 3",
   "language": "python",
   "name": "python3"
  },
  "language_info": {
   "codemirror_mode": {
    "name": "ipython",
    "version": 3
   },
   "file_extension": ".py",
   "mimetype": "text/x-python",
   "name": "python",
   "nbconvert_exporter": "python",
   "pygments_lexer": "ipython3",
   "version": "3.9.5"
  },
  "papermill": {
   "default_parameters": {},
   "duration": 9.990564,
   "end_time": "2021-11-19T14:00:14.984274",
   "environment_variables": {},
   "exception": null,
   "input_path": "eBay_Overview.ipynb",
   "output_path": "eBay_Overview.ipynb",
   "parameters": {},
   "start_time": "2021-11-19T14:00:04.993710",
   "version": "2.3.3"
  }
 },
 "nbformat": 4,
 "nbformat_minor": 5
}