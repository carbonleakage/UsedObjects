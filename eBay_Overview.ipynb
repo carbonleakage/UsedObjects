{
 "cells": [
  {
   "cell_type": "code",
   "execution_count": 1,
   "id": "reverse-picking",
   "metadata": {
    "execution": {
     "iopub.execute_input": "2021-09-16T00:00:06.962999Z",
     "iopub.status.busy": "2021-09-16T00:00:06.960998Z",
     "iopub.status.idle": "2021-09-16T00:00:07.767440Z",
     "shell.execute_reply": "2021-09-16T00:00:07.768715Z"
    },
    "papermill": {
     "duration": 0.857955,
     "end_time": "2021-09-16T00:00:07.769332",
     "exception": false,
     "start_time": "2021-09-16T00:00:06.911377",
     "status": "completed"
    },
    "tags": []
   },
   "outputs": [],
   "source": [
    "import pandas as pd\n",
    "import sqlite3"
   ]
  },
  {
   "cell_type": "code",
   "execution_count": 2,
   "id": "innovative-syndrome",
   "metadata": {
    "execution": {
     "iopub.execute_input": "2021-09-16T00:00:07.820618Z",
     "iopub.status.busy": "2021-09-16T00:00:07.818690Z",
     "iopub.status.idle": "2021-09-16T00:00:08.108515Z",
     "shell.execute_reply": "2021-09-16T00:00:08.109697Z"
    },
    "papermill": {
     "duration": 0.319188,
     "end_time": "2021-09-16T00:00:08.110089",
     "exception": false,
     "start_time": "2021-09-16T00:00:07.790901",
     "status": "completed"
    },
    "tags": []
   },
   "outputs": [],
   "source": [
    "timestamps = pd.read_sql(\"select distinct record_time from EBAY_TOP_BERLIN order by record_time desc limit 2\", sqlite3.connect(\"UsedObjects.db\"))"
   ]
  },
  {
   "cell_type": "code",
   "execution_count": 3,
   "id": "periodic-identification",
   "metadata": {
    "execution": {
     "iopub.execute_input": "2021-09-16T00:00:08.181133Z",
     "iopub.status.busy": "2021-09-16T00:00:08.175937Z",
     "iopub.status.idle": "2021-09-16T00:00:08.197696Z",
     "shell.execute_reply": "2021-09-16T00:00:08.196305Z"
    },
    "papermill": {
     "duration": 0.065967,
     "end_time": "2021-09-16T00:00:08.198048",
     "exception": false,
     "start_time": "2021-09-16T00:00:08.132081",
     "status": "completed"
    },
    "tags": []
   },
   "outputs": [
    {
     "data": {
      "text/html": [
       "<div>\n",
       "<style scoped>\n",
       "    .dataframe tbody tr th:only-of-type {\n",
       "        vertical-align: middle;\n",
       "    }\n",
       "\n",
       "    .dataframe tbody tr th {\n",
       "        vertical-align: top;\n",
       "    }\n",
       "\n",
       "    .dataframe thead th {\n",
       "        text-align: right;\n",
       "    }\n",
       "</style>\n",
       "<table border=\"1\" class=\"dataframe\">\n",
       "  <thead>\n",
       "    <tr style=\"text-align: right;\">\n",
       "      <th></th>\n",
       "      <th>RECORD_TIME</th>\n",
       "    </tr>\n",
       "  </thead>\n",
       "  <tbody>\n",
       "    <tr>\n",
       "      <th>0</th>\n",
       "      <td>2021-09-16 02:00</td>\n",
       "    </tr>\n",
       "    <tr>\n",
       "      <th>1</th>\n",
       "      <td>2021-09-16 01:30</td>\n",
       "    </tr>\n",
       "  </tbody>\n",
       "</table>\n",
       "</div>"
      ],
      "text/plain": [
       "        RECORD_TIME\n",
       "0  2021-09-16 02:00\n",
       "1  2021-09-16 01:30"
      ]
     },
     "execution_count": 3,
     "metadata": {},
     "output_type": "execute_result"
    }
   ],
   "source": [
    "timestamps"
   ]
  },
  {
   "cell_type": "code",
   "execution_count": 4,
   "id": "alternate-victory",
   "metadata": {
    "execution": {
     "iopub.execute_input": "2021-09-16T00:00:08.249446Z",
     "iopub.status.busy": "2021-09-16T00:00:08.247626Z",
     "iopub.status.idle": "2021-09-16T00:00:08.674416Z",
     "shell.execute_reply": "2021-09-16T00:00:08.676469Z"
    },
    "papermill": {
     "duration": 0.457665,
     "end_time": "2021-09-16T00:00:08.676932",
     "exception": false,
     "start_time": "2021-09-16T00:00:08.219267",
     "status": "completed"
    },
    "tags": []
   },
   "outputs": [],
   "source": [
    "df = pd.read_sql(\"select * from EBAY_TOP_BERLIN where record_time in (select distinct record_time from EBAY_TOP_BERLIN order by record_time desc limit 2)\", sqlite3.connect(\"UsedObjects.db\"))"
   ]
  },
  {
   "cell_type": "code",
   "execution_count": 5,
   "id": "popular-active",
   "metadata": {
    "execution": {
     "iopub.execute_input": "2021-09-16T00:00:08.753337Z",
     "iopub.status.busy": "2021-09-16T00:00:08.750749Z",
     "iopub.status.idle": "2021-09-16T00:00:08.778002Z",
     "shell.execute_reply": "2021-09-16T00:00:08.779354Z"
    },
    "papermill": {
     "duration": 0.07306,
     "end_time": "2021-09-16T00:00:08.779774",
     "exception": false,
     "start_time": "2021-09-16T00:00:08.706714",
     "status": "completed"
    },
    "tags": []
   },
   "outputs": [],
   "source": [
    "df_pivot = df.pivot_table(index=\"PRODUCT\", columns = \"RECORD_TIME\", values = \"LISTING_COUNT\")"
   ]
  },
  {
   "cell_type": "code",
   "execution_count": 6,
   "id": "union-huntington",
   "metadata": {
    "execution": {
     "iopub.execute_input": "2021-09-16T00:00:08.835471Z",
     "iopub.status.busy": "2021-09-16T00:00:08.833459Z",
     "iopub.status.idle": "2021-09-16T00:00:08.838424Z",
     "shell.execute_reply": "2021-09-16T00:00:08.839708Z"
    },
    "papermill": {
     "duration": 0.039951,
     "end_time": "2021-09-16T00:00:08.840116",
     "exception": false,
     "start_time": "2021-09-16T00:00:08.800165",
     "status": "completed"
    },
    "tags": []
   },
   "outputs": [],
   "source": [
    "df_pivot.columns = [\"stamp_1\", \"stamp_2\"]\n",
    "df_pivot_diff = df_pivot.diff(axis=1)"
   ]
  },
  {
   "cell_type": "code",
   "execution_count": 7,
   "id": "fifth-motion",
   "metadata": {
    "execution": {
     "iopub.execute_input": "2021-09-16T00:00:08.894823Z",
     "iopub.status.busy": "2021-09-16T00:00:08.892455Z",
     "iopub.status.idle": "2021-09-16T00:00:10.393432Z",
     "shell.execute_reply": "2021-09-16T00:00:10.394619Z"
    },
    "papermill": {
     "duration": 1.533916,
     "end_time": "2021-09-16T00:00:10.395104",
     "exception": false,
     "start_time": "2021-09-16T00:00:08.861188",
     "status": "completed"
    },
    "tags": []
   },
   "outputs": [
    {
     "data": {
      "text/plain": [
       "<AxesSubplot:ylabel='PRODUCT'>"
      ]
     },
     "execution_count": 7,
     "metadata": {},
     "output_type": "execute_result"
    },
    {
     "data": {
      "image/png": "[encoded data removed]",
      "text/plain": [
       "<Figure size 432x288 with 1 Axes>"
      ]
     },
     "metadata": {
      "needs_background": "light"
     },
     "output_type": "display_data"
    }
   ],
   "source": [
    "df_pivot_diff.sort_values(\"stamp_2\", ascending = False)[\"stamp_2\"].head(10).plot.barh()"
   ]
  },
  {
   "cell_type": "code",
   "execution_count": null,
   "id": "extra-executive",
   "metadata": {
    "papermill": {
     "duration": 0.022469,
     "end_time": "2021-09-16T00:00:10.441577",
     "exception": false,
     "start_time": "2021-09-16T00:00:10.419108",
     "status": "completed"
    },
    "tags": []
   },
   "outputs": [],
   "source": []
  }
 ],
 "metadata": {
  "kernelspec": {
   "display_name": "Python 3",
   "language": "python",
   "name": "python3"
  },
  "language_info": {
   "codemirror_mode": {
    "name": "ipython",
    "version": 3
   },
   "file_extension": ".py",
   "mimetype": "text/x-python",
   "name": "python",
   "nbconvert_exporter": "python",
   "pygments_lexer": "ipython3",
   "version": "3.9.5"
  },
  "papermill": {
   "default_parameters": {},
   "duration": 6.580797,
   "end_time": "2021-09-16T00:00:11.084897",
   "environment_variables": {},
   "exception": null,
   "input_path": "eBay_Overview.ipynb",
   "output_path": "eBay_Overview.ipynb",
   "parameters": {},
   "start_time": "2021-09-16T00:00:04.504100",
   "version": "2.3.3"
  }
 },
 "nbformat": 4,
 "nbformat_minor": 5
}