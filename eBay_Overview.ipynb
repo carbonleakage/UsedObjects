{
 "cells": [
  {
   "cell_type": "code",
   "execution_count": 1,
   "id": "reverse-picking",
   "metadata": {
    "execution": {
     "iopub.execute_input": "2021-10-12T11:00:07.188100Z",
     "iopub.status.busy": "2021-10-12T11:00:07.186140Z",
     "iopub.status.idle": "2021-10-12T11:00:07.989172Z",
     "shell.execute_reply": "2021-10-12T11:00:07.990699Z"
    },
    "papermill": {
     "duration": 0.854786,
     "end_time": "2021-10-12T11:00:07.991376",
     "exception": false,
     "start_time": "2021-10-12T11:00:07.136590",
     "status": "completed"
    },
    "tags": []
   },
   "outputs": [],
   "source": [
    "import pandas as pd\n",
    "import sqlite3"
   ]
  },
  {
   "cell_type": "code",
   "execution_count": 2,
   "id": "innovative-syndrome",
   "metadata": {
    "execution": {
     "iopub.execute_input": "2021-10-12T11:00:08.042575Z",
     "iopub.status.busy": "2021-10-12T11:00:08.040111Z",
     "iopub.status.idle": "2021-10-12T11:00:08.558495Z",
     "shell.execute_reply": "2021-10-12T11:00:08.559694Z"
    },
    "papermill": {
     "duration": 0.548297,
     "end_time": "2021-10-12T11:00:08.560084",
     "exception": false,
     "start_time": "2021-10-12T11:00:08.011787",
     "status": "completed"
    },
    "tags": []
   },
   "outputs": [],
   "source": [
    "timestamps = pd.read_sql(\"select distinct record_time from EBAY_TOP_BERLIN order by record_time desc limit 2\", sqlite3.connect(\"UsedObjects.db\"))"
   ]
  },
  {
   "cell_type": "code",
   "execution_count": 3,
   "id": "periodic-identification",
   "metadata": {
    "execution": {
     "iopub.execute_input": "2021-10-12T11:00:08.623327Z",
     "iopub.status.busy": "2021-10-12T11:00:08.621303Z",
     "iopub.status.idle": "2021-10-12T11:00:08.642773Z",
     "shell.execute_reply": "2021-10-12T11:00:08.641413Z"
    },
    "papermill": {
     "duration": 0.063449,
     "end_time": "2021-10-12T11:00:08.643142",
     "exception": false,
     "start_time": "2021-10-12T11:00:08.579693",
     "status": "completed"
    },
    "tags": []
   },
   "outputs": [
    {
     "data": {
      "text/html": [
       "<div>\n",
       "<style scoped>\n",
       "    .dataframe tbody tr th:only-of-type {\n",
       "        vertical-align: middle;\n",
       "    }\n",
       "\n",
       "    .dataframe tbody tr th {\n",
       "        vertical-align: top;\n",
       "    }\n",
       "\n",
       "    .dataframe thead th {\n",
       "        text-align: right;\n",
       "    }\n",
       "</style>\n",
       "<table border=\"1\" class=\"dataframe\">\n",
       "  <thead>\n",
       "    <tr style=\"text-align: right;\">\n",
       "      <th></th>\n",
       "      <th>RECORD_TIME</th>\n",
       "    </tr>\n",
       "  </thead>\n",
       "  <tbody>\n",
       "    <tr>\n",
       "      <th>0</th>\n",
       "      <td>2021-10-12 13:00</td>\n",
       "    </tr>\n",
       "    <tr>\n",
       "      <th>1</th>\n",
       "      <td>2021-10-12 12:30</td>\n",
       "    </tr>\n",
       "  </tbody>\n",
       "</table>\n",
       "</div>"
      ],
      "text/plain": [
       "        RECORD_TIME\n",
       "0  2021-10-12 13:00\n",
       "1  2021-10-12 12:30"
      ]
     },
     "execution_count": 3,
     "metadata": {},
     "output_type": "execute_result"
    }
   ],
   "source": [
    "timestamps"
   ]
  },
  {
   "cell_type": "code",
   "execution_count": 4,
   "id": "alternate-victory",
   "metadata": {
    "execution": {
     "iopub.execute_input": "2021-10-12T11:00:08.705453Z",
     "iopub.status.busy": "2021-10-12T11:00:08.703198Z",
     "iopub.status.idle": "2021-10-12T11:00:09.459585Z",
     "shell.execute_reply": "2021-10-12T11:00:09.460974Z"
    },
    "papermill": {
     "duration": 0.789669,
     "end_time": "2021-10-12T11:00:09.461405",
     "exception": false,
     "start_time": "2021-10-12T11:00:08.671736",
     "status": "completed"
    },
    "tags": []
   },
   "outputs": [],
   "source": [
    "df = pd.read_sql(\"select * from EBAY_TOP_BERLIN where record_time in (select distinct record_time from EBAY_TOP_BERLIN order by record_time desc limit 2)\", sqlite3.connect(\"UsedObjects.db\"))"
   ]
  },
  {
   "cell_type": "code",
   "execution_count": 5,
   "id": "popular-active",
   "metadata": {
    "execution": {
     "iopub.execute_input": "2021-10-12T11:00:09.525663Z",
     "iopub.status.busy": "2021-10-12T11:00:09.519603Z",
     "iopub.status.idle": "2021-10-12T11:00:09.546470Z",
     "shell.execute_reply": "2021-10-12T11:00:09.547824Z"
    },
    "papermill": {
     "duration": 0.065328,
     "end_time": "2021-10-12T11:00:09.548308",
     "exception": false,
     "start_time": "2021-10-12T11:00:09.482980",
     "status": "completed"
    },
    "tags": []
   },
   "outputs": [],
   "source": [
    "df_pivot = df.pivot_table(index=\"PRODUCT\", columns = \"RECORD_TIME\", values = \"LISTING_COUNT\")"
   ]
  },
  {
   "cell_type": "code",
   "execution_count": 6,
   "id": "union-huntington",
   "metadata": {
    "execution": {
     "iopub.execute_input": "2021-10-12T11:00:09.605538Z",
     "iopub.status.busy": "2021-10-12T11:00:09.603426Z",
     "iopub.status.idle": "2021-10-12T11:00:09.610245Z",
     "shell.execute_reply": "2021-10-12T11:00:09.608832Z"
    },
    "papermill": {
     "duration": 0.041039,
     "end_time": "2021-10-12T11:00:09.610592",
     "exception": false,
     "start_time": "2021-10-12T11:00:09.569553",
     "status": "completed"
    },
    "tags": []
   },
   "outputs": [],
   "source": [
    "df_pivot.columns = [\"stamp_1\", \"stamp_2\"]\n",
    "df_pivot_diff = df_pivot.diff(axis=1)"
   ]
  },
  {
   "cell_type": "code",
   "execution_count": 7,
   "id": "fifth-motion",
   "metadata": {
    "execution": {
     "iopub.execute_input": "2021-10-12T11:00:09.666023Z",
     "iopub.status.busy": "2021-10-12T11:00:09.663426Z",
     "iopub.status.idle": "2021-10-12T11:00:11.122263Z",
     "shell.execute_reply": "2021-10-12T11:00:11.123616Z"
    },
    "papermill": {
     "duration": 1.492013,
     "end_time": "2021-10-12T11:00:11.124048",
     "exception": false,
     "start_time": "2021-10-12T11:00:09.632035",
     "status": "completed"
    },
    "tags": []
   },
   "outputs": [
    {
     "data": {
      "text/plain": [
       "<AxesSubplot:ylabel='PRODUCT'>"
      ]
     },
     "execution_count": 7,
     "metadata": {},
     "output_type": "execute_result"
    },
    {
     "data": {
      "image/png": "[encoded data removed]",
      "text/plain": [
       "<Figure size 432x288 with 1 Axes>"
      ]
     },
     "metadata": {
      "needs_background": "light"
     },
     "output_type": "display_data"
    }
   ],
   "source": [
    "df_pivot_diff.sort_values(\"stamp_2\", ascending = False)[\"stamp_2\"].head(10).plot.barh()"
   ]
  },
  {
   "cell_type": "code",
   "execution_count": null,
   "id": "extra-executive",
   "metadata": {
    "papermill": {
     "duration": 0.022383,
     "end_time": "2021-10-12T11:00:11.170110",
     "exception": false,
     "start_time": "2021-10-12T11:00:11.147727",
     "status": "completed"
    },
    "tags": []
   },
   "outputs": [],
   "source": []
  }
 ],
 "metadata": {
  "kernelspec": {
   "display_name": "Python 3",
   "language": "python",
   "name": "python3"
  },
  "language_info": {
   "codemirror_mode": {
    "name": "ipython",
    "version": 3
   },
   "file_extension": ".py",
   "mimetype": "text/x-python",
   "name": "python",
   "nbconvert_exporter": "python",
   "pygments_lexer": "ipython3",
   "version": "3.9.5"
  },
  "papermill": {
   "default_parameters": {},
   "duration": 7.827271,
   "end_time": "2021-10-12T11:00:12.563418",
   "environment_variables": {},
   "exception": null,
   "input_path": "eBay_Overview.ipynb",
   "output_path": "eBay_Overview.ipynb",
   "parameters": {},
   "start_time": "2021-10-12T11:00:04.736147",
   "version": "2.3.3"
  }
 },
 "nbformat": 4,
 "nbformat_minor": 5
}