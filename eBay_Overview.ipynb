{
 "cells": [
  {
   "cell_type": "code",
   "execution_count": 1,
   "id": "reverse-picking",
   "metadata": {
    "execution": {
     "iopub.execute_input": "2021-10-19T20:00:07.916072Z",
     "iopub.status.busy": "2021-10-19T20:00:07.914063Z",
     "iopub.status.idle": "2021-10-19T20:00:08.718004Z",
     "shell.execute_reply": "2021-10-19T20:00:08.719279Z"
    },
    "papermill": {
     "duration": 0.854483,
     "end_time": "2021-10-19T20:00:08.719886",
     "exception": false,
     "start_time": "2021-10-19T20:00:07.865403",
     "status": "completed"
    },
    "tags": []
   },
   "outputs": [],
   "source": [
    "import pandas as pd\n",
    "import sqlite3"
   ]
  },
  {
   "cell_type": "code",
   "execution_count": 2,
   "id": "innovative-syndrome",
   "metadata": {
    "execution": {
     "iopub.execute_input": "2021-10-19T20:00:08.771871Z",
     "iopub.status.busy": "2021-10-19T20:00:08.769952Z",
     "iopub.status.idle": "2021-10-19T20:00:09.341895Z",
     "shell.execute_reply": "2021-10-19T20:00:09.343067Z"
    },
    "papermill": {
     "duration": 0.601724,
     "end_time": "2021-10-19T20:00:09.343477",
     "exception": false,
     "start_time": "2021-10-19T20:00:08.741753",
     "status": "completed"
    },
    "tags": []
   },
   "outputs": [],
   "source": [
    "timestamps = pd.read_sql(\"select distinct record_time from EBAY_TOP_BERLIN order by record_time desc limit 2\", sqlite3.connect(\"UsedObjects.db\"))"
   ]
  },
  {
   "cell_type": "code",
   "execution_count": 3,
   "id": "periodic-identification",
   "metadata": {
    "execution": {
     "iopub.execute_input": "2021-10-19T20:00:09.419541Z",
     "iopub.status.busy": "2021-10-19T20:00:09.417471Z",
     "iopub.status.idle": "2021-10-19T20:00:09.437685Z",
     "shell.execute_reply": "2021-10-19T20:00:09.439056Z"
    },
    "papermill": {
     "duration": 0.068679,
     "end_time": "2021-10-19T20:00:09.439468",
     "exception": false,
     "start_time": "2021-10-19T20:00:09.370789",
     "status": "completed"
    },
    "tags": []
   },
   "outputs": [
    {
     "data": {
      "text/html": [
       "<div>\n",
       "<style scoped>\n",
       "    .dataframe tbody tr th:only-of-type {\n",
       "        vertical-align: middle;\n",
       "    }\n",
       "\n",
       "    .dataframe tbody tr th {\n",
       "        vertical-align: top;\n",
       "    }\n",
       "\n",
       "    .dataframe thead th {\n",
       "        text-align: right;\n",
       "    }\n",
       "</style>\n",
       "<table border=\"1\" class=\"dataframe\">\n",
       "  <thead>\n",
       "    <tr style=\"text-align: right;\">\n",
       "      <th></th>\n",
       "      <th>RECORD_TIME</th>\n",
       "    </tr>\n",
       "  </thead>\n",
       "  <tbody>\n",
       "    <tr>\n",
       "      <th>0</th>\n",
       "      <td>2021-10-19 22:00</td>\n",
       "    </tr>\n",
       "    <tr>\n",
       "      <th>1</th>\n",
       "      <td>2021-10-19 21:30</td>\n",
       "    </tr>\n",
       "  </tbody>\n",
       "</table>\n",
       "</div>"
      ],
      "text/plain": [
       "        RECORD_TIME\n",
       "0  2021-10-19 22:00\n",
       "1  2021-10-19 21:30"
      ]
     },
     "execution_count": 3,
     "metadata": {},
     "output_type": "execute_result"
    }
   ],
   "source": [
    "timestamps"
   ]
  },
  {
   "cell_type": "code",
   "execution_count": 4,
   "id": "alternate-victory",
   "metadata": {
    "execution": {
     "iopub.execute_input": "2021-10-19T20:00:09.491883Z",
     "iopub.status.busy": "2021-10-19T20:00:09.489559Z",
     "iopub.status.idle": "2021-10-19T20:00:10.356051Z",
     "shell.execute_reply": "2021-10-19T20:00:10.357579Z"
    },
    "papermill": {
     "duration": 0.8975,
     "end_time": "2021-10-19T20:00:10.358033",
     "exception": false,
     "start_time": "2021-10-19T20:00:09.460533",
     "status": "completed"
    },
    "tags": []
   },
   "outputs": [],
   "source": [
    "df = pd.read_sql(\"select * from EBAY_TOP_BERLIN where record_time in (select distinct record_time from EBAY_TOP_BERLIN order by record_time desc limit 2)\", sqlite3.connect(\"UsedObjects.db\"))"
   ]
  },
  {
   "cell_type": "code",
   "execution_count": 5,
   "id": "popular-active",
   "metadata": {
    "execution": {
     "iopub.execute_input": "2021-10-19T20:00:10.427812Z",
     "iopub.status.busy": "2021-10-19T20:00:10.416753Z",
     "iopub.status.idle": "2021-10-19T20:00:10.443097Z",
     "shell.execute_reply": "2021-10-19T20:00:10.444343Z"
    },
    "papermill": {
     "duration": 0.065806,
     "end_time": "2021-10-19T20:00:10.444920",
     "exception": false,
     "start_time": "2021-10-19T20:00:10.379114",
     "status": "completed"
    },
    "tags": []
   },
   "outputs": [],
   "source": [
    "df_pivot = df.pivot_table(index=\"PRODUCT\", columns = \"RECORD_TIME\", values = \"LISTING_COUNT\")"
   ]
  },
  {
   "cell_type": "code",
   "execution_count": 6,
   "id": "union-huntington",
   "metadata": {
    "execution": {
     "iopub.execute_input": "2021-10-19T20:00:10.504436Z",
     "iopub.status.busy": "2021-10-19T20:00:10.502077Z",
     "iopub.status.idle": "2021-10-19T20:00:10.507789Z",
     "shell.execute_reply": "2021-10-19T20:00:10.509196Z"
    },
    "papermill": {
     "duration": 0.042212,
     "end_time": "2021-10-19T20:00:10.509629",
     "exception": false,
     "start_time": "2021-10-19T20:00:10.467417",
     "status": "completed"
    },
    "tags": []
   },
   "outputs": [],
   "source": [
    "df_pivot.columns = [\"stamp_1\", \"stamp_2\"]\n",
    "df_pivot_diff = df_pivot.diff(axis=1)"
   ]
  },
  {
   "cell_type": "code",
   "execution_count": 7,
   "id": "fifth-motion",
   "metadata": {
    "execution": {
     "iopub.execute_input": "2021-10-19T20:00:10.563903Z",
     "iopub.status.busy": "2021-10-19T20:00:10.561662Z",
     "iopub.status.idle": "2021-10-19T20:00:12.051708Z",
     "shell.execute_reply": "2021-10-19T20:00:12.053104Z"
    },
    "papermill": {
     "duration": 1.523014,
     "end_time": "2021-10-19T20:00:12.053525",
     "exception": false,
     "start_time": "2021-10-19T20:00:10.530511",
     "status": "completed"
    },
    "tags": []
   },
   "outputs": [
    {
     "data": {
      "text/plain": [
       "<AxesSubplot:ylabel='PRODUCT'>"
      ]
     },
     "execution_count": 7,
     "metadata": {},
     "output_type": "execute_result"
    },
    {
     "data": {
      "image/png": "[encoded data removed]",
      "text/plain": [
       "<Figure size 432x288 with 1 Axes>"
      ]
     },
     "metadata": {
      "needs_background": "light"
     },
     "output_type": "display_data"
    }
   ],
   "source": [
    "df_pivot_diff.sort_values(\"stamp_2\", ascending = False)[\"stamp_2\"].head(10).plot.barh()"
   ]
  },
  {
   "cell_type": "code",
   "execution_count": null,
   "id": "extra-executive",
   "metadata": {
    "papermill": {
     "duration": 0.02209,
     "end_time": "2021-10-19T20:00:12.099854",
     "exception": false,
     "start_time": "2021-10-19T20:00:12.077764",
     "status": "completed"
    },
    "tags": []
   },
   "outputs": [],
   "source": []
  }
 ],
 "metadata": {
  "kernelspec": {
   "display_name": "Python 3",
   "language": "python",
   "name": "python3"
  },
  "language_info": {
   "codemirror_mode": {
    "name": "ipython",
    "version": 3
   },
   "file_extension": ".py",
   "mimetype": "text/x-python",
   "name": "python",
   "nbconvert_exporter": "python",
   "pygments_lexer": "ipython3",
   "version": "3.9.5"
  },
  "papermill": {
   "default_parameters": {},
   "duration": 7.819448,
   "end_time": "2021-10-19T20:00:13.285959",
   "environment_variables": {},
   "exception": null,
   "input_path": "eBay_Overview.ipynb",
   "output_path": "eBay_Overview.ipynb",
   "parameters": {},
   "start_time": "2021-10-19T20:00:05.466511",
   "version": "2.3.3"
  }
 },
 "nbformat": 4,
 "nbformat_minor": 5
}