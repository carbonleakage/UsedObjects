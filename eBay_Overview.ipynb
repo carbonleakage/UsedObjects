{
 "cells": [
  {
   "cell_type": "code",
   "execution_count": 1,
   "id": "reverse-picking",
   "metadata": {
    "execution": {
     "iopub.execute_input": "2021-09-16T21:30:06.736863Z",
     "iopub.status.busy": "2021-09-16T21:30:06.734910Z",
     "iopub.status.idle": "2021-09-16T21:30:07.537063Z",
     "shell.execute_reply": "2021-09-16T21:30:07.538310Z"
    },
    "papermill": {
     "duration": 0.852447,
     "end_time": "2021-09-16T21:30:07.538991",
     "exception": false,
     "start_time": "2021-09-16T21:30:06.686544",
     "status": "completed"
    },
    "tags": []
   },
   "outputs": [],
   "source": [
    "import pandas as pd\n",
    "import sqlite3"
   ]
  },
  {
   "cell_type": "code",
   "execution_count": 2,
   "id": "innovative-syndrome",
   "metadata": {
    "execution": {
     "iopub.execute_input": "2021-09-16T21:30:07.589980Z",
     "iopub.status.busy": "2021-09-16T21:30:07.588110Z",
     "iopub.status.idle": "2021-09-16T21:30:07.887282Z",
     "shell.execute_reply": "2021-09-16T21:30:07.888612Z"
    },
    "papermill": {
     "duration": 0.328855,
     "end_time": "2021-09-16T21:30:07.889015",
     "exception": false,
     "start_time": "2021-09-16T21:30:07.560160",
     "status": "completed"
    },
    "tags": []
   },
   "outputs": [],
   "source": [
    "timestamps = pd.read_sql(\"select distinct record_time from EBAY_TOP_BERLIN order by record_time desc limit 2\", sqlite3.connect(\"UsedObjects.db\"))"
   ]
  },
  {
   "cell_type": "code",
   "execution_count": 3,
   "id": "periodic-identification",
   "metadata": {
    "execution": {
     "iopub.execute_input": "2021-09-16T21:30:07.952950Z",
     "iopub.status.busy": "2021-09-16T21:30:07.950926Z",
     "iopub.status.idle": "2021-09-16T21:30:07.970763Z",
     "shell.execute_reply": "2021-09-16T21:30:07.971961Z"
    },
    "papermill": {
     "duration": 0.06388,
     "end_time": "2021-09-16T21:30:07.972374",
     "exception": false,
     "start_time": "2021-09-16T21:30:07.908494",
     "status": "completed"
    },
    "tags": []
   },
   "outputs": [
    {
     "data": {
      "text/html": [
       "<div>\n",
       "<style scoped>\n",
       "    .dataframe tbody tr th:only-of-type {\n",
       "        vertical-align: middle;\n",
       "    }\n",
       "\n",
       "    .dataframe tbody tr th {\n",
       "        vertical-align: top;\n",
       "    }\n",
       "\n",
       "    .dataframe thead th {\n",
       "        text-align: right;\n",
       "    }\n",
       "</style>\n",
       "<table border=\"1\" class=\"dataframe\">\n",
       "  <thead>\n",
       "    <tr style=\"text-align: right;\">\n",
       "      <th></th>\n",
       "      <th>RECORD_TIME</th>\n",
       "    </tr>\n",
       "  </thead>\n",
       "  <tbody>\n",
       "    <tr>\n",
       "      <th>0</th>\n",
       "      <td>2021-09-16 23:30</td>\n",
       "    </tr>\n",
       "    <tr>\n",
       "      <th>1</th>\n",
       "      <td>2021-09-16 23:00</td>\n",
       "    </tr>\n",
       "  </tbody>\n",
       "</table>\n",
       "</div>"
      ],
      "text/plain": [
       "        RECORD_TIME\n",
       "0  2021-09-16 23:30\n",
       "1  2021-09-16 23:00"
      ]
     },
     "execution_count": 3,
     "metadata": {},
     "output_type": "execute_result"
    }
   ],
   "source": [
    "timestamps"
   ]
  },
  {
   "cell_type": "code",
   "execution_count": 4,
   "id": "alternate-victory",
   "metadata": {
    "execution": {
     "iopub.execute_input": "2021-09-16T21:30:08.025876Z",
     "iopub.status.busy": "2021-09-16T21:30:08.023579Z",
     "iopub.status.idle": "2021-09-16T21:30:08.464518Z",
     "shell.execute_reply": "2021-09-16T21:30:08.465742Z"
    },
    "papermill": {
     "duration": 0.471048,
     "end_time": "2021-09-16T21:30:08.466141",
     "exception": false,
     "start_time": "2021-09-16T21:30:07.995093",
     "status": "completed"
    },
    "tags": []
   },
   "outputs": [],
   "source": [
    "df = pd.read_sql(\"select * from EBAY_TOP_BERLIN where record_time in (select distinct record_time from EBAY_TOP_BERLIN order by record_time desc limit 2)\", sqlite3.connect(\"UsedObjects.db\"))"
   ]
  },
  {
   "cell_type": "code",
   "execution_count": 5,
   "id": "popular-active",
   "metadata": {
    "execution": {
     "iopub.execute_input": "2021-09-16T21:30:08.555430Z",
     "iopub.status.busy": "2021-09-16T21:30:08.553153Z",
     "iopub.status.idle": "2021-09-16T21:30:08.580357Z",
     "shell.execute_reply": "2021-09-16T21:30:08.581592Z"
    },
    "papermill": {
     "duration": 0.075098,
     "end_time": "2021-09-16T21:30:08.581991",
     "exception": false,
     "start_time": "2021-09-16T21:30:08.506893",
     "status": "completed"
    },
    "tags": []
   },
   "outputs": [],
   "source": [
    "df_pivot = df.pivot_table(index=\"PRODUCT\", columns = \"RECORD_TIME\", values = \"LISTING_COUNT\")"
   ]
  },
  {
   "cell_type": "code",
   "execution_count": 6,
   "id": "union-huntington",
   "metadata": {
    "execution": {
     "iopub.execute_input": "2021-09-16T21:30:08.638984Z",
     "iopub.status.busy": "2021-09-16T21:30:08.636797Z",
     "iopub.status.idle": "2021-09-16T21:30:08.642324Z",
     "shell.execute_reply": "2021-09-16T21:30:08.644070Z"
    },
    "papermill": {
     "duration": 0.041201,
     "end_time": "2021-09-16T21:30:08.644672",
     "exception": false,
     "start_time": "2021-09-16T21:30:08.603471",
     "status": "completed"
    },
    "tags": []
   },
   "outputs": [],
   "source": [
    "df_pivot.columns = [\"stamp_1\", \"stamp_2\"]\n",
    "df_pivot_diff = df_pivot.diff(axis=1)"
   ]
  },
  {
   "cell_type": "code",
   "execution_count": 7,
   "id": "fifth-motion",
   "metadata": {
    "execution": {
     "iopub.execute_input": "2021-09-16T21:30:08.700813Z",
     "iopub.status.busy": "2021-09-16T21:30:08.698205Z",
     "iopub.status.idle": "2021-09-16T21:30:10.166461Z",
     "shell.execute_reply": "2021-09-16T21:30:10.168054Z"
    },
    "papermill": {
     "duration": 1.502161,
     "end_time": "2021-09-16T21:30:10.168531",
     "exception": false,
     "start_time": "2021-09-16T21:30:08.666370",
     "status": "completed"
    },
    "tags": []
   },
   "outputs": [
    {
     "data": {
      "text/plain": [
       "<AxesSubplot:ylabel='PRODUCT'>"
      ]
     },
     "execution_count": 7,
     "metadata": {},
     "output_type": "execute_result"
    },
    {
     "data": {
      "image/png": "[encoded data removed]",
      "text/plain": [
       "<Figure size 432x288 with 1 Axes>"
      ]
     },
     "metadata": {
      "needs_background": "light"
     },
     "output_type": "display_data"
    }
   ],
   "source": [
    "df_pivot_diff.sort_values(\"stamp_2\", ascending = False)[\"stamp_2\"].head(10).plot.barh()"
   ]
  },
  {
   "cell_type": "code",
   "execution_count": null,
   "id": "extra-executive",
   "metadata": {
    "papermill": {
     "duration": 0.022169,
     "end_time": "2021-09-16T21:30:10.215336",
     "exception": false,
     "start_time": "2021-09-16T21:30:10.193167",
     "status": "completed"
    },
    "tags": []
   },
   "outputs": [],
   "source": []
  }
 ],
 "metadata": {
  "kernelspec": {
   "display_name": "Python 3",
   "language": "python",
   "name": "python3"
  },
  "language_info": {
   "codemirror_mode": {
    "name": "ipython",
    "version": 3
   },
   "file_extension": ".py",
   "mimetype": "text/x-python",
   "name": "python",
   "nbconvert_exporter": "python",
   "pygments_lexer": "ipython3",
   "version": "3.9.5"
  },
  "papermill": {
   "default_parameters": {},
   "duration": 6.569941,
   "end_time": "2021-09-16T21:30:10.856410",
   "environment_variables": {},
   "exception": null,
   "input_path": "eBay_Overview.ipynb",
   "output_path": "eBay_Overview.ipynb",
   "parameters": {},
   "start_time": "2021-09-16T21:30:04.286469",
   "version": "2.3.3"
  }
 },
 "nbformat": 4,
 "nbformat_minor": 5
}