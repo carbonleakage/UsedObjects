{
 "cells": [
  {
   "cell_type": "code",
   "execution_count": 1,
   "id": "reverse-picking",
   "metadata": {
    "execution": {
     "iopub.execute_input": "2021-12-07T00:00:08.039114Z",
     "iopub.status.busy": "2021-12-07T00:00:08.036411Z",
     "iopub.status.idle": "2021-12-07T00:00:08.991177Z",
     "shell.execute_reply": "2021-12-07T00:00:08.992654Z"
    },
    "papermill": {
     "duration": 1.003563,
     "end_time": "2021-12-07T00:00:08.993432",
     "exception": false,
     "start_time": "2021-12-07T00:00:07.989869",
     "status": "completed"
    },
    "tags": []
   },
   "outputs": [],
   "source": [
    "import pandas as pd\n",
    "import sqlite3"
   ]
  },
  {
   "cell_type": "code",
   "execution_count": 2,
   "id": "innovative-syndrome",
   "metadata": {
    "execution": {
     "iopub.execute_input": "2021-12-07T00:00:09.100982Z",
     "iopub.status.busy": "2021-12-07T00:00:09.098818Z",
     "iopub.status.idle": "2021-12-07T00:00:10.118327Z",
     "shell.execute_reply": "2021-12-07T00:00:10.120539Z"
    },
    "papermill": {
     "duration": 1.096006,
     "end_time": "2021-12-07T00:00:10.121217",
     "exception": false,
     "start_time": "2021-12-07T00:00:09.025211",
     "status": "completed"
    },
    "tags": []
   },
   "outputs": [],
   "source": [
    "timestamps = pd.read_sql(\"select distinct record_time from EBAY_TOP_BERLIN order by record_time desc limit 2\", sqlite3.connect(\"UsedObjects.db\"))"
   ]
  },
  {
   "cell_type": "code",
   "execution_count": 3,
   "id": "periodic-identification",
   "metadata": {
    "execution": {
     "iopub.execute_input": "2021-12-07T00:00:10.195261Z",
     "iopub.status.busy": "2021-12-07T00:00:10.192999Z",
     "iopub.status.idle": "2021-12-07T00:00:10.215977Z",
     "shell.execute_reply": "2021-12-07T00:00:10.217314Z"
    },
    "papermill": {
     "duration": 0.07418,
     "end_time": "2021-12-07T00:00:10.217783",
     "exception": false,
     "start_time": "2021-12-07T00:00:10.143603",
     "status": "completed"
    },
    "tags": []
   },
   "outputs": [
    {
     "data": {
      "text/html": [
       "<div>\n",
       "<style scoped>\n",
       "    .dataframe tbody tr th:only-of-type {\n",
       "        vertical-align: middle;\n",
       "    }\n",
       "\n",
       "    .dataframe tbody tr th {\n",
       "        vertical-align: top;\n",
       "    }\n",
       "\n",
       "    .dataframe thead th {\n",
       "        text-align: right;\n",
       "    }\n",
       "</style>\n",
       "<table border=\"1\" class=\"dataframe\">\n",
       "  <thead>\n",
       "    <tr style=\"text-align: right;\">\n",
       "      <th></th>\n",
       "      <th>RECORD_TIME</th>\n",
       "    </tr>\n",
       "  </thead>\n",
       "  <tbody>\n",
       "    <tr>\n",
       "      <th>0</th>\n",
       "      <td>2021-12-07 01:00</td>\n",
       "    </tr>\n",
       "    <tr>\n",
       "      <th>1</th>\n",
       "      <td>2021-12-07 00:30</td>\n",
       "    </tr>\n",
       "  </tbody>\n",
       "</table>\n",
       "</div>"
      ],
      "text/plain": [
       "        RECORD_TIME\n",
       "0  2021-12-07 01:00\n",
       "1  2021-12-07 00:30"
      ]
     },
     "execution_count": 3,
     "metadata": {},
     "output_type": "execute_result"
    }
   ],
   "source": [
    "timestamps"
   ]
  },
  {
   "cell_type": "code",
   "execution_count": 4,
   "id": "alternate-victory",
   "metadata": {
    "execution": {
     "iopub.execute_input": "2021-12-07T00:00:10.270979Z",
     "iopub.status.busy": "2021-12-07T00:00:10.269022Z",
     "iopub.status.idle": "2021-12-07T00:00:11.751045Z",
     "shell.execute_reply": "2021-12-07T00:00:11.755448Z"
    },
    "papermill": {
     "duration": 1.51811,
     "end_time": "2021-12-07T00:00:11.756362",
     "exception": false,
     "start_time": "2021-12-07T00:00:10.238252",
     "status": "completed"
    },
    "tags": []
   },
   "outputs": [],
   "source": [
    "df = pd.read_sql(\"select * from EBAY_TOP_BERLIN where record_time in (select distinct record_time from EBAY_TOP_BERLIN order by record_time desc limit 2)\", sqlite3.connect(\"UsedObjects.db\"))"
   ]
  },
  {
   "cell_type": "code",
   "execution_count": 5,
   "id": "popular-active",
   "metadata": {
    "execution": {
     "iopub.execute_input": "2021-12-07T00:00:11.868050Z",
     "iopub.status.busy": "2021-12-07T00:00:11.855640Z",
     "iopub.status.idle": "2021-12-07T00:00:11.898655Z",
     "shell.execute_reply": "2021-12-07T00:00:11.900606Z"
    },
    "papermill": {
     "duration": 0.111097,
     "end_time": "2021-12-07T00:00:11.901469",
     "exception": false,
     "start_time": "2021-12-07T00:00:11.790372",
     "status": "completed"
    },
    "tags": []
   },
   "outputs": [],
   "source": [
    "df_pivot = df.pivot_table(index=\"PRODUCT\", columns = \"RECORD_TIME\", values = \"LISTING_COUNT\")"
   ]
  },
  {
   "cell_type": "code",
   "execution_count": 6,
   "id": "union-huntington",
   "metadata": {
    "execution": {
     "iopub.execute_input": "2021-12-07T00:00:11.994399Z",
     "iopub.status.busy": "2021-12-07T00:00:11.990881Z",
     "iopub.status.idle": "2021-12-07T00:00:12.003738Z",
     "shell.execute_reply": "2021-12-07T00:00:12.001010Z"
    },
    "papermill": {
     "duration": 0.069227,
     "end_time": "2021-12-07T00:00:12.004415",
     "exception": false,
     "start_time": "2021-12-07T00:00:11.935188",
     "status": "completed"
    },
    "tags": []
   },
   "outputs": [],
   "source": [
    "df_pivot.columns = [\"stamp_1\", \"stamp_2\"]\n",
    "df_pivot_diff = df_pivot.diff(axis=1)"
   ]
  },
  {
   "cell_type": "code",
   "execution_count": 7,
   "id": "fifth-motion",
   "metadata": {
    "execution": {
     "iopub.execute_input": "2021-12-07T00:00:12.079477Z",
     "iopub.status.busy": "2021-12-07T00:00:12.075749Z",
     "iopub.status.idle": "2021-12-07T00:00:13.794292Z",
     "shell.execute_reply": "2021-12-07T00:00:13.795577Z"
    },
    "papermill": {
     "duration": 1.760439,
     "end_time": "2021-12-07T00:00:13.795996",
     "exception": false,
     "start_time": "2021-12-07T00:00:12.035557",
     "status": "completed"
    },
    "tags": []
   },
   "outputs": [
    {
     "data": {
      "text/plain": [
       "<AxesSubplot:ylabel='PRODUCT'>"
      ]
     },
     "execution_count": 7,
     "metadata": {},
     "output_type": "execute_result"
    },
    {
     "data": {
      "image/png": "[encoded data removed]",
      "text/plain": [
       "<Figure size 432x288 with 1 Axes>"
      ]
     },
     "metadata": {
      "needs_background": "light"
     },
     "output_type": "display_data"
    }
   ],
   "source": [
    "df_pivot_diff.sort_values(\"stamp_2\", ascending = False)[\"stamp_2\"].head(10).plot.barh()"
   ]
  },
  {
   "cell_type": "code",
   "execution_count": null,
   "id": "extra-executive",
   "metadata": {
    "papermill": {
     "duration": 0.058352,
     "end_time": "2021-12-07T00:00:13.878180",
     "exception": false,
     "start_time": "2021-12-07T00:00:13.819828",
     "status": "completed"
    },
    "tags": []
   },
   "outputs": [],
   "source": []
  }
 ],
 "metadata": {
  "kernelspec": {
   "display_name": "Python 3",
   "language": "python",
   "name": "python3"
  },
  "language_info": {
   "codemirror_mode": {
    "name": "ipython",
    "version": 3
   },
   "file_extension": ".py",
   "mimetype": "text/x-python",
   "name": "python",
   "nbconvert_exporter": "python",
   "pygments_lexer": "ipython3",
   "version": "3.9.5"
  },
  "papermill": {
   "default_parameters": {},
   "duration": 9.942406,
   "end_time": "2021-12-07T00:00:15.201391",
   "environment_variables": {},
   "exception": null,
   "input_path": "eBay_Overview.ipynb",
   "output_path": "eBay_Overview.ipynb",
   "parameters": {},
   "start_time": "2021-12-07T00:00:05.258985",
   "version": "2.3.3"
  }
 },
 "nbformat": 4,
 "nbformat_minor": 5
}