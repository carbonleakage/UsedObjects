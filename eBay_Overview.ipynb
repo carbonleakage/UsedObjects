{
 "cells": [
  {
   "cell_type": "code",
   "execution_count": 1,
   "id": "reverse-picking",
   "metadata": {
    "execution": {
     "iopub.execute_input": "2021-10-15T16:30:06.927138Z",
     "iopub.status.busy": "2021-10-15T16:30:06.925141Z",
     "iopub.status.idle": "2021-10-15T16:30:07.733557Z",
     "shell.execute_reply": "2021-10-15T16:30:07.731888Z"
    },
    "papermill": {
     "duration": 0.859354,
     "end_time": "2021-10-15T16:30:07.733964",
     "exception": false,
     "start_time": "2021-10-15T16:30:06.874610",
     "status": "completed"
    },
    "tags": []
   },
   "outputs": [],
   "source": [
    "import pandas as pd\n",
    "import sqlite3"
   ]
  },
  {
   "cell_type": "code",
   "execution_count": 2,
   "id": "innovative-syndrome",
   "metadata": {
    "execution": {
     "iopub.execute_input": "2021-10-15T16:30:07.784642Z",
     "iopub.status.busy": "2021-10-15T16:30:07.782753Z",
     "iopub.status.idle": "2021-10-15T16:30:08.339941Z",
     "shell.execute_reply": "2021-10-15T16:30:08.341320Z"
    },
    "papermill": {
     "duration": 0.587026,
     "end_time": "2021-10-15T16:30:08.341749",
     "exception": false,
     "start_time": "2021-10-15T16:30:07.754723",
     "status": "completed"
    },
    "tags": []
   },
   "outputs": [],
   "source": [
    "timestamps = pd.read_sql(\"select distinct record_time from EBAY_TOP_BERLIN order by record_time desc limit 2\", sqlite3.connect(\"UsedObjects.db\"))"
   ]
  },
  {
   "cell_type": "code",
   "execution_count": 3,
   "id": "periodic-identification",
   "metadata": {
    "execution": {
     "iopub.execute_input": "2021-10-15T16:30:08.418031Z",
     "iopub.status.busy": "2021-10-15T16:30:08.415835Z",
     "iopub.status.idle": "2021-10-15T16:30:08.435813Z",
     "shell.execute_reply": "2021-10-15T16:30:08.437198Z"
    },
    "papermill": {
     "duration": 0.070639,
     "end_time": "2021-10-15T16:30:08.437624",
     "exception": false,
     "start_time": "2021-10-15T16:30:08.366985",
     "status": "completed"
    },
    "tags": []
   },
   "outputs": [
    {
     "data": {
      "text/html": [
       "<div>\n",
       "<style scoped>\n",
       "    .dataframe tbody tr th:only-of-type {\n",
       "        vertical-align: middle;\n",
       "    }\n",
       "\n",
       "    .dataframe tbody tr th {\n",
       "        vertical-align: top;\n",
       "    }\n",
       "\n",
       "    .dataframe thead th {\n",
       "        text-align: right;\n",
       "    }\n",
       "</style>\n",
       "<table border=\"1\" class=\"dataframe\">\n",
       "  <thead>\n",
       "    <tr style=\"text-align: right;\">\n",
       "      <th></th>\n",
       "      <th>RECORD_TIME</th>\n",
       "    </tr>\n",
       "  </thead>\n",
       "  <tbody>\n",
       "    <tr>\n",
       "      <th>0</th>\n",
       "      <td>2021-10-15 18:30</td>\n",
       "    </tr>\n",
       "    <tr>\n",
       "      <th>1</th>\n",
       "      <td>2021-10-15 18:00</td>\n",
       "    </tr>\n",
       "  </tbody>\n",
       "</table>\n",
       "</div>"
      ],
      "text/plain": [
       "        RECORD_TIME\n",
       "0  2021-10-15 18:30\n",
       "1  2021-10-15 18:00"
      ]
     },
     "execution_count": 3,
     "metadata": {},
     "output_type": "execute_result"
    }
   ],
   "source": [
    "timestamps"
   ]
  },
  {
   "cell_type": "code",
   "execution_count": 4,
   "id": "alternate-victory",
   "metadata": {
    "execution": {
     "iopub.execute_input": "2021-10-15T16:30:08.489281Z",
     "iopub.status.busy": "2021-10-15T16:30:08.487303Z",
     "iopub.status.idle": "2021-10-15T16:30:09.319991Z",
     "shell.execute_reply": "2021-10-15T16:30:09.321376Z"
    },
    "papermill": {
     "duration": 0.862799,
     "end_time": "2021-10-15T16:30:09.321799",
     "exception": false,
     "start_time": "2021-10-15T16:30:08.459000",
     "status": "completed"
    },
    "tags": []
   },
   "outputs": [],
   "source": [
    "df = pd.read_sql(\"select * from EBAY_TOP_BERLIN where record_time in (select distinct record_time from EBAY_TOP_BERLIN order by record_time desc limit 2)\", sqlite3.connect(\"UsedObjects.db\"))"
   ]
  },
  {
   "cell_type": "code",
   "execution_count": 5,
   "id": "popular-active",
   "metadata": {
    "execution": {
     "iopub.execute_input": "2021-10-15T16:30:09.390767Z",
     "iopub.status.busy": "2021-10-15T16:30:09.379775Z",
     "iopub.status.idle": "2021-10-15T16:30:09.407092Z",
     "shell.execute_reply": "2021-10-15T16:30:09.408325Z"
    },
    "papermill": {
     "duration": 0.065926,
     "end_time": "2021-10-15T16:30:09.408909",
     "exception": false,
     "start_time": "2021-10-15T16:30:09.342983",
     "status": "completed"
    },
    "tags": []
   },
   "outputs": [],
   "source": [
    "df_pivot = df.pivot_table(index=\"PRODUCT\", columns = \"RECORD_TIME\", values = \"LISTING_COUNT\")"
   ]
  },
  {
   "cell_type": "code",
   "execution_count": 6,
   "id": "union-huntington",
   "metadata": {
    "execution": {
     "iopub.execute_input": "2021-10-15T16:30:09.468669Z",
     "iopub.status.busy": "2021-10-15T16:30:09.466184Z",
     "iopub.status.idle": "2021-10-15T16:30:09.472072Z",
     "shell.execute_reply": "2021-10-15T16:30:09.473450Z"
    },
    "papermill": {
     "duration": 0.042531,
     "end_time": "2021-10-15T16:30:09.473872",
     "exception": false,
     "start_time": "2021-10-15T16:30:09.431341",
     "status": "completed"
    },
    "tags": []
   },
   "outputs": [],
   "source": [
    "df_pivot.columns = [\"stamp_1\", \"stamp_2\"]\n",
    "df_pivot_diff = df_pivot.diff(axis=1)"
   ]
  },
  {
   "cell_type": "code",
   "execution_count": 7,
   "id": "fifth-motion",
   "metadata": {
    "execution": {
     "iopub.execute_input": "2021-10-15T16:30:09.527967Z",
     "iopub.status.busy": "2021-10-15T16:30:09.525727Z",
     "iopub.status.idle": "2021-10-15T16:30:10.995509Z",
     "shell.execute_reply": "2021-10-15T16:30:10.996899Z"
    },
    "papermill": {
     "duration": 1.502698,
     "end_time": "2021-10-15T16:30:10.997374",
     "exception": false,
     "start_time": "2021-10-15T16:30:09.494676",
     "status": "completed"
    },
    "tags": []
   },
   "outputs": [
    {
     "data": {
      "text/plain": [
       "<AxesSubplot:ylabel='PRODUCT'>"
      ]
     },
     "execution_count": 7,
     "metadata": {},
     "output_type": "execute_result"
    },
    {
     "data": {
      "image/png": "[encoded data removed]",
      "text/plain": [
       "<Figure size 432x288 with 1 Axes>"
      ]
     },
     "metadata": {
      "needs_background": "light"
     },
     "output_type": "display_data"
    }
   ],
   "source": [
    "df_pivot_diff.sort_values(\"stamp_2\", ascending = False)[\"stamp_2\"].head(10).plot.barh()"
   ]
  },
  {
   "cell_type": "code",
   "execution_count": null,
   "id": "extra-executive",
   "metadata": {
    "papermill": {
     "duration": 0.022222,
     "end_time": "2021-10-15T16:30:11.044225",
     "exception": false,
     "start_time": "2021-10-15T16:30:11.022003",
     "status": "completed"
    },
    "tags": []
   },
   "outputs": [],
   "source": []
  }
 ],
 "metadata": {
  "kernelspec": {
   "display_name": "Python 3",
   "language": "python",
   "name": "python3"
  },
  "language_info": {
   "codemirror_mode": {
    "name": "ipython",
    "version": 3
   },
   "file_extension": ".py",
   "mimetype": "text/x-python",
   "name": "python",
   "nbconvert_exporter": "python",
   "pygments_lexer": "ipython3",
   "version": "3.9.5"
  },
  "papermill": {
   "default_parameters": {},
   "duration": 7.826725,
   "end_time": "2021-10-15T16:30:12.286393",
   "environment_variables": {},
   "exception": null,
   "input_path": "eBay_Overview.ipynb",
   "output_path": "eBay_Overview.ipynb",
   "parameters": {},
   "start_time": "2021-10-15T16:30:04.459668",
   "version": "2.3.3"
  }
 },
 "nbformat": 4,
 "nbformat_minor": 5
}