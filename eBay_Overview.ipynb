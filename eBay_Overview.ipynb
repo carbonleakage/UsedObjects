{
 "cells": [
  {
   "cell_type": "code",
   "execution_count": 1,
   "id": "reverse-picking",
   "metadata": {
    "execution": {
     "iopub.execute_input": "2021-11-30T09:30:07.783025Z",
     "iopub.status.busy": "2021-11-30T09:30:07.780414Z",
     "iopub.status.idle": "2021-11-30T09:30:08.728915Z",
     "shell.execute_reply": "2021-11-30T09:30:08.731454Z"
    },
    "papermill": {
     "duration": 1.0031,
     "end_time": "2021-11-30T09:30:08.732216",
     "exception": false,
     "start_time": "2021-11-30T09:30:07.729116",
     "status": "completed"
    },
    "tags": []
   },
   "outputs": [],
   "source": [
    "import pandas as pd\n",
    "import sqlite3"
   ]
  },
  {
   "cell_type": "code",
   "execution_count": 2,
   "id": "innovative-syndrome",
   "metadata": {
    "execution": {
     "iopub.execute_input": "2021-11-30T09:30:08.795049Z",
     "iopub.status.busy": "2021-11-30T09:30:08.792832Z",
     "iopub.status.idle": "2021-11-30T09:30:09.726384Z",
     "shell.execute_reply": "2021-11-30T09:30:09.727928Z"
    },
    "papermill": {
     "duration": 0.967961,
     "end_time": "2021-11-30T09:30:09.728405",
     "exception": false,
     "start_time": "2021-11-30T09:30:08.760444",
     "status": "completed"
    },
    "tags": []
   },
   "outputs": [],
   "source": [
    "timestamps = pd.read_sql(\"select distinct record_time from EBAY_TOP_BERLIN order by record_time desc limit 2\", sqlite3.connect(\"UsedObjects.db\"))"
   ]
  },
  {
   "cell_type": "code",
   "execution_count": 3,
   "id": "periodic-identification",
   "metadata": {
    "execution": {
     "iopub.execute_input": "2021-11-30T09:30:09.802468Z",
     "iopub.status.busy": "2021-11-30T09:30:09.775317Z",
     "iopub.status.idle": "2021-11-30T09:30:09.825118Z",
     "shell.execute_reply": "2021-11-30T09:30:09.822755Z"
    },
    "papermill": {
     "duration": 0.07646,
     "end_time": "2021-11-30T09:30:09.825583",
     "exception": false,
     "start_time": "2021-11-30T09:30:09.749123",
     "status": "completed"
    },
    "tags": []
   },
   "outputs": [
    {
     "data": {
      "text/html": [
       "<div>\n",
       "<style scoped>\n",
       "    .dataframe tbody tr th:only-of-type {\n",
       "        vertical-align: middle;\n",
       "    }\n",
       "\n",
       "    .dataframe tbody tr th {\n",
       "        vertical-align: top;\n",
       "    }\n",
       "\n",
       "    .dataframe thead th {\n",
       "        text-align: right;\n",
       "    }\n",
       "</style>\n",
       "<table border=\"1\" class=\"dataframe\">\n",
       "  <thead>\n",
       "    <tr style=\"text-align: right;\">\n",
       "      <th></th>\n",
       "      <th>RECORD_TIME</th>\n",
       "    </tr>\n",
       "  </thead>\n",
       "  <tbody>\n",
       "    <tr>\n",
       "      <th>0</th>\n",
       "      <td>2021-11-30 10:30</td>\n",
       "    </tr>\n",
       "    <tr>\n",
       "      <th>1</th>\n",
       "      <td>2021-11-30 10:00</td>\n",
       "    </tr>\n",
       "  </tbody>\n",
       "</table>\n",
       "</div>"
      ],
      "text/plain": [
       "        RECORD_TIME\n",
       "0  2021-11-30 10:30\n",
       "1  2021-11-30 10:00"
      ]
     },
     "execution_count": 3,
     "metadata": {},
     "output_type": "execute_result"
    }
   ],
   "source": [
    "timestamps"
   ]
  },
  {
   "cell_type": "code",
   "execution_count": 4,
   "id": "alternate-victory",
   "metadata": {
    "execution": {
     "iopub.execute_input": "2021-11-30T09:30:09.881017Z",
     "iopub.status.busy": "2021-11-30T09:30:09.879084Z",
     "iopub.status.idle": "2021-11-30T09:30:11.281212Z",
     "shell.execute_reply": "2021-11-30T09:30:11.283030Z"
    },
    "papermill": {
     "duration": 1.4333,
     "end_time": "2021-11-30T09:30:11.283492",
     "exception": false,
     "start_time": "2021-11-30T09:30:09.850192",
     "status": "completed"
    },
    "tags": []
   },
   "outputs": [],
   "source": [
    "df = pd.read_sql(\"select * from EBAY_TOP_BERLIN where record_time in (select distinct record_time from EBAY_TOP_BERLIN order by record_time desc limit 2)\", sqlite3.connect(\"UsedObjects.db\"))"
   ]
  },
  {
   "cell_type": "code",
   "execution_count": 5,
   "id": "popular-active",
   "metadata": {
    "execution": {
     "iopub.execute_input": "2021-11-30T09:30:11.358198Z",
     "iopub.status.busy": "2021-11-30T09:30:11.345926Z",
     "iopub.status.idle": "2021-11-30T09:30:11.379479Z",
     "shell.execute_reply": "2021-11-30T09:30:11.381075Z"
    },
    "papermill": {
     "duration": 0.077141,
     "end_time": "2021-11-30T09:30:11.381622",
     "exception": false,
     "start_time": "2021-11-30T09:30:11.304481",
     "status": "completed"
    },
    "tags": []
   },
   "outputs": [],
   "source": [
    "df_pivot = df.pivot_table(index=\"PRODUCT\", columns = \"RECORD_TIME\", values = \"LISTING_COUNT\")"
   ]
  },
  {
   "cell_type": "code",
   "execution_count": 6,
   "id": "union-huntington",
   "metadata": {
    "execution": {
     "iopub.execute_input": "2021-11-30T09:30:11.447063Z",
     "iopub.status.busy": "2021-11-30T09:30:11.444290Z",
     "iopub.status.idle": "2021-11-30T09:30:11.455020Z",
     "shell.execute_reply": "2021-11-30T09:30:11.457852Z"
    },
    "papermill": {
     "duration": 0.053559,
     "end_time": "2021-11-30T09:30:11.458483",
     "exception": false,
     "start_time": "2021-11-30T09:30:11.404924",
     "status": "completed"
    },
    "tags": []
   },
   "outputs": [],
   "source": [
    "df_pivot.columns = [\"stamp_1\", \"stamp_2\"]\n",
    "df_pivot_diff = df_pivot.diff(axis=1)"
   ]
  },
  {
   "cell_type": "code",
   "execution_count": 7,
   "id": "fifth-motion",
   "metadata": {
    "execution": {
     "iopub.execute_input": "2021-11-30T09:30:11.519370Z",
     "iopub.status.busy": "2021-11-30T09:30:11.516851Z",
     "iopub.status.idle": "2021-11-30T09:30:13.500134Z",
     "shell.execute_reply": "2021-11-30T09:30:13.497594Z"
    },
    "papermill": {
     "duration": 2.019824,
     "end_time": "2021-11-30T09:30:13.500779",
     "exception": false,
     "start_time": "2021-11-30T09:30:11.480955",
     "status": "completed"
    },
    "tags": []
   },
   "outputs": [
    {
     "data": {
      "text/plain": [
       "<AxesSubplot:ylabel='PRODUCT'>"
      ]
     },
     "execution_count": 7,
     "metadata": {},
     "output_type": "execute_result"
    },
    {
     "data": {
      "image/png": "[encoded data removed]",
      "text/plain": [
       "<Figure size 432x288 with 1 Axes>"
      ]
     },
     "metadata": {
      "needs_background": "light"
     },
     "output_type": "display_data"
    }
   ],
   "source": [
    "df_pivot_diff.sort_values(\"stamp_2\", ascending = False)[\"stamp_2\"].head(10).plot.barh()"
   ]
  },
  {
   "cell_type": "code",
   "execution_count": null,
   "id": "extra-executive",
   "metadata": {
    "papermill": {
     "duration": 0.035568,
     "end_time": "2021-11-30T09:30:13.571346",
     "exception": false,
     "start_time": "2021-11-30T09:30:13.535778",
     "status": "completed"
    },
    "tags": []
   },
   "outputs": [],
   "source": []
  }
 ],
 "metadata": {
  "kernelspec": {
   "display_name": "Python 3",
   "language": "python",
   "name": "python3"
  },
  "language_info": {
   "codemirror_mode": {
    "name": "ipython",
    "version": 3
   },
   "file_extension": ".py",
   "mimetype": "text/x-python",
   "name": "python",
   "nbconvert_exporter": "python",
   "pygments_lexer": "ipython3",
   "version": "3.9.5"
  },
  "papermill": {
   "default_parameters": {},
   "duration": 9.94079,
   "end_time": "2021-11-30T09:30:14.955077",
   "environment_variables": {},
   "exception": null,
   "input_path": "eBay_Overview.ipynb",
   "output_path": "eBay_Overview.ipynb",
   "parameters": {},
   "start_time": "2021-11-30T09:30:05.014287",
   "version": "2.3.3"
  }
 },
 "nbformat": 4,
 "nbformat_minor": 5
}