{
 "cells": [
  {
   "cell_type": "code",
   "execution_count": 1,
   "id": "reverse-picking",
   "metadata": {
    "execution": {
     "iopub.execute_input": "2021-08-12T14:00:03.924124Z",
     "iopub.status.busy": "2021-08-12T14:00:03.923226Z",
     "iopub.status.idle": "2021-08-12T14:00:04.654073Z",
     "shell.execute_reply": "2021-08-12T14:00:04.653246Z"
    },
    "papermill": {
     "duration": 0.755478,
     "end_time": "2021-08-12T14:00:04.654292",
     "exception": false,
     "start_time": "2021-08-12T14:00:03.898814",
     "status": "completed"
    },
    "tags": []
   },
   "outputs": [],
   "source": [
    "import pandas as pd\n",
    "import sqlite3"
   ]
  },
  {
   "cell_type": "code",
   "execution_count": 2,
   "id": "innovative-syndrome",
   "metadata": {
    "execution": {
     "iopub.execute_input": "2021-08-12T14:00:04.676214Z",
     "iopub.status.busy": "2021-08-12T14:00:04.675444Z",
     "iopub.status.idle": "2021-08-12T14:00:04.902535Z",
     "shell.execute_reply": "2021-08-12T14:00:04.901451Z"
    },
    "papermill": {
     "duration": 0.239513,
     "end_time": "2021-08-12T14:00:04.902813",
     "exception": false,
     "start_time": "2021-08-12T14:00:04.663300",
     "status": "completed"
    },
    "tags": []
   },
   "outputs": [],
   "source": [
    "timestamps = pd.read_sql(\"select distinct record_time from EBAY_TOP_BERLIN order by record_time desc limit 2\", sqlite3.connect(\"UsedObjects.db\"))"
   ]
  },
  {
   "cell_type": "code",
   "execution_count": 3,
   "id": "periodic-identification",
   "metadata": {
    "execution": {
     "iopub.execute_input": "2021-08-12T14:00:04.943067Z",
     "iopub.status.busy": "2021-08-12T14:00:04.942112Z",
     "iopub.status.idle": "2021-08-12T14:00:04.956320Z",
     "shell.execute_reply": "2021-08-12T14:00:04.956857Z"
    },
    "papermill": {
     "duration": 0.044165,
     "end_time": "2021-08-12T14:00:04.957039",
     "exception": false,
     "start_time": "2021-08-12T14:00:04.912874",
     "status": "completed"
    },
    "tags": []
   },
   "outputs": [
    {
     "data": {
      "text/html": [
       "<div>\n",
       "<style scoped>\n",
       "    .dataframe tbody tr th:only-of-type {\n",
       "        vertical-align: middle;\n",
       "    }\n",
       "\n",
       "    .dataframe tbody tr th {\n",
       "        vertical-align: top;\n",
       "    }\n",
       "\n",
       "    .dataframe thead th {\n",
       "        text-align: right;\n",
       "    }\n",
       "</style>\n",
       "<table border=\"1\" class=\"dataframe\">\n",
       "  <thead>\n",
       "    <tr style=\"text-align: right;\">\n",
       "      <th></th>\n",
       "      <th>RECORD_TIME</th>\n",
       "    </tr>\n",
       "  </thead>\n",
       "  <tbody>\n",
       "    <tr>\n",
       "      <th>0</th>\n",
       "      <td>2021-08-12 16:00</td>\n",
       "    </tr>\n",
       "    <tr>\n",
       "      <th>1</th>\n",
       "      <td>2021-08-12 15:30</td>\n",
       "    </tr>\n",
       "  </tbody>\n",
       "</table>\n",
       "</div>"
      ],
      "text/plain": [
       "        RECORD_TIME\n",
       "0  2021-08-12 16:00\n",
       "1  2021-08-12 15:30"
      ]
     },
     "execution_count": 3,
     "metadata": {},
     "output_type": "execute_result"
    }
   ],
   "source": [
    "timestamps"
   ]
  },
  {
   "cell_type": "code",
   "execution_count": 4,
   "id": "alternate-victory",
   "metadata": {
    "execution": {
     "iopub.execute_input": "2021-08-12T14:00:04.991016Z",
     "iopub.status.busy": "2021-08-12T14:00:04.987832Z",
     "iopub.status.idle": "2021-08-12T14:00:05.016270Z",
     "shell.execute_reply": "2021-08-12T14:00:05.016804Z"
    },
    "papermill": {
     "duration": 0.050962,
     "end_time": "2021-08-12T14:00:05.016987",
     "exception": false,
     "start_time": "2021-08-12T14:00:04.966025",
     "status": "completed"
    },
    "tags": []
   },
   "outputs": [],
   "source": [
    "df = pd.read_sql(\"select * from EBAY_TOP_BERLIN where record_time in (select distinct record_time from EBAY_TOP_BERLIN order by record_time desc limit 2)\", sqlite3.connect(\"UsedObjects.db\"))"
   ]
  },
  {
   "cell_type": "code",
   "execution_count": 5,
   "id": "popular-active",
   "metadata": {
    "execution": {
     "iopub.execute_input": "2021-08-12T14:00:05.044877Z",
     "iopub.status.busy": "2021-08-12T14:00:05.043333Z",
     "iopub.status.idle": "2021-08-12T14:00:05.061529Z",
     "shell.execute_reply": "2021-08-12T14:00:05.060914Z"
    },
    "papermill": {
     "duration": 0.035454,
     "end_time": "2021-08-12T14:00:05.061692",
     "exception": false,
     "start_time": "2021-08-12T14:00:05.026238",
     "status": "completed"
    },
    "tags": []
   },
   "outputs": [],
   "source": [
    "df_pivot = df.pivot_table(index=\"PRODUCT\", columns = \"RECORD_TIME\", values = \"LISTING_COUNT\")"
   ]
  },
  {
   "cell_type": "code",
   "execution_count": 6,
   "id": "union-huntington",
   "metadata": {
    "execution": {
     "iopub.execute_input": "2021-08-12T14:00:05.087287Z",
     "iopub.status.busy": "2021-08-12T14:00:05.086153Z",
     "iopub.status.idle": "2021-08-12T14:00:05.091430Z",
     "shell.execute_reply": "2021-08-12T14:00:05.092291Z"
    },
    "papermill": {
     "duration": 0.022472,
     "end_time": "2021-08-12T14:00:05.092522",
     "exception": false,
     "start_time": "2021-08-12T14:00:05.070050",
     "status": "completed"
    },
    "tags": []
   },
   "outputs": [],
   "source": [
    "df_pivot.columns = [\"stamp_1\", \"stamp_2\"]\n",
    "df_pivot_diff = df_pivot.diff(axis=1)"
   ]
  },
  {
   "cell_type": "code",
   "execution_count": 7,
   "id": "fifth-motion",
   "metadata": {
    "execution": {
     "iopub.execute_input": "2021-08-12T14:00:05.118070Z",
     "iopub.status.busy": "2021-08-12T14:00:05.117311Z",
     "iopub.status.idle": "2021-08-12T14:00:05.773797Z",
     "shell.execute_reply": "2021-08-12T14:00:05.772941Z"
    },
    "papermill": {
     "duration": 0.671359,
     "end_time": "2021-08-12T14:00:05.774015",
     "exception": false,
     "start_time": "2021-08-12T14:00:05.102656",
     "status": "completed"
    },
    "tags": []
   },
   "outputs": [
    {
     "data": {
      "text/plain": [
       "<AxesSubplot:ylabel='PRODUCT'>"
      ]
     },
     "execution_count": 7,
     "metadata": {},
     "output_type": "execute_result"
    },
    {
     "data": {
      "image/png": "[encoded data removed]",
      "text/plain": [
       "<Figure size 432x288 with 1 Axes>"
      ]
     },
     "metadata": {
      "needs_background": "light"
     },
     "output_type": "display_data"
    }
   ],
   "source": [
    "df_pivot_diff.sort_values(\"stamp_2\", ascending = False)[\"stamp_2\"].head(10).plot.barh()"
   ]
  },
  {
   "cell_type": "code",
   "execution_count": null,
   "id": "extra-executive",
   "metadata": {
    "papermill": {
     "duration": 0.009914,
     "end_time": "2021-08-12T14:00:05.794592",
     "exception": false,
     "start_time": "2021-08-12T14:00:05.784678",
     "status": "completed"
    },
    "tags": []
   },
   "outputs": [],
   "source": []
  }
 ],
 "metadata": {
  "kernelspec": {
   "display_name": "Python 3",
   "language": "python",
   "name": "python3"
  },
  "language_info": {
   "codemirror_mode": {
    "name": "ipython",
    "version": 3
   },
   "file_extension": ".py",
   "mimetype": "text/x-python",
   "name": "python",
   "nbconvert_exporter": "python",
   "pygments_lexer": "ipython3",
   "version": "3.8.8"
  },
  "papermill": {
   "default_parameters": {},
   "duration": 5.137312,
   "end_time": "2021-08-12T14:00:07.336470",
   "environment_variables": {},
   "exception": null,
   "input_path": "/Users/saravananshanmugam/Carbonleakage_Git/UsedObjects/eBay_Overview.ipynb",
   "output_path": "/Users/saravananshanmugam/Carbonleakage_Git/UsedObjects/eBay_Overview.ipynb",
   "parameters": {},
   "start_time": "2021-08-12T14:00:02.199158",
   "version": "2.3.3"
  }
 },
 "nbformat": 4,
 "nbformat_minor": 5
}