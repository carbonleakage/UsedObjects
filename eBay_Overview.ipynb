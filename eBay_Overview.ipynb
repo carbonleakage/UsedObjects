{
 "cells": [
  {
   "cell_type": "code",
   "execution_count": 1,
   "id": "reverse-picking",
   "metadata": {
    "execution": {
     "iopub.execute_input": "2021-11-08T11:30:07.903803Z",
     "iopub.status.busy": "2021-11-08T11:30:07.901549Z",
     "iopub.status.idle": "2021-11-08T11:30:08.855093Z",
     "shell.execute_reply": "2021-11-08T11:30:08.856563Z"
    },
    "papermill": {
     "duration": 1.004138,
     "end_time": "2021-11-08T11:30:08.857405",
     "exception": false,
     "start_time": "2021-11-08T11:30:07.853267",
     "status": "completed"
    },
    "tags": []
   },
   "outputs": [],
   "source": [
    "import pandas as pd\n",
    "import sqlite3"
   ]
  },
  {
   "cell_type": "code",
   "execution_count": 2,
   "id": "innovative-syndrome",
   "metadata": {
    "execution": {
     "iopub.execute_input": "2021-11-08T11:30:08.920373Z",
     "iopub.status.busy": "2021-11-08T11:30:08.917868Z",
     "iopub.status.idle": "2021-11-08T11:30:09.697744Z",
     "shell.execute_reply": "2021-11-08T11:30:09.700834Z"
    },
    "papermill": {
     "duration": 0.816984,
     "end_time": "2021-11-08T11:30:09.701625",
     "exception": false,
     "start_time": "2021-11-08T11:30:08.884641",
     "status": "completed"
    },
    "tags": []
   },
   "outputs": [],
   "source": [
    "timestamps = pd.read_sql(\"select distinct record_time from EBAY_TOP_BERLIN order by record_time desc limit 2\", sqlite3.connect(\"UsedObjects.db\"))"
   ]
  },
  {
   "cell_type": "code",
   "execution_count": 3,
   "id": "periodic-identification",
   "metadata": {
    "execution": {
     "iopub.execute_input": "2021-11-08T11:30:09.782216Z",
     "iopub.status.busy": "2021-11-08T11:30:09.776032Z",
     "iopub.status.idle": "2021-11-08T11:30:09.801363Z",
     "shell.execute_reply": "2021-11-08T11:30:09.799030Z"
    },
    "papermill": {
     "duration": 0.074535,
     "end_time": "2021-11-08T11:30:09.801792",
     "exception": false,
     "start_time": "2021-11-08T11:30:09.727257",
     "status": "completed"
    },
    "tags": []
   },
   "outputs": [
    {
     "data": {
      "text/html": [
       "<div>\n",
       "<style scoped>\n",
       "    .dataframe tbody tr th:only-of-type {\n",
       "        vertical-align: middle;\n",
       "    }\n",
       "\n",
       "    .dataframe tbody tr th {\n",
       "        vertical-align: top;\n",
       "    }\n",
       "\n",
       "    .dataframe thead th {\n",
       "        text-align: right;\n",
       "    }\n",
       "</style>\n",
       "<table border=\"1\" class=\"dataframe\">\n",
       "  <thead>\n",
       "    <tr style=\"text-align: right;\">\n",
       "      <th></th>\n",
       "      <th>RECORD_TIME</th>\n",
       "    </tr>\n",
       "  </thead>\n",
       "  <tbody>\n",
       "    <tr>\n",
       "      <th>0</th>\n",
       "      <td>2021-11-08 12:30</td>\n",
       "    </tr>\n",
       "    <tr>\n",
       "      <th>1</th>\n",
       "      <td>2021-11-08 12:00</td>\n",
       "    </tr>\n",
       "  </tbody>\n",
       "</table>\n",
       "</div>"
      ],
      "text/plain": [
       "        RECORD_TIME\n",
       "0  2021-11-08 12:30\n",
       "1  2021-11-08 12:00"
      ]
     },
     "execution_count": 3,
     "metadata": {},
     "output_type": "execute_result"
    }
   ],
   "source": [
    "timestamps"
   ]
  },
  {
   "cell_type": "code",
   "execution_count": 4,
   "id": "alternate-victory",
   "metadata": {
    "execution": {
     "iopub.execute_input": "2021-11-08T11:30:09.858335Z",
     "iopub.status.busy": "2021-11-08T11:30:09.855966Z",
     "iopub.status.idle": "2021-11-08T11:30:10.949339Z",
     "shell.execute_reply": "2021-11-08T11:30:10.950997Z"
    },
    "papermill": {
     "duration": 1.128022,
     "end_time": "2021-11-08T11:30:10.951411",
     "exception": false,
     "start_time": "2021-11-08T11:30:09.823389",
     "status": "completed"
    },
    "tags": []
   },
   "outputs": [],
   "source": [
    "df = pd.read_sql(\"select * from EBAY_TOP_BERLIN where record_time in (select distinct record_time from EBAY_TOP_BERLIN order by record_time desc limit 2)\", sqlite3.connect(\"UsedObjects.db\"))"
   ]
  },
  {
   "cell_type": "code",
   "execution_count": 5,
   "id": "popular-active",
   "metadata": {
    "execution": {
     "iopub.execute_input": "2021-11-08T11:30:11.041312Z",
     "iopub.status.busy": "2021-11-08T11:30:11.026692Z",
     "iopub.status.idle": "2021-11-08T11:30:11.060763Z",
     "shell.execute_reply": "2021-11-08T11:30:11.062443Z"
    },
    "papermill": {
     "duration": 0.078577,
     "end_time": "2021-11-08T11:30:11.062931",
     "exception": false,
     "start_time": "2021-11-08T11:30:10.984354",
     "status": "completed"
    },
    "tags": []
   },
   "outputs": [],
   "source": [
    "df_pivot = df.pivot_table(index=\"PRODUCT\", columns = \"RECORD_TIME\", values = \"LISTING_COUNT\")"
   ]
  },
  {
   "cell_type": "code",
   "execution_count": 6,
   "id": "union-huntington",
   "metadata": {
    "execution": {
     "iopub.execute_input": "2021-11-08T11:30:11.125380Z",
     "iopub.status.busy": "2021-11-08T11:30:11.122992Z",
     "iopub.status.idle": "2021-11-08T11:30:11.130681Z",
     "shell.execute_reply": "2021-11-08T11:30:11.129087Z"
    },
    "papermill": {
     "duration": 0.046503,
     "end_time": "2021-11-08T11:30:11.131115",
     "exception": false,
     "start_time": "2021-11-08T11:30:11.084612",
     "status": "completed"
    },
    "tags": []
   },
   "outputs": [],
   "source": [
    "df_pivot.columns = [\"stamp_1\", \"stamp_2\"]\n",
    "df_pivot_diff = df_pivot.diff(axis=1)"
   ]
  },
  {
   "cell_type": "code",
   "execution_count": 7,
   "id": "fifth-motion",
   "metadata": {
    "execution": {
     "iopub.execute_input": "2021-11-08T11:30:11.190920Z",
     "iopub.status.busy": "2021-11-08T11:30:11.188309Z",
     "iopub.status.idle": "2021-11-08T11:30:12.939624Z",
     "shell.execute_reply": "2021-11-08T11:30:12.941043Z"
    },
    "papermill": {
     "duration": 1.787586,
     "end_time": "2021-11-08T11:30:12.941529",
     "exception": false,
     "start_time": "2021-11-08T11:30:11.153943",
     "status": "completed"
    },
    "tags": []
   },
   "outputs": [
    {
     "data": {
      "text/plain": [
       "<AxesSubplot:ylabel='PRODUCT'>"
      ]
     },
     "execution_count": 7,
     "metadata": {},
     "output_type": "execute_result"
    },
    {
     "data": {
      "image/png": "[encoded data removed]",
      "text/plain": [
       "<Figure size 432x288 with 1 Axes>"
      ]
     },
     "metadata": {
      "needs_background": "light"
     },
     "output_type": "display_data"
    }
   ],
   "source": [
    "df_pivot_diff.sort_values(\"stamp_2\", ascending = False)[\"stamp_2\"].head(10).plot.barh()"
   ]
  },
  {
   "cell_type": "code",
   "execution_count": null,
   "id": "extra-executive",
   "metadata": {
    "papermill": {
     "duration": 0.024932,
     "end_time": "2021-11-08T11:30:12.990539",
     "exception": false,
     "start_time": "2021-11-08T11:30:12.965607",
     "status": "completed"
    },
    "tags": []
   },
   "outputs": [],
   "source": []
  }
 ],
 "metadata": {
  "kernelspec": {
   "display_name": "Python 3",
   "language": "python",
   "name": "python3"
  },
  "language_info": {
   "codemirror_mode": {
    "name": "ipython",
    "version": 3
   },
   "file_extension": ".py",
   "mimetype": "text/x-python",
   "name": "python",
   "nbconvert_exporter": "python",
   "pygments_lexer": "ipython3",
   "version": "3.9.5"
  },
  "papermill": {
   "default_parameters": {},
   "duration": 8.813685,
   "end_time": "2021-11-08T11:30:13.840587",
   "environment_variables": {},
   "exception": null,
   "input_path": "eBay_Overview.ipynb",
   "output_path": "eBay_Overview.ipynb",
   "parameters": {},
   "start_time": "2021-11-08T11:30:05.026902",
   "version": "2.3.3"
  }
 },
 "nbformat": 4,
 "nbformat_minor": 5
}