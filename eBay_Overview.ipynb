{
 "cells": [
  {
   "cell_type": "code",
   "execution_count": 1,
   "id": "reverse-picking",
   "metadata": {
    "execution": {
     "iopub.execute_input": "2021-10-17T17:00:07.061414Z",
     "iopub.status.busy": "2021-10-17T17:00:07.059348Z",
     "iopub.status.idle": "2021-10-17T17:00:07.866269Z",
     "shell.execute_reply": "2021-10-17T17:00:07.867555Z"
    },
    "papermill": {
     "duration": 0.858239,
     "end_time": "2021-10-17T17:00:07.868180",
     "exception": false,
     "start_time": "2021-10-17T17:00:07.009941",
     "status": "completed"
    },
    "tags": []
   },
   "outputs": [],
   "source": [
    "import pandas as pd\n",
    "import sqlite3"
   ]
  },
  {
   "cell_type": "code",
   "execution_count": 2,
   "id": "innovative-syndrome",
   "metadata": {
    "execution": {
     "iopub.execute_input": "2021-10-17T17:00:07.917713Z",
     "iopub.status.busy": "2021-10-17T17:00:07.915756Z",
     "iopub.status.idle": "2021-10-17T17:00:08.469782Z",
     "shell.execute_reply": "2021-10-17T17:00:08.471207Z"
    },
    "papermill": {
     "duration": 0.583692,
     "end_time": "2021-10-17T17:00:08.471654",
     "exception": false,
     "start_time": "2021-10-17T17:00:07.887962",
     "status": "completed"
    },
    "tags": []
   },
   "outputs": [],
   "source": [
    "timestamps = pd.read_sql(\"select distinct record_time from EBAY_TOP_BERLIN order by record_time desc limit 2\", sqlite3.connect(\"UsedObjects.db\"))"
   ]
  },
  {
   "cell_type": "code",
   "execution_count": 3,
   "id": "periodic-identification",
   "metadata": {
    "execution": {
     "iopub.execute_input": "2021-10-17T17:00:08.546211Z",
     "iopub.status.busy": "2021-10-17T17:00:08.544077Z",
     "iopub.status.idle": "2021-10-17T17:00:08.564303Z",
     "shell.execute_reply": "2021-10-17T17:00:08.565907Z"
    },
    "papermill": {
     "duration": 0.069344,
     "end_time": "2021-10-17T17:00:08.566387",
     "exception": false,
     "start_time": "2021-10-17T17:00:08.497043",
     "status": "completed"
    },
    "tags": []
   },
   "outputs": [
    {
     "data": {
      "text/html": [
       "<div>\n",
       "<style scoped>\n",
       "    .dataframe tbody tr th:only-of-type {\n",
       "        vertical-align: middle;\n",
       "    }\n",
       "\n",
       "    .dataframe tbody tr th {\n",
       "        vertical-align: top;\n",
       "    }\n",
       "\n",
       "    .dataframe thead th {\n",
       "        text-align: right;\n",
       "    }\n",
       "</style>\n",
       "<table border=\"1\" class=\"dataframe\">\n",
       "  <thead>\n",
       "    <tr style=\"text-align: right;\">\n",
       "      <th></th>\n",
       "      <th>RECORD_TIME</th>\n",
       "    </tr>\n",
       "  </thead>\n",
       "  <tbody>\n",
       "    <tr>\n",
       "      <th>0</th>\n",
       "      <td>2021-10-17 19:00</td>\n",
       "    </tr>\n",
       "    <tr>\n",
       "      <th>1</th>\n",
       "      <td>2021-10-17 18:30</td>\n",
       "    </tr>\n",
       "  </tbody>\n",
       "</table>\n",
       "</div>"
      ],
      "text/plain": [
       "        RECORD_TIME\n",
       "0  2021-10-17 19:00\n",
       "1  2021-10-17 18:30"
      ]
     },
     "execution_count": 3,
     "metadata": {},
     "output_type": "execute_result"
    }
   ],
   "source": [
    "timestamps"
   ]
  },
  {
   "cell_type": "code",
   "execution_count": 4,
   "id": "alternate-victory",
   "metadata": {
    "execution": {
     "iopub.execute_input": "2021-10-17T17:00:08.617451Z",
     "iopub.status.busy": "2021-10-17T17:00:08.615477Z",
     "iopub.status.idle": "2021-10-17T17:00:09.434462Z",
     "shell.execute_reply": "2021-10-17T17:00:09.435743Z"
    },
    "papermill": {
     "duration": 0.848676,
     "end_time": "2021-10-17T17:00:09.436163",
     "exception": false,
     "start_time": "2021-10-17T17:00:08.587487",
     "status": "completed"
    },
    "tags": []
   },
   "outputs": [],
   "source": [
    "df = pd.read_sql(\"select * from EBAY_TOP_BERLIN where record_time in (select distinct record_time from EBAY_TOP_BERLIN order by record_time desc limit 2)\", sqlite3.connect(\"UsedObjects.db\"))"
   ]
  },
  {
   "cell_type": "code",
   "execution_count": 5,
   "id": "popular-active",
   "metadata": {
    "execution": {
     "iopub.execute_input": "2021-10-17T17:00:09.505726Z",
     "iopub.status.busy": "2021-10-17T17:00:09.494300Z",
     "iopub.status.idle": "2021-10-17T17:00:09.522415Z",
     "shell.execute_reply": "2021-10-17T17:00:09.523695Z"
    },
    "papermill": {
     "duration": 0.067122,
     "end_time": "2021-10-17T17:00:09.524115",
     "exception": false,
     "start_time": "2021-10-17T17:00:09.456993",
     "status": "completed"
    },
    "tags": []
   },
   "outputs": [],
   "source": [
    "df_pivot = df.pivot_table(index=\"PRODUCT\", columns = \"RECORD_TIME\", values = \"LISTING_COUNT\")"
   ]
  },
  {
   "cell_type": "code",
   "execution_count": 6,
   "id": "union-huntington",
   "metadata": {
    "execution": {
     "iopub.execute_input": "2021-10-17T17:00:09.580949Z",
     "iopub.status.busy": "2021-10-17T17:00:09.578582Z",
     "iopub.status.idle": "2021-10-17T17:00:09.584324Z",
     "shell.execute_reply": "2021-10-17T17:00:09.585613Z"
    },
    "papermill": {
     "duration": 0.041877,
     "end_time": "2021-10-17T17:00:09.586059",
     "exception": false,
     "start_time": "2021-10-17T17:00:09.544182",
     "status": "completed"
    },
    "tags": []
   },
   "outputs": [],
   "source": [
    "df_pivot.columns = [\"stamp_1\", \"stamp_2\"]\n",
    "df_pivot_diff = df_pivot.diff(axis=1)"
   ]
  },
  {
   "cell_type": "code",
   "execution_count": 7,
   "id": "fifth-motion",
   "metadata": {
    "execution": {
     "iopub.execute_input": "2021-10-17T17:00:09.639852Z",
     "iopub.status.busy": "2021-10-17T17:00:09.637542Z",
     "iopub.status.idle": "2021-10-17T17:00:11.119575Z",
     "shell.execute_reply": "2021-10-17T17:00:11.120981Z"
    },
    "papermill": {
     "duration": 1.514841,
     "end_time": "2021-10-17T17:00:11.121434",
     "exception": false,
     "start_time": "2021-10-17T17:00:09.606593",
     "status": "completed"
    },
    "tags": []
   },
   "outputs": [
    {
     "data": {
      "text/plain": [
       "<AxesSubplot:ylabel='PRODUCT'>"
      ]
     },
     "execution_count": 7,
     "metadata": {},
     "output_type": "execute_result"
    },
    {
     "data": {
      "image/png": "[encoded data removed]",
      "text/plain": [
       "<Figure size 432x288 with 1 Axes>"
      ]
     },
     "metadata": {
      "needs_background": "light"
     },
     "output_type": "display_data"
    }
   ],
   "source": [
    "df_pivot_diff.sort_values(\"stamp_2\", ascending = False)[\"stamp_2\"].head(10).plot.barh()"
   ]
  },
  {
   "cell_type": "code",
   "execution_count": null,
   "id": "extra-executive",
   "metadata": {
    "papermill": {
     "duration": 0.022049,
     "end_time": "2021-10-17T17:00:11.168529",
     "exception": false,
     "start_time": "2021-10-17T17:00:11.146480",
     "status": "completed"
    },
    "tags": []
   },
   "outputs": [],
   "source": []
  }
 ],
 "metadata": {
  "kernelspec": {
   "display_name": "Python 3",
   "language": "python",
   "name": "python3"
  },
  "language_info": {
   "codemirror_mode": {
    "name": "ipython",
    "version": 3
   },
   "file_extension": ".py",
   "mimetype": "text/x-python",
   "name": "python",
   "nbconvert_exporter": "python",
   "pygments_lexer": "ipython3",
   "version": "3.9.5"
  },
  "papermill": {
   "default_parameters": {},
   "duration": 7.819996,
   "end_time": "2021-10-17T17:00:12.424154",
   "environment_variables": {},
   "exception": null,
   "input_path": "eBay_Overview.ipynb",
   "output_path": "eBay_Overview.ipynb",
   "parameters": {},
   "start_time": "2021-10-17T17:00:04.604158",
   "version": "2.3.3"
  }
 },
 "nbformat": 4,
 "nbformat_minor": 5
}