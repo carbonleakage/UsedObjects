{
 "cells": [
  {
   "cell_type": "code",
   "execution_count": 1,
   "id": "reverse-picking",
   "metadata": {
    "execution": {
     "iopub.execute_input": "2021-12-09T00:30:07.948039Z",
     "iopub.status.busy": "2021-12-09T00:30:07.945592Z",
     "iopub.status.idle": "2021-12-09T00:30:08.906710Z",
     "shell.execute_reply": "2021-12-09T00:30:08.908105Z"
    },
    "papermill": {
     "duration": 1.011239,
     "end_time": "2021-12-09T00:30:08.908859",
     "exception": false,
     "start_time": "2021-12-09T00:30:07.897620",
     "status": "completed"
    },
    "tags": []
   },
   "outputs": [],
   "source": [
    "import pandas as pd\n",
    "import sqlite3"
   ]
  },
  {
   "cell_type": "code",
   "execution_count": 2,
   "id": "innovative-syndrome",
   "metadata": {
    "execution": {
     "iopub.execute_input": "2021-12-09T00:30:09.016106Z",
     "iopub.status.busy": "2021-12-09T00:30:09.014127Z",
     "iopub.status.idle": "2021-12-09T00:30:10.057040Z",
     "shell.execute_reply": "2021-12-09T00:30:10.059411Z"
    },
    "papermill": {
     "duration": 1.120702,
     "end_time": "2021-12-09T00:30:10.059965",
     "exception": false,
     "start_time": "2021-12-09T00:30:08.939263",
     "status": "completed"
    },
    "tags": []
   },
   "outputs": [],
   "source": [
    "timestamps = pd.read_sql(\"select distinct record_time from EBAY_TOP_BERLIN order by record_time desc limit 2\", sqlite3.connect(\"UsedObjects.db\"))"
   ]
  },
  {
   "cell_type": "code",
   "execution_count": 3,
   "id": "periodic-identification",
   "metadata": {
    "execution": {
     "iopub.execute_input": "2021-12-09T00:30:10.133382Z",
     "iopub.status.busy": "2021-12-09T00:30:10.130973Z",
     "iopub.status.idle": "2021-12-09T00:30:10.153862Z",
     "shell.execute_reply": "2021-12-09T00:30:10.155451Z"
    },
    "papermill": {
     "duration": 0.074875,
     "end_time": "2021-12-09T00:30:10.155953",
     "exception": false,
     "start_time": "2021-12-09T00:30:10.081078",
     "status": "completed"
    },
    "tags": []
   },
   "outputs": [
    {
     "data": {
      "text/html": [
       "<div>\n",
       "<style scoped>\n",
       "    .dataframe tbody tr th:only-of-type {\n",
       "        vertical-align: middle;\n",
       "    }\n",
       "\n",
       "    .dataframe tbody tr th {\n",
       "        vertical-align: top;\n",
       "    }\n",
       "\n",
       "    .dataframe thead th {\n",
       "        text-align: right;\n",
       "    }\n",
       "</style>\n",
       "<table border=\"1\" class=\"dataframe\">\n",
       "  <thead>\n",
       "    <tr style=\"text-align: right;\">\n",
       "      <th></th>\n",
       "      <th>RECORD_TIME</th>\n",
       "    </tr>\n",
       "  </thead>\n",
       "  <tbody>\n",
       "    <tr>\n",
       "      <th>0</th>\n",
       "      <td>2021-12-09 01:30</td>\n",
       "    </tr>\n",
       "    <tr>\n",
       "      <th>1</th>\n",
       "      <td>2021-12-09 01:00</td>\n",
       "    </tr>\n",
       "  </tbody>\n",
       "</table>\n",
       "</div>"
      ],
      "text/plain": [
       "        RECORD_TIME\n",
       "0  2021-12-09 01:30\n",
       "1  2021-12-09 01:00"
      ]
     },
     "execution_count": 3,
     "metadata": {},
     "output_type": "execute_result"
    }
   ],
   "source": [
    "timestamps"
   ]
  },
  {
   "cell_type": "code",
   "execution_count": 4,
   "id": "alternate-victory",
   "metadata": {
    "execution": {
     "iopub.execute_input": "2021-12-09T00:30:10.209614Z",
     "iopub.status.busy": "2021-12-09T00:30:10.207619Z",
     "iopub.status.idle": "2021-12-09T00:30:11.727254Z",
     "shell.execute_reply": "2021-12-09T00:30:11.730406Z"
    },
    "papermill": {
     "duration": 1.554065,
     "end_time": "2021-12-09T00:30:11.731465",
     "exception": false,
     "start_time": "2021-12-09T00:30:10.177400",
     "status": "completed"
    },
    "tags": []
   },
   "outputs": [],
   "source": [
    "df = pd.read_sql(\"select * from EBAY_TOP_BERLIN where record_time in (select distinct record_time from EBAY_TOP_BERLIN order by record_time desc limit 2)\", sqlite3.connect(\"UsedObjects.db\"))"
   ]
  },
  {
   "cell_type": "code",
   "execution_count": 5,
   "id": "popular-active",
   "metadata": {
    "execution": {
     "iopub.execute_input": "2021-12-09T00:30:11.833863Z",
     "iopub.status.busy": "2021-12-09T00:30:11.822998Z",
     "iopub.status.idle": "2021-12-09T00:30:11.882925Z",
     "shell.execute_reply": "2021-12-09T00:30:11.885354Z"
    },
    "papermill": {
     "duration": 0.120564,
     "end_time": "2021-12-09T00:30:11.886103",
     "exception": false,
     "start_time": "2021-12-09T00:30:11.765539",
     "status": "completed"
    },
    "tags": []
   },
   "outputs": [],
   "source": [
    "df_pivot = df.pivot_table(index=\"PRODUCT\", columns = \"RECORD_TIME\", values = \"LISTING_COUNT\")"
   ]
  },
  {
   "cell_type": "code",
   "execution_count": 6,
   "id": "union-huntington",
   "metadata": {
    "execution": {
     "iopub.execute_input": "2021-12-09T00:30:11.974374Z",
     "iopub.status.busy": "2021-12-09T00:30:11.971514Z",
     "iopub.status.idle": "2021-12-09T00:30:11.979134Z",
     "shell.execute_reply": "2021-12-09T00:30:11.981104Z"
    },
    "papermill": {
     "duration": 0.065094,
     "end_time": "2021-12-09T00:30:11.981718",
     "exception": false,
     "start_time": "2021-12-09T00:30:11.916624",
     "status": "completed"
    },
    "tags": []
   },
   "outputs": [],
   "source": [
    "df_pivot.columns = [\"stamp_1\", \"stamp_2\"]\n",
    "df_pivot_diff = df_pivot.diff(axis=1)"
   ]
  },
  {
   "cell_type": "code",
   "execution_count": 7,
   "id": "fifth-motion",
   "metadata": {
    "execution": {
     "iopub.execute_input": "2021-12-09T00:30:12.049635Z",
     "iopub.status.busy": "2021-12-09T00:30:12.046626Z",
     "iopub.status.idle": "2021-12-09T00:30:13.739917Z",
     "shell.execute_reply": "2021-12-09T00:30:13.741289Z"
    },
    "papermill": {
     "duration": 1.735708,
     "end_time": "2021-12-09T00:30:13.741718",
     "exception": false,
     "start_time": "2021-12-09T00:30:12.006010",
     "status": "completed"
    },
    "tags": []
   },
   "outputs": [
    {
     "data": {
      "text/plain": [
       "<AxesSubplot:ylabel='PRODUCT'>"
      ]
     },
     "execution_count": 7,
     "metadata": {},
     "output_type": "execute_result"
    },
    {
     "data": {
      "image/png": "[encoded data removed]",
      "text/plain": [
       "<Figure size 432x288 with 1 Axes>"
      ]
     },
     "metadata": {
      "needs_background": "light"
     },
     "output_type": "display_data"
    }
   ],
   "source": [
    "df_pivot_diff.sort_values(\"stamp_2\", ascending = False)[\"stamp_2\"].head(10).plot.barh()"
   ]
  },
  {
   "cell_type": "code",
   "execution_count": null,
   "id": "extra-executive",
   "metadata": {
    "papermill": {
     "duration": 0.022128,
     "end_time": "2021-12-09T00:30:13.787234",
     "exception": false,
     "start_time": "2021-12-09T00:30:13.765106",
     "status": "completed"
    },
    "tags": []
   },
   "outputs": [],
   "source": []
  }
 ],
 "metadata": {
  "kernelspec": {
   "display_name": "Python 3",
   "language": "python",
   "name": "python3"
  },
  "language_info": {
   "codemirror_mode": {
    "name": "ipython",
    "version": 3
   },
   "file_extension": ".py",
   "mimetype": "text/x-python",
   "name": "python",
   "nbconvert_exporter": "python",
   "pygments_lexer": "ipython3",
   "version": "3.9.5"
  },
  "papermill": {
   "default_parameters": {},
   "duration": 9.947894,
   "end_time": "2021-12-09T00:30:15.100767",
   "environment_variables": {},
   "exception": null,
   "input_path": "eBay_Overview.ipynb",
   "output_path": "eBay_Overview.ipynb",
   "parameters": {},
   "start_time": "2021-12-09T00:30:05.152873",
   "version": "2.3.3"
  }
 },
 "nbformat": 4,
 "nbformat_minor": 5
}