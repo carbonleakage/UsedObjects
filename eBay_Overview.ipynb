{
 "cells": [
  {
   "cell_type": "code",
   "execution_count": 1,
   "id": "reverse-picking",
   "metadata": {
    "execution": {
     "iopub.execute_input": "2021-12-20T15:00:08.031970Z",
     "iopub.status.busy": "2021-12-20T15:00:08.029618Z",
     "iopub.status.idle": "2021-12-20T15:00:08.953539Z",
     "shell.execute_reply": "2021-12-20T15:00:08.951622Z"
    },
    "papermill": {
     "duration": 0.974132,
     "end_time": "2021-12-20T15:00:08.954076",
     "exception": false,
     "start_time": "2021-12-20T15:00:07.979944",
     "status": "completed"
    },
    "tags": []
   },
   "outputs": [],
   "source": [
    "import pandas as pd\n",
    "import sqlite3"
   ]
  },
  {
   "cell_type": "code",
   "execution_count": 2,
   "id": "innovative-syndrome",
   "metadata": {
    "execution": {
     "iopub.execute_input": "2021-12-20T15:00:09.071427Z",
     "iopub.status.busy": "2021-12-20T15:00:09.069142Z",
     "iopub.status.idle": "2021-12-20T15:00:10.211763Z",
     "shell.execute_reply": "2021-12-20T15:00:10.213173Z"
    },
    "papermill": {
     "duration": 1.17662,
     "end_time": "2021-12-20T15:00:10.213618",
     "exception": false,
     "start_time": "2021-12-20T15:00:09.036998",
     "status": "completed"
    },
    "tags": []
   },
   "outputs": [],
   "source": [
    "timestamps = pd.read_sql(\"select distinct record_time from EBAY_TOP_BERLIN order by record_time desc limit 2\", sqlite3.connect(\"UsedObjects.db\"))"
   ]
  },
  {
   "cell_type": "code",
   "execution_count": 3,
   "id": "periodic-identification",
   "metadata": {
    "execution": {
     "iopub.execute_input": "2021-12-20T15:00:10.286017Z",
     "iopub.status.busy": "2021-12-20T15:00:10.280154Z",
     "iopub.status.idle": "2021-12-20T15:00:10.302323Z",
     "shell.execute_reply": "2021-12-20T15:00:10.303675Z"
    },
    "papermill": {
     "duration": 0.070765,
     "end_time": "2021-12-20T15:00:10.304153",
     "exception": false,
     "start_time": "2021-12-20T15:00:10.233388",
     "status": "completed"
    },
    "tags": []
   },
   "outputs": [
    {
     "data": {
      "text/html": [
       "<div>\n",
       "<style scoped>\n",
       "    .dataframe tbody tr th:only-of-type {\n",
       "        vertical-align: middle;\n",
       "    }\n",
       "\n",
       "    .dataframe tbody tr th {\n",
       "        vertical-align: top;\n",
       "    }\n",
       "\n",
       "    .dataframe thead th {\n",
       "        text-align: right;\n",
       "    }\n",
       "</style>\n",
       "<table border=\"1\" class=\"dataframe\">\n",
       "  <thead>\n",
       "    <tr style=\"text-align: right;\">\n",
       "      <th></th>\n",
       "      <th>RECORD_TIME</th>\n",
       "    </tr>\n",
       "  </thead>\n",
       "  <tbody>\n",
       "    <tr>\n",
       "      <th>0</th>\n",
       "      <td>2021-12-20 16:00</td>\n",
       "    </tr>\n",
       "    <tr>\n",
       "      <th>1</th>\n",
       "      <td>2021-12-20 15:30</td>\n",
       "    </tr>\n",
       "  </tbody>\n",
       "</table>\n",
       "</div>"
      ],
      "text/plain": [
       "        RECORD_TIME\n",
       "0  2021-12-20 16:00\n",
       "1  2021-12-20 15:30"
      ]
     },
     "execution_count": 3,
     "metadata": {},
     "output_type": "execute_result"
    }
   ],
   "source": [
    "timestamps"
   ]
  },
  {
   "cell_type": "code",
   "execution_count": 4,
   "id": "alternate-victory",
   "metadata": {
    "execution": {
     "iopub.execute_input": "2021-12-20T15:00:10.362542Z",
     "iopub.status.busy": "2021-12-20T15:00:10.359967Z",
     "iopub.status.idle": "2021-12-20T15:00:12.042386Z",
     "shell.execute_reply": "2021-12-20T15:00:12.043862Z"
    },
    "papermill": {
     "duration": 1.71764,
     "end_time": "2021-12-20T15:00:12.044329",
     "exception": false,
     "start_time": "2021-12-20T15:00:10.326689",
     "status": "completed"
    },
    "tags": []
   },
   "outputs": [],
   "source": [
    "df = pd.read_sql(\"select * from EBAY_TOP_BERLIN where record_time in (select distinct record_time from EBAY_TOP_BERLIN order by record_time desc limit 2)\", sqlite3.connect(\"UsedObjects.db\"))"
   ]
  },
  {
   "cell_type": "code",
   "execution_count": 5,
   "id": "popular-active",
   "metadata": {
    "execution": {
     "iopub.execute_input": "2021-12-20T15:00:12.118821Z",
     "iopub.status.busy": "2021-12-20T15:00:12.105248Z",
     "iopub.status.idle": "2021-12-20T15:00:12.136602Z",
     "shell.execute_reply": "2021-12-20T15:00:12.138127Z"
    },
    "papermill": {
     "duration": 0.073716,
     "end_time": "2021-12-20T15:00:12.138594",
     "exception": false,
     "start_time": "2021-12-20T15:00:12.064878",
     "status": "completed"
    },
    "tags": []
   },
   "outputs": [],
   "source": [
    "df_pivot = df.pivot_table(index=\"PRODUCT\", columns = \"RECORD_TIME\", values = \"LISTING_COUNT\")"
   ]
  },
  {
   "cell_type": "code",
   "execution_count": 6,
   "id": "union-huntington",
   "metadata": {
    "execution": {
     "iopub.execute_input": "2021-12-20T15:00:12.199532Z",
     "iopub.status.busy": "2021-12-20T15:00:12.196960Z",
     "iopub.status.idle": "2021-12-20T15:00:12.204410Z",
     "shell.execute_reply": "2021-12-20T15:00:12.206154Z"
    },
    "papermill": {
     "duration": 0.048326,
     "end_time": "2021-12-20T15:00:12.206789",
     "exception": false,
     "start_time": "2021-12-20T15:00:12.158463",
     "status": "completed"
    },
    "tags": []
   },
   "outputs": [],
   "source": [
    "df_pivot.columns = [\"stamp_1\", \"stamp_2\"]\n",
    "df_pivot_diff = df_pivot.diff(axis=1)"
   ]
  },
  {
   "cell_type": "code",
   "execution_count": 7,
   "id": "fifth-motion",
   "metadata": {
    "execution": {
     "iopub.execute_input": "2021-12-20T15:00:12.266406Z",
     "iopub.status.busy": "2021-12-20T15:00:12.263792Z",
     "iopub.status.idle": "2021-12-20T15:00:14.244288Z",
     "shell.execute_reply": "2021-12-20T15:00:14.245972Z"
    },
    "papermill": {
     "duration": 2.016531,
     "end_time": "2021-12-20T15:00:14.246486",
     "exception": false,
     "start_time": "2021-12-20T15:00:12.229955",
     "status": "completed"
    },
    "tags": []
   },
   "outputs": [
    {
     "data": {
      "text/plain": [
       "<AxesSubplot:ylabel='PRODUCT'>"
      ]
     },
     "execution_count": 7,
     "metadata": {},
     "output_type": "execute_result"
    },
    {
     "data": {
      "image/png": "[encoded data removed]",
      "text/plain": [
       "<Figure size 432x288 with 1 Axes>"
      ]
     },
     "metadata": {
      "needs_background": "light"
     },
     "output_type": "display_data"
    }
   ],
   "source": [
    "df_pivot_diff.sort_values(\"stamp_2\", ascending = False)[\"stamp_2\"].head(10).plot.barh()"
   ]
  },
  {
   "cell_type": "code",
   "execution_count": null,
   "id": "extra-executive",
   "metadata": {
    "papermill": {
     "duration": 0.023413,
     "end_time": "2021-12-20T15:00:14.295791",
     "exception": false,
     "start_time": "2021-12-20T15:00:14.272378",
     "status": "completed"
    },
    "tags": []
   },
   "outputs": [],
   "source": []
  }
 ],
 "metadata": {
  "kernelspec": {
   "display_name": "Python 3",
   "language": "python",
   "name": "python3"
  },
  "language_info": {
   "codemirror_mode": {
    "name": "ipython",
    "version": 3
   },
   "file_extension": ".py",
   "mimetype": "text/x-python",
   "name": "python",
   "nbconvert_exporter": "python",
   "pygments_lexer": "ipython3",
   "version": "3.9.5"
  },
  "papermill": {
   "default_parameters": {},
   "duration": 9.715533,
   "end_time": "2021-12-20T15:00:14.958356",
   "environment_variables": {},
   "exception": null,
   "input_path": "eBay_Overview.ipynb",
   "output_path": "eBay_Overview.ipynb",
   "parameters": {},
   "start_time": "2021-12-20T15:00:05.242823",
   "version": "2.3.3"
  }
 },
 "nbformat": 4,
 "nbformat_minor": 5
}