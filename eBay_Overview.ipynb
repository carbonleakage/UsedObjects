{
 "cells": [
  {
   "cell_type": "code",
   "execution_count": 1,
   "id": "reverse-picking",
   "metadata": {
    "execution": {
     "iopub.execute_input": "2021-10-22T16:30:06.955353Z",
     "iopub.status.busy": "2021-10-22T16:30:06.953423Z",
     "iopub.status.idle": "2021-10-22T16:30:07.756654Z",
     "shell.execute_reply": "2021-10-22T16:30:07.758069Z"
    },
    "papermill": {
     "duration": 0.855535,
     "end_time": "2021-10-22T16:30:07.758721",
     "exception": false,
     "start_time": "2021-10-22T16:30:06.903186",
     "status": "completed"
    },
    "tags": []
   },
   "outputs": [],
   "source": [
    "import pandas as pd\n",
    "import sqlite3"
   ]
  },
  {
   "cell_type": "code",
   "execution_count": 2,
   "id": "innovative-syndrome",
   "metadata": {
    "execution": {
     "iopub.execute_input": "2021-10-22T16:30:07.809958Z",
     "iopub.status.busy": "2021-10-22T16:30:07.807995Z",
     "iopub.status.idle": "2021-10-22T16:30:08.418872Z",
     "shell.execute_reply": "2021-10-22T16:30:08.419993Z"
    },
    "papermill": {
     "duration": 0.640526,
     "end_time": "2021-10-22T16:30:08.420406",
     "exception": false,
     "start_time": "2021-10-22T16:30:07.779880",
     "status": "completed"
    },
    "tags": []
   },
   "outputs": [],
   "source": [
    "timestamps = pd.read_sql(\"select distinct record_time from EBAY_TOP_BERLIN order by record_time desc limit 2\", sqlite3.connect(\"UsedObjects.db\"))"
   ]
  },
  {
   "cell_type": "code",
   "execution_count": 3,
   "id": "periodic-identification",
   "metadata": {
    "execution": {
     "iopub.execute_input": "2021-10-22T16:30:08.497272Z",
     "iopub.status.busy": "2021-10-22T16:30:08.495168Z",
     "iopub.status.idle": "2021-10-22T16:30:08.515056Z",
     "shell.execute_reply": "2021-10-22T16:30:08.516276Z"
    },
    "papermill": {
     "duration": 0.068683,
     "end_time": "2021-10-22T16:30:08.516672",
     "exception": false,
     "start_time": "2021-10-22T16:30:08.447989",
     "status": "completed"
    },
    "tags": []
   },
   "outputs": [
    {
     "data": {
      "text/html": [
       "<div>\n",
       "<style scoped>\n",
       "    .dataframe tbody tr th:only-of-type {\n",
       "        vertical-align: middle;\n",
       "    }\n",
       "\n",
       "    .dataframe tbody tr th {\n",
       "        vertical-align: top;\n",
       "    }\n",
       "\n",
       "    .dataframe thead th {\n",
       "        text-align: right;\n",
       "    }\n",
       "</style>\n",
       "<table border=\"1\" class=\"dataframe\">\n",
       "  <thead>\n",
       "    <tr style=\"text-align: right;\">\n",
       "      <th></th>\n",
       "      <th>RECORD_TIME</th>\n",
       "    </tr>\n",
       "  </thead>\n",
       "  <tbody>\n",
       "    <tr>\n",
       "      <th>0</th>\n",
       "      <td>2021-10-22 18:30</td>\n",
       "    </tr>\n",
       "    <tr>\n",
       "      <th>1</th>\n",
       "      <td>2021-10-22 18:00</td>\n",
       "    </tr>\n",
       "  </tbody>\n",
       "</table>\n",
       "</div>"
      ],
      "text/plain": [
       "        RECORD_TIME\n",
       "0  2021-10-22 18:30\n",
       "1  2021-10-22 18:00"
      ]
     },
     "execution_count": 3,
     "metadata": {},
     "output_type": "execute_result"
    }
   ],
   "source": [
    "timestamps"
   ]
  },
  {
   "cell_type": "code",
   "execution_count": 4,
   "id": "alternate-victory",
   "metadata": {
    "execution": {
     "iopub.execute_input": "2021-10-22T16:30:08.569922Z",
     "iopub.status.busy": "2021-10-22T16:30:08.567561Z",
     "iopub.status.idle": "2021-10-22T16:30:09.475447Z",
     "shell.execute_reply": "2021-10-22T16:30:09.474139Z"
    },
    "papermill": {
     "duration": 0.937048,
     "end_time": "2021-10-22T16:30:09.475787",
     "exception": false,
     "start_time": "2021-10-22T16:30:08.538739",
     "status": "completed"
    },
    "tags": []
   },
   "outputs": [],
   "source": [
    "df = pd.read_sql(\"select * from EBAY_TOP_BERLIN where record_time in (select distinct record_time from EBAY_TOP_BERLIN order by record_time desc limit 2)\", sqlite3.connect(\"UsedObjects.db\"))"
   ]
  },
  {
   "cell_type": "code",
   "execution_count": 5,
   "id": "popular-active",
   "metadata": {
    "execution": {
     "iopub.execute_input": "2021-10-22T16:30:09.540526Z",
     "iopub.status.busy": "2021-10-22T16:30:09.538460Z",
     "iopub.status.idle": "2021-10-22T16:30:09.565258Z",
     "shell.execute_reply": "2021-10-22T16:30:09.566478Z"
    },
    "papermill": {
     "duration": 0.067337,
     "end_time": "2021-10-22T16:30:09.566870",
     "exception": false,
     "start_time": "2021-10-22T16:30:09.499533",
     "status": "completed"
    },
    "tags": []
   },
   "outputs": [],
   "source": [
    "df_pivot = df.pivot_table(index=\"PRODUCT\", columns = \"RECORD_TIME\", values = \"LISTING_COUNT\")"
   ]
  },
  {
   "cell_type": "code",
   "execution_count": 6,
   "id": "union-huntington",
   "metadata": {
    "execution": {
     "iopub.execute_input": "2021-10-22T16:30:09.624027Z",
     "iopub.status.busy": "2021-10-22T16:30:09.621975Z",
     "iopub.status.idle": "2021-10-22T16:30:09.627152Z",
     "shell.execute_reply": "2021-10-22T16:30:09.628349Z"
    },
    "papermill": {
     "duration": 0.040209,
     "end_time": "2021-10-22T16:30:09.628845",
     "exception": false,
     "start_time": "2021-10-22T16:30:09.588636",
     "status": "completed"
    },
    "tags": []
   },
   "outputs": [],
   "source": [
    "df_pivot.columns = [\"stamp_1\", \"stamp_2\"]\n",
    "df_pivot_diff = df_pivot.diff(axis=1)"
   ]
  },
  {
   "cell_type": "code",
   "execution_count": 7,
   "id": "fifth-motion",
   "metadata": {
    "execution": {
     "iopub.execute_input": "2021-10-22T16:30:09.683845Z",
     "iopub.status.busy": "2021-10-22T16:30:09.681484Z",
     "iopub.status.idle": "2021-10-22T16:30:11.161358Z",
     "shell.execute_reply": "2021-10-22T16:30:11.162661Z"
    },
    "papermill": {
     "duration": 1.513396,
     "end_time": "2021-10-22T16:30:11.163080",
     "exception": false,
     "start_time": "2021-10-22T16:30:09.649684",
     "status": "completed"
    },
    "tags": []
   },
   "outputs": [
    {
     "data": {
      "text/plain": [
       "<AxesSubplot:ylabel='PRODUCT'>"
      ]
     },
     "execution_count": 7,
     "metadata": {},
     "output_type": "execute_result"
    },
    {
     "data": {
      "image/png": "[encoded data removed]",
      "text/plain": [
       "<Figure size 432x288 with 1 Axes>"
      ]
     },
     "metadata": {
      "needs_background": "light"
     },
     "output_type": "display_data"
    }
   ],
   "source": [
    "df_pivot_diff.sort_values(\"stamp_2\", ascending = False)[\"stamp_2\"].head(10).plot.barh()"
   ]
  },
  {
   "cell_type": "code",
   "execution_count": null,
   "id": "extra-executive",
   "metadata": {
    "papermill": {
     "duration": 0.022447,
     "end_time": "2021-10-22T16:30:11.209685",
     "exception": false,
     "start_time": "2021-10-22T16:30:11.187238",
     "status": "completed"
    },
    "tags": []
   },
   "outputs": [],
   "source": []
  }
 ],
 "metadata": {
  "kernelspec": {
   "display_name": "Python 3",
   "language": "python",
   "name": "python3"
  },
  "language_info": {
   "codemirror_mode": {
    "name": "ipython",
    "version": 3
   },
   "file_extension": ".py",
   "mimetype": "text/x-python",
   "name": "python",
   "nbconvert_exporter": "python",
   "pygments_lexer": "ipython3",
   "version": "3.9.5"
  },
  "papermill": {
   "default_parameters": {},
   "duration": 7.345888,
   "end_time": "2021-10-22T16:30:11.853878",
   "environment_variables": {},
   "exception": null,
   "input_path": "eBay_Overview.ipynb",
   "output_path": "eBay_Overview.ipynb",
   "parameters": {},
   "start_time": "2021-10-22T16:30:04.507990",
   "version": "2.3.3"
  }
 },
 "nbformat": 4,
 "nbformat_minor": 5
}