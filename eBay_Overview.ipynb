{
 "cells": [
  {
   "cell_type": "code",
   "execution_count": 1,
   "id": "reverse-picking",
   "metadata": {
    "execution": {
     "iopub.execute_input": "2021-11-01T11:00:07.266724Z",
     "iopub.status.busy": "2021-11-01T11:00:07.264675Z",
     "iopub.status.idle": "2021-11-01T11:00:08.072460Z",
     "shell.execute_reply": "2021-11-01T11:00:08.070888Z"
    },
    "papermill": {
     "duration": 0.858457,
     "end_time": "2021-11-01T11:00:08.072916",
     "exception": false,
     "start_time": "2021-11-01T11:00:07.214459",
     "status": "completed"
    },
    "tags": []
   },
   "outputs": [],
   "source": [
    "import pandas as pd\n",
    "import sqlite3"
   ]
  },
  {
   "cell_type": "code",
   "execution_count": 2,
   "id": "innovative-syndrome",
   "metadata": {
    "execution": {
     "iopub.execute_input": "2021-11-01T11:00:08.124819Z",
     "iopub.status.busy": "2021-11-01T11:00:08.122852Z",
     "iopub.status.idle": "2021-11-01T11:00:08.799270Z",
     "shell.execute_reply": "2021-11-01T11:00:08.800562Z"
    },
    "papermill": {
     "duration": 0.705912,
     "end_time": "2021-11-01T11:00:08.801061",
     "exception": false,
     "start_time": "2021-11-01T11:00:08.095149",
     "status": "completed"
    },
    "tags": []
   },
   "outputs": [],
   "source": [
    "timestamps = pd.read_sql(\"select distinct record_time from EBAY_TOP_BERLIN order by record_time desc limit 2\", sqlite3.connect(\"UsedObjects.db\"))"
   ]
  },
  {
   "cell_type": "code",
   "execution_count": 3,
   "id": "periodic-identification",
   "metadata": {
    "execution": {
     "iopub.execute_input": "2021-11-01T11:00:08.880641Z",
     "iopub.status.busy": "2021-11-01T11:00:08.878590Z",
     "iopub.status.idle": "2021-11-01T11:00:08.898316Z",
     "shell.execute_reply": "2021-11-01T11:00:08.899564Z"
    },
    "papermill": {
     "duration": 0.070684,
     "end_time": "2021-11-01T11:00:08.899977",
     "exception": false,
     "start_time": "2021-11-01T11:00:08.829293",
     "status": "completed"
    },
    "tags": []
   },
   "outputs": [
    {
     "data": {
      "text/html": [
       "<div>\n",
       "<style scoped>\n",
       "    .dataframe tbody tr th:only-of-type {\n",
       "        vertical-align: middle;\n",
       "    }\n",
       "\n",
       "    .dataframe tbody tr th {\n",
       "        vertical-align: top;\n",
       "    }\n",
       "\n",
       "    .dataframe thead th {\n",
       "        text-align: right;\n",
       "    }\n",
       "</style>\n",
       "<table border=\"1\" class=\"dataframe\">\n",
       "  <thead>\n",
       "    <tr style=\"text-align: right;\">\n",
       "      <th></th>\n",
       "      <th>RECORD_TIME</th>\n",
       "    </tr>\n",
       "  </thead>\n",
       "  <tbody>\n",
       "    <tr>\n",
       "      <th>0</th>\n",
       "      <td>2021-11-01 12:00</td>\n",
       "    </tr>\n",
       "    <tr>\n",
       "      <th>1</th>\n",
       "      <td>2021-11-01 11:30</td>\n",
       "    </tr>\n",
       "  </tbody>\n",
       "</table>\n",
       "</div>"
      ],
      "text/plain": [
       "        RECORD_TIME\n",
       "0  2021-11-01 12:00\n",
       "1  2021-11-01 11:30"
      ]
     },
     "execution_count": 3,
     "metadata": {},
     "output_type": "execute_result"
    }
   ],
   "source": [
    "timestamps"
   ]
  },
  {
   "cell_type": "code",
   "execution_count": 4,
   "id": "alternate-victory",
   "metadata": {
    "execution": {
     "iopub.execute_input": "2021-11-01T11:00:08.952761Z",
     "iopub.status.busy": "2021-11-01T11:00:08.950421Z",
     "iopub.status.idle": "2021-11-01T11:00:09.938815Z",
     "shell.execute_reply": "2021-11-01T11:00:09.940045Z"
    },
    "papermill": {
     "duration": 1.018785,
     "end_time": "2021-11-01T11:00:09.940459",
     "exception": false,
     "start_time": "2021-11-01T11:00:08.921674",
     "status": "completed"
    },
    "tags": []
   },
   "outputs": [],
   "source": [
    "df = pd.read_sql(\"select * from EBAY_TOP_BERLIN where record_time in (select distinct record_time from EBAY_TOP_BERLIN order by record_time desc limit 2)\", sqlite3.connect(\"UsedObjects.db\"))"
   ]
  },
  {
   "cell_type": "code",
   "execution_count": 5,
   "id": "popular-active",
   "metadata": {
    "execution": {
     "iopub.execute_input": "2021-11-01T11:00:10.009585Z",
     "iopub.status.busy": "2021-11-01T11:00:09.998089Z",
     "iopub.status.idle": "2021-11-01T11:00:10.026684Z",
     "shell.execute_reply": "2021-11-01T11:00:10.027975Z"
    },
    "papermill": {
     "duration": 0.067305,
     "end_time": "2021-11-01T11:00:10.028408",
     "exception": false,
     "start_time": "2021-11-01T11:00:09.961103",
     "status": "completed"
    },
    "tags": []
   },
   "outputs": [],
   "source": [
    "df_pivot = df.pivot_table(index=\"PRODUCT\", columns = \"RECORD_TIME\", values = \"LISTING_COUNT\")"
   ]
  },
  {
   "cell_type": "code",
   "execution_count": 6,
   "id": "union-huntington",
   "metadata": {
    "execution": {
     "iopub.execute_input": "2021-11-01T11:00:10.084309Z",
     "iopub.status.busy": "2021-11-01T11:00:10.082168Z",
     "iopub.status.idle": "2021-11-01T11:00:10.087597Z",
     "shell.execute_reply": "2021-11-01T11:00:10.088851Z"
    },
    "papermill": {
     "duration": 0.041201,
     "end_time": "2021-11-01T11:00:10.089312",
     "exception": false,
     "start_time": "2021-11-01T11:00:10.048111",
     "status": "completed"
    },
    "tags": []
   },
   "outputs": [],
   "source": [
    "df_pivot.columns = [\"stamp_1\", \"stamp_2\"]\n",
    "df_pivot_diff = df_pivot.diff(axis=1)"
   ]
  },
  {
   "cell_type": "code",
   "execution_count": 7,
   "id": "fifth-motion",
   "metadata": {
    "execution": {
     "iopub.execute_input": "2021-11-01T11:00:10.143271Z",
     "iopub.status.busy": "2021-11-01T11:00:10.140869Z",
     "iopub.status.idle": "2021-11-01T11:00:11.603423Z",
     "shell.execute_reply": "2021-11-01T11:00:11.604787Z"
    },
    "papermill": {
     "duration": 1.495475,
     "end_time": "2021-11-01T11:00:11.605267",
     "exception": false,
     "start_time": "2021-11-01T11:00:10.109792",
     "status": "completed"
    },
    "tags": []
   },
   "outputs": [
    {
     "data": {
      "text/plain": [
       "<AxesSubplot:ylabel='PRODUCT'>"
      ]
     },
     "execution_count": 7,
     "metadata": {},
     "output_type": "execute_result"
    },
    {
     "data": {
      "image/png": "[encoded data removed]",
      "text/plain": [
       "<Figure size 432x288 with 1 Axes>"
      ]
     },
     "metadata": {
      "needs_background": "light"
     },
     "output_type": "display_data"
    }
   ],
   "source": [
    "df_pivot_diff.sort_values(\"stamp_2\", ascending = False)[\"stamp_2\"].head(10).plot.barh()"
   ]
  },
  {
   "cell_type": "code",
   "execution_count": null,
   "id": "extra-executive",
   "metadata": {
    "papermill": {
     "duration": 0.021916,
     "end_time": "2021-11-01T11:00:11.652304",
     "exception": false,
     "start_time": "2021-11-01T11:00:11.630388",
     "status": "completed"
    },
    "tags": []
   },
   "outputs": [],
   "source": []
  }
 ],
 "metadata": {
  "kernelspec": {
   "display_name": "Python 3",
   "language": "python",
   "name": "python3"
  },
  "language_info": {
   "codemirror_mode": {
    "name": "ipython",
    "version": 3
   },
   "file_extension": ".py",
   "mimetype": "text/x-python",
   "name": "python",
   "nbconvert_exporter": "python",
   "pygments_lexer": "ipython3",
   "version": "3.9.5"
  },
  "papermill": {
   "default_parameters": {},
   "duration": 7.585812,
   "end_time": "2021-11-01T11:00:12.296746",
   "environment_variables": {},
   "exception": null,
   "input_path": "eBay_Overview.ipynb",
   "output_path": "eBay_Overview.ipynb",
   "parameters": {},
   "start_time": "2021-11-01T11:00:04.710934",
   "version": "2.3.3"
  }
 },
 "nbformat": 4,
 "nbformat_minor": 5
}