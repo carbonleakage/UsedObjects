{
 "cells": [
  {
   "cell_type": "code",
   "execution_count": 1,
   "id": "reverse-picking",
   "metadata": {
    "execution": {
     "iopub.execute_input": "2021-11-25T07:30:08.230661Z",
     "iopub.status.busy": "2021-11-25T07:30:08.228464Z",
     "iopub.status.idle": "2021-11-25T07:30:09.166506Z",
     "shell.execute_reply": "2021-11-25T07:30:09.168176Z"
    },
    "papermill": {
     "duration": 0.991021,
     "end_time": "2021-11-25T07:30:09.169005",
     "exception": false,
     "start_time": "2021-11-25T07:30:08.177984",
     "status": "completed"
    },
    "tags": []
   },
   "outputs": [],
   "source": [
    "import pandas as pd\n",
    "import sqlite3"
   ]
  },
  {
   "cell_type": "code",
   "execution_count": 2,
   "id": "innovative-syndrome",
   "metadata": {
    "execution": {
     "iopub.execute_input": "2021-11-25T07:30:09.236771Z",
     "iopub.status.busy": "2021-11-25T07:30:09.234390Z",
     "iopub.status.idle": "2021-11-25T07:30:10.131470Z",
     "shell.execute_reply": "2021-11-25T07:30:10.133042Z"
    },
    "papermill": {
     "duration": 0.933225,
     "end_time": "2021-11-25T07:30:10.133553",
     "exception": false,
     "start_time": "2021-11-25T07:30:09.200328",
     "status": "completed"
    },
    "tags": []
   },
   "outputs": [],
   "source": [
    "timestamps = pd.read_sql(\"select distinct record_time from EBAY_TOP_BERLIN order by record_time desc limit 2\", sqlite3.connect(\"UsedObjects.db\"))"
   ]
  },
  {
   "cell_type": "code",
   "execution_count": 3,
   "id": "periodic-identification",
   "metadata": {
    "execution": {
     "iopub.execute_input": "2021-11-25T07:30:10.208293Z",
     "iopub.status.busy": "2021-11-25T07:30:10.206003Z",
     "iopub.status.idle": "2021-11-25T07:30:10.228365Z",
     "shell.execute_reply": "2021-11-25T07:30:10.229886Z"
    },
    "papermill": {
     "duration": 0.075658,
     "end_time": "2021-11-25T07:30:10.230388",
     "exception": false,
     "start_time": "2021-11-25T07:30:10.154730",
     "status": "completed"
    },
    "tags": []
   },
   "outputs": [
    {
     "data": {
      "text/html": [
       "<div>\n",
       "<style scoped>\n",
       "    .dataframe tbody tr th:only-of-type {\n",
       "        vertical-align: middle;\n",
       "    }\n",
       "\n",
       "    .dataframe tbody tr th {\n",
       "        vertical-align: top;\n",
       "    }\n",
       "\n",
       "    .dataframe thead th {\n",
       "        text-align: right;\n",
       "    }\n",
       "</style>\n",
       "<table border=\"1\" class=\"dataframe\">\n",
       "  <thead>\n",
       "    <tr style=\"text-align: right;\">\n",
       "      <th></th>\n",
       "      <th>RECORD_TIME</th>\n",
       "    </tr>\n",
       "  </thead>\n",
       "  <tbody>\n",
       "    <tr>\n",
       "      <th>0</th>\n",
       "      <td>2021-11-25 08:30</td>\n",
       "    </tr>\n",
       "    <tr>\n",
       "      <th>1</th>\n",
       "      <td>2021-11-25 08:00</td>\n",
       "    </tr>\n",
       "  </tbody>\n",
       "</table>\n",
       "</div>"
      ],
      "text/plain": [
       "        RECORD_TIME\n",
       "0  2021-11-25 08:30\n",
       "1  2021-11-25 08:00"
      ]
     },
     "execution_count": 3,
     "metadata": {},
     "output_type": "execute_result"
    }
   ],
   "source": [
    "timestamps"
   ]
  },
  {
   "cell_type": "code",
   "execution_count": 4,
   "id": "alternate-victory",
   "metadata": {
    "execution": {
     "iopub.execute_input": "2021-11-25T07:30:10.285881Z",
     "iopub.status.busy": "2021-11-25T07:30:10.283448Z",
     "iopub.status.idle": "2021-11-25T07:30:11.662684Z",
     "shell.execute_reply": "2021-11-25T07:30:11.664264Z"
    },
    "papermill": {
     "duration": 1.4123,
     "end_time": "2021-11-25T07:30:11.664792",
     "exception": false,
     "start_time": "2021-11-25T07:30:10.252492",
     "status": "completed"
    },
    "tags": []
   },
   "outputs": [],
   "source": [
    "df = pd.read_sql(\"select * from EBAY_TOP_BERLIN where record_time in (select distinct record_time from EBAY_TOP_BERLIN order by record_time desc limit 2)\", sqlite3.connect(\"UsedObjects.db\"))"
   ]
  },
  {
   "cell_type": "code",
   "execution_count": 5,
   "id": "popular-active",
   "metadata": {
    "execution": {
     "iopub.execute_input": "2021-11-25T07:30:11.730925Z",
     "iopub.status.busy": "2021-11-25T07:30:11.728191Z",
     "iopub.status.idle": "2021-11-25T07:30:11.761792Z",
     "shell.execute_reply": "2021-11-25T07:30:11.763181Z"
    },
    "papermill": {
     "duration": 0.07688,
     "end_time": "2021-11-25T07:30:11.763659",
     "exception": false,
     "start_time": "2021-11-25T07:30:11.686779",
     "status": "completed"
    },
    "tags": []
   },
   "outputs": [],
   "source": [
    "df_pivot = df.pivot_table(index=\"PRODUCT\", columns = \"RECORD_TIME\", values = \"LISTING_COUNT\")"
   ]
  },
  {
   "cell_type": "code",
   "execution_count": 6,
   "id": "union-huntington",
   "metadata": {
    "execution": {
     "iopub.execute_input": "2021-11-25T07:30:11.823697Z",
     "iopub.status.busy": "2021-11-25T07:30:11.821457Z",
     "iopub.status.idle": "2021-11-25T07:30:11.826718Z",
     "shell.execute_reply": "2021-11-25T07:30:11.828101Z"
    },
    "papermill": {
     "duration": 0.043773,
     "end_time": "2021-11-25T07:30:11.828572",
     "exception": false,
     "start_time": "2021-11-25T07:30:11.784799",
     "status": "completed"
    },
    "tags": []
   },
   "outputs": [],
   "source": [
    "df_pivot.columns = [\"stamp_1\", \"stamp_2\"]\n",
    "df_pivot_diff = df_pivot.diff(axis=1)"
   ]
  },
  {
   "cell_type": "code",
   "execution_count": 7,
   "id": "fifth-motion",
   "metadata": {
    "execution": {
     "iopub.execute_input": "2021-11-25T07:30:11.887376Z",
     "iopub.status.busy": "2021-11-25T07:30:11.884299Z",
     "iopub.status.idle": "2021-11-25T07:30:13.852038Z",
     "shell.execute_reply": "2021-11-25T07:30:13.855101Z"
    },
    "papermill": {
     "duration": 2.006789,
     "end_time": "2021-11-25T07:30:13.855877",
     "exception": false,
     "start_time": "2021-11-25T07:30:11.849088",
     "status": "completed"
    },
    "tags": []
   },
   "outputs": [
    {
     "data": {
      "text/plain": [
       "<AxesSubplot:ylabel='PRODUCT'>"
      ]
     },
     "execution_count": 7,
     "metadata": {},
     "output_type": "execute_result"
    },
    {
     "data": {
      "image/png": "[encoded data removed]",
      "text/plain": [
       "<Figure size 432x288 with 1 Axes>"
      ]
     },
     "metadata": {
      "needs_background": "light"
     },
     "output_type": "display_data"
    }
   ],
   "source": [
    "df_pivot_diff.sort_values(\"stamp_2\", ascending = False)[\"stamp_2\"].head(10).plot.barh()"
   ]
  },
  {
   "cell_type": "code",
   "execution_count": null,
   "id": "extra-executive",
   "metadata": {
    "papermill": {
     "duration": 0.033227,
     "end_time": "2021-11-25T07:30:13.927179",
     "exception": false,
     "start_time": "2021-11-25T07:30:13.893952",
     "status": "completed"
    },
    "tags": []
   },
   "outputs": [],
   "source": []
  }
 ],
 "metadata": {
  "kernelspec": {
   "display_name": "Python 3",
   "language": "python",
   "name": "python3"
  },
  "language_info": {
   "codemirror_mode": {
    "name": "ipython",
    "version": 3
   },
   "file_extension": ".py",
   "mimetype": "text/x-python",
   "name": "python",
   "nbconvert_exporter": "python",
   "pygments_lexer": "ipython3",
   "version": "3.9.5"
  },
  "papermill": {
   "default_parameters": {},
   "duration": 9.956074,
   "end_time": "2021-11-25T07:30:15.375644",
   "environment_variables": {},
   "exception": null,
   "input_path": "eBay_Overview.ipynb",
   "output_path": "eBay_Overview.ipynb",
   "parameters": {},
   "start_time": "2021-11-25T07:30:05.419570",
   "version": "2.3.3"
  }
 },
 "nbformat": 4,
 "nbformat_minor": 5
}