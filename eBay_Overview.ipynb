{
 "cells": [
  {
   "cell_type": "code",
   "execution_count": 1,
   "id": "reverse-picking",
   "metadata": {
    "execution": {
     "iopub.execute_input": "2021-10-16T06:00:07.265732Z",
     "iopub.status.busy": "2021-10-16T06:00:07.263631Z",
     "iopub.status.idle": "2021-10-16T06:00:08.072908Z",
     "shell.execute_reply": "2021-10-16T06:00:08.074395Z"
    },
    "papermill": {
     "duration": 0.858774,
     "end_time": "2021-10-16T06:00:08.075084",
     "exception": false,
     "start_time": "2021-10-16T06:00:07.216310",
     "status": "completed"
    },
    "tags": []
   },
   "outputs": [],
   "source": [
    "import pandas as pd\n",
    "import sqlite3"
   ]
  },
  {
   "cell_type": "code",
   "execution_count": 2,
   "id": "innovative-syndrome",
   "metadata": {
    "execution": {
     "iopub.execute_input": "2021-10-16T06:00:08.126096Z",
     "iopub.status.busy": "2021-10-16T06:00:08.123630Z",
     "iopub.status.idle": "2021-10-16T06:00:08.672959Z",
     "shell.execute_reply": "2021-10-16T06:00:08.674481Z"
    },
    "papermill": {
     "duration": 0.579613,
     "end_time": "2021-10-16T06:00:08.674925",
     "exception": false,
     "start_time": "2021-10-16T06:00:08.095312",
     "status": "completed"
    },
    "tags": []
   },
   "outputs": [],
   "source": [
    "timestamps = pd.read_sql(\"select distinct record_time from EBAY_TOP_BERLIN order by record_time desc limit 2\", sqlite3.connect(\"UsedObjects.db\"))"
   ]
  },
  {
   "cell_type": "code",
   "execution_count": 3,
   "id": "periodic-identification",
   "metadata": {
    "execution": {
     "iopub.execute_input": "2021-10-16T06:00:08.754719Z",
     "iopub.status.busy": "2021-10-16T06:00:08.752571Z",
     "iopub.status.idle": "2021-10-16T06:00:08.774102Z",
     "shell.execute_reply": "2021-10-16T06:00:08.772603Z"
    },
    "papermill": {
     "duration": 0.071344,
     "end_time": "2021-10-16T06:00:08.774450",
     "exception": false,
     "start_time": "2021-10-16T06:00:08.703106",
     "status": "completed"
    },
    "tags": []
   },
   "outputs": [
    {
     "data": {
      "text/html": [
       "<div>\n",
       "<style scoped>\n",
       "    .dataframe tbody tr th:only-of-type {\n",
       "        vertical-align: middle;\n",
       "    }\n",
       "\n",
       "    .dataframe tbody tr th {\n",
       "        vertical-align: top;\n",
       "    }\n",
       "\n",
       "    .dataframe thead th {\n",
       "        text-align: right;\n",
       "    }\n",
       "</style>\n",
       "<table border=\"1\" class=\"dataframe\">\n",
       "  <thead>\n",
       "    <tr style=\"text-align: right;\">\n",
       "      <th></th>\n",
       "      <th>RECORD_TIME</th>\n",
       "    </tr>\n",
       "  </thead>\n",
       "  <tbody>\n",
       "    <tr>\n",
       "      <th>0</th>\n",
       "      <td>2021-10-16 08:00</td>\n",
       "    </tr>\n",
       "    <tr>\n",
       "      <th>1</th>\n",
       "      <td>2021-10-16 07:30</td>\n",
       "    </tr>\n",
       "  </tbody>\n",
       "</table>\n",
       "</div>"
      ],
      "text/plain": [
       "        RECORD_TIME\n",
       "0  2021-10-16 08:00\n",
       "1  2021-10-16 07:30"
      ]
     },
     "execution_count": 3,
     "metadata": {},
     "output_type": "execute_result"
    }
   ],
   "source": [
    "timestamps"
   ]
  },
  {
   "cell_type": "code",
   "execution_count": 4,
   "id": "alternate-victory",
   "metadata": {
    "execution": {
     "iopub.execute_input": "2021-10-16T06:00:08.825768Z",
     "iopub.status.busy": "2021-10-16T06:00:08.823765Z",
     "iopub.status.idle": "2021-10-16T06:00:09.625715Z",
     "shell.execute_reply": "2021-10-16T06:00:09.627023Z"
    },
    "papermill": {
     "duration": 0.831865,
     "end_time": "2021-10-16T06:00:09.627422",
     "exception": false,
     "start_time": "2021-10-16T06:00:08.795557",
     "status": "completed"
    },
    "tags": []
   },
   "outputs": [],
   "source": [
    "df = pd.read_sql(\"select * from EBAY_TOP_BERLIN where record_time in (select distinct record_time from EBAY_TOP_BERLIN order by record_time desc limit 2)\", sqlite3.connect(\"UsedObjects.db\"))"
   ]
  },
  {
   "cell_type": "code",
   "execution_count": 5,
   "id": "popular-active",
   "metadata": {
    "execution": {
     "iopub.execute_input": "2021-10-16T06:00:09.699333Z",
     "iopub.status.busy": "2021-10-16T06:00:09.687248Z",
     "iopub.status.idle": "2021-10-16T06:00:09.718873Z",
     "shell.execute_reply": "2021-10-16T06:00:09.717270Z"
    },
    "papermill": {
     "duration": 0.069162,
     "end_time": "2021-10-16T06:00:09.719249",
     "exception": false,
     "start_time": "2021-10-16T06:00:09.650087",
     "status": "completed"
    },
    "tags": []
   },
   "outputs": [],
   "source": [
    "df_pivot = df.pivot_table(index=\"PRODUCT\", columns = \"RECORD_TIME\", values = \"LISTING_COUNT\")"
   ]
  },
  {
   "cell_type": "code",
   "execution_count": 6,
   "id": "union-huntington",
   "metadata": {
    "execution": {
     "iopub.execute_input": "2021-10-16T06:00:09.776418Z",
     "iopub.status.busy": "2021-10-16T06:00:09.773935Z",
     "iopub.status.idle": "2021-10-16T06:00:09.781217Z",
     "shell.execute_reply": "2021-10-16T06:00:09.779730Z"
    },
    "papermill": {
     "duration": 0.042139,
     "end_time": "2021-10-16T06:00:09.781574",
     "exception": false,
     "start_time": "2021-10-16T06:00:09.739435",
     "status": "completed"
    },
    "tags": []
   },
   "outputs": [],
   "source": [
    "df_pivot.columns = [\"stamp_1\", \"stamp_2\"]\n",
    "df_pivot_diff = df_pivot.diff(axis=1)"
   ]
  },
  {
   "cell_type": "code",
   "execution_count": 7,
   "id": "fifth-motion",
   "metadata": {
    "execution": {
     "iopub.execute_input": "2021-10-16T06:00:09.835630Z",
     "iopub.status.busy": "2021-10-16T06:00:09.833296Z",
     "iopub.status.idle": "2021-10-16T06:00:11.322536Z",
     "shell.execute_reply": "2021-10-16T06:00:11.323848Z"
    },
    "papermill": {
     "duration": 1.522346,
     "end_time": "2021-10-16T06:00:11.324262",
     "exception": false,
     "start_time": "2021-10-16T06:00:09.801916",
     "status": "completed"
    },
    "tags": []
   },
   "outputs": [
    {
     "data": {
      "text/plain": [
       "<AxesSubplot:ylabel='PRODUCT'>"
      ]
     },
     "execution_count": 7,
     "metadata": {},
     "output_type": "execute_result"
    },
    {
     "data": {
      "image/png": "[encoded data removed]",
      "text/plain": [
       "<Figure size 432x288 with 1 Axes>"
      ]
     },
     "metadata": {
      "needs_background": "light"
     },
     "output_type": "display_data"
    }
   ],
   "source": [
    "df_pivot_diff.sort_values(\"stamp_2\", ascending = False)[\"stamp_2\"].head(10).plot.barh()"
   ]
  },
  {
   "cell_type": "code",
   "execution_count": null,
   "id": "extra-executive",
   "metadata": {
    "papermill": {
     "duration": 0.021727,
     "end_time": "2021-10-16T06:00:11.370051",
     "exception": false,
     "start_time": "2021-10-16T06:00:11.348324",
     "status": "completed"
    },
    "tags": []
   },
   "outputs": [],
   "source": []
  }
 ],
 "metadata": {
  "kernelspec": {
   "display_name": "Python 3",
   "language": "python",
   "name": "python3"
  },
  "language_info": {
   "codemirror_mode": {
    "name": "ipython",
    "version": 3
   },
   "file_extension": ".py",
   "mimetype": "text/x-python",
   "name": "python",
   "nbconvert_exporter": "python",
   "pygments_lexer": "ipython3",
   "version": "3.9.5"
  },
  "papermill": {
   "default_parameters": {},
   "duration": 7.832545,
   "end_time": "2021-10-16T06:00:12.626345",
   "environment_variables": {},
   "exception": null,
   "input_path": "eBay_Overview.ipynb",
   "output_path": "eBay_Overview.ipynb",
   "parameters": {},
   "start_time": "2021-10-16T06:00:04.793800",
   "version": "2.3.3"
  }
 },
 "nbformat": 4,
 "nbformat_minor": 5
}