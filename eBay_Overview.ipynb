{
 "cells": [
  {
   "cell_type": "code",
   "execution_count": 1,
   "id": "reverse-picking",
   "metadata": {
    "execution": {
     "iopub.execute_input": "2021-08-15T01:00:07.072691Z",
     "iopub.status.busy": "2021-08-15T01:00:07.070707Z",
     "iopub.status.idle": "2021-08-15T01:00:07.882813Z",
     "shell.execute_reply": "2021-08-15T01:00:07.884285Z"
    },
    "papermill": {
     "duration": 0.864609,
     "end_time": "2021-08-15T01:00:07.884974",
     "exception": false,
     "start_time": "2021-08-15T01:00:07.020365",
     "status": "completed"
    },
    "tags": []
   },
   "outputs": [],
   "source": [
    "import pandas as pd\n",
    "import sqlite3"
   ]
  },
  {
   "cell_type": "code",
   "execution_count": 2,
   "id": "innovative-syndrome",
   "metadata": {
    "execution": {
     "iopub.execute_input": "2021-08-15T01:00:07.936917Z",
     "iopub.status.busy": "2021-08-15T01:00:07.934726Z",
     "iopub.status.idle": "2021-08-15T01:00:07.986895Z",
     "shell.execute_reply": "2021-08-15T01:00:07.988094Z"
    },
    "papermill": {
     "duration": 0.082709,
     "end_time": "2021-08-15T01:00:07.988486",
     "exception": false,
     "start_time": "2021-08-15T01:00:07.905777",
     "status": "completed"
    },
    "tags": []
   },
   "outputs": [],
   "source": [
    "timestamps = pd.read_sql(\"select distinct record_time from EBAY_TOP_BERLIN order by record_time desc limit 2\", sqlite3.connect(\"UsedObjects.db\"))"
   ]
  },
  {
   "cell_type": "code",
   "execution_count": 3,
   "id": "periodic-identification",
   "metadata": {
    "execution": {
     "iopub.execute_input": "2021-08-15T01:00:08.058154Z",
     "iopub.status.busy": "2021-08-15T01:00:08.056031Z",
     "iopub.status.idle": "2021-08-15T01:00:08.076324Z",
     "shell.execute_reply": "2021-08-15T01:00:08.077953Z"
    },
    "papermill": {
     "duration": 0.067363,
     "end_time": "2021-08-15T01:00:08.078461",
     "exception": false,
     "start_time": "2021-08-15T01:00:08.011098",
     "status": "completed"
    },
    "tags": []
   },
   "outputs": [
    {
     "data": {
      "text/html": [
       "<div>\n",
       "<style scoped>\n",
       "    .dataframe tbody tr th:only-of-type {\n",
       "        vertical-align: middle;\n",
       "    }\n",
       "\n",
       "    .dataframe tbody tr th {\n",
       "        vertical-align: top;\n",
       "    }\n",
       "\n",
       "    .dataframe thead th {\n",
       "        text-align: right;\n",
       "    }\n",
       "</style>\n",
       "<table border=\"1\" class=\"dataframe\">\n",
       "  <thead>\n",
       "    <tr style=\"text-align: right;\">\n",
       "      <th></th>\n",
       "      <th>RECORD_TIME</th>\n",
       "    </tr>\n",
       "  </thead>\n",
       "  <tbody>\n",
       "    <tr>\n",
       "      <th>0</th>\n",
       "      <td>2021-08-15 03:00</td>\n",
       "    </tr>\n",
       "    <tr>\n",
       "      <th>1</th>\n",
       "      <td>2021-08-15 02:30</td>\n",
       "    </tr>\n",
       "  </tbody>\n",
       "</table>\n",
       "</div>"
      ],
      "text/plain": [
       "        RECORD_TIME\n",
       "0  2021-08-15 03:00\n",
       "1  2021-08-15 02:30"
      ]
     },
     "execution_count": 3,
     "metadata": {},
     "output_type": "execute_result"
    }
   ],
   "source": [
    "timestamps"
   ]
  },
  {
   "cell_type": "code",
   "execution_count": 4,
   "id": "alternate-victory",
   "metadata": {
    "execution": {
     "iopub.execute_input": "2021-08-15T01:00:08.130775Z",
     "iopub.status.busy": "2021-08-15T01:00:08.128810Z",
     "iopub.status.idle": "2021-08-15T01:00:08.204349Z",
     "shell.execute_reply": "2021-08-15T01:00:08.205547Z"
    },
    "papermill": {
     "duration": 0.10578,
     "end_time": "2021-08-15T01:00:08.206053",
     "exception": false,
     "start_time": "2021-08-15T01:00:08.100273",
     "status": "completed"
    },
    "tags": []
   },
   "outputs": [],
   "source": [
    "df = pd.read_sql(\"select * from EBAY_TOP_BERLIN where record_time in (select distinct record_time from EBAY_TOP_BERLIN order by record_time desc limit 2)\", sqlite3.connect(\"UsedObjects.db\"))"
   ]
  },
  {
   "cell_type": "code",
   "execution_count": 5,
   "id": "popular-active",
   "metadata": {
    "execution": {
     "iopub.execute_input": "2021-08-15T01:00:08.276415Z",
     "iopub.status.busy": "2021-08-15T01:00:08.265271Z",
     "iopub.status.idle": "2021-08-15T01:00:08.293689Z",
     "shell.execute_reply": "2021-08-15T01:00:08.295323Z"
    },
    "papermill": {
     "duration": 0.068763,
     "end_time": "2021-08-15T01:00:08.295789",
     "exception": false,
     "start_time": "2021-08-15T01:00:08.227026",
     "status": "completed"
    },
    "tags": []
   },
   "outputs": [],
   "source": [
    "df_pivot = df.pivot_table(index=\"PRODUCT\", columns = \"RECORD_TIME\", values = \"LISTING_COUNT\")"
   ]
  },
  {
   "cell_type": "code",
   "execution_count": 6,
   "id": "union-huntington",
   "metadata": {
    "execution": {
     "iopub.execute_input": "2021-08-15T01:00:08.353917Z",
     "iopub.status.busy": "2021-08-15T01:00:08.351742Z",
     "iopub.status.idle": "2021-08-15T01:00:08.357141Z",
     "shell.execute_reply": "2021-08-15T01:00:08.358394Z"
    },
    "papermill": {
     "duration": 0.041574,
     "end_time": "2021-08-15T01:00:08.358825",
     "exception": false,
     "start_time": "2021-08-15T01:00:08.317251",
     "status": "completed"
    },
    "tags": []
   },
   "outputs": [],
   "source": [
    "df_pivot.columns = [\"stamp_1\", \"stamp_2\"]\n",
    "df_pivot_diff = df_pivot.diff(axis=1)"
   ]
  },
  {
   "cell_type": "code",
   "execution_count": 7,
   "id": "fifth-motion",
   "metadata": {
    "execution": {
     "iopub.execute_input": "2021-08-15T01:00:08.417037Z",
     "iopub.status.busy": "2021-08-15T01:00:08.414365Z",
     "iopub.status.idle": "2021-08-15T01:00:09.929658Z",
     "shell.execute_reply": "2021-08-15T01:00:09.930937Z"
    },
    "papermill": {
     "duration": 1.549307,
     "end_time": "2021-08-15T01:00:09.931370",
     "exception": false,
     "start_time": "2021-08-15T01:00:08.382063",
     "status": "completed"
    },
    "tags": []
   },
   "outputs": [
    {
     "data": {
      "text/plain": [
       "<AxesSubplot:ylabel='PRODUCT'>"
      ]
     },
     "execution_count": 7,
     "metadata": {},
     "output_type": "execute_result"
    },
    {
     "data": {
      "image/png": "[encoded data removed]",
      "text/plain": [
       "<Figure size 432x288 with 1 Axes>"
      ]
     },
     "metadata": {
      "needs_background": "light"
     },
     "output_type": "display_data"
    }
   ],
   "source": [
    "df_pivot_diff.sort_values(\"stamp_2\", ascending = False)[\"stamp_2\"].head(10).plot.barh()"
   ]
  },
  {
   "cell_type": "code",
   "execution_count": null,
   "id": "extra-executive",
   "metadata": {
    "papermill": {
     "duration": 0.022679,
     "end_time": "2021-08-15T01:00:09.979386",
     "exception": false,
     "start_time": "2021-08-15T01:00:09.956707",
     "status": "completed"
    },
    "tags": []
   },
   "outputs": [],
   "source": []
  }
 ],
 "metadata": {
  "kernelspec": {
   "display_name": "Python 3",
   "language": "python",
   "name": "python3"
  },
  "language_info": {
   "codemirror_mode": {
    "name": "ipython",
    "version": 3
   },
   "file_extension": ".py",
   "mimetype": "text/x-python",
   "name": "python",
   "nbconvert_exporter": "python",
   "pygments_lexer": "ipython3",
   "version": "3.9.5"
  },
  "papermill": {
   "default_parameters": {},
   "duration": 6.827522,
   "end_time": "2021-08-15T01:00:11.424427",
   "environment_variables": {},
   "exception": null,
   "input_path": "eBay_Overview.ipynb",
   "output_path": "eBay_Overview.ipynb",
   "parameters": {},
   "start_time": "2021-08-15T01:00:04.596905",
   "version": "2.3.3"
  }
 },
 "nbformat": 4,
 "nbformat_minor": 5
}