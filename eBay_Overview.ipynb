{
 "cells": [
  {
   "cell_type": "code",
   "execution_count": 1,
   "id": "reverse-picking",
   "metadata": {
    "execution": {
     "iopub.execute_input": "2021-11-20T07:30:07.944724Z",
     "iopub.status.busy": "2021-11-20T07:30:07.942357Z",
     "iopub.status.idle": "2021-11-20T07:30:08.889201Z",
     "shell.execute_reply": "2021-11-20T07:30:08.891125Z"
    },
    "papermill": {
     "duration": 0.995584,
     "end_time": "2021-11-20T07:30:08.891887",
     "exception": false,
     "start_time": "2021-11-20T07:30:07.896303",
     "status": "completed"
    },
    "tags": []
   },
   "outputs": [],
   "source": [
    "import pandas as pd\n",
    "import sqlite3"
   ]
  },
  {
   "cell_type": "code",
   "execution_count": 2,
   "id": "innovative-syndrome",
   "metadata": {
    "execution": {
     "iopub.execute_input": "2021-11-20T07:30:08.954137Z",
     "iopub.status.busy": "2021-11-20T07:30:08.951802Z",
     "iopub.status.idle": "2021-11-20T07:30:09.817472Z",
     "shell.execute_reply": "2021-11-20T07:30:09.818946Z"
    },
    "papermill": {
     "duration": 0.900213,
     "end_time": "2021-11-20T07:30:09.819457",
     "exception": false,
     "start_time": "2021-11-20T07:30:08.919244",
     "status": "completed"
    },
    "tags": []
   },
   "outputs": [],
   "source": [
    "timestamps = pd.read_sql(\"select distinct record_time from EBAY_TOP_BERLIN order by record_time desc limit 2\", sqlite3.connect(\"UsedObjects.db\"))"
   ]
  },
  {
   "cell_type": "code",
   "execution_count": 3,
   "id": "periodic-identification",
   "metadata": {
    "execution": {
     "iopub.execute_input": "2021-11-20T07:30:09.894979Z",
     "iopub.status.busy": "2021-11-20T07:30:09.888150Z",
     "iopub.status.idle": "2021-11-20T07:30:09.914033Z",
     "shell.execute_reply": "2021-11-20T07:30:09.915618Z"
    },
    "papermill": {
     "duration": 0.076451,
     "end_time": "2021-11-20T07:30:09.916098",
     "exception": false,
     "start_time": "2021-11-20T07:30:09.839647",
     "status": "completed"
    },
    "tags": []
   },
   "outputs": [
    {
     "data": {
      "text/html": [
       "<div>\n",
       "<style scoped>\n",
       "    .dataframe tbody tr th:only-of-type {\n",
       "        vertical-align: middle;\n",
       "    }\n",
       "\n",
       "    .dataframe tbody tr th {\n",
       "        vertical-align: top;\n",
       "    }\n",
       "\n",
       "    .dataframe thead th {\n",
       "        text-align: right;\n",
       "    }\n",
       "</style>\n",
       "<table border=\"1\" class=\"dataframe\">\n",
       "  <thead>\n",
       "    <tr style=\"text-align: right;\">\n",
       "      <th></th>\n",
       "      <th>RECORD_TIME</th>\n",
       "    </tr>\n",
       "  </thead>\n",
       "  <tbody>\n",
       "    <tr>\n",
       "      <th>0</th>\n",
       "      <td>2021-11-20 08:30</td>\n",
       "    </tr>\n",
       "    <tr>\n",
       "      <th>1</th>\n",
       "      <td>2021-11-20 08:00</td>\n",
       "    </tr>\n",
       "  </tbody>\n",
       "</table>\n",
       "</div>"
      ],
      "text/plain": [
       "        RECORD_TIME\n",
       "0  2021-11-20 08:30\n",
       "1  2021-11-20 08:00"
      ]
     },
     "execution_count": 3,
     "metadata": {},
     "output_type": "execute_result"
    }
   ],
   "source": [
    "timestamps"
   ]
  },
  {
   "cell_type": "code",
   "execution_count": 4,
   "id": "alternate-victory",
   "metadata": {
    "execution": {
     "iopub.execute_input": "2021-11-20T07:30:09.970101Z",
     "iopub.status.busy": "2021-11-20T07:30:09.967861Z",
     "iopub.status.idle": "2021-11-20T07:30:11.216749Z",
     "shell.execute_reply": "2021-11-20T07:30:11.218370Z"
    },
    "papermill": {
     "duration": 1.282597,
     "end_time": "2021-11-20T07:30:11.218887",
     "exception": false,
     "start_time": "2021-11-20T07:30:09.936290",
     "status": "completed"
    },
    "tags": []
   },
   "outputs": [],
   "source": [
    "df = pd.read_sql(\"select * from EBAY_TOP_BERLIN where record_time in (select distinct record_time from EBAY_TOP_BERLIN order by record_time desc limit 2)\", sqlite3.connect(\"UsedObjects.db\"))"
   ]
  },
  {
   "cell_type": "code",
   "execution_count": 5,
   "id": "popular-active",
   "metadata": {
    "execution": {
     "iopub.execute_input": "2021-11-20T07:30:11.300279Z",
     "iopub.status.busy": "2021-11-20T07:30:11.285043Z",
     "iopub.status.idle": "2021-11-20T07:30:11.319322Z",
     "shell.execute_reply": "2021-11-20T07:30:11.321021Z"
    },
    "papermill": {
     "duration": 0.080327,
     "end_time": "2021-11-20T07:30:11.321542",
     "exception": false,
     "start_time": "2021-11-20T07:30:11.241215",
     "status": "completed"
    },
    "tags": []
   },
   "outputs": [],
   "source": [
    "df_pivot = df.pivot_table(index=\"PRODUCT\", columns = \"RECORD_TIME\", values = \"LISTING_COUNT\")"
   ]
  },
  {
   "cell_type": "code",
   "execution_count": 6,
   "id": "union-huntington",
   "metadata": {
    "execution": {
     "iopub.execute_input": "2021-11-20T07:30:11.383768Z",
     "iopub.status.busy": "2021-11-20T07:30:11.381572Z",
     "iopub.status.idle": "2021-11-20T07:30:11.388011Z",
     "shell.execute_reply": "2021-11-20T07:30:11.389754Z"
    },
    "papermill": {
     "duration": 0.046452,
     "end_time": "2021-11-20T07:30:11.390262",
     "exception": false,
     "start_time": "2021-11-20T07:30:11.343810",
     "status": "completed"
    },
    "tags": []
   },
   "outputs": [],
   "source": [
    "df_pivot.columns = [\"stamp_1\", \"stamp_2\"]\n",
    "df_pivot_diff = df_pivot.diff(axis=1)"
   ]
  },
  {
   "cell_type": "code",
   "execution_count": 7,
   "id": "fifth-motion",
   "metadata": {
    "execution": {
     "iopub.execute_input": "2021-11-20T07:30:11.459180Z",
     "iopub.status.busy": "2021-11-20T07:30:11.446978Z",
     "iopub.status.idle": "2021-11-20T07:30:13.199652Z",
     "shell.execute_reply": "2021-11-20T07:30:13.200954Z"
    },
    "papermill": {
     "duration": 1.790012,
     "end_time": "2021-11-20T07:30:13.201396",
     "exception": false,
     "start_time": "2021-11-20T07:30:11.411384",
     "status": "completed"
    },
    "tags": []
   },
   "outputs": [
    {
     "data": {
      "text/plain": [
       "<AxesSubplot:ylabel='PRODUCT'>"
      ]
     },
     "execution_count": 7,
     "metadata": {},
     "output_type": "execute_result"
    },
    {
     "data": {
      "image/png": "[encoded data removed]",
      "text/plain": [
       "<Figure size 432x288 with 1 Axes>"
      ]
     },
     "metadata": {
      "needs_background": "light"
     },
     "output_type": "display_data"
    }
   ],
   "source": [
    "df_pivot_diff.sort_values(\"stamp_2\", ascending = False)[\"stamp_2\"].head(10).plot.barh()"
   ]
  },
  {
   "cell_type": "code",
   "execution_count": null,
   "id": "extra-executive",
   "metadata": {
    "papermill": {
     "duration": 0.037287,
     "end_time": "2021-11-20T07:30:13.266752",
     "exception": false,
     "start_time": "2021-11-20T07:30:13.229465",
     "status": "completed"
    },
    "tags": []
   },
   "outputs": [],
   "source": []
  }
 ],
 "metadata": {
  "kernelspec": {
   "display_name": "Python 3",
   "language": "python",
   "name": "python3"
  },
  "language_info": {
   "codemirror_mode": {
    "name": "ipython",
    "version": 3
   },
   "file_extension": ".py",
   "mimetype": "text/x-python",
   "name": "python",
   "nbconvert_exporter": "python",
   "pygments_lexer": "ipython3",
   "version": "3.9.5"
  },
  "papermill": {
   "default_parameters": {},
   "duration": 10.005484,
   "end_time": "2021-11-20T07:30:15.096825",
   "environment_variables": {},
   "exception": null,
   "input_path": "eBay_Overview.ipynb",
   "output_path": "eBay_Overview.ipynb",
   "parameters": {},
   "start_time": "2021-11-20T07:30:05.091341",
   "version": "2.3.3"
  }
 },
 "nbformat": 4,
 "nbformat_minor": 5
}