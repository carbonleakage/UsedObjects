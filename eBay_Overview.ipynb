{
 "cells": [
  {
   "cell_type": "code",
   "execution_count": 1,
   "id": "reverse-picking",
   "metadata": {
    "execution": {
     "iopub.execute_input": "2021-09-21T16:30:06.612803Z",
     "iopub.status.busy": "2021-09-21T16:30:06.610838Z",
     "iopub.status.idle": "2021-09-21T16:30:07.416283Z",
     "shell.execute_reply": "2021-09-21T16:30:07.417554Z"
    },
    "papermill": {
     "duration": 0.857533,
     "end_time": "2021-09-21T16:30:07.418176",
     "exception": false,
     "start_time": "2021-09-21T16:30:06.560643",
     "status": "completed"
    },
    "tags": []
   },
   "outputs": [],
   "source": [
    "import pandas as pd\n",
    "import sqlite3"
   ]
  },
  {
   "cell_type": "code",
   "execution_count": 2,
   "id": "innovative-syndrome",
   "metadata": {
    "execution": {
     "iopub.execute_input": "2021-09-21T16:30:07.468257Z",
     "iopub.status.busy": "2021-09-21T16:30:07.466293Z",
     "iopub.status.idle": "2021-09-21T16:30:07.811069Z",
     "shell.execute_reply": "2021-09-21T16:30:07.812285Z"
    },
    "papermill": {
     "duration": 0.37433,
     "end_time": "2021-09-21T16:30:07.812691",
     "exception": false,
     "start_time": "2021-09-21T16:30:07.438361",
     "status": "completed"
    },
    "tags": []
   },
   "outputs": [],
   "source": [
    "timestamps = pd.read_sql(\"select distinct record_time from EBAY_TOP_BERLIN order by record_time desc limit 2\", sqlite3.connect(\"UsedObjects.db\"))"
   ]
  },
  {
   "cell_type": "code",
   "execution_count": 3,
   "id": "periodic-identification",
   "metadata": {
    "execution": {
     "iopub.execute_input": "2021-09-21T16:30:07.881342Z",
     "iopub.status.busy": "2021-09-21T16:30:07.879316Z",
     "iopub.status.idle": "2021-09-21T16:30:07.899378Z",
     "shell.execute_reply": "2021-09-21T16:30:07.900670Z"
    },
    "papermill": {
     "duration": 0.065773,
     "end_time": "2021-09-21T16:30:07.901097",
     "exception": false,
     "start_time": "2021-09-21T16:30:07.835324",
     "status": "completed"
    },
    "tags": []
   },
   "outputs": [
    {
     "data": {
      "text/html": [
       "<div>\n",
       "<style scoped>\n",
       "    .dataframe tbody tr th:only-of-type {\n",
       "        vertical-align: middle;\n",
       "    }\n",
       "\n",
       "    .dataframe tbody tr th {\n",
       "        vertical-align: top;\n",
       "    }\n",
       "\n",
       "    .dataframe thead th {\n",
       "        text-align: right;\n",
       "    }\n",
       "</style>\n",
       "<table border=\"1\" class=\"dataframe\">\n",
       "  <thead>\n",
       "    <tr style=\"text-align: right;\">\n",
       "      <th></th>\n",
       "      <th>RECORD_TIME</th>\n",
       "    </tr>\n",
       "  </thead>\n",
       "  <tbody>\n",
       "    <tr>\n",
       "      <th>0</th>\n",
       "      <td>2021-09-21 18:30</td>\n",
       "    </tr>\n",
       "    <tr>\n",
       "      <th>1</th>\n",
       "      <td>2021-09-21 18:00</td>\n",
       "    </tr>\n",
       "  </tbody>\n",
       "</table>\n",
       "</div>"
      ],
      "text/plain": [
       "        RECORD_TIME\n",
       "0  2021-09-21 18:30\n",
       "1  2021-09-21 18:00"
      ]
     },
     "execution_count": 3,
     "metadata": {},
     "output_type": "execute_result"
    }
   ],
   "source": [
    "timestamps"
   ]
  },
  {
   "cell_type": "code",
   "execution_count": 4,
   "id": "alternate-victory",
   "metadata": {
    "execution": {
     "iopub.execute_input": "2021-09-21T16:30:07.951808Z",
     "iopub.status.busy": "2021-09-21T16:30:07.949874Z",
     "iopub.status.idle": "2021-09-21T16:30:08.473566Z",
     "shell.execute_reply": "2021-09-21T16:30:08.474768Z"
    },
    "papermill": {
     "duration": 0.553673,
     "end_time": "2021-09-21T16:30:08.475271",
     "exception": false,
     "start_time": "2021-09-21T16:30:07.921598",
     "status": "completed"
    },
    "tags": []
   },
   "outputs": [],
   "source": [
    "df = pd.read_sql(\"select * from EBAY_TOP_BERLIN where record_time in (select distinct record_time from EBAY_TOP_BERLIN order by record_time desc limit 2)\", sqlite3.connect(\"UsedObjects.db\"))"
   ]
  },
  {
   "cell_type": "code",
   "execution_count": 5,
   "id": "popular-active",
   "metadata": {
    "execution": {
     "iopub.execute_input": "2021-09-21T16:30:08.551024Z",
     "iopub.status.busy": "2021-09-21T16:30:08.542248Z",
     "iopub.status.idle": "2021-09-21T16:30:08.571246Z",
     "shell.execute_reply": "2021-09-21T16:30:08.572652Z"
    },
    "papermill": {
     "duration": 0.071869,
     "end_time": "2021-09-21T16:30:08.573096",
     "exception": false,
     "start_time": "2021-09-21T16:30:08.501227",
     "status": "completed"
    },
    "tags": []
   },
   "outputs": [],
   "source": [
    "df_pivot = df.pivot_table(index=\"PRODUCT\", columns = \"RECORD_TIME\", values = \"LISTING_COUNT\")"
   ]
  },
  {
   "cell_type": "code",
   "execution_count": 6,
   "id": "union-huntington",
   "metadata": {
    "execution": {
     "iopub.execute_input": "2021-09-21T16:30:08.630810Z",
     "iopub.status.busy": "2021-09-21T16:30:08.628336Z",
     "iopub.status.idle": "2021-09-21T16:30:08.634171Z",
     "shell.execute_reply": "2021-09-21T16:30:08.635522Z"
    },
    "papermill": {
     "duration": 0.042509,
     "end_time": "2021-09-21T16:30:08.635958",
     "exception": false,
     "start_time": "2021-09-21T16:30:08.593449",
     "status": "completed"
    },
    "tags": []
   },
   "outputs": [],
   "source": [
    "df_pivot.columns = [\"stamp_1\", \"stamp_2\"]\n",
    "df_pivot_diff = df_pivot.diff(axis=1)"
   ]
  },
  {
   "cell_type": "code",
   "execution_count": 7,
   "id": "fifth-motion",
   "metadata": {
    "execution": {
     "iopub.execute_input": "2021-09-21T16:30:08.690578Z",
     "iopub.status.busy": "2021-09-21T16:30:08.688288Z",
     "iopub.status.idle": "2021-09-21T16:30:10.163597Z",
     "shell.execute_reply": "2021-09-21T16:30:10.165098Z"
    },
    "papermill": {
     "duration": 1.508827,
     "end_time": "2021-09-21T16:30:10.165573",
     "exception": false,
     "start_time": "2021-09-21T16:30:08.656746",
     "status": "completed"
    },
    "tags": []
   },
   "outputs": [
    {
     "data": {
      "text/plain": [
       "<AxesSubplot:ylabel='PRODUCT'>"
      ]
     },
     "execution_count": 7,
     "metadata": {},
     "output_type": "execute_result"
    },
    {
     "data": {
      "image/png": "[encoded data removed]",
      "text/plain": [
       "<Figure size 432x288 with 1 Axes>"
      ]
     },
     "metadata": {
      "needs_background": "light"
     },
     "output_type": "display_data"
    }
   ],
   "source": [
    "df_pivot_diff.sort_values(\"stamp_2\", ascending = False)[\"stamp_2\"].head(10).plot.barh()"
   ]
  },
  {
   "cell_type": "code",
   "execution_count": null,
   "id": "extra-executive",
   "metadata": {
    "papermill": {
     "duration": 0.02229,
     "end_time": "2021-09-21T16:30:10.212059",
     "exception": false,
     "start_time": "2021-09-21T16:30:10.189769",
     "status": "completed"
    },
    "tags": []
   },
   "outputs": [],
   "source": []
  }
 ],
 "metadata": {
  "kernelspec": {
   "display_name": "Python 3",
   "language": "python",
   "name": "python3"
  },
  "language_info": {
   "codemirror_mode": {
    "name": "ipython",
    "version": 3
   },
   "file_extension": ".py",
   "mimetype": "text/x-python",
   "name": "python",
   "nbconvert_exporter": "python",
   "pygments_lexer": "ipython3",
   "version": "3.9.5"
  },
  "papermill": {
   "default_parameters": {},
   "duration": 6.705404,
   "end_time": "2021-09-21T16:30:10.856350",
   "environment_variables": {},
   "exception": null,
   "input_path": "eBay_Overview.ipynb",
   "output_path": "eBay_Overview.ipynb",
   "parameters": {},
   "start_time": "2021-09-21T16:30:04.150946",
   "version": "2.3.3"
  }
 },
 "nbformat": 4,
 "nbformat_minor": 5
}