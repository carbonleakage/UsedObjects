{
 "cells": [
  {
   "cell_type": "code",
   "execution_count": 1,
   "id": "reverse-picking",
   "metadata": {
    "execution": {
     "iopub.execute_input": "2021-12-14T02:30:07.479691Z",
     "iopub.status.busy": "2021-12-14T02:30:07.469136Z",
     "iopub.status.idle": "2021-12-14T02:30:08.435313Z",
     "shell.execute_reply": "2021-12-14T02:30:08.437135Z"
    },
    "papermill": {
     "duration": 1.012959,
     "end_time": "2021-12-14T02:30:08.437883",
     "exception": false,
     "start_time": "2021-12-14T02:30:07.424924",
     "status": "completed"
    },
    "tags": []
   },
   "outputs": [],
   "source": [
    "import pandas as pd\n",
    "import sqlite3"
   ]
  },
  {
   "cell_type": "code",
   "execution_count": 2,
   "id": "innovative-syndrome",
   "metadata": {
    "execution": {
     "iopub.execute_input": "2021-12-14T02:30:08.506025Z",
     "iopub.status.busy": "2021-12-14T02:30:08.503434Z",
     "iopub.status.idle": "2021-12-14T02:30:09.602280Z",
     "shell.execute_reply": "2021-12-14T02:30:09.604394Z"
    },
    "papermill": {
     "duration": 1.133306,
     "end_time": "2021-12-14T02:30:09.604931",
     "exception": false,
     "start_time": "2021-12-14T02:30:08.471625",
     "status": "completed"
    },
    "tags": []
   },
   "outputs": [],
   "source": [
    "timestamps = pd.read_sql(\"select distinct record_time from EBAY_TOP_BERLIN order by record_time desc limit 2\", sqlite3.connect(\"UsedObjects.db\"))"
   ]
  },
  {
   "cell_type": "code",
   "execution_count": 3,
   "id": "periodic-identification",
   "metadata": {
    "execution": {
     "iopub.execute_input": "2021-12-14T02:30:09.680199Z",
     "iopub.status.busy": "2021-12-14T02:30:09.674215Z",
     "iopub.status.idle": "2021-12-14T02:30:09.696483Z",
     "shell.execute_reply": "2021-12-14T02:30:09.697952Z"
    },
    "papermill": {
     "duration": 0.072332,
     "end_time": "2021-12-14T02:30:09.698533",
     "exception": false,
     "start_time": "2021-12-14T02:30:09.626201",
     "status": "completed"
    },
    "tags": []
   },
   "outputs": [
    {
     "data": {
      "text/html": [
       "<div>\n",
       "<style scoped>\n",
       "    .dataframe tbody tr th:only-of-type {\n",
       "        vertical-align: middle;\n",
       "    }\n",
       "\n",
       "    .dataframe tbody tr th {\n",
       "        vertical-align: top;\n",
       "    }\n",
       "\n",
       "    .dataframe thead th {\n",
       "        text-align: right;\n",
       "    }\n",
       "</style>\n",
       "<table border=\"1\" class=\"dataframe\">\n",
       "  <thead>\n",
       "    <tr style=\"text-align: right;\">\n",
       "      <th></th>\n",
       "      <th>RECORD_TIME</th>\n",
       "    </tr>\n",
       "  </thead>\n",
       "  <tbody>\n",
       "    <tr>\n",
       "      <th>0</th>\n",
       "      <td>2021-12-14 03:30</td>\n",
       "    </tr>\n",
       "    <tr>\n",
       "      <th>1</th>\n",
       "      <td>2021-12-14 03:00</td>\n",
       "    </tr>\n",
       "  </tbody>\n",
       "</table>\n",
       "</div>"
      ],
      "text/plain": [
       "        RECORD_TIME\n",
       "0  2021-12-14 03:30\n",
       "1  2021-12-14 03:00"
      ]
     },
     "execution_count": 3,
     "metadata": {},
     "output_type": "execute_result"
    }
   ],
   "source": [
    "timestamps"
   ]
  },
  {
   "cell_type": "code",
   "execution_count": 4,
   "id": "alternate-victory",
   "metadata": {
    "execution": {
     "iopub.execute_input": "2021-12-14T02:30:09.753748Z",
     "iopub.status.busy": "2021-12-14T02:30:09.751469Z",
     "iopub.status.idle": "2021-12-14T02:30:11.317652Z",
     "shell.execute_reply": "2021-12-14T02:30:11.319307Z"
    },
    "papermill": {
     "duration": 1.600436,
     "end_time": "2021-12-14T02:30:11.319867",
     "exception": false,
     "start_time": "2021-12-14T02:30:09.719431",
     "status": "completed"
    },
    "tags": []
   },
   "outputs": [],
   "source": [
    "df = pd.read_sql(\"select * from EBAY_TOP_BERLIN where record_time in (select distinct record_time from EBAY_TOP_BERLIN order by record_time desc limit 2)\", sqlite3.connect(\"UsedObjects.db\"))"
   ]
  },
  {
   "cell_type": "code",
   "execution_count": 5,
   "id": "popular-active",
   "metadata": {
    "execution": {
     "iopub.execute_input": "2021-12-14T02:30:11.389802Z",
     "iopub.status.busy": "2021-12-14T02:30:11.387262Z",
     "iopub.status.idle": "2021-12-14T02:30:11.426927Z",
     "shell.execute_reply": "2021-12-14T02:30:11.428488Z"
    },
    "papermill": {
     "duration": 0.085567,
     "end_time": "2021-12-14T02:30:11.429164",
     "exception": false,
     "start_time": "2021-12-14T02:30:11.343597",
     "status": "completed"
    },
    "tags": []
   },
   "outputs": [],
   "source": [
    "df_pivot = df.pivot_table(index=\"PRODUCT\", columns = \"RECORD_TIME\", values = \"LISTING_COUNT\")"
   ]
  },
  {
   "cell_type": "code",
   "execution_count": 6,
   "id": "union-huntington",
   "metadata": {
    "execution": {
     "iopub.execute_input": "2021-12-14T02:30:11.490820Z",
     "iopub.status.busy": "2021-12-14T02:30:11.488607Z",
     "iopub.status.idle": "2021-12-14T02:30:11.494151Z",
     "shell.execute_reply": "2021-12-14T02:30:11.495574Z"
    },
    "papermill": {
     "duration": 0.044375,
     "end_time": "2021-12-14T02:30:11.496035",
     "exception": false,
     "start_time": "2021-12-14T02:30:11.451660",
     "status": "completed"
    },
    "tags": []
   },
   "outputs": [],
   "source": [
    "df_pivot.columns = [\"stamp_1\", \"stamp_2\"]\n",
    "df_pivot_diff = df_pivot.diff(axis=1)"
   ]
  },
  {
   "cell_type": "code",
   "execution_count": 7,
   "id": "fifth-motion",
   "metadata": {
    "execution": {
     "iopub.execute_input": "2021-12-14T02:30:11.551896Z",
     "iopub.status.busy": "2021-12-14T02:30:11.549466Z",
     "iopub.status.idle": "2021-12-14T02:30:13.550537Z",
     "shell.execute_reply": "2021-12-14T02:30:13.552660Z"
    },
    "papermill": {
     "duration": 2.037318,
     "end_time": "2021-12-14T02:30:13.553317",
     "exception": false,
     "start_time": "2021-12-14T02:30:11.515999",
     "status": "completed"
    },
    "tags": []
   },
   "outputs": [
    {
     "data": {
      "text/plain": [
       "<AxesSubplot:ylabel='PRODUCT'>"
      ]
     },
     "execution_count": 7,
     "metadata": {},
     "output_type": "execute_result"
    },
    {
     "data": {
      "image/png": "[encoded data removed]",
      "text/plain": [
       "<Figure size 432x288 with 1 Axes>"
      ]
     },
     "metadata": {
      "needs_background": "light"
     },
     "output_type": "display_data"
    }
   ],
   "source": [
    "df_pivot_diff.sort_values(\"stamp_2\", ascending = False)[\"stamp_2\"].head(10).plot.barh()"
   ]
  },
  {
   "cell_type": "code",
   "execution_count": null,
   "id": "extra-executive",
   "metadata": {
    "papermill": {
     "duration": 0.028042,
     "end_time": "2021-12-14T02:30:13.616143",
     "exception": false,
     "start_time": "2021-12-14T02:30:13.588101",
     "status": "completed"
    },
    "tags": []
   },
   "outputs": [],
   "source": []
  }
 ],
 "metadata": {
  "kernelspec": {
   "display_name": "Python 3",
   "language": "python",
   "name": "python3"
  },
  "language_info": {
   "codemirror_mode": {
    "name": "ipython",
    "version": 3
   },
   "file_extension": ".py",
   "mimetype": "text/x-python",
   "name": "python",
   "nbconvert_exporter": "python",
   "pygments_lexer": "ipython3",
   "version": "3.9.5"
  },
  "papermill": {
   "default_parameters": {},
   "duration": 9.583068,
   "end_time": "2021-12-14T02:30:14.265398",
   "environment_variables": {},
   "exception": null,
   "input_path": "eBay_Overview.ipynb",
   "output_path": "eBay_Overview.ipynb",
   "parameters": {},
   "start_time": "2021-12-14T02:30:04.682330",
   "version": "2.3.3"
  }
 },
 "nbformat": 4,
 "nbformat_minor": 5
}