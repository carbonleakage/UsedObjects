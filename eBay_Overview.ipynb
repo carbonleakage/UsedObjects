{
 "cells": [
  {
   "cell_type": "code",
   "execution_count": 1,
   "id": "reverse-picking",
   "metadata": {
    "execution": {
     "iopub.execute_input": "2021-11-29T14:00:07.164172Z",
     "iopub.status.busy": "2021-11-29T14:00:07.161833Z",
     "iopub.status.idle": "2021-11-29T14:00:08.093206Z",
     "shell.execute_reply": "2021-11-29T14:00:08.094960Z"
    },
    "papermill": {
     "duration": 0.982997,
     "end_time": "2021-11-29T14:00:08.096105",
     "exception": false,
     "start_time": "2021-11-29T14:00:07.113108",
     "status": "completed"
    },
    "tags": []
   },
   "outputs": [],
   "source": [
    "import pandas as pd\n",
    "import sqlite3"
   ]
  },
  {
   "cell_type": "code",
   "execution_count": 2,
   "id": "innovative-syndrome",
   "metadata": {
    "execution": {
     "iopub.execute_input": "2021-11-29T14:00:08.157931Z",
     "iopub.status.busy": "2021-11-29T14:00:08.155036Z",
     "iopub.status.idle": "2021-11-29T14:00:09.112557Z",
     "shell.execute_reply": "2021-11-29T14:00:09.114065Z"
    },
    "papermill": {
     "duration": 0.991089,
     "end_time": "2021-11-29T14:00:09.114528",
     "exception": false,
     "start_time": "2021-11-29T14:00:08.123439",
     "status": "completed"
    },
    "tags": []
   },
   "outputs": [],
   "source": [
    "timestamps = pd.read_sql(\"select distinct record_time from EBAY_TOP_BERLIN order by record_time desc limit 2\", sqlite3.connect(\"UsedObjects.db\"))"
   ]
  },
  {
   "cell_type": "code",
   "execution_count": 3,
   "id": "periodic-identification",
   "metadata": {
    "execution": {
     "iopub.execute_input": "2021-11-29T14:00:09.189978Z",
     "iopub.status.busy": "2021-11-29T14:00:09.183453Z",
     "iopub.status.idle": "2021-11-29T14:00:09.207787Z",
     "shell.execute_reply": "2021-11-29T14:00:09.209480Z"
    },
    "papermill": {
     "duration": 0.07379,
     "end_time": "2021-11-29T14:00:09.210014",
     "exception": false,
     "start_time": "2021-11-29T14:00:09.136224",
     "status": "completed"
    },
    "tags": []
   },
   "outputs": [
    {
     "data": {
      "text/html": [
       "<div>\n",
       "<style scoped>\n",
       "    .dataframe tbody tr th:only-of-type {\n",
       "        vertical-align: middle;\n",
       "    }\n",
       "\n",
       "    .dataframe tbody tr th {\n",
       "        vertical-align: top;\n",
       "    }\n",
       "\n",
       "    .dataframe thead th {\n",
       "        text-align: right;\n",
       "    }\n",
       "</style>\n",
       "<table border=\"1\" class=\"dataframe\">\n",
       "  <thead>\n",
       "    <tr style=\"text-align: right;\">\n",
       "      <th></th>\n",
       "      <th>RECORD_TIME</th>\n",
       "    </tr>\n",
       "  </thead>\n",
       "  <tbody>\n",
       "    <tr>\n",
       "      <th>0</th>\n",
       "      <td>2021-11-29 15:00</td>\n",
       "    </tr>\n",
       "    <tr>\n",
       "      <th>1</th>\n",
       "      <td>2021-11-29 14:30</td>\n",
       "    </tr>\n",
       "  </tbody>\n",
       "</table>\n",
       "</div>"
      ],
      "text/plain": [
       "        RECORD_TIME\n",
       "0  2021-11-29 15:00\n",
       "1  2021-11-29 14:30"
      ]
     },
     "execution_count": 3,
     "metadata": {},
     "output_type": "execute_result"
    }
   ],
   "source": [
    "timestamps"
   ]
  },
  {
   "cell_type": "code",
   "execution_count": 4,
   "id": "alternate-victory",
   "metadata": {
    "execution": {
     "iopub.execute_input": "2021-11-29T14:00:09.267929Z",
     "iopub.status.busy": "2021-11-29T14:00:09.265753Z",
     "iopub.status.idle": "2021-11-29T14:00:10.678576Z",
     "shell.execute_reply": "2021-11-29T14:00:10.679873Z"
    },
    "papermill": {
     "duration": 1.447802,
     "end_time": "2021-11-29T14:00:10.680334",
     "exception": false,
     "start_time": "2021-11-29T14:00:09.232532",
     "status": "completed"
    },
    "tags": []
   },
   "outputs": [],
   "source": [
    "df = pd.read_sql(\"select * from EBAY_TOP_BERLIN where record_time in (select distinct record_time from EBAY_TOP_BERLIN order by record_time desc limit 2)\", sqlite3.connect(\"UsedObjects.db\"))"
   ]
  },
  {
   "cell_type": "code",
   "execution_count": 5,
   "id": "popular-active",
   "metadata": {
    "execution": {
     "iopub.execute_input": "2021-11-29T14:00:10.758632Z",
     "iopub.status.busy": "2021-11-29T14:00:10.746134Z",
     "iopub.status.idle": "2021-11-29T14:00:10.780453Z",
     "shell.execute_reply": "2021-11-29T14:00:10.778819Z"
    },
    "papermill": {
     "duration": 0.0784,
     "end_time": "2021-11-29T14:00:10.780945",
     "exception": false,
     "start_time": "2021-11-29T14:00:10.702545",
     "status": "completed"
    },
    "tags": []
   },
   "outputs": [],
   "source": [
    "df_pivot = df.pivot_table(index=\"PRODUCT\", columns = \"RECORD_TIME\", values = \"LISTING_COUNT\")"
   ]
  },
  {
   "cell_type": "code",
   "execution_count": 6,
   "id": "union-huntington",
   "metadata": {
    "execution": {
     "iopub.execute_input": "2021-11-29T14:00:10.842580Z",
     "iopub.status.busy": "2021-11-29T14:00:10.840323Z",
     "iopub.status.idle": "2021-11-29T14:00:10.846367Z",
     "shell.execute_reply": "2021-11-29T14:00:10.847836Z"
    },
    "papermill": {
     "duration": 0.045256,
     "end_time": "2021-11-29T14:00:10.848310",
     "exception": false,
     "start_time": "2021-11-29T14:00:10.803054",
     "status": "completed"
    },
    "tags": []
   },
   "outputs": [],
   "source": [
    "df_pivot.columns = [\"stamp_1\", \"stamp_2\"]\n",
    "df_pivot_diff = df_pivot.diff(axis=1)"
   ]
  },
  {
   "cell_type": "code",
   "execution_count": 7,
   "id": "fifth-motion",
   "metadata": {
    "execution": {
     "iopub.execute_input": "2021-11-29T14:00:10.904171Z",
     "iopub.status.busy": "2021-11-29T14:00:10.901701Z",
     "iopub.status.idle": "2021-11-29T14:00:12.785288Z",
     "shell.execute_reply": "2021-11-29T14:00:12.787094Z"
    },
    "papermill": {
     "duration": 1.919297,
     "end_time": "2021-11-29T14:00:12.787668",
     "exception": false,
     "start_time": "2021-11-29T14:00:10.868371",
     "status": "completed"
    },
    "tags": []
   },
   "outputs": [
    {
     "data": {
      "text/plain": [
       "<AxesSubplot:ylabel='PRODUCT'>"
      ]
     },
     "execution_count": 7,
     "metadata": {},
     "output_type": "execute_result"
    },
    {
     "data": {
      "image/png": "[encoded data removed]",
      "text/plain": [
       "<Figure size 432x288 with 1 Axes>"
      ]
     },
     "metadata": {
      "needs_background": "light"
     },
     "output_type": "display_data"
    }
   ],
   "source": [
    "df_pivot_diff.sort_values(\"stamp_2\", ascending = False)[\"stamp_2\"].head(10).plot.barh()"
   ]
  },
  {
   "cell_type": "code",
   "execution_count": null,
   "id": "extra-executive",
   "metadata": {
    "papermill": {
     "duration": 0.036344,
     "end_time": "2021-11-29T14:00:12.854734",
     "exception": false,
     "start_time": "2021-11-29T14:00:12.818390",
     "status": "completed"
    },
    "tags": []
   },
   "outputs": [],
   "source": []
  }
 ],
 "metadata": {
  "kernelspec": {
   "display_name": "Python 3",
   "language": "python",
   "name": "python3"
  },
  "language_info": {
   "codemirror_mode": {
    "name": "ipython",
    "version": 3
   },
   "file_extension": ".py",
   "mimetype": "text/x-python",
   "name": "python",
   "nbconvert_exporter": "python",
   "pygments_lexer": "ipython3",
   "version": "3.9.5"
  },
  "papermill": {
   "default_parameters": {},
   "duration": 9.927886,
   "end_time": "2021-11-29T14:00:14.319679",
   "environment_variables": {},
   "exception": null,
   "input_path": "eBay_Overview.ipynb",
   "output_path": "eBay_Overview.ipynb",
   "parameters": {},
   "start_time": "2021-11-29T14:00:04.391793",
   "version": "2.3.3"
  }
 },
 "nbformat": 4,
 "nbformat_minor": 5
}