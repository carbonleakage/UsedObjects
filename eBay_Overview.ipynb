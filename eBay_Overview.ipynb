{
 "cells": [
  {
   "cell_type": "code",
   "execution_count": 1,
   "id": "reverse-picking",
   "metadata": {
    "execution": {
     "iopub.execute_input": "2021-12-07T22:00:08.003899Z",
     "iopub.status.busy": "2021-12-07T22:00:08.001614Z",
     "iopub.status.idle": "2021-12-07T22:00:08.958767Z",
     "shell.execute_reply": "2021-12-07T22:00:08.956663Z"
    },
    "papermill": {
     "duration": 1.004968,
     "end_time": "2021-12-07T22:00:08.959270",
     "exception": false,
     "start_time": "2021-12-07T22:00:07.954302",
     "status": "completed"
    },
    "tags": []
   },
   "outputs": [],
   "source": [
    "import pandas as pd\n",
    "import sqlite3"
   ]
  },
  {
   "cell_type": "code",
   "execution_count": 2,
   "id": "innovative-syndrome",
   "metadata": {
    "execution": {
     "iopub.execute_input": "2021-12-07T22:00:09.023048Z",
     "iopub.status.busy": "2021-12-07T22:00:09.020752Z",
     "iopub.status.idle": "2021-12-07T22:00:10.053844Z",
     "shell.execute_reply": "2021-12-07T22:00:10.055355Z"
    },
    "papermill": {
     "duration": 1.065985,
     "end_time": "2021-12-07T22:00:10.055839",
     "exception": false,
     "start_time": "2021-12-07T22:00:08.989854",
     "status": "completed"
    },
    "tags": []
   },
   "outputs": [],
   "source": [
    "timestamps = pd.read_sql(\"select distinct record_time from EBAY_TOP_BERLIN order by record_time desc limit 2\", sqlite3.connect(\"UsedObjects.db\"))"
   ]
  },
  {
   "cell_type": "code",
   "execution_count": 3,
   "id": "periodic-identification",
   "metadata": {
    "execution": {
     "iopub.execute_input": "2021-12-07T22:00:10.146072Z",
     "iopub.status.busy": "2021-12-07T22:00:10.140658Z",
     "iopub.status.idle": "2021-12-07T22:00:10.181340Z",
     "shell.execute_reply": "2021-12-07T22:00:10.179753Z"
    },
    "papermill": {
     "duration": 0.104398,
     "end_time": "2021-12-07T22:00:10.181773",
     "exception": false,
     "start_time": "2021-12-07T22:00:10.077375",
     "status": "completed"
    },
    "tags": []
   },
   "outputs": [
    {
     "data": {
      "text/html": [
       "<div>\n",
       "<style scoped>\n",
       "    .dataframe tbody tr th:only-of-type {\n",
       "        vertical-align: middle;\n",
       "    }\n",
       "\n",
       "    .dataframe tbody tr th {\n",
       "        vertical-align: top;\n",
       "    }\n",
       "\n",
       "    .dataframe thead th {\n",
       "        text-align: right;\n",
       "    }\n",
       "</style>\n",
       "<table border=\"1\" class=\"dataframe\">\n",
       "  <thead>\n",
       "    <tr style=\"text-align: right;\">\n",
       "      <th></th>\n",
       "      <th>RECORD_TIME</th>\n",
       "    </tr>\n",
       "  </thead>\n",
       "  <tbody>\n",
       "    <tr>\n",
       "      <th>0</th>\n",
       "      <td>2021-12-07 23:00</td>\n",
       "    </tr>\n",
       "    <tr>\n",
       "      <th>1</th>\n",
       "      <td>2021-12-07 22:30</td>\n",
       "    </tr>\n",
       "  </tbody>\n",
       "</table>\n",
       "</div>"
      ],
      "text/plain": [
       "        RECORD_TIME\n",
       "0  2021-12-07 23:00\n",
       "1  2021-12-07 22:30"
      ]
     },
     "execution_count": 3,
     "metadata": {},
     "output_type": "execute_result"
    }
   ],
   "source": [
    "timestamps"
   ]
  },
  {
   "cell_type": "code",
   "execution_count": 4,
   "id": "alternate-victory",
   "metadata": {
    "execution": {
     "iopub.execute_input": "2021-12-07T22:00:10.239773Z",
     "iopub.status.busy": "2021-12-07T22:00:10.237536Z",
     "iopub.status.idle": "2021-12-07T22:00:11.718534Z",
     "shell.execute_reply": "2021-12-07T22:00:11.721441Z"
    },
    "papermill": {
     "duration": 1.517552,
     "end_time": "2021-12-07T22:00:11.722299",
     "exception": false,
     "start_time": "2021-12-07T22:00:10.204747",
     "status": "completed"
    },
    "tags": []
   },
   "outputs": [],
   "source": [
    "df = pd.read_sql(\"select * from EBAY_TOP_BERLIN where record_time in (select distinct record_time from EBAY_TOP_BERLIN order by record_time desc limit 2)\", sqlite3.connect(\"UsedObjects.db\"))"
   ]
  },
  {
   "cell_type": "code",
   "execution_count": 5,
   "id": "popular-active",
   "metadata": {
    "execution": {
     "iopub.execute_input": "2021-12-07T22:00:11.838667Z",
     "iopub.status.busy": "2021-12-07T22:00:11.818405Z",
     "iopub.status.idle": "2021-12-07T22:00:11.883316Z",
     "shell.execute_reply": "2021-12-07T22:00:11.885620Z"
    },
    "papermill": {
     "duration": 0.130625,
     "end_time": "2021-12-07T22:00:11.886258",
     "exception": false,
     "start_time": "2021-12-07T22:00:11.755633",
     "status": "completed"
    },
    "tags": []
   },
   "outputs": [],
   "source": [
    "df_pivot = df.pivot_table(index=\"PRODUCT\", columns = \"RECORD_TIME\", values = \"LISTING_COUNT\")"
   ]
  },
  {
   "cell_type": "code",
   "execution_count": 6,
   "id": "union-huntington",
   "metadata": {
    "execution": {
     "iopub.execute_input": "2021-12-07T22:00:11.969769Z",
     "iopub.status.busy": "2021-12-07T22:00:11.965715Z",
     "iopub.status.idle": "2021-12-07T22:00:11.977159Z",
     "shell.execute_reply": "2021-12-07T22:00:11.980009Z"
    },
    "papermill": {
     "duration": 0.064136,
     "end_time": "2021-12-07T22:00:11.981055",
     "exception": false,
     "start_time": "2021-12-07T22:00:11.916919",
     "status": "completed"
    },
    "tags": []
   },
   "outputs": [],
   "source": [
    "df_pivot.columns = [\"stamp_1\", \"stamp_2\"]\n",
    "df_pivot_diff = df_pivot.diff(axis=1)"
   ]
  },
  {
   "cell_type": "code",
   "execution_count": 7,
   "id": "fifth-motion",
   "metadata": {
    "execution": {
     "iopub.execute_input": "2021-12-07T22:00:12.066101Z",
     "iopub.status.busy": "2021-12-07T22:00:12.061880Z",
     "iopub.status.idle": "2021-12-07T22:00:13.828567Z",
     "shell.execute_reply": "2021-12-07T22:00:13.830259Z"
    },
    "papermill": {
     "duration": 1.8179,
     "end_time": "2021-12-07T22:00:13.830764",
     "exception": false,
     "start_time": "2021-12-07T22:00:12.012864",
     "status": "completed"
    },
    "tags": []
   },
   "outputs": [
    {
     "data": {
      "text/plain": [
       "<AxesSubplot:ylabel='PRODUCT'>"
      ]
     },
     "execution_count": 7,
     "metadata": {},
     "output_type": "execute_result"
    },
    {
     "data": {
      "image/png": "[encoded data removed]",
      "text/plain": [
       "<Figure size 432x288 with 1 Axes>"
      ]
     },
     "metadata": {
      "needs_background": "light"
     },
     "output_type": "display_data"
    }
   ],
   "source": [
    "df_pivot_diff.sort_values(\"stamp_2\", ascending = False)[\"stamp_2\"].head(10).plot.barh()"
   ]
  },
  {
   "cell_type": "code",
   "execution_count": null,
   "id": "extra-executive",
   "metadata": {
    "papermill": {
     "duration": 0.022665,
     "end_time": "2021-12-07T22:00:13.878491",
     "exception": false,
     "start_time": "2021-12-07T22:00:13.855826",
     "status": "completed"
    },
    "tags": []
   },
   "outputs": [],
   "source": []
  }
 ],
 "metadata": {
  "kernelspec": {
   "display_name": "Python 3",
   "language": "python",
   "name": "python3"
  },
  "language_info": {
   "codemirror_mode": {
    "name": "ipython",
    "version": 3
   },
   "file_extension": ".py",
   "mimetype": "text/x-python",
   "name": "python",
   "nbconvert_exporter": "python",
   "pygments_lexer": "ipython3",
   "version": "3.9.5"
  },
  "papermill": {
   "default_parameters": {},
   "duration": 9.934909,
   "end_time": "2021-12-07T22:00:15.171971",
   "environment_variables": {},
   "exception": null,
   "input_path": "eBay_Overview.ipynb",
   "output_path": "eBay_Overview.ipynb",
   "parameters": {},
   "start_time": "2021-12-07T22:00:05.237062",
   "version": "2.3.3"
  }
 },
 "nbformat": 4,
 "nbformat_minor": 5
}