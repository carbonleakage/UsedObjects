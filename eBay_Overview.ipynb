{
 "cells": [
  {
   "cell_type": "code",
   "execution_count": 1,
   "id": "reverse-picking",
   "metadata": {
    "execution": {
     "iopub.execute_input": "2021-10-24T07:00:07.206387Z",
     "iopub.status.busy": "2021-10-24T07:00:07.204391Z",
     "iopub.status.idle": "2021-10-24T07:00:08.012051Z",
     "shell.execute_reply": "2021-10-24T07:00:08.013533Z"
    },
    "papermill": {
     "duration": 0.860443,
     "end_time": "2021-10-24T07:00:08.014187",
     "exception": false,
     "start_time": "2021-10-24T07:00:07.153744",
     "status": "completed"
    },
    "tags": []
   },
   "outputs": [],
   "source": [
    "import pandas as pd\n",
    "import sqlite3"
   ]
  },
  {
   "cell_type": "code",
   "execution_count": 2,
   "id": "innovative-syndrome",
   "metadata": {
    "execution": {
     "iopub.execute_input": "2021-10-24T07:00:08.066327Z",
     "iopub.status.busy": "2021-10-24T07:00:08.063918Z",
     "iopub.status.idle": "2021-10-24T07:00:08.693710Z",
     "shell.execute_reply": "2021-10-24T07:00:08.694921Z"
    },
    "papermill": {
     "duration": 0.659696,
     "end_time": "2021-10-24T07:00:08.695311",
     "exception": false,
     "start_time": "2021-10-24T07:00:08.035615",
     "status": "completed"
    },
    "tags": []
   },
   "outputs": [],
   "source": [
    "timestamps = pd.read_sql(\"select distinct record_time from EBAY_TOP_BERLIN order by record_time desc limit 2\", sqlite3.connect(\"UsedObjects.db\"))"
   ]
  },
  {
   "cell_type": "code",
   "execution_count": 3,
   "id": "periodic-identification",
   "metadata": {
    "execution": {
     "iopub.execute_input": "2021-10-24T07:00:08.776230Z",
     "iopub.status.busy": "2021-10-24T07:00:08.774193Z",
     "iopub.status.idle": "2021-10-24T07:00:08.793985Z",
     "shell.execute_reply": "2021-10-24T07:00:08.795211Z"
    },
    "papermill": {
     "duration": 0.068874,
     "end_time": "2021-10-24T07:00:08.795608",
     "exception": false,
     "start_time": "2021-10-24T07:00:08.726734",
     "status": "completed"
    },
    "tags": []
   },
   "outputs": [
    {
     "data": {
      "text/html": [
       "<div>\n",
       "<style scoped>\n",
       "    .dataframe tbody tr th:only-of-type {\n",
       "        vertical-align: middle;\n",
       "    }\n",
       "\n",
       "    .dataframe tbody tr th {\n",
       "        vertical-align: top;\n",
       "    }\n",
       "\n",
       "    .dataframe thead th {\n",
       "        text-align: right;\n",
       "    }\n",
       "</style>\n",
       "<table border=\"1\" class=\"dataframe\">\n",
       "  <thead>\n",
       "    <tr style=\"text-align: right;\">\n",
       "      <th></th>\n",
       "      <th>RECORD_TIME</th>\n",
       "    </tr>\n",
       "  </thead>\n",
       "  <tbody>\n",
       "    <tr>\n",
       "      <th>0</th>\n",
       "      <td>2021-10-24 09:00</td>\n",
       "    </tr>\n",
       "    <tr>\n",
       "      <th>1</th>\n",
       "      <td>2021-10-24 08:30</td>\n",
       "    </tr>\n",
       "  </tbody>\n",
       "</table>\n",
       "</div>"
      ],
      "text/plain": [
       "        RECORD_TIME\n",
       "0  2021-10-24 09:00\n",
       "1  2021-10-24 08:30"
      ]
     },
     "execution_count": 3,
     "metadata": {},
     "output_type": "execute_result"
    }
   ],
   "source": [
    "timestamps"
   ]
  },
  {
   "cell_type": "code",
   "execution_count": 4,
   "id": "alternate-victory",
   "metadata": {
    "execution": {
     "iopub.execute_input": "2021-10-24T07:00:08.847945Z",
     "iopub.status.busy": "2021-10-24T07:00:08.845647Z",
     "iopub.status.idle": "2021-10-24T07:00:09.777166Z",
     "shell.execute_reply": "2021-10-24T07:00:09.778409Z"
    },
    "papermill": {
     "duration": 0.961917,
     "end_time": "2021-10-24T07:00:09.778803",
     "exception": false,
     "start_time": "2021-10-24T07:00:08.816886",
     "status": "completed"
    },
    "tags": []
   },
   "outputs": [],
   "source": [
    "df = pd.read_sql(\"select * from EBAY_TOP_BERLIN where record_time in (select distinct record_time from EBAY_TOP_BERLIN order by record_time desc limit 2)\", sqlite3.connect(\"UsedObjects.db\"))"
   ]
  },
  {
   "cell_type": "code",
   "execution_count": 5,
   "id": "popular-active",
   "metadata": {
    "execution": {
     "iopub.execute_input": "2021-10-24T07:00:09.853166Z",
     "iopub.status.busy": "2021-10-24T07:00:09.842207Z",
     "iopub.status.idle": "2021-10-24T07:00:09.868510Z",
     "shell.execute_reply": "2021-10-24T07:00:09.869802Z"
    },
    "papermill": {
     "duration": 0.068032,
     "end_time": "2021-10-24T07:00:09.870201",
     "exception": false,
     "start_time": "2021-10-24T07:00:09.802169",
     "status": "completed"
    },
    "tags": []
   },
   "outputs": [],
   "source": [
    "df_pivot = df.pivot_table(index=\"PRODUCT\", columns = \"RECORD_TIME\", values = \"LISTING_COUNT\")"
   ]
  },
  {
   "cell_type": "code",
   "execution_count": 6,
   "id": "union-huntington",
   "metadata": {
    "execution": {
     "iopub.execute_input": "2021-10-24T07:00:09.927289Z",
     "iopub.status.busy": "2021-10-24T07:00:09.925133Z",
     "iopub.status.idle": "2021-10-24T07:00:09.930672Z",
     "shell.execute_reply": "2021-10-24T07:00:09.932024Z"
    },
    "papermill": {
     "duration": 0.040764,
     "end_time": "2021-10-24T07:00:09.932458",
     "exception": false,
     "start_time": "2021-10-24T07:00:09.891694",
     "status": "completed"
    },
    "tags": []
   },
   "outputs": [],
   "source": [
    "df_pivot.columns = [\"stamp_1\", \"stamp_2\"]\n",
    "df_pivot_diff = df_pivot.diff(axis=1)"
   ]
  },
  {
   "cell_type": "code",
   "execution_count": 7,
   "id": "fifth-motion",
   "metadata": {
    "execution": {
     "iopub.execute_input": "2021-10-24T07:00:09.989845Z",
     "iopub.status.busy": "2021-10-24T07:00:09.987154Z",
     "iopub.status.idle": "2021-10-24T07:00:11.483821Z",
     "shell.execute_reply": "2021-10-24T07:00:11.482335Z"
    },
    "papermill": {
     "duration": 1.52874,
     "end_time": "2021-10-24T07:00:11.484189",
     "exception": false,
     "start_time": "2021-10-24T07:00:09.955449",
     "status": "completed"
    },
    "tags": []
   },
   "outputs": [
    {
     "data": {
      "text/plain": [
       "<AxesSubplot:ylabel='PRODUCT'>"
      ]
     },
     "execution_count": 7,
     "metadata": {},
     "output_type": "execute_result"
    },
    {
     "data": {
      "image/png": "[encoded data removed]",
      "text/plain": [
       "<Figure size 432x288 with 1 Axes>"
      ]
     },
     "metadata": {
      "needs_background": "light"
     },
     "output_type": "display_data"
    }
   ],
   "source": [
    "df_pivot_diff.sort_values(\"stamp_2\", ascending = False)[\"stamp_2\"].head(10).plot.barh()"
   ]
  },
  {
   "cell_type": "code",
   "execution_count": null,
   "id": "extra-executive",
   "metadata": {
    "papermill": {
     "duration": 0.022126,
     "end_time": "2021-10-24T07:00:11.531314",
     "exception": false,
     "start_time": "2021-10-24T07:00:11.509188",
     "status": "completed"
    },
    "tags": []
   },
   "outputs": [],
   "source": []
  }
 ],
 "metadata": {
  "kernelspec": {
   "display_name": "Python 3",
   "language": "python",
   "name": "python3"
  },
  "language_info": {
   "codemirror_mode": {
    "name": "ipython",
    "version": 3
   },
   "file_extension": ".py",
   "mimetype": "text/x-python",
   "name": "python",
   "nbconvert_exporter": "python",
   "pygments_lexer": "ipython3",
   "version": "3.9.5"
  },
  "papermill": {
   "default_parameters": {},
   "duration": 7.417953,
   "end_time": "2021-10-24T07:00:12.175713",
   "environment_variables": {},
   "exception": null,
   "input_path": "eBay_Overview.ipynb",
   "output_path": "eBay_Overview.ipynb",
   "parameters": {},
   "start_time": "2021-10-24T07:00:04.757760",
   "version": "2.3.3"
  }
 },
 "nbformat": 4,
 "nbformat_minor": 5
}