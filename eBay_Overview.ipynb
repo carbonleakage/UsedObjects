{
 "cells": [
  {
   "cell_type": "code",
   "execution_count": 1,
   "id": "reverse-picking",
   "metadata": {
    "execution": {
     "iopub.execute_input": "2021-12-21T05:00:07.875814Z",
     "iopub.status.busy": "2021-12-21T05:00:07.873645Z",
     "iopub.status.idle": "2021-12-21T05:00:08.829846Z",
     "shell.execute_reply": "2021-12-21T05:00:08.831407Z"
    },
    "papermill": {
     "duration": 1.009703,
     "end_time": "2021-12-21T05:00:08.832146",
     "exception": false,
     "start_time": "2021-12-21T05:00:07.822443",
     "status": "completed"
    },
    "tags": []
   },
   "outputs": [],
   "source": [
    "import pandas as pd\n",
    "import sqlite3"
   ]
  },
  {
   "cell_type": "code",
   "execution_count": 2,
   "id": "innovative-syndrome",
   "metadata": {
    "execution": {
     "iopub.execute_input": "2021-12-21T05:00:08.901300Z",
     "iopub.status.busy": "2021-12-21T05:00:08.898965Z",
     "iopub.status.idle": "2021-12-21T05:00:10.043535Z",
     "shell.execute_reply": "2021-12-21T05:00:10.044902Z"
    },
    "papermill": {
     "duration": 1.179532,
     "end_time": "2021-12-21T05:00:10.045345",
     "exception": false,
     "start_time": "2021-12-21T05:00:08.865813",
     "status": "completed"
    },
    "tags": []
   },
   "outputs": [],
   "source": [
    "timestamps = pd.read_sql(\"select distinct record_time from EBAY_TOP_BERLIN order by record_time desc limit 2\", sqlite3.connect(\"UsedObjects.db\"))"
   ]
  },
  {
   "cell_type": "code",
   "execution_count": 3,
   "id": "periodic-identification",
   "metadata": {
    "execution": {
     "iopub.execute_input": "2021-12-21T05:00:10.113687Z",
     "iopub.status.busy": "2021-12-21T05:00:10.111352Z",
     "iopub.status.idle": "2021-12-21T05:00:10.132517Z",
     "shell.execute_reply": "2021-12-21T05:00:10.133968Z"
    },
    "papermill": {
     "duration": 0.067451,
     "end_time": "2021-12-21T05:00:10.134445",
     "exception": false,
     "start_time": "2021-12-21T05:00:10.066994",
     "status": "completed"
    },
    "tags": []
   },
   "outputs": [
    {
     "data": {
      "text/html": [
       "<div>\n",
       "<style scoped>\n",
       "    .dataframe tbody tr th:only-of-type {\n",
       "        vertical-align: middle;\n",
       "    }\n",
       "\n",
       "    .dataframe tbody tr th {\n",
       "        vertical-align: top;\n",
       "    }\n",
       "\n",
       "    .dataframe thead th {\n",
       "        text-align: right;\n",
       "    }\n",
       "</style>\n",
       "<table border=\"1\" class=\"dataframe\">\n",
       "  <thead>\n",
       "    <tr style=\"text-align: right;\">\n",
       "      <th></th>\n",
       "      <th>RECORD_TIME</th>\n",
       "    </tr>\n",
       "  </thead>\n",
       "  <tbody>\n",
       "    <tr>\n",
       "      <th>0</th>\n",
       "      <td>2021-12-21 06:00</td>\n",
       "    </tr>\n",
       "    <tr>\n",
       "      <th>1</th>\n",
       "      <td>2021-12-21 05:30</td>\n",
       "    </tr>\n",
       "  </tbody>\n",
       "</table>\n",
       "</div>"
      ],
      "text/plain": [
       "        RECORD_TIME\n",
       "0  2021-12-21 06:00\n",
       "1  2021-12-21 05:30"
      ]
     },
     "execution_count": 3,
     "metadata": {},
     "output_type": "execute_result"
    }
   ],
   "source": [
    "timestamps"
   ]
  },
  {
   "cell_type": "code",
   "execution_count": 4,
   "id": "alternate-victory",
   "metadata": {
    "execution": {
     "iopub.execute_input": "2021-12-21T05:00:10.188710Z",
     "iopub.status.busy": "2021-12-21T05:00:10.186499Z",
     "iopub.status.idle": "2021-12-21T05:00:11.860095Z",
     "shell.execute_reply": "2021-12-21T05:00:11.861746Z"
    },
    "papermill": {
     "duration": 1.707193,
     "end_time": "2021-12-21T05:00:11.862222",
     "exception": false,
     "start_time": "2021-12-21T05:00:10.155029",
     "status": "completed"
    },
    "tags": []
   },
   "outputs": [],
   "source": [
    "df = pd.read_sql(\"select * from EBAY_TOP_BERLIN where record_time in (select distinct record_time from EBAY_TOP_BERLIN order by record_time desc limit 2)\", sqlite3.connect(\"UsedObjects.db\"))"
   ]
  },
  {
   "cell_type": "code",
   "execution_count": 5,
   "id": "popular-active",
   "metadata": {
    "execution": {
     "iopub.execute_input": "2021-12-21T05:00:11.941135Z",
     "iopub.status.busy": "2021-12-21T05:00:11.928231Z",
     "iopub.status.idle": "2021-12-21T05:00:11.958990Z",
     "shell.execute_reply": "2021-12-21T05:00:11.960499Z"
    },
    "papermill": {
     "duration": 0.076486,
     "end_time": "2021-12-21T05:00:11.961056",
     "exception": false,
     "start_time": "2021-12-21T05:00:11.884570",
     "status": "completed"
    },
    "tags": []
   },
   "outputs": [],
   "source": [
    "df_pivot = df.pivot_table(index=\"PRODUCT\", columns = \"RECORD_TIME\", values = \"LISTING_COUNT\")"
   ]
  },
  {
   "cell_type": "code",
   "execution_count": 6,
   "id": "union-huntington",
   "metadata": {
    "execution": {
     "iopub.execute_input": "2021-12-21T05:00:12.019639Z",
     "iopub.status.busy": "2021-12-21T05:00:12.017425Z",
     "iopub.status.idle": "2021-12-21T05:00:12.026413Z",
     "shell.execute_reply": "2021-12-21T05:00:12.023235Z"
    },
    "papermill": {
     "duration": 0.04569,
     "end_time": "2021-12-21T05:00:12.026992",
     "exception": false,
     "start_time": "2021-12-21T05:00:11.981302",
     "status": "completed"
    },
    "tags": []
   },
   "outputs": [],
   "source": [
    "df_pivot.columns = [\"stamp_1\", \"stamp_2\"]\n",
    "df_pivot_diff = df_pivot.diff(axis=1)"
   ]
  },
  {
   "cell_type": "code",
   "execution_count": 7,
   "id": "fifth-motion",
   "metadata": {
    "execution": {
     "iopub.execute_input": "2021-12-21T05:00:12.089664Z",
     "iopub.status.busy": "2021-12-21T05:00:12.087005Z",
     "iopub.status.idle": "2021-12-21T05:00:14.052827Z",
     "shell.execute_reply": "2021-12-21T05:00:14.054498Z"
    },
    "papermill": {
     "duration": 2.004569,
     "end_time": "2021-12-21T05:00:14.054999",
     "exception": false,
     "start_time": "2021-12-21T05:00:12.050430",
     "status": "completed"
    },
    "tags": []
   },
   "outputs": [
    {
     "data": {
      "text/plain": [
       "<AxesSubplot:ylabel='PRODUCT'>"
      ]
     },
     "execution_count": 7,
     "metadata": {},
     "output_type": "execute_result"
    },
    {
     "data": {
      "image/png": "[encoded data removed]",
      "text/plain": [
       "<Figure size 432x288 with 1 Axes>"
      ]
     },
     "metadata": {
      "needs_background": "light"
     },
     "output_type": "display_data"
    }
   ],
   "source": [
    "df_pivot_diff.sort_values(\"stamp_2\", ascending = False)[\"stamp_2\"].head(10).plot.barh()"
   ]
  },
  {
   "cell_type": "code",
   "execution_count": null,
   "id": "extra-executive",
   "metadata": {
    "papermill": {
     "duration": 0.027324,
     "end_time": "2021-12-21T05:00:14.124824",
     "exception": false,
     "start_time": "2021-12-21T05:00:14.097500",
     "status": "completed"
    },
    "tags": []
   },
   "outputs": [],
   "source": []
  }
 ],
 "metadata": {
  "kernelspec": {
   "display_name": "Python 3",
   "language": "python",
   "name": "python3"
  },
  "language_info": {
   "codemirror_mode": {
    "name": "ipython",
    "version": 3
   },
   "file_extension": ".py",
   "mimetype": "text/x-python",
   "name": "python",
   "nbconvert_exporter": "python",
   "pygments_lexer": "ipython3",
   "version": "3.9.5"
  },
  "papermill": {
   "default_parameters": {},
   "duration": 9.678562,
   "end_time": "2021-12-21T05:00:14.781193",
   "environment_variables": {},
   "exception": null,
   "input_path": "eBay_Overview.ipynb",
   "output_path": "eBay_Overview.ipynb",
   "parameters": {},
   "start_time": "2021-12-21T05:00:05.102631",
   "version": "2.3.3"
  }
 },
 "nbformat": 4,
 "nbformat_minor": 5
}