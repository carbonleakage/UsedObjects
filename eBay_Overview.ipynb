{
 "cells": [
  {
   "cell_type": "code",
   "execution_count": 1,
   "id": "reverse-picking",
   "metadata": {
    "execution": {
     "iopub.execute_input": "2021-08-18T22:30:07.453289Z",
     "iopub.status.busy": "2021-08-18T22:30:07.451386Z",
     "iopub.status.idle": "2021-08-18T22:30:08.254974Z",
     "shell.execute_reply": "2021-08-18T22:30:08.256230Z"
    },
    "papermill": {
     "duration": 0.854098,
     "end_time": "2021-08-18T22:30:08.256851",
     "exception": false,
     "start_time": "2021-08-18T22:30:07.402753",
     "status": "completed"
    },
    "tags": []
   },
   "outputs": [],
   "source": [
    "import pandas as pd\n",
    "import sqlite3"
   ]
  },
  {
   "cell_type": "code",
   "execution_count": 2,
   "id": "innovative-syndrome",
   "metadata": {
    "execution": {
     "iopub.execute_input": "2021-08-18T22:30:08.310746Z",
     "iopub.status.busy": "2021-08-18T22:30:08.308355Z",
     "iopub.status.idle": "2021-08-18T22:30:08.390411Z",
     "shell.execute_reply": "2021-08-18T22:30:08.391876Z"
    },
    "papermill": {
     "duration": 0.112299,
     "end_time": "2021-08-18T22:30:08.392317",
     "exception": false,
     "start_time": "2021-08-18T22:30:08.280018",
     "status": "completed"
    },
    "tags": []
   },
   "outputs": [],
   "source": [
    "timestamps = pd.read_sql(\"select distinct record_time from EBAY_TOP_BERLIN order by record_time desc limit 2\", sqlite3.connect(\"UsedObjects.db\"))"
   ]
  },
  {
   "cell_type": "code",
   "execution_count": 3,
   "id": "periodic-identification",
   "metadata": {
    "execution": {
     "iopub.execute_input": "2021-08-18T22:30:08.462483Z",
     "iopub.status.busy": "2021-08-18T22:30:08.457258Z",
     "iopub.status.idle": "2021-08-18T22:30:08.477352Z",
     "shell.execute_reply": "2021-08-18T22:30:08.478829Z"
    },
    "papermill": {
     "duration": 0.066995,
     "end_time": "2021-08-18T22:30:08.479274",
     "exception": false,
     "start_time": "2021-08-18T22:30:08.412279",
     "status": "completed"
    },
    "tags": []
   },
   "outputs": [
    {
     "data": {
      "text/html": [
       "<div>\n",
       "<style scoped>\n",
       "    .dataframe tbody tr th:only-of-type {\n",
       "        vertical-align: middle;\n",
       "    }\n",
       "\n",
       "    .dataframe tbody tr th {\n",
       "        vertical-align: top;\n",
       "    }\n",
       "\n",
       "    .dataframe thead th {\n",
       "        text-align: right;\n",
       "    }\n",
       "</style>\n",
       "<table border=\"1\" class=\"dataframe\">\n",
       "  <thead>\n",
       "    <tr style=\"text-align: right;\">\n",
       "      <th></th>\n",
       "      <th>RECORD_TIME</th>\n",
       "    </tr>\n",
       "  </thead>\n",
       "  <tbody>\n",
       "    <tr>\n",
       "      <th>0</th>\n",
       "      <td>2021-08-19 00:30</td>\n",
       "    </tr>\n",
       "    <tr>\n",
       "      <th>1</th>\n",
       "      <td>2021-08-19 00:00</td>\n",
       "    </tr>\n",
       "  </tbody>\n",
       "</table>\n",
       "</div>"
      ],
      "text/plain": [
       "        RECORD_TIME\n",
       "0  2021-08-19 00:30\n",
       "1  2021-08-19 00:00"
      ]
     },
     "execution_count": 3,
     "metadata": {},
     "output_type": "execute_result"
    }
   ],
   "source": [
    "timestamps"
   ]
  },
  {
   "cell_type": "code",
   "execution_count": 4,
   "id": "alternate-victory",
   "metadata": {
    "execution": {
     "iopub.execute_input": "2021-08-18T22:30:08.530810Z",
     "iopub.status.busy": "2021-08-18T22:30:08.528881Z",
     "iopub.status.idle": "2021-08-18T22:30:08.648264Z",
     "shell.execute_reply": "2021-08-18T22:30:08.646954Z"
    },
    "papermill": {
     "duration": 0.148146,
     "end_time": "2021-08-18T22:30:08.648600",
     "exception": false,
     "start_time": "2021-08-18T22:30:08.500454",
     "status": "completed"
    },
    "tags": []
   },
   "outputs": [],
   "source": [
    "df = pd.read_sql(\"select * from EBAY_TOP_BERLIN where record_time in (select distinct record_time from EBAY_TOP_BERLIN order by record_time desc limit 2)\", sqlite3.connect(\"UsedObjects.db\"))"
   ]
  },
  {
   "cell_type": "code",
   "execution_count": 5,
   "id": "popular-active",
   "metadata": {
    "execution": {
     "iopub.execute_input": "2021-08-18T22:30:08.721482Z",
     "iopub.status.busy": "2021-08-18T22:30:08.710046Z",
     "iopub.status.idle": "2021-08-18T22:30:08.738136Z",
     "shell.execute_reply": "2021-08-18T22:30:08.739362Z"
    },
    "papermill": {
     "duration": 0.06856,
     "end_time": "2021-08-18T22:30:08.739757",
     "exception": false,
     "start_time": "2021-08-18T22:30:08.671197",
     "status": "completed"
    },
    "tags": []
   },
   "outputs": [],
   "source": [
    "df_pivot = df.pivot_table(index=\"PRODUCT\", columns = \"RECORD_TIME\", values = \"LISTING_COUNT\")"
   ]
  },
  {
   "cell_type": "code",
   "execution_count": 6,
   "id": "union-huntington",
   "metadata": {
    "execution": {
     "iopub.execute_input": "2021-08-18T22:30:08.797566Z",
     "iopub.status.busy": "2021-08-18T22:30:08.795307Z",
     "iopub.status.idle": "2021-08-18T22:30:08.801389Z",
     "shell.execute_reply": "2021-08-18T22:30:08.802818Z"
    },
    "papermill": {
     "duration": 0.042096,
     "end_time": "2021-08-18T22:30:08.803303",
     "exception": false,
     "start_time": "2021-08-18T22:30:08.761207",
     "status": "completed"
    },
    "tags": []
   },
   "outputs": [],
   "source": [
    "df_pivot.columns = [\"stamp_1\", \"stamp_2\"]\n",
    "df_pivot_diff = df_pivot.diff(axis=1)"
   ]
  },
  {
   "cell_type": "code",
   "execution_count": 7,
   "id": "fifth-motion",
   "metadata": {
    "execution": {
     "iopub.execute_input": "2021-08-18T22:30:08.858656Z",
     "iopub.status.busy": "2021-08-18T22:30:08.856315Z",
     "iopub.status.idle": "2021-08-18T22:30:10.357015Z",
     "shell.execute_reply": "2021-08-18T22:30:10.358429Z"
    },
    "papermill": {
     "duration": 1.533499,
     "end_time": "2021-08-18T22:30:10.358890",
     "exception": false,
     "start_time": "2021-08-18T22:30:08.825391",
     "status": "completed"
    },
    "tags": []
   },
   "outputs": [
    {
     "data": {
      "text/plain": [
       "<AxesSubplot:ylabel='PRODUCT'>"
      ]
     },
     "execution_count": 7,
     "metadata": {},
     "output_type": "execute_result"
    },
    {
     "data": {
      "image/png": "[encoded data removed]",
      "text/plain": [
       "<Figure size 432x288 with 1 Axes>"
      ]
     },
     "metadata": {
      "needs_background": "light"
     },
     "output_type": "display_data"
    }
   ],
   "source": [
    "df_pivot_diff.sort_values(\"stamp_2\", ascending = False)[\"stamp_2\"].head(10).plot.barh()"
   ]
  },
  {
   "cell_type": "code",
   "execution_count": null,
   "id": "extra-executive",
   "metadata": {
    "papermill": {
     "duration": 0.022346,
     "end_time": "2021-08-18T22:30:10.406048",
     "exception": false,
     "start_time": "2021-08-18T22:30:10.383702",
     "status": "completed"
    },
    "tags": []
   },
   "outputs": [],
   "source": []
  }
 ],
 "metadata": {
  "kernelspec": {
   "display_name": "Python 3",
   "language": "python",
   "name": "python3"
  },
  "language_info": {
   "codemirror_mode": {
    "name": "ipython",
    "version": 3
   },
   "file_extension": ".py",
   "mimetype": "text/x-python",
   "name": "python",
   "nbconvert_exporter": "python",
   "pygments_lexer": "ipython3",
   "version": "3.9.5"
  },
  "papermill": {
   "default_parameters": {},
   "duration": 6.830934,
   "end_time": "2021-08-18T22:30:11.828566",
   "environment_variables": {},
   "exception": null,
   "input_path": "eBay_Overview.ipynb",
   "output_path": "eBay_Overview.ipynb",
   "parameters": {},
   "start_time": "2021-08-18T22:30:04.997632",
   "version": "2.3.3"
  }
 },
 "nbformat": 4,
 "nbformat_minor": 5
}