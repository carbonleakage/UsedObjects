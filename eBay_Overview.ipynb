{
 "cells": [
  {
   "cell_type": "code",
   "execution_count": 1,
   "id": "reverse-picking",
   "metadata": {
    "execution": {
     "iopub.execute_input": "2021-11-12T09:00:07.375582Z",
     "iopub.status.busy": "2021-11-12T09:00:07.372614Z",
     "iopub.status.idle": "2021-11-12T09:00:08.327843Z",
     "shell.execute_reply": "2021-11-12T09:00:08.325698Z"
    },
    "papermill": {
     "duration": 1.001935,
     "end_time": "2021-11-12T09:00:08.328357",
     "exception": false,
     "start_time": "2021-11-12T09:00:07.326422",
     "status": "completed"
    },
    "tags": []
   },
   "outputs": [],
   "source": [
    "import pandas as pd\n",
    "import sqlite3"
   ]
  },
  {
   "cell_type": "code",
   "execution_count": 2,
   "id": "innovative-syndrome",
   "metadata": {
    "execution": {
     "iopub.execute_input": "2021-11-12T09:00:08.390774Z",
     "iopub.status.busy": "2021-11-12T09:00:08.388272Z",
     "iopub.status.idle": "2021-11-12T09:00:09.213609Z",
     "shell.execute_reply": "2021-11-12T09:00:09.216497Z"
    },
    "papermill": {
     "duration": 0.86161,
     "end_time": "2021-11-12T09:00:09.217223",
     "exception": false,
     "start_time": "2021-11-12T09:00:08.355613",
     "status": "completed"
    },
    "tags": []
   },
   "outputs": [],
   "source": [
    "timestamps = pd.read_sql(\"select distinct record_time from EBAY_TOP_BERLIN order by record_time desc limit 2\", sqlite3.connect(\"UsedObjects.db\"))"
   ]
  },
  {
   "cell_type": "code",
   "execution_count": 3,
   "id": "periodic-identification",
   "metadata": {
    "execution": {
     "iopub.execute_input": "2021-11-12T09:00:09.288269Z",
     "iopub.status.busy": "2021-11-12T09:00:09.285898Z",
     "iopub.status.idle": "2021-11-12T09:00:09.308349Z",
     "shell.execute_reply": "2021-11-12T09:00:09.310057Z"
    },
    "papermill": {
     "duration": 0.073006,
     "end_time": "2021-11-12T09:00:09.310578",
     "exception": false,
     "start_time": "2021-11-12T09:00:09.237572",
     "status": "completed"
    },
    "tags": []
   },
   "outputs": [
    {
     "data": {
      "text/html": [
       "<div>\n",
       "<style scoped>\n",
       "    .dataframe tbody tr th:only-of-type {\n",
       "        vertical-align: middle;\n",
       "    }\n",
       "\n",
       "    .dataframe tbody tr th {\n",
       "        vertical-align: top;\n",
       "    }\n",
       "\n",
       "    .dataframe thead th {\n",
       "        text-align: right;\n",
       "    }\n",
       "</style>\n",
       "<table border=\"1\" class=\"dataframe\">\n",
       "  <thead>\n",
       "    <tr style=\"text-align: right;\">\n",
       "      <th></th>\n",
       "      <th>RECORD_TIME</th>\n",
       "    </tr>\n",
       "  </thead>\n",
       "  <tbody>\n",
       "    <tr>\n",
       "      <th>0</th>\n",
       "      <td>2021-11-12 10:00</td>\n",
       "    </tr>\n",
       "    <tr>\n",
       "      <th>1</th>\n",
       "      <td>2021-11-12 09:30</td>\n",
       "    </tr>\n",
       "  </tbody>\n",
       "</table>\n",
       "</div>"
      ],
      "text/plain": [
       "        RECORD_TIME\n",
       "0  2021-11-12 10:00\n",
       "1  2021-11-12 09:30"
      ]
     },
     "execution_count": 3,
     "metadata": {},
     "output_type": "execute_result"
    }
   ],
   "source": [
    "timestamps"
   ]
  },
  {
   "cell_type": "code",
   "execution_count": 4,
   "id": "alternate-victory",
   "metadata": {
    "execution": {
     "iopub.execute_input": "2021-11-12T09:00:09.367884Z",
     "iopub.status.busy": "2021-11-12T09:00:09.365836Z",
     "iopub.status.idle": "2021-11-12T09:00:10.530577Z",
     "shell.execute_reply": "2021-11-12T09:00:10.532844Z"
    },
    "papermill": {
     "duration": 1.2009,
     "end_time": "2021-11-12T09:00:10.533333",
     "exception": false,
     "start_time": "2021-11-12T09:00:09.332433",
     "status": "completed"
    },
    "tags": []
   },
   "outputs": [],
   "source": [
    "df = pd.read_sql(\"select * from EBAY_TOP_BERLIN where record_time in (select distinct record_time from EBAY_TOP_BERLIN order by record_time desc limit 2)\", sqlite3.connect(\"UsedObjects.db\"))"
   ]
  },
  {
   "cell_type": "code",
   "execution_count": 5,
   "id": "popular-active",
   "metadata": {
    "execution": {
     "iopub.execute_input": "2021-11-12T09:00:10.613779Z",
     "iopub.status.busy": "2021-11-12T09:00:10.601466Z",
     "iopub.status.idle": "2021-11-12T09:00:10.635266Z",
     "shell.execute_reply": "2021-11-12T09:00:10.633627Z"
    },
    "papermill": {
     "duration": 0.080229,
     "end_time": "2021-11-12T09:00:10.635693",
     "exception": false,
     "start_time": "2021-11-12T09:00:10.555464",
     "status": "completed"
    },
    "tags": []
   },
   "outputs": [],
   "source": [
    "df_pivot = df.pivot_table(index=\"PRODUCT\", columns = \"RECORD_TIME\", values = \"LISTING_COUNT\")"
   ]
  },
  {
   "cell_type": "code",
   "execution_count": 6,
   "id": "union-huntington",
   "metadata": {
    "execution": {
     "iopub.execute_input": "2021-11-12T09:00:10.700091Z",
     "iopub.status.busy": "2021-11-12T09:00:10.697766Z",
     "iopub.status.idle": "2021-11-12T09:00:10.703528Z",
     "shell.execute_reply": "2021-11-12T09:00:10.705235Z"
    },
    "papermill": {
     "duration": 0.047751,
     "end_time": "2021-11-12T09:00:10.705724",
     "exception": false,
     "start_time": "2021-11-12T09:00:10.657973",
     "status": "completed"
    },
    "tags": []
   },
   "outputs": [],
   "source": [
    "df_pivot.columns = [\"stamp_1\", \"stamp_2\"]\n",
    "df_pivot_diff = df_pivot.diff(axis=1)"
   ]
  },
  {
   "cell_type": "code",
   "execution_count": 7,
   "id": "fifth-motion",
   "metadata": {
    "execution": {
     "iopub.execute_input": "2021-11-12T09:00:10.766164Z",
     "iopub.status.busy": "2021-11-12T09:00:10.763174Z",
     "iopub.status.idle": "2021-11-12T09:00:12.505478Z",
     "shell.execute_reply": "2021-11-12T09:00:12.507208Z"
    },
    "papermill": {
     "duration": 1.780252,
     "end_time": "2021-11-12T09:00:12.507698",
     "exception": false,
     "start_time": "2021-11-12T09:00:10.727446",
     "status": "completed"
    },
    "tags": []
   },
   "outputs": [
    {
     "data": {
      "text/plain": [
       "<AxesSubplot:ylabel='PRODUCT'>"
      ]
     },
     "execution_count": 7,
     "metadata": {},
     "output_type": "execute_result"
    },
    {
     "data": {
      "image/png": "[encoded data removed]",
      "text/plain": [
       "<Figure size 432x288 with 1 Axes>"
      ]
     },
     "metadata": {
      "needs_background": "light"
     },
     "output_type": "display_data"
    }
   ],
   "source": [
    "df_pivot_diff.sort_values(\"stamp_2\", ascending = False)[\"stamp_2\"].head(10).plot.barh()"
   ]
  },
  {
   "cell_type": "code",
   "execution_count": null,
   "id": "extra-executive",
   "metadata": {
    "papermill": {
     "duration": 0.023594,
     "end_time": "2021-11-12T09:00:12.557812",
     "exception": false,
     "start_time": "2021-11-12T09:00:12.534218",
     "status": "completed"
    },
    "tags": []
   },
   "outputs": [],
   "source": []
  }
 ],
 "metadata": {
  "kernelspec": {
   "display_name": "Python 3",
   "language": "python",
   "name": "python3"
  },
  "language_info": {
   "codemirror_mode": {
    "name": "ipython",
    "version": 3
   },
   "file_extension": ".py",
   "mimetype": "text/x-python",
   "name": "python",
   "nbconvert_exporter": "python",
   "pygments_lexer": "ipython3",
   "version": "3.9.5"
  },
  "papermill": {
   "default_parameters": {},
   "duration": 8.993321,
   "end_time": "2021-11-12T09:00:13.509487",
   "environment_variables": {},
   "exception": null,
   "input_path": "eBay_Overview.ipynb",
   "output_path": "eBay_Overview.ipynb",
   "parameters": {},
   "start_time": "2021-11-12T09:00:04.516166",
   "version": "2.3.3"
  }
 },
 "nbformat": 4,
 "nbformat_minor": 5
}