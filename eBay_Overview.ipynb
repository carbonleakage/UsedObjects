{
 "cells": [
  {
   "cell_type": "code",
   "execution_count": 1,
   "id": "reverse-picking",
   "metadata": {
    "execution": {
     "iopub.execute_input": "2021-10-02T17:00:06.719119Z",
     "iopub.status.busy": "2021-10-02T17:00:06.717120Z",
     "iopub.status.idle": "2021-10-02T17:00:07.522640Z",
     "shell.execute_reply": "2021-10-02T17:00:07.524068Z"
    },
    "papermill": {
     "duration": 0.857953,
     "end_time": "2021-10-02T17:00:07.524711",
     "exception": false,
     "start_time": "2021-10-02T17:00:06.666758",
     "status": "completed"
    },
    "tags": []
   },
   "outputs": [],
   "source": [
    "import pandas as pd\n",
    "import sqlite3"
   ]
  },
  {
   "cell_type": "code",
   "execution_count": 2,
   "id": "innovative-syndrome",
   "metadata": {
    "execution": {
     "iopub.execute_input": "2021-10-02T17:00:07.575530Z",
     "iopub.status.busy": "2021-10-02T17:00:07.573481Z",
     "iopub.status.idle": "2021-10-02T17:00:08.000700Z",
     "shell.execute_reply": "2021-10-02T17:00:08.001959Z"
    },
    "papermill": {
     "duration": 0.457287,
     "end_time": "2021-10-02T17:00:08.002369",
     "exception": false,
     "start_time": "2021-10-02T17:00:07.545082",
     "status": "completed"
    },
    "tags": []
   },
   "outputs": [],
   "source": [
    "timestamps = pd.read_sql(\"select distinct record_time from EBAY_TOP_BERLIN order by record_time desc limit 2\", sqlite3.connect(\"UsedObjects.db\"))"
   ]
  },
  {
   "cell_type": "code",
   "execution_count": 3,
   "id": "periodic-identification",
   "metadata": {
    "execution": {
     "iopub.execute_input": "2021-10-02T17:00:08.068756Z",
     "iopub.status.busy": "2021-10-02T17:00:08.066645Z",
     "iopub.status.idle": "2021-10-02T17:00:08.087713Z",
     "shell.execute_reply": "2021-10-02T17:00:08.089058Z"
    },
    "papermill": {
     "duration": 0.06782,
     "end_time": "2021-10-02T17:00:08.089471",
     "exception": false,
     "start_time": "2021-10-02T17:00:08.021651",
     "status": "completed"
    },
    "tags": []
   },
   "outputs": [
    {
     "data": {
      "text/html": [
       "<div>\n",
       "<style scoped>\n",
       "    .dataframe tbody tr th:only-of-type {\n",
       "        vertical-align: middle;\n",
       "    }\n",
       "\n",
       "    .dataframe tbody tr th {\n",
       "        vertical-align: top;\n",
       "    }\n",
       "\n",
       "    .dataframe thead th {\n",
       "        text-align: right;\n",
       "    }\n",
       "</style>\n",
       "<table border=\"1\" class=\"dataframe\">\n",
       "  <thead>\n",
       "    <tr style=\"text-align: right;\">\n",
       "      <th></th>\n",
       "      <th>RECORD_TIME</th>\n",
       "    </tr>\n",
       "  </thead>\n",
       "  <tbody>\n",
       "    <tr>\n",
       "      <th>0</th>\n",
       "      <td>2021-10-02 19:00</td>\n",
       "    </tr>\n",
       "    <tr>\n",
       "      <th>1</th>\n",
       "      <td>2021-10-02 18:30</td>\n",
       "    </tr>\n",
       "  </tbody>\n",
       "</table>\n",
       "</div>"
      ],
      "text/plain": [
       "        RECORD_TIME\n",
       "0  2021-10-02 19:00\n",
       "1  2021-10-02 18:30"
      ]
     },
     "execution_count": 3,
     "metadata": {},
     "output_type": "execute_result"
    }
   ],
   "source": [
    "timestamps"
   ]
  },
  {
   "cell_type": "code",
   "execution_count": 4,
   "id": "alternate-victory",
   "metadata": {
    "execution": {
     "iopub.execute_input": "2021-10-02T17:00:08.143116Z",
     "iopub.status.busy": "2021-10-02T17:00:08.140783Z",
     "iopub.status.idle": "2021-10-02T17:00:08.769015Z",
     "shell.execute_reply": "2021-10-02T17:00:08.770237Z"
    },
    "papermill": {
     "duration": 0.658972,
     "end_time": "2021-10-02T17:00:08.770630",
     "exception": false,
     "start_time": "2021-10-02T17:00:08.111658",
     "status": "completed"
    },
    "tags": []
   },
   "outputs": [],
   "source": [
    "df = pd.read_sql(\"select * from EBAY_TOP_BERLIN where record_time in (select distinct record_time from EBAY_TOP_BERLIN order by record_time desc limit 2)\", sqlite3.connect(\"UsedObjects.db\"))"
   ]
  },
  {
   "cell_type": "code",
   "execution_count": 5,
   "id": "popular-active",
   "metadata": {
    "execution": {
     "iopub.execute_input": "2021-10-02T17:00:08.836148Z",
     "iopub.status.busy": "2021-10-02T17:00:08.828740Z",
     "iopub.status.idle": "2021-10-02T17:00:08.856813Z",
     "shell.execute_reply": "2021-10-02T17:00:08.858105Z"
    },
    "papermill": {
     "duration": 0.067027,
     "end_time": "2021-10-02T17:00:08.858519",
     "exception": false,
     "start_time": "2021-10-02T17:00:08.791492",
     "status": "completed"
    },
    "tags": []
   },
   "outputs": [],
   "source": [
    "df_pivot = df.pivot_table(index=\"PRODUCT\", columns = \"RECORD_TIME\", values = \"LISTING_COUNT\")"
   ]
  },
  {
   "cell_type": "code",
   "execution_count": 6,
   "id": "union-huntington",
   "metadata": {
    "execution": {
     "iopub.execute_input": "2021-10-02T17:00:08.915294Z",
     "iopub.status.busy": "2021-10-02T17:00:08.913196Z",
     "iopub.status.idle": "2021-10-02T17:00:08.918541Z",
     "shell.execute_reply": "2021-10-02T17:00:08.919897Z"
    },
    "papermill": {
     "duration": 0.04159,
     "end_time": "2021-10-02T17:00:08.920312",
     "exception": false,
     "start_time": "2021-10-02T17:00:08.878722",
     "status": "completed"
    },
    "tags": []
   },
   "outputs": [],
   "source": [
    "df_pivot.columns = [\"stamp_1\", \"stamp_2\"]\n",
    "df_pivot_diff = df_pivot.diff(axis=1)"
   ]
  },
  {
   "cell_type": "code",
   "execution_count": 7,
   "id": "fifth-motion",
   "metadata": {
    "execution": {
     "iopub.execute_input": "2021-10-02T17:00:08.975697Z",
     "iopub.status.busy": "2021-10-02T17:00:08.973149Z",
     "iopub.status.idle": "2021-10-02T17:00:10.448220Z",
     "shell.execute_reply": "2021-10-02T17:00:10.449552Z"
    },
    "papermill": {
     "duration": 1.50814,
     "end_time": "2021-10-02T17:00:10.449974",
     "exception": false,
     "start_time": "2021-10-02T17:00:08.941834",
     "status": "completed"
    },
    "tags": []
   },
   "outputs": [
    {
     "data": {
      "text/plain": [
       "<AxesSubplot:ylabel='PRODUCT'>"
      ]
     },
     "execution_count": 7,
     "metadata": {},
     "output_type": "execute_result"
    },
    {
     "data": {
      "image/png": "[encoded data removed]",
      "text/plain": [
       "<Figure size 432x288 with 1 Axes>"
      ]
     },
     "metadata": {
      "needs_background": "light"
     },
     "output_type": "display_data"
    }
   ],
   "source": [
    "df_pivot_diff.sort_values(\"stamp_2\", ascending = False)[\"stamp_2\"].head(10).plot.barh()"
   ]
  },
  {
   "cell_type": "code",
   "execution_count": null,
   "id": "extra-executive",
   "metadata": {
    "papermill": {
     "duration": 0.022396,
     "end_time": "2021-10-02T17:00:10.496053",
     "exception": false,
     "start_time": "2021-10-02T17:00:10.473657",
     "status": "completed"
    },
    "tags": []
   },
   "outputs": [],
   "source": []
  }
 ],
 "metadata": {
  "kernelspec": {
   "display_name": "Python 3",
   "language": "python",
   "name": "python3"
  },
  "language_info": {
   "codemirror_mode": {
    "name": "ipython",
    "version": 3
   },
   "file_extension": ".py",
   "mimetype": "text/x-python",
   "name": "python",
   "nbconvert_exporter": "python",
   "pygments_lexer": "ipython3",
   "version": "3.9.5"
  },
  "papermill": {
   "default_parameters": {},
   "duration": 7.821069,
   "end_time": "2021-10-02T17:00:12.081280",
   "environment_variables": {},
   "exception": null,
   "input_path": "eBay_Overview.ipynb",
   "output_path": "eBay_Overview.ipynb",
   "parameters": {},
   "start_time": "2021-10-02T17:00:04.260211",
   "version": "2.3.3"
  }
 },
 "nbformat": 4,
 "nbformat_minor": 5
}