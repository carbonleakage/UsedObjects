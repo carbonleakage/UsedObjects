{
 "cells": [
  {
   "cell_type": "code",
   "execution_count": 1,
   "id": "reverse-picking",
   "metadata": {
    "execution": {
     "iopub.execute_input": "2021-10-04T05:00:08.069034Z",
     "iopub.status.busy": "2021-10-04T05:00:08.067125Z",
     "iopub.status.idle": "2021-10-04T05:00:08.871321Z",
     "shell.execute_reply": "2021-10-04T05:00:08.872583Z"
    },
    "papermill": {
     "duration": 0.857512,
     "end_time": "2021-10-04T05:00:08.873198",
     "exception": false,
     "start_time": "2021-10-04T05:00:08.015686",
     "status": "completed"
    },
    "tags": []
   },
   "outputs": [],
   "source": [
    "import pandas as pd\n",
    "import sqlite3"
   ]
  },
  {
   "cell_type": "code",
   "execution_count": 2,
   "id": "innovative-syndrome",
   "metadata": {
    "execution": {
     "iopub.execute_input": "2021-10-04T05:00:08.924561Z",
     "iopub.status.busy": "2021-10-04T05:00:08.922629Z",
     "iopub.status.idle": "2021-10-04T05:00:09.377621Z",
     "shell.execute_reply": "2021-10-04T05:00:09.378837Z"
    },
    "papermill": {
     "duration": 0.484564,
     "end_time": "2021-10-04T05:00:09.379255",
     "exception": false,
     "start_time": "2021-10-04T05:00:08.894691",
     "status": "completed"
    },
    "tags": []
   },
   "outputs": [],
   "source": [
    "timestamps = pd.read_sql(\"select distinct record_time from EBAY_TOP_BERLIN order by record_time desc limit 2\", sqlite3.connect(\"UsedObjects.db\"))"
   ]
  },
  {
   "cell_type": "code",
   "execution_count": 3,
   "id": "periodic-identification",
   "metadata": {
    "execution": {
     "iopub.execute_input": "2021-10-04T05:00:09.445724Z",
     "iopub.status.busy": "2021-10-04T05:00:09.443738Z",
     "iopub.status.idle": "2021-10-04T05:00:09.463618Z",
     "shell.execute_reply": "2021-10-04T05:00:09.464996Z"
    },
    "papermill": {
     "duration": 0.064583,
     "end_time": "2021-10-04T05:00:09.465434",
     "exception": false,
     "start_time": "2021-10-04T05:00:09.400851",
     "status": "completed"
    },
    "tags": []
   },
   "outputs": [
    {
     "data": {
      "text/html": [
       "<div>\n",
       "<style scoped>\n",
       "    .dataframe tbody tr th:only-of-type {\n",
       "        vertical-align: middle;\n",
       "    }\n",
       "\n",
       "    .dataframe tbody tr th {\n",
       "        vertical-align: top;\n",
       "    }\n",
       "\n",
       "    .dataframe thead th {\n",
       "        text-align: right;\n",
       "    }\n",
       "</style>\n",
       "<table border=\"1\" class=\"dataframe\">\n",
       "  <thead>\n",
       "    <tr style=\"text-align: right;\">\n",
       "      <th></th>\n",
       "      <th>RECORD_TIME</th>\n",
       "    </tr>\n",
       "  </thead>\n",
       "  <tbody>\n",
       "    <tr>\n",
       "      <th>0</th>\n",
       "      <td>2021-10-04 07:00</td>\n",
       "    </tr>\n",
       "    <tr>\n",
       "      <th>1</th>\n",
       "      <td>2021-10-04 06:30</td>\n",
       "    </tr>\n",
       "  </tbody>\n",
       "</table>\n",
       "</div>"
      ],
      "text/plain": [
       "        RECORD_TIME\n",
       "0  2021-10-04 07:00\n",
       "1  2021-10-04 06:30"
      ]
     },
     "execution_count": 3,
     "metadata": {},
     "output_type": "execute_result"
    }
   ],
   "source": [
    "timestamps"
   ]
  },
  {
   "cell_type": "code",
   "execution_count": 4,
   "id": "alternate-victory",
   "metadata": {
    "execution": {
     "iopub.execute_input": "2021-10-04T05:00:09.527592Z",
     "iopub.status.busy": "2021-10-04T05:00:09.525495Z",
     "iopub.status.idle": "2021-10-04T05:00:10.190188Z",
     "shell.execute_reply": "2021-10-04T05:00:10.191445Z"
    },
    "papermill": {
     "duration": 0.70568,
     "end_time": "2021-10-04T05:00:10.191843",
     "exception": false,
     "start_time": "2021-10-04T05:00:09.486163",
     "status": "completed"
    },
    "tags": []
   },
   "outputs": [],
   "source": [
    "df = pd.read_sql(\"select * from EBAY_TOP_BERLIN where record_time in (select distinct record_time from EBAY_TOP_BERLIN order by record_time desc limit 2)\", sqlite3.connect(\"UsedObjects.db\"))"
   ]
  },
  {
   "cell_type": "code",
   "execution_count": 5,
   "id": "popular-active",
   "metadata": {
    "execution": {
     "iopub.execute_input": "2021-10-04T05:00:10.264595Z",
     "iopub.status.busy": "2021-10-04T05:00:10.252547Z",
     "iopub.status.idle": "2021-10-04T05:00:10.279923Z",
     "shell.execute_reply": "2021-10-04T05:00:10.281121Z"
    },
    "papermill": {
     "duration": 0.067212,
     "end_time": "2021-10-04T05:00:10.281512",
     "exception": false,
     "start_time": "2021-10-04T05:00:10.214300",
     "status": "completed"
    },
    "tags": []
   },
   "outputs": [],
   "source": [
    "df_pivot = df.pivot_table(index=\"PRODUCT\", columns = \"RECORD_TIME\", values = \"LISTING_COUNT\")"
   ]
  },
  {
   "cell_type": "code",
   "execution_count": 6,
   "id": "union-huntington",
   "metadata": {
    "execution": {
     "iopub.execute_input": "2021-10-04T05:00:10.337056Z",
     "iopub.status.busy": "2021-10-04T05:00:10.335129Z",
     "iopub.status.idle": "2021-10-04T05:00:10.340081Z",
     "shell.execute_reply": "2021-10-04T05:00:10.341271Z"
    },
    "papermill": {
     "duration": 0.039462,
     "end_time": "2021-10-04T05:00:10.341659",
     "exception": false,
     "start_time": "2021-10-04T05:00:10.302197",
     "status": "completed"
    },
    "tags": []
   },
   "outputs": [],
   "source": [
    "df_pivot.columns = [\"stamp_1\", \"stamp_2\"]\n",
    "df_pivot_diff = df_pivot.diff(axis=1)"
   ]
  },
  {
   "cell_type": "code",
   "execution_count": 7,
   "id": "fifth-motion",
   "metadata": {
    "execution": {
     "iopub.execute_input": "2021-10-04T05:00:10.395719Z",
     "iopub.status.busy": "2021-10-04T05:00:10.393207Z",
     "iopub.status.idle": "2021-10-04T05:00:11.859760Z",
     "shell.execute_reply": "2021-10-04T05:00:11.861051Z"
    },
    "papermill": {
     "duration": 1.499513,
     "end_time": "2021-10-04T05:00:11.861472",
     "exception": false,
     "start_time": "2021-10-04T05:00:10.361959",
     "status": "completed"
    },
    "tags": []
   },
   "outputs": [
    {
     "data": {
      "text/plain": [
       "<AxesSubplot:ylabel='PRODUCT'>"
      ]
     },
     "execution_count": 7,
     "metadata": {},
     "output_type": "execute_result"
    },
    {
     "data": {
      "image/png": "[encoded data removed]",
      "text/plain": [
       "<Figure size 432x288 with 1 Axes>"
      ]
     },
     "metadata": {
      "needs_background": "light"
     },
     "output_type": "display_data"
    }
   ],
   "source": [
    "df_pivot_diff.sort_values(\"stamp_2\", ascending = False)[\"stamp_2\"].head(10).plot.barh()"
   ]
  },
  {
   "cell_type": "code",
   "execution_count": null,
   "id": "extra-executive",
   "metadata": {
    "papermill": {
     "duration": 0.02225,
     "end_time": "2021-10-04T05:00:11.907626",
     "exception": false,
     "start_time": "2021-10-04T05:00:11.885376",
     "status": "completed"
    },
    "tags": []
   },
   "outputs": [],
   "source": []
  }
 ],
 "metadata": {
  "kernelspec": {
   "display_name": "Python 3",
   "language": "python",
   "name": "python3"
  },
  "language_info": {
   "codemirror_mode": {
    "name": "ipython",
    "version": 3
   },
   "file_extension": ".py",
   "mimetype": "text/x-python",
   "name": "python",
   "nbconvert_exporter": "python",
   "pygments_lexer": "ipython3",
   "version": "3.9.5"
  },
  "papermill": {
   "default_parameters": {},
   "duration": 7.818931,
   "end_time": "2021-10-04T05:00:13.434704",
   "environment_variables": {},
   "exception": null,
   "input_path": "eBay_Overview.ipynb",
   "output_path": "eBay_Overview.ipynb",
   "parameters": {},
   "start_time": "2021-10-04T05:00:05.615773",
   "version": "2.3.3"
  }
 },
 "nbformat": 4,
 "nbformat_minor": 5
}