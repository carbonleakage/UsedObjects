{
 "cells": [
  {
   "cell_type": "code",
   "execution_count": 1,
   "id": "reverse-picking",
   "metadata": {
    "execution": {
     "iopub.execute_input": "2021-10-22T12:30:07.141371Z",
     "iopub.status.busy": "2021-10-22T12:30:07.139368Z",
     "iopub.status.idle": "2021-10-22T12:30:07.944238Z",
     "shell.execute_reply": "2021-10-22T12:30:07.945542Z"
    },
    "papermill": {
     "duration": 0.854818,
     "end_time": "2021-10-22T12:30:07.946161",
     "exception": false,
     "start_time": "2021-10-22T12:30:07.091343",
     "status": "completed"
    },
    "tags": []
   },
   "outputs": [],
   "source": [
    "import pandas as pd\n",
    "import sqlite3"
   ]
  },
  {
   "cell_type": "code",
   "execution_count": 2,
   "id": "innovative-syndrome",
   "metadata": {
    "execution": {
     "iopub.execute_input": "2021-10-22T12:30:07.998563Z",
     "iopub.status.busy": "2021-10-22T12:30:07.996332Z",
     "iopub.status.idle": "2021-10-22T12:30:08.600164Z",
     "shell.execute_reply": "2021-10-22T12:30:08.598808Z"
    },
    "papermill": {
     "duration": 0.632063,
     "end_time": "2021-10-22T12:30:08.600516",
     "exception": false,
     "start_time": "2021-10-22T12:30:07.968453",
     "status": "completed"
    },
    "tags": []
   },
   "outputs": [],
   "source": [
    "timestamps = pd.read_sql(\"select distinct record_time from EBAY_TOP_BERLIN order by record_time desc limit 2\", sqlite3.connect(\"UsedObjects.db\"))"
   ]
  },
  {
   "cell_type": "code",
   "execution_count": 3,
   "id": "periodic-identification",
   "metadata": {
    "execution": {
     "iopub.execute_input": "2021-10-22T12:30:08.673249Z",
     "iopub.status.busy": "2021-10-22T12:30:08.671138Z",
     "iopub.status.idle": "2021-10-22T12:30:08.691393Z",
     "shell.execute_reply": "2021-10-22T12:30:08.692823Z"
    },
    "papermill": {
     "duration": 0.067814,
     "end_time": "2021-10-22T12:30:08.693286",
     "exception": false,
     "start_time": "2021-10-22T12:30:08.625472",
     "status": "completed"
    },
    "tags": []
   },
   "outputs": [
    {
     "data": {
      "text/html": [
       "<div>\n",
       "<style scoped>\n",
       "    .dataframe tbody tr th:only-of-type {\n",
       "        vertical-align: middle;\n",
       "    }\n",
       "\n",
       "    .dataframe tbody tr th {\n",
       "        vertical-align: top;\n",
       "    }\n",
       "\n",
       "    .dataframe thead th {\n",
       "        text-align: right;\n",
       "    }\n",
       "</style>\n",
       "<table border=\"1\" class=\"dataframe\">\n",
       "  <thead>\n",
       "    <tr style=\"text-align: right;\">\n",
       "      <th></th>\n",
       "      <th>RECORD_TIME</th>\n",
       "    </tr>\n",
       "  </thead>\n",
       "  <tbody>\n",
       "    <tr>\n",
       "      <th>0</th>\n",
       "      <td>2021-10-22 14:30</td>\n",
       "    </tr>\n",
       "    <tr>\n",
       "      <th>1</th>\n",
       "      <td>2021-10-22 14:00</td>\n",
       "    </tr>\n",
       "  </tbody>\n",
       "</table>\n",
       "</div>"
      ],
      "text/plain": [
       "        RECORD_TIME\n",
       "0  2021-10-22 14:30\n",
       "1  2021-10-22 14:00"
      ]
     },
     "execution_count": 3,
     "metadata": {},
     "output_type": "execute_result"
    }
   ],
   "source": [
    "timestamps"
   ]
  },
  {
   "cell_type": "code",
   "execution_count": 4,
   "id": "alternate-victory",
   "metadata": {
    "execution": {
     "iopub.execute_input": "2021-10-22T12:30:08.744356Z",
     "iopub.status.busy": "2021-10-22T12:30:08.742511Z",
     "iopub.status.idle": "2021-10-22T12:30:09.630521Z",
     "shell.execute_reply": "2021-10-22T12:30:09.631714Z"
    },
    "papermill": {
     "duration": 0.918042,
     "end_time": "2021-10-22T12:30:09.632112",
     "exception": false,
     "start_time": "2021-10-22T12:30:08.714070",
     "status": "completed"
    },
    "tags": []
   },
   "outputs": [],
   "source": [
    "df = pd.read_sql(\"select * from EBAY_TOP_BERLIN where record_time in (select distinct record_time from EBAY_TOP_BERLIN order by record_time desc limit 2)\", sqlite3.connect(\"UsedObjects.db\"))"
   ]
  },
  {
   "cell_type": "code",
   "execution_count": 5,
   "id": "popular-active",
   "metadata": {
    "execution": {
     "iopub.execute_input": "2021-10-22T12:30:09.702297Z",
     "iopub.status.busy": "2021-10-22T12:30:09.690937Z",
     "iopub.status.idle": "2021-10-22T12:30:09.718737Z",
     "shell.execute_reply": "2021-10-22T12:30:09.719934Z"
    },
    "papermill": {
     "duration": 0.067553,
     "end_time": "2021-10-22T12:30:09.720333",
     "exception": false,
     "start_time": "2021-10-22T12:30:09.652780",
     "status": "completed"
    },
    "tags": []
   },
   "outputs": [],
   "source": [
    "df_pivot = df.pivot_table(index=\"PRODUCT\", columns = \"RECORD_TIME\", values = \"LISTING_COUNT\")"
   ]
  },
  {
   "cell_type": "code",
   "execution_count": 6,
   "id": "union-huntington",
   "metadata": {
    "execution": {
     "iopub.execute_input": "2021-10-22T12:30:09.776809Z",
     "iopub.status.busy": "2021-10-22T12:30:09.774761Z",
     "iopub.status.idle": "2021-10-22T12:30:09.779902Z",
     "shell.execute_reply": "2021-10-22T12:30:09.781394Z"
    },
    "papermill": {
     "duration": 0.040587,
     "end_time": "2021-10-22T12:30:09.781842",
     "exception": false,
     "start_time": "2021-10-22T12:30:09.741255",
     "status": "completed"
    },
    "tags": []
   },
   "outputs": [],
   "source": [
    "df_pivot.columns = [\"stamp_1\", \"stamp_2\"]\n",
    "df_pivot_diff = df_pivot.diff(axis=1)"
   ]
  },
  {
   "cell_type": "code",
   "execution_count": 7,
   "id": "fifth-motion",
   "metadata": {
    "execution": {
     "iopub.execute_input": "2021-10-22T12:30:09.838417Z",
     "iopub.status.busy": "2021-10-22T12:30:09.835758Z",
     "iopub.status.idle": "2021-10-22T12:30:11.338276Z",
     "shell.execute_reply": "2021-10-22T12:30:11.339636Z"
    },
    "papermill": {
     "duration": 1.536351,
     "end_time": "2021-10-22T12:30:11.340078",
     "exception": false,
     "start_time": "2021-10-22T12:30:09.803727",
     "status": "completed"
    },
    "tags": []
   },
   "outputs": [
    {
     "data": {
      "text/plain": [
       "<AxesSubplot:ylabel='PRODUCT'>"
      ]
     },
     "execution_count": 7,
     "metadata": {},
     "output_type": "execute_result"
    },
    {
     "data": {
      "image/png": "[encoded data removed]",
      "text/plain": [
       "<Figure size 432x288 with 1 Axes>"
      ]
     },
     "metadata": {
      "needs_background": "light"
     },
     "output_type": "display_data"
    }
   ],
   "source": [
    "df_pivot_diff.sort_values(\"stamp_2\", ascending = False)[\"stamp_2\"].head(10).plot.barh()"
   ]
  },
  {
   "cell_type": "code",
   "execution_count": null,
   "id": "extra-executive",
   "metadata": {
    "papermill": {
     "duration": 0.022413,
     "end_time": "2021-10-22T12:30:11.387188",
     "exception": false,
     "start_time": "2021-10-22T12:30:11.364775",
     "status": "completed"
    },
    "tags": []
   },
   "outputs": [],
   "source": []
  }
 ],
 "metadata": {
  "kernelspec": {
   "display_name": "Python 3",
   "language": "python",
   "name": "python3"
  },
  "language_info": {
   "codemirror_mode": {
    "name": "ipython",
    "version": 3
   },
   "file_extension": ".py",
   "mimetype": "text/x-python",
   "name": "python",
   "nbconvert_exporter": "python",
   "pygments_lexer": "ipython3",
   "version": "3.9.5"
  },
  "papermill": {
   "default_parameters": {},
   "duration": 7.343904,
   "end_time": "2021-10-22T12:30:12.031349",
   "environment_variables": {},
   "exception": null,
   "input_path": "eBay_Overview.ipynb",
   "output_path": "eBay_Overview.ipynb",
   "parameters": {},
   "start_time": "2021-10-22T12:30:04.687445",
   "version": "2.3.3"
  }
 },
 "nbformat": 4,
 "nbformat_minor": 5
}