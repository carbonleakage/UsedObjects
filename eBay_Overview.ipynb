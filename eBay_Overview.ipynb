{
 "cells": [
  {
   "cell_type": "code",
   "execution_count": 1,
   "id": "reverse-picking",
   "metadata": {
    "execution": {
     "iopub.execute_input": "2021-12-10T00:30:07.191858Z",
     "iopub.status.busy": "2021-12-10T00:30:07.189593Z",
     "iopub.status.idle": "2021-12-10T00:30:08.161804Z",
     "shell.execute_reply": "2021-12-10T00:30:08.163508Z"
    },
    "papermill": {
     "duration": 1.021741,
     "end_time": "2021-12-10T00:30:08.164278",
     "exception": false,
     "start_time": "2021-12-10T00:30:07.142537",
     "status": "completed"
    },
    "tags": []
   },
   "outputs": [],
   "source": [
    "import pandas as pd\n",
    "import sqlite3"
   ]
  },
  {
   "cell_type": "code",
   "execution_count": 2,
   "id": "innovative-syndrome",
   "metadata": {
    "execution": {
     "iopub.execute_input": "2021-12-10T00:30:08.221376Z",
     "iopub.status.busy": "2021-12-10T00:30:08.218909Z",
     "iopub.status.idle": "2021-12-10T00:30:09.267353Z",
     "shell.execute_reply": "2021-12-10T00:30:09.268844Z"
    },
    "papermill": {
     "duration": 1.08142,
     "end_time": "2021-12-10T00:30:09.269311",
     "exception": false,
     "start_time": "2021-12-10T00:30:08.187891",
     "status": "completed"
    },
    "tags": []
   },
   "outputs": [],
   "source": [
    "timestamps = pd.read_sql(\"select distinct record_time from EBAY_TOP_BERLIN order by record_time desc limit 2\", sqlite3.connect(\"UsedObjects.db\"))"
   ]
  },
  {
   "cell_type": "code",
   "execution_count": 3,
   "id": "periodic-identification",
   "metadata": {
    "execution": {
     "iopub.execute_input": "2021-12-10T00:30:09.345389Z",
     "iopub.status.busy": "2021-12-10T00:30:09.341782Z",
     "iopub.status.idle": "2021-12-10T00:30:09.381122Z",
     "shell.execute_reply": "2021-12-10T00:30:09.383641Z"
    },
    "papermill": {
     "duration": 0.095357,
     "end_time": "2021-12-10T00:30:09.384459",
     "exception": false,
     "start_time": "2021-12-10T00:30:09.289102",
     "status": "completed"
    },
    "tags": []
   },
   "outputs": [
    {
     "data": {
      "text/html": [
       "<div>\n",
       "<style scoped>\n",
       "    .dataframe tbody tr th:only-of-type {\n",
       "        vertical-align: middle;\n",
       "    }\n",
       "\n",
       "    .dataframe tbody tr th {\n",
       "        vertical-align: top;\n",
       "    }\n",
       "\n",
       "    .dataframe thead th {\n",
       "        text-align: right;\n",
       "    }\n",
       "</style>\n",
       "<table border=\"1\" class=\"dataframe\">\n",
       "  <thead>\n",
       "    <tr style=\"text-align: right;\">\n",
       "      <th></th>\n",
       "      <th>RECORD_TIME</th>\n",
       "    </tr>\n",
       "  </thead>\n",
       "  <tbody>\n",
       "    <tr>\n",
       "      <th>0</th>\n",
       "      <td>2021-12-10 01:30</td>\n",
       "    </tr>\n",
       "    <tr>\n",
       "      <th>1</th>\n",
       "      <td>2021-12-10 01:00</td>\n",
       "    </tr>\n",
       "  </tbody>\n",
       "</table>\n",
       "</div>"
      ],
      "text/plain": [
       "        RECORD_TIME\n",
       "0  2021-12-10 01:30\n",
       "1  2021-12-10 01:00"
      ]
     },
     "execution_count": 3,
     "metadata": {},
     "output_type": "execute_result"
    }
   ],
   "source": [
    "timestamps"
   ]
  },
  {
   "cell_type": "code",
   "execution_count": 4,
   "id": "alternate-victory",
   "metadata": {
    "execution": {
     "iopub.execute_input": "2021-12-10T00:30:09.451943Z",
     "iopub.status.busy": "2021-12-10T00:30:09.449794Z",
     "iopub.status.idle": "2021-12-10T00:30:10.980035Z",
     "shell.execute_reply": "2021-12-10T00:30:10.976999Z"
    },
    "papermill": {
     "duration": 1.564462,
     "end_time": "2021-12-10T00:30:10.980830",
     "exception": false,
     "start_time": "2021-12-10T00:30:09.416368",
     "status": "completed"
    },
    "tags": []
   },
   "outputs": [],
   "source": [
    "df = pd.read_sql(\"select * from EBAY_TOP_BERLIN where record_time in (select distinct record_time from EBAY_TOP_BERLIN order by record_time desc limit 2)\", sqlite3.connect(\"UsedObjects.db\"))"
   ]
  },
  {
   "cell_type": "code",
   "execution_count": 5,
   "id": "popular-active",
   "metadata": {
    "execution": {
     "iopub.execute_input": "2021-12-10T00:30:11.108883Z",
     "iopub.status.busy": "2021-12-10T00:30:11.082228Z",
     "iopub.status.idle": "2021-12-10T00:30:11.149425Z",
     "shell.execute_reply": "2021-12-10T00:30:11.146927Z"
    },
    "papermill": {
     "duration": 0.136154,
     "end_time": "2021-12-10T00:30:11.150059",
     "exception": false,
     "start_time": "2021-12-10T00:30:11.013905",
     "status": "completed"
    },
    "tags": []
   },
   "outputs": [],
   "source": [
    "df_pivot = df.pivot_table(index=\"PRODUCT\", columns = \"RECORD_TIME\", values = \"LISTING_COUNT\")"
   ]
  },
  {
   "cell_type": "code",
   "execution_count": 6,
   "id": "union-huntington",
   "metadata": {
    "execution": {
     "iopub.execute_input": "2021-12-10T00:30:11.234647Z",
     "iopub.status.busy": "2021-12-10T00:30:11.230381Z",
     "iopub.status.idle": "2021-12-10T00:30:11.242593Z",
     "shell.execute_reply": "2021-12-10T00:30:11.245791Z"
    },
    "papermill": {
     "duration": 0.067352,
     "end_time": "2021-12-10T00:30:11.246683",
     "exception": false,
     "start_time": "2021-12-10T00:30:11.179331",
     "status": "completed"
    },
    "tags": []
   },
   "outputs": [],
   "source": [
    "df_pivot.columns = [\"stamp_1\", \"stamp_2\"]\n",
    "df_pivot_diff = df_pivot.diff(axis=1)"
   ]
  },
  {
   "cell_type": "code",
   "execution_count": 7,
   "id": "fifth-motion",
   "metadata": {
    "execution": {
     "iopub.execute_input": "2021-12-10T00:30:11.336428Z",
     "iopub.status.busy": "2021-12-10T00:30:11.332448Z",
     "iopub.status.idle": "2021-12-10T00:30:13.025822Z",
     "shell.execute_reply": "2021-12-10T00:30:13.027118Z"
    },
    "papermill": {
     "duration": 1.74952,
     "end_time": "2021-12-10T00:30:13.027534",
     "exception": false,
     "start_time": "2021-12-10T00:30:11.278014",
     "status": "completed"
    },
    "tags": []
   },
   "outputs": [
    {
     "data": {
      "text/plain": [
       "<AxesSubplot:ylabel='PRODUCT'>"
      ]
     },
     "execution_count": 7,
     "metadata": {},
     "output_type": "execute_result"
    },
    {
     "data": {
      "image/png": "[encoded data removed]",
      "text/plain": [
       "<Figure size 432x288 with 1 Axes>"
      ]
     },
     "metadata": {
      "needs_background": "light"
     },
     "output_type": "display_data"
    }
   ],
   "source": [
    "df_pivot_diff.sort_values(\"stamp_2\", ascending = False)[\"stamp_2\"].head(10).plot.barh()"
   ]
  },
  {
   "cell_type": "code",
   "execution_count": null,
   "id": "extra-executive",
   "metadata": {
    "papermill": {
     "duration": 0.022069,
     "end_time": "2021-12-10T00:30:13.074173",
     "exception": false,
     "start_time": "2021-12-10T00:30:13.052104",
     "status": "completed"
    },
    "tags": []
   },
   "outputs": [],
   "source": []
  }
 ],
 "metadata": {
  "kernelspec": {
   "display_name": "Python 3",
   "language": "python",
   "name": "python3"
  },
  "language_info": {
   "codemirror_mode": {
    "name": "ipython",
    "version": 3
   },
   "file_extension": ".py",
   "mimetype": "text/x-python",
   "name": "python",
   "nbconvert_exporter": "python",
   "pygments_lexer": "ipython3",
   "version": "3.9.5"
  },
  "papermill": {
   "default_parameters": {},
   "duration": 9.938218,
   "end_time": "2021-12-10T00:30:14.331204",
   "environment_variables": {},
   "exception": null,
   "input_path": "eBay_Overview.ipynb",
   "output_path": "eBay_Overview.ipynb",
   "parameters": {},
   "start_time": "2021-12-10T00:30:04.392986",
   "version": "2.3.3"
  }
 },
 "nbformat": 4,
 "nbformat_minor": 5
}