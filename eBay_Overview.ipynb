{
 "cells": [
  {
   "cell_type": "code",
   "execution_count": 1,
   "id": "reverse-picking",
   "metadata": {
    "execution": {
     "iopub.execute_input": "2021-11-04T20:00:07.783938Z",
     "iopub.status.busy": "2021-11-04T20:00:07.781692Z",
     "iopub.status.idle": "2021-11-04T20:00:08.738958Z",
     "shell.execute_reply": "2021-11-04T20:00:08.740519Z"
    },
    "papermill": {
     "duration": 0.990085,
     "end_time": "2021-11-04T20:00:08.741313",
     "exception": false,
     "start_time": "2021-11-04T20:00:07.751228",
     "status": "completed"
    },
    "tags": []
   },
   "outputs": [],
   "source": [
    "import pandas as pd\n",
    "import sqlite3"
   ]
  },
  {
   "cell_type": "code",
   "execution_count": 2,
   "id": "innovative-syndrome",
   "metadata": {
    "execution": {
     "iopub.execute_input": "2021-11-04T20:00:08.804461Z",
     "iopub.status.busy": "2021-11-04T20:00:08.802105Z",
     "iopub.status.idle": "2021-11-04T20:00:09.536377Z",
     "shell.execute_reply": "2021-11-04T20:00:09.538022Z"
    },
    "papermill": {
     "duration": 0.769377,
     "end_time": "2021-11-04T20:00:09.538526",
     "exception": false,
     "start_time": "2021-11-04T20:00:08.769149",
     "status": "completed"
    },
    "tags": []
   },
   "outputs": [],
   "source": [
    "timestamps = pd.read_sql(\"select distinct record_time from EBAY_TOP_BERLIN order by record_time desc limit 2\", sqlite3.connect(\"UsedObjects.db\"))"
   ]
  },
  {
   "cell_type": "code",
   "execution_count": 3,
   "id": "periodic-identification",
   "metadata": {
    "execution": {
     "iopub.execute_input": "2021-11-04T20:00:09.610425Z",
     "iopub.status.busy": "2021-11-04T20:00:09.607907Z",
     "iopub.status.idle": "2021-11-04T20:00:09.630468Z",
     "shell.execute_reply": "2021-11-04T20:00:09.631913Z"
    },
    "papermill": {
     "duration": 0.072816,
     "end_time": "2021-11-04T20:00:09.632425",
     "exception": false,
     "start_time": "2021-11-04T20:00:09.559609",
     "status": "completed"
    },
    "tags": []
   },
   "outputs": [
    {
     "data": {
      "text/html": [
       "<div>\n",
       "<style scoped>\n",
       "    .dataframe tbody tr th:only-of-type {\n",
       "        vertical-align: middle;\n",
       "    }\n",
       "\n",
       "    .dataframe tbody tr th {\n",
       "        vertical-align: top;\n",
       "    }\n",
       "\n",
       "    .dataframe thead th {\n",
       "        text-align: right;\n",
       "    }\n",
       "</style>\n",
       "<table border=\"1\" class=\"dataframe\">\n",
       "  <thead>\n",
       "    <tr style=\"text-align: right;\">\n",
       "      <th></th>\n",
       "      <th>RECORD_TIME</th>\n",
       "    </tr>\n",
       "  </thead>\n",
       "  <tbody>\n",
       "    <tr>\n",
       "      <th>0</th>\n",
       "      <td>2021-11-04 21:00</td>\n",
       "    </tr>\n",
       "    <tr>\n",
       "      <th>1</th>\n",
       "      <td>2021-11-04 20:30</td>\n",
       "    </tr>\n",
       "  </tbody>\n",
       "</table>\n",
       "</div>"
      ],
      "text/plain": [
       "        RECORD_TIME\n",
       "0  2021-11-04 21:00\n",
       "1  2021-11-04 20:30"
      ]
     },
     "execution_count": 3,
     "metadata": {},
     "output_type": "execute_result"
    }
   ],
   "source": [
    "timestamps"
   ]
  },
  {
   "cell_type": "code",
   "execution_count": 4,
   "id": "alternate-victory",
   "metadata": {
    "execution": {
     "iopub.execute_input": "2021-11-04T20:00:09.688113Z",
     "iopub.status.busy": "2021-11-04T20:00:09.686001Z",
     "iopub.status.idle": "2021-11-04T20:00:10.772278Z",
     "shell.execute_reply": "2021-11-04T20:00:10.773774Z"
    },
    "papermill": {
     "duration": 1.120238,
     "end_time": "2021-11-04T20:00:10.774246",
     "exception": false,
     "start_time": "2021-11-04T20:00:09.654008",
     "status": "completed"
    },
    "tags": []
   },
   "outputs": [],
   "source": [
    "df = pd.read_sql(\"select * from EBAY_TOP_BERLIN where record_time in (select distinct record_time from EBAY_TOP_BERLIN order by record_time desc limit 2)\", sqlite3.connect(\"UsedObjects.db\"))"
   ]
  },
  {
   "cell_type": "code",
   "execution_count": 5,
   "id": "popular-active",
   "metadata": {
    "execution": {
     "iopub.execute_input": "2021-11-04T20:00:10.855263Z",
     "iopub.status.busy": "2021-11-04T20:00:10.841009Z",
     "iopub.status.idle": "2021-11-04T20:00:10.874312Z",
     "shell.execute_reply": "2021-11-04T20:00:10.875749Z"
    },
    "papermill": {
     "duration": 0.076681,
     "end_time": "2021-11-04T20:00:10.876245",
     "exception": false,
     "start_time": "2021-11-04T20:00:10.799564",
     "status": "completed"
    },
    "tags": []
   },
   "outputs": [],
   "source": [
    "df_pivot = df.pivot_table(index=\"PRODUCT\", columns = \"RECORD_TIME\", values = \"LISTING_COUNT\")"
   ]
  },
  {
   "cell_type": "code",
   "execution_count": 6,
   "id": "union-huntington",
   "metadata": {
    "execution": {
     "iopub.execute_input": "2021-11-04T20:00:10.938091Z",
     "iopub.status.busy": "2021-11-04T20:00:10.935688Z",
     "iopub.status.idle": "2021-11-04T20:00:10.945169Z",
     "shell.execute_reply": "2021-11-04T20:00:10.943097Z"
    },
    "papermill": {
     "duration": 0.048026,
     "end_time": "2021-11-04T20:00:10.945772",
     "exception": false,
     "start_time": "2021-11-04T20:00:10.897746",
     "status": "completed"
    },
    "tags": []
   },
   "outputs": [],
   "source": [
    "df_pivot.columns = [\"stamp_1\", \"stamp_2\"]\n",
    "df_pivot_diff = df_pivot.diff(axis=1)"
   ]
  },
  {
   "cell_type": "code",
   "execution_count": 7,
   "id": "fifth-motion",
   "metadata": {
    "execution": {
     "iopub.execute_input": "2021-11-04T20:00:11.008620Z",
     "iopub.status.busy": "2021-11-04T20:00:11.004336Z",
     "iopub.status.idle": "2021-11-04T20:00:12.738369Z",
     "shell.execute_reply": "2021-11-04T20:00:12.740888Z"
    },
    "papermill": {
     "duration": 1.772382,
     "end_time": "2021-11-04T20:00:12.741589",
     "exception": false,
     "start_time": "2021-11-04T20:00:10.969207",
     "status": "completed"
    },
    "tags": []
   },
   "outputs": [
    {
     "data": {
      "text/plain": [
       "<AxesSubplot:ylabel='PRODUCT'>"
      ]
     },
     "execution_count": 7,
     "metadata": {},
     "output_type": "execute_result"
    },
    {
     "data": {
      "image/png": "[encoded data removed]",
      "text/plain": [
       "<Figure size 432x288 with 1 Axes>"
      ]
     },
     "metadata": {
      "needs_background": "light"
     },
     "output_type": "display_data"
    }
   ],
   "source": [
    "df_pivot_diff.sort_values(\"stamp_2\", ascending = False)[\"stamp_2\"].head(10).plot.barh()"
   ]
  },
  {
   "cell_type": "code",
   "execution_count": null,
   "id": "extra-executive",
   "metadata": {
    "papermill": {
     "duration": 0.023747,
     "end_time": "2021-11-04T20:00:12.789979",
     "exception": false,
     "start_time": "2021-11-04T20:00:12.766232",
     "status": "completed"
    },
    "tags": []
   },
   "outputs": [],
   "source": []
  }
 ],
 "metadata": {
  "kernelspec": {
   "display_name": "Python 3",
   "language": "python",
   "name": "python3"
  },
  "language_info": {
   "codemirror_mode": {
    "name": "ipython",
    "version": 3
   },
   "file_extension": ".py",
   "mimetype": "text/x-python",
   "name": "python",
   "nbconvert_exporter": "python",
   "pygments_lexer": "ipython3",
   "version": "3.9.5"
  },
  "papermill": {
   "default_parameters": {},
   "duration": 9.016221,
   "end_time": "2021-11-04T20:00:13.963245",
   "environment_variables": {},
   "exception": null,
   "input_path": "eBay_Overview.ipynb",
   "output_path": "eBay_Overview.ipynb",
   "parameters": {},
   "start_time": "2021-11-04T20:00:04.947024",
   "version": "2.3.3"
  }
 },
 "nbformat": 4,
 "nbformat_minor": 5
}