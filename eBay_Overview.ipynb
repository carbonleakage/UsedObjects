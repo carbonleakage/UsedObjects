{
 "cells": [
  {
   "cell_type": "code",
   "execution_count": 1,
   "id": "reverse-picking",
   "metadata": {
    "execution": {
     "iopub.execute_input": "2021-08-19T13:00:07.251763Z",
     "iopub.status.busy": "2021-08-19T13:00:07.249782Z",
     "iopub.status.idle": "2021-08-19T13:00:08.055282Z",
     "shell.execute_reply": "2021-08-19T13:00:08.056523Z"
    },
    "papermill": {
     "duration": 0.858649,
     "end_time": "2021-08-19T13:00:08.057168",
     "exception": false,
     "start_time": "2021-08-19T13:00:07.198519",
     "status": "completed"
    },
    "tags": []
   },
   "outputs": [],
   "source": [
    "import pandas as pd\n",
    "import sqlite3"
   ]
  },
  {
   "cell_type": "code",
   "execution_count": 2,
   "id": "innovative-syndrome",
   "metadata": {
    "execution": {
     "iopub.execute_input": "2021-08-19T13:00:08.108540Z",
     "iopub.status.busy": "2021-08-19T13:00:08.106582Z",
     "iopub.status.idle": "2021-08-19T13:00:08.188809Z",
     "shell.execute_reply": "2021-08-19T13:00:08.190168Z"
    },
    "papermill": {
     "duration": 0.112207,
     "end_time": "2021-08-19T13:00:08.190600",
     "exception": false,
     "start_time": "2021-08-19T13:00:08.078393",
     "status": "completed"
    },
    "tags": []
   },
   "outputs": [],
   "source": [
    "timestamps = pd.read_sql(\"select distinct record_time from EBAY_TOP_BERLIN order by record_time desc limit 2\", sqlite3.connect(\"UsedObjects.db\"))"
   ]
  },
  {
   "cell_type": "code",
   "execution_count": 3,
   "id": "periodic-identification",
   "metadata": {
    "execution": {
     "iopub.execute_input": "2021-08-19T13:00:08.261739Z",
     "iopub.status.busy": "2021-08-19T13:00:08.256659Z",
     "iopub.status.idle": "2021-08-19T13:00:08.276670Z",
     "shell.execute_reply": "2021-08-19T13:00:08.278025Z"
    },
    "papermill": {
     "duration": 0.066898,
     "end_time": "2021-08-19T13:00:08.278491",
     "exception": false,
     "start_time": "2021-08-19T13:00:08.211593",
     "status": "completed"
    },
    "tags": []
   },
   "outputs": [
    {
     "data": {
      "text/html": [
       "<div>\n",
       "<style scoped>\n",
       "    .dataframe tbody tr th:only-of-type {\n",
       "        vertical-align: middle;\n",
       "    }\n",
       "\n",
       "    .dataframe tbody tr th {\n",
       "        vertical-align: top;\n",
       "    }\n",
       "\n",
       "    .dataframe thead th {\n",
       "        text-align: right;\n",
       "    }\n",
       "</style>\n",
       "<table border=\"1\" class=\"dataframe\">\n",
       "  <thead>\n",
       "    <tr style=\"text-align: right;\">\n",
       "      <th></th>\n",
       "      <th>RECORD_TIME</th>\n",
       "    </tr>\n",
       "  </thead>\n",
       "  <tbody>\n",
       "    <tr>\n",
       "      <th>0</th>\n",
       "      <td>2021-08-19 15:00</td>\n",
       "    </tr>\n",
       "    <tr>\n",
       "      <th>1</th>\n",
       "      <td>2021-08-19 14:30</td>\n",
       "    </tr>\n",
       "  </tbody>\n",
       "</table>\n",
       "</div>"
      ],
      "text/plain": [
       "        RECORD_TIME\n",
       "0  2021-08-19 15:00\n",
       "1  2021-08-19 14:30"
      ]
     },
     "execution_count": 3,
     "metadata": {},
     "output_type": "execute_result"
    }
   ],
   "source": [
    "timestamps"
   ]
  },
  {
   "cell_type": "code",
   "execution_count": 4,
   "id": "alternate-victory",
   "metadata": {
    "execution": {
     "iopub.execute_input": "2021-08-19T13:00:08.330447Z",
     "iopub.status.busy": "2021-08-19T13:00:08.328495Z",
     "iopub.status.idle": "2021-08-19T13:00:08.451826Z",
     "shell.execute_reply": "2021-08-19T13:00:08.450328Z"
    },
    "papermill": {
     "duration": 0.152224,
     "end_time": "2021-08-19T13:00:08.452192",
     "exception": false,
     "start_time": "2021-08-19T13:00:08.299968",
     "status": "completed"
    },
    "tags": []
   },
   "outputs": [],
   "source": [
    "df = pd.read_sql(\"select * from EBAY_TOP_BERLIN where record_time in (select distinct record_time from EBAY_TOP_BERLIN order by record_time desc limit 2)\", sqlite3.connect(\"UsedObjects.db\"))"
   ]
  },
  {
   "cell_type": "code",
   "execution_count": 5,
   "id": "popular-active",
   "metadata": {
    "execution": {
     "iopub.execute_input": "2021-08-19T13:00:08.523127Z",
     "iopub.status.busy": "2021-08-19T13:00:08.511123Z",
     "iopub.status.idle": "2021-08-19T13:00:08.540917Z",
     "shell.execute_reply": "2021-08-19T13:00:08.542634Z"
    },
    "papermill": {
     "duration": 0.069964,
     "end_time": "2021-08-19T13:00:08.543141",
     "exception": false,
     "start_time": "2021-08-19T13:00:08.473177",
     "status": "completed"
    },
    "tags": []
   },
   "outputs": [],
   "source": [
    "df_pivot = df.pivot_table(index=\"PRODUCT\", columns = \"RECORD_TIME\", values = \"LISTING_COUNT\")"
   ]
  },
  {
   "cell_type": "code",
   "execution_count": 6,
   "id": "union-huntington",
   "metadata": {
    "execution": {
     "iopub.execute_input": "2021-08-19T13:00:08.602072Z",
     "iopub.status.busy": "2021-08-19T13:00:08.599974Z",
     "iopub.status.idle": "2021-08-19T13:00:08.605182Z",
     "shell.execute_reply": "2021-08-19T13:00:08.606525Z"
    },
    "papermill": {
     "duration": 0.041524,
     "end_time": "2021-08-19T13:00:08.606947",
     "exception": false,
     "start_time": "2021-08-19T13:00:08.565423",
     "status": "completed"
    },
    "tags": []
   },
   "outputs": [],
   "source": [
    "df_pivot.columns = [\"stamp_1\", \"stamp_2\"]\n",
    "df_pivot_diff = df_pivot.diff(axis=1)"
   ]
  },
  {
   "cell_type": "code",
   "execution_count": 7,
   "id": "fifth-motion",
   "metadata": {
    "execution": {
     "iopub.execute_input": "2021-08-19T13:00:08.661774Z",
     "iopub.status.busy": "2021-08-19T13:00:08.659382Z",
     "iopub.status.idle": "2021-08-19T13:00:10.153322Z",
     "shell.execute_reply": "2021-08-19T13:00:10.155405Z"
    },
    "papermill": {
     "duration": 1.527655,
     "end_time": "2021-08-19T13:00:10.155977",
     "exception": false,
     "start_time": "2021-08-19T13:00:08.628322",
     "status": "completed"
    },
    "tags": []
   },
   "outputs": [
    {
     "data": {
      "text/plain": [
       "<AxesSubplot:ylabel='PRODUCT'>"
      ]
     },
     "execution_count": 7,
     "metadata": {},
     "output_type": "execute_result"
    },
    {
     "data": {
      "image/png": "[encoded data removed]",
      "text/plain": [
       "<Figure size 432x288 with 1 Axes>"
      ]
     },
     "metadata": {
      "needs_background": "light"
     },
     "output_type": "display_data"
    }
   ],
   "source": [
    "df_pivot_diff.sort_values(\"stamp_2\", ascending = False)[\"stamp_2\"].head(10).plot.barh()"
   ]
  },
  {
   "cell_type": "code",
   "execution_count": null,
   "id": "extra-executive",
   "metadata": {
    "papermill": {
     "duration": 0.022231,
     "end_time": "2021-08-19T13:00:10.202346",
     "exception": false,
     "start_time": "2021-08-19T13:00:10.180115",
     "status": "completed"
    },
    "tags": []
   },
   "outputs": [],
   "source": []
  }
 ],
 "metadata": {
  "kernelspec": {
   "display_name": "Python 3",
   "language": "python",
   "name": "python3"
  },
  "language_info": {
   "codemirror_mode": {
    "name": "ipython",
    "version": 3
   },
   "file_extension": ".py",
   "mimetype": "text/x-python",
   "name": "python",
   "nbconvert_exporter": "python",
   "pygments_lexer": "ipython3",
   "version": "3.9.5"
  },
  "papermill": {
   "default_parameters": {},
   "duration": 6.834673,
   "end_time": "2021-08-19T13:00:11.628446",
   "environment_variables": {},
   "exception": null,
   "input_path": "eBay_Overview.ipynb",
   "output_path": "eBay_Overview.ipynb",
   "parameters": {},
   "start_time": "2021-08-19T13:00:04.793773",
   "version": "2.3.3"
  }
 },
 "nbformat": 4,
 "nbformat_minor": 5
}