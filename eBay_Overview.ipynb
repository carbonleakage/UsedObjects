{
 "cells": [
  {
   "cell_type": "code",
   "execution_count": 1,
   "id": "reverse-picking",
   "metadata": {
    "execution": {
     "iopub.execute_input": "2021-10-21T02:00:07.278655Z",
     "iopub.status.busy": "2021-10-21T02:00:07.276598Z",
     "iopub.status.idle": "2021-10-21T02:00:08.092935Z",
     "shell.execute_reply": "2021-10-21T02:00:08.094251Z"
    },
    "papermill": {
     "duration": 0.867288,
     "end_time": "2021-10-21T02:00:08.094873",
     "exception": false,
     "start_time": "2021-10-21T02:00:07.227585",
     "status": "completed"
    },
    "tags": []
   },
   "outputs": [],
   "source": [
    "import pandas as pd\n",
    "import sqlite3"
   ]
  },
  {
   "cell_type": "code",
   "execution_count": 2,
   "id": "innovative-syndrome",
   "metadata": {
    "execution": {
     "iopub.execute_input": "2021-10-21T02:00:08.149285Z",
     "iopub.status.busy": "2021-10-21T02:00:08.146907Z",
     "iopub.status.idle": "2021-10-21T02:00:08.753161Z",
     "shell.execute_reply": "2021-10-21T02:00:08.754318Z"
    },
    "papermill": {
     "duration": 0.636629,
     "end_time": "2021-10-21T02:00:08.754723",
     "exception": false,
     "start_time": "2021-10-21T02:00:08.118094",
     "status": "completed"
    },
    "tags": []
   },
   "outputs": [],
   "source": [
    "timestamps = pd.read_sql(\"select distinct record_time from EBAY_TOP_BERLIN order by record_time desc limit 2\", sqlite3.connect(\"UsedObjects.db\"))"
   ]
  },
  {
   "cell_type": "code",
   "execution_count": 3,
   "id": "periodic-identification",
   "metadata": {
    "execution": {
     "iopub.execute_input": "2021-10-21T02:00:08.838192Z",
     "iopub.status.busy": "2021-10-21T02:00:08.836066Z",
     "iopub.status.idle": "2021-10-21T02:00:08.857155Z",
     "shell.execute_reply": "2021-10-21T02:00:08.858563Z"
    },
    "papermill": {
     "duration": 0.072617,
     "end_time": "2021-10-21T02:00:08.858975",
     "exception": false,
     "start_time": "2021-10-21T02:00:08.786358",
     "status": "completed"
    },
    "tags": []
   },
   "outputs": [
    {
     "data": {
      "text/html": [
       "<div>\n",
       "<style scoped>\n",
       "    .dataframe tbody tr th:only-of-type {\n",
       "        vertical-align: middle;\n",
       "    }\n",
       "\n",
       "    .dataframe tbody tr th {\n",
       "        vertical-align: top;\n",
       "    }\n",
       "\n",
       "    .dataframe thead th {\n",
       "        text-align: right;\n",
       "    }\n",
       "</style>\n",
       "<table border=\"1\" class=\"dataframe\">\n",
       "  <thead>\n",
       "    <tr style=\"text-align: right;\">\n",
       "      <th></th>\n",
       "      <th>RECORD_TIME</th>\n",
       "    </tr>\n",
       "  </thead>\n",
       "  <tbody>\n",
       "    <tr>\n",
       "      <th>0</th>\n",
       "      <td>2021-10-21 04:00</td>\n",
       "    </tr>\n",
       "    <tr>\n",
       "      <th>1</th>\n",
       "      <td>2021-10-21 03:30</td>\n",
       "    </tr>\n",
       "  </tbody>\n",
       "</table>\n",
       "</div>"
      ],
      "text/plain": [
       "        RECORD_TIME\n",
       "0  2021-10-21 04:00\n",
       "1  2021-10-21 03:30"
      ]
     },
     "execution_count": 3,
     "metadata": {},
     "output_type": "execute_result"
    }
   ],
   "source": [
    "timestamps"
   ]
  },
  {
   "cell_type": "code",
   "execution_count": 4,
   "id": "alternate-victory",
   "metadata": {
    "execution": {
     "iopub.execute_input": "2021-10-21T02:00:08.912642Z",
     "iopub.status.busy": "2021-10-21T02:00:08.910379Z",
     "iopub.status.idle": "2021-10-21T02:00:09.781158Z",
     "shell.execute_reply": "2021-10-21T02:00:09.782390Z"
    },
    "papermill": {
     "duration": 0.902202,
     "end_time": "2021-10-21T02:00:09.782783",
     "exception": false,
     "start_time": "2021-10-21T02:00:08.880581",
     "status": "completed"
    },
    "tags": []
   },
   "outputs": [],
   "source": [
    "df = pd.read_sql(\"select * from EBAY_TOP_BERLIN where record_time in (select distinct record_time from EBAY_TOP_BERLIN order by record_time desc limit 2)\", sqlite3.connect(\"UsedObjects.db\"))"
   ]
  },
  {
   "cell_type": "code",
   "execution_count": 5,
   "id": "popular-active",
   "metadata": {
    "execution": {
     "iopub.execute_input": "2021-10-21T02:00:09.852599Z",
     "iopub.status.busy": "2021-10-21T02:00:09.842050Z",
     "iopub.status.idle": "2021-10-21T02:00:09.869643Z",
     "shell.execute_reply": "2021-10-21T02:00:09.870873Z"
    },
    "papermill": {
     "duration": 0.067787,
     "end_time": "2021-10-21T02:00:09.871264",
     "exception": false,
     "start_time": "2021-10-21T02:00:09.803477",
     "status": "completed"
    },
    "tags": []
   },
   "outputs": [],
   "source": [
    "df_pivot = df.pivot_table(index=\"PRODUCT\", columns = \"RECORD_TIME\", values = \"LISTING_COUNT\")"
   ]
  },
  {
   "cell_type": "code",
   "execution_count": 6,
   "id": "union-huntington",
   "metadata": {
    "execution": {
     "iopub.execute_input": "2021-10-21T02:00:09.929819Z",
     "iopub.status.busy": "2021-10-21T02:00:09.927754Z",
     "iopub.status.idle": "2021-10-21T02:00:09.933175Z",
     "shell.execute_reply": "2021-10-21T02:00:09.934583Z"
    },
    "papermill": {
     "duration": 0.042046,
     "end_time": "2021-10-21T02:00:09.935033",
     "exception": false,
     "start_time": "2021-10-21T02:00:09.892987",
     "status": "completed"
    },
    "tags": []
   },
   "outputs": [],
   "source": [
    "df_pivot.columns = [\"stamp_1\", \"stamp_2\"]\n",
    "df_pivot_diff = df_pivot.diff(axis=1)"
   ]
  },
  {
   "cell_type": "code",
   "execution_count": 7,
   "id": "fifth-motion",
   "metadata": {
    "execution": {
     "iopub.execute_input": "2021-10-21T02:00:09.990582Z",
     "iopub.status.busy": "2021-10-21T02:00:09.988069Z",
     "iopub.status.idle": "2021-10-21T02:00:11.487657Z",
     "shell.execute_reply": "2021-10-21T02:00:11.489140Z"
    },
    "papermill": {
     "duration": 1.533462,
     "end_time": "2021-10-21T02:00:11.489601",
     "exception": false,
     "start_time": "2021-10-21T02:00:09.956139",
     "status": "completed"
    },
    "tags": []
   },
   "outputs": [
    {
     "data": {
      "text/plain": [
       "<AxesSubplot:ylabel='PRODUCT'>"
      ]
     },
     "execution_count": 7,
     "metadata": {},
     "output_type": "execute_result"
    },
    {
     "data": {
      "image/png": "[encoded data removed]",
      "text/plain": [
       "<Figure size 432x288 with 1 Axes>"
      ]
     },
     "metadata": {
      "needs_background": "light"
     },
     "output_type": "display_data"
    }
   ],
   "source": [
    "df_pivot_diff.sort_values(\"stamp_2\", ascending = False)[\"stamp_2\"].head(10).plot.barh()"
   ]
  },
  {
   "cell_type": "code",
   "execution_count": null,
   "id": "extra-executive",
   "metadata": {
    "papermill": {
     "duration": 0.022285,
     "end_time": "2021-10-21T02:00:11.536829",
     "exception": false,
     "start_time": "2021-10-21T02:00:11.514544",
     "status": "completed"
    },
    "tags": []
   },
   "outputs": [],
   "source": []
  }
 ],
 "metadata": {
  "kernelspec": {
   "display_name": "Python 3",
   "language": "python",
   "name": "python3"
  },
  "language_info": {
   "codemirror_mode": {
    "name": "ipython",
    "version": 3
   },
   "file_extension": ".py",
   "mimetype": "text/x-python",
   "name": "python",
   "nbconvert_exporter": "python",
   "pygments_lexer": "ipython3",
   "version": "3.9.5"
  },
  "papermill": {
   "default_parameters": {},
   "duration": 7.376654,
   "end_time": "2021-10-21T02:00:12.177457",
   "environment_variables": {},
   "exception": null,
   "input_path": "eBay_Overview.ipynb",
   "output_path": "eBay_Overview.ipynb",
   "parameters": {},
   "start_time": "2021-10-21T02:00:04.800803",
   "version": "2.3.3"
  }
 },
 "nbformat": 4,
 "nbformat_minor": 5
}