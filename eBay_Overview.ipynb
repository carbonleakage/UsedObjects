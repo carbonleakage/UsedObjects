{
 "cells": [
  {
   "cell_type": "code",
   "execution_count": 1,
   "id": "reverse-picking",
   "metadata": {
    "execution": {
     "iopub.execute_input": "2021-11-24T18:00:08.391030Z",
     "iopub.status.busy": "2021-11-24T18:00:08.388585Z",
     "iopub.status.idle": "2021-11-24T18:00:09.352242Z",
     "shell.execute_reply": "2021-11-24T18:00:09.350294Z"
    },
    "papermill": {
     "duration": 1.010939,
     "end_time": "2021-11-24T18:00:09.352848",
     "exception": false,
     "start_time": "2021-11-24T18:00:08.341909",
     "status": "completed"
    },
    "tags": []
   },
   "outputs": [],
   "source": [
    "import pandas as pd\n",
    "import sqlite3"
   ]
  },
  {
   "cell_type": "code",
   "execution_count": 2,
   "id": "innovative-syndrome",
   "metadata": {
    "execution": {
     "iopub.execute_input": "2021-11-24T18:00:09.419090Z",
     "iopub.status.busy": "2021-11-24T18:00:09.414371Z",
     "iopub.status.idle": "2021-11-24T18:00:10.324172Z",
     "shell.execute_reply": "2021-11-24T18:00:10.325541Z"
    },
    "papermill": {
     "duration": 0.94603,
     "end_time": "2021-11-24T18:00:10.325982",
     "exception": false,
     "start_time": "2021-11-24T18:00:09.379952",
     "status": "completed"
    },
    "tags": []
   },
   "outputs": [],
   "source": [
    "timestamps = pd.read_sql(\"select distinct record_time from EBAY_TOP_BERLIN order by record_time desc limit 2\", sqlite3.connect(\"UsedObjects.db\"))"
   ]
  },
  {
   "cell_type": "code",
   "execution_count": 3,
   "id": "periodic-identification",
   "metadata": {
    "execution": {
     "iopub.execute_input": "2021-11-24T18:00:10.387935Z",
     "iopub.status.busy": "2021-11-24T18:00:10.385928Z",
     "iopub.status.idle": "2021-11-24T18:00:10.405858Z",
     "shell.execute_reply": "2021-11-24T18:00:10.407185Z"
    },
    "papermill": {
     "duration": 0.063354,
     "end_time": "2021-11-24T18:00:10.407603",
     "exception": false,
     "start_time": "2021-11-24T18:00:10.344249",
     "status": "completed"
    },
    "tags": []
   },
   "outputs": [
    {
     "data": {
      "text/html": [
       "<div>\n",
       "<style scoped>\n",
       "    .dataframe tbody tr th:only-of-type {\n",
       "        vertical-align: middle;\n",
       "    }\n",
       "\n",
       "    .dataframe tbody tr th {\n",
       "        vertical-align: top;\n",
       "    }\n",
       "\n",
       "    .dataframe thead th {\n",
       "        text-align: right;\n",
       "    }\n",
       "</style>\n",
       "<table border=\"1\" class=\"dataframe\">\n",
       "  <thead>\n",
       "    <tr style=\"text-align: right;\">\n",
       "      <th></th>\n",
       "      <th>RECORD_TIME</th>\n",
       "    </tr>\n",
       "  </thead>\n",
       "  <tbody>\n",
       "    <tr>\n",
       "      <th>0</th>\n",
       "      <td>2021-11-24 19:00</td>\n",
       "    </tr>\n",
       "    <tr>\n",
       "      <th>1</th>\n",
       "      <td>2021-11-24 18:30</td>\n",
       "    </tr>\n",
       "  </tbody>\n",
       "</table>\n",
       "</div>"
      ],
      "text/plain": [
       "        RECORD_TIME\n",
       "0  2021-11-24 19:00\n",
       "1  2021-11-24 18:30"
      ]
     },
     "execution_count": 3,
     "metadata": {},
     "output_type": "execute_result"
    }
   ],
   "source": [
    "timestamps"
   ]
  },
  {
   "cell_type": "code",
   "execution_count": 4,
   "id": "alternate-victory",
   "metadata": {
    "execution": {
     "iopub.execute_input": "2021-11-24T18:00:10.459329Z",
     "iopub.status.busy": "2021-11-24T18:00:10.457157Z",
     "iopub.status.idle": "2021-11-24T18:00:11.767084Z",
     "shell.execute_reply": "2021-11-24T18:00:11.768554Z"
    },
    "papermill": {
     "duration": 1.340325,
     "end_time": "2021-11-24T18:00:11.769162",
     "exception": false,
     "start_time": "2021-11-24T18:00:10.428837",
     "status": "completed"
    },
    "tags": []
   },
   "outputs": [],
   "source": [
    "df = pd.read_sql(\"select * from EBAY_TOP_BERLIN where record_time in (select distinct record_time from EBAY_TOP_BERLIN order by record_time desc limit 2)\", sqlite3.connect(\"UsedObjects.db\"))"
   ]
  },
  {
   "cell_type": "code",
   "execution_count": 5,
   "id": "popular-active",
   "metadata": {
    "execution": {
     "iopub.execute_input": "2021-11-24T18:00:11.844850Z",
     "iopub.status.busy": "2021-11-24T18:00:11.837072Z",
     "iopub.status.idle": "2021-11-24T18:00:11.866462Z",
     "shell.execute_reply": "2021-11-24T18:00:11.864657Z"
    },
    "papermill": {
     "duration": 0.077107,
     "end_time": "2021-11-24T18:00:11.866947",
     "exception": false,
     "start_time": "2021-11-24T18:00:11.789840",
     "status": "completed"
    },
    "tags": []
   },
   "outputs": [],
   "source": [
    "df_pivot = df.pivot_table(index=\"PRODUCT\", columns = \"RECORD_TIME\", values = \"LISTING_COUNT\")"
   ]
  },
  {
   "cell_type": "code",
   "execution_count": 6,
   "id": "union-huntington",
   "metadata": {
    "execution": {
     "iopub.execute_input": "2021-11-24T18:00:11.932018Z",
     "iopub.status.busy": "2021-11-24T18:00:11.929449Z",
     "iopub.status.idle": "2021-11-24T18:00:11.935805Z",
     "shell.execute_reply": "2021-11-24T18:00:11.938150Z"
    },
    "papermill": {
     "duration": 0.047944,
     "end_time": "2021-11-24T18:00:11.938823",
     "exception": false,
     "start_time": "2021-11-24T18:00:11.890879",
     "status": "completed"
    },
    "tags": []
   },
   "outputs": [],
   "source": [
    "df_pivot.columns = [\"stamp_1\", \"stamp_2\"]\n",
    "df_pivot_diff = df_pivot.diff(axis=1)"
   ]
  },
  {
   "cell_type": "code",
   "execution_count": 7,
   "id": "fifth-motion",
   "metadata": {
    "execution": {
     "iopub.execute_input": "2021-11-24T18:00:12.002868Z",
     "iopub.status.busy": "2021-11-24T18:00:11.999855Z",
     "iopub.status.idle": "2021-11-24T18:00:13.983843Z",
     "shell.execute_reply": "2021-11-24T18:00:13.987226Z"
    },
    "papermill": {
     "duration": 2.024111,
     "end_time": "2021-11-24T18:00:13.988166",
     "exception": false,
     "start_time": "2021-11-24T18:00:11.964055",
     "status": "completed"
    },
    "tags": []
   },
   "outputs": [
    {
     "data": {
      "text/plain": [
       "<AxesSubplot:ylabel='PRODUCT'>"
      ]
     },
     "execution_count": 7,
     "metadata": {},
     "output_type": "execute_result"
    },
    {
     "data": {
      "image/png": "[encoded data removed]",
      "text/plain": [
       "<Figure size 432x288 with 1 Axes>"
      ]
     },
     "metadata": {
      "needs_background": "light"
     },
     "output_type": "display_data"
    }
   ],
   "source": [
    "df_pivot_diff.sort_values(\"stamp_2\", ascending = False)[\"stamp_2\"].head(10).plot.barh()"
   ]
  },
  {
   "cell_type": "code",
   "execution_count": null,
   "id": "extra-executive",
   "metadata": {
    "papermill": {
     "duration": 0.033887,
     "end_time": "2021-11-24T18:00:14.059202",
     "exception": false,
     "start_time": "2021-11-24T18:00:14.025315",
     "status": "completed"
    },
    "tags": []
   },
   "outputs": [],
   "source": []
  }
 ],
 "metadata": {
  "kernelspec": {
   "display_name": "Python 3",
   "language": "python",
   "name": "python3"
  },
  "language_info": {
   "codemirror_mode": {
    "name": "ipython",
    "version": 3
   },
   "file_extension": ".py",
   "mimetype": "text/x-python",
   "name": "python",
   "nbconvert_exporter": "python",
   "pygments_lexer": "ipython3",
   "version": "3.9.5"
  },
  "papermill": {
   "default_parameters": {},
   "duration": 9.938034,
   "end_time": "2021-11-24T18:00:15.547612",
   "environment_variables": {},
   "exception": null,
   "input_path": "eBay_Overview.ipynb",
   "output_path": "eBay_Overview.ipynb",
   "parameters": {},
   "start_time": "2021-11-24T18:00:05.609578",
   "version": "2.3.3"
  }
 },
 "nbformat": 4,
 "nbformat_minor": 5
}