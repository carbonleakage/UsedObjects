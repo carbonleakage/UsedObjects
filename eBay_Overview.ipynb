{
 "cells": [
  {
   "cell_type": "code",
   "execution_count": 1,
   "id": "reverse-picking",
   "metadata": {
    "execution": {
     "iopub.execute_input": "2021-08-08T21:53:59.402368Z",
     "iopub.status.busy": "2021-08-08T21:53:59.401608Z",
     "iopub.status.idle": "2021-08-08T21:54:00.024907Z",
     "shell.execute_reply": "2021-08-08T21:54:00.024142Z"
    },
    "papermill": {
     "duration": 0.64262,
     "end_time": "2021-08-08T21:54:00.025117",
     "exception": false,
     "start_time": "2021-08-08T21:53:59.382497",
     "status": "completed"
    },
    "tags": []
   },
   "outputs": [],
   "source": [
    "import pandas as pd\n",
    "import sqlite3"
   ]
  },
  {
   "cell_type": "code",
   "execution_count": 2,
   "id": "innovative-syndrome",
   "metadata": {
    "execution": {
     "iopub.execute_input": "2021-08-08T21:54:00.053161Z",
     "iopub.status.busy": "2021-08-08T21:54:00.052383Z",
     "iopub.status.idle": "2021-08-08T21:54:00.250301Z",
     "shell.execute_reply": "2021-08-08T21:54:00.250981Z"
    },
    "papermill": {
     "duration": 0.216928,
     "end_time": "2021-08-08T21:54:00.251190",
     "exception": false,
     "start_time": "2021-08-08T21:54:00.034262",
     "status": "completed"
    },
    "tags": []
   },
   "outputs": [],
   "source": [
    "timestamps = pd.read_sql(\"select distinct record_time from EBAY_TOP_BERLIN order by record_time desc limit 2\", sqlite3.connect(\"UsedObjects.db\"))"
   ]
  },
  {
   "cell_type": "code",
   "execution_count": 3,
   "id": "periodic-identification",
   "metadata": {
    "execution": {
     "iopub.execute_input": "2021-08-08T21:54:00.287866Z",
     "iopub.status.busy": "2021-08-08T21:54:00.283702Z",
     "iopub.status.idle": "2021-08-08T21:54:00.296004Z",
     "shell.execute_reply": "2021-08-08T21:54:00.295119Z"
    },
    "papermill": {
     "duration": 0.034877,
     "end_time": "2021-08-08T21:54:00.296185",
     "exception": false,
     "start_time": "2021-08-08T21:54:00.261308",
     "status": "completed"
    },
    "tags": []
   },
   "outputs": [
    {
     "data": {
      "text/html": [
       "<div>\n",
       "<style scoped>\n",
       "    .dataframe tbody tr th:only-of-type {\n",
       "        vertical-align: middle;\n",
       "    }\n",
       "\n",
       "    .dataframe tbody tr th {\n",
       "        vertical-align: top;\n",
       "    }\n",
       "\n",
       "    .dataframe thead th {\n",
       "        text-align: right;\n",
       "    }\n",
       "</style>\n",
       "<table border=\"1\" class=\"dataframe\">\n",
       "  <thead>\n",
       "    <tr style=\"text-align: right;\">\n",
       "      <th></th>\n",
       "      <th>RECORD_TIME</th>\n",
       "    </tr>\n",
       "  </thead>\n",
       "  <tbody>\n",
       "    <tr>\n",
       "      <th>0</th>\n",
       "      <td>2021-08-08 23:53</td>\n",
       "    </tr>\n",
       "    <tr>\n",
       "      <th>1</th>\n",
       "      <td>2021-08-08 23:52</td>\n",
       "    </tr>\n",
       "  </tbody>\n",
       "</table>\n",
       "</div>"
      ],
      "text/plain": [
       "        RECORD_TIME\n",
       "0  2021-08-08 23:53\n",
       "1  2021-08-08 23:52"
      ]
     },
     "execution_count": 3,
     "metadata": {},
     "output_type": "execute_result"
    }
   ],
   "source": [
    "timestamps"
   ]
  },
  {
   "cell_type": "code",
   "execution_count": 4,
   "id": "alternate-victory",
   "metadata": {
    "execution": {
     "iopub.execute_input": "2021-08-08T21:54:00.325922Z",
     "iopub.status.busy": "2021-08-08T21:54:00.324480Z",
     "iopub.status.idle": "2021-08-08T21:54:00.336474Z",
     "shell.execute_reply": "2021-08-08T21:54:00.337487Z"
    },
    "papermill": {
     "duration": 0.028182,
     "end_time": "2021-08-08T21:54:00.337819",
     "exception": false,
     "start_time": "2021-08-08T21:54:00.309637",
     "status": "completed"
    },
    "tags": []
   },
   "outputs": [],
   "source": [
    "df = pd.read_sql(\"select * from EBAY_TOP_BERLIN where record_time in (select distinct record_time from EBAY_TOP_BERLIN order by record_time desc limit 2)\", sqlite3.connect(\"UsedObjects.db\"))"
   ]
  },
  {
   "cell_type": "code",
   "execution_count": 5,
   "id": "popular-active",
   "metadata": {
    "execution": {
     "iopub.execute_input": "2021-08-08T21:54:00.404396Z",
     "iopub.status.busy": "2021-08-08T21:54:00.396648Z",
     "iopub.status.idle": "2021-08-08T21:54:00.408365Z",
     "shell.execute_reply": "2021-08-08T21:54:00.409420Z"
    },
    "papermill": {
     "duration": 0.055948,
     "end_time": "2021-08-08T21:54:00.409730",
     "exception": false,
     "start_time": "2021-08-08T21:54:00.353782",
     "status": "completed"
    },
    "tags": []
   },
   "outputs": [],
   "source": [
    "df_pivot = df.pivot_table(index=\"PRODUCT\", columns = \"RECORD_TIME\", values = \"LISTING_COUNT\")"
   ]
  },
  {
   "cell_type": "code",
   "execution_count": 6,
   "id": "union-huntington",
   "metadata": {
    "execution": {
     "iopub.execute_input": "2021-08-08T21:54:00.464524Z",
     "iopub.status.busy": "2021-08-08T21:54:00.461713Z",
     "iopub.status.idle": "2021-08-08T21:54:00.466061Z",
     "shell.execute_reply": "2021-08-08T21:54:00.467165Z"
    },
    "papermill": {
     "duration": 0.038411,
     "end_time": "2021-08-08T21:54:00.467467",
     "exception": false,
     "start_time": "2021-08-08T21:54:00.429056",
     "status": "completed"
    },
    "tags": []
   },
   "outputs": [],
   "source": [
    "df_pivot.columns = [\"stamp_1\", \"stamp_2\"]\n",
    "df_pivot_diff = df_pivot.diff(axis=1)"
   ]
  },
  {
   "cell_type": "code",
   "execution_count": 7,
   "id": "fifth-motion",
   "metadata": {
    "execution": {
     "iopub.execute_input": "2021-08-08T21:54:00.515202Z",
     "iopub.status.busy": "2021-08-08T21:54:00.513740Z",
     "iopub.status.idle": "2021-08-08T21:54:01.317797Z",
     "shell.execute_reply": "2021-08-08T21:54:01.318374Z"
    },
    "papermill": {
     "duration": 0.835597,
     "end_time": "2021-08-08T21:54:01.318563",
     "exception": false,
     "start_time": "2021-08-08T21:54:00.482966",
     "status": "completed"
    },
    "tags": []
   },
   "outputs": [
    {
     "data": {
      "text/plain": [
       "<AxesSubplot:ylabel='PRODUCT'>"
      ]
     },
     "execution_count": 7,
     "metadata": {},
     "output_type": "execute_result"
    },
    {
     "data": {
      "image/png": "[encoded data removed]",
      "text/plain": [
       "<Figure size 432x288 with 1 Axes>"
      ]
     },
     "metadata": {
      "needs_background": "light"
     },
     "output_type": "display_data"
    }
   ],
   "source": [
    "df_pivot_diff.sort_values(\"stamp_2\", ascending = False)[\"stamp_2\"].head(10).plot.barh()"
   ]
  },
  {
   "cell_type": "code",
   "execution_count": null,
   "id": "extra-executive",
   "metadata": {
    "papermill": {
     "duration": 0.011091,
     "end_time": "2021-08-08T21:54:01.341119",
     "exception": false,
     "start_time": "2021-08-08T21:54:01.330028",
     "status": "completed"
    },
    "tags": []
   },
   "outputs": [],
   "source": []
  }
 ],
 "metadata": {
  "kernelspec": {
   "display_name": "Python 3",
   "language": "python",
   "name": "python3"
  },
  "language_info": {
   "codemirror_mode": {
    "name": "ipython",
    "version": 3
   },
   "file_extension": ".py",
   "mimetype": "text/x-python",
   "name": "python",
   "nbconvert_exporter": "python",
   "pygments_lexer": "ipython3",
   "version": "3.8.8"
  },
  "papermill": {
   "default_parameters": {},
   "duration": 4.057461,
   "end_time": "2021-08-08T21:54:01.873869",
   "environment_variables": {},
   "exception": null,
   "input_path": "/Users/saravananshanmugam/Carbonleakage_Git/UsedObjects/eBay_Overview.ipynb",
   "output_path": "/Users/saravananshanmugam/Carbonleakage_Git/UsedObjects/eBay_Overview.ipynb",
   "parameters": {},
   "start_time": "2021-08-08T21:53:57.816408",
   "version": "2.3.3"
  }
 },
 "nbformat": 4,
 "nbformat_minor": 5
}