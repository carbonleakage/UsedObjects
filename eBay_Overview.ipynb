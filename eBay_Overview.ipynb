{
 "cells": [
  {
   "cell_type": "code",
   "execution_count": 1,
   "id": "reverse-picking",
   "metadata": {
    "execution": {
     "iopub.execute_input": "2021-11-13T20:00:07.687255Z",
     "iopub.status.busy": "2021-11-13T20:00:07.684941Z",
     "iopub.status.idle": "2021-11-13T20:00:08.639374Z",
     "shell.execute_reply": "2021-11-13T20:00:08.642247Z"
    },
    "papermill": {
     "duration": 1.005852,
     "end_time": "2021-11-13T20:00:08.643409",
     "exception": false,
     "start_time": "2021-11-13T20:00:07.637557",
     "status": "completed"
    },
    "tags": []
   },
   "outputs": [],
   "source": [
    "import pandas as pd\n",
    "import sqlite3"
   ]
  },
  {
   "cell_type": "code",
   "execution_count": 2,
   "id": "innovative-syndrome",
   "metadata": {
    "execution": {
     "iopub.execute_input": "2021-11-13T20:00:08.715134Z",
     "iopub.status.busy": "2021-11-13T20:00:08.712788Z",
     "iopub.status.idle": "2021-11-13T20:00:09.512570Z",
     "shell.execute_reply": "2021-11-13T20:00:09.514144Z"
    },
    "papermill": {
     "duration": 0.833827,
     "end_time": "2021-11-13T20:00:09.514637",
     "exception": false,
     "start_time": "2021-11-13T20:00:08.680810",
     "status": "completed"
    },
    "tags": []
   },
   "outputs": [],
   "source": [
    "timestamps = pd.read_sql(\"select distinct record_time from EBAY_TOP_BERLIN order by record_time desc limit 2\", sqlite3.connect(\"UsedObjects.db\"))"
   ]
  },
  {
   "cell_type": "code",
   "execution_count": 3,
   "id": "periodic-identification",
   "metadata": {
    "execution": {
     "iopub.execute_input": "2021-11-13T20:00:09.581683Z",
     "iopub.status.busy": "2021-11-13T20:00:09.579585Z",
     "iopub.status.idle": "2021-11-13T20:00:09.599622Z",
     "shell.execute_reply": "2021-11-13T20:00:09.601060Z"
    },
    "papermill": {
     "duration": 0.06531,
     "end_time": "2021-11-13T20:00:09.601508",
     "exception": false,
     "start_time": "2021-11-13T20:00:09.536198",
     "status": "completed"
    },
    "tags": []
   },
   "outputs": [
    {
     "data": {
      "text/html": [
       "<div>\n",
       "<style scoped>\n",
       "    .dataframe tbody tr th:only-of-type {\n",
       "        vertical-align: middle;\n",
       "    }\n",
       "\n",
       "    .dataframe tbody tr th {\n",
       "        vertical-align: top;\n",
       "    }\n",
       "\n",
       "    .dataframe thead th {\n",
       "        text-align: right;\n",
       "    }\n",
       "</style>\n",
       "<table border=\"1\" class=\"dataframe\">\n",
       "  <thead>\n",
       "    <tr style=\"text-align: right;\">\n",
       "      <th></th>\n",
       "      <th>RECORD_TIME</th>\n",
       "    </tr>\n",
       "  </thead>\n",
       "  <tbody>\n",
       "    <tr>\n",
       "      <th>0</th>\n",
       "      <td>2021-11-13 21:00</td>\n",
       "    </tr>\n",
       "    <tr>\n",
       "      <th>1</th>\n",
       "      <td>2021-11-13 20:30</td>\n",
       "    </tr>\n",
       "  </tbody>\n",
       "</table>\n",
       "</div>"
      ],
      "text/plain": [
       "        RECORD_TIME\n",
       "0  2021-11-13 21:00\n",
       "1  2021-11-13 20:30"
      ]
     },
     "execution_count": 3,
     "metadata": {},
     "output_type": "execute_result"
    }
   ],
   "source": [
    "timestamps"
   ]
  },
  {
   "cell_type": "code",
   "execution_count": 4,
   "id": "alternate-victory",
   "metadata": {
    "execution": {
     "iopub.execute_input": "2021-11-13T20:00:09.653327Z",
     "iopub.status.busy": "2021-11-13T20:00:09.651325Z",
     "iopub.status.idle": "2021-11-13T20:00:10.809934Z",
     "shell.execute_reply": "2021-11-13T20:00:10.811471Z"
    },
    "papermill": {
     "duration": 1.18914,
     "end_time": "2021-11-13T20:00:10.811968",
     "exception": false,
     "start_time": "2021-11-13T20:00:09.622828",
     "status": "completed"
    },
    "tags": []
   },
   "outputs": [],
   "source": [
    "df = pd.read_sql(\"select * from EBAY_TOP_BERLIN where record_time in (select distinct record_time from EBAY_TOP_BERLIN order by record_time desc limit 2)\", sqlite3.connect(\"UsedObjects.db\"))"
   ]
  },
  {
   "cell_type": "code",
   "execution_count": 5,
   "id": "popular-active",
   "metadata": {
    "execution": {
     "iopub.execute_input": "2021-11-13T20:00:10.891438Z",
     "iopub.status.busy": "2021-11-13T20:00:10.878329Z",
     "iopub.status.idle": "2021-11-13T20:00:10.912139Z",
     "shell.execute_reply": "2021-11-13T20:00:10.913862Z"
    },
    "papermill": {
     "duration": 0.079002,
     "end_time": "2021-11-13T20:00:10.914368",
     "exception": false,
     "start_time": "2021-11-13T20:00:10.835366",
     "status": "completed"
    },
    "tags": []
   },
   "outputs": [],
   "source": [
    "df_pivot = df.pivot_table(index=\"PRODUCT\", columns = \"RECORD_TIME\", values = \"LISTING_COUNT\")"
   ]
  },
  {
   "cell_type": "code",
   "execution_count": 6,
   "id": "union-huntington",
   "metadata": {
    "execution": {
     "iopub.execute_input": "2021-11-13T20:00:10.975021Z",
     "iopub.status.busy": "2021-11-13T20:00:10.972770Z",
     "iopub.status.idle": "2021-11-13T20:00:10.978520Z",
     "shell.execute_reply": "2021-11-13T20:00:10.979877Z"
    },
    "papermill": {
     "duration": 0.043725,
     "end_time": "2021-11-13T20:00:10.980352",
     "exception": false,
     "start_time": "2021-11-13T20:00:10.936627",
     "status": "completed"
    },
    "tags": []
   },
   "outputs": [],
   "source": [
    "df_pivot.columns = [\"stamp_1\", \"stamp_2\"]\n",
    "df_pivot_diff = df_pivot.diff(axis=1)"
   ]
  },
  {
   "cell_type": "code",
   "execution_count": 7,
   "id": "fifth-motion",
   "metadata": {
    "execution": {
     "iopub.execute_input": "2021-11-13T20:00:11.036961Z",
     "iopub.status.busy": "2021-11-13T20:00:11.034412Z",
     "iopub.status.idle": "2021-11-13T20:00:12.936927Z",
     "shell.execute_reply": "2021-11-13T20:00:12.939221Z"
    },
    "papermill": {
     "duration": 1.93928,
     "end_time": "2021-11-13T20:00:12.940063",
     "exception": false,
     "start_time": "2021-11-13T20:00:11.000783",
     "status": "completed"
    },
    "tags": []
   },
   "outputs": [
    {
     "data": {
      "text/plain": [
       "<AxesSubplot:ylabel='PRODUCT'>"
      ]
     },
     "execution_count": 7,
     "metadata": {},
     "output_type": "execute_result"
    },
    {
     "data": {
      "image/png": "[encoded data removed]",
      "text/plain": [
       "<Figure size 432x288 with 1 Axes>"
      ]
     },
     "metadata": {
      "needs_background": "light"
     },
     "output_type": "display_data"
    }
   ],
   "source": [
    "df_pivot_diff.sort_values(\"stamp_2\", ascending = False)[\"stamp_2\"].head(10).plot.barh()"
   ]
  },
  {
   "cell_type": "code",
   "execution_count": null,
   "id": "extra-executive",
   "metadata": {
    "papermill": {
     "duration": 0.037771,
     "end_time": "2021-11-13T20:00:13.012887",
     "exception": false,
     "start_time": "2021-11-13T20:00:12.975116",
     "status": "completed"
    },
    "tags": []
   },
   "outputs": [],
   "source": []
  }
 ],
 "metadata": {
  "kernelspec": {
   "display_name": "Python 3",
   "language": "python",
   "name": "python3"
  },
  "language_info": {
   "codemirror_mode": {
    "name": "ipython",
    "version": 3
   },
   "file_extension": ".py",
   "mimetype": "text/x-python",
   "name": "python",
   "nbconvert_exporter": "python",
   "pygments_lexer": "ipython3",
   "version": "3.9.5"
  },
  "papermill": {
   "default_parameters": {},
   "duration": 8.867871,
   "end_time": "2021-11-13T20:00:13.788544",
   "environment_variables": {},
   "exception": null,
   "input_path": "eBay_Overview.ipynb",
   "output_path": "eBay_Overview.ipynb",
   "parameters": {},
   "start_time": "2021-11-13T20:00:04.920673",
   "version": "2.3.3"
  }
 },
 "nbformat": 4,
 "nbformat_minor": 5
}