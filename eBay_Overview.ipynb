{
 "cells": [
  {
   "cell_type": "code",
   "execution_count": 1,
   "id": "reverse-picking",
   "metadata": {
    "execution": {
     "iopub.execute_input": "2021-10-12T23:30:06.857762Z",
     "iopub.status.busy": "2021-10-12T23:30:06.854801Z",
     "iopub.status.idle": "2021-10-12T23:30:07.660409Z",
     "shell.execute_reply": "2021-10-12T23:30:07.661850Z"
    },
    "papermill": {
     "duration": 0.857136,
     "end_time": "2021-10-12T23:30:07.662518",
     "exception": false,
     "start_time": "2021-10-12T23:30:06.805382",
     "status": "completed"
    },
    "tags": []
   },
   "outputs": [],
   "source": [
    "import pandas as pd\n",
    "import sqlite3"
   ]
  },
  {
   "cell_type": "code",
   "execution_count": 2,
   "id": "innovative-syndrome",
   "metadata": {
    "execution": {
     "iopub.execute_input": "2021-10-12T23:30:07.713325Z",
     "iopub.status.busy": "2021-10-12T23:30:07.711243Z",
     "iopub.status.idle": "2021-10-12T23:30:08.235488Z",
     "shell.execute_reply": "2021-10-12T23:30:08.236873Z"
    },
    "papermill": {
     "duration": 0.554601,
     "end_time": "2021-10-12T23:30:08.237350",
     "exception": false,
     "start_time": "2021-10-12T23:30:07.682749",
     "status": "completed"
    },
    "tags": []
   },
   "outputs": [],
   "source": [
    "timestamps = pd.read_sql(\"select distinct record_time from EBAY_TOP_BERLIN order by record_time desc limit 2\", sqlite3.connect(\"UsedObjects.db\"))"
   ]
  },
  {
   "cell_type": "code",
   "execution_count": 3,
   "id": "periodic-identification",
   "metadata": {
    "execution": {
     "iopub.execute_input": "2021-10-12T23:30:08.303731Z",
     "iopub.status.busy": "2021-10-12T23:30:08.301684Z",
     "iopub.status.idle": "2021-10-12T23:30:08.321765Z",
     "shell.execute_reply": "2021-10-12T23:30:08.323088Z"
    },
    "papermill": {
     "duration": 0.066611,
     "end_time": "2021-10-12T23:30:08.323503",
     "exception": false,
     "start_time": "2021-10-12T23:30:08.256892",
     "status": "completed"
    },
    "tags": []
   },
   "outputs": [
    {
     "data": {
      "text/html": [
       "<div>\n",
       "<style scoped>\n",
       "    .dataframe tbody tr th:only-of-type {\n",
       "        vertical-align: middle;\n",
       "    }\n",
       "\n",
       "    .dataframe tbody tr th {\n",
       "        vertical-align: top;\n",
       "    }\n",
       "\n",
       "    .dataframe thead th {\n",
       "        text-align: right;\n",
       "    }\n",
       "</style>\n",
       "<table border=\"1\" class=\"dataframe\">\n",
       "  <thead>\n",
       "    <tr style=\"text-align: right;\">\n",
       "      <th></th>\n",
       "      <th>RECORD_TIME</th>\n",
       "    </tr>\n",
       "  </thead>\n",
       "  <tbody>\n",
       "    <tr>\n",
       "      <th>0</th>\n",
       "      <td>2021-10-13 01:30</td>\n",
       "    </tr>\n",
       "    <tr>\n",
       "      <th>1</th>\n",
       "      <td>2021-10-13 01:00</td>\n",
       "    </tr>\n",
       "  </tbody>\n",
       "</table>\n",
       "</div>"
      ],
      "text/plain": [
       "        RECORD_TIME\n",
       "0  2021-10-13 01:30\n",
       "1  2021-10-13 01:00"
      ]
     },
     "execution_count": 3,
     "metadata": {},
     "output_type": "execute_result"
    }
   ],
   "source": [
    "timestamps"
   ]
  },
  {
   "cell_type": "code",
   "execution_count": 4,
   "id": "alternate-victory",
   "metadata": {
    "execution": {
     "iopub.execute_input": "2021-10-12T23:30:08.398981Z",
     "iopub.status.busy": "2021-10-12T23:30:08.396757Z",
     "iopub.status.idle": "2021-10-12T23:30:09.163190Z",
     "shell.execute_reply": "2021-10-12T23:30:09.164434Z"
    },
    "papermill": {
     "duration": 0.805122,
     "end_time": "2021-10-12T23:30:09.165017",
     "exception": false,
     "start_time": "2021-10-12T23:30:08.359895",
     "status": "completed"
    },
    "tags": []
   },
   "outputs": [],
   "source": [
    "df = pd.read_sql(\"select * from EBAY_TOP_BERLIN where record_time in (select distinct record_time from EBAY_TOP_BERLIN order by record_time desc limit 2)\", sqlite3.connect(\"UsedObjects.db\"))"
   ]
  },
  {
   "cell_type": "code",
   "execution_count": 5,
   "id": "popular-active",
   "metadata": {
    "execution": {
     "iopub.execute_input": "2021-10-12T23:30:09.237073Z",
     "iopub.status.busy": "2021-10-12T23:30:09.224185Z",
     "iopub.status.idle": "2021-10-12T23:30:09.253369Z",
     "shell.execute_reply": "2021-10-12T23:30:09.254868Z"
    },
    "papermill": {
     "duration": 0.070124,
     "end_time": "2021-10-12T23:30:09.255319",
     "exception": false,
     "start_time": "2021-10-12T23:30:09.185195",
     "status": "completed"
    },
    "tags": []
   },
   "outputs": [],
   "source": [
    "df_pivot = df.pivot_table(index=\"PRODUCT\", columns = \"RECORD_TIME\", values = \"LISTING_COUNT\")"
   ]
  },
  {
   "cell_type": "code",
   "execution_count": 6,
   "id": "union-huntington",
   "metadata": {
    "execution": {
     "iopub.execute_input": "2021-10-12T23:30:09.312113Z",
     "iopub.status.busy": "2021-10-12T23:30:09.309793Z",
     "iopub.status.idle": "2021-10-12T23:30:09.315628Z",
     "shell.execute_reply": "2021-10-12T23:30:09.317091Z"
    },
    "papermill": {
     "duration": 0.041605,
     "end_time": "2021-10-12T23:30:09.317580",
     "exception": false,
     "start_time": "2021-10-12T23:30:09.275975",
     "status": "completed"
    },
    "tags": []
   },
   "outputs": [],
   "source": [
    "df_pivot.columns = [\"stamp_1\", \"stamp_2\"]\n",
    "df_pivot_diff = df_pivot.diff(axis=1)"
   ]
  },
  {
   "cell_type": "code",
   "execution_count": 7,
   "id": "fifth-motion",
   "metadata": {
    "execution": {
     "iopub.execute_input": "2021-10-12T23:30:09.372188Z",
     "iopub.status.busy": "2021-10-12T23:30:09.369882Z",
     "iopub.status.idle": "2021-10-12T23:30:10.863489Z",
     "shell.execute_reply": "2021-10-12T23:30:10.864858Z"
    },
    "papermill": {
     "duration": 1.526801,
     "end_time": "2021-10-12T23:30:10.865289",
     "exception": false,
     "start_time": "2021-10-12T23:30:09.338488",
     "status": "completed"
    },
    "tags": []
   },
   "outputs": [
    {
     "data": {
      "text/plain": [
       "<AxesSubplot:ylabel='PRODUCT'>"
      ]
     },
     "execution_count": 7,
     "metadata": {},
     "output_type": "execute_result"
    },
    {
     "data": {
      "image/png": "[encoded data removed]",
      "text/plain": [
       "<Figure size 432x288 with 1 Axes>"
      ]
     },
     "metadata": {
      "needs_background": "light"
     },
     "output_type": "display_data"
    }
   ],
   "source": [
    "df_pivot_diff.sort_values(\"stamp_2\", ascending = False)[\"stamp_2\"].head(10).plot.barh()"
   ]
  },
  {
   "cell_type": "code",
   "execution_count": null,
   "id": "extra-executive",
   "metadata": {
    "papermill": {
     "duration": 0.021928,
     "end_time": "2021-10-12T23:30:10.911687",
     "exception": false,
     "start_time": "2021-10-12T23:30:10.889759",
     "status": "completed"
    },
    "tags": []
   },
   "outputs": [],
   "source": []
  }
 ],
 "metadata": {
  "kernelspec": {
   "display_name": "Python 3",
   "language": "python",
   "name": "python3"
  },
  "language_info": {
   "codemirror_mode": {
    "name": "ipython",
    "version": 3
   },
   "file_extension": ".py",
   "mimetype": "text/x-python",
   "name": "python",
   "nbconvert_exporter": "python",
   "pygments_lexer": "ipython3",
   "version": "3.9.5"
  },
  "papermill": {
   "default_parameters": {},
   "duration": 7.819469,
   "end_time": "2021-10-12T23:30:12.219644",
   "environment_variables": {},
   "exception": null,
   "input_path": "eBay_Overview.ipynb",
   "output_path": "eBay_Overview.ipynb",
   "parameters": {},
   "start_time": "2021-10-12T23:30:04.400175",
   "version": "2.3.3"
  }
 },
 "nbformat": 4,
 "nbformat_minor": 5
}