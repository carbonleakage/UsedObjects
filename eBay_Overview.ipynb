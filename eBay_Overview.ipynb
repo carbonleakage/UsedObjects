{
 "cells": [
  {
   "cell_type": "code",
   "execution_count": 1,
   "id": "reverse-picking",
   "metadata": {
    "execution": {
     "iopub.execute_input": "2021-10-04T15:00:06.789846Z",
     "iopub.status.busy": "2021-10-04T15:00:06.787931Z",
     "iopub.status.idle": "2021-10-04T15:00:07.594602Z",
     "shell.execute_reply": "2021-10-04T15:00:07.596781Z"
    },
    "papermill": {
     "duration": 0.858356,
     "end_time": "2021-10-04T15:00:07.597431",
     "exception": false,
     "start_time": "2021-10-04T15:00:06.739075",
     "status": "completed"
    },
    "tags": []
   },
   "outputs": [],
   "source": [
    "import pandas as pd\n",
    "import sqlite3"
   ]
  },
  {
   "cell_type": "code",
   "execution_count": 2,
   "id": "innovative-syndrome",
   "metadata": {
    "execution": {
     "iopub.execute_input": "2021-10-04T15:00:07.650975Z",
     "iopub.status.busy": "2021-10-04T15:00:07.648586Z",
     "iopub.status.idle": "2021-10-04T15:00:08.095394Z",
     "shell.execute_reply": "2021-10-04T15:00:08.096661Z"
    },
    "papermill": {
     "duration": 0.477035,
     "end_time": "2021-10-04T15:00:08.097062",
     "exception": false,
     "start_time": "2021-10-04T15:00:07.620027",
     "status": "completed"
    },
    "tags": []
   },
   "outputs": [],
   "source": [
    "timestamps = pd.read_sql(\"select distinct record_time from EBAY_TOP_BERLIN order by record_time desc limit 2\", sqlite3.connect(\"UsedObjects.db\"))"
   ]
  },
  {
   "cell_type": "code",
   "execution_count": 3,
   "id": "periodic-identification",
   "metadata": {
    "execution": {
     "iopub.execute_input": "2021-10-04T15:00:08.161345Z",
     "iopub.status.busy": "2021-10-04T15:00:08.159349Z",
     "iopub.status.idle": "2021-10-04T15:00:08.179244Z",
     "shell.execute_reply": "2021-10-04T15:00:08.180561Z"
    },
    "papermill": {
     "duration": 0.064594,
     "end_time": "2021-10-04T15:00:08.180957",
     "exception": false,
     "start_time": "2021-10-04T15:00:08.116363",
     "status": "completed"
    },
    "tags": []
   },
   "outputs": [
    {
     "data": {
      "text/html": [
       "<div>\n",
       "<style scoped>\n",
       "    .dataframe tbody tr th:only-of-type {\n",
       "        vertical-align: middle;\n",
       "    }\n",
       "\n",
       "    .dataframe tbody tr th {\n",
       "        vertical-align: top;\n",
       "    }\n",
       "\n",
       "    .dataframe thead th {\n",
       "        text-align: right;\n",
       "    }\n",
       "</style>\n",
       "<table border=\"1\" class=\"dataframe\">\n",
       "  <thead>\n",
       "    <tr style=\"text-align: right;\">\n",
       "      <th></th>\n",
       "      <th>RECORD_TIME</th>\n",
       "    </tr>\n",
       "  </thead>\n",
       "  <tbody>\n",
       "    <tr>\n",
       "      <th>0</th>\n",
       "      <td>2021-10-04 17:00</td>\n",
       "    </tr>\n",
       "    <tr>\n",
       "      <th>1</th>\n",
       "      <td>2021-10-04 16:30</td>\n",
       "    </tr>\n",
       "  </tbody>\n",
       "</table>\n",
       "</div>"
      ],
      "text/plain": [
       "        RECORD_TIME\n",
       "0  2021-10-04 17:00\n",
       "1  2021-10-04 16:30"
      ]
     },
     "execution_count": 3,
     "metadata": {},
     "output_type": "execute_result"
    }
   ],
   "source": [
    "timestamps"
   ]
  },
  {
   "cell_type": "code",
   "execution_count": 4,
   "id": "alternate-victory",
   "metadata": {
    "execution": {
     "iopub.execute_input": "2021-10-04T15:00:08.241644Z",
     "iopub.status.busy": "2021-10-04T15:00:08.239205Z",
     "iopub.status.idle": "2021-10-04T15:00:08.897031Z",
     "shell.execute_reply": "2021-10-04T15:00:08.898227Z"
    },
    "papermill": {
     "duration": 0.695988,
     "end_time": "2021-10-04T15:00:08.898622",
     "exception": false,
     "start_time": "2021-10-04T15:00:08.202634",
     "status": "completed"
    },
    "tags": []
   },
   "outputs": [],
   "source": [
    "df = pd.read_sql(\"select * from EBAY_TOP_BERLIN where record_time in (select distinct record_time from EBAY_TOP_BERLIN order by record_time desc limit 2)\", sqlite3.connect(\"UsedObjects.db\"))"
   ]
  },
  {
   "cell_type": "code",
   "execution_count": 5,
   "id": "popular-active",
   "metadata": {
    "execution": {
     "iopub.execute_input": "2021-10-04T15:00:08.970767Z",
     "iopub.status.busy": "2021-10-04T15:00:08.958378Z",
     "iopub.status.idle": "2021-10-04T15:00:08.986643Z",
     "shell.execute_reply": "2021-10-04T15:00:08.987893Z"
    },
    "papermill": {
     "duration": 0.067556,
     "end_time": "2021-10-04T15:00:08.988285",
     "exception": false,
     "start_time": "2021-10-04T15:00:08.920729",
     "status": "completed"
    },
    "tags": []
   },
   "outputs": [],
   "source": [
    "df_pivot = df.pivot_table(index=\"PRODUCT\", columns = \"RECORD_TIME\", values = \"LISTING_COUNT\")"
   ]
  },
  {
   "cell_type": "code",
   "execution_count": 6,
   "id": "union-huntington",
   "metadata": {
    "execution": {
     "iopub.execute_input": "2021-10-04T15:00:09.045378Z",
     "iopub.status.busy": "2021-10-04T15:00:09.043358Z",
     "iopub.status.idle": "2021-10-04T15:00:09.048491Z",
     "shell.execute_reply": "2021-10-04T15:00:09.049666Z"
    },
    "papermill": {
     "duration": 0.040247,
     "end_time": "2021-10-04T15:00:09.050093",
     "exception": false,
     "start_time": "2021-10-04T15:00:09.009846",
     "status": "completed"
    },
    "tags": []
   },
   "outputs": [],
   "source": [
    "df_pivot.columns = [\"stamp_1\", \"stamp_2\"]\n",
    "df_pivot_diff = df_pivot.diff(axis=1)"
   ]
  },
  {
   "cell_type": "code",
   "execution_count": 7,
   "id": "fifth-motion",
   "metadata": {
    "execution": {
     "iopub.execute_input": "2021-10-04T15:00:09.104672Z",
     "iopub.status.busy": "2021-10-04T15:00:09.102103Z",
     "iopub.status.idle": "2021-10-04T15:00:10.602583Z",
     "shell.execute_reply": "2021-10-04T15:00:10.604065Z"
    },
    "papermill": {
     "duration": 1.533977,
     "end_time": "2021-10-04T15:00:10.604510",
     "exception": false,
     "start_time": "2021-10-04T15:00:09.070533",
     "status": "completed"
    },
    "tags": []
   },
   "outputs": [
    {
     "data": {
      "text/plain": [
       "<AxesSubplot:ylabel='PRODUCT'>"
      ]
     },
     "execution_count": 7,
     "metadata": {},
     "output_type": "execute_result"
    },
    {
     "data": {
      "image/png": "[encoded data removed]",
      "text/plain": [
       "<Figure size 432x288 with 1 Axes>"
      ]
     },
     "metadata": {
      "needs_background": "light"
     },
     "output_type": "display_data"
    }
   ],
   "source": [
    "df_pivot_diff.sort_values(\"stamp_2\", ascending = False)[\"stamp_2\"].head(10).plot.barh()"
   ]
  },
  {
   "cell_type": "code",
   "execution_count": null,
   "id": "extra-executive",
   "metadata": {
    "papermill": {
     "duration": 0.022417,
     "end_time": "2021-10-04T15:00:10.651697",
     "exception": false,
     "start_time": "2021-10-04T15:00:10.629280",
     "status": "completed"
    },
    "tags": []
   },
   "outputs": [],
   "source": []
  }
 ],
 "metadata": {
  "kernelspec": {
   "display_name": "Python 3",
   "language": "python",
   "name": "python3"
  },
  "language_info": {
   "codemirror_mode": {
    "name": "ipython",
    "version": 3
   },
   "file_extension": ".py",
   "mimetype": "text/x-python",
   "name": "python",
   "nbconvert_exporter": "python",
   "pygments_lexer": "ipython3",
   "version": "3.9.5"
  },
  "papermill": {
   "default_parameters": {},
   "duration": 7.82165,
   "end_time": "2021-10-04T15:00:12.159283",
   "environment_variables": {},
   "exception": null,
   "input_path": "eBay_Overview.ipynb",
   "output_path": "eBay_Overview.ipynb",
   "parameters": {},
   "start_time": "2021-10-04T15:00:04.337633",
   "version": "2.3.3"
  }
 },
 "nbformat": 4,
 "nbformat_minor": 5
}