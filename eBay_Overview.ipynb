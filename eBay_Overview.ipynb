{
 "cells": [
  {
   "cell_type": "code",
   "execution_count": 1,
   "id": "reverse-picking",
   "metadata": {
    "execution": {
     "iopub.execute_input": "2021-10-11T07:00:08.265836Z",
     "iopub.status.busy": "2021-10-11T07:00:08.263771Z",
     "iopub.status.idle": "2021-10-11T07:00:09.270844Z",
     "shell.execute_reply": "2021-10-11T07:00:09.272214Z"
    },
    "papermill": {
     "duration": 1.057,
     "end_time": "2021-10-11T07:00:09.272914",
     "exception": false,
     "start_time": "2021-10-11T07:00:08.215914",
     "status": "completed"
    },
    "tags": []
   },
   "outputs": [],
   "source": [
    "import pandas as pd\n",
    "import sqlite3"
   ]
  },
  {
   "cell_type": "code",
   "execution_count": 2,
   "id": "innovative-syndrome",
   "metadata": {
    "execution": {
     "iopub.execute_input": "2021-10-11T07:00:09.336516Z",
     "iopub.status.busy": "2021-10-11T07:00:09.334563Z",
     "iopub.status.idle": "2021-10-11T07:00:10.036353Z",
     "shell.execute_reply": "2021-10-11T07:00:10.037631Z"
    },
    "papermill": {
     "duration": 0.735932,
     "end_time": "2021-10-11T07:00:10.038022",
     "exception": false,
     "start_time": "2021-10-11T07:00:09.302090",
     "status": "completed"
    },
    "tags": []
   },
   "outputs": [],
   "source": [
    "timestamps = pd.read_sql(\"select distinct record_time from EBAY_TOP_BERLIN order by record_time desc limit 2\", sqlite3.connect(\"UsedObjects.db\"))"
   ]
  },
  {
   "cell_type": "code",
   "execution_count": 3,
   "id": "periodic-identification",
   "metadata": {
    "execution": {
     "iopub.execute_input": "2021-10-11T07:00:10.102918Z",
     "iopub.status.busy": "2021-10-11T07:00:10.100867Z",
     "iopub.status.idle": "2021-10-11T07:00:10.120876Z",
     "shell.execute_reply": "2021-10-11T07:00:10.122292Z"
    },
    "papermill": {
     "duration": 0.065016,
     "end_time": "2021-10-11T07:00:10.122768",
     "exception": false,
     "start_time": "2021-10-11T07:00:10.057752",
     "status": "completed"
    },
    "tags": []
   },
   "outputs": [
    {
     "data": {
      "text/html": [
       "<div>\n",
       "<style scoped>\n",
       "    .dataframe tbody tr th:only-of-type {\n",
       "        vertical-align: middle;\n",
       "    }\n",
       "\n",
       "    .dataframe tbody tr th {\n",
       "        vertical-align: top;\n",
       "    }\n",
       "\n",
       "    .dataframe thead th {\n",
       "        text-align: right;\n",
       "    }\n",
       "</style>\n",
       "<table border=\"1\" class=\"dataframe\">\n",
       "  <thead>\n",
       "    <tr style=\"text-align: right;\">\n",
       "      <th></th>\n",
       "      <th>RECORD_TIME</th>\n",
       "    </tr>\n",
       "  </thead>\n",
       "  <tbody>\n",
       "    <tr>\n",
       "      <th>0</th>\n",
       "      <td>2021-10-11 09:00</td>\n",
       "    </tr>\n",
       "    <tr>\n",
       "      <th>1</th>\n",
       "      <td>2021-10-11 08:30</td>\n",
       "    </tr>\n",
       "  </tbody>\n",
       "</table>\n",
       "</div>"
      ],
      "text/plain": [
       "        RECORD_TIME\n",
       "0  2021-10-11 09:00\n",
       "1  2021-10-11 08:30"
      ]
     },
     "execution_count": 3,
     "metadata": {},
     "output_type": "execute_result"
    }
   ],
   "source": [
    "timestamps"
   ]
  },
  {
   "cell_type": "code",
   "execution_count": 4,
   "id": "alternate-victory",
   "metadata": {
    "execution": {
     "iopub.execute_input": "2021-10-11T07:00:10.175682Z",
     "iopub.status.busy": "2021-10-11T07:00:10.173655Z",
     "iopub.status.idle": "2021-10-11T07:00:10.927414Z",
     "shell.execute_reply": "2021-10-11T07:00:10.928767Z"
    },
    "papermill": {
     "duration": 0.784756,
     "end_time": "2021-10-11T07:00:10.929225",
     "exception": false,
     "start_time": "2021-10-11T07:00:10.144469",
     "status": "completed"
    },
    "tags": []
   },
   "outputs": [],
   "source": [
    "df = pd.read_sql(\"select * from EBAY_TOP_BERLIN where record_time in (select distinct record_time from EBAY_TOP_BERLIN order by record_time desc limit 2)\", sqlite3.connect(\"UsedObjects.db\"))"
   ]
  },
  {
   "cell_type": "code",
   "execution_count": 5,
   "id": "popular-active",
   "metadata": {
    "execution": {
     "iopub.execute_input": "2021-10-11T07:00:10.999475Z",
     "iopub.status.busy": "2021-10-11T07:00:10.988016Z",
     "iopub.status.idle": "2021-10-11T07:00:11.016443Z",
     "shell.execute_reply": "2021-10-11T07:00:11.017892Z"
    },
    "papermill": {
     "duration": 0.067988,
     "end_time": "2021-10-11T07:00:11.018301",
     "exception": false,
     "start_time": "2021-10-11T07:00:10.950313",
     "status": "completed"
    },
    "tags": []
   },
   "outputs": [],
   "source": [
    "df_pivot = df.pivot_table(index=\"PRODUCT\", columns = \"RECORD_TIME\", values = \"LISTING_COUNT\")"
   ]
  },
  {
   "cell_type": "code",
   "execution_count": 6,
   "id": "union-huntington",
   "metadata": {
    "execution": {
     "iopub.execute_input": "2021-10-11T07:00:11.076317Z",
     "iopub.status.busy": "2021-10-11T07:00:11.074191Z",
     "iopub.status.idle": "2021-10-11T07:00:11.079576Z",
     "shell.execute_reply": "2021-10-11T07:00:11.080983Z"
    },
    "papermill": {
     "duration": 0.041493,
     "end_time": "2021-10-11T07:00:11.081420",
     "exception": false,
     "start_time": "2021-10-11T07:00:11.039927",
     "status": "completed"
    },
    "tags": []
   },
   "outputs": [],
   "source": [
    "df_pivot.columns = [\"stamp_1\", \"stamp_2\"]\n",
    "df_pivot_diff = df_pivot.diff(axis=1)"
   ]
  },
  {
   "cell_type": "code",
   "execution_count": 7,
   "id": "fifth-motion",
   "metadata": {
    "execution": {
     "iopub.execute_input": "2021-10-11T07:00:11.136015Z",
     "iopub.status.busy": "2021-10-11T07:00:11.133632Z",
     "iopub.status.idle": "2021-10-11T07:00:12.654865Z",
     "shell.execute_reply": "2021-10-11T07:00:12.656162Z"
    },
    "papermill": {
     "duration": 1.554343,
     "end_time": "2021-10-11T07:00:12.656575",
     "exception": false,
     "start_time": "2021-10-11T07:00:11.102232",
     "status": "completed"
    },
    "tags": []
   },
   "outputs": [
    {
     "data": {
      "text/plain": [
       "<AxesSubplot:ylabel='PRODUCT'>"
      ]
     },
     "execution_count": 7,
     "metadata": {},
     "output_type": "execute_result"
    },
    {
     "data": {
      "image/png": "[encoded data removed]",
      "text/plain": [
       "<Figure size 432x288 with 1 Axes>"
      ]
     },
     "metadata": {
      "needs_background": "light"
     },
     "output_type": "display_data"
    }
   ],
   "source": [
    "df_pivot_diff.sort_values(\"stamp_2\", ascending = False)[\"stamp_2\"].head(10).plot.barh()"
   ]
  },
  {
   "cell_type": "code",
   "execution_count": null,
   "id": "extra-executive",
   "metadata": {
    "papermill": {
     "duration": 0.023193,
     "end_time": "2021-10-11T07:00:12.704891",
     "exception": false,
     "start_time": "2021-10-11T07:00:12.681698",
     "status": "completed"
    },
    "tags": []
   },
   "outputs": [],
   "source": []
  }
 ],
 "metadata": {
  "kernelspec": {
   "display_name": "Python 3",
   "language": "python",
   "name": "python3"
  },
  "language_info": {
   "codemirror_mode": {
    "name": "ipython",
    "version": 3
   },
   "file_extension": ".py",
   "mimetype": "text/x-python",
   "name": "python",
   "nbconvert_exporter": "python",
   "pygments_lexer": "ipython3",
   "version": "3.9.5"
  },
  "papermill": {
   "default_parameters": {},
   "duration": 7.834653,
   "end_time": "2021-10-11T07:00:13.350587",
   "environment_variables": {},
   "exception": null,
   "input_path": "eBay_Overview.ipynb",
   "output_path": "eBay_Overview.ipynb",
   "parameters": {},
   "start_time": "2021-10-11T07:00:05.515934",
   "version": "2.3.3"
  }
 },
 "nbformat": 4,
 "nbformat_minor": 5
}