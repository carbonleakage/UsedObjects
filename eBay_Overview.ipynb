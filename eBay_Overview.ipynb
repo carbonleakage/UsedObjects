{
 "cells": [
  {
   "cell_type": "code",
   "execution_count": 1,
   "id": "reverse-picking",
   "metadata": {
    "execution": {
     "iopub.execute_input": "2021-10-14T03:30:06.784747Z",
     "iopub.status.busy": "2021-10-14T03:30:06.782701Z",
     "iopub.status.idle": "2021-10-14T03:30:07.580911Z",
     "shell.execute_reply": "2021-10-14T03:30:07.582208Z"
    },
    "papermill": {
     "duration": 0.850555,
     "end_time": "2021-10-14T03:30:07.582813",
     "exception": false,
     "start_time": "2021-10-14T03:30:06.732258",
     "status": "completed"
    },
    "tags": []
   },
   "outputs": [],
   "source": [
    "import pandas as pd\n",
    "import sqlite3"
   ]
  },
  {
   "cell_type": "code",
   "execution_count": 2,
   "id": "innovative-syndrome",
   "metadata": {
    "execution": {
     "iopub.execute_input": "2021-10-14T03:30:07.634337Z",
     "iopub.status.busy": "2021-10-14T03:30:07.632133Z",
     "iopub.status.idle": "2021-10-14T03:30:08.169145Z",
     "shell.execute_reply": "2021-10-14T03:30:08.170397Z"
    },
    "papermill": {
     "duration": 0.56644,
     "end_time": "2021-10-14T03:30:08.170792",
     "exception": false,
     "start_time": "2021-10-14T03:30:07.604352",
     "status": "completed"
    },
    "tags": []
   },
   "outputs": [],
   "source": [
    "timestamps = pd.read_sql(\"select distinct record_time from EBAY_TOP_BERLIN order by record_time desc limit 2\", sqlite3.connect(\"UsedObjects.db\"))"
   ]
  },
  {
   "cell_type": "code",
   "execution_count": 3,
   "id": "periodic-identification",
   "metadata": {
    "execution": {
     "iopub.execute_input": "2021-10-14T03:30:08.237341Z",
     "iopub.status.busy": "2021-10-14T03:30:08.235204Z",
     "iopub.status.idle": "2021-10-14T03:30:08.254848Z",
     "shell.execute_reply": "2021-10-14T03:30:08.256091Z"
    },
    "papermill": {
     "duration": 0.064754,
     "end_time": "2021-10-14T03:30:08.256485",
     "exception": false,
     "start_time": "2021-10-14T03:30:08.191731",
     "status": "completed"
    },
    "tags": []
   },
   "outputs": [
    {
     "data": {
      "text/html": [
       "<div>\n",
       "<style scoped>\n",
       "    .dataframe tbody tr th:only-of-type {\n",
       "        vertical-align: middle;\n",
       "    }\n",
       "\n",
       "    .dataframe tbody tr th {\n",
       "        vertical-align: top;\n",
       "    }\n",
       "\n",
       "    .dataframe thead th {\n",
       "        text-align: right;\n",
       "    }\n",
       "</style>\n",
       "<table border=\"1\" class=\"dataframe\">\n",
       "  <thead>\n",
       "    <tr style=\"text-align: right;\">\n",
       "      <th></th>\n",
       "      <th>RECORD_TIME</th>\n",
       "    </tr>\n",
       "  </thead>\n",
       "  <tbody>\n",
       "    <tr>\n",
       "      <th>0</th>\n",
       "      <td>2021-10-14 05:30</td>\n",
       "    </tr>\n",
       "    <tr>\n",
       "      <th>1</th>\n",
       "      <td>2021-10-14 05:00</td>\n",
       "    </tr>\n",
       "  </tbody>\n",
       "</table>\n",
       "</div>"
      ],
      "text/plain": [
       "        RECORD_TIME\n",
       "0  2021-10-14 05:30\n",
       "1  2021-10-14 05:00"
      ]
     },
     "execution_count": 3,
     "metadata": {},
     "output_type": "execute_result"
    }
   ],
   "source": [
    "timestamps"
   ]
  },
  {
   "cell_type": "code",
   "execution_count": 4,
   "id": "alternate-victory",
   "metadata": {
    "execution": {
     "iopub.execute_input": "2021-10-14T03:30:08.321192Z",
     "iopub.status.busy": "2021-10-14T03:30:08.318755Z",
     "iopub.status.idle": "2021-10-14T03:30:09.123305Z",
     "shell.execute_reply": "2021-10-14T03:30:09.124602Z"
    },
    "papermill": {
     "duration": 0.839349,
     "end_time": "2021-10-14T03:30:09.125095",
     "exception": false,
     "start_time": "2021-10-14T03:30:08.285746",
     "status": "completed"
    },
    "tags": []
   },
   "outputs": [],
   "source": [
    "df = pd.read_sql(\"select * from EBAY_TOP_BERLIN where record_time in (select distinct record_time from EBAY_TOP_BERLIN order by record_time desc limit 2)\", sqlite3.connect(\"UsedObjects.db\"))"
   ]
  },
  {
   "cell_type": "code",
   "execution_count": 5,
   "id": "popular-active",
   "metadata": {
    "execution": {
     "iopub.execute_input": "2021-10-14T03:30:09.196256Z",
     "iopub.status.busy": "2021-10-14T03:30:09.184631Z",
     "iopub.status.idle": "2021-10-14T03:30:09.212081Z",
     "shell.execute_reply": "2021-10-14T03:30:09.213568Z"
    },
    "papermill": {
     "duration": 0.068767,
     "end_time": "2021-10-14T03:30:09.213985",
     "exception": false,
     "start_time": "2021-10-14T03:30:09.145218",
     "status": "completed"
    },
    "tags": []
   },
   "outputs": [],
   "source": [
    "df_pivot = df.pivot_table(index=\"PRODUCT\", columns = \"RECORD_TIME\", values = \"LISTING_COUNT\")"
   ]
  },
  {
   "cell_type": "code",
   "execution_count": 6,
   "id": "union-huntington",
   "metadata": {
    "execution": {
     "iopub.execute_input": "2021-10-14T03:30:09.272267Z",
     "iopub.status.busy": "2021-10-14T03:30:09.269790Z",
     "iopub.status.idle": "2021-10-14T03:30:09.275611Z",
     "shell.execute_reply": "2021-10-14T03:30:09.277044Z"
    },
    "papermill": {
     "duration": 0.042318,
     "end_time": "2021-10-14T03:30:09.277490",
     "exception": false,
     "start_time": "2021-10-14T03:30:09.235172",
     "status": "completed"
    },
    "tags": []
   },
   "outputs": [],
   "source": [
    "df_pivot.columns = [\"stamp_1\", \"stamp_2\"]\n",
    "df_pivot_diff = df_pivot.diff(axis=1)"
   ]
  },
  {
   "cell_type": "code",
   "execution_count": 7,
   "id": "fifth-motion",
   "metadata": {
    "execution": {
     "iopub.execute_input": "2021-10-14T03:30:09.331944Z",
     "iopub.status.busy": "2021-10-14T03:30:09.329710Z",
     "iopub.status.idle": "2021-10-14T03:30:10.806114Z",
     "shell.execute_reply": "2021-10-14T03:30:10.807611Z"
    },
    "papermill": {
     "duration": 1.509319,
     "end_time": "2021-10-14T03:30:10.808077",
     "exception": false,
     "start_time": "2021-10-14T03:30:09.298758",
     "status": "completed"
    },
    "tags": []
   },
   "outputs": [
    {
     "data": {
      "text/plain": [
       "<AxesSubplot:ylabel='PRODUCT'>"
      ]
     },
     "execution_count": 7,
     "metadata": {},
     "output_type": "execute_result"
    },
    {
     "data": {
      "image/png": "[encoded data removed]",
      "text/plain": [
       "<Figure size 432x288 with 1 Axes>"
      ]
     },
     "metadata": {
      "needs_background": "light"
     },
     "output_type": "display_data"
    }
   ],
   "source": [
    "df_pivot_diff.sort_values(\"stamp_2\", ascending = False)[\"stamp_2\"].head(10).plot.barh()"
   ]
  },
  {
   "cell_type": "code",
   "execution_count": null,
   "id": "extra-executive",
   "metadata": {
    "papermill": {
     "duration": 0.022173,
     "end_time": "2021-10-14T03:30:10.853976",
     "exception": false,
     "start_time": "2021-10-14T03:30:10.831803",
     "status": "completed"
    },
    "tags": []
   },
   "outputs": [],
   "source": []
  }
 ],
 "metadata": {
  "kernelspec": {
   "display_name": "Python 3",
   "language": "python",
   "name": "python3"
  },
  "language_info": {
   "codemirror_mode": {
    "name": "ipython",
    "version": 3
   },
   "file_extension": ".py",
   "mimetype": "text/x-python",
   "name": "python",
   "nbconvert_exporter": "python",
   "pygments_lexer": "ipython3",
   "version": "3.9.5"
  },
  "papermill": {
   "default_parameters": {},
   "duration": 7.822808,
   "end_time": "2021-10-14T03:30:12.167700",
   "environment_variables": {},
   "exception": null,
   "input_path": "eBay_Overview.ipynb",
   "output_path": "eBay_Overview.ipynb",
   "parameters": {},
   "start_time": "2021-10-14T03:30:04.344892",
   "version": "2.3.3"
  }
 },
 "nbformat": 4,
 "nbformat_minor": 5
}