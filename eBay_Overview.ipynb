{
 "cells": [
  {
   "cell_type": "code",
   "execution_count": 1,
   "id": "reverse-picking",
   "metadata": {
    "execution": {
     "iopub.execute_input": "2021-09-17T23:30:06.997005Z",
     "iopub.status.busy": "2021-09-17T23:30:06.995050Z",
     "iopub.status.idle": "2021-09-17T23:30:07.796185Z",
     "shell.execute_reply": "2021-09-17T23:30:07.797595Z"
    },
    "papermill": {
     "duration": 0.853695,
     "end_time": "2021-09-17T23:30:07.798269",
     "exception": false,
     "start_time": "2021-09-17T23:30:06.944574",
     "status": "completed"
    },
    "tags": []
   },
   "outputs": [],
   "source": [
    "import pandas as pd\n",
    "import sqlite3"
   ]
  },
  {
   "cell_type": "code",
   "execution_count": 2,
   "id": "innovative-syndrome",
   "metadata": {
    "execution": {
     "iopub.execute_input": "2021-09-17T23:30:07.850213Z",
     "iopub.status.busy": "2021-09-17T23:30:07.848297Z",
     "iopub.status.idle": "2021-09-17T23:30:08.156849Z",
     "shell.execute_reply": "2021-09-17T23:30:08.158269Z"
    },
    "papermill": {
     "duration": 0.339021,
     "end_time": "2021-09-17T23:30:08.158728",
     "exception": false,
     "start_time": "2021-09-17T23:30:07.819707",
     "status": "completed"
    },
    "tags": []
   },
   "outputs": [],
   "source": [
    "timestamps = pd.read_sql(\"select distinct record_time from EBAY_TOP_BERLIN order by record_time desc limit 2\", sqlite3.connect(\"UsedObjects.db\"))"
   ]
  },
  {
   "cell_type": "code",
   "execution_count": 3,
   "id": "periodic-identification",
   "metadata": {
    "execution": {
     "iopub.execute_input": "2021-09-17T23:30:08.224868Z",
     "iopub.status.busy": "2021-09-17T23:30:08.222514Z",
     "iopub.status.idle": "2021-09-17T23:30:08.243190Z",
     "shell.execute_reply": "2021-09-17T23:30:08.244332Z"
    },
    "papermill": {
     "duration": 0.065268,
     "end_time": "2021-09-17T23:30:08.244743",
     "exception": false,
     "start_time": "2021-09-17T23:30:08.179475",
     "status": "completed"
    },
    "tags": []
   },
   "outputs": [
    {
     "data": {
      "text/html": [
       "<div>\n",
       "<style scoped>\n",
       "    .dataframe tbody tr th:only-of-type {\n",
       "        vertical-align: middle;\n",
       "    }\n",
       "\n",
       "    .dataframe tbody tr th {\n",
       "        vertical-align: top;\n",
       "    }\n",
       "\n",
       "    .dataframe thead th {\n",
       "        text-align: right;\n",
       "    }\n",
       "</style>\n",
       "<table border=\"1\" class=\"dataframe\">\n",
       "  <thead>\n",
       "    <tr style=\"text-align: right;\">\n",
       "      <th></th>\n",
       "      <th>RECORD_TIME</th>\n",
       "    </tr>\n",
       "  </thead>\n",
       "  <tbody>\n",
       "    <tr>\n",
       "      <th>0</th>\n",
       "      <td>2021-09-18 01:30</td>\n",
       "    </tr>\n",
       "    <tr>\n",
       "      <th>1</th>\n",
       "      <td>2021-09-18 01:00</td>\n",
       "    </tr>\n",
       "  </tbody>\n",
       "</table>\n",
       "</div>"
      ],
      "text/plain": [
       "        RECORD_TIME\n",
       "0  2021-09-18 01:30\n",
       "1  2021-09-18 01:00"
      ]
     },
     "execution_count": 3,
     "metadata": {},
     "output_type": "execute_result"
    }
   ],
   "source": [
    "timestamps"
   ]
  },
  {
   "cell_type": "code",
   "execution_count": 4,
   "id": "alternate-victory",
   "metadata": {
    "execution": {
     "iopub.execute_input": "2021-09-17T23:30:08.298900Z",
     "iopub.status.busy": "2021-09-17T23:30:08.296593Z",
     "iopub.status.idle": "2021-09-17T23:30:08.755510Z",
     "shell.execute_reply": "2021-09-17T23:30:08.756722Z"
    },
    "papermill": {
     "duration": 0.489451,
     "end_time": "2021-09-17T23:30:08.757120",
     "exception": false,
     "start_time": "2021-09-17T23:30:08.267669",
     "status": "completed"
    },
    "tags": []
   },
   "outputs": [],
   "source": [
    "df = pd.read_sql(\"select * from EBAY_TOP_BERLIN where record_time in (select distinct record_time from EBAY_TOP_BERLIN order by record_time desc limit 2)\", sqlite3.connect(\"UsedObjects.db\"))"
   ]
  },
  {
   "cell_type": "code",
   "execution_count": 5,
   "id": "popular-active",
   "metadata": {
    "execution": {
     "iopub.execute_input": "2021-09-17T23:30:08.830066Z",
     "iopub.status.busy": "2021-09-17T23:30:08.817458Z",
     "iopub.status.idle": "2021-09-17T23:30:08.846170Z",
     "shell.execute_reply": "2021-09-17T23:30:08.847526Z"
    },
    "papermill": {
     "duration": 0.06889,
     "end_time": "2021-09-17T23:30:08.847945",
     "exception": false,
     "start_time": "2021-09-17T23:30:08.779055",
     "status": "completed"
    },
    "tags": []
   },
   "outputs": [],
   "source": [
    "df_pivot = df.pivot_table(index=\"PRODUCT\", columns = \"RECORD_TIME\", values = \"LISTING_COUNT\")"
   ]
  },
  {
   "cell_type": "code",
   "execution_count": 6,
   "id": "union-huntington",
   "metadata": {
    "execution": {
     "iopub.execute_input": "2021-09-17T23:30:08.903811Z",
     "iopub.status.busy": "2021-09-17T23:30:08.901709Z",
     "iopub.status.idle": "2021-09-17T23:30:08.906962Z",
     "shell.execute_reply": "2021-09-17T23:30:08.908178Z"
    },
    "papermill": {
     "duration": 0.04031,
     "end_time": "2021-09-17T23:30:08.908605",
     "exception": false,
     "start_time": "2021-09-17T23:30:08.868295",
     "status": "completed"
    },
    "tags": []
   },
   "outputs": [],
   "source": [
    "df_pivot.columns = [\"stamp_1\", \"stamp_2\"]\n",
    "df_pivot_diff = df_pivot.diff(axis=1)"
   ]
  },
  {
   "cell_type": "code",
   "execution_count": 7,
   "id": "fifth-motion",
   "metadata": {
    "execution": {
     "iopub.execute_input": "2021-09-17T23:30:08.963318Z",
     "iopub.status.busy": "2021-09-17T23:30:08.960744Z",
     "iopub.status.idle": "2021-09-17T23:30:10.464040Z",
     "shell.execute_reply": "2021-09-17T23:30:10.465338Z"
    },
    "papermill": {
     "duration": 1.536525,
     "end_time": "2021-09-17T23:30:10.465757",
     "exception": false,
     "start_time": "2021-09-17T23:30:08.929232",
     "status": "completed"
    },
    "tags": []
   },
   "outputs": [
    {
     "data": {
      "text/plain": [
       "<AxesSubplot:ylabel='PRODUCT'>"
      ]
     },
     "execution_count": 7,
     "metadata": {},
     "output_type": "execute_result"
    },
    {
     "data": {
      "image/png": "[encoded data removed]",
      "text/plain": [
       "<Figure size 432x288 with 1 Axes>"
      ]
     },
     "metadata": {
      "needs_background": "light"
     },
     "output_type": "display_data"
    }
   ],
   "source": [
    "df_pivot_diff.sort_values(\"stamp_2\", ascending = False)[\"stamp_2\"].head(10).plot.barh()"
   ]
  },
  {
   "cell_type": "code",
   "execution_count": null,
   "id": "extra-executive",
   "metadata": {
    "papermill": {
     "duration": 0.022563,
     "end_time": "2021-09-17T23:30:10.513604",
     "exception": false,
     "start_time": "2021-09-17T23:30:10.491041",
     "status": "completed"
    },
    "tags": []
   },
   "outputs": [],
   "source": []
  }
 ],
 "metadata": {
  "kernelspec": {
   "display_name": "Python 3",
   "language": "python",
   "name": "python3"
  },
  "language_info": {
   "codemirror_mode": {
    "name": "ipython",
    "version": 3
   },
   "file_extension": ".py",
   "mimetype": "text/x-python",
   "name": "python",
   "nbconvert_exporter": "python",
   "pygments_lexer": "ipython3",
   "version": "3.9.5"
  },
  "papermill": {
   "default_parameters": {},
   "duration": 6.601236,
   "end_time": "2021-09-17T23:30:11.155510",
   "environment_variables": {},
   "exception": null,
   "input_path": "eBay_Overview.ipynb",
   "output_path": "eBay_Overview.ipynb",
   "parameters": {},
   "start_time": "2021-09-17T23:30:04.554274",
   "version": "2.3.3"
  }
 },
 "nbformat": 4,
 "nbformat_minor": 5
}