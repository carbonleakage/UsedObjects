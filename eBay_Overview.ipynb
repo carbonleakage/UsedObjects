{
 "cells": [
  {
   "cell_type": "code",
   "execution_count": 1,
   "id": "reverse-picking",
   "metadata": {
    "execution": {
     "iopub.execute_input": "2021-10-14T10:30:07.182510Z",
     "iopub.status.busy": "2021-10-14T10:30:07.180496Z",
     "iopub.status.idle": "2021-10-14T10:30:07.986407Z",
     "shell.execute_reply": "2021-10-14T10:30:07.987670Z"
    },
    "papermill": {
     "duration": 0.858437,
     "end_time": "2021-10-14T10:30:07.988282",
     "exception": false,
     "start_time": "2021-10-14T10:30:07.129845",
     "status": "completed"
    },
    "tags": []
   },
   "outputs": [],
   "source": [
    "import pandas as pd\n",
    "import sqlite3"
   ]
  },
  {
   "cell_type": "code",
   "execution_count": 2,
   "id": "innovative-syndrome",
   "metadata": {
    "execution": {
     "iopub.execute_input": "2021-10-14T10:30:08.039705Z",
     "iopub.status.busy": "2021-10-14T10:30:08.037840Z",
     "iopub.status.idle": "2021-10-14T10:30:08.570457Z",
     "shell.execute_reply": "2021-10-14T10:30:08.571753Z"
    },
    "papermill": {
     "duration": 0.562179,
     "end_time": "2021-10-14T10:30:08.572167",
     "exception": false,
     "start_time": "2021-10-14T10:30:08.009988",
     "status": "completed"
    },
    "tags": []
   },
   "outputs": [],
   "source": [
    "timestamps = pd.read_sql(\"select distinct record_time from EBAY_TOP_BERLIN order by record_time desc limit 2\", sqlite3.connect(\"UsedObjects.db\"))"
   ]
  },
  {
   "cell_type": "code",
   "execution_count": 3,
   "id": "periodic-identification",
   "metadata": {
    "execution": {
     "iopub.execute_input": "2021-10-14T10:30:08.645340Z",
     "iopub.status.busy": "2021-10-14T10:30:08.643208Z",
     "iopub.status.idle": "2021-10-14T10:30:08.665498Z",
     "shell.execute_reply": "2021-10-14T10:30:08.663813Z"
    },
    "papermill": {
     "duration": 0.074537,
     "end_time": "2021-10-14T10:30:08.665883",
     "exception": false,
     "start_time": "2021-10-14T10:30:08.591346",
     "status": "completed"
    },
    "tags": []
   },
   "outputs": [
    {
     "data": {
      "text/html": [
       "<div>\n",
       "<style scoped>\n",
       "    .dataframe tbody tr th:only-of-type {\n",
       "        vertical-align: middle;\n",
       "    }\n",
       "\n",
       "    .dataframe tbody tr th {\n",
       "        vertical-align: top;\n",
       "    }\n",
       "\n",
       "    .dataframe thead th {\n",
       "        text-align: right;\n",
       "    }\n",
       "</style>\n",
       "<table border=\"1\" class=\"dataframe\">\n",
       "  <thead>\n",
       "    <tr style=\"text-align: right;\">\n",
       "      <th></th>\n",
       "      <th>RECORD_TIME</th>\n",
       "    </tr>\n",
       "  </thead>\n",
       "  <tbody>\n",
       "    <tr>\n",
       "      <th>0</th>\n",
       "      <td>2021-10-14 12:30</td>\n",
       "    </tr>\n",
       "    <tr>\n",
       "      <th>1</th>\n",
       "      <td>2021-10-14 12:00</td>\n",
       "    </tr>\n",
       "  </tbody>\n",
       "</table>\n",
       "</div>"
      ],
      "text/plain": [
       "        RECORD_TIME\n",
       "0  2021-10-14 12:30\n",
       "1  2021-10-14 12:00"
      ]
     },
     "execution_count": 3,
     "metadata": {},
     "output_type": "execute_result"
    }
   ],
   "source": [
    "timestamps"
   ]
  },
  {
   "cell_type": "code",
   "execution_count": 4,
   "id": "alternate-victory",
   "metadata": {
    "execution": {
     "iopub.execute_input": "2021-10-14T10:30:08.719093Z",
     "iopub.status.busy": "2021-10-14T10:30:08.717044Z",
     "iopub.status.idle": "2021-10-14T10:30:09.515590Z",
     "shell.execute_reply": "2021-10-14T10:30:09.516967Z"
    },
    "papermill": {
     "duration": 0.829267,
     "end_time": "2021-10-14T10:30:09.517400",
     "exception": false,
     "start_time": "2021-10-14T10:30:08.688133",
     "status": "completed"
    },
    "tags": []
   },
   "outputs": [],
   "source": [
    "df = pd.read_sql(\"select * from EBAY_TOP_BERLIN where record_time in (select distinct record_time from EBAY_TOP_BERLIN order by record_time desc limit 2)\", sqlite3.connect(\"UsedObjects.db\"))"
   ]
  },
  {
   "cell_type": "code",
   "execution_count": 5,
   "id": "popular-active",
   "metadata": {
    "execution": {
     "iopub.execute_input": "2021-10-14T10:30:09.581839Z",
     "iopub.status.busy": "2021-10-14T10:30:09.574510Z",
     "iopub.status.idle": "2021-10-14T10:30:09.602975Z",
     "shell.execute_reply": "2021-10-14T10:30:09.604198Z"
    },
    "papermill": {
     "duration": 0.06642,
     "end_time": "2021-10-14T10:30:09.604595",
     "exception": false,
     "start_time": "2021-10-14T10:30:09.538175",
     "status": "completed"
    },
    "tags": []
   },
   "outputs": [],
   "source": [
    "df_pivot = df.pivot_table(index=\"PRODUCT\", columns = \"RECORD_TIME\", values = \"LISTING_COUNT\")"
   ]
  },
  {
   "cell_type": "code",
   "execution_count": 6,
   "id": "union-huntington",
   "metadata": {
    "execution": {
     "iopub.execute_input": "2021-10-14T10:30:09.663928Z",
     "iopub.status.busy": "2021-10-14T10:30:09.661461Z",
     "iopub.status.idle": "2021-10-14T10:30:09.668577Z",
     "shell.execute_reply": "2021-10-14T10:30:09.667265Z"
    },
    "papermill": {
     "duration": 0.042162,
     "end_time": "2021-10-14T10:30:09.668998",
     "exception": false,
     "start_time": "2021-10-14T10:30:09.626836",
     "status": "completed"
    },
    "tags": []
   },
   "outputs": [],
   "source": [
    "df_pivot.columns = [\"stamp_1\", \"stamp_2\"]\n",
    "df_pivot_diff = df_pivot.diff(axis=1)"
   ]
  },
  {
   "cell_type": "code",
   "execution_count": 7,
   "id": "fifth-motion",
   "metadata": {
    "execution": {
     "iopub.execute_input": "2021-10-14T10:30:09.723298Z",
     "iopub.status.busy": "2021-10-14T10:30:09.720977Z",
     "iopub.status.idle": "2021-10-14T10:30:11.257133Z",
     "shell.execute_reply": "2021-10-14T10:30:11.258524Z"
    },
    "papermill": {
     "duration": 1.569561,
     "end_time": "2021-10-14T10:30:11.258959",
     "exception": false,
     "start_time": "2021-10-14T10:30:09.689398",
     "status": "completed"
    },
    "tags": []
   },
   "outputs": [
    {
     "data": {
      "text/plain": [
       "<AxesSubplot:ylabel='PRODUCT'>"
      ]
     },
     "execution_count": 7,
     "metadata": {},
     "output_type": "execute_result"
    },
    {
     "data": {
      "image/png": "[encoded data removed]",
      "text/plain": [
       "<Figure size 432x288 with 1 Axes>"
      ]
     },
     "metadata": {
      "needs_background": "light"
     },
     "output_type": "display_data"
    }
   ],
   "source": [
    "df_pivot_diff.sort_values(\"stamp_2\", ascending = False)[\"stamp_2\"].head(10).plot.barh()"
   ]
  },
  {
   "cell_type": "code",
   "execution_count": null,
   "id": "extra-executive",
   "metadata": {
    "papermill": {
     "duration": 0.022368,
     "end_time": "2021-10-14T10:30:11.305932",
     "exception": false,
     "start_time": "2021-10-14T10:30:11.283564",
     "status": "completed"
    },
    "tags": []
   },
   "outputs": [],
   "source": []
  }
 ],
 "metadata": {
  "kernelspec": {
   "display_name": "Python 3",
   "language": "python",
   "name": "python3"
  },
  "language_info": {
   "codemirror_mode": {
    "name": "ipython",
    "version": 3
   },
   "file_extension": ".py",
   "mimetype": "text/x-python",
   "name": "python",
   "nbconvert_exporter": "python",
   "pygments_lexer": "ipython3",
   "version": "3.9.5"
  },
  "papermill": {
   "default_parameters": {},
   "duration": 7.820975,
   "end_time": "2021-10-14T10:30:12.541427",
   "environment_variables": {},
   "exception": null,
   "input_path": "eBay_Overview.ipynb",
   "output_path": "eBay_Overview.ipynb",
   "parameters": {},
   "start_time": "2021-10-14T10:30:04.720452",
   "version": "2.3.3"
  }
 },
 "nbformat": 4,
 "nbformat_minor": 5
}