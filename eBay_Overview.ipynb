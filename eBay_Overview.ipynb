{
 "cells": [
  {
   "cell_type": "code",
   "execution_count": 1,
   "id": "reverse-picking",
   "metadata": {
    "execution": {
     "iopub.execute_input": "2021-10-25T06:30:08.249904Z",
     "iopub.status.busy": "2021-10-25T06:30:08.247868Z",
     "iopub.status.idle": "2021-10-25T06:30:09.058479Z",
     "shell.execute_reply": "2021-10-25T06:30:09.059896Z"
    },
    "papermill": {
     "duration": 0.860387,
     "end_time": "2021-10-25T06:30:09.060577",
     "exception": false,
     "start_time": "2021-10-25T06:30:08.200190",
     "status": "completed"
    },
    "tags": []
   },
   "outputs": [],
   "source": [
    "import pandas as pd\n",
    "import sqlite3"
   ]
  },
  {
   "cell_type": "code",
   "execution_count": 2,
   "id": "innovative-syndrome",
   "metadata": {
    "execution": {
     "iopub.execute_input": "2021-10-25T06:30:09.110302Z",
     "iopub.status.busy": "2021-10-25T06:30:09.108308Z",
     "iopub.status.idle": "2021-10-25T06:30:09.768304Z",
     "shell.execute_reply": "2021-10-25T06:30:09.770311Z"
    },
    "papermill": {
     "duration": 0.690488,
     "end_time": "2021-10-25T06:30:09.770870",
     "exception": false,
     "start_time": "2021-10-25T06:30:09.080382",
     "status": "completed"
    },
    "tags": []
   },
   "outputs": [],
   "source": [
    "timestamps = pd.read_sql(\"select distinct record_time from EBAY_TOP_BERLIN order by record_time desc limit 2\", sqlite3.connect(\"UsedObjects.db\"))"
   ]
  },
  {
   "cell_type": "code",
   "execution_count": 3,
   "id": "periodic-identification",
   "metadata": {
    "execution": {
     "iopub.execute_input": "2021-10-25T06:30:09.844290Z",
     "iopub.status.busy": "2021-10-25T06:30:09.842254Z",
     "iopub.status.idle": "2021-10-25T06:30:09.864459Z",
     "shell.execute_reply": "2021-10-25T06:30:09.866043Z"
    },
    "papermill": {
     "duration": 0.070629,
     "end_time": "2021-10-25T06:30:09.866520",
     "exception": false,
     "start_time": "2021-10-25T06:30:09.795891",
     "status": "completed"
    },
    "tags": []
   },
   "outputs": [
    {
     "data": {
      "text/html": [
       "<div>\n",
       "<style scoped>\n",
       "    .dataframe tbody tr th:only-of-type {\n",
       "        vertical-align: middle;\n",
       "    }\n",
       "\n",
       "    .dataframe tbody tr th {\n",
       "        vertical-align: top;\n",
       "    }\n",
       "\n",
       "    .dataframe thead th {\n",
       "        text-align: right;\n",
       "    }\n",
       "</style>\n",
       "<table border=\"1\" class=\"dataframe\">\n",
       "  <thead>\n",
       "    <tr style=\"text-align: right;\">\n",
       "      <th></th>\n",
       "      <th>RECORD_TIME</th>\n",
       "    </tr>\n",
       "  </thead>\n",
       "  <tbody>\n",
       "    <tr>\n",
       "      <th>0</th>\n",
       "      <td>2021-10-25 08:30</td>\n",
       "    </tr>\n",
       "    <tr>\n",
       "      <th>1</th>\n",
       "      <td>2021-10-25 08:00</td>\n",
       "    </tr>\n",
       "  </tbody>\n",
       "</table>\n",
       "</div>"
      ],
      "text/plain": [
       "        RECORD_TIME\n",
       "0  2021-10-25 08:30\n",
       "1  2021-10-25 08:00"
      ]
     },
     "execution_count": 3,
     "metadata": {},
     "output_type": "execute_result"
    }
   ],
   "source": [
    "timestamps"
   ]
  },
  {
   "cell_type": "code",
   "execution_count": 4,
   "id": "alternate-victory",
   "metadata": {
    "execution": {
     "iopub.execute_input": "2021-10-25T06:30:09.919010Z",
     "iopub.status.busy": "2021-10-25T06:30:09.917134Z",
     "iopub.status.idle": "2021-10-25T06:30:10.840474Z",
     "shell.execute_reply": "2021-10-25T06:30:10.841759Z"
    },
    "papermill": {
     "duration": 0.953914,
     "end_time": "2021-10-25T06:30:10.842164",
     "exception": false,
     "start_time": "2021-10-25T06:30:09.888250",
     "status": "completed"
    },
    "tags": []
   },
   "outputs": [],
   "source": [
    "df = pd.read_sql(\"select * from EBAY_TOP_BERLIN where record_time in (select distinct record_time from EBAY_TOP_BERLIN order by record_time desc limit 2)\", sqlite3.connect(\"UsedObjects.db\"))"
   ]
  },
  {
   "cell_type": "code",
   "execution_count": 5,
   "id": "popular-active",
   "metadata": {
    "execution": {
     "iopub.execute_input": "2021-10-25T06:30:10.913165Z",
     "iopub.status.busy": "2021-10-25T06:30:10.901521Z",
     "iopub.status.idle": "2021-10-25T06:30:10.928556Z",
     "shell.execute_reply": "2021-10-25T06:30:10.929863Z"
    },
    "papermill": {
     "duration": 0.067288,
     "end_time": "2021-10-25T06:30:10.930268",
     "exception": false,
     "start_time": "2021-10-25T06:30:10.862980",
     "status": "completed"
    },
    "tags": []
   },
   "outputs": [],
   "source": [
    "df_pivot = df.pivot_table(index=\"PRODUCT\", columns = \"RECORD_TIME\", values = \"LISTING_COUNT\")"
   ]
  },
  {
   "cell_type": "code",
   "execution_count": 6,
   "id": "union-huntington",
   "metadata": {
    "execution": {
     "iopub.execute_input": "2021-10-25T06:30:10.987271Z",
     "iopub.status.busy": "2021-10-25T06:30:10.985106Z",
     "iopub.status.idle": "2021-10-25T06:30:10.990445Z",
     "shell.execute_reply": "2021-10-25T06:30:10.991805Z"
    },
    "papermill": {
     "duration": 0.041099,
     "end_time": "2021-10-25T06:30:10.992249",
     "exception": false,
     "start_time": "2021-10-25T06:30:10.951150",
     "status": "completed"
    },
    "tags": []
   },
   "outputs": [],
   "source": [
    "df_pivot.columns = [\"stamp_1\", \"stamp_2\"]\n",
    "df_pivot_diff = df_pivot.diff(axis=1)"
   ]
  },
  {
   "cell_type": "code",
   "execution_count": 7,
   "id": "fifth-motion",
   "metadata": {
    "execution": {
     "iopub.execute_input": "2021-10-25T06:30:11.049172Z",
     "iopub.status.busy": "2021-10-25T06:30:11.046446Z",
     "iopub.status.idle": "2021-10-25T06:30:12.588845Z",
     "shell.execute_reply": "2021-10-25T06:30:12.590248Z"
    },
    "papermill": {
     "duration": 1.576236,
     "end_time": "2021-10-25T06:30:12.590697",
     "exception": false,
     "start_time": "2021-10-25T06:30:11.014461",
     "status": "completed"
    },
    "tags": []
   },
   "outputs": [
    {
     "data": {
      "text/plain": [
       "<AxesSubplot:ylabel='PRODUCT'>"
      ]
     },
     "execution_count": 7,
     "metadata": {},
     "output_type": "execute_result"
    },
    {
     "data": {
      "image/png": "[encoded data removed]",
      "text/plain": [
       "<Figure size 432x288 with 1 Axes>"
      ]
     },
     "metadata": {
      "needs_background": "light"
     },
     "output_type": "display_data"
    }
   ],
   "source": [
    "df_pivot_diff.sort_values(\"stamp_2\", ascending = False)[\"stamp_2\"].head(10).plot.barh()"
   ]
  },
  {
   "cell_type": "code",
   "execution_count": null,
   "id": "extra-executive",
   "metadata": {
    "papermill": {
     "duration": 0.022395,
     "end_time": "2021-10-25T06:30:12.638435",
     "exception": false,
     "start_time": "2021-10-25T06:30:12.616040",
     "status": "completed"
    },
    "tags": []
   },
   "outputs": [],
   "source": []
  }
 ],
 "metadata": {
  "kernelspec": {
   "display_name": "Python 3",
   "language": "python",
   "name": "python3"
  },
  "language_info": {
   "codemirror_mode": {
    "name": "ipython",
    "version": 3
   },
   "file_extension": ".py",
   "mimetype": "text/x-python",
   "name": "python",
   "nbconvert_exporter": "python",
   "pygments_lexer": "ipython3",
   "version": "3.9.5"
  },
  "papermill": {
   "default_parameters": {},
   "duration": 7.49628,
   "end_time": "2021-10-25T06:30:13.280651",
   "environment_variables": {},
   "exception": null,
   "input_path": "eBay_Overview.ipynb",
   "output_path": "eBay_Overview.ipynb",
   "parameters": {},
   "start_time": "2021-10-25T06:30:05.784371",
   "version": "2.3.3"
  }
 },
 "nbformat": 4,
 "nbformat_minor": 5
}