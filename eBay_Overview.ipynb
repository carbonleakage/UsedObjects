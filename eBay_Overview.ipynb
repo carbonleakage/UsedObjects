{
 "cells": [
  {
   "cell_type": "code",
   "execution_count": 1,
   "id": "reverse-picking",
   "metadata": {
    "execution": {
     "iopub.execute_input": "2021-09-21T13:00:07.806074Z",
     "iopub.status.busy": "2021-09-21T13:00:07.804079Z",
     "iopub.status.idle": "2021-09-21T13:00:08.606732Z",
     "shell.execute_reply": "2021-09-21T13:00:08.608282Z"
    },
    "papermill": {
     "duration": 0.853059,
     "end_time": "2021-09-21T13:00:08.608950",
     "exception": false,
     "start_time": "2021-09-21T13:00:07.755891",
     "status": "completed"
    },
    "tags": []
   },
   "outputs": [],
   "source": [
    "import pandas as pd\n",
    "import sqlite3"
   ]
  },
  {
   "cell_type": "code",
   "execution_count": 2,
   "id": "innovative-syndrome",
   "metadata": {
    "execution": {
     "iopub.execute_input": "2021-09-21T13:00:08.659808Z",
     "iopub.status.busy": "2021-09-21T13:00:08.657772Z",
     "iopub.status.idle": "2021-09-21T13:00:08.995974Z",
     "shell.execute_reply": "2021-09-21T13:00:08.997339Z"
    },
    "papermill": {
     "duration": 0.367698,
     "end_time": "2021-09-21T13:00:08.997770",
     "exception": false,
     "start_time": "2021-09-21T13:00:08.630072",
     "status": "completed"
    },
    "tags": []
   },
   "outputs": [],
   "source": [
    "timestamps = pd.read_sql(\"select distinct record_time from EBAY_TOP_BERLIN order by record_time desc limit 2\", sqlite3.connect(\"UsedObjects.db\"))"
   ]
  },
  {
   "cell_type": "code",
   "execution_count": 3,
   "id": "periodic-identification",
   "metadata": {
    "execution": {
     "iopub.execute_input": "2021-09-21T13:00:09.063496Z",
     "iopub.status.busy": "2021-09-21T13:00:09.061729Z",
     "iopub.status.idle": "2021-09-21T13:00:09.085282Z",
     "shell.execute_reply": "2021-09-21T13:00:09.086553Z"
    },
    "papermill": {
     "duration": 0.069636,
     "end_time": "2021-09-21T13:00:09.087024",
     "exception": false,
     "start_time": "2021-09-21T13:00:09.017388",
     "status": "completed"
    },
    "tags": []
   },
   "outputs": [
    {
     "data": {
      "text/html": [
       "<div>\n",
       "<style scoped>\n",
       "    .dataframe tbody tr th:only-of-type {\n",
       "        vertical-align: middle;\n",
       "    }\n",
       "\n",
       "    .dataframe tbody tr th {\n",
       "        vertical-align: top;\n",
       "    }\n",
       "\n",
       "    .dataframe thead th {\n",
       "        text-align: right;\n",
       "    }\n",
       "</style>\n",
       "<table border=\"1\" class=\"dataframe\">\n",
       "  <thead>\n",
       "    <tr style=\"text-align: right;\">\n",
       "      <th></th>\n",
       "      <th>RECORD_TIME</th>\n",
       "    </tr>\n",
       "  </thead>\n",
       "  <tbody>\n",
       "    <tr>\n",
       "      <th>0</th>\n",
       "      <td>2021-09-21 15:00</td>\n",
       "    </tr>\n",
       "    <tr>\n",
       "      <th>1</th>\n",
       "      <td>2021-09-21 14:30</td>\n",
       "    </tr>\n",
       "  </tbody>\n",
       "</table>\n",
       "</div>"
      ],
      "text/plain": [
       "        RECORD_TIME\n",
       "0  2021-09-21 15:00\n",
       "1  2021-09-21 14:30"
      ]
     },
     "execution_count": 3,
     "metadata": {},
     "output_type": "execute_result"
    }
   ],
   "source": [
    "timestamps"
   ]
  },
  {
   "cell_type": "code",
   "execution_count": 4,
   "id": "alternate-victory",
   "metadata": {
    "execution": {
     "iopub.execute_input": "2021-09-21T13:00:09.137082Z",
     "iopub.status.busy": "2021-09-21T13:00:09.135228Z",
     "iopub.status.idle": "2021-09-21T13:00:09.638044Z",
     "shell.execute_reply": "2021-09-21T13:00:09.639327Z"
    },
    "papermill": {
     "duration": 0.532503,
     "end_time": "2021-09-21T13:00:09.639732",
     "exception": false,
     "start_time": "2021-09-21T13:00:09.107229",
     "status": "completed"
    },
    "tags": []
   },
   "outputs": [],
   "source": [
    "df = pd.read_sql(\"select * from EBAY_TOP_BERLIN where record_time in (select distinct record_time from EBAY_TOP_BERLIN order by record_time desc limit 2)\", sqlite3.connect(\"UsedObjects.db\"))"
   ]
  },
  {
   "cell_type": "code",
   "execution_count": 5,
   "id": "popular-active",
   "metadata": {
    "execution": {
     "iopub.execute_input": "2021-09-21T13:00:09.718426Z",
     "iopub.status.busy": "2021-09-21T13:00:09.711202Z",
     "iopub.status.idle": "2021-09-21T13:00:09.733998Z",
     "shell.execute_reply": "2021-09-21T13:00:09.735354Z"
    },
    "papermill": {
     "duration": 0.070295,
     "end_time": "2021-09-21T13:00:09.735775",
     "exception": false,
     "start_time": "2021-09-21T13:00:09.665480",
     "status": "completed"
    },
    "tags": []
   },
   "outputs": [],
   "source": [
    "df_pivot = df.pivot_table(index=\"PRODUCT\", columns = \"RECORD_TIME\", values = \"LISTING_COUNT\")"
   ]
  },
  {
   "cell_type": "code",
   "execution_count": 6,
   "id": "union-huntington",
   "metadata": {
    "execution": {
     "iopub.execute_input": "2021-09-21T13:00:09.791299Z",
     "iopub.status.busy": "2021-09-21T13:00:09.789222Z",
     "iopub.status.idle": "2021-09-21T13:00:09.794500Z",
     "shell.execute_reply": "2021-09-21T13:00:09.795774Z"
    },
    "papermill": {
     "duration": 0.040517,
     "end_time": "2021-09-21T13:00:09.796207",
     "exception": false,
     "start_time": "2021-09-21T13:00:09.755690",
     "status": "completed"
    },
    "tags": []
   },
   "outputs": [],
   "source": [
    "df_pivot.columns = [\"stamp_1\", \"stamp_2\"]\n",
    "df_pivot_diff = df_pivot.diff(axis=1)"
   ]
  },
  {
   "cell_type": "code",
   "execution_count": 7,
   "id": "fifth-motion",
   "metadata": {
    "execution": {
     "iopub.execute_input": "2021-09-21T13:00:09.852599Z",
     "iopub.status.busy": "2021-09-21T13:00:09.850025Z",
     "iopub.status.idle": "2021-09-21T13:00:11.331997Z",
     "shell.execute_reply": "2021-09-21T13:00:11.333274Z"
    },
    "papermill": {
     "duration": 1.514763,
     "end_time": "2021-09-21T13:00:11.333724",
     "exception": false,
     "start_time": "2021-09-21T13:00:09.818961",
     "status": "completed"
    },
    "tags": []
   },
   "outputs": [
    {
     "data": {
      "text/plain": [
       "<AxesSubplot:ylabel='PRODUCT'>"
      ]
     },
     "execution_count": 7,
     "metadata": {},
     "output_type": "execute_result"
    },
    {
     "data": {
      "image/png": "[encoded data removed]",
      "text/plain": [
       "<Figure size 432x288 with 1 Axes>"
      ]
     },
     "metadata": {
      "needs_background": "light"
     },
     "output_type": "display_data"
    }
   ],
   "source": [
    "df_pivot_diff.sort_values(\"stamp_2\", ascending = False)[\"stamp_2\"].head(10).plot.barh()"
   ]
  },
  {
   "cell_type": "code",
   "execution_count": null,
   "id": "extra-executive",
   "metadata": {
    "papermill": {
     "duration": 0.02235,
     "end_time": "2021-09-21T13:00:11.380529",
     "exception": false,
     "start_time": "2021-09-21T13:00:11.358179",
     "status": "completed"
    },
    "tags": []
   },
   "outputs": [],
   "source": []
  }
 ],
 "metadata": {
  "kernelspec": {
   "display_name": "Python 3",
   "language": "python",
   "name": "python3"
  },
  "language_info": {
   "codemirror_mode": {
    "name": "ipython",
    "version": 3
   },
   "file_extension": ".py",
   "mimetype": "text/x-python",
   "name": "python",
   "nbconvert_exporter": "python",
   "pygments_lexer": "ipython3",
   "version": "3.9.5"
  },
  "papermill": {
   "default_parameters": {},
   "duration": 6.667683,
   "end_time": "2021-09-21T13:00:12.024306",
   "environment_variables": {},
   "exception": null,
   "input_path": "eBay_Overview.ipynb",
   "output_path": "eBay_Overview.ipynb",
   "parameters": {},
   "start_time": "2021-09-21T13:00:05.356623",
   "version": "2.3.3"
  }
 },
 "nbformat": 4,
 "nbformat_minor": 5
}