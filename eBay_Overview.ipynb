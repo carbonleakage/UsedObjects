{
 "cells": [
  {
   "cell_type": "code",
   "execution_count": 1,
   "id": "reverse-picking",
   "metadata": {
    "execution": {
     "iopub.execute_input": "2021-08-31T16:00:06.889114Z",
     "iopub.status.busy": "2021-08-31T16:00:06.887087Z",
     "iopub.status.idle": "2021-08-31T16:00:07.688239Z",
     "shell.execute_reply": "2021-08-31T16:00:07.689686Z"
    },
    "papermill": {
     "duration": 0.853532,
     "end_time": "2021-08-31T16:00:07.690364",
     "exception": false,
     "start_time": "2021-08-31T16:00:06.836832",
     "status": "completed"
    },
    "tags": []
   },
   "outputs": [],
   "source": [
    "import pandas as pd\n",
    "import sqlite3"
   ]
  },
  {
   "cell_type": "code",
   "execution_count": 2,
   "id": "innovative-syndrome",
   "metadata": {
    "execution": {
     "iopub.execute_input": "2021-08-31T16:00:07.741009Z",
     "iopub.status.busy": "2021-08-31T16:00:07.738585Z",
     "iopub.status.idle": "2021-08-31T16:00:07.915421Z",
     "shell.execute_reply": "2021-08-31T16:00:07.916824Z"
    },
    "papermill": {
     "duration": 0.206783,
     "end_time": "2021-08-31T16:00:07.917270",
     "exception": false,
     "start_time": "2021-08-31T16:00:07.710487",
     "status": "completed"
    },
    "tags": []
   },
   "outputs": [],
   "source": [
    "timestamps = pd.read_sql(\"select distinct record_time from EBAY_TOP_BERLIN order by record_time desc limit 2\", sqlite3.connect(\"UsedObjects.db\"))"
   ]
  },
  {
   "cell_type": "code",
   "execution_count": 3,
   "id": "periodic-identification",
   "metadata": {
    "execution": {
     "iopub.execute_input": "2021-08-31T16:00:07.983888Z",
     "iopub.status.busy": "2021-08-31T16:00:07.981755Z",
     "iopub.status.idle": "2021-08-31T16:00:08.002079Z",
     "shell.execute_reply": "2021-08-31T16:00:08.003747Z"
    },
    "papermill": {
     "duration": 0.067234,
     "end_time": "2021-08-31T16:00:08.004254",
     "exception": false,
     "start_time": "2021-08-31T16:00:07.937020",
     "status": "completed"
    },
    "tags": []
   },
   "outputs": [
    {
     "data": {
      "text/html": [
       "<div>\n",
       "<style scoped>\n",
       "    .dataframe tbody tr th:only-of-type {\n",
       "        vertical-align: middle;\n",
       "    }\n",
       "\n",
       "    .dataframe tbody tr th {\n",
       "        vertical-align: top;\n",
       "    }\n",
       "\n",
       "    .dataframe thead th {\n",
       "        text-align: right;\n",
       "    }\n",
       "</style>\n",
       "<table border=\"1\" class=\"dataframe\">\n",
       "  <thead>\n",
       "    <tr style=\"text-align: right;\">\n",
       "      <th></th>\n",
       "      <th>RECORD_TIME</th>\n",
       "    </tr>\n",
       "  </thead>\n",
       "  <tbody>\n",
       "    <tr>\n",
       "      <th>0</th>\n",
       "      <td>2021-08-31 18:00</td>\n",
       "    </tr>\n",
       "    <tr>\n",
       "      <th>1</th>\n",
       "      <td>2021-08-31 17:30</td>\n",
       "    </tr>\n",
       "  </tbody>\n",
       "</table>\n",
       "</div>"
      ],
      "text/plain": [
       "        RECORD_TIME\n",
       "0  2021-08-31 18:00\n",
       "1  2021-08-31 17:30"
      ]
     },
     "execution_count": 3,
     "metadata": {},
     "output_type": "execute_result"
    }
   ],
   "source": [
    "timestamps"
   ]
  },
  {
   "cell_type": "code",
   "execution_count": 4,
   "id": "alternate-victory",
   "metadata": {
    "execution": {
     "iopub.execute_input": "2021-08-31T16:00:08.056082Z",
     "iopub.status.busy": "2021-08-31T16:00:08.054162Z",
     "iopub.status.idle": "2021-08-31T16:00:08.314390Z",
     "shell.execute_reply": "2021-08-31T16:00:08.315596Z"
    },
    "papermill": {
     "duration": 0.290111,
     "end_time": "2021-08-31T16:00:08.316015",
     "exception": false,
     "start_time": "2021-08-31T16:00:08.025904",
     "status": "completed"
    },
    "tags": []
   },
   "outputs": [],
   "source": [
    "df = pd.read_sql(\"select * from EBAY_TOP_BERLIN where record_time in (select distinct record_time from EBAY_TOP_BERLIN order by record_time desc limit 2)\", sqlite3.connect(\"UsedObjects.db\"))"
   ]
  },
  {
   "cell_type": "code",
   "execution_count": 5,
   "id": "popular-active",
   "metadata": {
    "execution": {
     "iopub.execute_input": "2021-08-31T16:00:08.399863Z",
     "iopub.status.busy": "2021-08-31T16:00:08.385494Z",
     "iopub.status.idle": "2021-08-31T16:00:08.415063Z",
     "shell.execute_reply": "2021-08-31T16:00:08.416383Z"
    },
    "papermill": {
     "duration": 0.072951,
     "end_time": "2021-08-31T16:00:08.416800",
     "exception": false,
     "start_time": "2021-08-31T16:00:08.343849",
     "status": "completed"
    },
    "tags": []
   },
   "outputs": [],
   "source": [
    "df_pivot = df.pivot_table(index=\"PRODUCT\", columns = \"RECORD_TIME\", values = \"LISTING_COUNT\")"
   ]
  },
  {
   "cell_type": "code",
   "execution_count": 6,
   "id": "union-huntington",
   "metadata": {
    "execution": {
     "iopub.execute_input": "2021-08-31T16:00:08.471463Z",
     "iopub.status.busy": "2021-08-31T16:00:08.469467Z",
     "iopub.status.idle": "2021-08-31T16:00:08.474696Z",
     "shell.execute_reply": "2021-08-31T16:00:08.476043Z"
    },
    "papermill": {
     "duration": 0.03955,
     "end_time": "2021-08-31T16:00:08.476452",
     "exception": false,
     "start_time": "2021-08-31T16:00:08.436902",
     "status": "completed"
    },
    "tags": []
   },
   "outputs": [],
   "source": [
    "df_pivot.columns = [\"stamp_1\", \"stamp_2\"]\n",
    "df_pivot_diff = df_pivot.diff(axis=1)"
   ]
  },
  {
   "cell_type": "code",
   "execution_count": 7,
   "id": "fifth-motion",
   "metadata": {
    "execution": {
     "iopub.execute_input": "2021-08-31T16:00:08.531129Z",
     "iopub.status.busy": "2021-08-31T16:00:08.528375Z",
     "iopub.status.idle": "2021-08-31T16:00:09.997585Z",
     "shell.execute_reply": "2021-08-31T16:00:09.999065Z"
    },
    "papermill": {
     "duration": 1.502308,
     "end_time": "2021-08-31T16:00:09.999547",
     "exception": false,
     "start_time": "2021-08-31T16:00:08.497239",
     "status": "completed"
    },
    "tags": []
   },
   "outputs": [
    {
     "data": {
      "text/plain": [
       "<AxesSubplot:ylabel='PRODUCT'>"
      ]
     },
     "execution_count": 7,
     "metadata": {},
     "output_type": "execute_result"
    },
    {
     "data": {
      "image/png": "[encoded data removed]",
      "text/plain": [
       "<Figure size 432x288 with 1 Axes>"
      ]
     },
     "metadata": {
      "needs_background": "light"
     },
     "output_type": "display_data"
    }
   ],
   "source": [
    "df_pivot_diff.sort_values(\"stamp_2\", ascending = False)[\"stamp_2\"].head(10).plot.barh()"
   ]
  },
  {
   "cell_type": "code",
   "execution_count": null,
   "id": "extra-executive",
   "metadata": {
    "papermill": {
     "duration": 0.021989,
     "end_time": "2021-08-31T16:00:10.047319",
     "exception": false,
     "start_time": "2021-08-31T16:00:10.025330",
     "status": "completed"
    },
    "tags": []
   },
   "outputs": [],
   "source": []
  }
 ],
 "metadata": {
  "kernelspec": {
   "display_name": "Python 3",
   "language": "python",
   "name": "python3"
  },
  "language_info": {
   "codemirror_mode": {
    "name": "ipython",
    "version": 3
   },
   "file_extension": ".py",
   "mimetype": "text/x-python",
   "name": "python",
   "nbconvert_exporter": "python",
   "pygments_lexer": "ipython3",
   "version": "3.9.5"
  },
  "papermill": {
   "default_parameters": {},
   "duration": 6.821222,
   "end_time": "2021-08-31T16:00:11.255859",
   "environment_variables": {},
   "exception": null,
   "input_path": "eBay_Overview.ipynb",
   "output_path": "eBay_Overview.ipynb",
   "parameters": {},
   "start_time": "2021-08-31T16:00:04.434637",
   "version": "2.3.3"
  }
 },
 "nbformat": 4,
 "nbformat_minor": 5
}