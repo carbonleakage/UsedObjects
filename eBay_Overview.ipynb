{
 "cells": [
  {
   "cell_type": "code",
   "execution_count": 1,
   "id": "reverse-picking",
   "metadata": {
    "execution": {
     "iopub.execute_input": "2021-10-28T02:00:07.425907Z",
     "iopub.status.busy": "2021-10-28T02:00:07.423916Z",
     "iopub.status.idle": "2021-10-28T02:00:08.231952Z",
     "shell.execute_reply": "2021-10-28T02:00:08.230423Z"
    },
    "papermill": {
     "duration": 0.856143,
     "end_time": "2021-10-28T02:00:08.232339",
     "exception": false,
     "start_time": "2021-10-28T02:00:07.376196",
     "status": "completed"
    },
    "tags": []
   },
   "outputs": [],
   "source": [
    "import pandas as pd\n",
    "import sqlite3"
   ]
  },
  {
   "cell_type": "code",
   "execution_count": 2,
   "id": "innovative-syndrome",
   "metadata": {
    "execution": {
     "iopub.execute_input": "2021-10-28T02:00:08.285380Z",
     "iopub.status.busy": "2021-10-28T02:00:08.282998Z",
     "iopub.status.idle": "2021-10-28T02:00:08.939858Z",
     "shell.execute_reply": "2021-10-28T02:00:08.941240Z"
    },
    "papermill": {
     "duration": 0.686969,
     "end_time": "2021-10-28T02:00:08.941668",
     "exception": false,
     "start_time": "2021-10-28T02:00:08.254699",
     "status": "completed"
    },
    "tags": []
   },
   "outputs": [],
   "source": [
    "timestamps = pd.read_sql(\"select distinct record_time from EBAY_TOP_BERLIN order by record_time desc limit 2\", sqlite3.connect(\"UsedObjects.db\"))"
   ]
  },
  {
   "cell_type": "code",
   "execution_count": 3,
   "id": "periodic-identification",
   "metadata": {
    "execution": {
     "iopub.execute_input": "2021-10-28T02:00:09.009718Z",
     "iopub.status.busy": "2021-10-28T02:00:09.007636Z",
     "iopub.status.idle": "2021-10-28T02:00:09.028222Z",
     "shell.execute_reply": "2021-10-28T02:00:09.029513Z"
    },
    "papermill": {
     "duration": 0.067469,
     "end_time": "2021-10-28T02:00:09.029956",
     "exception": false,
     "start_time": "2021-10-28T02:00:08.962487",
     "status": "completed"
    },
    "tags": []
   },
   "outputs": [
    {
     "data": {
      "text/html": [
       "<div>\n",
       "<style scoped>\n",
       "    .dataframe tbody tr th:only-of-type {\n",
       "        vertical-align: middle;\n",
       "    }\n",
       "\n",
       "    .dataframe tbody tr th {\n",
       "        vertical-align: top;\n",
       "    }\n",
       "\n",
       "    .dataframe thead th {\n",
       "        text-align: right;\n",
       "    }\n",
       "</style>\n",
       "<table border=\"1\" class=\"dataframe\">\n",
       "  <thead>\n",
       "    <tr style=\"text-align: right;\">\n",
       "      <th></th>\n",
       "      <th>RECORD_TIME</th>\n",
       "    </tr>\n",
       "  </thead>\n",
       "  <tbody>\n",
       "    <tr>\n",
       "      <th>0</th>\n",
       "      <td>2021-10-28 04:00</td>\n",
       "    </tr>\n",
       "    <tr>\n",
       "      <th>1</th>\n",
       "      <td>2021-10-28 03:30</td>\n",
       "    </tr>\n",
       "  </tbody>\n",
       "</table>\n",
       "</div>"
      ],
      "text/plain": [
       "        RECORD_TIME\n",
       "0  2021-10-28 04:00\n",
       "1  2021-10-28 03:30"
      ]
     },
     "execution_count": 3,
     "metadata": {},
     "output_type": "execute_result"
    }
   ],
   "source": [
    "timestamps"
   ]
  },
  {
   "cell_type": "code",
   "execution_count": 4,
   "id": "alternate-victory",
   "metadata": {
    "execution": {
     "iopub.execute_input": "2021-10-28T02:00:09.081357Z",
     "iopub.status.busy": "2021-10-28T02:00:09.079391Z",
     "iopub.status.idle": "2021-10-28T02:00:10.039377Z",
     "shell.execute_reply": "2021-10-28T02:00:10.040582Z"
    },
    "papermill": {
     "duration": 0.990129,
     "end_time": "2021-10-28T02:00:10.041196",
     "exception": false,
     "start_time": "2021-10-28T02:00:09.051067",
     "status": "completed"
    },
    "tags": []
   },
   "outputs": [],
   "source": [
    "df = pd.read_sql(\"select * from EBAY_TOP_BERLIN where record_time in (select distinct record_time from EBAY_TOP_BERLIN order by record_time desc limit 2)\", sqlite3.connect(\"UsedObjects.db\"))"
   ]
  },
  {
   "cell_type": "code",
   "execution_count": 5,
   "id": "popular-active",
   "metadata": {
    "execution": {
     "iopub.execute_input": "2021-10-28T02:00:10.112230Z",
     "iopub.status.busy": "2021-10-28T02:00:10.100358Z",
     "iopub.status.idle": "2021-10-28T02:00:10.127941Z",
     "shell.execute_reply": "2021-10-28T02:00:10.129197Z"
    },
    "papermill": {
     "duration": 0.067816,
     "end_time": "2021-10-28T02:00:10.129597",
     "exception": false,
     "start_time": "2021-10-28T02:00:10.061781",
     "status": "completed"
    },
    "tags": []
   },
   "outputs": [],
   "source": [
    "df_pivot = df.pivot_table(index=\"PRODUCT\", columns = \"RECORD_TIME\", values = \"LISTING_COUNT\")"
   ]
  },
  {
   "cell_type": "code",
   "execution_count": 6,
   "id": "union-huntington",
   "metadata": {
    "execution": {
     "iopub.execute_input": "2021-10-28T02:00:10.188298Z",
     "iopub.status.busy": "2021-10-28T02:00:10.186053Z",
     "iopub.status.idle": "2021-10-28T02:00:10.191759Z",
     "shell.execute_reply": "2021-10-28T02:00:10.193097Z"
    },
    "papermill": {
     "duration": 0.041535,
     "end_time": "2021-10-28T02:00:10.193527",
     "exception": false,
     "start_time": "2021-10-28T02:00:10.151992",
     "status": "completed"
    },
    "tags": []
   },
   "outputs": [],
   "source": [
    "df_pivot.columns = [\"stamp_1\", \"stamp_2\"]\n",
    "df_pivot_diff = df_pivot.diff(axis=1)"
   ]
  },
  {
   "cell_type": "code",
   "execution_count": 7,
   "id": "fifth-motion",
   "metadata": {
    "execution": {
     "iopub.execute_input": "2021-10-28T02:00:10.247478Z",
     "iopub.status.busy": "2021-10-28T02:00:10.245252Z",
     "iopub.status.idle": "2021-10-28T02:00:11.721381Z",
     "shell.execute_reply": "2021-10-28T02:00:11.722748Z"
    },
    "papermill": {
     "duration": 1.509428,
     "end_time": "2021-10-28T02:00:11.723189",
     "exception": false,
     "start_time": "2021-10-28T02:00:10.213761",
     "status": "completed"
    },
    "tags": []
   },
   "outputs": [
    {
     "data": {
      "text/plain": [
       "<AxesSubplot:ylabel='PRODUCT'>"
      ]
     },
     "execution_count": 7,
     "metadata": {},
     "output_type": "execute_result"
    },
    {
     "data": {
      "image/png": "[encoded data removed]",
      "text/plain": [
       "<Figure size 432x288 with 1 Axes>"
      ]
     },
     "metadata": {
      "needs_background": "light"
     },
     "output_type": "display_data"
    }
   ],
   "source": [
    "df_pivot_diff.sort_values(\"stamp_2\", ascending = False)[\"stamp_2\"].head(10).plot.barh()"
   ]
  },
  {
   "cell_type": "code",
   "execution_count": null,
   "id": "extra-executive",
   "metadata": {
    "papermill": {
     "duration": 0.02225,
     "end_time": "2021-10-28T02:00:11.769175",
     "exception": false,
     "start_time": "2021-10-28T02:00:11.746925",
     "status": "completed"
    },
    "tags": []
   },
   "outputs": [],
   "source": []
  }
 ],
 "metadata": {
  "kernelspec": {
   "display_name": "Python 3",
   "language": "python",
   "name": "python3"
  },
  "language_info": {
   "codemirror_mode": {
    "name": "ipython",
    "version": 3
   },
   "file_extension": ".py",
   "mimetype": "text/x-python",
   "name": "python",
   "nbconvert_exporter": "python",
   "pygments_lexer": "ipython3",
   "version": "3.9.5"
  },
  "papermill": {
   "default_parameters": {},
   "duration": 7.450492,
   "end_time": "2021-10-28T02:00:12.413491",
   "environment_variables": {},
   "exception": null,
   "input_path": "eBay_Overview.ipynb",
   "output_path": "eBay_Overview.ipynb",
   "parameters": {},
   "start_time": "2021-10-28T02:00:04.962999",
   "version": "2.3.3"
  }
 },
 "nbformat": 4,
 "nbformat_minor": 5
}