{
 "cells": [
  {
   "cell_type": "code",
   "execution_count": 1,
   "id": "reverse-picking",
   "metadata": {
    "execution": {
     "iopub.execute_input": "2021-10-24T08:30:07.486069Z",
     "iopub.status.busy": "2021-10-24T08:30:07.484088Z",
     "iopub.status.idle": "2021-10-24T08:30:08.290224Z",
     "shell.execute_reply": "2021-10-24T08:30:08.291482Z"
    },
    "papermill": {
     "duration": 0.858258,
     "end_time": "2021-10-24T08:30:08.292103",
     "exception": false,
     "start_time": "2021-10-24T08:30:07.433845",
     "status": "completed"
    },
    "tags": []
   },
   "outputs": [],
   "source": [
    "import pandas as pd\n",
    "import sqlite3"
   ]
  },
  {
   "cell_type": "code",
   "execution_count": 2,
   "id": "innovative-syndrome",
   "metadata": {
    "execution": {
     "iopub.execute_input": "2021-10-24T08:30:08.341582Z",
     "iopub.status.busy": "2021-10-24T08:30:08.339653Z",
     "iopub.status.idle": "2021-10-24T08:30:08.963959Z",
     "shell.execute_reply": "2021-10-24T08:30:08.965372Z"
    },
    "papermill": {
     "duration": 0.653831,
     "end_time": "2021-10-24T08:30:08.965791",
     "exception": false,
     "start_time": "2021-10-24T08:30:08.311960",
     "status": "completed"
    },
    "tags": []
   },
   "outputs": [],
   "source": [
    "timestamps = pd.read_sql(\"select distinct record_time from EBAY_TOP_BERLIN order by record_time desc limit 2\", sqlite3.connect(\"UsedObjects.db\"))"
   ]
  },
  {
   "cell_type": "code",
   "execution_count": 3,
   "id": "periodic-identification",
   "metadata": {
    "execution": {
     "iopub.execute_input": "2021-10-24T08:30:09.044440Z",
     "iopub.status.busy": "2021-10-24T08:30:09.039176Z",
     "iopub.status.idle": "2021-10-24T08:30:09.059206Z",
     "shell.execute_reply": "2021-10-24T08:30:09.060396Z"
    },
    "papermill": {
     "duration": 0.068919,
     "end_time": "2021-10-24T08:30:09.060962",
     "exception": false,
     "start_time": "2021-10-24T08:30:08.992043",
     "status": "completed"
    },
    "tags": []
   },
   "outputs": [
    {
     "data": {
      "text/html": [
       "<div>\n",
       "<style scoped>\n",
       "    .dataframe tbody tr th:only-of-type {\n",
       "        vertical-align: middle;\n",
       "    }\n",
       "\n",
       "    .dataframe tbody tr th {\n",
       "        vertical-align: top;\n",
       "    }\n",
       "\n",
       "    .dataframe thead th {\n",
       "        text-align: right;\n",
       "    }\n",
       "</style>\n",
       "<table border=\"1\" class=\"dataframe\">\n",
       "  <thead>\n",
       "    <tr style=\"text-align: right;\">\n",
       "      <th></th>\n",
       "      <th>RECORD_TIME</th>\n",
       "    </tr>\n",
       "  </thead>\n",
       "  <tbody>\n",
       "    <tr>\n",
       "      <th>0</th>\n",
       "      <td>2021-10-24 10:30</td>\n",
       "    </tr>\n",
       "    <tr>\n",
       "      <th>1</th>\n",
       "      <td>2021-10-24 10:00</td>\n",
       "    </tr>\n",
       "  </tbody>\n",
       "</table>\n",
       "</div>"
      ],
      "text/plain": [
       "        RECORD_TIME\n",
       "0  2021-10-24 10:30\n",
       "1  2021-10-24 10:00"
      ]
     },
     "execution_count": 3,
     "metadata": {},
     "output_type": "execute_result"
    }
   ],
   "source": [
    "timestamps"
   ]
  },
  {
   "cell_type": "code",
   "execution_count": 4,
   "id": "alternate-victory",
   "metadata": {
    "execution": {
     "iopub.execute_input": "2021-10-24T08:30:09.114050Z",
     "iopub.status.busy": "2021-10-24T08:30:09.111726Z",
     "iopub.status.idle": "2021-10-24T08:30:10.022933Z",
     "shell.execute_reply": "2021-10-24T08:30:10.024212Z"
    },
    "papermill": {
     "duration": 0.941434,
     "end_time": "2021-10-24T08:30:10.024630",
     "exception": false,
     "start_time": "2021-10-24T08:30:09.083196",
     "status": "completed"
    },
    "tags": []
   },
   "outputs": [],
   "source": [
    "df = pd.read_sql(\"select * from EBAY_TOP_BERLIN where record_time in (select distinct record_time from EBAY_TOP_BERLIN order by record_time desc limit 2)\", sqlite3.connect(\"UsedObjects.db\"))"
   ]
  },
  {
   "cell_type": "code",
   "execution_count": 5,
   "id": "popular-active",
   "metadata": {
    "execution": {
     "iopub.execute_input": "2021-10-24T08:30:10.093960Z",
     "iopub.status.busy": "2021-10-24T08:30:10.082772Z",
     "iopub.status.idle": "2021-10-24T08:30:10.110815Z",
     "shell.execute_reply": "2021-10-24T08:30:10.112241Z"
    },
    "papermill": {
     "duration": 0.068101,
     "end_time": "2021-10-24T08:30:10.112883",
     "exception": false,
     "start_time": "2021-10-24T08:30:10.044782",
     "status": "completed"
    },
    "tags": []
   },
   "outputs": [],
   "source": [
    "df_pivot = df.pivot_table(index=\"PRODUCT\", columns = \"RECORD_TIME\", values = \"LISTING_COUNT\")"
   ]
  },
  {
   "cell_type": "code",
   "execution_count": 6,
   "id": "union-huntington",
   "metadata": {
    "execution": {
     "iopub.execute_input": "2021-10-24T08:30:10.171861Z",
     "iopub.status.busy": "2021-10-24T08:30:10.169448Z",
     "iopub.status.idle": "2021-10-24T08:30:10.175179Z",
     "shell.execute_reply": "2021-10-24T08:30:10.176449Z"
    },
    "papermill": {
     "duration": 0.041853,
     "end_time": "2021-10-24T08:30:10.176917",
     "exception": false,
     "start_time": "2021-10-24T08:30:10.135064",
     "status": "completed"
    },
    "tags": []
   },
   "outputs": [],
   "source": [
    "df_pivot.columns = [\"stamp_1\", \"stamp_2\"]\n",
    "df_pivot_diff = df_pivot.diff(axis=1)"
   ]
  },
  {
   "cell_type": "code",
   "execution_count": 7,
   "id": "fifth-motion",
   "metadata": {
    "execution": {
     "iopub.execute_input": "2021-10-24T08:30:10.229938Z",
     "iopub.status.busy": "2021-10-24T08:30:10.228029Z",
     "iopub.status.idle": "2021-10-24T08:30:11.704190Z",
     "shell.execute_reply": "2021-10-24T08:30:11.705446Z"
    },
    "papermill": {
     "duration": 1.508556,
     "end_time": "2021-10-24T08:30:11.705876",
     "exception": false,
     "start_time": "2021-10-24T08:30:10.197320",
     "status": "completed"
    },
    "tags": []
   },
   "outputs": [
    {
     "data": {
      "text/plain": [
       "<AxesSubplot:ylabel='PRODUCT'>"
      ]
     },
     "execution_count": 7,
     "metadata": {},
     "output_type": "execute_result"
    },
    {
     "data": {
      "image/png": "[encoded data removed]",
      "text/plain": [
       "<Figure size 432x288 with 1 Axes>"
      ]
     },
     "metadata": {
      "needs_background": "light"
     },
     "output_type": "display_data"
    }
   ],
   "source": [
    "df_pivot_diff.sort_values(\"stamp_2\", ascending = False)[\"stamp_2\"].head(10).plot.barh()"
   ]
  },
  {
   "cell_type": "code",
   "execution_count": null,
   "id": "extra-executive",
   "metadata": {
    "papermill": {
     "duration": 0.021809,
     "end_time": "2021-10-24T08:30:11.753652",
     "exception": false,
     "start_time": "2021-10-24T08:30:11.731843",
     "status": "completed"
    },
    "tags": []
   },
   "outputs": [],
   "source": []
  }
 ],
 "metadata": {
  "kernelspec": {
   "display_name": "Python 3",
   "language": "python",
   "name": "python3"
  },
  "language_info": {
   "codemirror_mode": {
    "name": "ipython",
    "version": 3
   },
   "file_extension": ".py",
   "mimetype": "text/x-python",
   "name": "python",
   "nbconvert_exporter": "python",
   "pygments_lexer": "ipython3",
   "version": "3.9.5"
  },
  "papermill": {
   "default_parameters": {},
   "duration": 7.364451,
   "end_time": "2021-10-24T08:30:12.397624",
   "environment_variables": {},
   "exception": null,
   "input_path": "eBay_Overview.ipynb",
   "output_path": "eBay_Overview.ipynb",
   "parameters": {},
   "start_time": "2021-10-24T08:30:05.033173",
   "version": "2.3.3"
  }
 },
 "nbformat": 4,
 "nbformat_minor": 5
}