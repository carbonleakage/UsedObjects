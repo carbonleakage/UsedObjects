{
 "cells": [
  {
   "cell_type": "code",
   "execution_count": 1,
   "id": "reverse-picking",
   "metadata": {
    "execution": {
     "iopub.execute_input": "2021-10-30T18:00:06.706544Z",
     "iopub.status.busy": "2021-10-30T18:00:06.704415Z",
     "iopub.status.idle": "2021-10-30T18:00:07.509491Z",
     "shell.execute_reply": "2021-10-30T18:00:07.510819Z"
    },
    "papermill": {
     "duration": 0.855916,
     "end_time": "2021-10-30T18:00:07.511442",
     "exception": false,
     "start_time": "2021-10-30T18:00:06.655526",
     "status": "completed"
    },
    "tags": []
   },
   "outputs": [],
   "source": [
    "import pandas as pd\n",
    "import sqlite3"
   ]
  },
  {
   "cell_type": "code",
   "execution_count": 2,
   "id": "innovative-syndrome",
   "metadata": {
    "execution": {
     "iopub.execute_input": "2021-10-30T18:00:07.561474Z",
     "iopub.status.busy": "2021-10-30T18:00:07.559322Z",
     "iopub.status.idle": "2021-10-30T18:00:08.240499Z",
     "shell.execute_reply": "2021-10-30T18:00:08.241693Z"
    },
    "papermill": {
     "duration": 0.710364,
     "end_time": "2021-10-30T18:00:08.242117",
     "exception": false,
     "start_time": "2021-10-30T18:00:07.531753",
     "status": "completed"
    },
    "tags": []
   },
   "outputs": [],
   "source": [
    "timestamps = pd.read_sql(\"select distinct record_time from EBAY_TOP_BERLIN order by record_time desc limit 2\", sqlite3.connect(\"UsedObjects.db\"))"
   ]
  },
  {
   "cell_type": "code",
   "execution_count": 3,
   "id": "periodic-identification",
   "metadata": {
    "execution": {
     "iopub.execute_input": "2021-10-30T18:00:08.317298Z",
     "iopub.status.busy": "2021-10-30T18:00:08.315108Z",
     "iopub.status.idle": "2021-10-30T18:00:08.335174Z",
     "shell.execute_reply": "2021-10-30T18:00:08.336401Z"
    },
    "papermill": {
     "duration": 0.067857,
     "end_time": "2021-10-30T18:00:08.336968",
     "exception": false,
     "start_time": "2021-10-30T18:00:08.269111",
     "status": "completed"
    },
    "tags": []
   },
   "outputs": [
    {
     "data": {
      "text/html": [
       "<div>\n",
       "<style scoped>\n",
       "    .dataframe tbody tr th:only-of-type {\n",
       "        vertical-align: middle;\n",
       "    }\n",
       "\n",
       "    .dataframe tbody tr th {\n",
       "        vertical-align: top;\n",
       "    }\n",
       "\n",
       "    .dataframe thead th {\n",
       "        text-align: right;\n",
       "    }\n",
       "</style>\n",
       "<table border=\"1\" class=\"dataframe\">\n",
       "  <thead>\n",
       "    <tr style=\"text-align: right;\">\n",
       "      <th></th>\n",
       "      <th>RECORD_TIME</th>\n",
       "    </tr>\n",
       "  </thead>\n",
       "  <tbody>\n",
       "    <tr>\n",
       "      <th>0</th>\n",
       "      <td>2021-10-30 20:00</td>\n",
       "    </tr>\n",
       "    <tr>\n",
       "      <th>1</th>\n",
       "      <td>2021-10-30 19:30</td>\n",
       "    </tr>\n",
       "  </tbody>\n",
       "</table>\n",
       "</div>"
      ],
      "text/plain": [
       "        RECORD_TIME\n",
       "0  2021-10-30 20:00\n",
       "1  2021-10-30 19:30"
      ]
     },
     "execution_count": 3,
     "metadata": {},
     "output_type": "execute_result"
    }
   ],
   "source": [
    "timestamps"
   ]
  },
  {
   "cell_type": "code",
   "execution_count": 4,
   "id": "alternate-victory",
   "metadata": {
    "execution": {
     "iopub.execute_input": "2021-10-30T18:00:08.389933Z",
     "iopub.status.busy": "2021-10-30T18:00:08.387523Z",
     "iopub.status.idle": "2021-10-30T18:00:09.372968Z",
     "shell.execute_reply": "2021-10-30T18:00:09.374216Z"
    },
    "papermill": {
     "duration": 1.015962,
     "end_time": "2021-10-30T18:00:09.374617",
     "exception": false,
     "start_time": "2021-10-30T18:00:08.358655",
     "status": "completed"
    },
    "tags": []
   },
   "outputs": [],
   "source": [
    "df = pd.read_sql(\"select * from EBAY_TOP_BERLIN where record_time in (select distinct record_time from EBAY_TOP_BERLIN order by record_time desc limit 2)\", sqlite3.connect(\"UsedObjects.db\"))"
   ]
  },
  {
   "cell_type": "code",
   "execution_count": 5,
   "id": "popular-active",
   "metadata": {
    "execution": {
     "iopub.execute_input": "2021-10-30T18:00:09.442474Z",
     "iopub.status.busy": "2021-10-30T18:00:09.431597Z",
     "iopub.status.idle": "2021-10-30T18:00:09.458843Z",
     "shell.execute_reply": "2021-10-30T18:00:09.460065Z"
    },
    "papermill": {
     "duration": 0.065312,
     "end_time": "2021-10-30T18:00:09.460461",
     "exception": false,
     "start_time": "2021-10-30T18:00:09.395149",
     "status": "completed"
    },
    "tags": []
   },
   "outputs": [],
   "source": [
    "df_pivot = df.pivot_table(index=\"PRODUCT\", columns = \"RECORD_TIME\", values = \"LISTING_COUNT\")"
   ]
  },
  {
   "cell_type": "code",
   "execution_count": 6,
   "id": "union-huntington",
   "metadata": {
    "execution": {
     "iopub.execute_input": "2021-10-30T18:00:09.520011Z",
     "iopub.status.busy": "2021-10-30T18:00:09.517551Z",
     "iopub.status.idle": "2021-10-30T18:00:09.523374Z",
     "shell.execute_reply": "2021-10-30T18:00:09.524664Z"
    },
    "papermill": {
     "duration": 0.042321,
     "end_time": "2021-10-30T18:00:09.525140",
     "exception": false,
     "start_time": "2021-10-30T18:00:09.482819",
     "status": "completed"
    },
    "tags": []
   },
   "outputs": [],
   "source": [
    "df_pivot.columns = [\"stamp_1\", \"stamp_2\"]\n",
    "df_pivot_diff = df_pivot.diff(axis=1)"
   ]
  },
  {
   "cell_type": "code",
   "execution_count": 7,
   "id": "fifth-motion",
   "metadata": {
    "execution": {
     "iopub.execute_input": "2021-10-30T18:00:09.579561Z",
     "iopub.status.busy": "2021-10-30T18:00:09.577286Z",
     "iopub.status.idle": "2021-10-30T18:00:11.081621Z",
     "shell.execute_reply": "2021-10-30T18:00:11.083004Z"
    },
    "papermill": {
     "duration": 1.537708,
     "end_time": "2021-10-30T18:00:11.083449",
     "exception": false,
     "start_time": "2021-10-30T18:00:09.545741",
     "status": "completed"
    },
    "tags": []
   },
   "outputs": [
    {
     "data": {
      "text/plain": [
       "<AxesSubplot:ylabel='PRODUCT'>"
      ]
     },
     "execution_count": 7,
     "metadata": {},
     "output_type": "execute_result"
    },
    {
     "data": {
      "image/png": "[encoded data removed]",
      "text/plain": [
       "<Figure size 432x288 with 1 Axes>"
      ]
     },
     "metadata": {
      "needs_background": "light"
     },
     "output_type": "display_data"
    }
   ],
   "source": [
    "df_pivot_diff.sort_values(\"stamp_2\", ascending = False)[\"stamp_2\"].head(10).plot.barh()"
   ]
  },
  {
   "cell_type": "code",
   "execution_count": null,
   "id": "extra-executive",
   "metadata": {
    "papermill": {
     "duration": 0.021999,
     "end_time": "2021-10-30T18:00:11.129843",
     "exception": false,
     "start_time": "2021-10-30T18:00:11.107844",
     "status": "completed"
    },
    "tags": []
   },
   "outputs": [],
   "source": []
  }
 ],
 "metadata": {
  "kernelspec": {
   "display_name": "Python 3",
   "language": "python",
   "name": "python3"
  },
  "language_info": {
   "codemirror_mode": {
    "name": "ipython",
    "version": 3
   },
   "file_extension": ".py",
   "mimetype": "text/x-python",
   "name": "python",
   "nbconvert_exporter": "python",
   "pygments_lexer": "ipython3",
   "version": "3.9.5"
  },
  "papermill": {
   "default_parameters": {},
   "duration": 7.522097,
   "end_time": "2021-10-30T18:00:11.772829",
   "environment_variables": {},
   "exception": null,
   "input_path": "eBay_Overview.ipynb",
   "output_path": "eBay_Overview.ipynb",
   "parameters": {},
   "start_time": "2021-10-30T18:00:04.250732",
   "version": "2.3.3"
  }
 },
 "nbformat": 4,
 "nbformat_minor": 5
}