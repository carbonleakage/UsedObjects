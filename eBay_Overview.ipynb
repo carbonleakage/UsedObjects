{
 "cells": [
  {
   "cell_type": "code",
   "execution_count": 1,
   "id": "reverse-picking",
   "metadata": {
    "execution": {
     "iopub.execute_input": "2021-09-26T04:00:07.286147Z",
     "iopub.status.busy": "2021-09-26T04:00:07.284186Z",
     "iopub.status.idle": "2021-09-26T04:00:08.092478Z",
     "shell.execute_reply": "2021-09-26T04:00:08.093722Z"
    },
    "papermill": {
     "duration": 0.860375,
     "end_time": "2021-09-26T04:00:08.094336",
     "exception": false,
     "start_time": "2021-09-26T04:00:07.233961",
     "status": "completed"
    },
    "tags": []
   },
   "outputs": [],
   "source": [
    "import pandas as pd\n",
    "import sqlite3"
   ]
  },
  {
   "cell_type": "code",
   "execution_count": 2,
   "id": "innovative-syndrome",
   "metadata": {
    "execution": {
     "iopub.execute_input": "2021-09-26T04:00:08.144238Z",
     "iopub.status.busy": "2021-09-26T04:00:08.142114Z",
     "iopub.status.idle": "2021-09-26T04:00:08.517361Z",
     "shell.execute_reply": "2021-09-26T04:00:08.518647Z"
    },
    "papermill": {
     "duration": 0.404873,
     "end_time": "2021-09-26T04:00:08.519137",
     "exception": false,
     "start_time": "2021-09-26T04:00:08.114264",
     "status": "completed"
    },
    "tags": []
   },
   "outputs": [],
   "source": [
    "timestamps = pd.read_sql(\"select distinct record_time from EBAY_TOP_BERLIN order by record_time desc limit 2\", sqlite3.connect(\"UsedObjects.db\"))"
   ]
  },
  {
   "cell_type": "code",
   "execution_count": 3,
   "id": "periodic-identification",
   "metadata": {
    "execution": {
     "iopub.execute_input": "2021-09-26T04:00:08.587812Z",
     "iopub.status.busy": "2021-09-26T04:00:08.582699Z",
     "iopub.status.idle": "2021-09-26T04:00:08.602736Z",
     "shell.execute_reply": "2021-09-26T04:00:08.604119Z"
    },
    "papermill": {
     "duration": 0.066552,
     "end_time": "2021-09-26T04:00:08.604530",
     "exception": false,
     "start_time": "2021-09-26T04:00:08.537978",
     "status": "completed"
    },
    "tags": []
   },
   "outputs": [
    {
     "data": {
      "text/html": [
       "<div>\n",
       "<style scoped>\n",
       "    .dataframe tbody tr th:only-of-type {\n",
       "        vertical-align: middle;\n",
       "    }\n",
       "\n",
       "    .dataframe tbody tr th {\n",
       "        vertical-align: top;\n",
       "    }\n",
       "\n",
       "    .dataframe thead th {\n",
       "        text-align: right;\n",
       "    }\n",
       "</style>\n",
       "<table border=\"1\" class=\"dataframe\">\n",
       "  <thead>\n",
       "    <tr style=\"text-align: right;\">\n",
       "      <th></th>\n",
       "      <th>RECORD_TIME</th>\n",
       "    </tr>\n",
       "  </thead>\n",
       "  <tbody>\n",
       "    <tr>\n",
       "      <th>0</th>\n",
       "      <td>2021-09-26 06:00</td>\n",
       "    </tr>\n",
       "    <tr>\n",
       "      <th>1</th>\n",
       "      <td>2021-09-26 05:30</td>\n",
       "    </tr>\n",
       "  </tbody>\n",
       "</table>\n",
       "</div>"
      ],
      "text/plain": [
       "        RECORD_TIME\n",
       "0  2021-09-26 06:00\n",
       "1  2021-09-26 05:30"
      ]
     },
     "execution_count": 3,
     "metadata": {},
     "output_type": "execute_result"
    }
   ],
   "source": [
    "timestamps"
   ]
  },
  {
   "cell_type": "code",
   "execution_count": 4,
   "id": "alternate-victory",
   "metadata": {
    "execution": {
     "iopub.execute_input": "2021-09-26T04:00:08.655615Z",
     "iopub.status.busy": "2021-09-26T04:00:08.653033Z",
     "iopub.status.idle": "2021-09-26T04:00:09.220308Z",
     "shell.execute_reply": "2021-09-26T04:00:09.221702Z"
    },
    "papermill": {
     "duration": 0.59741,
     "end_time": "2021-09-26T04:00:09.222137",
     "exception": false,
     "start_time": "2021-09-26T04:00:08.624727",
     "status": "completed"
    },
    "tags": []
   },
   "outputs": [],
   "source": [
    "df = pd.read_sql(\"select * from EBAY_TOP_BERLIN where record_time in (select distinct record_time from EBAY_TOP_BERLIN order by record_time desc limit 2)\", sqlite3.connect(\"UsedObjects.db\"))"
   ]
  },
  {
   "cell_type": "code",
   "execution_count": 5,
   "id": "popular-active",
   "metadata": {
    "execution": {
     "iopub.execute_input": "2021-09-26T04:00:09.306391Z",
     "iopub.status.busy": "2021-09-26T04:00:09.293961Z",
     "iopub.status.idle": "2021-09-26T04:00:09.321909Z",
     "shell.execute_reply": "2021-09-26T04:00:09.323204Z"
    },
    "papermill": {
     "duration": 0.072587,
     "end_time": "2021-09-26T04:00:09.323601",
     "exception": false,
     "start_time": "2021-09-26T04:00:09.251014",
     "status": "completed"
    },
    "tags": []
   },
   "outputs": [],
   "source": [
    "df_pivot = df.pivot_table(index=\"PRODUCT\", columns = \"RECORD_TIME\", values = \"LISTING_COUNT\")"
   ]
  },
  {
   "cell_type": "code",
   "execution_count": 6,
   "id": "union-huntington",
   "metadata": {
    "execution": {
     "iopub.execute_input": "2021-09-26T04:00:09.380135Z",
     "iopub.status.busy": "2021-09-26T04:00:09.377907Z",
     "iopub.status.idle": "2021-09-26T04:00:09.383666Z",
     "shell.execute_reply": "2021-09-26T04:00:09.385129Z"
    },
    "papermill": {
     "duration": 0.041311,
     "end_time": "2021-09-26T04:00:09.385551",
     "exception": false,
     "start_time": "2021-09-26T04:00:09.344240",
     "status": "completed"
    },
    "tags": []
   },
   "outputs": [],
   "source": [
    "df_pivot.columns = [\"stamp_1\", \"stamp_2\"]\n",
    "df_pivot_diff = df_pivot.diff(axis=1)"
   ]
  },
  {
   "cell_type": "code",
   "execution_count": 7,
   "id": "fifth-motion",
   "metadata": {
    "execution": {
     "iopub.execute_input": "2021-09-26T04:00:09.440031Z",
     "iopub.status.busy": "2021-09-26T04:00:09.437320Z",
     "iopub.status.idle": "2021-09-26T04:00:10.929484Z",
     "shell.execute_reply": "2021-09-26T04:00:10.930931Z"
    },
    "papermill": {
     "duration": 1.525866,
     "end_time": "2021-09-26T04:00:10.931406",
     "exception": false,
     "start_time": "2021-09-26T04:00:09.405540",
     "status": "completed"
    },
    "tags": []
   },
   "outputs": [
    {
     "data": {
      "text/plain": [
       "<AxesSubplot:ylabel='PRODUCT'>"
      ]
     },
     "execution_count": 7,
     "metadata": {},
     "output_type": "execute_result"
    },
    {
     "data": {
      "image/png": "[encoded data removed]",
      "text/plain": [
       "<Figure size 432x288 with 1 Axes>"
      ]
     },
     "metadata": {
      "needs_background": "light"
     },
     "output_type": "display_data"
    }
   ],
   "source": [
    "df_pivot_diff.sort_values(\"stamp_2\", ascending = False)[\"stamp_2\"].head(10).plot.barh()"
   ]
  },
  {
   "cell_type": "code",
   "execution_count": null,
   "id": "extra-executive",
   "metadata": {
    "papermill": {
     "duration": 0.022132,
     "end_time": "2021-09-26T04:00:10.978388",
     "exception": false,
     "start_time": "2021-09-26T04:00:10.956256",
     "status": "completed"
    },
    "tags": []
   },
   "outputs": [],
   "source": []
  }
 ],
 "metadata": {
  "kernelspec": {
   "display_name": "Python 3",
   "language": "python",
   "name": "python3"
  },
  "language_info": {
   "codemirror_mode": {
    "name": "ipython",
    "version": 3
   },
   "file_extension": ".py",
   "mimetype": "text/x-python",
   "name": "python",
   "nbconvert_exporter": "python",
   "pygments_lexer": "ipython3",
   "version": "3.9.5"
  },
  "papermill": {
   "default_parameters": {},
   "duration": 6.784537,
   "end_time": "2021-09-26T04:00:11.621874",
   "environment_variables": {},
   "exception": null,
   "input_path": "eBay_Overview.ipynb",
   "output_path": "eBay_Overview.ipynb",
   "parameters": {},
   "start_time": "2021-09-26T04:00:04.837337",
   "version": "2.3.3"
  }
 },
 "nbformat": 4,
 "nbformat_minor": 5
}