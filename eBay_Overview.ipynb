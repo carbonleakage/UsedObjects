{
 "cells": [
  {
   "cell_type": "code",
   "execution_count": 1,
   "id": "reverse-picking",
   "metadata": {
    "execution": {
     "iopub.execute_input": "2021-09-25T13:00:07.420319Z",
     "iopub.status.busy": "2021-09-25T13:00:07.418266Z",
     "iopub.status.idle": "2021-09-25T13:00:08.227475Z",
     "shell.execute_reply": "2021-09-25T13:00:08.225835Z"
    },
    "papermill": {
     "duration": 0.859569,
     "end_time": "2021-09-25T13:00:08.227892",
     "exception": false,
     "start_time": "2021-09-25T13:00:07.368323",
     "status": "completed"
    },
    "tags": []
   },
   "outputs": [],
   "source": [
    "import pandas as pd\n",
    "import sqlite3"
   ]
  },
  {
   "cell_type": "code",
   "execution_count": 2,
   "id": "innovative-syndrome",
   "metadata": {
    "execution": {
     "iopub.execute_input": "2021-09-25T13:00:08.278056Z",
     "iopub.status.busy": "2021-09-25T13:00:08.276207Z",
     "iopub.status.idle": "2021-09-25T13:00:08.654085Z",
     "shell.execute_reply": "2021-09-25T13:00:08.655496Z"
    },
    "papermill": {
     "duration": 0.407471,
     "end_time": "2021-09-25T13:00:08.655949",
     "exception": false,
     "start_time": "2021-09-25T13:00:08.248478",
     "status": "completed"
    },
    "tags": []
   },
   "outputs": [],
   "source": [
    "timestamps = pd.read_sql(\"select distinct record_time from EBAY_TOP_BERLIN order by record_time desc limit 2\", sqlite3.connect(\"UsedObjects.db\"))"
   ]
  },
  {
   "cell_type": "code",
   "execution_count": 3,
   "id": "periodic-identification",
   "metadata": {
    "execution": {
     "iopub.execute_input": "2021-09-25T13:00:08.722063Z",
     "iopub.status.busy": "2021-09-25T13:00:08.720079Z",
     "iopub.status.idle": "2021-09-25T13:00:08.739844Z",
     "shell.execute_reply": "2021-09-25T13:00:08.741028Z"
    },
    "papermill": {
     "duration": 0.066256,
     "end_time": "2021-09-25T13:00:08.741456",
     "exception": false,
     "start_time": "2021-09-25T13:00:08.675200",
     "status": "completed"
    },
    "tags": []
   },
   "outputs": [
    {
     "data": {
      "text/html": [
       "<div>\n",
       "<style scoped>\n",
       "    .dataframe tbody tr th:only-of-type {\n",
       "        vertical-align: middle;\n",
       "    }\n",
       "\n",
       "    .dataframe tbody tr th {\n",
       "        vertical-align: top;\n",
       "    }\n",
       "\n",
       "    .dataframe thead th {\n",
       "        text-align: right;\n",
       "    }\n",
       "</style>\n",
       "<table border=\"1\" class=\"dataframe\">\n",
       "  <thead>\n",
       "    <tr style=\"text-align: right;\">\n",
       "      <th></th>\n",
       "      <th>RECORD_TIME</th>\n",
       "    </tr>\n",
       "  </thead>\n",
       "  <tbody>\n",
       "    <tr>\n",
       "      <th>0</th>\n",
       "      <td>2021-09-25 15:00</td>\n",
       "    </tr>\n",
       "    <tr>\n",
       "      <th>1</th>\n",
       "      <td>2021-09-25 14:30</td>\n",
       "    </tr>\n",
       "  </tbody>\n",
       "</table>\n",
       "</div>"
      ],
      "text/plain": [
       "        RECORD_TIME\n",
       "0  2021-09-25 15:00\n",
       "1  2021-09-25 14:30"
      ]
     },
     "execution_count": 3,
     "metadata": {},
     "output_type": "execute_result"
    }
   ],
   "source": [
    "timestamps"
   ]
  },
  {
   "cell_type": "code",
   "execution_count": 4,
   "id": "alternate-victory",
   "metadata": {
    "execution": {
     "iopub.execute_input": "2021-09-25T13:00:08.794981Z",
     "iopub.status.busy": "2021-09-25T13:00:08.792653Z",
     "iopub.status.idle": "2021-09-25T13:00:09.343545Z",
     "shell.execute_reply": "2021-09-25T13:00:09.344932Z"
    },
    "papermill": {
     "duration": 0.581458,
     "end_time": "2021-09-25T13:00:09.345374",
     "exception": false,
     "start_time": "2021-09-25T13:00:08.763916",
     "status": "completed"
    },
    "tags": []
   },
   "outputs": [],
   "source": [
    "df = pd.read_sql(\"select * from EBAY_TOP_BERLIN where record_time in (select distinct record_time from EBAY_TOP_BERLIN order by record_time desc limit 2)\", sqlite3.connect(\"UsedObjects.db\"))"
   ]
  },
  {
   "cell_type": "code",
   "execution_count": 5,
   "id": "popular-active",
   "metadata": {
    "execution": {
     "iopub.execute_input": "2021-09-25T13:00:09.424985Z",
     "iopub.status.busy": "2021-09-25T13:00:09.412414Z",
     "iopub.status.idle": "2021-09-25T13:00:09.440776Z",
     "shell.execute_reply": "2021-09-25T13:00:09.442013Z"
    },
    "papermill": {
     "duration": 0.071169,
     "end_time": "2021-09-25T13:00:09.442407",
     "exception": false,
     "start_time": "2021-09-25T13:00:09.371238",
     "status": "completed"
    },
    "tags": []
   },
   "outputs": [],
   "source": [
    "df_pivot = df.pivot_table(index=\"PRODUCT\", columns = \"RECORD_TIME\", values = \"LISTING_COUNT\")"
   ]
  },
  {
   "cell_type": "code",
   "execution_count": 6,
   "id": "union-huntington",
   "metadata": {
    "execution": {
     "iopub.execute_input": "2021-09-25T13:00:09.497721Z",
     "iopub.status.busy": "2021-09-25T13:00:09.495671Z",
     "iopub.status.idle": "2021-09-25T13:00:09.500681Z",
     "shell.execute_reply": "2021-09-25T13:00:09.501946Z"
    },
    "papermill": {
     "duration": 0.039419,
     "end_time": "2021-09-25T13:00:09.502358",
     "exception": false,
     "start_time": "2021-09-25T13:00:09.462939",
     "status": "completed"
    },
    "tags": []
   },
   "outputs": [],
   "source": [
    "df_pivot.columns = [\"stamp_1\", \"stamp_2\"]\n",
    "df_pivot_diff = df_pivot.diff(axis=1)"
   ]
  },
  {
   "cell_type": "code",
   "execution_count": 7,
   "id": "fifth-motion",
   "metadata": {
    "execution": {
     "iopub.execute_input": "2021-09-25T13:00:09.557492Z",
     "iopub.status.busy": "2021-09-25T13:00:09.554878Z",
     "iopub.status.idle": "2021-09-25T13:00:11.056215Z",
     "shell.execute_reply": "2021-09-25T13:00:11.057486Z"
    },
    "papermill": {
     "duration": 1.534541,
     "end_time": "2021-09-25T13:00:11.057896",
     "exception": false,
     "start_time": "2021-09-25T13:00:09.523355",
     "status": "completed"
    },
    "tags": []
   },
   "outputs": [
    {
     "data": {
      "text/plain": [
       "<AxesSubplot:ylabel='PRODUCT'>"
      ]
     },
     "execution_count": 7,
     "metadata": {},
     "output_type": "execute_result"
    },
    {
     "data": {
      "image/png": "[encoded data removed]",
      "text/plain": [
       "<Figure size 432x288 with 1 Axes>"
      ]
     },
     "metadata": {
      "needs_background": "light"
     },
     "output_type": "display_data"
    }
   ],
   "source": [
    "df_pivot_diff.sort_values(\"stamp_2\", ascending = False)[\"stamp_2\"].head(10).plot.barh()"
   ]
  },
  {
   "cell_type": "code",
   "execution_count": null,
   "id": "extra-executive",
   "metadata": {
    "papermill": {
     "duration": 0.021707,
     "end_time": "2021-09-25T13:00:11.103565",
     "exception": false,
     "start_time": "2021-09-25T13:00:11.081858",
     "status": "completed"
    },
    "tags": []
   },
   "outputs": [],
   "source": []
  }
 ],
 "metadata": {
  "kernelspec": {
   "display_name": "Python 3",
   "language": "python",
   "name": "python3"
  },
  "language_info": {
   "codemirror_mode": {
    "name": "ipython",
    "version": 3
   },
   "file_extension": ".py",
   "mimetype": "text/x-python",
   "name": "python",
   "nbconvert_exporter": "python",
   "pygments_lexer": "ipython3",
   "version": "3.9.5"
  },
  "papermill": {
   "default_parameters": {},
   "duration": 6.782713,
   "end_time": "2021-09-25T13:00:11.746576",
   "environment_variables": {},
   "exception": null,
   "input_path": "eBay_Overview.ipynb",
   "output_path": "eBay_Overview.ipynb",
   "parameters": {},
   "start_time": "2021-09-25T13:00:04.963863",
   "version": "2.3.3"
  }
 },
 "nbformat": 4,
 "nbformat_minor": 5
}