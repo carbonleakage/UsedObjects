{
 "cells": [
  {
   "cell_type": "code",
   "execution_count": 1,
   "id": "reverse-picking",
   "metadata": {
    "execution": {
     "iopub.execute_input": "2021-10-26T08:30:07.341765Z",
     "iopub.status.busy": "2021-10-26T08:30:07.339732Z",
     "iopub.status.idle": "2021-10-26T08:30:08.148363Z",
     "shell.execute_reply": "2021-10-26T08:30:08.146801Z"
    },
    "papermill": {
     "duration": 0.858727,
     "end_time": "2021-10-26T08:30:08.148804",
     "exception": false,
     "start_time": "2021-10-26T08:30:07.290077",
     "status": "completed"
    },
    "tags": []
   },
   "outputs": [],
   "source": [
    "import pandas as pd\n",
    "import sqlite3"
   ]
  },
  {
   "cell_type": "code",
   "execution_count": 2,
   "id": "innovative-syndrome",
   "metadata": {
    "execution": {
     "iopub.execute_input": "2021-10-26T08:30:08.200374Z",
     "iopub.status.busy": "2021-10-26T08:30:08.198512Z",
     "iopub.status.idle": "2021-10-26T08:30:08.849401Z",
     "shell.execute_reply": "2021-10-26T08:30:08.850802Z"
    },
    "papermill": {
     "duration": 0.680647,
     "end_time": "2021-10-26T08:30:08.851243",
     "exception": false,
     "start_time": "2021-10-26T08:30:08.170596",
     "status": "completed"
    },
    "tags": []
   },
   "outputs": [],
   "source": [
    "timestamps = pd.read_sql(\"select distinct record_time from EBAY_TOP_BERLIN order by record_time desc limit 2\", sqlite3.connect(\"UsedObjects.db\"))"
   ]
  },
  {
   "cell_type": "code",
   "execution_count": 3,
   "id": "periodic-identification",
   "metadata": {
    "execution": {
     "iopub.execute_input": "2021-10-26T08:30:08.925845Z",
     "iopub.status.busy": "2021-10-26T08:30:08.923739Z",
     "iopub.status.idle": "2021-10-26T08:30:08.943955Z",
     "shell.execute_reply": "2021-10-26T08:30:08.945501Z"
    },
    "papermill": {
     "duration": 0.069045,
     "end_time": "2021-10-26T08:30:08.945981",
     "exception": false,
     "start_time": "2021-10-26T08:30:08.876936",
     "status": "completed"
    },
    "tags": []
   },
   "outputs": [
    {
     "data": {
      "text/html": [
       "<div>\n",
       "<style scoped>\n",
       "    .dataframe tbody tr th:only-of-type {\n",
       "        vertical-align: middle;\n",
       "    }\n",
       "\n",
       "    .dataframe tbody tr th {\n",
       "        vertical-align: top;\n",
       "    }\n",
       "\n",
       "    .dataframe thead th {\n",
       "        text-align: right;\n",
       "    }\n",
       "</style>\n",
       "<table border=\"1\" class=\"dataframe\">\n",
       "  <thead>\n",
       "    <tr style=\"text-align: right;\">\n",
       "      <th></th>\n",
       "      <th>RECORD_TIME</th>\n",
       "    </tr>\n",
       "  </thead>\n",
       "  <tbody>\n",
       "    <tr>\n",
       "      <th>0</th>\n",
       "      <td>2021-10-26 10:30</td>\n",
       "    </tr>\n",
       "    <tr>\n",
       "      <th>1</th>\n",
       "      <td>2021-10-26 10:00</td>\n",
       "    </tr>\n",
       "  </tbody>\n",
       "</table>\n",
       "</div>"
      ],
      "text/plain": [
       "        RECORD_TIME\n",
       "0  2021-10-26 10:30\n",
       "1  2021-10-26 10:00"
      ]
     },
     "execution_count": 3,
     "metadata": {},
     "output_type": "execute_result"
    }
   ],
   "source": [
    "timestamps"
   ]
  },
  {
   "cell_type": "code",
   "execution_count": 4,
   "id": "alternate-victory",
   "metadata": {
    "execution": {
     "iopub.execute_input": "2021-10-26T08:30:08.998291Z",
     "iopub.status.busy": "2021-10-26T08:30:08.996308Z",
     "iopub.status.idle": "2021-10-26T08:30:09.940562Z",
     "shell.execute_reply": "2021-10-26T08:30:09.941860Z"
    },
    "papermill": {
     "duration": 0.974374,
     "end_time": "2021-10-26T08:30:09.942268",
     "exception": false,
     "start_time": "2021-10-26T08:30:08.967894",
     "status": "completed"
    },
    "tags": []
   },
   "outputs": [],
   "source": [
    "df = pd.read_sql(\"select * from EBAY_TOP_BERLIN where record_time in (select distinct record_time from EBAY_TOP_BERLIN order by record_time desc limit 2)\", sqlite3.connect(\"UsedObjects.db\"))"
   ]
  },
  {
   "cell_type": "code",
   "execution_count": 5,
   "id": "popular-active",
   "metadata": {
    "execution": {
     "iopub.execute_input": "2021-10-26T08:30:10.015251Z",
     "iopub.status.busy": "2021-10-26T08:30:10.003645Z",
     "iopub.status.idle": "2021-10-26T08:30:10.031106Z",
     "shell.execute_reply": "2021-10-26T08:30:10.032397Z"
    },
    "papermill": {
     "duration": 0.068521,
     "end_time": "2021-10-26T08:30:10.032868",
     "exception": false,
     "start_time": "2021-10-26T08:30:09.964347",
     "status": "completed"
    },
    "tags": []
   },
   "outputs": [],
   "source": [
    "df_pivot = df.pivot_table(index=\"PRODUCT\", columns = \"RECORD_TIME\", values = \"LISTING_COUNT\")"
   ]
  },
  {
   "cell_type": "code",
   "execution_count": 6,
   "id": "union-huntington",
   "metadata": {
    "execution": {
     "iopub.execute_input": "2021-10-26T08:30:10.089643Z",
     "iopub.status.busy": "2021-10-26T08:30:10.087424Z",
     "iopub.status.idle": "2021-10-26T08:30:10.092963Z",
     "shell.execute_reply": "2021-10-26T08:30:10.094482Z"
    },
    "papermill": {
     "duration": 0.040852,
     "end_time": "2021-10-26T08:30:10.094920",
     "exception": false,
     "start_time": "2021-10-26T08:30:10.054068",
     "status": "completed"
    },
    "tags": []
   },
   "outputs": [],
   "source": [
    "df_pivot.columns = [\"stamp_1\", \"stamp_2\"]\n",
    "df_pivot_diff = df_pivot.diff(axis=1)"
   ]
  },
  {
   "cell_type": "code",
   "execution_count": 7,
   "id": "fifth-motion",
   "metadata": {
    "execution": {
     "iopub.execute_input": "2021-10-26T08:30:10.149776Z",
     "iopub.status.busy": "2021-10-26T08:30:10.147053Z",
     "iopub.status.idle": "2021-10-26T08:30:11.646857Z",
     "shell.execute_reply": "2021-10-26T08:30:11.648141Z"
    },
    "papermill": {
     "duration": 1.533445,
     "end_time": "2021-10-26T08:30:11.648553",
     "exception": false,
     "start_time": "2021-10-26T08:30:10.115108",
     "status": "completed"
    },
    "tags": []
   },
   "outputs": [
    {
     "data": {
      "text/plain": [
       "<AxesSubplot:ylabel='PRODUCT'>"
      ]
     },
     "execution_count": 7,
     "metadata": {},
     "output_type": "execute_result"
    },
    {
     "data": {
      "image/png": "[encoded data removed]",
      "text/plain": [
       "<Figure size 432x288 with 1 Axes>"
      ]
     },
     "metadata": {
      "needs_background": "light"
     },
     "output_type": "display_data"
    }
   ],
   "source": [
    "df_pivot_diff.sort_values(\"stamp_2\", ascending = False)[\"stamp_2\"].head(10).plot.barh()"
   ]
  },
  {
   "cell_type": "code",
   "execution_count": null,
   "id": "extra-executive",
   "metadata": {
    "papermill": {
     "duration": 0.022317,
     "end_time": "2021-10-26T08:30:11.697305",
     "exception": false,
     "start_time": "2021-10-26T08:30:11.674988",
     "status": "completed"
    },
    "tags": []
   },
   "outputs": [],
   "source": []
  }
 ],
 "metadata": {
  "kernelspec": {
   "display_name": "Python 3",
   "language": "python",
   "name": "python3"
  },
  "language_info": {
   "codemirror_mode": {
    "name": "ipython",
    "version": 3
   },
   "file_extension": ".py",
   "mimetype": "text/x-python",
   "name": "python",
   "nbconvert_exporter": "python",
   "pygments_lexer": "ipython3",
   "version": "3.9.5"
  },
  "papermill": {
   "default_parameters": {},
   "duration": 7.458418,
   "end_time": "2021-10-26T08:30:12.341251",
   "environment_variables": {},
   "exception": null,
   "input_path": "eBay_Overview.ipynb",
   "output_path": "eBay_Overview.ipynb",
   "parameters": {},
   "start_time": "2021-10-26T08:30:04.882833",
   "version": "2.3.3"
  }
 },
 "nbformat": 4,
 "nbformat_minor": 5
}