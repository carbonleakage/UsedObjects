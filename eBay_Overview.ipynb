{
 "cells": [
  {
   "cell_type": "code",
   "execution_count": 1,
   "id": "reverse-picking",
   "metadata": {
    "execution": {
     "iopub.execute_input": "2021-09-22T03:00:06.943402Z",
     "iopub.status.busy": "2021-09-22T03:00:06.941347Z",
     "iopub.status.idle": "2021-09-22T03:00:07.747799Z",
     "shell.execute_reply": "2021-09-22T03:00:07.748972Z"
    },
    "papermill": {
     "duration": 0.85624,
     "end_time": "2021-09-22T03:00:07.749602",
     "exception": false,
     "start_time": "2021-09-22T03:00:06.893362",
     "status": "completed"
    },
    "tags": []
   },
   "outputs": [],
   "source": [
    "import pandas as pd\n",
    "import sqlite3"
   ]
  },
  {
   "cell_type": "code",
   "execution_count": 2,
   "id": "innovative-syndrome",
   "metadata": {
    "execution": {
     "iopub.execute_input": "2021-09-22T03:00:07.803646Z",
     "iopub.status.busy": "2021-09-22T03:00:07.801261Z",
     "iopub.status.idle": "2021-09-22T03:00:08.144825Z",
     "shell.execute_reply": "2021-09-22T03:00:08.145929Z"
    },
    "papermill": {
     "duration": 0.37349,
     "end_time": "2021-09-22T03:00:08.146335",
     "exception": false,
     "start_time": "2021-09-22T03:00:07.772845",
     "status": "completed"
    },
    "tags": []
   },
   "outputs": [],
   "source": [
    "timestamps = pd.read_sql(\"select distinct record_time from EBAY_TOP_BERLIN order by record_time desc limit 2\", sqlite3.connect(\"UsedObjects.db\"))"
   ]
  },
  {
   "cell_type": "code",
   "execution_count": 3,
   "id": "periodic-identification",
   "metadata": {
    "execution": {
     "iopub.execute_input": "2021-09-22T03:00:08.214085Z",
     "iopub.status.busy": "2021-09-22T03:00:08.212097Z",
     "iopub.status.idle": "2021-09-22T03:00:08.232029Z",
     "shell.execute_reply": "2021-09-22T03:00:08.233654Z"
    },
    "papermill": {
     "duration": 0.065947,
     "end_time": "2021-09-22T03:00:08.234141",
     "exception": false,
     "start_time": "2021-09-22T03:00:08.168194",
     "status": "completed"
    },
    "tags": []
   },
   "outputs": [
    {
     "data": {
      "text/html": [
       "<div>\n",
       "<style scoped>\n",
       "    .dataframe tbody tr th:only-of-type {\n",
       "        vertical-align: middle;\n",
       "    }\n",
       "\n",
       "    .dataframe tbody tr th {\n",
       "        vertical-align: top;\n",
       "    }\n",
       "\n",
       "    .dataframe thead th {\n",
       "        text-align: right;\n",
       "    }\n",
       "</style>\n",
       "<table border=\"1\" class=\"dataframe\">\n",
       "  <thead>\n",
       "    <tr style=\"text-align: right;\">\n",
       "      <th></th>\n",
       "      <th>RECORD_TIME</th>\n",
       "    </tr>\n",
       "  </thead>\n",
       "  <tbody>\n",
       "    <tr>\n",
       "      <th>0</th>\n",
       "      <td>2021-09-22 05:00</td>\n",
       "    </tr>\n",
       "    <tr>\n",
       "      <th>1</th>\n",
       "      <td>2021-09-22 04:30</td>\n",
       "    </tr>\n",
       "  </tbody>\n",
       "</table>\n",
       "</div>"
      ],
      "text/plain": [
       "        RECORD_TIME\n",
       "0  2021-09-22 05:00\n",
       "1  2021-09-22 04:30"
      ]
     },
     "execution_count": 3,
     "metadata": {},
     "output_type": "execute_result"
    }
   ],
   "source": [
    "timestamps"
   ]
  },
  {
   "cell_type": "code",
   "execution_count": 4,
   "id": "alternate-victory",
   "metadata": {
    "execution": {
     "iopub.execute_input": "2021-09-22T03:00:08.286749Z",
     "iopub.status.busy": "2021-09-22T03:00:08.284831Z",
     "iopub.status.idle": "2021-09-22T03:00:08.798752Z",
     "shell.execute_reply": "2021-09-22T03:00:08.800200Z"
    },
    "papermill": {
     "duration": 0.544409,
     "end_time": "2021-09-22T03:00:08.800626",
     "exception": false,
     "start_time": "2021-09-22T03:00:08.256217",
     "status": "completed"
    },
    "tags": []
   },
   "outputs": [],
   "source": [
    "df = pd.read_sql(\"select * from EBAY_TOP_BERLIN where record_time in (select distinct record_time from EBAY_TOP_BERLIN order by record_time desc limit 2)\", sqlite3.connect(\"UsedObjects.db\"))"
   ]
  },
  {
   "cell_type": "code",
   "execution_count": 5,
   "id": "popular-active",
   "metadata": {
    "execution": {
     "iopub.execute_input": "2021-09-22T03:00:08.870454Z",
     "iopub.status.busy": "2021-09-22T03:00:08.858240Z",
     "iopub.status.idle": "2021-09-22T03:00:08.886133Z",
     "shell.execute_reply": "2021-09-22T03:00:08.887480Z"
    },
    "papermill": {
     "duration": 0.066757,
     "end_time": "2021-09-22T03:00:08.887900",
     "exception": false,
     "start_time": "2021-09-22T03:00:08.821143",
     "status": "completed"
    },
    "tags": []
   },
   "outputs": [],
   "source": [
    "df_pivot = df.pivot_table(index=\"PRODUCT\", columns = \"RECORD_TIME\", values = \"LISTING_COUNT\")"
   ]
  },
  {
   "cell_type": "code",
   "execution_count": 6,
   "id": "union-huntington",
   "metadata": {
    "execution": {
     "iopub.execute_input": "2021-09-22T03:00:08.944009Z",
     "iopub.status.busy": "2021-09-22T03:00:08.941928Z",
     "iopub.status.idle": "2021-09-22T03:00:08.947426Z",
     "shell.execute_reply": "2021-09-22T03:00:08.948718Z"
    },
    "papermill": {
     "duration": 0.04099,
     "end_time": "2021-09-22T03:00:08.949131",
     "exception": false,
     "start_time": "2021-09-22T03:00:08.908141",
     "status": "completed"
    },
    "tags": []
   },
   "outputs": [],
   "source": [
    "df_pivot.columns = [\"stamp_1\", \"stamp_2\"]\n",
    "df_pivot_diff = df_pivot.diff(axis=1)"
   ]
  },
  {
   "cell_type": "code",
   "execution_count": 7,
   "id": "fifth-motion",
   "metadata": {
    "execution": {
     "iopub.execute_input": "2021-09-22T03:00:09.004314Z",
     "iopub.status.busy": "2021-09-22T03:00:09.001740Z",
     "iopub.status.idle": "2021-09-22T03:00:10.497946Z",
     "shell.execute_reply": "2021-09-22T03:00:10.499569Z"
    },
    "papermill": {
     "duration": 1.529533,
     "end_time": "2021-09-22T03:00:10.500078",
     "exception": false,
     "start_time": "2021-09-22T03:00:08.970545",
     "status": "completed"
    },
    "tags": []
   },
   "outputs": [
    {
     "data": {
      "text/plain": [
       "<AxesSubplot:ylabel='PRODUCT'>"
      ]
     },
     "execution_count": 7,
     "metadata": {},
     "output_type": "execute_result"
    },
    {
     "data": {
      "image/png": "[encoded data removed]",
      "text/plain": [
       "<Figure size 432x288 with 1 Axes>"
      ]
     },
     "metadata": {
      "needs_background": "light"
     },
     "output_type": "display_data"
    }
   ],
   "source": [
    "df_pivot_diff.sort_values(\"stamp_2\", ascending = False)[\"stamp_2\"].head(10).plot.barh()"
   ]
  },
  {
   "cell_type": "code",
   "execution_count": null,
   "id": "extra-executive",
   "metadata": {
    "papermill": {
     "duration": 0.022309,
     "end_time": "2021-09-22T03:00:10.547882",
     "exception": false,
     "start_time": "2021-09-22T03:00:10.525573",
     "status": "completed"
    },
    "tags": []
   },
   "outputs": [],
   "source": []
  }
 ],
 "metadata": {
  "kernelspec": {
   "display_name": "Python 3",
   "language": "python",
   "name": "python3"
  },
  "language_info": {
   "codemirror_mode": {
    "name": "ipython",
    "version": 3
   },
   "file_extension": ".py",
   "mimetype": "text/x-python",
   "name": "python",
   "nbconvert_exporter": "python",
   "pygments_lexer": "ipython3",
   "version": "3.9.5"
  },
  "papermill": {
   "default_parameters": {},
   "duration": 6.697031,
   "end_time": "2021-09-22T03:00:11.191274",
   "environment_variables": {},
   "exception": null,
   "input_path": "eBay_Overview.ipynb",
   "output_path": "eBay_Overview.ipynb",
   "parameters": {},
   "start_time": "2021-09-22T03:00:04.494243",
   "version": "2.3.3"
  }
 },
 "nbformat": 4,
 "nbformat_minor": 5
}