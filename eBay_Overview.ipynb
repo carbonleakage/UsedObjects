{
 "cells": [
  {
   "cell_type": "code",
   "execution_count": 1,
   "id": "reverse-picking",
   "metadata": {
    "execution": {
     "iopub.execute_input": "2021-11-03T21:00:08.004763Z",
     "iopub.status.busy": "2021-11-03T21:00:08.002472Z",
     "iopub.status.idle": "2021-11-03T21:00:08.930045Z",
     "shell.execute_reply": "2021-11-03T21:00:08.931720Z"
    },
    "papermill": {
     "duration": 0.977745,
     "end_time": "2021-11-03T21:00:08.932452",
     "exception": false,
     "start_time": "2021-11-03T21:00:07.954707",
     "status": "completed"
    },
    "tags": []
   },
   "outputs": [],
   "source": [
    "import pandas as pd\n",
    "import sqlite3"
   ]
  },
  {
   "cell_type": "code",
   "execution_count": 2,
   "id": "innovative-syndrome",
   "metadata": {
    "execution": {
     "iopub.execute_input": "2021-11-03T21:00:08.996323Z",
     "iopub.status.busy": "2021-11-03T21:00:08.994206Z",
     "iopub.status.idle": "2021-11-03T21:00:09.711042Z",
     "shell.execute_reply": "2021-11-03T21:00:09.712546Z"
    },
    "papermill": {
     "duration": 0.753188,
     "end_time": "2021-11-03T21:00:09.713056",
     "exception": false,
     "start_time": "2021-11-03T21:00:08.959868",
     "status": "completed"
    },
    "tags": []
   },
   "outputs": [],
   "source": [
    "timestamps = pd.read_sql(\"select distinct record_time from EBAY_TOP_BERLIN order by record_time desc limit 2\", sqlite3.connect(\"UsedObjects.db\"))"
   ]
  },
  {
   "cell_type": "code",
   "execution_count": 3,
   "id": "periodic-identification",
   "metadata": {
    "execution": {
     "iopub.execute_input": "2021-11-03T21:00:09.782612Z",
     "iopub.status.busy": "2021-11-03T21:00:09.780256Z",
     "iopub.status.idle": "2021-11-03T21:00:09.801986Z",
     "shell.execute_reply": "2021-11-03T21:00:09.803378Z"
    },
    "papermill": {
     "duration": 0.071277,
     "end_time": "2021-11-03T21:00:09.803848",
     "exception": false,
     "start_time": "2021-11-03T21:00:09.732571",
     "status": "completed"
    },
    "tags": []
   },
   "outputs": [
    {
     "data": {
      "text/html": [
       "<div>\n",
       "<style scoped>\n",
       "    .dataframe tbody tr th:only-of-type {\n",
       "        vertical-align: middle;\n",
       "    }\n",
       "\n",
       "    .dataframe tbody tr th {\n",
       "        vertical-align: top;\n",
       "    }\n",
       "\n",
       "    .dataframe thead th {\n",
       "        text-align: right;\n",
       "    }\n",
       "</style>\n",
       "<table border=\"1\" class=\"dataframe\">\n",
       "  <thead>\n",
       "    <tr style=\"text-align: right;\">\n",
       "      <th></th>\n",
       "      <th>RECORD_TIME</th>\n",
       "    </tr>\n",
       "  </thead>\n",
       "  <tbody>\n",
       "    <tr>\n",
       "      <th>0</th>\n",
       "      <td>2021-11-03 22:00</td>\n",
       "    </tr>\n",
       "    <tr>\n",
       "      <th>1</th>\n",
       "      <td>2021-11-03 21:30</td>\n",
       "    </tr>\n",
       "  </tbody>\n",
       "</table>\n",
       "</div>"
      ],
      "text/plain": [
       "        RECORD_TIME\n",
       "0  2021-11-03 22:00\n",
       "1  2021-11-03 21:30"
      ]
     },
     "execution_count": 3,
     "metadata": {},
     "output_type": "execute_result"
    }
   ],
   "source": [
    "timestamps"
   ]
  },
  {
   "cell_type": "code",
   "execution_count": 4,
   "id": "alternate-victory",
   "metadata": {
    "execution": {
     "iopub.execute_input": "2021-11-03T21:00:09.859854Z",
     "iopub.status.busy": "2021-11-03T21:00:09.857492Z",
     "iopub.status.idle": "2021-11-03T21:00:10.904637Z",
     "shell.execute_reply": "2021-11-03T21:00:10.906264Z"
    },
    "papermill": {
     "duration": 1.081826,
     "end_time": "2021-11-03T21:00:10.906930",
     "exception": false,
     "start_time": "2021-11-03T21:00:09.825104",
     "status": "completed"
    },
    "tags": []
   },
   "outputs": [],
   "source": [
    "df = pd.read_sql(\"select * from EBAY_TOP_BERLIN where record_time in (select distinct record_time from EBAY_TOP_BERLIN order by record_time desc limit 2)\", sqlite3.connect(\"UsedObjects.db\"))"
   ]
  },
  {
   "cell_type": "code",
   "execution_count": 5,
   "id": "popular-active",
   "metadata": {
    "execution": {
     "iopub.execute_input": "2021-11-03T21:00:10.974873Z",
     "iopub.status.busy": "2021-11-03T21:00:10.972427Z",
     "iopub.status.idle": "2021-11-03T21:00:11.006636Z",
     "shell.execute_reply": "2021-11-03T21:00:11.008217Z"
    },
    "papermill": {
     "duration": 0.079285,
     "end_time": "2021-11-03T21:00:11.008739",
     "exception": false,
     "start_time": "2021-11-03T21:00:10.929454",
     "status": "completed"
    },
    "tags": []
   },
   "outputs": [],
   "source": [
    "df_pivot = df.pivot_table(index=\"PRODUCT\", columns = \"RECORD_TIME\", values = \"LISTING_COUNT\")"
   ]
  },
  {
   "cell_type": "code",
   "execution_count": 6,
   "id": "union-huntington",
   "metadata": {
    "execution": {
     "iopub.execute_input": "2021-11-03T21:00:11.071818Z",
     "iopub.status.busy": "2021-11-03T21:00:11.069364Z",
     "iopub.status.idle": "2021-11-03T21:00:11.075387Z",
     "shell.execute_reply": "2021-11-03T21:00:11.077163Z"
    },
    "papermill": {
     "duration": 0.045608,
     "end_time": "2021-11-03T21:00:11.077671",
     "exception": false,
     "start_time": "2021-11-03T21:00:11.032063",
     "status": "completed"
    },
    "tags": []
   },
   "outputs": [],
   "source": [
    "df_pivot.columns = [\"stamp_1\", \"stamp_2\"]\n",
    "df_pivot_diff = df_pivot.diff(axis=1)"
   ]
  },
  {
   "cell_type": "code",
   "execution_count": 7,
   "id": "fifth-motion",
   "metadata": {
    "execution": {
     "iopub.execute_input": "2021-11-03T21:00:11.137834Z",
     "iopub.status.busy": "2021-11-03T21:00:11.135288Z",
     "iopub.status.idle": "2021-11-03T21:00:13.008534Z",
     "shell.execute_reply": "2021-11-03T21:00:13.011815Z"
    },
    "papermill": {
     "duration": 1.913561,
     "end_time": "2021-11-03T21:00:13.012762",
     "exception": false,
     "start_time": "2021-11-03T21:00:11.099201",
     "status": "completed"
    },
    "tags": []
   },
   "outputs": [
    {
     "data": {
      "text/plain": [
       "<AxesSubplot:ylabel='PRODUCT'>"
      ]
     },
     "execution_count": 7,
     "metadata": {},
     "output_type": "execute_result"
    },
    {
     "data": {
      "image/png": "[encoded data removed]",
      "text/plain": [
       "<Figure size 432x288 with 1 Axes>"
      ]
     },
     "metadata": {
      "needs_background": "light"
     },
     "output_type": "display_data"
    }
   ],
   "source": [
    "df_pivot_diff.sort_values(\"stamp_2\", ascending = False)[\"stamp_2\"].head(10).plot.barh()"
   ]
  },
  {
   "cell_type": "code",
   "execution_count": null,
   "id": "extra-executive",
   "metadata": {
    "papermill": {
     "duration": 0.033938,
     "end_time": "2021-11-03T21:00:13.085241",
     "exception": false,
     "start_time": "2021-11-03T21:00:13.051303",
     "status": "completed"
    },
    "tags": []
   },
   "outputs": [],
   "source": []
  }
 ],
 "metadata": {
  "kernelspec": {
   "display_name": "Python 3",
   "language": "python",
   "name": "python3"
  },
  "language_info": {
   "codemirror_mode": {
    "name": "ipython",
    "version": 3
   },
   "file_extension": ".py",
   "mimetype": "text/x-python",
   "name": "python",
   "nbconvert_exporter": "python",
   "pygments_lexer": "ipython3",
   "version": "3.9.5"
  },
  "papermill": {
   "default_parameters": {},
   "duration": 8.739417,
   "end_time": "2021-11-03T21:00:13.947834",
   "environment_variables": {},
   "exception": null,
   "input_path": "eBay_Overview.ipynb",
   "output_path": "eBay_Overview.ipynb",
   "parameters": {},
   "start_time": "2021-11-03T21:00:05.208417",
   "version": "2.3.3"
  }
 },
 "nbformat": 4,
 "nbformat_minor": 5
}