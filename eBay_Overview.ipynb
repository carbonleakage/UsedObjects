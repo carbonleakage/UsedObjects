{
 "cells": [
  {
   "cell_type": "code",
   "execution_count": 1,
   "id": "reverse-picking",
   "metadata": {
    "execution": {
     "iopub.execute_input": "2021-09-21T00:30:06.999265Z",
     "iopub.status.busy": "2021-09-21T00:30:06.997234Z",
     "iopub.status.idle": "2021-09-21T00:30:07.805358Z",
     "shell.execute_reply": "2021-09-21T00:30:07.806598Z"
    },
    "papermill": {
     "duration": 0.859948,
     "end_time": "2021-09-21T00:30:07.807300",
     "exception": false,
     "start_time": "2021-09-21T00:30:06.947352",
     "status": "completed"
    },
    "tags": []
   },
   "outputs": [],
   "source": [
    "import pandas as pd\n",
    "import sqlite3"
   ]
  },
  {
   "cell_type": "code",
   "execution_count": 2,
   "id": "innovative-syndrome",
   "metadata": {
    "execution": {
     "iopub.execute_input": "2021-09-21T00:30:07.857492Z",
     "iopub.status.busy": "2021-09-21T00:30:07.855598Z",
     "iopub.status.idle": "2021-09-21T00:30:08.196413Z",
     "shell.execute_reply": "2021-09-21T00:30:08.197760Z"
    },
    "papermill": {
     "duration": 0.37074,
     "end_time": "2021-09-21T00:30:08.198196",
     "exception": false,
     "start_time": "2021-09-21T00:30:07.827456",
     "status": "completed"
    },
    "tags": []
   },
   "outputs": [],
   "source": [
    "timestamps = pd.read_sql(\"select distinct record_time from EBAY_TOP_BERLIN order by record_time desc limit 2\", sqlite3.connect(\"UsedObjects.db\"))"
   ]
  },
  {
   "cell_type": "code",
   "execution_count": 3,
   "id": "periodic-identification",
   "metadata": {
    "execution": {
     "iopub.execute_input": "2021-09-21T00:30:08.268733Z",
     "iopub.status.busy": "2021-09-21T00:30:08.263447Z",
     "iopub.status.idle": "2021-09-21T00:30:08.283561Z",
     "shell.execute_reply": "2021-09-21T00:30:08.284874Z"
    },
    "papermill": {
     "duration": 0.067049,
     "end_time": "2021-09-21T00:30:08.285291",
     "exception": false,
     "start_time": "2021-09-21T00:30:08.218242",
     "status": "completed"
    },
    "tags": []
   },
   "outputs": [
    {
     "data": {
      "text/html": [
       "<div>\n",
       "<style scoped>\n",
       "    .dataframe tbody tr th:only-of-type {\n",
       "        vertical-align: middle;\n",
       "    }\n",
       "\n",
       "    .dataframe tbody tr th {\n",
       "        vertical-align: top;\n",
       "    }\n",
       "\n",
       "    .dataframe thead th {\n",
       "        text-align: right;\n",
       "    }\n",
       "</style>\n",
       "<table border=\"1\" class=\"dataframe\">\n",
       "  <thead>\n",
       "    <tr style=\"text-align: right;\">\n",
       "      <th></th>\n",
       "      <th>RECORD_TIME</th>\n",
       "    </tr>\n",
       "  </thead>\n",
       "  <tbody>\n",
       "    <tr>\n",
       "      <th>0</th>\n",
       "      <td>2021-09-21 02:30</td>\n",
       "    </tr>\n",
       "    <tr>\n",
       "      <th>1</th>\n",
       "      <td>2021-09-21 02:00</td>\n",
       "    </tr>\n",
       "  </tbody>\n",
       "</table>\n",
       "</div>"
      ],
      "text/plain": [
       "        RECORD_TIME\n",
       "0  2021-09-21 02:30\n",
       "1  2021-09-21 02:00"
      ]
     },
     "execution_count": 3,
     "metadata": {},
     "output_type": "execute_result"
    }
   ],
   "source": [
    "timestamps"
   ]
  },
  {
   "cell_type": "code",
   "execution_count": 4,
   "id": "alternate-victory",
   "metadata": {
    "execution": {
     "iopub.execute_input": "2021-09-21T00:30:08.336270Z",
     "iopub.status.busy": "2021-09-21T00:30:08.334282Z",
     "iopub.status.idle": "2021-09-21T00:30:08.855284Z",
     "shell.execute_reply": "2021-09-21T00:30:08.856635Z"
    },
    "papermill": {
     "duration": 0.550746,
     "end_time": "2021-09-21T00:30:08.857036",
     "exception": false,
     "start_time": "2021-09-21T00:30:08.306290",
     "status": "completed"
    },
    "tags": []
   },
   "outputs": [],
   "source": [
    "df = pd.read_sql(\"select * from EBAY_TOP_BERLIN where record_time in (select distinct record_time from EBAY_TOP_BERLIN order by record_time desc limit 2)\", sqlite3.connect(\"UsedObjects.db\"))"
   ]
  },
  {
   "cell_type": "code",
   "execution_count": 5,
   "id": "popular-active",
   "metadata": {
    "execution": {
     "iopub.execute_input": "2021-09-21T00:30:08.927756Z",
     "iopub.status.busy": "2021-09-21T00:30:08.916001Z",
     "iopub.status.idle": "2021-09-21T00:30:08.944382Z",
     "shell.execute_reply": "2021-09-21T00:30:08.945597Z"
    },
    "papermill": {
     "duration": 0.068004,
     "end_time": "2021-09-21T00:30:08.945994",
     "exception": false,
     "start_time": "2021-09-21T00:30:08.877990",
     "status": "completed"
    },
    "tags": []
   },
   "outputs": [],
   "source": [
    "df_pivot = df.pivot_table(index=\"PRODUCT\", columns = \"RECORD_TIME\", values = \"LISTING_COUNT\")"
   ]
  },
  {
   "cell_type": "code",
   "execution_count": 6,
   "id": "union-huntington",
   "metadata": {
    "execution": {
     "iopub.execute_input": "2021-09-21T00:30:09.001188Z",
     "iopub.status.busy": "2021-09-21T00:30:08.999232Z",
     "iopub.status.idle": "2021-09-21T00:30:09.004286Z",
     "shell.execute_reply": "2021-09-21T00:30:09.005411Z"
    },
    "papermill": {
     "duration": 0.039308,
     "end_time": "2021-09-21T00:30:09.005820",
     "exception": false,
     "start_time": "2021-09-21T00:30:08.966512",
     "status": "completed"
    },
    "tags": []
   },
   "outputs": [],
   "source": [
    "df_pivot.columns = [\"stamp_1\", \"stamp_2\"]\n",
    "df_pivot_diff = df_pivot.diff(axis=1)"
   ]
  },
  {
   "cell_type": "code",
   "execution_count": 7,
   "id": "fifth-motion",
   "metadata": {
    "execution": {
     "iopub.execute_input": "2021-09-21T00:30:09.063572Z",
     "iopub.status.busy": "2021-09-21T00:30:09.060791Z",
     "iopub.status.idle": "2021-09-21T00:30:10.568348Z",
     "shell.execute_reply": "2021-09-21T00:30:10.569643Z"
    },
    "papermill": {
     "duration": 1.54097,
     "end_time": "2021-09-21T00:30:10.570068",
     "exception": false,
     "start_time": "2021-09-21T00:30:09.029098",
     "status": "completed"
    },
    "tags": []
   },
   "outputs": [
    {
     "data": {
      "text/plain": [
       "<AxesSubplot:ylabel='PRODUCT'>"
      ]
     },
     "execution_count": 7,
     "metadata": {},
     "output_type": "execute_result"
    },
    {
     "data": {
      "image/png": "[encoded data removed]",
      "text/plain": [
       "<Figure size 432x288 with 1 Axes>"
      ]
     },
     "metadata": {
      "needs_background": "light"
     },
     "output_type": "display_data"
    }
   ],
   "source": [
    "df_pivot_diff.sort_values(\"stamp_2\", ascending = False)[\"stamp_2\"].head(10).plot.barh()"
   ]
  },
  {
   "cell_type": "code",
   "execution_count": null,
   "id": "extra-executive",
   "metadata": {
    "papermill": {
     "duration": 0.021924,
     "end_time": "2021-09-21T00:30:10.615616",
     "exception": false,
     "start_time": "2021-09-21T00:30:10.593692",
     "status": "completed"
    },
    "tags": []
   },
   "outputs": [],
   "source": []
  }
 ],
 "metadata": {
  "kernelspec": {
   "display_name": "Python 3",
   "language": "python",
   "name": "python3"
  },
  "language_info": {
   "codemirror_mode": {
    "name": "ipython",
    "version": 3
   },
   "file_extension": ".py",
   "mimetype": "text/x-python",
   "name": "python",
   "nbconvert_exporter": "python",
   "pygments_lexer": "ipython3",
   "version": "3.9.5"
  },
  "papermill": {
   "default_parameters": {},
   "duration": 6.716889,
   "end_time": "2021-09-21T00:30:11.258170",
   "environment_variables": {},
   "exception": null,
   "input_path": "eBay_Overview.ipynb",
   "output_path": "eBay_Overview.ipynb",
   "parameters": {},
   "start_time": "2021-09-21T00:30:04.541281",
   "version": "2.3.3"
  }
 },
 "nbformat": 4,
 "nbformat_minor": 5
}