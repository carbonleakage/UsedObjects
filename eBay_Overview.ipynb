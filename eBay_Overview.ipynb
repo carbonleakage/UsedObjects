{
 "cells": [
  {
   "cell_type": "code",
   "execution_count": 1,
   "id": "reverse-picking",
   "metadata": {
    "execution": {
     "iopub.execute_input": "2021-11-16T16:30:07.778349Z",
     "iopub.status.busy": "2021-11-16T16:30:07.775865Z",
     "iopub.status.idle": "2021-11-16T16:30:08.727994Z",
     "shell.execute_reply": "2021-11-16T16:30:08.729591Z"
    },
    "papermill": {
     "duration": 1.003367,
     "end_time": "2021-11-16T16:30:08.730340",
     "exception": false,
     "start_time": "2021-11-16T16:30:07.726973",
     "status": "completed"
    },
    "tags": []
   },
   "outputs": [],
   "source": [
    "import pandas as pd\n",
    "import sqlite3"
   ]
  },
  {
   "cell_type": "code",
   "execution_count": 2,
   "id": "innovative-syndrome",
   "metadata": {
    "execution": {
     "iopub.execute_input": "2021-11-16T16:30:08.806773Z",
     "iopub.status.busy": "2021-11-16T16:30:08.804334Z",
     "iopub.status.idle": "2021-11-16T16:30:09.643229Z",
     "shell.execute_reply": "2021-11-16T16:30:09.644936Z"
    },
    "papermill": {
     "duration": 0.885849,
     "end_time": "2021-11-16T16:30:09.645481",
     "exception": false,
     "start_time": "2021-11-16T16:30:08.759632",
     "status": "completed"
    },
    "tags": []
   },
   "outputs": [],
   "source": [
    "timestamps = pd.read_sql(\"select distinct record_time from EBAY_TOP_BERLIN order by record_time desc limit 2\", sqlite3.connect(\"UsedObjects.db\"))"
   ]
  },
  {
   "cell_type": "code",
   "execution_count": 3,
   "id": "periodic-identification",
   "metadata": {
    "execution": {
     "iopub.execute_input": "2021-11-16T16:30:09.718507Z",
     "iopub.status.busy": "2021-11-16T16:30:09.713359Z",
     "iopub.status.idle": "2021-11-16T16:30:09.735173Z",
     "shell.execute_reply": "2021-11-16T16:30:09.736871Z"
    },
    "papermill": {
     "duration": 0.068742,
     "end_time": "2021-11-16T16:30:09.737393",
     "exception": false,
     "start_time": "2021-11-16T16:30:09.668651",
     "status": "completed"
    },
    "tags": []
   },
   "outputs": [
    {
     "data": {
      "text/html": [
       "<div>\n",
       "<style scoped>\n",
       "    .dataframe tbody tr th:only-of-type {\n",
       "        vertical-align: middle;\n",
       "    }\n",
       "\n",
       "    .dataframe tbody tr th {\n",
       "        vertical-align: top;\n",
       "    }\n",
       "\n",
       "    .dataframe thead th {\n",
       "        text-align: right;\n",
       "    }\n",
       "</style>\n",
       "<table border=\"1\" class=\"dataframe\">\n",
       "  <thead>\n",
       "    <tr style=\"text-align: right;\">\n",
       "      <th></th>\n",
       "      <th>RECORD_TIME</th>\n",
       "    </tr>\n",
       "  </thead>\n",
       "  <tbody>\n",
       "    <tr>\n",
       "      <th>0</th>\n",
       "      <td>2021-11-16 17:30</td>\n",
       "    </tr>\n",
       "    <tr>\n",
       "      <th>1</th>\n",
       "      <td>2021-11-16 17:00</td>\n",
       "    </tr>\n",
       "  </tbody>\n",
       "</table>\n",
       "</div>"
      ],
      "text/plain": [
       "        RECORD_TIME\n",
       "0  2021-11-16 17:30\n",
       "1  2021-11-16 17:00"
      ]
     },
     "execution_count": 3,
     "metadata": {},
     "output_type": "execute_result"
    }
   ],
   "source": [
    "timestamps"
   ]
  },
  {
   "cell_type": "code",
   "execution_count": 4,
   "id": "alternate-victory",
   "metadata": {
    "execution": {
     "iopub.execute_input": "2021-11-16T16:30:09.791406Z",
     "iopub.status.busy": "2021-11-16T16:30:09.789353Z",
     "iopub.status.idle": "2021-11-16T16:30:11.014315Z",
     "shell.execute_reply": "2021-11-16T16:30:11.015831Z"
    },
    "papermill": {
     "duration": 1.256174,
     "end_time": "2021-11-16T16:30:11.016323",
     "exception": false,
     "start_time": "2021-11-16T16:30:09.760149",
     "status": "completed"
    },
    "tags": []
   },
   "outputs": [],
   "source": [
    "df = pd.read_sql(\"select * from EBAY_TOP_BERLIN where record_time in (select distinct record_time from EBAY_TOP_BERLIN order by record_time desc limit 2)\", sqlite3.connect(\"UsedObjects.db\"))"
   ]
  },
  {
   "cell_type": "code",
   "execution_count": 5,
   "id": "popular-active",
   "metadata": {
    "execution": {
     "iopub.execute_input": "2021-11-16T16:30:11.095874Z",
     "iopub.status.busy": "2021-11-16T16:30:11.088973Z",
     "iopub.status.idle": "2021-11-16T16:30:11.113793Z",
     "shell.execute_reply": "2021-11-16T16:30:11.115145Z"
    },
    "papermill": {
     "duration": 0.077373,
     "end_time": "2021-11-16T16:30:11.115620",
     "exception": false,
     "start_time": "2021-11-16T16:30:11.038247",
     "status": "completed"
    },
    "tags": []
   },
   "outputs": [],
   "source": [
    "df_pivot = df.pivot_table(index=\"PRODUCT\", columns = \"RECORD_TIME\", values = \"LISTING_COUNT\")"
   ]
  },
  {
   "cell_type": "code",
   "execution_count": 6,
   "id": "union-huntington",
   "metadata": {
    "execution": {
     "iopub.execute_input": "2021-11-16T16:30:11.173948Z",
     "iopub.status.busy": "2021-11-16T16:30:11.171743Z",
     "iopub.status.idle": "2021-11-16T16:30:11.178157Z",
     "shell.execute_reply": "2021-11-16T16:30:11.179617Z"
    },
    "papermill": {
     "duration": 0.044499,
     "end_time": "2021-11-16T16:30:11.180084",
     "exception": false,
     "start_time": "2021-11-16T16:30:11.135585",
     "status": "completed"
    },
    "tags": []
   },
   "outputs": [],
   "source": [
    "df_pivot.columns = [\"stamp_1\", \"stamp_2\"]\n",
    "df_pivot_diff = df_pivot.diff(axis=1)"
   ]
  },
  {
   "cell_type": "code",
   "execution_count": 7,
   "id": "fifth-motion",
   "metadata": {
    "execution": {
     "iopub.execute_input": "2021-11-16T16:30:11.240167Z",
     "iopub.status.busy": "2021-11-16T16:30:11.237733Z",
     "iopub.status.idle": "2021-11-16T16:30:13.149442Z",
     "shell.execute_reply": "2021-11-16T16:30:13.152376Z"
    },
    "papermill": {
     "duration": 1.952924,
     "end_time": "2021-11-16T16:30:13.153273",
     "exception": false,
     "start_time": "2021-11-16T16:30:11.200349",
     "status": "completed"
    },
    "tags": []
   },
   "outputs": [
    {
     "data": {
      "text/plain": [
       "<AxesSubplot:ylabel='PRODUCT'>"
      ]
     },
     "execution_count": 7,
     "metadata": {},
     "output_type": "execute_result"
    },
    {
     "data": {
      "image/png": "[encoded data removed]",
      "text/plain": [
       "<Figure size 432x288 with 1 Axes>"
      ]
     },
     "metadata": {
      "needs_background": "light"
     },
     "output_type": "display_data"
    }
   ],
   "source": [
    "df_pivot_diff.sort_values(\"stamp_2\", ascending = False)[\"stamp_2\"].head(10).plot.barh()"
   ]
  },
  {
   "cell_type": "code",
   "execution_count": null,
   "id": "extra-executive",
   "metadata": {
    "papermill": {
     "duration": 0.035877,
     "end_time": "2021-11-16T16:30:13.228015",
     "exception": false,
     "start_time": "2021-11-16T16:30:13.192138",
     "status": "completed"
    },
    "tags": []
   },
   "outputs": [],
   "source": []
  }
 ],
 "metadata": {
  "kernelspec": {
   "display_name": "Python 3",
   "language": "python",
   "name": "python3"
  },
  "language_info": {
   "codemirror_mode": {
    "name": "ipython",
    "version": 3
   },
   "file_extension": ".py",
   "mimetype": "text/x-python",
   "name": "python",
   "nbconvert_exporter": "python",
   "pygments_lexer": "ipython3",
   "version": "3.9.5"
  },
  "papermill": {
   "default_parameters": {},
   "duration": 9.923506,
   "end_time": "2021-11-16T16:30:14.935680",
   "environment_variables": {},
   "exception": null,
   "input_path": "eBay_Overview.ipynb",
   "output_path": "eBay_Overview.ipynb",
   "parameters": {},
   "start_time": "2021-11-16T16:30:05.012174",
   "version": "2.3.3"
  }
 },
 "nbformat": 4,
 "nbformat_minor": 5
}