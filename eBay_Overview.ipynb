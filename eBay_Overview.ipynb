{
 "cells": [
  {
   "cell_type": "code",
   "execution_count": 1,
   "id": "reverse-picking",
   "metadata": {
    "execution": {
     "iopub.execute_input": "2021-11-21T03:30:07.277228Z",
     "iopub.status.busy": "2021-11-21T03:30:07.275389Z",
     "iopub.status.idle": "2021-11-21T03:30:08.230802Z",
     "shell.execute_reply": "2021-11-21T03:30:08.233259Z"
    },
    "papermill": {
     "duration": 1.005189,
     "end_time": "2021-11-21T03:30:08.234503",
     "exception": false,
     "start_time": "2021-11-21T03:30:07.229314",
     "status": "completed"
    },
    "tags": []
   },
   "outputs": [],
   "source": [
    "import pandas as pd\n",
    "import sqlite3"
   ]
  },
  {
   "cell_type": "code",
   "execution_count": 2,
   "id": "innovative-syndrome",
   "metadata": {
    "execution": {
     "iopub.execute_input": "2021-11-21T03:30:08.300010Z",
     "iopub.status.busy": "2021-11-21T03:30:08.297395Z",
     "iopub.status.idle": "2021-11-21T03:30:09.162460Z",
     "shell.execute_reply": "2021-11-21T03:30:09.163981Z"
    },
    "papermill": {
     "duration": 0.899732,
     "end_time": "2021-11-21T03:30:09.164496",
     "exception": false,
     "start_time": "2021-11-21T03:30:08.264764",
     "status": "completed"
    },
    "tags": []
   },
   "outputs": [],
   "source": [
    "timestamps = pd.read_sql(\"select distinct record_time from EBAY_TOP_BERLIN order by record_time desc limit 2\", sqlite3.connect(\"UsedObjects.db\"))"
   ]
  },
  {
   "cell_type": "code",
   "execution_count": 3,
   "id": "periodic-identification",
   "metadata": {
    "execution": {
     "iopub.execute_input": "2021-11-21T03:30:09.233799Z",
     "iopub.status.busy": "2021-11-21T03:30:09.231422Z",
     "iopub.status.idle": "2021-11-21T03:30:09.253302Z",
     "shell.execute_reply": "2021-11-21T03:30:09.254751Z"
    },
    "papermill": {
     "duration": 0.071252,
     "end_time": "2021-11-21T03:30:09.255220",
     "exception": false,
     "start_time": "2021-11-21T03:30:09.183968",
     "status": "completed"
    },
    "tags": []
   },
   "outputs": [
    {
     "data": {
      "text/html": [
       "<div>\n",
       "<style scoped>\n",
       "    .dataframe tbody tr th:only-of-type {\n",
       "        vertical-align: middle;\n",
       "    }\n",
       "\n",
       "    .dataframe tbody tr th {\n",
       "        vertical-align: top;\n",
       "    }\n",
       "\n",
       "    .dataframe thead th {\n",
       "        text-align: right;\n",
       "    }\n",
       "</style>\n",
       "<table border=\"1\" class=\"dataframe\">\n",
       "  <thead>\n",
       "    <tr style=\"text-align: right;\">\n",
       "      <th></th>\n",
       "      <th>RECORD_TIME</th>\n",
       "    </tr>\n",
       "  </thead>\n",
       "  <tbody>\n",
       "    <tr>\n",
       "      <th>0</th>\n",
       "      <td>2021-11-21 04:30</td>\n",
       "    </tr>\n",
       "    <tr>\n",
       "      <th>1</th>\n",
       "      <td>2021-11-21 04:00</td>\n",
       "    </tr>\n",
       "  </tbody>\n",
       "</table>\n",
       "</div>"
      ],
      "text/plain": [
       "        RECORD_TIME\n",
       "0  2021-11-21 04:30\n",
       "1  2021-11-21 04:00"
      ]
     },
     "execution_count": 3,
     "metadata": {},
     "output_type": "execute_result"
    }
   ],
   "source": [
    "timestamps"
   ]
  },
  {
   "cell_type": "code",
   "execution_count": 4,
   "id": "alternate-victory",
   "metadata": {
    "execution": {
     "iopub.execute_input": "2021-11-21T03:30:09.309160Z",
     "iopub.status.busy": "2021-11-21T03:30:09.306935Z",
     "iopub.status.idle": "2021-11-21T03:30:10.567121Z",
     "shell.execute_reply": "2021-11-21T03:30:10.568570Z"
    },
    "papermill": {
     "duration": 1.293206,
     "end_time": "2021-11-21T03:30:10.569128",
     "exception": false,
     "start_time": "2021-11-21T03:30:09.275922",
     "status": "completed"
    },
    "tags": []
   },
   "outputs": [],
   "source": [
    "df = pd.read_sql(\"select * from EBAY_TOP_BERLIN where record_time in (select distinct record_time from EBAY_TOP_BERLIN order by record_time desc limit 2)\", sqlite3.connect(\"UsedObjects.db\"))"
   ]
  },
  {
   "cell_type": "code",
   "execution_count": 5,
   "id": "popular-active",
   "metadata": {
    "execution": {
     "iopub.execute_input": "2021-11-21T03:30:10.637765Z",
     "iopub.status.busy": "2021-11-21T03:30:10.635230Z",
     "iopub.status.idle": "2021-11-21T03:30:10.671459Z",
     "shell.execute_reply": "2021-11-21T03:30:10.668936Z"
    },
    "papermill": {
     "duration": 0.078669,
     "end_time": "2021-11-21T03:30:10.671906",
     "exception": false,
     "start_time": "2021-11-21T03:30:10.593237",
     "status": "completed"
    },
    "tags": []
   },
   "outputs": [],
   "source": [
    "df_pivot = df.pivot_table(index=\"PRODUCT\", columns = \"RECORD_TIME\", values = \"LISTING_COUNT\")"
   ]
  },
  {
   "cell_type": "code",
   "execution_count": 6,
   "id": "union-huntington",
   "metadata": {
    "execution": {
     "iopub.execute_input": "2021-11-21T03:30:10.731825Z",
     "iopub.status.busy": "2021-11-21T03:30:10.729614Z",
     "iopub.status.idle": "2021-11-21T03:30:10.735373Z",
     "shell.execute_reply": "2021-11-21T03:30:10.736763Z"
    },
    "papermill": {
     "duration": 0.043411,
     "end_time": "2021-11-21T03:30:10.737254",
     "exception": false,
     "start_time": "2021-11-21T03:30:10.693843",
     "status": "completed"
    },
    "tags": []
   },
   "outputs": [],
   "source": [
    "df_pivot.columns = [\"stamp_1\", \"stamp_2\"]\n",
    "df_pivot_diff = df_pivot.diff(axis=1)"
   ]
  },
  {
   "cell_type": "code",
   "execution_count": 7,
   "id": "fifth-motion",
   "metadata": {
    "execution": {
     "iopub.execute_input": "2021-11-21T03:30:10.803592Z",
     "iopub.status.busy": "2021-11-21T03:30:10.790407Z",
     "iopub.status.idle": "2021-11-21T03:30:12.521497Z",
     "shell.execute_reply": "2021-11-21T03:30:12.524530Z"
    },
    "papermill": {
     "duration": 1.768311,
     "end_time": "2021-11-21T03:30:12.525393",
     "exception": false,
     "start_time": "2021-11-21T03:30:10.757082",
     "status": "completed"
    },
    "tags": []
   },
   "outputs": [
    {
     "data": {
      "text/plain": [
       "<AxesSubplot:ylabel='PRODUCT'>"
      ]
     },
     "execution_count": 7,
     "metadata": {},
     "output_type": "execute_result"
    },
    {
     "data": {
      "image/png": "[encoded data removed]",
      "text/plain": [
       "<Figure size 432x288 with 1 Axes>"
      ]
     },
     "metadata": {
      "needs_background": "light"
     },
     "output_type": "display_data"
    }
   ],
   "source": [
    "df_pivot_diff.sort_values(\"stamp_2\", ascending = False)[\"stamp_2\"].head(10).plot.barh()"
   ]
  },
  {
   "cell_type": "code",
   "execution_count": null,
   "id": "extra-executive",
   "metadata": {
    "papermill": {
     "duration": 0.033339,
     "end_time": "2021-11-21T03:30:12.595128",
     "exception": false,
     "start_time": "2021-11-21T03:30:12.561789",
     "status": "completed"
    },
    "tags": []
   },
   "outputs": [],
   "source": []
  }
 ],
 "metadata": {
  "kernelspec": {
   "display_name": "Python 3",
   "language": "python",
   "name": "python3"
  },
  "language_info": {
   "codemirror_mode": {
    "name": "ipython",
    "version": 3
   },
   "file_extension": ".py",
   "mimetype": "text/x-python",
   "name": "python",
   "nbconvert_exporter": "python",
   "pygments_lexer": "ipython3",
   "version": "3.9.5"
  },
  "papermill": {
   "default_parameters": {},
   "duration": 10.002227,
   "end_time": "2021-11-21T03:30:14.423820",
   "environment_variables": {},
   "exception": null,
   "input_path": "eBay_Overview.ipynb",
   "output_path": "eBay_Overview.ipynb",
   "parameters": {},
   "start_time": "2021-11-21T03:30:04.421593",
   "version": "2.3.3"
  }
 },
 "nbformat": 4,
 "nbformat_minor": 5
}