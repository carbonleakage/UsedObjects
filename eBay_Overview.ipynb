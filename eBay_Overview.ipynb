{
 "cells": [
  {
   "cell_type": "code",
   "execution_count": 1,
   "id": "reverse-picking",
   "metadata": {
    "execution": {
     "iopub.execute_input": "2021-10-28T15:30:07.235391Z",
     "iopub.status.busy": "2021-10-28T15:30:07.233492Z",
     "iopub.status.idle": "2021-10-28T15:30:08.037329Z",
     "shell.execute_reply": "2021-10-28T15:30:08.038660Z"
    },
    "papermill": {
     "duration": 0.854506,
     "end_time": "2021-10-28T15:30:08.039309",
     "exception": false,
     "start_time": "2021-10-28T15:30:07.184803",
     "status": "completed"
    },
    "tags": []
   },
   "outputs": [],
   "source": [
    "import pandas as pd\n",
    "import sqlite3"
   ]
  },
  {
   "cell_type": "code",
   "execution_count": 2,
   "id": "innovative-syndrome",
   "metadata": {
    "execution": {
     "iopub.execute_input": "2021-10-28T15:30:08.090520Z",
     "iopub.status.busy": "2021-10-28T15:30:08.088595Z",
     "iopub.status.idle": "2021-10-28T15:30:08.751117Z",
     "shell.execute_reply": "2021-10-28T15:30:08.752311Z"
    },
    "papermill": {
     "duration": 0.692189,
     "end_time": "2021-10-28T15:30:08.752863",
     "exception": false,
     "start_time": "2021-10-28T15:30:08.060674",
     "status": "completed"
    },
    "tags": []
   },
   "outputs": [],
   "source": [
    "timestamps = pd.read_sql(\"select distinct record_time from EBAY_TOP_BERLIN order by record_time desc limit 2\", sqlite3.connect(\"UsedObjects.db\"))"
   ]
  },
  {
   "cell_type": "code",
   "execution_count": 3,
   "id": "periodic-identification",
   "metadata": {
    "execution": {
     "iopub.execute_input": "2021-10-28T15:30:08.827928Z",
     "iopub.status.busy": "2021-10-28T15:30:08.825914Z",
     "iopub.status.idle": "2021-10-28T15:30:08.845532Z",
     "shell.execute_reply": "2021-10-28T15:30:08.846767Z"
    },
    "papermill": {
     "duration": 0.066819,
     "end_time": "2021-10-28T15:30:08.847157",
     "exception": false,
     "start_time": "2021-10-28T15:30:08.780338",
     "status": "completed"
    },
    "tags": []
   },
   "outputs": [
    {
     "data": {
      "text/html": [
       "<div>\n",
       "<style scoped>\n",
       "    .dataframe tbody tr th:only-of-type {\n",
       "        vertical-align: middle;\n",
       "    }\n",
       "\n",
       "    .dataframe tbody tr th {\n",
       "        vertical-align: top;\n",
       "    }\n",
       "\n",
       "    .dataframe thead th {\n",
       "        text-align: right;\n",
       "    }\n",
       "</style>\n",
       "<table border=\"1\" class=\"dataframe\">\n",
       "  <thead>\n",
       "    <tr style=\"text-align: right;\">\n",
       "      <th></th>\n",
       "      <th>RECORD_TIME</th>\n",
       "    </tr>\n",
       "  </thead>\n",
       "  <tbody>\n",
       "    <tr>\n",
       "      <th>0</th>\n",
       "      <td>2021-10-28 17:30</td>\n",
       "    </tr>\n",
       "    <tr>\n",
       "      <th>1</th>\n",
       "      <td>2021-10-28 17:00</td>\n",
       "    </tr>\n",
       "  </tbody>\n",
       "</table>\n",
       "</div>"
      ],
      "text/plain": [
       "        RECORD_TIME\n",
       "0  2021-10-28 17:30\n",
       "1  2021-10-28 17:00"
      ]
     },
     "execution_count": 3,
     "metadata": {},
     "output_type": "execute_result"
    }
   ],
   "source": [
    "timestamps"
   ]
  },
  {
   "cell_type": "code",
   "execution_count": 4,
   "id": "alternate-victory",
   "metadata": {
    "execution": {
     "iopub.execute_input": "2021-10-28T15:30:08.900530Z",
     "iopub.status.busy": "2021-10-28T15:30:08.898289Z",
     "iopub.status.idle": "2021-10-28T15:30:09.871311Z",
     "shell.execute_reply": "2021-10-28T15:30:09.869922Z"
    },
    "papermill": {
     "duration": 1.002547,
     "end_time": "2021-10-28T15:30:09.871665",
     "exception": false,
     "start_time": "2021-10-28T15:30:08.869118",
     "status": "completed"
    },
    "tags": []
   },
   "outputs": [],
   "source": [
    "df = pd.read_sql(\"select * from EBAY_TOP_BERLIN where record_time in (select distinct record_time from EBAY_TOP_BERLIN order by record_time desc limit 2)\", sqlite3.connect(\"UsedObjects.db\"))"
   ]
  },
  {
   "cell_type": "code",
   "execution_count": 5,
   "id": "popular-active",
   "metadata": {
    "execution": {
     "iopub.execute_input": "2021-10-28T15:30:09.942467Z",
     "iopub.status.busy": "2021-10-28T15:30:09.931024Z",
     "iopub.status.idle": "2021-10-28T15:30:09.959302Z",
     "shell.execute_reply": "2021-10-28T15:30:09.960643Z"
    },
    "papermill": {
     "duration": 0.069433,
     "end_time": "2021-10-28T15:30:09.961275",
     "exception": false,
     "start_time": "2021-10-28T15:30:09.891842",
     "status": "completed"
    },
    "tags": []
   },
   "outputs": [],
   "source": [
    "df_pivot = df.pivot_table(index=\"PRODUCT\", columns = \"RECORD_TIME\", values = \"LISTING_COUNT\")"
   ]
  },
  {
   "cell_type": "code",
   "execution_count": 6,
   "id": "union-huntington",
   "metadata": {
    "execution": {
     "iopub.execute_input": "2021-10-28T15:30:10.020598Z",
     "iopub.status.busy": "2021-10-28T15:30:10.018319Z",
     "iopub.status.idle": "2021-10-28T15:30:10.024007Z",
     "shell.execute_reply": "2021-10-28T15:30:10.025365Z"
    },
    "papermill": {
     "duration": 0.042005,
     "end_time": "2021-10-28T15:30:10.025794",
     "exception": false,
     "start_time": "2021-10-28T15:30:09.983789",
     "status": "completed"
    },
    "tags": []
   },
   "outputs": [],
   "source": [
    "df_pivot.columns = [\"stamp_1\", \"stamp_2\"]\n",
    "df_pivot_diff = df_pivot.diff(axis=1)"
   ]
  },
  {
   "cell_type": "code",
   "execution_count": 7,
   "id": "fifth-motion",
   "metadata": {
    "execution": {
     "iopub.execute_input": "2021-10-28T15:30:10.079756Z",
     "iopub.status.busy": "2021-10-28T15:30:10.077582Z",
     "iopub.status.idle": "2021-10-28T15:30:11.552903Z",
     "shell.execute_reply": "2021-10-28T15:30:11.554330Z"
    },
    "papermill": {
     "duration": 1.508076,
     "end_time": "2021-10-28T15:30:11.554763",
     "exception": false,
     "start_time": "2021-10-28T15:30:10.046687",
     "status": "completed"
    },
    "tags": []
   },
   "outputs": [
    {
     "data": {
      "text/plain": [
       "<AxesSubplot:ylabel='PRODUCT'>"
      ]
     },
     "execution_count": 7,
     "metadata": {},
     "output_type": "execute_result"
    },
    {
     "data": {
      "image/png": "[encoded data removed]",
      "text/plain": [
       "<Figure size 432x288 with 1 Axes>"
      ]
     },
     "metadata": {
      "needs_background": "light"
     },
     "output_type": "display_data"
    }
   ],
   "source": [
    "df_pivot_diff.sort_values(\"stamp_2\", ascending = False)[\"stamp_2\"].head(10).plot.barh()"
   ]
  },
  {
   "cell_type": "code",
   "execution_count": null,
   "id": "extra-executive",
   "metadata": {
    "papermill": {
     "duration": 0.022677,
     "end_time": "2021-10-28T15:30:11.600807",
     "exception": false,
     "start_time": "2021-10-28T15:30:11.578130",
     "status": "completed"
    },
    "tags": []
   },
   "outputs": [],
   "source": []
  }
 ],
 "metadata": {
  "kernelspec": {
   "display_name": "Python 3",
   "language": "python",
   "name": "python3"
  },
  "language_info": {
   "codemirror_mode": {
    "name": "ipython",
    "version": 3
   },
   "file_extension": ".py",
   "mimetype": "text/x-python",
   "name": "python",
   "nbconvert_exporter": "python",
   "pygments_lexer": "ipython3",
   "version": "3.9.5"
  },
  "papermill": {
   "default_parameters": {},
   "duration": 7.459908,
   "end_time": "2021-10-28T15:30:12.243484",
   "environment_variables": {},
   "exception": null,
   "input_path": "eBay_Overview.ipynb",
   "output_path": "eBay_Overview.ipynb",
   "parameters": {},
   "start_time": "2021-10-28T15:30:04.783576",
   "version": "2.3.3"
  }
 },
 "nbformat": 4,
 "nbformat_minor": 5
}