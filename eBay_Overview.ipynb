{
 "cells": [
  {
   "cell_type": "code",
   "execution_count": 1,
   "id": "reverse-picking",
   "metadata": {
    "execution": {
     "iopub.execute_input": "2021-12-10T05:00:07.647597Z",
     "iopub.status.busy": "2021-12-10T05:00:07.645567Z",
     "iopub.status.idle": "2021-12-10T05:00:08.597652Z",
     "shell.execute_reply": "2021-12-10T05:00:08.595457Z"
    },
    "papermill": {
     "duration": 0.998804,
     "end_time": "2021-12-10T05:00:08.598127",
     "exception": false,
     "start_time": "2021-12-10T05:00:07.599323",
     "status": "completed"
    },
    "tags": []
   },
   "outputs": [],
   "source": [
    "import pandas as pd\n",
    "import sqlite3"
   ]
  },
  {
   "cell_type": "code",
   "execution_count": 2,
   "id": "innovative-syndrome",
   "metadata": {
    "execution": {
     "iopub.execute_input": "2021-12-10T05:00:08.650871Z",
     "iopub.status.busy": "2021-12-10T05:00:08.648430Z",
     "iopub.status.idle": "2021-12-10T05:00:09.686127Z",
     "shell.execute_reply": "2021-12-10T05:00:09.688899Z"
    },
    "papermill": {
     "duration": 1.071145,
     "end_time": "2021-12-10T05:00:09.689548",
     "exception": false,
     "start_time": "2021-12-10T05:00:08.618403",
     "status": "completed"
    },
    "tags": []
   },
   "outputs": [],
   "source": [
    "timestamps = pd.read_sql(\"select distinct record_time from EBAY_TOP_BERLIN order by record_time desc limit 2\", sqlite3.connect(\"UsedObjects.db\"))"
   ]
  },
  {
   "cell_type": "code",
   "execution_count": 3,
   "id": "periodic-identification",
   "metadata": {
    "execution": {
     "iopub.execute_input": "2021-12-10T05:00:09.786083Z",
     "iopub.status.busy": "2021-12-10T05:00:09.783589Z",
     "iopub.status.idle": "2021-12-10T05:00:09.807220Z",
     "shell.execute_reply": "2021-12-10T05:00:09.808673Z"
    },
    "papermill": {
     "duration": 0.096488,
     "end_time": "2021-12-10T05:00:09.809270",
     "exception": false,
     "start_time": "2021-12-10T05:00:09.712782",
     "status": "completed"
    },
    "tags": []
   },
   "outputs": [
    {
     "data": {
      "text/html": [
       "<div>\n",
       "<style scoped>\n",
       "    .dataframe tbody tr th:only-of-type {\n",
       "        vertical-align: middle;\n",
       "    }\n",
       "\n",
       "    .dataframe tbody tr th {\n",
       "        vertical-align: top;\n",
       "    }\n",
       "\n",
       "    .dataframe thead th {\n",
       "        text-align: right;\n",
       "    }\n",
       "</style>\n",
       "<table border=\"1\" class=\"dataframe\">\n",
       "  <thead>\n",
       "    <tr style=\"text-align: right;\">\n",
       "      <th></th>\n",
       "      <th>RECORD_TIME</th>\n",
       "    </tr>\n",
       "  </thead>\n",
       "  <tbody>\n",
       "    <tr>\n",
       "      <th>0</th>\n",
       "      <td>2021-12-10 06:00</td>\n",
       "    </tr>\n",
       "    <tr>\n",
       "      <th>1</th>\n",
       "      <td>2021-12-10 05:30</td>\n",
       "    </tr>\n",
       "  </tbody>\n",
       "</table>\n",
       "</div>"
      ],
      "text/plain": [
       "        RECORD_TIME\n",
       "0  2021-12-10 06:00\n",
       "1  2021-12-10 05:30"
      ]
     },
     "execution_count": 3,
     "metadata": {},
     "output_type": "execute_result"
    }
   ],
   "source": [
    "timestamps"
   ]
  },
  {
   "cell_type": "code",
   "execution_count": 4,
   "id": "alternate-victory",
   "metadata": {
    "execution": {
     "iopub.execute_input": "2021-12-10T05:00:09.865968Z",
     "iopub.status.busy": "2021-12-10T05:00:09.863737Z",
     "iopub.status.idle": "2021-12-10T05:00:11.350769Z",
     "shell.execute_reply": "2021-12-10T05:00:11.354249Z"
    },
    "papermill": {
     "duration": 1.524025,
     "end_time": "2021-12-10T05:00:11.355026",
     "exception": false,
     "start_time": "2021-12-10T05:00:09.831001",
     "status": "completed"
    },
    "tags": []
   },
   "outputs": [],
   "source": [
    "df = pd.read_sql(\"select * from EBAY_TOP_BERLIN where record_time in (select distinct record_time from EBAY_TOP_BERLIN order by record_time desc limit 2)\", sqlite3.connect(\"UsedObjects.db\"))"
   ]
  },
  {
   "cell_type": "code",
   "execution_count": 5,
   "id": "popular-active",
   "metadata": {
    "execution": {
     "iopub.execute_input": "2021-12-10T05:00:11.476475Z",
     "iopub.status.busy": "2021-12-10T05:00:11.453076Z",
     "iopub.status.idle": "2021-12-10T05:00:11.506493Z",
     "shell.execute_reply": "2021-12-10T05:00:11.509215Z"
    },
    "papermill": {
     "duration": 0.125295,
     "end_time": "2021-12-10T05:00:11.509949",
     "exception": false,
     "start_time": "2021-12-10T05:00:11.384654",
     "status": "completed"
    },
    "tags": []
   },
   "outputs": [],
   "source": [
    "df_pivot = df.pivot_table(index=\"PRODUCT\", columns = \"RECORD_TIME\", values = \"LISTING_COUNT\")"
   ]
  },
  {
   "cell_type": "code",
   "execution_count": 6,
   "id": "union-huntington",
   "metadata": {
    "execution": {
     "iopub.execute_input": "2021-12-10T05:00:11.594184Z",
     "iopub.status.busy": "2021-12-10T05:00:11.590884Z",
     "iopub.status.idle": "2021-12-10T05:00:11.600177Z",
     "shell.execute_reply": "2021-12-10T05:00:11.602761Z"
    },
    "papermill": {
     "duration": 0.069512,
     "end_time": "2021-12-10T05:00:11.603575",
     "exception": false,
     "start_time": "2021-12-10T05:00:11.534063",
     "status": "completed"
    },
    "tags": []
   },
   "outputs": [],
   "source": [
    "df_pivot.columns = [\"stamp_1\", \"stamp_2\"]\n",
    "df_pivot_diff = df_pivot.diff(axis=1)"
   ]
  },
  {
   "cell_type": "code",
   "execution_count": 7,
   "id": "fifth-motion",
   "metadata": {
    "execution": {
     "iopub.execute_input": "2021-12-10T05:00:11.693646Z",
     "iopub.status.busy": "2021-12-10T05:00:11.680408Z",
     "iopub.status.idle": "2021-12-10T05:00:13.387122Z",
     "shell.execute_reply": "2021-12-10T05:00:13.388390Z"
    },
    "papermill": {
     "duration": 1.756105,
     "end_time": "2021-12-10T05:00:13.388906",
     "exception": false,
     "start_time": "2021-12-10T05:00:11.632801",
     "status": "completed"
    },
    "tags": []
   },
   "outputs": [
    {
     "data": {
      "text/plain": [
       "<AxesSubplot:ylabel='PRODUCT'>"
      ]
     },
     "execution_count": 7,
     "metadata": {},
     "output_type": "execute_result"
    },
    {
     "data": {
      "image/png": "[encoded data removed]",
      "text/plain": [
       "<Figure size 432x288 with 1 Axes>"
      ]
     },
     "metadata": {
      "needs_background": "light"
     },
     "output_type": "display_data"
    }
   ],
   "source": [
    "df_pivot_diff.sort_values(\"stamp_2\", ascending = False)[\"stamp_2\"].head(10).plot.barh()"
   ]
  },
  {
   "cell_type": "code",
   "execution_count": null,
   "id": "extra-executive",
   "metadata": {
    "papermill": {
     "duration": 0.021816,
     "end_time": "2021-12-10T05:00:13.435298",
     "exception": false,
     "start_time": "2021-12-10T05:00:13.413482",
     "status": "completed"
    },
    "tags": []
   },
   "outputs": [],
   "source": []
  }
 ],
 "metadata": {
  "kernelspec": {
   "display_name": "Python 3",
   "language": "python",
   "name": "python3"
  },
  "language_info": {
   "codemirror_mode": {
    "name": "ipython",
    "version": 3
   },
   "file_extension": ".py",
   "mimetype": "text/x-python",
   "name": "python",
   "nbconvert_exporter": "python",
   "pygments_lexer": "ipython3",
   "version": "3.9.5"
  },
  "papermill": {
   "default_parameters": {},
   "duration": 9.956319,
   "end_time": "2021-12-10T05:00:14.776258",
   "environment_variables": {},
   "exception": null,
   "input_path": "eBay_Overview.ipynb",
   "output_path": "eBay_Overview.ipynb",
   "parameters": {},
   "start_time": "2021-12-10T05:00:04.819939",
   "version": "2.3.3"
  }
 },
 "nbformat": 4,
 "nbformat_minor": 5
}