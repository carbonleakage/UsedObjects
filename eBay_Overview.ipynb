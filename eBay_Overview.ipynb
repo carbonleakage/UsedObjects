{
 "cells": [
  {
   "cell_type": "code",
   "execution_count": 1,
   "id": "reverse-picking",
   "metadata": {
    "execution": {
     "iopub.execute_input": "2021-09-03T11:00:06.648784Z",
     "iopub.status.busy": "2021-09-03T11:00:06.646793Z",
     "iopub.status.idle": "2021-09-03T11:00:07.452664Z",
     "shell.execute_reply": "2021-09-03T11:00:07.453901Z"
    },
    "papermill": {
     "duration": 0.857371,
     "end_time": "2021-09-03T11:00:07.454527",
     "exception": false,
     "start_time": "2021-09-03T11:00:06.597156",
     "status": "completed"
    },
    "tags": []
   },
   "outputs": [],
   "source": [
    "import pandas as pd\n",
    "import sqlite3"
   ]
  },
  {
   "cell_type": "code",
   "execution_count": 2,
   "id": "innovative-syndrome",
   "metadata": {
    "execution": {
     "iopub.execute_input": "2021-09-03T11:00:07.505811Z",
     "iopub.status.busy": "2021-09-03T11:00:07.503970Z",
     "iopub.status.idle": "2021-09-03T11:00:07.701495Z",
     "shell.execute_reply": "2021-09-03T11:00:07.702756Z"
    },
    "papermill": {
     "duration": 0.227117,
     "end_time": "2021-09-03T11:00:07.703241",
     "exception": false,
     "start_time": "2021-09-03T11:00:07.476124",
     "status": "completed"
    },
    "tags": []
   },
   "outputs": [],
   "source": [
    "timestamps = pd.read_sql(\"select distinct record_time from EBAY_TOP_BERLIN order by record_time desc limit 2\", sqlite3.connect(\"UsedObjects.db\"))"
   ]
  },
  {
   "cell_type": "code",
   "execution_count": 3,
   "id": "periodic-identification",
   "metadata": {
    "execution": {
     "iopub.execute_input": "2021-09-03T11:00:07.770170Z",
     "iopub.status.busy": "2021-09-03T11:00:07.768166Z",
     "iopub.status.idle": "2021-09-03T11:00:07.788277Z",
     "shell.execute_reply": "2021-09-03T11:00:07.789607Z"
    },
    "papermill": {
     "duration": 0.067209,
     "end_time": "2021-09-03T11:00:07.790029",
     "exception": false,
     "start_time": "2021-09-03T11:00:07.722820",
     "status": "completed"
    },
    "tags": []
   },
   "outputs": [
    {
     "data": {
      "text/html": [
       "<div>\n",
       "<style scoped>\n",
       "    .dataframe tbody tr th:only-of-type {\n",
       "        vertical-align: middle;\n",
       "    }\n",
       "\n",
       "    .dataframe tbody tr th {\n",
       "        vertical-align: top;\n",
       "    }\n",
       "\n",
       "    .dataframe thead th {\n",
       "        text-align: right;\n",
       "    }\n",
       "</style>\n",
       "<table border=\"1\" class=\"dataframe\">\n",
       "  <thead>\n",
       "    <tr style=\"text-align: right;\">\n",
       "      <th></th>\n",
       "      <th>RECORD_TIME</th>\n",
       "    </tr>\n",
       "  </thead>\n",
       "  <tbody>\n",
       "    <tr>\n",
       "      <th>0</th>\n",
       "      <td>2021-09-03 13:00</td>\n",
       "    </tr>\n",
       "    <tr>\n",
       "      <th>1</th>\n",
       "      <td>2021-09-03 12:30</td>\n",
       "    </tr>\n",
       "  </tbody>\n",
       "</table>\n",
       "</div>"
      ],
      "text/plain": [
       "        RECORD_TIME\n",
       "0  2021-09-03 13:00\n",
       "1  2021-09-03 12:30"
      ]
     },
     "execution_count": 3,
     "metadata": {},
     "output_type": "execute_result"
    }
   ],
   "source": [
    "timestamps"
   ]
  },
  {
   "cell_type": "code",
   "execution_count": 4,
   "id": "alternate-victory",
   "metadata": {
    "execution": {
     "iopub.execute_input": "2021-09-03T11:00:07.842157Z",
     "iopub.status.busy": "2021-09-03T11:00:07.839895Z",
     "iopub.status.idle": "2021-09-03T11:00:08.127945Z",
     "shell.execute_reply": "2021-09-03T11:00:08.129332Z"
    },
    "papermill": {
     "duration": 0.31841,
     "end_time": "2021-09-03T11:00:08.129780",
     "exception": false,
     "start_time": "2021-09-03T11:00:07.811370",
     "status": "completed"
    },
    "tags": []
   },
   "outputs": [],
   "source": [
    "df = pd.read_sql(\"select * from EBAY_TOP_BERLIN where record_time in (select distinct record_time from EBAY_TOP_BERLIN order by record_time desc limit 2)\", sqlite3.connect(\"UsedObjects.db\"))"
   ]
  },
  {
   "cell_type": "code",
   "execution_count": 5,
   "id": "popular-active",
   "metadata": {
    "execution": {
     "iopub.execute_input": "2021-09-03T11:00:08.212671Z",
     "iopub.status.busy": "2021-09-03T11:00:08.198357Z",
     "iopub.status.idle": "2021-09-03T11:00:08.228015Z",
     "shell.execute_reply": "2021-09-03T11:00:08.229205Z"
    },
    "papermill": {
     "duration": 0.073565,
     "end_time": "2021-09-03T11:00:08.229606",
     "exception": false,
     "start_time": "2021-09-03T11:00:08.156041",
     "status": "completed"
    },
    "tags": []
   },
   "outputs": [],
   "source": [
    "df_pivot = df.pivot_table(index=\"PRODUCT\", columns = \"RECORD_TIME\", values = \"LISTING_COUNT\")"
   ]
  },
  {
   "cell_type": "code",
   "execution_count": 6,
   "id": "union-huntington",
   "metadata": {
    "execution": {
     "iopub.execute_input": "2021-09-03T11:00:08.290074Z",
     "iopub.status.busy": "2021-09-03T11:00:08.287614Z",
     "iopub.status.idle": "2021-09-03T11:00:08.293322Z",
     "shell.execute_reply": "2021-09-03T11:00:08.294590Z"
    },
    "papermill": {
     "duration": 0.042061,
     "end_time": "2021-09-03T11:00:08.295064",
     "exception": false,
     "start_time": "2021-09-03T11:00:08.253003",
     "status": "completed"
    },
    "tags": []
   },
   "outputs": [],
   "source": [
    "df_pivot.columns = [\"stamp_1\", \"stamp_2\"]\n",
    "df_pivot_diff = df_pivot.diff(axis=1)"
   ]
  },
  {
   "cell_type": "code",
   "execution_count": 7,
   "id": "fifth-motion",
   "metadata": {
    "execution": {
     "iopub.execute_input": "2021-09-03T11:00:08.349547Z",
     "iopub.status.busy": "2021-09-03T11:00:08.347180Z",
     "iopub.status.idle": "2021-09-03T11:00:09.870964Z",
     "shell.execute_reply": "2021-09-03T11:00:09.872227Z"
    },
    "papermill": {
     "duration": 1.557429,
     "end_time": "2021-09-03T11:00:09.872690",
     "exception": false,
     "start_time": "2021-09-03T11:00:08.315261",
     "status": "completed"
    },
    "tags": []
   },
   "outputs": [
    {
     "data": {
      "text/plain": [
       "<AxesSubplot:ylabel='PRODUCT'>"
      ]
     },
     "execution_count": 7,
     "metadata": {},
     "output_type": "execute_result"
    },
    {
     "data": {
      "image/png": "[encoded data removed]",
      "text/plain": [
       "<Figure size 432x288 with 1 Axes>"
      ]
     },
     "metadata": {
      "needs_background": "light"
     },
     "output_type": "display_data"
    }
   ],
   "source": [
    "df_pivot_diff.sort_values(\"stamp_2\", ascending = False)[\"stamp_2\"].head(10).plot.barh()"
   ]
  },
  {
   "cell_type": "code",
   "execution_count": null,
   "id": "extra-executive",
   "metadata": {
    "papermill": {
     "duration": 0.022324,
     "end_time": "2021-09-03T11:00:09.918796",
     "exception": false,
     "start_time": "2021-09-03T11:00:09.896472",
     "status": "completed"
    },
    "tags": []
   },
   "outputs": [],
   "source": []
  }
 ],
 "metadata": {
  "kernelspec": {
   "display_name": "Python 3",
   "language": "python",
   "name": "python3"
  },
  "language_info": {
   "codemirror_mode": {
    "name": "ipython",
    "version": 3
   },
   "file_extension": ".py",
   "mimetype": "text/x-python",
   "name": "python",
   "nbconvert_exporter": "python",
   "pygments_lexer": "ipython3",
   "version": "3.9.5"
  },
  "papermill": {
   "default_parameters": {},
   "duration": 6.36881,
   "end_time": "2021-09-03T11:00:10.562125",
   "environment_variables": {},
   "exception": null,
   "input_path": "eBay_Overview.ipynb",
   "output_path": "eBay_Overview.ipynb",
   "parameters": {},
   "start_time": "2021-09-03T11:00:04.193315",
   "version": "2.3.3"
  }
 },
 "nbformat": 4,
 "nbformat_minor": 5
}