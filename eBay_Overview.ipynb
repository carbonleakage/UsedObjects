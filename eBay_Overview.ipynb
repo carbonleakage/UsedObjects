{
 "cells": [
  {
   "cell_type": "code",
   "execution_count": 1,
   "id": "reverse-picking",
   "metadata": {
    "execution": {
     "iopub.execute_input": "2021-11-03T10:30:07.865166Z",
     "iopub.status.busy": "2021-11-03T10:30:07.862395Z",
     "iopub.status.idle": "2021-11-03T10:30:08.833697Z",
     "shell.execute_reply": "2021-11-03T10:30:08.835323Z"
    },
    "papermill": {
     "duration": 1.019201,
     "end_time": "2021-11-03T10:30:08.836072",
     "exception": false,
     "start_time": "2021-11-03T10:30:07.816871",
     "status": "completed"
    },
    "tags": []
   },
   "outputs": [],
   "source": [
    "import pandas as pd\n",
    "import sqlite3"
   ]
  },
  {
   "cell_type": "code",
   "execution_count": 2,
   "id": "innovative-syndrome",
   "metadata": {
    "execution": {
     "iopub.execute_input": "2021-11-03T10:30:08.897156Z",
     "iopub.status.busy": "2021-11-03T10:30:08.894754Z",
     "iopub.status.idle": "2021-11-03T10:30:09.620037Z",
     "shell.execute_reply": "2021-11-03T10:30:09.621413Z"
    },
    "papermill": {
     "duration": 0.758467,
     "end_time": "2021-11-03T10:30:09.621852",
     "exception": false,
     "start_time": "2021-11-03T10:30:08.863385",
     "status": "completed"
    },
    "tags": []
   },
   "outputs": [],
   "source": [
    "timestamps = pd.read_sql(\"select distinct record_time from EBAY_TOP_BERLIN order by record_time desc limit 2\", sqlite3.connect(\"UsedObjects.db\"))"
   ]
  },
  {
   "cell_type": "code",
   "execution_count": 3,
   "id": "periodic-identification",
   "metadata": {
    "execution": {
     "iopub.execute_input": "2021-11-03T10:30:09.689818Z",
     "iopub.status.busy": "2021-11-03T10:30:09.687024Z",
     "iopub.status.idle": "2021-11-03T10:30:09.709537Z",
     "shell.execute_reply": "2021-11-03T10:30:09.710921Z"
    },
    "papermill": {
     "duration": 0.070226,
     "end_time": "2021-11-03T10:30:09.711380",
     "exception": false,
     "start_time": "2021-11-03T10:30:09.641154",
     "status": "completed"
    },
    "tags": []
   },
   "outputs": [
    {
     "data": {
      "text/html": [
       "<div>\n",
       "<style scoped>\n",
       "    .dataframe tbody tr th:only-of-type {\n",
       "        vertical-align: middle;\n",
       "    }\n",
       "\n",
       "    .dataframe tbody tr th {\n",
       "        vertical-align: top;\n",
       "    }\n",
       "\n",
       "    .dataframe thead th {\n",
       "        text-align: right;\n",
       "    }\n",
       "</style>\n",
       "<table border=\"1\" class=\"dataframe\">\n",
       "  <thead>\n",
       "    <tr style=\"text-align: right;\">\n",
       "      <th></th>\n",
       "      <th>RECORD_TIME</th>\n",
       "    </tr>\n",
       "  </thead>\n",
       "  <tbody>\n",
       "    <tr>\n",
       "      <th>0</th>\n",
       "      <td>2021-11-03 11:30</td>\n",
       "    </tr>\n",
       "    <tr>\n",
       "      <th>1</th>\n",
       "      <td>2021-11-03 11:00</td>\n",
       "    </tr>\n",
       "  </tbody>\n",
       "</table>\n",
       "</div>"
      ],
      "text/plain": [
       "        RECORD_TIME\n",
       "0  2021-11-03 11:30\n",
       "1  2021-11-03 11:00"
      ]
     },
     "execution_count": 3,
     "metadata": {},
     "output_type": "execute_result"
    }
   ],
   "source": [
    "timestamps"
   ]
  },
  {
   "cell_type": "code",
   "execution_count": 4,
   "id": "alternate-victory",
   "metadata": {
    "execution": {
     "iopub.execute_input": "2021-11-03T10:30:09.766096Z",
     "iopub.status.busy": "2021-11-03T10:30:09.763606Z",
     "iopub.status.idle": "2021-11-03T10:30:10.784295Z",
     "shell.execute_reply": "2021-11-03T10:30:10.786062Z"
    },
    "papermill": {
     "duration": 1.054697,
     "end_time": "2021-11-03T10:30:10.786553",
     "exception": false,
     "start_time": "2021-11-03T10:30:09.731856",
     "status": "completed"
    },
    "tags": []
   },
   "outputs": [],
   "source": [
    "df = pd.read_sql(\"select * from EBAY_TOP_BERLIN where record_time in (select distinct record_time from EBAY_TOP_BERLIN order by record_time desc limit 2)\", sqlite3.connect(\"UsedObjects.db\"))"
   ]
  },
  {
   "cell_type": "code",
   "execution_count": 5,
   "id": "popular-active",
   "metadata": {
    "execution": {
     "iopub.execute_input": "2021-11-03T10:30:10.866634Z",
     "iopub.status.busy": "2021-11-03T10:30:10.852148Z",
     "iopub.status.idle": "2021-11-03T10:30:10.885853Z",
     "shell.execute_reply": "2021-11-03T10:30:10.887435Z"
    },
    "papermill": {
     "duration": 0.079453,
     "end_time": "2021-11-03T10:30:10.887928",
     "exception": false,
     "start_time": "2021-11-03T10:30:10.808475",
     "status": "completed"
    },
    "tags": []
   },
   "outputs": [],
   "source": [
    "df_pivot = df.pivot_table(index=\"PRODUCT\", columns = \"RECORD_TIME\", values = \"LISTING_COUNT\")"
   ]
  },
  {
   "cell_type": "code",
   "execution_count": 6,
   "id": "union-huntington",
   "metadata": {
    "execution": {
     "iopub.execute_input": "2021-11-03T10:30:10.950895Z",
     "iopub.status.busy": "2021-11-03T10:30:10.948539Z",
     "iopub.status.idle": "2021-11-03T10:30:10.954364Z",
     "shell.execute_reply": "2021-11-03T10:30:10.955999Z"
    },
    "papermill": {
     "duration": 0.0461,
     "end_time": "2021-11-03T10:30:10.956500",
     "exception": false,
     "start_time": "2021-11-03T10:30:10.910400",
     "status": "completed"
    },
    "tags": []
   },
   "outputs": [],
   "source": [
    "df_pivot.columns = [\"stamp_1\", \"stamp_2\"]\n",
    "df_pivot_diff = df_pivot.diff(axis=1)"
   ]
  },
  {
   "cell_type": "code",
   "execution_count": 7,
   "id": "fifth-motion",
   "metadata": {
    "execution": {
     "iopub.execute_input": "2021-11-03T10:30:11.016280Z",
     "iopub.status.busy": "2021-11-03T10:30:11.013650Z",
     "iopub.status.idle": "2021-11-03T10:30:12.796927Z",
     "shell.execute_reply": "2021-11-03T10:30:12.799721Z"
    },
    "papermill": {
     "duration": 1.821727,
     "end_time": "2021-11-03T10:30:12.800603",
     "exception": false,
     "start_time": "2021-11-03T10:30:10.978876",
     "status": "completed"
    },
    "tags": []
   },
   "outputs": [
    {
     "data": {
      "text/plain": [
       "<AxesSubplot:ylabel='PRODUCT'>"
      ]
     },
     "execution_count": 7,
     "metadata": {},
     "output_type": "execute_result"
    },
    {
     "data": {
      "image/png": "[encoded data removed]",
      "text/plain": [
       "<Figure size 432x288 with 1 Axes>"
      ]
     },
     "metadata": {
      "needs_background": "light"
     },
     "output_type": "display_data"
    }
   ],
   "source": [
    "df_pivot_diff.sort_values(\"stamp_2\", ascending = False)[\"stamp_2\"].head(10).plot.barh()"
   ]
  },
  {
   "cell_type": "code",
   "execution_count": null,
   "id": "extra-executive",
   "metadata": {
    "papermill": {
     "duration": 0.035476,
     "end_time": "2021-11-03T10:30:12.873499",
     "exception": false,
     "start_time": "2021-11-03T10:30:12.838023",
     "status": "completed"
    },
    "tags": []
   },
   "outputs": [],
   "source": []
  }
 ],
 "metadata": {
  "kernelspec": {
   "display_name": "Python 3",
   "language": "python",
   "name": "python3"
  },
  "language_info": {
   "codemirror_mode": {
    "name": "ipython",
    "version": 3
   },
   "file_extension": ".py",
   "mimetype": "text/x-python",
   "name": "python",
   "nbconvert_exporter": "python",
   "pygments_lexer": "ipython3",
   "version": "3.9.5"
  },
  "papermill": {
   "default_parameters": {},
   "duration": 8.668348,
   "end_time": "2021-11-03T10:30:13.731874",
   "environment_variables": {},
   "exception": null,
   "input_path": "eBay_Overview.ipynb",
   "output_path": "eBay_Overview.ipynb",
   "parameters": {},
   "start_time": "2021-11-03T10:30:05.063526",
   "version": "2.3.3"
  }
 },
 "nbformat": 4,
 "nbformat_minor": 5
}