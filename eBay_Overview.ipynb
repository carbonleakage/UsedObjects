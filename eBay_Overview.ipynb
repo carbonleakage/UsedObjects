{
 "cells": [
  {
   "cell_type": "code",
   "execution_count": 1,
   "id": "reverse-picking",
   "metadata": {
    "execution": {
     "iopub.execute_input": "2021-08-26T21:00:07.218230Z",
     "iopub.status.busy": "2021-08-26T21:00:07.216168Z",
     "iopub.status.idle": "2021-08-26T21:00:08.021447Z",
     "shell.execute_reply": "2021-08-26T21:00:08.022693Z"
    },
    "papermill": {
     "duration": 0.856196,
     "end_time": "2021-08-26T21:00:08.023311",
     "exception": false,
     "start_time": "2021-08-26T21:00:07.167115",
     "status": "completed"
    },
    "tags": []
   },
   "outputs": [],
   "source": [
    "import pandas as pd\n",
    "import sqlite3"
   ]
  },
  {
   "cell_type": "code",
   "execution_count": 2,
   "id": "innovative-syndrome",
   "metadata": {
    "execution": {
     "iopub.execute_input": "2021-08-26T21:00:08.075535Z",
     "iopub.status.busy": "2021-08-26T21:00:08.073382Z",
     "iopub.status.idle": "2021-08-26T21:00:08.210500Z",
     "shell.execute_reply": "2021-08-26T21:00:08.211704Z"
    },
    "papermill": {
     "duration": 0.166627,
     "end_time": "2021-08-26T21:00:08.212093",
     "exception": false,
     "start_time": "2021-08-26T21:00:08.045466",
     "status": "completed"
    },
    "tags": []
   },
   "outputs": [],
   "source": [
    "timestamps = pd.read_sql(\"select distinct record_time from EBAY_TOP_BERLIN order by record_time desc limit 2\", sqlite3.connect(\"UsedObjects.db\"))"
   ]
  },
  {
   "cell_type": "code",
   "execution_count": 3,
   "id": "periodic-identification",
   "metadata": {
    "execution": {
     "iopub.execute_input": "2021-08-26T21:00:08.275881Z",
     "iopub.status.busy": "2021-08-26T21:00:08.273877Z",
     "iopub.status.idle": "2021-08-26T21:00:08.295336Z",
     "shell.execute_reply": "2021-08-26T21:00:08.296635Z"
    },
    "papermill": {
     "duration": 0.065684,
     "end_time": "2021-08-26T21:00:08.297033",
     "exception": false,
     "start_time": "2021-08-26T21:00:08.231349",
     "status": "completed"
    },
    "tags": []
   },
   "outputs": [
    {
     "data": {
      "text/html": [
       "<div>\n",
       "<style scoped>\n",
       "    .dataframe tbody tr th:only-of-type {\n",
       "        vertical-align: middle;\n",
       "    }\n",
       "\n",
       "    .dataframe tbody tr th {\n",
       "        vertical-align: top;\n",
       "    }\n",
       "\n",
       "    .dataframe thead th {\n",
       "        text-align: right;\n",
       "    }\n",
       "</style>\n",
       "<table border=\"1\" class=\"dataframe\">\n",
       "  <thead>\n",
       "    <tr style=\"text-align: right;\">\n",
       "      <th></th>\n",
       "      <th>RECORD_TIME</th>\n",
       "    </tr>\n",
       "  </thead>\n",
       "  <tbody>\n",
       "    <tr>\n",
       "      <th>0</th>\n",
       "      <td>2021-08-26 23:00</td>\n",
       "    </tr>\n",
       "    <tr>\n",
       "      <th>1</th>\n",
       "      <td>2021-08-26 22:30</td>\n",
       "    </tr>\n",
       "  </tbody>\n",
       "</table>\n",
       "</div>"
      ],
      "text/plain": [
       "        RECORD_TIME\n",
       "0  2021-08-26 23:00\n",
       "1  2021-08-26 22:30"
      ]
     },
     "execution_count": 3,
     "metadata": {},
     "output_type": "execute_result"
    }
   ],
   "source": [
    "timestamps"
   ]
  },
  {
   "cell_type": "code",
   "execution_count": 4,
   "id": "alternate-victory",
   "metadata": {
    "execution": {
     "iopub.execute_input": "2021-08-26T21:00:08.347719Z",
     "iopub.status.busy": "2021-08-26T21:00:08.345878Z",
     "iopub.status.idle": "2021-08-26T21:00:08.546724Z",
     "shell.execute_reply": "2021-08-26T21:00:08.547939Z"
    },
    "papermill": {
     "duration": 0.230494,
     "end_time": "2021-08-26T21:00:08.548381",
     "exception": false,
     "start_time": "2021-08-26T21:00:08.317887",
     "status": "completed"
    },
    "tags": []
   },
   "outputs": [],
   "source": [
    "df = pd.read_sql(\"select * from EBAY_TOP_BERLIN where record_time in (select distinct record_time from EBAY_TOP_BERLIN order by record_time desc limit 2)\", sqlite3.connect(\"UsedObjects.db\"))"
   ]
  },
  {
   "cell_type": "code",
   "execution_count": 5,
   "id": "popular-active",
   "metadata": {
    "execution": {
     "iopub.execute_input": "2021-08-26T21:00:08.618134Z",
     "iopub.status.busy": "2021-08-26T21:00:08.606108Z",
     "iopub.status.idle": "2021-08-26T21:00:08.633867Z",
     "shell.execute_reply": "2021-08-26T21:00:08.635147Z"
    },
    "papermill": {
     "duration": 0.066957,
     "end_time": "2021-08-26T21:00:08.635552",
     "exception": false,
     "start_time": "2021-08-26T21:00:08.568595",
     "status": "completed"
    },
    "tags": []
   },
   "outputs": [],
   "source": [
    "df_pivot = df.pivot_table(index=\"PRODUCT\", columns = \"RECORD_TIME\", values = \"LISTING_COUNT\")"
   ]
  },
  {
   "cell_type": "code",
   "execution_count": 6,
   "id": "union-huntington",
   "metadata": {
    "execution": {
     "iopub.execute_input": "2021-08-26T21:00:08.713190Z",
     "iopub.status.busy": "2021-08-26T21:00:08.711106Z",
     "iopub.status.idle": "2021-08-26T21:00:08.716676Z",
     "shell.execute_reply": "2021-08-26T21:00:08.717882Z"
    },
    "papermill": {
     "duration": 0.047465,
     "end_time": "2021-08-26T21:00:08.718304",
     "exception": false,
     "start_time": "2021-08-26T21:00:08.670839",
     "status": "completed"
    },
    "tags": []
   },
   "outputs": [],
   "source": [
    "df_pivot.columns = [\"stamp_1\", \"stamp_2\"]\n",
    "df_pivot_diff = df_pivot.diff(axis=1)"
   ]
  },
  {
   "cell_type": "code",
   "execution_count": 7,
   "id": "fifth-motion",
   "metadata": {
    "execution": {
     "iopub.execute_input": "2021-08-26T21:00:08.774985Z",
     "iopub.status.busy": "2021-08-26T21:00:08.772382Z",
     "iopub.status.idle": "2021-08-26T21:00:10.245169Z",
     "shell.execute_reply": "2021-08-26T21:00:10.246459Z"
    },
    "papermill": {
     "duration": 1.506228,
     "end_time": "2021-08-26T21:00:10.246867",
     "exception": false,
     "start_time": "2021-08-26T21:00:08.740639",
     "status": "completed"
    },
    "tags": []
   },
   "outputs": [
    {
     "data": {
      "text/plain": [
       "<AxesSubplot:ylabel='PRODUCT'>"
      ]
     },
     "execution_count": 7,
     "metadata": {},
     "output_type": "execute_result"
    },
    {
     "data": {
      "image/png": "[encoded data removed]",
      "text/plain": [
       "<Figure size 432x288 with 1 Axes>"
      ]
     },
     "metadata": {
      "needs_background": "light"
     },
     "output_type": "display_data"
    }
   ],
   "source": [
    "df_pivot_diff.sort_values(\"stamp_2\", ascending = False)[\"stamp_2\"].head(10).plot.barh()"
   ]
  },
  {
   "cell_type": "code",
   "execution_count": null,
   "id": "extra-executive",
   "metadata": {
    "papermill": {
     "duration": 0.02193,
     "end_time": "2021-08-26T21:00:10.294271",
     "exception": false,
     "start_time": "2021-08-26T21:00:10.272341",
     "status": "completed"
    },
    "tags": []
   },
   "outputs": [],
   "source": []
  }
 ],
 "metadata": {
  "kernelspec": {
   "display_name": "Python 3",
   "language": "python",
   "name": "python3"
  },
  "language_info": {
   "codemirror_mode": {
    "name": "ipython",
    "version": 3
   },
   "file_extension": ".py",
   "mimetype": "text/x-python",
   "name": "python",
   "nbconvert_exporter": "python",
   "pygments_lexer": "ipython3",
   "version": "3.9.5"
  },
  "papermill": {
   "default_parameters": {},
   "duration": 6.823209,
   "end_time": "2021-08-26T21:00:11.591060",
   "environment_variables": {},
   "exception": null,
   "input_path": "eBay_Overview.ipynb",
   "output_path": "eBay_Overview.ipynb",
   "parameters": {},
   "start_time": "2021-08-26T21:00:04.767851",
   "version": "2.3.3"
  }
 },
 "nbformat": 4,
 "nbformat_minor": 5
}