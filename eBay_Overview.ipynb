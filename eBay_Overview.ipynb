{
 "cells": [
  {
   "cell_type": "code",
   "execution_count": 1,
   "id": "reverse-picking",
   "metadata": {
    "execution": {
     "iopub.execute_input": "2021-09-08T09:00:06.730310Z",
     "iopub.status.busy": "2021-09-08T09:00:06.728397Z",
     "iopub.status.idle": "2021-09-08T09:00:07.537892Z",
     "shell.execute_reply": "2021-09-08T09:00:07.539226Z"
    },
    "papermill": {
     "duration": 0.861438,
     "end_time": "2021-09-08T09:00:07.539860",
     "exception": false,
     "start_time": "2021-09-08T09:00:06.678422",
     "status": "completed"
    },
    "tags": []
   },
   "outputs": [],
   "source": [
    "import pandas as pd\n",
    "import sqlite3"
   ]
  },
  {
   "cell_type": "code",
   "execution_count": 2,
   "id": "innovative-syndrome",
   "metadata": {
    "execution": {
     "iopub.execute_input": "2021-09-08T09:00:07.592084Z",
     "iopub.status.busy": "2021-09-08T09:00:07.589997Z",
     "iopub.status.idle": "2021-09-08T09:00:07.823168Z",
     "shell.execute_reply": "2021-09-08T09:00:07.824494Z"
    },
    "papermill": {
     "duration": 0.262619,
     "end_time": "2021-09-08T09:00:07.824894",
     "exception": false,
     "start_time": "2021-09-08T09:00:07.562275",
     "status": "completed"
    },
    "tags": []
   },
   "outputs": [],
   "source": [
    "timestamps = pd.read_sql(\"select distinct record_time from EBAY_TOP_BERLIN order by record_time desc limit 2\", sqlite3.connect(\"UsedObjects.db\"))"
   ]
  },
  {
   "cell_type": "code",
   "execution_count": 3,
   "id": "periodic-identification",
   "metadata": {
    "execution": {
     "iopub.execute_input": "2021-09-08T09:00:07.889863Z",
     "iopub.status.busy": "2021-09-08T09:00:07.887656Z",
     "iopub.status.idle": "2021-09-08T09:00:07.907987Z",
     "shell.execute_reply": "2021-09-08T09:00:07.909113Z"
    },
    "papermill": {
     "duration": 0.065198,
     "end_time": "2021-09-08T09:00:07.909517",
     "exception": false,
     "start_time": "2021-09-08T09:00:07.844319",
     "status": "completed"
    },
    "tags": []
   },
   "outputs": [
    {
     "data": {
      "text/html": [
       "<div>\n",
       "<style scoped>\n",
       "    .dataframe tbody tr th:only-of-type {\n",
       "        vertical-align: middle;\n",
       "    }\n",
       "\n",
       "    .dataframe tbody tr th {\n",
       "        vertical-align: top;\n",
       "    }\n",
       "\n",
       "    .dataframe thead th {\n",
       "        text-align: right;\n",
       "    }\n",
       "</style>\n",
       "<table border=\"1\" class=\"dataframe\">\n",
       "  <thead>\n",
       "    <tr style=\"text-align: right;\">\n",
       "      <th></th>\n",
       "      <th>RECORD_TIME</th>\n",
       "    </tr>\n",
       "  </thead>\n",
       "  <tbody>\n",
       "    <tr>\n",
       "      <th>0</th>\n",
       "      <td>2021-09-08 11:00</td>\n",
       "    </tr>\n",
       "    <tr>\n",
       "      <th>1</th>\n",
       "      <td>2021-09-08 10:30</td>\n",
       "    </tr>\n",
       "  </tbody>\n",
       "</table>\n",
       "</div>"
      ],
      "text/plain": [
       "        RECORD_TIME\n",
       "0  2021-09-08 11:00\n",
       "1  2021-09-08 10:30"
      ]
     },
     "execution_count": 3,
     "metadata": {},
     "output_type": "execute_result"
    }
   ],
   "source": [
    "timestamps"
   ]
  },
  {
   "cell_type": "code",
   "execution_count": 4,
   "id": "alternate-victory",
   "metadata": {
    "execution": {
     "iopub.execute_input": "2021-09-08T09:00:07.962944Z",
     "iopub.status.busy": "2021-09-08T09:00:07.960630Z",
     "iopub.status.idle": "2021-09-08T09:00:08.303570Z",
     "shell.execute_reply": "2021-09-08T09:00:08.304788Z"
    },
    "papermill": {
     "duration": 0.37308,
     "end_time": "2021-09-08T09:00:08.305175",
     "exception": false,
     "start_time": "2021-09-08T09:00:07.932095",
     "status": "completed"
    },
    "tags": []
   },
   "outputs": [],
   "source": [
    "df = pd.read_sql(\"select * from EBAY_TOP_BERLIN where record_time in (select distinct record_time from EBAY_TOP_BERLIN order by record_time desc limit 2)\", sqlite3.connect(\"UsedObjects.db\"))"
   ]
  },
  {
   "cell_type": "code",
   "execution_count": 5,
   "id": "popular-active",
   "metadata": {
    "execution": {
     "iopub.execute_input": "2021-09-08T09:00:08.387353Z",
     "iopub.status.busy": "2021-09-08T09:00:08.375895Z",
     "iopub.status.idle": "2021-09-08T09:00:08.402706Z",
     "shell.execute_reply": "2021-09-08T09:00:08.403994Z"
    },
    "papermill": {
     "duration": 0.070434,
     "end_time": "2021-09-08T09:00:08.404389",
     "exception": false,
     "start_time": "2021-09-08T09:00:08.333955",
     "status": "completed"
    },
    "tags": []
   },
   "outputs": [],
   "source": [
    "df_pivot = df.pivot_table(index=\"PRODUCT\", columns = \"RECORD_TIME\", values = \"LISTING_COUNT\")"
   ]
  },
  {
   "cell_type": "code",
   "execution_count": 6,
   "id": "union-huntington",
   "metadata": {
    "execution": {
     "iopub.execute_input": "2021-09-08T09:00:08.459680Z",
     "iopub.status.busy": "2021-09-08T09:00:08.457590Z",
     "iopub.status.idle": "2021-09-08T09:00:08.462981Z",
     "shell.execute_reply": "2021-09-08T09:00:08.464187Z"
    },
    "papermill": {
     "duration": 0.04056,
     "end_time": "2021-09-08T09:00:08.464612",
     "exception": false,
     "start_time": "2021-09-08T09:00:08.424052",
     "status": "completed"
    },
    "tags": []
   },
   "outputs": [],
   "source": [
    "df_pivot.columns = [\"stamp_1\", \"stamp_2\"]\n",
    "df_pivot_diff = df_pivot.diff(axis=1)"
   ]
  },
  {
   "cell_type": "code",
   "execution_count": 7,
   "id": "fifth-motion",
   "metadata": {
    "execution": {
     "iopub.execute_input": "2021-09-08T09:00:08.518195Z",
     "iopub.status.busy": "2021-09-08T09:00:08.515850Z",
     "iopub.status.idle": "2021-09-08T09:00:09.994175Z",
     "shell.execute_reply": "2021-09-08T09:00:09.995528Z"
    },
    "papermill": {
     "duration": 1.511087,
     "end_time": "2021-09-08T09:00:09.995945",
     "exception": false,
     "start_time": "2021-09-08T09:00:08.484858",
     "status": "completed"
    },
    "tags": []
   },
   "outputs": [
    {
     "data": {
      "text/plain": [
       "<AxesSubplot:ylabel='PRODUCT'>"
      ]
     },
     "execution_count": 7,
     "metadata": {},
     "output_type": "execute_result"
    },
    {
     "data": {
      "image/png": "[encoded data removed]",
      "text/plain": [
       "<Figure size 432x288 with 1 Axes>"
      ]
     },
     "metadata": {
      "needs_background": "light"
     },
     "output_type": "display_data"
    }
   ],
   "source": [
    "df_pivot_diff.sort_values(\"stamp_2\", ascending = False)[\"stamp_2\"].head(10).plot.barh()"
   ]
  },
  {
   "cell_type": "code",
   "execution_count": null,
   "id": "extra-executive",
   "metadata": {
    "papermill": {
     "duration": 0.02206,
     "end_time": "2021-09-08T09:00:10.041967",
     "exception": false,
     "start_time": "2021-09-08T09:00:10.019907",
     "status": "completed"
    },
    "tags": []
   },
   "outputs": [],
   "source": []
  }
 ],
 "metadata": {
  "kernelspec": {
   "display_name": "Python 3",
   "language": "python",
   "name": "python3"
  },
  "language_info": {
   "codemirror_mode": {
    "name": "ipython",
    "version": 3
   },
   "file_extension": ".py",
   "mimetype": "text/x-python",
   "name": "python",
   "nbconvert_exporter": "python",
   "pygments_lexer": "ipython3",
   "version": "3.9.5"
  },
  "papermill": {
   "default_parameters": {},
   "duration": 6.410324,
   "end_time": "2021-09-08T09:00:10.685446",
   "environment_variables": {},
   "exception": null,
   "input_path": "eBay_Overview.ipynb",
   "output_path": "eBay_Overview.ipynb",
   "parameters": {},
   "start_time": "2021-09-08T09:00:04.275122",
   "version": "2.3.3"
  }
 },
 "nbformat": 4,
 "nbformat_minor": 5
}