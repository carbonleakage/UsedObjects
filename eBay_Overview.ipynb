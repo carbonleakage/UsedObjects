{
 "cells": [
  {
   "cell_type": "code",
   "execution_count": 1,
   "id": "reverse-picking",
   "metadata": {
    "execution": {
     "iopub.execute_input": "2021-12-16T01:00:07.548920Z",
     "iopub.status.busy": "2021-12-16T01:00:07.546579Z",
     "iopub.status.idle": "2021-12-16T01:00:08.501020Z",
     "shell.execute_reply": "2021-12-16T01:00:08.502610Z"
    },
    "papermill": {
     "duration": 1.006778,
     "end_time": "2021-12-16T01:00:08.503363",
     "exception": false,
     "start_time": "2021-12-16T01:00:07.496585",
     "status": "completed"
    },
    "tags": []
   },
   "outputs": [],
   "source": [
    "import pandas as pd\n",
    "import sqlite3"
   ]
  },
  {
   "cell_type": "code",
   "execution_count": 2,
   "id": "innovative-syndrome",
   "metadata": {
    "execution": {
     "iopub.execute_input": "2021-12-16T01:00:08.626976Z",
     "iopub.status.busy": "2021-12-16T01:00:08.624189Z",
     "iopub.status.idle": "2021-12-16T01:00:09.721103Z",
     "shell.execute_reply": "2021-12-16T01:00:09.722518Z"
    },
    "papermill": {
     "duration": 1.131767,
     "end_time": "2021-12-16T01:00:09.722952",
     "exception": false,
     "start_time": "2021-12-16T01:00:08.591185",
     "status": "completed"
    },
    "tags": []
   },
   "outputs": [],
   "source": [
    "timestamps = pd.read_sql(\"select distinct record_time from EBAY_TOP_BERLIN order by record_time desc limit 2\", sqlite3.connect(\"UsedObjects.db\"))"
   ]
  },
  {
   "cell_type": "code",
   "execution_count": 3,
   "id": "periodic-identification",
   "metadata": {
    "execution": {
     "iopub.execute_input": "2021-12-16T01:00:09.791272Z",
     "iopub.status.busy": "2021-12-16T01:00:09.788947Z",
     "iopub.status.idle": "2021-12-16T01:00:09.812376Z",
     "shell.execute_reply": "2021-12-16T01:00:09.813908Z"
    },
    "papermill": {
     "duration": 0.071374,
     "end_time": "2021-12-16T01:00:09.814389",
     "exception": false,
     "start_time": "2021-12-16T01:00:09.743015",
     "status": "completed"
    },
    "tags": []
   },
   "outputs": [
    {
     "data": {
      "text/html": [
       "<div>\n",
       "<style scoped>\n",
       "    .dataframe tbody tr th:only-of-type {\n",
       "        vertical-align: middle;\n",
       "    }\n",
       "\n",
       "    .dataframe tbody tr th {\n",
       "        vertical-align: top;\n",
       "    }\n",
       "\n",
       "    .dataframe thead th {\n",
       "        text-align: right;\n",
       "    }\n",
       "</style>\n",
       "<table border=\"1\" class=\"dataframe\">\n",
       "  <thead>\n",
       "    <tr style=\"text-align: right;\">\n",
       "      <th></th>\n",
       "      <th>RECORD_TIME</th>\n",
       "    </tr>\n",
       "  </thead>\n",
       "  <tbody>\n",
       "    <tr>\n",
       "      <th>0</th>\n",
       "      <td>2021-12-16 02:00</td>\n",
       "    </tr>\n",
       "    <tr>\n",
       "      <th>1</th>\n",
       "      <td>2021-12-16 01:30</td>\n",
       "    </tr>\n",
       "  </tbody>\n",
       "</table>\n",
       "</div>"
      ],
      "text/plain": [
       "        RECORD_TIME\n",
       "0  2021-12-16 02:00\n",
       "1  2021-12-16 01:30"
      ]
     },
     "execution_count": 3,
     "metadata": {},
     "output_type": "execute_result"
    }
   ],
   "source": [
    "timestamps"
   ]
  },
  {
   "cell_type": "code",
   "execution_count": 4,
   "id": "alternate-victory",
   "metadata": {
    "execution": {
     "iopub.execute_input": "2021-12-16T01:00:09.873832Z",
     "iopub.status.busy": "2021-12-16T01:00:09.871475Z",
     "iopub.status.idle": "2021-12-16T01:00:11.460593Z",
     "shell.execute_reply": "2021-12-16T01:00:11.462587Z"
    },
    "papermill": {
     "duration": 1.628336,
     "end_time": "2021-12-16T01:00:11.463050",
     "exception": false,
     "start_time": "2021-12-16T01:00:09.834714",
     "status": "completed"
    },
    "tags": []
   },
   "outputs": [],
   "source": [
    "df = pd.read_sql(\"select * from EBAY_TOP_BERLIN where record_time in (select distinct record_time from EBAY_TOP_BERLIN order by record_time desc limit 2)\", sqlite3.connect(\"UsedObjects.db\"))"
   ]
  },
  {
   "cell_type": "code",
   "execution_count": 5,
   "id": "popular-active",
   "metadata": {
    "execution": {
     "iopub.execute_input": "2021-12-16T01:00:11.528149Z",
     "iopub.status.busy": "2021-12-16T01:00:11.525882Z",
     "iopub.status.idle": "2021-12-16T01:00:11.557648Z",
     "shell.execute_reply": "2021-12-16T01:00:11.559223Z"
    },
    "papermill": {
     "duration": 0.076331,
     "end_time": "2021-12-16T01:00:11.559755",
     "exception": false,
     "start_time": "2021-12-16T01:00:11.483424",
     "status": "completed"
    },
    "tags": []
   },
   "outputs": [],
   "source": [
    "df_pivot = df.pivot_table(index=\"PRODUCT\", columns = \"RECORD_TIME\", values = \"LISTING_COUNT\")"
   ]
  },
  {
   "cell_type": "code",
   "execution_count": 6,
   "id": "union-huntington",
   "metadata": {
    "execution": {
     "iopub.execute_input": "2021-12-16T01:00:11.622375Z",
     "iopub.status.busy": "2021-12-16T01:00:11.620059Z",
     "iopub.status.idle": "2021-12-16T01:00:11.626001Z",
     "shell.execute_reply": "2021-12-16T01:00:11.627397Z"
    },
    "papermill": {
     "duration": 0.044173,
     "end_time": "2021-12-16T01:00:11.627833",
     "exception": false,
     "start_time": "2021-12-16T01:00:11.583660",
     "status": "completed"
    },
    "tags": []
   },
   "outputs": [],
   "source": [
    "df_pivot.columns = [\"stamp_1\", \"stamp_2\"]\n",
    "df_pivot_diff = df_pivot.diff(axis=1)"
   ]
  },
  {
   "cell_type": "code",
   "execution_count": 7,
   "id": "fifth-motion",
   "metadata": {
    "execution": {
     "iopub.execute_input": "2021-12-16T01:00:11.684361Z",
     "iopub.status.busy": "2021-12-16T01:00:11.682012Z",
     "iopub.status.idle": "2021-12-16T01:00:13.694450Z",
     "shell.execute_reply": "2021-12-16T01:00:13.695754Z"
    },
    "papermill": {
     "duration": 2.047913,
     "end_time": "2021-12-16T01:00:13.696169",
     "exception": false,
     "start_time": "2021-12-16T01:00:11.648256",
     "status": "completed"
    },
    "tags": []
   },
   "outputs": [
    {
     "data": {
      "text/plain": [
       "<AxesSubplot:ylabel='PRODUCT'>"
      ]
     },
     "execution_count": 7,
     "metadata": {},
     "output_type": "execute_result"
    },
    {
     "data": {
      "image/png": "[encoded data removed]",
      "text/plain": [
       "<Figure size 432x288 with 1 Axes>"
      ]
     },
     "metadata": {
      "needs_background": "light"
     },
     "output_type": "display_data"
    }
   ],
   "source": [
    "df_pivot_diff.sort_values(\"stamp_2\", ascending = False)[\"stamp_2\"].head(10).plot.barh()"
   ]
  },
  {
   "cell_type": "code",
   "execution_count": null,
   "id": "extra-executive",
   "metadata": {
    "papermill": {
     "duration": 0.059235,
     "end_time": "2021-12-16T01:00:13.788288",
     "exception": false,
     "start_time": "2021-12-16T01:00:13.729053",
     "status": "completed"
    },
    "tags": []
   },
   "outputs": [],
   "source": []
  }
 ],
 "metadata": {
  "kernelspec": {
   "display_name": "Python 3",
   "language": "python",
   "name": "python3"
  },
  "language_info": {
   "codemirror_mode": {
    "name": "ipython",
    "version": 3
   },
   "file_extension": ".py",
   "mimetype": "text/x-python",
   "name": "python",
   "nbconvert_exporter": "python",
   "pygments_lexer": "ipython3",
   "version": "3.9.5"
  },
  "papermill": {
   "default_parameters": {},
   "duration": 9.664853,
   "end_time": "2021-12-16T01:00:14.438248",
   "environment_variables": {},
   "exception": null,
   "input_path": "eBay_Overview.ipynb",
   "output_path": "eBay_Overview.ipynb",
   "parameters": {},
   "start_time": "2021-12-16T01:00:04.773395",
   "version": "2.3.3"
  }
 },
 "nbformat": 4,
 "nbformat_minor": 5
}