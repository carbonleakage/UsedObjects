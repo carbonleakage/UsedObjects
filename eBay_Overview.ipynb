{
 "cells": [
  {
   "cell_type": "code",
   "execution_count": 1,
   "id": "reverse-picking",
   "metadata": {
    "execution": {
     "iopub.execute_input": "2021-09-17T07:30:06.783452Z",
     "iopub.status.busy": "2021-09-17T07:30:06.781457Z",
     "iopub.status.idle": "2021-09-17T07:30:07.583476Z",
     "shell.execute_reply": "2021-09-17T07:30:07.584912Z"
    },
    "papermill": {
     "duration": 0.853813,
     "end_time": "2021-09-17T07:30:07.585586",
     "exception": false,
     "start_time": "2021-09-17T07:30:06.731773",
     "status": "completed"
    },
    "tags": []
   },
   "outputs": [],
   "source": [
    "import pandas as pd\n",
    "import sqlite3"
   ]
  },
  {
   "cell_type": "code",
   "execution_count": 2,
   "id": "innovative-syndrome",
   "metadata": {
    "execution": {
     "iopub.execute_input": "2021-09-17T07:30:07.636790Z",
     "iopub.status.busy": "2021-09-17T07:30:07.634396Z",
     "iopub.status.idle": "2021-09-17T07:30:07.945670Z",
     "shell.execute_reply": "2021-09-17T07:30:07.947009Z"
    },
    "papermill": {
     "duration": 0.341204,
     "end_time": "2021-09-17T07:30:07.947479",
     "exception": false,
     "start_time": "2021-09-17T07:30:07.606275",
     "status": "completed"
    },
    "tags": []
   },
   "outputs": [],
   "source": [
    "timestamps = pd.read_sql(\"select distinct record_time from EBAY_TOP_BERLIN order by record_time desc limit 2\", sqlite3.connect(\"UsedObjects.db\"))"
   ]
  },
  {
   "cell_type": "code",
   "execution_count": 3,
   "id": "periodic-identification",
   "metadata": {
    "execution": {
     "iopub.execute_input": "2021-09-17T07:30:08.016995Z",
     "iopub.status.busy": "2021-09-17T07:30:08.011935Z",
     "iopub.status.idle": "2021-09-17T07:30:08.031862Z",
     "shell.execute_reply": "2021-09-17T07:30:08.033176Z"
    },
    "papermill": {
     "duration": 0.066711,
     "end_time": "2021-09-17T07:30:08.033593",
     "exception": false,
     "start_time": "2021-09-17T07:30:07.966882",
     "status": "completed"
    },
    "tags": []
   },
   "outputs": [
    {
     "data": {
      "text/html": [
       "<div>\n",
       "<style scoped>\n",
       "    .dataframe tbody tr th:only-of-type {\n",
       "        vertical-align: middle;\n",
       "    }\n",
       "\n",
       "    .dataframe tbody tr th {\n",
       "        vertical-align: top;\n",
       "    }\n",
       "\n",
       "    .dataframe thead th {\n",
       "        text-align: right;\n",
       "    }\n",
       "</style>\n",
       "<table border=\"1\" class=\"dataframe\">\n",
       "  <thead>\n",
       "    <tr style=\"text-align: right;\">\n",
       "      <th></th>\n",
       "      <th>RECORD_TIME</th>\n",
       "    </tr>\n",
       "  </thead>\n",
       "  <tbody>\n",
       "    <tr>\n",
       "      <th>0</th>\n",
       "      <td>2021-09-17 09:30</td>\n",
       "    </tr>\n",
       "    <tr>\n",
       "      <th>1</th>\n",
       "      <td>2021-09-17 09:00</td>\n",
       "    </tr>\n",
       "  </tbody>\n",
       "</table>\n",
       "</div>"
      ],
      "text/plain": [
       "        RECORD_TIME\n",
       "0  2021-09-17 09:30\n",
       "1  2021-09-17 09:00"
      ]
     },
     "execution_count": 3,
     "metadata": {},
     "output_type": "execute_result"
    }
   ],
   "source": [
    "timestamps"
   ]
  },
  {
   "cell_type": "code",
   "execution_count": 4,
   "id": "alternate-victory",
   "metadata": {
    "execution": {
     "iopub.execute_input": "2021-09-17T07:30:08.084737Z",
     "iopub.status.busy": "2021-09-17T07:30:08.082894Z",
     "iopub.status.idle": "2021-09-17T07:30:08.539461Z",
     "shell.execute_reply": "2021-09-17T07:30:08.538056Z"
    },
    "papermill": {
     "duration": 0.485393,
     "end_time": "2021-09-17T07:30:08.539812",
     "exception": false,
     "start_time": "2021-09-17T07:30:08.054419",
     "status": "completed"
    },
    "tags": []
   },
   "outputs": [],
   "source": [
    "df = pd.read_sql(\"select * from EBAY_TOP_BERLIN where record_time in (select distinct record_time from EBAY_TOP_BERLIN order by record_time desc limit 2)\", sqlite3.connect(\"UsedObjects.db\"))"
   ]
  },
  {
   "cell_type": "code",
   "execution_count": 5,
   "id": "popular-active",
   "metadata": {
    "execution": {
     "iopub.execute_input": "2021-09-17T07:30:08.615831Z",
     "iopub.status.busy": "2021-09-17T07:30:08.608003Z",
     "iopub.status.idle": "2021-09-17T07:30:08.636189Z",
     "shell.execute_reply": "2021-09-17T07:30:08.637563Z"
    },
    "papermill": {
     "duration": 0.071993,
     "end_time": "2021-09-17T07:30:08.637998",
     "exception": false,
     "start_time": "2021-09-17T07:30:08.566005",
     "status": "completed"
    },
    "tags": []
   },
   "outputs": [],
   "source": [
    "df_pivot = df.pivot_table(index=\"PRODUCT\", columns = \"RECORD_TIME\", values = \"LISTING_COUNT\")"
   ]
  },
  {
   "cell_type": "code",
   "execution_count": 6,
   "id": "union-huntington",
   "metadata": {
    "execution": {
     "iopub.execute_input": "2021-09-17T07:30:08.694698Z",
     "iopub.status.busy": "2021-09-17T07:30:08.692646Z",
     "iopub.status.idle": "2021-09-17T07:30:08.697921Z",
     "shell.execute_reply": "2021-09-17T07:30:08.699180Z"
    },
    "papermill": {
     "duration": 0.041119,
     "end_time": "2021-09-17T07:30:08.699618",
     "exception": false,
     "start_time": "2021-09-17T07:30:08.658499",
     "status": "completed"
    },
    "tags": []
   },
   "outputs": [],
   "source": [
    "df_pivot.columns = [\"stamp_1\", \"stamp_2\"]\n",
    "df_pivot_diff = df_pivot.diff(axis=1)"
   ]
  },
  {
   "cell_type": "code",
   "execution_count": 7,
   "id": "fifth-motion",
   "metadata": {
    "execution": {
     "iopub.execute_input": "2021-09-17T07:30:08.753930Z",
     "iopub.status.busy": "2021-09-17T07:30:08.751569Z",
     "iopub.status.idle": "2021-09-17T07:30:10.271610Z",
     "shell.execute_reply": "2021-09-17T07:30:10.272878Z"
    },
    "papermill": {
     "duration": 1.553038,
     "end_time": "2021-09-17T07:30:10.273334",
     "exception": false,
     "start_time": "2021-09-17T07:30:08.720296",
     "status": "completed"
    },
    "tags": []
   },
   "outputs": [
    {
     "data": {
      "text/plain": [
       "<AxesSubplot:ylabel='PRODUCT'>"
      ]
     },
     "execution_count": 7,
     "metadata": {},
     "output_type": "execute_result"
    },
    {
     "data": {
      "image/png": "[encoded data removed]",
      "text/plain": [
       "<Figure size 432x288 with 1 Axes>"
      ]
     },
     "metadata": {
      "needs_background": "light"
     },
     "output_type": "display_data"
    }
   ],
   "source": [
    "df_pivot_diff.sort_values(\"stamp_2\", ascending = False)[\"stamp_2\"].head(10).plot.barh()"
   ]
  },
  {
   "cell_type": "code",
   "execution_count": null,
   "id": "extra-executive",
   "metadata": {
    "papermill": {
     "duration": 0.022562,
     "end_time": "2021-09-17T07:30:10.320570",
     "exception": false,
     "start_time": "2021-09-17T07:30:10.298008",
     "status": "completed"
    },
    "tags": []
   },
   "outputs": [],
   "source": []
  }
 ],
 "metadata": {
  "kernelspec": {
   "display_name": "Python 3",
   "language": "python",
   "name": "python3"
  },
  "language_info": {
   "codemirror_mode": {
    "name": "ipython",
    "version": 3
   },
   "file_extension": ".py",
   "mimetype": "text/x-python",
   "name": "python",
   "nbconvert_exporter": "python",
   "pygments_lexer": "ipython3",
   "version": "3.9.5"
  },
  "papermill": {
   "default_parameters": {},
   "duration": 6.621454,
   "end_time": "2021-09-17T07:30:10.963982",
   "environment_variables": {},
   "exception": null,
   "input_path": "eBay_Overview.ipynb",
   "output_path": "eBay_Overview.ipynb",
   "parameters": {},
   "start_time": "2021-09-17T07:30:04.342528",
   "version": "2.3.3"
  }
 },
 "nbformat": 4,
 "nbformat_minor": 5
}