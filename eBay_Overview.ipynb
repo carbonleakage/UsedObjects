{
 "cells": [
  {
   "cell_type": "code",
   "execution_count": 1,
   "id": "reverse-picking",
   "metadata": {
    "execution": {
     "iopub.execute_input": "2021-09-01T23:00:06.630968Z",
     "iopub.status.busy": "2021-09-01T23:00:06.628999Z",
     "iopub.status.idle": "2021-09-01T23:00:07.431939Z",
     "shell.execute_reply": "2021-09-01T23:00:07.433367Z"
    },
    "papermill": {
     "duration": 0.85533,
     "end_time": "2021-09-01T23:00:07.434041",
     "exception": false,
     "start_time": "2021-09-01T23:00:06.578711",
     "status": "completed"
    },
    "tags": []
   },
   "outputs": [],
   "source": [
    "import pandas as pd\n",
    "import sqlite3"
   ]
  },
  {
   "cell_type": "code",
   "execution_count": 2,
   "id": "innovative-syndrome",
   "metadata": {
    "execution": {
     "iopub.execute_input": "2021-09-01T23:00:07.484956Z",
     "iopub.status.busy": "2021-09-01T23:00:07.482536Z",
     "iopub.status.idle": "2021-09-01T23:00:07.668183Z",
     "shell.execute_reply": "2021-09-01T23:00:07.669442Z"
    },
    "papermill": {
     "duration": 0.215397,
     "end_time": "2021-09-01T23:00:07.669828",
     "exception": false,
     "start_time": "2021-09-01T23:00:07.454431",
     "status": "completed"
    },
    "tags": []
   },
   "outputs": [],
   "source": [
    "timestamps = pd.read_sql(\"select distinct record_time from EBAY_TOP_BERLIN order by record_time desc limit 2\", sqlite3.connect(\"UsedObjects.db\"))"
   ]
  },
  {
   "cell_type": "code",
   "execution_count": 3,
   "id": "periodic-identification",
   "metadata": {
    "execution": {
     "iopub.execute_input": "2021-09-01T23:00:07.733395Z",
     "iopub.status.busy": "2021-09-01T23:00:07.731362Z",
     "iopub.status.idle": "2021-09-01T23:00:07.752834Z",
     "shell.execute_reply": "2021-09-01T23:00:07.754059Z"
    },
    "papermill": {
     "duration": 0.065253,
     "end_time": "2021-09-01T23:00:07.754458",
     "exception": false,
     "start_time": "2021-09-01T23:00:07.689205",
     "status": "completed"
    },
    "tags": []
   },
   "outputs": [
    {
     "data": {
      "text/html": [
       "<div>\n",
       "<style scoped>\n",
       "    .dataframe tbody tr th:only-of-type {\n",
       "        vertical-align: middle;\n",
       "    }\n",
       "\n",
       "    .dataframe tbody tr th {\n",
       "        vertical-align: top;\n",
       "    }\n",
       "\n",
       "    .dataframe thead th {\n",
       "        text-align: right;\n",
       "    }\n",
       "</style>\n",
       "<table border=\"1\" class=\"dataframe\">\n",
       "  <thead>\n",
       "    <tr style=\"text-align: right;\">\n",
       "      <th></th>\n",
       "      <th>RECORD_TIME</th>\n",
       "    </tr>\n",
       "  </thead>\n",
       "  <tbody>\n",
       "    <tr>\n",
       "      <th>0</th>\n",
       "      <td>2021-09-02 01:00</td>\n",
       "    </tr>\n",
       "    <tr>\n",
       "      <th>1</th>\n",
       "      <td>2021-09-02 00:30</td>\n",
       "    </tr>\n",
       "  </tbody>\n",
       "</table>\n",
       "</div>"
      ],
      "text/plain": [
       "        RECORD_TIME\n",
       "0  2021-09-02 01:00\n",
       "1  2021-09-02 00:30"
      ]
     },
     "execution_count": 3,
     "metadata": {},
     "output_type": "execute_result"
    }
   ],
   "source": [
    "timestamps"
   ]
  },
  {
   "cell_type": "code",
   "execution_count": 4,
   "id": "alternate-victory",
   "metadata": {
    "execution": {
     "iopub.execute_input": "2021-09-01T23:00:07.808018Z",
     "iopub.status.busy": "2021-09-01T23:00:07.805640Z",
     "iopub.status.idle": "2021-09-01T23:00:08.082983Z",
     "shell.execute_reply": "2021-09-01T23:00:08.081545Z"
    },
    "papermill": {
     "duration": 0.306396,
     "end_time": "2021-09-01T23:00:08.083354",
     "exception": false,
     "start_time": "2021-09-01T23:00:07.776958",
     "status": "completed"
    },
    "tags": []
   },
   "outputs": [],
   "source": [
    "df = pd.read_sql(\"select * from EBAY_TOP_BERLIN where record_time in (select distinct record_time from EBAY_TOP_BERLIN order by record_time desc limit 2)\", sqlite3.connect(\"UsedObjects.db\"))"
   ]
  },
  {
   "cell_type": "code",
   "execution_count": 5,
   "id": "popular-active",
   "metadata": {
    "execution": {
     "iopub.execute_input": "2021-09-01T23:00:08.163583Z",
     "iopub.status.busy": "2021-09-01T23:00:08.151755Z",
     "iopub.status.idle": "2021-09-01T23:00:08.179850Z",
     "shell.execute_reply": "2021-09-01T23:00:08.181252Z"
    },
    "papermill": {
     "duration": 0.07247,
     "end_time": "2021-09-01T23:00:08.181687",
     "exception": false,
     "start_time": "2021-09-01T23:00:08.109217",
     "status": "completed"
    },
    "tags": []
   },
   "outputs": [],
   "source": [
    "df_pivot = df.pivot_table(index=\"PRODUCT\", columns = \"RECORD_TIME\", values = \"LISTING_COUNT\")"
   ]
  },
  {
   "cell_type": "code",
   "execution_count": 6,
   "id": "union-huntington",
   "metadata": {
    "execution": {
     "iopub.execute_input": "2021-09-01T23:00:08.240565Z",
     "iopub.status.busy": "2021-09-01T23:00:08.238022Z",
     "iopub.status.idle": "2021-09-01T23:00:08.243770Z",
     "shell.execute_reply": "2021-09-01T23:00:08.245055Z"
    },
    "papermill": {
     "duration": 0.041924,
     "end_time": "2021-09-01T23:00:08.245473",
     "exception": false,
     "start_time": "2021-09-01T23:00:08.203549",
     "status": "completed"
    },
    "tags": []
   },
   "outputs": [],
   "source": [
    "df_pivot.columns = [\"stamp_1\", \"stamp_2\"]\n",
    "df_pivot_diff = df_pivot.diff(axis=1)"
   ]
  },
  {
   "cell_type": "code",
   "execution_count": 7,
   "id": "fifth-motion",
   "metadata": {
    "execution": {
     "iopub.execute_input": "2021-09-01T23:00:08.299177Z",
     "iopub.status.busy": "2021-09-01T23:00:08.296744Z",
     "iopub.status.idle": "2021-09-01T23:00:09.804302Z",
     "shell.execute_reply": "2021-09-01T23:00:09.805587Z"
    },
    "papermill": {
     "duration": 1.539975,
     "end_time": "2021-09-01T23:00:09.806001",
     "exception": false,
     "start_time": "2021-09-01T23:00:08.266026",
     "status": "completed"
    },
    "tags": []
   },
   "outputs": [
    {
     "data": {
      "text/plain": [
       "<AxesSubplot:ylabel='PRODUCT'>"
      ]
     },
     "execution_count": 7,
     "metadata": {},
     "output_type": "execute_result"
    },
    {
     "data": {
      "image/png": "[encoded data removed]",
      "text/plain": [
       "<Figure size 432x288 with 1 Axes>"
      ]
     },
     "metadata": {
      "needs_background": "light"
     },
     "output_type": "display_data"
    }
   ],
   "source": [
    "df_pivot_diff.sort_values(\"stamp_2\", ascending = False)[\"stamp_2\"].head(10).plot.barh()"
   ]
  },
  {
   "cell_type": "code",
   "execution_count": null,
   "id": "extra-executive",
   "metadata": {
    "papermill": {
     "duration": 0.022317,
     "end_time": "2021-09-01T23:00:09.851346",
     "exception": false,
     "start_time": "2021-09-01T23:00:09.829029",
     "status": "completed"
    },
    "tags": []
   },
   "outputs": [],
   "source": []
  }
 ],
 "metadata": {
  "kernelspec": {
   "display_name": "Python 3",
   "language": "python",
   "name": "python3"
  },
  "language_info": {
   "codemirror_mode": {
    "name": "ipython",
    "version": 3
   },
   "file_extension": ".py",
   "mimetype": "text/x-python",
   "name": "python",
   "nbconvert_exporter": "python",
   "pygments_lexer": "ipython3",
   "version": "3.9.5"
  },
  "papermill": {
   "default_parameters": {},
   "duration": 6.819331,
   "end_time": "2021-09-01T23:00:11.005299",
   "environment_variables": {},
   "exception": null,
   "input_path": "eBay_Overview.ipynb",
   "output_path": "eBay_Overview.ipynb",
   "parameters": {},
   "start_time": "2021-09-01T23:00:04.185968",
   "version": "2.3.3"
  }
 },
 "nbformat": 4,
 "nbformat_minor": 5
}