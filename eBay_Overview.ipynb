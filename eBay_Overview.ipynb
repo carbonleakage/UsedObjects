{
 "cells": [
  {
   "cell_type": "code",
   "execution_count": 1,
   "id": "reverse-picking",
   "metadata": {
    "execution": {
     "iopub.execute_input": "2021-08-09T13:00:03.934009Z",
     "iopub.status.busy": "2021-08-09T13:00:03.933237Z",
     "iopub.status.idle": "2021-08-09T13:00:04.689684Z",
     "shell.execute_reply": "2021-08-09T13:00:04.688469Z"
    },
    "papermill": {
     "duration": 0.775278,
     "end_time": "2021-08-09T13:00:04.690008",
     "exception": false,
     "start_time": "2021-08-09T13:00:03.914730",
     "status": "completed"
    },
    "tags": []
   },
   "outputs": [],
   "source": [
    "import pandas as pd\n",
    "import sqlite3"
   ]
  },
  {
   "cell_type": "code",
   "execution_count": 2,
   "id": "innovative-syndrome",
   "metadata": {
    "execution": {
     "iopub.execute_input": "2021-08-09T13:00:04.713734Z",
     "iopub.status.busy": "2021-08-09T13:00:04.712962Z",
     "iopub.status.idle": "2021-08-09T13:00:05.032135Z",
     "shell.execute_reply": "2021-08-09T13:00:05.032674Z"
    },
    "papermill": {
     "duration": 0.33228,
     "end_time": "2021-08-09T13:00:05.032859",
     "exception": false,
     "start_time": "2021-08-09T13:00:04.700579",
     "status": "completed"
    },
    "tags": []
   },
   "outputs": [],
   "source": [
    "timestamps = pd.read_sql(\"select distinct record_time from EBAY_TOP_BERLIN order by record_time desc limit 2\", sqlite3.connect(\"UsedObjects.db\"))"
   ]
  },
  {
   "cell_type": "code",
   "execution_count": 3,
   "id": "periodic-identification",
   "metadata": {
    "execution": {
     "iopub.execute_input": "2021-08-09T13:00:05.064529Z",
     "iopub.status.busy": "2021-08-09T13:00:05.063736Z",
     "iopub.status.idle": "2021-08-09T13:00:05.075387Z",
     "shell.execute_reply": "2021-08-09T13:00:05.075922Z"
    },
    "papermill": {
     "duration": 0.035318,
     "end_time": "2021-08-09T13:00:05.076104",
     "exception": false,
     "start_time": "2021-08-09T13:00:05.040786",
     "status": "completed"
    },
    "tags": []
   },
   "outputs": [
    {
     "data": {
      "text/html": [
       "<div>\n",
       "<style scoped>\n",
       "    .dataframe tbody tr th:only-of-type {\n",
       "        vertical-align: middle;\n",
       "    }\n",
       "\n",
       "    .dataframe tbody tr th {\n",
       "        vertical-align: top;\n",
       "    }\n",
       "\n",
       "    .dataframe thead th {\n",
       "        text-align: right;\n",
       "    }\n",
       "</style>\n",
       "<table border=\"1\" class=\"dataframe\">\n",
       "  <thead>\n",
       "    <tr style=\"text-align: right;\">\n",
       "      <th></th>\n",
       "      <th>RECORD_TIME</th>\n",
       "    </tr>\n",
       "  </thead>\n",
       "  <tbody>\n",
       "    <tr>\n",
       "      <th>0</th>\n",
       "      <td>2021-08-09 15:00</td>\n",
       "    </tr>\n",
       "    <tr>\n",
       "      <th>1</th>\n",
       "      <td>2021-08-09 14:30</td>\n",
       "    </tr>\n",
       "  </tbody>\n",
       "</table>\n",
       "</div>"
      ],
      "text/plain": [
       "        RECORD_TIME\n",
       "0  2021-08-09 15:00\n",
       "1  2021-08-09 14:30"
      ]
     },
     "execution_count": 3,
     "metadata": {},
     "output_type": "execute_result"
    }
   ],
   "source": [
    "timestamps"
   ]
  },
  {
   "cell_type": "code",
   "execution_count": 4,
   "id": "alternate-victory",
   "metadata": {
    "execution": {
     "iopub.execute_input": "2021-08-09T13:00:05.104618Z",
     "iopub.status.busy": "2021-08-09T13:00:05.103854Z",
     "iopub.status.idle": "2021-08-09T13:00:05.121125Z",
     "shell.execute_reply": "2021-08-09T13:00:05.119405Z"
    },
    "papermill": {
     "duration": 0.036914,
     "end_time": "2021-08-09T13:00:05.121436",
     "exception": false,
     "start_time": "2021-08-09T13:00:05.084522",
     "status": "completed"
    },
    "tags": []
   },
   "outputs": [],
   "source": [
    "df = pd.read_sql(\"select * from EBAY_TOP_BERLIN where record_time in (select distinct record_time from EBAY_TOP_BERLIN order by record_time desc limit 2)\", sqlite3.connect(\"UsedObjects.db\"))"
   ]
  },
  {
   "cell_type": "code",
   "execution_count": 5,
   "id": "popular-active",
   "metadata": {
    "execution": {
     "iopub.execute_input": "2021-08-09T13:00:05.156338Z",
     "iopub.status.busy": "2021-08-09T13:00:05.152460Z",
     "iopub.status.idle": "2021-08-09T13:00:05.169881Z",
     "shell.execute_reply": "2021-08-09T13:00:05.170459Z"
    },
    "papermill": {
     "duration": 0.037839,
     "end_time": "2021-08-09T13:00:05.170654",
     "exception": false,
     "start_time": "2021-08-09T13:00:05.132815",
     "status": "completed"
    },
    "tags": []
   },
   "outputs": [],
   "source": [
    "df_pivot = df.pivot_table(index=\"PRODUCT\", columns = \"RECORD_TIME\", values = \"LISTING_COUNT\")"
   ]
  },
  {
   "cell_type": "code",
   "execution_count": 6,
   "id": "union-huntington",
   "metadata": {
    "execution": {
     "iopub.execute_input": "2021-08-09T13:00:05.202525Z",
     "iopub.status.busy": "2021-08-09T13:00:05.201801Z",
     "iopub.status.idle": "2021-08-09T13:00:05.208120Z",
     "shell.execute_reply": "2021-08-09T13:00:05.208660Z"
    },
    "papermill": {
     "duration": 0.029617,
     "end_time": "2021-08-09T13:00:05.208844",
     "exception": false,
     "start_time": "2021-08-09T13:00:05.179227",
     "status": "completed"
    },
    "tags": []
   },
   "outputs": [],
   "source": [
    "df_pivot.columns = [\"stamp_1\", \"stamp_2\"]\n",
    "df_pivot_diff = df_pivot.diff(axis=1)"
   ]
  },
  {
   "cell_type": "code",
   "execution_count": 7,
   "id": "fifth-motion",
   "metadata": {
    "execution": {
     "iopub.execute_input": "2021-08-09T13:00:05.238564Z",
     "iopub.status.busy": "2021-08-09T13:00:05.237734Z",
     "iopub.status.idle": "2021-08-09T13:00:05.930052Z",
     "shell.execute_reply": "2021-08-09T13:00:05.929478Z"
    },
    "papermill": {
     "duration": 0.712127,
     "end_time": "2021-08-09T13:00:05.930205",
     "exception": false,
     "start_time": "2021-08-09T13:00:05.218078",
     "status": "completed"
    },
    "tags": []
   },
   "outputs": [
    {
     "data": {
      "text/plain": [
       "<AxesSubplot:ylabel='PRODUCT'>"
      ]
     },
     "execution_count": 7,
     "metadata": {},
     "output_type": "execute_result"
    },
    {
     "data": {
      "image/png": "[encoded data removed]",
      "text/plain": [
       "<Figure size 432x288 with 1 Axes>"
      ]
     },
     "metadata": {
      "needs_background": "light"
     },
     "output_type": "display_data"
    }
   ],
   "source": [
    "df_pivot_diff.sort_values(\"stamp_2\", ascending = False)[\"stamp_2\"].head(10).plot.barh()"
   ]
  },
  {
   "cell_type": "code",
   "execution_count": null,
   "id": "extra-executive",
   "metadata": {
    "papermill": {
     "duration": 0.009249,
     "end_time": "2021-08-09T13:00:05.949142",
     "exception": false,
     "start_time": "2021-08-09T13:00:05.939893",
     "status": "completed"
    },
    "tags": []
   },
   "outputs": [],
   "source": []
  }
 ],
 "metadata": {
  "kernelspec": {
   "display_name": "Python 3",
   "language": "python",
   "name": "python3"
  },
  "language_info": {
   "codemirror_mode": {
    "name": "ipython",
    "version": 3
   },
   "file_extension": ".py",
   "mimetype": "text/x-python",
   "name": "python",
   "nbconvert_exporter": "python",
   "pygments_lexer": "ipython3",
   "version": "3.8.8"
  },
  "papermill": {
   "default_parameters": {},
   "duration": 4.491474,
   "end_time": "2021-08-09T13:00:06.692629",
   "environment_variables": {},
   "exception": null,
   "input_path": "/Users/saravananshanmugam/Carbonleakage_Git/UsedObjects/eBay_Overview.ipynb",
   "output_path": "/Users/saravananshanmugam/Carbonleakage_Git/UsedObjects/eBay_Overview.ipynb",
   "parameters": {},
   "start_time": "2021-08-09T13:00:02.201155",
   "version": "2.3.3"
  }
 },
 "nbformat": 4,
 "nbformat_minor": 5
}