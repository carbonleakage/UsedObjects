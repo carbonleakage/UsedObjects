{
 "cells": [
  {
   "cell_type": "code",
   "execution_count": 1,
   "id": "reverse-picking",
   "metadata": {
    "execution": {
     "iopub.execute_input": "2021-11-27T08:00:07.441125Z",
     "iopub.status.busy": "2021-11-27T08:00:07.439055Z",
     "iopub.status.idle": "2021-11-27T08:00:08.384414Z",
     "shell.execute_reply": "2021-11-27T08:00:08.386125Z"
    },
    "papermill": {
     "duration": 0.994923,
     "end_time": "2021-11-27T08:00:08.386875",
     "exception": false,
     "start_time": "2021-11-27T08:00:07.391952",
     "status": "completed"
    },
    "tags": []
   },
   "outputs": [],
   "source": [
    "import pandas as pd\n",
    "import sqlite3"
   ]
  },
  {
   "cell_type": "code",
   "execution_count": 2,
   "id": "innovative-syndrome",
   "metadata": {
    "execution": {
     "iopub.execute_input": "2021-11-27T08:00:08.448986Z",
     "iopub.status.busy": "2021-11-27T08:00:08.446724Z",
     "iopub.status.idle": "2021-11-27T08:00:09.367417Z",
     "shell.execute_reply": "2021-11-27T08:00:09.368833Z"
    },
    "papermill": {
     "duration": 0.953883,
     "end_time": "2021-11-27T08:00:09.369348",
     "exception": false,
     "start_time": "2021-11-27T08:00:08.415465",
     "status": "completed"
    },
    "tags": []
   },
   "outputs": [],
   "source": [
    "timestamps = pd.read_sql(\"select distinct record_time from EBAY_TOP_BERLIN order by record_time desc limit 2\", sqlite3.connect(\"UsedObjects.db\"))"
   ]
  },
  {
   "cell_type": "code",
   "execution_count": 3,
   "id": "periodic-identification",
   "metadata": {
    "execution": {
     "iopub.execute_input": "2021-11-27T08:00:09.442687Z",
     "iopub.status.busy": "2021-11-27T08:00:09.440214Z",
     "iopub.status.idle": "2021-11-27T08:00:09.465052Z",
     "shell.execute_reply": "2021-11-27T08:00:09.463123Z"
    },
    "papermill": {
     "duration": 0.074096,
     "end_time": "2021-11-27T08:00:09.465477",
     "exception": false,
     "start_time": "2021-11-27T08:00:09.391381",
     "status": "completed"
    },
    "tags": []
   },
   "outputs": [
    {
     "data": {
      "text/html": [
       "<div>\n",
       "<style scoped>\n",
       "    .dataframe tbody tr th:only-of-type {\n",
       "        vertical-align: middle;\n",
       "    }\n",
       "\n",
       "    .dataframe tbody tr th {\n",
       "        vertical-align: top;\n",
       "    }\n",
       "\n",
       "    .dataframe thead th {\n",
       "        text-align: right;\n",
       "    }\n",
       "</style>\n",
       "<table border=\"1\" class=\"dataframe\">\n",
       "  <thead>\n",
       "    <tr style=\"text-align: right;\">\n",
       "      <th></th>\n",
       "      <th>RECORD_TIME</th>\n",
       "    </tr>\n",
       "  </thead>\n",
       "  <tbody>\n",
       "    <tr>\n",
       "      <th>0</th>\n",
       "      <td>2021-11-27 09:00</td>\n",
       "    </tr>\n",
       "    <tr>\n",
       "      <th>1</th>\n",
       "      <td>2021-11-27 08:30</td>\n",
       "    </tr>\n",
       "  </tbody>\n",
       "</table>\n",
       "</div>"
      ],
      "text/plain": [
       "        RECORD_TIME\n",
       "0  2021-11-27 09:00\n",
       "1  2021-11-27 08:30"
      ]
     },
     "execution_count": 3,
     "metadata": {},
     "output_type": "execute_result"
    }
   ],
   "source": [
    "timestamps"
   ]
  },
  {
   "cell_type": "code",
   "execution_count": 4,
   "id": "alternate-victory",
   "metadata": {
    "execution": {
     "iopub.execute_input": "2021-11-27T08:00:09.522595Z",
     "iopub.status.busy": "2021-11-27T08:00:09.520397Z",
     "iopub.status.idle": "2021-11-27T08:00:10.847341Z",
     "shell.execute_reply": "2021-11-27T08:00:10.848626Z"
    },
    "papermill": {
     "duration": 1.361081,
     "end_time": "2021-11-27T08:00:10.849183",
     "exception": false,
     "start_time": "2021-11-27T08:00:09.488102",
     "status": "completed"
    },
    "tags": []
   },
   "outputs": [],
   "source": [
    "df = pd.read_sql(\"select * from EBAY_TOP_BERLIN where record_time in (select distinct record_time from EBAY_TOP_BERLIN order by record_time desc limit 2)\", sqlite3.connect(\"UsedObjects.db\"))"
   ]
  },
  {
   "cell_type": "code",
   "execution_count": 5,
   "id": "popular-active",
   "metadata": {
    "execution": {
     "iopub.execute_input": "2021-11-27T08:00:10.925599Z",
     "iopub.status.busy": "2021-11-27T08:00:10.910841Z",
     "iopub.status.idle": "2021-11-27T08:00:10.945983Z",
     "shell.execute_reply": "2021-11-27T08:00:10.947882Z"
    },
    "papermill": {
     "duration": 0.078191,
     "end_time": "2021-11-27T08:00:10.948371",
     "exception": false,
     "start_time": "2021-11-27T08:00:10.870180",
     "status": "completed"
    },
    "tags": []
   },
   "outputs": [],
   "source": [
    "df_pivot = df.pivot_table(index=\"PRODUCT\", columns = \"RECORD_TIME\", values = \"LISTING_COUNT\")"
   ]
  },
  {
   "cell_type": "code",
   "execution_count": 6,
   "id": "union-huntington",
   "metadata": {
    "execution": {
     "iopub.execute_input": "2021-11-27T08:00:11.009820Z",
     "iopub.status.busy": "2021-11-27T08:00:11.007349Z",
     "iopub.status.idle": "2021-11-27T08:00:11.013538Z",
     "shell.execute_reply": "2021-11-27T08:00:11.015094Z"
    },
    "papermill": {
     "duration": 0.046019,
     "end_time": "2021-11-27T08:00:11.015585",
     "exception": false,
     "start_time": "2021-11-27T08:00:10.969566",
     "status": "completed"
    },
    "tags": []
   },
   "outputs": [],
   "source": [
    "df_pivot.columns = [\"stamp_1\", \"stamp_2\"]\n",
    "df_pivot_diff = df_pivot.diff(axis=1)"
   ]
  },
  {
   "cell_type": "code",
   "execution_count": 7,
   "id": "fifth-motion",
   "metadata": {
    "execution": {
     "iopub.execute_input": "2021-11-27T08:00:11.074898Z",
     "iopub.status.busy": "2021-11-27T08:00:11.072370Z",
     "iopub.status.idle": "2021-11-27T08:00:13.016442Z",
     "shell.execute_reply": "2021-11-27T08:00:13.018213Z"
    },
    "papermill": {
     "duration": 1.981405,
     "end_time": "2021-11-27T08:00:13.018795",
     "exception": false,
     "start_time": "2021-11-27T08:00:11.037390",
     "status": "completed"
    },
    "tags": []
   },
   "outputs": [
    {
     "data": {
      "text/plain": [
       "<AxesSubplot:ylabel='PRODUCT'>"
      ]
     },
     "execution_count": 7,
     "metadata": {},
     "output_type": "execute_result"
    },
    {
     "data": {
      "image/png": "[encoded data removed]",
      "text/plain": [
       "<Figure size 432x288 with 1 Axes>"
      ]
     },
     "metadata": {
      "needs_background": "light"
     },
     "output_type": "display_data"
    }
   ],
   "source": [
    "df_pivot_diff.sort_values(\"stamp_2\", ascending = False)[\"stamp_2\"].head(10).plot.barh()"
   ]
  },
  {
   "cell_type": "code",
   "execution_count": null,
   "id": "extra-executive",
   "metadata": {
    "papermill": {
     "duration": 0.036559,
     "end_time": "2021-11-27T08:00:13.084305",
     "exception": false,
     "start_time": "2021-11-27T08:00:13.047746",
     "status": "completed"
    },
    "tags": []
   },
   "outputs": [],
   "source": []
  }
 ],
 "metadata": {
  "kernelspec": {
   "display_name": "Python 3",
   "language": "python",
   "name": "python3"
  },
  "language_info": {
   "codemirror_mode": {
    "name": "ipython",
    "version": 3
   },
   "file_extension": ".py",
   "mimetype": "text/x-python",
   "name": "python",
   "nbconvert_exporter": "python",
   "pygments_lexer": "ipython3",
   "version": "3.9.5"
  },
  "papermill": {
   "default_parameters": {},
   "duration": 9.928387,
   "end_time": "2021-11-27T08:00:14.584063",
   "environment_variables": {},
   "exception": null,
   "input_path": "eBay_Overview.ipynb",
   "output_path": "eBay_Overview.ipynb",
   "parameters": {},
   "start_time": "2021-11-27T08:00:04.655676",
   "version": "2.3.3"
  }
 },
 "nbformat": 4,
 "nbformat_minor": 5
}