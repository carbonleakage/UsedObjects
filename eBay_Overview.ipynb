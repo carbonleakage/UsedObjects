{
 "cells": [
  {
   "cell_type": "code",
   "execution_count": 1,
   "id": "reverse-picking",
   "metadata": {
    "execution": {
     "iopub.execute_input": "2021-12-07T05:00:08.200359Z",
     "iopub.status.busy": "2021-12-07T05:00:08.198205Z",
     "iopub.status.idle": "2021-12-07T05:00:09.118990Z",
     "shell.execute_reply": "2021-12-07T05:00:09.117122Z"
    },
    "papermill": {
     "duration": 0.967923,
     "end_time": "2021-12-07T05:00:09.119470",
     "exception": false,
     "start_time": "2021-12-07T05:00:08.151547",
     "status": "completed"
    },
    "tags": []
   },
   "outputs": [],
   "source": [
    "import pandas as pd\n",
    "import sqlite3"
   ]
  },
  {
   "cell_type": "code",
   "execution_count": 2,
   "id": "innovative-syndrome",
   "metadata": {
    "execution": {
     "iopub.execute_input": "2021-12-07T05:00:09.176549Z",
     "iopub.status.busy": "2021-12-07T05:00:09.174378Z",
     "iopub.status.idle": "2021-12-07T05:00:10.213802Z",
     "shell.execute_reply": "2021-12-07T05:00:10.216207Z"
    },
    "papermill": {
     "duration": 1.075816,
     "end_time": "2021-12-07T05:00:10.217150",
     "exception": false,
     "start_time": "2021-12-07T05:00:09.141334",
     "status": "completed"
    },
    "tags": []
   },
   "outputs": [],
   "source": [
    "timestamps = pd.read_sql(\"select distinct record_time from EBAY_TOP_BERLIN order by record_time desc limit 2\", sqlite3.connect(\"UsedObjects.db\"))"
   ]
  },
  {
   "cell_type": "code",
   "execution_count": 3,
   "id": "periodic-identification",
   "metadata": {
    "execution": {
     "iopub.execute_input": "2021-12-07T05:00:10.278870Z",
     "iopub.status.busy": "2021-12-07T05:00:10.276816Z",
     "iopub.status.idle": "2021-12-07T05:00:10.315650Z",
     "shell.execute_reply": "2021-12-07T05:00:10.317525Z"
    },
    "papermill": {
     "duration": 0.079684,
     "end_time": "2021-12-07T05:00:10.318060",
     "exception": false,
     "start_time": "2021-12-07T05:00:10.238376",
     "status": "completed"
    },
    "tags": []
   },
   "outputs": [
    {
     "data": {
      "text/html": [
       "<div>\n",
       "<style scoped>\n",
       "    .dataframe tbody tr th:only-of-type {\n",
       "        vertical-align: middle;\n",
       "    }\n",
       "\n",
       "    .dataframe tbody tr th {\n",
       "        vertical-align: top;\n",
       "    }\n",
       "\n",
       "    .dataframe thead th {\n",
       "        text-align: right;\n",
       "    }\n",
       "</style>\n",
       "<table border=\"1\" class=\"dataframe\">\n",
       "  <thead>\n",
       "    <tr style=\"text-align: right;\">\n",
       "      <th></th>\n",
       "      <th>RECORD_TIME</th>\n",
       "    </tr>\n",
       "  </thead>\n",
       "  <tbody>\n",
       "    <tr>\n",
       "      <th>0</th>\n",
       "      <td>2021-12-07 06:00</td>\n",
       "    </tr>\n",
       "    <tr>\n",
       "      <th>1</th>\n",
       "      <td>2021-12-07 05:30</td>\n",
       "    </tr>\n",
       "  </tbody>\n",
       "</table>\n",
       "</div>"
      ],
      "text/plain": [
       "        RECORD_TIME\n",
       "0  2021-12-07 06:00\n",
       "1  2021-12-07 05:30"
      ]
     },
     "execution_count": 3,
     "metadata": {},
     "output_type": "execute_result"
    }
   ],
   "source": [
    "timestamps"
   ]
  },
  {
   "cell_type": "code",
   "execution_count": 4,
   "id": "alternate-victory",
   "metadata": {
    "execution": {
     "iopub.execute_input": "2021-12-07T05:00:10.378079Z",
     "iopub.status.busy": "2021-12-07T05:00:10.375856Z",
     "iopub.status.idle": "2021-12-07T05:00:11.877205Z",
     "shell.execute_reply": "2021-12-07T05:00:11.878699Z"
    },
    "papermill": {
     "duration": 1.538246,
     "end_time": "2021-12-07T05:00:11.879167",
     "exception": false,
     "start_time": "2021-12-07T05:00:10.340921",
     "status": "completed"
    },
    "tags": []
   },
   "outputs": [],
   "source": [
    "df = pd.read_sql(\"select * from EBAY_TOP_BERLIN where record_time in (select distinct record_time from EBAY_TOP_BERLIN order by record_time desc limit 2)\", sqlite3.connect(\"UsedObjects.db\"))"
   ]
  },
  {
   "cell_type": "code",
   "execution_count": 5,
   "id": "popular-active",
   "metadata": {
    "execution": {
     "iopub.execute_input": "2021-12-07T05:00:11.969143Z",
     "iopub.status.busy": "2021-12-07T05:00:11.943062Z",
     "iopub.status.idle": "2021-12-07T05:00:12.001864Z",
     "shell.execute_reply": "2021-12-07T05:00:12.004106Z"
    },
    "papermill": {
     "duration": 0.104888,
     "end_time": "2021-12-07T05:00:12.004860",
     "exception": false,
     "start_time": "2021-12-07T05:00:11.899972",
     "status": "completed"
    },
    "tags": []
   },
   "outputs": [],
   "source": [
    "df_pivot = df.pivot_table(index=\"PRODUCT\", columns = \"RECORD_TIME\", values = \"LISTING_COUNT\")"
   ]
  },
  {
   "cell_type": "code",
   "execution_count": 6,
   "id": "union-huntington",
   "metadata": {
    "execution": {
     "iopub.execute_input": "2021-12-07T05:00:12.097347Z",
     "iopub.status.busy": "2021-12-07T05:00:12.093755Z",
     "iopub.status.idle": "2021-12-07T05:00:12.102650Z",
     "shell.execute_reply": "2021-12-07T05:00:12.105452Z"
    },
    "papermill": {
     "duration": 0.072123,
     "end_time": "2021-12-07T05:00:12.106217",
     "exception": false,
     "start_time": "2021-12-07T05:00:12.034094",
     "status": "completed"
    },
    "tags": []
   },
   "outputs": [],
   "source": [
    "df_pivot.columns = [\"stamp_1\", \"stamp_2\"]\n",
    "df_pivot_diff = df_pivot.diff(axis=1)"
   ]
  },
  {
   "cell_type": "code",
   "execution_count": 7,
   "id": "fifth-motion",
   "metadata": {
    "execution": {
     "iopub.execute_input": "2021-12-07T05:00:12.178447Z",
     "iopub.status.busy": "2021-12-07T05:00:12.175493Z",
     "iopub.status.idle": "2021-12-07T05:00:13.715817Z",
     "shell.execute_reply": "2021-12-07T05:00:13.717086Z"
    },
    "papermill": {
     "duration": 1.582282,
     "end_time": "2021-12-07T05:00:13.717514",
     "exception": false,
     "start_time": "2021-12-07T05:00:12.135232",
     "status": "completed"
    },
    "tags": []
   },
   "outputs": [
    {
     "data": {
      "text/plain": [
       "<AxesSubplot:ylabel='PRODUCT'>"
      ]
     },
     "execution_count": 7,
     "metadata": {},
     "output_type": "execute_result"
    },
    {
     "data": {
      "image/png": "[encoded data removed]",
      "text/plain": [
       "<Figure size 432x288 with 1 Axes>"
      ]
     },
     "metadata": {
      "needs_background": "light"
     },
     "output_type": "display_data"
    }
   ],
   "source": [
    "df_pivot_diff.sort_values(\"stamp_2\", ascending = False)[\"stamp_2\"].head(10).plot.barh()"
   ]
  },
  {
   "cell_type": "code",
   "execution_count": null,
   "id": "extra-executive",
   "metadata": {
    "papermill": {
     "duration": 0.022123,
     "end_time": "2021-12-07T05:00:13.763471",
     "exception": false,
     "start_time": "2021-12-07T05:00:13.741348",
     "status": "completed"
    },
    "tags": []
   },
   "outputs": [],
   "source": []
  }
 ],
 "metadata": {
  "kernelspec": {
   "display_name": "Python 3",
   "language": "python",
   "name": "python3"
  },
  "language_info": {
   "codemirror_mode": {
    "name": "ipython",
    "version": 3
   },
   "file_extension": ".py",
   "mimetype": "text/x-python",
   "name": "python",
   "nbconvert_exporter": "python",
   "pygments_lexer": "ipython3",
   "version": "3.9.5"
  },
  "papermill": {
   "default_parameters": {},
   "duration": 9.927808,
   "end_time": "2021-12-07T05:00:15.359709",
   "environment_variables": {},
   "exception": null,
   "input_path": "eBay_Overview.ipynb",
   "output_path": "eBay_Overview.ipynb",
   "parameters": {},
   "start_time": "2021-12-07T05:00:05.431901",
   "version": "2.3.3"
  }
 },
 "nbformat": 4,
 "nbformat_minor": 5
}