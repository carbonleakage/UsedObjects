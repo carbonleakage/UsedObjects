{
 "cells": [
  {
   "cell_type": "code",
   "execution_count": 1,
   "id": "reverse-picking",
   "metadata": {
    "execution": {
     "iopub.execute_input": "2021-12-13T18:00:07.503936Z",
     "iopub.status.busy": "2021-12-13T18:00:07.501249Z",
     "iopub.status.idle": "2021-12-13T18:00:08.448879Z",
     "shell.execute_reply": "2021-12-13T18:00:08.450467Z"
    },
    "papermill": {
     "duration": 0.998825,
     "end_time": "2021-12-13T18:00:08.451219",
     "exception": false,
     "start_time": "2021-12-13T18:00:07.452394",
     "status": "completed"
    },
    "tags": []
   },
   "outputs": [],
   "source": [
    "import pandas as pd\n",
    "import sqlite3"
   ]
  },
  {
   "cell_type": "code",
   "execution_count": 2,
   "id": "innovative-syndrome",
   "metadata": {
    "execution": {
     "iopub.execute_input": "2021-12-13T18:00:08.514093Z",
     "iopub.status.busy": "2021-12-13T18:00:08.511806Z",
     "iopub.status.idle": "2021-12-13T18:00:09.595707Z",
     "shell.execute_reply": "2021-12-13T18:00:09.597267Z"
    },
    "papermill": {
     "duration": 1.119431,
     "end_time": "2021-12-13T18:00:09.597754",
     "exception": false,
     "start_time": "2021-12-13T18:00:08.478323",
     "status": "completed"
    },
    "tags": []
   },
   "outputs": [],
   "source": [
    "timestamps = pd.read_sql(\"select distinct record_time from EBAY_TOP_BERLIN order by record_time desc limit 2\", sqlite3.connect(\"UsedObjects.db\"))"
   ]
  },
  {
   "cell_type": "code",
   "execution_count": 3,
   "id": "periodic-identification",
   "metadata": {
    "execution": {
     "iopub.execute_input": "2021-12-13T18:00:09.668038Z",
     "iopub.status.busy": "2021-12-13T18:00:09.665747Z",
     "iopub.status.idle": "2021-12-13T18:00:09.687911Z",
     "shell.execute_reply": "2021-12-13T18:00:09.689284Z"
    },
    "papermill": {
     "duration": 0.072013,
     "end_time": "2021-12-13T18:00:09.689707",
     "exception": false,
     "start_time": "2021-12-13T18:00:09.617694",
     "status": "completed"
    },
    "tags": []
   },
   "outputs": [
    {
     "data": {
      "text/html": [
       "<div>\n",
       "<style scoped>\n",
       "    .dataframe tbody tr th:only-of-type {\n",
       "        vertical-align: middle;\n",
       "    }\n",
       "\n",
       "    .dataframe tbody tr th {\n",
       "        vertical-align: top;\n",
       "    }\n",
       "\n",
       "    .dataframe thead th {\n",
       "        text-align: right;\n",
       "    }\n",
       "</style>\n",
       "<table border=\"1\" class=\"dataframe\">\n",
       "  <thead>\n",
       "    <tr style=\"text-align: right;\">\n",
       "      <th></th>\n",
       "      <th>RECORD_TIME</th>\n",
       "    </tr>\n",
       "  </thead>\n",
       "  <tbody>\n",
       "    <tr>\n",
       "      <th>0</th>\n",
       "      <td>2021-12-13 19:00</td>\n",
       "    </tr>\n",
       "    <tr>\n",
       "      <th>1</th>\n",
       "      <td>2021-12-13 18:30</td>\n",
       "    </tr>\n",
       "  </tbody>\n",
       "</table>\n",
       "</div>"
      ],
      "text/plain": [
       "        RECORD_TIME\n",
       "0  2021-12-13 19:00\n",
       "1  2021-12-13 18:30"
      ]
     },
     "execution_count": 3,
     "metadata": {},
     "output_type": "execute_result"
    }
   ],
   "source": [
    "timestamps"
   ]
  },
  {
   "cell_type": "code",
   "execution_count": 4,
   "id": "alternate-victory",
   "metadata": {
    "execution": {
     "iopub.execute_input": "2021-12-13T18:00:09.746149Z",
     "iopub.status.busy": "2021-12-13T18:00:09.743754Z",
     "iopub.status.idle": "2021-12-13T18:00:11.324234Z",
     "shell.execute_reply": "2021-12-13T18:00:11.326991Z"
    },
    "papermill": {
     "duration": 1.616403,
     "end_time": "2021-12-13T18:00:11.327559",
     "exception": false,
     "start_time": "2021-12-13T18:00:09.711156",
     "status": "completed"
    },
    "tags": []
   },
   "outputs": [],
   "source": [
    "df = pd.read_sql(\"select * from EBAY_TOP_BERLIN where record_time in (select distinct record_time from EBAY_TOP_BERLIN order by record_time desc limit 2)\", sqlite3.connect(\"UsedObjects.db\"))"
   ]
  },
  {
   "cell_type": "code",
   "execution_count": 5,
   "id": "popular-active",
   "metadata": {
    "execution": {
     "iopub.execute_input": "2021-12-13T18:00:11.401025Z",
     "iopub.status.busy": "2021-12-13T18:00:11.397421Z",
     "iopub.status.idle": "2021-12-13T18:00:11.431722Z",
     "shell.execute_reply": "2021-12-13T18:00:11.433174Z"
    },
    "papermill": {
     "duration": 0.079385,
     "end_time": "2021-12-13T18:00:11.433641",
     "exception": false,
     "start_time": "2021-12-13T18:00:11.354256",
     "status": "completed"
    },
    "tags": []
   },
   "outputs": [],
   "source": [
    "df_pivot = df.pivot_table(index=\"PRODUCT\", columns = \"RECORD_TIME\", values = \"LISTING_COUNT\")"
   ]
  },
  {
   "cell_type": "code",
   "execution_count": 6,
   "id": "union-huntington",
   "metadata": {
    "execution": {
     "iopub.execute_input": "2021-12-13T18:00:11.491546Z",
     "iopub.status.busy": "2021-12-13T18:00:11.489381Z",
     "iopub.status.idle": "2021-12-13T18:00:11.495303Z",
     "shell.execute_reply": "2021-12-13T18:00:11.496641Z"
    },
    "papermill": {
     "duration": 0.043708,
     "end_time": "2021-12-13T18:00:11.497185",
     "exception": false,
     "start_time": "2021-12-13T18:00:11.453477",
     "status": "completed"
    },
    "tags": []
   },
   "outputs": [],
   "source": [
    "df_pivot.columns = [\"stamp_1\", \"stamp_2\"]\n",
    "df_pivot_diff = df_pivot.diff(axis=1)"
   ]
  },
  {
   "cell_type": "code",
   "execution_count": 7,
   "id": "fifth-motion",
   "metadata": {
    "execution": {
     "iopub.execute_input": "2021-12-13T18:00:11.555794Z",
     "iopub.status.busy": "2021-12-13T18:00:11.553274Z",
     "iopub.status.idle": "2021-12-13T18:00:13.568028Z",
     "shell.execute_reply": "2021-12-13T18:00:13.569993Z"
    },
    "papermill": {
     "duration": 2.05316,
     "end_time": "2021-12-13T18:00:13.570631",
     "exception": false,
     "start_time": "2021-12-13T18:00:11.517471",
     "status": "completed"
    },
    "tags": []
   },
   "outputs": [
    {
     "data": {
      "text/plain": [
       "<AxesSubplot:ylabel='PRODUCT'>"
      ]
     },
     "execution_count": 7,
     "metadata": {},
     "output_type": "execute_result"
    },
    {
     "data": {
      "image/png": "[encoded data removed]",
      "text/plain": [
       "<Figure size 432x288 with 1 Axes>"
      ]
     },
     "metadata": {
      "needs_background": "light"
     },
     "output_type": "display_data"
    }
   ],
   "source": [
    "df_pivot_diff.sort_values(\"stamp_2\", ascending = False)[\"stamp_2\"].head(10).plot.barh()"
   ]
  },
  {
   "cell_type": "code",
   "execution_count": null,
   "id": "extra-executive",
   "metadata": {
    "papermill": {
     "duration": 0.026091,
     "end_time": "2021-12-13T18:00:13.629954",
     "exception": false,
     "start_time": "2021-12-13T18:00:13.603863",
     "status": "completed"
    },
    "tags": []
   },
   "outputs": [],
   "source": []
  }
 ],
 "metadata": {
  "kernelspec": {
   "display_name": "Python 3",
   "language": "python",
   "name": "python3"
  },
  "language_info": {
   "codemirror_mode": {
    "name": "ipython",
    "version": 3
   },
   "file_extension": ".py",
   "mimetype": "text/x-python",
   "name": "python",
   "nbconvert_exporter": "python",
   "pygments_lexer": "ipython3",
   "version": "3.9.5"
  },
  "papermill": {
   "default_parameters": {},
   "duration": 9.580637,
   "end_time": "2021-12-13T18:00:14.275422",
   "environment_variables": {},
   "exception": null,
   "input_path": "eBay_Overview.ipynb",
   "output_path": "eBay_Overview.ipynb",
   "parameters": {},
   "start_time": "2021-12-13T18:00:04.694785",
   "version": "2.3.3"
  }
 },
 "nbformat": 4,
 "nbformat_minor": 5
}