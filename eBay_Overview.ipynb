{
 "cells": [
  {
   "cell_type": "code",
   "execution_count": 1,
   "id": "reverse-picking",
   "metadata": {
    "execution": {
     "iopub.execute_input": "2021-08-26T16:30:07.494226Z",
     "iopub.status.busy": "2021-08-26T16:30:07.492158Z",
     "iopub.status.idle": "2021-08-26T16:30:08.292432Z",
     "shell.execute_reply": "2021-08-26T16:30:08.293907Z"
    },
    "papermill": {
     "duration": 0.853623,
     "end_time": "2021-08-26T16:30:08.294591",
     "exception": false,
     "start_time": "2021-08-26T16:30:07.440968",
     "status": "completed"
    },
    "tags": []
   },
   "outputs": [],
   "source": [
    "import pandas as pd\n",
    "import sqlite3"
   ]
  },
  {
   "cell_type": "code",
   "execution_count": 2,
   "id": "innovative-syndrome",
   "metadata": {
    "execution": {
     "iopub.execute_input": "2021-08-26T16:30:08.345990Z",
     "iopub.status.busy": "2021-08-26T16:30:08.343502Z",
     "iopub.status.idle": "2021-08-26T16:30:08.481476Z",
     "shell.execute_reply": "2021-08-26T16:30:08.482740Z"
    },
    "papermill": {
     "duration": 0.167983,
     "end_time": "2021-08-26T16:30:08.483142",
     "exception": false,
     "start_time": "2021-08-26T16:30:08.315159",
     "status": "completed"
    },
    "tags": []
   },
   "outputs": [],
   "source": [
    "timestamps = pd.read_sql(\"select distinct record_time from EBAY_TOP_BERLIN order by record_time desc limit 2\", sqlite3.connect(\"UsedObjects.db\"))"
   ]
  },
  {
   "cell_type": "code",
   "execution_count": 3,
   "id": "periodic-identification",
   "metadata": {
    "execution": {
     "iopub.execute_input": "2021-08-26T16:30:08.550187Z",
     "iopub.status.busy": "2021-08-26T16:30:08.545285Z",
     "iopub.status.idle": "2021-08-26T16:30:08.567856Z",
     "shell.execute_reply": "2021-08-26T16:30:08.569504Z"
    },
    "papermill": {
     "duration": 0.067463,
     "end_time": "2021-08-26T16:30:08.569995",
     "exception": false,
     "start_time": "2021-08-26T16:30:08.502532",
     "status": "completed"
    },
    "tags": []
   },
   "outputs": [
    {
     "data": {
      "text/html": [
       "<div>\n",
       "<style scoped>\n",
       "    .dataframe tbody tr th:only-of-type {\n",
       "        vertical-align: middle;\n",
       "    }\n",
       "\n",
       "    .dataframe tbody tr th {\n",
       "        vertical-align: top;\n",
       "    }\n",
       "\n",
       "    .dataframe thead th {\n",
       "        text-align: right;\n",
       "    }\n",
       "</style>\n",
       "<table border=\"1\" class=\"dataframe\">\n",
       "  <thead>\n",
       "    <tr style=\"text-align: right;\">\n",
       "      <th></th>\n",
       "      <th>RECORD_TIME</th>\n",
       "    </tr>\n",
       "  </thead>\n",
       "  <tbody>\n",
       "    <tr>\n",
       "      <th>0</th>\n",
       "      <td>2021-08-26 18:30</td>\n",
       "    </tr>\n",
       "    <tr>\n",
       "      <th>1</th>\n",
       "      <td>2021-08-26 18:00</td>\n",
       "    </tr>\n",
       "  </tbody>\n",
       "</table>\n",
       "</div>"
      ],
      "text/plain": [
       "        RECORD_TIME\n",
       "0  2021-08-26 18:30\n",
       "1  2021-08-26 18:00"
      ]
     },
     "execution_count": 3,
     "metadata": {},
     "output_type": "execute_result"
    }
   ],
   "source": [
    "timestamps"
   ]
  },
  {
   "cell_type": "code",
   "execution_count": 4,
   "id": "alternate-victory",
   "metadata": {
    "execution": {
     "iopub.execute_input": "2021-08-26T16:30:08.620822Z",
     "iopub.status.busy": "2021-08-26T16:30:08.618882Z",
     "iopub.status.idle": "2021-08-26T16:30:08.820985Z",
     "shell.execute_reply": "2021-08-26T16:30:08.822380Z"
    },
    "papermill": {
     "duration": 0.232049,
     "end_time": "2021-08-26T16:30:08.822802",
     "exception": false,
     "start_time": "2021-08-26T16:30:08.590753",
     "status": "completed"
    },
    "tags": []
   },
   "outputs": [],
   "source": [
    "df = pd.read_sql(\"select * from EBAY_TOP_BERLIN where record_time in (select distinct record_time from EBAY_TOP_BERLIN order by record_time desc limit 2)\", sqlite3.connect(\"UsedObjects.db\"))"
   ]
  },
  {
   "cell_type": "code",
   "execution_count": 5,
   "id": "popular-active",
   "metadata": {
    "execution": {
     "iopub.execute_input": "2021-08-26T16:30:08.892976Z",
     "iopub.status.busy": "2021-08-26T16:30:08.881398Z",
     "iopub.status.idle": "2021-08-26T16:30:08.909173Z",
     "shell.execute_reply": "2021-08-26T16:30:08.910569Z"
    },
    "papermill": {
     "duration": 0.067504,
     "end_time": "2021-08-26T16:30:08.911009",
     "exception": false,
     "start_time": "2021-08-26T16:30:08.843505",
     "status": "completed"
    },
    "tags": []
   },
   "outputs": [],
   "source": [
    "df_pivot = df.pivot_table(index=\"PRODUCT\", columns = \"RECORD_TIME\", values = \"LISTING_COUNT\")"
   ]
  },
  {
   "cell_type": "code",
   "execution_count": 6,
   "id": "union-huntington",
   "metadata": {
    "execution": {
     "iopub.execute_input": "2021-08-26T16:30:08.971505Z",
     "iopub.status.busy": "2021-08-26T16:30:08.969449Z",
     "iopub.status.idle": "2021-08-26T16:30:08.974763Z",
     "shell.execute_reply": "2021-08-26T16:30:08.976133Z"
    },
    "papermill": {
     "duration": 0.045182,
     "end_time": "2021-08-26T16:30:08.976635",
     "exception": false,
     "start_time": "2021-08-26T16:30:08.931453",
     "status": "completed"
    },
    "tags": []
   },
   "outputs": [],
   "source": [
    "df_pivot.columns = [\"stamp_1\", \"stamp_2\"]\n",
    "df_pivot_diff = df_pivot.diff(axis=1)"
   ]
  },
  {
   "cell_type": "code",
   "execution_count": 7,
   "id": "fifth-motion",
   "metadata": {
    "execution": {
     "iopub.execute_input": "2021-08-26T16:30:09.031299Z",
     "iopub.status.busy": "2021-08-26T16:30:09.028673Z",
     "iopub.status.idle": "2021-08-26T16:30:10.531420Z",
     "shell.execute_reply": "2021-08-26T16:30:10.532789Z"
    },
    "papermill": {
     "duration": 1.536367,
     "end_time": "2021-08-26T16:30:10.533219",
     "exception": false,
     "start_time": "2021-08-26T16:30:08.996852",
     "status": "completed"
    },
    "tags": []
   },
   "outputs": [
    {
     "data": {
      "text/plain": [
       "<AxesSubplot:ylabel='PRODUCT'>"
      ]
     },
     "execution_count": 7,
     "metadata": {},
     "output_type": "execute_result"
    },
    {
     "data": {
      "image/png": "[encoded data removed]",
      "text/plain": [
       "<Figure size 432x288 with 1 Axes>"
      ]
     },
     "metadata": {
      "needs_background": "light"
     },
     "output_type": "display_data"
    }
   ],
   "source": [
    "df_pivot_diff.sort_values(\"stamp_2\", ascending = False)[\"stamp_2\"].head(10).plot.barh()"
   ]
  },
  {
   "cell_type": "code",
   "execution_count": null,
   "id": "extra-executive",
   "metadata": {
    "papermill": {
     "duration": 0.022079,
     "end_time": "2021-08-26T16:30:10.579056",
     "exception": false,
     "start_time": "2021-08-26T16:30:10.556977",
     "status": "completed"
    },
    "tags": []
   },
   "outputs": [],
   "source": []
  }
 ],
 "metadata": {
  "kernelspec": {
   "display_name": "Python 3",
   "language": "python",
   "name": "python3"
  },
  "language_info": {
   "codemirror_mode": {
    "name": "ipython",
    "version": 3
   },
   "file_extension": ".py",
   "mimetype": "text/x-python",
   "name": "python",
   "nbconvert_exporter": "python",
   "pygments_lexer": "ipython3",
   "version": "3.9.5"
  },
  "papermill": {
   "default_parameters": {},
   "duration": 6.817525,
   "end_time": "2021-08-26T16:30:11.868586",
   "environment_variables": {},
   "exception": null,
   "input_path": "eBay_Overview.ipynb",
   "output_path": "eBay_Overview.ipynb",
   "parameters": {},
   "start_time": "2021-08-26T16:30:05.051061",
   "version": "2.3.3"
  }
 },
 "nbformat": 4,
 "nbformat_minor": 5
}