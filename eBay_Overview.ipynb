{
 "cells": [
  {
   "cell_type": "code",
   "execution_count": 1,
   "id": "reverse-picking",
   "metadata": {
    "execution": {
     "iopub.execute_input": "2021-12-10T07:30:08.015267Z",
     "iopub.status.busy": "2021-12-10T07:30:08.012943Z",
     "iopub.status.idle": "2021-12-10T07:30:08.973235Z",
     "shell.execute_reply": "2021-12-10T07:30:08.975339Z"
    },
    "papermill": {
     "duration": 1.011542,
     "end_time": "2021-12-10T07:30:08.976083",
     "exception": false,
     "start_time": "2021-12-10T07:30:07.964541",
     "status": "completed"
    },
    "tags": []
   },
   "outputs": [],
   "source": [
    "import pandas as pd\n",
    "import sqlite3"
   ]
  },
  {
   "cell_type": "code",
   "execution_count": 2,
   "id": "innovative-syndrome",
   "metadata": {
    "execution": {
     "iopub.execute_input": "2021-12-10T07:30:09.054655Z",
     "iopub.status.busy": "2021-12-10T07:30:09.051847Z",
     "iopub.status.idle": "2021-12-10T07:30:10.128618Z",
     "shell.execute_reply": "2021-12-10T07:30:10.130130Z"
    },
    "papermill": {
     "duration": 1.133091,
     "end_time": "2021-12-10T07:30:10.130585",
     "exception": false,
     "start_time": "2021-12-10T07:30:08.997494",
     "status": "completed"
    },
    "tags": []
   },
   "outputs": [],
   "source": [
    "timestamps = pd.read_sql(\"select distinct record_time from EBAY_TOP_BERLIN order by record_time desc limit 2\", sqlite3.connect(\"UsedObjects.db\"))"
   ]
  },
  {
   "cell_type": "code",
   "execution_count": 3,
   "id": "periodic-identification",
   "metadata": {
    "execution": {
     "iopub.execute_input": "2021-12-10T07:30:10.209415Z",
     "iopub.status.busy": "2021-12-10T07:30:10.205527Z",
     "iopub.status.idle": "2021-12-10T07:30:10.244823Z",
     "shell.execute_reply": "2021-12-10T07:30:10.247435Z"
    },
    "papermill": {
     "duration": 0.097673,
     "end_time": "2021-12-10T07:30:10.248253",
     "exception": false,
     "start_time": "2021-12-10T07:30:10.150580",
     "status": "completed"
    },
    "tags": []
   },
   "outputs": [
    {
     "data": {
      "text/html": [
       "<div>\n",
       "<style scoped>\n",
       "    .dataframe tbody tr th:only-of-type {\n",
       "        vertical-align: middle;\n",
       "    }\n",
       "\n",
       "    .dataframe tbody tr th {\n",
       "        vertical-align: top;\n",
       "    }\n",
       "\n",
       "    .dataframe thead th {\n",
       "        text-align: right;\n",
       "    }\n",
       "</style>\n",
       "<table border=\"1\" class=\"dataframe\">\n",
       "  <thead>\n",
       "    <tr style=\"text-align: right;\">\n",
       "      <th></th>\n",
       "      <th>RECORD_TIME</th>\n",
       "    </tr>\n",
       "  </thead>\n",
       "  <tbody>\n",
       "    <tr>\n",
       "      <th>0</th>\n",
       "      <td>2021-12-10 08:30</td>\n",
       "    </tr>\n",
       "    <tr>\n",
       "      <th>1</th>\n",
       "      <td>2021-12-10 08:00</td>\n",
       "    </tr>\n",
       "  </tbody>\n",
       "</table>\n",
       "</div>"
      ],
      "text/plain": [
       "        RECORD_TIME\n",
       "0  2021-12-10 08:30\n",
       "1  2021-12-10 08:00"
      ]
     },
     "execution_count": 3,
     "metadata": {},
     "output_type": "execute_result"
    }
   ],
   "source": [
    "timestamps"
   ]
  },
  {
   "cell_type": "code",
   "execution_count": 4,
   "id": "alternate-victory",
   "metadata": {
    "execution": {
     "iopub.execute_input": "2021-12-10T07:30:10.313157Z",
     "iopub.status.busy": "2021-12-10T07:30:10.310758Z",
     "iopub.status.idle": "2021-12-10T07:30:11.825575Z",
     "shell.execute_reply": "2021-12-10T07:30:11.828332Z"
    },
    "papermill": {
     "duration": 1.551397,
     "end_time": "2021-12-10T07:30:11.829210",
     "exception": false,
     "start_time": "2021-12-10T07:30:10.277813",
     "status": "completed"
    },
    "tags": []
   },
   "outputs": [],
   "source": [
    "df = pd.read_sql(\"select * from EBAY_TOP_BERLIN where record_time in (select distinct record_time from EBAY_TOP_BERLIN order by record_time desc limit 2)\", sqlite3.connect(\"UsedObjects.db\"))"
   ]
  },
  {
   "cell_type": "code",
   "execution_count": 5,
   "id": "popular-active",
   "metadata": {
    "execution": {
     "iopub.execute_input": "2021-12-10T07:30:11.955839Z",
     "iopub.status.busy": "2021-12-10T07:30:11.938633Z",
     "iopub.status.idle": "2021-12-10T07:30:11.988667Z",
     "shell.execute_reply": "2021-12-10T07:30:11.991347Z"
    },
    "papermill": {
     "duration": 0.130558,
     "end_time": "2021-12-10T07:30:11.992161",
     "exception": false,
     "start_time": "2021-12-10T07:30:11.861603",
     "status": "completed"
    },
    "tags": []
   },
   "outputs": [],
   "source": [
    "df_pivot = df.pivot_table(index=\"PRODUCT\", columns = \"RECORD_TIME\", values = \"LISTING_COUNT\")"
   ]
  },
  {
   "cell_type": "code",
   "execution_count": 6,
   "id": "union-huntington",
   "metadata": {
    "execution": {
     "iopub.execute_input": "2021-12-10T07:30:12.075605Z",
     "iopub.status.busy": "2021-12-10T07:30:12.071714Z",
     "iopub.status.idle": "2021-12-10T07:30:12.083043Z",
     "shell.execute_reply": "2021-12-10T07:30:12.085930Z"
    },
    "papermill": {
     "duration": 0.066339,
     "end_time": "2021-12-10T07:30:12.086750",
     "exception": false,
     "start_time": "2021-12-10T07:30:12.020411",
     "status": "completed"
    },
    "tags": []
   },
   "outputs": [],
   "source": [
    "df_pivot.columns = [\"stamp_1\", \"stamp_2\"]\n",
    "df_pivot_diff = df_pivot.diff(axis=1)"
   ]
  },
  {
   "cell_type": "code",
   "execution_count": 7,
   "id": "fifth-motion",
   "metadata": {
    "execution": {
     "iopub.execute_input": "2021-12-10T07:30:12.171503Z",
     "iopub.status.busy": "2021-12-10T07:30:12.167863Z",
     "iopub.status.idle": "2021-12-10T07:30:13.877901Z",
     "shell.execute_reply": "2021-12-10T07:30:13.879103Z"
    },
    "papermill": {
     "duration": 1.762259,
     "end_time": "2021-12-10T07:30:13.879537",
     "exception": false,
     "start_time": "2021-12-10T07:30:12.117278",
     "status": "completed"
    },
    "tags": []
   },
   "outputs": [
    {
     "data": {
      "text/plain": [
       "<AxesSubplot:ylabel='PRODUCT'>"
      ]
     },
     "execution_count": 7,
     "metadata": {},
     "output_type": "execute_result"
    },
    {
     "data": {
      "image/png": "[encoded data removed]",
      "text/plain": [
       "<Figure size 432x288 with 1 Axes>"
      ]
     },
     "metadata": {
      "needs_background": "light"
     },
     "output_type": "display_data"
    }
   ],
   "source": [
    "df_pivot_diff.sort_values(\"stamp_2\", ascending = False)[\"stamp_2\"].head(10).plot.barh()"
   ]
  },
  {
   "cell_type": "code",
   "execution_count": null,
   "id": "extra-executive",
   "metadata": {
    "papermill": {
     "duration": 0.02225,
     "end_time": "2021-12-10T07:30:13.928749",
     "exception": false,
     "start_time": "2021-12-10T07:30:13.906499",
     "status": "completed"
    },
    "tags": []
   },
   "outputs": [],
   "source": []
  }
 ],
 "metadata": {
  "kernelspec": {
   "display_name": "Python 3",
   "language": "python",
   "name": "python3"
  },
  "language_info": {
   "codemirror_mode": {
    "name": "ipython",
    "version": 3
   },
   "file_extension": ".py",
   "mimetype": "text/x-python",
   "name": "python",
   "nbconvert_exporter": "python",
   "pygments_lexer": "ipython3",
   "version": "3.9.5"
  },
  "papermill": {
   "default_parameters": {},
   "duration": 9.941817,
   "end_time": "2021-12-10T07:30:15.177111",
   "environment_variables": {},
   "exception": null,
   "input_path": "eBay_Overview.ipynb",
   "output_path": "eBay_Overview.ipynb",
   "parameters": {},
   "start_time": "2021-12-10T07:30:05.235294",
   "version": "2.3.3"
  }
 },
 "nbformat": 4,
 "nbformat_minor": 5
}