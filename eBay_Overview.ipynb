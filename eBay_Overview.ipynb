{
 "cells": [
  {
   "cell_type": "code",
   "execution_count": 1,
   "id": "reverse-picking",
   "metadata": {
    "execution": {
     "iopub.execute_input": "2021-10-29T15:00:06.874904Z",
     "iopub.status.busy": "2021-10-29T15:00:06.872852Z",
     "iopub.status.idle": "2021-10-29T15:00:07.674985Z",
     "shell.execute_reply": "2021-10-29T15:00:07.676227Z"
    },
    "papermill": {
     "duration": 0.852996,
     "end_time": "2021-10-29T15:00:07.676895",
     "exception": false,
     "start_time": "2021-10-29T15:00:06.823899",
     "status": "completed"
    },
    "tags": []
   },
   "outputs": [],
   "source": [
    "import pandas as pd\n",
    "import sqlite3"
   ]
  },
  {
   "cell_type": "code",
   "execution_count": 2,
   "id": "innovative-syndrome",
   "metadata": {
    "execution": {
     "iopub.execute_input": "2021-10-29T15:00:07.729052Z",
     "iopub.status.busy": "2021-10-29T15:00:07.727074Z",
     "iopub.status.idle": "2021-10-29T15:00:08.397245Z",
     "shell.execute_reply": "2021-10-29T15:00:08.398453Z"
    },
    "papermill": {
     "duration": 0.699517,
     "end_time": "2021-10-29T15:00:08.398850",
     "exception": false,
     "start_time": "2021-10-29T15:00:07.699333",
     "status": "completed"
    },
    "tags": []
   },
   "outputs": [],
   "source": [
    "timestamps = pd.read_sql(\"select distinct record_time from EBAY_TOP_BERLIN order by record_time desc limit 2\", sqlite3.connect(\"UsedObjects.db\"))"
   ]
  },
  {
   "cell_type": "code",
   "execution_count": 3,
   "id": "periodic-identification",
   "metadata": {
    "execution": {
     "iopub.execute_input": "2021-10-29T15:00:08.467128Z",
     "iopub.status.busy": "2021-10-29T15:00:08.465114Z",
     "iopub.status.idle": "2021-10-29T15:00:08.485173Z",
     "shell.execute_reply": "2021-10-29T15:00:08.487002Z"
    },
    "papermill": {
     "duration": 0.066104,
     "end_time": "2021-10-29T15:00:08.487537",
     "exception": false,
     "start_time": "2021-10-29T15:00:08.421433",
     "status": "completed"
    },
    "tags": []
   },
   "outputs": [
    {
     "data": {
      "text/html": [
       "<div>\n",
       "<style scoped>\n",
       "    .dataframe tbody tr th:only-of-type {\n",
       "        vertical-align: middle;\n",
       "    }\n",
       "\n",
       "    .dataframe tbody tr th {\n",
       "        vertical-align: top;\n",
       "    }\n",
       "\n",
       "    .dataframe thead th {\n",
       "        text-align: right;\n",
       "    }\n",
       "</style>\n",
       "<table border=\"1\" class=\"dataframe\">\n",
       "  <thead>\n",
       "    <tr style=\"text-align: right;\">\n",
       "      <th></th>\n",
       "      <th>RECORD_TIME</th>\n",
       "    </tr>\n",
       "  </thead>\n",
       "  <tbody>\n",
       "    <tr>\n",
       "      <th>0</th>\n",
       "      <td>2021-10-29 17:00</td>\n",
       "    </tr>\n",
       "    <tr>\n",
       "      <th>1</th>\n",
       "      <td>2021-10-29 16:30</td>\n",
       "    </tr>\n",
       "  </tbody>\n",
       "</table>\n",
       "</div>"
      ],
      "text/plain": [
       "        RECORD_TIME\n",
       "0  2021-10-29 17:00\n",
       "1  2021-10-29 16:30"
      ]
     },
     "execution_count": 3,
     "metadata": {},
     "output_type": "execute_result"
    }
   ],
   "source": [
    "timestamps"
   ]
  },
  {
   "cell_type": "code",
   "execution_count": 4,
   "id": "alternate-victory",
   "metadata": {
    "execution": {
     "iopub.execute_input": "2021-10-29T15:00:08.540903Z",
     "iopub.status.busy": "2021-10-29T15:00:08.538916Z",
     "iopub.status.idle": "2021-10-29T15:00:09.493903Z",
     "shell.execute_reply": "2021-10-29T15:00:09.495209Z"
    },
    "papermill": {
     "duration": 0.985432,
     "end_time": "2021-10-29T15:00:09.495664",
     "exception": false,
     "start_time": "2021-10-29T15:00:08.510232",
     "status": "completed"
    },
    "tags": []
   },
   "outputs": [],
   "source": [
    "df = pd.read_sql(\"select * from EBAY_TOP_BERLIN where record_time in (select distinct record_time from EBAY_TOP_BERLIN order by record_time desc limit 2)\", sqlite3.connect(\"UsedObjects.db\"))"
   ]
  },
  {
   "cell_type": "code",
   "execution_count": 5,
   "id": "popular-active",
   "metadata": {
    "execution": {
     "iopub.execute_input": "2021-10-29T15:00:09.566291Z",
     "iopub.status.busy": "2021-10-29T15:00:09.555356Z",
     "iopub.status.idle": "2021-10-29T15:00:09.581794Z",
     "shell.execute_reply": "2021-10-29T15:00:09.583008Z"
    },
    "papermill": {
     "duration": 0.066739,
     "end_time": "2021-10-29T15:00:09.583405",
     "exception": false,
     "start_time": "2021-10-29T15:00:09.516666",
     "status": "completed"
    },
    "tags": []
   },
   "outputs": [],
   "source": [
    "df_pivot = df.pivot_table(index=\"PRODUCT\", columns = \"RECORD_TIME\", values = \"LISTING_COUNT\")"
   ]
  },
  {
   "cell_type": "code",
   "execution_count": 6,
   "id": "union-huntington",
   "metadata": {
    "execution": {
     "iopub.execute_input": "2021-10-29T15:00:09.642905Z",
     "iopub.status.busy": "2021-10-29T15:00:09.640450Z",
     "iopub.status.idle": "2021-10-29T15:00:09.646386Z",
     "shell.execute_reply": "2021-10-29T15:00:09.647664Z"
    },
    "papermill": {
     "duration": 0.042232,
     "end_time": "2021-10-29T15:00:09.648080",
     "exception": false,
     "start_time": "2021-10-29T15:00:09.605848",
     "status": "completed"
    },
    "tags": []
   },
   "outputs": [],
   "source": [
    "df_pivot.columns = [\"stamp_1\", \"stamp_2\"]\n",
    "df_pivot_diff = df_pivot.diff(axis=1)"
   ]
  },
  {
   "cell_type": "code",
   "execution_count": 7,
   "id": "fifth-motion",
   "metadata": {
    "execution": {
     "iopub.execute_input": "2021-10-29T15:00:09.702358Z",
     "iopub.status.busy": "2021-10-29T15:00:09.699772Z",
     "iopub.status.idle": "2021-10-29T15:00:11.202013Z",
     "shell.execute_reply": "2021-10-29T15:00:11.203388Z"
    },
    "papermill": {
     "duration": 1.535727,
     "end_time": "2021-10-29T15:00:11.203834",
     "exception": false,
     "start_time": "2021-10-29T15:00:09.668107",
     "status": "completed"
    },
    "tags": []
   },
   "outputs": [
    {
     "data": {
      "text/plain": [
       "<AxesSubplot:ylabel='PRODUCT'>"
      ]
     },
     "execution_count": 7,
     "metadata": {},
     "output_type": "execute_result"
    },
    {
     "data": {
      "image/png": "[encoded data removed]",
      "text/plain": [
       "<Figure size 432x288 with 1 Axes>"
      ]
     },
     "metadata": {
      "needs_background": "light"
     },
     "output_type": "display_data"
    }
   ],
   "source": [
    "df_pivot_diff.sort_values(\"stamp_2\", ascending = False)[\"stamp_2\"].head(10).plot.barh()"
   ]
  },
  {
   "cell_type": "code",
   "execution_count": null,
   "id": "extra-executive",
   "metadata": {
    "papermill": {
     "duration": 0.023071,
     "end_time": "2021-10-29T15:00:11.251450",
     "exception": false,
     "start_time": "2021-10-29T15:00:11.228379",
     "status": "completed"
    },
    "tags": []
   },
   "outputs": [],
   "source": []
  }
 ],
 "metadata": {
  "kernelspec": {
   "display_name": "Python 3",
   "language": "python",
   "name": "python3"
  },
  "language_info": {
   "codemirror_mode": {
    "name": "ipython",
    "version": 3
   },
   "file_extension": ".py",
   "mimetype": "text/x-python",
   "name": "python",
   "nbconvert_exporter": "python",
   "pygments_lexer": "ipython3",
   "version": "3.9.5"
  },
  "papermill": {
   "default_parameters": {},
   "duration": 7.474609,
   "end_time": "2021-10-29T15:00:11.895817",
   "environment_variables": {},
   "exception": null,
   "input_path": "eBay_Overview.ipynb",
   "output_path": "eBay_Overview.ipynb",
   "parameters": {},
   "start_time": "2021-10-29T15:00:04.421208",
   "version": "2.3.3"
  }
 },
 "nbformat": 4,
 "nbformat_minor": 5
}