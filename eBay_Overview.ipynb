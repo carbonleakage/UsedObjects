{
 "cells": [
  {
   "cell_type": "code",
   "execution_count": 1,
   "id": "reverse-picking",
   "metadata": {
    "execution": {
     "iopub.execute_input": "2021-08-15T19:30:07.120104Z",
     "iopub.status.busy": "2021-08-15T19:30:07.118208Z",
     "iopub.status.idle": "2021-08-15T19:30:07.928756Z",
     "shell.execute_reply": "2021-08-15T19:30:07.927162Z"
    },
    "papermill": {
     "duration": 0.863205,
     "end_time": "2021-08-15T19:30:07.929157",
     "exception": false,
     "start_time": "2021-08-15T19:30:07.065952",
     "status": "completed"
    },
    "tags": []
   },
   "outputs": [],
   "source": [
    "import pandas as pd\n",
    "import sqlite3"
   ]
  },
  {
   "cell_type": "code",
   "execution_count": 2,
   "id": "innovative-syndrome",
   "metadata": {
    "execution": {
     "iopub.execute_input": "2021-08-15T19:30:07.979425Z",
     "iopub.status.busy": "2021-08-15T19:30:07.977241Z",
     "iopub.status.idle": "2021-08-15T19:30:08.034731Z",
     "shell.execute_reply": "2021-08-15T19:30:08.035985Z"
    },
    "papermill": {
     "duration": 0.087097,
     "end_time": "2021-08-15T19:30:08.036384",
     "exception": false,
     "start_time": "2021-08-15T19:30:07.949287",
     "status": "completed"
    },
    "tags": []
   },
   "outputs": [],
   "source": [
    "timestamps = pd.read_sql(\"select distinct record_time from EBAY_TOP_BERLIN order by record_time desc limit 2\", sqlite3.connect(\"UsedObjects.db\"))"
   ]
  },
  {
   "cell_type": "code",
   "execution_count": 3,
   "id": "periodic-identification",
   "metadata": {
    "execution": {
     "iopub.execute_input": "2021-08-15T19:30:08.103857Z",
     "iopub.status.busy": "2021-08-15T19:30:08.098620Z",
     "iopub.status.idle": "2021-08-15T19:30:08.118501Z",
     "shell.execute_reply": "2021-08-15T19:30:08.119627Z"
    },
    "papermill": {
     "duration": 0.064324,
     "end_time": "2021-08-15T19:30:08.120035",
     "exception": false,
     "start_time": "2021-08-15T19:30:08.055711",
     "status": "completed"
    },
    "tags": []
   },
   "outputs": [
    {
     "data": {
      "text/html": [
       "<div>\n",
       "<style scoped>\n",
       "    .dataframe tbody tr th:only-of-type {\n",
       "        vertical-align: middle;\n",
       "    }\n",
       "\n",
       "    .dataframe tbody tr th {\n",
       "        vertical-align: top;\n",
       "    }\n",
       "\n",
       "    .dataframe thead th {\n",
       "        text-align: right;\n",
       "    }\n",
       "</style>\n",
       "<table border=\"1\" class=\"dataframe\">\n",
       "  <thead>\n",
       "    <tr style=\"text-align: right;\">\n",
       "      <th></th>\n",
       "      <th>RECORD_TIME</th>\n",
       "    </tr>\n",
       "  </thead>\n",
       "  <tbody>\n",
       "    <tr>\n",
       "      <th>0</th>\n",
       "      <td>2021-08-15 21:30</td>\n",
       "    </tr>\n",
       "    <tr>\n",
       "      <th>1</th>\n",
       "      <td>2021-08-15 21:00</td>\n",
       "    </tr>\n",
       "  </tbody>\n",
       "</table>\n",
       "</div>"
      ],
      "text/plain": [
       "        RECORD_TIME\n",
       "0  2021-08-15 21:30\n",
       "1  2021-08-15 21:00"
      ]
     },
     "execution_count": 3,
     "metadata": {},
     "output_type": "execute_result"
    }
   ],
   "source": [
    "timestamps"
   ]
  },
  {
   "cell_type": "code",
   "execution_count": 4,
   "id": "alternate-victory",
   "metadata": {
    "execution": {
     "iopub.execute_input": "2021-08-15T19:30:08.171242Z",
     "iopub.status.busy": "2021-08-15T19:30:08.169012Z",
     "iopub.status.idle": "2021-08-15T19:30:08.253141Z",
     "shell.execute_reply": "2021-08-15T19:30:08.254467Z"
    },
    "papermill": {
     "duration": 0.114007,
     "end_time": "2021-08-15T19:30:08.254887",
     "exception": false,
     "start_time": "2021-08-15T19:30:08.140880",
     "status": "completed"
    },
    "tags": []
   },
   "outputs": [],
   "source": [
    "df = pd.read_sql(\"select * from EBAY_TOP_BERLIN where record_time in (select distinct record_time from EBAY_TOP_BERLIN order by record_time desc limit 2)\", sqlite3.connect(\"UsedObjects.db\"))"
   ]
  },
  {
   "cell_type": "code",
   "execution_count": 5,
   "id": "popular-active",
   "metadata": {
    "execution": {
     "iopub.execute_input": "2021-08-15T19:30:08.323352Z",
     "iopub.status.busy": "2021-08-15T19:30:08.312260Z",
     "iopub.status.idle": "2021-08-15T19:30:08.339634Z",
     "shell.execute_reply": "2021-08-15T19:30:08.340828Z"
    },
    "papermill": {
     "duration": 0.065862,
     "end_time": "2021-08-15T19:30:08.341225",
     "exception": false,
     "start_time": "2021-08-15T19:30:08.275363",
     "status": "completed"
    },
    "tags": []
   },
   "outputs": [],
   "source": [
    "df_pivot = df.pivot_table(index=\"PRODUCT\", columns = \"RECORD_TIME\", values = \"LISTING_COUNT\")"
   ]
  },
  {
   "cell_type": "code",
   "execution_count": 6,
   "id": "union-huntington",
   "metadata": {
    "execution": {
     "iopub.execute_input": "2021-08-15T19:30:08.397298Z",
     "iopub.status.busy": "2021-08-15T19:30:08.395039Z",
     "iopub.status.idle": "2021-08-15T19:30:08.400801Z",
     "shell.execute_reply": "2021-08-15T19:30:08.402131Z"
    },
    "papermill": {
     "duration": 0.041437,
     "end_time": "2021-08-15T19:30:08.402548",
     "exception": false,
     "start_time": "2021-08-15T19:30:08.361111",
     "status": "completed"
    },
    "tags": []
   },
   "outputs": [],
   "source": [
    "df_pivot.columns = [\"stamp_1\", \"stamp_2\"]\n",
    "df_pivot_diff = df_pivot.diff(axis=1)"
   ]
  },
  {
   "cell_type": "code",
   "execution_count": 7,
   "id": "fifth-motion",
   "metadata": {
    "execution": {
     "iopub.execute_input": "2021-08-15T19:30:08.456096Z",
     "iopub.status.busy": "2021-08-15T19:30:08.453756Z",
     "iopub.status.idle": "2021-08-15T19:30:09.926938Z",
     "shell.execute_reply": "2021-08-15T19:30:09.928226Z"
    },
    "papermill": {
     "duration": 1.506182,
     "end_time": "2021-08-15T19:30:09.928644",
     "exception": false,
     "start_time": "2021-08-15T19:30:08.422462",
     "status": "completed"
    },
    "tags": []
   },
   "outputs": [
    {
     "data": {
      "text/plain": [
       "<AxesSubplot:ylabel='PRODUCT'>"
      ]
     },
     "execution_count": 7,
     "metadata": {},
     "output_type": "execute_result"
    },
    {
     "data": {
      "image/png": "[encoded data removed]",
      "text/plain": [
       "<Figure size 432x288 with 1 Axes>"
      ]
     },
     "metadata": {
      "needs_background": "light"
     },
     "output_type": "display_data"
    }
   ],
   "source": [
    "df_pivot_diff.sort_values(\"stamp_2\", ascending = False)[\"stamp_2\"].head(10).plot.barh()"
   ]
  },
  {
   "cell_type": "code",
   "execution_count": null,
   "id": "extra-executive",
   "metadata": {
    "papermill": {
     "duration": 0.022093,
     "end_time": "2021-08-15T19:30:09.975273",
     "exception": false,
     "start_time": "2021-08-15T19:30:09.953180",
     "status": "completed"
    },
    "tags": []
   },
   "outputs": [],
   "source": []
  }
 ],
 "metadata": {
  "kernelspec": {
   "display_name": "Python 3",
   "language": "python",
   "name": "python3"
  },
  "language_info": {
   "codemirror_mode": {
    "name": "ipython",
    "version": 3
   },
   "file_extension": ".py",
   "mimetype": "text/x-python",
   "name": "python",
   "nbconvert_exporter": "python",
   "pygments_lexer": "ipython3",
   "version": "3.9.5"
  },
  "papermill": {
   "default_parameters": {},
   "duration": 6.8296,
   "end_time": "2021-08-15T19:30:11.474545",
   "environment_variables": {},
   "exception": null,
   "input_path": "eBay_Overview.ipynb",
   "output_path": "eBay_Overview.ipynb",
   "parameters": {},
   "start_time": "2021-08-15T19:30:04.644945",
   "version": "2.3.3"
  }
 },
 "nbformat": 4,
 "nbformat_minor": 5
}