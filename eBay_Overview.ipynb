{
 "cells": [
  {
   "cell_type": "code",
   "execution_count": 1,
   "id": "reverse-picking",
   "metadata": {
    "execution": {
     "iopub.execute_input": "2021-09-19T12:00:07.620946Z",
     "iopub.status.busy": "2021-09-19T12:00:07.619056Z",
     "iopub.status.idle": "2021-09-19T12:00:08.417475Z",
     "shell.execute_reply": "2021-09-19T12:00:08.418696Z"
    },
    "papermill": {
     "duration": 0.85164,
     "end_time": "2021-09-19T12:00:08.419503",
     "exception": false,
     "start_time": "2021-09-19T12:00:07.567863",
     "status": "completed"
    },
    "tags": []
   },
   "outputs": [],
   "source": [
    "import pandas as pd\n",
    "import sqlite3"
   ]
  },
  {
   "cell_type": "code",
   "execution_count": 2,
   "id": "innovative-syndrome",
   "metadata": {
    "execution": {
     "iopub.execute_input": "2021-09-19T12:00:08.471866Z",
     "iopub.status.busy": "2021-09-19T12:00:08.469484Z",
     "iopub.status.idle": "2021-09-19T12:00:08.798362Z",
     "shell.execute_reply": "2021-09-19T12:00:08.799599Z"
    },
    "papermill": {
     "duration": 0.358446,
     "end_time": "2021-09-19T12:00:08.800002",
     "exception": false,
     "start_time": "2021-09-19T12:00:08.441556",
     "status": "completed"
    },
    "tags": []
   },
   "outputs": [],
   "source": [
    "timestamps = pd.read_sql(\"select distinct record_time from EBAY_TOP_BERLIN order by record_time desc limit 2\", sqlite3.connect(\"UsedObjects.db\"))"
   ]
  },
  {
   "cell_type": "code",
   "execution_count": 3,
   "id": "periodic-identification",
   "metadata": {
    "execution": {
     "iopub.execute_input": "2021-09-19T12:00:08.865714Z",
     "iopub.status.busy": "2021-09-19T12:00:08.863731Z",
     "iopub.status.idle": "2021-09-19T12:00:08.883275Z",
     "shell.execute_reply": "2021-09-19T12:00:08.884384Z"
    },
    "papermill": {
     "duration": 0.0634,
     "end_time": "2021-09-19T12:00:08.884796",
     "exception": false,
     "start_time": "2021-09-19T12:00:08.821396",
     "status": "completed"
    },
    "tags": []
   },
   "outputs": [
    {
     "data": {
      "text/html": [
       "<div>\n",
       "<style scoped>\n",
       "    .dataframe tbody tr th:only-of-type {\n",
       "        vertical-align: middle;\n",
       "    }\n",
       "\n",
       "    .dataframe tbody tr th {\n",
       "        vertical-align: top;\n",
       "    }\n",
       "\n",
       "    .dataframe thead th {\n",
       "        text-align: right;\n",
       "    }\n",
       "</style>\n",
       "<table border=\"1\" class=\"dataframe\">\n",
       "  <thead>\n",
       "    <tr style=\"text-align: right;\">\n",
       "      <th></th>\n",
       "      <th>RECORD_TIME</th>\n",
       "    </tr>\n",
       "  </thead>\n",
       "  <tbody>\n",
       "    <tr>\n",
       "      <th>0</th>\n",
       "      <td>2021-09-19 14:00</td>\n",
       "    </tr>\n",
       "    <tr>\n",
       "      <th>1</th>\n",
       "      <td>2021-09-19 13:30</td>\n",
       "    </tr>\n",
       "  </tbody>\n",
       "</table>\n",
       "</div>"
      ],
      "text/plain": [
       "        RECORD_TIME\n",
       "0  2021-09-19 14:00\n",
       "1  2021-09-19 13:30"
      ]
     },
     "execution_count": 3,
     "metadata": {},
     "output_type": "execute_result"
    }
   ],
   "source": [
    "timestamps"
   ]
  },
  {
   "cell_type": "code",
   "execution_count": 4,
   "id": "alternate-victory",
   "metadata": {
    "execution": {
     "iopub.execute_input": "2021-09-19T12:00:08.938138Z",
     "iopub.status.busy": "2021-09-19T12:00:08.935904Z",
     "iopub.status.idle": "2021-09-19T12:00:09.418218Z",
     "shell.execute_reply": "2021-09-19T12:00:09.419699Z"
    },
    "papermill": {
     "duration": 0.512877,
     "end_time": "2021-09-19T12:00:09.420162",
     "exception": false,
     "start_time": "2021-09-19T12:00:08.907285",
     "status": "completed"
    },
    "tags": []
   },
   "outputs": [],
   "source": [
    "df = pd.read_sql(\"select * from EBAY_TOP_BERLIN where record_time in (select distinct record_time from EBAY_TOP_BERLIN order by record_time desc limit 2)\", sqlite3.connect(\"UsedObjects.db\"))"
   ]
  },
  {
   "cell_type": "code",
   "execution_count": 5,
   "id": "popular-active",
   "metadata": {
    "execution": {
     "iopub.execute_input": "2021-09-19T12:00:09.499847Z",
     "iopub.status.busy": "2021-09-19T12:00:09.487587Z",
     "iopub.status.idle": "2021-09-19T12:00:09.515544Z",
     "shell.execute_reply": "2021-09-19T12:00:09.516757Z"
    },
    "papermill": {
     "duration": 0.071775,
     "end_time": "2021-09-19T12:00:09.517157",
     "exception": false,
     "start_time": "2021-09-19T12:00:09.445382",
     "status": "completed"
    },
    "tags": []
   },
   "outputs": [],
   "source": [
    "df_pivot = df.pivot_table(index=\"PRODUCT\", columns = \"RECORD_TIME\", values = \"LISTING_COUNT\")"
   ]
  },
  {
   "cell_type": "code",
   "execution_count": 6,
   "id": "union-huntington",
   "metadata": {
    "execution": {
     "iopub.execute_input": "2021-09-19T12:00:09.576196Z",
     "iopub.status.busy": "2021-09-19T12:00:09.573766Z",
     "iopub.status.idle": "2021-09-19T12:00:09.580224Z",
     "shell.execute_reply": "2021-09-19T12:00:09.581651Z"
    },
    "papermill": {
     "duration": 0.042677,
     "end_time": "2021-09-19T12:00:09.582114",
     "exception": false,
     "start_time": "2021-09-19T12:00:09.539437",
     "status": "completed"
    },
    "tags": []
   },
   "outputs": [],
   "source": [
    "df_pivot.columns = [\"stamp_1\", \"stamp_2\"]\n",
    "df_pivot_diff = df_pivot.diff(axis=1)"
   ]
  },
  {
   "cell_type": "code",
   "execution_count": 7,
   "id": "fifth-motion",
   "metadata": {
    "execution": {
     "iopub.execute_input": "2021-09-19T12:00:09.636808Z",
     "iopub.status.busy": "2021-09-19T12:00:09.634354Z",
     "iopub.status.idle": "2021-09-19T12:00:11.108298Z",
     "shell.execute_reply": "2021-09-19T12:00:11.109472Z"
    },
    "papermill": {
     "duration": 1.506363,
     "end_time": "2021-09-19T12:00:11.109908",
     "exception": false,
     "start_time": "2021-09-19T12:00:09.603545",
     "status": "completed"
    },
    "tags": []
   },
   "outputs": [
    {
     "data": {
      "text/plain": [
       "<AxesSubplot:ylabel='PRODUCT'>"
      ]
     },
     "execution_count": 7,
     "metadata": {},
     "output_type": "execute_result"
    },
    {
     "data": {
      "image/png": "[encoded data removed]",
      "text/plain": [
       "<Figure size 432x288 with 1 Axes>"
      ]
     },
     "metadata": {
      "needs_background": "light"
     },
     "output_type": "display_data"
    }
   ],
   "source": [
    "df_pivot_diff.sort_values(\"stamp_2\", ascending = False)[\"stamp_2\"].head(10).plot.barh()"
   ]
  },
  {
   "cell_type": "code",
   "execution_count": null,
   "id": "extra-executive",
   "metadata": {
    "papermill": {
     "duration": 0.022068,
     "end_time": "2021-09-19T12:00:11.157959",
     "exception": false,
     "start_time": "2021-09-19T12:00:11.135891",
     "status": "completed"
    },
    "tags": []
   },
   "outputs": [],
   "source": []
  }
 ],
 "metadata": {
  "kernelspec": {
   "display_name": "Python 3",
   "language": "python",
   "name": "python3"
  },
  "language_info": {
   "codemirror_mode": {
    "name": "ipython",
    "version": 3
   },
   "file_extension": ".py",
   "mimetype": "text/x-python",
   "name": "python",
   "nbconvert_exporter": "python",
   "pygments_lexer": "ipython3",
   "version": "3.9.5"
  },
  "papermill": {
   "default_parameters": {},
   "duration": 6.62075,
   "end_time": "2021-09-19T12:00:11.798638",
   "environment_variables": {},
   "exception": null,
   "input_path": "eBay_Overview.ipynb",
   "output_path": "eBay_Overview.ipynb",
   "parameters": {},
   "start_time": "2021-09-19T12:00:05.177888",
   "version": "2.3.3"
  }
 },
 "nbformat": 4,
 "nbformat_minor": 5
}