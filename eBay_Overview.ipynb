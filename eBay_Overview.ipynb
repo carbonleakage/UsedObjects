{
 "cells": [
  {
   "cell_type": "code",
   "execution_count": 1,
   "id": "reverse-picking",
   "metadata": {
    "execution": {
     "iopub.execute_input": "2021-10-13T13:30:07.482979Z",
     "iopub.status.busy": "2021-10-13T13:30:07.481008Z",
     "iopub.status.idle": "2021-10-13T13:30:08.280419Z",
     "shell.execute_reply": "2021-10-13T13:30:08.281930Z"
    },
    "papermill": {
     "duration": 0.853746,
     "end_time": "2021-10-13T13:30:08.282612",
     "exception": false,
     "start_time": "2021-10-13T13:30:07.428866",
     "status": "completed"
    },
    "tags": []
   },
   "outputs": [],
   "source": [
    "import pandas as pd\n",
    "import sqlite3"
   ]
  },
  {
   "cell_type": "code",
   "execution_count": 2,
   "id": "innovative-syndrome",
   "metadata": {
    "execution": {
     "iopub.execute_input": "2021-10-13T13:30:08.334260Z",
     "iopub.status.busy": "2021-10-13T13:30:08.331871Z",
     "iopub.status.idle": "2021-10-13T13:30:08.861573Z",
     "shell.execute_reply": "2021-10-13T13:30:08.862838Z"
    },
    "papermill": {
     "duration": 0.559918,
     "end_time": "2021-10-13T13:30:08.863235",
     "exception": false,
     "start_time": "2021-10-13T13:30:08.303317",
     "status": "completed"
    },
    "tags": []
   },
   "outputs": [],
   "source": [
    "timestamps = pd.read_sql(\"select distinct record_time from EBAY_TOP_BERLIN order by record_time desc limit 2\", sqlite3.connect(\"UsedObjects.db\"))"
   ]
  },
  {
   "cell_type": "code",
   "execution_count": 3,
   "id": "periodic-identification",
   "metadata": {
    "execution": {
     "iopub.execute_input": "2021-10-13T13:30:08.927794Z",
     "iopub.status.busy": "2021-10-13T13:30:08.925797Z",
     "iopub.status.idle": "2021-10-13T13:30:08.945650Z",
     "shell.execute_reply": "2021-10-13T13:30:08.946956Z"
    },
    "papermill": {
     "duration": 0.064639,
     "end_time": "2021-10-13T13:30:08.947369",
     "exception": false,
     "start_time": "2021-10-13T13:30:08.882730",
     "status": "completed"
    },
    "tags": []
   },
   "outputs": [
    {
     "data": {
      "text/html": [
       "<div>\n",
       "<style scoped>\n",
       "    .dataframe tbody tr th:only-of-type {\n",
       "        vertical-align: middle;\n",
       "    }\n",
       "\n",
       "    .dataframe tbody tr th {\n",
       "        vertical-align: top;\n",
       "    }\n",
       "\n",
       "    .dataframe thead th {\n",
       "        text-align: right;\n",
       "    }\n",
       "</style>\n",
       "<table border=\"1\" class=\"dataframe\">\n",
       "  <thead>\n",
       "    <tr style=\"text-align: right;\">\n",
       "      <th></th>\n",
       "      <th>RECORD_TIME</th>\n",
       "    </tr>\n",
       "  </thead>\n",
       "  <tbody>\n",
       "    <tr>\n",
       "      <th>0</th>\n",
       "      <td>2021-10-13 15:30</td>\n",
       "    </tr>\n",
       "    <tr>\n",
       "      <th>1</th>\n",
       "      <td>2021-10-13 15:00</td>\n",
       "    </tr>\n",
       "  </tbody>\n",
       "</table>\n",
       "</div>"
      ],
      "text/plain": [
       "        RECORD_TIME\n",
       "0  2021-10-13 15:30\n",
       "1  2021-10-13 15:00"
      ]
     },
     "execution_count": 3,
     "metadata": {},
     "output_type": "execute_result"
    }
   ],
   "source": [
    "timestamps"
   ]
  },
  {
   "cell_type": "code",
   "execution_count": 4,
   "id": "alternate-victory",
   "metadata": {
    "execution": {
     "iopub.execute_input": "2021-10-13T13:30:09.007399Z",
     "iopub.status.busy": "2021-10-13T13:30:09.005569Z",
     "iopub.status.idle": "2021-10-13T13:30:09.796188Z",
     "shell.execute_reply": "2021-10-13T13:30:09.797473Z"
    },
    "papermill": {
     "duration": 0.824264,
     "end_time": "2021-10-13T13:30:09.797876",
     "exception": false,
     "start_time": "2021-10-13T13:30:08.973612",
     "status": "completed"
    },
    "tags": []
   },
   "outputs": [],
   "source": [
    "df = pd.read_sql(\"select * from EBAY_TOP_BERLIN where record_time in (select distinct record_time from EBAY_TOP_BERLIN order by record_time desc limit 2)\", sqlite3.connect(\"UsedObjects.db\"))"
   ]
  },
  {
   "cell_type": "code",
   "execution_count": 5,
   "id": "popular-active",
   "metadata": {
    "execution": {
     "iopub.execute_input": "2021-10-13T13:30:09.869124Z",
     "iopub.status.busy": "2021-10-13T13:30:09.857678Z",
     "iopub.status.idle": "2021-10-13T13:30:09.884783Z",
     "shell.execute_reply": "2021-10-13T13:30:09.886111Z"
    },
    "papermill": {
     "duration": 0.067906,
     "end_time": "2021-10-13T13:30:09.886528",
     "exception": false,
     "start_time": "2021-10-13T13:30:09.818622",
     "status": "completed"
    },
    "tags": []
   },
   "outputs": [],
   "source": [
    "df_pivot = df.pivot_table(index=\"PRODUCT\", columns = \"RECORD_TIME\", values = \"LISTING_COUNT\")"
   ]
  },
  {
   "cell_type": "code",
   "execution_count": 6,
   "id": "union-huntington",
   "metadata": {
    "execution": {
     "iopub.execute_input": "2021-10-13T13:30:09.942022Z",
     "iopub.status.busy": "2021-10-13T13:30:09.940009Z",
     "iopub.status.idle": "2021-10-13T13:30:09.945077Z",
     "shell.execute_reply": "2021-10-13T13:30:09.946304Z"
    },
    "papermill": {
     "duration": 0.039745,
     "end_time": "2021-10-13T13:30:09.946697",
     "exception": false,
     "start_time": "2021-10-13T13:30:09.906952",
     "status": "completed"
    },
    "tags": []
   },
   "outputs": [],
   "source": [
    "df_pivot.columns = [\"stamp_1\", \"stamp_2\"]\n",
    "df_pivot_diff = df_pivot.diff(axis=1)"
   ]
  },
  {
   "cell_type": "code",
   "execution_count": 7,
   "id": "fifth-motion",
   "metadata": {
    "execution": {
     "iopub.execute_input": "2021-10-13T13:30:10.000916Z",
     "iopub.status.busy": "2021-10-13T13:30:09.998480Z",
     "iopub.status.idle": "2021-10-13T13:30:11.455420Z",
     "shell.execute_reply": "2021-10-13T13:30:11.456894Z"
    },
    "papermill": {
     "duration": 1.490106,
     "end_time": "2021-10-13T13:30:11.457340",
     "exception": false,
     "start_time": "2021-10-13T13:30:09.967234",
     "status": "completed"
    },
    "tags": []
   },
   "outputs": [
    {
     "data": {
      "text/plain": [
       "<AxesSubplot:ylabel='PRODUCT'>"
      ]
     },
     "execution_count": 7,
     "metadata": {},
     "output_type": "execute_result"
    },
    {
     "data": {
      "image/png": "[encoded data removed]",
      "text/plain": [
       "<Figure size 432x288 with 1 Axes>"
      ]
     },
     "metadata": {
      "needs_background": "light"
     },
     "output_type": "display_data"
    }
   ],
   "source": [
    "df_pivot_diff.sort_values(\"stamp_2\", ascending = False)[\"stamp_2\"].head(10).plot.barh()"
   ]
  },
  {
   "cell_type": "code",
   "execution_count": null,
   "id": "extra-executive",
   "metadata": {
    "papermill": {
     "duration": 0.02244,
     "end_time": "2021-10-13T13:30:11.505979",
     "exception": false,
     "start_time": "2021-10-13T13:30:11.483539",
     "status": "completed"
    },
    "tags": []
   },
   "outputs": [],
   "source": []
  }
 ],
 "metadata": {
  "kernelspec": {
   "display_name": "Python 3",
   "language": "python",
   "name": "python3"
  },
  "language_info": {
   "codemirror_mode": {
    "name": "ipython",
    "version": 3
   },
   "file_extension": ".py",
   "mimetype": "text/x-python",
   "name": "python",
   "nbconvert_exporter": "python",
   "pygments_lexer": "ipython3",
   "version": "3.9.5"
  },
  "papermill": {
   "default_parameters": {},
   "duration": 7.81683,
   "end_time": "2021-10-13T13:30:12.857027",
   "environment_variables": {},
   "exception": null,
   "input_path": "eBay_Overview.ipynb",
   "output_path": "eBay_Overview.ipynb",
   "parameters": {},
   "start_time": "2021-10-13T13:30:05.040197",
   "version": "2.3.3"
  }
 },
 "nbformat": 4,
 "nbformat_minor": 5
}