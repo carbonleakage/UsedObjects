{
 "cells": [
  {
   "cell_type": "code",
   "execution_count": 1,
   "id": "reverse-picking",
   "metadata": {
    "execution": {
     "iopub.execute_input": "2021-12-02T11:30:07.661959Z",
     "iopub.status.busy": "2021-12-02T11:30:07.659525Z",
     "iopub.status.idle": "2021-12-02T11:30:08.623240Z",
     "shell.execute_reply": "2021-12-02T11:30:08.624777Z"
    },
    "papermill": {
     "duration": 1.014328,
     "end_time": "2021-12-02T11:30:08.625512",
     "exception": false,
     "start_time": "2021-12-02T11:30:07.611184",
     "status": "completed"
    },
    "tags": []
   },
   "outputs": [],
   "source": [
    "import pandas as pd\n",
    "import sqlite3"
   ]
  },
  {
   "cell_type": "code",
   "execution_count": 2,
   "id": "innovative-syndrome",
   "metadata": {
    "execution": {
     "iopub.execute_input": "2021-12-02T11:30:08.703599Z",
     "iopub.status.busy": "2021-12-02T11:30:08.699959Z",
     "iopub.status.idle": "2021-12-02T11:30:09.761359Z",
     "shell.execute_reply": "2021-12-02T11:30:09.762827Z"
    },
    "papermill": {
     "duration": 1.108413,
     "end_time": "2021-12-02T11:30:09.763259",
     "exception": false,
     "start_time": "2021-12-02T11:30:08.654846",
     "status": "completed"
    },
    "tags": []
   },
   "outputs": [],
   "source": [
    "timestamps = pd.read_sql(\"select distinct record_time from EBAY_TOP_BERLIN order by record_time desc limit 2\", sqlite3.connect(\"UsedObjects.db\"))"
   ]
  },
  {
   "cell_type": "code",
   "execution_count": 3,
   "id": "periodic-identification",
   "metadata": {
    "execution": {
     "iopub.execute_input": "2021-12-02T11:30:09.832501Z",
     "iopub.status.busy": "2021-12-02T11:30:09.830259Z",
     "iopub.status.idle": "2021-12-02T11:30:09.855010Z",
     "shell.execute_reply": "2021-12-02T11:30:09.856345Z"
    },
    "papermill": {
     "duration": 0.073255,
     "end_time": "2021-12-02T11:30:09.856942",
     "exception": false,
     "start_time": "2021-12-02T11:30:09.783687",
     "status": "completed"
    },
    "tags": []
   },
   "outputs": [
    {
     "data": {
      "text/html": [
       "<div>\n",
       "<style scoped>\n",
       "    .dataframe tbody tr th:only-of-type {\n",
       "        vertical-align: middle;\n",
       "    }\n",
       "\n",
       "    .dataframe tbody tr th {\n",
       "        vertical-align: top;\n",
       "    }\n",
       "\n",
       "    .dataframe thead th {\n",
       "        text-align: right;\n",
       "    }\n",
       "</style>\n",
       "<table border=\"1\" class=\"dataframe\">\n",
       "  <thead>\n",
       "    <tr style=\"text-align: right;\">\n",
       "      <th></th>\n",
       "      <th>RECORD_TIME</th>\n",
       "    </tr>\n",
       "  </thead>\n",
       "  <tbody>\n",
       "    <tr>\n",
       "      <th>0</th>\n",
       "      <td>2021-12-02 12:30</td>\n",
       "    </tr>\n",
       "    <tr>\n",
       "      <th>1</th>\n",
       "      <td>2021-12-02 12:00</td>\n",
       "    </tr>\n",
       "  </tbody>\n",
       "</table>\n",
       "</div>"
      ],
      "text/plain": [
       "        RECORD_TIME\n",
       "0  2021-12-02 12:30\n",
       "1  2021-12-02 12:00"
      ]
     },
     "execution_count": 3,
     "metadata": {},
     "output_type": "execute_result"
    }
   ],
   "source": [
    "timestamps"
   ]
  },
  {
   "cell_type": "code",
   "execution_count": 4,
   "id": "alternate-victory",
   "metadata": {
    "execution": {
     "iopub.execute_input": "2021-12-02T11:30:09.914843Z",
     "iopub.status.busy": "2021-12-02T11:30:09.912481Z",
     "iopub.status.idle": "2021-12-02T11:30:11.390876Z",
     "shell.execute_reply": "2021-12-02T11:30:11.392332Z"
    },
    "papermill": {
     "duration": 1.512505,
     "end_time": "2021-12-02T11:30:11.392862",
     "exception": false,
     "start_time": "2021-12-02T11:30:09.880357",
     "status": "completed"
    },
    "tags": []
   },
   "outputs": [],
   "source": [
    "df = pd.read_sql(\"select * from EBAY_TOP_BERLIN where record_time in (select distinct record_time from EBAY_TOP_BERLIN order by record_time desc limit 2)\", sqlite3.connect(\"UsedObjects.db\"))"
   ]
  },
  {
   "cell_type": "code",
   "execution_count": 5,
   "id": "popular-active",
   "metadata": {
    "execution": {
     "iopub.execute_input": "2021-12-02T11:30:11.468281Z",
     "iopub.status.busy": "2021-12-02T11:30:11.461503Z",
     "iopub.status.idle": "2021-12-02T11:30:11.485980Z",
     "shell.execute_reply": "2021-12-02T11:30:11.487337Z"
    },
    "papermill": {
     "duration": 0.07422,
     "end_time": "2021-12-02T11:30:11.487799",
     "exception": false,
     "start_time": "2021-12-02T11:30:11.413579",
     "status": "completed"
    },
    "tags": []
   },
   "outputs": [],
   "source": [
    "df_pivot = df.pivot_table(index=\"PRODUCT\", columns = \"RECORD_TIME\", values = \"LISTING_COUNT\")"
   ]
  },
  {
   "cell_type": "code",
   "execution_count": 6,
   "id": "union-huntington",
   "metadata": {
    "execution": {
     "iopub.execute_input": "2021-12-02T11:30:11.551489Z",
     "iopub.status.busy": "2021-12-02T11:30:11.549305Z",
     "iopub.status.idle": "2021-12-02T11:30:11.554386Z",
     "shell.execute_reply": "2021-12-02T11:30:11.555832Z"
    },
    "papermill": {
     "duration": 0.046642,
     "end_time": "2021-12-02T11:30:11.556307",
     "exception": false,
     "start_time": "2021-12-02T11:30:11.509665",
     "status": "completed"
    },
    "tags": []
   },
   "outputs": [],
   "source": [
    "df_pivot.columns = [\"stamp_1\", \"stamp_2\"]\n",
    "df_pivot_diff = df_pivot.diff(axis=1)"
   ]
  },
  {
   "cell_type": "code",
   "execution_count": 7,
   "id": "fifth-motion",
   "metadata": {
    "execution": {
     "iopub.execute_input": "2021-12-02T11:30:11.613636Z",
     "iopub.status.busy": "2021-12-02T11:30:11.611012Z",
     "iopub.status.idle": "2021-12-02T11:30:13.653432Z",
     "shell.execute_reply": "2021-12-02T11:30:13.654806Z"
    },
    "papermill": {
     "duration": 2.078258,
     "end_time": "2021-12-02T11:30:13.655220",
     "exception": false,
     "start_time": "2021-12-02T11:30:11.576962",
     "status": "completed"
    },
    "tags": []
   },
   "outputs": [
    {
     "data": {
      "text/plain": [
       "<AxesSubplot:ylabel='PRODUCT'>"
      ]
     },
     "execution_count": 7,
     "metadata": {},
     "output_type": "execute_result"
    },
    {
     "data": {
      "image/png": "[encoded data removed]",
      "text/plain": [
       "<Figure size 432x288 with 1 Axes>"
      ]
     },
     "metadata": {
      "needs_background": "light"
     },
     "output_type": "display_data"
    }
   ],
   "source": [
    "df_pivot_diff.sort_values(\"stamp_2\", ascending = False)[\"stamp_2\"].head(10).plot.barh()"
   ]
  },
  {
   "cell_type": "code",
   "execution_count": null,
   "id": "extra-executive",
   "metadata": {
    "papermill": {
     "duration": 0.026322,
     "end_time": "2021-12-02T11:30:13.712503",
     "exception": false,
     "start_time": "2021-12-02T11:30:13.686181",
     "status": "completed"
    },
    "tags": []
   },
   "outputs": [],
   "source": []
  }
 ],
 "metadata": {
  "kernelspec": {
   "display_name": "Python 3",
   "language": "python",
   "name": "python3"
  },
  "language_info": {
   "codemirror_mode": {
    "name": "ipython",
    "version": 3
   },
   "file_extension": ".py",
   "mimetype": "text/x-python",
   "name": "python",
   "nbconvert_exporter": "python",
   "pygments_lexer": "ipython3",
   "version": "3.9.5"
  },
  "papermill": {
   "default_parameters": {},
   "duration": 9.489208,
   "end_time": "2021-12-02T11:30:14.361792",
   "environment_variables": {},
   "exception": null,
   "input_path": "eBay_Overview.ipynb",
   "output_path": "eBay_Overview.ipynb",
   "parameters": {},
   "start_time": "2021-12-02T11:30:04.872584",
   "version": "2.3.3"
  }
 },
 "nbformat": 4,
 "nbformat_minor": 5
}