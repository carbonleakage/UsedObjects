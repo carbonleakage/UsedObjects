{
 "cells": [
  {
   "cell_type": "code",
   "execution_count": 1,
   "id": "reverse-picking",
   "metadata": {
    "execution": {
     "iopub.execute_input": "2021-10-01T10:30:07.276499Z",
     "iopub.status.busy": "2021-10-01T10:30:07.274477Z",
     "iopub.status.idle": "2021-10-01T10:30:08.077387Z",
     "shell.execute_reply": "2021-10-01T10:30:08.078711Z"
    },
    "papermill": {
     "duration": 0.854704,
     "end_time": "2021-10-01T10:30:08.079414",
     "exception": false,
     "start_time": "2021-10-01T10:30:07.224710",
     "status": "completed"
    },
    "tags": []
   },
   "outputs": [],
   "source": [
    "import pandas as pd\n",
    "import sqlite3"
   ]
  },
  {
   "cell_type": "code",
   "execution_count": 2,
   "id": "innovative-syndrome",
   "metadata": {
    "execution": {
     "iopub.execute_input": "2021-10-01T10:30:08.129672Z",
     "iopub.status.busy": "2021-10-01T10:30:08.127633Z",
     "iopub.status.idle": "2021-10-01T10:30:08.543152Z",
     "shell.execute_reply": "2021-10-01T10:30:08.544540Z"
    },
    "papermill": {
     "duration": 0.445598,
     "end_time": "2021-10-01T10:30:08.544981",
     "exception": false,
     "start_time": "2021-10-01T10:30:08.099383",
     "status": "completed"
    },
    "tags": []
   },
   "outputs": [],
   "source": [
    "timestamps = pd.read_sql(\"select distinct record_time from EBAY_TOP_BERLIN order by record_time desc limit 2\", sqlite3.connect(\"UsedObjects.db\"))"
   ]
  },
  {
   "cell_type": "code",
   "execution_count": 3,
   "id": "periodic-identification",
   "metadata": {
    "execution": {
     "iopub.execute_input": "2021-10-01T10:30:08.610736Z",
     "iopub.status.busy": "2021-10-01T10:30:08.608726Z",
     "iopub.status.idle": "2021-10-01T10:30:08.628281Z",
     "shell.execute_reply": "2021-10-01T10:30:08.629556Z"
    },
    "papermill": {
     "duration": 0.065395,
     "end_time": "2021-10-01T10:30:08.630011",
     "exception": false,
     "start_time": "2021-10-01T10:30:08.564616",
     "status": "completed"
    },
    "tags": []
   },
   "outputs": [
    {
     "data": {
      "text/html": [
       "<div>\n",
       "<style scoped>\n",
       "    .dataframe tbody tr th:only-of-type {\n",
       "        vertical-align: middle;\n",
       "    }\n",
       "\n",
       "    .dataframe tbody tr th {\n",
       "        vertical-align: top;\n",
       "    }\n",
       "\n",
       "    .dataframe thead th {\n",
       "        text-align: right;\n",
       "    }\n",
       "</style>\n",
       "<table border=\"1\" class=\"dataframe\">\n",
       "  <thead>\n",
       "    <tr style=\"text-align: right;\">\n",
       "      <th></th>\n",
       "      <th>RECORD_TIME</th>\n",
       "    </tr>\n",
       "  </thead>\n",
       "  <tbody>\n",
       "    <tr>\n",
       "      <th>0</th>\n",
       "      <td>2021-10-01 12:30</td>\n",
       "    </tr>\n",
       "    <tr>\n",
       "      <th>1</th>\n",
       "      <td>2021-10-01 12:00</td>\n",
       "    </tr>\n",
       "  </tbody>\n",
       "</table>\n",
       "</div>"
      ],
      "text/plain": [
       "        RECORD_TIME\n",
       "0  2021-10-01 12:30\n",
       "1  2021-10-01 12:00"
      ]
     },
     "execution_count": 3,
     "metadata": {},
     "output_type": "execute_result"
    }
   ],
   "source": [
    "timestamps"
   ]
  },
  {
   "cell_type": "code",
   "execution_count": 4,
   "id": "alternate-victory",
   "metadata": {
    "execution": {
     "iopub.execute_input": "2021-10-01T10:30:08.682883Z",
     "iopub.status.busy": "2021-10-01T10:30:08.680829Z",
     "iopub.status.idle": "2021-10-01T10:30:09.305025Z",
     "shell.execute_reply": "2021-10-01T10:30:09.306221Z"
    },
    "papermill": {
     "duration": 0.654823,
     "end_time": "2021-10-01T10:30:09.306618",
     "exception": false,
     "start_time": "2021-10-01T10:30:08.651795",
     "status": "completed"
    },
    "tags": []
   },
   "outputs": [],
   "source": [
    "df = pd.read_sql(\"select * from EBAY_TOP_BERLIN where record_time in (select distinct record_time from EBAY_TOP_BERLIN order by record_time desc limit 2)\", sqlite3.connect(\"UsedObjects.db\"))"
   ]
  },
  {
   "cell_type": "code",
   "execution_count": 5,
   "id": "popular-active",
   "metadata": {
    "execution": {
     "iopub.execute_input": "2021-10-01T10:30:09.385928Z",
     "iopub.status.busy": "2021-10-01T10:30:09.374143Z",
     "iopub.status.idle": "2021-10-01T10:30:09.403152Z",
     "shell.execute_reply": "2021-10-01T10:30:09.404539Z"
    },
    "papermill": {
     "duration": 0.072679,
     "end_time": "2021-10-01T10:30:09.404983",
     "exception": false,
     "start_time": "2021-10-01T10:30:09.332304",
     "status": "completed"
    },
    "tags": []
   },
   "outputs": [],
   "source": [
    "df_pivot = df.pivot_table(index=\"PRODUCT\", columns = \"RECORD_TIME\", values = \"LISTING_COUNT\")"
   ]
  },
  {
   "cell_type": "code",
   "execution_count": 6,
   "id": "union-huntington",
   "metadata": {
    "execution": {
     "iopub.execute_input": "2021-10-01T10:30:09.460323Z",
     "iopub.status.busy": "2021-10-01T10:30:09.458189Z",
     "iopub.status.idle": "2021-10-01T10:30:09.463459Z",
     "shell.execute_reply": "2021-10-01T10:30:09.464746Z"
    },
    "papermill": {
     "duration": 0.04043,
     "end_time": "2021-10-01T10:30:09.465166",
     "exception": false,
     "start_time": "2021-10-01T10:30:09.424736",
     "status": "completed"
    },
    "tags": []
   },
   "outputs": [],
   "source": [
    "df_pivot.columns = [\"stamp_1\", \"stamp_2\"]\n",
    "df_pivot_diff = df_pivot.diff(axis=1)"
   ]
  },
  {
   "cell_type": "code",
   "execution_count": 7,
   "id": "fifth-motion",
   "metadata": {
    "execution": {
     "iopub.execute_input": "2021-10-01T10:30:09.518399Z",
     "iopub.status.busy": "2021-10-01T10:30:09.516005Z",
     "iopub.status.idle": "2021-10-01T10:30:11.023094Z",
     "shell.execute_reply": "2021-10-01T10:30:11.024293Z"
    },
    "papermill": {
     "duration": 1.539361,
     "end_time": "2021-10-01T10:30:11.024729",
     "exception": false,
     "start_time": "2021-10-01T10:30:09.485368",
     "status": "completed"
    },
    "tags": []
   },
   "outputs": [
    {
     "data": {
      "text/plain": [
       "<AxesSubplot:ylabel='PRODUCT'>"
      ]
     },
     "execution_count": 7,
     "metadata": {},
     "output_type": "execute_result"
    },
    {
     "data": {
      "image/png": "[encoded data removed]",
      "text/plain": [
       "<Figure size 432x288 with 1 Axes>"
      ]
     },
     "metadata": {
      "needs_background": "light"
     },
     "output_type": "display_data"
    }
   ],
   "source": [
    "df_pivot_diff.sort_values(\"stamp_2\", ascending = False)[\"stamp_2\"].head(10).plot.barh()"
   ]
  },
  {
   "cell_type": "code",
   "execution_count": null,
   "id": "extra-executive",
   "metadata": {
    "papermill": {
     "duration": 0.021998,
     "end_time": "2021-10-01T10:30:11.070558",
     "exception": false,
     "start_time": "2021-10-01T10:30:11.048560",
     "status": "completed"
    },
    "tags": []
   },
   "outputs": [],
   "source": []
  }
 ],
 "metadata": {
  "kernelspec": {
   "display_name": "Python 3",
   "language": "python",
   "name": "python3"
  },
  "language_info": {
   "codemirror_mode": {
    "name": "ipython",
    "version": 3
   },
   "file_extension": ".py",
   "mimetype": "text/x-python",
   "name": "python",
   "nbconvert_exporter": "python",
   "pygments_lexer": "ipython3",
   "version": "3.9.5"
  },
  "papermill": {
   "default_parameters": {},
   "duration": 7.824878,
   "end_time": "2021-10-01T10:30:12.655537",
   "environment_variables": {},
   "exception": null,
   "input_path": "eBay_Overview.ipynb",
   "output_path": "eBay_Overview.ipynb",
   "parameters": {},
   "start_time": "2021-10-01T10:30:04.830659",
   "version": "2.3.3"
  }
 },
 "nbformat": 4,
 "nbformat_minor": 5
}