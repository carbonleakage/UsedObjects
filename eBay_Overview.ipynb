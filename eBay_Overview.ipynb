{
 "cells": [
  {
   "cell_type": "code",
   "execution_count": 1,
   "id": "reverse-picking",
   "metadata": {
    "execution": {
     "iopub.execute_input": "2021-11-26T12:00:07.753940Z",
     "iopub.status.busy": "2021-11-26T12:00:07.751259Z",
     "iopub.status.idle": "2021-11-26T12:00:08.704436Z",
     "shell.execute_reply": "2021-11-26T12:00:08.706101Z"
    },
    "papermill": {
     "duration": 1.003102,
     "end_time": "2021-11-26T12:00:08.707072",
     "exception": false,
     "start_time": "2021-11-26T12:00:07.703970",
     "status": "completed"
    },
    "tags": []
   },
   "outputs": [],
   "source": [
    "import pandas as pd\n",
    "import sqlite3"
   ]
  },
  {
   "cell_type": "code",
   "execution_count": 2,
   "id": "innovative-syndrome",
   "metadata": {
    "execution": {
     "iopub.execute_input": "2021-11-26T12:00:08.778547Z",
     "iopub.status.busy": "2021-11-26T12:00:08.776243Z",
     "iopub.status.idle": "2021-11-26T12:00:09.696065Z",
     "shell.execute_reply": "2021-11-26T12:00:09.697427Z"
    },
    "papermill": {
     "duration": 0.958647,
     "end_time": "2021-11-26T12:00:09.697866",
     "exception": false,
     "start_time": "2021-11-26T12:00:08.739219",
     "status": "completed"
    },
    "tags": []
   },
   "outputs": [],
   "source": [
    "timestamps = pd.read_sql(\"select distinct record_time from EBAY_TOP_BERLIN order by record_time desc limit 2\", sqlite3.connect(\"UsedObjects.db\"))"
   ]
  },
  {
   "cell_type": "code",
   "execution_count": 3,
   "id": "periodic-identification",
   "metadata": {
    "execution": {
     "iopub.execute_input": "2021-11-26T12:00:09.763075Z",
     "iopub.status.busy": "2021-11-26T12:00:09.761053Z",
     "iopub.status.idle": "2021-11-26T12:00:09.780990Z",
     "shell.execute_reply": "2021-11-26T12:00:09.782249Z"
    },
    "papermill": {
     "duration": 0.064456,
     "end_time": "2021-11-26T12:00:09.782650",
     "exception": false,
     "start_time": "2021-11-26T12:00:09.718194",
     "status": "completed"
    },
    "tags": []
   },
   "outputs": [
    {
     "data": {
      "text/html": [
       "<div>\n",
       "<style scoped>\n",
       "    .dataframe tbody tr th:only-of-type {\n",
       "        vertical-align: middle;\n",
       "    }\n",
       "\n",
       "    .dataframe tbody tr th {\n",
       "        vertical-align: top;\n",
       "    }\n",
       "\n",
       "    .dataframe thead th {\n",
       "        text-align: right;\n",
       "    }\n",
       "</style>\n",
       "<table border=\"1\" class=\"dataframe\">\n",
       "  <thead>\n",
       "    <tr style=\"text-align: right;\">\n",
       "      <th></th>\n",
       "      <th>RECORD_TIME</th>\n",
       "    </tr>\n",
       "  </thead>\n",
       "  <tbody>\n",
       "    <tr>\n",
       "      <th>0</th>\n",
       "      <td>2021-11-26 13:00</td>\n",
       "    </tr>\n",
       "    <tr>\n",
       "      <th>1</th>\n",
       "      <td>2021-11-26 12:30</td>\n",
       "    </tr>\n",
       "  </tbody>\n",
       "</table>\n",
       "</div>"
      ],
      "text/plain": [
       "        RECORD_TIME\n",
       "0  2021-11-26 13:00\n",
       "1  2021-11-26 12:30"
      ]
     },
     "execution_count": 3,
     "metadata": {},
     "output_type": "execute_result"
    }
   ],
   "source": [
    "timestamps"
   ]
  },
  {
   "cell_type": "code",
   "execution_count": 4,
   "id": "alternate-victory",
   "metadata": {
    "execution": {
     "iopub.execute_input": "2021-11-26T12:00:09.835608Z",
     "iopub.status.busy": "2021-11-26T12:00:09.833421Z",
     "iopub.status.idle": "2021-11-26T12:00:11.171446Z",
     "shell.execute_reply": "2021-11-26T12:00:11.172741Z"
    },
    "papermill": {
     "duration": 1.369699,
     "end_time": "2021-11-26T12:00:11.173299",
     "exception": false,
     "start_time": "2021-11-26T12:00:09.803600",
     "status": "completed"
    },
    "tags": []
   },
   "outputs": [],
   "source": [
    "df = pd.read_sql(\"select * from EBAY_TOP_BERLIN where record_time in (select distinct record_time from EBAY_TOP_BERLIN order by record_time desc limit 2)\", sqlite3.connect(\"UsedObjects.db\"))"
   ]
  },
  {
   "cell_type": "code",
   "execution_count": 5,
   "id": "popular-active",
   "metadata": {
    "execution": {
     "iopub.execute_input": "2021-11-26T12:00:11.244306Z",
     "iopub.status.busy": "2021-11-26T12:00:11.241714Z",
     "iopub.status.idle": "2021-11-26T12:00:11.279867Z",
     "shell.execute_reply": "2021-11-26T12:00:11.282278Z"
    },
    "papermill": {
     "duration": 0.085106,
     "end_time": "2021-11-26T12:00:11.282905",
     "exception": false,
     "start_time": "2021-11-26T12:00:11.197799",
     "status": "completed"
    },
    "tags": []
   },
   "outputs": [],
   "source": [
    "df_pivot = df.pivot_table(index=\"PRODUCT\", columns = \"RECORD_TIME\", values = \"LISTING_COUNT\")"
   ]
  },
  {
   "cell_type": "code",
   "execution_count": 6,
   "id": "union-huntington",
   "metadata": {
    "execution": {
     "iopub.execute_input": "2021-11-26T12:00:11.345381Z",
     "iopub.status.busy": "2021-11-26T12:00:11.343102Z",
     "iopub.status.idle": "2021-11-26T12:00:11.350483Z",
     "shell.execute_reply": "2021-11-26T12:00:11.348884Z"
    },
    "papermill": {
     "duration": 0.0453,
     "end_time": "2021-11-26T12:00:11.350886",
     "exception": false,
     "start_time": "2021-11-26T12:00:11.305586",
     "status": "completed"
    },
    "tags": []
   },
   "outputs": [],
   "source": [
    "df_pivot.columns = [\"stamp_1\", \"stamp_2\"]\n",
    "df_pivot_diff = df_pivot.diff(axis=1)"
   ]
  },
  {
   "cell_type": "code",
   "execution_count": 7,
   "id": "fifth-motion",
   "metadata": {
    "execution": {
     "iopub.execute_input": "2021-11-26T12:00:11.407008Z",
     "iopub.status.busy": "2021-11-26T12:00:11.404481Z",
     "iopub.status.idle": "2021-11-26T12:00:13.431111Z",
     "shell.execute_reply": "2021-11-26T12:00:13.433079Z"
    },
    "papermill": {
     "duration": 2.062821,
     "end_time": "2021-11-26T12:00:13.433688",
     "exception": false,
     "start_time": "2021-11-26T12:00:11.370867",
     "status": "completed"
    },
    "tags": []
   },
   "outputs": [
    {
     "data": {
      "text/plain": [
       "<AxesSubplot:ylabel='PRODUCT'>"
      ]
     },
     "execution_count": 7,
     "metadata": {},
     "output_type": "execute_result"
    },
    {
     "data": {
      "image/png": "[encoded data removed]",
      "text/plain": [
       "<Figure size 432x288 with 1 Axes>"
      ]
     },
     "metadata": {
      "needs_background": "light"
     },
     "output_type": "display_data"
    }
   ],
   "source": [
    "df_pivot_diff.sort_values(\"stamp_2\", ascending = False)[\"stamp_2\"].head(10).plot.barh()"
   ]
  },
  {
   "cell_type": "code",
   "execution_count": null,
   "id": "extra-executive",
   "metadata": {
    "papermill": {
     "duration": 0.024978,
     "end_time": "2021-11-26T12:00:13.486943",
     "exception": false,
     "start_time": "2021-11-26T12:00:13.461965",
     "status": "completed"
    },
    "tags": []
   },
   "outputs": [],
   "source": []
  }
 ],
 "metadata": {
  "kernelspec": {
   "display_name": "Python 3",
   "language": "python",
   "name": "python3"
  },
  "language_info": {
   "codemirror_mode": {
    "name": "ipython",
    "version": 3
   },
   "file_extension": ".py",
   "mimetype": "text/x-python",
   "name": "python",
   "nbconvert_exporter": "python",
   "pygments_lexer": "ipython3",
   "version": "3.9.5"
  },
  "papermill": {
   "default_parameters": {},
   "duration": 9.926754,
   "end_time": "2021-11-26T12:00:14.916070",
   "environment_variables": {},
   "exception": null,
   "input_path": "eBay_Overview.ipynb",
   "output_path": "eBay_Overview.ipynb",
   "parameters": {},
   "start_time": "2021-11-26T12:00:04.989316",
   "version": "2.3.3"
  }
 },
 "nbformat": 4,
 "nbformat_minor": 5
}