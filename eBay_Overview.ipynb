{
 "cells": [
  {
   "cell_type": "code",
   "execution_count": 1,
   "id": "reverse-picking",
   "metadata": {
    "execution": {
     "iopub.execute_input": "2021-09-01T09:00:07.316902Z",
     "iopub.status.busy": "2021-09-01T09:00:07.315006Z",
     "iopub.status.idle": "2021-09-01T09:00:08.117447Z",
     "shell.execute_reply": "2021-09-01T09:00:08.118731Z"
    },
    "papermill": {
     "duration": 0.855183,
     "end_time": "2021-09-01T09:00:08.119455",
     "exception": false,
     "start_time": "2021-09-01T09:00:07.264272",
     "status": "completed"
    },
    "tags": []
   },
   "outputs": [],
   "source": [
    "import pandas as pd\n",
    "import sqlite3"
   ]
  },
  {
   "cell_type": "code",
   "execution_count": 2,
   "id": "innovative-syndrome",
   "metadata": {
    "execution": {
     "iopub.execute_input": "2021-09-01T09:00:08.171281Z",
     "iopub.status.busy": "2021-09-01T09:00:08.169260Z",
     "iopub.status.idle": "2021-09-01T09:00:08.348131Z",
     "shell.execute_reply": "2021-09-01T09:00:08.349302Z"
    },
    "papermill": {
     "duration": 0.20879,
     "end_time": "2021-09-01T09:00:08.349682",
     "exception": false,
     "start_time": "2021-09-01T09:00:08.140892",
     "status": "completed"
    },
    "tags": []
   },
   "outputs": [],
   "source": [
    "timestamps = pd.read_sql(\"select distinct record_time from EBAY_TOP_BERLIN order by record_time desc limit 2\", sqlite3.connect(\"UsedObjects.db\"))"
   ]
  },
  {
   "cell_type": "code",
   "execution_count": 3,
   "id": "periodic-identification",
   "metadata": {
    "execution": {
     "iopub.execute_input": "2021-09-01T09:00:08.413901Z",
     "iopub.status.busy": "2021-09-01T09:00:08.411883Z",
     "iopub.status.idle": "2021-09-01T09:00:08.432427Z",
     "shell.execute_reply": "2021-09-01T09:00:08.433689Z"
    },
    "papermill": {
     "duration": 0.06367,
     "end_time": "2021-09-01T09:00:08.434091",
     "exception": false,
     "start_time": "2021-09-01T09:00:08.370421",
     "status": "completed"
    },
    "tags": []
   },
   "outputs": [
    {
     "data": {
      "text/html": [
       "<div>\n",
       "<style scoped>\n",
       "    .dataframe tbody tr th:only-of-type {\n",
       "        vertical-align: middle;\n",
       "    }\n",
       "\n",
       "    .dataframe tbody tr th {\n",
       "        vertical-align: top;\n",
       "    }\n",
       "\n",
       "    .dataframe thead th {\n",
       "        text-align: right;\n",
       "    }\n",
       "</style>\n",
       "<table border=\"1\" class=\"dataframe\">\n",
       "  <thead>\n",
       "    <tr style=\"text-align: right;\">\n",
       "      <th></th>\n",
       "      <th>RECORD_TIME</th>\n",
       "    </tr>\n",
       "  </thead>\n",
       "  <tbody>\n",
       "    <tr>\n",
       "      <th>0</th>\n",
       "      <td>2021-09-01 11:00</td>\n",
       "    </tr>\n",
       "    <tr>\n",
       "      <th>1</th>\n",
       "      <td>2021-09-01 10:30</td>\n",
       "    </tr>\n",
       "  </tbody>\n",
       "</table>\n",
       "</div>"
      ],
      "text/plain": [
       "        RECORD_TIME\n",
       "0  2021-09-01 11:00\n",
       "1  2021-09-01 10:30"
      ]
     },
     "execution_count": 3,
     "metadata": {},
     "output_type": "execute_result"
    }
   ],
   "source": [
    "timestamps"
   ]
  },
  {
   "cell_type": "code",
   "execution_count": 4,
   "id": "alternate-victory",
   "metadata": {
    "execution": {
     "iopub.execute_input": "2021-09-01T09:00:08.485577Z",
     "iopub.status.busy": "2021-09-01T09:00:08.483772Z",
     "iopub.status.idle": "2021-09-01T09:00:08.748704Z",
     "shell.execute_reply": "2021-09-01T09:00:08.749805Z"
    },
    "papermill": {
     "duration": 0.29467,
     "end_time": "2021-09-01T09:00:08.750201",
     "exception": false,
     "start_time": "2021-09-01T09:00:08.455531",
     "status": "completed"
    },
    "tags": []
   },
   "outputs": [],
   "source": [
    "df = pd.read_sql(\"select * from EBAY_TOP_BERLIN where record_time in (select distinct record_time from EBAY_TOP_BERLIN order by record_time desc limit 2)\", sqlite3.connect(\"UsedObjects.db\"))"
   ]
  },
  {
   "cell_type": "code",
   "execution_count": 5,
   "id": "popular-active",
   "metadata": {
    "execution": {
     "iopub.execute_input": "2021-09-01T09:00:08.834168Z",
     "iopub.status.busy": "2021-09-01T09:00:08.822341Z",
     "iopub.status.idle": "2021-09-01T09:00:08.849824Z",
     "shell.execute_reply": "2021-09-01T09:00:08.851081Z"
    },
    "papermill": {
     "duration": 0.071641,
     "end_time": "2021-09-01T09:00:08.851472",
     "exception": false,
     "start_time": "2021-09-01T09:00:08.779831",
     "status": "completed"
    },
    "tags": []
   },
   "outputs": [],
   "source": [
    "df_pivot = df.pivot_table(index=\"PRODUCT\", columns = \"RECORD_TIME\", values = \"LISTING_COUNT\")"
   ]
  },
  {
   "cell_type": "code",
   "execution_count": 6,
   "id": "union-huntington",
   "metadata": {
    "execution": {
     "iopub.execute_input": "2021-09-01T09:00:08.907299Z",
     "iopub.status.busy": "2021-09-01T09:00:08.905220Z",
     "iopub.status.idle": "2021-09-01T09:00:08.910552Z",
     "shell.execute_reply": "2021-09-01T09:00:08.912045Z"
    },
    "papermill": {
     "duration": 0.040358,
     "end_time": "2021-09-01T09:00:08.912463",
     "exception": false,
     "start_time": "2021-09-01T09:00:08.872105",
     "status": "completed"
    },
    "tags": []
   },
   "outputs": [],
   "source": [
    "df_pivot.columns = [\"stamp_1\", \"stamp_2\"]\n",
    "df_pivot_diff = df_pivot.diff(axis=1)"
   ]
  },
  {
   "cell_type": "code",
   "execution_count": 7,
   "id": "fifth-motion",
   "metadata": {
    "execution": {
     "iopub.execute_input": "2021-09-01T09:00:08.968471Z",
     "iopub.status.busy": "2021-09-01T09:00:08.965955Z",
     "iopub.status.idle": "2021-09-01T09:00:10.476457Z",
     "shell.execute_reply": "2021-09-01T09:00:10.477737Z"
    },
    "papermill": {
     "duration": 1.543947,
     "end_time": "2021-09-01T09:00:10.478144",
     "exception": false,
     "start_time": "2021-09-01T09:00:08.934197",
     "status": "completed"
    },
    "tags": []
   },
   "outputs": [
    {
     "data": {
      "text/plain": [
       "<AxesSubplot:ylabel='PRODUCT'>"
      ]
     },
     "execution_count": 7,
     "metadata": {},
     "output_type": "execute_result"
    },
    {
     "data": {
      "image/png": "[encoded data removed]",
      "text/plain": [
       "<Figure size 432x288 with 1 Axes>"
      ]
     },
     "metadata": {
      "needs_background": "light"
     },
     "output_type": "display_data"
    }
   ],
   "source": [
    "df_pivot_diff.sort_values(\"stamp_2\", ascending = False)[\"stamp_2\"].head(10).plot.barh()"
   ]
  },
  {
   "cell_type": "code",
   "execution_count": null,
   "id": "extra-executive",
   "metadata": {
    "papermill": {
     "duration": 0.022183,
     "end_time": "2021-09-01T09:00:10.524125",
     "exception": false,
     "start_time": "2021-09-01T09:00:10.501942",
     "status": "completed"
    },
    "tags": []
   },
   "outputs": [],
   "source": []
  }
 ],
 "metadata": {
  "kernelspec": {
   "display_name": "Python 3",
   "language": "python",
   "name": "python3"
  },
  "language_info": {
   "codemirror_mode": {
    "name": "ipython",
    "version": 3
   },
   "file_extension": ".py",
   "mimetype": "text/x-python",
   "name": "python",
   "nbconvert_exporter": "python",
   "pygments_lexer": "ipython3",
   "version": "3.9.5"
  },
  "papermill": {
   "default_parameters": {},
   "duration": 6.821874,
   "end_time": "2021-09-01T09:00:11.687136",
   "environment_variables": {},
   "exception": null,
   "input_path": "eBay_Overview.ipynb",
   "output_path": "eBay_Overview.ipynb",
   "parameters": {},
   "start_time": "2021-09-01T09:00:04.865262",
   "version": "2.3.3"
  }
 },
 "nbformat": 4,
 "nbformat_minor": 5
}