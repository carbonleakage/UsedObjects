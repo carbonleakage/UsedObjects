{
 "cells": [
  {
   "cell_type": "code",
   "execution_count": 1,
   "id": "reverse-picking",
   "metadata": {
    "execution": {
     "iopub.execute_input": "2021-12-09T02:30:07.322477Z",
     "iopub.status.busy": "2021-12-09T02:30:07.320340Z",
     "iopub.status.idle": "2021-12-09T02:30:08.295929Z",
     "shell.execute_reply": "2021-12-09T02:30:08.294050Z"
    },
    "papermill": {
     "duration": 1.023685,
     "end_time": "2021-12-09T02:30:08.296426",
     "exception": false,
     "start_time": "2021-12-09T02:30:07.272741",
     "status": "completed"
    },
    "tags": []
   },
   "outputs": [],
   "source": [
    "import pandas as pd\n",
    "import sqlite3"
   ]
  },
  {
   "cell_type": "code",
   "execution_count": 2,
   "id": "innovative-syndrome",
   "metadata": {
    "execution": {
     "iopub.execute_input": "2021-12-09T02:30:08.417860Z",
     "iopub.status.busy": "2021-12-09T02:30:08.415844Z",
     "iopub.status.idle": "2021-12-09T02:30:09.447083Z",
     "shell.execute_reply": "2021-12-09T02:30:09.449965Z"
    },
    "papermill": {
     "duration": 1.065434,
     "end_time": "2021-12-09T02:30:09.450804",
     "exception": false,
     "start_time": "2021-12-09T02:30:08.385370",
     "status": "completed"
    },
    "tags": []
   },
   "outputs": [],
   "source": [
    "timestamps = pd.read_sql(\"select distinct record_time from EBAY_TOP_BERLIN order by record_time desc limit 2\", sqlite3.connect(\"UsedObjects.db\"))"
   ]
  },
  {
   "cell_type": "code",
   "execution_count": 3,
   "id": "periodic-identification",
   "metadata": {
    "execution": {
     "iopub.execute_input": "2021-12-09T02:30:09.534907Z",
     "iopub.status.busy": "2021-12-09T02:30:09.532314Z",
     "iopub.status.idle": "2021-12-09T02:30:09.555920Z",
     "shell.execute_reply": "2021-12-09T02:30:09.557427Z"
    },
    "papermill": {
     "duration": 0.075274,
     "end_time": "2021-12-09T02:30:09.557926",
     "exception": false,
     "start_time": "2021-12-09T02:30:09.482652",
     "status": "completed"
    },
    "tags": []
   },
   "outputs": [
    {
     "data": {
      "text/html": [
       "<div>\n",
       "<style scoped>\n",
       "    .dataframe tbody tr th:only-of-type {\n",
       "        vertical-align: middle;\n",
       "    }\n",
       "\n",
       "    .dataframe tbody tr th {\n",
       "        vertical-align: top;\n",
       "    }\n",
       "\n",
       "    .dataframe thead th {\n",
       "        text-align: right;\n",
       "    }\n",
       "</style>\n",
       "<table border=\"1\" class=\"dataframe\">\n",
       "  <thead>\n",
       "    <tr style=\"text-align: right;\">\n",
       "      <th></th>\n",
       "      <th>RECORD_TIME</th>\n",
       "    </tr>\n",
       "  </thead>\n",
       "  <tbody>\n",
       "    <tr>\n",
       "      <th>0</th>\n",
       "      <td>2021-12-09 03:30</td>\n",
       "    </tr>\n",
       "    <tr>\n",
       "      <th>1</th>\n",
       "      <td>2021-12-09 03:00</td>\n",
       "    </tr>\n",
       "  </tbody>\n",
       "</table>\n",
       "</div>"
      ],
      "text/plain": [
       "        RECORD_TIME\n",
       "0  2021-12-09 03:30\n",
       "1  2021-12-09 03:00"
      ]
     },
     "execution_count": 3,
     "metadata": {},
     "output_type": "execute_result"
    }
   ],
   "source": [
    "timestamps"
   ]
  },
  {
   "cell_type": "code",
   "execution_count": 4,
   "id": "alternate-victory",
   "metadata": {
    "execution": {
     "iopub.execute_input": "2021-12-09T02:30:09.613523Z",
     "iopub.status.busy": "2021-12-09T02:30:09.611173Z",
     "iopub.status.idle": "2021-12-09T02:30:11.149895Z",
     "shell.execute_reply": "2021-12-09T02:30:11.153038Z"
    },
    "papermill": {
     "duration": 1.573924,
     "end_time": "2021-12-09T02:30:11.153840",
     "exception": false,
     "start_time": "2021-12-09T02:30:09.579916",
     "status": "completed"
    },
    "tags": []
   },
   "outputs": [],
   "source": [
    "df = pd.read_sql(\"select * from EBAY_TOP_BERLIN where record_time in (select distinct record_time from EBAY_TOP_BERLIN order by record_time desc limit 2)\", sqlite3.connect(\"UsedObjects.db\"))"
   ]
  },
  {
   "cell_type": "code",
   "execution_count": 5,
   "id": "popular-active",
   "metadata": {
    "execution": {
     "iopub.execute_input": "2021-12-09T02:30:11.305016Z",
     "iopub.status.busy": "2021-12-09T02:30:11.275595Z",
     "iopub.status.idle": "2021-12-09T02:30:11.341556Z",
     "shell.execute_reply": "2021-12-09T02:30:11.343946Z"
    },
    "papermill": {
     "duration": 0.156754,
     "end_time": "2021-12-09T02:30:11.344610",
     "exception": false,
     "start_time": "2021-12-09T02:30:11.187856",
     "status": "completed"
    },
    "tags": []
   },
   "outputs": [],
   "source": [
    "df_pivot = df.pivot_table(index=\"PRODUCT\", columns = \"RECORD_TIME\", values = \"LISTING_COUNT\")"
   ]
  },
  {
   "cell_type": "code",
   "execution_count": 6,
   "id": "union-huntington",
   "metadata": {
    "execution": {
     "iopub.execute_input": "2021-12-09T02:30:11.430257Z",
     "iopub.status.busy": "2021-12-09T02:30:11.427506Z",
     "iopub.status.idle": "2021-12-09T02:30:11.434511Z",
     "shell.execute_reply": "2021-12-09T02:30:11.436554Z"
    },
    "papermill": {
     "duration": 0.06167,
     "end_time": "2021-12-09T02:30:11.437244",
     "exception": false,
     "start_time": "2021-12-09T02:30:11.375574",
     "status": "completed"
    },
    "tags": []
   },
   "outputs": [],
   "source": [
    "df_pivot.columns = [\"stamp_1\", \"stamp_2\"]\n",
    "df_pivot_diff = df_pivot.diff(axis=1)"
   ]
  },
  {
   "cell_type": "code",
   "execution_count": 7,
   "id": "fifth-motion",
   "metadata": {
    "execution": {
     "iopub.execute_input": "2021-12-09T02:30:11.500668Z",
     "iopub.status.busy": "2021-12-09T02:30:11.498149Z",
     "iopub.status.idle": "2021-12-09T02:30:13.225460Z",
     "shell.execute_reply": "2021-12-09T02:30:13.226757Z"
    },
    "papermill": {
     "duration": 1.764916,
     "end_time": "2021-12-09T02:30:13.227170",
     "exception": false,
     "start_time": "2021-12-09T02:30:11.462254",
     "status": "completed"
    },
    "tags": []
   },
   "outputs": [
    {
     "data": {
      "text/plain": [
       "<AxesSubplot:ylabel='PRODUCT'>"
      ]
     },
     "execution_count": 7,
     "metadata": {},
     "output_type": "execute_result"
    },
    {
     "data": {
      "image/png": "[encoded data removed]",
      "text/plain": [
       "<Figure size 432x288 with 1 Axes>"
      ]
     },
     "metadata": {
      "needs_background": "light"
     },
     "output_type": "display_data"
    }
   ],
   "source": [
    "df_pivot_diff.sort_values(\"stamp_2\", ascending = False)[\"stamp_2\"].head(10).plot.barh()"
   ]
  },
  {
   "cell_type": "code",
   "execution_count": null,
   "id": "extra-executive",
   "metadata": {
    "papermill": {
     "duration": 0.021882,
     "end_time": "2021-12-09T02:30:13.272745",
     "exception": false,
     "start_time": "2021-12-09T02:30:13.250863",
     "status": "completed"
    },
    "tags": []
   },
   "outputs": [],
   "source": []
  }
 ],
 "metadata": {
  "kernelspec": {
   "display_name": "Python 3",
   "language": "python",
   "name": "python3"
  },
  "language_info": {
   "codemirror_mode": {
    "name": "ipython",
    "version": 3
   },
   "file_extension": ".py",
   "mimetype": "text/x-python",
   "name": "python",
   "nbconvert_exporter": "python",
   "pygments_lexer": "ipython3",
   "version": "3.9.5"
  },
  "papermill": {
   "default_parameters": {},
   "duration": 9.962847,
   "end_time": "2021-12-09T02:30:14.484627",
   "environment_variables": {},
   "exception": null,
   "input_path": "eBay_Overview.ipynb",
   "output_path": "eBay_Overview.ipynb",
   "parameters": {},
   "start_time": "2021-12-09T02:30:04.521780",
   "version": "2.3.3"
  }
 },
 "nbformat": 4,
 "nbformat_minor": 5
}