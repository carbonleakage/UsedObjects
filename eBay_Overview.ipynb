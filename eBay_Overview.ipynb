{
 "cells": [
  {
   "cell_type": "code",
   "execution_count": 1,
   "id": "reverse-picking",
   "metadata": {
    "execution": {
     "iopub.execute_input": "2021-08-22T10:00:06.930701Z",
     "iopub.status.busy": "2021-08-22T10:00:06.928664Z",
     "iopub.status.idle": "2021-08-22T10:00:07.735921Z",
     "shell.execute_reply": "2021-08-22T10:00:07.737159Z"
    },
    "papermill": {
     "duration": 0.857347,
     "end_time": "2021-08-22T10:00:07.737765",
     "exception": false,
     "start_time": "2021-08-22T10:00:06.880418",
     "status": "completed"
    },
    "tags": []
   },
   "outputs": [],
   "source": [
    "import pandas as pd\n",
    "import sqlite3"
   ]
  },
  {
   "cell_type": "code",
   "execution_count": 2,
   "id": "innovative-syndrome",
   "metadata": {
    "execution": {
     "iopub.execute_input": "2021-08-22T10:00:07.790819Z",
     "iopub.status.busy": "2021-08-22T10:00:07.788464Z",
     "iopub.status.idle": "2021-08-22T10:00:07.893807Z",
     "shell.execute_reply": "2021-08-22T10:00:07.895234Z"
    },
    "papermill": {
     "duration": 0.135502,
     "end_time": "2021-08-22T10:00:07.895671",
     "exception": false,
     "start_time": "2021-08-22T10:00:07.760169",
     "status": "completed"
    },
    "tags": []
   },
   "outputs": [],
   "source": [
    "timestamps = pd.read_sql(\"select distinct record_time from EBAY_TOP_BERLIN order by record_time desc limit 2\", sqlite3.connect(\"UsedObjects.db\"))"
   ]
  },
  {
   "cell_type": "code",
   "execution_count": 3,
   "id": "periodic-identification",
   "metadata": {
    "execution": {
     "iopub.execute_input": "2021-08-22T10:00:07.961643Z",
     "iopub.status.busy": "2021-08-22T10:00:07.959627Z",
     "iopub.status.idle": "2021-08-22T10:00:07.980666Z",
     "shell.execute_reply": "2021-08-22T10:00:07.982081Z"
    },
    "papermill": {
     "duration": 0.067034,
     "end_time": "2021-08-22T10:00:07.982566",
     "exception": false,
     "start_time": "2021-08-22T10:00:07.915532",
     "status": "completed"
    },
    "tags": []
   },
   "outputs": [
    {
     "data": {
      "text/html": [
       "<div>\n",
       "<style scoped>\n",
       "    .dataframe tbody tr th:only-of-type {\n",
       "        vertical-align: middle;\n",
       "    }\n",
       "\n",
       "    .dataframe tbody tr th {\n",
       "        vertical-align: top;\n",
       "    }\n",
       "\n",
       "    .dataframe thead th {\n",
       "        text-align: right;\n",
       "    }\n",
       "</style>\n",
       "<table border=\"1\" class=\"dataframe\">\n",
       "  <thead>\n",
       "    <tr style=\"text-align: right;\">\n",
       "      <th></th>\n",
       "      <th>RECORD_TIME</th>\n",
       "    </tr>\n",
       "  </thead>\n",
       "  <tbody>\n",
       "    <tr>\n",
       "      <th>0</th>\n",
       "      <td>2021-08-22 12:00</td>\n",
       "    </tr>\n",
       "    <tr>\n",
       "      <th>1</th>\n",
       "      <td>2021-08-22 11:30</td>\n",
       "    </tr>\n",
       "  </tbody>\n",
       "</table>\n",
       "</div>"
      ],
      "text/plain": [
       "        RECORD_TIME\n",
       "0  2021-08-22 12:00\n",
       "1  2021-08-22 11:30"
      ]
     },
     "execution_count": 3,
     "metadata": {},
     "output_type": "execute_result"
    }
   ],
   "source": [
    "timestamps"
   ]
  },
  {
   "cell_type": "code",
   "execution_count": 4,
   "id": "alternate-victory",
   "metadata": {
    "execution": {
     "iopub.execute_input": "2021-08-22T10:00:08.034544Z",
     "iopub.status.busy": "2021-08-22T10:00:08.032618Z",
     "iopub.status.idle": "2021-08-22T10:00:08.187253Z",
     "shell.execute_reply": "2021-08-22T10:00:08.185877Z"
    },
    "papermill": {
     "duration": 0.183199,
     "end_time": "2021-08-22T10:00:08.187588",
     "exception": false,
     "start_time": "2021-08-22T10:00:08.004389",
     "status": "completed"
    },
    "tags": []
   },
   "outputs": [],
   "source": [
    "df = pd.read_sql(\"select * from EBAY_TOP_BERLIN where record_time in (select distinct record_time from EBAY_TOP_BERLIN order by record_time desc limit 2)\", sqlite3.connect(\"UsedObjects.db\"))"
   ]
  },
  {
   "cell_type": "code",
   "execution_count": 5,
   "id": "popular-active",
   "metadata": {
    "execution": {
     "iopub.execute_input": "2021-08-22T10:00:08.259161Z",
     "iopub.status.busy": "2021-08-22T10:00:08.248645Z",
     "iopub.status.idle": "2021-08-22T10:00:08.275539Z",
     "shell.execute_reply": "2021-08-22T10:00:08.276743Z"
    },
    "papermill": {
     "duration": 0.067779,
     "end_time": "2021-08-22T10:00:08.277133",
     "exception": false,
     "start_time": "2021-08-22T10:00:08.209354",
     "status": "completed"
    },
    "tags": []
   },
   "outputs": [],
   "source": [
    "df_pivot = df.pivot_table(index=\"PRODUCT\", columns = \"RECORD_TIME\", values = \"LISTING_COUNT\")"
   ]
  },
  {
   "cell_type": "code",
   "execution_count": 6,
   "id": "union-huntington",
   "metadata": {
    "execution": {
     "iopub.execute_input": "2021-08-22T10:00:08.333170Z",
     "iopub.status.busy": "2021-08-22T10:00:08.331137Z",
     "iopub.status.idle": "2021-08-22T10:00:08.336404Z",
     "shell.execute_reply": "2021-08-22T10:00:08.337663Z"
    },
    "papermill": {
     "duration": 0.04005,
     "end_time": "2021-08-22T10:00:08.338128",
     "exception": false,
     "start_time": "2021-08-22T10:00:08.298078",
     "status": "completed"
    },
    "tags": []
   },
   "outputs": [],
   "source": [
    "df_pivot.columns = [\"stamp_1\", \"stamp_2\"]\n",
    "df_pivot_diff = df_pivot.diff(axis=1)"
   ]
  },
  {
   "cell_type": "code",
   "execution_count": 7,
   "id": "fifth-motion",
   "metadata": {
    "execution": {
     "iopub.execute_input": "2021-08-22T10:00:08.400432Z",
     "iopub.status.busy": "2021-08-22T10:00:08.397736Z",
     "iopub.status.idle": "2021-08-22T10:00:09.877001Z",
     "shell.execute_reply": "2021-08-22T10:00:09.878343Z"
    },
    "papermill": {
     "duration": 1.515836,
     "end_time": "2021-08-22T10:00:09.878762",
     "exception": false,
     "start_time": "2021-08-22T10:00:08.362926",
     "status": "completed"
    },
    "tags": []
   },
   "outputs": [
    {
     "data": {
      "text/plain": [
       "<AxesSubplot:ylabel='PRODUCT'>"
      ]
     },
     "execution_count": 7,
     "metadata": {},
     "output_type": "execute_result"
    },
    {
     "data": {
      "image/png": "[encoded data removed]",
      "text/plain": [
       "<Figure size 432x288 with 1 Axes>"
      ]
     },
     "metadata": {
      "needs_background": "light"
     },
     "output_type": "display_data"
    }
   ],
   "source": [
    "df_pivot_diff.sort_values(\"stamp_2\", ascending = False)[\"stamp_2\"].head(10).plot.barh()"
   ]
  },
  {
   "cell_type": "code",
   "execution_count": null,
   "id": "extra-executive",
   "metadata": {
    "papermill": {
     "duration": 0.022139,
     "end_time": "2021-08-22T10:00:09.925529",
     "exception": false,
     "start_time": "2021-08-22T10:00:09.903390",
     "status": "completed"
    },
    "tags": []
   },
   "outputs": [],
   "source": []
  }
 ],
 "metadata": {
  "kernelspec": {
   "display_name": "Python 3",
   "language": "python",
   "name": "python3"
  },
  "language_info": {
   "codemirror_mode": {
    "name": "ipython",
    "version": 3
   },
   "file_extension": ".py",
   "mimetype": "text/x-python",
   "name": "python",
   "nbconvert_exporter": "python",
   "pygments_lexer": "ipython3",
   "version": "3.9.5"
  },
  "papermill": {
   "default_parameters": {},
   "duration": 6.822905,
   "end_time": "2021-08-22T10:00:11.301710",
   "environment_variables": {},
   "exception": null,
   "input_path": "eBay_Overview.ipynb",
   "output_path": "eBay_Overview.ipynb",
   "parameters": {},
   "start_time": "2021-08-22T10:00:04.478805",
   "version": "2.3.3"
  }
 },
 "nbformat": 4,
 "nbformat_minor": 5
}