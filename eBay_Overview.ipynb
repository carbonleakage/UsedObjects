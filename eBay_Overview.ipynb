{
 "cells": [
  {
   "cell_type": "code",
   "execution_count": 1,
   "id": "reverse-picking",
   "metadata": {
    "execution": {
     "iopub.execute_input": "2021-10-11T21:30:07.178206Z",
     "iopub.status.busy": "2021-10-11T21:30:07.176177Z",
     "iopub.status.idle": "2021-10-11T21:30:07.977969Z",
     "shell.execute_reply": "2021-10-11T21:30:07.979218Z"
    },
    "papermill": {
     "duration": 0.852416,
     "end_time": "2021-10-11T21:30:07.979828",
     "exception": false,
     "start_time": "2021-10-11T21:30:07.127412",
     "status": "completed"
    },
    "tags": []
   },
   "outputs": [],
   "source": [
    "import pandas as pd\n",
    "import sqlite3"
   ]
  },
  {
   "cell_type": "code",
   "execution_count": 2,
   "id": "innovative-syndrome",
   "metadata": {
    "execution": {
     "iopub.execute_input": "2021-10-11T21:30:08.031322Z",
     "iopub.status.busy": "2021-10-11T21:30:08.029473Z",
     "iopub.status.idle": "2021-10-11T21:30:08.550705Z",
     "shell.execute_reply": "2021-10-11T21:30:08.551977Z"
    },
    "papermill": {
     "duration": 0.550911,
     "end_time": "2021-10-11T21:30:08.552386",
     "exception": false,
     "start_time": "2021-10-11T21:30:08.001475",
     "status": "completed"
    },
    "tags": []
   },
   "outputs": [],
   "source": [
    "timestamps = pd.read_sql(\"select distinct record_time from EBAY_TOP_BERLIN order by record_time desc limit 2\", sqlite3.connect(\"UsedObjects.db\"))"
   ]
  },
  {
   "cell_type": "code",
   "execution_count": 3,
   "id": "periodic-identification",
   "metadata": {
    "execution": {
     "iopub.execute_input": "2021-10-11T21:30:08.619194Z",
     "iopub.status.busy": "2021-10-11T21:30:08.617208Z",
     "iopub.status.idle": "2021-10-11T21:30:08.637221Z",
     "shell.execute_reply": "2021-10-11T21:30:08.638527Z"
    },
    "papermill": {
     "duration": 0.066969,
     "end_time": "2021-10-11T21:30:08.638937",
     "exception": false,
     "start_time": "2021-10-11T21:30:08.571968",
     "status": "completed"
    },
    "tags": []
   },
   "outputs": [
    {
     "data": {
      "text/html": [
       "<div>\n",
       "<style scoped>\n",
       "    .dataframe tbody tr th:only-of-type {\n",
       "        vertical-align: middle;\n",
       "    }\n",
       "\n",
       "    .dataframe tbody tr th {\n",
       "        vertical-align: top;\n",
       "    }\n",
       "\n",
       "    .dataframe thead th {\n",
       "        text-align: right;\n",
       "    }\n",
       "</style>\n",
       "<table border=\"1\" class=\"dataframe\">\n",
       "  <thead>\n",
       "    <tr style=\"text-align: right;\">\n",
       "      <th></th>\n",
       "      <th>RECORD_TIME</th>\n",
       "    </tr>\n",
       "  </thead>\n",
       "  <tbody>\n",
       "    <tr>\n",
       "      <th>0</th>\n",
       "      <td>2021-10-11 23:30</td>\n",
       "    </tr>\n",
       "    <tr>\n",
       "      <th>1</th>\n",
       "      <td>2021-10-11 23:00</td>\n",
       "    </tr>\n",
       "  </tbody>\n",
       "</table>\n",
       "</div>"
      ],
      "text/plain": [
       "        RECORD_TIME\n",
       "0  2021-10-11 23:30\n",
       "1  2021-10-11 23:00"
      ]
     },
     "execution_count": 3,
     "metadata": {},
     "output_type": "execute_result"
    }
   ],
   "source": [
    "timestamps"
   ]
  },
  {
   "cell_type": "code",
   "execution_count": 4,
   "id": "alternate-victory",
   "metadata": {
    "execution": {
     "iopub.execute_input": "2021-10-11T21:30:08.703359Z",
     "iopub.status.busy": "2021-10-11T21:30:08.701429Z",
     "iopub.status.idle": "2021-10-11T21:30:09.446729Z",
     "shell.execute_reply": "2021-10-11T21:30:09.448000Z"
    },
    "papermill": {
     "duration": 0.779934,
     "end_time": "2021-10-11T21:30:09.448416",
     "exception": false,
     "start_time": "2021-10-11T21:30:08.668482",
     "status": "completed"
    },
    "tags": []
   },
   "outputs": [],
   "source": [
    "df = pd.read_sql(\"select * from EBAY_TOP_BERLIN where record_time in (select distinct record_time from EBAY_TOP_BERLIN order by record_time desc limit 2)\", sqlite3.connect(\"UsedObjects.db\"))"
   ]
  },
  {
   "cell_type": "code",
   "execution_count": 5,
   "id": "popular-active",
   "metadata": {
    "execution": {
     "iopub.execute_input": "2021-10-11T21:30:09.514054Z",
     "iopub.status.busy": "2021-10-11T21:30:09.506624Z",
     "iopub.status.idle": "2021-10-11T21:30:09.535866Z",
     "shell.execute_reply": "2021-10-11T21:30:09.537311Z"
    },
    "papermill": {
     "duration": 0.068612,
     "end_time": "2021-10-11T21:30:09.537721",
     "exception": false,
     "start_time": "2021-10-11T21:30:09.469109",
     "status": "completed"
    },
    "tags": []
   },
   "outputs": [],
   "source": [
    "df_pivot = df.pivot_table(index=\"PRODUCT\", columns = \"RECORD_TIME\", values = \"LISTING_COUNT\")"
   ]
  },
  {
   "cell_type": "code",
   "execution_count": 6,
   "id": "union-huntington",
   "metadata": {
    "execution": {
     "iopub.execute_input": "2021-10-11T21:30:09.594893Z",
     "iopub.status.busy": "2021-10-11T21:30:09.592848Z",
     "iopub.status.idle": "2021-10-11T21:30:09.598116Z",
     "shell.execute_reply": "2021-10-11T21:30:09.599406Z"
    },
    "papermill": {
     "duration": 0.040272,
     "end_time": "2021-10-11T21:30:09.599818",
     "exception": false,
     "start_time": "2021-10-11T21:30:09.559546",
     "status": "completed"
    },
    "tags": []
   },
   "outputs": [],
   "source": [
    "df_pivot.columns = [\"stamp_1\", \"stamp_2\"]\n",
    "df_pivot_diff = df_pivot.diff(axis=1)"
   ]
  },
  {
   "cell_type": "code",
   "execution_count": 7,
   "id": "fifth-motion",
   "metadata": {
    "execution": {
     "iopub.execute_input": "2021-10-11T21:30:09.656800Z",
     "iopub.status.busy": "2021-10-11T21:30:09.654098Z",
     "iopub.status.idle": "2021-10-11T21:30:11.153880Z",
     "shell.execute_reply": "2021-10-11T21:30:11.155167Z"
    },
    "papermill": {
     "duration": 1.533575,
     "end_time": "2021-10-11T21:30:11.155579",
     "exception": false,
     "start_time": "2021-10-11T21:30:09.622004",
     "status": "completed"
    },
    "tags": []
   },
   "outputs": [
    {
     "data": {
      "text/plain": [
       "<AxesSubplot:ylabel='PRODUCT'>"
      ]
     },
     "execution_count": 7,
     "metadata": {},
     "output_type": "execute_result"
    },
    {
     "data": {
      "image/png": "[encoded data removed]",
      "text/plain": [
       "<Figure size 432x288 with 1 Axes>"
      ]
     },
     "metadata": {
      "needs_background": "light"
     },
     "output_type": "display_data"
    }
   ],
   "source": [
    "df_pivot_diff.sort_values(\"stamp_2\", ascending = False)[\"stamp_2\"].head(10).plot.barh()"
   ]
  },
  {
   "cell_type": "code",
   "execution_count": null,
   "id": "extra-executive",
   "metadata": {
    "papermill": {
     "duration": 0.022168,
     "end_time": "2021-10-11T21:30:11.202209",
     "exception": false,
     "start_time": "2021-10-11T21:30:11.180041",
     "status": "completed"
    },
    "tags": []
   },
   "outputs": [],
   "source": []
  }
 ],
 "metadata": {
  "kernelspec": {
   "display_name": "Python 3",
   "language": "python",
   "name": "python3"
  },
  "language_info": {
   "codemirror_mode": {
    "name": "ipython",
    "version": 3
   },
   "file_extension": ".py",
   "mimetype": "text/x-python",
   "name": "python",
   "nbconvert_exporter": "python",
   "pygments_lexer": "ipython3",
   "version": "3.9.5"
  },
  "papermill": {
   "default_parameters": {},
   "duration": 7.829684,
   "end_time": "2021-10-11T21:30:12.556293",
   "environment_variables": {},
   "exception": null,
   "input_path": "eBay_Overview.ipynb",
   "output_path": "eBay_Overview.ipynb",
   "parameters": {},
   "start_time": "2021-10-11T21:30:04.726609",
   "version": "2.3.3"
  }
 },
 "nbformat": 4,
 "nbformat_minor": 5
}