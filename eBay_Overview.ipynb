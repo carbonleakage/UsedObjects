{
 "cells": [
  {
   "cell_type": "code",
   "execution_count": 1,
   "id": "reverse-picking",
   "metadata": {
    "execution": {
     "iopub.execute_input": "2021-08-12T13:00:03.665635Z",
     "iopub.status.busy": "2021-08-12T13:00:03.664852Z",
     "iopub.status.idle": "2021-08-12T13:00:04.291618Z",
     "shell.execute_reply": "2021-08-12T13:00:04.292207Z"
    },
    "papermill": {
     "duration": 0.651562,
     "end_time": "2021-08-12T13:00:04.292508",
     "exception": false,
     "start_time": "2021-08-12T13:00:03.640946",
     "status": "completed"
    },
    "tags": []
   },
   "outputs": [],
   "source": [
    "import pandas as pd\n",
    "import sqlite3"
   ]
  },
  {
   "cell_type": "code",
   "execution_count": 2,
   "id": "innovative-syndrome",
   "metadata": {
    "execution": {
     "iopub.execute_input": "2021-08-12T13:00:04.319362Z",
     "iopub.status.busy": "2021-08-12T13:00:04.318579Z",
     "iopub.status.idle": "2021-08-12T13:00:04.539642Z",
     "shell.execute_reply": "2021-08-12T13:00:04.539025Z"
    },
    "papermill": {
     "duration": 0.237482,
     "end_time": "2021-08-12T13:00:04.539805",
     "exception": false,
     "start_time": "2021-08-12T13:00:04.302323",
     "status": "completed"
    },
    "tags": []
   },
   "outputs": [],
   "source": [
    "timestamps = pd.read_sql(\"select distinct record_time from EBAY_TOP_BERLIN order by record_time desc limit 2\", sqlite3.connect(\"UsedObjects.db\"))"
   ]
  },
  {
   "cell_type": "code",
   "execution_count": 3,
   "id": "periodic-identification",
   "metadata": {
    "execution": {
     "iopub.execute_input": "2021-08-12T13:00:04.573959Z",
     "iopub.status.busy": "2021-08-12T13:00:04.573181Z",
     "iopub.status.idle": "2021-08-12T13:00:04.585913Z",
     "shell.execute_reply": "2021-08-12T13:00:04.586438Z"
    },
    "papermill": {
     "duration": 0.034423,
     "end_time": "2021-08-12T13:00:04.586616",
     "exception": false,
     "start_time": "2021-08-12T13:00:04.552193",
     "status": "completed"
    },
    "tags": []
   },
   "outputs": [
    {
     "data": {
      "text/html": [
       "<div>\n",
       "<style scoped>\n",
       "    .dataframe tbody tr th:only-of-type {\n",
       "        vertical-align: middle;\n",
       "    }\n",
       "\n",
       "    .dataframe tbody tr th {\n",
       "        vertical-align: top;\n",
       "    }\n",
       "\n",
       "    .dataframe thead th {\n",
       "        text-align: right;\n",
       "    }\n",
       "</style>\n",
       "<table border=\"1\" class=\"dataframe\">\n",
       "  <thead>\n",
       "    <tr style=\"text-align: right;\">\n",
       "      <th></th>\n",
       "      <th>RECORD_TIME</th>\n",
       "    </tr>\n",
       "  </thead>\n",
       "  <tbody>\n",
       "    <tr>\n",
       "      <th>0</th>\n",
       "      <td>2021-08-12 15:00</td>\n",
       "    </tr>\n",
       "    <tr>\n",
       "      <th>1</th>\n",
       "      <td>2021-08-12 14:30</td>\n",
       "    </tr>\n",
       "  </tbody>\n",
       "</table>\n",
       "</div>"
      ],
      "text/plain": [
       "        RECORD_TIME\n",
       "0  2021-08-12 15:00\n",
       "1  2021-08-12 14:30"
      ]
     },
     "execution_count": 3,
     "metadata": {},
     "output_type": "execute_result"
    }
   ],
   "source": [
    "timestamps"
   ]
  },
  {
   "cell_type": "code",
   "execution_count": 4,
   "id": "alternate-victory",
   "metadata": {
    "execution": {
     "iopub.execute_input": "2021-08-12T13:00:04.608254Z",
     "iopub.status.busy": "2021-08-12T13:00:04.607459Z",
     "iopub.status.idle": "2021-08-12T13:00:04.635297Z",
     "shell.execute_reply": "2021-08-12T13:00:04.635827Z"
    },
    "papermill": {
     "duration": 0.041088,
     "end_time": "2021-08-12T13:00:04.636008",
     "exception": false,
     "start_time": "2021-08-12T13:00:04.594920",
     "status": "completed"
    },
    "tags": []
   },
   "outputs": [],
   "source": [
    "df = pd.read_sql(\"select * from EBAY_TOP_BERLIN where record_time in (select distinct record_time from EBAY_TOP_BERLIN order by record_time desc limit 2)\", sqlite3.connect(\"UsedObjects.db\"))"
   ]
  },
  {
   "cell_type": "code",
   "execution_count": 5,
   "id": "popular-active",
   "metadata": {
    "execution": {
     "iopub.execute_input": "2021-08-12T13:00:04.664303Z",
     "iopub.status.busy": "2021-08-12T13:00:04.663537Z",
     "iopub.status.idle": "2021-08-12T13:00:04.687172Z",
     "shell.execute_reply": "2021-08-12T13:00:04.687981Z"
    },
    "papermill": {
     "duration": 0.043952,
     "end_time": "2021-08-12T13:00:04.688243",
     "exception": false,
     "start_time": "2021-08-12T13:00:04.644291",
     "status": "completed"
    },
    "tags": []
   },
   "outputs": [],
   "source": [
    "df_pivot = df.pivot_table(index=\"PRODUCT\", columns = \"RECORD_TIME\", values = \"LISTING_COUNT\")"
   ]
  },
  {
   "cell_type": "code",
   "execution_count": 6,
   "id": "union-huntington",
   "metadata": {
    "execution": {
     "iopub.execute_input": "2021-08-12T13:00:04.721565Z",
     "iopub.status.busy": "2021-08-12T13:00:04.720454Z",
     "iopub.status.idle": "2021-08-12T13:00:04.732779Z",
     "shell.execute_reply": "2021-08-12T13:00:04.734027Z"
    },
    "papermill": {
     "duration": 0.034025,
     "end_time": "2021-08-12T13:00:04.734358",
     "exception": false,
     "start_time": "2021-08-12T13:00:04.700333",
     "status": "completed"
    },
    "tags": []
   },
   "outputs": [],
   "source": [
    "df_pivot.columns = [\"stamp_1\", \"stamp_2\"]\n",
    "df_pivot_diff = df_pivot.diff(axis=1)"
   ]
  },
  {
   "cell_type": "code",
   "execution_count": 7,
   "id": "fifth-motion",
   "metadata": {
    "execution": {
     "iopub.execute_input": "2021-08-12T13:00:04.766832Z",
     "iopub.status.busy": "2021-08-12T13:00:04.765956Z",
     "iopub.status.idle": "2021-08-12T13:00:05.453179Z",
     "shell.execute_reply": "2021-08-12T13:00:05.453707Z"
    },
    "papermill": {
     "duration": 0.707627,
     "end_time": "2021-08-12T13:00:05.453889",
     "exception": false,
     "start_time": "2021-08-12T13:00:04.746262",
     "status": "completed"
    },
    "tags": []
   },
   "outputs": [
    {
     "data": {
      "text/plain": [
       "<AxesSubplot:ylabel='PRODUCT'>"
      ]
     },
     "execution_count": 7,
     "metadata": {},
     "output_type": "execute_result"
    },
    {
     "data": {
      "image/png": "[encoded data removed]",
      "text/plain": [
       "<Figure size 432x288 with 1 Axes>"
      ]
     },
     "metadata": {
      "needs_background": "light"
     },
     "output_type": "display_data"
    }
   ],
   "source": [
    "df_pivot_diff.sort_values(\"stamp_2\", ascending = False)[\"stamp_2\"].head(10).plot.barh()"
   ]
  },
  {
   "cell_type": "code",
   "execution_count": null,
   "id": "extra-executive",
   "metadata": {
    "papermill": {
     "duration": 0.012324,
     "end_time": "2021-08-12T13:00:05.479042",
     "exception": false,
     "start_time": "2021-08-12T13:00:05.466718",
     "status": "completed"
    },
    "tags": []
   },
   "outputs": [],
   "source": []
  }
 ],
 "metadata": {
  "kernelspec": {
   "display_name": "Python 3",
   "language": "python",
   "name": "python3"
  },
  "language_info": {
   "codemirror_mode": {
    "name": "ipython",
    "version": 3
   },
   "file_extension": ".py",
   "mimetype": "text/x-python",
   "name": "python",
   "nbconvert_exporter": "python",
   "pygments_lexer": "ipython3",
   "version": "3.8.8"
  },
  "papermill": {
   "default_parameters": {},
   "duration": 4.932421,
   "end_time": "2021-08-12T13:00:06.857017",
   "environment_variables": {},
   "exception": null,
   "input_path": "/Users/saravananshanmugam/Carbonleakage_Git/UsedObjects/eBay_Overview.ipynb",
   "output_path": "/Users/saravananshanmugam/Carbonleakage_Git/UsedObjects/eBay_Overview.ipynb",
   "parameters": {},
   "start_time": "2021-08-12T13:00:01.924596",
   "version": "2.3.3"
  }
 },
 "nbformat": 4,
 "nbformat_minor": 5
}