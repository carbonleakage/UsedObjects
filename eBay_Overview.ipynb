{
 "cells": [
  {
   "cell_type": "code",
   "execution_count": 1,
   "id": "reverse-picking",
   "metadata": {
    "execution": {
     "iopub.execute_input": "2021-11-12T10:30:07.792095Z",
     "iopub.status.busy": "2021-11-12T10:30:07.789445Z",
     "iopub.status.idle": "2021-11-12T10:30:08.745139Z",
     "shell.execute_reply": "2021-11-12T10:30:08.747439Z"
    },
    "papermill": {
     "duration": 1.006728,
     "end_time": "2021-11-12T10:30:08.748194",
     "exception": false,
     "start_time": "2021-11-12T10:30:07.741466",
     "status": "completed"
    },
    "tags": []
   },
   "outputs": [],
   "source": [
    "import pandas as pd\n",
    "import sqlite3"
   ]
  },
  {
   "cell_type": "code",
   "execution_count": 2,
   "id": "innovative-syndrome",
   "metadata": {
    "execution": {
     "iopub.execute_input": "2021-11-12T10:30:08.810573Z",
     "iopub.status.busy": "2021-11-12T10:30:08.807617Z",
     "iopub.status.idle": "2021-11-12T10:30:09.608477Z",
     "shell.execute_reply": "2021-11-12T10:30:09.610061Z"
    },
    "papermill": {
     "duration": 0.834613,
     "end_time": "2021-11-12T10:30:09.610568",
     "exception": false,
     "start_time": "2021-11-12T10:30:08.775955",
     "status": "completed"
    },
    "tags": []
   },
   "outputs": [],
   "source": [
    "timestamps = pd.read_sql(\"select distinct record_time from EBAY_TOP_BERLIN order by record_time desc limit 2\", sqlite3.connect(\"UsedObjects.db\"))"
   ]
  },
  {
   "cell_type": "code",
   "execution_count": 3,
   "id": "periodic-identification",
   "metadata": {
    "execution": {
     "iopub.execute_input": "2021-11-12T10:30:09.682750Z",
     "iopub.status.busy": "2021-11-12T10:30:09.680235Z",
     "iopub.status.idle": "2021-11-12T10:30:09.703052Z",
     "shell.execute_reply": "2021-11-12T10:30:09.704630Z"
    },
    "papermill": {
     "duration": 0.074453,
     "end_time": "2021-11-12T10:30:09.705238",
     "exception": false,
     "start_time": "2021-11-12T10:30:09.630785",
     "status": "completed"
    },
    "tags": []
   },
   "outputs": [
    {
     "data": {
      "text/html": [
       "<div>\n",
       "<style scoped>\n",
       "    .dataframe tbody tr th:only-of-type {\n",
       "        vertical-align: middle;\n",
       "    }\n",
       "\n",
       "    .dataframe tbody tr th {\n",
       "        vertical-align: top;\n",
       "    }\n",
       "\n",
       "    .dataframe thead th {\n",
       "        text-align: right;\n",
       "    }\n",
       "</style>\n",
       "<table border=\"1\" class=\"dataframe\">\n",
       "  <thead>\n",
       "    <tr style=\"text-align: right;\">\n",
       "      <th></th>\n",
       "      <th>RECORD_TIME</th>\n",
       "    </tr>\n",
       "  </thead>\n",
       "  <tbody>\n",
       "    <tr>\n",
       "      <th>0</th>\n",
       "      <td>2021-11-12 11:30</td>\n",
       "    </tr>\n",
       "    <tr>\n",
       "      <th>1</th>\n",
       "      <td>2021-11-12 11:00</td>\n",
       "    </tr>\n",
       "  </tbody>\n",
       "</table>\n",
       "</div>"
      ],
      "text/plain": [
       "        RECORD_TIME\n",
       "0  2021-11-12 11:30\n",
       "1  2021-11-12 11:00"
      ]
     },
     "execution_count": 3,
     "metadata": {},
     "output_type": "execute_result"
    }
   ],
   "source": [
    "timestamps"
   ]
  },
  {
   "cell_type": "code",
   "execution_count": 4,
   "id": "alternate-victory",
   "metadata": {
    "execution": {
     "iopub.execute_input": "2021-11-12T10:30:09.762219Z",
     "iopub.status.busy": "2021-11-12T10:30:09.759966Z",
     "iopub.status.idle": "2021-11-12T10:30:10.904027Z",
     "shell.execute_reply": "2021-11-12T10:30:10.907403Z"
    },
    "papermill": {
     "duration": 1.179472,
     "end_time": "2021-11-12T10:30:10.908302",
     "exception": false,
     "start_time": "2021-11-12T10:30:09.728830",
     "status": "completed"
    },
    "tags": []
   },
   "outputs": [],
   "source": [
    "df = pd.read_sql(\"select * from EBAY_TOP_BERLIN where record_time in (select distinct record_time from EBAY_TOP_BERLIN order by record_time desc limit 2)\", sqlite3.connect(\"UsedObjects.db\"))"
   ]
  },
  {
   "cell_type": "code",
   "execution_count": 5,
   "id": "popular-active",
   "metadata": {
    "execution": {
     "iopub.execute_input": "2021-11-12T10:30:11.004485Z",
     "iopub.status.busy": "2021-11-12T10:30:10.993496Z",
     "iopub.status.idle": "2021-11-12T10:30:11.029577Z",
     "shell.execute_reply": "2021-11-12T10:30:11.031144Z"
    },
    "papermill": {
     "duration": 0.090141,
     "end_time": "2021-11-12T10:30:11.031656",
     "exception": false,
     "start_time": "2021-11-12T10:30:10.941515",
     "status": "completed"
    },
    "tags": []
   },
   "outputs": [],
   "source": [
    "df_pivot = df.pivot_table(index=\"PRODUCT\", columns = \"RECORD_TIME\", values = \"LISTING_COUNT\")"
   ]
  },
  {
   "cell_type": "code",
   "execution_count": 6,
   "id": "union-huntington",
   "metadata": {
    "execution": {
     "iopub.execute_input": "2021-11-12T10:30:11.093625Z",
     "iopub.status.busy": "2021-11-12T10:30:11.091237Z",
     "iopub.status.idle": "2021-11-12T10:30:11.097103Z",
     "shell.execute_reply": "2021-11-12T10:30:11.098449Z"
    },
    "papermill": {
     "duration": 0.045453,
     "end_time": "2021-11-12T10:30:11.098895",
     "exception": false,
     "start_time": "2021-11-12T10:30:11.053442",
     "status": "completed"
    },
    "tags": []
   },
   "outputs": [],
   "source": [
    "df_pivot.columns = [\"stamp_1\", \"stamp_2\"]\n",
    "df_pivot_diff = df_pivot.diff(axis=1)"
   ]
  },
  {
   "cell_type": "code",
   "execution_count": 7,
   "id": "fifth-motion",
   "metadata": {
    "execution": {
     "iopub.execute_input": "2021-11-12T10:30:11.155546Z",
     "iopub.status.busy": "2021-11-12T10:30:11.153201Z",
     "iopub.status.idle": "2021-11-12T10:30:12.997639Z",
     "shell.execute_reply": "2021-11-12T10:30:13.000086Z"
    },
    "papermill": {
     "duration": 1.881586,
     "end_time": "2021-11-12T10:30:13.000720",
     "exception": false,
     "start_time": "2021-11-12T10:30:11.119134",
     "status": "completed"
    },
    "tags": []
   },
   "outputs": [
    {
     "data": {
      "text/plain": [
       "<AxesSubplot:ylabel='PRODUCT'>"
      ]
     },
     "execution_count": 7,
     "metadata": {},
     "output_type": "execute_result"
    },
    {
     "data": {
      "image/png": "[encoded data removed]",
      "text/plain": [
       "<Figure size 432x288 with 1 Axes>"
      ]
     },
     "metadata": {
      "needs_background": "light"
     },
     "output_type": "display_data"
    }
   ],
   "source": [
    "df_pivot_diff.sort_values(\"stamp_2\", ascending = False)[\"stamp_2\"].head(10).plot.barh()"
   ]
  },
  {
   "cell_type": "code",
   "execution_count": null,
   "id": "extra-executive",
   "metadata": {
    "papermill": {
     "duration": 0.0296,
     "end_time": "2021-11-12T10:30:13.066403",
     "exception": false,
     "start_time": "2021-11-12T10:30:13.036803",
     "status": "completed"
    },
    "tags": []
   },
   "outputs": [],
   "source": []
  }
 ],
 "metadata": {
  "kernelspec": {
   "display_name": "Python 3",
   "language": "python",
   "name": "python3"
  },
  "language_info": {
   "codemirror_mode": {
    "name": "ipython",
    "version": 3
   },
   "file_extension": ".py",
   "mimetype": "text/x-python",
   "name": "python",
   "nbconvert_exporter": "python",
   "pygments_lexer": "ipython3",
   "version": "3.9.5"
  },
  "papermill": {
   "default_parameters": {},
   "duration": 8.901004,
   "end_time": "2021-11-12T10:30:13.926564",
   "environment_variables": {},
   "exception": null,
   "input_path": "eBay_Overview.ipynb",
   "output_path": "eBay_Overview.ipynb",
   "parameters": {},
   "start_time": "2021-11-12T10:30:05.025560",
   "version": "2.3.3"
  }
 },
 "nbformat": 4,
 "nbformat_minor": 5
}