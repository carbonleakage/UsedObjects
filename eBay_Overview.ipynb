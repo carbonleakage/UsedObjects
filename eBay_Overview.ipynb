{
 "cells": [
  {
   "cell_type": "code",
   "execution_count": 1,
   "id": "reverse-picking",
   "metadata": {
    "execution": {
     "iopub.execute_input": "2021-08-30T18:00:06.732689Z",
     "iopub.status.busy": "2021-08-30T18:00:06.730655Z",
     "iopub.status.idle": "2021-08-30T18:00:07.534907Z",
     "shell.execute_reply": "2021-08-30T18:00:07.536162Z"
    },
    "papermill": {
     "duration": 0.854324,
     "end_time": "2021-08-30T18:00:07.536836",
     "exception": false,
     "start_time": "2021-08-30T18:00:06.682512",
     "status": "completed"
    },
    "tags": []
   },
   "outputs": [],
   "source": [
    "import pandas as pd\n",
    "import sqlite3"
   ]
  },
  {
   "cell_type": "code",
   "execution_count": 2,
   "id": "innovative-syndrome",
   "metadata": {
    "execution": {
     "iopub.execute_input": "2021-08-30T18:00:07.587317Z",
     "iopub.status.busy": "2021-08-30T18:00:07.585451Z",
     "iopub.status.idle": "2021-08-30T18:00:07.758031Z",
     "shell.execute_reply": "2021-08-30T18:00:07.759301Z"
    },
    "papermill": {
     "duration": 0.202137,
     "end_time": "2021-08-30T18:00:07.759719",
     "exception": false,
     "start_time": "2021-08-30T18:00:07.557582",
     "status": "completed"
    },
    "tags": []
   },
   "outputs": [],
   "source": [
    "timestamps = pd.read_sql(\"select distinct record_time from EBAY_TOP_BERLIN order by record_time desc limit 2\", sqlite3.connect(\"UsedObjects.db\"))"
   ]
  },
  {
   "cell_type": "code",
   "execution_count": 3,
   "id": "periodic-identification",
   "metadata": {
    "execution": {
     "iopub.execute_input": "2021-08-30T18:00:07.825628Z",
     "iopub.status.busy": "2021-08-30T18:00:07.823542Z",
     "iopub.status.idle": "2021-08-30T18:00:07.844117Z",
     "shell.execute_reply": "2021-08-30T18:00:07.845458Z"
    },
    "papermill": {
     "duration": 0.067108,
     "end_time": "2021-08-30T18:00:07.845875",
     "exception": false,
     "start_time": "2021-08-30T18:00:07.778767",
     "status": "completed"
    },
    "tags": []
   },
   "outputs": [
    {
     "data": {
      "text/html": [
       "<div>\n",
       "<style scoped>\n",
       "    .dataframe tbody tr th:only-of-type {\n",
       "        vertical-align: middle;\n",
       "    }\n",
       "\n",
       "    .dataframe tbody tr th {\n",
       "        vertical-align: top;\n",
       "    }\n",
       "\n",
       "    .dataframe thead th {\n",
       "        text-align: right;\n",
       "    }\n",
       "</style>\n",
       "<table border=\"1\" class=\"dataframe\">\n",
       "  <thead>\n",
       "    <tr style=\"text-align: right;\">\n",
       "      <th></th>\n",
       "      <th>RECORD_TIME</th>\n",
       "    </tr>\n",
       "  </thead>\n",
       "  <tbody>\n",
       "    <tr>\n",
       "      <th>0</th>\n",
       "      <td>2021-08-30 20:00</td>\n",
       "    </tr>\n",
       "    <tr>\n",
       "      <th>1</th>\n",
       "      <td>2021-08-30 19:30</td>\n",
       "    </tr>\n",
       "  </tbody>\n",
       "</table>\n",
       "</div>"
      ],
      "text/plain": [
       "        RECORD_TIME\n",
       "0  2021-08-30 20:00\n",
       "1  2021-08-30 19:30"
      ]
     },
     "execution_count": 3,
     "metadata": {},
     "output_type": "execute_result"
    }
   ],
   "source": [
    "timestamps"
   ]
  },
  {
   "cell_type": "code",
   "execution_count": 4,
   "id": "alternate-victory",
   "metadata": {
    "execution": {
     "iopub.execute_input": "2021-08-30T18:00:07.897230Z",
     "iopub.status.busy": "2021-08-30T18:00:07.895283Z",
     "iopub.status.idle": "2021-08-30T18:00:08.150353Z",
     "shell.execute_reply": "2021-08-30T18:00:08.151639Z"
    },
    "papermill": {
     "duration": 0.284994,
     "end_time": "2021-08-30T18:00:08.152054",
     "exception": false,
     "start_time": "2021-08-30T18:00:07.867060",
     "status": "completed"
    },
    "tags": []
   },
   "outputs": [],
   "source": [
    "df = pd.read_sql(\"select * from EBAY_TOP_BERLIN where record_time in (select distinct record_time from EBAY_TOP_BERLIN order by record_time desc limit 2)\", sqlite3.connect(\"UsedObjects.db\"))"
   ]
  },
  {
   "cell_type": "code",
   "execution_count": 5,
   "id": "popular-active",
   "metadata": {
    "execution": {
     "iopub.execute_input": "2021-08-30T18:00:08.232325Z",
     "iopub.status.busy": "2021-08-30T18:00:08.220405Z",
     "iopub.status.idle": "2021-08-30T18:00:08.249370Z",
     "shell.execute_reply": "2021-08-30T18:00:08.250734Z"
    },
    "papermill": {
     "duration": 0.0732,
     "end_time": "2021-08-30T18:00:08.251167",
     "exception": false,
     "start_time": "2021-08-30T18:00:08.177967",
     "status": "completed"
    },
    "tags": []
   },
   "outputs": [],
   "source": [
    "df_pivot = df.pivot_table(index=\"PRODUCT\", columns = \"RECORD_TIME\", values = \"LISTING_COUNT\")"
   ]
  },
  {
   "cell_type": "code",
   "execution_count": 6,
   "id": "union-huntington",
   "metadata": {
    "execution": {
     "iopub.execute_input": "2021-08-30T18:00:08.309688Z",
     "iopub.status.busy": "2021-08-30T18:00:08.307212Z",
     "iopub.status.idle": "2021-08-30T18:00:08.314597Z",
     "shell.execute_reply": "2021-08-30T18:00:08.313203Z"
    },
    "papermill": {
     "duration": 0.042201,
     "end_time": "2021-08-30T18:00:08.314965",
     "exception": false,
     "start_time": "2021-08-30T18:00:08.272764",
     "status": "completed"
    },
    "tags": []
   },
   "outputs": [],
   "source": [
    "df_pivot.columns = [\"stamp_1\", \"stamp_2\"]\n",
    "df_pivot_diff = df_pivot.diff(axis=1)"
   ]
  },
  {
   "cell_type": "code",
   "execution_count": 7,
   "id": "fifth-motion",
   "metadata": {
    "execution": {
     "iopub.execute_input": "2021-08-30T18:00:08.368183Z",
     "iopub.status.busy": "2021-08-30T18:00:08.366001Z",
     "iopub.status.idle": "2021-08-30T18:00:09.872781Z",
     "shell.execute_reply": "2021-08-30T18:00:09.873983Z"
    },
    "papermill": {
     "duration": 1.538978,
     "end_time": "2021-08-30T18:00:09.874417",
     "exception": false,
     "start_time": "2021-08-30T18:00:08.335439",
     "status": "completed"
    },
    "tags": []
   },
   "outputs": [
    {
     "data": {
      "text/plain": [
       "<AxesSubplot:ylabel='PRODUCT'>"
      ]
     },
     "execution_count": 7,
     "metadata": {},
     "output_type": "execute_result"
    },
    {
     "data": {
      "image/png": "[encoded data removed]",
      "text/plain": [
       "<Figure size 432x288 with 1 Axes>"
      ]
     },
     "metadata": {
      "needs_background": "light"
     },
     "output_type": "display_data"
    }
   ],
   "source": [
    "df_pivot_diff.sort_values(\"stamp_2\", ascending = False)[\"stamp_2\"].head(10).plot.barh()"
   ]
  },
  {
   "cell_type": "code",
   "execution_count": null,
   "id": "extra-executive",
   "metadata": {
    "papermill": {
     "duration": 0.022145,
     "end_time": "2021-08-30T18:00:09.920320",
     "exception": false,
     "start_time": "2021-08-30T18:00:09.898175",
     "status": "completed"
    },
    "tags": []
   },
   "outputs": [],
   "source": []
  }
 ],
 "metadata": {
  "kernelspec": {
   "display_name": "Python 3",
   "language": "python",
   "name": "python3"
  },
  "language_info": {
   "codemirror_mode": {
    "name": "ipython",
    "version": 3
   },
   "file_extension": ".py",
   "mimetype": "text/x-python",
   "name": "python",
   "nbconvert_exporter": "python",
   "pygments_lexer": "ipython3",
   "version": "3.9.5"
  },
  "papermill": {
   "default_parameters": {},
   "duration": 6.818149,
   "end_time": "2021-08-30T18:00:11.101441",
   "environment_variables": {},
   "exception": null,
   "input_path": "eBay_Overview.ipynb",
   "output_path": "eBay_Overview.ipynb",
   "parameters": {},
   "start_time": "2021-08-30T18:00:04.283292",
   "version": "2.3.3"
  }
 },
 "nbformat": 4,
 "nbformat_minor": 5
}