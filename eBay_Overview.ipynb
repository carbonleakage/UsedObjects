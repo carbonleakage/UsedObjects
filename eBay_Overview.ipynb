{
 "cells": [
  {
   "cell_type": "code",
   "execution_count": 1,
   "id": "reverse-picking",
   "metadata": {
    "execution": {
     "iopub.execute_input": "2021-09-28T14:00:06.804761Z",
     "iopub.status.busy": "2021-09-28T14:00:06.802732Z",
     "iopub.status.idle": "2021-09-28T14:00:07.616285Z",
     "shell.execute_reply": "2021-09-28T14:00:07.614579Z"
    },
    "papermill": {
     "duration": 0.862866,
     "end_time": "2021-09-28T14:00:07.616699",
     "exception": false,
     "start_time": "2021-09-28T14:00:06.753833",
     "status": "completed"
    },
    "tags": []
   },
   "outputs": [],
   "source": [
    "import pandas as pd\n",
    "import sqlite3"
   ]
  },
  {
   "cell_type": "code",
   "execution_count": 2,
   "id": "innovative-syndrome",
   "metadata": {
    "execution": {
     "iopub.execute_input": "2021-09-28T14:00:07.667444Z",
     "iopub.status.busy": "2021-09-28T14:00:07.665526Z",
     "iopub.status.idle": "2021-09-28T14:00:08.070272Z",
     "shell.execute_reply": "2021-09-28T14:00:08.071529Z"
    },
    "papermill": {
     "duration": 0.434598,
     "end_time": "2021-09-28T14:00:08.071927",
     "exception": false,
     "start_time": "2021-09-28T14:00:07.637329",
     "status": "completed"
    },
    "tags": []
   },
   "outputs": [],
   "source": [
    "timestamps = pd.read_sql(\"select distinct record_time from EBAY_TOP_BERLIN order by record_time desc limit 2\", sqlite3.connect(\"UsedObjects.db\"))"
   ]
  },
  {
   "cell_type": "code",
   "execution_count": 3,
   "id": "periodic-identification",
   "metadata": {
    "execution": {
     "iopub.execute_input": "2021-09-28T14:00:08.136515Z",
     "iopub.status.busy": "2021-09-28T14:00:08.134346Z",
     "iopub.status.idle": "2021-09-28T14:00:08.156941Z",
     "shell.execute_reply": "2021-09-28T14:00:08.158142Z"
    },
    "papermill": {
     "duration": 0.066781,
     "end_time": "2021-09-28T14:00:08.158537",
     "exception": false,
     "start_time": "2021-09-28T14:00:08.091756",
     "status": "completed"
    },
    "tags": []
   },
   "outputs": [
    {
     "data": {
      "text/html": [
       "<div>\n",
       "<style scoped>\n",
       "    .dataframe tbody tr th:only-of-type {\n",
       "        vertical-align: middle;\n",
       "    }\n",
       "\n",
       "    .dataframe tbody tr th {\n",
       "        vertical-align: top;\n",
       "    }\n",
       "\n",
       "    .dataframe thead th {\n",
       "        text-align: right;\n",
       "    }\n",
       "</style>\n",
       "<table border=\"1\" class=\"dataframe\">\n",
       "  <thead>\n",
       "    <tr style=\"text-align: right;\">\n",
       "      <th></th>\n",
       "      <th>RECORD_TIME</th>\n",
       "    </tr>\n",
       "  </thead>\n",
       "  <tbody>\n",
       "    <tr>\n",
       "      <th>0</th>\n",
       "      <td>2021-09-28 16:00</td>\n",
       "    </tr>\n",
       "    <tr>\n",
       "      <th>1</th>\n",
       "      <td>2021-09-28 15:30</td>\n",
       "    </tr>\n",
       "  </tbody>\n",
       "</table>\n",
       "</div>"
      ],
      "text/plain": [
       "        RECORD_TIME\n",
       "0  2021-09-28 16:00\n",
       "1  2021-09-28 15:30"
      ]
     },
     "execution_count": 3,
     "metadata": {},
     "output_type": "execute_result"
    }
   ],
   "source": [
    "timestamps"
   ]
  },
  {
   "cell_type": "code",
   "execution_count": 4,
   "id": "alternate-victory",
   "metadata": {
    "execution": {
     "iopub.execute_input": "2021-09-28T14:00:08.220657Z",
     "iopub.status.busy": "2021-09-28T14:00:08.218546Z",
     "iopub.status.idle": "2021-09-28T14:00:08.825494Z",
     "shell.execute_reply": "2021-09-28T14:00:08.826706Z"
    },
    "papermill": {
     "duration": 0.645893,
     "end_time": "2021-09-28T14:00:08.827320",
     "exception": false,
     "start_time": "2021-09-28T14:00:08.181427",
     "status": "completed"
    },
    "tags": []
   },
   "outputs": [],
   "source": [
    "df = pd.read_sql(\"select * from EBAY_TOP_BERLIN where record_time in (select distinct record_time from EBAY_TOP_BERLIN order by record_time desc limit 2)\", sqlite3.connect(\"UsedObjects.db\"))"
   ]
  },
  {
   "cell_type": "code",
   "execution_count": 5,
   "id": "popular-active",
   "metadata": {
    "execution": {
     "iopub.execute_input": "2021-09-28T14:00:08.897403Z",
     "iopub.status.busy": "2021-09-28T14:00:08.886661Z",
     "iopub.status.idle": "2021-09-28T14:00:08.913843Z",
     "shell.execute_reply": "2021-09-28T14:00:08.915112Z"
    },
    "papermill": {
     "duration": 0.067628,
     "end_time": "2021-09-28T14:00:08.915511",
     "exception": false,
     "start_time": "2021-09-28T14:00:08.847883",
     "status": "completed"
    },
    "tags": []
   },
   "outputs": [],
   "source": [
    "df_pivot = df.pivot_table(index=\"PRODUCT\", columns = \"RECORD_TIME\", values = \"LISTING_COUNT\")"
   ]
  },
  {
   "cell_type": "code",
   "execution_count": 6,
   "id": "union-huntington",
   "metadata": {
    "execution": {
     "iopub.execute_input": "2021-09-28T14:00:08.971811Z",
     "iopub.status.busy": "2021-09-28T14:00:08.969717Z",
     "iopub.status.idle": "2021-09-28T14:00:08.974995Z",
     "shell.execute_reply": "2021-09-28T14:00:08.976199Z"
    },
    "papermill": {
     "duration": 0.040223,
     "end_time": "2021-09-28T14:00:08.976623",
     "exception": false,
     "start_time": "2021-09-28T14:00:08.936400",
     "status": "completed"
    },
    "tags": []
   },
   "outputs": [],
   "source": [
    "df_pivot.columns = [\"stamp_1\", \"stamp_2\"]\n",
    "df_pivot_diff = df_pivot.diff(axis=1)"
   ]
  },
  {
   "cell_type": "code",
   "execution_count": 7,
   "id": "fifth-motion",
   "metadata": {
    "execution": {
     "iopub.execute_input": "2021-09-28T14:00:09.034669Z",
     "iopub.status.busy": "2021-09-28T14:00:09.032085Z",
     "iopub.status.idle": "2021-09-28T14:00:10.509971Z",
     "shell.execute_reply": "2021-09-28T14:00:10.511307Z"
    },
    "papermill": {
     "duration": 1.512015,
     "end_time": "2021-09-28T14:00:10.511727",
     "exception": false,
     "start_time": "2021-09-28T14:00:08.999712",
     "status": "completed"
    },
    "tags": []
   },
   "outputs": [
    {
     "data": {
      "text/plain": [
       "<AxesSubplot:ylabel='PRODUCT'>"
      ]
     },
     "execution_count": 7,
     "metadata": {},
     "output_type": "execute_result"
    },
    {
     "data": {
      "image/png": "[encoded data removed]",
      "text/plain": [
       "<Figure size 432x288 with 1 Axes>"
      ]
     },
     "metadata": {
      "needs_background": "light"
     },
     "output_type": "display_data"
    }
   ],
   "source": [
    "df_pivot_diff.sort_values(\"stamp_2\", ascending = False)[\"stamp_2\"].head(10).plot.barh()"
   ]
  },
  {
   "cell_type": "code",
   "execution_count": null,
   "id": "extra-executive",
   "metadata": {
    "papermill": {
     "duration": 0.022422,
     "end_time": "2021-09-28T14:00:10.557675",
     "exception": false,
     "start_time": "2021-09-28T14:00:10.535253",
     "status": "completed"
    },
    "tags": []
   },
   "outputs": [],
   "source": []
  }
 ],
 "metadata": {
  "kernelspec": {
   "display_name": "Python 3",
   "language": "python",
   "name": "python3"
  },
  "language_info": {
   "codemirror_mode": {
    "name": "ipython",
    "version": 3
   },
   "file_extension": ".py",
   "mimetype": "text/x-python",
   "name": "python",
   "nbconvert_exporter": "python",
   "pygments_lexer": "ipython3",
   "version": "3.9.5"
  },
  "papermill": {
   "default_parameters": {},
   "duration": 7.824118,
   "end_time": "2021-09-28T14:00:12.156417",
   "environment_variables": {},
   "exception": null,
   "input_path": "eBay_Overview.ipynb",
   "output_path": "eBay_Overview.ipynb",
   "parameters": {},
   "start_time": "2021-09-28T14:00:04.332299",
   "version": "2.3.3"
  }
 },
 "nbformat": 4,
 "nbformat_minor": 5
}