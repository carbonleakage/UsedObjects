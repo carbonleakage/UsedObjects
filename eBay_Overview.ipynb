{
 "cells": [
  {
   "cell_type": "code",
   "execution_count": 1,
   "id": "reverse-picking",
   "metadata": {
    "execution": {
     "iopub.execute_input": "2021-10-29T15:30:06.987442Z",
     "iopub.status.busy": "2021-10-29T15:30:06.985514Z",
     "iopub.status.idle": "2021-10-29T15:30:07.788256Z",
     "shell.execute_reply": "2021-10-29T15:30:07.789665Z"
    },
    "papermill": {
     "duration": 0.85343,
     "end_time": "2021-10-29T15:30:07.790329",
     "exception": false,
     "start_time": "2021-10-29T15:30:06.936899",
     "status": "completed"
    },
    "tags": []
   },
   "outputs": [],
   "source": [
    "import pandas as pd\n",
    "import sqlite3"
   ]
  },
  {
   "cell_type": "code",
   "execution_count": 2,
   "id": "innovative-syndrome",
   "metadata": {
    "execution": {
     "iopub.execute_input": "2021-10-29T15:30:07.840766Z",
     "iopub.status.busy": "2021-10-29T15:30:07.838774Z",
     "iopub.status.idle": "2021-10-29T15:30:08.490904Z",
     "shell.execute_reply": "2021-10-29T15:30:08.492087Z"
    },
    "papermill": {
     "duration": 0.681886,
     "end_time": "2021-10-29T15:30:08.492475",
     "exception": false,
     "start_time": "2021-10-29T15:30:07.810589",
     "status": "completed"
    },
    "tags": []
   },
   "outputs": [],
   "source": [
    "timestamps = pd.read_sql(\"select distinct record_time from EBAY_TOP_BERLIN order by record_time desc limit 2\", sqlite3.connect(\"UsedObjects.db\"))"
   ]
  },
  {
   "cell_type": "code",
   "execution_count": 3,
   "id": "periodic-identification",
   "metadata": {
    "execution": {
     "iopub.execute_input": "2021-10-29T15:30:08.576569Z",
     "iopub.status.busy": "2021-10-29T15:30:08.574562Z",
     "iopub.status.idle": "2021-10-29T15:30:08.595350Z",
     "shell.execute_reply": "2021-10-29T15:30:08.596613Z"
    },
    "papermill": {
     "duration": 0.071,
     "end_time": "2021-10-29T15:30:08.597077",
     "exception": false,
     "start_time": "2021-10-29T15:30:08.526077",
     "status": "completed"
    },
    "tags": []
   },
   "outputs": [
    {
     "data": {
      "text/html": [
       "<div>\n",
       "<style scoped>\n",
       "    .dataframe tbody tr th:only-of-type {\n",
       "        vertical-align: middle;\n",
       "    }\n",
       "\n",
       "    .dataframe tbody tr th {\n",
       "        vertical-align: top;\n",
       "    }\n",
       "\n",
       "    .dataframe thead th {\n",
       "        text-align: right;\n",
       "    }\n",
       "</style>\n",
       "<table border=\"1\" class=\"dataframe\">\n",
       "  <thead>\n",
       "    <tr style=\"text-align: right;\">\n",
       "      <th></th>\n",
       "      <th>RECORD_TIME</th>\n",
       "    </tr>\n",
       "  </thead>\n",
       "  <tbody>\n",
       "    <tr>\n",
       "      <th>0</th>\n",
       "      <td>2021-10-29 17:30</td>\n",
       "    </tr>\n",
       "    <tr>\n",
       "      <th>1</th>\n",
       "      <td>2021-10-29 17:00</td>\n",
       "    </tr>\n",
       "  </tbody>\n",
       "</table>\n",
       "</div>"
      ],
      "text/plain": [
       "        RECORD_TIME\n",
       "0  2021-10-29 17:30\n",
       "1  2021-10-29 17:00"
      ]
     },
     "execution_count": 3,
     "metadata": {},
     "output_type": "execute_result"
    }
   ],
   "source": [
    "timestamps"
   ]
  },
  {
   "cell_type": "code",
   "execution_count": 4,
   "id": "alternate-victory",
   "metadata": {
    "execution": {
     "iopub.execute_input": "2021-10-29T15:30:08.648244Z",
     "iopub.status.busy": "2021-10-29T15:30:08.646425Z",
     "iopub.status.idle": "2021-10-29T15:30:09.631916Z",
     "shell.execute_reply": "2021-10-29T15:30:09.633242Z"
    },
    "papermill": {
     "duration": 1.015549,
     "end_time": "2021-10-29T15:30:09.633671",
     "exception": false,
     "start_time": "2021-10-29T15:30:08.618122",
     "status": "completed"
    },
    "tags": []
   },
   "outputs": [],
   "source": [
    "df = pd.read_sql(\"select * from EBAY_TOP_BERLIN where record_time in (select distinct record_time from EBAY_TOP_BERLIN order by record_time desc limit 2)\", sqlite3.connect(\"UsedObjects.db\"))"
   ]
  },
  {
   "cell_type": "code",
   "execution_count": 5,
   "id": "popular-active",
   "metadata": {
    "execution": {
     "iopub.execute_input": "2021-10-29T15:30:09.705416Z",
     "iopub.status.busy": "2021-10-29T15:30:09.695412Z",
     "iopub.status.idle": "2021-10-29T15:30:09.721905Z",
     "shell.execute_reply": "2021-10-29T15:30:09.723117Z"
    },
    "papermill": {
     "duration": 0.06791,
     "end_time": "2021-10-29T15:30:09.723506",
     "exception": false,
     "start_time": "2021-10-29T15:30:09.655596",
     "status": "completed"
    },
    "tags": []
   },
   "outputs": [],
   "source": [
    "df_pivot = df.pivot_table(index=\"PRODUCT\", columns = \"RECORD_TIME\", values = \"LISTING_COUNT\")"
   ]
  },
  {
   "cell_type": "code",
   "execution_count": 6,
   "id": "union-huntington",
   "metadata": {
    "execution": {
     "iopub.execute_input": "2021-10-29T15:30:09.782746Z",
     "iopub.status.busy": "2021-10-29T15:30:09.780251Z",
     "iopub.status.idle": "2021-10-29T15:30:09.786297Z",
     "shell.execute_reply": "2021-10-29T15:30:09.787780Z"
    },
    "papermill": {
     "duration": 0.042402,
     "end_time": "2021-10-29T15:30:09.788237",
     "exception": false,
     "start_time": "2021-10-29T15:30:09.745835",
     "status": "completed"
    },
    "tags": []
   },
   "outputs": [],
   "source": [
    "df_pivot.columns = [\"stamp_1\", \"stamp_2\"]\n",
    "df_pivot_diff = df_pivot.diff(axis=1)"
   ]
  },
  {
   "cell_type": "code",
   "execution_count": 7,
   "id": "fifth-motion",
   "metadata": {
    "execution": {
     "iopub.execute_input": "2021-10-29T15:30:09.842156Z",
     "iopub.status.busy": "2021-10-29T15:30:09.839733Z",
     "iopub.status.idle": "2021-10-29T15:30:11.293750Z",
     "shell.execute_reply": "2021-10-29T15:30:11.295164Z"
    },
    "papermill": {
     "duration": 1.486762,
     "end_time": "2021-10-29T15:30:11.295598",
     "exception": false,
     "start_time": "2021-10-29T15:30:09.808836",
     "status": "completed"
    },
    "tags": []
   },
   "outputs": [
    {
     "data": {
      "text/plain": [
       "<AxesSubplot:ylabel='PRODUCT'>"
      ]
     },
     "execution_count": 7,
     "metadata": {},
     "output_type": "execute_result"
    },
    {
     "data": {
      "image/png": "[encoded data removed]",
      "text/plain": [
       "<Figure size 432x288 with 1 Axes>"
      ]
     },
     "metadata": {
      "needs_background": "light"
     },
     "output_type": "display_data"
    }
   ],
   "source": [
    "df_pivot_diff.sort_values(\"stamp_2\", ascending = False)[\"stamp_2\"].head(10).plot.barh()"
   ]
  },
  {
   "cell_type": "code",
   "execution_count": null,
   "id": "extra-executive",
   "metadata": {
    "papermill": {
     "duration": 0.022008,
     "end_time": "2021-10-29T15:30:11.341964",
     "exception": false,
     "start_time": "2021-10-29T15:30:11.319956",
     "status": "completed"
    },
    "tags": []
   },
   "outputs": [],
   "source": []
  }
 ],
 "metadata": {
  "kernelspec": {
   "display_name": "Python 3",
   "language": "python",
   "name": "python3"
  },
  "language_info": {
   "codemirror_mode": {
    "name": "ipython",
    "version": 3
   },
   "file_extension": ".py",
   "mimetype": "text/x-python",
   "name": "python",
   "nbconvert_exporter": "python",
   "pygments_lexer": "ipython3",
   "version": "3.9.5"
  },
  "papermill": {
   "default_parameters": {},
   "duration": 7.446146,
   "end_time": "2021-10-29T15:30:11.985468",
   "environment_variables": {},
   "exception": null,
   "input_path": "eBay_Overview.ipynb",
   "output_path": "eBay_Overview.ipynb",
   "parameters": {},
   "start_time": "2021-10-29T15:30:04.539322",
   "version": "2.3.3"
  }
 },
 "nbformat": 4,
 "nbformat_minor": 5
}