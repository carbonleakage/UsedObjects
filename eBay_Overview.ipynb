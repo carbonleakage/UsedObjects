{
 "cells": [
  {
   "cell_type": "code",
   "execution_count": 1,
   "id": "reverse-picking",
   "metadata": {
    "execution": {
     "iopub.execute_input": "2021-08-18T15:00:07.048152Z",
     "iopub.status.busy": "2021-08-18T15:00:07.046096Z",
     "iopub.status.idle": "2021-08-18T15:00:07.850928Z",
     "shell.execute_reply": "2021-08-18T15:00:07.852251Z"
    },
    "papermill": {
     "duration": 0.856276,
     "end_time": "2021-08-18T15:00:07.852869",
     "exception": false,
     "start_time": "2021-08-18T15:00:06.996593",
     "status": "completed"
    },
    "tags": []
   },
   "outputs": [],
   "source": [
    "import pandas as pd\n",
    "import sqlite3"
   ]
  },
  {
   "cell_type": "code",
   "execution_count": 2,
   "id": "innovative-syndrome",
   "metadata": {
    "execution": {
     "iopub.execute_input": "2021-08-18T15:00:07.902555Z",
     "iopub.status.busy": "2021-08-18T15:00:07.900572Z",
     "iopub.status.idle": "2021-08-18T15:00:07.978375Z",
     "shell.execute_reply": "2021-08-18T15:00:07.979674Z"
    },
    "papermill": {
     "duration": 0.107276,
     "end_time": "2021-08-18T15:00:07.980088",
     "exception": false,
     "start_time": "2021-08-18T15:00:07.872812",
     "status": "completed"
    },
    "tags": []
   },
   "outputs": [],
   "source": [
    "timestamps = pd.read_sql(\"select distinct record_time from EBAY_TOP_BERLIN order by record_time desc limit 2\", sqlite3.connect(\"UsedObjects.db\"))"
   ]
  },
  {
   "cell_type": "code",
   "execution_count": 3,
   "id": "periodic-identification",
   "metadata": {
    "execution": {
     "iopub.execute_input": "2021-08-18T15:00:08.044864Z",
     "iopub.status.busy": "2021-08-18T15:00:08.042855Z",
     "iopub.status.idle": "2021-08-18T15:00:08.063081Z",
     "shell.execute_reply": "2021-08-18T15:00:08.064433Z"
    },
    "papermill": {
     "duration": 0.064622,
     "end_time": "2021-08-18T15:00:08.064843",
     "exception": false,
     "start_time": "2021-08-18T15:00:08.000221",
     "status": "completed"
    },
    "tags": []
   },
   "outputs": [
    {
     "data": {
      "text/html": [
       "<div>\n",
       "<style scoped>\n",
       "    .dataframe tbody tr th:only-of-type {\n",
       "        vertical-align: middle;\n",
       "    }\n",
       "\n",
       "    .dataframe tbody tr th {\n",
       "        vertical-align: top;\n",
       "    }\n",
       "\n",
       "    .dataframe thead th {\n",
       "        text-align: right;\n",
       "    }\n",
       "</style>\n",
       "<table border=\"1\" class=\"dataframe\">\n",
       "  <thead>\n",
       "    <tr style=\"text-align: right;\">\n",
       "      <th></th>\n",
       "      <th>RECORD_TIME</th>\n",
       "    </tr>\n",
       "  </thead>\n",
       "  <tbody>\n",
       "    <tr>\n",
       "      <th>0</th>\n",
       "      <td>2021-08-18 17:00</td>\n",
       "    </tr>\n",
       "    <tr>\n",
       "      <th>1</th>\n",
       "      <td>2021-08-18 16:30</td>\n",
       "    </tr>\n",
       "  </tbody>\n",
       "</table>\n",
       "</div>"
      ],
      "text/plain": [
       "        RECORD_TIME\n",
       "0  2021-08-18 17:00\n",
       "1  2021-08-18 16:30"
      ]
     },
     "execution_count": 3,
     "metadata": {},
     "output_type": "execute_result"
    }
   ],
   "source": [
    "timestamps"
   ]
  },
  {
   "cell_type": "code",
   "execution_count": 4,
   "id": "alternate-victory",
   "metadata": {
    "execution": {
     "iopub.execute_input": "2021-08-18T15:00:08.116518Z",
     "iopub.status.busy": "2021-08-18T15:00:08.114352Z",
     "iopub.status.idle": "2021-08-18T15:00:08.228939Z",
     "shell.execute_reply": "2021-08-18T15:00:08.230212Z"
    },
    "papermill": {
     "duration": 0.144835,
     "end_time": "2021-08-18T15:00:08.230612",
     "exception": false,
     "start_time": "2021-08-18T15:00:08.085777",
     "status": "completed"
    },
    "tags": []
   },
   "outputs": [],
   "source": [
    "df = pd.read_sql(\"select * from EBAY_TOP_BERLIN where record_time in (select distinct record_time from EBAY_TOP_BERLIN order by record_time desc limit 2)\", sqlite3.connect(\"UsedObjects.db\"))"
   ]
  },
  {
   "cell_type": "code",
   "execution_count": 5,
   "id": "popular-active",
   "metadata": {
    "execution": {
     "iopub.execute_input": "2021-08-18T15:00:08.304129Z",
     "iopub.status.busy": "2021-08-18T15:00:08.292592Z",
     "iopub.status.idle": "2021-08-18T15:00:08.319612Z",
     "shell.execute_reply": "2021-08-18T15:00:08.320825Z"
    },
    "papermill": {
     "duration": 0.068023,
     "end_time": "2021-08-18T15:00:08.321216",
     "exception": false,
     "start_time": "2021-08-18T15:00:08.253193",
     "status": "completed"
    },
    "tags": []
   },
   "outputs": [],
   "source": [
    "df_pivot = df.pivot_table(index=\"PRODUCT\", columns = \"RECORD_TIME\", values = \"LISTING_COUNT\")"
   ]
  },
  {
   "cell_type": "code",
   "execution_count": 6,
   "id": "union-huntington",
   "metadata": {
    "execution": {
     "iopub.execute_input": "2021-08-18T15:00:08.376498Z",
     "iopub.status.busy": "2021-08-18T15:00:08.374512Z",
     "iopub.status.idle": "2021-08-18T15:00:08.379549Z",
     "shell.execute_reply": "2021-08-18T15:00:08.380694Z"
    },
    "papermill": {
     "duration": 0.039396,
     "end_time": "2021-08-18T15:00:08.381099",
     "exception": false,
     "start_time": "2021-08-18T15:00:08.341703",
     "status": "completed"
    },
    "tags": []
   },
   "outputs": [],
   "source": [
    "df_pivot.columns = [\"stamp_1\", \"stamp_2\"]\n",
    "df_pivot_diff = df_pivot.diff(axis=1)"
   ]
  },
  {
   "cell_type": "code",
   "execution_count": 7,
   "id": "fifth-motion",
   "metadata": {
    "execution": {
     "iopub.execute_input": "2021-08-18T15:00:08.439573Z",
     "iopub.status.busy": "2021-08-18T15:00:08.436837Z",
     "iopub.status.idle": "2021-08-18T15:00:09.936875Z",
     "shell.execute_reply": "2021-08-18T15:00:09.938447Z"
    },
    "papermill": {
     "duration": 1.53453,
     "end_time": "2021-08-18T15:00:09.938915",
     "exception": false,
     "start_time": "2021-08-18T15:00:08.404385",
     "status": "completed"
    },
    "tags": []
   },
   "outputs": [
    {
     "data": {
      "text/plain": [
       "<AxesSubplot:ylabel='PRODUCT'>"
      ]
     },
     "execution_count": 7,
     "metadata": {},
     "output_type": "execute_result"
    },
    {
     "data": {
      "image/png": "[encoded data removed]",
      "text/plain": [
       "<Figure size 432x288 with 1 Axes>"
      ]
     },
     "metadata": {
      "needs_background": "light"
     },
     "output_type": "display_data"
    }
   ],
   "source": [
    "df_pivot_diff.sort_values(\"stamp_2\", ascending = False)[\"stamp_2\"].head(10).plot.barh()"
   ]
  },
  {
   "cell_type": "code",
   "execution_count": null,
   "id": "extra-executive",
   "metadata": {
    "papermill": {
     "duration": 0.021871,
     "end_time": "2021-08-18T15:00:09.984873",
     "exception": false,
     "start_time": "2021-08-18T15:00:09.963002",
     "status": "completed"
    },
    "tags": []
   },
   "outputs": [],
   "source": []
  }
 ],
 "metadata": {
  "kernelspec": {
   "display_name": "Python 3",
   "language": "python",
   "name": "python3"
  },
  "language_info": {
   "codemirror_mode": {
    "name": "ipython",
    "version": 3
   },
   "file_extension": ".py",
   "mimetype": "text/x-python",
   "name": "python",
   "nbconvert_exporter": "python",
   "pygments_lexer": "ipython3",
   "version": "3.9.5"
  },
  "papermill": {
   "default_parameters": {},
   "duration": 6.83357,
   "end_time": "2021-08-18T15:00:11.422775",
   "environment_variables": {},
   "exception": null,
   "input_path": "eBay_Overview.ipynb",
   "output_path": "eBay_Overview.ipynb",
   "parameters": {},
   "start_time": "2021-08-18T15:00:04.589205",
   "version": "2.3.3"
  }
 },
 "nbformat": 4,
 "nbformat_minor": 5
}