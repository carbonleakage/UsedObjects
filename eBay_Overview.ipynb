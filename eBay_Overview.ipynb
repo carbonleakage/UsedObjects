{
 "cells": [
  {
   "cell_type": "code",
   "execution_count": 1,
   "id": "reverse-picking",
   "metadata": {
    "execution": {
     "iopub.execute_input": "2021-09-12T05:00:07.293053Z",
     "iopub.status.busy": "2021-09-12T05:00:07.291099Z",
     "iopub.status.idle": "2021-09-12T05:00:08.102767Z",
     "shell.execute_reply": "2021-09-12T05:00:08.101214Z"
    },
    "papermill": {
     "duration": 0.863446,
     "end_time": "2021-09-12T05:00:08.103350",
     "exception": false,
     "start_time": "2021-09-12T05:00:07.239904",
     "status": "completed"
    },
    "tags": []
   },
   "outputs": [],
   "source": [
    "import pandas as pd\n",
    "import sqlite3"
   ]
  },
  {
   "cell_type": "code",
   "execution_count": 2,
   "id": "innovative-syndrome",
   "metadata": {
    "execution": {
     "iopub.execute_input": "2021-09-12T05:00:08.156635Z",
     "iopub.status.busy": "2021-09-12T05:00:08.154261Z",
     "iopub.status.idle": "2021-09-12T05:00:08.421527Z",
     "shell.execute_reply": "2021-09-12T05:00:08.422720Z"
    },
    "papermill": {
     "duration": 0.297496,
     "end_time": "2021-09-12T05:00:08.423178",
     "exception": false,
     "start_time": "2021-09-12T05:00:08.125682",
     "status": "completed"
    },
    "tags": []
   },
   "outputs": [],
   "source": [
    "timestamps = pd.read_sql(\"select distinct record_time from EBAY_TOP_BERLIN order by record_time desc limit 2\", sqlite3.connect(\"UsedObjects.db\"))"
   ]
  },
  {
   "cell_type": "code",
   "execution_count": 3,
   "id": "periodic-identification",
   "metadata": {
    "execution": {
     "iopub.execute_input": "2021-09-12T05:00:08.486235Z",
     "iopub.status.busy": "2021-09-12T05:00:08.484219Z",
     "iopub.status.idle": "2021-09-12T05:00:08.504489Z",
     "shell.execute_reply": "2021-09-12T05:00:08.505689Z"
    },
    "papermill": {
     "duration": 0.063523,
     "end_time": "2021-09-12T05:00:08.506111",
     "exception": false,
     "start_time": "2021-09-12T05:00:08.442588",
     "status": "completed"
    },
    "tags": []
   },
   "outputs": [
    {
     "data": {
      "text/html": [
       "<div>\n",
       "<style scoped>\n",
       "    .dataframe tbody tr th:only-of-type {\n",
       "        vertical-align: middle;\n",
       "    }\n",
       "\n",
       "    .dataframe tbody tr th {\n",
       "        vertical-align: top;\n",
       "    }\n",
       "\n",
       "    .dataframe thead th {\n",
       "        text-align: right;\n",
       "    }\n",
       "</style>\n",
       "<table border=\"1\" class=\"dataframe\">\n",
       "  <thead>\n",
       "    <tr style=\"text-align: right;\">\n",
       "      <th></th>\n",
       "      <th>RECORD_TIME</th>\n",
       "    </tr>\n",
       "  </thead>\n",
       "  <tbody>\n",
       "    <tr>\n",
       "      <th>0</th>\n",
       "      <td>2021-09-12 07:00</td>\n",
       "    </tr>\n",
       "    <tr>\n",
       "      <th>1</th>\n",
       "      <td>2021-09-12 06:30</td>\n",
       "    </tr>\n",
       "  </tbody>\n",
       "</table>\n",
       "</div>"
      ],
      "text/plain": [
       "        RECORD_TIME\n",
       "0  2021-09-12 07:00\n",
       "1  2021-09-12 06:30"
      ]
     },
     "execution_count": 3,
     "metadata": {},
     "output_type": "execute_result"
    }
   ],
   "source": [
    "timestamps"
   ]
  },
  {
   "cell_type": "code",
   "execution_count": 4,
   "id": "alternate-victory",
   "metadata": {
    "execution": {
     "iopub.execute_input": "2021-09-12T05:00:08.560096Z",
     "iopub.status.busy": "2021-09-12T05:00:08.557703Z",
     "iopub.status.idle": "2021-09-12T05:00:08.959772Z",
     "shell.execute_reply": "2021-09-12T05:00:08.960993Z"
    },
    "papermill": {
     "duration": 0.432533,
     "end_time": "2021-09-12T05:00:08.961389",
     "exception": false,
     "start_time": "2021-09-12T05:00:08.528856",
     "status": "completed"
    },
    "tags": []
   },
   "outputs": [],
   "source": [
    "df = pd.read_sql(\"select * from EBAY_TOP_BERLIN where record_time in (select distinct record_time from EBAY_TOP_BERLIN order by record_time desc limit 2)\", sqlite3.connect(\"UsedObjects.db\"))"
   ]
  },
  {
   "cell_type": "code",
   "execution_count": 5,
   "id": "popular-active",
   "metadata": {
    "execution": {
     "iopub.execute_input": "2021-09-12T05:00:09.041190Z",
     "iopub.status.busy": "2021-09-12T05:00:09.028647Z",
     "iopub.status.idle": "2021-09-12T05:00:09.057046Z",
     "shell.execute_reply": "2021-09-12T05:00:09.058323Z"
    },
    "papermill": {
     "duration": 0.071598,
     "end_time": "2021-09-12T05:00:09.058731",
     "exception": false,
     "start_time": "2021-09-12T05:00:08.987133",
     "status": "completed"
    },
    "tags": []
   },
   "outputs": [],
   "source": [
    "df_pivot = df.pivot_table(index=\"PRODUCT\", columns = \"RECORD_TIME\", values = \"LISTING_COUNT\")"
   ]
  },
  {
   "cell_type": "code",
   "execution_count": 6,
   "id": "union-huntington",
   "metadata": {
    "execution": {
     "iopub.execute_input": "2021-09-12T05:00:09.116419Z",
     "iopub.status.busy": "2021-09-12T05:00:09.114205Z",
     "iopub.status.idle": "2021-09-12T05:00:09.119965Z",
     "shell.execute_reply": "2021-09-12T05:00:09.121228Z"
    },
    "papermill": {
     "duration": 0.041111,
     "end_time": "2021-09-12T05:00:09.121678",
     "exception": false,
     "start_time": "2021-09-12T05:00:09.080567",
     "status": "completed"
    },
    "tags": []
   },
   "outputs": [],
   "source": [
    "df_pivot.columns = [\"stamp_1\", \"stamp_2\"]\n",
    "df_pivot_diff = df_pivot.diff(axis=1)"
   ]
  },
  {
   "cell_type": "code",
   "execution_count": 7,
   "id": "fifth-motion",
   "metadata": {
    "execution": {
     "iopub.execute_input": "2021-09-12T05:00:09.181348Z",
     "iopub.status.busy": "2021-09-12T05:00:09.176518Z",
     "iopub.status.idle": "2021-09-12T05:00:10.652963Z",
     "shell.execute_reply": "2021-09-12T05:00:10.654251Z"
    },
    "papermill": {
     "duration": 1.510115,
     "end_time": "2021-09-12T05:00:10.654668",
     "exception": false,
     "start_time": "2021-09-12T05:00:09.144553",
     "status": "completed"
    },
    "tags": []
   },
   "outputs": [
    {
     "data": {
      "text/plain": [
       "<AxesSubplot:ylabel='PRODUCT'>"
      ]
     },
     "execution_count": 7,
     "metadata": {},
     "output_type": "execute_result"
    },
    {
     "data": {
      "image/png": "[encoded data removed]",
      "text/plain": [
       "<Figure size 432x288 with 1 Axes>"
      ]
     },
     "metadata": {
      "needs_background": "light"
     },
     "output_type": "display_data"
    }
   ],
   "source": [
    "df_pivot_diff.sort_values(\"stamp_2\", ascending = False)[\"stamp_2\"].head(10).plot.barh()"
   ]
  },
  {
   "cell_type": "code",
   "execution_count": null,
   "id": "extra-executive",
   "metadata": {
    "papermill": {
     "duration": 0.022285,
     "end_time": "2021-09-12T05:00:10.703107",
     "exception": false,
     "start_time": "2021-09-12T05:00:10.680822",
     "status": "completed"
    },
    "tags": []
   },
   "outputs": [],
   "source": []
  }
 ],
 "metadata": {
  "kernelspec": {
   "display_name": "Python 3",
   "language": "python",
   "name": "python3"
  },
  "language_info": {
   "codemirror_mode": {
    "name": "ipython",
    "version": 3
   },
   "file_extension": ".py",
   "mimetype": "text/x-python",
   "name": "python",
   "nbconvert_exporter": "python",
   "pygments_lexer": "ipython3",
   "version": "3.9.5"
  },
  "papermill": {
   "default_parameters": {},
   "duration": 6.524898,
   "end_time": "2021-09-12T05:00:11.343435",
   "environment_variables": {},
   "exception": null,
   "input_path": "eBay_Overview.ipynb",
   "output_path": "eBay_Overview.ipynb",
   "parameters": {},
   "start_time": "2021-09-12T05:00:04.818537",
   "version": "2.3.3"
  }
 },
 "nbformat": 4,
 "nbformat_minor": 5
}