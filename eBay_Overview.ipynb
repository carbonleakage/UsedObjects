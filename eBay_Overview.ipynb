{
 "cells": [
  {
   "cell_type": "code",
   "execution_count": 1,
   "id": "reverse-picking",
   "metadata": {
    "execution": {
     "iopub.execute_input": "2021-12-20T16:30:07.966730Z",
     "iopub.status.busy": "2021-12-20T16:30:07.964266Z",
     "iopub.status.idle": "2021-12-20T16:30:08.919210Z",
     "shell.execute_reply": "2021-12-20T16:30:08.921039Z"
    },
    "papermill": {
     "duration": 1.004135,
     "end_time": "2021-12-20T16:30:08.921795",
     "exception": false,
     "start_time": "2021-12-20T16:30:07.917660",
     "status": "completed"
    },
    "tags": []
   },
   "outputs": [],
   "source": [
    "import pandas as pd\n",
    "import sqlite3"
   ]
  },
  {
   "cell_type": "code",
   "execution_count": 2,
   "id": "innovative-syndrome",
   "metadata": {
    "execution": {
     "iopub.execute_input": "2021-12-20T16:30:08.977264Z",
     "iopub.status.busy": "2021-12-20T16:30:08.974897Z",
     "iopub.status.idle": "2021-12-20T16:30:10.133752Z",
     "shell.execute_reply": "2021-12-20T16:30:10.135125Z"
    },
    "papermill": {
     "duration": 1.192682,
     "end_time": "2021-12-20T16:30:10.135606",
     "exception": false,
     "start_time": "2021-12-20T16:30:08.942924",
     "status": "completed"
    },
    "tags": []
   },
   "outputs": [],
   "source": [
    "timestamps = pd.read_sql(\"select distinct record_time from EBAY_TOP_BERLIN order by record_time desc limit 2\", sqlite3.connect(\"UsedObjects.db\"))"
   ]
  },
  {
   "cell_type": "code",
   "execution_count": 3,
   "id": "periodic-identification",
   "metadata": {
    "execution": {
     "iopub.execute_input": "2021-12-20T16:30:10.203960Z",
     "iopub.status.busy": "2021-12-20T16:30:10.197167Z",
     "iopub.status.idle": "2021-12-20T16:30:10.226443Z",
     "shell.execute_reply": "2021-12-20T16:30:10.228107Z"
    },
    "papermill": {
     "duration": 0.073788,
     "end_time": "2021-12-20T16:30:10.228652",
     "exception": false,
     "start_time": "2021-12-20T16:30:10.154864",
     "status": "completed"
    },
    "tags": []
   },
   "outputs": [
    {
     "data": {
      "text/html": [
       "<div>\n",
       "<style scoped>\n",
       "    .dataframe tbody tr th:only-of-type {\n",
       "        vertical-align: middle;\n",
       "    }\n",
       "\n",
       "    .dataframe tbody tr th {\n",
       "        vertical-align: top;\n",
       "    }\n",
       "\n",
       "    .dataframe thead th {\n",
       "        text-align: right;\n",
       "    }\n",
       "</style>\n",
       "<table border=\"1\" class=\"dataframe\">\n",
       "  <thead>\n",
       "    <tr style=\"text-align: right;\">\n",
       "      <th></th>\n",
       "      <th>RECORD_TIME</th>\n",
       "    </tr>\n",
       "  </thead>\n",
       "  <tbody>\n",
       "    <tr>\n",
       "      <th>0</th>\n",
       "      <td>2021-12-20 17:30</td>\n",
       "    </tr>\n",
       "    <tr>\n",
       "      <th>1</th>\n",
       "      <td>2021-12-20 17:00</td>\n",
       "    </tr>\n",
       "  </tbody>\n",
       "</table>\n",
       "</div>"
      ],
      "text/plain": [
       "        RECORD_TIME\n",
       "0  2021-12-20 17:30\n",
       "1  2021-12-20 17:00"
      ]
     },
     "execution_count": 3,
     "metadata": {},
     "output_type": "execute_result"
    }
   ],
   "source": [
    "timestamps"
   ]
  },
  {
   "cell_type": "code",
   "execution_count": 4,
   "id": "alternate-victory",
   "metadata": {
    "execution": {
     "iopub.execute_input": "2021-12-20T16:30:10.282771Z",
     "iopub.status.busy": "2021-12-20T16:30:10.280349Z",
     "iopub.status.idle": "2021-12-20T16:30:11.967949Z",
     "shell.execute_reply": "2021-12-20T16:30:11.969432Z"
    },
    "papermill": {
     "duration": 1.721104,
     "end_time": "2021-12-20T16:30:11.969930",
     "exception": false,
     "start_time": "2021-12-20T16:30:10.248826",
     "status": "completed"
    },
    "tags": []
   },
   "outputs": [],
   "source": [
    "df = pd.read_sql(\"select * from EBAY_TOP_BERLIN where record_time in (select distinct record_time from EBAY_TOP_BERLIN order by record_time desc limit 2)\", sqlite3.connect(\"UsedObjects.db\"))"
   ]
  },
  {
   "cell_type": "code",
   "execution_count": 5,
   "id": "popular-active",
   "metadata": {
    "execution": {
     "iopub.execute_input": "2021-12-20T16:30:12.048015Z",
     "iopub.status.busy": "2021-12-20T16:30:12.034488Z",
     "iopub.status.idle": "2021-12-20T16:30:12.070192Z",
     "shell.execute_reply": "2021-12-20T16:30:12.068242Z"
    },
    "papermill": {
     "duration": 0.079939,
     "end_time": "2021-12-20T16:30:12.070667",
     "exception": false,
     "start_time": "2021-12-20T16:30:11.990728",
     "status": "completed"
    },
    "tags": []
   },
   "outputs": [],
   "source": [
    "df_pivot = df.pivot_table(index=\"PRODUCT\", columns = \"RECORD_TIME\", values = \"LISTING_COUNT\")"
   ]
  },
  {
   "cell_type": "code",
   "execution_count": 6,
   "id": "union-huntington",
   "metadata": {
    "execution": {
     "iopub.execute_input": "2021-12-20T16:30:12.130966Z",
     "iopub.status.busy": "2021-12-20T16:30:12.128636Z",
     "iopub.status.idle": "2021-12-20T16:30:12.134599Z",
     "shell.execute_reply": "2021-12-20T16:30:12.136061Z"
    },
    "papermill": {
     "duration": 0.043675,
     "end_time": "2021-12-20T16:30:12.136536",
     "exception": false,
     "start_time": "2021-12-20T16:30:12.092861",
     "status": "completed"
    },
    "tags": []
   },
   "outputs": [],
   "source": [
    "df_pivot.columns = [\"stamp_1\", \"stamp_2\"]\n",
    "df_pivot_diff = df_pivot.diff(axis=1)"
   ]
  },
  {
   "cell_type": "code",
   "execution_count": 7,
   "id": "fifth-motion",
   "metadata": {
    "execution": {
     "iopub.execute_input": "2021-12-20T16:30:12.193198Z",
     "iopub.status.busy": "2021-12-20T16:30:12.190591Z",
     "iopub.status.idle": "2021-12-20T16:30:14.169492Z",
     "shell.execute_reply": "2021-12-20T16:30:14.170869Z"
    },
    "papermill": {
     "duration": 2.01444,
     "end_time": "2021-12-20T16:30:14.171299",
     "exception": false,
     "start_time": "2021-12-20T16:30:12.156859",
     "status": "completed"
    },
    "tags": []
   },
   "outputs": [
    {
     "data": {
      "text/plain": [
       "<AxesSubplot:ylabel='PRODUCT'>"
      ]
     },
     "execution_count": 7,
     "metadata": {},
     "output_type": "execute_result"
    },
    {
     "data": {
      "image/png": "[encoded data removed]",
      "text/plain": [
       "<Figure size 432x288 with 1 Axes>"
      ]
     },
     "metadata": {
      "needs_background": "light"
     },
     "output_type": "display_data"
    }
   ],
   "source": [
    "df_pivot_diff.sort_values(\"stamp_2\", ascending = False)[\"stamp_2\"].head(10).plot.barh()"
   ]
  },
  {
   "cell_type": "code",
   "execution_count": null,
   "id": "extra-executive",
   "metadata": {
    "papermill": {
     "duration": 0.026075,
     "end_time": "2021-12-20T16:30:14.229210",
     "exception": false,
     "start_time": "2021-12-20T16:30:14.203135",
     "status": "completed"
    },
    "tags": []
   },
   "outputs": [],
   "source": []
  }
 ],
 "metadata": {
  "kernelspec": {
   "display_name": "Python 3",
   "language": "python",
   "name": "python3"
  },
  "language_info": {
   "codemirror_mode": {
    "name": "ipython",
    "version": 3
   },
   "file_extension": ".py",
   "mimetype": "text/x-python",
   "name": "python",
   "nbconvert_exporter": "python",
   "pygments_lexer": "ipython3",
   "version": "3.9.5"
  },
  "papermill": {
   "default_parameters": {},
   "duration": 9.706129,
   "end_time": "2021-12-20T16:30:14.885868",
   "environment_variables": {},
   "exception": null,
   "input_path": "eBay_Overview.ipynb",
   "output_path": "eBay_Overview.ipynb",
   "parameters": {},
   "start_time": "2021-12-20T16:30:05.179739",
   "version": "2.3.3"
  }
 },
 "nbformat": 4,
 "nbformat_minor": 5
}