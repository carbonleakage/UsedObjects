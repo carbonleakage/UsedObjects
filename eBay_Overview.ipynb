{
 "cells": [
  {
   "cell_type": "code",
   "execution_count": 1,
   "id": "reverse-picking",
   "metadata": {
    "execution": {
     "iopub.execute_input": "2021-09-10T00:30:06.609081Z",
     "iopub.status.busy": "2021-09-10T00:30:06.607140Z",
     "iopub.status.idle": "2021-09-10T00:30:07.421335Z",
     "shell.execute_reply": "2021-09-10T00:30:07.422653Z"
    },
    "papermill": {
     "duration": 0.866618,
     "end_time": "2021-09-10T00:30:07.423380",
     "exception": false,
     "start_time": "2021-09-10T00:30:06.556762",
     "status": "completed"
    },
    "tags": []
   },
   "outputs": [],
   "source": [
    "import pandas as pd\n",
    "import sqlite3"
   ]
  },
  {
   "cell_type": "code",
   "execution_count": 2,
   "id": "innovative-syndrome",
   "metadata": {
    "execution": {
     "iopub.execute_input": "2021-09-10T00:30:07.474004Z",
     "iopub.status.busy": "2021-09-10T00:30:07.471961Z",
     "iopub.status.idle": "2021-09-10T00:30:07.721395Z",
     "shell.execute_reply": "2021-09-10T00:30:07.722654Z"
    },
    "papermill": {
     "duration": 0.279575,
     "end_time": "2021-09-10T00:30:07.723136",
     "exception": false,
     "start_time": "2021-09-10T00:30:07.443561",
     "status": "completed"
    },
    "tags": []
   },
   "outputs": [],
   "source": [
    "timestamps = pd.read_sql(\"select distinct record_time from EBAY_TOP_BERLIN order by record_time desc limit 2\", sqlite3.connect(\"UsedObjects.db\"))"
   ]
  },
  {
   "cell_type": "code",
   "execution_count": 3,
   "id": "periodic-identification",
   "metadata": {
    "execution": {
     "iopub.execute_input": "2021-09-10T00:30:07.789648Z",
     "iopub.status.busy": "2021-09-10T00:30:07.787632Z",
     "iopub.status.idle": "2021-09-10T00:30:07.807573Z",
     "shell.execute_reply": "2021-09-10T00:30:07.808899Z"
    },
    "papermill": {
     "duration": 0.066771,
     "end_time": "2021-09-10T00:30:07.809310",
     "exception": false,
     "start_time": "2021-09-10T00:30:07.742539",
     "status": "completed"
    },
    "tags": []
   },
   "outputs": [
    {
     "data": {
      "text/html": [
       "<div>\n",
       "<style scoped>\n",
       "    .dataframe tbody tr th:only-of-type {\n",
       "        vertical-align: middle;\n",
       "    }\n",
       "\n",
       "    .dataframe tbody tr th {\n",
       "        vertical-align: top;\n",
       "    }\n",
       "\n",
       "    .dataframe thead th {\n",
       "        text-align: right;\n",
       "    }\n",
       "</style>\n",
       "<table border=\"1\" class=\"dataframe\">\n",
       "  <thead>\n",
       "    <tr style=\"text-align: right;\">\n",
       "      <th></th>\n",
       "      <th>RECORD_TIME</th>\n",
       "    </tr>\n",
       "  </thead>\n",
       "  <tbody>\n",
       "    <tr>\n",
       "      <th>0</th>\n",
       "      <td>2021-09-10 02:30</td>\n",
       "    </tr>\n",
       "    <tr>\n",
       "      <th>1</th>\n",
       "      <td>2021-09-10 02:00</td>\n",
       "    </tr>\n",
       "  </tbody>\n",
       "</table>\n",
       "</div>"
      ],
      "text/plain": [
       "        RECORD_TIME\n",
       "0  2021-09-10 02:30\n",
       "1  2021-09-10 02:00"
      ]
     },
     "execution_count": 3,
     "metadata": {},
     "output_type": "execute_result"
    }
   ],
   "source": [
    "timestamps"
   ]
  },
  {
   "cell_type": "code",
   "execution_count": 4,
   "id": "alternate-victory",
   "metadata": {
    "execution": {
     "iopub.execute_input": "2021-09-10T00:30:07.859587Z",
     "iopub.status.busy": "2021-09-10T00:30:07.857643Z",
     "iopub.status.idle": "2021-09-10T00:30:08.243900Z",
     "shell.execute_reply": "2021-09-10T00:30:08.245353Z"
    },
    "papermill": {
     "duration": 0.41631,
     "end_time": "2021-09-10T00:30:08.245785",
     "exception": false,
     "start_time": "2021-09-10T00:30:07.829475",
     "status": "completed"
    },
    "tags": []
   },
   "outputs": [],
   "source": [
    "df = pd.read_sql(\"select * from EBAY_TOP_BERLIN where record_time in (select distinct record_time from EBAY_TOP_BERLIN order by record_time desc limit 2)\", sqlite3.connect(\"UsedObjects.db\"))"
   ]
  },
  {
   "cell_type": "code",
   "execution_count": 5,
   "id": "popular-active",
   "metadata": {
    "execution": {
     "iopub.execute_input": "2021-09-10T00:30:08.326653Z",
     "iopub.status.busy": "2021-09-10T00:30:08.314655Z",
     "iopub.status.idle": "2021-09-10T00:30:08.342551Z",
     "shell.execute_reply": "2021-09-10T00:30:08.344015Z"
    },
    "papermill": {
     "duration": 0.072552,
     "end_time": "2021-09-10T00:30:08.344420",
     "exception": false,
     "start_time": "2021-09-10T00:30:08.271868",
     "status": "completed"
    },
    "tags": []
   },
   "outputs": [],
   "source": [
    "df_pivot = df.pivot_table(index=\"PRODUCT\", columns = \"RECORD_TIME\", values = \"LISTING_COUNT\")"
   ]
  },
  {
   "cell_type": "code",
   "execution_count": 6,
   "id": "union-huntington",
   "metadata": {
    "execution": {
     "iopub.execute_input": "2021-09-10T00:30:08.402701Z",
     "iopub.status.busy": "2021-09-10T00:30:08.400277Z",
     "iopub.status.idle": "2021-09-10T00:30:08.406265Z",
     "shell.execute_reply": "2021-09-10T00:30:08.407728Z"
    },
    "papermill": {
     "duration": 0.042594,
     "end_time": "2021-09-10T00:30:08.408169",
     "exception": false,
     "start_time": "2021-09-10T00:30:08.365575",
     "status": "completed"
    },
    "tags": []
   },
   "outputs": [],
   "source": [
    "df_pivot.columns = [\"stamp_1\", \"stamp_2\"]\n",
    "df_pivot_diff = df_pivot.diff(axis=1)"
   ]
  },
  {
   "cell_type": "code",
   "execution_count": 7,
   "id": "fifth-motion",
   "metadata": {
    "execution": {
     "iopub.execute_input": "2021-09-10T00:30:08.462382Z",
     "iopub.status.busy": "2021-09-10T00:30:08.460168Z",
     "iopub.status.idle": "2021-09-10T00:30:09.937946Z",
     "shell.execute_reply": "2021-09-10T00:30:09.939300Z"
    },
    "papermill": {
     "duration": 1.51025,
     "end_time": "2021-09-10T00:30:09.939718",
     "exception": false,
     "start_time": "2021-09-10T00:30:08.429468",
     "status": "completed"
    },
    "tags": []
   },
   "outputs": [
    {
     "data": {
      "text/plain": [
       "<AxesSubplot:ylabel='PRODUCT'>"
      ]
     },
     "execution_count": 7,
     "metadata": {},
     "output_type": "execute_result"
    },
    {
     "data": {
      "image/png": "[encoded data removed]",
      "text/plain": [
       "<Figure size 432x288 with 1 Axes>"
      ]
     },
     "metadata": {
      "needs_background": "light"
     },
     "output_type": "display_data"
    }
   ],
   "source": [
    "df_pivot_diff.sort_values(\"stamp_2\", ascending = False)[\"stamp_2\"].head(10).plot.barh()"
   ]
  },
  {
   "cell_type": "code",
   "execution_count": null,
   "id": "extra-executive",
   "metadata": {
    "papermill": {
     "duration": 0.02208,
     "end_time": "2021-09-10T00:30:09.985876",
     "exception": false,
     "start_time": "2021-09-10T00:30:09.963796",
     "status": "completed"
    },
    "tags": []
   },
   "outputs": [],
   "source": []
  }
 ],
 "metadata": {
  "kernelspec": {
   "display_name": "Python 3",
   "language": "python",
   "name": "python3"
  },
  "language_info": {
   "codemirror_mode": {
    "name": "ipython",
    "version": 3
   },
   "file_extension": ".py",
   "mimetype": "text/x-python",
   "name": "python",
   "nbconvert_exporter": "python",
   "pygments_lexer": "ipython3",
   "version": "3.9.5"
  },
  "papermill": {
   "default_parameters": {},
   "duration": 6.487186,
   "end_time": "2021-09-10T00:30:10.625265",
   "environment_variables": {},
   "exception": null,
   "input_path": "eBay_Overview.ipynb",
   "output_path": "eBay_Overview.ipynb",
   "parameters": {},
   "start_time": "2021-09-10T00:30:04.138079",
   "version": "2.3.3"
  }
 },
 "nbformat": 4,
 "nbformat_minor": 5
}