{
 "cells": [
  {
   "cell_type": "code",
   "execution_count": 1,
   "id": "reverse-picking",
   "metadata": {
    "execution": {
     "iopub.execute_input": "2021-08-28T05:30:06.959726Z",
     "iopub.status.busy": "2021-08-28T05:30:06.957808Z",
     "iopub.status.idle": "2021-08-28T05:30:07.761597Z",
     "shell.execute_reply": "2021-08-28T05:30:07.762851Z"
    },
    "papermill": {
     "duration": 0.854241,
     "end_time": "2021-08-28T05:30:07.763469",
     "exception": false,
     "start_time": "2021-08-28T05:30:06.909228",
     "status": "completed"
    },
    "tags": []
   },
   "outputs": [],
   "source": [
    "import pandas as pd\n",
    "import sqlite3"
   ]
  },
  {
   "cell_type": "code",
   "execution_count": 2,
   "id": "innovative-syndrome",
   "metadata": {
    "execution": {
     "iopub.execute_input": "2021-08-28T05:30:07.815353Z",
     "iopub.status.busy": "2021-08-28T05:30:07.813496Z",
     "iopub.status.idle": "2021-08-28T05:30:07.959853Z",
     "shell.execute_reply": "2021-08-28T05:30:07.961268Z"
    },
    "papermill": {
     "duration": 0.176278,
     "end_time": "2021-08-28T05:30:07.961685",
     "exception": false,
     "start_time": "2021-08-28T05:30:07.785407",
     "status": "completed"
    },
    "tags": []
   },
   "outputs": [],
   "source": [
    "timestamps = pd.read_sql(\"select distinct record_time from EBAY_TOP_BERLIN order by record_time desc limit 2\", sqlite3.connect(\"UsedObjects.db\"))"
   ]
  },
  {
   "cell_type": "code",
   "execution_count": 3,
   "id": "periodic-identification",
   "metadata": {
    "execution": {
     "iopub.execute_input": "2021-08-28T05:30:08.030092Z",
     "iopub.status.busy": "2021-08-28T05:30:08.028006Z",
     "iopub.status.idle": "2021-08-28T05:30:08.047879Z",
     "shell.execute_reply": "2021-08-28T05:30:08.049152Z"
    },
    "papermill": {
     "duration": 0.067015,
     "end_time": "2021-08-28T05:30:08.049592",
     "exception": false,
     "start_time": "2021-08-28T05:30:07.982577",
     "status": "completed"
    },
    "tags": []
   },
   "outputs": [
    {
     "data": {
      "text/html": [
       "<div>\n",
       "<style scoped>\n",
       "    .dataframe tbody tr th:only-of-type {\n",
       "        vertical-align: middle;\n",
       "    }\n",
       "\n",
       "    .dataframe tbody tr th {\n",
       "        vertical-align: top;\n",
       "    }\n",
       "\n",
       "    .dataframe thead th {\n",
       "        text-align: right;\n",
       "    }\n",
       "</style>\n",
       "<table border=\"1\" class=\"dataframe\">\n",
       "  <thead>\n",
       "    <tr style=\"text-align: right;\">\n",
       "      <th></th>\n",
       "      <th>RECORD_TIME</th>\n",
       "    </tr>\n",
       "  </thead>\n",
       "  <tbody>\n",
       "    <tr>\n",
       "      <th>0</th>\n",
       "      <td>2021-08-28 07:30</td>\n",
       "    </tr>\n",
       "    <tr>\n",
       "      <th>1</th>\n",
       "      <td>2021-08-28 07:00</td>\n",
       "    </tr>\n",
       "  </tbody>\n",
       "</table>\n",
       "</div>"
      ],
      "text/plain": [
       "        RECORD_TIME\n",
       "0  2021-08-28 07:30\n",
       "1  2021-08-28 07:00"
      ]
     },
     "execution_count": 3,
     "metadata": {},
     "output_type": "execute_result"
    }
   ],
   "source": [
    "timestamps"
   ]
  },
  {
   "cell_type": "code",
   "execution_count": 4,
   "id": "alternate-victory",
   "metadata": {
    "execution": {
     "iopub.execute_input": "2021-08-28T05:30:08.100798Z",
     "iopub.status.busy": "2021-08-28T05:30:08.098832Z",
     "iopub.status.idle": "2021-08-28T05:30:08.319591Z",
     "shell.execute_reply": "2021-08-28T05:30:08.320950Z"
    },
    "papermill": {
     "duration": 0.251176,
     "end_time": "2021-08-28T05:30:08.321373",
     "exception": false,
     "start_time": "2021-08-28T05:30:08.070197",
     "status": "completed"
    },
    "tags": []
   },
   "outputs": [],
   "source": [
    "df = pd.read_sql(\"select * from EBAY_TOP_BERLIN where record_time in (select distinct record_time from EBAY_TOP_BERLIN order by record_time desc limit 2)\", sqlite3.connect(\"UsedObjects.db\"))"
   ]
  },
  {
   "cell_type": "code",
   "execution_count": 5,
   "id": "popular-active",
   "metadata": {
    "execution": {
     "iopub.execute_input": "2021-08-28T05:30:08.386467Z",
     "iopub.status.busy": "2021-08-28T05:30:08.381247Z",
     "iopub.status.idle": "2021-08-28T05:30:08.408065Z",
     "shell.execute_reply": "2021-08-28T05:30:08.409546Z"
    },
    "papermill": {
     "duration": 0.067033,
     "end_time": "2021-08-28T05:30:08.409994",
     "exception": false,
     "start_time": "2021-08-28T05:30:08.342961",
     "status": "completed"
    },
    "tags": []
   },
   "outputs": [],
   "source": [
    "df_pivot = df.pivot_table(index=\"PRODUCT\", columns = \"RECORD_TIME\", values = \"LISTING_COUNT\")"
   ]
  },
  {
   "cell_type": "code",
   "execution_count": 6,
   "id": "union-huntington",
   "metadata": {
    "execution": {
     "iopub.execute_input": "2021-08-28T05:30:08.477003Z",
     "iopub.status.busy": "2021-08-28T05:30:08.474869Z",
     "iopub.status.idle": "2021-08-28T05:30:08.480531Z",
     "shell.execute_reply": "2021-08-28T05:30:08.481847Z"
    },
    "papermill": {
     "duration": 0.046444,
     "end_time": "2021-08-28T05:30:08.482268",
     "exception": false,
     "start_time": "2021-08-28T05:30:08.435824",
     "status": "completed"
    },
    "tags": []
   },
   "outputs": [],
   "source": [
    "df_pivot.columns = [\"stamp_1\", \"stamp_2\"]\n",
    "df_pivot_diff = df_pivot.diff(axis=1)"
   ]
  },
  {
   "cell_type": "code",
   "execution_count": 7,
   "id": "fifth-motion",
   "metadata": {
    "execution": {
     "iopub.execute_input": "2021-08-28T05:30:08.537184Z",
     "iopub.status.busy": "2021-08-28T05:30:08.534606Z",
     "iopub.status.idle": "2021-08-28T05:30:10.003265Z",
     "shell.execute_reply": "2021-08-28T05:30:10.004783Z"
    },
    "papermill": {
     "duration": 1.502251,
     "end_time": "2021-08-28T05:30:10.005267",
     "exception": false,
     "start_time": "2021-08-28T05:30:08.503016",
     "status": "completed"
    },
    "tags": []
   },
   "outputs": [
    {
     "data": {
      "text/plain": [
       "<AxesSubplot:ylabel='PRODUCT'>"
      ]
     },
     "execution_count": 7,
     "metadata": {},
     "output_type": "execute_result"
    },
    {
     "data": {
      "image/png": "[encoded data removed]",
      "text/plain": [
       "<Figure size 432x288 with 1 Axes>"
      ]
     },
     "metadata": {
      "needs_background": "light"
     },
     "output_type": "display_data"
    }
   ],
   "source": [
    "df_pivot_diff.sort_values(\"stamp_2\", ascending = False)[\"stamp_2\"].head(10).plot.barh()"
   ]
  },
  {
   "cell_type": "code",
   "execution_count": null,
   "id": "extra-executive",
   "metadata": {
    "papermill": {
     "duration": 0.022759,
     "end_time": "2021-08-28T05:30:10.053278",
     "exception": false,
     "start_time": "2021-08-28T05:30:10.030519",
     "status": "completed"
    },
    "tags": []
   },
   "outputs": [],
   "source": []
  }
 ],
 "metadata": {
  "kernelspec": {
   "display_name": "Python 3",
   "language": "python",
   "name": "python3"
  },
  "language_info": {
   "codemirror_mode": {
    "name": "ipython",
    "version": 3
   },
   "file_extension": ".py",
   "mimetype": "text/x-python",
   "name": "python",
   "nbconvert_exporter": "python",
   "pygments_lexer": "ipython3",
   "version": "3.9.5"
  },
  "papermill": {
   "default_parameters": {},
   "duration": 6.82993,
   "end_time": "2021-08-28T05:30:11.338667",
   "environment_variables": {},
   "exception": null,
   "input_path": "eBay_Overview.ipynb",
   "output_path": "eBay_Overview.ipynb",
   "parameters": {},
   "start_time": "2021-08-28T05:30:04.508737",
   "version": "2.3.3"
  }
 },
 "nbformat": 4,
 "nbformat_minor": 5
}