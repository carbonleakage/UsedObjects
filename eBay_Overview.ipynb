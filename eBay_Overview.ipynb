{
 "cells": [
  {
   "cell_type": "code",
   "execution_count": 1,
   "id": "reverse-picking",
   "metadata": {
    "execution": {
     "iopub.execute_input": "2021-11-04T05:30:08.008816Z",
     "iopub.status.busy": "2021-11-04T05:30:08.006359Z",
     "iopub.status.idle": "2021-11-04T05:30:08.964039Z",
     "shell.execute_reply": "2021-11-04T05:30:08.965765Z"
    },
    "papermill": {
     "duration": 1.007094,
     "end_time": "2021-11-04T05:30:08.966495",
     "exception": false,
     "start_time": "2021-11-04T05:30:07.959401",
     "status": "completed"
    },
    "tags": []
   },
   "outputs": [],
   "source": [
    "import pandas as pd\n",
    "import sqlite3"
   ]
  },
  {
   "cell_type": "code",
   "execution_count": 2,
   "id": "innovative-syndrome",
   "metadata": {
    "execution": {
     "iopub.execute_input": "2021-11-04T05:30:09.029449Z",
     "iopub.status.busy": "2021-11-04T05:30:09.027112Z",
     "iopub.status.idle": "2021-11-04T05:30:09.743373Z",
     "shell.execute_reply": "2021-11-04T05:30:09.745007Z"
    },
    "papermill": {
     "duration": 0.750641,
     "end_time": "2021-11-04T05:30:09.745497",
     "exception": false,
     "start_time": "2021-11-04T05:30:08.994856",
     "status": "completed"
    },
    "tags": []
   },
   "outputs": [],
   "source": [
    "timestamps = pd.read_sql(\"select distinct record_time from EBAY_TOP_BERLIN order by record_time desc limit 2\", sqlite3.connect(\"UsedObjects.db\"))"
   ]
  },
  {
   "cell_type": "code",
   "execution_count": 3,
   "id": "periodic-identification",
   "metadata": {
    "execution": {
     "iopub.execute_input": "2021-11-04T05:30:09.817346Z",
     "iopub.status.busy": "2021-11-04T05:30:09.814846Z",
     "iopub.status.idle": "2021-11-04T05:30:09.839446Z",
     "shell.execute_reply": "2021-11-04T05:30:09.841094Z"
    },
    "papermill": {
     "duration": 0.075736,
     "end_time": "2021-11-04T05:30:09.841659",
     "exception": false,
     "start_time": "2021-11-04T05:30:09.765923",
     "status": "completed"
    },
    "tags": []
   },
   "outputs": [
    {
     "data": {
      "text/html": [
       "<div>\n",
       "<style scoped>\n",
       "    .dataframe tbody tr th:only-of-type {\n",
       "        vertical-align: middle;\n",
       "    }\n",
       "\n",
       "    .dataframe tbody tr th {\n",
       "        vertical-align: top;\n",
       "    }\n",
       "\n",
       "    .dataframe thead th {\n",
       "        text-align: right;\n",
       "    }\n",
       "</style>\n",
       "<table border=\"1\" class=\"dataframe\">\n",
       "  <thead>\n",
       "    <tr style=\"text-align: right;\">\n",
       "      <th></th>\n",
       "      <th>RECORD_TIME</th>\n",
       "    </tr>\n",
       "  </thead>\n",
       "  <tbody>\n",
       "    <tr>\n",
       "      <th>0</th>\n",
       "      <td>2021-11-04 06:30</td>\n",
       "    </tr>\n",
       "    <tr>\n",
       "      <th>1</th>\n",
       "      <td>2021-11-04 06:00</td>\n",
       "    </tr>\n",
       "  </tbody>\n",
       "</table>\n",
       "</div>"
      ],
      "text/plain": [
       "        RECORD_TIME\n",
       "0  2021-11-04 06:30\n",
       "1  2021-11-04 06:00"
      ]
     },
     "execution_count": 3,
     "metadata": {},
     "output_type": "execute_result"
    }
   ],
   "source": [
    "timestamps"
   ]
  },
  {
   "cell_type": "code",
   "execution_count": 4,
   "id": "alternate-victory",
   "metadata": {
    "execution": {
     "iopub.execute_input": "2021-11-04T05:30:09.898927Z",
     "iopub.status.busy": "2021-11-04T05:30:09.896774Z",
     "iopub.status.idle": "2021-11-04T05:30:10.954511Z",
     "shell.execute_reply": "2021-11-04T05:30:10.955965Z"
    },
    "papermill": {
     "duration": 1.091838,
     "end_time": "2021-11-04T05:30:10.956449",
     "exception": false,
     "start_time": "2021-11-04T05:30:09.864611",
     "status": "completed"
    },
    "tags": []
   },
   "outputs": [],
   "source": [
    "df = pd.read_sql(\"select * from EBAY_TOP_BERLIN where record_time in (select distinct record_time from EBAY_TOP_BERLIN order by record_time desc limit 2)\", sqlite3.connect(\"UsedObjects.db\"))"
   ]
  },
  {
   "cell_type": "code",
   "execution_count": 5,
   "id": "popular-active",
   "metadata": {
    "execution": {
     "iopub.execute_input": "2021-11-04T05:30:11.043574Z",
     "iopub.status.busy": "2021-11-04T05:30:11.027687Z",
     "iopub.status.idle": "2021-11-04T05:30:11.088141Z",
     "shell.execute_reply": "2021-11-04T05:30:11.091049Z"
    },
    "papermill": {
     "duration": 0.114126,
     "end_time": "2021-11-04T05:30:11.091975",
     "exception": false,
     "start_time": "2021-11-04T05:30:10.977849",
     "status": "completed"
    },
    "tags": []
   },
   "outputs": [],
   "source": [
    "df_pivot = df.pivot_table(index=\"PRODUCT\", columns = \"RECORD_TIME\", values = \"LISTING_COUNT\")"
   ]
  },
  {
   "cell_type": "code",
   "execution_count": 6,
   "id": "union-huntington",
   "metadata": {
    "execution": {
     "iopub.execute_input": "2021-11-04T05:30:11.157588Z",
     "iopub.status.busy": "2021-11-04T05:30:11.155221Z",
     "iopub.status.idle": "2021-11-04T05:30:11.161554Z",
     "shell.execute_reply": "2021-11-04T05:30:11.163207Z"
    },
    "papermill": {
     "duration": 0.047822,
     "end_time": "2021-11-04T05:30:11.163697",
     "exception": false,
     "start_time": "2021-11-04T05:30:11.115875",
     "status": "completed"
    },
    "tags": []
   },
   "outputs": [],
   "source": [
    "df_pivot.columns = [\"stamp_1\", \"stamp_2\"]\n",
    "df_pivot_diff = df_pivot.diff(axis=1)"
   ]
  },
  {
   "cell_type": "code",
   "execution_count": 7,
   "id": "fifth-motion",
   "metadata": {
    "execution": {
     "iopub.execute_input": "2021-11-04T05:30:11.223314Z",
     "iopub.status.busy": "2021-11-04T05:30:11.220975Z",
     "iopub.status.idle": "2021-11-04T05:30:13.160164Z",
     "shell.execute_reply": "2021-11-04T05:30:13.163513Z"
    },
    "papermill": {
     "duration": 1.978177,
     "end_time": "2021-11-04T05:30:13.164460",
     "exception": false,
     "start_time": "2021-11-04T05:30:11.186283",
     "status": "completed"
    },
    "tags": []
   },
   "outputs": [
    {
     "data": {
      "text/plain": [
       "<AxesSubplot:ylabel='PRODUCT'>"
      ]
     },
     "execution_count": 7,
     "metadata": {},
     "output_type": "execute_result"
    },
    {
     "data": {
      "image/png": "[encoded data removed]",
      "text/plain": [
       "<Figure size 432x288 with 1 Axes>"
      ]
     },
     "metadata": {
      "needs_background": "light"
     },
     "output_type": "display_data"
    }
   ],
   "source": [
    "df_pivot_diff.sort_values(\"stamp_2\", ascending = False)[\"stamp_2\"].head(10).plot.barh()"
   ]
  },
  {
   "cell_type": "code",
   "execution_count": null,
   "id": "extra-executive",
   "metadata": {
    "papermill": {
     "duration": 0.037889,
     "end_time": "2021-11-04T05:30:13.238712",
     "exception": false,
     "start_time": "2021-11-04T05:30:13.200823",
     "status": "completed"
    },
    "tags": []
   },
   "outputs": [],
   "source": []
  }
 ],
 "metadata": {
  "kernelspec": {
   "display_name": "Python 3",
   "language": "python",
   "name": "python3"
  },
  "language_info": {
   "codemirror_mode": {
    "name": "ipython",
    "version": 3
   },
   "file_extension": ".py",
   "mimetype": "text/x-python",
   "name": "python",
   "nbconvert_exporter": "python",
   "pygments_lexer": "ipython3",
   "version": "3.9.5"
  },
  "papermill": {
   "default_parameters": {},
   "duration": 8.891823,
   "end_time": "2021-11-04T05:30:14.116345",
   "environment_variables": {},
   "exception": null,
   "input_path": "eBay_Overview.ipynb",
   "output_path": "eBay_Overview.ipynb",
   "parameters": {},
   "start_time": "2021-11-04T05:30:05.224522",
   "version": "2.3.3"
  }
 },
 "nbformat": 4,
 "nbformat_minor": 5
}