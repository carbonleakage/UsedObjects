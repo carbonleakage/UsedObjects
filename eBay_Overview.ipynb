{
 "cells": [
  {
   "cell_type": "code",
   "execution_count": 1,
   "id": "reverse-picking",
   "metadata": {
    "execution": {
     "iopub.execute_input": "2021-10-23T22:30:07.513215Z",
     "iopub.status.busy": "2021-10-23T22:30:07.511241Z",
     "iopub.status.idle": "2021-10-23T22:30:08.316967Z",
     "shell.execute_reply": "2021-10-23T22:30:08.318320Z"
    },
    "papermill": {
     "duration": 0.857034,
     "end_time": "2021-10-23T22:30:08.318974",
     "exception": false,
     "start_time": "2021-10-23T22:30:07.461940",
     "status": "completed"
    },
    "tags": []
   },
   "outputs": [],
   "source": [
    "import pandas as pd\n",
    "import sqlite3"
   ]
  },
  {
   "cell_type": "code",
   "execution_count": 2,
   "id": "innovative-syndrome",
   "metadata": {
    "execution": {
     "iopub.execute_input": "2021-10-23T22:30:08.369952Z",
     "iopub.status.busy": "2021-10-23T22:30:08.367843Z",
     "iopub.status.idle": "2021-10-23T22:30:08.993878Z",
     "shell.execute_reply": "2021-10-23T22:30:08.995246Z"
    },
    "papermill": {
     "duration": 0.655529,
     "end_time": "2021-10-23T22:30:08.995677",
     "exception": false,
     "start_time": "2021-10-23T22:30:08.340148",
     "status": "completed"
    },
    "tags": []
   },
   "outputs": [],
   "source": [
    "timestamps = pd.read_sql(\"select distinct record_time from EBAY_TOP_BERLIN order by record_time desc limit 2\", sqlite3.connect(\"UsedObjects.db\"))"
   ]
  },
  {
   "cell_type": "code",
   "execution_count": 3,
   "id": "periodic-identification",
   "metadata": {
    "execution": {
     "iopub.execute_input": "2021-10-23T22:30:09.075443Z",
     "iopub.status.busy": "2021-10-23T22:30:09.073440Z",
     "iopub.status.idle": "2021-10-23T22:30:09.093123Z",
     "shell.execute_reply": "2021-10-23T22:30:09.094522Z"
    },
    "papermill": {
     "duration": 0.069732,
     "end_time": "2021-10-23T22:30:09.094999",
     "exception": false,
     "start_time": "2021-10-23T22:30:09.025267",
     "status": "completed"
    },
    "tags": []
   },
   "outputs": [
    {
     "data": {
      "text/html": [
       "<div>\n",
       "<style scoped>\n",
       "    .dataframe tbody tr th:only-of-type {\n",
       "        vertical-align: middle;\n",
       "    }\n",
       "\n",
       "    .dataframe tbody tr th {\n",
       "        vertical-align: top;\n",
       "    }\n",
       "\n",
       "    .dataframe thead th {\n",
       "        text-align: right;\n",
       "    }\n",
       "</style>\n",
       "<table border=\"1\" class=\"dataframe\">\n",
       "  <thead>\n",
       "    <tr style=\"text-align: right;\">\n",
       "      <th></th>\n",
       "      <th>RECORD_TIME</th>\n",
       "    </tr>\n",
       "  </thead>\n",
       "  <tbody>\n",
       "    <tr>\n",
       "      <th>0</th>\n",
       "      <td>2021-10-24 00:30</td>\n",
       "    </tr>\n",
       "    <tr>\n",
       "      <th>1</th>\n",
       "      <td>2021-10-24 00:00</td>\n",
       "    </tr>\n",
       "  </tbody>\n",
       "</table>\n",
       "</div>"
      ],
      "text/plain": [
       "        RECORD_TIME\n",
       "0  2021-10-24 00:30\n",
       "1  2021-10-24 00:00"
      ]
     },
     "execution_count": 3,
     "metadata": {},
     "output_type": "execute_result"
    }
   ],
   "source": [
    "timestamps"
   ]
  },
  {
   "cell_type": "code",
   "execution_count": 4,
   "id": "alternate-victory",
   "metadata": {
    "execution": {
     "iopub.execute_input": "2021-10-23T22:30:09.147275Z",
     "iopub.status.busy": "2021-10-23T22:30:09.145255Z",
     "iopub.status.idle": "2021-10-23T22:30:10.064607Z",
     "shell.execute_reply": "2021-10-23T22:30:10.066122Z"
    },
    "papermill": {
     "duration": 0.950147,
     "end_time": "2021-10-23T22:30:10.066558",
     "exception": false,
     "start_time": "2021-10-23T22:30:09.116411",
     "status": "completed"
    },
    "tags": []
   },
   "outputs": [],
   "source": [
    "df = pd.read_sql(\"select * from EBAY_TOP_BERLIN where record_time in (select distinct record_time from EBAY_TOP_BERLIN order by record_time desc limit 2)\", sqlite3.connect(\"UsedObjects.db\"))"
   ]
  },
  {
   "cell_type": "code",
   "execution_count": 5,
   "id": "popular-active",
   "metadata": {
    "execution": {
     "iopub.execute_input": "2021-10-23T22:30:10.137947Z",
     "iopub.status.busy": "2021-10-23T22:30:10.125788Z",
     "iopub.status.idle": "2021-10-23T22:30:10.153397Z",
     "shell.execute_reply": "2021-10-23T22:30:10.154612Z"
    },
    "papermill": {
     "duration": 0.067409,
     "end_time": "2021-10-23T22:30:10.155006",
     "exception": false,
     "start_time": "2021-10-23T22:30:10.087597",
     "status": "completed"
    },
    "tags": []
   },
   "outputs": [],
   "source": [
    "df_pivot = df.pivot_table(index=\"PRODUCT\", columns = \"RECORD_TIME\", values = \"LISTING_COUNT\")"
   ]
  },
  {
   "cell_type": "code",
   "execution_count": 6,
   "id": "union-huntington",
   "metadata": {
    "execution": {
     "iopub.execute_input": "2021-10-23T22:30:10.212619Z",
     "iopub.status.busy": "2021-10-23T22:30:10.210381Z",
     "iopub.status.idle": "2021-10-23T22:30:10.216233Z",
     "shell.execute_reply": "2021-10-23T22:30:10.217583Z"
    },
    "papermill": {
     "duration": 0.041407,
     "end_time": "2021-10-23T22:30:10.217999",
     "exception": false,
     "start_time": "2021-10-23T22:30:10.176592",
     "status": "completed"
    },
    "tags": []
   },
   "outputs": [],
   "source": [
    "df_pivot.columns = [\"stamp_1\", \"stamp_2\"]\n",
    "df_pivot_diff = df_pivot.diff(axis=1)"
   ]
  },
  {
   "cell_type": "code",
   "execution_count": 7,
   "id": "fifth-motion",
   "metadata": {
    "execution": {
     "iopub.execute_input": "2021-10-23T22:30:10.271591Z",
     "iopub.status.busy": "2021-10-23T22:30:10.269422Z",
     "iopub.status.idle": "2021-10-23T22:30:11.752083Z",
     "shell.execute_reply": "2021-10-23T22:30:11.753559Z"
    },
    "papermill": {
     "duration": 1.515289,
     "end_time": "2021-10-23T22:30:11.754004",
     "exception": false,
     "start_time": "2021-10-23T22:30:10.238715",
     "status": "completed"
    },
    "tags": []
   },
   "outputs": [
    {
     "data": {
      "text/plain": [
       "<AxesSubplot:ylabel='PRODUCT'>"
      ]
     },
     "execution_count": 7,
     "metadata": {},
     "output_type": "execute_result"
    },
    {
     "data": {
      "image/png": "[encoded data removed]",
      "text/plain": [
       "<Figure size 432x288 with 1 Axes>"
      ]
     },
     "metadata": {
      "needs_background": "light"
     },
     "output_type": "display_data"
    }
   ],
   "source": [
    "df_pivot_diff.sort_values(\"stamp_2\", ascending = False)[\"stamp_2\"].head(10).plot.barh()"
   ]
  },
  {
   "cell_type": "code",
   "execution_count": null,
   "id": "extra-executive",
   "metadata": {
    "papermill": {
     "duration": 0.022305,
     "end_time": "2021-10-23T22:30:11.800951",
     "exception": false,
     "start_time": "2021-10-23T22:30:11.778646",
     "status": "completed"
    },
    "tags": []
   },
   "outputs": [],
   "source": []
  }
 ],
 "metadata": {
  "kernelspec": {
   "display_name": "Python 3",
   "language": "python",
   "name": "python3"
  },
  "language_info": {
   "codemirror_mode": {
    "name": "ipython",
    "version": 3
   },
   "file_extension": ".py",
   "mimetype": "text/x-python",
   "name": "python",
   "nbconvert_exporter": "python",
   "pygments_lexer": "ipython3",
   "version": "3.9.5"
  },
  "papermill": {
   "default_parameters": {},
   "duration": 7.388091,
   "end_time": "2021-10-23T22:30:12.443631",
   "environment_variables": {},
   "exception": null,
   "input_path": "eBay_Overview.ipynb",
   "output_path": "eBay_Overview.ipynb",
   "parameters": {},
   "start_time": "2021-10-23T22:30:05.055540",
   "version": "2.3.3"
  }
 },
 "nbformat": 4,
 "nbformat_minor": 5
}