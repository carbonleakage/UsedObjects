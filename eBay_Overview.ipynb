{
 "cells": [
  {
   "cell_type": "code",
   "execution_count": 1,
   "id": "reverse-picking",
   "metadata": {
    "execution": {
     "iopub.execute_input": "2021-09-07T20:30:06.833274Z",
     "iopub.status.busy": "2021-09-07T20:30:06.831276Z",
     "iopub.status.idle": "2021-09-07T20:30:07.641407Z",
     "shell.execute_reply": "2021-09-07T20:30:07.642721Z"
    },
    "papermill": {
     "duration": 0.861313,
     "end_time": "2021-09-07T20:30:07.643431",
     "exception": false,
     "start_time": "2021-09-07T20:30:06.782118",
     "status": "completed"
    },
    "tags": []
   },
   "outputs": [],
   "source": [
    "import pandas as pd\n",
    "import sqlite3"
   ]
  },
  {
   "cell_type": "code",
   "execution_count": 2,
   "id": "innovative-syndrome",
   "metadata": {
    "execution": {
     "iopub.execute_input": "2021-09-07T20:30:07.694437Z",
     "iopub.status.busy": "2021-09-07T20:30:07.692357Z",
     "iopub.status.idle": "2021-09-07T20:30:07.926054Z",
     "shell.execute_reply": "2021-09-07T20:30:07.927446Z"
    },
    "papermill": {
     "duration": 0.264124,
     "end_time": "2021-09-07T20:30:07.927864",
     "exception": false,
     "start_time": "2021-09-07T20:30:07.663740",
     "status": "completed"
    },
    "tags": []
   },
   "outputs": [],
   "source": [
    "timestamps = pd.read_sql(\"select distinct record_time from EBAY_TOP_BERLIN order by record_time desc limit 2\", sqlite3.connect(\"UsedObjects.db\"))"
   ]
  },
  {
   "cell_type": "code",
   "execution_count": 3,
   "id": "periodic-identification",
   "metadata": {
    "execution": {
     "iopub.execute_input": "2021-09-07T20:30:07.994834Z",
     "iopub.status.busy": "2021-09-07T20:30:07.992768Z",
     "iopub.status.idle": "2021-09-07T20:30:08.013066Z",
     "shell.execute_reply": "2021-09-07T20:30:08.014349Z"
    },
    "papermill": {
     "duration": 0.066242,
     "end_time": "2021-09-07T20:30:08.014764",
     "exception": false,
     "start_time": "2021-09-07T20:30:07.948522",
     "status": "completed"
    },
    "tags": []
   },
   "outputs": [
    {
     "data": {
      "text/html": [
       "<div>\n",
       "<style scoped>\n",
       "    .dataframe tbody tr th:only-of-type {\n",
       "        vertical-align: middle;\n",
       "    }\n",
       "\n",
       "    .dataframe tbody tr th {\n",
       "        vertical-align: top;\n",
       "    }\n",
       "\n",
       "    .dataframe thead th {\n",
       "        text-align: right;\n",
       "    }\n",
       "</style>\n",
       "<table border=\"1\" class=\"dataframe\">\n",
       "  <thead>\n",
       "    <tr style=\"text-align: right;\">\n",
       "      <th></th>\n",
       "      <th>RECORD_TIME</th>\n",
       "    </tr>\n",
       "  </thead>\n",
       "  <tbody>\n",
       "    <tr>\n",
       "      <th>0</th>\n",
       "      <td>2021-09-07 22:30</td>\n",
       "    </tr>\n",
       "    <tr>\n",
       "      <th>1</th>\n",
       "      <td>2021-09-07 22:00</td>\n",
       "    </tr>\n",
       "  </tbody>\n",
       "</table>\n",
       "</div>"
      ],
      "text/plain": [
       "        RECORD_TIME\n",
       "0  2021-09-07 22:30\n",
       "1  2021-09-07 22:00"
      ]
     },
     "execution_count": 3,
     "metadata": {},
     "output_type": "execute_result"
    }
   ],
   "source": [
    "timestamps"
   ]
  },
  {
   "cell_type": "code",
   "execution_count": 4,
   "id": "alternate-victory",
   "metadata": {
    "execution": {
     "iopub.execute_input": "2021-09-07T20:30:08.066005Z",
     "iopub.status.busy": "2021-09-07T20:30:08.064160Z",
     "iopub.status.idle": "2021-09-07T20:30:08.408215Z",
     "shell.execute_reply": "2021-09-07T20:30:08.409488Z"
    },
    "papermill": {
     "duration": 0.374061,
     "end_time": "2021-09-07T20:30:08.409887",
     "exception": false,
     "start_time": "2021-09-07T20:30:08.035826",
     "status": "completed"
    },
    "tags": []
   },
   "outputs": [],
   "source": [
    "df = pd.read_sql(\"select * from EBAY_TOP_BERLIN where record_time in (select distinct record_time from EBAY_TOP_BERLIN order by record_time desc limit 2)\", sqlite3.connect(\"UsedObjects.db\"))"
   ]
  },
  {
   "cell_type": "code",
   "execution_count": 5,
   "id": "popular-active",
   "metadata": {
    "execution": {
     "iopub.execute_input": "2021-09-07T20:30:08.499353Z",
     "iopub.status.busy": "2021-09-07T20:30:08.487991Z",
     "iopub.status.idle": "2021-09-07T20:30:08.514844Z",
     "shell.execute_reply": "2021-09-07T20:30:08.516153Z"
    },
    "papermill": {
     "duration": 0.074471,
     "end_time": "2021-09-07T20:30:08.516546",
     "exception": false,
     "start_time": "2021-09-07T20:30:08.442075",
     "status": "completed"
    },
    "tags": []
   },
   "outputs": [],
   "source": [
    "df_pivot = df.pivot_table(index=\"PRODUCT\", columns = \"RECORD_TIME\", values = \"LISTING_COUNT\")"
   ]
  },
  {
   "cell_type": "code",
   "execution_count": 6,
   "id": "union-huntington",
   "metadata": {
    "execution": {
     "iopub.execute_input": "2021-09-07T20:30:08.573851Z",
     "iopub.status.busy": "2021-09-07T20:30:08.571676Z",
     "iopub.status.idle": "2021-09-07T20:30:08.577270Z",
     "shell.execute_reply": "2021-09-07T20:30:08.578925Z"
    },
    "papermill": {
     "duration": 0.041484,
     "end_time": "2021-09-07T20:30:08.579396",
     "exception": false,
     "start_time": "2021-09-07T20:30:08.537912",
     "status": "completed"
    },
    "tags": []
   },
   "outputs": [],
   "source": [
    "df_pivot.columns = [\"stamp_1\", \"stamp_2\"]\n",
    "df_pivot_diff = df_pivot.diff(axis=1)"
   ]
  },
  {
   "cell_type": "code",
   "execution_count": 7,
   "id": "fifth-motion",
   "metadata": {
    "execution": {
     "iopub.execute_input": "2021-09-07T20:30:08.634220Z",
     "iopub.status.busy": "2021-09-07T20:30:08.631913Z",
     "iopub.status.idle": "2021-09-07T20:30:10.138131Z",
     "shell.execute_reply": "2021-09-07T20:30:10.139629Z"
    },
    "papermill": {
     "duration": 1.539698,
     "end_time": "2021-09-07T20:30:10.140080",
     "exception": false,
     "start_time": "2021-09-07T20:30:08.600382",
     "status": "completed"
    },
    "tags": []
   },
   "outputs": [
    {
     "data": {
      "text/plain": [
       "<AxesSubplot:ylabel='PRODUCT'>"
      ]
     },
     "execution_count": 7,
     "metadata": {},
     "output_type": "execute_result"
    },
    {
     "data": {
      "image/png": "[encoded data removed]",
      "text/plain": [
       "<Figure size 432x288 with 1 Axes>"
      ]
     },
     "metadata": {
      "needs_background": "light"
     },
     "output_type": "display_data"
    }
   ],
   "source": [
    "df_pivot_diff.sort_values(\"stamp_2\", ascending = False)[\"stamp_2\"].head(10).plot.barh()"
   ]
  },
  {
   "cell_type": "code",
   "execution_count": null,
   "id": "extra-executive",
   "metadata": {
    "papermill": {
     "duration": 0.02217,
     "end_time": "2021-09-07T20:30:10.186733",
     "exception": false,
     "start_time": "2021-09-07T20:30:10.164563",
     "status": "completed"
    },
    "tags": []
   },
   "outputs": [],
   "source": []
  }
 ],
 "metadata": {
  "kernelspec": {
   "display_name": "Python 3",
   "language": "python",
   "name": "python3"
  },
  "language_info": {
   "codemirror_mode": {
    "name": "ipython",
    "version": 3
   },
   "file_extension": ".py",
   "mimetype": "text/x-python",
   "name": "python",
   "nbconvert_exporter": "python",
   "pygments_lexer": "ipython3",
   "version": "3.9.5"
  },
  "papermill": {
   "default_parameters": {},
   "duration": 6.465101,
   "end_time": "2021-09-07T20:30:10.827746",
   "environment_variables": {},
   "exception": null,
   "input_path": "eBay_Overview.ipynb",
   "output_path": "eBay_Overview.ipynb",
   "parameters": {},
   "start_time": "2021-09-07T20:30:04.362645",
   "version": "2.3.3"
  }
 },
 "nbformat": 4,
 "nbformat_minor": 5
}