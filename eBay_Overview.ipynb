{
 "cells": [
  {
   "cell_type": "code",
   "execution_count": 1,
   "id": "reverse-picking",
   "metadata": {
    "execution": {
     "iopub.execute_input": "2021-11-28T15:00:07.489101Z",
     "iopub.status.busy": "2021-11-28T15:00:07.485471Z",
     "iopub.status.idle": "2021-11-28T15:00:08.443512Z",
     "shell.execute_reply": "2021-11-28T15:00:08.445169Z"
    },
    "papermill": {
     "duration": 1.006971,
     "end_time": "2021-11-28T15:00:08.445912",
     "exception": false,
     "start_time": "2021-11-28T15:00:07.438941",
     "status": "completed"
    },
    "tags": []
   },
   "outputs": [],
   "source": [
    "import pandas as pd\n",
    "import sqlite3"
   ]
  },
  {
   "cell_type": "code",
   "execution_count": 2,
   "id": "innovative-syndrome",
   "metadata": {
    "execution": {
     "iopub.execute_input": "2021-11-28T15:00:08.508352Z",
     "iopub.status.busy": "2021-11-28T15:00:08.506082Z",
     "iopub.status.idle": "2021-11-28T15:00:09.426964Z",
     "shell.execute_reply": "2021-11-28T15:00:09.428547Z"
    },
    "papermill": {
     "duration": 0.95594,
     "end_time": "2021-11-28T15:00:09.429146",
     "exception": false,
     "start_time": "2021-11-28T15:00:08.473206",
     "status": "completed"
    },
    "tags": []
   },
   "outputs": [],
   "source": [
    "timestamps = pd.read_sql(\"select distinct record_time from EBAY_TOP_BERLIN order by record_time desc limit 2\", sqlite3.connect(\"UsedObjects.db\"))"
   ]
  },
  {
   "cell_type": "code",
   "execution_count": 3,
   "id": "periodic-identification",
   "metadata": {
    "execution": {
     "iopub.execute_input": "2021-11-28T15:00:09.501781Z",
     "iopub.status.busy": "2021-11-28T15:00:09.499319Z",
     "iopub.status.idle": "2021-11-28T15:00:09.522073Z",
     "shell.execute_reply": "2021-11-28T15:00:09.523609Z"
    },
    "papermill": {
     "duration": 0.074472,
     "end_time": "2021-11-28T15:00:09.524088",
     "exception": false,
     "start_time": "2021-11-28T15:00:09.449616",
     "status": "completed"
    },
    "tags": []
   },
   "outputs": [
    {
     "data": {
      "text/html": [
       "<div>\n",
       "<style scoped>\n",
       "    .dataframe tbody tr th:only-of-type {\n",
       "        vertical-align: middle;\n",
       "    }\n",
       "\n",
       "    .dataframe tbody tr th {\n",
       "        vertical-align: top;\n",
       "    }\n",
       "\n",
       "    .dataframe thead th {\n",
       "        text-align: right;\n",
       "    }\n",
       "</style>\n",
       "<table border=\"1\" class=\"dataframe\">\n",
       "  <thead>\n",
       "    <tr style=\"text-align: right;\">\n",
       "      <th></th>\n",
       "      <th>RECORD_TIME</th>\n",
       "    </tr>\n",
       "  </thead>\n",
       "  <tbody>\n",
       "    <tr>\n",
       "      <th>0</th>\n",
       "      <td>2021-11-28 16:00</td>\n",
       "    </tr>\n",
       "    <tr>\n",
       "      <th>1</th>\n",
       "      <td>2021-11-28 15:30</td>\n",
       "    </tr>\n",
       "  </tbody>\n",
       "</table>\n",
       "</div>"
      ],
      "text/plain": [
       "        RECORD_TIME\n",
       "0  2021-11-28 16:00\n",
       "1  2021-11-28 15:30"
      ]
     },
     "execution_count": 3,
     "metadata": {},
     "output_type": "execute_result"
    }
   ],
   "source": [
    "timestamps"
   ]
  },
  {
   "cell_type": "code",
   "execution_count": 4,
   "id": "alternate-victory",
   "metadata": {
    "execution": {
     "iopub.execute_input": "2021-11-28T15:00:09.581664Z",
     "iopub.status.busy": "2021-11-28T15:00:09.578923Z",
     "iopub.status.idle": "2021-11-28T15:00:10.900732Z",
     "shell.execute_reply": "2021-11-28T15:00:10.902276Z"
    },
    "papermill": {
     "duration": 1.356551,
     "end_time": "2021-11-28T15:00:10.902758",
     "exception": false,
     "start_time": "2021-11-28T15:00:09.546207",
     "status": "completed"
    },
    "tags": []
   },
   "outputs": [],
   "source": [
    "df = pd.read_sql(\"select * from EBAY_TOP_BERLIN where record_time in (select distinct record_time from EBAY_TOP_BERLIN order by record_time desc limit 2)\", sqlite3.connect(\"UsedObjects.db\"))"
   ]
  },
  {
   "cell_type": "code",
   "execution_count": 5,
   "id": "popular-active",
   "metadata": {
    "execution": {
     "iopub.execute_input": "2021-11-28T15:00:10.979044Z",
     "iopub.status.busy": "2021-11-28T15:00:10.972195Z",
     "iopub.status.idle": "2021-11-28T15:00:10.998920Z",
     "shell.execute_reply": "2021-11-28T15:00:10.997435Z"
    },
    "papermill": {
     "duration": 0.074664,
     "end_time": "2021-11-28T15:00:10.999324",
     "exception": false,
     "start_time": "2021-11-28T15:00:10.924660",
     "status": "completed"
    },
    "tags": []
   },
   "outputs": [],
   "source": [
    "df_pivot = df.pivot_table(index=\"PRODUCT\", columns = \"RECORD_TIME\", values = \"LISTING_COUNT\")"
   ]
  },
  {
   "cell_type": "code",
   "execution_count": 6,
   "id": "union-huntington",
   "metadata": {
    "execution": {
     "iopub.execute_input": "2021-11-28T15:00:11.062091Z",
     "iopub.status.busy": "2021-11-28T15:00:11.059944Z",
     "iopub.status.idle": "2021-11-28T15:00:11.064983Z",
     "shell.execute_reply": "2021-11-28T15:00:11.066492Z"
    },
    "papermill": {
     "duration": 0.04706,
     "end_time": "2021-11-28T15:00:11.067004",
     "exception": false,
     "start_time": "2021-11-28T15:00:11.019944",
     "status": "completed"
    },
    "tags": []
   },
   "outputs": [],
   "source": [
    "df_pivot.columns = [\"stamp_1\", \"stamp_2\"]\n",
    "df_pivot_diff = df_pivot.diff(axis=1)"
   ]
  },
  {
   "cell_type": "code",
   "execution_count": 7,
   "id": "fifth-motion",
   "metadata": {
    "execution": {
     "iopub.execute_input": "2021-11-28T15:00:11.135844Z",
     "iopub.status.busy": "2021-11-28T15:00:11.123727Z",
     "iopub.status.idle": "2021-11-28T15:00:13.022702Z",
     "shell.execute_reply": "2021-11-28T15:00:13.024075Z"
    },
    "papermill": {
     "duration": 1.935925,
     "end_time": "2021-11-28T15:00:13.024552",
     "exception": false,
     "start_time": "2021-11-28T15:00:11.088627",
     "status": "completed"
    },
    "tags": []
   },
   "outputs": [
    {
     "data": {
      "text/plain": [
       "<AxesSubplot:ylabel='PRODUCT'>"
      ]
     },
     "execution_count": 7,
     "metadata": {},
     "output_type": "execute_result"
    },
    {
     "data": {
      "image/png": "[encoded data removed]",
      "text/plain": [
       "<Figure size 432x288 with 1 Axes>"
      ]
     },
     "metadata": {
      "needs_background": "light"
     },
     "output_type": "display_data"
    }
   ],
   "source": [
    "df_pivot_diff.sort_values(\"stamp_2\", ascending = False)[\"stamp_2\"].head(10).plot.barh()"
   ]
  },
  {
   "cell_type": "code",
   "execution_count": null,
   "id": "extra-executive",
   "metadata": {
    "papermill": {
     "duration": 0.02373,
     "end_time": "2021-11-28T15:00:13.072803",
     "exception": false,
     "start_time": "2021-11-28T15:00:13.049073",
     "status": "completed"
    },
    "tags": []
   },
   "outputs": [],
   "source": []
  }
 ],
 "metadata": {
  "kernelspec": {
   "display_name": "Python 3",
   "language": "python",
   "name": "python3"
  },
  "language_info": {
   "codemirror_mode": {
    "name": "ipython",
    "version": 3
   },
   "file_extension": ".py",
   "mimetype": "text/x-python",
   "name": "python",
   "nbconvert_exporter": "python",
   "pygments_lexer": "ipython3",
   "version": "3.9.5"
  },
  "papermill": {
   "default_parameters": {},
   "duration": 9.925479,
   "end_time": "2021-11-28T15:00:14.638257",
   "environment_variables": {},
   "exception": null,
   "input_path": "eBay_Overview.ipynb",
   "output_path": "eBay_Overview.ipynb",
   "parameters": {},
   "start_time": "2021-11-28T15:00:04.712778",
   "version": "2.3.3"
  }
 },
 "nbformat": 4,
 "nbformat_minor": 5
}