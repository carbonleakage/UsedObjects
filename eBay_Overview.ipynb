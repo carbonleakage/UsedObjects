{
 "cells": [
  {
   "cell_type": "code",
   "execution_count": 1,
   "id": "reverse-picking",
   "metadata": {
    "execution": {
     "iopub.execute_input": "2021-10-21T06:00:07.334569Z",
     "iopub.status.busy": "2021-10-21T06:00:07.332538Z",
     "iopub.status.idle": "2021-10-21T06:00:08.145915Z",
     "shell.execute_reply": "2021-10-21T06:00:08.144020Z"
    },
    "papermill": {
     "duration": 0.864333,
     "end_time": "2021-10-21T06:00:08.146362",
     "exception": false,
     "start_time": "2021-10-21T06:00:07.282029",
     "status": "completed"
    },
    "tags": []
   },
   "outputs": [],
   "source": [
    "import pandas as pd\n",
    "import sqlite3"
   ]
  },
  {
   "cell_type": "code",
   "execution_count": 2,
   "id": "innovative-syndrome",
   "metadata": {
    "execution": {
     "iopub.execute_input": "2021-10-21T06:00:08.197164Z",
     "iopub.status.busy": "2021-10-21T06:00:08.194783Z",
     "iopub.status.idle": "2021-10-21T06:00:08.778445Z",
     "shell.execute_reply": "2021-10-21T06:00:08.779652Z"
    },
    "papermill": {
     "duration": 0.613666,
     "end_time": "2021-10-21T06:00:08.780055",
     "exception": false,
     "start_time": "2021-10-21T06:00:08.166389",
     "status": "completed"
    },
    "tags": []
   },
   "outputs": [],
   "source": [
    "timestamps = pd.read_sql(\"select distinct record_time from EBAY_TOP_BERLIN order by record_time desc limit 2\", sqlite3.connect(\"UsedObjects.db\"))"
   ]
  },
  {
   "cell_type": "code",
   "execution_count": 3,
   "id": "periodic-identification",
   "metadata": {
    "execution": {
     "iopub.execute_input": "2021-10-21T06:00:08.856654Z",
     "iopub.status.busy": "2021-10-21T06:00:08.851510Z",
     "iopub.status.idle": "2021-10-21T06:00:08.873238Z",
     "shell.execute_reply": "2021-10-21T06:00:08.874814Z"
    },
    "papermill": {
     "duration": 0.069974,
     "end_time": "2021-10-21T06:00:08.875285",
     "exception": false,
     "start_time": "2021-10-21T06:00:08.805311",
     "status": "completed"
    },
    "tags": []
   },
   "outputs": [
    {
     "data": {
      "text/html": [
       "<div>\n",
       "<style scoped>\n",
       "    .dataframe tbody tr th:only-of-type {\n",
       "        vertical-align: middle;\n",
       "    }\n",
       "\n",
       "    .dataframe tbody tr th {\n",
       "        vertical-align: top;\n",
       "    }\n",
       "\n",
       "    .dataframe thead th {\n",
       "        text-align: right;\n",
       "    }\n",
       "</style>\n",
       "<table border=\"1\" class=\"dataframe\">\n",
       "  <thead>\n",
       "    <tr style=\"text-align: right;\">\n",
       "      <th></th>\n",
       "      <th>RECORD_TIME</th>\n",
       "    </tr>\n",
       "  </thead>\n",
       "  <tbody>\n",
       "    <tr>\n",
       "      <th>0</th>\n",
       "      <td>2021-10-21 08:00</td>\n",
       "    </tr>\n",
       "    <tr>\n",
       "      <th>1</th>\n",
       "      <td>2021-10-21 07:30</td>\n",
       "    </tr>\n",
       "  </tbody>\n",
       "</table>\n",
       "</div>"
      ],
      "text/plain": [
       "        RECORD_TIME\n",
       "0  2021-10-21 08:00\n",
       "1  2021-10-21 07:30"
      ]
     },
     "execution_count": 3,
     "metadata": {},
     "output_type": "execute_result"
    }
   ],
   "source": [
    "timestamps"
   ]
  },
  {
   "cell_type": "code",
   "execution_count": 4,
   "id": "alternate-victory",
   "metadata": {
    "execution": {
     "iopub.execute_input": "2021-10-21T06:00:08.927590Z",
     "iopub.status.busy": "2021-10-21T06:00:08.925656Z",
     "iopub.status.idle": "2021-10-21T06:00:09.790244Z",
     "shell.execute_reply": "2021-10-21T06:00:09.791376Z"
    },
    "papermill": {
     "duration": 0.894969,
     "end_time": "2021-10-21T06:00:09.791787",
     "exception": false,
     "start_time": "2021-10-21T06:00:08.896818",
     "status": "completed"
    },
    "tags": []
   },
   "outputs": [],
   "source": [
    "df = pd.read_sql(\"select * from EBAY_TOP_BERLIN where record_time in (select distinct record_time from EBAY_TOP_BERLIN order by record_time desc limit 2)\", sqlite3.connect(\"UsedObjects.db\"))"
   ]
  },
  {
   "cell_type": "code",
   "execution_count": 5,
   "id": "popular-active",
   "metadata": {
    "execution": {
     "iopub.execute_input": "2021-10-21T06:00:09.864118Z",
     "iopub.status.busy": "2021-10-21T06:00:09.851106Z",
     "iopub.status.idle": "2021-10-21T06:00:09.880418Z",
     "shell.execute_reply": "2021-10-21T06:00:09.881898Z"
    },
    "papermill": {
     "duration": 0.068331,
     "end_time": "2021-10-21T06:00:09.882347",
     "exception": false,
     "start_time": "2021-10-21T06:00:09.814016",
     "status": "completed"
    },
    "tags": []
   },
   "outputs": [],
   "source": [
    "df_pivot = df.pivot_table(index=\"PRODUCT\", columns = \"RECORD_TIME\", values = \"LISTING_COUNT\")"
   ]
  },
  {
   "cell_type": "code",
   "execution_count": 6,
   "id": "union-huntington",
   "metadata": {
    "execution": {
     "iopub.execute_input": "2021-10-21T06:00:09.940399Z",
     "iopub.status.busy": "2021-10-21T06:00:09.937820Z",
     "iopub.status.idle": "2021-10-21T06:00:09.943649Z",
     "shell.execute_reply": "2021-10-21T06:00:09.944902Z"
    },
    "papermill": {
     "duration": 0.042255,
     "end_time": "2021-10-21T06:00:09.945345",
     "exception": false,
     "start_time": "2021-10-21T06:00:09.903090",
     "status": "completed"
    },
    "tags": []
   },
   "outputs": [],
   "source": [
    "df_pivot.columns = [\"stamp_1\", \"stamp_2\"]\n",
    "df_pivot_diff = df_pivot.diff(axis=1)"
   ]
  },
  {
   "cell_type": "code",
   "execution_count": 7,
   "id": "fifth-motion",
   "metadata": {
    "execution": {
     "iopub.execute_input": "2021-10-21T06:00:09.999904Z",
     "iopub.status.busy": "2021-10-21T06:00:09.997618Z",
     "iopub.status.idle": "2021-10-21T06:00:11.462022Z",
     "shell.execute_reply": "2021-10-21T06:00:11.463308Z"
    },
    "papermill": {
     "duration": 1.497684,
     "end_time": "2021-10-21T06:00:11.463750",
     "exception": false,
     "start_time": "2021-10-21T06:00:09.966066",
     "status": "completed"
    },
    "tags": []
   },
   "outputs": [
    {
     "data": {
      "text/plain": [
       "<AxesSubplot:ylabel='PRODUCT'>"
      ]
     },
     "execution_count": 7,
     "metadata": {},
     "output_type": "execute_result"
    },
    {
     "data": {
      "image/png": "[encoded data removed]",
      "text/plain": [
       "<Figure size 432x288 with 1 Axes>"
      ]
     },
     "metadata": {
      "needs_background": "light"
     },
     "output_type": "display_data"
    }
   ],
   "source": [
    "df_pivot_diff.sort_values(\"stamp_2\", ascending = False)[\"stamp_2\"].head(10).plot.barh()"
   ]
  },
  {
   "cell_type": "code",
   "execution_count": null,
   "id": "extra-executive",
   "metadata": {
    "papermill": {
     "duration": 0.022206,
     "end_time": "2021-10-21T06:00:11.512422",
     "exception": false,
     "start_time": "2021-10-21T06:00:11.490216",
     "status": "completed"
    },
    "tags": []
   },
   "outputs": [],
   "source": []
  }
 ],
 "metadata": {
  "kernelspec": {
   "display_name": "Python 3",
   "language": "python",
   "name": "python3"
  },
  "language_info": {
   "codemirror_mode": {
    "name": "ipython",
    "version": 3
   },
   "file_extension": ".py",
   "mimetype": "text/x-python",
   "name": "python",
   "nbconvert_exporter": "python",
   "pygments_lexer": "ipython3",
   "version": "3.9.5"
  },
  "papermill": {
   "default_parameters": {},
   "duration": 7.82674,
   "end_time": "2021-10-21T06:00:12.690280",
   "environment_variables": {},
   "exception": null,
   "input_path": "eBay_Overview.ipynb",
   "output_path": "eBay_Overview.ipynb",
   "parameters": {},
   "start_time": "2021-10-21T06:00:04.863540",
   "version": "2.3.3"
  }
 },
 "nbformat": 4,
 "nbformat_minor": 5
}