{
 "cells": [
  {
   "cell_type": "code",
   "execution_count": 1,
   "id": "reverse-picking",
   "metadata": {
    "execution": {
     "iopub.execute_input": "2021-10-13T21:00:06.870315Z",
     "iopub.status.busy": "2021-10-13T21:00:06.868339Z",
     "iopub.status.idle": "2021-10-13T21:00:07.669998Z",
     "shell.execute_reply": "2021-10-13T21:00:07.671401Z"
    },
    "papermill": {
     "duration": 0.854851,
     "end_time": "2021-10-13T21:00:07.672074",
     "exception": false,
     "start_time": "2021-10-13T21:00:06.817223",
     "status": "completed"
    },
    "tags": []
   },
   "outputs": [],
   "source": [
    "import pandas as pd\n",
    "import sqlite3"
   ]
  },
  {
   "cell_type": "code",
   "execution_count": 2,
   "id": "innovative-syndrome",
   "metadata": {
    "execution": {
     "iopub.execute_input": "2021-10-13T21:00:07.724143Z",
     "iopub.status.busy": "2021-10-13T21:00:07.722108Z",
     "iopub.status.idle": "2021-10-13T21:00:08.249616Z",
     "shell.execute_reply": "2021-10-13T21:00:08.250827Z"
    },
    "papermill": {
     "duration": 0.557879,
     "end_time": "2021-10-13T21:00:08.251223",
     "exception": false,
     "start_time": "2021-10-13T21:00:07.693344",
     "status": "completed"
    },
    "tags": []
   },
   "outputs": [],
   "source": [
    "timestamps = pd.read_sql(\"select distinct record_time from EBAY_TOP_BERLIN order by record_time desc limit 2\", sqlite3.connect(\"UsedObjects.db\"))"
   ]
  },
  {
   "cell_type": "code",
   "execution_count": 3,
   "id": "periodic-identification",
   "metadata": {
    "execution": {
     "iopub.execute_input": "2021-10-13T21:00:08.315863Z",
     "iopub.status.busy": "2021-10-13T21:00:08.313842Z",
     "iopub.status.idle": "2021-10-13T21:00:08.333917Z",
     "shell.execute_reply": "2021-10-13T21:00:08.335241Z"
    },
    "papermill": {
     "duration": 0.063475,
     "end_time": "2021-10-13T21:00:08.335656",
     "exception": false,
     "start_time": "2021-10-13T21:00:08.272181",
     "status": "completed"
    },
    "tags": []
   },
   "outputs": [
    {
     "data": {
      "text/html": [
       "<div>\n",
       "<style scoped>\n",
       "    .dataframe tbody tr th:only-of-type {\n",
       "        vertical-align: middle;\n",
       "    }\n",
       "\n",
       "    .dataframe tbody tr th {\n",
       "        vertical-align: top;\n",
       "    }\n",
       "\n",
       "    .dataframe thead th {\n",
       "        text-align: right;\n",
       "    }\n",
       "</style>\n",
       "<table border=\"1\" class=\"dataframe\">\n",
       "  <thead>\n",
       "    <tr style=\"text-align: right;\">\n",
       "      <th></th>\n",
       "      <th>RECORD_TIME</th>\n",
       "    </tr>\n",
       "  </thead>\n",
       "  <tbody>\n",
       "    <tr>\n",
       "      <th>0</th>\n",
       "      <td>2021-10-13 23:00</td>\n",
       "    </tr>\n",
       "    <tr>\n",
       "      <th>1</th>\n",
       "      <td>2021-10-13 22:30</td>\n",
       "    </tr>\n",
       "  </tbody>\n",
       "</table>\n",
       "</div>"
      ],
      "text/plain": [
       "        RECORD_TIME\n",
       "0  2021-10-13 23:00\n",
       "1  2021-10-13 22:30"
      ]
     },
     "execution_count": 3,
     "metadata": {},
     "output_type": "execute_result"
    }
   ],
   "source": [
    "timestamps"
   ]
  },
  {
   "cell_type": "code",
   "execution_count": 4,
   "id": "alternate-victory",
   "metadata": {
    "execution": {
     "iopub.execute_input": "2021-10-13T21:00:08.401399Z",
     "iopub.status.busy": "2021-10-13T21:00:08.399062Z",
     "iopub.status.idle": "2021-10-13T21:00:09.170837Z",
     "shell.execute_reply": "2021-10-13T21:00:09.172052Z"
    },
    "papermill": {
     "duration": 0.806932,
     "end_time": "2021-10-13T21:00:09.172444",
     "exception": false,
     "start_time": "2021-10-13T21:00:08.365512",
     "status": "completed"
    },
    "tags": []
   },
   "outputs": [],
   "source": [
    "df = pd.read_sql(\"select * from EBAY_TOP_BERLIN where record_time in (select distinct record_time from EBAY_TOP_BERLIN order by record_time desc limit 2)\", sqlite3.connect(\"UsedObjects.db\"))"
   ]
  },
  {
   "cell_type": "code",
   "execution_count": 5,
   "id": "popular-active",
   "metadata": {
    "execution": {
     "iopub.execute_input": "2021-10-13T21:00:09.243087Z",
     "iopub.status.busy": "2021-10-13T21:00:09.236606Z",
     "iopub.status.idle": "2021-10-13T21:00:09.260479Z",
     "shell.execute_reply": "2021-10-13T21:00:09.261839Z"
    },
    "papermill": {
     "duration": 0.069273,
     "end_time": "2021-10-13T21:00:09.262254",
     "exception": false,
     "start_time": "2021-10-13T21:00:09.192981",
     "status": "completed"
    },
    "tags": []
   },
   "outputs": [],
   "source": [
    "df_pivot = df.pivot_table(index=\"PRODUCT\", columns = \"RECORD_TIME\", values = \"LISTING_COUNT\")"
   ]
  },
  {
   "cell_type": "code",
   "execution_count": 6,
   "id": "union-huntington",
   "metadata": {
    "execution": {
     "iopub.execute_input": "2021-10-13T21:00:09.317547Z",
     "iopub.status.busy": "2021-10-13T21:00:09.315562Z",
     "iopub.status.idle": "2021-10-13T21:00:09.320618Z",
     "shell.execute_reply": "2021-10-13T21:00:09.321821Z"
    },
    "papermill": {
     "duration": 0.039732,
     "end_time": "2021-10-13T21:00:09.322233",
     "exception": false,
     "start_time": "2021-10-13T21:00:09.282501",
     "status": "completed"
    },
    "tags": []
   },
   "outputs": [],
   "source": [
    "df_pivot.columns = [\"stamp_1\", \"stamp_2\"]\n",
    "df_pivot_diff = df_pivot.diff(axis=1)"
   ]
  },
  {
   "cell_type": "code",
   "execution_count": 7,
   "id": "fifth-motion",
   "metadata": {
    "execution": {
     "iopub.execute_input": "2021-10-13T21:00:09.376096Z",
     "iopub.status.busy": "2021-10-13T21:00:09.373712Z",
     "iopub.status.idle": "2021-10-13T21:00:10.855762Z",
     "shell.execute_reply": "2021-10-13T21:00:10.857340Z"
    },
    "papermill": {
     "duration": 1.515175,
     "end_time": "2021-10-13T21:00:10.857802",
     "exception": false,
     "start_time": "2021-10-13T21:00:09.342627",
     "status": "completed"
    },
    "tags": []
   },
   "outputs": [
    {
     "data": {
      "text/plain": [
       "<AxesSubplot:ylabel='PRODUCT'>"
      ]
     },
     "execution_count": 7,
     "metadata": {},
     "output_type": "execute_result"
    },
    {
     "data": {
      "image/png": "[encoded data removed]",
      "text/plain": [
       "<Figure size 432x288 with 1 Axes>"
      ]
     },
     "metadata": {
      "needs_background": "light"
     },
     "output_type": "display_data"
    }
   ],
   "source": [
    "df_pivot_diff.sort_values(\"stamp_2\", ascending = False)[\"stamp_2\"].head(10).plot.barh()"
   ]
  },
  {
   "cell_type": "code",
   "execution_count": null,
   "id": "extra-executive",
   "metadata": {
    "papermill": {
     "duration": 0.02208,
     "end_time": "2021-10-13T21:00:10.904192",
     "exception": false,
     "start_time": "2021-10-13T21:00:10.882112",
     "status": "completed"
    },
    "tags": []
   },
   "outputs": [],
   "source": []
  }
 ],
 "metadata": {
  "kernelspec": {
   "display_name": "Python 3",
   "language": "python",
   "name": "python3"
  },
  "language_info": {
   "codemirror_mode": {
    "name": "ipython",
    "version": 3
   },
   "file_extension": ".py",
   "mimetype": "text/x-python",
   "name": "python",
   "nbconvert_exporter": "python",
   "pygments_lexer": "ipython3",
   "version": "3.9.5"
  },
  "papermill": {
   "default_parameters": {},
   "duration": 7.815963,
   "end_time": "2021-10-13T21:00:12.241553",
   "environment_variables": {},
   "exception": null,
   "input_path": "eBay_Overview.ipynb",
   "output_path": "eBay_Overview.ipynb",
   "parameters": {},
   "start_time": "2021-10-13T21:00:04.425590",
   "version": "2.3.3"
  }
 },
 "nbformat": 4,
 "nbformat_minor": 5
}