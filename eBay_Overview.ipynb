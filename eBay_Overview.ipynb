{
 "cells": [
  {
   "cell_type": "code",
   "execution_count": 1,
   "id": "reverse-picking",
   "metadata": {
    "execution": {
     "iopub.execute_input": "2021-12-22T15:00:07.923484Z",
     "iopub.status.busy": "2021-12-22T15:00:07.921099Z",
     "iopub.status.idle": "2021-12-22T15:00:08.882574Z",
     "shell.execute_reply": "2021-12-22T15:00:08.884166Z"
    },
    "papermill": {
     "duration": 1.012425,
     "end_time": "2021-12-22T15:00:08.885299",
     "exception": false,
     "start_time": "2021-12-22T15:00:07.872874",
     "status": "completed"
    },
    "tags": []
   },
   "outputs": [],
   "source": [
    "import pandas as pd\n",
    "import sqlite3"
   ]
  },
  {
   "cell_type": "code",
   "execution_count": 2,
   "id": "innovative-syndrome",
   "metadata": {
    "execution": {
     "iopub.execute_input": "2021-12-22T15:00:08.965614Z",
     "iopub.status.busy": "2021-12-22T15:00:08.961924Z",
     "iopub.status.idle": "2021-12-22T15:00:10.121755Z",
     "shell.execute_reply": "2021-12-22T15:00:10.123129Z"
    },
    "papermill": {
     "duration": 1.206002,
     "end_time": "2021-12-22T15:00:10.123647",
     "exception": false,
     "start_time": "2021-12-22T15:00:08.917645",
     "status": "completed"
    },
    "tags": []
   },
   "outputs": [],
   "source": [
    "timestamps = pd.read_sql(\"select distinct record_time from EBAY_TOP_BERLIN order by record_time desc limit 2\", sqlite3.connect(\"UsedObjects.db\"))"
   ]
  },
  {
   "cell_type": "code",
   "execution_count": 3,
   "id": "periodic-identification",
   "metadata": {
    "execution": {
     "iopub.execute_input": "2021-12-22T15:00:10.185136Z",
     "iopub.status.busy": "2021-12-22T15:00:10.178787Z",
     "iopub.status.idle": "2021-12-22T15:00:10.219176Z",
     "shell.execute_reply": "2021-12-22T15:00:10.222044Z"
    },
    "papermill": {
     "duration": 0.078349,
     "end_time": "2021-12-22T15:00:10.222532",
     "exception": false,
     "start_time": "2021-12-22T15:00:10.144183",
     "status": "completed"
    },
    "tags": []
   },
   "outputs": [
    {
     "data": {
      "text/html": [
       "<div>\n",
       "<style scoped>\n",
       "    .dataframe tbody tr th:only-of-type {\n",
       "        vertical-align: middle;\n",
       "    }\n",
       "\n",
       "    .dataframe tbody tr th {\n",
       "        vertical-align: top;\n",
       "    }\n",
       "\n",
       "    .dataframe thead th {\n",
       "        text-align: right;\n",
       "    }\n",
       "</style>\n",
       "<table border=\"1\" class=\"dataframe\">\n",
       "  <thead>\n",
       "    <tr style=\"text-align: right;\">\n",
       "      <th></th>\n",
       "      <th>RECORD_TIME</th>\n",
       "    </tr>\n",
       "  </thead>\n",
       "  <tbody>\n",
       "    <tr>\n",
       "      <th>0</th>\n",
       "      <td>2021-12-22 16:00</td>\n",
       "    </tr>\n",
       "    <tr>\n",
       "      <th>1</th>\n",
       "      <td>2021-12-22 15:30</td>\n",
       "    </tr>\n",
       "  </tbody>\n",
       "</table>\n",
       "</div>"
      ],
      "text/plain": [
       "        RECORD_TIME\n",
       "0  2021-12-22 16:00\n",
       "1  2021-12-22 15:30"
      ]
     },
     "execution_count": 3,
     "metadata": {},
     "output_type": "execute_result"
    }
   ],
   "source": [
    "timestamps"
   ]
  },
  {
   "cell_type": "code",
   "execution_count": 4,
   "id": "alternate-victory",
   "metadata": {
    "execution": {
     "iopub.execute_input": "2021-12-22T15:00:10.280337Z",
     "iopub.status.busy": "2021-12-22T15:00:10.278109Z",
     "iopub.status.idle": "2021-12-22T15:00:11.960888Z",
     "shell.execute_reply": "2021-12-22T15:00:11.963054Z"
    },
    "papermill": {
     "duration": 1.719204,
     "end_time": "2021-12-22T15:00:11.963543",
     "exception": false,
     "start_time": "2021-12-22T15:00:10.244339",
     "status": "completed"
    },
    "tags": []
   },
   "outputs": [],
   "source": [
    "df = pd.read_sql(\"select * from EBAY_TOP_BERLIN where record_time in (select distinct record_time from EBAY_TOP_BERLIN order by record_time desc limit 2)\", sqlite3.connect(\"UsedObjects.db\"))"
   ]
  },
  {
   "cell_type": "code",
   "execution_count": 5,
   "id": "popular-active",
   "metadata": {
    "execution": {
     "iopub.execute_input": "2021-12-22T15:00:12.040538Z",
     "iopub.status.busy": "2021-12-22T15:00:12.028160Z",
     "iopub.status.idle": "2021-12-22T15:00:12.059604Z",
     "shell.execute_reply": "2021-12-22T15:00:12.061281Z"
    },
    "papermill": {
     "duration": 0.075507,
     "end_time": "2021-12-22T15:00:12.061775",
     "exception": false,
     "start_time": "2021-12-22T15:00:11.986268",
     "status": "completed"
    },
    "tags": []
   },
   "outputs": [],
   "source": [
    "df_pivot = df.pivot_table(index=\"PRODUCT\", columns = \"RECORD_TIME\", values = \"LISTING_COUNT\")"
   ]
  },
  {
   "cell_type": "code",
   "execution_count": 6,
   "id": "union-huntington",
   "metadata": {
    "execution": {
     "iopub.execute_input": "2021-12-22T15:00:12.120602Z",
     "iopub.status.busy": "2021-12-22T15:00:12.118584Z",
     "iopub.status.idle": "2021-12-22T15:00:12.129196Z",
     "shell.execute_reply": "2021-12-22T15:00:12.130790Z"
    },
    "papermill": {
     "duration": 0.048475,
     "end_time": "2021-12-22T15:00:12.131285",
     "exception": false,
     "start_time": "2021-12-22T15:00:12.082810",
     "status": "completed"
    },
    "tags": []
   },
   "outputs": [],
   "source": [
    "df_pivot.columns = [\"stamp_1\", \"stamp_2\"]\n",
    "df_pivot_diff = df_pivot.diff(axis=1)"
   ]
  },
  {
   "cell_type": "code",
   "execution_count": 7,
   "id": "fifth-motion",
   "metadata": {
    "execution": {
     "iopub.execute_input": "2021-12-22T15:00:12.191709Z",
     "iopub.status.busy": "2021-12-22T15:00:12.189156Z",
     "iopub.status.idle": "2021-12-22T15:00:14.185099Z",
     "shell.execute_reply": "2021-12-22T15:00:14.186493Z"
    },
    "papermill": {
     "duration": 2.033995,
     "end_time": "2021-12-22T15:00:14.186980",
     "exception": false,
     "start_time": "2021-12-22T15:00:12.152985",
     "status": "completed"
    },
    "tags": []
   },
   "outputs": [
    {
     "data": {
      "text/plain": [
       "<AxesSubplot:ylabel='PRODUCT'>"
      ]
     },
     "execution_count": 7,
     "metadata": {},
     "output_type": "execute_result"
    },
    {
     "data": {
      "image/png": "[encoded data removed]",
      "text/plain": [
       "<Figure size 432x288 with 1 Axes>"
      ]
     },
     "metadata": {
      "needs_background": "light"
     },
     "output_type": "display_data"
    }
   ],
   "source": [
    "df_pivot_diff.sort_values(\"stamp_2\", ascending = False)[\"stamp_2\"].head(10).plot.barh()"
   ]
  },
  {
   "cell_type": "code",
   "execution_count": null,
   "id": "extra-executive",
   "metadata": {
    "papermill": {
     "duration": 0.025112,
     "end_time": "2021-12-22T15:00:14.242167",
     "exception": false,
     "start_time": "2021-12-22T15:00:14.217055",
     "status": "completed"
    },
    "tags": []
   },
   "outputs": [],
   "source": []
  }
 ],
 "metadata": {
  "kernelspec": {
   "display_name": "Python 3",
   "language": "python",
   "name": "python3"
  },
  "language_info": {
   "codemirror_mode": {
    "name": "ipython",
    "version": 3
   },
   "file_extension": ".py",
   "mimetype": "text/x-python",
   "name": "python",
   "nbconvert_exporter": "python",
   "pygments_lexer": "ipython3",
   "version": "3.9.5"
  },
  "papermill": {
   "default_parameters": {},
   "duration": 9.776179,
   "end_time": "2021-12-22T15:00:14.903802",
   "environment_variables": {},
   "exception": null,
   "input_path": "eBay_Overview.ipynb",
   "output_path": "eBay_Overview.ipynb",
   "parameters": {},
   "start_time": "2021-12-22T15:00:05.127623",
   "version": "2.3.3"
  }
 },
 "nbformat": 4,
 "nbformat_minor": 5
}