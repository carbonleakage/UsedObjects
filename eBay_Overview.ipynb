{
 "cells": [
  {
   "cell_type": "code",
   "execution_count": 1,
   "id": "reverse-picking",
   "metadata": {
    "execution": {
     "iopub.execute_input": "2021-12-07T18:30:07.980784Z",
     "iopub.status.busy": "2021-12-07T18:30:07.966841Z",
     "iopub.status.idle": "2021-12-07T18:30:08.892924Z",
     "shell.execute_reply": "2021-12-07T18:30:08.894403Z"
    },
    "papermill": {
     "duration": 0.974663,
     "end_time": "2021-12-07T18:30:08.895124",
     "exception": false,
     "start_time": "2021-12-07T18:30:07.920461",
     "status": "completed"
    },
    "tags": []
   },
   "outputs": [],
   "source": [
    "import pandas as pd\n",
    "import sqlite3"
   ]
  },
  {
   "cell_type": "code",
   "execution_count": 2,
   "id": "innovative-syndrome",
   "metadata": {
    "execution": {
     "iopub.execute_input": "2021-12-07T18:30:08.948814Z",
     "iopub.status.busy": "2021-12-07T18:30:08.946916Z",
     "iopub.status.idle": "2021-12-07T18:30:09.977526Z",
     "shell.execute_reply": "2021-12-07T18:30:09.978994Z"
    },
    "papermill": {
     "duration": 1.064083,
     "end_time": "2021-12-07T18:30:09.979492",
     "exception": false,
     "start_time": "2021-12-07T18:30:08.915409",
     "status": "completed"
    },
    "tags": []
   },
   "outputs": [],
   "source": [
    "timestamps = pd.read_sql(\"select distinct record_time from EBAY_TOP_BERLIN order by record_time desc limit 2\", sqlite3.connect(\"UsedObjects.db\"))"
   ]
  },
  {
   "cell_type": "code",
   "execution_count": 3,
   "id": "periodic-identification",
   "metadata": {
    "execution": {
     "iopub.execute_input": "2021-12-07T18:30:10.054780Z",
     "iopub.status.busy": "2021-12-07T18:30:10.049210Z",
     "iopub.status.idle": "2021-12-07T18:30:10.077615Z",
     "shell.execute_reply": "2021-12-07T18:30:10.079059Z"
    },
    "papermill": {
     "duration": 0.079817,
     "end_time": "2021-12-07T18:30:10.079555",
     "exception": false,
     "start_time": "2021-12-07T18:30:09.999738",
     "status": "completed"
    },
    "tags": []
   },
   "outputs": [
    {
     "data": {
      "text/html": [
       "<div>\n",
       "<style scoped>\n",
       "    .dataframe tbody tr th:only-of-type {\n",
       "        vertical-align: middle;\n",
       "    }\n",
       "\n",
       "    .dataframe tbody tr th {\n",
       "        vertical-align: top;\n",
       "    }\n",
       "\n",
       "    .dataframe thead th {\n",
       "        text-align: right;\n",
       "    }\n",
       "</style>\n",
       "<table border=\"1\" class=\"dataframe\">\n",
       "  <thead>\n",
       "    <tr style=\"text-align: right;\">\n",
       "      <th></th>\n",
       "      <th>RECORD_TIME</th>\n",
       "    </tr>\n",
       "  </thead>\n",
       "  <tbody>\n",
       "    <tr>\n",
       "      <th>0</th>\n",
       "      <td>2021-12-07 19:30</td>\n",
       "    </tr>\n",
       "    <tr>\n",
       "      <th>1</th>\n",
       "      <td>2021-12-07 19:00</td>\n",
       "    </tr>\n",
       "  </tbody>\n",
       "</table>\n",
       "</div>"
      ],
      "text/plain": [
       "        RECORD_TIME\n",
       "0  2021-12-07 19:30\n",
       "1  2021-12-07 19:00"
      ]
     },
     "execution_count": 3,
     "metadata": {},
     "output_type": "execute_result"
    }
   ],
   "source": [
    "timestamps"
   ]
  },
  {
   "cell_type": "code",
   "execution_count": 4,
   "id": "alternate-victory",
   "metadata": {
    "execution": {
     "iopub.execute_input": "2021-12-07T18:30:10.134412Z",
     "iopub.status.busy": "2021-12-07T18:30:10.132260Z",
     "iopub.status.idle": "2021-12-07T18:30:11.640945Z",
     "shell.execute_reply": "2021-12-07T18:30:11.643053Z"
    },
    "papermill": {
     "duration": 1.542387,
     "end_time": "2021-12-07T18:30:11.643661",
     "exception": false,
     "start_time": "2021-12-07T18:30:10.101274",
     "status": "completed"
    },
    "tags": []
   },
   "outputs": [],
   "source": [
    "df = pd.read_sql(\"select * from EBAY_TOP_BERLIN where record_time in (select distinct record_time from EBAY_TOP_BERLIN order by record_time desc limit 2)\", sqlite3.connect(\"UsedObjects.db\"))"
   ]
  },
  {
   "cell_type": "code",
   "execution_count": 5,
   "id": "popular-active",
   "metadata": {
    "execution": {
     "iopub.execute_input": "2021-12-07T18:30:11.730144Z",
     "iopub.status.busy": "2021-12-07T18:30:11.719324Z",
     "iopub.status.idle": "2021-12-07T18:30:11.746998Z",
     "shell.execute_reply": "2021-12-07T18:30:11.748224Z"
    },
    "papermill": {
     "duration": 0.07907,
     "end_time": "2021-12-07T18:30:11.748629",
     "exception": false,
     "start_time": "2021-12-07T18:30:11.669559",
     "status": "completed"
    },
    "tags": []
   },
   "outputs": [],
   "source": [
    "df_pivot = df.pivot_table(index=\"PRODUCT\", columns = \"RECORD_TIME\", values = \"LISTING_COUNT\")"
   ]
  },
  {
   "cell_type": "code",
   "execution_count": 6,
   "id": "union-huntington",
   "metadata": {
    "execution": {
     "iopub.execute_input": "2021-12-07T18:30:11.810177Z",
     "iopub.status.busy": "2021-12-07T18:30:11.807935Z",
     "iopub.status.idle": "2021-12-07T18:30:11.815276Z",
     "shell.execute_reply": "2021-12-07T18:30:11.813718Z"
    },
    "papermill": {
     "duration": 0.044119,
     "end_time": "2021-12-07T18:30:11.815686",
     "exception": false,
     "start_time": "2021-12-07T18:30:11.771567",
     "status": "completed"
    },
    "tags": []
   },
   "outputs": [],
   "source": [
    "df_pivot.columns = [\"stamp_1\", \"stamp_2\"]\n",
    "df_pivot_diff = df_pivot.diff(axis=1)"
   ]
  },
  {
   "cell_type": "code",
   "execution_count": 7,
   "id": "fifth-motion",
   "metadata": {
    "execution": {
     "iopub.execute_input": "2021-12-07T18:30:11.871824Z",
     "iopub.status.busy": "2021-12-07T18:30:11.869372Z",
     "iopub.status.idle": "2021-12-07T18:30:13.527240Z",
     "shell.execute_reply": "2021-12-07T18:30:13.528533Z"
    },
    "papermill": {
     "duration": 1.693513,
     "end_time": "2021-12-07T18:30:13.529177",
     "exception": false,
     "start_time": "2021-12-07T18:30:11.835664",
     "status": "completed"
    },
    "tags": []
   },
   "outputs": [
    {
     "data": {
      "text/plain": [
       "<AxesSubplot:ylabel='PRODUCT'>"
      ]
     },
     "execution_count": 7,
     "metadata": {},
     "output_type": "execute_result"
    },
    {
     "data": {
      "image/png": "[encoded data removed]",
      "text/plain": [
       "<Figure size 432x288 with 1 Axes>"
      ]
     },
     "metadata": {
      "needs_background": "light"
     },
     "output_type": "display_data"
    }
   ],
   "source": [
    "df_pivot_diff.sort_values(\"stamp_2\", ascending = False)[\"stamp_2\"].head(10).plot.barh()"
   ]
  },
  {
   "cell_type": "code",
   "execution_count": null,
   "id": "extra-executive",
   "metadata": {
    "papermill": {
     "duration": 0.022398,
     "end_time": "2021-12-07T18:30:13.577194",
     "exception": false,
     "start_time": "2021-12-07T18:30:13.554796",
     "status": "completed"
    },
    "tags": []
   },
   "outputs": [],
   "source": []
  }
 ],
 "metadata": {
  "kernelspec": {
   "display_name": "Python 3",
   "language": "python",
   "name": "python3"
  },
  "language_info": {
   "codemirror_mode": {
    "name": "ipython",
    "version": 3
   },
   "file_extension": ".py",
   "mimetype": "text/x-python",
   "name": "python",
   "nbconvert_exporter": "python",
   "pygments_lexer": "ipython3",
   "version": "3.9.5"
  },
  "papermill": {
   "default_parameters": {},
   "duration": 9.942964,
   "end_time": "2021-12-07T18:30:15.125572",
   "environment_variables": {},
   "exception": null,
   "input_path": "eBay_Overview.ipynb",
   "output_path": "eBay_Overview.ipynb",
   "parameters": {},
   "start_time": "2021-12-07T18:30:05.182608",
   "version": "2.3.3"
  }
 },
 "nbformat": 4,
 "nbformat_minor": 5
}