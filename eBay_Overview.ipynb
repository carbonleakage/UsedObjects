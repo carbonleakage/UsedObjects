{
 "cells": [
  {
   "cell_type": "code",
   "execution_count": 1,
   "id": "reverse-picking",
   "metadata": {
    "execution": {
     "iopub.execute_input": "2021-09-18T21:00:07.193843Z",
     "iopub.status.busy": "2021-09-18T21:00:07.191907Z",
     "iopub.status.idle": "2021-09-18T21:00:07.993018Z",
     "shell.execute_reply": "2021-09-18T21:00:07.994343Z"
    },
    "papermill": {
     "duration": 0.851278,
     "end_time": "2021-09-18T21:00:07.995037",
     "exception": false,
     "start_time": "2021-09-18T21:00:07.143759",
     "status": "completed"
    },
    "tags": []
   },
   "outputs": [],
   "source": [
    "import pandas as pd\n",
    "import sqlite3"
   ]
  },
  {
   "cell_type": "code",
   "execution_count": 2,
   "id": "innovative-syndrome",
   "metadata": {
    "execution": {
     "iopub.execute_input": "2021-09-18T21:00:08.045836Z",
     "iopub.status.busy": "2021-09-18T21:00:08.043802Z",
     "iopub.status.idle": "2021-09-18T21:00:08.376691Z",
     "shell.execute_reply": "2021-09-18T21:00:08.378048Z"
    },
    "papermill": {
     "duration": 0.363252,
     "end_time": "2021-09-18T21:00:08.378485",
     "exception": false,
     "start_time": "2021-09-18T21:00:08.015233",
     "status": "completed"
    },
    "tags": []
   },
   "outputs": [],
   "source": [
    "timestamps = pd.read_sql(\"select distinct record_time from EBAY_TOP_BERLIN order by record_time desc limit 2\", sqlite3.connect(\"UsedObjects.db\"))"
   ]
  },
  {
   "cell_type": "code",
   "execution_count": 3,
   "id": "periodic-identification",
   "metadata": {
    "execution": {
     "iopub.execute_input": "2021-09-18T21:00:08.445292Z",
     "iopub.status.busy": "2021-09-18T21:00:08.443295Z",
     "iopub.status.idle": "2021-09-18T21:00:08.463215Z",
     "shell.execute_reply": "2021-09-18T21:00:08.464426Z"
    },
    "papermill": {
     "duration": 0.065924,
     "end_time": "2021-09-18T21:00:08.464859",
     "exception": false,
     "start_time": "2021-09-18T21:00:08.398935",
     "status": "completed"
    },
    "tags": []
   },
   "outputs": [
    {
     "data": {
      "text/html": [
       "<div>\n",
       "<style scoped>\n",
       "    .dataframe tbody tr th:only-of-type {\n",
       "        vertical-align: middle;\n",
       "    }\n",
       "\n",
       "    .dataframe tbody tr th {\n",
       "        vertical-align: top;\n",
       "    }\n",
       "\n",
       "    .dataframe thead th {\n",
       "        text-align: right;\n",
       "    }\n",
       "</style>\n",
       "<table border=\"1\" class=\"dataframe\">\n",
       "  <thead>\n",
       "    <tr style=\"text-align: right;\">\n",
       "      <th></th>\n",
       "      <th>RECORD_TIME</th>\n",
       "    </tr>\n",
       "  </thead>\n",
       "  <tbody>\n",
       "    <tr>\n",
       "      <th>0</th>\n",
       "      <td>2021-09-18 23:00</td>\n",
       "    </tr>\n",
       "    <tr>\n",
       "      <th>1</th>\n",
       "      <td>2021-09-18 22:30</td>\n",
       "    </tr>\n",
       "  </tbody>\n",
       "</table>\n",
       "</div>"
      ],
      "text/plain": [
       "        RECORD_TIME\n",
       "0  2021-09-18 23:00\n",
       "1  2021-09-18 22:30"
      ]
     },
     "execution_count": 3,
     "metadata": {},
     "output_type": "execute_result"
    }
   ],
   "source": [
    "timestamps"
   ]
  },
  {
   "cell_type": "code",
   "execution_count": 4,
   "id": "alternate-victory",
   "metadata": {
    "execution": {
     "iopub.execute_input": "2021-09-18T21:00:08.518522Z",
     "iopub.status.busy": "2021-09-18T21:00:08.516267Z",
     "iopub.status.idle": "2021-09-18T21:00:08.991212Z",
     "shell.execute_reply": "2021-09-18T21:00:08.992444Z"
    },
    "papermill": {
     "duration": 0.505266,
     "end_time": "2021-09-18T21:00:08.992836",
     "exception": false,
     "start_time": "2021-09-18T21:00:08.487570",
     "status": "completed"
    },
    "tags": []
   },
   "outputs": [],
   "source": [
    "df = pd.read_sql(\"select * from EBAY_TOP_BERLIN where record_time in (select distinct record_time from EBAY_TOP_BERLIN order by record_time desc limit 2)\", sqlite3.connect(\"UsedObjects.db\"))"
   ]
  },
  {
   "cell_type": "code",
   "execution_count": 5,
   "id": "popular-active",
   "metadata": {
    "execution": {
     "iopub.execute_input": "2021-09-18T21:00:09.075708Z",
     "iopub.status.busy": "2021-09-18T21:00:09.068284Z",
     "iopub.status.idle": "2021-09-18T21:00:09.095758Z",
     "shell.execute_reply": "2021-09-18T21:00:09.096902Z"
    },
    "papermill": {
     "duration": 0.072411,
     "end_time": "2021-09-18T21:00:09.097309",
     "exception": false,
     "start_time": "2021-09-18T21:00:09.024898",
     "status": "completed"
    },
    "tags": []
   },
   "outputs": [],
   "source": [
    "df_pivot = df.pivot_table(index=\"PRODUCT\", columns = \"RECORD_TIME\", values = \"LISTING_COUNT\")"
   ]
  },
  {
   "cell_type": "code",
   "execution_count": 6,
   "id": "union-huntington",
   "metadata": {
    "execution": {
     "iopub.execute_input": "2021-09-18T21:00:09.157293Z",
     "iopub.status.busy": "2021-09-18T21:00:09.154864Z",
     "iopub.status.idle": "2021-09-18T21:00:09.162485Z",
     "shell.execute_reply": "2021-09-18T21:00:09.160926Z"
    },
    "papermill": {
     "duration": 0.042486,
     "end_time": "2021-09-18T21:00:09.162922",
     "exception": false,
     "start_time": "2021-09-18T21:00:09.120436",
     "status": "completed"
    },
    "tags": []
   },
   "outputs": [],
   "source": [
    "df_pivot.columns = [\"stamp_1\", \"stamp_2\"]\n",
    "df_pivot_diff = df_pivot.diff(axis=1)"
   ]
  },
  {
   "cell_type": "code",
   "execution_count": 7,
   "id": "fifth-motion",
   "metadata": {
    "execution": {
     "iopub.execute_input": "2021-09-18T21:00:09.218252Z",
     "iopub.status.busy": "2021-09-18T21:00:09.215881Z",
     "iopub.status.idle": "2021-09-18T21:00:10.729377Z",
     "shell.execute_reply": "2021-09-18T21:00:10.730658Z"
    },
    "papermill": {
     "duration": 1.546284,
     "end_time": "2021-09-18T21:00:10.731160",
     "exception": false,
     "start_time": "2021-09-18T21:00:09.184876",
     "status": "completed"
    },
    "tags": []
   },
   "outputs": [
    {
     "data": {
      "text/plain": [
       "<AxesSubplot:ylabel='PRODUCT'>"
      ]
     },
     "execution_count": 7,
     "metadata": {},
     "output_type": "execute_result"
    },
    {
     "data": {
      "image/png": "[encoded data removed]",
      "text/plain": [
       "<Figure size 432x288 with 1 Axes>"
      ]
     },
     "metadata": {
      "needs_background": "light"
     },
     "output_type": "display_data"
    }
   ],
   "source": [
    "df_pivot_diff.sort_values(\"stamp_2\", ascending = False)[\"stamp_2\"].head(10).plot.barh()"
   ]
  },
  {
   "cell_type": "code",
   "execution_count": null,
   "id": "extra-executive",
   "metadata": {
    "papermill": {
     "duration": 0.022529,
     "end_time": "2021-09-18T21:00:10.778752",
     "exception": false,
     "start_time": "2021-09-18T21:00:10.756223",
     "status": "completed"
    },
    "tags": []
   },
   "outputs": [],
   "source": []
  }
 ],
 "metadata": {
  "kernelspec": {
   "display_name": "Python 3",
   "language": "python",
   "name": "python3"
  },
  "language_info": {
   "codemirror_mode": {
    "name": "ipython",
    "version": 3
   },
   "file_extension": ".py",
   "mimetype": "text/x-python",
   "name": "python",
   "nbconvert_exporter": "python",
   "pygments_lexer": "ipython3",
   "version": "3.9.5"
  },
  "papermill": {
   "default_parameters": {},
   "duration": 6.675442,
   "end_time": "2021-09-18T21:00:11.420713",
   "environment_variables": {},
   "exception": null,
   "input_path": "eBay_Overview.ipynb",
   "output_path": "eBay_Overview.ipynb",
   "parameters": {},
   "start_time": "2021-09-18T21:00:04.745271",
   "version": "2.3.3"
  }
 },
 "nbformat": 4,
 "nbformat_minor": 5
}