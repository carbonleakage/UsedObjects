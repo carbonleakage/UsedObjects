{
 "cells": [
  {
   "cell_type": "code",
   "execution_count": 1,
   "id": "reverse-picking",
   "metadata": {
    "execution": {
     "iopub.execute_input": "2021-11-16T14:00:07.460732Z",
     "iopub.status.busy": "2021-11-16T14:00:07.458273Z",
     "iopub.status.idle": "2021-11-16T14:00:08.406108Z",
     "shell.execute_reply": "2021-11-16T14:00:08.407768Z"
    },
    "papermill": {
     "duration": 0.997967,
     "end_time": "2021-11-16T14:00:08.408723",
     "exception": false,
     "start_time": "2021-11-16T14:00:07.410756",
     "status": "completed"
    },
    "tags": []
   },
   "outputs": [],
   "source": [
    "import pandas as pd\n",
    "import sqlite3"
   ]
  },
  {
   "cell_type": "code",
   "execution_count": 2,
   "id": "innovative-syndrome",
   "metadata": {
    "execution": {
     "iopub.execute_input": "2021-11-16T14:00:08.471314Z",
     "iopub.status.busy": "2021-11-16T14:00:08.468972Z",
     "iopub.status.idle": "2021-11-16T14:00:09.302987Z",
     "shell.execute_reply": "2021-11-16T14:00:09.304545Z"
    },
    "papermill": {
     "duration": 0.868633,
     "end_time": "2021-11-16T14:00:09.305205",
     "exception": false,
     "start_time": "2021-11-16T14:00:08.436572",
     "status": "completed"
    },
    "tags": []
   },
   "outputs": [],
   "source": [
    "timestamps = pd.read_sql(\"select distinct record_time from EBAY_TOP_BERLIN order by record_time desc limit 2\", sqlite3.connect(\"UsedObjects.db\"))"
   ]
  },
  {
   "cell_type": "code",
   "execution_count": 3,
   "id": "periodic-identification",
   "metadata": {
    "execution": {
     "iopub.execute_input": "2021-11-16T14:00:09.378460Z",
     "iopub.status.busy": "2021-11-16T14:00:09.375667Z",
     "iopub.status.idle": "2021-11-16T14:00:09.397564Z",
     "shell.execute_reply": "2021-11-16T14:00:09.398915Z"
    },
    "papermill": {
     "duration": 0.071282,
     "end_time": "2021-11-16T14:00:09.399389",
     "exception": false,
     "start_time": "2021-11-16T14:00:09.328107",
     "status": "completed"
    },
    "tags": []
   },
   "outputs": [
    {
     "data": {
      "text/html": [
       "<div>\n",
       "<style scoped>\n",
       "    .dataframe tbody tr th:only-of-type {\n",
       "        vertical-align: middle;\n",
       "    }\n",
       "\n",
       "    .dataframe tbody tr th {\n",
       "        vertical-align: top;\n",
       "    }\n",
       "\n",
       "    .dataframe thead th {\n",
       "        text-align: right;\n",
       "    }\n",
       "</style>\n",
       "<table border=\"1\" class=\"dataframe\">\n",
       "  <thead>\n",
       "    <tr style=\"text-align: right;\">\n",
       "      <th></th>\n",
       "      <th>RECORD_TIME</th>\n",
       "    </tr>\n",
       "  </thead>\n",
       "  <tbody>\n",
       "    <tr>\n",
       "      <th>0</th>\n",
       "      <td>2021-11-16 15:00</td>\n",
       "    </tr>\n",
       "    <tr>\n",
       "      <th>1</th>\n",
       "      <td>2021-11-16 14:30</td>\n",
       "    </tr>\n",
       "  </tbody>\n",
       "</table>\n",
       "</div>"
      ],
      "text/plain": [
       "        RECORD_TIME\n",
       "0  2021-11-16 15:00\n",
       "1  2021-11-16 14:30"
      ]
     },
     "execution_count": 3,
     "metadata": {},
     "output_type": "execute_result"
    }
   ],
   "source": [
    "timestamps"
   ]
  },
  {
   "cell_type": "code",
   "execution_count": 4,
   "id": "alternate-victory",
   "metadata": {
    "execution": {
     "iopub.execute_input": "2021-11-16T14:00:09.460935Z",
     "iopub.status.busy": "2021-11-16T14:00:09.455009Z",
     "iopub.status.idle": "2021-11-16T14:00:10.686507Z",
     "shell.execute_reply": "2021-11-16T14:00:10.688024Z"
    },
    "papermill": {
     "duration": 1.267322,
     "end_time": "2021-11-16T14:00:10.688470",
     "exception": false,
     "start_time": "2021-11-16T14:00:09.421148",
     "status": "completed"
    },
    "tags": []
   },
   "outputs": [],
   "source": [
    "df = pd.read_sql(\"select * from EBAY_TOP_BERLIN where record_time in (select distinct record_time from EBAY_TOP_BERLIN order by record_time desc limit 2)\", sqlite3.connect(\"UsedObjects.db\"))"
   ]
  },
  {
   "cell_type": "code",
   "execution_count": 5,
   "id": "popular-active",
   "metadata": {
    "execution": {
     "iopub.execute_input": "2021-11-16T14:00:10.753243Z",
     "iopub.status.busy": "2021-11-16T14:00:10.750728Z",
     "iopub.status.idle": "2021-11-16T14:00:10.784623Z",
     "shell.execute_reply": "2021-11-16T14:00:10.786261Z"
    },
    "papermill": {
     "duration": 0.076784,
     "end_time": "2021-11-16T14:00:10.786747",
     "exception": false,
     "start_time": "2021-11-16T14:00:10.709963",
     "status": "completed"
    },
    "tags": []
   },
   "outputs": [],
   "source": [
    "df_pivot = df.pivot_table(index=\"PRODUCT\", columns = \"RECORD_TIME\", values = \"LISTING_COUNT\")"
   ]
  },
  {
   "cell_type": "code",
   "execution_count": 6,
   "id": "union-huntington",
   "metadata": {
    "execution": {
     "iopub.execute_input": "2021-11-16T14:00:10.848342Z",
     "iopub.status.busy": "2021-11-16T14:00:10.845793Z",
     "iopub.status.idle": "2021-11-16T14:00:10.852261Z",
     "shell.execute_reply": "2021-11-16T14:00:10.853855Z"
    },
    "papermill": {
     "duration": 0.046421,
     "end_time": "2021-11-16T14:00:10.854354",
     "exception": false,
     "start_time": "2021-11-16T14:00:10.807933",
     "status": "completed"
    },
    "tags": []
   },
   "outputs": [],
   "source": [
    "df_pivot.columns = [\"stamp_1\", \"stamp_2\"]\n",
    "df_pivot_diff = df_pivot.diff(axis=1)"
   ]
  },
  {
   "cell_type": "code",
   "execution_count": 7,
   "id": "fifth-motion",
   "metadata": {
    "execution": {
     "iopub.execute_input": "2021-11-16T14:00:10.913563Z",
     "iopub.status.busy": "2021-11-16T14:00:10.910960Z",
     "iopub.status.idle": "2021-11-16T14:00:12.807531Z",
     "shell.execute_reply": "2021-11-16T14:00:12.808966Z"
    },
    "papermill": {
     "duration": 1.933205,
     "end_time": "2021-11-16T14:00:12.809451",
     "exception": false,
     "start_time": "2021-11-16T14:00:10.876246",
     "status": "completed"
    },
    "tags": []
   },
   "outputs": [
    {
     "data": {
      "text/plain": [
       "<AxesSubplot:ylabel='PRODUCT'>"
      ]
     },
     "execution_count": 7,
     "metadata": {},
     "output_type": "execute_result"
    },
    {
     "data": {
      "image/png": "[encoded data removed]",
      "text/plain": [
       "<Figure size 432x288 with 1 Axes>"
      ]
     },
     "metadata": {
      "needs_background": "light"
     },
     "output_type": "display_data"
    }
   ],
   "source": [
    "df_pivot_diff.sort_values(\"stamp_2\", ascending = False)[\"stamp_2\"].head(10).plot.barh()"
   ]
  },
  {
   "cell_type": "code",
   "execution_count": null,
   "id": "extra-executive",
   "metadata": {
    "papermill": {
     "duration": 0.025803,
     "end_time": "2021-11-16T14:00:12.858999",
     "exception": false,
     "start_time": "2021-11-16T14:00:12.833196",
     "status": "completed"
    },
    "tags": []
   },
   "outputs": [],
   "source": []
  }
 ],
 "metadata": {
  "kernelspec": {
   "display_name": "Python 3",
   "language": "python",
   "name": "python3"
  },
  "language_info": {
   "codemirror_mode": {
    "name": "ipython",
    "version": 3
   },
   "file_extension": ".py",
   "mimetype": "text/x-python",
   "name": "python",
   "nbconvert_exporter": "python",
   "pygments_lexer": "ipython3",
   "version": "3.9.5"
  },
  "papermill": {
   "default_parameters": {},
   "duration": 9.9372,
   "end_time": "2021-11-16T14:00:14.634193",
   "environment_variables": {},
   "exception": null,
   "input_path": "eBay_Overview.ipynb",
   "output_path": "eBay_Overview.ipynb",
   "parameters": {},
   "start_time": "2021-11-16T14:00:04.696993",
   "version": "2.3.3"
  }
 },
 "nbformat": 4,
 "nbformat_minor": 5
}