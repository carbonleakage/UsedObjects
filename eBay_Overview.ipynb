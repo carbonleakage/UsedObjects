{
 "cells": [
  {
   "cell_type": "code",
   "execution_count": 1,
   "id": "reverse-picking",
   "metadata": {
    "execution": {
     "iopub.execute_input": "2021-11-19T00:00:07.582793Z",
     "iopub.status.busy": "2021-11-19T00:00:07.580509Z",
     "iopub.status.idle": "2021-11-19T00:00:08.531686Z",
     "shell.execute_reply": "2021-11-19T00:00:08.529750Z"
    },
    "papermill": {
     "duration": 0.998376,
     "end_time": "2021-11-19T00:00:08.532158",
     "exception": false,
     "start_time": "2021-11-19T00:00:07.533782",
     "status": "completed"
    },
    "tags": []
   },
   "outputs": [],
   "source": [
    "import pandas as pd\n",
    "import sqlite3"
   ]
  },
  {
   "cell_type": "code",
   "execution_count": 2,
   "id": "innovative-syndrome",
   "metadata": {
    "execution": {
     "iopub.execute_input": "2021-11-19T00:00:08.586597Z",
     "iopub.status.busy": "2021-11-19T00:00:08.584403Z",
     "iopub.status.idle": "2021-11-19T00:00:09.430107Z",
     "shell.execute_reply": "2021-11-19T00:00:09.431540Z"
    },
    "papermill": {
     "duration": 0.878413,
     "end_time": "2021-11-19T00:00:09.432033",
     "exception": false,
     "start_time": "2021-11-19T00:00:08.553620",
     "status": "completed"
    },
    "tags": []
   },
   "outputs": [],
   "source": [
    "timestamps = pd.read_sql(\"select distinct record_time from EBAY_TOP_BERLIN order by record_time desc limit 2\", sqlite3.connect(\"UsedObjects.db\"))"
   ]
  },
  {
   "cell_type": "code",
   "execution_count": 3,
   "id": "periodic-identification",
   "metadata": {
    "execution": {
     "iopub.execute_input": "2021-11-19T00:00:09.505999Z",
     "iopub.status.busy": "2021-11-19T00:00:09.503532Z",
     "iopub.status.idle": "2021-11-19T00:00:09.526422Z",
     "shell.execute_reply": "2021-11-19T00:00:09.528091Z"
    },
    "papermill": {
     "duration": 0.075618,
     "end_time": "2021-11-19T00:00:09.528650",
     "exception": false,
     "start_time": "2021-11-19T00:00:09.453032",
     "status": "completed"
    },
    "tags": []
   },
   "outputs": [
    {
     "data": {
      "text/html": [
       "<div>\n",
       "<style scoped>\n",
       "    .dataframe tbody tr th:only-of-type {\n",
       "        vertical-align: middle;\n",
       "    }\n",
       "\n",
       "    .dataframe tbody tr th {\n",
       "        vertical-align: top;\n",
       "    }\n",
       "\n",
       "    .dataframe thead th {\n",
       "        text-align: right;\n",
       "    }\n",
       "</style>\n",
       "<table border=\"1\" class=\"dataframe\">\n",
       "  <thead>\n",
       "    <tr style=\"text-align: right;\">\n",
       "      <th></th>\n",
       "      <th>RECORD_TIME</th>\n",
       "    </tr>\n",
       "  </thead>\n",
       "  <tbody>\n",
       "    <tr>\n",
       "      <th>0</th>\n",
       "      <td>2021-11-19 01:00</td>\n",
       "    </tr>\n",
       "    <tr>\n",
       "      <th>1</th>\n",
       "      <td>2021-11-19 00:30</td>\n",
       "    </tr>\n",
       "  </tbody>\n",
       "</table>\n",
       "</div>"
      ],
      "text/plain": [
       "        RECORD_TIME\n",
       "0  2021-11-19 01:00\n",
       "1  2021-11-19 00:30"
      ]
     },
     "execution_count": 3,
     "metadata": {},
     "output_type": "execute_result"
    }
   ],
   "source": [
    "timestamps"
   ]
  },
  {
   "cell_type": "code",
   "execution_count": 4,
   "id": "alternate-victory",
   "metadata": {
    "execution": {
     "iopub.execute_input": "2021-11-19T00:00:09.585401Z",
     "iopub.status.busy": "2021-11-19T00:00:09.582893Z",
     "iopub.status.idle": "2021-11-19T00:00:10.804267Z",
     "shell.execute_reply": "2021-11-19T00:00:10.805991Z"
    },
    "papermill": {
     "duration": 1.255886,
     "end_time": "2021-11-19T00:00:10.806464",
     "exception": false,
     "start_time": "2021-11-19T00:00:09.550578",
     "status": "completed"
    },
    "tags": []
   },
   "outputs": [],
   "source": [
    "df = pd.read_sql(\"select * from EBAY_TOP_BERLIN where record_time in (select distinct record_time from EBAY_TOP_BERLIN order by record_time desc limit 2)\", sqlite3.connect(\"UsedObjects.db\"))"
   ]
  },
  {
   "cell_type": "code",
   "execution_count": 5,
   "id": "popular-active",
   "metadata": {
    "execution": {
     "iopub.execute_input": "2021-11-19T00:00:10.872040Z",
     "iopub.status.busy": "2021-11-19T00:00:10.869712Z",
     "iopub.status.idle": "2021-11-19T00:00:10.904984Z",
     "shell.execute_reply": "2021-11-19T00:00:10.906399Z"
    },
    "papermill": {
     "duration": 0.078443,
     "end_time": "2021-11-19T00:00:10.906881",
     "exception": false,
     "start_time": "2021-11-19T00:00:10.828438",
     "status": "completed"
    },
    "tags": []
   },
   "outputs": [],
   "source": [
    "df_pivot = df.pivot_table(index=\"PRODUCT\", columns = \"RECORD_TIME\", values = \"LISTING_COUNT\")"
   ]
  },
  {
   "cell_type": "code",
   "execution_count": 6,
   "id": "union-huntington",
   "metadata": {
    "execution": {
     "iopub.execute_input": "2021-11-19T00:00:10.967171Z",
     "iopub.status.busy": "2021-11-19T00:00:10.964983Z",
     "iopub.status.idle": "2021-11-19T00:00:10.971929Z",
     "shell.execute_reply": "2021-11-19T00:00:10.970476Z"
    },
    "papermill": {
     "duration": 0.043615,
     "end_time": "2021-11-19T00:00:10.972331",
     "exception": false,
     "start_time": "2021-11-19T00:00:10.928716",
     "status": "completed"
    },
    "tags": []
   },
   "outputs": [],
   "source": [
    "df_pivot.columns = [\"stamp_1\", \"stamp_2\"]\n",
    "df_pivot_diff = df_pivot.diff(axis=1)"
   ]
  },
  {
   "cell_type": "code",
   "execution_count": 7,
   "id": "fifth-motion",
   "metadata": {
    "execution": {
     "iopub.execute_input": "2021-11-19T00:00:11.031081Z",
     "iopub.status.busy": "2021-11-19T00:00:11.028883Z",
     "iopub.status.idle": "2021-11-19T00:00:12.745310Z",
     "shell.execute_reply": "2021-11-19T00:00:12.746952Z"
    },
    "papermill": {
     "duration": 1.754028,
     "end_time": "2021-11-19T00:00:12.747466",
     "exception": false,
     "start_time": "2021-11-19T00:00:10.993438",
     "status": "completed"
    },
    "tags": []
   },
   "outputs": [
    {
     "data": {
      "text/plain": [
       "<AxesSubplot:ylabel='PRODUCT'>"
      ]
     },
     "execution_count": 7,
     "metadata": {},
     "output_type": "execute_result"
    },
    {
     "data": {
      "image/png": "[encoded data removed]",
      "text/plain": [
       "<Figure size 432x288 with 1 Axes>"
      ]
     },
     "metadata": {
      "needs_background": "light"
     },
     "output_type": "display_data"
    }
   ],
   "source": [
    "df_pivot_diff.sort_values(\"stamp_2\", ascending = False)[\"stamp_2\"].head(10).plot.barh()"
   ]
  },
  {
   "cell_type": "code",
   "execution_count": null,
   "id": "extra-executive",
   "metadata": {
    "papermill": {
     "duration": 0.023489,
     "end_time": "2021-11-19T00:00:12.795789",
     "exception": false,
     "start_time": "2021-11-19T00:00:12.772300",
     "status": "completed"
    },
    "tags": []
   },
   "outputs": [],
   "source": []
  }
 ],
 "metadata": {
  "kernelspec": {
   "display_name": "Python 3",
   "language": "python",
   "name": "python3"
  },
  "language_info": {
   "codemirror_mode": {
    "name": "ipython",
    "version": 3
   },
   "file_extension": ".py",
   "mimetype": "text/x-python",
   "name": "python",
   "nbconvert_exporter": "python",
   "pygments_lexer": "ipython3",
   "version": "3.9.5"
  },
  "papermill": {
   "default_parameters": {},
   "duration": 8.734142,
   "end_time": "2021-11-19T00:00:13.540272",
   "environment_variables": {},
   "exception": null,
   "input_path": "eBay_Overview.ipynb",
   "output_path": "eBay_Overview.ipynb",
   "parameters": {},
   "start_time": "2021-11-19T00:00:04.806130",
   "version": "2.3.3"
  }
 },
 "nbformat": 4,
 "nbformat_minor": 5
}