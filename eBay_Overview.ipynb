{
 "cells": [
  {
   "cell_type": "code",
   "execution_count": 1,
   "id": "reverse-picking",
   "metadata": {
    "execution": {
     "iopub.execute_input": "2021-10-24T19:30:07.450380Z",
     "iopub.status.busy": "2021-10-24T19:30:07.448340Z",
     "iopub.status.idle": "2021-10-24T19:30:08.260332Z",
     "shell.execute_reply": "2021-10-24T19:30:08.261860Z"
    },
    "papermill": {
     "duration": 0.863081,
     "end_time": "2021-10-24T19:30:08.262538",
     "exception": false,
     "start_time": "2021-10-24T19:30:07.399457",
     "status": "completed"
    },
    "tags": []
   },
   "outputs": [],
   "source": [
    "import pandas as pd\n",
    "import sqlite3"
   ]
  },
  {
   "cell_type": "code",
   "execution_count": 2,
   "id": "innovative-syndrome",
   "metadata": {
    "execution": {
     "iopub.execute_input": "2021-10-24T19:30:08.313669Z",
     "iopub.status.busy": "2021-10-24T19:30:08.311618Z",
     "iopub.status.idle": "2021-10-24T19:30:08.945113Z",
     "shell.execute_reply": "2021-10-24T19:30:08.946447Z"
    },
    "papermill": {
     "duration": 0.66387,
     "end_time": "2021-10-24T19:30:08.946847",
     "exception": false,
     "start_time": "2021-10-24T19:30:08.282977",
     "status": "completed"
    },
    "tags": []
   },
   "outputs": [],
   "source": [
    "timestamps = pd.read_sql(\"select distinct record_time from EBAY_TOP_BERLIN order by record_time desc limit 2\", sqlite3.connect(\"UsedObjects.db\"))"
   ]
  },
  {
   "cell_type": "code",
   "execution_count": 3,
   "id": "periodic-identification",
   "metadata": {
    "execution": {
     "iopub.execute_input": "2021-10-24T19:30:09.021918Z",
     "iopub.status.busy": "2021-10-24T19:30:09.019839Z",
     "iopub.status.idle": "2021-10-24T19:30:09.040196Z",
     "shell.execute_reply": "2021-10-24T19:30:09.041687Z"
    },
    "papermill": {
     "duration": 0.070519,
     "end_time": "2021-10-24T19:30:09.042115",
     "exception": false,
     "start_time": "2021-10-24T19:30:08.971596",
     "status": "completed"
    },
    "tags": []
   },
   "outputs": [
    {
     "data": {
      "text/html": [
       "<div>\n",
       "<style scoped>\n",
       "    .dataframe tbody tr th:only-of-type {\n",
       "        vertical-align: middle;\n",
       "    }\n",
       "\n",
       "    .dataframe tbody tr th {\n",
       "        vertical-align: top;\n",
       "    }\n",
       "\n",
       "    .dataframe thead th {\n",
       "        text-align: right;\n",
       "    }\n",
       "</style>\n",
       "<table border=\"1\" class=\"dataframe\">\n",
       "  <thead>\n",
       "    <tr style=\"text-align: right;\">\n",
       "      <th></th>\n",
       "      <th>RECORD_TIME</th>\n",
       "    </tr>\n",
       "  </thead>\n",
       "  <tbody>\n",
       "    <tr>\n",
       "      <th>0</th>\n",
       "      <td>2021-10-24 21:30</td>\n",
       "    </tr>\n",
       "    <tr>\n",
       "      <th>1</th>\n",
       "      <td>2021-10-24 21:00</td>\n",
       "    </tr>\n",
       "  </tbody>\n",
       "</table>\n",
       "</div>"
      ],
      "text/plain": [
       "        RECORD_TIME\n",
       "0  2021-10-24 21:30\n",
       "1  2021-10-24 21:00"
      ]
     },
     "execution_count": 3,
     "metadata": {},
     "output_type": "execute_result"
    }
   ],
   "source": [
    "timestamps"
   ]
  },
  {
   "cell_type": "code",
   "execution_count": 4,
   "id": "alternate-victory",
   "metadata": {
    "execution": {
     "iopub.execute_input": "2021-10-24T19:30:09.094428Z",
     "iopub.status.busy": "2021-10-24T19:30:09.092062Z",
     "iopub.status.idle": "2021-10-24T19:30:10.035097Z",
     "shell.execute_reply": "2021-10-24T19:30:10.036309Z"
    },
    "papermill": {
     "duration": 0.973733,
     "end_time": "2021-10-24T19:30:10.036868",
     "exception": false,
     "start_time": "2021-10-24T19:30:09.063135",
     "status": "completed"
    },
    "tags": []
   },
   "outputs": [],
   "source": [
    "df = pd.read_sql(\"select * from EBAY_TOP_BERLIN where record_time in (select distinct record_time from EBAY_TOP_BERLIN order by record_time desc limit 2)\", sqlite3.connect(\"UsedObjects.db\"))"
   ]
  },
  {
   "cell_type": "code",
   "execution_count": 5,
   "id": "popular-active",
   "metadata": {
    "execution": {
     "iopub.execute_input": "2021-10-24T19:30:10.111086Z",
     "iopub.status.busy": "2021-10-24T19:30:10.098846Z",
     "iopub.status.idle": "2021-10-24T19:30:10.127952Z",
     "shell.execute_reply": "2021-10-24T19:30:10.129697Z"
    },
    "papermill": {
     "duration": 0.070259,
     "end_time": "2021-10-24T19:30:10.130179",
     "exception": false,
     "start_time": "2021-10-24T19:30:10.059920",
     "status": "completed"
    },
    "tags": []
   },
   "outputs": [],
   "source": [
    "df_pivot = df.pivot_table(index=\"PRODUCT\", columns = \"RECORD_TIME\", values = \"LISTING_COUNT\")"
   ]
  },
  {
   "cell_type": "code",
   "execution_count": 6,
   "id": "union-huntington",
   "metadata": {
    "execution": {
     "iopub.execute_input": "2021-10-24T19:30:10.188923Z",
     "iopub.status.busy": "2021-10-24T19:30:10.186835Z",
     "iopub.status.idle": "2021-10-24T19:30:10.192188Z",
     "shell.execute_reply": "2021-10-24T19:30:10.193528Z"
    },
    "papermill": {
     "duration": 0.041442,
     "end_time": "2021-10-24T19:30:10.193950",
     "exception": false,
     "start_time": "2021-10-24T19:30:10.152508",
     "status": "completed"
    },
    "tags": []
   },
   "outputs": [],
   "source": [
    "df_pivot.columns = [\"stamp_1\", \"stamp_2\"]\n",
    "df_pivot_diff = df_pivot.diff(axis=1)"
   ]
  },
  {
   "cell_type": "code",
   "execution_count": 7,
   "id": "fifth-motion",
   "metadata": {
    "execution": {
     "iopub.execute_input": "2021-10-24T19:30:10.248379Z",
     "iopub.status.busy": "2021-10-24T19:30:10.246022Z",
     "iopub.status.idle": "2021-10-24T19:30:11.723448Z",
     "shell.execute_reply": "2021-10-24T19:30:11.724793Z"
    },
    "papermill": {
     "duration": 1.510648,
     "end_time": "2021-10-24T19:30:11.725256",
     "exception": false,
     "start_time": "2021-10-24T19:30:10.214608",
     "status": "completed"
    },
    "tags": []
   },
   "outputs": [
    {
     "data": {
      "text/plain": [
       "<AxesSubplot:ylabel='PRODUCT'>"
      ]
     },
     "execution_count": 7,
     "metadata": {},
     "output_type": "execute_result"
    },
    {
     "data": {
      "image/png": "[encoded data removed]",
      "text/plain": [
       "<Figure size 432x288 with 1 Axes>"
      ]
     },
     "metadata": {
      "needs_background": "light"
     },
     "output_type": "display_data"
    }
   ],
   "source": [
    "df_pivot_diff.sort_values(\"stamp_2\", ascending = False)[\"stamp_2\"].head(10).plot.barh()"
   ]
  },
  {
   "cell_type": "code",
   "execution_count": null,
   "id": "extra-executive",
   "metadata": {
    "papermill": {
     "duration": 0.022304,
     "end_time": "2021-10-24T19:30:11.772530",
     "exception": false,
     "start_time": "2021-10-24T19:30:11.750226",
     "status": "completed"
    },
    "tags": []
   },
   "outputs": [],
   "source": []
  }
 ],
 "metadata": {
  "kernelspec": {
   "display_name": "Python 3",
   "language": "python",
   "name": "python3"
  },
  "language_info": {
   "codemirror_mode": {
    "name": "ipython",
    "version": 3
   },
   "file_extension": ".py",
   "mimetype": "text/x-python",
   "name": "python",
   "nbconvert_exporter": "python",
   "pygments_lexer": "ipython3",
   "version": "3.9.5"
  },
  "papermill": {
   "default_parameters": {},
   "duration": 7.431866,
   "end_time": "2021-10-24T19:30:12.413803",
   "environment_variables": {},
   "exception": null,
   "input_path": "eBay_Overview.ipynb",
   "output_path": "eBay_Overview.ipynb",
   "parameters": {},
   "start_time": "2021-10-24T19:30:04.981937",
   "version": "2.3.3"
  }
 },
 "nbformat": 4,
 "nbformat_minor": 5
}