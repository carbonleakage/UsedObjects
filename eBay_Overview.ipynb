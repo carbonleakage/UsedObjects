{
 "cells": [
  {
   "cell_type": "code",
   "execution_count": 1,
   "id": "reverse-picking",
   "metadata": {
    "execution": {
     "iopub.execute_input": "2021-08-09T08:30:03.923375Z",
     "iopub.status.busy": "2021-08-09T08:30:03.922611Z",
     "iopub.status.idle": "2021-08-09T08:30:04.582858Z",
     "shell.execute_reply": "2021-08-09T08:30:04.581454Z"
    },
    "papermill": {
     "duration": 0.678798,
     "end_time": "2021-08-09T08:30:04.583183",
     "exception": false,
     "start_time": "2021-08-09T08:30:03.904385",
     "status": "completed"
    },
    "tags": []
   },
   "outputs": [],
   "source": [
    "import pandas as pd\n",
    "import sqlite3"
   ]
  },
  {
   "cell_type": "code",
   "execution_count": 2,
   "id": "innovative-syndrome",
   "metadata": {
    "execution": {
     "iopub.execute_input": "2021-08-09T08:30:04.608835Z",
     "iopub.status.busy": "2021-08-09T08:30:04.608063Z",
     "iopub.status.idle": "2021-08-09T08:30:04.811099Z",
     "shell.execute_reply": "2021-08-09T08:30:04.811667Z"
    },
    "papermill": {
     "duration": 0.215911,
     "end_time": "2021-08-09T08:30:04.811860",
     "exception": false,
     "start_time": "2021-08-09T08:30:04.595949",
     "status": "completed"
    },
    "tags": []
   },
   "outputs": [],
   "source": [
    "timestamps = pd.read_sql(\"select distinct record_time from EBAY_TOP_BERLIN order by record_time desc limit 2\", sqlite3.connect(\"UsedObjects.db\"))"
   ]
  },
  {
   "cell_type": "code",
   "execution_count": 3,
   "id": "periodic-identification",
   "metadata": {
    "execution": {
     "iopub.execute_input": "2021-08-09T08:30:04.839939Z",
     "iopub.status.busy": "2021-08-09T08:30:04.839159Z",
     "iopub.status.idle": "2021-08-09T08:30:04.849979Z",
     "shell.execute_reply": "2021-08-09T08:30:04.850507Z"
    },
    "papermill": {
     "duration": 0.030901,
     "end_time": "2021-08-09T08:30:04.850688",
     "exception": false,
     "start_time": "2021-08-09T08:30:04.819787",
     "status": "completed"
    },
    "tags": []
   },
   "outputs": [
    {
     "data": {
      "text/html": [
       "<div>\n",
       "<style scoped>\n",
       "    .dataframe tbody tr th:only-of-type {\n",
       "        vertical-align: middle;\n",
       "    }\n",
       "\n",
       "    .dataframe tbody tr th {\n",
       "        vertical-align: top;\n",
       "    }\n",
       "\n",
       "    .dataframe thead th {\n",
       "        text-align: right;\n",
       "    }\n",
       "</style>\n",
       "<table border=\"1\" class=\"dataframe\">\n",
       "  <thead>\n",
       "    <tr style=\"text-align: right;\">\n",
       "      <th></th>\n",
       "      <th>RECORD_TIME</th>\n",
       "    </tr>\n",
       "  </thead>\n",
       "  <tbody>\n",
       "    <tr>\n",
       "      <th>0</th>\n",
       "      <td>2021-08-09 10:30</td>\n",
       "    </tr>\n",
       "    <tr>\n",
       "      <th>1</th>\n",
       "      <td>2021-08-09 10:00</td>\n",
       "    </tr>\n",
       "  </tbody>\n",
       "</table>\n",
       "</div>"
      ],
      "text/plain": [
       "        RECORD_TIME\n",
       "0  2021-08-09 10:30\n",
       "1  2021-08-09 10:00"
      ]
     },
     "execution_count": 3,
     "metadata": {},
     "output_type": "execute_result"
    }
   ],
   "source": [
    "timestamps"
   ]
  },
  {
   "cell_type": "code",
   "execution_count": 4,
   "id": "alternate-victory",
   "metadata": {
    "execution": {
     "iopub.execute_input": "2021-08-09T08:30:04.877508Z",
     "iopub.status.busy": "2021-08-09T08:30:04.876750Z",
     "iopub.status.idle": "2021-08-09T08:30:04.889474Z",
     "shell.execute_reply": "2021-08-09T08:30:04.888852Z"
    },
    "papermill": {
     "duration": 0.026462,
     "end_time": "2021-08-09T08:30:04.889757",
     "exception": false,
     "start_time": "2021-08-09T08:30:04.863295",
     "status": "completed"
    },
    "tags": []
   },
   "outputs": [],
   "source": [
    "df = pd.read_sql(\"select * from EBAY_TOP_BERLIN where record_time in (select distinct record_time from EBAY_TOP_BERLIN order by record_time desc limit 2)\", sqlite3.connect(\"UsedObjects.db\"))"
   ]
  },
  {
   "cell_type": "code",
   "execution_count": 5,
   "id": "popular-active",
   "metadata": {
    "execution": {
     "iopub.execute_input": "2021-08-09T08:30:04.924118Z",
     "iopub.status.busy": "2021-08-09T08:30:04.923090Z",
     "iopub.status.idle": "2021-08-09T08:30:04.942723Z",
     "shell.execute_reply": "2021-08-09T08:30:04.942119Z"
    },
    "papermill": {
     "duration": 0.03833,
     "end_time": "2021-08-09T08:30:04.942875",
     "exception": false,
     "start_time": "2021-08-09T08:30:04.904545",
     "status": "completed"
    },
    "tags": []
   },
   "outputs": [],
   "source": [
    "df_pivot = df.pivot_table(index=\"PRODUCT\", columns = \"RECORD_TIME\", values = \"LISTING_COUNT\")"
   ]
  },
  {
   "cell_type": "code",
   "execution_count": 6,
   "id": "union-huntington",
   "metadata": {
    "execution": {
     "iopub.execute_input": "2021-08-09T08:30:04.972057Z",
     "iopub.status.busy": "2021-08-09T08:30:04.971375Z",
     "iopub.status.idle": "2021-08-09T08:30:04.980456Z",
     "shell.execute_reply": "2021-08-09T08:30:04.979701Z"
    },
    "papermill": {
     "duration": 0.025537,
     "end_time": "2021-08-09T08:30:04.980617",
     "exception": false,
     "start_time": "2021-08-09T08:30:04.955080",
     "status": "completed"
    },
    "tags": []
   },
   "outputs": [],
   "source": [
    "df_pivot.columns = [\"stamp_1\", \"stamp_2\"]\n",
    "df_pivot_diff = df_pivot.diff(axis=1)"
   ]
  },
  {
   "cell_type": "code",
   "execution_count": 7,
   "id": "fifth-motion",
   "metadata": {
    "execution": {
     "iopub.execute_input": "2021-08-09T08:30:05.009688Z",
     "iopub.status.busy": "2021-08-09T08:30:05.008933Z",
     "iopub.status.idle": "2021-08-09T08:30:05.647763Z",
     "shell.execute_reply": "2021-08-09T08:30:05.648330Z"
    },
    "papermill": {
     "duration": 0.656828,
     "end_time": "2021-08-09T08:30:05.648524",
     "exception": false,
     "start_time": "2021-08-09T08:30:04.991696",
     "status": "completed"
    },
    "tags": []
   },
   "outputs": [
    {
     "data": {
      "text/plain": [
       "<AxesSubplot:ylabel='PRODUCT'>"
      ]
     },
     "execution_count": 7,
     "metadata": {},
     "output_type": "execute_result"
    },
    {
     "data": {
      "image/png": "[encoded data removed]",
      "text/plain": [
       "<Figure size 432x288 with 1 Axes>"
      ]
     },
     "metadata": {
      "needs_background": "light"
     },
     "output_type": "display_data"
    }
   ],
   "source": [
    "df_pivot_diff.sort_values(\"stamp_2\", ascending = False)[\"stamp_2\"].head(10).plot.barh()"
   ]
  },
  {
   "cell_type": "code",
   "execution_count": null,
   "id": "extra-executive",
   "metadata": {
    "papermill": {
     "duration": 0.009347,
     "end_time": "2021-08-09T08:30:05.667748",
     "exception": false,
     "start_time": "2021-08-09T08:30:05.658401",
     "status": "completed"
    },
    "tags": []
   },
   "outputs": [],
   "source": []
  }
 ],
 "metadata": {
  "kernelspec": {
   "display_name": "Python 3",
   "language": "python",
   "name": "python3"
  },
  "language_info": {
   "codemirror_mode": {
    "name": "ipython",
    "version": 3
   },
   "file_extension": ".py",
   "mimetype": "text/x-python",
   "name": "python",
   "nbconvert_exporter": "python",
   "pygments_lexer": "ipython3",
   "version": "3.8.8"
  },
  "papermill": {
   "default_parameters": {},
   "duration": 5.03743,
   "end_time": "2021-08-09T08:30:07.283907",
   "environment_variables": {},
   "exception": null,
   "input_path": "/Users/saravananshanmugam/Carbonleakage_Git/UsedObjects/eBay_Overview.ipynb",
   "output_path": "/Users/saravananshanmugam/Carbonleakage_Git/UsedObjects/eBay_Overview.ipynb",
   "parameters": {},
   "start_time": "2021-08-09T08:30:02.246477",
   "version": "2.3.3"
  }
 },
 "nbformat": 4,
 "nbformat_minor": 5
}