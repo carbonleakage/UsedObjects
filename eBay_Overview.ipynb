{
 "cells": [
  {
   "cell_type": "code",
   "execution_count": 1,
   "id": "reverse-picking",
   "metadata": {
    "execution": {
     "iopub.execute_input": "2021-11-09T03:00:07.171283Z",
     "iopub.status.busy": "2021-11-09T03:00:07.158889Z",
     "iopub.status.idle": "2021-11-09T03:00:08.100952Z",
     "shell.execute_reply": "2021-11-09T03:00:08.102544Z"
    },
    "papermill": {
     "duration": 0.990196,
     "end_time": "2021-11-09T03:00:08.103279",
     "exception": false,
     "start_time": "2021-11-09T03:00:07.113083",
     "status": "completed"
    },
    "tags": []
   },
   "outputs": [],
   "source": [
    "import pandas as pd\n",
    "import sqlite3"
   ]
  },
  {
   "cell_type": "code",
   "execution_count": 2,
   "id": "innovative-syndrome",
   "metadata": {
    "execution": {
     "iopub.execute_input": "2021-11-09T03:00:08.159697Z",
     "iopub.status.busy": "2021-11-09T03:00:08.157449Z",
     "iopub.status.idle": "2021-11-09T03:00:08.922566Z",
     "shell.execute_reply": "2021-11-09T03:00:08.924942Z"
    },
    "papermill": {
     "duration": 0.800721,
     "end_time": "2021-11-09T03:00:08.925578",
     "exception": false,
     "start_time": "2021-11-09T03:00:08.124857",
     "status": "completed"
    },
    "tags": []
   },
   "outputs": [],
   "source": [
    "timestamps = pd.read_sql(\"select distinct record_time from EBAY_TOP_BERLIN order by record_time desc limit 2\", sqlite3.connect(\"UsedObjects.db\"))"
   ]
  },
  {
   "cell_type": "code",
   "execution_count": 3,
   "id": "periodic-identification",
   "metadata": {
    "execution": {
     "iopub.execute_input": "2021-11-09T03:00:08.997189Z",
     "iopub.status.busy": "2021-11-09T03:00:08.994759Z",
     "iopub.status.idle": "2021-11-09T03:00:09.017646Z",
     "shell.execute_reply": "2021-11-09T03:00:09.019155Z"
    },
    "papermill": {
     "duration": 0.073153,
     "end_time": "2021-11-09T03:00:09.019671",
     "exception": false,
     "start_time": "2021-11-09T03:00:08.946518",
     "status": "completed"
    },
    "tags": []
   },
   "outputs": [
    {
     "data": {
      "text/html": [
       "<div>\n",
       "<style scoped>\n",
       "    .dataframe tbody tr th:only-of-type {\n",
       "        vertical-align: middle;\n",
       "    }\n",
       "\n",
       "    .dataframe tbody tr th {\n",
       "        vertical-align: top;\n",
       "    }\n",
       "\n",
       "    .dataframe thead th {\n",
       "        text-align: right;\n",
       "    }\n",
       "</style>\n",
       "<table border=\"1\" class=\"dataframe\">\n",
       "  <thead>\n",
       "    <tr style=\"text-align: right;\">\n",
       "      <th></th>\n",
       "      <th>RECORD_TIME</th>\n",
       "    </tr>\n",
       "  </thead>\n",
       "  <tbody>\n",
       "    <tr>\n",
       "      <th>0</th>\n",
       "      <td>2021-11-09 04:00</td>\n",
       "    </tr>\n",
       "    <tr>\n",
       "      <th>1</th>\n",
       "      <td>2021-11-09 03:30</td>\n",
       "    </tr>\n",
       "  </tbody>\n",
       "</table>\n",
       "</div>"
      ],
      "text/plain": [
       "        RECORD_TIME\n",
       "0  2021-11-09 04:00\n",
       "1  2021-11-09 03:30"
      ]
     },
     "execution_count": 3,
     "metadata": {},
     "output_type": "execute_result"
    }
   ],
   "source": [
    "timestamps"
   ]
  },
  {
   "cell_type": "code",
   "execution_count": 4,
   "id": "alternate-victory",
   "metadata": {
    "execution": {
     "iopub.execute_input": "2021-11-09T03:00:09.075980Z",
     "iopub.status.busy": "2021-11-09T03:00:09.073896Z",
     "iopub.status.idle": "2021-11-09T03:00:10.177251Z",
     "shell.execute_reply": "2021-11-09T03:00:10.178945Z"
    },
    "papermill": {
     "duration": 1.138286,
     "end_time": "2021-11-09T03:00:10.179431",
     "exception": false,
     "start_time": "2021-11-09T03:00:09.041145",
     "status": "completed"
    },
    "tags": []
   },
   "outputs": [],
   "source": [
    "df = pd.read_sql(\"select * from EBAY_TOP_BERLIN where record_time in (select distinct record_time from EBAY_TOP_BERLIN order by record_time desc limit 2)\", sqlite3.connect(\"UsedObjects.db\"))"
   ]
  },
  {
   "cell_type": "code",
   "execution_count": 5,
   "id": "popular-active",
   "metadata": {
    "execution": {
     "iopub.execute_input": "2021-11-09T03:00:10.258400Z",
     "iopub.status.busy": "2021-11-09T03:00:10.245311Z",
     "iopub.status.idle": "2021-11-09T03:00:10.279064Z",
     "shell.execute_reply": "2021-11-09T03:00:10.277504Z"
    },
    "papermill": {
     "duration": 0.07762,
     "end_time": "2021-11-09T03:00:10.279490",
     "exception": false,
     "start_time": "2021-11-09T03:00:10.201870",
     "status": "completed"
    },
    "tags": []
   },
   "outputs": [],
   "source": [
    "df_pivot = df.pivot_table(index=\"PRODUCT\", columns = \"RECORD_TIME\", values = \"LISTING_COUNT\")"
   ]
  },
  {
   "cell_type": "code",
   "execution_count": 6,
   "id": "union-huntington",
   "metadata": {
    "execution": {
     "iopub.execute_input": "2021-11-09T03:00:10.342616Z",
     "iopub.status.busy": "2021-11-09T03:00:10.340230Z",
     "iopub.status.idle": "2021-11-09T03:00:10.346650Z",
     "shell.execute_reply": "2021-11-09T03:00:10.348206Z"
    },
    "papermill": {
     "duration": 0.047785,
     "end_time": "2021-11-09T03:00:10.348754",
     "exception": false,
     "start_time": "2021-11-09T03:00:10.300969",
     "status": "completed"
    },
    "tags": []
   },
   "outputs": [],
   "source": [
    "df_pivot.columns = [\"stamp_1\", \"stamp_2\"]\n",
    "df_pivot_diff = df_pivot.diff(axis=1)"
   ]
  },
  {
   "cell_type": "code",
   "execution_count": 7,
   "id": "fifth-motion",
   "metadata": {
    "execution": {
     "iopub.execute_input": "2021-11-09T03:00:10.409342Z",
     "iopub.status.busy": "2021-11-09T03:00:10.406641Z",
     "iopub.status.idle": "2021-11-09T03:00:12.174974Z",
     "shell.execute_reply": "2021-11-09T03:00:12.176922Z"
    },
    "papermill": {
     "duration": 1.805323,
     "end_time": "2021-11-09T03:00:12.177419",
     "exception": false,
     "start_time": "2021-11-09T03:00:10.372096",
     "status": "completed"
    },
    "tags": []
   },
   "outputs": [
    {
     "data": {
      "text/plain": [
       "<AxesSubplot:ylabel='PRODUCT'>"
      ]
     },
     "execution_count": 7,
     "metadata": {},
     "output_type": "execute_result"
    },
    {
     "data": {
      "image/png": "[encoded data removed]",
      "text/plain": [
       "<Figure size 432x288 with 1 Axes>"
      ]
     },
     "metadata": {
      "needs_background": "light"
     },
     "output_type": "display_data"
    }
   ],
   "source": [
    "df_pivot_diff.sort_values(\"stamp_2\", ascending = False)[\"stamp_2\"].head(10).plot.barh()"
   ]
  },
  {
   "cell_type": "code",
   "execution_count": null,
   "id": "extra-executive",
   "metadata": {
    "papermill": {
     "duration": 0.026112,
     "end_time": "2021-11-09T03:00:12.229040",
     "exception": false,
     "start_time": "2021-11-09T03:00:12.202928",
     "status": "completed"
    },
    "tags": []
   },
   "outputs": [],
   "source": []
  }
 ],
 "metadata": {
  "kernelspec": {
   "display_name": "Python 3",
   "language": "python",
   "name": "python3"
  },
  "language_info": {
   "codemirror_mode": {
    "name": "ipython",
    "version": 3
   },
   "file_extension": ".py",
   "mimetype": "text/x-python",
   "name": "python",
   "nbconvert_exporter": "python",
   "pygments_lexer": "ipython3",
   "version": "3.9.5"
  },
  "papermill": {
   "default_parameters": {},
   "duration": 8.764825,
   "end_time": "2021-11-09T03:00:13.077792",
   "environment_variables": {},
   "exception": null,
   "input_path": "eBay_Overview.ipynb",
   "output_path": "eBay_Overview.ipynb",
   "parameters": {},
   "start_time": "2021-11-09T03:00:04.312967",
   "version": "2.3.3"
  }
 },
 "nbformat": 4,
 "nbformat_minor": 5
}