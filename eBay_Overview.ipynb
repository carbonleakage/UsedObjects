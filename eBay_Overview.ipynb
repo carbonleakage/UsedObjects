{
 "cells": [
  {
   "cell_type": "code",
   "execution_count": 1,
   "id": "reverse-picking",
   "metadata": {
    "execution": {
     "iopub.execute_input": "2021-08-22T20:00:06.596205Z",
     "iopub.status.busy": "2021-08-22T20:00:06.594288Z",
     "iopub.status.idle": "2021-08-22T20:00:07.398538Z",
     "shell.execute_reply": "2021-08-22T20:00:07.399799Z"
    },
    "papermill": {
     "duration": 0.857634,
     "end_time": "2021-08-22T20:00:07.400425",
     "exception": false,
     "start_time": "2021-08-22T20:00:06.542791",
     "status": "completed"
    },
    "tags": []
   },
   "outputs": [],
   "source": [
    "import pandas as pd\n",
    "import sqlite3"
   ]
  },
  {
   "cell_type": "code",
   "execution_count": 2,
   "id": "innovative-syndrome",
   "metadata": {
    "execution": {
     "iopub.execute_input": "2021-08-22T20:00:07.451238Z",
     "iopub.status.busy": "2021-08-22T20:00:07.449196Z",
     "iopub.status.idle": "2021-08-22T20:00:07.558855Z",
     "shell.execute_reply": "2021-08-22T20:00:07.560064Z"
    },
    "papermill": {
     "duration": 0.139556,
     "end_time": "2021-08-22T20:00:07.560458",
     "exception": false,
     "start_time": "2021-08-22T20:00:07.420902",
     "status": "completed"
    },
    "tags": []
   },
   "outputs": [],
   "source": [
    "timestamps = pd.read_sql(\"select distinct record_time from EBAY_TOP_BERLIN order by record_time desc limit 2\", sqlite3.connect(\"UsedObjects.db\"))"
   ]
  },
  {
   "cell_type": "code",
   "execution_count": 3,
   "id": "periodic-identification",
   "metadata": {
    "execution": {
     "iopub.execute_input": "2021-08-22T20:00:07.628546Z",
     "iopub.status.busy": "2021-08-22T20:00:07.626544Z",
     "iopub.status.idle": "2021-08-22T20:00:07.647181Z",
     "shell.execute_reply": "2021-08-22T20:00:07.648479Z"
    },
    "papermill": {
     "duration": 0.066271,
     "end_time": "2021-08-22T20:00:07.648900",
     "exception": false,
     "start_time": "2021-08-22T20:00:07.582629",
     "status": "completed"
    },
    "tags": []
   },
   "outputs": [
    {
     "data": {
      "text/html": [
       "<div>\n",
       "<style scoped>\n",
       "    .dataframe tbody tr th:only-of-type {\n",
       "        vertical-align: middle;\n",
       "    }\n",
       "\n",
       "    .dataframe tbody tr th {\n",
       "        vertical-align: top;\n",
       "    }\n",
       "\n",
       "    .dataframe thead th {\n",
       "        text-align: right;\n",
       "    }\n",
       "</style>\n",
       "<table border=\"1\" class=\"dataframe\">\n",
       "  <thead>\n",
       "    <tr style=\"text-align: right;\">\n",
       "      <th></th>\n",
       "      <th>RECORD_TIME</th>\n",
       "    </tr>\n",
       "  </thead>\n",
       "  <tbody>\n",
       "    <tr>\n",
       "      <th>0</th>\n",
       "      <td>2021-08-22 22:00</td>\n",
       "    </tr>\n",
       "    <tr>\n",
       "      <th>1</th>\n",
       "      <td>2021-08-22 21:30</td>\n",
       "    </tr>\n",
       "  </tbody>\n",
       "</table>\n",
       "</div>"
      ],
      "text/plain": [
       "        RECORD_TIME\n",
       "0  2021-08-22 22:00\n",
       "1  2021-08-22 21:30"
      ]
     },
     "execution_count": 3,
     "metadata": {},
     "output_type": "execute_result"
    }
   ],
   "source": [
    "timestamps"
   ]
  },
  {
   "cell_type": "code",
   "execution_count": 4,
   "id": "alternate-victory",
   "metadata": {
    "execution": {
     "iopub.execute_input": "2021-08-22T20:00:07.699111Z",
     "iopub.status.busy": "2021-08-22T20:00:07.697194Z",
     "iopub.status.idle": "2021-08-22T20:00:07.859822Z",
     "shell.execute_reply": "2021-08-22T20:00:07.861030Z"
    },
    "papermill": {
     "duration": 0.192276,
     "end_time": "2021-08-22T20:00:07.861427",
     "exception": false,
     "start_time": "2021-08-22T20:00:07.669151",
     "status": "completed"
    },
    "tags": []
   },
   "outputs": [],
   "source": [
    "df = pd.read_sql(\"select * from EBAY_TOP_BERLIN where record_time in (select distinct record_time from EBAY_TOP_BERLIN order by record_time desc limit 2)\", sqlite3.connect(\"UsedObjects.db\"))"
   ]
  },
  {
   "cell_type": "code",
   "execution_count": 5,
   "id": "popular-active",
   "metadata": {
    "execution": {
     "iopub.execute_input": "2021-08-22T20:00:07.933587Z",
     "iopub.status.busy": "2021-08-22T20:00:07.926770Z",
     "iopub.status.idle": "2021-08-22T20:00:07.951264Z",
     "shell.execute_reply": "2021-08-22T20:00:07.949657Z"
    },
    "papermill": {
     "duration": 0.068538,
     "end_time": "2021-08-22T20:00:07.951652",
     "exception": false,
     "start_time": "2021-08-22T20:00:07.883114",
     "status": "completed"
    },
    "tags": []
   },
   "outputs": [],
   "source": [
    "df_pivot = df.pivot_table(index=\"PRODUCT\", columns = \"RECORD_TIME\", values = \"LISTING_COUNT\")"
   ]
  },
  {
   "cell_type": "code",
   "execution_count": 6,
   "id": "union-huntington",
   "metadata": {
    "execution": {
     "iopub.execute_input": "2021-08-22T20:00:08.007406Z",
     "iopub.status.busy": "2021-08-22T20:00:08.005258Z",
     "iopub.status.idle": "2021-08-22T20:00:08.010651Z",
     "shell.execute_reply": "2021-08-22T20:00:08.011949Z"
    },
    "papermill": {
     "duration": 0.040296,
     "end_time": "2021-08-22T20:00:08.012367",
     "exception": false,
     "start_time": "2021-08-22T20:00:07.972071",
     "status": "completed"
    },
    "tags": []
   },
   "outputs": [],
   "source": [
    "df_pivot.columns = [\"stamp_1\", \"stamp_2\"]\n",
    "df_pivot_diff = df_pivot.diff(axis=1)"
   ]
  },
  {
   "cell_type": "code",
   "execution_count": 7,
   "id": "fifth-motion",
   "metadata": {
    "execution": {
     "iopub.execute_input": "2021-08-22T20:00:08.080095Z",
     "iopub.status.busy": "2021-08-22T20:00:08.077654Z",
     "iopub.status.idle": "2021-08-22T20:00:09.605895Z",
     "shell.execute_reply": "2021-08-22T20:00:09.607358Z"
    },
    "papermill": {
     "duration": 1.565706,
     "end_time": "2021-08-22T20:00:09.607803",
     "exception": false,
     "start_time": "2021-08-22T20:00:08.042097",
     "status": "completed"
    },
    "tags": []
   },
   "outputs": [
    {
     "data": {
      "text/plain": [
       "<AxesSubplot:ylabel='PRODUCT'>"
      ]
     },
     "execution_count": 7,
     "metadata": {},
     "output_type": "execute_result"
    },
    {
     "data": {
      "image/png": "[encoded data removed]",
      "text/plain": [
       "<Figure size 432x288 with 1 Axes>"
      ]
     },
     "metadata": {
      "needs_background": "light"
     },
     "output_type": "display_data"
    }
   ],
   "source": [
    "df_pivot_diff.sort_values(\"stamp_2\", ascending = False)[\"stamp_2\"].head(10).plot.barh()"
   ]
  },
  {
   "cell_type": "code",
   "execution_count": null,
   "id": "extra-executive",
   "metadata": {
    "papermill": {
     "duration": 0.022182,
     "end_time": "2021-08-22T20:00:09.653531",
     "exception": false,
     "start_time": "2021-08-22T20:00:09.631349",
     "status": "completed"
    },
    "tags": []
   },
   "outputs": [],
   "source": []
  }
 ],
 "metadata": {
  "kernelspec": {
   "display_name": "Python 3",
   "language": "python",
   "name": "python3"
  },
  "language_info": {
   "codemirror_mode": {
    "name": "ipython",
    "version": 3
   },
   "file_extension": ".py",
   "mimetype": "text/x-python",
   "name": "python",
   "nbconvert_exporter": "python",
   "pygments_lexer": "ipython3",
   "version": "3.9.5"
  },
  "papermill": {
   "default_parameters": {},
   "duration": 6.834854,
   "end_time": "2021-08-22T20:00:10.969058",
   "environment_variables": {},
   "exception": null,
   "input_path": "eBay_Overview.ipynb",
   "output_path": "eBay_Overview.ipynb",
   "parameters": {},
   "start_time": "2021-08-22T20:00:04.134204",
   "version": "2.3.3"
  }
 },
 "nbformat": 4,
 "nbformat_minor": 5
}