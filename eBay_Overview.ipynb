{
 "cells": [
  {
   "cell_type": "code",
   "execution_count": 1,
   "id": "reverse-picking",
   "metadata": {
    "execution": {
     "iopub.execute_input": "2021-08-24T15:30:07.391960Z",
     "iopub.status.busy": "2021-08-24T15:30:07.389998Z",
     "iopub.status.idle": "2021-08-24T15:30:08.197808Z",
     "shell.execute_reply": "2021-08-24T15:30:08.199235Z"
    },
    "papermill": {
     "duration": 0.859957,
     "end_time": "2021-08-24T15:30:08.199857",
     "exception": false,
     "start_time": "2021-08-24T15:30:07.339900",
     "status": "completed"
    },
    "tags": []
   },
   "outputs": [],
   "source": [
    "import pandas as pd\n",
    "import sqlite3"
   ]
  },
  {
   "cell_type": "code",
   "execution_count": 2,
   "id": "innovative-syndrome",
   "metadata": {
    "execution": {
     "iopub.execute_input": "2021-08-24T15:30:08.252503Z",
     "iopub.status.busy": "2021-08-24T15:30:08.250331Z",
     "iopub.status.idle": "2021-08-24T15:30:08.373652Z",
     "shell.execute_reply": "2021-08-24T15:30:08.375146Z"
    },
    "papermill": {
     "duration": 0.153317,
     "end_time": "2021-08-24T15:30:08.375595",
     "exception": false,
     "start_time": "2021-08-24T15:30:08.222278",
     "status": "completed"
    },
    "tags": []
   },
   "outputs": [],
   "source": [
    "timestamps = pd.read_sql(\"select distinct record_time from EBAY_TOP_BERLIN order by record_time desc limit 2\", sqlite3.connect(\"UsedObjects.db\"))"
   ]
  },
  {
   "cell_type": "code",
   "execution_count": 3,
   "id": "periodic-identification",
   "metadata": {
    "execution": {
     "iopub.execute_input": "2021-08-24T15:30:08.440075Z",
     "iopub.status.busy": "2021-08-24T15:30:08.438053Z",
     "iopub.status.idle": "2021-08-24T15:30:08.459161Z",
     "shell.execute_reply": "2021-08-24T15:30:08.460292Z"
    },
    "papermill": {
     "duration": 0.065441,
     "end_time": "2021-08-24T15:30:08.460696",
     "exception": false,
     "start_time": "2021-08-24T15:30:08.395255",
     "status": "completed"
    },
    "tags": []
   },
   "outputs": [
    {
     "data": {
      "text/html": [
       "<div>\n",
       "<style scoped>\n",
       "    .dataframe tbody tr th:only-of-type {\n",
       "        vertical-align: middle;\n",
       "    }\n",
       "\n",
       "    .dataframe tbody tr th {\n",
       "        vertical-align: top;\n",
       "    }\n",
       "\n",
       "    .dataframe thead th {\n",
       "        text-align: right;\n",
       "    }\n",
       "</style>\n",
       "<table border=\"1\" class=\"dataframe\">\n",
       "  <thead>\n",
       "    <tr style=\"text-align: right;\">\n",
       "      <th></th>\n",
       "      <th>RECORD_TIME</th>\n",
       "    </tr>\n",
       "  </thead>\n",
       "  <tbody>\n",
       "    <tr>\n",
       "      <th>0</th>\n",
       "      <td>2021-08-24 17:30</td>\n",
       "    </tr>\n",
       "    <tr>\n",
       "      <th>1</th>\n",
       "      <td>2021-08-24 17:00</td>\n",
       "    </tr>\n",
       "  </tbody>\n",
       "</table>\n",
       "</div>"
      ],
      "text/plain": [
       "        RECORD_TIME\n",
       "0  2021-08-24 17:30\n",
       "1  2021-08-24 17:00"
      ]
     },
     "execution_count": 3,
     "metadata": {},
     "output_type": "execute_result"
    }
   ],
   "source": [
    "timestamps"
   ]
  },
  {
   "cell_type": "code",
   "execution_count": 4,
   "id": "alternate-victory",
   "metadata": {
    "execution": {
     "iopub.execute_input": "2021-08-24T15:30:08.513682Z",
     "iopub.status.busy": "2021-08-24T15:30:08.511409Z",
     "iopub.status.idle": "2021-08-24T15:30:08.699516Z",
     "shell.execute_reply": "2021-08-24T15:30:08.700736Z"
    },
    "papermill": {
     "duration": 0.218545,
     "end_time": "2021-08-24T15:30:08.701127",
     "exception": false,
     "start_time": "2021-08-24T15:30:08.482582",
     "status": "completed"
    },
    "tags": []
   },
   "outputs": [],
   "source": [
    "df = pd.read_sql(\"select * from EBAY_TOP_BERLIN where record_time in (select distinct record_time from EBAY_TOP_BERLIN order by record_time desc limit 2)\", sqlite3.connect(\"UsedObjects.db\"))"
   ]
  },
  {
   "cell_type": "code",
   "execution_count": 5,
   "id": "popular-active",
   "metadata": {
    "execution": {
     "iopub.execute_input": "2021-08-24T15:30:08.775926Z",
     "iopub.status.busy": "2021-08-24T15:30:08.763339Z",
     "iopub.status.idle": "2021-08-24T15:30:08.791323Z",
     "shell.execute_reply": "2021-08-24T15:30:08.792532Z"
    },
    "papermill": {
     "duration": 0.069073,
     "end_time": "2021-08-24T15:30:08.792920",
     "exception": false,
     "start_time": "2021-08-24T15:30:08.723847",
     "status": "completed"
    },
    "tags": []
   },
   "outputs": [],
   "source": [
    "df_pivot = df.pivot_table(index=\"PRODUCT\", columns = \"RECORD_TIME\", values = \"LISTING_COUNT\")"
   ]
  },
  {
   "cell_type": "code",
   "execution_count": 6,
   "id": "union-huntington",
   "metadata": {
    "execution": {
     "iopub.execute_input": "2021-08-24T15:30:08.859651Z",
     "iopub.status.busy": "2021-08-24T15:30:08.857443Z",
     "iopub.status.idle": "2021-08-24T15:30:08.863115Z",
     "shell.execute_reply": "2021-08-24T15:30:08.864496Z"
    },
    "papermill": {
     "duration": 0.043831,
     "end_time": "2021-08-24T15:30:08.864931",
     "exception": false,
     "start_time": "2021-08-24T15:30:08.821100",
     "status": "completed"
    },
    "tags": []
   },
   "outputs": [],
   "source": [
    "df_pivot.columns = [\"stamp_1\", \"stamp_2\"]\n",
    "df_pivot_diff = df_pivot.diff(axis=1)"
   ]
  },
  {
   "cell_type": "code",
   "execution_count": 7,
   "id": "fifth-motion",
   "metadata": {
    "execution": {
     "iopub.execute_input": "2021-08-24T15:30:08.937154Z",
     "iopub.status.busy": "2021-08-24T15:30:08.934995Z",
     "iopub.status.idle": "2021-08-24T15:30:10.450096Z",
     "shell.execute_reply": "2021-08-24T15:30:10.451308Z"
    },
    "papermill": {
     "duration": 1.552739,
     "end_time": "2021-08-24T15:30:10.451739",
     "exception": false,
     "start_time": "2021-08-24T15:30:08.899000",
     "status": "completed"
    },
    "tags": []
   },
   "outputs": [
    {
     "data": {
      "text/plain": [
       "<AxesSubplot:ylabel='PRODUCT'>"
      ]
     },
     "execution_count": 7,
     "metadata": {},
     "output_type": "execute_result"
    },
    {
     "data": {
      "image/png": "[encoded data removed]",
      "text/plain": [
       "<Figure size 432x288 with 1 Axes>"
      ]
     },
     "metadata": {
      "needs_background": "light"
     },
     "output_type": "display_data"
    }
   ],
   "source": [
    "df_pivot_diff.sort_values(\"stamp_2\", ascending = False)[\"stamp_2\"].head(10).plot.barh()"
   ]
  },
  {
   "cell_type": "code",
   "execution_count": null,
   "id": "extra-executive",
   "metadata": {
    "papermill": {
     "duration": 0.022471,
     "end_time": "2021-08-24T15:30:10.498281",
     "exception": false,
     "start_time": "2021-08-24T15:30:10.475810",
     "status": "completed"
    },
    "tags": []
   },
   "outputs": [],
   "source": []
  }
 ],
 "metadata": {
  "kernelspec": {
   "display_name": "Python 3",
   "language": "python",
   "name": "python3"
  },
  "language_info": {
   "codemirror_mode": {
    "name": "ipython",
    "version": 3
   },
   "file_extension": ".py",
   "mimetype": "text/x-python",
   "name": "python",
   "nbconvert_exporter": "python",
   "pygments_lexer": "ipython3",
   "version": "3.9.5"
  },
  "papermill": {
   "default_parameters": {},
   "duration": 6.824419,
   "end_time": "2021-08-24T15:30:11.754850",
   "environment_variables": {},
   "exception": null,
   "input_path": "eBay_Overview.ipynb",
   "output_path": "eBay_Overview.ipynb",
   "parameters": {},
   "start_time": "2021-08-24T15:30:04.930431",
   "version": "2.3.3"
  }
 },
 "nbformat": 4,
 "nbformat_minor": 5
}