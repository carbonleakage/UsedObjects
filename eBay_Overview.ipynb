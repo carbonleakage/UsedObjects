{
 "cells": [
  {
   "cell_type": "code",
   "execution_count": 1,
   "id": "reverse-picking",
   "metadata": {
    "execution": {
     "iopub.execute_input": "2021-10-15T00:30:06.562300Z",
     "iopub.status.busy": "2021-10-15T00:30:06.560265Z",
     "iopub.status.idle": "2021-10-15T00:30:07.367270Z",
     "shell.execute_reply": "2021-10-15T00:30:07.365673Z"
    },
    "papermill": {
     "duration": 0.85688,
     "end_time": "2021-10-15T00:30:07.367672",
     "exception": false,
     "start_time": "2021-10-15T00:30:06.510792",
     "status": "completed"
    },
    "tags": []
   },
   "outputs": [],
   "source": [
    "import pandas as pd\n",
    "import sqlite3"
   ]
  },
  {
   "cell_type": "code",
   "execution_count": 2,
   "id": "innovative-syndrome",
   "metadata": {
    "execution": {
     "iopub.execute_input": "2021-10-15T00:30:07.417806Z",
     "iopub.status.busy": "2021-10-15T00:30:07.415842Z",
     "iopub.status.idle": "2021-10-15T00:30:07.950015Z",
     "shell.execute_reply": "2021-10-15T00:30:07.951306Z"
    },
    "papermill": {
     "duration": 0.563577,
     "end_time": "2021-10-15T00:30:07.951712",
     "exception": false,
     "start_time": "2021-10-15T00:30:07.388135",
     "status": "completed"
    },
    "tags": []
   },
   "outputs": [],
   "source": [
    "timestamps = pd.read_sql(\"select distinct record_time from EBAY_TOP_BERLIN order by record_time desc limit 2\", sqlite3.connect(\"UsedObjects.db\"))"
   ]
  },
  {
   "cell_type": "code",
   "execution_count": 3,
   "id": "periodic-identification",
   "metadata": {
    "execution": {
     "iopub.execute_input": "2021-10-15T00:30:08.027935Z",
     "iopub.status.busy": "2021-10-15T00:30:08.025870Z",
     "iopub.status.idle": "2021-10-15T00:30:08.045922Z",
     "shell.execute_reply": "2021-10-15T00:30:08.047226Z"
    },
    "papermill": {
     "duration": 0.076675,
     "end_time": "2021-10-15T00:30:08.047644",
     "exception": false,
     "start_time": "2021-10-15T00:30:07.970969",
     "status": "completed"
    },
    "tags": []
   },
   "outputs": [
    {
     "data": {
      "text/html": [
       "<div>\n",
       "<style scoped>\n",
       "    .dataframe tbody tr th:only-of-type {\n",
       "        vertical-align: middle;\n",
       "    }\n",
       "\n",
       "    .dataframe tbody tr th {\n",
       "        vertical-align: top;\n",
       "    }\n",
       "\n",
       "    .dataframe thead th {\n",
       "        text-align: right;\n",
       "    }\n",
       "</style>\n",
       "<table border=\"1\" class=\"dataframe\">\n",
       "  <thead>\n",
       "    <tr style=\"text-align: right;\">\n",
       "      <th></th>\n",
       "      <th>RECORD_TIME</th>\n",
       "    </tr>\n",
       "  </thead>\n",
       "  <tbody>\n",
       "    <tr>\n",
       "      <th>0</th>\n",
       "      <td>2021-10-15 02:30</td>\n",
       "    </tr>\n",
       "    <tr>\n",
       "      <th>1</th>\n",
       "      <td>2021-10-15 02:00</td>\n",
       "    </tr>\n",
       "  </tbody>\n",
       "</table>\n",
       "</div>"
      ],
      "text/plain": [
       "        RECORD_TIME\n",
       "0  2021-10-15 02:30\n",
       "1  2021-10-15 02:00"
      ]
     },
     "execution_count": 3,
     "metadata": {},
     "output_type": "execute_result"
    }
   ],
   "source": [
    "timestamps"
   ]
  },
  {
   "cell_type": "code",
   "execution_count": 4,
   "id": "alternate-victory",
   "metadata": {
    "execution": {
     "iopub.execute_input": "2021-10-15T00:30:08.098283Z",
     "iopub.status.busy": "2021-10-15T00:30:08.096314Z",
     "iopub.status.idle": "2021-10-15T00:30:08.886221Z",
     "shell.execute_reply": "2021-10-15T00:30:08.887453Z"
    },
    "papermill": {
     "duration": 0.819891,
     "end_time": "2021-10-15T00:30:08.887854",
     "exception": false,
     "start_time": "2021-10-15T00:30:08.067963",
     "status": "completed"
    },
    "tags": []
   },
   "outputs": [],
   "source": [
    "df = pd.read_sql(\"select * from EBAY_TOP_BERLIN where record_time in (select distinct record_time from EBAY_TOP_BERLIN order by record_time desc limit 2)\", sqlite3.connect(\"UsedObjects.db\"))"
   ]
  },
  {
   "cell_type": "code",
   "execution_count": 5,
   "id": "popular-active",
   "metadata": {
    "execution": {
     "iopub.execute_input": "2021-10-15T00:30:08.949501Z",
     "iopub.status.busy": "2021-10-15T00:30:08.947205Z",
     "iopub.status.idle": "2021-10-15T00:30:08.974605Z",
     "shell.execute_reply": "2021-10-15T00:30:08.975846Z"
    },
    "papermill": {
     "duration": 0.068059,
     "end_time": "2021-10-15T00:30:08.976250",
     "exception": false,
     "start_time": "2021-10-15T00:30:08.908191",
     "status": "completed"
    },
    "tags": []
   },
   "outputs": [],
   "source": [
    "df_pivot = df.pivot_table(index=\"PRODUCT\", columns = \"RECORD_TIME\", values = \"LISTING_COUNT\")"
   ]
  },
  {
   "cell_type": "code",
   "execution_count": 6,
   "id": "union-huntington",
   "metadata": {
    "execution": {
     "iopub.execute_input": "2021-10-15T00:30:09.032388Z",
     "iopub.status.busy": "2021-10-15T00:30:09.030222Z",
     "iopub.status.idle": "2021-10-15T00:30:09.035799Z",
     "shell.execute_reply": "2021-10-15T00:30:09.037412Z"
    },
    "papermill": {
     "duration": 0.041111,
     "end_time": "2021-10-15T00:30:09.037874",
     "exception": false,
     "start_time": "2021-10-15T00:30:08.996763",
     "status": "completed"
    },
    "tags": []
   },
   "outputs": [],
   "source": [
    "df_pivot.columns = [\"stamp_1\", \"stamp_2\"]\n",
    "df_pivot_diff = df_pivot.diff(axis=1)"
   ]
  },
  {
   "cell_type": "code",
   "execution_count": 7,
   "id": "fifth-motion",
   "metadata": {
    "execution": {
     "iopub.execute_input": "2021-10-15T00:30:09.093887Z",
     "iopub.status.busy": "2021-10-15T00:30:09.091133Z",
     "iopub.status.idle": "2021-10-15T00:30:10.561191Z",
     "shell.execute_reply": "2021-10-15T00:30:10.562585Z"
    },
    "papermill": {
     "duration": 1.503582,
     "end_time": "2021-10-15T00:30:10.563028",
     "exception": false,
     "start_time": "2021-10-15T00:30:09.059446",
     "status": "completed"
    },
    "tags": []
   },
   "outputs": [
    {
     "data": {
      "text/plain": [
       "<AxesSubplot:ylabel='PRODUCT'>"
      ]
     },
     "execution_count": 7,
     "metadata": {},
     "output_type": "execute_result"
    },
    {
     "data": {
      "image/png": "[encoded data removed]",
      "text/plain": [
       "<Figure size 432x288 with 1 Axes>"
      ]
     },
     "metadata": {
      "needs_background": "light"
     },
     "output_type": "display_data"
    }
   ],
   "source": [
    "df_pivot_diff.sort_values(\"stamp_2\", ascending = False)[\"stamp_2\"].head(10).plot.barh()"
   ]
  },
  {
   "cell_type": "code",
   "execution_count": null,
   "id": "extra-executive",
   "metadata": {
    "papermill": {
     "duration": 0.022041,
     "end_time": "2021-10-15T00:30:10.609466",
     "exception": false,
     "start_time": "2021-10-15T00:30:10.587425",
     "status": "completed"
    },
    "tags": []
   },
   "outputs": [],
   "source": []
  }
 ],
 "metadata": {
  "kernelspec": {
   "display_name": "Python 3",
   "language": "python",
   "name": "python3"
  },
  "language_info": {
   "codemirror_mode": {
    "name": "ipython",
    "version": 3
   },
   "file_extension": ".py",
   "mimetype": "text/x-python",
   "name": "python",
   "nbconvert_exporter": "python",
   "pygments_lexer": "ipython3",
   "version": "3.9.5"
  },
  "papermill": {
   "default_parameters": {},
   "duration": 7.828705,
   "end_time": "2021-10-15T00:30:11.930621",
   "environment_variables": {},
   "exception": null,
   "input_path": "eBay_Overview.ipynb",
   "output_path": "eBay_Overview.ipynb",
   "parameters": {},
   "start_time": "2021-10-15T00:30:04.101916",
   "version": "2.3.3"
  }
 },
 "nbformat": 4,
 "nbformat_minor": 5
}