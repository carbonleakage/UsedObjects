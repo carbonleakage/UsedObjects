{
 "cells": [
  {
   "cell_type": "code",
   "execution_count": 1,
   "id": "reverse-picking",
   "metadata": {
    "execution": {
     "iopub.execute_input": "2021-09-15T12:00:07.084477Z",
     "iopub.status.busy": "2021-09-15T12:00:07.082433Z",
     "iopub.status.idle": "2021-09-15T12:00:07.894216Z",
     "shell.execute_reply": "2021-09-15T12:00:07.895697Z"
    },
    "papermill": {
     "duration": 0.86536,
     "end_time": "2021-09-15T12:00:07.896327",
     "exception": false,
     "start_time": "2021-09-15T12:00:07.030967",
     "status": "completed"
    },
    "tags": []
   },
   "outputs": [],
   "source": [
    "import pandas as pd\n",
    "import sqlite3"
   ]
  },
  {
   "cell_type": "code",
   "execution_count": 2,
   "id": "innovative-syndrome",
   "metadata": {
    "execution": {
     "iopub.execute_input": "2021-09-15T12:00:07.946758Z",
     "iopub.status.busy": "2021-09-15T12:00:07.944445Z",
     "iopub.status.idle": "2021-09-15T12:00:08.241016Z",
     "shell.execute_reply": "2021-09-15T12:00:08.242214Z"
    },
    "papermill": {
     "duration": 0.326387,
     "end_time": "2021-09-15T12:00:08.242605",
     "exception": false,
     "start_time": "2021-09-15T12:00:07.916218",
     "status": "completed"
    },
    "tags": []
   },
   "outputs": [],
   "source": [
    "timestamps = pd.read_sql(\"select distinct record_time from EBAY_TOP_BERLIN order by record_time desc limit 2\", sqlite3.connect(\"UsedObjects.db\"))"
   ]
  },
  {
   "cell_type": "code",
   "execution_count": 3,
   "id": "periodic-identification",
   "metadata": {
    "execution": {
     "iopub.execute_input": "2021-09-15T12:00:08.309841Z",
     "iopub.status.busy": "2021-09-15T12:00:08.307796Z",
     "iopub.status.idle": "2021-09-15T12:00:08.329516Z",
     "shell.execute_reply": "2021-09-15T12:00:08.330860Z"
    },
    "papermill": {
     "duration": 0.067254,
     "end_time": "2021-09-15T12:00:08.331315",
     "exception": false,
     "start_time": "2021-09-15T12:00:08.264061",
     "status": "completed"
    },
    "tags": []
   },
   "outputs": [
    {
     "data": {
      "text/html": [
       "<div>\n",
       "<style scoped>\n",
       "    .dataframe tbody tr th:only-of-type {\n",
       "        vertical-align: middle;\n",
       "    }\n",
       "\n",
       "    .dataframe tbody tr th {\n",
       "        vertical-align: top;\n",
       "    }\n",
       "\n",
       "    .dataframe thead th {\n",
       "        text-align: right;\n",
       "    }\n",
       "</style>\n",
       "<table border=\"1\" class=\"dataframe\">\n",
       "  <thead>\n",
       "    <tr style=\"text-align: right;\">\n",
       "      <th></th>\n",
       "      <th>RECORD_TIME</th>\n",
       "    </tr>\n",
       "  </thead>\n",
       "  <tbody>\n",
       "    <tr>\n",
       "      <th>0</th>\n",
       "      <td>2021-09-15 14:00</td>\n",
       "    </tr>\n",
       "    <tr>\n",
       "      <th>1</th>\n",
       "      <td>2021-09-15 13:30</td>\n",
       "    </tr>\n",
       "  </tbody>\n",
       "</table>\n",
       "</div>"
      ],
      "text/plain": [
       "        RECORD_TIME\n",
       "0  2021-09-15 14:00\n",
       "1  2021-09-15 13:30"
      ]
     },
     "execution_count": 3,
     "metadata": {},
     "output_type": "execute_result"
    }
   ],
   "source": [
    "timestamps"
   ]
  },
  {
   "cell_type": "code",
   "execution_count": 4,
   "id": "alternate-victory",
   "metadata": {
    "execution": {
     "iopub.execute_input": "2021-09-15T12:00:08.382469Z",
     "iopub.status.busy": "2021-09-15T12:00:08.380454Z",
     "iopub.status.idle": "2021-09-15T12:00:08.822510Z",
     "shell.execute_reply": "2021-09-15T12:00:08.823928Z"
    },
    "papermill": {
     "duration": 0.472917,
     "end_time": "2021-09-15T12:00:08.824346",
     "exception": false,
     "start_time": "2021-09-15T12:00:08.351429",
     "status": "completed"
    },
    "tags": []
   },
   "outputs": [],
   "source": [
    "df = pd.read_sql(\"select * from EBAY_TOP_BERLIN where record_time in (select distinct record_time from EBAY_TOP_BERLIN order by record_time desc limit 2)\", sqlite3.connect(\"UsedObjects.db\"))"
   ]
  },
  {
   "cell_type": "code",
   "execution_count": 5,
   "id": "popular-active",
   "metadata": {
    "execution": {
     "iopub.execute_input": "2021-09-15T12:00:08.896188Z",
     "iopub.status.busy": "2021-09-15T12:00:08.884225Z",
     "iopub.status.idle": "2021-09-15T12:00:08.911756Z",
     "shell.execute_reply": "2021-09-15T12:00:08.913052Z"
    },
    "papermill": {
     "duration": 0.067668,
     "end_time": "2021-09-15T12:00:08.913446",
     "exception": false,
     "start_time": "2021-09-15T12:00:08.845778",
     "status": "completed"
    },
    "tags": []
   },
   "outputs": [],
   "source": [
    "df_pivot = df.pivot_table(index=\"PRODUCT\", columns = \"RECORD_TIME\", values = \"LISTING_COUNT\")"
   ]
  },
  {
   "cell_type": "code",
   "execution_count": 6,
   "id": "union-huntington",
   "metadata": {
    "execution": {
     "iopub.execute_input": "2021-09-15T12:00:08.967842Z",
     "iopub.status.busy": "2021-09-15T12:00:08.965727Z",
     "iopub.status.idle": "2021-09-15T12:00:08.971095Z",
     "shell.execute_reply": "2021-09-15T12:00:08.972318Z"
    },
    "papermill": {
     "duration": 0.03983,
     "end_time": "2021-09-15T12:00:08.972744",
     "exception": false,
     "start_time": "2021-09-15T12:00:08.932914",
     "status": "completed"
    },
    "tags": []
   },
   "outputs": [],
   "source": [
    "df_pivot.columns = [\"stamp_1\", \"stamp_2\"]\n",
    "df_pivot_diff = df_pivot.diff(axis=1)"
   ]
  },
  {
   "cell_type": "code",
   "execution_count": 7,
   "id": "fifth-motion",
   "metadata": {
    "execution": {
     "iopub.execute_input": "2021-09-15T12:00:09.025946Z",
     "iopub.status.busy": "2021-09-15T12:00:09.023514Z",
     "iopub.status.idle": "2021-09-15T12:00:10.527871Z",
     "shell.execute_reply": "2021-09-15T12:00:10.529258Z"
    },
    "papermill": {
     "duration": 1.536902,
     "end_time": "2021-09-15T12:00:10.529697",
     "exception": false,
     "start_time": "2021-09-15T12:00:08.992795",
     "status": "completed"
    },
    "tags": []
   },
   "outputs": [
    {
     "data": {
      "text/plain": [
       "<AxesSubplot:ylabel='PRODUCT'>"
      ]
     },
     "execution_count": 7,
     "metadata": {},
     "output_type": "execute_result"
    },
    {
     "data": {
      "image/png": "[encoded data removed]",
      "text/plain": [
       "<Figure size 432x288 with 1 Axes>"
      ]
     },
     "metadata": {
      "needs_background": "light"
     },
     "output_type": "display_data"
    }
   ],
   "source": [
    "df_pivot_diff.sort_values(\"stamp_2\", ascending = False)[\"stamp_2\"].head(10).plot.barh()"
   ]
  },
  {
   "cell_type": "code",
   "execution_count": null,
   "id": "extra-executive",
   "metadata": {
    "papermill": {
     "duration": 0.021836,
     "end_time": "2021-09-15T12:00:10.575534",
     "exception": false,
     "start_time": "2021-09-15T12:00:10.553698",
     "status": "completed"
    },
    "tags": []
   },
   "outputs": [],
   "source": []
  }
 ],
 "metadata": {
  "kernelspec": {
   "display_name": "Python 3",
   "language": "python",
   "name": "python3"
  },
  "language_info": {
   "codemirror_mode": {
    "name": "ipython",
    "version": 3
   },
   "file_extension": ".py",
   "mimetype": "text/x-python",
   "name": "python",
   "nbconvert_exporter": "python",
   "pygments_lexer": "ipython3",
   "version": "3.9.5"
  },
  "papermill": {
   "default_parameters": {},
   "duration": 6.594625,
   "end_time": "2021-09-15T12:00:11.216660",
   "environment_variables": {},
   "exception": null,
   "input_path": "eBay_Overview.ipynb",
   "output_path": "eBay_Overview.ipynb",
   "parameters": {},
   "start_time": "2021-09-15T12:00:04.622035",
   "version": "2.3.3"
  }
 },
 "nbformat": 4,
 "nbformat_minor": 5
}