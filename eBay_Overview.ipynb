{
 "cells": [
  {
   "cell_type": "code",
   "execution_count": 1,
   "id": "reverse-picking",
   "metadata": {
    "execution": {
     "iopub.execute_input": "2021-09-26T11:30:06.600623Z",
     "iopub.status.busy": "2021-09-26T11:30:06.598530Z",
     "iopub.status.idle": "2021-09-26T11:30:07.402568Z",
     "shell.execute_reply": "2021-09-26T11:30:07.403901Z"
    },
    "papermill": {
     "duration": 0.854633,
     "end_time": "2021-09-26T11:30:07.404522",
     "exception": false,
     "start_time": "2021-09-26T11:30:06.549889",
     "status": "completed"
    },
    "tags": []
   },
   "outputs": [],
   "source": [
    "import pandas as pd\n",
    "import sqlite3"
   ]
  },
  {
   "cell_type": "code",
   "execution_count": 2,
   "id": "innovative-syndrome",
   "metadata": {
    "execution": {
     "iopub.execute_input": "2021-09-26T11:30:07.456205Z",
     "iopub.status.busy": "2021-09-26T11:30:07.454036Z",
     "iopub.status.idle": "2021-09-26T11:30:07.832334Z",
     "shell.execute_reply": "2021-09-26T11:30:07.833536Z"
    },
    "papermill": {
     "duration": 0.407427,
     "end_time": "2021-09-26T11:30:07.833932",
     "exception": false,
     "start_time": "2021-09-26T11:30:07.426505",
     "status": "completed"
    },
    "tags": []
   },
   "outputs": [],
   "source": [
    "timestamps = pd.read_sql(\"select distinct record_time from EBAY_TOP_BERLIN order by record_time desc limit 2\", sqlite3.connect(\"UsedObjects.db\"))"
   ]
  },
  {
   "cell_type": "code",
   "execution_count": 3,
   "id": "periodic-identification",
   "metadata": {
    "execution": {
     "iopub.execute_input": "2021-09-26T11:30:07.898012Z",
     "iopub.status.busy": "2021-09-26T11:30:07.895989Z",
     "iopub.status.idle": "2021-09-26T11:30:07.916609Z",
     "shell.execute_reply": "2021-09-26T11:30:07.917898Z"
    },
    "papermill": {
     "duration": 0.06361,
     "end_time": "2021-09-26T11:30:07.918311",
     "exception": false,
     "start_time": "2021-09-26T11:30:07.854701",
     "status": "completed"
    },
    "tags": []
   },
   "outputs": [
    {
     "data": {
      "text/html": [
       "<div>\n",
       "<style scoped>\n",
       "    .dataframe tbody tr th:only-of-type {\n",
       "        vertical-align: middle;\n",
       "    }\n",
       "\n",
       "    .dataframe tbody tr th {\n",
       "        vertical-align: top;\n",
       "    }\n",
       "\n",
       "    .dataframe thead th {\n",
       "        text-align: right;\n",
       "    }\n",
       "</style>\n",
       "<table border=\"1\" class=\"dataframe\">\n",
       "  <thead>\n",
       "    <tr style=\"text-align: right;\">\n",
       "      <th></th>\n",
       "      <th>RECORD_TIME</th>\n",
       "    </tr>\n",
       "  </thead>\n",
       "  <tbody>\n",
       "    <tr>\n",
       "      <th>0</th>\n",
       "      <td>2021-09-26 13:30</td>\n",
       "    </tr>\n",
       "    <tr>\n",
       "      <th>1</th>\n",
       "      <td>2021-09-26 13:00</td>\n",
       "    </tr>\n",
       "  </tbody>\n",
       "</table>\n",
       "</div>"
      ],
      "text/plain": [
       "        RECORD_TIME\n",
       "0  2021-09-26 13:30\n",
       "1  2021-09-26 13:00"
      ]
     },
     "execution_count": 3,
     "metadata": {},
     "output_type": "execute_result"
    }
   ],
   "source": [
    "timestamps"
   ]
  },
  {
   "cell_type": "code",
   "execution_count": 4,
   "id": "alternate-victory",
   "metadata": {
    "execution": {
     "iopub.execute_input": "2021-09-26T11:30:07.969187Z",
     "iopub.status.busy": "2021-09-26T11:30:07.967009Z",
     "iopub.status.idle": "2021-09-26T11:30:08.522332Z",
     "shell.execute_reply": "2021-09-26T11:30:08.523820Z"
    },
    "papermill": {
     "duration": 0.585316,
     "end_time": "2021-09-26T11:30:08.524274",
     "exception": false,
     "start_time": "2021-09-26T11:30:07.938958",
     "status": "completed"
    },
    "tags": []
   },
   "outputs": [],
   "source": [
    "df = pd.read_sql(\"select * from EBAY_TOP_BERLIN where record_time in (select distinct record_time from EBAY_TOP_BERLIN order by record_time desc limit 2)\", sqlite3.connect(\"UsedObjects.db\"))"
   ]
  },
  {
   "cell_type": "code",
   "execution_count": 5,
   "id": "popular-active",
   "metadata": {
    "execution": {
     "iopub.execute_input": "2021-09-26T11:30:08.604545Z",
     "iopub.status.busy": "2021-09-26T11:30:08.592731Z",
     "iopub.status.idle": "2021-09-26T11:30:08.620045Z",
     "shell.execute_reply": "2021-09-26T11:30:08.621281Z"
    },
    "papermill": {
     "duration": 0.071704,
     "end_time": "2021-09-26T11:30:08.621675",
     "exception": false,
     "start_time": "2021-09-26T11:30:08.549971",
     "status": "completed"
    },
    "tags": []
   },
   "outputs": [],
   "source": [
    "df_pivot = df.pivot_table(index=\"PRODUCT\", columns = \"RECORD_TIME\", values = \"LISTING_COUNT\")"
   ]
  },
  {
   "cell_type": "code",
   "execution_count": 6,
   "id": "union-huntington",
   "metadata": {
    "execution": {
     "iopub.execute_input": "2021-09-26T11:30:08.680230Z",
     "iopub.status.busy": "2021-09-26T11:30:08.677776Z",
     "iopub.status.idle": "2021-09-26T11:30:08.683690Z",
     "shell.execute_reply": "2021-09-26T11:30:08.684979Z"
    },
    "papermill": {
     "duration": 0.041835,
     "end_time": "2021-09-26T11:30:08.685389",
     "exception": false,
     "start_time": "2021-09-26T11:30:08.643554",
     "status": "completed"
    },
    "tags": []
   },
   "outputs": [],
   "source": [
    "df_pivot.columns = [\"stamp_1\", \"stamp_2\"]\n",
    "df_pivot_diff = df_pivot.diff(axis=1)"
   ]
  },
  {
   "cell_type": "code",
   "execution_count": 7,
   "id": "fifth-motion",
   "metadata": {
    "execution": {
     "iopub.execute_input": "2021-09-26T11:30:08.738279Z",
     "iopub.status.busy": "2021-09-26T11:30:08.736060Z",
     "iopub.status.idle": "2021-09-26T11:30:10.215315Z",
     "shell.execute_reply": "2021-09-26T11:30:10.216725Z"
    },
    "papermill": {
     "duration": 1.511562,
     "end_time": "2021-09-26T11:30:10.217147",
     "exception": false,
     "start_time": "2021-09-26T11:30:08.705585",
     "status": "completed"
    },
    "tags": []
   },
   "outputs": [
    {
     "data": {
      "text/plain": [
       "<AxesSubplot:ylabel='PRODUCT'>"
      ]
     },
     "execution_count": 7,
     "metadata": {},
     "output_type": "execute_result"
    },
    {
     "data": {
      "image/png": "[encoded data removed]",
      "text/plain": [
       "<Figure size 432x288 with 1 Axes>"
      ]
     },
     "metadata": {
      "needs_background": "light"
     },
     "output_type": "display_data"
    }
   ],
   "source": [
    "df_pivot_diff.sort_values(\"stamp_2\", ascending = False)[\"stamp_2\"].head(10).plot.barh()"
   ]
  },
  {
   "cell_type": "code",
   "execution_count": null,
   "id": "extra-executive",
   "metadata": {
    "papermill": {
     "duration": 0.022041,
     "end_time": "2021-09-26T11:30:10.262855",
     "exception": false,
     "start_time": "2021-09-26T11:30:10.240814",
     "status": "completed"
    },
    "tags": []
   },
   "outputs": [],
   "source": []
  }
 ],
 "metadata": {
  "kernelspec": {
   "display_name": "Python 3",
   "language": "python",
   "name": "python3"
  },
  "language_info": {
   "codemirror_mode": {
    "name": "ipython",
    "version": 3
   },
   "file_extension": ".py",
   "mimetype": "text/x-python",
   "name": "python",
   "nbconvert_exporter": "python",
   "pygments_lexer": "ipython3",
   "version": "3.9.5"
  },
  "papermill": {
   "default_parameters": {},
   "duration": 6.756612,
   "end_time": "2021-09-26T11:30:10.905263",
   "environment_variables": {},
   "exception": null,
   "input_path": "eBay_Overview.ipynb",
   "output_path": "eBay_Overview.ipynb",
   "parameters": {},
   "start_time": "2021-09-26T11:30:04.148651",
   "version": "2.3.3"
  }
 },
 "nbformat": 4,
 "nbformat_minor": 5
}