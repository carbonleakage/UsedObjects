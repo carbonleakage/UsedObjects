{
 "cells": [
  {
   "cell_type": "code",
   "execution_count": 1,
   "id": "reverse-picking",
   "metadata": {
    "execution": {
     "iopub.execute_input": "2021-08-18T01:30:06.617716Z",
     "iopub.status.busy": "2021-08-18T01:30:06.615726Z",
     "iopub.status.idle": "2021-08-18T01:30:07.419792Z",
     "shell.execute_reply": "2021-08-18T01:30:07.421129Z"
    },
    "papermill": {
     "duration": 0.856611,
     "end_time": "2021-08-18T01:30:07.421783",
     "exception": false,
     "start_time": "2021-08-18T01:30:06.565172",
     "status": "completed"
    },
    "tags": []
   },
   "outputs": [],
   "source": [
    "import pandas as pd\n",
    "import sqlite3"
   ]
  },
  {
   "cell_type": "code",
   "execution_count": 2,
   "id": "innovative-syndrome",
   "metadata": {
    "execution": {
     "iopub.execute_input": "2021-08-18T01:30:07.472229Z",
     "iopub.status.busy": "2021-08-18T01:30:07.469763Z",
     "iopub.status.idle": "2021-08-18T01:30:07.542823Z",
     "shell.execute_reply": "2021-08-18T01:30:07.544071Z"
    },
    "papermill": {
     "duration": 0.102869,
     "end_time": "2021-08-18T01:30:07.544472",
     "exception": false,
     "start_time": "2021-08-18T01:30:07.441603",
     "status": "completed"
    },
    "tags": []
   },
   "outputs": [],
   "source": [
    "timestamps = pd.read_sql(\"select distinct record_time from EBAY_TOP_BERLIN order by record_time desc limit 2\", sqlite3.connect(\"UsedObjects.db\"))"
   ]
  },
  {
   "cell_type": "code",
   "execution_count": 3,
   "id": "periodic-identification",
   "metadata": {
    "execution": {
     "iopub.execute_input": "2021-08-18T01:30:07.609165Z",
     "iopub.status.busy": "2021-08-18T01:30:07.607164Z",
     "iopub.status.idle": "2021-08-18T01:30:07.628747Z",
     "shell.execute_reply": "2021-08-18T01:30:07.630123Z"
    },
    "papermill": {
     "duration": 0.065083,
     "end_time": "2021-08-18T01:30:07.630558",
     "exception": false,
     "start_time": "2021-08-18T01:30:07.565475",
     "status": "completed"
    },
    "tags": []
   },
   "outputs": [
    {
     "data": {
      "text/html": [
       "<div>\n",
       "<style scoped>\n",
       "    .dataframe tbody tr th:only-of-type {\n",
       "        vertical-align: middle;\n",
       "    }\n",
       "\n",
       "    .dataframe tbody tr th {\n",
       "        vertical-align: top;\n",
       "    }\n",
       "\n",
       "    .dataframe thead th {\n",
       "        text-align: right;\n",
       "    }\n",
       "</style>\n",
       "<table border=\"1\" class=\"dataframe\">\n",
       "  <thead>\n",
       "    <tr style=\"text-align: right;\">\n",
       "      <th></th>\n",
       "      <th>RECORD_TIME</th>\n",
       "    </tr>\n",
       "  </thead>\n",
       "  <tbody>\n",
       "    <tr>\n",
       "      <th>0</th>\n",
       "      <td>2021-08-18 03:30</td>\n",
       "    </tr>\n",
       "    <tr>\n",
       "      <th>1</th>\n",
       "      <td>2021-08-18 03:00</td>\n",
       "    </tr>\n",
       "  </tbody>\n",
       "</table>\n",
       "</div>"
      ],
      "text/plain": [
       "        RECORD_TIME\n",
       "0  2021-08-18 03:30\n",
       "1  2021-08-18 03:00"
      ]
     },
     "execution_count": 3,
     "metadata": {},
     "output_type": "execute_result"
    }
   ],
   "source": [
    "timestamps"
   ]
  },
  {
   "cell_type": "code",
   "execution_count": 4,
   "id": "alternate-victory",
   "metadata": {
    "execution": {
     "iopub.execute_input": "2021-08-18T01:30:07.681840Z",
     "iopub.status.busy": "2021-08-18T01:30:07.680023Z",
     "iopub.status.idle": "2021-08-18T01:30:07.790262Z",
     "shell.execute_reply": "2021-08-18T01:30:07.791787Z"
    },
    "papermill": {
     "duration": 0.140447,
     "end_time": "2021-08-18T01:30:07.792235",
     "exception": false,
     "start_time": "2021-08-18T01:30:07.651788",
     "status": "completed"
    },
    "tags": []
   },
   "outputs": [],
   "source": [
    "df = pd.read_sql(\"select * from EBAY_TOP_BERLIN where record_time in (select distinct record_time from EBAY_TOP_BERLIN order by record_time desc limit 2)\", sqlite3.connect(\"UsedObjects.db\"))"
   ]
  },
  {
   "cell_type": "code",
   "execution_count": 5,
   "id": "popular-active",
   "metadata": {
    "execution": {
     "iopub.execute_input": "2021-08-18T01:30:07.863143Z",
     "iopub.status.busy": "2021-08-18T01:30:07.852263Z",
     "iopub.status.idle": "2021-08-18T01:30:07.879467Z",
     "shell.execute_reply": "2021-08-18T01:30:07.880685Z"
    },
    "papermill": {
     "duration": 0.067946,
     "end_time": "2021-08-18T01:30:07.881085",
     "exception": false,
     "start_time": "2021-08-18T01:30:07.813139",
     "status": "completed"
    },
    "tags": []
   },
   "outputs": [],
   "source": [
    "df_pivot = df.pivot_table(index=\"PRODUCT\", columns = \"RECORD_TIME\", values = \"LISTING_COUNT\")"
   ]
  },
  {
   "cell_type": "code",
   "execution_count": 6,
   "id": "union-huntington",
   "metadata": {
    "execution": {
     "iopub.execute_input": "2021-08-18T01:30:07.940389Z",
     "iopub.status.busy": "2021-08-18T01:30:07.937910Z",
     "iopub.status.idle": "2021-08-18T01:30:07.943961Z",
     "shell.execute_reply": "2021-08-18T01:30:07.945437Z"
    },
    "papermill": {
     "duration": 0.042524,
     "end_time": "2021-08-18T01:30:07.945906",
     "exception": false,
     "start_time": "2021-08-18T01:30:07.903382",
     "status": "completed"
    },
    "tags": []
   },
   "outputs": [],
   "source": [
    "df_pivot.columns = [\"stamp_1\", \"stamp_2\"]\n",
    "df_pivot_diff = df_pivot.diff(axis=1)"
   ]
  },
  {
   "cell_type": "code",
   "execution_count": 7,
   "id": "fifth-motion",
   "metadata": {
    "execution": {
     "iopub.execute_input": "2021-08-18T01:30:08.001028Z",
     "iopub.status.busy": "2021-08-18T01:30:07.998847Z",
     "iopub.status.idle": "2021-08-18T01:30:09.504029Z",
     "shell.execute_reply": "2021-08-18T01:30:09.505511Z"
    },
    "papermill": {
     "duration": 1.538855,
     "end_time": "2021-08-18T01:30:09.506081",
     "exception": false,
     "start_time": "2021-08-18T01:30:07.967226",
     "status": "completed"
    },
    "tags": []
   },
   "outputs": [
    {
     "data": {
      "text/plain": [
       "<AxesSubplot:ylabel='PRODUCT'>"
      ]
     },
     "execution_count": 7,
     "metadata": {},
     "output_type": "execute_result"
    },
    {
     "data": {
      "image/png": "[encoded data removed]",
      "text/plain": [
       "<Figure size 432x288 with 1 Axes>"
      ]
     },
     "metadata": {
      "needs_background": "light"
     },
     "output_type": "display_data"
    }
   ],
   "source": [
    "df_pivot_diff.sort_values(\"stamp_2\", ascending = False)[\"stamp_2\"].head(10).plot.barh()"
   ]
  },
  {
   "cell_type": "code",
   "execution_count": null,
   "id": "extra-executive",
   "metadata": {
    "papermill": {
     "duration": 0.022186,
     "end_time": "2021-08-18T01:30:09.554915",
     "exception": false,
     "start_time": "2021-08-18T01:30:09.532729",
     "status": "completed"
    },
    "tags": []
   },
   "outputs": [],
   "source": []
  }
 ],
 "metadata": {
  "kernelspec": {
   "display_name": "Python 3",
   "language": "python",
   "name": "python3"
  },
  "language_info": {
   "codemirror_mode": {
    "name": "ipython",
    "version": 3
   },
   "file_extension": ".py",
   "mimetype": "text/x-python",
   "name": "python",
   "nbconvert_exporter": "python",
   "pygments_lexer": "ipython3",
   "version": "3.9.5"
  },
  "papermill": {
   "default_parameters": {},
   "duration": 6.836637,
   "end_time": "2021-08-18T01:30:10.989129",
   "environment_variables": {},
   "exception": null,
   "input_path": "eBay_Overview.ipynb",
   "output_path": "eBay_Overview.ipynb",
   "parameters": {},
   "start_time": "2021-08-18T01:30:04.152492",
   "version": "2.3.3"
  }
 },
 "nbformat": 4,
 "nbformat_minor": 5
}