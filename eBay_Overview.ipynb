{
 "cells": [
  {
   "cell_type": "code",
   "execution_count": 1,
   "id": "reverse-picking",
   "metadata": {
    "execution": {
     "iopub.execute_input": "2021-10-06T18:30:07.023554Z",
     "iopub.status.busy": "2021-10-06T18:30:07.021537Z",
     "iopub.status.idle": "2021-10-06T18:30:07.827754Z",
     "shell.execute_reply": "2021-10-06T18:30:07.829025Z"
    },
    "papermill": {
     "duration": 0.857852,
     "end_time": "2021-10-06T18:30:07.829629",
     "exception": false,
     "start_time": "2021-10-06T18:30:06.971777",
     "status": "completed"
    },
    "tags": []
   },
   "outputs": [],
   "source": [
    "import pandas as pd\n",
    "import sqlite3"
   ]
  },
  {
   "cell_type": "code",
   "execution_count": 2,
   "id": "innovative-syndrome",
   "metadata": {
    "execution": {
     "iopub.execute_input": "2021-10-06T18:30:07.879784Z",
     "iopub.status.busy": "2021-10-06T18:30:07.877782Z",
     "iopub.status.idle": "2021-10-06T18:30:08.341707Z",
     "shell.execute_reply": "2021-10-06T18:30:08.342988Z"
    },
    "papermill": {
     "duration": 0.49324,
     "end_time": "2021-10-06T18:30:08.343433",
     "exception": false,
     "start_time": "2021-10-06T18:30:07.850193",
     "status": "completed"
    },
    "tags": []
   },
   "outputs": [],
   "source": [
    "timestamps = pd.read_sql(\"select distinct record_time from EBAY_TOP_BERLIN order by record_time desc limit 2\", sqlite3.connect(\"UsedObjects.db\"))"
   ]
  },
  {
   "cell_type": "code",
   "execution_count": 3,
   "id": "periodic-identification",
   "metadata": {
    "execution": {
     "iopub.execute_input": "2021-10-06T18:30:08.407064Z",
     "iopub.status.busy": "2021-10-06T18:30:08.404977Z",
     "iopub.status.idle": "2021-10-06T18:30:08.424727Z",
     "shell.execute_reply": "2021-10-06T18:30:08.425876Z"
    },
    "papermill": {
     "duration": 0.063352,
     "end_time": "2021-10-06T18:30:08.426282",
     "exception": false,
     "start_time": "2021-10-06T18:30:08.362930",
     "status": "completed"
    },
    "tags": []
   },
   "outputs": [
    {
     "data": {
      "text/html": [
       "<div>\n",
       "<style scoped>\n",
       "    .dataframe tbody tr th:only-of-type {\n",
       "        vertical-align: middle;\n",
       "    }\n",
       "\n",
       "    .dataframe tbody tr th {\n",
       "        vertical-align: top;\n",
       "    }\n",
       "\n",
       "    .dataframe thead th {\n",
       "        text-align: right;\n",
       "    }\n",
       "</style>\n",
       "<table border=\"1\" class=\"dataframe\">\n",
       "  <thead>\n",
       "    <tr style=\"text-align: right;\">\n",
       "      <th></th>\n",
       "      <th>RECORD_TIME</th>\n",
       "    </tr>\n",
       "  </thead>\n",
       "  <tbody>\n",
       "    <tr>\n",
       "      <th>0</th>\n",
       "      <td>2021-10-06 20:30</td>\n",
       "    </tr>\n",
       "    <tr>\n",
       "      <th>1</th>\n",
       "      <td>2021-10-06 20:00</td>\n",
       "    </tr>\n",
       "  </tbody>\n",
       "</table>\n",
       "</div>"
      ],
      "text/plain": [
       "        RECORD_TIME\n",
       "0  2021-10-06 20:30\n",
       "1  2021-10-06 20:00"
      ]
     },
     "execution_count": 3,
     "metadata": {},
     "output_type": "execute_result"
    }
   ],
   "source": [
    "timestamps"
   ]
  },
  {
   "cell_type": "code",
   "execution_count": 4,
   "id": "alternate-victory",
   "metadata": {
    "execution": {
     "iopub.execute_input": "2021-10-06T18:30:08.488954Z",
     "iopub.status.busy": "2021-10-06T18:30:08.486694Z",
     "iopub.status.idle": "2021-10-06T18:30:09.167579Z",
     "shell.execute_reply": "2021-10-06T18:30:09.168882Z"
    },
    "papermill": {
     "duration": 0.71418,
     "end_time": "2021-10-06T18:30:09.169274",
     "exception": false,
     "start_time": "2021-10-06T18:30:08.455094",
     "status": "completed"
    },
    "tags": []
   },
   "outputs": [],
   "source": [
    "df = pd.read_sql(\"select * from EBAY_TOP_BERLIN where record_time in (select distinct record_time from EBAY_TOP_BERLIN order by record_time desc limit 2)\", sqlite3.connect(\"UsedObjects.db\"))"
   ]
  },
  {
   "cell_type": "code",
   "execution_count": 5,
   "id": "popular-active",
   "metadata": {
    "execution": {
     "iopub.execute_input": "2021-10-06T18:30:09.239565Z",
     "iopub.status.busy": "2021-10-06T18:30:09.228145Z",
     "iopub.status.idle": "2021-10-06T18:30:09.255334Z",
     "shell.execute_reply": "2021-10-06T18:30:09.256636Z"
    },
    "papermill": {
     "duration": 0.067464,
     "end_time": "2021-10-06T18:30:09.257044",
     "exception": false,
     "start_time": "2021-10-06T18:30:09.189580",
     "status": "completed"
    },
    "tags": []
   },
   "outputs": [],
   "source": [
    "df_pivot = df.pivot_table(index=\"PRODUCT\", columns = \"RECORD_TIME\", values = \"LISTING_COUNT\")"
   ]
  },
  {
   "cell_type": "code",
   "execution_count": 6,
   "id": "union-huntington",
   "metadata": {
    "execution": {
     "iopub.execute_input": "2021-10-06T18:30:09.313300Z",
     "iopub.status.busy": "2021-10-06T18:30:09.311236Z",
     "iopub.status.idle": "2021-10-06T18:30:09.316359Z",
     "shell.execute_reply": "2021-10-06T18:30:09.317627Z"
    },
    "papermill": {
     "duration": 0.040012,
     "end_time": "2021-10-06T18:30:09.318033",
     "exception": false,
     "start_time": "2021-10-06T18:30:09.278021",
     "status": "completed"
    },
    "tags": []
   },
   "outputs": [],
   "source": [
    "df_pivot.columns = [\"stamp_1\", \"stamp_2\"]\n",
    "df_pivot_diff = df_pivot.diff(axis=1)"
   ]
  },
  {
   "cell_type": "code",
   "execution_count": 7,
   "id": "fifth-motion",
   "metadata": {
    "execution": {
     "iopub.execute_input": "2021-10-06T18:30:09.374449Z",
     "iopub.status.busy": "2021-10-06T18:30:09.371828Z",
     "iopub.status.idle": "2021-10-06T18:30:10.834506Z",
     "shell.execute_reply": "2021-10-06T18:30:10.835870Z"
    },
    "papermill": {
     "duration": 1.496343,
     "end_time": "2021-10-06T18:30:10.836325",
     "exception": false,
     "start_time": "2021-10-06T18:30:09.339982",
     "status": "completed"
    },
    "tags": []
   },
   "outputs": [
    {
     "data": {
      "text/plain": [
       "<AxesSubplot:ylabel='PRODUCT'>"
      ]
     },
     "execution_count": 7,
     "metadata": {},
     "output_type": "execute_result"
    },
    {
     "data": {
      "image/png": "[encoded data removed]",
      "text/plain": [
       "<Figure size 432x288 with 1 Axes>"
      ]
     },
     "metadata": {
      "needs_background": "light"
     },
     "output_type": "display_data"
    }
   ],
   "source": [
    "df_pivot_diff.sort_values(\"stamp_2\", ascending = False)[\"stamp_2\"].head(10).plot.barh()"
   ]
  },
  {
   "cell_type": "code",
   "execution_count": null,
   "id": "extra-executive",
   "metadata": {
    "papermill": {
     "duration": 0.02195,
     "end_time": "2021-10-06T18:30:10.882309",
     "exception": false,
     "start_time": "2021-10-06T18:30:10.860359",
     "status": "completed"
    },
    "tags": []
   },
   "outputs": [],
   "source": []
  }
 ],
 "metadata": {
  "kernelspec": {
   "display_name": "Python 3",
   "language": "python",
   "name": "python3"
  },
  "language_info": {
   "codemirror_mode": {
    "name": "ipython",
    "version": 3
   },
   "file_extension": ".py",
   "mimetype": "text/x-python",
   "name": "python",
   "nbconvert_exporter": "python",
   "pygments_lexer": "ipython3",
   "version": "3.9.5"
  },
  "papermill": {
   "default_parameters": {},
   "duration": 7.821935,
   "end_time": "2021-10-06T18:30:12.388045",
   "environment_variables": {},
   "exception": null,
   "input_path": "eBay_Overview.ipynb",
   "output_path": "eBay_Overview.ipynb",
   "parameters": {},
   "start_time": "2021-10-06T18:30:04.566110",
   "version": "2.3.3"
  }
 },
 "nbformat": 4,
 "nbformat_minor": 5
}