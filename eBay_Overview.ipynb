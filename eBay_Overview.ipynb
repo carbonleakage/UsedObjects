{
 "cells": [
  {
   "cell_type": "code",
   "execution_count": 1,
   "id": "reverse-picking",
   "metadata": {
    "execution": {
     "iopub.execute_input": "2021-12-14T05:30:08.035845Z",
     "iopub.status.busy": "2021-12-14T05:30:08.033644Z",
     "iopub.status.idle": "2021-12-14T05:30:08.998703Z",
     "shell.execute_reply": "2021-12-14T05:30:09.000345Z"
    },
    "papermill": {
     "duration": 1.013599,
     "end_time": "2021-12-14T05:30:09.001163",
     "exception": false,
     "start_time": "2021-12-14T05:30:07.987564",
     "status": "completed"
    },
    "tags": []
   },
   "outputs": [],
   "source": [
    "import pandas as pd\n",
    "import sqlite3"
   ]
  },
  {
   "cell_type": "code",
   "execution_count": 2,
   "id": "innovative-syndrome",
   "metadata": {
    "execution": {
     "iopub.execute_input": "2021-12-14T05:30:09.067880Z",
     "iopub.status.busy": "2021-12-14T05:30:09.065390Z",
     "iopub.status.idle": "2021-12-14T05:30:10.158714Z",
     "shell.execute_reply": "2021-12-14T05:30:10.159917Z"
    },
    "papermill": {
     "duration": 1.128912,
     "end_time": "2021-12-14T05:30:10.160311",
     "exception": false,
     "start_time": "2021-12-14T05:30:09.031399",
     "status": "completed"
    },
    "tags": []
   },
   "outputs": [],
   "source": [
    "timestamps = pd.read_sql(\"select distinct record_time from EBAY_TOP_BERLIN order by record_time desc limit 2\", sqlite3.connect(\"UsedObjects.db\"))"
   ]
  },
  {
   "cell_type": "code",
   "execution_count": 3,
   "id": "periodic-identification",
   "metadata": {
    "execution": {
     "iopub.execute_input": "2021-12-14T05:30:10.229051Z",
     "iopub.status.busy": "2021-12-14T05:30:10.226722Z",
     "iopub.status.idle": "2021-12-14T05:30:10.248887Z",
     "shell.execute_reply": "2021-12-14T05:30:10.250481Z"
    },
    "papermill": {
     "duration": 0.070521,
     "end_time": "2021-12-14T05:30:10.251037",
     "exception": false,
     "start_time": "2021-12-14T05:30:10.180516",
     "status": "completed"
    },
    "tags": []
   },
   "outputs": [
    {
     "data": {
      "text/html": [
       "<div>\n",
       "<style scoped>\n",
       "    .dataframe tbody tr th:only-of-type {\n",
       "        vertical-align: middle;\n",
       "    }\n",
       "\n",
       "    .dataframe tbody tr th {\n",
       "        vertical-align: top;\n",
       "    }\n",
       "\n",
       "    .dataframe thead th {\n",
       "        text-align: right;\n",
       "    }\n",
       "</style>\n",
       "<table border=\"1\" class=\"dataframe\">\n",
       "  <thead>\n",
       "    <tr style=\"text-align: right;\">\n",
       "      <th></th>\n",
       "      <th>RECORD_TIME</th>\n",
       "    </tr>\n",
       "  </thead>\n",
       "  <tbody>\n",
       "    <tr>\n",
       "      <th>0</th>\n",
       "      <td>2021-12-14 06:30</td>\n",
       "    </tr>\n",
       "    <tr>\n",
       "      <th>1</th>\n",
       "      <td>2021-12-14 06:00</td>\n",
       "    </tr>\n",
       "  </tbody>\n",
       "</table>\n",
       "</div>"
      ],
      "text/plain": [
       "        RECORD_TIME\n",
       "0  2021-12-14 06:30\n",
       "1  2021-12-14 06:00"
      ]
     },
     "execution_count": 3,
     "metadata": {},
     "output_type": "execute_result"
    }
   ],
   "source": [
    "timestamps"
   ]
  },
  {
   "cell_type": "code",
   "execution_count": 4,
   "id": "alternate-victory",
   "metadata": {
    "execution": {
     "iopub.execute_input": "2021-12-14T05:30:10.304473Z",
     "iopub.status.busy": "2021-12-14T05:30:10.299835Z",
     "iopub.status.idle": "2021-12-14T05:30:11.904262Z",
     "shell.execute_reply": "2021-12-14T05:30:11.905812Z"
    },
    "papermill": {
     "duration": 1.634499,
     "end_time": "2021-12-14T05:30:11.906282",
     "exception": false,
     "start_time": "2021-12-14T05:30:10.271783",
     "status": "completed"
    },
    "tags": []
   },
   "outputs": [],
   "source": [
    "df = pd.read_sql(\"select * from EBAY_TOP_BERLIN where record_time in (select distinct record_time from EBAY_TOP_BERLIN order by record_time desc limit 2)\", sqlite3.connect(\"UsedObjects.db\"))"
   ]
  },
  {
   "cell_type": "code",
   "execution_count": 5,
   "id": "popular-active",
   "metadata": {
    "execution": {
     "iopub.execute_input": "2021-12-14T05:30:11.977809Z",
     "iopub.status.busy": "2021-12-14T05:30:11.968912Z",
     "iopub.status.idle": "2021-12-14T05:30:12.002170Z",
     "shell.execute_reply": "2021-12-14T05:30:12.003625Z"
    },
    "papermill": {
     "duration": 0.077235,
     "end_time": "2021-12-14T05:30:12.004091",
     "exception": false,
     "start_time": "2021-12-14T05:30:11.926856",
     "status": "completed"
    },
    "tags": []
   },
   "outputs": [],
   "source": [
    "df_pivot = df.pivot_table(index=\"PRODUCT\", columns = \"RECORD_TIME\", values = \"LISTING_COUNT\")"
   ]
  },
  {
   "cell_type": "code",
   "execution_count": 6,
   "id": "union-huntington",
   "metadata": {
    "execution": {
     "iopub.execute_input": "2021-12-14T05:30:12.061801Z",
     "iopub.status.busy": "2021-12-14T05:30:12.059512Z",
     "iopub.status.idle": "2021-12-14T05:30:12.065298Z",
     "shell.execute_reply": "2021-12-14T05:30:12.066644Z"
    },
    "papermill": {
     "duration": 0.043188,
     "end_time": "2021-12-14T05:30:12.067120",
     "exception": false,
     "start_time": "2021-12-14T05:30:12.023932",
     "status": "completed"
    },
    "tags": []
   },
   "outputs": [],
   "source": [
    "df_pivot.columns = [\"stamp_1\", \"stamp_2\"]\n",
    "df_pivot_diff = df_pivot.diff(axis=1)"
   ]
  },
  {
   "cell_type": "code",
   "execution_count": 7,
   "id": "fifth-motion",
   "metadata": {
    "execution": {
     "iopub.execute_input": "2021-12-14T05:30:12.129116Z",
     "iopub.status.busy": "2021-12-14T05:30:12.123857Z",
     "iopub.status.idle": "2021-12-14T05:30:14.129697Z",
     "shell.execute_reply": "2021-12-14T05:30:14.130884Z"
    },
    "papermill": {
     "duration": 2.043328,
     "end_time": "2021-12-14T05:30:14.131314",
     "exception": false,
     "start_time": "2021-12-14T05:30:12.087986",
     "status": "completed"
    },
    "tags": []
   },
   "outputs": [
    {
     "data": {
      "text/plain": [
       "<AxesSubplot:ylabel='PRODUCT'>"
      ]
     },
     "execution_count": 7,
     "metadata": {},
     "output_type": "execute_result"
    },
    {
     "data": {
      "image/png": "[encoded data removed]",
      "text/plain": [
       "<Figure size 432x288 with 1 Axes>"
      ]
     },
     "metadata": {
      "needs_background": "light"
     },
     "output_type": "display_data"
    }
   ],
   "source": [
    "df_pivot_diff.sort_values(\"stamp_2\", ascending = False)[\"stamp_2\"].head(10).plot.barh()"
   ]
  },
  {
   "cell_type": "code",
   "execution_count": null,
   "id": "extra-executive",
   "metadata": {
    "papermill": {
     "duration": 0.026656,
     "end_time": "2021-12-14T05:30:14.192392",
     "exception": false,
     "start_time": "2021-12-14T05:30:14.165736",
     "status": "completed"
    },
    "tags": []
   },
   "outputs": [],
   "source": []
  }
 ],
 "metadata": {
  "kernelspec": {
   "display_name": "Python 3",
   "language": "python",
   "name": "python3"
  },
  "language_info": {
   "codemirror_mode": {
    "name": "ipython",
    "version": 3
   },
   "file_extension": ".py",
   "mimetype": "text/x-python",
   "name": "python",
   "nbconvert_exporter": "python",
   "pygments_lexer": "ipython3",
   "version": "3.9.5"
  },
  "papermill": {
   "default_parameters": {},
   "duration": 9.590552,
   "end_time": "2021-12-14T05:30:14.838224",
   "environment_variables": {},
   "exception": null,
   "input_path": "eBay_Overview.ipynb",
   "output_path": "eBay_Overview.ipynb",
   "parameters": {},
   "start_time": "2021-12-14T05:30:05.247672",
   "version": "2.3.3"
  }
 },
 "nbformat": 4,
 "nbformat_minor": 5
}