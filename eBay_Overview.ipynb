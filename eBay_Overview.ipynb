{
 "cells": [
  {
   "cell_type": "code",
   "execution_count": 1,
   "id": "reverse-picking",
   "metadata": {
    "execution": {
     "iopub.execute_input": "2021-10-23T17:30:07.194836Z",
     "iopub.status.busy": "2021-10-23T17:30:07.192798Z",
     "iopub.status.idle": "2021-10-23T17:30:07.998191Z",
     "shell.execute_reply": "2021-10-23T17:30:07.999417Z"
    },
    "papermill": {
     "duration": 0.855525,
     "end_time": "2021-10-23T17:30:08.000018",
     "exception": false,
     "start_time": "2021-10-23T17:30:07.144493",
     "status": "completed"
    },
    "tags": []
   },
   "outputs": [],
   "source": [
    "import pandas as pd\n",
    "import sqlite3"
   ]
  },
  {
   "cell_type": "code",
   "execution_count": 2,
   "id": "innovative-syndrome",
   "metadata": {
    "execution": {
     "iopub.execute_input": "2021-10-23T17:30:08.053380Z",
     "iopub.status.busy": "2021-10-23T17:30:08.050972Z",
     "iopub.status.idle": "2021-10-23T17:30:08.684066Z",
     "shell.execute_reply": "2021-10-23T17:30:08.685478Z"
    },
    "papermill": {
     "duration": 0.662971,
     "end_time": "2021-10-23T17:30:08.685887",
     "exception": false,
     "start_time": "2021-10-23T17:30:08.022916",
     "status": "completed"
    },
    "tags": []
   },
   "outputs": [],
   "source": [
    "timestamps = pd.read_sql(\"select distinct record_time from EBAY_TOP_BERLIN order by record_time desc limit 2\", sqlite3.connect(\"UsedObjects.db\"))"
   ]
  },
  {
   "cell_type": "code",
   "execution_count": 3,
   "id": "periodic-identification",
   "metadata": {
    "execution": {
     "iopub.execute_input": "2021-10-23T17:30:08.762022Z",
     "iopub.status.busy": "2021-10-23T17:30:08.756601Z",
     "iopub.status.idle": "2021-10-23T17:30:08.778147Z",
     "shell.execute_reply": "2021-10-23T17:30:08.779649Z"
    },
    "papermill": {
     "duration": 0.06961,
     "end_time": "2021-10-23T17:30:08.780103",
     "exception": false,
     "start_time": "2021-10-23T17:30:08.710493",
     "status": "completed"
    },
    "tags": []
   },
   "outputs": [
    {
     "data": {
      "text/html": [
       "<div>\n",
       "<style scoped>\n",
       "    .dataframe tbody tr th:only-of-type {\n",
       "        vertical-align: middle;\n",
       "    }\n",
       "\n",
       "    .dataframe tbody tr th {\n",
       "        vertical-align: top;\n",
       "    }\n",
       "\n",
       "    .dataframe thead th {\n",
       "        text-align: right;\n",
       "    }\n",
       "</style>\n",
       "<table border=\"1\" class=\"dataframe\">\n",
       "  <thead>\n",
       "    <tr style=\"text-align: right;\">\n",
       "      <th></th>\n",
       "      <th>RECORD_TIME</th>\n",
       "    </tr>\n",
       "  </thead>\n",
       "  <tbody>\n",
       "    <tr>\n",
       "      <th>0</th>\n",
       "      <td>2021-10-23 19:30</td>\n",
       "    </tr>\n",
       "    <tr>\n",
       "      <th>1</th>\n",
       "      <td>2021-10-23 19:00</td>\n",
       "    </tr>\n",
       "  </tbody>\n",
       "</table>\n",
       "</div>"
      ],
      "text/plain": [
       "        RECORD_TIME\n",
       "0  2021-10-23 19:30\n",
       "1  2021-10-23 19:00"
      ]
     },
     "execution_count": 3,
     "metadata": {},
     "output_type": "execute_result"
    }
   ],
   "source": [
    "timestamps"
   ]
  },
  {
   "cell_type": "code",
   "execution_count": 4,
   "id": "alternate-victory",
   "metadata": {
    "execution": {
     "iopub.execute_input": "2021-10-23T17:30:08.832003Z",
     "iopub.status.busy": "2021-10-23T17:30:08.829736Z",
     "iopub.status.idle": "2021-10-23T17:30:09.738038Z",
     "shell.execute_reply": "2021-10-23T17:30:09.739449Z"
    },
    "papermill": {
     "duration": 0.938641,
     "end_time": "2021-10-23T17:30:09.739882",
     "exception": false,
     "start_time": "2021-10-23T17:30:08.801241",
     "status": "completed"
    },
    "tags": []
   },
   "outputs": [],
   "source": [
    "df = pd.read_sql(\"select * from EBAY_TOP_BERLIN where record_time in (select distinct record_time from EBAY_TOP_BERLIN order by record_time desc limit 2)\", sqlite3.connect(\"UsedObjects.db\"))"
   ]
  },
  {
   "cell_type": "code",
   "execution_count": 5,
   "id": "popular-active",
   "metadata": {
    "execution": {
     "iopub.execute_input": "2021-10-23T17:30:09.809573Z",
     "iopub.status.busy": "2021-10-23T17:30:09.797904Z",
     "iopub.status.idle": "2021-10-23T17:30:09.827006Z",
     "shell.execute_reply": "2021-10-23T17:30:09.828198Z"
    },
    "papermill": {
     "duration": 0.067979,
     "end_time": "2021-10-23T17:30:09.828583",
     "exception": false,
     "start_time": "2021-10-23T17:30:09.760604",
     "status": "completed"
    },
    "tags": []
   },
   "outputs": [],
   "source": [
    "df_pivot = df.pivot_table(index=\"PRODUCT\", columns = \"RECORD_TIME\", values = \"LISTING_COUNT\")"
   ]
  },
  {
   "cell_type": "code",
   "execution_count": 6,
   "id": "union-huntington",
   "metadata": {
    "execution": {
     "iopub.execute_input": "2021-10-23T17:30:09.887764Z",
     "iopub.status.busy": "2021-10-23T17:30:09.885321Z",
     "iopub.status.idle": "2021-10-23T17:30:09.891013Z",
     "shell.execute_reply": "2021-10-23T17:30:09.892905Z"
    },
    "papermill": {
     "duration": 0.042539,
     "end_time": "2021-10-23T17:30:09.893368",
     "exception": false,
     "start_time": "2021-10-23T17:30:09.850829",
     "status": "completed"
    },
    "tags": []
   },
   "outputs": [],
   "source": [
    "df_pivot.columns = [\"stamp_1\", \"stamp_2\"]\n",
    "df_pivot_diff = df_pivot.diff(axis=1)"
   ]
  },
  {
   "cell_type": "code",
   "execution_count": 7,
   "id": "fifth-motion",
   "metadata": {
    "execution": {
     "iopub.execute_input": "2021-10-23T17:30:09.948403Z",
     "iopub.status.busy": "2021-10-23T17:30:09.946006Z",
     "iopub.status.idle": "2021-10-23T17:30:11.468941Z",
     "shell.execute_reply": "2021-10-23T17:30:11.470297Z"
    },
    "papermill": {
     "duration": 1.555563,
     "end_time": "2021-10-23T17:30:11.470723",
     "exception": false,
     "start_time": "2021-10-23T17:30:09.915160",
     "status": "completed"
    },
    "tags": []
   },
   "outputs": [
    {
     "data": {
      "text/plain": [
       "<AxesSubplot:ylabel='PRODUCT'>"
      ]
     },
     "execution_count": 7,
     "metadata": {},
     "output_type": "execute_result"
    },
    {
     "data": {
      "image/png": "[encoded data removed]",
      "text/plain": [
       "<Figure size 432x288 with 1 Axes>"
      ]
     },
     "metadata": {
      "needs_background": "light"
     },
     "output_type": "display_data"
    }
   ],
   "source": [
    "df_pivot_diff.sort_values(\"stamp_2\", ascending = False)[\"stamp_2\"].head(10).plot.barh()"
   ]
  },
  {
   "cell_type": "code",
   "execution_count": null,
   "id": "extra-executive",
   "metadata": {
    "papermill": {
     "duration": 0.022064,
     "end_time": "2021-10-23T17:30:11.517429",
     "exception": false,
     "start_time": "2021-10-23T17:30:11.495365",
     "status": "completed"
    },
    "tags": []
   },
   "outputs": [],
   "source": []
  }
 ],
 "metadata": {
  "kernelspec": {
   "display_name": "Python 3",
   "language": "python",
   "name": "python3"
  },
  "language_info": {
   "codemirror_mode": {
    "name": "ipython",
    "version": 3
   },
   "file_extension": ".py",
   "mimetype": "text/x-python",
   "name": "python",
   "nbconvert_exporter": "python",
   "pygments_lexer": "ipython3",
   "version": "3.9.5"
  },
  "papermill": {
   "default_parameters": {},
   "duration": 7.417139,
   "end_time": "2021-10-23T17:30:12.161571",
   "environment_variables": {},
   "exception": null,
   "input_path": "eBay_Overview.ipynb",
   "output_path": "eBay_Overview.ipynb",
   "parameters": {},
   "start_time": "2021-10-23T17:30:04.744432",
   "version": "2.3.3"
  }
 },
 "nbformat": 4,
 "nbformat_minor": 5
}