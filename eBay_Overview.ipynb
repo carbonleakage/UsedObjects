{
 "cells": [
  {
   "cell_type": "code",
   "execution_count": 1,
   "id": "reverse-picking",
   "metadata": {
    "execution": {
     "iopub.execute_input": "2021-08-25T18:30:07.287504Z",
     "iopub.status.busy": "2021-08-25T18:30:07.285533Z",
     "iopub.status.idle": "2021-08-25T18:30:08.086154Z",
     "shell.execute_reply": "2021-08-25T18:30:08.087470Z"
    },
    "papermill": {
     "duration": 0.85117,
     "end_time": "2021-08-25T18:30:08.088120",
     "exception": false,
     "start_time": "2021-08-25T18:30:07.236950",
     "status": "completed"
    },
    "tags": []
   },
   "outputs": [],
   "source": [
    "import pandas as pd\n",
    "import sqlite3"
   ]
  },
  {
   "cell_type": "code",
   "execution_count": 2,
   "id": "innovative-syndrome",
   "metadata": {
    "execution": {
     "iopub.execute_input": "2021-08-25T18:30:08.138483Z",
     "iopub.status.busy": "2021-08-25T18:30:08.136602Z",
     "iopub.status.idle": "2021-08-25T18:30:08.271818Z",
     "shell.execute_reply": "2021-08-25T18:30:08.273352Z"
    },
    "papermill": {
     "duration": 0.165266,
     "end_time": "2021-08-25T18:30:08.273789",
     "exception": false,
     "start_time": "2021-08-25T18:30:08.108523",
     "status": "completed"
    },
    "tags": []
   },
   "outputs": [],
   "source": [
    "timestamps = pd.read_sql(\"select distinct record_time from EBAY_TOP_BERLIN order by record_time desc limit 2\", sqlite3.connect(\"UsedObjects.db\"))"
   ]
  },
  {
   "cell_type": "code",
   "execution_count": 3,
   "id": "periodic-identification",
   "metadata": {
    "execution": {
     "iopub.execute_input": "2021-08-25T18:30:08.339572Z",
     "iopub.status.busy": "2021-08-25T18:30:08.337530Z",
     "iopub.status.idle": "2021-08-25T18:30:08.357499Z",
     "shell.execute_reply": "2021-08-25T18:30:08.359130Z"
    },
    "papermill": {
     "duration": 0.066421,
     "end_time": "2021-08-25T18:30:08.359628",
     "exception": false,
     "start_time": "2021-08-25T18:30:08.293207",
     "status": "completed"
    },
    "tags": []
   },
   "outputs": [
    {
     "data": {
      "text/html": [
       "<div>\n",
       "<style scoped>\n",
       "    .dataframe tbody tr th:only-of-type {\n",
       "        vertical-align: middle;\n",
       "    }\n",
       "\n",
       "    .dataframe tbody tr th {\n",
       "        vertical-align: top;\n",
       "    }\n",
       "\n",
       "    .dataframe thead th {\n",
       "        text-align: right;\n",
       "    }\n",
       "</style>\n",
       "<table border=\"1\" class=\"dataframe\">\n",
       "  <thead>\n",
       "    <tr style=\"text-align: right;\">\n",
       "      <th></th>\n",
       "      <th>RECORD_TIME</th>\n",
       "    </tr>\n",
       "  </thead>\n",
       "  <tbody>\n",
       "    <tr>\n",
       "      <th>0</th>\n",
       "      <td>2021-08-25 20:30</td>\n",
       "    </tr>\n",
       "    <tr>\n",
       "      <th>1</th>\n",
       "      <td>2021-08-25 20:00</td>\n",
       "    </tr>\n",
       "  </tbody>\n",
       "</table>\n",
       "</div>"
      ],
      "text/plain": [
       "        RECORD_TIME\n",
       "0  2021-08-25 20:30\n",
       "1  2021-08-25 20:00"
      ]
     },
     "execution_count": 3,
     "metadata": {},
     "output_type": "execute_result"
    }
   ],
   "source": [
    "timestamps"
   ]
  },
  {
   "cell_type": "code",
   "execution_count": 4,
   "id": "alternate-victory",
   "metadata": {
    "execution": {
     "iopub.execute_input": "2021-08-25T18:30:08.412451Z",
     "iopub.status.busy": "2021-08-25T18:30:08.410447Z",
     "iopub.status.idle": "2021-08-25T18:30:08.602789Z",
     "shell.execute_reply": "2021-08-25T18:30:08.603922Z"
    },
    "papermill": {
     "duration": 0.222827,
     "end_time": "2021-08-25T18:30:08.604391",
     "exception": false,
     "start_time": "2021-08-25T18:30:08.381564",
     "status": "completed"
    },
    "tags": []
   },
   "outputs": [],
   "source": [
    "df = pd.read_sql(\"select * from EBAY_TOP_BERLIN where record_time in (select distinct record_time from EBAY_TOP_BERLIN order by record_time desc limit 2)\", sqlite3.connect(\"UsedObjects.db\"))"
   ]
  },
  {
   "cell_type": "code",
   "execution_count": 5,
   "id": "popular-active",
   "metadata": {
    "execution": {
     "iopub.execute_input": "2021-08-25T18:30:08.676662Z",
     "iopub.status.busy": "2021-08-25T18:30:08.664080Z",
     "iopub.status.idle": "2021-08-25T18:30:08.692138Z",
     "shell.execute_reply": "2021-08-25T18:30:08.693417Z"
    },
    "papermill": {
     "duration": 0.067512,
     "end_time": "2021-08-25T18:30:08.693811",
     "exception": false,
     "start_time": "2021-08-25T18:30:08.626299",
     "status": "completed"
    },
    "tags": []
   },
   "outputs": [],
   "source": [
    "df_pivot = df.pivot_table(index=\"PRODUCT\", columns = \"RECORD_TIME\", values = \"LISTING_COUNT\")"
   ]
  },
  {
   "cell_type": "code",
   "execution_count": 6,
   "id": "union-huntington",
   "metadata": {
    "execution": {
     "iopub.execute_input": "2021-08-25T18:30:08.755856Z",
     "iopub.status.busy": "2021-08-25T18:30:08.753702Z",
     "iopub.status.idle": "2021-08-25T18:30:08.759212Z",
     "shell.execute_reply": "2021-08-25T18:30:08.760605Z"
    },
    "papermill": {
     "duration": 0.045757,
     "end_time": "2021-08-25T18:30:08.761037",
     "exception": false,
     "start_time": "2021-08-25T18:30:08.715280",
     "status": "completed"
    },
    "tags": []
   },
   "outputs": [],
   "source": [
    "df_pivot.columns = [\"stamp_1\", \"stamp_2\"]\n",
    "df_pivot_diff = df_pivot.diff(axis=1)"
   ]
  },
  {
   "cell_type": "code",
   "execution_count": 7,
   "id": "fifth-motion",
   "metadata": {
    "execution": {
     "iopub.execute_input": "2021-08-25T18:30:08.815373Z",
     "iopub.status.busy": "2021-08-25T18:30:08.813066Z",
     "iopub.status.idle": "2021-08-25T18:30:10.292401Z",
     "shell.execute_reply": "2021-08-25T18:30:10.293699Z"
    },
    "papermill": {
     "duration": 1.512773,
     "end_time": "2021-08-25T18:30:10.294116",
     "exception": false,
     "start_time": "2021-08-25T18:30:08.781343",
     "status": "completed"
    },
    "tags": []
   },
   "outputs": [
    {
     "data": {
      "text/plain": [
       "<AxesSubplot:ylabel='PRODUCT'>"
      ]
     },
     "execution_count": 7,
     "metadata": {},
     "output_type": "execute_result"
    },
    {
     "data": {
      "image/png": "[encoded data removed]",
      "text/plain": [
       "<Figure size 432x288 with 1 Axes>"
      ]
     },
     "metadata": {
      "needs_background": "light"
     },
     "output_type": "display_data"
    }
   ],
   "source": [
    "df_pivot_diff.sort_values(\"stamp_2\", ascending = False)[\"stamp_2\"].head(10).plot.barh()"
   ]
  },
  {
   "cell_type": "code",
   "execution_count": null,
   "id": "extra-executive",
   "metadata": {
    "papermill": {
     "duration": 0.022226,
     "end_time": "2021-08-25T18:30:10.341131",
     "exception": false,
     "start_time": "2021-08-25T18:30:10.318905",
     "status": "completed"
    },
    "tags": []
   },
   "outputs": [],
   "source": []
  }
 ],
 "metadata": {
  "kernelspec": {
   "display_name": "Python 3",
   "language": "python",
   "name": "python3"
  },
  "language_info": {
   "codemirror_mode": {
    "name": "ipython",
    "version": 3
   },
   "file_extension": ".py",
   "mimetype": "text/x-python",
   "name": "python",
   "nbconvert_exporter": "python",
   "pygments_lexer": "ipython3",
   "version": "3.9.5"
  },
  "papermill": {
   "default_parameters": {},
   "duration": 6.817454,
   "end_time": "2021-08-25T18:30:11.664833",
   "environment_variables": {},
   "exception": null,
   "input_path": "eBay_Overview.ipynb",
   "output_path": "eBay_Overview.ipynb",
   "parameters": {},
   "start_time": "2021-08-25T18:30:04.847379",
   "version": "2.3.3"
  }
 },
 "nbformat": 4,
 "nbformat_minor": 5
}