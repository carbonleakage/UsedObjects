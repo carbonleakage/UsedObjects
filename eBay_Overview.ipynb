{
 "cells": [
  {
   "cell_type": "code",
   "execution_count": 1,
   "id": "reverse-picking",
   "metadata": {
    "execution": {
     "iopub.execute_input": "2021-08-16T16:00:06.791875Z",
     "iopub.status.busy": "2021-08-16T16:00:06.789846Z",
     "iopub.status.idle": "2021-08-16T16:00:07.607244Z",
     "shell.execute_reply": "2021-08-16T16:00:07.608534Z"
    },
    "papermill": {
     "duration": 0.870218,
     "end_time": "2021-08-16T16:00:07.609178",
     "exception": false,
     "start_time": "2021-08-16T16:00:06.738960",
     "status": "completed"
    },
    "tags": []
   },
   "outputs": [],
   "source": [
    "import pandas as pd\n",
    "import sqlite3"
   ]
  },
  {
   "cell_type": "code",
   "execution_count": 2,
   "id": "innovative-syndrome",
   "metadata": {
    "execution": {
     "iopub.execute_input": "2021-08-16T16:00:07.659027Z",
     "iopub.status.busy": "2021-08-16T16:00:07.657044Z",
     "iopub.status.idle": "2021-08-16T16:00:07.718653Z",
     "shell.execute_reply": "2021-08-16T16:00:07.720029Z"
    },
    "papermill": {
     "duration": 0.091416,
     "end_time": "2021-08-16T16:00:07.720482",
     "exception": false,
     "start_time": "2021-08-16T16:00:07.629066",
     "status": "completed"
    },
    "tags": []
   },
   "outputs": [],
   "source": [
    "timestamps = pd.read_sql(\"select distinct record_time from EBAY_TOP_BERLIN order by record_time desc limit 2\", sqlite3.connect(\"UsedObjects.db\"))"
   ]
  },
  {
   "cell_type": "code",
   "execution_count": 3,
   "id": "periodic-identification",
   "metadata": {
    "execution": {
     "iopub.execute_input": "2021-08-16T16:00:07.786956Z",
     "iopub.status.busy": "2021-08-16T16:00:07.784852Z",
     "iopub.status.idle": "2021-08-16T16:00:07.804798Z",
     "shell.execute_reply": "2021-08-16T16:00:07.806129Z"
    },
    "papermill": {
     "duration": 0.066562,
     "end_time": "2021-08-16T16:00:07.806566",
     "exception": false,
     "start_time": "2021-08-16T16:00:07.740004",
     "status": "completed"
    },
    "tags": []
   },
   "outputs": [
    {
     "data": {
      "text/html": [
       "<div>\n",
       "<style scoped>\n",
       "    .dataframe tbody tr th:only-of-type {\n",
       "        vertical-align: middle;\n",
       "    }\n",
       "\n",
       "    .dataframe tbody tr th {\n",
       "        vertical-align: top;\n",
       "    }\n",
       "\n",
       "    .dataframe thead th {\n",
       "        text-align: right;\n",
       "    }\n",
       "</style>\n",
       "<table border=\"1\" class=\"dataframe\">\n",
       "  <thead>\n",
       "    <tr style=\"text-align: right;\">\n",
       "      <th></th>\n",
       "      <th>RECORD_TIME</th>\n",
       "    </tr>\n",
       "  </thead>\n",
       "  <tbody>\n",
       "    <tr>\n",
       "      <th>0</th>\n",
       "      <td>2021-08-16 18:00</td>\n",
       "    </tr>\n",
       "    <tr>\n",
       "      <th>1</th>\n",
       "      <td>2021-08-16 17:30</td>\n",
       "    </tr>\n",
       "  </tbody>\n",
       "</table>\n",
       "</div>"
      ],
      "text/plain": [
       "        RECORD_TIME\n",
       "0  2021-08-16 18:00\n",
       "1  2021-08-16 17:30"
      ]
     },
     "execution_count": 3,
     "metadata": {},
     "output_type": "execute_result"
    }
   ],
   "source": [
    "timestamps"
   ]
  },
  {
   "cell_type": "code",
   "execution_count": 4,
   "id": "alternate-victory",
   "metadata": {
    "execution": {
     "iopub.execute_input": "2021-08-16T16:00:07.857653Z",
     "iopub.status.busy": "2021-08-16T16:00:07.855830Z",
     "iopub.status.idle": "2021-08-16T16:00:07.949365Z",
     "shell.execute_reply": "2021-08-16T16:00:07.950636Z"
    },
    "papermill": {
     "duration": 0.123307,
     "end_time": "2021-08-16T16:00:07.951049",
     "exception": false,
     "start_time": "2021-08-16T16:00:07.827742",
     "status": "completed"
    },
    "tags": []
   },
   "outputs": [],
   "source": [
    "df = pd.read_sql(\"select * from EBAY_TOP_BERLIN where record_time in (select distinct record_time from EBAY_TOP_BERLIN order by record_time desc limit 2)\", sqlite3.connect(\"UsedObjects.db\"))"
   ]
  },
  {
   "cell_type": "code",
   "execution_count": 5,
   "id": "popular-active",
   "metadata": {
    "execution": {
     "iopub.execute_input": "2021-08-16T16:00:08.020084Z",
     "iopub.status.busy": "2021-08-16T16:00:08.008655Z",
     "iopub.status.idle": "2021-08-16T16:00:08.037012Z",
     "shell.execute_reply": "2021-08-16T16:00:08.038511Z"
    },
    "papermill": {
     "duration": 0.067379,
     "end_time": "2021-08-16T16:00:08.038958",
     "exception": false,
     "start_time": "2021-08-16T16:00:07.971579",
     "status": "completed"
    },
    "tags": []
   },
   "outputs": [],
   "source": [
    "df_pivot = df.pivot_table(index=\"PRODUCT\", columns = \"RECORD_TIME\", values = \"LISTING_COUNT\")"
   ]
  },
  {
   "cell_type": "code",
   "execution_count": 6,
   "id": "union-huntington",
   "metadata": {
    "execution": {
     "iopub.execute_input": "2021-08-16T16:00:08.096007Z",
     "iopub.status.busy": "2021-08-16T16:00:08.093502Z",
     "iopub.status.idle": "2021-08-16T16:00:08.100864Z",
     "shell.execute_reply": "2021-08-16T16:00:08.099491Z"
    },
    "papermill": {
     "duration": 0.042534,
     "end_time": "2021-08-16T16:00:08.101226",
     "exception": false,
     "start_time": "2021-08-16T16:00:08.058692",
     "status": "completed"
    },
    "tags": []
   },
   "outputs": [],
   "source": [
    "df_pivot.columns = [\"stamp_1\", \"stamp_2\"]\n",
    "df_pivot_diff = df_pivot.diff(axis=1)"
   ]
  },
  {
   "cell_type": "code",
   "execution_count": 7,
   "id": "fifth-motion",
   "metadata": {
    "execution": {
     "iopub.execute_input": "2021-08-16T16:00:08.155582Z",
     "iopub.status.busy": "2021-08-16T16:00:08.153086Z",
     "iopub.status.idle": "2021-08-16T16:00:09.675815Z",
     "shell.execute_reply": "2021-08-16T16:00:09.677165Z"
    },
    "papermill": {
     "duration": 1.556021,
     "end_time": "2021-08-16T16:00:09.677616",
     "exception": false,
     "start_time": "2021-08-16T16:00:08.121595",
     "status": "completed"
    },
    "tags": []
   },
   "outputs": [
    {
     "data": {
      "text/plain": [
       "<AxesSubplot:ylabel='PRODUCT'>"
      ]
     },
     "execution_count": 7,
     "metadata": {},
     "output_type": "execute_result"
    },
    {
     "data": {
      "image/png": "[encoded data removed]",
      "text/plain": [
       "<Figure size 432x288 with 1 Axes>"
      ]
     },
     "metadata": {
      "needs_background": "light"
     },
     "output_type": "display_data"
    }
   ],
   "source": [
    "df_pivot_diff.sort_values(\"stamp_2\", ascending = False)[\"stamp_2\"].head(10).plot.barh()"
   ]
  },
  {
   "cell_type": "code",
   "execution_count": null,
   "id": "extra-executive",
   "metadata": {
    "papermill": {
     "duration": 0.022083,
     "end_time": "2021-08-16T16:00:09.723873",
     "exception": false,
     "start_time": "2021-08-16T16:00:09.701790",
     "status": "completed"
    },
    "tags": []
   },
   "outputs": [],
   "source": []
  }
 ],
 "metadata": {
  "kernelspec": {
   "display_name": "Python 3",
   "language": "python",
   "name": "python3"
  },
  "language_info": {
   "codemirror_mode": {
    "name": "ipython",
    "version": 3
   },
   "file_extension": ".py",
   "mimetype": "text/x-python",
   "name": "python",
   "nbconvert_exporter": "python",
   "pygments_lexer": "ipython3",
   "version": "3.9.5"
  },
  "papermill": {
   "default_parameters": {},
   "duration": 6.833653,
   "end_time": "2021-08-16T16:00:11.144180",
   "environment_variables": {},
   "exception": null,
   "input_path": "eBay_Overview.ipynb",
   "output_path": "eBay_Overview.ipynb",
   "parameters": {},
   "start_time": "2021-08-16T16:00:04.310527",
   "version": "2.3.3"
  }
 },
 "nbformat": 4,
 "nbformat_minor": 5
}