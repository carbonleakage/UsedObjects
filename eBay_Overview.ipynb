{
 "cells": [
  {
   "cell_type": "code",
   "execution_count": 1,
   "id": "reverse-picking",
   "metadata": {
    "execution": {
     "iopub.execute_input": "2021-09-17T22:00:06.889226Z",
     "iopub.status.busy": "2021-09-17T22:00:06.887278Z",
     "iopub.status.idle": "2021-09-17T22:00:07.688220Z",
     "shell.execute_reply": "2021-09-17T22:00:07.689644Z"
    },
    "papermill": {
     "duration": 0.852128,
     "end_time": "2021-09-17T22:00:07.690314",
     "exception": false,
     "start_time": "2021-09-17T22:00:06.838186",
     "status": "completed"
    },
    "tags": []
   },
   "outputs": [],
   "source": [
    "import pandas as pd\n",
    "import sqlite3"
   ]
  },
  {
   "cell_type": "code",
   "execution_count": 2,
   "id": "innovative-syndrome",
   "metadata": {
    "execution": {
     "iopub.execute_input": "2021-09-17T22:00:07.740887Z",
     "iopub.status.busy": "2021-09-17T22:00:07.738530Z",
     "iopub.status.idle": "2021-09-17T22:00:08.053802Z",
     "shell.execute_reply": "2021-09-17T22:00:08.055075Z"
    },
    "papermill": {
     "duration": 0.345139,
     "end_time": "2021-09-17T22:00:08.055497",
     "exception": false,
     "start_time": "2021-09-17T22:00:07.710358",
     "status": "completed"
    },
    "tags": []
   },
   "outputs": [],
   "source": [
    "timestamps = pd.read_sql(\"select distinct record_time from EBAY_TOP_BERLIN order by record_time desc limit 2\", sqlite3.connect(\"UsedObjects.db\"))"
   ]
  },
  {
   "cell_type": "code",
   "execution_count": 3,
   "id": "periodic-identification",
   "metadata": {
    "execution": {
     "iopub.execute_input": "2021-09-17T22:00:08.119177Z",
     "iopub.status.busy": "2021-09-17T22:00:08.117072Z",
     "iopub.status.idle": "2021-09-17T22:00:08.136976Z",
     "shell.execute_reply": "2021-09-17T22:00:08.138258Z"
    },
    "papermill": {
     "duration": 0.063144,
     "end_time": "2021-09-17T22:00:08.138676",
     "exception": false,
     "start_time": "2021-09-17T22:00:08.075532",
     "status": "completed"
    },
    "tags": []
   },
   "outputs": [
    {
     "data": {
      "text/html": [
       "<div>\n",
       "<style scoped>\n",
       "    .dataframe tbody tr th:only-of-type {\n",
       "        vertical-align: middle;\n",
       "    }\n",
       "\n",
       "    .dataframe tbody tr th {\n",
       "        vertical-align: top;\n",
       "    }\n",
       "\n",
       "    .dataframe thead th {\n",
       "        text-align: right;\n",
       "    }\n",
       "</style>\n",
       "<table border=\"1\" class=\"dataframe\">\n",
       "  <thead>\n",
       "    <tr style=\"text-align: right;\">\n",
       "      <th></th>\n",
       "      <th>RECORD_TIME</th>\n",
       "    </tr>\n",
       "  </thead>\n",
       "  <tbody>\n",
       "    <tr>\n",
       "      <th>0</th>\n",
       "      <td>2021-09-18 00:00</td>\n",
       "    </tr>\n",
       "    <tr>\n",
       "      <th>1</th>\n",
       "      <td>2021-09-17 23:30</td>\n",
       "    </tr>\n",
       "  </tbody>\n",
       "</table>\n",
       "</div>"
      ],
      "text/plain": [
       "        RECORD_TIME\n",
       "0  2021-09-18 00:00\n",
       "1  2021-09-17 23:30"
      ]
     },
     "execution_count": 3,
     "metadata": {},
     "output_type": "execute_result"
    }
   ],
   "source": [
    "timestamps"
   ]
  },
  {
   "cell_type": "code",
   "execution_count": 4,
   "id": "alternate-victory",
   "metadata": {
    "execution": {
     "iopub.execute_input": "2021-09-17T22:00:08.189730Z",
     "iopub.status.busy": "2021-09-17T22:00:08.187904Z",
     "iopub.status.idle": "2021-09-17T22:00:08.643165Z",
     "shell.execute_reply": "2021-09-17T22:00:08.644418Z"
    },
    "papermill": {
     "duration": 0.484926,
     "end_time": "2021-09-17T22:00:08.644822",
     "exception": false,
     "start_time": "2021-09-17T22:00:08.159896",
     "status": "completed"
    },
    "tags": []
   },
   "outputs": [],
   "source": [
    "df = pd.read_sql(\"select * from EBAY_TOP_BERLIN where record_time in (select distinct record_time from EBAY_TOP_BERLIN order by record_time desc limit 2)\", sqlite3.connect(\"UsedObjects.db\"))"
   ]
  },
  {
   "cell_type": "code",
   "execution_count": 5,
   "id": "popular-active",
   "metadata": {
    "execution": {
     "iopub.execute_input": "2021-09-17T22:00:08.727527Z",
     "iopub.status.busy": "2021-09-17T22:00:08.716147Z",
     "iopub.status.idle": "2021-09-17T22:00:08.744075Z",
     "shell.execute_reply": "2021-09-17T22:00:08.745298Z"
    },
    "papermill": {
     "duration": 0.072156,
     "end_time": "2021-09-17T22:00:08.745698",
     "exception": false,
     "start_time": "2021-09-17T22:00:08.673542",
     "status": "completed"
    },
    "tags": []
   },
   "outputs": [],
   "source": [
    "df_pivot = df.pivot_table(index=\"PRODUCT\", columns = \"RECORD_TIME\", values = \"LISTING_COUNT\")"
   ]
  },
  {
   "cell_type": "code",
   "execution_count": 6,
   "id": "union-huntington",
   "metadata": {
    "execution": {
     "iopub.execute_input": "2021-09-17T22:00:08.800763Z",
     "iopub.status.busy": "2021-09-17T22:00:08.798741Z",
     "iopub.status.idle": "2021-09-17T22:00:08.803654Z",
     "shell.execute_reply": "2021-09-17T22:00:08.804865Z"
    },
    "papermill": {
     "duration": 0.039112,
     "end_time": "2021-09-17T22:00:08.805269",
     "exception": false,
     "start_time": "2021-09-17T22:00:08.766157",
     "status": "completed"
    },
    "tags": []
   },
   "outputs": [],
   "source": [
    "df_pivot.columns = [\"stamp_1\", \"stamp_2\"]\n",
    "df_pivot_diff = df_pivot.diff(axis=1)"
   ]
  },
  {
   "cell_type": "code",
   "execution_count": 7,
   "id": "fifth-motion",
   "metadata": {
    "execution": {
     "iopub.execute_input": "2021-09-17T22:00:08.858992Z",
     "iopub.status.busy": "2021-09-17T22:00:08.856544Z",
     "iopub.status.idle": "2021-09-17T22:00:10.327978Z",
     "shell.execute_reply": "2021-09-17T22:00:10.329360Z"
    },
    "papermill": {
     "duration": 1.504282,
     "end_time": "2021-09-17T22:00:10.329809",
     "exception": false,
     "start_time": "2021-09-17T22:00:08.825527",
     "status": "completed"
    },
    "tags": []
   },
   "outputs": [
    {
     "data": {
      "text/plain": [
       "<AxesSubplot:ylabel='PRODUCT'>"
      ]
     },
     "execution_count": 7,
     "metadata": {},
     "output_type": "execute_result"
    },
    {
     "data": {
      "image/png": "[encoded data removed]",
      "text/plain": [
       "<Figure size 432x288 with 1 Axes>"
      ]
     },
     "metadata": {
      "needs_background": "light"
     },
     "output_type": "display_data"
    }
   ],
   "source": [
    "df_pivot_diff.sort_values(\"stamp_2\", ascending = False)[\"stamp_2\"].head(10).plot.barh()"
   ]
  },
  {
   "cell_type": "code",
   "execution_count": null,
   "id": "extra-executive",
   "metadata": {
    "papermill": {
     "duration": 0.021927,
     "end_time": "2021-09-17T22:00:10.374977",
     "exception": false,
     "start_time": "2021-09-17T22:00:10.353050",
     "status": "completed"
    },
    "tags": []
   },
   "outputs": [],
   "source": []
  }
 ],
 "metadata": {
  "kernelspec": {
   "display_name": "Python 3",
   "language": "python",
   "name": "python3"
  },
  "language_info": {
   "codemirror_mode": {
    "name": "ipython",
    "version": 3
   },
   "file_extension": ".py",
   "mimetype": "text/x-python",
   "name": "python",
   "nbconvert_exporter": "python",
   "pygments_lexer": "ipython3",
   "version": "3.9.5"
  },
  "papermill": {
   "default_parameters": {},
   "duration": 6.564872,
   "end_time": "2021-09-17T22:00:11.015282",
   "environment_variables": {},
   "exception": null,
   "input_path": "eBay_Overview.ipynb",
   "output_path": "eBay_Overview.ipynb",
   "parameters": {},
   "start_time": "2021-09-17T22:00:04.450410",
   "version": "2.3.3"
  }
 },
 "nbformat": 4,
 "nbformat_minor": 5
}