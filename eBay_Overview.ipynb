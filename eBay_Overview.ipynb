{
 "cells": [
  {
   "cell_type": "code",
   "execution_count": 1,
   "id": "reverse-picking",
   "metadata": {
    "execution": {
     "iopub.execute_input": "2021-12-01T17:30:07.978999Z",
     "iopub.status.busy": "2021-12-01T17:30:07.976530Z",
     "iopub.status.idle": "2021-12-01T17:30:08.929391Z",
     "shell.execute_reply": "2021-12-01T17:30:08.927400Z"
    },
    "papermill": {
     "duration": 1.002211,
     "end_time": "2021-12-01T17:30:08.929893",
     "exception": false,
     "start_time": "2021-12-01T17:30:07.927682",
     "status": "completed"
    },
    "tags": []
   },
   "outputs": [],
   "source": [
    "import pandas as pd\n",
    "import sqlite3"
   ]
  },
  {
   "cell_type": "code",
   "execution_count": 2,
   "id": "innovative-syndrome",
   "metadata": {
    "execution": {
     "iopub.execute_input": "2021-12-01T17:30:08.990883Z",
     "iopub.status.busy": "2021-12-01T17:30:08.988503Z",
     "iopub.status.idle": "2021-12-01T17:30:09.968747Z",
     "shell.execute_reply": "2021-12-01T17:30:09.970478Z"
    },
    "papermill": {
     "duration": 1.014627,
     "end_time": "2021-12-01T17:30:09.971022",
     "exception": false,
     "start_time": "2021-12-01T17:30:08.956395",
     "status": "completed"
    },
    "tags": []
   },
   "outputs": [],
   "source": [
    "timestamps = pd.read_sql(\"select distinct record_time from EBAY_TOP_BERLIN order by record_time desc limit 2\", sqlite3.connect(\"UsedObjects.db\"))"
   ]
  },
  {
   "cell_type": "code",
   "execution_count": 3,
   "id": "periodic-identification",
   "metadata": {
    "execution": {
     "iopub.execute_input": "2021-12-01T17:30:10.044337Z",
     "iopub.status.busy": "2021-12-01T17:30:10.042088Z",
     "iopub.status.idle": "2021-12-01T17:30:10.065314Z",
     "shell.execute_reply": "2021-12-01T17:30:10.066660Z"
    },
    "papermill": {
     "duration": 0.072725,
     "end_time": "2021-12-01T17:30:10.067119",
     "exception": false,
     "start_time": "2021-12-01T17:30:09.994394",
     "status": "completed"
    },
    "tags": []
   },
   "outputs": [
    {
     "data": {
      "text/html": [
       "<div>\n",
       "<style scoped>\n",
       "    .dataframe tbody tr th:only-of-type {\n",
       "        vertical-align: middle;\n",
       "    }\n",
       "\n",
       "    .dataframe tbody tr th {\n",
       "        vertical-align: top;\n",
       "    }\n",
       "\n",
       "    .dataframe thead th {\n",
       "        text-align: right;\n",
       "    }\n",
       "</style>\n",
       "<table border=\"1\" class=\"dataframe\">\n",
       "  <thead>\n",
       "    <tr style=\"text-align: right;\">\n",
       "      <th></th>\n",
       "      <th>RECORD_TIME</th>\n",
       "    </tr>\n",
       "  </thead>\n",
       "  <tbody>\n",
       "    <tr>\n",
       "      <th>0</th>\n",
       "      <td>2021-12-01 18:30</td>\n",
       "    </tr>\n",
       "    <tr>\n",
       "      <th>1</th>\n",
       "      <td>2021-12-01 18:00</td>\n",
       "    </tr>\n",
       "  </tbody>\n",
       "</table>\n",
       "</div>"
      ],
      "text/plain": [
       "        RECORD_TIME\n",
       "0  2021-12-01 18:30\n",
       "1  2021-12-01 18:00"
      ]
     },
     "execution_count": 3,
     "metadata": {},
     "output_type": "execute_result"
    }
   ],
   "source": [
    "timestamps"
   ]
  },
  {
   "cell_type": "code",
   "execution_count": 4,
   "id": "alternate-victory",
   "metadata": {
    "execution": {
     "iopub.execute_input": "2021-12-01T17:30:10.124862Z",
     "iopub.status.busy": "2021-12-01T17:30:10.122342Z",
     "iopub.status.idle": "2021-12-01T17:30:11.500589Z",
     "shell.execute_reply": "2021-12-01T17:30:11.502940Z"
    },
    "papermill": {
     "duration": 1.415121,
     "end_time": "2021-12-01T17:30:11.503457",
     "exception": false,
     "start_time": "2021-12-01T17:30:10.088336",
     "status": "completed"
    },
    "tags": []
   },
   "outputs": [],
   "source": [
    "df = pd.read_sql(\"select * from EBAY_TOP_BERLIN where record_time in (select distinct record_time from EBAY_TOP_BERLIN order by record_time desc limit 2)\", sqlite3.connect(\"UsedObjects.db\"))"
   ]
  },
  {
   "cell_type": "code",
   "execution_count": 5,
   "id": "popular-active",
   "metadata": {
    "execution": {
     "iopub.execute_input": "2021-12-01T17:30:11.569330Z",
     "iopub.status.busy": "2021-12-01T17:30:11.566921Z",
     "iopub.status.idle": "2021-12-01T17:30:11.596877Z",
     "shell.execute_reply": "2021-12-01T17:30:11.598222Z"
    },
    "papermill": {
     "duration": 0.073118,
     "end_time": "2021-12-01T17:30:11.598673",
     "exception": false,
     "start_time": "2021-12-01T17:30:11.525555",
     "status": "completed"
    },
    "tags": []
   },
   "outputs": [],
   "source": [
    "df_pivot = df.pivot_table(index=\"PRODUCT\", columns = \"RECORD_TIME\", values = \"LISTING_COUNT\")"
   ]
  },
  {
   "cell_type": "code",
   "execution_count": 6,
   "id": "union-huntington",
   "metadata": {
    "execution": {
     "iopub.execute_input": "2021-12-01T17:30:11.658265Z",
     "iopub.status.busy": "2021-12-01T17:30:11.655941Z",
     "iopub.status.idle": "2021-12-01T17:30:11.661668Z",
     "shell.execute_reply": "2021-12-01T17:30:11.663181Z"
    },
    "papermill": {
     "duration": 0.044442,
     "end_time": "2021-12-01T17:30:11.663746",
     "exception": false,
     "start_time": "2021-12-01T17:30:11.619304",
     "status": "completed"
    },
    "tags": []
   },
   "outputs": [],
   "source": [
    "df_pivot.columns = [\"stamp_1\", \"stamp_2\"]\n",
    "df_pivot_diff = df_pivot.diff(axis=1)"
   ]
  },
  {
   "cell_type": "code",
   "execution_count": 7,
   "id": "fifth-motion",
   "metadata": {
    "execution": {
     "iopub.execute_input": "2021-12-01T17:30:11.725159Z",
     "iopub.status.busy": "2021-12-01T17:30:11.722654Z",
     "iopub.status.idle": "2021-12-01T17:30:13.698554Z",
     "shell.execute_reply": "2021-12-01T17:30:13.701442Z"
    },
    "papermill": {
     "duration": 2.015099,
     "end_time": "2021-12-01T17:30:13.702160",
     "exception": false,
     "start_time": "2021-12-01T17:30:11.687061",
     "status": "completed"
    },
    "tags": []
   },
   "outputs": [
    {
     "data": {
      "text/plain": [
       "<AxesSubplot:ylabel='PRODUCT'>"
      ]
     },
     "execution_count": 7,
     "metadata": {},
     "output_type": "execute_result"
    },
    {
     "data": {
      "image/png": "[encoded data removed]",
      "text/plain": [
       "<Figure size 432x288 with 1 Axes>"
      ]
     },
     "metadata": {
      "needs_background": "light"
     },
     "output_type": "display_data"
    }
   ],
   "source": [
    "df_pivot_diff.sort_values(\"stamp_2\", ascending = False)[\"stamp_2\"].head(10).plot.barh()"
   ]
  },
  {
   "cell_type": "code",
   "execution_count": null,
   "id": "extra-executive",
   "metadata": {
    "papermill": {
     "duration": 0.027839,
     "end_time": "2021-12-01T17:30:13.764753",
     "exception": false,
     "start_time": "2021-12-01T17:30:13.736914",
     "status": "completed"
    },
    "tags": []
   },
   "outputs": [],
   "source": []
  }
 ],
 "metadata": {
  "kernelspec": {
   "display_name": "Python 3",
   "language": "python",
   "name": "python3"
  },
  "language_info": {
   "codemirror_mode": {
    "name": "ipython",
    "version": 3
   },
   "file_extension": ".py",
   "mimetype": "text/x-python",
   "name": "python",
   "nbconvert_exporter": "python",
   "pygments_lexer": "ipython3",
   "version": "3.9.5"
  },
  "papermill": {
   "default_parameters": {},
   "duration": 9.93223,
   "end_time": "2021-12-01T17:30:15.143878",
   "environment_variables": {},
   "exception": null,
   "input_path": "eBay_Overview.ipynb",
   "output_path": "eBay_Overview.ipynb",
   "parameters": {},
   "start_time": "2021-12-01T17:30:05.211648",
   "version": "2.3.3"
  }
 },
 "nbformat": 4,
 "nbformat_minor": 5
}