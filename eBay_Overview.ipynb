{
 "cells": [
  {
   "cell_type": "code",
   "execution_count": 1,
   "id": "reverse-picking",
   "metadata": {
    "execution": {
     "iopub.execute_input": "2021-10-29T04:30:06.942619Z",
     "iopub.status.busy": "2021-10-29T04:30:06.940595Z",
     "iopub.status.idle": "2021-10-29T04:30:07.745245Z",
     "shell.execute_reply": "2021-10-29T04:30:07.746531Z"
    },
    "papermill": {
     "duration": 0.855846,
     "end_time": "2021-10-29T04:30:07.747158",
     "exception": false,
     "start_time": "2021-10-29T04:30:06.891312",
     "status": "completed"
    },
    "tags": []
   },
   "outputs": [],
   "source": [
    "import pandas as pd\n",
    "import sqlite3"
   ]
  },
  {
   "cell_type": "code",
   "execution_count": 2,
   "id": "innovative-syndrome",
   "metadata": {
    "execution": {
     "iopub.execute_input": "2021-10-29T04:30:07.801303Z",
     "iopub.status.busy": "2021-10-29T04:30:07.798906Z",
     "iopub.status.idle": "2021-10-29T04:30:08.466937Z",
     "shell.execute_reply": "2021-10-29T04:30:08.468139Z"
    },
    "papermill": {
     "duration": 0.6981,
     "end_time": "2021-10-29T04:30:08.468536",
     "exception": false,
     "start_time": "2021-10-29T04:30:07.770436",
     "status": "completed"
    },
    "tags": []
   },
   "outputs": [],
   "source": [
    "timestamps = pd.read_sql(\"select distinct record_time from EBAY_TOP_BERLIN order by record_time desc limit 2\", sqlite3.connect(\"UsedObjects.db\"))"
   ]
  },
  {
   "cell_type": "code",
   "execution_count": 3,
   "id": "periodic-identification",
   "metadata": {
    "execution": {
     "iopub.execute_input": "2021-10-29T04:30:08.544449Z",
     "iopub.status.busy": "2021-10-29T04:30:08.542436Z",
     "iopub.status.idle": "2021-10-29T04:30:08.562048Z",
     "shell.execute_reply": "2021-10-29T04:30:08.563312Z"
    },
    "papermill": {
     "duration": 0.067525,
     "end_time": "2021-10-29T04:30:08.563709",
     "exception": false,
     "start_time": "2021-10-29T04:30:08.496184",
     "status": "completed"
    },
    "tags": []
   },
   "outputs": [
    {
     "data": {
      "text/html": [
       "<div>\n",
       "<style scoped>\n",
       "    .dataframe tbody tr th:only-of-type {\n",
       "        vertical-align: middle;\n",
       "    }\n",
       "\n",
       "    .dataframe tbody tr th {\n",
       "        vertical-align: top;\n",
       "    }\n",
       "\n",
       "    .dataframe thead th {\n",
       "        text-align: right;\n",
       "    }\n",
       "</style>\n",
       "<table border=\"1\" class=\"dataframe\">\n",
       "  <thead>\n",
       "    <tr style=\"text-align: right;\">\n",
       "      <th></th>\n",
       "      <th>RECORD_TIME</th>\n",
       "    </tr>\n",
       "  </thead>\n",
       "  <tbody>\n",
       "    <tr>\n",
       "      <th>0</th>\n",
       "      <td>2021-10-29 06:30</td>\n",
       "    </tr>\n",
       "    <tr>\n",
       "      <th>1</th>\n",
       "      <td>2021-10-29 06:00</td>\n",
       "    </tr>\n",
       "  </tbody>\n",
       "</table>\n",
       "</div>"
      ],
      "text/plain": [
       "        RECORD_TIME\n",
       "0  2021-10-29 06:30\n",
       "1  2021-10-29 06:00"
      ]
     },
     "execution_count": 3,
     "metadata": {},
     "output_type": "execute_result"
    }
   ],
   "source": [
    "timestamps"
   ]
  },
  {
   "cell_type": "code",
   "execution_count": 4,
   "id": "alternate-victory",
   "metadata": {
    "execution": {
     "iopub.execute_input": "2021-10-29T04:30:08.615852Z",
     "iopub.status.busy": "2021-10-29T04:30:08.613556Z",
     "iopub.status.idle": "2021-10-29T04:30:09.588939Z",
     "shell.execute_reply": "2021-10-29T04:30:09.590246Z"
    },
    "papermill": {
     "duration": 1.005852,
     "end_time": "2021-10-29T04:30:09.590665",
     "exception": false,
     "start_time": "2021-10-29T04:30:08.584813",
     "status": "completed"
    },
    "tags": []
   },
   "outputs": [],
   "source": [
    "df = pd.read_sql(\"select * from EBAY_TOP_BERLIN where record_time in (select distinct record_time from EBAY_TOP_BERLIN order by record_time desc limit 2)\", sqlite3.connect(\"UsedObjects.db\"))"
   ]
  },
  {
   "cell_type": "code",
   "execution_count": 5,
   "id": "popular-active",
   "metadata": {
    "execution": {
     "iopub.execute_input": "2021-10-29T04:30:09.662060Z",
     "iopub.status.busy": "2021-10-29T04:30:09.650611Z",
     "iopub.status.idle": "2021-10-29T04:30:09.677596Z",
     "shell.execute_reply": "2021-10-29T04:30:09.678990Z"
    },
    "papermill": {
     "duration": 0.067102,
     "end_time": "2021-10-29T04:30:09.679433",
     "exception": false,
     "start_time": "2021-10-29T04:30:09.612331",
     "status": "completed"
    },
    "tags": []
   },
   "outputs": [],
   "source": [
    "df_pivot = df.pivot_table(index=\"PRODUCT\", columns = \"RECORD_TIME\", values = \"LISTING_COUNT\")"
   ]
  },
  {
   "cell_type": "code",
   "execution_count": 6,
   "id": "union-huntington",
   "metadata": {
    "execution": {
     "iopub.execute_input": "2021-10-29T04:30:09.736625Z",
     "iopub.status.busy": "2021-10-29T04:30:09.734332Z",
     "iopub.status.idle": "2021-10-29T04:30:09.740041Z",
     "shell.execute_reply": "2021-10-29T04:30:09.741430Z"
    },
    "papermill": {
     "duration": 0.041975,
     "end_time": "2021-10-29T04:30:09.741865",
     "exception": false,
     "start_time": "2021-10-29T04:30:09.699890",
     "status": "completed"
    },
    "tags": []
   },
   "outputs": [],
   "source": [
    "df_pivot.columns = [\"stamp_1\", \"stamp_2\"]\n",
    "df_pivot_diff = df_pivot.diff(axis=1)"
   ]
  },
  {
   "cell_type": "code",
   "execution_count": 7,
   "id": "fifth-motion",
   "metadata": {
    "execution": {
     "iopub.execute_input": "2021-10-29T04:30:09.795800Z",
     "iopub.status.busy": "2021-10-29T04:30:09.793632Z",
     "iopub.status.idle": "2021-10-29T04:30:11.276451Z",
     "shell.execute_reply": "2021-10-29T04:30:11.277793Z"
    },
    "papermill": {
     "duration": 1.515526,
     "end_time": "2021-10-29T04:30:11.278216",
     "exception": false,
     "start_time": "2021-10-29T04:30:09.762690",
     "status": "completed"
    },
    "tags": []
   },
   "outputs": [
    {
     "data": {
      "text/plain": [
       "<AxesSubplot:ylabel='PRODUCT'>"
      ]
     },
     "execution_count": 7,
     "metadata": {},
     "output_type": "execute_result"
    },
    {
     "data": {
      "image/png": "[encoded data removed]",
      "text/plain": [
       "<Figure size 432x288 with 1 Axes>"
      ]
     },
     "metadata": {
      "needs_background": "light"
     },
     "output_type": "display_data"
    }
   ],
   "source": [
    "df_pivot_diff.sort_values(\"stamp_2\", ascending = False)[\"stamp_2\"].head(10).plot.barh()"
   ]
  },
  {
   "cell_type": "code",
   "execution_count": null,
   "id": "extra-executive",
   "metadata": {
    "papermill": {
     "duration": 0.057608,
     "end_time": "2021-10-29T04:30:11.360112",
     "exception": false,
     "start_time": "2021-10-29T04:30:11.302504",
     "status": "completed"
    },
    "tags": []
   },
   "outputs": [],
   "source": []
  }
 ],
 "metadata": {
  "kernelspec": {
   "display_name": "Python 3",
   "language": "python",
   "name": "python3"
  },
  "language_info": {
   "codemirror_mode": {
    "name": "ipython",
    "version": 3
   },
   "file_extension": ".py",
   "mimetype": "text/x-python",
   "name": "python",
   "nbconvert_exporter": "python",
   "pygments_lexer": "ipython3",
   "version": "3.9.5"
  },
  "papermill": {
   "default_parameters": {},
   "duration": 7.517,
   "end_time": "2021-10-29T04:30:12.005443",
   "environment_variables": {},
   "exception": null,
   "input_path": "eBay_Overview.ipynb",
   "output_path": "eBay_Overview.ipynb",
   "parameters": {},
   "start_time": "2021-10-29T04:30:04.488443",
   "version": "2.3.3"
  }
 },
 "nbformat": 4,
 "nbformat_minor": 5
}