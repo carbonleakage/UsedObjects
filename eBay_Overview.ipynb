{
 "cells": [
  {
   "cell_type": "code",
   "execution_count": 1,
   "id": "reverse-picking",
   "metadata": {
    "execution": {
     "iopub.execute_input": "2021-11-09T02:00:07.340787Z",
     "iopub.status.busy": "2021-11-09T02:00:07.338334Z",
     "iopub.status.idle": "2021-11-09T02:00:08.276858Z",
     "shell.execute_reply": "2021-11-09T02:00:08.274844Z"
    },
    "papermill": {
     "duration": 0.985953,
     "end_time": "2021-11-09T02:00:08.277350",
     "exception": false,
     "start_time": "2021-11-09T02:00:07.291397",
     "status": "completed"
    },
    "tags": []
   },
   "outputs": [],
   "source": [
    "import pandas as pd\n",
    "import sqlite3"
   ]
  },
  {
   "cell_type": "code",
   "execution_count": 2,
   "id": "innovative-syndrome",
   "metadata": {
    "execution": {
     "iopub.execute_input": "2021-11-09T02:00:08.340382Z",
     "iopub.status.busy": "2021-11-09T02:00:08.337882Z",
     "iopub.status.idle": "2021-11-09T02:00:09.083453Z",
     "shell.execute_reply": "2021-11-09T02:00:09.085148Z"
    },
    "papermill": {
     "duration": 0.787162,
     "end_time": "2021-11-09T02:00:09.085614",
     "exception": false,
     "start_time": "2021-11-09T02:00:08.298452",
     "status": "completed"
    },
    "tags": []
   },
   "outputs": [],
   "source": [
    "timestamps = pd.read_sql(\"select distinct record_time from EBAY_TOP_BERLIN order by record_time desc limit 2\", sqlite3.connect(\"UsedObjects.db\"))"
   ]
  },
  {
   "cell_type": "code",
   "execution_count": 3,
   "id": "periodic-identification",
   "metadata": {
    "execution": {
     "iopub.execute_input": "2021-11-09T02:00:09.156788Z",
     "iopub.status.busy": "2021-11-09T02:00:09.154623Z",
     "iopub.status.idle": "2021-11-09T02:00:09.179990Z",
     "shell.execute_reply": "2021-11-09T02:00:09.181767Z"
    },
    "papermill": {
     "duration": 0.075291,
     "end_time": "2021-11-09T02:00:09.182291",
     "exception": false,
     "start_time": "2021-11-09T02:00:09.107000",
     "status": "completed"
    },
    "tags": []
   },
   "outputs": [
    {
     "data": {
      "text/html": [
       "<div>\n",
       "<style scoped>\n",
       "    .dataframe tbody tr th:only-of-type {\n",
       "        vertical-align: middle;\n",
       "    }\n",
       "\n",
       "    .dataframe tbody tr th {\n",
       "        vertical-align: top;\n",
       "    }\n",
       "\n",
       "    .dataframe thead th {\n",
       "        text-align: right;\n",
       "    }\n",
       "</style>\n",
       "<table border=\"1\" class=\"dataframe\">\n",
       "  <thead>\n",
       "    <tr style=\"text-align: right;\">\n",
       "      <th></th>\n",
       "      <th>RECORD_TIME</th>\n",
       "    </tr>\n",
       "  </thead>\n",
       "  <tbody>\n",
       "    <tr>\n",
       "      <th>0</th>\n",
       "      <td>2021-11-09 03:00</td>\n",
       "    </tr>\n",
       "    <tr>\n",
       "      <th>1</th>\n",
       "      <td>2021-11-09 02:30</td>\n",
       "    </tr>\n",
       "  </tbody>\n",
       "</table>\n",
       "</div>"
      ],
      "text/plain": [
       "        RECORD_TIME\n",
       "0  2021-11-09 03:00\n",
       "1  2021-11-09 02:30"
      ]
     },
     "execution_count": 3,
     "metadata": {},
     "output_type": "execute_result"
    }
   ],
   "source": [
    "timestamps"
   ]
  },
  {
   "cell_type": "code",
   "execution_count": 4,
   "id": "alternate-victory",
   "metadata": {
    "execution": {
     "iopub.execute_input": "2021-11-09T02:00:09.239349Z",
     "iopub.status.busy": "2021-11-09T02:00:09.237177Z",
     "iopub.status.idle": "2021-11-09T02:00:10.338580Z",
     "shell.execute_reply": "2021-11-09T02:00:10.340074Z"
    },
    "papermill": {
     "duration": 1.136933,
     "end_time": "2021-11-09T02:00:10.340590",
     "exception": false,
     "start_time": "2021-11-09T02:00:09.203657",
     "status": "completed"
    },
    "tags": []
   },
   "outputs": [],
   "source": [
    "df = pd.read_sql(\"select * from EBAY_TOP_BERLIN where record_time in (select distinct record_time from EBAY_TOP_BERLIN order by record_time desc limit 2)\", sqlite3.connect(\"UsedObjects.db\"))"
   ]
  },
  {
   "cell_type": "code",
   "execution_count": 5,
   "id": "popular-active",
   "metadata": {
    "execution": {
     "iopub.execute_input": "2021-11-09T02:00:10.417102Z",
     "iopub.status.busy": "2021-11-09T02:00:10.403859Z",
     "iopub.status.idle": "2021-11-09T02:00:10.442850Z",
     "shell.execute_reply": "2021-11-09T02:00:10.441261Z"
    },
    "papermill": {
     "duration": 0.081015,
     "end_time": "2021-11-09T02:00:10.443276",
     "exception": false,
     "start_time": "2021-11-09T02:00:10.362261",
     "status": "completed"
    },
    "tags": []
   },
   "outputs": [],
   "source": [
    "df_pivot = df.pivot_table(index=\"PRODUCT\", columns = \"RECORD_TIME\", values = \"LISTING_COUNT\")"
   ]
  },
  {
   "cell_type": "code",
   "execution_count": 6,
   "id": "union-huntington",
   "metadata": {
    "execution": {
     "iopub.execute_input": "2021-11-09T02:00:10.504345Z",
     "iopub.status.busy": "2021-11-09T02:00:10.501954Z",
     "iopub.status.idle": "2021-11-09T02:00:10.508384Z",
     "shell.execute_reply": "2021-11-09T02:00:10.510049Z"
    },
    "papermill": {
     "duration": 0.046387,
     "end_time": "2021-11-09T02:00:10.510567",
     "exception": false,
     "start_time": "2021-11-09T02:00:10.464180",
     "status": "completed"
    },
    "tags": []
   },
   "outputs": [],
   "source": [
    "df_pivot.columns = [\"stamp_1\", \"stamp_2\"]\n",
    "df_pivot_diff = df_pivot.diff(axis=1)"
   ]
  },
  {
   "cell_type": "code",
   "execution_count": 7,
   "id": "fifth-motion",
   "metadata": {
    "execution": {
     "iopub.execute_input": "2021-11-09T02:00:10.571863Z",
     "iopub.status.busy": "2021-11-09T02:00:10.569262Z",
     "iopub.status.idle": "2021-11-09T02:00:12.271991Z",
     "shell.execute_reply": "2021-11-09T02:00:12.273525Z"
    },
    "papermill": {
     "duration": 1.741075,
     "end_time": "2021-11-09T02:00:12.273994",
     "exception": false,
     "start_time": "2021-11-09T02:00:10.532919",
     "status": "completed"
    },
    "tags": []
   },
   "outputs": [
    {
     "data": {
      "text/plain": [
       "<AxesSubplot:ylabel='PRODUCT'>"
      ]
     },
     "execution_count": 7,
     "metadata": {},
     "output_type": "execute_result"
    },
    {
     "data": {
      "image/png": "[encoded data removed]",
      "text/plain": [
       "<Figure size 432x288 with 1 Axes>"
      ]
     },
     "metadata": {
      "needs_background": "light"
     },
     "output_type": "display_data"
    }
   ],
   "source": [
    "df_pivot_diff.sort_values(\"stamp_2\", ascending = False)[\"stamp_2\"].head(10).plot.barh()"
   ]
  },
  {
   "cell_type": "code",
   "execution_count": null,
   "id": "extra-executive",
   "metadata": {
    "papermill": {
     "duration": 0.024074,
     "end_time": "2021-11-09T02:00:12.322073",
     "exception": false,
     "start_time": "2021-11-09T02:00:12.297999",
     "status": "completed"
    },
    "tags": []
   },
   "outputs": [],
   "source": []
  }
 ],
 "metadata": {
  "kernelspec": {
   "display_name": "Python 3",
   "language": "python",
   "name": "python3"
  },
  "language_info": {
   "codemirror_mode": {
    "name": "ipython",
    "version": 3
   },
   "file_extension": ".py",
   "mimetype": "text/x-python",
   "name": "python",
   "nbconvert_exporter": "python",
   "pygments_lexer": "ipython3",
   "version": "3.9.5"
  },
  "papermill": {
   "default_parameters": {},
   "duration": 9.006076,
   "end_time": "2021-11-09T02:00:13.512880",
   "environment_variables": {},
   "exception": null,
   "input_path": "eBay_Overview.ipynb",
   "output_path": "eBay_Overview.ipynb",
   "parameters": {},
   "start_time": "2021-11-09T02:00:04.506804",
   "version": "2.3.3"
  }
 },
 "nbformat": 4,
 "nbformat_minor": 5
}