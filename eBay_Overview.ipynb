{
 "cells": [
  {
   "cell_type": "code",
   "execution_count": 1,
   "id": "reverse-picking",
   "metadata": {
    "execution": {
     "iopub.execute_input": "2021-09-13T14:30:06.800141Z",
     "iopub.status.busy": "2021-09-13T14:30:06.798116Z",
     "iopub.status.idle": "2021-09-13T14:30:07.602708Z",
     "shell.execute_reply": "2021-09-13T14:30:07.604205Z"
    },
    "papermill": {
     "duration": 0.854233,
     "end_time": "2021-09-13T14:30:07.604853",
     "exception": false,
     "start_time": "2021-09-13T14:30:06.750620",
     "status": "completed"
    },
    "tags": []
   },
   "outputs": [],
   "source": [
    "import pandas as pd\n",
    "import sqlite3"
   ]
  },
  {
   "cell_type": "code",
   "execution_count": 2,
   "id": "innovative-syndrome",
   "metadata": {
    "execution": {
     "iopub.execute_input": "2021-09-13T14:30:07.654527Z",
     "iopub.status.busy": "2021-09-13T14:30:07.652594Z",
     "iopub.status.idle": "2021-09-13T14:30:07.935748Z",
     "shell.execute_reply": "2021-09-13T14:30:07.936972Z"
    },
    "papermill": {
     "duration": 0.312397,
     "end_time": "2021-09-13T14:30:07.937372",
     "exception": false,
     "start_time": "2021-09-13T14:30:07.624975",
     "status": "completed"
    },
    "tags": []
   },
   "outputs": [],
   "source": [
    "timestamps = pd.read_sql(\"select distinct record_time from EBAY_TOP_BERLIN order by record_time desc limit 2\", sqlite3.connect(\"UsedObjects.db\"))"
   ]
  },
  {
   "cell_type": "code",
   "execution_count": 3,
   "id": "periodic-identification",
   "metadata": {
    "execution": {
     "iopub.execute_input": "2021-09-13T14:30:08.004938Z",
     "iopub.status.busy": "2021-09-13T14:30:07.999612Z",
     "iopub.status.idle": "2021-09-13T14:30:08.020750Z",
     "shell.execute_reply": "2021-09-13T14:30:08.022233Z"
    },
    "papermill": {
     "duration": 0.064689,
     "end_time": "2021-09-13T14:30:08.022694",
     "exception": false,
     "start_time": "2021-09-13T14:30:07.958005",
     "status": "completed"
    },
    "tags": []
   },
   "outputs": [
    {
     "data": {
      "text/html": [
       "<div>\n",
       "<style scoped>\n",
       "    .dataframe tbody tr th:only-of-type {\n",
       "        vertical-align: middle;\n",
       "    }\n",
       "\n",
       "    .dataframe tbody tr th {\n",
       "        vertical-align: top;\n",
       "    }\n",
       "\n",
       "    .dataframe thead th {\n",
       "        text-align: right;\n",
       "    }\n",
       "</style>\n",
       "<table border=\"1\" class=\"dataframe\">\n",
       "  <thead>\n",
       "    <tr style=\"text-align: right;\">\n",
       "      <th></th>\n",
       "      <th>RECORD_TIME</th>\n",
       "    </tr>\n",
       "  </thead>\n",
       "  <tbody>\n",
       "    <tr>\n",
       "      <th>0</th>\n",
       "      <td>2021-09-13 16:30</td>\n",
       "    </tr>\n",
       "    <tr>\n",
       "      <th>1</th>\n",
       "      <td>2021-09-13 16:00</td>\n",
       "    </tr>\n",
       "  </tbody>\n",
       "</table>\n",
       "</div>"
      ],
      "text/plain": [
       "        RECORD_TIME\n",
       "0  2021-09-13 16:30\n",
       "1  2021-09-13 16:00"
      ]
     },
     "execution_count": 3,
     "metadata": {},
     "output_type": "execute_result"
    }
   ],
   "source": [
    "timestamps"
   ]
  },
  {
   "cell_type": "code",
   "execution_count": 4,
   "id": "alternate-victory",
   "metadata": {
    "execution": {
     "iopub.execute_input": "2021-09-13T14:30:08.075299Z",
     "iopub.status.busy": "2021-09-13T14:30:08.072934Z",
     "iopub.status.idle": "2021-09-13T14:30:08.485990Z",
     "shell.execute_reply": "2021-09-13T14:30:08.487277Z"
    },
    "papermill": {
     "duration": 0.443569,
     "end_time": "2021-09-13T14:30:08.487679",
     "exception": false,
     "start_time": "2021-09-13T14:30:08.044110",
     "status": "completed"
    },
    "tags": []
   },
   "outputs": [],
   "source": [
    "df = pd.read_sql(\"select * from EBAY_TOP_BERLIN where record_time in (select distinct record_time from EBAY_TOP_BERLIN order by record_time desc limit 2)\", sqlite3.connect(\"UsedObjects.db\"))"
   ]
  },
  {
   "cell_type": "code",
   "execution_count": 5,
   "id": "popular-active",
   "metadata": {
    "execution": {
     "iopub.execute_input": "2021-09-13T14:30:08.567301Z",
     "iopub.status.busy": "2021-09-13T14:30:08.555642Z",
     "iopub.status.idle": "2021-09-13T14:30:08.584278Z",
     "shell.execute_reply": "2021-09-13T14:30:08.585655Z"
    },
    "papermill": {
     "duration": 0.072421,
     "end_time": "2021-09-13T14:30:08.586095",
     "exception": false,
     "start_time": "2021-09-13T14:30:08.513674",
     "status": "completed"
    },
    "tags": []
   },
   "outputs": [],
   "source": [
    "df_pivot = df.pivot_table(index=\"PRODUCT\", columns = \"RECORD_TIME\", values = \"LISTING_COUNT\")"
   ]
  },
  {
   "cell_type": "code",
   "execution_count": 6,
   "id": "union-huntington",
   "metadata": {
    "execution": {
     "iopub.execute_input": "2021-09-13T14:30:08.642443Z",
     "iopub.status.busy": "2021-09-13T14:30:08.640412Z",
     "iopub.status.idle": "2021-09-13T14:30:08.646011Z",
     "shell.execute_reply": "2021-09-13T14:30:08.647366Z"
    },
    "papermill": {
     "duration": 0.041403,
     "end_time": "2021-09-13T14:30:08.647782",
     "exception": false,
     "start_time": "2021-09-13T14:30:08.606379",
     "status": "completed"
    },
    "tags": []
   },
   "outputs": [],
   "source": [
    "df_pivot.columns = [\"stamp_1\", \"stamp_2\"]\n",
    "df_pivot_diff = df_pivot.diff(axis=1)"
   ]
  },
  {
   "cell_type": "code",
   "execution_count": 7,
   "id": "fifth-motion",
   "metadata": {
    "execution": {
     "iopub.execute_input": "2021-09-13T14:30:08.702463Z",
     "iopub.status.busy": "2021-09-13T14:30:08.700069Z",
     "iopub.status.idle": "2021-09-13T14:30:10.198394Z",
     "shell.execute_reply": "2021-09-13T14:30:10.199891Z"
    },
    "papermill": {
     "duration": 1.531305,
     "end_time": "2021-09-13T14:30:10.200349",
     "exception": false,
     "start_time": "2021-09-13T14:30:08.669044",
     "status": "completed"
    },
    "tags": []
   },
   "outputs": [
    {
     "data": {
      "text/plain": [
       "<AxesSubplot:ylabel='PRODUCT'>"
      ]
     },
     "execution_count": 7,
     "metadata": {},
     "output_type": "execute_result"
    },
    {
     "data": {
      "image/png": "[encoded data removed]",
      "text/plain": [
       "<Figure size 432x288 with 1 Axes>"
      ]
     },
     "metadata": {
      "needs_background": "light"
     },
     "output_type": "display_data"
    }
   ],
   "source": [
    "df_pivot_diff.sort_values(\"stamp_2\", ascending = False)[\"stamp_2\"].head(10).plot.barh()"
   ]
  },
  {
   "cell_type": "code",
   "execution_count": null,
   "id": "extra-executive",
   "metadata": {
    "papermill": {
     "duration": 0.021941,
     "end_time": "2021-09-13T14:30:10.246149",
     "exception": false,
     "start_time": "2021-09-13T14:30:10.224208",
     "status": "completed"
    },
    "tags": []
   },
   "outputs": [],
   "source": []
  }
 ],
 "metadata": {
  "kernelspec": {
   "display_name": "Python 3",
   "language": "python",
   "name": "python3"
  },
  "language_info": {
   "codemirror_mode": {
    "name": "ipython",
    "version": 3
   },
   "file_extension": ".py",
   "mimetype": "text/x-python",
   "name": "python",
   "nbconvert_exporter": "python",
   "pygments_lexer": "ipython3",
   "version": "3.9.5"
  },
  "papermill": {
   "default_parameters": {},
   "duration": 6.554233,
   "end_time": "2021-09-13T14:30:10.889415",
   "environment_variables": {},
   "exception": null,
   "input_path": "eBay_Overview.ipynb",
   "output_path": "eBay_Overview.ipynb",
   "parameters": {},
   "start_time": "2021-09-13T14:30:04.335182",
   "version": "2.3.3"
  }
 },
 "nbformat": 4,
 "nbformat_minor": 5
}