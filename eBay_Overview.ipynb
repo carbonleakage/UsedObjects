{
 "cells": [
  {
   "cell_type": "code",
   "execution_count": 1,
   "id": "reverse-picking",
   "metadata": {
    "execution": {
     "iopub.execute_input": "2021-10-06T11:00:06.572534Z",
     "iopub.status.busy": "2021-10-06T11:00:06.570460Z",
     "iopub.status.idle": "2021-10-06T11:00:07.380353Z",
     "shell.execute_reply": "2021-10-06T11:00:07.378705Z"
    },
    "papermill": {
     "duration": 0.86035,
     "end_time": "2021-10-06T11:00:07.380744",
     "exception": false,
     "start_time": "2021-10-06T11:00:06.520394",
     "status": "completed"
    },
    "tags": []
   },
   "outputs": [],
   "source": [
    "import pandas as pd\n",
    "import sqlite3"
   ]
  },
  {
   "cell_type": "code",
   "execution_count": 2,
   "id": "innovative-syndrome",
   "metadata": {
    "execution": {
     "iopub.execute_input": "2021-10-06T11:00:07.433850Z",
     "iopub.status.busy": "2021-10-06T11:00:07.431698Z",
     "iopub.status.idle": "2021-10-06T11:00:07.898930Z",
     "shell.execute_reply": "2021-10-06T11:00:07.900336Z"
    },
    "papermill": {
     "duration": 0.497616,
     "end_time": "2021-10-06T11:00:07.900771",
     "exception": false,
     "start_time": "2021-10-06T11:00:07.403155",
     "status": "completed"
    },
    "tags": []
   },
   "outputs": [],
   "source": [
    "timestamps = pd.read_sql(\"select distinct record_time from EBAY_TOP_BERLIN order by record_time desc limit 2\", sqlite3.connect(\"UsedObjects.db\"))"
   ]
  },
  {
   "cell_type": "code",
   "execution_count": 3,
   "id": "periodic-identification",
   "metadata": {
    "execution": {
     "iopub.execute_input": "2021-10-06T11:00:07.968570Z",
     "iopub.status.busy": "2021-10-06T11:00:07.963485Z",
     "iopub.status.idle": "2021-10-06T11:00:07.984591Z",
     "shell.execute_reply": "2021-10-06T11:00:07.986026Z"
    },
    "papermill": {
     "duration": 0.066428,
     "end_time": "2021-10-06T11:00:07.986483",
     "exception": false,
     "start_time": "2021-10-06T11:00:07.920055",
     "status": "completed"
    },
    "tags": []
   },
   "outputs": [
    {
     "data": {
      "text/html": [
       "<div>\n",
       "<style scoped>\n",
       "    .dataframe tbody tr th:only-of-type {\n",
       "        vertical-align: middle;\n",
       "    }\n",
       "\n",
       "    .dataframe tbody tr th {\n",
       "        vertical-align: top;\n",
       "    }\n",
       "\n",
       "    .dataframe thead th {\n",
       "        text-align: right;\n",
       "    }\n",
       "</style>\n",
       "<table border=\"1\" class=\"dataframe\">\n",
       "  <thead>\n",
       "    <tr style=\"text-align: right;\">\n",
       "      <th></th>\n",
       "      <th>RECORD_TIME</th>\n",
       "    </tr>\n",
       "  </thead>\n",
       "  <tbody>\n",
       "    <tr>\n",
       "      <th>0</th>\n",
       "      <td>2021-10-06 13:00</td>\n",
       "    </tr>\n",
       "    <tr>\n",
       "      <th>1</th>\n",
       "      <td>2021-10-06 12:30</td>\n",
       "    </tr>\n",
       "  </tbody>\n",
       "</table>\n",
       "</div>"
      ],
      "text/plain": [
       "        RECORD_TIME\n",
       "0  2021-10-06 13:00\n",
       "1  2021-10-06 12:30"
      ]
     },
     "execution_count": 3,
     "metadata": {},
     "output_type": "execute_result"
    }
   ],
   "source": [
    "timestamps"
   ]
  },
  {
   "cell_type": "code",
   "execution_count": 4,
   "id": "alternate-victory",
   "metadata": {
    "execution": {
     "iopub.execute_input": "2021-10-06T11:00:08.047641Z",
     "iopub.status.busy": "2021-10-06T11:00:08.045466Z",
     "iopub.status.idle": "2021-10-06T11:00:08.732123Z",
     "shell.execute_reply": "2021-10-06T11:00:08.733501Z"
    },
    "papermill": {
     "duration": 0.720278,
     "end_time": "2021-10-06T11:00:08.733937",
     "exception": false,
     "start_time": "2021-10-06T11:00:08.013659",
     "status": "completed"
    },
    "tags": []
   },
   "outputs": [],
   "source": [
    "df = pd.read_sql(\"select * from EBAY_TOP_BERLIN where record_time in (select distinct record_time from EBAY_TOP_BERLIN order by record_time desc limit 2)\", sqlite3.connect(\"UsedObjects.db\"))"
   ]
  },
  {
   "cell_type": "code",
   "execution_count": 5,
   "id": "popular-active",
   "metadata": {
    "execution": {
     "iopub.execute_input": "2021-10-06T11:00:08.799697Z",
     "iopub.status.busy": "2021-10-06T11:00:08.792407Z",
     "iopub.status.idle": "2021-10-06T11:00:08.819768Z",
     "shell.execute_reply": "2021-10-06T11:00:08.820984Z"
    },
    "papermill": {
     "duration": 0.0668,
     "end_time": "2021-10-06T11:00:08.821372",
     "exception": false,
     "start_time": "2021-10-06T11:00:08.754572",
     "status": "completed"
    },
    "tags": []
   },
   "outputs": [],
   "source": [
    "df_pivot = df.pivot_table(index=\"PRODUCT\", columns = \"RECORD_TIME\", values = \"LISTING_COUNT\")"
   ]
  },
  {
   "cell_type": "code",
   "execution_count": 6,
   "id": "union-huntington",
   "metadata": {
    "execution": {
     "iopub.execute_input": "2021-10-06T11:00:08.880957Z",
     "iopub.status.busy": "2021-10-06T11:00:08.878466Z",
     "iopub.status.idle": "2021-10-06T11:00:08.884416Z",
     "shell.execute_reply": "2021-10-06T11:00:08.885602Z"
    },
    "papermill": {
     "duration": 0.042309,
     "end_time": "2021-10-06T11:00:08.886032",
     "exception": false,
     "start_time": "2021-10-06T11:00:08.843723",
     "status": "completed"
    },
    "tags": []
   },
   "outputs": [],
   "source": [
    "df_pivot.columns = [\"stamp_1\", \"stamp_2\"]\n",
    "df_pivot_diff = df_pivot.diff(axis=1)"
   ]
  },
  {
   "cell_type": "code",
   "execution_count": 7,
   "id": "fifth-motion",
   "metadata": {
    "execution": {
     "iopub.execute_input": "2021-10-06T11:00:08.940697Z",
     "iopub.status.busy": "2021-10-06T11:00:08.937841Z",
     "iopub.status.idle": "2021-10-06T11:00:10.432886Z",
     "shell.execute_reply": "2021-10-06T11:00:10.434164Z"
    },
    "papermill": {
     "duration": 1.527704,
     "end_time": "2021-10-06T11:00:10.434581",
     "exception": false,
     "start_time": "2021-10-06T11:00:08.906877",
     "status": "completed"
    },
    "tags": []
   },
   "outputs": [
    {
     "data": {
      "text/plain": [
       "<AxesSubplot:ylabel='PRODUCT'>"
      ]
     },
     "execution_count": 7,
     "metadata": {},
     "output_type": "execute_result"
    },
    {
     "data": {
      "image/png": "[encoded data removed]",
      "text/plain": [
       "<Figure size 432x288 with 1 Axes>"
      ]
     },
     "metadata": {
      "needs_background": "light"
     },
     "output_type": "display_data"
    }
   ],
   "source": [
    "df_pivot_diff.sort_values(\"stamp_2\", ascending = False)[\"stamp_2\"].head(10).plot.barh()"
   ]
  },
  {
   "cell_type": "code",
   "execution_count": null,
   "id": "extra-executive",
   "metadata": {
    "papermill": {
     "duration": 0.022764,
     "end_time": "2021-10-06T11:00:10.481085",
     "exception": false,
     "start_time": "2021-10-06T11:00:10.458321",
     "status": "completed"
    },
    "tags": []
   },
   "outputs": [],
   "source": []
  }
 ],
 "metadata": {
  "kernelspec": {
   "display_name": "Python 3",
   "language": "python",
   "name": "python3"
  },
  "language_info": {
   "codemirror_mode": {
    "name": "ipython",
    "version": 3
   },
   "file_extension": ".py",
   "mimetype": "text/x-python",
   "name": "python",
   "nbconvert_exporter": "python",
   "pygments_lexer": "ipython3",
   "version": "3.9.5"
  },
  "papermill": {
   "default_parameters": {},
   "duration": 7.833168,
   "end_time": "2021-10-06T11:00:11.943503",
   "environment_variables": {},
   "exception": null,
   "input_path": "eBay_Overview.ipynb",
   "output_path": "eBay_Overview.ipynb",
   "parameters": {},
   "start_time": "2021-10-06T11:00:04.110335",
   "version": "2.3.3"
  }
 },
 "nbformat": 4,
 "nbformat_minor": 5
}