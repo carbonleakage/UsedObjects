{
 "cells": [
  {
   "cell_type": "code",
   "execution_count": 1,
   "id": "reverse-picking",
   "metadata": {
    "execution": {
     "iopub.execute_input": "2021-10-21T00:30:07.137947Z",
     "iopub.status.busy": "2021-10-21T00:30:07.135894Z",
     "iopub.status.idle": "2021-10-21T00:30:07.945807Z",
     "shell.execute_reply": "2021-10-21T00:30:07.947233Z"
    },
    "papermill": {
     "duration": 0.859829,
     "end_time": "2021-10-21T00:30:07.947927",
     "exception": false,
     "start_time": "2021-10-21T00:30:07.088098",
     "status": "completed"
    },
    "tags": []
   },
   "outputs": [],
   "source": [
    "import pandas as pd\n",
    "import sqlite3"
   ]
  },
  {
   "cell_type": "code",
   "execution_count": 2,
   "id": "innovative-syndrome",
   "metadata": {
    "execution": {
     "iopub.execute_input": "2021-10-21T00:30:07.999662Z",
     "iopub.status.busy": "2021-10-21T00:30:07.997324Z",
     "iopub.status.idle": "2021-10-21T00:30:08.588296Z",
     "shell.execute_reply": "2021-10-21T00:30:08.589581Z"
    },
    "papermill": {
     "duration": 0.621426,
     "end_time": "2021-10-21T00:30:08.589990",
     "exception": false,
     "start_time": "2021-10-21T00:30:07.968564",
     "status": "completed"
    },
    "tags": []
   },
   "outputs": [],
   "source": [
    "timestamps = pd.read_sql(\"select distinct record_time from EBAY_TOP_BERLIN order by record_time desc limit 2\", sqlite3.connect(\"UsedObjects.db\"))"
   ]
  },
  {
   "cell_type": "code",
   "execution_count": 3,
   "id": "periodic-identification",
   "metadata": {
    "execution": {
     "iopub.execute_input": "2021-10-21T00:30:08.672736Z",
     "iopub.status.busy": "2021-10-21T00:30:08.670645Z",
     "iopub.status.idle": "2021-10-21T00:30:08.691114Z",
     "shell.execute_reply": "2021-10-21T00:30:08.692584Z"
    },
    "papermill": {
     "duration": 0.071722,
     "end_time": "2021-10-21T00:30:08.693147",
     "exception": false,
     "start_time": "2021-10-21T00:30:08.621425",
     "status": "completed"
    },
    "tags": []
   },
   "outputs": [
    {
     "data": {
      "text/html": [
       "<div>\n",
       "<style scoped>\n",
       "    .dataframe tbody tr th:only-of-type {\n",
       "        vertical-align: middle;\n",
       "    }\n",
       "\n",
       "    .dataframe tbody tr th {\n",
       "        vertical-align: top;\n",
       "    }\n",
       "\n",
       "    .dataframe thead th {\n",
       "        text-align: right;\n",
       "    }\n",
       "</style>\n",
       "<table border=\"1\" class=\"dataframe\">\n",
       "  <thead>\n",
       "    <tr style=\"text-align: right;\">\n",
       "      <th></th>\n",
       "      <th>RECORD_TIME</th>\n",
       "    </tr>\n",
       "  </thead>\n",
       "  <tbody>\n",
       "    <tr>\n",
       "      <th>0</th>\n",
       "      <td>2021-10-21 02:30</td>\n",
       "    </tr>\n",
       "    <tr>\n",
       "      <th>1</th>\n",
       "      <td>2021-10-21 02:00</td>\n",
       "    </tr>\n",
       "  </tbody>\n",
       "</table>\n",
       "</div>"
      ],
      "text/plain": [
       "        RECORD_TIME\n",
       "0  2021-10-21 02:30\n",
       "1  2021-10-21 02:00"
      ]
     },
     "execution_count": 3,
     "metadata": {},
     "output_type": "execute_result"
    }
   ],
   "source": [
    "timestamps"
   ]
  },
  {
   "cell_type": "code",
   "execution_count": 4,
   "id": "alternate-victory",
   "metadata": {
    "execution": {
     "iopub.execute_input": "2021-10-21T00:30:08.745961Z",
     "iopub.status.busy": "2021-10-21T00:30:08.744015Z",
     "iopub.status.idle": "2021-10-21T00:30:09.593935Z",
     "shell.execute_reply": "2021-10-21T00:30:09.595219Z"
    },
    "papermill": {
     "duration": 0.879945,
     "end_time": "2021-10-21T00:30:09.595614",
     "exception": false,
     "start_time": "2021-10-21T00:30:08.715669",
     "status": "completed"
    },
    "tags": []
   },
   "outputs": [],
   "source": [
    "df = pd.read_sql(\"select * from EBAY_TOP_BERLIN where record_time in (select distinct record_time from EBAY_TOP_BERLIN order by record_time desc limit 2)\", sqlite3.connect(\"UsedObjects.db\"))"
   ]
  },
  {
   "cell_type": "code",
   "execution_count": 5,
   "id": "popular-active",
   "metadata": {
    "execution": {
     "iopub.execute_input": "2021-10-21T00:30:09.666736Z",
     "iopub.status.busy": "2021-10-21T00:30:09.654338Z",
     "iopub.status.idle": "2021-10-21T00:30:09.682678Z",
     "shell.execute_reply": "2021-10-21T00:30:09.683902Z"
    },
    "papermill": {
     "duration": 0.068103,
     "end_time": "2021-10-21T00:30:09.684299",
     "exception": false,
     "start_time": "2021-10-21T00:30:09.616196",
     "status": "completed"
    },
    "tags": []
   },
   "outputs": [],
   "source": [
    "df_pivot = df.pivot_table(index=\"PRODUCT\", columns = \"RECORD_TIME\", values = \"LISTING_COUNT\")"
   ]
  },
  {
   "cell_type": "code",
   "execution_count": 6,
   "id": "union-huntington",
   "metadata": {
    "execution": {
     "iopub.execute_input": "2021-10-21T00:30:09.740445Z",
     "iopub.status.busy": "2021-10-21T00:30:09.738384Z",
     "iopub.status.idle": "2021-10-21T00:30:09.743736Z",
     "shell.execute_reply": "2021-10-21T00:30:09.745007Z"
    },
    "papermill": {
     "duration": 0.040107,
     "end_time": "2021-10-21T00:30:09.745438",
     "exception": false,
     "start_time": "2021-10-21T00:30:09.705331",
     "status": "completed"
    },
    "tags": []
   },
   "outputs": [],
   "source": [
    "df_pivot.columns = [\"stamp_1\", \"stamp_2\"]\n",
    "df_pivot_diff = df_pivot.diff(axis=1)"
   ]
  },
  {
   "cell_type": "code",
   "execution_count": 7,
   "id": "fifth-motion",
   "metadata": {
    "execution": {
     "iopub.execute_input": "2021-10-21T00:30:09.802828Z",
     "iopub.status.busy": "2021-10-21T00:30:09.800212Z",
     "iopub.status.idle": "2021-10-21T00:30:11.314944Z",
     "shell.execute_reply": "2021-10-21T00:30:11.316524Z"
    },
    "papermill": {
     "duration": 1.548562,
     "end_time": "2021-10-21T00:30:11.317079",
     "exception": false,
     "start_time": "2021-10-21T00:30:09.768517",
     "status": "completed"
    },
    "tags": []
   },
   "outputs": [
    {
     "data": {
      "text/plain": [
       "<AxesSubplot:ylabel='PRODUCT'>"
      ]
     },
     "execution_count": 7,
     "metadata": {},
     "output_type": "execute_result"
    },
    {
     "data": {
      "image/png": "[encoded data removed]",
      "text/plain": [
       "<Figure size 432x288 with 1 Axes>"
      ]
     },
     "metadata": {
      "needs_background": "light"
     },
     "output_type": "display_data"
    }
   ],
   "source": [
    "df_pivot_diff.sort_values(\"stamp_2\", ascending = False)[\"stamp_2\"].head(10).plot.barh()"
   ]
  },
  {
   "cell_type": "code",
   "execution_count": null,
   "id": "extra-executive",
   "metadata": {
    "papermill": {
     "duration": 0.022362,
     "end_time": "2021-10-21T00:30:11.365168",
     "exception": false,
     "start_time": "2021-10-21T00:30:11.342806",
     "status": "completed"
    },
    "tags": []
   },
   "outputs": [],
   "source": []
  }
 ],
 "metadata": {
  "kernelspec": {
   "display_name": "Python 3",
   "language": "python",
   "name": "python3"
  },
  "language_info": {
   "codemirror_mode": {
    "name": "ipython",
    "version": 3
   },
   "file_extension": ".py",
   "mimetype": "text/x-python",
   "name": "python",
   "nbconvert_exporter": "python",
   "pygments_lexer": "ipython3",
   "version": "3.9.5"
  },
  "papermill": {
   "default_parameters": {},
   "duration": 7.335726,
   "end_time": "2021-10-21T00:30:12.006527",
   "environment_variables": {},
   "exception": null,
   "input_path": "eBay_Overview.ipynb",
   "output_path": "eBay_Overview.ipynb",
   "parameters": {},
   "start_time": "2021-10-21T00:30:04.670801",
   "version": "2.3.3"
  }
 },
 "nbformat": 4,
 "nbformat_minor": 5
}