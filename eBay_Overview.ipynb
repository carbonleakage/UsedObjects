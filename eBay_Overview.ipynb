{
 "cells": [
  {
   "cell_type": "code",
   "execution_count": 1,
   "id": "reverse-picking",
   "metadata": {
    "execution": {
     "iopub.execute_input": "2021-09-01T10:30:06.949592Z",
     "iopub.status.busy": "2021-09-01T10:30:06.947642Z",
     "iopub.status.idle": "2021-09-01T10:30:07.751174Z",
     "shell.execute_reply": "2021-09-01T10:30:07.752549Z"
    },
    "papermill": {
     "duration": 0.855255,
     "end_time": "2021-09-01T10:30:07.753204",
     "exception": false,
     "start_time": "2021-09-01T10:30:06.897949",
     "status": "completed"
    },
    "tags": []
   },
   "outputs": [],
   "source": [
    "import pandas as pd\n",
    "import sqlite3"
   ]
  },
  {
   "cell_type": "code",
   "execution_count": 2,
   "id": "innovative-syndrome",
   "metadata": {
    "execution": {
     "iopub.execute_input": "2021-09-01T10:30:07.804076Z",
     "iopub.status.busy": "2021-09-01T10:30:07.802135Z",
     "iopub.status.idle": "2021-09-01T10:30:07.984645Z",
     "shell.execute_reply": "2021-09-01T10:30:07.985929Z"
    },
    "papermill": {
     "duration": 0.212119,
     "end_time": "2021-09-01T10:30:07.986345",
     "exception": false,
     "start_time": "2021-09-01T10:30:07.774226",
     "status": "completed"
    },
    "tags": []
   },
   "outputs": [],
   "source": [
    "timestamps = pd.read_sql(\"select distinct record_time from EBAY_TOP_BERLIN order by record_time desc limit 2\", sqlite3.connect(\"UsedObjects.db\"))"
   ]
  },
  {
   "cell_type": "code",
   "execution_count": 3,
   "id": "periodic-identification",
   "metadata": {
    "execution": {
     "iopub.execute_input": "2021-09-01T10:30:08.052986Z",
     "iopub.status.busy": "2021-09-01T10:30:08.050955Z",
     "iopub.status.idle": "2021-09-01T10:30:08.070690Z",
     "shell.execute_reply": "2021-09-01T10:30:08.072066Z"
    },
    "papermill": {
     "duration": 0.067069,
     "end_time": "2021-09-01T10:30:08.072490",
     "exception": false,
     "start_time": "2021-09-01T10:30:08.005421",
     "status": "completed"
    },
    "tags": []
   },
   "outputs": [
    {
     "data": {
      "text/html": [
       "<div>\n",
       "<style scoped>\n",
       "    .dataframe tbody tr th:only-of-type {\n",
       "        vertical-align: middle;\n",
       "    }\n",
       "\n",
       "    .dataframe tbody tr th {\n",
       "        vertical-align: top;\n",
       "    }\n",
       "\n",
       "    .dataframe thead th {\n",
       "        text-align: right;\n",
       "    }\n",
       "</style>\n",
       "<table border=\"1\" class=\"dataframe\">\n",
       "  <thead>\n",
       "    <tr style=\"text-align: right;\">\n",
       "      <th></th>\n",
       "      <th>RECORD_TIME</th>\n",
       "    </tr>\n",
       "  </thead>\n",
       "  <tbody>\n",
       "    <tr>\n",
       "      <th>0</th>\n",
       "      <td>2021-09-01 12:30</td>\n",
       "    </tr>\n",
       "    <tr>\n",
       "      <th>1</th>\n",
       "      <td>2021-09-01 12:00</td>\n",
       "    </tr>\n",
       "  </tbody>\n",
       "</table>\n",
       "</div>"
      ],
      "text/plain": [
       "        RECORD_TIME\n",
       "0  2021-09-01 12:30\n",
       "1  2021-09-01 12:00"
      ]
     },
     "execution_count": 3,
     "metadata": {},
     "output_type": "execute_result"
    }
   ],
   "source": [
    "timestamps"
   ]
  },
  {
   "cell_type": "code",
   "execution_count": 4,
   "id": "alternate-victory",
   "metadata": {
    "execution": {
     "iopub.execute_input": "2021-09-01T10:30:08.123892Z",
     "iopub.status.busy": "2021-09-01T10:30:08.121946Z",
     "iopub.status.idle": "2021-09-01T10:30:08.395851Z",
     "shell.execute_reply": "2021-09-01T10:30:08.397135Z"
    },
    "papermill": {
     "duration": 0.303929,
     "end_time": "2021-09-01T10:30:08.397534",
     "exception": false,
     "start_time": "2021-09-01T10:30:08.093605",
     "status": "completed"
    },
    "tags": []
   },
   "outputs": [],
   "source": [
    "df = pd.read_sql(\"select * from EBAY_TOP_BERLIN where record_time in (select distinct record_time from EBAY_TOP_BERLIN order by record_time desc limit 2)\", sqlite3.connect(\"UsedObjects.db\"))"
   ]
  },
  {
   "cell_type": "code",
   "execution_count": 5,
   "id": "popular-active",
   "metadata": {
    "execution": {
     "iopub.execute_input": "2021-09-01T10:30:08.477229Z",
     "iopub.status.busy": "2021-09-01T10:30:08.465503Z",
     "iopub.status.idle": "2021-09-01T10:30:08.493002Z",
     "shell.execute_reply": "2021-09-01T10:30:08.494215Z"
    },
    "papermill": {
     "duration": 0.071377,
     "end_time": "2021-09-01T10:30:08.494648",
     "exception": false,
     "start_time": "2021-09-01T10:30:08.423271",
     "status": "completed"
    },
    "tags": []
   },
   "outputs": [],
   "source": [
    "df_pivot = df.pivot_table(index=\"PRODUCT\", columns = \"RECORD_TIME\", values = \"LISTING_COUNT\")"
   ]
  },
  {
   "cell_type": "code",
   "execution_count": 6,
   "id": "union-huntington",
   "metadata": {
    "execution": {
     "iopub.execute_input": "2021-09-01T10:30:08.550084Z",
     "iopub.status.busy": "2021-09-01T10:30:08.547932Z",
     "iopub.status.idle": "2021-09-01T10:30:08.553565Z",
     "shell.execute_reply": "2021-09-01T10:30:08.555133Z"
    },
    "papermill": {
     "duration": 0.040859,
     "end_time": "2021-09-01T10:30:08.555600",
     "exception": false,
     "start_time": "2021-09-01T10:30:08.514741",
     "status": "completed"
    },
    "tags": []
   },
   "outputs": [],
   "source": [
    "df_pivot.columns = [\"stamp_1\", \"stamp_2\"]\n",
    "df_pivot_diff = df_pivot.diff(axis=1)"
   ]
  },
  {
   "cell_type": "code",
   "execution_count": 7,
   "id": "fifth-motion",
   "metadata": {
    "execution": {
     "iopub.execute_input": "2021-09-01T10:30:08.612840Z",
     "iopub.status.busy": "2021-09-01T10:30:08.610366Z",
     "iopub.status.idle": "2021-09-01T10:30:10.078971Z",
     "shell.execute_reply": "2021-09-01T10:30:10.080419Z"
    },
    "papermill": {
     "duration": 1.502494,
     "end_time": "2021-09-01T10:30:10.080866",
     "exception": false,
     "start_time": "2021-09-01T10:30:08.578372",
     "status": "completed"
    },
    "tags": []
   },
   "outputs": [
    {
     "data": {
      "text/plain": [
       "<AxesSubplot:ylabel='PRODUCT'>"
      ]
     },
     "execution_count": 7,
     "metadata": {},
     "output_type": "execute_result"
    },
    {
     "data": {
      "image/png": "[encoded data removed]",
      "text/plain": [
       "<Figure size 432x288 with 1 Axes>"
      ]
     },
     "metadata": {
      "needs_background": "light"
     },
     "output_type": "display_data"
    }
   ],
   "source": [
    "df_pivot_diff.sort_values(\"stamp_2\", ascending = False)[\"stamp_2\"].head(10).plot.barh()"
   ]
  },
  {
   "cell_type": "code",
   "execution_count": null,
   "id": "extra-executive",
   "metadata": {
    "papermill": {
     "duration": 0.022158,
     "end_time": "2021-09-01T10:30:10.126952",
     "exception": false,
     "start_time": "2021-09-01T10:30:10.104794",
     "status": "completed"
    },
    "tags": []
   },
   "outputs": [],
   "source": []
  }
 ],
 "metadata": {
  "kernelspec": {
   "display_name": "Python 3",
   "language": "python",
   "name": "python3"
  },
  "language_info": {
   "codemirror_mode": {
    "name": "ipython",
    "version": 3
   },
   "file_extension": ".py",
   "mimetype": "text/x-python",
   "name": "python",
   "nbconvert_exporter": "python",
   "pygments_lexer": "ipython3",
   "version": "3.9.5"
  },
  "papermill": {
   "default_parameters": {},
   "duration": 6.818046,
   "end_time": "2021-09-01T10:30:11.323791",
   "environment_variables": {},
   "exception": null,
   "input_path": "eBay_Overview.ipynb",
   "output_path": "eBay_Overview.ipynb",
   "parameters": {},
   "start_time": "2021-09-01T10:30:04.505745",
   "version": "2.3.3"
  }
 },
 "nbformat": 4,
 "nbformat_minor": 5
}