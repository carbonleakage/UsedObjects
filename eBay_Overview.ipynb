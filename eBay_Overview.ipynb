{
 "cells": [
  {
   "cell_type": "code",
   "execution_count": 1,
   "id": "reverse-picking",
   "metadata": {
    "execution": {
     "iopub.execute_input": "2021-08-28T16:30:06.603034Z",
     "iopub.status.busy": "2021-08-28T16:30:06.601100Z",
     "iopub.status.idle": "2021-08-28T16:30:07.402926Z",
     "shell.execute_reply": "2021-08-28T16:30:07.404303Z"
    },
    "papermill": {
     "duration": 0.852503,
     "end_time": "2021-08-28T16:30:07.404975",
     "exception": false,
     "start_time": "2021-08-28T16:30:06.552472",
     "status": "completed"
    },
    "tags": []
   },
   "outputs": [],
   "source": [
    "import pandas as pd\n",
    "import sqlite3"
   ]
  },
  {
   "cell_type": "code",
   "execution_count": 2,
   "id": "innovative-syndrome",
   "metadata": {
    "execution": {
     "iopub.execute_input": "2021-08-28T16:30:07.455943Z",
     "iopub.status.busy": "2021-08-28T16:30:07.453912Z",
     "iopub.status.idle": "2021-08-28T16:30:07.610103Z",
     "shell.execute_reply": "2021-08-28T16:30:07.611222Z"
    },
    "papermill": {
     "duration": 0.186372,
     "end_time": "2021-08-28T16:30:07.611638",
     "exception": false,
     "start_time": "2021-08-28T16:30:07.425266",
     "status": "completed"
    },
    "tags": []
   },
   "outputs": [],
   "source": [
    "timestamps = pd.read_sql(\"select distinct record_time from EBAY_TOP_BERLIN order by record_time desc limit 2\", sqlite3.connect(\"UsedObjects.db\"))"
   ]
  },
  {
   "cell_type": "code",
   "execution_count": 3,
   "id": "periodic-identification",
   "metadata": {
    "execution": {
     "iopub.execute_input": "2021-08-28T16:30:07.676670Z",
     "iopub.status.busy": "2021-08-28T16:30:07.674557Z",
     "iopub.status.idle": "2021-08-28T16:30:07.694700Z",
     "shell.execute_reply": "2021-08-28T16:30:07.695984Z"
    },
    "papermill": {
     "duration": 0.06371,
     "end_time": "2021-08-28T16:30:07.696455",
     "exception": false,
     "start_time": "2021-08-28T16:30:07.632745",
     "status": "completed"
    },
    "tags": []
   },
   "outputs": [
    {
     "data": {
      "text/html": [
       "<div>\n",
       "<style scoped>\n",
       "    .dataframe tbody tr th:only-of-type {\n",
       "        vertical-align: middle;\n",
       "    }\n",
       "\n",
       "    .dataframe tbody tr th {\n",
       "        vertical-align: top;\n",
       "    }\n",
       "\n",
       "    .dataframe thead th {\n",
       "        text-align: right;\n",
       "    }\n",
       "</style>\n",
       "<table border=\"1\" class=\"dataframe\">\n",
       "  <thead>\n",
       "    <tr style=\"text-align: right;\">\n",
       "      <th></th>\n",
       "      <th>RECORD_TIME</th>\n",
       "    </tr>\n",
       "  </thead>\n",
       "  <tbody>\n",
       "    <tr>\n",
       "      <th>0</th>\n",
       "      <td>2021-08-28 18:30</td>\n",
       "    </tr>\n",
       "    <tr>\n",
       "      <th>1</th>\n",
       "      <td>2021-08-28 18:00</td>\n",
       "    </tr>\n",
       "  </tbody>\n",
       "</table>\n",
       "</div>"
      ],
      "text/plain": [
       "        RECORD_TIME\n",
       "0  2021-08-28 18:30\n",
       "1  2021-08-28 18:00"
      ]
     },
     "execution_count": 3,
     "metadata": {},
     "output_type": "execute_result"
    }
   ],
   "source": [
    "timestamps"
   ]
  },
  {
   "cell_type": "code",
   "execution_count": 4,
   "id": "alternate-victory",
   "metadata": {
    "execution": {
     "iopub.execute_input": "2021-08-28T16:30:07.748023Z",
     "iopub.status.busy": "2021-08-28T16:30:07.746199Z",
     "iopub.status.idle": "2021-08-28T16:30:07.974328Z",
     "shell.execute_reply": "2021-08-28T16:30:07.975548Z"
    },
    "papermill": {
     "duration": 0.25804,
     "end_time": "2021-08-28T16:30:07.975947",
     "exception": false,
     "start_time": "2021-08-28T16:30:07.717907",
     "status": "completed"
    },
    "tags": []
   },
   "outputs": [],
   "source": [
    "df = pd.read_sql(\"select * from EBAY_TOP_BERLIN where record_time in (select distinct record_time from EBAY_TOP_BERLIN order by record_time desc limit 2)\", sqlite3.connect(\"UsedObjects.db\"))"
   ]
  },
  {
   "cell_type": "code",
   "execution_count": 5,
   "id": "popular-active",
   "metadata": {
    "execution": {
     "iopub.execute_input": "2021-08-28T16:30:08.037114Z",
     "iopub.status.busy": "2021-08-28T16:30:08.034788Z",
     "iopub.status.idle": "2021-08-28T16:30:08.061938Z",
     "shell.execute_reply": "2021-08-28T16:30:08.063151Z"
    },
    "papermill": {
     "duration": 0.067089,
     "end_time": "2021-08-28T16:30:08.063551",
     "exception": false,
     "start_time": "2021-08-28T16:30:07.996462",
     "status": "completed"
    },
    "tags": []
   },
   "outputs": [],
   "source": [
    "df_pivot = df.pivot_table(index=\"PRODUCT\", columns = \"RECORD_TIME\", values = \"LISTING_COUNT\")"
   ]
  },
  {
   "cell_type": "code",
   "execution_count": 6,
   "id": "union-huntington",
   "metadata": {
    "execution": {
     "iopub.execute_input": "2021-08-28T16:30:08.129656Z",
     "iopub.status.busy": "2021-08-28T16:30:08.127559Z",
     "iopub.status.idle": "2021-08-28T16:30:08.132805Z",
     "shell.execute_reply": "2021-08-28T16:30:08.134191Z"
    },
    "papermill": {
     "duration": 0.044427,
     "end_time": "2021-08-28T16:30:08.134647",
     "exception": false,
     "start_time": "2021-08-28T16:30:08.090220",
     "status": "completed"
    },
    "tags": []
   },
   "outputs": [],
   "source": [
    "df_pivot.columns = [\"stamp_1\", \"stamp_2\"]\n",
    "df_pivot_diff = df_pivot.diff(axis=1)"
   ]
  },
  {
   "cell_type": "code",
   "execution_count": 7,
   "id": "fifth-motion",
   "metadata": {
    "execution": {
     "iopub.execute_input": "2021-08-28T16:30:08.188999Z",
     "iopub.status.busy": "2021-08-28T16:30:08.186444Z",
     "iopub.status.idle": "2021-08-28T16:30:09.659052Z",
     "shell.execute_reply": "2021-08-28T16:30:09.660421Z"
    },
    "papermill": {
     "duration": 1.505771,
     "end_time": "2021-08-28T16:30:09.660889",
     "exception": false,
     "start_time": "2021-08-28T16:30:08.155118",
     "status": "completed"
    },
    "tags": []
   },
   "outputs": [
    {
     "data": {
      "text/plain": [
       "<AxesSubplot:ylabel='PRODUCT'>"
      ]
     },
     "execution_count": 7,
     "metadata": {},
     "output_type": "execute_result"
    },
    {
     "data": {
      "image/png": "[encoded data removed]",
      "text/plain": [
       "<Figure size 432x288 with 1 Axes>"
      ]
     },
     "metadata": {
      "needs_background": "light"
     },
     "output_type": "display_data"
    }
   ],
   "source": [
    "df_pivot_diff.sort_values(\"stamp_2\", ascending = False)[\"stamp_2\"].head(10).plot.barh()"
   ]
  },
  {
   "cell_type": "code",
   "execution_count": null,
   "id": "extra-executive",
   "metadata": {
    "papermill": {
     "duration": 0.022328,
     "end_time": "2021-08-28T16:30:09.708005",
     "exception": false,
     "start_time": "2021-08-28T16:30:09.685677",
     "status": "completed"
    },
    "tags": []
   },
   "outputs": [],
   "source": []
  }
 ],
 "metadata": {
  "kernelspec": {
   "display_name": "Python 3",
   "language": "python",
   "name": "python3"
  },
  "language_info": {
   "codemirror_mode": {
    "name": "ipython",
    "version": 3
   },
   "file_extension": ".py",
   "mimetype": "text/x-python",
   "name": "python",
   "nbconvert_exporter": "python",
   "pygments_lexer": "ipython3",
   "version": "3.9.5"
  },
  "papermill": {
   "default_parameters": {},
   "duration": 6.821463,
   "end_time": "2021-08-28T16:30:10.969453",
   "environment_variables": {},
   "exception": null,
   "input_path": "eBay_Overview.ipynb",
   "output_path": "eBay_Overview.ipynb",
   "parameters": {},
   "start_time": "2021-08-28T16:30:04.147990",
   "version": "2.3.3"
  }
 },
 "nbformat": 4,
 "nbformat_minor": 5
}