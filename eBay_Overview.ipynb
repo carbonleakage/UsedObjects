{
 "cells": [
  {
   "cell_type": "code",
   "execution_count": 1,
   "id": "reverse-picking",
   "metadata": {
    "execution": {
     "iopub.execute_input": "2021-12-07T18:00:07.912349Z",
     "iopub.status.busy": "2021-12-07T18:00:07.910366Z",
     "iopub.status.idle": "2021-12-07T18:00:08.842741Z",
     "shell.execute_reply": "2021-12-07T18:00:08.843982Z"
    },
    "papermill": {
     "duration": 0.980751,
     "end_time": "2021-12-07T18:00:08.844606",
     "exception": false,
     "start_time": "2021-12-07T18:00:07.863855",
     "status": "completed"
    },
    "tags": []
   },
   "outputs": [],
   "source": [
    "import pandas as pd\n",
    "import sqlite3"
   ]
  },
  {
   "cell_type": "code",
   "execution_count": 2,
   "id": "innovative-syndrome",
   "metadata": {
    "execution": {
     "iopub.execute_input": "2021-12-07T18:00:08.896367Z",
     "iopub.status.busy": "2021-12-07T18:00:08.893999Z",
     "iopub.status.idle": "2021-12-07T18:00:09.921150Z",
     "shell.execute_reply": "2021-12-07T18:00:09.922584Z"
    },
    "papermill": {
     "duration": 1.058156,
     "end_time": "2021-12-07T18:00:09.923065",
     "exception": false,
     "start_time": "2021-12-07T18:00:08.864909",
     "status": "completed"
    },
    "tags": []
   },
   "outputs": [],
   "source": [
    "timestamps = pd.read_sql(\"select distinct record_time from EBAY_TOP_BERLIN order by record_time desc limit 2\", sqlite3.connect(\"UsedObjects.db\"))"
   ]
  },
  {
   "cell_type": "code",
   "execution_count": 3,
   "id": "periodic-identification",
   "metadata": {
    "execution": {
     "iopub.execute_input": "2021-12-07T18:00:10.014657Z",
     "iopub.status.busy": "2021-12-07T18:00:10.010839Z",
     "iopub.status.idle": "2021-12-07T18:00:10.046112Z",
     "shell.execute_reply": "2021-12-07T18:00:10.047592Z"
    },
    "papermill": {
     "duration": 0.104116,
     "end_time": "2021-12-07T18:00:10.048136",
     "exception": false,
     "start_time": "2021-12-07T18:00:09.944020",
     "status": "completed"
    },
    "tags": []
   },
   "outputs": [
    {
     "data": {
      "text/html": [
       "<div>\n",
       "<style scoped>\n",
       "    .dataframe tbody tr th:only-of-type {\n",
       "        vertical-align: middle;\n",
       "    }\n",
       "\n",
       "    .dataframe tbody tr th {\n",
       "        vertical-align: top;\n",
       "    }\n",
       "\n",
       "    .dataframe thead th {\n",
       "        text-align: right;\n",
       "    }\n",
       "</style>\n",
       "<table border=\"1\" class=\"dataframe\">\n",
       "  <thead>\n",
       "    <tr style=\"text-align: right;\">\n",
       "      <th></th>\n",
       "      <th>RECORD_TIME</th>\n",
       "    </tr>\n",
       "  </thead>\n",
       "  <tbody>\n",
       "    <tr>\n",
       "      <th>0</th>\n",
       "      <td>2021-12-07 19:00</td>\n",
       "    </tr>\n",
       "    <tr>\n",
       "      <th>1</th>\n",
       "      <td>2021-12-07 18:30</td>\n",
       "    </tr>\n",
       "  </tbody>\n",
       "</table>\n",
       "</div>"
      ],
      "text/plain": [
       "        RECORD_TIME\n",
       "0  2021-12-07 19:00\n",
       "1  2021-12-07 18:30"
      ]
     },
     "execution_count": 3,
     "metadata": {},
     "output_type": "execute_result"
    }
   ],
   "source": [
    "timestamps"
   ]
  },
  {
   "cell_type": "code",
   "execution_count": 4,
   "id": "alternate-victory",
   "metadata": {
    "execution": {
     "iopub.execute_input": "2021-12-07T18:00:10.106421Z",
     "iopub.status.busy": "2021-12-07T18:00:10.104224Z",
     "iopub.status.idle": "2021-12-07T18:00:11.548032Z",
     "shell.execute_reply": "2021-12-07T18:00:11.550776Z"
    },
    "papermill": {
     "duration": 1.48043,
     "end_time": "2021-12-07T18:00:11.551648",
     "exception": false,
     "start_time": "2021-12-07T18:00:10.071218",
     "status": "completed"
    },
    "tags": []
   },
   "outputs": [],
   "source": [
    "df = pd.read_sql(\"select * from EBAY_TOP_BERLIN where record_time in (select distinct record_time from EBAY_TOP_BERLIN order by record_time desc limit 2)\", sqlite3.connect(\"UsedObjects.db\"))"
   ]
  },
  {
   "cell_type": "code",
   "execution_count": 5,
   "id": "popular-active",
   "metadata": {
    "execution": {
     "iopub.execute_input": "2021-12-07T18:00:11.670128Z",
     "iopub.status.busy": "2021-12-07T18:00:11.648117Z",
     "iopub.status.idle": "2021-12-07T18:00:11.707833Z",
     "shell.execute_reply": "2021-12-07T18:00:11.705107Z"
    },
    "papermill": {
     "duration": 0.125527,
     "end_time": "2021-12-07T18:00:11.708537",
     "exception": false,
     "start_time": "2021-12-07T18:00:11.583010",
     "status": "completed"
    },
    "tags": []
   },
   "outputs": [],
   "source": [
    "df_pivot = df.pivot_table(index=\"PRODUCT\", columns = \"RECORD_TIME\", values = \"LISTING_COUNT\")"
   ]
  },
  {
   "cell_type": "code",
   "execution_count": 6,
   "id": "union-huntington",
   "metadata": {
    "execution": {
     "iopub.execute_input": "2021-12-07T18:00:11.800823Z",
     "iopub.status.busy": "2021-12-07T18:00:11.797958Z",
     "iopub.status.idle": "2021-12-07T18:00:11.805055Z",
     "shell.execute_reply": "2021-12-07T18:00:11.807400Z"
    },
    "papermill": {
     "duration": 0.066208,
     "end_time": "2021-12-07T18:00:11.807990",
     "exception": false,
     "start_time": "2021-12-07T18:00:11.741782",
     "status": "completed"
    },
    "tags": []
   },
   "outputs": [],
   "source": [
    "df_pivot.columns = [\"stamp_1\", \"stamp_2\"]\n",
    "df_pivot_diff = df_pivot.diff(axis=1)"
   ]
  },
  {
   "cell_type": "code",
   "execution_count": 7,
   "id": "fifth-motion",
   "metadata": {
    "execution": {
     "iopub.execute_input": "2021-12-07T18:00:11.889167Z",
     "iopub.status.busy": "2021-12-07T18:00:11.884876Z",
     "iopub.status.idle": "2021-12-07T18:00:13.605546Z",
     "shell.execute_reply": "2021-12-07T18:00:13.606839Z"
    },
    "papermill": {
     "duration": 1.775192,
     "end_time": "2021-12-07T18:00:13.607256",
     "exception": false,
     "start_time": "2021-12-07T18:00:11.832064",
     "status": "completed"
    },
    "tags": []
   },
   "outputs": [
    {
     "data": {
      "text/plain": [
       "<AxesSubplot:ylabel='PRODUCT'>"
      ]
     },
     "execution_count": 7,
     "metadata": {},
     "output_type": "execute_result"
    },
    {
     "data": {
      "image/png": "[encoded data removed]",
      "text/plain": [
       "<Figure size 432x288 with 1 Axes>"
      ]
     },
     "metadata": {
      "needs_background": "light"
     },
     "output_type": "display_data"
    }
   ],
   "source": [
    "df_pivot_diff.sort_values(\"stamp_2\", ascending = False)[\"stamp_2\"].head(10).plot.barh()"
   ]
  },
  {
   "cell_type": "code",
   "execution_count": null,
   "id": "extra-executive",
   "metadata": {
    "papermill": {
     "duration": 0.02231,
     "end_time": "2021-12-07T18:00:13.653762",
     "exception": false,
     "start_time": "2021-12-07T18:00:13.631452",
     "status": "completed"
    },
    "tags": []
   },
   "outputs": [],
   "source": []
  }
 ],
 "metadata": {
  "kernelspec": {
   "display_name": "Python 3",
   "language": "python",
   "name": "python3"
  },
  "language_info": {
   "codemirror_mode": {
    "name": "ipython",
    "version": 3
   },
   "file_extension": ".py",
   "mimetype": "text/x-python",
   "name": "python",
   "nbconvert_exporter": "python",
   "pygments_lexer": "ipython3",
   "version": "3.9.5"
  },
  "papermill": {
   "default_parameters": {},
   "duration": 9.937153,
   "end_time": "2021-12-07T18:00:15.075978",
   "environment_variables": {},
   "exception": null,
   "input_path": "eBay_Overview.ipynb",
   "output_path": "eBay_Overview.ipynb",
   "parameters": {},
   "start_time": "2021-12-07T18:00:05.138825",
   "version": "2.3.3"
  }
 },
 "nbformat": 4,
 "nbformat_minor": 5
}