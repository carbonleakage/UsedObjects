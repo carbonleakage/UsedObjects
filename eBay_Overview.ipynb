{
 "cells": [
  {
   "cell_type": "code",
   "execution_count": 1,
   "id": "reverse-picking",
   "metadata": {
    "execution": {
     "iopub.execute_input": "2021-11-17T17:30:07.169536Z",
     "iopub.status.busy": "2021-11-17T17:30:07.167147Z",
     "iopub.status.idle": "2021-11-17T17:30:08.103385Z",
     "shell.execute_reply": "2021-11-17T17:30:08.105040Z"
    },
    "papermill": {
     "duration": 0.998829,
     "end_time": "2021-11-17T17:30:08.105775",
     "exception": false,
     "start_time": "2021-11-17T17:30:07.106946",
     "status": "completed"
    },
    "tags": []
   },
   "outputs": [],
   "source": [
    "import pandas as pd\n",
    "import sqlite3"
   ]
  },
  {
   "cell_type": "code",
   "execution_count": 2,
   "id": "innovative-syndrome",
   "metadata": {
    "execution": {
     "iopub.execute_input": "2021-11-17T17:30:08.162827Z",
     "iopub.status.busy": "2021-11-17T17:30:08.160502Z",
     "iopub.status.idle": "2021-11-17T17:30:09.012021Z",
     "shell.execute_reply": "2021-11-17T17:30:09.013643Z"
    },
    "papermill": {
     "duration": 0.887222,
     "end_time": "2021-11-17T17:30:09.014113",
     "exception": false,
     "start_time": "2021-11-17T17:30:08.126891",
     "status": "completed"
    },
    "tags": []
   },
   "outputs": [],
   "source": [
    "timestamps = pd.read_sql(\"select distinct record_time from EBAY_TOP_BERLIN order by record_time desc limit 2\", sqlite3.connect(\"UsedObjects.db\"))"
   ]
  },
  {
   "cell_type": "code",
   "execution_count": 3,
   "id": "periodic-identification",
   "metadata": {
    "execution": {
     "iopub.execute_input": "2021-11-17T17:30:09.086896Z",
     "iopub.status.busy": "2021-11-17T17:30:09.084591Z",
     "iopub.status.idle": "2021-11-17T17:30:09.107333Z",
     "shell.execute_reply": "2021-11-17T17:30:09.108811Z"
    },
    "papermill": {
     "duration": 0.074048,
     "end_time": "2021-11-17T17:30:09.109300",
     "exception": false,
     "start_time": "2021-11-17T17:30:09.035252",
     "status": "completed"
    },
    "tags": []
   },
   "outputs": [
    {
     "data": {
      "text/html": [
       "<div>\n",
       "<style scoped>\n",
       "    .dataframe tbody tr th:only-of-type {\n",
       "        vertical-align: middle;\n",
       "    }\n",
       "\n",
       "    .dataframe tbody tr th {\n",
       "        vertical-align: top;\n",
       "    }\n",
       "\n",
       "    .dataframe thead th {\n",
       "        text-align: right;\n",
       "    }\n",
       "</style>\n",
       "<table border=\"1\" class=\"dataframe\">\n",
       "  <thead>\n",
       "    <tr style=\"text-align: right;\">\n",
       "      <th></th>\n",
       "      <th>RECORD_TIME</th>\n",
       "    </tr>\n",
       "  </thead>\n",
       "  <tbody>\n",
       "    <tr>\n",
       "      <th>0</th>\n",
       "      <td>2021-11-17 18:30</td>\n",
       "    </tr>\n",
       "    <tr>\n",
       "      <th>1</th>\n",
       "      <td>2021-11-17 18:00</td>\n",
       "    </tr>\n",
       "  </tbody>\n",
       "</table>\n",
       "</div>"
      ],
      "text/plain": [
       "        RECORD_TIME\n",
       "0  2021-11-17 18:30\n",
       "1  2021-11-17 18:00"
      ]
     },
     "execution_count": 3,
     "metadata": {},
     "output_type": "execute_result"
    }
   ],
   "source": [
    "timestamps"
   ]
  },
  {
   "cell_type": "code",
   "execution_count": 4,
   "id": "alternate-victory",
   "metadata": {
    "execution": {
     "iopub.execute_input": "2021-11-17T17:30:09.164266Z",
     "iopub.status.busy": "2021-11-17T17:30:09.161993Z",
     "iopub.status.idle": "2021-11-17T17:30:10.390547Z",
     "shell.execute_reply": "2021-11-17T17:30:10.391826Z"
    },
    "papermill": {
     "duration": 1.261928,
     "end_time": "2021-11-17T17:30:10.392239",
     "exception": false,
     "start_time": "2021-11-17T17:30:09.130311",
     "status": "completed"
    },
    "tags": []
   },
   "outputs": [],
   "source": [
    "df = pd.read_sql(\"select * from EBAY_TOP_BERLIN where record_time in (select distinct record_time from EBAY_TOP_BERLIN order by record_time desc limit 2)\", sqlite3.connect(\"UsedObjects.db\"))"
   ]
  },
  {
   "cell_type": "code",
   "execution_count": 5,
   "id": "popular-active",
   "metadata": {
    "execution": {
     "iopub.execute_input": "2021-11-17T17:30:10.462270Z",
     "iopub.status.busy": "2021-11-17T17:30:10.450184Z",
     "iopub.status.idle": "2021-11-17T17:30:10.479054Z",
     "shell.execute_reply": "2021-11-17T17:30:10.480486Z"
    },
    "papermill": {
     "duration": 0.068538,
     "end_time": "2021-11-17T17:30:10.481124",
     "exception": false,
     "start_time": "2021-11-17T17:30:10.412586",
     "status": "completed"
    },
    "tags": []
   },
   "outputs": [],
   "source": [
    "df_pivot = df.pivot_table(index=\"PRODUCT\", columns = \"RECORD_TIME\", values = \"LISTING_COUNT\")"
   ]
  },
  {
   "cell_type": "code",
   "execution_count": 6,
   "id": "union-huntington",
   "metadata": {
    "execution": {
     "iopub.execute_input": "2021-11-17T17:30:10.541870Z",
     "iopub.status.busy": "2021-11-17T17:30:10.539597Z",
     "iopub.status.idle": "2021-11-17T17:30:10.545200Z",
     "shell.execute_reply": "2021-11-17T17:30:10.546665Z"
    },
    "papermill": {
     "duration": 0.043487,
     "end_time": "2021-11-17T17:30:10.547120",
     "exception": false,
     "start_time": "2021-11-17T17:30:10.503633",
     "status": "completed"
    },
    "tags": []
   },
   "outputs": [],
   "source": [
    "df_pivot.columns = [\"stamp_1\", \"stamp_2\"]\n",
    "df_pivot_diff = df_pivot.diff(axis=1)"
   ]
  },
  {
   "cell_type": "code",
   "execution_count": 7,
   "id": "fifth-motion",
   "metadata": {
    "execution": {
     "iopub.execute_input": "2021-11-17T17:30:10.605257Z",
     "iopub.status.busy": "2021-11-17T17:30:10.602669Z",
     "iopub.status.idle": "2021-11-17T17:30:12.315519Z",
     "shell.execute_reply": "2021-11-17T17:30:12.317032Z"
    },
    "papermill": {
     "duration": 1.749533,
     "end_time": "2021-11-17T17:30:12.317508",
     "exception": false,
     "start_time": "2021-11-17T17:30:10.567975",
     "status": "completed"
    },
    "tags": []
   },
   "outputs": [
    {
     "data": {
      "text/plain": [
       "<AxesSubplot:ylabel='PRODUCT'>"
      ]
     },
     "execution_count": 7,
     "metadata": {},
     "output_type": "execute_result"
    },
    {
     "data": {
      "image/png": "[encoded data removed]",
      "text/plain": [
       "<Figure size 432x288 with 1 Axes>"
      ]
     },
     "metadata": {
      "needs_background": "light"
     },
     "output_type": "display_data"
    }
   ],
   "source": [
    "df_pivot_diff.sort_values(\"stamp_2\", ascending = False)[\"stamp_2\"].head(10).plot.barh()"
   ]
  },
  {
   "cell_type": "code",
   "execution_count": null,
   "id": "extra-executive",
   "metadata": {
    "papermill": {
     "duration": 0.024813,
     "end_time": "2021-11-17T17:30:12.366944",
     "exception": false,
     "start_time": "2021-11-17T17:30:12.342131",
     "status": "completed"
    },
    "tags": []
   },
   "outputs": [],
   "source": []
  }
 ],
 "metadata": {
  "kernelspec": {
   "display_name": "Python 3",
   "language": "python",
   "name": "python3"
  },
  "language_info": {
   "codemirror_mode": {
    "name": "ipython",
    "version": 3
   },
   "file_extension": ".py",
   "mimetype": "text/x-python",
   "name": "python",
   "nbconvert_exporter": "python",
   "pygments_lexer": "ipython3",
   "version": "3.9.5"
  },
  "papermill": {
   "default_parameters": {},
   "duration": 8.750082,
   "end_time": "2021-11-17T17:30:13.112322",
   "environment_variables": {},
   "exception": null,
   "input_path": "eBay_Overview.ipynb",
   "output_path": "eBay_Overview.ipynb",
   "parameters": {},
   "start_time": "2021-11-17T17:30:04.362240",
   "version": "2.3.3"
  }
 },
 "nbformat": 4,
 "nbformat_minor": 5
}