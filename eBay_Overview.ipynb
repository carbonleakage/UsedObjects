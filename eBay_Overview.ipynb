{
 "cells": [
  {
   "cell_type": "code",
   "execution_count": 1,
   "id": "reverse-picking",
   "metadata": {
    "execution": {
     "iopub.execute_input": "2021-09-10T08:00:07.232864Z",
     "iopub.status.busy": "2021-09-10T08:00:07.230839Z",
     "iopub.status.idle": "2021-09-10T08:00:08.042297Z",
     "shell.execute_reply": "2021-09-10T08:00:08.043823Z"
    },
    "papermill": {
     "duration": 0.864194,
     "end_time": "2021-09-10T08:00:08.044474",
     "exception": false,
     "start_time": "2021-09-10T08:00:07.180280",
     "status": "completed"
    },
    "tags": []
   },
   "outputs": [],
   "source": [
    "import pandas as pd\n",
    "import sqlite3"
   ]
  },
  {
   "cell_type": "code",
   "execution_count": 2,
   "id": "innovative-syndrome",
   "metadata": {
    "execution": {
     "iopub.execute_input": "2021-09-10T08:00:08.096991Z",
     "iopub.status.busy": "2021-09-10T08:00:08.094556Z",
     "iopub.status.idle": "2021-09-10T08:00:08.349270Z",
     "shell.execute_reply": "2021-09-10T08:00:08.350467Z"
    },
    "papermill": {
     "duration": 0.284833,
     "end_time": "2021-09-10T08:00:08.350912",
     "exception": false,
     "start_time": "2021-09-10T08:00:08.066079",
     "status": "completed"
    },
    "tags": []
   },
   "outputs": [],
   "source": [
    "timestamps = pd.read_sql(\"select distinct record_time from EBAY_TOP_BERLIN order by record_time desc limit 2\", sqlite3.connect(\"UsedObjects.db\"))"
   ]
  },
  {
   "cell_type": "code",
   "execution_count": 3,
   "id": "periodic-identification",
   "metadata": {
    "execution": {
     "iopub.execute_input": "2021-09-10T08:00:08.414133Z",
     "iopub.status.busy": "2021-09-10T08:00:08.412096Z",
     "iopub.status.idle": "2021-09-10T08:00:08.432098Z",
     "shell.execute_reply": "2021-09-10T08:00:08.433436Z"
    },
    "papermill": {
     "duration": 0.063748,
     "end_time": "2021-09-10T08:00:08.433860",
     "exception": false,
     "start_time": "2021-09-10T08:00:08.370112",
     "status": "completed"
    },
    "tags": []
   },
   "outputs": [
    {
     "data": {
      "text/html": [
       "<div>\n",
       "<style scoped>\n",
       "    .dataframe tbody tr th:only-of-type {\n",
       "        vertical-align: middle;\n",
       "    }\n",
       "\n",
       "    .dataframe tbody tr th {\n",
       "        vertical-align: top;\n",
       "    }\n",
       "\n",
       "    .dataframe thead th {\n",
       "        text-align: right;\n",
       "    }\n",
       "</style>\n",
       "<table border=\"1\" class=\"dataframe\">\n",
       "  <thead>\n",
       "    <tr style=\"text-align: right;\">\n",
       "      <th></th>\n",
       "      <th>RECORD_TIME</th>\n",
       "    </tr>\n",
       "  </thead>\n",
       "  <tbody>\n",
       "    <tr>\n",
       "      <th>0</th>\n",
       "      <td>2021-09-10 10:00</td>\n",
       "    </tr>\n",
       "    <tr>\n",
       "      <th>1</th>\n",
       "      <td>2021-09-10 09:30</td>\n",
       "    </tr>\n",
       "  </tbody>\n",
       "</table>\n",
       "</div>"
      ],
      "text/plain": [
       "        RECORD_TIME\n",
       "0  2021-09-10 10:00\n",
       "1  2021-09-10 09:30"
      ]
     },
     "execution_count": 3,
     "metadata": {},
     "output_type": "execute_result"
    }
   ],
   "source": [
    "timestamps"
   ]
  },
  {
   "cell_type": "code",
   "execution_count": 4,
   "id": "alternate-victory",
   "metadata": {
    "execution": {
     "iopub.execute_input": "2021-09-10T08:00:08.486003Z",
     "iopub.status.busy": "2021-09-10T08:00:08.483707Z",
     "iopub.status.idle": "2021-09-10T08:00:08.871747Z",
     "shell.execute_reply": "2021-09-10T08:00:08.872988Z"
    },
    "papermill": {
     "duration": 0.418282,
     "end_time": "2021-09-10T08:00:08.873385",
     "exception": false,
     "start_time": "2021-09-10T08:00:08.455103",
     "status": "completed"
    },
    "tags": []
   },
   "outputs": [],
   "source": [
    "df = pd.read_sql(\"select * from EBAY_TOP_BERLIN where record_time in (select distinct record_time from EBAY_TOP_BERLIN order by record_time desc limit 2)\", sqlite3.connect(\"UsedObjects.db\"))"
   ]
  },
  {
   "cell_type": "code",
   "execution_count": 5,
   "id": "popular-active",
   "metadata": {
    "execution": {
     "iopub.execute_input": "2021-09-10T08:00:08.944156Z",
     "iopub.status.busy": "2021-09-10T08:00:08.942044Z",
     "iopub.status.idle": "2021-09-10T08:00:08.969823Z",
     "shell.execute_reply": "2021-09-10T08:00:08.971274Z"
    },
    "papermill": {
     "duration": 0.071873,
     "end_time": "2021-09-10T08:00:08.971724",
     "exception": false,
     "start_time": "2021-09-10T08:00:08.899851",
     "status": "completed"
    },
    "tags": []
   },
   "outputs": [],
   "source": [
    "df_pivot = df.pivot_table(index=\"PRODUCT\", columns = \"RECORD_TIME\", values = \"LISTING_COUNT\")"
   ]
  },
  {
   "cell_type": "code",
   "execution_count": 6,
   "id": "union-huntington",
   "metadata": {
    "execution": {
     "iopub.execute_input": "2021-09-10T08:00:09.027974Z",
     "iopub.status.busy": "2021-09-10T08:00:09.025926Z",
     "iopub.status.idle": "2021-09-10T08:00:09.031065Z",
     "shell.execute_reply": "2021-09-10T08:00:09.032191Z"
    },
    "papermill": {
     "duration": 0.039925,
     "end_time": "2021-09-10T08:00:09.032602",
     "exception": false,
     "start_time": "2021-09-10T08:00:08.992677",
     "status": "completed"
    },
    "tags": []
   },
   "outputs": [],
   "source": [
    "df_pivot.columns = [\"stamp_1\", \"stamp_2\"]\n",
    "df_pivot_diff = df_pivot.diff(axis=1)"
   ]
  },
  {
   "cell_type": "code",
   "execution_count": 7,
   "id": "fifth-motion",
   "metadata": {
    "execution": {
     "iopub.execute_input": "2021-09-10T08:00:09.086639Z",
     "iopub.status.busy": "2021-09-10T08:00:09.084237Z",
     "iopub.status.idle": "2021-09-10T08:00:10.585516Z",
     "shell.execute_reply": "2021-09-10T08:00:10.587186Z"
    },
    "papermill": {
     "duration": 1.534789,
     "end_time": "2021-09-10T08:00:10.587713",
     "exception": false,
     "start_time": "2021-09-10T08:00:09.052924",
     "status": "completed"
    },
    "tags": []
   },
   "outputs": [
    {
     "data": {
      "text/plain": [
       "<AxesSubplot:ylabel='PRODUCT'>"
      ]
     },
     "execution_count": 7,
     "metadata": {},
     "output_type": "execute_result"
    },
    {
     "data": {
      "image/png": "[encoded data removed]",
      "text/plain": [
       "<Figure size 432x288 with 1 Axes>"
      ]
     },
     "metadata": {
      "needs_background": "light"
     },
     "output_type": "display_data"
    }
   ],
   "source": [
    "df_pivot_diff.sort_values(\"stamp_2\", ascending = False)[\"stamp_2\"].head(10).plot.barh()"
   ]
  },
  {
   "cell_type": "code",
   "execution_count": null,
   "id": "extra-executive",
   "metadata": {
    "papermill": {
     "duration": 0.022044,
     "end_time": "2021-09-10T08:00:10.634123",
     "exception": false,
     "start_time": "2021-09-10T08:00:10.612079",
     "status": "completed"
    },
    "tags": []
   },
   "outputs": [],
   "source": []
  }
 ],
 "metadata": {
  "kernelspec": {
   "display_name": "Python 3",
   "language": "python",
   "name": "python3"
  },
  "language_info": {
   "codemirror_mode": {
    "name": "ipython",
    "version": 3
   },
   "file_extension": ".py",
   "mimetype": "text/x-python",
   "name": "python",
   "nbconvert_exporter": "python",
   "pygments_lexer": "ipython3",
   "version": "3.9.5"
  },
  "papermill": {
   "default_parameters": {},
   "duration": 6.515724,
   "end_time": "2021-09-10T08:00:11.275634",
   "environment_variables": {},
   "exception": null,
   "input_path": "eBay_Overview.ipynb",
   "output_path": "eBay_Overview.ipynb",
   "parameters": {},
   "start_time": "2021-09-10T08:00:04.759910",
   "version": "2.3.3"
  }
 },
 "nbformat": 4,
 "nbformat_minor": 5
}