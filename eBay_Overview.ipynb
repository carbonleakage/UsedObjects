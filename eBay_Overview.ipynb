{
 "cells": [
  {
   "cell_type": "code",
   "execution_count": 1,
   "id": "reverse-picking",
   "metadata": {
    "execution": {
     "iopub.execute_input": "2021-08-18T11:00:07.179807Z",
     "iopub.status.busy": "2021-08-18T11:00:07.177811Z",
     "iopub.status.idle": "2021-08-18T11:00:07.985736Z",
     "shell.execute_reply": "2021-08-18T11:00:07.984189Z"
    },
    "papermill": {
     "duration": 0.859367,
     "end_time": "2021-08-18T11:00:07.986185",
     "exception": false,
     "start_time": "2021-08-18T11:00:07.126818",
     "status": "completed"
    },
    "tags": []
   },
   "outputs": [],
   "source": [
    "import pandas as pd\n",
    "import sqlite3"
   ]
  },
  {
   "cell_type": "code",
   "execution_count": 2,
   "id": "innovative-syndrome",
   "metadata": {
    "execution": {
     "iopub.execute_input": "2021-08-18T11:00:08.036979Z",
     "iopub.status.busy": "2021-08-18T11:00:08.035142Z",
     "iopub.status.idle": "2021-08-18T11:00:08.108855Z",
     "shell.execute_reply": "2021-08-18T11:00:08.110153Z"
    },
    "papermill": {
     "duration": 0.103393,
     "end_time": "2021-08-18T11:00:08.110590",
     "exception": false,
     "start_time": "2021-08-18T11:00:08.007197",
     "status": "completed"
    },
    "tags": []
   },
   "outputs": [],
   "source": [
    "timestamps = pd.read_sql(\"select distinct record_time from EBAY_TOP_BERLIN order by record_time desc limit 2\", sqlite3.connect(\"UsedObjects.db\"))"
   ]
  },
  {
   "cell_type": "code",
   "execution_count": 3,
   "id": "periodic-identification",
   "metadata": {
    "execution": {
     "iopub.execute_input": "2021-08-18T11:00:08.178756Z",
     "iopub.status.busy": "2021-08-18T11:00:08.176656Z",
     "iopub.status.idle": "2021-08-18T11:00:08.197003Z",
     "shell.execute_reply": "2021-08-18T11:00:08.198403Z"
    },
    "papermill": {
     "duration": 0.067211,
     "end_time": "2021-08-18T11:00:08.198842",
     "exception": false,
     "start_time": "2021-08-18T11:00:08.131631",
     "status": "completed"
    },
    "tags": []
   },
   "outputs": [
    {
     "data": {
      "text/html": [
       "<div>\n",
       "<style scoped>\n",
       "    .dataframe tbody tr th:only-of-type {\n",
       "        vertical-align: middle;\n",
       "    }\n",
       "\n",
       "    .dataframe tbody tr th {\n",
       "        vertical-align: top;\n",
       "    }\n",
       "\n",
       "    .dataframe thead th {\n",
       "        text-align: right;\n",
       "    }\n",
       "</style>\n",
       "<table border=\"1\" class=\"dataframe\">\n",
       "  <thead>\n",
       "    <tr style=\"text-align: right;\">\n",
       "      <th></th>\n",
       "      <th>RECORD_TIME</th>\n",
       "    </tr>\n",
       "  </thead>\n",
       "  <tbody>\n",
       "    <tr>\n",
       "      <th>0</th>\n",
       "      <td>2021-08-18 13:00</td>\n",
       "    </tr>\n",
       "    <tr>\n",
       "      <th>1</th>\n",
       "      <td>2021-08-18 12:30</td>\n",
       "    </tr>\n",
       "  </tbody>\n",
       "</table>\n",
       "</div>"
      ],
      "text/plain": [
       "        RECORD_TIME\n",
       "0  2021-08-18 13:00\n",
       "1  2021-08-18 12:30"
      ]
     },
     "execution_count": 3,
     "metadata": {},
     "output_type": "execute_result"
    }
   ],
   "source": [
    "timestamps"
   ]
  },
  {
   "cell_type": "code",
   "execution_count": 4,
   "id": "alternate-victory",
   "metadata": {
    "execution": {
     "iopub.execute_input": "2021-08-18T11:00:08.250600Z",
     "iopub.status.busy": "2021-08-18T11:00:08.248635Z",
     "iopub.status.idle": "2021-08-18T11:00:08.361377Z",
     "shell.execute_reply": "2021-08-18T11:00:08.362871Z"
    },
    "papermill": {
     "duration": 0.143,
     "end_time": "2021-08-18T11:00:08.363320",
     "exception": false,
     "start_time": "2021-08-18T11:00:08.220320",
     "status": "completed"
    },
    "tags": []
   },
   "outputs": [],
   "source": [
    "df = pd.read_sql(\"select * from EBAY_TOP_BERLIN where record_time in (select distinct record_time from EBAY_TOP_BERLIN order by record_time desc limit 2)\", sqlite3.connect(\"UsedObjects.db\"))"
   ]
  },
  {
   "cell_type": "code",
   "execution_count": 5,
   "id": "popular-active",
   "metadata": {
    "execution": {
     "iopub.execute_input": "2021-08-18T11:00:08.433175Z",
     "iopub.status.busy": "2021-08-18T11:00:08.421166Z",
     "iopub.status.idle": "2021-08-18T11:00:08.448558Z",
     "shell.execute_reply": "2021-08-18T11:00:08.449781Z"
    },
    "papermill": {
     "duration": 0.066139,
     "end_time": "2021-08-18T11:00:08.450368",
     "exception": false,
     "start_time": "2021-08-18T11:00:08.384229",
     "status": "completed"
    },
    "tags": []
   },
   "outputs": [],
   "source": [
    "df_pivot = df.pivot_table(index=\"PRODUCT\", columns = \"RECORD_TIME\", values = \"LISTING_COUNT\")"
   ]
  },
  {
   "cell_type": "code",
   "execution_count": 6,
   "id": "union-huntington",
   "metadata": {
    "execution": {
     "iopub.execute_input": "2021-08-18T11:00:08.510335Z",
     "iopub.status.busy": "2021-08-18T11:00:08.507833Z",
     "iopub.status.idle": "2021-08-18T11:00:08.513759Z",
     "shell.execute_reply": "2021-08-18T11:00:08.515138Z"
    },
    "papermill": {
     "duration": 0.042856,
     "end_time": "2021-08-18T11:00:08.515550",
     "exception": false,
     "start_time": "2021-08-18T11:00:08.472694",
     "status": "completed"
    },
    "tags": []
   },
   "outputs": [],
   "source": [
    "df_pivot.columns = [\"stamp_1\", \"stamp_2\"]\n",
    "df_pivot_diff = df_pivot.diff(axis=1)"
   ]
  },
  {
   "cell_type": "code",
   "execution_count": 7,
   "id": "fifth-motion",
   "metadata": {
    "execution": {
     "iopub.execute_input": "2021-08-18T11:00:08.569896Z",
     "iopub.status.busy": "2021-08-18T11:00:08.567595Z",
     "iopub.status.idle": "2021-08-18T11:00:10.076930Z",
     "shell.execute_reply": "2021-08-18T11:00:10.078331Z"
    },
    "papermill": {
     "duration": 1.542201,
     "end_time": "2021-08-18T11:00:10.078785",
     "exception": false,
     "start_time": "2021-08-18T11:00:08.536584",
     "status": "completed"
    },
    "tags": []
   },
   "outputs": [
    {
     "data": {
      "text/plain": [
       "<AxesSubplot:ylabel='PRODUCT'>"
      ]
     },
     "execution_count": 7,
     "metadata": {},
     "output_type": "execute_result"
    },
    {
     "data": {
      "image/png": "[encoded data removed]",
      "text/plain": [
       "<Figure size 432x288 with 1 Axes>"
      ]
     },
     "metadata": {
      "needs_background": "light"
     },
     "output_type": "display_data"
    }
   ],
   "source": [
    "df_pivot_diff.sort_values(\"stamp_2\", ascending = False)[\"stamp_2\"].head(10).plot.barh()"
   ]
  },
  {
   "cell_type": "code",
   "execution_count": null,
   "id": "extra-executive",
   "metadata": {
    "papermill": {
     "duration": 0.022533,
     "end_time": "2021-08-18T11:00:10.125687",
     "exception": false,
     "start_time": "2021-08-18T11:00:10.103154",
     "status": "completed"
    },
    "tags": []
   },
   "outputs": [],
   "source": []
  }
 ],
 "metadata": {
  "kernelspec": {
   "display_name": "Python 3",
   "language": "python",
   "name": "python3"
  },
  "language_info": {
   "codemirror_mode": {
    "name": "ipython",
    "version": 3
   },
   "file_extension": ".py",
   "mimetype": "text/x-python",
   "name": "python",
   "nbconvert_exporter": "python",
   "pygments_lexer": "ipython3",
   "version": "3.9.5"
  },
  "papermill": {
   "default_parameters": {},
   "duration": 6.831909,
   "end_time": "2021-08-18T11:00:11.539979",
   "environment_variables": {},
   "exception": null,
   "input_path": "eBay_Overview.ipynb",
   "output_path": "eBay_Overview.ipynb",
   "parameters": {},
   "start_time": "2021-08-18T11:00:04.708070",
   "version": "2.3.3"
  }
 },
 "nbformat": 4,
 "nbformat_minor": 5
}