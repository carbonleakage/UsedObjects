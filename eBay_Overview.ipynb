{
 "cells": [
  {
   "cell_type": "code",
   "execution_count": 1,
   "id": "reverse-picking",
   "metadata": {
    "execution": {
     "iopub.execute_input": "2021-09-08T08:30:07.204621Z",
     "iopub.status.busy": "2021-09-08T08:30:07.202527Z",
     "iopub.status.idle": "2021-09-08T08:30:08.008751Z",
     "shell.execute_reply": "2021-09-08T08:30:08.009974Z"
    },
    "papermill": {
     "duration": 0.856974,
     "end_time": "2021-09-08T08:30:08.010588",
     "exception": false,
     "start_time": "2021-09-08T08:30:07.153614",
     "status": "completed"
    },
    "tags": []
   },
   "outputs": [],
   "source": [
    "import pandas as pd\n",
    "import sqlite3"
   ]
  },
  {
   "cell_type": "code",
   "execution_count": 2,
   "id": "innovative-syndrome",
   "metadata": {
    "execution": {
     "iopub.execute_input": "2021-09-08T08:30:08.061021Z",
     "iopub.status.busy": "2021-09-08T08:30:08.058739Z",
     "iopub.status.idle": "2021-09-08T08:30:08.294449Z",
     "shell.execute_reply": "2021-09-08T08:30:08.295707Z"
    },
    "papermill": {
     "duration": 0.265169,
     "end_time": "2021-09-08T08:30:08.296106",
     "exception": false,
     "start_time": "2021-09-08T08:30:08.030937",
     "status": "completed"
    },
    "tags": []
   },
   "outputs": [],
   "source": [
    "timestamps = pd.read_sql(\"select distinct record_time from EBAY_TOP_BERLIN order by record_time desc limit 2\", sqlite3.connect(\"UsedObjects.db\"))"
   ]
  },
  {
   "cell_type": "code",
   "execution_count": 3,
   "id": "periodic-identification",
   "metadata": {
    "execution": {
     "iopub.execute_input": "2021-09-08T08:30:08.365407Z",
     "iopub.status.busy": "2021-09-08T08:30:08.360164Z",
     "iopub.status.idle": "2021-09-08T08:30:08.380172Z",
     "shell.execute_reply": "2021-09-08T08:30:08.381307Z"
    },
    "papermill": {
     "duration": 0.063968,
     "end_time": "2021-09-08T08:30:08.381716",
     "exception": false,
     "start_time": "2021-09-08T08:30:08.317748",
     "status": "completed"
    },
    "tags": []
   },
   "outputs": [
    {
     "data": {
      "text/html": [
       "<div>\n",
       "<style scoped>\n",
       "    .dataframe tbody tr th:only-of-type {\n",
       "        vertical-align: middle;\n",
       "    }\n",
       "\n",
       "    .dataframe tbody tr th {\n",
       "        vertical-align: top;\n",
       "    }\n",
       "\n",
       "    .dataframe thead th {\n",
       "        text-align: right;\n",
       "    }\n",
       "</style>\n",
       "<table border=\"1\" class=\"dataframe\">\n",
       "  <thead>\n",
       "    <tr style=\"text-align: right;\">\n",
       "      <th></th>\n",
       "      <th>RECORD_TIME</th>\n",
       "    </tr>\n",
       "  </thead>\n",
       "  <tbody>\n",
       "    <tr>\n",
       "      <th>0</th>\n",
       "      <td>2021-09-08 10:30</td>\n",
       "    </tr>\n",
       "    <tr>\n",
       "      <th>1</th>\n",
       "      <td>2021-09-08 10:00</td>\n",
       "    </tr>\n",
       "  </tbody>\n",
       "</table>\n",
       "</div>"
      ],
      "text/plain": [
       "        RECORD_TIME\n",
       "0  2021-09-08 10:30\n",
       "1  2021-09-08 10:00"
      ]
     },
     "execution_count": 3,
     "metadata": {},
     "output_type": "execute_result"
    }
   ],
   "source": [
    "timestamps"
   ]
  },
  {
   "cell_type": "code",
   "execution_count": 4,
   "id": "alternate-victory",
   "metadata": {
    "execution": {
     "iopub.execute_input": "2021-09-08T08:30:08.435471Z",
     "iopub.status.busy": "2021-09-08T08:30:08.433110Z",
     "iopub.status.idle": "2021-09-08T08:30:08.788372Z",
     "shell.execute_reply": "2021-09-08T08:30:08.789572Z"
    },
    "papermill": {
     "duration": 0.38578,
     "end_time": "2021-09-08T08:30:08.789964",
     "exception": false,
     "start_time": "2021-09-08T08:30:08.404184",
     "status": "completed"
    },
    "tags": []
   },
   "outputs": [],
   "source": [
    "df = pd.read_sql(\"select * from EBAY_TOP_BERLIN where record_time in (select distinct record_time from EBAY_TOP_BERLIN order by record_time desc limit 2)\", sqlite3.connect(\"UsedObjects.db\"))"
   ]
  },
  {
   "cell_type": "code",
   "execution_count": 5,
   "id": "popular-active",
   "metadata": {
    "execution": {
     "iopub.execute_input": "2021-09-08T08:30:08.867592Z",
     "iopub.status.busy": "2021-09-08T08:30:08.856104Z",
     "iopub.status.idle": "2021-09-08T08:30:08.885330Z",
     "shell.execute_reply": "2021-09-08T08:30:08.886570Z"
    },
    "papermill": {
     "duration": 0.071305,
     "end_time": "2021-09-08T08:30:08.887058",
     "exception": false,
     "start_time": "2021-09-08T08:30:08.815753",
     "status": "completed"
    },
    "tags": []
   },
   "outputs": [],
   "source": [
    "df_pivot = df.pivot_table(index=\"PRODUCT\", columns = \"RECORD_TIME\", values = \"LISTING_COUNT\")"
   ]
  },
  {
   "cell_type": "code",
   "execution_count": 6,
   "id": "union-huntington",
   "metadata": {
    "execution": {
     "iopub.execute_input": "2021-09-08T08:30:08.942809Z",
     "iopub.status.busy": "2021-09-08T08:30:08.940761Z",
     "iopub.status.idle": "2021-09-08T08:30:08.946200Z",
     "shell.execute_reply": "2021-09-08T08:30:08.947468Z"
    },
    "papermill": {
     "duration": 0.041392,
     "end_time": "2021-09-08T08:30:08.947904",
     "exception": false,
     "start_time": "2021-09-08T08:30:08.906512",
     "status": "completed"
    },
    "tags": []
   },
   "outputs": [],
   "source": [
    "df_pivot.columns = [\"stamp_1\", \"stamp_2\"]\n",
    "df_pivot_diff = df_pivot.diff(axis=1)"
   ]
  },
  {
   "cell_type": "code",
   "execution_count": 7,
   "id": "fifth-motion",
   "metadata": {
    "execution": {
     "iopub.execute_input": "2021-09-08T08:30:09.001348Z",
     "iopub.status.busy": "2021-09-08T08:30:08.998983Z",
     "iopub.status.idle": "2021-09-08T08:30:10.494419Z",
     "shell.execute_reply": "2021-09-08T08:30:10.496032Z"
    },
    "papermill": {
     "duration": 1.528268,
     "end_time": "2021-09-08T08:30:10.496528",
     "exception": false,
     "start_time": "2021-09-08T08:30:08.968260",
     "status": "completed"
    },
    "tags": []
   },
   "outputs": [
    {
     "data": {
      "text/plain": [
       "<AxesSubplot:ylabel='PRODUCT'>"
      ]
     },
     "execution_count": 7,
     "metadata": {},
     "output_type": "execute_result"
    },
    {
     "data": {
      "image/png": "[encoded data removed]",
      "text/plain": [
       "<Figure size 432x288 with 1 Axes>"
      ]
     },
     "metadata": {
      "needs_background": "light"
     },
     "output_type": "display_data"
    }
   ],
   "source": [
    "df_pivot_diff.sort_values(\"stamp_2\", ascending = False)[\"stamp_2\"].head(10).plot.barh()"
   ]
  },
  {
   "cell_type": "code",
   "execution_count": null,
   "id": "extra-executive",
   "metadata": {
    "papermill": {
     "duration": 0.022167,
     "end_time": "2021-09-08T08:30:10.543654",
     "exception": false,
     "start_time": "2021-09-08T08:30:10.521487",
     "status": "completed"
    },
    "tags": []
   },
   "outputs": [],
   "source": []
  }
 ],
 "metadata": {
  "kernelspec": {
   "display_name": "Python 3",
   "language": "python",
   "name": "python3"
  },
  "language_info": {
   "codemirror_mode": {
    "name": "ipython",
    "version": 3
   },
   "file_extension": ".py",
   "mimetype": "text/x-python",
   "name": "python",
   "nbconvert_exporter": "python",
   "pygments_lexer": "ipython3",
   "version": "3.9.5"
  },
  "papermill": {
   "default_parameters": {},
   "duration": 6.43679,
   "end_time": "2021-09-08T08:30:11.187475",
   "environment_variables": {},
   "exception": null,
   "input_path": "eBay_Overview.ipynb",
   "output_path": "eBay_Overview.ipynb",
   "parameters": {},
   "start_time": "2021-09-08T08:30:04.750685",
   "version": "2.3.3"
  }
 },
 "nbformat": 4,
 "nbformat_minor": 5
}