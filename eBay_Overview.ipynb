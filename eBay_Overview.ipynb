{
 "cells": [
  {
   "cell_type": "code",
   "execution_count": 1,
   "id": "reverse-picking",
   "metadata": {
    "execution": {
     "iopub.execute_input": "2021-11-13T01:00:08.518106Z",
     "iopub.status.busy": "2021-11-13T01:00:08.515707Z",
     "iopub.status.idle": "2021-11-13T01:00:09.468053Z",
     "shell.execute_reply": "2021-11-13T01:00:09.466105Z"
    },
    "papermill": {
     "duration": 1.0004,
     "end_time": "2021-11-13T01:00:09.468544",
     "exception": false,
     "start_time": "2021-11-13T01:00:08.468144",
     "status": "completed"
    },
    "tags": []
   },
   "outputs": [],
   "source": [
    "import pandas as pd\n",
    "import sqlite3"
   ]
  },
  {
   "cell_type": "code",
   "execution_count": 2,
   "id": "innovative-syndrome",
   "metadata": {
    "execution": {
     "iopub.execute_input": "2021-11-13T01:00:09.539392Z",
     "iopub.status.busy": "2021-11-13T01:00:09.537054Z",
     "iopub.status.idle": "2021-11-13T01:00:10.331981Z",
     "shell.execute_reply": "2021-11-13T01:00:10.333335Z"
    },
    "papermill": {
     "duration": 0.830769,
     "end_time": "2021-11-13T01:00:10.333817",
     "exception": false,
     "start_time": "2021-11-13T01:00:09.503048",
     "status": "completed"
    },
    "tags": []
   },
   "outputs": [],
   "source": [
    "timestamps = pd.read_sql(\"select distinct record_time from EBAY_TOP_BERLIN order by record_time desc limit 2\", sqlite3.connect(\"UsedObjects.db\"))"
   ]
  },
  {
   "cell_type": "code",
   "execution_count": 3,
   "id": "periodic-identification",
   "metadata": {
    "execution": {
     "iopub.execute_input": "2021-11-13T01:00:10.405566Z",
     "iopub.status.busy": "2021-11-13T01:00:10.403128Z",
     "iopub.status.idle": "2021-11-13T01:00:10.426099Z",
     "shell.execute_reply": "2021-11-13T01:00:10.427649Z"
    },
    "papermill": {
     "duration": 0.07377,
     "end_time": "2021-11-13T01:00:10.428145",
     "exception": false,
     "start_time": "2021-11-13T01:00:10.354375",
     "status": "completed"
    },
    "tags": []
   },
   "outputs": [
    {
     "data": {
      "text/html": [
       "<div>\n",
       "<style scoped>\n",
       "    .dataframe tbody tr th:only-of-type {\n",
       "        vertical-align: middle;\n",
       "    }\n",
       "\n",
       "    .dataframe tbody tr th {\n",
       "        vertical-align: top;\n",
       "    }\n",
       "\n",
       "    .dataframe thead th {\n",
       "        text-align: right;\n",
       "    }\n",
       "</style>\n",
       "<table border=\"1\" class=\"dataframe\">\n",
       "  <thead>\n",
       "    <tr style=\"text-align: right;\">\n",
       "      <th></th>\n",
       "      <th>RECORD_TIME</th>\n",
       "    </tr>\n",
       "  </thead>\n",
       "  <tbody>\n",
       "    <tr>\n",
       "      <th>0</th>\n",
       "      <td>2021-11-13 02:00</td>\n",
       "    </tr>\n",
       "    <tr>\n",
       "      <th>1</th>\n",
       "      <td>2021-11-13 01:30</td>\n",
       "    </tr>\n",
       "  </tbody>\n",
       "</table>\n",
       "</div>"
      ],
      "text/plain": [
       "        RECORD_TIME\n",
       "0  2021-11-13 02:00\n",
       "1  2021-11-13 01:30"
      ]
     },
     "execution_count": 3,
     "metadata": {},
     "output_type": "execute_result"
    }
   ],
   "source": [
    "timestamps"
   ]
  },
  {
   "cell_type": "code",
   "execution_count": 4,
   "id": "alternate-victory",
   "metadata": {
    "execution": {
     "iopub.execute_input": "2021-11-13T01:00:10.486441Z",
     "iopub.status.busy": "2021-11-13T01:00:10.484155Z",
     "iopub.status.idle": "2021-11-13T01:00:11.634542Z",
     "shell.execute_reply": "2021-11-13T01:00:11.635923Z"
    },
    "papermill": {
     "duration": 1.185075,
     "end_time": "2021-11-13T01:00:11.636374",
     "exception": false,
     "start_time": "2021-11-13T01:00:10.451299",
     "status": "completed"
    },
    "tags": []
   },
   "outputs": [],
   "source": [
    "df = pd.read_sql(\"select * from EBAY_TOP_BERLIN where record_time in (select distinct record_time from EBAY_TOP_BERLIN order by record_time desc limit 2)\", sqlite3.connect(\"UsedObjects.db\"))"
   ]
  },
  {
   "cell_type": "code",
   "execution_count": 5,
   "id": "popular-active",
   "metadata": {
    "execution": {
     "iopub.execute_input": "2021-11-13T01:00:11.715134Z",
     "iopub.status.busy": "2021-11-13T01:00:11.698672Z",
     "iopub.status.idle": "2021-11-13T01:00:11.734107Z",
     "shell.execute_reply": "2021-11-13T01:00:11.735564Z"
    },
    "papermill": {
     "duration": 0.078547,
     "end_time": "2021-11-13T01:00:11.736024",
     "exception": false,
     "start_time": "2021-11-13T01:00:11.657477",
     "status": "completed"
    },
    "tags": []
   },
   "outputs": [],
   "source": [
    "df_pivot = df.pivot_table(index=\"PRODUCT\", columns = \"RECORD_TIME\", values = \"LISTING_COUNT\")"
   ]
  },
  {
   "cell_type": "code",
   "execution_count": 6,
   "id": "union-huntington",
   "metadata": {
    "execution": {
     "iopub.execute_input": "2021-11-13T01:00:11.795434Z",
     "iopub.status.busy": "2021-11-13T01:00:11.793235Z",
     "iopub.status.idle": "2021-11-13T01:00:11.798417Z",
     "shell.execute_reply": "2021-11-13T01:00:11.799772Z"
    },
    "papermill": {
     "duration": 0.044054,
     "end_time": "2021-11-13T01:00:11.800238",
     "exception": false,
     "start_time": "2021-11-13T01:00:11.756184",
     "status": "completed"
    },
    "tags": []
   },
   "outputs": [],
   "source": [
    "df_pivot.columns = [\"stamp_1\", \"stamp_2\"]\n",
    "df_pivot_diff = df_pivot.diff(axis=1)"
   ]
  },
  {
   "cell_type": "code",
   "execution_count": 7,
   "id": "fifth-motion",
   "metadata": {
    "execution": {
     "iopub.execute_input": "2021-11-13T01:00:11.857687Z",
     "iopub.status.busy": "2021-11-13T01:00:11.855062Z",
     "iopub.status.idle": "2021-11-13T01:00:13.800113Z",
     "shell.execute_reply": "2021-11-13T01:00:13.801547Z"
    },
    "papermill": {
     "duration": 1.981044,
     "end_time": "2021-11-13T01:00:13.801991",
     "exception": false,
     "start_time": "2021-11-13T01:00:11.820947",
     "status": "completed"
    },
    "tags": []
   },
   "outputs": [
    {
     "data": {
      "text/plain": [
       "<AxesSubplot:ylabel='PRODUCT'>"
      ]
     },
     "execution_count": 7,
     "metadata": {},
     "output_type": "execute_result"
    },
    {
     "data": {
      "image/png": "[encoded data removed]",
      "text/plain": [
       "<Figure size 432x288 with 1 Axes>"
      ]
     },
     "metadata": {
      "needs_background": "light"
     },
     "output_type": "display_data"
    }
   ],
   "source": [
    "df_pivot_diff.sort_values(\"stamp_2\", ascending = False)[\"stamp_2\"].head(10).plot.barh()"
   ]
  },
  {
   "cell_type": "code",
   "execution_count": null,
   "id": "extra-executive",
   "metadata": {
    "papermill": {
     "duration": 0.022395,
     "end_time": "2021-11-13T01:00:13.848450",
     "exception": false,
     "start_time": "2021-11-13T01:00:13.826055",
     "status": "completed"
    },
    "tags": []
   },
   "outputs": [],
   "source": []
  }
 ],
 "metadata": {
  "kernelspec": {
   "display_name": "Python 3",
   "language": "python",
   "name": "python3"
  },
  "language_info": {
   "codemirror_mode": {
    "name": "ipython",
    "version": 3
   },
   "file_extension": ".py",
   "mimetype": "text/x-python",
   "name": "python",
   "nbconvert_exporter": "python",
   "pygments_lexer": "ipython3",
   "version": "3.9.5"
  },
  "papermill": {
   "default_parameters": {},
   "duration": 8.755576,
   "end_time": "2021-11-13T01:00:14.491606",
   "environment_variables": {},
   "exception": null,
   "input_path": "eBay_Overview.ipynb",
   "output_path": "eBay_Overview.ipynb",
   "parameters": {},
   "start_time": "2021-11-13T01:00:05.736030",
   "version": "2.3.3"
  }
 },
 "nbformat": 4,
 "nbformat_minor": 5
}