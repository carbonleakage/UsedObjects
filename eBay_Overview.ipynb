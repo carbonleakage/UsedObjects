{
 "cells": [
  {
   "cell_type": "code",
   "execution_count": 1,
   "id": "reverse-picking",
   "metadata": {
    "execution": {
     "iopub.execute_input": "2021-10-28T05:00:06.598169Z",
     "iopub.status.busy": "2021-10-28T05:00:06.596205Z",
     "iopub.status.idle": "2021-10-28T05:00:07.400571Z",
     "shell.execute_reply": "2021-10-28T05:00:07.401927Z"
    },
    "papermill": {
     "duration": 0.854655,
     "end_time": "2021-10-28T05:00:07.402539",
     "exception": false,
     "start_time": "2021-10-28T05:00:06.547884",
     "status": "completed"
    },
    "tags": []
   },
   "outputs": [],
   "source": [
    "import pandas as pd\n",
    "import sqlite3"
   ]
  },
  {
   "cell_type": "code",
   "execution_count": 2,
   "id": "innovative-syndrome",
   "metadata": {
    "execution": {
     "iopub.execute_input": "2021-10-28T05:00:07.455211Z",
     "iopub.status.busy": "2021-10-28T05:00:07.453090Z",
     "iopub.status.idle": "2021-10-28T05:00:08.141448Z",
     "shell.execute_reply": "2021-10-28T05:00:08.142651Z"
    },
    "papermill": {
     "duration": 0.718189,
     "end_time": "2021-10-28T05:00:08.143045",
     "exception": false,
     "start_time": "2021-10-28T05:00:07.424856",
     "status": "completed"
    },
    "tags": []
   },
   "outputs": [],
   "source": [
    "timestamps = pd.read_sql(\"select distinct record_time from EBAY_TOP_BERLIN order by record_time desc limit 2\", sqlite3.connect(\"UsedObjects.db\"))"
   ]
  },
  {
   "cell_type": "code",
   "execution_count": 3,
   "id": "periodic-identification",
   "metadata": {
    "execution": {
     "iopub.execute_input": "2021-10-28T05:00:08.219130Z",
     "iopub.status.busy": "2021-10-28T05:00:08.217129Z",
     "iopub.status.idle": "2021-10-28T05:00:08.237318Z",
     "shell.execute_reply": "2021-10-28T05:00:08.238507Z"
    },
    "papermill": {
     "duration": 0.070442,
     "end_time": "2021-10-28T05:00:08.238932",
     "exception": false,
     "start_time": "2021-10-28T05:00:08.168490",
     "status": "completed"
    },
    "tags": []
   },
   "outputs": [
    {
     "data": {
      "text/html": [
       "<div>\n",
       "<style scoped>\n",
       "    .dataframe tbody tr th:only-of-type {\n",
       "        vertical-align: middle;\n",
       "    }\n",
       "\n",
       "    .dataframe tbody tr th {\n",
       "        vertical-align: top;\n",
       "    }\n",
       "\n",
       "    .dataframe thead th {\n",
       "        text-align: right;\n",
       "    }\n",
       "</style>\n",
       "<table border=\"1\" class=\"dataframe\">\n",
       "  <thead>\n",
       "    <tr style=\"text-align: right;\">\n",
       "      <th></th>\n",
       "      <th>RECORD_TIME</th>\n",
       "    </tr>\n",
       "  </thead>\n",
       "  <tbody>\n",
       "    <tr>\n",
       "      <th>0</th>\n",
       "      <td>2021-10-28 07:00</td>\n",
       "    </tr>\n",
       "    <tr>\n",
       "      <th>1</th>\n",
       "      <td>2021-10-28 06:30</td>\n",
       "    </tr>\n",
       "  </tbody>\n",
       "</table>\n",
       "</div>"
      ],
      "text/plain": [
       "        RECORD_TIME\n",
       "0  2021-10-28 07:00\n",
       "1  2021-10-28 06:30"
      ]
     },
     "execution_count": 3,
     "metadata": {},
     "output_type": "execute_result"
    }
   ],
   "source": [
    "timestamps"
   ]
  },
  {
   "cell_type": "code",
   "execution_count": 4,
   "id": "alternate-victory",
   "metadata": {
    "execution": {
     "iopub.execute_input": "2021-10-28T05:00:08.293060Z",
     "iopub.status.busy": "2021-10-28T05:00:08.290758Z",
     "iopub.status.idle": "2021-10-28T05:00:09.271833Z",
     "shell.execute_reply": "2021-10-28T05:00:09.273154Z"
    },
    "papermill": {
     "duration": 1.011707,
     "end_time": "2021-10-28T05:00:09.273578",
     "exception": false,
     "start_time": "2021-10-28T05:00:08.261871",
     "status": "completed"
    },
    "tags": []
   },
   "outputs": [],
   "source": [
    "df = pd.read_sql(\"select * from EBAY_TOP_BERLIN where record_time in (select distinct record_time from EBAY_TOP_BERLIN order by record_time desc limit 2)\", sqlite3.connect(\"UsedObjects.db\"))"
   ]
  },
  {
   "cell_type": "code",
   "execution_count": 5,
   "id": "popular-active",
   "metadata": {
    "execution": {
     "iopub.execute_input": "2021-10-28T05:00:09.347139Z",
     "iopub.status.busy": "2021-10-28T05:00:09.334575Z",
     "iopub.status.idle": "2021-10-28T05:00:09.362678Z",
     "shell.execute_reply": "2021-10-28T05:00:09.363873Z"
    },
    "papermill": {
     "duration": 0.068618,
     "end_time": "2021-10-28T05:00:09.364261",
     "exception": false,
     "start_time": "2021-10-28T05:00:09.295643",
     "status": "completed"
    },
    "tags": []
   },
   "outputs": [],
   "source": [
    "df_pivot = df.pivot_table(index=\"PRODUCT\", columns = \"RECORD_TIME\", values = \"LISTING_COUNT\")"
   ]
  },
  {
   "cell_type": "code",
   "execution_count": 6,
   "id": "union-huntington",
   "metadata": {
    "execution": {
     "iopub.execute_input": "2021-10-28T05:00:09.424104Z",
     "iopub.status.busy": "2021-10-28T05:00:09.421717Z",
     "iopub.status.idle": "2021-10-28T05:00:09.427565Z",
     "shell.execute_reply": "2021-10-28T05:00:09.428795Z"
    },
    "papermill": {
     "duration": 0.042529,
     "end_time": "2021-10-28T05:00:09.429228",
     "exception": false,
     "start_time": "2021-10-28T05:00:09.386699",
     "status": "completed"
    },
    "tags": []
   },
   "outputs": [],
   "source": [
    "df_pivot.columns = [\"stamp_1\", \"stamp_2\"]\n",
    "df_pivot_diff = df_pivot.diff(axis=1)"
   ]
  },
  {
   "cell_type": "code",
   "execution_count": 7,
   "id": "fifth-motion",
   "metadata": {
    "execution": {
     "iopub.execute_input": "2021-10-28T05:00:09.483839Z",
     "iopub.status.busy": "2021-10-28T05:00:09.481681Z",
     "iopub.status.idle": "2021-10-28T05:00:10.957003Z",
     "shell.execute_reply": "2021-10-28T05:00:10.958446Z"
    },
    "papermill": {
     "duration": 1.508042,
     "end_time": "2021-10-28T05:00:10.958906",
     "exception": false,
     "start_time": "2021-10-28T05:00:09.450864",
     "status": "completed"
    },
    "tags": []
   },
   "outputs": [
    {
     "data": {
      "text/plain": [
       "<AxesSubplot:ylabel='PRODUCT'>"
      ]
     },
     "execution_count": 7,
     "metadata": {},
     "output_type": "execute_result"
    },
    {
     "data": {
      "image/png": "[encoded data removed]",
      "text/plain": [
       "<Figure size 432x288 with 1 Axes>"
      ]
     },
     "metadata": {
      "needs_background": "light"
     },
     "output_type": "display_data"
    }
   ],
   "source": [
    "df_pivot_diff.sort_values(\"stamp_2\", ascending = False)[\"stamp_2\"].head(10).plot.barh()"
   ]
  },
  {
   "cell_type": "code",
   "execution_count": null,
   "id": "extra-executive",
   "metadata": {
    "papermill": {
     "duration": 0.022204,
     "end_time": "2021-10-28T05:00:11.006287",
     "exception": false,
     "start_time": "2021-10-28T05:00:10.984083",
     "status": "completed"
    },
    "tags": []
   },
   "outputs": [],
   "source": []
  }
 ],
 "metadata": {
  "kernelspec": {
   "display_name": "Python 3",
   "language": "python",
   "name": "python3"
  },
  "language_info": {
   "codemirror_mode": {
    "name": "ipython",
    "version": 3
   },
   "file_extension": ".py",
   "mimetype": "text/x-python",
   "name": "python",
   "nbconvert_exporter": "python",
   "pygments_lexer": "ipython3",
   "version": "3.9.5"
  },
  "papermill": {
   "default_parameters": {},
   "duration": 7.498659,
   "end_time": "2021-10-28T05:00:11.649364",
   "environment_variables": {},
   "exception": null,
   "input_path": "eBay_Overview.ipynb",
   "output_path": "eBay_Overview.ipynb",
   "parameters": {},
   "start_time": "2021-10-28T05:00:04.150705",
   "version": "2.3.3"
  }
 },
 "nbformat": 4,
 "nbformat_minor": 5
}