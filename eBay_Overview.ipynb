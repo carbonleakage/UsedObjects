{
 "cells": [
  {
   "cell_type": "code",
   "execution_count": 1,
   "id": "reverse-picking",
   "metadata": {
    "execution": {
     "iopub.execute_input": "2021-09-28T20:30:07.340515Z",
     "iopub.status.busy": "2021-09-28T20:30:07.338468Z",
     "iopub.status.idle": "2021-09-28T20:30:08.146457Z",
     "shell.execute_reply": "2021-09-28T20:30:08.147799Z"
    },
    "papermill": {
     "duration": 0.859665,
     "end_time": "2021-09-28T20:30:08.148419",
     "exception": false,
     "start_time": "2021-09-28T20:30:07.288754",
     "status": "completed"
    },
    "tags": []
   },
   "outputs": [],
   "source": [
    "import pandas as pd\n",
    "import sqlite3"
   ]
  },
  {
   "cell_type": "code",
   "execution_count": 2,
   "id": "innovative-syndrome",
   "metadata": {
    "execution": {
     "iopub.execute_input": "2021-09-28T20:30:08.200804Z",
     "iopub.status.busy": "2021-09-28T20:30:08.198538Z",
     "iopub.status.idle": "2021-09-28T20:30:08.597122Z",
     "shell.execute_reply": "2021-09-28T20:30:08.598329Z"
    },
    "papermill": {
     "duration": 0.428049,
     "end_time": "2021-09-28T20:30:08.598733",
     "exception": false,
     "start_time": "2021-09-28T20:30:08.170684",
     "status": "completed"
    },
    "tags": []
   },
   "outputs": [],
   "source": [
    "timestamps = pd.read_sql(\"select distinct record_time from EBAY_TOP_BERLIN order by record_time desc limit 2\", sqlite3.connect(\"UsedObjects.db\"))"
   ]
  },
  {
   "cell_type": "code",
   "execution_count": 3,
   "id": "periodic-identification",
   "metadata": {
    "execution": {
     "iopub.execute_input": "2021-09-28T20:30:08.667776Z",
     "iopub.status.busy": "2021-09-28T20:30:08.662231Z",
     "iopub.status.idle": "2021-09-28T20:30:08.683920Z",
     "shell.execute_reply": "2021-09-28T20:30:08.685453Z"
    },
    "papermill": {
     "duration": 0.066101,
     "end_time": "2021-09-28T20:30:08.685921",
     "exception": false,
     "start_time": "2021-09-28T20:30:08.619820",
     "status": "completed"
    },
    "tags": []
   },
   "outputs": [
    {
     "data": {
      "text/html": [
       "<div>\n",
       "<style scoped>\n",
       "    .dataframe tbody tr th:only-of-type {\n",
       "        vertical-align: middle;\n",
       "    }\n",
       "\n",
       "    .dataframe tbody tr th {\n",
       "        vertical-align: top;\n",
       "    }\n",
       "\n",
       "    .dataframe thead th {\n",
       "        text-align: right;\n",
       "    }\n",
       "</style>\n",
       "<table border=\"1\" class=\"dataframe\">\n",
       "  <thead>\n",
       "    <tr style=\"text-align: right;\">\n",
       "      <th></th>\n",
       "      <th>RECORD_TIME</th>\n",
       "    </tr>\n",
       "  </thead>\n",
       "  <tbody>\n",
       "    <tr>\n",
       "      <th>0</th>\n",
       "      <td>2021-09-28 22:30</td>\n",
       "    </tr>\n",
       "    <tr>\n",
       "      <th>1</th>\n",
       "      <td>2021-09-28 22:00</td>\n",
       "    </tr>\n",
       "  </tbody>\n",
       "</table>\n",
       "</div>"
      ],
      "text/plain": [
       "        RECORD_TIME\n",
       "0  2021-09-28 22:30\n",
       "1  2021-09-28 22:00"
      ]
     },
     "execution_count": 3,
     "metadata": {},
     "output_type": "execute_result"
    }
   ],
   "source": [
    "timestamps"
   ]
  },
  {
   "cell_type": "code",
   "execution_count": 4,
   "id": "alternate-victory",
   "metadata": {
    "execution": {
     "iopub.execute_input": "2021-09-28T20:30:08.739490Z",
     "iopub.status.busy": "2021-09-28T20:30:08.737359Z",
     "iopub.status.idle": "2021-09-28T20:30:09.329545Z",
     "shell.execute_reply": "2021-09-28T20:30:09.330772Z"
    },
    "papermill": {
     "duration": 0.623097,
     "end_time": "2021-09-28T20:30:09.331373",
     "exception": false,
     "start_time": "2021-09-28T20:30:08.708276",
     "status": "completed"
    },
    "tags": []
   },
   "outputs": [],
   "source": [
    "df = pd.read_sql(\"select * from EBAY_TOP_BERLIN where record_time in (select distinct record_time from EBAY_TOP_BERLIN order by record_time desc limit 2)\", sqlite3.connect(\"UsedObjects.db\"))"
   ]
  },
  {
   "cell_type": "code",
   "execution_count": 5,
   "id": "popular-active",
   "metadata": {
    "execution": {
     "iopub.execute_input": "2021-09-28T20:30:09.418239Z",
     "iopub.status.busy": "2021-09-28T20:30:09.405427Z",
     "iopub.status.idle": "2021-09-28T20:30:09.434008Z",
     "shell.execute_reply": "2021-09-28T20:30:09.435378Z"
    },
    "papermill": {
     "duration": 0.073729,
     "end_time": "2021-09-28T20:30:09.435808",
     "exception": false,
     "start_time": "2021-09-28T20:30:09.362079",
     "status": "completed"
    },
    "tags": []
   },
   "outputs": [],
   "source": [
    "df_pivot = df.pivot_table(index=\"PRODUCT\", columns = \"RECORD_TIME\", values = \"LISTING_COUNT\")"
   ]
  },
  {
   "cell_type": "code",
   "execution_count": 6,
   "id": "union-huntington",
   "metadata": {
    "execution": {
     "iopub.execute_input": "2021-09-28T20:30:09.491753Z",
     "iopub.status.busy": "2021-09-28T20:30:09.489619Z",
     "iopub.status.idle": "2021-09-28T20:30:09.494913Z",
     "shell.execute_reply": "2021-09-28T20:30:09.496244Z"
    },
    "papermill": {
     "duration": 0.040837,
     "end_time": "2021-09-28T20:30:09.496670",
     "exception": false,
     "start_time": "2021-09-28T20:30:09.455833",
     "status": "completed"
    },
    "tags": []
   },
   "outputs": [],
   "source": [
    "df_pivot.columns = [\"stamp_1\", \"stamp_2\"]\n",
    "df_pivot_diff = df_pivot.diff(axis=1)"
   ]
  },
  {
   "cell_type": "code",
   "execution_count": 7,
   "id": "fifth-motion",
   "metadata": {
    "execution": {
     "iopub.execute_input": "2021-09-28T20:30:09.550624Z",
     "iopub.status.busy": "2021-09-28T20:30:09.548213Z",
     "iopub.status.idle": "2021-09-28T20:30:11.043522Z",
     "shell.execute_reply": "2021-09-28T20:30:11.044845Z"
    },
    "papermill": {
     "duration": 1.528231,
     "end_time": "2021-09-28T20:30:11.045273",
     "exception": false,
     "start_time": "2021-09-28T20:30:09.517042",
     "status": "completed"
    },
    "tags": []
   },
   "outputs": [
    {
     "data": {
      "text/plain": [
       "<AxesSubplot:ylabel='PRODUCT'>"
      ]
     },
     "execution_count": 7,
     "metadata": {},
     "output_type": "execute_result"
    },
    {
     "data": {
      "image/png": "[encoded data removed]",
      "text/plain": [
       "<Figure size 432x288 with 1 Axes>"
      ]
     },
     "metadata": {
      "needs_background": "light"
     },
     "output_type": "display_data"
    }
   ],
   "source": [
    "df_pivot_diff.sort_values(\"stamp_2\", ascending = False)[\"stamp_2\"].head(10).plot.barh()"
   ]
  },
  {
   "cell_type": "code",
   "execution_count": null,
   "id": "extra-executive",
   "metadata": {
    "papermill": {
     "duration": 0.022456,
     "end_time": "2021-09-28T20:30:11.091013",
     "exception": false,
     "start_time": "2021-09-28T20:30:11.068557",
     "status": "completed"
    },
    "tags": []
   },
   "outputs": [],
   "source": []
  }
 ],
 "metadata": {
  "kernelspec": {
   "display_name": "Python 3",
   "language": "python",
   "name": "python3"
  },
  "language_info": {
   "codemirror_mode": {
    "name": "ipython",
    "version": 3
   },
   "file_extension": ".py",
   "mimetype": "text/x-python",
   "name": "python",
   "nbconvert_exporter": "python",
   "pygments_lexer": "ipython3",
   "version": "3.9.5"
  },
  "papermill": {
   "default_parameters": {},
   "duration": 7.837822,
   "end_time": "2021-09-28T20:30:12.712099",
   "environment_variables": {},
   "exception": null,
   "input_path": "eBay_Overview.ipynb",
   "output_path": "eBay_Overview.ipynb",
   "parameters": {},
   "start_time": "2021-09-28T20:30:04.874277",
   "version": "2.3.3"
  }
 },
 "nbformat": 4,
 "nbformat_minor": 5
}