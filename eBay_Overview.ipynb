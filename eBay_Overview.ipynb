{
 "cells": [
  {
   "cell_type": "code",
   "execution_count": 1,
   "id": "reverse-picking",
   "metadata": {
    "execution": {
     "iopub.execute_input": "2021-09-13T22:00:06.968650Z",
     "iopub.status.busy": "2021-09-13T22:00:06.966586Z",
     "iopub.status.idle": "2021-09-13T22:00:07.771701Z",
     "shell.execute_reply": "2021-09-13T22:00:07.773105Z"
    },
    "papermill": {
     "duration": 0.858294,
     "end_time": "2021-09-13T22:00:07.773736",
     "exception": false,
     "start_time": "2021-09-13T22:00:06.915442",
     "status": "completed"
    },
    "tags": []
   },
   "outputs": [],
   "source": [
    "import pandas as pd\n",
    "import sqlite3"
   ]
  },
  {
   "cell_type": "code",
   "execution_count": 2,
   "id": "innovative-syndrome",
   "metadata": {
    "execution": {
     "iopub.execute_input": "2021-09-13T22:00:07.823689Z",
     "iopub.status.busy": "2021-09-13T22:00:07.821680Z",
     "iopub.status.idle": "2021-09-13T22:00:08.100292Z",
     "shell.execute_reply": "2021-09-13T22:00:08.101581Z"
    },
    "papermill": {
     "duration": 0.308017,
     "end_time": "2021-09-13T22:00:08.101995",
     "exception": false,
     "start_time": "2021-09-13T22:00:07.793978",
     "status": "completed"
    },
    "tags": []
   },
   "outputs": [],
   "source": [
    "timestamps = pd.read_sql(\"select distinct record_time from EBAY_TOP_BERLIN order by record_time desc limit 2\", sqlite3.connect(\"UsedObjects.db\"))"
   ]
  },
  {
   "cell_type": "code",
   "execution_count": 3,
   "id": "periodic-identification",
   "metadata": {
    "execution": {
     "iopub.execute_input": "2021-09-13T22:00:08.171633Z",
     "iopub.status.busy": "2021-09-13T22:00:08.166538Z",
     "iopub.status.idle": "2021-09-13T22:00:08.186671Z",
     "shell.execute_reply": "2021-09-13T22:00:08.187966Z"
    },
    "papermill": {
     "duration": 0.067028,
     "end_time": "2021-09-13T22:00:08.188399",
     "exception": false,
     "start_time": "2021-09-13T22:00:08.121371",
     "status": "completed"
    },
    "tags": []
   },
   "outputs": [
    {
     "data": {
      "text/html": [
       "<div>\n",
       "<style scoped>\n",
       "    .dataframe tbody tr th:only-of-type {\n",
       "        vertical-align: middle;\n",
       "    }\n",
       "\n",
       "    .dataframe tbody tr th {\n",
       "        vertical-align: top;\n",
       "    }\n",
       "\n",
       "    .dataframe thead th {\n",
       "        text-align: right;\n",
       "    }\n",
       "</style>\n",
       "<table border=\"1\" class=\"dataframe\">\n",
       "  <thead>\n",
       "    <tr style=\"text-align: right;\">\n",
       "      <th></th>\n",
       "      <th>RECORD_TIME</th>\n",
       "    </tr>\n",
       "  </thead>\n",
       "  <tbody>\n",
       "    <tr>\n",
       "      <th>0</th>\n",
       "      <td>2021-09-14 00:00</td>\n",
       "    </tr>\n",
       "    <tr>\n",
       "      <th>1</th>\n",
       "      <td>2021-09-13 23:30</td>\n",
       "    </tr>\n",
       "  </tbody>\n",
       "</table>\n",
       "</div>"
      ],
      "text/plain": [
       "        RECORD_TIME\n",
       "0  2021-09-14 00:00\n",
       "1  2021-09-13 23:30"
      ]
     },
     "execution_count": 3,
     "metadata": {},
     "output_type": "execute_result"
    }
   ],
   "source": [
    "timestamps"
   ]
  },
  {
   "cell_type": "code",
   "execution_count": 4,
   "id": "alternate-victory",
   "metadata": {
    "execution": {
     "iopub.execute_input": "2021-09-13T22:00:08.242231Z",
     "iopub.status.busy": "2021-09-13T22:00:08.239909Z",
     "iopub.status.idle": "2021-09-13T22:00:08.653743Z",
     "shell.execute_reply": "2021-09-13T22:00:08.655056Z"
    },
    "papermill": {
     "duration": 0.444269,
     "end_time": "2021-09-13T22:00:08.655514",
     "exception": false,
     "start_time": "2021-09-13T22:00:08.211245",
     "status": "completed"
    },
    "tags": []
   },
   "outputs": [],
   "source": [
    "df = pd.read_sql(\"select * from EBAY_TOP_BERLIN where record_time in (select distinct record_time from EBAY_TOP_BERLIN order by record_time desc limit 2)\", sqlite3.connect(\"UsedObjects.db\"))"
   ]
  },
  {
   "cell_type": "code",
   "execution_count": 5,
   "id": "popular-active",
   "metadata": {
    "execution": {
     "iopub.execute_input": "2021-09-13T22:00:08.747815Z",
     "iopub.status.busy": "2021-09-13T22:00:08.735805Z",
     "iopub.status.idle": "2021-09-13T22:00:08.767129Z",
     "shell.execute_reply": "2021-09-13T22:00:08.765349Z"
    },
    "papermill": {
     "duration": 0.076725,
     "end_time": "2021-09-13T22:00:08.767542",
     "exception": false,
     "start_time": "2021-09-13T22:00:08.690817",
     "status": "completed"
    },
    "tags": []
   },
   "outputs": [],
   "source": [
    "df_pivot = df.pivot_table(index=\"PRODUCT\", columns = \"RECORD_TIME\", values = \"LISTING_COUNT\")"
   ]
  },
  {
   "cell_type": "code",
   "execution_count": 6,
   "id": "union-huntington",
   "metadata": {
    "execution": {
     "iopub.execute_input": "2021-09-13T22:00:08.826968Z",
     "iopub.status.busy": "2021-09-13T22:00:08.824480Z",
     "iopub.status.idle": "2021-09-13T22:00:08.830302Z",
     "shell.execute_reply": "2021-09-13T22:00:08.831790Z"
    },
    "papermill": {
     "duration": 0.042539,
     "end_time": "2021-09-13T22:00:08.832244",
     "exception": false,
     "start_time": "2021-09-13T22:00:08.789705",
     "status": "completed"
    },
    "tags": []
   },
   "outputs": [],
   "source": [
    "df_pivot.columns = [\"stamp_1\", \"stamp_2\"]\n",
    "df_pivot_diff = df_pivot.diff(axis=1)"
   ]
  },
  {
   "cell_type": "code",
   "execution_count": 7,
   "id": "fifth-motion",
   "metadata": {
    "execution": {
     "iopub.execute_input": "2021-09-13T22:00:08.885798Z",
     "iopub.status.busy": "2021-09-13T22:00:08.883600Z",
     "iopub.status.idle": "2021-09-13T22:00:10.362386Z",
     "shell.execute_reply": "2021-09-13T22:00:10.363961Z"
    },
    "papermill": {
     "duration": 1.511694,
     "end_time": "2021-09-13T22:00:10.364442",
     "exception": false,
     "start_time": "2021-09-13T22:00:08.852748",
     "status": "completed"
    },
    "tags": []
   },
   "outputs": [
    {
     "data": {
      "text/plain": [
       "<AxesSubplot:ylabel='PRODUCT'>"
      ]
     },
     "execution_count": 7,
     "metadata": {},
     "output_type": "execute_result"
    },
    {
     "data": {
      "image/png": "[encoded data removed]",
      "text/plain": [
       "<Figure size 432x288 with 1 Axes>"
      ]
     },
     "metadata": {
      "needs_background": "light"
     },
     "output_type": "display_data"
    }
   ],
   "source": [
    "df_pivot_diff.sort_values(\"stamp_2\", ascending = False)[\"stamp_2\"].head(10).plot.barh()"
   ]
  },
  {
   "cell_type": "code",
   "execution_count": null,
   "id": "extra-executive",
   "metadata": {
    "papermill": {
     "duration": 0.022252,
     "end_time": "2021-09-13T22:00:10.411168",
     "exception": false,
     "start_time": "2021-09-13T22:00:10.388916",
     "status": "completed"
    },
    "tags": []
   },
   "outputs": [],
   "source": []
  }
 ],
 "metadata": {
  "kernelspec": {
   "display_name": "Python 3",
   "language": "python",
   "name": "python3"
  },
  "language_info": {
   "codemirror_mode": {
    "name": "ipython",
    "version": 3
   },
   "file_extension": ".py",
   "mimetype": "text/x-python",
   "name": "python",
   "nbconvert_exporter": "python",
   "pygments_lexer": "ipython3",
   "version": "3.9.5"
  },
  "papermill": {
   "default_parameters": {},
   "duration": 6.552762,
   "end_time": "2021-09-13T22:00:11.054374",
   "environment_variables": {},
   "exception": null,
   "input_path": "eBay_Overview.ipynb",
   "output_path": "eBay_Overview.ipynb",
   "parameters": {},
   "start_time": "2021-09-13T22:00:04.501612",
   "version": "2.3.3"
  }
 },
 "nbformat": 4,
 "nbformat_minor": 5
}