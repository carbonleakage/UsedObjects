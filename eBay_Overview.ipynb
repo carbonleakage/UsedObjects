{
 "cells": [
  {
   "cell_type": "code",
   "execution_count": 1,
   "id": "reverse-picking",
   "metadata": {
    "execution": {
     "iopub.execute_input": "2021-12-04T19:00:07.800139Z",
     "iopub.status.busy": "2021-12-04T19:00:07.797599Z",
     "iopub.status.idle": "2021-12-04T19:00:08.721178Z",
     "shell.execute_reply": "2021-12-04T19:00:08.722907Z"
    },
    "papermill": {
     "duration": 0.976145,
     "end_time": "2021-12-04T19:00:08.723610",
     "exception": false,
     "start_time": "2021-12-04T19:00:07.747465",
     "status": "completed"
    },
    "tags": []
   },
   "outputs": [],
   "source": [
    "import pandas as pd\n",
    "import sqlite3"
   ]
  },
  {
   "cell_type": "code",
   "execution_count": 2,
   "id": "innovative-syndrome",
   "metadata": {
    "execution": {
     "iopub.execute_input": "2021-12-04T19:00:08.840082Z",
     "iopub.status.busy": "2021-12-04T19:00:08.837754Z",
     "iopub.status.idle": "2021-12-04T19:00:09.836536Z",
     "shell.execute_reply": "2021-12-04T19:00:09.837848Z"
    },
    "papermill": {
     "duration": 1.032489,
     "end_time": "2021-12-04T19:00:09.838258",
     "exception": false,
     "start_time": "2021-12-04T19:00:08.805769",
     "status": "completed"
    },
    "tags": []
   },
   "outputs": [],
   "source": [
    "timestamps = pd.read_sql(\"select distinct record_time from EBAY_TOP_BERLIN order by record_time desc limit 2\", sqlite3.connect(\"UsedObjects.db\"))"
   ]
  },
  {
   "cell_type": "code",
   "execution_count": 3,
   "id": "periodic-identification",
   "metadata": {
    "execution": {
     "iopub.execute_input": "2021-12-04T19:00:09.903858Z",
     "iopub.status.busy": "2021-12-04T19:00:09.901831Z",
     "iopub.status.idle": "2021-12-04T19:00:09.922024Z",
     "shell.execute_reply": "2021-12-04T19:00:09.923768Z"
    },
    "papermill": {
     "duration": 0.065312,
     "end_time": "2021-12-04T19:00:09.924306",
     "exception": false,
     "start_time": "2021-12-04T19:00:09.858994",
     "status": "completed"
    },
    "tags": []
   },
   "outputs": [
    {
     "data": {
      "text/html": [
       "<div>\n",
       "<style scoped>\n",
       "    .dataframe tbody tr th:only-of-type {\n",
       "        vertical-align: middle;\n",
       "    }\n",
       "\n",
       "    .dataframe tbody tr th {\n",
       "        vertical-align: top;\n",
       "    }\n",
       "\n",
       "    .dataframe thead th {\n",
       "        text-align: right;\n",
       "    }\n",
       "</style>\n",
       "<table border=\"1\" class=\"dataframe\">\n",
       "  <thead>\n",
       "    <tr style=\"text-align: right;\">\n",
       "      <th></th>\n",
       "      <th>RECORD_TIME</th>\n",
       "    </tr>\n",
       "  </thead>\n",
       "  <tbody>\n",
       "    <tr>\n",
       "      <th>0</th>\n",
       "      <td>2021-12-04 20:00</td>\n",
       "    </tr>\n",
       "    <tr>\n",
       "      <th>1</th>\n",
       "      <td>2021-12-04 19:30</td>\n",
       "    </tr>\n",
       "  </tbody>\n",
       "</table>\n",
       "</div>"
      ],
      "text/plain": [
       "        RECORD_TIME\n",
       "0  2021-12-04 20:00\n",
       "1  2021-12-04 19:30"
      ]
     },
     "execution_count": 3,
     "metadata": {},
     "output_type": "execute_result"
    }
   ],
   "source": [
    "timestamps"
   ]
  },
  {
   "cell_type": "code",
   "execution_count": 4,
   "id": "alternate-victory",
   "metadata": {
    "execution": {
     "iopub.execute_input": "2021-12-04T19:00:09.977751Z",
     "iopub.status.busy": "2021-12-04T19:00:09.975813Z",
     "iopub.status.idle": "2021-12-04T19:00:11.449083Z",
     "shell.execute_reply": "2021-12-04T19:00:11.451459Z"
    },
    "papermill": {
     "duration": 1.505114,
     "end_time": "2021-12-04T19:00:11.451996",
     "exception": false,
     "start_time": "2021-12-04T19:00:09.946882",
     "status": "completed"
    },
    "tags": []
   },
   "outputs": [],
   "source": [
    "df = pd.read_sql(\"select * from EBAY_TOP_BERLIN where record_time in (select distinct record_time from EBAY_TOP_BERLIN order by record_time desc limit 2)\", sqlite3.connect(\"UsedObjects.db\"))"
   ]
  },
  {
   "cell_type": "code",
   "execution_count": 5,
   "id": "popular-active",
   "metadata": {
    "execution": {
     "iopub.execute_input": "2021-12-04T19:00:11.531517Z",
     "iopub.status.busy": "2021-12-04T19:00:11.516897Z",
     "iopub.status.idle": "2021-12-04T19:00:11.550877Z",
     "shell.execute_reply": "2021-12-04T19:00:11.549415Z"
    },
    "papermill": {
     "duration": 0.076411,
     "end_time": "2021-12-04T19:00:11.551291",
     "exception": false,
     "start_time": "2021-12-04T19:00:11.474880",
     "status": "completed"
    },
    "tags": []
   },
   "outputs": [],
   "source": [
    "df_pivot = df.pivot_table(index=\"PRODUCT\", columns = \"RECORD_TIME\", values = \"LISTING_COUNT\")"
   ]
  },
  {
   "cell_type": "code",
   "execution_count": 6,
   "id": "union-huntington",
   "metadata": {
    "execution": {
     "iopub.execute_input": "2021-12-04T19:00:11.609889Z",
     "iopub.status.busy": "2021-12-04T19:00:11.607717Z",
     "iopub.status.idle": "2021-12-04T19:00:11.613007Z",
     "shell.execute_reply": "2021-12-04T19:00:11.614762Z"
    },
    "papermill": {
     "duration": 0.043954,
     "end_time": "2021-12-04T19:00:11.615272",
     "exception": false,
     "start_time": "2021-12-04T19:00:11.571318",
     "status": "completed"
    },
    "tags": []
   },
   "outputs": [],
   "source": [
    "df_pivot.columns = [\"stamp_1\", \"stamp_2\"]\n",
    "df_pivot_diff = df_pivot.diff(axis=1)"
   ]
  },
  {
   "cell_type": "code",
   "execution_count": 7,
   "id": "fifth-motion",
   "metadata": {
    "execution": {
     "iopub.execute_input": "2021-12-04T19:00:11.674212Z",
     "iopub.status.busy": "2021-12-04T19:00:11.671649Z",
     "iopub.status.idle": "2021-12-04T19:00:13.721616Z",
     "shell.execute_reply": "2021-12-04T19:00:13.723055Z"
    },
    "papermill": {
     "duration": 2.086883,
     "end_time": "2021-12-04T19:00:13.723512",
     "exception": false,
     "start_time": "2021-12-04T19:00:11.636629",
     "status": "completed"
    },
    "tags": []
   },
   "outputs": [
    {
     "data": {
      "text/plain": [
       "<AxesSubplot:ylabel='PRODUCT'>"
      ]
     },
     "execution_count": 7,
     "metadata": {},
     "output_type": "execute_result"
    },
    {
     "data": {
      "image/png": "[encoded data removed]",
      "text/plain": [
       "<Figure size 432x288 with 1 Axes>"
      ]
     },
     "metadata": {
      "needs_background": "light"
     },
     "output_type": "display_data"
    }
   ],
   "source": [
    "df_pivot_diff.sort_values(\"stamp_2\", ascending = False)[\"stamp_2\"].head(10).plot.barh()"
   ]
  },
  {
   "cell_type": "code",
   "execution_count": null,
   "id": "extra-executive",
   "metadata": {
    "papermill": {
     "duration": 0.02888,
     "end_time": "2021-12-04T19:00:13.846348",
     "exception": false,
     "start_time": "2021-12-04T19:00:13.817468",
     "status": "completed"
    },
    "tags": []
   },
   "outputs": [],
   "source": []
  }
 ],
 "metadata": {
  "kernelspec": {
   "display_name": "Python 3",
   "language": "python",
   "name": "python3"
  },
  "language_info": {
   "codemirror_mode": {
    "name": "ipython",
    "version": 3
   },
   "file_extension": ".py",
   "mimetype": "text/x-python",
   "name": "python",
   "nbconvert_exporter": "python",
   "pygments_lexer": "ipython3",
   "version": "3.9.5"
  },
  "papermill": {
   "default_parameters": {},
   "duration": 9.483477,
   "end_time": "2021-12-04T19:00:14.489919",
   "environment_variables": {},
   "exception": null,
   "input_path": "eBay_Overview.ipynb",
   "output_path": "eBay_Overview.ipynb",
   "parameters": {},
   "start_time": "2021-12-04T19:00:05.006442",
   "version": "2.3.3"
  }
 },
 "nbformat": 4,
 "nbformat_minor": 5
}