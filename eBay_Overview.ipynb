{
 "cells": [
  {
   "cell_type": "code",
   "execution_count": 1,
   "id": "reverse-picking",
   "metadata": {
    "execution": {
     "iopub.execute_input": "2021-11-29T23:00:08.164927Z",
     "iopub.status.busy": "2021-11-29T23:00:08.162584Z",
     "iopub.status.idle": "2021-11-29T23:00:09.132725Z",
     "shell.execute_reply": "2021-11-29T23:00:09.134271Z"
    },
    "papermill": {
     "duration": 1.018025,
     "end_time": "2021-11-29T23:00:09.135006",
     "exception": false,
     "start_time": "2021-11-29T23:00:08.116981",
     "status": "completed"
    },
    "tags": []
   },
   "outputs": [],
   "source": [
    "import pandas as pd\n",
    "import sqlite3"
   ]
  },
  {
   "cell_type": "code",
   "execution_count": 2,
   "id": "innovative-syndrome",
   "metadata": {
    "execution": {
     "iopub.execute_input": "2021-11-29T23:00:09.202750Z",
     "iopub.status.busy": "2021-11-29T23:00:09.200490Z",
     "iopub.status.idle": "2021-11-29T23:00:10.131032Z",
     "shell.execute_reply": "2021-11-29T23:00:10.132240Z"
    },
    "papermill": {
     "duration": 0.96425,
     "end_time": "2021-11-29T23:00:10.132641",
     "exception": false,
     "start_time": "2021-11-29T23:00:09.168391",
     "status": "completed"
    },
    "tags": []
   },
   "outputs": [],
   "source": [
    "timestamps = pd.read_sql(\"select distinct record_time from EBAY_TOP_BERLIN order by record_time desc limit 2\", sqlite3.connect(\"UsedObjects.db\"))"
   ]
  },
  {
   "cell_type": "code",
   "execution_count": 3,
   "id": "periodic-identification",
   "metadata": {
    "execution": {
     "iopub.execute_input": "2021-11-29T23:00:10.200255Z",
     "iopub.status.busy": "2021-11-29T23:00:10.198004Z",
     "iopub.status.idle": "2021-11-29T23:00:10.220308Z",
     "shell.execute_reply": "2021-11-29T23:00:10.222156Z"
    },
    "papermill": {
     "duration": 0.070653,
     "end_time": "2021-11-29T23:00:10.222700",
     "exception": false,
     "start_time": "2021-11-29T23:00:10.152047",
     "status": "completed"
    },
    "tags": []
   },
   "outputs": [
    {
     "data": {
      "text/html": [
       "<div>\n",
       "<style scoped>\n",
       "    .dataframe tbody tr th:only-of-type {\n",
       "        vertical-align: middle;\n",
       "    }\n",
       "\n",
       "    .dataframe tbody tr th {\n",
       "        vertical-align: top;\n",
       "    }\n",
       "\n",
       "    .dataframe thead th {\n",
       "        text-align: right;\n",
       "    }\n",
       "</style>\n",
       "<table border=\"1\" class=\"dataframe\">\n",
       "  <thead>\n",
       "    <tr style=\"text-align: right;\">\n",
       "      <th></th>\n",
       "      <th>RECORD_TIME</th>\n",
       "    </tr>\n",
       "  </thead>\n",
       "  <tbody>\n",
       "    <tr>\n",
       "      <th>0</th>\n",
       "      <td>2021-11-30 00:00</td>\n",
       "    </tr>\n",
       "    <tr>\n",
       "      <th>1</th>\n",
       "      <td>2021-11-29 23:30</td>\n",
       "    </tr>\n",
       "  </tbody>\n",
       "</table>\n",
       "</div>"
      ],
      "text/plain": [
       "        RECORD_TIME\n",
       "0  2021-11-30 00:00\n",
       "1  2021-11-29 23:30"
      ]
     },
     "execution_count": 3,
     "metadata": {},
     "output_type": "execute_result"
    }
   ],
   "source": [
    "timestamps"
   ]
  },
  {
   "cell_type": "code",
   "execution_count": 4,
   "id": "alternate-victory",
   "metadata": {
    "execution": {
     "iopub.execute_input": "2021-11-29T23:00:10.277864Z",
     "iopub.status.busy": "2021-11-29T23:00:10.275878Z",
     "iopub.status.idle": "2021-11-29T23:00:11.654571Z",
     "shell.execute_reply": "2021-11-29T23:00:11.656610Z"
    },
    "papermill": {
     "duration": 1.413242,
     "end_time": "2021-11-29T23:00:11.657138",
     "exception": false,
     "start_time": "2021-11-29T23:00:10.243896",
     "status": "completed"
    },
    "tags": []
   },
   "outputs": [],
   "source": [
    "df = pd.read_sql(\"select * from EBAY_TOP_BERLIN where record_time in (select distinct record_time from EBAY_TOP_BERLIN order by record_time desc limit 2)\", sqlite3.connect(\"UsedObjects.db\"))"
   ]
  },
  {
   "cell_type": "code",
   "execution_count": 5,
   "id": "popular-active",
   "metadata": {
    "execution": {
     "iopub.execute_input": "2021-11-29T23:00:11.724189Z",
     "iopub.status.busy": "2021-11-29T23:00:11.717029Z",
     "iopub.status.idle": "2021-11-29T23:00:11.748163Z",
     "shell.execute_reply": "2021-11-29T23:00:11.749667Z"
    },
    "papermill": {
     "duration": 0.072743,
     "end_time": "2021-11-29T23:00:11.750138",
     "exception": false,
     "start_time": "2021-11-29T23:00:11.677395",
     "status": "completed"
    },
    "tags": []
   },
   "outputs": [],
   "source": [
    "df_pivot = df.pivot_table(index=\"PRODUCT\", columns = \"RECORD_TIME\", values = \"LISTING_COUNT\")"
   ]
  },
  {
   "cell_type": "code",
   "execution_count": 6,
   "id": "union-huntington",
   "metadata": {
    "execution": {
     "iopub.execute_input": "2021-11-29T23:00:11.810740Z",
     "iopub.status.busy": "2021-11-29T23:00:11.808474Z",
     "iopub.status.idle": "2021-11-29T23:00:11.816476Z",
     "shell.execute_reply": "2021-11-29T23:00:11.817985Z"
    },
    "papermill": {
     "duration": 0.047506,
     "end_time": "2021-11-29T23:00:11.818457",
     "exception": false,
     "start_time": "2021-11-29T23:00:11.770951",
     "status": "completed"
    },
    "tags": []
   },
   "outputs": [],
   "source": [
    "df_pivot.columns = [\"stamp_1\", \"stamp_2\"]\n",
    "df_pivot_diff = df_pivot.diff(axis=1)"
   ]
  },
  {
   "cell_type": "code",
   "execution_count": 7,
   "id": "fifth-motion",
   "metadata": {
    "execution": {
     "iopub.execute_input": "2021-11-29T23:00:11.874239Z",
     "iopub.status.busy": "2021-11-29T23:00:11.871736Z",
     "iopub.status.idle": "2021-11-29T23:00:13.868181Z",
     "shell.execute_reply": "2021-11-29T23:00:13.869673Z"
    },
    "papermill": {
     "duration": 2.031511,
     "end_time": "2021-11-29T23:00:13.870130",
     "exception": false,
     "start_time": "2021-11-29T23:00:11.838619",
     "status": "completed"
    },
    "tags": []
   },
   "outputs": [
    {
     "data": {
      "text/plain": [
       "<AxesSubplot:ylabel='PRODUCT'>"
      ]
     },
     "execution_count": 7,
     "metadata": {},
     "output_type": "execute_result"
    },
    {
     "data": {
      "image/png": "[encoded data removed]",
      "text/plain": [
       "<Figure size 432x288 with 1 Axes>"
      ]
     },
     "metadata": {
      "needs_background": "light"
     },
     "output_type": "display_data"
    }
   ],
   "source": [
    "df_pivot_diff.sort_values(\"stamp_2\", ascending = False)[\"stamp_2\"].head(10).plot.barh()"
   ]
  },
  {
   "cell_type": "code",
   "execution_count": null,
   "id": "extra-executive",
   "metadata": {
    "papermill": {
     "duration": 0.022111,
     "end_time": "2021-11-29T23:00:13.916189",
     "exception": false,
     "start_time": "2021-11-29T23:00:13.894078",
     "status": "completed"
    },
    "tags": []
   },
   "outputs": [],
   "source": []
  }
 ],
 "metadata": {
  "kernelspec": {
   "display_name": "Python 3",
   "language": "python",
   "name": "python3"
  },
  "language_info": {
   "codemirror_mode": {
    "name": "ipython",
    "version": 3
   },
   "file_extension": ".py",
   "mimetype": "text/x-python",
   "name": "python",
   "nbconvert_exporter": "python",
   "pygments_lexer": "ipython3",
   "version": "3.9.5"
  },
  "papermill": {
   "default_parameters": {},
   "duration": 9.937969,
   "end_time": "2021-11-29T23:00:15.322386",
   "environment_variables": {},
   "exception": null,
   "input_path": "eBay_Overview.ipynb",
   "output_path": "eBay_Overview.ipynb",
   "parameters": {},
   "start_time": "2021-11-29T23:00:05.384417",
   "version": "2.3.3"
  }
 },
 "nbformat": 4,
 "nbformat_minor": 5
}