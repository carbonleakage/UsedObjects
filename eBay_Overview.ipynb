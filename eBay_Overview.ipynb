{
 "cells": [
  {
   "cell_type": "code",
   "execution_count": 1,
   "id": "reverse-picking",
   "metadata": {
    "execution": {
     "iopub.execute_input": "2021-11-27T12:00:07.922558Z",
     "iopub.status.busy": "2021-11-27T12:00:07.920137Z",
     "iopub.status.idle": "2021-11-27T12:00:08.882677Z",
     "shell.execute_reply": "2021-11-27T12:00:08.884077Z"
    },
    "papermill": {
     "duration": 1.011843,
     "end_time": "2021-11-27T12:00:08.884900",
     "exception": false,
     "start_time": "2021-11-27T12:00:07.873057",
     "status": "completed"
    },
    "tags": []
   },
   "outputs": [],
   "source": [
    "import pandas as pd\n",
    "import sqlite3"
   ]
  },
  {
   "cell_type": "code",
   "execution_count": 2,
   "id": "innovative-syndrome",
   "metadata": {
    "execution": {
     "iopub.execute_input": "2021-11-27T12:00:08.939908Z",
     "iopub.status.busy": "2021-11-27T12:00:08.937512Z",
     "iopub.status.idle": "2021-11-27T12:00:09.848143Z",
     "shell.execute_reply": "2021-11-27T12:00:09.849844Z"
    },
    "papermill": {
     "duration": 0.944692,
     "end_time": "2021-11-27T12:00:09.850346",
     "exception": false,
     "start_time": "2021-11-27T12:00:08.905654",
     "status": "completed"
    },
    "tags": []
   },
   "outputs": [],
   "source": [
    "timestamps = pd.read_sql(\"select distinct record_time from EBAY_TOP_BERLIN order by record_time desc limit 2\", sqlite3.connect(\"UsedObjects.db\"))"
   ]
  },
  {
   "cell_type": "code",
   "execution_count": 3,
   "id": "periodic-identification",
   "metadata": {
    "execution": {
     "iopub.execute_input": "2021-11-27T12:00:09.925227Z",
     "iopub.status.busy": "2021-11-27T12:00:09.922218Z",
     "iopub.status.idle": "2021-11-27T12:00:09.946751Z",
     "shell.execute_reply": "2021-11-27T12:00:09.949766Z"
    },
    "papermill": {
     "duration": 0.079666,
     "end_time": "2021-11-27T12:00:09.950418",
     "exception": false,
     "start_time": "2021-11-27T12:00:09.870752",
     "status": "completed"
    },
    "tags": []
   },
   "outputs": [
    {
     "data": {
      "text/html": [
       "<div>\n",
       "<style scoped>\n",
       "    .dataframe tbody tr th:only-of-type {\n",
       "        vertical-align: middle;\n",
       "    }\n",
       "\n",
       "    .dataframe tbody tr th {\n",
       "        vertical-align: top;\n",
       "    }\n",
       "\n",
       "    .dataframe thead th {\n",
       "        text-align: right;\n",
       "    }\n",
       "</style>\n",
       "<table border=\"1\" class=\"dataframe\">\n",
       "  <thead>\n",
       "    <tr style=\"text-align: right;\">\n",
       "      <th></th>\n",
       "      <th>RECORD_TIME</th>\n",
       "    </tr>\n",
       "  </thead>\n",
       "  <tbody>\n",
       "    <tr>\n",
       "      <th>0</th>\n",
       "      <td>2021-11-27 13:00</td>\n",
       "    </tr>\n",
       "    <tr>\n",
       "      <th>1</th>\n",
       "      <td>2021-11-27 12:30</td>\n",
       "    </tr>\n",
       "  </tbody>\n",
       "</table>\n",
       "</div>"
      ],
      "text/plain": [
       "        RECORD_TIME\n",
       "0  2021-11-27 13:00\n",
       "1  2021-11-27 12:30"
      ]
     },
     "execution_count": 3,
     "metadata": {},
     "output_type": "execute_result"
    }
   ],
   "source": [
    "timestamps"
   ]
  },
  {
   "cell_type": "code",
   "execution_count": 4,
   "id": "alternate-victory",
   "metadata": {
    "execution": {
     "iopub.execute_input": "2021-11-27T12:00:10.006968Z",
     "iopub.status.busy": "2021-11-27T12:00:10.004603Z",
     "iopub.status.idle": "2021-11-27T12:00:11.340493Z",
     "shell.execute_reply": "2021-11-27T12:00:11.342022Z"
    },
    "papermill": {
     "duration": 1.369601,
     "end_time": "2021-11-27T12:00:11.342480",
     "exception": false,
     "start_time": "2021-11-27T12:00:09.972879",
     "status": "completed"
    },
    "tags": []
   },
   "outputs": [],
   "source": [
    "df = pd.read_sql(\"select * from EBAY_TOP_BERLIN where record_time in (select distinct record_time from EBAY_TOP_BERLIN order by record_time desc limit 2)\", sqlite3.connect(\"UsedObjects.db\"))"
   ]
  },
  {
   "cell_type": "code",
   "execution_count": 5,
   "id": "popular-active",
   "metadata": {
    "execution": {
     "iopub.execute_input": "2021-11-27T12:00:11.422792Z",
     "iopub.status.busy": "2021-11-27T12:00:11.405653Z",
     "iopub.status.idle": "2021-11-27T12:00:11.440955Z",
     "shell.execute_reply": "2021-11-27T12:00:11.442621Z"
    },
    "papermill": {
     "duration": 0.079523,
     "end_time": "2021-11-27T12:00:11.443109",
     "exception": false,
     "start_time": "2021-11-27T12:00:11.363586",
     "status": "completed"
    },
    "tags": []
   },
   "outputs": [],
   "source": [
    "df_pivot = df.pivot_table(index=\"PRODUCT\", columns = \"RECORD_TIME\", values = \"LISTING_COUNT\")"
   ]
  },
  {
   "cell_type": "code",
   "execution_count": 6,
   "id": "union-huntington",
   "metadata": {
    "execution": {
     "iopub.execute_input": "2021-11-27T12:00:11.505478Z",
     "iopub.status.busy": "2021-11-27T12:00:11.503098Z",
     "iopub.status.idle": "2021-11-27T12:00:11.511123Z",
     "shell.execute_reply": "2021-11-27T12:00:11.509470Z"
    },
    "papermill": {
     "duration": 0.046833,
     "end_time": "2021-11-27T12:00:11.511572",
     "exception": false,
     "start_time": "2021-11-27T12:00:11.464739",
     "status": "completed"
    },
    "tags": []
   },
   "outputs": [],
   "source": [
    "df_pivot.columns = [\"stamp_1\", \"stamp_2\"]\n",
    "df_pivot_diff = df_pivot.diff(axis=1)"
   ]
  },
  {
   "cell_type": "code",
   "execution_count": 7,
   "id": "fifth-motion",
   "metadata": {
    "execution": {
     "iopub.execute_input": "2021-11-27T12:00:11.569322Z",
     "iopub.status.busy": "2021-11-27T12:00:11.566734Z",
     "iopub.status.idle": "2021-11-27T12:00:13.548988Z",
     "shell.execute_reply": "2021-11-27T12:00:13.551695Z"
    },
    "papermill": {
     "duration": 2.019352,
     "end_time": "2021-11-27T12:00:13.552591",
     "exception": false,
     "start_time": "2021-11-27T12:00:11.533239",
     "status": "completed"
    },
    "tags": []
   },
   "outputs": [
    {
     "data": {
      "text/plain": [
       "<AxesSubplot:ylabel='PRODUCT'>"
      ]
     },
     "execution_count": 7,
     "metadata": {},
     "output_type": "execute_result"
    },
    {
     "data": {
      "image/png": "[encoded data removed]",
      "text/plain": [
       "<Figure size 432x288 with 1 Axes>"
      ]
     },
     "metadata": {
      "needs_background": "light"
     },
     "output_type": "display_data"
    }
   ],
   "source": [
    "df_pivot_diff.sort_values(\"stamp_2\", ascending = False)[\"stamp_2\"].head(10).plot.barh()"
   ]
  },
  {
   "cell_type": "code",
   "execution_count": null,
   "id": "extra-executive",
   "metadata": {
    "papermill": {
     "duration": 0.03349,
     "end_time": "2021-11-27T12:00:13.623457",
     "exception": false,
     "start_time": "2021-11-27T12:00:13.589967",
     "status": "completed"
    },
    "tags": []
   },
   "outputs": [],
   "source": []
  }
 ],
 "metadata": {
  "kernelspec": {
   "display_name": "Python 3",
   "language": "python",
   "name": "python3"
  },
  "language_info": {
   "codemirror_mode": {
    "name": "ipython",
    "version": 3
   },
   "file_extension": ".py",
   "mimetype": "text/x-python",
   "name": "python",
   "nbconvert_exporter": "python",
   "pygments_lexer": "ipython3",
   "version": "3.9.5"
  },
  "papermill": {
   "default_parameters": {},
   "duration": 9.949403,
   "end_time": "2021-11-27T12:00:15.072296",
   "environment_variables": {},
   "exception": null,
   "input_path": "eBay_Overview.ipynb",
   "output_path": "eBay_Overview.ipynb",
   "parameters": {},
   "start_time": "2021-11-27T12:00:05.122893",
   "version": "2.3.3"
  }
 },
 "nbformat": 4,
 "nbformat_minor": 5
}