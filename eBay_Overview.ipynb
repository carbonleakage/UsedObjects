{
 "cells": [
  {
   "cell_type": "code",
   "execution_count": 1,
   "id": "reverse-picking",
   "metadata": {
    "execution": {
     "iopub.execute_input": "2021-08-20T02:00:06.523564Z",
     "iopub.status.busy": "2021-08-20T02:00:06.521524Z",
     "iopub.status.idle": "2021-08-20T02:00:07.324525Z",
     "shell.execute_reply": "2021-08-20T02:00:07.325849Z"
    },
    "papermill": {
     "duration": 0.856144,
     "end_time": "2021-08-20T02:00:07.326564",
     "exception": false,
     "start_time": "2021-08-20T02:00:06.470420",
     "status": "completed"
    },
    "tags": []
   },
   "outputs": [],
   "source": [
    "import pandas as pd\n",
    "import sqlite3"
   ]
  },
  {
   "cell_type": "code",
   "execution_count": 2,
   "id": "innovative-syndrome",
   "metadata": {
    "execution": {
     "iopub.execute_input": "2021-08-20T02:00:07.377557Z",
     "iopub.status.busy": "2021-08-20T02:00:07.375514Z",
     "iopub.status.idle": "2021-08-20T02:00:07.461835Z",
     "shell.execute_reply": "2021-08-20T02:00:07.463122Z"
    },
    "papermill": {
     "duration": 0.11673,
     "end_time": "2021-08-20T02:00:07.463529",
     "exception": false,
     "start_time": "2021-08-20T02:00:07.346799",
     "status": "completed"
    },
    "tags": []
   },
   "outputs": [],
   "source": [
    "timestamps = pd.read_sql(\"select distinct record_time from EBAY_TOP_BERLIN order by record_time desc limit 2\", sqlite3.connect(\"UsedObjects.db\"))"
   ]
  },
  {
   "cell_type": "code",
   "execution_count": 3,
   "id": "periodic-identification",
   "metadata": {
    "execution": {
     "iopub.execute_input": "2021-08-20T02:00:07.528033Z",
     "iopub.status.busy": "2021-08-20T02:00:07.525990Z",
     "iopub.status.idle": "2021-08-20T02:00:07.547831Z",
     "shell.execute_reply": "2021-08-20T02:00:07.549046Z"
    },
    "papermill": {
     "duration": 0.066228,
     "end_time": "2021-08-20T02:00:07.549440",
     "exception": false,
     "start_time": "2021-08-20T02:00:07.483212",
     "status": "completed"
    },
    "tags": []
   },
   "outputs": [
    {
     "data": {
      "text/html": [
       "<div>\n",
       "<style scoped>\n",
       "    .dataframe tbody tr th:only-of-type {\n",
       "        vertical-align: middle;\n",
       "    }\n",
       "\n",
       "    .dataframe tbody tr th {\n",
       "        vertical-align: top;\n",
       "    }\n",
       "\n",
       "    .dataframe thead th {\n",
       "        text-align: right;\n",
       "    }\n",
       "</style>\n",
       "<table border=\"1\" class=\"dataframe\">\n",
       "  <thead>\n",
       "    <tr style=\"text-align: right;\">\n",
       "      <th></th>\n",
       "      <th>RECORD_TIME</th>\n",
       "    </tr>\n",
       "  </thead>\n",
       "  <tbody>\n",
       "    <tr>\n",
       "      <th>0</th>\n",
       "      <td>2021-08-20 04:00</td>\n",
       "    </tr>\n",
       "    <tr>\n",
       "      <th>1</th>\n",
       "      <td>2021-08-20 03:30</td>\n",
       "    </tr>\n",
       "  </tbody>\n",
       "</table>\n",
       "</div>"
      ],
      "text/plain": [
       "        RECORD_TIME\n",
       "0  2021-08-20 04:00\n",
       "1  2021-08-20 03:30"
      ]
     },
     "execution_count": 3,
     "metadata": {},
     "output_type": "execute_result"
    }
   ],
   "source": [
    "timestamps"
   ]
  },
  {
   "cell_type": "code",
   "execution_count": 4,
   "id": "alternate-victory",
   "metadata": {
    "execution": {
     "iopub.execute_input": "2021-08-20T02:00:07.602512Z",
     "iopub.status.busy": "2021-08-20T02:00:07.600167Z",
     "iopub.status.idle": "2021-08-20T02:00:07.731283Z",
     "shell.execute_reply": "2021-08-20T02:00:07.729128Z"
    },
    "papermill": {
     "duration": 0.16048,
     "end_time": "2021-08-20T02:00:07.731756",
     "exception": false,
     "start_time": "2021-08-20T02:00:07.571276",
     "status": "completed"
    },
    "tags": []
   },
   "outputs": [],
   "source": [
    "df = pd.read_sql(\"select * from EBAY_TOP_BERLIN where record_time in (select distinct record_time from EBAY_TOP_BERLIN order by record_time desc limit 2)\", sqlite3.connect(\"UsedObjects.db\"))"
   ]
  },
  {
   "cell_type": "code",
   "execution_count": 5,
   "id": "popular-active",
   "metadata": {
    "execution": {
     "iopub.execute_input": "2021-08-20T02:00:07.803119Z",
     "iopub.status.busy": "2021-08-20T02:00:07.791890Z",
     "iopub.status.idle": "2021-08-20T02:00:07.818603Z",
     "shell.execute_reply": "2021-08-20T02:00:07.819826Z"
    },
    "papermill": {
     "duration": 0.068283,
     "end_time": "2021-08-20T02:00:07.820227",
     "exception": false,
     "start_time": "2021-08-20T02:00:07.751944",
     "status": "completed"
    },
    "tags": []
   },
   "outputs": [],
   "source": [
    "df_pivot = df.pivot_table(index=\"PRODUCT\", columns = \"RECORD_TIME\", values = \"LISTING_COUNT\")"
   ]
  },
  {
   "cell_type": "code",
   "execution_count": 6,
   "id": "union-huntington",
   "metadata": {
    "execution": {
     "iopub.execute_input": "2021-08-20T02:00:07.880610Z",
     "iopub.status.busy": "2021-08-20T02:00:07.878147Z",
     "iopub.status.idle": "2021-08-20T02:00:07.886471Z",
     "shell.execute_reply": "2021-08-20T02:00:07.884671Z"
    },
    "papermill": {
     "duration": 0.04348,
     "end_time": "2021-08-20T02:00:07.886889",
     "exception": false,
     "start_time": "2021-08-20T02:00:07.843409",
     "status": "completed"
    },
    "tags": []
   },
   "outputs": [],
   "source": [
    "df_pivot.columns = [\"stamp_1\", \"stamp_2\"]\n",
    "df_pivot_diff = df_pivot.diff(axis=1)"
   ]
  },
  {
   "cell_type": "code",
   "execution_count": 7,
   "id": "fifth-motion",
   "metadata": {
    "execution": {
     "iopub.execute_input": "2021-08-20T02:00:07.941699Z",
     "iopub.status.busy": "2021-08-20T02:00:07.939344Z",
     "iopub.status.idle": "2021-08-20T02:00:09.423468Z",
     "shell.execute_reply": "2021-08-20T02:00:09.424888Z"
    },
    "papermill": {
     "duration": 1.517096,
     "end_time": "2021-08-20T02:00:09.425332",
     "exception": false,
     "start_time": "2021-08-20T02:00:07.908236",
     "status": "completed"
    },
    "tags": []
   },
   "outputs": [
    {
     "data": {
      "text/plain": [
       "<AxesSubplot:ylabel='PRODUCT'>"
      ]
     },
     "execution_count": 7,
     "metadata": {},
     "output_type": "execute_result"
    },
    {
     "data": {
      "image/png": "[encoded data removed]",
      "text/plain": [
       "<Figure size 432x288 with 1 Axes>"
      ]
     },
     "metadata": {
      "needs_background": "light"
     },
     "output_type": "display_data"
    }
   ],
   "source": [
    "df_pivot_diff.sort_values(\"stamp_2\", ascending = False)[\"stamp_2\"].head(10).plot.barh()"
   ]
  },
  {
   "cell_type": "code",
   "execution_count": null,
   "id": "extra-executive",
   "metadata": {
    "papermill": {
     "duration": 0.022371,
     "end_time": "2021-08-20T02:00:09.471767",
     "exception": false,
     "start_time": "2021-08-20T02:00:09.449396",
     "status": "completed"
    },
    "tags": []
   },
   "outputs": [],
   "source": []
  }
 ],
 "metadata": {
  "kernelspec": {
   "display_name": "Python 3",
   "language": "python",
   "name": "python3"
  },
  "language_info": {
   "codemirror_mode": {
    "name": "ipython",
    "version": 3
   },
   "file_extension": ".py",
   "mimetype": "text/x-python",
   "name": "python",
   "nbconvert_exporter": "python",
   "pygments_lexer": "ipython3",
   "version": "3.9.5"
  },
  "papermill": {
   "default_parameters": {},
   "duration": 6.819253,
   "end_time": "2021-08-20T02:00:10.886407",
   "environment_variables": {},
   "exception": null,
   "input_path": "eBay_Overview.ipynb",
   "output_path": "eBay_Overview.ipynb",
   "parameters": {},
   "start_time": "2021-08-20T02:00:04.067154",
   "version": "2.3.3"
  }
 },
 "nbformat": 4,
 "nbformat_minor": 5
}