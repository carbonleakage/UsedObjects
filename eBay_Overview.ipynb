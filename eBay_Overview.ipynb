{
 "cells": [
  {
   "cell_type": "code",
   "execution_count": 1,
   "id": "reverse-picking",
   "metadata": {
    "execution": {
     "iopub.execute_input": "2021-11-19T08:00:07.489981Z",
     "iopub.status.busy": "2021-11-19T08:00:07.487697Z",
     "iopub.status.idle": "2021-11-19T08:00:08.436138Z",
     "shell.execute_reply": "2021-11-19T08:00:08.437897Z"
    },
    "papermill": {
     "duration": 0.997636,
     "end_time": "2021-11-19T08:00:08.438646",
     "exception": false,
     "start_time": "2021-11-19T08:00:07.441010",
     "status": "completed"
    },
    "tags": []
   },
   "outputs": [],
   "source": [
    "import pandas as pd\n",
    "import sqlite3"
   ]
  },
  {
   "cell_type": "code",
   "execution_count": 2,
   "id": "innovative-syndrome",
   "metadata": {
    "execution": {
     "iopub.execute_input": "2021-11-19T08:00:08.500063Z",
     "iopub.status.busy": "2021-11-19T08:00:08.497847Z",
     "iopub.status.idle": "2021-11-19T08:00:09.367644Z",
     "shell.execute_reply": "2021-11-19T08:00:09.369236Z"
    },
    "papermill": {
     "duration": 0.90987,
     "end_time": "2021-11-19T08:00:09.369751",
     "exception": false,
     "start_time": "2021-11-19T08:00:08.459881",
     "status": "completed"
    },
    "tags": []
   },
   "outputs": [],
   "source": [
    "timestamps = pd.read_sql(\"select distinct record_time from EBAY_TOP_BERLIN order by record_time desc limit 2\", sqlite3.connect(\"UsedObjects.db\"))"
   ]
  },
  {
   "cell_type": "code",
   "execution_count": 3,
   "id": "periodic-identification",
   "metadata": {
    "execution": {
     "iopub.execute_input": "2021-11-19T08:00:09.441706Z",
     "iopub.status.busy": "2021-11-19T08:00:09.439282Z",
     "iopub.status.idle": "2021-11-19T08:00:09.469409Z",
     "shell.execute_reply": "2021-11-19T08:00:09.472013Z"
    },
    "papermill": {
     "duration": 0.082481,
     "end_time": "2021-11-19T08:00:09.472954",
     "exception": false,
     "start_time": "2021-11-19T08:00:09.390473",
     "status": "completed"
    },
    "tags": []
   },
   "outputs": [
    {
     "data": {
      "text/html": [
       "<div>\n",
       "<style scoped>\n",
       "    .dataframe tbody tr th:only-of-type {\n",
       "        vertical-align: middle;\n",
       "    }\n",
       "\n",
       "    .dataframe tbody tr th {\n",
       "        vertical-align: top;\n",
       "    }\n",
       "\n",
       "    .dataframe thead th {\n",
       "        text-align: right;\n",
       "    }\n",
       "</style>\n",
       "<table border=\"1\" class=\"dataframe\">\n",
       "  <thead>\n",
       "    <tr style=\"text-align: right;\">\n",
       "      <th></th>\n",
       "      <th>RECORD_TIME</th>\n",
       "    </tr>\n",
       "  </thead>\n",
       "  <tbody>\n",
       "    <tr>\n",
       "      <th>0</th>\n",
       "      <td>2021-11-19 09:00</td>\n",
       "    </tr>\n",
       "    <tr>\n",
       "      <th>1</th>\n",
       "      <td>2021-11-19 08:30</td>\n",
       "    </tr>\n",
       "  </tbody>\n",
       "</table>\n",
       "</div>"
      ],
      "text/plain": [
       "        RECORD_TIME\n",
       "0  2021-11-19 09:00\n",
       "1  2021-11-19 08:30"
      ]
     },
     "execution_count": 3,
     "metadata": {},
     "output_type": "execute_result"
    }
   ],
   "source": [
    "timestamps"
   ]
  },
  {
   "cell_type": "code",
   "execution_count": 4,
   "id": "alternate-victory",
   "metadata": {
    "execution": {
     "iopub.execute_input": "2021-11-19T08:00:09.537921Z",
     "iopub.status.busy": "2021-11-19T08:00:09.535651Z",
     "iopub.status.idle": "2021-11-19T08:00:10.809134Z",
     "shell.execute_reply": "2021-11-19T08:00:10.811236Z"
    },
    "papermill": {
     "duration": 1.308032,
     "end_time": "2021-11-19T08:00:10.811721",
     "exception": false,
     "start_time": "2021-11-19T08:00:09.503689",
     "status": "completed"
    },
    "tags": []
   },
   "outputs": [],
   "source": [
    "df = pd.read_sql(\"select * from EBAY_TOP_BERLIN where record_time in (select distinct record_time from EBAY_TOP_BERLIN order by record_time desc limit 2)\", sqlite3.connect(\"UsedObjects.db\"))"
   ]
  },
  {
   "cell_type": "code",
   "execution_count": 5,
   "id": "popular-active",
   "metadata": {
    "execution": {
     "iopub.execute_input": "2021-11-19T08:00:10.890479Z",
     "iopub.status.busy": "2021-11-19T08:00:10.877218Z",
     "iopub.status.idle": "2021-11-19T08:00:10.911391Z",
     "shell.execute_reply": "2021-11-19T08:00:10.909743Z"
    },
    "papermill": {
     "duration": 0.078062,
     "end_time": "2021-11-19T08:00:10.911826",
     "exception": false,
     "start_time": "2021-11-19T08:00:10.833764",
     "status": "completed"
    },
    "tags": []
   },
   "outputs": [],
   "source": [
    "df_pivot = df.pivot_table(index=\"PRODUCT\", columns = \"RECORD_TIME\", values = \"LISTING_COUNT\")"
   ]
  },
  {
   "cell_type": "code",
   "execution_count": 6,
   "id": "union-huntington",
   "metadata": {
    "execution": {
     "iopub.execute_input": "2021-11-19T08:00:10.973121Z",
     "iopub.status.busy": "2021-11-19T08:00:10.970853Z",
     "iopub.status.idle": "2021-11-19T08:00:10.977140Z",
     "shell.execute_reply": "2021-11-19T08:00:10.978763Z"
    },
    "papermill": {
     "duration": 0.045154,
     "end_time": "2021-11-19T08:00:10.979279",
     "exception": false,
     "start_time": "2021-11-19T08:00:10.934125",
     "status": "completed"
    },
    "tags": []
   },
   "outputs": [],
   "source": [
    "df_pivot.columns = [\"stamp_1\", \"stamp_2\"]\n",
    "df_pivot_diff = df_pivot.diff(axis=1)"
   ]
  },
  {
   "cell_type": "code",
   "execution_count": 7,
   "id": "fifth-motion",
   "metadata": {
    "execution": {
     "iopub.execute_input": "2021-11-19T08:00:11.040029Z",
     "iopub.status.busy": "2021-11-19T08:00:11.037615Z",
     "iopub.status.idle": "2021-11-19T08:00:12.792194Z",
     "shell.execute_reply": "2021-11-19T08:00:12.796142Z"
    },
    "papermill": {
     "duration": 1.796142,
     "end_time": "2021-11-19T08:00:12.796667",
     "exception": false,
     "start_time": "2021-11-19T08:00:11.000525",
     "status": "completed"
    },
    "tags": []
   },
   "outputs": [
    {
     "data": {
      "text/plain": [
       "<AxesSubplot:ylabel='PRODUCT'>"
      ]
     },
     "execution_count": 7,
     "metadata": {},
     "output_type": "execute_result"
    },
    {
     "data": {
      "image/png": "[encoded data removed]",
      "text/plain": [
       "<Figure size 432x288 with 1 Axes>"
      ]
     },
     "metadata": {
      "needs_background": "light"
     },
     "output_type": "display_data"
    }
   ],
   "source": [
    "df_pivot_diff.sort_values(\"stamp_2\", ascending = False)[\"stamp_2\"].head(10).plot.barh()"
   ]
  },
  {
   "cell_type": "code",
   "execution_count": null,
   "id": "extra-executive",
   "metadata": {
    "papermill": {
     "duration": 0.024555,
     "end_time": "2021-11-19T08:00:12.846958",
     "exception": false,
     "start_time": "2021-11-19T08:00:12.822403",
     "status": "completed"
    },
    "tags": []
   },
   "outputs": [],
   "source": []
  }
 ],
 "metadata": {
  "kernelspec": {
   "display_name": "Python 3",
   "language": "python",
   "name": "python3"
  },
  "language_info": {
   "codemirror_mode": {
    "name": "ipython",
    "version": 3
   },
   "file_extension": ".py",
   "mimetype": "text/x-python",
   "name": "python",
   "nbconvert_exporter": "python",
   "pygments_lexer": "ipython3",
   "version": "3.9.5"
  },
  "papermill": {
   "default_parameters": {},
   "duration": 10.015713,
   "end_time": "2021-11-19T08:00:14.647033",
   "environment_variables": {},
   "exception": null,
   "input_path": "eBay_Overview.ipynb",
   "output_path": "eBay_Overview.ipynb",
   "parameters": {},
   "start_time": "2021-11-19T08:00:04.631320",
   "version": "2.3.3"
  }
 },
 "nbformat": 4,
 "nbformat_minor": 5
}