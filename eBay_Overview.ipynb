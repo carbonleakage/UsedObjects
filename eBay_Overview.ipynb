{
 "cells": [
  {
   "cell_type": "code",
   "execution_count": 1,
   "id": "reverse-picking",
   "metadata": {
    "execution": {
     "iopub.execute_input": "2021-10-18T20:30:07.441767Z",
     "iopub.status.busy": "2021-10-18T20:30:07.439618Z",
     "iopub.status.idle": "2021-10-18T20:30:08.243567Z",
     "shell.execute_reply": "2021-10-18T20:30:08.244919Z"
    },
    "papermill": {
     "duration": 0.854818,
     "end_time": "2021-10-18T20:30:08.245560",
     "exception": false,
     "start_time": "2021-10-18T20:30:07.390742",
     "status": "completed"
    },
    "tags": []
   },
   "outputs": [],
   "source": [
    "import pandas as pd\n",
    "import sqlite3"
   ]
  },
  {
   "cell_type": "code",
   "execution_count": 2,
   "id": "innovative-syndrome",
   "metadata": {
    "execution": {
     "iopub.execute_input": "2021-10-18T20:30:08.300881Z",
     "iopub.status.busy": "2021-10-18T20:30:08.298516Z",
     "iopub.status.idle": "2021-10-18T20:30:08.863311Z",
     "shell.execute_reply": "2021-10-18T20:30:08.864604Z"
    },
    "papermill": {
     "duration": 0.596027,
     "end_time": "2021-10-18T20:30:08.865100",
     "exception": false,
     "start_time": "2021-10-18T20:30:08.269073",
     "status": "completed"
    },
    "tags": []
   },
   "outputs": [],
   "source": [
    "timestamps = pd.read_sql(\"select distinct record_time from EBAY_TOP_BERLIN order by record_time desc limit 2\", sqlite3.connect(\"UsedObjects.db\"))"
   ]
  },
  {
   "cell_type": "code",
   "execution_count": 3,
   "id": "periodic-identification",
   "metadata": {
    "execution": {
     "iopub.execute_input": "2021-10-18T20:30:08.941586Z",
     "iopub.status.busy": "2021-10-18T20:30:08.939378Z",
     "iopub.status.idle": "2021-10-18T20:30:08.959530Z",
     "shell.execute_reply": "2021-10-18T20:30:08.960897Z"
    },
    "papermill": {
     "duration": 0.070972,
     "end_time": "2021-10-18T20:30:08.961313",
     "exception": false,
     "start_time": "2021-10-18T20:30:08.890341",
     "status": "completed"
    },
    "tags": []
   },
   "outputs": [
    {
     "data": {
      "text/html": [
       "<div>\n",
       "<style scoped>\n",
       "    .dataframe tbody tr th:only-of-type {\n",
       "        vertical-align: middle;\n",
       "    }\n",
       "\n",
       "    .dataframe tbody tr th {\n",
       "        vertical-align: top;\n",
       "    }\n",
       "\n",
       "    .dataframe thead th {\n",
       "        text-align: right;\n",
       "    }\n",
       "</style>\n",
       "<table border=\"1\" class=\"dataframe\">\n",
       "  <thead>\n",
       "    <tr style=\"text-align: right;\">\n",
       "      <th></th>\n",
       "      <th>RECORD_TIME</th>\n",
       "    </tr>\n",
       "  </thead>\n",
       "  <tbody>\n",
       "    <tr>\n",
       "      <th>0</th>\n",
       "      <td>2021-10-18 22:30</td>\n",
       "    </tr>\n",
       "    <tr>\n",
       "      <th>1</th>\n",
       "      <td>2021-10-18 22:00</td>\n",
       "    </tr>\n",
       "  </tbody>\n",
       "</table>\n",
       "</div>"
      ],
      "text/plain": [
       "        RECORD_TIME\n",
       "0  2021-10-18 22:30\n",
       "1  2021-10-18 22:00"
      ]
     },
     "execution_count": 3,
     "metadata": {},
     "output_type": "execute_result"
    }
   ],
   "source": [
    "timestamps"
   ]
  },
  {
   "cell_type": "code",
   "execution_count": 4,
   "id": "alternate-victory",
   "metadata": {
    "execution": {
     "iopub.execute_input": "2021-10-18T20:30:09.013463Z",
     "iopub.status.busy": "2021-10-18T20:30:09.011488Z",
     "iopub.status.idle": "2021-10-18T20:30:09.839942Z",
     "shell.execute_reply": "2021-10-18T20:30:09.842018Z"
    },
    "papermill": {
     "duration": 0.859549,
     "end_time": "2021-10-18T20:30:09.842563",
     "exception": false,
     "start_time": "2021-10-18T20:30:08.983014",
     "status": "completed"
    },
    "tags": []
   },
   "outputs": [],
   "source": [
    "df = pd.read_sql(\"select * from EBAY_TOP_BERLIN where record_time in (select distinct record_time from EBAY_TOP_BERLIN order by record_time desc limit 2)\", sqlite3.connect(\"UsedObjects.db\"))"
   ]
  },
  {
   "cell_type": "code",
   "execution_count": 5,
   "id": "popular-active",
   "metadata": {
    "execution": {
     "iopub.execute_input": "2021-10-18T20:30:09.913974Z",
     "iopub.status.busy": "2021-10-18T20:30:09.902076Z",
     "iopub.status.idle": "2021-10-18T20:30:09.930276Z",
     "shell.execute_reply": "2021-10-18T20:30:09.931655Z"
    },
    "papermill": {
     "duration": 0.068863,
     "end_time": "2021-10-18T20:30:09.932084",
     "exception": false,
     "start_time": "2021-10-18T20:30:09.863221",
     "status": "completed"
    },
    "tags": []
   },
   "outputs": [],
   "source": [
    "df_pivot = df.pivot_table(index=\"PRODUCT\", columns = \"RECORD_TIME\", values = \"LISTING_COUNT\")"
   ]
  },
  {
   "cell_type": "code",
   "execution_count": 6,
   "id": "union-huntington",
   "metadata": {
    "execution": {
     "iopub.execute_input": "2021-10-18T20:30:09.992545Z",
     "iopub.status.busy": "2021-10-18T20:30:09.990082Z",
     "iopub.status.idle": "2021-10-18T20:30:09.996048Z",
     "shell.execute_reply": "2021-10-18T20:30:09.997389Z"
    },
    "papermill": {
     "duration": 0.042791,
     "end_time": "2021-10-18T20:30:09.997843",
     "exception": false,
     "start_time": "2021-10-18T20:30:09.955052",
     "status": "completed"
    },
    "tags": []
   },
   "outputs": [],
   "source": [
    "df_pivot.columns = [\"stamp_1\", \"stamp_2\"]\n",
    "df_pivot_diff = df_pivot.diff(axis=1)"
   ]
  },
  {
   "cell_type": "code",
   "execution_count": 7,
   "id": "fifth-motion",
   "metadata": {
    "execution": {
     "iopub.execute_input": "2021-10-18T20:30:10.053236Z",
     "iopub.status.busy": "2021-10-18T20:30:10.050782Z",
     "iopub.status.idle": "2021-10-18T20:30:11.541962Z",
     "shell.execute_reply": "2021-10-18T20:30:11.543268Z"
    },
    "papermill": {
     "duration": 1.524046,
     "end_time": "2021-10-18T20:30:11.543680",
     "exception": false,
     "start_time": "2021-10-18T20:30:10.019634",
     "status": "completed"
    },
    "tags": []
   },
   "outputs": [
    {
     "data": {
      "text/plain": [
       "<AxesSubplot:ylabel='PRODUCT'>"
      ]
     },
     "execution_count": 7,
     "metadata": {},
     "output_type": "execute_result"
    },
    {
     "data": {
      "image/png": "[encoded data removed]",
      "text/plain": [
       "<Figure size 432x288 with 1 Axes>"
      ]
     },
     "metadata": {
      "needs_background": "light"
     },
     "output_type": "display_data"
    }
   ],
   "source": [
    "df_pivot_diff.sort_values(\"stamp_2\", ascending = False)[\"stamp_2\"].head(10).plot.barh()"
   ]
  },
  {
   "cell_type": "code",
   "execution_count": null,
   "id": "extra-executive",
   "metadata": {
    "papermill": {
     "duration": 0.022578,
     "end_time": "2021-10-18T20:30:11.590658",
     "exception": false,
     "start_time": "2021-10-18T20:30:11.568080",
     "status": "completed"
    },
    "tags": []
   },
   "outputs": [],
   "source": []
  }
 ],
 "metadata": {
  "kernelspec": {
   "display_name": "Python 3",
   "language": "python",
   "name": "python3"
  },
  "language_info": {
   "codemirror_mode": {
    "name": "ipython",
    "version": 3
   },
   "file_extension": ".py",
   "mimetype": "text/x-python",
   "name": "python",
   "nbconvert_exporter": "python",
   "pygments_lexer": "ipython3",
   "version": "3.9.5"
  },
  "papermill": {
   "default_parameters": {},
   "duration": 7.816935,
   "end_time": "2021-10-18T20:30:12.811524",
   "environment_variables": {},
   "exception": null,
   "input_path": "eBay_Overview.ipynb",
   "output_path": "eBay_Overview.ipynb",
   "parameters": {},
   "start_time": "2021-10-18T20:30:04.994589",
   "version": "2.3.3"
  }
 },
 "nbformat": 4,
 "nbformat_minor": 5
}