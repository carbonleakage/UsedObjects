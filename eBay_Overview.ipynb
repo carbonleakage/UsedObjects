{
 "cells": [
  {
   "cell_type": "code",
   "execution_count": 1,
   "id": "reverse-picking",
   "metadata": {
    "execution": {
     "iopub.execute_input": "2021-08-17T18:30:07.284615Z",
     "iopub.status.busy": "2021-08-17T18:30:07.282589Z",
     "iopub.status.idle": "2021-08-17T18:30:08.087376Z",
     "shell.execute_reply": "2021-08-17T18:30:08.088642Z"
    },
    "papermill": {
     "duration": 0.85898,
     "end_time": "2021-08-17T18:30:08.089265",
     "exception": false,
     "start_time": "2021-08-17T18:30:07.230285",
     "status": "completed"
    },
    "tags": []
   },
   "outputs": [],
   "source": [
    "import pandas as pd\n",
    "import sqlite3"
   ]
  },
  {
   "cell_type": "code",
   "execution_count": 2,
   "id": "innovative-syndrome",
   "metadata": {
    "execution": {
     "iopub.execute_input": "2021-08-17T18:30:08.140905Z",
     "iopub.status.busy": "2021-08-17T18:30:08.139002Z",
     "iopub.status.idle": "2021-08-17T18:30:08.208426Z",
     "shell.execute_reply": "2021-08-17T18:30:08.209662Z"
    },
    "papermill": {
     "duration": 0.099016,
     "end_time": "2021-08-17T18:30:08.210136",
     "exception": false,
     "start_time": "2021-08-17T18:30:08.111120",
     "status": "completed"
    },
    "tags": []
   },
   "outputs": [],
   "source": [
    "timestamps = pd.read_sql(\"select distinct record_time from EBAY_TOP_BERLIN order by record_time desc limit 2\", sqlite3.connect(\"UsedObjects.db\"))"
   ]
  },
  {
   "cell_type": "code",
   "execution_count": 3,
   "id": "periodic-identification",
   "metadata": {
    "execution": {
     "iopub.execute_input": "2021-08-17T18:30:08.273990Z",
     "iopub.status.busy": "2021-08-17T18:30:08.271902Z",
     "iopub.status.idle": "2021-08-17T18:30:08.291950Z",
     "shell.execute_reply": "2021-08-17T18:30:08.293268Z"
    },
    "papermill": {
     "duration": 0.063842,
     "end_time": "2021-08-17T18:30:08.293692",
     "exception": false,
     "start_time": "2021-08-17T18:30:08.229850",
     "status": "completed"
    },
    "tags": []
   },
   "outputs": [
    {
     "data": {
      "text/html": [
       "<div>\n",
       "<style scoped>\n",
       "    .dataframe tbody tr th:only-of-type {\n",
       "        vertical-align: middle;\n",
       "    }\n",
       "\n",
       "    .dataframe tbody tr th {\n",
       "        vertical-align: top;\n",
       "    }\n",
       "\n",
       "    .dataframe thead th {\n",
       "        text-align: right;\n",
       "    }\n",
       "</style>\n",
       "<table border=\"1\" class=\"dataframe\">\n",
       "  <thead>\n",
       "    <tr style=\"text-align: right;\">\n",
       "      <th></th>\n",
       "      <th>RECORD_TIME</th>\n",
       "    </tr>\n",
       "  </thead>\n",
       "  <tbody>\n",
       "    <tr>\n",
       "      <th>0</th>\n",
       "      <td>2021-08-17 20:30</td>\n",
       "    </tr>\n",
       "    <tr>\n",
       "      <th>1</th>\n",
       "      <td>2021-08-17 20:00</td>\n",
       "    </tr>\n",
       "  </tbody>\n",
       "</table>\n",
       "</div>"
      ],
      "text/plain": [
       "        RECORD_TIME\n",
       "0  2021-08-17 20:30\n",
       "1  2021-08-17 20:00"
      ]
     },
     "execution_count": 3,
     "metadata": {},
     "output_type": "execute_result"
    }
   ],
   "source": [
    "timestamps"
   ]
  },
  {
   "cell_type": "code",
   "execution_count": 4,
   "id": "alternate-victory",
   "metadata": {
    "execution": {
     "iopub.execute_input": "2021-08-17T18:30:08.346651Z",
     "iopub.status.busy": "2021-08-17T18:30:08.344285Z",
     "iopub.status.idle": "2021-08-17T18:30:08.453527Z",
     "shell.execute_reply": "2021-08-17T18:30:08.454806Z"
    },
    "papermill": {
     "duration": 0.140017,
     "end_time": "2021-08-17T18:30:08.455252",
     "exception": false,
     "start_time": "2021-08-17T18:30:08.315235",
     "status": "completed"
    },
    "tags": []
   },
   "outputs": [],
   "source": [
    "df = pd.read_sql(\"select * from EBAY_TOP_BERLIN where record_time in (select distinct record_time from EBAY_TOP_BERLIN order by record_time desc limit 2)\", sqlite3.connect(\"UsedObjects.db\"))"
   ]
  },
  {
   "cell_type": "code",
   "execution_count": 5,
   "id": "popular-active",
   "metadata": {
    "execution": {
     "iopub.execute_input": "2021-08-17T18:30:08.525013Z",
     "iopub.status.busy": "2021-08-17T18:30:08.513020Z",
     "iopub.status.idle": "2021-08-17T18:30:08.542872Z",
     "shell.execute_reply": "2021-08-17T18:30:08.544280Z"
    },
    "papermill": {
     "duration": 0.068586,
     "end_time": "2021-08-17T18:30:08.544724",
     "exception": false,
     "start_time": "2021-08-17T18:30:08.476138",
     "status": "completed"
    },
    "tags": []
   },
   "outputs": [],
   "source": [
    "df_pivot = df.pivot_table(index=\"PRODUCT\", columns = \"RECORD_TIME\", values = \"LISTING_COUNT\")"
   ]
  },
  {
   "cell_type": "code",
   "execution_count": 6,
   "id": "union-huntington",
   "metadata": {
    "execution": {
     "iopub.execute_input": "2021-08-17T18:30:08.601232Z",
     "iopub.status.busy": "2021-08-17T18:30:08.599016Z",
     "iopub.status.idle": "2021-08-17T18:30:08.604473Z",
     "shell.execute_reply": "2021-08-17T18:30:08.605776Z"
    },
    "papermill": {
     "duration": 0.041035,
     "end_time": "2021-08-17T18:30:08.606263",
     "exception": false,
     "start_time": "2021-08-17T18:30:08.565228",
     "status": "completed"
    },
    "tags": []
   },
   "outputs": [],
   "source": [
    "df_pivot.columns = [\"stamp_1\", \"stamp_2\"]\n",
    "df_pivot_diff = df_pivot.diff(axis=1)"
   ]
  },
  {
   "cell_type": "code",
   "execution_count": 7,
   "id": "fifth-motion",
   "metadata": {
    "execution": {
     "iopub.execute_input": "2021-08-17T18:30:08.661795Z",
     "iopub.status.busy": "2021-08-17T18:30:08.659396Z",
     "iopub.status.idle": "2021-08-17T18:30:10.148065Z",
     "shell.execute_reply": "2021-08-17T18:30:10.149258Z"
    },
    "papermill": {
     "duration": 1.521807,
     "end_time": "2021-08-17T18:30:10.149693",
     "exception": false,
     "start_time": "2021-08-17T18:30:08.627886",
     "status": "completed"
    },
    "tags": []
   },
   "outputs": [
    {
     "data": {
      "text/plain": [
       "<AxesSubplot:ylabel='PRODUCT'>"
      ]
     },
     "execution_count": 7,
     "metadata": {},
     "output_type": "execute_result"
    },
    {
     "data": {
      "image/png": "[encoded data removed]",
      "text/plain": [
       "<Figure size 432x288 with 1 Axes>"
      ]
     },
     "metadata": {
      "needs_background": "light"
     },
     "output_type": "display_data"
    }
   ],
   "source": [
    "df_pivot_diff.sort_values(\"stamp_2\", ascending = False)[\"stamp_2\"].head(10).plot.barh()"
   ]
  },
  {
   "cell_type": "code",
   "execution_count": null,
   "id": "extra-executive",
   "metadata": {
    "papermill": {
     "duration": 0.02258,
     "end_time": "2021-08-17T18:30:10.196410",
     "exception": false,
     "start_time": "2021-08-17T18:30:10.173830",
     "status": "completed"
    },
    "tags": []
   },
   "outputs": [],
   "source": []
  }
 ],
 "metadata": {
  "kernelspec": {
   "display_name": "Python 3",
   "language": "python",
   "name": "python3"
  },
  "language_info": {
   "codemirror_mode": {
    "name": "ipython",
    "version": 3
   },
   "file_extension": ".py",
   "mimetype": "text/x-python",
   "name": "python",
   "nbconvert_exporter": "python",
   "pygments_lexer": "ipython3",
   "version": "3.9.5"
  },
  "papermill": {
   "default_parameters": {},
   "duration": 6.827613,
   "end_time": "2021-08-17T18:30:11.650536",
   "environment_variables": {},
   "exception": null,
   "input_path": "eBay_Overview.ipynb",
   "output_path": "eBay_Overview.ipynb",
   "parameters": {},
   "start_time": "2021-08-17T18:30:04.822923",
   "version": "2.3.3"
  }
 },
 "nbformat": 4,
 "nbformat_minor": 5
}