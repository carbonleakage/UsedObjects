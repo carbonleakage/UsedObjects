{
 "cells": [
  {
   "cell_type": "code",
   "execution_count": 1,
   "id": "reverse-picking",
   "metadata": {
    "execution": {
     "iopub.execute_input": "2021-09-11T06:00:07.260937Z",
     "iopub.status.busy": "2021-09-11T06:00:07.258977Z",
     "iopub.status.idle": "2021-09-11T06:00:08.069728Z",
     "shell.execute_reply": "2021-09-11T06:00:08.071157Z"
    },
    "papermill": {
     "duration": 0.863198,
     "end_time": "2021-09-11T06:00:08.071807",
     "exception": false,
     "start_time": "2021-09-11T06:00:07.208609",
     "status": "completed"
    },
    "tags": []
   },
   "outputs": [],
   "source": [
    "import pandas as pd\n",
    "import sqlite3"
   ]
  },
  {
   "cell_type": "code",
   "execution_count": 2,
   "id": "innovative-syndrome",
   "metadata": {
    "execution": {
     "iopub.execute_input": "2021-09-11T06:00:08.125073Z",
     "iopub.status.busy": "2021-09-11T06:00:08.122682Z",
     "iopub.status.idle": "2021-09-11T06:00:08.392526Z",
     "shell.execute_reply": "2021-09-11T06:00:08.393712Z"
    },
    "papermill": {
     "duration": 0.299838,
     "end_time": "2021-09-11T06:00:08.394106",
     "exception": false,
     "start_time": "2021-09-11T06:00:08.094268",
     "status": "completed"
    },
    "tags": []
   },
   "outputs": [],
   "source": [
    "timestamps = pd.read_sql(\"select distinct record_time from EBAY_TOP_BERLIN order by record_time desc limit 2\", sqlite3.connect(\"UsedObjects.db\"))"
   ]
  },
  {
   "cell_type": "code",
   "execution_count": 3,
   "id": "periodic-identification",
   "metadata": {
    "execution": {
     "iopub.execute_input": "2021-09-11T06:00:08.458437Z",
     "iopub.status.busy": "2021-09-11T06:00:08.456432Z",
     "iopub.status.idle": "2021-09-11T06:00:08.476739Z",
     "shell.execute_reply": "2021-09-11T06:00:08.477924Z"
    },
    "papermill": {
     "duration": 0.064761,
     "end_time": "2021-09-11T06:00:08.478351",
     "exception": false,
     "start_time": "2021-09-11T06:00:08.413590",
     "status": "completed"
    },
    "tags": []
   },
   "outputs": [
    {
     "data": {
      "text/html": [
       "<div>\n",
       "<style scoped>\n",
       "    .dataframe tbody tr th:only-of-type {\n",
       "        vertical-align: middle;\n",
       "    }\n",
       "\n",
       "    .dataframe tbody tr th {\n",
       "        vertical-align: top;\n",
       "    }\n",
       "\n",
       "    .dataframe thead th {\n",
       "        text-align: right;\n",
       "    }\n",
       "</style>\n",
       "<table border=\"1\" class=\"dataframe\">\n",
       "  <thead>\n",
       "    <tr style=\"text-align: right;\">\n",
       "      <th></th>\n",
       "      <th>RECORD_TIME</th>\n",
       "    </tr>\n",
       "  </thead>\n",
       "  <tbody>\n",
       "    <tr>\n",
       "      <th>0</th>\n",
       "      <td>2021-09-11 08:00</td>\n",
       "    </tr>\n",
       "    <tr>\n",
       "      <th>1</th>\n",
       "      <td>2021-09-11 07:30</td>\n",
       "    </tr>\n",
       "  </tbody>\n",
       "</table>\n",
       "</div>"
      ],
      "text/plain": [
       "        RECORD_TIME\n",
       "0  2021-09-11 08:00\n",
       "1  2021-09-11 07:30"
      ]
     },
     "execution_count": 3,
     "metadata": {},
     "output_type": "execute_result"
    }
   ],
   "source": [
    "timestamps"
   ]
  },
  {
   "cell_type": "code",
   "execution_count": 4,
   "id": "alternate-victory",
   "metadata": {
    "execution": {
     "iopub.execute_input": "2021-09-11T06:00:08.532812Z",
     "iopub.status.busy": "2021-09-11T06:00:08.530585Z",
     "iopub.status.idle": "2021-09-11T06:00:08.920011Z",
     "shell.execute_reply": "2021-09-11T06:00:08.921274Z"
    },
    "papermill": {
     "duration": 0.419888,
     "end_time": "2021-09-11T06:00:08.921665",
     "exception": false,
     "start_time": "2021-09-11T06:00:08.501777",
     "status": "completed"
    },
    "tags": []
   },
   "outputs": [],
   "source": [
    "df = pd.read_sql(\"select * from EBAY_TOP_BERLIN where record_time in (select distinct record_time from EBAY_TOP_BERLIN order by record_time desc limit 2)\", sqlite3.connect(\"UsedObjects.db\"))"
   ]
  },
  {
   "cell_type": "code",
   "execution_count": 5,
   "id": "popular-active",
   "metadata": {
    "execution": {
     "iopub.execute_input": "2021-09-11T06:00:09.000234Z",
     "iopub.status.busy": "2021-09-11T06:00:08.988763Z",
     "iopub.status.idle": "2021-09-11T06:00:09.017506Z",
     "shell.execute_reply": "2021-09-11T06:00:09.018690Z"
    },
    "papermill": {
     "duration": 0.071763,
     "end_time": "2021-09-11T06:00:09.019174",
     "exception": false,
     "start_time": "2021-09-11T06:00:08.947411",
     "status": "completed"
    },
    "tags": []
   },
   "outputs": [],
   "source": [
    "df_pivot = df.pivot_table(index=\"PRODUCT\", columns = \"RECORD_TIME\", values = \"LISTING_COUNT\")"
   ]
  },
  {
   "cell_type": "code",
   "execution_count": 6,
   "id": "union-huntington",
   "metadata": {
    "execution": {
     "iopub.execute_input": "2021-09-11T06:00:09.075292Z",
     "iopub.status.busy": "2021-09-11T06:00:09.073182Z",
     "iopub.status.idle": "2021-09-11T06:00:09.078496Z",
     "shell.execute_reply": "2021-09-11T06:00:09.079839Z"
    },
    "papermill": {
     "duration": 0.040987,
     "end_time": "2021-09-11T06:00:09.080254",
     "exception": false,
     "start_time": "2021-09-11T06:00:09.039267",
     "status": "completed"
    },
    "tags": []
   },
   "outputs": [],
   "source": [
    "df_pivot.columns = [\"stamp_1\", \"stamp_2\"]\n",
    "df_pivot_diff = df_pivot.diff(axis=1)"
   ]
  },
  {
   "cell_type": "code",
   "execution_count": 7,
   "id": "fifth-motion",
   "metadata": {
    "execution": {
     "iopub.execute_input": "2021-09-11T06:00:09.134731Z",
     "iopub.status.busy": "2021-09-11T06:00:09.132365Z",
     "iopub.status.idle": "2021-09-11T06:00:10.626379Z",
     "shell.execute_reply": "2021-09-11T06:00:10.627837Z"
    },
    "papermill": {
     "duration": 1.526731,
     "end_time": "2021-09-11T06:00:10.628277",
     "exception": false,
     "start_time": "2021-09-11T06:00:09.101546",
     "status": "completed"
    },
    "tags": []
   },
   "outputs": [
    {
     "data": {
      "text/plain": [
       "<AxesSubplot:ylabel='PRODUCT'>"
      ]
     },
     "execution_count": 7,
     "metadata": {},
     "output_type": "execute_result"
    },
    {
     "data": {
      "image/png": "[encoded data removed]",
      "text/plain": [
       "<Figure size 432x288 with 1 Axes>"
      ]
     },
     "metadata": {
      "needs_background": "light"
     },
     "output_type": "display_data"
    }
   ],
   "source": [
    "df_pivot_diff.sort_values(\"stamp_2\", ascending = False)[\"stamp_2\"].head(10).plot.barh()"
   ]
  },
  {
   "cell_type": "code",
   "execution_count": null,
   "id": "extra-executive",
   "metadata": {
    "papermill": {
     "duration": 0.021977,
     "end_time": "2021-09-11T06:00:10.673826",
     "exception": false,
     "start_time": "2021-09-11T06:00:10.651849",
     "status": "completed"
    },
    "tags": []
   },
   "outputs": [],
   "source": []
  }
 ],
 "metadata": {
  "kernelspec": {
   "display_name": "Python 3",
   "language": "python",
   "name": "python3"
  },
  "language_info": {
   "codemirror_mode": {
    "name": "ipython",
    "version": 3
   },
   "file_extension": ".py",
   "mimetype": "text/x-python",
   "name": "python",
   "nbconvert_exporter": "python",
   "pygments_lexer": "ipython3",
   "version": "3.9.5"
  },
  "papermill": {
   "default_parameters": {},
   "duration": 6.526934,
   "end_time": "2021-09-11T06:00:11.313377",
   "environment_variables": {},
   "exception": null,
   "input_path": "eBay_Overview.ipynb",
   "output_path": "eBay_Overview.ipynb",
   "parameters": {},
   "start_time": "2021-09-11T06:00:04.786443",
   "version": "2.3.3"
  }
 },
 "nbformat": 4,
 "nbformat_minor": 5
}