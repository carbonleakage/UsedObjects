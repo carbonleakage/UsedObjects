{
 "cells": [
  {
   "cell_type": "code",
   "execution_count": 1,
   "id": "reverse-picking",
   "metadata": {
    "execution": {
     "iopub.execute_input": "2021-09-05T07:00:07.195293Z",
     "iopub.status.busy": "2021-09-05T07:00:07.193283Z",
     "iopub.status.idle": "2021-09-05T07:00:07.998199Z",
     "shell.execute_reply": "2021-09-05T07:00:07.999612Z"
    },
    "papermill": {
     "duration": 0.857069,
     "end_time": "2021-09-05T07:00:08.000286",
     "exception": false,
     "start_time": "2021-09-05T07:00:07.143217",
     "status": "completed"
    },
    "tags": []
   },
   "outputs": [],
   "source": [
    "import pandas as pd\n",
    "import sqlite3"
   ]
  },
  {
   "cell_type": "code",
   "execution_count": 2,
   "id": "innovative-syndrome",
   "metadata": {
    "execution": {
     "iopub.execute_input": "2021-09-05T07:00:08.050794Z",
     "iopub.status.busy": "2021-09-05T07:00:08.048865Z",
     "iopub.status.idle": "2021-09-05T07:00:08.254537Z",
     "shell.execute_reply": "2021-09-05T07:00:08.255806Z"
    },
    "papermill": {
     "duration": 0.235608,
     "end_time": "2021-09-05T07:00:08.256208",
     "exception": false,
     "start_time": "2021-09-05T07:00:08.020600",
     "status": "completed"
    },
    "tags": []
   },
   "outputs": [],
   "source": [
    "timestamps = pd.read_sql(\"select distinct record_time from EBAY_TOP_BERLIN order by record_time desc limit 2\", sqlite3.connect(\"UsedObjects.db\"))"
   ]
  },
  {
   "cell_type": "code",
   "execution_count": 3,
   "id": "periodic-identification",
   "metadata": {
    "execution": {
     "iopub.execute_input": "2021-09-05T07:00:08.323190Z",
     "iopub.status.busy": "2021-09-05T07:00:08.321133Z",
     "iopub.status.idle": "2021-09-05T07:00:08.341037Z",
     "shell.execute_reply": "2021-09-05T07:00:08.342246Z"
    },
    "papermill": {
     "duration": 0.064858,
     "end_time": "2021-09-05T07:00:08.342643",
     "exception": false,
     "start_time": "2021-09-05T07:00:08.277785",
     "status": "completed"
    },
    "tags": []
   },
   "outputs": [
    {
     "data": {
      "text/html": [
       "<div>\n",
       "<style scoped>\n",
       "    .dataframe tbody tr th:only-of-type {\n",
       "        vertical-align: middle;\n",
       "    }\n",
       "\n",
       "    .dataframe tbody tr th {\n",
       "        vertical-align: top;\n",
       "    }\n",
       "\n",
       "    .dataframe thead th {\n",
       "        text-align: right;\n",
       "    }\n",
       "</style>\n",
       "<table border=\"1\" class=\"dataframe\">\n",
       "  <thead>\n",
       "    <tr style=\"text-align: right;\">\n",
       "      <th></th>\n",
       "      <th>RECORD_TIME</th>\n",
       "    </tr>\n",
       "  </thead>\n",
       "  <tbody>\n",
       "    <tr>\n",
       "      <th>0</th>\n",
       "      <td>2021-09-05 09:00</td>\n",
       "    </tr>\n",
       "    <tr>\n",
       "      <th>1</th>\n",
       "      <td>2021-09-05 08:30</td>\n",
       "    </tr>\n",
       "  </tbody>\n",
       "</table>\n",
       "</div>"
      ],
      "text/plain": [
       "        RECORD_TIME\n",
       "0  2021-09-05 09:00\n",
       "1  2021-09-05 08:30"
      ]
     },
     "execution_count": 3,
     "metadata": {},
     "output_type": "execute_result"
    }
   ],
   "source": [
    "timestamps"
   ]
  },
  {
   "cell_type": "code",
   "execution_count": 4,
   "id": "alternate-victory",
   "metadata": {
    "execution": {
     "iopub.execute_input": "2021-09-05T07:00:08.395624Z",
     "iopub.status.busy": "2021-09-05T07:00:08.393175Z",
     "iopub.status.idle": "2021-09-05T07:00:08.701849Z",
     "shell.execute_reply": "2021-09-05T07:00:08.703269Z"
    },
    "papermill": {
     "duration": 0.339252,
     "end_time": "2021-09-05T07:00:08.703694",
     "exception": false,
     "start_time": "2021-09-05T07:00:08.364442",
     "status": "completed"
    },
    "tags": []
   },
   "outputs": [],
   "source": [
    "df = pd.read_sql(\"select * from EBAY_TOP_BERLIN where record_time in (select distinct record_time from EBAY_TOP_BERLIN order by record_time desc limit 2)\", sqlite3.connect(\"UsedObjects.db\"))"
   ]
  },
  {
   "cell_type": "code",
   "execution_count": 5,
   "id": "popular-active",
   "metadata": {
    "execution": {
     "iopub.execute_input": "2021-09-05T07:00:08.779245Z",
     "iopub.status.busy": "2021-09-05T07:00:08.767368Z",
     "iopub.status.idle": "2021-09-05T07:00:08.796544Z",
     "shell.execute_reply": "2021-09-05T07:00:08.797909Z"
    },
    "papermill": {
     "duration": 0.070891,
     "end_time": "2021-09-05T07:00:08.798349",
     "exception": false,
     "start_time": "2021-09-05T07:00:08.727458",
     "status": "completed"
    },
    "tags": []
   },
   "outputs": [],
   "source": [
    "df_pivot = df.pivot_table(index=\"PRODUCT\", columns = \"RECORD_TIME\", values = \"LISTING_COUNT\")"
   ]
  },
  {
   "cell_type": "code",
   "execution_count": 6,
   "id": "union-huntington",
   "metadata": {
    "execution": {
     "iopub.execute_input": "2021-09-05T07:00:08.854695Z",
     "iopub.status.busy": "2021-09-05T07:00:08.852649Z",
     "iopub.status.idle": "2021-09-05T07:00:08.858149Z",
     "shell.execute_reply": "2021-09-05T07:00:08.859499Z"
    },
    "papermill": {
     "duration": 0.041294,
     "end_time": "2021-09-05T07:00:08.859920",
     "exception": false,
     "start_time": "2021-09-05T07:00:08.818626",
     "status": "completed"
    },
    "tags": []
   },
   "outputs": [],
   "source": [
    "df_pivot.columns = [\"stamp_1\", \"stamp_2\"]\n",
    "df_pivot_diff = df_pivot.diff(axis=1)"
   ]
  },
  {
   "cell_type": "code",
   "execution_count": 7,
   "id": "fifth-motion",
   "metadata": {
    "execution": {
     "iopub.execute_input": "2021-09-05T07:00:08.914003Z",
     "iopub.status.busy": "2021-09-05T07:00:08.911644Z",
     "iopub.status.idle": "2021-09-05T07:00:10.412300Z",
     "shell.execute_reply": "2021-09-05T07:00:10.413574Z"
    },
    "papermill": {
     "duration": 1.533655,
     "end_time": "2021-09-05T07:00:10.413990",
     "exception": false,
     "start_time": "2021-09-05T07:00:08.880335",
     "status": "completed"
    },
    "tags": []
   },
   "outputs": [
    {
     "data": {
      "text/plain": [
       "<AxesSubplot:ylabel='PRODUCT'>"
      ]
     },
     "execution_count": 7,
     "metadata": {},
     "output_type": "execute_result"
    },
    {
     "data": {
      "image/png": "[encoded data removed]",
      "text/plain": [
       "<Figure size 432x288 with 1 Axes>"
      ]
     },
     "metadata": {
      "needs_background": "light"
     },
     "output_type": "display_data"
    }
   ],
   "source": [
    "df_pivot_diff.sort_values(\"stamp_2\", ascending = False)[\"stamp_2\"].head(10).plot.barh()"
   ]
  },
  {
   "cell_type": "code",
   "execution_count": null,
   "id": "extra-executive",
   "metadata": {
    "papermill": {
     "duration": 0.022205,
     "end_time": "2021-09-05T07:00:10.460614",
     "exception": false,
     "start_time": "2021-09-05T07:00:10.438409",
     "status": "completed"
    },
    "tags": []
   },
   "outputs": [],
   "source": []
  }
 ],
 "metadata": {
  "kernelspec": {
   "display_name": "Python 3",
   "language": "python",
   "name": "python3"
  },
  "language_info": {
   "codemirror_mode": {
    "name": "ipython",
    "version": 3
   },
   "file_extension": ".py",
   "mimetype": "text/x-python",
   "name": "python",
   "nbconvert_exporter": "python",
   "pygments_lexer": "ipython3",
   "version": "3.9.5"
  },
  "papermill": {
   "default_parameters": {},
   "duration": 6.361368,
   "end_time": "2021-09-05T07:00:11.101416",
   "environment_variables": {},
   "exception": null,
   "input_path": "eBay_Overview.ipynb",
   "output_path": "eBay_Overview.ipynb",
   "parameters": {},
   "start_time": "2021-09-05T07:00:04.740048",
   "version": "2.3.3"
  }
 },
 "nbformat": 4,
 "nbformat_minor": 5
}