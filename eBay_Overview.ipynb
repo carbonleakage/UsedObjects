{
 "cells": [
  {
   "cell_type": "code",
   "execution_count": 1,
   "id": "reverse-picking",
   "metadata": {
    "execution": {
     "iopub.execute_input": "2021-09-15T01:30:06.788535Z",
     "iopub.status.busy": "2021-09-15T01:30:06.786506Z",
     "iopub.status.idle": "2021-09-15T01:30:07.593235Z",
     "shell.execute_reply": "2021-09-15T01:30:07.594382Z"
    },
    "papermill": {
     "duration": 0.858604,
     "end_time": "2021-09-15T01:30:07.595055",
     "exception": false,
     "start_time": "2021-09-15T01:30:06.736451",
     "status": "completed"
    },
    "tags": []
   },
   "outputs": [],
   "source": [
    "import pandas as pd\n",
    "import sqlite3"
   ]
  },
  {
   "cell_type": "code",
   "execution_count": 2,
   "id": "innovative-syndrome",
   "metadata": {
    "execution": {
     "iopub.execute_input": "2021-09-15T01:30:07.646784Z",
     "iopub.status.busy": "2021-09-15T01:30:07.644933Z",
     "iopub.status.idle": "2021-09-15T01:30:07.932021Z",
     "shell.execute_reply": "2021-09-15T01:30:07.933220Z"
    },
    "papermill": {
     "duration": 0.316819,
     "end_time": "2021-09-15T01:30:07.933621",
     "exception": false,
     "start_time": "2021-09-15T01:30:07.616802",
     "status": "completed"
    },
    "tags": []
   },
   "outputs": [],
   "source": [
    "timestamps = pd.read_sql(\"select distinct record_time from EBAY_TOP_BERLIN order by record_time desc limit 2\", sqlite3.connect(\"UsedObjects.db\"))"
   ]
  },
  {
   "cell_type": "code",
   "execution_count": 3,
   "id": "periodic-identification",
   "metadata": {
    "execution": {
     "iopub.execute_input": "2021-09-15T01:30:08.001927Z",
     "iopub.status.busy": "2021-09-15T01:30:07.999694Z",
     "iopub.status.idle": "2021-09-15T01:30:08.021023Z",
     "shell.execute_reply": "2021-09-15T01:30:08.022231Z"
    },
    "papermill": {
     "duration": 0.066514,
     "end_time": "2021-09-15T01:30:08.022626",
     "exception": false,
     "start_time": "2021-09-15T01:30:07.956112",
     "status": "completed"
    },
    "tags": []
   },
   "outputs": [
    {
     "data": {
      "text/html": [
       "<div>\n",
       "<style scoped>\n",
       "    .dataframe tbody tr th:only-of-type {\n",
       "        vertical-align: middle;\n",
       "    }\n",
       "\n",
       "    .dataframe tbody tr th {\n",
       "        vertical-align: top;\n",
       "    }\n",
       "\n",
       "    .dataframe thead th {\n",
       "        text-align: right;\n",
       "    }\n",
       "</style>\n",
       "<table border=\"1\" class=\"dataframe\">\n",
       "  <thead>\n",
       "    <tr style=\"text-align: right;\">\n",
       "      <th></th>\n",
       "      <th>RECORD_TIME</th>\n",
       "    </tr>\n",
       "  </thead>\n",
       "  <tbody>\n",
       "    <tr>\n",
       "      <th>0</th>\n",
       "      <td>2021-09-15 03:30</td>\n",
       "    </tr>\n",
       "    <tr>\n",
       "      <th>1</th>\n",
       "      <td>2021-09-15 03:00</td>\n",
       "    </tr>\n",
       "  </tbody>\n",
       "</table>\n",
       "</div>"
      ],
      "text/plain": [
       "        RECORD_TIME\n",
       "0  2021-09-15 03:30\n",
       "1  2021-09-15 03:00"
      ]
     },
     "execution_count": 3,
     "metadata": {},
     "output_type": "execute_result"
    }
   ],
   "source": [
    "timestamps"
   ]
  },
  {
   "cell_type": "code",
   "execution_count": 4,
   "id": "alternate-victory",
   "metadata": {
    "execution": {
     "iopub.execute_input": "2021-09-15T01:30:08.076731Z",
     "iopub.status.busy": "2021-09-15T01:30:08.074388Z",
     "iopub.status.idle": "2021-09-15T01:30:08.498523Z",
     "shell.execute_reply": "2021-09-15T01:30:08.499797Z"
    },
    "papermill": {
     "duration": 0.454685,
     "end_time": "2021-09-15T01:30:08.500200",
     "exception": false,
     "start_time": "2021-09-15T01:30:08.045515",
     "status": "completed"
    },
    "tags": []
   },
   "outputs": [],
   "source": [
    "df = pd.read_sql(\"select * from EBAY_TOP_BERLIN where record_time in (select distinct record_time from EBAY_TOP_BERLIN order by record_time desc limit 2)\", sqlite3.connect(\"UsedObjects.db\"))"
   ]
  },
  {
   "cell_type": "code",
   "execution_count": 5,
   "id": "popular-active",
   "metadata": {
    "execution": {
     "iopub.execute_input": "2021-09-15T01:30:08.584570Z",
     "iopub.status.busy": "2021-09-15T01:30:08.573290Z",
     "iopub.status.idle": "2021-09-15T01:30:08.601246Z",
     "shell.execute_reply": "2021-09-15T01:30:08.602513Z"
    },
    "papermill": {
     "duration": 0.07237,
     "end_time": "2021-09-15T01:30:08.602976",
     "exception": false,
     "start_time": "2021-09-15T01:30:08.530606",
     "status": "completed"
    },
    "tags": []
   },
   "outputs": [],
   "source": [
    "df_pivot = df.pivot_table(index=\"PRODUCT\", columns = \"RECORD_TIME\", values = \"LISTING_COUNT\")"
   ]
  },
  {
   "cell_type": "code",
   "execution_count": 6,
   "id": "union-huntington",
   "metadata": {
    "execution": {
     "iopub.execute_input": "2021-09-15T01:30:08.661028Z",
     "iopub.status.busy": "2021-09-15T01:30:08.658813Z",
     "iopub.status.idle": "2021-09-15T01:30:08.664359Z",
     "shell.execute_reply": "2021-09-15T01:30:08.665706Z"
    },
    "papermill": {
     "duration": 0.041135,
     "end_time": "2021-09-15T01:30:08.666143",
     "exception": false,
     "start_time": "2021-09-15T01:30:08.625008",
     "status": "completed"
    },
    "tags": []
   },
   "outputs": [],
   "source": [
    "df_pivot.columns = [\"stamp_1\", \"stamp_2\"]\n",
    "df_pivot_diff = df_pivot.diff(axis=1)"
   ]
  },
  {
   "cell_type": "code",
   "execution_count": 7,
   "id": "fifth-motion",
   "metadata": {
    "execution": {
     "iopub.execute_input": "2021-09-15T01:30:08.721734Z",
     "iopub.status.busy": "2021-09-15T01:30:08.719108Z",
     "iopub.status.idle": "2021-09-15T01:30:10.188933Z",
     "shell.execute_reply": "2021-09-15T01:30:10.190292Z"
    },
    "papermill": {
     "duration": 1.503788,
     "end_time": "2021-09-15T01:30:10.190738",
     "exception": false,
     "start_time": "2021-09-15T01:30:08.686950",
     "status": "completed"
    },
    "tags": []
   },
   "outputs": [
    {
     "data": {
      "text/plain": [
       "<AxesSubplot:ylabel='PRODUCT'>"
      ]
     },
     "execution_count": 7,
     "metadata": {},
     "output_type": "execute_result"
    },
    {
     "data": {
      "image/png": "[encoded data removed]",
      "text/plain": [
       "<Figure size 432x288 with 1 Axes>"
      ]
     },
     "metadata": {
      "needs_background": "light"
     },
     "output_type": "display_data"
    }
   ],
   "source": [
    "df_pivot_diff.sort_values(\"stamp_2\", ascending = False)[\"stamp_2\"].head(10).plot.barh()"
   ]
  },
  {
   "cell_type": "code",
   "execution_count": null,
   "id": "extra-executive",
   "metadata": {
    "papermill": {
     "duration": 0.022415,
     "end_time": "2021-09-15T01:30:10.237334",
     "exception": false,
     "start_time": "2021-09-15T01:30:10.214919",
     "status": "completed"
    },
    "tags": []
   },
   "outputs": [],
   "source": []
  }
 ],
 "metadata": {
  "kernelspec": {
   "display_name": "Python 3",
   "language": "python",
   "name": "python3"
  },
  "language_info": {
   "codemirror_mode": {
    "name": "ipython",
    "version": 3
   },
   "file_extension": ".py",
   "mimetype": "text/x-python",
   "name": "python",
   "nbconvert_exporter": "python",
   "pygments_lexer": "ipython3",
   "version": "3.9.5"
  },
  "papermill": {
   "default_parameters": {},
   "duration": 6.545986,
   "end_time": "2021-09-15T01:30:10.880043",
   "environment_variables": {},
   "exception": null,
   "input_path": "eBay_Overview.ipynb",
   "output_path": "eBay_Overview.ipynb",
   "parameters": {},
   "start_time": "2021-09-15T01:30:04.334057",
   "version": "2.3.3"
  }
 },
 "nbformat": 4,
 "nbformat_minor": 5
}