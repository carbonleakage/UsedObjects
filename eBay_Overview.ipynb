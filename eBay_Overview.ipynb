{
 "cells": [
  {
   "cell_type": "code",
   "execution_count": 1,
   "id": "reverse-picking",
   "metadata": {
    "execution": {
     "iopub.execute_input": "2021-08-14T05:30:07.167846Z",
     "iopub.status.busy": "2021-08-14T05:30:07.165763Z",
     "iopub.status.idle": "2021-08-14T05:30:07.978397Z",
     "shell.execute_reply": "2021-08-14T05:30:07.979957Z"
    },
    "papermill": {
     "duration": 0.864869,
     "end_time": "2021-08-14T05:30:07.980644",
     "exception": false,
     "start_time": "2021-08-14T05:30:07.115775",
     "status": "completed"
    },
    "tags": []
   },
   "outputs": [],
   "source": [
    "import pandas as pd\n",
    "import sqlite3"
   ]
  },
  {
   "cell_type": "code",
   "execution_count": 2,
   "id": "innovative-syndrome",
   "metadata": {
    "execution": {
     "iopub.execute_input": "2021-08-14T05:30:08.031957Z",
     "iopub.status.busy": "2021-08-14T05:30:08.029485Z",
     "iopub.status.idle": "2021-08-14T05:30:08.076590Z",
     "shell.execute_reply": "2021-08-14T05:30:08.077900Z"
    },
    "papermill": {
     "duration": 0.077153,
     "end_time": "2021-08-14T05:30:08.078332",
     "exception": false,
     "start_time": "2021-08-14T05:30:08.001179",
     "status": "completed"
    },
    "tags": []
   },
   "outputs": [],
   "source": [
    "timestamps = pd.read_sql(\"select distinct record_time from EBAY_TOP_BERLIN order by record_time desc limit 2\", sqlite3.connect(\"UsedObjects.db\"))"
   ]
  },
  {
   "cell_type": "code",
   "execution_count": 3,
   "id": "periodic-identification",
   "metadata": {
    "execution": {
     "iopub.execute_input": "2021-08-14T05:30:08.144569Z",
     "iopub.status.busy": "2021-08-14T05:30:08.142527Z",
     "iopub.status.idle": "2021-08-14T05:30:08.162643Z",
     "shell.execute_reply": "2021-08-14T05:30:08.164013Z"
    },
    "papermill": {
     "duration": 0.066978,
     "end_time": "2021-08-14T05:30:08.164426",
     "exception": false,
     "start_time": "2021-08-14T05:30:08.097448",
     "status": "completed"
    },
    "tags": []
   },
   "outputs": [
    {
     "data": {
      "text/html": [
       "<div>\n",
       "<style scoped>\n",
       "    .dataframe tbody tr th:only-of-type {\n",
       "        vertical-align: middle;\n",
       "    }\n",
       "\n",
       "    .dataframe tbody tr th {\n",
       "        vertical-align: top;\n",
       "    }\n",
       "\n",
       "    .dataframe thead th {\n",
       "        text-align: right;\n",
       "    }\n",
       "</style>\n",
       "<table border=\"1\" class=\"dataframe\">\n",
       "  <thead>\n",
       "    <tr style=\"text-align: right;\">\n",
       "      <th></th>\n",
       "      <th>RECORD_TIME</th>\n",
       "    </tr>\n",
       "  </thead>\n",
       "  <tbody>\n",
       "    <tr>\n",
       "      <th>0</th>\n",
       "      <td>2021-08-14 07:30</td>\n",
       "    </tr>\n",
       "    <tr>\n",
       "      <th>1</th>\n",
       "      <td>2021-08-14 07:00</td>\n",
       "    </tr>\n",
       "  </tbody>\n",
       "</table>\n",
       "</div>"
      ],
      "text/plain": [
       "        RECORD_TIME\n",
       "0  2021-08-14 07:30\n",
       "1  2021-08-14 07:00"
      ]
     },
     "execution_count": 3,
     "metadata": {},
     "output_type": "execute_result"
    }
   ],
   "source": [
    "timestamps"
   ]
  },
  {
   "cell_type": "code",
   "execution_count": 4,
   "id": "alternate-victory",
   "metadata": {
    "execution": {
     "iopub.execute_input": "2021-08-14T05:30:08.216931Z",
     "iopub.status.busy": "2021-08-14T05:30:08.214621Z",
     "iopub.status.idle": "2021-08-14T05:30:08.283345Z",
     "shell.execute_reply": "2021-08-14T05:30:08.284561Z"
    },
    "papermill": {
     "duration": 0.098909,
     "end_time": "2021-08-14T05:30:08.284953",
     "exception": false,
     "start_time": "2021-08-14T05:30:08.186044",
     "status": "completed"
    },
    "tags": []
   },
   "outputs": [],
   "source": [
    "df = pd.read_sql(\"select * from EBAY_TOP_BERLIN where record_time in (select distinct record_time from EBAY_TOP_BERLIN order by record_time desc limit 2)\", sqlite3.connect(\"UsedObjects.db\"))"
   ]
  },
  {
   "cell_type": "code",
   "execution_count": 5,
   "id": "popular-active",
   "metadata": {
    "execution": {
     "iopub.execute_input": "2021-08-14T05:30:08.358745Z",
     "iopub.status.busy": "2021-08-14T05:30:08.347449Z",
     "iopub.status.idle": "2021-08-14T05:30:08.374981Z",
     "shell.execute_reply": "2021-08-14T05:30:08.376218Z"
    },
    "papermill": {
     "duration": 0.068304,
     "end_time": "2021-08-14T05:30:08.376608",
     "exception": false,
     "start_time": "2021-08-14T05:30:08.308304",
     "status": "completed"
    },
    "tags": []
   },
   "outputs": [],
   "source": [
    "df_pivot = df.pivot_table(index=\"PRODUCT\", columns = \"RECORD_TIME\", values = \"LISTING_COUNT\")"
   ]
  },
  {
   "cell_type": "code",
   "execution_count": 6,
   "id": "union-huntington",
   "metadata": {
    "execution": {
     "iopub.execute_input": "2021-08-14T05:30:08.436680Z",
     "iopub.status.busy": "2021-08-14T05:30:08.434183Z",
     "iopub.status.idle": "2021-08-14T05:30:08.440032Z",
     "shell.execute_reply": "2021-08-14T05:30:08.441229Z"
    },
    "papermill": {
     "duration": 0.042034,
     "end_time": "2021-08-14T05:30:08.441658",
     "exception": false,
     "start_time": "2021-08-14T05:30:08.399624",
     "status": "completed"
    },
    "tags": []
   },
   "outputs": [],
   "source": [
    "df_pivot.columns = [\"stamp_1\", \"stamp_2\"]\n",
    "df_pivot_diff = df_pivot.diff(axis=1)"
   ]
  },
  {
   "cell_type": "code",
   "execution_count": 7,
   "id": "fifth-motion",
   "metadata": {
    "execution": {
     "iopub.execute_input": "2021-08-14T05:30:08.496315Z",
     "iopub.status.busy": "2021-08-14T05:30:08.493954Z",
     "iopub.status.idle": "2021-08-14T05:30:09.960129Z",
     "shell.execute_reply": "2021-08-14T05:30:09.961403Z"
    },
    "papermill": {
     "duration": 1.499593,
     "end_time": "2021-08-14T05:30:09.961853",
     "exception": false,
     "start_time": "2021-08-14T05:30:08.462260",
     "status": "completed"
    },
    "tags": []
   },
   "outputs": [
    {
     "data": {
      "text/plain": [
       "<AxesSubplot:ylabel='PRODUCT'>"
      ]
     },
     "execution_count": 7,
     "metadata": {},
     "output_type": "execute_result"
    },
    {
     "data": {
      "image/png": "[encoded data removed]",
      "text/plain": [
       "<Figure size 432x288 with 1 Axes>"
      ]
     },
     "metadata": {
      "needs_background": "light"
     },
     "output_type": "display_data"
    }
   ],
   "source": [
    "df_pivot_diff.sort_values(\"stamp_2\", ascending = False)[\"stamp_2\"].head(10).plot.barh()"
   ]
  },
  {
   "cell_type": "code",
   "execution_count": null,
   "id": "extra-executive",
   "metadata": {
    "papermill": {
     "duration": 0.022185,
     "end_time": "2021-08-14T05:30:10.007920",
     "exception": false,
     "start_time": "2021-08-14T05:30:09.985735",
     "status": "completed"
    },
    "tags": []
   },
   "outputs": [],
   "source": []
  }
 ],
 "metadata": {
  "kernelspec": {
   "display_name": "Python 3",
   "language": "python",
   "name": "python3"
  },
  "language_info": {
   "codemirror_mode": {
    "name": "ipython",
    "version": 3
   },
   "file_extension": ".py",
   "mimetype": "text/x-python",
   "name": "python",
   "nbconvert_exporter": "python",
   "pygments_lexer": "ipython3",
   "version": "3.9.5"
  },
  "papermill": {
   "default_parameters": {},
   "duration": 6.827326,
   "end_time": "2021-08-14T05:30:11.517000",
   "environment_variables": {},
   "exception": null,
   "input_path": "eBay_Overview.ipynb",
   "output_path": "eBay_Overview.ipynb",
   "parameters": {},
   "start_time": "2021-08-14T05:30:04.689674",
   "version": "2.3.3"
  }
 },
 "nbformat": 4,
 "nbformat_minor": 5
}