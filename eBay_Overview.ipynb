{
 "cells": [
  {
   "cell_type": "code",
   "execution_count": 1,
   "id": "reverse-picking",
   "metadata": {
    "execution": {
     "iopub.execute_input": "2021-09-17T08:00:07.325724Z",
     "iopub.status.busy": "2021-09-17T08:00:07.323779Z",
     "iopub.status.idle": "2021-09-17T08:00:08.128216Z",
     "shell.execute_reply": "2021-09-17T08:00:08.129495Z"
    },
    "papermill": {
     "duration": 0.856367,
     "end_time": "2021-09-17T08:00:08.130105",
     "exception": false,
     "start_time": "2021-09-17T08:00:07.273738",
     "status": "completed"
    },
    "tags": []
   },
   "outputs": [],
   "source": [
    "import pandas as pd\n",
    "import sqlite3"
   ]
  },
  {
   "cell_type": "code",
   "execution_count": 2,
   "id": "innovative-syndrome",
   "metadata": {
    "execution": {
     "iopub.execute_input": "2021-09-17T08:00:08.180017Z",
     "iopub.status.busy": "2021-09-17T08:00:08.178021Z",
     "iopub.status.idle": "2021-09-17T08:00:08.481902Z",
     "shell.execute_reply": "2021-09-17T08:00:08.480519Z"
    },
    "papermill": {
     "duration": 0.331921,
     "end_time": "2021-09-17T08:00:08.482252",
     "exception": false,
     "start_time": "2021-09-17T08:00:08.150331",
     "status": "completed"
    },
    "tags": []
   },
   "outputs": [],
   "source": [
    "timestamps = pd.read_sql(\"select distinct record_time from EBAY_TOP_BERLIN order by record_time desc limit 2\", sqlite3.connect(\"UsedObjects.db\"))"
   ]
  },
  {
   "cell_type": "code",
   "execution_count": 3,
   "id": "periodic-identification",
   "metadata": {
    "execution": {
     "iopub.execute_input": "2021-09-17T08:00:08.548818Z",
     "iopub.status.busy": "2021-09-17T08:00:08.546742Z",
     "iopub.status.idle": "2021-09-17T08:00:08.566966Z",
     "shell.execute_reply": "2021-09-17T08:00:08.568406Z"
    },
    "papermill": {
     "duration": 0.067239,
     "end_time": "2021-09-17T08:00:08.568841",
     "exception": false,
     "start_time": "2021-09-17T08:00:08.501602",
     "status": "completed"
    },
    "tags": []
   },
   "outputs": [
    {
     "data": {
      "text/html": [
       "<div>\n",
       "<style scoped>\n",
       "    .dataframe tbody tr th:only-of-type {\n",
       "        vertical-align: middle;\n",
       "    }\n",
       "\n",
       "    .dataframe tbody tr th {\n",
       "        vertical-align: top;\n",
       "    }\n",
       "\n",
       "    .dataframe thead th {\n",
       "        text-align: right;\n",
       "    }\n",
       "</style>\n",
       "<table border=\"1\" class=\"dataframe\">\n",
       "  <thead>\n",
       "    <tr style=\"text-align: right;\">\n",
       "      <th></th>\n",
       "      <th>RECORD_TIME</th>\n",
       "    </tr>\n",
       "  </thead>\n",
       "  <tbody>\n",
       "    <tr>\n",
       "      <th>0</th>\n",
       "      <td>2021-09-17 10:00</td>\n",
       "    </tr>\n",
       "    <tr>\n",
       "      <th>1</th>\n",
       "      <td>2021-09-17 09:30</td>\n",
       "    </tr>\n",
       "  </tbody>\n",
       "</table>\n",
       "</div>"
      ],
      "text/plain": [
       "        RECORD_TIME\n",
       "0  2021-09-17 10:00\n",
       "1  2021-09-17 09:30"
      ]
     },
     "execution_count": 3,
     "metadata": {},
     "output_type": "execute_result"
    }
   ],
   "source": [
    "timestamps"
   ]
  },
  {
   "cell_type": "code",
   "execution_count": 4,
   "id": "alternate-victory",
   "metadata": {
    "execution": {
     "iopub.execute_input": "2021-09-17T08:00:08.620559Z",
     "iopub.status.busy": "2021-09-17T08:00:08.618545Z",
     "iopub.status.idle": "2021-09-17T08:00:09.065808Z",
     "shell.execute_reply": "2021-09-17T08:00:09.067188Z"
    },
    "papermill": {
     "duration": 0.477376,
     "end_time": "2021-09-17T08:00:09.067622",
     "exception": false,
     "start_time": "2021-09-17T08:00:08.590246",
     "status": "completed"
    },
    "tags": []
   },
   "outputs": [],
   "source": [
    "df = pd.read_sql(\"select * from EBAY_TOP_BERLIN where record_time in (select distinct record_time from EBAY_TOP_BERLIN order by record_time desc limit 2)\", sqlite3.connect(\"UsedObjects.db\"))"
   ]
  },
  {
   "cell_type": "code",
   "execution_count": 5,
   "id": "popular-active",
   "metadata": {
    "execution": {
     "iopub.execute_input": "2021-09-17T08:00:09.148219Z",
     "iopub.status.busy": "2021-09-17T08:00:09.136548Z",
     "iopub.status.idle": "2021-09-17T08:00:09.163678Z",
     "shell.execute_reply": "2021-09-17T08:00:09.164898Z"
    },
    "papermill": {
     "duration": 0.071618,
     "end_time": "2021-09-17T08:00:09.165296",
     "exception": false,
     "start_time": "2021-09-17T08:00:09.093678",
     "status": "completed"
    },
    "tags": []
   },
   "outputs": [],
   "source": [
    "df_pivot = df.pivot_table(index=\"PRODUCT\", columns = \"RECORD_TIME\", values = \"LISTING_COUNT\")"
   ]
  },
  {
   "cell_type": "code",
   "execution_count": 6,
   "id": "union-huntington",
   "metadata": {
    "execution": {
     "iopub.execute_input": "2021-09-17T08:00:09.225775Z",
     "iopub.status.busy": "2021-09-17T08:00:09.223325Z",
     "iopub.status.idle": "2021-09-17T08:00:09.229313Z",
     "shell.execute_reply": "2021-09-17T08:00:09.230759Z"
    },
    "papermill": {
     "duration": 0.042654,
     "end_time": "2021-09-17T08:00:09.231283",
     "exception": false,
     "start_time": "2021-09-17T08:00:09.188629",
     "status": "completed"
    },
    "tags": []
   },
   "outputs": [],
   "source": [
    "df_pivot.columns = [\"stamp_1\", \"stamp_2\"]\n",
    "df_pivot_diff = df_pivot.diff(axis=1)"
   ]
  },
  {
   "cell_type": "code",
   "execution_count": 7,
   "id": "fifth-motion",
   "metadata": {
    "execution": {
     "iopub.execute_input": "2021-09-17T08:00:09.286962Z",
     "iopub.status.busy": "2021-09-17T08:00:09.284596Z",
     "iopub.status.idle": "2021-09-17T08:00:10.782282Z",
     "shell.execute_reply": "2021-09-17T08:00:10.783645Z"
    },
    "papermill": {
     "duration": 1.530509,
     "end_time": "2021-09-17T08:00:10.784074",
     "exception": false,
     "start_time": "2021-09-17T08:00:09.253565",
     "status": "completed"
    },
    "tags": []
   },
   "outputs": [
    {
     "data": {
      "text/plain": [
       "<AxesSubplot:ylabel='PRODUCT'>"
      ]
     },
     "execution_count": 7,
     "metadata": {},
     "output_type": "execute_result"
    },
    {
     "data": {
      "image/png": "[encoded data removed]",
      "text/plain": [
       "<Figure size 432x288 with 1 Axes>"
      ]
     },
     "metadata": {
      "needs_background": "light"
     },
     "output_type": "display_data"
    }
   ],
   "source": [
    "df_pivot_diff.sort_values(\"stamp_2\", ascending = False)[\"stamp_2\"].head(10).plot.barh()"
   ]
  },
  {
   "cell_type": "code",
   "execution_count": null,
   "id": "extra-executive",
   "metadata": {
    "papermill": {
     "duration": 0.022593,
     "end_time": "2021-09-17T08:00:10.830910",
     "exception": false,
     "start_time": "2021-09-17T08:00:10.808317",
     "status": "completed"
    },
    "tags": []
   },
   "outputs": [],
   "source": []
  }
 ],
 "metadata": {
  "kernelspec": {
   "display_name": "Python 3",
   "language": "python",
   "name": "python3"
  },
  "language_info": {
   "codemirror_mode": {
    "name": "ipython",
    "version": 3
   },
   "file_extension": ".py",
   "mimetype": "text/x-python",
   "name": "python",
   "nbconvert_exporter": "python",
   "pygments_lexer": "ipython3",
   "version": "3.9.5"
  },
  "papermill": {
   "default_parameters": {},
   "duration": 6.583993,
   "end_time": "2021-09-17T08:00:11.472058",
   "environment_variables": {},
   "exception": null,
   "input_path": "eBay_Overview.ipynb",
   "output_path": "eBay_Overview.ipynb",
   "parameters": {},
   "start_time": "2021-09-17T08:00:04.888065",
   "version": "2.3.3"
  }
 },
 "nbformat": 4,
 "nbformat_minor": 5
}