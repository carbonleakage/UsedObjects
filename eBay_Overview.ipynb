{
 "cells": [
  {
   "cell_type": "code",
   "execution_count": 1,
   "id": "reverse-picking",
   "metadata": {
    "execution": {
     "iopub.execute_input": "2021-09-15T01:00:06.935881Z",
     "iopub.status.busy": "2021-09-15T01:00:06.933848Z",
     "iopub.status.idle": "2021-09-15T01:00:07.737978Z",
     "shell.execute_reply": "2021-09-15T01:00:07.739387Z"
    },
    "papermill": {
     "duration": 0.856322,
     "end_time": "2021-09-15T01:00:07.740053",
     "exception": false,
     "start_time": "2021-09-15T01:00:06.883731",
     "status": "completed"
    },
    "tags": []
   },
   "outputs": [],
   "source": [
    "import pandas as pd\n",
    "import sqlite3"
   ]
  },
  {
   "cell_type": "code",
   "execution_count": 2,
   "id": "innovative-syndrome",
   "metadata": {
    "execution": {
     "iopub.execute_input": "2021-09-15T01:00:07.791053Z",
     "iopub.status.busy": "2021-09-15T01:00:07.789034Z",
     "iopub.status.idle": "2021-09-15T01:00:08.074725Z",
     "shell.execute_reply": "2021-09-15T01:00:08.075989Z"
    },
    "papermill": {
     "duration": 0.315925,
     "end_time": "2021-09-15T01:00:08.076388",
     "exception": false,
     "start_time": "2021-09-15T01:00:07.760463",
     "status": "completed"
    },
    "tags": []
   },
   "outputs": [],
   "source": [
    "timestamps = pd.read_sql(\"select distinct record_time from EBAY_TOP_BERLIN order by record_time desc limit 2\", sqlite3.connect(\"UsedObjects.db\"))"
   ]
  },
  {
   "cell_type": "code",
   "execution_count": 3,
   "id": "periodic-identification",
   "metadata": {
    "execution": {
     "iopub.execute_input": "2021-09-15T01:00:08.141419Z",
     "iopub.status.busy": "2021-09-15T01:00:08.139380Z",
     "iopub.status.idle": "2021-09-15T01:00:08.159461Z",
     "shell.execute_reply": "2021-09-15T01:00:08.160679Z"
    },
    "papermill": {
     "duration": 0.063672,
     "end_time": "2021-09-15T01:00:08.161110",
     "exception": false,
     "start_time": "2021-09-15T01:00:08.097438",
     "status": "completed"
    },
    "tags": []
   },
   "outputs": [
    {
     "data": {
      "text/html": [
       "<div>\n",
       "<style scoped>\n",
       "    .dataframe tbody tr th:only-of-type {\n",
       "        vertical-align: middle;\n",
       "    }\n",
       "\n",
       "    .dataframe tbody tr th {\n",
       "        vertical-align: top;\n",
       "    }\n",
       "\n",
       "    .dataframe thead th {\n",
       "        text-align: right;\n",
       "    }\n",
       "</style>\n",
       "<table border=\"1\" class=\"dataframe\">\n",
       "  <thead>\n",
       "    <tr style=\"text-align: right;\">\n",
       "      <th></th>\n",
       "      <th>RECORD_TIME</th>\n",
       "    </tr>\n",
       "  </thead>\n",
       "  <tbody>\n",
       "    <tr>\n",
       "      <th>0</th>\n",
       "      <td>2021-09-15 03:00</td>\n",
       "    </tr>\n",
       "    <tr>\n",
       "      <th>1</th>\n",
       "      <td>2021-09-15 02:30</td>\n",
       "    </tr>\n",
       "  </tbody>\n",
       "</table>\n",
       "</div>"
      ],
      "text/plain": [
       "        RECORD_TIME\n",
       "0  2021-09-15 03:00\n",
       "1  2021-09-15 02:30"
      ]
     },
     "execution_count": 3,
     "metadata": {},
     "output_type": "execute_result"
    }
   ],
   "source": [
    "timestamps"
   ]
  },
  {
   "cell_type": "code",
   "execution_count": 4,
   "id": "alternate-victory",
   "metadata": {
    "execution": {
     "iopub.execute_input": "2021-09-15T01:00:08.215294Z",
     "iopub.status.busy": "2021-09-15T01:00:08.212921Z",
     "iopub.status.idle": "2021-09-15T01:00:08.652789Z",
     "shell.execute_reply": "2021-09-15T01:00:08.653986Z"
    },
    "papermill": {
     "duration": 0.470407,
     "end_time": "2021-09-15T01:00:08.654380",
     "exception": false,
     "start_time": "2021-09-15T01:00:08.183973",
     "status": "completed"
    },
    "tags": []
   },
   "outputs": [],
   "source": [
    "df = pd.read_sql(\"select * from EBAY_TOP_BERLIN where record_time in (select distinct record_time from EBAY_TOP_BERLIN order by record_time desc limit 2)\", sqlite3.connect(\"UsedObjects.db\"))"
   ]
  },
  {
   "cell_type": "code",
   "execution_count": 5,
   "id": "popular-active",
   "metadata": {
    "execution": {
     "iopub.execute_input": "2021-09-15T01:00:08.737736Z",
     "iopub.status.busy": "2021-09-15T01:00:08.726427Z",
     "iopub.status.idle": "2021-09-15T01:00:08.753773Z",
     "shell.execute_reply": "2021-09-15T01:00:08.755229Z"
    },
    "papermill": {
     "duration": 0.072418,
     "end_time": "2021-09-15T01:00:08.755674",
     "exception": false,
     "start_time": "2021-09-15T01:00:08.683256",
     "status": "completed"
    },
    "tags": []
   },
   "outputs": [],
   "source": [
    "df_pivot = df.pivot_table(index=\"PRODUCT\", columns = \"RECORD_TIME\", values = \"LISTING_COUNT\")"
   ]
  },
  {
   "cell_type": "code",
   "execution_count": 6,
   "id": "union-huntington",
   "metadata": {
    "execution": {
     "iopub.execute_input": "2021-09-15T01:00:08.812694Z",
     "iopub.status.busy": "2021-09-15T01:00:08.810462Z",
     "iopub.status.idle": "2021-09-15T01:00:08.816005Z",
     "shell.execute_reply": "2021-09-15T01:00:08.817348Z"
    },
    "papermill": {
     "duration": 0.040919,
     "end_time": "2021-09-15T01:00:08.817777",
     "exception": false,
     "start_time": "2021-09-15T01:00:08.776858",
     "status": "completed"
    },
    "tags": []
   },
   "outputs": [],
   "source": [
    "df_pivot.columns = [\"stamp_1\", \"stamp_2\"]\n",
    "df_pivot_diff = df_pivot.diff(axis=1)"
   ]
  },
  {
   "cell_type": "code",
   "execution_count": 7,
   "id": "fifth-motion",
   "metadata": {
    "execution": {
     "iopub.execute_input": "2021-09-15T01:00:08.872891Z",
     "iopub.status.busy": "2021-09-15T01:00:08.870162Z",
     "iopub.status.idle": "2021-09-15T01:00:10.387327Z",
     "shell.execute_reply": "2021-09-15T01:00:10.388622Z"
    },
    "papermill": {
     "duration": 1.551125,
     "end_time": "2021-09-15T01:00:10.389041",
     "exception": false,
     "start_time": "2021-09-15T01:00:08.837916",
     "status": "completed"
    },
    "tags": []
   },
   "outputs": [
    {
     "data": {
      "text/plain": [
       "<AxesSubplot:ylabel='PRODUCT'>"
      ]
     },
     "execution_count": 7,
     "metadata": {},
     "output_type": "execute_result"
    },
    {
     "data": {
      "image/png": "[encoded data removed]",
      "text/plain": [
       "<Figure size 432x288 with 1 Axes>"
      ]
     },
     "metadata": {
      "needs_background": "light"
     },
     "output_type": "display_data"
    }
   ],
   "source": [
    "df_pivot_diff.sort_values(\"stamp_2\", ascending = False)[\"stamp_2\"].head(10).plot.barh()"
   ]
  },
  {
   "cell_type": "code",
   "execution_count": null,
   "id": "extra-executive",
   "metadata": {
    "papermill": {
     "duration": 0.02247,
     "end_time": "2021-09-15T01:00:10.436450",
     "exception": false,
     "start_time": "2021-09-15T01:00:10.413980",
     "status": "completed"
    },
    "tags": []
   },
   "outputs": [],
   "source": []
  }
 ],
 "metadata": {
  "kernelspec": {
   "display_name": "Python 3",
   "language": "python",
   "name": "python3"
  },
  "language_info": {
   "codemirror_mode": {
    "name": "ipython",
    "version": 3
   },
   "file_extension": ".py",
   "mimetype": "text/x-python",
   "name": "python",
   "nbconvert_exporter": "python",
   "pygments_lexer": "ipython3",
   "version": "3.9.5"
  },
  "papermill": {
   "default_parameters": {},
   "duration": 6.602517,
   "end_time": "2021-09-15T01:00:11.079554",
   "environment_variables": {},
   "exception": null,
   "input_path": "eBay_Overview.ipynb",
   "output_path": "eBay_Overview.ipynb",
   "parameters": {},
   "start_time": "2021-09-15T01:00:04.477037",
   "version": "2.3.3"
  }
 },
 "nbformat": 4,
 "nbformat_minor": 5
}