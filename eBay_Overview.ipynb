{
 "cells": [
  {
   "cell_type": "code",
   "execution_count": 1,
   "id": "reverse-picking",
   "metadata": {
    "execution": {
     "iopub.execute_input": "2021-08-29T05:00:07.453895Z",
     "iopub.status.busy": "2021-08-29T05:00:07.451884Z",
     "iopub.status.idle": "2021-08-29T05:00:08.258378Z",
     "shell.execute_reply": "2021-08-29T05:00:08.259616Z"
    },
    "papermill": {
     "duration": 0.859148,
     "end_time": "2021-08-29T05:00:08.260277",
     "exception": false,
     "start_time": "2021-08-29T05:00:07.401129",
     "status": "completed"
    },
    "tags": []
   },
   "outputs": [],
   "source": [
    "import pandas as pd\n",
    "import sqlite3"
   ]
  },
  {
   "cell_type": "code",
   "execution_count": 2,
   "id": "innovative-syndrome",
   "metadata": {
    "execution": {
     "iopub.execute_input": "2021-08-29T05:00:08.311192Z",
     "iopub.status.busy": "2021-08-29T05:00:08.309352Z",
     "iopub.status.idle": "2021-08-29T05:00:08.465167Z",
     "shell.execute_reply": "2021-08-29T05:00:08.466437Z"
    },
    "papermill": {
     "duration": 0.185537,
     "end_time": "2021-08-29T05:00:08.466834",
     "exception": false,
     "start_time": "2021-08-29T05:00:08.281297",
     "status": "completed"
    },
    "tags": []
   },
   "outputs": [],
   "source": [
    "timestamps = pd.read_sql(\"select distinct record_time from EBAY_TOP_BERLIN order by record_time desc limit 2\", sqlite3.connect(\"UsedObjects.db\"))"
   ]
  },
  {
   "cell_type": "code",
   "execution_count": 3,
   "id": "periodic-identification",
   "metadata": {
    "execution": {
     "iopub.execute_input": "2021-08-29T05:00:08.530956Z",
     "iopub.status.busy": "2021-08-29T05:00:08.528966Z",
     "iopub.status.idle": "2021-08-29T05:00:08.548764Z",
     "shell.execute_reply": "2021-08-29T05:00:08.549974Z"
    },
    "papermill": {
     "duration": 0.06417,
     "end_time": "2021-08-29T05:00:08.550365",
     "exception": false,
     "start_time": "2021-08-29T05:00:08.486195",
     "status": "completed"
    },
    "tags": []
   },
   "outputs": [
    {
     "data": {
      "text/html": [
       "<div>\n",
       "<style scoped>\n",
       "    .dataframe tbody tr th:only-of-type {\n",
       "        vertical-align: middle;\n",
       "    }\n",
       "\n",
       "    .dataframe tbody tr th {\n",
       "        vertical-align: top;\n",
       "    }\n",
       "\n",
       "    .dataframe thead th {\n",
       "        text-align: right;\n",
       "    }\n",
       "</style>\n",
       "<table border=\"1\" class=\"dataframe\">\n",
       "  <thead>\n",
       "    <tr style=\"text-align: right;\">\n",
       "      <th></th>\n",
       "      <th>RECORD_TIME</th>\n",
       "    </tr>\n",
       "  </thead>\n",
       "  <tbody>\n",
       "    <tr>\n",
       "      <th>0</th>\n",
       "      <td>2021-08-29 07:00</td>\n",
       "    </tr>\n",
       "    <tr>\n",
       "      <th>1</th>\n",
       "      <td>2021-08-29 06:30</td>\n",
       "    </tr>\n",
       "  </tbody>\n",
       "</table>\n",
       "</div>"
      ],
      "text/plain": [
       "        RECORD_TIME\n",
       "0  2021-08-29 07:00\n",
       "1  2021-08-29 06:30"
      ]
     },
     "execution_count": 3,
     "metadata": {},
     "output_type": "execute_result"
    }
   ],
   "source": [
    "timestamps"
   ]
  },
  {
   "cell_type": "code",
   "execution_count": 4,
   "id": "alternate-victory",
   "metadata": {
    "execution": {
     "iopub.execute_input": "2021-08-29T05:00:08.601658Z",
     "iopub.status.busy": "2021-08-29T05:00:08.599758Z",
     "iopub.status.idle": "2021-08-29T05:00:08.835207Z",
     "shell.execute_reply": "2021-08-29T05:00:08.836484Z"
    },
    "papermill": {
     "duration": 0.265416,
     "end_time": "2021-08-29T05:00:08.836905",
     "exception": false,
     "start_time": "2021-08-29T05:00:08.571489",
     "status": "completed"
    },
    "tags": []
   },
   "outputs": [],
   "source": [
    "df = pd.read_sql(\"select * from EBAY_TOP_BERLIN where record_time in (select distinct record_time from EBAY_TOP_BERLIN order by record_time desc limit 2)\", sqlite3.connect(\"UsedObjects.db\"))"
   ]
  },
  {
   "cell_type": "code",
   "execution_count": 5,
   "id": "popular-active",
   "metadata": {
    "execution": {
     "iopub.execute_input": "2021-08-29T05:00:08.912500Z",
     "iopub.status.busy": "2021-08-29T05:00:08.904842Z",
     "iopub.status.idle": "2021-08-29T05:00:08.933051Z",
     "shell.execute_reply": "2021-08-29T05:00:08.934341Z"
    },
    "papermill": {
     "duration": 0.075139,
     "end_time": "2021-08-29T05:00:08.934759",
     "exception": false,
     "start_time": "2021-08-29T05:00:08.859620",
     "status": "completed"
    },
    "tags": []
   },
   "outputs": [],
   "source": [
    "df_pivot = df.pivot_table(index=\"PRODUCT\", columns = \"RECORD_TIME\", values = \"LISTING_COUNT\")"
   ]
  },
  {
   "cell_type": "code",
   "execution_count": 6,
   "id": "union-huntington",
   "metadata": {
    "execution": {
     "iopub.execute_input": "2021-08-29T05:00:08.990248Z",
     "iopub.status.busy": "2021-08-29T05:00:08.988177Z",
     "iopub.status.idle": "2021-08-29T05:00:08.993389Z",
     "shell.execute_reply": "2021-08-29T05:00:08.994648Z"
    },
    "papermill": {
     "duration": 0.040186,
     "end_time": "2021-08-29T05:00:08.995068",
     "exception": false,
     "start_time": "2021-08-29T05:00:08.954882",
     "status": "completed"
    },
    "tags": []
   },
   "outputs": [],
   "source": [
    "df_pivot.columns = [\"stamp_1\", \"stamp_2\"]\n",
    "df_pivot_diff = df_pivot.diff(axis=1)"
   ]
  },
  {
   "cell_type": "code",
   "execution_count": 7,
   "id": "fifth-motion",
   "metadata": {
    "execution": {
     "iopub.execute_input": "2021-08-29T05:00:09.049111Z",
     "iopub.status.busy": "2021-08-29T05:00:09.046530Z",
     "iopub.status.idle": "2021-08-29T05:00:10.530818Z",
     "shell.execute_reply": "2021-08-29T05:00:10.532084Z"
    },
    "papermill": {
     "duration": 1.517309,
     "end_time": "2021-08-29T05:00:10.532721",
     "exception": false,
     "start_time": "2021-08-29T05:00:09.015412",
     "status": "completed"
    },
    "tags": []
   },
   "outputs": [
    {
     "data": {
      "text/plain": [
       "<AxesSubplot:ylabel='PRODUCT'>"
      ]
     },
     "execution_count": 7,
     "metadata": {},
     "output_type": "execute_result"
    },
    {
     "data": {
      "image/png": "[encoded data removed]",
      "text/plain": [
       "<Figure size 432x288 with 1 Axes>"
      ]
     },
     "metadata": {
      "needs_background": "light"
     },
     "output_type": "display_data"
    }
   ],
   "source": [
    "df_pivot_diff.sort_values(\"stamp_2\", ascending = False)[\"stamp_2\"].head(10).plot.barh()"
   ]
  },
  {
   "cell_type": "code",
   "execution_count": null,
   "id": "extra-executive",
   "metadata": {
    "papermill": {
     "duration": 0.022183,
     "end_time": "2021-08-29T05:00:10.579365",
     "exception": false,
     "start_time": "2021-08-29T05:00:10.557182",
     "status": "completed"
    },
    "tags": []
   },
   "outputs": [],
   "source": []
  }
 ],
 "metadata": {
  "kernelspec": {
   "display_name": "Python 3",
   "language": "python",
   "name": "python3"
  },
  "language_info": {
   "codemirror_mode": {
    "name": "ipython",
    "version": 3
   },
   "file_extension": ".py",
   "mimetype": "text/x-python",
   "name": "python",
   "nbconvert_exporter": "python",
   "pygments_lexer": "ipython3",
   "version": "3.9.5"
  },
  "papermill": {
   "default_parameters": {},
   "duration": 6.821378,
   "end_time": "2021-08-29T05:00:11.810819",
   "environment_variables": {},
   "exception": null,
   "input_path": "eBay_Overview.ipynb",
   "output_path": "eBay_Overview.ipynb",
   "parameters": {},
   "start_time": "2021-08-29T05:00:04.989441",
   "version": "2.3.3"
  }
 },
 "nbformat": 4,
 "nbformat_minor": 5
}