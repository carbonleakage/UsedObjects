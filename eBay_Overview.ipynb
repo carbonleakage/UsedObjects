{
 "cells": [
  {
   "cell_type": "code",
   "execution_count": 1,
   "id": "reverse-picking",
   "metadata": {
    "execution": {
     "iopub.execute_input": "2021-10-22T11:00:06.942513Z",
     "iopub.status.busy": "2021-10-22T11:00:06.940508Z",
     "iopub.status.idle": "2021-10-22T11:00:07.745279Z",
     "shell.execute_reply": "2021-10-22T11:00:07.746539Z"
    },
    "papermill": {
     "duration": 0.854974,
     "end_time": "2021-10-22T11:00:07.747156",
     "exception": false,
     "start_time": "2021-10-22T11:00:06.892182",
     "status": "completed"
    },
    "tags": []
   },
   "outputs": [],
   "source": [
    "import pandas as pd\n",
    "import sqlite3"
   ]
  },
  {
   "cell_type": "code",
   "execution_count": 2,
   "id": "innovative-syndrome",
   "metadata": {
    "execution": {
     "iopub.execute_input": "2021-10-22T11:00:07.801018Z",
     "iopub.status.busy": "2021-10-22T11:00:07.798631Z",
     "iopub.status.idle": "2021-10-22T11:00:08.414866Z",
     "shell.execute_reply": "2021-10-22T11:00:08.416073Z"
    },
    "papermill": {
     "duration": 0.646259,
     "end_time": "2021-10-22T11:00:08.416465",
     "exception": false,
     "start_time": "2021-10-22T11:00:07.770206",
     "status": "completed"
    },
    "tags": []
   },
   "outputs": [],
   "source": [
    "timestamps = pd.read_sql(\"select distinct record_time from EBAY_TOP_BERLIN order by record_time desc limit 2\", sqlite3.connect(\"UsedObjects.db\"))"
   ]
  },
  {
   "cell_type": "code",
   "execution_count": 3,
   "id": "periodic-identification",
   "metadata": {
    "execution": {
     "iopub.execute_input": "2021-10-22T11:00:08.491784Z",
     "iopub.status.busy": "2021-10-22T11:00:08.489755Z",
     "iopub.status.idle": "2021-10-22T11:00:08.509737Z",
     "shell.execute_reply": "2021-10-22T11:00:08.511057Z"
    },
    "papermill": {
     "duration": 0.069074,
     "end_time": "2021-10-22T11:00:08.511467",
     "exception": false,
     "start_time": "2021-10-22T11:00:08.442393",
     "status": "completed"
    },
    "tags": []
   },
   "outputs": [
    {
     "data": {
      "text/html": [
       "<div>\n",
       "<style scoped>\n",
       "    .dataframe tbody tr th:only-of-type {\n",
       "        vertical-align: middle;\n",
       "    }\n",
       "\n",
       "    .dataframe tbody tr th {\n",
       "        vertical-align: top;\n",
       "    }\n",
       "\n",
       "    .dataframe thead th {\n",
       "        text-align: right;\n",
       "    }\n",
       "</style>\n",
       "<table border=\"1\" class=\"dataframe\">\n",
       "  <thead>\n",
       "    <tr style=\"text-align: right;\">\n",
       "      <th></th>\n",
       "      <th>RECORD_TIME</th>\n",
       "    </tr>\n",
       "  </thead>\n",
       "  <tbody>\n",
       "    <tr>\n",
       "      <th>0</th>\n",
       "      <td>2021-10-22 13:00</td>\n",
       "    </tr>\n",
       "    <tr>\n",
       "      <th>1</th>\n",
       "      <td>2021-10-22 12:30</td>\n",
       "    </tr>\n",
       "  </tbody>\n",
       "</table>\n",
       "</div>"
      ],
      "text/plain": [
       "        RECORD_TIME\n",
       "0  2021-10-22 13:00\n",
       "1  2021-10-22 12:30"
      ]
     },
     "execution_count": 3,
     "metadata": {},
     "output_type": "execute_result"
    }
   ],
   "source": [
    "timestamps"
   ]
  },
  {
   "cell_type": "code",
   "execution_count": 4,
   "id": "alternate-victory",
   "metadata": {
    "execution": {
     "iopub.execute_input": "2021-10-22T11:00:08.562773Z",
     "iopub.status.busy": "2021-10-22T11:00:08.560525Z",
     "iopub.status.idle": "2021-10-22T11:00:09.447471Z",
     "shell.execute_reply": "2021-10-22T11:00:09.446167Z"
    },
    "papermill": {
     "duration": 0.915493,
     "end_time": "2021-10-22T11:00:09.447807",
     "exception": false,
     "start_time": "2021-10-22T11:00:08.532314",
     "status": "completed"
    },
    "tags": []
   },
   "outputs": [],
   "source": [
    "df = pd.read_sql(\"select * from EBAY_TOP_BERLIN where record_time in (select distinct record_time from EBAY_TOP_BERLIN order by record_time desc limit 2)\", sqlite3.connect(\"UsedObjects.db\"))"
   ]
  },
  {
   "cell_type": "code",
   "execution_count": 5,
   "id": "popular-active",
   "metadata": {
    "execution": {
     "iopub.execute_input": "2021-10-22T11:00:09.518816Z",
     "iopub.status.busy": "2021-10-22T11:00:09.506140Z",
     "iopub.status.idle": "2021-10-22T11:00:09.534484Z",
     "shell.execute_reply": "2021-10-22T11:00:09.535698Z"
    },
    "papermill": {
     "duration": 0.067771,
     "end_time": "2021-10-22T11:00:09.536089",
     "exception": false,
     "start_time": "2021-10-22T11:00:09.468318",
     "status": "completed"
    },
    "tags": []
   },
   "outputs": [],
   "source": [
    "df_pivot = df.pivot_table(index=\"PRODUCT\", columns = \"RECORD_TIME\", values = \"LISTING_COUNT\")"
   ]
  },
  {
   "cell_type": "code",
   "execution_count": 6,
   "id": "union-huntington",
   "metadata": {
    "execution": {
     "iopub.execute_input": "2021-10-22T11:00:09.591991Z",
     "iopub.status.busy": "2021-10-22T11:00:09.589937Z",
     "iopub.status.idle": "2021-10-22T11:00:09.596597Z",
     "shell.execute_reply": "2021-10-22T11:00:09.595227Z"
    },
    "papermill": {
     "duration": 0.040157,
     "end_time": "2021-10-22T11:00:09.596999",
     "exception": false,
     "start_time": "2021-10-22T11:00:09.556842",
     "status": "completed"
    },
    "tags": []
   },
   "outputs": [],
   "source": [
    "df_pivot.columns = [\"stamp_1\", \"stamp_2\"]\n",
    "df_pivot_diff = df_pivot.diff(axis=1)"
   ]
  },
  {
   "cell_type": "code",
   "execution_count": 7,
   "id": "fifth-motion",
   "metadata": {
    "execution": {
     "iopub.execute_input": "2021-10-22T11:00:09.651585Z",
     "iopub.status.busy": "2021-10-22T11:00:09.649192Z",
     "iopub.status.idle": "2021-10-22T11:00:11.170315Z",
     "shell.execute_reply": "2021-10-22T11:00:11.171616Z"
    },
    "papermill": {
     "duration": 1.553699,
     "end_time": "2021-10-22T11:00:11.172028",
     "exception": false,
     "start_time": "2021-10-22T11:00:09.618329",
     "status": "completed"
    },
    "tags": []
   },
   "outputs": [
    {
     "data": {
      "text/plain": [
       "<AxesSubplot:ylabel='PRODUCT'>"
      ]
     },
     "execution_count": 7,
     "metadata": {},
     "output_type": "execute_result"
    },
    {
     "data": {
      "image/png": "[encoded data removed]",
      "text/plain": [
       "<Figure size 432x288 with 1 Axes>"
      ]
     },
     "metadata": {
      "needs_background": "light"
     },
     "output_type": "display_data"
    }
   ],
   "source": [
    "df_pivot_diff.sort_values(\"stamp_2\", ascending = False)[\"stamp_2\"].head(10).plot.barh()"
   ]
  },
  {
   "cell_type": "code",
   "execution_count": null,
   "id": "extra-executive",
   "metadata": {
    "papermill": {
     "duration": 0.022141,
     "end_time": "2021-10-22T11:00:11.218948",
     "exception": false,
     "start_time": "2021-10-22T11:00:11.196807",
     "status": "completed"
    },
    "tags": []
   },
   "outputs": [],
   "source": []
  }
 ],
 "metadata": {
  "kernelspec": {
   "display_name": "Python 3",
   "language": "python",
   "name": "python3"
  },
  "language_info": {
   "codemirror_mode": {
    "name": "ipython",
    "version": 3
   },
   "file_extension": ".py",
   "mimetype": "text/x-python",
   "name": "python",
   "nbconvert_exporter": "python",
   "pygments_lexer": "ipython3",
   "version": "3.9.5"
  },
  "papermill": {
   "default_parameters": {},
   "duration": 7.372648,
   "end_time": "2021-10-22T11:00:11.861902",
   "environment_variables": {},
   "exception": null,
   "input_path": "eBay_Overview.ipynb",
   "output_path": "eBay_Overview.ipynb",
   "parameters": {},
   "start_time": "2021-10-22T11:00:04.489254",
   "version": "2.3.3"
  }
 },
 "nbformat": 4,
 "nbformat_minor": 5
}