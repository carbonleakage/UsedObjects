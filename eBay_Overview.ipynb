{
 "cells": [
  {
   "cell_type": "code",
   "execution_count": 1,
   "id": "reverse-picking",
   "metadata": {
    "execution": {
     "iopub.execute_input": "2021-09-19T22:30:07.248613Z",
     "iopub.status.busy": "2021-09-19T22:30:07.246624Z",
     "iopub.status.idle": "2021-09-19T22:30:08.048708Z",
     "shell.execute_reply": "2021-09-19T22:30:08.050011Z"
    },
    "papermill": {
     "duration": 0.854234,
     "end_time": "2021-09-19T22:30:08.050656",
     "exception": false,
     "start_time": "2021-09-19T22:30:07.196422",
     "status": "completed"
    },
    "tags": []
   },
   "outputs": [],
   "source": [
    "import pandas as pd\n",
    "import sqlite3"
   ]
  },
  {
   "cell_type": "code",
   "execution_count": 2,
   "id": "innovative-syndrome",
   "metadata": {
    "execution": {
     "iopub.execute_input": "2021-09-19T22:30:08.101950Z",
     "iopub.status.busy": "2021-09-19T22:30:08.099909Z",
     "iopub.status.idle": "2021-09-19T22:30:08.426946Z",
     "shell.execute_reply": "2021-09-19T22:30:08.428177Z"
    },
    "papermill": {
     "duration": 0.357353,
     "end_time": "2021-09-19T22:30:08.428573",
     "exception": false,
     "start_time": "2021-09-19T22:30:08.071220",
     "status": "completed"
    },
    "tags": []
   },
   "outputs": [],
   "source": [
    "timestamps = pd.read_sql(\"select distinct record_time from EBAY_TOP_BERLIN order by record_time desc limit 2\", sqlite3.connect(\"UsedObjects.db\"))"
   ]
  },
  {
   "cell_type": "code",
   "execution_count": 3,
   "id": "periodic-identification",
   "metadata": {
    "execution": {
     "iopub.execute_input": "2021-09-19T22:30:08.500493Z",
     "iopub.status.busy": "2021-09-19T22:30:08.495487Z",
     "iopub.status.idle": "2021-09-19T22:30:08.515718Z",
     "shell.execute_reply": "2021-09-19T22:30:08.517094Z"
    },
    "papermill": {
     "duration": 0.066227,
     "end_time": "2021-09-19T22:30:08.517579",
     "exception": false,
     "start_time": "2021-09-19T22:30:08.451352",
     "status": "completed"
    },
    "tags": []
   },
   "outputs": [
    {
     "data": {
      "text/html": [
       "<div>\n",
       "<style scoped>\n",
       "    .dataframe tbody tr th:only-of-type {\n",
       "        vertical-align: middle;\n",
       "    }\n",
       "\n",
       "    .dataframe tbody tr th {\n",
       "        vertical-align: top;\n",
       "    }\n",
       "\n",
       "    .dataframe thead th {\n",
       "        text-align: right;\n",
       "    }\n",
       "</style>\n",
       "<table border=\"1\" class=\"dataframe\">\n",
       "  <thead>\n",
       "    <tr style=\"text-align: right;\">\n",
       "      <th></th>\n",
       "      <th>RECORD_TIME</th>\n",
       "    </tr>\n",
       "  </thead>\n",
       "  <tbody>\n",
       "    <tr>\n",
       "      <th>0</th>\n",
       "      <td>2021-09-20 00:30</td>\n",
       "    </tr>\n",
       "    <tr>\n",
       "      <th>1</th>\n",
       "      <td>2021-09-20 00:00</td>\n",
       "    </tr>\n",
       "  </tbody>\n",
       "</table>\n",
       "</div>"
      ],
      "text/plain": [
       "        RECORD_TIME\n",
       "0  2021-09-20 00:30\n",
       "1  2021-09-20 00:00"
      ]
     },
     "execution_count": 3,
     "metadata": {},
     "output_type": "execute_result"
    }
   ],
   "source": [
    "timestamps"
   ]
  },
  {
   "cell_type": "code",
   "execution_count": 4,
   "id": "alternate-victory",
   "metadata": {
    "execution": {
     "iopub.execute_input": "2021-09-19T22:30:08.569455Z",
     "iopub.status.busy": "2021-09-19T22:30:08.567625Z",
     "iopub.status.idle": "2021-09-19T22:30:09.047225Z",
     "shell.execute_reply": "2021-09-19T22:30:09.048450Z"
    },
    "papermill": {
     "duration": 0.50972,
     "end_time": "2021-09-19T22:30:09.048841",
     "exception": false,
     "start_time": "2021-09-19T22:30:08.539121",
     "status": "completed"
    },
    "tags": []
   },
   "outputs": [],
   "source": [
    "df = pd.read_sql(\"select * from EBAY_TOP_BERLIN where record_time in (select distinct record_time from EBAY_TOP_BERLIN order by record_time desc limit 2)\", sqlite3.connect(\"UsedObjects.db\"))"
   ]
  },
  {
   "cell_type": "code",
   "execution_count": 5,
   "id": "popular-active",
   "metadata": {
    "execution": {
     "iopub.execute_input": "2021-09-19T22:30:09.150098Z",
     "iopub.status.busy": "2021-09-19T22:30:09.139345Z",
     "iopub.status.idle": "2021-09-19T22:30:09.166575Z",
     "shell.execute_reply": "2021-09-19T22:30:09.167863Z"
    },
    "papermill": {
     "duration": 0.075152,
     "end_time": "2021-09-19T22:30:09.168263",
     "exception": false,
     "start_time": "2021-09-19T22:30:09.093111",
     "status": "completed"
    },
    "tags": []
   },
   "outputs": [],
   "source": [
    "df_pivot = df.pivot_table(index=\"PRODUCT\", columns = \"RECORD_TIME\", values = \"LISTING_COUNT\")"
   ]
  },
  {
   "cell_type": "code",
   "execution_count": 6,
   "id": "union-huntington",
   "metadata": {
    "execution": {
     "iopub.execute_input": "2021-09-19T22:30:09.226561Z",
     "iopub.status.busy": "2021-09-19T22:30:09.224306Z",
     "iopub.status.idle": "2021-09-19T22:30:09.230149Z",
     "shell.execute_reply": "2021-09-19T22:30:09.231684Z"
    },
    "papermill": {
     "duration": 0.042132,
     "end_time": "2021-09-19T22:30:09.232165",
     "exception": false,
     "start_time": "2021-09-19T22:30:09.190033",
     "status": "completed"
    },
    "tags": []
   },
   "outputs": [],
   "source": [
    "df_pivot.columns = [\"stamp_1\", \"stamp_2\"]\n",
    "df_pivot_diff = df_pivot.diff(axis=1)"
   ]
  },
  {
   "cell_type": "code",
   "execution_count": 7,
   "id": "fifth-motion",
   "metadata": {
    "execution": {
     "iopub.execute_input": "2021-09-19T22:30:09.286696Z",
     "iopub.status.busy": "2021-09-19T22:30:09.284546Z",
     "iopub.status.idle": "2021-09-19T22:30:10.796966Z",
     "shell.execute_reply": "2021-09-19T22:30:10.798239Z"
    },
    "papermill": {
     "duration": 1.54529,
     "end_time": "2021-09-19T22:30:10.798656",
     "exception": false,
     "start_time": "2021-09-19T22:30:09.253366",
     "status": "completed"
    },
    "tags": []
   },
   "outputs": [
    {
     "data": {
      "text/plain": [
       "<AxesSubplot:ylabel='PRODUCT'>"
      ]
     },
     "execution_count": 7,
     "metadata": {},
     "output_type": "execute_result"
    },
    {
     "data": {
      "image/png": "[encoded data removed]",
      "text/plain": [
       "<Figure size 432x288 with 1 Axes>"
      ]
     },
     "metadata": {
      "needs_background": "light"
     },
     "output_type": "display_data"
    }
   ],
   "source": [
    "df_pivot_diff.sort_values(\"stamp_2\", ascending = False)[\"stamp_2\"].head(10).plot.barh()"
   ]
  },
  {
   "cell_type": "code",
   "execution_count": null,
   "id": "extra-executive",
   "metadata": {
    "papermill": {
     "duration": 0.022588,
     "end_time": "2021-09-19T22:30:10.847688",
     "exception": false,
     "start_time": "2021-09-19T22:30:10.825100",
     "status": "completed"
    },
    "tags": []
   },
   "outputs": [],
   "source": []
  }
 ],
 "metadata": {
  "kernelspec": {
   "display_name": "Python 3",
   "language": "python",
   "name": "python3"
  },
  "language_info": {
   "codemirror_mode": {
    "name": "ipython",
    "version": 3
   },
   "file_extension": ".py",
   "mimetype": "text/x-python",
   "name": "python",
   "nbconvert_exporter": "python",
   "pygments_lexer": "ipython3",
   "version": "3.9.5"
  },
  "papermill": {
   "default_parameters": {},
   "duration": 6.693604,
   "end_time": "2021-09-19T22:30:11.488459",
   "environment_variables": {},
   "exception": null,
   "input_path": "eBay_Overview.ipynb",
   "output_path": "eBay_Overview.ipynb",
   "parameters": {},
   "start_time": "2021-09-19T22:30:04.794855",
   "version": "2.3.3"
  }
 },
 "nbformat": 4,
 "nbformat_minor": 5
}