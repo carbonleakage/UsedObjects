{
 "cells": [
  {
   "cell_type": "code",
   "execution_count": 1,
   "id": "reverse-picking",
   "metadata": {
    "execution": {
     "iopub.execute_input": "2021-09-18T01:30:06.576797Z",
     "iopub.status.busy": "2021-09-18T01:30:06.574857Z",
     "iopub.status.idle": "2021-09-18T01:30:07.374468Z",
     "shell.execute_reply": "2021-09-18T01:30:07.375970Z"
    },
    "papermill": {
     "duration": 0.852329,
     "end_time": "2021-09-18T01:30:07.376761",
     "exception": false,
     "start_time": "2021-09-18T01:30:06.524432",
     "status": "completed"
    },
    "tags": []
   },
   "outputs": [],
   "source": [
    "import pandas as pd\n",
    "import sqlite3"
   ]
  },
  {
   "cell_type": "code",
   "execution_count": 2,
   "id": "innovative-syndrome",
   "metadata": {
    "execution": {
     "iopub.execute_input": "2021-09-18T01:30:07.428860Z",
     "iopub.status.busy": "2021-09-18T01:30:07.426422Z",
     "iopub.status.idle": "2021-09-18T01:30:07.735654Z",
     "shell.execute_reply": "2021-09-18T01:30:07.737088Z"
    },
    "papermill": {
     "duration": 0.339333,
     "end_time": "2021-09-18T01:30:07.737528",
     "exception": false,
     "start_time": "2021-09-18T01:30:07.398195",
     "status": "completed"
    },
    "tags": []
   },
   "outputs": [],
   "source": [
    "timestamps = pd.read_sql(\"select distinct record_time from EBAY_TOP_BERLIN order by record_time desc limit 2\", sqlite3.connect(\"UsedObjects.db\"))"
   ]
  },
  {
   "cell_type": "code",
   "execution_count": 3,
   "id": "periodic-identification",
   "metadata": {
    "execution": {
     "iopub.execute_input": "2021-09-18T01:30:07.804651Z",
     "iopub.status.busy": "2021-09-18T01:30:07.802540Z",
     "iopub.status.idle": "2021-09-18T01:30:07.822492Z",
     "shell.execute_reply": "2021-09-18T01:30:07.823972Z"
    },
    "papermill": {
     "duration": 0.067075,
     "end_time": "2021-09-18T01:30:07.824414",
     "exception": false,
     "start_time": "2021-09-18T01:30:07.757339",
     "status": "completed"
    },
    "tags": []
   },
   "outputs": [
    {
     "data": {
      "text/html": [
       "<div>\n",
       "<style scoped>\n",
       "    .dataframe tbody tr th:only-of-type {\n",
       "        vertical-align: middle;\n",
       "    }\n",
       "\n",
       "    .dataframe tbody tr th {\n",
       "        vertical-align: top;\n",
       "    }\n",
       "\n",
       "    .dataframe thead th {\n",
       "        text-align: right;\n",
       "    }\n",
       "</style>\n",
       "<table border=\"1\" class=\"dataframe\">\n",
       "  <thead>\n",
       "    <tr style=\"text-align: right;\">\n",
       "      <th></th>\n",
       "      <th>RECORD_TIME</th>\n",
       "    </tr>\n",
       "  </thead>\n",
       "  <tbody>\n",
       "    <tr>\n",
       "      <th>0</th>\n",
       "      <td>2021-09-18 03:30</td>\n",
       "    </tr>\n",
       "    <tr>\n",
       "      <th>1</th>\n",
       "      <td>2021-09-18 03:00</td>\n",
       "    </tr>\n",
       "  </tbody>\n",
       "</table>\n",
       "</div>"
      ],
      "text/plain": [
       "        RECORD_TIME\n",
       "0  2021-09-18 03:30\n",
       "1  2021-09-18 03:00"
      ]
     },
     "execution_count": 3,
     "metadata": {},
     "output_type": "execute_result"
    }
   ],
   "source": [
    "timestamps"
   ]
  },
  {
   "cell_type": "code",
   "execution_count": 4,
   "id": "alternate-victory",
   "metadata": {
    "execution": {
     "iopub.execute_input": "2021-09-18T01:30:07.876074Z",
     "iopub.status.busy": "2021-09-18T01:30:07.874112Z",
     "iopub.status.idle": "2021-09-18T01:30:08.328287Z",
     "shell.execute_reply": "2021-09-18T01:30:08.329501Z"
    },
    "papermill": {
     "duration": 0.484197,
     "end_time": "2021-09-18T01:30:08.329898",
     "exception": false,
     "start_time": "2021-09-18T01:30:07.845701",
     "status": "completed"
    },
    "tags": []
   },
   "outputs": [],
   "source": [
    "df = pd.read_sql(\"select * from EBAY_TOP_BERLIN where record_time in (select distinct record_time from EBAY_TOP_BERLIN order by record_time desc limit 2)\", sqlite3.connect(\"UsedObjects.db\"))"
   ]
  },
  {
   "cell_type": "code",
   "execution_count": 5,
   "id": "popular-active",
   "metadata": {
    "execution": {
     "iopub.execute_input": "2021-09-18T01:30:08.409678Z",
     "iopub.status.busy": "2021-09-18T01:30:08.398064Z",
     "iopub.status.idle": "2021-09-18T01:30:08.425473Z",
     "shell.execute_reply": "2021-09-18T01:30:08.426761Z"
    },
    "papermill": {
     "duration": 0.07091,
     "end_time": "2021-09-18T01:30:08.427236",
     "exception": false,
     "start_time": "2021-09-18T01:30:08.356326",
     "status": "completed"
    },
    "tags": []
   },
   "outputs": [],
   "source": [
    "df_pivot = df.pivot_table(index=\"PRODUCT\", columns = \"RECORD_TIME\", values = \"LISTING_COUNT\")"
   ]
  },
  {
   "cell_type": "code",
   "execution_count": 6,
   "id": "union-huntington",
   "metadata": {
    "execution": {
     "iopub.execute_input": "2021-09-18T01:30:08.483526Z",
     "iopub.status.busy": "2021-09-18T01:30:08.481410Z",
     "iopub.status.idle": "2021-09-18T01:30:08.486909Z",
     "shell.execute_reply": "2021-09-18T01:30:08.488165Z"
    },
    "papermill": {
     "duration": 0.040307,
     "end_time": "2021-09-18T01:30:08.488596",
     "exception": false,
     "start_time": "2021-09-18T01:30:08.448289",
     "status": "completed"
    },
    "tags": []
   },
   "outputs": [],
   "source": [
    "df_pivot.columns = [\"stamp_1\", \"stamp_2\"]\n",
    "df_pivot_diff = df_pivot.diff(axis=1)"
   ]
  },
  {
   "cell_type": "code",
   "execution_count": 7,
   "id": "fifth-motion",
   "metadata": {
    "execution": {
     "iopub.execute_input": "2021-09-18T01:30:08.546041Z",
     "iopub.status.busy": "2021-09-18T01:30:08.543411Z",
     "iopub.status.idle": "2021-09-18T01:30:10.026779Z",
     "shell.execute_reply": "2021-09-18T01:30:10.028055Z"
    },
    "papermill": {
     "duration": 1.51689,
     "end_time": "2021-09-18T01:30:10.028485",
     "exception": false,
     "start_time": "2021-09-18T01:30:08.511595",
     "status": "completed"
    },
    "tags": []
   },
   "outputs": [
    {
     "data": {
      "text/plain": [
       "<AxesSubplot:ylabel='PRODUCT'>"
      ]
     },
     "execution_count": 7,
     "metadata": {},
     "output_type": "execute_result"
    },
    {
     "data": {
      "image/png": "[encoded data removed]",
      "text/plain": [
       "<Figure size 432x288 with 1 Axes>"
      ]
     },
     "metadata": {
      "needs_background": "light"
     },
     "output_type": "display_data"
    }
   ],
   "source": [
    "df_pivot_diff.sort_values(\"stamp_2\", ascending = False)[\"stamp_2\"].head(10).plot.barh()"
   ]
  },
  {
   "cell_type": "code",
   "execution_count": null,
   "id": "extra-executive",
   "metadata": {
    "papermill": {
     "duration": 0.022221,
     "end_time": "2021-09-18T01:30:10.074705",
     "exception": false,
     "start_time": "2021-09-18T01:30:10.052484",
     "status": "completed"
    },
    "tags": []
   },
   "outputs": [],
   "source": []
  }
 ],
 "metadata": {
  "kernelspec": {
   "display_name": "Python 3",
   "language": "python",
   "name": "python3"
  },
  "language_info": {
   "codemirror_mode": {
    "name": "ipython",
    "version": 3
   },
   "file_extension": ".py",
   "mimetype": "text/x-python",
   "name": "python",
   "nbconvert_exporter": "python",
   "pygments_lexer": "ipython3",
   "version": "3.9.5"
  },
  "papermill": {
   "default_parameters": {},
   "duration": 6.583998,
   "end_time": "2021-09-18T01:30:10.715724",
   "environment_variables": {},
   "exception": null,
   "input_path": "eBay_Overview.ipynb",
   "output_path": "eBay_Overview.ipynb",
   "parameters": {},
   "start_time": "2021-09-18T01:30:04.131726",
   "version": "2.3.3"
  }
 },
 "nbformat": 4,
 "nbformat_minor": 5
}