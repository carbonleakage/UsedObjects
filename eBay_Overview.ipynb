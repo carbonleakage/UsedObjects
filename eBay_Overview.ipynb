{
 "cells": [
  {
   "cell_type": "code",
   "execution_count": 1,
   "id": "reverse-picking",
   "metadata": {
    "execution": {
     "iopub.execute_input": "2021-12-21T17:30:08.018647Z",
     "iopub.status.busy": "2021-12-21T17:30:08.016112Z",
     "iopub.status.idle": "2021-12-21T17:30:08.991414Z",
     "shell.execute_reply": "2021-12-21T17:30:08.993011Z"
    },
    "papermill": {
     "duration": 1.018535,
     "end_time": "2021-12-21T17:30:08.993762",
     "exception": false,
     "start_time": "2021-12-21T17:30:07.975227",
     "status": "completed"
    },
    "tags": []
   },
   "outputs": [],
   "source": [
    "import pandas as pd\n",
    "import sqlite3"
   ]
  },
  {
   "cell_type": "code",
   "execution_count": 2,
   "id": "innovative-syndrome",
   "metadata": {
    "execution": {
     "iopub.execute_input": "2021-12-21T17:30:09.050506Z",
     "iopub.status.busy": "2021-12-21T17:30:09.047250Z",
     "iopub.status.idle": "2021-12-21T17:30:10.237723Z",
     "shell.execute_reply": "2021-12-21T17:30:10.238963Z"
    },
    "papermill": {
     "duration": 1.224179,
     "end_time": "2021-12-21T17:30:10.239371",
     "exception": false,
     "start_time": "2021-12-21T17:30:09.015192",
     "status": "completed"
    },
    "tags": []
   },
   "outputs": [],
   "source": [
    "timestamps = pd.read_sql(\"select distinct record_time from EBAY_TOP_BERLIN order by record_time desc limit 2\", sqlite3.connect(\"UsedObjects.db\"))"
   ]
  },
  {
   "cell_type": "code",
   "execution_count": 3,
   "id": "periodic-identification",
   "metadata": {
    "execution": {
     "iopub.execute_input": "2021-12-21T17:30:10.310653Z",
     "iopub.status.busy": "2021-12-21T17:30:10.304799Z",
     "iopub.status.idle": "2021-12-21T17:30:10.328926Z",
     "shell.execute_reply": "2021-12-21T17:30:10.327017Z"
    },
    "papermill": {
     "duration": 0.070399,
     "end_time": "2021-12-21T17:30:10.329398",
     "exception": false,
     "start_time": "2021-12-21T17:30:10.258999",
     "status": "completed"
    },
    "tags": []
   },
   "outputs": [
    {
     "data": {
      "text/html": [
       "<div>\n",
       "<style scoped>\n",
       "    .dataframe tbody tr th:only-of-type {\n",
       "        vertical-align: middle;\n",
       "    }\n",
       "\n",
       "    .dataframe tbody tr th {\n",
       "        vertical-align: top;\n",
       "    }\n",
       "\n",
       "    .dataframe thead th {\n",
       "        text-align: right;\n",
       "    }\n",
       "</style>\n",
       "<table border=\"1\" class=\"dataframe\">\n",
       "  <thead>\n",
       "    <tr style=\"text-align: right;\">\n",
       "      <th></th>\n",
       "      <th>RECORD_TIME</th>\n",
       "    </tr>\n",
       "  </thead>\n",
       "  <tbody>\n",
       "    <tr>\n",
       "      <th>0</th>\n",
       "      <td>2021-12-21 18:30</td>\n",
       "    </tr>\n",
       "    <tr>\n",
       "      <th>1</th>\n",
       "      <td>2021-12-21 18:00</td>\n",
       "    </tr>\n",
       "  </tbody>\n",
       "</table>\n",
       "</div>"
      ],
      "text/plain": [
       "        RECORD_TIME\n",
       "0  2021-12-21 18:30\n",
       "1  2021-12-21 18:00"
      ]
     },
     "execution_count": 3,
     "metadata": {},
     "output_type": "execute_result"
    }
   ],
   "source": [
    "timestamps"
   ]
  },
  {
   "cell_type": "code",
   "execution_count": 4,
   "id": "alternate-victory",
   "metadata": {
    "execution": {
     "iopub.execute_input": "2021-12-21T17:30:10.383359Z",
     "iopub.status.busy": "2021-12-21T17:30:10.378376Z",
     "iopub.status.idle": "2021-12-21T17:30:12.042538Z",
     "shell.execute_reply": "2021-12-21T17:30:12.044851Z"
    },
    "papermill": {
     "duration": 1.695002,
     "end_time": "2021-12-21T17:30:12.045717",
     "exception": false,
     "start_time": "2021-12-21T17:30:10.350715",
     "status": "completed"
    },
    "tags": []
   },
   "outputs": [],
   "source": [
    "df = pd.read_sql(\"select * from EBAY_TOP_BERLIN where record_time in (select distinct record_time from EBAY_TOP_BERLIN order by record_time desc limit 2)\", sqlite3.connect(\"UsedObjects.db\"))"
   ]
  },
  {
   "cell_type": "code",
   "execution_count": 5,
   "id": "popular-active",
   "metadata": {
    "execution": {
     "iopub.execute_input": "2021-12-21T17:30:12.123553Z",
     "iopub.status.busy": "2021-12-21T17:30:12.110789Z",
     "iopub.status.idle": "2021-12-21T17:30:12.142506Z",
     "shell.execute_reply": "2021-12-21T17:30:12.143878Z"
    },
    "papermill": {
     "duration": 0.07512,
     "end_time": "2021-12-21T17:30:12.144354",
     "exception": false,
     "start_time": "2021-12-21T17:30:12.069234",
     "status": "completed"
    },
    "tags": []
   },
   "outputs": [],
   "source": [
    "df_pivot = df.pivot_table(index=\"PRODUCT\", columns = \"RECORD_TIME\", values = \"LISTING_COUNT\")"
   ]
  },
  {
   "cell_type": "code",
   "execution_count": 6,
   "id": "union-huntington",
   "metadata": {
    "execution": {
     "iopub.execute_input": "2021-12-21T17:30:12.204162Z",
     "iopub.status.busy": "2021-12-21T17:30:12.201744Z",
     "iopub.status.idle": "2021-12-21T17:30:12.210467Z",
     "shell.execute_reply": "2021-12-21T17:30:12.208550Z"
    },
    "papermill": {
     "duration": 0.046588,
     "end_time": "2021-12-21T17:30:12.210910",
     "exception": false,
     "start_time": "2021-12-21T17:30:12.164322",
     "status": "completed"
    },
    "tags": []
   },
   "outputs": [],
   "source": [
    "df_pivot.columns = [\"stamp_1\", \"stamp_2\"]\n",
    "df_pivot_diff = df_pivot.diff(axis=1)"
   ]
  },
  {
   "cell_type": "code",
   "execution_count": 7,
   "id": "fifth-motion",
   "metadata": {
    "execution": {
     "iopub.execute_input": "2021-12-21T17:30:12.271732Z",
     "iopub.status.busy": "2021-12-21T17:30:12.269266Z",
     "iopub.status.idle": "2021-12-21T17:30:14.278697Z",
     "shell.execute_reply": "2021-12-21T17:30:14.279978Z"
    },
    "papermill": {
     "duration": 2.047813,
     "end_time": "2021-12-21T17:30:14.280402",
     "exception": false,
     "start_time": "2021-12-21T17:30:12.232589",
     "status": "completed"
    },
    "tags": []
   },
   "outputs": [
    {
     "data": {
      "text/plain": [
       "<AxesSubplot:ylabel='PRODUCT'>"
      ]
     },
     "execution_count": 7,
     "metadata": {},
     "output_type": "execute_result"
    },
    {
     "data": {
      "image/png": "[encoded data removed]",
      "text/plain": [
       "<Figure size 432x288 with 1 Axes>"
      ]
     },
     "metadata": {
      "needs_background": "light"
     },
     "output_type": "display_data"
    }
   ],
   "source": [
    "df_pivot_diff.sort_values(\"stamp_2\", ascending = False)[\"stamp_2\"].head(10).plot.barh()"
   ]
  },
  {
   "cell_type": "code",
   "execution_count": null,
   "id": "extra-executive",
   "metadata": {
    "papermill": {
     "duration": 0.022162,
     "end_time": "2021-12-21T17:30:14.327155",
     "exception": false,
     "start_time": "2021-12-21T17:30:14.304993",
     "status": "completed"
    },
    "tags": []
   },
   "outputs": [],
   "source": []
  }
 ],
 "metadata": {
  "kernelspec": {
   "display_name": "Python 3",
   "language": "python",
   "name": "python3"
  },
  "language_info": {
   "codemirror_mode": {
    "name": "ipython",
    "version": 3
   },
   "file_extension": ".py",
   "mimetype": "text/x-python",
   "name": "python",
   "nbconvert_exporter": "python",
   "pygments_lexer": "ipython3",
   "version": "3.9.5"
  },
  "papermill": {
   "default_parameters": {},
   "duration": 9.741063,
   "end_time": "2021-12-21T17:30:14.970313",
   "environment_variables": {},
   "exception": null,
   "input_path": "eBay_Overview.ipynb",
   "output_path": "eBay_Overview.ipynb",
   "parameters": {},
   "start_time": "2021-12-21T17:30:05.229250",
   "version": "2.3.3"
  }
 },
 "nbformat": 4,
 "nbformat_minor": 5
}