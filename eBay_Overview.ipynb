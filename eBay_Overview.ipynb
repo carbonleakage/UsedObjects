{
 "cells": [
  {
   "cell_type": "code",
   "execution_count": 1,
   "id": "reverse-picking",
   "metadata": {
    "execution": {
     "iopub.execute_input": "2021-09-11T14:30:07.865424Z",
     "iopub.status.busy": "2021-09-11T14:30:07.863431Z",
     "iopub.status.idle": "2021-09-11T14:30:08.671803Z",
     "shell.execute_reply": "2021-09-11T14:30:08.670101Z"
    },
    "papermill": {
     "duration": 0.859842,
     "end_time": "2021-09-11T14:30:08.672210",
     "exception": false,
     "start_time": "2021-09-11T14:30:07.812368",
     "status": "completed"
    },
    "tags": []
   },
   "outputs": [],
   "source": [
    "import pandas as pd\n",
    "import sqlite3"
   ]
  },
  {
   "cell_type": "code",
   "execution_count": 2,
   "id": "innovative-syndrome",
   "metadata": {
    "execution": {
     "iopub.execute_input": "2021-09-11T14:30:08.725162Z",
     "iopub.status.busy": "2021-09-11T14:30:08.722942Z",
     "iopub.status.idle": "2021-09-11T14:30:08.991280Z",
     "shell.execute_reply": "2021-09-11T14:30:08.992504Z"
    },
    "papermill": {
     "duration": 0.298184,
     "end_time": "2021-09-11T14:30:08.992898",
     "exception": false,
     "start_time": "2021-09-11T14:30:08.694714",
     "status": "completed"
    },
    "tags": []
   },
   "outputs": [],
   "source": [
    "timestamps = pd.read_sql(\"select distinct record_time from EBAY_TOP_BERLIN order by record_time desc limit 2\", sqlite3.connect(\"UsedObjects.db\"))"
   ]
  },
  {
   "cell_type": "code",
   "execution_count": 3,
   "id": "periodic-identification",
   "metadata": {
    "execution": {
     "iopub.execute_input": "2021-09-11T14:30:09.057871Z",
     "iopub.status.busy": "2021-09-11T14:30:09.055830Z",
     "iopub.status.idle": "2021-09-11T14:30:09.075613Z",
     "shell.execute_reply": "2021-09-11T14:30:09.076755Z"
    },
    "papermill": {
     "duration": 0.063483,
     "end_time": "2021-09-11T14:30:09.077166",
     "exception": false,
     "start_time": "2021-09-11T14:30:09.013683",
     "status": "completed"
    },
    "tags": []
   },
   "outputs": [
    {
     "data": {
      "text/html": [
       "<div>\n",
       "<style scoped>\n",
       "    .dataframe tbody tr th:only-of-type {\n",
       "        vertical-align: middle;\n",
       "    }\n",
       "\n",
       "    .dataframe tbody tr th {\n",
       "        vertical-align: top;\n",
       "    }\n",
       "\n",
       "    .dataframe thead th {\n",
       "        text-align: right;\n",
       "    }\n",
       "</style>\n",
       "<table border=\"1\" class=\"dataframe\">\n",
       "  <thead>\n",
       "    <tr style=\"text-align: right;\">\n",
       "      <th></th>\n",
       "      <th>RECORD_TIME</th>\n",
       "    </tr>\n",
       "  </thead>\n",
       "  <tbody>\n",
       "    <tr>\n",
       "      <th>0</th>\n",
       "      <td>2021-09-11 16:30</td>\n",
       "    </tr>\n",
       "    <tr>\n",
       "      <th>1</th>\n",
       "      <td>2021-09-11 16:00</td>\n",
       "    </tr>\n",
       "  </tbody>\n",
       "</table>\n",
       "</div>"
      ],
      "text/plain": [
       "        RECORD_TIME\n",
       "0  2021-09-11 16:30\n",
       "1  2021-09-11 16:00"
      ]
     },
     "execution_count": 3,
     "metadata": {},
     "output_type": "execute_result"
    }
   ],
   "source": [
    "timestamps"
   ]
  },
  {
   "cell_type": "code",
   "execution_count": 4,
   "id": "alternate-victory",
   "metadata": {
    "execution": {
     "iopub.execute_input": "2021-09-11T14:30:09.131462Z",
     "iopub.status.busy": "2021-09-11T14:30:09.129071Z",
     "iopub.status.idle": "2021-09-11T14:30:09.519171Z",
     "shell.execute_reply": "2021-09-11T14:30:09.520424Z"
    },
    "papermill": {
     "duration": 0.420885,
     "end_time": "2021-09-11T14:30:09.520820",
     "exception": false,
     "start_time": "2021-09-11T14:30:09.099935",
     "status": "completed"
    },
    "tags": []
   },
   "outputs": [],
   "source": [
    "df = pd.read_sql(\"select * from EBAY_TOP_BERLIN where record_time in (select distinct record_time from EBAY_TOP_BERLIN order by record_time desc limit 2)\", sqlite3.connect(\"UsedObjects.db\"))"
   ]
  },
  {
   "cell_type": "code",
   "execution_count": 5,
   "id": "popular-active",
   "metadata": {
    "execution": {
     "iopub.execute_input": "2021-09-11T14:30:09.604239Z",
     "iopub.status.busy": "2021-09-11T14:30:09.591360Z",
     "iopub.status.idle": "2021-09-11T14:30:09.619788Z",
     "shell.execute_reply": "2021-09-11T14:30:09.620924Z"
    },
    "papermill": {
     "duration": 0.071287,
     "end_time": "2021-09-11T14:30:09.621333",
     "exception": false,
     "start_time": "2021-09-11T14:30:09.550046",
     "status": "completed"
    },
    "tags": []
   },
   "outputs": [],
   "source": [
    "df_pivot = df.pivot_table(index=\"PRODUCT\", columns = \"RECORD_TIME\", values = \"LISTING_COUNT\")"
   ]
  },
  {
   "cell_type": "code",
   "execution_count": 6,
   "id": "union-huntington",
   "metadata": {
    "execution": {
     "iopub.execute_input": "2021-09-11T14:30:09.677686Z",
     "iopub.status.busy": "2021-09-11T14:30:09.675609Z",
     "iopub.status.idle": "2021-09-11T14:30:09.680580Z",
     "shell.execute_reply": "2021-09-11T14:30:09.681840Z"
    },
    "papermill": {
     "duration": 0.040126,
     "end_time": "2021-09-11T14:30:09.682252",
     "exception": false,
     "start_time": "2021-09-11T14:30:09.642126",
     "status": "completed"
    },
    "tags": []
   },
   "outputs": [],
   "source": [
    "df_pivot.columns = [\"stamp_1\", \"stamp_2\"]\n",
    "df_pivot_diff = df_pivot.diff(axis=1)"
   ]
  },
  {
   "cell_type": "code",
   "execution_count": 7,
   "id": "fifth-motion",
   "metadata": {
    "execution": {
     "iopub.execute_input": "2021-09-11T14:30:09.736842Z",
     "iopub.status.busy": "2021-09-11T14:30:09.734331Z",
     "iopub.status.idle": "2021-09-11T14:30:11.219763Z",
     "shell.execute_reply": "2021-09-11T14:30:11.221060Z"
    },
    "papermill": {
     "duration": 1.518472,
     "end_time": "2021-09-11T14:30:11.221475",
     "exception": false,
     "start_time": "2021-09-11T14:30:09.703003",
     "status": "completed"
    },
    "tags": []
   },
   "outputs": [
    {
     "data": {
      "text/plain": [
       "<AxesSubplot:ylabel='PRODUCT'>"
      ]
     },
     "execution_count": 7,
     "metadata": {},
     "output_type": "execute_result"
    },
    {
     "data": {
      "image/png": "[encoded data removed]",
      "text/plain": [
       "<Figure size 432x288 with 1 Axes>"
      ]
     },
     "metadata": {
      "needs_background": "light"
     },
     "output_type": "display_data"
    }
   ],
   "source": [
    "df_pivot_diff.sort_values(\"stamp_2\", ascending = False)[\"stamp_2\"].head(10).plot.barh()"
   ]
  },
  {
   "cell_type": "code",
   "execution_count": null,
   "id": "extra-executive",
   "metadata": {
    "papermill": {
     "duration": 0.022257,
     "end_time": "2021-09-11T14:30:11.268680",
     "exception": false,
     "start_time": "2021-09-11T14:30:11.246423",
     "status": "completed"
    },
    "tags": []
   },
   "outputs": [],
   "source": []
  }
 ],
 "metadata": {
  "kernelspec": {
   "display_name": "Python 3",
   "language": "python",
   "name": "python3"
  },
  "language_info": {
   "codemirror_mode": {
    "name": "ipython",
    "version": 3
   },
   "file_extension": ".py",
   "mimetype": "text/x-python",
   "name": "python",
   "nbconvert_exporter": "python",
   "pygments_lexer": "ipython3",
   "version": "3.9.5"
  },
  "papermill": {
   "default_parameters": {},
   "duration": 6.51534,
   "end_time": "2021-09-11T14:30:11.910377",
   "environment_variables": {},
   "exception": null,
   "input_path": "eBay_Overview.ipynb",
   "output_path": "eBay_Overview.ipynb",
   "parameters": {},
   "start_time": "2021-09-11T14:30:05.395037",
   "version": "2.3.3"
  }
 },
 "nbformat": 4,
 "nbformat_minor": 5
}