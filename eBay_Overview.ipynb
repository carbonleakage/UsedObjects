{
 "cells": [
  {
   "cell_type": "code",
   "execution_count": 1,
   "id": "reverse-picking",
   "metadata": {
    "execution": {
     "iopub.execute_input": "2021-10-24T17:30:07.809002Z",
     "iopub.status.busy": "2021-10-24T17:30:07.806947Z",
     "iopub.status.idle": "2021-10-24T17:30:08.619294Z",
     "shell.execute_reply": "2021-10-24T17:30:08.617226Z"
    },
    "papermill": {
     "duration": 0.862169,
     "end_time": "2021-10-24T17:30:08.619741",
     "exception": false,
     "start_time": "2021-10-24T17:30:07.757572",
     "status": "completed"
    },
    "tags": []
   },
   "outputs": [],
   "source": [
    "import pandas as pd\n",
    "import sqlite3"
   ]
  },
  {
   "cell_type": "code",
   "execution_count": 2,
   "id": "innovative-syndrome",
   "metadata": {
    "execution": {
     "iopub.execute_input": "2021-10-24T17:30:08.671310Z",
     "iopub.status.busy": "2021-10-24T17:30:08.668925Z",
     "iopub.status.idle": "2021-10-24T17:30:09.292909Z",
     "shell.execute_reply": "2021-10-24T17:30:09.294277Z"
    },
    "papermill": {
     "duration": 0.654333,
     "end_time": "2021-10-24T17:30:09.294700",
     "exception": false,
     "start_time": "2021-10-24T17:30:08.640367",
     "status": "completed"
    },
    "tags": []
   },
   "outputs": [],
   "source": [
    "timestamps = pd.read_sql(\"select distinct record_time from EBAY_TOP_BERLIN order by record_time desc limit 2\", sqlite3.connect(\"UsedObjects.db\"))"
   ]
  },
  {
   "cell_type": "code",
   "execution_count": 3,
   "id": "periodic-identification",
   "metadata": {
    "execution": {
     "iopub.execute_input": "2021-10-24T17:30:09.364446Z",
     "iopub.status.busy": "2021-10-24T17:30:09.359099Z",
     "iopub.status.idle": "2021-10-24T17:30:09.380454Z",
     "shell.execute_reply": "2021-10-24T17:30:09.382069Z"
    },
    "papermill": {
     "duration": 0.067215,
     "end_time": "2021-10-24T17:30:09.382544",
     "exception": false,
     "start_time": "2021-10-24T17:30:09.315329",
     "status": "completed"
    },
    "tags": []
   },
   "outputs": [
    {
     "data": {
      "text/html": [
       "<div>\n",
       "<style scoped>\n",
       "    .dataframe tbody tr th:only-of-type {\n",
       "        vertical-align: middle;\n",
       "    }\n",
       "\n",
       "    .dataframe tbody tr th {\n",
       "        vertical-align: top;\n",
       "    }\n",
       "\n",
       "    .dataframe thead th {\n",
       "        text-align: right;\n",
       "    }\n",
       "</style>\n",
       "<table border=\"1\" class=\"dataframe\">\n",
       "  <thead>\n",
       "    <tr style=\"text-align: right;\">\n",
       "      <th></th>\n",
       "      <th>RECORD_TIME</th>\n",
       "    </tr>\n",
       "  </thead>\n",
       "  <tbody>\n",
       "    <tr>\n",
       "      <th>0</th>\n",
       "      <td>2021-10-24 19:30</td>\n",
       "    </tr>\n",
       "    <tr>\n",
       "      <th>1</th>\n",
       "      <td>2021-10-24 19:00</td>\n",
       "    </tr>\n",
       "  </tbody>\n",
       "</table>\n",
       "</div>"
      ],
      "text/plain": [
       "        RECORD_TIME\n",
       "0  2021-10-24 19:30\n",
       "1  2021-10-24 19:00"
      ]
     },
     "execution_count": 3,
     "metadata": {},
     "output_type": "execute_result"
    }
   ],
   "source": [
    "timestamps"
   ]
  },
  {
   "cell_type": "code",
   "execution_count": 4,
   "id": "alternate-victory",
   "metadata": {
    "execution": {
     "iopub.execute_input": "2021-10-24T17:30:09.435503Z",
     "iopub.status.busy": "2021-10-24T17:30:09.433450Z",
     "iopub.status.idle": "2021-10-24T17:30:10.346674Z",
     "shell.execute_reply": "2021-10-24T17:30:10.347871Z"
    },
    "papermill": {
     "duration": 0.943918,
     "end_time": "2021-10-24T17:30:10.348268",
     "exception": false,
     "start_time": "2021-10-24T17:30:09.404350",
     "status": "completed"
    },
    "tags": []
   },
   "outputs": [],
   "source": [
    "df = pd.read_sql(\"select * from EBAY_TOP_BERLIN where record_time in (select distinct record_time from EBAY_TOP_BERLIN order by record_time desc limit 2)\", sqlite3.connect(\"UsedObjects.db\"))"
   ]
  },
  {
   "cell_type": "code",
   "execution_count": 5,
   "id": "popular-active",
   "metadata": {
    "execution": {
     "iopub.execute_input": "2021-10-24T17:30:10.415807Z",
     "iopub.status.busy": "2021-10-24T17:30:10.407906Z",
     "iopub.status.idle": "2021-10-24T17:30:10.435749Z",
     "shell.execute_reply": "2021-10-24T17:30:10.437192Z"
    },
    "papermill": {
     "duration": 0.067133,
     "end_time": "2021-10-24T17:30:10.437618",
     "exception": false,
     "start_time": "2021-10-24T17:30:10.370485",
     "status": "completed"
    },
    "tags": []
   },
   "outputs": [],
   "source": [
    "df_pivot = df.pivot_table(index=\"PRODUCT\", columns = \"RECORD_TIME\", values = \"LISTING_COUNT\")"
   ]
  },
  {
   "cell_type": "code",
   "execution_count": 6,
   "id": "union-huntington",
   "metadata": {
    "execution": {
     "iopub.execute_input": "2021-10-24T17:30:10.496759Z",
     "iopub.status.busy": "2021-10-24T17:30:10.494263Z",
     "iopub.status.idle": "2021-10-24T17:30:10.500187Z",
     "shell.execute_reply": "2021-10-24T17:30:10.501529Z"
    },
    "papermill": {
     "duration": 0.042772,
     "end_time": "2021-10-24T17:30:10.501993",
     "exception": false,
     "start_time": "2021-10-24T17:30:10.459221",
     "status": "completed"
    },
    "tags": []
   },
   "outputs": [],
   "source": [
    "df_pivot.columns = [\"stamp_1\", \"stamp_2\"]\n",
    "df_pivot_diff = df_pivot.diff(axis=1)"
   ]
  },
  {
   "cell_type": "code",
   "execution_count": 7,
   "id": "fifth-motion",
   "metadata": {
    "execution": {
     "iopub.execute_input": "2021-10-24T17:30:10.557149Z",
     "iopub.status.busy": "2021-10-24T17:30:10.554732Z",
     "iopub.status.idle": "2021-10-24T17:30:12.049413Z",
     "shell.execute_reply": "2021-10-24T17:30:12.050827Z"
    },
    "papermill": {
     "duration": 1.527687,
     "end_time": "2021-10-24T17:30:12.051279",
     "exception": false,
     "start_time": "2021-10-24T17:30:10.523592",
     "status": "completed"
    },
    "tags": []
   },
   "outputs": [
    {
     "data": {
      "text/plain": [
       "<AxesSubplot:ylabel='PRODUCT'>"
      ]
     },
     "execution_count": 7,
     "metadata": {},
     "output_type": "execute_result"
    },
    {
     "data": {
      "image/png": "[encoded data removed]",
      "text/plain": [
       "<Figure size 432x288 with 1 Axes>"
      ]
     },
     "metadata": {
      "needs_background": "light"
     },
     "output_type": "display_data"
    }
   ],
   "source": [
    "df_pivot_diff.sort_values(\"stamp_2\", ascending = False)[\"stamp_2\"].head(10).plot.barh()"
   ]
  },
  {
   "cell_type": "code",
   "execution_count": null,
   "id": "extra-executive",
   "metadata": {
    "papermill": {
     "duration": 0.022318,
     "end_time": "2021-10-24T17:30:12.098317",
     "exception": false,
     "start_time": "2021-10-24T17:30:12.075999",
     "status": "completed"
    },
    "tags": []
   },
   "outputs": [],
   "source": []
  }
 ],
 "metadata": {
  "kernelspec": {
   "display_name": "Python 3",
   "language": "python",
   "name": "python3"
  },
  "language_info": {
   "codemirror_mode": {
    "name": "ipython",
    "version": 3
   },
   "file_extension": ".py",
   "mimetype": "text/x-python",
   "name": "python",
   "nbconvert_exporter": "python",
   "pygments_lexer": "ipython3",
   "version": "3.9.5"
  },
  "papermill": {
   "default_parameters": {},
   "duration": 7.409678,
   "end_time": "2021-10-24T17:30:12.738289",
   "environment_variables": {},
   "exception": null,
   "input_path": "eBay_Overview.ipynb",
   "output_path": "eBay_Overview.ipynb",
   "parameters": {},
   "start_time": "2021-10-24T17:30:05.328611",
   "version": "2.3.3"
  }
 },
 "nbformat": 4,
 "nbformat_minor": 5
}