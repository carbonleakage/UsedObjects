{
 "cells": [
  {
   "cell_type": "code",
   "execution_count": 1,
   "id": "reverse-picking",
   "metadata": {
    "execution": {
     "iopub.execute_input": "2021-12-15T09:00:07.541694Z",
     "iopub.status.busy": "2021-12-15T09:00:07.539467Z",
     "iopub.status.idle": "2021-12-15T09:00:08.493648Z",
     "shell.execute_reply": "2021-12-15T09:00:08.491045Z"
    },
    "papermill": {
     "duration": 0.998714,
     "end_time": "2021-12-15T09:00:08.494122",
     "exception": false,
     "start_time": "2021-12-15T09:00:07.495408",
     "status": "completed"
    },
    "tags": []
   },
   "outputs": [],
   "source": [
    "import pandas as pd\n",
    "import sqlite3"
   ]
  },
  {
   "cell_type": "code",
   "execution_count": 2,
   "id": "innovative-syndrome",
   "metadata": {
    "execution": {
     "iopub.execute_input": "2021-12-15T09:00:08.556244Z",
     "iopub.status.busy": "2021-12-15T09:00:08.554028Z",
     "iopub.status.idle": "2021-12-15T09:00:09.656955Z",
     "shell.execute_reply": "2021-12-15T09:00:09.658452Z"
    },
    "papermill": {
     "duration": 1.137463,
     "end_time": "2021-12-15T09:00:09.658951",
     "exception": false,
     "start_time": "2021-12-15T09:00:08.521488",
     "status": "completed"
    },
    "tags": []
   },
   "outputs": [],
   "source": [
    "timestamps = pd.read_sql(\"select distinct record_time from EBAY_TOP_BERLIN order by record_time desc limit 2\", sqlite3.connect(\"UsedObjects.db\"))"
   ]
  },
  {
   "cell_type": "code",
   "execution_count": 3,
   "id": "periodic-identification",
   "metadata": {
    "execution": {
     "iopub.execute_input": "2021-12-15T09:00:09.733242Z",
     "iopub.status.busy": "2021-12-15T09:00:09.728963Z",
     "iopub.status.idle": "2021-12-15T09:00:09.754928Z",
     "shell.execute_reply": "2021-12-15T09:00:09.756296Z"
    },
    "papermill": {
     "duration": 0.076744,
     "end_time": "2021-12-15T09:00:09.756838",
     "exception": false,
     "start_time": "2021-12-15T09:00:09.680094",
     "status": "completed"
    },
    "tags": []
   },
   "outputs": [
    {
     "data": {
      "text/html": [
       "<div>\n",
       "<style scoped>\n",
       "    .dataframe tbody tr th:only-of-type {\n",
       "        vertical-align: middle;\n",
       "    }\n",
       "\n",
       "    .dataframe tbody tr th {\n",
       "        vertical-align: top;\n",
       "    }\n",
       "\n",
       "    .dataframe thead th {\n",
       "        text-align: right;\n",
       "    }\n",
       "</style>\n",
       "<table border=\"1\" class=\"dataframe\">\n",
       "  <thead>\n",
       "    <tr style=\"text-align: right;\">\n",
       "      <th></th>\n",
       "      <th>RECORD_TIME</th>\n",
       "    </tr>\n",
       "  </thead>\n",
       "  <tbody>\n",
       "    <tr>\n",
       "      <th>0</th>\n",
       "      <td>2021-12-15 10:00</td>\n",
       "    </tr>\n",
       "    <tr>\n",
       "      <th>1</th>\n",
       "      <td>2021-12-15 09:30</td>\n",
       "    </tr>\n",
       "  </tbody>\n",
       "</table>\n",
       "</div>"
      ],
      "text/plain": [
       "        RECORD_TIME\n",
       "0  2021-12-15 10:00\n",
       "1  2021-12-15 09:30"
      ]
     },
     "execution_count": 3,
     "metadata": {},
     "output_type": "execute_result"
    }
   ],
   "source": [
    "timestamps"
   ]
  },
  {
   "cell_type": "code",
   "execution_count": 4,
   "id": "alternate-victory",
   "metadata": {
    "execution": {
     "iopub.execute_input": "2021-12-15T09:00:09.811688Z",
     "iopub.status.busy": "2021-12-15T09:00:09.809555Z",
     "iopub.status.idle": "2021-12-15T09:00:11.378918Z",
     "shell.execute_reply": "2021-12-15T09:00:11.380281Z"
    },
    "papermill": {
     "duration": 1.602934,
     "end_time": "2021-12-15T09:00:11.380842",
     "exception": false,
     "start_time": "2021-12-15T09:00:09.777908",
     "status": "completed"
    },
    "tags": []
   },
   "outputs": [],
   "source": [
    "df = pd.read_sql(\"select * from EBAY_TOP_BERLIN where record_time in (select distinct record_time from EBAY_TOP_BERLIN order by record_time desc limit 2)\", sqlite3.connect(\"UsedObjects.db\"))"
   ]
  },
  {
   "cell_type": "code",
   "execution_count": 5,
   "id": "popular-active",
   "metadata": {
    "execution": {
     "iopub.execute_input": "2021-12-15T09:00:11.448011Z",
     "iopub.status.busy": "2021-12-15T09:00:11.445605Z",
     "iopub.status.idle": "2021-12-15T09:00:11.478181Z",
     "shell.execute_reply": "2021-12-15T09:00:11.479785Z"
    },
    "papermill": {
     "duration": 0.078882,
     "end_time": "2021-12-15T09:00:11.480289",
     "exception": false,
     "start_time": "2021-12-15T09:00:11.401407",
     "status": "completed"
    },
    "tags": []
   },
   "outputs": [],
   "source": [
    "df_pivot = df.pivot_table(index=\"PRODUCT\", columns = \"RECORD_TIME\", values = \"LISTING_COUNT\")"
   ]
  },
  {
   "cell_type": "code",
   "execution_count": 6,
   "id": "union-huntington",
   "metadata": {
    "execution": {
     "iopub.execute_input": "2021-12-15T09:00:11.549203Z",
     "iopub.status.busy": "2021-12-15T09:00:11.546458Z",
     "iopub.status.idle": "2021-12-15T09:00:11.552739Z",
     "shell.execute_reply": "2021-12-15T09:00:11.555088Z"
    },
    "papermill": {
     "duration": 0.051359,
     "end_time": "2021-12-15T09:00:11.555670",
     "exception": false,
     "start_time": "2021-12-15T09:00:11.504311",
     "status": "completed"
    },
    "tags": []
   },
   "outputs": [],
   "source": [
    "df_pivot.columns = [\"stamp_1\", \"stamp_2\"]\n",
    "df_pivot_diff = df_pivot.diff(axis=1)"
   ]
  },
  {
   "cell_type": "code",
   "execution_count": 7,
   "id": "fifth-motion",
   "metadata": {
    "execution": {
     "iopub.execute_input": "2021-12-15T09:00:11.613362Z",
     "iopub.status.busy": "2021-12-15T09:00:11.610775Z",
     "iopub.status.idle": "2021-12-15T09:00:13.644536Z",
     "shell.execute_reply": "2021-12-15T09:00:13.646373Z"
    },
    "papermill": {
     "duration": 2.070263,
     "end_time": "2021-12-15T09:00:13.646985",
     "exception": false,
     "start_time": "2021-12-15T09:00:11.576722",
     "status": "completed"
    },
    "tags": []
   },
   "outputs": [
    {
     "data": {
      "text/plain": [
       "<AxesSubplot:ylabel='PRODUCT'>"
      ]
     },
     "execution_count": 7,
     "metadata": {},
     "output_type": "execute_result"
    },
    {
     "data": {
      "image/png": "[encoded data removed]",
      "text/plain": [
       "<Figure size 432x288 with 1 Axes>"
      ]
     },
     "metadata": {
      "needs_background": "light"
     },
     "output_type": "display_data"
    }
   ],
   "source": [
    "df_pivot_diff.sort_values(\"stamp_2\", ascending = False)[\"stamp_2\"].head(10).plot.barh()"
   ]
  },
  {
   "cell_type": "code",
   "execution_count": null,
   "id": "extra-executive",
   "metadata": {
    "papermill": {
     "duration": 0.028285,
     "end_time": "2021-12-15T09:00:13.709995",
     "exception": false,
     "start_time": "2021-12-15T09:00:13.681710",
     "status": "completed"
    },
    "tags": []
   },
   "outputs": [],
   "source": []
  }
 ],
 "metadata": {
  "kernelspec": {
   "display_name": "Python 3",
   "language": "python",
   "name": "python3"
  },
  "language_info": {
   "codemirror_mode": {
    "name": "ipython",
    "version": 3
   },
   "file_extension": ".py",
   "mimetype": "text/x-python",
   "name": "python",
   "nbconvert_exporter": "python",
   "pygments_lexer": "ipython3",
   "version": "3.9.5"
  },
  "papermill": {
   "default_parameters": {},
   "duration": 9.606019,
   "end_time": "2021-12-15T09:00:14.359764",
   "environment_variables": {},
   "exception": null,
   "input_path": "eBay_Overview.ipynb",
   "output_path": "eBay_Overview.ipynb",
   "parameters": {},
   "start_time": "2021-12-15T09:00:04.753745",
   "version": "2.3.3"
  }
 },
 "nbformat": 4,
 "nbformat_minor": 5
}