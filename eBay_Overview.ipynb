{
 "cells": [
  {
   "cell_type": "code",
   "execution_count": 1,
   "id": "reverse-picking",
   "metadata": {
    "execution": {
     "iopub.execute_input": "2021-10-25T23:00:07.118588Z",
     "iopub.status.busy": "2021-10-25T23:00:07.115612Z",
     "iopub.status.idle": "2021-10-25T23:00:07.927267Z",
     "shell.execute_reply": "2021-10-25T23:00:07.928609Z"
    },
    "papermill": {
     "duration": 0.860803,
     "end_time": "2021-10-25T23:00:07.929312",
     "exception": false,
     "start_time": "2021-10-25T23:00:07.068509",
     "status": "completed"
    },
    "tags": []
   },
   "outputs": [],
   "source": [
    "import pandas as pd\n",
    "import sqlite3"
   ]
  },
  {
   "cell_type": "code",
   "execution_count": 2,
   "id": "innovative-syndrome",
   "metadata": {
    "execution": {
     "iopub.execute_input": "2021-10-25T23:00:07.981524Z",
     "iopub.status.busy": "2021-10-25T23:00:07.979373Z",
     "iopub.status.idle": "2021-10-25T23:00:08.607486Z",
     "shell.execute_reply": "2021-10-25T23:00:08.608841Z"
    },
    "papermill": {
     "duration": 0.658587,
     "end_time": "2021-10-25T23:00:08.609278",
     "exception": false,
     "start_time": "2021-10-25T23:00:07.950691",
     "status": "completed"
    },
    "tags": []
   },
   "outputs": [],
   "source": [
    "timestamps = pd.read_sql(\"select distinct record_time from EBAY_TOP_BERLIN order by record_time desc limit 2\", sqlite3.connect(\"UsedObjects.db\"))"
   ]
  },
  {
   "cell_type": "code",
   "execution_count": 3,
   "id": "periodic-identification",
   "metadata": {
    "execution": {
     "iopub.execute_input": "2021-10-25T23:00:08.694084Z",
     "iopub.status.busy": "2021-10-25T23:00:08.692023Z",
     "iopub.status.idle": "2021-10-25T23:00:08.712177Z",
     "shell.execute_reply": "2021-10-25T23:00:08.713634Z"
    },
    "papermill": {
     "duration": 0.074122,
     "end_time": "2021-10-25T23:00:08.714081",
     "exception": false,
     "start_time": "2021-10-25T23:00:08.639959",
     "status": "completed"
    },
    "tags": []
   },
   "outputs": [
    {
     "data": {
      "text/html": [
       "<div>\n",
       "<style scoped>\n",
       "    .dataframe tbody tr th:only-of-type {\n",
       "        vertical-align: middle;\n",
       "    }\n",
       "\n",
       "    .dataframe tbody tr th {\n",
       "        vertical-align: top;\n",
       "    }\n",
       "\n",
       "    .dataframe thead th {\n",
       "        text-align: right;\n",
       "    }\n",
       "</style>\n",
       "<table border=\"1\" class=\"dataframe\">\n",
       "  <thead>\n",
       "    <tr style=\"text-align: right;\">\n",
       "      <th></th>\n",
       "      <th>RECORD_TIME</th>\n",
       "    </tr>\n",
       "  </thead>\n",
       "  <tbody>\n",
       "    <tr>\n",
       "      <th>0</th>\n",
       "      <td>2021-10-26 01:00</td>\n",
       "    </tr>\n",
       "    <tr>\n",
       "      <th>1</th>\n",
       "      <td>2021-10-26 00:30</td>\n",
       "    </tr>\n",
       "  </tbody>\n",
       "</table>\n",
       "</div>"
      ],
      "text/plain": [
       "        RECORD_TIME\n",
       "0  2021-10-26 01:00\n",
       "1  2021-10-26 00:30"
      ]
     },
     "execution_count": 3,
     "metadata": {},
     "output_type": "execute_result"
    }
   ],
   "source": [
    "timestamps"
   ]
  },
  {
   "cell_type": "code",
   "execution_count": 4,
   "id": "alternate-victory",
   "metadata": {
    "execution": {
     "iopub.execute_input": "2021-10-25T23:00:08.765357Z",
     "iopub.status.busy": "2021-10-25T23:00:08.763400Z",
     "iopub.status.idle": "2021-10-25T23:00:09.680902Z",
     "shell.execute_reply": "2021-10-25T23:00:09.682135Z"
    },
    "papermill": {
     "duration": 0.947144,
     "end_time": "2021-10-25T23:00:09.682530",
     "exception": false,
     "start_time": "2021-10-25T23:00:08.735386",
     "status": "completed"
    },
    "tags": []
   },
   "outputs": [],
   "source": [
    "df = pd.read_sql(\"select * from EBAY_TOP_BERLIN where record_time in (select distinct record_time from EBAY_TOP_BERLIN order by record_time desc limit 2)\", sqlite3.connect(\"UsedObjects.db\"))"
   ]
  },
  {
   "cell_type": "code",
   "execution_count": 5,
   "id": "popular-active",
   "metadata": {
    "execution": {
     "iopub.execute_input": "2021-10-25T23:00:09.746211Z",
     "iopub.status.busy": "2021-10-25T23:00:09.739311Z",
     "iopub.status.idle": "2021-10-25T23:00:09.766284Z",
     "shell.execute_reply": "2021-10-25T23:00:09.767499Z"
    },
    "papermill": {
     "duration": 0.064928,
     "end_time": "2021-10-25T23:00:09.767892",
     "exception": false,
     "start_time": "2021-10-25T23:00:09.702964",
     "status": "completed"
    },
    "tags": []
   },
   "outputs": [],
   "source": [
    "df_pivot = df.pivot_table(index=\"PRODUCT\", columns = \"RECORD_TIME\", values = \"LISTING_COUNT\")"
   ]
  },
  {
   "cell_type": "code",
   "execution_count": 6,
   "id": "union-huntington",
   "metadata": {
    "execution": {
     "iopub.execute_input": "2021-10-25T23:00:09.827167Z",
     "iopub.status.busy": "2021-10-25T23:00:09.824643Z",
     "iopub.status.idle": "2021-10-25T23:00:09.830675Z",
     "shell.execute_reply": "2021-10-25T23:00:09.832035Z"
    },
    "papermill": {
     "duration": 0.04244,
     "end_time": "2021-10-25T23:00:09.832511",
     "exception": false,
     "start_time": "2021-10-25T23:00:09.790071",
     "status": "completed"
    },
    "tags": []
   },
   "outputs": [],
   "source": [
    "df_pivot.columns = [\"stamp_1\", \"stamp_2\"]\n",
    "df_pivot_diff = df_pivot.diff(axis=1)"
   ]
  },
  {
   "cell_type": "code",
   "execution_count": 7,
   "id": "fifth-motion",
   "metadata": {
    "execution": {
     "iopub.execute_input": "2021-10-25T23:00:09.887236Z",
     "iopub.status.busy": "2021-10-25T23:00:09.884858Z",
     "iopub.status.idle": "2021-10-25T23:00:11.344569Z",
     "shell.execute_reply": "2021-10-25T23:00:11.345864Z"
    },
    "papermill": {
     "duration": 1.492472,
     "end_time": "2021-10-25T23:00:11.346298",
     "exception": false,
     "start_time": "2021-10-25T23:00:09.853826",
     "status": "completed"
    },
    "tags": []
   },
   "outputs": [
    {
     "data": {
      "text/plain": [
       "<AxesSubplot:ylabel='PRODUCT'>"
      ]
     },
     "execution_count": 7,
     "metadata": {},
     "output_type": "execute_result"
    },
    {
     "data": {
      "image/png": "[encoded data removed]",
      "text/plain": [
       "<Figure size 432x288 with 1 Axes>"
      ]
     },
     "metadata": {
      "needs_background": "light"
     },
     "output_type": "display_data"
    }
   ],
   "source": [
    "df_pivot_diff.sort_values(\"stamp_2\", ascending = False)[\"stamp_2\"].head(10).plot.barh()"
   ]
  },
  {
   "cell_type": "code",
   "execution_count": null,
   "id": "extra-executive",
   "metadata": {
    "papermill": {
     "duration": 0.021928,
     "end_time": "2021-10-25T23:00:11.394339",
     "exception": false,
     "start_time": "2021-10-25T23:00:11.372411",
     "status": "completed"
    },
    "tags": []
   },
   "outputs": [],
   "source": []
  }
 ],
 "metadata": {
  "kernelspec": {
   "display_name": "Python 3",
   "language": "python",
   "name": "python3"
  },
  "language_info": {
   "codemirror_mode": {
    "name": "ipython",
    "version": 3
   },
   "file_extension": ".py",
   "mimetype": "text/x-python",
   "name": "python",
   "nbconvert_exporter": "python",
   "pygments_lexer": "ipython3",
   "version": "3.9.5"
  },
  "papermill": {
   "default_parameters": {},
   "duration": 7.433539,
   "end_time": "2021-10-25T23:00:12.083201",
   "environment_variables": {},
   "exception": null,
   "input_path": "eBay_Overview.ipynb",
   "output_path": "eBay_Overview.ipynb",
   "parameters": {},
   "start_time": "2021-10-25T23:00:04.649662",
   "version": "2.3.3"
  }
 },
 "nbformat": 4,
 "nbformat_minor": 5
}