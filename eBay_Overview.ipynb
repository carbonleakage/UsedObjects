{
 "cells": [
  {
   "cell_type": "code",
   "execution_count": 1,
   "id": "reverse-picking",
   "metadata": {
    "execution": {
     "iopub.execute_input": "2021-10-22T19:30:07.185321Z",
     "iopub.status.busy": "2021-10-22T19:30:07.183317Z",
     "iopub.status.idle": "2021-10-22T19:30:07.987539Z",
     "shell.execute_reply": "2021-10-22T19:30:07.988947Z"
    },
    "papermill": {
     "duration": 0.856673,
     "end_time": "2021-10-22T19:30:07.989612",
     "exception": false,
     "start_time": "2021-10-22T19:30:07.132939",
     "status": "completed"
    },
    "tags": []
   },
   "outputs": [],
   "source": [
    "import pandas as pd\n",
    "import sqlite3"
   ]
  },
  {
   "cell_type": "code",
   "execution_count": 2,
   "id": "innovative-syndrome",
   "metadata": {
    "execution": {
     "iopub.execute_input": "2021-10-22T19:30:08.040591Z",
     "iopub.status.busy": "2021-10-22T19:30:08.038589Z",
     "iopub.status.idle": "2021-10-22T19:30:08.664962Z",
     "shell.execute_reply": "2021-10-22T19:30:08.666205Z"
    },
    "papermill": {
     "duration": 0.65644,
     "end_time": "2021-10-22T19:30:08.666604",
     "exception": false,
     "start_time": "2021-10-22T19:30:08.010164",
     "status": "completed"
    },
    "tags": []
   },
   "outputs": [],
   "source": [
    "timestamps = pd.read_sql(\"select distinct record_time from EBAY_TOP_BERLIN order by record_time desc limit 2\", sqlite3.connect(\"UsedObjects.db\"))"
   ]
  },
  {
   "cell_type": "code",
   "execution_count": 3,
   "id": "periodic-identification",
   "metadata": {
    "execution": {
     "iopub.execute_input": "2021-10-22T19:30:08.744299Z",
     "iopub.status.busy": "2021-10-22T19:30:08.742175Z",
     "iopub.status.idle": "2021-10-22T19:30:08.762235Z",
     "shell.execute_reply": "2021-10-22T19:30:08.763845Z"
    },
    "papermill": {
     "duration": 0.068963,
     "end_time": "2021-10-22T19:30:08.764339",
     "exception": false,
     "start_time": "2021-10-22T19:30:08.695376",
     "status": "completed"
    },
    "tags": []
   },
   "outputs": [
    {
     "data": {
      "text/html": [
       "<div>\n",
       "<style scoped>\n",
       "    .dataframe tbody tr th:only-of-type {\n",
       "        vertical-align: middle;\n",
       "    }\n",
       "\n",
       "    .dataframe tbody tr th {\n",
       "        vertical-align: top;\n",
       "    }\n",
       "\n",
       "    .dataframe thead th {\n",
       "        text-align: right;\n",
       "    }\n",
       "</style>\n",
       "<table border=\"1\" class=\"dataframe\">\n",
       "  <thead>\n",
       "    <tr style=\"text-align: right;\">\n",
       "      <th></th>\n",
       "      <th>RECORD_TIME</th>\n",
       "    </tr>\n",
       "  </thead>\n",
       "  <tbody>\n",
       "    <tr>\n",
       "      <th>0</th>\n",
       "      <td>2021-10-22 21:30</td>\n",
       "    </tr>\n",
       "    <tr>\n",
       "      <th>1</th>\n",
       "      <td>2021-10-22 21:00</td>\n",
       "    </tr>\n",
       "  </tbody>\n",
       "</table>\n",
       "</div>"
      ],
      "text/plain": [
       "        RECORD_TIME\n",
       "0  2021-10-22 21:30\n",
       "1  2021-10-22 21:00"
      ]
     },
     "execution_count": 3,
     "metadata": {},
     "output_type": "execute_result"
    }
   ],
   "source": [
    "timestamps"
   ]
  },
  {
   "cell_type": "code",
   "execution_count": 4,
   "id": "alternate-victory",
   "metadata": {
    "execution": {
     "iopub.execute_input": "2021-10-22T19:30:08.816615Z",
     "iopub.status.busy": "2021-10-22T19:30:08.814768Z",
     "iopub.status.idle": "2021-10-22T19:30:09.736220Z",
     "shell.execute_reply": "2021-10-22T19:30:09.737589Z"
    },
    "papermill": {
     "duration": 0.951631,
     "end_time": "2021-10-22T19:30:09.738007",
     "exception": false,
     "start_time": "2021-10-22T19:30:08.786376",
     "status": "completed"
    },
    "tags": []
   },
   "outputs": [],
   "source": [
    "df = pd.read_sql(\"select * from EBAY_TOP_BERLIN where record_time in (select distinct record_time from EBAY_TOP_BERLIN order by record_time desc limit 2)\", sqlite3.connect(\"UsedObjects.db\"))"
   ]
  },
  {
   "cell_type": "code",
   "execution_count": 5,
   "id": "popular-active",
   "metadata": {
    "execution": {
     "iopub.execute_input": "2021-10-22T19:30:09.809779Z",
     "iopub.status.busy": "2021-10-22T19:30:09.797269Z",
     "iopub.status.idle": "2021-10-22T19:30:09.826039Z",
     "shell.execute_reply": "2021-10-22T19:30:09.827350Z"
    },
    "papermill": {
     "duration": 0.06763,
     "end_time": "2021-10-22T19:30:09.827769",
     "exception": false,
     "start_time": "2021-10-22T19:30:09.760139",
     "status": "completed"
    },
    "tags": []
   },
   "outputs": [],
   "source": [
    "df_pivot = df.pivot_table(index=\"PRODUCT\", columns = \"RECORD_TIME\", values = \"LISTING_COUNT\")"
   ]
  },
  {
   "cell_type": "code",
   "execution_count": 6,
   "id": "union-huntington",
   "metadata": {
    "execution": {
     "iopub.execute_input": "2021-10-22T19:30:09.884758Z",
     "iopub.status.busy": "2021-10-22T19:30:09.882405Z",
     "iopub.status.idle": "2021-10-22T19:30:09.888124Z",
     "shell.execute_reply": "2021-10-22T19:30:09.889498Z"
    },
    "papermill": {
     "duration": 0.042144,
     "end_time": "2021-10-22T19:30:09.889921",
     "exception": false,
     "start_time": "2021-10-22T19:30:09.847777",
     "status": "completed"
    },
    "tags": []
   },
   "outputs": [],
   "source": [
    "df_pivot.columns = [\"stamp_1\", \"stamp_2\"]\n",
    "df_pivot_diff = df_pivot.diff(axis=1)"
   ]
  },
  {
   "cell_type": "code",
   "execution_count": 7,
   "id": "fifth-motion",
   "metadata": {
    "execution": {
     "iopub.execute_input": "2021-10-22T19:30:09.944102Z",
     "iopub.status.busy": "2021-10-22T19:30:09.941914Z",
     "iopub.status.idle": "2021-10-22T19:30:11.437362Z",
     "shell.execute_reply": "2021-10-22T19:30:11.438667Z"
    },
    "papermill": {
     "duration": 1.528246,
     "end_time": "2021-10-22T19:30:11.439084",
     "exception": false,
     "start_time": "2021-10-22T19:30:09.910838",
     "status": "completed"
    },
    "tags": []
   },
   "outputs": [
    {
     "data": {
      "text/plain": [
       "<AxesSubplot:ylabel='PRODUCT'>"
      ]
     },
     "execution_count": 7,
     "metadata": {},
     "output_type": "execute_result"
    },
    {
     "data": {
      "image/png": "[encoded data removed]",
      "text/plain": [
       "<Figure size 432x288 with 1 Axes>"
      ]
     },
     "metadata": {
      "needs_background": "light"
     },
     "output_type": "display_data"
    }
   ],
   "source": [
    "df_pivot_diff.sort_values(\"stamp_2\", ascending = False)[\"stamp_2\"].head(10).plot.barh()"
   ]
  },
  {
   "cell_type": "code",
   "execution_count": null,
   "id": "extra-executive",
   "metadata": {
    "papermill": {
     "duration": 0.02232,
     "end_time": "2021-10-22T19:30:11.485312",
     "exception": false,
     "start_time": "2021-10-22T19:30:11.462992",
     "status": "completed"
    },
    "tags": []
   },
   "outputs": [],
   "source": []
  }
 ],
 "metadata": {
  "kernelspec": {
   "display_name": "Python 3",
   "language": "python",
   "name": "python3"
  },
  "language_info": {
   "codemirror_mode": {
    "name": "ipython",
    "version": 3
   },
   "file_extension": ".py",
   "mimetype": "text/x-python",
   "name": "python",
   "nbconvert_exporter": "python",
   "pygments_lexer": "ipython3",
   "version": "3.9.5"
  },
  "papermill": {
   "default_parameters": {},
   "duration": 7.40293,
   "end_time": "2021-10-22T19:30:12.128914",
   "environment_variables": {},
   "exception": null,
   "input_path": "eBay_Overview.ipynb",
   "output_path": "eBay_Overview.ipynb",
   "parameters": {},
   "start_time": "2021-10-22T19:30:04.725984",
   "version": "2.3.3"
  }
 },
 "nbformat": 4,
 "nbformat_minor": 5
}