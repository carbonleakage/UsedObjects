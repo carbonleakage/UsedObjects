{
 "cells": [
  {
   "cell_type": "code",
   "execution_count": 1,
   "id": "reverse-picking",
   "metadata": {
    "execution": {
     "iopub.execute_input": "2021-12-05T13:30:07.632402Z",
     "iopub.status.busy": "2021-12-05T13:30:07.629147Z",
     "iopub.status.idle": "2021-12-05T13:30:08.574612Z",
     "shell.execute_reply": "2021-12-05T13:30:08.576135Z"
    },
    "papermill": {
     "duration": 0.996398,
     "end_time": "2021-12-05T13:30:08.576941",
     "exception": false,
     "start_time": "2021-12-05T13:30:07.580543",
     "status": "completed"
    },
    "tags": []
   },
   "outputs": [],
   "source": [
    "import pandas as pd\n",
    "import sqlite3"
   ]
  },
  {
   "cell_type": "code",
   "execution_count": 2,
   "id": "innovative-syndrome",
   "metadata": {
    "execution": {
     "iopub.execute_input": "2021-12-05T13:30:08.639961Z",
     "iopub.status.busy": "2021-12-05T13:30:08.637681Z",
     "iopub.status.idle": "2021-12-05T13:30:09.644201Z",
     "shell.execute_reply": "2021-12-05T13:30:09.645787Z"
    },
    "papermill": {
     "duration": 1.041825,
     "end_time": "2021-12-05T13:30:09.646278",
     "exception": false,
     "start_time": "2021-12-05T13:30:08.604453",
     "status": "completed"
    },
    "tags": []
   },
   "outputs": [],
   "source": [
    "timestamps = pd.read_sql(\"select distinct record_time from EBAY_TOP_BERLIN order by record_time desc limit 2\", sqlite3.connect(\"UsedObjects.db\"))"
   ]
  },
  {
   "cell_type": "code",
   "execution_count": 3,
   "id": "periodic-identification",
   "metadata": {
    "execution": {
     "iopub.execute_input": "2021-12-05T13:30:09.721349Z",
     "iopub.status.busy": "2021-12-05T13:30:09.718929Z",
     "iopub.status.idle": "2021-12-05T13:30:09.741726Z",
     "shell.execute_reply": "2021-12-05T13:30:09.743157Z"
    },
    "papermill": {
     "duration": 0.075784,
     "end_time": "2021-12-05T13:30:09.743646",
     "exception": false,
     "start_time": "2021-12-05T13:30:09.667862",
     "status": "completed"
    },
    "tags": []
   },
   "outputs": [
    {
     "data": {
      "text/html": [
       "<div>\n",
       "<style scoped>\n",
       "    .dataframe tbody tr th:only-of-type {\n",
       "        vertical-align: middle;\n",
       "    }\n",
       "\n",
       "    .dataframe tbody tr th {\n",
       "        vertical-align: top;\n",
       "    }\n",
       "\n",
       "    .dataframe thead th {\n",
       "        text-align: right;\n",
       "    }\n",
       "</style>\n",
       "<table border=\"1\" class=\"dataframe\">\n",
       "  <thead>\n",
       "    <tr style=\"text-align: right;\">\n",
       "      <th></th>\n",
       "      <th>RECORD_TIME</th>\n",
       "    </tr>\n",
       "  </thead>\n",
       "  <tbody>\n",
       "    <tr>\n",
       "      <th>0</th>\n",
       "      <td>2021-12-05 14:30</td>\n",
       "    </tr>\n",
       "    <tr>\n",
       "      <th>1</th>\n",
       "      <td>2021-12-05 14:00</td>\n",
       "    </tr>\n",
       "  </tbody>\n",
       "</table>\n",
       "</div>"
      ],
      "text/plain": [
       "        RECORD_TIME\n",
       "0  2021-12-05 14:30\n",
       "1  2021-12-05 14:00"
      ]
     },
     "execution_count": 3,
     "metadata": {},
     "output_type": "execute_result"
    }
   ],
   "source": [
    "timestamps"
   ]
  },
  {
   "cell_type": "code",
   "execution_count": 4,
   "id": "alternate-victory",
   "metadata": {
    "execution": {
     "iopub.execute_input": "2021-12-05T13:30:09.799272Z",
     "iopub.status.busy": "2021-12-05T13:30:09.797255Z",
     "iopub.status.idle": "2021-12-05T13:30:11.254891Z",
     "shell.execute_reply": "2021-12-05T13:30:11.256274Z"
    },
    "papermill": {
     "duration": 1.491958,
     "end_time": "2021-12-05T13:30:11.256874",
     "exception": false,
     "start_time": "2021-12-05T13:30:09.764916",
     "status": "completed"
    },
    "tags": []
   },
   "outputs": [],
   "source": [
    "df = pd.read_sql(\"select * from EBAY_TOP_BERLIN where record_time in (select distinct record_time from EBAY_TOP_BERLIN order by record_time desc limit 2)\", sqlite3.connect(\"UsedObjects.db\"))"
   ]
  },
  {
   "cell_type": "code",
   "execution_count": 5,
   "id": "popular-active",
   "metadata": {
    "execution": {
     "iopub.execute_input": "2021-12-05T13:30:11.333495Z",
     "iopub.status.busy": "2021-12-05T13:30:11.325619Z",
     "iopub.status.idle": "2021-12-05T13:30:11.351282Z",
     "shell.execute_reply": "2021-12-05T13:30:11.352639Z"
    },
    "papermill": {
     "duration": 0.074449,
     "end_time": "2021-12-05T13:30:11.353252",
     "exception": false,
     "start_time": "2021-12-05T13:30:11.278803",
     "status": "completed"
    },
    "tags": []
   },
   "outputs": [],
   "source": [
    "df_pivot = df.pivot_table(index=\"PRODUCT\", columns = \"RECORD_TIME\", values = \"LISTING_COUNT\")"
   ]
  },
  {
   "cell_type": "code",
   "execution_count": 6,
   "id": "union-huntington",
   "metadata": {
    "execution": {
     "iopub.execute_input": "2021-12-05T13:30:11.417686Z",
     "iopub.status.busy": "2021-12-05T13:30:11.415050Z",
     "iopub.status.idle": "2021-12-05T13:30:11.421597Z",
     "shell.execute_reply": "2021-12-05T13:30:11.419642Z"
    },
    "papermill": {
     "duration": 0.048836,
     "end_time": "2021-12-05T13:30:11.422238",
     "exception": false,
     "start_time": "2021-12-05T13:30:11.373402",
     "status": "completed"
    },
    "tags": []
   },
   "outputs": [],
   "source": [
    "df_pivot.columns = [\"stamp_1\", \"stamp_2\"]\n",
    "df_pivot_diff = df_pivot.diff(axis=1)"
   ]
  },
  {
   "cell_type": "code",
   "execution_count": 7,
   "id": "fifth-motion",
   "metadata": {
    "execution": {
     "iopub.execute_input": "2021-12-05T13:30:11.485829Z",
     "iopub.status.busy": "2021-12-05T13:30:11.481150Z",
     "iopub.status.idle": "2021-12-05T13:30:13.483030Z",
     "shell.execute_reply": "2021-12-05T13:30:13.485033Z"
    },
    "papermill": {
     "duration": 2.040722,
     "end_time": "2021-12-05T13:30:13.485634",
     "exception": false,
     "start_time": "2021-12-05T13:30:11.444912",
     "status": "completed"
    },
    "tags": []
   },
   "outputs": [
    {
     "data": {
      "text/plain": [
       "<AxesSubplot:ylabel='PRODUCT'>"
      ]
     },
     "execution_count": 7,
     "metadata": {},
     "output_type": "execute_result"
    },
    {
     "data": {
      "image/png": "[encoded data removed]",
      "text/plain": [
       "<Figure size 432x288 with 1 Axes>"
      ]
     },
     "metadata": {
      "needs_background": "light"
     },
     "output_type": "display_data"
    }
   ],
   "source": [
    "df_pivot_diff.sort_values(\"stamp_2\", ascending = False)[\"stamp_2\"].head(10).plot.barh()"
   ]
  },
  {
   "cell_type": "code",
   "execution_count": null,
   "id": "extra-executive",
   "metadata": {
    "papermill": {
     "duration": 0.032199,
     "end_time": "2021-12-05T13:30:13.545775",
     "exception": false,
     "start_time": "2021-12-05T13:30:13.513576",
     "status": "completed"
    },
    "tags": []
   },
   "outputs": [],
   "source": []
  }
 ],
 "metadata": {
  "kernelspec": {
   "display_name": "Python 3",
   "language": "python",
   "name": "python3"
  },
  "language_info": {
   "codemirror_mode": {
    "name": "ipython",
    "version": 3
   },
   "file_extension": ".py",
   "mimetype": "text/x-python",
   "name": "python",
   "nbconvert_exporter": "python",
   "pygments_lexer": "ipython3",
   "version": "3.9.5"
  },
  "papermill": {
   "default_parameters": {},
   "duration": 9.943262,
   "end_time": "2021-12-05T13:30:14.787045",
   "environment_variables": {},
   "exception": null,
   "input_path": "eBay_Overview.ipynb",
   "output_path": "eBay_Overview.ipynb",
   "parameters": {},
   "start_time": "2021-12-05T13:30:04.843783",
   "version": "2.3.3"
  }
 },
 "nbformat": 4,
 "nbformat_minor": 5
}