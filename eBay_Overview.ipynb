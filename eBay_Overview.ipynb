{
 "cells": [
  {
   "cell_type": "code",
   "execution_count": 1,
   "id": "reverse-picking",
   "metadata": {
    "execution": {
     "iopub.execute_input": "2021-11-10T02:00:07.151996Z",
     "iopub.status.busy": "2021-11-10T02:00:07.143007Z",
     "iopub.status.idle": "2021-11-10T02:00:08.105014Z",
     "shell.execute_reply": "2021-11-10T02:00:08.106467Z"
    },
    "papermill": {
     "duration": 1.011865,
     "end_time": "2021-11-10T02:00:08.107259",
     "exception": false,
     "start_time": "2021-11-10T02:00:07.095394",
     "status": "completed"
    },
    "tags": []
   },
   "outputs": [],
   "source": [
    "import pandas as pd\n",
    "import sqlite3"
   ]
  },
  {
   "cell_type": "code",
   "execution_count": 2,
   "id": "innovative-syndrome",
   "metadata": {
    "execution": {
     "iopub.execute_input": "2021-11-10T02:00:08.173304Z",
     "iopub.status.busy": "2021-11-10T02:00:08.170081Z",
     "iopub.status.idle": "2021-11-10T02:00:08.947678Z",
     "shell.execute_reply": "2021-11-10T02:00:08.949157Z"
    },
    "papermill": {
     "duration": 0.811897,
     "end_time": "2021-11-10T02:00:08.949612",
     "exception": false,
     "start_time": "2021-11-10T02:00:08.137715",
     "status": "completed"
    },
    "tags": []
   },
   "outputs": [],
   "source": [
    "timestamps = pd.read_sql(\"select distinct record_time from EBAY_TOP_BERLIN order by record_time desc limit 2\", sqlite3.connect(\"UsedObjects.db\"))"
   ]
  },
  {
   "cell_type": "code",
   "execution_count": 3,
   "id": "periodic-identification",
   "metadata": {
    "execution": {
     "iopub.execute_input": "2021-11-10T02:00:09.019864Z",
     "iopub.status.busy": "2021-11-10T02:00:09.017376Z",
     "iopub.status.idle": "2021-11-10T02:00:09.040205Z",
     "shell.execute_reply": "2021-11-10T02:00:09.041739Z"
    },
    "papermill": {
     "duration": 0.073121,
     "end_time": "2021-11-10T02:00:09.042227",
     "exception": false,
     "start_time": "2021-11-10T02:00:08.969106",
     "status": "completed"
    },
    "tags": []
   },
   "outputs": [
    {
     "data": {
      "text/html": [
       "<div>\n",
       "<style scoped>\n",
       "    .dataframe tbody tr th:only-of-type {\n",
       "        vertical-align: middle;\n",
       "    }\n",
       "\n",
       "    .dataframe tbody tr th {\n",
       "        vertical-align: top;\n",
       "    }\n",
       "\n",
       "    .dataframe thead th {\n",
       "        text-align: right;\n",
       "    }\n",
       "</style>\n",
       "<table border=\"1\" class=\"dataframe\">\n",
       "  <thead>\n",
       "    <tr style=\"text-align: right;\">\n",
       "      <th></th>\n",
       "      <th>RECORD_TIME</th>\n",
       "    </tr>\n",
       "  </thead>\n",
       "  <tbody>\n",
       "    <tr>\n",
       "      <th>0</th>\n",
       "      <td>2021-11-10 03:00</td>\n",
       "    </tr>\n",
       "    <tr>\n",
       "      <th>1</th>\n",
       "      <td>2021-11-10 02:30</td>\n",
       "    </tr>\n",
       "  </tbody>\n",
       "</table>\n",
       "</div>"
      ],
      "text/plain": [
       "        RECORD_TIME\n",
       "0  2021-11-10 03:00\n",
       "1  2021-11-10 02:30"
      ]
     },
     "execution_count": 3,
     "metadata": {},
     "output_type": "execute_result"
    }
   ],
   "source": [
    "timestamps"
   ]
  },
  {
   "cell_type": "code",
   "execution_count": 4,
   "id": "alternate-victory",
   "metadata": {
    "execution": {
     "iopub.execute_input": "2021-11-10T02:00:09.099997Z",
     "iopub.status.busy": "2021-11-10T02:00:09.097742Z",
     "iopub.status.idle": "2021-11-10T02:00:10.222306Z",
     "shell.execute_reply": "2021-11-10T02:00:10.220876Z"
    },
    "papermill": {
     "duration": 1.159059,
     "end_time": "2021-11-10T02:00:10.222697",
     "exception": false,
     "start_time": "2021-11-10T02:00:09.063638",
     "status": "completed"
    },
    "tags": []
   },
   "outputs": [],
   "source": [
    "df = pd.read_sql(\"select * from EBAY_TOP_BERLIN where record_time in (select distinct record_time from EBAY_TOP_BERLIN order by record_time desc limit 2)\", sqlite3.connect(\"UsedObjects.db\"))"
   ]
  },
  {
   "cell_type": "code",
   "execution_count": 5,
   "id": "popular-active",
   "metadata": {
    "execution": {
     "iopub.execute_input": "2021-11-10T02:00:10.290501Z",
     "iopub.status.busy": "2021-11-10T02:00:10.287861Z",
     "iopub.status.idle": "2021-11-10T02:00:10.321348Z",
     "shell.execute_reply": "2021-11-10T02:00:10.319659Z"
    },
    "papermill": {
     "duration": 0.077677,
     "end_time": "2021-11-10T02:00:10.321760",
     "exception": false,
     "start_time": "2021-11-10T02:00:10.244083",
     "status": "completed"
    },
    "tags": []
   },
   "outputs": [],
   "source": [
    "df_pivot = df.pivot_table(index=\"PRODUCT\", columns = \"RECORD_TIME\", values = \"LISTING_COUNT\")"
   ]
  },
  {
   "cell_type": "code",
   "execution_count": 6,
   "id": "union-huntington",
   "metadata": {
    "execution": {
     "iopub.execute_input": "2021-11-10T02:00:10.379176Z",
     "iopub.status.busy": "2021-11-10T02:00:10.376990Z",
     "iopub.status.idle": "2021-11-10T02:00:10.382453Z",
     "shell.execute_reply": "2021-11-10T02:00:10.383908Z"
    },
    "papermill": {
     "duration": 0.042865,
     "end_time": "2021-11-10T02:00:10.384358",
     "exception": false,
     "start_time": "2021-11-10T02:00:10.341493",
     "status": "completed"
    },
    "tags": []
   },
   "outputs": [],
   "source": [
    "df_pivot.columns = [\"stamp_1\", \"stamp_2\"]\n",
    "df_pivot_diff = df_pivot.diff(axis=1)"
   ]
  },
  {
   "cell_type": "code",
   "execution_count": 7,
   "id": "fifth-motion",
   "metadata": {
    "execution": {
     "iopub.execute_input": "2021-11-10T02:00:10.445465Z",
     "iopub.status.busy": "2021-11-10T02:00:10.442449Z",
     "iopub.status.idle": "2021-11-10T02:00:12.233053Z",
     "shell.execute_reply": "2021-11-10T02:00:12.235660Z"
    },
    "papermill": {
     "duration": 1.83186,
     "end_time": "2021-11-10T02:00:12.236506",
     "exception": false,
     "start_time": "2021-11-10T02:00:10.404646",
     "status": "completed"
    },
    "tags": []
   },
   "outputs": [
    {
     "data": {
      "text/plain": [
       "<AxesSubplot:ylabel='PRODUCT'>"
      ]
     },
     "execution_count": 7,
     "metadata": {},
     "output_type": "execute_result"
    },
    {
     "data": {
      "image/png": "[encoded data removed]",
      "text/plain": [
       "<Figure size 432x288 with 1 Axes>"
      ]
     },
     "metadata": {
      "needs_background": "light"
     },
     "output_type": "display_data"
    }
   ],
   "source": [
    "df_pivot_diff.sort_values(\"stamp_2\", ascending = False)[\"stamp_2\"].head(10).plot.barh()"
   ]
  },
  {
   "cell_type": "code",
   "execution_count": null,
   "id": "extra-executive",
   "metadata": {
    "papermill": {
     "duration": 0.037922,
     "end_time": "2021-11-10T02:00:12.310443",
     "exception": false,
     "start_time": "2021-11-10T02:00:12.272521",
     "status": "completed"
    },
    "tags": []
   },
   "outputs": [],
   "source": []
  }
 ],
 "metadata": {
  "kernelspec": {
   "display_name": "Python 3",
   "language": "python",
   "name": "python3"
  },
  "language_info": {
   "codemirror_mode": {
    "name": "ipython",
    "version": 3
   },
   "file_extension": ".py",
   "mimetype": "text/x-python",
   "name": "python",
   "nbconvert_exporter": "python",
   "pygments_lexer": "ipython3",
   "version": "3.9.5"
  },
  "papermill": {
   "default_parameters": {},
   "duration": 8.812763,
   "end_time": "2021-11-10T02:00:13.187038",
   "environment_variables": {},
   "exception": null,
   "input_path": "eBay_Overview.ipynb",
   "output_path": "eBay_Overview.ipynb",
   "parameters": {},
   "start_time": "2021-11-10T02:00:04.374275",
   "version": "2.3.3"
  }
 },
 "nbformat": 4,
 "nbformat_minor": 5
}