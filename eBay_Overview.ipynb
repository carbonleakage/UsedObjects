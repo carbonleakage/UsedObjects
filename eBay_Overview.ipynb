{
 "cells": [
  {
   "cell_type": "code",
   "execution_count": 1,
   "id": "reverse-picking",
   "metadata": {
    "execution": {
     "iopub.execute_input": "2021-08-10T18:30:04.027047Z",
     "iopub.status.busy": "2021-08-10T18:30:04.026284Z",
     "iopub.status.idle": "2021-08-10T18:30:04.674993Z",
     "shell.execute_reply": "2021-08-10T18:30:04.675577Z"
    },
    "papermill": {
     "duration": 0.667975,
     "end_time": "2021-08-10T18:30:04.675862",
     "exception": false,
     "start_time": "2021-08-10T18:30:04.007887",
     "status": "completed"
    },
    "tags": []
   },
   "outputs": [],
   "source": [
    "import pandas as pd\n",
    "import sqlite3"
   ]
  },
  {
   "cell_type": "code",
   "execution_count": 2,
   "id": "innovative-syndrome",
   "metadata": {
    "execution": {
     "iopub.execute_input": "2021-08-10T18:30:04.703063Z",
     "iopub.status.busy": "2021-08-10T18:30:04.702220Z",
     "iopub.status.idle": "2021-08-10T18:30:05.019684Z",
     "shell.execute_reply": "2021-08-10T18:30:05.020251Z"
    },
    "papermill": {
     "duration": 0.331393,
     "end_time": "2021-08-10T18:30:05.020442",
     "exception": false,
     "start_time": "2021-08-10T18:30:04.689049",
     "status": "completed"
    },
    "tags": []
   },
   "outputs": [],
   "source": [
    "timestamps = pd.read_sql(\"select distinct record_time from EBAY_TOP_BERLIN order by record_time desc limit 2\", sqlite3.connect(\"UsedObjects.db\"))"
   ]
  },
  {
   "cell_type": "code",
   "execution_count": 3,
   "id": "periodic-identification",
   "metadata": {
    "execution": {
     "iopub.execute_input": "2021-08-10T18:30:05.053189Z",
     "iopub.status.busy": "2021-08-10T18:30:05.052406Z",
     "iopub.status.idle": "2021-08-10T18:30:05.066521Z",
     "shell.execute_reply": "2021-08-10T18:30:05.065906Z"
    },
    "papermill": {
     "duration": 0.036911,
     "end_time": "2021-08-10T18:30:05.066681",
     "exception": false,
     "start_time": "2021-08-10T18:30:05.029770",
     "status": "completed"
    },
    "tags": []
   },
   "outputs": [
    {
     "data": {
      "text/html": [
       "<div>\n",
       "<style scoped>\n",
       "    .dataframe tbody tr th:only-of-type {\n",
       "        vertical-align: middle;\n",
       "    }\n",
       "\n",
       "    .dataframe tbody tr th {\n",
       "        vertical-align: top;\n",
       "    }\n",
       "\n",
       "    .dataframe thead th {\n",
       "        text-align: right;\n",
       "    }\n",
       "</style>\n",
       "<table border=\"1\" class=\"dataframe\">\n",
       "  <thead>\n",
       "    <tr style=\"text-align: right;\">\n",
       "      <th></th>\n",
       "      <th>RECORD_TIME</th>\n",
       "    </tr>\n",
       "  </thead>\n",
       "  <tbody>\n",
       "    <tr>\n",
       "      <th>0</th>\n",
       "      <td>2021-08-10 20:30</td>\n",
       "    </tr>\n",
       "    <tr>\n",
       "      <th>1</th>\n",
       "      <td>2021-08-10 20:00</td>\n",
       "    </tr>\n",
       "  </tbody>\n",
       "</table>\n",
       "</div>"
      ],
      "text/plain": [
       "        RECORD_TIME\n",
       "0  2021-08-10 20:30\n",
       "1  2021-08-10 20:00"
      ]
     },
     "execution_count": 3,
     "metadata": {},
     "output_type": "execute_result"
    }
   ],
   "source": [
    "timestamps"
   ]
  },
  {
   "cell_type": "code",
   "execution_count": 4,
   "id": "alternate-victory",
   "metadata": {
    "execution": {
     "iopub.execute_input": "2021-08-10T18:30:05.091175Z",
     "iopub.status.busy": "2021-08-10T18:30:05.090421Z",
     "iopub.status.idle": "2021-08-10T18:30:05.109750Z",
     "shell.execute_reply": "2021-08-10T18:30:05.108481Z"
    },
    "papermill": {
     "duration": 0.034503,
     "end_time": "2021-08-10T18:30:05.110000",
     "exception": false,
     "start_time": "2021-08-10T18:30:05.075497",
     "status": "completed"
    },
    "tags": []
   },
   "outputs": [],
   "source": [
    "df = pd.read_sql(\"select * from EBAY_TOP_BERLIN where record_time in (select distinct record_time from EBAY_TOP_BERLIN order by record_time desc limit 2)\", sqlite3.connect(\"UsedObjects.db\"))"
   ]
  },
  {
   "cell_type": "code",
   "execution_count": 5,
   "id": "popular-active",
   "metadata": {
    "execution": {
     "iopub.execute_input": "2021-08-10T18:30:05.140448Z",
     "iopub.status.busy": "2021-08-10T18:30:05.138601Z",
     "iopub.status.idle": "2021-08-10T18:30:05.158144Z",
     "shell.execute_reply": "2021-08-10T18:30:05.158674Z"
    },
    "papermill": {
     "duration": 0.038946,
     "end_time": "2021-08-10T18:30:05.158855",
     "exception": false,
     "start_time": "2021-08-10T18:30:05.119909",
     "status": "completed"
    },
    "tags": []
   },
   "outputs": [],
   "source": [
    "df_pivot = df.pivot_table(index=\"PRODUCT\", columns = \"RECORD_TIME\", values = \"LISTING_COUNT\")"
   ]
  },
  {
   "cell_type": "code",
   "execution_count": 6,
   "id": "union-huntington",
   "metadata": {
    "execution": {
     "iopub.execute_input": "2021-08-10T18:30:05.190904Z",
     "iopub.status.busy": "2021-08-10T18:30:05.190044Z",
     "iopub.status.idle": "2021-08-10T18:30:05.193042Z",
     "shell.execute_reply": "2021-08-10T18:30:05.193575Z"
    },
    "papermill": {
     "duration": 0.026252,
     "end_time": "2021-08-10T18:30:05.193757",
     "exception": false,
     "start_time": "2021-08-10T18:30:05.167505",
     "status": "completed"
    },
    "tags": []
   },
   "outputs": [],
   "source": [
    "df_pivot.columns = [\"stamp_1\", \"stamp_2\"]\n",
    "df_pivot_diff = df_pivot.diff(axis=1)"
   ]
  },
  {
   "cell_type": "code",
   "execution_count": 7,
   "id": "fifth-motion",
   "metadata": {
    "execution": {
     "iopub.execute_input": "2021-08-10T18:30:05.222908Z",
     "iopub.status.busy": "2021-08-10T18:30:05.222147Z",
     "iopub.status.idle": "2021-08-10T18:30:06.013258Z",
     "shell.execute_reply": "2021-08-10T18:30:06.012356Z"
    },
    "papermill": {
     "duration": 0.806288,
     "end_time": "2021-08-10T18:30:06.013476",
     "exception": false,
     "start_time": "2021-08-10T18:30:05.207188",
     "status": "completed"
    },
    "tags": []
   },
   "outputs": [
    {
     "data": {
      "text/plain": [
       "<AxesSubplot:ylabel='PRODUCT'>"
      ]
     },
     "execution_count": 7,
     "metadata": {},
     "output_type": "execute_result"
    },
    {
     "data": {
      "image/png": "[encoded data removed]",
      "text/plain": [
       "<Figure size 432x288 with 1 Axes>"
      ]
     },
     "metadata": {
      "needs_background": "light"
     },
     "output_type": "display_data"
    }
   ],
   "source": [
    "df_pivot_diff.sort_values(\"stamp_2\", ascending = False)[\"stamp_2\"].head(10).plot.barh()"
   ]
  },
  {
   "cell_type": "code",
   "execution_count": null,
   "id": "extra-executive",
   "metadata": {
    "papermill": {
     "duration": 0.009391,
     "end_time": "2021-08-10T18:30:06.033208",
     "exception": false,
     "start_time": "2021-08-10T18:30:06.023817",
     "status": "completed"
    },
    "tags": []
   },
   "outputs": [],
   "source": []
  }
 ],
 "metadata": {
  "kernelspec": {
   "display_name": "Python 3",
   "language": "python",
   "name": "python3"
  },
  "language_info": {
   "codemirror_mode": {
    "name": "ipython",
    "version": 3
   },
   "file_extension": ".py",
   "mimetype": "text/x-python",
   "name": "python",
   "nbconvert_exporter": "python",
   "pygments_lexer": "ipython3",
   "version": "3.8.8"
  },
  "papermill": {
   "default_parameters": {},
   "duration": 4.416648,
   "end_time": "2021-08-10T18:30:06.739087",
   "environment_variables": {},
   "exception": null,
   "input_path": "/Users/saravananshanmugam/Carbonleakage_Git/UsedObjects/eBay_Overview.ipynb",
   "output_path": "/Users/saravananshanmugam/Carbonleakage_Git/UsedObjects/eBay_Overview.ipynb",
   "parameters": {},
   "start_time": "2021-08-10T18:30:02.322439",
   "version": "2.3.3"
  }
 },
 "nbformat": 4,
 "nbformat_minor": 5
}