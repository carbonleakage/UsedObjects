{
 "cells": [
  {
   "cell_type": "code",
   "execution_count": 1,
   "id": "reverse-picking",
   "metadata": {
    "execution": {
     "iopub.execute_input": "2021-09-05T21:30:07.276845Z",
     "iopub.status.busy": "2021-09-05T21:30:07.274750Z",
     "iopub.status.idle": "2021-09-05T21:30:08.078222Z",
     "shell.execute_reply": "2021-09-05T21:30:08.079551Z"
    },
    "papermill": {
     "duration": 0.854693,
     "end_time": "2021-09-05T21:30:08.080188",
     "exception": false,
     "start_time": "2021-09-05T21:30:07.225495",
     "status": "completed"
    },
    "tags": []
   },
   "outputs": [],
   "source": [
    "import pandas as pd\n",
    "import sqlite3"
   ]
  },
  {
   "cell_type": "code",
   "execution_count": 2,
   "id": "innovative-syndrome",
   "metadata": {
    "execution": {
     "iopub.execute_input": "2021-09-05T21:30:08.130148Z",
     "iopub.status.busy": "2021-09-05T21:30:08.128305Z",
     "iopub.status.idle": "2021-09-05T21:30:08.348763Z",
     "shell.execute_reply": "2021-09-05T21:30:08.349949Z"
    },
    "papermill": {
     "duration": 0.249692,
     "end_time": "2021-09-05T21:30:08.350374",
     "exception": false,
     "start_time": "2021-09-05T21:30:08.100682",
     "status": "completed"
    },
    "tags": []
   },
   "outputs": [],
   "source": [
    "timestamps = pd.read_sql(\"select distinct record_time from EBAY_TOP_BERLIN order by record_time desc limit 2\", sqlite3.connect(\"UsedObjects.db\"))"
   ]
  },
  {
   "cell_type": "code",
   "execution_count": 3,
   "id": "periodic-identification",
   "metadata": {
    "execution": {
     "iopub.execute_input": "2021-09-05T21:30:08.416857Z",
     "iopub.status.busy": "2021-09-05T21:30:08.414778Z",
     "iopub.status.idle": "2021-09-05T21:30:08.435384Z",
     "shell.execute_reply": "2021-09-05T21:30:08.436591Z"
    },
    "papermill": {
     "duration": 0.067287,
     "end_time": "2021-09-05T21:30:08.437017",
     "exception": false,
     "start_time": "2021-09-05T21:30:08.369730",
     "status": "completed"
    },
    "tags": []
   },
   "outputs": [
    {
     "data": {
      "text/html": [
       "<div>\n",
       "<style scoped>\n",
       "    .dataframe tbody tr th:only-of-type {\n",
       "        vertical-align: middle;\n",
       "    }\n",
       "\n",
       "    .dataframe tbody tr th {\n",
       "        vertical-align: top;\n",
       "    }\n",
       "\n",
       "    .dataframe thead th {\n",
       "        text-align: right;\n",
       "    }\n",
       "</style>\n",
       "<table border=\"1\" class=\"dataframe\">\n",
       "  <thead>\n",
       "    <tr style=\"text-align: right;\">\n",
       "      <th></th>\n",
       "      <th>RECORD_TIME</th>\n",
       "    </tr>\n",
       "  </thead>\n",
       "  <tbody>\n",
       "    <tr>\n",
       "      <th>0</th>\n",
       "      <td>2021-09-05 23:30</td>\n",
       "    </tr>\n",
       "    <tr>\n",
       "      <th>1</th>\n",
       "      <td>2021-09-05 23:00</td>\n",
       "    </tr>\n",
       "  </tbody>\n",
       "</table>\n",
       "</div>"
      ],
      "text/plain": [
       "        RECORD_TIME\n",
       "0  2021-09-05 23:30\n",
       "1  2021-09-05 23:00"
      ]
     },
     "execution_count": 3,
     "metadata": {},
     "output_type": "execute_result"
    }
   ],
   "source": [
    "timestamps"
   ]
  },
  {
   "cell_type": "code",
   "execution_count": 4,
   "id": "alternate-victory",
   "metadata": {
    "execution": {
     "iopub.execute_input": "2021-09-05T21:30:08.488026Z",
     "iopub.status.busy": "2021-09-05T21:30:08.486093Z",
     "iopub.status.idle": "2021-09-05T21:30:08.802695Z",
     "shell.execute_reply": "2021-09-05T21:30:08.804028Z"
    },
    "papermill": {
     "duration": 0.346441,
     "end_time": "2021-09-05T21:30:08.804432",
     "exception": false,
     "start_time": "2021-09-05T21:30:08.457991",
     "status": "completed"
    },
    "tags": []
   },
   "outputs": [],
   "source": [
    "df = pd.read_sql(\"select * from EBAY_TOP_BERLIN where record_time in (select distinct record_time from EBAY_TOP_BERLIN order by record_time desc limit 2)\", sqlite3.connect(\"UsedObjects.db\"))"
   ]
  },
  {
   "cell_type": "code",
   "execution_count": 5,
   "id": "popular-active",
   "metadata": {
    "execution": {
     "iopub.execute_input": "2021-09-05T21:30:08.891021Z",
     "iopub.status.busy": "2021-09-05T21:30:08.883298Z",
     "iopub.status.idle": "2021-09-05T21:30:08.911510Z",
     "shell.execute_reply": "2021-09-05T21:30:08.912725Z"
    },
    "papermill": {
     "duration": 0.075229,
     "end_time": "2021-09-05T21:30:08.913113",
     "exception": false,
     "start_time": "2021-09-05T21:30:08.837884",
     "status": "completed"
    },
    "tags": []
   },
   "outputs": [],
   "source": [
    "df_pivot = df.pivot_table(index=\"PRODUCT\", columns = \"RECORD_TIME\", values = \"LISTING_COUNT\")"
   ]
  },
  {
   "cell_type": "code",
   "execution_count": 6,
   "id": "union-huntington",
   "metadata": {
    "execution": {
     "iopub.execute_input": "2021-09-05T21:30:08.972722Z",
     "iopub.status.busy": "2021-09-05T21:30:08.970262Z",
     "iopub.status.idle": "2021-09-05T21:30:08.976391Z",
     "shell.execute_reply": "2021-09-05T21:30:08.977849Z"
    },
    "papermill": {
     "duration": 0.04233,
     "end_time": "2021-09-05T21:30:08.978300",
     "exception": false,
     "start_time": "2021-09-05T21:30:08.935970",
     "status": "completed"
    },
    "tags": []
   },
   "outputs": [],
   "source": [
    "df_pivot.columns = [\"stamp_1\", \"stamp_2\"]\n",
    "df_pivot_diff = df_pivot.diff(axis=1)"
   ]
  },
  {
   "cell_type": "code",
   "execution_count": 7,
   "id": "fifth-motion",
   "metadata": {
    "execution": {
     "iopub.execute_input": "2021-09-05T21:30:09.033803Z",
     "iopub.status.busy": "2021-09-05T21:30:09.031520Z",
     "iopub.status.idle": "2021-09-05T21:30:10.539541Z",
     "shell.execute_reply": "2021-09-05T21:30:10.540917Z"
    },
    "papermill": {
     "duration": 1.541118,
     "end_time": "2021-09-05T21:30:10.541330",
     "exception": false,
     "start_time": "2021-09-05T21:30:09.000212",
     "status": "completed"
    },
    "tags": []
   },
   "outputs": [
    {
     "data": {
      "text/plain": [
       "<AxesSubplot:ylabel='PRODUCT'>"
      ]
     },
     "execution_count": 7,
     "metadata": {},
     "output_type": "execute_result"
    },
    {
     "data": {
      "image/png": "[encoded data removed]",
      "text/plain": [
       "<Figure size 432x288 with 1 Axes>"
      ]
     },
     "metadata": {
      "needs_background": "light"
     },
     "output_type": "display_data"
    }
   ],
   "source": [
    "df_pivot_diff.sort_values(\"stamp_2\", ascending = False)[\"stamp_2\"].head(10).plot.barh()"
   ]
  },
  {
   "cell_type": "code",
   "execution_count": null,
   "id": "extra-executive",
   "metadata": {
    "papermill": {
     "duration": 0.022136,
     "end_time": "2021-09-05T21:30:10.587935",
     "exception": false,
     "start_time": "2021-09-05T21:30:10.565799",
     "status": "completed"
    },
    "tags": []
   },
   "outputs": [],
   "source": []
  }
 ],
 "metadata": {
  "kernelspec": {
   "display_name": "Python 3",
   "language": "python",
   "name": "python3"
  },
  "language_info": {
   "codemirror_mode": {
    "name": "ipython",
    "version": 3
   },
   "file_extension": ".py",
   "mimetype": "text/x-python",
   "name": "python",
   "nbconvert_exporter": "python",
   "pygments_lexer": "ipython3",
   "version": "3.9.5"
  },
  "papermill": {
   "default_parameters": {},
   "duration": 6.407142,
   "end_time": "2021-09-05T21:30:11.228548",
   "environment_variables": {},
   "exception": null,
   "input_path": "eBay_Overview.ipynb",
   "output_path": "eBay_Overview.ipynb",
   "parameters": {},
   "start_time": "2021-09-05T21:30:04.821406",
   "version": "2.3.3"
  }
 },
 "nbformat": 4,
 "nbformat_minor": 5
}