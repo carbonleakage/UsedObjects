{
 "cells": [
  {
   "cell_type": "code",
   "execution_count": 1,
   "id": "reverse-picking",
   "metadata": {
    "execution": {
     "iopub.execute_input": "2021-10-18T15:00:06.820030Z",
     "iopub.status.busy": "2021-10-18T15:00:06.818118Z",
     "iopub.status.idle": "2021-10-18T15:00:07.637043Z",
     "shell.execute_reply": "2021-10-18T15:00:07.638392Z"
    },
    "papermill": {
     "duration": 0.870477,
     "end_time": "2021-10-18T15:00:07.639028",
     "exception": false,
     "start_time": "2021-10-18T15:00:06.768551",
     "status": "completed"
    },
    "tags": []
   },
   "outputs": [],
   "source": [
    "import pandas as pd\n",
    "import sqlite3"
   ]
  },
  {
   "cell_type": "code",
   "execution_count": 2,
   "id": "innovative-syndrome",
   "metadata": {
    "execution": {
     "iopub.execute_input": "2021-10-18T15:00:07.689264Z",
     "iopub.status.busy": "2021-10-18T15:00:07.687269Z",
     "iopub.status.idle": "2021-10-18T15:00:08.249058Z",
     "shell.execute_reply": "2021-10-18T15:00:08.250207Z"
    },
    "papermill": {
     "duration": 0.591218,
     "end_time": "2021-10-18T15:00:08.250608",
     "exception": false,
     "start_time": "2021-10-18T15:00:07.659390",
     "status": "completed"
    },
    "tags": []
   },
   "outputs": [],
   "source": [
    "timestamps = pd.read_sql(\"select distinct record_time from EBAY_TOP_BERLIN order by record_time desc limit 2\", sqlite3.connect(\"UsedObjects.db\"))"
   ]
  },
  {
   "cell_type": "code",
   "execution_count": 3,
   "id": "periodic-identification",
   "metadata": {
    "execution": {
     "iopub.execute_input": "2021-10-18T15:00:08.330410Z",
     "iopub.status.busy": "2021-10-18T15:00:08.325117Z",
     "iopub.status.idle": "2021-10-18T15:00:08.346420Z",
     "shell.execute_reply": "2021-10-18T15:00:08.348172Z"
    },
    "papermill": {
     "duration": 0.070219,
     "end_time": "2021-10-18T15:00:08.348802",
     "exception": false,
     "start_time": "2021-10-18T15:00:08.278583",
     "status": "completed"
    },
    "tags": []
   },
   "outputs": [
    {
     "data": {
      "text/html": [
       "<div>\n",
       "<style scoped>\n",
       "    .dataframe tbody tr th:only-of-type {\n",
       "        vertical-align: middle;\n",
       "    }\n",
       "\n",
       "    .dataframe tbody tr th {\n",
       "        vertical-align: top;\n",
       "    }\n",
       "\n",
       "    .dataframe thead th {\n",
       "        text-align: right;\n",
       "    }\n",
       "</style>\n",
       "<table border=\"1\" class=\"dataframe\">\n",
       "  <thead>\n",
       "    <tr style=\"text-align: right;\">\n",
       "      <th></th>\n",
       "      <th>RECORD_TIME</th>\n",
       "    </tr>\n",
       "  </thead>\n",
       "  <tbody>\n",
       "    <tr>\n",
       "      <th>0</th>\n",
       "      <td>2021-10-18 17:00</td>\n",
       "    </tr>\n",
       "    <tr>\n",
       "      <th>1</th>\n",
       "      <td>2021-10-18 16:30</td>\n",
       "    </tr>\n",
       "  </tbody>\n",
       "</table>\n",
       "</div>"
      ],
      "text/plain": [
       "        RECORD_TIME\n",
       "0  2021-10-18 17:00\n",
       "1  2021-10-18 16:30"
      ]
     },
     "execution_count": 3,
     "metadata": {},
     "output_type": "execute_result"
    }
   ],
   "source": [
    "timestamps"
   ]
  },
  {
   "cell_type": "code",
   "execution_count": 4,
   "id": "alternate-victory",
   "metadata": {
    "execution": {
     "iopub.execute_input": "2021-10-18T15:00:08.401651Z",
     "iopub.status.busy": "2021-10-18T15:00:08.399724Z",
     "iopub.status.idle": "2021-10-18T15:00:09.218613Z",
     "shell.execute_reply": "2021-10-18T15:00:09.219890Z"
    },
    "papermill": {
     "duration": 0.849081,
     "end_time": "2021-10-18T15:00:09.220297",
     "exception": false,
     "start_time": "2021-10-18T15:00:08.371216",
     "status": "completed"
    },
    "tags": []
   },
   "outputs": [],
   "source": [
    "df = pd.read_sql(\"select * from EBAY_TOP_BERLIN where record_time in (select distinct record_time from EBAY_TOP_BERLIN order by record_time desc limit 2)\", sqlite3.connect(\"UsedObjects.db\"))"
   ]
  },
  {
   "cell_type": "code",
   "execution_count": 5,
   "id": "popular-active",
   "metadata": {
    "execution": {
     "iopub.execute_input": "2021-10-18T15:00:09.289767Z",
     "iopub.status.busy": "2021-10-18T15:00:09.278952Z",
     "iopub.status.idle": "2021-10-18T15:00:09.306375Z",
     "shell.execute_reply": "2021-10-18T15:00:09.307587Z"
    },
    "papermill": {
     "duration": 0.066579,
     "end_time": "2021-10-18T15:00:09.307974",
     "exception": false,
     "start_time": "2021-10-18T15:00:09.241395",
     "status": "completed"
    },
    "tags": []
   },
   "outputs": [],
   "source": [
    "df_pivot = df.pivot_table(index=\"PRODUCT\", columns = \"RECORD_TIME\", values = \"LISTING_COUNT\")"
   ]
  },
  {
   "cell_type": "code",
   "execution_count": 6,
   "id": "union-huntington",
   "metadata": {
    "execution": {
     "iopub.execute_input": "2021-10-18T15:00:09.367833Z",
     "iopub.status.busy": "2021-10-18T15:00:09.365394Z",
     "iopub.status.idle": "2021-10-18T15:00:09.371411Z",
     "shell.execute_reply": "2021-10-18T15:00:09.372746Z"
    },
    "papermill": {
     "duration": 0.042756,
     "end_time": "2021-10-18T15:00:09.373202",
     "exception": false,
     "start_time": "2021-10-18T15:00:09.330446",
     "status": "completed"
    },
    "tags": []
   },
   "outputs": [],
   "source": [
    "df_pivot.columns = [\"stamp_1\", \"stamp_2\"]\n",
    "df_pivot_diff = df_pivot.diff(axis=1)"
   ]
  },
  {
   "cell_type": "code",
   "execution_count": 7,
   "id": "fifth-motion",
   "metadata": {
    "execution": {
     "iopub.execute_input": "2021-10-18T15:00:09.428138Z",
     "iopub.status.busy": "2021-10-18T15:00:09.425951Z",
     "iopub.status.idle": "2021-10-18T15:00:10.918036Z",
     "shell.execute_reply": "2021-10-18T15:00:10.919492Z"
    },
    "papermill": {
     "duration": 1.525076,
     "end_time": "2021-10-18T15:00:10.919950",
     "exception": false,
     "start_time": "2021-10-18T15:00:09.394874",
     "status": "completed"
    },
    "tags": []
   },
   "outputs": [
    {
     "data": {
      "text/plain": [
       "<AxesSubplot:ylabel='PRODUCT'>"
      ]
     },
     "execution_count": 7,
     "metadata": {},
     "output_type": "execute_result"
    },
    {
     "data": {
      "image/png": "[encoded data removed]",
      "text/plain": [
       "<Figure size 432x288 with 1 Axes>"
      ]
     },
     "metadata": {
      "needs_background": "light"
     },
     "output_type": "display_data"
    }
   ],
   "source": [
    "df_pivot_diff.sort_values(\"stamp_2\", ascending = False)[\"stamp_2\"].head(10).plot.barh()"
   ]
  },
  {
   "cell_type": "code",
   "execution_count": null,
   "id": "extra-executive",
   "metadata": {
    "papermill": {
     "duration": 0.02245,
     "end_time": "2021-10-18T15:00:10.966668",
     "exception": false,
     "start_time": "2021-10-18T15:00:10.944218",
     "status": "completed"
    },
    "tags": []
   },
   "outputs": [],
   "source": []
  }
 ],
 "metadata": {
  "kernelspec": {
   "display_name": "Python 3",
   "language": "python",
   "name": "python3"
  },
  "language_info": {
   "codemirror_mode": {
    "name": "ipython",
    "version": 3
   },
   "file_extension": ".py",
   "mimetype": "text/x-python",
   "name": "python",
   "nbconvert_exporter": "python",
   "pygments_lexer": "ipython3",
   "version": "3.9.5"
  },
  "papermill": {
   "default_parameters": {},
   "duration": 7.820393,
   "end_time": "2021-10-18T15:00:12.185558",
   "environment_variables": {},
   "exception": null,
   "input_path": "eBay_Overview.ipynb",
   "output_path": "eBay_Overview.ipynb",
   "parameters": {},
   "start_time": "2021-10-18T15:00:04.365165",
   "version": "2.3.3"
  }
 },
 "nbformat": 4,
 "nbformat_minor": 5
}