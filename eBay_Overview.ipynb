{
 "cells": [
  {
   "cell_type": "code",
   "execution_count": 1,
   "id": "reverse-picking",
   "metadata": {
    "execution": {
     "iopub.execute_input": "2021-10-03T04:00:06.550108Z",
     "iopub.status.busy": "2021-10-03T04:00:06.548145Z",
     "iopub.status.idle": "2021-10-03T04:00:07.350619Z",
     "shell.execute_reply": "2021-10-03T04:00:07.352066Z"
    },
    "papermill": {
     "duration": 0.852647,
     "end_time": "2021-10-03T04:00:07.352724",
     "exception": false,
     "start_time": "2021-10-03T04:00:06.500077",
     "status": "completed"
    },
    "tags": []
   },
   "outputs": [],
   "source": [
    "import pandas as pd\n",
    "import sqlite3"
   ]
  },
  {
   "cell_type": "code",
   "execution_count": 2,
   "id": "innovative-syndrome",
   "metadata": {
    "execution": {
     "iopub.execute_input": "2021-10-03T04:00:07.403395Z",
     "iopub.status.busy": "2021-10-03T04:00:07.401420Z",
     "iopub.status.idle": "2021-10-03T04:00:07.831986Z",
     "shell.execute_reply": "2021-10-03T04:00:07.833185Z"
    },
    "papermill": {
     "duration": 0.460358,
     "end_time": "2021-10-03T04:00:07.833575",
     "exception": false,
     "start_time": "2021-10-03T04:00:07.373217",
     "status": "completed"
    },
    "tags": []
   },
   "outputs": [],
   "source": [
    "timestamps = pd.read_sql(\"select distinct record_time from EBAY_TOP_BERLIN order by record_time desc limit 2\", sqlite3.connect(\"UsedObjects.db\"))"
   ]
  },
  {
   "cell_type": "code",
   "execution_count": 3,
   "id": "periodic-identification",
   "metadata": {
    "execution": {
     "iopub.execute_input": "2021-10-03T04:00:07.902233Z",
     "iopub.status.busy": "2021-10-03T04:00:07.900224Z",
     "iopub.status.idle": "2021-10-03T04:00:07.920205Z",
     "shell.execute_reply": "2021-10-03T04:00:07.921690Z"
    },
    "papermill": {
     "duration": 0.066084,
     "end_time": "2021-10-03T04:00:07.922197",
     "exception": false,
     "start_time": "2021-10-03T04:00:07.856113",
     "status": "completed"
    },
    "tags": []
   },
   "outputs": [
    {
     "data": {
      "text/html": [
       "<div>\n",
       "<style scoped>\n",
       "    .dataframe tbody tr th:only-of-type {\n",
       "        vertical-align: middle;\n",
       "    }\n",
       "\n",
       "    .dataframe tbody tr th {\n",
       "        vertical-align: top;\n",
       "    }\n",
       "\n",
       "    .dataframe thead th {\n",
       "        text-align: right;\n",
       "    }\n",
       "</style>\n",
       "<table border=\"1\" class=\"dataframe\">\n",
       "  <thead>\n",
       "    <tr style=\"text-align: right;\">\n",
       "      <th></th>\n",
       "      <th>RECORD_TIME</th>\n",
       "    </tr>\n",
       "  </thead>\n",
       "  <tbody>\n",
       "    <tr>\n",
       "      <th>0</th>\n",
       "      <td>2021-10-03 06:00</td>\n",
       "    </tr>\n",
       "    <tr>\n",
       "      <th>1</th>\n",
       "      <td>2021-10-03 05:30</td>\n",
       "    </tr>\n",
       "  </tbody>\n",
       "</table>\n",
       "</div>"
      ],
      "text/plain": [
       "        RECORD_TIME\n",
       "0  2021-10-03 06:00\n",
       "1  2021-10-03 05:30"
      ]
     },
     "execution_count": 3,
     "metadata": {},
     "output_type": "execute_result"
    }
   ],
   "source": [
    "timestamps"
   ]
  },
  {
   "cell_type": "code",
   "execution_count": 4,
   "id": "alternate-victory",
   "metadata": {
    "execution": {
     "iopub.execute_input": "2021-10-03T04:00:07.974521Z",
     "iopub.status.busy": "2021-10-03T04:00:07.972670Z",
     "iopub.status.idle": "2021-10-03T04:00:08.610881Z",
     "shell.execute_reply": "2021-10-03T04:00:08.612326Z"
    },
    "papermill": {
     "duration": 0.668504,
     "end_time": "2021-10-03T04:00:08.612769",
     "exception": false,
     "start_time": "2021-10-03T04:00:07.944265",
     "status": "completed"
    },
    "tags": []
   },
   "outputs": [],
   "source": [
    "df = pd.read_sql(\"select * from EBAY_TOP_BERLIN where record_time in (select distinct record_time from EBAY_TOP_BERLIN order by record_time desc limit 2)\", sqlite3.connect(\"UsedObjects.db\"))"
   ]
  },
  {
   "cell_type": "code",
   "execution_count": 5,
   "id": "popular-active",
   "metadata": {
    "execution": {
     "iopub.execute_input": "2021-10-03T04:00:08.688768Z",
     "iopub.status.busy": "2021-10-03T04:00:08.677091Z",
     "iopub.status.idle": "2021-10-03T04:00:08.704648Z",
     "shell.execute_reply": "2021-10-03T04:00:08.705941Z"
    },
    "papermill": {
     "duration": 0.069064,
     "end_time": "2021-10-03T04:00:08.706361",
     "exception": false,
     "start_time": "2021-10-03T04:00:08.637297",
     "status": "completed"
    },
    "tags": []
   },
   "outputs": [],
   "source": [
    "df_pivot = df.pivot_table(index=\"PRODUCT\", columns = \"RECORD_TIME\", values = \"LISTING_COUNT\")"
   ]
  },
  {
   "cell_type": "code",
   "execution_count": 6,
   "id": "union-huntington",
   "metadata": {
    "execution": {
     "iopub.execute_input": "2021-10-03T04:00:08.762301Z",
     "iopub.status.busy": "2021-10-03T04:00:08.760152Z",
     "iopub.status.idle": "2021-10-03T04:00:08.765708Z",
     "shell.execute_reply": "2021-10-03T04:00:08.767099Z"
    },
    "papermill": {
     "duration": 0.040975,
     "end_time": "2021-10-03T04:00:08.767569",
     "exception": false,
     "start_time": "2021-10-03T04:00:08.726594",
     "status": "completed"
    },
    "tags": []
   },
   "outputs": [],
   "source": [
    "df_pivot.columns = [\"stamp_1\", \"stamp_2\"]\n",
    "df_pivot_diff = df_pivot.diff(axis=1)"
   ]
  },
  {
   "cell_type": "code",
   "execution_count": 7,
   "id": "fifth-motion",
   "metadata": {
    "execution": {
     "iopub.execute_input": "2021-10-03T04:00:08.823359Z",
     "iopub.status.busy": "2021-10-03T04:00:08.820640Z",
     "iopub.status.idle": "2021-10-03T04:00:10.295646Z",
     "shell.execute_reply": "2021-10-03T04:00:10.296947Z"
    },
    "papermill": {
     "duration": 1.508611,
     "end_time": "2021-10-03T04:00:10.297366",
     "exception": false,
     "start_time": "2021-10-03T04:00:08.788755",
     "status": "completed"
    },
    "tags": []
   },
   "outputs": [
    {
     "data": {
      "text/plain": [
       "<AxesSubplot:ylabel='PRODUCT'>"
      ]
     },
     "execution_count": 7,
     "metadata": {},
     "output_type": "execute_result"
    },
    {
     "data": {
      "image/png": "[encoded data removed]",
      "text/plain": [
       "<Figure size 432x288 with 1 Axes>"
      ]
     },
     "metadata": {
      "needs_background": "light"
     },
     "output_type": "display_data"
    }
   ],
   "source": [
    "df_pivot_diff.sort_values(\"stamp_2\", ascending = False)[\"stamp_2\"].head(10).plot.barh()"
   ]
  },
  {
   "cell_type": "code",
   "execution_count": null,
   "id": "extra-executive",
   "metadata": {
    "papermill": {
     "duration": 0.022555,
     "end_time": "2021-10-03T04:00:10.344832",
     "exception": false,
     "start_time": "2021-10-03T04:00:10.322277",
     "status": "completed"
    },
    "tags": []
   },
   "outputs": [],
   "source": []
  }
 ],
 "metadata": {
  "kernelspec": {
   "display_name": "Python 3",
   "language": "python",
   "name": "python3"
  },
  "language_info": {
   "codemirror_mode": {
    "name": "ipython",
    "version": 3
   },
   "file_extension": ".py",
   "mimetype": "text/x-python",
   "name": "python",
   "nbconvert_exporter": "python",
   "pygments_lexer": "ipython3",
   "version": "3.9.5"
  },
  "papermill": {
   "default_parameters": {},
   "duration": 7.823579,
   "end_time": "2021-10-03T04:00:11.921374",
   "environment_variables": {},
   "exception": null,
   "input_path": "eBay_Overview.ipynb",
   "output_path": "eBay_Overview.ipynb",
   "parameters": {},
   "start_time": "2021-10-03T04:00:04.097795",
   "version": "2.3.3"
  }
 },
 "nbformat": 4,
 "nbformat_minor": 5
}