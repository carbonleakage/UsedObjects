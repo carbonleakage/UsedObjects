{
 "cells": [
  {
   "cell_type": "code",
   "execution_count": 1,
   "id": "reverse-picking",
   "metadata": {
    "execution": {
     "iopub.execute_input": "2021-09-03T07:00:06.675959Z",
     "iopub.status.busy": "2021-09-03T07:00:06.673981Z",
     "iopub.status.idle": "2021-09-03T07:00:07.479882Z",
     "shell.execute_reply": "2021-09-03T07:00:07.478213Z"
    },
    "papermill": {
     "duration": 0.85374,
     "end_time": "2021-09-03T07:00:07.480294",
     "exception": false,
     "start_time": "2021-09-03T07:00:06.626554",
     "status": "completed"
    },
    "tags": []
   },
   "outputs": [],
   "source": [
    "import pandas as pd\n",
    "import sqlite3"
   ]
  },
  {
   "cell_type": "code",
   "execution_count": 2,
   "id": "innovative-syndrome",
   "metadata": {
    "execution": {
     "iopub.execute_input": "2021-09-03T07:00:07.531162Z",
     "iopub.status.busy": "2021-09-03T07:00:07.529135Z",
     "iopub.status.idle": "2021-09-03T07:00:07.726612Z",
     "shell.execute_reply": "2021-09-03T07:00:07.727972Z"
    },
    "papermill": {
     "duration": 0.227133,
     "end_time": "2021-09-03T07:00:07.728398",
     "exception": false,
     "start_time": "2021-09-03T07:00:07.501265",
     "status": "completed"
    },
    "tags": []
   },
   "outputs": [],
   "source": [
    "timestamps = pd.read_sql(\"select distinct record_time from EBAY_TOP_BERLIN order by record_time desc limit 2\", sqlite3.connect(\"UsedObjects.db\"))"
   ]
  },
  {
   "cell_type": "code",
   "execution_count": 3,
   "id": "periodic-identification",
   "metadata": {
    "execution": {
     "iopub.execute_input": "2021-09-03T07:00:07.794269Z",
     "iopub.status.busy": "2021-09-03T07:00:07.792014Z",
     "iopub.status.idle": "2021-09-03T07:00:07.812016Z",
     "shell.execute_reply": "2021-09-03T07:00:07.813240Z"
    },
    "papermill": {
     "duration": 0.065519,
     "end_time": "2021-09-03T07:00:07.813638",
     "exception": false,
     "start_time": "2021-09-03T07:00:07.748119",
     "status": "completed"
    },
    "tags": []
   },
   "outputs": [
    {
     "data": {
      "text/html": [
       "<div>\n",
       "<style scoped>\n",
       "    .dataframe tbody tr th:only-of-type {\n",
       "        vertical-align: middle;\n",
       "    }\n",
       "\n",
       "    .dataframe tbody tr th {\n",
       "        vertical-align: top;\n",
       "    }\n",
       "\n",
       "    .dataframe thead th {\n",
       "        text-align: right;\n",
       "    }\n",
       "</style>\n",
       "<table border=\"1\" class=\"dataframe\">\n",
       "  <thead>\n",
       "    <tr style=\"text-align: right;\">\n",
       "      <th></th>\n",
       "      <th>RECORD_TIME</th>\n",
       "    </tr>\n",
       "  </thead>\n",
       "  <tbody>\n",
       "    <tr>\n",
       "      <th>0</th>\n",
       "      <td>2021-09-03 09:00</td>\n",
       "    </tr>\n",
       "    <tr>\n",
       "      <th>1</th>\n",
       "      <td>2021-09-03 08:30</td>\n",
       "    </tr>\n",
       "  </tbody>\n",
       "</table>\n",
       "</div>"
      ],
      "text/plain": [
       "        RECORD_TIME\n",
       "0  2021-09-03 09:00\n",
       "1  2021-09-03 08:30"
      ]
     },
     "execution_count": 3,
     "metadata": {},
     "output_type": "execute_result"
    }
   ],
   "source": [
    "timestamps"
   ]
  },
  {
   "cell_type": "code",
   "execution_count": 4,
   "id": "alternate-victory",
   "metadata": {
    "execution": {
     "iopub.execute_input": "2021-09-03T07:00:07.866643Z",
     "iopub.status.busy": "2021-09-03T07:00:07.864386Z",
     "iopub.status.idle": "2021-09-03T07:00:08.156845Z",
     "shell.execute_reply": "2021-09-03T07:00:08.158058Z"
    },
    "papermill": {
     "duration": 0.322853,
     "end_time": "2021-09-03T07:00:08.158456",
     "exception": false,
     "start_time": "2021-09-03T07:00:07.835603",
     "status": "completed"
    },
    "tags": []
   },
   "outputs": [],
   "source": [
    "df = pd.read_sql(\"select * from EBAY_TOP_BERLIN where record_time in (select distinct record_time from EBAY_TOP_BERLIN order by record_time desc limit 2)\", sqlite3.connect(\"UsedObjects.db\"))"
   ]
  },
  {
   "cell_type": "code",
   "execution_count": 5,
   "id": "popular-active",
   "metadata": {
    "execution": {
     "iopub.execute_input": "2021-09-03T07:00:08.240065Z",
     "iopub.status.busy": "2021-09-03T07:00:08.228011Z",
     "iopub.status.idle": "2021-09-03T07:00:08.256350Z",
     "shell.execute_reply": "2021-09-03T07:00:08.257554Z"
    },
    "papermill": {
     "duration": 0.07197,
     "end_time": "2021-09-03T07:00:08.257983",
     "exception": false,
     "start_time": "2021-09-03T07:00:08.186013",
     "status": "completed"
    },
    "tags": []
   },
   "outputs": [],
   "source": [
    "df_pivot = df.pivot_table(index=\"PRODUCT\", columns = \"RECORD_TIME\", values = \"LISTING_COUNT\")"
   ]
  },
  {
   "cell_type": "code",
   "execution_count": 6,
   "id": "union-huntington",
   "metadata": {
    "execution": {
     "iopub.execute_input": "2021-09-03T07:00:08.315138Z",
     "iopub.status.busy": "2021-09-03T07:00:08.312669Z",
     "iopub.status.idle": "2021-09-03T07:00:08.318669Z",
     "shell.execute_reply": "2021-09-03T07:00:08.320039Z"
    },
    "papermill": {
     "duration": 0.042806,
     "end_time": "2021-09-03T07:00:08.320503",
     "exception": false,
     "start_time": "2021-09-03T07:00:08.277697",
     "status": "completed"
    },
    "tags": []
   },
   "outputs": [],
   "source": [
    "df_pivot.columns = [\"stamp_1\", \"stamp_2\"]\n",
    "df_pivot_diff = df_pivot.diff(axis=1)"
   ]
  },
  {
   "cell_type": "code",
   "execution_count": 7,
   "id": "fifth-motion",
   "metadata": {
    "execution": {
     "iopub.execute_input": "2021-09-03T07:00:08.375038Z",
     "iopub.status.busy": "2021-09-03T07:00:08.372713Z",
     "iopub.status.idle": "2021-09-03T07:00:09.881130Z",
     "shell.execute_reply": "2021-09-03T07:00:09.882498Z"
    },
    "papermill": {
     "duration": 1.5411,
     "end_time": "2021-09-03T07:00:09.882995",
     "exception": false,
     "start_time": "2021-09-03T07:00:08.341895",
     "status": "completed"
    },
    "tags": []
   },
   "outputs": [
    {
     "data": {
      "text/plain": [
       "<AxesSubplot:ylabel='PRODUCT'>"
      ]
     },
     "execution_count": 7,
     "metadata": {},
     "output_type": "execute_result"
    },
    {
     "data": {
      "image/png": "[encoded data removed]",
      "text/plain": [
       "<Figure size 432x288 with 1 Axes>"
      ]
     },
     "metadata": {
      "needs_background": "light"
     },
     "output_type": "display_data"
    }
   ],
   "source": [
    "df_pivot_diff.sort_values(\"stamp_2\", ascending = False)[\"stamp_2\"].head(10).plot.barh()"
   ]
  },
  {
   "cell_type": "code",
   "execution_count": null,
   "id": "extra-executive",
   "metadata": {
    "papermill": {
     "duration": 0.022713,
     "end_time": "2021-09-03T07:00:09.930941",
     "exception": false,
     "start_time": "2021-09-03T07:00:09.908228",
     "status": "completed"
    },
    "tags": []
   },
   "outputs": [],
   "source": []
  }
 ],
 "metadata": {
  "kernelspec": {
   "display_name": "Python 3",
   "language": "python",
   "name": "python3"
  },
  "language_info": {
   "codemirror_mode": {
    "name": "ipython",
    "version": 3
   },
   "file_extension": ".py",
   "mimetype": "text/x-python",
   "name": "python",
   "nbconvert_exporter": "python",
   "pygments_lexer": "ipython3",
   "version": "3.9.5"
  },
  "papermill": {
   "default_parameters": {},
   "duration": 6.350708,
   "end_time": "2021-09-03T07:00:10.571585",
   "environment_variables": {},
   "exception": null,
   "input_path": "eBay_Overview.ipynb",
   "output_path": "eBay_Overview.ipynb",
   "parameters": {},
   "start_time": "2021-09-03T07:00:04.220877",
   "version": "2.3.3"
  }
 },
 "nbformat": 4,
 "nbformat_minor": 5
}