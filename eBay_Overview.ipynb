{
 "cells": [
  {
   "cell_type": "code",
   "execution_count": 1,
   "id": "reverse-picking",
   "metadata": {
    "execution": {
     "iopub.execute_input": "2021-09-18T19:30:06.948763Z",
     "iopub.status.busy": "2021-09-18T19:30:06.946836Z",
     "iopub.status.idle": "2021-09-18T19:30:07.749762Z",
     "shell.execute_reply": "2021-09-18T19:30:07.751146Z"
    },
    "papermill": {
     "duration": 0.855659,
     "end_time": "2021-09-18T19:30:07.751814",
     "exception": false,
     "start_time": "2021-09-18T19:30:06.896155",
     "status": "completed"
    },
    "tags": []
   },
   "outputs": [],
   "source": [
    "import pandas as pd\n",
    "import sqlite3"
   ]
  },
  {
   "cell_type": "code",
   "execution_count": 2,
   "id": "innovative-syndrome",
   "metadata": {
    "execution": {
     "iopub.execute_input": "2021-09-18T19:30:07.802418Z",
     "iopub.status.busy": "2021-09-18T19:30:07.800486Z",
     "iopub.status.idle": "2021-09-18T19:30:08.118516Z",
     "shell.execute_reply": "2021-09-18T19:30:08.120044Z"
    },
    "papermill": {
     "duration": 0.348377,
     "end_time": "2021-09-18T19:30:08.120515",
     "exception": false,
     "start_time": "2021-09-18T19:30:07.772138",
     "status": "completed"
    },
    "tags": []
   },
   "outputs": [],
   "source": [
    "timestamps = pd.read_sql(\"select distinct record_time from EBAY_TOP_BERLIN order by record_time desc limit 2\", sqlite3.connect(\"UsedObjects.db\"))"
   ]
  },
  {
   "cell_type": "code",
   "execution_count": 3,
   "id": "periodic-identification",
   "metadata": {
    "execution": {
     "iopub.execute_input": "2021-09-18T19:30:08.188361Z",
     "iopub.status.busy": "2021-09-18T19:30:08.186262Z",
     "iopub.status.idle": "2021-09-18T19:30:08.206943Z",
     "shell.execute_reply": "2021-09-18T19:30:08.208311Z"
    },
    "papermill": {
     "duration": 0.067402,
     "end_time": "2021-09-18T19:30:08.208785",
     "exception": false,
     "start_time": "2021-09-18T19:30:08.141383",
     "status": "completed"
    },
    "tags": []
   },
   "outputs": [
    {
     "data": {
      "text/html": [
       "<div>\n",
       "<style scoped>\n",
       "    .dataframe tbody tr th:only-of-type {\n",
       "        vertical-align: middle;\n",
       "    }\n",
       "\n",
       "    .dataframe tbody tr th {\n",
       "        vertical-align: top;\n",
       "    }\n",
       "\n",
       "    .dataframe thead th {\n",
       "        text-align: right;\n",
       "    }\n",
       "</style>\n",
       "<table border=\"1\" class=\"dataframe\">\n",
       "  <thead>\n",
       "    <tr style=\"text-align: right;\">\n",
       "      <th></th>\n",
       "      <th>RECORD_TIME</th>\n",
       "    </tr>\n",
       "  </thead>\n",
       "  <tbody>\n",
       "    <tr>\n",
       "      <th>0</th>\n",
       "      <td>2021-09-18 21:30</td>\n",
       "    </tr>\n",
       "    <tr>\n",
       "      <th>1</th>\n",
       "      <td>2021-09-18 21:00</td>\n",
       "    </tr>\n",
       "  </tbody>\n",
       "</table>\n",
       "</div>"
      ],
      "text/plain": [
       "        RECORD_TIME\n",
       "0  2021-09-18 21:30\n",
       "1  2021-09-18 21:00"
      ]
     },
     "execution_count": 3,
     "metadata": {},
     "output_type": "execute_result"
    }
   ],
   "source": [
    "timestamps"
   ]
  },
  {
   "cell_type": "code",
   "execution_count": 4,
   "id": "alternate-victory",
   "metadata": {
    "execution": {
     "iopub.execute_input": "2021-09-18T19:30:08.261536Z",
     "iopub.status.busy": "2021-09-18T19:30:08.259725Z",
     "iopub.status.idle": "2021-09-18T19:30:08.725992Z",
     "shell.execute_reply": "2021-09-18T19:30:08.727145Z"
    },
    "papermill": {
     "duration": 0.496191,
     "end_time": "2021-09-18T19:30:08.727558",
     "exception": false,
     "start_time": "2021-09-18T19:30:08.231367",
     "status": "completed"
    },
    "tags": []
   },
   "outputs": [],
   "source": [
    "df = pd.read_sql(\"select * from EBAY_TOP_BERLIN where record_time in (select distinct record_time from EBAY_TOP_BERLIN order by record_time desc limit 2)\", sqlite3.connect(\"UsedObjects.db\"))"
   ]
  },
  {
   "cell_type": "code",
   "execution_count": 5,
   "id": "popular-active",
   "metadata": {
    "execution": {
     "iopub.execute_input": "2021-09-18T19:30:08.801014Z",
     "iopub.status.busy": "2021-09-18T19:30:08.788620Z",
     "iopub.status.idle": "2021-09-18T19:30:08.816706Z",
     "shell.execute_reply": "2021-09-18T19:30:08.817900Z"
    },
    "papermill": {
     "duration": 0.068044,
     "end_time": "2021-09-18T19:30:08.818298",
     "exception": false,
     "start_time": "2021-09-18T19:30:08.750254",
     "status": "completed"
    },
    "tags": []
   },
   "outputs": [],
   "source": [
    "df_pivot = df.pivot_table(index=\"PRODUCT\", columns = \"RECORD_TIME\", values = \"LISTING_COUNT\")"
   ]
  },
  {
   "cell_type": "code",
   "execution_count": 6,
   "id": "union-huntington",
   "metadata": {
    "execution": {
     "iopub.execute_input": "2021-09-18T19:30:08.875364Z",
     "iopub.status.busy": "2021-09-18T19:30:08.873292Z",
     "iopub.status.idle": "2021-09-18T19:30:08.878576Z",
     "shell.execute_reply": "2021-09-18T19:30:08.879907Z"
    },
    "papermill": {
     "duration": 0.040393,
     "end_time": "2021-09-18T19:30:08.880326",
     "exception": false,
     "start_time": "2021-09-18T19:30:08.839933",
     "status": "completed"
    },
    "tags": []
   },
   "outputs": [],
   "source": [
    "df_pivot.columns = [\"stamp_1\", \"stamp_2\"]\n",
    "df_pivot_diff = df_pivot.diff(axis=1)"
   ]
  },
  {
   "cell_type": "code",
   "execution_count": 7,
   "id": "fifth-motion",
   "metadata": {
    "execution": {
     "iopub.execute_input": "2021-09-18T19:30:08.935797Z",
     "iopub.status.busy": "2021-09-18T19:30:08.933253Z",
     "iopub.status.idle": "2021-09-18T19:30:10.426458Z",
     "shell.execute_reply": "2021-09-18T19:30:10.427872Z"
    },
    "papermill": {
     "duration": 1.526428,
     "end_time": "2021-09-18T19:30:10.428315",
     "exception": false,
     "start_time": "2021-09-18T19:30:08.901887",
     "status": "completed"
    },
    "tags": []
   },
   "outputs": [
    {
     "data": {
      "text/plain": [
       "<AxesSubplot:ylabel='PRODUCT'>"
      ]
     },
     "execution_count": 7,
     "metadata": {},
     "output_type": "execute_result"
    },
    {
     "data": {
      "image/png": "[encoded data removed]",
      "text/plain": [
       "<Figure size 432x288 with 1 Axes>"
      ]
     },
     "metadata": {
      "needs_background": "light"
     },
     "output_type": "display_data"
    }
   ],
   "source": [
    "df_pivot_diff.sort_values(\"stamp_2\", ascending = False)[\"stamp_2\"].head(10).plot.barh()"
   ]
  },
  {
   "cell_type": "code",
   "execution_count": null,
   "id": "extra-executive",
   "metadata": {
    "papermill": {
     "duration": 0.022567,
     "end_time": "2021-09-18T19:30:10.475728",
     "exception": false,
     "start_time": "2021-09-18T19:30:10.453161",
     "status": "completed"
    },
    "tags": []
   },
   "outputs": [],
   "source": []
  }
 ],
 "metadata": {
  "kernelspec": {
   "display_name": "Python 3",
   "language": "python",
   "name": "python3"
  },
  "language_info": {
   "codemirror_mode": {
    "name": "ipython",
    "version": 3
   },
   "file_extension": ".py",
   "mimetype": "text/x-python",
   "name": "python",
   "nbconvert_exporter": "python",
   "pygments_lexer": "ipython3",
   "version": "3.9.5"
  },
  "papermill": {
   "default_parameters": {},
   "duration": 6.614493,
   "end_time": "2021-09-18T19:30:11.118336",
   "environment_variables": {},
   "exception": null,
   "input_path": "eBay_Overview.ipynb",
   "output_path": "eBay_Overview.ipynb",
   "parameters": {},
   "start_time": "2021-09-18T19:30:04.503843",
   "version": "2.3.3"
  }
 },
 "nbformat": 4,
 "nbformat_minor": 5
}