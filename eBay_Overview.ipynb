{
 "cells": [
  {
   "cell_type": "code",
   "execution_count": 1,
   "id": "reverse-picking",
   "metadata": {
    "execution": {
     "iopub.execute_input": "2021-09-12T20:30:07.035382Z",
     "iopub.status.busy": "2021-09-12T20:30:07.033393Z",
     "iopub.status.idle": "2021-09-12T20:30:07.837840Z",
     "shell.execute_reply": "2021-09-12T20:30:07.839233Z"
    },
    "papermill": {
     "duration": 0.856886,
     "end_time": "2021-09-12T20:30:07.839897",
     "exception": false,
     "start_time": "2021-09-12T20:30:06.983011",
     "status": "completed"
    },
    "tags": []
   },
   "outputs": [],
   "source": [
    "import pandas as pd\n",
    "import sqlite3"
   ]
  },
  {
   "cell_type": "code",
   "execution_count": 2,
   "id": "innovative-syndrome",
   "metadata": {
    "execution": {
     "iopub.execute_input": "2021-09-12T20:30:07.891391Z",
     "iopub.status.busy": "2021-09-12T20:30:07.889250Z",
     "iopub.status.idle": "2021-09-12T20:30:08.158437Z",
     "shell.execute_reply": "2021-09-12T20:30:08.159781Z"
    },
    "papermill": {
     "duration": 0.299796,
     "end_time": "2021-09-12T20:30:08.160205",
     "exception": false,
     "start_time": "2021-09-12T20:30:07.860409",
     "status": "completed"
    },
    "tags": []
   },
   "outputs": [],
   "source": [
    "timestamps = pd.read_sql(\"select distinct record_time from EBAY_TOP_BERLIN order by record_time desc limit 2\", sqlite3.connect(\"UsedObjects.db\"))"
   ]
  },
  {
   "cell_type": "code",
   "execution_count": 3,
   "id": "periodic-identification",
   "metadata": {
    "execution": {
     "iopub.execute_input": "2021-09-12T20:30:08.225707Z",
     "iopub.status.busy": "2021-09-12T20:30:08.223514Z",
     "iopub.status.idle": "2021-09-12T20:30:08.243741Z",
     "shell.execute_reply": "2021-09-12T20:30:08.244866Z"
    },
    "papermill": {
     "duration": 0.064598,
     "end_time": "2021-09-12T20:30:08.245274",
     "exception": false,
     "start_time": "2021-09-12T20:30:08.180676",
     "status": "completed"
    },
    "tags": []
   },
   "outputs": [
    {
     "data": {
      "text/html": [
       "<div>\n",
       "<style scoped>\n",
       "    .dataframe tbody tr th:only-of-type {\n",
       "        vertical-align: middle;\n",
       "    }\n",
       "\n",
       "    .dataframe tbody tr th {\n",
       "        vertical-align: top;\n",
       "    }\n",
       "\n",
       "    .dataframe thead th {\n",
       "        text-align: right;\n",
       "    }\n",
       "</style>\n",
       "<table border=\"1\" class=\"dataframe\">\n",
       "  <thead>\n",
       "    <tr style=\"text-align: right;\">\n",
       "      <th></th>\n",
       "      <th>RECORD_TIME</th>\n",
       "    </tr>\n",
       "  </thead>\n",
       "  <tbody>\n",
       "    <tr>\n",
       "      <th>0</th>\n",
       "      <td>2021-09-12 22:30</td>\n",
       "    </tr>\n",
       "    <tr>\n",
       "      <th>1</th>\n",
       "      <td>2021-09-12 22:00</td>\n",
       "    </tr>\n",
       "  </tbody>\n",
       "</table>\n",
       "</div>"
      ],
      "text/plain": [
       "        RECORD_TIME\n",
       "0  2021-09-12 22:30\n",
       "1  2021-09-12 22:00"
      ]
     },
     "execution_count": 3,
     "metadata": {},
     "output_type": "execute_result"
    }
   ],
   "source": [
    "timestamps"
   ]
  },
  {
   "cell_type": "code",
   "execution_count": 4,
   "id": "alternate-victory",
   "metadata": {
    "execution": {
     "iopub.execute_input": "2021-09-12T20:30:08.299341Z",
     "iopub.status.busy": "2021-09-12T20:30:08.296974Z",
     "iopub.status.idle": "2021-09-12T20:30:08.710346Z",
     "shell.execute_reply": "2021-09-12T20:30:08.711633Z"
    },
    "papermill": {
     "duration": 0.444027,
     "end_time": "2021-09-12T20:30:08.712033",
     "exception": false,
     "start_time": "2021-09-12T20:30:08.268006",
     "status": "completed"
    },
    "tags": []
   },
   "outputs": [],
   "source": [
    "df = pd.read_sql(\"select * from EBAY_TOP_BERLIN where record_time in (select distinct record_time from EBAY_TOP_BERLIN order by record_time desc limit 2)\", sqlite3.connect(\"UsedObjects.db\"))"
   ]
  },
  {
   "cell_type": "code",
   "execution_count": 5,
   "id": "popular-active",
   "metadata": {
    "execution": {
     "iopub.execute_input": "2021-09-12T20:30:08.783021Z",
     "iopub.status.busy": "2021-09-12T20:30:08.771571Z",
     "iopub.status.idle": "2021-09-12T20:30:08.799166Z",
     "shell.execute_reply": "2021-09-12T20:30:08.800470Z"
    },
    "papermill": {
     "duration": 0.068199,
     "end_time": "2021-09-12T20:30:08.800891",
     "exception": false,
     "start_time": "2021-09-12T20:30:08.732692",
     "status": "completed"
    },
    "tags": []
   },
   "outputs": [],
   "source": [
    "df_pivot = df.pivot_table(index=\"PRODUCT\", columns = \"RECORD_TIME\", values = \"LISTING_COUNT\")"
   ]
  },
  {
   "cell_type": "code",
   "execution_count": 6,
   "id": "union-huntington",
   "metadata": {
    "execution": {
     "iopub.execute_input": "2021-09-12T20:30:08.856035Z",
     "iopub.status.busy": "2021-09-12T20:30:08.854036Z",
     "iopub.status.idle": "2021-09-12T20:30:08.858972Z",
     "shell.execute_reply": "2021-09-12T20:30:08.860194Z"
    },
    "papermill": {
     "duration": 0.039464,
     "end_time": "2021-09-12T20:30:08.860591",
     "exception": false,
     "start_time": "2021-09-12T20:30:08.821127",
     "status": "completed"
    },
    "tags": []
   },
   "outputs": [],
   "source": [
    "df_pivot.columns = [\"stamp_1\", \"stamp_2\"]\n",
    "df_pivot_diff = df_pivot.diff(axis=1)"
   ]
  },
  {
   "cell_type": "code",
   "execution_count": 7,
   "id": "fifth-motion",
   "metadata": {
    "execution": {
     "iopub.execute_input": "2021-09-12T20:30:08.915653Z",
     "iopub.status.busy": "2021-09-12T20:30:08.913119Z",
     "iopub.status.idle": "2021-09-12T20:30:10.410753Z",
     "shell.execute_reply": "2021-09-12T20:30:10.412260Z"
    },
    "papermill": {
     "duration": 1.530942,
     "end_time": "2021-09-12T20:30:10.412703",
     "exception": false,
     "start_time": "2021-09-12T20:30:08.881761",
     "status": "completed"
    },
    "tags": []
   },
   "outputs": [
    {
     "data": {
      "text/plain": [
       "<AxesSubplot:ylabel='PRODUCT'>"
      ]
     },
     "execution_count": 7,
     "metadata": {},
     "output_type": "execute_result"
    },
    {
     "data": {
      "image/png": "[encoded data removed]",
      "text/plain": [
       "<Figure size 432x288 with 1 Axes>"
      ]
     },
     "metadata": {
      "needs_background": "light"
     },
     "output_type": "display_data"
    }
   ],
   "source": [
    "df_pivot_diff.sort_values(\"stamp_2\", ascending = False)[\"stamp_2\"].head(10).plot.barh()"
   ]
  },
  {
   "cell_type": "code",
   "execution_count": null,
   "id": "extra-executive",
   "metadata": {
    "papermill": {
     "duration": 0.022406,
     "end_time": "2021-09-12T20:30:10.459899",
     "exception": false,
     "start_time": "2021-09-12T20:30:10.437493",
     "status": "completed"
    },
    "tags": []
   },
   "outputs": [],
   "source": []
  }
 ],
 "metadata": {
  "kernelspec": {
   "display_name": "Python 3",
   "language": "python",
   "name": "python3"
  },
  "language_info": {
   "codemirror_mode": {
    "name": "ipython",
    "version": 3
   },
   "file_extension": ".py",
   "mimetype": "text/x-python",
   "name": "python",
   "nbconvert_exporter": "python",
   "pygments_lexer": "ipython3",
   "version": "3.9.5"
  },
  "papermill": {
   "default_parameters": {},
   "duration": 6.529631,
   "end_time": "2021-09-12T20:30:11.102387",
   "environment_variables": {},
   "exception": null,
   "input_path": "eBay_Overview.ipynb",
   "output_path": "eBay_Overview.ipynb",
   "parameters": {},
   "start_time": "2021-09-12T20:30:04.572756",
   "version": "2.3.3"
  }
 },
 "nbformat": 4,
 "nbformat_minor": 5
}