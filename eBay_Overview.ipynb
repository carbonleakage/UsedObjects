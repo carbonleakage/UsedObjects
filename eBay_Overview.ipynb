{
 "cells": [
  {
   "cell_type": "code",
   "execution_count": 1,
   "id": "reverse-picking",
   "metadata": {
    "execution": {
     "iopub.execute_input": "2021-09-23T00:30:06.965157Z",
     "iopub.status.busy": "2021-09-23T00:30:06.963233Z",
     "iopub.status.idle": "2021-09-23T00:30:07.768816Z",
     "shell.execute_reply": "2021-09-23T00:30:07.770046Z"
    },
    "papermill": {
     "duration": 0.856835,
     "end_time": "2021-09-23T00:30:07.770669",
     "exception": false,
     "start_time": "2021-09-23T00:30:06.913834",
     "status": "completed"
    },
    "tags": []
   },
   "outputs": [],
   "source": [
    "import pandas as pd\n",
    "import sqlite3"
   ]
  },
  {
   "cell_type": "code",
   "execution_count": 2,
   "id": "innovative-syndrome",
   "metadata": {
    "execution": {
     "iopub.execute_input": "2021-09-23T00:30:07.820531Z",
     "iopub.status.busy": "2021-09-23T00:30:07.818598Z",
     "iopub.status.idle": "2021-09-23T00:30:08.201058Z",
     "shell.execute_reply": "2021-09-23T00:30:08.199744Z"
    },
    "papermill": {
     "duration": 0.410419,
     "end_time": "2021-09-23T00:30:08.201399",
     "exception": false,
     "start_time": "2021-09-23T00:30:07.790980",
     "status": "completed"
    },
    "tags": []
   },
   "outputs": [],
   "source": [
    "timestamps = pd.read_sql(\"select distinct record_time from EBAY_TOP_BERLIN order by record_time desc limit 2\", sqlite3.connect(\"UsedObjects.db\"))"
   ]
  },
  {
   "cell_type": "code",
   "execution_count": 3,
   "id": "periodic-identification",
   "metadata": {
    "execution": {
     "iopub.execute_input": "2021-09-23T00:30:08.266317Z",
     "iopub.status.busy": "2021-09-23T00:30:08.264327Z",
     "iopub.status.idle": "2021-09-23T00:30:08.284064Z",
     "shell.execute_reply": "2021-09-23T00:30:08.285404Z"
    },
    "papermill": {
     "duration": 0.063306,
     "end_time": "2021-09-23T00:30:08.285823",
     "exception": false,
     "start_time": "2021-09-23T00:30:08.222517",
     "status": "completed"
    },
    "tags": []
   },
   "outputs": [
    {
     "data": {
      "text/html": [
       "<div>\n",
       "<style scoped>\n",
       "    .dataframe tbody tr th:only-of-type {\n",
       "        vertical-align: middle;\n",
       "    }\n",
       "\n",
       "    .dataframe tbody tr th {\n",
       "        vertical-align: top;\n",
       "    }\n",
       "\n",
       "    .dataframe thead th {\n",
       "        text-align: right;\n",
       "    }\n",
       "</style>\n",
       "<table border=\"1\" class=\"dataframe\">\n",
       "  <thead>\n",
       "    <tr style=\"text-align: right;\">\n",
       "      <th></th>\n",
       "      <th>RECORD_TIME</th>\n",
       "    </tr>\n",
       "  </thead>\n",
       "  <tbody>\n",
       "    <tr>\n",
       "      <th>0</th>\n",
       "      <td>2021-09-23 02:30</td>\n",
       "    </tr>\n",
       "    <tr>\n",
       "      <th>1</th>\n",
       "      <td>2021-09-23 02:00</td>\n",
       "    </tr>\n",
       "  </tbody>\n",
       "</table>\n",
       "</div>"
      ],
      "text/plain": [
       "        RECORD_TIME\n",
       "0  2021-09-23 02:30\n",
       "1  2021-09-23 02:00"
      ]
     },
     "execution_count": 3,
     "metadata": {},
     "output_type": "execute_result"
    }
   ],
   "source": [
    "timestamps"
   ]
  },
  {
   "cell_type": "code",
   "execution_count": 4,
   "id": "alternate-victory",
   "metadata": {
    "execution": {
     "iopub.execute_input": "2021-09-23T00:30:08.337054Z",
     "iopub.status.busy": "2021-09-23T00:30:08.334954Z",
     "iopub.status.idle": "2021-09-23T00:30:08.861242Z",
     "shell.execute_reply": "2021-09-23T00:30:08.862457Z"
    },
    "papermill": {
     "duration": 0.556663,
     "end_time": "2021-09-23T00:30:08.862925",
     "exception": false,
     "start_time": "2021-09-23T00:30:08.306262",
     "status": "completed"
    },
    "tags": []
   },
   "outputs": [],
   "source": [
    "df = pd.read_sql(\"select * from EBAY_TOP_BERLIN where record_time in (select distinct record_time from EBAY_TOP_BERLIN order by record_time desc limit 2)\", sqlite3.connect(\"UsedObjects.db\"))"
   ]
  },
  {
   "cell_type": "code",
   "execution_count": 5,
   "id": "popular-active",
   "metadata": {
    "execution": {
     "iopub.execute_input": "2021-09-23T00:30:08.932800Z",
     "iopub.status.busy": "2021-09-23T00:30:08.920461Z",
     "iopub.status.idle": "2021-09-23T00:30:08.949632Z",
     "shell.execute_reply": "2021-09-23T00:30:08.950981Z"
    },
    "papermill": {
     "duration": 0.067977,
     "end_time": "2021-09-23T00:30:08.951409",
     "exception": false,
     "start_time": "2021-09-23T00:30:08.883432",
     "status": "completed"
    },
    "tags": []
   },
   "outputs": [],
   "source": [
    "df_pivot = df.pivot_table(index=\"PRODUCT\", columns = \"RECORD_TIME\", values = \"LISTING_COUNT\")"
   ]
  },
  {
   "cell_type": "code",
   "execution_count": 6,
   "id": "union-huntington",
   "metadata": {
    "execution": {
     "iopub.execute_input": "2021-09-23T00:30:09.007523Z",
     "iopub.status.busy": "2021-09-23T00:30:09.005429Z",
     "iopub.status.idle": "2021-09-23T00:30:09.010778Z",
     "shell.execute_reply": "2021-09-23T00:30:09.012039Z"
    },
    "papermill": {
     "duration": 0.040885,
     "end_time": "2021-09-23T00:30:09.012469",
     "exception": false,
     "start_time": "2021-09-23T00:30:08.971584",
     "status": "completed"
    },
    "tags": []
   },
   "outputs": [],
   "source": [
    "df_pivot.columns = [\"stamp_1\", \"stamp_2\"]\n",
    "df_pivot_diff = df_pivot.diff(axis=1)"
   ]
  },
  {
   "cell_type": "code",
   "execution_count": 7,
   "id": "fifth-motion",
   "metadata": {
    "execution": {
     "iopub.execute_input": "2021-09-23T00:30:09.070049Z",
     "iopub.status.busy": "2021-09-23T00:30:09.067457Z",
     "iopub.status.idle": "2021-09-23T00:30:10.555915Z",
     "shell.execute_reply": "2021-09-23T00:30:10.557206Z"
    },
    "papermill": {
     "duration": 1.522115,
     "end_time": "2021-09-23T00:30:10.557627",
     "exception": false,
     "start_time": "2021-09-23T00:30:09.035512",
     "status": "completed"
    },
    "tags": []
   },
   "outputs": [
    {
     "data": {
      "text/plain": [
       "<AxesSubplot:ylabel='PRODUCT'>"
      ]
     },
     "execution_count": 7,
     "metadata": {},
     "output_type": "execute_result"
    },
    {
     "data": {
      "image/png": "[encoded data removed]",
      "text/plain": [
       "<Figure size 432x288 with 1 Axes>"
      ]
     },
     "metadata": {
      "needs_background": "light"
     },
     "output_type": "display_data"
    }
   ],
   "source": [
    "df_pivot_diff.sort_values(\"stamp_2\", ascending = False)[\"stamp_2\"].head(10).plot.barh()"
   ]
  },
  {
   "cell_type": "code",
   "execution_count": null,
   "id": "extra-executive",
   "metadata": {
    "papermill": {
     "duration": 0.022085,
     "end_time": "2021-09-23T00:30:10.604222",
     "exception": false,
     "start_time": "2021-09-23T00:30:10.582137",
     "status": "completed"
    },
    "tags": []
   },
   "outputs": [],
   "source": []
  }
 ],
 "metadata": {
  "kernelspec": {
   "display_name": "Python 3",
   "language": "python",
   "name": "python3"
  },
  "language_info": {
   "codemirror_mode": {
    "name": "ipython",
    "version": 3
   },
   "file_extension": ".py",
   "mimetype": "text/x-python",
   "name": "python",
   "nbconvert_exporter": "python",
   "pygments_lexer": "ipython3",
   "version": "3.9.5"
  },
  "papermill": {
   "default_parameters": {},
   "duration": 6.728605,
   "end_time": "2021-09-23T00:30:11.247485",
   "environment_variables": {},
   "exception": null,
   "input_path": "eBay_Overview.ipynb",
   "output_path": "eBay_Overview.ipynb",
   "parameters": {},
   "start_time": "2021-09-23T00:30:04.518880",
   "version": "2.3.3"
  }
 },
 "nbformat": 4,
 "nbformat_minor": 5
}