{
 "cells": [
  {
   "cell_type": "code",
   "execution_count": 1,
   "id": "reverse-picking",
   "metadata": {
    "execution": {
     "iopub.execute_input": "2021-11-05T22:00:08.667474Z",
     "iopub.status.busy": "2021-11-05T22:00:08.665136Z",
     "iopub.status.idle": "2021-11-05T22:00:09.609555Z",
     "shell.execute_reply": "2021-11-05T22:00:09.607499Z"
    },
    "papermill": {
     "duration": 0.993477,
     "end_time": "2021-11-05T22:00:09.610055",
     "exception": false,
     "start_time": "2021-11-05T22:00:08.616578",
     "status": "completed"
    },
    "tags": []
   },
   "outputs": [],
   "source": [
    "import pandas as pd\n",
    "import sqlite3"
   ]
  },
  {
   "cell_type": "code",
   "execution_count": 2,
   "id": "innovative-syndrome",
   "metadata": {
    "execution": {
     "iopub.execute_input": "2021-11-05T22:00:09.727837Z",
     "iopub.status.busy": "2021-11-05T22:00:09.725574Z",
     "iopub.status.idle": "2021-11-05T22:00:10.461039Z",
     "shell.execute_reply": "2021-11-05T22:00:10.459266Z"
    },
    "papermill": {
     "duration": 0.767555,
     "end_time": "2021-11-05T22:00:10.461491",
     "exception": false,
     "start_time": "2021-11-05T22:00:09.693936",
     "status": "completed"
    },
    "tags": []
   },
   "outputs": [],
   "source": [
    "timestamps = pd.read_sql(\"select distinct record_time from EBAY_TOP_BERLIN order by record_time desc limit 2\", sqlite3.connect(\"UsedObjects.db\"))"
   ]
  },
  {
   "cell_type": "code",
   "execution_count": 3,
   "id": "periodic-identification",
   "metadata": {
    "execution": {
     "iopub.execute_input": "2021-11-05T22:00:10.537369Z",
     "iopub.status.busy": "2021-11-05T22:00:10.531438Z",
     "iopub.status.idle": "2021-11-05T22:00:10.555101Z",
     "shell.execute_reply": "2021-11-05T22:00:10.556762Z"
    },
    "papermill": {
     "duration": 0.074998,
     "end_time": "2021-11-05T22:00:10.557286",
     "exception": false,
     "start_time": "2021-11-05T22:00:10.482288",
     "status": "completed"
    },
    "tags": []
   },
   "outputs": [
    {
     "data": {
      "text/html": [
       "<div>\n",
       "<style scoped>\n",
       "    .dataframe tbody tr th:only-of-type {\n",
       "        vertical-align: middle;\n",
       "    }\n",
       "\n",
       "    .dataframe tbody tr th {\n",
       "        vertical-align: top;\n",
       "    }\n",
       "\n",
       "    .dataframe thead th {\n",
       "        text-align: right;\n",
       "    }\n",
       "</style>\n",
       "<table border=\"1\" class=\"dataframe\">\n",
       "  <thead>\n",
       "    <tr style=\"text-align: right;\">\n",
       "      <th></th>\n",
       "      <th>RECORD_TIME</th>\n",
       "    </tr>\n",
       "  </thead>\n",
       "  <tbody>\n",
       "    <tr>\n",
       "      <th>0</th>\n",
       "      <td>2021-11-05 23:00</td>\n",
       "    </tr>\n",
       "    <tr>\n",
       "      <th>1</th>\n",
       "      <td>2021-11-05 22:30</td>\n",
       "    </tr>\n",
       "  </tbody>\n",
       "</table>\n",
       "</div>"
      ],
      "text/plain": [
       "        RECORD_TIME\n",
       "0  2021-11-05 23:00\n",
       "1  2021-11-05 22:30"
      ]
     },
     "execution_count": 3,
     "metadata": {},
     "output_type": "execute_result"
    }
   ],
   "source": [
    "timestamps"
   ]
  },
  {
   "cell_type": "code",
   "execution_count": 4,
   "id": "alternate-victory",
   "metadata": {
    "execution": {
     "iopub.execute_input": "2021-11-05T22:00:10.615152Z",
     "iopub.status.busy": "2021-11-05T22:00:10.612733Z",
     "iopub.status.idle": "2021-11-05T22:00:11.726466Z",
     "shell.execute_reply": "2021-11-05T22:00:11.727998Z"
    },
    "papermill": {
     "duration": 1.148137,
     "end_time": "2021-11-05T22:00:11.728559",
     "exception": false,
     "start_time": "2021-11-05T22:00:10.580422",
     "status": "completed"
    },
    "tags": []
   },
   "outputs": [],
   "source": [
    "df = pd.read_sql(\"select * from EBAY_TOP_BERLIN where record_time in (select distinct record_time from EBAY_TOP_BERLIN order by record_time desc limit 2)\", sqlite3.connect(\"UsedObjects.db\"))"
   ]
  },
  {
   "cell_type": "code",
   "execution_count": 5,
   "id": "popular-active",
   "metadata": {
    "execution": {
     "iopub.execute_input": "2021-11-05T22:00:11.807969Z",
     "iopub.status.busy": "2021-11-05T22:00:11.794967Z",
     "iopub.status.idle": "2021-11-05T22:00:11.825945Z",
     "shell.execute_reply": "2021-11-05T22:00:11.827414Z"
    },
    "papermill": {
     "duration": 0.076933,
     "end_time": "2021-11-05T22:00:11.827872",
     "exception": false,
     "start_time": "2021-11-05T22:00:11.750939",
     "status": "completed"
    },
    "tags": []
   },
   "outputs": [],
   "source": [
    "df_pivot = df.pivot_table(index=\"PRODUCT\", columns = \"RECORD_TIME\", values = \"LISTING_COUNT\")"
   ]
  },
  {
   "cell_type": "code",
   "execution_count": 6,
   "id": "union-huntington",
   "metadata": {
    "execution": {
     "iopub.execute_input": "2021-11-05T22:00:11.886540Z",
     "iopub.status.busy": "2021-11-05T22:00:11.883992Z",
     "iopub.status.idle": "2021-11-05T22:00:11.890119Z",
     "shell.execute_reply": "2021-11-05T22:00:11.891783Z"
    },
    "papermill": {
     "duration": 0.044141,
     "end_time": "2021-11-05T22:00:11.892275",
     "exception": false,
     "start_time": "2021-11-05T22:00:11.848134",
     "status": "completed"
    },
    "tags": []
   },
   "outputs": [],
   "source": [
    "df_pivot.columns = [\"stamp_1\", \"stamp_2\"]\n",
    "df_pivot_diff = df_pivot.diff(axis=1)"
   ]
  },
  {
   "cell_type": "code",
   "execution_count": 7,
   "id": "fifth-motion",
   "metadata": {
    "execution": {
     "iopub.execute_input": "2021-11-05T22:00:11.969735Z",
     "iopub.status.busy": "2021-11-05T22:00:11.962821Z",
     "iopub.status.idle": "2021-11-05T22:00:13.788943Z",
     "shell.execute_reply": "2021-11-05T22:00:13.792029Z"
    },
    "papermill": {
     "duration": 1.877851,
     "end_time": "2021-11-05T22:00:13.793103",
     "exception": false,
     "start_time": "2021-11-05T22:00:11.915252",
     "status": "completed"
    },
    "tags": []
   },
   "outputs": [
    {
     "data": {
      "text/plain": [
       "<AxesSubplot:ylabel='PRODUCT'>"
      ]
     },
     "execution_count": 7,
     "metadata": {},
     "output_type": "execute_result"
    },
    {
     "data": {
      "image/png": "[encoded data removed]",
      "text/plain": [
       "<Figure size 432x288 with 1 Axes>"
      ]
     },
     "metadata": {
      "needs_background": "light"
     },
     "output_type": "display_data"
    }
   ],
   "source": [
    "df_pivot_diff.sort_values(\"stamp_2\", ascending = False)[\"stamp_2\"].head(10).plot.barh()"
   ]
  },
  {
   "cell_type": "code",
   "execution_count": null,
   "id": "extra-executive",
   "metadata": {
    "papermill": {
     "duration": 0.036345,
     "end_time": "2021-11-05T22:00:13.871218",
     "exception": false,
     "start_time": "2021-11-05T22:00:13.834873",
     "status": "completed"
    },
    "tags": []
   },
   "outputs": [],
   "source": []
  }
 ],
 "metadata": {
  "kernelspec": {
   "display_name": "Python 3",
   "language": "python",
   "name": "python3"
  },
  "language_info": {
   "codemirror_mode": {
    "name": "ipython",
    "version": 3
   },
   "file_extension": ".py",
   "mimetype": "text/x-python",
   "name": "python",
   "nbconvert_exporter": "python",
   "pygments_lexer": "ipython3",
   "version": "3.9.5"
  },
  "papermill": {
   "default_parameters": {},
   "duration": 8.873361,
   "end_time": "2021-11-05T22:00:14.746898",
   "environment_variables": {},
   "exception": null,
   "input_path": "eBay_Overview.ipynb",
   "output_path": "eBay_Overview.ipynb",
   "parameters": {},
   "start_time": "2021-11-05T22:00:05.873537",
   "version": "2.3.3"
  }
 },
 "nbformat": 4,
 "nbformat_minor": 5
}