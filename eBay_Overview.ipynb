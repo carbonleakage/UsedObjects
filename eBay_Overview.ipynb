{
 "cells": [
  {
   "cell_type": "code",
   "execution_count": 1,
   "id": "reverse-picking",
   "metadata": {
    "execution": {
     "iopub.execute_input": "2021-12-05T07:00:07.605910Z",
     "iopub.status.busy": "2021-12-05T07:00:07.603503Z",
     "iopub.status.idle": "2021-12-05T07:00:08.554776Z",
     "shell.execute_reply": "2021-12-05T07:00:08.556391Z"
    },
    "papermill": {
     "duration": 1.002381,
     "end_time": "2021-12-05T07:00:08.557218",
     "exception": false,
     "start_time": "2021-12-05T07:00:07.554837",
     "status": "completed"
    },
    "tags": []
   },
   "outputs": [],
   "source": [
    "import pandas as pd\n",
    "import sqlite3"
   ]
  },
  {
   "cell_type": "code",
   "execution_count": 2,
   "id": "innovative-syndrome",
   "metadata": {
    "execution": {
     "iopub.execute_input": "2021-12-05T07:00:08.620478Z",
     "iopub.status.busy": "2021-12-05T07:00:08.618218Z",
     "iopub.status.idle": "2021-12-05T07:00:09.618349Z",
     "shell.execute_reply": "2021-12-05T07:00:09.619686Z"
    },
    "papermill": {
     "duration": 1.035705,
     "end_time": "2021-12-05T07:00:09.620178",
     "exception": false,
     "start_time": "2021-12-05T07:00:08.584473",
     "status": "completed"
    },
    "tags": []
   },
   "outputs": [],
   "source": [
    "timestamps = pd.read_sql(\"select distinct record_time from EBAY_TOP_BERLIN order by record_time desc limit 2\", sqlite3.connect(\"UsedObjects.db\"))"
   ]
  },
  {
   "cell_type": "code",
   "execution_count": 3,
   "id": "periodic-identification",
   "metadata": {
    "execution": {
     "iopub.execute_input": "2021-12-05T07:00:09.693560Z",
     "iopub.status.busy": "2021-12-05T07:00:09.691093Z",
     "iopub.status.idle": "2021-12-05T07:00:09.713768Z",
     "shell.execute_reply": "2021-12-05T07:00:09.715191Z"
    },
    "papermill": {
     "duration": 0.074412,
     "end_time": "2021-12-05T07:00:09.715689",
     "exception": false,
     "start_time": "2021-12-05T07:00:09.641277",
     "status": "completed"
    },
    "tags": []
   },
   "outputs": [
    {
     "data": {
      "text/html": [
       "<div>\n",
       "<style scoped>\n",
       "    .dataframe tbody tr th:only-of-type {\n",
       "        vertical-align: middle;\n",
       "    }\n",
       "\n",
       "    .dataframe tbody tr th {\n",
       "        vertical-align: top;\n",
       "    }\n",
       "\n",
       "    .dataframe thead th {\n",
       "        text-align: right;\n",
       "    }\n",
       "</style>\n",
       "<table border=\"1\" class=\"dataframe\">\n",
       "  <thead>\n",
       "    <tr style=\"text-align: right;\">\n",
       "      <th></th>\n",
       "      <th>RECORD_TIME</th>\n",
       "    </tr>\n",
       "  </thead>\n",
       "  <tbody>\n",
       "    <tr>\n",
       "      <th>0</th>\n",
       "      <td>2021-12-05 08:00</td>\n",
       "    </tr>\n",
       "    <tr>\n",
       "      <th>1</th>\n",
       "      <td>2021-12-05 07:30</td>\n",
       "    </tr>\n",
       "  </tbody>\n",
       "</table>\n",
       "</div>"
      ],
      "text/plain": [
       "        RECORD_TIME\n",
       "0  2021-12-05 08:00\n",
       "1  2021-12-05 07:30"
      ]
     },
     "execution_count": 3,
     "metadata": {},
     "output_type": "execute_result"
    }
   ],
   "source": [
    "timestamps"
   ]
  },
  {
   "cell_type": "code",
   "execution_count": 4,
   "id": "alternate-victory",
   "metadata": {
    "execution": {
     "iopub.execute_input": "2021-12-05T07:00:09.768498Z",
     "iopub.status.busy": "2021-12-05T07:00:09.766325Z",
     "iopub.status.idle": "2021-12-05T07:00:11.193320Z",
     "shell.execute_reply": "2021-12-05T07:00:11.194813Z"
    },
    "papermill": {
     "duration": 1.458482,
     "end_time": "2021-12-05T07:00:11.195318",
     "exception": false,
     "start_time": "2021-12-05T07:00:09.736836",
     "status": "completed"
    },
    "tags": []
   },
   "outputs": [],
   "source": [
    "df = pd.read_sql(\"select * from EBAY_TOP_BERLIN where record_time in (select distinct record_time from EBAY_TOP_BERLIN order by record_time desc limit 2)\", sqlite3.connect(\"UsedObjects.db\"))"
   ]
  },
  {
   "cell_type": "code",
   "execution_count": 5,
   "id": "popular-active",
   "metadata": {
    "execution": {
     "iopub.execute_input": "2021-12-05T07:00:11.278603Z",
     "iopub.status.busy": "2021-12-05T07:00:11.267192Z",
     "iopub.status.idle": "2021-12-05T07:00:11.298332Z",
     "shell.execute_reply": "2021-12-05T07:00:11.299789Z"
    },
    "papermill": {
     "duration": 0.082186,
     "end_time": "2021-12-05T07:00:11.300252",
     "exception": false,
     "start_time": "2021-12-05T07:00:11.218066",
     "status": "completed"
    },
    "tags": []
   },
   "outputs": [],
   "source": [
    "df_pivot = df.pivot_table(index=\"PRODUCT\", columns = \"RECORD_TIME\", values = \"LISTING_COUNT\")"
   ]
  },
  {
   "cell_type": "code",
   "execution_count": 6,
   "id": "union-huntington",
   "metadata": {
    "execution": {
     "iopub.execute_input": "2021-12-05T07:00:11.358879Z",
     "iopub.status.busy": "2021-12-05T07:00:11.356666Z",
     "iopub.status.idle": "2021-12-05T07:00:11.363960Z",
     "shell.execute_reply": "2021-12-05T07:00:11.362515Z"
    },
    "papermill": {
     "duration": 0.043641,
     "end_time": "2021-12-05T07:00:11.364372",
     "exception": false,
     "start_time": "2021-12-05T07:00:11.320731",
     "status": "completed"
    },
    "tags": []
   },
   "outputs": [],
   "source": [
    "df_pivot.columns = [\"stamp_1\", \"stamp_2\"]\n",
    "df_pivot_diff = df_pivot.diff(axis=1)"
   ]
  },
  {
   "cell_type": "code",
   "execution_count": 7,
   "id": "fifth-motion",
   "metadata": {
    "execution": {
     "iopub.execute_input": "2021-12-05T07:00:11.424323Z",
     "iopub.status.busy": "2021-12-05T07:00:11.421771Z",
     "iopub.status.idle": "2021-12-05T07:00:13.409182Z",
     "shell.execute_reply": "2021-12-05T07:00:13.412129Z"
    },
    "papermill": {
     "duration": 2.028304,
     "end_time": "2021-12-05T07:00:13.413097",
     "exception": false,
     "start_time": "2021-12-05T07:00:11.384793",
     "status": "completed"
    },
    "tags": []
   },
   "outputs": [
    {
     "data": {
      "text/plain": [
       "<AxesSubplot:ylabel='PRODUCT'>"
      ]
     },
     "execution_count": 7,
     "metadata": {},
     "output_type": "execute_result"
    },
    {
     "data": {
      "image/png": "[encoded data removed]",
      "text/plain": [
       "<Figure size 432x288 with 1 Axes>"
      ]
     },
     "metadata": {
      "needs_background": "light"
     },
     "output_type": "display_data"
    }
   ],
   "source": [
    "df_pivot_diff.sort_values(\"stamp_2\", ascending = False)[\"stamp_2\"].head(10).plot.barh()"
   ]
  },
  {
   "cell_type": "code",
   "execution_count": null,
   "id": "extra-executive",
   "metadata": {
    "papermill": {
     "duration": 0.030135,
     "end_time": "2021-12-05T07:00:13.480379",
     "exception": false,
     "start_time": "2021-12-05T07:00:13.450244",
     "status": "completed"
    },
    "tags": []
   },
   "outputs": [],
   "source": []
  }
 ],
 "metadata": {
  "kernelspec": {
   "display_name": "Python 3",
   "language": "python",
   "name": "python3"
  },
  "language_info": {
   "codemirror_mode": {
    "name": "ipython",
    "version": 3
   },
   "file_extension": ".py",
   "mimetype": "text/x-python",
   "name": "python",
   "nbconvert_exporter": "python",
   "pygments_lexer": "ipython3",
   "version": "3.9.5"
  },
  "papermill": {
   "default_parameters": {},
   "duration": 9.943556,
   "end_time": "2021-12-05T07:00:14.761013",
   "environment_variables": {},
   "exception": null,
   "input_path": "eBay_Overview.ipynb",
   "output_path": "eBay_Overview.ipynb",
   "parameters": {},
   "start_time": "2021-12-05T07:00:04.817457",
   "version": "2.3.3"
  }
 },
 "nbformat": 4,
 "nbformat_minor": 5
}