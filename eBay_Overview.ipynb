{
 "cells": [
  {
   "cell_type": "code",
   "execution_count": 1,
   "id": "reverse-picking",
   "metadata": {
    "execution": {
     "iopub.execute_input": "2021-10-02T19:00:07.544292Z",
     "iopub.status.busy": "2021-10-02T19:00:07.542282Z",
     "iopub.status.idle": "2021-10-02T19:00:08.348184Z",
     "shell.execute_reply": "2021-10-02T19:00:08.349466Z"
    },
    "papermill": {
     "duration": 0.855421,
     "end_time": "2021-10-02T19:00:08.350079",
     "exception": false,
     "start_time": "2021-10-02T19:00:07.494658",
     "status": "completed"
    },
    "tags": []
   },
   "outputs": [],
   "source": [
    "import pandas as pd\n",
    "import sqlite3"
   ]
  },
  {
   "cell_type": "code",
   "execution_count": 2,
   "id": "innovative-syndrome",
   "metadata": {
    "execution": {
     "iopub.execute_input": "2021-10-02T19:00:08.399309Z",
     "iopub.status.busy": "2021-10-02T19:00:08.397220Z",
     "iopub.status.idle": "2021-10-02T19:00:08.832247Z",
     "shell.execute_reply": "2021-10-02T19:00:08.833595Z"
    },
    "papermill": {
     "duration": 0.464214,
     "end_time": "2021-10-02T19:00:08.834027",
     "exception": false,
     "start_time": "2021-10-02T19:00:08.369813",
     "status": "completed"
    },
    "tags": []
   },
   "outputs": [],
   "source": [
    "timestamps = pd.read_sql(\"select distinct record_time from EBAY_TOP_BERLIN order by record_time desc limit 2\", sqlite3.connect(\"UsedObjects.db\"))"
   ]
  },
  {
   "cell_type": "code",
   "execution_count": 3,
   "id": "periodic-identification",
   "metadata": {
    "execution": {
     "iopub.execute_input": "2021-10-02T19:00:08.900250Z",
     "iopub.status.busy": "2021-10-02T19:00:08.898117Z",
     "iopub.status.idle": "2021-10-02T19:00:08.918267Z",
     "shell.execute_reply": "2021-10-02T19:00:08.919527Z"
    },
    "papermill": {
     "duration": 0.066507,
     "end_time": "2021-10-02T19:00:08.919958",
     "exception": false,
     "start_time": "2021-10-02T19:00:08.853451",
     "status": "completed"
    },
    "tags": []
   },
   "outputs": [
    {
     "data": {
      "text/html": [
       "<div>\n",
       "<style scoped>\n",
       "    .dataframe tbody tr th:only-of-type {\n",
       "        vertical-align: middle;\n",
       "    }\n",
       "\n",
       "    .dataframe tbody tr th {\n",
       "        vertical-align: top;\n",
       "    }\n",
       "\n",
       "    .dataframe thead th {\n",
       "        text-align: right;\n",
       "    }\n",
       "</style>\n",
       "<table border=\"1\" class=\"dataframe\">\n",
       "  <thead>\n",
       "    <tr style=\"text-align: right;\">\n",
       "      <th></th>\n",
       "      <th>RECORD_TIME</th>\n",
       "    </tr>\n",
       "  </thead>\n",
       "  <tbody>\n",
       "    <tr>\n",
       "      <th>0</th>\n",
       "      <td>2021-10-02 21:00</td>\n",
       "    </tr>\n",
       "    <tr>\n",
       "      <th>1</th>\n",
       "      <td>2021-10-02 20:30</td>\n",
       "    </tr>\n",
       "  </tbody>\n",
       "</table>\n",
       "</div>"
      ],
      "text/plain": [
       "        RECORD_TIME\n",
       "0  2021-10-02 21:00\n",
       "1  2021-10-02 20:30"
      ]
     },
     "execution_count": 3,
     "metadata": {},
     "output_type": "execute_result"
    }
   ],
   "source": [
    "timestamps"
   ]
  },
  {
   "cell_type": "code",
   "execution_count": 4,
   "id": "alternate-victory",
   "metadata": {
    "execution": {
     "iopub.execute_input": "2021-10-02T19:00:08.971967Z",
     "iopub.status.busy": "2021-10-02T19:00:08.969886Z",
     "iopub.status.idle": "2021-10-02T19:00:09.604308Z",
     "shell.execute_reply": "2021-10-02T19:00:09.605516Z"
    },
    "papermill": {
     "duration": 0.663715,
     "end_time": "2021-10-02T19:00:09.605910",
     "exception": false,
     "start_time": "2021-10-02T19:00:08.942195",
     "status": "completed"
    },
    "tags": []
   },
   "outputs": [],
   "source": [
    "df = pd.read_sql(\"select * from EBAY_TOP_BERLIN where record_time in (select distinct record_time from EBAY_TOP_BERLIN order by record_time desc limit 2)\", sqlite3.connect(\"UsedObjects.db\"))"
   ]
  },
  {
   "cell_type": "code",
   "execution_count": 5,
   "id": "popular-active",
   "metadata": {
    "execution": {
     "iopub.execute_input": "2021-10-02T19:00:09.683534Z",
     "iopub.status.busy": "2021-10-02T19:00:09.671278Z",
     "iopub.status.idle": "2021-10-02T19:00:09.699706Z",
     "shell.execute_reply": "2021-10-02T19:00:09.701099Z"
    },
    "papermill": {
     "duration": 0.070114,
     "end_time": "2021-10-02T19:00:09.701534",
     "exception": false,
     "start_time": "2021-10-02T19:00:09.631420",
     "status": "completed"
    },
    "tags": []
   },
   "outputs": [],
   "source": [
    "df_pivot = df.pivot_table(index=\"PRODUCT\", columns = \"RECORD_TIME\", values = \"LISTING_COUNT\")"
   ]
  },
  {
   "cell_type": "code",
   "execution_count": 6,
   "id": "union-huntington",
   "metadata": {
    "execution": {
     "iopub.execute_input": "2021-10-02T19:00:09.757565Z",
     "iopub.status.busy": "2021-10-02T19:00:09.755121Z",
     "iopub.status.idle": "2021-10-02T19:00:09.760926Z",
     "shell.execute_reply": "2021-10-02T19:00:09.762194Z"
    },
    "papermill": {
     "duration": 0.04121,
     "end_time": "2021-10-02T19:00:09.762599",
     "exception": false,
     "start_time": "2021-10-02T19:00:09.721389",
     "status": "completed"
    },
    "tags": []
   },
   "outputs": [],
   "source": [
    "df_pivot.columns = [\"stamp_1\", \"stamp_2\"]\n",
    "df_pivot_diff = df_pivot.diff(axis=1)"
   ]
  },
  {
   "cell_type": "code",
   "execution_count": 7,
   "id": "fifth-motion",
   "metadata": {
    "execution": {
     "iopub.execute_input": "2021-10-02T19:00:09.816640Z",
     "iopub.status.busy": "2021-10-02T19:00:09.813777Z",
     "iopub.status.idle": "2021-10-02T19:00:11.296073Z",
     "shell.execute_reply": "2021-10-02T19:00:11.297366Z"
    },
    "papermill": {
     "duration": 1.515486,
     "end_time": "2021-10-02T19:00:11.297779",
     "exception": false,
     "start_time": "2021-10-02T19:00:09.782293",
     "status": "completed"
    },
    "tags": []
   },
   "outputs": [
    {
     "data": {
      "text/plain": [
       "<AxesSubplot:ylabel='PRODUCT'>"
      ]
     },
     "execution_count": 7,
     "metadata": {},
     "output_type": "execute_result"
    },
    {
     "data": {
      "image/png": "[encoded data removed]",
      "text/plain": [
       "<Figure size 432x288 with 1 Axes>"
      ]
     },
     "metadata": {
      "needs_background": "light"
     },
     "output_type": "display_data"
    }
   ],
   "source": [
    "df_pivot_diff.sort_values(\"stamp_2\", ascending = False)[\"stamp_2\"].head(10).plot.barh()"
   ]
  },
  {
   "cell_type": "code",
   "execution_count": null,
   "id": "extra-executive",
   "metadata": {
    "papermill": {
     "duration": 0.022103,
     "end_time": "2021-10-02T19:00:11.344043",
     "exception": false,
     "start_time": "2021-10-02T19:00:11.321940",
     "status": "completed"
    },
    "tags": []
   },
   "outputs": [],
   "source": []
  }
 ],
 "metadata": {
  "kernelspec": {
   "display_name": "Python 3",
   "language": "python",
   "name": "python3"
  },
  "language_info": {
   "codemirror_mode": {
    "name": "ipython",
    "version": 3
   },
   "file_extension": ".py",
   "mimetype": "text/x-python",
   "name": "python",
   "nbconvert_exporter": "python",
   "pygments_lexer": "ipython3",
   "version": "3.9.5"
  },
  "papermill": {
   "default_parameters": {},
   "duration": 7.823158,
   "end_time": "2021-10-02T19:00:12.919413",
   "environment_variables": {},
   "exception": null,
   "input_path": "eBay_Overview.ipynb",
   "output_path": "eBay_Overview.ipynb",
   "parameters": {},
   "start_time": "2021-10-02T19:00:05.096255",
   "version": "2.3.3"
  }
 },
 "nbformat": 4,
 "nbformat_minor": 5
}