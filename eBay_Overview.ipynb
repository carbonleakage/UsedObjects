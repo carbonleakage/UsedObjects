{
 "cells": [
  {
   "cell_type": "code",
   "execution_count": 1,
   "id": "reverse-picking",
   "metadata": {
    "execution": {
     "iopub.execute_input": "2021-08-28T09:00:06.746609Z",
     "iopub.status.busy": "2021-08-28T09:00:06.744683Z",
     "iopub.status.idle": "2021-08-28T09:00:07.545610Z",
     "shell.execute_reply": "2021-08-28T09:00:07.547024Z"
    },
    "papermill": {
     "duration": 0.852998,
     "end_time": "2021-08-28T09:00:07.547709",
     "exception": false,
     "start_time": "2021-08-28T09:00:06.694711",
     "status": "completed"
    },
    "tags": []
   },
   "outputs": [],
   "source": [
    "import pandas as pd\n",
    "import sqlite3"
   ]
  },
  {
   "cell_type": "code",
   "execution_count": 2,
   "id": "innovative-syndrome",
   "metadata": {
    "execution": {
     "iopub.execute_input": "2021-08-28T09:00:07.598590Z",
     "iopub.status.busy": "2021-08-28T09:00:07.596205Z",
     "iopub.status.idle": "2021-08-28T09:00:07.744732Z",
     "shell.execute_reply": "2021-08-28T09:00:07.745939Z"
    },
    "papermill": {
     "duration": 0.17844,
     "end_time": "2021-08-28T09:00:07.746335",
     "exception": false,
     "start_time": "2021-08-28T09:00:07.567895",
     "status": "completed"
    },
    "tags": []
   },
   "outputs": [],
   "source": [
    "timestamps = pd.read_sql(\"select distinct record_time from EBAY_TOP_BERLIN order by record_time desc limit 2\", sqlite3.connect(\"UsedObjects.db\"))"
   ]
  },
  {
   "cell_type": "code",
   "execution_count": 3,
   "id": "periodic-identification",
   "metadata": {
    "execution": {
     "iopub.execute_input": "2021-08-28T09:00:07.814617Z",
     "iopub.status.busy": "2021-08-28T09:00:07.812600Z",
     "iopub.status.idle": "2021-08-28T09:00:07.833407Z",
     "shell.execute_reply": "2021-08-28T09:00:07.834741Z"
    },
    "papermill": {
     "duration": 0.066303,
     "end_time": "2021-08-28T09:00:07.835150",
     "exception": false,
     "start_time": "2021-08-28T09:00:07.768847",
     "status": "completed"
    },
    "tags": []
   },
   "outputs": [
    {
     "data": {
      "text/html": [
       "<div>\n",
       "<style scoped>\n",
       "    .dataframe tbody tr th:only-of-type {\n",
       "        vertical-align: middle;\n",
       "    }\n",
       "\n",
       "    .dataframe tbody tr th {\n",
       "        vertical-align: top;\n",
       "    }\n",
       "\n",
       "    .dataframe thead th {\n",
       "        text-align: right;\n",
       "    }\n",
       "</style>\n",
       "<table border=\"1\" class=\"dataframe\">\n",
       "  <thead>\n",
       "    <tr style=\"text-align: right;\">\n",
       "      <th></th>\n",
       "      <th>RECORD_TIME</th>\n",
       "    </tr>\n",
       "  </thead>\n",
       "  <tbody>\n",
       "    <tr>\n",
       "      <th>0</th>\n",
       "      <td>2021-08-28 11:00</td>\n",
       "    </tr>\n",
       "    <tr>\n",
       "      <th>1</th>\n",
       "      <td>2021-08-28 10:30</td>\n",
       "    </tr>\n",
       "  </tbody>\n",
       "</table>\n",
       "</div>"
      ],
      "text/plain": [
       "        RECORD_TIME\n",
       "0  2021-08-28 11:00\n",
       "1  2021-08-28 10:30"
      ]
     },
     "execution_count": 3,
     "metadata": {},
     "output_type": "execute_result"
    }
   ],
   "source": [
    "timestamps"
   ]
  },
  {
   "cell_type": "code",
   "execution_count": 4,
   "id": "alternate-victory",
   "metadata": {
    "execution": {
     "iopub.execute_input": "2021-08-28T09:00:07.885713Z",
     "iopub.status.busy": "2021-08-28T09:00:07.883762Z",
     "iopub.status.idle": "2021-08-28T09:00:08.105805Z",
     "shell.execute_reply": "2021-08-28T09:00:08.107010Z"
    },
    "papermill": {
     "duration": 0.251774,
     "end_time": "2021-08-28T09:00:08.107400",
     "exception": false,
     "start_time": "2021-08-28T09:00:07.855626",
     "status": "completed"
    },
    "tags": []
   },
   "outputs": [],
   "source": [
    "df = pd.read_sql(\"select * from EBAY_TOP_BERLIN where record_time in (select distinct record_time from EBAY_TOP_BERLIN order by record_time desc limit 2)\", sqlite3.connect(\"UsedObjects.db\"))"
   ]
  },
  {
   "cell_type": "code",
   "execution_count": 5,
   "id": "popular-active",
   "metadata": {
    "execution": {
     "iopub.execute_input": "2021-08-28T09:00:08.179718Z",
     "iopub.status.busy": "2021-08-28T09:00:08.166382Z",
     "iopub.status.idle": "2021-08-28T09:00:08.194938Z",
     "shell.execute_reply": "2021-08-28T09:00:08.196135Z"
    },
    "papermill": {
     "duration": 0.068483,
     "end_time": "2021-08-28T09:00:08.196589",
     "exception": false,
     "start_time": "2021-08-28T09:00:08.128106",
     "status": "completed"
    },
    "tags": []
   },
   "outputs": [],
   "source": [
    "df_pivot = df.pivot_table(index=\"PRODUCT\", columns = \"RECORD_TIME\", values = \"LISTING_COUNT\")"
   ]
  },
  {
   "cell_type": "code",
   "execution_count": 6,
   "id": "union-huntington",
   "metadata": {
    "execution": {
     "iopub.execute_input": "2021-08-28T09:00:08.259967Z",
     "iopub.status.busy": "2021-08-28T09:00:08.257912Z",
     "iopub.status.idle": "2021-08-28T09:00:08.263336Z",
     "shell.execute_reply": "2021-08-28T09:00:08.264616Z"
    },
    "papermill": {
     "duration": 0.043332,
     "end_time": "2021-08-28T09:00:08.265047",
     "exception": false,
     "start_time": "2021-08-28T09:00:08.221715",
     "status": "completed"
    },
    "tags": []
   },
   "outputs": [],
   "source": [
    "df_pivot.columns = [\"stamp_1\", \"stamp_2\"]\n",
    "df_pivot_diff = df_pivot.diff(axis=1)"
   ]
  },
  {
   "cell_type": "code",
   "execution_count": 7,
   "id": "fifth-motion",
   "metadata": {
    "execution": {
     "iopub.execute_input": "2021-08-28T09:00:08.318789Z",
     "iopub.status.busy": "2021-08-28T09:00:08.316437Z",
     "iopub.status.idle": "2021-08-28T09:00:09.811634Z",
     "shell.execute_reply": "2021-08-28T09:00:09.813194Z"
    },
    "papermill": {
     "duration": 1.528126,
     "end_time": "2021-08-28T09:00:09.813662",
     "exception": false,
     "start_time": "2021-08-28T09:00:08.285536",
     "status": "completed"
    },
    "tags": []
   },
   "outputs": [
    {
     "data": {
      "text/plain": [
       "<AxesSubplot:ylabel='PRODUCT'>"
      ]
     },
     "execution_count": 7,
     "metadata": {},
     "output_type": "execute_result"
    },
    {
     "data": {
      "image/png": "[encoded data removed]",
      "text/plain": [
       "<Figure size 432x288 with 1 Axes>"
      ]
     },
     "metadata": {
      "needs_background": "light"
     },
     "output_type": "display_data"
    }
   ],
   "source": [
    "df_pivot_diff.sort_values(\"stamp_2\", ascending = False)[\"stamp_2\"].head(10).plot.barh()"
   ]
  },
  {
   "cell_type": "code",
   "execution_count": null,
   "id": "extra-executive",
   "metadata": {
    "papermill": {
     "duration": 0.02232,
     "end_time": "2021-08-28T09:00:09.860703",
     "exception": false,
     "start_time": "2021-08-28T09:00:09.838383",
     "status": "completed"
    },
    "tags": []
   },
   "outputs": [],
   "source": []
  }
 ],
 "metadata": {
  "kernelspec": {
   "display_name": "Python 3",
   "language": "python",
   "name": "python3"
  },
  "language_info": {
   "codemirror_mode": {
    "name": "ipython",
    "version": 3
   },
   "file_extension": ".py",
   "mimetype": "text/x-python",
   "name": "python",
   "nbconvert_exporter": "python",
   "pygments_lexer": "ipython3",
   "version": "3.9.5"
  },
  "papermill": {
   "default_parameters": {},
   "duration": 6.828167,
   "end_time": "2021-08-28T09:00:11.126679",
   "environment_variables": {},
   "exception": null,
   "input_path": "eBay_Overview.ipynb",
   "output_path": "eBay_Overview.ipynb",
   "parameters": {},
   "start_time": "2021-08-28T09:00:04.298512",
   "version": "2.3.3"
  }
 },
 "nbformat": 4,
 "nbformat_minor": 5
}