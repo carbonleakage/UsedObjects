{
 "cells": [
  {
   "cell_type": "code",
   "execution_count": 1,
   "id": "reverse-picking",
   "metadata": {
    "execution": {
     "iopub.execute_input": "2021-09-05T10:30:07.010148Z",
     "iopub.status.busy": "2021-09-05T10:30:07.008219Z",
     "iopub.status.idle": "2021-09-05T10:30:07.812187Z",
     "shell.execute_reply": "2021-09-05T10:30:07.813434Z"
    },
    "papermill": {
     "duration": 0.854658,
     "end_time": "2021-09-05T10:30:07.814046",
     "exception": false,
     "start_time": "2021-09-05T10:30:06.959388",
     "status": "completed"
    },
    "tags": []
   },
   "outputs": [],
   "source": [
    "import pandas as pd\n",
    "import sqlite3"
   ]
  },
  {
   "cell_type": "code",
   "execution_count": 2,
   "id": "innovative-syndrome",
   "metadata": {
    "execution": {
     "iopub.execute_input": "2021-09-05T10:30:07.865074Z",
     "iopub.status.busy": "2021-09-05T10:30:07.863213Z",
     "iopub.status.idle": "2021-09-05T10:30:08.073629Z",
     "shell.execute_reply": "2021-09-05T10:30:08.074812Z"
    },
    "papermill": {
     "duration": 0.240077,
     "end_time": "2021-09-05T10:30:08.075285",
     "exception": false,
     "start_time": "2021-09-05T10:30:07.835208",
     "status": "completed"
    },
    "tags": []
   },
   "outputs": [],
   "source": [
    "timestamps = pd.read_sql(\"select distinct record_time from EBAY_TOP_BERLIN order by record_time desc limit 2\", sqlite3.connect(\"UsedObjects.db\"))"
   ]
  },
  {
   "cell_type": "code",
   "execution_count": 3,
   "id": "periodic-identification",
   "metadata": {
    "execution": {
     "iopub.execute_input": "2021-09-05T10:30:08.140546Z",
     "iopub.status.busy": "2021-09-05T10:30:08.138457Z",
     "iopub.status.idle": "2021-09-05T10:30:08.158201Z",
     "shell.execute_reply": "2021-09-05T10:30:08.159478Z"
    },
    "papermill": {
     "duration": 0.064765,
     "end_time": "2021-09-05T10:30:08.159878",
     "exception": false,
     "start_time": "2021-09-05T10:30:08.095113",
     "status": "completed"
    },
    "tags": []
   },
   "outputs": [
    {
     "data": {
      "text/html": [
       "<div>\n",
       "<style scoped>\n",
       "    .dataframe tbody tr th:only-of-type {\n",
       "        vertical-align: middle;\n",
       "    }\n",
       "\n",
       "    .dataframe tbody tr th {\n",
       "        vertical-align: top;\n",
       "    }\n",
       "\n",
       "    .dataframe thead th {\n",
       "        text-align: right;\n",
       "    }\n",
       "</style>\n",
       "<table border=\"1\" class=\"dataframe\">\n",
       "  <thead>\n",
       "    <tr style=\"text-align: right;\">\n",
       "      <th></th>\n",
       "      <th>RECORD_TIME</th>\n",
       "    </tr>\n",
       "  </thead>\n",
       "  <tbody>\n",
       "    <tr>\n",
       "      <th>0</th>\n",
       "      <td>2021-09-05 12:30</td>\n",
       "    </tr>\n",
       "    <tr>\n",
       "      <th>1</th>\n",
       "      <td>2021-09-05 12:00</td>\n",
       "    </tr>\n",
       "  </tbody>\n",
       "</table>\n",
       "</div>"
      ],
      "text/plain": [
       "        RECORD_TIME\n",
       "0  2021-09-05 12:30\n",
       "1  2021-09-05 12:00"
      ]
     },
     "execution_count": 3,
     "metadata": {},
     "output_type": "execute_result"
    }
   ],
   "source": [
    "timestamps"
   ]
  },
  {
   "cell_type": "code",
   "execution_count": 4,
   "id": "alternate-victory",
   "metadata": {
    "execution": {
     "iopub.execute_input": "2021-09-05T10:30:08.211665Z",
     "iopub.status.busy": "2021-09-05T10:30:08.209583Z",
     "iopub.status.idle": "2021-09-05T10:30:08.525350Z",
     "shell.execute_reply": "2021-09-05T10:30:08.526637Z"
    },
    "papermill": {
     "duration": 0.345991,
     "end_time": "2021-09-05T10:30:08.527150",
     "exception": false,
     "start_time": "2021-09-05T10:30:08.181159",
     "status": "completed"
    },
    "tags": []
   },
   "outputs": [],
   "source": [
    "df = pd.read_sql(\"select * from EBAY_TOP_BERLIN where record_time in (select distinct record_time from EBAY_TOP_BERLIN order by record_time desc limit 2)\", sqlite3.connect(\"UsedObjects.db\"))"
   ]
  },
  {
   "cell_type": "code",
   "execution_count": 5,
   "id": "popular-active",
   "metadata": {
    "execution": {
     "iopub.execute_input": "2021-09-05T10:30:08.607985Z",
     "iopub.status.busy": "2021-09-05T10:30:08.595865Z",
     "iopub.status.idle": "2021-09-05T10:30:08.624353Z",
     "shell.execute_reply": "2021-09-05T10:30:08.625725Z"
    },
    "papermill": {
     "duration": 0.073254,
     "end_time": "2021-09-05T10:30:08.626164",
     "exception": false,
     "start_time": "2021-09-05T10:30:08.552910",
     "status": "completed"
    },
    "tags": []
   },
   "outputs": [],
   "source": [
    "df_pivot = df.pivot_table(index=\"PRODUCT\", columns = \"RECORD_TIME\", values = \"LISTING_COUNT\")"
   ]
  },
  {
   "cell_type": "code",
   "execution_count": 6,
   "id": "union-huntington",
   "metadata": {
    "execution": {
     "iopub.execute_input": "2021-09-05T10:30:08.686709Z",
     "iopub.status.busy": "2021-09-05T10:30:08.684424Z",
     "iopub.status.idle": "2021-09-05T10:30:08.690203Z",
     "shell.execute_reply": "2021-09-05T10:30:08.691735Z"
    },
    "papermill": {
     "duration": 0.042432,
     "end_time": "2021-09-05T10:30:08.692197",
     "exception": false,
     "start_time": "2021-09-05T10:30:08.649765",
     "status": "completed"
    },
    "tags": []
   },
   "outputs": [],
   "source": [
    "df_pivot.columns = [\"stamp_1\", \"stamp_2\"]\n",
    "df_pivot_diff = df_pivot.diff(axis=1)"
   ]
  },
  {
   "cell_type": "code",
   "execution_count": 7,
   "id": "fifth-motion",
   "metadata": {
    "execution": {
     "iopub.execute_input": "2021-09-05T10:30:08.747013Z",
     "iopub.status.busy": "2021-09-05T10:30:08.744778Z",
     "iopub.status.idle": "2021-09-05T10:30:10.256773Z",
     "shell.execute_reply": "2021-09-05T10:30:10.258148Z"
    },
    "papermill": {
     "duration": 1.544789,
     "end_time": "2021-09-05T10:30:10.258584",
     "exception": false,
     "start_time": "2021-09-05T10:30:08.713795",
     "status": "completed"
    },
    "tags": []
   },
   "outputs": [
    {
     "data": {
      "text/plain": [
       "<AxesSubplot:ylabel='PRODUCT'>"
      ]
     },
     "execution_count": 7,
     "metadata": {},
     "output_type": "execute_result"
    },
    {
     "data": {
      "image/png": "[encoded data removed]",
      "text/plain": [
       "<Figure size 432x288 with 1 Axes>"
      ]
     },
     "metadata": {
      "needs_background": "light"
     },
     "output_type": "display_data"
    }
   ],
   "source": [
    "df_pivot_diff.sort_values(\"stamp_2\", ascending = False)[\"stamp_2\"].head(10).plot.barh()"
   ]
  },
  {
   "cell_type": "code",
   "execution_count": null,
   "id": "extra-executive",
   "metadata": {
    "papermill": {
     "duration": 0.022588,
     "end_time": "2021-09-05T10:30:10.305356",
     "exception": false,
     "start_time": "2021-09-05T10:30:10.282768",
     "status": "completed"
    },
    "tags": []
   },
   "outputs": [],
   "source": []
  }
 ],
 "metadata": {
  "kernelspec": {
   "display_name": "Python 3",
   "language": "python",
   "name": "python3"
  },
  "language_info": {
   "codemirror_mode": {
    "name": "ipython",
    "version": 3
   },
   "file_extension": ".py",
   "mimetype": "text/x-python",
   "name": "python",
   "nbconvert_exporter": "python",
   "pygments_lexer": "ipython3",
   "version": "3.9.5"
  },
  "papermill": {
   "default_parameters": {},
   "duration": 6.394546,
   "end_time": "2021-09-05T10:30:10.947258",
   "environment_variables": {},
   "exception": null,
   "input_path": "eBay_Overview.ipynb",
   "output_path": "eBay_Overview.ipynb",
   "parameters": {},
   "start_time": "2021-09-05T10:30:04.552712",
   "version": "2.3.3"
  }
 },
 "nbformat": 4,
 "nbformat_minor": 5
}