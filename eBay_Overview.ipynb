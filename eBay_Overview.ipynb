{
 "cells": [
  {
   "cell_type": "code",
   "execution_count": 1,
   "id": "reverse-picking",
   "metadata": {
    "execution": {
     "iopub.execute_input": "2021-09-26T01:30:06.858902Z",
     "iopub.status.busy": "2021-09-26T01:30:06.856949Z",
     "iopub.status.idle": "2021-09-26T01:30:07.661027Z",
     "shell.execute_reply": "2021-09-26T01:30:07.662257Z"
    },
    "papermill": {
     "duration": 0.854725,
     "end_time": "2021-09-26T01:30:07.662971",
     "exception": false,
     "start_time": "2021-09-26T01:30:06.808246",
     "status": "completed"
    },
    "tags": []
   },
   "outputs": [],
   "source": [
    "import pandas as pd\n",
    "import sqlite3"
   ]
  },
  {
   "cell_type": "code",
   "execution_count": 2,
   "id": "innovative-syndrome",
   "metadata": {
    "execution": {
     "iopub.execute_input": "2021-09-26T01:30:07.714649Z",
     "iopub.status.busy": "2021-09-26T01:30:07.712801Z",
     "iopub.status.idle": "2021-09-26T01:30:08.091149Z",
     "shell.execute_reply": "2021-09-26T01:30:08.092259Z"
    },
    "papermill": {
     "duration": 0.407439,
     "end_time": "2021-09-26T01:30:08.092666",
     "exception": false,
     "start_time": "2021-09-26T01:30:07.685227",
     "status": "completed"
    },
    "tags": []
   },
   "outputs": [],
   "source": [
    "timestamps = pd.read_sql(\"select distinct record_time from EBAY_TOP_BERLIN order by record_time desc limit 2\", sqlite3.connect(\"UsedObjects.db\"))"
   ]
  },
  {
   "cell_type": "code",
   "execution_count": 3,
   "id": "periodic-identification",
   "metadata": {
    "execution": {
     "iopub.execute_input": "2021-09-26T01:30:08.157666Z",
     "iopub.status.busy": "2021-09-26T01:30:08.155681Z",
     "iopub.status.idle": "2021-09-26T01:30:08.175477Z",
     "shell.execute_reply": "2021-09-26T01:30:08.176770Z"
    },
    "papermill": {
     "duration": 0.063982,
     "end_time": "2021-09-26T01:30:08.177178",
     "exception": false,
     "start_time": "2021-09-26T01:30:08.113196",
     "status": "completed"
    },
    "tags": []
   },
   "outputs": [
    {
     "data": {
      "text/html": [
       "<div>\n",
       "<style scoped>\n",
       "    .dataframe tbody tr th:only-of-type {\n",
       "        vertical-align: middle;\n",
       "    }\n",
       "\n",
       "    .dataframe tbody tr th {\n",
       "        vertical-align: top;\n",
       "    }\n",
       "\n",
       "    .dataframe thead th {\n",
       "        text-align: right;\n",
       "    }\n",
       "</style>\n",
       "<table border=\"1\" class=\"dataframe\">\n",
       "  <thead>\n",
       "    <tr style=\"text-align: right;\">\n",
       "      <th></th>\n",
       "      <th>RECORD_TIME</th>\n",
       "    </tr>\n",
       "  </thead>\n",
       "  <tbody>\n",
       "    <tr>\n",
       "      <th>0</th>\n",
       "      <td>2021-09-26 03:30</td>\n",
       "    </tr>\n",
       "    <tr>\n",
       "      <th>1</th>\n",
       "      <td>2021-09-26 03:00</td>\n",
       "    </tr>\n",
       "  </tbody>\n",
       "</table>\n",
       "</div>"
      ],
      "text/plain": [
       "        RECORD_TIME\n",
       "0  2021-09-26 03:30\n",
       "1  2021-09-26 03:00"
      ]
     },
     "execution_count": 3,
     "metadata": {},
     "output_type": "execute_result"
    }
   ],
   "source": [
    "timestamps"
   ]
  },
  {
   "cell_type": "code",
   "execution_count": 4,
   "id": "alternate-victory",
   "metadata": {
    "execution": {
     "iopub.execute_input": "2021-09-26T01:30:08.228192Z",
     "iopub.status.busy": "2021-09-26T01:30:08.226148Z",
     "iopub.status.idle": "2021-09-26T01:30:08.780187Z",
     "shell.execute_reply": "2021-09-26T01:30:08.781474Z"
    },
    "papermill": {
     "duration": 0.583774,
     "end_time": "2021-09-26T01:30:08.781883",
     "exception": false,
     "start_time": "2021-09-26T01:30:08.198109",
     "status": "completed"
    },
    "tags": []
   },
   "outputs": [],
   "source": [
    "df = pd.read_sql(\"select * from EBAY_TOP_BERLIN where record_time in (select distinct record_time from EBAY_TOP_BERLIN order by record_time desc limit 2)\", sqlite3.connect(\"UsedObjects.db\"))"
   ]
  },
  {
   "cell_type": "code",
   "execution_count": 5,
   "id": "popular-active",
   "metadata": {
    "execution": {
     "iopub.execute_input": "2021-09-26T01:30:08.852332Z",
     "iopub.status.busy": "2021-09-26T01:30:08.840076Z",
     "iopub.status.idle": "2021-09-26T01:30:08.867748Z",
     "shell.execute_reply": "2021-09-26T01:30:08.868976Z"
    },
    "papermill": {
     "duration": 0.067876,
     "end_time": "2021-09-26T01:30:08.869366",
     "exception": false,
     "start_time": "2021-09-26T01:30:08.801490",
     "status": "completed"
    },
    "tags": []
   },
   "outputs": [],
   "source": [
    "df_pivot = df.pivot_table(index=\"PRODUCT\", columns = \"RECORD_TIME\", values = \"LISTING_COUNT\")"
   ]
  },
  {
   "cell_type": "code",
   "execution_count": 6,
   "id": "union-huntington",
   "metadata": {
    "execution": {
     "iopub.execute_input": "2021-09-26T01:30:08.928208Z",
     "iopub.status.busy": "2021-09-26T01:30:08.925784Z",
     "iopub.status.idle": "2021-09-26T01:30:08.931819Z",
     "shell.execute_reply": "2021-09-26T01:30:08.933019Z"
    },
    "papermill": {
     "duration": 0.042007,
     "end_time": "2021-09-26T01:30:08.933443",
     "exception": false,
     "start_time": "2021-09-26T01:30:08.891436",
     "status": "completed"
    },
    "tags": []
   },
   "outputs": [],
   "source": [
    "df_pivot.columns = [\"stamp_1\", \"stamp_2\"]\n",
    "df_pivot_diff = df_pivot.diff(axis=1)"
   ]
  },
  {
   "cell_type": "code",
   "execution_count": 7,
   "id": "fifth-motion",
   "metadata": {
    "execution": {
     "iopub.execute_input": "2021-09-26T01:30:08.986358Z",
     "iopub.status.busy": "2021-09-26T01:30:08.984220Z",
     "iopub.status.idle": "2021-09-26T01:30:10.472633Z",
     "shell.execute_reply": "2021-09-26T01:30:10.473903Z"
    },
    "papermill": {
     "duration": 1.520623,
     "end_time": "2021-09-26T01:30:10.474319",
     "exception": false,
     "start_time": "2021-09-26T01:30:08.953696",
     "status": "completed"
    },
    "tags": []
   },
   "outputs": [
    {
     "data": {
      "text/plain": [
       "<AxesSubplot:ylabel='PRODUCT'>"
      ]
     },
     "execution_count": 7,
     "metadata": {},
     "output_type": "execute_result"
    },
    {
     "data": {
      "image/png": "[encoded data removed]",
      "text/plain": [
       "<Figure size 432x288 with 1 Axes>"
      ]
     },
     "metadata": {
      "needs_background": "light"
     },
     "output_type": "display_data"
    }
   ],
   "source": [
    "df_pivot_diff.sort_values(\"stamp_2\", ascending = False)[\"stamp_2\"].head(10).plot.barh()"
   ]
  },
  {
   "cell_type": "code",
   "execution_count": null,
   "id": "extra-executive",
   "metadata": {
    "papermill": {
     "duration": 0.022185,
     "end_time": "2021-09-26T01:30:10.520945",
     "exception": false,
     "start_time": "2021-09-26T01:30:10.498760",
     "status": "completed"
    },
    "tags": []
   },
   "outputs": [],
   "source": []
  }
 ],
 "metadata": {
  "kernelspec": {
   "display_name": "Python 3",
   "language": "python",
   "name": "python3"
  },
  "language_info": {
   "codemirror_mode": {
    "name": "ipython",
    "version": 3
   },
   "file_extension": ".py",
   "mimetype": "text/x-python",
   "name": "python",
   "nbconvert_exporter": "python",
   "pygments_lexer": "ipython3",
   "version": "3.9.5"
  },
  "papermill": {
   "default_parameters": {},
   "duration": 6.760592,
   "end_time": "2021-09-26T01:30:11.164504",
   "environment_variables": {},
   "exception": null,
   "input_path": "eBay_Overview.ipynb",
   "output_path": "eBay_Overview.ipynb",
   "parameters": {},
   "start_time": "2021-09-26T01:30:04.403912",
   "version": "2.3.3"
  }
 },
 "nbformat": 4,
 "nbformat_minor": 5
}