{
 "cells": [
  {
   "cell_type": "code",
   "execution_count": 1,
   "id": "reverse-picking",
   "metadata": {
    "execution": {
     "iopub.execute_input": "2021-10-02T10:30:07.441266Z",
     "iopub.status.busy": "2021-10-02T10:30:07.439275Z",
     "iopub.status.idle": "2021-10-02T10:30:08.247251Z",
     "shell.execute_reply": "2021-10-02T10:30:08.248607Z"
    },
    "papermill": {
     "duration": 0.860346,
     "end_time": "2021-10-02T10:30:08.249244",
     "exception": false,
     "start_time": "2021-10-02T10:30:07.388898",
     "status": "completed"
    },
    "tags": []
   },
   "outputs": [],
   "source": [
    "import pandas as pd\n",
    "import sqlite3"
   ]
  },
  {
   "cell_type": "code",
   "execution_count": 2,
   "id": "innovative-syndrome",
   "metadata": {
    "execution": {
     "iopub.execute_input": "2021-10-02T10:30:08.299252Z",
     "iopub.status.busy": "2021-10-02T10:30:08.297286Z",
     "iopub.status.idle": "2021-10-02T10:30:08.728654Z",
     "shell.execute_reply": "2021-10-02T10:30:08.729848Z"
    },
    "papermill": {
     "duration": 0.460919,
     "end_time": "2021-10-02T10:30:08.730246",
     "exception": false,
     "start_time": "2021-10-02T10:30:08.269327",
     "status": "completed"
    },
    "tags": []
   },
   "outputs": [],
   "source": [
    "timestamps = pd.read_sql(\"select distinct record_time from EBAY_TOP_BERLIN order by record_time desc limit 2\", sqlite3.connect(\"UsedObjects.db\"))"
   ]
  },
  {
   "cell_type": "code",
   "execution_count": 3,
   "id": "periodic-identification",
   "metadata": {
    "execution": {
     "iopub.execute_input": "2021-10-02T10:30:08.801019Z",
     "iopub.status.busy": "2021-10-02T10:30:08.795998Z",
     "iopub.status.idle": "2021-10-02T10:30:08.816292Z",
     "shell.execute_reply": "2021-10-02T10:30:08.817685Z"
    },
    "papermill": {
     "duration": 0.066167,
     "end_time": "2021-10-02T10:30:08.818124",
     "exception": false,
     "start_time": "2021-10-02T10:30:08.751957",
     "status": "completed"
    },
    "tags": []
   },
   "outputs": [
    {
     "data": {
      "text/html": [
       "<div>\n",
       "<style scoped>\n",
       "    .dataframe tbody tr th:only-of-type {\n",
       "        vertical-align: middle;\n",
       "    }\n",
       "\n",
       "    .dataframe tbody tr th {\n",
       "        vertical-align: top;\n",
       "    }\n",
       "\n",
       "    .dataframe thead th {\n",
       "        text-align: right;\n",
       "    }\n",
       "</style>\n",
       "<table border=\"1\" class=\"dataframe\">\n",
       "  <thead>\n",
       "    <tr style=\"text-align: right;\">\n",
       "      <th></th>\n",
       "      <th>RECORD_TIME</th>\n",
       "    </tr>\n",
       "  </thead>\n",
       "  <tbody>\n",
       "    <tr>\n",
       "      <th>0</th>\n",
       "      <td>2021-10-02 12:30</td>\n",
       "    </tr>\n",
       "    <tr>\n",
       "      <th>1</th>\n",
       "      <td>2021-10-02 12:00</td>\n",
       "    </tr>\n",
       "  </tbody>\n",
       "</table>\n",
       "</div>"
      ],
      "text/plain": [
       "        RECORD_TIME\n",
       "0  2021-10-02 12:30\n",
       "1  2021-10-02 12:00"
      ]
     },
     "execution_count": 3,
     "metadata": {},
     "output_type": "execute_result"
    }
   ],
   "source": [
    "timestamps"
   ]
  },
  {
   "cell_type": "code",
   "execution_count": 4,
   "id": "alternate-victory",
   "metadata": {
    "execution": {
     "iopub.execute_input": "2021-10-02T10:30:08.869170Z",
     "iopub.status.busy": "2021-10-02T10:30:08.867342Z",
     "iopub.status.idle": "2021-10-02T10:30:09.496249Z",
     "shell.execute_reply": "2021-10-02T10:30:09.497540Z"
    },
    "papermill": {
     "duration": 0.658958,
     "end_time": "2021-10-02T10:30:09.497958",
     "exception": false,
     "start_time": "2021-10-02T10:30:08.839000",
     "status": "completed"
    },
    "tags": []
   },
   "outputs": [],
   "source": [
    "df = pd.read_sql(\"select * from EBAY_TOP_BERLIN where record_time in (select distinct record_time from EBAY_TOP_BERLIN order by record_time desc limit 2)\", sqlite3.connect(\"UsedObjects.db\"))"
   ]
  },
  {
   "cell_type": "code",
   "execution_count": 5,
   "id": "popular-active",
   "metadata": {
    "execution": {
     "iopub.execute_input": "2021-10-02T10:30:09.578244Z",
     "iopub.status.busy": "2021-10-02T10:30:09.565960Z",
     "iopub.status.idle": "2021-10-02T10:30:09.596321Z",
     "shell.execute_reply": "2021-10-02T10:30:09.597677Z"
    },
    "papermill": {
     "duration": 0.074563,
     "end_time": "2021-10-02T10:30:09.598116",
     "exception": false,
     "start_time": "2021-10-02T10:30:09.523553",
     "status": "completed"
    },
    "tags": []
   },
   "outputs": [],
   "source": [
    "df_pivot = df.pivot_table(index=\"PRODUCT\", columns = \"RECORD_TIME\", values = \"LISTING_COUNT\")"
   ]
  },
  {
   "cell_type": "code",
   "execution_count": 6,
   "id": "union-huntington",
   "metadata": {
    "execution": {
     "iopub.execute_input": "2021-10-02T10:30:09.654936Z",
     "iopub.status.busy": "2021-10-02T10:30:09.652851Z",
     "iopub.status.idle": "2021-10-02T10:30:09.658360Z",
     "shell.execute_reply": "2021-10-02T10:30:09.659702Z"
    },
    "papermill": {
     "duration": 0.041575,
     "end_time": "2021-10-02T10:30:09.660131",
     "exception": false,
     "start_time": "2021-10-02T10:30:09.618556",
     "status": "completed"
    },
    "tags": []
   },
   "outputs": [],
   "source": [
    "df_pivot.columns = [\"stamp_1\", \"stamp_2\"]\n",
    "df_pivot_diff = df_pivot.diff(axis=1)"
   ]
  },
  {
   "cell_type": "code",
   "execution_count": 7,
   "id": "fifth-motion",
   "metadata": {
    "execution": {
     "iopub.execute_input": "2021-10-02T10:30:09.714374Z",
     "iopub.status.busy": "2021-10-02T10:30:09.712038Z",
     "iopub.status.idle": "2021-10-02T10:30:11.197620Z",
     "shell.execute_reply": "2021-10-02T10:30:11.198848Z"
    },
    "papermill": {
     "duration": 1.518649,
     "end_time": "2021-10-02T10:30:11.199290",
     "exception": false,
     "start_time": "2021-10-02T10:30:09.680641",
     "status": "completed"
    },
    "tags": []
   },
   "outputs": [
    {
     "data": {
      "text/plain": [
       "<AxesSubplot:ylabel='PRODUCT'>"
      ]
     },
     "execution_count": 7,
     "metadata": {},
     "output_type": "execute_result"
    },
    {
     "data": {
      "image/png": "[encoded data removed]",
      "text/plain": [
       "<Figure size 432x288 with 1 Axes>"
      ]
     },
     "metadata": {
      "needs_background": "light"
     },
     "output_type": "display_data"
    }
   ],
   "source": [
    "df_pivot_diff.sort_values(\"stamp_2\", ascending = False)[\"stamp_2\"].head(10).plot.barh()"
   ]
  },
  {
   "cell_type": "code",
   "execution_count": null,
   "id": "extra-executive",
   "metadata": {
    "papermill": {
     "duration": 0.02218,
     "end_time": "2021-10-02T10:30:11.245348",
     "exception": false,
     "start_time": "2021-10-02T10:30:11.223168",
     "status": "completed"
    },
    "tags": []
   },
   "outputs": [],
   "source": []
  }
 ],
 "metadata": {
  "kernelspec": {
   "display_name": "Python 3",
   "language": "python",
   "name": "python3"
  },
  "language_info": {
   "codemirror_mode": {
    "name": "ipython",
    "version": 3
   },
   "file_extension": ".py",
   "mimetype": "text/x-python",
   "name": "python",
   "nbconvert_exporter": "python",
   "pygments_lexer": "ipython3",
   "version": "3.9.5"
  },
  "papermill": {
   "default_parameters": {},
   "duration": 7.81974,
   "end_time": "2021-10-02T10:30:12.808407",
   "environment_variables": {},
   "exception": null,
   "input_path": "eBay_Overview.ipynb",
   "output_path": "eBay_Overview.ipynb",
   "parameters": {},
   "start_time": "2021-10-02T10:30:04.988667",
   "version": "2.3.3"
  }
 },
 "nbformat": 4,
 "nbformat_minor": 5
}