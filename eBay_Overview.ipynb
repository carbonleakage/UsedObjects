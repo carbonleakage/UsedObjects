{
 "cells": [
  {
   "cell_type": "code",
   "execution_count": 1,
   "id": "reverse-picking",
   "metadata": {
    "execution": {
     "iopub.execute_input": "2021-09-03T03:30:07.039162Z",
     "iopub.status.busy": "2021-09-03T03:30:07.037140Z",
     "iopub.status.idle": "2021-09-03T03:30:07.845355Z",
     "shell.execute_reply": "2021-09-03T03:30:07.846619Z"
    },
    "papermill": {
     "duration": 0.86075,
     "end_time": "2021-09-03T03:30:07.847317",
     "exception": false,
     "start_time": "2021-09-03T03:30:06.986567",
     "status": "completed"
    },
    "tags": []
   },
   "outputs": [],
   "source": [
    "import pandas as pd\n",
    "import sqlite3"
   ]
  },
  {
   "cell_type": "code",
   "execution_count": 2,
   "id": "innovative-syndrome",
   "metadata": {
    "execution": {
     "iopub.execute_input": "2021-09-03T03:30:07.899866Z",
     "iopub.status.busy": "2021-09-03T03:30:07.897856Z",
     "iopub.status.idle": "2021-09-03T03:30:08.088345Z",
     "shell.execute_reply": "2021-09-03T03:30:08.089554Z"
    },
    "papermill": {
     "duration": 0.220105,
     "end_time": "2021-09-03T03:30:08.089955",
     "exception": false,
     "start_time": "2021-09-03T03:30:07.869850",
     "status": "completed"
    },
    "tags": []
   },
   "outputs": [],
   "source": [
    "timestamps = pd.read_sql(\"select distinct record_time from EBAY_TOP_BERLIN order by record_time desc limit 2\", sqlite3.connect(\"UsedObjects.db\"))"
   ]
  },
  {
   "cell_type": "code",
   "execution_count": 3,
   "id": "periodic-identification",
   "metadata": {
    "execution": {
     "iopub.execute_input": "2021-09-03T03:30:08.154337Z",
     "iopub.status.busy": "2021-09-03T03:30:08.152313Z",
     "iopub.status.idle": "2021-09-03T03:30:08.172382Z",
     "shell.execute_reply": "2021-09-03T03:30:08.173690Z"
    },
    "papermill": {
     "duration": 0.064637,
     "end_time": "2021-09-03T03:30:08.174110",
     "exception": false,
     "start_time": "2021-09-03T03:30:08.109473",
     "status": "completed"
    },
    "tags": []
   },
   "outputs": [
    {
     "data": {
      "text/html": [
       "<div>\n",
       "<style scoped>\n",
       "    .dataframe tbody tr th:only-of-type {\n",
       "        vertical-align: middle;\n",
       "    }\n",
       "\n",
       "    .dataframe tbody tr th {\n",
       "        vertical-align: top;\n",
       "    }\n",
       "\n",
       "    .dataframe thead th {\n",
       "        text-align: right;\n",
       "    }\n",
       "</style>\n",
       "<table border=\"1\" class=\"dataframe\">\n",
       "  <thead>\n",
       "    <tr style=\"text-align: right;\">\n",
       "      <th></th>\n",
       "      <th>RECORD_TIME</th>\n",
       "    </tr>\n",
       "  </thead>\n",
       "  <tbody>\n",
       "    <tr>\n",
       "      <th>0</th>\n",
       "      <td>2021-09-03 05:30</td>\n",
       "    </tr>\n",
       "    <tr>\n",
       "      <th>1</th>\n",
       "      <td>2021-09-03 05:00</td>\n",
       "    </tr>\n",
       "  </tbody>\n",
       "</table>\n",
       "</div>"
      ],
      "text/plain": [
       "        RECORD_TIME\n",
       "0  2021-09-03 05:30\n",
       "1  2021-09-03 05:00"
      ]
     },
     "execution_count": 3,
     "metadata": {},
     "output_type": "execute_result"
    }
   ],
   "source": [
    "timestamps"
   ]
  },
  {
   "cell_type": "code",
   "execution_count": 4,
   "id": "alternate-victory",
   "metadata": {
    "execution": {
     "iopub.execute_input": "2021-09-03T03:30:08.226673Z",
     "iopub.status.busy": "2021-09-03T03:30:08.224413Z",
     "iopub.status.idle": "2021-09-03T03:30:08.511348Z",
     "shell.execute_reply": "2021-09-03T03:30:08.512761Z"
    },
    "papermill": {
     "duration": 0.317791,
     "end_time": "2021-09-03T03:30:08.513203",
     "exception": false,
     "start_time": "2021-09-03T03:30:08.195412",
     "status": "completed"
    },
    "tags": []
   },
   "outputs": [],
   "source": [
    "df = pd.read_sql(\"select * from EBAY_TOP_BERLIN where record_time in (select distinct record_time from EBAY_TOP_BERLIN order by record_time desc limit 2)\", sqlite3.connect(\"UsedObjects.db\"))"
   ]
  },
  {
   "cell_type": "code",
   "execution_count": 5,
   "id": "popular-active",
   "metadata": {
    "execution": {
     "iopub.execute_input": "2021-09-03T03:30:08.594931Z",
     "iopub.status.busy": "2021-09-03T03:30:08.583627Z",
     "iopub.status.idle": "2021-09-03T03:30:08.611004Z",
     "shell.execute_reply": "2021-09-03T03:30:08.612405Z"
    },
    "papermill": {
     "duration": 0.073173,
     "end_time": "2021-09-03T03:30:08.612846",
     "exception": false,
     "start_time": "2021-09-03T03:30:08.539673",
     "status": "completed"
    },
    "tags": []
   },
   "outputs": [],
   "source": [
    "df_pivot = df.pivot_table(index=\"PRODUCT\", columns = \"RECORD_TIME\", values = \"LISTING_COUNT\")"
   ]
  },
  {
   "cell_type": "code",
   "execution_count": 6,
   "id": "union-huntington",
   "metadata": {
    "execution": {
     "iopub.execute_input": "2021-09-03T03:30:08.672135Z",
     "iopub.status.busy": "2021-09-03T03:30:08.669618Z",
     "iopub.status.idle": "2021-09-03T03:30:08.675548Z",
     "shell.execute_reply": "2021-09-03T03:30:08.676855Z"
    },
    "papermill": {
     "duration": 0.042317,
     "end_time": "2021-09-03T03:30:08.677271",
     "exception": false,
     "start_time": "2021-09-03T03:30:08.634954",
     "status": "completed"
    },
    "tags": []
   },
   "outputs": [],
   "source": [
    "df_pivot.columns = [\"stamp_1\", \"stamp_2\"]\n",
    "df_pivot_diff = df_pivot.diff(axis=1)"
   ]
  },
  {
   "cell_type": "code",
   "execution_count": 7,
   "id": "fifth-motion",
   "metadata": {
    "execution": {
     "iopub.execute_input": "2021-09-03T03:30:08.730491Z",
     "iopub.status.busy": "2021-09-03T03:30:08.728315Z",
     "iopub.status.idle": "2021-09-03T03:30:10.234983Z",
     "shell.execute_reply": "2021-09-03T03:30:10.236380Z"
    },
    "papermill": {
     "duration": 1.53945,
     "end_time": "2021-09-03T03:30:10.236807",
     "exception": false,
     "start_time": "2021-09-03T03:30:08.697357",
     "status": "completed"
    },
    "tags": []
   },
   "outputs": [
    {
     "data": {
      "text/plain": [
       "<AxesSubplot:ylabel='PRODUCT'>"
      ]
     },
     "execution_count": 7,
     "metadata": {},
     "output_type": "execute_result"
    },
    {
     "data": {
      "image/png": "[encoded data removed]",
      "text/plain": [
       "<Figure size 432x288 with 1 Axes>"
      ]
     },
     "metadata": {
      "needs_background": "light"
     },
     "output_type": "display_data"
    }
   ],
   "source": [
    "df_pivot_diff.sort_values(\"stamp_2\", ascending = False)[\"stamp_2\"].head(10).plot.barh()"
   ]
  },
  {
   "cell_type": "code",
   "execution_count": null,
   "id": "extra-executive",
   "metadata": {
    "papermill": {
     "duration": 0.022434,
     "end_time": "2021-09-03T03:30:10.283230",
     "exception": false,
     "start_time": "2021-09-03T03:30:10.260796",
     "status": "completed"
    },
    "tags": []
   },
   "outputs": [],
   "source": []
  }
 ],
 "metadata": {
  "kernelspec": {
   "display_name": "Python 3",
   "language": "python",
   "name": "python3"
  },
  "language_info": {
   "codemirror_mode": {
    "name": "ipython",
    "version": 3
   },
   "file_extension": ".py",
   "mimetype": "text/x-python",
   "name": "python",
   "nbconvert_exporter": "python",
   "pygments_lexer": "ipython3",
   "version": "3.9.5"
  },
  "papermill": {
   "default_parameters": {},
   "duration": 6.352014,
   "end_time": "2021-09-03T03:30:10.925519",
   "environment_variables": {},
   "exception": null,
   "input_path": "eBay_Overview.ipynb",
   "output_path": "eBay_Overview.ipynb",
   "parameters": {},
   "start_time": "2021-09-03T03:30:04.573505",
   "version": "2.3.3"
  }
 },
 "nbformat": 4,
 "nbformat_minor": 5
}