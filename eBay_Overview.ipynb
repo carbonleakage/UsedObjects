{
 "cells": [
  {
   "cell_type": "code",
   "execution_count": 1,
   "id": "reverse-picking",
   "metadata": {
    "execution": {
     "iopub.execute_input": "2021-09-22T21:30:07.357412Z",
     "iopub.status.busy": "2021-09-22T21:30:07.350590Z",
     "iopub.status.idle": "2021-09-22T21:30:08.153795Z",
     "shell.execute_reply": "2021-09-22T21:30:08.155192Z"
    },
    "papermill": {
     "duration": 0.855481,
     "end_time": "2021-09-22T21:30:08.155863",
     "exception": false,
     "start_time": "2021-09-22T21:30:07.300382",
     "status": "completed"
    },
    "tags": []
   },
   "outputs": [],
   "source": [
    "import pandas as pd\n",
    "import sqlite3"
   ]
  },
  {
   "cell_type": "code",
   "execution_count": 2,
   "id": "innovative-syndrome",
   "metadata": {
    "execution": {
     "iopub.execute_input": "2021-09-22T21:30:08.206667Z",
     "iopub.status.busy": "2021-09-22T21:30:08.204732Z",
     "iopub.status.idle": "2021-09-22T21:30:08.560111Z",
     "shell.execute_reply": "2021-09-22T21:30:08.561476Z"
    },
    "papermill": {
     "duration": 0.385671,
     "end_time": "2021-09-22T21:30:08.561911",
     "exception": false,
     "start_time": "2021-09-22T21:30:08.176240",
     "status": "completed"
    },
    "tags": []
   },
   "outputs": [],
   "source": [
    "timestamps = pd.read_sql(\"select distinct record_time from EBAY_TOP_BERLIN order by record_time desc limit 2\", sqlite3.connect(\"UsedObjects.db\"))"
   ]
  },
  {
   "cell_type": "code",
   "execution_count": 3,
   "id": "periodic-identification",
   "metadata": {
    "execution": {
     "iopub.execute_input": "2021-09-22T21:30:08.629159Z",
     "iopub.status.busy": "2021-09-22T21:30:08.627147Z",
     "iopub.status.idle": "2021-09-22T21:30:08.647392Z",
     "shell.execute_reply": "2021-09-22T21:30:08.648748Z"
    },
    "papermill": {
     "duration": 0.067285,
     "end_time": "2021-09-22T21:30:08.649160",
     "exception": false,
     "start_time": "2021-09-22T21:30:08.581875",
     "status": "completed"
    },
    "tags": []
   },
   "outputs": [
    {
     "data": {
      "text/html": [
       "<div>\n",
       "<style scoped>\n",
       "    .dataframe tbody tr th:only-of-type {\n",
       "        vertical-align: middle;\n",
       "    }\n",
       "\n",
       "    .dataframe tbody tr th {\n",
       "        vertical-align: top;\n",
       "    }\n",
       "\n",
       "    .dataframe thead th {\n",
       "        text-align: right;\n",
       "    }\n",
       "</style>\n",
       "<table border=\"1\" class=\"dataframe\">\n",
       "  <thead>\n",
       "    <tr style=\"text-align: right;\">\n",
       "      <th></th>\n",
       "      <th>RECORD_TIME</th>\n",
       "    </tr>\n",
       "  </thead>\n",
       "  <tbody>\n",
       "    <tr>\n",
       "      <th>0</th>\n",
       "      <td>2021-09-22 23:30</td>\n",
       "    </tr>\n",
       "    <tr>\n",
       "      <th>1</th>\n",
       "      <td>2021-09-22 23:00</td>\n",
       "    </tr>\n",
       "  </tbody>\n",
       "</table>\n",
       "</div>"
      ],
      "text/plain": [
       "        RECORD_TIME\n",
       "0  2021-09-22 23:30\n",
       "1  2021-09-22 23:00"
      ]
     },
     "execution_count": 3,
     "metadata": {},
     "output_type": "execute_result"
    }
   ],
   "source": [
    "timestamps"
   ]
  },
  {
   "cell_type": "code",
   "execution_count": 4,
   "id": "alternate-victory",
   "metadata": {
    "execution": {
     "iopub.execute_input": "2021-09-22T21:30:08.701557Z",
     "iopub.status.busy": "2021-09-22T21:30:08.699283Z",
     "iopub.status.idle": "2021-09-22T21:30:09.236974Z",
     "shell.execute_reply": "2021-09-22T21:30:09.238184Z"
    },
    "papermill": {
     "duration": 0.568149,
     "end_time": "2021-09-22T21:30:09.238583",
     "exception": false,
     "start_time": "2021-09-22T21:30:08.670434",
     "status": "completed"
    },
    "tags": []
   },
   "outputs": [],
   "source": [
    "df = pd.read_sql(\"select * from EBAY_TOP_BERLIN where record_time in (select distinct record_time from EBAY_TOP_BERLIN order by record_time desc limit 2)\", sqlite3.connect(\"UsedObjects.db\"))"
   ]
  },
  {
   "cell_type": "code",
   "execution_count": 5,
   "id": "popular-active",
   "metadata": {
    "execution": {
     "iopub.execute_input": "2021-09-22T21:30:09.334150Z",
     "iopub.status.busy": "2021-09-22T21:30:09.322507Z",
     "iopub.status.idle": "2021-09-22T21:30:09.349810Z",
     "shell.execute_reply": "2021-09-22T21:30:09.351063Z"
    },
    "papermill": {
     "duration": 0.075999,
     "end_time": "2021-09-22T21:30:09.351464",
     "exception": false,
     "start_time": "2021-09-22T21:30:09.275465",
     "status": "completed"
    },
    "tags": []
   },
   "outputs": [],
   "source": [
    "df_pivot = df.pivot_table(index=\"PRODUCT\", columns = \"RECORD_TIME\", values = \"LISTING_COUNT\")"
   ]
  },
  {
   "cell_type": "code",
   "execution_count": 6,
   "id": "union-huntington",
   "metadata": {
    "execution": {
     "iopub.execute_input": "2021-09-22T21:30:09.410205Z",
     "iopub.status.busy": "2021-09-22T21:30:09.407962Z",
     "iopub.status.idle": "2021-09-22T21:30:09.413618Z",
     "shell.execute_reply": "2021-09-22T21:30:09.414978Z"
    },
    "papermill": {
     "duration": 0.041604,
     "end_time": "2021-09-22T21:30:09.415399",
     "exception": false,
     "start_time": "2021-09-22T21:30:09.373795",
     "status": "completed"
    },
    "tags": []
   },
   "outputs": [],
   "source": [
    "df_pivot.columns = [\"stamp_1\", \"stamp_2\"]\n",
    "df_pivot_diff = df_pivot.diff(axis=1)"
   ]
  },
  {
   "cell_type": "code",
   "execution_count": 7,
   "id": "fifth-motion",
   "metadata": {
    "execution": {
     "iopub.execute_input": "2021-09-22T21:30:09.469309Z",
     "iopub.status.busy": "2021-09-22T21:30:09.467056Z",
     "iopub.status.idle": "2021-09-22T21:30:10.966108Z",
     "shell.execute_reply": "2021-09-22T21:30:10.967554Z"
    },
    "papermill": {
     "duration": 1.532428,
     "end_time": "2021-09-22T21:30:10.967995",
     "exception": false,
     "start_time": "2021-09-22T21:30:09.435567",
     "status": "completed"
    },
    "tags": []
   },
   "outputs": [
    {
     "data": {
      "text/plain": [
       "<AxesSubplot:ylabel='PRODUCT'>"
      ]
     },
     "execution_count": 7,
     "metadata": {},
     "output_type": "execute_result"
    },
    {
     "data": {
      "image/png": "[encoded data removed]",
      "text/plain": [
       "<Figure size 432x288 with 1 Axes>"
      ]
     },
     "metadata": {
      "needs_background": "light"
     },
     "output_type": "display_data"
    }
   ],
   "source": [
    "df_pivot_diff.sort_values(\"stamp_2\", ascending = False)[\"stamp_2\"].head(10).plot.barh()"
   ]
  },
  {
   "cell_type": "code",
   "execution_count": null,
   "id": "extra-executive",
   "metadata": {
    "papermill": {
     "duration": 0.022324,
     "end_time": "2021-09-22T21:30:11.014439",
     "exception": false,
     "start_time": "2021-09-22T21:30:10.992115",
     "status": "completed"
    },
    "tags": []
   },
   "outputs": [],
   "source": []
  }
 ],
 "metadata": {
  "kernelspec": {
   "display_name": "Python 3",
   "language": "python",
   "name": "python3"
  },
  "language_info": {
   "codemirror_mode": {
    "name": "ipython",
    "version": 3
   },
   "file_extension": ".py",
   "mimetype": "text/x-python",
   "name": "python",
   "nbconvert_exporter": "python",
   "pygments_lexer": "ipython3",
   "version": "3.9.5"
  },
  "papermill": {
   "default_parameters": {},
   "duration": 6.762102,
   "end_time": "2021-09-22T21:30:11.657074",
   "environment_variables": {},
   "exception": null,
   "input_path": "eBay_Overview.ipynb",
   "output_path": "eBay_Overview.ipynb",
   "parameters": {},
   "start_time": "2021-09-22T21:30:04.894972",
   "version": "2.3.3"
  }
 },
 "nbformat": 4,
 "nbformat_minor": 5
}