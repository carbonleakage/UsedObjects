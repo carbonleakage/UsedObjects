{
 "cells": [
  {
   "cell_type": "code",
   "execution_count": 1,
   "id": "reverse-picking",
   "metadata": {
    "execution": {
     "iopub.execute_input": "2021-08-22T15:30:07.632388Z",
     "iopub.status.busy": "2021-08-22T15:30:07.630461Z",
     "iopub.status.idle": "2021-08-22T15:30:08.436321Z",
     "shell.execute_reply": "2021-08-22T15:30:08.437549Z"
    },
    "papermill": {
     "duration": 0.857836,
     "end_time": "2021-08-22T15:30:08.438236",
     "exception": false,
     "start_time": "2021-08-22T15:30:07.580400",
     "status": "completed"
    },
    "tags": []
   },
   "outputs": [],
   "source": [
    "import pandas as pd\n",
    "import sqlite3"
   ]
  },
  {
   "cell_type": "code",
   "execution_count": 2,
   "id": "innovative-syndrome",
   "metadata": {
    "execution": {
     "iopub.execute_input": "2021-08-22T15:30:08.490774Z",
     "iopub.status.busy": "2021-08-22T15:30:08.488801Z",
     "iopub.status.idle": "2021-08-22T15:30:08.595451Z",
     "shell.execute_reply": "2021-08-22T15:30:08.596568Z"
    },
    "papermill": {
     "duration": 0.136166,
     "end_time": "2021-08-22T15:30:08.596984",
     "exception": false,
     "start_time": "2021-08-22T15:30:08.460818",
     "status": "completed"
    },
    "tags": []
   },
   "outputs": [],
   "source": [
    "timestamps = pd.read_sql(\"select distinct record_time from EBAY_TOP_BERLIN order by record_time desc limit 2\", sqlite3.connect(\"UsedObjects.db\"))"
   ]
  },
  {
   "cell_type": "code",
   "execution_count": 3,
   "id": "periodic-identification",
   "metadata": {
    "execution": {
     "iopub.execute_input": "2021-08-22T15:30:08.665692Z",
     "iopub.status.busy": "2021-08-22T15:30:08.663681Z",
     "iopub.status.idle": "2021-08-22T15:30:08.684981Z",
     "shell.execute_reply": "2021-08-22T15:30:08.686496Z"
    },
    "papermill": {
     "duration": 0.067482,
     "end_time": "2021-08-22T15:30:08.686979",
     "exception": false,
     "start_time": "2021-08-22T15:30:08.619497",
     "status": "completed"
    },
    "tags": []
   },
   "outputs": [
    {
     "data": {
      "text/html": [
       "<div>\n",
       "<style scoped>\n",
       "    .dataframe tbody tr th:only-of-type {\n",
       "        vertical-align: middle;\n",
       "    }\n",
       "\n",
       "    .dataframe tbody tr th {\n",
       "        vertical-align: top;\n",
       "    }\n",
       "\n",
       "    .dataframe thead th {\n",
       "        text-align: right;\n",
       "    }\n",
       "</style>\n",
       "<table border=\"1\" class=\"dataframe\">\n",
       "  <thead>\n",
       "    <tr style=\"text-align: right;\">\n",
       "      <th></th>\n",
       "      <th>RECORD_TIME</th>\n",
       "    </tr>\n",
       "  </thead>\n",
       "  <tbody>\n",
       "    <tr>\n",
       "      <th>0</th>\n",
       "      <td>2021-08-22 17:30</td>\n",
       "    </tr>\n",
       "    <tr>\n",
       "      <th>1</th>\n",
       "      <td>2021-08-22 17:00</td>\n",
       "    </tr>\n",
       "  </tbody>\n",
       "</table>\n",
       "</div>"
      ],
      "text/plain": [
       "        RECORD_TIME\n",
       "0  2021-08-22 17:30\n",
       "1  2021-08-22 17:00"
      ]
     },
     "execution_count": 3,
     "metadata": {},
     "output_type": "execute_result"
    }
   ],
   "source": [
    "timestamps"
   ]
  },
  {
   "cell_type": "code",
   "execution_count": 4,
   "id": "alternate-victory",
   "metadata": {
    "execution": {
     "iopub.execute_input": "2021-08-22T15:30:08.738738Z",
     "iopub.status.busy": "2021-08-22T15:30:08.736815Z",
     "iopub.status.idle": "2021-08-22T15:30:08.899057Z",
     "shell.execute_reply": "2021-08-22T15:30:08.900329Z"
    },
    "papermill": {
     "duration": 0.192265,
     "end_time": "2021-08-22T15:30:08.900733",
     "exception": false,
     "start_time": "2021-08-22T15:30:08.708468",
     "status": "completed"
    },
    "tags": []
   },
   "outputs": [],
   "source": [
    "df = pd.read_sql(\"select * from EBAY_TOP_BERLIN where record_time in (select distinct record_time from EBAY_TOP_BERLIN order by record_time desc limit 2)\", sqlite3.connect(\"UsedObjects.db\"))"
   ]
  },
  {
   "cell_type": "code",
   "execution_count": 5,
   "id": "popular-active",
   "metadata": {
    "execution": {
     "iopub.execute_input": "2021-08-22T15:30:08.970189Z",
     "iopub.status.busy": "2021-08-22T15:30:08.958664Z",
     "iopub.status.idle": "2021-08-22T15:30:08.987530Z",
     "shell.execute_reply": "2021-08-22T15:30:08.988804Z"
    },
    "papermill": {
     "duration": 0.067902,
     "end_time": "2021-08-22T15:30:08.989228",
     "exception": false,
     "start_time": "2021-08-22T15:30:08.921326",
     "status": "completed"
    },
    "tags": []
   },
   "outputs": [],
   "source": [
    "df_pivot = df.pivot_table(index=\"PRODUCT\", columns = \"RECORD_TIME\", values = \"LISTING_COUNT\")"
   ]
  },
  {
   "cell_type": "code",
   "execution_count": 6,
   "id": "union-huntington",
   "metadata": {
    "execution": {
     "iopub.execute_input": "2021-08-22T15:30:09.046140Z",
     "iopub.status.busy": "2021-08-22T15:30:09.044048Z",
     "iopub.status.idle": "2021-08-22T15:30:09.049329Z",
     "shell.execute_reply": "2021-08-22T15:30:09.050678Z"
    },
    "papermill": {
     "duration": 0.041426,
     "end_time": "2021-08-22T15:30:09.051102",
     "exception": false,
     "start_time": "2021-08-22T15:30:09.009676",
     "status": "completed"
    },
    "tags": []
   },
   "outputs": [],
   "source": [
    "df_pivot.columns = [\"stamp_1\", \"stamp_2\"]\n",
    "df_pivot_diff = df_pivot.diff(axis=1)"
   ]
  },
  {
   "cell_type": "code",
   "execution_count": 7,
   "id": "fifth-motion",
   "metadata": {
    "execution": {
     "iopub.execute_input": "2021-08-22T15:30:09.114092Z",
     "iopub.status.busy": "2021-08-22T15:30:09.111777Z",
     "iopub.status.idle": "2021-08-22T15:30:10.594660Z",
     "shell.execute_reply": "2021-08-22T15:30:10.596075Z"
    },
    "papermill": {
     "duration": 1.518851,
     "end_time": "2021-08-22T15:30:10.596525",
     "exception": false,
     "start_time": "2021-08-22T15:30:09.077674",
     "status": "completed"
    },
    "tags": []
   },
   "outputs": [
    {
     "data": {
      "text/plain": [
       "<AxesSubplot:ylabel='PRODUCT'>"
      ]
     },
     "execution_count": 7,
     "metadata": {},
     "output_type": "execute_result"
    },
    {
     "data": {
      "image/png": "[encoded data removed]",
      "text/plain": [
       "<Figure size 432x288 with 1 Axes>"
      ]
     },
     "metadata": {
      "needs_background": "light"
     },
     "output_type": "display_data"
    }
   ],
   "source": [
    "df_pivot_diff.sort_values(\"stamp_2\", ascending = False)[\"stamp_2\"].head(10).plot.barh()"
   ]
  },
  {
   "cell_type": "code",
   "execution_count": null,
   "id": "extra-executive",
   "metadata": {
    "papermill": {
     "duration": 0.022563,
     "end_time": "2021-08-22T15:30:10.643836",
     "exception": false,
     "start_time": "2021-08-22T15:30:10.621273",
     "status": "completed"
    },
    "tags": []
   },
   "outputs": [],
   "source": []
  }
 ],
 "metadata": {
  "kernelspec": {
   "display_name": "Python 3",
   "language": "python",
   "name": "python3"
  },
  "language_info": {
   "codemirror_mode": {
    "name": "ipython",
    "version": 3
   },
   "file_extension": ".py",
   "mimetype": "text/x-python",
   "name": "python",
   "nbconvert_exporter": "python",
   "pygments_lexer": "ipython3",
   "version": "3.9.5"
  },
  "papermill": {
   "default_parameters": {},
   "duration": 6.831866,
   "end_time": "2021-08-22T15:30:12.007178",
   "environment_variables": {},
   "exception": null,
   "input_path": "eBay_Overview.ipynb",
   "output_path": "eBay_Overview.ipynb",
   "parameters": {},
   "start_time": "2021-08-22T15:30:05.175312",
   "version": "2.3.3"
  }
 },
 "nbformat": 4,
 "nbformat_minor": 5
}