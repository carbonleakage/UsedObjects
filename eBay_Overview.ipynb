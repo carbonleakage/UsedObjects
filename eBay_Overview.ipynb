{
 "cells": [
  {
   "cell_type": "code",
   "execution_count": 1,
   "id": "reverse-picking",
   "metadata": {
    "execution": {
     "iopub.execute_input": "2021-09-20T18:00:07.056439Z",
     "iopub.status.busy": "2021-09-20T18:00:07.054451Z",
     "iopub.status.idle": "2021-09-20T18:00:07.856800Z",
     "shell.execute_reply": "2021-09-20T18:00:07.858106Z"
    },
    "papermill": {
     "duration": 0.854261,
     "end_time": "2021-09-20T18:00:07.858753",
     "exception": false,
     "start_time": "2021-09-20T18:00:07.004492",
     "status": "completed"
    },
    "tags": []
   },
   "outputs": [],
   "source": [
    "import pandas as pd\n",
    "import sqlite3"
   ]
  },
  {
   "cell_type": "code",
   "execution_count": 2,
   "id": "innovative-syndrome",
   "metadata": {
    "execution": {
     "iopub.execute_input": "2021-09-20T18:00:07.909558Z",
     "iopub.status.busy": "2021-09-20T18:00:07.907285Z",
     "iopub.status.idle": "2021-09-20T18:00:08.238229Z",
     "shell.execute_reply": "2021-09-20T18:00:08.240218Z"
    },
    "papermill": {
     "duration": 0.361884,
     "end_time": "2021-09-20T18:00:08.240761",
     "exception": false,
     "start_time": "2021-09-20T18:00:07.878877",
     "status": "completed"
    },
    "tags": []
   },
   "outputs": [],
   "source": [
    "timestamps = pd.read_sql(\"select distinct record_time from EBAY_TOP_BERLIN order by record_time desc limit 2\", sqlite3.connect(\"UsedObjects.db\"))"
   ]
  },
  {
   "cell_type": "code",
   "execution_count": 3,
   "id": "periodic-identification",
   "metadata": {
    "execution": {
     "iopub.execute_input": "2021-09-20T18:00:08.305677Z",
     "iopub.status.busy": "2021-09-20T18:00:08.303675Z",
     "iopub.status.idle": "2021-09-20T18:00:08.325742Z",
     "shell.execute_reply": "2021-09-20T18:00:08.327093Z"
    },
    "papermill": {
     "duration": 0.067797,
     "end_time": "2021-09-20T18:00:08.327554",
     "exception": false,
     "start_time": "2021-09-20T18:00:08.259757",
     "status": "completed"
    },
    "tags": []
   },
   "outputs": [
    {
     "data": {
      "text/html": [
       "<div>\n",
       "<style scoped>\n",
       "    .dataframe tbody tr th:only-of-type {\n",
       "        vertical-align: middle;\n",
       "    }\n",
       "\n",
       "    .dataframe tbody tr th {\n",
       "        vertical-align: top;\n",
       "    }\n",
       "\n",
       "    .dataframe thead th {\n",
       "        text-align: right;\n",
       "    }\n",
       "</style>\n",
       "<table border=\"1\" class=\"dataframe\">\n",
       "  <thead>\n",
       "    <tr style=\"text-align: right;\">\n",
       "      <th></th>\n",
       "      <th>RECORD_TIME</th>\n",
       "    </tr>\n",
       "  </thead>\n",
       "  <tbody>\n",
       "    <tr>\n",
       "      <th>0</th>\n",
       "      <td>2021-09-20 20:00</td>\n",
       "    </tr>\n",
       "    <tr>\n",
       "      <th>1</th>\n",
       "      <td>2021-09-20 19:30</td>\n",
       "    </tr>\n",
       "  </tbody>\n",
       "</table>\n",
       "</div>"
      ],
      "text/plain": [
       "        RECORD_TIME\n",
       "0  2021-09-20 20:00\n",
       "1  2021-09-20 19:30"
      ]
     },
     "execution_count": 3,
     "metadata": {},
     "output_type": "execute_result"
    }
   ],
   "source": [
    "timestamps"
   ]
  },
  {
   "cell_type": "code",
   "execution_count": 4,
   "id": "alternate-victory",
   "metadata": {
    "execution": {
     "iopub.execute_input": "2021-09-20T18:00:08.379254Z",
     "iopub.status.busy": "2021-09-20T18:00:08.377341Z",
     "iopub.status.idle": "2021-09-20T18:00:08.875822Z",
     "shell.execute_reply": "2021-09-20T18:00:08.877028Z"
    },
    "papermill": {
     "duration": 0.52813,
     "end_time": "2021-09-20T18:00:08.877418",
     "exception": false,
     "start_time": "2021-09-20T18:00:08.349288",
     "status": "completed"
    },
    "tags": []
   },
   "outputs": [],
   "source": [
    "df = pd.read_sql(\"select * from EBAY_TOP_BERLIN where record_time in (select distinct record_time from EBAY_TOP_BERLIN order by record_time desc limit 2)\", sqlite3.connect(\"UsedObjects.db\"))"
   ]
  },
  {
   "cell_type": "code",
   "execution_count": 5,
   "id": "popular-active",
   "metadata": {
    "execution": {
     "iopub.execute_input": "2021-09-20T18:00:08.946120Z",
     "iopub.status.busy": "2021-09-20T18:00:08.934256Z",
     "iopub.status.idle": "2021-09-20T18:00:08.961716Z",
     "shell.execute_reply": "2021-09-20T18:00:08.963122Z"
    },
    "papermill": {
     "duration": 0.066032,
     "end_time": "2021-09-20T18:00:08.963540",
     "exception": false,
     "start_time": "2021-09-20T18:00:08.897508",
     "status": "completed"
    },
    "tags": []
   },
   "outputs": [],
   "source": [
    "df_pivot = df.pivot_table(index=\"PRODUCT\", columns = \"RECORD_TIME\", values = \"LISTING_COUNT\")"
   ]
  },
  {
   "cell_type": "code",
   "execution_count": 6,
   "id": "union-huntington",
   "metadata": {
    "execution": {
     "iopub.execute_input": "2021-09-20T18:00:09.021333Z",
     "iopub.status.busy": "2021-09-20T18:00:09.018930Z",
     "iopub.status.idle": "2021-09-20T18:00:09.025214Z",
     "shell.execute_reply": "2021-09-20T18:00:09.026649Z"
    },
    "papermill": {
     "duration": 0.04258,
     "end_time": "2021-09-20T18:00:09.027183",
     "exception": false,
     "start_time": "2021-09-20T18:00:08.984603",
     "status": "completed"
    },
    "tags": []
   },
   "outputs": [],
   "source": [
    "df_pivot.columns = [\"stamp_1\", \"stamp_2\"]\n",
    "df_pivot_diff = df_pivot.diff(axis=1)"
   ]
  },
  {
   "cell_type": "code",
   "execution_count": 7,
   "id": "fifth-motion",
   "metadata": {
    "execution": {
     "iopub.execute_input": "2021-09-20T18:00:09.081602Z",
     "iopub.status.busy": "2021-09-20T18:00:09.079224Z",
     "iopub.status.idle": "2021-09-20T18:00:10.545807Z",
     "shell.execute_reply": "2021-09-20T18:00:10.547186Z"
    },
    "papermill": {
     "duration": 1.499255,
     "end_time": "2021-09-20T18:00:10.547633",
     "exception": false,
     "start_time": "2021-09-20T18:00:09.048378",
     "status": "completed"
    },
    "tags": []
   },
   "outputs": [
    {
     "data": {
      "text/plain": [
       "<AxesSubplot:ylabel='PRODUCT'>"
      ]
     },
     "execution_count": 7,
     "metadata": {},
     "output_type": "execute_result"
    },
    {
     "data": {
      "image/png": "[encoded data removed]",
      "text/plain": [
       "<Figure size 432x288 with 1 Axes>"
      ]
     },
     "metadata": {
      "needs_background": "light"
     },
     "output_type": "display_data"
    }
   ],
   "source": [
    "df_pivot_diff.sort_values(\"stamp_2\", ascending = False)[\"stamp_2\"].head(10).plot.barh()"
   ]
  },
  {
   "cell_type": "code",
   "execution_count": null,
   "id": "extra-executive",
   "metadata": {
    "papermill": {
     "duration": 0.021907,
     "end_time": "2021-09-20T18:00:10.595028",
     "exception": false,
     "start_time": "2021-09-20T18:00:10.573121",
     "status": "completed"
    },
    "tags": []
   },
   "outputs": [],
   "source": []
  }
 ],
 "metadata": {
  "kernelspec": {
   "display_name": "Python 3",
   "language": "python",
   "name": "python3"
  },
  "language_info": {
   "codemirror_mode": {
    "name": "ipython",
    "version": 3
   },
   "file_extension": ".py",
   "mimetype": "text/x-python",
   "name": "python",
   "nbconvert_exporter": "python",
   "pygments_lexer": "ipython3",
   "version": "3.9.5"
  },
  "papermill": {
   "default_parameters": {},
   "duration": 6.626653,
   "end_time": "2021-09-20T18:00:11.235138",
   "environment_variables": {},
   "exception": null,
   "input_path": "eBay_Overview.ipynb",
   "output_path": "eBay_Overview.ipynb",
   "parameters": {},
   "start_time": "2021-09-20T18:00:04.608485",
   "version": "2.3.3"
  }
 },
 "nbformat": 4,
 "nbformat_minor": 5
}