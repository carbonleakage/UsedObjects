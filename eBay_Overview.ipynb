{
 "cells": [
  {
   "cell_type": "code",
   "execution_count": 1,
   "id": "reverse-picking",
   "metadata": {
    "execution": {
     "iopub.execute_input": "2021-12-09T09:00:07.719424Z",
     "iopub.status.busy": "2021-12-09T09:00:07.711795Z",
     "iopub.status.idle": "2021-12-09T09:00:08.689489Z",
     "shell.execute_reply": "2021-12-09T09:00:08.691119Z"
    },
    "papermill": {
     "duration": 1.028282,
     "end_time": "2021-12-09T09:00:08.691893",
     "exception": false,
     "start_time": "2021-12-09T09:00:07.663611",
     "status": "completed"
    },
    "tags": []
   },
   "outputs": [],
   "source": [
    "import pandas as pd\n",
    "import sqlite3"
   ]
  },
  {
   "cell_type": "code",
   "execution_count": 2,
   "id": "innovative-syndrome",
   "metadata": {
    "execution": {
     "iopub.execute_input": "2021-12-09T09:00:08.750165Z",
     "iopub.status.busy": "2021-12-09T09:00:08.747306Z",
     "iopub.status.idle": "2021-12-09T09:00:09.794501Z",
     "shell.execute_reply": "2021-12-09T09:00:09.795930Z"
    },
    "papermill": {
     "duration": 1.082397,
     "end_time": "2021-12-09T09:00:09.796385",
     "exception": false,
     "start_time": "2021-12-09T09:00:08.713988",
     "status": "completed"
    },
    "tags": []
   },
   "outputs": [],
   "source": [
    "timestamps = pd.read_sql(\"select distinct record_time from EBAY_TOP_BERLIN order by record_time desc limit 2\", sqlite3.connect(\"UsedObjects.db\"))"
   ]
  },
  {
   "cell_type": "code",
   "execution_count": 3,
   "id": "periodic-identification",
   "metadata": {
    "execution": {
     "iopub.execute_input": "2021-12-09T09:00:09.866582Z",
     "iopub.status.busy": "2021-12-09T09:00:09.864087Z",
     "iopub.status.idle": "2021-12-09T09:00:09.892084Z",
     "shell.execute_reply": "2021-12-09T09:00:09.895497Z"
    },
    "papermill": {
     "duration": 0.080357,
     "end_time": "2021-12-09T09:00:09.896367",
     "exception": false,
     "start_time": "2021-12-09T09:00:09.816010",
     "status": "completed"
    },
    "tags": []
   },
   "outputs": [
    {
     "data": {
      "text/html": [
       "<div>\n",
       "<style scoped>\n",
       "    .dataframe tbody tr th:only-of-type {\n",
       "        vertical-align: middle;\n",
       "    }\n",
       "\n",
       "    .dataframe tbody tr th {\n",
       "        vertical-align: top;\n",
       "    }\n",
       "\n",
       "    .dataframe thead th {\n",
       "        text-align: right;\n",
       "    }\n",
       "</style>\n",
       "<table border=\"1\" class=\"dataframe\">\n",
       "  <thead>\n",
       "    <tr style=\"text-align: right;\">\n",
       "      <th></th>\n",
       "      <th>RECORD_TIME</th>\n",
       "    </tr>\n",
       "  </thead>\n",
       "  <tbody>\n",
       "    <tr>\n",
       "      <th>0</th>\n",
       "      <td>2021-12-09 10:00</td>\n",
       "    </tr>\n",
       "    <tr>\n",
       "      <th>1</th>\n",
       "      <td>2021-12-09 09:30</td>\n",
       "    </tr>\n",
       "  </tbody>\n",
       "</table>\n",
       "</div>"
      ],
      "text/plain": [
       "        RECORD_TIME\n",
       "0  2021-12-09 10:00\n",
       "1  2021-12-09 09:30"
      ]
     },
     "execution_count": 3,
     "metadata": {},
     "output_type": "execute_result"
    }
   ],
   "source": [
    "timestamps"
   ]
  },
  {
   "cell_type": "code",
   "execution_count": 4,
   "id": "alternate-victory",
   "metadata": {
    "execution": {
     "iopub.execute_input": "2021-12-09T09:00:09.975409Z",
     "iopub.status.busy": "2021-12-09T09:00:09.973066Z",
     "iopub.status.idle": "2021-12-09T09:00:11.479530Z",
     "shell.execute_reply": "2021-12-09T09:00:11.482476Z"
    },
    "papermill": {
     "duration": 1.55288,
     "end_time": "2021-12-09T09:00:11.483185",
     "exception": false,
     "start_time": "2021-12-09T09:00:09.930305",
     "status": "completed"
    },
    "tags": []
   },
   "outputs": [],
   "source": [
    "df = pd.read_sql(\"select * from EBAY_TOP_BERLIN where record_time in (select distinct record_time from EBAY_TOP_BERLIN order by record_time desc limit 2)\", sqlite3.connect(\"UsedObjects.db\"))"
   ]
  },
  {
   "cell_type": "code",
   "execution_count": 5,
   "id": "popular-active",
   "metadata": {
    "execution": {
     "iopub.execute_input": "2021-12-09T09:00:11.604755Z",
     "iopub.status.busy": "2021-12-09T09:00:11.582675Z",
     "iopub.status.idle": "2021-12-09T09:00:11.642427Z",
     "shell.execute_reply": "2021-12-09T09:00:11.645455Z"
    },
    "papermill": {
     "duration": 0.131815,
     "end_time": "2021-12-09T09:00:11.646306",
     "exception": false,
     "start_time": "2021-12-09T09:00:11.514491",
     "status": "completed"
    },
    "tags": []
   },
   "outputs": [],
   "source": [
    "df_pivot = df.pivot_table(index=\"PRODUCT\", columns = \"RECORD_TIME\", values = \"LISTING_COUNT\")"
   ]
  },
  {
   "cell_type": "code",
   "execution_count": 6,
   "id": "union-huntington",
   "metadata": {
    "execution": {
     "iopub.execute_input": "2021-12-09T09:00:11.739269Z",
     "iopub.status.busy": "2021-12-09T09:00:11.735677Z",
     "iopub.status.idle": "2021-12-09T09:00:11.743595Z",
     "shell.execute_reply": "2021-12-09T09:00:11.745553Z"
    },
    "papermill": {
     "duration": 0.066603,
     "end_time": "2021-12-09T09:00:11.746303",
     "exception": false,
     "start_time": "2021-12-09T09:00:11.679700",
     "status": "completed"
    },
    "tags": []
   },
   "outputs": [],
   "source": [
    "df_pivot.columns = [\"stamp_1\", \"stamp_2\"]\n",
    "df_pivot_diff = df_pivot.diff(axis=1)"
   ]
  },
  {
   "cell_type": "code",
   "execution_count": 7,
   "id": "fifth-motion",
   "metadata": {
    "execution": {
     "iopub.execute_input": "2021-12-09T09:00:11.831473Z",
     "iopub.status.busy": "2021-12-09T09:00:11.827491Z",
     "iopub.status.idle": "2021-12-09T09:00:13.575876Z",
     "shell.execute_reply": "2021-12-09T09:00:13.577404Z"
    },
    "papermill": {
     "duration": 1.807151,
     "end_time": "2021-12-09T09:00:13.577874",
     "exception": false,
     "start_time": "2021-12-09T09:00:11.770723",
     "status": "completed"
    },
    "tags": []
   },
   "outputs": [
    {
     "data": {
      "text/plain": [
       "<AxesSubplot:ylabel='PRODUCT'>"
      ]
     },
     "execution_count": 7,
     "metadata": {},
     "output_type": "execute_result"
    },
    {
     "data": {
      "image/png": "[encoded data removed]",
      "text/plain": [
       "<Figure size 432x288 with 1 Axes>"
      ]
     },
     "metadata": {
      "needs_background": "light"
     },
     "output_type": "display_data"
    }
   ],
   "source": [
    "df_pivot_diff.sort_values(\"stamp_2\", ascending = False)[\"stamp_2\"].head(10).plot.barh()"
   ]
  },
  {
   "cell_type": "code",
   "execution_count": null,
   "id": "extra-executive",
   "metadata": {
    "papermill": {
     "duration": 0.022252,
     "end_time": "2021-12-09T09:00:13.624986",
     "exception": false,
     "start_time": "2021-12-09T09:00:13.602734",
     "status": "completed"
    },
    "tags": []
   },
   "outputs": [],
   "source": []
  }
 ],
 "metadata": {
  "kernelspec": {
   "display_name": "Python 3",
   "language": "python",
   "name": "python3"
  },
  "language_info": {
   "codemirror_mode": {
    "name": "ipython",
    "version": 3
   },
   "file_extension": ".py",
   "mimetype": "text/x-python",
   "name": "python",
   "nbconvert_exporter": "python",
   "pygments_lexer": "ipython3",
   "version": "3.9.5"
  },
  "papermill": {
   "default_parameters": {},
   "duration": 9.949724,
   "end_time": "2021-12-09T09:00:14.856645",
   "environment_variables": {},
   "exception": null,
   "input_path": "eBay_Overview.ipynb",
   "output_path": "eBay_Overview.ipynb",
   "parameters": {},
   "start_time": "2021-12-09T09:00:04.906921",
   "version": "2.3.3"
  }
 },
 "nbformat": 4,
 "nbformat_minor": 5
}