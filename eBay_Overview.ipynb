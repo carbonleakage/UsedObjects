{
 "cells": [
  {
   "cell_type": "code",
   "execution_count": 1,
   "id": "reverse-picking",
   "metadata": {
    "execution": {
     "iopub.execute_input": "2021-10-19T01:00:06.885869Z",
     "iopub.status.busy": "2021-10-19T01:00:06.883837Z",
     "iopub.status.idle": "2021-10-19T01:00:07.692127Z",
     "shell.execute_reply": "2021-10-19T01:00:07.693588Z"
    },
    "papermill": {
     "duration": 0.860287,
     "end_time": "2021-10-19T01:00:07.694245",
     "exception": false,
     "start_time": "2021-10-19T01:00:06.833958",
     "status": "completed"
    },
    "tags": []
   },
   "outputs": [],
   "source": [
    "import pandas as pd\n",
    "import sqlite3"
   ]
  },
  {
   "cell_type": "code",
   "execution_count": 2,
   "id": "innovative-syndrome",
   "metadata": {
    "execution": {
     "iopub.execute_input": "2021-10-19T01:00:07.744078Z",
     "iopub.status.busy": "2021-10-19T01:00:07.742222Z",
     "iopub.status.idle": "2021-10-19T01:00:08.309701Z",
     "shell.execute_reply": "2021-10-19T01:00:08.311102Z"
    },
    "papermill": {
     "duration": 0.597207,
     "end_time": "2021-10-19T01:00:08.311540",
     "exception": false,
     "start_time": "2021-10-19T01:00:07.714333",
     "status": "completed"
    },
    "tags": []
   },
   "outputs": [],
   "source": [
    "timestamps = pd.read_sql(\"select distinct record_time from EBAY_TOP_BERLIN order by record_time desc limit 2\", sqlite3.connect(\"UsedObjects.db\"))"
   ]
  },
  {
   "cell_type": "code",
   "execution_count": 3,
   "id": "periodic-identification",
   "metadata": {
    "execution": {
     "iopub.execute_input": "2021-10-19T01:00:08.390921Z",
     "iopub.status.busy": "2021-10-19T01:00:08.388880Z",
     "iopub.status.idle": "2021-10-19T01:00:08.409074Z",
     "shell.execute_reply": "2021-10-19T01:00:08.410492Z"
    },
    "papermill": {
     "duration": 0.071123,
     "end_time": "2021-10-19T01:00:08.410917",
     "exception": false,
     "start_time": "2021-10-19T01:00:08.339794",
     "status": "completed"
    },
    "tags": []
   },
   "outputs": [
    {
     "data": {
      "text/html": [
       "<div>\n",
       "<style scoped>\n",
       "    .dataframe tbody tr th:only-of-type {\n",
       "        vertical-align: middle;\n",
       "    }\n",
       "\n",
       "    .dataframe tbody tr th {\n",
       "        vertical-align: top;\n",
       "    }\n",
       "\n",
       "    .dataframe thead th {\n",
       "        text-align: right;\n",
       "    }\n",
       "</style>\n",
       "<table border=\"1\" class=\"dataframe\">\n",
       "  <thead>\n",
       "    <tr style=\"text-align: right;\">\n",
       "      <th></th>\n",
       "      <th>RECORD_TIME</th>\n",
       "    </tr>\n",
       "  </thead>\n",
       "  <tbody>\n",
       "    <tr>\n",
       "      <th>0</th>\n",
       "      <td>2021-10-19 03:00</td>\n",
       "    </tr>\n",
       "    <tr>\n",
       "      <th>1</th>\n",
       "      <td>2021-10-19 02:30</td>\n",
       "    </tr>\n",
       "  </tbody>\n",
       "</table>\n",
       "</div>"
      ],
      "text/plain": [
       "        RECORD_TIME\n",
       "0  2021-10-19 03:00\n",
       "1  2021-10-19 02:30"
      ]
     },
     "execution_count": 3,
     "metadata": {},
     "output_type": "execute_result"
    }
   ],
   "source": [
    "timestamps"
   ]
  },
  {
   "cell_type": "code",
   "execution_count": 4,
   "id": "alternate-victory",
   "metadata": {
    "execution": {
     "iopub.execute_input": "2021-10-19T01:00:08.463775Z",
     "iopub.status.busy": "2021-10-19T01:00:08.461491Z",
     "iopub.status.idle": "2021-10-19T01:00:09.327061Z",
     "shell.execute_reply": "2021-10-19T01:00:09.328340Z"
    },
    "papermill": {
     "duration": 0.895979,
     "end_time": "2021-10-19T01:00:09.328816",
     "exception": false,
     "start_time": "2021-10-19T01:00:08.432837",
     "status": "completed"
    },
    "tags": []
   },
   "outputs": [],
   "source": [
    "df = pd.read_sql(\"select * from EBAY_TOP_BERLIN where record_time in (select distinct record_time from EBAY_TOP_BERLIN order by record_time desc limit 2)\", sqlite3.connect(\"UsedObjects.db\"))"
   ]
  },
  {
   "cell_type": "code",
   "execution_count": 5,
   "id": "popular-active",
   "metadata": {
    "execution": {
     "iopub.execute_input": "2021-10-19T01:00:09.394335Z",
     "iopub.status.busy": "2021-10-19T01:00:09.385685Z",
     "iopub.status.idle": "2021-10-19T01:00:09.414679Z",
     "shell.execute_reply": "2021-10-19T01:00:09.415903Z"
    },
    "papermill": {
     "duration": 0.066664,
     "end_time": "2021-10-19T01:00:09.416298",
     "exception": false,
     "start_time": "2021-10-19T01:00:09.349634",
     "status": "completed"
    },
    "tags": []
   },
   "outputs": [],
   "source": [
    "df_pivot = df.pivot_table(index=\"PRODUCT\", columns = \"RECORD_TIME\", values = \"LISTING_COUNT\")"
   ]
  },
  {
   "cell_type": "code",
   "execution_count": 6,
   "id": "union-huntington",
   "metadata": {
    "execution": {
     "iopub.execute_input": "2021-10-19T01:00:09.475890Z",
     "iopub.status.busy": "2021-10-19T01:00:09.473435Z",
     "iopub.status.idle": "2021-10-19T01:00:09.479247Z",
     "shell.execute_reply": "2021-10-19T01:00:09.480528Z"
    },
    "papermill": {
     "duration": 0.042398,
     "end_time": "2021-10-19T01:00:09.481011",
     "exception": false,
     "start_time": "2021-10-19T01:00:09.438613",
     "status": "completed"
    },
    "tags": []
   },
   "outputs": [],
   "source": [
    "df_pivot.columns = [\"stamp_1\", \"stamp_2\"]\n",
    "df_pivot_diff = df_pivot.diff(axis=1)"
   ]
  },
  {
   "cell_type": "code",
   "execution_count": 7,
   "id": "fifth-motion",
   "metadata": {
    "execution": {
     "iopub.execute_input": "2021-10-19T01:00:09.535599Z",
     "iopub.status.busy": "2021-10-19T01:00:09.533276Z",
     "iopub.status.idle": "2021-10-19T01:00:11.020350Z",
     "shell.execute_reply": "2021-10-19T01:00:11.021713Z"
    },
    "papermill": {
     "duration": 1.520466,
     "end_time": "2021-10-19T01:00:11.022137",
     "exception": false,
     "start_time": "2021-10-19T01:00:09.501671",
     "status": "completed"
    },
    "tags": []
   },
   "outputs": [
    {
     "data": {
      "text/plain": [
       "<AxesSubplot:ylabel='PRODUCT'>"
      ]
     },
     "execution_count": 7,
     "metadata": {},
     "output_type": "execute_result"
    },
    {
     "data": {
      "image/png": "[encoded data removed]",
      "text/plain": [
       "<Figure size 432x288 with 1 Axes>"
      ]
     },
     "metadata": {
      "needs_background": "light"
     },
     "output_type": "display_data"
    }
   ],
   "source": [
    "df_pivot_diff.sort_values(\"stamp_2\", ascending = False)[\"stamp_2\"].head(10).plot.barh()"
   ]
  },
  {
   "cell_type": "code",
   "execution_count": null,
   "id": "extra-executive",
   "metadata": {
    "papermill": {
     "duration": 0.021932,
     "end_time": "2021-10-19T01:00:11.070353",
     "exception": false,
     "start_time": "2021-10-19T01:00:11.048421",
     "status": "completed"
    },
    "tags": []
   },
   "outputs": [],
   "source": []
  }
 ],
 "metadata": {
  "kernelspec": {
   "display_name": "Python 3",
   "language": "python",
   "name": "python3"
  },
  "language_info": {
   "codemirror_mode": {
    "name": "ipython",
    "version": 3
   },
   "file_extension": ".py",
   "mimetype": "text/x-python",
   "name": "python",
   "nbconvert_exporter": "python",
   "pygments_lexer": "ipython3",
   "version": "3.9.5"
  },
  "papermill": {
   "default_parameters": {},
   "duration": 7.820718,
   "end_time": "2021-10-19T01:00:12.248021",
   "environment_variables": {},
   "exception": null,
   "input_path": "eBay_Overview.ipynb",
   "output_path": "eBay_Overview.ipynb",
   "parameters": {},
   "start_time": "2021-10-19T01:00:04.427303",
   "version": "2.3.3"
  }
 },
 "nbformat": 4,
 "nbformat_minor": 5
}