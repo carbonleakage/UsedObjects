{
 "cells": [
  {
   "cell_type": "code",
   "execution_count": 1,
   "id": "reverse-picking",
   "metadata": {
    "execution": {
     "iopub.execute_input": "2021-08-13T16:00:07.134937Z",
     "iopub.status.busy": "2021-08-13T16:00:07.132914Z",
     "iopub.status.idle": "2021-08-13T16:00:07.940654Z",
     "shell.execute_reply": "2021-08-13T16:00:07.941806Z"
    },
    "papermill": {
     "duration": 0.858221,
     "end_time": "2021-08-13T16:00:07.942630",
     "exception": false,
     "start_time": "2021-08-13T16:00:07.084409",
     "status": "completed"
    },
    "tags": []
   },
   "outputs": [],
   "source": [
    "import pandas as pd\n",
    "import sqlite3"
   ]
  },
  {
   "cell_type": "code",
   "execution_count": 2,
   "id": "innovative-syndrome",
   "metadata": {
    "execution": {
     "iopub.execute_input": "2021-08-13T16:00:07.995663Z",
     "iopub.status.busy": "2021-08-13T16:00:07.993261Z",
     "iopub.status.idle": "2021-08-13T16:00:08.036850Z",
     "shell.execute_reply": "2021-08-13T16:00:08.038234Z"
    },
    "papermill": {
     "duration": 0.07398,
     "end_time": "2021-08-13T16:00:08.038661",
     "exception": false,
     "start_time": "2021-08-13T16:00:07.964681",
     "status": "completed"
    },
    "tags": []
   },
   "outputs": [],
   "source": [
    "timestamps = pd.read_sql(\"select distinct record_time from EBAY_TOP_BERLIN order by record_time desc limit 2\", sqlite3.connect(\"UsedObjects.db\"))"
   ]
  },
  {
   "cell_type": "code",
   "execution_count": 3,
   "id": "periodic-identification",
   "metadata": {
    "execution": {
     "iopub.execute_input": "2021-08-13T16:00:08.104861Z",
     "iopub.status.busy": "2021-08-13T16:00:08.102818Z",
     "iopub.status.idle": "2021-08-13T16:00:08.124821Z",
     "shell.execute_reply": "2021-08-13T16:00:08.126155Z"
    },
    "papermill": {
     "duration": 0.067781,
     "end_time": "2021-08-13T16:00:08.126622",
     "exception": false,
     "start_time": "2021-08-13T16:00:08.058841",
     "status": "completed"
    },
    "tags": []
   },
   "outputs": [
    {
     "data": {
      "text/html": [
       "<div>\n",
       "<style scoped>\n",
       "    .dataframe tbody tr th:only-of-type {\n",
       "        vertical-align: middle;\n",
       "    }\n",
       "\n",
       "    .dataframe tbody tr th {\n",
       "        vertical-align: top;\n",
       "    }\n",
       "\n",
       "    .dataframe thead th {\n",
       "        text-align: right;\n",
       "    }\n",
       "</style>\n",
       "<table border=\"1\" class=\"dataframe\">\n",
       "  <thead>\n",
       "    <tr style=\"text-align: right;\">\n",
       "      <th></th>\n",
       "      <th>RECORD_TIME</th>\n",
       "    </tr>\n",
       "  </thead>\n",
       "  <tbody>\n",
       "    <tr>\n",
       "      <th>0</th>\n",
       "      <td>2021-08-13 18:00</td>\n",
       "    </tr>\n",
       "    <tr>\n",
       "      <th>1</th>\n",
       "      <td>2021-08-13 17:30</td>\n",
       "    </tr>\n",
       "  </tbody>\n",
       "</table>\n",
       "</div>"
      ],
      "text/plain": [
       "        RECORD_TIME\n",
       "0  2021-08-13 18:00\n",
       "1  2021-08-13 17:30"
      ]
     },
     "execution_count": 3,
     "metadata": {},
     "output_type": "execute_result"
    }
   ],
   "source": [
    "timestamps"
   ]
  },
  {
   "cell_type": "code",
   "execution_count": 4,
   "id": "alternate-victory",
   "metadata": {
    "execution": {
     "iopub.execute_input": "2021-08-13T16:00:08.178044Z",
     "iopub.status.busy": "2021-08-13T16:00:08.176125Z",
     "iopub.status.idle": "2021-08-13T16:00:08.236485Z",
     "shell.execute_reply": "2021-08-13T16:00:08.237675Z"
    },
    "papermill": {
     "duration": 0.090224,
     "end_time": "2021-08-13T16:00:08.238130",
     "exception": false,
     "start_time": "2021-08-13T16:00:08.147906",
     "status": "completed"
    },
    "tags": []
   },
   "outputs": [],
   "source": [
    "df = pd.read_sql(\"select * from EBAY_TOP_BERLIN where record_time in (select distinct record_time from EBAY_TOP_BERLIN order by record_time desc limit 2)\", sqlite3.connect(\"UsedObjects.db\"))"
   ]
  },
  {
   "cell_type": "code",
   "execution_count": 5,
   "id": "popular-active",
   "metadata": {
    "execution": {
     "iopub.execute_input": "2021-08-13T16:00:08.310411Z",
     "iopub.status.busy": "2021-08-13T16:00:08.298610Z",
     "iopub.status.idle": "2021-08-13T16:00:08.327334Z",
     "shell.execute_reply": "2021-08-13T16:00:08.326003Z"
    },
    "papermill": {
     "duration": 0.067801,
     "end_time": "2021-08-13T16:00:08.327673",
     "exception": false,
     "start_time": "2021-08-13T16:00:08.259872",
     "status": "completed"
    },
    "tags": []
   },
   "outputs": [],
   "source": [
    "df_pivot = df.pivot_table(index=\"PRODUCT\", columns = \"RECORD_TIME\", values = \"LISTING_COUNT\")"
   ]
  },
  {
   "cell_type": "code",
   "execution_count": 6,
   "id": "union-huntington",
   "metadata": {
    "execution": {
     "iopub.execute_input": "2021-08-13T16:00:08.383995Z",
     "iopub.status.busy": "2021-08-13T16:00:08.381769Z",
     "iopub.status.idle": "2021-08-13T16:00:08.387542Z",
     "shell.execute_reply": "2021-08-13T16:00:08.388892Z"
    },
    "papermill": {
     "duration": 0.041141,
     "end_time": "2021-08-13T16:00:08.389326",
     "exception": false,
     "start_time": "2021-08-13T16:00:08.348185",
     "status": "completed"
    },
    "tags": []
   },
   "outputs": [],
   "source": [
    "df_pivot.columns = [\"stamp_1\", \"stamp_2\"]\n",
    "df_pivot_diff = df_pivot.diff(axis=1)"
   ]
  },
  {
   "cell_type": "code",
   "execution_count": 7,
   "id": "fifth-motion",
   "metadata": {
    "execution": {
     "iopub.execute_input": "2021-08-13T16:00:08.444932Z",
     "iopub.status.busy": "2021-08-13T16:00:08.442265Z",
     "iopub.status.idle": "2021-08-13T16:00:09.965803Z",
     "shell.execute_reply": "2021-08-13T16:00:09.967313Z"
    },
    "papermill": {
     "duration": 1.557371,
     "end_time": "2021-08-13T16:00:09.967760",
     "exception": false,
     "start_time": "2021-08-13T16:00:08.410389",
     "status": "completed"
    },
    "tags": []
   },
   "outputs": [
    {
     "data": {
      "text/plain": [
       "<AxesSubplot:ylabel='PRODUCT'>"
      ]
     },
     "execution_count": 7,
     "metadata": {},
     "output_type": "execute_result"
    },
    {
     "data": {
      "image/png": "[encoded data removed]",
      "text/plain": [
       "<Figure size 432x288 with 1 Axes>"
      ]
     },
     "metadata": {
      "needs_background": "light"
     },
     "output_type": "display_data"
    }
   ],
   "source": [
    "df_pivot_diff.sort_values(\"stamp_2\", ascending = False)[\"stamp_2\"].head(10).plot.barh()"
   ]
  },
  {
   "cell_type": "code",
   "execution_count": null,
   "id": "extra-executive",
   "metadata": {
    "papermill": {
     "duration": 0.021981,
     "end_time": "2021-08-13T16:00:10.014191",
     "exception": false,
     "start_time": "2021-08-13T16:00:09.992210",
     "status": "completed"
    },
    "tags": []
   },
   "outputs": [],
   "source": []
  }
 ],
 "metadata": {
  "kernelspec": {
   "display_name": "Python 3",
   "language": "python",
   "name": "python3"
  },
  "language_info": {
   "codemirror_mode": {
    "name": "ipython",
    "version": 3
   },
   "file_extension": ".py",
   "mimetype": "text/x-python",
   "name": "python",
   "nbconvert_exporter": "python",
   "pygments_lexer": "ipython3",
   "version": "3.9.5"
  },
  "papermill": {
   "default_parameters": {},
   "duration": 6.826791,
   "end_time": "2021-08-13T16:00:11.492547",
   "environment_variables": {},
   "exception": null,
   "input_path": "eBay_Overview.ipynb",
   "output_path": "eBay_Overview.ipynb",
   "parameters": {},
   "start_time": "2021-08-13T16:00:04.665756",
   "version": "2.3.3"
  }
 },
 "nbformat": 4,
 "nbformat_minor": 5
}