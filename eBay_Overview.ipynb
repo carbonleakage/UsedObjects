{
 "cells": [
  {
   "cell_type": "code",
   "execution_count": 1,
   "id": "reverse-picking",
   "metadata": {
    "execution": {
     "iopub.execute_input": "2021-12-08T22:00:07.288947Z",
     "iopub.status.busy": "2021-12-08T22:00:07.286590Z",
     "iopub.status.idle": "2021-12-08T22:00:08.227185Z",
     "shell.execute_reply": "2021-12-08T22:00:08.229757Z"
    },
    "papermill": {
     "duration": 0.990789,
     "end_time": "2021-12-08T22:00:08.230496",
     "exception": false,
     "start_time": "2021-12-08T22:00:07.239707",
     "status": "completed"
    },
    "tags": []
   },
   "outputs": [],
   "source": [
    "import pandas as pd\n",
    "import sqlite3"
   ]
  },
  {
   "cell_type": "code",
   "execution_count": 2,
   "id": "innovative-syndrome",
   "metadata": {
    "execution": {
     "iopub.execute_input": "2021-12-08T22:00:08.295547Z",
     "iopub.status.busy": "2021-12-08T22:00:08.292449Z",
     "iopub.status.idle": "2021-12-08T22:00:09.318674Z",
     "shell.execute_reply": "2021-12-08T22:00:09.320026Z"
    },
    "papermill": {
     "duration": 1.060185,
     "end_time": "2021-12-08T22:00:09.320521",
     "exception": false,
     "start_time": "2021-12-08T22:00:08.260336",
     "status": "completed"
    },
    "tags": []
   },
   "outputs": [],
   "source": [
    "timestamps = pd.read_sql(\"select distinct record_time from EBAY_TOP_BERLIN order by record_time desc limit 2\", sqlite3.connect(\"UsedObjects.db\"))"
   ]
  },
  {
   "cell_type": "code",
   "execution_count": 3,
   "id": "periodic-identification",
   "metadata": {
    "execution": {
     "iopub.execute_input": "2021-12-08T22:00:09.393112Z",
     "iopub.status.busy": "2021-12-08T22:00:09.390575Z",
     "iopub.status.idle": "2021-12-08T22:00:09.415985Z",
     "shell.execute_reply": "2021-12-08T22:00:09.414208Z"
    },
    "papermill": {
     "duration": 0.075549,
     "end_time": "2021-12-08T22:00:09.416456",
     "exception": false,
     "start_time": "2021-12-08T22:00:09.340907",
     "status": "completed"
    },
    "tags": []
   },
   "outputs": [
    {
     "data": {
      "text/html": [
       "<div>\n",
       "<style scoped>\n",
       "    .dataframe tbody tr th:only-of-type {\n",
       "        vertical-align: middle;\n",
       "    }\n",
       "\n",
       "    .dataframe tbody tr th {\n",
       "        vertical-align: top;\n",
       "    }\n",
       "\n",
       "    .dataframe thead th {\n",
       "        text-align: right;\n",
       "    }\n",
       "</style>\n",
       "<table border=\"1\" class=\"dataframe\">\n",
       "  <thead>\n",
       "    <tr style=\"text-align: right;\">\n",
       "      <th></th>\n",
       "      <th>RECORD_TIME</th>\n",
       "    </tr>\n",
       "  </thead>\n",
       "  <tbody>\n",
       "    <tr>\n",
       "      <th>0</th>\n",
       "      <td>2021-12-08 23:00</td>\n",
       "    </tr>\n",
       "    <tr>\n",
       "      <th>1</th>\n",
       "      <td>2021-12-08 22:30</td>\n",
       "    </tr>\n",
       "  </tbody>\n",
       "</table>\n",
       "</div>"
      ],
      "text/plain": [
       "        RECORD_TIME\n",
       "0  2021-12-08 23:00\n",
       "1  2021-12-08 22:30"
      ]
     },
     "execution_count": 3,
     "metadata": {},
     "output_type": "execute_result"
    }
   ],
   "source": [
    "timestamps"
   ]
  },
  {
   "cell_type": "code",
   "execution_count": 4,
   "id": "alternate-victory",
   "metadata": {
    "execution": {
     "iopub.execute_input": "2021-12-08T22:00:09.473056Z",
     "iopub.status.busy": "2021-12-08T22:00:09.470583Z",
     "iopub.status.idle": "2021-12-08T22:00:10.963510Z",
     "shell.execute_reply": "2021-12-08T22:00:10.965710Z"
    },
    "papermill": {
     "duration": 1.528337,
     "end_time": "2021-12-08T22:00:10.966190",
     "exception": false,
     "start_time": "2021-12-08T22:00:09.437853",
     "status": "completed"
    },
    "tags": []
   },
   "outputs": [],
   "source": [
    "df = pd.read_sql(\"select * from EBAY_TOP_BERLIN where record_time in (select distinct record_time from EBAY_TOP_BERLIN order by record_time desc limit 2)\", sqlite3.connect(\"UsedObjects.db\"))"
   ]
  },
  {
   "cell_type": "code",
   "execution_count": 5,
   "id": "popular-active",
   "metadata": {
    "execution": {
     "iopub.execute_input": "2021-12-08T22:00:11.041844Z",
     "iopub.status.busy": "2021-12-08T22:00:11.028282Z",
     "iopub.status.idle": "2021-12-08T22:00:11.065195Z",
     "shell.execute_reply": "2021-12-08T22:00:11.063428Z"
    },
    "papermill": {
     "duration": 0.079189,
     "end_time": "2021-12-08T22:00:11.065620",
     "exception": false,
     "start_time": "2021-12-08T22:00:10.986431",
     "status": "completed"
    },
    "tags": []
   },
   "outputs": [],
   "source": [
    "df_pivot = df.pivot_table(index=\"PRODUCT\", columns = \"RECORD_TIME\", values = \"LISTING_COUNT\")"
   ]
  },
  {
   "cell_type": "code",
   "execution_count": 6,
   "id": "union-huntington",
   "metadata": {
    "execution": {
     "iopub.execute_input": "2021-12-08T22:00:11.126377Z",
     "iopub.status.busy": "2021-12-08T22:00:11.124044Z",
     "iopub.status.idle": "2021-12-08T22:00:11.131224Z",
     "shell.execute_reply": "2021-12-08T22:00:11.129648Z"
    },
    "papermill": {
     "duration": 0.044941,
     "end_time": "2021-12-08T22:00:11.131627",
     "exception": false,
     "start_time": "2021-12-08T22:00:11.086686",
     "status": "completed"
    },
    "tags": []
   },
   "outputs": [],
   "source": [
    "df_pivot.columns = [\"stamp_1\", \"stamp_2\"]\n",
    "df_pivot_diff = df_pivot.diff(axis=1)"
   ]
  },
  {
   "cell_type": "code",
   "execution_count": 7,
   "id": "fifth-motion",
   "metadata": {
    "execution": {
     "iopub.execute_input": "2021-12-08T22:00:11.187000Z",
     "iopub.status.busy": "2021-12-08T22:00:11.184469Z",
     "iopub.status.idle": "2021-12-08T22:00:13.092508Z",
     "shell.execute_reply": "2021-12-08T22:00:13.093956Z"
    },
    "papermill": {
     "duration": 1.943161,
     "end_time": "2021-12-08T22:00:13.094402",
     "exception": false,
     "start_time": "2021-12-08T22:00:11.151241",
     "status": "completed"
    },
    "tags": []
   },
   "outputs": [
    {
     "data": {
      "text/plain": [
       "<AxesSubplot:ylabel='PRODUCT'>"
      ]
     },
     "execution_count": 7,
     "metadata": {},
     "output_type": "execute_result"
    },
    {
     "data": {
      "image/png": "[encoded data removed]",
      "text/plain": [
       "<Figure size 432x288 with 1 Axes>"
      ]
     },
     "metadata": {
      "needs_background": "light"
     },
     "output_type": "display_data"
    }
   ],
   "source": [
    "df_pivot_diff.sort_values(\"stamp_2\", ascending = False)[\"stamp_2\"].head(10).plot.barh()"
   ]
  },
  {
   "cell_type": "code",
   "execution_count": null,
   "id": "extra-executive",
   "metadata": {
    "papermill": {
     "duration": 0.022204,
     "end_time": "2021-12-08T22:00:13.141223",
     "exception": false,
     "start_time": "2021-12-08T22:00:13.119019",
     "status": "completed"
    },
    "tags": []
   },
   "outputs": [],
   "source": []
  }
 ],
 "metadata": {
  "kernelspec": {
   "display_name": "Python 3",
   "language": "python",
   "name": "python3"
  },
  "language_info": {
   "codemirror_mode": {
    "name": "ipython",
    "version": 3
   },
   "file_extension": ".py",
   "mimetype": "text/x-python",
   "name": "python",
   "nbconvert_exporter": "python",
   "pygments_lexer": "ipython3",
   "version": "3.9.5"
  },
  "papermill": {
   "default_parameters": {},
   "duration": 9.933354,
   "end_time": "2021-12-08T22:00:14.466466",
   "environment_variables": {},
   "exception": null,
   "input_path": "eBay_Overview.ipynb",
   "output_path": "eBay_Overview.ipynb",
   "parameters": {},
   "start_time": "2021-12-08T22:00:04.533112",
   "version": "2.3.3"
  }
 },
 "nbformat": 4,
 "nbformat_minor": 5
}