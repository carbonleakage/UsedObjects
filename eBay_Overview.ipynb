{
 "cells": [
  {
   "cell_type": "code",
   "execution_count": 1,
   "id": "reverse-picking",
   "metadata": {
    "execution": {
     "iopub.execute_input": "2021-12-17T13:00:08.099321Z",
     "iopub.status.busy": "2021-12-17T13:00:08.097120Z",
     "iopub.status.idle": "2021-12-17T13:00:09.050345Z",
     "shell.execute_reply": "2021-12-17T13:00:09.051840Z"
    },
    "papermill": {
     "duration": 1.003722,
     "end_time": "2021-12-17T13:00:09.052576",
     "exception": false,
     "start_time": "2021-12-17T13:00:08.048854",
     "status": "completed"
    },
    "tags": []
   },
   "outputs": [],
   "source": [
    "import pandas as pd\n",
    "import sqlite3"
   ]
  },
  {
   "cell_type": "code",
   "execution_count": 2,
   "id": "innovative-syndrome",
   "metadata": {
    "execution": {
     "iopub.execute_input": "2021-12-17T13:00:09.119555Z",
     "iopub.status.busy": "2021-12-17T13:00:09.117281Z",
     "iopub.status.idle": "2021-12-17T13:00:10.207082Z",
     "shell.execute_reply": "2021-12-17T13:00:10.208275Z"
    },
    "papermill": {
     "duration": 1.123341,
     "end_time": "2021-12-17T13:00:10.208785",
     "exception": false,
     "start_time": "2021-12-17T13:00:09.085444",
     "status": "completed"
    },
    "tags": []
   },
   "outputs": [],
   "source": [
    "timestamps = pd.read_sql(\"select distinct record_time from EBAY_TOP_BERLIN order by record_time desc limit 2\", sqlite3.connect(\"UsedObjects.db\"))"
   ]
  },
  {
   "cell_type": "code",
   "execution_count": 3,
   "id": "periodic-identification",
   "metadata": {
    "execution": {
     "iopub.execute_input": "2021-12-17T13:00:10.280054Z",
     "iopub.status.busy": "2021-12-17T13:00:10.274255Z",
     "iopub.status.idle": "2021-12-17T13:00:10.296211Z",
     "shell.execute_reply": "2021-12-17T13:00:10.297635Z"
    },
    "papermill": {
     "duration": 0.069502,
     "end_time": "2021-12-17T13:00:10.298130",
     "exception": false,
     "start_time": "2021-12-17T13:00:10.228628",
     "status": "completed"
    },
    "tags": []
   },
   "outputs": [
    {
     "data": {
      "text/html": [
       "<div>\n",
       "<style scoped>\n",
       "    .dataframe tbody tr th:only-of-type {\n",
       "        vertical-align: middle;\n",
       "    }\n",
       "\n",
       "    .dataframe tbody tr th {\n",
       "        vertical-align: top;\n",
       "    }\n",
       "\n",
       "    .dataframe thead th {\n",
       "        text-align: right;\n",
       "    }\n",
       "</style>\n",
       "<table border=\"1\" class=\"dataframe\">\n",
       "  <thead>\n",
       "    <tr style=\"text-align: right;\">\n",
       "      <th></th>\n",
       "      <th>RECORD_TIME</th>\n",
       "    </tr>\n",
       "  </thead>\n",
       "  <tbody>\n",
       "    <tr>\n",
       "      <th>0</th>\n",
       "      <td>2021-12-17 14:00</td>\n",
       "    </tr>\n",
       "    <tr>\n",
       "      <th>1</th>\n",
       "      <td>2021-12-17 13:30</td>\n",
       "    </tr>\n",
       "  </tbody>\n",
       "</table>\n",
       "</div>"
      ],
      "text/plain": [
       "        RECORD_TIME\n",
       "0  2021-12-17 14:00\n",
       "1  2021-12-17 13:30"
      ]
     },
     "execution_count": 3,
     "metadata": {},
     "output_type": "execute_result"
    }
   ],
   "source": [
    "timestamps"
   ]
  },
  {
   "cell_type": "code",
   "execution_count": 4,
   "id": "alternate-victory",
   "metadata": {
    "execution": {
     "iopub.execute_input": "2021-12-17T13:00:10.352647Z",
     "iopub.status.busy": "2021-12-17T13:00:10.350366Z",
     "iopub.status.idle": "2021-12-17T13:00:11.966821Z",
     "shell.execute_reply": "2021-12-17T13:00:11.968225Z"
    },
    "papermill": {
     "duration": 1.650488,
     "end_time": "2021-12-17T13:00:11.968977",
     "exception": false,
     "start_time": "2021-12-17T13:00:10.318489",
     "status": "completed"
    },
    "tags": []
   },
   "outputs": [],
   "source": [
    "df = pd.read_sql(\"select * from EBAY_TOP_BERLIN where record_time in (select distinct record_time from EBAY_TOP_BERLIN order by record_time desc limit 2)\", sqlite3.connect(\"UsedObjects.db\"))"
   ]
  },
  {
   "cell_type": "code",
   "execution_count": 5,
   "id": "popular-active",
   "metadata": {
    "execution": {
     "iopub.execute_input": "2021-12-17T13:00:12.038349Z",
     "iopub.status.busy": "2021-12-17T13:00:12.029421Z",
     "iopub.status.idle": "2021-12-17T13:00:12.065406Z",
     "shell.execute_reply": "2021-12-17T13:00:12.066865Z"
    },
    "papermill": {
     "duration": 0.077215,
     "end_time": "2021-12-17T13:00:12.067342",
     "exception": false,
     "start_time": "2021-12-17T13:00:11.990127",
     "status": "completed"
    },
    "tags": []
   },
   "outputs": [],
   "source": [
    "df_pivot = df.pivot_table(index=\"PRODUCT\", columns = \"RECORD_TIME\", values = \"LISTING_COUNT\")"
   ]
  },
  {
   "cell_type": "code",
   "execution_count": 6,
   "id": "union-huntington",
   "metadata": {
    "execution": {
     "iopub.execute_input": "2021-12-17T13:00:12.126030Z",
     "iopub.status.busy": "2021-12-17T13:00:12.123796Z",
     "iopub.status.idle": "2021-12-17T13:00:12.130016Z",
     "shell.execute_reply": "2021-12-17T13:00:12.131376Z"
    },
    "papermill": {
     "duration": 0.04447,
     "end_time": "2021-12-17T13:00:12.131861",
     "exception": false,
     "start_time": "2021-12-17T13:00:12.087391",
     "status": "completed"
    },
    "tags": []
   },
   "outputs": [],
   "source": [
    "df_pivot.columns = [\"stamp_1\", \"stamp_2\"]\n",
    "df_pivot_diff = df_pivot.diff(axis=1)"
   ]
  },
  {
   "cell_type": "code",
   "execution_count": 7,
   "id": "fifth-motion",
   "metadata": {
    "execution": {
     "iopub.execute_input": "2021-12-17T13:00:12.191638Z",
     "iopub.status.busy": "2021-12-17T13:00:12.187220Z",
     "iopub.status.idle": "2021-12-17T13:00:14.195604Z",
     "shell.execute_reply": "2021-12-17T13:00:14.197214Z"
    },
    "papermill": {
     "duration": 2.045402,
     "end_time": "2021-12-17T13:00:14.197741",
     "exception": false,
     "start_time": "2021-12-17T13:00:12.152339",
     "status": "completed"
    },
    "tags": []
   },
   "outputs": [
    {
     "data": {
      "text/plain": [
       "<AxesSubplot:ylabel='PRODUCT'>"
      ]
     },
     "execution_count": 7,
     "metadata": {},
     "output_type": "execute_result"
    },
    {
     "data": {
      "image/png": "[encoded data removed]",
      "text/plain": [
       "<Figure size 432x288 with 1 Axes>"
      ]
     },
     "metadata": {
      "needs_background": "light"
     },
     "output_type": "display_data"
    }
   ],
   "source": [
    "df_pivot_diff.sort_values(\"stamp_2\", ascending = False)[\"stamp_2\"].head(10).plot.barh()"
   ]
  },
  {
   "cell_type": "code",
   "execution_count": null,
   "id": "extra-executive",
   "metadata": {
    "papermill": {
     "duration": 0.025893,
     "end_time": "2021-12-17T13:00:14.257142",
     "exception": false,
     "start_time": "2021-12-17T13:00:14.231249",
     "status": "completed"
    },
    "tags": []
   },
   "outputs": [],
   "source": []
  }
 ],
 "metadata": {
  "kernelspec": {
   "display_name": "Python 3",
   "language": "python",
   "name": "python3"
  },
  "language_info": {
   "codemirror_mode": {
    "name": "ipython",
    "version": 3
   },
   "file_extension": ".py",
   "mimetype": "text/x-python",
   "name": "python",
   "nbconvert_exporter": "python",
   "pygments_lexer": "ipython3",
   "version": "3.9.5"
  },
  "papermill": {
   "default_parameters": {},
   "duration": 9.562504,
   "end_time": "2021-12-17T13:00:14.899953",
   "environment_variables": {},
   "exception": null,
   "input_path": "eBay_Overview.ipynb",
   "output_path": "eBay_Overview.ipynb",
   "parameters": {},
   "start_time": "2021-12-17T13:00:05.337449",
   "version": "2.3.3"
  }
 },
 "nbformat": 4,
 "nbformat_minor": 5
}