{
 "cells": [
  {
   "cell_type": "code",
   "execution_count": 1,
   "id": "reverse-picking",
   "metadata": {
    "execution": {
     "iopub.execute_input": "2021-08-09T21:00:04.379447Z",
     "iopub.status.busy": "2021-08-09T21:00:04.378690Z",
     "iopub.status.idle": "2021-08-09T21:00:05.107314Z",
     "shell.execute_reply": "2021-08-09T21:00:05.106341Z"
    },
    "papermill": {
     "duration": 0.74715,
     "end_time": "2021-08-09T21:00:05.107576",
     "exception": false,
     "start_time": "2021-08-09T21:00:04.360426",
     "status": "completed"
    },
    "tags": []
   },
   "outputs": [],
   "source": [
    "import pandas as pd\n",
    "import sqlite3"
   ]
  },
  {
   "cell_type": "code",
   "execution_count": 2,
   "id": "innovative-syndrome",
   "metadata": {
    "execution": {
     "iopub.execute_input": "2021-08-09T21:00:05.129729Z",
     "iopub.status.busy": "2021-08-09T21:00:05.128937Z",
     "iopub.status.idle": "2021-08-09T21:00:05.430439Z",
     "shell.execute_reply": "2021-08-09T21:00:05.431009Z"
    },
    "papermill": {
     "duration": 0.314411,
     "end_time": "2021-08-09T21:00:05.431202",
     "exception": false,
     "start_time": "2021-08-09T21:00:05.116791",
     "status": "completed"
    },
    "tags": []
   },
   "outputs": [],
   "source": [
    "timestamps = pd.read_sql(\"select distinct record_time from EBAY_TOP_BERLIN order by record_time desc limit 2\", sqlite3.connect(\"UsedObjects.db\"))"
   ]
  },
  {
   "cell_type": "code",
   "execution_count": 3,
   "id": "periodic-identification",
   "metadata": {
    "execution": {
     "iopub.execute_input": "2021-08-09T21:00:05.464085Z",
     "iopub.status.busy": "2021-08-09T21:00:05.463279Z",
     "iopub.status.idle": "2021-08-09T21:00:05.477364Z",
     "shell.execute_reply": "2021-08-09T21:00:05.476758Z"
    },
    "papermill": {
     "duration": 0.037528,
     "end_time": "2021-08-09T21:00:05.477521",
     "exception": false,
     "start_time": "2021-08-09T21:00:05.439993",
     "status": "completed"
    },
    "tags": []
   },
   "outputs": [
    {
     "data": {
      "text/html": [
       "<div>\n",
       "<style scoped>\n",
       "    .dataframe tbody tr th:only-of-type {\n",
       "        vertical-align: middle;\n",
       "    }\n",
       "\n",
       "    .dataframe tbody tr th {\n",
       "        vertical-align: top;\n",
       "    }\n",
       "\n",
       "    .dataframe thead th {\n",
       "        text-align: right;\n",
       "    }\n",
       "</style>\n",
       "<table border=\"1\" class=\"dataframe\">\n",
       "  <thead>\n",
       "    <tr style=\"text-align: right;\">\n",
       "      <th></th>\n",
       "      <th>RECORD_TIME</th>\n",
       "    </tr>\n",
       "  </thead>\n",
       "  <tbody>\n",
       "    <tr>\n",
       "      <th>0</th>\n",
       "      <td>2021-08-09 23:00</td>\n",
       "    </tr>\n",
       "    <tr>\n",
       "      <th>1</th>\n",
       "      <td>2021-08-09 22:30</td>\n",
       "    </tr>\n",
       "  </tbody>\n",
       "</table>\n",
       "</div>"
      ],
      "text/plain": [
       "        RECORD_TIME\n",
       "0  2021-08-09 23:00\n",
       "1  2021-08-09 22:30"
      ]
     },
     "execution_count": 3,
     "metadata": {},
     "output_type": "execute_result"
    }
   ],
   "source": [
    "timestamps"
   ]
  },
  {
   "cell_type": "code",
   "execution_count": 4,
   "id": "alternate-victory",
   "metadata": {
    "execution": {
     "iopub.execute_input": "2021-08-09T21:00:05.505874Z",
     "iopub.status.busy": "2021-08-09T21:00:05.505129Z",
     "iopub.status.idle": "2021-08-09T21:00:05.515084Z",
     "shell.execute_reply": "2021-08-09T21:00:05.515616Z"
    },
    "papermill": {
     "duration": 0.02893,
     "end_time": "2021-08-09T21:00:05.515798",
     "exception": false,
     "start_time": "2021-08-09T21:00:05.486868",
     "status": "completed"
    },
    "tags": []
   },
   "outputs": [],
   "source": [
    "df = pd.read_sql(\"select * from EBAY_TOP_BERLIN where record_time in (select distinct record_time from EBAY_TOP_BERLIN order by record_time desc limit 2)\", sqlite3.connect(\"UsedObjects.db\"))"
   ]
  },
  {
   "cell_type": "code",
   "execution_count": 5,
   "id": "popular-active",
   "metadata": {
    "execution": {
     "iopub.execute_input": "2021-08-09T21:00:05.598988Z",
     "iopub.status.busy": "2021-08-09T21:00:05.546196Z",
     "iopub.status.idle": "2021-08-09T21:00:05.617743Z",
     "shell.execute_reply": "2021-08-09T21:00:05.622735Z"
    },
    "papermill": {
     "duration": 0.094763,
     "end_time": "2021-08-09T21:00:05.623106",
     "exception": false,
     "start_time": "2021-08-09T21:00:05.528343",
     "status": "completed"
    },
    "tags": []
   },
   "outputs": [],
   "source": [
    "df_pivot = df.pivot_table(index=\"PRODUCT\", columns = \"RECORD_TIME\", values = \"LISTING_COUNT\")"
   ]
  },
  {
   "cell_type": "code",
   "execution_count": 6,
   "id": "union-huntington",
   "metadata": {
    "execution": {
     "iopub.execute_input": "2021-08-09T21:00:05.652144Z",
     "iopub.status.busy": "2021-08-09T21:00:05.651460Z",
     "iopub.status.idle": "2021-08-09T21:00:05.658416Z",
     "shell.execute_reply": "2021-08-09T21:00:05.657793Z"
    },
    "papermill": {
     "duration": 0.024468,
     "end_time": "2021-08-09T21:00:05.658569",
     "exception": false,
     "start_time": "2021-08-09T21:00:05.634101",
     "status": "completed"
    },
    "tags": []
   },
   "outputs": [],
   "source": [
    "df_pivot.columns = [\"stamp_1\", \"stamp_2\"]\n",
    "df_pivot_diff = df_pivot.diff(axis=1)"
   ]
  },
  {
   "cell_type": "code",
   "execution_count": 7,
   "id": "fifth-motion",
   "metadata": {
    "execution": {
     "iopub.execute_input": "2021-08-09T21:00:05.683449Z",
     "iopub.status.busy": "2021-08-09T21:00:05.682369Z",
     "iopub.status.idle": "2021-08-09T21:00:06.558956Z",
     "shell.execute_reply": "2021-08-09T21:00:06.558380Z"
    },
    "papermill": {
     "duration": 0.891758,
     "end_time": "2021-08-09T21:00:06.559105",
     "exception": false,
     "start_time": "2021-08-09T21:00:05.667347",
     "status": "completed"
    },
    "tags": []
   },
   "outputs": [
    {
     "data": {
      "text/plain": [
       "<AxesSubplot:ylabel='PRODUCT'>"
      ]
     },
     "execution_count": 7,
     "metadata": {},
     "output_type": "execute_result"
    },
    {
     "data": {
      "image/png": "[encoded data removed]",
      "text/plain": [
       "<Figure size 432x288 with 1 Axes>"
      ]
     },
     "metadata": {
      "needs_background": "light"
     },
     "output_type": "display_data"
    }
   ],
   "source": [
    "df_pivot_diff.sort_values(\"stamp_2\", ascending = False)[\"stamp_2\"].head(10).plot.barh()"
   ]
  },
  {
   "cell_type": "code",
   "execution_count": null,
   "id": "extra-executive",
   "metadata": {
    "papermill": {
     "duration": 0.01148,
     "end_time": "2021-08-09T21:00:06.585780",
     "exception": false,
     "start_time": "2021-08-09T21:00:06.574300",
     "status": "completed"
    },
    "tags": []
   },
   "outputs": [],
   "source": []
  }
 ],
 "metadata": {
  "kernelspec": {
   "display_name": "Python 3",
   "language": "python",
   "name": "python3"
  },
  "language_info": {
   "codemirror_mode": {
    "name": "ipython",
    "version": 3
   },
   "file_extension": ".py",
   "mimetype": "text/x-python",
   "name": "python",
   "nbconvert_exporter": "python",
   "pygments_lexer": "ipython3",
   "version": "3.8.8"
  },
  "papermill": {
   "default_parameters": {},
   "duration": 4.644758,
   "end_time": "2021-08-09T21:00:07.338465",
   "environment_variables": {},
   "exception": null,
   "input_path": "/Users/saravananshanmugam/Carbonleakage_Git/UsedObjects/eBay_Overview.ipynb",
   "output_path": "/Users/saravananshanmugam/Carbonleakage_Git/UsedObjects/eBay_Overview.ipynb",
   "parameters": {},
   "start_time": "2021-08-09T21:00:02.693707",
   "version": "2.3.3"
  }
 },
 "nbformat": 4,
 "nbformat_minor": 5
}