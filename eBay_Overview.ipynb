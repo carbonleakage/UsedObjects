{
 "cells": [
  {
   "cell_type": "code",
   "execution_count": 1,
   "id": "reverse-picking",
   "metadata": {
    "execution": {
     "iopub.execute_input": "2021-08-14T03:00:06.595756Z",
     "iopub.status.busy": "2021-08-14T03:00:06.593755Z",
     "iopub.status.idle": "2021-08-14T03:00:07.404426Z",
     "shell.execute_reply": "2021-08-14T03:00:07.405667Z"
    },
    "papermill": {
     "duration": 0.863061,
     "end_time": "2021-08-14T03:00:07.406543",
     "exception": false,
     "start_time": "2021-08-14T03:00:06.543482",
     "status": "completed"
    },
    "tags": []
   },
   "outputs": [],
   "source": [
    "import pandas as pd\n",
    "import sqlite3"
   ]
  },
  {
   "cell_type": "code",
   "execution_count": 2,
   "id": "innovative-syndrome",
   "metadata": {
    "execution": {
     "iopub.execute_input": "2021-08-14T03:00:07.457953Z",
     "iopub.status.busy": "2021-08-14T03:00:07.455574Z",
     "iopub.status.idle": "2021-08-14T03:00:07.502393Z",
     "shell.execute_reply": "2021-08-14T03:00:07.503766Z"
    },
    "papermill": {
     "duration": 0.076904,
     "end_time": "2021-08-14T03:00:07.504202",
     "exception": false,
     "start_time": "2021-08-14T03:00:07.427298",
     "status": "completed"
    },
    "tags": []
   },
   "outputs": [],
   "source": [
    "timestamps = pd.read_sql(\"select distinct record_time from EBAY_TOP_BERLIN order by record_time desc limit 2\", sqlite3.connect(\"UsedObjects.db\"))"
   ]
  },
  {
   "cell_type": "code",
   "execution_count": 3,
   "id": "periodic-identification",
   "metadata": {
    "execution": {
     "iopub.execute_input": "2021-08-14T03:00:07.569758Z",
     "iopub.status.busy": "2021-08-14T03:00:07.567735Z",
     "iopub.status.idle": "2021-08-14T03:00:07.587604Z",
     "shell.execute_reply": "2021-08-14T03:00:07.588876Z"
    },
    "papermill": {
     "duration": 0.065692,
     "end_time": "2021-08-14T03:00:07.589281",
     "exception": false,
     "start_time": "2021-08-14T03:00:07.523589",
     "status": "completed"
    },
    "tags": []
   },
   "outputs": [
    {
     "data": {
      "text/html": [
       "<div>\n",
       "<style scoped>\n",
       "    .dataframe tbody tr th:only-of-type {\n",
       "        vertical-align: middle;\n",
       "    }\n",
       "\n",
       "    .dataframe tbody tr th {\n",
       "        vertical-align: top;\n",
       "    }\n",
       "\n",
       "    .dataframe thead th {\n",
       "        text-align: right;\n",
       "    }\n",
       "</style>\n",
       "<table border=\"1\" class=\"dataframe\">\n",
       "  <thead>\n",
       "    <tr style=\"text-align: right;\">\n",
       "      <th></th>\n",
       "      <th>RECORD_TIME</th>\n",
       "    </tr>\n",
       "  </thead>\n",
       "  <tbody>\n",
       "    <tr>\n",
       "      <th>0</th>\n",
       "      <td>2021-08-14 05:00</td>\n",
       "    </tr>\n",
       "    <tr>\n",
       "      <th>1</th>\n",
       "      <td>2021-08-14 04:30</td>\n",
       "    </tr>\n",
       "  </tbody>\n",
       "</table>\n",
       "</div>"
      ],
      "text/plain": [
       "        RECORD_TIME\n",
       "0  2021-08-14 05:00\n",
       "1  2021-08-14 04:30"
      ]
     },
     "execution_count": 3,
     "metadata": {},
     "output_type": "execute_result"
    }
   ],
   "source": [
    "timestamps"
   ]
  },
  {
   "cell_type": "code",
   "execution_count": 4,
   "id": "alternate-victory",
   "metadata": {
    "execution": {
     "iopub.execute_input": "2021-08-14T03:00:07.641275Z",
     "iopub.status.busy": "2021-08-14T03:00:07.639404Z",
     "iopub.status.idle": "2021-08-14T03:00:07.705385Z",
     "shell.execute_reply": "2021-08-14T03:00:07.706750Z"
    },
    "papermill": {
     "duration": 0.096046,
     "end_time": "2021-08-14T03:00:07.707176",
     "exception": false,
     "start_time": "2021-08-14T03:00:07.611130",
     "status": "completed"
    },
    "tags": []
   },
   "outputs": [],
   "source": [
    "df = pd.read_sql(\"select * from EBAY_TOP_BERLIN where record_time in (select distinct record_time from EBAY_TOP_BERLIN order by record_time desc limit 2)\", sqlite3.connect(\"UsedObjects.db\"))"
   ]
  },
  {
   "cell_type": "code",
   "execution_count": 5,
   "id": "popular-active",
   "metadata": {
    "execution": {
     "iopub.execute_input": "2021-08-14T03:00:07.777481Z",
     "iopub.status.busy": "2021-08-14T03:00:07.763529Z",
     "iopub.status.idle": "2021-08-14T03:00:07.795458Z",
     "shell.execute_reply": "2021-08-14T03:00:07.796819Z"
    },
    "papermill": {
     "duration": 0.070115,
     "end_time": "2021-08-14T03:00:07.797249",
     "exception": false,
     "start_time": "2021-08-14T03:00:07.727134",
     "status": "completed"
    },
    "tags": []
   },
   "outputs": [],
   "source": [
    "df_pivot = df.pivot_table(index=\"PRODUCT\", columns = \"RECORD_TIME\", values = \"LISTING_COUNT\")"
   ]
  },
  {
   "cell_type": "code",
   "execution_count": 6,
   "id": "union-huntington",
   "metadata": {
    "execution": {
     "iopub.execute_input": "2021-08-14T03:00:07.854562Z",
     "iopub.status.busy": "2021-08-14T03:00:07.852427Z",
     "iopub.status.idle": "2021-08-14T03:00:07.857917Z",
     "shell.execute_reply": "2021-08-14T03:00:07.859167Z"
    },
    "papermill": {
     "duration": 0.041278,
     "end_time": "2021-08-14T03:00:07.859599",
     "exception": false,
     "start_time": "2021-08-14T03:00:07.818321",
     "status": "completed"
    },
    "tags": []
   },
   "outputs": [],
   "source": [
    "df_pivot.columns = [\"stamp_1\", \"stamp_2\"]\n",
    "df_pivot_diff = df_pivot.diff(axis=1)"
   ]
  },
  {
   "cell_type": "code",
   "execution_count": 7,
   "id": "fifth-motion",
   "metadata": {
    "execution": {
     "iopub.execute_input": "2021-08-14T03:00:07.917359Z",
     "iopub.status.busy": "2021-08-14T03:00:07.914710Z",
     "iopub.status.idle": "2021-08-14T03:00:09.444532Z",
     "shell.execute_reply": "2021-08-14T03:00:09.445954Z"
    },
    "papermill": {
     "duration": 1.563812,
     "end_time": "2021-08-14T03:00:09.446430",
     "exception": false,
     "start_time": "2021-08-14T03:00:07.882618",
     "status": "completed"
    },
    "tags": []
   },
   "outputs": [
    {
     "data": {
      "text/plain": [
       "<AxesSubplot:ylabel='PRODUCT'>"
      ]
     },
     "execution_count": 7,
     "metadata": {},
     "output_type": "execute_result"
    },
    {
     "data": {
      "image/png": "[encoded data removed]",
      "text/plain": [
       "<Figure size 432x288 with 1 Axes>"
      ]
     },
     "metadata": {
      "needs_background": "light"
     },
     "output_type": "display_data"
    }
   ],
   "source": [
    "df_pivot_diff.sort_values(\"stamp_2\", ascending = False)[\"stamp_2\"].head(10).plot.barh()"
   ]
  },
  {
   "cell_type": "code",
   "execution_count": null,
   "id": "extra-executive",
   "metadata": {
    "papermill": {
     "duration": 0.022463,
     "end_time": "2021-08-14T03:00:09.494052",
     "exception": false,
     "start_time": "2021-08-14T03:00:09.471589",
     "status": "completed"
    },
    "tags": []
   },
   "outputs": [],
   "source": []
  }
 ],
 "metadata": {
  "kernelspec": {
   "display_name": "Python 3",
   "language": "python",
   "name": "python3"
  },
  "language_info": {
   "codemirror_mode": {
    "name": "ipython",
    "version": 3
   },
   "file_extension": ".py",
   "mimetype": "text/x-python",
   "name": "python",
   "nbconvert_exporter": "python",
   "pygments_lexer": "ipython3",
   "version": "3.9.5"
  },
  "papermill": {
   "default_parameters": {},
   "duration": 6.826907,
   "end_time": "2021-08-14T03:00:10.951387",
   "environment_variables": {},
   "exception": null,
   "input_path": "eBay_Overview.ipynb",
   "output_path": "eBay_Overview.ipynb",
   "parameters": {},
   "start_time": "2021-08-14T03:00:04.124480",
   "version": "2.3.3"
  }
 },
 "nbformat": 4,
 "nbformat_minor": 5
}