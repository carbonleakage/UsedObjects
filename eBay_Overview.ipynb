{
 "cells": [
  {
   "cell_type": "code",
   "execution_count": 1,
   "id": "reverse-picking",
   "metadata": {
    "execution": {
     "iopub.execute_input": "2021-11-30T11:00:07.508875Z",
     "iopub.status.busy": "2021-11-30T11:00:07.506575Z",
     "iopub.status.idle": "2021-11-30T11:00:08.447602Z",
     "shell.execute_reply": "2021-11-30T11:00:08.449308Z"
    },
    "papermill": {
     "duration": 0.991251,
     "end_time": "2021-11-30T11:00:08.450240",
     "exception": false,
     "start_time": "2021-11-30T11:00:07.458989",
     "status": "completed"
    },
    "tags": []
   },
   "outputs": [],
   "source": [
    "import pandas as pd\n",
    "import sqlite3"
   ]
  },
  {
   "cell_type": "code",
   "execution_count": 2,
   "id": "innovative-syndrome",
   "metadata": {
    "execution": {
     "iopub.execute_input": "2021-11-30T11:00:08.513651Z",
     "iopub.status.busy": "2021-11-30T11:00:08.511079Z",
     "iopub.status.idle": "2021-11-30T11:00:09.465366Z",
     "shell.execute_reply": "2021-11-30T11:00:09.468117Z"
    },
    "papermill": {
     "duration": 0.990029,
     "end_time": "2021-11-30T11:00:09.468734",
     "exception": false,
     "start_time": "2021-11-30T11:00:08.478705",
     "status": "completed"
    },
    "tags": []
   },
   "outputs": [],
   "source": [
    "timestamps = pd.read_sql(\"select distinct record_time from EBAY_TOP_BERLIN order by record_time desc limit 2\", sqlite3.connect(\"UsedObjects.db\"))"
   ]
  },
  {
   "cell_type": "code",
   "execution_count": 3,
   "id": "periodic-identification",
   "metadata": {
    "execution": {
     "iopub.execute_input": "2021-11-30T11:00:09.538644Z",
     "iopub.status.busy": "2021-11-30T11:00:09.533365Z",
     "iopub.status.idle": "2021-11-30T11:00:09.554824Z",
     "shell.execute_reply": "2021-11-30T11:00:09.556298Z"
    },
    "papermill": {
     "duration": 0.066726,
     "end_time": "2021-11-30T11:00:09.556962",
     "exception": false,
     "start_time": "2021-11-30T11:00:09.490236",
     "status": "completed"
    },
    "tags": []
   },
   "outputs": [
    {
     "data": {
      "text/html": [
       "<div>\n",
       "<style scoped>\n",
       "    .dataframe tbody tr th:only-of-type {\n",
       "        vertical-align: middle;\n",
       "    }\n",
       "\n",
       "    .dataframe tbody tr th {\n",
       "        vertical-align: top;\n",
       "    }\n",
       "\n",
       "    .dataframe thead th {\n",
       "        text-align: right;\n",
       "    }\n",
       "</style>\n",
       "<table border=\"1\" class=\"dataframe\">\n",
       "  <thead>\n",
       "    <tr style=\"text-align: right;\">\n",
       "      <th></th>\n",
       "      <th>RECORD_TIME</th>\n",
       "    </tr>\n",
       "  </thead>\n",
       "  <tbody>\n",
       "    <tr>\n",
       "      <th>0</th>\n",
       "      <td>2021-11-30 12:00</td>\n",
       "    </tr>\n",
       "    <tr>\n",
       "      <th>1</th>\n",
       "      <td>2021-11-30 11:30</td>\n",
       "    </tr>\n",
       "  </tbody>\n",
       "</table>\n",
       "</div>"
      ],
      "text/plain": [
       "        RECORD_TIME\n",
       "0  2021-11-30 12:00\n",
       "1  2021-11-30 11:30"
      ]
     },
     "execution_count": 3,
     "metadata": {},
     "output_type": "execute_result"
    }
   ],
   "source": [
    "timestamps"
   ]
  },
  {
   "cell_type": "code",
   "execution_count": 4,
   "id": "alternate-victory",
   "metadata": {
    "execution": {
     "iopub.execute_input": "2021-11-30T11:00:09.609266Z",
     "iopub.status.busy": "2021-11-30T11:00:09.606919Z",
     "iopub.status.idle": "2021-11-30T11:00:10.989292Z",
     "shell.execute_reply": "2021-11-30T11:00:10.990571Z"
    },
    "papermill": {
     "duration": 1.412696,
     "end_time": "2021-11-30T11:00:10.990974",
     "exception": false,
     "start_time": "2021-11-30T11:00:09.578278",
     "status": "completed"
    },
    "tags": []
   },
   "outputs": [],
   "source": [
    "df = pd.read_sql(\"select * from EBAY_TOP_BERLIN where record_time in (select distinct record_time from EBAY_TOP_BERLIN order by record_time desc limit 2)\", sqlite3.connect(\"UsedObjects.db\"))"
   ]
  },
  {
   "cell_type": "code",
   "execution_count": 5,
   "id": "popular-active",
   "metadata": {
    "execution": {
     "iopub.execute_input": "2021-11-30T11:00:11.072165Z",
     "iopub.status.busy": "2021-11-30T11:00:11.059232Z",
     "iopub.status.idle": "2021-11-30T11:00:11.100256Z",
     "shell.execute_reply": "2021-11-30T11:00:11.102185Z"
    },
    "papermill": {
     "duration": 0.087072,
     "end_time": "2021-11-30T11:00:11.102857",
     "exception": false,
     "start_time": "2021-11-30T11:00:11.015785",
     "status": "completed"
    },
    "tags": []
   },
   "outputs": [],
   "source": [
    "df_pivot = df.pivot_table(index=\"PRODUCT\", columns = \"RECORD_TIME\", values = \"LISTING_COUNT\")"
   ]
  },
  {
   "cell_type": "code",
   "execution_count": 6,
   "id": "union-huntington",
   "metadata": {
    "execution": {
     "iopub.execute_input": "2021-11-30T11:00:11.165384Z",
     "iopub.status.busy": "2021-11-30T11:00:11.163143Z",
     "iopub.status.idle": "2021-11-30T11:00:11.169242Z",
     "shell.execute_reply": "2021-11-30T11:00:11.170720Z"
    },
    "papermill": {
     "duration": 0.044613,
     "end_time": "2021-11-30T11:00:11.171181",
     "exception": false,
     "start_time": "2021-11-30T11:00:11.126568",
     "status": "completed"
    },
    "tags": []
   },
   "outputs": [],
   "source": [
    "df_pivot.columns = [\"stamp_1\", \"stamp_2\"]\n",
    "df_pivot_diff = df_pivot.diff(axis=1)"
   ]
  },
  {
   "cell_type": "code",
   "execution_count": 7,
   "id": "fifth-motion",
   "metadata": {
    "execution": {
     "iopub.execute_input": "2021-11-30T11:00:11.226650Z",
     "iopub.status.busy": "2021-11-30T11:00:11.224166Z",
     "iopub.status.idle": "2021-11-30T11:00:13.134298Z",
     "shell.execute_reply": "2021-11-30T11:00:13.137130Z"
    },
    "papermill": {
     "duration": 1.946973,
     "end_time": "2021-11-30T11:00:13.137932",
     "exception": false,
     "start_time": "2021-11-30T11:00:11.190959",
     "status": "completed"
    },
    "tags": []
   },
   "outputs": [
    {
     "data": {
      "text/plain": [
       "<AxesSubplot:ylabel='PRODUCT'>"
      ]
     },
     "execution_count": 7,
     "metadata": {},
     "output_type": "execute_result"
    },
    {
     "data": {
      "image/png": "[encoded data removed]",
      "text/plain": [
       "<Figure size 432x288 with 1 Axes>"
      ]
     },
     "metadata": {
      "needs_background": "light"
     },
     "output_type": "display_data"
    }
   ],
   "source": [
    "df_pivot_diff.sort_values(\"stamp_2\", ascending = False)[\"stamp_2\"].head(10).plot.barh()"
   ]
  },
  {
   "cell_type": "code",
   "execution_count": null,
   "id": "extra-executive",
   "metadata": {
    "papermill": {
     "duration": 0.028957,
     "end_time": "2021-11-30T11:00:13.203532",
     "exception": false,
     "start_time": "2021-11-30T11:00:13.174575",
     "status": "completed"
    },
    "tags": []
   },
   "outputs": [],
   "source": []
  }
 ],
 "metadata": {
  "kernelspec": {
   "display_name": "Python 3",
   "language": "python",
   "name": "python3"
  },
  "language_info": {
   "codemirror_mode": {
    "name": "ipython",
    "version": 3
   },
   "file_extension": ".py",
   "mimetype": "text/x-python",
   "name": "python",
   "nbconvert_exporter": "python",
   "pygments_lexer": "ipython3",
   "version": "3.9.5"
  },
  "papermill": {
   "default_parameters": {},
   "duration": 9.938066,
   "end_time": "2021-11-30T11:00:14.676043",
   "environment_variables": {},
   "exception": null,
   "input_path": "eBay_Overview.ipynb",
   "output_path": "eBay_Overview.ipynb",
   "parameters": {},
   "start_time": "2021-11-30T11:00:04.737977",
   "version": "2.3.3"
  }
 },
 "nbformat": 4,
 "nbformat_minor": 5
}