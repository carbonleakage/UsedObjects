{
 "cells": [
  {
   "cell_type": "code",
   "execution_count": 1,
   "id": "reverse-picking",
   "metadata": {
    "execution": {
     "iopub.execute_input": "2021-09-07T22:00:06.508659Z",
     "iopub.status.busy": "2021-09-07T22:00:06.506636Z",
     "iopub.status.idle": "2021-09-07T22:00:07.320399Z",
     "shell.execute_reply": "2021-09-07T22:00:07.318612Z"
    },
    "papermill": {
     "duration": 0.865619,
     "end_time": "2021-09-07T22:00:07.320971",
     "exception": false,
     "start_time": "2021-09-07T22:00:06.455352",
     "status": "completed"
    },
    "tags": []
   },
   "outputs": [],
   "source": [
    "import pandas as pd\n",
    "import sqlite3"
   ]
  },
  {
   "cell_type": "code",
   "execution_count": 2,
   "id": "innovative-syndrome",
   "metadata": {
    "execution": {
     "iopub.execute_input": "2021-09-07T22:00:07.373820Z",
     "iopub.status.busy": "2021-09-07T22:00:07.371520Z",
     "iopub.status.idle": "2021-09-07T22:00:07.608183Z",
     "shell.execute_reply": "2021-09-07T22:00:07.609412Z"
    },
    "papermill": {
     "duration": 0.267316,
     "end_time": "2021-09-07T22:00:07.609848",
     "exception": false,
     "start_time": "2021-09-07T22:00:07.342532",
     "status": "completed"
    },
    "tags": []
   },
   "outputs": [],
   "source": [
    "timestamps = pd.read_sql(\"select distinct record_time from EBAY_TOP_BERLIN order by record_time desc limit 2\", sqlite3.connect(\"UsedObjects.db\"))"
   ]
  },
  {
   "cell_type": "code",
   "execution_count": 3,
   "id": "periodic-identification",
   "metadata": {
    "execution": {
     "iopub.execute_input": "2021-09-07T22:00:07.677373Z",
     "iopub.status.busy": "2021-09-07T22:00:07.675319Z",
     "iopub.status.idle": "2021-09-07T22:00:07.695599Z",
     "shell.execute_reply": "2021-09-07T22:00:07.696960Z"
    },
    "papermill": {
     "duration": 0.06827,
     "end_time": "2021-09-07T22:00:07.697376",
     "exception": false,
     "start_time": "2021-09-07T22:00:07.629106",
     "status": "completed"
    },
    "tags": []
   },
   "outputs": [
    {
     "data": {
      "text/html": [
       "<div>\n",
       "<style scoped>\n",
       "    .dataframe tbody tr th:only-of-type {\n",
       "        vertical-align: middle;\n",
       "    }\n",
       "\n",
       "    .dataframe tbody tr th {\n",
       "        vertical-align: top;\n",
       "    }\n",
       "\n",
       "    .dataframe thead th {\n",
       "        text-align: right;\n",
       "    }\n",
       "</style>\n",
       "<table border=\"1\" class=\"dataframe\">\n",
       "  <thead>\n",
       "    <tr style=\"text-align: right;\">\n",
       "      <th></th>\n",
       "      <th>RECORD_TIME</th>\n",
       "    </tr>\n",
       "  </thead>\n",
       "  <tbody>\n",
       "    <tr>\n",
       "      <th>0</th>\n",
       "      <td>2021-09-08 00:00</td>\n",
       "    </tr>\n",
       "    <tr>\n",
       "      <th>1</th>\n",
       "      <td>2021-09-07 23:30</td>\n",
       "    </tr>\n",
       "  </tbody>\n",
       "</table>\n",
       "</div>"
      ],
      "text/plain": [
       "        RECORD_TIME\n",
       "0  2021-09-08 00:00\n",
       "1  2021-09-07 23:30"
      ]
     },
     "execution_count": 3,
     "metadata": {},
     "output_type": "execute_result"
    }
   ],
   "source": [
    "timestamps"
   ]
  },
  {
   "cell_type": "code",
   "execution_count": 4,
   "id": "alternate-victory",
   "metadata": {
    "execution": {
     "iopub.execute_input": "2021-09-07T22:00:07.749973Z",
     "iopub.status.busy": "2021-09-07T22:00:07.747709Z",
     "iopub.status.idle": "2021-09-07T22:00:08.097712Z",
     "shell.execute_reply": "2021-09-07T22:00:08.099052Z"
    },
    "papermill": {
     "duration": 0.38076,
     "end_time": "2021-09-07T22:00:08.099529",
     "exception": false,
     "start_time": "2021-09-07T22:00:07.718769",
     "status": "completed"
    },
    "tags": []
   },
   "outputs": [],
   "source": [
    "df = pd.read_sql(\"select * from EBAY_TOP_BERLIN where record_time in (select distinct record_time from EBAY_TOP_BERLIN order by record_time desc limit 2)\", sqlite3.connect(\"UsedObjects.db\"))"
   ]
  },
  {
   "cell_type": "code",
   "execution_count": 5,
   "id": "popular-active",
   "metadata": {
    "execution": {
     "iopub.execute_input": "2021-09-07T22:00:08.200986Z",
     "iopub.status.busy": "2021-09-07T22:00:08.188630Z",
     "iopub.status.idle": "2021-09-07T22:00:08.216718Z",
     "shell.execute_reply": "2021-09-07T22:00:08.217935Z"
    },
    "papermill": {
     "duration": 0.076295,
     "end_time": "2021-09-07T22:00:08.218323",
     "exception": false,
     "start_time": "2021-09-07T22:00:08.142028",
     "status": "completed"
    },
    "tags": []
   },
   "outputs": [],
   "source": [
    "df_pivot = df.pivot_table(index=\"PRODUCT\", columns = \"RECORD_TIME\", values = \"LISTING_COUNT\")"
   ]
  },
  {
   "cell_type": "code",
   "execution_count": 6,
   "id": "union-huntington",
   "metadata": {
    "execution": {
     "iopub.execute_input": "2021-09-07T22:00:08.274796Z",
     "iopub.status.busy": "2021-09-07T22:00:08.272753Z",
     "iopub.status.idle": "2021-09-07T22:00:08.278096Z",
     "shell.execute_reply": "2021-09-07T22:00:08.279612Z"
    },
    "papermill": {
     "duration": 0.04088,
     "end_time": "2021-09-07T22:00:08.280047",
     "exception": false,
     "start_time": "2021-09-07T22:00:08.239167",
     "status": "completed"
    },
    "tags": []
   },
   "outputs": [],
   "source": [
    "df_pivot.columns = [\"stamp_1\", \"stamp_2\"]\n",
    "df_pivot_diff = df_pivot.diff(axis=1)"
   ]
  },
  {
   "cell_type": "code",
   "execution_count": 7,
   "id": "fifth-motion",
   "metadata": {
    "execution": {
     "iopub.execute_input": "2021-09-07T22:00:08.335921Z",
     "iopub.status.busy": "2021-09-07T22:00:08.333177Z",
     "iopub.status.idle": "2021-09-07T22:00:09.833249Z",
     "shell.execute_reply": "2021-09-07T22:00:09.834535Z"
    },
    "papermill": {
     "duration": 1.533993,
     "end_time": "2021-09-07T22:00:09.835149",
     "exception": false,
     "start_time": "2021-09-07T22:00:08.301156",
     "status": "completed"
    },
    "tags": []
   },
   "outputs": [
    {
     "data": {
      "text/plain": [
       "<AxesSubplot:ylabel='PRODUCT'>"
      ]
     },
     "execution_count": 7,
     "metadata": {},
     "output_type": "execute_result"
    },
    {
     "data": {
      "image/png": "[encoded data removed]",
      "text/plain": [
       "<Figure size 432x288 with 1 Axes>"
      ]
     },
     "metadata": {
      "needs_background": "light"
     },
     "output_type": "display_data"
    }
   ],
   "source": [
    "df_pivot_diff.sort_values(\"stamp_2\", ascending = False)[\"stamp_2\"].head(10).plot.barh()"
   ]
  },
  {
   "cell_type": "code",
   "execution_count": null,
   "id": "extra-executive",
   "metadata": {
    "papermill": {
     "duration": 0.022281,
     "end_time": "2021-09-07T22:00:09.883760",
     "exception": false,
     "start_time": "2021-09-07T22:00:09.861479",
     "status": "completed"
    },
    "tags": []
   },
   "outputs": [],
   "source": []
  }
 ],
 "metadata": {
  "kernelspec": {
   "display_name": "Python 3",
   "language": "python",
   "name": "python3"
  },
  "language_info": {
   "codemirror_mode": {
    "name": "ipython",
    "version": 3
   },
   "file_extension": ".py",
   "mimetype": "text/x-python",
   "name": "python",
   "nbconvert_exporter": "python",
   "pygments_lexer": "ipython3",
   "version": "3.9.5"
  },
  "papermill": {
   "default_parameters": {},
   "duration": 6.490914,
   "end_time": "2021-09-07T22:00:10.524617",
   "environment_variables": {},
   "exception": null,
   "input_path": "eBay_Overview.ipynb",
   "output_path": "eBay_Overview.ipynb",
   "parameters": {},
   "start_time": "2021-09-07T22:00:04.033703",
   "version": "2.3.3"
  }
 },
 "nbformat": 4,
 "nbformat_minor": 5
}