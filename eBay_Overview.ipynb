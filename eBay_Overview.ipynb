{
 "cells": [
  {
   "cell_type": "code",
   "execution_count": 1,
   "id": "reverse-picking",
   "metadata": {
    "execution": {
     "iopub.execute_input": "2021-10-25T05:30:07.390824Z",
     "iopub.status.busy": "2021-10-25T05:30:07.388846Z",
     "iopub.status.idle": "2021-10-25T05:30:08.201755Z",
     "shell.execute_reply": "2021-10-25T05:30:08.203191Z"
    },
    "papermill": {
     "duration": 0.865778,
     "end_time": "2021-10-25T05:30:08.203876",
     "exception": false,
     "start_time": "2021-10-25T05:30:07.338098",
     "status": "completed"
    },
    "tags": []
   },
   "outputs": [],
   "source": [
    "import pandas as pd\n",
    "import sqlite3"
   ]
  },
  {
   "cell_type": "code",
   "execution_count": 2,
   "id": "innovative-syndrome",
   "metadata": {
    "execution": {
     "iopub.execute_input": "2021-10-25T05:30:08.255350Z",
     "iopub.status.busy": "2021-10-25T05:30:08.252988Z",
     "iopub.status.idle": "2021-10-25T05:30:08.890579Z",
     "shell.execute_reply": "2021-10-25T05:30:08.891785Z"
    },
    "papermill": {
     "duration": 0.667847,
     "end_time": "2021-10-25T05:30:08.892184",
     "exception": false,
     "start_time": "2021-10-25T05:30:08.224337",
     "status": "completed"
    },
    "tags": []
   },
   "outputs": [],
   "source": [
    "timestamps = pd.read_sql(\"select distinct record_time from EBAY_TOP_BERLIN order by record_time desc limit 2\", sqlite3.connect(\"UsedObjects.db\"))"
   ]
  },
  {
   "cell_type": "code",
   "execution_count": 3,
   "id": "periodic-identification",
   "metadata": {
    "execution": {
     "iopub.execute_input": "2021-10-25T05:30:08.968150Z",
     "iopub.status.busy": "2021-10-25T05:30:08.966128Z",
     "iopub.status.idle": "2021-10-25T05:30:08.986741Z",
     "shell.execute_reply": "2021-10-25T05:30:08.987942Z"
    },
    "papermill": {
     "duration": 0.06969,
     "end_time": "2021-10-25T05:30:08.988339",
     "exception": false,
     "start_time": "2021-10-25T05:30:08.918649",
     "status": "completed"
    },
    "tags": []
   },
   "outputs": [
    {
     "data": {
      "text/html": [
       "<div>\n",
       "<style scoped>\n",
       "    .dataframe tbody tr th:only-of-type {\n",
       "        vertical-align: middle;\n",
       "    }\n",
       "\n",
       "    .dataframe tbody tr th {\n",
       "        vertical-align: top;\n",
       "    }\n",
       "\n",
       "    .dataframe thead th {\n",
       "        text-align: right;\n",
       "    }\n",
       "</style>\n",
       "<table border=\"1\" class=\"dataframe\">\n",
       "  <thead>\n",
       "    <tr style=\"text-align: right;\">\n",
       "      <th></th>\n",
       "      <th>RECORD_TIME</th>\n",
       "    </tr>\n",
       "  </thead>\n",
       "  <tbody>\n",
       "    <tr>\n",
       "      <th>0</th>\n",
       "      <td>2021-10-25 07:30</td>\n",
       "    </tr>\n",
       "    <tr>\n",
       "      <th>1</th>\n",
       "      <td>2021-10-25 07:00</td>\n",
       "    </tr>\n",
       "  </tbody>\n",
       "</table>\n",
       "</div>"
      ],
      "text/plain": [
       "        RECORD_TIME\n",
       "0  2021-10-25 07:30\n",
       "1  2021-10-25 07:00"
      ]
     },
     "execution_count": 3,
     "metadata": {},
     "output_type": "execute_result"
    }
   ],
   "source": [
    "timestamps"
   ]
  },
  {
   "cell_type": "code",
   "execution_count": 4,
   "id": "alternate-victory",
   "metadata": {
    "execution": {
     "iopub.execute_input": "2021-10-25T05:30:09.041955Z",
     "iopub.status.busy": "2021-10-25T05:30:09.039593Z",
     "iopub.status.idle": "2021-10-25T05:30:09.957713Z",
     "shell.execute_reply": "2021-10-25T05:30:09.958996Z"
    },
    "papermill": {
     "duration": 0.948456,
     "end_time": "2021-10-25T05:30:09.959396",
     "exception": false,
     "start_time": "2021-10-25T05:30:09.010940",
     "status": "completed"
    },
    "tags": []
   },
   "outputs": [],
   "source": [
    "df = pd.read_sql(\"select * from EBAY_TOP_BERLIN where record_time in (select distinct record_time from EBAY_TOP_BERLIN order by record_time desc limit 2)\", sqlite3.connect(\"UsedObjects.db\"))"
   ]
  },
  {
   "cell_type": "code",
   "execution_count": 5,
   "id": "popular-active",
   "metadata": {
    "execution": {
     "iopub.execute_input": "2021-10-25T05:30:10.029342Z",
     "iopub.status.busy": "2021-10-25T05:30:10.019136Z",
     "iopub.status.idle": "2021-10-25T05:30:10.045905Z",
     "shell.execute_reply": "2021-10-25T05:30:10.047133Z"
    },
    "papermill": {
     "duration": 0.067588,
     "end_time": "2021-10-25T05:30:10.047533",
     "exception": false,
     "start_time": "2021-10-25T05:30:09.979945",
     "status": "completed"
    },
    "tags": []
   },
   "outputs": [],
   "source": [
    "df_pivot = df.pivot_table(index=\"PRODUCT\", columns = \"RECORD_TIME\", values = \"LISTING_COUNT\")"
   ]
  },
  {
   "cell_type": "code",
   "execution_count": 6,
   "id": "union-huntington",
   "metadata": {
    "execution": {
     "iopub.execute_input": "2021-10-25T05:30:10.104856Z",
     "iopub.status.busy": "2021-10-25T05:30:10.102730Z",
     "iopub.status.idle": "2021-10-25T05:30:10.107906Z",
     "shell.execute_reply": "2021-10-25T05:30:10.109407Z"
    },
    "papermill": {
     "duration": 0.040565,
     "end_time": "2021-10-25T05:30:10.109844",
     "exception": false,
     "start_time": "2021-10-25T05:30:10.069279",
     "status": "completed"
    },
    "tags": []
   },
   "outputs": [],
   "source": [
    "df_pivot.columns = [\"stamp_1\", \"stamp_2\"]\n",
    "df_pivot_diff = df_pivot.diff(axis=1)"
   ]
  },
  {
   "cell_type": "code",
   "execution_count": 7,
   "id": "fifth-motion",
   "metadata": {
    "execution": {
     "iopub.execute_input": "2021-10-25T05:30:10.165373Z",
     "iopub.status.busy": "2021-10-25T05:30:10.162649Z",
     "iopub.status.idle": "2021-10-25T05:30:11.658384Z",
     "shell.execute_reply": "2021-10-25T05:30:11.659680Z"
    },
    "papermill": {
     "duration": 1.529158,
     "end_time": "2021-10-25T05:30:11.660102",
     "exception": false,
     "start_time": "2021-10-25T05:30:10.130944",
     "status": "completed"
    },
    "tags": []
   },
   "outputs": [
    {
     "data": {
      "text/plain": [
       "<AxesSubplot:ylabel='PRODUCT'>"
      ]
     },
     "execution_count": 7,
     "metadata": {},
     "output_type": "execute_result"
    },
    {
     "data": {
      "image/png": "[encoded data removed]",
      "text/plain": [
       "<Figure size 432x288 with 1 Axes>"
      ]
     },
     "metadata": {
      "needs_background": "light"
     },
     "output_type": "display_data"
    }
   ],
   "source": [
    "df_pivot_diff.sort_values(\"stamp_2\", ascending = False)[\"stamp_2\"].head(10).plot.barh()"
   ]
  },
  {
   "cell_type": "code",
   "execution_count": null,
   "id": "extra-executive",
   "metadata": {
    "papermill": {
     "duration": 0.022084,
     "end_time": "2021-10-25T05:30:11.707144",
     "exception": false,
     "start_time": "2021-10-25T05:30:11.685060",
     "status": "completed"
    },
    "tags": []
   },
   "outputs": [],
   "source": []
  }
 ],
 "metadata": {
  "kernelspec": {
   "display_name": "Python 3",
   "language": "python",
   "name": "python3"
  },
  "language_info": {
   "codemirror_mode": {
    "name": "ipython",
    "version": 3
   },
   "file_extension": ".py",
   "mimetype": "text/x-python",
   "name": "python",
   "nbconvert_exporter": "python",
   "pygments_lexer": "ipython3",
   "version": "3.9.5"
  },
  "papermill": {
   "default_parameters": {},
   "duration": 7.438817,
   "end_time": "2021-10-25T05:30:12.348321",
   "environment_variables": {},
   "exception": null,
   "input_path": "eBay_Overview.ipynb",
   "output_path": "eBay_Overview.ipynb",
   "parameters": {},
   "start_time": "2021-10-25T05:30:04.909504",
   "version": "2.3.3"
  }
 },
 "nbformat": 4,
 "nbformat_minor": 5
}