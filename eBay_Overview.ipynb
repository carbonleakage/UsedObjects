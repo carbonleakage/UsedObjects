{
 "cells": [
  {
   "cell_type": "code",
   "execution_count": 1,
   "id": "reverse-picking",
   "metadata": {
    "execution": {
     "iopub.execute_input": "2021-12-08T08:30:08.201705Z",
     "iopub.status.busy": "2021-12-08T08:30:08.198324Z",
     "iopub.status.idle": "2021-12-08T08:30:09.136143Z",
     "shell.execute_reply": "2021-12-08T08:30:09.137478Z"
    },
    "papermill": {
     "duration": 0.996127,
     "end_time": "2021-12-08T08:30:09.138109",
     "exception": false,
     "start_time": "2021-12-08T08:30:08.141982",
     "status": "completed"
    },
    "tags": []
   },
   "outputs": [],
   "source": [
    "import pandas as pd\n",
    "import sqlite3"
   ]
  },
  {
   "cell_type": "code",
   "execution_count": 2,
   "id": "innovative-syndrome",
   "metadata": {
    "execution": {
     "iopub.execute_input": "2021-12-08T08:30:09.199381Z",
     "iopub.status.busy": "2021-12-08T08:30:09.197510Z",
     "iopub.status.idle": "2021-12-08T08:30:10.227364Z",
     "shell.execute_reply": "2021-12-08T08:30:10.229128Z"
    },
    "papermill": {
     "duration": 1.063356,
     "end_time": "2021-12-08T08:30:10.229619",
     "exception": false,
     "start_time": "2021-12-08T08:30:09.166263",
     "status": "completed"
    },
    "tags": []
   },
   "outputs": [],
   "source": [
    "timestamps = pd.read_sql(\"select distinct record_time from EBAY_TOP_BERLIN order by record_time desc limit 2\", sqlite3.connect(\"UsedObjects.db\"))"
   ]
  },
  {
   "cell_type": "code",
   "execution_count": 3,
   "id": "periodic-identification",
   "metadata": {
    "execution": {
     "iopub.execute_input": "2021-12-08T08:30:10.304975Z",
     "iopub.status.busy": "2021-12-08T08:30:10.298752Z",
     "iopub.status.idle": "2021-12-08T08:30:10.323236Z",
     "shell.execute_reply": "2021-12-08T08:30:10.321693Z"
    },
    "papermill": {
     "duration": 0.072734,
     "end_time": "2021-12-08T08:30:10.323656",
     "exception": false,
     "start_time": "2021-12-08T08:30:10.250922",
     "status": "completed"
    },
    "tags": []
   },
   "outputs": [
    {
     "data": {
      "text/html": [
       "<div>\n",
       "<style scoped>\n",
       "    .dataframe tbody tr th:only-of-type {\n",
       "        vertical-align: middle;\n",
       "    }\n",
       "\n",
       "    .dataframe tbody tr th {\n",
       "        vertical-align: top;\n",
       "    }\n",
       "\n",
       "    .dataframe thead th {\n",
       "        text-align: right;\n",
       "    }\n",
       "</style>\n",
       "<table border=\"1\" class=\"dataframe\">\n",
       "  <thead>\n",
       "    <tr style=\"text-align: right;\">\n",
       "      <th></th>\n",
       "      <th>RECORD_TIME</th>\n",
       "    </tr>\n",
       "  </thead>\n",
       "  <tbody>\n",
       "    <tr>\n",
       "      <th>0</th>\n",
       "      <td>2021-12-08 09:30</td>\n",
       "    </tr>\n",
       "    <tr>\n",
       "      <th>1</th>\n",
       "      <td>2021-12-08 09:00</td>\n",
       "    </tr>\n",
       "  </tbody>\n",
       "</table>\n",
       "</div>"
      ],
      "text/plain": [
       "        RECORD_TIME\n",
       "0  2021-12-08 09:30\n",
       "1  2021-12-08 09:00"
      ]
     },
     "execution_count": 3,
     "metadata": {},
     "output_type": "execute_result"
    }
   ],
   "source": [
    "timestamps"
   ]
  },
  {
   "cell_type": "code",
   "execution_count": 4,
   "id": "alternate-victory",
   "metadata": {
    "execution": {
     "iopub.execute_input": "2021-12-08T08:30:10.378026Z",
     "iopub.status.busy": "2021-12-08T08:30:10.375912Z",
     "iopub.status.idle": "2021-12-08T08:30:11.911026Z",
     "shell.execute_reply": "2021-12-08T08:30:11.913281Z"
    },
    "papermill": {
     "duration": 1.569933,
     "end_time": "2021-12-08T08:30:11.913896",
     "exception": false,
     "start_time": "2021-12-08T08:30:10.343963",
     "status": "completed"
    },
    "tags": []
   },
   "outputs": [],
   "source": [
    "df = pd.read_sql(\"select * from EBAY_TOP_BERLIN where record_time in (select distinct record_time from EBAY_TOP_BERLIN order by record_time desc limit 2)\", sqlite3.connect(\"UsedObjects.db\"))"
   ]
  },
  {
   "cell_type": "code",
   "execution_count": 5,
   "id": "popular-active",
   "metadata": {
    "execution": {
     "iopub.execute_input": "2021-12-08T08:30:12.030378Z",
     "iopub.status.busy": "2021-12-08T08:30:12.002848Z",
     "iopub.status.idle": "2021-12-08T08:30:12.060528Z",
     "shell.execute_reply": "2021-12-08T08:30:12.063529Z"
    },
    "papermill": {
     "duration": 0.124604,
     "end_time": "2021-12-08T08:30:12.064628",
     "exception": false,
     "start_time": "2021-12-08T08:30:11.940024",
     "status": "completed"
    },
    "tags": []
   },
   "outputs": [],
   "source": [
    "df_pivot = df.pivot_table(index=\"PRODUCT\", columns = \"RECORD_TIME\", values = \"LISTING_COUNT\")"
   ]
  },
  {
   "cell_type": "code",
   "execution_count": 6,
   "id": "union-huntington",
   "metadata": {
    "execution": {
     "iopub.execute_input": "2021-12-08T08:30:12.139257Z",
     "iopub.status.busy": "2021-12-08T08:30:12.136469Z",
     "iopub.status.idle": "2021-12-08T08:30:12.148759Z",
     "shell.execute_reply": "2021-12-08T08:30:12.146602Z"
    },
    "papermill": {
     "duration": 0.056135,
     "end_time": "2021-12-08T08:30:12.149277",
     "exception": false,
     "start_time": "2021-12-08T08:30:12.093142",
     "status": "completed"
    },
    "tags": []
   },
   "outputs": [],
   "source": [
    "df_pivot.columns = [\"stamp_1\", \"stamp_2\"]\n",
    "df_pivot_diff = df_pivot.diff(axis=1)"
   ]
  },
  {
   "cell_type": "code",
   "execution_count": 7,
   "id": "fifth-motion",
   "metadata": {
    "execution": {
     "iopub.execute_input": "2021-12-08T08:30:12.205347Z",
     "iopub.status.busy": "2021-12-08T08:30:12.202578Z",
     "iopub.status.idle": "2021-12-08T08:30:13.933994Z",
     "shell.execute_reply": "2021-12-08T08:30:13.935280Z"
    },
    "papermill": {
     "duration": 1.765518,
     "end_time": "2021-12-08T08:30:13.935699",
     "exception": false,
     "start_time": "2021-12-08T08:30:12.170181",
     "status": "completed"
    },
    "tags": []
   },
   "outputs": [
    {
     "data": {
      "text/plain": [
       "<AxesSubplot:ylabel='PRODUCT'>"
      ]
     },
     "execution_count": 7,
     "metadata": {},
     "output_type": "execute_result"
    },
    {
     "data": {
      "image/png": "[encoded data removed]",
      "text/plain": [
       "<Figure size 432x288 with 1 Axes>"
      ]
     },
     "metadata": {
      "needs_background": "light"
     },
     "output_type": "display_data"
    }
   ],
   "source": [
    "df_pivot_diff.sort_values(\"stamp_2\", ascending = False)[\"stamp_2\"].head(10).plot.barh()"
   ]
  },
  {
   "cell_type": "code",
   "execution_count": null,
   "id": "extra-executive",
   "metadata": {
    "papermill": {
     "duration": 0.022087,
     "end_time": "2021-12-08T08:30:13.982525",
     "exception": false,
     "start_time": "2021-12-08T08:30:13.960438",
     "status": "completed"
    },
    "tags": []
   },
   "outputs": [],
   "source": []
  }
 ],
 "metadata": {
  "kernelspec": {
   "display_name": "Python 3",
   "language": "python",
   "name": "python3"
  },
  "language_info": {
   "codemirror_mode": {
    "name": "ipython",
    "version": 3
   },
   "file_extension": ".py",
   "mimetype": "text/x-python",
   "name": "python",
   "nbconvert_exporter": "python",
   "pygments_lexer": "ipython3",
   "version": "3.9.5"
  },
  "papermill": {
   "default_parameters": {},
   "duration": 9.948848,
   "end_time": "2021-12-08T08:30:15.361031",
   "environment_variables": {},
   "exception": null,
   "input_path": "eBay_Overview.ipynb",
   "output_path": "eBay_Overview.ipynb",
   "parameters": {},
   "start_time": "2021-12-08T08:30:05.412183",
   "version": "2.3.3"
  }
 },
 "nbformat": 4,
 "nbformat_minor": 5
}