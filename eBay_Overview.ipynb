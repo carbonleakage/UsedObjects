{
 "cells": [
  {
   "cell_type": "code",
   "execution_count": 1,
   "id": "reverse-picking",
   "metadata": {
    "execution": {
     "iopub.execute_input": "2021-10-14T11:00:07.188517Z",
     "iopub.status.busy": "2021-10-14T11:00:07.186518Z",
     "iopub.status.idle": "2021-10-14T11:00:07.994650Z",
     "shell.execute_reply": "2021-10-14T11:00:07.995922Z"
    },
    "papermill": {
     "duration": 0.858732,
     "end_time": "2021-10-14T11:00:07.996540",
     "exception": false,
     "start_time": "2021-10-14T11:00:07.137808",
     "status": "completed"
    },
    "tags": []
   },
   "outputs": [],
   "source": [
    "import pandas as pd\n",
    "import sqlite3"
   ]
  },
  {
   "cell_type": "code",
   "execution_count": 2,
   "id": "innovative-syndrome",
   "metadata": {
    "execution": {
     "iopub.execute_input": "2021-10-14T11:00:08.050619Z",
     "iopub.status.busy": "2021-10-14T11:00:08.048163Z",
     "iopub.status.idle": "2021-10-14T11:00:08.587369Z",
     "shell.execute_reply": "2021-10-14T11:00:08.588577Z"
    },
    "papermill": {
     "duration": 0.569715,
     "end_time": "2021-10-14T11:00:08.589074",
     "exception": false,
     "start_time": "2021-10-14T11:00:08.019359",
     "status": "completed"
    },
    "tags": []
   },
   "outputs": [],
   "source": [
    "timestamps = pd.read_sql(\"select distinct record_time from EBAY_TOP_BERLIN order by record_time desc limit 2\", sqlite3.connect(\"UsedObjects.db\"))"
   ]
  },
  {
   "cell_type": "code",
   "execution_count": 3,
   "id": "periodic-identification",
   "metadata": {
    "execution": {
     "iopub.execute_input": "2021-10-14T11:00:08.662437Z",
     "iopub.status.busy": "2021-10-14T11:00:08.660298Z",
     "iopub.status.idle": "2021-10-14T11:00:08.680230Z",
     "shell.execute_reply": "2021-10-14T11:00:08.681518Z"
    },
    "papermill": {
     "duration": 0.072954,
     "end_time": "2021-10-14T11:00:08.681954",
     "exception": false,
     "start_time": "2021-10-14T11:00:08.609000",
     "status": "completed"
    },
    "tags": []
   },
   "outputs": [
    {
     "data": {
      "text/html": [
       "<div>\n",
       "<style scoped>\n",
       "    .dataframe tbody tr th:only-of-type {\n",
       "        vertical-align: middle;\n",
       "    }\n",
       "\n",
       "    .dataframe tbody tr th {\n",
       "        vertical-align: top;\n",
       "    }\n",
       "\n",
       "    .dataframe thead th {\n",
       "        text-align: right;\n",
       "    }\n",
       "</style>\n",
       "<table border=\"1\" class=\"dataframe\">\n",
       "  <thead>\n",
       "    <tr style=\"text-align: right;\">\n",
       "      <th></th>\n",
       "      <th>RECORD_TIME</th>\n",
       "    </tr>\n",
       "  </thead>\n",
       "  <tbody>\n",
       "    <tr>\n",
       "      <th>0</th>\n",
       "      <td>2021-10-14 13:00</td>\n",
       "    </tr>\n",
       "    <tr>\n",
       "      <th>1</th>\n",
       "      <td>2021-10-14 12:30</td>\n",
       "    </tr>\n",
       "  </tbody>\n",
       "</table>\n",
       "</div>"
      ],
      "text/plain": [
       "        RECORD_TIME\n",
       "0  2021-10-14 13:00\n",
       "1  2021-10-14 12:30"
      ]
     },
     "execution_count": 3,
     "metadata": {},
     "output_type": "execute_result"
    }
   ],
   "source": [
    "timestamps"
   ]
  },
  {
   "cell_type": "code",
   "execution_count": 4,
   "id": "alternate-victory",
   "metadata": {
    "execution": {
     "iopub.execute_input": "2021-10-14T11:00:08.733196Z",
     "iopub.status.busy": "2021-10-14T11:00:08.731206Z",
     "iopub.status.idle": "2021-10-14T11:00:09.510080Z",
     "shell.execute_reply": "2021-10-14T11:00:09.511347Z"
    },
    "papermill": {
     "duration": 0.80917,
     "end_time": "2021-10-14T11:00:09.511746",
     "exception": false,
     "start_time": "2021-10-14T11:00:08.702576",
     "status": "completed"
    },
    "tags": []
   },
   "outputs": [],
   "source": [
    "df = pd.read_sql(\"select * from EBAY_TOP_BERLIN where record_time in (select distinct record_time from EBAY_TOP_BERLIN order by record_time desc limit 2)\", sqlite3.connect(\"UsedObjects.db\"))"
   ]
  },
  {
   "cell_type": "code",
   "execution_count": 5,
   "id": "popular-active",
   "metadata": {
    "execution": {
     "iopub.execute_input": "2021-10-14T11:00:09.582886Z",
     "iopub.status.busy": "2021-10-14T11:00:09.572485Z",
     "iopub.status.idle": "2021-10-14T11:00:09.598628Z",
     "shell.execute_reply": "2021-10-14T11:00:09.599869Z"
    },
    "papermill": {
     "duration": 0.067898,
     "end_time": "2021-10-14T11:00:09.600272",
     "exception": false,
     "start_time": "2021-10-14T11:00:09.532374",
     "status": "completed"
    },
    "tags": []
   },
   "outputs": [],
   "source": [
    "df_pivot = df.pivot_table(index=\"PRODUCT\", columns = \"RECORD_TIME\", values = \"LISTING_COUNT\")"
   ]
  },
  {
   "cell_type": "code",
   "execution_count": 6,
   "id": "union-huntington",
   "metadata": {
    "execution": {
     "iopub.execute_input": "2021-10-14T11:00:09.658236Z",
     "iopub.status.busy": "2021-10-14T11:00:09.655982Z",
     "iopub.status.idle": "2021-10-14T11:00:09.661595Z",
     "shell.execute_reply": "2021-10-14T11:00:09.663039Z"
    },
    "papermill": {
     "duration": 0.041388,
     "end_time": "2021-10-14T11:00:09.663483",
     "exception": false,
     "start_time": "2021-10-14T11:00:09.622095",
     "status": "completed"
    },
    "tags": []
   },
   "outputs": [],
   "source": [
    "df_pivot.columns = [\"stamp_1\", \"stamp_2\"]\n",
    "df_pivot_diff = df_pivot.diff(axis=1)"
   ]
  },
  {
   "cell_type": "code",
   "execution_count": 7,
   "id": "fifth-motion",
   "metadata": {
    "execution": {
     "iopub.execute_input": "2021-10-14T11:00:09.719930Z",
     "iopub.status.busy": "2021-10-14T11:00:09.717263Z",
     "iopub.status.idle": "2021-10-14T11:00:11.180551Z",
     "shell.execute_reply": "2021-10-14T11:00:11.182037Z"
    },
    "papermill": {
     "duration": 1.497895,
     "end_time": "2021-10-14T11:00:11.182478",
     "exception": false,
     "start_time": "2021-10-14T11:00:09.684583",
     "status": "completed"
    },
    "tags": []
   },
   "outputs": [
    {
     "data": {
      "text/plain": [
       "<AxesSubplot:ylabel='PRODUCT'>"
      ]
     },
     "execution_count": 7,
     "metadata": {},
     "output_type": "execute_result"
    },
    {
     "data": {
      "image/png": "[encoded data removed]",
      "text/plain": [
       "<Figure size 432x288 with 1 Axes>"
      ]
     },
     "metadata": {
      "needs_background": "light"
     },
     "output_type": "display_data"
    }
   ],
   "source": [
    "df_pivot_diff.sort_values(\"stamp_2\", ascending = False)[\"stamp_2\"].head(10).plot.barh()"
   ]
  },
  {
   "cell_type": "code",
   "execution_count": null,
   "id": "extra-executive",
   "metadata": {
    "papermill": {
     "duration": 0.022698,
     "end_time": "2021-10-14T11:00:11.229563",
     "exception": false,
     "start_time": "2021-10-14T11:00:11.206865",
     "status": "completed"
    },
    "tags": []
   },
   "outputs": [],
   "source": []
  }
 ],
 "metadata": {
  "kernelspec": {
   "display_name": "Python 3",
   "language": "python",
   "name": "python3"
  },
  "language_info": {
   "codemirror_mode": {
    "name": "ipython",
    "version": 3
   },
   "file_extension": ".py",
   "mimetype": "text/x-python",
   "name": "python",
   "nbconvert_exporter": "python",
   "pygments_lexer": "ipython3",
   "version": "3.9.5"
  },
  "papermill": {
   "default_parameters": {},
   "duration": 7.820488,
   "end_time": "2021-10-14T11:00:12.556842",
   "environment_variables": {},
   "exception": null,
   "input_path": "eBay_Overview.ipynb",
   "output_path": "eBay_Overview.ipynb",
   "parameters": {},
   "start_time": "2021-10-14T11:00:04.736354",
   "version": "2.3.3"
  }
 },
 "nbformat": 4,
 "nbformat_minor": 5
}