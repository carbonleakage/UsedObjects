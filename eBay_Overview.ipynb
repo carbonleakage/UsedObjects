{
 "cells": [
  {
   "cell_type": "code",
   "execution_count": 1,
   "id": "reverse-picking",
   "metadata": {
    "execution": {
     "iopub.execute_input": "2021-09-18T01:00:06.557050Z",
     "iopub.status.busy": "2021-09-18T01:00:06.555159Z",
     "iopub.status.idle": "2021-09-18T01:00:07.358679Z",
     "shell.execute_reply": "2021-09-18T01:00:07.360086Z"
    },
    "papermill": {
     "duration": 0.857508,
     "end_time": "2021-09-18T01:00:07.360748",
     "exception": false,
     "start_time": "2021-09-18T01:00:06.503240",
     "status": "completed"
    },
    "tags": []
   },
   "outputs": [],
   "source": [
    "import pandas as pd\n",
    "import sqlite3"
   ]
  },
  {
   "cell_type": "code",
   "execution_count": 2,
   "id": "innovative-syndrome",
   "metadata": {
    "execution": {
     "iopub.execute_input": "2021-09-18T01:00:07.412042Z",
     "iopub.status.busy": "2021-09-18T01:00:07.410113Z",
     "iopub.status.idle": "2021-09-18T01:00:07.722188Z",
     "shell.execute_reply": "2021-09-18T01:00:07.723615Z"
    },
    "papermill": {
     "duration": 0.341817,
     "end_time": "2021-09-18T01:00:07.724042",
     "exception": false,
     "start_time": "2021-09-18T01:00:07.382225",
     "status": "completed"
    },
    "tags": []
   },
   "outputs": [],
   "source": [
    "timestamps = pd.read_sql(\"select distinct record_time from EBAY_TOP_BERLIN order by record_time desc limit 2\", sqlite3.connect(\"UsedObjects.db\"))"
   ]
  },
  {
   "cell_type": "code",
   "execution_count": 3,
   "id": "periodic-identification",
   "metadata": {
    "execution": {
     "iopub.execute_input": "2021-09-18T01:00:07.792365Z",
     "iopub.status.busy": "2021-09-18T01:00:07.790268Z",
     "iopub.status.idle": "2021-09-18T01:00:07.810710Z",
     "shell.execute_reply": "2021-09-18T01:00:07.812226Z"
    },
    "papermill": {
     "duration": 0.067661,
     "end_time": "2021-09-18T01:00:07.812673",
     "exception": false,
     "start_time": "2021-09-18T01:00:07.745012",
     "status": "completed"
    },
    "tags": []
   },
   "outputs": [
    {
     "data": {
      "text/html": [
       "<div>\n",
       "<style scoped>\n",
       "    .dataframe tbody tr th:only-of-type {\n",
       "        vertical-align: middle;\n",
       "    }\n",
       "\n",
       "    .dataframe tbody tr th {\n",
       "        vertical-align: top;\n",
       "    }\n",
       "\n",
       "    .dataframe thead th {\n",
       "        text-align: right;\n",
       "    }\n",
       "</style>\n",
       "<table border=\"1\" class=\"dataframe\">\n",
       "  <thead>\n",
       "    <tr style=\"text-align: right;\">\n",
       "      <th></th>\n",
       "      <th>RECORD_TIME</th>\n",
       "    </tr>\n",
       "  </thead>\n",
       "  <tbody>\n",
       "    <tr>\n",
       "      <th>0</th>\n",
       "      <td>2021-09-18 03:00</td>\n",
       "    </tr>\n",
       "    <tr>\n",
       "      <th>1</th>\n",
       "      <td>2021-09-18 02:30</td>\n",
       "    </tr>\n",
       "  </tbody>\n",
       "</table>\n",
       "</div>"
      ],
      "text/plain": [
       "        RECORD_TIME\n",
       "0  2021-09-18 03:00\n",
       "1  2021-09-18 02:30"
      ]
     },
     "execution_count": 3,
     "metadata": {},
     "output_type": "execute_result"
    }
   ],
   "source": [
    "timestamps"
   ]
  },
  {
   "cell_type": "code",
   "execution_count": 4,
   "id": "alternate-victory",
   "metadata": {
    "execution": {
     "iopub.execute_input": "2021-09-18T01:00:07.864596Z",
     "iopub.status.busy": "2021-09-18T01:00:07.862415Z",
     "iopub.status.idle": "2021-09-18T01:00:08.315741Z",
     "shell.execute_reply": "2021-09-18T01:00:08.316963Z"
    },
    "papermill": {
     "duration": 0.483323,
     "end_time": "2021-09-18T01:00:08.317365",
     "exception": false,
     "start_time": "2021-09-18T01:00:07.834042",
     "status": "completed"
    },
    "tags": []
   },
   "outputs": [],
   "source": [
    "df = pd.read_sql(\"select * from EBAY_TOP_BERLIN where record_time in (select distinct record_time from EBAY_TOP_BERLIN order by record_time desc limit 2)\", sqlite3.connect(\"UsedObjects.db\"))"
   ]
  },
  {
   "cell_type": "code",
   "execution_count": 5,
   "id": "popular-active",
   "metadata": {
    "execution": {
     "iopub.execute_input": "2021-09-18T01:00:08.400447Z",
     "iopub.status.busy": "2021-09-18T01:00:08.387970Z",
     "iopub.status.idle": "2021-09-18T01:00:08.416339Z",
     "shell.execute_reply": "2021-09-18T01:00:08.417664Z"
    },
    "papermill": {
     "duration": 0.071736,
     "end_time": "2021-09-18T01:00:08.418090",
     "exception": false,
     "start_time": "2021-09-18T01:00:08.346354",
     "status": "completed"
    },
    "tags": []
   },
   "outputs": [],
   "source": [
    "df_pivot = df.pivot_table(index=\"PRODUCT\", columns = \"RECORD_TIME\", values = \"LISTING_COUNT\")"
   ]
  },
  {
   "cell_type": "code",
   "execution_count": 6,
   "id": "union-huntington",
   "metadata": {
    "execution": {
     "iopub.execute_input": "2021-09-18T01:00:08.474223Z",
     "iopub.status.busy": "2021-09-18T01:00:08.472181Z",
     "iopub.status.idle": "2021-09-18T01:00:08.477286Z",
     "shell.execute_reply": "2021-09-18T01:00:08.478460Z"
    },
    "papermill": {
     "duration": 0.04053,
     "end_time": "2021-09-18T01:00:08.479075",
     "exception": false,
     "start_time": "2021-09-18T01:00:08.438545",
     "status": "completed"
    },
    "tags": []
   },
   "outputs": [],
   "source": [
    "df_pivot.columns = [\"stamp_1\", \"stamp_2\"]\n",
    "df_pivot_diff = df_pivot.diff(axis=1)"
   ]
  },
  {
   "cell_type": "code",
   "execution_count": 7,
   "id": "fifth-motion",
   "metadata": {
    "execution": {
     "iopub.execute_input": "2021-09-18T01:00:08.535278Z",
     "iopub.status.busy": "2021-09-18T01:00:08.532586Z",
     "iopub.status.idle": "2021-09-18T01:00:09.992829Z",
     "shell.execute_reply": "2021-09-18T01:00:09.994105Z"
    },
    "papermill": {
     "duration": 1.494102,
     "end_time": "2021-09-18T01:00:09.994525",
     "exception": false,
     "start_time": "2021-09-18T01:00:08.500423",
     "status": "completed"
    },
    "tags": []
   },
   "outputs": [
    {
     "data": {
      "text/plain": [
       "<AxesSubplot:ylabel='PRODUCT'>"
      ]
     },
     "execution_count": 7,
     "metadata": {},
     "output_type": "execute_result"
    },
    {
     "data": {
      "image/png": "[encoded data removed]",
      "text/plain": [
       "<Figure size 432x288 with 1 Axes>"
      ]
     },
     "metadata": {
      "needs_background": "light"
     },
     "output_type": "display_data"
    }
   ],
   "source": [
    "df_pivot_diff.sort_values(\"stamp_2\", ascending = False)[\"stamp_2\"].head(10).plot.barh()"
   ]
  },
  {
   "cell_type": "code",
   "execution_count": null,
   "id": "extra-executive",
   "metadata": {
    "papermill": {
     "duration": 0.022523,
     "end_time": "2021-09-18T01:00:10.042683",
     "exception": false,
     "start_time": "2021-09-18T01:00:10.020160",
     "status": "completed"
    },
    "tags": []
   },
   "outputs": [],
   "source": []
  }
 ],
 "metadata": {
  "kernelspec": {
   "display_name": "Python 3",
   "language": "python",
   "name": "python3"
  },
  "language_info": {
   "codemirror_mode": {
    "name": "ipython",
    "version": 3
   },
   "file_extension": ".py",
   "mimetype": "text/x-python",
   "name": "python",
   "nbconvert_exporter": "python",
   "pygments_lexer": "ipython3",
   "version": "3.9.5"
  },
  "papermill": {
   "default_parameters": {},
   "duration": 6.577106,
   "end_time": "2021-09-18T01:00:10.686433",
   "environment_variables": {},
   "exception": null,
   "input_path": "eBay_Overview.ipynb",
   "output_path": "eBay_Overview.ipynb",
   "parameters": {},
   "start_time": "2021-09-18T01:00:04.109327",
   "version": "2.3.3"
  }
 },
 "nbformat": 4,
 "nbformat_minor": 5
}