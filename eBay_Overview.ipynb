{
 "cells": [
  {
   "cell_type": "code",
   "execution_count": 1,
   "id": "reverse-picking",
   "metadata": {
    "execution": {
     "iopub.execute_input": "2021-10-16T09:30:07.219187Z",
     "iopub.status.busy": "2021-10-16T09:30:07.217156Z",
     "iopub.status.idle": "2021-10-16T09:30:08.026323Z",
     "shell.execute_reply": "2021-10-16T09:30:08.027513Z"
    },
    "papermill": {
     "duration": 0.863337,
     "end_time": "2021-10-16T09:30:08.028145",
     "exception": false,
     "start_time": "2021-10-16T09:30:07.164808",
     "status": "completed"
    },
    "tags": []
   },
   "outputs": [],
   "source": [
    "import pandas as pd\n",
    "import sqlite3"
   ]
  },
  {
   "cell_type": "code",
   "execution_count": 2,
   "id": "innovative-syndrome",
   "metadata": {
    "execution": {
     "iopub.execute_input": "2021-10-16T09:30:08.081817Z",
     "iopub.status.busy": "2021-10-16T09:30:08.079373Z",
     "iopub.status.idle": "2021-10-16T09:30:08.651094Z",
     "shell.execute_reply": "2021-10-16T09:30:08.652304Z"
    },
    "papermill": {
     "duration": 0.601803,
     "end_time": "2021-10-16T09:30:08.652883",
     "exception": false,
     "start_time": "2021-10-16T09:30:08.051080",
     "status": "completed"
    },
    "tags": []
   },
   "outputs": [],
   "source": [
    "timestamps = pd.read_sql(\"select distinct record_time from EBAY_TOP_BERLIN order by record_time desc limit 2\", sqlite3.connect(\"UsedObjects.db\"))"
   ]
  },
  {
   "cell_type": "code",
   "execution_count": 3,
   "id": "periodic-identification",
   "metadata": {
    "execution": {
     "iopub.execute_input": "2021-10-16T09:30:08.727910Z",
     "iopub.status.busy": "2021-10-16T09:30:08.725849Z",
     "iopub.status.idle": "2021-10-16T09:30:08.745721Z",
     "shell.execute_reply": "2021-10-16T09:30:08.747009Z"
    },
    "papermill": {
     "duration": 0.067411,
     "end_time": "2021-10-16T09:30:08.747403",
     "exception": false,
     "start_time": "2021-10-16T09:30:08.679992",
     "status": "completed"
    },
    "tags": []
   },
   "outputs": [
    {
     "data": {
      "text/html": [
       "<div>\n",
       "<style scoped>\n",
       "    .dataframe tbody tr th:only-of-type {\n",
       "        vertical-align: middle;\n",
       "    }\n",
       "\n",
       "    .dataframe tbody tr th {\n",
       "        vertical-align: top;\n",
       "    }\n",
       "\n",
       "    .dataframe thead th {\n",
       "        text-align: right;\n",
       "    }\n",
       "</style>\n",
       "<table border=\"1\" class=\"dataframe\">\n",
       "  <thead>\n",
       "    <tr style=\"text-align: right;\">\n",
       "      <th></th>\n",
       "      <th>RECORD_TIME</th>\n",
       "    </tr>\n",
       "  </thead>\n",
       "  <tbody>\n",
       "    <tr>\n",
       "      <th>0</th>\n",
       "      <td>2021-10-16 11:30</td>\n",
       "    </tr>\n",
       "    <tr>\n",
       "      <th>1</th>\n",
       "      <td>2021-10-16 11:00</td>\n",
       "    </tr>\n",
       "  </tbody>\n",
       "</table>\n",
       "</div>"
      ],
      "text/plain": [
       "        RECORD_TIME\n",
       "0  2021-10-16 11:30\n",
       "1  2021-10-16 11:00"
      ]
     },
     "execution_count": 3,
     "metadata": {},
     "output_type": "execute_result"
    }
   ],
   "source": [
    "timestamps"
   ]
  },
  {
   "cell_type": "code",
   "execution_count": 4,
   "id": "alternate-victory",
   "metadata": {
    "execution": {
     "iopub.execute_input": "2021-10-16T09:30:08.799269Z",
     "iopub.status.busy": "2021-10-16T09:30:08.797107Z",
     "iopub.status.idle": "2021-10-16T09:30:09.640149Z",
     "shell.execute_reply": "2021-10-16T09:30:09.641675Z"
    },
    "papermill": {
     "duration": 0.87382,
     "end_time": "2021-10-16T09:30:09.642132",
     "exception": false,
     "start_time": "2021-10-16T09:30:08.768312",
     "status": "completed"
    },
    "tags": []
   },
   "outputs": [],
   "source": [
    "df = pd.read_sql(\"select * from EBAY_TOP_BERLIN where record_time in (select distinct record_time from EBAY_TOP_BERLIN order by record_time desc limit 2)\", sqlite3.connect(\"UsedObjects.db\"))"
   ]
  },
  {
   "cell_type": "code",
   "execution_count": 5,
   "id": "popular-active",
   "metadata": {
    "execution": {
     "iopub.execute_input": "2021-10-16T09:30:09.705889Z",
     "iopub.status.busy": "2021-10-16T09:30:09.699673Z",
     "iopub.status.idle": "2021-10-16T09:30:09.727799Z",
     "shell.execute_reply": "2021-10-16T09:30:09.729259Z"
    },
    "papermill": {
     "duration": 0.066726,
     "end_time": "2021-10-16T09:30:09.729670",
     "exception": false,
     "start_time": "2021-10-16T09:30:09.662944",
     "status": "completed"
    },
    "tags": []
   },
   "outputs": [],
   "source": [
    "df_pivot = df.pivot_table(index=\"PRODUCT\", columns = \"RECORD_TIME\", values = \"LISTING_COUNT\")"
   ]
  },
  {
   "cell_type": "code",
   "execution_count": 6,
   "id": "union-huntington",
   "metadata": {
    "execution": {
     "iopub.execute_input": "2021-10-16T09:30:09.788023Z",
     "iopub.status.busy": "2021-10-16T09:30:09.785561Z",
     "iopub.status.idle": "2021-10-16T09:30:09.792983Z",
     "shell.execute_reply": "2021-10-16T09:30:09.791465Z"
    },
    "papermill": {
     "duration": 0.042371,
     "end_time": "2021-10-16T09:30:09.793348",
     "exception": false,
     "start_time": "2021-10-16T09:30:09.750977",
     "status": "completed"
    },
    "tags": []
   },
   "outputs": [],
   "source": [
    "df_pivot.columns = [\"stamp_1\", \"stamp_2\"]\n",
    "df_pivot_diff = df_pivot.diff(axis=1)"
   ]
  },
  {
   "cell_type": "code",
   "execution_count": 7,
   "id": "fifth-motion",
   "metadata": {
    "execution": {
     "iopub.execute_input": "2021-10-16T09:30:09.847647Z",
     "iopub.status.busy": "2021-10-16T09:30:09.845338Z",
     "iopub.status.idle": "2021-10-16T09:30:11.317935Z",
     "shell.execute_reply": "2021-10-16T09:30:11.319424Z"
    },
    "papermill": {
     "duration": 1.506072,
     "end_time": "2021-10-16T09:30:11.319902",
     "exception": false,
     "start_time": "2021-10-16T09:30:09.813830",
     "status": "completed"
    },
    "tags": []
   },
   "outputs": [
    {
     "data": {
      "text/plain": [
       "<AxesSubplot:ylabel='PRODUCT'>"
      ]
     },
     "execution_count": 7,
     "metadata": {},
     "output_type": "execute_result"
    },
    {
     "data": {
      "image/png": "[encoded data removed]",
      "text/plain": [
       "<Figure size 432x288 with 1 Axes>"
      ]
     },
     "metadata": {
      "needs_background": "light"
     },
     "output_type": "display_data"
    }
   ],
   "source": [
    "df_pivot_diff.sort_values(\"stamp_2\", ascending = False)[\"stamp_2\"].head(10).plot.barh()"
   ]
  },
  {
   "cell_type": "code",
   "execution_count": null,
   "id": "extra-executive",
   "metadata": {
    "papermill": {
     "duration": 0.02217,
     "end_time": "2021-10-16T09:30:11.365974",
     "exception": false,
     "start_time": "2021-10-16T09:30:11.343804",
     "status": "completed"
    },
    "tags": []
   },
   "outputs": [],
   "source": []
  }
 ],
 "metadata": {
  "kernelspec": {
   "display_name": "Python 3",
   "language": "python",
   "name": "python3"
  },
  "language_info": {
   "codemirror_mode": {
    "name": "ipython",
    "version": 3
   },
   "file_extension": ".py",
   "mimetype": "text/x-python",
   "name": "python",
   "nbconvert_exporter": "python",
   "pygments_lexer": "ipython3",
   "version": "3.9.5"
  },
  "papermill": {
   "default_parameters": {},
   "duration": 7.820064,
   "end_time": "2021-10-16T09:30:12.575362",
   "environment_variables": {},
   "exception": null,
   "input_path": "eBay_Overview.ipynb",
   "output_path": "eBay_Overview.ipynb",
   "parameters": {},
   "start_time": "2021-10-16T09:30:04.755298",
   "version": "2.3.3"
  }
 },
 "nbformat": 4,
 "nbformat_minor": 5
}