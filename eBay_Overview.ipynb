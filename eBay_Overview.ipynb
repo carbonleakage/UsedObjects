{
 "cells": [
  {
   "cell_type": "code",
   "execution_count": 1,
   "id": "reverse-picking",
   "metadata": {
    "execution": {
     "iopub.execute_input": "2021-10-29T19:00:07.006302Z",
     "iopub.status.busy": "2021-10-29T19:00:07.004270Z",
     "iopub.status.idle": "2021-10-29T19:00:07.813254Z",
     "shell.execute_reply": "2021-10-29T19:00:07.814763Z"
    },
    "papermill": {
     "duration": 0.859886,
     "end_time": "2021-10-29T19:00:07.815437",
     "exception": false,
     "start_time": "2021-10-29T19:00:06.955551",
     "status": "completed"
    },
    "tags": []
   },
   "outputs": [],
   "source": [
    "import pandas as pd\n",
    "import sqlite3"
   ]
  },
  {
   "cell_type": "code",
   "execution_count": 2,
   "id": "innovative-syndrome",
   "metadata": {
    "execution": {
     "iopub.execute_input": "2021-10-29T19:00:07.866664Z",
     "iopub.status.busy": "2021-10-29T19:00:07.864245Z",
     "iopub.status.idle": "2021-10-29T19:00:08.537914Z",
     "shell.execute_reply": "2021-10-29T19:00:08.539156Z"
    },
    "papermill": {
     "duration": 0.703573,
     "end_time": "2021-10-29T19:00:08.539549",
     "exception": false,
     "start_time": "2021-10-29T19:00:07.835976",
     "status": "completed"
    },
    "tags": []
   },
   "outputs": [],
   "source": [
    "timestamps = pd.read_sql(\"select distinct record_time from EBAY_TOP_BERLIN order by record_time desc limit 2\", sqlite3.connect(\"UsedObjects.db\"))"
   ]
  },
  {
   "cell_type": "code",
   "execution_count": 3,
   "id": "periodic-identification",
   "metadata": {
    "execution": {
     "iopub.execute_input": "2021-10-29T19:00:08.615232Z",
     "iopub.status.busy": "2021-10-29T19:00:08.613222Z",
     "iopub.status.idle": "2021-10-29T19:00:08.633029Z",
     "shell.execute_reply": "2021-10-29T19:00:08.634317Z"
    },
    "papermill": {
     "duration": 0.070399,
     "end_time": "2021-10-29T19:00:08.634725",
     "exception": false,
     "start_time": "2021-10-29T19:00:08.564326",
     "status": "completed"
    },
    "tags": []
   },
   "outputs": [
    {
     "data": {
      "text/html": [
       "<div>\n",
       "<style scoped>\n",
       "    .dataframe tbody tr th:only-of-type {\n",
       "        vertical-align: middle;\n",
       "    }\n",
       "\n",
       "    .dataframe tbody tr th {\n",
       "        vertical-align: top;\n",
       "    }\n",
       "\n",
       "    .dataframe thead th {\n",
       "        text-align: right;\n",
       "    }\n",
       "</style>\n",
       "<table border=\"1\" class=\"dataframe\">\n",
       "  <thead>\n",
       "    <tr style=\"text-align: right;\">\n",
       "      <th></th>\n",
       "      <th>RECORD_TIME</th>\n",
       "    </tr>\n",
       "  </thead>\n",
       "  <tbody>\n",
       "    <tr>\n",
       "      <th>0</th>\n",
       "      <td>2021-10-29 21:00</td>\n",
       "    </tr>\n",
       "    <tr>\n",
       "      <th>1</th>\n",
       "      <td>2021-10-29 20:30</td>\n",
       "    </tr>\n",
       "  </tbody>\n",
       "</table>\n",
       "</div>"
      ],
      "text/plain": [
       "        RECORD_TIME\n",
       "0  2021-10-29 21:00\n",
       "1  2021-10-29 20:30"
      ]
     },
     "execution_count": 3,
     "metadata": {},
     "output_type": "execute_result"
    }
   ],
   "source": [
    "timestamps"
   ]
  },
  {
   "cell_type": "code",
   "execution_count": 4,
   "id": "alternate-victory",
   "metadata": {
    "execution": {
     "iopub.execute_input": "2021-10-29T19:00:08.685201Z",
     "iopub.status.busy": "2021-10-29T19:00:08.683143Z",
     "iopub.status.idle": "2021-10-29T19:00:09.661360Z",
     "shell.execute_reply": "2021-10-29T19:00:09.662580Z"
    },
    "papermill": {
     "duration": 1.00813,
     "end_time": "2021-10-29T19:00:09.662978",
     "exception": false,
     "start_time": "2021-10-29T19:00:08.654848",
     "status": "completed"
    },
    "tags": []
   },
   "outputs": [],
   "source": [
    "df = pd.read_sql(\"select * from EBAY_TOP_BERLIN where record_time in (select distinct record_time from EBAY_TOP_BERLIN order by record_time desc limit 2)\", sqlite3.connect(\"UsedObjects.db\"))"
   ]
  },
  {
   "cell_type": "code",
   "execution_count": 5,
   "id": "popular-active",
   "metadata": {
    "execution": {
     "iopub.execute_input": "2021-10-29T19:00:09.735428Z",
     "iopub.status.busy": "2021-10-29T19:00:09.723155Z",
     "iopub.status.idle": "2021-10-29T19:00:09.751169Z",
     "shell.execute_reply": "2021-10-29T19:00:09.752441Z"
    },
    "papermill": {
     "duration": 0.067796,
     "end_time": "2021-10-29T19:00:09.752906",
     "exception": false,
     "start_time": "2021-10-29T19:00:09.685110",
     "status": "completed"
    },
    "tags": []
   },
   "outputs": [],
   "source": [
    "df_pivot = df.pivot_table(index=\"PRODUCT\", columns = \"RECORD_TIME\", values = \"LISTING_COUNT\")"
   ]
  },
  {
   "cell_type": "code",
   "execution_count": 6,
   "id": "union-huntington",
   "metadata": {
    "execution": {
     "iopub.execute_input": "2021-10-29T19:00:09.809066Z",
     "iopub.status.busy": "2021-10-29T19:00:09.806984Z",
     "iopub.status.idle": "2021-10-29T19:00:09.812431Z",
     "shell.execute_reply": "2021-10-29T19:00:09.813682Z"
    },
    "papermill": {
     "duration": 0.040893,
     "end_time": "2021-10-29T19:00:09.814121",
     "exception": false,
     "start_time": "2021-10-29T19:00:09.773228",
     "status": "completed"
    },
    "tags": []
   },
   "outputs": [],
   "source": [
    "df_pivot.columns = [\"stamp_1\", \"stamp_2\"]\n",
    "df_pivot_diff = df_pivot.diff(axis=1)"
   ]
  },
  {
   "cell_type": "code",
   "execution_count": 7,
   "id": "fifth-motion",
   "metadata": {
    "execution": {
     "iopub.execute_input": "2021-10-29T19:00:09.868014Z",
     "iopub.status.busy": "2021-10-29T19:00:09.865630Z",
     "iopub.status.idle": "2021-10-29T19:00:11.327829Z",
     "shell.execute_reply": "2021-10-29T19:00:11.329237Z"
    },
    "papermill": {
     "duration": 1.495117,
     "end_time": "2021-10-29T19:00:11.329689",
     "exception": false,
     "start_time": "2021-10-29T19:00:09.834572",
     "status": "completed"
    },
    "tags": []
   },
   "outputs": [
    {
     "data": {
      "text/plain": [
       "<AxesSubplot:ylabel='PRODUCT'>"
      ]
     },
     "execution_count": 7,
     "metadata": {},
     "output_type": "execute_result"
    },
    {
     "data": {
      "image/png": "[encoded data removed]",
      "text/plain": [
       "<Figure size 432x288 with 1 Axes>"
      ]
     },
     "metadata": {
      "needs_background": "light"
     },
     "output_type": "display_data"
    }
   ],
   "source": [
    "df_pivot_diff.sort_values(\"stamp_2\", ascending = False)[\"stamp_2\"].head(10).plot.barh()"
   ]
  },
  {
   "cell_type": "code",
   "execution_count": null,
   "id": "extra-executive",
   "metadata": {
    "papermill": {
     "duration": 0.057647,
     "end_time": "2021-10-29T19:00:11.411287",
     "exception": false,
     "start_time": "2021-10-29T19:00:11.353640",
     "status": "completed"
    },
    "tags": []
   },
   "outputs": [],
   "source": []
  }
 ],
 "metadata": {
  "kernelspec": {
   "display_name": "Python 3",
   "language": "python",
   "name": "python3"
  },
  "language_info": {
   "codemirror_mode": {
    "name": "ipython",
    "version": 3
   },
   "file_extension": ".py",
   "mimetype": "text/x-python",
   "name": "python",
   "nbconvert_exporter": "python",
   "pygments_lexer": "ipython3",
   "version": "3.9.5"
  },
  "papermill": {
   "default_parameters": {},
   "duration": 7.509399,
   "end_time": "2021-10-29T19:00:12.055915",
   "environment_variables": {},
   "exception": null,
   "input_path": "eBay_Overview.ipynb",
   "output_path": "eBay_Overview.ipynb",
   "parameters": {},
   "start_time": "2021-10-29T19:00:04.546516",
   "version": "2.3.3"
  }
 },
 "nbformat": 4,
 "nbformat_minor": 5
}