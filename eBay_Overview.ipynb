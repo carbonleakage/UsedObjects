{
 "cells": [
  {
   "cell_type": "code",
   "execution_count": 1,
   "id": "reverse-picking",
   "metadata": {
    "execution": {
     "iopub.execute_input": "2021-09-10T18:00:07.385005Z",
     "iopub.status.busy": "2021-09-10T18:00:07.383031Z",
     "iopub.status.idle": "2021-09-10T18:00:08.192622Z",
     "shell.execute_reply": "2021-09-10T18:00:08.193878Z"
    },
    "papermill": {
     "duration": 0.863528,
     "end_time": "2021-09-10T18:00:08.194490",
     "exception": false,
     "start_time": "2021-09-10T18:00:07.330962",
     "status": "completed"
    },
    "tags": []
   },
   "outputs": [],
   "source": [
    "import pandas as pd\n",
    "import sqlite3"
   ]
  },
  {
   "cell_type": "code",
   "execution_count": 2,
   "id": "innovative-syndrome",
   "metadata": {
    "execution": {
     "iopub.execute_input": "2021-09-10T18:00:08.247350Z",
     "iopub.status.busy": "2021-09-10T18:00:08.244928Z",
     "iopub.status.idle": "2021-09-10T18:00:08.504729Z",
     "shell.execute_reply": "2021-09-10T18:00:08.505932Z"
    },
    "papermill": {
     "duration": 0.289591,
     "end_time": "2021-09-10T18:00:08.506329",
     "exception": false,
     "start_time": "2021-09-10T18:00:08.216738",
     "status": "completed"
    },
    "tags": []
   },
   "outputs": [],
   "source": [
    "timestamps = pd.read_sql(\"select distinct record_time from EBAY_TOP_BERLIN order by record_time desc limit 2\", sqlite3.connect(\"UsedObjects.db\"))"
   ]
  },
  {
   "cell_type": "code",
   "execution_count": 3,
   "id": "periodic-identification",
   "metadata": {
    "execution": {
     "iopub.execute_input": "2021-09-10T18:00:08.569859Z",
     "iopub.status.busy": "2021-09-10T18:00:08.567823Z",
     "iopub.status.idle": "2021-09-10T18:00:08.588917Z",
     "shell.execute_reply": "2021-09-10T18:00:08.590137Z"
    },
    "papermill": {
     "duration": 0.065117,
     "end_time": "2021-09-10T18:00:08.590535",
     "exception": false,
     "start_time": "2021-09-10T18:00:08.525418",
     "status": "completed"
    },
    "tags": []
   },
   "outputs": [
    {
     "data": {
      "text/html": [
       "<div>\n",
       "<style scoped>\n",
       "    .dataframe tbody tr th:only-of-type {\n",
       "        vertical-align: middle;\n",
       "    }\n",
       "\n",
       "    .dataframe tbody tr th {\n",
       "        vertical-align: top;\n",
       "    }\n",
       "\n",
       "    .dataframe thead th {\n",
       "        text-align: right;\n",
       "    }\n",
       "</style>\n",
       "<table border=\"1\" class=\"dataframe\">\n",
       "  <thead>\n",
       "    <tr style=\"text-align: right;\">\n",
       "      <th></th>\n",
       "      <th>RECORD_TIME</th>\n",
       "    </tr>\n",
       "  </thead>\n",
       "  <tbody>\n",
       "    <tr>\n",
       "      <th>0</th>\n",
       "      <td>2021-09-10 20:00</td>\n",
       "    </tr>\n",
       "    <tr>\n",
       "      <th>1</th>\n",
       "      <td>2021-09-10 19:30</td>\n",
       "    </tr>\n",
       "  </tbody>\n",
       "</table>\n",
       "</div>"
      ],
      "text/plain": [
       "        RECORD_TIME\n",
       "0  2021-09-10 20:00\n",
       "1  2021-09-10 19:30"
      ]
     },
     "execution_count": 3,
     "metadata": {},
     "output_type": "execute_result"
    }
   ],
   "source": [
    "timestamps"
   ]
  },
  {
   "cell_type": "code",
   "execution_count": 4,
   "id": "alternate-victory",
   "metadata": {
    "execution": {
     "iopub.execute_input": "2021-09-10T18:00:08.643683Z",
     "iopub.status.busy": "2021-09-10T18:00:08.641336Z",
     "iopub.status.idle": "2021-09-10T18:00:09.024850Z",
     "shell.execute_reply": "2021-09-10T18:00:09.026164Z"
    },
    "papermill": {
     "duration": 0.413931,
     "end_time": "2021-09-10T18:00:09.026575",
     "exception": false,
     "start_time": "2021-09-10T18:00:08.612644",
     "status": "completed"
    },
    "tags": []
   },
   "outputs": [],
   "source": [
    "df = pd.read_sql(\"select * from EBAY_TOP_BERLIN where record_time in (select distinct record_time from EBAY_TOP_BERLIN order by record_time desc limit 2)\", sqlite3.connect(\"UsedObjects.db\"))"
   ]
  },
  {
   "cell_type": "code",
   "execution_count": 5,
   "id": "popular-active",
   "metadata": {
    "execution": {
     "iopub.execute_input": "2021-09-10T18:00:09.104519Z",
     "iopub.status.busy": "2021-09-10T18:00:09.093525Z",
     "iopub.status.idle": "2021-09-10T18:00:09.121418Z",
     "shell.execute_reply": "2021-09-10T18:00:09.122636Z"
    },
    "papermill": {
     "duration": 0.071373,
     "end_time": "2021-09-10T18:00:09.123088",
     "exception": false,
     "start_time": "2021-09-10T18:00:09.051715",
     "status": "completed"
    },
    "tags": []
   },
   "outputs": [],
   "source": [
    "df_pivot = df.pivot_table(index=\"PRODUCT\", columns = \"RECORD_TIME\", values = \"LISTING_COUNT\")"
   ]
  },
  {
   "cell_type": "code",
   "execution_count": 6,
   "id": "union-huntington",
   "metadata": {
    "execution": {
     "iopub.execute_input": "2021-09-10T18:00:09.180728Z",
     "iopub.status.busy": "2021-09-10T18:00:09.178490Z",
     "iopub.status.idle": "2021-09-10T18:00:09.183992Z",
     "shell.execute_reply": "2021-09-10T18:00:09.185283Z"
    },
    "papermill": {
     "duration": 0.04069,
     "end_time": "2021-09-10T18:00:09.185739",
     "exception": false,
     "start_time": "2021-09-10T18:00:09.145049",
     "status": "completed"
    },
    "tags": []
   },
   "outputs": [],
   "source": [
    "df_pivot.columns = [\"stamp_1\", \"stamp_2\"]\n",
    "df_pivot_diff = df_pivot.diff(axis=1)"
   ]
  },
  {
   "cell_type": "code",
   "execution_count": 7,
   "id": "fifth-motion",
   "metadata": {
    "execution": {
     "iopub.execute_input": "2021-09-10T18:00:09.239205Z",
     "iopub.status.busy": "2021-09-10T18:00:09.236783Z",
     "iopub.status.idle": "2021-09-10T18:00:10.708782Z",
     "shell.execute_reply": "2021-09-10T18:00:10.710292Z"
    },
    "papermill": {
     "duration": 1.50477,
     "end_time": "2021-09-10T18:00:10.710759",
     "exception": false,
     "start_time": "2021-09-10T18:00:09.205989",
     "status": "completed"
    },
    "tags": []
   },
   "outputs": [
    {
     "data": {
      "text/plain": [
       "<AxesSubplot:ylabel='PRODUCT'>"
      ]
     },
     "execution_count": 7,
     "metadata": {},
     "output_type": "execute_result"
    },
    {
     "data": {
      "image/png": "[encoded data removed]",
      "text/plain": [
       "<Figure size 432x288 with 1 Axes>"
      ]
     },
     "metadata": {
      "needs_background": "light"
     },
     "output_type": "display_data"
    }
   ],
   "source": [
    "df_pivot_diff.sort_values(\"stamp_2\", ascending = False)[\"stamp_2\"].head(10).plot.barh()"
   ]
  },
  {
   "cell_type": "code",
   "execution_count": null,
   "id": "extra-executive",
   "metadata": {
    "papermill": {
     "duration": 0.02256,
     "end_time": "2021-09-10T18:00:10.757479",
     "exception": false,
     "start_time": "2021-09-10T18:00:10.734919",
     "status": "completed"
    },
    "tags": []
   },
   "outputs": [],
   "source": []
  }
 ],
 "metadata": {
  "kernelspec": {
   "display_name": "Python 3",
   "language": "python",
   "name": "python3"
  },
  "language_info": {
   "codemirror_mode": {
    "name": "ipython",
    "version": 3
   },
   "file_extension": ".py",
   "mimetype": "text/x-python",
   "name": "python",
   "nbconvert_exporter": "python",
   "pygments_lexer": "ipython3",
   "version": "3.9.5"
  },
  "papermill": {
   "default_parameters": {},
   "duration": 6.47935,
   "end_time": "2021-09-10T18:00:11.397898",
   "environment_variables": {},
   "exception": null,
   "input_path": "eBay_Overview.ipynb",
   "output_path": "eBay_Overview.ipynb",
   "parameters": {},
   "start_time": "2021-09-10T18:00:04.918548",
   "version": "2.3.3"
  }
 },
 "nbformat": 4,
 "nbformat_minor": 5
}