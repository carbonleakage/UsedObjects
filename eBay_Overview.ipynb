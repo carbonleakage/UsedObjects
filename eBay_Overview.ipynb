{
 "cells": [
  {
   "cell_type": "code",
   "execution_count": 1,
   "id": "reverse-picking",
   "metadata": {
    "execution": {
     "iopub.execute_input": "2021-10-26T22:00:09.322538Z",
     "iopub.status.busy": "2021-10-26T22:00:09.320526Z",
     "iopub.status.idle": "2021-10-26T22:00:11.352933Z",
     "shell.execute_reply": "2021-10-26T22:00:11.354579Z"
    },
    "papermill": {
     "duration": 2.085092,
     "end_time": "2021-10-26T22:00:11.355349",
     "exception": false,
     "start_time": "2021-10-26T22:00:09.270257",
     "status": "completed"
    },
    "tags": []
   },
   "outputs": [],
   "source": [
    "import pandas as pd\n",
    "import sqlite3"
   ]
  },
  {
   "cell_type": "code",
   "execution_count": 2,
   "id": "innovative-syndrome",
   "metadata": {
    "execution": {
     "iopub.execute_input": "2021-10-26T22:00:11.408826Z",
     "iopub.status.busy": "2021-10-26T22:00:11.406463Z",
     "iopub.status.idle": "2021-10-26T22:00:12.295011Z",
     "shell.execute_reply": "2021-10-26T22:00:12.296579Z"
    },
    "papermill": {
     "duration": 0.918887,
     "end_time": "2021-10-26T22:00:12.297198",
     "exception": false,
     "start_time": "2021-10-26T22:00:11.378311",
     "status": "completed"
    },
    "tags": []
   },
   "outputs": [],
   "source": [
    "timestamps = pd.read_sql(\"select distinct record_time from EBAY_TOP_BERLIN order by record_time desc limit 2\", sqlite3.connect(\"UsedObjects.db\"))"
   ]
  },
  {
   "cell_type": "code",
   "execution_count": 3,
   "id": "periodic-identification",
   "metadata": {
    "execution": {
     "iopub.execute_input": "2021-10-26T22:00:12.362490Z",
     "iopub.status.busy": "2021-10-26T22:00:12.360335Z",
     "iopub.status.idle": "2021-10-26T22:00:12.383515Z",
     "shell.execute_reply": "2021-10-26T22:00:12.384976Z"
    },
    "papermill": {
     "duration": 0.067269,
     "end_time": "2021-10-26T22:00:12.385427",
     "exception": false,
     "start_time": "2021-10-26T22:00:12.318158",
     "status": "completed"
    },
    "tags": []
   },
   "outputs": [
    {
     "data": {
      "text/html": [
       "<div>\n",
       "<style scoped>\n",
       "    .dataframe tbody tr th:only-of-type {\n",
       "        vertical-align: middle;\n",
       "    }\n",
       "\n",
       "    .dataframe tbody tr th {\n",
       "        vertical-align: top;\n",
       "    }\n",
       "\n",
       "    .dataframe thead th {\n",
       "        text-align: right;\n",
       "    }\n",
       "</style>\n",
       "<table border=\"1\" class=\"dataframe\">\n",
       "  <thead>\n",
       "    <tr style=\"text-align: right;\">\n",
       "      <th></th>\n",
       "      <th>RECORD_TIME</th>\n",
       "    </tr>\n",
       "  </thead>\n",
       "  <tbody>\n",
       "    <tr>\n",
       "      <th>0</th>\n",
       "      <td>2021-10-27 00:00</td>\n",
       "    </tr>\n",
       "    <tr>\n",
       "      <th>1</th>\n",
       "      <td>2021-10-26 23:30</td>\n",
       "    </tr>\n",
       "  </tbody>\n",
       "</table>\n",
       "</div>"
      ],
      "text/plain": [
       "        RECORD_TIME\n",
       "0  2021-10-27 00:00\n",
       "1  2021-10-26 23:30"
      ]
     },
     "execution_count": 3,
     "metadata": {},
     "output_type": "execute_result"
    }
   ],
   "source": [
    "timestamps"
   ]
  },
  {
   "cell_type": "code",
   "execution_count": 4,
   "id": "alternate-victory",
   "metadata": {
    "execution": {
     "iopub.execute_input": "2021-10-26T22:00:12.438031Z",
     "iopub.status.busy": "2021-10-26T22:00:12.435698Z",
     "iopub.status.idle": "2021-10-26T22:00:13.370146Z",
     "shell.execute_reply": "2021-10-26T22:00:13.371437Z"
    },
    "papermill": {
     "duration": 0.964821,
     "end_time": "2021-10-26T22:00:13.371853",
     "exception": false,
     "start_time": "2021-10-26T22:00:12.407032",
     "status": "completed"
    },
    "tags": []
   },
   "outputs": [],
   "source": [
    "df = pd.read_sql(\"select * from EBAY_TOP_BERLIN where record_time in (select distinct record_time from EBAY_TOP_BERLIN order by record_time desc limit 2)\", sqlite3.connect(\"UsedObjects.db\"))"
   ]
  },
  {
   "cell_type": "code",
   "execution_count": 5,
   "id": "popular-active",
   "metadata": {
    "execution": {
     "iopub.execute_input": "2021-10-26T22:00:13.459119Z",
     "iopub.status.busy": "2021-10-26T22:00:13.443932Z",
     "iopub.status.idle": "2021-10-26T22:00:13.507840Z",
     "shell.execute_reply": "2021-10-26T22:00:13.509191Z"
    },
    "papermill": {
     "duration": 0.117567,
     "end_time": "2021-10-26T22:00:13.509615",
     "exception": false,
     "start_time": "2021-10-26T22:00:13.392048",
     "status": "completed"
    },
    "tags": []
   },
   "outputs": [],
   "source": [
    "df_pivot = df.pivot_table(index=\"PRODUCT\", columns = \"RECORD_TIME\", values = \"LISTING_COUNT\")"
   ]
  },
  {
   "cell_type": "code",
   "execution_count": 6,
   "id": "union-huntington",
   "metadata": {
    "execution": {
     "iopub.execute_input": "2021-10-26T22:00:13.566784Z",
     "iopub.status.busy": "2021-10-26T22:00:13.564563Z",
     "iopub.status.idle": "2021-10-26T22:00:13.570193Z",
     "shell.execute_reply": "2021-10-26T22:00:13.571438Z"
    },
    "papermill": {
     "duration": 0.040891,
     "end_time": "2021-10-26T22:00:13.571893",
     "exception": false,
     "start_time": "2021-10-26T22:00:13.531002",
     "status": "completed"
    },
    "tags": []
   },
   "outputs": [],
   "source": [
    "df_pivot.columns = [\"stamp_1\", \"stamp_2\"]\n",
    "df_pivot_diff = df_pivot.diff(axis=1)"
   ]
  },
  {
   "cell_type": "code",
   "execution_count": 7,
   "id": "fifth-motion",
   "metadata": {
    "execution": {
     "iopub.execute_input": "2021-10-26T22:00:13.625542Z",
     "iopub.status.busy": "2021-10-26T22:00:13.623495Z",
     "iopub.status.idle": "2021-10-26T22:00:15.623746Z",
     "shell.execute_reply": "2021-10-26T22:00:15.625325Z"
    },
    "papermill": {
     "duration": 2.033774,
     "end_time": "2021-10-26T22:00:15.625789",
     "exception": false,
     "start_time": "2021-10-26T22:00:13.592015",
     "status": "completed"
    },
    "tags": []
   },
   "outputs": [
    {
     "data": {
      "text/plain": [
       "<AxesSubplot:ylabel='PRODUCT'>"
      ]
     },
     "execution_count": 7,
     "metadata": {},
     "output_type": "execute_result"
    },
    {
     "data": {
      "image/png": "[encoded data removed]",
      "text/plain": [
       "<Figure size 432x288 with 1 Axes>"
      ]
     },
     "metadata": {
      "needs_background": "light"
     },
     "output_type": "display_data"
    }
   ],
   "source": [
    "df_pivot_diff.sort_values(\"stamp_2\", ascending = False)[\"stamp_2\"].head(10).plot.barh()"
   ]
  },
  {
   "cell_type": "code",
   "execution_count": null,
   "id": "extra-executive",
   "metadata": {
    "papermill": {
     "duration": 0.023064,
     "end_time": "2021-10-26T22:00:15.674740",
     "exception": false,
     "start_time": "2021-10-26T22:00:15.651676",
     "status": "completed"
    },
    "tags": []
   },
   "outputs": [],
   "source": []
  }
 ],
 "metadata": {
  "kernelspec": {
   "display_name": "Python 3",
   "language": "python",
   "name": "python3"
  },
  "language_info": {
   "codemirror_mode": {
    "name": "ipython",
    "version": 3
   },
   "file_extension": ".py",
   "mimetype": "text/x-python",
   "name": "python",
   "nbconvert_exporter": "python",
   "pygments_lexer": "ipython3",
   "version": "3.9.5"
  },
  "papermill": {
   "default_parameters": {},
   "duration": 9.990256,
   "end_time": "2021-10-26T22:00:16.319192",
   "environment_variables": {},
   "exception": null,
   "input_path": "eBay_Overview.ipynb",
   "output_path": "eBay_Overview.ipynb",
   "parameters": {},
   "start_time": "2021-10-26T22:00:06.328936",
   "version": "2.3.3"
  }
 },
 "nbformat": 4,
 "nbformat_minor": 5
}