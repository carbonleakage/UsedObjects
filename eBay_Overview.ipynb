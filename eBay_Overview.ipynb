{
 "cells": [
  {
   "cell_type": "code",
   "execution_count": 1,
   "id": "reverse-picking",
   "metadata": {
    "execution": {
     "iopub.execute_input": "2021-12-22T18:30:08.095988Z",
     "iopub.status.busy": "2021-12-22T18:30:08.093669Z",
     "iopub.status.idle": "2021-12-22T18:30:09.058793Z",
     "shell.execute_reply": "2021-12-22T18:30:09.060984Z"
    },
    "papermill": {
     "duration": 1.015482,
     "end_time": "2021-12-22T18:30:09.061724",
     "exception": false,
     "start_time": "2021-12-22T18:30:08.046242",
     "status": "completed"
    },
    "tags": []
   },
   "outputs": [],
   "source": [
    "import pandas as pd\n",
    "import sqlite3"
   ]
  },
  {
   "cell_type": "code",
   "execution_count": 2,
   "id": "innovative-syndrome",
   "metadata": {
    "execution": {
     "iopub.execute_input": "2021-12-22T18:30:09.124300Z",
     "iopub.status.busy": "2021-12-22T18:30:09.122028Z",
     "iopub.status.idle": "2021-12-22T18:30:10.288645Z",
     "shell.execute_reply": "2021-12-22T18:30:10.290100Z"
    },
    "papermill": {
     "duration": 1.201849,
     "end_time": "2021-12-22T18:30:10.290604",
     "exception": false,
     "start_time": "2021-12-22T18:30:09.088755",
     "status": "completed"
    },
    "tags": []
   },
   "outputs": [],
   "source": [
    "timestamps = pd.read_sql(\"select distinct record_time from EBAY_TOP_BERLIN order by record_time desc limit 2\", sqlite3.connect(\"UsedObjects.db\"))"
   ]
  },
  {
   "cell_type": "code",
   "execution_count": 3,
   "id": "periodic-identification",
   "metadata": {
    "execution": {
     "iopub.execute_input": "2021-12-22T18:30:10.362895Z",
     "iopub.status.busy": "2021-12-22T18:30:10.360474Z",
     "iopub.status.idle": "2021-12-22T18:30:10.383188Z",
     "shell.execute_reply": "2021-12-22T18:30:10.384608Z"
    },
    "papermill": {
     "duration": 0.073966,
     "end_time": "2021-12-22T18:30:10.385226",
     "exception": false,
     "start_time": "2021-12-22T18:30:10.311260",
     "status": "completed"
    },
    "tags": []
   },
   "outputs": [
    {
     "data": {
      "text/html": [
       "<div>\n",
       "<style scoped>\n",
       "    .dataframe tbody tr th:only-of-type {\n",
       "        vertical-align: middle;\n",
       "    }\n",
       "\n",
       "    .dataframe tbody tr th {\n",
       "        vertical-align: top;\n",
       "    }\n",
       "\n",
       "    .dataframe thead th {\n",
       "        text-align: right;\n",
       "    }\n",
       "</style>\n",
       "<table border=\"1\" class=\"dataframe\">\n",
       "  <thead>\n",
       "    <tr style=\"text-align: right;\">\n",
       "      <th></th>\n",
       "      <th>RECORD_TIME</th>\n",
       "    </tr>\n",
       "  </thead>\n",
       "  <tbody>\n",
       "    <tr>\n",
       "      <th>0</th>\n",
       "      <td>2021-12-22 19:30</td>\n",
       "    </tr>\n",
       "    <tr>\n",
       "      <th>1</th>\n",
       "      <td>2021-12-22 19:00</td>\n",
       "    </tr>\n",
       "  </tbody>\n",
       "</table>\n",
       "</div>"
      ],
      "text/plain": [
       "        RECORD_TIME\n",
       "0  2021-12-22 19:30\n",
       "1  2021-12-22 19:00"
      ]
     },
     "execution_count": 3,
     "metadata": {},
     "output_type": "execute_result"
    }
   ],
   "source": [
    "timestamps"
   ]
  },
  {
   "cell_type": "code",
   "execution_count": 4,
   "id": "alternate-victory",
   "metadata": {
    "execution": {
     "iopub.execute_input": "2021-12-22T18:30:10.442888Z",
     "iopub.status.busy": "2021-12-22T18:30:10.440613Z",
     "iopub.status.idle": "2021-12-22T18:30:12.087917Z",
     "shell.execute_reply": "2021-12-22T18:30:12.090075Z"
    },
    "papermill": {
     "duration": 1.683446,
     "end_time": "2021-12-22T18:30:12.090543",
     "exception": false,
     "start_time": "2021-12-22T18:30:10.407097",
     "status": "completed"
    },
    "tags": []
   },
   "outputs": [],
   "source": [
    "df = pd.read_sql(\"select * from EBAY_TOP_BERLIN where record_time in (select distinct record_time from EBAY_TOP_BERLIN order by record_time desc limit 2)\", sqlite3.connect(\"UsedObjects.db\"))"
   ]
  },
  {
   "cell_type": "code",
   "execution_count": 5,
   "id": "popular-active",
   "metadata": {
    "execution": {
     "iopub.execute_input": "2021-12-22T18:30:12.154248Z",
     "iopub.status.busy": "2021-12-22T18:30:12.149242Z",
     "iopub.status.idle": "2021-12-22T18:30:12.185651Z",
     "shell.execute_reply": "2021-12-22T18:30:12.187157Z"
    },
    "papermill": {
     "duration": 0.076522,
     "end_time": "2021-12-22T18:30:12.187666",
     "exception": false,
     "start_time": "2021-12-22T18:30:12.111144",
     "status": "completed"
    },
    "tags": []
   },
   "outputs": [],
   "source": [
    "df_pivot = df.pivot_table(index=\"PRODUCT\", columns = \"RECORD_TIME\", values = \"LISTING_COUNT\")"
   ]
  },
  {
   "cell_type": "code",
   "execution_count": 6,
   "id": "union-huntington",
   "metadata": {
    "execution": {
     "iopub.execute_input": "2021-12-22T18:30:12.251172Z",
     "iopub.status.busy": "2021-12-22T18:30:12.248976Z",
     "iopub.status.idle": "2021-12-22T18:30:12.256364Z",
     "shell.execute_reply": "2021-12-22T18:30:12.254814Z"
    },
    "papermill": {
     "duration": 0.04702,
     "end_time": "2021-12-22T18:30:12.256811",
     "exception": false,
     "start_time": "2021-12-22T18:30:12.209791",
     "status": "completed"
    },
    "tags": []
   },
   "outputs": [],
   "source": [
    "df_pivot.columns = [\"stamp_1\", \"stamp_2\"]\n",
    "df_pivot_diff = df_pivot.diff(axis=1)"
   ]
  },
  {
   "cell_type": "code",
   "execution_count": 7,
   "id": "fifth-motion",
   "metadata": {
    "execution": {
     "iopub.execute_input": "2021-12-22T18:30:12.313208Z",
     "iopub.status.busy": "2021-12-22T18:30:12.310620Z",
     "iopub.status.idle": "2021-12-22T18:30:14.294077Z",
     "shell.execute_reply": "2021-12-22T18:30:14.295363Z"
    },
    "papermill": {
     "duration": 2.018612,
     "end_time": "2021-12-22T18:30:14.295782",
     "exception": false,
     "start_time": "2021-12-22T18:30:12.277170",
     "status": "completed"
    },
    "tags": []
   },
   "outputs": [
    {
     "data": {
      "text/plain": [
       "<AxesSubplot:ylabel='PRODUCT'>"
      ]
     },
     "execution_count": 7,
     "metadata": {},
     "output_type": "execute_result"
    },
    {
     "data": {
      "image/png": "[encoded data removed]",
      "text/plain": [
       "<Figure size 432x288 with 1 Axes>"
      ]
     },
     "metadata": {
      "needs_background": "light"
     },
     "output_type": "display_data"
    }
   ],
   "source": [
    "df_pivot_diff.sort_values(\"stamp_2\", ascending = False)[\"stamp_2\"].head(10).plot.barh()"
   ]
  },
  {
   "cell_type": "code",
   "execution_count": null,
   "id": "extra-executive",
   "metadata": {
    "papermill": {
     "duration": 0.022303,
     "end_time": "2021-12-22T18:30:14.342333",
     "exception": false,
     "start_time": "2021-12-22T18:30:14.320030",
     "status": "completed"
    },
    "tags": []
   },
   "outputs": [],
   "source": []
  }
 ],
 "metadata": {
  "kernelspec": {
   "display_name": "Python 3",
   "language": "python",
   "name": "python3"
  },
  "language_info": {
   "codemirror_mode": {
    "name": "ipython",
    "version": 3
   },
   "file_extension": ".py",
   "mimetype": "text/x-python",
   "name": "python",
   "nbconvert_exporter": "python",
   "pygments_lexer": "ipython3",
   "version": "3.9.5"
  },
  "papermill": {
   "default_parameters": {},
   "duration": 9.679764,
   "end_time": "2021-12-22T18:30:14.983495",
   "environment_variables": {},
   "exception": null,
   "input_path": "eBay_Overview.ipynb",
   "output_path": "eBay_Overview.ipynb",
   "parameters": {},
   "start_time": "2021-12-22T18:30:05.303731",
   "version": "2.3.3"
  }
 },
 "nbformat": 4,
 "nbformat_minor": 5
}