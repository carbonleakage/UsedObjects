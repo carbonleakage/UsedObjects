{
 "cells": [
  {
   "cell_type": "code",
   "execution_count": 1,
   "id": "reverse-picking",
   "metadata": {
    "execution": {
     "iopub.execute_input": "2021-08-31T12:00:07.085093Z",
     "iopub.status.busy": "2021-08-31T12:00:07.083158Z",
     "iopub.status.idle": "2021-08-31T12:00:07.883050Z",
     "shell.execute_reply": "2021-08-31T12:00:07.884518Z"
    },
    "papermill": {
     "duration": 0.851841,
     "end_time": "2021-08-31T12:00:07.885201",
     "exception": false,
     "start_time": "2021-08-31T12:00:07.033360",
     "status": "completed"
    },
    "tags": []
   },
   "outputs": [],
   "source": [
    "import pandas as pd\n",
    "import sqlite3"
   ]
  },
  {
   "cell_type": "code",
   "execution_count": 2,
   "id": "innovative-syndrome",
   "metadata": {
    "execution": {
     "iopub.execute_input": "2021-08-31T12:00:07.936055Z",
     "iopub.status.busy": "2021-08-31T12:00:07.933649Z",
     "iopub.status.idle": "2021-08-31T12:00:08.107814Z",
     "shell.execute_reply": "2021-08-31T12:00:08.109043Z"
    },
    "papermill": {
     "duration": 0.204079,
     "end_time": "2021-08-31T12:00:08.109442",
     "exception": false,
     "start_time": "2021-08-31T12:00:07.905363",
     "status": "completed"
    },
    "tags": []
   },
   "outputs": [],
   "source": [
    "timestamps = pd.read_sql(\"select distinct record_time from EBAY_TOP_BERLIN order by record_time desc limit 2\", sqlite3.connect(\"UsedObjects.db\"))"
   ]
  },
  {
   "cell_type": "code",
   "execution_count": 3,
   "id": "periodic-identification",
   "metadata": {
    "execution": {
     "iopub.execute_input": "2021-08-31T12:00:08.177691Z",
     "iopub.status.busy": "2021-08-31T12:00:08.175662Z",
     "iopub.status.idle": "2021-08-31T12:00:08.197722Z",
     "shell.execute_reply": "2021-08-31T12:00:08.199458Z"
    },
    "papermill": {
     "duration": 0.068309,
     "end_time": "2021-08-31T12:00:08.199992",
     "exception": false,
     "start_time": "2021-08-31T12:00:08.131683",
     "status": "completed"
    },
    "tags": []
   },
   "outputs": [
    {
     "data": {
      "text/html": [
       "<div>\n",
       "<style scoped>\n",
       "    .dataframe tbody tr th:only-of-type {\n",
       "        vertical-align: middle;\n",
       "    }\n",
       "\n",
       "    .dataframe tbody tr th {\n",
       "        vertical-align: top;\n",
       "    }\n",
       "\n",
       "    .dataframe thead th {\n",
       "        text-align: right;\n",
       "    }\n",
       "</style>\n",
       "<table border=\"1\" class=\"dataframe\">\n",
       "  <thead>\n",
       "    <tr style=\"text-align: right;\">\n",
       "      <th></th>\n",
       "      <th>RECORD_TIME</th>\n",
       "    </tr>\n",
       "  </thead>\n",
       "  <tbody>\n",
       "    <tr>\n",
       "      <th>0</th>\n",
       "      <td>2021-08-31 14:00</td>\n",
       "    </tr>\n",
       "    <tr>\n",
       "      <th>1</th>\n",
       "      <td>2021-08-31 13:30</td>\n",
       "    </tr>\n",
       "  </tbody>\n",
       "</table>\n",
       "</div>"
      ],
      "text/plain": [
       "        RECORD_TIME\n",
       "0  2021-08-31 14:00\n",
       "1  2021-08-31 13:30"
      ]
     },
     "execution_count": 3,
     "metadata": {},
     "output_type": "execute_result"
    }
   ],
   "source": [
    "timestamps"
   ]
  },
  {
   "cell_type": "code",
   "execution_count": 4,
   "id": "alternate-victory",
   "metadata": {
    "execution": {
     "iopub.execute_input": "2021-08-31T12:00:08.252409Z",
     "iopub.status.busy": "2021-08-31T12:00:08.250464Z",
     "iopub.status.idle": "2021-08-31T12:00:08.506201Z",
     "shell.execute_reply": "2021-08-31T12:00:08.507570Z"
    },
    "papermill": {
     "duration": 0.285764,
     "end_time": "2021-08-31T12:00:08.508002",
     "exception": false,
     "start_time": "2021-08-31T12:00:08.222238",
     "status": "completed"
    },
    "tags": []
   },
   "outputs": [],
   "source": [
    "df = pd.read_sql(\"select * from EBAY_TOP_BERLIN where record_time in (select distinct record_time from EBAY_TOP_BERLIN order by record_time desc limit 2)\", sqlite3.connect(\"UsedObjects.db\"))"
   ]
  },
  {
   "cell_type": "code",
   "execution_count": 5,
   "id": "popular-active",
   "metadata": {
    "execution": {
     "iopub.execute_input": "2021-08-31T12:00:08.588726Z",
     "iopub.status.busy": "2021-08-31T12:00:08.576934Z",
     "iopub.status.idle": "2021-08-31T12:00:08.604329Z",
     "shell.execute_reply": "2021-08-31T12:00:08.605569Z"
    },
    "papermill": {
     "duration": 0.071944,
     "end_time": "2021-08-31T12:00:08.605967",
     "exception": false,
     "start_time": "2021-08-31T12:00:08.534023",
     "status": "completed"
    },
    "tags": []
   },
   "outputs": [],
   "source": [
    "df_pivot = df.pivot_table(index=\"PRODUCT\", columns = \"RECORD_TIME\", values = \"LISTING_COUNT\")"
   ]
  },
  {
   "cell_type": "code",
   "execution_count": 6,
   "id": "union-huntington",
   "metadata": {
    "execution": {
     "iopub.execute_input": "2021-08-31T12:00:08.665390Z",
     "iopub.status.busy": "2021-08-31T12:00:08.662935Z",
     "iopub.status.idle": "2021-08-31T12:00:08.668582Z",
     "shell.execute_reply": "2021-08-31T12:00:08.670248Z"
    },
    "papermill": {
     "duration": 0.042501,
     "end_time": "2021-08-31T12:00:08.670676",
     "exception": false,
     "start_time": "2021-08-31T12:00:08.628175",
     "status": "completed"
    },
    "tags": []
   },
   "outputs": [],
   "source": [
    "df_pivot.columns = [\"stamp_1\", \"stamp_2\"]\n",
    "df_pivot_diff = df_pivot.diff(axis=1)"
   ]
  },
  {
   "cell_type": "code",
   "execution_count": 7,
   "id": "fifth-motion",
   "metadata": {
    "execution": {
     "iopub.execute_input": "2021-08-31T12:00:08.724568Z",
     "iopub.status.busy": "2021-08-31T12:00:08.722034Z",
     "iopub.status.idle": "2021-08-31T12:00:10.230403Z",
     "shell.execute_reply": "2021-08-31T12:00:10.231681Z"
    },
    "papermill": {
     "duration": 1.541484,
     "end_time": "2021-08-31T12:00:10.232122",
     "exception": false,
     "start_time": "2021-08-31T12:00:08.690638",
     "status": "completed"
    },
    "tags": []
   },
   "outputs": [
    {
     "data": {
      "text/plain": [
       "<AxesSubplot:ylabel='PRODUCT'>"
      ]
     },
     "execution_count": 7,
     "metadata": {},
     "output_type": "execute_result"
    },
    {
     "data": {
      "image/png": "[encoded data removed]",
      "text/plain": [
       "<Figure size 432x288 with 1 Axes>"
      ]
     },
     "metadata": {
      "needs_background": "light"
     },
     "output_type": "display_data"
    }
   ],
   "source": [
    "df_pivot_diff.sort_values(\"stamp_2\", ascending = False)[\"stamp_2\"].head(10).plot.barh()"
   ]
  },
  {
   "cell_type": "code",
   "execution_count": null,
   "id": "extra-executive",
   "metadata": {
    "papermill": {
     "duration": 0.022005,
     "end_time": "2021-08-31T12:00:10.277753",
     "exception": false,
     "start_time": "2021-08-31T12:00:10.255748",
     "status": "completed"
    },
    "tags": []
   },
   "outputs": [],
   "source": []
  }
 ],
 "metadata": {
  "kernelspec": {
   "display_name": "Python 3",
   "language": "python",
   "name": "python3"
  },
  "language_info": {
   "codemirror_mode": {
    "name": "ipython",
    "version": 3
   },
   "file_extension": ".py",
   "mimetype": "text/x-python",
   "name": "python",
   "nbconvert_exporter": "python",
   "pygments_lexer": "ipython3",
   "version": "3.9.5"
  },
  "papermill": {
   "default_parameters": {},
   "duration": 6.816656,
   "end_time": "2021-08-31T12:00:11.456579",
   "environment_variables": {},
   "exception": null,
   "input_path": "eBay_Overview.ipynb",
   "output_path": "eBay_Overview.ipynb",
   "parameters": {},
   "start_time": "2021-08-31T12:00:04.639923",
   "version": "2.3.3"
  }
 },
 "nbformat": 4,
 "nbformat_minor": 5
}