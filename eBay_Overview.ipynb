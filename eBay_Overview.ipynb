{
 "cells": [
  {
   "cell_type": "code",
   "execution_count": 1,
   "id": "reverse-picking",
   "metadata": {
    "execution": {
     "iopub.execute_input": "2021-09-24T04:30:07.290614Z",
     "iopub.status.busy": "2021-09-24T04:30:07.288690Z",
     "iopub.status.idle": "2021-09-24T04:30:08.094329Z",
     "shell.execute_reply": "2021-09-24T04:30:08.095762Z"
    },
    "papermill": {
     "duration": 0.857805,
     "end_time": "2021-09-24T04:30:08.096434",
     "exception": false,
     "start_time": "2021-09-24T04:30:07.238629",
     "status": "completed"
    },
    "tags": []
   },
   "outputs": [],
   "source": [
    "import pandas as pd\n",
    "import sqlite3"
   ]
  },
  {
   "cell_type": "code",
   "execution_count": 2,
   "id": "innovative-syndrome",
   "metadata": {
    "execution": {
     "iopub.execute_input": "2021-09-24T04:30:08.147191Z",
     "iopub.status.busy": "2021-09-24T04:30:08.145161Z",
     "iopub.status.idle": "2021-09-24T04:30:08.503712Z",
     "shell.execute_reply": "2021-09-24T04:30:08.504981Z"
    },
    "papermill": {
     "duration": 0.388709,
     "end_time": "2021-09-24T04:30:08.505377",
     "exception": false,
     "start_time": "2021-09-24T04:30:08.116668",
     "status": "completed"
    },
    "tags": []
   },
   "outputs": [],
   "source": [
    "timestamps = pd.read_sql(\"select distinct record_time from EBAY_TOP_BERLIN order by record_time desc limit 2\", sqlite3.connect(\"UsedObjects.db\"))"
   ]
  },
  {
   "cell_type": "code",
   "execution_count": 3,
   "id": "periodic-identification",
   "metadata": {
    "execution": {
     "iopub.execute_input": "2021-09-24T04:30:08.570329Z",
     "iopub.status.busy": "2021-09-24T04:30:08.568330Z",
     "iopub.status.idle": "2021-09-24T04:30:08.587852Z",
     "shell.execute_reply": "2021-09-24T04:30:08.589191Z"
    },
    "papermill": {
     "duration": 0.064927,
     "end_time": "2021-09-24T04:30:08.589598",
     "exception": false,
     "start_time": "2021-09-24T04:30:08.524671",
     "status": "completed"
    },
    "tags": []
   },
   "outputs": [
    {
     "data": {
      "text/html": [
       "<div>\n",
       "<style scoped>\n",
       "    .dataframe tbody tr th:only-of-type {\n",
       "        vertical-align: middle;\n",
       "    }\n",
       "\n",
       "    .dataframe tbody tr th {\n",
       "        vertical-align: top;\n",
       "    }\n",
       "\n",
       "    .dataframe thead th {\n",
       "        text-align: right;\n",
       "    }\n",
       "</style>\n",
       "<table border=\"1\" class=\"dataframe\">\n",
       "  <thead>\n",
       "    <tr style=\"text-align: right;\">\n",
       "      <th></th>\n",
       "      <th>RECORD_TIME</th>\n",
       "    </tr>\n",
       "  </thead>\n",
       "  <tbody>\n",
       "    <tr>\n",
       "      <th>0</th>\n",
       "      <td>2021-09-24 06:30</td>\n",
       "    </tr>\n",
       "    <tr>\n",
       "      <th>1</th>\n",
       "      <td>2021-09-24 06:00</td>\n",
       "    </tr>\n",
       "  </tbody>\n",
       "</table>\n",
       "</div>"
      ],
      "text/plain": [
       "        RECORD_TIME\n",
       "0  2021-09-24 06:30\n",
       "1  2021-09-24 06:00"
      ]
     },
     "execution_count": 3,
     "metadata": {},
     "output_type": "execute_result"
    }
   ],
   "source": [
    "timestamps"
   ]
  },
  {
   "cell_type": "code",
   "execution_count": 4,
   "id": "alternate-victory",
   "metadata": {
    "execution": {
     "iopub.execute_input": "2021-09-24T04:30:08.640124Z",
     "iopub.status.busy": "2021-09-24T04:30:08.638156Z",
     "iopub.status.idle": "2021-09-24T04:30:09.160281Z",
     "shell.execute_reply": "2021-09-24T04:30:09.161510Z"
    },
    "papermill": {
     "duration": 0.551954,
     "end_time": "2021-09-24T04:30:09.161903",
     "exception": false,
     "start_time": "2021-09-24T04:30:08.609949",
     "status": "completed"
    },
    "tags": []
   },
   "outputs": [],
   "source": [
    "df = pd.read_sql(\"select * from EBAY_TOP_BERLIN where record_time in (select distinct record_time from EBAY_TOP_BERLIN order by record_time desc limit 2)\", sqlite3.connect(\"UsedObjects.db\"))"
   ]
  },
  {
   "cell_type": "code",
   "execution_count": 5,
   "id": "popular-active",
   "metadata": {
    "execution": {
     "iopub.execute_input": "2021-09-24T04:30:09.242998Z",
     "iopub.status.busy": "2021-09-24T04:30:09.236060Z",
     "iopub.status.idle": "2021-09-24T04:30:09.258712Z",
     "shell.execute_reply": "2021-09-24T04:30:09.260056Z"
    },
    "papermill": {
     "duration": 0.071596,
     "end_time": "2021-09-24T04:30:09.260463",
     "exception": false,
     "start_time": "2021-09-24T04:30:09.188867",
     "status": "completed"
    },
    "tags": []
   },
   "outputs": [],
   "source": [
    "df_pivot = df.pivot_table(index=\"PRODUCT\", columns = \"RECORD_TIME\", values = \"LISTING_COUNT\")"
   ]
  },
  {
   "cell_type": "code",
   "execution_count": 6,
   "id": "union-huntington",
   "metadata": {
    "execution": {
     "iopub.execute_input": "2021-09-24T04:30:09.316043Z",
     "iopub.status.busy": "2021-09-24T04:30:09.313942Z",
     "iopub.status.idle": "2021-09-24T04:30:09.319195Z",
     "shell.execute_reply": "2021-09-24T04:30:09.320495Z"
    },
    "papermill": {
     "duration": 0.040391,
     "end_time": "2021-09-24T04:30:09.320907",
     "exception": false,
     "start_time": "2021-09-24T04:30:09.280516",
     "status": "completed"
    },
    "tags": []
   },
   "outputs": [],
   "source": [
    "df_pivot.columns = [\"stamp_1\", \"stamp_2\"]\n",
    "df_pivot_diff = df_pivot.diff(axis=1)"
   ]
  },
  {
   "cell_type": "code",
   "execution_count": 7,
   "id": "fifth-motion",
   "metadata": {
    "execution": {
     "iopub.execute_input": "2021-09-24T04:30:09.375967Z",
     "iopub.status.busy": "2021-09-24T04:30:09.373398Z",
     "iopub.status.idle": "2021-09-24T04:30:10.852337Z",
     "shell.execute_reply": "2021-09-24T04:30:10.853927Z"
    },
    "papermill": {
     "duration": 1.512284,
     "end_time": "2021-09-24T04:30:10.854418",
     "exception": false,
     "start_time": "2021-09-24T04:30:09.342134",
     "status": "completed"
    },
    "tags": []
   },
   "outputs": [
    {
     "data": {
      "text/plain": [
       "<AxesSubplot:ylabel='PRODUCT'>"
      ]
     },
     "execution_count": 7,
     "metadata": {},
     "output_type": "execute_result"
    },
    {
     "data": {
      "image/png": "[encoded data removed]",
      "text/plain": [
       "<Figure size 432x288 with 1 Axes>"
      ]
     },
     "metadata": {
      "needs_background": "light"
     },
     "output_type": "display_data"
    }
   ],
   "source": [
    "df_pivot_diff.sort_values(\"stamp_2\", ascending = False)[\"stamp_2\"].head(10).plot.barh()"
   ]
  },
  {
   "cell_type": "code",
   "execution_count": null,
   "id": "extra-executive",
   "metadata": {
    "papermill": {
     "duration": 0.022146,
     "end_time": "2021-09-24T04:30:10.900551",
     "exception": false,
     "start_time": "2021-09-24T04:30:10.878405",
     "status": "completed"
    },
    "tags": []
   },
   "outputs": [],
   "source": []
  }
 ],
 "metadata": {
  "kernelspec": {
   "display_name": "Python 3",
   "language": "python",
   "name": "python3"
  },
  "language_info": {
   "codemirror_mode": {
    "name": "ipython",
    "version": 3
   },
   "file_extension": ".py",
   "mimetype": "text/x-python",
   "name": "python",
   "nbconvert_exporter": "python",
   "pygments_lexer": "ipython3",
   "version": "3.9.5"
  },
  "papermill": {
   "default_parameters": {},
   "duration": 6.701878,
   "end_time": "2021-09-24T04:30:11.542954",
   "environment_variables": {},
   "exception": null,
   "input_path": "eBay_Overview.ipynb",
   "output_path": "eBay_Overview.ipynb",
   "parameters": {},
   "start_time": "2021-09-24T04:30:04.841076",
   "version": "2.3.3"
  }
 },
 "nbformat": 4,
 "nbformat_minor": 5
}