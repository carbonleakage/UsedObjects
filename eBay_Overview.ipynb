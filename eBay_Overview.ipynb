{
 "cells": [
  {
   "cell_type": "code",
   "execution_count": 1,
   "id": "reverse-picking",
   "metadata": {
    "execution": {
     "iopub.execute_input": "2021-09-26T23:00:06.660449Z",
     "iopub.status.busy": "2021-09-26T23:00:06.658423Z",
     "iopub.status.idle": "2021-09-26T23:00:07.464641Z",
     "shell.execute_reply": "2021-09-26T23:00:07.465863Z"
    },
    "papermill": {
     "duration": 0.858067,
     "end_time": "2021-09-26T23:00:07.466476",
     "exception": false,
     "start_time": "2021-09-26T23:00:06.608409",
     "status": "completed"
    },
    "tags": []
   },
   "outputs": [],
   "source": [
    "import pandas as pd\n",
    "import sqlite3"
   ]
  },
  {
   "cell_type": "code",
   "execution_count": 2,
   "id": "innovative-syndrome",
   "metadata": {
    "execution": {
     "iopub.execute_input": "2021-09-26T23:00:07.517265Z",
     "iopub.status.busy": "2021-09-26T23:00:07.515403Z",
     "iopub.status.idle": "2021-09-26T23:00:07.898598Z",
     "shell.execute_reply": "2021-09-26T23:00:07.899871Z"
    },
    "papermill": {
     "duration": 0.412832,
     "end_time": "2021-09-26T23:00:07.900269",
     "exception": false,
     "start_time": "2021-09-26T23:00:07.487437",
     "status": "completed"
    },
    "tags": []
   },
   "outputs": [],
   "source": [
    "timestamps = pd.read_sql(\"select distinct record_time from EBAY_TOP_BERLIN order by record_time desc limit 2\", sqlite3.connect(\"UsedObjects.db\"))"
   ]
  },
  {
   "cell_type": "code",
   "execution_count": 3,
   "id": "periodic-identification",
   "metadata": {
    "execution": {
     "iopub.execute_input": "2021-09-26T23:00:07.968737Z",
     "iopub.status.busy": "2021-09-26T23:00:07.963521Z",
     "iopub.status.idle": "2021-09-26T23:00:07.983280Z",
     "shell.execute_reply": "2021-09-26T23:00:07.984412Z"
    },
    "papermill": {
     "duration": 0.063935,
     "end_time": "2021-09-26T23:00:07.984820",
     "exception": false,
     "start_time": "2021-09-26T23:00:07.920885",
     "status": "completed"
    },
    "tags": []
   },
   "outputs": [
    {
     "data": {
      "text/html": [
       "<div>\n",
       "<style scoped>\n",
       "    .dataframe tbody tr th:only-of-type {\n",
       "        vertical-align: middle;\n",
       "    }\n",
       "\n",
       "    .dataframe tbody tr th {\n",
       "        vertical-align: top;\n",
       "    }\n",
       "\n",
       "    .dataframe thead th {\n",
       "        text-align: right;\n",
       "    }\n",
       "</style>\n",
       "<table border=\"1\" class=\"dataframe\">\n",
       "  <thead>\n",
       "    <tr style=\"text-align: right;\">\n",
       "      <th></th>\n",
       "      <th>RECORD_TIME</th>\n",
       "    </tr>\n",
       "  </thead>\n",
       "  <tbody>\n",
       "    <tr>\n",
       "      <th>0</th>\n",
       "      <td>2021-09-27 01:00</td>\n",
       "    </tr>\n",
       "    <tr>\n",
       "      <th>1</th>\n",
       "      <td>2021-09-27 00:30</td>\n",
       "    </tr>\n",
       "  </tbody>\n",
       "</table>\n",
       "</div>"
      ],
      "text/plain": [
       "        RECORD_TIME\n",
       "0  2021-09-27 01:00\n",
       "1  2021-09-27 00:30"
      ]
     },
     "execution_count": 3,
     "metadata": {},
     "output_type": "execute_result"
    }
   ],
   "source": [
    "timestamps"
   ]
  },
  {
   "cell_type": "code",
   "execution_count": 4,
   "id": "alternate-victory",
   "metadata": {
    "execution": {
     "iopub.execute_input": "2021-09-26T23:00:08.039286Z",
     "iopub.status.busy": "2021-09-26T23:00:08.036947Z",
     "iopub.status.idle": "2021-09-26T23:00:08.609049Z",
     "shell.execute_reply": "2021-09-26T23:00:08.610241Z"
    },
    "papermill": {
     "duration": 0.602496,
     "end_time": "2021-09-26T23:00:08.610630",
     "exception": false,
     "start_time": "2021-09-26T23:00:08.008134",
     "status": "completed"
    },
    "tags": []
   },
   "outputs": [],
   "source": [
    "df = pd.read_sql(\"select * from EBAY_TOP_BERLIN where record_time in (select distinct record_time from EBAY_TOP_BERLIN order by record_time desc limit 2)\", sqlite3.connect(\"UsedObjects.db\"))"
   ]
  },
  {
   "cell_type": "code",
   "execution_count": 5,
   "id": "popular-active",
   "metadata": {
    "execution": {
     "iopub.execute_input": "2021-09-26T23:00:08.701664Z",
     "iopub.status.busy": "2021-09-26T23:00:08.687615Z",
     "iopub.status.idle": "2021-09-26T23:00:08.717231Z",
     "shell.execute_reply": "2021-09-26T23:00:08.718436Z"
    },
    "papermill": {
     "duration": 0.075664,
     "end_time": "2021-09-26T23:00:08.719008",
     "exception": false,
     "start_time": "2021-09-26T23:00:08.643344",
     "status": "completed"
    },
    "tags": []
   },
   "outputs": [],
   "source": [
    "df_pivot = df.pivot_table(index=\"PRODUCT\", columns = \"RECORD_TIME\", values = \"LISTING_COUNT\")"
   ]
  },
  {
   "cell_type": "code",
   "execution_count": 6,
   "id": "union-huntington",
   "metadata": {
    "execution": {
     "iopub.execute_input": "2021-09-26T23:00:08.778021Z",
     "iopub.status.busy": "2021-09-26T23:00:08.775585Z",
     "iopub.status.idle": "2021-09-26T23:00:08.781512Z",
     "shell.execute_reply": "2021-09-26T23:00:08.782770Z"
    },
    "papermill": {
     "duration": 0.042177,
     "end_time": "2021-09-26T23:00:08.783242",
     "exception": false,
     "start_time": "2021-09-26T23:00:08.741065",
     "status": "completed"
    },
    "tags": []
   },
   "outputs": [],
   "source": [
    "df_pivot.columns = [\"stamp_1\", \"stamp_2\"]\n",
    "df_pivot_diff = df_pivot.diff(axis=1)"
   ]
  },
  {
   "cell_type": "code",
   "execution_count": 7,
   "id": "fifth-motion",
   "metadata": {
    "execution": {
     "iopub.execute_input": "2021-09-26T23:00:08.837628Z",
     "iopub.status.busy": "2021-09-26T23:00:08.835352Z",
     "iopub.status.idle": "2021-09-26T23:00:10.312266Z",
     "shell.execute_reply": "2021-09-26T23:00:10.313547Z"
    },
    "papermill": {
     "duration": 1.510193,
     "end_time": "2021-09-26T23:00:10.313963",
     "exception": false,
     "start_time": "2021-09-26T23:00:08.803770",
     "status": "completed"
    },
    "tags": []
   },
   "outputs": [
    {
     "data": {
      "text/plain": [
       "<AxesSubplot:ylabel='PRODUCT'>"
      ]
     },
     "execution_count": 7,
     "metadata": {},
     "output_type": "execute_result"
    },
    {
     "data": {
      "image/png": "[encoded data removed]",
      "text/plain": [
       "<Figure size 432x288 with 1 Axes>"
      ]
     },
     "metadata": {
      "needs_background": "light"
     },
     "output_type": "display_data"
    }
   ],
   "source": [
    "df_pivot_diff.sort_values(\"stamp_2\", ascending = False)[\"stamp_2\"].head(10).plot.barh()"
   ]
  },
  {
   "cell_type": "code",
   "execution_count": null,
   "id": "extra-executive",
   "metadata": {
    "papermill": {
     "duration": 0.022226,
     "end_time": "2021-09-26T23:00:10.360794",
     "exception": false,
     "start_time": "2021-09-26T23:00:10.338568",
     "status": "completed"
    },
    "tags": []
   },
   "outputs": [],
   "source": []
  }
 ],
 "metadata": {
  "kernelspec": {
   "display_name": "Python 3",
   "language": "python",
   "name": "python3"
  },
  "language_info": {
   "codemirror_mode": {
    "name": "ipython",
    "version": 3
   },
   "file_extension": ".py",
   "mimetype": "text/x-python",
   "name": "python",
   "nbconvert_exporter": "python",
   "pygments_lexer": "ipython3",
   "version": "3.9.5"
  },
  "papermill": {
   "default_parameters": {},
   "duration": 6.800727,
   "end_time": "2021-09-26T23:00:11.002032",
   "environment_variables": {},
   "exception": null,
   "input_path": "eBay_Overview.ipynb",
   "output_path": "eBay_Overview.ipynb",
   "parameters": {},
   "start_time": "2021-09-26T23:00:04.201305",
   "version": "2.3.3"
  }
 },
 "nbformat": 4,
 "nbformat_minor": 5
}