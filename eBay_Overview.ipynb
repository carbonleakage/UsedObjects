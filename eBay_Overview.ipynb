{
 "cells": [
  {
   "cell_type": "code",
   "execution_count": 1,
   "id": "reverse-picking",
   "metadata": {
    "execution": {
     "iopub.execute_input": "2021-12-17T15:30:07.497348Z",
     "iopub.status.busy": "2021-12-17T15:30:07.494877Z",
     "iopub.status.idle": "2021-12-17T15:30:08.454029Z",
     "shell.execute_reply": "2021-12-17T15:30:08.455768Z"
    },
    "papermill": {
     "duration": 1.011013,
     "end_time": "2021-12-17T15:30:08.456549",
     "exception": false,
     "start_time": "2021-12-17T15:30:07.445536",
     "status": "completed"
    },
    "tags": []
   },
   "outputs": [],
   "source": [
    "import pandas as pd\n",
    "import sqlite3"
   ]
  },
  {
   "cell_type": "code",
   "execution_count": 2,
   "id": "innovative-syndrome",
   "metadata": {
    "execution": {
     "iopub.execute_input": "2021-12-17T15:30:08.518162Z",
     "iopub.status.busy": "2021-12-17T15:30:08.515663Z",
     "iopub.status.idle": "2021-12-17T15:30:09.619703Z",
     "shell.execute_reply": "2021-12-17T15:30:09.621047Z"
    },
    "papermill": {
     "duration": 1.137657,
     "end_time": "2021-12-17T15:30:09.621499",
     "exception": false,
     "start_time": "2021-12-17T15:30:08.483842",
     "status": "completed"
    },
    "tags": []
   },
   "outputs": [],
   "source": [
    "timestamps = pd.read_sql(\"select distinct record_time from EBAY_TOP_BERLIN order by record_time desc limit 2\", sqlite3.connect(\"UsedObjects.db\"))"
   ]
  },
  {
   "cell_type": "code",
   "execution_count": 3,
   "id": "periodic-identification",
   "metadata": {
    "execution": {
     "iopub.execute_input": "2021-12-17T15:30:09.689806Z",
     "iopub.status.busy": "2021-12-17T15:30:09.687702Z",
     "iopub.status.idle": "2021-12-17T15:30:09.708516Z",
     "shell.execute_reply": "2021-12-17T15:30:09.710252Z"
    },
    "papermill": {
     "duration": 0.068993,
     "end_time": "2021-12-17T15:30:09.710743",
     "exception": false,
     "start_time": "2021-12-17T15:30:09.641750",
     "status": "completed"
    },
    "tags": []
   },
   "outputs": [
    {
     "data": {
      "text/html": [
       "<div>\n",
       "<style scoped>\n",
       "    .dataframe tbody tr th:only-of-type {\n",
       "        vertical-align: middle;\n",
       "    }\n",
       "\n",
       "    .dataframe tbody tr th {\n",
       "        vertical-align: top;\n",
       "    }\n",
       "\n",
       "    .dataframe thead th {\n",
       "        text-align: right;\n",
       "    }\n",
       "</style>\n",
       "<table border=\"1\" class=\"dataframe\">\n",
       "  <thead>\n",
       "    <tr style=\"text-align: right;\">\n",
       "      <th></th>\n",
       "      <th>RECORD_TIME</th>\n",
       "    </tr>\n",
       "  </thead>\n",
       "  <tbody>\n",
       "    <tr>\n",
       "      <th>0</th>\n",
       "      <td>2021-12-17 16:30</td>\n",
       "    </tr>\n",
       "    <tr>\n",
       "      <th>1</th>\n",
       "      <td>2021-12-17 16:00</td>\n",
       "    </tr>\n",
       "  </tbody>\n",
       "</table>\n",
       "</div>"
      ],
      "text/plain": [
       "        RECORD_TIME\n",
       "0  2021-12-17 16:30\n",
       "1  2021-12-17 16:00"
      ]
     },
     "execution_count": 3,
     "metadata": {},
     "output_type": "execute_result"
    }
   ],
   "source": [
    "timestamps"
   ]
  },
  {
   "cell_type": "code",
   "execution_count": 4,
   "id": "alternate-victory",
   "metadata": {
    "execution": {
     "iopub.execute_input": "2021-12-17T15:30:09.765113Z",
     "iopub.status.busy": "2021-12-17T15:30:09.762913Z",
     "iopub.status.idle": "2021-12-17T15:30:11.396774Z",
     "shell.execute_reply": "2021-12-17T15:30:11.398181Z"
    },
    "papermill": {
     "duration": 1.666688,
     "end_time": "2021-12-17T15:30:11.398688",
     "exception": false,
     "start_time": "2021-12-17T15:30:09.732000",
     "status": "completed"
    },
    "tags": []
   },
   "outputs": [],
   "source": [
    "df = pd.read_sql(\"select * from EBAY_TOP_BERLIN where record_time in (select distinct record_time from EBAY_TOP_BERLIN order by record_time desc limit 2)\", sqlite3.connect(\"UsedObjects.db\"))"
   ]
  },
  {
   "cell_type": "code",
   "execution_count": 5,
   "id": "popular-active",
   "metadata": {
    "execution": {
     "iopub.execute_input": "2021-12-17T15:30:11.461572Z",
     "iopub.status.busy": "2021-12-17T15:30:11.459005Z",
     "iopub.status.idle": "2021-12-17T15:30:11.494201Z",
     "shell.execute_reply": "2021-12-17T15:30:11.495576Z"
    },
    "papermill": {
     "duration": 0.076323,
     "end_time": "2021-12-17T15:30:11.496047",
     "exception": false,
     "start_time": "2021-12-17T15:30:11.419724",
     "status": "completed"
    },
    "tags": []
   },
   "outputs": [],
   "source": [
    "df_pivot = df.pivot_table(index=\"PRODUCT\", columns = \"RECORD_TIME\", values = \"LISTING_COUNT\")"
   ]
  },
  {
   "cell_type": "code",
   "execution_count": 6,
   "id": "union-huntington",
   "metadata": {
    "execution": {
     "iopub.execute_input": "2021-12-17T15:30:11.554631Z",
     "iopub.status.busy": "2021-12-17T15:30:11.552371Z",
     "iopub.status.idle": "2021-12-17T15:30:11.557858Z",
     "shell.execute_reply": "2021-12-17T15:30:11.559214Z"
    },
    "papermill": {
     "duration": 0.043879,
     "end_time": "2021-12-17T15:30:11.559688",
     "exception": false,
     "start_time": "2021-12-17T15:30:11.515809",
     "status": "completed"
    },
    "tags": []
   },
   "outputs": [],
   "source": [
    "df_pivot.columns = [\"stamp_1\", \"stamp_2\"]\n",
    "df_pivot_diff = df_pivot.diff(axis=1)"
   ]
  },
  {
   "cell_type": "code",
   "execution_count": 7,
   "id": "fifth-motion",
   "metadata": {
    "execution": {
     "iopub.execute_input": "2021-12-17T15:30:11.617445Z",
     "iopub.status.busy": "2021-12-17T15:30:11.614684Z",
     "iopub.status.idle": "2021-12-17T15:30:13.629622Z",
     "shell.execute_reply": "2021-12-17T15:30:13.631112Z"
    },
    "papermill": {
     "duration": 2.05167,
     "end_time": "2021-12-17T15:30:13.631632",
     "exception": false,
     "start_time": "2021-12-17T15:30:11.579962",
     "status": "completed"
    },
    "tags": []
   },
   "outputs": [
    {
     "data": {
      "text/plain": [
       "<AxesSubplot:ylabel='PRODUCT'>"
      ]
     },
     "execution_count": 7,
     "metadata": {},
     "output_type": "execute_result"
    },
    {
     "data": {
      "image/png": "[encoded data removed]",
      "text/plain": [
       "<Figure size 432x288 with 1 Axes>"
      ]
     },
     "metadata": {
      "needs_background": "light"
     },
     "output_type": "display_data"
    }
   ],
   "source": [
    "df_pivot_diff.sort_values(\"stamp_2\", ascending = False)[\"stamp_2\"].head(10).plot.barh()"
   ]
  },
  {
   "cell_type": "code",
   "execution_count": null,
   "id": "extra-executive",
   "metadata": {
    "papermill": {
     "duration": 0.026411,
     "end_time": "2021-12-17T15:30:13.691717",
     "exception": false,
     "start_time": "2021-12-17T15:30:13.665306",
     "status": "completed"
    },
    "tags": []
   },
   "outputs": [],
   "source": []
  }
 ],
 "metadata": {
  "kernelspec": {
   "display_name": "Python 3",
   "language": "python",
   "name": "python3"
  },
  "language_info": {
   "codemirror_mode": {
    "name": "ipython",
    "version": 3
   },
   "file_extension": ".py",
   "mimetype": "text/x-python",
   "name": "python",
   "nbconvert_exporter": "python",
   "pygments_lexer": "ipython3",
   "version": "3.9.5"
  },
  "papermill": {
   "default_parameters": {},
   "duration": 9.635151,
   "end_time": "2021-12-17T15:30:14.350440",
   "environment_variables": {},
   "exception": null,
   "input_path": "eBay_Overview.ipynb",
   "output_path": "eBay_Overview.ipynb",
   "parameters": {},
   "start_time": "2021-12-17T15:30:04.715289",
   "version": "2.3.3"
  }
 },
 "nbformat": 4,
 "nbformat_minor": 5
}