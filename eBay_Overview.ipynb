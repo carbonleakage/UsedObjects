{
 "cells": [
  {
   "cell_type": "code",
   "execution_count": 1,
   "id": "reverse-picking",
   "metadata": {
    "execution": {
     "iopub.execute_input": "2021-09-20T22:00:07.137263Z",
     "iopub.status.busy": "2021-09-20T22:00:07.135340Z",
     "iopub.status.idle": "2021-09-20T22:00:07.939299Z",
     "shell.execute_reply": "2021-09-20T22:00:07.937578Z"
    },
    "papermill": {
     "duration": 0.854618,
     "end_time": "2021-09-20T22:00:07.939725",
     "exception": false,
     "start_time": "2021-09-20T22:00:07.085107",
     "status": "completed"
    },
    "tags": []
   },
   "outputs": [],
   "source": [
    "import pandas as pd\n",
    "import sqlite3"
   ]
  },
  {
   "cell_type": "code",
   "execution_count": 2,
   "id": "innovative-syndrome",
   "metadata": {
    "execution": {
     "iopub.execute_input": "2021-09-20T22:00:07.990892Z",
     "iopub.status.busy": "2021-09-20T22:00:07.988792Z",
     "iopub.status.idle": "2021-09-20T22:00:08.326638Z",
     "shell.execute_reply": "2021-09-20T22:00:08.327915Z"
    },
    "papermill": {
     "duration": 0.368163,
     "end_time": "2021-09-20T22:00:08.328313",
     "exception": false,
     "start_time": "2021-09-20T22:00:07.960150",
     "status": "completed"
    },
    "tags": []
   },
   "outputs": [],
   "source": [
    "timestamps = pd.read_sql(\"select distinct record_time from EBAY_TOP_BERLIN order by record_time desc limit 2\", sqlite3.connect(\"UsedObjects.db\"))"
   ]
  },
  {
   "cell_type": "code",
   "execution_count": 3,
   "id": "periodic-identification",
   "metadata": {
    "execution": {
     "iopub.execute_input": "2021-09-20T22:00:08.396060Z",
     "iopub.status.busy": "2021-09-20T22:00:08.390875Z",
     "iopub.status.idle": "2021-09-20T22:00:08.410702Z",
     "shell.execute_reply": "2021-09-20T22:00:08.412126Z"
    },
    "papermill": {
     "duration": 0.064527,
     "end_time": "2021-09-20T22:00:08.412548",
     "exception": false,
     "start_time": "2021-09-20T22:00:08.348021",
     "status": "completed"
    },
    "tags": []
   },
   "outputs": [
    {
     "data": {
      "text/html": [
       "<div>\n",
       "<style scoped>\n",
       "    .dataframe tbody tr th:only-of-type {\n",
       "        vertical-align: middle;\n",
       "    }\n",
       "\n",
       "    .dataframe tbody tr th {\n",
       "        vertical-align: top;\n",
       "    }\n",
       "\n",
       "    .dataframe thead th {\n",
       "        text-align: right;\n",
       "    }\n",
       "</style>\n",
       "<table border=\"1\" class=\"dataframe\">\n",
       "  <thead>\n",
       "    <tr style=\"text-align: right;\">\n",
       "      <th></th>\n",
       "      <th>RECORD_TIME</th>\n",
       "    </tr>\n",
       "  </thead>\n",
       "  <tbody>\n",
       "    <tr>\n",
       "      <th>0</th>\n",
       "      <td>2021-09-21 00:00</td>\n",
       "    </tr>\n",
       "    <tr>\n",
       "      <th>1</th>\n",
       "      <td>2021-09-20 23:30</td>\n",
       "    </tr>\n",
       "  </tbody>\n",
       "</table>\n",
       "</div>"
      ],
      "text/plain": [
       "        RECORD_TIME\n",
       "0  2021-09-21 00:00\n",
       "1  2021-09-20 23:30"
      ]
     },
     "execution_count": 3,
     "metadata": {},
     "output_type": "execute_result"
    }
   ],
   "source": [
    "timestamps"
   ]
  },
  {
   "cell_type": "code",
   "execution_count": 4,
   "id": "alternate-victory",
   "metadata": {
    "execution": {
     "iopub.execute_input": "2021-09-20T22:00:08.465656Z",
     "iopub.status.busy": "2021-09-20T22:00:08.463352Z",
     "iopub.status.idle": "2021-09-20T22:00:08.956786Z",
     "shell.execute_reply": "2021-09-20T22:00:08.958014Z"
    },
    "papermill": {
     "duration": 0.523798,
     "end_time": "2021-09-20T22:00:08.958408",
     "exception": false,
     "start_time": "2021-09-20T22:00:08.434610",
     "status": "completed"
    },
    "tags": []
   },
   "outputs": [],
   "source": [
    "df = pd.read_sql(\"select * from EBAY_TOP_BERLIN where record_time in (select distinct record_time from EBAY_TOP_BERLIN order by record_time desc limit 2)\", sqlite3.connect(\"UsedObjects.db\"))"
   ]
  },
  {
   "cell_type": "code",
   "execution_count": 5,
   "id": "popular-active",
   "metadata": {
    "execution": {
     "iopub.execute_input": "2021-09-20T22:00:09.029203Z",
     "iopub.status.busy": "2021-09-20T22:00:09.016750Z",
     "iopub.status.idle": "2021-09-20T22:00:09.044987Z",
     "shell.execute_reply": "2021-09-20T22:00:09.046275Z"
    },
    "papermill": {
     "duration": 0.067544,
     "end_time": "2021-09-20T22:00:09.046690",
     "exception": false,
     "start_time": "2021-09-20T22:00:08.979146",
     "status": "completed"
    },
    "tags": []
   },
   "outputs": [],
   "source": [
    "df_pivot = df.pivot_table(index=\"PRODUCT\", columns = \"RECORD_TIME\", values = \"LISTING_COUNT\")"
   ]
  },
  {
   "cell_type": "code",
   "execution_count": 6,
   "id": "union-huntington",
   "metadata": {
    "execution": {
     "iopub.execute_input": "2021-09-20T22:00:09.102560Z",
     "iopub.status.busy": "2021-09-20T22:00:09.100495Z",
     "iopub.status.idle": "2021-09-20T22:00:09.105622Z",
     "shell.execute_reply": "2021-09-20T22:00:09.106893Z"
    },
    "papermill": {
     "duration": 0.040342,
     "end_time": "2021-09-20T22:00:09.107331",
     "exception": false,
     "start_time": "2021-09-20T22:00:09.066989",
     "status": "completed"
    },
    "tags": []
   },
   "outputs": [],
   "source": [
    "df_pivot.columns = [\"stamp_1\", \"stamp_2\"]\n",
    "df_pivot_diff = df_pivot.diff(axis=1)"
   ]
  },
  {
   "cell_type": "code",
   "execution_count": 7,
   "id": "fifth-motion",
   "metadata": {
    "execution": {
     "iopub.execute_input": "2021-09-20T22:00:09.161602Z",
     "iopub.status.busy": "2021-09-20T22:00:09.159209Z",
     "iopub.status.idle": "2021-09-20T22:00:10.683208Z",
     "shell.execute_reply": "2021-09-20T22:00:10.684415Z"
    },
    "papermill": {
     "duration": 1.55681,
     "end_time": "2021-09-20T22:00:10.684843",
     "exception": false,
     "start_time": "2021-09-20T22:00:09.128033",
     "status": "completed"
    },
    "tags": []
   },
   "outputs": [
    {
     "data": {
      "text/plain": [
       "<AxesSubplot:ylabel='PRODUCT'>"
      ]
     },
     "execution_count": 7,
     "metadata": {},
     "output_type": "execute_result"
    },
    {
     "data": {
      "image/png": "[encoded data removed]",
      "text/plain": [
       "<Figure size 432x288 with 1 Axes>"
      ]
     },
     "metadata": {
      "needs_background": "light"
     },
     "output_type": "display_data"
    }
   ],
   "source": [
    "df_pivot_diff.sort_values(\"stamp_2\", ascending = False)[\"stamp_2\"].head(10).plot.barh()"
   ]
  },
  {
   "cell_type": "code",
   "execution_count": null,
   "id": "extra-executive",
   "metadata": {
    "papermill": {
     "duration": 0.022574,
     "end_time": "2021-09-20T22:00:10.731664",
     "exception": false,
     "start_time": "2021-09-20T22:00:10.709090",
     "status": "completed"
    },
    "tags": []
   },
   "outputs": [],
   "source": []
  }
 ],
 "metadata": {
  "kernelspec": {
   "display_name": "Python 3",
   "language": "python",
   "name": "python3"
  },
  "language_info": {
   "codemirror_mode": {
    "name": "ipython",
    "version": 3
   },
   "file_extension": ".py",
   "mimetype": "text/x-python",
   "name": "python",
   "nbconvert_exporter": "python",
   "pygments_lexer": "ipython3",
   "version": "3.9.5"
  },
  "papermill": {
   "default_parameters": {},
   "duration": 6.69789,
   "end_time": "2021-09-20T22:00:11.374696",
   "environment_variables": {},
   "exception": null,
   "input_path": "eBay_Overview.ipynb",
   "output_path": "eBay_Overview.ipynb",
   "parameters": {},
   "start_time": "2021-09-20T22:00:04.676806",
   "version": "2.3.3"
  }
 },
 "nbformat": 4,
 "nbformat_minor": 5
}