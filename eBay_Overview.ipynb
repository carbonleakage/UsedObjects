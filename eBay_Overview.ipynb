{
 "cells": [
  {
   "cell_type": "code",
   "execution_count": 1,
   "id": "reverse-picking",
   "metadata": {
    "execution": {
     "iopub.execute_input": "2021-08-18T21:00:07.056408Z",
     "iopub.status.busy": "2021-08-18T21:00:07.054448Z",
     "iopub.status.idle": "2021-08-18T21:00:07.860358Z",
     "shell.execute_reply": "2021-08-18T21:00:07.858789Z"
    },
    "papermill": {
     "duration": 0.858333,
     "end_time": "2021-08-18T21:00:07.860754",
     "exception": false,
     "start_time": "2021-08-18T21:00:07.002421",
     "status": "completed"
    },
    "tags": []
   },
   "outputs": [],
   "source": [
    "import pandas as pd\n",
    "import sqlite3"
   ]
  },
  {
   "cell_type": "code",
   "execution_count": 2,
   "id": "innovative-syndrome",
   "metadata": {
    "execution": {
     "iopub.execute_input": "2021-08-18T21:00:07.912357Z",
     "iopub.status.busy": "2021-08-18T21:00:07.910488Z",
     "iopub.status.idle": "2021-08-18T21:00:07.988272Z",
     "shell.execute_reply": "2021-08-18T21:00:07.989667Z"
    },
    "papermill": {
     "duration": 0.107663,
     "end_time": "2021-08-18T21:00:07.990146",
     "exception": false,
     "start_time": "2021-08-18T21:00:07.882483",
     "status": "completed"
    },
    "tags": []
   },
   "outputs": [],
   "source": [
    "timestamps = pd.read_sql(\"select distinct record_time from EBAY_TOP_BERLIN order by record_time desc limit 2\", sqlite3.connect(\"UsedObjects.db\"))"
   ]
  },
  {
   "cell_type": "code",
   "execution_count": 3,
   "id": "periodic-identification",
   "metadata": {
    "execution": {
     "iopub.execute_input": "2021-08-18T21:00:08.056620Z",
     "iopub.status.busy": "2021-08-18T21:00:08.054599Z",
     "iopub.status.idle": "2021-08-18T21:00:08.074506Z",
     "shell.execute_reply": "2021-08-18T21:00:08.075724Z"
    },
    "papermill": {
     "duration": 0.066363,
     "end_time": "2021-08-18T21:00:08.076159",
     "exception": false,
     "start_time": "2021-08-18T21:00:08.009796",
     "status": "completed"
    },
    "tags": []
   },
   "outputs": [
    {
     "data": {
      "text/html": [
       "<div>\n",
       "<style scoped>\n",
       "    .dataframe tbody tr th:only-of-type {\n",
       "        vertical-align: middle;\n",
       "    }\n",
       "\n",
       "    .dataframe tbody tr th {\n",
       "        vertical-align: top;\n",
       "    }\n",
       "\n",
       "    .dataframe thead th {\n",
       "        text-align: right;\n",
       "    }\n",
       "</style>\n",
       "<table border=\"1\" class=\"dataframe\">\n",
       "  <thead>\n",
       "    <tr style=\"text-align: right;\">\n",
       "      <th></th>\n",
       "      <th>RECORD_TIME</th>\n",
       "    </tr>\n",
       "  </thead>\n",
       "  <tbody>\n",
       "    <tr>\n",
       "      <th>0</th>\n",
       "      <td>2021-08-18 23:00</td>\n",
       "    </tr>\n",
       "    <tr>\n",
       "      <th>1</th>\n",
       "      <td>2021-08-18 22:30</td>\n",
       "    </tr>\n",
       "  </tbody>\n",
       "</table>\n",
       "</div>"
      ],
      "text/plain": [
       "        RECORD_TIME\n",
       "0  2021-08-18 23:00\n",
       "1  2021-08-18 22:30"
      ]
     },
     "execution_count": 3,
     "metadata": {},
     "output_type": "execute_result"
    }
   ],
   "source": [
    "timestamps"
   ]
  },
  {
   "cell_type": "code",
   "execution_count": 4,
   "id": "alternate-victory",
   "metadata": {
    "execution": {
     "iopub.execute_input": "2021-08-18T21:00:08.130237Z",
     "iopub.status.busy": "2021-08-18T21:00:08.127895Z",
     "iopub.status.idle": "2021-08-18T21:00:08.248328Z",
     "shell.execute_reply": "2021-08-18T21:00:08.249744Z"
    },
    "papermill": {
     "duration": 0.151169,
     "end_time": "2021-08-18T21:00:08.250219",
     "exception": false,
     "start_time": "2021-08-18T21:00:08.099050",
     "status": "completed"
    },
    "tags": []
   },
   "outputs": [],
   "source": [
    "df = pd.read_sql(\"select * from EBAY_TOP_BERLIN where record_time in (select distinct record_time from EBAY_TOP_BERLIN order by record_time desc limit 2)\", sqlite3.connect(\"UsedObjects.db\"))"
   ]
  },
  {
   "cell_type": "code",
   "execution_count": 5,
   "id": "popular-active",
   "metadata": {
    "execution": {
     "iopub.execute_input": "2021-08-18T21:00:08.315654Z",
     "iopub.status.busy": "2021-08-18T21:00:08.309267Z",
     "iopub.status.idle": "2021-08-18T21:00:08.336514Z",
     "shell.execute_reply": "2021-08-18T21:00:08.337724Z"
    },
    "papermill": {
     "duration": 0.067864,
     "end_time": "2021-08-18T21:00:08.338330",
     "exception": false,
     "start_time": "2021-08-18T21:00:08.270466",
     "status": "completed"
    },
    "tags": []
   },
   "outputs": [],
   "source": [
    "df_pivot = df.pivot_table(index=\"PRODUCT\", columns = \"RECORD_TIME\", values = \"LISTING_COUNT\")"
   ]
  },
  {
   "cell_type": "code",
   "execution_count": 6,
   "id": "union-huntington",
   "metadata": {
    "execution": {
     "iopub.execute_input": "2021-08-18T21:00:08.397406Z",
     "iopub.status.busy": "2021-08-18T21:00:08.395098Z",
     "iopub.status.idle": "2021-08-18T21:00:08.400631Z",
     "shell.execute_reply": "2021-08-18T21:00:08.401905Z"
    },
    "papermill": {
     "duration": 0.041854,
     "end_time": "2021-08-18T21:00:08.402402",
     "exception": false,
     "start_time": "2021-08-18T21:00:08.360548",
     "status": "completed"
    },
    "tags": []
   },
   "outputs": [],
   "source": [
    "df_pivot.columns = [\"stamp_1\", \"stamp_2\"]\n",
    "df_pivot_diff = df_pivot.diff(axis=1)"
   ]
  },
  {
   "cell_type": "code",
   "execution_count": 7,
   "id": "fifth-motion",
   "metadata": {
    "execution": {
     "iopub.execute_input": "2021-08-18T21:00:08.457308Z",
     "iopub.status.busy": "2021-08-18T21:00:08.454880Z",
     "iopub.status.idle": "2021-08-18T21:00:09.974613Z",
     "shell.execute_reply": "2021-08-18T21:00:09.975885Z"
    },
    "papermill": {
     "duration": 1.553294,
     "end_time": "2021-08-18T21:00:09.976338",
     "exception": false,
     "start_time": "2021-08-18T21:00:08.423044",
     "status": "completed"
    },
    "tags": []
   },
   "outputs": [
    {
     "data": {
      "text/plain": [
       "<AxesSubplot:ylabel='PRODUCT'>"
      ]
     },
     "execution_count": 7,
     "metadata": {},
     "output_type": "execute_result"
    },
    {
     "data": {
      "image/png": "[encoded data removed]",
      "text/plain": [
       "<Figure size 432x288 with 1 Axes>"
      ]
     },
     "metadata": {
      "needs_background": "light"
     },
     "output_type": "display_data"
    }
   ],
   "source": [
    "df_pivot_diff.sort_values(\"stamp_2\", ascending = False)[\"stamp_2\"].head(10).plot.barh()"
   ]
  },
  {
   "cell_type": "code",
   "execution_count": null,
   "id": "extra-executive",
   "metadata": {
    "papermill": {
     "duration": 0.022353,
     "end_time": "2021-08-18T21:00:10.023396",
     "exception": false,
     "start_time": "2021-08-18T21:00:10.001043",
     "status": "completed"
    },
    "tags": []
   },
   "outputs": [],
   "source": []
  }
 ],
 "metadata": {
  "kernelspec": {
   "display_name": "Python 3",
   "language": "python",
   "name": "python3"
  },
  "language_info": {
   "codemirror_mode": {
    "name": "ipython",
    "version": 3
   },
   "file_extension": ".py",
   "mimetype": "text/x-python",
   "name": "python",
   "nbconvert_exporter": "python",
   "pygments_lexer": "ipython3",
   "version": "3.9.5"
  },
  "papermill": {
   "default_parameters": {},
   "duration": 6.841499,
   "end_time": "2021-08-18T21:00:11.422828",
   "environment_variables": {},
   "exception": null,
   "input_path": "eBay_Overview.ipynb",
   "output_path": "eBay_Overview.ipynb",
   "parameters": {},
   "start_time": "2021-08-18T21:00:04.581329",
   "version": "2.3.3"
  }
 },
 "nbformat": 4,
 "nbformat_minor": 5
}