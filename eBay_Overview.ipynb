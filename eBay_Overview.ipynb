{
 "cells": [
  {
   "cell_type": "code",
   "execution_count": 1,
   "id": "reverse-picking",
   "metadata": {
    "execution": {
     "iopub.execute_input": "2021-10-06T10:30:06.914267Z",
     "iopub.status.busy": "2021-10-06T10:30:06.912333Z",
     "iopub.status.idle": "2021-10-06T10:30:07.717787Z",
     "shell.execute_reply": "2021-10-06T10:30:07.716241Z"
    },
    "papermill": {
     "duration": 0.854592,
     "end_time": "2021-10-06T10:30:07.718188",
     "exception": false,
     "start_time": "2021-10-06T10:30:06.863596",
     "status": "completed"
    },
    "tags": []
   },
   "outputs": [],
   "source": [
    "import pandas as pd\n",
    "import sqlite3"
   ]
  },
  {
   "cell_type": "code",
   "execution_count": 2,
   "id": "innovative-syndrome",
   "metadata": {
    "execution": {
     "iopub.execute_input": "2021-10-06T10:30:07.769983Z",
     "iopub.status.busy": "2021-10-06T10:30:07.768117Z",
     "iopub.status.idle": "2021-10-06T10:30:08.225879Z",
     "shell.execute_reply": "2021-10-06T10:30:08.227282Z"
    },
    "papermill": {
     "duration": 0.487744,
     "end_time": "2021-10-06T10:30:08.227703",
     "exception": false,
     "start_time": "2021-10-06T10:30:07.739959",
     "status": "completed"
    },
    "tags": []
   },
   "outputs": [],
   "source": [
    "timestamps = pd.read_sql(\"select distinct record_time from EBAY_TOP_BERLIN order by record_time desc limit 2\", sqlite3.connect(\"UsedObjects.db\"))"
   ]
  },
  {
   "cell_type": "code",
   "execution_count": 3,
   "id": "periodic-identification",
   "metadata": {
    "execution": {
     "iopub.execute_input": "2021-10-06T10:30:08.296662Z",
     "iopub.status.busy": "2021-10-06T10:30:08.294459Z",
     "iopub.status.idle": "2021-10-06T10:30:08.314727Z",
     "shell.execute_reply": "2021-10-06T10:30:08.316093Z"
    },
    "papermill": {
     "duration": 0.067805,
     "end_time": "2021-10-06T10:30:08.316507",
     "exception": false,
     "start_time": "2021-10-06T10:30:08.248702",
     "status": "completed"
    },
    "tags": []
   },
   "outputs": [
    {
     "data": {
      "text/html": [
       "<div>\n",
       "<style scoped>\n",
       "    .dataframe tbody tr th:only-of-type {\n",
       "        vertical-align: middle;\n",
       "    }\n",
       "\n",
       "    .dataframe tbody tr th {\n",
       "        vertical-align: top;\n",
       "    }\n",
       "\n",
       "    .dataframe thead th {\n",
       "        text-align: right;\n",
       "    }\n",
       "</style>\n",
       "<table border=\"1\" class=\"dataframe\">\n",
       "  <thead>\n",
       "    <tr style=\"text-align: right;\">\n",
       "      <th></th>\n",
       "      <th>RECORD_TIME</th>\n",
       "    </tr>\n",
       "  </thead>\n",
       "  <tbody>\n",
       "    <tr>\n",
       "      <th>0</th>\n",
       "      <td>2021-10-06 12:30</td>\n",
       "    </tr>\n",
       "    <tr>\n",
       "      <th>1</th>\n",
       "      <td>2021-10-06 12:00</td>\n",
       "    </tr>\n",
       "  </tbody>\n",
       "</table>\n",
       "</div>"
      ],
      "text/plain": [
       "        RECORD_TIME\n",
       "0  2021-10-06 12:30\n",
       "1  2021-10-06 12:00"
      ]
     },
     "execution_count": 3,
     "metadata": {},
     "output_type": "execute_result"
    }
   ],
   "source": [
    "timestamps"
   ]
  },
  {
   "cell_type": "code",
   "execution_count": 4,
   "id": "alternate-victory",
   "metadata": {
    "execution": {
     "iopub.execute_input": "2021-10-06T10:30:08.376709Z",
     "iopub.status.busy": "2021-10-06T10:30:08.374779Z",
     "iopub.status.idle": "2021-10-06T10:30:09.059264Z",
     "shell.execute_reply": "2021-10-06T10:30:09.060631Z"
    },
    "papermill": {
     "duration": 0.718427,
     "end_time": "2021-10-06T10:30:09.061034",
     "exception": false,
     "start_time": "2021-10-06T10:30:08.342607",
     "status": "completed"
    },
    "tags": []
   },
   "outputs": [],
   "source": [
    "df = pd.read_sql(\"select * from EBAY_TOP_BERLIN where record_time in (select distinct record_time from EBAY_TOP_BERLIN order by record_time desc limit 2)\", sqlite3.connect(\"UsedObjects.db\"))"
   ]
  },
  {
   "cell_type": "code",
   "execution_count": 5,
   "id": "popular-active",
   "metadata": {
    "execution": {
     "iopub.execute_input": "2021-10-06T10:30:09.132036Z",
     "iopub.status.busy": "2021-10-06T10:30:09.120335Z",
     "iopub.status.idle": "2021-10-06T10:30:09.148208Z",
     "shell.execute_reply": "2021-10-06T10:30:09.149442Z"
    },
    "papermill": {
     "duration": 0.068183,
     "end_time": "2021-10-06T10:30:09.149836",
     "exception": false,
     "start_time": "2021-10-06T10:30:09.081653",
     "status": "completed"
    },
    "tags": []
   },
   "outputs": [],
   "source": [
    "df_pivot = df.pivot_table(index=\"PRODUCT\", columns = \"RECORD_TIME\", values = \"LISTING_COUNT\")"
   ]
  },
  {
   "cell_type": "code",
   "execution_count": 6,
   "id": "union-huntington",
   "metadata": {
    "execution": {
     "iopub.execute_input": "2021-10-06T10:30:09.206892Z",
     "iopub.status.busy": "2021-10-06T10:30:09.204716Z",
     "iopub.status.idle": "2021-10-06T10:30:09.210220Z",
     "shell.execute_reply": "2021-10-06T10:30:09.211819Z"
    },
    "papermill": {
     "duration": 0.041381,
     "end_time": "2021-10-06T10:30:09.212276",
     "exception": false,
     "start_time": "2021-10-06T10:30:09.170895",
     "status": "completed"
    },
    "tags": []
   },
   "outputs": [],
   "source": [
    "df_pivot.columns = [\"stamp_1\", \"stamp_2\"]\n",
    "df_pivot_diff = df_pivot.diff(axis=1)"
   ]
  },
  {
   "cell_type": "code",
   "execution_count": 7,
   "id": "fifth-motion",
   "metadata": {
    "execution": {
     "iopub.execute_input": "2021-10-06T10:30:09.267819Z",
     "iopub.status.busy": "2021-10-06T10:30:09.265105Z",
     "iopub.status.idle": "2021-10-06T10:30:10.754772Z",
     "shell.execute_reply": "2021-10-06T10:30:10.756255Z"
    },
    "papermill": {
     "duration": 1.523855,
     "end_time": "2021-10-06T10:30:10.756680",
     "exception": false,
     "start_time": "2021-10-06T10:30:09.232825",
     "status": "completed"
    },
    "tags": []
   },
   "outputs": [
    {
     "data": {
      "text/plain": [
       "<AxesSubplot:ylabel='PRODUCT'>"
      ]
     },
     "execution_count": 7,
     "metadata": {},
     "output_type": "execute_result"
    },
    {
     "data": {
      "image/png": "[encoded data removed]",
      "text/plain": [
       "<Figure size 432x288 with 1 Axes>"
      ]
     },
     "metadata": {
      "needs_background": "light"
     },
     "output_type": "display_data"
    }
   ],
   "source": [
    "df_pivot_diff.sort_values(\"stamp_2\", ascending = False)[\"stamp_2\"].head(10).plot.barh()"
   ]
  },
  {
   "cell_type": "code",
   "execution_count": null,
   "id": "extra-executive",
   "metadata": {
    "papermill": {
     "duration": 0.022428,
     "end_time": "2021-10-06T10:30:10.803271",
     "exception": false,
     "start_time": "2021-10-06T10:30:10.780843",
     "status": "completed"
    },
    "tags": []
   },
   "outputs": [],
   "source": []
  }
 ],
 "metadata": {
  "kernelspec": {
   "display_name": "Python 3",
   "language": "python",
   "name": "python3"
  },
  "language_info": {
   "codemirror_mode": {
    "name": "ipython",
    "version": 3
   },
   "file_extension": ".py",
   "mimetype": "text/x-python",
   "name": "python",
   "nbconvert_exporter": "python",
   "pygments_lexer": "ipython3",
   "version": "3.9.5"
  },
  "papermill": {
   "default_parameters": {},
   "duration": 7.821409,
   "end_time": "2021-10-06T10:30:12.280567",
   "environment_variables": {},
   "exception": null,
   "input_path": "eBay_Overview.ipynb",
   "output_path": "eBay_Overview.ipynb",
   "parameters": {},
   "start_time": "2021-10-06T10:30:04.459158",
   "version": "2.3.3"
  }
 },
 "nbformat": 4,
 "nbformat_minor": 5
}