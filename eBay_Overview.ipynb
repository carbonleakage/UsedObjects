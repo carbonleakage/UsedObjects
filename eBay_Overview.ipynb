{
 "cells": [
  {
   "cell_type": "code",
   "execution_count": 1,
   "id": "reverse-picking",
   "metadata": {
    "execution": {
     "iopub.execute_input": "2021-11-23T07:30:07.518399Z",
     "iopub.status.busy": "2021-11-23T07:30:07.515857Z",
     "iopub.status.idle": "2021-11-23T07:30:08.483350Z",
     "shell.execute_reply": "2021-11-23T07:30:08.485153Z"
    },
    "papermill": {
     "duration": 1.018563,
     "end_time": "2021-11-23T07:30:08.485924",
     "exception": false,
     "start_time": "2021-11-23T07:30:07.467361",
     "status": "completed"
    },
    "tags": []
   },
   "outputs": [],
   "source": [
    "import pandas as pd\n",
    "import sqlite3"
   ]
  },
  {
   "cell_type": "code",
   "execution_count": 2,
   "id": "innovative-syndrome",
   "metadata": {
    "execution": {
     "iopub.execute_input": "2021-11-23T07:30:08.552838Z",
     "iopub.status.busy": "2021-11-23T07:30:08.550546Z",
     "iopub.status.idle": "2021-11-23T07:30:09.439590Z",
     "shell.execute_reply": "2021-11-23T07:30:09.441287Z"
    },
    "papermill": {
     "duration": 0.924621,
     "end_time": "2021-11-23T07:30:09.441831",
     "exception": false,
     "start_time": "2021-11-23T07:30:08.517210",
     "status": "completed"
    },
    "tags": []
   },
   "outputs": [],
   "source": [
    "timestamps = pd.read_sql(\"select distinct record_time from EBAY_TOP_BERLIN order by record_time desc limit 2\", sqlite3.connect(\"UsedObjects.db\"))"
   ]
  },
  {
   "cell_type": "code",
   "execution_count": 3,
   "id": "periodic-identification",
   "metadata": {
    "execution": {
     "iopub.execute_input": "2021-11-23T07:30:09.514784Z",
     "iopub.status.busy": "2021-11-23T07:30:09.512193Z",
     "iopub.status.idle": "2021-11-23T07:30:09.536162Z",
     "shell.execute_reply": "2021-11-23T07:30:09.537753Z"
    },
    "papermill": {
     "duration": 0.074731,
     "end_time": "2021-11-23T07:30:09.538292",
     "exception": false,
     "start_time": "2021-11-23T07:30:09.463561",
     "status": "completed"
    },
    "tags": []
   },
   "outputs": [
    {
     "data": {
      "text/html": [
       "<div>\n",
       "<style scoped>\n",
       "    .dataframe tbody tr th:only-of-type {\n",
       "        vertical-align: middle;\n",
       "    }\n",
       "\n",
       "    .dataframe tbody tr th {\n",
       "        vertical-align: top;\n",
       "    }\n",
       "\n",
       "    .dataframe thead th {\n",
       "        text-align: right;\n",
       "    }\n",
       "</style>\n",
       "<table border=\"1\" class=\"dataframe\">\n",
       "  <thead>\n",
       "    <tr style=\"text-align: right;\">\n",
       "      <th></th>\n",
       "      <th>RECORD_TIME</th>\n",
       "    </tr>\n",
       "  </thead>\n",
       "  <tbody>\n",
       "    <tr>\n",
       "      <th>0</th>\n",
       "      <td>2021-11-23 08:30</td>\n",
       "    </tr>\n",
       "    <tr>\n",
       "      <th>1</th>\n",
       "      <td>2021-11-23 08:00</td>\n",
       "    </tr>\n",
       "  </tbody>\n",
       "</table>\n",
       "</div>"
      ],
      "text/plain": [
       "        RECORD_TIME\n",
       "0  2021-11-23 08:30\n",
       "1  2021-11-23 08:00"
      ]
     },
     "execution_count": 3,
     "metadata": {},
     "output_type": "execute_result"
    }
   ],
   "source": [
    "timestamps"
   ]
  },
  {
   "cell_type": "code",
   "execution_count": 4,
   "id": "alternate-victory",
   "metadata": {
    "execution": {
     "iopub.execute_input": "2021-11-23T07:30:09.594676Z",
     "iopub.status.busy": "2021-11-23T07:30:09.591512Z",
     "iopub.status.idle": "2021-11-23T07:30:10.891613Z",
     "shell.execute_reply": "2021-11-23T07:30:10.893931Z"
    },
    "papermill": {
     "duration": 1.334883,
     "end_time": "2021-11-23T07:30:10.894431",
     "exception": false,
     "start_time": "2021-11-23T07:30:09.559548",
     "status": "completed"
    },
    "tags": []
   },
   "outputs": [],
   "source": [
    "df = pd.read_sql(\"select * from EBAY_TOP_BERLIN where record_time in (select distinct record_time from EBAY_TOP_BERLIN order by record_time desc limit 2)\", sqlite3.connect(\"UsedObjects.db\"))"
   ]
  },
  {
   "cell_type": "code",
   "execution_count": 5,
   "id": "popular-active",
   "metadata": {
    "execution": {
     "iopub.execute_input": "2021-11-23T07:30:10.969835Z",
     "iopub.status.busy": "2021-11-23T07:30:10.959536Z",
     "iopub.status.idle": "2021-11-23T07:30:10.992546Z",
     "shell.execute_reply": "2021-11-23T07:30:10.994155Z"
    },
    "papermill": {
     "duration": 0.077755,
     "end_time": "2021-11-23T07:30:10.994673",
     "exception": false,
     "start_time": "2021-11-23T07:30:10.916918",
     "status": "completed"
    },
    "tags": []
   },
   "outputs": [],
   "source": [
    "df_pivot = df.pivot_table(index=\"PRODUCT\", columns = \"RECORD_TIME\", values = \"LISTING_COUNT\")"
   ]
  },
  {
   "cell_type": "code",
   "execution_count": 6,
   "id": "union-huntington",
   "metadata": {
    "execution": {
     "iopub.execute_input": "2021-11-23T07:30:11.055050Z",
     "iopub.status.busy": "2021-11-23T07:30:11.052447Z",
     "iopub.status.idle": "2021-11-23T07:30:11.058234Z",
     "shell.execute_reply": "2021-11-23T07:30:11.059726Z"
    },
    "papermill": {
     "duration": 0.044305,
     "end_time": "2021-11-23T07:30:11.060233",
     "exception": false,
     "start_time": "2021-11-23T07:30:11.015928",
     "status": "completed"
    },
    "tags": []
   },
   "outputs": [],
   "source": [
    "df_pivot.columns = [\"stamp_1\", \"stamp_2\"]\n",
    "df_pivot_diff = df_pivot.diff(axis=1)"
   ]
  },
  {
   "cell_type": "code",
   "execution_count": 7,
   "id": "fifth-motion",
   "metadata": {
    "execution": {
     "iopub.execute_input": "2021-11-23T07:30:11.120242Z",
     "iopub.status.busy": "2021-11-23T07:30:11.117459Z",
     "iopub.status.idle": "2021-11-23T07:30:13.018267Z",
     "shell.execute_reply": "2021-11-23T07:30:13.019499Z"
    },
    "papermill": {
     "duration": 1.938661,
     "end_time": "2021-11-23T07:30:13.019908",
     "exception": false,
     "start_time": "2021-11-23T07:30:11.081247",
     "status": "completed"
    },
    "tags": []
   },
   "outputs": [
    {
     "data": {
      "text/plain": [
       "<AxesSubplot:ylabel='PRODUCT'>"
      ]
     },
     "execution_count": 7,
     "metadata": {},
     "output_type": "execute_result"
    },
    {
     "data": {
      "image/png": "[encoded data removed]",
      "text/plain": [
       "<Figure size 432x288 with 1 Axes>"
      ]
     },
     "metadata": {
      "needs_background": "light"
     },
     "output_type": "display_data"
    }
   ],
   "source": [
    "df_pivot_diff.sort_values(\"stamp_2\", ascending = False)[\"stamp_2\"].head(10).plot.barh()"
   ]
  },
  {
   "cell_type": "code",
   "execution_count": null,
   "id": "extra-executive",
   "metadata": {
    "papermill": {
     "duration": 0.023396,
     "end_time": "2021-11-23T07:30:13.068799",
     "exception": false,
     "start_time": "2021-11-23T07:30:13.045403",
     "status": "completed"
    },
    "tags": []
   },
   "outputs": [],
   "source": []
  }
 ],
 "metadata": {
  "kernelspec": {
   "display_name": "Python 3",
   "language": "python",
   "name": "python3"
  },
  "language_info": {
   "codemirror_mode": {
    "name": "ipython",
    "version": 3
   },
   "file_extension": ".py",
   "mimetype": "text/x-python",
   "name": "python",
   "nbconvert_exporter": "python",
   "pygments_lexer": "ipython3",
   "version": "3.9.5"
  },
  "papermill": {
   "default_parameters": {},
   "duration": 9.925228,
   "end_time": "2021-11-23T07:30:14.661094",
   "environment_variables": {},
   "exception": null,
   "input_path": "eBay_Overview.ipynb",
   "output_path": "eBay_Overview.ipynb",
   "parameters": {},
   "start_time": "2021-11-23T07:30:04.735866",
   "version": "2.3.3"
  }
 },
 "nbformat": 4,
 "nbformat_minor": 5
}