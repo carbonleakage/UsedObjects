{
 "cells": [
  {
   "cell_type": "code",
   "execution_count": 1,
   "id": "reverse-picking",
   "metadata": {
    "execution": {
     "iopub.execute_input": "2021-11-05T04:00:07.483878Z",
     "iopub.status.busy": "2021-11-05T04:00:07.472381Z",
     "iopub.status.idle": "2021-11-05T04:00:08.415811Z",
     "shell.execute_reply": "2021-11-05T04:00:08.417483Z"
    },
    "papermill": {
     "duration": 0.992503,
     "end_time": "2021-11-05T04:00:08.418270",
     "exception": false,
     "start_time": "2021-11-05T04:00:07.425767",
     "status": "completed"
    },
    "tags": []
   },
   "outputs": [],
   "source": [
    "import pandas as pd\n",
    "import sqlite3"
   ]
  },
  {
   "cell_type": "code",
   "execution_count": 2,
   "id": "innovative-syndrome",
   "metadata": {
    "execution": {
     "iopub.execute_input": "2021-11-05T04:00:08.485140Z",
     "iopub.status.busy": "2021-11-05T04:00:08.482439Z",
     "iopub.status.idle": "2021-11-05T04:00:09.217759Z",
     "shell.execute_reply": "2021-11-05T04:00:09.219270Z"
    },
    "papermill": {
     "duration": 0.770706,
     "end_time": "2021-11-05T04:00:09.219757",
     "exception": false,
     "start_time": "2021-11-05T04:00:08.449051",
     "status": "completed"
    },
    "tags": []
   },
   "outputs": [],
   "source": [
    "timestamps = pd.read_sql(\"select distinct record_time from EBAY_TOP_BERLIN order by record_time desc limit 2\", sqlite3.connect(\"UsedObjects.db\"))"
   ]
  },
  {
   "cell_type": "code",
   "execution_count": 3,
   "id": "periodic-identification",
   "metadata": {
    "execution": {
     "iopub.execute_input": "2021-11-05T04:00:09.292109Z",
     "iopub.status.busy": "2021-11-05T04:00:09.289699Z",
     "iopub.status.idle": "2021-11-05T04:00:09.312611Z",
     "shell.execute_reply": "2021-11-05T04:00:09.314639Z"
    },
    "papermill": {
     "duration": 0.073859,
     "end_time": "2021-11-05T04:00:09.315144",
     "exception": false,
     "start_time": "2021-11-05T04:00:09.241285",
     "status": "completed"
    },
    "tags": []
   },
   "outputs": [
    {
     "data": {
      "text/html": [
       "<div>\n",
       "<style scoped>\n",
       "    .dataframe tbody tr th:only-of-type {\n",
       "        vertical-align: middle;\n",
       "    }\n",
       "\n",
       "    .dataframe tbody tr th {\n",
       "        vertical-align: top;\n",
       "    }\n",
       "\n",
       "    .dataframe thead th {\n",
       "        text-align: right;\n",
       "    }\n",
       "</style>\n",
       "<table border=\"1\" class=\"dataframe\">\n",
       "  <thead>\n",
       "    <tr style=\"text-align: right;\">\n",
       "      <th></th>\n",
       "      <th>RECORD_TIME</th>\n",
       "    </tr>\n",
       "  </thead>\n",
       "  <tbody>\n",
       "    <tr>\n",
       "      <th>0</th>\n",
       "      <td>2021-11-05 05:00</td>\n",
       "    </tr>\n",
       "    <tr>\n",
       "      <th>1</th>\n",
       "      <td>2021-11-05 04:30</td>\n",
       "    </tr>\n",
       "  </tbody>\n",
       "</table>\n",
       "</div>"
      ],
      "text/plain": [
       "        RECORD_TIME\n",
       "0  2021-11-05 05:00\n",
       "1  2021-11-05 04:30"
      ]
     },
     "execution_count": 3,
     "metadata": {},
     "output_type": "execute_result"
    }
   ],
   "source": [
    "timestamps"
   ]
  },
  {
   "cell_type": "code",
   "execution_count": 4,
   "id": "alternate-victory",
   "metadata": {
    "execution": {
     "iopub.execute_input": "2021-11-05T04:00:09.372261Z",
     "iopub.status.busy": "2021-11-05T04:00:09.370072Z",
     "iopub.status.idle": "2021-11-05T04:00:10.440029Z",
     "shell.execute_reply": "2021-11-05T04:00:10.441694Z"
    },
    "papermill": {
     "duration": 1.10552,
     "end_time": "2021-11-05T04:00:10.442187",
     "exception": false,
     "start_time": "2021-11-05T04:00:09.336667",
     "status": "completed"
    },
    "tags": []
   },
   "outputs": [],
   "source": [
    "df = pd.read_sql(\"select * from EBAY_TOP_BERLIN where record_time in (select distinct record_time from EBAY_TOP_BERLIN order by record_time desc limit 2)\", sqlite3.connect(\"UsedObjects.db\"))"
   ]
  },
  {
   "cell_type": "code",
   "execution_count": 5,
   "id": "popular-active",
   "metadata": {
    "execution": {
     "iopub.execute_input": "2021-11-05T04:00:10.520985Z",
     "iopub.status.busy": "2021-11-05T04:00:10.507438Z",
     "iopub.status.idle": "2021-11-05T04:00:10.539753Z",
     "shell.execute_reply": "2021-11-05T04:00:10.541536Z"
    },
    "papermill": {
     "duration": 0.078211,
     "end_time": "2021-11-05T04:00:10.542055",
     "exception": false,
     "start_time": "2021-11-05T04:00:10.463844",
     "status": "completed"
    },
    "tags": []
   },
   "outputs": [],
   "source": [
    "df_pivot = df.pivot_table(index=\"PRODUCT\", columns = \"RECORD_TIME\", values = \"LISTING_COUNT\")"
   ]
  },
  {
   "cell_type": "code",
   "execution_count": 6,
   "id": "union-huntington",
   "metadata": {
    "execution": {
     "iopub.execute_input": "2021-11-05T04:00:10.605398Z",
     "iopub.status.busy": "2021-11-05T04:00:10.603090Z",
     "iopub.status.idle": "2021-11-05T04:00:10.608639Z",
     "shell.execute_reply": "2021-11-05T04:00:10.610313Z"
    },
    "papermill": {
     "duration": 0.045641,
     "end_time": "2021-11-05T04:00:10.610842",
     "exception": false,
     "start_time": "2021-11-05T04:00:10.565201",
     "status": "completed"
    },
    "tags": []
   },
   "outputs": [],
   "source": [
    "df_pivot.columns = [\"stamp_1\", \"stamp_2\"]\n",
    "df_pivot_diff = df_pivot.diff(axis=1)"
   ]
  },
  {
   "cell_type": "code",
   "execution_count": 7,
   "id": "fifth-motion",
   "metadata": {
    "execution": {
     "iopub.execute_input": "2021-11-05T04:00:10.671592Z",
     "iopub.status.busy": "2021-11-05T04:00:10.668983Z",
     "iopub.status.idle": "2021-11-05T04:00:12.436014Z",
     "shell.execute_reply": "2021-11-05T04:00:12.437656Z"
    },
    "papermill": {
     "duration": 1.805259,
     "end_time": "2021-11-05T04:00:12.438173",
     "exception": false,
     "start_time": "2021-11-05T04:00:10.632914",
     "status": "completed"
    },
    "tags": []
   },
   "outputs": [
    {
     "data": {
      "text/plain": [
       "<AxesSubplot:ylabel='PRODUCT'>"
      ]
     },
     "execution_count": 7,
     "metadata": {},
     "output_type": "execute_result"
    },
    {
     "data": {
      "image/png": "[encoded data removed]",
      "text/plain": [
       "<Figure size 432x288 with 1 Axes>"
      ]
     },
     "metadata": {
      "needs_background": "light"
     },
     "output_type": "display_data"
    }
   ],
   "source": [
    "df_pivot_diff.sort_values(\"stamp_2\", ascending = False)[\"stamp_2\"].head(10).plot.barh()"
   ]
  },
  {
   "cell_type": "code",
   "execution_count": null,
   "id": "extra-executive",
   "metadata": {
    "papermill": {
     "duration": 0.025849,
     "end_time": "2021-11-05T04:00:12.493541",
     "exception": false,
     "start_time": "2021-11-05T04:00:12.467692",
     "status": "completed"
    },
    "tags": []
   },
   "outputs": [],
   "source": []
  }
 ],
 "metadata": {
  "kernelspec": {
   "display_name": "Python 3",
   "language": "python",
   "name": "python3"
  },
  "language_info": {
   "codemirror_mode": {
    "name": "ipython",
    "version": 3
   },
   "file_extension": ".py",
   "mimetype": "text/x-python",
   "name": "python",
   "nbconvert_exporter": "python",
   "pygments_lexer": "ipython3",
   "version": "3.9.5"
  },
  "papermill": {
   "default_parameters": {},
   "duration": 8.741163,
   "end_time": "2021-11-05T04:00:13.355443",
   "environment_variables": {},
   "exception": null,
   "input_path": "eBay_Overview.ipynb",
   "output_path": "eBay_Overview.ipynb",
   "parameters": {},
   "start_time": "2021-11-05T04:00:04.614280",
   "version": "2.3.3"
  }
 },
 "nbformat": 4,
 "nbformat_minor": 5
}