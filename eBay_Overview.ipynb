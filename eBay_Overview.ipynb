{
 "cells": [
  {
   "cell_type": "code",
   "execution_count": 1,
   "id": "reverse-picking",
   "metadata": {
    "execution": {
     "iopub.execute_input": "2021-08-19T02:00:06.660363Z",
     "iopub.status.busy": "2021-08-19T02:00:06.658439Z",
     "iopub.status.idle": "2021-08-19T02:00:07.463956Z",
     "shell.execute_reply": "2021-08-19T02:00:07.465210Z"
    },
    "papermill": {
     "duration": 0.859252,
     "end_time": "2021-08-19T02:00:07.465835",
     "exception": false,
     "start_time": "2021-08-19T02:00:06.606583",
     "status": "completed"
    },
    "tags": []
   },
   "outputs": [],
   "source": [
    "import pandas as pd\n",
    "import sqlite3"
   ]
  },
  {
   "cell_type": "code",
   "execution_count": 2,
   "id": "innovative-syndrome",
   "metadata": {
    "execution": {
     "iopub.execute_input": "2021-08-19T02:00:07.516683Z",
     "iopub.status.busy": "2021-08-19T02:00:07.514528Z",
     "iopub.status.idle": "2021-08-19T02:00:07.594804Z",
     "shell.execute_reply": "2021-08-19T02:00:07.596070Z"
    },
    "papermill": {
     "duration": 0.109804,
     "end_time": "2021-08-19T02:00:07.596466",
     "exception": false,
     "start_time": "2021-08-19T02:00:07.486662",
     "status": "completed"
    },
    "tags": []
   },
   "outputs": [],
   "source": [
    "timestamps = pd.read_sql(\"select distinct record_time from EBAY_TOP_BERLIN order by record_time desc limit 2\", sqlite3.connect(\"UsedObjects.db\"))"
   ]
  },
  {
   "cell_type": "code",
   "execution_count": 3,
   "id": "periodic-identification",
   "metadata": {
    "execution": {
     "iopub.execute_input": "2021-08-19T02:00:07.660218Z",
     "iopub.status.busy": "2021-08-19T02:00:07.658186Z",
     "iopub.status.idle": "2021-08-19T02:00:07.678218Z",
     "shell.execute_reply": "2021-08-19T02:00:07.679354Z"
    },
    "papermill": {
     "duration": 0.063977,
     "end_time": "2021-08-19T02:00:07.679759",
     "exception": false,
     "start_time": "2021-08-19T02:00:07.615782",
     "status": "completed"
    },
    "tags": []
   },
   "outputs": [
    {
     "data": {
      "text/html": [
       "<div>\n",
       "<style scoped>\n",
       "    .dataframe tbody tr th:only-of-type {\n",
       "        vertical-align: middle;\n",
       "    }\n",
       "\n",
       "    .dataframe tbody tr th {\n",
       "        vertical-align: top;\n",
       "    }\n",
       "\n",
       "    .dataframe thead th {\n",
       "        text-align: right;\n",
       "    }\n",
       "</style>\n",
       "<table border=\"1\" class=\"dataframe\">\n",
       "  <thead>\n",
       "    <tr style=\"text-align: right;\">\n",
       "      <th></th>\n",
       "      <th>RECORD_TIME</th>\n",
       "    </tr>\n",
       "  </thead>\n",
       "  <tbody>\n",
       "    <tr>\n",
       "      <th>0</th>\n",
       "      <td>2021-08-19 04:00</td>\n",
       "    </tr>\n",
       "    <tr>\n",
       "      <th>1</th>\n",
       "      <td>2021-08-19 03:30</td>\n",
       "    </tr>\n",
       "  </tbody>\n",
       "</table>\n",
       "</div>"
      ],
      "text/plain": [
       "        RECORD_TIME\n",
       "0  2021-08-19 04:00\n",
       "1  2021-08-19 03:30"
      ]
     },
     "execution_count": 3,
     "metadata": {},
     "output_type": "execute_result"
    }
   ],
   "source": [
    "timestamps"
   ]
  },
  {
   "cell_type": "code",
   "execution_count": 4,
   "id": "alternate-victory",
   "metadata": {
    "execution": {
     "iopub.execute_input": "2021-08-19T02:00:07.733040Z",
     "iopub.status.busy": "2021-08-19T02:00:07.730772Z",
     "iopub.status.idle": "2021-08-19T02:00:07.849543Z",
     "shell.execute_reply": "2021-08-19T02:00:07.850967Z"
    },
    "papermill": {
     "duration": 0.149078,
     "end_time": "2021-08-19T02:00:07.851377",
     "exception": false,
     "start_time": "2021-08-19T02:00:07.702299",
     "status": "completed"
    },
    "tags": []
   },
   "outputs": [],
   "source": [
    "df = pd.read_sql(\"select * from EBAY_TOP_BERLIN where record_time in (select distinct record_time from EBAY_TOP_BERLIN order by record_time desc limit 2)\", sqlite3.connect(\"UsedObjects.db\"))"
   ]
  },
  {
   "cell_type": "code",
   "execution_count": 5,
   "id": "popular-active",
   "metadata": {
    "execution": {
     "iopub.execute_input": "2021-08-19T02:00:07.923065Z",
     "iopub.status.busy": "2021-08-19T02:00:07.912355Z",
     "iopub.status.idle": "2021-08-19T02:00:07.939513Z",
     "shell.execute_reply": "2021-08-19T02:00:07.940724Z"
    },
    "papermill": {
     "duration": 0.067973,
     "end_time": "2021-08-19T02:00:07.941114",
     "exception": false,
     "start_time": "2021-08-19T02:00:07.873141",
     "status": "completed"
    },
    "tags": []
   },
   "outputs": [],
   "source": [
    "df_pivot = df.pivot_table(index=\"PRODUCT\", columns = \"RECORD_TIME\", values = \"LISTING_COUNT\")"
   ]
  },
  {
   "cell_type": "code",
   "execution_count": 6,
   "id": "union-huntington",
   "metadata": {
    "execution": {
     "iopub.execute_input": "2021-08-19T02:00:08.000212Z",
     "iopub.status.busy": "2021-08-19T02:00:07.997682Z",
     "iopub.status.idle": "2021-08-19T02:00:08.003707Z",
     "shell.execute_reply": "2021-08-19T02:00:08.004993Z"
    },
    "papermill": {
     "duration": 0.04219,
     "end_time": "2021-08-19T02:00:08.005409",
     "exception": false,
     "start_time": "2021-08-19T02:00:07.963219",
     "status": "completed"
    },
    "tags": []
   },
   "outputs": [],
   "source": [
    "df_pivot.columns = [\"stamp_1\", \"stamp_2\"]\n",
    "df_pivot_diff = df_pivot.diff(axis=1)"
   ]
  },
  {
   "cell_type": "code",
   "execution_count": 7,
   "id": "fifth-motion",
   "metadata": {
    "execution": {
     "iopub.execute_input": "2021-08-19T02:00:08.060551Z",
     "iopub.status.busy": "2021-08-19T02:00:08.058192Z",
     "iopub.status.idle": "2021-08-19T02:00:09.562193Z",
     "shell.execute_reply": "2021-08-19T02:00:09.563597Z"
    },
    "papermill": {
     "duration": 1.536921,
     "end_time": "2021-08-19T02:00:09.564036",
     "exception": false,
     "start_time": "2021-08-19T02:00:08.027115",
     "status": "completed"
    },
    "tags": []
   },
   "outputs": [
    {
     "data": {
      "text/plain": [
       "<AxesSubplot:ylabel='PRODUCT'>"
      ]
     },
     "execution_count": 7,
     "metadata": {},
     "output_type": "execute_result"
    },
    {
     "data": {
      "image/png": "[encoded data removed]",
      "text/plain": [
       "<Figure size 432x288 with 1 Axes>"
      ]
     },
     "metadata": {
      "needs_background": "light"
     },
     "output_type": "display_data"
    }
   ],
   "source": [
    "df_pivot_diff.sort_values(\"stamp_2\", ascending = False)[\"stamp_2\"].head(10).plot.barh()"
   ]
  },
  {
   "cell_type": "code",
   "execution_count": null,
   "id": "extra-executive",
   "metadata": {
    "papermill": {
     "duration": 0.022228,
     "end_time": "2021-08-19T02:00:09.610772",
     "exception": false,
     "start_time": "2021-08-19T02:00:09.588544",
     "status": "completed"
    },
    "tags": []
   },
   "outputs": [],
   "source": []
  }
 ],
 "metadata": {
  "kernelspec": {
   "display_name": "Python 3",
   "language": "python",
   "name": "python3"
  },
  "language_info": {
   "codemirror_mode": {
    "name": "ipython",
    "version": 3
   },
   "file_extension": ".py",
   "mimetype": "text/x-python",
   "name": "python",
   "nbconvert_exporter": "python",
   "pygments_lexer": "ipython3",
   "version": "3.9.5"
  },
  "papermill": {
   "default_parameters": {},
   "duration": 6.835144,
   "end_time": "2021-08-19T02:00:11.030360",
   "environment_variables": {},
   "exception": null,
   "input_path": "eBay_Overview.ipynb",
   "output_path": "eBay_Overview.ipynb",
   "parameters": {},
   "start_time": "2021-08-19T02:00:04.195216",
   "version": "2.3.3"
  }
 },
 "nbformat": 4,
 "nbformat_minor": 5
}