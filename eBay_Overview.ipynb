{
 "cells": [
  {
   "cell_type": "code",
   "execution_count": 1,
   "id": "reverse-picking",
   "metadata": {
    "execution": {
     "iopub.execute_input": "2021-10-01T00:30:07.020879Z",
     "iopub.status.busy": "2021-10-01T00:30:07.018967Z",
     "iopub.status.idle": "2021-10-01T00:30:07.824321Z",
     "shell.execute_reply": "2021-10-01T00:30:07.825551Z"
    },
    "papermill": {
     "duration": 0.855466,
     "end_time": "2021-10-01T00:30:07.826166",
     "exception": false,
     "start_time": "2021-10-01T00:30:06.970700",
     "status": "completed"
    },
    "tags": []
   },
   "outputs": [],
   "source": [
    "import pandas as pd\n",
    "import sqlite3"
   ]
  },
  {
   "cell_type": "code",
   "execution_count": 2,
   "id": "innovative-syndrome",
   "metadata": {
    "execution": {
     "iopub.execute_input": "2021-10-01T00:30:07.879727Z",
     "iopub.status.busy": "2021-10-01T00:30:07.877344Z",
     "iopub.status.idle": "2021-10-01T00:30:08.303362Z",
     "shell.execute_reply": "2021-10-01T00:30:08.304561Z"
    },
    "papermill": {
     "duration": 0.456363,
     "end_time": "2021-10-01T00:30:08.304956",
     "exception": false,
     "start_time": "2021-10-01T00:30:07.848593",
     "status": "completed"
    },
    "tags": []
   },
   "outputs": [],
   "source": [
    "timestamps = pd.read_sql(\"select distinct record_time from EBAY_TOP_BERLIN order by record_time desc limit 2\", sqlite3.connect(\"UsedObjects.db\"))"
   ]
  },
  {
   "cell_type": "code",
   "execution_count": 3,
   "id": "periodic-identification",
   "metadata": {
    "execution": {
     "iopub.execute_input": "2021-10-01T00:30:08.369121Z",
     "iopub.status.busy": "2021-10-01T00:30:08.367097Z",
     "iopub.status.idle": "2021-10-01T00:30:08.389328Z",
     "shell.execute_reply": "2021-10-01T00:30:08.391156Z"
    },
    "papermill": {
     "duration": 0.067154,
     "end_time": "2021-10-01T00:30:08.391704",
     "exception": false,
     "start_time": "2021-10-01T00:30:08.324550",
     "status": "completed"
    },
    "tags": []
   },
   "outputs": [
    {
     "data": {
      "text/html": [
       "<div>\n",
       "<style scoped>\n",
       "    .dataframe tbody tr th:only-of-type {\n",
       "        vertical-align: middle;\n",
       "    }\n",
       "\n",
       "    .dataframe tbody tr th {\n",
       "        vertical-align: top;\n",
       "    }\n",
       "\n",
       "    .dataframe thead th {\n",
       "        text-align: right;\n",
       "    }\n",
       "</style>\n",
       "<table border=\"1\" class=\"dataframe\">\n",
       "  <thead>\n",
       "    <tr style=\"text-align: right;\">\n",
       "      <th></th>\n",
       "      <th>RECORD_TIME</th>\n",
       "    </tr>\n",
       "  </thead>\n",
       "  <tbody>\n",
       "    <tr>\n",
       "      <th>0</th>\n",
       "      <td>2021-10-01 02:30</td>\n",
       "    </tr>\n",
       "    <tr>\n",
       "      <th>1</th>\n",
       "      <td>2021-10-01 02:00</td>\n",
       "    </tr>\n",
       "  </tbody>\n",
       "</table>\n",
       "</div>"
      ],
      "text/plain": [
       "        RECORD_TIME\n",
       "0  2021-10-01 02:30\n",
       "1  2021-10-01 02:00"
      ]
     },
     "execution_count": 3,
     "metadata": {},
     "output_type": "execute_result"
    }
   ],
   "source": [
    "timestamps"
   ]
  },
  {
   "cell_type": "code",
   "execution_count": 4,
   "id": "alternate-victory",
   "metadata": {
    "execution": {
     "iopub.execute_input": "2021-10-01T00:30:08.444268Z",
     "iopub.status.busy": "2021-10-01T00:30:08.442332Z",
     "iopub.status.idle": "2021-10-01T00:30:09.059461Z",
     "shell.execute_reply": "2021-10-01T00:30:09.060841Z"
    },
    "papermill": {
     "duration": 0.647313,
     "end_time": "2021-10-01T00:30:09.061257",
     "exception": false,
     "start_time": "2021-10-01T00:30:08.413944",
     "status": "completed"
    },
    "tags": []
   },
   "outputs": [],
   "source": [
    "df = pd.read_sql(\"select * from EBAY_TOP_BERLIN where record_time in (select distinct record_time from EBAY_TOP_BERLIN order by record_time desc limit 2)\", sqlite3.connect(\"UsedObjects.db\"))"
   ]
  },
  {
   "cell_type": "code",
   "execution_count": 5,
   "id": "popular-active",
   "metadata": {
    "execution": {
     "iopub.execute_input": "2021-10-01T00:30:09.131962Z",
     "iopub.status.busy": "2021-10-01T00:30:09.119806Z",
     "iopub.status.idle": "2021-10-01T00:30:09.148341Z",
     "shell.execute_reply": "2021-10-01T00:30:09.149603Z"
    },
    "papermill": {
     "duration": 0.067856,
     "end_time": "2021-10-01T00:30:09.150015",
     "exception": false,
     "start_time": "2021-10-01T00:30:09.082159",
     "status": "completed"
    },
    "tags": []
   },
   "outputs": [],
   "source": [
    "df_pivot = df.pivot_table(index=\"PRODUCT\", columns = \"RECORD_TIME\", values = \"LISTING_COUNT\")"
   ]
  },
  {
   "cell_type": "code",
   "execution_count": 6,
   "id": "union-huntington",
   "metadata": {
    "execution": {
     "iopub.execute_input": "2021-10-01T00:30:09.207418Z",
     "iopub.status.busy": "2021-10-01T00:30:09.205203Z",
     "iopub.status.idle": "2021-10-01T00:30:09.210730Z",
     "shell.execute_reply": "2021-10-01T00:30:09.212400Z"
    },
    "papermill": {
     "duration": 0.041508,
     "end_time": "2021-10-01T00:30:09.212923",
     "exception": false,
     "start_time": "2021-10-01T00:30:09.171415",
     "status": "completed"
    },
    "tags": []
   },
   "outputs": [],
   "source": [
    "df_pivot.columns = [\"stamp_1\", \"stamp_2\"]\n",
    "df_pivot_diff = df_pivot.diff(axis=1)"
   ]
  },
  {
   "cell_type": "code",
   "execution_count": 7,
   "id": "fifth-motion",
   "metadata": {
    "execution": {
     "iopub.execute_input": "2021-10-01T00:30:09.268047Z",
     "iopub.status.busy": "2021-10-01T00:30:09.265381Z",
     "iopub.status.idle": "2021-10-01T00:30:10.763878Z",
     "shell.execute_reply": "2021-10-01T00:30:10.765078Z"
    },
    "papermill": {
     "duration": 1.532245,
     "end_time": "2021-10-01T00:30:10.765511",
     "exception": false,
     "start_time": "2021-10-01T00:30:09.233266",
     "status": "completed"
    },
    "tags": []
   },
   "outputs": [
    {
     "data": {
      "text/plain": [
       "<AxesSubplot:ylabel='PRODUCT'>"
      ]
     },
     "execution_count": 7,
     "metadata": {},
     "output_type": "execute_result"
    },
    {
     "data": {
      "image/png": "[encoded data removed]",
      "text/plain": [
       "<Figure size 432x288 with 1 Axes>"
      ]
     },
     "metadata": {
      "needs_background": "light"
     },
     "output_type": "display_data"
    }
   ],
   "source": [
    "df_pivot_diff.sort_values(\"stamp_2\", ascending = False)[\"stamp_2\"].head(10).plot.barh()"
   ]
  },
  {
   "cell_type": "code",
   "execution_count": null,
   "id": "extra-executive",
   "metadata": {
    "papermill": {
     "duration": 0.022534,
     "end_time": "2021-10-01T00:30:10.814567",
     "exception": false,
     "start_time": "2021-10-01T00:30:10.792033",
     "status": "completed"
    },
    "tags": []
   },
   "outputs": [],
   "source": []
  }
 ],
 "metadata": {
  "kernelspec": {
   "display_name": "Python 3",
   "language": "python",
   "name": "python3"
  },
  "language_info": {
   "codemirror_mode": {
    "name": "ipython",
    "version": 3
   },
   "file_extension": ".py",
   "mimetype": "text/x-python",
   "name": "python",
   "nbconvert_exporter": "python",
   "pygments_lexer": "ipython3",
   "version": "3.9.5"
  },
  "papermill": {
   "default_parameters": {},
   "duration": 7.821085,
   "end_time": "2021-10-01T00:30:12.392298",
   "environment_variables": {},
   "exception": null,
   "input_path": "eBay_Overview.ipynb",
   "output_path": "eBay_Overview.ipynb",
   "parameters": {},
   "start_time": "2021-10-01T00:30:04.571213",
   "version": "2.3.3"
  }
 },
 "nbformat": 4,
 "nbformat_minor": 5
}