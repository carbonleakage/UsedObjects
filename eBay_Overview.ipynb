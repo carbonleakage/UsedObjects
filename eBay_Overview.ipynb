{
 "cells": [
  {
   "cell_type": "code",
   "execution_count": 1,
   "id": "reverse-picking",
   "metadata": {
    "execution": {
     "iopub.execute_input": "2021-11-01T09:00:07.535580Z",
     "iopub.status.busy": "2021-11-01T09:00:07.533401Z",
     "iopub.status.idle": "2021-11-01T09:00:08.342753Z",
     "shell.execute_reply": "2021-11-01T09:00:08.344014Z"
    },
    "papermill": {
     "duration": 0.861809,
     "end_time": "2021-11-01T09:00:08.344644",
     "exception": false,
     "start_time": "2021-11-01T09:00:07.482835",
     "status": "completed"
    },
    "tags": []
   },
   "outputs": [],
   "source": [
    "import pandas as pd\n",
    "import sqlite3"
   ]
  },
  {
   "cell_type": "code",
   "execution_count": 2,
   "id": "innovative-syndrome",
   "metadata": {
    "execution": {
     "iopub.execute_input": "2021-11-01T09:00:08.395511Z",
     "iopub.status.busy": "2021-11-01T09:00:08.393323Z",
     "iopub.status.idle": "2021-11-01T09:00:09.084485Z",
     "shell.execute_reply": "2021-11-01T09:00:09.085786Z"
    },
    "papermill": {
     "duration": 0.721171,
     "end_time": "2021-11-01T09:00:09.086192",
     "exception": false,
     "start_time": "2021-11-01T09:00:08.365021",
     "status": "completed"
    },
    "tags": []
   },
   "outputs": [],
   "source": [
    "timestamps = pd.read_sql(\"select distinct record_time from EBAY_TOP_BERLIN order by record_time desc limit 2\", sqlite3.connect(\"UsedObjects.db\"))"
   ]
  },
  {
   "cell_type": "code",
   "execution_count": 3,
   "id": "periodic-identification",
   "metadata": {
    "execution": {
     "iopub.execute_input": "2021-11-01T09:00:09.171545Z",
     "iopub.status.busy": "2021-11-01T09:00:09.169522Z",
     "iopub.status.idle": "2021-11-01T09:00:09.190008Z",
     "shell.execute_reply": "2021-11-01T09:00:09.191335Z"
    },
    "papermill": {
     "duration": 0.073715,
     "end_time": "2021-11-01T09:00:09.191759",
     "exception": false,
     "start_time": "2021-11-01T09:00:09.118044",
     "status": "completed"
    },
    "tags": []
   },
   "outputs": [
    {
     "data": {
      "text/html": [
       "<div>\n",
       "<style scoped>\n",
       "    .dataframe tbody tr th:only-of-type {\n",
       "        vertical-align: middle;\n",
       "    }\n",
       "\n",
       "    .dataframe tbody tr th {\n",
       "        vertical-align: top;\n",
       "    }\n",
       "\n",
       "    .dataframe thead th {\n",
       "        text-align: right;\n",
       "    }\n",
       "</style>\n",
       "<table border=\"1\" class=\"dataframe\">\n",
       "  <thead>\n",
       "    <tr style=\"text-align: right;\">\n",
       "      <th></th>\n",
       "      <th>RECORD_TIME</th>\n",
       "    </tr>\n",
       "  </thead>\n",
       "  <tbody>\n",
       "    <tr>\n",
       "      <th>0</th>\n",
       "      <td>2021-11-01 10:00</td>\n",
       "    </tr>\n",
       "    <tr>\n",
       "      <th>1</th>\n",
       "      <td>2021-11-01 09:30</td>\n",
       "    </tr>\n",
       "  </tbody>\n",
       "</table>\n",
       "</div>"
      ],
      "text/plain": [
       "        RECORD_TIME\n",
       "0  2021-11-01 10:00\n",
       "1  2021-11-01 09:30"
      ]
     },
     "execution_count": 3,
     "metadata": {},
     "output_type": "execute_result"
    }
   ],
   "source": [
    "timestamps"
   ]
  },
  {
   "cell_type": "code",
   "execution_count": 4,
   "id": "alternate-victory",
   "metadata": {
    "execution": {
     "iopub.execute_input": "2021-11-01T09:00:09.243979Z",
     "iopub.status.busy": "2021-11-01T09:00:09.241661Z",
     "iopub.status.idle": "2021-11-01T09:00:10.247213Z",
     "shell.execute_reply": "2021-11-01T09:00:10.248811Z"
    },
    "papermill": {
     "duration": 1.036292,
     "end_time": "2021-11-01T09:00:10.249279",
     "exception": false,
     "start_time": "2021-11-01T09:00:09.212987",
     "status": "completed"
    },
    "tags": []
   },
   "outputs": [],
   "source": [
    "df = pd.read_sql(\"select * from EBAY_TOP_BERLIN where record_time in (select distinct record_time from EBAY_TOP_BERLIN order by record_time desc limit 2)\", sqlite3.connect(\"UsedObjects.db\"))"
   ]
  },
  {
   "cell_type": "code",
   "execution_count": 5,
   "id": "popular-active",
   "metadata": {
    "execution": {
     "iopub.execute_input": "2021-11-01T09:00:10.319094Z",
     "iopub.status.busy": "2021-11-01T09:00:10.307273Z",
     "iopub.status.idle": "2021-11-01T09:00:10.336446Z",
     "shell.execute_reply": "2021-11-01T09:00:10.338072Z"
    },
    "papermill": {
     "duration": 0.068491,
     "end_time": "2021-11-01T09:00:10.338552",
     "exception": false,
     "start_time": "2021-11-01T09:00:10.270061",
     "status": "completed"
    },
    "tags": []
   },
   "outputs": [],
   "source": [
    "df_pivot = df.pivot_table(index=\"PRODUCT\", columns = \"RECORD_TIME\", values = \"LISTING_COUNT\")"
   ]
  },
  {
   "cell_type": "code",
   "execution_count": 6,
   "id": "union-huntington",
   "metadata": {
    "execution": {
     "iopub.execute_input": "2021-11-01T09:00:10.396714Z",
     "iopub.status.busy": "2021-11-01T09:00:10.394393Z",
     "iopub.status.idle": "2021-11-01T09:00:10.400163Z",
     "shell.execute_reply": "2021-11-01T09:00:10.401643Z"
    },
    "papermill": {
     "duration": 0.042198,
     "end_time": "2021-11-01T09:00:10.402101",
     "exception": false,
     "start_time": "2021-11-01T09:00:10.359903",
     "status": "completed"
    },
    "tags": []
   },
   "outputs": [],
   "source": [
    "df_pivot.columns = [\"stamp_1\", \"stamp_2\"]\n",
    "df_pivot_diff = df_pivot.diff(axis=1)"
   ]
  },
  {
   "cell_type": "code",
   "execution_count": 7,
   "id": "fifth-motion",
   "metadata": {
    "execution": {
     "iopub.execute_input": "2021-11-01T09:00:10.455998Z",
     "iopub.status.busy": "2021-11-01T09:00:10.453815Z",
     "iopub.status.idle": "2021-11-01T09:00:11.916765Z",
     "shell.execute_reply": "2021-11-01T09:00:11.918222Z"
    },
    "papermill": {
     "duration": 1.495892,
     "end_time": "2021-11-01T09:00:11.918670",
     "exception": false,
     "start_time": "2021-11-01T09:00:10.422778",
     "status": "completed"
    },
    "tags": []
   },
   "outputs": [
    {
     "data": {
      "text/plain": [
       "<AxesSubplot:ylabel='PRODUCT'>"
      ]
     },
     "execution_count": 7,
     "metadata": {},
     "output_type": "execute_result"
    },
    {
     "data": {
      "image/png": "[encoded data removed]",
      "text/plain": [
       "<Figure size 432x288 with 1 Axes>"
      ]
     },
     "metadata": {
      "needs_background": "light"
     },
     "output_type": "display_data"
    }
   ],
   "source": [
    "df_pivot_diff.sort_values(\"stamp_2\", ascending = False)[\"stamp_2\"].head(10).plot.barh()"
   ]
  },
  {
   "cell_type": "code",
   "execution_count": null,
   "id": "extra-executive",
   "metadata": {
    "papermill": {
     "duration": 0.031639,
     "end_time": "2021-11-01T09:00:11.981017",
     "exception": false,
     "start_time": "2021-11-01T09:00:11.949378",
     "status": "completed"
    },
    "tags": []
   },
   "outputs": [],
   "source": []
  }
 ],
 "metadata": {
  "kernelspec": {
   "display_name": "Python 3",
   "language": "python",
   "name": "python3"
  },
  "language_info": {
   "codemirror_mode": {
    "name": "ipython",
    "version": 3
   },
   "file_extension": ".py",
   "mimetype": "text/x-python",
   "name": "python",
   "nbconvert_exporter": "python",
   "pygments_lexer": "ipython3",
   "version": "3.9.5"
  },
  "papermill": {
   "default_parameters": {},
   "duration": 7.680948,
   "end_time": "2021-11-01T09:00:12.632333",
   "environment_variables": {},
   "exception": null,
   "input_path": "eBay_Overview.ipynb",
   "output_path": "eBay_Overview.ipynb",
   "parameters": {},
   "start_time": "2021-11-01T09:00:04.951385",
   "version": "2.3.3"
  }
 },
 "nbformat": 4,
 "nbformat_minor": 5
}