{
 "cells": [
  {
   "cell_type": "code",
   "execution_count": 1,
   "id": "reverse-picking",
   "metadata": {
    "execution": {
     "iopub.execute_input": "2021-11-01T20:30:07.412313Z",
     "iopub.status.busy": "2021-11-01T20:30:07.410007Z",
     "iopub.status.idle": "2021-11-01T20:30:08.348557Z",
     "shell.execute_reply": "2021-11-01T20:30:08.350216Z"
    },
    "papermill": {
     "duration": 0.987899,
     "end_time": "2021-11-01T20:30:08.350953",
     "exception": false,
     "start_time": "2021-11-01T20:30:07.363054",
     "status": "completed"
    },
    "tags": []
   },
   "outputs": [],
   "source": [
    "import pandas as pd\n",
    "import sqlite3"
   ]
  },
  {
   "cell_type": "code",
   "execution_count": 2,
   "id": "innovative-syndrome",
   "metadata": {
    "execution": {
     "iopub.execute_input": "2021-11-01T20:30:08.436573Z",
     "iopub.status.busy": "2021-11-01T20:30:08.434478Z",
     "iopub.status.idle": "2021-11-01T20:30:09.134101Z",
     "shell.execute_reply": "2021-11-01T20:30:09.135620Z"
    },
    "papermill": {
     "duration": 0.732965,
     "end_time": "2021-11-01T20:30:09.136100",
     "exception": false,
     "start_time": "2021-11-01T20:30:08.403135",
     "status": "completed"
    },
    "tags": []
   },
   "outputs": [],
   "source": [
    "timestamps = pd.read_sql(\"select distinct record_time from EBAY_TOP_BERLIN order by record_time desc limit 2\", sqlite3.connect(\"UsedObjects.db\"))"
   ]
  },
  {
   "cell_type": "code",
   "execution_count": 3,
   "id": "periodic-identification",
   "metadata": {
    "execution": {
     "iopub.execute_input": "2021-11-01T20:30:09.204814Z",
     "iopub.status.busy": "2021-11-01T20:30:09.202497Z",
     "iopub.status.idle": "2021-11-01T20:30:09.225888Z",
     "shell.execute_reply": "2021-11-01T20:30:09.227444Z"
    },
    "papermill": {
     "duration": 0.071851,
     "end_time": "2021-11-01T20:30:09.227929",
     "exception": false,
     "start_time": "2021-11-01T20:30:09.156078",
     "status": "completed"
    },
    "tags": []
   },
   "outputs": [
    {
     "data": {
      "text/html": [
       "<div>\n",
       "<style scoped>\n",
       "    .dataframe tbody tr th:only-of-type {\n",
       "        vertical-align: middle;\n",
       "    }\n",
       "\n",
       "    .dataframe tbody tr th {\n",
       "        vertical-align: top;\n",
       "    }\n",
       "\n",
       "    .dataframe thead th {\n",
       "        text-align: right;\n",
       "    }\n",
       "</style>\n",
       "<table border=\"1\" class=\"dataframe\">\n",
       "  <thead>\n",
       "    <tr style=\"text-align: right;\">\n",
       "      <th></th>\n",
       "      <th>RECORD_TIME</th>\n",
       "    </tr>\n",
       "  </thead>\n",
       "  <tbody>\n",
       "    <tr>\n",
       "      <th>0</th>\n",
       "      <td>2021-11-01 21:30</td>\n",
       "    </tr>\n",
       "    <tr>\n",
       "      <th>1</th>\n",
       "      <td>2021-11-01 21:00</td>\n",
       "    </tr>\n",
       "  </tbody>\n",
       "</table>\n",
       "</div>"
      ],
      "text/plain": [
       "        RECORD_TIME\n",
       "0  2021-11-01 21:30\n",
       "1  2021-11-01 21:00"
      ]
     },
     "execution_count": 3,
     "metadata": {},
     "output_type": "execute_result"
    }
   ],
   "source": [
    "timestamps"
   ]
  },
  {
   "cell_type": "code",
   "execution_count": 4,
   "id": "alternate-victory",
   "metadata": {
    "execution": {
     "iopub.execute_input": "2021-11-01T20:30:09.282266Z",
     "iopub.status.busy": "2021-11-01T20:30:09.280360Z",
     "iopub.status.idle": "2021-11-01T20:30:10.300325Z",
     "shell.execute_reply": "2021-11-01T20:30:10.303268Z"
    },
    "papermill": {
     "duration": 1.055547,
     "end_time": "2021-11-01T20:30:10.305054",
     "exception": false,
     "start_time": "2021-11-01T20:30:09.249507",
     "status": "completed"
    },
    "tags": []
   },
   "outputs": [],
   "source": [
    "df = pd.read_sql(\"select * from EBAY_TOP_BERLIN where record_time in (select distinct record_time from EBAY_TOP_BERLIN order by record_time desc limit 2)\", sqlite3.connect(\"UsedObjects.db\"))"
   ]
  },
  {
   "cell_type": "code",
   "execution_count": 5,
   "id": "popular-active",
   "metadata": {
    "execution": {
     "iopub.execute_input": "2021-11-01T20:30:10.390206Z",
     "iopub.status.busy": "2021-11-01T20:30:10.382802Z",
     "iopub.status.idle": "2021-11-01T20:30:10.416259Z",
     "shell.execute_reply": "2021-11-01T20:30:10.417866Z"
    },
    "papermill": {
     "duration": 0.082271,
     "end_time": "2021-11-01T20:30:10.418389",
     "exception": false,
     "start_time": "2021-11-01T20:30:10.336118",
     "status": "completed"
    },
    "tags": []
   },
   "outputs": [],
   "source": [
    "df_pivot = df.pivot_table(index=\"PRODUCT\", columns = \"RECORD_TIME\", values = \"LISTING_COUNT\")"
   ]
  },
  {
   "cell_type": "code",
   "execution_count": 6,
   "id": "union-huntington",
   "metadata": {
    "execution": {
     "iopub.execute_input": "2021-11-01T20:30:10.479398Z",
     "iopub.status.busy": "2021-11-01T20:30:10.477197Z",
     "iopub.status.idle": "2021-11-01T20:30:10.482205Z",
     "shell.execute_reply": "2021-11-01T20:30:10.483536Z"
    },
    "papermill": {
     "duration": 0.043089,
     "end_time": "2021-11-01T20:30:10.483955",
     "exception": false,
     "start_time": "2021-11-01T20:30:10.440866",
     "status": "completed"
    },
    "tags": []
   },
   "outputs": [],
   "source": [
    "df_pivot.columns = [\"stamp_1\", \"stamp_2\"]\n",
    "df_pivot_diff = df_pivot.diff(axis=1)"
   ]
  },
  {
   "cell_type": "code",
   "execution_count": 7,
   "id": "fifth-motion",
   "metadata": {
    "execution": {
     "iopub.execute_input": "2021-11-01T20:30:10.539657Z",
     "iopub.status.busy": "2021-11-01T20:30:10.537158Z",
     "iopub.status.idle": "2021-11-01T20:30:12.447187Z",
     "shell.execute_reply": "2021-11-01T20:30:12.449597Z"
    },
    "papermill": {
     "duration": 1.946569,
     "end_time": "2021-11-01T20:30:12.450366",
     "exception": false,
     "start_time": "2021-11-01T20:30:10.503797",
     "status": "completed"
    },
    "tags": []
   },
   "outputs": [
    {
     "data": {
      "text/plain": [
       "<AxesSubplot:ylabel='PRODUCT'>"
      ]
     },
     "execution_count": 7,
     "metadata": {},
     "output_type": "execute_result"
    },
    {
     "data": {
      "image/png": "[encoded data removed]",
      "text/plain": [
       "<Figure size 432x288 with 1 Axes>"
      ]
     },
     "metadata": {
      "needs_background": "light"
     },
     "output_type": "display_data"
    }
   ],
   "source": [
    "df_pivot_diff.sort_values(\"stamp_2\", ascending = False)[\"stamp_2\"].head(10).plot.barh()"
   ]
  },
  {
   "cell_type": "code",
   "execution_count": null,
   "id": "extra-executive",
   "metadata": {
    "papermill": {
     "duration": 0.031837,
     "end_time": "2021-11-01T20:30:12.519252",
     "exception": false,
     "start_time": "2021-11-01T20:30:12.487415",
     "status": "completed"
    },
    "tags": []
   },
   "outputs": [],
   "source": []
  }
 ],
 "metadata": {
  "kernelspec": {
   "display_name": "Python 3",
   "language": "python",
   "name": "python3"
  },
  "language_info": {
   "codemirror_mode": {
    "name": "ipython",
    "version": 3
   },
   "file_extension": ".py",
   "mimetype": "text/x-python",
   "name": "python",
   "nbconvert_exporter": "python",
   "pygments_lexer": "ipython3",
   "version": "3.9.5"
  },
  "papermill": {
   "default_parameters": {},
   "duration": 8.618454,
   "end_time": "2021-11-01T20:30:13.272301",
   "environment_variables": {},
   "exception": null,
   "input_path": "eBay_Overview.ipynb",
   "output_path": "eBay_Overview.ipynb",
   "parameters": {},
   "start_time": "2021-11-01T20:30:04.653847",
   "version": "2.3.3"
  }
 },
 "nbformat": 4,
 "nbformat_minor": 5
}