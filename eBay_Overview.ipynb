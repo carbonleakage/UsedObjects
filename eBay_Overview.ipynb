{
 "cells": [
  {
   "cell_type": "code",
   "execution_count": 1,
   "id": "reverse-picking",
   "metadata": {
    "execution": {
     "iopub.execute_input": "2021-09-13T09:00:07.093554Z",
     "iopub.status.busy": "2021-09-13T09:00:07.091579Z",
     "iopub.status.idle": "2021-09-13T09:00:07.895371Z",
     "shell.execute_reply": "2021-09-13T09:00:07.896660Z"
    },
    "papermill": {
     "duration": 0.854462,
     "end_time": "2021-09-13T09:00:07.897286",
     "exception": false,
     "start_time": "2021-09-13T09:00:07.042824",
     "status": "completed"
    },
    "tags": []
   },
   "outputs": [],
   "source": [
    "import pandas as pd\n",
    "import sqlite3"
   ]
  },
  {
   "cell_type": "code",
   "execution_count": 2,
   "id": "innovative-syndrome",
   "metadata": {
    "execution": {
     "iopub.execute_input": "2021-09-13T09:00:07.948438Z",
     "iopub.status.busy": "2021-09-13T09:00:07.946429Z",
     "iopub.status.idle": "2021-09-13T09:00:08.218155Z",
     "shell.execute_reply": "2021-09-13T09:00:08.219442Z"
    },
    "papermill": {
     "duration": 0.30118,
     "end_time": "2021-09-13T09:00:08.219845",
     "exception": false,
     "start_time": "2021-09-13T09:00:07.918665",
     "status": "completed"
    },
    "tags": []
   },
   "outputs": [],
   "source": [
    "timestamps = pd.read_sql(\"select distinct record_time from EBAY_TOP_BERLIN order by record_time desc limit 2\", sqlite3.connect(\"UsedObjects.db\"))"
   ]
  },
  {
   "cell_type": "code",
   "execution_count": 3,
   "id": "periodic-identification",
   "metadata": {
    "execution": {
     "iopub.execute_input": "2021-09-13T09:00:08.282720Z",
     "iopub.status.busy": "2021-09-13T09:00:08.280683Z",
     "iopub.status.idle": "2021-09-13T09:00:08.300463Z",
     "shell.execute_reply": "2021-09-13T09:00:08.301770Z"
    },
    "papermill": {
     "duration": 0.063003,
     "end_time": "2021-09-13T09:00:08.302184",
     "exception": false,
     "start_time": "2021-09-13T09:00:08.239181",
     "status": "completed"
    },
    "tags": []
   },
   "outputs": [
    {
     "data": {
      "text/html": [
       "<div>\n",
       "<style scoped>\n",
       "    .dataframe tbody tr th:only-of-type {\n",
       "        vertical-align: middle;\n",
       "    }\n",
       "\n",
       "    .dataframe tbody tr th {\n",
       "        vertical-align: top;\n",
       "    }\n",
       "\n",
       "    .dataframe thead th {\n",
       "        text-align: right;\n",
       "    }\n",
       "</style>\n",
       "<table border=\"1\" class=\"dataframe\">\n",
       "  <thead>\n",
       "    <tr style=\"text-align: right;\">\n",
       "      <th></th>\n",
       "      <th>RECORD_TIME</th>\n",
       "    </tr>\n",
       "  </thead>\n",
       "  <tbody>\n",
       "    <tr>\n",
       "      <th>0</th>\n",
       "      <td>2021-09-13 11:00</td>\n",
       "    </tr>\n",
       "    <tr>\n",
       "      <th>1</th>\n",
       "      <td>2021-09-13 10:30</td>\n",
       "    </tr>\n",
       "  </tbody>\n",
       "</table>\n",
       "</div>"
      ],
      "text/plain": [
       "        RECORD_TIME\n",
       "0  2021-09-13 11:00\n",
       "1  2021-09-13 10:30"
      ]
     },
     "execution_count": 3,
     "metadata": {},
     "output_type": "execute_result"
    }
   ],
   "source": [
    "timestamps"
   ]
  },
  {
   "cell_type": "code",
   "execution_count": 4,
   "id": "alternate-victory",
   "metadata": {
    "execution": {
     "iopub.execute_input": "2021-09-13T09:00:08.353530Z",
     "iopub.status.busy": "2021-09-13T09:00:08.351645Z",
     "iopub.status.idle": "2021-09-13T09:00:08.757295Z",
     "shell.execute_reply": "2021-09-13T09:00:08.758518Z"
    },
    "papermill": {
     "duration": 0.435478,
     "end_time": "2021-09-13T09:00:08.758976",
     "exception": false,
     "start_time": "2021-09-13T09:00:08.323498",
     "status": "completed"
    },
    "tags": []
   },
   "outputs": [],
   "source": [
    "df = pd.read_sql(\"select * from EBAY_TOP_BERLIN where record_time in (select distinct record_time from EBAY_TOP_BERLIN order by record_time desc limit 2)\", sqlite3.connect(\"UsedObjects.db\"))"
   ]
  },
  {
   "cell_type": "code",
   "execution_count": 5,
   "id": "popular-active",
   "metadata": {
    "execution": {
     "iopub.execute_input": "2021-09-13T09:00:08.840418Z",
     "iopub.status.busy": "2021-09-13T09:00:08.827941Z",
     "iopub.status.idle": "2021-09-13T09:00:08.858398Z",
     "shell.execute_reply": "2021-09-13T09:00:08.859776Z"
    },
    "papermill": {
     "duration": 0.074252,
     "end_time": "2021-09-13T09:00:08.860196",
     "exception": false,
     "start_time": "2021-09-13T09:00:08.785944",
     "status": "completed"
    },
    "tags": []
   },
   "outputs": [],
   "source": [
    "df_pivot = df.pivot_table(index=\"PRODUCT\", columns = \"RECORD_TIME\", values = \"LISTING_COUNT\")"
   ]
  },
  {
   "cell_type": "code",
   "execution_count": 6,
   "id": "union-huntington",
   "metadata": {
    "execution": {
     "iopub.execute_input": "2021-09-13T09:00:08.916036Z",
     "iopub.status.busy": "2021-09-13T09:00:08.913937Z",
     "iopub.status.idle": "2021-09-13T09:00:08.919316Z",
     "shell.execute_reply": "2021-09-13T09:00:08.920709Z"
    },
    "papermill": {
     "duration": 0.040866,
     "end_time": "2021-09-13T09:00:08.921145",
     "exception": false,
     "start_time": "2021-09-13T09:00:08.880279",
     "status": "completed"
    },
    "tags": []
   },
   "outputs": [],
   "source": [
    "df_pivot.columns = [\"stamp_1\", \"stamp_2\"]\n",
    "df_pivot_diff = df_pivot.diff(axis=1)"
   ]
  },
  {
   "cell_type": "code",
   "execution_count": 7,
   "id": "fifth-motion",
   "metadata": {
    "execution": {
     "iopub.execute_input": "2021-09-13T09:00:08.974945Z",
     "iopub.status.busy": "2021-09-13T09:00:08.972448Z",
     "iopub.status.idle": "2021-09-13T09:00:10.449833Z",
     "shell.execute_reply": "2021-09-13T09:00:10.451195Z"
    },
    "papermill": {
     "duration": 1.510273,
     "end_time": "2021-09-13T09:00:10.451618",
     "exception": false,
     "start_time": "2021-09-13T09:00:08.941345",
     "status": "completed"
    },
    "tags": []
   },
   "outputs": [
    {
     "data": {
      "text/plain": [
       "<AxesSubplot:ylabel='PRODUCT'>"
      ]
     },
     "execution_count": 7,
     "metadata": {},
     "output_type": "execute_result"
    },
    {
     "data": {
      "image/png": "[encoded data removed]",
      "text/plain": [
       "<Figure size 432x288 with 1 Axes>"
      ]
     },
     "metadata": {
      "needs_background": "light"
     },
     "output_type": "display_data"
    }
   ],
   "source": [
    "df_pivot_diff.sort_values(\"stamp_2\", ascending = False)[\"stamp_2\"].head(10).plot.barh()"
   ]
  },
  {
   "cell_type": "code",
   "execution_count": null,
   "id": "extra-executive",
   "metadata": {
    "papermill": {
     "duration": 0.022022,
     "end_time": "2021-09-13T09:00:10.498769",
     "exception": false,
     "start_time": "2021-09-13T09:00:10.476747",
     "status": "completed"
    },
    "tags": []
   },
   "outputs": [],
   "source": []
  }
 ],
 "metadata": {
  "kernelspec": {
   "display_name": "Python 3",
   "language": "python",
   "name": "python3"
  },
  "language_info": {
   "codemirror_mode": {
    "name": "ipython",
    "version": 3
   },
   "file_extension": ".py",
   "mimetype": "text/x-python",
   "name": "python",
   "nbconvert_exporter": "python",
   "pygments_lexer": "ipython3",
   "version": "3.9.5"
  },
  "papermill": {
   "default_parameters": {},
   "duration": 6.505226,
   "end_time": "2021-09-13T09:00:11.141888",
   "environment_variables": {},
   "exception": null,
   "input_path": "eBay_Overview.ipynb",
   "output_path": "eBay_Overview.ipynb",
   "parameters": {},
   "start_time": "2021-09-13T09:00:04.636662",
   "version": "2.3.3"
  }
 },
 "nbformat": 4,
 "nbformat_minor": 5
}