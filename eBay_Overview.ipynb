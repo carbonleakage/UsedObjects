{
 "cells": [
  {
   "cell_type": "code",
   "execution_count": 1,
   "id": "reverse-picking",
   "metadata": {
    "execution": {
     "iopub.execute_input": "2021-09-09T05:30:07.140768Z",
     "iopub.status.busy": "2021-09-09T05:30:07.138732Z",
     "iopub.status.idle": "2021-09-09T05:30:07.949991Z",
     "shell.execute_reply": "2021-09-09T05:30:07.948432Z"
    },
    "papermill": {
     "duration": 0.861663,
     "end_time": "2021-09-09T05:30:07.950383",
     "exception": false,
     "start_time": "2021-09-09T05:30:07.088720",
     "status": "completed"
    },
    "tags": []
   },
   "outputs": [],
   "source": [
    "import pandas as pd\n",
    "import sqlite3"
   ]
  },
  {
   "cell_type": "code",
   "execution_count": 2,
   "id": "innovative-syndrome",
   "metadata": {
    "execution": {
     "iopub.execute_input": "2021-09-09T05:30:08.003128Z",
     "iopub.status.busy": "2021-09-09T05:30:08.000755Z",
     "iopub.status.idle": "2021-09-09T05:30:08.240150Z",
     "shell.execute_reply": "2021-09-09T05:30:08.241429Z"
    },
    "papermill": {
     "duration": 0.269295,
     "end_time": "2021-09-09T05:30:08.241838",
     "exception": false,
     "start_time": "2021-09-09T05:30:07.972543",
     "status": "completed"
    },
    "tags": []
   },
   "outputs": [],
   "source": [
    "timestamps = pd.read_sql(\"select distinct record_time from EBAY_TOP_BERLIN order by record_time desc limit 2\", sqlite3.connect(\"UsedObjects.db\"))"
   ]
  },
  {
   "cell_type": "code",
   "execution_count": 3,
   "id": "periodic-identification",
   "metadata": {
    "execution": {
     "iopub.execute_input": "2021-09-09T05:30:08.311548Z",
     "iopub.status.busy": "2021-09-09T05:30:08.306161Z",
     "iopub.status.idle": "2021-09-09T05:30:08.326496Z",
     "shell.execute_reply": "2021-09-09T05:30:08.327846Z"
    },
    "papermill": {
     "duration": 0.067051,
     "end_time": "2021-09-09T05:30:08.328261",
     "exception": false,
     "start_time": "2021-09-09T05:30:08.261210",
     "status": "completed"
    },
    "tags": []
   },
   "outputs": [
    {
     "data": {
      "text/html": [
       "<div>\n",
       "<style scoped>\n",
       "    .dataframe tbody tr th:only-of-type {\n",
       "        vertical-align: middle;\n",
       "    }\n",
       "\n",
       "    .dataframe tbody tr th {\n",
       "        vertical-align: top;\n",
       "    }\n",
       "\n",
       "    .dataframe thead th {\n",
       "        text-align: right;\n",
       "    }\n",
       "</style>\n",
       "<table border=\"1\" class=\"dataframe\">\n",
       "  <thead>\n",
       "    <tr style=\"text-align: right;\">\n",
       "      <th></th>\n",
       "      <th>RECORD_TIME</th>\n",
       "    </tr>\n",
       "  </thead>\n",
       "  <tbody>\n",
       "    <tr>\n",
       "      <th>0</th>\n",
       "      <td>2021-09-09 07:30</td>\n",
       "    </tr>\n",
       "    <tr>\n",
       "      <th>1</th>\n",
       "      <td>2021-09-09 07:00</td>\n",
       "    </tr>\n",
       "  </tbody>\n",
       "</table>\n",
       "</div>"
      ],
      "text/plain": [
       "        RECORD_TIME\n",
       "0  2021-09-09 07:30\n",
       "1  2021-09-09 07:00"
      ]
     },
     "execution_count": 3,
     "metadata": {},
     "output_type": "execute_result"
    }
   ],
   "source": [
    "timestamps"
   ]
  },
  {
   "cell_type": "code",
   "execution_count": 4,
   "id": "alternate-victory",
   "metadata": {
    "execution": {
     "iopub.execute_input": "2021-09-09T05:30:08.379583Z",
     "iopub.status.busy": "2021-09-09T05:30:08.377519Z",
     "iopub.status.idle": "2021-09-09T05:30:08.733627Z",
     "shell.execute_reply": "2021-09-09T05:30:08.734828Z"
    },
    "papermill": {
     "duration": 0.385855,
     "end_time": "2021-09-09T05:30:08.735306",
     "exception": false,
     "start_time": "2021-09-09T05:30:08.349451",
     "status": "completed"
    },
    "tags": []
   },
   "outputs": [],
   "source": [
    "df = pd.read_sql(\"select * from EBAY_TOP_BERLIN where record_time in (select distinct record_time from EBAY_TOP_BERLIN order by record_time desc limit 2)\", sqlite3.connect(\"UsedObjects.db\"))"
   ]
  },
  {
   "cell_type": "code",
   "execution_count": 5,
   "id": "popular-active",
   "metadata": {
    "execution": {
     "iopub.execute_input": "2021-09-09T05:30:08.815582Z",
     "iopub.status.busy": "2021-09-09T05:30:08.803939Z",
     "iopub.status.idle": "2021-09-09T05:30:08.833239Z",
     "shell.execute_reply": "2021-09-09T05:30:08.831762Z"
    },
    "papermill": {
     "duration": 0.072468,
     "end_time": "2021-09-09T05:30:08.833605",
     "exception": false,
     "start_time": "2021-09-09T05:30:08.761137",
     "status": "completed"
    },
    "tags": []
   },
   "outputs": [],
   "source": [
    "df_pivot = df.pivot_table(index=\"PRODUCT\", columns = \"RECORD_TIME\", values = \"LISTING_COUNT\")"
   ]
  },
  {
   "cell_type": "code",
   "execution_count": 6,
   "id": "union-huntington",
   "metadata": {
    "execution": {
     "iopub.execute_input": "2021-09-09T05:30:08.889786Z",
     "iopub.status.busy": "2021-09-09T05:30:08.887743Z",
     "iopub.status.idle": "2021-09-09T05:30:08.893026Z",
     "shell.execute_reply": "2021-09-09T05:30:08.894301Z"
    },
    "papermill": {
     "duration": 0.040795,
     "end_time": "2021-09-09T05:30:08.894711",
     "exception": false,
     "start_time": "2021-09-09T05:30:08.853916",
     "status": "completed"
    },
    "tags": []
   },
   "outputs": [],
   "source": [
    "df_pivot.columns = [\"stamp_1\", \"stamp_2\"]\n",
    "df_pivot_diff = df_pivot.diff(axis=1)"
   ]
  },
  {
   "cell_type": "code",
   "execution_count": 7,
   "id": "fifth-motion",
   "metadata": {
    "execution": {
     "iopub.execute_input": "2021-09-09T05:30:08.949770Z",
     "iopub.status.busy": "2021-09-09T05:30:08.947300Z",
     "iopub.status.idle": "2021-09-09T05:30:10.430407Z",
     "shell.execute_reply": "2021-09-09T05:30:10.431977Z"
    },
    "papermill": {
     "duration": 1.516217,
     "end_time": "2021-09-09T05:30:10.432450",
     "exception": false,
     "start_time": "2021-09-09T05:30:08.916233",
     "status": "completed"
    },
    "tags": []
   },
   "outputs": [
    {
     "data": {
      "text/plain": [
       "<AxesSubplot:ylabel='PRODUCT'>"
      ]
     },
     "execution_count": 7,
     "metadata": {},
     "output_type": "execute_result"
    },
    {
     "data": {
      "image/png": "[encoded data removed]",
      "text/plain": [
       "<Figure size 432x288 with 1 Axes>"
      ]
     },
     "metadata": {
      "needs_background": "light"
     },
     "output_type": "display_data"
    }
   ],
   "source": [
    "df_pivot_diff.sort_values(\"stamp_2\", ascending = False)[\"stamp_2\"].head(10).plot.barh()"
   ]
  },
  {
   "cell_type": "code",
   "execution_count": null,
   "id": "extra-executive",
   "metadata": {
    "papermill": {
     "duration": 0.022285,
     "end_time": "2021-09-09T05:30:10.479229",
     "exception": false,
     "start_time": "2021-09-09T05:30:10.456944",
     "status": "completed"
    },
    "tags": []
   },
   "outputs": [],
   "source": []
  }
 ],
 "metadata": {
  "kernelspec": {
   "display_name": "Python 3",
   "language": "python",
   "name": "python3"
  },
  "language_info": {
   "codemirror_mode": {
    "name": "ipython",
    "version": 3
   },
   "file_extension": ".py",
   "mimetype": "text/x-python",
   "name": "python",
   "nbconvert_exporter": "python",
   "pygments_lexer": "ipython3",
   "version": "3.9.5"
  },
  "papermill": {
   "default_parameters": {},
   "duration": 6.43997,
   "end_time": "2021-09-09T05:30:11.121963",
   "environment_variables": {},
   "exception": null,
   "input_path": "eBay_Overview.ipynb",
   "output_path": "eBay_Overview.ipynb",
   "parameters": {},
   "start_time": "2021-09-09T05:30:04.681993",
   "version": "2.3.3"
  }
 },
 "nbformat": 4,
 "nbformat_minor": 5
}