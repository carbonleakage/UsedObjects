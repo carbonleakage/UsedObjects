{
 "cells": [
  {
   "cell_type": "code",
   "execution_count": 1,
   "id": "reverse-picking",
   "metadata": {
    "execution": {
     "iopub.execute_input": "2021-08-18T08:30:07.151029Z",
     "iopub.status.busy": "2021-08-18T08:30:07.149000Z",
     "iopub.status.idle": "2021-08-18T08:30:07.957596Z",
     "shell.execute_reply": "2021-08-18T08:30:07.955849Z"
    },
    "papermill": {
     "duration": 0.858814,
     "end_time": "2021-08-18T08:30:07.958088",
     "exception": false,
     "start_time": "2021-08-18T08:30:07.099274",
     "status": "completed"
    },
    "tags": []
   },
   "outputs": [],
   "source": [
    "import pandas as pd\n",
    "import sqlite3"
   ]
  },
  {
   "cell_type": "code",
   "execution_count": 2,
   "id": "innovative-syndrome",
   "metadata": {
    "execution": {
     "iopub.execute_input": "2021-08-18T08:30:08.009381Z",
     "iopub.status.busy": "2021-08-18T08:30:08.007216Z",
     "iopub.status.idle": "2021-08-18T08:30:08.081480Z",
     "shell.execute_reply": "2021-08-18T08:30:08.082754Z"
    },
    "papermill": {
     "duration": 0.104679,
     "end_time": "2021-08-18T08:30:08.083167",
     "exception": false,
     "start_time": "2021-08-18T08:30:07.978488",
     "status": "completed"
    },
    "tags": []
   },
   "outputs": [],
   "source": [
    "timestamps = pd.read_sql(\"select distinct record_time from EBAY_TOP_BERLIN order by record_time desc limit 2\", sqlite3.connect(\"UsedObjects.db\"))"
   ]
  },
  {
   "cell_type": "code",
   "execution_count": 3,
   "id": "periodic-identification",
   "metadata": {
    "execution": {
     "iopub.execute_input": "2021-08-18T08:30:08.150605Z",
     "iopub.status.busy": "2021-08-18T08:30:08.148489Z",
     "iopub.status.idle": "2021-08-18T08:30:08.168199Z",
     "shell.execute_reply": "2021-08-18T08:30:08.169431Z"
    },
    "papermill": {
     "duration": 0.065104,
     "end_time": "2021-08-18T08:30:08.169829",
     "exception": false,
     "start_time": "2021-08-18T08:30:08.104725",
     "status": "completed"
    },
    "tags": []
   },
   "outputs": [
    {
     "data": {
      "text/html": [
       "<div>\n",
       "<style scoped>\n",
       "    .dataframe tbody tr th:only-of-type {\n",
       "        vertical-align: middle;\n",
       "    }\n",
       "\n",
       "    .dataframe tbody tr th {\n",
       "        vertical-align: top;\n",
       "    }\n",
       "\n",
       "    .dataframe thead th {\n",
       "        text-align: right;\n",
       "    }\n",
       "</style>\n",
       "<table border=\"1\" class=\"dataframe\">\n",
       "  <thead>\n",
       "    <tr style=\"text-align: right;\">\n",
       "      <th></th>\n",
       "      <th>RECORD_TIME</th>\n",
       "    </tr>\n",
       "  </thead>\n",
       "  <tbody>\n",
       "    <tr>\n",
       "      <th>0</th>\n",
       "      <td>2021-08-18 10:30</td>\n",
       "    </tr>\n",
       "    <tr>\n",
       "      <th>1</th>\n",
       "      <td>2021-08-18 10:00</td>\n",
       "    </tr>\n",
       "  </tbody>\n",
       "</table>\n",
       "</div>"
      ],
      "text/plain": [
       "        RECORD_TIME\n",
       "0  2021-08-18 10:30\n",
       "1  2021-08-18 10:00"
      ]
     },
     "execution_count": 3,
     "metadata": {},
     "output_type": "execute_result"
    }
   ],
   "source": [
    "timestamps"
   ]
  },
  {
   "cell_type": "code",
   "execution_count": 4,
   "id": "alternate-victory",
   "metadata": {
    "execution": {
     "iopub.execute_input": "2021-08-18T08:30:08.222840Z",
     "iopub.status.busy": "2021-08-18T08:30:08.220468Z",
     "iopub.status.idle": "2021-08-18T08:30:08.332115Z",
     "shell.execute_reply": "2021-08-18T08:30:08.333336Z"
    },
    "papermill": {
     "duration": 0.142073,
     "end_time": "2021-08-18T08:30:08.333741",
     "exception": false,
     "start_time": "2021-08-18T08:30:08.191668",
     "status": "completed"
    },
    "tags": []
   },
   "outputs": [],
   "source": [
    "df = pd.read_sql(\"select * from EBAY_TOP_BERLIN where record_time in (select distinct record_time from EBAY_TOP_BERLIN order by record_time desc limit 2)\", sqlite3.connect(\"UsedObjects.db\"))"
   ]
  },
  {
   "cell_type": "code",
   "execution_count": 5,
   "id": "popular-active",
   "metadata": {
    "execution": {
     "iopub.execute_input": "2021-08-18T08:30:08.402750Z",
     "iopub.status.busy": "2021-08-18T08:30:08.391532Z",
     "iopub.status.idle": "2021-08-18T08:30:08.421722Z",
     "shell.execute_reply": "2021-08-18T08:30:08.423129Z"
    },
    "papermill": {
     "duration": 0.069265,
     "end_time": "2021-08-18T08:30:08.423555",
     "exception": false,
     "start_time": "2021-08-18T08:30:08.354290",
     "status": "completed"
    },
    "tags": []
   },
   "outputs": [],
   "source": [
    "df_pivot = df.pivot_table(index=\"PRODUCT\", columns = \"RECORD_TIME\", values = \"LISTING_COUNT\")"
   ]
  },
  {
   "cell_type": "code",
   "execution_count": 6,
   "id": "union-huntington",
   "metadata": {
    "execution": {
     "iopub.execute_input": "2021-08-18T08:30:08.480092Z",
     "iopub.status.busy": "2021-08-18T08:30:08.478100Z",
     "iopub.status.idle": "2021-08-18T08:30:08.483019Z",
     "shell.execute_reply": "2021-08-18T08:30:08.484240Z"
    },
    "papermill": {
     "duration": 0.039752,
     "end_time": "2021-08-18T08:30:08.484636",
     "exception": false,
     "start_time": "2021-08-18T08:30:08.444884",
     "status": "completed"
    },
    "tags": []
   },
   "outputs": [],
   "source": [
    "df_pivot.columns = [\"stamp_1\", \"stamp_2\"]\n",
    "df_pivot_diff = df_pivot.diff(axis=1)"
   ]
  },
  {
   "cell_type": "code",
   "execution_count": 7,
   "id": "fifth-motion",
   "metadata": {
    "execution": {
     "iopub.execute_input": "2021-08-18T08:30:08.539960Z",
     "iopub.status.busy": "2021-08-18T08:30:08.537491Z",
     "iopub.status.idle": "2021-08-18T08:30:10.039741Z",
     "shell.execute_reply": "2021-08-18T08:30:10.041131Z"
    },
    "papermill": {
     "duration": 1.536679,
     "end_time": "2021-08-18T08:30:10.041578",
     "exception": false,
     "start_time": "2021-08-18T08:30:08.504899",
     "status": "completed"
    },
    "tags": []
   },
   "outputs": [
    {
     "data": {
      "text/plain": [
       "<AxesSubplot:ylabel='PRODUCT'>"
      ]
     },
     "execution_count": 7,
     "metadata": {},
     "output_type": "execute_result"
    },
    {
     "data": {
      "image/png": "[encoded data removed]",
      "text/plain": [
       "<Figure size 432x288 with 1 Axes>"
      ]
     },
     "metadata": {
      "needs_background": "light"
     },
     "output_type": "display_data"
    }
   ],
   "source": [
    "df_pivot_diff.sort_values(\"stamp_2\", ascending = False)[\"stamp_2\"].head(10).plot.barh()"
   ]
  },
  {
   "cell_type": "code",
   "execution_count": null,
   "id": "extra-executive",
   "metadata": {
    "papermill": {
     "duration": 0.022194,
     "end_time": "2021-08-18T08:30:10.088069",
     "exception": false,
     "start_time": "2021-08-18T08:30:10.065875",
     "status": "completed"
    },
    "tags": []
   },
   "outputs": [],
   "source": []
  }
 ],
 "metadata": {
  "kernelspec": {
   "display_name": "Python 3",
   "language": "python",
   "name": "python3"
  },
  "language_info": {
   "codemirror_mode": {
    "name": "ipython",
    "version": 3
   },
   "file_extension": ".py",
   "mimetype": "text/x-python",
   "name": "python",
   "nbconvert_exporter": "python",
   "pygments_lexer": "ipython3",
   "version": "3.9.5"
  },
  "papermill": {
   "default_parameters": {},
   "duration": 6.833637,
   "end_time": "2021-08-18T08:30:11.522474",
   "environment_variables": {},
   "exception": null,
   "input_path": "eBay_Overview.ipynb",
   "output_path": "eBay_Overview.ipynb",
   "parameters": {},
   "start_time": "2021-08-18T08:30:04.688837",
   "version": "2.3.3"
  }
 },
 "nbformat": 4,
 "nbformat_minor": 5
}