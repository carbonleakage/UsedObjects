{
 "cells": [
  {
   "cell_type": "code",
   "execution_count": 1,
   "id": "reverse-picking",
   "metadata": {
    "execution": {
     "iopub.execute_input": "2021-12-12T22:30:07.884290Z",
     "iopub.status.busy": "2021-12-12T22:30:07.881962Z",
     "iopub.status.idle": "2021-12-12T22:30:08.834515Z",
     "shell.execute_reply": "2021-12-12T22:30:08.836606Z"
    },
    "papermill": {
     "duration": 1.002505,
     "end_time": "2021-12-12T22:30:08.837449",
     "exception": false,
     "start_time": "2021-12-12T22:30:07.834944",
     "status": "completed"
    },
    "tags": []
   },
   "outputs": [],
   "source": [
    "import pandas as pd\n",
    "import sqlite3"
   ]
  },
  {
   "cell_type": "code",
   "execution_count": 2,
   "id": "innovative-syndrome",
   "metadata": {
    "execution": {
     "iopub.execute_input": "2021-12-12T22:30:08.897570Z",
     "iopub.status.busy": "2021-12-12T22:30:08.893656Z",
     "iopub.status.idle": "2021-12-12T22:30:09.952068Z",
     "shell.execute_reply": "2021-12-12T22:30:09.953690Z"
    },
    "papermill": {
     "duration": 1.09385,
     "end_time": "2021-12-12T22:30:09.954149",
     "exception": false,
     "start_time": "2021-12-12T22:30:08.860299",
     "status": "completed"
    },
    "tags": []
   },
   "outputs": [],
   "source": [
    "timestamps = pd.read_sql(\"select distinct record_time from EBAY_TOP_BERLIN order by record_time desc limit 2\", sqlite3.connect(\"UsedObjects.db\"))"
   ]
  },
  {
   "cell_type": "code",
   "execution_count": 3,
   "id": "periodic-identification",
   "metadata": {
    "execution": {
     "iopub.execute_input": "2021-12-12T22:30:10.027455Z",
     "iopub.status.busy": "2021-12-12T22:30:10.021703Z",
     "iopub.status.idle": "2021-12-12T22:30:10.047681Z",
     "shell.execute_reply": "2021-12-12T22:30:10.049248Z"
    },
    "papermill": {
     "duration": 0.07576,
     "end_time": "2021-12-12T22:30:10.049735",
     "exception": false,
     "start_time": "2021-12-12T22:30:09.973975",
     "status": "completed"
    },
    "tags": []
   },
   "outputs": [
    {
     "data": {
      "text/html": [
       "<div>\n",
       "<style scoped>\n",
       "    .dataframe tbody tr th:only-of-type {\n",
       "        vertical-align: middle;\n",
       "    }\n",
       "\n",
       "    .dataframe tbody tr th {\n",
       "        vertical-align: top;\n",
       "    }\n",
       "\n",
       "    .dataframe thead th {\n",
       "        text-align: right;\n",
       "    }\n",
       "</style>\n",
       "<table border=\"1\" class=\"dataframe\">\n",
       "  <thead>\n",
       "    <tr style=\"text-align: right;\">\n",
       "      <th></th>\n",
       "      <th>RECORD_TIME</th>\n",
       "    </tr>\n",
       "  </thead>\n",
       "  <tbody>\n",
       "    <tr>\n",
       "      <th>0</th>\n",
       "      <td>2021-12-12 23:30</td>\n",
       "    </tr>\n",
       "    <tr>\n",
       "      <th>1</th>\n",
       "      <td>2021-12-12 23:00</td>\n",
       "    </tr>\n",
       "  </tbody>\n",
       "</table>\n",
       "</div>"
      ],
      "text/plain": [
       "        RECORD_TIME\n",
       "0  2021-12-12 23:30\n",
       "1  2021-12-12 23:00"
      ]
     },
     "execution_count": 3,
     "metadata": {},
     "output_type": "execute_result"
    }
   ],
   "source": [
    "timestamps"
   ]
  },
  {
   "cell_type": "code",
   "execution_count": 4,
   "id": "alternate-victory",
   "metadata": {
    "execution": {
     "iopub.execute_input": "2021-12-12T22:30:10.103639Z",
     "iopub.status.busy": "2021-12-12T22:30:10.101538Z",
     "iopub.status.idle": "2021-12-12T22:30:11.644898Z",
     "shell.execute_reply": "2021-12-12T22:30:11.647756Z"
    },
    "papermill": {
     "duration": 1.578183,
     "end_time": "2021-12-12T22:30:11.648560",
     "exception": false,
     "start_time": "2021-12-12T22:30:10.070377",
     "status": "completed"
    },
    "tags": []
   },
   "outputs": [],
   "source": [
    "df = pd.read_sql(\"select * from EBAY_TOP_BERLIN where record_time in (select distinct record_time from EBAY_TOP_BERLIN order by record_time desc limit 2)\", sqlite3.connect(\"UsedObjects.db\"))"
   ]
  },
  {
   "cell_type": "code",
   "execution_count": 5,
   "id": "popular-active",
   "metadata": {
    "execution": {
     "iopub.execute_input": "2021-12-12T22:30:11.729667Z",
     "iopub.status.busy": "2021-12-12T22:30:11.727121Z",
     "iopub.status.idle": "2021-12-12T22:30:11.762492Z",
     "shell.execute_reply": "2021-12-12T22:30:11.760797Z"
    },
    "papermill": {
     "duration": 0.081047,
     "end_time": "2021-12-12T22:30:11.762897",
     "exception": false,
     "start_time": "2021-12-12T22:30:11.681850",
     "status": "completed"
    },
    "tags": []
   },
   "outputs": [],
   "source": [
    "df_pivot = df.pivot_table(index=\"PRODUCT\", columns = \"RECORD_TIME\", values = \"LISTING_COUNT\")"
   ]
  },
  {
   "cell_type": "code",
   "execution_count": 6,
   "id": "union-huntington",
   "metadata": {
    "execution": {
     "iopub.execute_input": "2021-12-12T22:30:11.824145Z",
     "iopub.status.busy": "2021-12-12T22:30:11.821956Z",
     "iopub.status.idle": "2021-12-12T22:30:11.828356Z",
     "shell.execute_reply": "2021-12-12T22:30:11.830134Z"
    },
    "papermill": {
     "duration": 0.045213,
     "end_time": "2021-12-12T22:30:11.830645",
     "exception": false,
     "start_time": "2021-12-12T22:30:11.785432",
     "status": "completed"
    },
    "tags": []
   },
   "outputs": [],
   "source": [
    "df_pivot.columns = [\"stamp_1\", \"stamp_2\"]\n",
    "df_pivot_diff = df_pivot.diff(axis=1)"
   ]
  },
  {
   "cell_type": "code",
   "execution_count": 7,
   "id": "fifth-motion",
   "metadata": {
    "execution": {
     "iopub.execute_input": "2021-12-12T22:30:11.888514Z",
     "iopub.status.busy": "2021-12-12T22:30:11.885960Z",
     "iopub.status.idle": "2021-12-12T22:30:13.793941Z",
     "shell.execute_reply": "2021-12-12T22:30:13.796010Z"
    },
    "papermill": {
     "duration": 1.946362,
     "end_time": "2021-12-12T22:30:13.796961",
     "exception": false,
     "start_time": "2021-12-12T22:30:11.850599",
     "status": "completed"
    },
    "tags": []
   },
   "outputs": [
    {
     "data": {
      "text/plain": [
       "<AxesSubplot:ylabel='PRODUCT'>"
      ]
     },
     "execution_count": 7,
     "metadata": {},
     "output_type": "execute_result"
    },
    {
     "data": {
      "image/png": "[encoded data removed]",
      "text/plain": [
       "<Figure size 432x288 with 1 Axes>"
      ]
     },
     "metadata": {
      "needs_background": "light"
     },
     "output_type": "display_data"
    }
   ],
   "source": [
    "df_pivot_diff.sort_values(\"stamp_2\", ascending = False)[\"stamp_2\"].head(10).plot.barh()"
   ]
  },
  {
   "cell_type": "code",
   "execution_count": null,
   "id": "extra-executive",
   "metadata": {
    "papermill": {
     "duration": 0.029387,
     "end_time": "2021-12-12T22:30:13.855896",
     "exception": false,
     "start_time": "2021-12-12T22:30:13.826509",
     "status": "completed"
    },
    "tags": []
   },
   "outputs": [],
   "source": []
  }
 ],
 "metadata": {
  "kernelspec": {
   "display_name": "Python 3",
   "language": "python",
   "name": "python3"
  },
  "language_info": {
   "codemirror_mode": {
    "name": "ipython",
    "version": 3
   },
   "file_extension": ".py",
   "mimetype": "text/x-python",
   "name": "python",
   "nbconvert_exporter": "python",
   "pygments_lexer": "ipython3",
   "version": "3.9.5"
  },
  "papermill": {
   "default_parameters": {},
   "duration": 10.019282,
   "end_time": "2021-12-12T22:30:15.028571",
   "environment_variables": {},
   "exception": null,
   "input_path": "eBay_Overview.ipynb",
   "output_path": "eBay_Overview.ipynb",
   "parameters": {},
   "start_time": "2021-12-12T22:30:05.009289",
   "version": "2.3.3"
  }
 },
 "nbformat": 4,
 "nbformat_minor": 5
}