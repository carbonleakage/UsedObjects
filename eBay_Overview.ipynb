{
 "cells": [
  {
   "cell_type": "code",
   "execution_count": 1,
   "id": "reverse-picking",
   "metadata": {
    "execution": {
     "iopub.execute_input": "2021-10-02T12:00:07.420858Z",
     "iopub.status.busy": "2021-10-02T12:00:07.418893Z",
     "iopub.status.idle": "2021-10-02T12:00:08.223857Z",
     "shell.execute_reply": "2021-10-02T12:00:08.225153Z"
    },
    "papermill": {
     "duration": 0.856759,
     "end_time": "2021-10-02T12:00:08.225776",
     "exception": false,
     "start_time": "2021-10-02T12:00:07.369017",
     "status": "completed"
    },
    "tags": []
   },
   "outputs": [],
   "source": [
    "import pandas as pd\n",
    "import sqlite3"
   ]
  },
  {
   "cell_type": "code",
   "execution_count": 2,
   "id": "innovative-syndrome",
   "metadata": {
    "execution": {
     "iopub.execute_input": "2021-10-02T12:00:08.276176Z",
     "iopub.status.busy": "2021-10-02T12:00:08.274189Z",
     "iopub.status.idle": "2021-10-02T12:00:08.699283Z",
     "shell.execute_reply": "2021-10-02T12:00:08.700526Z"
    },
    "papermill": {
     "duration": 0.454391,
     "end_time": "2021-10-02T12:00:08.700922",
     "exception": false,
     "start_time": "2021-10-02T12:00:08.246531",
     "status": "completed"
    },
    "tags": []
   },
   "outputs": [],
   "source": [
    "timestamps = pd.read_sql(\"select distinct record_time from EBAY_TOP_BERLIN order by record_time desc limit 2\", sqlite3.connect(\"UsedObjects.db\"))"
   ]
  },
  {
   "cell_type": "code",
   "execution_count": 3,
   "id": "periodic-identification",
   "metadata": {
    "execution": {
     "iopub.execute_input": "2021-10-02T12:00:08.769496Z",
     "iopub.status.busy": "2021-10-02T12:00:08.764367Z",
     "iopub.status.idle": "2021-10-02T12:00:08.784473Z",
     "shell.execute_reply": "2021-10-02T12:00:08.785769Z"
    },
    "papermill": {
     "duration": 0.064595,
     "end_time": "2021-10-02T12:00:08.786183",
     "exception": false,
     "start_time": "2021-10-02T12:00:08.721588",
     "status": "completed"
    },
    "tags": []
   },
   "outputs": [
    {
     "data": {
      "text/html": [
       "<div>\n",
       "<style scoped>\n",
       "    .dataframe tbody tr th:only-of-type {\n",
       "        vertical-align: middle;\n",
       "    }\n",
       "\n",
       "    .dataframe tbody tr th {\n",
       "        vertical-align: top;\n",
       "    }\n",
       "\n",
       "    .dataframe thead th {\n",
       "        text-align: right;\n",
       "    }\n",
       "</style>\n",
       "<table border=\"1\" class=\"dataframe\">\n",
       "  <thead>\n",
       "    <tr style=\"text-align: right;\">\n",
       "      <th></th>\n",
       "      <th>RECORD_TIME</th>\n",
       "    </tr>\n",
       "  </thead>\n",
       "  <tbody>\n",
       "    <tr>\n",
       "      <th>0</th>\n",
       "      <td>2021-10-02 14:00</td>\n",
       "    </tr>\n",
       "    <tr>\n",
       "      <th>1</th>\n",
       "      <td>2021-10-02 13:30</td>\n",
       "    </tr>\n",
       "  </tbody>\n",
       "</table>\n",
       "</div>"
      ],
      "text/plain": [
       "        RECORD_TIME\n",
       "0  2021-10-02 14:00\n",
       "1  2021-10-02 13:30"
      ]
     },
     "execution_count": 3,
     "metadata": {},
     "output_type": "execute_result"
    }
   ],
   "source": [
    "timestamps"
   ]
  },
  {
   "cell_type": "code",
   "execution_count": 4,
   "id": "alternate-victory",
   "metadata": {
    "execution": {
     "iopub.execute_input": "2021-10-02T12:00:08.840568Z",
     "iopub.status.busy": "2021-10-02T12:00:08.838151Z",
     "iopub.status.idle": "2021-10-02T12:00:09.466410Z",
     "shell.execute_reply": "2021-10-02T12:00:09.467704Z"
    },
    "papermill": {
     "duration": 0.65865,
     "end_time": "2021-10-02T12:00:09.468113",
     "exception": false,
     "start_time": "2021-10-02T12:00:08.809463",
     "status": "completed"
    },
    "tags": []
   },
   "outputs": [],
   "source": [
    "df = pd.read_sql(\"select * from EBAY_TOP_BERLIN where record_time in (select distinct record_time from EBAY_TOP_BERLIN order by record_time desc limit 2)\", sqlite3.connect(\"UsedObjects.db\"))"
   ]
  },
  {
   "cell_type": "code",
   "execution_count": 5,
   "id": "popular-active",
   "metadata": {
    "execution": {
     "iopub.execute_input": "2021-10-02T12:00:09.549200Z",
     "iopub.status.busy": "2021-10-02T12:00:09.536617Z",
     "iopub.status.idle": "2021-10-02T12:00:09.564929Z",
     "shell.execute_reply": "2021-10-02T12:00:09.566228Z"
    },
    "papermill": {
     "duration": 0.070483,
     "end_time": "2021-10-02T12:00:09.566642",
     "exception": false,
     "start_time": "2021-10-02T12:00:09.496159",
     "status": "completed"
    },
    "tags": []
   },
   "outputs": [],
   "source": [
    "df_pivot = df.pivot_table(index=\"PRODUCT\", columns = \"RECORD_TIME\", values = \"LISTING_COUNT\")"
   ]
  },
  {
   "cell_type": "code",
   "execution_count": 6,
   "id": "union-huntington",
   "metadata": {
    "execution": {
     "iopub.execute_input": "2021-10-02T12:00:09.621700Z",
     "iopub.status.busy": "2021-10-02T12:00:09.619620Z",
     "iopub.status.idle": "2021-10-02T12:00:09.624773Z",
     "shell.execute_reply": "2021-10-02T12:00:09.626072Z"
    },
    "papermill": {
     "duration": 0.039835,
     "end_time": "2021-10-02T12:00:09.626488",
     "exception": false,
     "start_time": "2021-10-02T12:00:09.586653",
     "status": "completed"
    },
    "tags": []
   },
   "outputs": [],
   "source": [
    "df_pivot.columns = [\"stamp_1\", \"stamp_2\"]\n",
    "df_pivot_diff = df_pivot.diff(axis=1)"
   ]
  },
  {
   "cell_type": "code",
   "execution_count": 7,
   "id": "fifth-motion",
   "metadata": {
    "execution": {
     "iopub.execute_input": "2021-10-02T12:00:09.682978Z",
     "iopub.status.busy": "2021-10-02T12:00:09.680255Z",
     "iopub.status.idle": "2021-10-02T12:00:11.170596Z",
     "shell.execute_reply": "2021-10-02T12:00:11.172054Z"
    },
    "papermill": {
     "duration": 1.524094,
     "end_time": "2021-10-02T12:00:11.172500",
     "exception": false,
     "start_time": "2021-10-02T12:00:09.648406",
     "status": "completed"
    },
    "tags": []
   },
   "outputs": [
    {
     "data": {
      "text/plain": [
       "<AxesSubplot:ylabel='PRODUCT'>"
      ]
     },
     "execution_count": 7,
     "metadata": {},
     "output_type": "execute_result"
    },
    {
     "data": {
      "image/png": "[encoded data removed]",
      "text/plain": [
       "<Figure size 432x288 with 1 Axes>"
      ]
     },
     "metadata": {
      "needs_background": "light"
     },
     "output_type": "display_data"
    }
   ],
   "source": [
    "df_pivot_diff.sort_values(\"stamp_2\", ascending = False)[\"stamp_2\"].head(10).plot.barh()"
   ]
  },
  {
   "cell_type": "code",
   "execution_count": null,
   "id": "extra-executive",
   "metadata": {
    "papermill": {
     "duration": 0.022052,
     "end_time": "2021-10-02T12:00:11.219034",
     "exception": false,
     "start_time": "2021-10-02T12:00:11.196982",
     "status": "completed"
    },
    "tags": []
   },
   "outputs": [],
   "source": []
  }
 ],
 "metadata": {
  "kernelspec": {
   "display_name": "Python 3",
   "language": "python",
   "name": "python3"
  },
  "language_info": {
   "codemirror_mode": {
    "name": "ipython",
    "version": 3
   },
   "file_extension": ".py",
   "mimetype": "text/x-python",
   "name": "python",
   "nbconvert_exporter": "python",
   "pygments_lexer": "ipython3",
   "version": "3.9.5"
  },
  "papermill": {
   "default_parameters": {},
   "duration": 7.819849,
   "end_time": "2021-10-02T12:00:12.785908",
   "environment_variables": {},
   "exception": null,
   "input_path": "eBay_Overview.ipynb",
   "output_path": "eBay_Overview.ipynb",
   "parameters": {},
   "start_time": "2021-10-02T12:00:04.966059",
   "version": "2.3.3"
  }
 },
 "nbformat": 4,
 "nbformat_minor": 5
}