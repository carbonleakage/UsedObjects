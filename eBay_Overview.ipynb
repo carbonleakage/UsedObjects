{
 "cells": [
  {
   "cell_type": "code",
   "execution_count": 1,
   "id": "reverse-picking",
   "metadata": {
    "execution": {
     "iopub.execute_input": "2021-11-22T13:30:07.229022Z",
     "iopub.status.busy": "2021-11-22T13:30:07.226737Z",
     "iopub.status.idle": "2021-11-22T13:30:08.189131Z",
     "shell.execute_reply": "2021-11-22T13:30:08.191067Z"
    },
    "papermill": {
     "duration": 1.010104,
     "end_time": "2021-11-22T13:30:08.191818",
     "exception": false,
     "start_time": "2021-11-22T13:30:07.181714",
     "status": "completed"
    },
    "tags": []
   },
   "outputs": [],
   "source": [
    "import pandas as pd\n",
    "import sqlite3"
   ]
  },
  {
   "cell_type": "code",
   "execution_count": 2,
   "id": "innovative-syndrome",
   "metadata": {
    "execution": {
     "iopub.execute_input": "2021-11-22T13:30:08.253805Z",
     "iopub.status.busy": "2021-11-22T13:30:08.251303Z",
     "iopub.status.idle": "2021-11-22T13:30:09.138729Z",
     "shell.execute_reply": "2021-11-22T13:30:09.140229Z"
    },
    "papermill": {
     "duration": 0.921798,
     "end_time": "2021-11-22T13:30:09.140777",
     "exception": false,
     "start_time": "2021-11-22T13:30:08.218979",
     "status": "completed"
    },
    "tags": []
   },
   "outputs": [],
   "source": [
    "timestamps = pd.read_sql(\"select distinct record_time from EBAY_TOP_BERLIN order by record_time desc limit 2\", sqlite3.connect(\"UsedObjects.db\"))"
   ]
  },
  {
   "cell_type": "code",
   "execution_count": 3,
   "id": "periodic-identification",
   "metadata": {
    "execution": {
     "iopub.execute_input": "2021-11-22T13:30:09.213366Z",
     "iopub.status.busy": "2021-11-22T13:30:09.210937Z",
     "iopub.status.idle": "2021-11-22T13:30:09.235723Z",
     "shell.execute_reply": "2021-11-22T13:30:09.237361Z"
    },
    "papermill": {
     "duration": 0.076708,
     "end_time": "2021-11-22T13:30:09.238077",
     "exception": false,
     "start_time": "2021-11-22T13:30:09.161369",
     "status": "completed"
    },
    "tags": []
   },
   "outputs": [
    {
     "data": {
      "text/html": [
       "<div>\n",
       "<style scoped>\n",
       "    .dataframe tbody tr th:only-of-type {\n",
       "        vertical-align: middle;\n",
       "    }\n",
       "\n",
       "    .dataframe tbody tr th {\n",
       "        vertical-align: top;\n",
       "    }\n",
       "\n",
       "    .dataframe thead th {\n",
       "        text-align: right;\n",
       "    }\n",
       "</style>\n",
       "<table border=\"1\" class=\"dataframe\">\n",
       "  <thead>\n",
       "    <tr style=\"text-align: right;\">\n",
       "      <th></th>\n",
       "      <th>RECORD_TIME</th>\n",
       "    </tr>\n",
       "  </thead>\n",
       "  <tbody>\n",
       "    <tr>\n",
       "      <th>0</th>\n",
       "      <td>2021-11-22 14:30</td>\n",
       "    </tr>\n",
       "    <tr>\n",
       "      <th>1</th>\n",
       "      <td>2021-11-22 14:00</td>\n",
       "    </tr>\n",
       "  </tbody>\n",
       "</table>\n",
       "</div>"
      ],
      "text/plain": [
       "        RECORD_TIME\n",
       "0  2021-11-22 14:30\n",
       "1  2021-11-22 14:00"
      ]
     },
     "execution_count": 3,
     "metadata": {},
     "output_type": "execute_result"
    }
   ],
   "source": [
    "timestamps"
   ]
  },
  {
   "cell_type": "code",
   "execution_count": 4,
   "id": "alternate-victory",
   "metadata": {
    "execution": {
     "iopub.execute_input": "2021-11-22T13:30:09.294908Z",
     "iopub.status.busy": "2021-11-22T13:30:09.292521Z",
     "iopub.status.idle": "2021-11-22T13:30:10.629516Z",
     "shell.execute_reply": "2021-11-22T13:30:10.632230Z"
    },
    "papermill": {
     "duration": 1.37347,
     "end_time": "2021-11-22T13:30:10.633129",
     "exception": false,
     "start_time": "2021-11-22T13:30:09.259659",
     "status": "completed"
    },
    "tags": []
   },
   "outputs": [],
   "source": [
    "df = pd.read_sql(\"select * from EBAY_TOP_BERLIN where record_time in (select distinct record_time from EBAY_TOP_BERLIN order by record_time desc limit 2)\", sqlite3.connect(\"UsedObjects.db\"))"
   ]
  },
  {
   "cell_type": "code",
   "execution_count": 5,
   "id": "popular-active",
   "metadata": {
    "execution": {
     "iopub.execute_input": "2021-11-22T13:30:10.709466Z",
     "iopub.status.busy": "2021-11-22T13:30:10.700271Z",
     "iopub.status.idle": "2021-11-22T13:30:10.736304Z",
     "shell.execute_reply": "2021-11-22T13:30:10.734953Z"
    },
    "papermill": {
     "duration": 0.078991,
     "end_time": "2021-11-22T13:30:10.736751",
     "exception": false,
     "start_time": "2021-11-22T13:30:10.657760",
     "status": "completed"
    },
    "tags": []
   },
   "outputs": [],
   "source": [
    "df_pivot = df.pivot_table(index=\"PRODUCT\", columns = \"RECORD_TIME\", values = \"LISTING_COUNT\")"
   ]
  },
  {
   "cell_type": "code",
   "execution_count": 6,
   "id": "union-huntington",
   "metadata": {
    "execution": {
     "iopub.execute_input": "2021-11-22T13:30:10.795259Z",
     "iopub.status.busy": "2021-11-22T13:30:10.792994Z",
     "iopub.status.idle": "2021-11-22T13:30:10.798659Z",
     "shell.execute_reply": "2021-11-22T13:30:10.799865Z"
    },
    "papermill": {
     "duration": 0.043405,
     "end_time": "2021-11-22T13:30:10.800294",
     "exception": false,
     "start_time": "2021-11-22T13:30:10.756889",
     "status": "completed"
    },
    "tags": []
   },
   "outputs": [],
   "source": [
    "df_pivot.columns = [\"stamp_1\", \"stamp_2\"]\n",
    "df_pivot_diff = df_pivot.diff(axis=1)"
   ]
  },
  {
   "cell_type": "code",
   "execution_count": 7,
   "id": "fifth-motion",
   "metadata": {
    "execution": {
     "iopub.execute_input": "2021-11-22T13:30:10.862309Z",
     "iopub.status.busy": "2021-11-22T13:30:10.859394Z",
     "iopub.status.idle": "2021-11-22T13:30:12.796226Z",
     "shell.execute_reply": "2021-11-22T13:30:12.797801Z"
    },
    "papermill": {
     "duration": 1.97602,
     "end_time": "2021-11-22T13:30:12.798300",
     "exception": false,
     "start_time": "2021-11-22T13:30:10.822280",
     "status": "completed"
    },
    "tags": []
   },
   "outputs": [
    {
     "data": {
      "text/plain": [
       "<AxesSubplot:ylabel='PRODUCT'>"
      ]
     },
     "execution_count": 7,
     "metadata": {},
     "output_type": "execute_result"
    },
    {
     "data": {
      "image/png": "[encoded data removed]",
      "text/plain": [
       "<Figure size 432x288 with 1 Axes>"
      ]
     },
     "metadata": {
      "needs_background": "light"
     },
     "output_type": "display_data"
    }
   ],
   "source": [
    "df_pivot_diff.sort_values(\"stamp_2\", ascending = False)[\"stamp_2\"].head(10).plot.barh()"
   ]
  },
  {
   "cell_type": "code",
   "execution_count": null,
   "id": "extra-executive",
   "metadata": {
    "papermill": {
     "duration": 0.023332,
     "end_time": "2021-11-22T13:30:12.845946",
     "exception": false,
     "start_time": "2021-11-22T13:30:12.822614",
     "status": "completed"
    },
    "tags": []
   },
   "outputs": [],
   "source": []
  }
 ],
 "metadata": {
  "kernelspec": {
   "display_name": "Python 3",
   "language": "python",
   "name": "python3"
  },
  "language_info": {
   "codemirror_mode": {
    "name": "ipython",
    "version": 3
   },
   "file_extension": ".py",
   "mimetype": "text/x-python",
   "name": "python",
   "nbconvert_exporter": "python",
   "pygments_lexer": "ipython3",
   "version": "3.9.5"
  },
  "papermill": {
   "default_parameters": {},
   "duration": 9.958545,
   "end_time": "2021-11-22T13:30:14.380206",
   "environment_variables": {},
   "exception": null,
   "input_path": "eBay_Overview.ipynb",
   "output_path": "eBay_Overview.ipynb",
   "parameters": {},
   "start_time": "2021-11-22T13:30:04.421661",
   "version": "2.3.3"
  }
 },
 "nbformat": 4,
 "nbformat_minor": 5
}