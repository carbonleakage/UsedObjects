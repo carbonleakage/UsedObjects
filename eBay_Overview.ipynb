{
 "cells": [
  {
   "cell_type": "code",
   "execution_count": 1,
   "id": "reverse-picking",
   "metadata": {
    "execution": {
     "iopub.execute_input": "2021-12-21T20:00:07.637271Z",
     "iopub.status.busy": "2021-12-21T20:00:07.634878Z",
     "iopub.status.idle": "2021-12-21T20:00:08.589672Z",
     "shell.execute_reply": "2021-12-21T20:00:08.591284Z"
    },
    "papermill": {
     "duration": 1.005713,
     "end_time": "2021-12-21T20:00:08.592006",
     "exception": false,
     "start_time": "2021-12-21T20:00:07.586293",
     "status": "completed"
    },
    "tags": []
   },
   "outputs": [],
   "source": [
    "import pandas as pd\n",
    "import sqlite3"
   ]
  },
  {
   "cell_type": "code",
   "execution_count": 2,
   "id": "innovative-syndrome",
   "metadata": {
    "execution": {
     "iopub.execute_input": "2021-12-21T20:00:08.657694Z",
     "iopub.status.busy": "2021-12-21T20:00:08.655188Z",
     "iopub.status.idle": "2021-12-21T20:00:09.799797Z",
     "shell.execute_reply": "2021-12-21T20:00:09.801367Z"
    },
    "papermill": {
     "duration": 1.178552,
     "end_time": "2021-12-21T20:00:09.801814",
     "exception": false,
     "start_time": "2021-12-21T20:00:08.623262",
     "status": "completed"
    },
    "tags": []
   },
   "outputs": [],
   "source": [
    "timestamps = pd.read_sql(\"select distinct record_time from EBAY_TOP_BERLIN order by record_time desc limit 2\", sqlite3.connect(\"UsedObjects.db\"))"
   ]
  },
  {
   "cell_type": "code",
   "execution_count": 3,
   "id": "periodic-identification",
   "metadata": {
    "execution": {
     "iopub.execute_input": "2021-12-21T20:00:09.871285Z",
     "iopub.status.busy": "2021-12-21T20:00:09.868999Z",
     "iopub.status.idle": "2021-12-21T20:00:09.893661Z",
     "shell.execute_reply": "2021-12-21T20:00:09.895317Z"
    },
    "papermill": {
     "duration": 0.073373,
     "end_time": "2021-12-21T20:00:09.895841",
     "exception": false,
     "start_time": "2021-12-21T20:00:09.822468",
     "status": "completed"
    },
    "tags": []
   },
   "outputs": [
    {
     "data": {
      "text/html": [
       "<div>\n",
       "<style scoped>\n",
       "    .dataframe tbody tr th:only-of-type {\n",
       "        vertical-align: middle;\n",
       "    }\n",
       "\n",
       "    .dataframe tbody tr th {\n",
       "        vertical-align: top;\n",
       "    }\n",
       "\n",
       "    .dataframe thead th {\n",
       "        text-align: right;\n",
       "    }\n",
       "</style>\n",
       "<table border=\"1\" class=\"dataframe\">\n",
       "  <thead>\n",
       "    <tr style=\"text-align: right;\">\n",
       "      <th></th>\n",
       "      <th>RECORD_TIME</th>\n",
       "    </tr>\n",
       "  </thead>\n",
       "  <tbody>\n",
       "    <tr>\n",
       "      <th>0</th>\n",
       "      <td>2021-12-21 21:00</td>\n",
       "    </tr>\n",
       "    <tr>\n",
       "      <th>1</th>\n",
       "      <td>2021-12-21 20:30</td>\n",
       "    </tr>\n",
       "  </tbody>\n",
       "</table>\n",
       "</div>"
      ],
      "text/plain": [
       "        RECORD_TIME\n",
       "0  2021-12-21 21:00\n",
       "1  2021-12-21 20:30"
      ]
     },
     "execution_count": 3,
     "metadata": {},
     "output_type": "execute_result"
    }
   ],
   "source": [
    "timestamps"
   ]
  },
  {
   "cell_type": "code",
   "execution_count": 4,
   "id": "alternate-victory",
   "metadata": {
    "execution": {
     "iopub.execute_input": "2021-12-21T20:00:09.953041Z",
     "iopub.status.busy": "2021-12-21T20:00:09.950746Z",
     "iopub.status.idle": "2021-12-21T20:00:11.638190Z",
     "shell.execute_reply": "2021-12-21T20:00:11.640326Z"
    },
    "papermill": {
     "duration": 1.722271,
     "end_time": "2021-12-21T20:00:11.640863",
     "exception": false,
     "start_time": "2021-12-21T20:00:09.918592",
     "status": "completed"
    },
    "tags": []
   },
   "outputs": [],
   "source": [
    "df = pd.read_sql(\"select * from EBAY_TOP_BERLIN where record_time in (select distinct record_time from EBAY_TOP_BERLIN order by record_time desc limit 2)\", sqlite3.connect(\"UsedObjects.db\"))"
   ]
  },
  {
   "cell_type": "code",
   "execution_count": 5,
   "id": "popular-active",
   "metadata": {
    "execution": {
     "iopub.execute_input": "2021-12-21T20:00:11.717150Z",
     "iopub.status.busy": "2021-12-21T20:00:11.704038Z",
     "iopub.status.idle": "2021-12-21T20:00:11.737455Z",
     "shell.execute_reply": "2021-12-21T20:00:11.739296Z"
    },
    "papermill": {
     "duration": 0.077905,
     "end_time": "2021-12-21T20:00:11.739886",
     "exception": false,
     "start_time": "2021-12-21T20:00:11.661981",
     "status": "completed"
    },
    "tags": []
   },
   "outputs": [],
   "source": [
    "df_pivot = df.pivot_table(index=\"PRODUCT\", columns = \"RECORD_TIME\", values = \"LISTING_COUNT\")"
   ]
  },
  {
   "cell_type": "code",
   "execution_count": 6,
   "id": "union-huntington",
   "metadata": {
    "execution": {
     "iopub.execute_input": "2021-12-21T20:00:11.804041Z",
     "iopub.status.busy": "2021-12-21T20:00:11.801796Z",
     "iopub.status.idle": "2021-12-21T20:00:11.807232Z",
     "shell.execute_reply": "2021-12-21T20:00:11.809873Z"
    },
    "papermill": {
     "duration": 0.046384,
     "end_time": "2021-12-21T20:00:11.810363",
     "exception": false,
     "start_time": "2021-12-21T20:00:11.763979",
     "status": "completed"
    },
    "tags": []
   },
   "outputs": [],
   "source": [
    "df_pivot.columns = [\"stamp_1\", \"stamp_2\"]\n",
    "df_pivot_diff = df_pivot.diff(axis=1)"
   ]
  },
  {
   "cell_type": "code",
   "execution_count": 7,
   "id": "fifth-motion",
   "metadata": {
    "execution": {
     "iopub.execute_input": "2021-12-21T20:00:11.867985Z",
     "iopub.status.busy": "2021-12-21T20:00:11.865429Z",
     "iopub.status.idle": "2021-12-21T20:00:13.837472Z",
     "shell.execute_reply": "2021-12-21T20:00:13.839100Z"
    },
    "papermill": {
     "duration": 2.009061,
     "end_time": "2021-12-21T20:00:13.839613",
     "exception": false,
     "start_time": "2021-12-21T20:00:11.830552",
     "status": "completed"
    },
    "tags": []
   },
   "outputs": [
    {
     "data": {
      "text/plain": [
       "<AxesSubplot:ylabel='PRODUCT'>"
      ]
     },
     "execution_count": 7,
     "metadata": {},
     "output_type": "execute_result"
    },
    {
     "data": {
      "image/png": "[encoded data removed]",
      "text/plain": [
       "<Figure size 432x288 with 1 Axes>"
      ]
     },
     "metadata": {
      "needs_background": "light"
     },
     "output_type": "display_data"
    }
   ],
   "source": [
    "df_pivot_diff.sort_values(\"stamp_2\", ascending = False)[\"stamp_2\"].head(10).plot.barh()"
   ]
  },
  {
   "cell_type": "code",
   "execution_count": null,
   "id": "extra-executive",
   "metadata": {
    "papermill": {
     "duration": 0.029717,
     "end_time": "2021-12-21T20:00:13.909810",
     "exception": false,
     "start_time": "2021-12-21T20:00:13.880093",
     "status": "completed"
    },
    "tags": []
   },
   "outputs": [],
   "source": []
  }
 ],
 "metadata": {
  "kernelspec": {
   "display_name": "Python 3",
   "language": "python",
   "name": "python3"
  },
  "language_info": {
   "codemirror_mode": {
    "name": "ipython",
    "version": 3
   },
   "file_extension": ".py",
   "mimetype": "text/x-python",
   "name": "python",
   "nbconvert_exporter": "python",
   "pygments_lexer": "ipython3",
   "version": "3.9.5"
  },
  "papermill": {
   "default_parameters": {},
   "duration": 9.708539,
   "end_time": "2021-12-21T20:00:14.553020",
   "environment_variables": {},
   "exception": null,
   "input_path": "eBay_Overview.ipynb",
   "output_path": "eBay_Overview.ipynb",
   "parameters": {},
   "start_time": "2021-12-21T20:00:04.844481",
   "version": "2.3.3"
  }
 },
 "nbformat": 4,
 "nbformat_minor": 5
}