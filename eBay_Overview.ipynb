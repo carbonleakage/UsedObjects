{
 "cells": [
  {
   "cell_type": "code",
   "execution_count": 1,
   "id": "reverse-picking",
   "metadata": {
    "execution": {
     "iopub.execute_input": "2021-09-16T23:00:07.504445Z",
     "iopub.status.busy": "2021-09-16T23:00:07.502466Z",
     "iopub.status.idle": "2021-09-16T23:00:08.304734Z",
     "shell.execute_reply": "2021-09-16T23:00:08.306038Z"
    },
    "papermill": {
     "duration": 0.854093,
     "end_time": "2021-09-16T23:00:08.306675",
     "exception": false,
     "start_time": "2021-09-16T23:00:07.452582",
     "status": "completed"
    },
    "tags": []
   },
   "outputs": [],
   "source": [
    "import pandas as pd\n",
    "import sqlite3"
   ]
  },
  {
   "cell_type": "code",
   "execution_count": 2,
   "id": "innovative-syndrome",
   "metadata": {
    "execution": {
     "iopub.execute_input": "2021-09-16T23:00:08.357632Z",
     "iopub.status.busy": "2021-09-16T23:00:08.355612Z",
     "iopub.status.idle": "2021-09-16T23:00:08.664103Z",
     "shell.execute_reply": "2021-09-16T23:00:08.665485Z"
    },
    "papermill": {
     "duration": 0.33889,
     "end_time": "2021-09-16T23:00:08.665921",
     "exception": false,
     "start_time": "2021-09-16T23:00:08.327031",
     "status": "completed"
    },
    "tags": []
   },
   "outputs": [],
   "source": [
    "timestamps = pd.read_sql(\"select distinct record_time from EBAY_TOP_BERLIN order by record_time desc limit 2\", sqlite3.connect(\"UsedObjects.db\"))"
   ]
  },
  {
   "cell_type": "code",
   "execution_count": 3,
   "id": "periodic-identification",
   "metadata": {
    "execution": {
     "iopub.execute_input": "2021-09-16T23:00:08.732257Z",
     "iopub.status.busy": "2021-09-16T23:00:08.730221Z",
     "iopub.status.idle": "2021-09-16T23:00:08.750541Z",
     "shell.execute_reply": "2021-09-16T23:00:08.752222Z"
    },
    "papermill": {
     "duration": 0.06712,
     "end_time": "2021-09-16T23:00:08.752719",
     "exception": false,
     "start_time": "2021-09-16T23:00:08.685599",
     "status": "completed"
    },
    "tags": []
   },
   "outputs": [
    {
     "data": {
      "text/html": [
       "<div>\n",
       "<style scoped>\n",
       "    .dataframe tbody tr th:only-of-type {\n",
       "        vertical-align: middle;\n",
       "    }\n",
       "\n",
       "    .dataframe tbody tr th {\n",
       "        vertical-align: top;\n",
       "    }\n",
       "\n",
       "    .dataframe thead th {\n",
       "        text-align: right;\n",
       "    }\n",
       "</style>\n",
       "<table border=\"1\" class=\"dataframe\">\n",
       "  <thead>\n",
       "    <tr style=\"text-align: right;\">\n",
       "      <th></th>\n",
       "      <th>RECORD_TIME</th>\n",
       "    </tr>\n",
       "  </thead>\n",
       "  <tbody>\n",
       "    <tr>\n",
       "      <th>0</th>\n",
       "      <td>2021-09-17 01:00</td>\n",
       "    </tr>\n",
       "    <tr>\n",
       "      <th>1</th>\n",
       "      <td>2021-09-17 00:30</td>\n",
       "    </tr>\n",
       "  </tbody>\n",
       "</table>\n",
       "</div>"
      ],
      "text/plain": [
       "        RECORD_TIME\n",
       "0  2021-09-17 01:00\n",
       "1  2021-09-17 00:30"
      ]
     },
     "execution_count": 3,
     "metadata": {},
     "output_type": "execute_result"
    }
   ],
   "source": [
    "timestamps"
   ]
  },
  {
   "cell_type": "code",
   "execution_count": 4,
   "id": "alternate-victory",
   "metadata": {
    "execution": {
     "iopub.execute_input": "2021-09-16T23:00:08.804421Z",
     "iopub.status.busy": "2021-09-16T23:00:08.802505Z",
     "iopub.status.idle": "2021-09-16T23:00:09.248541Z",
     "shell.execute_reply": "2021-09-16T23:00:09.249818Z"
    },
    "papermill": {
     "duration": 0.475909,
     "end_time": "2021-09-16T23:00:09.250229",
     "exception": false,
     "start_time": "2021-09-16T23:00:08.774320",
     "status": "completed"
    },
    "tags": []
   },
   "outputs": [],
   "source": [
    "df = pd.read_sql(\"select * from EBAY_TOP_BERLIN where record_time in (select distinct record_time from EBAY_TOP_BERLIN order by record_time desc limit 2)\", sqlite3.connect(\"UsedObjects.db\"))"
   ]
  },
  {
   "cell_type": "code",
   "execution_count": 5,
   "id": "popular-active",
   "metadata": {
    "execution": {
     "iopub.execute_input": "2021-09-16T23:00:09.341085Z",
     "iopub.status.busy": "2021-09-16T23:00:09.330444Z",
     "iopub.status.idle": "2021-09-16T23:00:09.357401Z",
     "shell.execute_reply": "2021-09-16T23:00:09.358606Z"
    },
    "papermill": {
     "duration": 0.07428,
     "end_time": "2021-09-16T23:00:09.359044",
     "exception": false,
     "start_time": "2021-09-16T23:00:09.284764",
     "status": "completed"
    },
    "tags": []
   },
   "outputs": [],
   "source": [
    "df_pivot = df.pivot_table(index=\"PRODUCT\", columns = \"RECORD_TIME\", values = \"LISTING_COUNT\")"
   ]
  },
  {
   "cell_type": "code",
   "execution_count": 6,
   "id": "union-huntington",
   "metadata": {
    "execution": {
     "iopub.execute_input": "2021-09-16T23:00:09.416677Z",
     "iopub.status.busy": "2021-09-16T23:00:09.414503Z",
     "iopub.status.idle": "2021-09-16T23:00:09.420171Z",
     "shell.execute_reply": "2021-09-16T23:00:09.421537Z"
    },
    "papermill": {
     "duration": 0.040855,
     "end_time": "2021-09-16T23:00:09.422024",
     "exception": false,
     "start_time": "2021-09-16T23:00:09.381169",
     "status": "completed"
    },
    "tags": []
   },
   "outputs": [],
   "source": [
    "df_pivot.columns = [\"stamp_1\", \"stamp_2\"]\n",
    "df_pivot_diff = df_pivot.diff(axis=1)"
   ]
  },
  {
   "cell_type": "code",
   "execution_count": 7,
   "id": "fifth-motion",
   "metadata": {
    "execution": {
     "iopub.execute_input": "2021-09-16T23:00:09.477306Z",
     "iopub.status.busy": "2021-09-16T23:00:09.474546Z",
     "iopub.status.idle": "2021-09-16T23:00:10.947766Z",
     "shell.execute_reply": "2021-09-16T23:00:10.949060Z"
    },
    "papermill": {
     "duration": 1.506198,
     "end_time": "2021-09-16T23:00:10.949479",
     "exception": false,
     "start_time": "2021-09-16T23:00:09.443281",
     "status": "completed"
    },
    "tags": []
   },
   "outputs": [
    {
     "data": {
      "text/plain": [
       "<AxesSubplot:ylabel='PRODUCT'>"
      ]
     },
     "execution_count": 7,
     "metadata": {},
     "output_type": "execute_result"
    },
    {
     "data": {
      "image/png": "[encoded data removed]",
      "text/plain": [
       "<Figure size 432x288 with 1 Axes>"
      ]
     },
     "metadata": {
      "needs_background": "light"
     },
     "output_type": "display_data"
    }
   ],
   "source": [
    "df_pivot_diff.sort_values(\"stamp_2\", ascending = False)[\"stamp_2\"].head(10).plot.barh()"
   ]
  },
  {
   "cell_type": "code",
   "execution_count": null,
   "id": "extra-executive",
   "metadata": {
    "papermill": {
     "duration": 0.022048,
     "end_time": "2021-09-16T23:00:10.995270",
     "exception": false,
     "start_time": "2021-09-16T23:00:10.973222",
     "status": "completed"
    },
    "tags": []
   },
   "outputs": [],
   "source": []
  }
 ],
 "metadata": {
  "kernelspec": {
   "display_name": "Python 3",
   "language": "python",
   "name": "python3"
  },
  "language_info": {
   "codemirror_mode": {
    "name": "ipython",
    "version": 3
   },
   "file_extension": ".py",
   "mimetype": "text/x-python",
   "name": "python",
   "nbconvert_exporter": "python",
   "pygments_lexer": "ipython3",
   "version": "3.9.5"
  },
  "papermill": {
   "default_parameters": {},
   "duration": 6.576179,
   "end_time": "2021-09-16T23:00:11.635647",
   "environment_variables": {},
   "exception": null,
   "input_path": "eBay_Overview.ipynb",
   "output_path": "eBay_Overview.ipynb",
   "parameters": {},
   "start_time": "2021-09-16T23:00:05.059468",
   "version": "2.3.3"
  }
 },
 "nbformat": 4,
 "nbformat_minor": 5
}