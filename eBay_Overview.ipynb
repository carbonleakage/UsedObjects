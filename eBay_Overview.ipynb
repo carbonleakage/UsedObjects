{
 "cells": [
  {
   "cell_type": "code",
   "execution_count": 1,
   "id": "reverse-picking",
   "metadata": {
    "execution": {
     "iopub.execute_input": "2021-11-16T22:30:07.206122Z",
     "iopub.status.busy": "2021-11-16T22:30:07.203745Z",
     "iopub.status.idle": "2021-11-16T22:30:08.158996Z",
     "shell.execute_reply": "2021-11-16T22:30:08.160648Z"
    },
    "papermill": {
     "duration": 1.003869,
     "end_time": "2021-11-16T22:30:08.161422",
     "exception": false,
     "start_time": "2021-11-16T22:30:07.157553",
     "status": "completed"
    },
    "tags": []
   },
   "outputs": [],
   "source": [
    "import pandas as pd\n",
    "import sqlite3"
   ]
  },
  {
   "cell_type": "code",
   "execution_count": 2,
   "id": "innovative-syndrome",
   "metadata": {
    "execution": {
     "iopub.execute_input": "2021-11-16T22:30:08.229856Z",
     "iopub.status.busy": "2021-11-16T22:30:08.227567Z",
     "iopub.status.idle": "2021-11-16T22:30:09.074771Z",
     "shell.execute_reply": "2021-11-16T22:30:09.072944Z"
    },
    "papermill": {
     "duration": 0.883544,
     "end_time": "2021-11-16T22:30:09.075132",
     "exception": false,
     "start_time": "2021-11-16T22:30:08.191588",
     "status": "completed"
    },
    "tags": []
   },
   "outputs": [],
   "source": [
    "timestamps = pd.read_sql(\"select distinct record_time from EBAY_TOP_BERLIN order by record_time desc limit 2\", sqlite3.connect(\"UsedObjects.db\"))"
   ]
  },
  {
   "cell_type": "code",
   "execution_count": 3,
   "id": "periodic-identification",
   "metadata": {
    "execution": {
     "iopub.execute_input": "2021-11-16T22:30:09.142678Z",
     "iopub.status.busy": "2021-11-16T22:30:09.137535Z",
     "iopub.status.idle": "2021-11-16T22:30:09.158616Z",
     "shell.execute_reply": "2021-11-16T22:30:09.160094Z"
    },
    "papermill": {
     "duration": 0.065493,
     "end_time": "2021-11-16T22:30:09.160554",
     "exception": false,
     "start_time": "2021-11-16T22:30:09.095061",
     "status": "completed"
    },
    "tags": []
   },
   "outputs": [
    {
     "data": {
      "text/html": [
       "<div>\n",
       "<style scoped>\n",
       "    .dataframe tbody tr th:only-of-type {\n",
       "        vertical-align: middle;\n",
       "    }\n",
       "\n",
       "    .dataframe tbody tr th {\n",
       "        vertical-align: top;\n",
       "    }\n",
       "\n",
       "    .dataframe thead th {\n",
       "        text-align: right;\n",
       "    }\n",
       "</style>\n",
       "<table border=\"1\" class=\"dataframe\">\n",
       "  <thead>\n",
       "    <tr style=\"text-align: right;\">\n",
       "      <th></th>\n",
       "      <th>RECORD_TIME</th>\n",
       "    </tr>\n",
       "  </thead>\n",
       "  <tbody>\n",
       "    <tr>\n",
       "      <th>0</th>\n",
       "      <td>2021-11-16 23:30</td>\n",
       "    </tr>\n",
       "    <tr>\n",
       "      <th>1</th>\n",
       "      <td>2021-11-16 23:00</td>\n",
       "    </tr>\n",
       "  </tbody>\n",
       "</table>\n",
       "</div>"
      ],
      "text/plain": [
       "        RECORD_TIME\n",
       "0  2021-11-16 23:30\n",
       "1  2021-11-16 23:00"
      ]
     },
     "execution_count": 3,
     "metadata": {},
     "output_type": "execute_result"
    }
   ],
   "source": [
    "timestamps"
   ]
  },
  {
   "cell_type": "code",
   "execution_count": 4,
   "id": "alternate-victory",
   "metadata": {
    "execution": {
     "iopub.execute_input": "2021-11-16T22:30:09.212382Z",
     "iopub.status.busy": "2021-11-16T22:30:09.210098Z",
     "iopub.status.idle": "2021-11-16T22:30:10.428594Z",
     "shell.execute_reply": "2021-11-16T22:30:10.430280Z"
    },
    "papermill": {
     "duration": 1.24917,
     "end_time": "2021-11-16T22:30:10.430792",
     "exception": false,
     "start_time": "2021-11-16T22:30:09.181622",
     "status": "completed"
    },
    "tags": []
   },
   "outputs": [],
   "source": [
    "df = pd.read_sql(\"select * from EBAY_TOP_BERLIN where record_time in (select distinct record_time from EBAY_TOP_BERLIN order by record_time desc limit 2)\", sqlite3.connect(\"UsedObjects.db\"))"
   ]
  },
  {
   "cell_type": "code",
   "execution_count": 5,
   "id": "popular-active",
   "metadata": {
    "execution": {
     "iopub.execute_input": "2021-11-16T22:30:10.503754Z",
     "iopub.status.busy": "2021-11-16T22:30:10.493500Z",
     "iopub.status.idle": "2021-11-16T22:30:10.526703Z",
     "shell.execute_reply": "2021-11-16T22:30:10.528048Z"
    },
    "papermill": {
     "duration": 0.075763,
     "end_time": "2021-11-16T22:30:10.528504",
     "exception": false,
     "start_time": "2021-11-16T22:30:10.452741",
     "status": "completed"
    },
    "tags": []
   },
   "outputs": [],
   "source": [
    "df_pivot = df.pivot_table(index=\"PRODUCT\", columns = \"RECORD_TIME\", values = \"LISTING_COUNT\")"
   ]
  },
  {
   "cell_type": "code",
   "execution_count": 6,
   "id": "union-huntington",
   "metadata": {
    "execution": {
     "iopub.execute_input": "2021-11-16T22:30:10.586166Z",
     "iopub.status.busy": "2021-11-16T22:30:10.583918Z",
     "iopub.status.idle": "2021-11-16T22:30:10.589724Z",
     "shell.execute_reply": "2021-11-16T22:30:10.591067Z"
    },
    "papermill": {
     "duration": 0.043363,
     "end_time": "2021-11-16T22:30:10.591533",
     "exception": false,
     "start_time": "2021-11-16T22:30:10.548170",
     "status": "completed"
    },
    "tags": []
   },
   "outputs": [],
   "source": [
    "df_pivot.columns = [\"stamp_1\", \"stamp_2\"]\n",
    "df_pivot_diff = df_pivot.diff(axis=1)"
   ]
  },
  {
   "cell_type": "code",
   "execution_count": 7,
   "id": "fifth-motion",
   "metadata": {
    "execution": {
     "iopub.execute_input": "2021-11-16T22:30:10.652982Z",
     "iopub.status.busy": "2021-11-16T22:30:10.650293Z",
     "iopub.status.idle": "2021-11-16T22:30:12.635595Z",
     "shell.execute_reply": "2021-11-16T22:30:12.638133Z"
    },
    "papermill": {
     "duration": 2.027361,
     "end_time": "2021-11-16T22:30:12.638978",
     "exception": false,
     "start_time": "2021-11-16T22:30:10.611617",
     "status": "completed"
    },
    "tags": []
   },
   "outputs": [
    {
     "data": {
      "text/plain": [
       "<AxesSubplot:ylabel='PRODUCT'>"
      ]
     },
     "execution_count": 7,
     "metadata": {},
     "output_type": "execute_result"
    },
    {
     "data": {
      "image/png": "[encoded data removed]",
      "text/plain": [
       "<Figure size 432x288 with 1 Axes>"
      ]
     },
     "metadata": {
      "needs_background": "light"
     },
     "output_type": "display_data"
    }
   ],
   "source": [
    "df_pivot_diff.sort_values(\"stamp_2\", ascending = False)[\"stamp_2\"].head(10).plot.barh()"
   ]
  },
  {
   "cell_type": "code",
   "execution_count": null,
   "id": "extra-executive",
   "metadata": {
    "papermill": {
     "duration": 0.027426,
     "end_time": "2021-11-16T22:30:12.698652",
     "exception": false,
     "start_time": "2021-11-16T22:30:12.671226",
     "status": "completed"
    },
    "tags": []
   },
   "outputs": [],
   "source": []
  }
 ],
 "metadata": {
  "kernelspec": {
   "display_name": "Python 3",
   "language": "python",
   "name": "python3"
  },
  "language_info": {
   "codemirror_mode": {
    "name": "ipython",
    "version": 3
   },
   "file_extension": ".py",
   "mimetype": "text/x-python",
   "name": "python",
   "nbconvert_exporter": "python",
   "pygments_lexer": "ipython3",
   "version": "3.9.5"
  },
  "papermill": {
   "default_parameters": {},
   "duration": 9.924052,
   "end_time": "2021-11-16T22:30:14.351235",
   "environment_variables": {},
   "exception": null,
   "input_path": "eBay_Overview.ipynb",
   "output_path": "eBay_Overview.ipynb",
   "parameters": {},
   "start_time": "2021-11-16T22:30:04.427183",
   "version": "2.3.3"
  }
 },
 "nbformat": 4,
 "nbformat_minor": 5
}