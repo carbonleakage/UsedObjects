{
 "cells": [
  {
   "cell_type": "code",
   "execution_count": 1,
   "id": "reverse-picking",
   "metadata": {
    "execution": {
     "iopub.execute_input": "2021-12-04T02:30:07.636912Z",
     "iopub.status.busy": "2021-12-04T02:30:07.634349Z",
     "iopub.status.idle": "2021-12-04T02:30:08.566504Z",
     "shell.execute_reply": "2021-12-04T02:30:08.568097Z"
    },
    "papermill": {
     "duration": 0.982871,
     "end_time": "2021-12-04T02:30:08.568955",
     "exception": false,
     "start_time": "2021-12-04T02:30:07.586084",
     "status": "completed"
    },
    "tags": []
   },
   "outputs": [],
   "source": [
    "import pandas as pd\n",
    "import sqlite3"
   ]
  },
  {
   "cell_type": "code",
   "execution_count": 2,
   "id": "innovative-syndrome",
   "metadata": {
    "execution": {
     "iopub.execute_input": "2021-12-04T02:30:08.634871Z",
     "iopub.status.busy": "2021-12-04T02:30:08.632434Z",
     "iopub.status.idle": "2021-12-04T02:30:09.620662Z",
     "shell.execute_reply": "2021-12-04T02:30:09.622204Z"
    },
    "papermill": {
     "duration": 1.023214,
     "end_time": "2021-12-04T02:30:09.622713",
     "exception": false,
     "start_time": "2021-12-04T02:30:08.599499",
     "status": "completed"
    },
    "tags": []
   },
   "outputs": [],
   "source": [
    "timestamps = pd.read_sql(\"select distinct record_time from EBAY_TOP_BERLIN order by record_time desc limit 2\", sqlite3.connect(\"UsedObjects.db\"))"
   ]
  },
  {
   "cell_type": "code",
   "execution_count": 3,
   "id": "periodic-identification",
   "metadata": {
    "execution": {
     "iopub.execute_input": "2021-12-04T02:30:09.696073Z",
     "iopub.status.busy": "2021-12-04T02:30:09.687790Z",
     "iopub.status.idle": "2021-12-04T02:30:09.718750Z",
     "shell.execute_reply": "2021-12-04T02:30:09.720156Z"
    },
    "papermill": {
     "duration": 0.076466,
     "end_time": "2021-12-04T02:30:09.720650",
     "exception": false,
     "start_time": "2021-12-04T02:30:09.644184",
     "status": "completed"
    },
    "tags": []
   },
   "outputs": [
    {
     "data": {
      "text/html": [
       "<div>\n",
       "<style scoped>\n",
       "    .dataframe tbody tr th:only-of-type {\n",
       "        vertical-align: middle;\n",
       "    }\n",
       "\n",
       "    .dataframe tbody tr th {\n",
       "        vertical-align: top;\n",
       "    }\n",
       "\n",
       "    .dataframe thead th {\n",
       "        text-align: right;\n",
       "    }\n",
       "</style>\n",
       "<table border=\"1\" class=\"dataframe\">\n",
       "  <thead>\n",
       "    <tr style=\"text-align: right;\">\n",
       "      <th></th>\n",
       "      <th>RECORD_TIME</th>\n",
       "    </tr>\n",
       "  </thead>\n",
       "  <tbody>\n",
       "    <tr>\n",
       "      <th>0</th>\n",
       "      <td>2021-12-04 03:30</td>\n",
       "    </tr>\n",
       "    <tr>\n",
       "      <th>1</th>\n",
       "      <td>2021-12-04 03:00</td>\n",
       "    </tr>\n",
       "  </tbody>\n",
       "</table>\n",
       "</div>"
      ],
      "text/plain": [
       "        RECORD_TIME\n",
       "0  2021-12-04 03:30\n",
       "1  2021-12-04 03:00"
      ]
     },
     "execution_count": 3,
     "metadata": {},
     "output_type": "execute_result"
    }
   ],
   "source": [
    "timestamps"
   ]
  },
  {
   "cell_type": "code",
   "execution_count": 4,
   "id": "alternate-victory",
   "metadata": {
    "execution": {
     "iopub.execute_input": "2021-12-04T02:30:09.776145Z",
     "iopub.status.busy": "2021-12-04T02:30:09.774125Z",
     "iopub.status.idle": "2021-12-04T02:30:11.185875Z",
     "shell.execute_reply": "2021-12-04T02:30:11.187468Z"
    },
    "papermill": {
     "duration": 1.445682,
     "end_time": "2021-12-04T02:30:11.187976",
     "exception": false,
     "start_time": "2021-12-04T02:30:09.742294",
     "status": "completed"
    },
    "tags": []
   },
   "outputs": [],
   "source": [
    "df = pd.read_sql(\"select * from EBAY_TOP_BERLIN where record_time in (select distinct record_time from EBAY_TOP_BERLIN order by record_time desc limit 2)\", sqlite3.connect(\"UsedObjects.db\"))"
   ]
  },
  {
   "cell_type": "code",
   "execution_count": 5,
   "id": "popular-active",
   "metadata": {
    "execution": {
     "iopub.execute_input": "2021-12-04T02:30:11.269471Z",
     "iopub.status.busy": "2021-12-04T02:30:11.252634Z",
     "iopub.status.idle": "2021-12-04T02:30:11.287717Z",
     "shell.execute_reply": "2021-12-04T02:30:11.289266Z"
    },
    "papermill": {
     "duration": 0.079823,
     "end_time": "2021-12-04T02:30:11.289743",
     "exception": false,
     "start_time": "2021-12-04T02:30:11.209920",
     "status": "completed"
    },
    "tags": []
   },
   "outputs": [],
   "source": [
    "df_pivot = df.pivot_table(index=\"PRODUCT\", columns = \"RECORD_TIME\", values = \"LISTING_COUNT\")"
   ]
  },
  {
   "cell_type": "code",
   "execution_count": 6,
   "id": "union-huntington",
   "metadata": {
    "execution": {
     "iopub.execute_input": "2021-12-04T02:30:11.348764Z",
     "iopub.status.busy": "2021-12-04T02:30:11.346504Z",
     "iopub.status.idle": "2021-12-04T02:30:11.352289Z",
     "shell.execute_reply": "2021-12-04T02:30:11.353758Z"
    },
    "papermill": {
     "duration": 0.043936,
     "end_time": "2021-12-04T02:30:11.354252",
     "exception": false,
     "start_time": "2021-12-04T02:30:11.310316",
     "status": "completed"
    },
    "tags": []
   },
   "outputs": [],
   "source": [
    "df_pivot.columns = [\"stamp_1\", \"stamp_2\"]\n",
    "df_pivot_diff = df_pivot.diff(axis=1)"
   ]
  },
  {
   "cell_type": "code",
   "execution_count": 7,
   "id": "fifth-motion",
   "metadata": {
    "execution": {
     "iopub.execute_input": "2021-12-04T02:30:11.414453Z",
     "iopub.status.busy": "2021-12-04T02:30:11.411869Z",
     "iopub.status.idle": "2021-12-04T02:30:13.387054Z",
     "shell.execute_reply": "2021-12-04T02:30:13.389868Z"
    },
    "papermill": {
     "duration": 2.016401,
     "end_time": "2021-12-04T02:30:13.390763",
     "exception": false,
     "start_time": "2021-12-04T02:30:11.374362",
     "status": "completed"
    },
    "tags": []
   },
   "outputs": [
    {
     "data": {
      "text/plain": [
       "<AxesSubplot:ylabel='PRODUCT'>"
      ]
     },
     "execution_count": 7,
     "metadata": {},
     "output_type": "execute_result"
    },
    {
     "data": {
      "image/png": "[encoded data removed]",
      "text/plain": [
       "<Figure size 432x288 with 1 Axes>"
      ]
     },
     "metadata": {
      "needs_background": "light"
     },
     "output_type": "display_data"
    }
   ],
   "source": [
    "df_pivot_diff.sort_values(\"stamp_2\", ascending = False)[\"stamp_2\"].head(10).plot.barh()"
   ]
  },
  {
   "cell_type": "code",
   "execution_count": null,
   "id": "extra-executive",
   "metadata": {
    "papermill": {
     "duration": 0.030958,
     "end_time": "2021-12-04T02:30:13.458040",
     "exception": false,
     "start_time": "2021-12-04T02:30:13.427082",
     "status": "completed"
    },
    "tags": []
   },
   "outputs": [],
   "source": []
  }
 ],
 "metadata": {
  "kernelspec": {
   "display_name": "Python 3",
   "language": "python",
   "name": "python3"
  },
  "language_info": {
   "codemirror_mode": {
    "name": "ipython",
    "version": 3
   },
   "file_extension": ".py",
   "mimetype": "text/x-python",
   "name": "python",
   "nbconvert_exporter": "python",
   "pygments_lexer": "ipython3",
   "version": "3.9.5"
  },
  "papermill": {
   "default_parameters": {},
   "duration": 9.928397,
   "end_time": "2021-12-04T02:30:14.786754",
   "environment_variables": {},
   "exception": null,
   "input_path": "eBay_Overview.ipynb",
   "output_path": "eBay_Overview.ipynb",
   "parameters": {},
   "start_time": "2021-12-04T02:30:04.858357",
   "version": "2.3.3"
  }
 },
 "nbformat": 4,
 "nbformat_minor": 5
}