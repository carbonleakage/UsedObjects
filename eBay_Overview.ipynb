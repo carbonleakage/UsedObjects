{
 "cells": [
  {
   "cell_type": "code",
   "execution_count": 1,
   "id": "reverse-picking",
   "metadata": {
    "execution": {
     "iopub.execute_input": "2021-12-14T20:00:08.319667Z",
     "iopub.status.busy": "2021-12-14T20:00:08.317442Z",
     "iopub.status.idle": "2021-12-14T20:00:09.275671Z",
     "shell.execute_reply": "2021-12-14T20:00:09.277141Z"
    },
    "papermill": {
     "duration": 1.007469,
     "end_time": "2021-12-14T20:00:09.277844",
     "exception": false,
     "start_time": "2021-12-14T20:00:08.270375",
     "status": "completed"
    },
    "tags": []
   },
   "outputs": [],
   "source": [
    "import pandas as pd\n",
    "import sqlite3"
   ]
  },
  {
   "cell_type": "code",
   "execution_count": 2,
   "id": "innovative-syndrome",
   "metadata": {
    "execution": {
     "iopub.execute_input": "2021-12-14T20:00:09.337935Z",
     "iopub.status.busy": "2021-12-14T20:00:09.335499Z",
     "iopub.status.idle": "2021-12-14T20:00:10.438572Z",
     "shell.execute_reply": "2021-12-14T20:00:10.440167Z"
    },
    "papermill": {
     "duration": 1.135763,
     "end_time": "2021-12-14T20:00:10.440791",
     "exception": false,
     "start_time": "2021-12-14T20:00:09.305028",
     "status": "completed"
    },
    "tags": []
   },
   "outputs": [],
   "source": [
    "timestamps = pd.read_sql(\"select distinct record_time from EBAY_TOP_BERLIN order by record_time desc limit 2\", sqlite3.connect(\"UsedObjects.db\"))"
   ]
  },
  {
   "cell_type": "code",
   "execution_count": 3,
   "id": "periodic-identification",
   "metadata": {
    "execution": {
     "iopub.execute_input": "2021-12-14T20:00:10.519491Z",
     "iopub.status.busy": "2021-12-14T20:00:10.513149Z",
     "iopub.status.idle": "2021-12-14T20:00:10.536539Z",
     "shell.execute_reply": "2021-12-14T20:00:10.538115Z"
    },
    "papermill": {
     "duration": 0.077336,
     "end_time": "2021-12-14T20:00:10.538652",
     "exception": false,
     "start_time": "2021-12-14T20:00:10.461316",
     "status": "completed"
    },
    "tags": []
   },
   "outputs": [
    {
     "data": {
      "text/html": [
       "<div>\n",
       "<style scoped>\n",
       "    .dataframe tbody tr th:only-of-type {\n",
       "        vertical-align: middle;\n",
       "    }\n",
       "\n",
       "    .dataframe tbody tr th {\n",
       "        vertical-align: top;\n",
       "    }\n",
       "\n",
       "    .dataframe thead th {\n",
       "        text-align: right;\n",
       "    }\n",
       "</style>\n",
       "<table border=\"1\" class=\"dataframe\">\n",
       "  <thead>\n",
       "    <tr style=\"text-align: right;\">\n",
       "      <th></th>\n",
       "      <th>RECORD_TIME</th>\n",
       "    </tr>\n",
       "  </thead>\n",
       "  <tbody>\n",
       "    <tr>\n",
       "      <th>0</th>\n",
       "      <td>2021-12-14 21:00</td>\n",
       "    </tr>\n",
       "    <tr>\n",
       "      <th>1</th>\n",
       "      <td>2021-12-14 20:30</td>\n",
       "    </tr>\n",
       "  </tbody>\n",
       "</table>\n",
       "</div>"
      ],
      "text/plain": [
       "        RECORD_TIME\n",
       "0  2021-12-14 21:00\n",
       "1  2021-12-14 20:30"
      ]
     },
     "execution_count": 3,
     "metadata": {},
     "output_type": "execute_result"
    }
   ],
   "source": [
    "timestamps"
   ]
  },
  {
   "cell_type": "code",
   "execution_count": 4,
   "id": "alternate-victory",
   "metadata": {
    "execution": {
     "iopub.execute_input": "2021-12-14T20:00:10.596280Z",
     "iopub.status.busy": "2021-12-14T20:00:10.594141Z",
     "iopub.status.idle": "2021-12-14T20:00:12.149990Z",
     "shell.execute_reply": "2021-12-14T20:00:12.152122Z"
    },
    "papermill": {
     "duration": 1.591824,
     "end_time": "2021-12-14T20:00:12.152590",
     "exception": false,
     "start_time": "2021-12-14T20:00:10.560766",
     "status": "completed"
    },
    "tags": []
   },
   "outputs": [],
   "source": [
    "df = pd.read_sql(\"select * from EBAY_TOP_BERLIN where record_time in (select distinct record_time from EBAY_TOP_BERLIN order by record_time desc limit 2)\", sqlite3.connect(\"UsedObjects.db\"))"
   ]
  },
  {
   "cell_type": "code",
   "execution_count": 5,
   "id": "popular-active",
   "metadata": {
    "execution": {
     "iopub.execute_input": "2021-12-14T20:00:12.228812Z",
     "iopub.status.busy": "2021-12-14T20:00:12.215051Z",
     "iopub.status.idle": "2021-12-14T20:00:12.247132Z",
     "shell.execute_reply": "2021-12-14T20:00:12.248495Z"
    },
    "papermill": {
     "duration": 0.074095,
     "end_time": "2021-12-14T20:00:12.249034",
     "exception": false,
     "start_time": "2021-12-14T20:00:12.174939",
     "status": "completed"
    },
    "tags": []
   },
   "outputs": [],
   "source": [
    "df_pivot = df.pivot_table(index=\"PRODUCT\", columns = \"RECORD_TIME\", values = \"LISTING_COUNT\")"
   ]
  },
  {
   "cell_type": "code",
   "execution_count": 6,
   "id": "union-huntington",
   "metadata": {
    "execution": {
     "iopub.execute_input": "2021-12-14T20:00:12.307319Z",
     "iopub.status.busy": "2021-12-14T20:00:12.305140Z",
     "iopub.status.idle": "2021-12-14T20:00:12.311105Z",
     "shell.execute_reply": "2021-12-14T20:00:12.312549Z"
    },
    "papermill": {
     "duration": 0.044065,
     "end_time": "2021-12-14T20:00:12.313071",
     "exception": false,
     "start_time": "2021-12-14T20:00:12.269006",
     "status": "completed"
    },
    "tags": []
   },
   "outputs": [],
   "source": [
    "df_pivot.columns = [\"stamp_1\", \"stamp_2\"]\n",
    "df_pivot_diff = df_pivot.diff(axis=1)"
   ]
  },
  {
   "cell_type": "code",
   "execution_count": 7,
   "id": "fifth-motion",
   "metadata": {
    "execution": {
     "iopub.execute_input": "2021-12-14T20:00:12.370400Z",
     "iopub.status.busy": "2021-12-14T20:00:12.367471Z",
     "iopub.status.idle": "2021-12-14T20:00:14.308362Z",
     "shell.execute_reply": "2021-12-14T20:00:14.309955Z"
    },
    "papermill": {
     "duration": 1.977028,
     "end_time": "2021-12-14T20:00:14.310512",
     "exception": false,
     "start_time": "2021-12-14T20:00:12.333484",
     "status": "completed"
    },
    "tags": []
   },
   "outputs": [
    {
     "data": {
      "text/plain": [
       "<AxesSubplot:ylabel='PRODUCT'>"
      ]
     },
     "execution_count": 7,
     "metadata": {},
     "output_type": "execute_result"
    },
    {
     "data": {
      "image/png": "[encoded data removed]",
      "text/plain": [
       "<Figure size 432x288 with 1 Axes>"
      ]
     },
     "metadata": {
      "needs_background": "light"
     },
     "output_type": "display_data"
    }
   ],
   "source": [
    "df_pivot_diff.sort_values(\"stamp_2\", ascending = False)[\"stamp_2\"].head(10).plot.barh()"
   ]
  },
  {
   "cell_type": "code",
   "execution_count": null,
   "id": "extra-executive",
   "metadata": {
    "papermill": {
     "duration": 0.028074,
     "end_time": "2021-12-14T20:00:14.374486",
     "exception": false,
     "start_time": "2021-12-14T20:00:14.346412",
     "status": "completed"
    },
    "tags": []
   },
   "outputs": [],
   "source": []
  }
 ],
 "metadata": {
  "kernelspec": {
   "display_name": "Python 3",
   "language": "python",
   "name": "python3"
  },
  "language_info": {
   "codemirror_mode": {
    "name": "ipython",
    "version": 3
   },
   "file_extension": ".py",
   "mimetype": "text/x-python",
   "name": "python",
   "nbconvert_exporter": "python",
   "pygments_lexer": "ipython3",
   "version": "3.9.5"
  },
  "papermill": {
   "default_parameters": {},
   "duration": 9.501568,
   "end_time": "2021-12-14T20:00:15.025765",
   "environment_variables": {},
   "exception": null,
   "input_path": "eBay_Overview.ipynb",
   "output_path": "eBay_Overview.ipynb",
   "parameters": {},
   "start_time": "2021-12-14T20:00:05.524197",
   "version": "2.3.3"
  }
 },
 "nbformat": 4,
 "nbformat_minor": 5
}