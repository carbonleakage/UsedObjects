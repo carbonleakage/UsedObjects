{
 "cells": [
  {
   "cell_type": "code",
   "execution_count": 1,
   "id": "reverse-picking",
   "metadata": {
    "execution": {
     "iopub.execute_input": "2021-12-17T17:00:08.527833Z",
     "iopub.status.busy": "2021-12-17T17:00:08.525541Z",
     "iopub.status.idle": "2021-12-17T17:00:09.493225Z",
     "shell.execute_reply": "2021-12-17T17:00:09.494950Z"
    },
    "papermill": {
     "duration": 1.018536,
     "end_time": "2021-12-17T17:00:09.495790",
     "exception": false,
     "start_time": "2021-12-17T17:00:08.477254",
     "status": "completed"
    },
    "tags": []
   },
   "outputs": [],
   "source": [
    "import pandas as pd\n",
    "import sqlite3"
   ]
  },
  {
   "cell_type": "code",
   "execution_count": 2,
   "id": "innovative-syndrome",
   "metadata": {
    "execution": {
     "iopub.execute_input": "2021-12-17T17:00:09.560080Z",
     "iopub.status.busy": "2021-12-17T17:00:09.557716Z",
     "iopub.status.idle": "2021-12-17T17:00:10.660211Z",
     "shell.execute_reply": "2021-12-17T17:00:10.661951Z"
    },
    "papermill": {
     "duration": 1.139097,
     "end_time": "2021-12-17T17:00:10.662854",
     "exception": false,
     "start_time": "2021-12-17T17:00:09.523757",
     "status": "completed"
    },
    "tags": []
   },
   "outputs": [],
   "source": [
    "timestamps = pd.read_sql(\"select distinct record_time from EBAY_TOP_BERLIN order by record_time desc limit 2\", sqlite3.connect(\"UsedObjects.db\"))"
   ]
  },
  {
   "cell_type": "code",
   "execution_count": 3,
   "id": "periodic-identification",
   "metadata": {
    "execution": {
     "iopub.execute_input": "2021-12-17T17:00:10.738395Z",
     "iopub.status.busy": "2021-12-17T17:00:10.732445Z",
     "iopub.status.idle": "2021-12-17T17:00:10.754855Z",
     "shell.execute_reply": "2021-12-17T17:00:10.756228Z"
    },
    "papermill": {
     "duration": 0.070658,
     "end_time": "2021-12-17T17:00:10.756745",
     "exception": false,
     "start_time": "2021-12-17T17:00:10.686087",
     "status": "completed"
    },
    "tags": []
   },
   "outputs": [
    {
     "data": {
      "text/html": [
       "<div>\n",
       "<style scoped>\n",
       "    .dataframe tbody tr th:only-of-type {\n",
       "        vertical-align: middle;\n",
       "    }\n",
       "\n",
       "    .dataframe tbody tr th {\n",
       "        vertical-align: top;\n",
       "    }\n",
       "\n",
       "    .dataframe thead th {\n",
       "        text-align: right;\n",
       "    }\n",
       "</style>\n",
       "<table border=\"1\" class=\"dataframe\">\n",
       "  <thead>\n",
       "    <tr style=\"text-align: right;\">\n",
       "      <th></th>\n",
       "      <th>RECORD_TIME</th>\n",
       "    </tr>\n",
       "  </thead>\n",
       "  <tbody>\n",
       "    <tr>\n",
       "      <th>0</th>\n",
       "      <td>2021-12-17 18:00</td>\n",
       "    </tr>\n",
       "    <tr>\n",
       "      <th>1</th>\n",
       "      <td>2021-12-17 17:30</td>\n",
       "    </tr>\n",
       "  </tbody>\n",
       "</table>\n",
       "</div>"
      ],
      "text/plain": [
       "        RECORD_TIME\n",
       "0  2021-12-17 18:00\n",
       "1  2021-12-17 17:30"
      ]
     },
     "execution_count": 3,
     "metadata": {},
     "output_type": "execute_result"
    }
   ],
   "source": [
    "timestamps"
   ]
  },
  {
   "cell_type": "code",
   "execution_count": 4,
   "id": "alternate-victory",
   "metadata": {
    "execution": {
     "iopub.execute_input": "2021-12-17T17:00:10.811467Z",
     "iopub.status.busy": "2021-12-17T17:00:10.809379Z",
     "iopub.status.idle": "2021-12-17T17:00:12.440215Z",
     "shell.execute_reply": "2021-12-17T17:00:12.443513Z"
    },
    "papermill": {
     "duration": 1.666951,
     "end_time": "2021-12-17T17:00:12.444308",
     "exception": false,
     "start_time": "2021-12-17T17:00:10.777357",
     "status": "completed"
    },
    "tags": []
   },
   "outputs": [],
   "source": [
    "df = pd.read_sql(\"select * from EBAY_TOP_BERLIN where record_time in (select distinct record_time from EBAY_TOP_BERLIN order by record_time desc limit 2)\", sqlite3.connect(\"UsedObjects.db\"))"
   ]
  },
  {
   "cell_type": "code",
   "execution_count": 5,
   "id": "popular-active",
   "metadata": {
    "execution": {
     "iopub.execute_input": "2021-12-17T17:00:12.564733Z",
     "iopub.status.busy": "2021-12-17T17:00:12.543746Z",
     "iopub.status.idle": "2021-12-17T17:00:12.603758Z",
     "shell.execute_reply": "2021-12-17T17:00:12.606739Z"
    },
    "papermill": {
     "duration": 0.132335,
     "end_time": "2021-12-17T17:00:12.608129",
     "exception": false,
     "start_time": "2021-12-17T17:00:12.475794",
     "status": "completed"
    },
    "tags": []
   },
   "outputs": [],
   "source": [
    "df_pivot = df.pivot_table(index=\"PRODUCT\", columns = \"RECORD_TIME\", values = \"LISTING_COUNT\")"
   ]
  },
  {
   "cell_type": "code",
   "execution_count": 6,
   "id": "union-huntington",
   "metadata": {
    "execution": {
     "iopub.execute_input": "2021-12-17T17:00:12.699911Z",
     "iopub.status.busy": "2021-12-17T17:00:12.696761Z",
     "iopub.status.idle": "2021-12-17T17:00:12.706466Z",
     "shell.execute_reply": "2021-12-17T17:00:12.704029Z"
    },
    "papermill": {
     "duration": 0.065809,
     "end_time": "2021-12-17T17:00:12.707050",
     "exception": false,
     "start_time": "2021-12-17T17:00:12.641241",
     "status": "completed"
    },
    "tags": []
   },
   "outputs": [],
   "source": [
    "df_pivot.columns = [\"stamp_1\", \"stamp_2\"]\n",
    "df_pivot_diff = df_pivot.diff(axis=1)"
   ]
  },
  {
   "cell_type": "code",
   "execution_count": 7,
   "id": "fifth-motion",
   "metadata": {
    "execution": {
     "iopub.execute_input": "2021-12-17T17:00:12.791790Z",
     "iopub.status.busy": "2021-12-17T17:00:12.787698Z",
     "iopub.status.idle": "2021-12-17T17:00:14.567180Z",
     "shell.execute_reply": "2021-12-17T17:00:14.568482Z"
    },
    "papermill": {
     "duration": 1.837525,
     "end_time": "2021-12-17T17:00:14.568995",
     "exception": false,
     "start_time": "2021-12-17T17:00:12.731470",
     "status": "completed"
    },
    "tags": []
   },
   "outputs": [
    {
     "data": {
      "text/plain": [
       "<AxesSubplot:ylabel='PRODUCT'>"
      ]
     },
     "execution_count": 7,
     "metadata": {},
     "output_type": "execute_result"
    },
    {
     "data": {
      "image/png": "[encoded data removed]",
      "text/plain": [
       "<Figure size 432x288 with 1 Axes>"
      ]
     },
     "metadata": {
      "needs_background": "light"
     },
     "output_type": "display_data"
    }
   ],
   "source": [
    "df_pivot_diff.sort_values(\"stamp_2\", ascending = False)[\"stamp_2\"].head(10).plot.barh()"
   ]
  },
  {
   "cell_type": "code",
   "execution_count": null,
   "id": "extra-executive",
   "metadata": {
    "papermill": {
     "duration": 0.026826,
     "end_time": "2021-12-17T17:00:14.628283",
     "exception": false,
     "start_time": "2021-12-17T17:00:14.601457",
     "status": "completed"
    },
    "tags": []
   },
   "outputs": [],
   "source": []
  }
 ],
 "metadata": {
  "kernelspec": {
   "display_name": "Python 3",
   "language": "python",
   "name": "python3"
  },
  "language_info": {
   "codemirror_mode": {
    "name": "ipython",
    "version": 3
   },
   "file_extension": ".py",
   "mimetype": "text/x-python",
   "name": "python",
   "nbconvert_exporter": "python",
   "pygments_lexer": "ipython3",
   "version": "3.9.5"
  },
  "papermill": {
   "default_parameters": {},
   "duration": 9.5438,
   "end_time": "2021-12-17T17:00:15.274322",
   "environment_variables": {},
   "exception": null,
   "input_path": "eBay_Overview.ipynb",
   "output_path": "eBay_Overview.ipynb",
   "parameters": {},
   "start_time": "2021-12-17T17:00:05.730522",
   "version": "2.3.3"
  }
 },
 "nbformat": 4,
 "nbformat_minor": 5
}