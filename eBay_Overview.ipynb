{
 "cells": [
  {
   "cell_type": "code",
   "execution_count": 1,
   "id": "reverse-picking",
   "metadata": {
    "execution": {
     "iopub.execute_input": "2021-11-26T02:30:07.639898Z",
     "iopub.status.busy": "2021-11-26T02:30:07.637830Z",
     "iopub.status.idle": "2021-11-26T02:30:08.579142Z",
     "shell.execute_reply": "2021-11-26T02:30:08.580857Z"
    },
    "papermill": {
     "duration": 0.991483,
     "end_time": "2021-11-26T02:30:08.581602",
     "exception": false,
     "start_time": "2021-11-26T02:30:07.590119",
     "status": "completed"
    },
    "tags": []
   },
   "outputs": [],
   "source": [
    "import pandas as pd\n",
    "import sqlite3"
   ]
  },
  {
   "cell_type": "code",
   "execution_count": 2,
   "id": "innovative-syndrome",
   "metadata": {
    "execution": {
     "iopub.execute_input": "2021-11-26T02:30:08.643996Z",
     "iopub.status.busy": "2021-11-26T02:30:08.641723Z",
     "iopub.status.idle": "2021-11-26T02:30:09.581583Z",
     "shell.execute_reply": "2021-11-26T02:30:09.583229Z"
    },
    "papermill": {
     "duration": 0.974341,
     "end_time": "2021-11-26T02:30:09.583744",
     "exception": false,
     "start_time": "2021-11-26T02:30:08.609403",
     "status": "completed"
    },
    "tags": []
   },
   "outputs": [],
   "source": [
    "timestamps = pd.read_sql(\"select distinct record_time from EBAY_TOP_BERLIN order by record_time desc limit 2\", sqlite3.connect(\"UsedObjects.db\"))"
   ]
  },
  {
   "cell_type": "code",
   "execution_count": 3,
   "id": "periodic-identification",
   "metadata": {
    "execution": {
     "iopub.execute_input": "2021-11-26T02:30:09.655990Z",
     "iopub.status.busy": "2021-11-26T02:30:09.653721Z",
     "iopub.status.idle": "2021-11-26T02:30:09.676534Z",
     "shell.execute_reply": "2021-11-26T02:30:09.678146Z"
    },
    "papermill": {
     "duration": 0.074399,
     "end_time": "2021-11-26T02:30:09.678670",
     "exception": false,
     "start_time": "2021-11-26T02:30:09.604271",
     "status": "completed"
    },
    "tags": []
   },
   "outputs": [
    {
     "data": {
      "text/html": [
       "<div>\n",
       "<style scoped>\n",
       "    .dataframe tbody tr th:only-of-type {\n",
       "        vertical-align: middle;\n",
       "    }\n",
       "\n",
       "    .dataframe tbody tr th {\n",
       "        vertical-align: top;\n",
       "    }\n",
       "\n",
       "    .dataframe thead th {\n",
       "        text-align: right;\n",
       "    }\n",
       "</style>\n",
       "<table border=\"1\" class=\"dataframe\">\n",
       "  <thead>\n",
       "    <tr style=\"text-align: right;\">\n",
       "      <th></th>\n",
       "      <th>RECORD_TIME</th>\n",
       "    </tr>\n",
       "  </thead>\n",
       "  <tbody>\n",
       "    <tr>\n",
       "      <th>0</th>\n",
       "      <td>2021-11-26 03:30</td>\n",
       "    </tr>\n",
       "    <tr>\n",
       "      <th>1</th>\n",
       "      <td>2021-11-26 03:00</td>\n",
       "    </tr>\n",
       "  </tbody>\n",
       "</table>\n",
       "</div>"
      ],
      "text/plain": [
       "        RECORD_TIME\n",
       "0  2021-11-26 03:30\n",
       "1  2021-11-26 03:00"
      ]
     },
     "execution_count": 3,
     "metadata": {},
     "output_type": "execute_result"
    }
   ],
   "source": [
    "timestamps"
   ]
  },
  {
   "cell_type": "code",
   "execution_count": 4,
   "id": "alternate-victory",
   "metadata": {
    "execution": {
     "iopub.execute_input": "2021-11-26T02:30:09.736659Z",
     "iopub.status.busy": "2021-11-26T02:30:09.734501Z",
     "iopub.status.idle": "2021-11-26T02:30:11.063444Z",
     "shell.execute_reply": "2021-11-26T02:30:11.064994Z"
    },
    "papermill": {
     "duration": 1.362997,
     "end_time": "2021-11-26T02:30:11.065509",
     "exception": false,
     "start_time": "2021-11-26T02:30:09.702512",
     "status": "completed"
    },
    "tags": []
   },
   "outputs": [],
   "source": [
    "df = pd.read_sql(\"select * from EBAY_TOP_BERLIN where record_time in (select distinct record_time from EBAY_TOP_BERLIN order by record_time desc limit 2)\", sqlite3.connect(\"UsedObjects.db\"))"
   ]
  },
  {
   "cell_type": "code",
   "execution_count": 5,
   "id": "popular-active",
   "metadata": {
    "execution": {
     "iopub.execute_input": "2021-11-26T02:30:11.142313Z",
     "iopub.status.busy": "2021-11-26T02:30:11.127797Z",
     "iopub.status.idle": "2021-11-26T02:30:11.162714Z",
     "shell.execute_reply": "2021-11-26T02:30:11.164207Z"
    },
    "papermill": {
     "duration": 0.078264,
     "end_time": "2021-11-26T02:30:11.164809",
     "exception": false,
     "start_time": "2021-11-26T02:30:11.086545",
     "status": "completed"
    },
    "tags": []
   },
   "outputs": [],
   "source": [
    "df_pivot = df.pivot_table(index=\"PRODUCT\", columns = \"RECORD_TIME\", values = \"LISTING_COUNT\")"
   ]
  },
  {
   "cell_type": "code",
   "execution_count": 6,
   "id": "union-huntington",
   "metadata": {
    "execution": {
     "iopub.execute_input": "2021-11-26T02:30:11.227083Z",
     "iopub.status.busy": "2021-11-26T02:30:11.224506Z",
     "iopub.status.idle": "2021-11-26T02:30:11.230207Z",
     "shell.execute_reply": "2021-11-26T02:30:11.231814Z"
    },
    "papermill": {
     "duration": 0.046423,
     "end_time": "2021-11-26T02:30:11.232375",
     "exception": false,
     "start_time": "2021-11-26T02:30:11.185952",
     "status": "completed"
    },
    "tags": []
   },
   "outputs": [],
   "source": [
    "df_pivot.columns = [\"stamp_1\", \"stamp_2\"]\n",
    "df_pivot_diff = df_pivot.diff(axis=1)"
   ]
  },
  {
   "cell_type": "code",
   "execution_count": 7,
   "id": "fifth-motion",
   "metadata": {
    "execution": {
     "iopub.execute_input": "2021-11-26T02:30:11.291307Z",
     "iopub.status.busy": "2021-11-26T02:30:11.288792Z",
     "iopub.status.idle": "2021-11-26T02:30:13.197892Z",
     "shell.execute_reply": "2021-11-26T02:30:13.199382Z"
    },
    "papermill": {
     "duration": 1.945648,
     "end_time": "2021-11-26T02:30:13.199872",
     "exception": false,
     "start_time": "2021-11-26T02:30:11.254224",
     "status": "completed"
    },
    "tags": []
   },
   "outputs": [
    {
     "data": {
      "text/plain": [
       "<AxesSubplot:ylabel='PRODUCT'>"
      ]
     },
     "execution_count": 7,
     "metadata": {},
     "output_type": "execute_result"
    },
    {
     "data": {
      "image/png": "[encoded data removed]",
      "text/plain": [
       "<Figure size 432x288 with 1 Axes>"
      ]
     },
     "metadata": {
      "needs_background": "light"
     },
     "output_type": "display_data"
    }
   ],
   "source": [
    "df_pivot_diff.sort_values(\"stamp_2\", ascending = False)[\"stamp_2\"].head(10).plot.barh()"
   ]
  },
  {
   "cell_type": "code",
   "execution_count": null,
   "id": "extra-executive",
   "metadata": {
    "papermill": {
     "duration": 0.024899,
     "end_time": "2021-11-26T02:30:13.248721",
     "exception": false,
     "start_time": "2021-11-26T02:30:13.223822",
     "status": "completed"
    },
    "tags": []
   },
   "outputs": [],
   "source": []
  }
 ],
 "metadata": {
  "kernelspec": {
   "display_name": "Python 3",
   "language": "python",
   "name": "python3"
  },
  "language_info": {
   "codemirror_mode": {
    "name": "ipython",
    "version": 3
   },
   "file_extension": ".py",
   "mimetype": "text/x-python",
   "name": "python",
   "nbconvert_exporter": "python",
   "pygments_lexer": "ipython3",
   "version": "3.9.5"
  },
  "papermill": {
   "default_parameters": {},
   "duration": 9.938415,
   "end_time": "2021-11-26T02:30:14.791066",
   "environment_variables": {},
   "exception": null,
   "input_path": "eBay_Overview.ipynb",
   "output_path": "eBay_Overview.ipynb",
   "parameters": {},
   "start_time": "2021-11-26T02:30:04.852651",
   "version": "2.3.3"
  }
 },
 "nbformat": 4,
 "nbformat_minor": 5
}