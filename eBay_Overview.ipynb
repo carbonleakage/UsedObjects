{
 "cells": [
  {
   "cell_type": "code",
   "execution_count": 1,
   "id": "reverse-picking",
   "metadata": {
    "execution": {
     "iopub.execute_input": "2021-08-10T21:00:03.868901Z",
     "iopub.status.busy": "2021-08-10T21:00:03.868134Z",
     "iopub.status.idle": "2021-08-10T21:00:04.596573Z",
     "shell.execute_reply": "2021-08-10T21:00:04.595350Z"
    },
    "papermill": {
     "duration": 0.747955,
     "end_time": "2021-08-10T21:00:04.596895",
     "exception": false,
     "start_time": "2021-08-10T21:00:03.848940",
     "status": "completed"
    },
    "tags": []
   },
   "outputs": [],
   "source": [
    "import pandas as pd\n",
    "import sqlite3"
   ]
  },
  {
   "cell_type": "code",
   "execution_count": 2,
   "id": "innovative-syndrome",
   "metadata": {
    "execution": {
     "iopub.execute_input": "2021-08-10T21:00:04.621178Z",
     "iopub.status.busy": "2021-08-10T21:00:04.620407Z",
     "iopub.status.idle": "2021-08-10T21:00:04.887107Z",
     "shell.execute_reply": "2021-08-10T21:00:04.886239Z"
    },
    "papermill": {
     "duration": 0.279598,
     "end_time": "2021-08-10T21:00:04.887336",
     "exception": false,
     "start_time": "2021-08-10T21:00:04.607738",
     "status": "completed"
    },
    "tags": []
   },
   "outputs": [],
   "source": [
    "timestamps = pd.read_sql(\"select distinct record_time from EBAY_TOP_BERLIN order by record_time desc limit 2\", sqlite3.connect(\"UsedObjects.db\"))"
   ]
  },
  {
   "cell_type": "code",
   "execution_count": 3,
   "id": "periodic-identification",
   "metadata": {
    "execution": {
     "iopub.execute_input": "2021-08-10T21:00:04.916264Z",
     "iopub.status.busy": "2021-08-10T21:00:04.915318Z",
     "iopub.status.idle": "2021-08-10T21:00:04.977999Z",
     "shell.execute_reply": "2021-08-10T21:00:04.978597Z"
    },
    "papermill": {
     "duration": 0.082231,
     "end_time": "2021-08-10T21:00:04.978785",
     "exception": false,
     "start_time": "2021-08-10T21:00:04.896554",
     "status": "completed"
    },
    "tags": []
   },
   "outputs": [
    {
     "data": {
      "text/html": [
       "<div>\n",
       "<style scoped>\n",
       "    .dataframe tbody tr th:only-of-type {\n",
       "        vertical-align: middle;\n",
       "    }\n",
       "\n",
       "    .dataframe tbody tr th {\n",
       "        vertical-align: top;\n",
       "    }\n",
       "\n",
       "    .dataframe thead th {\n",
       "        text-align: right;\n",
       "    }\n",
       "</style>\n",
       "<table border=\"1\" class=\"dataframe\">\n",
       "  <thead>\n",
       "    <tr style=\"text-align: right;\">\n",
       "      <th></th>\n",
       "      <th>RECORD_TIME</th>\n",
       "    </tr>\n",
       "  </thead>\n",
       "  <tbody>\n",
       "    <tr>\n",
       "      <th>0</th>\n",
       "      <td>2021-08-10 23:00</td>\n",
       "    </tr>\n",
       "    <tr>\n",
       "      <th>1</th>\n",
       "      <td>2021-08-10 22:30</td>\n",
       "    </tr>\n",
       "  </tbody>\n",
       "</table>\n",
       "</div>"
      ],
      "text/plain": [
       "        RECORD_TIME\n",
       "0  2021-08-10 23:00\n",
       "1  2021-08-10 22:30"
      ]
     },
     "execution_count": 3,
     "metadata": {},
     "output_type": "execute_result"
    }
   ],
   "source": [
    "timestamps"
   ]
  },
  {
   "cell_type": "code",
   "execution_count": 4,
   "id": "alternate-victory",
   "metadata": {
    "execution": {
     "iopub.execute_input": "2021-08-10T21:00:05.003271Z",
     "iopub.status.busy": "2021-08-10T21:00:05.002503Z",
     "iopub.status.idle": "2021-08-10T21:00:05.020581Z",
     "shell.execute_reply": "2021-08-10T21:00:05.021168Z"
    },
    "papermill": {
     "duration": 0.032777,
     "end_time": "2021-08-10T21:00:05.021365",
     "exception": false,
     "start_time": "2021-08-10T21:00:04.988588",
     "status": "completed"
    },
    "tags": []
   },
   "outputs": [],
   "source": [
    "df = pd.read_sql(\"select * from EBAY_TOP_BERLIN where record_time in (select distinct record_time from EBAY_TOP_BERLIN order by record_time desc limit 2)\", sqlite3.connect(\"UsedObjects.db\"))"
   ]
  },
  {
   "cell_type": "code",
   "execution_count": 5,
   "id": "popular-active",
   "metadata": {
    "execution": {
     "iopub.execute_input": "2021-08-10T21:00:05.056107Z",
     "iopub.status.busy": "2021-08-10T21:00:05.052378Z",
     "iopub.status.idle": "2021-08-10T21:00:05.093276Z",
     "shell.execute_reply": "2021-08-10T21:00:05.092661Z"
    },
    "papermill": {
     "duration": 0.063387,
     "end_time": "2021-08-10T21:00:05.093440",
     "exception": false,
     "start_time": "2021-08-10T21:00:05.030053",
     "status": "completed"
    },
    "tags": []
   },
   "outputs": [],
   "source": [
    "df_pivot = df.pivot_table(index=\"PRODUCT\", columns = \"RECORD_TIME\", values = \"LISTING_COUNT\")"
   ]
  },
  {
   "cell_type": "code",
   "execution_count": 6,
   "id": "union-huntington",
   "metadata": {
    "execution": {
     "iopub.execute_input": "2021-08-10T21:00:05.123929Z",
     "iopub.status.busy": "2021-08-10T21:00:05.123212Z",
     "iopub.status.idle": "2021-08-10T21:00:05.127604Z",
     "shell.execute_reply": "2021-08-10T21:00:05.128141Z"
    },
    "papermill": {
     "duration": 0.024596,
     "end_time": "2021-08-10T21:00:05.128325",
     "exception": false,
     "start_time": "2021-08-10T21:00:05.103729",
     "status": "completed"
    },
    "tags": []
   },
   "outputs": [],
   "source": [
    "df_pivot.columns = [\"stamp_1\", \"stamp_2\"]\n",
    "df_pivot_diff = df_pivot.diff(axis=1)"
   ]
  },
  {
   "cell_type": "code",
   "execution_count": 7,
   "id": "fifth-motion",
   "metadata": {
    "execution": {
     "iopub.execute_input": "2021-08-10T21:00:05.157292Z",
     "iopub.status.busy": "2021-08-10T21:00:05.156523Z",
     "iopub.status.idle": "2021-08-10T21:00:05.943396Z",
     "shell.execute_reply": "2021-08-10T21:00:05.943972Z"
    },
    "papermill": {
     "duration": 0.806132,
     "end_time": "2021-08-10T21:00:05.944168",
     "exception": false,
     "start_time": "2021-08-10T21:00:05.138036",
     "status": "completed"
    },
    "tags": []
   },
   "outputs": [
    {
     "data": {
      "text/plain": [
       "<AxesSubplot:ylabel='PRODUCT'>"
      ]
     },
     "execution_count": 7,
     "metadata": {},
     "output_type": "execute_result"
    },
    {
     "data": {
      "image/png": "[encoded data removed]",
      "text/plain": [
       "<Figure size 432x288 with 1 Axes>"
      ]
     },
     "metadata": {
      "needs_background": "light"
     },
     "output_type": "display_data"
    }
   ],
   "source": [
    "df_pivot_diff.sort_values(\"stamp_2\", ascending = False)[\"stamp_2\"].head(10).plot.barh()"
   ]
  },
  {
   "cell_type": "code",
   "execution_count": null,
   "id": "extra-executive",
   "metadata": {
    "papermill": {
     "duration": 0.009504,
     "end_time": "2021-08-10T21:00:05.964241",
     "exception": false,
     "start_time": "2021-08-10T21:00:05.954737",
     "status": "completed"
    },
    "tags": []
   },
   "outputs": [],
   "source": []
  }
 ],
 "metadata": {
  "kernelspec": {
   "display_name": "Python 3",
   "language": "python",
   "name": "python3"
  },
  "language_info": {
   "codemirror_mode": {
    "name": "ipython",
    "version": 3
   },
   "file_extension": ".py",
   "mimetype": "text/x-python",
   "name": "python",
   "nbconvert_exporter": "python",
   "pygments_lexer": "ipython3",
   "version": "3.8.8"
  },
  "papermill": {
   "default_parameters": {},
   "duration": 4.513429,
   "end_time": "2021-08-10T21:00:06.713902",
   "environment_variables": {},
   "exception": null,
   "input_path": "/Users/saravananshanmugam/Carbonleakage_Git/UsedObjects/eBay_Overview.ipynb",
   "output_path": "/Users/saravananshanmugam/Carbonleakage_Git/UsedObjects/eBay_Overview.ipynb",
   "parameters": {},
   "start_time": "2021-08-10T21:00:02.200473",
   "version": "2.3.3"
  }
 },
 "nbformat": 4,
 "nbformat_minor": 5
}