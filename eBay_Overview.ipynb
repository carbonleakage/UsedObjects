{
 "cells": [
  {
   "cell_type": "code",
   "execution_count": 1,
   "id": "reverse-picking",
   "metadata": {
    "execution": {
     "iopub.execute_input": "2021-10-20T20:30:06.809722Z",
     "iopub.status.busy": "2021-10-20T20:30:06.807620Z",
     "iopub.status.idle": "2021-10-20T20:30:07.617246Z",
     "shell.execute_reply": "2021-10-20T20:30:07.618812Z"
    },
    "papermill": {
     "duration": 0.859482,
     "end_time": "2021-10-20T20:30:07.619495",
     "exception": false,
     "start_time": "2021-10-20T20:30:06.760013",
     "status": "completed"
    },
    "tags": []
   },
   "outputs": [],
   "source": [
    "import pandas as pd\n",
    "import sqlite3"
   ]
  },
  {
   "cell_type": "code",
   "execution_count": 2,
   "id": "innovative-syndrome",
   "metadata": {
    "execution": {
     "iopub.execute_input": "2021-10-20T20:30:07.670365Z",
     "iopub.status.busy": "2021-10-20T20:30:07.667929Z",
     "iopub.status.idle": "2021-10-20T20:30:08.247444Z",
     "shell.execute_reply": "2021-10-20T20:30:08.248735Z"
    },
    "papermill": {
     "duration": 0.609415,
     "end_time": "2021-10-20T20:30:08.249162",
     "exception": false,
     "start_time": "2021-10-20T20:30:07.639747",
     "status": "completed"
    },
    "tags": []
   },
   "outputs": [],
   "source": [
    "timestamps = pd.read_sql(\"select distinct record_time from EBAY_TOP_BERLIN order by record_time desc limit 2\", sqlite3.connect(\"UsedObjects.db\"))"
   ]
  },
  {
   "cell_type": "code",
   "execution_count": 3,
   "id": "periodic-identification",
   "metadata": {
    "execution": {
     "iopub.execute_input": "2021-10-20T20:30:08.332351Z",
     "iopub.status.busy": "2021-10-20T20:30:08.327022Z",
     "iopub.status.idle": "2021-10-20T20:30:08.348183Z",
     "shell.execute_reply": "2021-10-20T20:30:08.349826Z"
    },
    "papermill": {
     "duration": 0.070799,
     "end_time": "2021-10-20T20:30:08.350296",
     "exception": false,
     "start_time": "2021-10-20T20:30:08.279497",
     "status": "completed"
    },
    "tags": []
   },
   "outputs": [
    {
     "data": {
      "text/html": [
       "<div>\n",
       "<style scoped>\n",
       "    .dataframe tbody tr th:only-of-type {\n",
       "        vertical-align: middle;\n",
       "    }\n",
       "\n",
       "    .dataframe tbody tr th {\n",
       "        vertical-align: top;\n",
       "    }\n",
       "\n",
       "    .dataframe thead th {\n",
       "        text-align: right;\n",
       "    }\n",
       "</style>\n",
       "<table border=\"1\" class=\"dataframe\">\n",
       "  <thead>\n",
       "    <tr style=\"text-align: right;\">\n",
       "      <th></th>\n",
       "      <th>RECORD_TIME</th>\n",
       "    </tr>\n",
       "  </thead>\n",
       "  <tbody>\n",
       "    <tr>\n",
       "      <th>0</th>\n",
       "      <td>2021-10-20 22:30</td>\n",
       "    </tr>\n",
       "    <tr>\n",
       "      <th>1</th>\n",
       "      <td>2021-10-20 22:00</td>\n",
       "    </tr>\n",
       "  </tbody>\n",
       "</table>\n",
       "</div>"
      ],
      "text/plain": [
       "        RECORD_TIME\n",
       "0  2021-10-20 22:30\n",
       "1  2021-10-20 22:00"
      ]
     },
     "execution_count": 3,
     "metadata": {},
     "output_type": "execute_result"
    }
   ],
   "source": [
    "timestamps"
   ]
  },
  {
   "cell_type": "code",
   "execution_count": 4,
   "id": "alternate-victory",
   "metadata": {
    "execution": {
     "iopub.execute_input": "2021-10-20T20:30:08.403376Z",
     "iopub.status.busy": "2021-10-20T20:30:08.401312Z",
     "iopub.status.idle": "2021-10-20T20:30:09.277210Z",
     "shell.execute_reply": "2021-10-20T20:30:09.278466Z"
    },
    "papermill": {
     "duration": 0.906377,
     "end_time": "2021-10-20T20:30:09.278863",
     "exception": false,
     "start_time": "2021-10-20T20:30:08.372486",
     "status": "completed"
    },
    "tags": []
   },
   "outputs": [],
   "source": [
    "df = pd.read_sql(\"select * from EBAY_TOP_BERLIN where record_time in (select distinct record_time from EBAY_TOP_BERLIN order by record_time desc limit 2)\", sqlite3.connect(\"UsedObjects.db\"))"
   ]
  },
  {
   "cell_type": "code",
   "execution_count": 5,
   "id": "popular-active",
   "metadata": {
    "execution": {
     "iopub.execute_input": "2021-10-20T20:30:09.341977Z",
     "iopub.status.busy": "2021-10-20T20:30:09.339543Z",
     "iopub.status.idle": "2021-10-20T20:30:09.367848Z",
     "shell.execute_reply": "2021-10-20T20:30:09.369163Z"
    },
    "papermill": {
     "duration": 0.068153,
     "end_time": "2021-10-20T20:30:09.369570",
     "exception": false,
     "start_time": "2021-10-20T20:30:09.301417",
     "status": "completed"
    },
    "tags": []
   },
   "outputs": [],
   "source": [
    "df_pivot = df.pivot_table(index=\"PRODUCT\", columns = \"RECORD_TIME\", values = \"LISTING_COUNT\")"
   ]
  },
  {
   "cell_type": "code",
   "execution_count": 6,
   "id": "union-huntington",
   "metadata": {
    "execution": {
     "iopub.execute_input": "2021-10-20T20:30:09.427035Z",
     "iopub.status.busy": "2021-10-20T20:30:09.424814Z",
     "iopub.status.idle": "2021-10-20T20:30:09.430428Z",
     "shell.execute_reply": "2021-10-20T20:30:09.431826Z"
    },
    "papermill": {
     "duration": 0.041162,
     "end_time": "2021-10-20T20:30:09.432265",
     "exception": false,
     "start_time": "2021-10-20T20:30:09.391103",
     "status": "completed"
    },
    "tags": []
   },
   "outputs": [],
   "source": [
    "df_pivot.columns = [\"stamp_1\", \"stamp_2\"]\n",
    "df_pivot_diff = df_pivot.diff(axis=1)"
   ]
  },
  {
   "cell_type": "code",
   "execution_count": 7,
   "id": "fifth-motion",
   "metadata": {
    "execution": {
     "iopub.execute_input": "2021-10-20T20:30:09.490817Z",
     "iopub.status.busy": "2021-10-20T20:30:09.488209Z",
     "iopub.status.idle": "2021-10-20T20:30:10.957141Z",
     "shell.execute_reply": "2021-10-20T20:30:10.958461Z"
    },
    "papermill": {
     "duration": 1.503154,
     "end_time": "2021-10-20T20:30:10.958876",
     "exception": false,
     "start_time": "2021-10-20T20:30:09.455722",
     "status": "completed"
    },
    "tags": []
   },
   "outputs": [
    {
     "data": {
      "text/plain": [
       "<AxesSubplot:ylabel='PRODUCT'>"
      ]
     },
     "execution_count": 7,
     "metadata": {},
     "output_type": "execute_result"
    },
    {
     "data": {
      "image/png": "[encoded data removed]",
      "text/plain": [
       "<Figure size 432x288 with 1 Axes>"
      ]
     },
     "metadata": {
      "needs_background": "light"
     },
     "output_type": "display_data"
    }
   ],
   "source": [
    "df_pivot_diff.sort_values(\"stamp_2\", ascending = False)[\"stamp_2\"].head(10).plot.barh()"
   ]
  },
  {
   "cell_type": "code",
   "execution_count": null,
   "id": "extra-executive",
   "metadata": {
    "papermill": {
     "duration": 0.021831,
     "end_time": "2021-10-20T20:30:11.005183",
     "exception": false,
     "start_time": "2021-10-20T20:30:10.983352",
     "status": "completed"
    },
    "tags": []
   },
   "outputs": [],
   "source": []
  }
 ],
 "metadata": {
  "kernelspec": {
   "display_name": "Python 3",
   "language": "python",
   "name": "python3"
  },
  "language_info": {
   "codemirror_mode": {
    "name": "ipython",
    "version": 3
   },
   "file_extension": ".py",
   "mimetype": "text/x-python",
   "name": "python",
   "nbconvert_exporter": "python",
   "pygments_lexer": "ipython3",
   "version": "3.9.5"
  },
  "papermill": {
   "default_parameters": {},
   "duration": 7.819387,
   "end_time": "2021-10-20T20:30:12.163382",
   "environment_variables": {},
   "exception": null,
   "input_path": "eBay_Overview.ipynb",
   "output_path": "eBay_Overview.ipynb",
   "parameters": {},
   "start_time": "2021-10-20T20:30:04.343995",
   "version": "2.3.3"
  }
 },
 "nbformat": 4,
 "nbformat_minor": 5
}