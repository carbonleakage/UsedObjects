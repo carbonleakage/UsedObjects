{
 "cells": [
  {
   "cell_type": "code",
   "execution_count": 1,
   "id": "reverse-picking",
   "metadata": {
    "execution": {
     "iopub.execute_input": "2021-08-14T05:00:08.708065Z",
     "iopub.status.busy": "2021-08-14T05:00:08.706113Z",
     "iopub.status.idle": "2021-08-14T05:00:09.515984Z",
     "shell.execute_reply": "2021-08-14T05:00:09.517244Z"
    },
    "papermill": {
     "duration": 0.862298,
     "end_time": "2021-08-14T05:00:09.518087",
     "exception": false,
     "start_time": "2021-08-14T05:00:08.655789",
     "status": "completed"
    },
    "tags": []
   },
   "outputs": [],
   "source": [
    "import pandas as pd\n",
    "import sqlite3"
   ]
  },
  {
   "cell_type": "code",
   "execution_count": 2,
   "id": "innovative-syndrome",
   "metadata": {
    "execution": {
     "iopub.execute_input": "2021-08-14T05:00:09.568577Z",
     "iopub.status.busy": "2021-08-14T05:00:09.566372Z",
     "iopub.status.idle": "2021-08-14T05:00:09.612552Z",
     "shell.execute_reply": "2021-08-14T05:00:09.613819Z"
    },
    "papermill": {
     "duration": 0.076182,
     "end_time": "2021-08-14T05:00:09.614338",
     "exception": false,
     "start_time": "2021-08-14T05:00:09.538156",
     "status": "completed"
    },
    "tags": []
   },
   "outputs": [],
   "source": [
    "timestamps = pd.read_sql(\"select distinct record_time from EBAY_TOP_BERLIN order by record_time desc limit 2\", sqlite3.connect(\"UsedObjects.db\"))"
   ]
  },
  {
   "cell_type": "code",
   "execution_count": 3,
   "id": "periodic-identification",
   "metadata": {
    "execution": {
     "iopub.execute_input": "2021-08-14T05:00:09.681282Z",
     "iopub.status.busy": "2021-08-14T05:00:09.679234Z",
     "iopub.status.idle": "2021-08-14T05:00:09.699495Z",
     "shell.execute_reply": "2021-08-14T05:00:09.700691Z"
    },
    "papermill": {
     "duration": 0.067542,
     "end_time": "2021-08-14T05:00:09.701132",
     "exception": false,
     "start_time": "2021-08-14T05:00:09.633590",
     "status": "completed"
    },
    "tags": []
   },
   "outputs": [
    {
     "data": {
      "text/html": [
       "<div>\n",
       "<style scoped>\n",
       "    .dataframe tbody tr th:only-of-type {\n",
       "        vertical-align: middle;\n",
       "    }\n",
       "\n",
       "    .dataframe tbody tr th {\n",
       "        vertical-align: top;\n",
       "    }\n",
       "\n",
       "    .dataframe thead th {\n",
       "        text-align: right;\n",
       "    }\n",
       "</style>\n",
       "<table border=\"1\" class=\"dataframe\">\n",
       "  <thead>\n",
       "    <tr style=\"text-align: right;\">\n",
       "      <th></th>\n",
       "      <th>RECORD_TIME</th>\n",
       "    </tr>\n",
       "  </thead>\n",
       "  <tbody>\n",
       "    <tr>\n",
       "      <th>0</th>\n",
       "      <td>2021-08-14 07:00</td>\n",
       "    </tr>\n",
       "    <tr>\n",
       "      <th>1</th>\n",
       "      <td>2021-08-14 06:30</td>\n",
       "    </tr>\n",
       "  </tbody>\n",
       "</table>\n",
       "</div>"
      ],
      "text/plain": [
       "        RECORD_TIME\n",
       "0  2021-08-14 07:00\n",
       "1  2021-08-14 06:30"
      ]
     },
     "execution_count": 3,
     "metadata": {},
     "output_type": "execute_result"
    }
   ],
   "source": [
    "timestamps"
   ]
  },
  {
   "cell_type": "code",
   "execution_count": 4,
   "id": "alternate-victory",
   "metadata": {
    "execution": {
     "iopub.execute_input": "2021-08-14T05:00:09.756296Z",
     "iopub.status.busy": "2021-08-14T05:00:09.754130Z",
     "iopub.status.idle": "2021-08-14T05:00:09.820694Z",
     "shell.execute_reply": "2021-08-14T05:00:09.822076Z"
    },
    "papermill": {
     "duration": 0.097455,
     "end_time": "2021-08-14T05:00:09.822519",
     "exception": false,
     "start_time": "2021-08-14T05:00:09.725064",
     "status": "completed"
    },
    "tags": []
   },
   "outputs": [],
   "source": [
    "df = pd.read_sql(\"select * from EBAY_TOP_BERLIN where record_time in (select distinct record_time from EBAY_TOP_BERLIN order by record_time desc limit 2)\", sqlite3.connect(\"UsedObjects.db\"))"
   ]
  },
  {
   "cell_type": "code",
   "execution_count": 5,
   "id": "popular-active",
   "metadata": {
    "execution": {
     "iopub.execute_input": "2021-08-14T05:00:09.895375Z",
     "iopub.status.busy": "2021-08-14T05:00:09.883429Z",
     "iopub.status.idle": "2021-08-14T05:00:09.910800Z",
     "shell.execute_reply": "2021-08-14T05:00:09.912033Z"
    },
    "papermill": {
     "duration": 0.068053,
     "end_time": "2021-08-14T05:00:09.912436",
     "exception": false,
     "start_time": "2021-08-14T05:00:09.844383",
     "status": "completed"
    },
    "tags": []
   },
   "outputs": [],
   "source": [
    "df_pivot = df.pivot_table(index=\"PRODUCT\", columns = \"RECORD_TIME\", values = \"LISTING_COUNT\")"
   ]
  },
  {
   "cell_type": "code",
   "execution_count": 6,
   "id": "union-huntington",
   "metadata": {
    "execution": {
     "iopub.execute_input": "2021-08-14T05:00:09.972146Z",
     "iopub.status.busy": "2021-08-14T05:00:09.969665Z",
     "iopub.status.idle": "2021-08-14T05:00:09.975808Z",
     "shell.execute_reply": "2021-08-14T05:00:09.977085Z"
    },
    "papermill": {
     "duration": 0.0428,
     "end_time": "2021-08-14T05:00:09.977512",
     "exception": false,
     "start_time": "2021-08-14T05:00:09.934712",
     "status": "completed"
    },
    "tags": []
   },
   "outputs": [],
   "source": [
    "df_pivot.columns = [\"stamp_1\", \"stamp_2\"]\n",
    "df_pivot_diff = df_pivot.diff(axis=1)"
   ]
  },
  {
   "cell_type": "code",
   "execution_count": 7,
   "id": "fifth-motion",
   "metadata": {
    "execution": {
     "iopub.execute_input": "2021-08-14T05:00:10.031795Z",
     "iopub.status.busy": "2021-08-14T05:00:10.029261Z",
     "iopub.status.idle": "2021-08-14T05:00:11.555637Z",
     "shell.execute_reply": "2021-08-14T05:00:11.557018Z"
    },
    "papermill": {
     "duration": 1.559861,
     "end_time": "2021-08-14T05:00:11.557468",
     "exception": false,
     "start_time": "2021-08-14T05:00:09.997607",
     "status": "completed"
    },
    "tags": []
   },
   "outputs": [
    {
     "data": {
      "text/plain": [
       "<AxesSubplot:ylabel='PRODUCT'>"
      ]
     },
     "execution_count": 7,
     "metadata": {},
     "output_type": "execute_result"
    },
    {
     "data": {
      "image/png": "[encoded data removed]",
      "text/plain": [
       "<Figure size 432x288 with 1 Axes>"
      ]
     },
     "metadata": {
      "needs_background": "light"
     },
     "output_type": "display_data"
    }
   ],
   "source": [
    "df_pivot_diff.sort_values(\"stamp_2\", ascending = False)[\"stamp_2\"].head(10).plot.barh()"
   ]
  },
  {
   "cell_type": "code",
   "execution_count": null,
   "id": "extra-executive",
   "metadata": {
    "papermill": {
     "duration": 0.022388,
     "end_time": "2021-08-14T05:00:11.604458",
     "exception": false,
     "start_time": "2021-08-14T05:00:11.582070",
     "status": "completed"
    },
    "tags": []
   },
   "outputs": [],
   "source": []
  }
 ],
 "metadata": {
  "kernelspec": {
   "display_name": "Python 3",
   "language": "python",
   "name": "python3"
  },
  "language_info": {
   "codemirror_mode": {
    "name": "ipython",
    "version": 3
   },
   "file_extension": ".py",
   "mimetype": "text/x-python",
   "name": "python",
   "nbconvert_exporter": "python",
   "pygments_lexer": "ipython3",
   "version": "3.9.5"
  },
  "papermill": {
   "default_parameters": {},
   "duration": 6.833787,
   "end_time": "2021-08-14T05:00:13.056854",
   "environment_variables": {},
   "exception": null,
   "input_path": "eBay_Overview.ipynb",
   "output_path": "eBay_Overview.ipynb",
   "parameters": {},
   "start_time": "2021-08-14T05:00:06.223067",
   "version": "2.3.3"
  }
 },
 "nbformat": 4,
 "nbformat_minor": 5
}