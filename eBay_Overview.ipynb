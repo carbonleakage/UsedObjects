{
 "cells": [
  {
   "cell_type": "code",
   "execution_count": 1,
   "id": "reverse-picking",
   "metadata": {
    "execution": {
     "iopub.execute_input": "2021-10-31T04:30:06.860021Z",
     "iopub.status.busy": "2021-10-31T04:30:06.858009Z",
     "iopub.status.idle": "2021-10-31T04:30:07.663492Z",
     "shell.execute_reply": "2021-10-31T04:30:07.661899Z"
    },
    "papermill": {
     "duration": 0.854896,
     "end_time": "2021-10-31T04:30:07.663895",
     "exception": false,
     "start_time": "2021-10-31T04:30:06.808999",
     "status": "completed"
    },
    "tags": []
   },
   "outputs": [],
   "source": [
    "import pandas as pd\n",
    "import sqlite3"
   ]
  },
  {
   "cell_type": "code",
   "execution_count": 2,
   "id": "innovative-syndrome",
   "metadata": {
    "execution": {
     "iopub.execute_input": "2021-10-31T04:30:07.715444Z",
     "iopub.status.busy": "2021-10-31T04:30:07.713547Z",
     "iopub.status.idle": "2021-10-31T04:30:08.397630Z",
     "shell.execute_reply": "2021-10-31T04:30:08.398903Z"
    },
    "papermill": {
     "duration": 0.713654,
     "end_time": "2021-10-31T04:30:08.399312",
     "exception": false,
     "start_time": "2021-10-31T04:30:07.685658",
     "status": "completed"
    },
    "tags": []
   },
   "outputs": [],
   "source": [
    "timestamps = pd.read_sql(\"select distinct record_time from EBAY_TOP_BERLIN order by record_time desc limit 2\", sqlite3.connect(\"UsedObjects.db\"))"
   ]
  },
  {
   "cell_type": "code",
   "execution_count": 3,
   "id": "periodic-identification",
   "metadata": {
    "execution": {
     "iopub.execute_input": "2021-10-31T04:30:08.465325Z",
     "iopub.status.busy": "2021-10-31T04:30:08.463173Z",
     "iopub.status.idle": "2021-10-31T04:30:08.483127Z",
     "shell.execute_reply": "2021-10-31T04:30:08.484264Z"
    },
    "papermill": {
     "duration": 0.065591,
     "end_time": "2021-10-31T04:30:08.484837",
     "exception": false,
     "start_time": "2021-10-31T04:30:08.419246",
     "status": "completed"
    },
    "tags": []
   },
   "outputs": [
    {
     "data": {
      "text/html": [
       "<div>\n",
       "<style scoped>\n",
       "    .dataframe tbody tr th:only-of-type {\n",
       "        vertical-align: middle;\n",
       "    }\n",
       "\n",
       "    .dataframe tbody tr th {\n",
       "        vertical-align: top;\n",
       "    }\n",
       "\n",
       "    .dataframe thead th {\n",
       "        text-align: right;\n",
       "    }\n",
       "</style>\n",
       "<table border=\"1\" class=\"dataframe\">\n",
       "  <thead>\n",
       "    <tr style=\"text-align: right;\">\n",
       "      <th></th>\n",
       "      <th>RECORD_TIME</th>\n",
       "    </tr>\n",
       "  </thead>\n",
       "  <tbody>\n",
       "    <tr>\n",
       "      <th>0</th>\n",
       "      <td>2021-10-31 05:30</td>\n",
       "    </tr>\n",
       "    <tr>\n",
       "      <th>1</th>\n",
       "      <td>2021-10-31 05:00</td>\n",
       "    </tr>\n",
       "  </tbody>\n",
       "</table>\n",
       "</div>"
      ],
      "text/plain": [
       "        RECORD_TIME\n",
       "0  2021-10-31 05:30\n",
       "1  2021-10-31 05:00"
      ]
     },
     "execution_count": 3,
     "metadata": {},
     "output_type": "execute_result"
    }
   ],
   "source": [
    "timestamps"
   ]
  },
  {
   "cell_type": "code",
   "execution_count": 4,
   "id": "alternate-victory",
   "metadata": {
    "execution": {
     "iopub.execute_input": "2021-10-31T04:30:08.539094Z",
     "iopub.status.busy": "2021-10-31T04:30:08.537045Z",
     "iopub.status.idle": "2021-10-31T04:30:09.516913Z",
     "shell.execute_reply": "2021-10-31T04:30:09.518350Z"
    },
    "papermill": {
     "duration": 1.010619,
     "end_time": "2021-10-31T04:30:09.518806",
     "exception": false,
     "start_time": "2021-10-31T04:30:08.508187",
     "status": "completed"
    },
    "tags": []
   },
   "outputs": [],
   "source": [
    "df = pd.read_sql(\"select * from EBAY_TOP_BERLIN where record_time in (select distinct record_time from EBAY_TOP_BERLIN order by record_time desc limit 2)\", sqlite3.connect(\"UsedObjects.db\"))"
   ]
  },
  {
   "cell_type": "code",
   "execution_count": 5,
   "id": "popular-active",
   "metadata": {
    "execution": {
     "iopub.execute_input": "2021-10-31T04:30:09.585770Z",
     "iopub.status.busy": "2021-10-31T04:30:09.578117Z",
     "iopub.status.idle": "2021-10-31T04:30:09.606023Z",
     "shell.execute_reply": "2021-10-31T04:30:09.607241Z"
    },
    "papermill": {
     "duration": 0.067626,
     "end_time": "2021-10-31T04:30:09.607641",
     "exception": false,
     "start_time": "2021-10-31T04:30:09.540015",
     "status": "completed"
    },
    "tags": []
   },
   "outputs": [],
   "source": [
    "df_pivot = df.pivot_table(index=\"PRODUCT\", columns = \"RECORD_TIME\", values = \"LISTING_COUNT\")"
   ]
  },
  {
   "cell_type": "code",
   "execution_count": 6,
   "id": "union-huntington",
   "metadata": {
    "execution": {
     "iopub.execute_input": "2021-10-31T04:30:09.667149Z",
     "iopub.status.busy": "2021-10-31T04:30:09.664642Z",
     "iopub.status.idle": "2021-10-31T04:30:09.671026Z",
     "shell.execute_reply": "2021-10-31T04:30:09.672596Z"
    },
    "papermill": {
     "duration": 0.043034,
     "end_time": "2021-10-31T04:30:09.673165",
     "exception": false,
     "start_time": "2021-10-31T04:30:09.630131",
     "status": "completed"
    },
    "tags": []
   },
   "outputs": [],
   "source": [
    "df_pivot.columns = [\"stamp_1\", \"stamp_2\"]\n",
    "df_pivot_diff = df_pivot.diff(axis=1)"
   ]
  },
  {
   "cell_type": "code",
   "execution_count": 7,
   "id": "fifth-motion",
   "metadata": {
    "execution": {
     "iopub.execute_input": "2021-10-31T04:30:09.728176Z",
     "iopub.status.busy": "2021-10-31T04:30:09.725783Z",
     "iopub.status.idle": "2021-10-31T04:30:11.220043Z",
     "shell.execute_reply": "2021-10-31T04:30:11.221334Z"
    },
    "papermill": {
     "duration": 1.526913,
     "end_time": "2021-10-31T04:30:11.221783",
     "exception": false,
     "start_time": "2021-10-31T04:30:09.694870",
     "status": "completed"
    },
    "tags": []
   },
   "outputs": [
    {
     "data": {
      "text/plain": [
       "<AxesSubplot:ylabel='PRODUCT'>"
      ]
     },
     "execution_count": 7,
     "metadata": {},
     "output_type": "execute_result"
    },
    {
     "data": {
      "image/png": "[encoded data removed]",
      "text/plain": [
       "<Figure size 432x288 with 1 Axes>"
      ]
     },
     "metadata": {
      "needs_background": "light"
     },
     "output_type": "display_data"
    }
   ],
   "source": [
    "df_pivot_diff.sort_values(\"stamp_2\", ascending = False)[\"stamp_2\"].head(10).plot.barh()"
   ]
  },
  {
   "cell_type": "code",
   "execution_count": null,
   "id": "extra-executive",
   "metadata": {
    "papermill": {
     "duration": 0.022197,
     "end_time": "2021-10-31T04:30:11.268203",
     "exception": false,
     "start_time": "2021-10-31T04:30:11.246006",
     "status": "completed"
    },
    "tags": []
   },
   "outputs": [],
   "source": []
  }
 ],
 "metadata": {
  "kernelspec": {
   "display_name": "Python 3",
   "language": "python",
   "name": "python3"
  },
  "language_info": {
   "codemirror_mode": {
    "name": "ipython",
    "version": 3
   },
   "file_extension": ".py",
   "mimetype": "text/x-python",
   "name": "python",
   "nbconvert_exporter": "python",
   "pygments_lexer": "ipython3",
   "version": "3.9.5"
  },
  "papermill": {
   "default_parameters": {},
   "duration": 7.503335,
   "end_time": "2021-10-31T04:30:11.910903",
   "environment_variables": {},
   "exception": null,
   "input_path": "eBay_Overview.ipynb",
   "output_path": "eBay_Overview.ipynb",
   "parameters": {},
   "start_time": "2021-10-31T04:30:04.407568",
   "version": "2.3.3"
  }
 },
 "nbformat": 4,
 "nbformat_minor": 5
}