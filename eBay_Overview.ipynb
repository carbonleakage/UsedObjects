{
 "cells": [
  {
   "cell_type": "code",
   "execution_count": 1,
   "id": "reverse-picking",
   "metadata": {
    "execution": {
     "iopub.execute_input": "2021-09-21T01:30:07.400912Z",
     "iopub.status.busy": "2021-09-21T01:30:07.398951Z",
     "iopub.status.idle": "2021-09-21T01:30:08.200720Z",
     "shell.execute_reply": "2021-09-21T01:30:08.202049Z"
    },
    "papermill": {
     "duration": 0.85549,
     "end_time": "2021-09-21T01:30:08.202677",
     "exception": false,
     "start_time": "2021-09-21T01:30:07.347187",
     "status": "completed"
    },
    "tags": []
   },
   "outputs": [],
   "source": [
    "import pandas as pd\n",
    "import sqlite3"
   ]
  },
  {
   "cell_type": "code",
   "execution_count": 2,
   "id": "innovative-syndrome",
   "metadata": {
    "execution": {
     "iopub.execute_input": "2021-09-21T01:30:08.253253Z",
     "iopub.status.busy": "2021-09-21T01:30:08.251092Z",
     "iopub.status.idle": "2021-09-21T01:30:08.586280Z",
     "shell.execute_reply": "2021-09-21T01:30:08.587619Z"
    },
    "papermill": {
     "duration": 0.365333,
     "end_time": "2021-09-21T01:30:08.588039",
     "exception": false,
     "start_time": "2021-09-21T01:30:08.222706",
     "status": "completed"
    },
    "tags": []
   },
   "outputs": [],
   "source": [
    "timestamps = pd.read_sql(\"select distinct record_time from EBAY_TOP_BERLIN order by record_time desc limit 2\", sqlite3.connect(\"UsedObjects.db\"))"
   ]
  },
  {
   "cell_type": "code",
   "execution_count": 3,
   "id": "periodic-identification",
   "metadata": {
    "execution": {
     "iopub.execute_input": "2021-09-21T01:30:08.653788Z",
     "iopub.status.busy": "2021-09-21T01:30:08.651789Z",
     "iopub.status.idle": "2021-09-21T01:30:08.671705Z",
     "shell.execute_reply": "2021-09-21T01:30:08.673052Z"
    },
    "papermill": {
     "duration": 0.06635,
     "end_time": "2021-09-21T01:30:08.673459",
     "exception": false,
     "start_time": "2021-09-21T01:30:08.607109",
     "status": "completed"
    },
    "tags": []
   },
   "outputs": [
    {
     "data": {
      "text/html": [
       "<div>\n",
       "<style scoped>\n",
       "    .dataframe tbody tr th:only-of-type {\n",
       "        vertical-align: middle;\n",
       "    }\n",
       "\n",
       "    .dataframe tbody tr th {\n",
       "        vertical-align: top;\n",
       "    }\n",
       "\n",
       "    .dataframe thead th {\n",
       "        text-align: right;\n",
       "    }\n",
       "</style>\n",
       "<table border=\"1\" class=\"dataframe\">\n",
       "  <thead>\n",
       "    <tr style=\"text-align: right;\">\n",
       "      <th></th>\n",
       "      <th>RECORD_TIME</th>\n",
       "    </tr>\n",
       "  </thead>\n",
       "  <tbody>\n",
       "    <tr>\n",
       "      <th>0</th>\n",
       "      <td>2021-09-21 03:30</td>\n",
       "    </tr>\n",
       "    <tr>\n",
       "      <th>1</th>\n",
       "      <td>2021-09-21 03:00</td>\n",
       "    </tr>\n",
       "  </tbody>\n",
       "</table>\n",
       "</div>"
      ],
      "text/plain": [
       "        RECORD_TIME\n",
       "0  2021-09-21 03:30\n",
       "1  2021-09-21 03:00"
      ]
     },
     "execution_count": 3,
     "metadata": {},
     "output_type": "execute_result"
    }
   ],
   "source": [
    "timestamps"
   ]
  },
  {
   "cell_type": "code",
   "execution_count": 4,
   "id": "alternate-victory",
   "metadata": {
    "execution": {
     "iopub.execute_input": "2021-09-21T01:30:08.724763Z",
     "iopub.status.busy": "2021-09-21T01:30:08.722498Z",
     "iopub.status.idle": "2021-09-21T01:30:09.216154Z",
     "shell.execute_reply": "2021-09-21T01:30:09.214688Z"
    },
    "papermill": {
     "duration": 0.522255,
     "end_time": "2021-09-21T01:30:09.216667",
     "exception": false,
     "start_time": "2021-09-21T01:30:08.694412",
     "status": "completed"
    },
    "tags": []
   },
   "outputs": [],
   "source": [
    "df = pd.read_sql(\"select * from EBAY_TOP_BERLIN where record_time in (select distinct record_time from EBAY_TOP_BERLIN order by record_time desc limit 2)\", sqlite3.connect(\"UsedObjects.db\"))"
   ]
  },
  {
   "cell_type": "code",
   "execution_count": 5,
   "id": "popular-active",
   "metadata": {
    "execution": {
     "iopub.execute_input": "2021-09-21T01:30:09.299898Z",
     "iopub.status.busy": "2021-09-21T01:30:09.287666Z",
     "iopub.status.idle": "2021-09-21T01:30:09.316540Z",
     "shell.execute_reply": "2021-09-21T01:30:09.317993Z"
    },
    "papermill": {
     "duration": 0.073796,
     "end_time": "2021-09-21T01:30:09.318451",
     "exception": false,
     "start_time": "2021-09-21T01:30:09.244655",
     "status": "completed"
    },
    "tags": []
   },
   "outputs": [],
   "source": [
    "df_pivot = df.pivot_table(index=\"PRODUCT\", columns = \"RECORD_TIME\", values = \"LISTING_COUNT\")"
   ]
  },
  {
   "cell_type": "code",
   "execution_count": 6,
   "id": "union-huntington",
   "metadata": {
    "execution": {
     "iopub.execute_input": "2021-09-21T01:30:09.377608Z",
     "iopub.status.busy": "2021-09-21T01:30:09.375179Z",
     "iopub.status.idle": "2021-09-21T01:30:09.380855Z",
     "shell.execute_reply": "2021-09-21T01:30:09.382125Z"
    },
    "papermill": {
     "duration": 0.041692,
     "end_time": "2021-09-21T01:30:09.382534",
     "exception": false,
     "start_time": "2021-09-21T01:30:09.340842",
     "status": "completed"
    },
    "tags": []
   },
   "outputs": [],
   "source": [
    "df_pivot.columns = [\"stamp_1\", \"stamp_2\"]\n",
    "df_pivot_diff = df_pivot.diff(axis=1)"
   ]
  },
  {
   "cell_type": "code",
   "execution_count": 7,
   "id": "fifth-motion",
   "metadata": {
    "execution": {
     "iopub.execute_input": "2021-09-21T01:30:09.436846Z",
     "iopub.status.busy": "2021-09-21T01:30:09.434379Z",
     "iopub.status.idle": "2021-09-21T01:30:10.898339Z",
     "shell.execute_reply": "2021-09-21T01:30:10.899792Z"
    },
    "papermill": {
     "duration": 1.497247,
     "end_time": "2021-09-21T01:30:10.900232",
     "exception": false,
     "start_time": "2021-09-21T01:30:09.402985",
     "status": "completed"
    },
    "tags": []
   },
   "outputs": [
    {
     "data": {
      "text/plain": [
       "<AxesSubplot:ylabel='PRODUCT'>"
      ]
     },
     "execution_count": 7,
     "metadata": {},
     "output_type": "execute_result"
    },
    {
     "data": {
      "image/png": "[encoded data removed]",
      "text/plain": [
       "<Figure size 432x288 with 1 Axes>"
      ]
     },
     "metadata": {
      "needs_background": "light"
     },
     "output_type": "display_data"
    }
   ],
   "source": [
    "df_pivot_diff.sort_values(\"stamp_2\", ascending = False)[\"stamp_2\"].head(10).plot.barh()"
   ]
  },
  {
   "cell_type": "code",
   "execution_count": null,
   "id": "extra-executive",
   "metadata": {
    "papermill": {
     "duration": 0.022077,
     "end_time": "2021-09-21T01:30:10.945822",
     "exception": false,
     "start_time": "2021-09-21T01:30:10.923745",
     "status": "completed"
    },
    "tags": []
   },
   "outputs": [],
   "source": []
  }
 ],
 "metadata": {
  "kernelspec": {
   "display_name": "Python 3",
   "language": "python",
   "name": "python3"
  },
  "language_info": {
   "codemirror_mode": {
    "name": "ipython",
    "version": 3
   },
   "file_extension": ".py",
   "mimetype": "text/x-python",
   "name": "python",
   "nbconvert_exporter": "python",
   "pygments_lexer": "ipython3",
   "version": "3.9.5"
  },
  "papermill": {
   "default_parameters": {},
   "duration": 6.640245,
   "end_time": "2021-09-21T01:30:11.588163",
   "environment_variables": {},
   "exception": null,
   "input_path": "eBay_Overview.ipynb",
   "output_path": "eBay_Overview.ipynb",
   "parameters": {},
   "start_time": "2021-09-21T01:30:04.947918",
   "version": "2.3.3"
  }
 },
 "nbformat": 4,
 "nbformat_minor": 5
}