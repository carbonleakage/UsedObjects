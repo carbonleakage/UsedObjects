{
 "cells": [
  {
   "cell_type": "code",
   "execution_count": 1,
   "id": "reverse-picking",
   "metadata": {
    "execution": {
     "iopub.execute_input": "2021-09-27T06:30:07.612334Z",
     "iopub.status.busy": "2021-09-27T06:30:07.610340Z",
     "iopub.status.idle": "2021-09-27T06:30:08.418192Z",
     "shell.execute_reply": "2021-09-27T06:30:08.419516Z"
    },
    "papermill": {
     "duration": 0.859824,
     "end_time": "2021-09-27T06:30:08.420157",
     "exception": false,
     "start_time": "2021-09-27T06:30:07.560333",
     "status": "completed"
    },
    "tags": []
   },
   "outputs": [],
   "source": [
    "import pandas as pd\n",
    "import sqlite3"
   ]
  },
  {
   "cell_type": "code",
   "execution_count": 2,
   "id": "innovative-syndrome",
   "metadata": {
    "execution": {
     "iopub.execute_input": "2021-09-27T06:30:08.472762Z",
     "iopub.status.busy": "2021-09-27T06:30:08.470490Z",
     "iopub.status.idle": "2021-09-27T06:30:08.861200Z",
     "shell.execute_reply": "2021-09-27T06:30:08.862399Z"
    },
    "papermill": {
     "duration": 0.42029,
     "end_time": "2021-09-27T06:30:08.862836",
     "exception": false,
     "start_time": "2021-09-27T06:30:08.442546",
     "status": "completed"
    },
    "tags": []
   },
   "outputs": [],
   "source": [
    "timestamps = pd.read_sql(\"select distinct record_time from EBAY_TOP_BERLIN order by record_time desc limit 2\", sqlite3.connect(\"UsedObjects.db\"))"
   ]
  },
  {
   "cell_type": "code",
   "execution_count": 3,
   "id": "periodic-identification",
   "metadata": {
    "execution": {
     "iopub.execute_input": "2021-09-27T06:30:08.925687Z",
     "iopub.status.busy": "2021-09-27T06:30:08.923667Z",
     "iopub.status.idle": "2021-09-27T06:30:08.943667Z",
     "shell.execute_reply": "2021-09-27T06:30:08.945006Z"
    },
    "papermill": {
     "duration": 0.063199,
     "end_time": "2021-09-27T06:30:08.945417",
     "exception": false,
     "start_time": "2021-09-27T06:30:08.882218",
     "status": "completed"
    },
    "tags": []
   },
   "outputs": [
    {
     "data": {
      "text/html": [
       "<div>\n",
       "<style scoped>\n",
       "    .dataframe tbody tr th:only-of-type {\n",
       "        vertical-align: middle;\n",
       "    }\n",
       "\n",
       "    .dataframe tbody tr th {\n",
       "        vertical-align: top;\n",
       "    }\n",
       "\n",
       "    .dataframe thead th {\n",
       "        text-align: right;\n",
       "    }\n",
       "</style>\n",
       "<table border=\"1\" class=\"dataframe\">\n",
       "  <thead>\n",
       "    <tr style=\"text-align: right;\">\n",
       "      <th></th>\n",
       "      <th>RECORD_TIME</th>\n",
       "    </tr>\n",
       "  </thead>\n",
       "  <tbody>\n",
       "    <tr>\n",
       "      <th>0</th>\n",
       "      <td>2021-09-27 08:30</td>\n",
       "    </tr>\n",
       "    <tr>\n",
       "      <th>1</th>\n",
       "      <td>2021-09-27 08:00</td>\n",
       "    </tr>\n",
       "  </tbody>\n",
       "</table>\n",
       "</div>"
      ],
      "text/plain": [
       "        RECORD_TIME\n",
       "0  2021-09-27 08:30\n",
       "1  2021-09-27 08:00"
      ]
     },
     "execution_count": 3,
     "metadata": {},
     "output_type": "execute_result"
    }
   ],
   "source": [
    "timestamps"
   ]
  },
  {
   "cell_type": "code",
   "execution_count": 4,
   "id": "alternate-victory",
   "metadata": {
    "execution": {
     "iopub.execute_input": "2021-09-27T06:30:08.998547Z",
     "iopub.status.busy": "2021-09-27T06:30:08.996404Z",
     "iopub.status.idle": "2021-09-27T06:30:09.571361Z",
     "shell.execute_reply": "2021-09-27T06:30:09.572586Z"
    },
    "papermill": {
     "duration": 0.60648,
     "end_time": "2021-09-27T06:30:09.572981",
     "exception": false,
     "start_time": "2021-09-27T06:30:08.966501",
     "status": "completed"
    },
    "tags": []
   },
   "outputs": [],
   "source": [
    "df = pd.read_sql(\"select * from EBAY_TOP_BERLIN where record_time in (select distinct record_time from EBAY_TOP_BERLIN order by record_time desc limit 2)\", sqlite3.connect(\"UsedObjects.db\"))"
   ]
  },
  {
   "cell_type": "code",
   "execution_count": 5,
   "id": "popular-active",
   "metadata": {
    "execution": {
     "iopub.execute_input": "2021-09-27T06:30:09.658364Z",
     "iopub.status.busy": "2021-09-27T06:30:09.645825Z",
     "iopub.status.idle": "2021-09-27T06:30:09.673633Z",
     "shell.execute_reply": "2021-09-27T06:30:09.674912Z"
    },
    "papermill": {
     "duration": 0.073156,
     "end_time": "2021-09-27T06:30:09.675316",
     "exception": false,
     "start_time": "2021-09-27T06:30:09.602160",
     "status": "completed"
    },
    "tags": []
   },
   "outputs": [],
   "source": [
    "df_pivot = df.pivot_table(index=\"PRODUCT\", columns = \"RECORD_TIME\", values = \"LISTING_COUNT\")"
   ]
  },
  {
   "cell_type": "code",
   "execution_count": 6,
   "id": "union-huntington",
   "metadata": {
    "execution": {
     "iopub.execute_input": "2021-09-27T06:30:09.731337Z",
     "iopub.status.busy": "2021-09-27T06:30:09.729236Z",
     "iopub.status.idle": "2021-09-27T06:30:09.734470Z",
     "shell.execute_reply": "2021-09-27T06:30:09.735989Z"
    },
    "papermill": {
     "duration": 0.040399,
     "end_time": "2021-09-27T06:30:09.736426",
     "exception": false,
     "start_time": "2021-09-27T06:30:09.696027",
     "status": "completed"
    },
    "tags": []
   },
   "outputs": [],
   "source": [
    "df_pivot.columns = [\"stamp_1\", \"stamp_2\"]\n",
    "df_pivot_diff = df_pivot.diff(axis=1)"
   ]
  },
  {
   "cell_type": "code",
   "execution_count": 7,
   "id": "fifth-motion",
   "metadata": {
    "execution": {
     "iopub.execute_input": "2021-09-27T06:30:09.792444Z",
     "iopub.status.busy": "2021-09-27T06:30:09.789884Z",
     "iopub.status.idle": "2021-09-27T06:30:11.279005Z",
     "shell.execute_reply": "2021-09-27T06:30:11.280401Z"
    },
    "papermill": {
     "duration": 1.522657,
     "end_time": "2021-09-27T06:30:11.280843",
     "exception": false,
     "start_time": "2021-09-27T06:30:09.758186",
     "status": "completed"
    },
    "tags": []
   },
   "outputs": [
    {
     "data": {
      "text/plain": [
       "<AxesSubplot:ylabel='PRODUCT'>"
      ]
     },
     "execution_count": 7,
     "metadata": {},
     "output_type": "execute_result"
    },
    {
     "data": {
      "image/png": "[encoded data removed]",
      "text/plain": [
       "<Figure size 432x288 with 1 Axes>"
      ]
     },
     "metadata": {
      "needs_background": "light"
     },
     "output_type": "display_data"
    }
   ],
   "source": [
    "df_pivot_diff.sort_values(\"stamp_2\", ascending = False)[\"stamp_2\"].head(10).plot.barh()"
   ]
  },
  {
   "cell_type": "code",
   "execution_count": null,
   "id": "extra-executive",
   "metadata": {
    "papermill": {
     "duration": 0.022261,
     "end_time": "2021-09-27T06:30:11.326839",
     "exception": false,
     "start_time": "2021-09-27T06:30:11.304578",
     "status": "completed"
    },
    "tags": []
   },
   "outputs": [],
   "source": []
  }
 ],
 "metadata": {
  "kernelspec": {
   "display_name": "Python 3",
   "language": "python",
   "name": "python3"
  },
  "language_info": {
   "codemirror_mode": {
    "name": "ipython",
    "version": 3
   },
   "file_extension": ".py",
   "mimetype": "text/x-python",
   "name": "python",
   "nbconvert_exporter": "python",
   "pygments_lexer": "ipython3",
   "version": "3.9.5"
  },
  "papermill": {
   "default_parameters": {},
   "duration": 6.816703,
   "end_time": "2021-09-27T06:30:11.968414",
   "environment_variables": {},
   "exception": null,
   "input_path": "eBay_Overview.ipynb",
   "output_path": "eBay_Overview.ipynb",
   "parameters": {},
   "start_time": "2021-09-27T06:30:05.151711",
   "version": "2.3.3"
  }
 },
 "nbformat": 4,
 "nbformat_minor": 5
}