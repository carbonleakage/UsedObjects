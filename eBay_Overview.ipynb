{
 "cells": [
  {
   "cell_type": "code",
   "execution_count": 1,
   "id": "reverse-picking",
   "metadata": {
    "execution": {
     "iopub.execute_input": "2021-12-13T15:00:08.442470Z",
     "iopub.status.busy": "2021-12-13T15:00:08.430137Z",
     "iopub.status.idle": "2021-12-13T15:00:09.417885Z",
     "shell.execute_reply": "2021-12-13T15:00:09.420585Z"
    },
    "papermill": {
     "duration": 1.028019,
     "end_time": "2021-12-13T15:00:09.421606",
     "exception": false,
     "start_time": "2021-12-13T15:00:08.393587",
     "status": "completed"
    },
    "tags": []
   },
   "outputs": [],
   "source": [
    "import pandas as pd\n",
    "import sqlite3"
   ]
  },
  {
   "cell_type": "code",
   "execution_count": 2,
   "id": "innovative-syndrome",
   "metadata": {
    "execution": {
     "iopub.execute_input": "2021-12-13T15:00:09.476107Z",
     "iopub.status.busy": "2021-12-13T15:00:09.473935Z",
     "iopub.status.idle": "2021-12-13T15:00:10.543726Z",
     "shell.execute_reply": "2021-12-13T15:00:10.546120Z"
    },
    "papermill": {
     "duration": 1.103963,
     "end_time": "2021-12-13T15:00:10.546615",
     "exception": false,
     "start_time": "2021-12-13T15:00:09.442652",
     "status": "completed"
    },
    "tags": []
   },
   "outputs": [],
   "source": [
    "timestamps = pd.read_sql(\"select distinct record_time from EBAY_TOP_BERLIN order by record_time desc limit 2\", sqlite3.connect(\"UsedObjects.db\"))"
   ]
  },
  {
   "cell_type": "code",
   "execution_count": 3,
   "id": "periodic-identification",
   "metadata": {
    "execution": {
     "iopub.execute_input": "2021-12-13T15:00:10.622032Z",
     "iopub.status.busy": "2021-12-13T15:00:10.619564Z",
     "iopub.status.idle": "2021-12-13T15:00:10.643533Z",
     "shell.execute_reply": "2021-12-13T15:00:10.645014Z"
    },
    "papermill": {
     "duration": 0.078089,
     "end_time": "2021-12-13T15:00:10.645484",
     "exception": false,
     "start_time": "2021-12-13T15:00:10.567395",
     "status": "completed"
    },
    "tags": []
   },
   "outputs": [
    {
     "data": {
      "text/html": [
       "<div>\n",
       "<style scoped>\n",
       "    .dataframe tbody tr th:only-of-type {\n",
       "        vertical-align: middle;\n",
       "    }\n",
       "\n",
       "    .dataframe tbody tr th {\n",
       "        vertical-align: top;\n",
       "    }\n",
       "\n",
       "    .dataframe thead th {\n",
       "        text-align: right;\n",
       "    }\n",
       "</style>\n",
       "<table border=\"1\" class=\"dataframe\">\n",
       "  <thead>\n",
       "    <tr style=\"text-align: right;\">\n",
       "      <th></th>\n",
       "      <th>RECORD_TIME</th>\n",
       "    </tr>\n",
       "  </thead>\n",
       "  <tbody>\n",
       "    <tr>\n",
       "      <th>0</th>\n",
       "      <td>2021-12-13 16:00</td>\n",
       "    </tr>\n",
       "    <tr>\n",
       "      <th>1</th>\n",
       "      <td>2021-12-13 15:30</td>\n",
       "    </tr>\n",
       "  </tbody>\n",
       "</table>\n",
       "</div>"
      ],
      "text/plain": [
       "        RECORD_TIME\n",
       "0  2021-12-13 16:00\n",
       "1  2021-12-13 15:30"
      ]
     },
     "execution_count": 3,
     "metadata": {},
     "output_type": "execute_result"
    }
   ],
   "source": [
    "timestamps"
   ]
  },
  {
   "cell_type": "code",
   "execution_count": 4,
   "id": "alternate-victory",
   "metadata": {
    "execution": {
     "iopub.execute_input": "2021-12-13T15:00:10.702407Z",
     "iopub.status.busy": "2021-12-13T15:00:10.700028Z",
     "iopub.status.idle": "2021-12-13T15:00:12.230265Z",
     "shell.execute_reply": "2021-12-13T15:00:12.232368Z"
    },
    "papermill": {
     "duration": 1.565421,
     "end_time": "2021-12-13T15:00:12.232907",
     "exception": false,
     "start_time": "2021-12-13T15:00:10.667486",
     "status": "completed"
    },
    "tags": []
   },
   "outputs": [],
   "source": [
    "df = pd.read_sql(\"select * from EBAY_TOP_BERLIN where record_time in (select distinct record_time from EBAY_TOP_BERLIN order by record_time desc limit 2)\", sqlite3.connect(\"UsedObjects.db\"))"
   ]
  },
  {
   "cell_type": "code",
   "execution_count": 5,
   "id": "popular-active",
   "metadata": {
    "execution": {
     "iopub.execute_input": "2021-12-13T15:00:12.306790Z",
     "iopub.status.busy": "2021-12-13T15:00:12.294195Z",
     "iopub.status.idle": "2021-12-13T15:00:12.326096Z",
     "shell.execute_reply": "2021-12-13T15:00:12.327615Z"
    },
    "papermill": {
     "duration": 0.07465,
     "end_time": "2021-12-13T15:00:12.328203",
     "exception": false,
     "start_time": "2021-12-13T15:00:12.253553",
     "status": "completed"
    },
    "tags": []
   },
   "outputs": [],
   "source": [
    "df_pivot = df.pivot_table(index=\"PRODUCT\", columns = \"RECORD_TIME\", values = \"LISTING_COUNT\")"
   ]
  },
  {
   "cell_type": "code",
   "execution_count": 6,
   "id": "union-huntington",
   "metadata": {
    "execution": {
     "iopub.execute_input": "2021-12-13T15:00:12.389992Z",
     "iopub.status.busy": "2021-12-13T15:00:12.387691Z",
     "iopub.status.idle": "2021-12-13T15:00:12.395581Z",
     "shell.execute_reply": "2021-12-13T15:00:12.393963Z"
    },
    "papermill": {
     "duration": 0.046801,
     "end_time": "2021-12-13T15:00:12.396017",
     "exception": false,
     "start_time": "2021-12-13T15:00:12.349216",
     "status": "completed"
    },
    "tags": []
   },
   "outputs": [],
   "source": [
    "df_pivot.columns = [\"stamp_1\", \"stamp_2\"]\n",
    "df_pivot_diff = df_pivot.diff(axis=1)"
   ]
  },
  {
   "cell_type": "code",
   "execution_count": 7,
   "id": "fifth-motion",
   "metadata": {
    "execution": {
     "iopub.execute_input": "2021-12-13T15:00:12.454883Z",
     "iopub.status.busy": "2021-12-13T15:00:12.452309Z",
     "iopub.status.idle": "2021-12-13T15:00:14.430077Z",
     "shell.execute_reply": "2021-12-13T15:00:14.431375Z"
    },
    "papermill": {
     "duration": 2.014408,
     "end_time": "2021-12-13T15:00:14.431798",
     "exception": false,
     "start_time": "2021-12-13T15:00:12.417390",
     "status": "completed"
    },
    "tags": []
   },
   "outputs": [
    {
     "data": {
      "text/plain": [
       "<AxesSubplot:ylabel='PRODUCT'>"
      ]
     },
     "execution_count": 7,
     "metadata": {},
     "output_type": "execute_result"
    },
    {
     "data": {
      "image/png": "[encoded data removed]",
      "text/plain": [
       "<Figure size 432x288 with 1 Axes>"
      ]
     },
     "metadata": {
      "needs_background": "light"
     },
     "output_type": "display_data"
    }
   ],
   "source": [
    "df_pivot_diff.sort_values(\"stamp_2\", ascending = False)[\"stamp_2\"].head(10).plot.barh()"
   ]
  },
  {
   "cell_type": "code",
   "execution_count": null,
   "id": "extra-executive",
   "metadata": {
    "papermill": {
     "duration": 0.026416,
     "end_time": "2021-12-13T15:00:14.490037",
     "exception": false,
     "start_time": "2021-12-13T15:00:14.463621",
     "status": "completed"
    },
    "tags": []
   },
   "outputs": [],
   "source": []
  }
 ],
 "metadata": {
  "kernelspec": {
   "display_name": "Python 3",
   "language": "python",
   "name": "python3"
  },
  "language_info": {
   "codemirror_mode": {
    "name": "ipython",
    "version": 3
   },
   "file_extension": ".py",
   "mimetype": "text/x-python",
   "name": "python",
   "nbconvert_exporter": "python",
   "pygments_lexer": "ipython3",
   "version": "3.9.5"
  },
  "papermill": {
   "default_parameters": {},
   "duration": 9.511502,
   "end_time": "2021-12-13T15:00:15.148764",
   "environment_variables": {},
   "exception": null,
   "input_path": "eBay_Overview.ipynb",
   "output_path": "eBay_Overview.ipynb",
   "parameters": {},
   "start_time": "2021-12-13T15:00:05.637262",
   "version": "2.3.3"
  }
 },
 "nbformat": 4,
 "nbformat_minor": 5
}