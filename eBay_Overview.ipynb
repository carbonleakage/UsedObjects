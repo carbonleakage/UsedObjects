{
 "cells": [
  {
   "cell_type": "code",
   "execution_count": 1,
   "id": "reverse-picking",
   "metadata": {
    "execution": {
     "iopub.execute_input": "2021-12-06T22:00:08.181001Z",
     "iopub.status.busy": "2021-12-06T22:00:08.178577Z",
     "iopub.status.idle": "2021-12-06T22:00:09.112854Z",
     "shell.execute_reply": "2021-12-06T22:00:09.114130Z"
    },
    "papermill": {
     "duration": 0.990395,
     "end_time": "2021-12-06T22:00:09.114742",
     "exception": false,
     "start_time": "2021-12-06T22:00:08.124347",
     "status": "completed"
    },
    "tags": []
   },
   "outputs": [],
   "source": [
    "import pandas as pd\n",
    "import sqlite3"
   ]
  },
  {
   "cell_type": "code",
   "execution_count": 2,
   "id": "innovative-syndrome",
   "metadata": {
    "execution": {
     "iopub.execute_input": "2021-12-06T22:00:09.181677Z",
     "iopub.status.busy": "2021-12-06T22:00:09.179287Z",
     "iopub.status.idle": "2021-12-06T22:00:10.205513Z",
     "shell.execute_reply": "2021-12-06T22:00:10.207392Z"
    },
    "papermill": {
     "duration": 1.060844,
     "end_time": "2021-12-06T22:00:10.207946",
     "exception": false,
     "start_time": "2021-12-06T22:00:09.147102",
     "status": "completed"
    },
    "tags": []
   },
   "outputs": [],
   "source": [
    "timestamps = pd.read_sql(\"select distinct record_time from EBAY_TOP_BERLIN order by record_time desc limit 2\", sqlite3.connect(\"UsedObjects.db\"))"
   ]
  },
  {
   "cell_type": "code",
   "execution_count": 3,
   "id": "periodic-identification",
   "metadata": {
    "execution": {
     "iopub.execute_input": "2021-12-06T22:00:10.281137Z",
     "iopub.status.busy": "2021-12-06T22:00:10.278844Z",
     "iopub.status.idle": "2021-12-06T22:00:10.299937Z",
     "shell.execute_reply": "2021-12-06T22:00:10.301551Z"
    },
    "papermill": {
     "duration": 0.07347,
     "end_time": "2021-12-06T22:00:10.302093",
     "exception": false,
     "start_time": "2021-12-06T22:00:10.228623",
     "status": "completed"
    },
    "tags": []
   },
   "outputs": [
    {
     "data": {
      "text/html": [
       "<div>\n",
       "<style scoped>\n",
       "    .dataframe tbody tr th:only-of-type {\n",
       "        vertical-align: middle;\n",
       "    }\n",
       "\n",
       "    .dataframe tbody tr th {\n",
       "        vertical-align: top;\n",
       "    }\n",
       "\n",
       "    .dataframe thead th {\n",
       "        text-align: right;\n",
       "    }\n",
       "</style>\n",
       "<table border=\"1\" class=\"dataframe\">\n",
       "  <thead>\n",
       "    <tr style=\"text-align: right;\">\n",
       "      <th></th>\n",
       "      <th>RECORD_TIME</th>\n",
       "    </tr>\n",
       "  </thead>\n",
       "  <tbody>\n",
       "    <tr>\n",
       "      <th>0</th>\n",
       "      <td>2021-12-06 23:00</td>\n",
       "    </tr>\n",
       "    <tr>\n",
       "      <th>1</th>\n",
       "      <td>2021-12-06 22:30</td>\n",
       "    </tr>\n",
       "  </tbody>\n",
       "</table>\n",
       "</div>"
      ],
      "text/plain": [
       "        RECORD_TIME\n",
       "0  2021-12-06 23:00\n",
       "1  2021-12-06 22:30"
      ]
     },
     "execution_count": 3,
     "metadata": {},
     "output_type": "execute_result"
    }
   ],
   "source": [
    "timestamps"
   ]
  },
  {
   "cell_type": "code",
   "execution_count": 4,
   "id": "alternate-victory",
   "metadata": {
    "execution": {
     "iopub.execute_input": "2021-12-06T22:00:10.356010Z",
     "iopub.status.busy": "2021-12-06T22:00:10.353732Z",
     "iopub.status.idle": "2021-12-06T22:00:11.924173Z",
     "shell.execute_reply": "2021-12-06T22:00:11.927145Z"
    },
    "papermill": {
     "duration": 1.604536,
     "end_time": "2021-12-06T22:00:11.927772",
     "exception": false,
     "start_time": "2021-12-06T22:00:10.323236",
     "status": "completed"
    },
    "tags": []
   },
   "outputs": [],
   "source": [
    "df = pd.read_sql(\"select * from EBAY_TOP_BERLIN where record_time in (select distinct record_time from EBAY_TOP_BERLIN order by record_time desc limit 2)\", sqlite3.connect(\"UsedObjects.db\"))"
   ]
  },
  {
   "cell_type": "code",
   "execution_count": 5,
   "id": "popular-active",
   "metadata": {
    "execution": {
     "iopub.execute_input": "2021-12-06T22:00:12.041420Z",
     "iopub.status.busy": "2021-12-06T22:00:12.017435Z",
     "iopub.status.idle": "2021-12-06T22:00:12.072139Z",
     "shell.execute_reply": "2021-12-06T22:00:12.075468Z"
    },
    "papermill": {
     "duration": 0.123583,
     "end_time": "2021-12-06T22:00:12.076363",
     "exception": false,
     "start_time": "2021-12-06T22:00:11.952780",
     "status": "completed"
    },
    "tags": []
   },
   "outputs": [],
   "source": [
    "df_pivot = df.pivot_table(index=\"PRODUCT\", columns = \"RECORD_TIME\", values = \"LISTING_COUNT\")"
   ]
  },
  {
   "cell_type": "code",
   "execution_count": 6,
   "id": "union-huntington",
   "metadata": {
    "execution": {
     "iopub.execute_input": "2021-12-06T22:00:12.153828Z",
     "iopub.status.busy": "2021-12-06T22:00:12.151074Z",
     "iopub.status.idle": "2021-12-06T22:00:12.156475Z",
     "shell.execute_reply": "2021-12-06T22:00:12.158311Z"
    },
    "papermill": {
     "duration": 0.054614,
     "end_time": "2021-12-06T22:00:12.158916",
     "exception": false,
     "start_time": "2021-12-06T22:00:12.104302",
     "status": "completed"
    },
    "tags": []
   },
   "outputs": [],
   "source": [
    "df_pivot.columns = [\"stamp_1\", \"stamp_2\"]\n",
    "df_pivot_diff = df_pivot.diff(axis=1)"
   ]
  },
  {
   "cell_type": "code",
   "execution_count": 7,
   "id": "fifth-motion",
   "metadata": {
    "execution": {
     "iopub.execute_input": "2021-12-06T22:00:12.215099Z",
     "iopub.status.busy": "2021-12-06T22:00:12.212676Z",
     "iopub.status.idle": "2021-12-06T22:00:13.891155Z",
     "shell.execute_reply": "2021-12-06T22:00:13.892436Z"
    },
    "papermill": {
     "duration": 1.711821,
     "end_time": "2021-12-06T22:00:13.892926",
     "exception": false,
     "start_time": "2021-12-06T22:00:12.181105",
     "status": "completed"
    },
    "tags": []
   },
   "outputs": [
    {
     "data": {
      "text/plain": [
       "<AxesSubplot:ylabel='PRODUCT'>"
      ]
     },
     "execution_count": 7,
     "metadata": {},
     "output_type": "execute_result"
    },
    {
     "data": {
      "image/png": "[encoded data removed]",
      "text/plain": [
       "<Figure size 432x288 with 1 Axes>"
      ]
     },
     "metadata": {
      "needs_background": "light"
     },
     "output_type": "display_data"
    }
   ],
   "source": [
    "df_pivot_diff.sort_values(\"stamp_2\", ascending = False)[\"stamp_2\"].head(10).plot.barh()"
   ]
  },
  {
   "cell_type": "code",
   "execution_count": null,
   "id": "extra-executive",
   "metadata": {
    "papermill": {
     "duration": 0.021906,
     "end_time": "2021-12-06T22:00:13.939550",
     "exception": false,
     "start_time": "2021-12-06T22:00:13.917644",
     "status": "completed"
    },
    "tags": []
   },
   "outputs": [],
   "source": []
  }
 ],
 "metadata": {
  "kernelspec": {
   "display_name": "Python 3",
   "language": "python",
   "name": "python3"
  },
  "language_info": {
   "codemirror_mode": {
    "name": "ipython",
    "version": 3
   },
   "file_extension": ".py",
   "mimetype": "text/x-python",
   "name": "python",
   "nbconvert_exporter": "python",
   "pygments_lexer": "ipython3",
   "version": "3.9.5"
  },
  "papermill": {
   "default_parameters": {},
   "duration": 9.943389,
   "end_time": "2021-12-06T22:00:15.347811",
   "environment_variables": {},
   "exception": null,
   "input_path": "eBay_Overview.ipynb",
   "output_path": "eBay_Overview.ipynb",
   "parameters": {},
   "start_time": "2021-12-06T22:00:05.404422",
   "version": "2.3.3"
  }
 },
 "nbformat": 4,
 "nbformat_minor": 5
}