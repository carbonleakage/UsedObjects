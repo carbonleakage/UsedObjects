{
 "cells": [
  {
   "cell_type": "code",
   "execution_count": 1,
   "id": "reverse-picking",
   "metadata": {
    "execution": {
     "iopub.execute_input": "2021-08-18T13:30:06.751388Z",
     "iopub.status.busy": "2021-08-18T13:30:06.749375Z",
     "iopub.status.idle": "2021-08-18T13:30:07.554611Z",
     "shell.execute_reply": "2021-08-18T13:30:07.555875Z"
    },
    "papermill": {
     "duration": 0.856846,
     "end_time": "2021-08-18T13:30:07.556479",
     "exception": false,
     "start_time": "2021-08-18T13:30:06.699633",
     "status": "completed"
    },
    "tags": []
   },
   "outputs": [],
   "source": [
    "import pandas as pd\n",
    "import sqlite3"
   ]
  },
  {
   "cell_type": "code",
   "execution_count": 2,
   "id": "innovative-syndrome",
   "metadata": {
    "execution": {
     "iopub.execute_input": "2021-08-18T13:30:07.606470Z",
     "iopub.status.busy": "2021-08-18T13:30:07.604478Z",
     "iopub.status.idle": "2021-08-18T13:30:07.680418Z",
     "shell.execute_reply": "2021-08-18T13:30:07.681677Z"
    },
    "papermill": {
     "duration": 0.105207,
     "end_time": "2021-08-18T13:30:07.682147",
     "exception": false,
     "start_time": "2021-08-18T13:30:07.576940",
     "status": "completed"
    },
    "tags": []
   },
   "outputs": [],
   "source": [
    "timestamps = pd.read_sql(\"select distinct record_time from EBAY_TOP_BERLIN order by record_time desc limit 2\", sqlite3.connect(\"UsedObjects.db\"))"
   ]
  },
  {
   "cell_type": "code",
   "execution_count": 3,
   "id": "periodic-identification",
   "metadata": {
    "execution": {
     "iopub.execute_input": "2021-08-18T13:30:07.747603Z",
     "iopub.status.busy": "2021-08-18T13:30:07.745520Z",
     "iopub.status.idle": "2021-08-18T13:30:07.765146Z",
     "shell.execute_reply": "2021-08-18T13:30:07.766464Z"
    },
    "papermill": {
     "duration": 0.064513,
     "end_time": "2021-08-18T13:30:07.766880",
     "exception": false,
     "start_time": "2021-08-18T13:30:07.702367",
     "status": "completed"
    },
    "tags": []
   },
   "outputs": [
    {
     "data": {
      "text/html": [
       "<div>\n",
       "<style scoped>\n",
       "    .dataframe tbody tr th:only-of-type {\n",
       "        vertical-align: middle;\n",
       "    }\n",
       "\n",
       "    .dataframe tbody tr th {\n",
       "        vertical-align: top;\n",
       "    }\n",
       "\n",
       "    .dataframe thead th {\n",
       "        text-align: right;\n",
       "    }\n",
       "</style>\n",
       "<table border=\"1\" class=\"dataframe\">\n",
       "  <thead>\n",
       "    <tr style=\"text-align: right;\">\n",
       "      <th></th>\n",
       "      <th>RECORD_TIME</th>\n",
       "    </tr>\n",
       "  </thead>\n",
       "  <tbody>\n",
       "    <tr>\n",
       "      <th>0</th>\n",
       "      <td>2021-08-18 15:30</td>\n",
       "    </tr>\n",
       "    <tr>\n",
       "      <th>1</th>\n",
       "      <td>2021-08-18 15:00</td>\n",
       "    </tr>\n",
       "  </tbody>\n",
       "</table>\n",
       "</div>"
      ],
      "text/plain": [
       "        RECORD_TIME\n",
       "0  2021-08-18 15:30\n",
       "1  2021-08-18 15:00"
      ]
     },
     "execution_count": 3,
     "metadata": {},
     "output_type": "execute_result"
    }
   ],
   "source": [
    "timestamps"
   ]
  },
  {
   "cell_type": "code",
   "execution_count": 4,
   "id": "alternate-victory",
   "metadata": {
    "execution": {
     "iopub.execute_input": "2021-08-18T13:30:07.818112Z",
     "iopub.status.busy": "2021-08-18T13:30:07.816213Z",
     "iopub.status.idle": "2021-08-18T13:30:07.930784Z",
     "shell.execute_reply": "2021-08-18T13:30:07.932014Z"
    },
    "papermill": {
     "duration": 0.144195,
     "end_time": "2021-08-18T13:30:07.932405",
     "exception": false,
     "start_time": "2021-08-18T13:30:07.788210",
     "status": "completed"
    },
    "tags": []
   },
   "outputs": [],
   "source": [
    "df = pd.read_sql(\"select * from EBAY_TOP_BERLIN where record_time in (select distinct record_time from EBAY_TOP_BERLIN order by record_time desc limit 2)\", sqlite3.connect(\"UsedObjects.db\"))"
   ]
  },
  {
   "cell_type": "code",
   "execution_count": 5,
   "id": "popular-active",
   "metadata": {
    "execution": {
     "iopub.execute_input": "2021-08-18T13:30:08.002934Z",
     "iopub.status.busy": "2021-08-18T13:30:07.991777Z",
     "iopub.status.idle": "2021-08-18T13:30:08.019715Z",
     "shell.execute_reply": "2021-08-18T13:30:08.020992Z"
    },
    "papermill": {
     "duration": 0.067188,
     "end_time": "2021-08-18T13:30:08.021400",
     "exception": false,
     "start_time": "2021-08-18T13:30:07.954212",
     "status": "completed"
    },
    "tags": []
   },
   "outputs": [],
   "source": [
    "df_pivot = df.pivot_table(index=\"PRODUCT\", columns = \"RECORD_TIME\", values = \"LISTING_COUNT\")"
   ]
  },
  {
   "cell_type": "code",
   "execution_count": 6,
   "id": "union-huntington",
   "metadata": {
    "execution": {
     "iopub.execute_input": "2021-08-18T13:30:08.077511Z",
     "iopub.status.busy": "2021-08-18T13:30:08.075461Z",
     "iopub.status.idle": "2021-08-18T13:30:08.080971Z",
     "shell.execute_reply": "2021-08-18T13:30:08.082317Z"
    },
    "papermill": {
     "duration": 0.041364,
     "end_time": "2021-08-18T13:30:08.082730",
     "exception": false,
     "start_time": "2021-08-18T13:30:08.041366",
     "status": "completed"
    },
    "tags": []
   },
   "outputs": [],
   "source": [
    "df_pivot.columns = [\"stamp_1\", \"stamp_2\"]\n",
    "df_pivot_diff = df_pivot.diff(axis=1)"
   ]
  },
  {
   "cell_type": "code",
   "execution_count": 7,
   "id": "fifth-motion",
   "metadata": {
    "execution": {
     "iopub.execute_input": "2021-08-18T13:30:08.138655Z",
     "iopub.status.busy": "2021-08-18T13:30:08.136110Z",
     "iopub.status.idle": "2021-08-18T13:30:09.647142Z",
     "shell.execute_reply": "2021-08-18T13:30:09.648433Z"
    },
    "papermill": {
     "duration": 1.544836,
     "end_time": "2021-08-18T13:30:09.648845",
     "exception": false,
     "start_time": "2021-08-18T13:30:08.104009",
     "status": "completed"
    },
    "tags": []
   },
   "outputs": [
    {
     "data": {
      "text/plain": [
       "<AxesSubplot:ylabel='PRODUCT'>"
      ]
     },
     "execution_count": 7,
     "metadata": {},
     "output_type": "execute_result"
    },
    {
     "data": {
      "image/png": "[encoded data removed]",
      "text/plain": [
       "<Figure size 432x288 with 1 Axes>"
      ]
     },
     "metadata": {
      "needs_background": "light"
     },
     "output_type": "display_data"
    }
   ],
   "source": [
    "df_pivot_diff.sort_values(\"stamp_2\", ascending = False)[\"stamp_2\"].head(10).plot.barh()"
   ]
  },
  {
   "cell_type": "code",
   "execution_count": null,
   "id": "extra-executive",
   "metadata": {
    "papermill": {
     "duration": 0.021973,
     "end_time": "2021-08-18T13:30:09.695139",
     "exception": false,
     "start_time": "2021-08-18T13:30:09.673166",
     "status": "completed"
    },
    "tags": []
   },
   "outputs": [],
   "source": []
  }
 ],
 "metadata": {
  "kernelspec": {
   "display_name": "Python 3",
   "language": "python",
   "name": "python3"
  },
  "language_info": {
   "codemirror_mode": {
    "name": "ipython",
    "version": 3
   },
   "file_extension": ".py",
   "mimetype": "text/x-python",
   "name": "python",
   "nbconvert_exporter": "python",
   "pygments_lexer": "ipython3",
   "version": "3.9.5"
  },
  "papermill": {
   "default_parameters": {},
   "duration": 6.831778,
   "end_time": "2021-08-18T13:30:11.122228",
   "environment_variables": {},
   "exception": null,
   "input_path": "eBay_Overview.ipynb",
   "output_path": "eBay_Overview.ipynb",
   "parameters": {},
   "start_time": "2021-08-18T13:30:04.290450",
   "version": "2.3.3"
  }
 },
 "nbformat": 4,
 "nbformat_minor": 5
}