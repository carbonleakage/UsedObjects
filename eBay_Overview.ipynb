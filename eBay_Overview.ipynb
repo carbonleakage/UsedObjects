{
 "cells": [
  {
   "cell_type": "code",
   "execution_count": 1,
   "id": "reverse-picking",
   "metadata": {
    "execution": {
     "iopub.execute_input": "2021-09-05T22:00:06.737108Z",
     "iopub.status.busy": "2021-09-05T22:00:06.735155Z",
     "iopub.status.idle": "2021-09-05T22:00:07.546466Z",
     "shell.execute_reply": "2021-09-05T22:00:07.547952Z"
    },
    "papermill": {
     "duration": 0.863883,
     "end_time": "2021-09-05T22:00:07.548723",
     "exception": false,
     "start_time": "2021-09-05T22:00:06.684840",
     "status": "completed"
    },
    "tags": []
   },
   "outputs": [],
   "source": [
    "import pandas as pd\n",
    "import sqlite3"
   ]
  },
  {
   "cell_type": "code",
   "execution_count": 2,
   "id": "innovative-syndrome",
   "metadata": {
    "execution": {
     "iopub.execute_input": "2021-09-05T22:00:07.600882Z",
     "iopub.status.busy": "2021-09-05T22:00:07.598480Z",
     "iopub.status.idle": "2021-09-05T22:00:07.812992Z",
     "shell.execute_reply": "2021-09-05T22:00:07.814257Z"
    },
    "papermill": {
     "duration": 0.244494,
     "end_time": "2021-09-05T22:00:07.814666",
     "exception": false,
     "start_time": "2021-09-05T22:00:07.570172",
     "status": "completed"
    },
    "tags": []
   },
   "outputs": [],
   "source": [
    "timestamps = pd.read_sql(\"select distinct record_time from EBAY_TOP_BERLIN order by record_time desc limit 2\", sqlite3.connect(\"UsedObjects.db\"))"
   ]
  },
  {
   "cell_type": "code",
   "execution_count": 3,
   "id": "periodic-identification",
   "metadata": {
    "execution": {
     "iopub.execute_input": "2021-09-05T22:00:07.884480Z",
     "iopub.status.busy": "2021-09-05T22:00:07.879559Z",
     "iopub.status.idle": "2021-09-05T22:00:07.899515Z",
     "shell.execute_reply": "2021-09-05T22:00:07.900826Z"
    },
    "papermill": {
     "duration": 0.066934,
     "end_time": "2021-09-05T22:00:07.901232",
     "exception": false,
     "start_time": "2021-09-05T22:00:07.834298",
     "status": "completed"
    },
    "tags": []
   },
   "outputs": [
    {
     "data": {
      "text/html": [
       "<div>\n",
       "<style scoped>\n",
       "    .dataframe tbody tr th:only-of-type {\n",
       "        vertical-align: middle;\n",
       "    }\n",
       "\n",
       "    .dataframe tbody tr th {\n",
       "        vertical-align: top;\n",
       "    }\n",
       "\n",
       "    .dataframe thead th {\n",
       "        text-align: right;\n",
       "    }\n",
       "</style>\n",
       "<table border=\"1\" class=\"dataframe\">\n",
       "  <thead>\n",
       "    <tr style=\"text-align: right;\">\n",
       "      <th></th>\n",
       "      <th>RECORD_TIME</th>\n",
       "    </tr>\n",
       "  </thead>\n",
       "  <tbody>\n",
       "    <tr>\n",
       "      <th>0</th>\n",
       "      <td>2021-09-06 00:00</td>\n",
       "    </tr>\n",
       "    <tr>\n",
       "      <th>1</th>\n",
       "      <td>2021-09-05 23:30</td>\n",
       "    </tr>\n",
       "  </tbody>\n",
       "</table>\n",
       "</div>"
      ],
      "text/plain": [
       "        RECORD_TIME\n",
       "0  2021-09-06 00:00\n",
       "1  2021-09-05 23:30"
      ]
     },
     "execution_count": 3,
     "metadata": {},
     "output_type": "execute_result"
    }
   ],
   "source": [
    "timestamps"
   ]
  },
  {
   "cell_type": "code",
   "execution_count": 4,
   "id": "alternate-victory",
   "metadata": {
    "execution": {
     "iopub.execute_input": "2021-09-05T22:00:07.952799Z",
     "iopub.status.busy": "2021-09-05T22:00:07.950565Z",
     "iopub.status.idle": "2021-09-05T22:00:08.267926Z",
     "shell.execute_reply": "2021-09-05T22:00:08.269150Z"
    },
    "papermill": {
     "duration": 0.347206,
     "end_time": "2021-09-05T22:00:08.269539",
     "exception": false,
     "start_time": "2021-09-05T22:00:07.922333",
     "status": "completed"
    },
    "tags": []
   },
   "outputs": [],
   "source": [
    "df = pd.read_sql(\"select * from EBAY_TOP_BERLIN where record_time in (select distinct record_time from EBAY_TOP_BERLIN order by record_time desc limit 2)\", sqlite3.connect(\"UsedObjects.db\"))"
   ]
  },
  {
   "cell_type": "code",
   "execution_count": 5,
   "id": "popular-active",
   "metadata": {
    "execution": {
     "iopub.execute_input": "2021-09-05T22:00:08.369868Z",
     "iopub.status.busy": "2021-09-05T22:00:08.358805Z",
     "iopub.status.idle": "2021-09-05T22:00:08.386376Z",
     "shell.execute_reply": "2021-09-05T22:00:08.387584Z"
    },
    "papermill": {
     "duration": 0.075801,
     "end_time": "2021-09-05T22:00:08.387998",
     "exception": false,
     "start_time": "2021-09-05T22:00:08.312197",
     "status": "completed"
    },
    "tags": []
   },
   "outputs": [],
   "source": [
    "df_pivot = df.pivot_table(index=\"PRODUCT\", columns = \"RECORD_TIME\", values = \"LISTING_COUNT\")"
   ]
  },
  {
   "cell_type": "code",
   "execution_count": 6,
   "id": "union-huntington",
   "metadata": {
    "execution": {
     "iopub.execute_input": "2021-09-05T22:00:08.446460Z",
     "iopub.status.busy": "2021-09-05T22:00:08.444210Z",
     "iopub.status.idle": "2021-09-05T22:00:08.450079Z",
     "shell.execute_reply": "2021-09-05T22:00:08.451612Z"
    },
    "papermill": {
     "duration": 0.041869,
     "end_time": "2021-09-05T22:00:08.452076",
     "exception": false,
     "start_time": "2021-09-05T22:00:08.410207",
     "status": "completed"
    },
    "tags": []
   },
   "outputs": [],
   "source": [
    "df_pivot.columns = [\"stamp_1\", \"stamp_2\"]\n",
    "df_pivot_diff = df_pivot.diff(axis=1)"
   ]
  },
  {
   "cell_type": "code",
   "execution_count": 7,
   "id": "fifth-motion",
   "metadata": {
    "execution": {
     "iopub.execute_input": "2021-09-05T22:00:08.506131Z",
     "iopub.status.busy": "2021-09-05T22:00:08.503940Z",
     "iopub.status.idle": "2021-09-05T22:00:10.012027Z",
     "shell.execute_reply": "2021-09-05T22:00:10.013236Z"
    },
    "papermill": {
     "duration": 1.540559,
     "end_time": "2021-09-05T22:00:10.013661",
     "exception": false,
     "start_time": "2021-09-05T22:00:08.473102",
     "status": "completed"
    },
    "tags": []
   },
   "outputs": [
    {
     "data": {
      "text/plain": [
       "<AxesSubplot:ylabel='PRODUCT'>"
      ]
     },
     "execution_count": 7,
     "metadata": {},
     "output_type": "execute_result"
    },
    {
     "data": {
      "image/png": "[encoded data removed]",
      "text/plain": [
       "<Figure size 432x288 with 1 Axes>"
      ]
     },
     "metadata": {
      "needs_background": "light"
     },
     "output_type": "display_data"
    }
   ],
   "source": [
    "df_pivot_diff.sort_values(\"stamp_2\", ascending = False)[\"stamp_2\"].head(10).plot.barh()"
   ]
  },
  {
   "cell_type": "code",
   "execution_count": null,
   "id": "extra-executive",
   "metadata": {
    "papermill": {
     "duration": 0.022365,
     "end_time": "2021-09-05T22:00:10.063150",
     "exception": false,
     "start_time": "2021-09-05T22:00:10.040785",
     "status": "completed"
    },
    "tags": []
   },
   "outputs": [],
   "source": []
  }
 ],
 "metadata": {
  "kernelspec": {
   "display_name": "Python 3",
   "language": "python",
   "name": "python3"
  },
  "language_info": {
   "codemirror_mode": {
    "name": "ipython",
    "version": 3
   },
   "file_extension": ".py",
   "mimetype": "text/x-python",
   "name": "python",
   "nbconvert_exporter": "python",
   "pygments_lexer": "ipython3",
   "version": "3.9.5"
  },
  "papermill": {
   "default_parameters": {},
   "duration": 6.43499,
   "end_time": "2021-09-05T22:00:10.704893",
   "environment_variables": {},
   "exception": null,
   "input_path": "eBay_Overview.ipynb",
   "output_path": "eBay_Overview.ipynb",
   "parameters": {},
   "start_time": "2021-09-05T22:00:04.269903",
   "version": "2.3.3"
  }
 },
 "nbformat": 4,
 "nbformat_minor": 5
}