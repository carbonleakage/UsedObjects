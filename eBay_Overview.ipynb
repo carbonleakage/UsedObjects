{
 "cells": [
  {
   "cell_type": "code",
   "execution_count": 1,
   "id": "reverse-picking",
   "metadata": {
    "execution": {
     "iopub.execute_input": "2021-10-28T18:00:07.004159Z",
     "iopub.status.busy": "2021-10-28T18:00:07.002264Z",
     "iopub.status.idle": "2021-10-28T18:00:07.806386Z",
     "shell.execute_reply": "2021-10-28T18:00:07.807679Z"
    },
    "papermill": {
     "duration": 0.855985,
     "end_time": "2021-10-28T18:00:07.808359",
     "exception": false,
     "start_time": "2021-10-28T18:00:06.952374",
     "status": "completed"
    },
    "tags": []
   },
   "outputs": [],
   "source": [
    "import pandas as pd\n",
    "import sqlite3"
   ]
  },
  {
   "cell_type": "code",
   "execution_count": 2,
   "id": "innovative-syndrome",
   "metadata": {
    "execution": {
     "iopub.execute_input": "2021-10-28T18:00:07.859296Z",
     "iopub.status.busy": "2021-10-28T18:00:07.857007Z",
     "iopub.status.idle": "2021-10-28T18:00:08.516239Z",
     "shell.execute_reply": "2021-10-28T18:00:08.517599Z"
    },
    "papermill": {
     "duration": 0.689555,
     "end_time": "2021-10-28T18:00:08.518030",
     "exception": false,
     "start_time": "2021-10-28T18:00:07.828475",
     "status": "completed"
    },
    "tags": []
   },
   "outputs": [],
   "source": [
    "timestamps = pd.read_sql(\"select distinct record_time from EBAY_TOP_BERLIN order by record_time desc limit 2\", sqlite3.connect(\"UsedObjects.db\"))"
   ]
  },
  {
   "cell_type": "code",
   "execution_count": 3,
   "id": "periodic-identification",
   "metadata": {
    "execution": {
     "iopub.execute_input": "2021-10-28T18:00:08.593765Z",
     "iopub.status.busy": "2021-10-28T18:00:08.591681Z",
     "iopub.status.idle": "2021-10-28T18:00:08.612453Z",
     "shell.execute_reply": "2021-10-28T18:00:08.613925Z"
    },
    "papermill": {
     "duration": 0.071366,
     "end_time": "2021-10-28T18:00:08.614370",
     "exception": false,
     "start_time": "2021-10-28T18:00:08.543004",
     "status": "completed"
    },
    "tags": []
   },
   "outputs": [
    {
     "data": {
      "text/html": [
       "<div>\n",
       "<style scoped>\n",
       "    .dataframe tbody tr th:only-of-type {\n",
       "        vertical-align: middle;\n",
       "    }\n",
       "\n",
       "    .dataframe tbody tr th {\n",
       "        vertical-align: top;\n",
       "    }\n",
       "\n",
       "    .dataframe thead th {\n",
       "        text-align: right;\n",
       "    }\n",
       "</style>\n",
       "<table border=\"1\" class=\"dataframe\">\n",
       "  <thead>\n",
       "    <tr style=\"text-align: right;\">\n",
       "      <th></th>\n",
       "      <th>RECORD_TIME</th>\n",
       "    </tr>\n",
       "  </thead>\n",
       "  <tbody>\n",
       "    <tr>\n",
       "      <th>0</th>\n",
       "      <td>2021-10-28 20:00</td>\n",
       "    </tr>\n",
       "    <tr>\n",
       "      <th>1</th>\n",
       "      <td>2021-10-28 19:30</td>\n",
       "    </tr>\n",
       "  </tbody>\n",
       "</table>\n",
       "</div>"
      ],
      "text/plain": [
       "        RECORD_TIME\n",
       "0  2021-10-28 20:00\n",
       "1  2021-10-28 19:30"
      ]
     },
     "execution_count": 3,
     "metadata": {},
     "output_type": "execute_result"
    }
   ],
   "source": [
    "timestamps"
   ]
  },
  {
   "cell_type": "code",
   "execution_count": 4,
   "id": "alternate-victory",
   "metadata": {
    "execution": {
     "iopub.execute_input": "2021-10-28T18:00:08.665653Z",
     "iopub.status.busy": "2021-10-28T18:00:08.663573Z",
     "iopub.status.idle": "2021-10-28T18:00:09.632812Z",
     "shell.execute_reply": "2021-10-28T18:00:09.634033Z"
    },
    "papermill": {
     "duration": 0.998925,
     "end_time": "2021-10-28T18:00:09.634431",
     "exception": false,
     "start_time": "2021-10-28T18:00:08.635506",
     "status": "completed"
    },
    "tags": []
   },
   "outputs": [],
   "source": [
    "df = pd.read_sql(\"select * from EBAY_TOP_BERLIN where record_time in (select distinct record_time from EBAY_TOP_BERLIN order by record_time desc limit 2)\", sqlite3.connect(\"UsedObjects.db\"))"
   ]
  },
  {
   "cell_type": "code",
   "execution_count": 5,
   "id": "popular-active",
   "metadata": {
    "execution": {
     "iopub.execute_input": "2021-10-28T18:00:09.704904Z",
     "iopub.status.busy": "2021-10-28T18:00:09.692025Z",
     "iopub.status.idle": "2021-10-28T18:00:09.722009Z",
     "shell.execute_reply": "2021-10-28T18:00:09.720629Z"
    },
    "papermill": {
     "duration": 0.067503,
     "end_time": "2021-10-28T18:00:09.722344",
     "exception": false,
     "start_time": "2021-10-28T18:00:09.654841",
     "status": "completed"
    },
    "tags": []
   },
   "outputs": [],
   "source": [
    "df_pivot = df.pivot_table(index=\"PRODUCT\", columns = \"RECORD_TIME\", values = \"LISTING_COUNT\")"
   ]
  },
  {
   "cell_type": "code",
   "execution_count": 6,
   "id": "union-huntington",
   "metadata": {
    "execution": {
     "iopub.execute_input": "2021-10-28T18:00:09.777939Z",
     "iopub.status.busy": "2021-10-28T18:00:09.775862Z",
     "iopub.status.idle": "2021-10-28T18:00:09.781376Z",
     "shell.execute_reply": "2021-10-28T18:00:09.782656Z"
    },
    "papermill": {
     "duration": 0.040205,
     "end_time": "2021-10-28T18:00:09.783070",
     "exception": false,
     "start_time": "2021-10-28T18:00:09.742865",
     "status": "completed"
    },
    "tags": []
   },
   "outputs": [],
   "source": [
    "df_pivot.columns = [\"stamp_1\", \"stamp_2\"]\n",
    "df_pivot_diff = df_pivot.diff(axis=1)"
   ]
  },
  {
   "cell_type": "code",
   "execution_count": 7,
   "id": "fifth-motion",
   "metadata": {
    "execution": {
     "iopub.execute_input": "2021-10-28T18:00:09.836479Z",
     "iopub.status.busy": "2021-10-28T18:00:09.834117Z",
     "iopub.status.idle": "2021-10-28T18:00:11.321103Z",
     "shell.execute_reply": "2021-10-28T18:00:11.322375Z"
    },
    "papermill": {
     "duration": 1.519374,
     "end_time": "2021-10-28T18:00:11.322791",
     "exception": false,
     "start_time": "2021-10-28T18:00:09.803417",
     "status": "completed"
    },
    "tags": []
   },
   "outputs": [
    {
     "data": {
      "text/plain": [
       "<AxesSubplot:ylabel='PRODUCT'>"
      ]
     },
     "execution_count": 7,
     "metadata": {},
     "output_type": "execute_result"
    },
    {
     "data": {
      "image/png": "[encoded data removed]",
      "text/plain": [
       "<Figure size 432x288 with 1 Axes>"
      ]
     },
     "metadata": {
      "needs_background": "light"
     },
     "output_type": "display_data"
    }
   ],
   "source": [
    "df_pivot_diff.sort_values(\"stamp_2\", ascending = False)[\"stamp_2\"].head(10).plot.barh()"
   ]
  },
  {
   "cell_type": "code",
   "execution_count": null,
   "id": "extra-executive",
   "metadata": {
    "papermill": {
     "duration": 0.022247,
     "end_time": "2021-10-28T18:00:11.369740",
     "exception": false,
     "start_time": "2021-10-28T18:00:11.347493",
     "status": "completed"
    },
    "tags": []
   },
   "outputs": [],
   "source": []
  }
 ],
 "metadata": {
  "kernelspec": {
   "display_name": "Python 3",
   "language": "python",
   "name": "python3"
  },
  "language_info": {
   "codemirror_mode": {
    "name": "ipython",
    "version": 3
   },
   "file_extension": ".py",
   "mimetype": "text/x-python",
   "name": "python",
   "nbconvert_exporter": "python",
   "pygments_lexer": "ipython3",
   "version": "3.9.5"
  },
  "papermill": {
   "default_parameters": {},
   "duration": 7.457201,
   "end_time": "2021-10-28T18:00:12.012922",
   "environment_variables": {},
   "exception": null,
   "input_path": "eBay_Overview.ipynb",
   "output_path": "eBay_Overview.ipynb",
   "parameters": {},
   "start_time": "2021-10-28T18:00:04.555721",
   "version": "2.3.3"
  }
 },
 "nbformat": 4,
 "nbformat_minor": 5
}