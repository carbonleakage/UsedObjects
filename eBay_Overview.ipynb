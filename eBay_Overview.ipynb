{
 "cells": [
  {
   "cell_type": "code",
   "execution_count": 1,
   "id": "reverse-picking",
   "metadata": {
    "execution": {
     "iopub.execute_input": "2021-08-29T13:00:07.340692Z",
     "iopub.status.busy": "2021-08-29T13:00:07.338628Z",
     "iopub.status.idle": "2021-08-29T13:00:08.140196Z",
     "shell.execute_reply": "2021-08-29T13:00:08.141585Z"
    },
    "papermill": {
     "duration": 0.851473,
     "end_time": "2021-08-29T13:00:08.142209",
     "exception": false,
     "start_time": "2021-08-29T13:00:07.290736",
     "status": "completed"
    },
    "tags": []
   },
   "outputs": [],
   "source": [
    "import pandas as pd\n",
    "import sqlite3"
   ]
  },
  {
   "cell_type": "code",
   "execution_count": 2,
   "id": "innovative-syndrome",
   "metadata": {
    "execution": {
     "iopub.execute_input": "2021-08-29T13:00:08.195785Z",
     "iopub.status.busy": "2021-08-29T13:00:08.193497Z",
     "iopub.status.idle": "2021-08-29T13:00:08.350959Z",
     "shell.execute_reply": "2021-08-29T13:00:08.352149Z"
    },
    "papermill": {
     "duration": 0.187319,
     "end_time": "2021-08-29T13:00:08.352625",
     "exception": false,
     "start_time": "2021-08-29T13:00:08.165306",
     "status": "completed"
    },
    "tags": []
   },
   "outputs": [],
   "source": [
    "timestamps = pd.read_sql(\"select distinct record_time from EBAY_TOP_BERLIN order by record_time desc limit 2\", sqlite3.connect(\"UsedObjects.db\"))"
   ]
  },
  {
   "cell_type": "code",
   "execution_count": 3,
   "id": "periodic-identification",
   "metadata": {
    "execution": {
     "iopub.execute_input": "2021-08-29T13:00:08.419188Z",
     "iopub.status.busy": "2021-08-29T13:00:08.413760Z",
     "iopub.status.idle": "2021-08-29T13:00:08.433382Z",
     "shell.execute_reply": "2021-08-29T13:00:08.434593Z"
    },
    "papermill": {
     "duration": 0.062976,
     "end_time": "2021-08-29T13:00:08.434982",
     "exception": false,
     "start_time": "2021-08-29T13:00:08.372006",
     "status": "completed"
    },
    "tags": []
   },
   "outputs": [
    {
     "data": {
      "text/html": [
       "<div>\n",
       "<style scoped>\n",
       "    .dataframe tbody tr th:only-of-type {\n",
       "        vertical-align: middle;\n",
       "    }\n",
       "\n",
       "    .dataframe tbody tr th {\n",
       "        vertical-align: top;\n",
       "    }\n",
       "\n",
       "    .dataframe thead th {\n",
       "        text-align: right;\n",
       "    }\n",
       "</style>\n",
       "<table border=\"1\" class=\"dataframe\">\n",
       "  <thead>\n",
       "    <tr style=\"text-align: right;\">\n",
       "      <th></th>\n",
       "      <th>RECORD_TIME</th>\n",
       "    </tr>\n",
       "  </thead>\n",
       "  <tbody>\n",
       "    <tr>\n",
       "      <th>0</th>\n",
       "      <td>2021-08-29 15:00</td>\n",
       "    </tr>\n",
       "    <tr>\n",
       "      <th>1</th>\n",
       "      <td>2021-08-29 14:30</td>\n",
       "    </tr>\n",
       "  </tbody>\n",
       "</table>\n",
       "</div>"
      ],
      "text/plain": [
       "        RECORD_TIME\n",
       "0  2021-08-29 15:00\n",
       "1  2021-08-29 14:30"
      ]
     },
     "execution_count": 3,
     "metadata": {},
     "output_type": "execute_result"
    }
   ],
   "source": [
    "timestamps"
   ]
  },
  {
   "cell_type": "code",
   "execution_count": 4,
   "id": "alternate-victory",
   "metadata": {
    "execution": {
     "iopub.execute_input": "2021-08-29T13:00:08.486646Z",
     "iopub.status.busy": "2021-08-29T13:00:08.484500Z",
     "iopub.status.idle": "2021-08-29T13:00:08.726374Z",
     "shell.execute_reply": "2021-08-29T13:00:08.727653Z"
    },
    "papermill": {
     "duration": 0.272018,
     "end_time": "2021-08-29T13:00:08.728064",
     "exception": false,
     "start_time": "2021-08-29T13:00:08.456046",
     "status": "completed"
    },
    "tags": []
   },
   "outputs": [],
   "source": [
    "df = pd.read_sql(\"select * from EBAY_TOP_BERLIN where record_time in (select distinct record_time from EBAY_TOP_BERLIN order by record_time desc limit 2)\", sqlite3.connect(\"UsedObjects.db\"))"
   ]
  },
  {
   "cell_type": "code",
   "execution_count": 5,
   "id": "popular-active",
   "metadata": {
    "execution": {
     "iopub.execute_input": "2021-08-29T13:00:08.806189Z",
     "iopub.status.busy": "2021-08-29T13:00:08.794258Z",
     "iopub.status.idle": "2021-08-29T13:00:08.822347Z",
     "shell.execute_reply": "2021-08-29T13:00:08.823553Z"
    },
    "papermill": {
     "duration": 0.075268,
     "end_time": "2021-08-29T13:00:08.823942",
     "exception": false,
     "start_time": "2021-08-29T13:00:08.748674",
     "status": "completed"
    },
    "tags": []
   },
   "outputs": [],
   "source": [
    "df_pivot = df.pivot_table(index=\"PRODUCT\", columns = \"RECORD_TIME\", values = \"LISTING_COUNT\")"
   ]
  },
  {
   "cell_type": "code",
   "execution_count": 6,
   "id": "union-huntington",
   "metadata": {
    "execution": {
     "iopub.execute_input": "2021-08-29T13:00:08.879279Z",
     "iopub.status.busy": "2021-08-29T13:00:08.877259Z",
     "iopub.status.idle": "2021-08-29T13:00:08.882453Z",
     "shell.execute_reply": "2021-08-29T13:00:08.883726Z"
    },
    "papermill": {
     "duration": 0.040203,
     "end_time": "2021-08-29T13:00:08.884134",
     "exception": false,
     "start_time": "2021-08-29T13:00:08.843931",
     "status": "completed"
    },
    "tags": []
   },
   "outputs": [],
   "source": [
    "df_pivot.columns = [\"stamp_1\", \"stamp_2\"]\n",
    "df_pivot_diff = df_pivot.diff(axis=1)"
   ]
  },
  {
   "cell_type": "code",
   "execution_count": 7,
   "id": "fifth-motion",
   "metadata": {
    "execution": {
     "iopub.execute_input": "2021-08-29T13:00:08.939775Z",
     "iopub.status.busy": "2021-08-29T13:00:08.937511Z",
     "iopub.status.idle": "2021-08-29T13:00:10.400515Z",
     "shell.execute_reply": "2021-08-29T13:00:10.401820Z"
    },
    "papermill": {
     "duration": 1.496198,
     "end_time": "2021-08-29T13:00:10.402234",
     "exception": false,
     "start_time": "2021-08-29T13:00:08.906036",
     "status": "completed"
    },
    "tags": []
   },
   "outputs": [
    {
     "data": {
      "text/plain": [
       "<AxesSubplot:ylabel='PRODUCT'>"
      ]
     },
     "execution_count": 7,
     "metadata": {},
     "output_type": "execute_result"
    },
    {
     "data": {
      "image/png": "[encoded data removed]",
      "text/plain": [
       "<Figure size 432x288 with 1 Axes>"
      ]
     },
     "metadata": {
      "needs_background": "light"
     },
     "output_type": "display_data"
    }
   ],
   "source": [
    "df_pivot_diff.sort_values(\"stamp_2\", ascending = False)[\"stamp_2\"].head(10).plot.barh()"
   ]
  },
  {
   "cell_type": "code",
   "execution_count": null,
   "id": "extra-executive",
   "metadata": {
    "papermill": {
     "duration": 0.022162,
     "end_time": "2021-08-29T13:00:10.449098",
     "exception": false,
     "start_time": "2021-08-29T13:00:10.426936",
     "status": "completed"
    },
    "tags": []
   },
   "outputs": [],
   "source": []
  }
 ],
 "metadata": {
  "kernelspec": {
   "display_name": "Python 3",
   "language": "python",
   "name": "python3"
  },
  "language_info": {
   "codemirror_mode": {
    "name": "ipython",
    "version": 3
   },
   "file_extension": ".py",
   "mimetype": "text/x-python",
   "name": "python",
   "nbconvert_exporter": "python",
   "pygments_lexer": "ipython3",
   "version": "3.9.5"
  },
  "papermill": {
   "default_parameters": {},
   "duration": 6.82222,
   "end_time": "2021-08-29T13:00:11.708122",
   "environment_variables": {},
   "exception": null,
   "input_path": "eBay_Overview.ipynb",
   "output_path": "eBay_Overview.ipynb",
   "parameters": {},
   "start_time": "2021-08-29T13:00:04.885902",
   "version": "2.3.3"
  }
 },
 "nbformat": 4,
 "nbformat_minor": 5
}