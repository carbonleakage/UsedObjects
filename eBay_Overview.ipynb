{
 "cells": [
  {
   "cell_type": "code",
   "execution_count": 1,
   "id": "reverse-picking",
   "metadata": {
    "execution": {
     "iopub.execute_input": "2021-08-21T04:30:06.647919Z",
     "iopub.status.busy": "2021-08-21T04:30:06.645988Z",
     "iopub.status.idle": "2021-08-21T04:30:07.453256Z",
     "shell.execute_reply": "2021-08-21T04:30:07.454589Z"
    },
    "papermill": {
     "duration": 0.858613,
     "end_time": "2021-08-21T04:30:07.455209",
     "exception": false,
     "start_time": "2021-08-21T04:30:06.596596",
     "status": "completed"
    },
    "tags": []
   },
   "outputs": [],
   "source": [
    "import pandas as pd\n",
    "import sqlite3"
   ]
  },
  {
   "cell_type": "code",
   "execution_count": 2,
   "id": "innovative-syndrome",
   "metadata": {
    "execution": {
     "iopub.execute_input": "2021-08-21T04:30:07.505461Z",
     "iopub.status.busy": "2021-08-21T04:30:07.503625Z",
     "iopub.status.idle": "2021-08-21T04:30:07.599642Z",
     "shell.execute_reply": "2021-08-21T04:30:07.600767Z"
    },
    "papermill": {
     "duration": 0.125267,
     "end_time": "2021-08-21T04:30:07.601165",
     "exception": false,
     "start_time": "2021-08-21T04:30:07.475898",
     "status": "completed"
    },
    "tags": []
   },
   "outputs": [],
   "source": [
    "timestamps = pd.read_sql(\"select distinct record_time from EBAY_TOP_BERLIN order by record_time desc limit 2\", sqlite3.connect(\"UsedObjects.db\"))"
   ]
  },
  {
   "cell_type": "code",
   "execution_count": 3,
   "id": "periodic-identification",
   "metadata": {
    "execution": {
     "iopub.execute_input": "2021-08-21T04:30:07.669486Z",
     "iopub.status.busy": "2021-08-21T04:30:07.667493Z",
     "iopub.status.idle": "2021-08-21T04:30:07.688659Z",
     "shell.execute_reply": "2021-08-21T04:30:07.690079Z"
    },
    "papermill": {
     "duration": 0.067737,
     "end_time": "2021-08-21T04:30:07.690556",
     "exception": false,
     "start_time": "2021-08-21T04:30:07.622819",
     "status": "completed"
    },
    "tags": []
   },
   "outputs": [
    {
     "data": {
      "text/html": [
       "<div>\n",
       "<style scoped>\n",
       "    .dataframe tbody tr th:only-of-type {\n",
       "        vertical-align: middle;\n",
       "    }\n",
       "\n",
       "    .dataframe tbody tr th {\n",
       "        vertical-align: top;\n",
       "    }\n",
       "\n",
       "    .dataframe thead th {\n",
       "        text-align: right;\n",
       "    }\n",
       "</style>\n",
       "<table border=\"1\" class=\"dataframe\">\n",
       "  <thead>\n",
       "    <tr style=\"text-align: right;\">\n",
       "      <th></th>\n",
       "      <th>RECORD_TIME</th>\n",
       "    </tr>\n",
       "  </thead>\n",
       "  <tbody>\n",
       "    <tr>\n",
       "      <th>0</th>\n",
       "      <td>2021-08-21 06:30</td>\n",
       "    </tr>\n",
       "    <tr>\n",
       "      <th>1</th>\n",
       "      <td>2021-08-21 06:00</td>\n",
       "    </tr>\n",
       "  </tbody>\n",
       "</table>\n",
       "</div>"
      ],
      "text/plain": [
       "        RECORD_TIME\n",
       "0  2021-08-21 06:30\n",
       "1  2021-08-21 06:00"
      ]
     },
     "execution_count": 3,
     "metadata": {},
     "output_type": "execute_result"
    }
   ],
   "source": [
    "timestamps"
   ]
  },
  {
   "cell_type": "code",
   "execution_count": 4,
   "id": "alternate-victory",
   "metadata": {
    "execution": {
     "iopub.execute_input": "2021-08-21T04:30:07.741675Z",
     "iopub.status.busy": "2021-08-21T04:30:07.739879Z",
     "iopub.status.idle": "2021-08-21T04:30:07.878739Z",
     "shell.execute_reply": "2021-08-21T04:30:07.879967Z"
    },
    "papermill": {
     "duration": 0.168754,
     "end_time": "2021-08-21T04:30:07.880355",
     "exception": false,
     "start_time": "2021-08-21T04:30:07.711601",
     "status": "completed"
    },
    "tags": []
   },
   "outputs": [],
   "source": [
    "df = pd.read_sql(\"select * from EBAY_TOP_BERLIN where record_time in (select distinct record_time from EBAY_TOP_BERLIN order by record_time desc limit 2)\", sqlite3.connect(\"UsedObjects.db\"))"
   ]
  },
  {
   "cell_type": "code",
   "execution_count": 5,
   "id": "popular-active",
   "metadata": {
    "execution": {
     "iopub.execute_input": "2021-08-21T04:30:07.949303Z",
     "iopub.status.busy": "2021-08-21T04:30:07.937861Z",
     "iopub.status.idle": "2021-08-21T04:30:07.965495Z",
     "shell.execute_reply": "2021-08-21T04:30:07.966947Z"
    },
    "papermill": {
     "duration": 0.06671,
     "end_time": "2021-08-21T04:30:07.967358",
     "exception": false,
     "start_time": "2021-08-21T04:30:07.900648",
     "status": "completed"
    },
    "tags": []
   },
   "outputs": [],
   "source": [
    "df_pivot = df.pivot_table(index=\"PRODUCT\", columns = \"RECORD_TIME\", values = \"LISTING_COUNT\")"
   ]
  },
  {
   "cell_type": "code",
   "execution_count": 6,
   "id": "union-huntington",
   "metadata": {
    "execution": {
     "iopub.execute_input": "2021-08-21T04:30:08.026196Z",
     "iopub.status.busy": "2021-08-21T04:30:08.023696Z",
     "iopub.status.idle": "2021-08-21T04:30:08.029559Z",
     "shell.execute_reply": "2021-08-21T04:30:08.030843Z"
    },
    "papermill": {
     "duration": 0.042622,
     "end_time": "2021-08-21T04:30:08.031276",
     "exception": false,
     "start_time": "2021-08-21T04:30:07.988654",
     "status": "completed"
    },
    "tags": []
   },
   "outputs": [],
   "source": [
    "df_pivot.columns = [\"stamp_1\", \"stamp_2\"]\n",
    "df_pivot_diff = df_pivot.diff(axis=1)"
   ]
  },
  {
   "cell_type": "code",
   "execution_count": 7,
   "id": "fifth-motion",
   "metadata": {
    "execution": {
     "iopub.execute_input": "2021-08-21T04:30:08.090985Z",
     "iopub.status.busy": "2021-08-21T04:30:08.088558Z",
     "iopub.status.idle": "2021-08-21T04:30:09.566950Z",
     "shell.execute_reply": "2021-08-21T04:30:09.568265Z"
    },
    "papermill": {
     "duration": 1.515786,
     "end_time": "2021-08-21T04:30:09.568679",
     "exception": false,
     "start_time": "2021-08-21T04:30:08.052893",
     "status": "completed"
    },
    "tags": []
   },
   "outputs": [
    {
     "data": {
      "text/plain": [
       "<AxesSubplot:ylabel='PRODUCT'>"
      ]
     },
     "execution_count": 7,
     "metadata": {},
     "output_type": "execute_result"
    },
    {
     "data": {
      "image/png": "[encoded data removed]",
      "text/plain": [
       "<Figure size 432x288 with 1 Axes>"
      ]
     },
     "metadata": {
      "needs_background": "light"
     },
     "output_type": "display_data"
    }
   ],
   "source": [
    "df_pivot_diff.sort_values(\"stamp_2\", ascending = False)[\"stamp_2\"].head(10).plot.barh()"
   ]
  },
  {
   "cell_type": "code",
   "execution_count": null,
   "id": "extra-executive",
   "metadata": {
    "papermill": {
     "duration": 0.022087,
     "end_time": "2021-08-21T04:30:09.615165",
     "exception": false,
     "start_time": "2021-08-21T04:30:09.593078",
     "status": "completed"
    },
    "tags": []
   },
   "outputs": [],
   "source": []
  }
 ],
 "metadata": {
  "kernelspec": {
   "display_name": "Python 3",
   "language": "python",
   "name": "python3"
  },
  "language_info": {
   "codemirror_mode": {
    "name": "ipython",
    "version": 3
   },
   "file_extension": ".py",
   "mimetype": "text/x-python",
   "name": "python",
   "nbconvert_exporter": "python",
   "pygments_lexer": "ipython3",
   "version": "3.9.5"
  },
  "papermill": {
   "default_parameters": {},
   "duration": 6.828698,
   "end_time": "2021-08-21T04:30:11.011043",
   "environment_variables": {},
   "exception": null,
   "input_path": "eBay_Overview.ipynb",
   "output_path": "eBay_Overview.ipynb",
   "parameters": {},
   "start_time": "2021-08-21T04:30:04.182345",
   "version": "2.3.3"
  }
 },
 "nbformat": 4,
 "nbformat_minor": 5
}